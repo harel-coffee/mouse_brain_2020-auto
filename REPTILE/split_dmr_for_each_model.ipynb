{
 "cells": [
  {
   "cell_type": "code",
   "execution_count": 1,
   "metadata": {
    "ExecuteTime": {
     "end_time": "2020-02-14T05:26:37.889432Z",
     "start_time": "2020-02-14T05:26:37.751520Z"
    }
   },
   "outputs": [],
   "source": [
    "import pandas as pd"
   ]
  },
  {
   "cell_type": "code",
   "execution_count": 2,
   "metadata": {
    "ExecuteTime": {
     "end_time": "2020-02-14T05:26:38.496021Z",
     "start_time": "2020-02-14T05:26:38.112177Z"
    }
   },
   "outputs": [
    {
     "name": "stderr",
     "output_type": "stream",
     "text": [
      "/home/hanliu/miniconda3/envs/clustering/lib/python3.7/site-packages/IPython/core/interactiveshell.py:3326: FutureWarning: The read_msgpack is deprecated and will be removed in a future version.\n",
      "It is recommended to use pyarrow for on-the-wire transmission of pandas objects.\n",
      "  exec(code_obj, self.user_global_ns, self.user_ns)\n"
     ]
    }
   ],
   "source": [
    "cell_tidy_data = pd.read_msgpack(\n",
    "    '/home/hanliu/project/mouse_rostral_brain/study/ClusteringSummary/Summary/TotalClusteringResults.msg'\n",
    ")"
   ]
  },
  {
   "cell_type": "code",
   "execution_count": 3,
   "metadata": {
    "ExecuteTime": {
     "end_time": "2020-02-14T05:26:38.920674Z",
     "start_time": "2020-02-14T05:26:38.916613Z"
    }
   },
   "outputs": [],
   "source": [
    "mc_study_design = {\n",
    "    'PT': ['PT-L5'],\n",
    "    'Other-Cortex-Exc': ['NP-L6', 'CT-L6', 'L6b'],\n",
    "    'OLF-Exc': ['OLF-Exc', 'CLA', 'EP'],\n",
    "    'IT': ['IT-L5', 'IT-L6', 'IT-L23', 'IT-L4'],\n",
    "    'HPF-Exc': ['CA3', 'CA1', 'CA3-St18', 'Gfra1', 'IG-CA2', 'DG-po', 'DG'],\n",
    "    'MGECGE': ['MGE-Sst', 'Unc5c', 'CGE-Lamp5', 'CGE-Vip', 'MGE-Pvalb'],\n",
    "    'Other-Inh': [\n",
    "        'PAL-Inh', 'MSN-D2', 'OLF', 'Foxp2', 'MSN-D1', 'LSX-Inh', 'D1L-Fstl4',\n",
    "        'D1L-PAL', 'Chd7'\n",
    "    ],\n",
    "    'NonN':\n",
    "    ['ODC', 'PC', 'ANP', 'OPC', 'ASC', 'MGC', 'VLMC', 'EC', 'VLMC-Pia']\n",
    "}"
   ]
  },
  {
   "cell_type": "code",
   "execution_count": 4,
   "metadata": {
    "ExecuteTime": {
     "end_time": "2020-02-14T05:26:40.756353Z",
     "start_time": "2020-02-14T05:26:40.633701Z"
    }
   },
   "outputs": [],
   "source": [
    "cluster_map = {}\n",
    "for group_name, major_types in mc_study_design.items():\n",
    "    for sub_type in cell_tidy_data[cell_tidy_data['MajorType'].isin(major_types)]['SubType'].unique():\n",
    "        if 'Outlier' in sub_type:\n",
    "            continue\n",
    "        else:\n",
    "            cluster_map[sub_type.replace(' ', '_')] = group_name\n",
    "subtype_group = pd.Series(cluster_map)\n",
    "subtype_group.to_csv('SubTypeGroup.csv', header=False)"
   ]
  },
  {
   "cell_type": "code",
   "execution_count": 5,
   "metadata": {
    "ExecuteTime": {
     "end_time": "2020-02-14T05:26:55.262832Z",
     "start_time": "2020-02-14T05:26:44.996869Z"
    }
   },
   "outputs": [
    {
     "name": "stdout",
     "output_type": "stream",
     "text": [
      "['/Rate', '/bed']\n"
     ]
    },
    {
     "data": {
      "text/plain": [
       "(4722053, 161)"
      ]
     },
     "execution_count": 5,
     "metadata": {},
     "output_type": "execute_result"
    }
   ],
   "source": [
    "with pd.HDFStore('/home/hanliu/project/mouse_rostral_brain/DMR/SubType/Total/DMRInfo.h5') as hdf:\n",
    "    print(hdf.keys())\n",
    "    dmr_rate = hdf['Rate']\n",
    "    dmr_bed = hdf['bed']\n",
    "dmr_rate.shape"
   ]
  },
  {
   "cell_type": "code",
   "execution_count": 6,
   "metadata": {
    "ExecuteTime": {
     "end_time": "2020-02-14T05:28:35.795286Z",
     "start_time": "2020-02-14T05:26:57.223176Z"
    }
   },
   "outputs": [
    {
     "name": "stdout",
     "output_type": "stream",
     "text": [
      "HPF-Exc (2831785, 4)\n",
      "IT (1583131, 4)\n",
      "MGECGE (2479056, 4)\n",
      "NonN (3578887, 4)\n",
      "OLF-Exc (2024678, 4)\n",
      "Other-Cortex-Exc (1648933, 4)\n",
      "Other-Inh (3117380, 4)\n",
      "PT (1602220, 4)\n"
     ]
    }
   ],
   "source": [
    "for group, subtypes in subtype_group.groupby(subtype_group):\n",
    "    this_rate = dmr_rate.loc[:, subtypes.index]\n",
    "    dmr_delta = this_rate.max(axis=1) - this_rate.min(axis=1)\n",
    "    dmr_mean = this_rate.mean(axis=1)\n",
    "    # either global hypo, or delta is large\n",
    "    judge = (dmr_delta > 0.3) | (dmr_mean < 0.4)\n",
    "\n",
    "    this_bed = dmr_bed.loc[judge, :]\n",
    "    this_bed.reset_index().iloc[:, [1, 2, 3, 0]].to_csv(f'group_dmr/{group}.DMRs.bed',\n",
    "                                                        index=None,\n",
    "                                                        header=None,\n",
    "                                                        sep='\\t')\n",
    "    print(group, this_bed.shape[0], len(subtypes))"
   ]
  },
  {
   "cell_type": "code",
   "execution_count": 10,
   "metadata": {
    "ExecuteTime": {
     "end_time": "2020-02-14T05:33:09.074370Z",
     "start_time": "2020-02-14T05:33:08.443034Z"
    }
   },
   "outputs": [],
   "source": [
    "cell_tidy_data['StudyGroup'] = cell_tidy_data['SubType'].apply(lambda i: subtype_group.get(i.replace(' ', '_'), ''))\n",
    "for group, sub_tidy_data in cell_tidy_data.groupby('StudyGroup'):\n",
    "    if group != '':\n",
    "        sub_tidy_data.to_msgpack(f'group_dmr/{group}.cells.msg')"
   ]
  },
  {
   "cell_type": "code",
   "execution_count": null,
   "metadata": {},
   "outputs": [],
   "source": []
  },
  {
   "cell_type": "code",
   "execution_count": null,
   "metadata": {},
   "outputs": [],
   "source": []
  }
 ],
 "metadata": {
  "hide_input": false,
  "kernelspec": {
   "display_name": "Python 3",
   "language": "python",
   "name": "python3"
  },
  "language_info": {
   "codemirror_mode": {
    "name": "ipython",
    "version": 3
   },
   "file_extension": ".py",
   "mimetype": "text/x-python",
   "name": "python",
   "nbconvert_exporter": "python",
   "pygments_lexer": "ipython3",
   "version": "3.7.3"
  },
  "toc": {
   "base_numbering": 1,
   "nav_menu": {},
   "number_sections": true,
   "sideBar": true,
   "skip_h1_title": true,
   "title_cell": "Table of Contents",
   "title_sidebar": "Contents",
   "toc_cell": false,
   "toc_position": {},
   "toc_section_display": true,
   "toc_window_display": true
  }
 },
 "nbformat": 4,
 "nbformat_minor": 2
}
