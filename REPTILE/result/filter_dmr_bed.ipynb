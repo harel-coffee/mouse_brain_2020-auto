{
 "cells": [
  {
   "cell_type": "code",
   "execution_count": 1,
   "metadata": {
    "ExecuteTime": {
     "end_time": "2020-02-18T01:16:13.607171Z",
     "start_time": "2020-02-18T01:16:13.463415Z"
    }
   },
   "outputs": [],
   "source": [
    "import pandas as pd\n",
    "import pathlib"
   ]
  },
  {
   "cell_type": "code",
   "execution_count": 2,
   "metadata": {
    "ExecuteTime": {
     "end_time": "2020-02-18T01:16:14.493594Z",
     "start_time": "2020-02-18T01:16:14.099170Z"
    }
   },
   "outputs": [
    {
     "name": "stderr",
     "output_type": "stream",
     "text": [
      "/home/hanliu/miniconda3/envs/clustering/lib/python3.7/site-packages/IPython/core/interactiveshell.py:3326: FutureWarning: The read_msgpack is deprecated and will be removed in a future version.\n",
      "It is recommended to use pyarrow for on-the-wire transmission of pandas objects.\n",
      "  exec(code_obj, self.user_global_ns, self.user_ns)\n"
     ]
    }
   ],
   "source": [
    "cell_meta = pd.read_msgpack(\n",
    "    '/home/hanliu/project/mouse_rostral_brain/study/ClusteringSummary/Summary/TotalClusteringResults.msg'\n",
    ")\n",
    "name_map = {c.replace(' ', '.').replace('-', '.'):c.replace(' ', '_') for c in cell_meta['SubType'].unique()}"
   ]
  },
  {
   "cell_type": "code",
   "execution_count": 3,
   "metadata": {
    "ExecuteTime": {
     "end_time": "2020-02-18T01:16:14.499439Z",
     "start_time": "2020-02-18T01:16:14.495444Z"
    }
   },
   "outputs": [],
   "source": [
    "bed_dir = pathlib.Path('bed/')\n",
    "output_dir = pathlib.Path('filtered_bed/')\n",
    "\n",
    "bed_list = list(bed_dir.glob('*DMR.bed'))"
   ]
  },
  {
   "cell_type": "code",
   "execution_count": 7,
   "metadata": {
    "ExecuteTime": {
     "end_time": "2020-02-18T01:23:06.184734Z",
     "start_time": "2020-02-18T01:23:06.178096Z"
    },
    "scrolled": true
   },
   "outputs": [],
   "source": [
    "for path in bed_list:\n",
    "    # print(path.name)\n",
    "    if 'mESC' in path.name:\n",
    "        continue\n",
    "    cluster_name = name_map[path.name[:-13]]\n",
    "    outpath = output_dir / f'{cluster_name}.filtered_enhancer_dmr.bed'\n",
    "    if outpath.exists():\n",
    "        continue\n",
    "    df = pd.read_csv(path, sep='\\t', header=None)\n",
    "    df = df[df[4] > 0.3].copy()\n",
    "    df.to_csv(outpath, sep='\\t', header=None, index=None)\n",
    "    print(df.shape[0], cluster_name, sep='\\t')"
   ]
  },
  {
   "cell_type": "code",
   "execution_count": null,
   "metadata": {},
   "outputs": [],
   "source": []
  },
  {
   "cell_type": "code",
   "execution_count": null,
   "metadata": {},
   "outputs": [],
   "source": []
  }
 ],
 "metadata": {
  "hide_input": false,
  "kernelspec": {
   "display_name": "Python 3",
   "language": "python",
   "name": "python3"
  },
  "language_info": {
   "codemirror_mode": {
    "name": "ipython",
    "version": 3
   },
   "file_extension": ".py",
   "mimetype": "text/x-python",
   "name": "python",
   "nbconvert_exporter": "python",
   "pygments_lexer": "ipython3",
   "version": "3.7.3"
  },
  "toc": {
   "base_numbering": 1,
   "nav_menu": {},
   "number_sections": true,
   "sideBar": true,
   "skip_h1_title": true,
   "title_cell": "Table of Contents",
   "title_sidebar": "Contents",
   "toc_cell": false,
   "toc_position": {},
   "toc_section_display": true,
   "toc_window_display": true
  }
 },
 "nbformat": 4,
 "nbformat_minor": 2
}
