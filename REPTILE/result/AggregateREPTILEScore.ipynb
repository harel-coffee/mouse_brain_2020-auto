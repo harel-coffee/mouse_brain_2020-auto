{
 "cells": [
  {
   "cell_type": "code",
   "execution_count": 1,
   "metadata": {
    "ExecuteTime": {
     "end_time": "2020-03-04T05:35:18.466966Z",
     "start_time": "2020-03-04T05:35:17.725199Z"
    }
   },
   "outputs": [],
   "source": [
    "import pandas as pd\n",
    "import numpy as np\n",
    "from scipy.sparse import csc_matrix\n",
    "import anndata\n",
    "import pathlib"
   ]
  },
  {
   "cell_type": "code",
   "execution_count": 2,
   "metadata": {
    "ExecuteTime": {
     "end_time": "2020-02-19T20:35:57.884726Z",
     "start_time": "2020-02-19T20:35:57.881837Z"
    }
   },
   "outputs": [],
   "source": [
    "bed_dir = pathlib.Path('filtered_bed/')\n",
    "bed_list = list(bed_dir.glob('*.filtered_enhancer_dmr.bed'))"
   ]
  },
  {
   "cell_type": "code",
   "execution_count": 3,
   "metadata": {
    "ExecuteTime": {
     "end_time": "2020-02-19T20:36:01.420085Z",
     "start_time": "2020-02-19T20:35:57.886148Z"
    }
   },
   "outputs": [],
   "source": [
    "total_dmr = pd.read_hdf('/home/hanliu/project/mouse_rostral_brain/DMR/SubType/Total/DMRInfo.h5', key='bed')"
   ]
  },
  {
   "cell_type": "code",
   "execution_count": 4,
   "metadata": {
    "ExecuteTime": {
     "end_time": "2020-02-19T20:38:52.869469Z",
     "start_time": "2020-02-19T20:36:01.422063Z"
    },
    "scrolled": true
   },
   "outputs": [
    {
     "name": "stdout",
     "output_type": "stream",
     "text": [
      "0 filtered_bed/CA3_Efnb2.filtered_enhancer_dmr.bed\n",
      "1 filtered_bed/D1L-Fstl4_Sipa1l2.filtered_enhancer_dmr.bed\n",
      "2 filtered_bed/ANP_anp-dg.filtered_enhancer_dmr.bed\n",
      "3 filtered_bed/D1L-Fstl4_Trps1.filtered_enhancer_dmr.bed\n",
      "4 filtered_bed/ANP_anp-olf-cnu.filtered_enhancer_dmr.bed\n",
      "5 filtered_bed/D1L-PAL_Flrt2.filtered_enhancer_dmr.bed\n",
      "6 filtered_bed/ASC_cortex-olf.filtered_enhancer_dmr.bed\n",
      "7 filtered_bed/MGE-Pvalb_Cnih3.filtered_enhancer_dmr.bed\n",
      "8 filtered_bed/ASC_mid.filtered_enhancer_dmr.bed\n",
      "9 filtered_bed/D1L-PAL_Plcxd3.filtered_enhancer_dmr.bed\n",
      "10 filtered_bed/ASC_str-hpf.filtered_enhancer_dmr.bed\n",
      "11 filtered_bed/MGE-Pvalb_Gfra2.filtered_enhancer_dmr.bed\n",
      "12 filtered_bed/CA1_Ak5.filtered_enhancer_dmr.bed\n",
      "13 filtered_bed/DG_dg-all.filtered_enhancer_dmr.bed\n",
      "14 filtered_bed/CA1_Chrm3.filtered_enhancer_dmr.bed\n",
      "15 filtered_bed/DG-po_Bcl11a.filtered_enhancer_dmr.bed\n",
      "16 filtered_bed/CA1_Kif26a.filtered_enhancer_dmr.bed\n",
      "17 filtered_bed/Foxp2_Dchs2.filtered_enhancer_dmr.bed\n",
      "18 filtered_bed/CA1_Lingo2.filtered_enhancer_dmr.bed\n",
      "19 filtered_bed/EP_Tspan5.filtered_enhancer_dmr.bed\n",
      "20 filtered_bed/CA1_Ptprg.filtered_enhancer_dmr.bed\n",
      "21 filtered_bed/Foxp2_Homer2.filtered_enhancer_dmr.bed\n",
      "22 filtered_bed/CA3_Cadm2.filtered_enhancer_dmr.bed\n",
      "23 filtered_bed/Foxp2_Inpp4b.filtered_enhancer_dmr.bed\n",
      "24 filtered_bed/Foxp2_Trpc7.filtered_enhancer_dmr.bed\n",
      "25 filtered_bed/CA3-St18_Epha5.filtered_enhancer_dmr.bed\n",
      "26 filtered_bed/Gfra1_Gfra1.filtered_enhancer_dmr.bed\n",
      "27 filtered_bed/CA3-St18_Nuak1.filtered_enhancer_dmr.bed\n",
      "28 filtered_bed/IG-CA2_Chrm3.filtered_enhancer_dmr.bed\n",
      "29 filtered_bed/CA3-St18_Tead1.filtered_enhancer_dmr.bed\n",
      "30 filtered_bed/IG-CA2_Peak1.filtered_enhancer_dmr.bed\n",
      "31 filtered_bed/CGE-Lamp5_Dock5.filtered_enhancer_dmr.bed\n",
      "32 filtered_bed/IG-CA2_Xpr1.filtered_enhancer_dmr.bed\n",
      "33 filtered_bed/CGE-Lamp5_Grid1.filtered_enhancer_dmr.bed\n",
      "34 filtered_bed/IT-L23_Cux1.filtered_enhancer_dmr.bed\n",
      "35 filtered_bed/CGE-Lamp5_Grk5.filtered_enhancer_dmr.bed\n",
      "36 filtered_bed/IT-L23_Foxp1.filtered_enhancer_dmr.bed\n",
      "37 filtered_bed/CGE-Lamp5_Nrxn3.filtered_enhancer_dmr.bed\n",
      "38 filtered_bed/EP_Adcy8.filtered_enhancer_dmr.bed\n",
      "39 filtered_bed/CGE-Lamp5_Sorcs1.filtered_enhancer_dmr.bed\n",
      "40 filtered_bed/IT-L23_Ptprt.filtered_enhancer_dmr.bed\n",
      "41 filtered_bed/CGE-Vip_Ccser1.filtered_enhancer_dmr.bed\n",
      "42 filtered_bed/IT-L23_Tenm2.filtered_enhancer_dmr.bed\n",
      "43 filtered_bed/CGE-Vip_Clstn2.filtered_enhancer_dmr.bed\n",
      "44 filtered_bed/IT-L4_Astn2.filtered_enhancer_dmr.bed\n",
      "45 filtered_bed/CGE-Vip_Fstl4.filtered_enhancer_dmr.bed\n",
      "46 filtered_bed/IT-L4_Shc3.filtered_enhancer_dmr.bed\n",
      "47 filtered_bed/CGE-Vip_Galnt17.filtered_enhancer_dmr.bed\n",
      "48 filtered_bed/IT-L5_Cdh8.filtered_enhancer_dmr.bed\n",
      "49 filtered_bed/CGE-Vip_Grm8.filtered_enhancer_dmr.bed\n",
      "50 filtered_bed/IT-L5_Etv1.filtered_enhancer_dmr.bed\n",
      "51 filtered_bed/CGE-Vip_Ntng1.filtered_enhancer_dmr.bed\n",
      "52 filtered_bed/IT-L5_Grik3.filtered_enhancer_dmr.bed\n",
      "53 filtered_bed/CGE-Vip_Ptprm.filtered_enhancer_dmr.bed\n",
      "54 filtered_bed/IT-L6_Cadps2.filtered_enhancer_dmr.bed\n",
      "55 filtered_bed/CGE-Vip_Robo1.filtered_enhancer_dmr.bed\n",
      "56 filtered_bed/IT-L6_Fstl4.filtered_enhancer_dmr.bed\n",
      "57 filtered_bed/CLA_Bcl11a.filtered_enhancer_dmr.bed\n",
      "58 filtered_bed/IT-L6_Man1c1.filtered_enhancer_dmr.bed\n",
      "59 filtered_bed/CLA_Cdh8.filtered_enhancer_dmr.bed\n",
      "60 filtered_bed/IT-L6_Oxr1.filtered_enhancer_dmr.bed\n",
      "61 filtered_bed/CLA_Nrp2.filtered_enhancer_dmr.bed\n",
      "62 filtered_bed/L6b_Adcy8.filtered_enhancer_dmr.bed\n",
      "63 filtered_bed/CT-L6_Hcrtr2.filtered_enhancer_dmr.bed\n",
      "64 filtered_bed/L6b_Kcnk2.filtered_enhancer_dmr.bed\n",
      "65 filtered_bed/CT-L6_Il1rap.filtered_enhancer_dmr.bed\n",
      "66 filtered_bed/L6b_Nrp2.filtered_enhancer_dmr.bed\n",
      "67 filtered_bed/CT-L6_Map4.filtered_enhancer_dmr.bed\n",
      "68 filtered_bed/L6b_Pkhd1.filtered_enhancer_dmr.bed\n",
      "69 filtered_bed/CT-L6_Megf9.filtered_enhancer_dmr.bed\n",
      "70 filtered_bed/LSX-Inh_Cacna1i.filtered_enhancer_dmr.bed\n",
      "71 filtered_bed/Chd7_Kcnc2.filtered_enhancer_dmr.bed\n",
      "72 filtered_bed/LSX-Inh_Dock10.filtered_enhancer_dmr.bed\n",
      "73 filtered_bed/Chd7_Megf11.filtered_enhancer_dmr.bed\n",
      "74 filtered_bed/LSX-Inh_Enox1.filtered_enhancer_dmr.bed\n",
      "75 filtered_bed/Chd7_Trpc7.filtered_enhancer_dmr.bed\n",
      "76 filtered_bed/LSX-Inh_Foxp2.filtered_enhancer_dmr.bed\n",
      "77 filtered_bed/D1L-Fstl4_Cadm1.filtered_enhancer_dmr.bed\n",
      "78 filtered_bed/LSX-Inh_Lats2.filtered_enhancer_dmr.bed\n",
      "79 filtered_bed/D1L-Fstl4_Crim1.filtered_enhancer_dmr.bed\n",
      "80 filtered_bed/LSX-Inh_Nxph1.filtered_enhancer_dmr.bed\n",
      "81 filtered_bed/D1L-Fstl4_Grm3.filtered_enhancer_dmr.bed\n",
      "82 filtered_bed/DG-po_Calb2.filtered_enhancer_dmr.bed\n",
      "83 filtered_bed/LSX-Inh_Zeb2.filtered_enhancer_dmr.bed\n",
      "84 filtered_bed/DG-po_Kctd8.filtered_enhancer_dmr.bed\n",
      "85 filtered_bed/MGC_mgc-all.filtered_enhancer_dmr.bed\n",
      "86 filtered_bed/EC_Abhd2.filtered_enhancer_dmr.bed\n",
      "87 filtered_bed/MGE-Pvalb_Cacna1i.filtered_enhancer_dmr.bed\n",
      "88 filtered_bed/EC_Sema3g.filtered_enhancer_dmr.bed\n",
      "89 filtered_bed/MGE-Pvalb_Ptprk.filtered_enhancer_dmr.bed\n",
      "90 filtered_bed/EP_Rgs8.filtered_enhancer_dmr.bed\n",
      "91 filtered_bed/MGE-Pvalb_Entpd3.filtered_enhancer_dmr.bed\n",
      "92 filtered_bed/OPC_opc-small.filtered_enhancer_dmr.bed\n",
      "93 filtered_bed/MGE-Pvalb_Sema5a.filtered_enhancer_dmr.bed\n",
      "94 filtered_bed/PAL-Inh_Chat.filtered_enhancer_dmr.bed\n",
      "95 filtered_bed/MGE-Pvalb_Thsd7a.filtered_enhancer_dmr.bed\n",
      "96 filtered_bed/PAL-Inh_Deptor.filtered_enhancer_dmr.bed\n",
      "97 filtered_bed/MGE-Sst_Bmper.filtered_enhancer_dmr.bed\n",
      "98 filtered_bed/PAL-Inh_Igdcc3.filtered_enhancer_dmr.bed\n",
      "99 filtered_bed/MGE-Sst_Chodl.filtered_enhancer_dmr.bed\n",
      "100 filtered_bed/PAL-Inh_Meis1.filtered_enhancer_dmr.bed\n",
      "101 filtered_bed/MGE-Sst_Dock4.filtered_enhancer_dmr.bed\n",
      "102 filtered_bed/PAL-Inh_Meis2.filtered_enhancer_dmr.bed\n",
      "103 filtered_bed/MGE-Sst_Etv1.filtered_enhancer_dmr.bed\n",
      "104 filtered_bed/PAL-Inh_Onecut2.filtered_enhancer_dmr.bed\n",
      "105 filtered_bed/MGE-Sst_Frmd6.filtered_enhancer_dmr.bed\n",
      "106 filtered_bed/PAL-Inh_Ptprd.filtered_enhancer_dmr.bed\n",
      "107 filtered_bed/MGE-Sst_Kcnip4.filtered_enhancer_dmr.bed\n",
      "108 filtered_bed/PAL-Inh_Rarb.filtered_enhancer_dmr.bed\n",
      "109 filtered_bed/MGE-Sst_Ptpre.filtered_enhancer_dmr.bed\n",
      "110 filtered_bed/PAL-Inh_Tcf7l2.filtered_enhancer_dmr.bed\n",
      "111 filtered_bed/MGE-Sst_Rerg.filtered_enhancer_dmr.bed\n",
      "112 filtered_bed/PAL-Inh_Tmem178.filtered_enhancer_dmr.bed\n",
      "113 filtered_bed/MGE-Sst_Rxra.filtered_enhancer_dmr.bed\n",
      "114 filtered_bed/PC_pc-all.filtered_enhancer_dmr.bed\n",
      "115 filtered_bed/MGE-Sst_Ubtd1.filtered_enhancer_dmr.bed\n",
      "116 filtered_bed/PT-L5_Abca12.filtered_enhancer_dmr.bed\n",
      "117 filtered_bed/MGE-Sst_Unc5b.filtered_enhancer_dmr.bed\n",
      "118 filtered_bed/PT-L5_Astn2.filtered_enhancer_dmr.bed\n",
      "119 filtered_bed/MSN-D1_Hrh1.filtered_enhancer_dmr.bed\n",
      "120 filtered_bed/PT-L5_Kcnh1.filtered_enhancer_dmr.bed\n",
      "121 filtered_bed/MSN-D1_Khdrbs3.filtered_enhancer_dmr.bed\n",
      "122 filtered_bed/PT-L5_Nectin1.filtered_enhancer_dmr.bed\n",
      "123 filtered_bed/MSN-D1_Ntn1.filtered_enhancer_dmr.bed\n",
      "124 filtered_bed/PT-L5_Plcb4.filtered_enhancer_dmr.bed\n",
      "125 filtered_bed/MSN-D1_Plxnc1.filtered_enhancer_dmr.bed\n",
      "126 filtered_bed/PT-L5_Ptprt.filtered_enhancer_dmr.bed\n",
      "127 filtered_bed/MSN-D2_Casz1.filtered_enhancer_dmr.bed\n",
      "128 filtered_bed/PT-L5_Tenm2.filtered_enhancer_dmr.bed\n",
      "129 filtered_bed/MSN-D2_Col14a1.filtered_enhancer_dmr.bed\n",
      "130 filtered_bed/PT-L5_Tmtc2.filtered_enhancer_dmr.bed\n",
      "131 filtered_bed/MSN-D2_Nrp2.filtered_enhancer_dmr.bed\n",
      "132 filtered_bed/PT-L5_Unc5b.filtered_enhancer_dmr.bed\n",
      "133 filtered_bed/MSN-D2_Slc24a2.filtered_enhancer_dmr.bed\n",
      "134 filtered_bed/Unc5c_Unc5c.filtered_enhancer_dmr.bed\n",
      "135 filtered_bed/NP-L6_Boc.filtered_enhancer_dmr.bed\n",
      "136 filtered_bed/VLMC_Col4a1.filtered_enhancer_dmr.bed\n",
      "137 filtered_bed/NP-L6_Cntnap4.filtered_enhancer_dmr.bed\n",
      "138 filtered_bed/VLMC_Mapk4.filtered_enhancer_dmr.bed\n",
      "139 filtered_bed/NP-L6_Cntnap5a.filtered_enhancer_dmr.bed\n",
      "140 filtered_bed/VLMC-Pia_vlmc-pia-all.filtered_enhancer_dmr.bed\n",
      "141 filtered_bed/NP-L6_Cyp7b1.filtered_enhancer_dmr.bed\n",
      "142 filtered_bed/NP-L6_Kcnab1.filtered_enhancer_dmr.bed\n",
      "143 filtered_bed/NP-L6_Olfml2b.filtered_enhancer_dmr.bed\n",
      "144 filtered_bed/ODC_odc-large.filtered_enhancer_dmr.bed\n",
      "145 filtered_bed/ODC_odc-small.filtered_enhancer_dmr.bed\n",
      "146 filtered_bed/OLF-Exc_Bmpr1b.filtered_enhancer_dmr.bed\n",
      "147 filtered_bed/OLF_Gabbr2.filtered_enhancer_dmr.bed\n"
     ]
    },
    {
     "name": "stdout",
     "output_type": "stream",
     "text": [
      "148 filtered_bed/OLF-Exc_Cdh9.filtered_enhancer_dmr.bed\n",
      "149 filtered_bed/OLF-Exc_Cux2.filtered_enhancer_dmr.bed\n",
      "150 filtered_bed/OLF-Exc_Lrrtm3.filtered_enhancer_dmr.bed\n",
      "151 filtered_bed/OLF-Exc_Pld5.filtered_enhancer_dmr.bed\n",
      "152 filtered_bed/OLF-Exc_Rmst.filtered_enhancer_dmr.bed\n",
      "153 filtered_bed/OLF-Exc_Sgcd.filtered_enhancer_dmr.bed\n",
      "154 filtered_bed/OLF-Exc_Unc13c.filtered_enhancer_dmr.bed\n",
      "155 filtered_bed/OLF_Kcnd3.filtered_enhancer_dmr.bed\n",
      "156 filtered_bed/OLF_Mapk10.filtered_enhancer_dmr.bed\n",
      "157 filtered_bed/OLF_Pag1.filtered_enhancer_dmr.bed\n",
      "158 filtered_bed/OLF_Trpc4.filtered_enhancer_dmr.bed\n",
      "159 filtered_bed/OLF_Xkr6.filtered_enhancer_dmr.bed\n",
      "160 filtered_bed/OPC_opc-large.filtered_enhancer_dmr.bed\n"
     ]
    }
   ],
   "source": [
    "records = {}\n",
    "for i, path in enumerate(bed_list):\n",
    "    data = pd.read_csv(path, header=None, index_col=3, sep='\\t')[4]\n",
    "    records[path.name.split('.')[0]] = data.reindex(total_dmr.index).fillna(0)\n",
    "    print(i, path)\n",
    "records = pd.DataFrame(records)"
   ]
  },
  {
   "cell_type": "code",
   "execution_count": 9,
   "metadata": {
    "ExecuteTime": {
     "end_time": "2020-02-19T20:49:11.139980Z",
     "start_time": "2020-02-19T20:48:30.042315Z"
    }
   },
   "outputs": [],
   "source": [
    "records[records < 0.1] = 0"
   ]
  },
  {
   "cell_type": "code",
   "execution_count": 10,
   "metadata": {
    "ExecuteTime": {
     "end_time": "2020-02-19T20:49:33.669736Z",
     "start_time": "2020-02-19T20:49:11.143164Z"
    }
   },
   "outputs": [],
   "source": [
    "adata = anndata.AnnData(X=csc_matrix(records.values),\n",
    "                        obs=total_dmr,\n",
    "                        var=pd.DataFrame([], index=records.keys()))"
   ]
  },
  {
   "cell_type": "code",
   "execution_count": 11,
   "metadata": {
    "ExecuteTime": {
     "end_time": "2020-02-19T20:49:43.643717Z",
     "start_time": "2020-02-19T20:49:33.673391Z"
    }
   },
   "outputs": [
    {
     "name": "stderr",
     "output_type": "stream",
     "text": [
      "... storing '#chr' as categorical\n"
     ]
    }
   ],
   "source": [
    "adata.write_h5ad('REPTILE_scores.subtype.h5ad')"
   ]
  },
  {
   "cell_type": "code",
   "execution_count": 2,
   "metadata": {
    "ExecuteTime": {
     "end_time": "2020-03-04T05:35:45.241960Z",
     "start_time": "2020-03-04T05:35:28.443690Z"
    }
   },
   "outputs": [],
   "source": [
    "adata = anndata.read_h5ad('REPTILE_scores.subtype.h5ad')"
   ]
  },
  {
   "cell_type": "code",
   "execution_count": 9,
   "metadata": {
    "ExecuteTime": {
     "end_time": "2020-03-04T05:36:37.335385Z",
     "start_time": "2020-03-04T05:36:36.689431Z"
    }
   },
   "outputs": [],
   "source": [
    "dmr_total_hits = (adata.X > 0).sum(axis=1).A1\n",
    "dmr_total_hits = pd.Series(dmr_total_hits)"
   ]
  },
  {
   "cell_type": "code",
   "execution_count": null,
   "metadata": {},
   "outputs": [],
   "source": []
  },
  {
   "cell_type": "code",
   "execution_count": null,
   "metadata": {},
   "outputs": [],
   "source": []
  },
  {
   "cell_type": "code",
   "execution_count": null,
   "metadata": {},
   "outputs": [],
   "source": []
  },
  {
   "cell_type": "code",
   "execution_count": null,
   "metadata": {},
   "outputs": [],
   "source": []
  },
  {
   "cell_type": "code",
   "execution_count": null,
   "metadata": {},
   "outputs": [],
   "source": []
  },
  {
   "cell_type": "code",
   "execution_count": null,
   "metadata": {},
   "outputs": [],
   "source": []
  },
  {
   "cell_type": "code",
   "execution_count": null,
   "metadata": {},
   "outputs": [],
   "source": []
  },
  {
   "cell_type": "code",
   "execution_count": null,
   "metadata": {},
   "outputs": [],
   "source": []
  },
  {
   "cell_type": "code",
   "execution_count": null,
   "metadata": {},
   "outputs": [],
   "source": []
  }
 ],
 "metadata": {
  "hide_input": false,
  "kernelspec": {
   "display_name": "Python 3",
   "language": "python",
   "name": "python3"
  },
  "language_info": {
   "codemirror_mode": {
    "name": "ipython",
    "version": 3
   },
   "file_extension": ".py",
   "mimetype": "text/x-python",
   "name": "python",
   "nbconvert_exporter": "python",
   "pygments_lexer": "ipython3",
   "version": "3.7.3"
  },
  "toc": {
   "base_numbering": 1,
   "nav_menu": {},
   "number_sections": true,
   "sideBar": true,
   "skip_h1_title": true,
   "title_cell": "Table of Contents",
   "title_sidebar": "Contents",
   "toc_cell": false,
   "toc_position": {},
   "toc_section_display": true,
   "toc_window_display": true
  }
 },
 "nbformat": 4,
 "nbformat_minor": 2
}
