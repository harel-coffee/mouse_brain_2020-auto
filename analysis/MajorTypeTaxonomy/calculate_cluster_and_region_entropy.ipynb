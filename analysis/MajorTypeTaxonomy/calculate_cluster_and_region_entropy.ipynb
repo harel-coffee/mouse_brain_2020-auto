{
 "cells": [
  {
   "cell_type": "code",
   "execution_count": 1,
   "metadata": {
    "ExecuteTime": {
     "end_time": "2019-11-18T22:26:10.900400Z",
     "start_time": "2019-11-18T22:26:10.441755Z"
    }
   },
   "outputs": [],
   "source": [
    "import pandas as pd\n",
    "import numpy as np\n",
    "import seaborn as sns\n",
    "import matplotlib.pyplot as plt\n",
    "from ALLCools.plot import *"
   ]
  },
  {
   "cell_type": "markdown",
   "metadata": {},
   "source": [
    "## rc"
   ]
  },
  {
   "cell_type": "code",
   "execution_count": 2,
   "metadata": {
    "ExecuteTime": {
     "end_time": "2019-11-18T22:26:10.906641Z",
     "start_time": "2019-11-18T22:26:10.902429Z"
    }
   },
   "outputs": [],
   "source": [
    "from matplotlib import rc\n",
    "\n",
    "labelsize = 6\n",
    "linewidth = 0.6\n",
    "rc('lines', linewidth=linewidth)\n",
    "rc('axes', labelsize=labelsize, linewidth=linewidth)\n",
    "rc('xtick', labelsize=labelsize)\n",
    "rc('ytick', labelsize=labelsize)\n",
    "rc('xtick.major', width=linewidth)\n",
    "rc('ytick.major', width=linewidth)\n",
    "rc('xtick.minor', width=linewidth-0.2)\n",
    "rc('ytick.minor', width=linewidth-0.2)\n"
   ]
  },
  {
   "cell_type": "markdown",
   "metadata": {},
   "source": [
    "## Cluster Summary"
   ]
  },
  {
   "cell_type": "code",
   "execution_count": 3,
   "metadata": {
    "ExecuteTime": {
     "end_time": "2019-11-18T22:26:11.144317Z",
     "start_time": "2019-11-18T22:26:10.908137Z"
    }
   },
   "outputs": [
    {
     "name": "stderr",
     "output_type": "stream",
     "text": [
      "/home/hanliu/miniconda3/envs/clustering/lib/python3.7/site-packages/IPython/core/interactiveshell.py:3326: FutureWarning: The read_msgpack is deprecated and will be removed in a future version.\n",
      "It is recommended to use pyarrow for on-the-wire transmission of pandas objects.\n",
      "  exec(code_obj, self.user_global_ns, self.user_ns)\n"
     ]
    }
   ],
   "source": [
    "cell_tidy_data = pd.read_msgpack('/home/hanliu/project/mouse_rostral_brain/study/ClusteringSummary/Summary/TotalClusteringResults.msg')"
   ]
  },
  {
   "cell_type": "code",
   "execution_count": 4,
   "metadata": {
    "ExecuteTime": {
     "end_time": "2019-11-18T22:26:11.150700Z",
     "start_time": "2019-11-18T22:26:11.145984Z"
    }
   },
   "outputs": [
    {
     "data": {
      "text/plain": [
       "Index(['AllcPath', 'CCC_Rate', 'CG_Rate', 'CG_RateAdj', 'CH_Rate',\n",
       "       'CH_RateAdj', 'FinalReads', 'InputReads', 'MappedReads', 'Region',\n",
       "       'index_name', 'uid', 'BamFilteringRate', 'MappingRate', 'Pos96',\n",
       "       'Plate', 'Col96', 'Row96', 'Col384', 'Row384', 'FACS_Date', 'Slice',\n",
       "       'MajorRegion', 'SubRegion', 'CellClass', 'l1-umap_0', 'l1-umap_1',\n",
       "       'l1-tsne_0', 'l1-tsne_1', 'MajorType', 'l2-umap_0', 'l2-umap_1',\n",
       "       'l2-tsne_0', 'l2-tsne_1', 'SubType', 'l3-umap_0', 'l3-umap_1',\n",
       "       'l3-tsne_0', 'l3-tsne_1'],\n",
       "      dtype='object')"
      ]
     },
     "execution_count": 4,
     "metadata": {},
     "output_type": "execute_result"
    }
   ],
   "source": [
    "cell_tidy_data.columns"
   ]
  },
  {
   "cell_type": "code",
   "execution_count": 5,
   "metadata": {
    "ExecuteTime": {
     "end_time": "2019-11-18T22:26:11.173416Z",
     "start_time": "2019-11-18T22:26:11.152142Z"
    }
   },
   "outputs": [
    {
     "data": {
      "text/html": [
       "<div>\n",
       "<style scoped>\n",
       "    .dataframe tbody tr th:only-of-type {\n",
       "        vertical-align: middle;\n",
       "    }\n",
       "\n",
       "    .dataframe tbody tr th {\n",
       "        vertical-align: top;\n",
       "    }\n",
       "\n",
       "    .dataframe thead th {\n",
       "        text-align: right;\n",
       "    }\n",
       "</style>\n",
       "<table border=\"1\" class=\"dataframe\">\n",
       "  <thead>\n",
       "    <tr style=\"text-align: right;\">\n",
       "      <th></th>\n",
       "      <th>AllcPath</th>\n",
       "      <th>CCC_Rate</th>\n",
       "      <th>CG_Rate</th>\n",
       "      <th>CG_RateAdj</th>\n",
       "      <th>CH_Rate</th>\n",
       "      <th>CH_RateAdj</th>\n",
       "      <th>FinalReads</th>\n",
       "      <th>InputReads</th>\n",
       "      <th>MappedReads</th>\n",
       "      <th>Region</th>\n",
       "      <th>...</th>\n",
       "      <th>MajorType</th>\n",
       "      <th>l2-umap_0</th>\n",
       "      <th>l2-umap_1</th>\n",
       "      <th>l2-tsne_0</th>\n",
       "      <th>l2-tsne_1</th>\n",
       "      <th>SubType</th>\n",
       "      <th>l3-umap_0</th>\n",
       "      <th>l3-umap_1</th>\n",
       "      <th>l3-tsne_0</th>\n",
       "      <th>l3-tsne_1</th>\n",
       "    </tr>\n",
       "  </thead>\n",
       "  <tbody>\n",
       "    <tr>\n",
       "      <th>10E_M_0</th>\n",
       "      <td>/gale/raidix/rdx-4/mapping/10E/CEMBA190625-10E...</td>\n",
       "      <td>0.008198</td>\n",
       "      <td>0.822633</td>\n",
       "      <td>0.821166</td>\n",
       "      <td>0.041640</td>\n",
       "      <td>0.033718</td>\n",
       "      <td>1626504.0</td>\n",
       "      <td>4407752</td>\n",
       "      <td>2892347.0</td>\n",
       "      <td>10E</td>\n",
       "      <td>...</td>\n",
       "      <td>MGE-Sst</td>\n",
       "      <td>-23.368460</td>\n",
       "      <td>-1.151200</td>\n",
       "      <td>-34.021153</td>\n",
       "      <td>-19.429447</td>\n",
       "      <td>MGE-Sst Rxra</td>\n",
       "      <td>-0.766630</td>\n",
       "      <td>-16.704815</td>\n",
       "      <td>20.297781</td>\n",
       "      <td>1.192093</td>\n",
       "    </tr>\n",
       "    <tr>\n",
       "      <th>10E_M_1</th>\n",
       "      <td>/gale/raidix/rdx-4/mapping/10E/CEMBA190625-10E...</td>\n",
       "      <td>0.006019</td>\n",
       "      <td>0.743035</td>\n",
       "      <td>0.741479</td>\n",
       "      <td>0.024127</td>\n",
       "      <td>0.018218</td>\n",
       "      <td>2009998.0</td>\n",
       "      <td>5524084</td>\n",
       "      <td>3657352.0</td>\n",
       "      <td>10E</td>\n",
       "      <td>...</td>\n",
       "      <td>CA3</td>\n",
       "      <td>-8.322600</td>\n",
       "      <td>-3.988057</td>\n",
       "      <td>19.205085</td>\n",
       "      <td>10.272570</td>\n",
       "      <td>CA3 Cadm2</td>\n",
       "      <td>4.290240</td>\n",
       "      <td>-2.610511</td>\n",
       "      <td>7.860870</td>\n",
       "      <td>8.813396</td>\n",
       "    </tr>\n",
       "    <tr>\n",
       "      <th>10E_M_10</th>\n",
       "      <td>/gale/raidix/rdx-4/mapping/10E/CEMBA190625-10E...</td>\n",
       "      <td>0.006569</td>\n",
       "      <td>0.750172</td>\n",
       "      <td>0.748520</td>\n",
       "      <td>0.027665</td>\n",
       "      <td>0.021235</td>\n",
       "      <td>1383636.0</td>\n",
       "      <td>3455260</td>\n",
       "      <td>2172987.0</td>\n",
       "      <td>10E</td>\n",
       "      <td>...</td>\n",
       "      <td>CA3</td>\n",
       "      <td>-7.409779</td>\n",
       "      <td>-4.662556</td>\n",
       "      <td>20.146606</td>\n",
       "      <td>6.345836</td>\n",
       "      <td>CA3 Cadm2</td>\n",
       "      <td>5.852028</td>\n",
       "      <td>-2.510058</td>\n",
       "      <td>12.927795</td>\n",
       "      <td>8.544050</td>\n",
       "    </tr>\n",
       "    <tr>\n",
       "      <th>10E_M_101</th>\n",
       "      <td>/gale/raidix/rdx-4/mapping/10E/CEMBA190625-10E...</td>\n",
       "      <td>0.006353</td>\n",
       "      <td>0.760898</td>\n",
       "      <td>0.759369</td>\n",
       "      <td>0.026547</td>\n",
       "      <td>0.020323</td>\n",
       "      <td>2474670.0</td>\n",
       "      <td>7245482</td>\n",
       "      <td>4778768.0</td>\n",
       "      <td>10E</td>\n",
       "      <td>...</td>\n",
       "      <td>CA3</td>\n",
       "      <td>-6.266342</td>\n",
       "      <td>-8.345406</td>\n",
       "      <td>25.465765</td>\n",
       "      <td>-6.767192</td>\n",
       "      <td>CA3 Cadm2</td>\n",
       "      <td>11.189178</td>\n",
       "      <td>-3.763147</td>\n",
       "      <td>29.875836</td>\n",
       "      <td>2.739283</td>\n",
       "    </tr>\n",
       "    <tr>\n",
       "      <th>10E_M_102</th>\n",
       "      <td>/gale/raidix/rdx-4/mapping/10E/CEMBA190625-10E...</td>\n",
       "      <td>0.005409</td>\n",
       "      <td>0.752980</td>\n",
       "      <td>0.751637</td>\n",
       "      <td>0.019497</td>\n",
       "      <td>0.014164</td>\n",
       "      <td>2430290.0</td>\n",
       "      <td>7004754</td>\n",
       "      <td>4609570.0</td>\n",
       "      <td>10E</td>\n",
       "      <td>...</td>\n",
       "      <td>CA1</td>\n",
       "      <td>-1.135772</td>\n",
       "      <td>-17.311239</td>\n",
       "      <td>-7.427455</td>\n",
       "      <td>-20.497435</td>\n",
       "      <td>CA1 Chrm3</td>\n",
       "      <td>2.912797</td>\n",
       "      <td>2.683262</td>\n",
       "      <td>-19.971042</td>\n",
       "      <td>24.551260</td>\n",
       "    </tr>\n",
       "  </tbody>\n",
       "</table>\n",
       "<p>5 rows × 39 columns</p>\n",
       "</div>"
      ],
      "text/plain": [
       "                                                    AllcPath  CCC_Rate  \\\n",
       "10E_M_0    /gale/raidix/rdx-4/mapping/10E/CEMBA190625-10E...  0.008198   \n",
       "10E_M_1    /gale/raidix/rdx-4/mapping/10E/CEMBA190625-10E...  0.006019   \n",
       "10E_M_10   /gale/raidix/rdx-4/mapping/10E/CEMBA190625-10E...  0.006569   \n",
       "10E_M_101  /gale/raidix/rdx-4/mapping/10E/CEMBA190625-10E...  0.006353   \n",
       "10E_M_102  /gale/raidix/rdx-4/mapping/10E/CEMBA190625-10E...  0.005409   \n",
       "\n",
       "            CG_Rate  CG_RateAdj   CH_Rate  CH_RateAdj  FinalReads  InputReads  \\\n",
       "10E_M_0    0.822633    0.821166  0.041640    0.033718   1626504.0     4407752   \n",
       "10E_M_1    0.743035    0.741479  0.024127    0.018218   2009998.0     5524084   \n",
       "10E_M_10   0.750172    0.748520  0.027665    0.021235   1383636.0     3455260   \n",
       "10E_M_101  0.760898    0.759369  0.026547    0.020323   2474670.0     7245482   \n",
       "10E_M_102  0.752980    0.751637  0.019497    0.014164   2430290.0     7004754   \n",
       "\n",
       "           MappedReads Region  ... MajorType  l2-umap_0  l2-umap_1  l2-tsne_0  \\\n",
       "10E_M_0      2892347.0    10E  ...   MGE-Sst -23.368460  -1.151200 -34.021153   \n",
       "10E_M_1      3657352.0    10E  ...       CA3  -8.322600  -3.988057  19.205085   \n",
       "10E_M_10     2172987.0    10E  ...       CA3  -7.409779  -4.662556  20.146606   \n",
       "10E_M_101    4778768.0    10E  ...       CA3  -6.266342  -8.345406  25.465765   \n",
       "10E_M_102    4609570.0    10E  ...       CA1  -1.135772 -17.311239  -7.427455   \n",
       "\n",
       "           l2-tsne_1       SubType  l3-umap_0  l3-umap_1  l3-tsne_0  l3-tsne_1  \n",
       "10E_M_0   -19.429447  MGE-Sst Rxra  -0.766630 -16.704815  20.297781   1.192093  \n",
       "10E_M_1    10.272570     CA3 Cadm2   4.290240  -2.610511   7.860870   8.813396  \n",
       "10E_M_10    6.345836     CA3 Cadm2   5.852028  -2.510058  12.927795   8.544050  \n",
       "10E_M_101  -6.767192     CA3 Cadm2  11.189178  -3.763147  29.875836   2.739283  \n",
       "10E_M_102 -20.497435     CA1 Chrm3   2.912797   2.683262 -19.971042  24.551260  \n",
       "\n",
       "[5 rows x 39 columns]"
      ]
     },
     "execution_count": 5,
     "metadata": {},
     "output_type": "execute_result"
    }
   ],
   "source": [
    "cell_tidy_data.head()"
   ]
  },
  {
   "cell_type": "markdown",
   "metadata": {},
   "source": [
    "## Palette"
   ]
  },
  {
   "cell_type": "code",
   "execution_count": 6,
   "metadata": {
    "ExecuteTime": {
     "end_time": "2019-11-18T22:26:11.190418Z",
     "start_time": "2019-11-18T22:26:11.174967Z"
    }
   },
   "outputs": [],
   "source": [
    "region_palette = pd.read_csv('/home/hanliu/project/mouse_rostral_brain/metadata/palette/dissection_region.palette.csv',\n",
    "                                header=None, index_col=0, squeeze=True).to_dict()\n",
    "sub_region_palette = pd.read_csv('/home/hanliu/project/mouse_rostral_brain/metadata/palette/sub_region.palette.csv',\n",
    "                                header=None, index_col=0, squeeze=True).to_dict()\n",
    "major_region_palette = pd.read_csv('/home/hanliu/project/mouse_rostral_brain/metadata/palette/major_region.palette.csv',\n",
    "                                header=None, index_col=0, squeeze=True).to_dict()\n",
    "\n",
    "cell_class_palette = pd.read_csv('/home/hanliu/project/mouse_rostral_brain/metadata/palette/cell_class.palette.csv',\n",
    "                                header=None, index_col=0, squeeze=True).to_dict()\n",
    "major_type_palette = pd.read_csv('/home/hanliu/project/mouse_rostral_brain/metadata/palette/major_type.palette.csv',\n",
    "                                header=None, index_col=0, squeeze=True).to_dict()\n",
    "sub_type_palette = pd.read_csv('/home/hanliu/project/mouse_rostral_brain/metadata/palette/sub_type.palette.csv',\n",
    "                                header=None, index_col=0, squeeze=True).to_dict()\n",
    "\n"
   ]
  },
  {
   "cell_type": "code",
   "execution_count": 7,
   "metadata": {
    "ExecuteTime": {
     "end_time": "2019-11-18T22:26:11.195915Z",
     "start_time": "2019-11-18T22:26:11.192258Z"
    }
   },
   "outputs": [],
   "source": [
    "type_order = pd.read_csv('./files/MajorType.order_by_dendrogram.txt', index_col=0, header=None).index.tolist()"
   ]
  },
  {
   "cell_type": "markdown",
   "metadata": {},
   "source": [
    "## Calc Cluster Region Entropy"
   ]
  },
  {
   "cell_type": "code",
   "execution_count": 8,
   "metadata": {
    "ExecuteTime": {
     "end_time": "2019-11-18T22:26:11.543742Z",
     "start_time": "2019-11-18T22:26:11.197280Z"
    }
   },
   "outputs": [],
   "source": [
    "from scipy.stats import entropy\n",
    "def calc_entropy(sub_df, col):\n",
    "    counts = sub_df[col].value_counts().tolist()\n",
    "    return entropy(counts)\n",
    "\n",
    "cluster_col = 'MajorType'\n",
    "region_col = ['MajorRegion', 'SubRegion', 'Region']\n",
    "\n",
    "bar_data = {}\n",
    "for col in region_col:\n",
    "    region_type_entropy = cell_tidy_data.groupby(cluster_col).apply(lambda i: calc_entropy(i, col=col))\n",
    "    bar_data[col] = region_type_entropy\n",
    "bar_data = pd.DataFrame(bar_data)\n",
    "bar_data = bar_data.unstack().reset_index()\n",
    "bar_data.columns = ['RegionType', 'Cluster', 'Entropy']"
   ]
  },
  {
   "cell_type": "code",
   "execution_count": 9,
   "metadata": {
    "ExecuteTime": {
     "end_time": "2019-11-18T22:26:12.561830Z",
     "start_time": "2019-11-18T22:26:11.545411Z"
    }
   },
   "outputs": [
    {
     "data": {
      "image/png": "[encoded data removed]",
      "text/plain": [
       "<Figure size 2400x300 with 1 Axes>"
      ]
     },
     "metadata": {
      "needs_background": "light"
     },
     "output_type": "display_data"
    }
   ],
   "source": [
    "fig, ax = plt.subplots(figsize=(8, 1), dpi=300)\n",
    "\n",
    "sns.barplot(data=bar_data,\n",
    "            ax=ax,\n",
    "            x='Cluster',\n",
    "            y='Entropy',\n",
    "            order=type_order,\n",
    "            hue='RegionType',\n",
    "            hue_order=region_col[::-1],\n",
    "            palette='Blues',\n",
    "            dodge=False)\n",
    "\n",
    "ax.set(xticklabels=[], yticks=[0, 1, 2, 3, 4], xlabel='', ylabel='Cell Type\\nSpatial Entropy')\n",
    "ax.grid(axis='y', linewidth=linewidth, linestyle='--')\n",
    "ax.legend(bbox_to_anchor=(0.5, -.25), ncol=3, fontsize=labelsize)\n",
    "sns.despine(ax=ax)\n",
    "\n",
    "fig.savefig('files/cell_type_spatial_entropy_barplot.pdf', bbox_inches='tight')"
   ]
  },
  {
   "cell_type": "markdown",
   "metadata": {},
   "source": [
    "## Calc Region Cluster Entropy"
   ]
  },
  {
   "cell_type": "code",
   "execution_count": 19,
   "metadata": {
    "ExecuteTime": {
     "end_time": "2019-11-18T22:28:23.394457Z",
     "start_time": "2019-11-18T22:28:23.181449Z"
    }
   },
   "outputs": [],
   "source": [
    "region_col = 'SubRegion'\n",
    "cluster_col = ['CellClass', 'MajorType', 'SubType']\n",
    "\n",
    "bar_data = {}\n",
    "for col in cluster_col:\n",
    "    region_type_entropy = cell_tidy_data.groupby(region_col).apply(lambda i: calc_entropy(i, col=col))\n",
    "    bar_data[col] = region_type_entropy\n",
    "bar_data = pd.DataFrame(bar_data)\n",
    "bar_data = bar_data.unstack().reset_index()\n",
    "bar_data.columns = ['ClusterType', 'Region', 'Entropy']"
   ]
  },
  {
   "cell_type": "code",
   "execution_count": 20,
   "metadata": {
    "ExecuteTime": {
     "end_time": "2019-11-18T22:28:23.400013Z",
     "start_time": "2019-11-18T22:28:23.396044Z"
    }
   },
   "outputs": [],
   "source": [
    "region_order = [\n",
    "    '3F', '4E', '5F', '4D', '5E', '4G', '5J', '4H', '5H', '8E', '9H', '10E',\n",
    "    '10F', '11E', '8J', '9J', '11F', '5A', '6A', '2A', '3A', '4A', '3D', '2C',\n",
    "    '3C', '4B', '5D', '1A', '2B', '3B', '1B', '4C', '5B', '6B', '7B', '8B',\n",
    "    '5C', '6C', '2E', '1C', '2D', '3E', '4F', '5G', '6D'\n",
    "]\n",
    "\n",
    "region_order = [\n",
    "    'ACB', 'CP', 'LSX', 'PAL', 'CA', 'CA,DG', 'DG', 'ACA', 'ACA,PL,ILA', 'AI',\n",
    "    'MOp', 'MOs', 'ORB', 'SSp', 'SSs', 'AON', 'MOB,AON', 'PIR'\n",
    "]"
   ]
  },
  {
   "cell_type": "code",
   "execution_count": 22,
   "metadata": {
    "ExecuteTime": {
     "end_time": "2019-11-18T22:33:02.974604Z",
     "start_time": "2019-11-18T22:33:02.162067Z"
    }
   },
   "outputs": [
    {
     "data": {
      "image/png": "[encoded data removed]",
      "text/plain": [
       "<Figure size 2400x300 with 1 Axes>"
      ]
     },
     "metadata": {
      "needs_background": "light"
     },
     "output_type": "display_data"
    }
   ],
   "source": [
    "fig, ax = plt.subplots(figsize=(8, 1), dpi=300)\n",
    "\n",
    "sns.barplot(data=bar_data,\n",
    "            ax=ax,\n",
    "            x='Region',\n",
    "            y='Entropy',\n",
    "            order=region_order,\n",
    "            hue='ClusterType',\n",
    "            hue_order=cluster_col[::-1],\n",
    "            palette='Greens',\n",
    "            dodge=False)\n",
    "\n",
    "ax.set(xticklabels=region_order, yticks=[0, 1, 2, 3, 4], \n",
    "       xlabel='', ylabel='Dissection Region\\nCell Type Entropy')\n",
    "ax.xaxis.set_tick_params(rotation=90)\n",
    "ax.grid(axis='y', linewidth=linewidth, linestyle='--')\n",
    "ax.legend(bbox_to_anchor=(0.5, -.85), ncol=3, fontsize=labelsize)\n",
    "sns.despine(ax=ax)\n",
    "\n",
    "fig.savefig('files/region_cell_type_entropy_barplot.pdf', bbox_inches='tight')"
   ]
  },
  {
   "cell_type": "code",
   "execution_count": null,
   "metadata": {},
   "outputs": [],
   "source": []
  },
  {
   "cell_type": "code",
   "execution_count": null,
   "metadata": {},
   "outputs": [],
   "source": []
  }
 ],
 "metadata": {
  "hide_input": false,
  "kernelspec": {
   "display_name": "Python 3",
   "language": "python",
   "name": "python3"
  },
  "language_info": {
   "codemirror_mode": {
    "name": "ipython",
    "version": 3
   },
   "file_extension": ".py",
   "mimetype": "text/x-python",
   "name": "python",
   "nbconvert_exporter": "python",
   "pygments_lexer": "ipython3",
   "version": "3.7.3"
  },
  "toc": {
   "base_numbering": 1,
   "nav_menu": {},
   "number_sections": true,
   "sideBar": true,
   "skip_h1_title": true,
   "title_cell": "Table of Contents",
   "title_sidebar": "Contents",
   "toc_cell": false,
   "toc_position": {},
   "toc_section_display": true,
   "toc_window_display": true
  }
 },
 "nbformat": 4,
 "nbformat_minor": 2
}
