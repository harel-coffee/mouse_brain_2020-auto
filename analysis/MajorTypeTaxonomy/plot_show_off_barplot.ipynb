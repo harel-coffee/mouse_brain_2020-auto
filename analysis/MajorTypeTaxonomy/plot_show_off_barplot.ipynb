{
 "cells": [
  {
   "cell_type": "code",
   "execution_count": 1,
   "metadata": {
    "ExecuteTime": {
     "end_time": "2020-02-29T05:25:40.017504Z",
     "start_time": "2020-02-29T05:25:37.234784Z"
    }
   },
   "outputs": [],
   "source": [
    "import pandas as pd\n",
    "import numpy as np\n",
    "import seaborn as sns\n",
    "import matplotlib.pyplot as plt\n",
    "import xarray as xr\n",
    "from ALLCools.plot import *"
   ]
  },
  {
   "cell_type": "code",
   "execution_count": 2,
   "metadata": {
    "ExecuteTime": {
     "end_time": "2020-02-29T05:25:40.023200Z",
     "start_time": "2020-02-29T05:25:40.019122Z"
    }
   },
   "outputs": [],
   "source": [
    "from matplotlib import rc\n",
    "\n",
    "labelsize = 6\n",
    "linewidth = 0.5\n",
    "rc('lines', linewidth=linewidth)\n",
    "rc('axes', labelsize=labelsize, linewidth=linewidth)\n",
    "rc('xtick', labelsize=labelsize)\n",
    "rc('ytick', labelsize=labelsize)\n",
    "rc('xtick.major', width=linewidth)\n",
    "rc('ytick.major', width=linewidth)\n",
    "rc('xtick.minor', width=linewidth-0.2)\n",
    "rc('ytick.minor', width=linewidth-0.2)"
   ]
  },
  {
   "cell_type": "code",
   "execution_count": 3,
   "metadata": {
    "ExecuteTime": {
     "end_time": "2020-02-29T05:25:40.465532Z",
     "start_time": "2020-02-29T05:25:40.024718Z"
    }
   },
   "outputs": [
    {
     "name": "stderr",
     "output_type": "stream",
     "text": [
      "/home/hanliu/miniconda3/envs/clustering/lib/python3.7/site-packages/IPython/core/interactiveshell.py:3326: FutureWarning: The read_msgpack is deprecated and will be removed in a future version.\n",
      "It is recommended to use pyarrow for on-the-wire transmission of pandas objects.\n",
      "  exec(code_obj, self.user_global_ns, self.user_ns)\n"
     ]
    }
   ],
   "source": [
    "cell_tidy_data = pd.read_msgpack(\n",
    "    '/home/hanliu/project/mouse_rostral_brain/study/ClusteringSummary/Summary/TotalClusteringResults.msg'\n",
    ")"
   ]
  },
  {
   "cell_type": "markdown",
   "metadata": {},
   "source": [
    "## N reads"
   ]
  },
  {
   "cell_type": "code",
   "execution_count": 4,
   "metadata": {
    "ExecuteTime": {
     "end_time": "2020-02-29T05:25:41.105166Z",
     "start_time": "2020-02-29T05:25:40.467103Z"
    }
   },
   "outputs": [
    {
     "data": {
      "image/png": "[encoded data removed]",
      "text/plain": [
       "<Figure size 150x300 with 1 Axes>"
      ]
     },
     "metadata": {
      "needs_background": "light"
     },
     "output_type": "display_data"
    }
   ],
   "source": [
    "fig, ax = plt.subplots(figsize=(0.5, 1), dpi=300)\n",
    "\n",
    "sns.violinplot(cell_tidy_data['FinalReads'], orient='v', ax=ax)\n",
    "ax.set(ylim=(0, 4000000), xticks=[])\n",
    "ax.ticklabel_format(axis='y', style='sci', scilimits=(1, 2))\n",
    "sns.despine(ax=ax, offset=10, bottom=True)\n",
    "ax.text(0.7, 0.7, f\"Mean=\\n1.52M\", fontsize=labelsize, transform=ax.transAxes)\n",
    "\n",
    "ax.set_title('Final Reads per Cell', fontsize=labelsize)\n",
    "\n",
    "fig.savefig('files/FianlReads.violin.pdf', bbox_inches='tight')\n"
   ]
  },
  {
   "cell_type": "code",
   "execution_count": 5,
   "metadata": {
    "ExecuteTime": {
     "end_time": "2020-02-29T05:25:41.122465Z",
     "start_time": "2020-02-29T05:25:41.109595Z"
    }
   },
   "outputs": [
    {
     "data": {
      "text/plain": [
       "count    1.039820e+05\n",
       "mean     1.519459e+06\n",
       "std      5.758405e+05\n",
       "min      5.000710e+05\n",
       "25%      1.131826e+06\n",
       "50%      1.464610e+06\n",
       "75%      1.820728e+06\n",
       "max      9.303761e+06\n",
       "Name: FinalReads, dtype: float64"
      ]
     },
     "execution_count": 5,
     "metadata": {},
     "output_type": "execute_result"
    }
   ],
   "source": [
    "cell_tidy_data['FinalReads'].describe()"
   ]
  },
  {
   "cell_type": "markdown",
   "metadata": {},
   "source": [
    "## Gene %"
   ]
  },
  {
   "cell_type": "code",
   "execution_count": 6,
   "metadata": {
    "ExecuteTime": {
     "end_time": "2020-02-29T05:20:32.617389Z",
     "start_time": "2020-02-29T05:20:04.871958Z"
    }
   },
   "outputs": [
    {
     "name": "stderr",
     "output_type": "stream",
     "text": [
      "/home/hanliu/miniconda3/envs/clustering/lib/python3.7/site-packages/ipykernel_launcher.py:2: FutureWarning: In xarray version 0.15 the default behaviour of `open_mfdataset`\n",
      "will change. To retain the existing behavior, pass\n",
      "combine='nested'. To use future default behavior, pass\n",
      "combine='by_coords'. See\n",
      "http://xarray.pydata.org/en/stable/combining.html#combining-multi\n",
      "\n",
      "  \n",
      "/home/hanliu/miniconda3/envs/clustering/lib/python3.7/site-packages/xarray/backends/api.py:941: FutureWarning: The datasets supplied do not have global dimension coordinates. In\n",
      "future, to continue concatenating without supplying dimension\n",
      "coordinates, please use the new `combine_nested` function (or the\n",
      "`combine='nested'` option to open_mfdataset.\n",
      "  from_openmfds=True,\n"
     ]
    },
    {
     "data": {
      "text/html": [
       "<pre>&lt;xarray.Dataset&gt;\n",
       "Dimensions:           (cell: 158926, count_type: 2, geneslop2k: 55487, mc_type: 2, strand_type: 1)\n",
       "Coordinates:\n",
       "    geneslop2k_end    (geneslop2k) int64 dask.array&lt;chunksize=(55487,), meta=np.ndarray&gt;\n",
       "    geneslop2k_chrom  (geneslop2k) object dask.array&lt;chunksize=(55487,), meta=np.ndarray&gt;\n",
       "    geneslop2k_start  (geneslop2k) int64 dask.array&lt;chunksize=(55487,), meta=np.ndarray&gt;\n",
       "  * count_type        (count_type) object &#x27;mc&#x27; &#x27;cov&#x27;\n",
       "  * strand_type       (strand_type) object &#x27;both&#x27;\n",
       "  * mc_type           (mc_type) object &#x27;CGN&#x27; &#x27;CHN&#x27;\n",
       "  * geneslop2k        (geneslop2k) object &#x27;ENSMUSG00000102693.1&#x27; ... &#x27;ENSMUSG00000064372.1&#x27;\n",
       "  * cell              (cell) object &#x27;10A_M_10&#x27; &#x27;10A_M_0&#x27; ... &#x27;9J_M_3036&#x27;\n",
       "Data variables:\n",
       "    geneslop2k_da     (cell, geneslop2k, mc_type, strand_type, count_type) uint32 dask.array&lt;chunksize=(1510, 55487, 2, 1, 2), meta=np.ndarray&gt;</pre>"
      ],
      "text/plain": [
       "<xarray.Dataset>\n",
       "Dimensions:           (cell: 158926, count_type: 2, geneslop2k: 55487, mc_type: 2, strand_type: 1)\n",
       "Coordinates:\n",
       "    geneslop2k_end    (geneslop2k) int64 dask.array<chunksize=(55487,), meta=np.ndarray>\n",
       "    geneslop2k_chrom  (geneslop2k) object dask.array<chunksize=(55487,), meta=np.ndarray>\n",
       "    geneslop2k_start  (geneslop2k) int64 dask.array<chunksize=(55487,), meta=np.ndarray>\n",
       "  * count_type        (count_type) object 'mc' 'cov'\n",
       "  * strand_type       (strand_type) object 'both'\n",
       "  * mc_type           (mc_type) object 'CGN' 'CHN'\n",
       "  * geneslop2k        (geneslop2k) object 'ENSMUSG00000102693.1' ... 'ENSMUSG00000064372.1'\n",
       "  * cell              (cell) object '10A_M_10' '10A_M_0' ... '9J_M_3036'\n",
       "Data variables:\n",
       "    geneslop2k_da     (cell, geneslop2k, mc_type, strand_type, count_type) uint32 dask.array<chunksize=(1510, 55487, 2, 1, 2), meta=np.ndarray>"
      ]
     },
     "execution_count": 6,
     "metadata": {},
     "output_type": "execute_result"
    }
   ],
   "source": [
    "total_gene_2kb_mcds = xr.open_mfdataset(\n",
    "    '/home/hanliu/project/mouse_rostral_brain/dataset/gene_with_2kb_slop/*mcds'\n",
    ")\n",
    "total_gene_2kb_mcds"
   ]
  },
  {
   "cell_type": "code",
   "execution_count": 7,
   "metadata": {
    "ExecuteTime": {
     "end_time": "2020-02-29T05:20:32.893020Z",
     "start_time": "2020-02-29T05:20:32.619177Z"
    }
   },
   "outputs": [],
   "source": [
    "gene_meta = pd.read_csv(\n",
    "    '/home/hanliu/ref/mouse/gencode/vm22/gencode.vM22.annotation.gene.flat.tsv.gz',\n",
    "    index_col='gene_id',\n",
    "    sep='\\t')\n",
    "gene_meta.index.name = 'gene'\n",
    "gene_name_to_id = {v: k for k, v in gene_meta['gene_name'].iteritems()}\n",
    "gene_idbase_to_id = {i.split('.')[0]: i for i in gene_meta.index}"
   ]
  },
  {
   "cell_type": "code",
   "execution_count": 8,
   "metadata": {
    "ExecuteTime": {
     "end_time": "2020-02-29T05:23:35.169100Z",
     "start_time": "2020-02-29T05:20:32.894709Z"
    }
   },
   "outputs": [
    {
     "name": "stderr",
     "output_type": "stream",
     "text": [
      "/home/hanliu/miniconda3/envs/clustering/lib/python3.7/site-packages/xarray/core/indexing.py:1325: PerformanceWarning: Slicing with an out-of-order index is generating 96 times more chunks\n",
      "  return self.array[key]\n"
     ]
    }
   ],
   "source": [
    "cell_by_gene = total_gene_2kb_mcds['geneslop2k_da'].sel(\n",
    "    cell=cell_tidy_data.index, count_type='cov').sum(dim='mc_type').squeeze()\n",
    "n_gene_detected = (cell_by_gene > 20).sum(dim='geneslop2k') / 55487\n",
    "genes_detected_rate = n_gene_detected.values\n"
   ]
  },
  {
   "cell_type": "code",
   "execution_count": 10,
   "metadata": {
    "ExecuteTime": {
     "end_time": "2020-02-29T05:23:47.860014Z",
     "start_time": "2020-02-29T05:23:47.316661Z"
    }
   },
   "outputs": [
    {
     "data": {
      "image/png": "[encoded data removed]",
      "text/plain": [
       "<Figure size 150x300 with 1 Axes>"
      ]
     },
     "metadata": {
      "needs_background": "light"
     },
     "output_type": "display_data"
    }
   ],
   "source": [
    "import matplotlib.ticker as mtick\n",
    "\n",
    "\n",
    "fig, ax = plt.subplots(figsize=(0.5, 1), dpi=300)\n",
    "\n",
    "sns.violinplot(genes_detected_rate*100, orient='v', ax=ax, color='#FF7F0E')\n",
    "ax.set(ylim=(40, 100), xticks=[])\n",
    "ax.yaxis.set_major_formatter(mtick.PercentFormatter())\n",
    "\n",
    "ax.text(0.7, 0.2, f\"Mean=\\n81%\", fontsize=labelsize, transform=ax.transAxes)\n",
    "sns.despine(ax=ax, offset=10, bottom=True)\n",
    "ax.set_title('Detected Gene %', fontsize=labelsize)\n",
    "fig.savefig('files/GenesDetected.violin.pdf', bbox_inches='tight')\n"
   ]
  },
  {
   "cell_type": "code",
   "execution_count": 11,
   "metadata": {
    "ExecuteTime": {
     "end_time": "2020-02-29T05:23:48.808741Z",
     "start_time": "2020-02-29T05:23:48.793535Z"
    }
   },
   "outputs": [
    {
     "data": {
      "text/plain": [
       "(count    103982.000000\n",
       " mean         81.418615\n",
       " std           7.776113\n",
       " min          23.719069\n",
       " 25%          77.940779\n",
       " 50%          83.060897\n",
       " 75%          86.658136\n",
       " max          96.938022\n",
       " dtype: float64, 83.06089714707949)"
      ]
     },
     "execution_count": 11,
     "metadata": {},
     "output_type": "execute_result"
    }
   ],
   "source": [
    "pd.Series(genes_detected_rate * 100).describe(), pd.Series(genes_detected_rate * 100).median()"
   ]
  },
  {
   "cell_type": "markdown",
   "metadata": {},
   "source": [
    "## Chrom100k %"
   ]
  },
  {
   "cell_type": "code",
   "execution_count": 6,
   "metadata": {
    "ExecuteTime": {
     "end_time": "2020-02-29T05:26:27.436533Z",
     "start_time": "2020-02-29T05:25:42.075888Z"
    }
   },
   "outputs": [
    {
     "name": "stderr",
     "output_type": "stream",
     "text": [
      "/home/hanliu/miniconda3/envs/clustering/lib/python3.7/site-packages/ipykernel_launcher.py:2: FutureWarning: In xarray version 0.15 the default behaviour of `open_mfdataset`\n",
      "will change. To retain the existing behavior, pass\n",
      "combine='nested'. To use future default behavior, pass\n",
      "combine='by_coords'. See\n",
      "http://xarray.pydata.org/en/stable/combining.html#combining-multi\n",
      "\n",
      "  \n",
      "/home/hanliu/miniconda3/envs/clustering/lib/python3.7/site-packages/xarray/backends/api.py:941: FutureWarning: The datasets supplied do not have global dimension coordinates. In\n",
      "future, to continue concatenating without supplying dimension\n",
      "coordinates, please use the new `combine_nested` function (or the\n",
      "`combine='nested'` option to open_mfdataset.\n",
      "  from_openmfds=True,\n"
     ]
    },
    {
     "data": {
      "text/html": [
       "<pre>&lt;xarray.Dataset&gt;\n",
       "Dimensions:              (cell: 161475, chrom100k: 27269, count_type: 2, gene: 58598, mc_type: 2, strand_type: 1)\n",
       "Coordinates:\n",
       "    chrom100k_bin_end    (chrom100k) int64 dask.array&lt;chunksize=(27269,), meta=np.ndarray&gt;\n",
       "    gene_end             (gene) float64 dask.array&lt;chunksize=(58598,), meta=np.ndarray&gt;\n",
       "    gene_chrom           (gene) object dask.array&lt;chunksize=(58598,), meta=np.ndarray&gt;\n",
       "    chrom100k_bin_start  (chrom100k) int64 dask.array&lt;chunksize=(27269,), meta=np.ndarray&gt;\n",
       "    chrom100k_chrom      (chrom100k) object dask.array&lt;chunksize=(27269,), meta=np.ndarray&gt;\n",
       "    gene_start           (gene) float64 dask.array&lt;chunksize=(58598,), meta=np.ndarray&gt;\n",
       "  * gene                 (gene) object &#x27;ENSMUSG00000000001.4&#x27; ... &#x27;ENSMUSG00000118488.1&#x27;\n",
       "  * chrom100k            (chrom100k) int64 0 1 2 3 4 ... 27265 27266 27267 27268\n",
       "  * strand_type          (strand_type) object &#x27;both&#x27;\n",
       "  * mc_type              (mc_type) object &#x27;CGN&#x27; &#x27;CHN&#x27;\n",
       "  * count_type           (count_type) object &#x27;mc&#x27; &#x27;cov&#x27;\n",
       "  * cell                 (cell) object &#x27;10A_M_10&#x27; &#x27;10A_M_0&#x27; ... &#x27;9J_M_3032&#x27;\n",
       "Data variables:\n",
       "    gene_da              (cell, gene, mc_type, strand_type, count_type) float64 dask.array&lt;chunksize=(1510, 58598, 2, 1, 2), meta=np.ndarray&gt;\n",
       "    chrom100k_da         (cell, chrom100k, mc_type, strand_type, count_type) uint32 dask.array&lt;chunksize=(1510, 27269, 2, 1, 2), meta=np.ndarray&gt;</pre>"
      ],
      "text/plain": [
       "<xarray.Dataset>\n",
       "Dimensions:              (cell: 161475, chrom100k: 27269, count_type: 2, gene: 58598, mc_type: 2, strand_type: 1)\n",
       "Coordinates:\n",
       "    chrom100k_bin_end    (chrom100k) int64 dask.array<chunksize=(27269,), meta=np.ndarray>\n",
       "    gene_end             (gene) float64 dask.array<chunksize=(58598,), meta=np.ndarray>\n",
       "    gene_chrom           (gene) object dask.array<chunksize=(58598,), meta=np.ndarray>\n",
       "    chrom100k_bin_start  (chrom100k) int64 dask.array<chunksize=(27269,), meta=np.ndarray>\n",
       "    chrom100k_chrom      (chrom100k) object dask.array<chunksize=(27269,), meta=np.ndarray>\n",
       "    gene_start           (gene) float64 dask.array<chunksize=(58598,), meta=np.ndarray>\n",
       "  * gene                 (gene) object 'ENSMUSG00000000001.4' ... 'ENSMUSG00000118488.1'\n",
       "  * chrom100k            (chrom100k) int64 0 1 2 3 4 ... 27265 27266 27267 27268\n",
       "  * strand_type          (strand_type) object 'both'\n",
       "  * mc_type              (mc_type) object 'CGN' 'CHN'\n",
       "  * count_type           (count_type) object 'mc' 'cov'\n",
       "  * cell                 (cell) object '10A_M_10' '10A_M_0' ... '9J_M_3032'\n",
       "Data variables:\n",
       "    gene_da              (cell, gene, mc_type, strand_type, count_type) float64 dask.array<chunksize=(1510, 58598, 2, 1, 2), meta=np.ndarray>\n",
       "    chrom100k_da         (cell, chrom100k, mc_type, strand_type, count_type) uint32 dask.array<chunksize=(1510, 27269, 2, 1, 2), meta=np.ndarray>"
      ]
     },
     "execution_count": 6,
     "metadata": {},
     "output_type": "execute_result"
    }
   ],
   "source": [
    "total_mcds = xr.open_mfdataset(\n",
    "    '/home/hanliu/project/mouse_rostral_brain/dataset/*.mcds'\n",
    ")\n",
    "total_mcds"
   ]
  },
  {
   "cell_type": "code",
   "execution_count": 7,
   "metadata": {
    "ExecuteTime": {
     "end_time": "2020-02-29T05:27:18.291346Z",
     "start_time": "2020-02-29T05:26:27.438194Z"
    }
   },
   "outputs": [
    {
     "name": "stderr",
     "output_type": "stream",
     "text": [
      "/home/hanliu/miniconda3/envs/clustering/lib/python3.7/site-packages/xarray/core/indexing.py:1325: PerformanceWarning: Slicing with an out-of-order index is generating 93 times more chunks\n",
      "  return self.array[key]\n"
     ]
    }
   ],
   "source": [
    "feature_detect_rate = (total_mcds['chrom100k_da'].sel(count_type='cov', cell=cell_tidy_data.index).sum(\n",
    "    dim='mc_type').squeeze() > 20).sum(dim='chrom100k') / 27269\n",
    "feature_detect_rate = feature_detect_rate.values"
   ]
  },
  {
   "cell_type": "code",
   "execution_count": 21,
   "metadata": {
    "ExecuteTime": {
     "end_time": "2020-02-29T05:30:43.608624Z",
     "start_time": "2020-02-29T05:30:42.976164Z"
    }
   },
   "outputs": [
    {
     "data": {
      "image/png": "[encoded data removed]",
      "text/plain": [
       "<Figure size 150x300 with 1 Axes>"
      ]
     },
     "metadata": {
      "needs_background": "light"
     },
     "output_type": "display_data"
    }
   ],
   "source": [
    "import matplotlib.ticker as mtick\n",
    "\n",
    "\n",
    "fig, ax = plt.subplots(figsize=(0.5, 1), dpi=300)\n",
    "\n",
    "sns.violinplot(feature_detect_rate*100, orient='v', ax=ax, color='#2CA02C', bw=0.4, cut=2)\n",
    "ax.set(ylim=(90, 100), xticks=[])\n",
    "ax.yaxis.set_major_formatter(mtick.PercentFormatter())\n",
    "\n",
    "ax.text(0.7, 0.2, f\"Mean=\\n95%\", fontsize=labelsize, transform=ax.transAxes)\n",
    "sns.despine(ax=ax, offset=10, bottom=True)\n",
    "\n",
    "ax.set_title('Detected Chrom 100k %', fontsize=labelsize)\n",
    "fig.savefig('files/Chrom100kDetected.violin.pdf', bbox_inches='tight')\n"
   ]
  },
  {
   "cell_type": "code",
   "execution_count": 20,
   "metadata": {
    "ExecuteTime": {
     "end_time": "2020-02-29T05:30:36.548604Z",
     "start_time": "2020-02-29T05:30:36.533393Z"
    }
   },
   "outputs": [
    {
     "data": {
      "text/plain": [
       "count    103982.000000\n",
       "mean          0.945672\n",
       "std           0.036297\n",
       "min           0.354358\n",
       "25%           0.949026\n",
       "50%           0.952914\n",
       "75%           0.955334\n",
       "max           0.965859\n",
       "dtype: float64"
      ]
     },
     "execution_count": 20,
     "metadata": {},
     "output_type": "execute_result"
    }
   ],
   "source": [
    "pd.Series(feature_detect_rate).describe()"
   ]
  },
  {
   "cell_type": "code",
   "execution_count": 10,
   "metadata": {
    "ExecuteTime": {
     "end_time": "2020-02-29T05:27:18.835268Z",
     "start_time": "2020-02-29T05:27:18.829175Z"
    }
   },
   "outputs": [
    {
     "data": {
      "text/plain": [
       "0.9529135648538634"
      ]
     },
     "execution_count": 10,
     "metadata": {},
     "output_type": "execute_result"
    }
   ],
   "source": [
    "pd.Series(feature_detect_rate).median()"
   ]
  },
  {
   "cell_type": "code",
   "execution_count": null,
   "metadata": {},
   "outputs": [],
   "source": []
  },
  {
   "cell_type": "code",
   "execution_count": null,
   "metadata": {},
   "outputs": [],
   "source": []
  }
 ],
 "metadata": {
  "hide_input": false,
  "kernelspec": {
   "display_name": "Python 3",
   "language": "python",
   "name": "python3"
  },
  "language_info": {
   "codemirror_mode": {
    "name": "ipython",
    "version": 3
   },
   "file_extension": ".py",
   "mimetype": "text/x-python",
   "name": "python",
   "nbconvert_exporter": "python",
   "pygments_lexer": "ipython3",
   "version": "3.7.3"
  },
  "toc": {
   "base_numbering": 1,
   "nav_menu": {},
   "number_sections": true,
   "sideBar": true,
   "skip_h1_title": true,
   "title_cell": "Table of Contents",
   "title_sidebar": "Contents",
   "toc_cell": false,
   "toc_position": {},
   "toc_section_display": true,
   "toc_window_display": true
  }
 },
 "nbformat": 4,
 "nbformat_minor": 2
}
