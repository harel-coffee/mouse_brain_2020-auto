{
 "cells": [
  {
   "cell_type": "code",
   "execution_count": 1,
   "metadata": {
    "ExecuteTime": {
     "end_time": "2020-01-11T21:50:08.448192Z",
     "start_time": "2020-01-11T21:50:06.327607Z"
    },
    "papermill": {
     "duration": 0.448748,
     "end_time": "2020-01-13T06:51:03.840416",
     "exception": false,
     "start_time": "2020-01-13T06:51:03.391668",
     "status": "completed"
    },
    "tags": []
   },
   "outputs": [],
   "source": [
    "import pathlib\n",
    "import numpy as np\n",
    "import pandas as pd\n",
    "from scipy.sparse import csr_matrix\n",
    "import anndata\n",
    "from pybedtools import BedTool"
   ]
  },
  {
   "cell_type": "markdown",
   "metadata": {
    "ExecuteTime": {
     "end_time": "2020-01-10T03:41:10.279754Z",
     "start_time": "2020-01-10T03:41:10.259634Z"
    },
    "papermill": {
     "duration": 0.010021,
     "end_time": "2020-01-13T06:51:03.860827",
     "exception": false,
     "start_time": "2020-01-13T06:51:03.850806",
     "status": "completed"
    },
    "tags": []
   },
   "source": [
    "## Parameter"
   ]
  },
  {
   "cell_type": "code",
   "execution_count": 2,
   "metadata": {
    "ExecuteTime": {
     "end_time": "2020-01-11T21:50:08.454595Z",
     "start_time": "2020-01-11T21:50:08.450963Z"
    },
    "papermill": {
     "duration": 0.015209,
     "end_time": "2020-01-13T06:51:03.885592",
     "exception": false,
     "start_time": "2020-01-13T06:51:03.870383",
     "status": "completed"
    },
    "tags": [
     "parameters"
    ]
   },
   "outputs": [],
   "source": [
    "dmr_path = '/home/hanliu/project/mouse_rostral_brain/DMR/DGmCHGroup/DMR/axis-mch_rms_results_collapsed.tsv'\n",
    "dmr_prefix = 'DGmCH'\n",
    "\n",
    "black_list_path = '/home/hanliu/ref/blacklist/mm10-blacklist.v2.bed.gz'\n",
    "delta_cutoff=0.3\n",
    "dms_cutoff = 1"
   ]
  },
  {
   "cell_type": "code",
   "execution_count": 3,
   "metadata": {
    "papermill": {
     "duration": 0.01425,
     "end_time": "2020-01-13T06:51:03.909006",
     "exception": false,
     "start_time": "2020-01-13T06:51:03.894756",
     "status": "completed"
    },
    "tags": [
     "injected-parameters"
    ]
   },
   "outputs": [],
   "source": [
    "# Parameters\n",
    "dmr_path = \"/home/hanliu/project/mouse_rostral_brain/DMR/ITSpatial_by_region/MOs/MOs_rms_results_collapsed.tsv\"\n",
    "dmr_prefix = \"MOs\"\n",
    "black_list_path = \"/home/hanliu/ref/blacklist/mm10-blacklist.v2.bed.gz\"\n",
    "delta_cutoff = 0.3\n",
    "dms_cutoff = 1\n"
   ]
  },
  {
   "cell_type": "markdown",
   "metadata": {
    "papermill": {
     "duration": 0.00928,
     "end_time": "2020-01-13T06:51:03.927640",
     "exception": false,
     "start_time": "2020-01-13T06:51:03.918360",
     "status": "completed"
    },
    "tags": []
   },
   "source": [
    "## Read DMR"
   ]
  },
  {
   "cell_type": "code",
   "execution_count": 4,
   "metadata": {
    "ExecuteTime": {
     "end_time": "2020-01-11T21:50:12.812215Z",
     "start_time": "2020-01-11T21:50:11.372717Z"
    },
    "papermill": {
     "duration": 0.858555,
     "end_time": "2020-01-13T06:51:04.795581",
     "exception": false,
     "start_time": "2020-01-13T06:51:03.937026",
     "status": "completed"
    },
    "scrolled": true,
    "tags": []
   },
   "outputs": [
    {
     "name": "stdout",
     "output_type": "stream",
     "text": [
      "610495 dmr before filter\n"
     ]
    }
   ],
   "source": [
    "# get column and n_sample\n",
    "dmr_column = pd.read_csv(dmr_path, sep='\\t', nrows=0).columns\n",
    "n_sample = dmr_column.size - 6\n",
    "dmr_column = dmr_column.map(lambda i: i[18:] if 'methylation_level_' in i else i)\n",
    "samples = dmr_column[6:]\n",
    "\n",
    "dmr_region_infos = []\n",
    "mc_rates = []\n",
    "hypo_sig_dict = {sample: [] for sample in samples}\n",
    "hyper_sig_dict = {sample: [] for sample in samples}\n",
    "\n",
    "dmr_df = pd.read_csv(dmr_path, sep='\\t', skiprows=1, names=dmr_column)\n",
    "print(dmr_df.shape[0], 'dmr before filter')\n",
    "dmr_df.index = dmr_df.index.map(lambda i: f'{dmr_prefix}_{i}')\n",
    "\n",
    "# save raw info\n",
    "dmr_bed = dmr_df.iloc[:, :4].copy()\n",
    "mc_rate = dmr_df.iloc[:, 6:].copy()"
   ]
  },
  {
   "cell_type": "markdown",
   "metadata": {
    "papermill": {
     "duration": 0.009651,
     "end_time": "2020-01-13T06:51:04.814930",
     "exception": false,
     "start_time": "2020-01-13T06:51:04.805279",
     "status": "completed"
    },
    "tags": []
   },
   "source": [
    "## Save unfiltered dmr info"
   ]
  },
  {
   "cell_type": "code",
   "execution_count": 5,
   "metadata": {
    "ExecuteTime": {
     "end_time": "2020-01-11T21:50:14.107323Z",
     "start_time": "2020-01-11T21:50:12.814403Z"
    },
    "papermill": {
     "duration": 0.783663,
     "end_time": "2020-01-13T06:51:05.608099",
     "exception": false,
     "start_time": "2020-01-13T06:51:04.824436",
     "status": "completed"
    },
    "tags": []
   },
   "outputs": [],
   "source": [
    "with pd.HDFStore(pathlib.Path(dmr_path).parent / 'DMRInfo.h5') as hdf:\n",
    "    hdf['Rate'] = mc_rate\n",
    "    hdf['Bed'] = dmr_bed"
   ]
  },
  {
   "cell_type": "code",
   "execution_count": 6,
   "metadata": {
    "ExecuteTime": {
     "end_time": "2020-01-11T21:50:17.098376Z",
     "start_time": "2020-01-11T21:50:14.109920Z"
    },
    "papermill": {
     "duration": 1.617894,
     "end_time": "2020-01-13T06:51:07.235884",
     "exception": false,
     "start_time": "2020-01-13T06:51:05.617990",
     "status": "completed"
    },
    "tags": []
   },
   "outputs": [],
   "source": [
    "dmr_bed.reset_index().iloc[:, [1, 2, 3, 0]].to_csv(pathlib.Path(dmr_path).parent / 'TotalDMR.nofilter.bed', \n",
    "                                                   index=None, header=None, sep='\\t')"
   ]
  },
  {
   "cell_type": "markdown",
   "metadata": {
    "papermill": {
     "duration": 0.009342,
     "end_time": "2020-01-13T06:51:07.254875",
     "exception": false,
     "start_time": "2020-01-13T06:51:07.245533",
     "status": "completed"
    },
    "tags": []
   },
   "source": [
    "## Filter DMR"
   ]
  },
  {
   "cell_type": "code",
   "execution_count": 7,
   "metadata": {
    "ExecuteTime": {
     "end_time": "2020-01-11T21:50:17.243243Z",
     "start_time": "2020-01-11T21:50:17.101233Z"
    },
    "papermill": {
     "duration": 0.13263,
     "end_time": "2020-01-13T06:51:07.396514",
     "exception": false,
     "start_time": "2020-01-13T06:51:07.263884",
     "status": "completed"
    },
    "tags": []
   },
   "outputs": [
    {
     "name": "stdout",
     "output_type": "stream",
     "text": [
      "483032 dmr pass delta filter\n"
     ]
    }
   ],
   "source": [
    "# filter by delta\n",
    "delta_judge = (mc_rate.max(axis=1) - mc_rate.min(axis=1)) > delta_cutoff\n",
    "delta_index = mc_rate.index[delta_judge]\n",
    "\n",
    "print(delta_index.size, 'dmr pass delta filter')"
   ]
  },
  {
   "cell_type": "code",
   "execution_count": 8,
   "metadata": {
    "ExecuteTime": {
     "end_time": "2020-01-11T21:50:22.307254Z",
     "start_time": "2020-01-11T21:50:17.245104Z"
    },
    "papermill": {
     "duration": 2.991732,
     "end_time": "2020-01-13T06:51:10.398651",
     "exception": false,
     "start_time": "2020-01-13T06:51:07.406919",
     "status": "completed"
    },
    "tags": []
   },
   "outputs": [
    {
     "name": "stdout",
     "output_type": "stream",
     "text": [
      "604218 dmr pass blacklist filter\n"
     ]
    }
   ],
   "source": [
    "# filter by blacklist\n",
    "black_list = pd.read_csv(black_list_path, sep='\\t', header=None)\n",
    "black_list = BedTool.from_dataframe(black_list)\n",
    "\n",
    "_dmr_bed = BedTool.from_dataframe(dmr_bed.reset_index().iloc[:, [1,2,3,0]])\n",
    "filtered_dmr_bed = _dmr_bed.intersect(black_list, v=True).to_dataframe().set_index('name')\n",
    "\n",
    "white_index = filtered_dmr_bed.index\n",
    "\n",
    "print(white_index.size, 'dmr pass blacklist filter')"
   ]
  },
  {
   "cell_type": "code",
   "execution_count": 9,
   "metadata": {
    "ExecuteTime": {
     "end_time": "2020-01-11T21:50:23.818428Z",
     "start_time": "2020-01-11T21:50:22.309926Z"
    },
    "papermill": {
     "duration": 0.828576,
     "end_time": "2020-01-13T06:51:11.237235",
     "exception": false,
     "start_time": "2020-01-13T06:51:10.408659",
     "status": "completed"
    },
    "tags": []
   },
   "outputs": [
    {
     "name": "stdout",
     "output_type": "stream",
     "text": [
      "478172 dmr after filter\n"
     ]
    },
    {
     "data": {
      "text/html": [
       "<div>\n",
       "<style scoped>\n",
       "    .dataframe tbody tr th:only-of-type {\n",
       "        vertical-align: middle;\n",
       "    }\n",
       "\n",
       "    .dataframe tbody tr th {\n",
       "        vertical-align: top;\n",
       "    }\n",
       "\n",
       "    .dataframe thead th {\n",
       "        text-align: right;\n",
       "    }\n",
       "</style>\n",
       "<table border=\"1\" class=\"dataframe\">\n",
       "  <thead>\n",
       "    <tr style=\"text-align: right;\">\n",
       "      <th></th>\n",
       "      <th>#chr</th>\n",
       "      <th>start</th>\n",
       "      <th>end</th>\n",
       "      <th>number_of_dms</th>\n",
       "      <th>hypermethylated_samples</th>\n",
       "      <th>hypomethylated_samples</th>\n",
       "      <th>IT-L4+MOs</th>\n",
       "      <th>IT-L23+MOs</th>\n",
       "      <th>IT-L5+MOs</th>\n",
       "      <th>IT-L6+MOs</th>\n",
       "    </tr>\n",
       "  </thead>\n",
       "  <tbody>\n",
       "    <tr>\n",
       "      <th>MOs_0</th>\n",
       "      <td>chr1</td>\n",
       "      <td>3067001</td>\n",
       "      <td>3067001</td>\n",
       "      <td>1</td>\n",
       "      <td>NaN</td>\n",
       "      <td>NaN</td>\n",
       "      <td>0.888889</td>\n",
       "      <td>0.960526</td>\n",
       "      <td>0.679612</td>\n",
       "      <td>0.634615</td>\n",
       "    </tr>\n",
       "    <tr>\n",
       "      <th>MOs_1</th>\n",
       "      <td>chr1</td>\n",
       "      <td>3094121</td>\n",
       "      <td>3094121</td>\n",
       "      <td>1</td>\n",
       "      <td>IT-L23+MOs</td>\n",
       "      <td>IT-L6+MOs</td>\n",
       "      <td>0.590909</td>\n",
       "      <td>0.928571</td>\n",
       "      <td>0.842105</td>\n",
       "      <td>0.512821</td>\n",
       "    </tr>\n",
       "    <tr>\n",
       "      <th>MOs_2</th>\n",
       "      <td>chr1</td>\n",
       "      <td>3100308</td>\n",
       "      <td>3100351</td>\n",
       "      <td>2</td>\n",
       "      <td>IT-L5+MOs</td>\n",
       "      <td>IT-L23+MOs</td>\n",
       "      <td>0.750000</td>\n",
       "      <td>0.568493</td>\n",
       "      <td>0.881356</td>\n",
       "      <td>0.861538</td>\n",
       "    </tr>\n",
       "    <tr>\n",
       "      <th>MOs_3</th>\n",
       "      <td>chr1</td>\n",
       "      <td>3109231</td>\n",
       "      <td>3109390</td>\n",
       "      <td>3</td>\n",
       "      <td>IT-L23+MOs,IT-L6+MOs</td>\n",
       "      <td>IT-L5+MOs</td>\n",
       "      <td>0.628571</td>\n",
       "      <td>0.821256</td>\n",
       "      <td>0.485597</td>\n",
       "      <td>0.900990</td>\n",
       "    </tr>\n",
       "    <tr>\n",
       "      <th>MOs_4</th>\n",
       "      <td>chr1</td>\n",
       "      <td>3113889</td>\n",
       "      <td>3113889</td>\n",
       "      <td>1</td>\n",
       "      <td>IT-L4+MOs</td>\n",
       "      <td>IT-L6+MOs</td>\n",
       "      <td>0.884615</td>\n",
       "      <td>0.657895</td>\n",
       "      <td>0.602564</td>\n",
       "      <td>0.279070</td>\n",
       "    </tr>\n",
       "  </tbody>\n",
       "</table>\n",
       "</div>"
      ],
      "text/plain": [
       "       #chr    start      end  number_of_dms hypermethylated_samples  \\\n",
       "MOs_0  chr1  3067001  3067001              1                     NaN   \n",
       "MOs_1  chr1  3094121  3094121              1              IT-L23+MOs   \n",
       "MOs_2  chr1  3100308  3100351              2               IT-L5+MOs   \n",
       "MOs_3  chr1  3109231  3109390              3    IT-L23+MOs,IT-L6+MOs   \n",
       "MOs_4  chr1  3113889  3113889              1               IT-L4+MOs   \n",
       "\n",
       "      hypomethylated_samples  IT-L4+MOs  IT-L23+MOs  IT-L5+MOs  IT-L6+MOs  \n",
       "MOs_0                    NaN   0.888889    0.960526   0.679612   0.634615  \n",
       "MOs_1              IT-L6+MOs   0.590909    0.928571   0.842105   0.512821  \n",
       "MOs_2             IT-L23+MOs   0.750000    0.568493   0.881356   0.861538  \n",
       "MOs_3              IT-L5+MOs   0.628571    0.821256   0.485597   0.900990  \n",
       "MOs_4              IT-L6+MOs   0.884615    0.657895   0.602564   0.279070  "
      ]
     },
     "execution_count": 9,
     "metadata": {},
     "output_type": "execute_result"
    }
   ],
   "source": [
    "dmr_df = dmr_df.loc[delta_index & white_index]\n",
    "dmr_df = dmr_df[dmr_df['number_of_dms'] >= dms_cutoff]\n",
    "print(dmr_df.shape[0], 'dmr after filter')\n",
    "dmr_df.head()"
   ]
  },
  {
   "cell_type": "markdown",
   "metadata": {
    "papermill": {
     "duration": 0.010174,
     "end_time": "2020-01-13T06:51:11.257908",
     "exception": false,
     "start_time": "2020-01-13T06:51:11.247734",
     "status": "completed"
    },
    "tags": []
   },
   "source": [
    "## Assign DMR to each sample"
   ]
  },
  {
   "cell_type": "code",
   "execution_count": 10,
   "metadata": {
    "ExecuteTime": {
     "end_time": "2020-01-11T21:50:25.029660Z",
     "start_time": "2020-01-11T21:50:23.820643Z"
    },
    "papermill": {
     "duration": 0.752814,
     "end_time": "2020-01-13T06:51:12.021025",
     "exception": false,
     "start_time": "2020-01-13T06:51:11.268211",
     "status": "completed"
    },
    "tags": []
   },
   "outputs": [
    {
     "name": "stdout",
     "output_type": "stream",
     "text": [
      "IT-L4+MOs\tHypoDMR \t86528\n",
      "IT-L4+MOs\tHyperDMR\t88098\n",
      "IT-L23+MOs\tHypoDMR \t216684\n",
      "IT-L23+MOs\tHyperDMR\t144377\n"
     ]
    },
    {
     "name": "stdout",
     "output_type": "stream",
     "text": [
      "IT-L5+MOs\tHypoDMR \t153958\n",
      "IT-L5+MOs\tHyperDMR\t149383\n",
      "IT-L6+MOs\tHypoDMR \t79168\n",
      "IT-L6+MOs\tHyperDMR\t166825\n"
     ]
    }
   ],
   "source": [
    "# parse results\n",
    "for sample in samples:\n",
    "    # here saved a list of np.array\n",
    "    hypo_index = dmr_df[dmr_df['hypomethylated_samples'].fillna('').apply(lambda i: sample in i)].index\n",
    "    hyper_index = dmr_df[dmr_df['hypermethylated_samples'].fillna('').apply(lambda i: sample in i)].index\n",
    "    hypo_sig_dict[sample] = hypo_index\n",
    "    hyper_sig_dict[sample] = hyper_index\n",
    "    print(sample, 'HypoDMR ', hypo_index.size, sep='\\t')\n",
    "    print(sample, 'HyperDMR', hyper_index.size, sep='\\t')\n"
   ]
  },
  {
   "cell_type": "code",
   "execution_count": 11,
   "metadata": {
    "ExecuteTime": {
     "end_time": "2020-01-11T21:50:25.550872Z",
     "start_time": "2020-01-11T21:50:25.032533Z"
    },
    "papermill": {
     "duration": 0.335192,
     "end_time": "2020-01-13T06:51:12.367200",
     "exception": false,
     "start_time": "2020-01-13T06:51:12.032008",
     "status": "completed"
    },
    "tags": []
   },
   "outputs": [
    {
     "name": "stderr",
     "output_type": "stream",
     "text": [
      "/home/hanliu/miniconda3/envs/clustering/lib/python3.7/site-packages/tables/path.py:157: NaturalNameWarning: object name is not a valid Python identifier: 'IT-L4+MOs'; it does not match the pattern ``^[a-zA-Z_][a-zA-Z0-9_]*$``; you will not be able to use natural naming to access this object; using ``getattr()`` will still work, though\n",
      "  check_attribute_name(name)\n",
      "/home/hanliu/miniconda3/envs/clustering/lib/python3.7/site-packages/tables/path.py:157: NaturalNameWarning: object name is not a valid Python identifier: 'IT-L23+MOs'; it does not match the pattern ``^[a-zA-Z_][a-zA-Z0-9_]*$``; you will not be able to use natural naming to access this object; using ``getattr()`` will still work, though\n",
      "  check_attribute_name(name)\n",
      "/home/hanliu/miniconda3/envs/clustering/lib/python3.7/site-packages/tables/path.py:157: NaturalNameWarning: object name is not a valid Python identifier: 'IT-L5+MOs'; it does not match the pattern ``^[a-zA-Z_][a-zA-Z0-9_]*$``; you will not be able to use natural naming to access this object; using ``getattr()`` will still work, though\n",
      "  check_attribute_name(name)\n",
      "/home/hanliu/miniconda3/envs/clustering/lib/python3.7/site-packages/tables/path.py:157: NaturalNameWarning: object name is not a valid Python identifier: 'IT-L6+MOs'; it does not match the pattern ``^[a-zA-Z_][a-zA-Z0-9_]*$``; you will not be able to use natural naming to access this object; using ``getattr()`` will still work, though\n",
      "  check_attribute_name(name)\n"
     ]
    }
   ],
   "source": [
    "with pd.HDFStore(pathlib.Path(dmr_path).parent / 'DMRInfo.h5') as hdf:\n",
    "    for sample, hypo_index in hypo_sig_dict.items():\n",
    "        hdf[f'HypoDMR/{sample}'] = pd.Series(hypo_index)\n",
    "    for sample, hyper_index in hyper_sig_dict.items():\n",
    "        hdf[f'HyperDMR/{sample}'] = pd.Series(hyper_index)"
   ]
  },
  {
   "cell_type": "markdown",
   "metadata": {
    "papermill": {
     "duration": 0.011054,
     "end_time": "2020-01-13T06:51:12.389704",
     "exception": false,
     "start_time": "2020-01-13T06:51:12.378650",
     "status": "completed"
    },
    "scrolled": true,
    "tags": []
   },
   "source": [
    "## Dump DMR bed"
   ]
  },
  {
   "cell_type": "code",
   "execution_count": 12,
   "metadata": {
    "ExecuteTime": {
     "end_time": "2020-01-11T21:50:29.025860Z",
     "start_time": "2020-01-11T21:50:25.553426Z"
    },
    "papermill": {
     "duration": 1.934405,
     "end_time": "2020-01-13T06:51:14.334961",
     "exception": false,
     "start_time": "2020-01-13T06:51:12.400556",
     "status": "completed"
    },
    "tags": []
   },
   "outputs": [],
   "source": [
    "hypo_dir = pathlib.Path(dmr_path).parent / 'HypoDMR'\n",
    "hypo_dir.mkdir(exist_ok=True)\n",
    "for sample, hypo_index in hypo_sig_dict.items():\n",
    "    _bed = dmr_bed.loc[hypo_index].reset_index().iloc[:, [1, 2, 3, 0]].to_csv(\n",
    "        hypo_dir / f'{sample}.DMS{dms_cutoff}.bed', sep='\\t', index=None, header=None)"
   ]
  },
  {
   "cell_type": "code",
   "execution_count": 13,
   "metadata": {
    "ExecuteTime": {
     "end_time": "2020-01-11T21:50:32.081184Z",
     "start_time": "2020-01-11T21:50:29.028642Z"
    },
    "papermill": {
     "duration": 1.922948,
     "end_time": "2020-01-13T06:51:16.269388",
     "exception": false,
     "start_time": "2020-01-13T06:51:14.346440",
     "status": "completed"
    },
    "tags": []
   },
   "outputs": [],
   "source": [
    "hyper_dir = pathlib.Path(dmr_path).parent / 'HyperDMR'\n",
    "hyper_dir.mkdir(exist_ok=True)\n",
    "for sample, hyper_index in hyper_sig_dict.items():\n",
    "    _bed = dmr_bed.loc[hyper_index].reset_index().iloc[:, [1, 2, 3, 0]].to_csv(\n",
    "        hyper_dir / f'{sample}.DMS{dms_cutoff}.bed', sep='\\t', index=None, header=None)"
   ]
  },
  {
   "cell_type": "markdown",
   "metadata": {
    "papermill": {
     "duration": 0.011556,
     "end_time": "2020-01-13T06:51:16.292424",
     "exception": false,
     "start_time": "2020-01-13T06:51:16.280868",
     "status": "completed"
    },
    "tags": []
   },
   "source": [
    "## DMR hits matrix"
   ]
  },
  {
   "cell_type": "code",
   "execution_count": 14,
   "metadata": {
    "ExecuteTime": {
     "end_time": "2020-01-11T21:50:34.328987Z",
     "start_time": "2020-01-11T21:50:32.083780Z"
    },
    "papermill": {
     "duration": 1.427437,
     "end_time": "2020-01-13T06:51:17.730791",
     "exception": false,
     "start_time": "2020-01-13T06:51:16.303354",
     "status": "completed"
    },
    "tags": []
   },
   "outputs": [
    {
     "name": "stderr",
     "output_type": "stream",
     "text": [
      "... storing '#chr' as categorical\n"
     ]
    }
   ],
   "source": [
    "sig_dict = hypo_sig_dict\n",
    "\n",
    "rows = []\n",
    "cols = []\n",
    "datas = []\n",
    "for i, (sample, dmr_index) in enumerate(sig_dict.items()):\n",
    "    col = dmr_index.map(lambda i: i.split('_')[1]).astype(int).values\n",
    "    row = (np.ones_like(col) * i).astype(int)\n",
    "    data = np.ones_like(col)\n",
    "    rows.append(row)\n",
    "    cols.append(col)\n",
    "    datas.append(data)\n",
    "datas = np.concatenate(datas)\n",
    "cols = np.concatenate(cols)\n",
    "rows = np.concatenate(rows)\n",
    "hits = csr_matrix((datas, (rows, cols)),\n",
    "                  shape=(mc_rate.shape[1], dmr_bed.shape[0]))\n",
    "\n",
    "# obs is DMR, var is sample, because all analysis is dmr focused\n",
    "dmr_hits = anndata.AnnData(X=hits.T,\n",
    "                           obs=dmr_bed,\n",
    "                           var=pd.DataFrame([], index=mc_rate.columns))\n",
    "\n",
    "dmr_hits.write_h5ad(hypo_dir / 'TotalHits.h5ad')\n"
   ]
  },
  {
   "cell_type": "code",
   "execution_count": 15,
   "metadata": {
    "ExecuteTime": {
     "end_time": "2020-01-11T21:50:36.639219Z",
     "start_time": "2020-01-11T21:50:34.332066Z"
    },
    "papermill": {
     "duration": 1.424787,
     "end_time": "2020-01-13T06:51:19.166907",
     "exception": false,
     "start_time": "2020-01-13T06:51:17.742120",
     "status": "completed"
    },
    "tags": []
   },
   "outputs": [
    {
     "name": "stderr",
     "output_type": "stream",
     "text": [
      "... storing '#chr' as categorical\n"
     ]
    }
   ],
   "source": [
    "sig_dict = hyper_sig_dict\n",
    "\n",
    "rows = []\n",
    "cols = []\n",
    "datas = []\n",
    "for i, (sample, dmr_index) in enumerate(sig_dict.items()):\n",
    "    col = dmr_index.map(lambda i: i.split('_')[1]).astype(int).values\n",
    "    row = (np.ones_like(col) * i).astype(int)\n",
    "    data = np.ones_like(col)\n",
    "    rows.append(row)\n",
    "    cols.append(col)\n",
    "    datas.append(data)\n",
    "datas = np.concatenate(datas)\n",
    "cols = np.concatenate(cols)\n",
    "rows = np.concatenate(rows)\n",
    "hits = csr_matrix((datas, (rows, cols)),\n",
    "                  shape=(mc_rate.shape[1], dmr_bed.shape[0]))\n",
    "\n",
    "# obs is DMR, var is sample, because all analysis is dmr focused\n",
    "dmr_hits = anndata.AnnData(X=hits.T,\n",
    "                           obs=dmr_bed,\n",
    "                           var=pd.DataFrame([], index=mc_rate.columns))\n",
    "\n",
    "dmr_hits.write_h5ad(hyper_dir / 'TotalHits.h5ad')"
   ]
  },
  {
   "cell_type": "code",
   "execution_count": null,
   "metadata": {
    "papermill": {
     "duration": 0.011232,
     "end_time": "2020-01-13T06:51:19.189692",
     "exception": false,
     "start_time": "2020-01-13T06:51:19.178460",
     "status": "completed"
    },
    "tags": []
   },
   "outputs": [],
   "source": []
  },
  {
   "cell_type": "code",
   "execution_count": null,
   "metadata": {
    "papermill": {
     "duration": 0.010991,
     "end_time": "2020-01-13T06:51:19.211744",
     "exception": false,
     "start_time": "2020-01-13T06:51:19.200753",
     "status": "completed"
    },
    "tags": []
   },
   "outputs": [],
   "source": []
  },
  {
   "cell_type": "code",
   "execution_count": null,
   "metadata": {
    "papermill": {
     "duration": 0.011375,
     "end_time": "2020-01-13T06:51:19.234006",
     "exception": false,
     "start_time": "2020-01-13T06:51:19.222631",
     "status": "completed"
    },
    "tags": []
   },
   "outputs": [],
   "source": []
  }
 ],
 "metadata": {
  "hide_input": false,
  "kernelspec": {
   "display_name": "Python 3",
   "language": "python",
   "name": "python3"
  },
  "language_info": {
   "codemirror_mode": {
    "name": "ipython",
    "version": 3
   },
   "file_extension": ".py",
   "mimetype": "text/x-python",
   "name": "python",
   "nbconvert_exporter": "python",
   "pygments_lexer": "ipython3",
   "version": "3.7.3"
  },
  "papermill": {
   "duration": 17.133084,
   "end_time": "2020-01-13T06:51:19.651788",
   "environment_variables": {},
   "exception": null,
   "input_path": "1.FilterDMRRecipe_simple_min_max.ipynb",
   "output_path": "/home/hanliu/project/mouse_rostral_brain/DMR/ITSpatial_by_region/MOs/Recipe/1.FilterDMRRecipe_simple_min_max.ipynb",
   "parameters": {
    "black_list_path": "/home/hanliu/ref/blacklist/mm10-blacklist.v2.bed.gz",
    "delta_cutoff": 0.3,
    "dmr_path": "/home/hanliu/project/mouse_rostral_brain/DMR/ITSpatial_by_region/MOs/MOs_rms_results_collapsed.tsv",
    "dmr_prefix": "MOs",
    "dms_cutoff": 1
   },
   "start_time": "2020-01-13T06:51:02.518704",
   "version": "1.0.1"
  },
  "toc": {
   "base_numbering": 1,
   "nav_menu": {},
   "number_sections": true,
   "sideBar": true,
   "skip_h1_title": true,
   "title_cell": "Table of Contents",
   "title_sidebar": "Contents",
   "toc_cell": false,
   "toc_position": {},
   "toc_section_display": true,
   "toc_window_display": true
  }
 },
 "nbformat": 4,
 "nbformat_minor": 2
}