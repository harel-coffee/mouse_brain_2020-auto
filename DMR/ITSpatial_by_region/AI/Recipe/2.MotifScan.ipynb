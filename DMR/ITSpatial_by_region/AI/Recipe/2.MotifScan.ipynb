{
 "cells": [
  {
   "cell_type": "code",
   "execution_count": 1,
   "metadata": {
    "ExecuteTime": {
     "end_time": "2020-01-11T06:26:26.262114Z",
     "start_time": "2020-01-11T06:26:26.259563Z"
    },
    "papermill": {
     "duration": 1.065783,
     "end_time": "2020-01-13T06:18:17.285801",
     "exception": false,
     "start_time": "2020-01-13T06:18:16.220018",
     "status": "completed"
    },
    "tags": []
   },
   "outputs": [],
   "source": [
    "from ALLCools.dmr.fimo import scan_motif_over_bed\n",
    "import pandas as pd\n",
    "import numpy as np\n",
    "import seaborn as sns\n",
    "import pathlib\n",
    "import anndata\n",
    "import subprocess\n",
    "from scipy.sparse import csr_matrix"
   ]
  },
  {
   "cell_type": "code",
   "execution_count": 2,
   "metadata": {
    "ExecuteTime": {
     "end_time": "2020-01-11T06:26:26.434524Z",
     "start_time": "2020-01-11T06:26:26.432502Z"
    },
    "papermill": {
     "duration": 0.01219,
     "end_time": "2020-01-13T06:18:17.305421",
     "exception": false,
     "start_time": "2020-01-13T06:18:17.293231",
     "status": "completed"
    },
    "tags": [
     "parameters"
    ]
   },
   "outputs": [],
   "source": [
    "bed_path = '/home/hanliu/project/mouse_rostral_brain/DMR/DGmCHGroup/DMR/TotalDMR.nofilter.bed'\n",
    "motif_file_path = '/home/hanliu/ref/MEME/selected_motifs_sets/JASPAR2020_CORE_vertebrates_non-redundant_pfms.has_mouse_id.meme'\n",
    "genome_fasta_path = '/home/hanliu/ref/mouse/genome/fasta/raw/mm10.fa'\n",
    "chrom_size_path = '/home/hanliu/ref/mouse/genome/mm10.main.chrom.sizes'"
   ]
  },
  {
   "cell_type": "code",
   "execution_count": 3,
   "metadata": {
    "papermill": {
     "duration": 0.011384,
     "end_time": "2020-01-13T06:18:17.323173",
     "exception": false,
     "start_time": "2020-01-13T06:18:17.311789",
     "status": "completed"
    },
    "tags": [
     "injected-parameters"
    ]
   },
   "outputs": [],
   "source": [
    "# Parameters\n",
    "bed_path = \"/home/hanliu/project/mouse_rostral_brain/DMR/ITSpatial_by_region/AI/TotalDMR.nofilter.bed\"\n",
    "motif_file_path = \"/home/hanliu/ref/MEME/selected_motifs_sets/JASPAR2020_CORE_vertebrates_non-redundant_pfms.has_mouse_id.meme\"\n",
    "genome_fasta_path = \"/home/hanliu/ref/mouse/genome/fasta/raw/mm10.fa\"\n",
    "chrom_size_path = \"/home/hanliu/ref/mouse/genome/mm10.main.chrom.sizes\"\n"
   ]
  },
  {
   "cell_type": "code",
   "execution_count": 4,
   "metadata": {
    "ExecuteTime": {
     "end_time": "2020-01-11T06:26:26.789884Z",
     "start_time": "2020-01-11T06:26:26.592466Z"
    },
    "papermill": {
     "duration": 0.169231,
     "end_time": "2020-01-13T06:18:17.498364",
     "exception": false,
     "start_time": "2020-01-13T06:18:17.329133",
     "status": "completed"
    },
    "tags": []
   },
   "outputs": [
    {
     "data": {
      "text/html": [
       "<div>\n",
       "<style scoped>\n",
       "    .dataframe tbody tr th:only-of-type {\n",
       "        vertical-align: middle;\n",
       "    }\n",
       "\n",
       "    .dataframe tbody tr th {\n",
       "        vertical-align: top;\n",
       "    }\n",
       "\n",
       "    .dataframe thead th {\n",
       "        text-align: right;\n",
       "    }\n",
       "</style>\n",
       "<table border=\"1\" class=\"dataframe\">\n",
       "  <thead>\n",
       "    <tr style=\"text-align: right;\">\n",
       "      <th></th>\n",
       "      <th>chrom</th>\n",
       "      <th>start</th>\n",
       "      <th>end</th>\n",
       "    </tr>\n",
       "    <tr>\n",
       "      <th>name</th>\n",
       "      <th></th>\n",
       "      <th></th>\n",
       "      <th></th>\n",
       "    </tr>\n",
       "  </thead>\n",
       "  <tbody>\n",
       "    <tr>\n",
       "      <th>AI_0</th>\n",
       "      <td>chr1</td>\n",
       "      <td>3095224</td>\n",
       "      <td>3095224</td>\n",
       "    </tr>\n",
       "    <tr>\n",
       "      <th>AI_1</th>\n",
       "      <td>chr1</td>\n",
       "      <td>3113766</td>\n",
       "      <td>3113766</td>\n",
       "    </tr>\n",
       "    <tr>\n",
       "      <th>AI_2</th>\n",
       "      <td>chr1</td>\n",
       "      <td>3114936</td>\n",
       "      <td>3115193</td>\n",
       "    </tr>\n",
       "    <tr>\n",
       "      <th>AI_3</th>\n",
       "      <td>chr1</td>\n",
       "      <td>3121903</td>\n",
       "      <td>3121903</td>\n",
       "    </tr>\n",
       "    <tr>\n",
       "      <th>AI_4</th>\n",
       "      <td>chr1</td>\n",
       "      <td>3181636</td>\n",
       "      <td>3181636</td>\n",
       "    </tr>\n",
       "  </tbody>\n",
       "</table>\n",
       "</div>"
      ],
      "text/plain": [
       "     chrom    start      end\n",
       "name                        \n",
       "AI_0  chr1  3095224  3095224\n",
       "AI_1  chr1  3113766  3113766\n",
       "AI_2  chr1  3114936  3115193\n",
       "AI_3  chr1  3121903  3121903\n",
       "AI_4  chr1  3181636  3181636"
      ]
     },
     "execution_count": 4,
     "metadata": {},
     "output_type": "execute_result"
    }
   ],
   "source": [
    "dmr_bed = pd.read_csv(bed_path, sep='\\t', index_col=3, header=None, names=['chrom', 'start', 'end', 'name'])\n",
    "dmr_bed.head()"
   ]
  },
  {
   "cell_type": "code",
   "execution_count": 5,
   "metadata": {
    "ExecuteTime": {
     "end_time": "2020-01-11T06:26:27.226115Z",
     "start_time": "2020-01-11T06:26:27.223813Z"
    },
    "papermill": {
     "duration": 0.012105,
     "end_time": "2020-01-13T06:18:17.518067",
     "exception": false,
     "start_time": "2020-01-13T06:18:17.505962",
     "status": "completed"
    },
    "tags": []
   },
   "outputs": [],
   "source": [
    "output_path = pathlib.Path(bed_path).parent / 'MotifScan.h5ad'"
   ]
  },
  {
   "cell_type": "markdown",
   "metadata": {
    "papermill": {
     "duration": 0.006501,
     "end_time": "2020-01-13T06:18:17.530888",
     "exception": false,
     "start_time": "2020-01-13T06:18:17.524387",
     "status": "completed"
    },
    "tags": []
   },
   "source": [
    "## Scan motif"
   ]
  },
  {
   "cell_type": "code",
   "execution_count": 6,
   "metadata": {
    "papermill": {
     "duration": 281.432271,
     "end_time": "2020-01-13T06:22:58.969693",
     "exception": false,
     "start_time": "2020-01-13T06:18:17.537422",
     "status": "completed"
    },
    "tags": []
   },
   "outputs": [
    {
     "name": "stdout",
     "output_type": "stream",
     "text": [
      "724 motifs to count.\n"
     ]
    },
    {
     "name": "stdout",
     "output_type": "stream",
     "text": [
      "Motif MA0006.1 Ahr::Arnt do not have any match under current settings.\n"
     ]
    },
    {
     "name": "stdout",
     "output_type": "stream",
     "text": [
      "Motif MA0004.1 Arnt do not have any match under current settings.\n"
     ]
    },
    {
     "name": "stdout",
     "output_type": "stream",
     "text": [
      "Motif MA0151.1 Arid3a do not have any match under current settings.\n"
     ]
    },
    {
     "name": "stdout",
     "output_type": "stream",
     "text": [
      "/home/hanliu/project/mouse_rostral_brain/DMR/ITSpatial_by_region/AI/MotifScan.h5adtemp/MA0875.1.meme, N motif total=11462\n"
     ]
    },
    {
     "name": "stderr",
     "output_type": "stream",
     "text": [
      "/home/hanliu/miniconda3/envs/clustering/lib/python3.7/site-packages/ALLCools/dmr/fimo.py:60: FutureWarning: to_msgpack is deprecated and will be removed in a future version.\n",
      "It is recommended to use pyarrow for on-the-wire transmission of pandas objects.\n",
      "  final_df.to_msgpack(output_path, compress='zlib')\n"
     ]
    },
    {
     "name": "stdout",
     "output_type": "stream",
     "text": [
      "/home/hanliu/project/mouse_rostral_brain/DMR/ITSpatial_by_region/AI/MotifScan.h5adtemp/MA0259.1.meme, N motif total=9691\n"
     ]
    },
    {
     "name": "stderr",
     "output_type": "stream",
     "text": [
      "/home/hanliu/miniconda3/envs/clustering/lib/python3.7/site-packages/ALLCools/dmr/fimo.py:60: FutureWarning: to_msgpack is deprecated and will be removed in a future version.\n",
      "It is recommended to use pyarrow for on-the-wire transmission of pandas objects.\n",
      "  final_df.to_msgpack(output_path, compress='zlib')\n"
     ]
    },
    {
     "name": "stdout",
     "output_type": "stream",
     "text": [
      "/home/hanliu/project/mouse_rostral_brain/DMR/ITSpatial_by_region/AI/MotifScan.h5adtemp/MA0877.2.meme, N motif total=3350\n"
     ]
    },
    {
     "name": "stderr",
     "output_type": "stream",
     "text": [
      "/home/hanliu/miniconda3/envs/clustering/lib/python3.7/site-packages/ALLCools/dmr/fimo.py:60: FutureWarning: to_msgpack is deprecated and will be removed in a future version.\n",
      "It is recommended to use pyarrow for on-the-wire transmission of pandas objects.\n",
      "  final_df.to_msgpack(output_path, compress='zlib')\n"
     ]
    },
    {
     "name": "stdout",
     "output_type": "stream",
     "text": [
      "/home/hanliu/project/mouse_rostral_brain/DMR/ITSpatial_by_region/AI/MotifScan.h5adtemp/MA0607.1.meme, N motif total=37390\n"
     ]
    },
    {
     "name": "stderr",
     "output_type": "stream",
     "text": [
      "/home/hanliu/miniconda3/envs/clustering/lib/python3.7/site-packages/ALLCools/dmr/fimo.py:60: FutureWarning: to_msgpack is deprecated and will be removed in a future version.\n",
      "It is recommended to use pyarrow for on-the-wire transmission of pandas objects.\n",
      "  final_df.to_msgpack(output_path, compress='zlib')\n"
     ]
    },
    {
     "name": "stdout",
     "output_type": "stream",
     "text": [
      "/home/hanliu/project/mouse_rostral_brain/DMR/ITSpatial_by_region/AI/MotifScan.h5adtemp/MA0604.1.meme, N motif total=4729\n"
     ]
    },
    {
     "name": "stderr",
     "output_type": "stream",
     "text": [
      "/home/hanliu/miniconda3/envs/clustering/lib/python3.7/site-packages/ALLCools/dmr/fimo.py:60: FutureWarning: to_msgpack is deprecated and will be removed in a future version.\n",
      "It is recommended to use pyarrow for on-the-wire transmission of pandas objects.\n",
      "  final_df.to_msgpack(output_path, compress='zlib')\n"
     ]
    },
    {
     "name": "stdout",
     "output_type": "stream",
     "text": [
      "/home/hanliu/project/mouse_rostral_brain/DMR/ITSpatial_by_region/AI/MotifScan.h5adtemp/MA1468.1.meme, N motif total=33673\n"
     ]
    },
    {
     "name": "stderr",
     "output_type": "stream",
     "text": [
      "/home/hanliu/miniconda3/envs/clustering/lib/python3.7/site-packages/ALLCools/dmr/fimo.py:60: FutureWarning: to_msgpack is deprecated and will be removed in a future version.\n",
      "It is recommended to use pyarrow for on-the-wire transmission of pandas objects.\n",
      "  final_df.to_msgpack(output_path, compress='zlib')\n"
     ]
    },
    {
     "name": "stdout",
     "output_type": "stream",
     "text": [
      "/home/hanliu/project/mouse_rostral_brain/DMR/ITSpatial_by_region/AI/MotifScan.h5adtemp/MA0461.2.meme, N motif total=33714\n"
     ]
    },
    {
     "name": "stderr",
     "output_type": "stream",
     "text": [
      "/home/hanliu/miniconda3/envs/clustering/lib/python3.7/site-packages/ALLCools/dmr/fimo.py:60: FutureWarning: to_msgpack is deprecated and will be removed in a future version.\n",
      "It is recommended to use pyarrow for on-the-wire transmission of pandas objects.\n",
      "  final_df.to_msgpack(output_path, compress='zlib')\n"
     ]
    },
    {
     "name": "stdout",
     "output_type": "stream",
     "text": [
      "/home/hanliu/project/mouse_rostral_brain/DMR/ITSpatial_by_region/AI/MotifScan.h5adtemp/MA0635.1.meme, N motif total=6557\n"
     ]
    },
    {
     "name": "stderr",
     "output_type": "stream",
     "text": [
      "/home/hanliu/miniconda3/envs/clustering/lib/python3.7/site-packages/ALLCools/dmr/fimo.py:60: FutureWarning: to_msgpack is deprecated and will be removed in a future version.\n",
      "It is recommended to use pyarrow for on-the-wire transmission of pandas objects.\n",
      "  final_df.to_msgpack(output_path, compress='zlib')\n"
     ]
    },
    {
     "name": "stdout",
     "output_type": "stream",
     "text": [
      "/home/hanliu/project/mouse_rostral_brain/DMR/ITSpatial_by_region/AI/MotifScan.h5adtemp/MA0816.1.meme, N motif total=62419\n"
     ]
    },
    {
     "name": "stderr",
     "output_type": "stream",
     "text": [
      "/home/hanliu/miniconda3/envs/clustering/lib/python3.7/site-packages/ALLCools/dmr/fimo.py:60: FutureWarning: to_msgpack is deprecated and will be removed in a future version.\n",
      "It is recommended to use pyarrow for on-the-wire transmission of pandas objects.\n",
      "  final_df.to_msgpack(output_path, compress='zlib')\n"
     ]
    },
    {
     "name": "stdout",
     "output_type": "stream",
     "text": [
      "/home/hanliu/project/mouse_rostral_brain/DMR/ITSpatial_by_region/AI/MotifScan.h5adtemp/MA0605.2.meme, N motif total=11025\n"
     ]
    },
    {
     "name": "stderr",
     "output_type": "stream",
     "text": [
      "/home/hanliu/miniconda3/envs/clustering/lib/python3.7/site-packages/ALLCools/dmr/fimo.py:60: FutureWarning: to_msgpack is deprecated and will be removed in a future version.\n",
      "It is recommended to use pyarrow for on-the-wire transmission of pandas objects.\n",
      "  final_df.to_msgpack(output_path, compress='zlib')\n"
     ]
    },
    {
     "name": "stdout",
     "output_type": "stream",
     "text": [
      "/home/hanliu/project/mouse_rostral_brain/DMR/ITSpatial_by_region/AI/MotifScan.h5adtemp/MA0462.2.meme, N motif total=30204\n"
     ]
    },
    {
     "name": "stderr",
     "output_type": "stream",
     "text": [
      "/home/hanliu/miniconda3/envs/clustering/lib/python3.7/site-packages/ALLCools/dmr/fimo.py:60: FutureWarning: to_msgpack is deprecated and will be removed in a future version.\n",
      "It is recommended to use pyarrow for on-the-wire transmission of pandas objects.\n",
      "  final_df.to_msgpack(output_path, compress='zlib')\n"
     ]
    },
    {
     "name": "stdout",
     "output_type": "stream",
     "text": [
      "/home/hanliu/project/mouse_rostral_brain/DMR/ITSpatial_by_region/AI/MotifScan.h5adtemp/MA0835.2.meme, N motif total=27831\n"
     ]
    },
    {
     "name": "stderr",
     "output_type": "stream",
     "text": [
      "/home/hanliu/miniconda3/envs/clustering/lib/python3.7/site-packages/ALLCools/dmr/fimo.py:60: FutureWarning: to_msgpack is deprecated and will be removed in a future version.\n",
      "It is recommended to use pyarrow for on-the-wire transmission of pandas objects.\n",
      "  final_df.to_msgpack(output_path, compress='zlib')\n"
     ]
    },
    {
     "name": "stdout",
     "output_type": "stream",
     "text": [
      "/home/hanliu/project/mouse_rostral_brain/DMR/ITSpatial_by_region/AI/MotifScan.h5adtemp/MA0603.1.meme, N motif total=11826\n"
     ]
    },
    {
     "name": "stderr",
     "output_type": "stream",
     "text": [
      "/home/hanliu/miniconda3/envs/clustering/lib/python3.7/site-packages/ALLCools/dmr/fimo.py:60: FutureWarning: to_msgpack is deprecated and will be removed in a future version.\n",
      "It is recommended to use pyarrow for on-the-wire transmission of pandas objects.\n",
      "  final_df.to_msgpack(output_path, compress='zlib')\n"
     ]
    },
    {
     "name": "stdout",
     "output_type": "stream",
     "text": [
      "/home/hanliu/project/mouse_rostral_brain/DMR/ITSpatial_by_region/AI/MotifScan.h5adtemp/MA1472.1.meme, N motif total=63835\n"
     ]
    },
    {
     "name": "stderr",
     "output_type": "stream",
     "text": [
      "/home/hanliu/miniconda3/envs/clustering/lib/python3.7/site-packages/ALLCools/dmr/fimo.py:60: FutureWarning: to_msgpack is deprecated and will be removed in a future version.\n",
      "It is recommended to use pyarrow for on-the-wire transmission of pandas objects.\n",
      "  final_df.to_msgpack(output_path, compress='zlib')\n"
     ]
    },
    {
     "name": "stdout",
     "output_type": "stream",
     "text": [
      "/home/hanliu/project/mouse_rostral_brain/DMR/ITSpatial_by_region/AI/MotifScan.h5adtemp/MA1471.1.meme, N motif total=16896\n"
     ]
    },
    {
     "name": "stderr",
     "output_type": "stream",
     "text": [
      "/home/hanliu/miniconda3/envs/clustering/lib/python3.7/site-packages/ALLCools/dmr/fimo.py:60: FutureWarning: to_msgpack is deprecated and will be removed in a future version.\n",
      "It is recommended to use pyarrow for on-the-wire transmission of pandas objects.\n",
      "  final_df.to_msgpack(output_path, compress='zlib')\n"
     ]
    },
    {
     "name": "stdout",
     "output_type": "stream",
     "text": [
      "/home/hanliu/project/mouse_rostral_brain/DMR/ITSpatial_by_region/AI/MotifScan.h5adtemp/MA1467.1.meme, N motif total=56807\n"
     ]
    },
    {
     "name": "stderr",
     "output_type": "stream",
     "text": [
      "/home/hanliu/miniconda3/envs/clustering/lib/python3.7/site-packages/ALLCools/dmr/fimo.py:60: FutureWarning: to_msgpack is deprecated and will be removed in a future version.\n",
      "It is recommended to use pyarrow for on-the-wire transmission of pandas objects.\n",
      "  final_df.to_msgpack(output_path, compress='zlib')\n"
     ]
    },
    {
     "name": "stdout",
     "output_type": "stream",
     "text": [
      "/home/hanliu/project/mouse_rostral_brain/DMR/ITSpatial_by_region/AI/MotifScan.h5adtemp/MA1634.1.meme, N motif total=30301\n"
     ]
    },
    {
     "name": "stderr",
     "output_type": "stream",
     "text": [
      "/home/hanliu/miniconda3/envs/clustering/lib/python3.7/site-packages/ALLCools/dmr/fimo.py:60: FutureWarning: to_msgpack is deprecated and will be removed in a future version.\n",
      "It is recommended to use pyarrow for on-the-wire transmission of pandas objects.\n",
      "  final_df.to_msgpack(output_path, compress='zlib')\n"
     ]
    },
    {
     "name": "stdout",
     "output_type": "stream",
     "text": [
      "/home/hanliu/project/mouse_rostral_brain/DMR/ITSpatial_by_region/AI/MotifScan.h5adtemp/MA0601.1.meme, N motif total=23462\n"
     ]
    },
    {
     "name": "stderr",
     "output_type": "stream",
     "text": [
      "/home/hanliu/miniconda3/envs/clustering/lib/python3.7/site-packages/ALLCools/dmr/fimo.py:60: FutureWarning: to_msgpack is deprecated and will be removed in a future version.\n",
      "It is recommended to use pyarrow for on-the-wire transmission of pandas objects.\n",
      "  final_df.to_msgpack(output_path, compress='zlib')\n"
     ]
    },
    {
     "name": "stdout",
     "output_type": "stream",
     "text": [
      "/home/hanliu/project/mouse_rostral_brain/DMR/ITSpatial_by_region/AI/MotifScan.h5adtemp/MA1100.2.meme, N motif total=54820\n"
     ]
    },
    {
     "name": "stderr",
     "output_type": "stream",
     "text": [
      "/home/hanliu/miniconda3/envs/clustering/lib/python3.7/site-packages/ALLCools/dmr/fimo.py:60: FutureWarning: to_msgpack is deprecated and will be removed in a future version.\n",
      "It is recommended to use pyarrow for on-the-wire transmission of pandas objects.\n",
      "  final_df.to_msgpack(output_path, compress='zlib')\n"
     ]
    },
    {
     "name": "stdout",
     "output_type": "stream",
     "text": [
      "/home/hanliu/project/mouse_rostral_brain/DMR/ITSpatial_by_region/AI/MotifScan.h5adtemp/MA0634.1.meme, N motif total=17748\n"
     ]
    },
    {
     "name": "stderr",
     "output_type": "stream",
     "text": [
      "/home/hanliu/miniconda3/envs/clustering/lib/python3.7/site-packages/ALLCools/dmr/fimo.py:60: FutureWarning: to_msgpack is deprecated and will be removed in a future version.\n",
      "It is recommended to use pyarrow for on-the-wire transmission of pandas objects.\n",
      "  final_df.to_msgpack(output_path, compress='zlib')\n"
     ]
    },
    {
     "name": "stdout",
     "output_type": "stream",
     "text": [
      "/home/hanliu/project/mouse_rostral_brain/DMR/ITSpatial_by_region/AI/MotifScan.h5adtemp/MA1464.1.meme, N motif total=13735\n"
     ]
    },
    {
     "name": "stderr",
     "output_type": "stream",
     "text": [
      "/home/hanliu/miniconda3/envs/clustering/lib/python3.7/site-packages/ALLCools/dmr/fimo.py:60: FutureWarning: to_msgpack is deprecated and will be removed in a future version.\n",
      "It is recommended to use pyarrow for on-the-wire transmission of pandas objects.\n",
      "  final_df.to_msgpack(output_path, compress='zlib')\n"
     ]
    },
    {
     "name": "stdout",
     "output_type": "stream",
     "text": [
      "/home/hanliu/project/mouse_rostral_brain/DMR/ITSpatial_by_region/AI/MotifScan.h5adtemp/MA0602.1.meme, N motif total=16296\n"
     ]
    },
    {
     "name": "stderr",
     "output_type": "stream",
     "text": [
      "/home/hanliu/miniconda3/envs/clustering/lib/python3.7/site-packages/ALLCools/dmr/fimo.py:60: FutureWarning: to_msgpack is deprecated and will be removed in a future version.\n",
      "It is recommended to use pyarrow for on-the-wire transmission of pandas objects.\n",
      "  final_df.to_msgpack(output_path, compress='zlib')\n"
     ]
    },
    {
     "name": "stdout",
     "output_type": "stream",
     "text": [
      "/home/hanliu/project/mouse_rostral_brain/DMR/ITSpatial_by_region/AI/MotifScan.h5adtemp/MA1466.1.meme, N motif total=4221\n"
     ]
    },
    {
     "name": "stderr",
     "output_type": "stream",
     "text": [
      "/home/hanliu/miniconda3/envs/clustering/lib/python3.7/site-packages/ALLCools/dmr/fimo.py:60: FutureWarning: to_msgpack is deprecated and will be removed in a future version.\n",
      "It is recommended to use pyarrow for on-the-wire transmission of pandas objects.\n",
      "  final_df.to_msgpack(output_path, compress='zlib')\n"
     ]
    },
    {
     "name": "stdout",
     "output_type": "stream",
     "text": [
      "/home/hanliu/project/mouse_rostral_brain/DMR/ITSpatial_by_region/AI/MotifScan.h5adtemp/MA1633.1.meme, N motif total=37991\n"
     ]
    },
    {
     "name": "stderr",
     "output_type": "stream",
     "text": [
      "/home/hanliu/miniconda3/envs/clustering/lib/python3.7/site-packages/ALLCools/dmr/fimo.py:60: FutureWarning: to_msgpack is deprecated and will be removed in a future version.\n",
      "It is recommended to use pyarrow for on-the-wire transmission of pandas objects.\n",
      "  final_df.to_msgpack(output_path, compress='zlib')\n"
     ]
    },
    {
     "name": "stdout",
     "output_type": "stream",
     "text": [
      "/home/hanliu/project/mouse_rostral_brain/DMR/ITSpatial_by_region/AI/MotifScan.h5adtemp/MA1631.1.meme, N motif total=46904\n"
     ]
    },
    {
     "name": "stderr",
     "output_type": "stream",
     "text": [
      "/home/hanliu/miniconda3/envs/clustering/lib/python3.7/site-packages/ALLCools/dmr/fimo.py:60: FutureWarning: to_msgpack is deprecated and will be removed in a future version.\n",
      "It is recommended to use pyarrow for on-the-wire transmission of pandas objects.\n",
      "  final_df.to_msgpack(output_path, compress='zlib')\n"
     ]
    },
    {
     "name": "stdout",
     "output_type": "stream",
     "text": [
      "/home/hanliu/project/mouse_rostral_brain/DMR/ITSpatial_by_region/AI/MotifScan.h5adtemp/MA1632.1.meme, N motif total=21019\n"
     ]
    },
    {
     "name": "stderr",
     "output_type": "stream",
     "text": [
      "/home/hanliu/miniconda3/envs/clustering/lib/python3.7/site-packages/ALLCools/dmr/fimo.py:60: FutureWarning: to_msgpack is deprecated and will be removed in a future version.\n",
      "It is recommended to use pyarrow for on-the-wire transmission of pandas objects.\n",
      "  final_df.to_msgpack(output_path, compress='zlib')\n"
     ]
    },
    {
     "name": "stdout",
     "output_type": "stream",
     "text": [
      "/home/hanliu/project/mouse_rostral_brain/DMR/ITSpatial_by_region/AI/MotifScan.h5adtemp/MA0834.1.meme, N motif total=10658\n"
     ]
    },
    {
     "name": "stderr",
     "output_type": "stream",
     "text": [
      "/home/hanliu/miniconda3/envs/clustering/lib/python3.7/site-packages/ALLCools/dmr/fimo.py:60: FutureWarning: to_msgpack is deprecated and will be removed in a future version.\n",
      "It is recommended to use pyarrow for on-the-wire transmission of pandas objects.\n",
      "  final_df.to_msgpack(output_path, compress='zlib')\n"
     ]
    },
    {
     "name": "stdout",
     "output_type": "stream",
     "text": [
      "/home/hanliu/project/mouse_rostral_brain/DMR/ITSpatial_by_region/AI/MotifScan.h5adtemp/MA0591.1.meme, N motif total=30521\n"
     ]
    },
    {
     "name": "stderr",
     "output_type": "stream",
     "text": [
      "/home/hanliu/miniconda3/envs/clustering/lib/python3.7/site-packages/ALLCools/dmr/fimo.py:60: FutureWarning: to_msgpack is deprecated and will be removed in a future version.\n",
      "It is recommended to use pyarrow for on-the-wire transmission of pandas objects.\n",
      "  final_df.to_msgpack(output_path, compress='zlib')\n"
     ]
    },
    {
     "name": "stdout",
     "output_type": "stream",
     "text": [
      "/home/hanliu/project/mouse_rostral_brain/DMR/ITSpatial_by_region/AI/MotifScan.h5adtemp/MA0833.2.meme, N motif total=17770\n"
     ]
    },
    {
     "name": "stderr",
     "output_type": "stream",
     "text": [
      "/home/hanliu/miniconda3/envs/clustering/lib/python3.7/site-packages/ALLCools/dmr/fimo.py:60: FutureWarning: to_msgpack is deprecated and will be removed in a future version.\n",
      "It is recommended to use pyarrow for on-the-wire transmission of pandas objects.\n",
      "  final_df.to_msgpack(output_path, compress='zlib')\n"
     ]
    },
    {
     "name": "stdout",
     "output_type": "stream",
     "text": [
      "/home/hanliu/project/mouse_rostral_brain/DMR/ITSpatial_by_region/AI/MotifScan.h5adtemp/MA0854.1.meme, N motif total=13183\n"
     ]
    },
    {
     "name": "stderr",
     "output_type": "stream",
     "text": [
      "/home/hanliu/miniconda3/envs/clustering/lib/python3.7/site-packages/ALLCools/dmr/fimo.py:60: FutureWarning: to_msgpack is deprecated and will be removed in a future version.\n",
      "It is recommended to use pyarrow for on-the-wire transmission of pandas objects.\n",
      "  final_df.to_msgpack(output_path, compress='zlib')\n"
     ]
    },
    {
     "name": "stdout",
     "output_type": "stream",
     "text": [
      "/home/hanliu/project/mouse_rostral_brain/DMR/ITSpatial_by_region/AI/MotifScan.h5adtemp/MA0463.2.meme, N motif total=23759\n"
     ]
    },
    {
     "name": "stderr",
     "output_type": "stream",
     "text": [
      "/home/hanliu/miniconda3/envs/clustering/lib/python3.7/site-packages/ALLCools/dmr/fimo.py:60: FutureWarning: to_msgpack is deprecated and will be removed in a future version.\n",
      "It is recommended to use pyarrow for on-the-wire transmission of pandas objects.\n",
      "  final_df.to_msgpack(output_path, compress='zlib')\n"
     ]
    },
    {
     "name": "stdout",
     "output_type": "stream",
     "text": [
      "/home/hanliu/project/mouse_rostral_brain/DMR/ITSpatial_by_region/AI/MotifScan.h5adtemp/MA0007.3.meme, N motif total=18968\n"
     ]
    },
    {
     "name": "stderr",
     "output_type": "stream",
     "text": [
      "/home/hanliu/miniconda3/envs/clustering/lib/python3.7/site-packages/ALLCools/dmr/fimo.py:60: FutureWarning: to_msgpack is deprecated and will be removed in a future version.\n",
      "It is recommended to use pyarrow for on-the-wire transmission of pandas objects.\n",
      "  final_df.to_msgpack(output_path, compress='zlib')\n"
     ]
    },
    {
     "name": "stdout",
     "output_type": "stream",
     "text": [
      "/home/hanliu/project/mouse_rostral_brain/DMR/ITSpatial_by_region/AI/MotifScan.h5adtemp/MA0853.1.meme, N motif total=12951\n"
     ]
    },
    {
     "name": "stderr",
     "output_type": "stream",
     "text": [
      "/home/hanliu/miniconda3/envs/clustering/lib/python3.7/site-packages/ALLCools/dmr/fimo.py:60: FutureWarning: to_msgpack is deprecated and will be removed in a future version.\n",
      "It is recommended to use pyarrow for on-the-wire transmission of pandas objects.\n",
      "  final_df.to_msgpack(output_path, compress='zlib')\n"
     ]
    },
    {
     "name": "stdout",
     "output_type": "stream",
     "text": [
      "/home/hanliu/project/mouse_rostral_brain/DMR/ITSpatial_by_region/AI/MotifScan.h5adtemp/MA1470.1.meme, N motif total=1465\n"
     ]
    },
    {
     "name": "stderr",
     "output_type": "stream",
     "text": [
      "/home/hanliu/miniconda3/envs/clustering/lib/python3.7/site-packages/ALLCools/dmr/fimo.py:60: FutureWarning: to_msgpack is deprecated and will be removed in a future version.\n",
      "It is recommended to use pyarrow for on-the-wire transmission of pandas objects.\n",
      "  final_df.to_msgpack(output_path, compress='zlib')\n"
     ]
    },
    {
     "name": "stdout",
     "output_type": "stream",
     "text": [
      "/home/hanliu/project/mouse_rostral_brain/DMR/ITSpatial_by_region/AI/MotifScan.h5adtemp/MA0874.1.meme, N motif total=13286\n"
     ]
    },
    {
     "name": "stderr",
     "output_type": "stream",
     "text": [
      "/home/hanliu/miniconda3/envs/clustering/lib/python3.7/site-packages/ALLCools/dmr/fimo.py:60: FutureWarning: to_msgpack is deprecated and will be removed in a future version.\n",
      "It is recommended to use pyarrow for on-the-wire transmission of pandas objects.\n",
      "  final_df.to_msgpack(output_path, compress='zlib')\n"
     ]
    },
    {
     "name": "stdout",
     "output_type": "stream",
     "text": [
      "/home/hanliu/project/mouse_rostral_brain/DMR/ITSpatial_by_region/AI/MotifScan.h5adtemp/MA0731.1.meme, N motif total=230\n"
     ]
    },
    {
     "name": "stderr",
     "output_type": "stream",
     "text": [
      "/home/hanliu/miniconda3/envs/clustering/lib/python3.7/site-packages/ALLCools/dmr/fimo.py:60: FutureWarning: to_msgpack is deprecated and will be removed in a future version.\n",
      "It is recommended to use pyarrow for on-the-wire transmission of pandas objects.\n",
      "  final_df.to_msgpack(output_path, compress='zlib')\n"
     ]
    },
    {
     "name": "stdout",
     "output_type": "stream",
     "text": [
      "/home/hanliu/project/mouse_rostral_brain/DMR/ITSpatial_by_region/AI/MotifScan.h5adtemp/MA1101.2.meme, N motif total=22378\n"
     ]
    },
    {
     "name": "stderr",
     "output_type": "stream",
     "text": [
      "/home/hanliu/miniconda3/envs/clustering/lib/python3.7/site-packages/ALLCools/dmr/fimo.py:60: FutureWarning: to_msgpack is deprecated and will be removed in a future version.\n",
      "It is recommended to use pyarrow for on-the-wire transmission of pandas objects.\n",
      "  final_df.to_msgpack(output_path, compress='zlib')\n"
     ]
    },
    {
     "name": "stdout",
     "output_type": "stream",
     "text": [
      "/home/hanliu/project/mouse_rostral_brain/DMR/ITSpatial_by_region/AI/MotifScan.h5adtemp/MA0818.1.meme, N motif total=22675\n"
     ]
    },
    {
     "name": "stderr",
     "output_type": "stream",
     "text": [
      "/home/hanliu/miniconda3/envs/clustering/lib/python3.7/site-packages/ALLCools/dmr/fimo.py:60: FutureWarning: to_msgpack is deprecated and will be removed in a future version.\n",
      "It is recommended to use pyarrow for on-the-wire transmission of pandas objects.\n",
      "  final_df.to_msgpack(output_path, compress='zlib')\n"
     ]
    },
    {
     "name": "stdout",
     "output_type": "stream",
     "text": [
      "/home/hanliu/project/mouse_rostral_brain/DMR/ITSpatial_by_region/AI/MotifScan.h5adtemp/MA0636.1.meme, N motif total=10726\n"
     ]
    },
    {
     "name": "stderr",
     "output_type": "stream",
     "text": [
      "/home/hanliu/miniconda3/envs/clustering/lib/python3.7/site-packages/ALLCools/dmr/fimo.py:60: FutureWarning: to_msgpack is deprecated and will be removed in a future version.\n",
      "It is recommended to use pyarrow for on-the-wire transmission of pandas objects.\n",
      "  final_df.to_msgpack(output_path, compress='zlib')\n"
     ]
    },
    {
     "name": "stdout",
     "output_type": "stream",
     "text": [
      "/home/hanliu/project/mouse_rostral_brain/DMR/ITSpatial_by_region/AI/MotifScan.h5adtemp/MA1635.1.meme, N motif total=63994\n"
     ]
    },
    {
     "name": "stderr",
     "output_type": "stream",
     "text": [
      "/home/hanliu/miniconda3/envs/clustering/lib/python3.7/site-packages/ALLCools/dmr/fimo.py:60: FutureWarning: to_msgpack is deprecated and will be removed in a future version.\n",
      "It is recommended to use pyarrow for on-the-wire transmission of pandas objects.\n",
      "  final_df.to_msgpack(output_path, compress='zlib')\n"
     ]
    },
    {
     "name": "stdout",
     "output_type": "stream",
     "text": [
      "/home/hanliu/project/mouse_rostral_brain/DMR/ITSpatial_by_region/AI/MotifScan.h5adtemp/MA0817.1.meme, N motif total=24588\n"
     ]
    },
    {
     "name": "stderr",
     "output_type": "stream",
     "text": [
      "/home/hanliu/miniconda3/envs/clustering/lib/python3.7/site-packages/ALLCools/dmr/fimo.py:60: FutureWarning: to_msgpack is deprecated and will be removed in a future version.\n",
      "It is recommended to use pyarrow for on-the-wire transmission of pandas objects.\n",
      "  final_df.to_msgpack(output_path, compress='zlib')\n"
     ]
    },
    {
     "name": "stdout",
     "output_type": "stream",
     "text": [
      "/home/hanliu/project/mouse_rostral_brain/DMR/ITSpatial_by_region/AI/MotifScan.h5adtemp/MA0464.2.meme, N motif total=12865\n"
     ]
    },
    {
     "name": "stderr",
     "output_type": "stream",
     "text": [
      "/home/hanliu/miniconda3/envs/clustering/lib/python3.7/site-packages/ALLCools/dmr/fimo.py:60: FutureWarning: to_msgpack is deprecated and will be removed in a future version.\n",
      "It is recommended to use pyarrow for on-the-wire transmission of pandas objects.\n",
      "  final_df.to_msgpack(output_path, compress='zlib')\n"
     ]
    },
    {
     "name": "stdout",
     "output_type": "stream",
     "text": [
      "/home/hanliu/project/mouse_rostral_brain/DMR/ITSpatial_by_region/AI/MotifScan.h5adtemp/MA0876.1.meme, N motif total=11088\n"
     ]
    },
    {
     "name": "stderr",
     "output_type": "stream",
     "text": [
      "/home/hanliu/miniconda3/envs/clustering/lib/python3.7/site-packages/ALLCools/dmr/fimo.py:60: FutureWarning: to_msgpack is deprecated and will be removed in a future version.\n",
      "It is recommended to use pyarrow for on-the-wire transmission of pandas objects.\n",
      "  final_df.to_msgpack(output_path, compress='zlib')\n"
     ]
    },
    {
     "name": "stdout",
     "output_type": "stream",
     "text": [
      "/home/hanliu/project/mouse_rostral_brain/DMR/ITSpatial_by_region/AI/MotifScan.h5adtemp/MA0466.2.meme, N motif total=5428\n"
     ]
    },
    {
     "name": "stderr",
     "output_type": "stream",
     "text": [
      "/home/hanliu/miniconda3/envs/clustering/lib/python3.7/site-packages/ALLCools/dmr/fimo.py:60: FutureWarning: to_msgpack is deprecated and will be removed in a future version.\n",
      "It is recommended to use pyarrow for on-the-wire transmission of pandas objects.\n",
      "  final_df.to_msgpack(output_path, compress='zlib')\n"
     ]
    },
    {
     "name": "stdout",
     "output_type": "stream",
     "text": [
      "/home/hanliu/project/mouse_rostral_brain/DMR/ITSpatial_by_region/AI/MotifScan.h5adtemp/MA0608.1.meme, N motif total=10637\n"
     ]
    },
    {
     "name": "stderr",
     "output_type": "stream",
     "text": [
      "/home/hanliu/miniconda3/envs/clustering/lib/python3.7/site-packages/ALLCools/dmr/fimo.py:60: FutureWarning: to_msgpack is deprecated and will be removed in a future version.\n",
      "It is recommended to use pyarrow for on-the-wire transmission of pandas objects.\n",
      "  final_df.to_msgpack(output_path, compress='zlib')\n"
     ]
    },
    {
     "name": "stdout",
     "output_type": "stream",
     "text": [
      "/home/hanliu/project/mouse_rostral_brain/DMR/ITSpatial_by_region/AI/MotifScan.h5adtemp/MA0838.1.meme, N motif total=5483\n"
     ]
    },
    {
     "name": "stderr",
     "output_type": "stream",
     "text": [
      "/home/hanliu/miniconda3/envs/clustering/lib/python3.7/site-packages/ALLCools/dmr/fimo.py:60: FutureWarning: to_msgpack is deprecated and will be removed in a future version.\n",
      "It is recommended to use pyarrow for on-the-wire transmission of pandas objects.\n",
      "  final_df.to_msgpack(output_path, compress='zlib')\n"
     ]
    },
    {
     "name": "stdout",
     "output_type": "stream",
     "text": [
      "/home/hanliu/project/mouse_rostral_brain/DMR/ITSpatial_by_region/AI/MotifScan.h5adtemp/MA0878.2.meme, N motif total=19909\n"
     ]
    },
    {
     "name": "stderr",
     "output_type": "stream",
     "text": [
      "/home/hanliu/miniconda3/envs/clustering/lib/python3.7/site-packages/ALLCools/dmr/fimo.py:60: FutureWarning: to_msgpack is deprecated and will be removed in a future version.\n",
      "It is recommended to use pyarrow for on-the-wire transmission of pandas objects.\n",
      "  final_df.to_msgpack(output_path, compress='zlib')\n"
     ]
    },
    {
     "name": "stdout",
     "output_type": "stream",
     "text": [
      "/home/hanliu/project/mouse_rostral_brain/DMR/ITSpatial_by_region/AI/MotifScan.h5adtemp/MA1473.1.meme, N motif total=21042\n"
     ]
    },
    {
     "name": "stderr",
     "output_type": "stream",
     "text": [
      "/home/hanliu/miniconda3/envs/clustering/lib/python3.7/site-packages/ALLCools/dmr/fimo.py:60: FutureWarning: to_msgpack is deprecated and will be removed in a future version.\n",
      "It is recommended to use pyarrow for on-the-wire transmission of pandas objects.\n",
      "  final_df.to_msgpack(output_path, compress='zlib')\n"
     ]
    },
    {
     "name": "stdout",
     "output_type": "stream",
     "text": [
      "/home/hanliu/project/mouse_rostral_brain/DMR/ITSpatial_by_region/AI/MotifScan.h5adtemp/MA0465.2.meme, N motif total=27864\n"
     ]
    },
    {
     "name": "stderr",
     "output_type": "stream",
     "text": [
      "/home/hanliu/miniconda3/envs/clustering/lib/python3.7/site-packages/ALLCools/dmr/fimo.py:60: FutureWarning: to_msgpack is deprecated and will be removed in a future version.\n",
      "It is recommended to use pyarrow for on-the-wire transmission of pandas objects.\n",
      "  final_df.to_msgpack(output_path, compress='zlib')\n"
     ]
    },
    {
     "name": "stdout",
     "output_type": "stream",
     "text": [
      "/home/hanliu/project/mouse_rostral_brain/DMR/ITSpatial_by_region/AI/MotifScan.h5adtemp/MA0837.1.meme, N motif total=5615\n"
     ]
    },
    {
     "name": "stderr",
     "output_type": "stream",
     "text": [
      "/home/hanliu/miniconda3/envs/clustering/lib/python3.7/site-packages/ALLCools/dmr/fimo.py:60: FutureWarning: to_msgpack is deprecated and will be removed in a future version.\n",
      "It is recommended to use pyarrow for on-the-wire transmission of pandas objects.\n",
      "  final_df.to_msgpack(output_path, compress='zlib')\n"
     ]
    },
    {
     "name": "stdout",
     "output_type": "stream",
     "text": [
      "/home/hanliu/project/mouse_rostral_brain/DMR/ITSpatial_by_region/AI/MotifScan.h5adtemp/MA0819.1.meme, N motif total=19103\n"
     ]
    },
    {
     "name": "stderr",
     "output_type": "stream",
     "text": [
      "/home/hanliu/miniconda3/envs/clustering/lib/python3.7/site-packages/ALLCools/dmr/fimo.py:60: FutureWarning: to_msgpack is deprecated and will be removed in a future version.\n",
      "It is recommended to use pyarrow for on-the-wire transmission of pandas objects.\n",
      "  final_df.to_msgpack(output_path, compress='zlib')\n"
     ]
    },
    {
     "name": "stdout",
     "output_type": "stream",
     "text": [
      "/home/hanliu/project/mouse_rostral_brain/DMR/ITSpatial_by_region/AI/MotifScan.h5adtemp/MA0836.2.meme, N motif total=16496\n"
     ]
    },
    {
     "name": "stderr",
     "output_type": "stream",
     "text": [
      "/home/hanliu/miniconda3/envs/clustering/lib/python3.7/site-packages/ALLCools/dmr/fimo.py:60: FutureWarning: to_msgpack is deprecated and will be removed in a future version.\n",
      "It is recommended to use pyarrow for on-the-wire transmission of pandas objects.\n",
      "  final_df.to_msgpack(output_path, compress='zlib')\n"
     ]
    },
    {
     "name": "stdout",
     "output_type": "stream",
     "text": [
      "/home/hanliu/project/mouse_rostral_brain/DMR/ITSpatial_by_region/AI/MotifScan.h5adtemp/MA0467.1.meme, N motif total=18322\n"
     ]
    },
    {
     "name": "stderr",
     "output_type": "stream",
     "text": [
      "/home/hanliu/miniconda3/envs/clustering/lib/python3.7/site-packages/ALLCools/dmr/fimo.py:60: FutureWarning: to_msgpack is deprecated and will be removed in a future version.\n",
      "It is recommended to use pyarrow for on-the-wire transmission of pandas objects.\n",
      "  final_df.to_msgpack(output_path, compress='zlib')\n"
     ]
    },
    {
     "name": "stdout",
     "output_type": "stream",
     "text": [
      "/home/hanliu/project/mouse_rostral_brain/DMR/ITSpatial_by_region/AI/MotifScan.h5adtemp/MA0102.4.meme, N motif total=17254\n"
     ]
    },
    {
     "name": "stderr",
     "output_type": "stream",
     "text": [
      "/home/hanliu/miniconda3/envs/clustering/lib/python3.7/site-packages/ALLCools/dmr/fimo.py:60: FutureWarning: to_msgpack is deprecated and will be removed in a future version.\n",
      "It is recommended to use pyarrow for on-the-wire transmission of pandas objects.\n",
      "  final_df.to_msgpack(output_path, compress='zlib')\n"
     ]
    },
    {
     "name": "stdout",
     "output_type": "stream",
     "text": [
      "/home/hanliu/project/mouse_rostral_brain/DMR/ITSpatial_by_region/AI/MotifScan.h5adtemp/MA0885.1.meme, N motif total=11649\n"
     ]
    },
    {
     "name": "stderr",
     "output_type": "stream",
     "text": [
      "/home/hanliu/miniconda3/envs/clustering/lib/python3.7/site-packages/ALLCools/dmr/fimo.py:60: FutureWarning: to_msgpack is deprecated and will be removed in a future version.\n",
      "It is recommended to use pyarrow for on-the-wire transmission of pandas objects.\n",
      "  final_df.to_msgpack(output_path, compress='zlib')\n"
     ]
    },
    {
     "name": "stdout",
     "output_type": "stream",
     "text": [
      "/home/hanliu/project/mouse_rostral_brain/DMR/ITSpatial_by_region/AI/MotifScan.h5adtemp/MA0018.4.meme, N motif total=24125\n"
     ]
    },
    {
     "name": "stderr",
     "output_type": "stream",
     "text": [
      "/home/hanliu/miniconda3/envs/clustering/lib/python3.7/site-packages/ALLCools/dmr/fimo.py:60: FutureWarning: to_msgpack is deprecated and will be removed in a future version.\n",
      "It is recommended to use pyarrow for on-the-wire transmission of pandas objects.\n",
      "  final_df.to_msgpack(output_path, compress='zlib')\n"
     ]
    },
    {
     "name": "stdout",
     "output_type": "stream",
     "text": [
      "/home/hanliu/project/mouse_rostral_brain/DMR/ITSpatial_by_region/AI/MotifScan.h5adtemp/MA0637.1.meme, N motif total=3369\n"
     ]
    },
    {
     "name": "stderr",
     "output_type": "stream",
     "text": [
      "/home/hanliu/miniconda3/envs/clustering/lib/python3.7/site-packages/ALLCools/dmr/fimo.py:60: FutureWarning: to_msgpack is deprecated and will be removed in a future version.\n",
      "It is recommended to use pyarrow for on-the-wire transmission of pandas objects.\n",
      "  final_df.to_msgpack(output_path, compress='zlib')\n"
     ]
    },
    {
     "name": "stdout",
     "output_type": "stream",
     "text": [
      "/home/hanliu/project/mouse_rostral_brain/DMR/ITSpatial_by_region/AI/MotifScan.h5adtemp/MA0638.1.meme, N motif total=6798\n"
     ]
    },
    {
     "name": "stderr",
     "output_type": "stream",
     "text": [
      "/home/hanliu/miniconda3/envs/clustering/lib/python3.7/site-packages/ALLCools/dmr/fimo.py:60: FutureWarning: to_msgpack is deprecated and will be removed in a future version.\n",
      "It is recommended to use pyarrow for on-the-wire transmission of pandas objects.\n",
      "  final_df.to_msgpack(output_path, compress='zlib')\n"
     ]
    },
    {
     "name": "stdout",
     "output_type": "stream",
     "text": [
      "/home/hanliu/project/mouse_rostral_brain/DMR/ITSpatial_by_region/AI/MotifScan.h5adtemp/MA0839.1.meme, N motif total=10476\n"
     ]
    },
    {
     "name": "stderr",
     "output_type": "stream",
     "text": [
      "/home/hanliu/miniconda3/envs/clustering/lib/python3.7/site-packages/ALLCools/dmr/fimo.py:60: FutureWarning: to_msgpack is deprecated and will be removed in a future version.\n",
      "It is recommended to use pyarrow for on-the-wire transmission of pandas objects.\n",
      "  final_df.to_msgpack(output_path, compress='zlib')\n"
     ]
    },
    {
     "name": "stdout",
     "output_type": "stream",
     "text": [
      "/home/hanliu/project/mouse_rostral_brain/DMR/ITSpatial_by_region/AI/MotifScan.h5adtemp/MA1476.1.meme, N motif total=10972\n"
     ]
    },
    {
     "name": "stderr",
     "output_type": "stream",
     "text": [
      "/home/hanliu/miniconda3/envs/clustering/lib/python3.7/site-packages/ALLCools/dmr/fimo.py:60: FutureWarning: to_msgpack is deprecated and will be removed in a future version.\n",
      "It is recommended to use pyarrow for on-the-wire transmission of pandas objects.\n",
      "  final_df.to_msgpack(output_path, compress='zlib')\n"
     ]
    },
    {
     "name": "stdout",
     "output_type": "stream",
     "text": [
      "/home/hanliu/project/mouse_rostral_brain/DMR/ITSpatial_by_region/AI/MotifScan.h5adtemp/MA0880.1.meme, N motif total=7028\n"
     ]
    },
    {
     "name": "stderr",
     "output_type": "stream",
     "text": [
      "/home/hanliu/miniconda3/envs/clustering/lib/python3.7/site-packages/ALLCools/dmr/fimo.py:60: FutureWarning: to_msgpack is deprecated and will be removed in a future version.\n",
      "It is recommended to use pyarrow for on-the-wire transmission of pandas objects.\n",
      "  final_df.to_msgpack(output_path, compress='zlib')\n"
     ]
    },
    {
     "name": "stdout",
     "output_type": "stream",
     "text": [
      "/home/hanliu/project/mouse_rostral_brain/DMR/ITSpatial_by_region/AI/MotifScan.h5adtemp/MA1475.1.meme, N motif total=7656\n"
     ]
    },
    {
     "name": "stderr",
     "output_type": "stream",
     "text": [
      "/home/hanliu/miniconda3/envs/clustering/lib/python3.7/site-packages/ALLCools/dmr/fimo.py:60: FutureWarning: to_msgpack is deprecated and will be removed in a future version.\n",
      "It is recommended to use pyarrow for on-the-wire transmission of pandas objects.\n",
      "  final_df.to_msgpack(output_path, compress='zlib')\n"
     ]
    },
    {
     "name": "stdout",
     "output_type": "stream",
     "text": [
      "/home/hanliu/project/mouse_rostral_brain/DMR/ITSpatial_by_region/AI/MotifScan.h5adtemp/MA0881.1.meme, N motif total=9658\n"
     ]
    },
    {
     "name": "stderr",
     "output_type": "stream",
     "text": [
      "/home/hanliu/miniconda3/envs/clustering/lib/python3.7/site-packages/ALLCools/dmr/fimo.py:60: FutureWarning: to_msgpack is deprecated and will be removed in a future version.\n",
      "It is recommended to use pyarrow for on-the-wire transmission of pandas objects.\n",
      "  final_df.to_msgpack(output_path, compress='zlib')\n"
     ]
    },
    {
     "name": "stdout",
     "output_type": "stream",
     "text": [
      "/home/hanliu/project/mouse_rostral_brain/DMR/ITSpatial_by_region/AI/MotifScan.h5adtemp/MA0840.1.meme, N motif total=11964\n"
     ]
    },
    {
     "name": "stderr",
     "output_type": "stream",
     "text": [
      "/home/hanliu/miniconda3/envs/clustering/lib/python3.7/site-packages/ALLCools/dmr/fimo.py:60: FutureWarning: to_msgpack is deprecated and will be removed in a future version.\n",
      "It is recommended to use pyarrow for on-the-wire transmission of pandas objects.\n",
      "  final_df.to_msgpack(output_path, compress='zlib')\n"
     ]
    },
    {
     "name": "stdout",
     "output_type": "stream",
     "text": [
      "/home/hanliu/project/mouse_rostral_brain/DMR/ITSpatial_by_region/AI/MotifScan.h5adtemp/MA1474.1.meme, N motif total=9315\n"
     ]
    },
    {
     "name": "stderr",
     "output_type": "stream",
     "text": [
      "/home/hanliu/miniconda3/envs/clustering/lib/python3.7/site-packages/ALLCools/dmr/fimo.py:60: FutureWarning: to_msgpack is deprecated and will be removed in a future version.\n",
      "It is recommended to use pyarrow for on-the-wire transmission of pandas objects.\n",
      "  final_df.to_msgpack(output_path, compress='zlib')\n"
     ]
    },
    {
     "name": "stdout",
     "output_type": "stream",
     "text": [
      "/home/hanliu/project/mouse_rostral_brain/DMR/ITSpatial_by_region/AI/MotifScan.h5adtemp/MA0754.1.meme, N motif total=5746\n"
     ]
    },
    {
     "name": "stderr",
     "output_type": "stream",
     "text": [
      "/home/hanliu/miniconda3/envs/clustering/lib/python3.7/site-packages/ALLCools/dmr/fimo.py:60: FutureWarning: to_msgpack is deprecated and will be removed in a future version.\n",
      "It is recommended to use pyarrow for on-the-wire transmission of pandas objects.\n",
      "  final_df.to_msgpack(output_path, compress='zlib')\n"
     ]
    },
    {
     "name": "stdout",
     "output_type": "stream",
     "text": [
      "/home/hanliu/project/mouse_rostral_brain/DMR/ITSpatial_by_region/AI/MotifScan.h5adtemp/MA0019.1.meme, N motif total=13940\n"
     ]
    },
    {
     "name": "stderr",
     "output_type": "stream",
     "text": [
      "/home/hanliu/miniconda3/envs/clustering/lib/python3.7/site-packages/ALLCools/dmr/fimo.py:60: FutureWarning: to_msgpack is deprecated and will be removed in a future version.\n",
      "It is recommended to use pyarrow for on-the-wire transmission of pandas objects.\n",
      "  final_df.to_msgpack(output_path, compress='zlib')\n"
     ]
    },
    {
     "name": "stdout",
     "output_type": "stream",
     "text": [
      "/home/hanliu/project/mouse_rostral_brain/DMR/ITSpatial_by_region/AI/MotifScan.h5adtemp/MA0755.1.meme, N motif total=5487\n"
     ]
    },
    {
     "name": "stderr",
     "output_type": "stream",
     "text": [
      "/home/hanliu/miniconda3/envs/clustering/lib/python3.7/site-packages/ALLCools/dmr/fimo.py:60: FutureWarning: to_msgpack is deprecated and will be removed in a future version.\n",
      "It is recommended to use pyarrow for on-the-wire transmission of pandas objects.\n",
      "  final_df.to_msgpack(output_path, compress='zlib')\n"
     ]
    },
    {
     "name": "stdout",
     "output_type": "stream",
     "text": [
      "/home/hanliu/project/mouse_rostral_brain/DMR/ITSpatial_by_region/AI/MotifScan.h5adtemp/MA0882.1.meme, N motif total=9528\n"
     ]
    },
    {
     "name": "stderr",
     "output_type": "stream",
     "text": [
      "/home/hanliu/miniconda3/envs/clustering/lib/python3.7/site-packages/ALLCools/dmr/fimo.py:60: FutureWarning: to_msgpack is deprecated and will be removed in a future version.\n",
      "It is recommended to use pyarrow for on-the-wire transmission of pandas objects.\n",
      "  final_df.to_msgpack(output_path, compress='zlib')\n"
     ]
    },
    {
     "name": "stdout",
     "output_type": "stream",
     "text": [
      "/home/hanliu/project/mouse_rostral_brain/DMR/ITSpatial_by_region/AI/MotifScan.h5adtemp/MA1102.2.meme, N motif total=27190\n"
     ]
    },
    {
     "name": "stderr",
     "output_type": "stream",
     "text": [
      "/home/hanliu/miniconda3/envs/clustering/lib/python3.7/site-packages/ALLCools/dmr/fimo.py:60: FutureWarning: to_msgpack is deprecated and will be removed in a future version.\n",
      "It is recommended to use pyarrow for on-the-wire transmission of pandas objects.\n",
      "  final_df.to_msgpack(output_path, compress='zlib')\n"
     ]
    },
    {
     "name": "stdout",
     "output_type": "stream",
     "text": [
      "/home/hanliu/project/mouse_rostral_brain/DMR/ITSpatial_by_region/AI/MotifScan.h5adtemp/MA1636.1.meme, N motif total=17947\n"
     ]
    },
    {
     "name": "stderr",
     "output_type": "stream",
     "text": [
      "/home/hanliu/miniconda3/envs/clustering/lib/python3.7/site-packages/ALLCools/dmr/fimo.py:60: FutureWarning: to_msgpack is deprecated and will be removed in a future version.\n",
      "It is recommended to use pyarrow for on-the-wire transmission of pandas objects.\n",
      "  final_df.to_msgpack(output_path, compress='zlib')\n"
     ]
    },
    {
     "name": "stdout",
     "output_type": "stream",
     "text": [
      "/home/hanliu/project/mouse_rostral_brain/DMR/ITSpatial_by_region/AI/MotifScan.h5adtemp/MA0879.1.meme, N motif total=11294\n"
     ]
    },
    {
     "name": "stderr",
     "output_type": "stream",
     "text": [
      "/home/hanliu/miniconda3/envs/clustering/lib/python3.7/site-packages/ALLCools/dmr/fimo.py:60: FutureWarning: to_msgpack is deprecated and will be removed in a future version.\n",
      "It is recommended to use pyarrow for on-the-wire transmission of pandas objects.\n",
      "  final_df.to_msgpack(output_path, compress='zlib')\n"
     ]
    },
    {
     "name": "stdout",
     "output_type": "stream",
     "text": [
      "/home/hanliu/project/mouse_rostral_brain/DMR/ITSpatial_by_region/AI/MotifScan.h5adtemp/MA0639.1.meme, N motif total=11449\n"
     ]
    },
    {
     "name": "stderr",
     "output_type": "stream",
     "text": [
      "/home/hanliu/miniconda3/envs/clustering/lib/python3.7/site-packages/ALLCools/dmr/fimo.py:60: FutureWarning: to_msgpack is deprecated and will be removed in a future version.\n",
      "It is recommended to use pyarrow for on-the-wire transmission of pandas objects.\n",
      "  final_df.to_msgpack(output_path, compress='zlib')\n"
     ]
    },
    {
     "name": "stdout",
     "output_type": "stream",
     "text": [
      "/home/hanliu/project/mouse_rostral_brain/DMR/ITSpatial_by_region/AI/MotifScan.h5adtemp/MA0609.2.meme, N motif total=16328\n"
     ]
    },
    {
     "name": "stderr",
     "output_type": "stream",
     "text": [
      "/home/hanliu/miniconda3/envs/clustering/lib/python3.7/site-packages/ALLCools/dmr/fimo.py:60: FutureWarning: to_msgpack is deprecated and will be removed in a future version.\n",
      "It is recommended to use pyarrow for on-the-wire transmission of pandas objects.\n",
      "  final_df.to_msgpack(output_path, compress='zlib')\n"
     ]
    },
    {
     "name": "stdout",
     "output_type": "stream",
     "text": [
      "/home/hanliu/project/mouse_rostral_brain/DMR/ITSpatial_by_region/AI/MotifScan.h5adtemp/MA0139.1.meme, N motif total=36424\n"
     ]
    },
    {
     "name": "stderr",
     "output_type": "stream",
     "text": [
      "/home/hanliu/miniconda3/envs/clustering/lib/python3.7/site-packages/ALLCools/dmr/fimo.py:60: FutureWarning: to_msgpack is deprecated and will be removed in a future version.\n",
      "It is recommended to use pyarrow for on-the-wire transmission of pandas objects.\n",
      "  final_df.to_msgpack(output_path, compress='zlib')\n"
     ]
    },
    {
     "name": "stdout",
     "output_type": "stream",
     "text": [
      "/home/hanliu/project/mouse_rostral_brain/DMR/ITSpatial_by_region/AI/MotifScan.h5adtemp/MA1603.1.meme, N motif total=23834\n"
     ]
    },
    {
     "name": "stderr",
     "output_type": "stream",
     "text": [
      "/home/hanliu/miniconda3/envs/clustering/lib/python3.7/site-packages/ALLCools/dmr/fimo.py:60: FutureWarning: to_msgpack is deprecated and will be removed in a future version.\n",
      "It is recommended to use pyarrow for on-the-wire transmission of pandas objects.\n",
      "  final_df.to_msgpack(output_path, compress='zlib')\n"
     ]
    },
    {
     "name": "stdout",
     "output_type": "stream",
     "text": [
      "/home/hanliu/project/mouse_rostral_brain/DMR/ITSpatial_by_region/AI/MotifScan.h5adtemp/MA0883.1.meme, N motif total=9538\n"
     ]
    },
    {
     "name": "stderr",
     "output_type": "stream",
     "text": [
      "/home/hanliu/miniconda3/envs/clustering/lib/python3.7/site-packages/ALLCools/dmr/fimo.py:60: FutureWarning: to_msgpack is deprecated and will be removed in a future version.\n",
      "It is recommended to use pyarrow for on-the-wire transmission of pandas objects.\n",
      "  final_df.to_msgpack(output_path, compress='zlib')\n"
     ]
    },
    {
     "name": "stdout",
     "output_type": "stream",
     "text": [
      "/home/hanliu/project/mouse_rostral_brain/DMR/ITSpatial_by_region/AI/MotifScan.h5adtemp/MA0610.1.meme, N motif total=16267\n"
     ]
    },
    {
     "name": "stderr",
     "output_type": "stream",
     "text": [
      "/home/hanliu/miniconda3/envs/clustering/lib/python3.7/site-packages/ALLCools/dmr/fimo.py:60: FutureWarning: to_msgpack is deprecated and will be removed in a future version.\n",
      "It is recommended to use pyarrow for on-the-wire transmission of pandas objects.\n",
      "  final_df.to_msgpack(output_path, compress='zlib')\n"
     ]
    },
    {
     "name": "stdout",
     "output_type": "stream",
     "text": [
      "/home/hanliu/project/mouse_rostral_brain/DMR/ITSpatial_by_region/AI/MotifScan.h5adtemp/MA1481.1.meme, N motif total=9253\n"
     ]
    },
    {
     "name": "stderr",
     "output_type": "stream",
     "text": [
      "/home/hanliu/miniconda3/envs/clustering/lib/python3.7/site-packages/ALLCools/dmr/fimo.py:60: FutureWarning: to_msgpack is deprecated and will be removed in a future version.\n",
      "It is recommended to use pyarrow for on-the-wire transmission of pandas objects.\n",
      "  final_df.to_msgpack(output_path, compress='zlib')\n"
     ]
    },
    {
     "name": "stdout",
     "output_type": "stream",
     "text": [
      "/home/hanliu/project/mouse_rostral_brain/DMR/ITSpatial_by_region/AI/MotifScan.h5adtemp/MA1478.1.meme, N motif total=17310\n"
     ]
    },
    {
     "name": "stderr",
     "output_type": "stream",
     "text": [
      "/home/hanliu/miniconda3/envs/clustering/lib/python3.7/site-packages/ALLCools/dmr/fimo.py:60: FutureWarning: to_msgpack is deprecated and will be removed in a future version.\n",
      "It is recommended to use pyarrow for on-the-wire transmission of pandas objects.\n",
      "  final_df.to_msgpack(output_path, compress='zlib')\n"
     ]
    },
    {
     "name": "stdout",
     "output_type": "stream",
     "text": [
      "/home/hanliu/project/mouse_rostral_brain/DMR/ITSpatial_by_region/AI/MotifScan.h5adtemp/MA0024.3.meme, N motif total=3339\n"
     ]
    },
    {
     "name": "stderr",
     "output_type": "stream",
     "text": [
      "/home/hanliu/miniconda3/envs/clustering/lib/python3.7/site-packages/ALLCools/dmr/fimo.py:60: FutureWarning: to_msgpack is deprecated and will be removed in a future version.\n",
      "It is recommended to use pyarrow for on-the-wire transmission of pandas objects.\n",
      "  final_df.to_msgpack(output_path, compress='zlib')\n"
     ]
    },
    {
     "name": "stdout",
     "output_type": "stream",
     "text": [
      "/home/hanliu/project/mouse_rostral_brain/DMR/ITSpatial_by_region/AI/MotifScan.h5adtemp/MA1479.1.meme, N motif total=19256\n"
     ]
    },
    {
     "name": "stderr",
     "output_type": "stream",
     "text": [
      "/home/hanliu/miniconda3/envs/clustering/lib/python3.7/site-packages/ALLCools/dmr/fimo.py:60: FutureWarning: to_msgpack is deprecated and will be removed in a future version.\n",
      "It is recommended to use pyarrow for on-the-wire transmission of pandas objects.\n",
      "  final_df.to_msgpack(output_path, compress='zlib')\n"
     ]
    },
    {
     "name": "stdout",
     "output_type": "stream",
     "text": [
      "/home/hanliu/project/mouse_rostral_brain/DMR/ITSpatial_by_region/AI/MotifScan.h5adtemp/MA0470.2.meme, N motif total=2290\n"
     ]
    },
    {
     "name": "stderr",
     "output_type": "stream",
     "text": [
      "/home/hanliu/miniconda3/envs/clustering/lib/python3.7/site-packages/ALLCools/dmr/fimo.py:60: FutureWarning: to_msgpack is deprecated and will be removed in a future version.\n",
      "It is recommended to use pyarrow for on-the-wire transmission of pandas objects.\n",
      "  final_df.to_msgpack(output_path, compress='zlib')\n"
     ]
    },
    {
     "name": "stdout",
     "output_type": "stream",
     "text": [
      "/home/hanliu/project/mouse_rostral_brain/DMR/ITSpatial_by_region/AI/MotifScan.h5adtemp/MA0471.2.meme, N motif total=51119\n"
     ]
    },
    {
     "name": "stderr",
     "output_type": "stream",
     "text": [
      "/home/hanliu/miniconda3/envs/clustering/lib/python3.7/site-packages/ALLCools/dmr/fimo.py:60: FutureWarning: to_msgpack is deprecated and will be removed in a future version.\n",
      "It is recommended to use pyarrow for on-the-wire transmission of pandas objects.\n",
      "  final_df.to_msgpack(output_path, compress='zlib')\n"
     ]
    },
    {
     "name": "stdout",
     "output_type": "stream",
     "text": [
      "/home/hanliu/project/mouse_rostral_brain/DMR/ITSpatial_by_region/AI/MotifScan.h5adtemp/MA0758.1.meme, N motif total=611\n"
     ]
    },
    {
     "name": "stderr",
     "output_type": "stream",
     "text": [
      "/home/hanliu/miniconda3/envs/clustering/lib/python3.7/site-packages/ALLCools/dmr/fimo.py:60: FutureWarning: to_msgpack is deprecated and will be removed in a future version.\n",
      "It is recommended to use pyarrow for on-the-wire transmission of pandas objects.\n",
      "  final_df.to_msgpack(output_path, compress='zlib')\n"
     ]
    },
    {
     "name": "stdout",
     "output_type": "stream",
     "text": [
      "/home/hanliu/project/mouse_rostral_brain/DMR/ITSpatial_by_region/AI/MotifScan.h5adtemp/MA0469.3.meme, N motif total=1177\n"
     ]
    },
    {
     "name": "stderr",
     "output_type": "stream",
     "text": [
      "/home/hanliu/miniconda3/envs/clustering/lib/python3.7/site-packages/ALLCools/dmr/fimo.py:60: FutureWarning: to_msgpack is deprecated and will be removed in a future version.\n",
      "It is recommended to use pyarrow for on-the-wire transmission of pandas objects.\n",
      "  final_df.to_msgpack(output_path, compress='zlib')\n"
     ]
    },
    {
     "name": "stdout",
     "output_type": "stream",
     "text": [
      "/home/hanliu/project/mouse_rostral_brain/DMR/ITSpatial_by_region/AI/MotifScan.h5adtemp/MA0864.2.meme, N motif total=2584\n"
     ]
    },
    {
     "name": "stderr",
     "output_type": "stream",
     "text": [
      "/home/hanliu/miniconda3/envs/clustering/lib/python3.7/site-packages/ALLCools/dmr/fimo.py:60: FutureWarning: to_msgpack is deprecated and will be removed in a future version.\n",
      "It is recommended to use pyarrow for on-the-wire transmission of pandas objects.\n",
      "  final_df.to_msgpack(output_path, compress='zlib')\n"
     ]
    },
    {
     "name": "stdout",
     "output_type": "stream",
     "text": [
      "/home/hanliu/project/mouse_rostral_brain/DMR/ITSpatial_by_region/AI/MotifScan.h5adtemp/MA0154.4.meme, N motif total=48573\n"
     ]
    },
    {
     "name": "stderr",
     "output_type": "stream",
     "text": [
      "/home/hanliu/miniconda3/envs/clustering/lib/python3.7/site-packages/ALLCools/dmr/fimo.py:60: FutureWarning: to_msgpack is deprecated and will be removed in a future version.\n",
      "It is recommended to use pyarrow for on-the-wire transmission of pandas objects.\n",
      "  final_df.to_msgpack(output_path, compress='zlib')\n"
     ]
    },
    {
     "name": "stdout",
     "output_type": "stream",
     "text": [
      "/home/hanliu/project/mouse_rostral_brain/DMR/ITSpatial_by_region/AI/MotifScan.h5adtemp/MA0472.2.meme, N motif total=16024\n"
     ]
    },
    {
     "name": "stderr",
     "output_type": "stream",
     "text": [
      "/home/hanliu/miniconda3/envs/clustering/lib/python3.7/site-packages/ALLCools/dmr/fimo.py:60: FutureWarning: to_msgpack is deprecated and will be removed in a future version.\n",
      "It is recommended to use pyarrow for on-the-wire transmission of pandas objects.\n",
      "  final_df.to_msgpack(output_path, compress='zlib')\n"
     ]
    },
    {
     "name": "stdout",
     "output_type": "stream",
     "text": [
      "/home/hanliu/project/mouse_rostral_brain/DMR/ITSpatial_by_region/AI/MotifScan.h5adtemp/MA0027.2.meme, N motif total=11192\n"
     ]
    },
    {
     "name": "stderr",
     "output_type": "stream",
     "text": [
      "/home/hanliu/miniconda3/envs/clustering/lib/python3.7/site-packages/ALLCools/dmr/fimo.py:60: FutureWarning: to_msgpack is deprecated and will be removed in a future version.\n",
      "It is recommended to use pyarrow for on-the-wire transmission of pandas objects.\n",
      "  final_df.to_msgpack(output_path, compress='zlib')\n"
     ]
    },
    {
     "name": "stdout",
     "output_type": "stream",
     "text": [
      "/home/hanliu/project/mouse_rostral_brain/DMR/ITSpatial_by_region/AI/MotifScan.h5adtemp/MA0865.1.meme, N motif total=8943\n"
     ]
    },
    {
     "name": "stderr",
     "output_type": "stream",
     "text": [
      "/home/hanliu/miniconda3/envs/clustering/lib/python3.7/site-packages/ALLCools/dmr/fimo.py:60: FutureWarning: to_msgpack is deprecated and will be removed in a future version.\n",
      "It is recommended to use pyarrow for on-the-wire transmission of pandas objects.\n",
      "  final_df.to_msgpack(output_path, compress='zlib')\n"
     ]
    },
    {
     "name": "stdout",
     "output_type": "stream",
     "text": [
      "/home/hanliu/project/mouse_rostral_brain/DMR/ITSpatial_by_region/AI/MotifScan.h5adtemp/MA1483.1.meme, N motif total=12280\n"
     ]
    },
    {
     "name": "stderr",
     "output_type": "stream",
     "text": [
      "/home/hanliu/miniconda3/envs/clustering/lib/python3.7/site-packages/ALLCools/dmr/fimo.py:60: FutureWarning: to_msgpack is deprecated and will be removed in a future version.\n",
      "It is recommended to use pyarrow for on-the-wire transmission of pandas objects.\n",
      "  final_df.to_msgpack(output_path, compress='zlib')\n"
     ]
    },
    {
     "name": "stdout",
     "output_type": "stream",
     "text": [
      "/home/hanliu/project/mouse_rostral_brain/DMR/ITSpatial_by_region/AI/MotifScan.h5adtemp/MA1637.1.meme, N motif total=38791\n"
     ]
    },
    {
     "name": "stderr",
     "output_type": "stream",
     "text": [
      "/home/hanliu/miniconda3/envs/clustering/lib/python3.7/site-packages/ALLCools/dmr/fimo.py:60: FutureWarning: to_msgpack is deprecated and will be removed in a future version.\n",
      "It is recommended to use pyarrow for on-the-wire transmission of pandas objects.\n",
      "  final_df.to_msgpack(output_path, compress='zlib')\n"
     ]
    },
    {
     "name": "stdout",
     "output_type": "stream",
     "text": [
      "/home/hanliu/project/mouse_rostral_brain/DMR/ITSpatial_by_region/AI/MotifScan.h5adtemp/MA0028.2.meme, N motif total=7071\n"
     ]
    },
    {
     "name": "stderr",
     "output_type": "stream",
     "text": [
      "/home/hanliu/miniconda3/envs/clustering/lib/python3.7/site-packages/ALLCools/dmr/fimo.py:60: FutureWarning: to_msgpack is deprecated and will be removed in a future version.\n",
      "It is recommended to use pyarrow for on-the-wire transmission of pandas objects.\n",
      "  final_df.to_msgpack(output_path, compress='zlib')\n"
     ]
    },
    {
     "name": "stdout",
     "output_type": "stream",
     "text": [
      "/home/hanliu/project/mouse_rostral_brain/DMR/ITSpatial_by_region/AI/MotifScan.h5adtemp/MA1604.1.meme, N motif total=39838\n"
     ]
    },
    {
     "name": "stderr",
     "output_type": "stream",
     "text": [
      "/home/hanliu/miniconda3/envs/clustering/lib/python3.7/site-packages/ALLCools/dmr/fimo.py:60: FutureWarning: to_msgpack is deprecated and will be removed in a future version.\n",
      "It is recommended to use pyarrow for on-the-wire transmission of pandas objects.\n",
      "  final_df.to_msgpack(output_path, compress='zlib')\n"
     ]
    },
    {
     "name": "stdout",
     "output_type": "stream",
     "text": [
      "/home/hanliu/project/mouse_rostral_brain/DMR/ITSpatial_by_region/AI/MotifScan.h5adtemp/MA0886.1.meme, N motif total=11434\n"
     ]
    },
    {
     "name": "stdout",
     "output_type": "stream",
     "text": [
      "/home/hanliu/project/mouse_rostral_brain/DMR/ITSpatial_by_region/AI/MotifScan.h5adtemp/MA0612.2.meme, N motif total=10448\n"
     ]
    },
    {
     "name": "stderr",
     "output_type": "stream",
     "text": [
      "/home/hanliu/miniconda3/envs/clustering/lib/python3.7/site-packages/ALLCools/dmr/fimo.py:60: FutureWarning: to_msgpack is deprecated and will be removed in a future version.\n",
      "It is recommended to use pyarrow for on-the-wire transmission of pandas objects.\n",
      "  final_df.to_msgpack(output_path, compress='zlib')\n"
     ]
    },
    {
     "name": "stderr",
     "output_type": "stream",
     "text": [
      "/home/hanliu/miniconda3/envs/clustering/lib/python3.7/site-packages/ALLCools/dmr/fimo.py:60: FutureWarning: to_msgpack is deprecated and will be removed in a future version.\n",
      "It is recommended to use pyarrow for on-the-wire transmission of pandas objects.\n",
      "  final_df.to_msgpack(output_path, compress='zlib')\n"
     ]
    },
    {
     "name": "stdout",
     "output_type": "stream",
     "text": [
      "/home/hanliu/project/mouse_rostral_brain/DMR/ITSpatial_by_region/AI/MotifScan.h5adtemp/MA0759.1.meme, N motif total=7860\n"
     ]
    },
    {
     "name": "stderr",
     "output_type": "stream",
     "text": [
      "/home/hanliu/miniconda3/envs/clustering/lib/python3.7/site-packages/ALLCools/dmr/fimo.py:60: FutureWarning: to_msgpack is deprecated and will be removed in a future version.\n",
      "It is recommended to use pyarrow for on-the-wire transmission of pandas objects.\n",
      "  final_df.to_msgpack(output_path, compress='zlib')\n"
     ]
    },
    {
     "name": "stdout",
     "output_type": "stream",
     "text": [
      "/home/hanliu/project/mouse_rostral_brain/DMR/ITSpatial_by_region/AI/MotifScan.h5adtemp/MA0642.1.meme, N motif total=9545\n"
     ]
    },
    {
     "name": "stderr",
     "output_type": "stream",
     "text": [
      "/home/hanliu/miniconda3/envs/clustering/lib/python3.7/site-packages/ALLCools/dmr/fimo.py:60: FutureWarning: to_msgpack is deprecated and will be removed in a future version.\n",
      "It is recommended to use pyarrow for on-the-wire transmission of pandas objects.\n",
      "  final_df.to_msgpack(output_path, compress='zlib')\n"
     ]
    },
    {
     "name": "stdout",
     "output_type": "stream",
     "text": [
      "/home/hanliu/project/mouse_rostral_brain/DMR/ITSpatial_by_region/AI/MotifScan.h5adtemp/MA0732.1.meme, N motif total=23792\n"
     ]
    },
    {
     "name": "stderr",
     "output_type": "stream",
     "text": [
      "/home/hanliu/miniconda3/envs/clustering/lib/python3.7/site-packages/ALLCools/dmr/fimo.py:60: FutureWarning: to_msgpack is deprecated and will be removed in a future version.\n",
      "It is recommended to use pyarrow for on-the-wire transmission of pandas objects.\n",
      "  final_df.to_msgpack(output_path, compress='zlib')\n"
     ]
    },
    {
     "name": "stdout",
     "output_type": "stream",
     "text": [
      "/home/hanliu/project/mouse_rostral_brain/DMR/ITSpatial_by_region/AI/MotifScan.h5adtemp/MA0162.4.meme, N motif total=154152\n"
     ]
    },
    {
     "name": "stderr",
     "output_type": "stream",
     "text": [
      "/home/hanliu/miniconda3/envs/clustering/lib/python3.7/site-packages/ALLCools/dmr/fimo.py:60: FutureWarning: to_msgpack is deprecated and will be removed in a future version.\n",
      "It is recommended to use pyarrow for on-the-wire transmission of pandas objects.\n",
      "  final_df.to_msgpack(output_path, compress='zlib')\n"
     ]
    },
    {
     "name": "stdout",
     "output_type": "stream",
     "text": [
      "/home/hanliu/project/mouse_rostral_brain/DMR/ITSpatial_by_region/AI/MotifScan.h5adtemp/MA0760.1.meme, N motif total=11769\n"
     ]
    },
    {
     "name": "stderr",
     "output_type": "stream",
     "text": [
      "/home/hanliu/miniconda3/envs/clustering/lib/python3.7/site-packages/ALLCools/dmr/fimo.py:60: FutureWarning: to_msgpack is deprecated and will be removed in a future version.\n",
      "It is recommended to use pyarrow for on-the-wire transmission of pandas objects.\n",
      "  final_df.to_msgpack(output_path, compress='zlib')\n"
     ]
    },
    {
     "name": "stdout",
     "output_type": "stream",
     "text": [
      "/home/hanliu/project/mouse_rostral_brain/DMR/ITSpatial_by_region/AI/MotifScan.h5adtemp/MA0474.2.meme, N motif total=10787\n"
     ]
    },
    {
     "name": "stderr",
     "output_type": "stream",
     "text": [
      "/home/hanliu/miniconda3/envs/clustering/lib/python3.7/site-packages/ALLCools/dmr/fimo.py:60: FutureWarning: to_msgpack is deprecated and will be removed in a future version.\n",
      "It is recommended to use pyarrow for on-the-wire transmission of pandas objects.\n",
      "  final_df.to_msgpack(output_path, compress='zlib')\n"
     ]
    },
    {
     "name": "stdout",
     "output_type": "stream",
     "text": [
      "/home/hanliu/project/mouse_rostral_brain/DMR/ITSpatial_by_region/AI/MotifScan.h5adtemp/MA0800.1.meme, N motif total=22432\n"
     ]
    },
    {
     "name": "stderr",
     "output_type": "stream",
     "text": [
      "/home/hanliu/miniconda3/envs/clustering/lib/python3.7/site-packages/ALLCools/dmr/fimo.py:60: FutureWarning: to_msgpack is deprecated and will be removed in a future version.\n",
      "It is recommended to use pyarrow for on-the-wire transmission of pandas objects.\n",
      "  final_df.to_msgpack(output_path, compress='zlib')\n"
     ]
    },
    {
     "name": "stdout",
     "output_type": "stream",
     "text": [
      "/home/hanliu/project/mouse_rostral_brain/DMR/ITSpatial_by_region/AI/MotifScan.h5adtemp/MA0733.1.meme, N motif total=37465\n"
     ]
    },
    {
     "name": "stderr",
     "output_type": "stream",
     "text": [
      "/home/hanliu/miniconda3/envs/clustering/lib/python3.7/site-packages/ALLCools/dmr/fimo.py:60: FutureWarning: to_msgpack is deprecated and will be removed in a future version.\n",
      "It is recommended to use pyarrow for on-the-wire transmission of pandas objects.\n",
      "  final_df.to_msgpack(output_path, compress='zlib')\n"
     ]
    },
    {
     "name": "stdout",
     "output_type": "stream",
     "text": [
      "/home/hanliu/project/mouse_rostral_brain/DMR/ITSpatial_by_region/AI/MotifScan.h5adtemp/MA0641.1.meme, N motif total=14110\n"
     ]
    },
    {
     "name": "stderr",
     "output_type": "stream",
     "text": [
      "/home/hanliu/miniconda3/envs/clustering/lib/python3.7/site-packages/ALLCools/dmr/fimo.py:60: FutureWarning: to_msgpack is deprecated and will be removed in a future version.\n",
      "It is recommended to use pyarrow for on-the-wire transmission of pandas objects.\n",
      "  final_df.to_msgpack(output_path, compress='zlib')\n"
     ]
    },
    {
     "name": "stdout",
     "output_type": "stream",
     "text": [
      "Finish count 100 motifs.\n"
     ]
    },
    {
     "name": "stdout",
     "output_type": "stream",
     "text": [
      "/home/hanliu/project/mouse_rostral_brain/DMR/ITSpatial_by_region/AI/MotifScan.h5adtemp/MA0473.3.meme, N motif total=54322\n"
     ]
    },
    {
     "name": "stderr",
     "output_type": "stream",
     "text": [
      "/home/hanliu/miniconda3/envs/clustering/lib/python3.7/site-packages/ALLCools/dmr/fimo.py:60: FutureWarning: to_msgpack is deprecated and will be removed in a future version.\n",
      "It is recommended to use pyarrow for on-the-wire transmission of pandas objects.\n",
      "  final_df.to_msgpack(output_path, compress='zlib')\n"
     ]
    },
    {
     "name": "stdout",
     "output_type": "stream",
     "text": [
      "/home/hanliu/project/mouse_rostral_brain/DMR/ITSpatial_by_region/AI/MotifScan.h5adtemp/MA0136.2.meme, N motif total=22076\n"
     ]
    },
    {
     "name": "stderr",
     "output_type": "stream",
     "text": [
      "/home/hanliu/miniconda3/envs/clustering/lib/python3.7/site-packages/ALLCools/dmr/fimo.py:60: FutureWarning: to_msgpack is deprecated and will be removed in a future version.\n",
      "It is recommended to use pyarrow for on-the-wire transmission of pandas objects.\n",
      "  final_df.to_msgpack(output_path, compress='zlib')\n"
     ]
    },
    {
     "name": "stdout",
     "output_type": "stream",
     "text": [
      "/home/hanliu/project/mouse_rostral_brain/DMR/ITSpatial_by_region/AI/MotifScan.h5adtemp/MA0598.3.meme, N motif total=49924\n"
     ]
    },
    {
     "name": "stderr",
     "output_type": "stream",
     "text": [
      "/home/hanliu/miniconda3/envs/clustering/lib/python3.7/site-packages/ALLCools/dmr/fimo.py:60: FutureWarning: to_msgpack is deprecated and will be removed in a future version.\n",
      "It is recommended to use pyarrow for on-the-wire transmission of pandas objects.\n",
      "  final_df.to_msgpack(output_path, compress='zlib')\n"
     ]
    },
    {
     "name": "stdout",
     "output_type": "stream",
     "text": [
      "/home/hanliu/project/mouse_rostral_brain/DMR/ITSpatial_by_region/AI/MotifScan.h5adtemp/MA0640.2.meme, N motif total=59713\n"
     ]
    },
    {
     "name": "stderr",
     "output_type": "stream",
     "text": [
      "/home/hanliu/miniconda3/envs/clustering/lib/python3.7/site-packages/ALLCools/dmr/fimo.py:60: FutureWarning: to_msgpack is deprecated and will be removed in a future version.\n",
      "It is recommended to use pyarrow for on-the-wire transmission of pandas objects.\n",
      "  final_df.to_msgpack(output_path, compress='zlib')\n"
     ]
    },
    {
     "name": "stdout",
     "output_type": "stream",
     "text": [
      "/home/hanliu/project/mouse_rostral_brain/DMR/ITSpatial_by_region/AI/MotifScan.h5adtemp/MA0076.2.meme, N motif total=20600\n"
     ]
    },
    {
     "name": "stderr",
     "output_type": "stream",
     "text": [
      "/home/hanliu/miniconda3/envs/clustering/lib/python3.7/site-packages/ALLCools/dmr/fimo.py:60: FutureWarning: to_msgpack is deprecated and will be removed in a future version.\n",
      "It is recommended to use pyarrow for on-the-wire transmission of pandas objects.\n",
      "  final_df.to_msgpack(output_path, compress='zlib')\n"
     ]
    },
    {
     "name": "stdout",
     "output_type": "stream",
     "text": [
      "/home/hanliu/project/mouse_rostral_brain/DMR/ITSpatial_by_region/AI/MotifScan.h5adtemp/MA0592.3.meme, N motif total=27732\n"
     ]
    },
    {
     "name": "stderr",
     "output_type": "stream",
     "text": [
      "/home/hanliu/miniconda3/envs/clustering/lib/python3.7/site-packages/ALLCools/dmr/fimo.py:60: FutureWarning: to_msgpack is deprecated and will be removed in a future version.\n",
      "It is recommended to use pyarrow for on-the-wire transmission of pandas objects.\n",
      "  final_df.to_msgpack(output_path, compress='zlib')\n"
     ]
    },
    {
     "name": "stdout",
     "output_type": "stream",
     "text": [
      "/home/hanliu/project/mouse_rostral_brain/DMR/ITSpatial_by_region/AI/MotifScan.h5adtemp/MA0141.3.meme, N motif total=22342\n"
     ]
    },
    {
     "name": "stderr",
     "output_type": "stream",
     "text": [
      "/home/hanliu/miniconda3/envs/clustering/lib/python3.7/site-packages/ALLCools/dmr/fimo.py:60: FutureWarning: to_msgpack is deprecated and will be removed in a future version.\n",
      "It is recommended to use pyarrow for on-the-wire transmission of pandas objects.\n",
      "  final_df.to_msgpack(output_path, compress='zlib')\n"
     ]
    },
    {
     "name": "stdout",
     "output_type": "stream",
     "text": [
      "/home/hanliu/project/mouse_rostral_brain/DMR/ITSpatial_by_region/AI/MotifScan.h5adtemp/MA0258.2.meme, N motif total=35397\n"
     ]
    },
    {
     "name": "stderr",
     "output_type": "stream",
     "text": [
      "/home/hanliu/miniconda3/envs/clustering/lib/python3.7/site-packages/ALLCools/dmr/fimo.py:60: FutureWarning: to_msgpack is deprecated and will be removed in a future version.\n",
      "It is recommended to use pyarrow for on-the-wire transmission of pandas objects.\n",
      "  final_df.to_msgpack(output_path, compress='zlib')\n"
     ]
    },
    {
     "name": "stdout",
     "output_type": "stream",
     "text": [
      "/home/hanliu/project/mouse_rostral_brain/DMR/ITSpatial_by_region/AI/MotifScan.h5adtemp/MA0112.3.meme, N motif total=3099\n"
     ]
    },
    {
     "name": "stderr",
     "output_type": "stream",
     "text": [
      "/home/hanliu/miniconda3/envs/clustering/lib/python3.7/site-packages/ALLCools/dmr/fimo.py:60: FutureWarning: to_msgpack is deprecated and will be removed in a future version.\n",
      "It is recommended to use pyarrow for on-the-wire transmission of pandas objects.\n",
      "  final_df.to_msgpack(output_path, compress='zlib')\n"
     ]
    },
    {
     "name": "stdout",
     "output_type": "stream",
     "text": [
      "/home/hanliu/project/mouse_rostral_brain/DMR/ITSpatial_by_region/AI/MotifScan.h5adtemp/MA0643.1.meme, N motif total=19918\n"
     ]
    },
    {
     "name": "stderr",
     "output_type": "stream",
     "text": [
      "/home/hanliu/miniconda3/envs/clustering/lib/python3.7/site-packages/ALLCools/dmr/fimo.py:60: FutureWarning: to_msgpack is deprecated and will be removed in a future version.\n",
      "It is recommended to use pyarrow for on-the-wire transmission of pandas objects.\n",
      "  final_df.to_msgpack(output_path, compress='zlib')\n"
     ]
    },
    {
     "name": "stdout",
     "output_type": "stream",
     "text": [
      "/home/hanliu/project/mouse_rostral_brain/DMR/ITSpatial_by_region/AI/MotifScan.h5adtemp/MA0644.1.meme, N motif total=12330\n"
     ]
    },
    {
     "name": "stderr",
     "output_type": "stream",
     "text": [
      "/home/hanliu/miniconda3/envs/clustering/lib/python3.7/site-packages/ALLCools/dmr/fimo.py:60: FutureWarning: to_msgpack is deprecated and will be removed in a future version.\n",
      "It is recommended to use pyarrow for on-the-wire transmission of pandas objects.\n",
      "  final_df.to_msgpack(output_path, compress='zlib')\n"
     ]
    },
    {
     "name": "stdout",
     "output_type": "stream",
     "text": [
      "/home/hanliu/project/mouse_rostral_brain/DMR/ITSpatial_by_region/AI/MotifScan.h5adtemp/MA0098.3.meme, N motif total=12913\n"
     ]
    },
    {
     "name": "stderr",
     "output_type": "stream",
     "text": [
      "/home/hanliu/miniconda3/envs/clustering/lib/python3.7/site-packages/ALLCools/dmr/fimo.py:60: FutureWarning: to_msgpack is deprecated and will be removed in a future version.\n",
      "It is recommended to use pyarrow for on-the-wire transmission of pandas objects.\n",
      "  final_df.to_msgpack(output_path, compress='zlib')\n"
     ]
    },
    {
     "name": "stdout",
     "output_type": "stream",
     "text": [
      "/home/hanliu/project/mouse_rostral_brain/DMR/ITSpatial_by_region/AI/MotifScan.h5adtemp/MA1484.1.meme, N motif total=12855\n"
     ]
    },
    {
     "name": "stderr",
     "output_type": "stream",
     "text": [
      "/home/hanliu/miniconda3/envs/clustering/lib/python3.7/site-packages/ALLCools/dmr/fimo.py:60: FutureWarning: to_msgpack is deprecated and will be removed in a future version.\n",
      "It is recommended to use pyarrow for on-the-wire transmission of pandas objects.\n",
      "  final_df.to_msgpack(output_path, compress='zlib')\n"
     ]
    },
    {
     "name": "stdout",
     "output_type": "stream",
     "text": [
      "/home/hanliu/project/mouse_rostral_brain/DMR/ITSpatial_by_region/AI/MotifScan.h5adtemp/MA0762.1.meme, N motif total=15866\n"
     ]
    },
    {
     "name": "stderr",
     "output_type": "stream",
     "text": [
      "/home/hanliu/miniconda3/envs/clustering/lib/python3.7/site-packages/ALLCools/dmr/fimo.py:60: FutureWarning: to_msgpack is deprecated and will be removed in a future version.\n",
      "It is recommended to use pyarrow for on-the-wire transmission of pandas objects.\n",
      "  final_df.to_msgpack(output_path, compress='zlib')\n"
     ]
    },
    {
     "name": "stdout",
     "output_type": "stream",
     "text": [
      "/home/hanliu/project/mouse_rostral_brain/DMR/ITSpatial_by_region/AI/MotifScan.h5adtemp/MA0763.1.meme, N motif total=8290\n"
     ]
    },
    {
     "name": "stderr",
     "output_type": "stream",
     "text": [
      "/home/hanliu/miniconda3/envs/clustering/lib/python3.7/site-packages/ALLCools/dmr/fimo.py:60: FutureWarning: to_msgpack is deprecated and will be removed in a future version.\n",
      "It is recommended to use pyarrow for on-the-wire transmission of pandas objects.\n",
      "  final_df.to_msgpack(output_path, compress='zlib')\n"
     ]
    },
    {
     "name": "stdout",
     "output_type": "stream",
     "text": [
      "/home/hanliu/project/mouse_rostral_brain/DMR/ITSpatial_by_region/AI/MotifScan.h5adtemp/MA0761.2.meme, N motif total=56394\n"
     ]
    },
    {
     "name": "stderr",
     "output_type": "stream",
     "text": [
      "/home/hanliu/miniconda3/envs/clustering/lib/python3.7/site-packages/ALLCools/dmr/fimo.py:60: FutureWarning: to_msgpack is deprecated and will be removed in a future version.\n",
      "It is recommended to use pyarrow for on-the-wire transmission of pandas objects.\n",
      "  final_df.to_msgpack(output_path, compress='zlib')\n"
     ]
    },
    {
     "name": "stdout",
     "output_type": "stream",
     "text": [
      "/home/hanliu/project/mouse_rostral_brain/DMR/ITSpatial_by_region/AI/MotifScan.h5adtemp/MA0645.1.meme, N motif total=16950\n"
     ]
    },
    {
     "name": "stderr",
     "output_type": "stream",
     "text": [
      "/home/hanliu/miniconda3/envs/clustering/lib/python3.7/site-packages/ALLCools/dmr/fimo.py:60: FutureWarning: to_msgpack is deprecated and will be removed in a future version.\n",
      "It is recommended to use pyarrow for on-the-wire transmission of pandas objects.\n",
      "  final_df.to_msgpack(output_path, compress='zlib')\n"
     ]
    },
    {
     "name": "stdout",
     "output_type": "stream",
     "text": [
      "/home/hanliu/project/mouse_rostral_brain/DMR/ITSpatial_by_region/AI/MotifScan.h5adtemp/MA0765.2.meme, N motif total=17093\n"
     ]
    },
    {
     "name": "stderr",
     "output_type": "stream",
     "text": [
      "/home/hanliu/miniconda3/envs/clustering/lib/python3.7/site-packages/ALLCools/dmr/fimo.py:60: FutureWarning: to_msgpack is deprecated and will be removed in a future version.\n",
      "It is recommended to use pyarrow for on-the-wire transmission of pandas objects.\n",
      "  final_df.to_msgpack(output_path, compress='zlib')\n"
     ]
    },
    {
     "name": "stdout",
     "output_type": "stream",
     "text": [
      "/home/hanliu/project/mouse_rostral_brain/DMR/ITSpatial_by_region/AI/MotifScan.h5adtemp/MA0887.1.meme, N motif total=10482\n"
     ]
    },
    {
     "name": "stderr",
     "output_type": "stream",
     "text": [
      "/home/hanliu/miniconda3/envs/clustering/lib/python3.7/site-packages/ALLCools/dmr/fimo.py:60: FutureWarning: to_msgpack is deprecated and will be removed in a future version.\n",
      "It is recommended to use pyarrow for on-the-wire transmission of pandas objects.\n",
      "  final_df.to_msgpack(output_path, compress='zlib')\n"
     ]
    },
    {
     "name": "stdout",
     "output_type": "stream",
     "text": [
      "/home/hanliu/project/mouse_rostral_brain/DMR/ITSpatial_by_region/AI/MotifScan.h5adtemp/MA0764.2.meme, N motif total=76755\n"
     ]
    },
    {
     "name": "stderr",
     "output_type": "stream",
     "text": [
      "/home/hanliu/miniconda3/envs/clustering/lib/python3.7/site-packages/ALLCools/dmr/fimo.py:60: FutureWarning: to_msgpack is deprecated and will be removed in a future version.\n",
      "It is recommended to use pyarrow for on-the-wire transmission of pandas objects.\n",
      "  final_df.to_msgpack(output_path, compress='zlib')\n"
     ]
    },
    {
     "name": "stdout",
     "output_type": "stream",
     "text": [
      "/home/hanliu/project/mouse_rostral_brain/DMR/ITSpatial_by_region/AI/MotifScan.h5adtemp/MA0156.2.meme, N motif total=8329\n"
     ]
    },
    {
     "name": "stderr",
     "output_type": "stream",
     "text": [
      "/home/hanliu/miniconda3/envs/clustering/lib/python3.7/site-packages/ALLCools/dmr/fimo.py:60: FutureWarning: to_msgpack is deprecated and will be removed in a future version.\n",
      "It is recommended to use pyarrow for on-the-wire transmission of pandas objects.\n",
      "  final_df.to_msgpack(output_path, compress='zlib')\n"
     ]
    },
    {
     "name": "stdout",
     "output_type": "stream",
     "text": [
      "/home/hanliu/project/mouse_rostral_brain/DMR/ITSpatial_by_region/AI/MotifScan.h5adtemp/MA0475.2.meme, N motif total=10392\n"
     ]
    },
    {
     "name": "stderr",
     "output_type": "stream",
     "text": [
      "/home/hanliu/miniconda3/envs/clustering/lib/python3.7/site-packages/ALLCools/dmr/fimo.py:60: FutureWarning: to_msgpack is deprecated and will be removed in a future version.\n",
      "It is recommended to use pyarrow for on-the-wire transmission of pandas objects.\n",
      "  final_df.to_msgpack(output_path, compress='zlib')\n"
     ]
    },
    {
     "name": "stdout",
     "output_type": "stream",
     "text": [
      "/home/hanliu/project/mouse_rostral_brain/DMR/ITSpatial_by_region/AI/MotifScan.h5adtemp/MA0888.1.meme, N motif total=10435\n"
     ]
    },
    {
     "name": "stderr",
     "output_type": "stream",
     "text": [
      "/home/hanliu/miniconda3/envs/clustering/lib/python3.7/site-packages/ALLCools/dmr/fimo.py:60: FutureWarning: to_msgpack is deprecated and will be removed in a future version.\n",
      "It is recommended to use pyarrow for on-the-wire transmission of pandas objects.\n",
      "  final_df.to_msgpack(output_path, compress='zlib')\n"
     ]
    },
    {
     "name": "stdout",
     "output_type": "stream",
     "text": [
      "/home/hanliu/project/mouse_rostral_brain/DMR/ITSpatial_by_region/AI/MotifScan.h5adtemp/MA0099.3.meme, N motif total=26954\n"
     ]
    },
    {
     "name": "stderr",
     "output_type": "stream",
     "text": [
      "/home/hanliu/miniconda3/envs/clustering/lib/python3.7/site-packages/ALLCools/dmr/fimo.py:60: FutureWarning: to_msgpack is deprecated and will be removed in a future version.\n",
      "It is recommended to use pyarrow for on-the-wire transmission of pandas objects.\n",
      "  final_df.to_msgpack(output_path, compress='zlib')\n"
     ]
    },
    {
     "name": "stdout",
     "output_type": "stream",
     "text": [
      "/home/hanliu/project/mouse_rostral_brain/DMR/ITSpatial_by_region/AI/MotifScan.h5adtemp/MA0476.1.meme, N motif total=32491\n"
     ]
    },
    {
     "name": "stderr",
     "output_type": "stream",
     "text": [
      "/home/hanliu/miniconda3/envs/clustering/lib/python3.7/site-packages/ALLCools/dmr/fimo.py:60: FutureWarning: to_msgpack is deprecated and will be removed in a future version.\n",
      "It is recommended to use pyarrow for on-the-wire transmission of pandas objects.\n",
      "  final_df.to_msgpack(output_path, compress='zlib')\n"
     ]
    },
    {
     "name": "stdout",
     "output_type": "stream",
     "text": [
      "/home/hanliu/project/mouse_rostral_brain/DMR/ITSpatial_by_region/AI/MotifScan.h5adtemp/MA0820.1.meme, N motif total=32623\n"
     ]
    },
    {
     "name": "stderr",
     "output_type": "stream",
     "text": [
      "/home/hanliu/miniconda3/envs/clustering/lib/python3.7/site-packages/ALLCools/dmr/fimo.py:60: FutureWarning: to_msgpack is deprecated and will be removed in a future version.\n",
      "It is recommended to use pyarrow for on-the-wire transmission of pandas objects.\n",
      "  final_df.to_msgpack(output_path, compress='zlib')\n"
     ]
    },
    {
     "name": "stdout",
     "output_type": "stream",
     "text": [
      "/home/hanliu/project/mouse_rostral_brain/DMR/ITSpatial_by_region/AI/MotifScan.h5adtemp/MA1136.1.meme, N motif total=11166\n"
     ]
    },
    {
     "name": "stderr",
     "output_type": "stream",
     "text": [
      "/home/hanliu/miniconda3/envs/clustering/lib/python3.7/site-packages/ALLCools/dmr/fimo.py:60: FutureWarning: to_msgpack is deprecated and will be removed in a future version.\n",
      "It is recommended to use pyarrow for on-the-wire transmission of pandas objects.\n",
      "  final_df.to_msgpack(output_path, compress='zlib')\n"
     ]
    },
    {
     "name": "stdout",
     "output_type": "stream",
     "text": [
      "/home/hanliu/project/mouse_rostral_brain/DMR/ITSpatial_by_region/AI/MotifScan.h5adtemp/MA1127.1.meme, N motif total=12824\n"
     ]
    },
    {
     "name": "stderr",
     "output_type": "stream",
     "text": [
      "/home/hanliu/miniconda3/envs/clustering/lib/python3.7/site-packages/ALLCools/dmr/fimo.py:60: FutureWarning: to_msgpack is deprecated and will be removed in a future version.\n",
      "It is recommended to use pyarrow for on-the-wire transmission of pandas objects.\n",
      "  final_df.to_msgpack(output_path, compress='zlib')\n"
     ]
    },
    {
     "name": "stdout",
     "output_type": "stream",
     "text": [
      "/home/hanliu/project/mouse_rostral_brain/DMR/ITSpatial_by_region/AI/MotifScan.h5adtemp/MA1485.1.meme, N motif total=35203\n"
     ]
    },
    {
     "name": "stderr",
     "output_type": "stream",
     "text": [
      "/home/hanliu/miniconda3/envs/clustering/lib/python3.7/site-packages/ALLCools/dmr/fimo.py:60: FutureWarning: to_msgpack is deprecated and will be removed in a future version.\n",
      "It is recommended to use pyarrow for on-the-wire transmission of pandas objects.\n",
      "  final_df.to_msgpack(output_path, compress='zlib')\n"
     ]
    },
    {
     "name": "stdout",
     "output_type": "stream",
     "text": [
      "/home/hanliu/project/mouse_rostral_brain/DMR/ITSpatial_by_region/AI/MotifScan.h5adtemp/MA1143.1.meme, N motif total=8764\n"
     ]
    },
    {
     "name": "stderr",
     "output_type": "stream",
     "text": [
      "/home/hanliu/miniconda3/envs/clustering/lib/python3.7/site-packages/ALLCools/dmr/fimo.py:60: FutureWarning: to_msgpack is deprecated and will be removed in a future version.\n",
      "It is recommended to use pyarrow for on-the-wire transmission of pandas objects.\n",
      "  final_df.to_msgpack(output_path, compress='zlib')\n"
     ]
    },
    {
     "name": "stdout",
     "output_type": "stream",
     "text": [
      "/home/hanliu/project/mouse_rostral_brain/DMR/ITSpatial_by_region/AI/MotifScan.h5adtemp/MA1129.1.meme, N motif total=11541\n"
     ]
    },
    {
     "name": "stderr",
     "output_type": "stream",
     "text": [
      "/home/hanliu/miniconda3/envs/clustering/lib/python3.7/site-packages/ALLCools/dmr/fimo.py:60: FutureWarning: to_msgpack is deprecated and will be removed in a future version.\n",
      "It is recommended to use pyarrow for on-the-wire transmission of pandas objects.\n",
      "  final_df.to_msgpack(output_path, compress='zlib')\n"
     ]
    },
    {
     "name": "stdout",
     "output_type": "stream",
     "text": [
      "/home/hanliu/project/mouse_rostral_brain/DMR/ITSpatial_by_region/AI/MotifScan.h5adtemp/MA1134.1.meme, N motif total=28838\n"
     ]
    },
    {
     "name": "stderr",
     "output_type": "stream",
     "text": [
      "/home/hanliu/miniconda3/envs/clustering/lib/python3.7/site-packages/ALLCools/dmr/fimo.py:60: FutureWarning: to_msgpack is deprecated and will be removed in a future version.\n",
      "It is recommended to use pyarrow for on-the-wire transmission of pandas objects.\n",
      "  final_df.to_msgpack(output_path, compress='zlib')\n"
     ]
    },
    {
     "name": "stdout",
     "output_type": "stream",
     "text": [
      "/home/hanliu/project/mouse_rostral_brain/DMR/ITSpatial_by_region/AI/MotifScan.h5adtemp/MA1135.1.meme, N motif total=29016\n"
     ]
    },
    {
     "name": "stderr",
     "output_type": "stream",
     "text": [
      "/home/hanliu/miniconda3/envs/clustering/lib/python3.7/site-packages/ALLCools/dmr/fimo.py:60: FutureWarning: to_msgpack is deprecated and will be removed in a future version.\n",
      "It is recommended to use pyarrow for on-the-wire transmission of pandas objects.\n",
      "  final_df.to_msgpack(output_path, compress='zlib')\n"
     ]
    },
    {
     "name": "stdout",
     "output_type": "stream",
     "text": [
      "/home/hanliu/project/mouse_rostral_brain/DMR/ITSpatial_by_region/AI/MotifScan.h5adtemp/MA1131.1.meme, N motif total=14577\n"
     ]
    },
    {
     "name": "stderr",
     "output_type": "stream",
     "text": [
      "/home/hanliu/miniconda3/envs/clustering/lib/python3.7/site-packages/ALLCools/dmr/fimo.py:60: FutureWarning: to_msgpack is deprecated and will be removed in a future version.\n",
      "It is recommended to use pyarrow for on-the-wire transmission of pandas objects.\n",
      "  final_df.to_msgpack(output_path, compress='zlib')\n"
     ]
    },
    {
     "name": "stdout",
     "output_type": "stream",
     "text": [
      "/home/hanliu/project/mouse_rostral_brain/DMR/ITSpatial_by_region/AI/MotifScan.h5adtemp/MA1142.1.meme, N motif total=24751\n"
     ]
    },
    {
     "name": "stderr",
     "output_type": "stream",
     "text": [
      "/home/hanliu/miniconda3/envs/clustering/lib/python3.7/site-packages/ALLCools/dmr/fimo.py:60: FutureWarning: to_msgpack is deprecated and will be removed in a future version.\n",
      "It is recommended to use pyarrow for on-the-wire transmission of pandas objects.\n",
      "  final_df.to_msgpack(output_path, compress='zlib')\n"
     ]
    },
    {
     "name": "stdout",
     "output_type": "stream",
     "text": [
      "/home/hanliu/project/mouse_rostral_brain/DMR/ITSpatial_by_region/AI/MotifScan.h5adtemp/MA1138.1.meme, N motif total=28446\n"
     ]
    },
    {
     "name": "stderr",
     "output_type": "stream",
     "text": [
      "/home/hanliu/miniconda3/envs/clustering/lib/python3.7/site-packages/ALLCools/dmr/fimo.py:60: FutureWarning: to_msgpack is deprecated and will be removed in a future version.\n",
      "It is recommended to use pyarrow for on-the-wire transmission of pandas objects.\n",
      "  final_df.to_msgpack(output_path, compress='zlib')\n"
     ]
    },
    {
     "name": "stdout",
     "output_type": "stream",
     "text": [
      "/home/hanliu/project/mouse_rostral_brain/DMR/ITSpatial_by_region/AI/MotifScan.h5adtemp/MA1130.1.meme, N motif total=26435\n"
     ]
    },
    {
     "name": "stderr",
     "output_type": "stream",
     "text": [
      "/home/hanliu/miniconda3/envs/clustering/lib/python3.7/site-packages/ALLCools/dmr/fimo.py:60: FutureWarning: to_msgpack is deprecated and will be removed in a future version.\n",
      "It is recommended to use pyarrow for on-the-wire transmission of pandas objects.\n",
      "  final_df.to_msgpack(output_path, compress='zlib')\n"
     ]
    },
    {
     "name": "stdout",
     "output_type": "stream",
     "text": [
      "/home/hanliu/project/mouse_rostral_brain/DMR/ITSpatial_by_region/AI/MotifScan.h5adtemp/MA0478.1.meme, N motif total=37265\n"
     ]
    },
    {
     "name": "stderr",
     "output_type": "stream",
     "text": [
      "/home/hanliu/miniconda3/envs/clustering/lib/python3.7/site-packages/ALLCools/dmr/fimo.py:60: FutureWarning: to_msgpack is deprecated and will be removed in a future version.\n",
      "It is recommended to use pyarrow for on-the-wire transmission of pandas objects.\n",
      "  final_df.to_msgpack(output_path, compress='zlib')\n"
     ]
    },
    {
     "name": "stdout",
     "output_type": "stream",
     "text": [
      "/home/hanliu/project/mouse_rostral_brain/DMR/ITSpatial_by_region/AI/MotifScan.h5adtemp/MA1144.1.meme, N motif total=28846\n"
     ]
    },
    {
     "name": "stderr",
     "output_type": "stream",
     "text": [
      "/home/hanliu/miniconda3/envs/clustering/lib/python3.7/site-packages/ALLCools/dmr/fimo.py:60: FutureWarning: to_msgpack is deprecated and will be removed in a future version.\n",
      "It is recommended to use pyarrow for on-the-wire transmission of pandas objects.\n",
      "  final_df.to_msgpack(output_path, compress='zlib')\n"
     ]
    },
    {
     "name": "stdout",
     "output_type": "stream",
     "text": [
      "/home/hanliu/project/mouse_rostral_brain/DMR/ITSpatial_by_region/AI/MotifScan.h5adtemp/MA0477.2.meme, N motif total=31906\n"
     ]
    },
    {
     "name": "stderr",
     "output_type": "stream",
     "text": [
      "/home/hanliu/miniconda3/envs/clustering/lib/python3.7/site-packages/ALLCools/dmr/fimo.py:60: FutureWarning: to_msgpack is deprecated and will be removed in a future version.\n",
      "It is recommended to use pyarrow for on-the-wire transmission of pandas objects.\n",
      "  final_df.to_msgpack(output_path, compress='zlib')\n"
     ]
    },
    {
     "name": "stdout",
     "output_type": "stream",
     "text": [
      "/home/hanliu/project/mouse_rostral_brain/DMR/ITSpatial_by_region/AI/MotifScan.h5adtemp/MA1141.1.meme, N motif total=24318\n"
     ]
    },
    {
     "name": "stderr",
     "output_type": "stream",
     "text": [
      "/home/hanliu/miniconda3/envs/clustering/lib/python3.7/site-packages/ALLCools/dmr/fimo.py:60: FutureWarning: to_msgpack is deprecated and will be removed in a future version.\n",
      "It is recommended to use pyarrow for on-the-wire transmission of pandas objects.\n",
      "  final_df.to_msgpack(output_path, compress='zlib')\n"
     ]
    },
    {
     "name": "stdout",
     "output_type": "stream",
     "text": [
      "/home/hanliu/project/mouse_rostral_brain/DMR/ITSpatial_by_region/AI/MotifScan.h5adtemp/MA0149.1.meme, N motif total=14933\n"
     ]
    },
    {
     "name": "stderr",
     "output_type": "stream",
     "text": [
      "/home/hanliu/miniconda3/envs/clustering/lib/python3.7/site-packages/ALLCools/dmr/fimo.py:60: FutureWarning: to_msgpack is deprecated and will be removed in a future version.\n",
      "It is recommended to use pyarrow for on-the-wire transmission of pandas objects.\n",
      "  final_df.to_msgpack(output_path, compress='zlib')\n"
     ]
    },
    {
     "name": "stdout",
     "output_type": "stream",
     "text": [
      "/home/hanliu/project/mouse_rostral_brain/DMR/ITSpatial_by_region/AI/MotifScan.h5adtemp/MA1137.1.meme, N motif total=26746\n"
     ]
    },
    {
     "name": "stderr",
     "output_type": "stream",
     "text": [
      "/home/hanliu/miniconda3/envs/clustering/lib/python3.7/site-packages/ALLCools/dmr/fimo.py:60: FutureWarning: to_msgpack is deprecated and will be removed in a future version.\n",
      "It is recommended to use pyarrow for on-the-wire transmission of pandas objects.\n",
      "  final_df.to_msgpack(output_path, compress='zlib')\n"
     ]
    },
    {
     "name": "stdout",
     "output_type": "stream",
     "text": [
      "/home/hanliu/project/mouse_rostral_brain/DMR/ITSpatial_by_region/AI/MotifScan.h5adtemp/MA1139.1.meme, N motif total=13246\n"
     ]
    },
    {
     "name": "stderr",
     "output_type": "stream",
     "text": [
      "/home/hanliu/miniconda3/envs/clustering/lib/python3.7/site-packages/ALLCools/dmr/fimo.py:60: FutureWarning: to_msgpack is deprecated and will be removed in a future version.\n",
      "It is recommended to use pyarrow for on-the-wire transmission of pandas objects.\n",
      "  final_df.to_msgpack(output_path, compress='zlib')\n"
     ]
    },
    {
     "name": "stdout",
     "output_type": "stream",
     "text": [
      "/home/hanliu/project/mouse_rostral_brain/DMR/ITSpatial_by_region/AI/MotifScan.h5adtemp/MA1128.1.meme, N motif total=23944\n"
     ]
    },
    {
     "name": "stderr",
     "output_type": "stream",
     "text": [
      "/home/hanliu/miniconda3/envs/clustering/lib/python3.7/site-packages/ALLCools/dmr/fimo.py:60: FutureWarning: to_msgpack is deprecated and will be removed in a future version.\n",
      "It is recommended to use pyarrow for on-the-wire transmission of pandas objects.\n",
      "  final_df.to_msgpack(output_path, compress='zlib')\n"
     ]
    },
    {
     "name": "stdout",
     "output_type": "stream",
     "text": [
      "/home/hanliu/project/mouse_rostral_brain/DMR/ITSpatial_by_region/AI/MotifScan.h5adtemp/MA1126.1.meme, N motif total=13241\n"
     ]
    },
    {
     "name": "stderr",
     "output_type": "stream",
     "text": [
      "/home/hanliu/miniconda3/envs/clustering/lib/python3.7/site-packages/ALLCools/dmr/fimo.py:60: FutureWarning: to_msgpack is deprecated and will be removed in a future version.\n",
      "It is recommended to use pyarrow for on-the-wire transmission of pandas objects.\n",
      "  final_df.to_msgpack(output_path, compress='zlib')\n"
     ]
    },
    {
     "name": "stdout",
     "output_type": "stream",
     "text": [
      "/home/hanliu/project/mouse_rostral_brain/DMR/ITSpatial_by_region/AI/MotifScan.h5adtemp/MA0047.3.meme, N motif total=27531\n"
     ]
    },
    {
     "name": "stderr",
     "output_type": "stream",
     "text": [
      "/home/hanliu/miniconda3/envs/clustering/lib/python3.7/site-packages/ALLCools/dmr/fimo.py:60: FutureWarning: to_msgpack is deprecated and will be removed in a future version.\n",
      "It is recommended to use pyarrow for on-the-wire transmission of pandas objects.\n",
      "  final_df.to_msgpack(output_path, compress='zlib')\n"
     ]
    },
    {
     "name": "stdout",
     "output_type": "stream",
     "text": [
      "/home/hanliu/project/mouse_rostral_brain/DMR/ITSpatial_by_region/AI/MotifScan.h5adtemp/MA1145.1.meme, N motif total=13598\n"
     ]
    },
    {
     "name": "stderr",
     "output_type": "stream",
     "text": [
      "/home/hanliu/miniconda3/envs/clustering/lib/python3.7/site-packages/ALLCools/dmr/fimo.py:60: FutureWarning: to_msgpack is deprecated and will be removed in a future version.\n",
      "It is recommended to use pyarrow for on-the-wire transmission of pandas objects.\n",
      "  final_df.to_msgpack(output_path, compress='zlib')\n"
     ]
    },
    {
     "name": "stdout",
     "output_type": "stream",
     "text": [
      "/home/hanliu/project/mouse_rostral_brain/DMR/ITSpatial_by_region/AI/MotifScan.h5adtemp/MA0148.4.meme, N motif total=28756\n"
     ]
    },
    {
     "name": "stderr",
     "output_type": "stream",
     "text": [
      "/home/hanliu/miniconda3/envs/clustering/lib/python3.7/site-packages/ALLCools/dmr/fimo.py:60: FutureWarning: to_msgpack is deprecated and will be removed in a future version.\n",
      "It is recommended to use pyarrow for on-the-wire transmission of pandas objects.\n",
      "  final_df.to_msgpack(output_path, compress='zlib')\n"
     ]
    },
    {
     "name": "stdout",
     "output_type": "stream",
     "text": [
      "/home/hanliu/project/mouse_rostral_brain/DMR/ITSpatial_by_region/AI/MotifScan.h5adtemp/MA1683.1.meme, N motif total=24158\n"
     ]
    },
    {
     "name": "stderr",
     "output_type": "stream",
     "text": [
      "/home/hanliu/miniconda3/envs/clustering/lib/python3.7/site-packages/ALLCools/dmr/fimo.py:60: FutureWarning: to_msgpack is deprecated and will be removed in a future version.\n",
      "It is recommended to use pyarrow for on-the-wire transmission of pandas objects.\n",
      "  final_df.to_msgpack(output_path, compress='zlib')\n"
     ]
    },
    {
     "name": "stdout",
     "output_type": "stream",
     "text": [
      "/home/hanliu/project/mouse_rostral_brain/DMR/ITSpatial_by_region/AI/MotifScan.h5adtemp/MA0845.1.meme, N motif total=38232\n"
     ]
    },
    {
     "name": "stderr",
     "output_type": "stream",
     "text": [
      "/home/hanliu/miniconda3/envs/clustering/lib/python3.7/site-packages/ALLCools/dmr/fimo.py:60: FutureWarning: to_msgpack is deprecated and will be removed in a future version.\n",
      "It is recommended to use pyarrow for on-the-wire transmission of pandas objects.\n",
      "  final_df.to_msgpack(output_path, compress='zlib')\n"
     ]
    },
    {
     "name": "stdout",
     "output_type": "stream",
     "text": [
      "/home/hanliu/project/mouse_rostral_brain/DMR/ITSpatial_by_region/AI/MotifScan.h5adtemp/MA0032.2.meme, N motif total=42421\n"
     ]
    },
    {
     "name": "stderr",
     "output_type": "stream",
     "text": [
      "/home/hanliu/miniconda3/envs/clustering/lib/python3.7/site-packages/ALLCools/dmr/fimo.py:60: FutureWarning: to_msgpack is deprecated and will be removed in a future version.\n",
      "It is recommended to use pyarrow for on-the-wire transmission of pandas objects.\n",
      "  final_df.to_msgpack(output_path, compress='zlib')\n"
     ]
    },
    {
     "name": "stdout",
     "output_type": "stream",
     "text": [
      "/home/hanliu/project/mouse_rostral_brain/DMR/ITSpatial_by_region/AI/MotifScan.h5adtemp/MA0031.1.meme, N motif total=16378\n"
     ]
    },
    {
     "name": "stderr",
     "output_type": "stream",
     "text": [
      "/home/hanliu/miniconda3/envs/clustering/lib/python3.7/site-packages/ALLCools/dmr/fimo.py:60: FutureWarning: to_msgpack is deprecated and will be removed in a future version.\n",
      "It is recommended to use pyarrow for on-the-wire transmission of pandas objects.\n",
      "  final_df.to_msgpack(output_path, compress='zlib')\n"
     ]
    },
    {
     "name": "stdout",
     "output_type": "stream",
     "text": [
      "/home/hanliu/project/mouse_rostral_brain/DMR/ITSpatial_by_region/AI/MotifScan.h5adtemp/MA0846.1.meme, N motif total=54370\n"
     ]
    },
    {
     "name": "stderr",
     "output_type": "stream",
     "text": [
      "/home/hanliu/miniconda3/envs/clustering/lib/python3.7/site-packages/ALLCools/dmr/fimo.py:60: FutureWarning: to_msgpack is deprecated and will be removed in a future version.\n",
      "It is recommended to use pyarrow for on-the-wire transmission of pandas objects.\n",
      "  final_df.to_msgpack(output_path, compress='zlib')\n"
     ]
    },
    {
     "name": "stdout",
     "output_type": "stream",
     "text": [
      "/home/hanliu/project/mouse_rostral_brain/DMR/ITSpatial_by_region/AI/MotifScan.h5adtemp/MA0613.1.meme, N motif total=21112\n"
     ]
    },
    {
     "name": "stderr",
     "output_type": "stream",
     "text": [
      "/home/hanliu/miniconda3/envs/clustering/lib/python3.7/site-packages/ALLCools/dmr/fimo.py:60: FutureWarning: to_msgpack is deprecated and will be removed in a future version.\n",
      "It is recommended to use pyarrow for on-the-wire transmission of pandas objects.\n",
      "  final_df.to_msgpack(output_path, compress='zlib')\n"
     ]
    },
    {
     "name": "stdout",
     "output_type": "stream",
     "text": [
      "/home/hanliu/project/mouse_rostral_brain/DMR/ITSpatial_by_region/AI/MotifScan.h5adtemp/MA0847.2.meme, N motif total=39993\n"
     ]
    },
    {
     "name": "stderr",
     "output_type": "stream",
     "text": [
      "/home/hanliu/miniconda3/envs/clustering/lib/python3.7/site-packages/ALLCools/dmr/fimo.py:60: FutureWarning: to_msgpack is deprecated and will be removed in a future version.\n",
      "It is recommended to use pyarrow for on-the-wire transmission of pandas objects.\n",
      "  final_df.to_msgpack(output_path, compress='zlib')\n"
     ]
    },
    {
     "name": "stdout",
     "output_type": "stream",
     "text": [
      "/home/hanliu/project/mouse_rostral_brain/DMR/ITSpatial_by_region/AI/MotifScan.h5adtemp/MA0042.2.meme, N motif total=16410\n"
     ]
    },
    {
     "name": "stderr",
     "output_type": "stream",
     "text": [
      "/home/hanliu/miniconda3/envs/clustering/lib/python3.7/site-packages/ALLCools/dmr/fimo.py:60: FutureWarning: to_msgpack is deprecated and will be removed in a future version.\n",
      "It is recommended to use pyarrow for on-the-wire transmission of pandas objects.\n",
      "  final_df.to_msgpack(output_path, compress='zlib')\n"
     ]
    },
    {
     "name": "stdout",
     "output_type": "stream",
     "text": [
      "/home/hanliu/project/mouse_rostral_brain/DMR/ITSpatial_by_region/AI/MotifScan.h5adtemp/MA1606.1.meme, N motif total=29437\n"
     ]
    },
    {
     "name": "stderr",
     "output_type": "stream",
     "text": [
      "/home/hanliu/miniconda3/envs/clustering/lib/python3.7/site-packages/ALLCools/dmr/fimo.py:60: FutureWarning: to_msgpack is deprecated and will be removed in a future version.\n",
      "It is recommended to use pyarrow for on-the-wire transmission of pandas objects.\n",
      "  final_df.to_msgpack(output_path, compress='zlib')\n"
     ]
    },
    {
     "name": "stdout",
     "output_type": "stream",
     "text": [
      "/home/hanliu/project/mouse_rostral_brain/DMR/ITSpatial_by_region/AI/MotifScan.h5adtemp/MA0033.2.meme, N motif total=16410\n"
     ]
    },
    {
     "name": "stderr",
     "output_type": "stream",
     "text": [
      "/home/hanliu/miniconda3/envs/clustering/lib/python3.7/site-packages/ALLCools/dmr/fimo.py:60: FutureWarning: to_msgpack is deprecated and will be removed in a future version.\n",
      "It is recommended to use pyarrow for on-the-wire transmission of pandas objects.\n",
      "  final_df.to_msgpack(output_path, compress='zlib')\n"
     ]
    },
    {
     "name": "stdout",
     "output_type": "stream",
     "text": [
      "/home/hanliu/project/mouse_rostral_brain/DMR/ITSpatial_by_region/AI/MotifScan.h5adtemp/MA0030.1.meme, N motif total=22606\n"
     ]
    },
    {
     "name": "stderr",
     "output_type": "stream",
     "text": [
      "/home/hanliu/miniconda3/envs/clustering/lib/python3.7/site-packages/ALLCools/dmr/fimo.py:60: FutureWarning: to_msgpack is deprecated and will be removed in a future version.\n",
      "It is recommended to use pyarrow for on-the-wire transmission of pandas objects.\n",
      "  final_df.to_msgpack(output_path, compress='zlib')\n"
     ]
    },
    {
     "name": "stdout",
     "output_type": "stream",
     "text": [
      "/home/hanliu/project/mouse_rostral_brain/DMR/ITSpatial_by_region/AI/MotifScan.h5adtemp/MA0479.1.meme, N motif total=23631\n"
     ]
    },
    {
     "name": "stderr",
     "output_type": "stream",
     "text": [
      "/home/hanliu/miniconda3/envs/clustering/lib/python3.7/site-packages/ALLCools/dmr/fimo.py:60: FutureWarning: to_msgpack is deprecated and will be removed in a future version.\n",
      "It is recommended to use pyarrow for on-the-wire transmission of pandas objects.\n",
      "  final_df.to_msgpack(output_path, compress='zlib')\n"
     ]
    },
    {
     "name": "stdout",
     "output_type": "stream",
     "text": [
      "/home/hanliu/project/mouse_rostral_brain/DMR/ITSpatial_by_region/AI/MotifScan.h5adtemp/MA1489.1.meme, N motif total=4341\n"
     ]
    },
    {
     "name": "stderr",
     "output_type": "stream",
     "text": [
      "/home/hanliu/miniconda3/envs/clustering/lib/python3.7/site-packages/ALLCools/dmr/fimo.py:60: FutureWarning: to_msgpack is deprecated and will be removed in a future version.\n",
      "It is recommended to use pyarrow for on-the-wire transmission of pandas objects.\n",
      "  final_df.to_msgpack(output_path, compress='zlib')\n"
     ]
    },
    {
     "name": "stdout",
     "output_type": "stream",
     "text": [
      "/home/hanliu/project/mouse_rostral_brain/DMR/ITSpatial_by_region/AI/MotifScan.h5adtemp/MA0041.1.meme, N motif total=68877\n"
     ]
    },
    {
     "name": "stderr",
     "output_type": "stream",
     "text": [
      "/home/hanliu/miniconda3/envs/clustering/lib/python3.7/site-packages/ALLCools/dmr/fimo.py:60: FutureWarning: to_msgpack is deprecated and will be removed in a future version.\n",
      "It is recommended to use pyarrow for on-the-wire transmission of pandas objects.\n",
      "  final_df.to_msgpack(output_path, compress='zlib')\n"
     ]
    },
    {
     "name": "stdout",
     "output_type": "stream",
     "text": [
      "/home/hanliu/project/mouse_rostral_brain/DMR/ITSpatial_by_region/AI/MotifScan.h5adtemp/MA0850.1.meme, N motif total=16410\n"
     ]
    },
    {
     "name": "stderr",
     "output_type": "stream",
     "text": [
      "/home/hanliu/miniconda3/envs/clustering/lib/python3.7/site-packages/ALLCools/dmr/fimo.py:60: FutureWarning: to_msgpack is deprecated and will be removed in a future version.\n",
      "It is recommended to use pyarrow for on-the-wire transmission of pandas objects.\n",
      "  final_df.to_msgpack(output_path, compress='zlib')\n"
     ]
    },
    {
     "name": "stdout",
     "output_type": "stream",
     "text": [
      "/home/hanliu/project/mouse_rostral_brain/DMR/ITSpatial_by_region/AI/MotifScan.h5adtemp/MA0614.1.meme, N motif total=19957\n"
     ]
    },
    {
     "name": "stderr",
     "output_type": "stream",
     "text": [
      "/home/hanliu/miniconda3/envs/clustering/lib/python3.7/site-packages/ALLCools/dmr/fimo.py:60: FutureWarning: to_msgpack is deprecated and will be removed in a future version.\n",
      "It is recommended to use pyarrow for on-the-wire transmission of pandas objects.\n",
      "  final_df.to_msgpack(output_path, compress='zlib')\n"
     ]
    },
    {
     "name": "stdout",
     "output_type": "stream",
     "text": [
      "/home/hanliu/project/mouse_rostral_brain/DMR/ITSpatial_by_region/AI/MotifScan.h5adtemp/MA0848.1.meme, N motif total=16410\n"
     ]
    },
    {
     "name": "stderr",
     "output_type": "stream",
     "text": [
      "/home/hanliu/miniconda3/envs/clustering/lib/python3.7/site-packages/ALLCools/dmr/fimo.py:60: FutureWarning: to_msgpack is deprecated and will be removed in a future version.\n",
      "It is recommended to use pyarrow for on-the-wire transmission of pandas objects.\n",
      "  final_df.to_msgpack(output_path, compress='zlib')\n"
     ]
    },
    {
     "name": "stdout",
     "output_type": "stream",
     "text": [
      "/home/hanliu/project/mouse_rostral_brain/DMR/ITSpatial_by_region/AI/MotifScan.h5adtemp/MA0157.2.meme, N motif total=18985\n"
     ]
    },
    {
     "name": "stderr",
     "output_type": "stream",
     "text": [
      "/home/hanliu/miniconda3/envs/clustering/lib/python3.7/site-packages/ALLCools/dmr/fimo.py:60: FutureWarning: to_msgpack is deprecated and will be removed in a future version.\n",
      "It is recommended to use pyarrow for on-the-wire transmission of pandas objects.\n",
      "  final_df.to_msgpack(output_path, compress='zlib')\n"
     ]
    },
    {
     "name": "stdout",
     "output_type": "stream",
     "text": [
      "/home/hanliu/project/mouse_rostral_brain/DMR/ITSpatial_by_region/AI/MotifScan.h5adtemp/MA0849.1.meme, N motif total=16410\n"
     ]
    },
    {
     "name": "stderr",
     "output_type": "stream",
     "text": [
      "/home/hanliu/miniconda3/envs/clustering/lib/python3.7/site-packages/ALLCools/dmr/fimo.py:60: FutureWarning: to_msgpack is deprecated and will be removed in a future version.\n",
      "It is recommended to use pyarrow for on-the-wire transmission of pandas objects.\n",
      "  final_df.to_msgpack(output_path, compress='zlib')\n"
     ]
    },
    {
     "name": "stdout",
     "output_type": "stream",
     "text": [
      "/home/hanliu/project/mouse_rostral_brain/DMR/ITSpatial_by_region/AI/MotifScan.h5adtemp/MA0593.1.meme, N motif total=39053\n"
     ]
    },
    {
     "name": "stderr",
     "output_type": "stream",
     "text": [
      "/home/hanliu/miniconda3/envs/clustering/lib/python3.7/site-packages/ALLCools/dmr/fimo.py:60: FutureWarning: to_msgpack is deprecated and will be removed in a future version.\n",
      "It is recommended to use pyarrow for on-the-wire transmission of pandas objects.\n",
      "  final_df.to_msgpack(output_path, compress='zlib')\n"
     ]
    },
    {
     "name": "stdout",
     "output_type": "stream",
     "text": [
      "/home/hanliu/project/mouse_rostral_brain/DMR/ITSpatial_by_region/AI/MotifScan.h5adtemp/MA1487.1.meme, N motif total=38894\n"
     ]
    },
    {
     "name": "stderr",
     "output_type": "stream",
     "text": [
      "/home/hanliu/miniconda3/envs/clustering/lib/python3.7/site-packages/ALLCools/dmr/fimo.py:60: FutureWarning: to_msgpack is deprecated and will be removed in a future version.\n",
      "It is recommended to use pyarrow for on-the-wire transmission of pandas objects.\n",
      "  final_df.to_msgpack(output_path, compress='zlib')\n"
     ]
    },
    {
     "name": "stdout",
     "output_type": "stream",
     "text": [
      "/home/hanliu/project/mouse_rostral_brain/DMR/ITSpatial_by_region/AI/MotifScan.h5adtemp/MA0037.3.meme, N motif total=14124\n"
     ]
    },
    {
     "name": "stderr",
     "output_type": "stream",
     "text": [
      "/home/hanliu/miniconda3/envs/clustering/lib/python3.7/site-packages/ALLCools/dmr/fimo.py:60: FutureWarning: to_msgpack is deprecated and will be removed in a future version.\n",
      "It is recommended to use pyarrow for on-the-wire transmission of pandas objects.\n",
      "  final_df.to_msgpack(output_path, compress='zlib')\n"
     ]
    },
    {
     "name": "stdout",
     "output_type": "stream",
     "text": [
      "/home/hanliu/project/mouse_rostral_brain/DMR/ITSpatial_by_region/AI/MotifScan.h5adtemp/MA0481.3.meme, N motif total=27293\n"
     ]
    },
    {
     "name": "stderr",
     "output_type": "stream",
     "text": [
      "/home/hanliu/miniconda3/envs/clustering/lib/python3.7/site-packages/ALLCools/dmr/fimo.py:60: FutureWarning: to_msgpack is deprecated and will be removed in a future version.\n",
      "It is recommended to use pyarrow for on-the-wire transmission of pandas objects.\n",
      "  final_df.to_msgpack(output_path, compress='zlib')\n"
     ]
    },
    {
     "name": "stdout",
     "output_type": "stream",
     "text": [
      "/home/hanliu/project/mouse_rostral_brain/DMR/ITSpatial_by_region/AI/MotifScan.h5adtemp/MA1103.2.meme, N motif total=25481\n"
     ]
    },
    {
     "name": "stderr",
     "output_type": "stream",
     "text": [
      "/home/hanliu/miniconda3/envs/clustering/lib/python3.7/site-packages/ALLCools/dmr/fimo.py:60: FutureWarning: to_msgpack is deprecated and will be removed in a future version.\n",
      "It is recommended to use pyarrow for on-the-wire transmission of pandas objects.\n",
      "  final_df.to_msgpack(output_path, compress='zlib')\n"
     ]
    },
    {
     "name": "stdout",
     "output_type": "stream",
     "text": [
      "/home/hanliu/project/mouse_rostral_brain/DMR/ITSpatial_by_region/AI/MotifScan.h5adtemp/MA0480.1.meme, N motif total=38849\n"
     ]
    },
    {
     "name": "stderr",
     "output_type": "stream",
     "text": [
      "/home/hanliu/miniconda3/envs/clustering/lib/python3.7/site-packages/ALLCools/dmr/fimo.py:60: FutureWarning: to_msgpack is deprecated and will be removed in a future version.\n",
      "It is recommended to use pyarrow for on-the-wire transmission of pandas objects.\n",
      "  final_df.to_msgpack(output_path, compress='zlib')\n"
     ]
    },
    {
     "name": "stdout",
     "output_type": "stream",
     "text": [
      "/home/hanliu/project/mouse_rostral_brain/DMR/ITSpatial_by_region/AI/MotifScan.h5adtemp/MA0040.1.meme, N motif total=26753\n"
     ]
    },
    {
     "name": "stderr",
     "output_type": "stream",
     "text": [
      "/home/hanliu/miniconda3/envs/clustering/lib/python3.7/site-packages/ALLCools/dmr/fimo.py:60: FutureWarning: to_msgpack is deprecated and will be removed in a future version.\n",
      "It is recommended to use pyarrow for on-the-wire transmission of pandas objects.\n",
      "  final_df.to_msgpack(output_path, compress='zlib')\n"
     ]
    },
    {
     "name": "stdout",
     "output_type": "stream",
     "text": [
      "/home/hanliu/project/mouse_rostral_brain/DMR/ITSpatial_by_region/AI/MotifScan.h5adtemp/MA0851.1.meme, N motif total=40684\n"
     ]
    },
    {
     "name": "stderr",
     "output_type": "stream",
     "text": [
      "/home/hanliu/miniconda3/envs/clustering/lib/python3.7/site-packages/ALLCools/dmr/fimo.py:60: FutureWarning: to_msgpack is deprecated and will be removed in a future version.\n",
      "It is recommended to use pyarrow for on-the-wire transmission of pandas objects.\n",
      "  final_df.to_msgpack(output_path, compress='zlib')\n"
     ]
    },
    {
     "name": "stdout",
     "output_type": "stream",
     "text": [
      "/home/hanliu/project/mouse_rostral_brain/DMR/ITSpatial_by_region/AI/MotifScan.h5adtemp/MA0035.4.meme, N motif total=15246\n"
     ]
    },
    {
     "name": "stderr",
     "output_type": "stream",
     "text": [
      "/home/hanliu/miniconda3/envs/clustering/lib/python3.7/site-packages/ALLCools/dmr/fimo.py:60: FutureWarning: to_msgpack is deprecated and will be removed in a future version.\n",
      "It is recommended to use pyarrow for on-the-wire transmission of pandas objects.\n",
      "  final_df.to_msgpack(output_path, compress='zlib')\n"
     ]
    },
    {
     "name": "stdout",
     "output_type": "stream",
     "text": [
      "/home/hanliu/project/mouse_rostral_brain/DMR/ITSpatial_by_region/AI/MotifScan.h5adtemp/MA0852.2.meme, N motif total=25058\n"
     ]
    },
    {
     "name": "stderr",
     "output_type": "stream",
     "text": [
      "/home/hanliu/miniconda3/envs/clustering/lib/python3.7/site-packages/ALLCools/dmr/fimo.py:60: FutureWarning: to_msgpack is deprecated and will be removed in a future version.\n",
      "It is recommended to use pyarrow for on-the-wire transmission of pandas objects.\n",
      "  final_df.to_msgpack(output_path, compress='zlib')\n"
     ]
    },
    {
     "name": "stdout",
     "output_type": "stream",
     "text": [
      "/home/hanliu/project/mouse_rostral_brain/DMR/ITSpatial_by_region/AI/MotifScan.h5adtemp/MA0036.3.meme, N motif total=17761\n"
     ]
    },
    {
     "name": "stderr",
     "output_type": "stream",
     "text": [
      "/home/hanliu/miniconda3/envs/clustering/lib/python3.7/site-packages/ALLCools/dmr/fimo.py:60: FutureWarning: to_msgpack is deprecated and will be removed in a future version.\n",
      "It is recommended to use pyarrow for on-the-wire transmission of pandas objects.\n",
      "  final_df.to_msgpack(output_path, compress='zlib')\n"
     ]
    },
    {
     "name": "stdout",
     "output_type": "stream",
     "text": [
      "/home/hanliu/project/mouse_rostral_brain/DMR/ITSpatial_by_region/AI/MotifScan.h5adtemp/MA1607.1.meme, N motif total=33408\n"
     ]
    },
    {
     "name": "stderr",
     "output_type": "stream",
     "text": [
      "/home/hanliu/miniconda3/envs/clustering/lib/python3.7/site-packages/ALLCools/dmr/fimo.py:60: FutureWarning: to_msgpack is deprecated and will be removed in a future version.\n",
      "It is recommended to use pyarrow for on-the-wire transmission of pandas objects.\n",
      "  final_df.to_msgpack(output_path, compress='zlib')\n"
     ]
    },
    {
     "name": "stdout",
     "output_type": "stream",
     "text": [
      "/home/hanliu/project/mouse_rostral_brain/DMR/ITSpatial_by_region/AI/MotifScan.h5adtemp/MA0766.2.meme, N motif total=13995\n"
     ]
    },
    {
     "name": "stderr",
     "output_type": "stream",
     "text": [
      "/home/hanliu/miniconda3/envs/clustering/lib/python3.7/site-packages/ALLCools/dmr/fimo.py:60: FutureWarning: to_msgpack is deprecated and will be removed in a future version.\n",
      "It is recommended to use pyarrow for on-the-wire transmission of pandas objects.\n",
      "  final_df.to_msgpack(output_path, compress='zlib')\n"
     ]
    },
    {
     "name": "stdout",
     "output_type": "stream",
     "text": [
      "/home/hanliu/project/mouse_rostral_brain/DMR/ITSpatial_by_region/AI/MotifScan.h5adtemp/MA0889.1.meme, N motif total=10343\n"
     ]
    },
    {
     "name": "stderr",
     "output_type": "stream",
     "text": [
      "/home/hanliu/miniconda3/envs/clustering/lib/python3.7/site-packages/ALLCools/dmr/fimo.py:60: FutureWarning: to_msgpack is deprecated and will be removed in a future version.\n",
      "It is recommended to use pyarrow for on-the-wire transmission of pandas objects.\n",
      "  final_df.to_msgpack(output_path, compress='zlib')\n"
     ]
    },
    {
     "name": "stdout",
     "output_type": "stream",
     "text": [
      "/home/hanliu/project/mouse_rostral_brain/DMR/ITSpatial_by_region/AI/MotifScan.h5adtemp/MA0062.3.meme, N motif total=55255\n"
     ]
    },
    {
     "name": "stderr",
     "output_type": "stream",
     "text": [
      "/home/hanliu/miniconda3/envs/clustering/lib/python3.7/site-packages/ALLCools/dmr/fimo.py:60: FutureWarning: to_msgpack is deprecated and will be removed in a future version.\n",
      "It is recommended to use pyarrow for on-the-wire transmission of pandas objects.\n",
      "  final_df.to_msgpack(output_path, compress='zlib')\n"
     ]
    },
    {
     "name": "stdout",
     "output_type": "stream",
     "text": [
      "/home/hanliu/project/mouse_rostral_brain/DMR/ITSpatial_by_region/AI/MotifScan.h5adtemp/MA0482.2.meme, N motif total=21761\n"
     ]
    },
    {
     "name": "stderr",
     "output_type": "stream",
     "text": [
      "/home/hanliu/miniconda3/envs/clustering/lib/python3.7/site-packages/ALLCools/dmr/fimo.py:60: FutureWarning: to_msgpack is deprecated and will be removed in a future version.\n",
      "It is recommended to use pyarrow for on-the-wire transmission of pandas objects.\n",
      "  final_df.to_msgpack(output_path, compress='zlib')\n"
     ]
    },
    {
     "name": "stdout",
     "output_type": "stream",
     "text": [
      "/home/hanliu/project/mouse_rostral_brain/DMR/ITSpatial_by_region/AI/MotifScan.h5adtemp/MA0890.1.meme, N motif total=11199\n"
     ]
    },
    {
     "name": "stderr",
     "output_type": "stream",
     "text": [
      "/home/hanliu/miniconda3/envs/clustering/lib/python3.7/site-packages/ALLCools/dmr/fimo.py:60: FutureWarning: to_msgpack is deprecated and will be removed in a future version.\n",
      "It is recommended to use pyarrow for on-the-wire transmission of pandas objects.\n",
      "  final_df.to_msgpack(output_path, compress='zlib')\n"
     ]
    },
    {
     "name": "stdout",
     "output_type": "stream",
     "text": [
      "/home/hanliu/project/mouse_rostral_brain/DMR/ITSpatial_by_region/AI/MotifScan.h5adtemp/MA1104.2.meme, N motif total=21488\n"
     ]
    },
    {
     "name": "stderr",
     "output_type": "stream",
     "text": [
      "/home/hanliu/miniconda3/envs/clustering/lib/python3.7/site-packages/ALLCools/dmr/fimo.py:60: FutureWarning: to_msgpack is deprecated and will be removed in a future version.\n",
      "It is recommended to use pyarrow for on-the-wire transmission of pandas objects.\n",
      "  final_df.to_msgpack(output_path, compress='zlib')\n"
     ]
    },
    {
     "name": "stdout",
     "output_type": "stream",
     "text": [
      "/home/hanliu/project/mouse_rostral_brain/DMR/ITSpatial_by_region/AI/MotifScan.h5adtemp/MA0767.1.meme, N motif total=12400\n"
     ]
    },
    {
     "name": "stderr",
     "output_type": "stream",
     "text": [
      "/home/hanliu/miniconda3/envs/clustering/lib/python3.7/site-packages/ALLCools/dmr/fimo.py:60: FutureWarning: to_msgpack is deprecated and will be removed in a future version.\n",
      "It is recommended to use pyarrow for on-the-wire transmission of pandas objects.\n",
      "  final_df.to_msgpack(output_path, compress='zlib')\n"
     ]
    },
    {
     "name": "stdout",
     "output_type": "stream",
     "text": [
      "/home/hanliu/project/mouse_rostral_brain/DMR/ITSpatial_by_region/AI/MotifScan.h5adtemp/MA0646.1.meme, N motif total=14796\n"
     ]
    },
    {
     "name": "stderr",
     "output_type": "stream",
     "text": [
      "/home/hanliu/miniconda3/envs/clustering/lib/python3.7/site-packages/ALLCools/dmr/fimo.py:60: FutureWarning: to_msgpack is deprecated and will be removed in a future version.\n",
      "It is recommended to use pyarrow for on-the-wire transmission of pandas objects.\n",
      "  final_df.to_msgpack(output_path, compress='zlib')\n"
     ]
    },
    {
     "name": "stdout",
     "output_type": "stream",
     "text": [
      "/home/hanliu/project/mouse_rostral_brain/DMR/ITSpatial_by_region/AI/MotifScan.h5adtemp/MA0140.2.meme, N motif total=19120\n"
     ]
    },
    {
     "name": "stderr",
     "output_type": "stream",
     "text": [
      "/home/hanliu/miniconda3/envs/clustering/lib/python3.7/site-packages/ALLCools/dmr/fimo.py:60: FutureWarning: to_msgpack is deprecated and will be removed in a future version.\n",
      "It is recommended to use pyarrow for on-the-wire transmission of pandas objects.\n",
      "  final_df.to_msgpack(output_path, compress='zlib')\n"
     ]
    },
    {
     "name": "stdout",
     "output_type": "stream",
     "text": [
      "/home/hanliu/project/mouse_rostral_brain/DMR/ITSpatial_by_region/AI/MotifScan.h5adtemp/MA0038.2.meme, N motif total=23004\n"
     ]
    },
    {
     "name": "stderr",
     "output_type": "stream",
     "text": [
      "/home/hanliu/miniconda3/envs/clustering/lib/python3.7/site-packages/ALLCools/dmr/fimo.py:60: FutureWarning: to_msgpack is deprecated and will be removed in a future version.\n",
      "It is recommended to use pyarrow for on-the-wire transmission of pandas objects.\n",
      "  final_df.to_msgpack(output_path, compress='zlib')\n"
     ]
    },
    {
     "name": "stdout",
     "output_type": "stream",
     "text": [
      "/home/hanliu/project/mouse_rostral_brain/DMR/ITSpatial_by_region/AI/MotifScan.h5adtemp/MA0483.1.meme, N motif total=37267\n"
     ]
    },
    {
     "name": "stderr",
     "output_type": "stream",
     "text": [
      "/home/hanliu/miniconda3/envs/clustering/lib/python3.7/site-packages/ALLCools/dmr/fimo.py:60: FutureWarning: to_msgpack is deprecated and will be removed in a future version.\n",
      "It is recommended to use pyarrow for on-the-wire transmission of pandas objects.\n",
      "  final_df.to_msgpack(output_path, compress='zlib')\n"
     ]
    },
    {
     "name": "stdout",
     "output_type": "stream",
     "text": [
      "/home/hanliu/project/mouse_rostral_brain/DMR/ITSpatial_by_region/AI/MotifScan.h5adtemp/MA0862.1.meme, N motif total=2453\n"
     ]
    },
    {
     "name": "stderr",
     "output_type": "stream",
     "text": [
      "/home/hanliu/miniconda3/envs/clustering/lib/python3.7/site-packages/ALLCools/dmr/fimo.py:60: FutureWarning: to_msgpack is deprecated and will be removed in a future version.\n",
      "It is recommended to use pyarrow for on-the-wire transmission of pandas objects.\n",
      "  final_df.to_msgpack(output_path, compress='zlib')\n"
     ]
    },
    {
     "name": "stdout",
     "output_type": "stream",
     "text": [
      "/home/hanliu/project/mouse_rostral_brain/DMR/ITSpatial_by_region/AI/MotifScan.h5adtemp/MA0734.2.meme, N motif total=31391\n"
     ]
    },
    {
     "name": "stderr",
     "output_type": "stream",
     "text": [
      "/home/hanliu/miniconda3/envs/clustering/lib/python3.7/site-packages/ALLCools/dmr/fimo.py:60: FutureWarning: to_msgpack is deprecated and will be removed in a future version.\n",
      "It is recommended to use pyarrow for on-the-wire transmission of pandas objects.\n",
      "  final_df.to_msgpack(output_path, compress='zlib')\n"
     ]
    },
    {
     "name": "stdout",
     "output_type": "stream",
     "text": [
      "/home/hanliu/project/mouse_rostral_brain/DMR/ITSpatial_by_region/AI/MotifScan.h5adtemp/MA1491.1.meme, N motif total=35696\n"
     ]
    },
    {
     "name": "stderr",
     "output_type": "stream",
     "text": [
      "/home/hanliu/miniconda3/envs/clustering/lib/python3.7/site-packages/ALLCools/dmr/fimo.py:60: FutureWarning: to_msgpack is deprecated and will be removed in a future version.\n",
      "It is recommended to use pyarrow for on-the-wire transmission of pandas objects.\n",
      "  final_df.to_msgpack(output_path, compress='zlib')\n"
     ]
    },
    {
     "name": "stdout",
     "output_type": "stream",
     "text": [
      "Finish count 200 motifs.\n"
     ]
    },
    {
     "name": "stdout",
     "output_type": "stream",
     "text": [
      "/home/hanliu/project/mouse_rostral_brain/DMR/ITSpatial_by_region/AI/MotifScan.h5adtemp/MA0737.1.meme, N motif total=6290\n"
     ]
    },
    {
     "name": "stderr",
     "output_type": "stream",
     "text": [
      "/home/hanliu/miniconda3/envs/clustering/lib/python3.7/site-packages/ALLCools/dmr/fimo.py:60: FutureWarning: to_msgpack is deprecated and will be removed in a future version.\n",
      "It is recommended to use pyarrow for on-the-wire transmission of pandas objects.\n",
      "  final_df.to_msgpack(output_path, compress='zlib')\n"
     ]
    },
    {
     "name": "stdout",
     "output_type": "stream",
     "text": [
      "/home/hanliu/project/mouse_rostral_brain/DMR/ITSpatial_by_region/AI/MotifScan.h5adtemp/MA0735.1.meme, N motif total=144\n"
     ]
    },
    {
     "name": "stderr",
     "output_type": "stream",
     "text": [
      "/home/hanliu/miniconda3/envs/clustering/lib/python3.7/site-packages/ALLCools/dmr/fimo.py:60: FutureWarning: to_msgpack is deprecated and will be removed in a future version.\n",
      "It is recommended to use pyarrow for on-the-wire transmission of pandas objects.\n",
      "  final_df.to_msgpack(output_path, compress='zlib')\n"
     ]
    },
    {
     "name": "stdout",
     "output_type": "stream",
     "text": [
      "/home/hanliu/project/mouse_rostral_brain/DMR/ITSpatial_by_region/AI/MotifScan.h5adtemp/MA0891.1.meme, N motif total=13363\n"
     ]
    },
    {
     "name": "stderr",
     "output_type": "stream",
     "text": [
      "/home/hanliu/miniconda3/envs/clustering/lib/python3.7/site-packages/ALLCools/dmr/fimo.py:60: FutureWarning: to_msgpack is deprecated and will be removed in a future version.\n",
      "It is recommended to use pyarrow for on-the-wire transmission of pandas objects.\n",
      "  final_df.to_msgpack(output_path, compress='zlib')\n"
     ]
    },
    {
     "name": "stdout",
     "output_type": "stream",
     "text": [
      "/home/hanliu/project/mouse_rostral_brain/DMR/ITSpatial_by_region/AI/MotifScan.h5adtemp/MA0648.1.meme, N motif total=9336\n"
     ]
    },
    {
     "name": "stderr",
     "output_type": "stream",
     "text": [
      "/home/hanliu/miniconda3/envs/clustering/lib/python3.7/site-packages/ALLCools/dmr/fimo.py:60: FutureWarning: to_msgpack is deprecated and will be removed in a future version.\n",
      "It is recommended to use pyarrow for on-the-wire transmission of pandas objects.\n",
      "  final_df.to_msgpack(output_path, compress='zlib')\n"
     ]
    },
    {
     "name": "stdout",
     "output_type": "stream",
     "text": [
      "/home/hanliu/project/mouse_rostral_brain/DMR/ITSpatial_by_region/AI/MotifScan.h5adtemp/MA0893.2.meme, N motif total=13002\n"
     ]
    },
    {
     "name": "stderr",
     "output_type": "stream",
     "text": [
      "/home/hanliu/miniconda3/envs/clustering/lib/python3.7/site-packages/ALLCools/dmr/fimo.py:60: FutureWarning: to_msgpack is deprecated and will be removed in a future version.\n",
      "It is recommended to use pyarrow for on-the-wire transmission of pandas objects.\n",
      "  final_df.to_msgpack(output_path, compress='zlib')\n"
     ]
    },
    {
     "name": "stdout",
     "output_type": "stream",
     "text": [
      "/home/hanliu/project/mouse_rostral_brain/DMR/ITSpatial_by_region/AI/MotifScan.h5adtemp/MA1105.2.meme, N motif total=23765\n"
     ]
    },
    {
     "name": "stderr",
     "output_type": "stream",
     "text": [
      "/home/hanliu/miniconda3/envs/clustering/lib/python3.7/site-packages/ALLCools/dmr/fimo.py:60: FutureWarning: to_msgpack is deprecated and will be removed in a future version.\n",
      "It is recommended to use pyarrow for on-the-wire transmission of pandas objects.\n",
      "  final_df.to_msgpack(output_path, compress='zlib')\n"
     ]
    },
    {
     "name": "stdout",
     "output_type": "stream",
     "text": [
      "/home/hanliu/project/mouse_rostral_brain/DMR/ITSpatial_by_region/AI/MotifScan.h5adtemp/MA0647.1.meme, N motif total=14306\n"
     ]
    },
    {
     "name": "stderr",
     "output_type": "stream",
     "text": [
      "/home/hanliu/miniconda3/envs/clustering/lib/python3.7/site-packages/ALLCools/dmr/fimo.py:60: FutureWarning: to_msgpack is deprecated and will be removed in a future version.\n",
      "It is recommended to use pyarrow for on-the-wire transmission of pandas objects.\n",
      "  final_df.to_msgpack(output_path, compress='zlib')\n"
     ]
    },
    {
     "name": "stdout",
     "output_type": "stream",
     "text": [
      "/home/hanliu/project/mouse_rostral_brain/DMR/ITSpatial_by_region/AI/MotifScan.h5adtemp/MA0736.1.meme, N motif total=20620\n"
     ]
    },
    {
     "name": "stderr",
     "output_type": "stream",
     "text": [
      "/home/hanliu/miniconda3/envs/clustering/lib/python3.7/site-packages/ALLCools/dmr/fimo.py:60: FutureWarning: to_msgpack is deprecated and will be removed in a future version.\n",
      "It is recommended to use pyarrow for on-the-wire transmission of pandas objects.\n",
      "  final_df.to_msgpack(output_path, compress='zlib')\n"
     ]
    },
    {
     "name": "stdout",
     "output_type": "stream",
     "text": [
      "/home/hanliu/project/mouse_rostral_brain/DMR/ITSpatial_by_region/AI/MotifScan.h5adtemp/MA0615.1.meme, N motif total=2433\n"
     ]
    },
    {
     "name": "stderr",
     "output_type": "stream",
     "text": [
      "/home/hanliu/miniconda3/envs/clustering/lib/python3.7/site-packages/ALLCools/dmr/fimo.py:60: FutureWarning: to_msgpack is deprecated and will be removed in a future version.\n",
      "It is recommended to use pyarrow for on-the-wire transmission of pandas objects.\n",
      "  final_df.to_msgpack(output_path, compress='zlib')\n"
     ]
    },
    {
     "name": "stdout",
     "output_type": "stream",
     "text": [
      "/home/hanliu/project/mouse_rostral_brain/DMR/ITSpatial_by_region/AI/MotifScan.h5adtemp/MA1638.1.meme, N motif total=53433\n"
     ]
    },
    {
     "name": "stderr",
     "output_type": "stream",
     "text": [
      "/home/hanliu/miniconda3/envs/clustering/lib/python3.7/site-packages/ALLCools/dmr/fimo.py:60: FutureWarning: to_msgpack is deprecated and will be removed in a future version.\n",
      "It is recommended to use pyarrow for on-the-wire transmission of pandas objects.\n",
      "  final_df.to_msgpack(output_path, compress='zlib')\n"
     ]
    },
    {
     "name": "stdout",
     "output_type": "stream",
     "text": [
      "/home/hanliu/project/mouse_rostral_brain/DMR/ITSpatial_by_region/AI/MotifScan.h5adtemp/MA0892.1.meme, N motif total=14568\n"
     ]
    },
    {
     "name": "stderr",
     "output_type": "stream",
     "text": [
      "/home/hanliu/miniconda3/envs/clustering/lib/python3.7/site-packages/ALLCools/dmr/fimo.py:60: FutureWarning: to_msgpack is deprecated and will be removed in a future version.\n",
      "It is recommended to use pyarrow for on-the-wire transmission of pandas objects.\n",
      "  final_df.to_msgpack(output_path, compress='zlib')\n"
     ]
    },
    {
     "name": "stdout",
     "output_type": "stream",
     "text": [
      "/home/hanliu/project/mouse_rostral_brain/DMR/ITSpatial_by_region/AI/MotifScan.h5adtemp/MA1099.2.meme, N motif total=8999\n"
     ]
    },
    {
     "name": "stderr",
     "output_type": "stream",
     "text": [
      "/home/hanliu/miniconda3/envs/clustering/lib/python3.7/site-packages/ALLCools/dmr/fimo.py:60: FutureWarning: to_msgpack is deprecated and will be removed in a future version.\n",
      "It is recommended to use pyarrow for on-the-wire transmission of pandas objects.\n",
      "  final_df.to_msgpack(output_path, compress='zlib')\n"
     ]
    },
    {
     "name": "stdout",
     "output_type": "stream",
     "text": [
      "/home/hanliu/project/mouse_rostral_brain/DMR/ITSpatial_by_region/AI/MotifScan.h5adtemp/MA0616.2.meme, N motif total=12082\n"
     ]
    },
    {
     "name": "stderr",
     "output_type": "stream",
     "text": [
      "/home/hanliu/miniconda3/envs/clustering/lib/python3.7/site-packages/ALLCools/dmr/fimo.py:60: FutureWarning: to_msgpack is deprecated and will be removed in a future version.\n",
      "It is recommended to use pyarrow for on-the-wire transmission of pandas objects.\n",
      "  final_df.to_msgpack(output_path, compress='zlib')\n"
     ]
    },
    {
     "name": "stdout",
     "output_type": "stream",
     "text": [
      "/home/hanliu/project/mouse_rostral_brain/DMR/ITSpatial_by_region/AI/MotifScan.h5adtemp/MA1493.1.meme, N motif total=12596\n"
     ]
    },
    {
     "name": "stderr",
     "output_type": "stream",
     "text": [
      "/home/hanliu/miniconda3/envs/clustering/lib/python3.7/site-packages/ALLCools/dmr/fimo.py:60: FutureWarning: to_msgpack is deprecated and will be removed in a future version.\n",
      "It is recommended to use pyarrow for on-the-wire transmission of pandas objects.\n",
      "  final_df.to_msgpack(output_path, compress='zlib')\n"
     ]
    },
    {
     "name": "stdout",
     "output_type": "stream",
     "text": [
      "/home/hanliu/project/mouse_rostral_brain/DMR/ITSpatial_by_region/AI/MotifScan.h5adtemp/MA0739.1.meme, N motif total=28288\n"
     ]
    },
    {
     "name": "stderr",
     "output_type": "stream",
     "text": [
      "/home/hanliu/miniconda3/envs/clustering/lib/python3.7/site-packages/ALLCools/dmr/fimo.py:60: FutureWarning: to_msgpack is deprecated and will be removed in a future version.\n",
      "It is recommended to use pyarrow for on-the-wire transmission of pandas objects.\n",
      "  final_df.to_msgpack(output_path, compress='zlib')\n"
     ]
    },
    {
     "name": "stdout",
     "output_type": "stream",
     "text": [
      "/home/hanliu/project/mouse_rostral_brain/DMR/ITSpatial_by_region/AI/MotifScan.h5adtemp/MA0738.1.meme, N motif total=26741\n"
     ]
    },
    {
     "name": "stderr",
     "output_type": "stream",
     "text": [
      "/home/hanliu/miniconda3/envs/clustering/lib/python3.7/site-packages/ALLCools/dmr/fimo.py:60: FutureWarning: to_msgpack is deprecated and will be removed in a future version.\n",
      "It is recommended to use pyarrow for on-the-wire transmission of pandas objects.\n",
      "  final_df.to_msgpack(output_path, compress='zlib')\n"
     ]
    },
    {
     "name": "stdout",
     "output_type": "stream",
     "text": [
      "/home/hanliu/project/mouse_rostral_brain/DMR/ITSpatial_by_region/AI/MotifScan.h5adtemp/MA0092.1.meme, N motif total=29682\n"
     ]
    },
    {
     "name": "stderr",
     "output_type": "stream",
     "text": [
      "/home/hanliu/miniconda3/envs/clustering/lib/python3.7/site-packages/ALLCools/dmr/fimo.py:60: FutureWarning: to_msgpack is deprecated and will be removed in a future version.\n",
      "It is recommended to use pyarrow for on-the-wire transmission of pandas objects.\n",
      "  final_df.to_msgpack(output_path, compress='zlib')\n"
     ]
    },
    {
     "name": "stdout",
     "output_type": "stream",
     "text": [
      "/home/hanliu/project/mouse_rostral_brain/DMR/ITSpatial_by_region/AI/MotifScan.h5adtemp/MA0894.1.meme, N motif total=11690\n"
     ]
    },
    {
     "name": "stderr",
     "output_type": "stream",
     "text": [
      "/home/hanliu/miniconda3/envs/clustering/lib/python3.7/site-packages/ALLCools/dmr/fimo.py:60: FutureWarning: to_msgpack is deprecated and will be removed in a future version.\n",
      "It is recommended to use pyarrow for on-the-wire transmission of pandas objects.\n",
      "  final_df.to_msgpack(output_path, compress='zlib')\n"
     ]
    },
    {
     "name": "stdout",
     "output_type": "stream",
     "text": [
      "/home/hanliu/project/mouse_rostral_brain/DMR/ITSpatial_by_region/AI/MotifScan.h5adtemp/MA0649.1.meme, N motif total=13760\n"
     ]
    },
    {
     "name": "stderr",
     "output_type": "stream",
     "text": [
      "/home/hanliu/miniconda3/envs/clustering/lib/python3.7/site-packages/ALLCools/dmr/fimo.py:60: FutureWarning: to_msgpack is deprecated and will be removed in a future version.\n",
      "It is recommended to use pyarrow for on-the-wire transmission of pandas objects.\n",
      "  final_df.to_msgpack(output_path, compress='zlib')\n"
     ]
    },
    {
     "name": "stdout",
     "output_type": "stream",
     "text": [
      "/home/hanliu/project/mouse_rostral_brain/DMR/ITSpatial_by_region/AI/MotifScan.h5adtemp/MA0821.1.meme, N motif total=5506\n"
     ]
    },
    {
     "name": "stderr",
     "output_type": "stream",
     "text": [
      "/home/hanliu/miniconda3/envs/clustering/lib/python3.7/site-packages/ALLCools/dmr/fimo.py:60: FutureWarning: to_msgpack is deprecated and will be removed in a future version.\n",
      "It is recommended to use pyarrow for on-the-wire transmission of pandas objects.\n",
      "  final_df.to_msgpack(output_path, compress='zlib')\n"
     ]
    },
    {
     "name": "stdout",
     "output_type": "stream",
     "text": [
      "/home/hanliu/project/mouse_rostral_brain/DMR/ITSpatial_by_region/AI/MotifScan.h5adtemp/MA1106.1.meme, N motif total=8418\n"
     ]
    },
    {
     "name": "stderr",
     "output_type": "stream",
     "text": [
      "/home/hanliu/miniconda3/envs/clustering/lib/python3.7/site-packages/ALLCools/dmr/fimo.py:60: FutureWarning: to_msgpack is deprecated and will be removed in a future version.\n",
      "It is recommended to use pyarrow for on-the-wire transmission of pandas objects.\n",
      "  final_df.to_msgpack(output_path, compress='zlib')\n"
     ]
    },
    {
     "name": "stdout",
     "output_type": "stream",
     "text": [
      "/home/hanliu/project/mouse_rostral_brain/DMR/ITSpatial_by_region/AI/MotifScan.h5adtemp/MA0823.1.meme, N motif total=14334\n"
     ]
    },
    {
     "name": "stderr",
     "output_type": "stream",
     "text": [
      "/home/hanliu/miniconda3/envs/clustering/lib/python3.7/site-packages/ALLCools/dmr/fimo.py:60: FutureWarning: to_msgpack is deprecated and will be removed in a future version.\n",
      "It is recommended to use pyarrow for on-the-wire transmission of pandas objects.\n",
      "  final_df.to_msgpack(output_path, compress='zlib')\n"
     ]
    },
    {
     "name": "stdout",
     "output_type": "stream",
     "text": [
      "/home/hanliu/project/mouse_rostral_brain/DMR/ITSpatial_by_region/AI/MotifScan.h5adtemp/MA0822.1.meme, N motif total=4356\n"
     ]
    },
    {
     "name": "stderr",
     "output_type": "stream",
     "text": [
      "/home/hanliu/miniconda3/envs/clustering/lib/python3.7/site-packages/ALLCools/dmr/fimo.py:60: FutureWarning: to_msgpack is deprecated and will be removed in a future version.\n",
      "It is recommended to use pyarrow for on-the-wire transmission of pandas objects.\n",
      "  final_df.to_msgpack(output_path, compress='zlib')\n"
     ]
    },
    {
     "name": "stdout",
     "output_type": "stream",
     "text": [
      "/home/hanliu/project/mouse_rostral_brain/DMR/ITSpatial_by_region/AI/MotifScan.h5adtemp/MA0131.2.meme, N motif total=5112\n"
     ]
    },
    {
     "name": "stderr",
     "output_type": "stream",
     "text": [
      "/home/hanliu/miniconda3/envs/clustering/lib/python3.7/site-packages/ALLCools/dmr/fimo.py:60: FutureWarning: to_msgpack is deprecated and will be removed in a future version.\n",
      "It is recommended to use pyarrow for on-the-wire transmission of pandas objects.\n",
      "  final_df.to_msgpack(output_path, compress='zlib')\n"
     ]
    },
    {
     "name": "stdout",
     "output_type": "stream",
     "text": [
      "/home/hanliu/project/mouse_rostral_brain/DMR/ITSpatial_by_region/AI/MotifScan.h5adtemp/MA0043.3.meme, N motif total=16260\n"
     ]
    },
    {
     "name": "stderr",
     "output_type": "stream",
     "text": [
      "/home/hanliu/miniconda3/envs/clustering/lib/python3.7/site-packages/ALLCools/dmr/fimo.py:60: FutureWarning: to_msgpack is deprecated and will be removed in a future version.\n",
      "It is recommended to use pyarrow for on-the-wire transmission of pandas objects.\n",
      "  final_df.to_msgpack(output_path, compress='zlib')\n"
     ]
    },
    {
     "name": "stdout",
     "output_type": "stream",
     "text": [
      "/home/hanliu/project/mouse_rostral_brain/DMR/ITSpatial_by_region/AI/MotifScan.h5adtemp/MA0109.1.meme, N motif total=12413\n"
     ]
    },
    {
     "name": "stderr",
     "output_type": "stream",
     "text": [
      "/home/hanliu/miniconda3/envs/clustering/lib/python3.7/site-packages/ALLCools/dmr/fimo.py:60: FutureWarning: to_msgpack is deprecated and will be removed in a future version.\n",
      "It is recommended to use pyarrow for on-the-wire transmission of pandas objects.\n",
      "  final_df.to_msgpack(output_path, compress='zlib')\n"
     ]
    },
    {
     "name": "stdout",
     "output_type": "stream",
     "text": [
      "/home/hanliu/project/mouse_rostral_brain/DMR/ITSpatial_by_region/AI/MotifScan.h5adtemp/MA0895.1.meme, N motif total=9620\n"
     ]
    },
    {
     "name": "stderr",
     "output_type": "stream",
     "text": [
      "/home/hanliu/miniconda3/envs/clustering/lib/python3.7/site-packages/ALLCools/dmr/fimo.py:60: FutureWarning: to_msgpack is deprecated and will be removed in a future version.\n",
      "It is recommended to use pyarrow for on-the-wire transmission of pandas objects.\n",
      "  final_df.to_msgpack(output_path, compress='zlib')\n"
     ]
    },
    {
     "name": "stdout",
     "output_type": "stream",
     "text": [
      "/home/hanliu/project/mouse_rostral_brain/DMR/ITSpatial_by_region/AI/MotifScan.h5adtemp/MA1495.1.meme, N motif total=10448\n"
     ]
    },
    {
     "name": "stderr",
     "output_type": "stream",
     "text": [
      "/home/hanliu/miniconda3/envs/clustering/lib/python3.7/site-packages/ALLCools/dmr/fimo.py:60: FutureWarning: to_msgpack is deprecated and will be removed in a future version.\n",
      "It is recommended to use pyarrow for on-the-wire transmission of pandas objects.\n",
      "  final_df.to_msgpack(output_path, compress='zlib')\n"
     ]
    },
    {
     "name": "stdout",
     "output_type": "stream",
     "text": [
      "/home/hanliu/project/mouse_rostral_brain/DMR/ITSpatial_by_region/AI/MotifScan.h5adtemp/MA0896.1.meme, N motif total=13410\n"
     ]
    },
    {
     "name": "stderr",
     "output_type": "stream",
     "text": [
      "/home/hanliu/miniconda3/envs/clustering/lib/python3.7/site-packages/ALLCools/dmr/fimo.py:60: FutureWarning: to_msgpack is deprecated and will be removed in a future version.\n",
      "It is recommended to use pyarrow for on-the-wire transmission of pandas objects.\n",
      "  final_df.to_msgpack(output_path, compress='zlib')\n"
     ]
    },
    {
     "name": "stdout",
     "output_type": "stream",
     "text": [
      "/home/hanliu/project/mouse_rostral_brain/DMR/ITSpatial_by_region/AI/MotifScan.h5adtemp/MA0046.2.meme, N motif total=22163\n"
     ]
    },
    {
     "name": "stderr",
     "output_type": "stream",
     "text": [
      "/home/hanliu/miniconda3/envs/clustering/lib/python3.7/site-packages/ALLCools/dmr/fimo.py:60: FutureWarning: to_msgpack is deprecated and will be removed in a future version.\n",
      "It is recommended to use pyarrow for on-the-wire transmission of pandas objects.\n",
      "  final_df.to_msgpack(output_path, compress='zlib')\n"
     ]
    },
    {
     "name": "stdout",
     "output_type": "stream",
     "text": [
      "/home/hanliu/project/mouse_rostral_brain/DMR/ITSpatial_by_region/AI/MotifScan.h5adtemp/MA0153.2.meme, N motif total=15798\n"
     ]
    },
    {
     "name": "stderr",
     "output_type": "stream",
     "text": [
      "/home/hanliu/miniconda3/envs/clustering/lib/python3.7/site-packages/ALLCools/dmr/fimo.py:60: FutureWarning: to_msgpack is deprecated and will be removed in a future version.\n",
      "It is recommended to use pyarrow for on-the-wire transmission of pandas objects.\n",
      "  final_df.to_msgpack(output_path, compress='zlib')\n"
     ]
    },
    {
     "name": "stdout",
     "output_type": "stream",
     "text": [
      "/home/hanliu/project/mouse_rostral_brain/DMR/ITSpatial_by_region/AI/MotifScan.h5adtemp/MA0114.4.meme, N motif total=28014\n"
     ]
    },
    {
     "name": "stderr",
     "output_type": "stream",
     "text": [
      "/home/hanliu/miniconda3/envs/clustering/lib/python3.7/site-packages/ALLCools/dmr/fimo.py:60: FutureWarning: to_msgpack is deprecated and will be removed in a future version.\n",
      "It is recommended to use pyarrow for on-the-wire transmission of pandas objects.\n",
      "  final_df.to_msgpack(output_path, compress='zlib')\n"
     ]
    },
    {
     "name": "stdout",
     "output_type": "stream",
     "text": [
      "/home/hanliu/project/mouse_rostral_brain/DMR/ITSpatial_by_region/AI/MotifScan.h5adtemp/MA0484.2.meme, N motif total=28216\n"
     ]
    },
    {
     "name": "stderr",
     "output_type": "stream",
     "text": [
      "/home/hanliu/miniconda3/envs/clustering/lib/python3.7/site-packages/ALLCools/dmr/fimo.py:60: FutureWarning: to_msgpack is deprecated and will be removed in a future version.\n",
      "It is recommended to use pyarrow for on-the-wire transmission of pandas objects.\n",
      "  final_df.to_msgpack(output_path, compress='zlib')\n"
     ]
    },
    {
     "name": "stdout",
     "output_type": "stream",
     "text": [
      "/home/hanliu/project/mouse_rostral_brain/DMR/ITSpatial_by_region/AI/MotifScan.h5adtemp/MA0897.1.meme, N motif total=16860\n"
     ]
    },
    {
     "name": "stderr",
     "output_type": "stream",
     "text": [
      "/home/hanliu/miniconda3/envs/clustering/lib/python3.7/site-packages/ALLCools/dmr/fimo.py:60: FutureWarning: to_msgpack is deprecated and will be removed in a future version.\n",
      "It is recommended to use pyarrow for on-the-wire transmission of pandas objects.\n",
      "  final_df.to_msgpack(output_path, compress='zlib')\n"
     ]
    },
    {
     "name": "stdout",
     "output_type": "stream",
     "text": [
      "/home/hanliu/project/mouse_rostral_brain/DMR/ITSpatial_by_region/AI/MotifScan.h5adtemp/MA0898.1.meme, N motif total=16926\n"
     ]
    },
    {
     "name": "stderr",
     "output_type": "stream",
     "text": [
      "/home/hanliu/miniconda3/envs/clustering/lib/python3.7/site-packages/ALLCools/dmr/fimo.py:60: FutureWarning: to_msgpack is deprecated and will be removed in a future version.\n",
      "It is recommended to use pyarrow for on-the-wire transmission of pandas objects.\n",
      "  final_df.to_msgpack(output_path, compress='zlib')\n"
     ]
    },
    {
     "name": "stdout",
     "output_type": "stream",
     "text": [
      "/home/hanliu/project/mouse_rostral_brain/DMR/ITSpatial_by_region/AI/MotifScan.h5adtemp/MA1494.1.meme, N motif total=9061\n"
     ]
    },
    {
     "name": "stderr",
     "output_type": "stream",
     "text": [
      "/home/hanliu/miniconda3/envs/clustering/lib/python3.7/site-packages/ALLCools/dmr/fimo.py:60: FutureWarning: to_msgpack is deprecated and will be removed in a future version.\n",
      "It is recommended to use pyarrow for on-the-wire transmission of pandas objects.\n",
      "  final_df.to_msgpack(output_path, compress='zlib')\n"
     ]
    },
    {
     "name": "stdout",
     "output_type": "stream",
     "text": [
      "/home/hanliu/project/mouse_rostral_brain/DMR/ITSpatial_by_region/AI/MotifScan.h5adtemp/MA0899.1.meme, N motif total=25376\n"
     ]
    },
    {
     "name": "stderr",
     "output_type": "stream",
     "text": [
      "/home/hanliu/miniconda3/envs/clustering/lib/python3.7/site-packages/ALLCools/dmr/fimo.py:60: FutureWarning: to_msgpack is deprecated and will be removed in a future version.\n",
      "It is recommended to use pyarrow for on-the-wire transmission of pandas objects.\n",
      "  final_df.to_msgpack(output_path, compress='zlib')\n"
     ]
    },
    {
     "name": "stdout",
     "output_type": "stream",
     "text": [
      "/home/hanliu/project/mouse_rostral_brain/DMR/ITSpatial_by_region/AI/MotifScan.h5adtemp/MA0900.2.meme, N motif total=10448\n"
     ]
    },
    {
     "name": "stderr",
     "output_type": "stream",
     "text": [
      "/home/hanliu/miniconda3/envs/clustering/lib/python3.7/site-packages/ALLCools/dmr/fimo.py:60: FutureWarning: to_msgpack is deprecated and will be removed in a future version.\n",
      "It is recommended to use pyarrow for on-the-wire transmission of pandas objects.\n",
      "  final_df.to_msgpack(output_path, compress='zlib')\n"
     ]
    },
    {
     "name": "stdout",
     "output_type": "stream",
     "text": [
      "/home/hanliu/project/mouse_rostral_brain/DMR/ITSpatial_by_region/AI/MotifScan.h5adtemp/MA0911.1.meme, N motif total=7950\n"
     ]
    },
    {
     "name": "stderr",
     "output_type": "stream",
     "text": [
      "/home/hanliu/miniconda3/envs/clustering/lib/python3.7/site-packages/ALLCools/dmr/fimo.py:60: FutureWarning: to_msgpack is deprecated and will be removed in a future version.\n",
      "It is recommended to use pyarrow for on-the-wire transmission of pandas objects.\n",
      "  final_df.to_msgpack(output_path, compress='zlib')\n"
     ]
    },
    {
     "name": "stdout",
     "output_type": "stream",
     "text": [
      "/home/hanliu/project/mouse_rostral_brain/DMR/ITSpatial_by_region/AI/MotifScan.h5adtemp/MA0650.2.meme, N motif total=22250\n"
     ]
    },
    {
     "name": "stderr",
     "output_type": "stream",
     "text": [
      "/home/hanliu/miniconda3/envs/clustering/lib/python3.7/site-packages/ALLCools/dmr/fimo.py:60: FutureWarning: to_msgpack is deprecated and will be removed in a future version.\n",
      "It is recommended to use pyarrow for on-the-wire transmission of pandas objects.\n",
      "  final_df.to_msgpack(output_path, compress='zlib')\n"
     ]
    },
    {
     "name": "stdout",
     "output_type": "stream",
     "text": [
      "/home/hanliu/project/mouse_rostral_brain/DMR/ITSpatial_by_region/AI/MotifScan.h5adtemp/MA0158.2.meme, N motif total=10853\n"
     ]
    },
    {
     "name": "stderr",
     "output_type": "stream",
     "text": [
      "/home/hanliu/miniconda3/envs/clustering/lib/python3.7/site-packages/ALLCools/dmr/fimo.py:60: FutureWarning: to_msgpack is deprecated and will be removed in a future version.\n",
      "It is recommended to use pyarrow for on-the-wire transmission of pandas objects.\n",
      "  final_df.to_msgpack(output_path, compress='zlib')\n"
     ]
    },
    {
     "name": "stdout",
     "output_type": "stream",
     "text": [
      "/home/hanliu/project/mouse_rostral_brain/DMR/ITSpatial_by_region/AI/MotifScan.h5adtemp/MA1498.1.meme, N motif total=9771\n"
     ]
    },
    {
     "name": "stderr",
     "output_type": "stream",
     "text": [
      "/home/hanliu/miniconda3/envs/clustering/lib/python3.7/site-packages/ALLCools/dmr/fimo.py:60: FutureWarning: to_msgpack is deprecated and will be removed in a future version.\n",
      "It is recommended to use pyarrow for on-the-wire transmission of pandas objects.\n",
      "  final_df.to_msgpack(output_path, compress='zlib')\n"
     ]
    },
    {
     "name": "stdout",
     "output_type": "stream",
     "text": [
      "/home/hanliu/project/mouse_rostral_brain/DMR/ITSpatial_by_region/AI/MotifScan.h5adtemp/MA0902.2.meme, N motif total=9887\n"
     ]
    },
    {
     "name": "stderr",
     "output_type": "stream",
     "text": [
      "/home/hanliu/miniconda3/envs/clustering/lib/python3.7/site-packages/ALLCools/dmr/fimo.py:60: FutureWarning: to_msgpack is deprecated and will be removed in a future version.\n",
      "It is recommended to use pyarrow for on-the-wire transmission of pandas objects.\n",
      "  final_df.to_msgpack(output_path, compress='zlib')\n"
     ]
    },
    {
     "name": "stdout",
     "output_type": "stream",
     "text": [
      "/home/hanliu/project/mouse_rostral_brain/DMR/ITSpatial_by_region/AI/MotifScan.h5adtemp/MA0594.2.meme, N motif total=2153\n"
     ]
    },
    {
     "name": "stderr",
     "output_type": "stream",
     "text": [
      "/home/hanliu/miniconda3/envs/clustering/lib/python3.7/site-packages/ALLCools/dmr/fimo.py:60: FutureWarning: to_msgpack is deprecated and will be removed in a future version.\n",
      "It is recommended to use pyarrow for on-the-wire transmission of pandas objects.\n",
      "  final_df.to_msgpack(output_path, compress='zlib')\n"
     ]
    },
    {
     "name": "stdout",
     "output_type": "stream",
     "text": [
      "/home/hanliu/project/mouse_rostral_brain/DMR/ITSpatial_by_region/AI/MotifScan.h5adtemp/MA0904.2.meme, N motif total=10448\n"
     ]
    },
    {
     "name": "stderr",
     "output_type": "stream",
     "text": [
      "/home/hanliu/miniconda3/envs/clustering/lib/python3.7/site-packages/ALLCools/dmr/fimo.py:60: FutureWarning: to_msgpack is deprecated and will be removed in a future version.\n",
      "It is recommended to use pyarrow for on-the-wire transmission of pandas objects.\n",
      "  final_df.to_msgpack(output_path, compress='zlib')\n"
     ]
    },
    {
     "name": "stdout",
     "output_type": "stream",
     "text": [
      "/home/hanliu/project/mouse_rostral_brain/DMR/ITSpatial_by_region/AI/MotifScan.h5adtemp/MA1496.1.meme, N motif total=11679\n"
     ]
    },
    {
     "name": "stderr",
     "output_type": "stream",
     "text": [
      "/home/hanliu/miniconda3/envs/clustering/lib/python3.7/site-packages/ALLCools/dmr/fimo.py:60: FutureWarning: to_msgpack is deprecated and will be removed in a future version.\n",
      "It is recommended to use pyarrow for on-the-wire transmission of pandas objects.\n",
      "  final_df.to_msgpack(output_path, compress='zlib')\n"
     ]
    },
    {
     "name": "stdout",
     "output_type": "stream",
     "text": [
      "/home/hanliu/project/mouse_rostral_brain/DMR/ITSpatial_by_region/AI/MotifScan.h5adtemp/MA1497.1.meme, N motif total=9610\n"
     ]
    },
    {
     "name": "stderr",
     "output_type": "stream",
     "text": [
      "/home/hanliu/miniconda3/envs/clustering/lib/python3.7/site-packages/ALLCools/dmr/fimo.py:60: FutureWarning: to_msgpack is deprecated and will be removed in a future version.\n",
      "It is recommended to use pyarrow for on-the-wire transmission of pandas objects.\n",
      "  final_df.to_msgpack(output_path, compress='zlib')\n"
     ]
    },
    {
     "name": "stdout",
     "output_type": "stream",
     "text": [
      "/home/hanliu/project/mouse_rostral_brain/DMR/ITSpatial_by_region/AI/MotifScan.h5adtemp/MA0903.1.meme, N motif total=13732\n"
     ]
    },
    {
     "name": "stderr",
     "output_type": "stream",
     "text": [
      "/home/hanliu/miniconda3/envs/clustering/lib/python3.7/site-packages/ALLCools/dmr/fimo.py:60: FutureWarning: to_msgpack is deprecated and will be removed in a future version.\n",
      "It is recommended to use pyarrow for on-the-wire transmission of pandas objects.\n",
      "  final_df.to_msgpack(output_path, compress='zlib')\n"
     ]
    },
    {
     "name": "stdout",
     "output_type": "stream",
     "text": [
      "/home/hanliu/project/mouse_rostral_brain/DMR/ITSpatial_by_region/AI/MotifScan.h5adtemp/MA1499.1.meme, N motif total=11969\n"
     ]
    },
    {
     "name": "stderr",
     "output_type": "stream",
     "text": [
      "/home/hanliu/miniconda3/envs/clustering/lib/python3.7/site-packages/ALLCools/dmr/fimo.py:60: FutureWarning: to_msgpack is deprecated and will be removed in a future version.\n",
      "It is recommended to use pyarrow for on-the-wire transmission of pandas objects.\n",
      "  final_df.to_msgpack(output_path, compress='zlib')\n"
     ]
    },
    {
     "name": "stdout",
     "output_type": "stream",
     "text": [
      "/home/hanliu/project/mouse_rostral_brain/DMR/ITSpatial_by_region/AI/MotifScan.h5adtemp/MA1505.1.meme, N motif total=10280\n"
     ]
    },
    {
     "name": "stderr",
     "output_type": "stream",
     "text": [
      "/home/hanliu/miniconda3/envs/clustering/lib/python3.7/site-packages/ALLCools/dmr/fimo.py:60: FutureWarning: to_msgpack is deprecated and will be removed in a future version.\n",
      "It is recommended to use pyarrow for on-the-wire transmission of pandas objects.\n",
      "  final_df.to_msgpack(output_path, compress='zlib')\n"
     ]
    },
    {
     "name": "stdout",
     "output_type": "stream",
     "text": [
      "/home/hanliu/project/mouse_rostral_brain/DMR/ITSpatial_by_region/AI/MotifScan.h5adtemp/MA1500.1.meme, N motif total=11649\n"
     ]
    },
    {
     "name": "stderr",
     "output_type": "stream",
     "text": [
      "/home/hanliu/miniconda3/envs/clustering/lib/python3.7/site-packages/ALLCools/dmr/fimo.py:60: FutureWarning: to_msgpack is deprecated and will be removed in a future version.\n",
      "It is recommended to use pyarrow for on-the-wire transmission of pandas objects.\n",
      "  final_df.to_msgpack(output_path, compress='zlib')\n"
     ]
    },
    {
     "name": "stdout",
     "output_type": "stream",
     "text": [
      "/home/hanliu/project/mouse_rostral_brain/DMR/ITSpatial_by_region/AI/MotifScan.h5adtemp/MA0901.2.meme, N motif total=39789\n"
     ]
    },
    {
     "name": "stderr",
     "output_type": "stream",
     "text": [
      "/home/hanliu/miniconda3/envs/clustering/lib/python3.7/site-packages/ALLCools/dmr/fimo.py:60: FutureWarning: to_msgpack is deprecated and will be removed in a future version.\n",
      "It is recommended to use pyarrow for on-the-wire transmission of pandas objects.\n",
      "  final_df.to_msgpack(output_path, compress='zlib')\n"
     ]
    },
    {
     "name": "stdout",
     "output_type": "stream",
     "text": [
      "/home/hanliu/project/mouse_rostral_brain/DMR/ITSpatial_by_region/AI/MotifScan.h5adtemp/MA1504.1.meme, N motif total=11969\n"
     ]
    },
    {
     "name": "stderr",
     "output_type": "stream",
     "text": [
      "/home/hanliu/miniconda3/envs/clustering/lib/python3.7/site-packages/ALLCools/dmr/fimo.py:60: FutureWarning: to_msgpack is deprecated and will be removed in a future version.\n",
      "It is recommended to use pyarrow for on-the-wire transmission of pandas objects.\n",
      "  final_df.to_msgpack(output_path, compress='zlib')\n"
     ]
    },
    {
     "name": "stdout",
     "output_type": "stream",
     "text": [
      "/home/hanliu/project/mouse_rostral_brain/DMR/ITSpatial_by_region/AI/MotifScan.h5adtemp/MA1503.1.meme, N motif total=8876\n"
     ]
    },
    {
     "name": "stderr",
     "output_type": "stream",
     "text": [
      "/home/hanliu/miniconda3/envs/clustering/lib/python3.7/site-packages/ALLCools/dmr/fimo.py:60: FutureWarning: to_msgpack is deprecated and will be removed in a future version.\n",
      "It is recommended to use pyarrow for on-the-wire transmission of pandas objects.\n",
      "  final_df.to_msgpack(output_path, compress='zlib')\n"
     ]
    },
    {
     "name": "stdout",
     "output_type": "stream",
     "text": [
      "/home/hanliu/project/mouse_rostral_brain/DMR/ITSpatial_by_region/AI/MotifScan.h5adtemp/MA1502.1.meme, N motif total=10953\n"
     ]
    },
    {
     "name": "stderr",
     "output_type": "stream",
     "text": [
      "/home/hanliu/miniconda3/envs/clustering/lib/python3.7/site-packages/ALLCools/dmr/fimo.py:60: FutureWarning: to_msgpack is deprecated and will be removed in a future version.\n",
      "It is recommended to use pyarrow for on-the-wire transmission of pandas objects.\n",
      "  final_df.to_msgpack(output_path, compress='zlib')\n"
     ]
    },
    {
     "name": "stdout",
     "output_type": "stream",
     "text": [
      "/home/hanliu/project/mouse_rostral_brain/DMR/ITSpatial_by_region/AI/MotifScan.h5adtemp/MA0651.1.meme, N motif total=7407\n"
     ]
    },
    {
     "name": "stderr",
     "output_type": "stream",
     "text": [
      "/home/hanliu/miniconda3/envs/clustering/lib/python3.7/site-packages/ALLCools/dmr/fimo.py:60: FutureWarning: to_msgpack is deprecated and will be removed in a future version.\n",
      "It is recommended to use pyarrow for on-the-wire transmission of pandas objects.\n",
      "  final_df.to_msgpack(output_path, compress='zlib')\n"
     ]
    },
    {
     "name": "stdout",
     "output_type": "stream",
     "text": [
      "/home/hanliu/project/mouse_rostral_brain/DMR/ITSpatial_by_region/AI/MotifScan.h5adtemp/MA1501.1.meme, N motif total=10693\n"
     ]
    },
    {
     "name": "stderr",
     "output_type": "stream",
     "text": [
      "/home/hanliu/miniconda3/envs/clustering/lib/python3.7/site-packages/ALLCools/dmr/fimo.py:60: FutureWarning: to_msgpack is deprecated and will be removed in a future version.\n",
      "It is recommended to use pyarrow for on-the-wire transmission of pandas objects.\n",
      "  final_df.to_msgpack(output_path, compress='zlib')\n"
     ]
    },
    {
     "name": "stdout",
     "output_type": "stream",
     "text": [
      "/home/hanliu/project/mouse_rostral_brain/DMR/ITSpatial_by_region/AI/MotifScan.h5adtemp/MA0905.1.meme, N motif total=11503\n"
     ]
    },
    {
     "name": "stderr",
     "output_type": "stream",
     "text": [
      "/home/hanliu/miniconda3/envs/clustering/lib/python3.7/site-packages/ALLCools/dmr/fimo.py:60: FutureWarning: to_msgpack is deprecated and will be removed in a future version.\n",
      "It is recommended to use pyarrow for on-the-wire transmission of pandas objects.\n",
      "  final_df.to_msgpack(output_path, compress='zlib')\n"
     ]
    },
    {
     "name": "stdout",
     "output_type": "stream",
     "text": [
      "/home/hanliu/project/mouse_rostral_brain/DMR/ITSpatial_by_region/AI/MotifScan.h5adtemp/MA0485.2.meme, N motif total=8667\n"
     ]
    },
    {
     "name": "stderr",
     "output_type": "stream",
     "text": [
      "/home/hanliu/miniconda3/envs/clustering/lib/python3.7/site-packages/ALLCools/dmr/fimo.py:60: FutureWarning: to_msgpack is deprecated and will be removed in a future version.\n",
      "It is recommended to use pyarrow for on-the-wire transmission of pandas objects.\n",
      "  final_df.to_msgpack(output_path, compress='zlib')\n"
     ]
    },
    {
     "name": "stdout",
     "output_type": "stream",
     "text": [
      "/home/hanliu/project/mouse_rostral_brain/DMR/ITSpatial_by_region/AI/MotifScan.h5adtemp/MA1506.1.meme, N motif total=8948\n"
     ]
    },
    {
     "name": "stderr",
     "output_type": "stream",
     "text": [
      "/home/hanliu/miniconda3/envs/clustering/lib/python3.7/site-packages/ALLCools/dmr/fimo.py:60: FutureWarning: to_msgpack is deprecated and will be removed in a future version.\n",
      "It is recommended to use pyarrow for on-the-wire transmission of pandas objects.\n",
      "  final_df.to_msgpack(output_path, compress='zlib')\n"
     ]
    },
    {
     "name": "stdout",
     "output_type": "stream",
     "text": [
      "/home/hanliu/project/mouse_rostral_brain/DMR/ITSpatial_by_region/AI/MotifScan.h5adtemp/MA0907.1.meme, N motif total=13527\n"
     ]
    },
    {
     "name": "stderr",
     "output_type": "stream",
     "text": [
      "/home/hanliu/miniconda3/envs/clustering/lib/python3.7/site-packages/ALLCools/dmr/fimo.py:60: FutureWarning: to_msgpack is deprecated and will be removed in a future version.\n",
      "It is recommended to use pyarrow for on-the-wire transmission of pandas objects.\n",
      "  final_df.to_msgpack(output_path, compress='zlib')\n"
     ]
    },
    {
     "name": "stdout",
     "output_type": "stream",
     "text": [
      "/home/hanliu/project/mouse_rostral_brain/DMR/ITSpatial_by_region/AI/MotifScan.h5adtemp/MA0906.1.meme, N motif total=9012\n"
     ]
    },
    {
     "name": "stderr",
     "output_type": "stream",
     "text": [
      "/home/hanliu/miniconda3/envs/clustering/lib/python3.7/site-packages/ALLCools/dmr/fimo.py:60: FutureWarning: to_msgpack is deprecated and will be removed in a future version.\n",
      "It is recommended to use pyarrow for on-the-wire transmission of pandas objects.\n",
      "  final_df.to_msgpack(output_path, compress='zlib')\n"
     ]
    },
    {
     "name": "stdout",
     "output_type": "stream",
     "text": [
      "/home/hanliu/project/mouse_rostral_brain/DMR/ITSpatial_by_region/AI/MotifScan.h5adtemp/MA0912.2.meme, N motif total=11776\n"
     ]
    },
    {
     "name": "stderr",
     "output_type": "stream",
     "text": [
      "/home/hanliu/miniconda3/envs/clustering/lib/python3.7/site-packages/ALLCools/dmr/fimo.py:60: FutureWarning: to_msgpack is deprecated and will be removed in a future version.\n",
      "It is recommended to use pyarrow for on-the-wire transmission of pandas objects.\n",
      "  final_df.to_msgpack(output_path, compress='zlib')\n"
     ]
    },
    {
     "name": "stdout",
     "output_type": "stream",
     "text": [
      "/home/hanliu/project/mouse_rostral_brain/DMR/ITSpatial_by_region/AI/MotifScan.h5adtemp/MA0908.1.meme, N motif total=8149\n"
     ]
    },
    {
     "name": "stderr",
     "output_type": "stream",
     "text": [
      "/home/hanliu/miniconda3/envs/clustering/lib/python3.7/site-packages/ALLCools/dmr/fimo.py:60: FutureWarning: to_msgpack is deprecated and will be removed in a future version.\n",
      "It is recommended to use pyarrow for on-the-wire transmission of pandas objects.\n",
      "  final_df.to_msgpack(output_path, compress='zlib')\n"
     ]
    },
    {
     "name": "stdout",
     "output_type": "stream",
     "text": [
      "/home/hanliu/project/mouse_rostral_brain/DMR/ITSpatial_by_region/AI/MotifScan.h5adtemp/MA1507.1.meme, N motif total=10313\n"
     ]
    },
    {
     "name": "stderr",
     "output_type": "stream",
     "text": [
      "/home/hanliu/miniconda3/envs/clustering/lib/python3.7/site-packages/ALLCools/dmr/fimo.py:60: FutureWarning: to_msgpack is deprecated and will be removed in a future version.\n",
      "It is recommended to use pyarrow for on-the-wire transmission of pandas objects.\n",
      "  final_df.to_msgpack(output_path, compress='zlib')\n"
     ]
    },
    {
     "name": "stdout",
     "output_type": "stream",
     "text": [
      "/home/hanliu/project/mouse_rostral_brain/DMR/ITSpatial_by_region/AI/MotifScan.h5adtemp/MA0873.1.meme, N motif total=6792\n"
     ]
    },
    {
     "name": "stderr",
     "output_type": "stream",
     "text": [
      "/home/hanliu/miniconda3/envs/clustering/lib/python3.7/site-packages/ALLCools/dmr/fimo.py:60: FutureWarning: to_msgpack is deprecated and will be removed in a future version.\n",
      "It is recommended to use pyarrow for on-the-wire transmission of pandas objects.\n",
      "  final_df.to_msgpack(output_path, compress='zlib')\n"
     ]
    },
    {
     "name": "stdout",
     "output_type": "stream",
     "text": [
      "/home/hanliu/project/mouse_rostral_brain/DMR/ITSpatial_by_region/AI/MotifScan.h5adtemp/MA0909.2.meme, N motif total=19584\n"
     ]
    },
    {
     "name": "stderr",
     "output_type": "stream",
     "text": [
      "/home/hanliu/miniconda3/envs/clustering/lib/python3.7/site-packages/ALLCools/dmr/fimo.py:60: FutureWarning: to_msgpack is deprecated and will be removed in a future version.\n",
      "It is recommended to use pyarrow for on-the-wire transmission of pandas objects.\n",
      "  final_df.to_msgpack(output_path, compress='zlib')\n"
     ]
    },
    {
     "name": "stdout",
     "output_type": "stream",
     "text": [
      "/home/hanliu/project/mouse_rostral_brain/DMR/ITSpatial_by_region/AI/MotifScan.h5adtemp/MA0910.2.meme, N motif total=10309\n"
     ]
    },
    {
     "name": "stderr",
     "output_type": "stream",
     "text": [
      "/home/hanliu/miniconda3/envs/clustering/lib/python3.7/site-packages/ALLCools/dmr/fimo.py:60: FutureWarning: to_msgpack is deprecated and will be removed in a future version.\n",
      "It is recommended to use pyarrow for on-the-wire transmission of pandas objects.\n",
      "  final_df.to_msgpack(output_path, compress='zlib')\n"
     ]
    },
    {
     "name": "stdout",
     "output_type": "stream",
     "text": [
      "/home/hanliu/project/mouse_rostral_brain/DMR/ITSpatial_by_region/AI/MotifScan.h5adtemp/MA0913.2.meme, N motif total=21422\n"
     ]
    },
    {
     "name": "stderr",
     "output_type": "stream",
     "text": [
      "/home/hanliu/miniconda3/envs/clustering/lib/python3.7/site-packages/ALLCools/dmr/fimo.py:60: FutureWarning: to_msgpack is deprecated and will be removed in a future version.\n",
      "It is recommended to use pyarrow for on-the-wire transmission of pandas objects.\n",
      "  final_df.to_msgpack(output_path, compress='zlib')\n"
     ]
    },
    {
     "name": "stdout",
     "output_type": "stream",
     "text": [
      "/home/hanliu/project/mouse_rostral_brain/DMR/ITSpatial_by_region/AI/MotifScan.h5adtemp/MA1508.1.meme, N motif total=67268\n"
     ]
    },
    {
     "name": "stderr",
     "output_type": "stream",
     "text": [
      "/home/hanliu/miniconda3/envs/clustering/lib/python3.7/site-packages/ALLCools/dmr/fimo.py:60: FutureWarning: to_msgpack is deprecated and will be removed in a future version.\n",
      "It is recommended to use pyarrow for on-the-wire transmission of pandas objects.\n",
      "  final_df.to_msgpack(output_path, compress='zlib')\n"
     ]
    },
    {
     "name": "stdout",
     "output_type": "stream",
     "text": [
      "/home/hanliu/project/mouse_rostral_brain/DMR/ITSpatial_by_region/AI/MotifScan.h5adtemp/MA0486.2.meme, N motif total=20347\n"
     ]
    },
    {
     "name": "stderr",
     "output_type": "stream",
     "text": [
      "/home/hanliu/miniconda3/envs/clustering/lib/python3.7/site-packages/ALLCools/dmr/fimo.py:60: FutureWarning: to_msgpack is deprecated and will be removed in a future version.\n",
      "It is recommended to use pyarrow for on-the-wire transmission of pandas objects.\n",
      "  final_df.to_msgpack(output_path, compress='zlib')\n"
     ]
    },
    {
     "name": "stdout",
     "output_type": "stream",
     "text": [
      "/home/hanliu/project/mouse_rostral_brain/DMR/ITSpatial_by_region/AI/MotifScan.h5adtemp/MA0771.1.meme, N motif total=21044\n"
     ]
    },
    {
     "name": "stderr",
     "output_type": "stream",
     "text": [
      "/home/hanliu/miniconda3/envs/clustering/lib/python3.7/site-packages/ALLCools/dmr/fimo.py:60: FutureWarning: to_msgpack is deprecated and will be removed in a future version.\n",
      "It is recommended to use pyarrow for on-the-wire transmission of pandas objects.\n",
      "  final_df.to_msgpack(output_path, compress='zlib')\n"
     ]
    },
    {
     "name": "stdout",
     "output_type": "stream",
     "text": [
      "/home/hanliu/project/mouse_rostral_brain/DMR/ITSpatial_by_region/AI/MotifScan.h5adtemp/MA0155.1.meme, N motif total=32439\n"
     ]
    },
    {
     "name": "stderr",
     "output_type": "stream",
     "text": [
      "/home/hanliu/miniconda3/envs/clustering/lib/python3.7/site-packages/ALLCools/dmr/fimo.py:60: FutureWarning: to_msgpack is deprecated and will be removed in a future version.\n",
      "It is recommended to use pyarrow for on-the-wire transmission of pandas objects.\n",
      "  final_df.to_msgpack(output_path, compress='zlib')\n"
     ]
    },
    {
     "name": "stdout",
     "output_type": "stream",
     "text": [
      "/home/hanliu/project/mouse_rostral_brain/DMR/ITSpatial_by_region/AI/MotifScan.h5adtemp/MA0770.1.meme, N motif total=25018\n"
     ]
    },
    {
     "name": "stderr",
     "output_type": "stream",
     "text": [
      "/home/hanliu/miniconda3/envs/clustering/lib/python3.7/site-packages/ALLCools/dmr/fimo.py:60: FutureWarning: to_msgpack is deprecated and will be removed in a future version.\n",
      "It is recommended to use pyarrow for on-the-wire transmission of pandas objects.\n",
      "  final_df.to_msgpack(output_path, compress='zlib')\n"
     ]
    },
    {
     "name": "stdout",
     "output_type": "stream",
     "text": [
      "/home/hanliu/project/mouse_rostral_brain/DMR/ITSpatial_by_region/AI/MotifScan.h5adtemp/MA1509.1.meme, N motif total=4572\n"
     ]
    },
    {
     "name": "stderr",
     "output_type": "stream",
     "text": [
      "/home/hanliu/miniconda3/envs/clustering/lib/python3.7/site-packages/ALLCools/dmr/fimo.py:60: FutureWarning: to_msgpack is deprecated and will be removed in a future version.\n",
      "It is recommended to use pyarrow for on-the-wire transmission of pandas objects.\n",
      "  final_df.to_msgpack(output_path, compress='zlib')\n"
     ]
    },
    {
     "name": "stdout",
     "output_type": "stream",
     "text": [
      "/home/hanliu/project/mouse_rostral_brain/DMR/ITSpatial_by_region/AI/MotifScan.h5adtemp/MA1420.1.meme, N motif total=13920\n"
     ]
    },
    {
     "name": "stderr",
     "output_type": "stream",
     "text": [
      "/home/hanliu/miniconda3/envs/clustering/lib/python3.7/site-packages/ALLCools/dmr/fimo.py:60: FutureWarning: to_msgpack is deprecated and will be removed in a future version.\n",
      "It is recommended to use pyarrow for on-the-wire transmission of pandas objects.\n",
      "  final_df.to_msgpack(output_path, compress='zlib')\n"
     ]
    },
    {
     "name": "stdout",
     "output_type": "stream",
     "text": [
      "/home/hanliu/project/mouse_rostral_brain/DMR/ITSpatial_by_region/AI/MotifScan.h5adtemp/MA0051.1.meme, N motif total=14350\n"
     ]
    },
    {
     "name": "stderr",
     "output_type": "stream",
     "text": [
      "/home/hanliu/miniconda3/envs/clustering/lib/python3.7/site-packages/ALLCools/dmr/fimo.py:60: FutureWarning: to_msgpack is deprecated and will be removed in a future version.\n",
      "It is recommended to use pyarrow for on-the-wire transmission of pandas objects.\n",
      "  final_df.to_msgpack(output_path, compress='zlib')\n"
     ]
    },
    {
     "name": "stdout",
     "output_type": "stream",
     "text": [
      "/home/hanliu/project/mouse_rostral_brain/DMR/ITSpatial_by_region/AI/MotifScan.h5adtemp/MA1419.1.meme, N motif total=2420\n"
     ]
    },
    {
     "name": "stderr",
     "output_type": "stream",
     "text": [
      "/home/hanliu/miniconda3/envs/clustering/lib/python3.7/site-packages/ALLCools/dmr/fimo.py:60: FutureWarning: to_msgpack is deprecated and will be removed in a future version.\n",
      "It is recommended to use pyarrow for on-the-wire transmission of pandas objects.\n",
      "  final_df.to_msgpack(output_path, compress='zlib')\n"
     ]
    },
    {
     "name": "stdout",
     "output_type": "stream",
     "text": [
      "/home/hanliu/project/mouse_rostral_brain/DMR/ITSpatial_by_region/AI/MotifScan.h5adtemp/MA1608.1.meme, N motif total=12194\n"
     ]
    },
    {
     "name": "stderr",
     "output_type": "stream",
     "text": [
      "/home/hanliu/miniconda3/envs/clustering/lib/python3.7/site-packages/ALLCools/dmr/fimo.py:60: FutureWarning: to_msgpack is deprecated and will be removed in a future version.\n",
      "It is recommended to use pyarrow for on-the-wire transmission of pandas objects.\n",
      "  final_df.to_msgpack(output_path, compress='zlib')\n"
     ]
    },
    {
     "name": "stdout",
     "output_type": "stream",
     "text": [
      "/home/hanliu/project/mouse_rostral_brain/DMR/ITSpatial_by_region/AI/MotifScan.h5adtemp/MA0914.1.meme, N motif total=14797\n"
     ]
    },
    {
     "name": "stderr",
     "output_type": "stream",
     "text": [
      "/home/hanliu/miniconda3/envs/clustering/lib/python3.7/site-packages/ALLCools/dmr/fimo.py:60: FutureWarning: to_msgpack is deprecated and will be removed in a future version.\n",
      "It is recommended to use pyarrow for on-the-wire transmission of pandas objects.\n",
      "  final_df.to_msgpack(output_path, compress='zlib')\n"
     ]
    },
    {
     "name": "stdout",
     "output_type": "stream",
     "text": [
      "/home/hanliu/project/mouse_rostral_brain/DMR/ITSpatial_by_region/AI/MotifScan.h5adtemp/MA0655.1.meme, N motif total=27032\n"
     ]
    },
    {
     "name": "stderr",
     "output_type": "stream",
     "text": [
      "/home/hanliu/miniconda3/envs/clustering/lib/python3.7/site-packages/ALLCools/dmr/fimo.py:60: FutureWarning: to_msgpack is deprecated and will be removed in a future version.\n",
      "It is recommended to use pyarrow for on-the-wire transmission of pandas objects.\n",
      "  final_df.to_msgpack(output_path, compress='zlib')\n"
     ]
    },
    {
     "name": "stdout",
     "output_type": "stream",
     "text": [
      "/home/hanliu/project/mouse_rostral_brain/DMR/ITSpatial_by_region/AI/MotifScan.h5adtemp/MA0654.1.meme, N motif total=13158\n"
     ]
    },
    {
     "name": "stderr",
     "output_type": "stream",
     "text": [
      "/home/hanliu/miniconda3/envs/clustering/lib/python3.7/site-packages/ALLCools/dmr/fimo.py:60: FutureWarning: to_msgpack is deprecated and will be removed in a future version.\n",
      "It is recommended to use pyarrow for on-the-wire transmission of pandas objects.\n",
      "  final_df.to_msgpack(output_path, compress='zlib')\n"
     ]
    },
    {
     "name": "stdout",
     "output_type": "stream",
     "text": [
      "/home/hanliu/project/mouse_rostral_brain/DMR/ITSpatial_by_region/AI/MotifScan.h5adtemp/MA0652.1.meme, N motif total=1978\n"
     ]
    },
    {
     "name": "stderr",
     "output_type": "stream",
     "text": [
      "/home/hanliu/miniconda3/envs/clustering/lib/python3.7/site-packages/ALLCools/dmr/fimo.py:60: FutureWarning: to_msgpack is deprecated and will be removed in a future version.\n",
      "It is recommended to use pyarrow for on-the-wire transmission of pandas objects.\n",
      "  final_df.to_msgpack(output_path, compress='zlib')\n"
     ]
    },
    {
     "name": "stdout",
     "output_type": "stream",
     "text": [
      "/home/hanliu/project/mouse_rostral_brain/DMR/ITSpatial_by_region/AI/MotifScan.h5adtemp/MA0656.1.meme, N motif total=12591\n"
     ]
    },
    {
     "name": "stderr",
     "output_type": "stream",
     "text": [
      "/home/hanliu/miniconda3/envs/clustering/lib/python3.7/site-packages/ALLCools/dmr/fimo.py:60: FutureWarning: to_msgpack is deprecated and will be removed in a future version.\n",
      "It is recommended to use pyarrow for on-the-wire transmission of pandas objects.\n",
      "  final_df.to_msgpack(output_path, compress='zlib')\n"
     ]
    },
    {
     "name": "stdout",
     "output_type": "stream",
     "text": [
      "/home/hanliu/project/mouse_rostral_brain/DMR/ITSpatial_by_region/AI/MotifScan.h5adtemp/MA0772.1.meme, N motif total=36172\n"
     ]
    },
    {
     "name": "stderr",
     "output_type": "stream",
     "text": [
      "/home/hanliu/miniconda3/envs/clustering/lib/python3.7/site-packages/ALLCools/dmr/fimo.py:60: FutureWarning: to_msgpack is deprecated and will be removed in a future version.\n",
      "It is recommended to use pyarrow for on-the-wire transmission of pandas objects.\n",
      "  final_df.to_msgpack(output_path, compress='zlib')\n"
     ]
    },
    {
     "name": "stdout",
     "output_type": "stream",
     "text": [
      "/home/hanliu/project/mouse_rostral_brain/DMR/ITSpatial_by_region/AI/MotifScan.h5adtemp/MA1132.1.meme, N motif total=19202\n"
     ]
    },
    {
     "name": "stderr",
     "output_type": "stream",
     "text": [
      "/home/hanliu/miniconda3/envs/clustering/lib/python3.7/site-packages/ALLCools/dmr/fimo.py:60: FutureWarning: to_msgpack is deprecated and will be removed in a future version.\n",
      "It is recommended to use pyarrow for on-the-wire transmission of pandas objects.\n",
      "  final_df.to_msgpack(output_path, compress='zlib')\n"
     ]
    },
    {
     "name": "stdout",
     "output_type": "stream",
     "text": [
      "/home/hanliu/project/mouse_rostral_brain/DMR/ITSpatial_by_region/AI/MotifScan.h5adtemp/MA0653.1.meme, N motif total=2333\n"
     ]
    },
    {
     "name": "stderr",
     "output_type": "stream",
     "text": [
      "/home/hanliu/miniconda3/envs/clustering/lib/python3.7/site-packages/ALLCools/dmr/fimo.py:60: FutureWarning: to_msgpack is deprecated and will be removed in a future version.\n",
      "It is recommended to use pyarrow for on-the-wire transmission of pandas objects.\n",
      "  final_df.to_msgpack(output_path, compress='zlib')\n"
     ]
    },
    {
     "name": "stdout",
     "output_type": "stream",
     "text": [
      "/home/hanliu/project/mouse_rostral_brain/DMR/ITSpatial_by_region/AI/MotifScan.h5adtemp/MA0050.2.meme, N motif total=143669\n"
     ]
    },
    {
     "name": "stderr",
     "output_type": "stream",
     "text": [
      "/home/hanliu/miniconda3/envs/clustering/lib/python3.7/site-packages/ALLCools/dmr/fimo.py:60: FutureWarning: to_msgpack is deprecated and will be removed in a future version.\n",
      "It is recommended to use pyarrow for on-the-wire transmission of pandas objects.\n",
      "  final_df.to_msgpack(output_path, compress='zlib')\n"
     ]
    },
    {
     "name": "stdout",
     "output_type": "stream",
     "text": [
      "/home/hanliu/project/mouse_rostral_brain/DMR/ITSpatial_by_region/AI/MotifScan.h5adtemp/MA1418.1.meme, N motif total=14219\n"
     ]
    },
    {
     "name": "stderr",
     "output_type": "stream",
     "text": [
      "/home/hanliu/miniconda3/envs/clustering/lib/python3.7/site-packages/ALLCools/dmr/fimo.py:60: FutureWarning: to_msgpack is deprecated and will be removed in a future version.\n",
      "It is recommended to use pyarrow for on-the-wire transmission of pandas objects.\n",
      "  final_df.to_msgpack(output_path, compress='zlib')\n"
     ]
    },
    {
     "name": "stdout",
     "output_type": "stream",
     "text": [
      "/home/hanliu/project/mouse_rostral_brain/DMR/ITSpatial_by_region/AI/MotifScan.h5adtemp/MA0488.1.meme, N motif total=22093\n"
     ]
    },
    {
     "name": "stderr",
     "output_type": "stream",
     "text": [
      "/home/hanliu/miniconda3/envs/clustering/lib/python3.7/site-packages/ALLCools/dmr/fimo.py:60: FutureWarning: to_msgpack is deprecated and will be removed in a future version.\n",
      "It is recommended to use pyarrow for on-the-wire transmission of pandas objects.\n",
      "  final_df.to_msgpack(output_path, compress='zlib')\n"
     ]
    },
    {
     "name": "stdout",
     "output_type": "stream",
     "text": [
      "/home/hanliu/project/mouse_rostral_brain/DMR/ITSpatial_by_region/AI/MotifScan.h5adtemp/MA1140.2.meme, N motif total=8166\n"
     ]
    },
    {
     "name": "stderr",
     "output_type": "stream",
     "text": [
      "/home/hanliu/miniconda3/envs/clustering/lib/python3.7/site-packages/ALLCools/dmr/fimo.py:60: FutureWarning: to_msgpack is deprecated and will be removed in a future version.\n",
      "It is recommended to use pyarrow for on-the-wire transmission of pandas objects.\n",
      "  final_df.to_msgpack(output_path, compress='zlib')\n"
     ]
    },
    {
     "name": "stdout",
     "output_type": "stream",
     "text": [
      "/home/hanliu/project/mouse_rostral_brain/DMR/ITSpatial_by_region/AI/MotifScan.h5adtemp/MA0490.2.meme, N motif total=31534\n"
     ]
    },
    {
     "name": "stderr",
     "output_type": "stream",
     "text": [
      "/home/hanliu/miniconda3/envs/clustering/lib/python3.7/site-packages/ALLCools/dmr/fimo.py:60: FutureWarning: to_msgpack is deprecated and will be removed in a future version.\n",
      "It is recommended to use pyarrow for on-the-wire transmission of pandas objects.\n",
      "  final_df.to_msgpack(output_path, compress='zlib')\n"
     ]
    },
    {
     "name": "stdout",
     "output_type": "stream",
     "text": [
      "/home/hanliu/project/mouse_rostral_brain/DMR/ITSpatial_by_region/AI/MotifScan.h5adtemp/MA1512.1.meme, N motif total=51697\n"
     ]
    },
    {
     "name": "stderr",
     "output_type": "stream",
     "text": [
      "/home/hanliu/miniconda3/envs/clustering/lib/python3.7/site-packages/ALLCools/dmr/fimo.py:60: FutureWarning: to_msgpack is deprecated and will be removed in a future version.\n",
      "It is recommended to use pyarrow for on-the-wire transmission of pandas objects.\n",
      "  final_df.to_msgpack(output_path, compress='zlib')\n"
     ]
    },
    {
     "name": "stdout",
     "output_type": "stream",
     "text": [
      "/home/hanliu/project/mouse_rostral_brain/DMR/ITSpatial_by_region/AI/MotifScan.h5adtemp/MA1511.1.meme, N motif total=48280\n"
     ]
    },
    {
     "name": "stderr",
     "output_type": "stream",
     "text": [
      "/home/hanliu/miniconda3/envs/clustering/lib/python3.7/site-packages/ALLCools/dmr/fimo.py:60: FutureWarning: to_msgpack is deprecated and will be removed in a future version.\n",
      "It is recommended to use pyarrow for on-the-wire transmission of pandas objects.\n",
      "  final_df.to_msgpack(output_path, compress='zlib')\n"
     ]
    },
    {
     "name": "stdout",
     "output_type": "stream",
     "text": [
      "/home/hanliu/project/mouse_rostral_brain/DMR/ITSpatial_by_region/AI/MotifScan.h5adtemp/MA1133.1.meme, N motif total=11719\n"
     ]
    },
    {
     "name": "stderr",
     "output_type": "stream",
     "text": [
      "/home/hanliu/miniconda3/envs/clustering/lib/python3.7/site-packages/ALLCools/dmr/fimo.py:60: FutureWarning: to_msgpack is deprecated and will be removed in a future version.\n",
      "It is recommended to use pyarrow for on-the-wire transmission of pandas objects.\n",
      "  final_df.to_msgpack(output_path, compress='zlib')\n"
     ]
    },
    {
     "name": "stdout",
     "output_type": "stream",
     "text": [
      "/home/hanliu/project/mouse_rostral_brain/DMR/ITSpatial_by_region/AI/MotifScan.h5adtemp/MA0489.1.meme, N motif total=33277\n"
     ]
    },
    {
     "name": "stderr",
     "output_type": "stream",
     "text": [
      "/home/hanliu/miniconda3/envs/clustering/lib/python3.7/site-packages/ALLCools/dmr/fimo.py:60: FutureWarning: to_msgpack is deprecated and will be removed in a future version.\n",
      "It is recommended to use pyarrow for on-the-wire transmission of pandas objects.\n",
      "  final_df.to_msgpack(output_path, compress='zlib')\n"
     ]
    },
    {
     "name": "stdout",
     "output_type": "stream",
     "text": [
      "/home/hanliu/project/mouse_rostral_brain/DMR/ITSpatial_by_region/AI/MotifScan.h5adtemp/MA0493.1.meme, N motif total=48212\n"
     ]
    },
    {
     "name": "stderr",
     "output_type": "stream",
     "text": [
      "/home/hanliu/miniconda3/envs/clustering/lib/python3.7/site-packages/ALLCools/dmr/fimo.py:60: FutureWarning: to_msgpack is deprecated and will be removed in a future version.\n",
      "It is recommended to use pyarrow for on-the-wire transmission of pandas objects.\n",
      "  final_df.to_msgpack(output_path, compress='zlib')\n"
     ]
    },
    {
     "name": "stdout",
     "output_type": "stream",
     "text": [
      "/home/hanliu/project/mouse_rostral_brain/DMR/ITSpatial_by_region/AI/MotifScan.h5adtemp/MA0492.1.meme, N motif total=21766\n"
     ]
    },
    {
     "name": "stderr",
     "output_type": "stream",
     "text": [
      "/home/hanliu/miniconda3/envs/clustering/lib/python3.7/site-packages/ALLCools/dmr/fimo.py:60: FutureWarning: to_msgpack is deprecated and will be removed in a future version.\n",
      "It is recommended to use pyarrow for on-the-wire transmission of pandas objects.\n",
      "  final_df.to_msgpack(output_path, compress='zlib')\n"
     ]
    },
    {
     "name": "stdout",
     "output_type": "stream",
     "text": [
      "/home/hanliu/project/mouse_rostral_brain/DMR/ITSpatial_by_region/AI/MotifScan.h5adtemp/MA0491.2.meme, N motif total=30902\n"
     ]
    },
    {
     "name": "stderr",
     "output_type": "stream",
     "text": [
      "/home/hanliu/miniconda3/envs/clustering/lib/python3.7/site-packages/ALLCools/dmr/fimo.py:60: FutureWarning: to_msgpack is deprecated and will be removed in a future version.\n",
      "It is recommended to use pyarrow for on-the-wire transmission of pandas objects.\n",
      "  final_df.to_msgpack(output_path, compress='zlib')\n"
     ]
    },
    {
     "name": "stdout",
     "output_type": "stream",
     "text": [
      "/home/hanliu/project/mouse_rostral_brain/DMR/ITSpatial_by_region/AI/MotifScan.h5adtemp/MA1513.1.meme, N motif total=12296\n"
     ]
    },
    {
     "name": "stderr",
     "output_type": "stream",
     "text": [
      "/home/hanliu/miniconda3/envs/clustering/lib/python3.7/site-packages/ALLCools/dmr/fimo.py:60: FutureWarning: to_msgpack is deprecated and will be removed in a future version.\n",
      "It is recommended to use pyarrow for on-the-wire transmission of pandas objects.\n",
      "  final_df.to_msgpack(output_path, compress='zlib')\n"
     ]
    },
    {
     "name": "stdout",
     "output_type": "stream",
     "text": [
      "Finish count 300 motifs.\n"
     ]
    },
    {
     "name": "stdout",
     "output_type": "stream",
     "text": [
      "/home/hanliu/project/mouse_rostral_brain/DMR/ITSpatial_by_region/AI/MotifScan.h5adtemp/MA1516.1.meme, N motif total=21678\n"
     ]
    },
    {
     "name": "stderr",
     "output_type": "stream",
     "text": [
      "/home/hanliu/miniconda3/envs/clustering/lib/python3.7/site-packages/ALLCools/dmr/fimo.py:60: FutureWarning: to_msgpack is deprecated and will be removed in a future version.\n",
      "It is recommended to use pyarrow for on-the-wire transmission of pandas objects.\n",
      "  final_df.to_msgpack(output_path, compress='zlib')\n"
     ]
    },
    {
     "name": "stdout",
     "output_type": "stream",
     "text": [
      "/home/hanliu/project/mouse_rostral_brain/DMR/ITSpatial_by_region/AI/MotifScan.h5adtemp/MA1515.1.meme, N motif total=48430\n"
     ]
    },
    {
     "name": "stderr",
     "output_type": "stream",
     "text": [
      "/home/hanliu/miniconda3/envs/clustering/lib/python3.7/site-packages/ALLCools/dmr/fimo.py:60: FutureWarning: to_msgpack is deprecated and will be removed in a future version.\n",
      "It is recommended to use pyarrow for on-the-wire transmission of pandas objects.\n",
      "  final_df.to_msgpack(output_path, compress='zlib')\n"
     ]
    },
    {
     "name": "stdout",
     "output_type": "stream",
     "text": [
      "/home/hanliu/project/mouse_rostral_brain/DMR/ITSpatial_by_region/AI/MotifScan.h5adtemp/MA0740.1.meme, N motif total=28072\n"
     ]
    },
    {
     "name": "stderr",
     "output_type": "stream",
     "text": [
      "/home/hanliu/miniconda3/envs/clustering/lib/python3.7/site-packages/ALLCools/dmr/fimo.py:60: FutureWarning: to_msgpack is deprecated and will be removed in a future version.\n",
      "It is recommended to use pyarrow for on-the-wire transmission of pandas objects.\n",
      "  final_df.to_msgpack(output_path, compress='zlib')\n"
     ]
    },
    {
     "name": "stdout",
     "output_type": "stream",
     "text": [
      "/home/hanliu/project/mouse_rostral_brain/DMR/ITSpatial_by_region/AI/MotifScan.h5adtemp/MA0741.1.meme, N motif total=79953\n"
     ]
    },
    {
     "name": "stderr",
     "output_type": "stream",
     "text": [
      "/home/hanliu/miniconda3/envs/clustering/lib/python3.7/site-packages/ALLCools/dmr/fimo.py:60: FutureWarning: to_msgpack is deprecated and will be removed in a future version.\n",
      "It is recommended to use pyarrow for on-the-wire transmission of pandas objects.\n",
      "  final_df.to_msgpack(output_path, compress='zlib')\n"
     ]
    },
    {
     "name": "stdout",
     "output_type": "stream",
     "text": [
      "/home/hanliu/project/mouse_rostral_brain/DMR/ITSpatial_by_region/AI/MotifScan.h5adtemp/MA0657.1.meme, N motif total=7333\n"
     ]
    },
    {
     "name": "stderr",
     "output_type": "stream",
     "text": [
      "/home/hanliu/miniconda3/envs/clustering/lib/python3.7/site-packages/ALLCools/dmr/fimo.py:60: FutureWarning: to_msgpack is deprecated and will be removed in a future version.\n",
      "It is recommended to use pyarrow for on-the-wire transmission of pandas objects.\n",
      "  final_df.to_msgpack(output_path, compress='zlib')\n"
     ]
    },
    {
     "name": "stdout",
     "output_type": "stream",
     "text": [
      "/home/hanliu/project/mouse_rostral_brain/DMR/ITSpatial_by_region/AI/MotifScan.h5adtemp/MA0742.1.meme, N motif total=26860\n"
     ]
    },
    {
     "name": "stderr",
     "output_type": "stream",
     "text": [
      "/home/hanliu/miniconda3/envs/clustering/lib/python3.7/site-packages/ALLCools/dmr/fimo.py:60: FutureWarning: to_msgpack is deprecated and will be removed in a future version.\n",
      "It is recommended to use pyarrow for on-the-wire transmission of pandas objects.\n",
      "  final_df.to_msgpack(output_path, compress='zlib')\n"
     ]
    },
    {
     "name": "stdout",
     "output_type": "stream",
     "text": [
      "/home/hanliu/project/mouse_rostral_brain/DMR/ITSpatial_by_region/AI/MotifScan.h5adtemp/MA1514.1.meme, N motif total=61761\n"
     ]
    },
    {
     "name": "stderr",
     "output_type": "stream",
     "text": [
      "/home/hanliu/miniconda3/envs/clustering/lib/python3.7/site-packages/ALLCools/dmr/fimo.py:60: FutureWarning: to_msgpack is deprecated and will be removed in a future version.\n",
      "It is recommended to use pyarrow for on-the-wire transmission of pandas objects.\n",
      "  final_df.to_msgpack(output_path, compress='zlib')\n"
     ]
    },
    {
     "name": "stdout",
     "output_type": "stream",
     "text": [
      "/home/hanliu/project/mouse_rostral_brain/DMR/ITSpatial_by_region/AI/MotifScan.h5adtemp/MA0618.1.meme, N motif total=14795\n"
     ]
    },
    {
     "name": "stderr",
     "output_type": "stream",
     "text": [
      "/home/hanliu/miniconda3/envs/clustering/lib/python3.7/site-packages/ALLCools/dmr/fimo.py:60: FutureWarning: to_msgpack is deprecated and will be removed in a future version.\n",
      "It is recommended to use pyarrow for on-the-wire transmission of pandas objects.\n",
      "  final_df.to_msgpack(output_path, compress='zlib')\n"
     ]
    },
    {
     "name": "stdout",
     "output_type": "stream",
     "text": [
      "/home/hanliu/project/mouse_rostral_brain/DMR/ITSpatial_by_region/AI/MotifScan.h5adtemp/MA0039.4.meme, N motif total=84893\n"
     ]
    },
    {
     "name": "stderr",
     "output_type": "stream",
     "text": [
      "/home/hanliu/miniconda3/envs/clustering/lib/python3.7/site-packages/ALLCools/dmr/fimo.py:60: FutureWarning: to_msgpack is deprecated and will be removed in a future version.\n",
      "It is recommended to use pyarrow for on-the-wire transmission of pandas objects.\n",
      "  final_df.to_msgpack(output_path, compress='zlib')\n"
     ]
    },
    {
     "name": "stdout",
     "output_type": "stream",
     "text": [
      "/home/hanliu/project/mouse_rostral_brain/DMR/ITSpatial_by_region/AI/MotifScan.h5adtemp/MA1517.1.meme, N motif total=33818\n"
     ]
    },
    {
     "name": "stderr",
     "output_type": "stream",
     "text": [
      "/home/hanliu/miniconda3/envs/clustering/lib/python3.7/site-packages/ALLCools/dmr/fimo.py:60: FutureWarning: to_msgpack is deprecated and will be removed in a future version.\n",
      "It is recommended to use pyarrow for on-the-wire transmission of pandas objects.\n",
      "  final_df.to_msgpack(output_path, compress='zlib')\n"
     ]
    },
    {
     "name": "stdout",
     "output_type": "stream",
     "text": [
      "/home/hanliu/project/mouse_rostral_brain/DMR/ITSpatial_by_region/AI/MotifScan.h5adtemp/MA1518.1.meme, N motif total=9994\n"
     ]
    },
    {
     "name": "stderr",
     "output_type": "stream",
     "text": [
      "/home/hanliu/miniconda3/envs/clustering/lib/python3.7/site-packages/ALLCools/dmr/fimo.py:60: FutureWarning: to_msgpack is deprecated and will be removed in a future version.\n",
      "It is recommended to use pyarrow for on-the-wire transmission of pandas objects.\n",
      "  final_df.to_msgpack(output_path, compress='zlib')\n"
     ]
    },
    {
     "name": "stdout",
     "output_type": "stream",
     "text": [
      "/home/hanliu/project/mouse_rostral_brain/DMR/ITSpatial_by_region/AI/MotifScan.h5adtemp/MA0599.1.meme, N motif total=84706\n"
     ]
    },
    {
     "name": "stderr",
     "output_type": "stream",
     "text": [
      "/home/hanliu/miniconda3/envs/clustering/lib/python3.7/site-packages/ALLCools/dmr/fimo.py:60: FutureWarning: to_msgpack is deprecated and will be removed in a future version.\n",
      "It is recommended to use pyarrow for on-the-wire transmission of pandas objects.\n",
      "  final_df.to_msgpack(output_path, compress='zlib')\n"
     ]
    },
    {
     "name": "stdout",
     "output_type": "stream",
     "text": [
      "/home/hanliu/project/mouse_rostral_brain/DMR/ITSpatial_by_region/AI/MotifScan.h5adtemp/MA0699.1.meme, N motif total=12709\n"
     ]
    },
    {
     "name": "stderr",
     "output_type": "stream",
     "text": [
      "/home/hanliu/miniconda3/envs/clustering/lib/python3.7/site-packages/ALLCools/dmr/fimo.py:60: FutureWarning: to_msgpack is deprecated and will be removed in a future version.\n",
      "It is recommended to use pyarrow for on-the-wire transmission of pandas objects.\n",
      "  final_df.to_msgpack(output_path, compress='zlib')\n"
     ]
    },
    {
     "name": "stdout",
     "output_type": "stream",
     "text": [
      "/home/hanliu/project/mouse_rostral_brain/DMR/ITSpatial_by_region/AI/MotifScan.h5adtemp/MA0704.1.meme, N motif total=18272\n"
     ]
    },
    {
     "name": "stderr",
     "output_type": "stream",
     "text": [
      "/home/hanliu/miniconda3/envs/clustering/lib/python3.7/site-packages/ALLCools/dmr/fimo.py:60: FutureWarning: to_msgpack is deprecated and will be removed in a future version.\n",
      "It is recommended to use pyarrow for on-the-wire transmission of pandas objects.\n",
      "  final_df.to_msgpack(output_path, compress='zlib')\n"
     ]
    },
    {
     "name": "stdout",
     "output_type": "stream",
     "text": [
      "/home/hanliu/project/mouse_rostral_brain/DMR/ITSpatial_by_region/AI/MotifScan.h5adtemp/MA0700.2.meme, N motif total=14148\n"
     ]
    },
    {
     "name": "stderr",
     "output_type": "stream",
     "text": [
      "/home/hanliu/miniconda3/envs/clustering/lib/python3.7/site-packages/ALLCools/dmr/fimo.py:60: FutureWarning: to_msgpack is deprecated and will be removed in a future version.\n",
      "It is recommended to use pyarrow for on-the-wire transmission of pandas objects.\n",
      "  final_df.to_msgpack(output_path, compress='zlib')\n"
     ]
    },
    {
     "name": "stdout",
     "output_type": "stream",
     "text": [
      "/home/hanliu/project/mouse_rostral_brain/DMR/ITSpatial_by_region/AI/MotifScan.h5adtemp/MA0705.1.meme, N motif total=12727\n"
     ]
    },
    {
     "name": "stderr",
     "output_type": "stream",
     "text": [
      "/home/hanliu/miniconda3/envs/clustering/lib/python3.7/site-packages/ALLCools/dmr/fimo.py:60: FutureWarning: to_msgpack is deprecated and will be removed in a future version.\n",
      "It is recommended to use pyarrow for on-the-wire transmission of pandas objects.\n",
      "  final_df.to_msgpack(output_path, compress='zlib')\n"
     ]
    },
    {
     "name": "stdout",
     "output_type": "stream",
     "text": [
      "/home/hanliu/project/mouse_rostral_brain/DMR/ITSpatial_by_region/AI/MotifScan.h5adtemp/MA1519.1.meme, N motif total=14041\n"
     ]
    },
    {
     "name": "stderr",
     "output_type": "stream",
     "text": [
      "/home/hanliu/miniconda3/envs/clustering/lib/python3.7/site-packages/ALLCools/dmr/fimo.py:60: FutureWarning: to_msgpack is deprecated and will be removed in a future version.\n",
      "It is recommended to use pyarrow for on-the-wire transmission of pandas objects.\n",
      "  final_df.to_msgpack(output_path, compress='zlib')\n"
     ]
    },
    {
     "name": "stdout",
     "output_type": "stream",
     "text": [
      "/home/hanliu/project/mouse_rostral_brain/DMR/ITSpatial_by_region/AI/MotifScan.h5adtemp/MA0701.2.meme, N motif total=13158\n"
     ]
    },
    {
     "name": "stderr",
     "output_type": "stream",
     "text": [
      "/home/hanliu/miniconda3/envs/clustering/lib/python3.7/site-packages/ALLCools/dmr/fimo.py:60: FutureWarning: to_msgpack is deprecated and will be removed in a future version.\n",
      "It is recommended to use pyarrow for on-the-wire transmission of pandas objects.\n",
      "  final_df.to_msgpack(output_path, compress='zlib')\n"
     ]
    },
    {
     "name": "stdout",
     "output_type": "stream",
     "text": [
      "/home/hanliu/project/mouse_rostral_brain/DMR/ITSpatial_by_region/AI/MotifScan.h5adtemp/MA0768.1.meme, N motif total=34474\n"
     ]
    },
    {
     "name": "stderr",
     "output_type": "stream",
     "text": [
      "/home/hanliu/miniconda3/envs/clustering/lib/python3.7/site-packages/ALLCools/dmr/fimo.py:60: FutureWarning: to_msgpack is deprecated and will be removed in a future version.\n",
      "It is recommended to use pyarrow for on-the-wire transmission of pandas objects.\n",
      "  final_df.to_msgpack(output_path, compress='zlib')\n"
     ]
    },
    {
     "name": "stdout",
     "output_type": "stream",
     "text": [
      "/home/hanliu/project/mouse_rostral_brain/DMR/ITSpatial_by_region/AI/MotifScan.h5adtemp/MA0702.2.meme, N motif total=14914\n"
     ]
    },
    {
     "name": "stderr",
     "output_type": "stream",
     "text": [
      "/home/hanliu/miniconda3/envs/clustering/lib/python3.7/site-packages/ALLCools/dmr/fimo.py:60: FutureWarning: to_msgpack is deprecated and will be removed in a future version.\n",
      "It is recommended to use pyarrow for on-the-wire transmission of pandas objects.\n",
      "  final_df.to_msgpack(output_path, compress='zlib')\n"
     ]
    },
    {
     "name": "stdout",
     "output_type": "stream",
     "text": [
      "/home/hanliu/project/mouse_rostral_brain/DMR/ITSpatial_by_region/AI/MotifScan.h5adtemp/MA0619.1.meme, N motif total=33737\n"
     ]
    },
    {
     "name": "stderr",
     "output_type": "stream",
     "text": [
      "/home/hanliu/miniconda3/envs/clustering/lib/python3.7/site-packages/ALLCools/dmr/fimo.py:60: FutureWarning: to_msgpack is deprecated and will be removed in a future version.\n",
      "It is recommended to use pyarrow for on-the-wire transmission of pandas objects.\n",
      "  final_df.to_msgpack(output_path, compress='zlib')\n"
     ]
    },
    {
     "name": "stdout",
     "output_type": "stream",
     "text": [
      "/home/hanliu/project/mouse_rostral_brain/DMR/ITSpatial_by_region/AI/MotifScan.h5adtemp/MA0658.1.meme, N motif total=13593\n"
     ]
    },
    {
     "name": "stderr",
     "output_type": "stream",
     "text": [
      "/home/hanliu/miniconda3/envs/clustering/lib/python3.7/site-packages/ALLCools/dmr/fimo.py:60: FutureWarning: to_msgpack is deprecated and will be removed in a future version.\n",
      "It is recommended to use pyarrow for on-the-wire transmission of pandas objects.\n",
      "  final_df.to_msgpack(output_path, compress='zlib')\n"
     ]
    },
    {
     "name": "stdout",
     "output_type": "stream",
     "text": [
      "/home/hanliu/project/mouse_rostral_brain/DMR/ITSpatial_by_region/AI/MotifScan.h5adtemp/MA1107.2.meme, N motif total=226382\n"
     ]
    },
    {
     "name": "stderr",
     "output_type": "stream",
     "text": [
      "/home/hanliu/miniconda3/envs/clustering/lib/python3.7/site-packages/ALLCools/dmr/fimo.py:60: FutureWarning: to_msgpack is deprecated and will be removed in a future version.\n",
      "It is recommended to use pyarrow for on-the-wire transmission of pandas objects.\n",
      "  final_df.to_msgpack(output_path, compress='zlib')\n"
     ]
    },
    {
     "name": "stdout",
     "output_type": "stream",
     "text": [
      "/home/hanliu/project/mouse_rostral_brain/DMR/ITSpatial_by_region/AI/MotifScan.h5adtemp/MA0703.2.meme, N motif total=22875\n"
     ]
    },
    {
     "name": "stderr",
     "output_type": "stream",
     "text": [
      "/home/hanliu/miniconda3/envs/clustering/lib/python3.7/site-packages/ALLCools/dmr/fimo.py:60: FutureWarning: to_msgpack is deprecated and will be removed in a future version.\n",
      "It is recommended to use pyarrow for on-the-wire transmission of pandas objects.\n",
      "  final_df.to_msgpack(output_path, compress='zlib')\n"
     ]
    },
    {
     "name": "stdout",
     "output_type": "stream",
     "text": [
      "/home/hanliu/project/mouse_rostral_brain/DMR/ITSpatial_by_region/AI/MotifScan.h5adtemp/MA0135.1.meme, N motif total=27351\n"
     ]
    },
    {
     "name": "stderr",
     "output_type": "stream",
     "text": [
      "/home/hanliu/miniconda3/envs/clustering/lib/python3.7/site-packages/ALLCools/dmr/fimo.py:60: FutureWarning: to_msgpack is deprecated and will be removed in a future version.\n",
      "It is recommended to use pyarrow for on-the-wire transmission of pandas objects.\n",
      "  final_df.to_msgpack(output_path, compress='zlib')\n"
     ]
    },
    {
     "name": "stdout",
     "output_type": "stream",
     "text": [
      "/home/hanliu/project/mouse_rostral_brain/DMR/ITSpatial_by_region/AI/MotifScan.h5adtemp/MA1520.1.meme, N motif total=29474\n"
     ]
    },
    {
     "name": "stderr",
     "output_type": "stream",
     "text": [
      "/home/hanliu/miniconda3/envs/clustering/lib/python3.7/site-packages/ALLCools/dmr/fimo.py:60: FutureWarning: to_msgpack is deprecated and will be removed in a future version.\n",
      "It is recommended to use pyarrow for on-the-wire transmission of pandas objects.\n",
      "  final_df.to_msgpack(output_path, compress='zlib')\n"
     ]
    },
    {
     "name": "stdout",
     "output_type": "stream",
     "text": [
      "/home/hanliu/project/mouse_rostral_brain/DMR/ITSpatial_by_region/AI/MotifScan.h5adtemp/MA0501.1.meme, N motif total=27213\n"
     ]
    },
    {
     "name": "stderr",
     "output_type": "stream",
     "text": [
      "/home/hanliu/miniconda3/envs/clustering/lib/python3.7/site-packages/ALLCools/dmr/fimo.py:60: FutureWarning: to_msgpack is deprecated and will be removed in a future version.\n",
      "It is recommended to use pyarrow for on-the-wire transmission of pandas objects.\n",
      "  final_df.to_msgpack(output_path, compress='zlib')\n"
     ]
    },
    {
     "name": "stdout",
     "output_type": "stream",
     "text": [
      "/home/hanliu/project/mouse_rostral_brain/DMR/ITSpatial_by_region/AI/MotifScan.h5adtemp/MA0059.1.meme, N motif total=22536\n"
     ]
    },
    {
     "name": "stderr",
     "output_type": "stream",
     "text": [
      "/home/hanliu/miniconda3/envs/clustering/lib/python3.7/site-packages/ALLCools/dmr/fimo.py:60: FutureWarning: to_msgpack is deprecated and will be removed in a future version.\n",
      "It is recommended to use pyarrow for on-the-wire transmission of pandas objects.\n",
      "  final_df.to_msgpack(output_path, compress='zlib')\n"
     ]
    },
    {
     "name": "stdout",
     "output_type": "stream",
     "text": [
      "/home/hanliu/project/mouse_rostral_brain/DMR/ITSpatial_by_region/AI/MotifScan.h5adtemp/MA0058.3.meme, N motif total=16602\n"
     ]
    },
    {
     "name": "stderr",
     "output_type": "stream",
     "text": [
      "/home/hanliu/miniconda3/envs/clustering/lib/python3.7/site-packages/ALLCools/dmr/fimo.py:60: FutureWarning: to_msgpack is deprecated and will be removed in a future version.\n",
      "It is recommended to use pyarrow for on-the-wire transmission of pandas objects.\n",
      "  final_df.to_msgpack(output_path, compress='zlib')\n"
     ]
    },
    {
     "name": "stdout",
     "output_type": "stream",
     "text": [
      "/home/hanliu/project/mouse_rostral_brain/DMR/ITSpatial_by_region/AI/MotifScan.h5adtemp/MA0498.2.meme, N motif total=15754\n"
     ]
    },
    {
     "name": "stderr",
     "output_type": "stream",
     "text": [
      "/home/hanliu/miniconda3/envs/clustering/lib/python3.7/site-packages/ALLCools/dmr/fimo.py:60: FutureWarning: to_msgpack is deprecated and will be removed in a future version.\n",
      "It is recommended to use pyarrow for on-the-wire transmission of pandas objects.\n",
      "  final_df.to_msgpack(output_path, compress='zlib')\n"
     ]
    },
    {
     "name": "stdout",
     "output_type": "stream",
     "text": [
      "/home/hanliu/project/mouse_rostral_brain/DMR/ITSpatial_by_region/AI/MotifScan.h5adtemp/MA0117.2.meme, N motif total=23724\n"
     ]
    },
    {
     "name": "stderr",
     "output_type": "stream",
     "text": [
      "/home/hanliu/miniconda3/envs/clustering/lib/python3.7/site-packages/ALLCools/dmr/fimo.py:60: FutureWarning: to_msgpack is deprecated and will be removed in a future version.\n",
      "It is recommended to use pyarrow for on-the-wire transmission of pandas objects.\n",
      "  final_df.to_msgpack(output_path, compress='zlib')\n"
     ]
    },
    {
     "name": "stdout",
     "output_type": "stream",
     "text": [
      "/home/hanliu/project/mouse_rostral_brain/DMR/ITSpatial_by_region/AI/MotifScan.h5adtemp/MA1522.1.meme, N motif total=41724\n"
     ]
    },
    {
     "name": "stderr",
     "output_type": "stream",
     "text": [
      "/home/hanliu/miniconda3/envs/clustering/lib/python3.7/site-packages/ALLCools/dmr/fimo.py:60: FutureWarning: to_msgpack is deprecated and will be removed in a future version.\n",
      "It is recommended to use pyarrow for on-the-wire transmission of pandas objects.\n",
      "  final_df.to_msgpack(output_path, compress='zlib')\n"
     ]
    },
    {
     "name": "stdout",
     "output_type": "stream",
     "text": [
      "/home/hanliu/project/mouse_rostral_brain/DMR/ITSpatial_by_region/AI/MotifScan.h5adtemp/MA0659.2.meme, N motif total=31252\n"
     ]
    },
    {
     "name": "stderr",
     "output_type": "stream",
     "text": [
      "/home/hanliu/miniconda3/envs/clustering/lib/python3.7/site-packages/ALLCools/dmr/fimo.py:60: FutureWarning: to_msgpack is deprecated and will be removed in a future version.\n",
      "It is recommended to use pyarrow for on-the-wire transmission of pandas objects.\n",
      "  final_df.to_msgpack(output_path, compress='zlib')\n"
     ]
    },
    {
     "name": "stdout",
     "output_type": "stream",
     "text": [
      "/home/hanliu/project/mouse_rostral_brain/DMR/ITSpatial_by_region/AI/MotifScan.h5adtemp/MA0496.3.meme, N motif total=41527\n"
     ]
    },
    {
     "name": "stderr",
     "output_type": "stream",
     "text": [
      "/home/hanliu/miniconda3/envs/clustering/lib/python3.7/site-packages/ALLCools/dmr/fimo.py:60: FutureWarning: to_msgpack is deprecated and will be removed in a future version.\n",
      "It is recommended to use pyarrow for on-the-wire transmission of pandas objects.\n",
      "  final_df.to_msgpack(output_path, compress='zlib')\n"
     ]
    },
    {
     "name": "stdout",
     "output_type": "stream",
     "text": [
      "/home/hanliu/project/mouse_rostral_brain/DMR/ITSpatial_by_region/AI/MotifScan.h5adtemp/MA0029.1.meme, N motif total=24269\n"
     ]
    },
    {
     "name": "stderr",
     "output_type": "stream",
     "text": [
      "/home/hanliu/miniconda3/envs/clustering/lib/python3.7/site-packages/ALLCools/dmr/fimo.py:60: FutureWarning: to_msgpack is deprecated and will be removed in a future version.\n",
      "It is recommended to use pyarrow for on-the-wire transmission of pandas objects.\n",
      "  final_df.to_msgpack(output_path, compress='zlib')\n"
     ]
    },
    {
     "name": "stdout",
     "output_type": "stream",
     "text": [
      "/home/hanliu/project/mouse_rostral_brain/DMR/ITSpatial_by_region/AI/MotifScan.h5adtemp/MA1521.1.meme, N motif total=29700\n"
     ]
    },
    {
     "name": "stderr",
     "output_type": "stream",
     "text": [
      "/home/hanliu/miniconda3/envs/clustering/lib/python3.7/site-packages/ALLCools/dmr/fimo.py:60: FutureWarning: to_msgpack is deprecated and will be removed in a future version.\n",
      "It is recommended to use pyarrow for on-the-wire transmission of pandas objects.\n",
      "  final_df.to_msgpack(output_path, compress='zlib')\n"
     ]
    },
    {
     "name": "stdout",
     "output_type": "stream",
     "text": [
      "/home/hanliu/project/mouse_rostral_brain/DMR/ITSpatial_by_region/AI/MotifScan.h5adtemp/MA0774.1.meme, N motif total=31869\n"
     ]
    },
    {
     "name": "stderr",
     "output_type": "stream",
     "text": [
      "/home/hanliu/miniconda3/envs/clustering/lib/python3.7/site-packages/ALLCools/dmr/fimo.py:60: FutureWarning: to_msgpack is deprecated and will be removed in a future version.\n",
      "It is recommended to use pyarrow for on-the-wire transmission of pandas objects.\n",
      "  final_df.to_msgpack(output_path, compress='zlib')\n"
     ]
    },
    {
     "name": "stdout",
     "output_type": "stream",
     "text": [
      "/home/hanliu/project/mouse_rostral_brain/DMR/ITSpatial_by_region/AI/MotifScan.h5adtemp/MA0495.3.meme, N motif total=29951\n"
     ]
    },
    {
     "name": "stderr",
     "output_type": "stream",
     "text": [
      "/home/hanliu/miniconda3/envs/clustering/lib/python3.7/site-packages/ALLCools/dmr/fimo.py:60: FutureWarning: to_msgpack is deprecated and will be removed in a future version.\n",
      "It is recommended to use pyarrow for on-the-wire transmission of pandas objects.\n",
      "  final_df.to_msgpack(output_path, compress='zlib')\n"
     ]
    },
    {
     "name": "stdout",
     "output_type": "stream",
     "text": [
      "/home/hanliu/project/mouse_rostral_brain/DMR/ITSpatial_by_region/AI/MotifScan.h5adtemp/MA0660.1.meme, N motif total=26567\n"
     ]
    },
    {
     "name": "stderr",
     "output_type": "stream",
     "text": [
      "/home/hanliu/miniconda3/envs/clustering/lib/python3.7/site-packages/ALLCools/dmr/fimo.py:60: FutureWarning: to_msgpack is deprecated and will be removed in a future version.\n",
      "It is recommended to use pyarrow for on-the-wire transmission of pandas objects.\n",
      "  final_df.to_msgpack(output_path, compress='zlib')\n"
     ]
    },
    {
     "name": "stdout",
     "output_type": "stream",
     "text": [
      "/home/hanliu/project/mouse_rostral_brain/DMR/ITSpatial_by_region/AI/MotifScan.h5adtemp/MA0775.1.meme, N motif total=25882\n"
     ]
    },
    {
     "name": "stderr",
     "output_type": "stream",
     "text": [
      "/home/hanliu/miniconda3/envs/clustering/lib/python3.7/site-packages/ALLCools/dmr/fimo.py:60: FutureWarning: to_msgpack is deprecated and will be removed in a future version.\n",
      "It is recommended to use pyarrow for on-the-wire transmission of pandas objects.\n",
      "  final_df.to_msgpack(output_path, compress='zlib')\n"
     ]
    },
    {
     "name": "stdout",
     "output_type": "stream",
     "text": [
      "/home/hanliu/project/mouse_rostral_brain/DMR/ITSpatial_by_region/AI/MotifScan.h5adtemp/MA0052.4.meme, N motif total=57536\n"
     ]
    },
    {
     "name": "stderr",
     "output_type": "stream",
     "text": [
      "/home/hanliu/miniconda3/envs/clustering/lib/python3.7/site-packages/ALLCools/dmr/fimo.py:60: FutureWarning: to_msgpack is deprecated and will be removed in a future version.\n",
      "It is recommended to use pyarrow for on-the-wire transmission of pandas objects.\n",
      "  final_df.to_msgpack(output_path, compress='zlib')\n"
     ]
    },
    {
     "name": "stdout",
     "output_type": "stream",
     "text": [
      "/home/hanliu/project/mouse_rostral_brain/DMR/ITSpatial_by_region/AI/MotifScan.h5adtemp/MA0773.1.meme, N motif total=31871\n"
     ]
    },
    {
     "name": "stderr",
     "output_type": "stream",
     "text": [
      "/home/hanliu/miniconda3/envs/clustering/lib/python3.7/site-packages/ALLCools/dmr/fimo.py:60: FutureWarning: to_msgpack is deprecated and will be removed in a future version.\n",
      "It is recommended to use pyarrow for on-the-wire transmission of pandas objects.\n",
      "  final_df.to_msgpack(output_path, compress='zlib')\n"
     ]
    },
    {
     "name": "stdout",
     "output_type": "stream",
     "text": [
      "/home/hanliu/project/mouse_rostral_brain/DMR/ITSpatial_by_region/AI/MotifScan.h5adtemp/MA0497.1.meme, N motif total=57043\n"
     ]
    },
    {
     "name": "stderr",
     "output_type": "stream",
     "text": [
      "/home/hanliu/miniconda3/envs/clustering/lib/python3.7/site-packages/ALLCools/dmr/fimo.py:60: FutureWarning: to_msgpack is deprecated and will be removed in a future version.\n",
      "It is recommended to use pyarrow for on-the-wire transmission of pandas objects.\n",
      "  final_df.to_msgpack(output_path, compress='zlib')\n"
     ]
    },
    {
     "name": "stdout",
     "output_type": "stream",
     "text": [
      "/home/hanliu/project/mouse_rostral_brain/DMR/ITSpatial_by_region/AI/MotifScan.h5adtemp/MA0706.1.meme, N motif total=14143\n"
     ]
    },
    {
     "name": "stderr",
     "output_type": "stream",
     "text": [
      "/home/hanliu/miniconda3/envs/clustering/lib/python3.7/site-packages/ALLCools/dmr/fimo.py:60: FutureWarning: to_msgpack is deprecated and will be removed in a future version.\n",
      "It is recommended to use pyarrow for on-the-wire transmission of pandas objects.\n",
      "  final_df.to_msgpack(output_path, compress='zlib')\n"
     ]
    },
    {
     "name": "stdout",
     "output_type": "stream",
     "text": [
      "/home/hanliu/project/mouse_rostral_brain/DMR/ITSpatial_by_region/AI/MotifScan.h5adtemp/MA0661.1.meme, N motif total=12637\n"
     ]
    },
    {
     "name": "stderr",
     "output_type": "stream",
     "text": [
      "/home/hanliu/miniconda3/envs/clustering/lib/python3.7/site-packages/ALLCools/dmr/fimo.py:60: FutureWarning: to_msgpack is deprecated and will be removed in a future version.\n",
      "It is recommended to use pyarrow for on-the-wire transmission of pandas objects.\n",
      "  final_df.to_msgpack(output_path, compress='zlib')\n"
     ]
    },
    {
     "name": "stdout",
     "output_type": "stream",
     "text": [
      "/home/hanliu/project/mouse_rostral_brain/DMR/ITSpatial_by_region/AI/MotifScan.h5adtemp/MA0801.1.meme, N motif total=19222\n"
     ]
    },
    {
     "name": "stderr",
     "output_type": "stream",
     "text": [
      "/home/hanliu/miniconda3/envs/clustering/lib/python3.7/site-packages/ALLCools/dmr/fimo.py:60: FutureWarning: to_msgpack is deprecated and will be removed in a future version.\n",
      "It is recommended to use pyarrow for on-the-wire transmission of pandas objects.\n",
      "  final_df.to_msgpack(output_path, compress='zlib')\n"
     ]
    },
    {
     "name": "stdout",
     "output_type": "stream",
     "text": [
      "/home/hanliu/project/mouse_rostral_brain/DMR/ITSpatial_by_region/AI/MotifScan.h5adtemp/MA1640.1.meme, N motif total=22130\n"
     ]
    },
    {
     "name": "stderr",
     "output_type": "stream",
     "text": [
      "/home/hanliu/miniconda3/envs/clustering/lib/python3.7/site-packages/ALLCools/dmr/fimo.py:60: FutureWarning: to_msgpack is deprecated and will be removed in a future version.\n",
      "It is recommended to use pyarrow for on-the-wire transmission of pandas objects.\n",
      "  final_df.to_msgpack(output_path, compress='zlib')\n"
     ]
    },
    {
     "name": "stdout",
     "output_type": "stream",
     "text": [
      "/home/hanliu/project/mouse_rostral_brain/DMR/ITSpatial_by_region/AI/MotifScan.h5adtemp/MA1639.1.meme, N motif total=19357\n"
     ]
    },
    {
     "name": "stderr",
     "output_type": "stream",
     "text": [
      "/home/hanliu/miniconda3/envs/clustering/lib/python3.7/site-packages/ALLCools/dmr/fimo.py:60: FutureWarning: to_msgpack is deprecated and will be removed in a future version.\n",
      "It is recommended to use pyarrow for on-the-wire transmission of pandas objects.\n",
      "  final_df.to_msgpack(output_path, compress='zlib')\n"
     ]
    },
    {
     "name": "stdout",
     "output_type": "stream",
     "text": [
      "/home/hanliu/project/mouse_rostral_brain/DMR/ITSpatial_by_region/AI/MotifScan.h5adtemp/MA0622.1.meme, N motif total=15188\n"
     ]
    },
    {
     "name": "stderr",
     "output_type": "stream",
     "text": [
      "/home/hanliu/miniconda3/envs/clustering/lib/python3.7/site-packages/ALLCools/dmr/fimo.py:60: FutureWarning: to_msgpack is deprecated and will be removed in a future version.\n",
      "It is recommended to use pyarrow for on-the-wire transmission of pandas objects.\n",
      "  final_df.to_msgpack(output_path, compress='zlib')\n"
     ]
    },
    {
     "name": "stdout",
     "output_type": "stream",
     "text": [
      "/home/hanliu/project/mouse_rostral_brain/DMR/ITSpatial_by_region/AI/MotifScan.h5adtemp/MA0662.1.meme, N motif total=15461\n"
     ]
    },
    {
     "name": "stderr",
     "output_type": "stream",
     "text": [
      "/home/hanliu/miniconda3/envs/clustering/lib/python3.7/site-packages/ALLCools/dmr/fimo.py:60: FutureWarning: to_msgpack is deprecated and will be removed in a future version.\n",
      "It is recommended to use pyarrow for on-the-wire transmission of pandas objects.\n",
      "  final_df.to_msgpack(output_path, compress='zlib')\n"
     ]
    },
    {
     "name": "stdout",
     "output_type": "stream",
     "text": [
      "/home/hanliu/project/mouse_rostral_brain/DMR/ITSpatial_by_region/AI/MotifScan.h5adtemp/MA0663.1.meme, N motif total=10293\n"
     ]
    },
    {
     "name": "stderr",
     "output_type": "stream",
     "text": [
      "/home/hanliu/miniconda3/envs/clustering/lib/python3.7/site-packages/ALLCools/dmr/fimo.py:60: FutureWarning: to_msgpack is deprecated and will be removed in a future version.\n",
      "It is recommended to use pyarrow for on-the-wire transmission of pandas objects.\n",
      "  final_df.to_msgpack(output_path, compress='zlib')\n"
     ]
    },
    {
     "name": "stdout",
     "output_type": "stream",
     "text": [
      "/home/hanliu/project/mouse_rostral_brain/DMR/ITSpatial_by_region/AI/MotifScan.h5adtemp/MA0825.1.meme, N motif total=15634\n"
     ]
    },
    {
     "name": "stderr",
     "output_type": "stream",
     "text": [
      "/home/hanliu/miniconda3/envs/clustering/lib/python3.7/site-packages/ALLCools/dmr/fimo.py:60: FutureWarning: to_msgpack is deprecated and will be removed in a future version.\n",
      "It is recommended to use pyarrow for on-the-wire transmission of pandas objects.\n",
      "  final_df.to_msgpack(output_path, compress='zlib')\n"
     ]
    },
    {
     "name": "stdout",
     "output_type": "stream",
     "text": [
      "/home/hanliu/project/mouse_rostral_brain/DMR/ITSpatial_by_region/AI/MotifScan.h5adtemp/MA0707.1.meme, N motif total=19964\n"
     ]
    },
    {
     "name": "stderr",
     "output_type": "stream",
     "text": [
      "/home/hanliu/miniconda3/envs/clustering/lib/python3.7/site-packages/ALLCools/dmr/fimo.py:60: FutureWarning: to_msgpack is deprecated and will be removed in a future version.\n",
      "It is recommended to use pyarrow for on-the-wire transmission of pandas objects.\n",
      "  final_df.to_msgpack(output_path, compress='zlib')\n"
     ]
    },
    {
     "name": "stdout",
     "output_type": "stream",
     "text": [
      "/home/hanliu/project/mouse_rostral_brain/DMR/ITSpatial_by_region/AI/MotifScan.h5adtemp/MA0664.1.meme, N motif total=12717\n"
     ]
    },
    {
     "name": "stderr",
     "output_type": "stream",
     "text": [
      "/home/hanliu/miniconda3/envs/clustering/lib/python3.7/site-packages/ALLCools/dmr/fimo.py:60: FutureWarning: to_msgpack is deprecated and will be removed in a future version.\n",
      "It is recommended to use pyarrow for on-the-wire transmission of pandas objects.\n",
      "  final_df.to_msgpack(output_path, compress='zlib')\n"
     ]
    },
    {
     "name": "stdout",
     "output_type": "stream",
     "text": [
      "/home/hanliu/project/mouse_rostral_brain/DMR/ITSpatial_by_region/AI/MotifScan.h5adtemp/MA0708.1.meme, N motif total=12102\n"
     ]
    },
    {
     "name": "stderr",
     "output_type": "stream",
     "text": [
      "/home/hanliu/miniconda3/envs/clustering/lib/python3.7/site-packages/ALLCools/dmr/fimo.py:60: FutureWarning: to_msgpack is deprecated and will be removed in a future version.\n",
      "It is recommended to use pyarrow for on-the-wire transmission of pandas objects.\n",
      "  final_df.to_msgpack(output_path, compress='zlib')\n"
     ]
    },
    {
     "name": "stdout",
     "output_type": "stream",
     "text": [
      "/home/hanliu/project/mouse_rostral_brain/DMR/ITSpatial_by_region/AI/MotifScan.h5adtemp/MA0666.1.meme, N motif total=10843\n"
     ]
    },
    {
     "name": "stderr",
     "output_type": "stream",
     "text": [
      "/home/hanliu/miniconda3/envs/clustering/lib/python3.7/site-packages/ALLCools/dmr/fimo.py:60: FutureWarning: to_msgpack is deprecated and will be removed in a future version.\n",
      "It is recommended to use pyarrow for on-the-wire transmission of pandas objects.\n",
      "  final_df.to_msgpack(output_path, compress='zlib')\n"
     ]
    },
    {
     "name": "stdout",
     "output_type": "stream",
     "text": [
      "/home/hanliu/project/mouse_rostral_brain/DMR/ITSpatial_by_region/AI/MotifScan.h5adtemp/MA0709.1.meme, N motif total=12102\n"
     ]
    },
    {
     "name": "stderr",
     "output_type": "stream",
     "text": [
      "/home/hanliu/miniconda3/envs/clustering/lib/python3.7/site-packages/ALLCools/dmr/fimo.py:60: FutureWarning: to_msgpack is deprecated and will be removed in a future version.\n",
      "It is recommended to use pyarrow for on-the-wire transmission of pandas objects.\n",
      "  final_df.to_msgpack(output_path, compress='zlib')\n"
     ]
    },
    {
     "name": "stdout",
     "output_type": "stream",
     "text": [
      "/home/hanliu/project/mouse_rostral_brain/DMR/ITSpatial_by_region/AI/MotifScan.h5adtemp/MA1523.1.meme, N motif total=26593\n"
     ]
    },
    {
     "name": "stderr",
     "output_type": "stream",
     "text": [
      "/home/hanliu/miniconda3/envs/clustering/lib/python3.7/site-packages/ALLCools/dmr/fimo.py:60: FutureWarning: to_msgpack is deprecated and will be removed in a future version.\n",
      "It is recommended to use pyarrow for on-the-wire transmission of pandas objects.\n",
      "  final_df.to_msgpack(output_path, compress='zlib')\n"
     ]
    },
    {
     "name": "stdout",
     "output_type": "stream",
     "text": [
      "/home/hanliu/project/mouse_rostral_brain/DMR/ITSpatial_by_region/AI/MotifScan.h5adtemp/MA0665.1.meme, N motif total=41731\n"
     ]
    },
    {
     "name": "stderr",
     "output_type": "stream",
     "text": [
      "/home/hanliu/miniconda3/envs/clustering/lib/python3.7/site-packages/ALLCools/dmr/fimo.py:60: FutureWarning: to_msgpack is deprecated and will be removed in a future version.\n",
      "It is recommended to use pyarrow for on-the-wire transmission of pandas objects.\n",
      "  final_df.to_msgpack(output_path, compress='zlib')\n"
     ]
    },
    {
     "name": "stdout",
     "output_type": "stream",
     "text": [
      "/home/hanliu/project/mouse_rostral_brain/DMR/ITSpatial_by_region/AI/MotifScan.h5adtemp/MA0620.3.meme, N motif total=20985\n"
     ]
    },
    {
     "name": "stderr",
     "output_type": "stream",
     "text": [
      "/home/hanliu/miniconda3/envs/clustering/lib/python3.7/site-packages/ALLCools/dmr/fimo.py:60: FutureWarning: to_msgpack is deprecated and will be removed in a future version.\n",
      "It is recommended to use pyarrow for on-the-wire transmission of pandas objects.\n",
      "  final_df.to_msgpack(output_path, compress='zlib')\n"
     ]
    },
    {
     "name": "stdout",
     "output_type": "stream",
     "text": [
      "/home/hanliu/project/mouse_rostral_brain/DMR/ITSpatial_by_region/AI/MotifScan.h5adtemp/MA1524.1.meme, N motif total=26776\n"
     ]
    },
    {
     "name": "stderr",
     "output_type": "stream",
     "text": [
      "/home/hanliu/miniconda3/envs/clustering/lib/python3.7/site-packages/ALLCools/dmr/fimo.py:60: FutureWarning: to_msgpack is deprecated and will be removed in a future version.\n",
      "It is recommended to use pyarrow for on-the-wire transmission of pandas objects.\n",
      "  final_df.to_msgpack(output_path, compress='zlib')\n"
     ]
    },
    {
     "name": "stdout",
     "output_type": "stream",
     "text": [
      "/home/hanliu/project/mouse_rostral_brain/DMR/ITSpatial_by_region/AI/MotifScan.h5adtemp/MA0100.3.meme, N motif total=22652\n"
     ]
    },
    {
     "name": "stderr",
     "output_type": "stream",
     "text": [
      "/home/hanliu/miniconda3/envs/clustering/lib/python3.7/site-packages/ALLCools/dmr/fimo.py:60: FutureWarning: to_msgpack is deprecated and will be removed in a future version.\n",
      "It is recommended to use pyarrow for on-the-wire transmission of pandas objects.\n",
      "  final_df.to_msgpack(output_path, compress='zlib')\n"
     ]
    },
    {
     "name": "stdout",
     "output_type": "stream",
     "text": [
      "/home/hanliu/project/mouse_rostral_brain/DMR/ITSpatial_by_region/AI/MotifScan.h5adtemp/MA1108.2.meme, N motif total=41836\n"
     ]
    },
    {
     "name": "stderr",
     "output_type": "stream",
     "text": [
      "/home/hanliu/miniconda3/envs/clustering/lib/python3.7/site-packages/ALLCools/dmr/fimo.py:60: FutureWarning: to_msgpack is deprecated and will be removed in a future version.\n",
      "It is recommended to use pyarrow for on-the-wire transmission of pandas objects.\n",
      "  final_df.to_msgpack(output_path, compress='zlib')\n"
     ]
    },
    {
     "name": "stdout",
     "output_type": "stream",
     "text": [
      "/home/hanliu/project/mouse_rostral_brain/DMR/ITSpatial_by_region/AI/MotifScan.h5adtemp/MA0863.1.meme, N motif total=11370\n"
     ]
    },
    {
     "name": "stderr",
     "output_type": "stream",
     "text": [
      "/home/hanliu/miniconda3/envs/clustering/lib/python3.7/site-packages/ALLCools/dmr/fimo.py:60: FutureWarning: to_msgpack is deprecated and will be removed in a future version.\n",
      "It is recommended to use pyarrow for on-the-wire transmission of pandas objects.\n",
      "  final_df.to_msgpack(output_path, compress='zlib')\n"
     ]
    },
    {
     "name": "stdout",
     "output_type": "stream",
     "text": [
      "/home/hanliu/project/mouse_rostral_brain/DMR/ITSpatial_by_region/AI/MotifScan.h5adtemp/MA0776.1.meme, N motif total=4669\n"
     ]
    },
    {
     "name": "stderr",
     "output_type": "stream",
     "text": [
      "/home/hanliu/miniconda3/envs/clustering/lib/python3.7/site-packages/ALLCools/dmr/fimo.py:60: FutureWarning: to_msgpack is deprecated and will be removed in a future version.\n",
      "It is recommended to use pyarrow for on-the-wire transmission of pandas objects.\n",
      "  final_df.to_msgpack(output_path, compress='zlib')\n"
     ]
    },
    {
     "name": "stdout",
     "output_type": "stream",
     "text": [
      "/home/hanliu/project/mouse_rostral_brain/DMR/ITSpatial_by_region/AI/MotifScan.h5adtemp/MA0147.3.meme, N motif total=20444\n"
     ]
    },
    {
     "name": "stderr",
     "output_type": "stream",
     "text": [
      "/home/hanliu/miniconda3/envs/clustering/lib/python3.7/site-packages/ALLCools/dmr/fimo.py:60: FutureWarning: to_msgpack is deprecated and will be removed in a future version.\n",
      "It is recommended to use pyarrow for on-the-wire transmission of pandas objects.\n",
      "  final_df.to_msgpack(output_path, compress='zlib')\n"
     ]
    },
    {
     "name": "stdout",
     "output_type": "stream",
     "text": [
      "/home/hanliu/project/mouse_rostral_brain/DMR/ITSpatial_by_region/AI/MotifScan.h5adtemp/MA0667.1.meme, N motif total=33730\n"
     ]
    },
    {
     "name": "stderr",
     "output_type": "stream",
     "text": [
      "/home/hanliu/miniconda3/envs/clustering/lib/python3.7/site-packages/ALLCools/dmr/fimo.py:60: FutureWarning: to_msgpack is deprecated and will be removed in a future version.\n",
      "It is recommended to use pyarrow for on-the-wire transmission of pandas objects.\n",
      "  final_df.to_msgpack(output_path, compress='zlib')\n"
     ]
    },
    {
     "name": "stdout",
     "output_type": "stream",
     "text": [
      "/home/hanliu/project/mouse_rostral_brain/DMR/ITSpatial_by_region/AI/MotifScan.h5adtemp/MA0777.1.meme, N motif total=4546\n"
     ]
    },
    {
     "name": "stderr",
     "output_type": "stream",
     "text": [
      "/home/hanliu/miniconda3/envs/clustering/lib/python3.7/site-packages/ALLCools/dmr/fimo.py:60: FutureWarning: to_msgpack is deprecated and will be removed in a future version.\n",
      "It is recommended to use pyarrow for on-the-wire transmission of pandas objects.\n",
      "  final_df.to_msgpack(output_path, compress='zlib')\n"
     ]
    },
    {
     "name": "stdout",
     "output_type": "stream",
     "text": [
      "/home/hanliu/project/mouse_rostral_brain/DMR/ITSpatial_by_region/AI/MotifScan.h5adtemp/MA0104.4.meme, N motif total=20740\n"
     ]
    },
    {
     "name": "stderr",
     "output_type": "stream",
     "text": [
      "/home/hanliu/miniconda3/envs/clustering/lib/python3.7/site-packages/ALLCools/dmr/fimo.py:60: FutureWarning: to_msgpack is deprecated and will be removed in a future version.\n",
      "It is recommended to use pyarrow for on-the-wire transmission of pandas objects.\n",
      "  final_df.to_msgpack(output_path, compress='zlib')\n"
     ]
    },
    {
     "name": "stdout",
     "output_type": "stream",
     "text": [
      "/home/hanliu/project/mouse_rostral_brain/DMR/ITSpatial_by_region/AI/MotifScan.h5adtemp/MA0500.2.meme, N motif total=59633\n"
     ]
    },
    {
     "name": "stderr",
     "output_type": "stream",
     "text": [
      "/home/hanliu/miniconda3/envs/clustering/lib/python3.7/site-packages/ALLCools/dmr/fimo.py:60: FutureWarning: to_msgpack is deprecated and will be removed in a future version.\n",
      "It is recommended to use pyarrow for on-the-wire transmission of pandas objects.\n",
      "  final_df.to_msgpack(output_path, compress='zlib')\n"
     ]
    },
    {
     "name": "stdout",
     "output_type": "stream",
     "text": [
      "/home/hanliu/project/mouse_rostral_brain/DMR/ITSpatial_by_region/AI/MotifScan.h5adtemp/MA0057.1.meme, N motif total=35282\n"
     ]
    },
    {
     "name": "stderr",
     "output_type": "stream",
     "text": [
      "/home/hanliu/miniconda3/envs/clustering/lib/python3.7/site-packages/ALLCools/dmr/fimo.py:60: FutureWarning: to_msgpack is deprecated and will be removed in a future version.\n",
      "It is recommended to use pyarrow for on-the-wire transmission of pandas objects.\n",
      "  final_df.to_msgpack(output_path, compress='zlib')\n"
     ]
    },
    {
     "name": "stdout",
     "output_type": "stream",
     "text": [
      "/home/hanliu/project/mouse_rostral_brain/DMR/ITSpatial_by_region/AI/MotifScan.h5adtemp/MA0499.2.meme, N motif total=42817\n"
     ]
    },
    {
     "name": "stderr",
     "output_type": "stream",
     "text": [
      "/home/hanliu/miniconda3/envs/clustering/lib/python3.7/site-packages/ALLCools/dmr/fimo.py:60: FutureWarning: to_msgpack is deprecated and will be removed in a future version.\n",
      "It is recommended to use pyarrow for on-the-wire transmission of pandas objects.\n",
      "  final_df.to_msgpack(output_path, compress='zlib')\n"
     ]
    },
    {
     "name": "stdout",
     "output_type": "stream",
     "text": [
      "/home/hanliu/project/mouse_rostral_brain/DMR/ITSpatial_by_region/AI/MotifScan.h5adtemp/MA1109.1.meme, N motif total=57748\n"
     ]
    },
    {
     "name": "stderr",
     "output_type": "stream",
     "text": [
      "/home/hanliu/miniconda3/envs/clustering/lib/python3.7/site-packages/ALLCools/dmr/fimo.py:60: FutureWarning: to_msgpack is deprecated and will be removed in a future version.\n",
      "It is recommended to use pyarrow for on-the-wire transmission of pandas objects.\n",
      "  final_df.to_msgpack(output_path, compress='zlib')\n"
     ]
    },
    {
     "name": "stdout",
     "output_type": "stream",
     "text": [
      "/home/hanliu/project/mouse_rostral_brain/DMR/ITSpatial_by_region/AI/MotifScan.h5adtemp/MA1641.1.meme, N motif total=59988\n"
     ]
    },
    {
     "name": "stderr",
     "output_type": "stream",
     "text": [
      "/home/hanliu/miniconda3/envs/clustering/lib/python3.7/site-packages/ALLCools/dmr/fimo.py:60: FutureWarning: to_msgpack is deprecated and will be removed in a future version.\n",
      "It is recommended to use pyarrow for on-the-wire transmission of pandas objects.\n",
      "  final_df.to_msgpack(output_path, compress='zlib')\n"
     ]
    },
    {
     "name": "stdout",
     "output_type": "stream",
     "text": [
      "/home/hanliu/project/mouse_rostral_brain/DMR/ITSpatial_by_region/AI/MotifScan.h5adtemp/MA0056.2.meme, N motif total=25530\n"
     ]
    },
    {
     "name": "stderr",
     "output_type": "stream",
     "text": [
      "/home/hanliu/miniconda3/envs/clustering/lib/python3.7/site-packages/ALLCools/dmr/fimo.py:60: FutureWarning: to_msgpack is deprecated and will be removed in a future version.\n",
      "It is recommended to use pyarrow for on-the-wire transmission of pandas objects.\n",
      "  final_df.to_msgpack(output_path, compress='zlib')\n"
     ]
    },
    {
     "name": "stdout",
     "output_type": "stream",
     "text": [
      "/home/hanliu/project/mouse_rostral_brain/DMR/ITSpatial_by_region/AI/MotifScan.h5adtemp/MA0152.1.meme, N motif total=34228\n"
     ]
    },
    {
     "name": "stderr",
     "output_type": "stream",
     "text": [
      "/home/hanliu/miniconda3/envs/clustering/lib/python3.7/site-packages/ALLCools/dmr/fimo.py:60: FutureWarning: to_msgpack is deprecated and will be removed in a future version.\n",
      "It is recommended to use pyarrow for on-the-wire transmission of pandas objects.\n",
      "  final_df.to_msgpack(output_path, compress='zlib')\n"
     ]
    },
    {
     "name": "stdout",
     "output_type": "stream",
     "text": [
      "/home/hanliu/project/mouse_rostral_brain/DMR/ITSpatial_by_region/AI/MotifScan.h5adtemp/MA0606.1.meme, N motif total=39419\n"
     ]
    },
    {
     "name": "stderr",
     "output_type": "stream",
     "text": [
      "/home/hanliu/miniconda3/envs/clustering/lib/python3.7/site-packages/ALLCools/dmr/fimo.py:60: FutureWarning: to_msgpack is deprecated and will be removed in a future version.\n",
      "It is recommended to use pyarrow for on-the-wire transmission of pandas objects.\n",
      "  final_df.to_msgpack(output_path, compress='zlib')\n"
     ]
    },
    {
     "name": "stdout",
     "output_type": "stream",
     "text": [
      "/home/hanliu/project/mouse_rostral_brain/DMR/ITSpatial_by_region/AI/MotifScan.h5adtemp/MA0669.1.meme, N motif total=35112\n"
     ]
    },
    {
     "name": "stderr",
     "output_type": "stream",
     "text": [
      "/home/hanliu/miniconda3/envs/clustering/lib/python3.7/site-packages/ALLCools/dmr/fimo.py:60: FutureWarning: to_msgpack is deprecated and will be removed in a future version.\n",
      "It is recommended to use pyarrow for on-the-wire transmission of pandas objects.\n",
      "  final_df.to_msgpack(output_path, compress='zlib')\n"
     ]
    },
    {
     "name": "stdout",
     "output_type": "stream",
     "text": [
      "/home/hanliu/project/mouse_rostral_brain/DMR/ITSpatial_by_region/AI/MotifScan.h5adtemp/MA0668.1.meme, N motif total=24659\n"
     ]
    },
    {
     "name": "stderr",
     "output_type": "stream",
     "text": [
      "/home/hanliu/miniconda3/envs/clustering/lib/python3.7/site-packages/ALLCools/dmr/fimo.py:60: FutureWarning: to_msgpack is deprecated and will be removed in a future version.\n",
      "It is recommended to use pyarrow for on-the-wire transmission of pandas objects.\n",
      "  final_df.to_msgpack(output_path, compress='zlib')\n"
     ]
    },
    {
     "name": "stdout",
     "output_type": "stream",
     "text": [
      "/home/hanliu/project/mouse_rostral_brain/DMR/ITSpatial_by_region/AI/MotifScan.h5adtemp/MA0624.1.meme, N motif total=28704\n"
     ]
    },
    {
     "name": "stderr",
     "output_type": "stream",
     "text": [
      "/home/hanliu/miniconda3/envs/clustering/lib/python3.7/site-packages/ALLCools/dmr/fimo.py:60: FutureWarning: to_msgpack is deprecated and will be removed in a future version.\n",
      "It is recommended to use pyarrow for on-the-wire transmission of pandas objects.\n",
      "  final_df.to_msgpack(output_path, compress='zlib')\n"
     ]
    },
    {
     "name": "stdout",
     "output_type": "stream",
     "text": [
      "/home/hanliu/project/mouse_rostral_brain/DMR/ITSpatial_by_region/AI/MotifScan.h5adtemp/MA0623.2.meme, N motif total=26030\n"
     ]
    },
    {
     "name": "stderr",
     "output_type": "stream",
     "text": [
      "/home/hanliu/miniconda3/envs/clustering/lib/python3.7/site-packages/ALLCools/dmr/fimo.py:60: FutureWarning: to_msgpack is deprecated and will be removed in a future version.\n",
      "It is recommended to use pyarrow for on-the-wire transmission of pandas objects.\n",
      "  final_df.to_msgpack(output_path, compress='zlib')\n"
     ]
    },
    {
     "name": "stdout",
     "output_type": "stream",
     "text": [
      "/home/hanliu/project/mouse_rostral_brain/DMR/ITSpatial_by_region/AI/MotifScan.h5adtemp/MA1642.1.meme, N motif total=53816\n"
     ]
    },
    {
     "name": "stderr",
     "output_type": "stream",
     "text": [
      "/home/hanliu/miniconda3/envs/clustering/lib/python3.7/site-packages/ALLCools/dmr/fimo.py:60: FutureWarning: to_msgpack is deprecated and will be removed in a future version.\n",
      "It is recommended to use pyarrow for on-the-wire transmission of pandas objects.\n",
      "  final_df.to_msgpack(output_path, compress='zlib')\n"
     ]
    },
    {
     "name": "stdout",
     "output_type": "stream",
     "text": [
      "/home/hanliu/project/mouse_rostral_brain/DMR/ITSpatial_by_region/AI/MotifScan.h5adtemp/MA1525.1.meme, N motif total=27233\n"
     ]
    },
    {
     "name": "stderr",
     "output_type": "stream",
     "text": [
      "/home/hanliu/miniconda3/envs/clustering/lib/python3.7/site-packages/ALLCools/dmr/fimo.py:60: FutureWarning: to_msgpack is deprecated and will be removed in a future version.\n",
      "It is recommended to use pyarrow for on-the-wire transmission of pandas objects.\n",
      "  final_df.to_msgpack(output_path, compress='zlib')\n"
     ]
    },
    {
     "name": "stdout",
     "output_type": "stream",
     "text": [
      "/home/hanliu/project/mouse_rostral_brain/DMR/ITSpatial_by_region/AI/MotifScan.h5adtemp/MA0625.1.meme, N motif total=28551\n"
     ]
    },
    {
     "name": "stderr",
     "output_type": "stream",
     "text": [
      "/home/hanliu/miniconda3/envs/clustering/lib/python3.7/site-packages/ALLCools/dmr/fimo.py:60: FutureWarning: to_msgpack is deprecated and will be removed in a future version.\n",
      "It is recommended to use pyarrow for on-the-wire transmission of pandas objects.\n",
      "  final_df.to_msgpack(output_path, compress='zlib')\n"
     ]
    },
    {
     "name": "stdout",
     "output_type": "stream",
     "text": [
      "/home/hanliu/project/mouse_rostral_brain/DMR/ITSpatial_by_region/AI/MotifScan.h5adtemp/MA0841.1.meme, N motif total=17698\n"
     ]
    },
    {
     "name": "stderr",
     "output_type": "stream",
     "text": [
      "/home/hanliu/miniconda3/envs/clustering/lib/python3.7/site-packages/ALLCools/dmr/fimo.py:60: FutureWarning: to_msgpack is deprecated and will be removed in a future version.\n",
      "It is recommended to use pyarrow for on-the-wire transmission of pandas objects.\n",
      "  final_df.to_msgpack(output_path, compress='zlib')\n"
     ]
    },
    {
     "name": "stdout",
     "output_type": "stream",
     "text": [
      "/home/hanliu/project/mouse_rostral_brain/DMR/ITSpatial_by_region/AI/MotifScan.h5adtemp/MA0670.1.meme, N motif total=27268\n"
     ]
    },
    {
     "name": "stderr",
     "output_type": "stream",
     "text": [
      "/home/hanliu/miniconda3/envs/clustering/lib/python3.7/site-packages/ALLCools/dmr/fimo.py:60: FutureWarning: to_msgpack is deprecated and will be removed in a future version.\n",
      "It is recommended to use pyarrow for on-the-wire transmission of pandas objects.\n",
      "  final_df.to_msgpack(output_path, compress='zlib')\n"
     ]
    },
    {
     "name": "stdout",
     "output_type": "stream",
     "text": [
      "/home/hanliu/project/mouse_rostral_brain/DMR/ITSpatial_by_region/AI/MotifScan.h5adtemp/MA0161.2.meme, N motif total=32531\n"
     ]
    },
    {
     "name": "stderr",
     "output_type": "stream",
     "text": [
      "/home/hanliu/miniconda3/envs/clustering/lib/python3.7/site-packages/ALLCools/dmr/fimo.py:60: FutureWarning: to_msgpack is deprecated and will be removed in a future version.\n",
      "It is recommended to use pyarrow for on-the-wire transmission of pandas objects.\n",
      "  final_df.to_msgpack(output_path, compress='zlib')\n"
     ]
    },
    {
     "name": "stdout",
     "output_type": "stream",
     "text": [
      "/home/hanliu/project/mouse_rostral_brain/DMR/ITSpatial_by_region/AI/MotifScan.h5adtemp/MA0089.2.meme, N motif total=30370\n"
     ]
    },
    {
     "name": "stderr",
     "output_type": "stream",
     "text": [
      "/home/hanliu/miniconda3/envs/clustering/lib/python3.7/site-packages/ALLCools/dmr/fimo.py:60: FutureWarning: to_msgpack is deprecated and will be removed in a future version.\n",
      "It is recommended to use pyarrow for on-the-wire transmission of pandas objects.\n",
      "  final_df.to_msgpack(output_path, compress='zlib')\n"
     ]
    },
    {
     "name": "stdout",
     "output_type": "stream",
     "text": [
      "/home/hanliu/project/mouse_rostral_brain/DMR/ITSpatial_by_region/AI/MotifScan.h5adtemp/MA0150.2.meme, N motif total=28193\n"
     ]
    },
    {
     "name": "stderr",
     "output_type": "stream",
     "text": [
      "/home/hanliu/miniconda3/envs/clustering/lib/python3.7/site-packages/ALLCools/dmr/fimo.py:60: FutureWarning: to_msgpack is deprecated and will be removed in a future version.\n",
      "It is recommended to use pyarrow for on-the-wire transmission of pandas objects.\n",
      "  final_df.to_msgpack(output_path, compress='zlib')\n"
     ]
    },
    {
     "name": "stdout",
     "output_type": "stream",
     "text": [
      "/home/hanliu/project/mouse_rostral_brain/DMR/ITSpatial_by_region/AI/MotifScan.h5adtemp/MA0671.1.meme, N motif total=28429\n"
     ]
    },
    {
     "name": "stderr",
     "output_type": "stream",
     "text": [
      "/home/hanliu/miniconda3/envs/clustering/lib/python3.7/site-packages/ALLCools/dmr/fimo.py:60: FutureWarning: to_msgpack is deprecated and will be removed in a future version.\n",
      "It is recommended to use pyarrow for on-the-wire transmission of pandas objects.\n",
      "  final_df.to_msgpack(output_path, compress='zlib')\n"
     ]
    },
    {
     "name": "stdout",
     "output_type": "stream",
     "text": [
      "/home/hanliu/project/mouse_rostral_brain/DMR/ITSpatial_by_region/AI/MotifScan.h5adtemp/MA0119.1.meme, N motif total=21807\n"
     ]
    },
    {
     "name": "stderr",
     "output_type": "stream",
     "text": [
      "/home/hanliu/miniconda3/envs/clustering/lib/python3.7/site-packages/ALLCools/dmr/fimo.py:60: FutureWarning: to_msgpack is deprecated and will be removed in a future version.\n",
      "It is recommended to use pyarrow for on-the-wire transmission of pandas objects.\n",
      "  final_df.to_msgpack(output_path, compress='zlib')\n"
     ]
    },
    {
     "name": "stdout",
     "output_type": "stream",
     "text": [
      "/home/hanliu/project/mouse_rostral_brain/DMR/ITSpatial_by_region/AI/MotifScan.h5adtemp/MA0060.3.meme, N motif total=15537\n"
     ]
    },
    {
     "name": "stderr",
     "output_type": "stream",
     "text": [
      "/home/hanliu/miniconda3/envs/clustering/lib/python3.7/site-packages/ALLCools/dmr/fimo.py:60: FutureWarning: to_msgpack is deprecated and will be removed in a future version.\n",
      "It is recommended to use pyarrow for on-the-wire transmission of pandas objects.\n",
      "  final_df.to_msgpack(output_path, compress='zlib')\n"
     ]
    },
    {
     "name": "stdout",
     "output_type": "stream",
     "text": [
      "/home/hanliu/project/mouse_rostral_brain/DMR/ITSpatial_by_region/AI/MotifScan.h5adtemp/MA0778.1.meme, N motif total=18355\n"
     ]
    },
    {
     "name": "stderr",
     "output_type": "stream",
     "text": [
      "/home/hanliu/miniconda3/envs/clustering/lib/python3.7/site-packages/ALLCools/dmr/fimo.py:60: FutureWarning: to_msgpack is deprecated and will be removed in a future version.\n",
      "It is recommended to use pyarrow for on-the-wire transmission of pandas objects.\n",
      "  final_df.to_msgpack(output_path, compress='zlib')\n"
     ]
    },
    {
     "name": "stdout",
     "output_type": "stream",
     "text": [
      "/home/hanliu/project/mouse_rostral_brain/DMR/ITSpatial_by_region/AI/MotifScan.h5adtemp/MA0105.4.meme, N motif total=4759\n"
     ]
    },
    {
     "name": "stderr",
     "output_type": "stream",
     "text": [
      "/home/hanliu/miniconda3/envs/clustering/lib/python3.7/site-packages/ALLCools/dmr/fimo.py:60: FutureWarning: to_msgpack is deprecated and will be removed in a future version.\n",
      "It is recommended to use pyarrow for on-the-wire transmission of pandas objects.\n",
      "  final_df.to_msgpack(output_path, compress='zlib')\n"
     ]
    },
    {
     "name": "stdout",
     "output_type": "stream",
     "text": [
      "/home/hanliu/project/mouse_rostral_brain/DMR/ITSpatial_by_region/AI/MotifScan.h5adtemp/MA1644.1.meme, N motif total=16936\n"
     ]
    },
    {
     "name": "stderr",
     "output_type": "stream",
     "text": [
      "/home/hanliu/miniconda3/envs/clustering/lib/python3.7/site-packages/ALLCools/dmr/fimo.py:60: FutureWarning: to_msgpack is deprecated and will be removed in a future version.\n",
      "It is recommended to use pyarrow for on-the-wire transmission of pandas objects.\n",
      "  final_df.to_msgpack(output_path, compress='zlib')\n"
     ]
    },
    {
     "name": "stdout",
     "output_type": "stream",
     "text": [
      "/home/hanliu/project/mouse_rostral_brain/DMR/ITSpatial_by_region/AI/MotifScan.h5adtemp/MA0025.2.meme, N motif total=18655\n"
     ]
    },
    {
     "name": "stderr",
     "output_type": "stream",
     "text": [
      "/home/hanliu/miniconda3/envs/clustering/lib/python3.7/site-packages/ALLCools/dmr/fimo.py:60: FutureWarning: to_msgpack is deprecated and will be removed in a future version.\n",
      "It is recommended to use pyarrow for on-the-wire transmission of pandas objects.\n",
      "  final_df.to_msgpack(output_path, compress='zlib')\n"
     ]
    },
    {
     "name": "stdout",
     "output_type": "stream",
     "text": [
      "/home/hanliu/project/mouse_rostral_brain/DMR/ITSpatial_by_region/AI/MotifScan.h5adtemp/MA1527.1.meme, N motif total=14687\n"
     ]
    },
    {
     "name": "stderr",
     "output_type": "stream",
     "text": [
      "/home/hanliu/miniconda3/envs/clustering/lib/python3.7/site-packages/ALLCools/dmr/fimo.py:60: FutureWarning: to_msgpack is deprecated and will be removed in a future version.\n",
      "It is recommended to use pyarrow for on-the-wire transmission of pandas objects.\n",
      "  final_df.to_msgpack(output_path, compress='zlib')\n"
     ]
    },
    {
     "name": "stdout",
     "output_type": "stream",
     "text": [
      "/home/hanliu/project/mouse_rostral_brain/DMR/ITSpatial_by_region/AI/MotifScan.h5adtemp/MA0502.2.meme, N motif total=20228\n"
     ]
    },
    {
     "name": "stderr",
     "output_type": "stream",
     "text": [
      "/home/hanliu/miniconda3/envs/clustering/lib/python3.7/site-packages/ALLCools/dmr/fimo.py:60: FutureWarning: to_msgpack is deprecated and will be removed in a future version.\n",
      "It is recommended to use pyarrow for on-the-wire transmission of pandas objects.\n",
      "  final_df.to_msgpack(output_path, compress='zlib')\n"
     ]
    },
    {
     "name": "stdout",
     "output_type": "stream",
     "text": [
      "/home/hanliu/project/mouse_rostral_brain/DMR/ITSpatial_by_region/AI/MotifScan.h5adtemp/MA1643.1.meme, N motif total=51182\n"
     ]
    },
    {
     "name": "stderr",
     "output_type": "stream",
     "text": [
      "/home/hanliu/miniconda3/envs/clustering/lib/python3.7/site-packages/ALLCools/dmr/fimo.py:60: FutureWarning: to_msgpack is deprecated and will be removed in a future version.\n",
      "It is recommended to use pyarrow for on-the-wire transmission of pandas objects.\n",
      "  final_df.to_msgpack(output_path, compress='zlib')\n"
     ]
    },
    {
     "name": "stdout",
     "output_type": "stream",
     "text": [
      "/home/hanliu/project/mouse_rostral_brain/DMR/ITSpatial_by_region/AI/MotifScan.h5adtemp/MA0672.1.meme, N motif total=22191\n"
     ]
    },
    {
     "name": "stderr",
     "output_type": "stream",
     "text": [
      "/home/hanliu/miniconda3/envs/clustering/lib/python3.7/site-packages/ALLCools/dmr/fimo.py:60: FutureWarning: to_msgpack is deprecated and will be removed in a future version.\n",
      "It is recommended to use pyarrow for on-the-wire transmission of pandas objects.\n",
      "  final_df.to_msgpack(output_path, compress='zlib')\n"
     ]
    },
    {
     "name": "stdout",
     "output_type": "stream",
     "text": [
      "/home/hanliu/project/mouse_rostral_brain/DMR/ITSpatial_by_region/AI/MotifScan.h5adtemp/MA0048.2.meme, N motif total=50749\n"
     ]
    },
    {
     "name": "stderr",
     "output_type": "stream",
     "text": [
      "/home/hanliu/miniconda3/envs/clustering/lib/python3.7/site-packages/ALLCools/dmr/fimo.py:60: FutureWarning: to_msgpack is deprecated and will be removed in a future version.\n",
      "It is recommended to use pyarrow for on-the-wire transmission of pandas objects.\n",
      "  final_df.to_msgpack(output_path, compress='zlib')\n"
     ]
    },
    {
     "name": "stdout",
     "output_type": "stream",
     "text": [
      "Finish count 400 motifs.\n"
     ]
    },
    {
     "name": "stdout",
     "output_type": "stream",
     "text": [
      "/home/hanliu/project/mouse_rostral_brain/DMR/ITSpatial_by_region/AI/MotifScan.h5adtemp/MA1528.1.meme, N motif total=40078\n"
     ]
    },
    {
     "name": "stderr",
     "output_type": "stream",
     "text": [
      "/home/hanliu/miniconda3/envs/clustering/lib/python3.7/site-packages/ALLCools/dmr/fimo.py:60: FutureWarning: to_msgpack is deprecated and will be removed in a future version.\n",
      "It is recommended to use pyarrow for on-the-wire transmission of pandas objects.\n",
      "  final_df.to_msgpack(output_path, compress='zlib')\n"
     ]
    },
    {
     "name": "stdout",
     "output_type": "stream",
     "text": [
      "/home/hanliu/project/mouse_rostral_brain/DMR/ITSpatial_by_region/AI/MotifScan.h5adtemp/MA0063.2.meme, N motif total=20351\n"
     ]
    },
    {
     "name": "stderr",
     "output_type": "stream",
     "text": [
      "/home/hanliu/miniconda3/envs/clustering/lib/python3.7/site-packages/ALLCools/dmr/fimo.py:60: FutureWarning: to_msgpack is deprecated and will be removed in a future version.\n",
      "It is recommended to use pyarrow for on-the-wire transmission of pandas objects.\n",
      "  final_df.to_msgpack(output_path, compress='zlib')\n"
     ]
    },
    {
     "name": "stdout",
     "output_type": "stream",
     "text": [
      "/home/hanliu/project/mouse_rostral_brain/DMR/ITSpatial_by_region/AI/MotifScan.h5adtemp/MA1645.1.meme, N motif total=29213\n"
     ]
    },
    {
     "name": "stderr",
     "output_type": "stream",
     "text": [
      "/home/hanliu/miniconda3/envs/clustering/lib/python3.7/site-packages/ALLCools/dmr/fimo.py:60: FutureWarning: to_msgpack is deprecated and will be removed in a future version.\n",
      "It is recommended to use pyarrow for on-the-wire transmission of pandas objects.\n",
      "  final_df.to_msgpack(output_path, compress='zlib')\n"
     ]
    },
    {
     "name": "stdout",
     "output_type": "stream",
     "text": [
      "/home/hanliu/project/mouse_rostral_brain/DMR/ITSpatial_by_region/AI/MotifScan.h5adtemp/MA0503.1.meme, N motif total=33497\n"
     ]
    },
    {
     "name": "stderr",
     "output_type": "stream",
     "text": [
      "/home/hanliu/miniconda3/envs/clustering/lib/python3.7/site-packages/ALLCools/dmr/fimo.py:60: FutureWarning: to_msgpack is deprecated and will be removed in a future version.\n",
      "It is recommended to use pyarrow for on-the-wire transmission of pandas objects.\n",
      "  final_df.to_msgpack(output_path, compress='zlib')\n"
     ]
    },
    {
     "name": "stdout",
     "output_type": "stream",
     "text": [
      "/home/hanliu/project/mouse_rostral_brain/DMR/ITSpatial_by_region/AI/MotifScan.h5adtemp/MA0673.1.meme, N motif total=20216\n"
     ]
    },
    {
     "name": "stderr",
     "output_type": "stream",
     "text": [
      "/home/hanliu/miniconda3/envs/clustering/lib/python3.7/site-packages/ALLCools/dmr/fimo.py:60: FutureWarning: to_msgpack is deprecated and will be removed in a future version.\n",
      "It is recommended to use pyarrow for on-the-wire transmission of pandas objects.\n",
      "  final_df.to_msgpack(output_path, compress='zlib')\n"
     ]
    },
    {
     "name": "stdout",
     "output_type": "stream",
     "text": [
      "/home/hanliu/project/mouse_rostral_brain/DMR/ITSpatial_by_region/AI/MotifScan.h5adtemp/MA0675.1.meme, N motif total=16825\n"
     ]
    },
    {
     "name": "stderr",
     "output_type": "stream",
     "text": [
      "/home/hanliu/miniconda3/envs/clustering/lib/python3.7/site-packages/ALLCools/dmr/fimo.py:60: FutureWarning: to_msgpack is deprecated and will be removed in a future version.\n",
      "It is recommended to use pyarrow for on-the-wire transmission of pandas objects.\n",
      "  final_df.to_msgpack(output_path, compress='zlib')\n"
     ]
    },
    {
     "name": "stdout",
     "output_type": "stream",
     "text": [
      "/home/hanliu/project/mouse_rostral_brain/DMR/ITSpatial_by_region/AI/MotifScan.h5adtemp/MA0124.2.meme, N motif total=17532\n"
     ]
    },
    {
     "name": "stderr",
     "output_type": "stream",
     "text": [
      "/home/hanliu/miniconda3/envs/clustering/lib/python3.7/site-packages/ALLCools/dmr/fimo.py:60: FutureWarning: to_msgpack is deprecated and will be removed in a future version.\n",
      "It is recommended to use pyarrow for on-the-wire transmission of pandas objects.\n",
      "  final_df.to_msgpack(output_path, compress='zlib')\n"
     ]
    },
    {
     "name": "stdout",
     "output_type": "stream",
     "text": [
      "/home/hanliu/project/mouse_rostral_brain/DMR/ITSpatial_by_region/AI/MotifScan.h5adtemp/MA0674.1.meme, N motif total=16651\n"
     ]
    },
    {
     "name": "stderr",
     "output_type": "stream",
     "text": [
      "/home/hanliu/miniconda3/envs/clustering/lib/python3.7/site-packages/ALLCools/dmr/fimo.py:60: FutureWarning: to_msgpack is deprecated and will be removed in a future version.\n",
      "It is recommended to use pyarrow for on-the-wire transmission of pandas objects.\n",
      "  final_df.to_msgpack(output_path, compress='zlib')\n"
     ]
    },
    {
     "name": "stdout",
     "output_type": "stream",
     "text": [
      "/home/hanliu/project/mouse_rostral_brain/DMR/ITSpatial_by_region/AI/MotifScan.h5adtemp/MA0125.1.meme, N motif total=10478\n"
     ]
    },
    {
     "name": "stderr",
     "output_type": "stream",
     "text": [
      "/home/hanliu/miniconda3/envs/clustering/lib/python3.7/site-packages/ALLCools/dmr/fimo.py:60: FutureWarning: to_msgpack is deprecated and will be removed in a future version.\n",
      "It is recommended to use pyarrow for on-the-wire transmission of pandas objects.\n",
      "  final_df.to_msgpack(output_path, compress='zlib')\n"
     ]
    },
    {
     "name": "stdout",
     "output_type": "stream",
     "text": [
      "/home/hanliu/project/mouse_rostral_brain/DMR/ITSpatial_by_region/AI/MotifScan.h5adtemp/MA1529.1.meme, N motif total=40145\n"
     ]
    },
    {
     "name": "stderr",
     "output_type": "stream",
     "text": [
      "/home/hanliu/miniconda3/envs/clustering/lib/python3.7/site-packages/ALLCools/dmr/fimo.py:60: FutureWarning: to_msgpack is deprecated and will be removed in a future version.\n",
      "It is recommended to use pyarrow for on-the-wire transmission of pandas objects.\n",
      "  final_df.to_msgpack(output_path, compress='zlib')\n"
     ]
    },
    {
     "name": "stdout",
     "output_type": "stream",
     "text": [
      "/home/hanliu/project/mouse_rostral_brain/DMR/ITSpatial_by_region/AI/MotifScan.h5adtemp/MA1530.1.meme, N motif total=14210\n"
     ]
    },
    {
     "name": "stderr",
     "output_type": "stream",
     "text": [
      "/home/hanliu/miniconda3/envs/clustering/lib/python3.7/site-packages/ALLCools/dmr/fimo.py:60: FutureWarning: to_msgpack is deprecated and will be removed in a future version.\n",
      "It is recommended to use pyarrow for on-the-wire transmission of pandas objects.\n",
      "  final_df.to_msgpack(output_path, compress='zlib')\n"
     ]
    },
    {
     "name": "stdout",
     "output_type": "stream",
     "text": [
      "/home/hanliu/project/mouse_rostral_brain/DMR/ITSpatial_by_region/AI/MotifScan.h5adtemp/MA0122.3.meme, N motif total=19339\n"
     ]
    },
    {
     "name": "stderr",
     "output_type": "stream",
     "text": [
      "/home/hanliu/miniconda3/envs/clustering/lib/python3.7/site-packages/ALLCools/dmr/fimo.py:60: FutureWarning: to_msgpack is deprecated and will be removed in a future version.\n",
      "It is recommended to use pyarrow for on-the-wire transmission of pandas objects.\n",
      "  final_df.to_msgpack(output_path, compress='zlib')\n"
     ]
    },
    {
     "name": "stdout",
     "output_type": "stream",
     "text": [
      "/home/hanliu/project/mouse_rostral_brain/DMR/ITSpatial_by_region/AI/MotifScan.h5adtemp/MA0626.1.meme, N motif total=17438\n"
     ]
    },
    {
     "name": "stderr",
     "output_type": "stream",
     "text": [
      "/home/hanliu/miniconda3/envs/clustering/lib/python3.7/site-packages/ALLCools/dmr/fimo.py:60: FutureWarning: to_msgpack is deprecated and will be removed in a future version.\n",
      "It is recommended to use pyarrow for on-the-wire transmission of pandas objects.\n",
      "  final_df.to_msgpack(output_path, compress='zlib')\n"
     ]
    },
    {
     "name": "stdout",
     "output_type": "stream",
     "text": [
      "/home/hanliu/project/mouse_rostral_brain/DMR/ITSpatial_by_region/AI/MotifScan.h5adtemp/MA0710.1.meme, N motif total=14626\n"
     ]
    },
    {
     "name": "stderr",
     "output_type": "stream",
     "text": [
      "/home/hanliu/miniconda3/envs/clustering/lib/python3.7/site-packages/ALLCools/dmr/fimo.py:60: FutureWarning: to_msgpack is deprecated and will be removed in a future version.\n",
      "It is recommended to use pyarrow for on-the-wire transmission of pandas objects.\n",
      "  final_df.to_msgpack(output_path, compress='zlib')\n"
     ]
    },
    {
     "name": "stdout",
     "output_type": "stream",
     "text": [
      "/home/hanliu/project/mouse_rostral_brain/DMR/ITSpatial_by_region/AI/MotifScan.h5adtemp/MA1110.1.meme, N motif total=16796\n"
     ]
    },
    {
     "name": "stderr",
     "output_type": "stream",
     "text": [
      "/home/hanliu/miniconda3/envs/clustering/lib/python3.7/site-packages/ALLCools/dmr/fimo.py:60: FutureWarning: to_msgpack is deprecated and will be removed in a future version.\n",
      "It is recommended to use pyarrow for on-the-wire transmission of pandas objects.\n",
      "  final_df.to_msgpack(output_path, compress='zlib')\n"
     ]
    },
    {
     "name": "stdout",
     "output_type": "stream",
     "text": [
      "/home/hanliu/project/mouse_rostral_brain/DMR/ITSpatial_by_region/AI/MotifScan.h5adtemp/MA1535.1.meme, N motif total=22253\n"
     ]
    },
    {
     "name": "stderr",
     "output_type": "stream",
     "text": [
      "/home/hanliu/miniconda3/envs/clustering/lib/python3.7/site-packages/ALLCools/dmr/fimo.py:60: FutureWarning: to_msgpack is deprecated and will be removed in a future version.\n",
      "It is recommended to use pyarrow for on-the-wire transmission of pandas objects.\n",
      "  final_df.to_msgpack(output_path, compress='zlib')\n"
     ]
    },
    {
     "name": "stdout",
     "output_type": "stream",
     "text": [
      "/home/hanliu/project/mouse_rostral_brain/DMR/ITSpatial_by_region/AI/MotifScan.h5adtemp/MA1146.1.meme, N motif total=13660\n"
     ]
    },
    {
     "name": "stderr",
     "output_type": "stream",
     "text": [
      "/home/hanliu/miniconda3/envs/clustering/lib/python3.7/site-packages/ALLCools/dmr/fimo.py:60: FutureWarning: to_msgpack is deprecated and will be removed in a future version.\n",
      "It is recommended to use pyarrow for on-the-wire transmission of pandas objects.\n",
      "  final_df.to_msgpack(output_path, compress='zlib')\n"
     ]
    },
    {
     "name": "stdout",
     "output_type": "stream",
     "text": [
      "/home/hanliu/project/mouse_rostral_brain/DMR/ITSpatial_by_region/AI/MotifScan.h5adtemp/MA1534.1.meme, N motif total=18565\n"
     ]
    },
    {
     "name": "stderr",
     "output_type": "stream",
     "text": [
      "/home/hanliu/miniconda3/envs/clustering/lib/python3.7/site-packages/ALLCools/dmr/fimo.py:60: FutureWarning: to_msgpack is deprecated and will be removed in a future version.\n",
      "It is recommended to use pyarrow for on-the-wire transmission of pandas objects.\n",
      "  final_df.to_msgpack(output_path, compress='zlib')\n"
     ]
    },
    {
     "name": "stdout",
     "output_type": "stream",
     "text": [
      "/home/hanliu/project/mouse_rostral_brain/DMR/ITSpatial_by_region/AI/MotifScan.h5adtemp/MA1531.1.meme, N motif total=15207\n"
     ]
    },
    {
     "name": "stderr",
     "output_type": "stream",
     "text": [
      "/home/hanliu/miniconda3/envs/clustering/lib/python3.7/site-packages/ALLCools/dmr/fimo.py:60: FutureWarning: to_msgpack is deprecated and will be removed in a future version.\n",
      "It is recommended to use pyarrow for on-the-wire transmission of pandas objects.\n",
      "  final_df.to_msgpack(output_path, compress='zlib')\n"
     ]
    },
    {
     "name": "stdout",
     "output_type": "stream",
     "text": [
      "/home/hanliu/project/mouse_rostral_brain/DMR/ITSpatial_by_region/AI/MotifScan.h5adtemp/MA1532.1.meme, N motif total=20890\n"
     ]
    },
    {
     "name": "stderr",
     "output_type": "stream",
     "text": [
      "/home/hanliu/miniconda3/envs/clustering/lib/python3.7/site-packages/ALLCools/dmr/fimo.py:60: FutureWarning: to_msgpack is deprecated and will be removed in a future version.\n",
      "It is recommended to use pyarrow for on-the-wire transmission of pandas objects.\n",
      "  final_df.to_msgpack(output_path, compress='zlib')\n"
     ]
    },
    {
     "name": "stdout",
     "output_type": "stream",
     "text": [
      "/home/hanliu/project/mouse_rostral_brain/DMR/ITSpatial_by_region/AI/MotifScan.h5adtemp/MA0164.1.meme, N motif total=16652\n"
     ]
    },
    {
     "name": "stderr",
     "output_type": "stream",
     "text": [
      "/home/hanliu/miniconda3/envs/clustering/lib/python3.7/site-packages/ALLCools/dmr/fimo.py:60: FutureWarning: to_msgpack is deprecated and will be removed in a future version.\n",
      "It is recommended to use pyarrow for on-the-wire transmission of pandas objects.\n",
      "  final_df.to_msgpack(output_path, compress='zlib')\n"
     ]
    },
    {
     "name": "stdout",
     "output_type": "stream",
     "text": [
      "/home/hanliu/project/mouse_rostral_brain/DMR/ITSpatial_by_region/AI/MotifScan.h5adtemp/MA0494.1.meme, N motif total=21426\n"
     ]
    },
    {
     "name": "stderr",
     "output_type": "stream",
     "text": [
      "/home/hanliu/miniconda3/envs/clustering/lib/python3.7/site-packages/ALLCools/dmr/fimo.py:60: FutureWarning: to_msgpack is deprecated and will be removed in a future version.\n",
      "It is recommended to use pyarrow for on-the-wire transmission of pandas objects.\n",
      "  final_df.to_msgpack(output_path, compress='zlib')\n"
     ]
    },
    {
     "name": "stdout",
     "output_type": "stream",
     "text": [
      "/home/hanliu/project/mouse_rostral_brain/DMR/ITSpatial_by_region/AI/MotifScan.h5adtemp/MA0676.1.meme, N motif total=24600\n"
     ]
    },
    {
     "name": "stderr",
     "output_type": "stream",
     "text": [
      "/home/hanliu/miniconda3/envs/clustering/lib/python3.7/site-packages/ALLCools/dmr/fimo.py:60: FutureWarning: to_msgpack is deprecated and will be removed in a future version.\n",
      "It is recommended to use pyarrow for on-the-wire transmission of pandas objects.\n",
      "  final_df.to_msgpack(output_path, compress='zlib')\n"
     ]
    },
    {
     "name": "stdout",
     "output_type": "stream",
     "text": [
      "/home/hanliu/project/mouse_rostral_brain/DMR/ITSpatial_by_region/AI/MotifScan.h5adtemp/MA1536.1.meme, N motif total=13692\n"
     ]
    },
    {
     "name": "stderr",
     "output_type": "stream",
     "text": [
      "/home/hanliu/miniconda3/envs/clustering/lib/python3.7/site-packages/ALLCools/dmr/fimo.py:60: FutureWarning: to_msgpack is deprecated and will be removed in a future version.\n",
      "It is recommended to use pyarrow for on-the-wire transmission of pandas objects.\n",
      "  final_df.to_msgpack(output_path, compress='zlib')\n"
     ]
    },
    {
     "name": "stdout",
     "output_type": "stream",
     "text": [
      "/home/hanliu/project/mouse_rostral_brain/DMR/ITSpatial_by_region/AI/MotifScan.h5adtemp/MA0115.1.meme, N motif total=1243\n"
     ]
    },
    {
     "name": "stderr",
     "output_type": "stream",
     "text": [
      "/home/hanliu/miniconda3/envs/clustering/lib/python3.7/site-packages/ALLCools/dmr/fimo.py:60: FutureWarning: to_msgpack is deprecated and will be removed in a future version.\n",
      "It is recommended to use pyarrow for on-the-wire transmission of pandas objects.\n",
      "  final_df.to_msgpack(output_path, compress='zlib')\n"
     ]
    },
    {
     "name": "stdout",
     "output_type": "stream",
     "text": [
      "/home/hanliu/project/mouse_rostral_brain/DMR/ITSpatial_by_region/AI/MotifScan.h5adtemp/MA1533.1.meme, N motif total=13227\n"
     ]
    },
    {
     "name": "stderr",
     "output_type": "stream",
     "text": [
      "/home/hanliu/miniconda3/envs/clustering/lib/python3.7/site-packages/ALLCools/dmr/fimo.py:60: FutureWarning: to_msgpack is deprecated and will be removed in a future version.\n",
      "It is recommended to use pyarrow for on-the-wire transmission of pandas objects.\n",
      "  final_df.to_msgpack(output_path, compress='zlib')\n"
     ]
    },
    {
     "name": "stdout",
     "output_type": "stream",
     "text": [
      "/home/hanliu/project/mouse_rostral_brain/DMR/ITSpatial_by_region/AI/MotifScan.h5adtemp/MA0504.1.meme, N motif total=41614\n"
     ]
    },
    {
     "name": "stderr",
     "output_type": "stream",
     "text": [
      "/home/hanliu/miniconda3/envs/clustering/lib/python3.7/site-packages/ALLCools/dmr/fimo.py:60: FutureWarning: to_msgpack is deprecated and will be removed in a future version.\n",
      "It is recommended to use pyarrow for on-the-wire transmission of pandas objects.\n",
      "  final_df.to_msgpack(output_path, compress='zlib')\n"
     ]
    },
    {
     "name": "stdout",
     "output_type": "stream",
     "text": [
      "/home/hanliu/project/mouse_rostral_brain/DMR/ITSpatial_by_region/AI/MotifScan.h5adtemp/MA0017.2.meme, N motif total=24312\n"
     ]
    },
    {
     "name": "stderr",
     "output_type": "stream",
     "text": [
      "/home/hanliu/miniconda3/envs/clustering/lib/python3.7/site-packages/ALLCools/dmr/fimo.py:60: FutureWarning: to_msgpack is deprecated and will be removed in a future version.\n",
      "It is recommended to use pyarrow for on-the-wire transmission of pandas objects.\n",
      "  final_df.to_msgpack(output_path, compress='zlib')\n"
     ]
    },
    {
     "name": "stdout",
     "output_type": "stream",
     "text": [
      "/home/hanliu/project/mouse_rostral_brain/DMR/ITSpatial_by_region/AI/MotifScan.h5adtemp/MA1111.1.meme, N motif total=22507\n"
     ]
    },
    {
     "name": "stderr",
     "output_type": "stream",
     "text": [
      "/home/hanliu/miniconda3/envs/clustering/lib/python3.7/site-packages/ALLCools/dmr/fimo.py:60: FutureWarning: to_msgpack is deprecated and will be removed in a future version.\n",
      "It is recommended to use pyarrow for on-the-wire transmission of pandas objects.\n",
      "  final_df.to_msgpack(output_path, compress='zlib')\n"
     ]
    },
    {
     "name": "stdout",
     "output_type": "stream",
     "text": [
      "/home/hanliu/project/mouse_rostral_brain/DMR/ITSpatial_by_region/AI/MotifScan.h5adtemp/MA1538.1.meme, N motif total=15110\n"
     ]
    },
    {
     "name": "stderr",
     "output_type": "stream",
     "text": [
      "/home/hanliu/miniconda3/envs/clustering/lib/python3.7/site-packages/ALLCools/dmr/fimo.py:60: FutureWarning: to_msgpack is deprecated and will be removed in a future version.\n",
      "It is recommended to use pyarrow for on-the-wire transmission of pandas objects.\n",
      "  final_df.to_msgpack(output_path, compress='zlib')\n"
     ]
    },
    {
     "name": "stdout",
     "output_type": "stream",
     "text": [
      "/home/hanliu/project/mouse_rostral_brain/DMR/ITSpatial_by_region/AI/MotifScan.h5adtemp/MA0160.1.meme, N motif total=21974\n"
     ]
    },
    {
     "name": "stderr",
     "output_type": "stream",
     "text": [
      "/home/hanliu/miniconda3/envs/clustering/lib/python3.7/site-packages/ALLCools/dmr/fimo.py:60: FutureWarning: to_msgpack is deprecated and will be removed in a future version.\n",
      "It is recommended to use pyarrow for on-the-wire transmission of pandas objects.\n",
      "  final_df.to_msgpack(output_path, compress='zlib')\n"
     ]
    },
    {
     "name": "stdout",
     "output_type": "stream",
     "text": [
      "/home/hanliu/project/mouse_rostral_brain/DMR/ITSpatial_by_region/AI/MotifScan.h5adtemp/MA1537.1.meme, N motif total=17369\n"
     ]
    },
    {
     "name": "stderr",
     "output_type": "stream",
     "text": [
      "/home/hanliu/miniconda3/envs/clustering/lib/python3.7/site-packages/ALLCools/dmr/fimo.py:60: FutureWarning: to_msgpack is deprecated and will be removed in a future version.\n",
      "It is recommended to use pyarrow for on-the-wire transmission of pandas objects.\n",
      "  final_df.to_msgpack(output_path, compress='zlib')\n"
     ]
    },
    {
     "name": "stdout",
     "output_type": "stream",
     "text": [
      "/home/hanliu/project/mouse_rostral_brain/DMR/ITSpatial_by_region/AI/MotifScan.h5adtemp/MA0677.1.meme, N motif total=24032\n"
     ]
    },
    {
     "name": "stderr",
     "output_type": "stream",
     "text": [
      "/home/hanliu/miniconda3/envs/clustering/lib/python3.7/site-packages/ALLCools/dmr/fimo.py:60: FutureWarning: to_msgpack is deprecated and will be removed in a future version.\n",
      "It is recommended to use pyarrow for on-the-wire transmission of pandas objects.\n",
      "  final_df.to_msgpack(output_path, compress='zlib')\n"
     ]
    },
    {
     "name": "stdout",
     "output_type": "stream",
     "text": [
      "/home/hanliu/project/mouse_rostral_brain/DMR/ITSpatial_by_region/AI/MotifScan.h5adtemp/MA1539.1.meme, N motif total=9531\n"
     ]
    },
    {
     "name": "stderr",
     "output_type": "stream",
     "text": [
      "/home/hanliu/miniconda3/envs/clustering/lib/python3.7/site-packages/ALLCools/dmr/fimo.py:60: FutureWarning: to_msgpack is deprecated and will be removed in a future version.\n",
      "It is recommended to use pyarrow for on-the-wire transmission of pandas objects.\n",
      "  final_df.to_msgpack(output_path, compress='zlib')\n"
     ]
    },
    {
     "name": "stdout",
     "output_type": "stream",
     "text": [
      "/home/hanliu/project/mouse_rostral_brain/DMR/ITSpatial_by_region/AI/MotifScan.h5adtemp/MA0728.1.meme, N motif total=2806\n"
     ]
    },
    {
     "name": "stderr",
     "output_type": "stream",
     "text": [
      "/home/hanliu/miniconda3/envs/clustering/lib/python3.7/site-packages/ALLCools/dmr/fimo.py:60: FutureWarning: to_msgpack is deprecated and will be removed in a future version.\n",
      "It is recommended to use pyarrow for on-the-wire transmission of pandas objects.\n",
      "  final_df.to_msgpack(output_path, compress='zlib')\n"
     ]
    },
    {
     "name": "stdout",
     "output_type": "stream",
     "text": [
      "/home/hanliu/project/mouse_rostral_brain/DMR/ITSpatial_by_region/AI/MotifScan.h5adtemp/MA1112.2.meme, N motif total=30337\n"
     ]
    },
    {
     "name": "stderr",
     "output_type": "stream",
     "text": [
      "/home/hanliu/miniconda3/envs/clustering/lib/python3.7/site-packages/ALLCools/dmr/fimo.py:60: FutureWarning: to_msgpack is deprecated and will be removed in a future version.\n",
      "It is recommended to use pyarrow for on-the-wire transmission of pandas objects.\n",
      "  final_df.to_msgpack(output_path, compress='zlib')\n"
     ]
    },
    {
     "name": "stdout",
     "output_type": "stream",
     "text": [
      "/home/hanliu/project/mouse_rostral_brain/DMR/ITSpatial_by_region/AI/MotifScan.h5adtemp/MA1540.1.meme, N motif total=26557\n"
     ]
    },
    {
     "name": "stderr",
     "output_type": "stream",
     "text": [
      "/home/hanliu/miniconda3/envs/clustering/lib/python3.7/site-packages/ALLCools/dmr/fimo.py:60: FutureWarning: to_msgpack is deprecated and will be removed in a future version.\n",
      "It is recommended to use pyarrow for on-the-wire transmission of pandas objects.\n",
      "  final_df.to_msgpack(output_path, compress='zlib')\n"
     ]
    },
    {
     "name": "stdout",
     "output_type": "stream",
     "text": [
      "/home/hanliu/project/mouse_rostral_brain/DMR/ITSpatial_by_region/AI/MotifScan.h5adtemp/MA0727.1.meme, N motif total=11795\n"
     ]
    },
    {
     "name": "stderr",
     "output_type": "stream",
     "text": [
      "/home/hanliu/miniconda3/envs/clustering/lib/python3.7/site-packages/ALLCools/dmr/fimo.py:60: FutureWarning: to_msgpack is deprecated and will be removed in a future version.\n",
      "It is recommended to use pyarrow for on-the-wire transmission of pandas objects.\n",
      "  final_df.to_msgpack(output_path, compress='zlib')\n"
     ]
    },
    {
     "name": "stdout",
     "output_type": "stream",
     "text": [
      "/home/hanliu/project/mouse_rostral_brain/DMR/ITSpatial_by_region/AI/MotifScan.h5adtemp/MA1147.1.meme, N motif total=12445\n"
     ]
    },
    {
     "name": "stderr",
     "output_type": "stream",
     "text": [
      "/home/hanliu/miniconda3/envs/clustering/lib/python3.7/site-packages/ALLCools/dmr/fimo.py:60: FutureWarning: to_msgpack is deprecated and will be removed in a future version.\n",
      "It is recommended to use pyarrow for on-the-wire transmission of pandas objects.\n",
      "  final_df.to_msgpack(output_path, compress='zlib')\n"
     ]
    },
    {
     "name": "stdout",
     "output_type": "stream",
     "text": [
      "/home/hanliu/project/mouse_rostral_brain/DMR/ITSpatial_by_region/AI/MotifScan.h5adtemp/MA0506.1.meme, N motif total=12974\n"
     ]
    },
    {
     "name": "stderr",
     "output_type": "stream",
     "text": [
      "/home/hanliu/miniconda3/envs/clustering/lib/python3.7/site-packages/ALLCools/dmr/fimo.py:60: FutureWarning: to_msgpack is deprecated and will be removed in a future version.\n",
      "It is recommended to use pyarrow for on-the-wire transmission of pandas objects.\n",
      "  final_df.to_msgpack(output_path, compress='zlib')\n"
     ]
    },
    {
     "name": "stdout",
     "output_type": "stream",
     "text": [
      "/home/hanliu/project/mouse_rostral_brain/DMR/ITSpatial_by_region/AI/MotifScan.h5adtemp/MA0113.3.meme, N motif total=12594\n"
     ]
    },
    {
     "name": "stderr",
     "output_type": "stream",
     "text": [
      "/home/hanliu/miniconda3/envs/clustering/lib/python3.7/site-packages/ALLCools/dmr/fimo.py:60: FutureWarning: to_msgpack is deprecated and will be removed in a future version.\n",
      "It is recommended to use pyarrow for on-the-wire transmission of pandas objects.\n",
      "  final_df.to_msgpack(output_path, compress='zlib')\n"
     ]
    },
    {
     "name": "stdout",
     "output_type": "stream",
     "text": [
      "/home/hanliu/project/mouse_rostral_brain/DMR/ITSpatial_by_region/AI/MotifScan.h5adtemp/MA0678.1.meme, N motif total=25877\n"
     ]
    },
    {
     "name": "stderr",
     "output_type": "stream",
     "text": [
      "/home/hanliu/miniconda3/envs/clustering/lib/python3.7/site-packages/ALLCools/dmr/fimo.py:60: FutureWarning: to_msgpack is deprecated and will be removed in a future version.\n",
      "It is recommended to use pyarrow for on-the-wire transmission of pandas objects.\n",
      "  final_df.to_msgpack(output_path, compress='zlib')\n"
     ]
    },
    {
     "name": "stdout",
     "output_type": "stream",
     "text": [
      "/home/hanliu/project/mouse_rostral_brain/DMR/ITSpatial_by_region/AI/MotifScan.h5adtemp/MA0826.1.meme, N motif total=27842\n"
     ]
    },
    {
     "name": "stderr",
     "output_type": "stream",
     "text": [
      "/home/hanliu/miniconda3/envs/clustering/lib/python3.7/site-packages/ALLCools/dmr/fimo.py:60: FutureWarning: to_msgpack is deprecated and will be removed in a future version.\n",
      "It is recommended to use pyarrow for on-the-wire transmission of pandas objects.\n",
      "  final_df.to_msgpack(output_path, compress='zlib')\n"
     ]
    },
    {
     "name": "stdout",
     "output_type": "stream",
     "text": [
      "/home/hanliu/project/mouse_rostral_brain/DMR/ITSpatial_by_region/AI/MotifScan.h5adtemp/MA0827.1.meme, N motif total=28203\n"
     ]
    },
    {
     "name": "stderr",
     "output_type": "stream",
     "text": [
      "/home/hanliu/miniconda3/envs/clustering/lib/python3.7/site-packages/ALLCools/dmr/fimo.py:60: FutureWarning: to_msgpack is deprecated and will be removed in a future version.\n",
      "It is recommended to use pyarrow for on-the-wire transmission of pandas objects.\n",
      "  final_df.to_msgpack(output_path, compress='zlib')\n"
     ]
    },
    {
     "name": "stdout",
     "output_type": "stream",
     "text": [
      "/home/hanliu/project/mouse_rostral_brain/DMR/ITSpatial_by_region/AI/MotifScan.h5adtemp/MA0711.1.meme, N motif total=9012\n"
     ]
    },
    {
     "name": "stderr",
     "output_type": "stream",
     "text": [
      "/home/hanliu/miniconda3/envs/clustering/lib/python3.7/site-packages/ALLCools/dmr/fimo.py:60: FutureWarning: to_msgpack is deprecated and will be removed in a future version.\n",
      "It is recommended to use pyarrow for on-the-wire transmission of pandas objects.\n",
      "  final_df.to_msgpack(output_path, compress='zlib')\n"
     ]
    },
    {
     "name": "stdout",
     "output_type": "stream",
     "text": [
      "/home/hanliu/project/mouse_rostral_brain/DMR/ITSpatial_by_region/AI/MotifScan.h5adtemp/MA0842.2.meme, N motif total=20559\n"
     ]
    },
    {
     "name": "stderr",
     "output_type": "stream",
     "text": [
      "/home/hanliu/miniconda3/envs/clustering/lib/python3.7/site-packages/ALLCools/dmr/fimo.py:60: FutureWarning: to_msgpack is deprecated and will be removed in a future version.\n",
      "It is recommended to use pyarrow for on-the-wire transmission of pandas objects.\n",
      "  final_df.to_msgpack(output_path, compress='zlib')\n"
     ]
    },
    {
     "name": "stdout",
     "output_type": "stream",
     "text": [
      "/home/hanliu/project/mouse_rostral_brain/DMR/ITSpatial_by_region/AI/MotifScan.h5adtemp/MA0505.1.meme, N motif total=40339\n"
     ]
    },
    {
     "name": "stderr",
     "output_type": "stream",
     "text": [
      "/home/hanliu/miniconda3/envs/clustering/lib/python3.7/site-packages/ALLCools/dmr/fimo.py:60: FutureWarning: to_msgpack is deprecated and will be removed in a future version.\n",
      "It is recommended to use pyarrow for on-the-wire transmission of pandas objects.\n",
      "  final_df.to_msgpack(output_path, compress='zlib')\n"
     ]
    },
    {
     "name": "stdout",
     "output_type": "stream",
     "text": [
      "/home/hanliu/project/mouse_rostral_brain/DMR/ITSpatial_by_region/AI/MotifScan.h5adtemp/MA1541.1.meme, N motif total=24470\n"
     ]
    },
    {
     "name": "stderr",
     "output_type": "stream",
     "text": [
      "/home/hanliu/miniconda3/envs/clustering/lib/python3.7/site-packages/ALLCools/dmr/fimo.py:60: FutureWarning: to_msgpack is deprecated and will be removed in a future version.\n",
      "It is recommended to use pyarrow for on-the-wire transmission of pandas objects.\n",
      "  final_df.to_msgpack(output_path, compress='zlib')\n"
     ]
    },
    {
     "name": "stdout",
     "output_type": "stream",
     "text": [
      "/home/hanliu/project/mouse_rostral_brain/DMR/ITSpatial_by_region/AI/MotifScan.h5adtemp/MA1542.1.meme, N motif total=17819\n"
     ]
    },
    {
     "name": "stderr",
     "output_type": "stream",
     "text": [
      "/home/hanliu/miniconda3/envs/clustering/lib/python3.7/site-packages/ALLCools/dmr/fimo.py:60: FutureWarning: to_msgpack is deprecated and will be removed in a future version.\n",
      "It is recommended to use pyarrow for on-the-wire transmission of pandas objects.\n",
      "  final_df.to_msgpack(output_path, compress='zlib')\n"
     ]
    },
    {
     "name": "stdout",
     "output_type": "stream",
     "text": [
      "/home/hanliu/project/mouse_rostral_brain/DMR/ITSpatial_by_region/AI/MotifScan.h5adtemp/MA0679.2.meme, N motif total=30947\n"
     ]
    },
    {
     "name": "stderr",
     "output_type": "stream",
     "text": [
      "/home/hanliu/miniconda3/envs/clustering/lib/python3.7/site-packages/ALLCools/dmr/fimo.py:60: FutureWarning: to_msgpack is deprecated and will be removed in a future version.\n",
      "It is recommended to use pyarrow for on-the-wire transmission of pandas objects.\n",
      "  final_df.to_msgpack(output_path, compress='zlib')\n"
     ]
    },
    {
     "name": "stdout",
     "output_type": "stream",
     "text": [
      "/home/hanliu/project/mouse_rostral_brain/DMR/ITSpatial_by_region/AI/MotifScan.h5adtemp/MA0756.1.meme, N motif total=13717\n"
     ]
    },
    {
     "name": "stderr",
     "output_type": "stream",
     "text": [
      "/home/hanliu/miniconda3/envs/clustering/lib/python3.7/site-packages/ALLCools/dmr/fimo.py:60: FutureWarning: to_msgpack is deprecated and will be removed in a future version.\n",
      "It is recommended to use pyarrow for on-the-wire transmission of pandas objects.\n",
      "  final_df.to_msgpack(output_path, compress='zlib')\n"
     ]
    },
    {
     "name": "stdout",
     "output_type": "stream",
     "text": [
      "/home/hanliu/project/mouse_rostral_brain/DMR/ITSpatial_by_region/AI/MotifScan.h5adtemp/MA0757.1.meme, N motif total=24244\n"
     ]
    },
    {
     "name": "stderr",
     "output_type": "stream",
     "text": [
      "/home/hanliu/miniconda3/envs/clustering/lib/python3.7/site-packages/ALLCools/dmr/fimo.py:60: FutureWarning: to_msgpack is deprecated and will be removed in a future version.\n",
      "It is recommended to use pyarrow for on-the-wire transmission of pandas objects.\n",
      "  final_df.to_msgpack(output_path, compress='zlib')\n"
     ]
    },
    {
     "name": "stdout",
     "output_type": "stream",
     "text": [
      "/home/hanliu/project/mouse_rostral_brain/DMR/ITSpatial_by_region/AI/MotifScan.h5adtemp/MA0067.1.meme, N motif total=5384\n"
     ]
    },
    {
     "name": "stderr",
     "output_type": "stream",
     "text": [
      "/home/hanliu/miniconda3/envs/clustering/lib/python3.7/site-packages/ALLCools/dmr/fimo.py:60: FutureWarning: to_msgpack is deprecated and will be removed in a future version.\n",
      "It is recommended to use pyarrow for on-the-wire transmission of pandas objects.\n",
      "  final_df.to_msgpack(output_path, compress='zlib')\n"
     ]
    },
    {
     "name": "stdout",
     "output_type": "stream",
     "text": [
      "/home/hanliu/project/mouse_rostral_brain/DMR/ITSpatial_by_region/AI/MotifScan.h5adtemp/MA0068.2.meme, N motif total=8781\n"
     ]
    },
    {
     "name": "stderr",
     "output_type": "stream",
     "text": [
      "/home/hanliu/miniconda3/envs/clustering/lib/python3.7/site-packages/ALLCools/dmr/fimo.py:60: FutureWarning: to_msgpack is deprecated and will be removed in a future version.\n",
      "It is recommended to use pyarrow for on-the-wire transmission of pandas objects.\n",
      "  final_df.to_msgpack(output_path, compress='zlib')\n"
     ]
    },
    {
     "name": "stdout",
     "output_type": "stream",
     "text": [
      "/home/hanliu/project/mouse_rostral_brain/DMR/ITSpatial_by_region/AI/MotifScan.h5adtemp/MA1646.1.meme, N motif total=50674\n"
     ]
    },
    {
     "name": "stderr",
     "output_type": "stream",
     "text": [
      "/home/hanliu/miniconda3/envs/clustering/lib/python3.7/site-packages/ALLCools/dmr/fimo.py:60: FutureWarning: to_msgpack is deprecated and will be removed in a future version.\n",
      "It is recommended to use pyarrow for on-the-wire transmission of pandas objects.\n",
      "  final_df.to_msgpack(output_path, compress='zlib')\n"
     ]
    },
    {
     "name": "stdout",
     "output_type": "stream",
     "text": [
      "/home/hanliu/project/mouse_rostral_brain/DMR/ITSpatial_by_region/AI/MotifScan.h5adtemp/MA1544.1.meme, N motif total=2743\n"
     ]
    },
    {
     "name": "stderr",
     "output_type": "stream",
     "text": [
      "/home/hanliu/miniconda3/envs/clustering/lib/python3.7/site-packages/ALLCools/dmr/fimo.py:60: FutureWarning: to_msgpack is deprecated and will be removed in a future version.\n",
      "It is recommended to use pyarrow for on-the-wire transmission of pandas objects.\n",
      "  final_df.to_msgpack(output_path, compress='zlib')\n"
     ]
    },
    {
     "name": "stdout",
     "output_type": "stream",
     "text": [
      "/home/hanliu/project/mouse_rostral_brain/DMR/ITSpatial_by_region/AI/MotifScan.h5adtemp/MA0712.2.meme, N motif total=18924\n"
     ]
    },
    {
     "name": "stderr",
     "output_type": "stream",
     "text": [
      "/home/hanliu/miniconda3/envs/clustering/lib/python3.7/site-packages/ALLCools/dmr/fimo.py:60: FutureWarning: to_msgpack is deprecated and will be removed in a future version.\n",
      "It is recommended to use pyarrow for on-the-wire transmission of pandas objects.\n",
      "  final_df.to_msgpack(output_path, compress='zlib')\n"
     ]
    },
    {
     "name": "stdout",
     "output_type": "stream",
     "text": [
      "/home/hanliu/project/mouse_rostral_brain/DMR/ITSpatial_by_region/AI/MotifScan.h5adtemp/MA0780.1.meme, N motif total=13378\n"
     ]
    },
    {
     "name": "stderr",
     "output_type": "stream",
     "text": [
      "/home/hanliu/miniconda3/envs/clustering/lib/python3.7/site-packages/ALLCools/dmr/fimo.py:60: FutureWarning: to_msgpack is deprecated and will be removed in a future version.\n",
      "It is recommended to use pyarrow for on-the-wire transmission of pandas objects.\n",
      "  final_df.to_msgpack(output_path, compress='zlib')\n"
     ]
    },
    {
     "name": "stdout",
     "output_type": "stream",
     "text": [
      "/home/hanliu/project/mouse_rostral_brain/DMR/ITSpatial_by_region/AI/MotifScan.h5adtemp/MA0014.3.meme, N motif total=9473\n"
     ]
    },
    {
     "name": "stderr",
     "output_type": "stream",
     "text": [
      "/home/hanliu/miniconda3/envs/clustering/lib/python3.7/site-packages/ALLCools/dmr/fimo.py:60: FutureWarning: to_msgpack is deprecated and will be removed in a future version.\n",
      "It is recommended to use pyarrow for on-the-wire transmission of pandas objects.\n",
      "  final_df.to_msgpack(output_path, compress='zlib')\n"
     ]
    },
    {
     "name": "stdout",
     "output_type": "stream",
     "text": [
      "/home/hanliu/project/mouse_rostral_brain/DMR/ITSpatial_by_region/AI/MotifScan.h5adtemp/MA1545.1.meme, N motif total=2681\n"
     ]
    },
    {
     "name": "stderr",
     "output_type": "stream",
     "text": [
      "/home/hanliu/miniconda3/envs/clustering/lib/python3.7/site-packages/ALLCools/dmr/fimo.py:60: FutureWarning: to_msgpack is deprecated and will be removed in a future version.\n",
      "It is recommended to use pyarrow for on-the-wire transmission of pandas objects.\n",
      "  final_df.to_msgpack(output_path, compress='zlib')\n"
     ]
    },
    {
     "name": "stdout",
     "output_type": "stream",
     "text": [
      "/home/hanliu/project/mouse_rostral_brain/DMR/ITSpatial_by_region/AI/MotifScan.h5adtemp/MA0680.1.meme, N motif total=12835\n"
     ]
    },
    {
     "name": "stderr",
     "output_type": "stream",
     "text": [
      "/home/hanliu/miniconda3/envs/clustering/lib/python3.7/site-packages/ALLCools/dmr/fimo.py:60: FutureWarning: to_msgpack is deprecated and will be removed in a future version.\n",
      "It is recommended to use pyarrow for on-the-wire transmission of pandas objects.\n",
      "  final_df.to_msgpack(output_path, compress='zlib')\n"
     ]
    },
    {
     "name": "stdout",
     "output_type": "stream",
     "text": [
      "/home/hanliu/project/mouse_rostral_brain/DMR/ITSpatial_by_region/AI/MotifScan.h5adtemp/MA0779.1.meme, N motif total=5192\n"
     ]
    },
    {
     "name": "stderr",
     "output_type": "stream",
     "text": [
      "/home/hanliu/miniconda3/envs/clustering/lib/python3.7/site-packages/ALLCools/dmr/fimo.py:60: FutureWarning: to_msgpack is deprecated and will be removed in a future version.\n",
      "It is recommended to use pyarrow for on-the-wire transmission of pandas objects.\n",
      "  final_df.to_msgpack(output_path, compress='zlib')\n"
     ]
    },
    {
     "name": "stdout",
     "output_type": "stream",
     "text": [
      "/home/hanliu/project/mouse_rostral_brain/DMR/ITSpatial_by_region/AI/MotifScan.h5adtemp/MA0069.1.meme, N motif total=12081\n"
     ]
    },
    {
     "name": "stderr",
     "output_type": "stream",
     "text": [
      "/home/hanliu/miniconda3/envs/clustering/lib/python3.7/site-packages/ALLCools/dmr/fimo.py:60: FutureWarning: to_msgpack is deprecated and will be removed in a future version.\n",
      "It is recommended to use pyarrow for on-the-wire transmission of pandas objects.\n",
      "  final_df.to_msgpack(output_path, compress='zlib')\n"
     ]
    },
    {
     "name": "stdout",
     "output_type": "stream",
     "text": [
      "/home/hanliu/project/mouse_rostral_brain/DMR/ITSpatial_by_region/AI/MotifScan.h5adtemp/MA0070.1.meme, N motif total=17051\n"
     ]
    },
    {
     "name": "stderr",
     "output_type": "stream",
     "text": [
      "/home/hanliu/miniconda3/envs/clustering/lib/python3.7/site-packages/ALLCools/dmr/fimo.py:60: FutureWarning: to_msgpack is deprecated and will be removed in a future version.\n",
      "It is recommended to use pyarrow for on-the-wire transmission of pandas objects.\n",
      "  final_df.to_msgpack(output_path, compress='zlib')\n"
     ]
    },
    {
     "name": "stdout",
     "output_type": "stream",
     "text": [
      "/home/hanliu/project/mouse_rostral_brain/DMR/ITSpatial_by_region/AI/MotifScan.h5adtemp/MA1546.1.meme, N motif total=6802\n"
     ]
    },
    {
     "name": "stderr",
     "output_type": "stream",
     "text": [
      "/home/hanliu/miniconda3/envs/clustering/lib/python3.7/site-packages/ALLCools/dmr/fimo.py:60: FutureWarning: to_msgpack is deprecated and will be removed in a future version.\n",
      "It is recommended to use pyarrow for on-the-wire transmission of pandas objects.\n",
      "  final_df.to_msgpack(output_path, compress='zlib')\n"
     ]
    },
    {
     "name": "stdout",
     "output_type": "stream",
     "text": [
      "/home/hanliu/project/mouse_rostral_brain/DMR/ITSpatial_by_region/AI/MotifScan.h5adtemp/MA0781.1.meme, N motif total=1354\n"
     ]
    },
    {
     "name": "stderr",
     "output_type": "stream",
     "text": [
      "/home/hanliu/miniconda3/envs/clustering/lib/python3.7/site-packages/ALLCools/dmr/fimo.py:60: FutureWarning: to_msgpack is deprecated and will be removed in a future version.\n",
      "It is recommended to use pyarrow for on-the-wire transmission of pandas objects.\n",
      "  final_df.to_msgpack(output_path, compress='zlib')\n"
     ]
    },
    {
     "name": "stdout",
     "output_type": "stream",
     "text": [
      "/home/hanliu/project/mouse_rostral_brain/DMR/ITSpatial_by_region/AI/MotifScan.h5adtemp/MA1113.2.meme, N motif total=21395\n"
     ]
    },
    {
     "name": "stderr",
     "output_type": "stream",
     "text": [
      "/home/hanliu/miniconda3/envs/clustering/lib/python3.7/site-packages/ALLCools/dmr/fimo.py:60: FutureWarning: to_msgpack is deprecated and will be removed in a future version.\n",
      "It is recommended to use pyarrow for on-the-wire transmission of pandas objects.\n",
      "  final_df.to_msgpack(output_path, compress='zlib')\n"
     ]
    },
    {
     "name": "stdout",
     "output_type": "stream",
     "text": [
      "/home/hanliu/project/mouse_rostral_brain/DMR/ITSpatial_by_region/AI/MotifScan.h5adtemp/MA0132.2.meme, N motif total=11555\n"
     ]
    },
    {
     "name": "stderr",
     "output_type": "stream",
     "text": [
      "/home/hanliu/miniconda3/envs/clustering/lib/python3.7/site-packages/ALLCools/dmr/fimo.py:60: FutureWarning: to_msgpack is deprecated and will be removed in a future version.\n",
      "It is recommended to use pyarrow for on-the-wire transmission of pandas objects.\n",
      "  final_df.to_msgpack(output_path, compress='zlib')\n"
     ]
    },
    {
     "name": "stdout",
     "output_type": "stream",
     "text": [
      "/home/hanliu/project/mouse_rostral_brain/DMR/ITSpatial_by_region/AI/MotifScan.h5adtemp/MA0713.1.meme, N motif total=18852\n"
     ]
    },
    {
     "name": "stderr",
     "output_type": "stream",
     "text": [
      "/home/hanliu/miniconda3/envs/clustering/lib/python3.7/site-packages/ALLCools/dmr/fimo.py:60: FutureWarning: to_msgpack is deprecated and will be removed in a future version.\n",
      "It is recommended to use pyarrow for on-the-wire transmission of pandas objects.\n",
      "  final_df.to_msgpack(output_path, compress='zlib')\n"
     ]
    },
    {
     "name": "stdout",
     "output_type": "stream",
     "text": [
      "/home/hanliu/project/mouse_rostral_brain/DMR/ITSpatial_by_region/AI/MotifScan.h5adtemp/MA1547.1.meme, N motif total=14774\n"
     ]
    },
    {
     "name": "stderr",
     "output_type": "stream",
     "text": [
      "/home/hanliu/miniconda3/envs/clustering/lib/python3.7/site-packages/ALLCools/dmr/fimo.py:60: FutureWarning: to_msgpack is deprecated and will be removed in a future version.\n",
      "It is recommended to use pyarrow for on-the-wire transmission of pandas objects.\n",
      "  final_df.to_msgpack(output_path, compress='zlib')\n"
     ]
    },
    {
     "name": "stdout",
     "output_type": "stream",
     "text": [
      "/home/hanliu/project/mouse_rostral_brain/DMR/ITSpatial_by_region/AI/MotifScan.h5adtemp/MA0682.2.meme, N motif total=14986\n"
     ]
    },
    {
     "name": "stderr",
     "output_type": "stream",
     "text": [
      "/home/hanliu/miniconda3/envs/clustering/lib/python3.7/site-packages/ALLCools/dmr/fimo.py:60: FutureWarning: to_msgpack is deprecated and will be removed in a future version.\n",
      "It is recommended to use pyarrow for on-the-wire transmission of pandas objects.\n",
      "  final_df.to_msgpack(output_path, compress='zlib')\n"
     ]
    },
    {
     "name": "stdout",
     "output_type": "stream",
     "text": [
      "/home/hanliu/project/mouse_rostral_brain/DMR/ITSpatial_by_region/AI/MotifScan.h5adtemp/MA0714.1.meme, N motif total=14328\n"
     ]
    },
    {
     "name": "stderr",
     "output_type": "stream",
     "text": [
      "/home/hanliu/miniconda3/envs/clustering/lib/python3.7/site-packages/ALLCools/dmr/fimo.py:60: FutureWarning: to_msgpack is deprecated and will be removed in a future version.\n",
      "It is recommended to use pyarrow for on-the-wire transmission of pandas objects.\n",
      "  final_df.to_msgpack(output_path, compress='zlib')\n"
     ]
    },
    {
     "name": "stdout",
     "output_type": "stream",
     "text": [
      "/home/hanliu/project/mouse_rostral_brain/DMR/ITSpatial_by_region/AI/MotifScan.h5adtemp/MA1114.1.meme, N motif total=39024\n"
     ]
    },
    {
     "name": "stderr",
     "output_type": "stream",
     "text": [
      "/home/hanliu/miniconda3/envs/clustering/lib/python3.7/site-packages/ALLCools/dmr/fimo.py:60: FutureWarning: to_msgpack is deprecated and will be removed in a future version.\n",
      "It is recommended to use pyarrow for on-the-wire transmission of pandas objects.\n",
      "  final_df.to_msgpack(output_path, compress='zlib')\n"
     ]
    },
    {
     "name": "stdout",
     "output_type": "stream",
     "text": [
      "/home/hanliu/project/mouse_rostral_brain/DMR/ITSpatial_by_region/AI/MotifScan.h5adtemp/MA0783.1.meme, N motif total=13264\n"
     ]
    },
    {
     "name": "stderr",
     "output_type": "stream",
     "text": [
      "/home/hanliu/miniconda3/envs/clustering/lib/python3.7/site-packages/ALLCools/dmr/fimo.py:60: FutureWarning: to_msgpack is deprecated and will be removed in a future version.\n",
      "It is recommended to use pyarrow for on-the-wire transmission of pandas objects.\n",
      "  final_df.to_msgpack(output_path, compress='zlib')\n"
     ]
    },
    {
     "name": "stdout",
     "output_type": "stream",
     "text": [
      "/home/hanliu/project/mouse_rostral_brain/DMR/ITSpatial_by_region/AI/MotifScan.h5adtemp/MA1548.1.meme, N motif total=19647\n"
     ]
    },
    {
     "name": "stderr",
     "output_type": "stream",
     "text": [
      "/home/hanliu/miniconda3/envs/clustering/lib/python3.7/site-packages/ALLCools/dmr/fimo.py:60: FutureWarning: to_msgpack is deprecated and will be removed in a future version.\n",
      "It is recommended to use pyarrow for on-the-wire transmission of pandas objects.\n",
      "  final_df.to_msgpack(output_path, compress='zlib')\n"
     ]
    },
    {
     "name": "stdout",
     "output_type": "stream",
     "text": [
      "/home/hanliu/project/mouse_rostral_brain/DMR/ITSpatial_by_region/AI/MotifScan.h5adtemp/MA0782.2.meme, N motif total=32940\n"
     ]
    },
    {
     "name": "stderr",
     "output_type": "stream",
     "text": [
      "/home/hanliu/miniconda3/envs/clustering/lib/python3.7/site-packages/ALLCools/dmr/fimo.py:60: FutureWarning: to_msgpack is deprecated and will be removed in a future version.\n",
      "It is recommended to use pyarrow for on-the-wire transmission of pandas objects.\n",
      "  final_df.to_msgpack(output_path, compress='zlib')\n"
     ]
    },
    {
     "name": "stdout",
     "output_type": "stream",
     "text": [
      "/home/hanliu/project/mouse_rostral_brain/DMR/ITSpatial_by_region/AI/MotifScan.h5adtemp/MA0681.2.meme, N motif total=37745\n"
     ]
    },
    {
     "name": "stderr",
     "output_type": "stream",
     "text": [
      "/home/hanliu/miniconda3/envs/clustering/lib/python3.7/site-packages/ALLCools/dmr/fimo.py:60: FutureWarning: to_msgpack is deprecated and will be removed in a future version.\n",
      "It is recommended to use pyarrow for on-the-wire transmission of pandas objects.\n",
      "  final_df.to_msgpack(output_path, compress='zlib')\n"
     ]
    },
    {
     "name": "stdout",
     "output_type": "stream",
     "text": [
      "/home/hanliu/project/mouse_rostral_brain/DMR/ITSpatial_by_region/AI/MotifScan.h5adtemp/MA1615.1.meme, N motif total=38108\n"
     ]
    },
    {
     "name": "stderr",
     "output_type": "stream",
     "text": [
      "/home/hanliu/miniconda3/envs/clustering/lib/python3.7/site-packages/ALLCools/dmr/fimo.py:60: FutureWarning: to_msgpack is deprecated and will be removed in a future version.\n",
      "It is recommended to use pyarrow for on-the-wire transmission of pandas objects.\n",
      "  final_df.to_msgpack(output_path, compress='zlib')\n"
     ]
    },
    {
     "name": "stdout",
     "output_type": "stream",
     "text": [
      "/home/hanliu/project/mouse_rostral_brain/DMR/ITSpatial_by_region/AI/MotifScan.h5adtemp/MA0163.1.meme, N motif total=29380\n"
     ]
    },
    {
     "name": "stderr",
     "output_type": "stream",
     "text": [
      "/home/hanliu/miniconda3/envs/clustering/lib/python3.7/site-packages/ALLCools/dmr/fimo.py:60: FutureWarning: to_msgpack is deprecated and will be removed in a future version.\n",
      "It is recommended to use pyarrow for on-the-wire transmission of pandas objects.\n",
      "  final_df.to_msgpack(output_path, compress='zlib')\n"
     ]
    },
    {
     "name": "stdout",
     "output_type": "stream",
     "text": [
      "/home/hanliu/project/mouse_rostral_brain/DMR/ITSpatial_by_region/AI/MotifScan.h5adtemp/MA0507.1.meme, N motif total=42529\n"
     ]
    },
    {
     "name": "stderr",
     "output_type": "stream",
     "text": [
      "/home/hanliu/miniconda3/envs/clustering/lib/python3.7/site-packages/ALLCools/dmr/fimo.py:60: FutureWarning: to_msgpack is deprecated and will be removed in a future version.\n",
      "It is recommended to use pyarrow for on-the-wire transmission of pandas objects.\n",
      "  final_df.to_msgpack(output_path, compress='zlib')\n"
     ]
    },
    {
     "name": "stdout",
     "output_type": "stream",
     "text": [
      "/home/hanliu/project/mouse_rostral_brain/DMR/ITSpatial_by_region/AI/MotifScan.h5adtemp/MA0786.1.meme, N motif total=35940\n"
     ]
    },
    {
     "name": "stderr",
     "output_type": "stream",
     "text": [
      "/home/hanliu/miniconda3/envs/clustering/lib/python3.7/site-packages/ALLCools/dmr/fimo.py:60: FutureWarning: to_msgpack is deprecated and will be removed in a future version.\n",
      "It is recommended to use pyarrow for on-the-wire transmission of pandas objects.\n",
      "  final_df.to_msgpack(output_path, compress='zlib')\n"
     ]
    },
    {
     "name": "stdout",
     "output_type": "stream",
     "text": [
      "/home/hanliu/project/mouse_rostral_brain/DMR/ITSpatial_by_region/AI/MotifScan.h5adtemp/MA0627.2.meme, N motif total=39307\n"
     ]
    },
    {
     "name": "stderr",
     "output_type": "stream",
     "text": [
      "/home/hanliu/miniconda3/envs/clustering/lib/python3.7/site-packages/ALLCools/dmr/fimo.py:60: FutureWarning: to_msgpack is deprecated and will be removed in a future version.\n",
      "It is recommended to use pyarrow for on-the-wire transmission of pandas objects.\n",
      "  final_df.to_msgpack(output_path, compress='zlib')\n"
     ]
    },
    {
     "name": "stdout",
     "output_type": "stream",
     "text": [
      "/home/hanliu/project/mouse_rostral_brain/DMR/ITSpatial_by_region/AI/MotifScan.h5adtemp/MA0787.1.meme, N motif total=33248\n"
     ]
    },
    {
     "name": "stderr",
     "output_type": "stream",
     "text": [
      "/home/hanliu/miniconda3/envs/clustering/lib/python3.7/site-packages/ALLCools/dmr/fimo.py:60: FutureWarning: to_msgpack is deprecated and will be removed in a future version.\n",
      "It is recommended to use pyarrow for on-the-wire transmission of pandas objects.\n",
      "  final_df.to_msgpack(output_path, compress='zlib')\n"
     ]
    },
    {
     "name": "stdout",
     "output_type": "stream",
     "text": [
      "/home/hanliu/project/mouse_rostral_brain/DMR/ITSpatial_by_region/AI/MotifScan.h5adtemp/MA0784.1.meme, N motif total=33498\n"
     ]
    },
    {
     "name": "stderr",
     "output_type": "stream",
     "text": [
      "/home/hanliu/miniconda3/envs/clustering/lib/python3.7/site-packages/ALLCools/dmr/fimo.py:60: FutureWarning: to_msgpack is deprecated and will be removed in a future version.\n",
      "It is recommended to use pyarrow for on-the-wire transmission of pandas objects.\n",
      "  final_df.to_msgpack(output_path, compress='zlib')\n"
     ]
    },
    {
     "name": "stdout",
     "output_type": "stream",
     "text": [
      "/home/hanliu/project/mouse_rostral_brain/DMR/ITSpatial_by_region/AI/MotifScan.h5adtemp/MA0785.1.meme, N motif total=31416\n"
     ]
    },
    {
     "name": "stderr",
     "output_type": "stream",
     "text": [
      "/home/hanliu/miniconda3/envs/clustering/lib/python3.7/site-packages/ALLCools/dmr/fimo.py:60: FutureWarning: to_msgpack is deprecated and will be removed in a future version.\n",
      "It is recommended to use pyarrow for on-the-wire transmission of pandas objects.\n",
      "  final_df.to_msgpack(output_path, compress='zlib')\n"
     ]
    },
    {
     "name": "stdout",
     "output_type": "stream",
     "text": [
      "/home/hanliu/project/mouse_rostral_brain/DMR/ITSpatial_by_region/AI/MotifScan.h5adtemp/MA0789.1.meme, N motif total=29852\n"
     ]
    },
    {
     "name": "stderr",
     "output_type": "stream",
     "text": [
      "/home/hanliu/miniconda3/envs/clustering/lib/python3.7/site-packages/ALLCools/dmr/fimo.py:60: FutureWarning: to_msgpack is deprecated and will be removed in a future version.\n",
      "It is recommended to use pyarrow for on-the-wire transmission of pandas objects.\n",
      "  final_df.to_msgpack(output_path, compress='zlib')\n"
     ]
    },
    {
     "name": "stdout",
     "output_type": "stream",
     "text": [
      "/home/hanliu/project/mouse_rostral_brain/DMR/ITSpatial_by_region/AI/MotifScan.h5adtemp/MA0793.1.meme, N motif total=17214\n"
     ]
    },
    {
     "name": "stderr",
     "output_type": "stream",
     "text": [
      "/home/hanliu/miniconda3/envs/clustering/lib/python3.7/site-packages/ALLCools/dmr/fimo.py:60: FutureWarning: to_msgpack is deprecated and will be removed in a future version.\n",
      "It is recommended to use pyarrow for on-the-wire transmission of pandas objects.\n",
      "  final_df.to_msgpack(output_path, compress='zlib')\n"
     ]
    },
    {
     "name": "stdout",
     "output_type": "stream",
     "text": [
      "/home/hanliu/project/mouse_rostral_brain/DMR/ITSpatial_by_region/AI/MotifScan.h5adtemp/MA1115.1.meme, N motif total=37139\n"
     ]
    },
    {
     "name": "stderr",
     "output_type": "stream",
     "text": [
      "/home/hanliu/miniconda3/envs/clustering/lib/python3.7/site-packages/ALLCools/dmr/fimo.py:60: FutureWarning: to_msgpack is deprecated and will be removed in a future version.\n",
      "It is recommended to use pyarrow for on-the-wire transmission of pandas objects.\n",
      "  final_df.to_msgpack(output_path, compress='zlib')\n"
     ]
    },
    {
     "name": "stdout",
     "output_type": "stream",
     "text": [
      "/home/hanliu/project/mouse_rostral_brain/DMR/ITSpatial_by_region/AI/MotifScan.h5adtemp/MA0788.1.meme, N motif total=33615\n"
     ]
    },
    {
     "name": "stderr",
     "output_type": "stream",
     "text": [
      "/home/hanliu/miniconda3/envs/clustering/lib/python3.7/site-packages/ALLCools/dmr/fimo.py:60: FutureWarning: to_msgpack is deprecated and will be removed in a future version.\n",
      "It is recommended to use pyarrow for on-the-wire transmission of pandas objects.\n",
      "  final_df.to_msgpack(output_path, compress='zlib')\n"
     ]
    },
    {
     "name": "stdout",
     "output_type": "stream",
     "text": [
      "/home/hanliu/project/mouse_rostral_brain/DMR/ITSpatial_by_region/AI/MotifScan.h5adtemp/MA0628.1.meme, N motif total=14130\n"
     ]
    },
    {
     "name": "stderr",
     "output_type": "stream",
     "text": [
      "/home/hanliu/miniconda3/envs/clustering/lib/python3.7/site-packages/ALLCools/dmr/fimo.py:60: FutureWarning: to_msgpack is deprecated and will be removed in a future version.\n",
      "It is recommended to use pyarrow for on-the-wire transmission of pandas objects.\n",
      "  final_df.to_msgpack(output_path, compress='zlib')\n"
     ]
    },
    {
     "name": "stdout",
     "output_type": "stream",
     "text": [
      "/home/hanliu/project/mouse_rostral_brain/DMR/ITSpatial_by_region/AI/MotifScan.h5adtemp/MA1549.1.meme, N motif total=17362\n"
     ]
    },
    {
     "name": "stderr",
     "output_type": "stream",
     "text": [
      "/home/hanliu/miniconda3/envs/clustering/lib/python3.7/site-packages/ALLCools/dmr/fimo.py:60: FutureWarning: to_msgpack is deprecated and will be removed in a future version.\n",
      "It is recommended to use pyarrow for on-the-wire transmission of pandas objects.\n",
      "  final_df.to_msgpack(output_path, compress='zlib')\n"
     ]
    },
    {
     "name": "stdout",
     "output_type": "stream",
     "text": [
      "/home/hanliu/project/mouse_rostral_brain/DMR/ITSpatial_by_region/AI/MotifScan.h5adtemp/MA0790.1.meme, N motif total=31438\n"
     ]
    },
    {
     "name": "stderr",
     "output_type": "stream",
     "text": [
      "/home/hanliu/miniconda3/envs/clustering/lib/python3.7/site-packages/ALLCools/dmr/fimo.py:60: FutureWarning: to_msgpack is deprecated and will be removed in a future version.\n",
      "It is recommended to use pyarrow for on-the-wire transmission of pandas objects.\n",
      "  final_df.to_msgpack(output_path, compress='zlib')\n"
     ]
    },
    {
     "name": "stdout",
     "output_type": "stream",
     "text": [
      "/home/hanliu/project/mouse_rostral_brain/DMR/ITSpatial_by_region/AI/MotifScan.h5adtemp/MA0142.1.meme, N motif total=38115\n"
     ]
    },
    {
     "name": "stderr",
     "output_type": "stream",
     "text": [
      "/home/hanliu/miniconda3/envs/clustering/lib/python3.7/site-packages/ALLCools/dmr/fimo.py:60: FutureWarning: to_msgpack is deprecated and will be removed in a future version.\n",
      "It is recommended to use pyarrow for on-the-wire transmission of pandas objects.\n",
      "  final_df.to_msgpack(output_path, compress='zlib')\n"
     ]
    },
    {
     "name": "stdout",
     "output_type": "stream",
     "text": [
      "/home/hanliu/project/mouse_rostral_brain/DMR/ITSpatial_by_region/AI/MotifScan.h5adtemp/MA0791.1.meme, N motif total=28665\n"
     ]
    },
    {
     "name": "stderr",
     "output_type": "stream",
     "text": [
      "/home/hanliu/miniconda3/envs/clustering/lib/python3.7/site-packages/ALLCools/dmr/fimo.py:60: FutureWarning: to_msgpack is deprecated and will be removed in a future version.\n",
      "It is recommended to use pyarrow for on-the-wire transmission of pandas objects.\n",
      "  final_df.to_msgpack(output_path, compress='zlib')\n"
     ]
    },
    {
     "name": "stdout",
     "output_type": "stream",
     "text": [
      "/home/hanliu/project/mouse_rostral_brain/DMR/ITSpatial_by_region/AI/MotifScan.h5adtemp/MA0683.1.meme, N motif total=26678\n"
     ]
    },
    {
     "name": "stderr",
     "output_type": "stream",
     "text": [
      "/home/hanliu/miniconda3/envs/clustering/lib/python3.7/site-packages/ALLCools/dmr/fimo.py:60: FutureWarning: to_msgpack is deprecated and will be removed in a future version.\n",
      "It is recommended to use pyarrow for on-the-wire transmission of pandas objects.\n",
      "  final_df.to_msgpack(output_path, compress='zlib')\n"
     ]
    },
    {
     "name": "stdout",
     "output_type": "stream",
     "text": [
      "/home/hanliu/project/mouse_rostral_brain/DMR/ITSpatial_by_region/AI/MotifScan.h5adtemp/MA1148.1.meme, N motif total=24649\n"
     ]
    },
    {
     "name": "stderr",
     "output_type": "stream",
     "text": [
      "/home/hanliu/miniconda3/envs/clustering/lib/python3.7/site-packages/ALLCools/dmr/fimo.py:60: FutureWarning: to_msgpack is deprecated and will be removed in a future version.\n",
      "It is recommended to use pyarrow for on-the-wire transmission of pandas objects.\n",
      "  final_df.to_msgpack(output_path, compress='zlib')\n"
     ]
    },
    {
     "name": "stdout",
     "output_type": "stream",
     "text": [
      "/home/hanliu/project/mouse_rostral_brain/DMR/ITSpatial_by_region/AI/MotifScan.h5adtemp/MA0508.3.meme, N motif total=110396\n"
     ]
    },
    {
     "name": "stderr",
     "output_type": "stream",
     "text": [
      "/home/hanliu/miniconda3/envs/clustering/lib/python3.7/site-packages/ALLCools/dmr/fimo.py:60: FutureWarning: to_msgpack is deprecated and will be removed in a future version.\n",
      "It is recommended to use pyarrow for on-the-wire transmission of pandas objects.\n",
      "  final_df.to_msgpack(output_path, compress='zlib')\n"
     ]
    },
    {
     "name": "stdout",
     "output_type": "stream",
     "text": [
      "/home/hanliu/project/mouse_rostral_brain/DMR/ITSpatial_by_region/AI/MotifScan.h5adtemp/MA0715.1.meme, N motif total=24746\n"
     ]
    },
    {
     "name": "stderr",
     "output_type": "stream",
     "text": [
      "/home/hanliu/miniconda3/envs/clustering/lib/python3.7/site-packages/ALLCools/dmr/fimo.py:60: FutureWarning: to_msgpack is deprecated and will be removed in a future version.\n",
      "It is recommended to use pyarrow for on-the-wire transmission of pandas objects.\n",
      "  final_df.to_msgpack(output_path, compress='zlib')\n"
     ]
    },
    {
     "name": "stdout",
     "output_type": "stream",
     "text": [
      "/home/hanliu/project/mouse_rostral_brain/DMR/ITSpatial_by_region/AI/MotifScan.h5adtemp/MA0716.1.meme, N motif total=13158\n"
     ]
    },
    {
     "name": "stderr",
     "output_type": "stream",
     "text": [
      "/home/hanliu/miniconda3/envs/clustering/lib/python3.7/site-packages/ALLCools/dmr/fimo.py:60: FutureWarning: to_msgpack is deprecated and will be removed in a future version.\n",
      "It is recommended to use pyarrow for on-the-wire transmission of pandas objects.\n",
      "  final_df.to_msgpack(output_path, compress='zlib')\n"
     ]
    },
    {
     "name": "stdout",
     "output_type": "stream",
     "text": [
      "/home/hanliu/project/mouse_rostral_brain/DMR/ITSpatial_by_region/AI/MotifScan.h5adtemp/MA0065.2.meme, N motif total=48166\n"
     ]
    },
    {
     "name": "stderr",
     "output_type": "stream",
     "text": [
      "/home/hanliu/miniconda3/envs/clustering/lib/python3.7/site-packages/ALLCools/dmr/fimo.py:60: FutureWarning: to_msgpack is deprecated and will be removed in a future version.\n",
      "It is recommended to use pyarrow for on-the-wire transmission of pandas objects.\n",
      "  final_df.to_msgpack(output_path, compress='zlib')\n"
     ]
    },
    {
     "name": "stdout",
     "output_type": "stream",
     "text": [
      "Finish count 500 motifs.\n"
     ]
    },
    {
     "name": "stdout",
     "output_type": "stream",
     "text": [
      "/home/hanliu/project/mouse_rostral_brain/DMR/ITSpatial_by_region/AI/MotifScan.h5adtemp/MA0075.3.meme, N motif total=14506\n"
     ]
    },
    {
     "name": "stderr",
     "output_type": "stream",
     "text": [
      "/home/hanliu/miniconda3/envs/clustering/lib/python3.7/site-packages/ALLCools/dmr/fimo.py:60: FutureWarning: to_msgpack is deprecated and will be removed in a future version.\n",
      "It is recommended to use pyarrow for on-the-wire transmission of pandas objects.\n",
      "  final_df.to_msgpack(output_path, compress='zlib')\n"
     ]
    },
    {
     "name": "stdout",
     "output_type": "stream",
     "text": [
      "/home/hanliu/project/mouse_rostral_brain/DMR/ITSpatial_by_region/AI/MotifScan.h5adtemp/MA1550.1.meme, N motif total=16104\n"
     ]
    },
    {
     "name": "stderr",
     "output_type": "stream",
     "text": [
      "/home/hanliu/miniconda3/envs/clustering/lib/python3.7/site-packages/ALLCools/dmr/fimo.py:60: FutureWarning: to_msgpack is deprecated and will be removed in a future version.\n",
      "It is recommended to use pyarrow for on-the-wire transmission of pandas objects.\n",
      "  final_df.to_msgpack(output_path, compress='zlib')\n"
     ]
    },
    {
     "name": "stdout",
     "output_type": "stream",
     "text": [
      "/home/hanliu/project/mouse_rostral_brain/DMR/ITSpatial_by_region/AI/MotifScan.h5adtemp/MA1647.1.meme, N motif total=42272\n"
     ]
    },
    {
     "name": "stderr",
     "output_type": "stream",
     "text": [
      "/home/hanliu/miniconda3/envs/clustering/lib/python3.7/site-packages/ALLCools/dmr/fimo.py:60: FutureWarning: to_msgpack is deprecated and will be removed in a future version.\n",
      "It is recommended to use pyarrow for on-the-wire transmission of pandas objects.\n",
      "  final_df.to_msgpack(output_path, compress='zlib')\n"
     ]
    },
    {
     "name": "stdout",
     "output_type": "stream",
     "text": [
      "/home/hanliu/project/mouse_rostral_brain/DMR/ITSpatial_by_region/AI/MotifScan.h5adtemp/MA1616.1.meme, N motif total=36103\n"
     ]
    },
    {
     "name": "stderr",
     "output_type": "stream",
     "text": [
      "/home/hanliu/miniconda3/envs/clustering/lib/python3.7/site-packages/ALLCools/dmr/fimo.py:60: FutureWarning: to_msgpack is deprecated and will be removed in a future version.\n",
      "It is recommended to use pyarrow for on-the-wire transmission of pandas objects.\n",
      "  final_df.to_msgpack(output_path, compress='zlib')\n"
     ]
    },
    {
     "name": "stdout",
     "output_type": "stream",
     "text": [
      "/home/hanliu/project/mouse_rostral_brain/DMR/ITSpatial_by_region/AI/MotifScan.h5adtemp/MA0794.1.meme, N motif total=10868\n"
     ]
    },
    {
     "name": "stderr",
     "output_type": "stream",
     "text": [
      "/home/hanliu/miniconda3/envs/clustering/lib/python3.7/site-packages/ALLCools/dmr/fimo.py:60: FutureWarning: to_msgpack is deprecated and will be removed in a future version.\n",
      "It is recommended to use pyarrow for on-the-wire transmission of pandas objects.\n",
      "  final_df.to_msgpack(output_path, compress='zlib')\n"
     ]
    },
    {
     "name": "stdout",
     "output_type": "stream",
     "text": [
      "/home/hanliu/project/mouse_rostral_brain/DMR/ITSpatial_by_region/AI/MotifScan.h5adtemp/MA1619.1.meme, N motif total=59410\n"
     ]
    },
    {
     "name": "stderr",
     "output_type": "stream",
     "text": [
      "/home/hanliu/miniconda3/envs/clustering/lib/python3.7/site-packages/ALLCools/dmr/fimo.py:60: FutureWarning: to_msgpack is deprecated and will be removed in a future version.\n",
      "It is recommended to use pyarrow for on-the-wire transmission of pandas objects.\n",
      "  final_df.to_msgpack(output_path, compress='zlib')\n"
     ]
    },
    {
     "name": "stdout",
     "output_type": "stream",
     "text": [
      "/home/hanliu/project/mouse_rostral_brain/DMR/ITSpatial_by_region/AI/MotifScan.h5adtemp/MA0066.1.meme, N motif total=22732\n"
     ]
    },
    {
     "name": "stderr",
     "output_type": "stream",
     "text": [
      "/home/hanliu/miniconda3/envs/clustering/lib/python3.7/site-packages/ALLCools/dmr/fimo.py:60: FutureWarning: to_msgpack is deprecated and will be removed in a future version.\n",
      "It is recommended to use pyarrow for on-the-wire transmission of pandas objects.\n",
      "  final_df.to_msgpack(output_path, compress='zlib')\n"
     ]
    },
    {
     "name": "stdout",
     "output_type": "stream",
     "text": [
      "/home/hanliu/project/mouse_rostral_brain/DMR/ITSpatial_by_region/AI/MotifScan.h5adtemp/MA1620.1.meme, N motif total=34526\n"
     ]
    },
    {
     "name": "stderr",
     "output_type": "stream",
     "text": [
      "/home/hanliu/miniconda3/envs/clustering/lib/python3.7/site-packages/ALLCools/dmr/fimo.py:60: FutureWarning: to_msgpack is deprecated and will be removed in a future version.\n",
      "It is recommended to use pyarrow for on-the-wire transmission of pandas objects.\n",
      "  final_df.to_msgpack(output_path, compress='zlib')\n"
     ]
    },
    {
     "name": "stdout",
     "output_type": "stream",
     "text": [
      "/home/hanliu/project/mouse_rostral_brain/DMR/ITSpatial_by_region/AI/MotifScan.h5adtemp/MA1618.1.meme, N motif total=51963\n"
     ]
    },
    {
     "name": "stderr",
     "output_type": "stream",
     "text": [
      "/home/hanliu/miniconda3/envs/clustering/lib/python3.7/site-packages/ALLCools/dmr/fimo.py:60: FutureWarning: to_msgpack is deprecated and will be removed in a future version.\n",
      "It is recommended to use pyarrow for on-the-wire transmission of pandas objects.\n",
      "  final_df.to_msgpack(output_path, compress='zlib')\n"
     ]
    },
    {
     "name": "stdout",
     "output_type": "stream",
     "text": [
      "/home/hanliu/project/mouse_rostral_brain/DMR/ITSpatial_by_region/AI/MotifScan.h5adtemp/MA0729.1.meme, N motif total=765\n"
     ]
    },
    {
     "name": "stderr",
     "output_type": "stream",
     "text": [
      "/home/hanliu/miniconda3/envs/clustering/lib/python3.7/site-packages/ALLCools/dmr/fimo.py:60: FutureWarning: to_msgpack is deprecated and will be removed in a future version.\n",
      "It is recommended to use pyarrow for on-the-wire transmission of pandas objects.\n",
      "  final_df.to_msgpack(output_path, compress='zlib')\n"
     ]
    },
    {
     "name": "stdout",
     "output_type": "stream",
     "text": [
      "/home/hanliu/project/mouse_rostral_brain/DMR/ITSpatial_by_region/AI/MotifScan.h5adtemp/MA0159.1.meme, N motif total=23802\n"
     ]
    },
    {
     "name": "stderr",
     "output_type": "stream",
     "text": [
      "/home/hanliu/miniconda3/envs/clustering/lib/python3.7/site-packages/ALLCools/dmr/fimo.py:60: FutureWarning: to_msgpack is deprecated and will be removed in a future version.\n",
      "It is recommended to use pyarrow for on-the-wire transmission of pandas objects.\n",
      "  final_df.to_msgpack(output_path, compress='zlib')\n"
     ]
    },
    {
     "name": "stdout",
     "output_type": "stream",
     "text": [
      "/home/hanliu/project/mouse_rostral_brain/DMR/ITSpatial_by_region/AI/MotifScan.h5adtemp/MA0857.1.meme, N motif total=1542\n"
     ]
    },
    {
     "name": "stderr",
     "output_type": "stream",
     "text": [
      "/home/hanliu/miniconda3/envs/clustering/lib/python3.7/site-packages/ALLCools/dmr/fimo.py:60: FutureWarning: to_msgpack is deprecated and will be removed in a future version.\n",
      "It is recommended to use pyarrow for on-the-wire transmission of pandas objects.\n",
      "  final_df.to_msgpack(output_path, compress='zlib')\n"
     ]
    },
    {
     "name": "stdout",
     "output_type": "stream",
     "text": [
      "/home/hanliu/project/mouse_rostral_brain/DMR/ITSpatial_by_region/AI/MotifScan.h5adtemp/MA1552.1.meme, N motif total=12597\n"
     ]
    },
    {
     "name": "stderr",
     "output_type": "stream",
     "text": [
      "/home/hanliu/miniconda3/envs/clustering/lib/python3.7/site-packages/ALLCools/dmr/fimo.py:60: FutureWarning: to_msgpack is deprecated and will be removed in a future version.\n",
      "It is recommended to use pyarrow for on-the-wire transmission of pandas objects.\n",
      "  final_df.to_msgpack(output_path, compress='zlib')\n"
     ]
    },
    {
     "name": "stdout",
     "output_type": "stream",
     "text": [
      "/home/hanliu/project/mouse_rostral_brain/DMR/ITSpatial_by_region/AI/MotifScan.h5adtemp/MA0730.1.meme, N motif total=6461\n"
     ]
    },
    {
     "name": "stderr",
     "output_type": "stream",
     "text": [
      "/home/hanliu/miniconda3/envs/clustering/lib/python3.7/site-packages/ALLCools/dmr/fimo.py:60: FutureWarning: to_msgpack is deprecated and will be removed in a future version.\n",
      "It is recommended to use pyarrow for on-the-wire transmission of pandas objects.\n",
      "  final_df.to_msgpack(output_path, compress='zlib')\n"
     ]
    },
    {
     "name": "stdout",
     "output_type": "stream",
     "text": [
      "/home/hanliu/project/mouse_rostral_brain/DMR/ITSpatial_by_region/AI/MotifScan.h5adtemp/MA0718.1.meme, N motif total=12690\n"
     ]
    },
    {
     "name": "stderr",
     "output_type": "stream",
     "text": [
      "/home/hanliu/miniconda3/envs/clustering/lib/python3.7/site-packages/ALLCools/dmr/fimo.py:60: FutureWarning: to_msgpack is deprecated and will be removed in a future version.\n",
      "It is recommended to use pyarrow for on-the-wire transmission of pandas objects.\n",
      "  final_df.to_msgpack(output_path, compress='zlib')\n"
     ]
    },
    {
     "name": "stdout",
     "output_type": "stream",
     "text": [
      "/home/hanliu/project/mouse_rostral_brain/DMR/ITSpatial_by_region/AI/MotifScan.h5adtemp/MA0858.1.meme, N motif total=1771\n"
     ]
    },
    {
     "name": "stderr",
     "output_type": "stream",
     "text": [
      "/home/hanliu/miniconda3/envs/clustering/lib/python3.7/site-packages/ALLCools/dmr/fimo.py:60: FutureWarning: to_msgpack is deprecated and will be removed in a future version.\n",
      "It is recommended to use pyarrow for on-the-wire transmission of pandas objects.\n",
      "  final_df.to_msgpack(output_path, compress='zlib')\n"
     ]
    },
    {
     "name": "stdout",
     "output_type": "stream",
     "text": [
      "/home/hanliu/project/mouse_rostral_brain/DMR/ITSpatial_by_region/AI/MotifScan.h5adtemp/MA0101.1.meme, N motif total=20544\n"
     ]
    },
    {
     "name": "stderr",
     "output_type": "stream",
     "text": [
      "/home/hanliu/miniconda3/envs/clustering/lib/python3.7/site-packages/ALLCools/dmr/fimo.py:60: FutureWarning: to_msgpack is deprecated and will be removed in a future version.\n",
      "It is recommended to use pyarrow for on-the-wire transmission of pandas objects.\n",
      "  final_df.to_msgpack(output_path, compress='zlib')\n"
     ]
    },
    {
     "name": "stdout",
     "output_type": "stream",
     "text": [
      "/home/hanliu/project/mouse_rostral_brain/DMR/ITSpatial_by_region/AI/MotifScan.h5adtemp/MA0860.1.meme, N motif total=1249\n"
     ]
    },
    {
     "name": "stderr",
     "output_type": "stream",
     "text": [
      "/home/hanliu/miniconda3/envs/clustering/lib/python3.7/site-packages/ALLCools/dmr/fimo.py:60: FutureWarning: to_msgpack is deprecated and will be removed in a future version.\n",
      "It is recommended to use pyarrow for on-the-wire transmission of pandas objects.\n",
      "  final_df.to_msgpack(output_path, compress='zlib')\n"
     ]
    },
    {
     "name": "stdout",
     "output_type": "stream",
     "text": [
      "/home/hanliu/project/mouse_rostral_brain/DMR/ITSpatial_by_region/AI/MotifScan.h5adtemp/MA1116.1.meme, N motif total=52233\n"
     ]
    },
    {
     "name": "stderr",
     "output_type": "stream",
     "text": [
      "/home/hanliu/miniconda3/envs/clustering/lib/python3.7/site-packages/ALLCools/dmr/fimo.py:60: FutureWarning: to_msgpack is deprecated and will be removed in a future version.\n",
      "It is recommended to use pyarrow for on-the-wire transmission of pandas objects.\n",
      "  final_df.to_msgpack(output_path, compress='zlib')\n"
     ]
    },
    {
     "name": "stdout",
     "output_type": "stream",
     "text": [
      "/home/hanliu/project/mouse_rostral_brain/DMR/ITSpatial_by_region/AI/MotifScan.h5adtemp/MA1149.1.meme, N motif total=21632\n"
     ]
    },
    {
     "name": "stderr",
     "output_type": "stream",
     "text": [
      "/home/hanliu/miniconda3/envs/clustering/lib/python3.7/site-packages/ALLCools/dmr/fimo.py:60: FutureWarning: to_msgpack is deprecated and will be removed in a future version.\n",
      "It is recommended to use pyarrow for on-the-wire transmission of pandas objects.\n",
      "  final_df.to_msgpack(output_path, compress='zlib')\n"
     ]
    },
    {
     "name": "stdout",
     "output_type": "stream",
     "text": [
      "/home/hanliu/project/mouse_rostral_brain/DMR/ITSpatial_by_region/AI/MotifScan.h5adtemp/MA0859.1.meme, N motif total=2315\n"
     ]
    },
    {
     "name": "stderr",
     "output_type": "stream",
     "text": [
      "/home/hanliu/miniconda3/envs/clustering/lib/python3.7/site-packages/ALLCools/dmr/fimo.py:60: FutureWarning: to_msgpack is deprecated and will be removed in a future version.\n",
      "It is recommended to use pyarrow for on-the-wire transmission of pandas objects.\n",
      "  final_df.to_msgpack(output_path, compress='zlib')\n"
     ]
    },
    {
     "name": "stdout",
     "output_type": "stream",
     "text": [
      "/home/hanliu/project/mouse_rostral_brain/DMR/ITSpatial_by_region/AI/MotifScan.h5adtemp/MA0107.1.meme, N motif total=26423\n"
     ]
    },
    {
     "name": "stderr",
     "output_type": "stream",
     "text": [
      "/home/hanliu/miniconda3/envs/clustering/lib/python3.7/site-packages/ALLCools/dmr/fimo.py:60: FutureWarning: to_msgpack is deprecated and will be removed in a future version.\n",
      "It is recommended to use pyarrow for on-the-wire transmission of pandas objects.\n",
      "  final_df.to_msgpack(output_path, compress='zlib')\n"
     ]
    },
    {
     "name": "stdout",
     "output_type": "stream",
     "text": [
      "/home/hanliu/project/mouse_rostral_brain/DMR/ITSpatial_by_region/AI/MotifScan.h5adtemp/MA1553.1.meme, N motif total=14271\n"
     ]
    },
    {
     "name": "stderr",
     "output_type": "stream",
     "text": [
      "/home/hanliu/miniconda3/envs/clustering/lib/python3.7/site-packages/ALLCools/dmr/fimo.py:60: FutureWarning: to_msgpack is deprecated and will be removed in a future version.\n",
      "It is recommended to use pyarrow for on-the-wire transmission of pandas objects.\n",
      "  final_df.to_msgpack(output_path, compress='zlib')\n"
     ]
    },
    {
     "name": "stdout",
     "output_type": "stream",
     "text": [
      "/home/hanliu/project/mouse_rostral_brain/DMR/ITSpatial_by_region/AI/MotifScan.h5adtemp/MA1621.1.meme, N motif total=34834\n"
     ]
    },
    {
     "name": "stderr",
     "output_type": "stream",
     "text": [
      "/home/hanliu/miniconda3/envs/clustering/lib/python3.7/site-packages/ALLCools/dmr/fimo.py:60: FutureWarning: to_msgpack is deprecated and will be removed in a future version.\n",
      "It is recommended to use pyarrow for on-the-wire transmission of pandas objects.\n",
      "  final_df.to_msgpack(output_path, compress='zlib')\n"
     ]
    },
    {
     "name": "stdout",
     "output_type": "stream",
     "text": [
      "/home/hanliu/project/mouse_rostral_brain/DMR/ITSpatial_by_region/AI/MotifScan.h5adtemp/MA1117.1.meme, N motif total=20502\n"
     ]
    },
    {
     "name": "stderr",
     "output_type": "stream",
     "text": [
      "/home/hanliu/miniconda3/envs/clustering/lib/python3.7/site-packages/ALLCools/dmr/fimo.py:60: FutureWarning: to_msgpack is deprecated and will be removed in a future version.\n",
      "It is recommended to use pyarrow for on-the-wire transmission of pandas objects.\n",
      "  final_df.to_msgpack(output_path, compress='zlib')\n"
     ]
    },
    {
     "name": "stdout",
     "output_type": "stream",
     "text": [
      "/home/hanliu/project/mouse_rostral_brain/DMR/ITSpatial_by_region/AI/MotifScan.h5adtemp/MA1554.1.meme, N motif total=14338\n"
     ]
    },
    {
     "name": "stderr",
     "output_type": "stream",
     "text": [
      "/home/hanliu/miniconda3/envs/clustering/lib/python3.7/site-packages/ALLCools/dmr/fimo.py:60: FutureWarning: to_msgpack is deprecated and will be removed in a future version.\n",
      "It is recommended to use pyarrow for on-the-wire transmission of pandas objects.\n",
      "  final_df.to_msgpack(output_path, compress='zlib')\n"
     ]
    },
    {
     "name": "stdout",
     "output_type": "stream",
     "text": [
      "/home/hanliu/project/mouse_rostral_brain/DMR/ITSpatial_by_region/AI/MotifScan.h5adtemp/MA0509.2.meme, N motif total=30251\n"
     ]
    },
    {
     "name": "stderr",
     "output_type": "stream",
     "text": [
      "/home/hanliu/miniconda3/envs/clustering/lib/python3.7/site-packages/ALLCools/dmr/fimo.py:60: FutureWarning: to_msgpack is deprecated and will be removed in a future version.\n",
      "It is recommended to use pyarrow for on-the-wire transmission of pandas objects.\n",
      "  final_df.to_msgpack(output_path, compress='zlib')\n"
     ]
    },
    {
     "name": "stdout",
     "output_type": "stream",
     "text": [
      "/home/hanliu/project/mouse_rostral_brain/DMR/ITSpatial_by_region/AI/MotifScan.h5adtemp/MA0071.1.meme, N motif total=21873\n"
     ]
    },
    {
     "name": "stderr",
     "output_type": "stream",
     "text": [
      "/home/hanliu/miniconda3/envs/clustering/lib/python3.7/site-packages/ALLCools/dmr/fimo.py:60: FutureWarning: to_msgpack is deprecated and will be removed in a future version.\n",
      "It is recommended to use pyarrow for on-the-wire transmission of pandas objects.\n",
      "  final_df.to_msgpack(output_path, compress='zlib')\n"
     ]
    },
    {
     "name": "stdout",
     "output_type": "stream",
     "text": [
      "/home/hanliu/project/mouse_rostral_brain/DMR/ITSpatial_by_region/AI/MotifScan.h5adtemp/MA0799.1.meme, N motif total=25776\n"
     ]
    },
    {
     "name": "stderr",
     "output_type": "stream",
     "text": [
      "/home/hanliu/miniconda3/envs/clustering/lib/python3.7/site-packages/ALLCools/dmr/fimo.py:60: FutureWarning: to_msgpack is deprecated and will be removed in a future version.\n",
      "It is recommended to use pyarrow for on-the-wire transmission of pandas objects.\n",
      "  final_df.to_msgpack(output_path, compress='zlib')\n"
     ]
    },
    {
     "name": "stdout",
     "output_type": "stream",
     "text": [
      "/home/hanliu/project/mouse_rostral_brain/DMR/ITSpatial_by_region/AI/MotifScan.h5adtemp/MA0600.2.meme, N motif total=20123\n"
     ]
    },
    {
     "name": "stderr",
     "output_type": "stream",
     "text": [
      "/home/hanliu/miniconda3/envs/clustering/lib/python3.7/site-packages/ALLCools/dmr/fimo.py:60: FutureWarning: to_msgpack is deprecated and will be removed in a future version.\n",
      "It is recommended to use pyarrow for on-the-wire transmission of pandas objects.\n",
      "  final_df.to_msgpack(output_path, compress='zlib')\n"
     ]
    },
    {
     "name": "stdout",
     "output_type": "stream",
     "text": [
      "/home/hanliu/project/mouse_rostral_brain/DMR/ITSpatial_by_region/AI/MotifScan.h5adtemp/MA0798.2.meme, N motif total=30606\n"
     ]
    },
    {
     "name": "stderr",
     "output_type": "stream",
     "text": [
      "/home/hanliu/miniconda3/envs/clustering/lib/python3.7/site-packages/ALLCools/dmr/fimo.py:60: FutureWarning: to_msgpack is deprecated and will be removed in a future version.\n",
      "It is recommended to use pyarrow for on-the-wire transmission of pandas objects.\n",
      "  final_df.to_msgpack(output_path, compress='zlib')\n"
     ]
    },
    {
     "name": "stdout",
     "output_type": "stream",
     "text": [
      "/home/hanliu/project/mouse_rostral_brain/DMR/ITSpatial_by_region/AI/MotifScan.h5adtemp/MA0510.2.meme, N motif total=24847\n"
     ]
    },
    {
     "name": "stderr",
     "output_type": "stream",
     "text": [
      "/home/hanliu/miniconda3/envs/clustering/lib/python3.7/site-packages/ALLCools/dmr/fimo.py:60: FutureWarning: to_msgpack is deprecated and will be removed in a future version.\n",
      "It is recommended to use pyarrow for on-the-wire transmission of pandas objects.\n",
      "  final_df.to_msgpack(output_path, compress='zlib')\n"
     ]
    },
    {
     "name": "stdout",
     "output_type": "stream",
     "text": [
      "/home/hanliu/project/mouse_rostral_brain/DMR/ITSpatial_by_region/AI/MotifScan.h5adtemp/MA0138.2.meme, N motif total=17853\n"
     ]
    },
    {
     "name": "stderr",
     "output_type": "stream",
     "text": [
      "/home/hanliu/miniconda3/envs/clustering/lib/python3.7/site-packages/ALLCools/dmr/fimo.py:60: FutureWarning: to_msgpack is deprecated and will be removed in a future version.\n",
      "It is recommended to use pyarrow for on-the-wire transmission of pandas objects.\n",
      "  final_df.to_msgpack(output_path, compress='zlib')\n"
     ]
    },
    {
     "name": "stdout",
     "output_type": "stream",
     "text": [
      "/home/hanliu/project/mouse_rostral_brain/DMR/ITSpatial_by_region/AI/MotifScan.h5adtemp/MA0629.1.meme, N motif total=14018\n"
     ]
    },
    {
     "name": "stderr",
     "output_type": "stream",
     "text": [
      "/home/hanliu/miniconda3/envs/clustering/lib/python3.7/site-packages/ALLCools/dmr/fimo.py:60: FutureWarning: to_msgpack is deprecated and will be removed in a future version.\n",
      "It is recommended to use pyarrow for on-the-wire transmission of pandas objects.\n",
      "  final_df.to_msgpack(output_path, compress='zlib')\n"
     ]
    },
    {
     "name": "stdout",
     "output_type": "stream",
     "text": [
      "/home/hanliu/project/mouse_rostral_brain/DMR/ITSpatial_by_region/AI/MotifScan.h5adtemp/MA0072.1.meme, N motif total=20066\n"
     ]
    },
    {
     "name": "stderr",
     "output_type": "stream",
     "text": [
      "/home/hanliu/miniconda3/envs/clustering/lib/python3.7/site-packages/ALLCools/dmr/fimo.py:60: FutureWarning: to_msgpack is deprecated and will be removed in a future version.\n",
      "It is recommended to use pyarrow for on-the-wire transmission of pandas objects.\n",
      "  final_df.to_msgpack(output_path, compress='zlib')\n"
     ]
    },
    {
     "name": "stdout",
     "output_type": "stream",
     "text": [
      "/home/hanliu/project/mouse_rostral_brain/DMR/ITSpatial_by_region/AI/MotifScan.h5adtemp/MA1150.1.meme, N motif total=19573\n"
     ]
    },
    {
     "name": "stderr",
     "output_type": "stream",
     "text": [
      "/home/hanliu/miniconda3/envs/clustering/lib/python3.7/site-packages/ALLCools/dmr/fimo.py:60: FutureWarning: to_msgpack is deprecated and will be removed in a future version.\n",
      "It is recommended to use pyarrow for on-the-wire transmission of pandas objects.\n",
      "  final_df.to_msgpack(output_path, compress='zlib')\n"
     ]
    },
    {
     "name": "stdout",
     "output_type": "stream",
     "text": [
      "/home/hanliu/project/mouse_rostral_brain/DMR/ITSpatial_by_region/AI/MotifScan.h5adtemp/MA0511.2.meme, N motif total=12209\n"
     ]
    },
    {
     "name": "stderr",
     "output_type": "stream",
     "text": [
      "/home/hanliu/miniconda3/envs/clustering/lib/python3.7/site-packages/ALLCools/dmr/fimo.py:60: FutureWarning: to_msgpack is deprecated and will be removed in a future version.\n",
      "It is recommended to use pyarrow for on-the-wire transmission of pandas objects.\n",
      "  final_df.to_msgpack(output_path, compress='zlib')\n"
     ]
    },
    {
     "name": "stdout",
     "output_type": "stream",
     "text": [
      "/home/hanliu/project/mouse_rostral_brain/DMR/ITSpatial_by_region/AI/MotifScan.h5adtemp/MA0002.2.meme, N motif total=45506\n"
     ]
    },
    {
     "name": "stderr",
     "output_type": "stream",
     "text": [
      "/home/hanliu/miniconda3/envs/clustering/lib/python3.7/site-packages/ALLCools/dmr/fimo.py:60: FutureWarning: to_msgpack is deprecated and will be removed in a future version.\n",
      "It is recommended to use pyarrow for on-the-wire transmission of pandas objects.\n",
      "  final_df.to_msgpack(output_path, compress='zlib')\n"
     ]
    },
    {
     "name": "stdout",
     "output_type": "stream",
     "text": [
      "/home/hanliu/project/mouse_rostral_brain/DMR/ITSpatial_by_region/AI/MotifScan.h5adtemp/MA1151.1.meme, N motif total=19980\n"
     ]
    },
    {
     "name": "stderr",
     "output_type": "stream",
     "text": [
      "/home/hanliu/miniconda3/envs/clustering/lib/python3.7/site-packages/ALLCools/dmr/fimo.py:60: FutureWarning: to_msgpack is deprecated and will be removed in a future version.\n",
      "It is recommended to use pyarrow for on-the-wire transmission of pandas objects.\n",
      "  final_df.to_msgpack(output_path, compress='zlib')\n"
     ]
    },
    {
     "name": "stdout",
     "output_type": "stream",
     "text": [
      "/home/hanliu/project/mouse_rostral_brain/DMR/ITSpatial_by_region/AI/MotifScan.h5adtemp/MA0684.2.meme, N motif total=24552\n"
     ]
    },
    {
     "name": "stderr",
     "output_type": "stream",
     "text": [
      "/home/hanliu/miniconda3/envs/clustering/lib/python3.7/site-packages/ALLCools/dmr/fimo.py:60: FutureWarning: to_msgpack is deprecated and will be removed in a future version.\n",
      "It is recommended to use pyarrow for on-the-wire transmission of pandas objects.\n",
      "  final_df.to_msgpack(output_path, compress='zlib')\n"
     ]
    },
    {
     "name": "stdout",
     "output_type": "stream",
     "text": [
      "/home/hanliu/project/mouse_rostral_brain/DMR/ITSpatial_by_region/AI/MotifScan.h5adtemp/MA0512.2.meme, N motif total=7095\n"
     ]
    },
    {
     "name": "stderr",
     "output_type": "stream",
     "text": [
      "/home/hanliu/miniconda3/envs/clustering/lib/python3.7/site-packages/ALLCools/dmr/fimo.py:60: FutureWarning: to_msgpack is deprecated and will be removed in a future version.\n",
      "It is recommended to use pyarrow for on-the-wire transmission of pandas objects.\n",
      "  final_df.to_msgpack(output_path, compress='zlib')\n"
     ]
    },
    {
     "name": "stdout",
     "output_type": "stream",
     "text": [
      "/home/hanliu/project/mouse_rostral_brain/DMR/ITSpatial_by_region/AI/MotifScan.h5adtemp/MA0630.1.meme, N motif total=13158\n"
     ]
    },
    {
     "name": "stderr",
     "output_type": "stream",
     "text": [
      "/home/hanliu/miniconda3/envs/clustering/lib/python3.7/site-packages/ALLCools/dmr/fimo.py:60: FutureWarning: to_msgpack is deprecated and will be removed in a future version.\n",
      "It is recommended to use pyarrow for on-the-wire transmission of pandas objects.\n",
      "  final_df.to_msgpack(output_path, compress='zlib')\n"
     ]
    },
    {
     "name": "stdout",
     "output_type": "stream",
     "text": [
      "/home/hanliu/project/mouse_rostral_brain/DMR/ITSpatial_by_region/AI/MotifScan.h5adtemp/MA1555.1.meme, N motif total=13608\n"
     ]
    },
    {
     "name": "stderr",
     "output_type": "stream",
     "text": [
      "/home/hanliu/miniconda3/envs/clustering/lib/python3.7/site-packages/ALLCools/dmr/fimo.py:60: FutureWarning: to_msgpack is deprecated and will be removed in a future version.\n",
      "It is recommended to use pyarrow for on-the-wire transmission of pandas objects.\n",
      "  final_df.to_msgpack(output_path, compress='zlib')\n"
     ]
    },
    {
     "name": "stdout",
     "output_type": "stream",
     "text": [
      "/home/hanliu/project/mouse_rostral_brain/DMR/ITSpatial_by_region/AI/MotifScan.h5adtemp/MA0856.1.meme, N motif total=5493\n"
     ]
    },
    {
     "name": "stderr",
     "output_type": "stream",
     "text": [
      "/home/hanliu/miniconda3/envs/clustering/lib/python3.7/site-packages/ALLCools/dmr/fimo.py:60: FutureWarning: to_msgpack is deprecated and will be removed in a future version.\n",
      "It is recommended to use pyarrow for on-the-wire transmission of pandas objects.\n",
      "  final_df.to_msgpack(output_path, compress='zlib')\n"
     ]
    },
    {
     "name": "stdout",
     "output_type": "stream",
     "text": [
      "/home/hanliu/project/mouse_rostral_brain/DMR/ITSpatial_by_region/AI/MotifScan.h5adtemp/MA0855.1.meme, N motif total=4495\n"
     ]
    },
    {
     "name": "stderr",
     "output_type": "stream",
     "text": [
      "/home/hanliu/miniconda3/envs/clustering/lib/python3.7/site-packages/ALLCools/dmr/fimo.py:60: FutureWarning: to_msgpack is deprecated and will be removed in a future version.\n",
      "It is recommended to use pyarrow for on-the-wire transmission of pandas objects.\n",
      "  final_df.to_msgpack(output_path, compress='zlib')\n"
     ]
    },
    {
     "name": "stdout",
     "output_type": "stream",
     "text": [
      "/home/hanliu/project/mouse_rostral_brain/DMR/ITSpatial_by_region/AI/MotifScan.h5adtemp/MA0074.1.meme, N motif total=8541\n"
     ]
    },
    {
     "name": "stderr",
     "output_type": "stream",
     "text": [
      "/home/hanliu/miniconda3/envs/clustering/lib/python3.7/site-packages/ALLCools/dmr/fimo.py:60: FutureWarning: to_msgpack is deprecated and will be removed in a future version.\n",
      "It is recommended to use pyarrow for on-the-wire transmission of pandas objects.\n",
      "  final_df.to_msgpack(output_path, compress='zlib')\n"
     ]
    },
    {
     "name": "stdout",
     "output_type": "stream",
     "text": [
      "/home/hanliu/project/mouse_rostral_brain/DMR/ITSpatial_by_region/AI/MotifScan.h5adtemp/MA0073.1.meme, N motif total=165860\n"
     ]
    },
    {
     "name": "stderr",
     "output_type": "stream",
     "text": [
      "/home/hanliu/miniconda3/envs/clustering/lib/python3.7/site-packages/ALLCools/dmr/fimo.py:60: FutureWarning: to_msgpack is deprecated and will be removed in a future version.\n",
      "It is recommended to use pyarrow for on-the-wire transmission of pandas objects.\n",
      "  final_df.to_msgpack(output_path, compress='zlib')\n"
     ]
    },
    {
     "name": "stdout",
     "output_type": "stream",
     "text": [
      "/home/hanliu/project/mouse_rostral_brain/DMR/ITSpatial_by_region/AI/MotifScan.h5adtemp/MA1556.1.meme, N motif total=14308\n"
     ]
    },
    {
     "name": "stderr",
     "output_type": "stream",
     "text": [
      "/home/hanliu/miniconda3/envs/clustering/lib/python3.7/site-packages/ALLCools/dmr/fimo.py:60: FutureWarning: to_msgpack is deprecated and will be removed in a future version.\n",
      "It is recommended to use pyarrow for on-the-wire transmission of pandas objects.\n",
      "  final_df.to_msgpack(output_path, compress='zlib')\n"
     ]
    },
    {
     "name": "stdout",
     "output_type": "stream",
     "text": [
      "/home/hanliu/project/mouse_rostral_brain/DMR/ITSpatial_by_region/AI/MotifScan.h5adtemp/MA0720.1.meme, N motif total=13158\n"
     ]
    },
    {
     "name": "stderr",
     "output_type": "stream",
     "text": [
      "/home/hanliu/miniconda3/envs/clustering/lib/python3.7/site-packages/ALLCools/dmr/fimo.py:60: FutureWarning: to_msgpack is deprecated and will be removed in a future version.\n",
      "It is recommended to use pyarrow for on-the-wire transmission of pandas objects.\n",
      "  final_df.to_msgpack(output_path, compress='zlib')\n"
     ]
    },
    {
     "name": "stdout",
     "output_type": "stream",
     "text": [
      "/home/hanliu/project/mouse_rostral_brain/DMR/ITSpatial_by_region/AI/MotifScan.h5adtemp/MA0743.2.meme, N motif total=22217\n"
     ]
    },
    {
     "name": "stderr",
     "output_type": "stream",
     "text": [
      "/home/hanliu/miniconda3/envs/clustering/lib/python3.7/site-packages/ALLCools/dmr/fimo.py:60: FutureWarning: to_msgpack is deprecated and will be removed in a future version.\n",
      "It is recommended to use pyarrow for on-the-wire transmission of pandas objects.\n",
      "  final_df.to_msgpack(output_path, compress='zlib')\n"
     ]
    },
    {
     "name": "stdout",
     "output_type": "stream",
     "text": [
      "/home/hanliu/project/mouse_rostral_brain/DMR/ITSpatial_by_region/AI/MotifScan.h5adtemp/MA0744.2.meme, N motif total=23260\n"
     ]
    },
    {
     "name": "stderr",
     "output_type": "stream",
     "text": [
      "/home/hanliu/miniconda3/envs/clustering/lib/python3.7/site-packages/ALLCools/dmr/fimo.py:60: FutureWarning: to_msgpack is deprecated and will be removed in a future version.\n",
      "It is recommended to use pyarrow for on-the-wire transmission of pandas objects.\n",
      "  final_df.to_msgpack(output_path, compress='zlib')\n"
     ]
    },
    {
     "name": "stdout",
     "output_type": "stream",
     "text": [
      "/home/hanliu/project/mouse_rostral_brain/DMR/ITSpatial_by_region/AI/MotifScan.h5adtemp/MA1153.1.meme, N motif total=19371\n"
     ]
    },
    {
     "name": "stderr",
     "output_type": "stream",
     "text": [
      "/home/hanliu/miniconda3/envs/clustering/lib/python3.7/site-packages/ALLCools/dmr/fimo.py:60: FutureWarning: to_msgpack is deprecated and will be removed in a future version.\n",
      "It is recommended to use pyarrow for on-the-wire transmission of pandas objects.\n",
      "  final_df.to_msgpack(output_path, compress='zlib')\n"
     ]
    },
    {
     "name": "stdout",
     "output_type": "stream",
     "text": [
      "/home/hanliu/project/mouse_rostral_brain/DMR/ITSpatial_by_region/AI/MotifScan.h5adtemp/MA1118.1.meme, N motif total=19484\n"
     ]
    },
    {
     "name": "stderr",
     "output_type": "stream",
     "text": [
      "/home/hanliu/miniconda3/envs/clustering/lib/python3.7/site-packages/ALLCools/dmr/fimo.py:60: FutureWarning: to_msgpack is deprecated and will be removed in a future version.\n",
      "It is recommended to use pyarrow for on-the-wire transmission of pandas objects.\n",
      "  final_df.to_msgpack(output_path, compress='zlib')\n"
     ]
    },
    {
     "name": "stdout",
     "output_type": "stream",
     "text": [
      "/home/hanliu/project/mouse_rostral_brain/DMR/ITSpatial_by_region/AI/MotifScan.h5adtemp/MA1558.1.meme, N motif total=31461\n"
     ]
    },
    {
     "name": "stderr",
     "output_type": "stream",
     "text": [
      "/home/hanliu/miniconda3/envs/clustering/lib/python3.7/site-packages/ALLCools/dmr/fimo.py:60: FutureWarning: to_msgpack is deprecated and will be removed in a future version.\n",
      "It is recommended to use pyarrow for on-the-wire transmission of pandas objects.\n",
      "  final_df.to_msgpack(output_path, compress='zlib')\n"
     ]
    },
    {
     "name": "stdout",
     "output_type": "stream",
     "text": [
      "/home/hanliu/project/mouse_rostral_brain/DMR/ITSpatial_by_region/AI/MotifScan.h5adtemp/MA0795.1.meme, N motif total=14579\n"
     ]
    },
    {
     "name": "stderr",
     "output_type": "stream",
     "text": [
      "/home/hanliu/miniconda3/envs/clustering/lib/python3.7/site-packages/ALLCools/dmr/fimo.py:60: FutureWarning: to_msgpack is deprecated and will be removed in a future version.\n",
      "It is recommended to use pyarrow for on-the-wire transmission of pandas objects.\n",
      "  final_df.to_msgpack(output_path, compress='zlib')\n"
     ]
    },
    {
     "name": "stdout",
     "output_type": "stream",
     "text": [
      "/home/hanliu/project/mouse_rostral_brain/DMR/ITSpatial_by_region/AI/MotifScan.h5adtemp/MA1557.1.meme, N motif total=11122\n"
     ]
    },
    {
     "name": "stderr",
     "output_type": "stream",
     "text": [
      "/home/hanliu/miniconda3/envs/clustering/lib/python3.7/site-packages/ALLCools/dmr/fimo.py:60: FutureWarning: to_msgpack is deprecated and will be removed in a future version.\n",
      "It is recommended to use pyarrow for on-the-wire transmission of pandas objects.\n",
      "  final_df.to_msgpack(output_path, compress='zlib')\n"
     ]
    },
    {
     "name": "stdout",
     "output_type": "stream",
     "text": [
      "/home/hanliu/project/mouse_rostral_brain/DMR/ITSpatial_by_region/AI/MotifScan.h5adtemp/MA0513.1.meme, N motif total=50931\n"
     ]
    },
    {
     "name": "stderr",
     "output_type": "stream",
     "text": [
      "/home/hanliu/miniconda3/envs/clustering/lib/python3.7/site-packages/ALLCools/dmr/fimo.py:60: FutureWarning: to_msgpack is deprecated and will be removed in a future version.\n",
      "It is recommended to use pyarrow for on-the-wire transmission of pandas objects.\n",
      "  final_df.to_msgpack(output_path, compress='zlib')\n"
     ]
    },
    {
     "name": "stdout",
     "output_type": "stream",
     "text": [
      "/home/hanliu/project/mouse_rostral_brain/DMR/ITSpatial_by_region/AI/MotifScan.h5adtemp/MA1119.1.meme, N motif total=25604\n"
     ]
    },
    {
     "name": "stderr",
     "output_type": "stream",
     "text": [
      "/home/hanliu/miniconda3/envs/clustering/lib/python3.7/site-packages/ALLCools/dmr/fimo.py:60: FutureWarning: to_msgpack is deprecated and will be removed in a future version.\n",
      "It is recommended to use pyarrow for on-the-wire transmission of pandas objects.\n",
      "  final_df.to_msgpack(output_path, compress='zlib')\n"
     ]
    },
    {
     "name": "stdout",
     "output_type": "stream",
     "text": [
      "/home/hanliu/project/mouse_rostral_brain/DMR/ITSpatial_by_region/AI/MotifScan.h5adtemp/MA1559.1.meme, N motif total=31863\n"
     ]
    },
    {
     "name": "stderr",
     "output_type": "stream",
     "text": [
      "/home/hanliu/miniconda3/envs/clustering/lib/python3.7/site-packages/ALLCools/dmr/fimo.py:60: FutureWarning: to_msgpack is deprecated and will be removed in a future version.\n",
      "It is recommended to use pyarrow for on-the-wire transmission of pandas objects.\n",
      "  final_df.to_msgpack(output_path, compress='zlib')\n"
     ]
    },
    {
     "name": "stdout",
     "output_type": "stream",
     "text": [
      "/home/hanliu/project/mouse_rostral_brain/DMR/ITSpatial_by_region/AI/MotifScan.h5adtemp/MA1622.1.meme, N motif total=33842\n"
     ]
    },
    {
     "name": "stderr",
     "output_type": "stream",
     "text": [
      "/home/hanliu/miniconda3/envs/clustering/lib/python3.7/site-packages/ALLCools/dmr/fimo.py:60: FutureWarning: to_msgpack is deprecated and will be removed in a future version.\n",
      "It is recommended to use pyarrow for on-the-wire transmission of pandas objects.\n",
      "  final_df.to_msgpack(output_path, compress='zlib')\n"
     ]
    },
    {
     "name": "stdout",
     "output_type": "stream",
     "text": [
      "/home/hanliu/project/mouse_rostral_brain/DMR/ITSpatial_by_region/AI/MotifScan.h5adtemp/MA1560.1.meme, N motif total=14106\n"
     ]
    },
    {
     "name": "stderr",
     "output_type": "stream",
     "text": [
      "/home/hanliu/miniconda3/envs/clustering/lib/python3.7/site-packages/ALLCools/dmr/fimo.py:60: FutureWarning: to_msgpack is deprecated and will be removed in a future version.\n",
      "It is recommended to use pyarrow for on-the-wire transmission of pandas objects.\n",
      "  final_df.to_msgpack(output_path, compress='zlib')\n"
     ]
    },
    {
     "name": "stdout",
     "output_type": "stream",
     "text": [
      "/home/hanliu/project/mouse_rostral_brain/DMR/ITSpatial_by_region/AI/MotifScan.h5adtemp/MA0745.2.meme, N motif total=32078\n"
     ]
    },
    {
     "name": "stderr",
     "output_type": "stream",
     "text": [
      "/home/hanliu/miniconda3/envs/clustering/lib/python3.7/site-packages/ALLCools/dmr/fimo.py:60: FutureWarning: to_msgpack is deprecated and will be removed in a future version.\n",
      "It is recommended to use pyarrow for on-the-wire transmission of pandas objects.\n",
      "  final_df.to_msgpack(output_path, compress='zlib')\n"
     ]
    },
    {
     "name": "stdout",
     "output_type": "stream",
     "text": [
      "/home/hanliu/project/mouse_rostral_brain/DMR/ITSpatial_by_region/AI/MotifScan.h5adtemp/MA0631.1.meme, N motif total=11133\n"
     ]
    },
    {
     "name": "stderr",
     "output_type": "stream",
     "text": [
      "/home/hanliu/miniconda3/envs/clustering/lib/python3.7/site-packages/ALLCools/dmr/fimo.py:60: FutureWarning: to_msgpack is deprecated and will be removed in a future version.\n",
      "It is recommended to use pyarrow for on-the-wire transmission of pandas objects.\n",
      "  final_df.to_msgpack(output_path, compress='zlib')\n"
     ]
    },
    {
     "name": "stdout",
     "output_type": "stream",
     "text": [
      "/home/hanliu/project/mouse_rostral_brain/DMR/ITSpatial_by_region/AI/MotifScan.h5adtemp/MA1561.1.meme, N motif total=11290\n"
     ]
    },
    {
     "name": "stderr",
     "output_type": "stream",
     "text": [
      "/home/hanliu/miniconda3/envs/clustering/lib/python3.7/site-packages/ALLCools/dmr/fimo.py:60: FutureWarning: to_msgpack is deprecated and will be removed in a future version.\n",
      "It is recommended to use pyarrow for on-the-wire transmission of pandas objects.\n",
      "  final_df.to_msgpack(output_path, compress='zlib')\n"
     ]
    },
    {
     "name": "stdout",
     "output_type": "stream",
     "text": [
      "/home/hanliu/project/mouse_rostral_brain/DMR/ITSpatial_by_region/AI/MotifScan.h5adtemp/MA0870.1.meme, N motif total=6890\n"
     ]
    },
    {
     "name": "stderr",
     "output_type": "stream",
     "text": [
      "/home/hanliu/miniconda3/envs/clustering/lib/python3.7/site-packages/ALLCools/dmr/fimo.py:60: FutureWarning: to_msgpack is deprecated and will be removed in a future version.\n",
      "It is recommended to use pyarrow for on-the-wire transmission of pandas objects.\n",
      "  final_df.to_msgpack(output_path, compress='zlib')\n"
     ]
    },
    {
     "name": "stdout",
     "output_type": "stream",
     "text": [
      "/home/hanliu/project/mouse_rostral_brain/DMR/ITSpatial_by_region/AI/MotifScan.h5adtemp/MA1120.1.meme, N motif total=22780\n"
     ]
    },
    {
     "name": "stderr",
     "output_type": "stream",
     "text": [
      "/home/hanliu/miniconda3/envs/clustering/lib/python3.7/site-packages/ALLCools/dmr/fimo.py:60: FutureWarning: to_msgpack is deprecated and will be removed in a future version.\n",
      "It is recommended to use pyarrow for on-the-wire transmission of pandas objects.\n",
      "  final_df.to_msgpack(output_path, compress='zlib')\n"
     ]
    },
    {
     "name": "stdout",
     "output_type": "stream",
     "text": [
      "/home/hanliu/project/mouse_rostral_brain/DMR/ITSpatial_by_region/AI/MotifScan.h5adtemp/MA0442.2.meme, N motif total=42467\n"
     ]
    },
    {
     "name": "stderr",
     "output_type": "stream",
     "text": [
      "/home/hanliu/miniconda3/envs/clustering/lib/python3.7/site-packages/ALLCools/dmr/fimo.py:60: FutureWarning: to_msgpack is deprecated and will be removed in a future version.\n",
      "It is recommended to use pyarrow for on-the-wire transmission of pandas objects.\n",
      "  final_df.to_msgpack(output_path, compress='zlib')\n"
     ]
    },
    {
     "name": "stdout",
     "output_type": "stream",
     "text": [
      "/home/hanliu/project/mouse_rostral_brain/DMR/ITSpatial_by_region/AI/MotifScan.h5adtemp/MA1563.1.meme, N motif total=14977\n"
     ]
    },
    {
     "name": "stderr",
     "output_type": "stream",
     "text": [
      "/home/hanliu/miniconda3/envs/clustering/lib/python3.7/site-packages/ALLCools/dmr/fimo.py:60: FutureWarning: to_msgpack is deprecated and will be removed in a future version.\n",
      "It is recommended to use pyarrow for on-the-wire transmission of pandas objects.\n",
      "  final_df.to_msgpack(output_path, compress='zlib')\n"
     ]
    },
    {
     "name": "stdout",
     "output_type": "stream",
     "text": [
      "/home/hanliu/project/mouse_rostral_brain/DMR/ITSpatial_by_region/AI/MotifScan.h5adtemp/MA1562.1.meme, N motif total=12320\n"
     ]
    },
    {
     "name": "stderr",
     "output_type": "stream",
     "text": [
      "/home/hanliu/miniconda3/envs/clustering/lib/python3.7/site-packages/ALLCools/dmr/fimo.py:60: FutureWarning: to_msgpack is deprecated and will be removed in a future version.\n",
      "It is recommended to use pyarrow for on-the-wire transmission of pandas objects.\n",
      "  final_df.to_msgpack(output_path, compress='zlib')\n"
     ]
    },
    {
     "name": "stdout",
     "output_type": "stream",
     "text": [
      "/home/hanliu/project/mouse_rostral_brain/DMR/ITSpatial_by_region/AI/MotifScan.h5adtemp/MA1152.1.meme, N motif total=40151\n"
     ]
    },
    {
     "name": "stderr",
     "output_type": "stream",
     "text": [
      "/home/hanliu/miniconda3/envs/clustering/lib/python3.7/site-packages/ALLCools/dmr/fimo.py:60: FutureWarning: to_msgpack is deprecated and will be removed in a future version.\n",
      "It is recommended to use pyarrow for on-the-wire transmission of pandas objects.\n",
      "  final_df.to_msgpack(output_path, compress='zlib')\n"
     ]
    },
    {
     "name": "stdout",
     "output_type": "stream",
     "text": [
      "/home/hanliu/project/mouse_rostral_brain/DMR/ITSpatial_by_region/AI/MotifScan.h5adtemp/MA0078.1.meme, N motif total=21024\n"
     ]
    },
    {
     "name": "stderr",
     "output_type": "stream",
     "text": [
      "/home/hanliu/miniconda3/envs/clustering/lib/python3.7/site-packages/ALLCools/dmr/fimo.py:60: FutureWarning: to_msgpack is deprecated and will be removed in a future version.\n",
      "It is recommended to use pyarrow for on-the-wire transmission of pandas objects.\n",
      "  final_df.to_msgpack(output_path, compress='zlib')\n"
     ]
    },
    {
     "name": "stdout",
     "output_type": "stream",
     "text": [
      "Motif MA0087.1 Sox5 do not have any match under current settings.\n"
     ]
    },
    {
     "name": "stdout",
     "output_type": "stream",
     "text": [
      "/home/hanliu/project/mouse_rostral_brain/DMR/ITSpatial_by_region/AI/MotifScan.h5adtemp/MA0869.1.meme, N motif total=421\n"
     ]
    },
    {
     "name": "stderr",
     "output_type": "stream",
     "text": [
      "/home/hanliu/miniconda3/envs/clustering/lib/python3.7/site-packages/ALLCools/dmr/fimo.py:60: FutureWarning: to_msgpack is deprecated and will be removed in a future version.\n",
      "It is recommended to use pyarrow for on-the-wire transmission of pandas objects.\n",
      "  final_df.to_msgpack(output_path, compress='zlib')\n"
     ]
    },
    {
     "name": "stdout",
     "output_type": "stream",
     "text": [
      "/home/hanliu/project/mouse_rostral_brain/DMR/ITSpatial_by_region/AI/MotifScan.h5adtemp/MA0867.2.meme, N motif total=35875\n"
     ]
    },
    {
     "name": "stderr",
     "output_type": "stream",
     "text": [
      "/home/hanliu/miniconda3/envs/clustering/lib/python3.7/site-packages/ALLCools/dmr/fimo.py:60: FutureWarning: to_msgpack is deprecated and will be removed in a future version.\n",
      "It is recommended to use pyarrow for on-the-wire transmission of pandas objects.\n",
      "  final_df.to_msgpack(output_path, compress='zlib')\n"
     ]
    },
    {
     "name": "stdout",
     "output_type": "stream",
     "text": [
      "/home/hanliu/project/mouse_rostral_brain/DMR/ITSpatial_by_region/AI/MotifScan.h5adtemp/MA0143.4.meme, N motif total=23746\n"
     ]
    },
    {
     "name": "stderr",
     "output_type": "stream",
     "text": [
      "/home/hanliu/miniconda3/envs/clustering/lib/python3.7/site-packages/ALLCools/dmr/fimo.py:60: FutureWarning: to_msgpack is deprecated and will be removed in a future version.\n",
      "It is recommended to use pyarrow for on-the-wire transmission of pandas objects.\n",
      "  final_df.to_msgpack(output_path, compress='zlib')\n"
     ]
    },
    {
     "name": "stdout",
     "output_type": "stream",
     "text": [
      "/home/hanliu/project/mouse_rostral_brain/DMR/ITSpatial_by_region/AI/MotifScan.h5adtemp/MA0514.1.meme, N motif total=62509\n"
     ]
    },
    {
     "name": "stderr",
     "output_type": "stream",
     "text": [
      "/home/hanliu/miniconda3/envs/clustering/lib/python3.7/site-packages/ALLCools/dmr/fimo.py:60: FutureWarning: to_msgpack is deprecated and will be removed in a future version.\n",
      "It is recommended to use pyarrow for on-the-wire transmission of pandas objects.\n",
      "  final_df.to_msgpack(output_path, compress='zlib')\n"
     ]
    },
    {
     "name": "stdout",
     "output_type": "stream",
     "text": [
      "/home/hanliu/project/mouse_rostral_brain/DMR/ITSpatial_by_region/AI/MotifScan.h5adtemp/MA0866.1.meme, N motif total=4454\n"
     ]
    },
    {
     "name": "stderr",
     "output_type": "stream",
     "text": [
      "/home/hanliu/miniconda3/envs/clustering/lib/python3.7/site-packages/ALLCools/dmr/fimo.py:60: FutureWarning: to_msgpack is deprecated and will be removed in a future version.\n",
      "It is recommended to use pyarrow for on-the-wire transmission of pandas objects.\n",
      "  final_df.to_msgpack(output_path, compress='zlib')\n"
     ]
    },
    {
     "name": "stdout",
     "output_type": "stream",
     "text": [
      "/home/hanliu/project/mouse_rostral_brain/DMR/ITSpatial_by_region/AI/MotifScan.h5adtemp/MA0077.1.meme, N motif total=15964\n"
     ]
    },
    {
     "name": "stderr",
     "output_type": "stream",
     "text": [
      "/home/hanliu/miniconda3/envs/clustering/lib/python3.7/site-packages/ALLCools/dmr/fimo.py:60: FutureWarning: to_msgpack is deprecated and will be removed in a future version.\n",
      "It is recommended to use pyarrow for on-the-wire transmission of pandas objects.\n",
      "  final_df.to_msgpack(output_path, compress='zlib')\n"
     ]
    },
    {
     "name": "stdout",
     "output_type": "stream",
     "text": [
      "/home/hanliu/project/mouse_rostral_brain/DMR/ITSpatial_by_region/AI/MotifScan.h5adtemp/MA0515.1.meme, N motif total=38192\n"
     ]
    },
    {
     "name": "stderr",
     "output_type": "stream",
     "text": [
      "/home/hanliu/miniconda3/envs/clustering/lib/python3.7/site-packages/ALLCools/dmr/fimo.py:60: FutureWarning: to_msgpack is deprecated and will be removed in a future version.\n",
      "It is recommended to use pyarrow for on-the-wire transmission of pandas objects.\n",
      "  final_df.to_msgpack(output_path, compress='zlib')\n"
     ]
    },
    {
     "name": "stdout",
     "output_type": "stream",
     "text": [
      "/home/hanliu/project/mouse_rostral_brain/DMR/ITSpatial_by_region/AI/MotifScan.h5adtemp/MA0868.2.meme, N motif total=19988\n"
     ]
    },
    {
     "name": "stderr",
     "output_type": "stream",
     "text": [
      "/home/hanliu/miniconda3/envs/clustering/lib/python3.7/site-packages/ALLCools/dmr/fimo.py:60: FutureWarning: to_msgpack is deprecated and will be removed in a future version.\n",
      "It is recommended to use pyarrow for on-the-wire transmission of pandas objects.\n",
      "  final_df.to_msgpack(output_path, compress='zlib')\n"
     ]
    },
    {
     "name": "stdout",
     "output_type": "stream",
     "text": [
      "/home/hanliu/project/mouse_rostral_brain/DMR/ITSpatial_by_region/AI/MotifScan.h5adtemp/MA0079.4.meme, N motif total=17293\n"
     ]
    },
    {
     "name": "stderr",
     "output_type": "stream",
     "text": [
      "/home/hanliu/miniconda3/envs/clustering/lib/python3.7/site-packages/ALLCools/dmr/fimo.py:60: FutureWarning: to_msgpack is deprecated and will be removed in a future version.\n",
      "It is recommended to use pyarrow for on-the-wire transmission of pandas objects.\n",
      "  final_df.to_msgpack(output_path, compress='zlib')\n"
     ]
    },
    {
     "name": "stdout",
     "output_type": "stream",
     "text": [
      "/home/hanliu/project/mouse_rostral_brain/DMR/ITSpatial_by_region/AI/MotifScan.h5adtemp/MA0686.1.meme, N motif total=8343\n"
     ]
    },
    {
     "name": "stderr",
     "output_type": "stream",
     "text": [
      "/home/hanliu/miniconda3/envs/clustering/lib/python3.7/site-packages/ALLCools/dmr/fimo.py:60: FutureWarning: to_msgpack is deprecated and will be removed in a future version.\n",
      "It is recommended to use pyarrow for on-the-wire transmission of pandas objects.\n",
      "  final_df.to_msgpack(output_path, compress='zlib')\n"
     ]
    },
    {
     "name": "stdout",
     "output_type": "stream",
     "text": [
      "/home/hanliu/project/mouse_rostral_brain/DMR/ITSpatial_by_region/AI/MotifScan.h5adtemp/MA1564.1.meme, N motif total=63718\n"
     ]
    },
    {
     "name": "stderr",
     "output_type": "stream",
     "text": [
      "/home/hanliu/miniconda3/envs/clustering/lib/python3.7/site-packages/ALLCools/dmr/fimo.py:60: FutureWarning: to_msgpack is deprecated and will be removed in a future version.\n",
      "It is recommended to use pyarrow for on-the-wire transmission of pandas objects.\n",
      "  final_df.to_msgpack(output_path, compress='zlib')\n"
     ]
    },
    {
     "name": "stdout",
     "output_type": "stream",
     "text": [
      "/home/hanliu/project/mouse_rostral_brain/DMR/ITSpatial_by_region/AI/MotifScan.h5adtemp/MA0747.1.meme, N motif total=74111\n"
     ]
    },
    {
     "name": "stderr",
     "output_type": "stream",
     "text": [
      "/home/hanliu/miniconda3/envs/clustering/lib/python3.7/site-packages/ALLCools/dmr/fimo.py:60: FutureWarning: to_msgpack is deprecated and will be removed in a future version.\n",
      "It is recommended to use pyarrow for on-the-wire transmission of pandas objects.\n",
      "  final_df.to_msgpack(output_path, compress='zlib')\n"
     ]
    },
    {
     "name": "stdout",
     "output_type": "stream",
     "text": [
      "/home/hanliu/project/mouse_rostral_brain/DMR/ITSpatial_by_region/AI/MotifScan.h5adtemp/MA0746.2.meme, N motif total=48113\n"
     ]
    },
    {
     "name": "stderr",
     "output_type": "stream",
     "text": [
      "/home/hanliu/miniconda3/envs/clustering/lib/python3.7/site-packages/ALLCools/dmr/fimo.py:60: FutureWarning: to_msgpack is deprecated and will be removed in a future version.\n",
      "It is recommended to use pyarrow for on-the-wire transmission of pandas objects.\n",
      "  final_df.to_msgpack(output_path, compress='zlib')\n"
     ]
    },
    {
     "name": "stdout",
     "output_type": "stream",
     "text": [
      "/home/hanliu/project/mouse_rostral_brain/DMR/ITSpatial_by_region/AI/MotifScan.h5adtemp/MA0111.1.meme, N motif total=22283\n"
     ]
    },
    {
     "name": "stderr",
     "output_type": "stream",
     "text": [
      "/home/hanliu/miniconda3/envs/clustering/lib/python3.7/site-packages/ALLCools/dmr/fimo.py:60: FutureWarning: to_msgpack is deprecated and will be removed in a future version.\n",
      "It is recommended to use pyarrow for on-the-wire transmission of pandas objects.\n",
      "  final_df.to_msgpack(output_path, compress='zlib')\n"
     ]
    },
    {
     "name": "stdout",
     "output_type": "stream",
     "text": [
      "/home/hanliu/project/mouse_rostral_brain/DMR/ITSpatial_by_region/AI/MotifScan.h5adtemp/MA0595.1.meme, N motif total=21308\n"
     ]
    },
    {
     "name": "stderr",
     "output_type": "stream",
     "text": [
      "/home/hanliu/miniconda3/envs/clustering/lib/python3.7/site-packages/ALLCools/dmr/fimo.py:60: FutureWarning: to_msgpack is deprecated and will be removed in a future version.\n",
      "It is recommended to use pyarrow for on-the-wire transmission of pandas objects.\n",
      "  final_df.to_msgpack(output_path, compress='zlib')\n"
     ]
    },
    {
     "name": "stdout",
     "output_type": "stream",
     "text": [
      "/home/hanliu/project/mouse_rostral_brain/DMR/ITSpatial_by_region/AI/MotifScan.h5adtemp/MA0516.2.meme, N motif total=71204\n"
     ]
    },
    {
     "name": "stderr",
     "output_type": "stream",
     "text": [
      "/home/hanliu/miniconda3/envs/clustering/lib/python3.7/site-packages/ALLCools/dmr/fimo.py:60: FutureWarning: to_msgpack is deprecated and will be removed in a future version.\n",
      "It is recommended to use pyarrow for on-the-wire transmission of pandas objects.\n",
      "  final_df.to_msgpack(output_path, compress='zlib')\n"
     ]
    },
    {
     "name": "stdout",
     "output_type": "stream",
     "text": [
      "/home/hanliu/project/mouse_rostral_brain/DMR/ITSpatial_by_region/AI/MotifScan.h5adtemp/MA0685.1.meme, N motif total=14464\n"
     ]
    },
    {
     "name": "stderr",
     "output_type": "stream",
     "text": [
      "/home/hanliu/miniconda3/envs/clustering/lib/python3.7/site-packages/ALLCools/dmr/fimo.py:60: FutureWarning: to_msgpack is deprecated and will be removed in a future version.\n",
      "It is recommended to use pyarrow for on-the-wire transmission of pandas objects.\n",
      "  final_df.to_msgpack(output_path, compress='zlib')\n"
     ]
    },
    {
     "name": "stdout",
     "output_type": "stream",
     "text": [
      "/home/hanliu/project/mouse_rostral_brain/DMR/ITSpatial_by_region/AI/MotifScan.h5adtemp/MA0081.2.meme, N motif total=70052\n"
     ]
    },
    {
     "name": "stderr",
     "output_type": "stream",
     "text": [
      "/home/hanliu/miniconda3/envs/clustering/lib/python3.7/site-packages/ALLCools/dmr/fimo.py:60: FutureWarning: to_msgpack is deprecated and will be removed in a future version.\n",
      "It is recommended to use pyarrow for on-the-wire transmission of pandas objects.\n",
      "  final_df.to_msgpack(output_path, compress='zlib')\n"
     ]
    },
    {
     "name": "stdout",
     "output_type": "stream",
     "text": [
      "/home/hanliu/project/mouse_rostral_brain/DMR/ITSpatial_by_region/AI/MotifScan.h5adtemp/MA0084.1.meme, N motif total=20346\n"
     ]
    },
    {
     "name": "stderr",
     "output_type": "stream",
     "text": [
      "/home/hanliu/miniconda3/envs/clustering/lib/python3.7/site-packages/ALLCools/dmr/fimo.py:60: FutureWarning: to_msgpack is deprecated and will be removed in a future version.\n",
      "It is recommended to use pyarrow for on-the-wire transmission of pandas objects.\n",
      "  final_df.to_msgpack(output_path, compress='zlib')\n"
     ]
    },
    {
     "name": "stdout",
     "output_type": "stream",
     "text": [
      "/home/hanliu/project/mouse_rostral_brain/DMR/ITSpatial_by_region/AI/MotifScan.h5adtemp/MA0687.1.meme, N motif total=32440\n"
     ]
    },
    {
     "name": "stderr",
     "output_type": "stream",
     "text": [
      "/home/hanliu/miniconda3/envs/clustering/lib/python3.7/site-packages/ALLCools/dmr/fimo.py:60: FutureWarning: to_msgpack is deprecated and will be removed in a future version.\n",
      "It is recommended to use pyarrow for on-the-wire transmission of pandas objects.\n",
      "  final_df.to_msgpack(output_path, compress='zlib')\n"
     ]
    },
    {
     "name": "stdout",
     "output_type": "stream",
     "text": [
      "/home/hanliu/project/mouse_rostral_brain/DMR/ITSpatial_by_region/AI/MotifScan.h5adtemp/MA0596.1.meme, N motif total=22717\n"
     ]
    },
    {
     "name": "stderr",
     "output_type": "stream",
     "text": [
      "/home/hanliu/miniconda3/envs/clustering/lib/python3.7/site-packages/ALLCools/dmr/fimo.py:60: FutureWarning: to_msgpack is deprecated and will be removed in a future version.\n",
      "It is recommended to use pyarrow for on-the-wire transmission of pandas objects.\n",
      "  final_df.to_msgpack(output_path, compress='zlib')\n"
     ]
    },
    {
     "name": "stdout",
     "output_type": "stream",
     "text": [
      "/home/hanliu/project/mouse_rostral_brain/DMR/ITSpatial_by_region/AI/MotifScan.h5adtemp/MA0828.1.meme, N motif total=12136\n"
     ]
    },
    {
     "name": "stderr",
     "output_type": "stream",
     "text": [
      "/home/hanliu/miniconda3/envs/clustering/lib/python3.7/site-packages/ALLCools/dmr/fimo.py:60: FutureWarning: to_msgpack is deprecated and will be removed in a future version.\n",
      "It is recommended to use pyarrow for on-the-wire transmission of pandas objects.\n",
      "  final_df.to_msgpack(output_path, compress='zlib')\n"
     ]
    },
    {
     "name": "stdout",
     "output_type": "stream",
     "text": [
      "/home/hanliu/project/mouse_rostral_brain/DMR/ITSpatial_by_region/AI/MotifScan.h5adtemp/MA0829.2.meme, N motif total=18785\n"
     ]
    },
    {
     "name": "stderr",
     "output_type": "stream",
     "text": [
      "/home/hanliu/miniconda3/envs/clustering/lib/python3.7/site-packages/ALLCools/dmr/fimo.py:60: FutureWarning: to_msgpack is deprecated and will be removed in a future version.\n",
      "It is recommended to use pyarrow for on-the-wire transmission of pandas objects.\n",
      "  final_df.to_msgpack(output_path, compress='zlib')\n"
     ]
    },
    {
     "name": "stdout",
     "output_type": "stream",
     "text": [
      "/home/hanliu/project/mouse_rostral_brain/DMR/ITSpatial_by_region/AI/MotifScan.h5adtemp/MA0137.3.meme, N motif total=39824\n"
     ]
    },
    {
     "name": "stderr",
     "output_type": "stream",
     "text": [
      "/home/hanliu/miniconda3/envs/clustering/lib/python3.7/site-packages/ALLCools/dmr/fimo.py:60: FutureWarning: to_msgpack is deprecated and will be removed in a future version.\n",
      "It is recommended to use pyarrow for on-the-wire transmission of pandas objects.\n",
      "  final_df.to_msgpack(output_path, compress='zlib')\n"
     ]
    },
    {
     "name": "stdout",
     "output_type": "stream",
     "text": [
      "/home/hanliu/project/mouse_rostral_brain/DMR/ITSpatial_by_region/AI/MotifScan.h5adtemp/MA0080.5.meme, N motif total=98537\n"
     ]
    },
    {
     "name": "stderr",
     "output_type": "stream",
     "text": [
      "/home/hanliu/miniconda3/envs/clustering/lib/python3.7/site-packages/ALLCools/dmr/fimo.py:60: FutureWarning: to_msgpack is deprecated and will be removed in a future version.\n",
      "It is recommended to use pyarrow for on-the-wire transmission of pandas objects.\n",
      "  final_df.to_msgpack(output_path, compress='zlib')\n"
     ]
    },
    {
     "name": "stdout",
     "output_type": "stream",
     "text": [
      "/home/hanliu/project/mouse_rostral_brain/DMR/ITSpatial_by_region/AI/MotifScan.h5adtemp/MA1623.1.meme, N motif total=95730\n"
     ]
    },
    {
     "name": "stderr",
     "output_type": "stream",
     "text": [
      "/home/hanliu/miniconda3/envs/clustering/lib/python3.7/site-packages/ALLCools/dmr/fimo.py:60: FutureWarning: to_msgpack is deprecated and will be removed in a future version.\n",
      "It is recommended to use pyarrow for on-the-wire transmission of pandas objects.\n",
      "  final_df.to_msgpack(output_path, compress='zlib')\n"
     ]
    },
    {
     "name": "stdout",
     "output_type": "stream",
     "text": [
      "/home/hanliu/project/mouse_rostral_brain/DMR/ITSpatial_by_region/AI/MotifScan.h5adtemp/MA0083.3.meme, N motif total=6703\n"
     ]
    },
    {
     "name": "stderr",
     "output_type": "stream",
     "text": [
      "/home/hanliu/miniconda3/envs/clustering/lib/python3.7/site-packages/ALLCools/dmr/fimo.py:60: FutureWarning: to_msgpack is deprecated and will be removed in a future version.\n",
      "It is recommended to use pyarrow for on-the-wire transmission of pandas objects.\n",
      "  final_df.to_msgpack(output_path, compress='zlib')\n"
     ]
    },
    {
     "name": "stdout",
     "output_type": "stream",
     "text": [
      "/home/hanliu/project/mouse_rostral_brain/DMR/ITSpatial_by_region/AI/MotifScan.h5adtemp/MA0144.2.meme, N motif total=48988\n"
     ]
    },
    {
     "name": "stderr",
     "output_type": "stream",
     "text": [
      "/home/hanliu/miniconda3/envs/clustering/lib/python3.7/site-packages/ALLCools/dmr/fimo.py:60: FutureWarning: to_msgpack is deprecated and will be removed in a future version.\n",
      "It is recommended to use pyarrow for on-the-wire transmission of pandas objects.\n",
      "  final_df.to_msgpack(output_path, compress='zlib')\n"
     ]
    },
    {
     "name": "stdout",
     "output_type": "stream",
     "text": [
      "/home/hanliu/project/mouse_rostral_brain/DMR/ITSpatial_by_region/AI/MotifScan.h5adtemp/MA0519.1.meme, N motif total=43935\n"
     ]
    },
    {
     "name": "stderr",
     "output_type": "stream",
     "text": [
      "/home/hanliu/miniconda3/envs/clustering/lib/python3.7/site-packages/ALLCools/dmr/fimo.py:60: FutureWarning: to_msgpack is deprecated and will be removed in a future version.\n",
      "It is recommended to use pyarrow for on-the-wire transmission of pandas objects.\n",
      "  final_df.to_msgpack(output_path, compress='zlib')\n"
     ]
    },
    {
     "name": "stdout",
     "output_type": "stream",
     "text": [
      "Finish count 600 motifs.\n"
     ]
    },
    {
     "name": "stdout",
     "output_type": "stream",
     "text": [
      "/home/hanliu/project/mouse_rostral_brain/DMR/ITSpatial_by_region/AI/MotifScan.h5adtemp/MA0517.1.meme, N motif total=66978\n"
     ]
    },
    {
     "name": "stderr",
     "output_type": "stream",
     "text": [
      "/home/hanliu/miniconda3/envs/clustering/lib/python3.7/site-packages/ALLCools/dmr/fimo.py:60: FutureWarning: to_msgpack is deprecated and will be removed in a future version.\n",
      "It is recommended to use pyarrow for on-the-wire transmission of pandas objects.\n",
      "  final_df.to_msgpack(output_path, compress='zlib')\n"
     ]
    },
    {
     "name": "stdout",
     "output_type": "stream",
     "text": [
      "/home/hanliu/project/mouse_rostral_brain/DMR/ITSpatial_by_region/AI/MotifScan.h5adtemp/MA0803.1.meme, N motif total=20761\n"
     ]
    },
    {
     "name": "stderr",
     "output_type": "stream",
     "text": [
      "/home/hanliu/miniconda3/envs/clustering/lib/python3.7/site-packages/ALLCools/dmr/fimo.py:60: FutureWarning: to_msgpack is deprecated and will be removed in a future version.\n",
      "It is recommended to use pyarrow for on-the-wire transmission of pandas objects.\n",
      "  final_df.to_msgpack(output_path, compress='zlib')\n"
     ]
    },
    {
     "name": "stdout",
     "output_type": "stream",
     "text": [
      "/home/hanliu/project/mouse_rostral_brain/DMR/ITSpatial_by_region/AI/MotifScan.h5adtemp/MA0805.1.meme, N motif total=20411\n"
     ]
    },
    {
     "name": "stderr",
     "output_type": "stream",
     "text": [
      "/home/hanliu/miniconda3/envs/clustering/lib/python3.7/site-packages/ALLCools/dmr/fimo.py:60: FutureWarning: to_msgpack is deprecated and will be removed in a future version.\n",
      "It is recommended to use pyarrow for on-the-wire transmission of pandas objects.\n",
      "  final_df.to_msgpack(output_path, compress='zlib')\n"
     ]
    },
    {
     "name": "stdout",
     "output_type": "stream",
     "text": [
      "/home/hanliu/project/mouse_rostral_brain/DMR/ITSpatial_by_region/AI/MotifScan.h5adtemp/MA0802.1.meme, N motif total=23428\n"
     ]
    },
    {
     "name": "stderr",
     "output_type": "stream",
     "text": [
      "/home/hanliu/miniconda3/envs/clustering/lib/python3.7/site-packages/ALLCools/dmr/fimo.py:60: FutureWarning: to_msgpack is deprecated and will be removed in a future version.\n",
      "It is recommended to use pyarrow for on-the-wire transmission of pandas objects.\n",
      "  final_df.to_msgpack(output_path, compress='zlib')\n"
     ]
    },
    {
     "name": "stdout",
     "output_type": "stream",
     "text": [
      "/home/hanliu/project/mouse_rostral_brain/DMR/ITSpatial_by_region/AI/MotifScan.h5adtemp/MA1624.1.meme, N motif total=39232\n"
     ]
    },
    {
     "name": "stderr",
     "output_type": "stream",
     "text": [
      "/home/hanliu/miniconda3/envs/clustering/lib/python3.7/site-packages/ALLCools/dmr/fimo.py:60: FutureWarning: to_msgpack is deprecated and will be removed in a future version.\n",
      "It is recommended to use pyarrow for on-the-wire transmission of pandas objects.\n",
      "  final_df.to_msgpack(output_path, compress='zlib')\n"
     ]
    },
    {
     "name": "stdout",
     "output_type": "stream",
     "text": [
      "/home/hanliu/project/mouse_rostral_brain/DMR/ITSpatial_by_region/AI/MotifScan.h5adtemp/MA1625.1.meme, N motif total=47658\n"
     ]
    },
    {
     "name": "stderr",
     "output_type": "stream",
     "text": [
      "/home/hanliu/miniconda3/envs/clustering/lib/python3.7/site-packages/ALLCools/dmr/fimo.py:60: FutureWarning: to_msgpack is deprecated and will be removed in a future version.\n",
      "It is recommended to use pyarrow for on-the-wire transmission of pandas objects.\n",
      "  final_df.to_msgpack(output_path, compress='zlib')\n"
     ]
    },
    {
     "name": "stdout",
     "output_type": "stream",
     "text": [
      "/home/hanliu/project/mouse_rostral_brain/DMR/ITSpatial_by_region/AI/MotifScan.h5adtemp/MA0091.1.meme, N motif total=47206\n"
     ]
    },
    {
     "name": "stderr",
     "output_type": "stream",
     "text": [
      "/home/hanliu/miniconda3/envs/clustering/lib/python3.7/site-packages/ALLCools/dmr/fimo.py:60: FutureWarning: to_msgpack is deprecated and will be removed in a future version.\n",
      "It is recommended to use pyarrow for on-the-wire transmission of pandas objects.\n",
      "  final_df.to_msgpack(output_path, compress='zlib')\n"
     ]
    },
    {
     "name": "stdout",
     "output_type": "stream",
     "text": [
      "/home/hanliu/project/mouse_rostral_brain/DMR/ITSpatial_by_region/AI/MotifScan.h5adtemp/MA0518.1.meme, N motif total=43969\n"
     ]
    },
    {
     "name": "stderr",
     "output_type": "stream",
     "text": [
      "/home/hanliu/miniconda3/envs/clustering/lib/python3.7/site-packages/ALLCools/dmr/fimo.py:60: FutureWarning: to_msgpack is deprecated and will be removed in a future version.\n",
      "It is recommended to use pyarrow for on-the-wire transmission of pandas objects.\n",
      "  final_df.to_msgpack(output_path, compress='zlib')\n"
     ]
    },
    {
     "name": "stdout",
     "output_type": "stream",
     "text": [
      "/home/hanliu/project/mouse_rostral_brain/DMR/ITSpatial_by_region/AI/MotifScan.h5adtemp/MA0688.1.meme, N motif total=22960\n"
     ]
    },
    {
     "name": "stderr",
     "output_type": "stream",
     "text": [
      "/home/hanliu/miniconda3/envs/clustering/lib/python3.7/site-packages/ALLCools/dmr/fimo.py:60: FutureWarning: to_msgpack is deprecated and will be removed in a future version.\n",
      "It is recommended to use pyarrow for on-the-wire transmission of pandas objects.\n",
      "  final_df.to_msgpack(output_path, compress='zlib')\n"
     ]
    },
    {
     "name": "stdout",
     "output_type": "stream",
     "text": [
      "/home/hanliu/project/mouse_rostral_brain/DMR/ITSpatial_by_region/AI/MotifScan.h5adtemp/MA1565.1.meme, N motif total=33281\n"
     ]
    },
    {
     "name": "stderr",
     "output_type": "stream",
     "text": [
      "/home/hanliu/miniconda3/envs/clustering/lib/python3.7/site-packages/ALLCools/dmr/fimo.py:60: FutureWarning: to_msgpack is deprecated and will be removed in a future version.\n",
      "It is recommended to use pyarrow for on-the-wire transmission of pandas objects.\n",
      "  final_df.to_msgpack(output_path, compress='zlib')\n"
     ]
    },
    {
     "name": "stdout",
     "output_type": "stream",
     "text": [
      "/home/hanliu/project/mouse_rostral_brain/DMR/ITSpatial_by_region/AI/MotifScan.h5adtemp/MA0520.1.meme, N motif total=39955\n"
     ]
    },
    {
     "name": "stderr",
     "output_type": "stream",
     "text": [
      "/home/hanliu/miniconda3/envs/clustering/lib/python3.7/site-packages/ALLCools/dmr/fimo.py:60: FutureWarning: to_msgpack is deprecated and will be removed in a future version.\n",
      "It is recommended to use pyarrow for on-the-wire transmission of pandas objects.\n",
      "  final_df.to_msgpack(output_path, compress='zlib')\n"
     ]
    },
    {
     "name": "stdout",
     "output_type": "stream",
     "text": [
      "/home/hanliu/project/mouse_rostral_brain/DMR/ITSpatial_by_region/AI/MotifScan.h5adtemp/MA0108.2.meme, N motif total=15600\n"
     ]
    },
    {
     "name": "stderr",
     "output_type": "stream",
     "text": [
      "/home/hanliu/miniconda3/envs/clustering/lib/python3.7/site-packages/ALLCools/dmr/fimo.py:60: FutureWarning: to_msgpack is deprecated and will be removed in a future version.\n",
      "It is recommended to use pyarrow for on-the-wire transmission of pandas objects.\n",
      "  final_df.to_msgpack(output_path, compress='zlib')\n"
     ]
    },
    {
     "name": "stdout",
     "output_type": "stream",
     "text": [
      "/home/hanliu/project/mouse_rostral_brain/DMR/ITSpatial_by_region/AI/MotifScan.h5adtemp/MA0690.1.meme, N motif total=23456\n"
     ]
    },
    {
     "name": "stderr",
     "output_type": "stream",
     "text": [
      "/home/hanliu/miniconda3/envs/clustering/lib/python3.7/site-packages/ALLCools/dmr/fimo.py:60: FutureWarning: to_msgpack is deprecated and will be removed in a future version.\n",
      "It is recommended to use pyarrow for on-the-wire transmission of pandas objects.\n",
      "  final_df.to_msgpack(output_path, compress='zlib')\n"
     ]
    },
    {
     "name": "stdout",
     "output_type": "stream",
     "text": [
      "/home/hanliu/project/mouse_rostral_brain/DMR/ITSpatial_by_region/AI/MotifScan.h5adtemp/MA0689.1.meme, N motif total=24428\n"
     ]
    },
    {
     "name": "stderr",
     "output_type": "stream",
     "text": [
      "/home/hanliu/miniconda3/envs/clustering/lib/python3.7/site-packages/ALLCools/dmr/fimo.py:60: FutureWarning: to_msgpack is deprecated and will be removed in a future version.\n",
      "It is recommended to use pyarrow for on-the-wire transmission of pandas objects.\n",
      "  final_df.to_msgpack(output_path, compress='zlib')\n"
     ]
    },
    {
     "name": "stdout",
     "output_type": "stream",
     "text": [
      "/home/hanliu/project/mouse_rostral_brain/DMR/ITSpatial_by_region/AI/MotifScan.h5adtemp/MA0806.1.meme, N motif total=20411\n"
     ]
    },
    {
     "name": "stderr",
     "output_type": "stream",
     "text": [
      "/home/hanliu/miniconda3/envs/clustering/lib/python3.7/site-packages/ALLCools/dmr/fimo.py:60: FutureWarning: to_msgpack is deprecated and will be removed in a future version.\n",
      "It is recommended to use pyarrow for on-the-wire transmission of pandas objects.\n",
      "  final_df.to_msgpack(output_path, compress='zlib')\n"
     ]
    },
    {
     "name": "stdout",
     "output_type": "stream",
     "text": [
      "/home/hanliu/project/mouse_rostral_brain/DMR/ITSpatial_by_region/AI/MotifScan.h5adtemp/MA0807.1.meme, N motif total=26175\n"
     ]
    },
    {
     "name": "stderr",
     "output_type": "stream",
     "text": [
      "/home/hanliu/miniconda3/envs/clustering/lib/python3.7/site-packages/ALLCools/dmr/fimo.py:60: FutureWarning: to_msgpack is deprecated and will be removed in a future version.\n",
      "It is recommended to use pyarrow for on-the-wire transmission of pandas objects.\n",
      "  final_df.to_msgpack(output_path, compress='zlib')\n"
     ]
    },
    {
     "name": "stdout",
     "output_type": "stream",
     "text": [
      "/home/hanliu/project/mouse_rostral_brain/DMR/ITSpatial_by_region/AI/MotifScan.h5adtemp/MA1566.1.meme, N motif total=24521\n"
     ]
    },
    {
     "name": "stderr",
     "output_type": "stream",
     "text": [
      "/home/hanliu/miniconda3/envs/clustering/lib/python3.7/site-packages/ALLCools/dmr/fimo.py:60: FutureWarning: to_msgpack is deprecated and will be removed in a future version.\n",
      "It is recommended to use pyarrow for on-the-wire transmission of pandas objects.\n",
      "  final_df.to_msgpack(output_path, compress='zlib')\n"
     ]
    },
    {
     "name": "stdout",
     "output_type": "stream",
     "text": [
      "/home/hanliu/project/mouse_rostral_brain/DMR/ITSpatial_by_region/AI/MotifScan.h5adtemp/MA1567.1.meme, N motif total=21587\n"
     ]
    },
    {
     "name": "stderr",
     "output_type": "stream",
     "text": [
      "/home/hanliu/miniconda3/envs/clustering/lib/python3.7/site-packages/ALLCools/dmr/fimo.py:60: FutureWarning: to_msgpack is deprecated and will be removed in a future version.\n",
      "It is recommended to use pyarrow for on-the-wire transmission of pandas objects.\n",
      "  final_df.to_msgpack(output_path, compress='zlib')\n"
     ]
    },
    {
     "name": "stdout",
     "output_type": "stream",
     "text": [
      "/home/hanliu/project/mouse_rostral_brain/DMR/ITSpatial_by_region/AI/MotifScan.h5adtemp/MA0804.1.meme, N motif total=17902\n"
     ]
    },
    {
     "name": "stderr",
     "output_type": "stream",
     "text": [
      "/home/hanliu/miniconda3/envs/clustering/lib/python3.7/site-packages/ALLCools/dmr/fimo.py:60: FutureWarning: to_msgpack is deprecated and will be removed in a future version.\n",
      "It is recommended to use pyarrow for on-the-wire transmission of pandas objects.\n",
      "  final_df.to_msgpack(output_path, compress='zlib')\n"
     ]
    },
    {
     "name": "stdout",
     "output_type": "stream",
     "text": [
      "/home/hanliu/project/mouse_rostral_brain/DMR/ITSpatial_by_region/AI/MotifScan.h5adtemp/MA1648.1.meme, N motif total=32043\n"
     ]
    },
    {
     "name": "stderr",
     "output_type": "stream",
     "text": [
      "/home/hanliu/miniconda3/envs/clustering/lib/python3.7/site-packages/ALLCools/dmr/fimo.py:60: FutureWarning: to_msgpack is deprecated and will be removed in a future version.\n",
      "It is recommended to use pyarrow for on-the-wire transmission of pandas objects.\n",
      "  final_df.to_msgpack(output_path, compress='zlib')\n"
     ]
    },
    {
     "name": "stdout",
     "output_type": "stream",
     "text": [
      "/home/hanliu/project/mouse_rostral_brain/DMR/ITSpatial_by_region/AI/MotifScan.h5adtemp/MA0521.1.meme, N motif total=55871\n"
     ]
    },
    {
     "name": "stderr",
     "output_type": "stream",
     "text": [
      "/home/hanliu/miniconda3/envs/clustering/lib/python3.7/site-packages/ALLCools/dmr/fimo.py:60: FutureWarning: to_msgpack is deprecated and will be removed in a future version.\n",
      "It is recommended to use pyarrow for on-the-wire transmission of pandas objects.\n",
      "  final_df.to_msgpack(output_path, compress='zlib')\n"
     ]
    },
    {
     "name": "stdout",
     "output_type": "stream",
     "text": [
      "/home/hanliu/project/mouse_rostral_brain/DMR/ITSpatial_by_region/AI/MotifScan.h5adtemp/MA1421.1.meme, N motif total=32862\n"
     ]
    },
    {
     "name": "stderr",
     "output_type": "stream",
     "text": [
      "/home/hanliu/miniconda3/envs/clustering/lib/python3.7/site-packages/ALLCools/dmr/fimo.py:60: FutureWarning: to_msgpack is deprecated and will be removed in a future version.\n",
      "It is recommended to use pyarrow for on-the-wire transmission of pandas objects.\n",
      "  final_df.to_msgpack(output_path, compress='zlib')\n"
     ]
    },
    {
     "name": "stdout",
     "output_type": "stream",
     "text": [
      "/home/hanliu/project/mouse_rostral_brain/DMR/ITSpatial_by_region/AI/MotifScan.h5adtemp/MA0769.2.meme, N motif total=28761\n"
     ]
    },
    {
     "name": "stderr",
     "output_type": "stream",
     "text": [
      "/home/hanliu/miniconda3/envs/clustering/lib/python3.7/site-packages/ALLCools/dmr/fimo.py:60: FutureWarning: to_msgpack is deprecated and will be removed in a future version.\n",
      "It is recommended to use pyarrow for on-the-wire transmission of pandas objects.\n",
      "  final_df.to_msgpack(output_path, compress='zlib')\n"
     ]
    },
    {
     "name": "stdout",
     "output_type": "stream",
     "text": [
      "/home/hanliu/project/mouse_rostral_brain/DMR/ITSpatial_by_region/AI/MotifScan.h5adtemp/MA1568.1.meme, N motif total=27510\n"
     ]
    },
    {
     "name": "stderr",
     "output_type": "stream",
     "text": [
      "/home/hanliu/miniconda3/envs/clustering/lib/python3.7/site-packages/ALLCools/dmr/fimo.py:60: FutureWarning: to_msgpack is deprecated and will be removed in a future version.\n",
      "It is recommended to use pyarrow for on-the-wire transmission of pandas objects.\n",
      "  final_df.to_msgpack(output_path, compress='zlib')\n"
     ]
    },
    {
     "name": "stdout",
     "output_type": "stream",
     "text": [
      "/home/hanliu/project/mouse_rostral_brain/DMR/ITSpatial_by_region/AI/MotifScan.h5adtemp/MA0522.3.meme, N motif total=29003\n"
     ]
    },
    {
     "name": "stderr",
     "output_type": "stream",
     "text": [
      "/home/hanliu/miniconda3/envs/clustering/lib/python3.7/site-packages/ALLCools/dmr/fimo.py:60: FutureWarning: to_msgpack is deprecated and will be removed in a future version.\n",
      "It is recommended to use pyarrow for on-the-wire transmission of pandas objects.\n",
      "  final_df.to_msgpack(output_path, compress='zlib')\n"
     ]
    },
    {
     "name": "stdout",
     "output_type": "stream",
     "text": [
      "/home/hanliu/project/mouse_rostral_brain/DMR/ITSpatial_by_region/AI/MotifScan.h5adtemp/MA0808.1.meme, N motif total=20421\n"
     ]
    },
    {
     "name": "stderr",
     "output_type": "stream",
     "text": [
      "/home/hanliu/miniconda3/envs/clustering/lib/python3.7/site-packages/ALLCools/dmr/fimo.py:60: FutureWarning: to_msgpack is deprecated and will be removed in a future version.\n",
      "It is recommended to use pyarrow for on-the-wire transmission of pandas objects.\n",
      "  final_df.to_msgpack(output_path, compress='zlib')\n"
     ]
    },
    {
     "name": "stdout",
     "output_type": "stream",
     "text": [
      "/home/hanliu/project/mouse_rostral_brain/DMR/ITSpatial_by_region/AI/MotifScan.h5adtemp/MA0832.1.meme, N motif total=29974\n"
     ]
    },
    {
     "name": "stderr",
     "output_type": "stream",
     "text": [
      "/home/hanliu/miniconda3/envs/clustering/lib/python3.7/site-packages/ALLCools/dmr/fimo.py:60: FutureWarning: to_msgpack is deprecated and will be removed in a future version.\n",
      "It is recommended to use pyarrow for on-the-wire transmission of pandas objects.\n",
      "  final_df.to_msgpack(output_path, compress='zlib')\n"
     ]
    },
    {
     "name": "stdout",
     "output_type": "stream",
     "text": [
      "/home/hanliu/project/mouse_rostral_brain/DMR/ITSpatial_by_region/AI/MotifScan.h5adtemp/MA0632.2.meme, N motif total=9916\n"
     ]
    },
    {
     "name": "stderr",
     "output_type": "stream",
     "text": [
      "/home/hanliu/miniconda3/envs/clustering/lib/python3.7/site-packages/ALLCools/dmr/fimo.py:60: FutureWarning: to_msgpack is deprecated and will be removed in a future version.\n",
      "It is recommended to use pyarrow for on-the-wire transmission of pandas objects.\n",
      "  final_df.to_msgpack(output_path, compress='zlib')\n"
     ]
    },
    {
     "name": "stdout",
     "output_type": "stream",
     "text": [
      "/home/hanliu/project/mouse_rostral_brain/DMR/ITSpatial_by_region/AI/MotifScan.h5adtemp/MA0830.2.meme, N motif total=38142\n"
     ]
    },
    {
     "name": "stderr",
     "output_type": "stream",
     "text": [
      "/home/hanliu/miniconda3/envs/clustering/lib/python3.7/site-packages/ALLCools/dmr/fimo.py:60: FutureWarning: to_msgpack is deprecated and will be removed in a future version.\n",
      "It is recommended to use pyarrow for on-the-wire transmission of pandas objects.\n",
      "  final_df.to_msgpack(output_path, compress='zlib')\n"
     ]
    },
    {
     "name": "stdout",
     "output_type": "stream",
     "text": [
      "/home/hanliu/project/mouse_rostral_brain/DMR/ITSpatial_by_region/AI/MotifScan.h5adtemp/MA0009.2.meme, N motif total=21209\n"
     ]
    },
    {
     "name": "stderr",
     "output_type": "stream",
     "text": [
      "/home/hanliu/miniconda3/envs/clustering/lib/python3.7/site-packages/ALLCools/dmr/fimo.py:60: FutureWarning: to_msgpack is deprecated and will be removed in a future version.\n",
      "It is recommended to use pyarrow for on-the-wire transmission of pandas objects.\n",
      "  final_df.to_msgpack(output_path, compress='zlib')\n"
     ]
    },
    {
     "name": "stdout",
     "output_type": "stream",
     "text": [
      "/home/hanliu/project/mouse_rostral_brain/DMR/ITSpatial_by_region/AI/MotifScan.h5adtemp/MA1121.1.meme, N motif total=26378\n"
     ]
    },
    {
     "name": "stderr",
     "output_type": "stream",
     "text": [
      "/home/hanliu/miniconda3/envs/clustering/lib/python3.7/site-packages/ALLCools/dmr/fimo.py:60: FutureWarning: to_msgpack is deprecated and will be removed in a future version.\n",
      "It is recommended to use pyarrow for on-the-wire transmission of pandas objects.\n",
      "  final_df.to_msgpack(output_path, compress='zlib')\n"
     ]
    },
    {
     "name": "stdout",
     "output_type": "stream",
     "text": [
      "/home/hanliu/project/mouse_rostral_brain/DMR/ITSpatial_by_region/AI/MotifScan.h5adtemp/MA0523.1.meme, N motif total=35400\n"
     ]
    },
    {
     "name": "stderr",
     "output_type": "stream",
     "text": [
      "/home/hanliu/miniconda3/envs/clustering/lib/python3.7/site-packages/ALLCools/dmr/fimo.py:60: FutureWarning: to_msgpack is deprecated and will be removed in a future version.\n",
      "It is recommended to use pyarrow for on-the-wire transmission of pandas objects.\n",
      "  final_df.to_msgpack(output_path, compress='zlib')\n"
     ]
    },
    {
     "name": "stdout",
     "output_type": "stream",
     "text": [
      "/home/hanliu/project/mouse_rostral_brain/DMR/ITSpatial_by_region/AI/MotifScan.h5adtemp/MA0090.3.meme, N motif total=29148\n"
     ]
    },
    {
     "name": "stderr",
     "output_type": "stream",
     "text": [
      "/home/hanliu/miniconda3/envs/clustering/lib/python3.7/site-packages/ALLCools/dmr/fimo.py:60: FutureWarning: to_msgpack is deprecated and will be removed in a future version.\n",
      "It is recommended to use pyarrow for on-the-wire transmission of pandas objects.\n",
      "  final_df.to_msgpack(output_path, compress='zlib')\n"
     ]
    },
    {
     "name": "stdout",
     "output_type": "stream",
     "text": [
      "/home/hanliu/project/mouse_rostral_brain/DMR/ITSpatial_by_region/AI/MotifScan.h5adtemp/MA0809.2.meme, N motif total=31384\n"
     ]
    },
    {
     "name": "stderr",
     "output_type": "stream",
     "text": [
      "/home/hanliu/miniconda3/envs/clustering/lib/python3.7/site-packages/ALLCools/dmr/fimo.py:60: FutureWarning: to_msgpack is deprecated and will be removed in a future version.\n",
      "It is recommended to use pyarrow for on-the-wire transmission of pandas objects.\n",
      "  final_df.to_msgpack(output_path, compress='zlib')\n"
     ]
    },
    {
     "name": "stdout",
     "output_type": "stream",
     "text": [
      "/home/hanliu/project/mouse_rostral_brain/DMR/ITSpatial_by_region/AI/MotifScan.h5adtemp/MA0843.1.meme, N motif total=10391\n"
     ]
    },
    {
     "name": "stderr",
     "output_type": "stream",
     "text": [
      "/home/hanliu/miniconda3/envs/clustering/lib/python3.7/site-packages/ALLCools/dmr/fimo.py:60: FutureWarning: to_msgpack is deprecated and will be removed in a future version.\n",
      "It is recommended to use pyarrow for on-the-wire transmission of pandas objects.\n",
      "  final_df.to_msgpack(output_path, compress='zlib')\n"
     ]
    },
    {
     "name": "stdout",
     "output_type": "stream",
     "text": [
      "/home/hanliu/project/mouse_rostral_brain/DMR/ITSpatial_by_region/AI/MotifScan.h5adtemp/MA0812.1.meme, N motif total=25273\n"
     ]
    },
    {
     "name": "stderr",
     "output_type": "stream",
     "text": [
      "/home/hanliu/miniconda3/envs/clustering/lib/python3.7/site-packages/ALLCools/dmr/fimo.py:60: FutureWarning: to_msgpack is deprecated and will be removed in a future version.\n",
      "It is recommended to use pyarrow for on-the-wire transmission of pandas objects.\n",
      "  final_df.to_msgpack(output_path, compress='zlib')\n"
     ]
    },
    {
     "name": "stdout",
     "output_type": "stream",
     "text": [
      "/home/hanliu/project/mouse_rostral_brain/DMR/ITSpatial_by_region/AI/MotifScan.h5adtemp/MA0003.4.meme, N motif total=39389\n"
     ]
    },
    {
     "name": "stderr",
     "output_type": "stream",
     "text": [
      "/home/hanliu/miniconda3/envs/clustering/lib/python3.7/site-packages/ALLCools/dmr/fimo.py:60: FutureWarning: to_msgpack is deprecated and will be removed in a future version.\n",
      "It is recommended to use pyarrow for on-the-wire transmission of pandas objects.\n",
      "  final_df.to_msgpack(output_path, compress='zlib')\n"
     ]
    },
    {
     "name": "stdout",
     "output_type": "stream",
     "text": [
      "/home/hanliu/project/mouse_rostral_brain/DMR/ITSpatial_by_region/AI/MotifScan.h5adtemp/MA0831.2.meme, N motif total=9604\n"
     ]
    },
    {
     "name": "stderr",
     "output_type": "stream",
     "text": [
      "/home/hanliu/miniconda3/envs/clustering/lib/python3.7/site-packages/ALLCools/dmr/fimo.py:60: FutureWarning: to_msgpack is deprecated and will be removed in a future version.\n",
      "It is recommended to use pyarrow for on-the-wire transmission of pandas objects.\n",
      "  final_df.to_msgpack(output_path, compress='zlib')\n"
     ]
    },
    {
     "name": "stdout",
     "output_type": "stream",
     "text": [
      "/home/hanliu/project/mouse_rostral_brain/DMR/ITSpatial_by_region/AI/MotifScan.h5adtemp/MA0872.1.meme, N motif total=25850\n"
     ]
    },
    {
     "name": "stderr",
     "output_type": "stream",
     "text": [
      "/home/hanliu/miniconda3/envs/clustering/lib/python3.7/site-packages/ALLCools/dmr/fimo.py:60: FutureWarning: to_msgpack is deprecated and will be removed in a future version.\n",
      "It is recommended to use pyarrow for on-the-wire transmission of pandas objects.\n",
      "  final_df.to_msgpack(output_path, compress='zlib')\n"
     ]
    },
    {
     "name": "stdout",
     "output_type": "stream",
     "text": [
      "/home/hanliu/project/mouse_rostral_brain/DMR/ITSpatial_by_region/AI/MotifScan.h5adtemp/MA0810.1.meme, N motif total=26792\n"
     ]
    },
    {
     "name": "stderr",
     "output_type": "stream",
     "text": [
      "/home/hanliu/miniconda3/envs/clustering/lib/python3.7/site-packages/ALLCools/dmr/fimo.py:60: FutureWarning: to_msgpack is deprecated and will be removed in a future version.\n",
      "It is recommended to use pyarrow for on-the-wire transmission of pandas objects.\n",
      "  final_df.to_msgpack(output_path, compress='zlib')\n"
     ]
    },
    {
     "name": "stdout",
     "output_type": "stream",
     "text": [
      "/home/hanliu/project/mouse_rostral_brain/DMR/ITSpatial_by_region/AI/MotifScan.h5adtemp/MA0811.1.meme, N motif total=27724\n"
     ]
    },
    {
     "name": "stderr",
     "output_type": "stream",
     "text": [
      "/home/hanliu/miniconda3/envs/clustering/lib/python3.7/site-packages/ALLCools/dmr/fimo.py:60: FutureWarning: to_msgpack is deprecated and will be removed in a future version.\n",
      "It is recommended to use pyarrow for on-the-wire transmission of pandas objects.\n",
      "  final_df.to_msgpack(output_path, compress='zlib')\n"
     ]
    },
    {
     "name": "stdout",
     "output_type": "stream",
     "text": [
      "/home/hanliu/project/mouse_rostral_brain/DMR/ITSpatial_by_region/AI/MotifScan.h5adtemp/MA0524.2.meme, N motif total=28501\n"
     ]
    },
    {
     "name": "stderr",
     "output_type": "stream",
     "text": [
      "/home/hanliu/miniconda3/envs/clustering/lib/python3.7/site-packages/ALLCools/dmr/fimo.py:60: FutureWarning: to_msgpack is deprecated and will be removed in a future version.\n",
      "It is recommended to use pyarrow for on-the-wire transmission of pandas objects.\n",
      "  final_df.to_msgpack(output_path, compress='zlib')\n"
     ]
    },
    {
     "name": "stdout",
     "output_type": "stream",
     "text": [
      "/home/hanliu/project/mouse_rostral_brain/DMR/ITSpatial_by_region/AI/MotifScan.h5adtemp/MA0691.1.meme, N motif total=46668\n"
     ]
    },
    {
     "name": "stderr",
     "output_type": "stream",
     "text": [
      "/home/hanliu/miniconda3/envs/clustering/lib/python3.7/site-packages/ALLCools/dmr/fimo.py:60: FutureWarning: to_msgpack is deprecated and will be removed in a future version.\n",
      "It is recommended to use pyarrow for on-the-wire transmission of pandas objects.\n",
      "  final_df.to_msgpack(output_path, compress='zlib')\n"
     ]
    },
    {
     "name": "stdout",
     "output_type": "stream",
     "text": [
      "/home/hanliu/project/mouse_rostral_brain/DMR/ITSpatial_by_region/AI/MotifScan.h5adtemp/MA1569.1.meme, N motif total=25684\n"
     ]
    },
    {
     "name": "stderr",
     "output_type": "stream",
     "text": [
      "/home/hanliu/miniconda3/envs/clustering/lib/python3.7/site-packages/ALLCools/dmr/fimo.py:60: FutureWarning: to_msgpack is deprecated and will be removed in a future version.\n",
      "It is recommended to use pyarrow for on-the-wire transmission of pandas objects.\n",
      "  final_df.to_msgpack(output_path, compress='zlib')\n"
     ]
    },
    {
     "name": "stdout",
     "output_type": "stream",
     "text": [
      "/home/hanliu/project/mouse_rostral_brain/DMR/ITSpatial_by_region/AI/MotifScan.h5adtemp/MA1122.1.meme, N motif total=9812\n"
     ]
    },
    {
     "name": "stderr",
     "output_type": "stream",
     "text": [
      "/home/hanliu/miniconda3/envs/clustering/lib/python3.7/site-packages/ALLCools/dmr/fimo.py:60: FutureWarning: to_msgpack is deprecated and will be removed in a future version.\n",
      "It is recommended to use pyarrow for on-the-wire transmission of pandas objects.\n",
      "  final_df.to_msgpack(output_path, compress='zlib')\n"
     ]
    },
    {
     "name": "stdout",
     "output_type": "stream",
     "text": [
      "/home/hanliu/project/mouse_rostral_brain/DMR/ITSpatial_by_region/AI/MotifScan.h5adtemp/MA0813.1.meme, N motif total=26397\n"
     ]
    },
    {
     "name": "stderr",
     "output_type": "stream",
     "text": [
      "/home/hanliu/miniconda3/envs/clustering/lib/python3.7/site-packages/ALLCools/dmr/fimo.py:60: FutureWarning: to_msgpack is deprecated and will be removed in a future version.\n",
      "It is recommended to use pyarrow for on-the-wire transmission of pandas objects.\n",
      "  final_df.to_msgpack(output_path, compress='zlib')\n"
     ]
    },
    {
     "name": "stdout",
     "output_type": "stream",
     "text": [
      "/home/hanliu/project/mouse_rostral_brain/DMR/ITSpatial_by_region/AI/MotifScan.h5adtemp/MA0145.3.meme, N motif total=9930\n"
     ]
    },
    {
     "name": "stderr",
     "output_type": "stream",
     "text": [
      "/home/hanliu/miniconda3/envs/clustering/lib/python3.7/site-packages/ALLCools/dmr/fimo.py:60: FutureWarning: to_msgpack is deprecated and will be removed in a future version.\n",
      "It is recommended to use pyarrow for on-the-wire transmission of pandas objects.\n",
      "  final_df.to_msgpack(output_path, compress='zlib')\n"
     ]
    },
    {
     "name": "stdout",
     "output_type": "stream",
     "text": [
      "/home/hanliu/project/mouse_rostral_brain/DMR/ITSpatial_by_region/AI/MotifScan.h5adtemp/MA0692.1.meme, N motif total=19778\n"
     ]
    },
    {
     "name": "stderr",
     "output_type": "stream",
     "text": [
      "/home/hanliu/miniconda3/envs/clustering/lib/python3.7/site-packages/ALLCools/dmr/fimo.py:60: FutureWarning: to_msgpack is deprecated and will be removed in a future version.\n",
      "It is recommended to use pyarrow for on-the-wire transmission of pandas objects.\n",
      "  final_df.to_msgpack(output_path, compress='zlib')\n"
     ]
    },
    {
     "name": "stdout",
     "output_type": "stream",
     "text": [
      "/home/hanliu/project/mouse_rostral_brain/DMR/ITSpatial_by_region/AI/MotifScan.h5adtemp/MA0871.2.meme, N motif total=14832\n"
     ]
    },
    {
     "name": "stderr",
     "output_type": "stream",
     "text": [
      "/home/hanliu/miniconda3/envs/clustering/lib/python3.7/site-packages/ALLCools/dmr/fimo.py:60: FutureWarning: to_msgpack is deprecated and will be removed in a future version.\n",
      "It is recommended to use pyarrow for on-the-wire transmission of pandas objects.\n",
      "  final_df.to_msgpack(output_path, compress='zlib')\n"
     ]
    },
    {
     "name": "stdout",
     "output_type": "stream",
     "text": [
      "/home/hanliu/project/mouse_rostral_brain/DMR/ITSpatial_by_region/AI/MotifScan.h5adtemp/MA1570.1.meme, N motif total=31703\n"
     ]
    },
    {
     "name": "stderr",
     "output_type": "stream",
     "text": [
      "/home/hanliu/miniconda3/envs/clustering/lib/python3.7/site-packages/ALLCools/dmr/fimo.py:60: FutureWarning: to_msgpack is deprecated and will be removed in a future version.\n",
      "It is recommended to use pyarrow for on-the-wire transmission of pandas objects.\n",
      "  final_df.to_msgpack(output_path, compress='zlib')\n"
     ]
    },
    {
     "name": "stdout",
     "output_type": "stream",
     "text": [
      "/home/hanliu/project/mouse_rostral_brain/DMR/ITSpatial_by_region/AI/MotifScan.h5adtemp/MA0815.1.meme, N motif total=25661\n"
     ]
    },
    {
     "name": "stderr",
     "output_type": "stream",
     "text": [
      "/home/hanliu/miniconda3/envs/clustering/lib/python3.7/site-packages/ALLCools/dmr/fimo.py:60: FutureWarning: to_msgpack is deprecated and will be removed in a future version.\n",
      "It is recommended to use pyarrow for on-the-wire transmission of pandas objects.\n",
      "  final_df.to_msgpack(output_path, compress='zlib')\n"
     ]
    },
    {
     "name": "stdout",
     "output_type": "stream",
     "text": [
      "/home/hanliu/project/mouse_rostral_brain/DMR/ITSpatial_by_region/AI/MotifScan.h5adtemp/MA0814.2.meme, N motif total=33838\n"
     ]
    },
    {
     "name": "stderr",
     "output_type": "stream",
     "text": [
      "/home/hanliu/miniconda3/envs/clustering/lib/python3.7/site-packages/ALLCools/dmr/fimo.py:60: FutureWarning: to_msgpack is deprecated and will be removed in a future version.\n",
      "It is recommended to use pyarrow for on-the-wire transmission of pandas objects.\n",
      "  final_df.to_msgpack(output_path, compress='zlib')\n"
     ]
    },
    {
     "name": "stdout",
     "output_type": "stream",
     "text": [
      "/home/hanliu/project/mouse_rostral_brain/DMR/ITSpatial_by_region/AI/MotifScan.h5adtemp/MA0796.1.meme, N motif total=4975\n"
     ]
    },
    {
     "name": "stderr",
     "output_type": "stream",
     "text": [
      "/home/hanliu/miniconda3/envs/clustering/lib/python3.7/site-packages/ALLCools/dmr/fimo.py:60: FutureWarning: to_msgpack is deprecated and will be removed in a future version.\n",
      "It is recommended to use pyarrow for on-the-wire transmission of pandas objects.\n",
      "  final_df.to_msgpack(output_path, compress='zlib')\n"
     ]
    },
    {
     "name": "stdout",
     "output_type": "stream",
     "text": [
      "/home/hanliu/project/mouse_rostral_brain/DMR/ITSpatial_by_region/AI/MotifScan.h5adtemp/MA1571.1.meme, N motif total=29806\n"
     ]
    },
    {
     "name": "stderr",
     "output_type": "stream",
     "text": [
      "/home/hanliu/miniconda3/envs/clustering/lib/python3.7/site-packages/ALLCools/dmr/fimo.py:60: FutureWarning: to_msgpack is deprecated and will be removed in a future version.\n",
      "It is recommended to use pyarrow for on-the-wire transmission of pandas objects.\n",
      "  final_df.to_msgpack(output_path, compress='zlib')\n"
     ]
    },
    {
     "name": "stdout",
     "output_type": "stream",
     "text": [
      "/home/hanliu/project/mouse_rostral_brain/DMR/ITSpatial_by_region/AI/MotifScan.h5adtemp/MA0597.1.meme, N motif total=28123\n"
     ]
    },
    {
     "name": "stderr",
     "output_type": "stream",
     "text": [
      "/home/hanliu/miniconda3/envs/clustering/lib/python3.7/site-packages/ALLCools/dmr/fimo.py:60: FutureWarning: to_msgpack is deprecated and will be removed in a future version.\n",
      "It is recommended to use pyarrow for on-the-wire transmission of pandas objects.\n",
      "  final_df.to_msgpack(output_path, compress='zlib')\n"
     ]
    },
    {
     "name": "stdout",
     "output_type": "stream",
     "text": [
      "/home/hanliu/project/mouse_rostral_brain/DMR/ITSpatial_by_region/AI/MotifScan.h5adtemp/MA0797.1.meme, N motif total=33084\n"
     ]
    },
    {
     "name": "stderr",
     "output_type": "stream",
     "text": [
      "/home/hanliu/miniconda3/envs/clustering/lib/python3.7/site-packages/ALLCools/dmr/fimo.py:60: FutureWarning: to_msgpack is deprecated and will be removed in a future version.\n",
      "It is recommended to use pyarrow for on-the-wire transmission of pandas objects.\n",
      "  final_df.to_msgpack(output_path, compress='zlib')\n"
     ]
    },
    {
     "name": "stdout",
     "output_type": "stream",
     "text": [
      "/home/hanliu/project/mouse_rostral_brain/DMR/ITSpatial_by_region/AI/MotifScan.h5adtemp/MA1574.1.meme, N motif total=23236\n"
     ]
    },
    {
     "name": "stderr",
     "output_type": "stream",
     "text": [
      "/home/hanliu/miniconda3/envs/clustering/lib/python3.7/site-packages/ALLCools/dmr/fimo.py:60: FutureWarning: to_msgpack is deprecated and will be removed in a future version.\n",
      "It is recommended to use pyarrow for on-the-wire transmission of pandas objects.\n",
      "  final_df.to_msgpack(output_path, compress='zlib')\n"
     ]
    },
    {
     "name": "stdout",
     "output_type": "stream",
     "text": [
      "/home/hanliu/project/mouse_rostral_brain/DMR/ITSpatial_by_region/AI/MotifScan.h5adtemp/MA1577.1.meme, N motif total=9136\n"
     ]
    },
    {
     "name": "stderr",
     "output_type": "stream",
     "text": [
      "/home/hanliu/miniconda3/envs/clustering/lib/python3.7/site-packages/ALLCools/dmr/fimo.py:60: FutureWarning: to_msgpack is deprecated and will be removed in a future version.\n",
      "It is recommended to use pyarrow for on-the-wire transmission of pandas objects.\n",
      "  final_df.to_msgpack(output_path, compress='zlib')\n"
     ]
    },
    {
     "name": "stdout",
     "output_type": "stream",
     "text": [
      "/home/hanliu/project/mouse_rostral_brain/DMR/ITSpatial_by_region/AI/MotifScan.h5adtemp/MA1573.1.meme, N motif total=14029\n"
     ]
    },
    {
     "name": "stderr",
     "output_type": "stream",
     "text": [
      "/home/hanliu/miniconda3/envs/clustering/lib/python3.7/site-packages/ALLCools/dmr/fimo.py:60: FutureWarning: to_msgpack is deprecated and will be removed in a future version.\n",
      "It is recommended to use pyarrow for on-the-wire transmission of pandas objects.\n",
      "  final_df.to_msgpack(output_path, compress='zlib')\n"
     ]
    },
    {
     "name": "stdout",
     "output_type": "stream",
     "text": [
      "/home/hanliu/project/mouse_rostral_brain/DMR/ITSpatial_by_region/AI/MotifScan.h5adtemp/MA0721.1.meme, N motif total=13158\n"
     ]
    },
    {
     "name": "stderr",
     "output_type": "stream",
     "text": [
      "/home/hanliu/miniconda3/envs/clustering/lib/python3.7/site-packages/ALLCools/dmr/fimo.py:60: FutureWarning: to_msgpack is deprecated and will be removed in a future version.\n",
      "It is recommended to use pyarrow for on-the-wire transmission of pandas objects.\n",
      "  final_df.to_msgpack(output_path, compress='zlib')\n"
     ]
    },
    {
     "name": "stdout",
     "output_type": "stream",
     "text": [
      "/home/hanliu/project/mouse_rostral_brain/DMR/ITSpatial_by_region/AI/MotifScan.h5adtemp/MA0633.1.meme, N motif total=33556\n"
     ]
    },
    {
     "name": "stderr",
     "output_type": "stream",
     "text": [
      "/home/hanliu/miniconda3/envs/clustering/lib/python3.7/site-packages/ALLCools/dmr/fimo.py:60: FutureWarning: to_msgpack is deprecated and will be removed in a future version.\n",
      "It is recommended to use pyarrow for on-the-wire transmission of pandas objects.\n",
      "  final_df.to_msgpack(output_path, compress='zlib')\n"
     ]
    },
    {
     "name": "stdout",
     "output_type": "stream",
     "text": [
      "/home/hanliu/project/mouse_rostral_brain/DMR/ITSpatial_by_region/AI/MotifScan.h5adtemp/MA0723.1.meme, N motif total=11776\n"
     ]
    },
    {
     "name": "stderr",
     "output_type": "stream",
     "text": [
      "/home/hanliu/miniconda3/envs/clustering/lib/python3.7/site-packages/ALLCools/dmr/fimo.py:60: FutureWarning: to_msgpack is deprecated and will be removed in a future version.\n",
      "It is recommended to use pyarrow for on-the-wire transmission of pandas objects.\n",
      "  final_df.to_msgpack(output_path, compress='zlib')\n"
     ]
    },
    {
     "name": "stdout",
     "output_type": "stream",
     "text": [
      "/home/hanliu/project/mouse_rostral_brain/DMR/ITSpatial_by_region/AI/MotifScan.h5adtemp/MA0722.1.meme, N motif total=13633\n"
     ]
    },
    {
     "name": "stderr",
     "output_type": "stream",
     "text": [
      "/home/hanliu/miniconda3/envs/clustering/lib/python3.7/site-packages/ALLCools/dmr/fimo.py:60: FutureWarning: to_msgpack is deprecated and will be removed in a future version.\n",
      "It is recommended to use pyarrow for on-the-wire transmission of pandas objects.\n",
      "  final_df.to_msgpack(output_path, compress='zlib')\n"
     ]
    },
    {
     "name": "stdout",
     "output_type": "stream",
     "text": [
      "/home/hanliu/project/mouse_rostral_brain/DMR/ITSpatial_by_region/AI/MotifScan.h5adtemp/MA0725.1.meme, N motif total=14506\n"
     ]
    },
    {
     "name": "stderr",
     "output_type": "stream",
     "text": [
      "/home/hanliu/miniconda3/envs/clustering/lib/python3.7/site-packages/ALLCools/dmr/fimo.py:60: FutureWarning: to_msgpack is deprecated and will be removed in a future version.\n",
      "It is recommended to use pyarrow for on-the-wire transmission of pandas objects.\n",
      "  final_df.to_msgpack(output_path, compress='zlib')\n"
     ]
    },
    {
     "name": "stdout",
     "output_type": "stream",
     "text": [
      "/home/hanliu/project/mouse_rostral_brain/DMR/ITSpatial_by_region/AI/MotifScan.h5adtemp/MA0693.2.meme, N motif total=23218\n"
     ]
    },
    {
     "name": "stderr",
     "output_type": "stream",
     "text": [
      "/home/hanliu/miniconda3/envs/clustering/lib/python3.7/site-packages/ALLCools/dmr/fimo.py:60: FutureWarning: to_msgpack is deprecated and will be removed in a future version.\n",
      "It is recommended to use pyarrow for on-the-wire transmission of pandas objects.\n",
      "  final_df.to_msgpack(output_path, compress='zlib')\n"
     ]
    },
    {
     "name": "stdout",
     "output_type": "stream",
     "text": [
      "/home/hanliu/project/mouse_rostral_brain/DMR/ITSpatial_by_region/AI/MotifScan.h5adtemp/MA1575.1.meme, N motif total=20562\n"
     ]
    },
    {
     "name": "stderr",
     "output_type": "stream",
     "text": [
      "/home/hanliu/miniconda3/envs/clustering/lib/python3.7/site-packages/ALLCools/dmr/fimo.py:60: FutureWarning: to_msgpack is deprecated and will be removed in a future version.\n",
      "It is recommended to use pyarrow for on-the-wire transmission of pandas objects.\n",
      "  final_df.to_msgpack(output_path, compress='zlib')\n"
     ]
    },
    {
     "name": "stdout",
     "output_type": "stream",
     "text": [
      "/home/hanliu/project/mouse_rostral_brain/DMR/ITSpatial_by_region/AI/MotifScan.h5adtemp/MA0726.1.meme, N motif total=14506\n"
     ]
    },
    {
     "name": "stderr",
     "output_type": "stream",
     "text": [
      "/home/hanliu/miniconda3/envs/clustering/lib/python3.7/site-packages/ALLCools/dmr/fimo.py:60: FutureWarning: to_msgpack is deprecated and will be removed in a future version.\n",
      "It is recommended to use pyarrow for on-the-wire transmission of pandas objects.\n",
      "  final_df.to_msgpack(output_path, compress='zlib')\n"
     ]
    },
    {
     "name": "stdout",
     "output_type": "stream",
     "text": [
      "/home/hanliu/project/mouse_rostral_brain/DMR/ITSpatial_by_region/AI/MotifScan.h5adtemp/MA1123.2.meme, N motif total=45805\n"
     ]
    },
    {
     "name": "stderr",
     "output_type": "stream",
     "text": [
      "/home/hanliu/miniconda3/envs/clustering/lib/python3.7/site-packages/ALLCools/dmr/fimo.py:60: FutureWarning: to_msgpack is deprecated and will be removed in a future version.\n",
      "It is recommended to use pyarrow for on-the-wire transmission of pandas objects.\n",
      "  final_df.to_msgpack(output_path, compress='zlib')\n"
     ]
    },
    {
     "name": "stdout",
     "output_type": "stream",
     "text": [
      "/home/hanliu/project/mouse_rostral_brain/DMR/ITSpatial_by_region/AI/MotifScan.h5adtemp/MA1578.1.meme, N motif total=47951\n"
     ]
    },
    {
     "name": "stderr",
     "output_type": "stream",
     "text": [
      "/home/hanliu/miniconda3/envs/clustering/lib/python3.7/site-packages/ALLCools/dmr/fimo.py:60: FutureWarning: to_msgpack is deprecated and will be removed in a future version.\n",
      "It is recommended to use pyarrow for on-the-wire transmission of pandas objects.\n",
      "  final_df.to_msgpack(output_path, compress='zlib')\n"
     ]
    },
    {
     "name": "stdout",
     "output_type": "stream",
     "text": [
      "/home/hanliu/project/mouse_rostral_brain/DMR/ITSpatial_by_region/AI/MotifScan.h5adtemp/MA0526.3.meme, N motif total=25132\n"
     ]
    },
    {
     "name": "stderr",
     "output_type": "stream",
     "text": [
      "/home/hanliu/miniconda3/envs/clustering/lib/python3.7/site-packages/ALLCools/dmr/fimo.py:60: FutureWarning: to_msgpack is deprecated and will be removed in a future version.\n",
      "It is recommended to use pyarrow for on-the-wire transmission of pandas objects.\n",
      "  final_df.to_msgpack(output_path, compress='zlib')\n"
     ]
    },
    {
     "name": "stdout",
     "output_type": "stream",
     "text": [
      "/home/hanliu/project/mouse_rostral_brain/DMR/ITSpatial_by_region/AI/MotifScan.h5adtemp/MA0525.2.meme, N motif total=1675\n"
     ]
    },
    {
     "name": "stderr",
     "output_type": "stream",
     "text": [
      "/home/hanliu/miniconda3/envs/clustering/lib/python3.7/site-packages/ALLCools/dmr/fimo.py:60: FutureWarning: to_msgpack is deprecated and will be removed in a future version.\n",
      "It is recommended to use pyarrow for on-the-wire transmission of pandas objects.\n",
      "  final_df.to_msgpack(output_path, compress='zlib')\n"
     ]
    },
    {
     "name": "stdout",
     "output_type": "stream",
     "text": [
      "/home/hanliu/project/mouse_rostral_brain/DMR/ITSpatial_by_region/AI/MotifScan.h5adtemp/MA0093.3.meme, N motif total=25753\n"
     ]
    },
    {
     "name": "stderr",
     "output_type": "stream",
     "text": [
      "/home/hanliu/miniconda3/envs/clustering/lib/python3.7/site-packages/ALLCools/dmr/fimo.py:60: FutureWarning: to_msgpack is deprecated and will be removed in a future version.\n",
      "It is recommended to use pyarrow for on-the-wire transmission of pandas objects.\n",
      "  final_df.to_msgpack(output_path, compress='zlib')\n"
     ]
    },
    {
     "name": "stdout",
     "output_type": "stream",
     "text": [
      "/home/hanliu/project/mouse_rostral_brain/DMR/ITSpatial_by_region/AI/MotifScan.h5adtemp/MA0861.1.meme, N motif total=19929\n"
     ]
    },
    {
     "name": "stderr",
     "output_type": "stream",
     "text": [
      "/home/hanliu/miniconda3/envs/clustering/lib/python3.7/site-packages/ALLCools/dmr/fimo.py:60: FutureWarning: to_msgpack is deprecated and will be removed in a future version.\n",
      "It is recommended to use pyarrow for on-the-wire transmission of pandas objects.\n",
      "  final_df.to_msgpack(output_path, compress='zlib')\n"
     ]
    },
    {
     "name": "stdout",
     "output_type": "stream",
     "text": [
      "/home/hanliu/project/mouse_rostral_brain/DMR/ITSpatial_by_region/AI/MotifScan.h5adtemp/MA0106.3.meme, N motif total=19259\n"
     ]
    },
    {
     "name": "stderr",
     "output_type": "stream",
     "text": [
      "/home/hanliu/miniconda3/envs/clustering/lib/python3.7/site-packages/ALLCools/dmr/fimo.py:60: FutureWarning: to_msgpack is deprecated and will be removed in a future version.\n",
      "It is recommended to use pyarrow for on-the-wire transmission of pandas objects.\n",
      "  final_df.to_msgpack(output_path, compress='zlib')\n"
     ]
    },
    {
     "name": "stdout",
     "output_type": "stream",
     "text": [
      "/home/hanliu/project/mouse_rostral_brain/DMR/ITSpatial_by_region/AI/MotifScan.h5adtemp/MA1576.1.meme, N motif total=13630\n"
     ]
    },
    {
     "name": "stderr",
     "output_type": "stream",
     "text": [
      "/home/hanliu/miniconda3/envs/clustering/lib/python3.7/site-packages/ALLCools/dmr/fimo.py:60: FutureWarning: to_msgpack is deprecated and will be removed in a future version.\n",
      "It is recommended to use pyarrow for on-the-wire transmission of pandas objects.\n",
      "  final_df.to_msgpack(output_path, compress='zlib')\n"
     ]
    },
    {
     "name": "stdout",
     "output_type": "stream",
     "text": [
      "/home/hanliu/project/mouse_rostral_brain/DMR/ITSpatial_by_region/AI/MotifScan.h5adtemp/MA0748.2.meme, N motif total=7208\n"
     ]
    },
    {
     "name": "stderr",
     "output_type": "stream",
     "text": [
      "/home/hanliu/miniconda3/envs/clustering/lib/python3.7/site-packages/ALLCools/dmr/fimo.py:60: FutureWarning: to_msgpack is deprecated and will be removed in a future version.\n",
      "It is recommended to use pyarrow for on-the-wire transmission of pandas objects.\n",
      "  final_df.to_msgpack(output_path, compress='zlib')\n"
     ]
    },
    {
     "name": "stdout",
     "output_type": "stream",
     "text": [
      "/home/hanliu/project/mouse_rostral_brain/DMR/ITSpatial_by_region/AI/MotifScan.h5adtemp/MA1580.1.meme, N motif total=18558\n"
     ]
    },
    {
     "name": "stderr",
     "output_type": "stream",
     "text": [
      "/home/hanliu/miniconda3/envs/clustering/lib/python3.7/site-packages/ALLCools/dmr/fimo.py:60: FutureWarning: to_msgpack is deprecated and will be removed in a future version.\n",
      "It is recommended to use pyarrow for on-the-wire transmission of pandas objects.\n",
      "  final_df.to_msgpack(output_path, compress='zlib')\n"
     ]
    },
    {
     "name": "stdout",
     "output_type": "stream",
     "text": [
      "/home/hanliu/project/mouse_rostral_brain/DMR/ITSpatial_by_region/AI/MotifScan.h5adtemp/MA1650.1.meme, N motif total=10241\n"
     ]
    },
    {
     "name": "stderr",
     "output_type": "stream",
     "text": [
      "/home/hanliu/miniconda3/envs/clustering/lib/python3.7/site-packages/ALLCools/dmr/fimo.py:60: FutureWarning: to_msgpack is deprecated and will be removed in a future version.\n",
      "It is recommended to use pyarrow for on-the-wire transmission of pandas objects.\n",
      "  final_df.to_msgpack(output_path, compress='zlib')\n"
     ]
    },
    {
     "name": "stdout",
     "output_type": "stream",
     "text": [
      "/home/hanliu/project/mouse_rostral_brain/DMR/ITSpatial_by_region/AI/MotifScan.h5adtemp/MA1649.1.meme, N motif total=31071\n"
     ]
    },
    {
     "name": "stderr",
     "output_type": "stream",
     "text": [
      "/home/hanliu/miniconda3/envs/clustering/lib/python3.7/site-packages/ALLCools/dmr/fimo.py:60: FutureWarning: to_msgpack is deprecated and will be removed in a future version.\n",
      "It is recommended to use pyarrow for on-the-wire transmission of pandas objects.\n",
      "  final_df.to_msgpack(output_path, compress='zlib')\n"
     ]
    },
    {
     "name": "stdout",
     "output_type": "stream",
     "text": [
      "/home/hanliu/project/mouse_rostral_brain/DMR/ITSpatial_by_region/AI/MotifScan.h5adtemp/MA0095.2.meme, N motif total=29312\n"
     ]
    },
    {
     "name": "stderr",
     "output_type": "stream",
     "text": [
      "/home/hanliu/miniconda3/envs/clustering/lib/python3.7/site-packages/ALLCools/dmr/fimo.py:60: FutureWarning: to_msgpack is deprecated and will be removed in a future version.\n",
      "It is recommended to use pyarrow for on-the-wire transmission of pandas objects.\n",
      "  final_df.to_msgpack(output_path, compress='zlib')\n"
     ]
    },
    {
     "name": "stdout",
     "output_type": "stream",
     "text": [
      "/home/hanliu/project/mouse_rostral_brain/DMR/ITSpatial_by_region/AI/MotifScan.h5adtemp/MA0844.1.meme, N motif total=5993\n"
     ]
    },
    {
     "name": "stderr",
     "output_type": "stream",
     "text": [
      "/home/hanliu/miniconda3/envs/clustering/lib/python3.7/site-packages/ALLCools/dmr/fimo.py:60: FutureWarning: to_msgpack is deprecated and will be removed in a future version.\n",
      "It is recommended to use pyarrow for on-the-wire transmission of pandas objects.\n",
      "  final_df.to_msgpack(output_path, compress='zlib')\n"
     ]
    },
    {
     "name": "stdout",
     "output_type": "stream",
     "text": [
      "/home/hanliu/project/mouse_rostral_brain/DMR/ITSpatial_by_region/AI/MotifScan.h5adtemp/MA1627.1.meme, N motif total=90698\n"
     ]
    },
    {
     "name": "stderr",
     "output_type": "stream",
     "text": [
      "/home/hanliu/miniconda3/envs/clustering/lib/python3.7/site-packages/ALLCools/dmr/fimo.py:60: FutureWarning: to_msgpack is deprecated and will be removed in a future version.\n",
      "It is recommended to use pyarrow for on-the-wire transmission of pandas objects.\n",
      "  final_df.to_msgpack(output_path, compress='zlib')\n"
     ]
    },
    {
     "name": "stdout",
     "output_type": "stream",
     "text": [
      "/home/hanliu/project/mouse_rostral_brain/DMR/ITSpatial_by_region/AI/MotifScan.h5adtemp/MA0695.1.meme, N motif total=19854\n"
     ]
    },
    {
     "name": "stderr",
     "output_type": "stream",
     "text": [
      "/home/hanliu/miniconda3/envs/clustering/lib/python3.7/site-packages/ALLCools/dmr/fimo.py:60: FutureWarning: to_msgpack is deprecated and will be removed in a future version.\n",
      "It is recommended to use pyarrow for on-the-wire transmission of pandas objects.\n",
      "  final_df.to_msgpack(output_path, compress='zlib')\n"
     ]
    },
    {
     "name": "stdout",
     "output_type": "stream",
     "text": [
      "/home/hanliu/project/mouse_rostral_brain/DMR/ITSpatial_by_region/AI/MotifScan.h5adtemp/MA0698.1.meme, N motif total=43084\n"
     ]
    },
    {
     "name": "stderr",
     "output_type": "stream",
     "text": [
      "/home/hanliu/miniconda3/envs/clustering/lib/python3.7/site-packages/ALLCools/dmr/fimo.py:60: FutureWarning: to_msgpack is deprecated and will be removed in a future version.\n",
      "It is recommended to use pyarrow for on-the-wire transmission of pandas objects.\n",
      "  final_df.to_msgpack(output_path, compress='zlib')\n"
     ]
    },
    {
     "name": "stdout",
     "output_type": "stream",
     "text": [
      "/home/hanliu/project/mouse_rostral_brain/DMR/ITSpatial_by_region/AI/MotifScan.h5adtemp/MA0694.1.meme, N motif total=16557\n"
     ]
    },
    {
     "name": "stderr",
     "output_type": "stream",
     "text": [
      "/home/hanliu/miniconda3/envs/clustering/lib/python3.7/site-packages/ALLCools/dmr/fimo.py:60: FutureWarning: to_msgpack is deprecated and will be removed in a future version.\n",
      "It is recommended to use pyarrow for on-the-wire transmission of pandas objects.\n",
      "  final_df.to_msgpack(output_path, compress='zlib')\n"
     ]
    },
    {
     "name": "stdout",
     "output_type": "stream",
     "text": [
      "/home/hanliu/project/mouse_rostral_brain/DMR/ITSpatial_by_region/AI/MotifScan.h5adtemp/MA0103.3.meme, N motif total=36535\n"
     ]
    },
    {
     "name": "stderr",
     "output_type": "stream",
     "text": [
      "/home/hanliu/miniconda3/envs/clustering/lib/python3.7/site-packages/ALLCools/dmr/fimo.py:60: FutureWarning: to_msgpack is deprecated and will be removed in a future version.\n",
      "It is recommended to use pyarrow for on-the-wire transmission of pandas objects.\n",
      "  final_df.to_msgpack(output_path, compress='zlib')\n"
     ]
    },
    {
     "name": "stdout",
     "output_type": "stream",
     "text": [
      "/home/hanliu/project/mouse_rostral_brain/DMR/ITSpatial_by_region/AI/MotifScan.h5adtemp/MA0527.1.meme, N motif total=3193\n"
     ]
    },
    {
     "name": "stderr",
     "output_type": "stream",
     "text": [
      "/home/hanliu/miniconda3/envs/clustering/lib/python3.7/site-packages/ALLCools/dmr/fimo.py:60: FutureWarning: to_msgpack is deprecated and will be removed in a future version.\n",
      "It is recommended to use pyarrow for on-the-wire transmission of pandas objects.\n",
      "  final_df.to_msgpack(output_path, compress='zlib')\n"
     ]
    },
    {
     "name": "stdout",
     "output_type": "stream",
     "text": [
      "/home/hanliu/project/mouse_rostral_brain/DMR/ITSpatial_by_region/AI/MotifScan.h5adtemp/MA1581.1.meme, N motif total=31921\n"
     ]
    },
    {
     "name": "stderr",
     "output_type": "stream",
     "text": [
      "/home/hanliu/miniconda3/envs/clustering/lib/python3.7/site-packages/ALLCools/dmr/fimo.py:60: FutureWarning: to_msgpack is deprecated and will be removed in a future version.\n",
      "It is recommended to use pyarrow for on-the-wire transmission of pandas objects.\n",
      "  final_df.to_msgpack(output_path, compress='zlib')\n"
     ]
    },
    {
     "name": "stdout",
     "output_type": "stream",
     "text": [
      "/home/hanliu/project/mouse_rostral_brain/DMR/ITSpatial_by_region/AI/MotifScan.h5adtemp/MA0750.2.meme, N motif total=22396\n"
     ]
    },
    {
     "name": "stderr",
     "output_type": "stream",
     "text": [
      "/home/hanliu/miniconda3/envs/clustering/lib/python3.7/site-packages/ALLCools/dmr/fimo.py:60: FutureWarning: to_msgpack is deprecated and will be removed in a future version.\n",
      "It is recommended to use pyarrow for on-the-wire transmission of pandas objects.\n",
      "  final_df.to_msgpack(output_path, compress='zlib')\n"
     ]
    },
    {
     "name": "stdout",
     "output_type": "stream",
     "text": [
      "/home/hanliu/project/mouse_rostral_brain/DMR/ITSpatial_by_region/AI/MotifScan.h5adtemp/MA1579.1.meme, N motif total=44467\n"
     ]
    },
    {
     "name": "stderr",
     "output_type": "stream",
     "text": [
      "/home/hanliu/miniconda3/envs/clustering/lib/python3.7/site-packages/ALLCools/dmr/fimo.py:60: FutureWarning: to_msgpack is deprecated and will be removed in a future version.\n",
      "It is recommended to use pyarrow for on-the-wire transmission of pandas objects.\n",
      "  final_df.to_msgpack(output_path, compress='zlib')\n"
     ]
    },
    {
     "name": "stdout",
     "output_type": "stream",
     "text": [
      "/home/hanliu/project/mouse_rostral_brain/DMR/ITSpatial_by_region/AI/MotifScan.h5adtemp/MA1583.1.meme, N motif total=4936\n"
     ]
    },
    {
     "name": "stderr",
     "output_type": "stream",
     "text": [
      "/home/hanliu/miniconda3/envs/clustering/lib/python3.7/site-packages/ALLCools/dmr/fimo.py:60: FutureWarning: to_msgpack is deprecated and will be removed in a future version.\n",
      "It is recommended to use pyarrow for on-the-wire transmission of pandas objects.\n",
      "  final_df.to_msgpack(output_path, compress='zlib')\n"
     ]
    },
    {
     "name": "stdout",
     "output_type": "stream",
     "text": [
      "/home/hanliu/project/mouse_rostral_brain/DMR/ITSpatial_by_region/AI/MotifScan.h5adtemp/MA0146.2.meme, N motif total=31772\n"
     ]
    },
    {
     "name": "stderr",
     "output_type": "stream",
     "text": [
      "/home/hanliu/miniconda3/envs/clustering/lib/python3.7/site-packages/ALLCools/dmr/fimo.py:60: FutureWarning: to_msgpack is deprecated and will be removed in a future version.\n",
      "It is recommended to use pyarrow for on-the-wire transmission of pandas objects.\n",
      "  final_df.to_msgpack(output_path, compress='zlib')\n"
     ]
    },
    {
     "name": "stdout",
     "output_type": "stream",
     "text": [
      "/home/hanliu/project/mouse_rostral_brain/DMR/ITSpatial_by_region/AI/MotifScan.h5adtemp/MA1628.1.meme, N motif total=36283\n"
     ]
    },
    {
     "name": "stderr",
     "output_type": "stream",
     "text": [
      "/home/hanliu/miniconda3/envs/clustering/lib/python3.7/site-packages/ALLCools/dmr/fimo.py:60: FutureWarning: to_msgpack is deprecated and will be removed in a future version.\n",
      "It is recommended to use pyarrow for on-the-wire transmission of pandas objects.\n",
      "  final_df.to_msgpack(output_path, compress='zlib')\n"
     ]
    },
    {
     "name": "stdout",
     "output_type": "stream",
     "text": [
      "/home/hanliu/project/mouse_rostral_brain/DMR/ITSpatial_by_region/AI/MotifScan.h5adtemp/MA1629.1.meme, N motif total=55992\n"
     ]
    },
    {
     "name": "stderr",
     "output_type": "stream",
     "text": [
      "/home/hanliu/miniconda3/envs/clustering/lib/python3.7/site-packages/ALLCools/dmr/fimo.py:60: FutureWarning: to_msgpack is deprecated and will be removed in a future version.\n",
      "It is recommended to use pyarrow for on-the-wire transmission of pandas objects.\n",
      "  final_df.to_msgpack(output_path, compress='zlib')\n"
     ]
    },
    {
     "name": "stdout",
     "output_type": "stream",
     "text": [
      "/home/hanliu/project/mouse_rostral_brain/DMR/ITSpatial_by_region/AI/MotifScan.h5adtemp/MA0696.1.meme, N motif total=17595\n"
     ]
    },
    {
     "name": "stderr",
     "output_type": "stream",
     "text": [
      "/home/hanliu/miniconda3/envs/clustering/lib/python3.7/site-packages/ALLCools/dmr/fimo.py:60: FutureWarning: to_msgpack is deprecated and will be removed in a future version.\n",
      "It is recommended to use pyarrow for on-the-wire transmission of pandas objects.\n",
      "  final_df.to_msgpack(output_path, compress='zlib')\n"
     ]
    },
    {
     "name": "stdout",
     "output_type": "stream",
     "text": [
      "/home/hanliu/project/mouse_rostral_brain/DMR/ITSpatial_by_region/AI/MotifScan.h5adtemp/MA1651.1.meme, N motif total=30151\n"
     ]
    },
    {
     "name": "stderr",
     "output_type": "stream",
     "text": [
      "/home/hanliu/miniconda3/envs/clustering/lib/python3.7/site-packages/ALLCools/dmr/fimo.py:60: FutureWarning: to_msgpack is deprecated and will be removed in a future version.\n",
      "It is recommended to use pyarrow for on-the-wire transmission of pandas objects.\n",
      "  final_df.to_msgpack(output_path, compress='zlib')\n"
     ]
    },
    {
     "name": "stdout",
     "output_type": "stream",
     "text": [
      "/home/hanliu/project/mouse_rostral_brain/DMR/ITSpatial_by_region/AI/MotifScan.h5adtemp/MA1585.1.meme, N motif total=14428\n"
     ]
    },
    {
     "name": "stderr",
     "output_type": "stream",
     "text": [
      "/home/hanliu/miniconda3/envs/clustering/lib/python3.7/site-packages/ALLCools/dmr/fimo.py:60: FutureWarning: to_msgpack is deprecated and will be removed in a future version.\n",
      "It is recommended to use pyarrow for on-the-wire transmission of pandas objects.\n",
      "  final_df.to_msgpack(output_path, compress='zlib')\n"
     ]
    },
    {
     "name": "stdout",
     "output_type": "stream",
     "text": [
      "/home/hanliu/project/mouse_rostral_brain/DMR/ITSpatial_by_region/AI/MotifScan.h5adtemp/MA0751.1.meme, N motif total=21033\n"
     ]
    },
    {
     "name": "stderr",
     "output_type": "stream",
     "text": [
      "/home/hanliu/miniconda3/envs/clustering/lib/python3.7/site-packages/ALLCools/dmr/fimo.py:60: FutureWarning: to_msgpack is deprecated and will be removed in a future version.\n",
      "It is recommended to use pyarrow for on-the-wire transmission of pandas objects.\n",
      "  final_df.to_msgpack(output_path, compress='zlib')\n"
     ]
    },
    {
     "name": "stdout",
     "output_type": "stream",
     "text": [
      "/home/hanliu/project/mouse_rostral_brain/DMR/ITSpatial_by_region/AI/MotifScan.h5adtemp/MA0697.1.meme, N motif total=22710\n"
     ]
    },
    {
     "name": "stderr",
     "output_type": "stream",
     "text": [
      "/home/hanliu/miniconda3/envs/clustering/lib/python3.7/site-packages/ALLCools/dmr/fimo.py:60: FutureWarning: to_msgpack is deprecated and will be removed in a future version.\n",
      "It is recommended to use pyarrow for on-the-wire transmission of pandas objects.\n",
      "  final_df.to_msgpack(output_path, compress='zlib')\n"
     ]
    },
    {
     "name": "stdout",
     "output_type": "stream",
     "text": [
      "Finish count 700 motifs.\n"
     ]
    },
    {
     "name": "stdout",
     "output_type": "stream",
     "text": [
      "Motif MA0130.1 ZNF354C do not have any match under current settings.\n"
     ]
    },
    {
     "name": "stdout",
     "output_type": "stream",
     "text": [
      "/home/hanliu/project/mouse_rostral_brain/DMR/ITSpatial_by_region/AI/MotifScan.h5adtemp/MA1584.1.meme, N motif total=12506\n"
     ]
    },
    {
     "name": "stderr",
     "output_type": "stream",
     "text": [
      "/home/hanliu/miniconda3/envs/clustering/lib/python3.7/site-packages/ALLCools/dmr/fimo.py:60: FutureWarning: to_msgpack is deprecated and will be removed in a future version.\n",
      "It is recommended to use pyarrow for on-the-wire transmission of pandas objects.\n",
      "  final_df.to_msgpack(output_path, compress='zlib')\n"
     ]
    },
    {
     "name": "stdout",
     "output_type": "stream",
     "text": [
      "/home/hanliu/project/mouse_rostral_brain/DMR/ITSpatial_by_region/AI/MotifScan.h5adtemp/MA1124.1.meme, N motif total=36532\n"
     ]
    },
    {
     "name": "stderr",
     "output_type": "stream",
     "text": [
      "/home/hanliu/miniconda3/envs/clustering/lib/python3.7/site-packages/ALLCools/dmr/fimo.py:60: FutureWarning: to_msgpack is deprecated and will be removed in a future version.\n",
      "It is recommended to use pyarrow for on-the-wire transmission of pandas objects.\n",
      "  final_df.to_msgpack(output_path, compress='zlib')\n"
     ]
    },
    {
     "name": "stdout",
     "output_type": "stream",
     "text": [
      "/home/hanliu/project/mouse_rostral_brain/DMR/ITSpatial_by_region/AI/MotifScan.h5adtemp/MA1630.1.meme, N motif total=50346\n"
     ]
    },
    {
     "name": "stderr",
     "output_type": "stream",
     "text": [
      "/home/hanliu/miniconda3/envs/clustering/lib/python3.7/site-packages/ALLCools/dmr/fimo.py:60: FutureWarning: to_msgpack is deprecated and will be removed in a future version.\n",
      "It is recommended to use pyarrow for on-the-wire transmission of pandas objects.\n",
      "  final_df.to_msgpack(output_path, compress='zlib')\n"
     ]
    },
    {
     "name": "stdout",
     "output_type": "stream",
     "text": [
      "/home/hanliu/project/mouse_rostral_brain/DMR/ITSpatial_by_region/AI/MotifScan.h5adtemp/MA1652.1.meme, N motif total=61801\n"
     ]
    },
    {
     "name": "stderr",
     "output_type": "stream",
     "text": [
      "/home/hanliu/miniconda3/envs/clustering/lib/python3.7/site-packages/ALLCools/dmr/fimo.py:60: FutureWarning: to_msgpack is deprecated and will be removed in a future version.\n",
      "It is recommended to use pyarrow for on-the-wire transmission of pandas objects.\n",
      "  final_df.to_msgpack(output_path, compress='zlib')\n"
     ]
    },
    {
     "name": "stdout",
     "output_type": "stream",
     "text": [
      "/home/hanliu/project/mouse_rostral_brain/DMR/ITSpatial_by_region/AI/MotifScan.h5adtemp/MA0528.2.meme, N motif total=79887\n"
     ]
    },
    {
     "name": "stderr",
     "output_type": "stream",
     "text": [
      "/home/hanliu/miniconda3/envs/clustering/lib/python3.7/site-packages/ALLCools/dmr/fimo.py:60: FutureWarning: to_msgpack is deprecated and will be removed in a future version.\n",
      "It is recommended to use pyarrow for on-the-wire transmission of pandas objects.\n",
      "  final_df.to_msgpack(output_path, compress='zlib')\n"
     ]
    },
    {
     "name": "stdout",
     "output_type": "stream",
     "text": [
      "/home/hanliu/project/mouse_rostral_brain/DMR/ITSpatial_by_region/AI/MotifScan.h5adtemp/MA0088.2.meme, N motif total=7224\n"
     ]
    },
    {
     "name": "stderr",
     "output_type": "stream",
     "text": [
      "/home/hanliu/miniconda3/envs/clustering/lib/python3.7/site-packages/ALLCools/dmr/fimo.py:60: FutureWarning: to_msgpack is deprecated and will be removed in a future version.\n",
      "It is recommended to use pyarrow for on-the-wire transmission of pandas objects.\n",
      "  final_df.to_msgpack(output_path, compress='zlib')\n"
     ]
    },
    {
     "name": "stdout",
     "output_type": "stream",
     "text": [
      "/home/hanliu/project/mouse_rostral_brain/DMR/ITSpatial_by_region/AI/MotifScan.h5adtemp/MA1593.1.meme, N motif total=45294\n"
     ]
    },
    {
     "name": "stderr",
     "output_type": "stream",
     "text": [
      "/home/hanliu/miniconda3/envs/clustering/lib/python3.7/site-packages/ALLCools/dmr/fimo.py:60: FutureWarning: to_msgpack is deprecated and will be removed in a future version.\n",
      "It is recommended to use pyarrow for on-the-wire transmission of pandas objects.\n",
      "  final_df.to_msgpack(output_path, compress='zlib')\n"
     ]
    },
    {
     "name": "stdout",
     "output_type": "stream",
     "text": [
      "/home/hanliu/project/mouse_rostral_brain/DMR/ITSpatial_by_region/AI/MotifScan.h5adtemp/MA1653.1.meme, N motif total=96866\n"
     ]
    },
    {
     "name": "stderr",
     "output_type": "stream",
     "text": [
      "/home/hanliu/miniconda3/envs/clustering/lib/python3.7/site-packages/ALLCools/dmr/fimo.py:60: FutureWarning: to_msgpack is deprecated and will be removed in a future version.\n",
      "It is recommended to use pyarrow for on-the-wire transmission of pandas objects.\n",
      "  final_df.to_msgpack(output_path, compress='zlib')\n"
     ]
    },
    {
     "name": "stdout",
     "output_type": "stream",
     "text": [
      "/home/hanliu/project/mouse_rostral_brain/DMR/ITSpatial_by_region/AI/MotifScan.h5adtemp/MA1655.1.meme, N motif total=34709\n"
     ]
    },
    {
     "name": "stderr",
     "output_type": "stream",
     "text": [
      "/home/hanliu/miniconda3/envs/clustering/lib/python3.7/site-packages/ALLCools/dmr/fimo.py:60: FutureWarning: to_msgpack is deprecated and will be removed in a future version.\n",
      "It is recommended to use pyarrow for on-the-wire transmission of pandas objects.\n",
      "  final_df.to_msgpack(output_path, compress='zlib')\n"
     ]
    },
    {
     "name": "stdout",
     "output_type": "stream",
     "text": [
      "/home/hanliu/project/mouse_rostral_brain/DMR/ITSpatial_by_region/AI/MotifScan.h5adtemp/MA1592.1.meme, N motif total=27553\n"
     ]
    },
    {
     "name": "stderr",
     "output_type": "stream",
     "text": [
      "/home/hanliu/miniconda3/envs/clustering/lib/python3.7/site-packages/ALLCools/dmr/fimo.py:60: FutureWarning: to_msgpack is deprecated and will be removed in a future version.\n",
      "It is recommended to use pyarrow for on-the-wire transmission of pandas objects.\n",
      "  final_df.to_msgpack(output_path, compress='zlib')\n"
     ]
    },
    {
     "name": "stdout",
     "output_type": "stream",
     "text": [
      "/home/hanliu/project/mouse_rostral_brain/DMR/ITSpatial_by_region/AI/MotifScan.h5adtemp/MA1154.1.meme, N motif total=13795\n"
     ]
    },
    {
     "name": "stderr",
     "output_type": "stream",
     "text": [
      "/home/hanliu/miniconda3/envs/clustering/lib/python3.7/site-packages/ALLCools/dmr/fimo.py:60: FutureWarning: to_msgpack is deprecated and will be removed in a future version.\n",
      "It is recommended to use pyarrow for on-the-wire transmission of pandas objects.\n",
      "  final_df.to_msgpack(output_path, compress='zlib')\n"
     ]
    },
    {
     "name": "stdout",
     "output_type": "stream",
     "text": [
      "/home/hanliu/project/mouse_rostral_brain/DMR/ITSpatial_by_region/AI/MotifScan.h5adtemp/MA1125.1.meme, N motif total=254687\n"
     ]
    },
    {
     "name": "stderr",
     "output_type": "stream",
     "text": [
      "/home/hanliu/miniconda3/envs/clustering/lib/python3.7/site-packages/ALLCools/dmr/fimo.py:60: FutureWarning: to_msgpack is deprecated and will be removed in a future version.\n",
      "It is recommended to use pyarrow for on-the-wire transmission of pandas objects.\n",
      "  final_df.to_msgpack(output_path, compress='zlib')\n"
     ]
    },
    {
     "name": "stdout",
     "output_type": "stream",
     "text": [
      "/home/hanliu/project/mouse_rostral_brain/DMR/ITSpatial_by_region/AI/MotifScan.h5adtemp/MA1657.1.meme, N motif total=19731\n"
     ]
    },
    {
     "name": "stderr",
     "output_type": "stream",
     "text": [
      "/home/hanliu/miniconda3/envs/clustering/lib/python3.7/site-packages/ALLCools/dmr/fimo.py:60: FutureWarning: to_msgpack is deprecated and will be removed in a future version.\n",
      "It is recommended to use pyarrow for on-the-wire transmission of pandas objects.\n",
      "  final_df.to_msgpack(output_path, compress='zlib')\n"
     ]
    },
    {
     "name": "stdout",
     "output_type": "stream",
     "text": [
      "/home/hanliu/project/mouse_rostral_brain/DMR/ITSpatial_by_region/AI/MotifScan.h5adtemp/MA1656.1.meme, N motif total=33707\n"
     ]
    },
    {
     "name": "stderr",
     "output_type": "stream",
     "text": [
      "/home/hanliu/miniconda3/envs/clustering/lib/python3.7/site-packages/ALLCools/dmr/fimo.py:60: FutureWarning: to_msgpack is deprecated and will be removed in a future version.\n",
      "It is recommended to use pyarrow for on-the-wire transmission of pandas objects.\n",
      "  final_df.to_msgpack(output_path, compress='zlib')\n"
     ]
    },
    {
     "name": "stdout",
     "output_type": "stream",
     "text": [
      "/home/hanliu/project/mouse_rostral_brain/DMR/ITSpatial_by_region/AI/MotifScan.h5adtemp/MA0116.1.meme, N motif total=16322\n"
     ]
    },
    {
     "name": "stderr",
     "output_type": "stream",
     "text": [
      "/home/hanliu/miniconda3/envs/clustering/lib/python3.7/site-packages/ALLCools/dmr/fimo.py:60: FutureWarning: to_msgpack is deprecated and will be removed in a future version.\n",
      "It is recommended to use pyarrow for on-the-wire transmission of pandas objects.\n",
      "  final_df.to_msgpack(output_path, compress='zlib')\n"
     ]
    },
    {
     "name": "stdout",
     "output_type": "stream",
     "text": [
      "/home/hanliu/project/mouse_rostral_brain/DMR/ITSpatial_by_region/AI/MotifScan.h5adtemp/MA0753.2.meme, N motif total=135633\n"
     ]
    },
    {
     "name": "stderr",
     "output_type": "stream",
     "text": [
      "/home/hanliu/miniconda3/envs/clustering/lib/python3.7/site-packages/ALLCools/dmr/fimo.py:60: FutureWarning: to_msgpack is deprecated and will be removed in a future version.\n",
      "It is recommended to use pyarrow for on-the-wire transmission of pandas objects.\n",
      "  final_df.to_msgpack(output_path, compress='zlib')\n"
     ]
    },
    {
     "name": "stdout",
     "output_type": "stream",
     "text": [
      "/home/hanliu/project/mouse_rostral_brain/DMR/ITSpatial_by_region/AI/MotifScan.h5adtemp/MA1602.1.meme, N motif total=13141\n"
     ]
    },
    {
     "name": "stderr",
     "output_type": "stream",
     "text": [
      "/home/hanliu/miniconda3/envs/clustering/lib/python3.7/site-packages/ALLCools/dmr/fimo.py:60: FutureWarning: to_msgpack is deprecated and will be removed in a future version.\n",
      "It is recommended to use pyarrow for on-the-wire transmission of pandas objects.\n",
      "  final_df.to_msgpack(output_path, compress='zlib')\n"
     ]
    },
    {
     "name": "stdout",
     "output_type": "stream",
     "text": [
      "/home/hanliu/project/mouse_rostral_brain/DMR/ITSpatial_by_region/AI/MotifScan.h5adtemp/MA0752.1.meme, N motif total=1353\n"
     ]
    },
    {
     "name": "stderr",
     "output_type": "stream",
     "text": [
      "/home/hanliu/miniconda3/envs/clustering/lib/python3.7/site-packages/ALLCools/dmr/fimo.py:60: FutureWarning: to_msgpack is deprecated and will be removed in a future version.\n",
      "It is recommended to use pyarrow for on-the-wire transmission of pandas objects.\n",
      "  final_df.to_msgpack(output_path, compress='zlib')\n"
     ]
    },
    {
     "name": "stdout",
     "output_type": "stream",
     "text": [
      "/home/hanliu/project/mouse_rostral_brain/DMR/ITSpatial_by_region/AI/MotifScan.h5adtemp/MA1594.1.meme, N motif total=7542\n"
     ]
    },
    {
     "name": "stderr",
     "output_type": "stream",
     "text": [
      "/home/hanliu/miniconda3/envs/clustering/lib/python3.7/site-packages/ALLCools/dmr/fimo.py:60: FutureWarning: to_msgpack is deprecated and will be removed in a future version.\n",
      "It is recommended to use pyarrow for on-the-wire transmission of pandas objects.\n",
      "  final_df.to_msgpack(output_path, compress='zlib')\n"
     ]
    },
    {
     "name": "stderr",
     "output_type": "stream",
     "text": [
      "/home/hanliu/miniconda3/envs/clustering/lib/python3.7/site-packages/ALLCools/dmr/fimo.py:108: FutureWarning: to_msgpack is deprecated and will be removed in a future version.\n",
      "It is recommended to use pyarrow for on-the-wire transmission of pandas objects.\n",
      "  lookup_table.to_msgpack(output_dir / f'LOOKUP_TABLE.msg')\n"
     ]
    }
   ],
   "source": [
    "scan_motif_over_bed(\n",
    "    bed_path=bed_path,\n",
    "    motif_file=motif_file_path,\n",
    "    genome_fasta=genome_fasta_path,\n",
    "    output_dir =str(output_path) + \"temp\",\n",
    "    chrom_size_path=chrom_size_path,\n",
    "    cpu=40, \n",
    "    use_region_name=True,\n",
    "    sort_mem_gbs=10\n",
    ")"
   ]
  },
  {
   "cell_type": "markdown",
   "metadata": {
    "papermill": {
     "duration": 0.283795,
     "end_time": "2020-01-13T06:22:59.536418",
     "exception": false,
     "start_time": "2020-01-13T06:22:59.252623",
     "status": "completed"
    },
    "tags": []
   },
   "source": [
    "## Aggregate motif hits"
   ]
  },
  {
   "cell_type": "code",
   "execution_count": 7,
   "metadata": {
    "ExecuteTime": {
     "end_time": "2020-01-11T06:26:28.669360Z",
     "start_time": "2020-01-11T06:26:28.662712Z"
    },
    "papermill": {
     "duration": 0.292633,
     "end_time": "2020-01-13T06:23:00.111776",
     "exception": false,
     "start_time": "2020-01-13T06:22:59.819143",
     "status": "completed"
    },
    "tags": []
   },
   "outputs": [],
   "source": [
    "temp_dir = pathlib.Path(str(output_path) + \"temp\")\n",
    "results_path = list(temp_dir.glob('*bed.msg'))"
   ]
  },
  {
   "cell_type": "code",
   "execution_count": 8,
   "metadata": {
    "ExecuteTime": {
     "end_time": "2020-01-11T06:20:07.873952Z",
     "start_time": "2020-01-11T06:19:40.044246Z"
    },
    "papermill": {
     "duration": 21.839348,
     "end_time": "2020-01-13T06:23:22.231493",
     "exception": false,
     "start_time": "2020-01-13T06:23:00.392145",
     "status": "completed"
    },
    "tags": []
   },
   "outputs": [
    {
     "name": "stderr",
     "output_type": "stream",
     "text": [
      "/home/hanliu/miniconda3/envs/clustering/lib/python3.7/site-packages/IPython/core/interactiveshell.py:3326: FutureWarning: The read_msgpack is deprecated and will be removed in a future version.\n",
      "It is recommended to use pyarrow for on-the-wire transmission of pandas objects.\n",
      "  exec(code_obj, self.user_global_ns, self.user_ns)\n"
     ]
    },
    {
     "name": "stdout",
     "output_type": "stream",
     "text": [
      "100\n"
     ]
    },
    {
     "name": "stdout",
     "output_type": "stream",
     "text": [
      "200\n"
     ]
    },
    {
     "name": "stdout",
     "output_type": "stream",
     "text": [
      "300\n"
     ]
    },
    {
     "name": "stdout",
     "output_type": "stream",
     "text": [
      "400\n"
     ]
    },
    {
     "name": "stdout",
     "output_type": "stream",
     "text": [
      "500\n"
     ]
    },
    {
     "name": "stdout",
     "output_type": "stream",
     "text": [
      "600\n"
     ]
    },
    {
     "name": "stdout",
     "output_type": "stream",
     "text": [
      "700\n"
     ]
    },
    {
     "name": "stderr",
     "output_type": "stream",
     "text": [
      "... storing 'chrom' as categorical\n"
     ]
    }
   ],
   "source": [
    "rows = []\n",
    "cols = []\n",
    "datas = []\n",
    "motif_ids = []\n",
    "n = 0\n",
    "for i, path in enumerate(results_path):\n",
    "    n += 1\n",
    "    if n % 100 == 0:\n",
    "        print(n)\n",
    "    df = pd.read_msgpack(path)\n",
    "    motif_id = path.name[:-8]\n",
    "    motif_ids.append(motif_id)\n",
    "    \n",
    "    dmr_max_scores = df.groupby('sequence_name')['score'].max()\n",
    "    dmr_max_scores.index = dmr_max_scores.index.map(lambda i: i.split('_')[1]).astype(int)\n",
    "    dmr_max_scores.sort_index(inplace=True)\n",
    "    row = dmr_max_scores.index.values\n",
    "    col = (np.ones_like(row) * i).astype(int)\n",
    "    data = dmr_max_scores.values        \n",
    "    rows.append(row)\n",
    "    cols.append(col)\n",
    "    datas.append(data)\n",
    "rows = np.concatenate(rows)\n",
    "cols = np.concatenate(cols)\n",
    "datas = np.concatenate(datas)\n",
    "\n",
    "hits = csr_matrix((datas, (rows, cols)),\n",
    "                  shape=(dmr_bed.shape[0], len(motif_ids)))\n",
    "\n",
    "dmr_hits = anndata.AnnData(X=hits,\n",
    "                           obs=dmr_bed,\n",
    "                           var=pd.DataFrame([], index=motif_ids))\n",
    "\n",
    "dmr_hits.write_h5ad(output_path)"
   ]
  },
  {
   "cell_type": "code",
   "execution_count": 9,
   "metadata": {
    "ExecuteTime": {
     "end_time": "2020-01-11T06:20:21.528210Z",
     "start_time": "2020-01-11T06:20:21.524900Z"
    },
    "papermill": {
     "duration": 0.352381,
     "end_time": "2020-01-13T06:23:22.872486",
     "exception": false,
     "start_time": "2020-01-13T06:23:22.520105",
     "status": "completed"
    },
    "tags": []
   },
   "outputs": [
    {
     "data": {
      "text/plain": [
       "AnnData object with n_obs × n_vars = 195989 × 719 \n",
       "    obs: 'chrom', 'start', 'end'"
      ]
     },
     "execution_count": 9,
     "metadata": {},
     "output_type": "execute_result"
    }
   ],
   "source": [
    "dmr_hits"
   ]
  },
  {
   "cell_type": "code",
   "execution_count": 10,
   "metadata": {
    "ExecuteTime": {
     "end_time": "2020-01-11T06:21:22.263596Z",
     "start_time": "2020-01-11T06:21:22.083041Z"
    },
    "papermill": {
     "duration": 0.459392,
     "end_time": "2020-01-13T06:23:23.619479",
     "exception": false,
     "start_time": "2020-01-13T06:23:23.160087",
     "status": "completed"
    },
    "tags": []
   },
   "outputs": [],
   "source": [
    "motif_hits_portion = ((dmr_hits.X > 0).sum(axis=0) / dmr_hits.X.shape[0]).A1"
   ]
  },
  {
   "cell_type": "code",
   "execution_count": 11,
   "metadata": {
    "ExecuteTime": {
     "end_time": "2020-01-11T06:21:28.111692Z",
     "start_time": "2020-01-11T06:21:27.960190Z"
    },
    "papermill": {
     "duration": 0.440489,
     "end_time": "2020-01-13T06:23:24.344340",
     "exception": false,
     "start_time": "2020-01-13T06:23:23.903851",
     "status": "completed"
    },
    "tags": []
   },
   "outputs": [
    {
     "data": {
      "text/plain": [
       "<matplotlib.axes._subplots.AxesSubplot at 0x7f9903fcb550>"
      ]
     },
     "execution_count": 11,
     "metadata": {},
     "output_type": "execute_result"
    },
    {
     "data": {
      "image/png": "[encoded data removed]",
      "text/plain": [
       "<Figure size 432x288 with 1 Axes>"
      ]
     },
     "metadata": {
      "needs_background": "light"
     },
     "output_type": "display_data"
    }
   ],
   "source": [
    "sns.distplot(motif_hits_portion)"
   ]
  },
  {
   "cell_type": "markdown",
   "metadata": {
    "papermill": {
     "duration": 0.293234,
     "end_time": "2020-01-13T06:23:24.928318",
     "exception": false,
     "start_time": "2020-01-13T06:23:24.635084",
     "status": "completed"
    },
    "tags": []
   },
   "source": [
    "## Delete temp dir"
   ]
  },
  {
   "cell_type": "code",
   "execution_count": 12,
   "metadata": {
    "ExecuteTime": {
     "end_time": "2020-01-11T06:26:33.954958Z",
     "start_time": "2020-01-11T06:26:33.715562Z"
    },
    "papermill": {
     "duration": 0.5064,
     "end_time": "2020-01-13T06:23:25.729274",
     "exception": false,
     "start_time": "2020-01-13T06:23:25.222874",
     "status": "completed"
    },
    "tags": []
   },
   "outputs": [
    {
     "data": {
      "text/plain": [
       "CompletedProcess(args=['rm', '-rf', '/home/hanliu/project/mouse_rostral_brain/DMR/ITSpatial_by_region/AI/MotifScan.h5adtemp'], returncode=0)"
      ]
     },
     "execution_count": 12,
     "metadata": {},
     "output_type": "execute_result"
    }
   ],
   "source": [
    "subprocess.run(['rm', '-rf', str(temp_dir)])"
   ]
  },
  {
   "cell_type": "code",
   "execution_count": null,
   "metadata": {
    "papermill": {
     "duration": 0.28377,
     "end_time": "2020-01-13T06:23:26.297847",
     "exception": false,
     "start_time": "2020-01-13T06:23:26.014077",
     "status": "completed"
    },
    "tags": []
   },
   "outputs": [],
   "source": []
  }
 ],
 "metadata": {
  "celltoolbar": "Tags",
  "hide_input": false,
  "kernelspec": {
   "display_name": "Python 3",
   "language": "python",
   "name": "python3"
  },
  "language_info": {
   "codemirror_mode": {
    "name": "ipython",
    "version": 3
   },
   "file_extension": ".py",
   "mimetype": "text/x-python",
   "name": "python",
   "nbconvert_exporter": "python",
   "pygments_lexer": "ipython3",
   "version": "3.7.3"
  },
  "papermill": {
   "duration": 311.763365,
   "end_time": "2020-01-13T06:23:27.089714",
   "environment_variables": {},
   "exception": null,
   "input_path": "2.MotifScan.ipynb",
   "output_path": "/home/hanliu/project/mouse_rostral_brain/DMR/ITSpatial_by_region/AI/Recipe/2.MotifScan.ipynb",
   "parameters": {
    "bed_path": "/home/hanliu/project/mouse_rostral_brain/DMR/ITSpatial_by_region/AI/TotalDMR.nofilter.bed",
    "chrom_size_path": "/home/hanliu/ref/mouse/genome/mm10.main.chrom.sizes",
    "genome_fasta_path": "/home/hanliu/ref/mouse/genome/fasta/raw/mm10.fa",
    "motif_file_path": "/home/hanliu/ref/MEME/selected_motifs_sets/JASPAR2020_CORE_vertebrates_non-redundant_pfms.has_mouse_id.meme"
   },
   "start_time": "2020-01-13T06:18:15.326349",
   "version": "1.0.1"
  },
  "toc": {
   "base_numbering": 1,
   "nav_menu": {},
   "number_sections": true,
   "sideBar": true,
   "skip_h1_title": true,
   "title_cell": "Table of Contents",
   "title_sidebar": "Contents",
   "toc_cell": false,
   "toc_position": {},
   "toc_section_display": true,
   "toc_window_display": true
  }
 },
 "nbformat": 4,
 "nbformat_minor": 2
}