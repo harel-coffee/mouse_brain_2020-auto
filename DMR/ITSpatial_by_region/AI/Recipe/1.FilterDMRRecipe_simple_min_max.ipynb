{
 "cells": [
  {
   "cell_type": "code",
   "execution_count": 1,
   "metadata": {
    "ExecuteTime": {
     "end_time": "2020-01-11T21:50:08.448192Z",
     "start_time": "2020-01-11T21:50:06.327607Z"
    },
    "papermill": {
     "duration": 0.462076,
     "end_time": "2020-01-13T06:18:09.436496",
     "exception": false,
     "start_time": "2020-01-13T06:18:08.974420",
     "status": "completed"
    },
    "tags": []
   },
   "outputs": [],
   "source": [
    "import pathlib\n",
    "import numpy as np\n",
    "import pandas as pd\n",
    "from scipy.sparse import csr_matrix\n",
    "import anndata\n",
    "from pybedtools import BedTool"
   ]
  },
  {
   "cell_type": "markdown",
   "metadata": {
    "ExecuteTime": {
     "end_time": "2020-01-10T03:41:10.279754Z",
     "start_time": "2020-01-10T03:41:10.259634Z"
    },
    "papermill": {
     "duration": 0.009416,
     "end_time": "2020-01-13T06:18:09.456436",
     "exception": false,
     "start_time": "2020-01-13T06:18:09.447020",
     "status": "completed"
    },
    "tags": []
   },
   "source": [
    "## Parameter"
   ]
  },
  {
   "cell_type": "code",
   "execution_count": 2,
   "metadata": {
    "ExecuteTime": {
     "end_time": "2020-01-11T21:50:08.454595Z",
     "start_time": "2020-01-11T21:50:08.450963Z"
    },
    "papermill": {
     "duration": 0.014809,
     "end_time": "2020-01-13T06:18:09.480207",
     "exception": false,
     "start_time": "2020-01-13T06:18:09.465398",
     "status": "completed"
    },
    "tags": [
     "parameters"
    ]
   },
   "outputs": [],
   "source": [
    "dmr_path = '/home/hanliu/project/mouse_rostral_brain/DMR/DGmCHGroup/DMR/axis-mch_rms_results_collapsed.tsv'\n",
    "dmr_prefix = 'DGmCH'\n",
    "\n",
    "black_list_path = '/home/hanliu/ref/blacklist/mm10-blacklist.v2.bed.gz'\n",
    "delta_cutoff=0.3\n",
    "dms_cutoff = 1"
   ]
  },
  {
   "cell_type": "code",
   "execution_count": 3,
   "metadata": {
    "papermill": {
     "duration": 0.013766,
     "end_time": "2020-01-13T06:18:09.502613",
     "exception": false,
     "start_time": "2020-01-13T06:18:09.488847",
     "status": "completed"
    },
    "tags": [
     "injected-parameters"
    ]
   },
   "outputs": [],
   "source": [
    "# Parameters\n",
    "dmr_path = \"/home/hanliu/project/mouse_rostral_brain/DMR/ITSpatial_by_region/AI/AI_rms_results_collapsed.tsv\"\n",
    "dmr_prefix = \"AI\"\n",
    "black_list_path = \"/home/hanliu/ref/blacklist/mm10-blacklist.v2.bed.gz\"\n",
    "delta_cutoff = 0.3\n",
    "dms_cutoff = 1\n"
   ]
  },
  {
   "cell_type": "markdown",
   "metadata": {
    "papermill": {
     "duration": 0.008696,
     "end_time": "2020-01-13T06:18:09.519912",
     "exception": false,
     "start_time": "2020-01-13T06:18:09.511216",
     "status": "completed"
    },
    "tags": []
   },
   "source": [
    "## Read DMR"
   ]
  },
  {
   "cell_type": "code",
   "execution_count": 4,
   "metadata": {
    "ExecuteTime": {
     "end_time": "2020-01-11T21:50:12.812215Z",
     "start_time": "2020-01-11T21:50:11.372717Z"
    },
    "papermill": {
     "duration": 0.263812,
     "end_time": "2020-01-13T06:18:09.792405",
     "exception": false,
     "start_time": "2020-01-13T06:18:09.528593",
     "status": "completed"
    },
    "scrolled": true,
    "tags": []
   },
   "outputs": [
    {
     "name": "stdout",
     "output_type": "stream",
     "text": [
      "195989 dmr before filter\n"
     ]
    }
   ],
   "source": [
    "# get column and n_sample\n",
    "dmr_column = pd.read_csv(dmr_path, sep='\\t', nrows=0).columns\n",
    "n_sample = dmr_column.size - 6\n",
    "dmr_column = dmr_column.map(lambda i: i[18:] if 'methylation_level_' in i else i)\n",
    "samples = dmr_column[6:]\n",
    "\n",
    "dmr_region_infos = []\n",
    "mc_rates = []\n",
    "hypo_sig_dict = {sample: [] for sample in samples}\n",
    "hyper_sig_dict = {sample: [] for sample in samples}\n",
    "\n",
    "dmr_df = pd.read_csv(dmr_path, sep='\\t', skiprows=1, names=dmr_column)\n",
    "print(dmr_df.shape[0], 'dmr before filter')\n",
    "dmr_df.index = dmr_df.index.map(lambda i: f'{dmr_prefix}_{i}')\n",
    "\n",
    "# save raw info\n",
    "dmr_bed = dmr_df.iloc[:, :4].copy()\n",
    "mc_rate = dmr_df.iloc[:, 6:].copy()"
   ]
  },
  {
   "cell_type": "markdown",
   "metadata": {
    "papermill": {
     "duration": 0.009202,
     "end_time": "2020-01-13T06:18:09.811217",
     "exception": false,
     "start_time": "2020-01-13T06:18:09.802015",
     "status": "completed"
    },
    "tags": []
   },
   "source": [
    "## Save unfiltered dmr info"
   ]
  },
  {
   "cell_type": "code",
   "execution_count": 5,
   "metadata": {
    "ExecuteTime": {
     "end_time": "2020-01-11T21:50:14.107323Z",
     "start_time": "2020-01-11T21:50:12.814403Z"
    },
    "papermill": {
     "duration": 0.383891,
     "end_time": "2020-01-13T06:18:10.204301",
     "exception": false,
     "start_time": "2020-01-13T06:18:09.820410",
     "status": "completed"
    },
    "tags": []
   },
   "outputs": [],
   "source": [
    "with pd.HDFStore(pathlib.Path(dmr_path).parent / 'DMRInfo.h5') as hdf:\n",
    "    hdf['Rate'] = mc_rate\n",
    "    hdf['Bed'] = dmr_bed"
   ]
  },
  {
   "cell_type": "code",
   "execution_count": 6,
   "metadata": {
    "ExecuteTime": {
     "end_time": "2020-01-11T21:50:17.098376Z",
     "start_time": "2020-01-11T21:50:14.109920Z"
    },
    "papermill": {
     "duration": 0.546266,
     "end_time": "2020-01-13T06:18:10.760854",
     "exception": false,
     "start_time": "2020-01-13T06:18:10.214588",
     "status": "completed"
    },
    "tags": []
   },
   "outputs": [],
   "source": [
    "dmr_bed.reset_index().iloc[:, [1, 2, 3, 0]].to_csv(pathlib.Path(dmr_path).parent / 'TotalDMR.nofilter.bed', \n",
    "                                                   index=None, header=None, sep='\\t')"
   ]
  },
  {
   "cell_type": "markdown",
   "metadata": {
    "papermill": {
     "duration": 0.00968,
     "end_time": "2020-01-13T06:18:10.780244",
     "exception": false,
     "start_time": "2020-01-13T06:18:10.770564",
     "status": "completed"
    },
    "tags": []
   },
   "source": [
    "## Filter DMR"
   ]
  },
  {
   "cell_type": "code",
   "execution_count": 7,
   "metadata": {
    "ExecuteTime": {
     "end_time": "2020-01-11T21:50:17.243243Z",
     "start_time": "2020-01-11T21:50:17.101233Z"
    },
    "papermill": {
     "duration": 0.052771,
     "end_time": "2020-01-13T06:18:10.842187",
     "exception": false,
     "start_time": "2020-01-13T06:18:10.789416",
     "status": "completed"
    },
    "tags": []
   },
   "outputs": [
    {
     "name": "stdout",
     "output_type": "stream",
     "text": [
      "192646 dmr pass delta filter\n"
     ]
    }
   ],
   "source": [
    "# filter by delta\n",
    "delta_judge = (mc_rate.max(axis=1) - mc_rate.min(axis=1)) > delta_cutoff\n",
    "delta_index = mc_rate.index[delta_judge]\n",
    "\n",
    "print(delta_index.size, 'dmr pass delta filter')"
   ]
  },
  {
   "cell_type": "code",
   "execution_count": 8,
   "metadata": {
    "ExecuteTime": {
     "end_time": "2020-01-11T21:50:22.307254Z",
     "start_time": "2020-01-11T21:50:17.245104Z"
    },
    "papermill": {
     "duration": 1.024063,
     "end_time": "2020-01-13T06:18:11.876245",
     "exception": false,
     "start_time": "2020-01-13T06:18:10.852182",
     "status": "completed"
    },
    "tags": []
   },
   "outputs": [
    {
     "name": "stdout",
     "output_type": "stream",
     "text": [
      "194112 dmr pass blacklist filter\n"
     ]
    }
   ],
   "source": [
    "# filter by blacklist\n",
    "black_list = pd.read_csv(black_list_path, sep='\\t', header=None)\n",
    "black_list = BedTool.from_dataframe(black_list)\n",
    "\n",
    "_dmr_bed = BedTool.from_dataframe(dmr_bed.reset_index().iloc[:, [1,2,3,0]])\n",
    "filtered_dmr_bed = _dmr_bed.intersect(black_list, v=True).to_dataframe().set_index('name')\n",
    "\n",
    "white_index = filtered_dmr_bed.index\n",
    "\n",
    "print(white_index.size, 'dmr pass blacklist filter')"
   ]
  },
  {
   "cell_type": "code",
   "execution_count": 9,
   "metadata": {
    "ExecuteTime": {
     "end_time": "2020-01-11T21:50:23.818428Z",
     "start_time": "2020-01-11T21:50:22.309926Z"
    },
    "papermill": {
     "duration": 0.246189,
     "end_time": "2020-01-13T06:18:12.132465",
     "exception": false,
     "start_time": "2020-01-13T06:18:11.886276",
     "status": "completed"
    },
    "tags": []
   },
   "outputs": [
    {
     "name": "stdout",
     "output_type": "stream",
     "text": [
      "190828 dmr after filter\n"
     ]
    },
    {
     "data": {
      "text/html": [
       "<div>\n",
       "<style scoped>\n",
       "    .dataframe tbody tr th:only-of-type {\n",
       "        vertical-align: middle;\n",
       "    }\n",
       "\n",
       "    .dataframe tbody tr th {\n",
       "        vertical-align: top;\n",
       "    }\n",
       "\n",
       "    .dataframe thead th {\n",
       "        text-align: right;\n",
       "    }\n",
       "</style>\n",
       "<table border=\"1\" class=\"dataframe\">\n",
       "  <thead>\n",
       "    <tr style=\"text-align: right;\">\n",
       "      <th></th>\n",
       "      <th>#chr</th>\n",
       "      <th>start</th>\n",
       "      <th>end</th>\n",
       "      <th>number_of_dms</th>\n",
       "      <th>hypermethylated_samples</th>\n",
       "      <th>hypomethylated_samples</th>\n",
       "      <th>IT-L23+AI</th>\n",
       "      <th>IT-L5+AI</th>\n",
       "      <th>IT-L6+AI</th>\n",
       "    </tr>\n",
       "  </thead>\n",
       "  <tbody>\n",
       "    <tr>\n",
       "      <th>AI_0</th>\n",
       "      <td>chr1</td>\n",
       "      <td>3095224</td>\n",
       "      <td>3095224</td>\n",
       "      <td>1</td>\n",
       "      <td>NaN</td>\n",
       "      <td>NaN</td>\n",
       "      <td>0.025641</td>\n",
       "      <td>0.333333</td>\n",
       "      <td>0.391304</td>\n",
       "    </tr>\n",
       "    <tr>\n",
       "      <th>AI_1</th>\n",
       "      <td>chr1</td>\n",
       "      <td>3113766</td>\n",
       "      <td>3113766</td>\n",
       "      <td>1</td>\n",
       "      <td>IT-L23+AI</td>\n",
       "      <td>NaN</td>\n",
       "      <td>0.677419</td>\n",
       "      <td>0.277778</td>\n",
       "      <td>0.125000</td>\n",
       "    </tr>\n",
       "    <tr>\n",
       "      <th>AI_2</th>\n",
       "      <td>chr1</td>\n",
       "      <td>3114936</td>\n",
       "      <td>3115193</td>\n",
       "      <td>3</td>\n",
       "      <td>IT-L23+AI</td>\n",
       "      <td>IT-L5+AI</td>\n",
       "      <td>0.800000</td>\n",
       "      <td>0.290698</td>\n",
       "      <td>0.767857</td>\n",
       "    </tr>\n",
       "    <tr>\n",
       "      <th>AI_3</th>\n",
       "      <td>chr1</td>\n",
       "      <td>3121903</td>\n",
       "      <td>3121903</td>\n",
       "      <td>1</td>\n",
       "      <td>IT-L23+AI</td>\n",
       "      <td>IT-L5+AI</td>\n",
       "      <td>0.906250</td>\n",
       "      <td>0.379310</td>\n",
       "      <td>0.800000</td>\n",
       "    </tr>\n",
       "    <tr>\n",
       "      <th>AI_4</th>\n",
       "      <td>chr1</td>\n",
       "      <td>3181636</td>\n",
       "      <td>3181636</td>\n",
       "      <td>1</td>\n",
       "      <td>IT-L23+AI</td>\n",
       "      <td>IT-L5+AI</td>\n",
       "      <td>0.708333</td>\n",
       "      <td>0.137931</td>\n",
       "      <td>0.555556</td>\n",
       "    </tr>\n",
       "  </tbody>\n",
       "</table>\n",
       "</div>"
      ],
      "text/plain": [
       "      #chr    start      end  number_of_dms hypermethylated_samples  \\\n",
       "AI_0  chr1  3095224  3095224              1                     NaN   \n",
       "AI_1  chr1  3113766  3113766              1               IT-L23+AI   \n",
       "AI_2  chr1  3114936  3115193              3               IT-L23+AI   \n",
       "AI_3  chr1  3121903  3121903              1               IT-L23+AI   \n",
       "AI_4  chr1  3181636  3181636              1               IT-L23+AI   \n",
       "\n",
       "     hypomethylated_samples  IT-L23+AI  IT-L5+AI  IT-L6+AI  \n",
       "AI_0                    NaN   0.025641  0.333333  0.391304  \n",
       "AI_1                    NaN   0.677419  0.277778  0.125000  \n",
       "AI_2               IT-L5+AI   0.800000  0.290698  0.767857  \n",
       "AI_3               IT-L5+AI   0.906250  0.379310  0.800000  \n",
       "AI_4               IT-L5+AI   0.708333  0.137931  0.555556  "
      ]
     },
     "execution_count": 9,
     "metadata": {},
     "output_type": "execute_result"
    }
   ],
   "source": [
    "dmr_df = dmr_df.loc[delta_index & white_index]\n",
    "dmr_df = dmr_df[dmr_df['number_of_dms'] >= dms_cutoff]\n",
    "print(dmr_df.shape[0], 'dmr after filter')\n",
    "dmr_df.head()"
   ]
  },
  {
   "cell_type": "markdown",
   "metadata": {
    "papermill": {
     "duration": 0.010105,
     "end_time": "2020-01-13T06:18:12.153103",
     "exception": false,
     "start_time": "2020-01-13T06:18:12.142998",
     "status": "completed"
    },
    "tags": []
   },
   "source": [
    "## Assign DMR to each sample"
   ]
  },
  {
   "cell_type": "code",
   "execution_count": 10,
   "metadata": {
    "ExecuteTime": {
     "end_time": "2020-01-11T21:50:25.029660Z",
     "start_time": "2020-01-11T21:50:23.820643Z"
    },
    "papermill": {
     "duration": 0.24885,
     "end_time": "2020-01-13T06:18:12.412085",
     "exception": false,
     "start_time": "2020-01-13T06:18:12.163235",
     "status": "completed"
    },
    "tags": []
   },
   "outputs": [
    {
     "name": "stdout",
     "output_type": "stream",
     "text": [
      "IT-L23+AI\tHypoDMR \t90326\n",
      "IT-L23+AI\tHyperDMR\t76991\n"
     ]
    },
    {
     "name": "stdout",
     "output_type": "stream",
     "text": [
      "IT-L5+AI\tHypoDMR \t75992\n",
      "IT-L5+AI\tHyperDMR\t63013\n",
      "IT-L6+AI\tHypoDMR \t17544\n",
      "IT-L6+AI\tHyperDMR\t34585\n"
     ]
    }
   ],
   "source": [
    "# parse results\n",
    "for sample in samples:\n",
    "    # here saved a list of np.array\n",
    "    hypo_index = dmr_df[dmr_df['hypomethylated_samples'].fillna('').apply(lambda i: sample in i)].index\n",
    "    hyper_index = dmr_df[dmr_df['hypermethylated_samples'].fillna('').apply(lambda i: sample in i)].index\n",
    "    hypo_sig_dict[sample] = hypo_index\n",
    "    hyper_sig_dict[sample] = hyper_index\n",
    "    print(sample, 'HypoDMR ', hypo_index.size, sep='\\t')\n",
    "    print(sample, 'HyperDMR', hyper_index.size, sep='\\t')\n"
   ]
  },
  {
   "cell_type": "code",
   "execution_count": 11,
   "metadata": {
    "ExecuteTime": {
     "end_time": "2020-01-11T21:50:25.550872Z",
     "start_time": "2020-01-11T21:50:25.032533Z"
    },
    "papermill": {
     "duration": 0.114089,
     "end_time": "2020-01-13T06:18:12.537101",
     "exception": false,
     "start_time": "2020-01-13T06:18:12.423012",
     "status": "completed"
    },
    "tags": []
   },
   "outputs": [
    {
     "name": "stderr",
     "output_type": "stream",
     "text": [
      "/home/hanliu/miniconda3/envs/clustering/lib/python3.7/site-packages/tables/path.py:157: NaturalNameWarning: object name is not a valid Python identifier: 'IT-L23+AI'; it does not match the pattern ``^[a-zA-Z_][a-zA-Z0-9_]*$``; you will not be able to use natural naming to access this object; using ``getattr()`` will still work, though\n",
      "  check_attribute_name(name)\n",
      "/home/hanliu/miniconda3/envs/clustering/lib/python3.7/site-packages/tables/path.py:157: NaturalNameWarning: object name is not a valid Python identifier: 'IT-L5+AI'; it does not match the pattern ``^[a-zA-Z_][a-zA-Z0-9_]*$``; you will not be able to use natural naming to access this object; using ``getattr()`` will still work, though\n",
      "  check_attribute_name(name)\n",
      "/home/hanliu/miniconda3/envs/clustering/lib/python3.7/site-packages/tables/path.py:157: NaturalNameWarning: object name is not a valid Python identifier: 'IT-L6+AI'; it does not match the pattern ``^[a-zA-Z_][a-zA-Z0-9_]*$``; you will not be able to use natural naming to access this object; using ``getattr()`` will still work, though\n",
      "  check_attribute_name(name)\n"
     ]
    }
   ],
   "source": [
    "with pd.HDFStore(pathlib.Path(dmr_path).parent / 'DMRInfo.h5') as hdf:\n",
    "    for sample, hypo_index in hypo_sig_dict.items():\n",
    "        hdf[f'HypoDMR/{sample}'] = pd.Series(hypo_index)\n",
    "    for sample, hyper_index in hyper_sig_dict.items():\n",
    "        hdf[f'HyperDMR/{sample}'] = pd.Series(hyper_index)"
   ]
  },
  {
   "cell_type": "markdown",
   "metadata": {
    "papermill": {
     "duration": 0.010683,
     "end_time": "2020-01-13T06:18:12.558901",
     "exception": false,
     "start_time": "2020-01-13T06:18:12.548218",
     "status": "completed"
    },
    "scrolled": true,
    "tags": []
   },
   "source": [
    "## Dump DMR bed"
   ]
  },
  {
   "cell_type": "code",
   "execution_count": 12,
   "metadata": {
    "ExecuteTime": {
     "end_time": "2020-01-11T21:50:29.025860Z",
     "start_time": "2020-01-11T21:50:25.553426Z"
    },
    "papermill": {
     "duration": 0.637732,
     "end_time": "2020-01-13T06:18:13.207291",
     "exception": false,
     "start_time": "2020-01-13T06:18:12.569559",
     "status": "completed"
    },
    "tags": []
   },
   "outputs": [],
   "source": [
    "hypo_dir = pathlib.Path(dmr_path).parent / 'HypoDMR'\n",
    "hypo_dir.mkdir(exist_ok=True)\n",
    "for sample, hypo_index in hypo_sig_dict.items():\n",
    "    _bed = dmr_bed.loc[hypo_index].reset_index().iloc[:, [1, 2, 3, 0]].to_csv(\n",
    "        hypo_dir / f'{sample}.DMS{dms_cutoff}.bed', sep='\\t', index=None, header=None)"
   ]
  },
  {
   "cell_type": "code",
   "execution_count": 13,
   "metadata": {
    "ExecuteTime": {
     "end_time": "2020-01-11T21:50:32.081184Z",
     "start_time": "2020-01-11T21:50:29.028642Z"
    },
    "papermill": {
     "duration": 0.596217,
     "end_time": "2020-01-13T06:18:13.814774",
     "exception": false,
     "start_time": "2020-01-13T06:18:13.218557",
     "status": "completed"
    },
    "tags": []
   },
   "outputs": [],
   "source": [
    "hyper_dir = pathlib.Path(dmr_path).parent / 'HyperDMR'\n",
    "hyper_dir.mkdir(exist_ok=True)\n",
    "for sample, hyper_index in hyper_sig_dict.items():\n",
    "    _bed = dmr_bed.loc[hyper_index].reset_index().iloc[:, [1, 2, 3, 0]].to_csv(\n",
    "        hyper_dir / f'{sample}.DMS{dms_cutoff}.bed', sep='\\t', index=None, header=None)"
   ]
  },
  {
   "cell_type": "markdown",
   "metadata": {
    "papermill": {
     "duration": 0.010685,
     "end_time": "2020-01-13T06:18:13.836783",
     "exception": false,
     "start_time": "2020-01-13T06:18:13.826098",
     "status": "completed"
    },
    "tags": []
   },
   "source": [
    "## DMR hits matrix"
   ]
  },
  {
   "cell_type": "code",
   "execution_count": 14,
   "metadata": {
    "ExecuteTime": {
     "end_time": "2020-01-11T21:50:34.328987Z",
     "start_time": "2020-01-11T21:50:32.083780Z"
    },
    "papermill": {
     "duration": 0.478301,
     "end_time": "2020-01-13T06:18:14.325849",
     "exception": false,
     "start_time": "2020-01-13T06:18:13.847548",
     "status": "completed"
    },
    "tags": []
   },
   "outputs": [
    {
     "name": "stderr",
     "output_type": "stream",
     "text": [
      "... storing '#chr' as categorical\n"
     ]
    }
   ],
   "source": [
    "sig_dict = hypo_sig_dict\n",
    "\n",
    "rows = []\n",
    "cols = []\n",
    "datas = []\n",
    "for i, (sample, dmr_index) in enumerate(sig_dict.items()):\n",
    "    col = dmr_index.map(lambda i: i.split('_')[1]).astype(int).values\n",
    "    row = (np.ones_like(col) * i).astype(int)\n",
    "    data = np.ones_like(col)\n",
    "    rows.append(row)\n",
    "    cols.append(col)\n",
    "    datas.append(data)\n",
    "datas = np.concatenate(datas)\n",
    "cols = np.concatenate(cols)\n",
    "rows = np.concatenate(rows)\n",
    "hits = csr_matrix((datas, (rows, cols)),\n",
    "                  shape=(mc_rate.shape[1], dmr_bed.shape[0]))\n",
    "\n",
    "# obs is DMR, var is sample, because all analysis is dmr focused\n",
    "dmr_hits = anndata.AnnData(X=hits.T,\n",
    "                           obs=dmr_bed,\n",
    "                           var=pd.DataFrame([], index=mc_rate.columns))\n",
    "\n",
    "dmr_hits.write_h5ad(hypo_dir / 'TotalHits.h5ad')\n"
   ]
  },
  {
   "cell_type": "code",
   "execution_count": 15,
   "metadata": {
    "ExecuteTime": {
     "end_time": "2020-01-11T21:50:36.639219Z",
     "start_time": "2020-01-11T21:50:34.332066Z"
    },
    "papermill": {
     "duration": 0.458726,
     "end_time": "2020-01-13T06:18:14.796400",
     "exception": false,
     "start_time": "2020-01-13T06:18:14.337674",
     "status": "completed"
    },
    "tags": []
   },
   "outputs": [
    {
     "name": "stderr",
     "output_type": "stream",
     "text": [
      "... storing '#chr' as categorical\n"
     ]
    }
   ],
   "source": [
    "sig_dict = hyper_sig_dict\n",
    "\n",
    "rows = []\n",
    "cols = []\n",
    "datas = []\n",
    "for i, (sample, dmr_index) in enumerate(sig_dict.items()):\n",
    "    col = dmr_index.map(lambda i: i.split('_')[1]).astype(int).values\n",
    "    row = (np.ones_like(col) * i).astype(int)\n",
    "    data = np.ones_like(col)\n",
    "    rows.append(row)\n",
    "    cols.append(col)\n",
    "    datas.append(data)\n",
    "datas = np.concatenate(datas)\n",
    "cols = np.concatenate(cols)\n",
    "rows = np.concatenate(rows)\n",
    "hits = csr_matrix((datas, (rows, cols)),\n",
    "                  shape=(mc_rate.shape[1], dmr_bed.shape[0]))\n",
    "\n",
    "# obs is DMR, var is sample, because all analysis is dmr focused\n",
    "dmr_hits = anndata.AnnData(X=hits.T,\n",
    "                           obs=dmr_bed,\n",
    "                           var=pd.DataFrame([], index=mc_rate.columns))\n",
    "\n",
    "dmr_hits.write_h5ad(hyper_dir / 'TotalHits.h5ad')"
   ]
  },
  {
   "cell_type": "code",
   "execution_count": null,
   "metadata": {
    "papermill": {
     "duration": 0.011195,
     "end_time": "2020-01-13T06:18:14.819216",
     "exception": false,
     "start_time": "2020-01-13T06:18:14.808021",
     "status": "completed"
    },
    "tags": []
   },
   "outputs": [],
   "source": []
  },
  {
   "cell_type": "code",
   "execution_count": null,
   "metadata": {
    "papermill": {
     "duration": 0.010814,
     "end_time": "2020-01-13T06:18:14.841002",
     "exception": false,
     "start_time": "2020-01-13T06:18:14.830188",
     "status": "completed"
    },
    "tags": []
   },
   "outputs": [],
   "source": []
  },
  {
   "cell_type": "code",
   "execution_count": null,
   "metadata": {
    "papermill": {
     "duration": 0.010779,
     "end_time": "2020-01-13T06:18:14.862710",
     "exception": false,
     "start_time": "2020-01-13T06:18:14.851931",
     "status": "completed"
    },
    "tags": []
   },
   "outputs": [],
   "source": []
  }
 ],
 "metadata": {
  "hide_input": false,
  "kernelspec": {
   "display_name": "Python 3",
   "language": "python",
   "name": "python3"
  },
  "language_info": {
   "codemirror_mode": {
    "name": "ipython",
    "version": 3
   },
   "file_extension": ".py",
   "mimetype": "text/x-python",
   "name": "python",
   "nbconvert_exporter": "python",
   "pygments_lexer": "ipython3",
   "version": "3.7.3"
  },
  "papermill": {
   "duration": 7.18563,
   "end_time": "2020-01-13T06:18:15.279514",
   "environment_variables": {},
   "exception": null,
   "input_path": "1.FilterDMRRecipe_simple_min_max.ipynb",
   "output_path": "/home/hanliu/project/mouse_rostral_brain/DMR/ITSpatial_by_region/AI/Recipe/1.FilterDMRRecipe_simple_min_max.ipynb",
   "parameters": {
    "black_list_path": "/home/hanliu/ref/blacklist/mm10-blacklist.v2.bed.gz",
    "delta_cutoff": 0.3,
    "dmr_path": "/home/hanliu/project/mouse_rostral_brain/DMR/ITSpatial_by_region/AI/AI_rms_results_collapsed.tsv",
    "dmr_prefix": "AI",
    "dms_cutoff": 1
   },
   "start_time": "2020-01-13T06:18:08.093884",
   "version": "1.0.1"
  },
  "toc": {
   "base_numbering": 1,
   "nav_menu": {},
   "number_sections": true,
   "sideBar": true,
   "skip_h1_title": true,
   "title_cell": "Table of Contents",
   "title_sidebar": "Contents",
   "toc_cell": false,
   "toc_position": {},
   "toc_section_display": true,
   "toc_window_display": true
  }
 },
 "nbformat": 4,
 "nbformat_minor": 2
}