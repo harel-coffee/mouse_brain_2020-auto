{
 "cells": [
  {
   "cell_type": "markdown",
   "metadata": {},
   "source": [
    "# Motif Enrichment\n",
    "- The motif hits matrix save the max loglikelyhood score of a motif in that DMR\n",
    "- Before run the motif enrichment, I filter the scores for each motif using cutoff defined by\n",
    "    - `np.quantile(motif_score[motif_score > 0]) * mask_quantile_to99`\n",
    "- This filter will remove hits with low score, which is likely to be false positive\n",
    "- Its likely boosting the significance of real enrichment"
   ]
  },
  {
   "cell_type": "code",
   "execution_count": 1,
   "metadata": {
    "ExecuteTime": {
     "end_time": "2020-01-14T06:18:26.896128Z",
     "start_time": "2020-01-14T06:18:26.189762Z"
    }
   },
   "outputs": [],
   "source": [
    "from concurrent.futures import ProcessPoolExecutor, as_completed\n",
    "import anndata\n",
    "import matplotlib.pyplot as plt\n",
    "import numpy as np\n",
    "import pandas as pd\n",
    "import pybedtools\n",
    "import scipy.stats as stats\n",
    "import seaborn as sns\n",
    "from scipy.sparse import csr_matrix\n",
    "from statsmodels.stats.multitest import multipletests\n",
    "import pathlib"
   ]
  },
  {
   "cell_type": "code",
   "execution_count": 2,
   "metadata": {
    "ExecuteTime": {
     "end_time": "2020-01-14T06:18:26.900954Z",
     "start_time": "2020-01-14T06:18:26.898077Z"
    },
    "tags": [
     "parameters"
    ]
   },
   "outputs": [],
   "source": [
    "mask_quantile_to99 = 0.9\n",
    "or_cutoff = 1.5\n",
    "neg_lgp_cutoff = 10\n",
    "group = 'IT-L23+ACA'\n",
    "\n",
    "motif_hits_path = '/home/hanliu/project/mouse_rostral_brain/DMR/ITSpatial_by_layer/IT-L23/MotifScan.h5ad'\n",
    "dmr_hits_path = f'/home/hanliu/project/mouse_rostral_brain/DMR/ITSpatial_by_layer/IT-L23/HypoDMR/{group}.DMS1.bed'\n",
    "output_dir = '/home/hanliu/project/mouse_rostral_brain/DMR/ITSpatial_by_layer/IT-L23/MotifEnrichment'\n"
   ]
  },
  {
   "cell_type": "code",
   "execution_count": 3,
   "metadata": {
    "ExecuteTime": {
     "end_time": "2020-01-14T06:18:26.904527Z",
     "start_time": "2020-01-14T06:18:26.902313Z"
    }
   },
   "outputs": [],
   "source": [
    "output_dir = pathlib.Path(output_dir)\n",
    "output_dir.mkdir(exist_ok=True)"
   ]
  },
  {
   "cell_type": "markdown",
   "metadata": {},
   "source": [
    "## DMR hits"
   ]
  },
  {
   "cell_type": "code",
   "execution_count": 4,
   "metadata": {
    "ExecuteTime": {
     "end_time": "2020-01-14T06:18:26.977147Z",
     "start_time": "2020-01-14T06:18:26.905687Z"
    }
   },
   "outputs": [
    {
     "data": {
      "text/html": [
       "<div>\n",
       "<style scoped>\n",
       "    .dataframe tbody tr th:only-of-type {\n",
       "        vertical-align: middle;\n",
       "    }\n",
       "\n",
       "    .dataframe tbody tr th {\n",
       "        vertical-align: top;\n",
       "    }\n",
       "\n",
       "    .dataframe thead th {\n",
       "        text-align: right;\n",
       "    }\n",
       "</style>\n",
       "<table border=\"1\" class=\"dataframe\">\n",
       "  <thead>\n",
       "    <tr style=\"text-align: right;\">\n",
       "      <th></th>\n",
       "      <th>0</th>\n",
       "      <th>1</th>\n",
       "      <th>2</th>\n",
       "    </tr>\n",
       "    <tr>\n",
       "      <th>3</th>\n",
       "      <th></th>\n",
       "      <th></th>\n",
       "      <th></th>\n",
       "    </tr>\n",
       "  </thead>\n",
       "  <tbody>\n",
       "    <tr>\n",
       "      <th>DGm3c_3</th>\n",
       "      <td>chr1</td>\n",
       "      <td>3057752</td>\n",
       "      <td>3057873</td>\n",
       "    </tr>\n",
       "    <tr>\n",
       "      <th>DGm3c_13</th>\n",
       "      <td>chr1</td>\n",
       "      <td>3117711</td>\n",
       "      <td>3117711</td>\n",
       "    </tr>\n",
       "    <tr>\n",
       "      <th>DGm3c_26</th>\n",
       "      <td>chr1</td>\n",
       "      <td>3217169</td>\n",
       "      <td>3217542</td>\n",
       "    </tr>\n",
       "    <tr>\n",
       "      <th>DGm3c_29</th>\n",
       "      <td>chr1</td>\n",
       "      <td>3223870</td>\n",
       "      <td>3223878</td>\n",
       "    </tr>\n",
       "    <tr>\n",
       "      <th>DGm3c_38</th>\n",
       "      <td>chr1</td>\n",
       "      <td>3263226</td>\n",
       "      <td>3263226</td>\n",
       "    </tr>\n",
       "  </tbody>\n",
       "</table>\n",
       "</div>"
      ],
      "text/plain": [
       "             0        1        2\n",
       "3                               \n",
       "DGm3c_3   chr1  3057752  3057873\n",
       "DGm3c_13  chr1  3117711  3117711\n",
       "DGm3c_26  chr1  3217169  3217542\n",
       "DGm3c_29  chr1  3223870  3223878\n",
       "DGm3c_38  chr1  3263226  3263226"
      ]
     },
     "execution_count": 4,
     "metadata": {},
     "output_type": "execute_result"
    }
   ],
   "source": [
    "dmr_bed_df = pd.read_csv(dmr_hits_path, sep='\\t', header=None, index_col=3)\n",
    "dmr_bed_df.head()"
   ]
  },
  {
   "cell_type": "code",
   "execution_count": 5,
   "metadata": {
    "ExecuteTime": {
     "end_time": "2020-01-14T06:18:29.520483Z",
     "start_time": "2020-01-14T06:18:26.978411Z"
    }
   },
   "outputs": [
    {
     "data": {
      "text/plain": [
       "AnnData object with n_obs × n_vars = 74599 × 719 \n",
       "    obs: 'chrom', 'start', 'end'"
      ]
     },
     "execution_count": 5,
     "metadata": {},
     "output_type": "execute_result"
    }
   ],
   "source": [
    "motif_hits = anndata.read_h5ad(motif_hits_path)\n",
    "motif_hits = motif_hits[dmr_bed_df.index, :].copy()\n",
    "motif_ids = motif_hits.var_names\n",
    "motif_hits.X = motif_hits.X.todense()\n",
    "motif_hits"
   ]
  },
  {
   "cell_type": "code",
   "execution_count": 6,
   "metadata": {
    "ExecuteTime": {
     "end_time": "2020-01-14T06:18:30.371315Z",
     "start_time": "2020-01-14T06:18:29.522335Z"
    }
   },
   "outputs": [],
   "source": [
    "# mask small motif scores\n",
    "motif_cutoff = pd.Series(np.apply_along_axis(lambda i: np.quantile(i[i>0], 0.99) * mask_quantile_to99, \n",
    "                                             0, motif_hits.X),\n",
    "                         index=motif_hits.var_names)\n",
    "# only keep value larger than the cutoff for each motif\n",
    "motif_hits.X = np.multiply(motif_hits.X, (motif_hits.X > motif_cutoff.values[None, :]))"
   ]
  },
  {
   "cell_type": "markdown",
   "metadata": {},
   "source": [
    "## Background Hits"
   ]
  },
  {
   "cell_type": "code",
   "execution_count": 7,
   "metadata": {
    "ExecuteTime": {
     "end_time": "2020-01-14T06:18:31.539994Z",
     "start_time": "2020-01-14T06:18:30.373663Z"
    }
   },
   "outputs": [],
   "source": [
    "background_motif_hits = anndata.read_h5ad(\n",
    "    '/home/hanliu/project/mouse_rostral_brain/DMR/BackgroundDMR/MotifScan.h5ad'\n",
    ")"
   ]
  },
  {
   "cell_type": "code",
   "execution_count": 8,
   "metadata": {
    "ExecuteTime": {
     "end_time": "2020-01-14T06:18:32.577829Z",
     "start_time": "2020-01-14T06:18:31.541596Z"
    }
   },
   "outputs": [],
   "source": [
    "dmr_bed = pybedtools.BedTool().from_dataframe(dmr_bed_df)\n",
    "bg_bed = pybedtools.BedTool().from_dataframe(\n",
    "    background_motif_hits.obs.reset_index().iloc[:, [1, 2, 3, 0]])"
   ]
  },
  {
   "cell_type": "code",
   "execution_count": 9,
   "metadata": {
    "ExecuteTime": {
     "end_time": "2020-01-14T06:18:34.079285Z",
     "start_time": "2020-01-14T06:18:32.579345Z"
    }
   },
   "outputs": [],
   "source": [
    "# exclude background that overlap with DMR\n",
    "bg_no_overlap = bg_bed.intersect(dmr_bed, v=True)\n",
    "use_bg = bg_no_overlap.to_dataframe().iloc[:, -1].values\n",
    "background_motif_hits = background_motif_hits[use_bg, :]\n",
    "\n",
    "# make sure col in same order\n",
    "background_motif_hits = background_motif_hits[:, motif_ids].copy()"
   ]
  },
  {
   "cell_type": "code",
   "execution_count": 10,
   "metadata": {
    "ExecuteTime": {
     "end_time": "2020-01-14T06:18:36.216633Z",
     "start_time": "2020-01-14T06:18:34.081084Z"
    }
   },
   "outputs": [],
   "source": [
    "judge_matrix = csr_matrix(background_motif_hits.X > motif_cutoff.values[None, :])\n",
    "background_motif_hits.X = background_motif_hits.X.multiply(judge_matrix)"
   ]
  },
  {
   "cell_type": "code",
   "execution_count": 11,
   "metadata": {
    "ExecuteTime": {
     "end_time": "2020-01-14T06:18:36.221914Z",
     "start_time": "2020-01-14T06:18:36.218391Z"
    }
   },
   "outputs": [
    {
     "data": {
      "text/plain": [
       "AnnData object with n_obs × n_vars = 332410 × 719 \n",
       "    obs: 'chrom', 'start', 'end'"
      ]
     },
     "execution_count": 11,
     "metadata": {},
     "output_type": "execute_result"
    }
   ],
   "source": [
    "background_motif_hits"
   ]
  },
  {
   "cell_type": "markdown",
   "metadata": {},
   "source": [
    "## Motif hits contingency table"
   ]
  },
  {
   "cell_type": "code",
   "execution_count": 12,
   "metadata": {
    "ExecuteTime": {
     "end_time": "2020-01-14T06:18:36.569593Z",
     "start_time": "2020-01-14T06:18:36.223112Z"
    }
   },
   "outputs": [],
   "source": [
    "# calculate motif occurence, not considering hits here\n",
    "pos = (motif_hits.X > 0).sum(axis=0)\n",
    "pos_total = motif_hits.shape[0]\n",
    "\n",
    "neg = (background_motif_hits.X > 0).sum(axis=0)\n",
    "neg_total = background_motif_hits.shape[0]"
   ]
  },
  {
   "cell_type": "code",
   "execution_count": 13,
   "metadata": {
    "ExecuteTime": {
     "end_time": "2020-01-14T06:18:36.575198Z",
     "start_time": "2020-01-14T06:18:36.571005Z"
    },
    "scrolled": true
   },
   "outputs": [],
   "source": [
    "tables = {}\n",
    "for motif, _pos, _neg in zip(motif_ids, pos.A1, neg.A1):\n",
    "    table = [[_pos, pos_total - _pos], [_neg, neg_total - _neg]]\n",
    "    tables[motif] = table"
   ]
  },
  {
   "cell_type": "code",
   "execution_count": 14,
   "metadata": {
    "ExecuteTime": {
     "end_time": "2020-01-14T06:18:37.087058Z",
     "start_time": "2020-01-14T06:18:36.576449Z"
    }
   },
   "outputs": [
    {
     "name": "stderr",
     "output_type": "stream",
     "text": [
      "/home/hanliu/miniconda3/envs/clustering/lib/python3.7/site-packages/pandas/core/series.py:853: RuntimeWarning: divide by zero encountered in log10\n",
      "  result = getattr(ufunc, method)(*inputs, **kwargs)\n"
     ]
    }
   ],
   "source": [
    "results = {}\n",
    "with ProcessPoolExecutor(20) as executor:\n",
    "    fs = {}\n",
    "    for motif, t in tables.items():\n",
    "        f = executor.submit(stats.fisher_exact, t, alternative='greater')\n",
    "        fs[f] = motif\n",
    "\n",
    "    for f in as_completed(fs):\n",
    "        motif = fs[f]\n",
    "        odds, p = f.result()\n",
    "        results[motif] = {'oddsratio': odds, 'p_value': p}\n",
    "motif_enrich_df = pd.DataFrame(results).T\n",
    "\n",
    "_, p, _, _ = multipletests(motif_enrich_df['p_value'], method='fdr_bh')\n",
    "motif_enrich_df['adj_p'] = p\n",
    "\n",
    "motif_enrich_df['-lgp'] = -np.log10(motif_enrich_df['adj_p']).replace(\n",
    "    -np.inf, -300)\n",
    "\n",
    "records = {}\n",
    "for motif, t in tables.items():\n",
    "    tp, tn = t[0]\n",
    "    fp, fn = t[1]\n",
    "    tp_rate = tp / pos_total\n",
    "    fp_rate = fp / neg_total\n",
    "    records[motif] = dict(tp=tp,\n",
    "                          tn=tn,\n",
    "                          fp=fp,\n",
    "                          fn=fn,\n",
    "                          tp_rate=tp_rate,\n",
    "                          fp_rate=fp_rate)\n",
    "counts = pd.DataFrame(records).T\n",
    "motif_enrich_df = pd.concat([motif_enrich_df, counts], axis=1, sort=True)"
   ]
  },
  {
   "cell_type": "code",
   "execution_count": 15,
   "metadata": {
    "ExecuteTime": {
     "end_time": "2020-01-14T06:18:37.092111Z",
     "start_time": "2020-01-14T06:18:37.088525Z"
    }
   },
   "outputs": [],
   "source": [
    "motif_enrich_df['Group'] = group"
   ]
  },
  {
   "cell_type": "code",
   "execution_count": 16,
   "metadata": {
    "ExecuteTime": {
     "end_time": "2020-01-14T06:18:37.099304Z",
     "start_time": "2020-01-14T06:18:37.093659Z"
    }
   },
   "outputs": [
    {
     "data": {
      "text/plain": [
       "29"
      ]
     },
     "execution_count": 16,
     "metadata": {},
     "output_type": "execute_result"
    }
   ],
   "source": [
    "# final filter\n",
    "filtered_motif_df = motif_enrich_df[(motif_enrich_df['oddsratio'] > or_cutoff)\n",
    "                                    &\n",
    "                                    (motif_enrich_df['-lgp'] > neg_lgp_cutoff)]\n",
    "filtered_motif_df.shape[0]"
   ]
  },
  {
   "cell_type": "code",
   "execution_count": 17,
   "metadata": {
    "ExecuteTime": {
     "end_time": "2020-01-14T06:18:37.104396Z",
     "start_time": "2020-01-14T06:18:37.100619Z"
    }
   },
   "outputs": [
    {
     "name": "stderr",
     "output_type": "stream",
     "text": [
      "/home/hanliu/miniconda3/envs/clustering/lib/python3.7/site-packages/ipykernel_launcher.py:1: FutureWarning: to_msgpack is deprecated and will be removed in a future version.\n",
      "It is recommended to use pyarrow for on-the-wire transmission of pandas objects.\n",
      "  \"\"\"Entry point for launching an IPython kernel.\n"
     ]
    }
   ],
   "source": [
    "motif_enrich_df.to_msgpack(output_dir / f'{group}.motif_enrichment.msg')"
   ]
  },
  {
   "cell_type": "code",
   "execution_count": 18,
   "metadata": {
    "ExecuteTime": {
     "end_time": "2020-01-14T06:18:37.114285Z",
     "start_time": "2020-01-14T06:18:37.105716Z"
    }
   },
   "outputs": [],
   "source": [
    "pybedtools.cleanup()"
   ]
  },
  {
   "cell_type": "code",
   "execution_count": 19,
   "metadata": {
    "ExecuteTime": {
     "end_time": "2020-01-14T06:18:37.133796Z",
     "start_time": "2020-01-14T06:18:37.115607Z"
    }
   },
   "outputs": [
    {
     "data": {
      "text/html": [
       "<div>\n",
       "<style scoped>\n",
       "    .dataframe tbody tr th:only-of-type {\n",
       "        vertical-align: middle;\n",
       "    }\n",
       "\n",
       "    .dataframe tbody tr th {\n",
       "        vertical-align: top;\n",
       "    }\n",
       "\n",
       "    .dataframe thead th {\n",
       "        text-align: right;\n",
       "    }\n",
       "</style>\n",
       "<table border=\"1\" class=\"dataframe\">\n",
       "  <thead>\n",
       "    <tr style=\"text-align: right;\">\n",
       "      <th></th>\n",
       "      <th>oddsratio</th>\n",
       "      <th>p_value</th>\n",
       "      <th>adj_p</th>\n",
       "      <th>-lgp</th>\n",
       "      <th>tp</th>\n",
       "      <th>tn</th>\n",
       "      <th>fp</th>\n",
       "      <th>fn</th>\n",
       "      <th>tp_rate</th>\n",
       "      <th>fp_rate</th>\n",
       "      <th>Group</th>\n",
       "    </tr>\n",
       "  </thead>\n",
       "  <tbody>\n",
       "    <tr>\n",
       "      <th>MA0091.1</th>\n",
       "      <td>1.929246</td>\n",
       "      <td>8.642672e-61</td>\n",
       "      <td>2.071360e-59</td>\n",
       "      <td>58.683744</td>\n",
       "      <td>995.0</td>\n",
       "      <td>73604.0</td>\n",
       "      <td>2313.0</td>\n",
       "      <td>330097.0</td>\n",
       "      <td>0.013338</td>\n",
       "      <td>0.006958</td>\n",
       "      <td>IT-L23+ACA</td>\n",
       "    </tr>\n",
       "    <tr>\n",
       "      <th>MA0095.2</th>\n",
       "      <td>1.614896</td>\n",
       "      <td>5.419275e-22</td>\n",
       "      <td>8.658798e-21</td>\n",
       "      <td>20.062542</td>\n",
       "      <td>594.0</td>\n",
       "      <td>74005.0</td>\n",
       "      <td>1644.0</td>\n",
       "      <td>330766.0</td>\n",
       "      <td>0.007963</td>\n",
       "      <td>0.004946</td>\n",
       "      <td>IT-L23+ACA</td>\n",
       "    </tr>\n",
       "    <tr>\n",
       "      <th>MA0143.4</th>\n",
       "      <td>1.513439</td>\n",
       "      <td>2.318778e-125</td>\n",
       "      <td>9.262230e-124</td>\n",
       "      <td>123.033284</td>\n",
       "      <td>4990.0</td>\n",
       "      <td>69609.0</td>\n",
       "      <td>15033.0</td>\n",
       "      <td>317377.0</td>\n",
       "      <td>0.066891</td>\n",
       "      <td>0.045224</td>\n",
       "      <td>IT-L23+ACA</td>\n",
       "    </tr>\n",
       "    <tr>\n",
       "      <th>MA0461.2</th>\n",
       "      <td>3.432165</td>\n",
       "      <td>0.000000e+00</td>\n",
       "      <td>0.000000e+00</td>\n",
       "      <td>300.000000</td>\n",
       "      <td>2157.0</td>\n",
       "      <td>72442.0</td>\n",
       "      <td>2859.0</td>\n",
       "      <td>329551.0</td>\n",
       "      <td>0.028915</td>\n",
       "      <td>0.008601</td>\n",
       "      <td>IT-L23+ACA</td>\n",
       "    </tr>\n",
       "    <tr>\n",
       "      <th>MA0507.1</th>\n",
       "      <td>1.569844</td>\n",
       "      <td>1.795169e-36</td>\n",
       "      <td>3.488450e-35</td>\n",
       "      <td>34.457367</td>\n",
       "      <td>1147.0</td>\n",
       "      <td>73452.0</td>\n",
       "      <td>3274.0</td>\n",
       "      <td>329136.0</td>\n",
       "      <td>0.015376</td>\n",
       "      <td>0.009849</td>\n",
       "      <td>IT-L23+ACA</td>\n",
       "    </tr>\n",
       "    <tr>\n",
       "      <th>MA0509.2</th>\n",
       "      <td>1.589703</td>\n",
       "      <td>8.239575e-18</td>\n",
       "      <td>1.234220e-16</td>\n",
       "      <td>15.908608</td>\n",
       "      <td>500.0</td>\n",
       "      <td>74099.0</td>\n",
       "      <td>1405.0</td>\n",
       "      <td>331005.0</td>\n",
       "      <td>0.006703</td>\n",
       "      <td>0.004227</td>\n",
       "      <td>IT-L23+ACA</td>\n",
       "    </tr>\n",
       "    <tr>\n",
       "      <th>MA0607.1</th>\n",
       "      <td>2.555889</td>\n",
       "      <td>0.000000e+00</td>\n",
       "      <td>0.000000e+00</td>\n",
       "      <td>300.000000</td>\n",
       "      <td>6264.0</td>\n",
       "      <td>68335.0</td>\n",
       "      <td>11509.0</td>\n",
       "      <td>320901.0</td>\n",
       "      <td>0.083969</td>\n",
       "      <td>0.034623</td>\n",
       "      <td>IT-L23+ACA</td>\n",
       "    </tr>\n",
       "    <tr>\n",
       "      <th>MA0623.2</th>\n",
       "      <td>3.103463</td>\n",
       "      <td>1.149344e-236</td>\n",
       "      <td>9.181982e-235</td>\n",
       "      <td>234.037064</td>\n",
       "      <td>1608.0</td>\n",
       "      <td>72991.0</td>\n",
       "      <td>2343.0</td>\n",
       "      <td>330067.0</td>\n",
       "      <td>0.021555</td>\n",
       "      <td>0.007049</td>\n",
       "      <td>IT-L23+ACA</td>\n",
       "    </tr>\n",
       "    <tr>\n",
       "      <th>MA0627.2</th>\n",
       "      <td>1.512504</td>\n",
       "      <td>1.347807e-20</td>\n",
       "      <td>2.061859e-19</td>\n",
       "      <td>18.685741</td>\n",
       "      <td>724.0</td>\n",
       "      <td>73875.0</td>\n",
       "      <td>2140.0</td>\n",
       "      <td>330270.0</td>\n",
       "      <td>0.009705</td>\n",
       "      <td>0.006438</td>\n",
       "      <td>IT-L23+ACA</td>\n",
       "    </tr>\n",
       "    <tr>\n",
       "      <th>MA0633.1</th>\n",
       "      <td>3.173786</td>\n",
       "      <td>0.000000e+00</td>\n",
       "      <td>0.000000e+00</td>\n",
       "      <td>300.000000</td>\n",
       "      <td>2281.0</td>\n",
       "      <td>72318.0</td>\n",
       "      <td>3271.0</td>\n",
       "      <td>329139.0</td>\n",
       "      <td>0.030577</td>\n",
       "      <td>0.009840</td>\n",
       "      <td>IT-L23+ACA</td>\n",
       "    </tr>\n",
       "    <tr>\n",
       "      <th>MA0668.1</th>\n",
       "      <td>4.049797</td>\n",
       "      <td>3.389501e-268</td>\n",
       "      <td>3.046314e-266</td>\n",
       "      <td>265.516225</td>\n",
       "      <td>1320.0</td>\n",
       "      <td>73279.0</td>\n",
       "      <td>1472.0</td>\n",
       "      <td>330938.0</td>\n",
       "      <td>0.017695</td>\n",
       "      <td>0.004428</td>\n",
       "      <td>IT-L23+ACA</td>\n",
       "    </tr>\n",
       "    <tr>\n",
       "      <th>MA0669.1</th>\n",
       "      <td>2.839401</td>\n",
       "      <td>2.387789e-112</td>\n",
       "      <td>8.175333e-111</td>\n",
       "      <td>110.087495</td>\n",
       "      <td>857.0</td>\n",
       "      <td>73742.0</td>\n",
       "      <td>1355.0</td>\n",
       "      <td>331055.0</td>\n",
       "      <td>0.011488</td>\n",
       "      <td>0.004076</td>\n",
       "      <td>IT-L23+ACA</td>\n",
       "    </tr>\n",
       "    <tr>\n",
       "      <th>MA0678.1</th>\n",
       "      <td>4.646136</td>\n",
       "      <td>3.220949e-236</td>\n",
       "      <td>2.315862e-234</td>\n",
       "      <td>233.635287</td>\n",
       "      <td>1013.0</td>\n",
       "      <td>73586.0</td>\n",
       "      <td>982.0</td>\n",
       "      <td>331428.0</td>\n",
       "      <td>0.013579</td>\n",
       "      <td>0.002954</td>\n",
       "      <td>IT-L23+ACA</td>\n",
       "    </tr>\n",
       "    <tr>\n",
       "      <th>MA0785.1</th>\n",
       "      <td>1.565291</td>\n",
       "      <td>6.489333e-28</td>\n",
       "      <td>1.110912e-26</td>\n",
       "      <td>25.954320</td>\n",
       "      <td>871.0</td>\n",
       "      <td>73728.0</td>\n",
       "      <td>2490.0</td>\n",
       "      <td>329920.0</td>\n",
       "      <td>0.011676</td>\n",
       "      <td>0.007491</td>\n",
       "      <td>IT-L23+ACA</td>\n",
       "    </tr>\n",
       "    <tr>\n",
       "      <th>MA0798.2</th>\n",
       "      <td>1.527474</td>\n",
       "      <td>6.434603e-12</td>\n",
       "      <td>7.584393e-11</td>\n",
       "      <td>10.120079</td>\n",
       "      <td>373.0</td>\n",
       "      <td>74226.0</td>\n",
       "      <td>1090.0</td>\n",
       "      <td>331320.0</td>\n",
       "      <td>0.005000</td>\n",
       "      <td>0.003279</td>\n",
       "      <td>IT-L23+ACA</td>\n",
       "    </tr>\n",
       "    <tr>\n",
       "      <th>MA0817.1</th>\n",
       "      <td>3.840088</td>\n",
       "      <td>1.331205e-133</td>\n",
       "      <td>5.630213e-132</td>\n",
       "      <td>131.249475</td>\n",
       "      <td>689.0</td>\n",
       "      <td>73910.0</td>\n",
       "      <td>805.0</td>\n",
       "      <td>331605.0</td>\n",
       "      <td>0.009236</td>\n",
       "      <td>0.002422</td>\n",
       "      <td>IT-L23+ACA</td>\n",
       "    </tr>\n",
       "    <tr>\n",
       "      <th>MA0818.1</th>\n",
       "      <td>3.728721</td>\n",
       "      <td>0.000000e+00</td>\n",
       "      <td>0.000000e+00</td>\n",
       "      <td>300.000000</td>\n",
       "      <td>2070.0</td>\n",
       "      <td>72529.0</td>\n",
       "      <td>2525.0</td>\n",
       "      <td>329885.0</td>\n",
       "      <td>0.027748</td>\n",
       "      <td>0.007596</td>\n",
       "      <td>IT-L23+ACA</td>\n",
       "    </tr>\n",
       "    <tr>\n",
       "      <th>MA0826.1</th>\n",
       "      <td>4.297819</td>\n",
       "      <td>7.730921e-211</td>\n",
       "      <td>4.632110e-209</td>\n",
       "      <td>208.334221</td>\n",
       "      <td>973.0</td>\n",
       "      <td>73626.0</td>\n",
       "      <td>1019.0</td>\n",
       "      <td>331391.0</td>\n",
       "      <td>0.013043</td>\n",
       "      <td>0.003065</td>\n",
       "      <td>IT-L23+ACA</td>\n",
       "    </tr>\n",
       "    <tr>\n",
       "      <th>MA0827.1</th>\n",
       "      <td>4.112146</td>\n",
       "      <td>2.213576e-313</td>\n",
       "      <td>2.273659e-311</td>\n",
       "      <td>310.643275</td>\n",
       "      <td>1521.0</td>\n",
       "      <td>73078.0</td>\n",
       "      <td>1674.0</td>\n",
       "      <td>330736.0</td>\n",
       "      <td>0.020389</td>\n",
       "      <td>0.005036</td>\n",
       "      <td>IT-L23+ACA</td>\n",
       "    </tr>\n",
       "    <tr>\n",
       "      <th>MA0868.2</th>\n",
       "      <td>1.519173</td>\n",
       "      <td>1.135724e-26</td>\n",
       "      <td>1.899036e-25</td>\n",
       "      <td>24.721467</td>\n",
       "      <td>942.0</td>\n",
       "      <td>73657.0</td>\n",
       "      <td>2775.0</td>\n",
       "      <td>329635.0</td>\n",
       "      <td>0.012628</td>\n",
       "      <td>0.008348</td>\n",
       "      <td>IT-L23+ACA</td>\n",
       "    </tr>\n",
       "    <tr>\n",
       "      <th>MA1109.1</th>\n",
       "      <td>2.165205</td>\n",
       "      <td>7.770754e-226</td>\n",
       "      <td>5.079247e-224</td>\n",
       "      <td>223.294201</td>\n",
       "      <td>2909.0</td>\n",
       "      <td>71690.0</td>\n",
       "      <td>6115.0</td>\n",
       "      <td>326295.0</td>\n",
       "      <td>0.038995</td>\n",
       "      <td>0.018396</td>\n",
       "      <td>IT-L23+ACA</td>\n",
       "    </tr>\n",
       "    <tr>\n",
       "      <th>MA1468.1</th>\n",
       "      <td>3.522648</td>\n",
       "      <td>0.000000e+00</td>\n",
       "      <td>0.000000e+00</td>\n",
       "      <td>300.000000</td>\n",
       "      <td>2194.0</td>\n",
       "      <td>72405.0</td>\n",
       "      <td>2835.0</td>\n",
       "      <td>329575.0</td>\n",
       "      <td>0.029411</td>\n",
       "      <td>0.008529</td>\n",
       "      <td>IT-L23+ACA</td>\n",
       "    </tr>\n",
       "    <tr>\n",
       "      <th>MA1478.1</th>\n",
       "      <td>1.529815</td>\n",
       "      <td>3.139461e-25</td>\n",
       "      <td>5.130164e-24</td>\n",
       "      <td>23.289869</td>\n",
       "      <td>860.0</td>\n",
       "      <td>73739.0</td>\n",
       "      <td>2515.0</td>\n",
       "      <td>329895.0</td>\n",
       "      <td>0.011528</td>\n",
       "      <td>0.007566</td>\n",
       "      <td>IT-L23+ACA</td>\n",
       "    </tr>\n",
       "    <tr>\n",
       "      <th>MA1479.1</th>\n",
       "      <td>1.526904</td>\n",
       "      <td>3.287211e-13</td>\n",
       "      <td>4.146499e-12</td>\n",
       "      <td>11.382318</td>\n",
       "      <td>421.0</td>\n",
       "      <td>74178.0</td>\n",
       "      <td>1231.0</td>\n",
       "      <td>331179.0</td>\n",
       "      <td>0.005644</td>\n",
       "      <td>0.003703</td>\n",
       "      <td>IT-L23+ACA</td>\n",
       "    </tr>\n",
       "    <tr>\n",
       "      <th>MA1524.1</th>\n",
       "      <td>1.909006</td>\n",
       "      <td>1.263294e-107</td>\n",
       "      <td>4.128673e-106</td>\n",
       "      <td>105.384189</td>\n",
       "      <td>1853.0</td>\n",
       "      <td>72746.0</td>\n",
       "      <td>4377.0</td>\n",
       "      <td>328033.0</td>\n",
       "      <td>0.024839</td>\n",
       "      <td>0.013167</td>\n",
       "      <td>IT-L23+ACA</td>\n",
       "    </tr>\n",
       "    <tr>\n",
       "      <th>MA1568.1</th>\n",
       "      <td>4.506295</td>\n",
       "      <td>7.840837e-117</td>\n",
       "      <td>2.818781e-115</td>\n",
       "      <td>114.549939</td>\n",
       "      <td>510.0</td>\n",
       "      <td>74089.0</td>\n",
       "      <td>507.0</td>\n",
       "      <td>331903.0</td>\n",
       "      <td>0.006837</td>\n",
       "      <td>0.001525</td>\n",
       "      <td>IT-L23+ACA</td>\n",
       "    </tr>\n",
       "    <tr>\n",
       "      <th>MA1570.1</th>\n",
       "      <td>1.868749</td>\n",
       "      <td>8.581870e-156</td>\n",
       "      <td>4.113576e-154</td>\n",
       "      <td>153.385780</td>\n",
       "      <td>2889.0</td>\n",
       "      <td>71710.0</td>\n",
       "      <td>7015.0</td>\n",
       "      <td>325395.0</td>\n",
       "      <td>0.038727</td>\n",
       "      <td>0.021103</td>\n",
       "      <td>IT-L23+ACA</td>\n",
       "    </tr>\n",
       "    <tr>\n",
       "      <th>MA1642.1</th>\n",
       "      <td>2.180634</td>\n",
       "      <td>0.000000e+00</td>\n",
       "      <td>0.000000e+00</td>\n",
       "      <td>300.000000</td>\n",
       "      <td>4895.0</td>\n",
       "      <td>69704.0</td>\n",
       "      <td>10371.0</td>\n",
       "      <td>322039.0</td>\n",
       "      <td>0.065618</td>\n",
       "      <td>0.031199</td>\n",
       "      <td>IT-L23+ACA</td>\n",
       "    </tr>\n",
       "    <tr>\n",
       "      <th>MA1651.1</th>\n",
       "      <td>1.575168</td>\n",
       "      <td>9.390829e-13</td>\n",
       "      <td>1.125334e-11</td>\n",
       "      <td>10.948718</td>\n",
       "      <td>355.0</td>\n",
       "      <td>74244.0</td>\n",
       "      <td>1006.0</td>\n",
       "      <td>331404.0</td>\n",
       "      <td>0.004759</td>\n",
       "      <td>0.003026</td>\n",
       "      <td>IT-L23+ACA</td>\n",
       "    </tr>\n",
       "  </tbody>\n",
       "</table>\n",
       "</div>"
      ],
      "text/plain": [
       "          oddsratio        p_value          adj_p        -lgp      tp  \\\n",
       "MA0091.1   1.929246   8.642672e-61   2.071360e-59   58.683744   995.0   \n",
       "MA0095.2   1.614896   5.419275e-22   8.658798e-21   20.062542   594.0   \n",
       "MA0143.4   1.513439  2.318778e-125  9.262230e-124  123.033284  4990.0   \n",
       "MA0461.2   3.432165   0.000000e+00   0.000000e+00  300.000000  2157.0   \n",
       "MA0507.1   1.569844   1.795169e-36   3.488450e-35   34.457367  1147.0   \n",
       "MA0509.2   1.589703   8.239575e-18   1.234220e-16   15.908608   500.0   \n",
       "MA0607.1   2.555889   0.000000e+00   0.000000e+00  300.000000  6264.0   \n",
       "MA0623.2   3.103463  1.149344e-236  9.181982e-235  234.037064  1608.0   \n",
       "MA0627.2   1.512504   1.347807e-20   2.061859e-19   18.685741   724.0   \n",
       "MA0633.1   3.173786   0.000000e+00   0.000000e+00  300.000000  2281.0   \n",
       "MA0668.1   4.049797  3.389501e-268  3.046314e-266  265.516225  1320.0   \n",
       "MA0669.1   2.839401  2.387789e-112  8.175333e-111  110.087495   857.0   \n",
       "MA0678.1   4.646136  3.220949e-236  2.315862e-234  233.635287  1013.0   \n",
       "MA0785.1   1.565291   6.489333e-28   1.110912e-26   25.954320   871.0   \n",
       "MA0798.2   1.527474   6.434603e-12   7.584393e-11   10.120079   373.0   \n",
       "MA0817.1   3.840088  1.331205e-133  5.630213e-132  131.249475   689.0   \n",
       "MA0818.1   3.728721   0.000000e+00   0.000000e+00  300.000000  2070.0   \n",
       "MA0826.1   4.297819  7.730921e-211  4.632110e-209  208.334221   973.0   \n",
       "MA0827.1   4.112146  2.213576e-313  2.273659e-311  310.643275  1521.0   \n",
       "MA0868.2   1.519173   1.135724e-26   1.899036e-25   24.721467   942.0   \n",
       "MA1109.1   2.165205  7.770754e-226  5.079247e-224  223.294201  2909.0   \n",
       "MA1468.1   3.522648   0.000000e+00   0.000000e+00  300.000000  2194.0   \n",
       "MA1478.1   1.529815   3.139461e-25   5.130164e-24   23.289869   860.0   \n",
       "MA1479.1   1.526904   3.287211e-13   4.146499e-12   11.382318   421.0   \n",
       "MA1524.1   1.909006  1.263294e-107  4.128673e-106  105.384189  1853.0   \n",
       "MA1568.1   4.506295  7.840837e-117  2.818781e-115  114.549939   510.0   \n",
       "MA1570.1   1.868749  8.581870e-156  4.113576e-154  153.385780  2889.0   \n",
       "MA1642.1   2.180634   0.000000e+00   0.000000e+00  300.000000  4895.0   \n",
       "MA1651.1   1.575168   9.390829e-13   1.125334e-11   10.948718   355.0   \n",
       "\n",
       "               tn       fp        fn   tp_rate   fp_rate       Group  \n",
       "MA0091.1  73604.0   2313.0  330097.0  0.013338  0.006958  IT-L23+ACA  \n",
       "MA0095.2  74005.0   1644.0  330766.0  0.007963  0.004946  IT-L23+ACA  \n",
       "MA0143.4  69609.0  15033.0  317377.0  0.066891  0.045224  IT-L23+ACA  \n",
       "MA0461.2  72442.0   2859.0  329551.0  0.028915  0.008601  IT-L23+ACA  \n",
       "MA0507.1  73452.0   3274.0  329136.0  0.015376  0.009849  IT-L23+ACA  \n",
       "MA0509.2  74099.0   1405.0  331005.0  0.006703  0.004227  IT-L23+ACA  \n",
       "MA0607.1  68335.0  11509.0  320901.0  0.083969  0.034623  IT-L23+ACA  \n",
       "MA0623.2  72991.0   2343.0  330067.0  0.021555  0.007049  IT-L23+ACA  \n",
       "MA0627.2  73875.0   2140.0  330270.0  0.009705  0.006438  IT-L23+ACA  \n",
       "MA0633.1  72318.0   3271.0  329139.0  0.030577  0.009840  IT-L23+ACA  \n",
       "MA0668.1  73279.0   1472.0  330938.0  0.017695  0.004428  IT-L23+ACA  \n",
       "MA0669.1  73742.0   1355.0  331055.0  0.011488  0.004076  IT-L23+ACA  \n",
       "MA0678.1  73586.0    982.0  331428.0  0.013579  0.002954  IT-L23+ACA  \n",
       "MA0785.1  73728.0   2490.0  329920.0  0.011676  0.007491  IT-L23+ACA  \n",
       "MA0798.2  74226.0   1090.0  331320.0  0.005000  0.003279  IT-L23+ACA  \n",
       "MA0817.1  73910.0    805.0  331605.0  0.009236  0.002422  IT-L23+ACA  \n",
       "MA0818.1  72529.0   2525.0  329885.0  0.027748  0.007596  IT-L23+ACA  \n",
       "MA0826.1  73626.0   1019.0  331391.0  0.013043  0.003065  IT-L23+ACA  \n",
       "MA0827.1  73078.0   1674.0  330736.0  0.020389  0.005036  IT-L23+ACA  \n",
       "MA0868.2  73657.0   2775.0  329635.0  0.012628  0.008348  IT-L23+ACA  \n",
       "MA1109.1  71690.0   6115.0  326295.0  0.038995  0.018396  IT-L23+ACA  \n",
       "MA1468.1  72405.0   2835.0  329575.0  0.029411  0.008529  IT-L23+ACA  \n",
       "MA1478.1  73739.0   2515.0  329895.0  0.011528  0.007566  IT-L23+ACA  \n",
       "MA1479.1  74178.0   1231.0  331179.0  0.005644  0.003703  IT-L23+ACA  \n",
       "MA1524.1  72746.0   4377.0  328033.0  0.024839  0.013167  IT-L23+ACA  \n",
       "MA1568.1  74089.0    507.0  331903.0  0.006837  0.001525  IT-L23+ACA  \n",
       "MA1570.1  71710.0   7015.0  325395.0  0.038727  0.021103  IT-L23+ACA  \n",
       "MA1642.1  69704.0  10371.0  322039.0  0.065618  0.031199  IT-L23+ACA  \n",
       "MA1651.1  74244.0   1006.0  331404.0  0.004759  0.003026  IT-L23+ACA  "
      ]
     },
     "execution_count": 19,
     "metadata": {},
     "output_type": "execute_result"
    }
   ],
   "source": [
    "filtered_motif_df"
   ]
  },
  {
   "cell_type": "code",
   "execution_count": null,
   "metadata": {},
   "outputs": [],
   "source": []
  }
 ],
 "metadata": {
  "hide_input": false,
  "kernelspec": {
   "display_name": "Python 3",
   "language": "python",
   "name": "python3"
  },
  "language_info": {
   "codemirror_mode": {
    "name": "ipython",
    "version": 3
   },
   "file_extension": ".py",
   "mimetype": "text/x-python",
   "name": "python",
   "nbconvert_exporter": "python",
   "pygments_lexer": "ipython3",
   "version": "3.7.3"
  },
  "toc": {
   "base_numbering": 1,
   "nav_menu": {},
   "number_sections": true,
   "sideBar": true,
   "skip_h1_title": true,
   "title_cell": "Table of Contents",
   "title_sidebar": "Contents",
   "toc_cell": false,
   "toc_position": {},
   "toc_section_display": true,
   "toc_window_display": true
  }
 },
 "nbformat": 4,
 "nbformat_minor": 2
}
