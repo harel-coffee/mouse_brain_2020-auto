{
 "cells": [
  {
   "cell_type": "code",
   "execution_count": 1,
   "metadata": {
    "ExecuteTime": {
     "end_time": "2020-02-08T01:00:18.399649Z",
     "start_time": "2020-02-08T01:00:17.481851Z"
    },
    "papermill": {
     "duration": 0.452177,
     "end_time": "2020-03-22T03:41:41.227957",
     "exception": false,
     "start_time": "2020-03-22T03:41:40.775780",
     "status": "completed"
    },
    "tags": []
   },
   "outputs": [],
   "source": [
    "import pathlib\n",
    "import numpy as np\n",
    "import pandas as pd\n",
    "from scipy.sparse import csr_matrix\n",
    "import anndata\n",
    "from pybedtools import BedTool"
   ]
  },
  {
   "cell_type": "markdown",
   "metadata": {
    "ExecuteTime": {
     "end_time": "2020-01-10T03:41:10.279754Z",
     "start_time": "2020-01-10T03:41:10.259634Z"
    },
    "papermill": {
     "duration": 0.010852,
     "end_time": "2020-03-22T03:41:41.251287",
     "exception": false,
     "start_time": "2020-03-22T03:41:41.240435",
     "status": "completed"
    },
    "tags": []
   },
   "source": [
    "## Parameter"
   ]
  },
  {
   "cell_type": "code",
   "execution_count": 2,
   "metadata": {
    "ExecuteTime": {
     "end_time": "2020-02-08T01:00:19.795359Z",
     "start_time": "2020-02-08T01:00:19.792363Z"
    },
    "papermill": {
     "duration": 0.016291,
     "end_time": "2020-03-22T03:41:41.278238",
     "exception": false,
     "start_time": "2020-03-22T03:41:41.261947",
     "status": "completed"
    },
    "tags": [
     "parameters"
    ]
   },
   "outputs": [],
   "source": [
    "dmr_path = '/home/hanliu/project/mouse_rostral_brain/DMR/ITSpatial/ITSpatial_rms_results_collapsed.tsv'\n",
    "dmr_prefix = 'DGmCH'\n",
    "\n",
    "black_list_path = '/home/hanliu/ref/blacklist/mm10-blacklist.v2.bed.gz'\n",
    "skip_quantile = 0.25\n",
    "delta_to_mean = 0.1\n",
    "dms_cutoff = 1"
   ]
  },
  {
   "cell_type": "code",
   "execution_count": 3,
   "metadata": {
    "papermill": {
     "duration": 0.016148,
     "end_time": "2020-03-22T03:41:41.305016",
     "exception": false,
     "start_time": "2020-03-22T03:41:41.288868",
     "status": "completed"
    },
    "tags": [
     "injected-parameters"
    ]
   },
   "outputs": [],
   "source": [
    "# Parameters\n",
    "dmr_path = \"/home/hanliu/project/mouse_rostral_brain/DMR/ITSpatial_DissectionRegion/ITSpatial_rms_results_collapsed.tsv\"\n",
    "dmr_prefix = \"ITSpatial\"\n",
    "black_list_path = \"/home/hanliu/ref/blacklist/mm10-blacklist.v2.bed.gz\"\n",
    "skip_quantile = 0.25\n",
    "delta_to_mean = 0.3\n",
    "dms_cutoff = 2\n"
   ]
  },
  {
   "cell_type": "markdown",
   "metadata": {
    "papermill": {
     "duration": 0.010569,
     "end_time": "2020-03-22T03:41:41.326172",
     "exception": false,
     "start_time": "2020-03-22T03:41:41.315603",
     "status": "completed"
    },
    "tags": []
   },
   "source": [
    "## Read DMR"
   ]
  },
  {
   "cell_type": "code",
   "execution_count": 4,
   "metadata": {
    "ExecuteTime": {
     "end_time": "2020-02-08T01:00:55.634303Z",
     "start_time": "2020-02-08T01:00:42.884263Z"
    },
    "papermill": {
     "duration": 20.715225,
     "end_time": "2020-03-22T03:42:02.052145",
     "exception": false,
     "start_time": "2020-03-22T03:41:41.336920",
     "status": "completed"
    },
    "scrolled": true,
    "tags": []
   },
   "outputs": [
    {
     "name": "stdout",
     "output_type": "stream",
     "text": [
      "1520507 dmr before filter\n"
     ]
    }
   ],
   "source": [
    "# get column and n_sample\n",
    "dmr_column = pd.read_csv(dmr_path, sep='\\t', nrows=0).columns\n",
    "n_sample = dmr_column.size - 6\n",
    "dmr_column = dmr_column.map(lambda i: i[18:] if 'methylation_level_' in i else i)\n",
    "samples = dmr_column[6:]\n",
    "\n",
    "dmr_region_infos = []\n",
    "mc_rates = []\n",
    "hypo_sig_dict = {sample: [] for sample in samples}\n",
    "hyper_sig_dict = {sample: [] for sample in samples}\n",
    "\n",
    "dmr_df = pd.read_csv(dmr_path, sep='\\t', skiprows=1, names=dmr_column)\n",
    "print(dmr_df.shape[0], 'dmr before filter')\n",
    "dmr_df.index = dmr_df.index.map(lambda i: f'{dmr_prefix}_{i}')\n",
    "\n",
    "# save raw info\n",
    "dmr_bed = dmr_df.iloc[:, :4].copy()\n",
    "mc_rate = dmr_df.iloc[:, 6:].copy()"
   ]
  },
  {
   "cell_type": "markdown",
   "metadata": {
    "papermill": {
     "duration": 0.011111,
     "end_time": "2020-03-22T03:42:02.075383",
     "exception": false,
     "start_time": "2020-03-22T03:42:02.064272",
     "status": "completed"
    },
    "tags": []
   },
   "source": [
    "## Save unfiltered dmr info"
   ]
  },
  {
   "cell_type": "code",
   "execution_count": 5,
   "metadata": {
    "ExecuteTime": {
     "end_time": "2020-01-11T22:35:16.445637Z",
     "start_time": "2020-01-11T22:35:10.772172Z"
    },
    "papermill": {
     "duration": 3.533759,
     "end_time": "2020-03-22T03:42:05.619926",
     "exception": false,
     "start_time": "2020-03-22T03:42:02.086167",
     "status": "completed"
    },
    "tags": []
   },
   "outputs": [],
   "source": [
    "with pd.HDFStore(pathlib.Path(dmr_path).parent / 'DMRInfo.h5') as hdf:\n",
    "    hdf['Rate'] = mc_rate\n",
    "    hdf['Bed'] = dmr_bed"
   ]
  },
  {
   "cell_type": "code",
   "execution_count": 6,
   "metadata": {
    "ExecuteTime": {
     "end_time": "2020-01-11T22:35:21.606943Z",
     "start_time": "2020-01-11T22:35:16.447435Z"
    },
    "papermill": {
     "duration": 4.171906,
     "end_time": "2020-03-22T03:42:09.803992",
     "exception": false,
     "start_time": "2020-03-22T03:42:05.632086",
     "status": "completed"
    },
    "tags": []
   },
   "outputs": [],
   "source": [
    "dmr_bed.reset_index().iloc[:, [1, 2, 3, 0]].to_csv(pathlib.Path(dmr_path).parent / 'TotalDMR.nofilter.bed', \n",
    "                                                   index=None, header=None, sep='\\t')"
   ]
  },
  {
   "cell_type": "markdown",
   "metadata": {
    "papermill": {
     "duration": 0.010965,
     "end_time": "2020-03-22T03:42:09.826699",
     "exception": false,
     "start_time": "2020-03-22T03:42:09.815734",
     "status": "completed"
    },
    "tags": []
   },
   "source": [
    "## Filter DMR based on min-max delta and blacklist"
   ]
  },
  {
   "cell_type": "code",
   "execution_count": 7,
   "metadata": {
    "ExecuteTime": {
     "end_time": "2020-01-11T22:35:55.834942Z",
     "start_time": "2020-01-11T22:35:54.438986Z"
    },
    "papermill": {
     "duration": 3.007901,
     "end_time": "2020-03-22T03:42:12.845114",
     "exception": false,
     "start_time": "2020-03-22T03:42:09.837213",
     "status": "completed"
    },
    "tags": []
   },
   "outputs": [
    {
     "name": "stdout",
     "output_type": "stream",
     "text": [
      "1334398 dmr pass delta filter\n"
     ]
    }
   ],
   "source": [
    "# filter by min max delta first, if DMR do not pass min max filter, it won't have sig sample anyway\n",
    "delta_judge = (mc_rate.max(axis=1) - mc_rate.min(axis=1)) > delta_to_mean\n",
    "delta_index = mc_rate.index[delta_judge]\n",
    "\n",
    "print(delta_index.size, 'dmr pass delta filter')"
   ]
  },
  {
   "cell_type": "code",
   "execution_count": 8,
   "metadata": {
    "ExecuteTime": {
     "end_time": "2020-01-11T22:36:06.271131Z",
     "start_time": "2020-01-11T22:35:57.053249Z"
    },
    "papermill": {
     "duration": 7.879215,
     "end_time": "2020-03-22T03:42:20.736262",
     "exception": false,
     "start_time": "2020-03-22T03:42:12.857047",
     "status": "completed"
    },
    "tags": []
   },
   "outputs": [
    {
     "name": "stdout",
     "output_type": "stream",
     "text": [
      "1500682 dmr pass blacklist filter\n"
     ]
    }
   ],
   "source": [
    "# filter by blacklist\n",
    "black_list = pd.read_csv(black_list_path, sep='\\t', header=None)\n",
    "black_list = BedTool.from_dataframe(black_list)\n",
    "\n",
    "_dmr_bed = BedTool.from_dataframe(dmr_bed.reset_index().iloc[:, [1,2,3,0]])\n",
    "filtered_dmr_bed = _dmr_bed.intersect(black_list, v=True).to_dataframe().set_index('name')\n",
    "\n",
    "white_index = filtered_dmr_bed.index\n",
    "print(white_index.size, 'dmr pass blacklist filter')"
   ]
  },
  {
   "cell_type": "code",
   "execution_count": 9,
   "metadata": {
    "ExecuteTime": {
     "end_time": "2020-01-11T22:36:12.105983Z",
     "start_time": "2020-01-11T22:36:08.675938Z"
    },
    "papermill": {
     "duration": 5.088421,
     "end_time": "2020-03-22T03:42:25.836858",
     "exception": false,
     "start_time": "2020-03-22T03:42:20.748437",
     "status": "completed"
    },
    "tags": []
   },
   "outputs": [
    {
     "name": "stdout",
     "output_type": "stream",
     "text": [
      "739486 dmr after filter\n"
     ]
    },
    {
     "data": {
      "text/html": [
       "<div>\n",
       "<style scoped>\n",
       "    .dataframe tbody tr th:only-of-type {\n",
       "        vertical-align: middle;\n",
       "    }\n",
       "\n",
       "    .dataframe tbody tr th {\n",
       "        vertical-align: top;\n",
       "    }\n",
       "\n",
       "    .dataframe thead th {\n",
       "        text-align: right;\n",
       "    }\n",
       "</style>\n",
       "<table border=\"1\" class=\"dataframe\">\n",
       "  <thead>\n",
       "    <tr style=\"text-align: right;\">\n",
       "      <th></th>\n",
       "      <th>#chr</th>\n",
       "      <th>start</th>\n",
       "      <th>end</th>\n",
       "      <th>number_of_dms</th>\n",
       "      <th>hypermethylated_samples</th>\n",
       "      <th>hypomethylated_samples</th>\n",
       "      <th>IT-L6+ACA-1</th>\n",
       "      <th>IT-L5+MOs-2</th>\n",
       "      <th>IT-L23+MOs-1</th>\n",
       "      <th>IT-L5+ACA-3</th>\n",
       "      <th>...</th>\n",
       "      <th>IT-L5+SSs-1</th>\n",
       "      <th>IT-L6+PFC-2</th>\n",
       "      <th>IT-L6+MOs-2</th>\n",
       "      <th>IT-L5+SSp-3</th>\n",
       "      <th>IT-L6+PFC-1</th>\n",
       "      <th>IT-L6+ACA-2</th>\n",
       "      <th>IT-L6+SSp-3</th>\n",
       "      <th>IT-L6+ACA-3</th>\n",
       "      <th>IT-L6+MOp-4</th>\n",
       "      <th>IT-L6+MOp-3</th>\n",
       "    </tr>\n",
       "  </thead>\n",
       "  <tbody>\n",
       "    <tr>\n",
       "      <th>ITSpatial_4</th>\n",
       "      <td>chr1</td>\n",
       "      <td>3013472</td>\n",
       "      <td>3013579</td>\n",
       "      <td>3</td>\n",
       "      <td>IT-L23+PFC-1</td>\n",
       "      <td>IT-L23+SSp-1,IT-L23+SSs-2,IT-L4+MOp-1,IT-L23+S...</td>\n",
       "      <td>0.947368</td>\n",
       "      <td>0.911765</td>\n",
       "      <td>0.824324</td>\n",
       "      <td>0.923077</td>\n",
       "      <td>...</td>\n",
       "      <td>0.842105</td>\n",
       "      <td>0.865385</td>\n",
       "      <td>0.935484</td>\n",
       "      <td>0.921569</td>\n",
       "      <td>0.931034</td>\n",
       "      <td>1.000000</td>\n",
       "      <td>0.829268</td>\n",
       "      <td>0.968750</td>\n",
       "      <td>0.950000</td>\n",
       "      <td>0.820000</td>\n",
       "    </tr>\n",
       "    <tr>\n",
       "      <th>ITSpatial_7</th>\n",
       "      <td>chr1</td>\n",
       "      <td>3027398</td>\n",
       "      <td>3027514</td>\n",
       "      <td>2</td>\n",
       "      <td>IT-L5+ACA-3,IT-L6+MOp-2,IT-L5+MOp-4,IT-L5+ACA-...</td>\n",
       "      <td>IT-L23+SSp-1,IT-L23+SSp-2,IT-L23+MOp-2,IT-L23+...</td>\n",
       "      <td>0.818182</td>\n",
       "      <td>0.706897</td>\n",
       "      <td>0.445783</td>\n",
       "      <td>0.790323</td>\n",
       "      <td>...</td>\n",
       "      <td>0.821429</td>\n",
       "      <td>0.719298</td>\n",
       "      <td>0.674419</td>\n",
       "      <td>0.674419</td>\n",
       "      <td>0.657895</td>\n",
       "      <td>0.685185</td>\n",
       "      <td>0.653061</td>\n",
       "      <td>0.829787</td>\n",
       "      <td>0.767442</td>\n",
       "      <td>0.710526</td>\n",
       "    </tr>\n",
       "    <tr>\n",
       "      <th>ITSpatial_10</th>\n",
       "      <td>chr1</td>\n",
       "      <td>3046233</td>\n",
       "      <td>3046317</td>\n",
       "      <td>2</td>\n",
       "      <td>NaN</td>\n",
       "      <td>IT-L23+SSp-1,IT-L23+MOp-2,IT-L23+SSp-3,IT-L23+...</td>\n",
       "      <td>0.964286</td>\n",
       "      <td>0.854167</td>\n",
       "      <td>0.793103</td>\n",
       "      <td>0.842857</td>\n",
       "      <td>...</td>\n",
       "      <td>0.941176</td>\n",
       "      <td>0.967213</td>\n",
       "      <td>0.925926</td>\n",
       "      <td>0.902439</td>\n",
       "      <td>0.928571</td>\n",
       "      <td>0.911765</td>\n",
       "      <td>0.875000</td>\n",
       "      <td>0.860465</td>\n",
       "      <td>0.942857</td>\n",
       "      <td>0.949153</td>\n",
       "    </tr>\n",
       "    <tr>\n",
       "      <th>ITSpatial_11</th>\n",
       "      <td>chr1</td>\n",
       "      <td>3046826</td>\n",
       "      <td>3047027</td>\n",
       "      <td>2</td>\n",
       "      <td>IT-L5+SSp-3</td>\n",
       "      <td>IT-L4+SSp-1,IT-L4+SSp-3,IT-L4+SSp-2,IT-L4+SSp-...</td>\n",
       "      <td>0.687500</td>\n",
       "      <td>0.854839</td>\n",
       "      <td>0.761905</td>\n",
       "      <td>0.957746</td>\n",
       "      <td>...</td>\n",
       "      <td>0.857143</td>\n",
       "      <td>0.814815</td>\n",
       "      <td>0.852941</td>\n",
       "      <td>0.980000</td>\n",
       "      <td>0.760000</td>\n",
       "      <td>0.735294</td>\n",
       "      <td>0.872340</td>\n",
       "      <td>0.750000</td>\n",
       "      <td>0.729167</td>\n",
       "      <td>0.875000</td>\n",
       "    </tr>\n",
       "    <tr>\n",
       "      <th>ITSpatial_13</th>\n",
       "      <td>chr1</td>\n",
       "      <td>3057752</td>\n",
       "      <td>3057873</td>\n",
       "      <td>3</td>\n",
       "      <td>IT-L23+MOp-1,IT-L23+PFC-1,IT-L5+AI,IT-L6+SSs-1...</td>\n",
       "      <td>IT-L5+ACA-3,IT-L5+SSp-5,IT-L23+ACA-3,IT-L4+SSp...</td>\n",
       "      <td>0.863636</td>\n",
       "      <td>0.769231</td>\n",
       "      <td>0.793651</td>\n",
       "      <td>0.476190</td>\n",
       "      <td>...</td>\n",
       "      <td>0.809524</td>\n",
       "      <td>0.933333</td>\n",
       "      <td>0.857143</td>\n",
       "      <td>0.630435</td>\n",
       "      <td>0.933333</td>\n",
       "      <td>0.930233</td>\n",
       "      <td>0.843750</td>\n",
       "      <td>0.950820</td>\n",
       "      <td>0.825397</td>\n",
       "      <td>0.923077</td>\n",
       "    </tr>\n",
       "  </tbody>\n",
       "</table>\n",
       "<p>5 rows × 79 columns</p>\n",
       "</div>"
      ],
      "text/plain": [
       "              #chr    start      end  number_of_dms  \\\n",
       "ITSpatial_4   chr1  3013472  3013579              3   \n",
       "ITSpatial_7   chr1  3027398  3027514              2   \n",
       "ITSpatial_10  chr1  3046233  3046317              2   \n",
       "ITSpatial_11  chr1  3046826  3047027              2   \n",
       "ITSpatial_13  chr1  3057752  3057873              3   \n",
       "\n",
       "                                        hypermethylated_samples  \\\n",
       "ITSpatial_4                                        IT-L23+PFC-1   \n",
       "ITSpatial_7   IT-L5+ACA-3,IT-L6+MOp-2,IT-L5+MOp-4,IT-L5+ACA-...   \n",
       "ITSpatial_10                                                NaN   \n",
       "ITSpatial_11                                        IT-L5+SSp-3   \n",
       "ITSpatial_13  IT-L23+MOp-1,IT-L23+PFC-1,IT-L5+AI,IT-L6+SSs-1...   \n",
       "\n",
       "                                         hypomethylated_samples  IT-L6+ACA-1  \\\n",
       "ITSpatial_4   IT-L23+SSp-1,IT-L23+SSs-2,IT-L4+MOp-1,IT-L23+S...     0.947368   \n",
       "ITSpatial_7   IT-L23+SSp-1,IT-L23+SSp-2,IT-L23+MOp-2,IT-L23+...     0.818182   \n",
       "ITSpatial_10  IT-L23+SSp-1,IT-L23+MOp-2,IT-L23+SSp-3,IT-L23+...     0.964286   \n",
       "ITSpatial_11  IT-L4+SSp-1,IT-L4+SSp-3,IT-L4+SSp-2,IT-L4+SSp-...     0.687500   \n",
       "ITSpatial_13  IT-L5+ACA-3,IT-L5+SSp-5,IT-L23+ACA-3,IT-L4+SSp...     0.863636   \n",
       "\n",
       "              IT-L5+MOs-2  IT-L23+MOs-1  IT-L5+ACA-3  ...  IT-L5+SSs-1  \\\n",
       "ITSpatial_4      0.911765      0.824324     0.923077  ...     0.842105   \n",
       "ITSpatial_7      0.706897      0.445783     0.790323  ...     0.821429   \n",
       "ITSpatial_10     0.854167      0.793103     0.842857  ...     0.941176   \n",
       "ITSpatial_11     0.854839      0.761905     0.957746  ...     0.857143   \n",
       "ITSpatial_13     0.769231      0.793651     0.476190  ...     0.809524   \n",
       "\n",
       "              IT-L6+PFC-2  IT-L6+MOs-2  IT-L5+SSp-3  IT-L6+PFC-1  IT-L6+ACA-2  \\\n",
       "ITSpatial_4      0.865385     0.935484     0.921569     0.931034     1.000000   \n",
       "ITSpatial_7      0.719298     0.674419     0.674419     0.657895     0.685185   \n",
       "ITSpatial_10     0.967213     0.925926     0.902439     0.928571     0.911765   \n",
       "ITSpatial_11     0.814815     0.852941     0.980000     0.760000     0.735294   \n",
       "ITSpatial_13     0.933333     0.857143     0.630435     0.933333     0.930233   \n",
       "\n",
       "              IT-L6+SSp-3  IT-L6+ACA-3  IT-L6+MOp-4  IT-L6+MOp-3  \n",
       "ITSpatial_4      0.829268     0.968750     0.950000     0.820000  \n",
       "ITSpatial_7      0.653061     0.829787     0.767442     0.710526  \n",
       "ITSpatial_10     0.875000     0.860465     0.942857     0.949153  \n",
       "ITSpatial_11     0.872340     0.750000     0.729167     0.875000  \n",
       "ITSpatial_13     0.843750     0.950820     0.825397     0.923077  \n",
       "\n",
       "[5 rows x 79 columns]"
      ]
     },
     "execution_count": 9,
     "metadata": {},
     "output_type": "execute_result"
    }
   ],
   "source": [
    "dmr_df = dmr_df.loc[delta_index & white_index]\n",
    "dmr_df = dmr_df[dmr_df['number_of_dms'] >= dms_cutoff]\n",
    "print(dmr_df.shape[0], 'dmr after filter')\n",
    "dmr_df.head()"
   ]
  },
  {
   "cell_type": "markdown",
   "metadata": {
    "papermill": {
     "duration": 0.011757,
     "end_time": "2020-03-22T03:42:25.861074",
     "exception": false,
     "start_time": "2020-03-22T03:42:25.849317",
     "status": "completed"
    },
    "tags": []
   },
   "source": [
    "## Calculate sample delta to robust mean"
   ]
  },
  {
   "cell_type": "code",
   "execution_count": 10,
   "metadata": {
    "ExecuteTime": {
     "end_time": "2020-01-11T22:36:16.999216Z",
     "start_time": "2020-01-11T22:36:14.781777Z"
    },
    "papermill": {
     "duration": 2.330167,
     "end_time": "2020-03-22T03:42:28.203018",
     "exception": false,
     "start_time": "2020-03-22T03:42:25.872851",
     "status": "completed"
    },
    "tags": []
   },
   "outputs": [],
   "source": [
    "mc_rate = mc_rate.loc[dmr_df.index].copy()\n",
    "n_sample = mc_rate.shape[1]\n",
    "\n",
    "assert skip_quantile < 0.5\n",
    "skip_n = min(1, round(n_sample * skip_quantile))"
   ]
  },
  {
   "cell_type": "code",
   "execution_count": 11,
   "metadata": {
    "ExecuteTime": {
     "end_time": "2020-01-11T22:37:13.238349Z",
     "start_time": "2020-01-11T22:36:18.002436Z"
    },
    "papermill": {
     "duration": 27.359708,
     "end_time": "2020-03-22T03:42:55.574924",
     "exception": false,
     "start_time": "2020-03-22T03:42:28.215216",
     "status": "completed"
    },
    "tags": []
   },
   "outputs": [],
   "source": [
    "# ~1M rows / min, depending on n_sample, not very slow\n",
    "def robust_mean(row):\n",
    "    return np.nanmean(np.sort(row)[skip_n:-skip_n])\n",
    "robust_mean = np.apply_along_axis(robust_mean, 1, mc_rate.values)\n",
    "robust_mean = pd.Series(robust_mean, index=mc_rate.index)"
   ]
  },
  {
   "cell_type": "code",
   "execution_count": 12,
   "metadata": {
    "ExecuteTime": {
     "end_time": "2020-01-11T22:37:14.931884Z",
     "start_time": "2020-01-11T22:37:13.241420Z"
    },
    "papermill": {
     "duration": 2.301546,
     "end_time": "2020-03-22T03:42:57.888974",
     "exception": false,
     "start_time": "2020-03-22T03:42:55.587428",
     "status": "completed"
    },
    "tags": []
   },
   "outputs": [],
   "source": [
    "delta = mc_rate - robust_mean[:, None]\n",
    "# 0 is hypo DMR, 1 is hyper DMR, nan is not significant\n",
    "judge = (delta > 0)[delta.abs() > delta_to_mean]"
   ]
  },
  {
   "cell_type": "code",
   "execution_count": 13,
   "metadata": {
    "ExecuteTime": {
     "end_time": "2020-01-11T22:37:17.752534Z",
     "start_time": "2020-01-11T22:37:14.934034Z"
    },
    "papermill": {
     "duration": 1.667767,
     "end_time": "2020-03-22T03:42:59.570853",
     "exception": false,
     "start_time": "2020-03-22T03:42:57.903086",
     "status": "completed"
    },
    "tags": []
   },
   "outputs": [],
   "source": [
    "robust_mean_hypo_records = {}\n",
    "robust_mean_hyper_records = {}\n",
    "\n",
    "for sample, sample_col in judge.iteritems():\n",
    "    hypo_dmr = sample_col[sample_col == 0].index\n",
    "    hyper_dmr = sample_col[sample_col == 1].index\n",
    "    \n",
    "    robust_mean_hypo_records[sample] = hypo_dmr\n",
    "    robust_mean_hyper_records[sample] = hyper_dmr"
   ]
  },
  {
   "cell_type": "markdown",
   "metadata": {
    "papermill": {
     "duration": 0.013037,
     "end_time": "2020-03-22T03:42:59.596814",
     "exception": false,
     "start_time": "2020-03-22T03:42:59.583777",
     "status": "completed"
    },
    "tags": []
   },
   "source": [
    "## Assign DMR to each sample"
   ]
  },
  {
   "cell_type": "code",
   "execution_count": 14,
   "metadata": {
    "ExecuteTime": {
     "end_time": "2020-01-11T22:37:51.557920Z",
     "start_time": "2020-01-11T22:37:17.755190Z"
    },
    "papermill": {
     "duration": 57.817973,
     "end_time": "2020-03-22T03:43:57.427470",
     "exception": false,
     "start_time": "2020-03-22T03:42:59.609497",
     "status": "completed"
    },
    "scrolled": true,
    "tags": []
   },
   "outputs": [
    {
     "name": "stdout",
     "output_type": "stream",
     "text": [
      "IT-L6+ACA-1\tHypoDMR \t8872\n",
      "IT-L6+ACA-1\tHyperDMR\t26373\n"
     ]
    },
    {
     "name": "stdout",
     "output_type": "stream",
     "text": [
      "IT-L5+MOs-2\tHypoDMR \t12288\n",
      "IT-L5+MOs-2\tHyperDMR\t562\n"
     ]
    },
    {
     "name": "stdout",
     "output_type": "stream",
     "text": [
      "IT-L23+MOs-1\tHypoDMR \t26249\n",
      "IT-L23+MOs-1\tHyperDMR\t3418\n"
     ]
    },
    {
     "name": "stdout",
     "output_type": "stream",
     "text": [
      "IT-L5+ACA-3\tHypoDMR \t13995\n",
      "IT-L5+ACA-3\tHyperDMR\t21308\n"
     ]
    },
    {
     "name": "stdout",
     "output_type": "stream",
     "text": [
      "IT-L6+MOp-2\tHypoDMR \t16510\n",
      "IT-L6+MOp-2\tHyperDMR\t11372\n"
     ]
    },
    {
     "name": "stdout",
     "output_type": "stream",
     "text": [
      "IT-L6+MOs-3\tHypoDMR \t18954\n",
      "IT-L6+MOs-3\tHyperDMR\t15670\n"
     ]
    },
    {
     "name": "stdout",
     "output_type": "stream",
     "text": [
      "IT-L5+SSp-5\tHypoDMR \t8004\n",
      "IT-L5+SSp-5\tHyperDMR\t3639\n"
     ]
    },
    {
     "name": "stdout",
     "output_type": "stream",
     "text": [
      "IT-L6+SSs-2\tHypoDMR \t5670\n",
      "IT-L6+SSs-2\tHyperDMR\t11268\n"
     ]
    },
    {
     "name": "stdout",
     "output_type": "stream",
     "text": [
      "IT-L4+MOs-3\tHypoDMR \t15313\n",
      "IT-L4+MOs-3\tHyperDMR\t3392\n"
     ]
    },
    {
     "name": "stdout",
     "output_type": "stream",
     "text": [
      "IT-L5+SSp-2\tHypoDMR \t26589\n",
      "IT-L5+SSp-2\tHyperDMR\t6673\n"
     ]
    },
    {
     "name": "stdout",
     "output_type": "stream",
     "text": [
      "IT-L4+MOs-1\tHypoDMR \t28219\n",
      "IT-L4+MOs-1\tHyperDMR\t6886\n"
     ]
    },
    {
     "name": "stdout",
     "output_type": "stream",
     "text": [
      "IT-L23+ACA-3\tHypoDMR \t12076\n",
      "IT-L23+ACA-3\tHyperDMR\t7023\n"
     ]
    },
    {
     "name": "stdout",
     "output_type": "stream",
     "text": [
      "IT-L23+PFC-2\tHypoDMR \t17763\n",
      "IT-L23+PFC-2\tHyperDMR\t12923\n"
     ]
    },
    {
     "name": "stdout",
     "output_type": "stream",
     "text": [
      "IT-L23+ACA-1\tHypoDMR \t14664\n",
      "IT-L23+ACA-1\tHyperDMR\t8339\n"
     ]
    },
    {
     "name": "stdout",
     "output_type": "stream",
     "text": [
      "IT-L23+MOp-3\tHypoDMR \t29238\n",
      "IT-L23+MOp-3\tHyperDMR\t2991\n"
     ]
    },
    {
     "name": "stdout",
     "output_type": "stream",
     "text": [
      "IT-L4+MOp-3\tHypoDMR \t16283\n",
      "IT-L4+MOp-3\tHyperDMR\t4529\n"
     ]
    },
    {
     "name": "stdout",
     "output_type": "stream",
     "text": [
      "IT-L23+SSp-1\tHypoDMR \t33608\n",
      "IT-L23+SSp-1\tHyperDMR\t4064\n"
     ]
    },
    {
     "name": "stdout",
     "output_type": "stream",
     "text": [
      "IT-L23+SSp-2\tHypoDMR \t39447\n",
      "IT-L23+SSp-2\tHyperDMR\t4748\n"
     ]
    },
    {
     "name": "stdout",
     "output_type": "stream",
     "text": [
      "IT-L23+MOs-3\tHypoDMR \t19616\n",
      "IT-L23+MOs-3\tHyperDMR\t2296\n"
     ]
    },
    {
     "name": "stdout",
     "output_type": "stream",
     "text": [
      "IT-L23+ACA-2\tHypoDMR \t13877\n",
      "IT-L23+ACA-2\tHyperDMR\t4952\n"
     ]
    },
    {
     "name": "stdout",
     "output_type": "stream",
     "text": [
      "IT-L23+MOp-2\tHypoDMR \t34715\n",
      "IT-L23+MOp-2\tHyperDMR\t3226\n"
     ]
    },
    {
     "name": "stdout",
     "output_type": "stream",
     "text": [
      "IT-L23+SSs-2\tHypoDMR \t41435\n",
      "IT-L23+SSs-2\tHyperDMR\t5059\n"
     ]
    },
    {
     "name": "stdout",
     "output_type": "stream",
     "text": [
      "IT-L4+SSp-1\tHypoDMR \t32249\n",
      "IT-L4+SSp-1\tHyperDMR\t11747\n"
     ]
    },
    {
     "name": "stdout",
     "output_type": "stream",
     "text": [
      "IT-L23+SSp-3\tHypoDMR \t32603\n",
      "IT-L23+SSp-3\tHyperDMR\t4654\n"
     ]
    },
    {
     "name": "stdout",
     "output_type": "stream",
     "text": [
      "IT-L4+MOp-4\tHypoDMR \t11068\n",
      "IT-L4+MOp-4\tHyperDMR\t4846\n"
     ]
    },
    {
     "name": "stdout",
     "output_type": "stream",
     "text": [
      "IT-L4+MOp-1\tHypoDMR \t28489\n",
      "IT-L4+MOp-1\tHyperDMR\t7988\n"
     ]
    },
    {
     "name": "stdout",
     "output_type": "stream",
     "text": [
      "IT-L23+SSp-5\tHypoDMR \t18590\n",
      "IT-L23+SSp-5\tHyperDMR\t6130\n"
     ]
    },
    {
     "name": "stdout",
     "output_type": "stream",
     "text": [
      "IT-L4+SSp-2\tHypoDMR \t36507\n",
      "IT-L4+SSp-2\tHyperDMR\t12951\n"
     ]
    },
    {
     "name": "stdout",
     "output_type": "stream",
     "text": [
      "IT-L23+SSp-4\tHypoDMR \t25530\n",
      "IT-L23+SSp-4\tHyperDMR\t5674\n"
     ]
    },
    {
     "name": "stdout",
     "output_type": "stream",
     "text": [
      "IT-L23+AI\tHypoDMR \t18230\n",
      "IT-L23+AI\tHyperDMR\t13430\n"
     ]
    },
    {
     "name": "stdout",
     "output_type": "stream",
     "text": [
      "IT-L23+SSs-1\tHypoDMR \t25346\n",
      "IT-L23+SSs-1\tHyperDMR\t4450\n"
     ]
    },
    {
     "name": "stdout",
     "output_type": "stream",
     "text": [
      "IT-L5+MOp-3\tHypoDMR \t14971\n",
      "IT-L5+MOp-3\tHyperDMR\t1091\n"
     ]
    },
    {
     "name": "stdout",
     "output_type": "stream",
     "text": [
      "IT-L4+SSp-5\tHypoDMR \t14702\n",
      "IT-L4+SSp-5\tHyperDMR\t8898\n"
     ]
    },
    {
     "name": "stdout",
     "output_type": "stream",
     "text": [
      "IT-L23+MOs-2\tHypoDMR \t22323\n",
      "IT-L23+MOs-2\tHyperDMR\t1843\n"
     ]
    },
    {
     "name": "stdout",
     "output_type": "stream",
     "text": [
      "IT-L5+MOp-2\tHypoDMR \t18997\n",
      "IT-L5+MOp-2\tHyperDMR\t946\n"
     ]
    },
    {
     "name": "stdout",
     "output_type": "stream",
     "text": [
      "IT-L4+SSp-4\tHypoDMR \t22620\n",
      "IT-L4+SSp-4\tHyperDMR\t10375\n"
     ]
    },
    {
     "name": "stdout",
     "output_type": "stream",
     "text": [
      "IT-L23+MOp-1\tHypoDMR \t36149\n",
      "IT-L23+MOp-1\tHyperDMR\t5263\n"
     ]
    },
    {
     "name": "stdout",
     "output_type": "stream",
     "text": [
      "IT-L5+MOs-3\tHypoDMR \t8939\n",
      "IT-L5+MOs-3\tHyperDMR\t1130\n"
     ]
    },
    {
     "name": "stdout",
     "output_type": "stream",
     "text": [
      "IT-L5+ACA-1\tHypoDMR \t8135\n",
      "IT-L5+ACA-1\tHyperDMR\t10833\n"
     ]
    },
    {
     "name": "stdout",
     "output_type": "stream",
     "text": [
      "IT-L5+ORB\tHypoDMR \t11562\n",
      "IT-L5+ORB\tHyperDMR\t7598\n"
     ]
    },
    {
     "name": "stdout",
     "output_type": "stream",
     "text": [
      "IT-L4+SSs-2\tHypoDMR \t37579\n",
      "IT-L4+SSs-2\tHyperDMR\t11516\n"
     ]
    },
    {
     "name": "stdout",
     "output_type": "stream",
     "text": [
      "IT-L4+SSp-3\tHypoDMR \t34970\n",
      "IT-L4+SSp-3\tHyperDMR\t11501\n"
     ]
    },
    {
     "name": "stdout",
     "output_type": "stream",
     "text": [
      "IT-L4+SSs-1\tHypoDMR \t31504\n",
      "IT-L4+SSs-1\tHyperDMR\t11533\n"
     ]
    },
    {
     "name": "stdout",
     "output_type": "stream",
     "text": [
      "IT-L23+ORB\tHypoDMR \t6914\n",
      "IT-L23+ORB\tHyperDMR\t6211\n"
     ]
    },
    {
     "name": "stdout",
     "output_type": "stream",
     "text": [
      "IT-L23+PFC-1\tHypoDMR \t19581\n",
      "IT-L23+PFC-1\tHyperDMR\t26082\n"
     ]
    },
    {
     "name": "stdout",
     "output_type": "stream",
     "text": [
      "IT-L5+PFC-2\tHypoDMR \t9508\n",
      "IT-L5+PFC-2\tHyperDMR\t10853\n"
     ]
    },
    {
     "name": "stdout",
     "output_type": "stream",
     "text": [
      "IT-L5+MOs-1\tHypoDMR \t22605\n",
      "IT-L5+MOs-1\tHyperDMR\t1714\n"
     ]
    },
    {
     "name": "stdout",
     "output_type": "stream",
     "text": [
      "IT-L4+MOp-2\tHypoDMR \t26524\n",
      "IT-L4+MOp-2\tHyperDMR\t7939\n"
     ]
    },
    {
     "name": "stdout",
     "output_type": "stream",
     "text": [
      "IT-L5+AI\tHypoDMR \t20276\n",
      "IT-L5+AI\tHyperDMR\t10148\n"
     ]
    },
    {
     "name": "stdout",
     "output_type": "stream",
     "text": [
      "IT-L23+MOp-4\tHypoDMR \t21478\n",
      "IT-L23+MOp-4\tHyperDMR\t3928\n"
     ]
    },
    {
     "name": "stdout",
     "output_type": "stream",
     "text": [
      "IT-L5+PFC-1\tHypoDMR \t13892\n",
      "IT-L5+PFC-1\tHyperDMR\t18257\n"
     ]
    },
    {
     "name": "stdout",
     "output_type": "stream",
     "text": [
      "IT-L5+SSp-1\tHypoDMR \t16197\n",
      "IT-L5+SSp-1\tHyperDMR\t3364\n"
     ]
    },
    {
     "name": "stdout",
     "output_type": "stream",
     "text": [
      "IT-L5+MOp-4\tHypoDMR \t9513\n",
      "IT-L5+MOp-4\tHyperDMR\t1032\n"
     ]
    },
    {
     "name": "stdout",
     "output_type": "stream",
     "text": [
      "IT-L5+ACA-2\tHypoDMR \t11292\n",
      "IT-L5+ACA-2\tHyperDMR\t10285\n"
     ]
    },
    {
     "name": "stdout",
     "output_type": "stream",
     "text": [
      "IT-L5+MOp-1\tHypoDMR \t19100\n",
      "IT-L5+MOp-1\tHyperDMR\t916\n"
     ]
    },
    {
     "name": "stdout",
     "output_type": "stream",
     "text": [
      "IT-L5+SSs-2\tHypoDMR \t26174\n",
      "IT-L5+SSs-2\tHyperDMR\t7747\n"
     ]
    },
    {
     "name": "stdout",
     "output_type": "stream",
     "text": [
      "IT-L6+AI\tHypoDMR \t7369\n",
      "IT-L6+AI\tHyperDMR\t15784\n"
     ]
    },
    {
     "name": "stdout",
     "output_type": "stream",
     "text": [
      "IT-L6+SSp-2\tHypoDMR \t11748\n",
      "IT-L6+SSp-2\tHyperDMR\t16159\n"
     ]
    },
    {
     "name": "stdout",
     "output_type": "stream",
     "text": [
      "IT-L5+SSp-4\tHypoDMR \t12800\n",
      "IT-L5+SSp-4\tHyperDMR\t3961\n"
     ]
    },
    {
     "name": "stdout",
     "output_type": "stream",
     "text": [
      "IT-L6+SSp-4\tHypoDMR \t5719\n",
      "IT-L6+SSp-4\tHyperDMR\t11432\n"
     ]
    },
    {
     "name": "stdout",
     "output_type": "stream",
     "text": [
      "IT-L6+SSs-1\tHypoDMR \t3580\n",
      "IT-L6+SSs-1\tHyperDMR\t10205\n"
     ]
    },
    {
     "name": "stdout",
     "output_type": "stream",
     "text": [
      "IT-L6+SSp-1\tHypoDMR \t7486\n",
      "IT-L6+SSp-1\tHyperDMR\t10353\n"
     ]
    },
    {
     "name": "stdout",
     "output_type": "stream",
     "text": [
      "IT-L6+SSp-5\tHypoDMR \t4879\n",
      "IT-L6+SSp-5\tHyperDMR\t12273\n"
     ]
    },
    {
     "name": "stdout",
     "output_type": "stream",
     "text": [
      "IT-L5+SSs-1\tHypoDMR \t17647\n",
      "IT-L5+SSs-1\tHyperDMR\t7646\n"
     ]
    },
    {
     "name": "stdout",
     "output_type": "stream",
     "text": [
      "IT-L6+PFC-2\tHypoDMR \t7093\n",
      "IT-L6+PFC-2\tHyperDMR\t25612\n"
     ]
    },
    {
     "name": "stdout",
     "output_type": "stream",
     "text": [
      "IT-L6+MOs-2\tHypoDMR \t21337\n",
      "IT-L6+MOs-2\tHyperDMR\t14455\n"
     ]
    },
    {
     "name": "stdout",
     "output_type": "stream",
     "text": [
      "IT-L5+SSp-3\tHypoDMR \t19427\n",
      "IT-L5+SSp-3\tHyperDMR\t4000\n"
     ]
    },
    {
     "name": "stdout",
     "output_type": "stream",
     "text": [
      "IT-L6+PFC-1\tHypoDMR \t7477\n",
      "IT-L6+PFC-1\tHyperDMR\t25276\n"
     ]
    },
    {
     "name": "stdout",
     "output_type": "stream",
     "text": [
      "IT-L6+ACA-2\tHypoDMR \t7990\n",
      "IT-L6+ACA-2\tHyperDMR\t22491\n"
     ]
    },
    {
     "name": "stdout",
     "output_type": "stream",
     "text": [
      "IT-L6+SSp-3\tHypoDMR \t8558\n",
      "IT-L6+SSp-3\tHyperDMR\t13105\n"
     ]
    },
    {
     "name": "stdout",
     "output_type": "stream",
     "text": [
      "IT-L6+ACA-3\tHypoDMR \t9309\n",
      "IT-L6+ACA-3\tHyperDMR\t24155\n"
     ]
    },
    {
     "name": "stdout",
     "output_type": "stream",
     "text": [
      "IT-L6+MOp-4\tHypoDMR \t12982\n",
      "IT-L6+MOp-4\tHyperDMR\t10130\n"
     ]
    },
    {
     "name": "stdout",
     "output_type": "stream",
     "text": [
      "IT-L6+MOp-3\tHypoDMR \t19113\n",
      "IT-L6+MOp-3\tHyperDMR\t11024\n"
     ]
    }
   ],
   "source": [
    "# parse results and add the robust mean judge\n",
    "for sample in samples:\n",
    "    # here saved a list of np.array\n",
    "    hypo_index = dmr_df[dmr_df['hypomethylated_samples'].fillna('').apply(lambda i: sample in i)].index\n",
    "    hyper_index = dmr_df[dmr_df['hypermethylated_samples'].fillna('').apply(lambda i: sample in i)].index\n",
    "    hypo_sig_dict[sample] = hypo_index & robust_mean_hypo_records[sample]\n",
    "    hyper_sig_dict[sample] = hyper_index & robust_mean_hyper_records[sample]\n",
    "    print(sample, 'HypoDMR ', hypo_sig_dict[sample].size, sep='\\t')\n",
    "    print(sample, 'HyperDMR', hyper_sig_dict[sample].size, sep='\\t')\n"
   ]
  },
  {
   "cell_type": "code",
   "execution_count": 15,
   "metadata": {
    "ExecuteTime": {
     "end_time": "2020-01-11T22:37:55.312551Z",
     "start_time": "2020-01-11T22:37:51.559575Z"
    },
    "papermill": {
     "duration": 1.109102,
     "end_time": "2020-03-22T03:43:58.564460",
     "exception": false,
     "start_time": "2020-03-22T03:43:57.455358",
     "status": "completed"
    },
    "tags": []
   },
   "outputs": [
    {
     "name": "stderr",
     "output_type": "stream",
     "text": [
      "/home/hanliu/miniconda3/envs/clustering/lib/python3.7/site-packages/tables/path.py:157: NaturalNameWarning: object name is not a valid Python identifier: 'IT-L6+ACA-1'; it does not match the pattern ``^[a-zA-Z_][a-zA-Z0-9_]*$``; you will not be able to use natural naming to access this object; using ``getattr()`` will still work, though\n",
      "  check_attribute_name(name)\n",
      "/home/hanliu/miniconda3/envs/clustering/lib/python3.7/site-packages/tables/path.py:157: NaturalNameWarning: object name is not a valid Python identifier: 'IT-L5+MOs-2'; it does not match the pattern ``^[a-zA-Z_][a-zA-Z0-9_]*$``; you will not be able to use natural naming to access this object; using ``getattr()`` will still work, though\n",
      "  check_attribute_name(name)\n",
      "/home/hanliu/miniconda3/envs/clustering/lib/python3.7/site-packages/tables/path.py:157: NaturalNameWarning: object name is not a valid Python identifier: 'IT-L23+MOs-1'; it does not match the pattern ``^[a-zA-Z_][a-zA-Z0-9_]*$``; you will not be able to use natural naming to access this object; using ``getattr()`` will still work, though\n",
      "  check_attribute_name(name)\n",
      "/home/hanliu/miniconda3/envs/clustering/lib/python3.7/site-packages/tables/path.py:157: NaturalNameWarning: object name is not a valid Python identifier: 'IT-L5+ACA-3'; it does not match the pattern ``^[a-zA-Z_][a-zA-Z0-9_]*$``; you will not be able to use natural naming to access this object; using ``getattr()`` will still work, though\n",
      "  check_attribute_name(name)\n",
      "/home/hanliu/miniconda3/envs/clustering/lib/python3.7/site-packages/tables/path.py:157: NaturalNameWarning: object name is not a valid Python identifier: 'IT-L6+MOp-2'; it does not match the pattern ``^[a-zA-Z_][a-zA-Z0-9_]*$``; you will not be able to use natural naming to access this object; using ``getattr()`` will still work, though\n",
      "  check_attribute_name(name)\n",
      "/home/hanliu/miniconda3/envs/clustering/lib/python3.7/site-packages/tables/path.py:157: NaturalNameWarning: object name is not a valid Python identifier: 'IT-L6+MOs-3'; it does not match the pattern ``^[a-zA-Z_][a-zA-Z0-9_]*$``; you will not be able to use natural naming to access this object; using ``getattr()`` will still work, though\n",
      "  check_attribute_name(name)\n",
      "/home/hanliu/miniconda3/envs/clustering/lib/python3.7/site-packages/tables/path.py:157: NaturalNameWarning: object name is not a valid Python identifier: 'IT-L5+SSp-5'; it does not match the pattern ``^[a-zA-Z_][a-zA-Z0-9_]*$``; you will not be able to use natural naming to access this object; using ``getattr()`` will still work, though\n",
      "  check_attribute_name(name)\n",
      "/home/hanliu/miniconda3/envs/clustering/lib/python3.7/site-packages/tables/path.py:157: NaturalNameWarning: object name is not a valid Python identifier: 'IT-L6+SSs-2'; it does not match the pattern ``^[a-zA-Z_][a-zA-Z0-9_]*$``; you will not be able to use natural naming to access this object; using ``getattr()`` will still work, though\n",
      "  check_attribute_name(name)\n",
      "/home/hanliu/miniconda3/envs/clustering/lib/python3.7/site-packages/tables/path.py:157: NaturalNameWarning: object name is not a valid Python identifier: 'IT-L4+MOs-3'; it does not match the pattern ``^[a-zA-Z_][a-zA-Z0-9_]*$``; you will not be able to use natural naming to access this object; using ``getattr()`` will still work, though\n",
      "  check_attribute_name(name)\n",
      "/home/hanliu/miniconda3/envs/clustering/lib/python3.7/site-packages/tables/path.py:157: NaturalNameWarning: object name is not a valid Python identifier: 'IT-L5+SSp-2'; it does not match the pattern ``^[a-zA-Z_][a-zA-Z0-9_]*$``; you will not be able to use natural naming to access this object; using ``getattr()`` will still work, though\n",
      "  check_attribute_name(name)\n",
      "/home/hanliu/miniconda3/envs/clustering/lib/python3.7/site-packages/tables/path.py:157: NaturalNameWarning: object name is not a valid Python identifier: 'IT-L4+MOs-1'; it does not match the pattern ``^[a-zA-Z_][a-zA-Z0-9_]*$``; you will not be able to use natural naming to access this object; using ``getattr()`` will still work, though\n",
      "  check_attribute_name(name)\n",
      "/home/hanliu/miniconda3/envs/clustering/lib/python3.7/site-packages/tables/path.py:157: NaturalNameWarning: object name is not a valid Python identifier: 'IT-L23+ACA-3'; it does not match the pattern ``^[a-zA-Z_][a-zA-Z0-9_]*$``; you will not be able to use natural naming to access this object; using ``getattr()`` will still work, though\n",
      "  check_attribute_name(name)\n",
      "/home/hanliu/miniconda3/envs/clustering/lib/python3.7/site-packages/tables/path.py:157: NaturalNameWarning: object name is not a valid Python identifier: 'IT-L23+PFC-2'; it does not match the pattern ``^[a-zA-Z_][a-zA-Z0-9_]*$``; you will not be able to use natural naming to access this object; using ``getattr()`` will still work, though\n",
      "  check_attribute_name(name)\n",
      "/home/hanliu/miniconda3/envs/clustering/lib/python3.7/site-packages/tables/path.py:157: NaturalNameWarning: object name is not a valid Python identifier: 'IT-L23+ACA-1'; it does not match the pattern ``^[a-zA-Z_][a-zA-Z0-9_]*$``; you will not be able to use natural naming to access this object; using ``getattr()`` will still work, though\n",
      "  check_attribute_name(name)\n",
      "/home/hanliu/miniconda3/envs/clustering/lib/python3.7/site-packages/tables/path.py:157: NaturalNameWarning: object name is not a valid Python identifier: 'IT-L23+MOp-3'; it does not match the pattern ``^[a-zA-Z_][a-zA-Z0-9_]*$``; you will not be able to use natural naming to access this object; using ``getattr()`` will still work, though\n",
      "  check_attribute_name(name)\n",
      "/home/hanliu/miniconda3/envs/clustering/lib/python3.7/site-packages/tables/path.py:157: NaturalNameWarning: object name is not a valid Python identifier: 'IT-L4+MOp-3'; it does not match the pattern ``^[a-zA-Z_][a-zA-Z0-9_]*$``; you will not be able to use natural naming to access this object; using ``getattr()`` will still work, though\n",
      "  check_attribute_name(name)\n",
      "/home/hanliu/miniconda3/envs/clustering/lib/python3.7/site-packages/tables/path.py:157: NaturalNameWarning: object name is not a valid Python identifier: 'IT-L23+SSp-1'; it does not match the pattern ``^[a-zA-Z_][a-zA-Z0-9_]*$``; you will not be able to use natural naming to access this object; using ``getattr()`` will still work, though\n",
      "  check_attribute_name(name)\n",
      "/home/hanliu/miniconda3/envs/clustering/lib/python3.7/site-packages/tables/path.py:157: NaturalNameWarning: object name is not a valid Python identifier: 'IT-L23+SSp-2'; it does not match the pattern ``^[a-zA-Z_][a-zA-Z0-9_]*$``; you will not be able to use natural naming to access this object; using ``getattr()`` will still work, though\n",
      "  check_attribute_name(name)\n",
      "/home/hanliu/miniconda3/envs/clustering/lib/python3.7/site-packages/tables/path.py:157: NaturalNameWarning: object name is not a valid Python identifier: 'IT-L23+MOs-3'; it does not match the pattern ``^[a-zA-Z_][a-zA-Z0-9_]*$``; you will not be able to use natural naming to access this object; using ``getattr()`` will still work, though\n",
      "  check_attribute_name(name)\n",
      "/home/hanliu/miniconda3/envs/clustering/lib/python3.7/site-packages/tables/path.py:157: NaturalNameWarning: object name is not a valid Python identifier: 'IT-L23+ACA-2'; it does not match the pattern ``^[a-zA-Z_][a-zA-Z0-9_]*$``; you will not be able to use natural naming to access this object; using ``getattr()`` will still work, though\n",
      "  check_attribute_name(name)\n",
      "/home/hanliu/miniconda3/envs/clustering/lib/python3.7/site-packages/tables/path.py:157: NaturalNameWarning: object name is not a valid Python identifier: 'IT-L23+MOp-2'; it does not match the pattern ``^[a-zA-Z_][a-zA-Z0-9_]*$``; you will not be able to use natural naming to access this object; using ``getattr()`` will still work, though\n",
      "  check_attribute_name(name)\n",
      "/home/hanliu/miniconda3/envs/clustering/lib/python3.7/site-packages/tables/path.py:157: NaturalNameWarning: object name is not a valid Python identifier: 'IT-L23+SSs-2'; it does not match the pattern ``^[a-zA-Z_][a-zA-Z0-9_]*$``; you will not be able to use natural naming to access this object; using ``getattr()`` will still work, though\n",
      "  check_attribute_name(name)\n"
     ]
    },
    {
     "name": "stderr",
     "output_type": "stream",
     "text": [
      "/home/hanliu/miniconda3/envs/clustering/lib/python3.7/site-packages/tables/path.py:157: NaturalNameWarning: object name is not a valid Python identifier: 'IT-L4+SSp-1'; it does not match the pattern ``^[a-zA-Z_][a-zA-Z0-9_]*$``; you will not be able to use natural naming to access this object; using ``getattr()`` will still work, though\n",
      "  check_attribute_name(name)\n",
      "/home/hanliu/miniconda3/envs/clustering/lib/python3.7/site-packages/tables/path.py:157: NaturalNameWarning: object name is not a valid Python identifier: 'IT-L23+SSp-3'; it does not match the pattern ``^[a-zA-Z_][a-zA-Z0-9_]*$``; you will not be able to use natural naming to access this object; using ``getattr()`` will still work, though\n",
      "  check_attribute_name(name)\n",
      "/home/hanliu/miniconda3/envs/clustering/lib/python3.7/site-packages/tables/path.py:157: NaturalNameWarning: object name is not a valid Python identifier: 'IT-L4+MOp-4'; it does not match the pattern ``^[a-zA-Z_][a-zA-Z0-9_]*$``; you will not be able to use natural naming to access this object; using ``getattr()`` will still work, though\n",
      "  check_attribute_name(name)\n",
      "/home/hanliu/miniconda3/envs/clustering/lib/python3.7/site-packages/tables/path.py:157: NaturalNameWarning: object name is not a valid Python identifier: 'IT-L4+MOp-1'; it does not match the pattern ``^[a-zA-Z_][a-zA-Z0-9_]*$``; you will not be able to use natural naming to access this object; using ``getattr()`` will still work, though\n",
      "  check_attribute_name(name)\n",
      "/home/hanliu/miniconda3/envs/clustering/lib/python3.7/site-packages/tables/path.py:157: NaturalNameWarning: object name is not a valid Python identifier: 'IT-L23+SSp-5'; it does not match the pattern ``^[a-zA-Z_][a-zA-Z0-9_]*$``; you will not be able to use natural naming to access this object; using ``getattr()`` will still work, though\n",
      "  check_attribute_name(name)\n",
      "/home/hanliu/miniconda3/envs/clustering/lib/python3.7/site-packages/tables/path.py:157: NaturalNameWarning: object name is not a valid Python identifier: 'IT-L4+SSp-2'; it does not match the pattern ``^[a-zA-Z_][a-zA-Z0-9_]*$``; you will not be able to use natural naming to access this object; using ``getattr()`` will still work, though\n",
      "  check_attribute_name(name)\n",
      "/home/hanliu/miniconda3/envs/clustering/lib/python3.7/site-packages/tables/path.py:157: NaturalNameWarning: object name is not a valid Python identifier: 'IT-L23+SSp-4'; it does not match the pattern ``^[a-zA-Z_][a-zA-Z0-9_]*$``; you will not be able to use natural naming to access this object; using ``getattr()`` will still work, though\n",
      "  check_attribute_name(name)\n",
      "/home/hanliu/miniconda3/envs/clustering/lib/python3.7/site-packages/tables/path.py:157: NaturalNameWarning: object name is not a valid Python identifier: 'IT-L23+AI'; it does not match the pattern ``^[a-zA-Z_][a-zA-Z0-9_]*$``; you will not be able to use natural naming to access this object; using ``getattr()`` will still work, though\n",
      "  check_attribute_name(name)\n",
      "/home/hanliu/miniconda3/envs/clustering/lib/python3.7/site-packages/tables/path.py:157: NaturalNameWarning: object name is not a valid Python identifier: 'IT-L23+SSs-1'; it does not match the pattern ``^[a-zA-Z_][a-zA-Z0-9_]*$``; you will not be able to use natural naming to access this object; using ``getattr()`` will still work, though\n",
      "  check_attribute_name(name)\n",
      "/home/hanliu/miniconda3/envs/clustering/lib/python3.7/site-packages/tables/path.py:157: NaturalNameWarning: object name is not a valid Python identifier: 'IT-L5+MOp-3'; it does not match the pattern ``^[a-zA-Z_][a-zA-Z0-9_]*$``; you will not be able to use natural naming to access this object; using ``getattr()`` will still work, though\n",
      "  check_attribute_name(name)\n",
      "/home/hanliu/miniconda3/envs/clustering/lib/python3.7/site-packages/tables/path.py:157: NaturalNameWarning: object name is not a valid Python identifier: 'IT-L4+SSp-5'; it does not match the pattern ``^[a-zA-Z_][a-zA-Z0-9_]*$``; you will not be able to use natural naming to access this object; using ``getattr()`` will still work, though\n",
      "  check_attribute_name(name)\n",
      "/home/hanliu/miniconda3/envs/clustering/lib/python3.7/site-packages/tables/path.py:157: NaturalNameWarning: object name is not a valid Python identifier: 'IT-L23+MOs-2'; it does not match the pattern ``^[a-zA-Z_][a-zA-Z0-9_]*$``; you will not be able to use natural naming to access this object; using ``getattr()`` will still work, though\n",
      "  check_attribute_name(name)\n",
      "/home/hanliu/miniconda3/envs/clustering/lib/python3.7/site-packages/tables/path.py:157: NaturalNameWarning: object name is not a valid Python identifier: 'IT-L5+MOp-2'; it does not match the pattern ``^[a-zA-Z_][a-zA-Z0-9_]*$``; you will not be able to use natural naming to access this object; using ``getattr()`` will still work, though\n",
      "  check_attribute_name(name)\n",
      "/home/hanliu/miniconda3/envs/clustering/lib/python3.7/site-packages/tables/path.py:157: NaturalNameWarning: object name is not a valid Python identifier: 'IT-L4+SSp-4'; it does not match the pattern ``^[a-zA-Z_][a-zA-Z0-9_]*$``; you will not be able to use natural naming to access this object; using ``getattr()`` will still work, though\n",
      "  check_attribute_name(name)\n",
      "/home/hanliu/miniconda3/envs/clustering/lib/python3.7/site-packages/tables/path.py:157: NaturalNameWarning: object name is not a valid Python identifier: 'IT-L23+MOp-1'; it does not match the pattern ``^[a-zA-Z_][a-zA-Z0-9_]*$``; you will not be able to use natural naming to access this object; using ``getattr()`` will still work, though\n",
      "  check_attribute_name(name)\n",
      "/home/hanliu/miniconda3/envs/clustering/lib/python3.7/site-packages/tables/path.py:157: NaturalNameWarning: object name is not a valid Python identifier: 'IT-L5+MOs-3'; it does not match the pattern ``^[a-zA-Z_][a-zA-Z0-9_]*$``; you will not be able to use natural naming to access this object; using ``getattr()`` will still work, though\n",
      "  check_attribute_name(name)\n",
      "/home/hanliu/miniconda3/envs/clustering/lib/python3.7/site-packages/tables/path.py:157: NaturalNameWarning: object name is not a valid Python identifier: 'IT-L5+ACA-1'; it does not match the pattern ``^[a-zA-Z_][a-zA-Z0-9_]*$``; you will not be able to use natural naming to access this object; using ``getattr()`` will still work, though\n",
      "  check_attribute_name(name)\n",
      "/home/hanliu/miniconda3/envs/clustering/lib/python3.7/site-packages/tables/path.py:157: NaturalNameWarning: object name is not a valid Python identifier: 'IT-L5+ORB'; it does not match the pattern ``^[a-zA-Z_][a-zA-Z0-9_]*$``; you will not be able to use natural naming to access this object; using ``getattr()`` will still work, though\n",
      "  check_attribute_name(name)\n",
      "/home/hanliu/miniconda3/envs/clustering/lib/python3.7/site-packages/tables/path.py:157: NaturalNameWarning: object name is not a valid Python identifier: 'IT-L4+SSs-2'; it does not match the pattern ``^[a-zA-Z_][a-zA-Z0-9_]*$``; you will not be able to use natural naming to access this object; using ``getattr()`` will still work, though\n",
      "  check_attribute_name(name)\n",
      "/home/hanliu/miniconda3/envs/clustering/lib/python3.7/site-packages/tables/path.py:157: NaturalNameWarning: object name is not a valid Python identifier: 'IT-L4+SSp-3'; it does not match the pattern ``^[a-zA-Z_][a-zA-Z0-9_]*$``; you will not be able to use natural naming to access this object; using ``getattr()`` will still work, though\n",
      "  check_attribute_name(name)\n",
      "/home/hanliu/miniconda3/envs/clustering/lib/python3.7/site-packages/tables/path.py:157: NaturalNameWarning: object name is not a valid Python identifier: 'IT-L4+SSs-1'; it does not match the pattern ``^[a-zA-Z_][a-zA-Z0-9_]*$``; you will not be able to use natural naming to access this object; using ``getattr()`` will still work, though\n",
      "  check_attribute_name(name)\n"
     ]
    },
    {
     "name": "stderr",
     "output_type": "stream",
     "text": [
      "/home/hanliu/miniconda3/envs/clustering/lib/python3.7/site-packages/tables/path.py:157: NaturalNameWarning: object name is not a valid Python identifier: 'IT-L23+ORB'; it does not match the pattern ``^[a-zA-Z_][a-zA-Z0-9_]*$``; you will not be able to use natural naming to access this object; using ``getattr()`` will still work, though\n",
      "  check_attribute_name(name)\n",
      "/home/hanliu/miniconda3/envs/clustering/lib/python3.7/site-packages/tables/path.py:157: NaturalNameWarning: object name is not a valid Python identifier: 'IT-L23+PFC-1'; it does not match the pattern ``^[a-zA-Z_][a-zA-Z0-9_]*$``; you will not be able to use natural naming to access this object; using ``getattr()`` will still work, though\n",
      "  check_attribute_name(name)\n",
      "/home/hanliu/miniconda3/envs/clustering/lib/python3.7/site-packages/tables/path.py:157: NaturalNameWarning: object name is not a valid Python identifier: 'IT-L5+PFC-2'; it does not match the pattern ``^[a-zA-Z_][a-zA-Z0-9_]*$``; you will not be able to use natural naming to access this object; using ``getattr()`` will still work, though\n",
      "  check_attribute_name(name)\n",
      "/home/hanliu/miniconda3/envs/clustering/lib/python3.7/site-packages/tables/path.py:157: NaturalNameWarning: object name is not a valid Python identifier: 'IT-L5+MOs-1'; it does not match the pattern ``^[a-zA-Z_][a-zA-Z0-9_]*$``; you will not be able to use natural naming to access this object; using ``getattr()`` will still work, though\n",
      "  check_attribute_name(name)\n",
      "/home/hanliu/miniconda3/envs/clustering/lib/python3.7/site-packages/tables/path.py:157: NaturalNameWarning: object name is not a valid Python identifier: 'IT-L4+MOp-2'; it does not match the pattern ``^[a-zA-Z_][a-zA-Z0-9_]*$``; you will not be able to use natural naming to access this object; using ``getattr()`` will still work, though\n",
      "  check_attribute_name(name)\n",
      "/home/hanliu/miniconda3/envs/clustering/lib/python3.7/site-packages/tables/path.py:157: NaturalNameWarning: object name is not a valid Python identifier: 'IT-L5+AI'; it does not match the pattern ``^[a-zA-Z_][a-zA-Z0-9_]*$``; you will not be able to use natural naming to access this object; using ``getattr()`` will still work, though\n",
      "  check_attribute_name(name)\n",
      "/home/hanliu/miniconda3/envs/clustering/lib/python3.7/site-packages/tables/path.py:157: NaturalNameWarning: object name is not a valid Python identifier: 'IT-L23+MOp-4'; it does not match the pattern ``^[a-zA-Z_][a-zA-Z0-9_]*$``; you will not be able to use natural naming to access this object; using ``getattr()`` will still work, though\n",
      "  check_attribute_name(name)\n",
      "/home/hanliu/miniconda3/envs/clustering/lib/python3.7/site-packages/tables/path.py:157: NaturalNameWarning: object name is not a valid Python identifier: 'IT-L5+PFC-1'; it does not match the pattern ``^[a-zA-Z_][a-zA-Z0-9_]*$``; you will not be able to use natural naming to access this object; using ``getattr()`` will still work, though\n",
      "  check_attribute_name(name)\n",
      "/home/hanliu/miniconda3/envs/clustering/lib/python3.7/site-packages/tables/path.py:157: NaturalNameWarning: object name is not a valid Python identifier: 'IT-L5+SSp-1'; it does not match the pattern ``^[a-zA-Z_][a-zA-Z0-9_]*$``; you will not be able to use natural naming to access this object; using ``getattr()`` will still work, though\n",
      "  check_attribute_name(name)\n",
      "/home/hanliu/miniconda3/envs/clustering/lib/python3.7/site-packages/tables/path.py:157: NaturalNameWarning: object name is not a valid Python identifier: 'IT-L5+MOp-4'; it does not match the pattern ``^[a-zA-Z_][a-zA-Z0-9_]*$``; you will not be able to use natural naming to access this object; using ``getattr()`` will still work, though\n",
      "  check_attribute_name(name)\n",
      "/home/hanliu/miniconda3/envs/clustering/lib/python3.7/site-packages/tables/path.py:157: NaturalNameWarning: object name is not a valid Python identifier: 'IT-L5+ACA-2'; it does not match the pattern ``^[a-zA-Z_][a-zA-Z0-9_]*$``; you will not be able to use natural naming to access this object; using ``getattr()`` will still work, though\n",
      "  check_attribute_name(name)\n",
      "/home/hanliu/miniconda3/envs/clustering/lib/python3.7/site-packages/tables/path.py:157: NaturalNameWarning: object name is not a valid Python identifier: 'IT-L5+MOp-1'; it does not match the pattern ``^[a-zA-Z_][a-zA-Z0-9_]*$``; you will not be able to use natural naming to access this object; using ``getattr()`` will still work, though\n",
      "  check_attribute_name(name)\n",
      "/home/hanliu/miniconda3/envs/clustering/lib/python3.7/site-packages/tables/path.py:157: NaturalNameWarning: object name is not a valid Python identifier: 'IT-L5+SSs-2'; it does not match the pattern ``^[a-zA-Z_][a-zA-Z0-9_]*$``; you will not be able to use natural naming to access this object; using ``getattr()`` will still work, though\n",
      "  check_attribute_name(name)\n",
      "/home/hanliu/miniconda3/envs/clustering/lib/python3.7/site-packages/tables/path.py:157: NaturalNameWarning: object name is not a valid Python identifier: 'IT-L6+AI'; it does not match the pattern ``^[a-zA-Z_][a-zA-Z0-9_]*$``; you will not be able to use natural naming to access this object; using ``getattr()`` will still work, though\n",
      "  check_attribute_name(name)\n",
      "/home/hanliu/miniconda3/envs/clustering/lib/python3.7/site-packages/tables/path.py:157: NaturalNameWarning: object name is not a valid Python identifier: 'IT-L6+SSp-2'; it does not match the pattern ``^[a-zA-Z_][a-zA-Z0-9_]*$``; you will not be able to use natural naming to access this object; using ``getattr()`` will still work, though\n",
      "  check_attribute_name(name)\n",
      "/home/hanliu/miniconda3/envs/clustering/lib/python3.7/site-packages/tables/path.py:157: NaturalNameWarning: object name is not a valid Python identifier: 'IT-L5+SSp-4'; it does not match the pattern ``^[a-zA-Z_][a-zA-Z0-9_]*$``; you will not be able to use natural naming to access this object; using ``getattr()`` will still work, though\n",
      "  check_attribute_name(name)\n",
      "/home/hanliu/miniconda3/envs/clustering/lib/python3.7/site-packages/tables/path.py:157: NaturalNameWarning: object name is not a valid Python identifier: 'IT-L6+SSp-4'; it does not match the pattern ``^[a-zA-Z_][a-zA-Z0-9_]*$``; you will not be able to use natural naming to access this object; using ``getattr()`` will still work, though\n",
      "  check_attribute_name(name)\n",
      "/home/hanliu/miniconda3/envs/clustering/lib/python3.7/site-packages/tables/path.py:157: NaturalNameWarning: object name is not a valid Python identifier: 'IT-L6+SSs-1'; it does not match the pattern ``^[a-zA-Z_][a-zA-Z0-9_]*$``; you will not be able to use natural naming to access this object; using ``getattr()`` will still work, though\n",
      "  check_attribute_name(name)\n",
      "/home/hanliu/miniconda3/envs/clustering/lib/python3.7/site-packages/tables/path.py:157: NaturalNameWarning: object name is not a valid Python identifier: 'IT-L6+SSp-1'; it does not match the pattern ``^[a-zA-Z_][a-zA-Z0-9_]*$``; you will not be able to use natural naming to access this object; using ``getattr()`` will still work, though\n",
      "  check_attribute_name(name)\n",
      "/home/hanliu/miniconda3/envs/clustering/lib/python3.7/site-packages/tables/path.py:157: NaturalNameWarning: object name is not a valid Python identifier: 'IT-L6+SSp-5'; it does not match the pattern ``^[a-zA-Z_][a-zA-Z0-9_]*$``; you will not be able to use natural naming to access this object; using ``getattr()`` will still work, though\n",
      "  check_attribute_name(name)\n",
      "/home/hanliu/miniconda3/envs/clustering/lib/python3.7/site-packages/tables/path.py:157: NaturalNameWarning: object name is not a valid Python identifier: 'IT-L5+SSs-1'; it does not match the pattern ``^[a-zA-Z_][a-zA-Z0-9_]*$``; you will not be able to use natural naming to access this object; using ``getattr()`` will still work, though\n",
      "  check_attribute_name(name)\n",
      "/home/hanliu/miniconda3/envs/clustering/lib/python3.7/site-packages/tables/path.py:157: NaturalNameWarning: object name is not a valid Python identifier: 'IT-L6+PFC-2'; it does not match the pattern ``^[a-zA-Z_][a-zA-Z0-9_]*$``; you will not be able to use natural naming to access this object; using ``getattr()`` will still work, though\n",
      "  check_attribute_name(name)\n",
      "/home/hanliu/miniconda3/envs/clustering/lib/python3.7/site-packages/tables/path.py:157: NaturalNameWarning: object name is not a valid Python identifier: 'IT-L6+MOs-2'; it does not match the pattern ``^[a-zA-Z_][a-zA-Z0-9_]*$``; you will not be able to use natural naming to access this object; using ``getattr()`` will still work, though\n",
      "  check_attribute_name(name)\n",
      "/home/hanliu/miniconda3/envs/clustering/lib/python3.7/site-packages/tables/path.py:157: NaturalNameWarning: object name is not a valid Python identifier: 'IT-L5+SSp-3'; it does not match the pattern ``^[a-zA-Z_][a-zA-Z0-9_]*$``; you will not be able to use natural naming to access this object; using ``getattr()`` will still work, though\n",
      "  check_attribute_name(name)\n",
      "/home/hanliu/miniconda3/envs/clustering/lib/python3.7/site-packages/tables/path.py:157: NaturalNameWarning: object name is not a valid Python identifier: 'IT-L6+PFC-1'; it does not match the pattern ``^[a-zA-Z_][a-zA-Z0-9_]*$``; you will not be able to use natural naming to access this object; using ``getattr()`` will still work, though\n",
      "  check_attribute_name(name)\n",
      "/home/hanliu/miniconda3/envs/clustering/lib/python3.7/site-packages/tables/path.py:157: NaturalNameWarning: object name is not a valid Python identifier: 'IT-L6+ACA-2'; it does not match the pattern ``^[a-zA-Z_][a-zA-Z0-9_]*$``; you will not be able to use natural naming to access this object; using ``getattr()`` will still work, though\n",
      "  check_attribute_name(name)\n",
      "/home/hanliu/miniconda3/envs/clustering/lib/python3.7/site-packages/tables/path.py:157: NaturalNameWarning: object name is not a valid Python identifier: 'IT-L6+SSp-3'; it does not match the pattern ``^[a-zA-Z_][a-zA-Z0-9_]*$``; you will not be able to use natural naming to access this object; using ``getattr()`` will still work, though\n",
      "  check_attribute_name(name)\n",
      "/home/hanliu/miniconda3/envs/clustering/lib/python3.7/site-packages/tables/path.py:157: NaturalNameWarning: object name is not a valid Python identifier: 'IT-L6+ACA-3'; it does not match the pattern ``^[a-zA-Z_][a-zA-Z0-9_]*$``; you will not be able to use natural naming to access this object; using ``getattr()`` will still work, though\n",
      "  check_attribute_name(name)\n",
      "/home/hanliu/miniconda3/envs/clustering/lib/python3.7/site-packages/tables/path.py:157: NaturalNameWarning: object name is not a valid Python identifier: 'IT-L6+MOp-4'; it does not match the pattern ``^[a-zA-Z_][a-zA-Z0-9_]*$``; you will not be able to use natural naming to access this object; using ``getattr()`` will still work, though\n",
      "  check_attribute_name(name)\n"
     ]
    },
    {
     "name": "stderr",
     "output_type": "stream",
     "text": [
      "/home/hanliu/miniconda3/envs/clustering/lib/python3.7/site-packages/tables/path.py:157: NaturalNameWarning: object name is not a valid Python identifier: 'IT-L6+MOp-3'; it does not match the pattern ``^[a-zA-Z_][a-zA-Z0-9_]*$``; you will not be able to use natural naming to access this object; using ``getattr()`` will still work, though\n",
      "  check_attribute_name(name)\n"
     ]
    }
   ],
   "source": [
    "with pd.HDFStore(pathlib.Path(dmr_path).parent / 'DMRInfo.h5') as hdf:\n",
    "    for sample, hypo_index in hypo_sig_dict.items():\n",
    "        hdf[f'HypoDMR/{sample}'] = pd.Series(hypo_index)\n",
    "    for sample, hyper_index in hyper_sig_dict.items():\n",
    "        hdf[f'HyperDMR/{sample}'] = pd.Series(hyper_index)"
   ]
  },
  {
   "cell_type": "markdown",
   "metadata": {
    "papermill": {
     "duration": 0.027007,
     "end_time": "2020-03-22T03:43:58.618740",
     "exception": false,
     "start_time": "2020-03-22T03:43:58.591733",
     "status": "completed"
    },
    "scrolled": true,
    "tags": []
   },
   "source": [
    "## Dump DMR bed"
   ]
  },
  {
   "cell_type": "code",
   "execution_count": 16,
   "metadata": {
    "ExecuteTime": {
     "end_time": "2020-01-11T22:42:42.323174Z",
     "start_time": "2020-01-11T22:42:20.036468Z"
    },
    "papermill": {
     "duration": 5.814913,
     "end_time": "2020-03-22T03:44:04.459996",
     "exception": false,
     "start_time": "2020-03-22T03:43:58.645083",
     "status": "completed"
    },
    "tags": []
   },
   "outputs": [],
   "source": [
    "hypo_dir = pathlib.Path(dmr_path).parent / 'HypoDMR'\n",
    "hypo_dir.mkdir(exist_ok=True)\n",
    "for sample, hypo_index in hypo_sig_dict.items():\n",
    "    _bed = dmr_bed.loc[hypo_index].reset_index().iloc[:, [1, 2, 3, 0]].to_csv(\n",
    "        hypo_dir / f'{sample}.DMS{dms_cutoff}.bed', sep='\\t', index=None, header=None)"
   ]
  },
  {
   "cell_type": "code",
   "execution_count": 17,
   "metadata": {
    "ExecuteTime": {
     "end_time": "2020-01-11T22:42:59.706247Z",
     "start_time": "2020-01-11T22:42:42.325171Z"
    },
    "papermill": {
     "duration": 2.796173,
     "end_time": "2020-03-22T03:44:07.284086",
     "exception": false,
     "start_time": "2020-03-22T03:44:04.487913",
     "status": "completed"
    },
    "tags": []
   },
   "outputs": [],
   "source": [
    "hyper_dir = pathlib.Path(dmr_path).parent / 'HyperDMR'\n",
    "hyper_dir.mkdir(exist_ok=True)\n",
    "for sample, hyper_index in hyper_sig_dict.items():\n",
    "    _bed = dmr_bed.loc[hyper_index].reset_index().iloc[:, [1, 2, 3, 0]].to_csv(\n",
    "        hyper_dir / f'{sample}.DMS{dms_cutoff}.bed', sep='\\t', index=None, header=None)"
   ]
  },
  {
   "cell_type": "markdown",
   "metadata": {
    "papermill": {
     "duration": 0.028396,
     "end_time": "2020-03-22T03:44:07.341749",
     "exception": false,
     "start_time": "2020-03-22T03:44:07.313353",
     "status": "completed"
    },
    "tags": []
   },
   "source": [
    "## DMR hits matrix"
   ]
  },
  {
   "cell_type": "code",
   "execution_count": 18,
   "metadata": {
    "ExecuteTime": {
     "end_time": "2020-01-11T22:43:06.080778Z",
     "start_time": "2020-01-11T22:42:59.708925Z"
    },
    "papermill": {
     "duration": 3.850476,
     "end_time": "2020-03-22T03:44:11.220374",
     "exception": false,
     "start_time": "2020-03-22T03:44:07.369898",
     "status": "completed"
    },
    "tags": []
   },
   "outputs": [
    {
     "name": "stderr",
     "output_type": "stream",
     "text": [
      "... storing '#chr' as categorical\n"
     ]
    }
   ],
   "source": [
    "sig_dict = hypo_sig_dict\n",
    "\n",
    "rows = []\n",
    "cols = []\n",
    "datas = []\n",
    "for i, (sample, dmr_index) in enumerate(sig_dict.items()):\n",
    "    col = dmr_index.map(lambda i: i.split('_')[1]).astype(int).values\n",
    "    row = (np.ones_like(col) * i).astype(int)\n",
    "    data = np.ones_like(col)\n",
    "    rows.append(row)\n",
    "    cols.append(col)\n",
    "    datas.append(data)\n",
    "datas = np.concatenate(datas)\n",
    "cols = np.concatenate(cols)\n",
    "rows = np.concatenate(rows)\n",
    "hits = csr_matrix((datas, (rows, cols)),\n",
    "                  shape=(mc_rate.shape[1], dmr_bed.shape[0]))\n",
    "\n",
    "# obs is DMR, var is sample, because all analysis is dmr focused\n",
    "dmr_hits = anndata.AnnData(X=hits.T,\n",
    "                           obs=dmr_bed,\n",
    "                           var=pd.DataFrame([], index=mc_rate.columns))\n",
    "\n",
    "dmr_hits.write_h5ad(hypo_dir / 'TotalHits.h5ad')\n"
   ]
  },
  {
   "cell_type": "code",
   "execution_count": 19,
   "metadata": {
    "ExecuteTime": {
     "end_time": "2020-01-11T22:43:11.941645Z",
     "start_time": "2020-01-11T22:43:06.082301Z"
    },
    "papermill": {
     "duration": 3.392566,
     "end_time": "2020-03-22T03:44:14.642313",
     "exception": false,
     "start_time": "2020-03-22T03:44:11.249747",
     "status": "completed"
    },
    "tags": []
   },
   "outputs": [
    {
     "name": "stderr",
     "output_type": "stream",
     "text": [
      "... storing '#chr' as categorical\n"
     ]
    }
   ],
   "source": [
    "sig_dict = hyper_sig_dict\n",
    "\n",
    "rows = []\n",
    "cols = []\n",
    "datas = []\n",
    "for i, (sample, dmr_index) in enumerate(sig_dict.items()):\n",
    "    col = dmr_index.map(lambda i: i.split('_')[1]).astype(int).values\n",
    "    row = (np.ones_like(col) * i).astype(int)\n",
    "    data = np.ones_like(col)\n",
    "    rows.append(row)\n",
    "    cols.append(col)\n",
    "    datas.append(data)\n",
    "datas = np.concatenate(datas)\n",
    "cols = np.concatenate(cols)\n",
    "rows = np.concatenate(rows)\n",
    "hits = csr_matrix((datas, (rows, cols)),\n",
    "                  shape=(mc_rate.shape[1], dmr_bed.shape[0]))\n",
    "\n",
    "# obs is DMR, var is sample, because all analysis is dmr focused\n",
    "dmr_hits = anndata.AnnData(X=hits.T,\n",
    "                           obs=dmr_bed,\n",
    "                           var=pd.DataFrame([], index=mc_rate.columns))\n",
    "\n",
    "dmr_hits.write_h5ad(hyper_dir / 'TotalHits.h5ad')"
   ]
  },
  {
   "cell_type": "code",
   "execution_count": null,
   "metadata": {
    "papermill": {
     "duration": 0.029145,
     "end_time": "2020-03-22T03:44:14.699438",
     "exception": false,
     "start_time": "2020-03-22T03:44:14.670293",
     "status": "completed"
    },
    "tags": []
   },
   "outputs": [],
   "source": []
  },
  {
   "cell_type": "code",
   "execution_count": null,
   "metadata": {
    "papermill": {
     "duration": 0.026681,
     "end_time": "2020-03-22T03:44:14.752891",
     "exception": false,
     "start_time": "2020-03-22T03:44:14.726210",
     "status": "completed"
    },
    "tags": []
   },
   "outputs": [],
   "source": []
  },
  {
   "cell_type": "code",
   "execution_count": null,
   "metadata": {
    "papermill": {
     "duration": 0.027279,
     "end_time": "2020-03-22T03:44:14.807786",
     "exception": false,
     "start_time": "2020-03-22T03:44:14.780507",
     "status": "completed"
    },
    "tags": []
   },
   "outputs": [],
   "source": []
  }
 ],
 "metadata": {
  "hide_input": false,
  "kernelspec": {
   "display_name": "Python 3",
   "language": "python",
   "name": "python3"
  },
  "language_info": {
   "codemirror_mode": {
    "name": "ipython",
    "version": 3
   },
   "file_extension": ".py",
   "mimetype": "text/x-python",
   "name": "python",
   "nbconvert_exporter": "python",
   "pygments_lexer": "ipython3",
   "version": "3.7.3"
  },
  "papermill": {
   "duration": 155.733907,
   "end_time": "2020-03-22T03:44:15.643228",
   "environment_variables": {},
   "exception": null,
   "input_path": "1.FilterDMRRecipe_robust_mean_delta.ipynb",
   "output_path": "/home/hanliu/project/mouse_rostral_brain/DMR/ITSpatial_DissectionRegion/Recipe/1.FilterDMRRecipe_robust_mean_delta.ipynb",
   "parameters": {
    "black_list_path": "/home/hanliu/ref/blacklist/mm10-blacklist.v2.bed.gz",
    "delta_to_mean": 0.3,
    "dmr_path": "/home/hanliu/project/mouse_rostral_brain/DMR/ITSpatial_DissectionRegion/ITSpatial_rms_results_collapsed.tsv",
    "dmr_prefix": "ITSpatial",
    "dms_cutoff": 2,
    "skip_quantile": 0.25
   },
   "start_time": "2020-03-22T03:41:39.909321",
   "version": "1.0.1"
  },
  "toc": {
   "base_numbering": 1,
   "nav_menu": {},
   "number_sections": true,
   "sideBar": true,
   "skip_h1_title": true,
   "title_cell": "Table of Contents",
   "title_sidebar": "Contents",
   "toc_cell": false,
   "toc_position": {},
   "toc_section_display": true,
   "toc_window_display": true
  }
 },
 "nbformat": 4,
 "nbformat_minor": 2
}