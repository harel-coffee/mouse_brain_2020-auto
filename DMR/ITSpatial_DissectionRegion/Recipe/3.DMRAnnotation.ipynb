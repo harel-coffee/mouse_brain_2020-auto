{
 "cells": [
  {
   "cell_type": "code",
   "execution_count": null,
   "metadata": {
    "hide_input": true,
    "inputHidden": true
   },
   "outputs": [
    {
     "data": {
      "text/html": [
       "<span style=\"color:red; font-family:Helvetica Neue, Helvetica, Arial, sans-serif; font-size:2em;\">An Exception was encountered at 'In [7]'.</span>"
      ]
     },
     "metadata": {},
     "output_type": "display_data"
    }
   ],
   "source": [
    "%%html\n",
    "<span style=\"color:red; font-family:Helvetica Neue, Helvetica, Arial, sans-serif; font-size:2em;\">An Exception was encountered at 'In [7]'.</span>"
   ]
  },
  {
   "cell_type": "code",
   "execution_count": 1,
   "metadata": {
    "ExecuteTime": {
     "end_time": "2020-03-22T03:46:38.163070Z",
     "start_time": "2020-03-22T03:46:37.505332Z"
    },
    "papermill": {
     "duration": 0.454373,
     "end_time": "2020-03-22T04:33:18.872065",
     "exception": false,
     "start_time": "2020-03-22T04:33:18.417692",
     "status": "completed"
    },
    "tags": []
   },
   "outputs": [],
   "source": [
    "import pandas as pd\n",
    "from pybedtools import BedTool\n",
    "import pathlib\n",
    "import anndata\n",
    "import numpy as np\n",
    "from scipy.sparse import coo_matrix, hstack"
   ]
  },
  {
   "cell_type": "code",
   "execution_count": 2,
   "metadata": {
    "ExecuteTime": {
     "end_time": "2020-03-22T03:46:41.098498Z",
     "start_time": "2020-03-22T03:46:41.095018Z"
    },
    "papermill": {
     "duration": 0.014117,
     "end_time": "2020-03-22T04:33:18.895721",
     "exception": false,
     "start_time": "2020-03-22T04:33:18.881604",
     "status": "completed"
    },
    "tags": [
     "parameters"
    ]
   },
   "outputs": [],
   "source": [
    "dmr_bed = '/home/hanliu/project/mouse_rostral_brain/DMR/DGmCHGroup/DMR/TotalDMR.nofilter.bed'"
   ]
  },
  {
   "cell_type": "code",
   "execution_count": 3,
   "metadata": {
    "papermill": {
     "duration": 0.012929,
     "end_time": "2020-03-22T04:33:18.916844",
     "exception": false,
     "start_time": "2020-03-22T04:33:18.903915",
     "status": "completed"
    },
    "tags": [
     "injected-parameters"
    ]
   },
   "outputs": [],
   "source": [
    "# Parameters\n",
    "dmr_bed = \"/home/hanliu/project/mouse_rostral_brain/DMR/ITSpatial_DissectionRegion/TotalDMR.nofilter.bed\"\n"
   ]
  },
  {
   "cell_type": "code",
   "execution_count": 4,
   "metadata": {
    "ExecuteTime": {
     "end_time": "2020-03-22T03:46:42.750352Z",
     "start_time": "2020-03-22T03:46:42.746633Z"
    },
    "papermill": {
     "duration": 0.013044,
     "end_time": "2020-03-22T04:33:18.937927",
     "exception": false,
     "start_time": "2020-03-22T04:33:18.924883",
     "status": "completed"
    },
    "tags": []
   },
   "outputs": [],
   "source": [
    "output_dir = pathlib.Path(dmr_bed).parent / 'Annotation'"
   ]
  },
  {
   "cell_type": "code",
   "execution_count": 5,
   "metadata": {
    "ExecuteTime": {
     "end_time": "2020-01-11T20:24:52.399682Z",
     "start_time": "2020-01-11T20:24:52.392446Z"
    },
    "papermill": {
     "duration": 0.017748,
     "end_time": "2020-03-22T04:33:18.963721",
     "exception": false,
     "start_time": "2020-03-22T04:33:18.945973",
     "status": "completed"
    },
    "tags": []
   },
   "outputs": [],
   "source": [
    "# genome features\n",
    "genome_features = {\n",
    "    'CGI_promoter':\n",
    "    '/home/hanliu/ref/mouse/genome_feature/sort_and_merge/CGI_promoter.all.merge.sort.bed',\n",
    "    'exon':\n",
    "    '/home/hanliu/ref/mouse/genome_feature/sort_and_merge/exon.all.merge.sort.bed',\n",
    "    'exon_first':\n",
    "    '/home/hanliu/ref/mouse/genome_feature/sort_and_merge/exon.first.merge.sort.bed',\n",
    "    'gene_all':\n",
    "    '/home/hanliu/ref/mouse/genome_feature/sort_and_merge/gene.all.merge.sort.bed',\n",
    "    'gene_lincRNA':\n",
    "    '/home/hanliu/ref/mouse/genome_feature/sort_and_merge/gene.lincRNA.merge.sort.bed',\n",
    "    'gene_protein_coding':\n",
    "    '/home/hanliu/ref/mouse/genome_feature/sort_and_merge/gene.protein_coding.merge.sort.bed',\n",
    "    'intron':\n",
    "    '/home/hanliu/ref/mouse/genome_feature/sort_and_merge/intron.all.merge.sort.bed',\n",
    "    'intron_first':\n",
    "    '/home/hanliu/ref/mouse/genome_feature/sort_and_merge/intron.first.merge.sort.bed',\n",
    "    'Non_CGI_promoter':\n",
    "    '/home/hanliu/ref/mouse/genome_feature/sort_and_merge/Non_CGI_promoter.all.merge.sort.bed',\n",
    "    'promoter':\n",
    "    '/home/hanliu/ref/mouse/genome_feature/sort_and_merge/promoter.all.merge.sort.bed',\n",
    "    'start_codon':\n",
    "    '/home/hanliu/ref/mouse/genome_feature/sort_and_merge/start_codon.all.merge.sort.bed',\n",
    "    'stop_codon':\n",
    "    '/home/hanliu/ref/mouse/genome_feature/sort_and_merge/stop_codon.all.merge.sort.bed',\n",
    "    'transcript':\n",
    "    '/home/hanliu/ref/mouse/genome_feature/sort_and_merge/transcript.all.merge.sort.bed',\n",
    "    'TSS':\n",
    "    '/home/hanliu/ref/mouse/genome_feature/sort_and_merge/TSS.all.merge.sort.bed',\n",
    "    'UTR3':\n",
    "    '/home/hanliu/ref/mouse/genome_feature/sort_and_merge/UTR3.all.merge.sort.bed',\n",
    "    'UTR5':\n",
    "    '/home/hanliu/ref/mouse/genome_feature/sort_and_merge/UTR5.all.merge.sort.bed',\n",
    "    'CGI':\n",
    "    '/home/hanliu/ref/mouse/genome_feature/sort_and_merge/CGI.merge.sort.bed',\n",
    "    'CGI_Shore':\n",
    "    '/home/hanliu/ref/mouse/genome_feature/sort_and_merge/CGI_Shore.merge.sort.bed',\n",
    "    'splicing_site_slop100':\n",
    "    '/home/hanliu/ref/mouse/genome_feature/sort_and_merge/splicing_site_slop100.merge.sort.bed',\n",
    "    'splicing_site_slop1000':\n",
    "    '/home/hanliu/ref/mouse/genome_feature/sort_and_merge/splicing_site_slop1000.merge.sort.bed'\n",
    "}\n",
    "\n",
    "# different kinds of TEs\n",
    "te_beds = list(\n",
    "    pathlib.Path('/home/hanliu/ref/mouse/ucsc/TE_Beds').glob('*bed'))\n",
    "te_beds = {'.'.join(p.name.split('.')[:2]): p for p in te_beds}\n",
    "\n",
    "# bulk published DMRs\n",
    "bulk_dmr = {\n",
    "    'feDMR':\n",
    "    '/home/hanliu/ref/inhouse/He_2020_Nature_Mouse_Tissue_Developmental/feDMR_NT_FB_MB_HB.bed',\n",
    "    'adultDMR':\n",
    "    '/home/hanliu/ref/inhouse/Hon_Adult_Mouse_Tissue_DMR/Non-NS.no_overlap_with_NS.mm10.bed'\n",
    "}\n",
    "\n",
    "# atac peaks\n",
    "peak_beds = list(\n",
    "    pathlib.Path('/home/hanliu/project/mouse_rostral_brain/ATAC/peak/').glob(\n",
    "        '*bed'))\n",
    "peak_beds = {'.'.join(p.name.split('.')[:3]): p for p in peak_beds}"
   ]
  },
  {
   "cell_type": "code",
   "execution_count": 6,
   "metadata": {
    "ExecuteTime": {
     "end_time": "2020-01-11T20:24:52.544729Z",
     "start_time": "2020-01-11T20:24:52.542456Z"
    },
    "papermill": {
     "duration": 0.012268,
     "end_time": "2020-03-22T04:33:18.983945",
     "exception": false,
     "start_time": "2020-03-22T04:33:18.971677",
     "status": "completed"
    },
    "tags": []
   },
   "outputs": [],
   "source": [
    "dmr_bed = BedTool(dmr_bed)"
   ]
  },
  {
   "cell_type": "markdown",
   "metadata": {
    "papermill": {
     "duration": 0.007761,
     "end_time": "2020-03-22T04:33:19.000141",
     "exception": false,
     "start_time": "2020-03-22T04:33:18.992380",
     "status": "completed"
    },
    "tags": []
   },
   "source": [
    "## Intersect"
   ]
  },
  {
   "cell_type": "code",
   "execution_count": 7,
   "metadata": {
    "ExecuteTime": {
     "end_time": "2020-01-11T20:25:31.022317Z",
     "start_time": "2020-01-11T20:24:53.219766Z"
    },
    "papermill": {
     "duration": 62.392453,
     "end_time": "2020-03-22T04:34:21.400633",
     "exception": true,
     "start_time": "2020-03-22T04:33:19.008180",
     "status": "failed"
    },
    "scrolled": true,
    "tags": []
   },
   "outputs": [
    {
     "name": "stdout",
     "output_type": "stream",
     "text": [
      "GenomeFeature CGI_promoter\n"
     ]
    },
    {
     "name": "stdout",
     "output_type": "stream",
     "text": [
      "GenomeFeature exon\n"
     ]
    },
    {
     "name": "stdout",
     "output_type": "stream",
     "text": [
      "GenomeFeature exon_first\n"
     ]
    },
    {
     "name": "stdout",
     "output_type": "stream",
     "text": [
      "GenomeFeature gene_all\n"
     ]
    },
    {
     "name": "stdout",
     "output_type": "stream",
     "text": [
      "GenomeFeature gene_lincRNA\n"
     ]
    },
    {
     "name": "stdout",
     "output_type": "stream",
     "text": [
      "GenomeFeature gene_protein_coding\n"
     ]
    },
    {
     "name": "stdout",
     "output_type": "stream",
     "text": [
      "GenomeFeature intron\n"
     ]
    },
    {
     "name": "stdout",
     "output_type": "stream",
     "text": [
      "GenomeFeature intron_first\n"
     ]
    },
    {
     "name": "stdout",
     "output_type": "stream",
     "text": [
      "GenomeFeature Non_CGI_promoter\n"
     ]
    },
    {
     "name": "stdout",
     "output_type": "stream",
     "text": [
      "GenomeFeature promoter\n"
     ]
    },
    {
     "name": "stdout",
     "output_type": "stream",
     "text": [
      "GenomeFeature start_codon\n"
     ]
    },
    {
     "name": "stdout",
     "output_type": "stream",
     "text": [
      "GenomeFeature stop_codon\n"
     ]
    },
    {
     "name": "stdout",
     "output_type": "stream",
     "text": [
      "GenomeFeature transcript\n"
     ]
    },
    {
     "name": "stdout",
     "output_type": "stream",
     "text": [
      "GenomeFeature TSS\n"
     ]
    },
    {
     "name": "stdout",
     "output_type": "stream",
     "text": [
      "GenomeFeature UTR3\n"
     ]
    },
    {
     "name": "stdout",
     "output_type": "stream",
     "text": [
      "GenomeFeature UTR5\n"
     ]
    },
    {
     "name": "stdout",
     "output_type": "stream",
     "text": [
      "GenomeFeature CGI\n"
     ]
    },
    {
     "name": "stdout",
     "output_type": "stream",
     "text": [
      "GenomeFeature CGI_Shore\n"
     ]
    },
    {
     "name": "stdout",
     "output_type": "stream",
     "text": [
      "GenomeFeature splicing_site_slop100\n"
     ]
    },
    {
     "name": "stdout",
     "output_type": "stream",
     "text": [
      "GenomeFeature splicing_site_slop1000\n"
     ]
    },
    {
     "name": "stdout",
     "output_type": "stream",
     "text": [
      "TE DNA.DNA\n"
     ]
    },
    {
     "name": "stdout",
     "output_type": "stream",
     "text": [
      "TE DNA.MULE-MuDR\n"
     ]
    },
    {
     "name": "stdout",
     "output_type": "stream",
     "text": [
      "TE DNA.MuDR\n"
     ]
    },
    {
     "name": "stdout",
     "output_type": "stream",
     "text": [
      "TE DNA.PiggyBac\n"
     ]
    },
    {
     "name": "stdout",
     "output_type": "stream",
     "text": [
      "TE DNA.TcMar\n"
     ]
    },
    {
     "name": "stdout",
     "output_type": "stream",
     "text": [
      "TE DNA.TcMar-Mariner\n"
     ]
    },
    {
     "name": "stdout",
     "output_type": "stream",
     "text": [
      "TE DNA.TcMar-Pogo\n"
     ]
    },
    {
     "name": "stdout",
     "output_type": "stream",
     "text": [
      "TE DNA.TcMar-Tc2\n"
     ]
    },
    {
     "name": "stdout",
     "output_type": "stream",
     "text": [
      "TE DNA.TcMar-Tigger\n"
     ]
    },
    {
     "name": "stdout",
     "output_type": "stream",
     "text": [
      "TE DNA.hAT\n"
     ]
    },
    {
     "name": "stdout",
     "output_type": "stream",
     "text": [
      "TE DNA.hAT-Blackjack\n"
     ]
    },
    {
     "name": "stdout",
     "output_type": "stream",
     "text": [
      "TE DNA.hAT-Charlie\n"
     ]
    },
    {
     "name": "stdout",
     "output_type": "stream",
     "text": [
      "TE DNA.hAT-Tip100\n"
     ]
    },
    {
     "name": "stdout",
     "output_type": "stream",
     "text": [
      "TE LINE.CR1\n"
     ]
    },
    {
     "name": "stdout",
     "output_type": "stream",
     "text": [
      "TE LINE.Dong-R4\n"
     ]
    },
    {
     "name": "stdout",
     "output_type": "stream",
     "text": [
      "TE LINE.L1\n"
     ]
    },
    {
     "name": "stdout",
     "output_type": "stream",
     "text": [
      "TE LINE.L2\n"
     ]
    },
    {
     "name": "stdout",
     "output_type": "stream",
     "text": [
      "TE LINE.RTE-BovB\n"
     ]
    },
    {
     "name": "stdout",
     "output_type": "stream",
     "text": [
      "TE LINE.RTE-X\n"
     ]
    },
    {
     "name": "stdout",
     "output_type": "stream",
     "text": [
      "TE LTR.ERV1\n"
     ]
    },
    {
     "name": "stdout",
     "output_type": "stream",
     "text": [
      "TE LTR.ERVK\n"
     ]
    },
    {
     "name": "stdout",
     "output_type": "stream",
     "text": [
      "TE LTR.ERVL\n"
     ]
    },
    {
     "name": "stdout",
     "output_type": "stream",
     "text": [
      "TE LTR.ERVL-MaLR\n"
     ]
    },
    {
     "name": "stdout",
     "output_type": "stream",
     "text": [
      "TE LTR.Gypsy\n"
     ]
    },
    {
     "name": "stdout",
     "output_type": "stream",
     "text": [
      "TE LTR.LTR\n"
     ]
    },
    {
     "name": "stdout",
     "output_type": "stream",
     "text": [
      "TE SINE.Alu\n"
     ]
    },
    {
     "name": "stdout",
     "output_type": "stream",
     "text": [
      "TE SINE.B2\n"
     ]
    },
    {
     "name": "stdout",
     "output_type": "stream",
     "text": [
      "TE SINE.B4\n"
     ]
    },
    {
     "name": "stdout",
     "output_type": "stream",
     "text": [
      "TE SINE.Deu\n"
     ]
    },
    {
     "name": "stdout",
     "output_type": "stream",
     "text": [
      "TE SINE.ID\n"
     ]
    },
    {
     "name": "stdout",
     "output_type": "stream",
     "text": [
      "TE SINE.MIR\n"
     ]
    },
    {
     "name": "stdout",
     "output_type": "stream",
     "text": [
      "TE SINE.tRNA\n"
     ]
    },
    {
     "name": "stdout",
     "output_type": "stream",
     "text": [
      "BulkDMR feDMR\n"
     ]
    },
    {
     "ename": "FileNotFoundError",
     "evalue": "File \"/home/hanliu/ref/inhouse/He_2020_Nature_Mouse_Tissue_Developmental/feDMR_NT_FB_MB_HB.bed\" does not exist",
     "output_type": "error",
     "traceback": [
      "\u001b[0;31m---------------------------------------------------------------------------\u001b[0m",
      "\u001b[0;31mFileNotFoundError\u001b[0m                         Traceback (most recent call last)",
      "\u001b[0;32m<ipython-input-7-a8e71617b18e>\u001b[0m in \u001b[0;36m<module>\u001b[0;34m\u001b[0m\n\u001b[1;32m     12\u001b[0m     \u001b[0;32mfor\u001b[0m \u001b[0mfname\u001b[0m\u001b[0;34m,\u001b[0m \u001b[0mpath\u001b[0m \u001b[0;32min\u001b[0m \u001b[0mpath_dict\u001b[0m\u001b[0;34m.\u001b[0m\u001b[0mitems\u001b[0m\u001b[0;34m(\u001b[0m\u001b[0;34m)\u001b[0m\u001b[0;34m:\u001b[0m\u001b[0;34m\u001b[0m\u001b[0;34m\u001b[0m\u001b[0m\n\u001b[1;32m     13\u001b[0m         \u001b[0mprint\u001b[0m\u001b[0;34m(\u001b[0m\u001b[0mname\u001b[0m\u001b[0;34m,\u001b[0m \u001b[0mfname\u001b[0m\u001b[0;34m)\u001b[0m\u001b[0;34m\u001b[0m\u001b[0;34m\u001b[0m\u001b[0m\n\u001b[0;32m---> 14\u001b[0;31m         \u001b[0mthis_bed\u001b[0m \u001b[0;34m=\u001b[0m \u001b[0mBedTool\u001b[0m\u001b[0;34m(\u001b[0m\u001b[0mstr\u001b[0m\u001b[0;34m(\u001b[0m\u001b[0mpath\u001b[0m\u001b[0;34m)\u001b[0m\u001b[0;34m)\u001b[0m\u001b[0;34m\u001b[0m\u001b[0;34m\u001b[0m\u001b[0m\n\u001b[0m\u001b[1;32m     15\u001b[0m         \u001b[0mdmr_bed\u001b[0m\u001b[0;34m.\u001b[0m\u001b[0mintersect\u001b[0m\u001b[0;34m(\u001b[0m\u001b[0mthis_bed\u001b[0m\u001b[0;34m,\u001b[0m \u001b[0mwa\u001b[0m\u001b[0;34m=\u001b[0m\u001b[0;32mTrue\u001b[0m\u001b[0;34m,\u001b[0m \u001b[0mu\u001b[0m\u001b[0;34m=\u001b[0m\u001b[0;32mTrue\u001b[0m\u001b[0;34m)\u001b[0m\u001b[0;34m.\u001b[0m\u001b[0msaveas\u001b[0m\u001b[0;34m(\u001b[0m\u001b[0;34mf'{_output_dir}/{fname}.bed'\u001b[0m\u001b[0;34m)\u001b[0m\u001b[0;34m\u001b[0m\u001b[0;34m\u001b[0m\u001b[0m\n",
      "\u001b[0;32m~/miniconda3/envs/clustering/lib/python3.7/site-packages/pybedtools/bedtool.py\u001b[0m in \u001b[0;36m__init__\u001b[0;34m(self, fn, from_string, remote)\u001b[0m\n\u001b[1;32m    460\u001b[0m                         \u001b[0;32mif\u001b[0m \u001b[0msix\u001b[0m\u001b[0;34m.\u001b[0m\u001b[0mPY2\u001b[0m\u001b[0;34m:\u001b[0m\u001b[0;34m\u001b[0m\u001b[0;34m\u001b[0m\u001b[0m\n\u001b[1;32m    461\u001b[0m                             \u001b[0;32mraise\u001b[0m \u001b[0mValueError\u001b[0m\u001b[0;34m(\u001b[0m\u001b[0mmsg\u001b[0m\u001b[0;34m)\u001b[0m\u001b[0;34m\u001b[0m\u001b[0;34m\u001b[0m\u001b[0m\n\u001b[0;32m--> 462\u001b[0;31m                         \u001b[0;32mraise\u001b[0m \u001b[0mFileNotFoundError\u001b[0m\u001b[0;34m(\u001b[0m\u001b[0mmsg\u001b[0m\u001b[0;34m)\u001b[0m\u001b[0;34m\u001b[0m\u001b[0;34m\u001b[0m\u001b[0m\n\u001b[0m\u001b[1;32m    463\u001b[0m                     \u001b[0mself\u001b[0m\u001b[0;34m.\u001b[0m\u001b[0m_isbam\u001b[0m \u001b[0;34m=\u001b[0m \u001b[0misBAM\u001b[0m\u001b[0;34m(\u001b[0m\u001b[0mfn\u001b[0m\u001b[0;34m)\u001b[0m\u001b[0;34m\u001b[0m\u001b[0;34m\u001b[0m\u001b[0m\n\u001b[1;32m    464\u001b[0m \u001b[0;34m\u001b[0m\u001b[0m\n",
      "\u001b[0;31mFileNotFoundError\u001b[0m: File \"/home/hanliu/ref/inhouse/He_2020_Nature_Mouse_Tissue_Developmental/feDMR_NT_FB_MB_HB.bed\" does not exist"
     ]
    }
   ],
   "source": [
    "dicts = {\n",
    "    'GenomeFeature': genome_features,\n",
    "    'TE': te_beds,\n",
    "    'BulkDMR': bulk_dmr,\n",
    "    'ATACPeak': peak_beds\n",
    "}\n",
    "\n",
    "for name, path_dict in dicts.items():\n",
    "    _output_dir = pathlib.Path(output_dir) / name\n",
    "    pathlib.Path(_output_dir).mkdir(exist_ok=True, parents=True)\n",
    "    \n",
    "    for fname, path in path_dict.items():\n",
    "        print(name, fname)\n",
    "        this_bed = BedTool(str(path))\n",
    "        dmr_bed.intersect(this_bed, wa=True, u=True).saveas(f'{_output_dir}/{fname}.bed')\n"
   ]
  },
  {
   "cell_type": "markdown",
   "metadata": {
    "papermill": {
     "duration": null,
     "end_time": null,
     "exception": null,
     "start_time": null,
     "status": "pending"
    },
    "tags": []
   },
   "source": [
    "## Reverse intersect"
   ]
  },
  {
   "cell_type": "code",
   "execution_count": null,
   "metadata": {
    "papermill": {
     "duration": null,
     "end_time": null,
     "exception": null,
     "start_time": null,
     "status": "pending"
    },
    "tags": []
   },
   "outputs": [],
   "source": [
    "# dicts = {\n",
    "#     'GenomeFeature': genome_features,\n",
    "#     'TE': te_beds,\n",
    "#     'BulkDMR': bulk_dmr,\n",
    "#     'ATACPeak': peak_beds\n",
    "# }\n",
    "# \n",
    "# for name, path_dict in dicts.items():\n",
    "#     output_dir = f'reverse_intersect/{name}'\n",
    "#     pathlib.Path(output_dir).mkdir(exist_ok=True)\n",
    "#     \n",
    "#     for fname, path in path_dict.items():\n",
    "#         print(name, fname)\n",
    "#         this_bed = BedTool(str(path))\n",
    "#         this_bed.intersect(dmr_bed, wa=True, u=True).saveas(f'{output_dir}/{fname}.bed')\n",
    "# "
   ]
  },
  {
   "cell_type": "markdown",
   "metadata": {
    "papermill": {
     "duration": null,
     "end_time": null,
     "exception": null,
     "start_time": null,
     "status": "pending"
    },
    "tags": []
   },
   "source": [
    "## Assemble Adata\n",
    "- Genome features, ATAC Peak in each cell type, motif hits, bulk dmrs, TEs\n"
   ]
  },
  {
   "cell_type": "code",
   "execution_count": null,
   "metadata": {
    "ExecuteTime": {
     "end_time": "2020-01-11T20:25:38.359464Z",
     "start_time": "2020-01-11T20:25:38.104344Z"
    },
    "papermill": {
     "duration": null,
     "end_time": null,
     "exception": null,
     "start_time": null,
     "status": "pending"
    },
    "tags": []
   },
   "outputs": [],
   "source": [
    "dmr_bed_df = dmr_bed.to_dataframe()\n",
    "dmr_int_map = {v: k for k, v in dmr_bed_df['name'].items()}"
   ]
  },
  {
   "cell_type": "code",
   "execution_count": null,
   "metadata": {
    "ExecuteTime": {
     "end_time": "2020-01-11T20:26:27.620094Z",
     "start_time": "2020-01-11T20:26:27.614672Z"
    },
    "papermill": {
     "duration": null,
     "end_time": null,
     "exception": null,
     "start_time": null,
     "status": "pending"
    },
    "tags": []
   },
   "outputs": [],
   "source": [
    "beds = {}\n",
    "for name in dicts.keys():\n",
    "    paths = (pathlib.Path(output_dir) / name).glob('*bed')\n",
    "    for p in paths:\n",
    "        pname = p.name[:-4]\n",
    "        beds[pname] = str(p)"
   ]
  },
  {
   "cell_type": "code",
   "execution_count": null,
   "metadata": {
    "ExecuteTime": {
     "end_time": "2020-01-11T20:27:21.181410Z",
     "start_time": "2020-01-11T20:26:28.627184Z"
    },
    "papermill": {
     "duration": null,
     "end_time": null,
     "exception": null,
     "start_time": null,
     "status": "pending"
    },
    "scrolled": true,
    "tags": []
   },
   "outputs": [],
   "source": [
    "names_int_map = {}\n",
    "xs = []\n",
    "ys = []\n",
    "datas = []\n",
    "for i, (name, bed) in enumerate(beds.items()):\n",
    "    print(name)\n",
    "    names_int_map[name] = i\n",
    "    try:\n",
    "        bed_df = pd.read_csv(bed, header=None, sep='\\t', index_col=-1)\n",
    "    except pd.errors.EmptyDataError:\n",
    "        continue\n",
    "    n = bed_df.shape[0]\n",
    "    xs.append(bed_df.index.map(dmr_int_map).values)\n",
    "    ys.append(np.array([i] * n))\n",
    "    datas.append(np.array([True] * n))"
   ]
  },
  {
   "cell_type": "code",
   "execution_count": null,
   "metadata": {
    "ExecuteTime": {
     "end_time": "2020-01-11T20:27:24.183669Z",
     "start_time": "2020-01-11T20:27:23.790923Z"
    },
    "papermill": {
     "duration": null,
     "end_time": null,
     "exception": null,
     "start_time": null,
     "status": "pending"
    },
    "tags": []
   },
   "outputs": [],
   "source": [
    "csr = coo_matrix((np.concatenate(datas), \n",
    "                  (np.concatenate(xs), \n",
    "                   np.concatenate(ys))), \n",
    "                 shape=(len(dmr_int_map), \n",
    "                        len(names_int_map)))\\\n",
    ".tocsr()\n",
    "\n",
    "feature_adata = anndata.AnnData(X=csr, \n",
    "                                obs=pd.DataFrame([], index=pd.Series(dmr_int_map).sort_values().index),\n",
    "                                var=pd.DataFrame([], index=pd.Series(names_int_map).sort_values().index))\n"
   ]
  },
  {
   "cell_type": "code",
   "execution_count": null,
   "metadata": {
    "ExecuteTime": {
     "end_time": "2020-01-11T20:27:30.918484Z",
     "start_time": "2020-01-11T20:27:30.895181Z"
    },
    "papermill": {
     "duration": null,
     "end_time": null,
     "exception": null,
     "start_time": null,
     "status": "pending"
    },
    "tags": []
   },
   "outputs": [],
   "source": [
    "feature_annot = {\n",
    "    'CGI_promoter': 'GenomeFeature',\n",
    "    'exon': 'GenomeFeature',\n",
    "    'exon_first': 'GenomeFeature',\n",
    "    'gene_all': 'GenomeFeature',\n",
    "    'gene_lincRNA': 'GenomeFeature',\n",
    "    'gene_protein_coding': 'GenomeFeature',\n",
    "    'intron': 'GenomeFeature',\n",
    "    'intron_first': 'GenomeFeature',\n",
    "    'Non_CGI_promoter': 'GenomeFeature',\n",
    "    'promoter': 'GenomeFeature',\n",
    "    'start_codon': 'GenomeFeature',\n",
    "    'stop_codon': 'GenomeFeature',\n",
    "    'transcript': 'GenomeFeature',\n",
    "    'TSS': 'GenomeFeature',\n",
    "    'UTR3': 'GenomeFeature',\n",
    "    'UTR5': 'GenomeFeature',\n",
    "    'CGI': 'GenomeFeature',\n",
    "    'CGI_Shore': 'GenomeFeature',\n",
    "    'splicing_site_slop100': 'GenomeFeature',\n",
    "    'splicing_site_slop1000': 'GenomeFeature',\n",
    "    'DNA.DNA': 'TE-DNA',\n",
    "    'DNA.MULE-MuDR': 'TE-DNA',\n",
    "    'DNA.MuDR': 'TE-DNA',\n",
    "    'DNA.PiggyBac': 'TE-DNA',\n",
    "    'DNA.TcMar': 'TE-DNA',\n",
    "    'DNA.TcMar-Mariner': 'TE-DNA',\n",
    "    'DNA.TcMar-Pogo': 'TE-DNA',\n",
    "    'DNA.TcMar-Tc2': 'TE-DNA',\n",
    "    'DNA.TcMar-Tigger': 'TE-DNA',\n",
    "    'DNA.hAT': 'TE-DNA',\n",
    "    'DNA.hAT-Blackjack': 'TE-DNA',\n",
    "    'DNA.hAT-Charlie': 'TE-DNA',\n",
    "    'DNA.hAT-Tip100': 'TE-DNA',\n",
    "    'LINE.CR1': 'TE-LINE',\n",
    "    'LINE.Dong-R4': 'TE-LINE',\n",
    "    'LINE.L1': 'TE-LINE',\n",
    "    'LINE.L2': 'TE-LINE',\n",
    "    'LINE.RTE-BovB': 'TE-LINE',\n",
    "    'LINE.RTE-X': 'TE-LINE',\n",
    "    'LTR.ERV1': 'TE-LTR',\n",
    "    'LTR.ERVK': 'TE-LTR',\n",
    "    'LTR.ERVL': 'TE-LTR',\n",
    "    'LTR.ERVL-MaLR': 'TE-LTR',\n",
    "    'LTR.Gypsy': 'TE-LTR',\n",
    "    'LTR.LTR': 'TE-LTR',\n",
    "    'SINE.Alu': 'TE-SINE',\n",
    "    'SINE.B2': 'TE-SINE',\n",
    "    'SINE.B4': 'TE-SINE',\n",
    "    'SINE.Deu': 'TE-SINE',\n",
    "    'SINE.ID': 'TE-SINE',\n",
    "    'SINE.MIR': 'TE-SINE',\n",
    "    'SINE.tRNA': 'TE-SINE',\n",
    "    'feDMR': 'BulkDMR',\n",
    "    'adultDMR': 'BulkDMR',\n",
    "    'GABA.CRc.CRc': 'ATACPeak',\n",
    "    'GABA.Cge.Cge3': 'ATACPeak',\n",
    "    'GABA.Cge.Cge5': 'ATACPeak',\n",
    "    'GABA.Cge.Cge6': 'ATACPeak',\n",
    "    'GABA.Cge.CgeHip': 'ATACPeak',\n",
    "    'GABA.Cge.Lamp5': 'ATACPeak',\n",
    "    'GABA.Cge.Vip': 'ATACPeak',\n",
    "    'GABA.Hip.Hip': 'ATACPeak',\n",
    "    'GABA.Mge.Mge1': 'ATACPeak',\n",
    "    'GABA.Mge.Mge2': 'ATACPeak',\n",
    "    'GABA.Mge.Mge3': 'ATACPeak',\n",
    "    'GABA.Mge.Mge4': 'ATACPeak',\n",
    "    'GABA.Mge.Mge5': 'ATACPeak',\n",
    "    'GABA.Mge.Mge6': 'ATACPeak',\n",
    "    'GABA.Mge.Mge7': 'ATACPeak',\n",
    "    'GABA.Mge.Mge8': 'ATACPeak',\n",
    "    'GABA.Mge.Mge9': 'ATACPeak',\n",
    "    'GABA.Mge.Mge10': 'ATACPeak',\n",
    "    'GABA.Mge.Mge11': 'ATACPeak',\n",
    "    'GABA.Mge.Mge12': 'ATACPeak',\n",
    "    'GABA.Msn.D1': 'ATACPeak',\n",
    "    'GABA.Msn.D2': 'ATACPeak',\n",
    "    'GABA.Msn.Foxp2': 'ATACPeak',\n",
    "    'GABA.Msn.MSNOLF': 'ATACPeak',\n",
    "    'GABA.Mxd1.Mxd1': 'ATACPeak',\n",
    "    'GABA.Olf.OBDOP': 'ATACPeak',\n",
    "    'GABA.Olf.OBGC': 'ATACPeak',\n",
    "    'GABA.Olf.OBGLO': 'ATACPeak',\n",
    "    'GABA.Olf.OBIGC': 'ATACPeak',\n",
    "    'GABA.Olf.OBNBL': 'ATACPeak',\n",
    "    'GABA.Sept.LSX': 'ATACPeak',\n",
    "    'GABA.Sept.MA': 'ATACPeak',\n",
    "    'GABA.Sept.MS': 'ATACPeak',\n",
    "    'GABA.Sept.Sept1': 'ATACPeak',\n",
    "    'GABA.Unk.Unk': 'ATACPeak',\n",
    "    'Glutamate.GC.GC': 'ATACPeak',\n",
    "    'NonN.Asc.AscNt': 'ATACPeak',\n",
    "    'NonN.Asc.AscT': 'ATACPeak',\n",
    "    'NonN.Asc.RGDG': 'ATACPeak',\n",
    "    'NonN.Mgc.Mgc': 'ATACPeak',\n",
    "    'NonN.Ogc.Mfol': 'ATACPeak',\n",
    "    'NonN.Ogc.Mol': 'ATACPeak',\n",
    "    'NonN.Opc.Opc': 'ATACPeak',\n",
    "    'NonN.Vc.Vec1': 'ATACPeak',\n",
    "    'NonN.Vc.Vec3': 'ATACPeak',\n",
    "    'NonN.Vc.Vec5': 'ATACPeak',\n",
    "    'NonN.Vc.Vlmc': 'ATACPeak',\n",
    "    'NonN.Vc.Vpia': 'ATACPeak',\n",
    "    'Glutamate.CLA.CLA': 'ATACPeak',\n",
    "    'Glutamate.CT.CT1': 'ATACPeak',\n",
    "    'Glutamate.CT.CT2': 'ATACPeak',\n",
    "    'Glutamate.CT.L6b': 'ATACPeak',\n",
    "    'Glutamate.HIP.CA1': 'ATACPeak',\n",
    "    'Glutamate.HIP.CA1p': 'ATACPeak',\n",
    "    'Glutamate.HIP.CA2': 'ATACPeak',\n",
    "    'Glutamate.HIP.CA3': 'ATACPeak',\n",
    "    'Glutamate.HIP.CA4': 'ATACPeak',\n",
    "    'Glutamate.HIP.CRc': 'ATACPeak',\n",
    "    'Glutamate.HIP.Mossy': 'ATACPeak',\n",
    "    'Glutamate.HIP.NBL': 'ATACPeak',\n",
    "    'Glutamate.HIP.unk1': 'ATACPeak',\n",
    "    'Glutamate.HIP.unk2': 'ATACPeak',\n",
    "    'Glutamate.IT.L4': 'ATACPeak',\n",
    "    'Glutamate.IT.L5': 'ATACPeak',\n",
    "    'Glutamate.IT.L6': 'ATACPeak',\n",
    "    'Glutamate.IT.L23': 'ATACPeak',\n",
    "    'Glutamate.NP.NP1': 'ATACPeak',\n",
    "    'Glutamate.NP.NP2': 'ATACPeak',\n",
    "    'Glutamate.NP.NPHIP': 'ATACPeak',\n",
    "    'Glutamate.PIR.OLFdeep': 'ATACPeak',\n",
    "    'Glutamate.PIR.Pir1': 'ATACPeak',\n",
    "    'Glutamate.PIR.Pir2': 'ATACPeak',\n",
    "    'Glutamate.PIR.Pir3': 'ATACPeak',\n",
    "    'Glutamate.PIR.Pir4': 'ATACPeak',\n",
    "    'Glutamate.PT.Pt': 'ATACPeak',\n",
    "    'Glutamate.PT.Ptlsx': 'ATACPeak',\n",
    "    'NonN.Asc.Myoc': 'ATACPeak',\n",
    "    'NonN.Asc.NIPC': 'ATACPeak',\n",
    "    'NonN.Asc.RGSZ': 'ATACPeak',\n",
    "    'NonN.Ogc.Cop': 'ATACPeak',\n",
    "    'NonN.Ogc.Nfol': 'ATACPeak',\n",
    "    'NonN.Vc.Per': 'ATACPeak',\n",
    "    'NonN.Vc.Vec2': 'ATACPeak',\n",
    "    'NonN.Vc.Vec4': 'ATACPeak',\n",
    "    'rs1atac.merged.reproduced': 'ATACPeakAll'\n",
    "}\n",
    "\n",
    "feature_adata.var['FeatureType'] = feature_adata.var_names.map(feature_annot)"
   ]
  },
  {
   "cell_type": "code",
   "execution_count": null,
   "metadata": {
    "ExecuteTime": {
     "end_time": "2020-01-11T20:27:53.491571Z",
     "start_time": "2020-01-11T20:27:53.129856Z"
    },
    "papermill": {
     "duration": null,
     "end_time": null,
     "exception": null,
     "start_time": null,
     "status": "pending"
    },
    "tags": []
   },
   "outputs": [],
   "source": [
    "total_adata = feature_adata\n",
    "total_adata.write_h5ad(pathlib.Path(output_dir) / 'DMRAnnotation.h5ad')"
   ]
  },
  {
   "cell_type": "code",
   "execution_count": null,
   "metadata": {
    "ExecuteTime": {
     "end_time": "2020-01-11T20:27:34.504406Z",
     "start_time": "2020-01-11T20:27:34.499875Z"
    },
    "papermill": {
     "duration": null,
     "end_time": null,
     "exception": null,
     "start_time": null,
     "status": "pending"
    },
    "tags": []
   },
   "outputs": [],
   "source": [
    "total_adata"
   ]
  },
  {
   "cell_type": "code",
   "execution_count": null,
   "metadata": {
    "ExecuteTime": {
     "end_time": "2020-01-11T20:27:38.431608Z",
     "start_time": "2020-01-11T20:27:38.415573Z"
    },
    "papermill": {
     "duration": null,
     "end_time": null,
     "exception": null,
     "start_time": null,
     "status": "pending"
    },
    "tags": []
   },
   "outputs": [],
   "source": [
    "total_adata.var['FeatureType'].value_counts()"
   ]
  },
  {
   "cell_type": "code",
   "execution_count": null,
   "metadata": {
    "papermill": {
     "duration": null,
     "end_time": null,
     "exception": null,
     "start_time": null,
     "status": "pending"
    },
    "tags": []
   },
   "outputs": [],
   "source": []
  }
 ],
 "metadata": {
  "hide_input": false,
  "kernelspec": {
   "display_name": "Python 3",
   "language": "python",
   "name": "python3"
  },
  "language_info": {
   "codemirror_mode": {
    "name": "ipython",
    "version": 3
   },
   "file_extension": ".py",
   "mimetype": "text/x-python",
   "name": "python",
   "nbconvert_exporter": "python",
   "pygments_lexer": "ipython3",
   "version": "3.7.3"
  },
  "papermill": {
   "duration": 64.353474,
   "end_time": "2020-03-22T04:34:21.906624",
   "environment_variables": {},
   "exception": true,
   "input_path": "3.DMRAnnotation.ipynb",
   "output_path": "/home/hanliu/project/mouse_rostral_brain/DMR/ITSpatial_DissectionRegion/Recipe/3.DMRAnnotation.ipynb",
   "parameters": {
    "dmr_bed": "/home/hanliu/project/mouse_rostral_brain/DMR/ITSpatial_DissectionRegion/TotalDMR.nofilter.bed"
   },
   "start_time": "2020-03-22T04:33:17.553150",
   "version": "1.0.1"
  },
  "toc": {
   "base_numbering": 1,
   "nav_menu": {},
   "number_sections": true,
   "sideBar": true,
   "skip_h1_title": true,
   "title_cell": "Table of Contents",
   "title_sidebar": "Contents",
   "toc_cell": false,
   "toc_position": {},
   "toc_section_display": true,
   "toc_window_display": true
  }
 },
 "nbformat": 4,
 "nbformat_minor": 2
}