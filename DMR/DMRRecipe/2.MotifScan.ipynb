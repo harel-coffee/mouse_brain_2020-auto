{
 "cells": [
  {
   "cell_type": "code",
   "execution_count": 1,
   "metadata": {
    "ExecuteTime": {
     "end_time": "2020-02-10T18:48:55.317625Z",
     "start_time": "2020-02-10T18:48:44.820375Z"
    }
   },
   "outputs": [],
   "source": [
    "from ALLCools.dmr.fimo import scan_motif_over_bed\n",
    "import pandas as pd\n",
    "import numpy as np\n",
    "import seaborn as sns\n",
    "import pathlib\n",
    "import anndata\n",
    "import subprocess\n",
    "from scipy.sparse import csr_matrix"
   ]
  },
  {
   "cell_type": "code",
   "execution_count": 5,
   "metadata": {
    "ExecuteTime": {
     "end_time": "2020-02-10T18:49:39.727700Z",
     "start_time": "2020-02-10T18:49:39.725421Z"
    },
    "tags": [
     "parameters"
    ]
   },
   "outputs": [],
   "source": [
    "bed_path = '/home/hanliu/project/mouse_rostral_brain/DMR/DGmCHGroup/DMR/TotalDMR.nofilter.bed'\n",
    "motif_file_path = '/home/hanliu/ref/MEME/selected_motifs_sets/test_motif.meme'\n",
    "genome_fasta_path = '/home/hanliu/ref/mouse/genome/fasta/raw/mm10.fa'\n",
    "chrom_size_path = '/home/hanliu/ref/mouse/genome/mm10.main.chrom.sizes'"
   ]
  },
  {
   "cell_type": "code",
   "execution_count": 3,
   "metadata": {
    "ExecuteTime": {
     "end_time": "2020-02-10T18:48:55.601136Z",
     "start_time": "2020-02-10T18:48:55.324056Z"
    }
   },
   "outputs": [
    {
     "data": {
      "text/html": [
       "<div>\n",
       "<style scoped>\n",
       "    .dataframe tbody tr th:only-of-type {\n",
       "        vertical-align: middle;\n",
       "    }\n",
       "\n",
       "    .dataframe tbody tr th {\n",
       "        vertical-align: top;\n",
       "    }\n",
       "\n",
       "    .dataframe thead th {\n",
       "        text-align: right;\n",
       "    }\n",
       "</style>\n",
       "<table border=\"1\" class=\"dataframe\">\n",
       "  <thead>\n",
       "    <tr style=\"text-align: right;\">\n",
       "      <th></th>\n",
       "      <th>chrom</th>\n",
       "      <th>start</th>\n",
       "      <th>end</th>\n",
       "    </tr>\n",
       "    <tr>\n",
       "      <th>name</th>\n",
       "      <th></th>\n",
       "      <th></th>\n",
       "      <th></th>\n",
       "    </tr>\n",
       "  </thead>\n",
       "  <tbody>\n",
       "    <tr>\n",
       "      <th>DGmCH_0</th>\n",
       "      <td>chr1</td>\n",
       "      <td>3026310</td>\n",
       "      <td>3026310</td>\n",
       "    </tr>\n",
       "    <tr>\n",
       "      <th>DGmCH_1</th>\n",
       "      <td>chr1</td>\n",
       "      <td>3069892</td>\n",
       "      <td>3069892</td>\n",
       "    </tr>\n",
       "    <tr>\n",
       "      <th>DGmCH_2</th>\n",
       "      <td>chr1</td>\n",
       "      <td>3084771</td>\n",
       "      <td>3084771</td>\n",
       "    </tr>\n",
       "    <tr>\n",
       "      <th>DGmCH_3</th>\n",
       "      <td>chr1</td>\n",
       "      <td>3092179</td>\n",
       "      <td>3092179</td>\n",
       "    </tr>\n",
       "    <tr>\n",
       "      <th>DGmCH_4</th>\n",
       "      <td>chr1</td>\n",
       "      <td>3118806</td>\n",
       "      <td>3118806</td>\n",
       "    </tr>\n",
       "  </tbody>\n",
       "</table>\n",
       "</div>"
      ],
      "text/plain": [
       "        chrom    start      end\n",
       "name                           \n",
       "DGmCH_0  chr1  3026310  3026310\n",
       "DGmCH_1  chr1  3069892  3069892\n",
       "DGmCH_2  chr1  3084771  3084771\n",
       "DGmCH_3  chr1  3092179  3092179\n",
       "DGmCH_4  chr1  3118806  3118806"
      ]
     },
     "execution_count": 3,
     "metadata": {},
     "output_type": "execute_result"
    }
   ],
   "source": [
    "dmr_bed = pd.read_csv(bed_path, sep='\\t', index_col=3, header=None, names=['chrom', 'start', 'end', 'name'])\n",
    "dmr_bed.head()"
   ]
  },
  {
   "cell_type": "code",
   "execution_count": 4,
   "metadata": {
    "ExecuteTime": {
     "end_time": "2020-02-10T18:48:58.407954Z",
     "start_time": "2020-02-10T18:48:58.405599Z"
    }
   },
   "outputs": [],
   "source": [
    "output_path = pathlib.Path(bed_path).parent / 'MotifScan.h5ad'"
   ]
  },
  {
   "cell_type": "markdown",
   "metadata": {},
   "source": [
    "## Scan motif"
   ]
  },
  {
   "cell_type": "code",
   "execution_count": 7,
   "metadata": {
    "ExecuteTime": {
     "end_time": "2020-02-10T18:52:03.129711Z",
     "start_time": "2020-02-10T18:51:46.112456Z"
    }
   },
   "outputs": [
    {
     "name": "stdout",
     "output_type": "stream",
     "text": [
      "2 motifs to count.\n",
      "Motif MA0006.1 Ahr::Arnt do not have any match under current settings.\n",
      "/home/hanliu/project/mouse_rostral_brain/DMR/DGmCHGroup/DMR/MotifScan.h5adtemp/MA0139.1.meme, N motif total=52620\n"
     ]
    },
    {
     "name": "stderr",
     "output_type": "stream",
     "text": [
      "/home/hanliu/miniconda3/envs/clustering/lib/python3.7/site-packages/ALLCools/dmr/fimo.py:60: FutureWarning: to_msgpack is deprecated and will be removed in a future version.\n",
      "It is recommended to use pyarrow for on-the-wire transmission of pandas objects.\n",
      "  final_df.to_msgpack(output_path, compress='zlib')\n",
      "/home/hanliu/miniconda3/envs/clustering/lib/python3.7/site-packages/ALLCools/dmr/fimo.py:108: FutureWarning: to_msgpack is deprecated and will be removed in a future version.\n",
      "It is recommended to use pyarrow for on-the-wire transmission of pandas objects.\n",
      "  lookup_table.to_msgpack(output_dir / f'LOOKUP_TABLE.msg')\n"
     ]
    }
   ],
   "source": [
    "scan_motif_over_bed(\n",
    "    bed_path=bed_path,\n",
    "    motif_file=motif_file_path,\n",
    "    genome_fasta=genome_fasta_path,\n",
    "    output_dir =str(output_path) + \"temp\",\n",
    "    chrom_size_path=chrom_size_path,\n",
    "    cpu=40, \n",
    "    use_region_name=True,\n",
    "    sort_mem_gbs=10\n",
    ")"
   ]
  },
  {
   "cell_type": "code",
   "execution_count": 9,
   "metadata": {
    "ExecuteTime": {
     "end_time": "2020-02-10T18:53:30.262590Z",
     "start_time": "2020-02-10T18:53:30.232085Z"
    }
   },
   "outputs": [],
   "source": [
    "ctcf = pd.read_msgpack('/home/hanliu/project/mouse_rostral_brain/DMR/DGmCHGroup/DMR/MotifScan.h5adtemp/MA0139.1.bed.msg')"
   ]
  },
  {
   "cell_type": "code",
   "execution_count": 12,
   "metadata": {
    "ExecuteTime": {
     "end_time": "2020-02-10T18:53:59.473735Z",
     "start_time": "2020-02-10T18:53:59.468569Z"
    }
   },
   "outputs": [],
   "source": [
    "ctcf['-lgp'] = -np.log10(ctcf['p-value'])"
   ]
  },
  {
   "cell_type": "code",
   "execution_count": 13,
   "metadata": {
    "ExecuteTime": {
     "end_time": "2020-02-10T18:54:19.163060Z",
     "start_time": "2020-02-10T18:54:17.980428Z"
    }
   },
   "outputs": [
    {
     "data": {
      "text/plain": [
       "<seaborn.axisgrid.JointGrid at 0x7f9217a950b8>"
      ]
     },
     "execution_count": 13,
     "metadata": {},
     "output_type": "execute_result"
    },
    {
     "data": {
      "image/png": "[encoded data removed]",
      "text/plain": [
       "<Figure size 432x432 with 3 Axes>"
      ]
     },
     "metadata": {
      "needs_background": "light"
     },
     "output_type": "display_data"
    }
   ],
   "source": [
    "import seaborn as sns\n",
    "\n",
    "sns.jointplot(data=ctcf, x='-lgp', y='score')"
   ]
  },
  {
   "cell_type": "code",
   "execution_count": null,
   "metadata": {},
   "outputs": [],
   "source": []
  },
  {
   "cell_type": "markdown",
   "metadata": {},
   "source": [
    "## Aggregate motif hits"
   ]
  },
  {
   "cell_type": "code",
   "execution_count": 7,
   "metadata": {
    "ExecuteTime": {
     "end_time": "2020-01-11T06:26:28.669360Z",
     "start_time": "2020-01-11T06:26:28.662712Z"
    }
   },
   "outputs": [],
   "source": [
    "temp_dir = pathlib.Path(str(output_path) + \"temp\")\n",
    "results_path = list(temp_dir.glob('*bed.msg'))"
   ]
  },
  {
   "cell_type": "code",
   "execution_count": 19,
   "metadata": {
    "ExecuteTime": {
     "end_time": "2020-01-11T06:20:07.873952Z",
     "start_time": "2020-01-11T06:19:40.044246Z"
    }
   },
   "outputs": [
    {
     "name": "stderr",
     "output_type": "stream",
     "text": [
      "/home/hanliu/miniconda3/envs/clustering/lib/python3.7/site-packages/IPython/core/interactiveshell.py:3326: FutureWarning: The read_msgpack is deprecated and will be removed in a future version.\n",
      "It is recommended to use pyarrow for on-the-wire transmission of pandas objects.\n",
      "  exec(code_obj, self.user_global_ns, self.user_ns)\n"
     ]
    },
    {
     "name": "stdout",
     "output_type": "stream",
     "text": [
      "100\n",
      "200\n",
      "300\n",
      "400\n",
      "500\n",
      "600\n",
      "700\n"
     ]
    },
    {
     "name": "stderr",
     "output_type": "stream",
     "text": [
      "... storing 'chrom' as categorical\n"
     ]
    }
   ],
   "source": [
    "rows = []\n",
    "cols = []\n",
    "datas = []\n",
    "motif_ids = []\n",
    "n = 0\n",
    "for i, path in enumerate(results_path):\n",
    "    n += 1\n",
    "    if n % 100 == 0:\n",
    "        print(n)\n",
    "    df = pd.read_msgpack(path)\n",
    "    motif_id = path.name[:-8]\n",
    "    motif_ids.append(motif_id)\n",
    "    \n",
    "    dmr_max_scores = df.groupby('sequence_name')['score'].max()\n",
    "    dmr_max_scores.index = dmr_max_scores.index.map(lambda i: i.split('_')[1]).astype(int)\n",
    "    dmr_max_scores.sort_index(inplace=True)\n",
    "    row = dmr_max_scores.index.values\n",
    "    col = (np.ones_like(row) * i).astype(int)\n",
    "    data = dmr_max_scores.values        \n",
    "    rows.append(row)\n",
    "    cols.append(col)\n",
    "    datas.append(data)\n",
    "rows = np.concatenate(rows)\n",
    "cols = np.concatenate(cols)\n",
    "datas = np.concatenate(datas)\n",
    "\n",
    "hits = csr_matrix((datas, (rows, cols)),\n",
    "                  shape=(dmr_bed.shape[0], len(motif_ids)))\n",
    "\n",
    "dmr_hits = anndata.AnnData(X=hits,\n",
    "                           obs=dmr_bed,\n",
    "                           var=pd.DataFrame([], index=motif_ids))\n",
    "\n",
    "dmr_hits.write_h5ad(output_path)"
   ]
  },
  {
   "cell_type": "code",
   "execution_count": 21,
   "metadata": {
    "ExecuteTime": {
     "end_time": "2020-01-11T06:20:21.528210Z",
     "start_time": "2020-01-11T06:20:21.524900Z"
    }
   },
   "outputs": [
    {
     "data": {
      "text/plain": [
       "AnnData object with n_obs × n_vars = 243312 × 719 \n",
       "    obs: 'chrom', 'start', 'end'"
      ]
     },
     "execution_count": 21,
     "metadata": {},
     "output_type": "execute_result"
    }
   ],
   "source": [
    "dmr_hits"
   ]
  },
  {
   "cell_type": "code",
   "execution_count": 27,
   "metadata": {
    "ExecuteTime": {
     "end_time": "2020-01-11T06:21:22.263596Z",
     "start_time": "2020-01-11T06:21:22.083041Z"
    }
   },
   "outputs": [],
   "source": [
    "motif_hits_portion = ((dmr_hits.X > 0).sum(axis=0) / dmr_hits.X.shape[0]).A1"
   ]
  },
  {
   "cell_type": "code",
   "execution_count": 28,
   "metadata": {
    "ExecuteTime": {
     "end_time": "2020-01-11T06:21:28.111692Z",
     "start_time": "2020-01-11T06:21:27.960190Z"
    }
   },
   "outputs": [
    {
     "data": {
      "text/plain": [
       "<matplotlib.axes._subplots.AxesSubplot at 0x7f354529a320>"
      ]
     },
     "execution_count": 28,
     "metadata": {},
     "output_type": "execute_result"
    },
    {
     "data": {
      "image/png": "[encoded data removed]",
      "text/plain": [
       "<Figure size 432x288 with 1 Axes>"
      ]
     },
     "metadata": {
      "needs_background": "light"
     },
     "output_type": "display_data"
    }
   ],
   "source": [
    "sns.distplot(motif_hits_portion)"
   ]
  },
  {
   "cell_type": "markdown",
   "metadata": {},
   "source": [
    "## Delete temp dir"
   ]
  },
  {
   "cell_type": "code",
   "execution_count": 8,
   "metadata": {
    "ExecuteTime": {
     "end_time": "2020-01-11T06:26:33.954958Z",
     "start_time": "2020-01-11T06:26:33.715562Z"
    }
   },
   "outputs": [
    {
     "data": {
      "text/plain": [
       "CompletedProcess(args=['rm', '-rf', '/home/hanliu/project/mouse_rostral_brain/DMR/DGmCHGroup/DMR/MotifScan.h5adtemp'], returncode=0)"
      ]
     },
     "execution_count": 8,
     "metadata": {},
     "output_type": "execute_result"
    }
   ],
   "source": [
    "subprocess.run(['rm', '-rf', str(temp_dir)])"
   ]
  },
  {
   "cell_type": "code",
   "execution_count": null,
   "metadata": {},
   "outputs": [],
   "source": []
  }
 ],
 "metadata": {
  "hide_input": false,
  "kernelspec": {
   "display_name": "Python 3",
   "language": "python",
   "name": "python3"
  },
  "language_info": {
   "codemirror_mode": {
    "name": "ipython",
    "version": 3
   },
   "file_extension": ".py",
   "mimetype": "text/x-python",
   "name": "python",
   "nbconvert_exporter": "python",
   "pygments_lexer": "ipython3",
   "version": "3.7.3"
  },
  "toc": {
   "base_numbering": 1,
   "nav_menu": {},
   "number_sections": true,
   "sideBar": true,
   "skip_h1_title": true,
   "title_cell": "Table of Contents",
   "title_sidebar": "Contents",
   "toc_cell": false,
   "toc_position": {},
   "toc_section_display": true,
   "toc_window_display": true
  }
 },
 "nbformat": 4,
 "nbformat_minor": 2
}
