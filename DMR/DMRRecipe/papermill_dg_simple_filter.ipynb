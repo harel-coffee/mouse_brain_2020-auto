{
 "cells": [
  {
   "cell_type": "code",
   "execution_count": 7,
   "metadata": {
    "ExecuteTime": {
     "end_time": "2020-01-14T07:14:01.084582Z",
     "start_time": "2020-01-14T07:14:01.082149Z"
    }
   },
   "outputs": [],
   "source": [
    "from papermill import execute_notebook, PapermillExecutionError\n",
    "import pandas as pd\n",
    "import pathlib\n",
    "import numpy as np"
   ]
  },
  {
   "cell_type": "markdown",
   "metadata": {},
   "source": [
    "## Setup"
   ]
  },
  {
   "cell_type": "code",
   "execution_count": 11,
   "metadata": {
    "ExecuteTime": {
     "end_time": "2020-01-14T07:15:46.992970Z",
     "start_time": "2020-01-14T07:15:46.989581Z"
    }
   },
   "outputs": [],
   "source": [
    "dmr_prefix = 'DGmCH'\n",
    "dmr_dir = '/home/hanliu/project/mouse_rostral_brain/DMR/DGmCHGroup/DMR/'\n",
    "dmr_path = '/home/hanliu/project/mouse_rostral_brain/DMR/DGmCHGroup/DMR/axis-mch_rms_results_collapsed.tsv'\n",
    "\n",
    "delta_cutoff=0.3\n",
    "dms_cutoff = 1\n",
    "\n",
    "black_list_path = '/home/hanliu/ref/blacklist/mm10-blacklist.v2.bed.gz'\n",
    "\n",
    "motif_file_path='/home/hanliu/ref/MEME/selected_motifs_sets/JASPAR2020_CORE_vertebrates_non-redundant_pfms.has_mouse_id.meme',\n",
    "genome_fasta_path='/home/hanliu/ref/mouse/genome/fasta/raw/mm10.fa',\n",
    "chrom_size_path='/home/hanliu/ref/mouse/genome/mm10.main.chrom.sizes'\n",
    "    "
   ]
  },
  {
   "cell_type": "code",
   "execution_count": 12,
   "metadata": {
    "ExecuteTime": {
     "end_time": "2020-01-14T07:15:50.289285Z",
     "start_time": "2020-01-14T07:15:50.286709Z"
    }
   },
   "outputs": [],
   "source": [
    "dmr_dir = pathlib.Path(dmr_dir)\n",
    "recipe_dir = dmr_dir / 'Recipe'\n",
    "recipe_dir.mkdir(exist_ok=True)"
   ]
  },
  {
   "cell_type": "markdown",
   "metadata": {},
   "source": [
    "## Step1 Filter DMR"
   ]
  },
  {
   "cell_type": "code",
   "execution_count": null,
   "metadata": {},
   "outputs": [],
   "source": [
    "params = dict(\n",
    "dmr_path = dmr_path,\n",
    "dmr_prefix = dmr_prefix,\n",
    "black_list_path = black_list_path,\n",
    "delta_cutoff=delta_cutoff,\n",
    "dms_cutoff = dms_cutoff\n",
    ")\n",
    "\n",
    "input_path = '1.FilterDMRRecipe_simple_min_max.ipynb'\n",
    "output_path = recipe_dir / '1.FilterDMRRecipe_simple_min_max.ipynb'\n",
    "execute_notebook(\n",
    "    str(input_path),\n",
    "    str(output_path),\n",
    "    parameters=params,\n",
    "    engine_name=None,\n",
    "    prepare_only=False,\n",
    "    kernel_name=None,\n",
    "    progress_bar=True,\n",
    "    log_output=False,\n",
    "    start_timeout=60,\n",
    "    report_mode=False,\n",
    "    cwd=str(recipe_dir))\n",
    "pass"
   ]
  },
  {
   "cell_type": "markdown",
   "metadata": {},
   "source": [
    "## Step2 MotifScan"
   ]
  },
  {
   "cell_type": "code",
   "execution_count": null,
   "metadata": {},
   "outputs": [],
   "source": [
    "params = dict(bed_path=str(dmr_dir / 'TotalDMR.nofilter.bed'),\n",
    "              motif_file_path=motif_file_path,\n",
    "              genome_fasta_path=genome_fasta_path,\n",
    "              chrom_size_path=chrom_size_path)\n",
    "\n",
    "input_path = '2.MotifScan.ipynb'\n",
    "output_path = recipe_dir / '2.MotifScan.ipynb'\n",
    "execute_notebook(str(input_path),\n",
    "                 str(output_path),\n",
    "                 parameters=params,\n",
    "                 engine_name=None,\n",
    "                 prepare_only=False,\n",
    "                 kernel_name=None,\n",
    "                 progress_bar=True,\n",
    "                 log_output=False,\n",
    "                 start_timeout=60,\n",
    "                 report_mode=False,\n",
    "                 cwd=str(recipe_dir))\n",
    "pass"
   ]
  },
  {
   "cell_type": "markdown",
   "metadata": {},
   "source": [
    "## Step3 Genome Feature Annotation"
   ]
  },
  {
   "cell_type": "code",
   "execution_count": null,
   "metadata": {},
   "outputs": [],
   "source": [
    "params = dict(\n",
    "    dmr_bed = str(dmr_dir / 'TotalDMR.nofilter.bed')\n",
    ")\n",
    "input_path = '3.DMRAnnotation.ipynb'\n",
    "output_path = recipe_dir / '3.DMRAnnotation.ipynb'\n",
    "execute_notebook(str(input_path),\n",
    "                 str(output_path),\n",
    "                 parameters=params,\n",
    "                 engine_name=None,\n",
    "                 prepare_only=False,\n",
    "                 kernel_name=None,\n",
    "                 progress_bar=True,\n",
    "                 log_output=False,\n",
    "                 start_timeout=60,\n",
    "                 report_mode=False,\n",
    "                 cwd=str(recipe_dir))\n",
    "pass"
   ]
  },
  {
   "cell_type": "markdown",
   "metadata": {},
   "source": [
    "## Step 4 motif enrichment"
   ]
  },
  {
   "cell_type": "code",
   "execution_count": 13,
   "metadata": {
    "ExecuteTime": {
     "end_time": "2020-01-14T07:17:28.782458Z",
     "start_time": "2020-01-14T07:16:43.964649Z"
    }
   },
   "outputs": [
    {
     "data": {
      "application/vnd.jupyter.widget-view+json": {
       "model_id": "71dcb95768ee44bdba72e825f03511af",
       "version_major": 2,
       "version_minor": 0
      },
      "text/plain": [
       "HBox(children=(IntProgress(value=0, max=25), HTML(value='')))"
      ]
     },
     "metadata": {},
     "output_type": "display_data"
    },
    {
     "name": "stdout",
     "output_type": "stream",
     "text": [
      "\n"
     ]
    },
    {
     "data": {
      "application/vnd.jupyter.widget-view+json": {
       "model_id": "6129d07f6b40451c9bc21e30aed30f61",
       "version_major": 2,
       "version_minor": 0
      },
      "text/plain": [
       "HBox(children=(IntProgress(value=0, max=25), HTML(value='')))"
      ]
     },
     "metadata": {},
     "output_type": "display_data"
    },
    {
     "name": "stdout",
     "output_type": "stream",
     "text": [
      "\n"
     ]
    },
    {
     "data": {
      "application/vnd.jupyter.widget-view+json": {
       "model_id": "3250e3a9647e4143a56afd60bf034e6b",
       "version_major": 2,
       "version_minor": 0
      },
      "text/plain": [
       "HBox(children=(IntProgress(value=0, max=25), HTML(value='')))"
      ]
     },
     "metadata": {},
     "output_type": "display_data"
    },
    {
     "name": "stdout",
     "output_type": "stream",
     "text": [
      "\n"
     ]
    },
    {
     "data": {
      "application/vnd.jupyter.widget-view+json": {
       "model_id": "30fceb36d9e24a4d98293327e63401ef",
       "version_major": 2,
       "version_minor": 0
      },
      "text/plain": [
       "HBox(children=(IntProgress(value=0, max=25), HTML(value='')))"
      ]
     },
     "metadata": {},
     "output_type": "display_data"
    },
    {
     "name": "stdout",
     "output_type": "stream",
     "text": [
      "\n"
     ]
    }
   ],
   "source": [
    "groups = ['high', 'low', 'midhigh', 'midlow']\n",
    "dmr_type = 'DMR'\n",
    "for group in groups:\n",
    "    params = dict(\n",
    "        mask_quantile_to99=0.9,\n",
    "        or_cutoff=1.5,\n",
    "        neg_lgp_cutoff=10,\n",
    "        group=group,\n",
    "        motif_hits_path=\n",
    "        f'/home/hanliu/project/mouse_rostral_brain/DMR/DGmCHGroup/{dmr_type}/MotifScan.h5ad',\n",
    "        dmr_hits_path=\n",
    "        f'/home/hanliu/project/mouse_rostral_brain/DMR/DGmCHGroup/{dmr_type}/HypoDMR/{group}.DMS1.bed',\n",
    "        output_dir=\n",
    "        f'/home/hanliu/project/mouse_rostral_brain/DMR/DGmCHGroup/{dmr_type}/MotifEnrichment'\n",
    "    )\n",
    "    \n",
    "    input_path = '4.MotifEnrichment.ipynb'\n",
    "    output_path = recipe_dir / f'4.MotifEnrichment.{group}.ipynb'\n",
    "    execute_notebook(str(input_path),\n",
    "                     str(output_path),\n",
    "                     parameters=params,\n",
    "                     engine_name=None,\n",
    "                     prepare_only=False,\n",
    "                     kernel_name=None,\n",
    "                     progress_bar=True,\n",
    "                     log_output=False,\n",
    "                     start_timeout=60,\n",
    "                     report_mode=False,\n",
    "                     cwd=str(recipe_dir))\n",
    "pass"
   ]
  },
  {
   "cell_type": "code",
   "execution_count": null,
   "metadata": {},
   "outputs": [],
   "source": []
  }
 ],
 "metadata": {
  "hide_input": false,
  "kernelspec": {
   "display_name": "Python 3",
   "language": "python",
   "name": "python3"
  },
  "language_info": {
   "codemirror_mode": {
    "name": "ipython",
    "version": 3
   },
   "file_extension": ".py",
   "mimetype": "text/x-python",
   "name": "python",
   "nbconvert_exporter": "python",
   "pygments_lexer": "ipython3",
   "version": "3.7.3"
  },
  "toc": {
   "base_numbering": 1,
   "nav_menu": {},
   "number_sections": true,
   "sideBar": true,
   "skip_h1_title": true,
   "title_cell": "Table of Contents",
   "title_sidebar": "Contents",
   "toc_cell": false,
   "toc_position": {},
   "toc_section_display": true,
   "toc_window_display": true
  }
 },
 "nbformat": 4,
 "nbformat_minor": 2
}
