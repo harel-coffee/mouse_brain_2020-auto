{
 "cells": [
  {
   "cell_type": "code",
   "execution_count": 1,
   "metadata": {
    "ExecuteTime": {
     "end_time": "2020-01-13T06:17:49.209040Z",
     "start_time": "2020-01-13T06:17:48.735217Z"
    }
   },
   "outputs": [],
   "source": [
    "from papermill import execute_notebook, PapermillExecutionError\n",
    "import pandas as pd\n",
    "import pathlib\n",
    "import numpy as np"
   ]
  },
  {
   "cell_type": "markdown",
   "metadata": {},
   "source": [
    "## Runner"
   ]
  },
  {
   "cell_type": "code",
   "execution_count": 2,
   "metadata": {
    "ExecuteTime": {
     "end_time": "2020-01-13T06:17:49.938926Z",
     "start_time": "2020-01-13T06:17:49.929934Z"
    }
   },
   "outputs": [],
   "source": [
    "def runner(dmr_prefix):\n",
    "    dmr_dir = f'/home/hanliu/project/mouse_rostral_brain/DMR/ITSpatial_by_region/{dmr_prefix}/'\n",
    "    dmr_path = f'/home/hanliu/project/mouse_rostral_brain/DMR/ITSpatial_by_region/{dmr_prefix}/{dmr_prefix}_rms_results_collapsed.tsv'\n",
    "    \n",
    "    delta_cutoff=0.3\n",
    "    dms_cutoff = 1\n",
    "    \n",
    "    black_list_path = '/home/hanliu/ref/blacklist/mm10-blacklist.v2.bed.gz'\n",
    "    \n",
    "    motif_file_path='/home/hanliu/ref/MEME/selected_motifs_sets/JASPAR2020_CORE_vertebrates_non-redundant_pfms.has_mouse_id.meme'\n",
    "    genome_fasta_path='/home/hanliu/ref/mouse/genome/fasta/raw/mm10.fa'\n",
    "    chrom_size_path='/home/hanliu/ref/mouse/genome/mm10.main.chrom.sizes'\n",
    "        \n",
    "        \n",
    "        \n",
    "    dmr_dir = pathlib.Path(dmr_dir)\n",
    "    recipe_dir = dmr_dir / 'Recipe'\n",
    "    recipe_dir.mkdir(exist_ok=True)\n",
    "    \n",
    "    \n",
    "    params = dict(\n",
    "    dmr_path = dmr_path,\n",
    "    dmr_prefix = dmr_prefix,\n",
    "    black_list_path = black_list_path,\n",
    "    delta_cutoff=delta_cutoff,\n",
    "    dms_cutoff = dms_cutoff\n",
    "    )\n",
    "    \n",
    "    input_path = '1.FilterDMRRecipe_simple_min_max.ipynb'\n",
    "    output_path = recipe_dir / '1.FilterDMRRecipe_simple_min_max.ipynb'\n",
    "    execute_notebook(\n",
    "        str(input_path),\n",
    "        str(output_path),\n",
    "        parameters=params,\n",
    "        engine_name=None,\n",
    "        prepare_only=False,\n",
    "        kernel_name=None,\n",
    "        progress_bar=True,\n",
    "        log_output=False,\n",
    "        start_timeout=60,\n",
    "        report_mode=False,\n",
    "        cwd=str(recipe_dir))\n",
    "    \n",
    "    \n",
    "    params = dict(bed_path=str(dmr_dir / 'TotalDMR.nofilter.bed'),\n",
    "                  motif_file_path=motif_file_path,\n",
    "                  genome_fasta_path=genome_fasta_path,\n",
    "                  chrom_size_path=chrom_size_path)\n",
    "    \n",
    "    input_path = '2.MotifScan.ipynb'\n",
    "    output_path = recipe_dir / '2.MotifScan.ipynb'\n",
    "    execute_notebook(str(input_path),\n",
    "                     str(output_path),\n",
    "                     parameters=params,\n",
    "                     engine_name=None,\n",
    "                     prepare_only=False,\n",
    "                     kernel_name=None,\n",
    "                     progress_bar=True,\n",
    "                     log_output=False,\n",
    "                     start_timeout=60,\n",
    "                     report_mode=False,\n",
    "                     cwd=str(recipe_dir))\n",
    "    \n",
    "    \n",
    "    params = dict(\n",
    "        dmr_bed = str(dmr_dir / 'TotalDMR.nofilter.bed')\n",
    "    )\n",
    "    input_path = '3.DMRAnnotation.ipynb'\n",
    "    output_path = recipe_dir / '3.DMRAnnotation.ipynb'\n",
    "    execute_notebook(str(input_path),\n",
    "                     str(output_path),\n",
    "                     parameters=params,\n",
    "                     engine_name=None,\n",
    "                     prepare_only=False,\n",
    "                     kernel_name=None,\n",
    "                     progress_bar=True,\n",
    "                     log_output=False,\n",
    "                     start_timeout=60,\n",
    "                     report_mode=False,\n",
    "                     cwd=str(recipe_dir))\n",
    "    return "
   ]
  },
  {
   "cell_type": "markdown",
   "metadata": {},
   "source": [
    "## Run"
   ]
  },
  {
   "cell_type": "code",
   "execution_count": null,
   "metadata": {
    "ExecuteTime": {
     "start_time": "2020-01-13T06:18:08.058Z"
    }
   },
   "outputs": [
    {
     "name": "stdout",
     "output_type": "stream",
     "text": [
      "AI\n"
     ]
    },
    {
     "data": {
      "application/vnd.jupyter.widget-view+json": {
       "model_id": "d80509933ed94279b4f08e1e0dff7e3d",
       "version_major": 2,
       "version_minor": 0
      },
      "text/plain": [
       "HBox(children=(IntProgress(value=0, max=25), HTML(value='')))"
      ]
     },
     "metadata": {},
     "output_type": "display_data"
    },
    {
     "name": "stdout",
     "output_type": "stream",
     "text": [
      "\n"
     ]
    },
    {
     "data": {
      "application/vnd.jupyter.widget-view+json": {
       "model_id": "0583664fe8dc47fcaa46b7fa36d13620",
       "version_major": 2,
       "version_minor": 0
      },
      "text/plain": [
       "HBox(children=(IntProgress(value=0, max=16), HTML(value='')))"
      ]
     },
     "metadata": {},
     "output_type": "display_data"
    },
    {
     "name": "stdout",
     "output_type": "stream",
     "text": [
      "\n"
     ]
    },
    {
     "data": {
      "application/vnd.jupyter.widget-view+json": {
       "model_id": "7953d9ea190f437e9d5c9e05972f7a54",
       "version_major": 2,
       "version_minor": 0
      },
      "text/plain": [
       "HBox(children=(IntProgress(value=0, max=20), HTML(value='')))"
      ]
     },
     "metadata": {},
     "output_type": "display_data"
    },
    {
     "name": "stdout",
     "output_type": "stream",
     "text": [
      "\n",
      "MOp\n"
     ]
    },
    {
     "data": {
      "application/vnd.jupyter.widget-view+json": {
       "model_id": "ea717ccaa55a4d41a6a193a6df2805dd",
       "version_major": 2,
       "version_minor": 0
      },
      "text/plain": [
       "HBox(children=(IntProgress(value=0, max=25), HTML(value='')))"
      ]
     },
     "metadata": {},
     "output_type": "display_data"
    },
    {
     "name": "stdout",
     "output_type": "stream",
     "text": [
      "\n"
     ]
    },
    {
     "data": {
      "application/vnd.jupyter.widget-view+json": {
       "model_id": "7652050c03594a1b93e3c5808d72764e",
       "version_major": 2,
       "version_minor": 0
      },
      "text/plain": [
       "HBox(children=(IntProgress(value=0, max=16), HTML(value='')))"
      ]
     },
     "metadata": {},
     "output_type": "display_data"
    }
   ],
   "source": [
    "dmr_prefix_list = ['AI', 'MOp', 'MOs', 'ORB', 'PFC', 'SSp', 'SSs']\n",
    "\n",
    "for dmr_prefix in dmr_prefix_list:\n",
    "    print(dmr_prefix)\n",
    "    runner(dmr_prefix)"
   ]
  },
  {
   "cell_type": "code",
   "execution_count": null,
   "metadata": {},
   "outputs": [],
   "source": []
  },
  {
   "cell_type": "code",
   "execution_count": null,
   "metadata": {},
   "outputs": [],
   "source": []
  }
 ],
 "metadata": {
  "hide_input": false,
  "kernelspec": {
   "display_name": "Python 3",
   "language": "python",
   "name": "python3"
  },
  "language_info": {
   "codemirror_mode": {
    "name": "ipython",
    "version": 3
   },
   "file_extension": ".py",
   "mimetype": "text/x-python",
   "name": "python",
   "nbconvert_exporter": "python",
   "pygments_lexer": "ipython3",
   "version": "3.7.3"
  },
  "toc": {
   "base_numbering": 1,
   "nav_menu": {},
   "number_sections": true,
   "sideBar": true,
   "skip_h1_title": true,
   "title_cell": "Table of Contents",
   "title_sidebar": "Contents",
   "toc_cell": false,
   "toc_position": {},
   "toc_section_display": true,
   "toc_window_display": true
  }
 },
 "nbformat": 4,
 "nbformat_minor": 2
}
