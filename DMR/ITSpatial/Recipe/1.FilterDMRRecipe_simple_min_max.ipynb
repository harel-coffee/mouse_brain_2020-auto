{
 "cells": [
  {
   "cell_type": "code",
   "execution_count": 1,
   "metadata": {
    "ExecuteTime": {
     "end_time": "2020-01-12T04:23:23.386059Z",
     "start_time": "2020-01-12T04:23:22.674338Z"
    },
    "papermill": {
     "duration": 0.484048,
     "end_time": "2020-01-11T22:46:46.056303",
     "exception": false,
     "start_time": "2020-01-11T22:46:45.572255",
     "status": "completed"
    },
    "tags": []
   },
   "outputs": [],
   "source": [
    "import pathlib\n",
    "import numpy as np\n",
    "import pandas as pd\n",
    "from scipy.sparse import csr_matrix\n",
    "import anndata\n",
    "from pybedtools import BedTool"
   ]
  },
  {
   "cell_type": "markdown",
   "metadata": {
    "ExecuteTime": {
     "end_time": "2020-01-10T03:41:10.279754Z",
     "start_time": "2020-01-10T03:41:10.259634Z"
    },
    "papermill": {
     "duration": 0.009588,
     "end_time": "2020-01-11T22:46:46.075865",
     "exception": false,
     "start_time": "2020-01-11T22:46:46.066277",
     "status": "completed"
    },
    "tags": []
   },
   "source": [
    "## Parameter"
   ]
  },
  {
   "cell_type": "code",
   "execution_count": 2,
   "metadata": {
    "ExecuteTime": {
     "end_time": "2020-01-12T04:23:23.836018Z",
     "start_time": "2020-01-12T04:23:23.831454Z"
    },
    "papermill": {
     "duration": 0.017749,
     "end_time": "2020-01-11T22:46:46.102912",
     "exception": false,
     "start_time": "2020-01-11T22:46:46.085163",
     "status": "completed"
    },
    "tags": [
     "parameters"
    ]
   },
   "outputs": [],
   "source": [
    "dmr_path = '/home/hanliu/project/mouse_rostral_brain/DMR/DGmCHGroup/DMR/axis-mch_rms_results_collapsed.tsv'\n",
    "dmr_prefix = 'DGmCH'\n",
    "\n",
    "black_list_path = '/home/hanliu/ref/blacklist/mm10-blacklist.v2.bed.gz'\n",
    "delta_cutoff=0.3\n",
    "dms_cutoff = 1"
   ]
  },
  {
   "cell_type": "code",
   "execution_count": 3,
   "metadata": {
    "ExecuteTime": {
     "end_time": "2020-01-12T04:23:24.413914Z",
     "start_time": "2020-01-12T04:23:24.409643Z"
    },
    "papermill": {
     "duration": 0.018268,
     "end_time": "2020-01-11T22:46:46.130229",
     "exception": false,
     "start_time": "2020-01-11T22:46:46.111961",
     "status": "completed"
    },
    "tags": [
     "injected-parameters"
    ]
   },
   "outputs": [],
   "source": [
    "# Parameters\n",
    "dmr_path = \"/home/hanliu/project/mouse_rostral_brain/DMR/ITSpatial/ITSpatial_rms_results_collapsed.tsv\"\n",
    "dmr_prefix = \"ITSpatial\"\n",
    "black_list_path = \"/home/hanliu/ref/blacklist/mm10-blacklist.v2.bed.gz\"\n",
    "skip_quantile = 0.25\n",
    "delta_to_mean = 0.1\n",
    "dms_cutoff = 1\n"
   ]
  },
  {
   "cell_type": "markdown",
   "metadata": {
    "papermill": {
     "duration": 0.008962,
     "end_time": "2020-01-11T22:46:46.148247",
     "exception": false,
     "start_time": "2020-01-11T22:46:46.139285",
     "status": "completed"
    },
    "tags": []
   },
   "source": [
    "## Read DMR"
   ]
  },
  {
   "cell_type": "code",
   "execution_count": 4,
   "metadata": {
    "ExecuteTime": {
     "end_time": "2020-01-12T04:23:43.792781Z",
     "start_time": "2020-01-12T04:23:27.448246Z"
    },
    "papermill": {
     "duration": 9.818961,
     "end_time": "2020-01-11T22:46:55.976285",
     "exception": false,
     "start_time": "2020-01-11T22:46:46.157324",
     "status": "completed"
    },
    "scrolled": true,
    "tags": []
   },
   "outputs": [
    {
     "name": "stdout",
     "output_type": "stream",
     "text": [
      "1588445 dmr before filter\n"
     ]
    }
   ],
   "source": [
    "# get column and n_sample\n",
    "dmr_column = pd.read_csv(dmr_path, sep='\\t', nrows=0).columns\n",
    "n_sample = dmr_column.size - 6\n",
    "dmr_column = dmr_column.map(lambda i: i[18:] if 'methylation_level_' in i else i)\n",
    "samples = dmr_column[6:]\n",
    "\n",
    "dmr_region_infos = []\n",
    "mc_rates = []\n",
    "hypo_sig_dict = {sample: [] for sample in samples}\n",
    "hyper_sig_dict = {sample: [] for sample in samples}\n",
    "\n",
    "dmr_df = pd.read_csv(dmr_path, sep='\\t', skiprows=1, names=dmr_column)\n",
    "print(dmr_df.shape[0], 'dmr before filter')\n",
    "dmr_df.index = dmr_df.index.map(lambda i: f'{dmr_prefix}_{i}')\n",
    "\n",
    "# save raw info\n",
    "dmr_bed = dmr_df.iloc[:, :4].copy()\n",
    "mc_rate = dmr_df.iloc[:, 6:].copy()"
   ]
  },
  {
   "cell_type": "markdown",
   "metadata": {
    "papermill": {
     "duration": 0.01012,
     "end_time": "2020-01-11T22:46:55.997287",
     "exception": false,
     "start_time": "2020-01-11T22:46:55.987167",
     "status": "completed"
    },
    "tags": []
   },
   "source": [
    "## Save unfiltered dmr info"
   ]
  },
  {
   "cell_type": "code",
   "execution_count": 5,
   "metadata": {
    "ExecuteTime": {
     "end_time": "2020-01-12T04:23:48.381835Z",
     "start_time": "2020-01-12T04:23:43.796284Z"
    },
    "papermill": {
     "duration": 2.807733,
     "end_time": "2020-01-11T22:46:58.814385",
     "exception": false,
     "start_time": "2020-01-11T22:46:56.006652",
     "status": "completed"
    },
    "tags": []
   },
   "outputs": [],
   "source": [
    "with pd.HDFStore(pathlib.Path(dmr_path).parent / 'DMRInfo.h5') as hdf:\n",
    "    hdf['Rate'] = mc_rate\n",
    "    hdf['Bed'] = dmr_bed"
   ]
  },
  {
   "cell_type": "code",
   "execution_count": 6,
   "metadata": {
    "ExecuteTime": {
     "end_time": "2020-01-12T04:23:55.284332Z",
     "start_time": "2020-01-12T04:23:48.384467Z"
    },
    "papermill": {
     "duration": 4.838664,
     "end_time": "2020-01-11T22:47:03.663318",
     "exception": false,
     "start_time": "2020-01-11T22:46:58.824654",
     "status": "completed"
    },
    "tags": []
   },
   "outputs": [],
   "source": [
    "dmr_bed.reset_index().iloc[:, [1, 2, 3, 0]].to_csv(pathlib.Path(dmr_path).parent / 'TotalDMR.nofilter.bed', \n",
    "                                                   index=None, header=None, sep='\\t')"
   ]
  },
  {
   "cell_type": "markdown",
   "metadata": {
    "papermill": {
     "duration": 0.009783,
     "end_time": "2020-01-11T22:47:03.683894",
     "exception": false,
     "start_time": "2020-01-11T22:47:03.674111",
     "status": "completed"
    },
    "tags": []
   },
   "source": [
    "## Filter DMR"
   ]
  },
  {
   "cell_type": "code",
   "execution_count": 7,
   "metadata": {
    "ExecuteTime": {
     "end_time": "2020-01-12T04:23:56.659103Z",
     "start_time": "2020-01-12T04:23:55.287039Z"
    },
    "papermill": {
     "duration": 1.507972,
     "end_time": "2020-01-11T22:47:05.201520",
     "exception": false,
     "start_time": "2020-01-11T22:47:03.693548",
     "status": "completed"
    },
    "tags": []
   },
   "outputs": [
    {
     "name": "stdout",
     "output_type": "stream",
     "text": [
      "1115675 dmr pass delta filter\n"
     ]
    }
   ],
   "source": [
    "# filter by delta\n",
    "delta_judge = (mc_rate.max(axis=1) - mc_rate.min(axis=1)) > delta_cutoff\n",
    "delta_index = mc_rate.index[delta_judge]\n",
    "\n",
    "print(delta_index.size, 'dmr pass delta filter')"
   ]
  },
  {
   "cell_type": "code",
   "execution_count": 8,
   "metadata": {
    "ExecuteTime": {
     "end_time": "2020-01-12T04:24:05.087989Z",
     "start_time": "2020-01-12T04:23:56.660752Z"
    },
    "papermill": {
     "duration": 8.371569,
     "end_time": "2020-01-11T22:47:13.584154",
     "exception": false,
     "start_time": "2020-01-11T22:47:05.212585",
     "status": "completed"
    },
    "tags": []
   },
   "outputs": [
    {
     "name": "stdout",
     "output_type": "stream",
     "text": [
      "1568410 dmr pass blacklist filter\n"
     ]
    }
   ],
   "source": [
    "# filter by blacklist\n",
    "black_list = pd.read_csv(black_list_path, sep='\\t', header=None)\n",
    "black_list = BedTool.from_dataframe(black_list)\n",
    "\n",
    "_dmr_bed = BedTool.from_dataframe(dmr_bed.reset_index().iloc[:, [1,2,3,0]])\n",
    "filtered_dmr_bed = _dmr_bed.intersect(black_list, v=True).to_dataframe().set_index('name')\n",
    "\n",
    "white_index = filtered_dmr_bed.index\n",
    "\n",
    "print(white_index.size, 'dmr pass blacklist filter')"
   ]
  },
  {
   "cell_type": "code",
   "execution_count": 9,
   "metadata": {
    "ExecuteTime": {
     "end_time": "2020-01-12T04:24:08.760367Z",
     "start_time": "2020-01-12T04:24:05.089924Z"
    },
    "papermill": {
     "duration": 2.753729,
     "end_time": "2020-01-11T22:47:16.348931",
     "exception": false,
     "start_time": "2020-01-11T22:47:13.595202",
     "status": "completed"
    },
    "tags": []
   },
   "outputs": [
    {
     "name": "stdout",
     "output_type": "stream",
     "text": [
      "1101949 dmr after filter\n"
     ]
    },
    {
     "data": {
      "text/html": [
       "<div>\n",
       "<style scoped>\n",
       "    .dataframe tbody tr th:only-of-type {\n",
       "        vertical-align: middle;\n",
       "    }\n",
       "\n",
       "    .dataframe tbody tr th {\n",
       "        vertical-align: top;\n",
       "    }\n",
       "\n",
       "    .dataframe thead th {\n",
       "        text-align: right;\n",
       "    }\n",
       "</style>\n",
       "<table border=\"1\" class=\"dataframe\">\n",
       "  <thead>\n",
       "    <tr style=\"text-align: right;\">\n",
       "      <th></th>\n",
       "      <th>#chr</th>\n",
       "      <th>start</th>\n",
       "      <th>end</th>\n",
       "      <th>number_of_dms</th>\n",
       "      <th>hypermethylated_samples</th>\n",
       "      <th>hypomethylated_samples</th>\n",
       "      <th>IT-L23+ACA</th>\n",
       "      <th>IT-L23+AI</th>\n",
       "      <th>IT-L23+MOp</th>\n",
       "      <th>IT-L4+MOs</th>\n",
       "      <th>...</th>\n",
       "      <th>IT-L6+AI</th>\n",
       "      <th>IT-L4+SSp</th>\n",
       "      <th>IT-L6+ACA</th>\n",
       "      <th>IT-L5+ACA</th>\n",
       "      <th>IT-L4+SSs</th>\n",
       "      <th>IT-L6+PFC</th>\n",
       "      <th>IT-L6+SSp</th>\n",
       "      <th>IT-L6+SSs</th>\n",
       "      <th>IT-L6+MOs</th>\n",
       "      <th>IT-L6+MOp</th>\n",
       "    </tr>\n",
       "  </thead>\n",
       "  <tbody>\n",
       "    <tr>\n",
       "      <th>ITSpatial_0</th>\n",
       "      <td>chr1</td>\n",
       "      <td>3006782</td>\n",
       "      <td>3006782</td>\n",
       "      <td>1</td>\n",
       "      <td>NaN</td>\n",
       "      <td>NaN</td>\n",
       "      <td>0.916667</td>\n",
       "      <td>0.857143</td>\n",
       "      <td>0.750000</td>\n",
       "      <td>0.750000</td>\n",
       "      <td>...</td>\n",
       "      <td>0.500000</td>\n",
       "      <td>0.461538</td>\n",
       "      <td>1.000000</td>\n",
       "      <td>0.894737</td>\n",
       "      <td>0.357143</td>\n",
       "      <td>0.714286</td>\n",
       "      <td>0.947368</td>\n",
       "      <td>0.916667</td>\n",
       "      <td>0.857143</td>\n",
       "      <td>0.900000</td>\n",
       "    </tr>\n",
       "    <tr>\n",
       "      <th>ITSpatial_2</th>\n",
       "      <td>chr1</td>\n",
       "      <td>3013472</td>\n",
       "      <td>3013579</td>\n",
       "      <td>3</td>\n",
       "      <td>IT-L6+ACA,IT-L5+ACA,IT-L5+MOp</td>\n",
       "      <td>IT-L23+ORB,IT-L23+SSp,IT-L4+MOp,IT-L23+SSs,IT-...</td>\n",
       "      <td>0.833333</td>\n",
       "      <td>0.728571</td>\n",
       "      <td>0.709220</td>\n",
       "      <td>0.714286</td>\n",
       "      <td>...</td>\n",
       "      <td>0.761905</td>\n",
       "      <td>0.652482</td>\n",
       "      <td>0.974684</td>\n",
       "      <td>0.925170</td>\n",
       "      <td>0.672566</td>\n",
       "      <td>0.888889</td>\n",
       "      <td>0.860294</td>\n",
       "      <td>0.826087</td>\n",
       "      <td>0.941176</td>\n",
       "      <td>0.870229</td>\n",
       "    </tr>\n",
       "    <tr>\n",
       "      <th>ITSpatial_3</th>\n",
       "      <td>chr1</td>\n",
       "      <td>3015124</td>\n",
       "      <td>3015124</td>\n",
       "      <td>1</td>\n",
       "      <td>NaN</td>\n",
       "      <td>IT-L4+SSp,IT-L4+SSs</td>\n",
       "      <td>0.957447</td>\n",
       "      <td>0.941176</td>\n",
       "      <td>0.980000</td>\n",
       "      <td>0.952381</td>\n",
       "      <td>...</td>\n",
       "      <td>1.000000</td>\n",
       "      <td>0.725490</td>\n",
       "      <td>0.942857</td>\n",
       "      <td>0.980000</td>\n",
       "      <td>0.550000</td>\n",
       "      <td>0.960000</td>\n",
       "      <td>0.961538</td>\n",
       "      <td>0.918919</td>\n",
       "      <td>0.916667</td>\n",
       "      <td>0.913043</td>\n",
       "    </tr>\n",
       "    <tr>\n",
       "      <th>ITSpatial_4</th>\n",
       "      <td>chr1</td>\n",
       "      <td>3027398</td>\n",
       "      <td>3027514</td>\n",
       "      <td>2</td>\n",
       "      <td>IT-L5+SSp,IT-L6+ACA,IT-L5+ACA,IT-L6+PFC,IT-L6+MOp</td>\n",
       "      <td>IT-L23+MOp,IT-L23+ORB,IT-L23+SSp,IT-L23+SSs</td>\n",
       "      <td>0.615789</td>\n",
       "      <td>0.419355</td>\n",
       "      <td>0.484472</td>\n",
       "      <td>0.473684</td>\n",
       "      <td>...</td>\n",
       "      <td>0.607143</td>\n",
       "      <td>0.625806</td>\n",
       "      <td>0.764228</td>\n",
       "      <td>0.825758</td>\n",
       "      <td>0.608000</td>\n",
       "      <td>0.694737</td>\n",
       "      <td>0.700637</td>\n",
       "      <td>0.704082</td>\n",
       "      <td>0.670330</td>\n",
       "      <td>0.742857</td>\n",
       "    </tr>\n",
       "    <tr>\n",
       "      <th>ITSpatial_6</th>\n",
       "      <td>chr1</td>\n",
       "      <td>3034471</td>\n",
       "      <td>3034471</td>\n",
       "      <td>1</td>\n",
       "      <td>IT-L5+PFC,IT-L6+SSp,IT-L6+MOp</td>\n",
       "      <td>IT-L23+ACA,IT-L23+SSp,IT-L23+SSs,IT-L4+SSp</td>\n",
       "      <td>0.586207</td>\n",
       "      <td>0.840000</td>\n",
       "      <td>0.684211</td>\n",
       "      <td>0.850000</td>\n",
       "      <td>...</td>\n",
       "      <td>0.833333</td>\n",
       "      <td>0.372881</td>\n",
       "      <td>0.857143</td>\n",
       "      <td>0.822222</td>\n",
       "      <td>0.658537</td>\n",
       "      <td>0.880000</td>\n",
       "      <td>0.932432</td>\n",
       "      <td>0.900000</td>\n",
       "      <td>0.857143</td>\n",
       "      <td>0.957447</td>\n",
       "    </tr>\n",
       "  </tbody>\n",
       "</table>\n",
       "<p>5 rows × 33 columns</p>\n",
       "</div>"
      ],
      "text/plain": [
       "             #chr    start      end  number_of_dms  \\\n",
       "ITSpatial_0  chr1  3006782  3006782              1   \n",
       "ITSpatial_2  chr1  3013472  3013579              3   \n",
       "ITSpatial_3  chr1  3015124  3015124              1   \n",
       "ITSpatial_4  chr1  3027398  3027514              2   \n",
       "ITSpatial_6  chr1  3034471  3034471              1   \n",
       "\n",
       "                                       hypermethylated_samples  \\\n",
       "ITSpatial_0                                                NaN   \n",
       "ITSpatial_2                      IT-L6+ACA,IT-L5+ACA,IT-L5+MOp   \n",
       "ITSpatial_3                                                NaN   \n",
       "ITSpatial_4  IT-L5+SSp,IT-L6+ACA,IT-L5+ACA,IT-L6+PFC,IT-L6+MOp   \n",
       "ITSpatial_6                      IT-L5+PFC,IT-L6+SSp,IT-L6+MOp   \n",
       "\n",
       "                                        hypomethylated_samples  IT-L23+ACA  \\\n",
       "ITSpatial_0                                                NaN    0.916667   \n",
       "ITSpatial_2  IT-L23+ORB,IT-L23+SSp,IT-L4+MOp,IT-L23+SSs,IT-...    0.833333   \n",
       "ITSpatial_3                                IT-L4+SSp,IT-L4+SSs    0.957447   \n",
       "ITSpatial_4        IT-L23+MOp,IT-L23+ORB,IT-L23+SSp,IT-L23+SSs    0.615789   \n",
       "ITSpatial_6         IT-L23+ACA,IT-L23+SSp,IT-L23+SSs,IT-L4+SSp    0.586207   \n",
       "\n",
       "             IT-L23+AI  IT-L23+MOp  IT-L4+MOs  ...  IT-L6+AI  IT-L4+SSp  \\\n",
       "ITSpatial_0   0.857143    0.750000   0.750000  ...  0.500000   0.461538   \n",
       "ITSpatial_2   0.728571    0.709220   0.714286  ...  0.761905   0.652482   \n",
       "ITSpatial_3   0.941176    0.980000   0.952381  ...  1.000000   0.725490   \n",
       "ITSpatial_4   0.419355    0.484472   0.473684  ...  0.607143   0.625806   \n",
       "ITSpatial_6   0.840000    0.684211   0.850000  ...  0.833333   0.372881   \n",
       "\n",
       "             IT-L6+ACA  IT-L5+ACA  IT-L4+SSs  IT-L6+PFC  IT-L6+SSp  IT-L6+SSs  \\\n",
       "ITSpatial_0   1.000000   0.894737   0.357143   0.714286   0.947368   0.916667   \n",
       "ITSpatial_2   0.974684   0.925170   0.672566   0.888889   0.860294   0.826087   \n",
       "ITSpatial_3   0.942857   0.980000   0.550000   0.960000   0.961538   0.918919   \n",
       "ITSpatial_4   0.764228   0.825758   0.608000   0.694737   0.700637   0.704082   \n",
       "ITSpatial_6   0.857143   0.822222   0.658537   0.880000   0.932432   0.900000   \n",
       "\n",
       "             IT-L6+MOs  IT-L6+MOp  \n",
       "ITSpatial_0   0.857143   0.900000  \n",
       "ITSpatial_2   0.941176   0.870229  \n",
       "ITSpatial_3   0.916667   0.913043  \n",
       "ITSpatial_4   0.670330   0.742857  \n",
       "ITSpatial_6   0.857143   0.957447  \n",
       "\n",
       "[5 rows x 33 columns]"
      ]
     },
     "execution_count": 9,
     "metadata": {},
     "output_type": "execute_result"
    }
   ],
   "source": [
    "dmr_df = dmr_df.loc[delta_index & white_index]\n",
    "dmr_df = dmr_df[dmr_df['number_of_dms'] >= dms_cutoff]\n",
    "print(dmr_df.shape[0], 'dmr after filter')\n",
    "dmr_df.head()"
   ]
  },
  {
   "cell_type": "markdown",
   "metadata": {
    "papermill": {
     "duration": 0.010062,
     "end_time": "2020-01-11T22:47:16.369766",
     "exception": false,
     "start_time": "2020-01-11T22:47:16.359704",
     "status": "completed"
    },
    "tags": []
   },
   "source": [
    "## Assign DMR to each sample"
   ]
  },
  {
   "cell_type": "code",
   "execution_count": 10,
   "metadata": {
    "ExecuteTime": {
     "end_time": "2020-01-12T04:24:29.160991Z",
     "start_time": "2020-01-12T04:24:08.762335Z"
    },
    "papermill": {
     "duration": 0.067536,
     "end_time": "2020-01-11T22:47:16.447233",
     "exception": false,
     "start_time": "2020-01-11T22:47:16.379697",
     "status": "completed"
    },
    "tags": []
   },
   "outputs": [
    {
     "name": "stdout",
     "output_type": "stream",
     "text": [
      "IT-L23+ACA\tHypoDMR \t235168\n",
      "IT-L23+ACA\tHyperDMR\t216856\n",
      "IT-L23+AI\tHypoDMR \t161759\n",
      "IT-L23+AI\tHyperDMR\t146650\n",
      "IT-L23+MOp\tHypoDMR \t402681\n",
      "IT-L23+MOp\tHyperDMR\t149951\n",
      "IT-L4+MOs\tHypoDMR \t177732\n",
      "IT-L4+MOs\tHyperDMR\t84391\n",
      "IT-L5+SSp\tHypoDMR \t257749\n",
      "IT-L5+SSp\tHyperDMR\t218809\n",
      "IT-L23+ORB\tHypoDMR \t185460\n",
      "IT-L23+ORB\tHyperDMR\t213404\n",
      "IT-L23+PFC\tHypoDMR \t209722\n",
      "IT-L23+PFC\tHyperDMR\t313843\n",
      "IT-L23+SSp\tHypoDMR \t402779\n",
      "IT-L23+SSp\tHyperDMR\t153443\n",
      "IT-L23+MOs\tHypoDMR \t357046\n",
      "IT-L23+MOs\tHyperDMR\t151547\n",
      "IT-L5+PFC\tHypoDMR \t149559\n",
      "IT-L5+PFC\tHyperDMR\t312176\n",
      "IT-L5+AI\tHypoDMR \t149645\n",
      "IT-L5+AI\tHyperDMR\t144496\n",
      "IT-L5+MOs\tHypoDMR \t274407\n",
      "IT-L5+MOs\tHyperDMR\t145511\n",
      "IT-L4+MOp\tHypoDMR \t311999\n",
      "IT-L4+MOp\tHyperDMR\t215727\n",
      "IT-L5+MOp\tHypoDMR \t283634\n",
      "IT-L5+MOp\tHyperDMR\t145594\n",
      "IT-L5+ORB\tHypoDMR \t108744\n",
      "IT-L5+ORB\tHyperDMR\t117010\n",
      "IT-L23+SSs\tHypoDMR \t385416\n",
      "IT-L23+SSs\tHyperDMR\t122439\n",
      "IT-L5+SSs\tHypoDMR \t169383\n",
      "IT-L5+SSs\tHyperDMR\t109701\n",
      "IT-L6+AI\tHypoDMR \t56695\n",
      "IT-L6+AI\tHyperDMR\t96779\n",
      "IT-L4+SSp\tHypoDMR \t375274\n",
      "IT-L4+SSp\tHyperDMR\t248380\n",
      "IT-L6+ACA\tHypoDMR \t126363\n",
      "IT-L6+ACA\tHyperDMR\t344762\n",
      "IT-L5+ACA\tHypoDMR \t159162\n",
      "IT-L5+ACA\tHyperDMR\t379063\n",
      "IT-L4+SSs\tHypoDMR \t342748\n",
      "IT-L4+SSs\tHyperDMR\t209189\n",
      "IT-L6+PFC\tHypoDMR \t102625\n",
      "IT-L6+PFC\tHyperDMR\t331251\n",
      "IT-L6+SSp\tHypoDMR \t165697\n",
      "IT-L6+SSp\tHyperDMR\t342548\n",
      "IT-L6+SSs\tHypoDMR \t113746\n",
      "IT-L6+SSs\tHyperDMR\t243699\n",
      "IT-L6+MOs\tHypoDMR \t163756\n",
      "IT-L6+MOs\tHyperDMR\t197010\n",
      "IT-L6+MOp\tHypoDMR \t220541\n",
      "IT-L6+MOp\tHyperDMR\t285130\n"
     ]
    }
   ],
   "source": [
    "# parse results\n",
    "for sample in samples:\n",
    "    # here saved a list of np.array\n",
    "    hypo_index = dmr_df[dmr_df['hypomethylated_samples'].fillna('').apply(lambda i: sample in i)].index\n",
    "    hyper_index = dmr_df[dmr_df['hypermethylated_samples'].fillna('').apply(lambda i: sample in i)].index\n",
    "    hypo_sig_dict[sample] = hypo_index\n",
    "    hyper_sig_dict[sample] = hyper_index\n",
    "    print(sample, 'HypoDMR ', hypo_index.size, sep='\\t')\n",
    "    print(sample, 'HyperDMR', hyper_index.size, sep='\\t')\n"
   ]
  },
  {
   "cell_type": "code",
   "execution_count": 11,
   "metadata": {
    "ExecuteTime": {
     "end_time": "2020-01-12T04:24:35.300009Z",
     "start_time": "2020-01-12T04:24:29.164027Z"
    },
    "papermill": {
     "duration": 0.237767,
     "end_time": "2020-01-11T22:47:16.694757",
     "exception": false,
     "start_time": "2020-01-11T22:47:16.456990",
     "status": "completed"
    },
    "tags": []
   },
   "outputs": [
    {
     "name": "stderr",
     "output_type": "stream",
     "text": [
      "/home/hanliu/miniconda3/envs/clustering/lib/python3.7/site-packages/tables/path.py:157: NaturalNameWarning: object name is not a valid Python identifier: 'IT-L23+ACA'; it does not match the pattern ``^[a-zA-Z_][a-zA-Z0-9_]*$``; you will not be able to use natural naming to access this object; using ``getattr()`` will still work, though\n",
      "  check_attribute_name(name)\n",
      "/home/hanliu/miniconda3/envs/clustering/lib/python3.7/site-packages/tables/path.py:157: NaturalNameWarning: object name is not a valid Python identifier: 'IT-L23+AI'; it does not match the pattern ``^[a-zA-Z_][a-zA-Z0-9_]*$``; you will not be able to use natural naming to access this object; using ``getattr()`` will still work, though\n",
      "  check_attribute_name(name)\n",
      "/home/hanliu/miniconda3/envs/clustering/lib/python3.7/site-packages/tables/path.py:157: NaturalNameWarning: object name is not a valid Python identifier: 'IT-L23+MOp'; it does not match the pattern ``^[a-zA-Z_][a-zA-Z0-9_]*$``; you will not be able to use natural naming to access this object; using ``getattr()`` will still work, though\n",
      "  check_attribute_name(name)\n",
      "/home/hanliu/miniconda3/envs/clustering/lib/python3.7/site-packages/tables/path.py:157: NaturalNameWarning: object name is not a valid Python identifier: 'IT-L4+MOs'; it does not match the pattern ``^[a-zA-Z_][a-zA-Z0-9_]*$``; you will not be able to use natural naming to access this object; using ``getattr()`` will still work, though\n",
      "  check_attribute_name(name)\n",
      "/home/hanliu/miniconda3/envs/clustering/lib/python3.7/site-packages/tables/path.py:157: NaturalNameWarning: object name is not a valid Python identifier: 'IT-L5+SSp'; it does not match the pattern ``^[a-zA-Z_][a-zA-Z0-9_]*$``; you will not be able to use natural naming to access this object; using ``getattr()`` will still work, though\n",
      "  check_attribute_name(name)\n",
      "/home/hanliu/miniconda3/envs/clustering/lib/python3.7/site-packages/tables/path.py:157: NaturalNameWarning: object name is not a valid Python identifier: 'IT-L23+ORB'; it does not match the pattern ``^[a-zA-Z_][a-zA-Z0-9_]*$``; you will not be able to use natural naming to access this object; using ``getattr()`` will still work, though\n",
      "  check_attribute_name(name)\n",
      "/home/hanliu/miniconda3/envs/clustering/lib/python3.7/site-packages/tables/path.py:157: NaturalNameWarning: object name is not a valid Python identifier: 'IT-L23+PFC'; it does not match the pattern ``^[a-zA-Z_][a-zA-Z0-9_]*$``; you will not be able to use natural naming to access this object; using ``getattr()`` will still work, though\n",
      "  check_attribute_name(name)\n",
      "/home/hanliu/miniconda3/envs/clustering/lib/python3.7/site-packages/tables/path.py:157: NaturalNameWarning: object name is not a valid Python identifier: 'IT-L23+SSp'; it does not match the pattern ``^[a-zA-Z_][a-zA-Z0-9_]*$``; you will not be able to use natural naming to access this object; using ``getattr()`` will still work, though\n",
      "  check_attribute_name(name)\n",
      "/home/hanliu/miniconda3/envs/clustering/lib/python3.7/site-packages/tables/path.py:157: NaturalNameWarning: object name is not a valid Python identifier: 'IT-L23+MOs'; it does not match the pattern ``^[a-zA-Z_][a-zA-Z0-9_]*$``; you will not be able to use natural naming to access this object; using ``getattr()`` will still work, though\n",
      "  check_attribute_name(name)\n",
      "/home/hanliu/miniconda3/envs/clustering/lib/python3.7/site-packages/tables/path.py:157: NaturalNameWarning: object name is not a valid Python identifier: 'IT-L5+PFC'; it does not match the pattern ``^[a-zA-Z_][a-zA-Z0-9_]*$``; you will not be able to use natural naming to access this object; using ``getattr()`` will still work, though\n",
      "  check_attribute_name(name)\n",
      "/home/hanliu/miniconda3/envs/clustering/lib/python3.7/site-packages/tables/path.py:157: NaturalNameWarning: object name is not a valid Python identifier: 'IT-L5+AI'; it does not match the pattern ``^[a-zA-Z_][a-zA-Z0-9_]*$``; you will not be able to use natural naming to access this object; using ``getattr()`` will still work, though\n",
      "  check_attribute_name(name)\n",
      "/home/hanliu/miniconda3/envs/clustering/lib/python3.7/site-packages/tables/path.py:157: NaturalNameWarning: object name is not a valid Python identifier: 'IT-L5+MOs'; it does not match the pattern ``^[a-zA-Z_][a-zA-Z0-9_]*$``; you will not be able to use natural naming to access this object; using ``getattr()`` will still work, though\n",
      "  check_attribute_name(name)\n",
      "/home/hanliu/miniconda3/envs/clustering/lib/python3.7/site-packages/tables/path.py:157: NaturalNameWarning: object name is not a valid Python identifier: 'IT-L4+MOp'; it does not match the pattern ``^[a-zA-Z_][a-zA-Z0-9_]*$``; you will not be able to use natural naming to access this object; using ``getattr()`` will still work, though\n",
      "  check_attribute_name(name)\n",
      "/home/hanliu/miniconda3/envs/clustering/lib/python3.7/site-packages/tables/path.py:157: NaturalNameWarning: object name is not a valid Python identifier: 'IT-L5+MOp'; it does not match the pattern ``^[a-zA-Z_][a-zA-Z0-9_]*$``; you will not be able to use natural naming to access this object; using ``getattr()`` will still work, though\n",
      "  check_attribute_name(name)\n",
      "/home/hanliu/miniconda3/envs/clustering/lib/python3.7/site-packages/tables/path.py:157: NaturalNameWarning: object name is not a valid Python identifier: 'IT-L5+ORB'; it does not match the pattern ``^[a-zA-Z_][a-zA-Z0-9_]*$``; you will not be able to use natural naming to access this object; using ``getattr()`` will still work, though\n",
      "  check_attribute_name(name)\n",
      "/home/hanliu/miniconda3/envs/clustering/lib/python3.7/site-packages/tables/path.py:157: NaturalNameWarning: object name is not a valid Python identifier: 'IT-L23+SSs'; it does not match the pattern ``^[a-zA-Z_][a-zA-Z0-9_]*$``; you will not be able to use natural naming to access this object; using ``getattr()`` will still work, though\n",
      "  check_attribute_name(name)\n",
      "/home/hanliu/miniconda3/envs/clustering/lib/python3.7/site-packages/tables/path.py:157: NaturalNameWarning: object name is not a valid Python identifier: 'IT-L5+SSs'; it does not match the pattern ``^[a-zA-Z_][a-zA-Z0-9_]*$``; you will not be able to use natural naming to access this object; using ``getattr()`` will still work, though\n",
      "  check_attribute_name(name)\n",
      "/home/hanliu/miniconda3/envs/clustering/lib/python3.7/site-packages/tables/path.py:157: NaturalNameWarning: object name is not a valid Python identifier: 'IT-L6+AI'; it does not match the pattern ``^[a-zA-Z_][a-zA-Z0-9_]*$``; you will not be able to use natural naming to access this object; using ``getattr()`` will still work, though\n",
      "  check_attribute_name(name)\n",
      "/home/hanliu/miniconda3/envs/clustering/lib/python3.7/site-packages/tables/path.py:157: NaturalNameWarning: object name is not a valid Python identifier: 'IT-L4+SSp'; it does not match the pattern ``^[a-zA-Z_][a-zA-Z0-9_]*$``; you will not be able to use natural naming to access this object; using ``getattr()`` will still work, though\n",
      "  check_attribute_name(name)\n",
      "/home/hanliu/miniconda3/envs/clustering/lib/python3.7/site-packages/tables/path.py:157: NaturalNameWarning: object name is not a valid Python identifier: 'IT-L6+ACA'; it does not match the pattern ``^[a-zA-Z_][a-zA-Z0-9_]*$``; you will not be able to use natural naming to access this object; using ``getattr()`` will still work, though\n",
      "  check_attribute_name(name)\n",
      "/home/hanliu/miniconda3/envs/clustering/lib/python3.7/site-packages/tables/path.py:157: NaturalNameWarning: object name is not a valid Python identifier: 'IT-L5+ACA'; it does not match the pattern ``^[a-zA-Z_][a-zA-Z0-9_]*$``; you will not be able to use natural naming to access this object; using ``getattr()`` will still work, though\n",
      "  check_attribute_name(name)\n",
      "/home/hanliu/miniconda3/envs/clustering/lib/python3.7/site-packages/tables/path.py:157: NaturalNameWarning: object name is not a valid Python identifier: 'IT-L4+SSs'; it does not match the pattern ``^[a-zA-Z_][a-zA-Z0-9_]*$``; you will not be able to use natural naming to access this object; using ``getattr()`` will still work, though\n",
      "  check_attribute_name(name)\n",
      "/home/hanliu/miniconda3/envs/clustering/lib/python3.7/site-packages/tables/path.py:157: NaturalNameWarning: object name is not a valid Python identifier: 'IT-L6+PFC'; it does not match the pattern ``^[a-zA-Z_][a-zA-Z0-9_]*$``; you will not be able to use natural naming to access this object; using ``getattr()`` will still work, though\n",
      "  check_attribute_name(name)\n",
      "/home/hanliu/miniconda3/envs/clustering/lib/python3.7/site-packages/tables/path.py:157: NaturalNameWarning: object name is not a valid Python identifier: 'IT-L6+SSp'; it does not match the pattern ``^[a-zA-Z_][a-zA-Z0-9_]*$``; you will not be able to use natural naming to access this object; using ``getattr()`` will still work, though\n",
      "  check_attribute_name(name)\n"
     ]
    },
    {
     "name": "stderr",
     "output_type": "stream",
     "text": [
      "/home/hanliu/miniconda3/envs/clustering/lib/python3.7/site-packages/tables/path.py:157: NaturalNameWarning: object name is not a valid Python identifier: 'IT-L6+SSs'; it does not match the pattern ``^[a-zA-Z_][a-zA-Z0-9_]*$``; you will not be able to use natural naming to access this object; using ``getattr()`` will still work, though\n",
      "  check_attribute_name(name)\n",
      "/home/hanliu/miniconda3/envs/clustering/lib/python3.7/site-packages/tables/path.py:157: NaturalNameWarning: object name is not a valid Python identifier: 'IT-L6+MOs'; it does not match the pattern ``^[a-zA-Z_][a-zA-Z0-9_]*$``; you will not be able to use natural naming to access this object; using ``getattr()`` will still work, though\n",
      "  check_attribute_name(name)\n",
      "/home/hanliu/miniconda3/envs/clustering/lib/python3.7/site-packages/tables/path.py:157: NaturalNameWarning: object name is not a valid Python identifier: 'IT-L6+MOp'; it does not match the pattern ``^[a-zA-Z_][a-zA-Z0-9_]*$``; you will not be able to use natural naming to access this object; using ``getattr()`` will still work, though\n",
      "  check_attribute_name(name)\n"
     ]
    }
   ],
   "source": [
    "with pd.HDFStore(pathlib.Path(dmr_path).parent / 'DMRInfo.h5') as hdf:\n",
    "    for sample, hypo_index in hypo_sig_dict.items():\n",
    "        hdf[f'HypoDMR/{sample}'] = pd.Series(hypo_index)\n",
    "    for sample, hyper_index in hyper_sig_dict.items():\n",
    "        hdf[f'HyperDMR/{sample}'] = pd.Series(hyper_index)"
   ]
  },
  {
   "cell_type": "markdown",
   "metadata": {
    "papermill": {
     "duration": 0.011547,
     "end_time": "2020-01-11T22:47:16.718377",
     "exception": false,
     "start_time": "2020-01-11T22:47:16.706830",
     "status": "completed"
    },
    "scrolled": true,
    "tags": []
   },
   "source": [
    "## Dump DMR bed"
   ]
  },
  {
   "cell_type": "code",
   "execution_count": 12,
   "metadata": {
    "ExecuteTime": {
     "end_time": "2020-01-12T04:25:01.428456Z",
     "start_time": "2020-01-12T04:24:35.302021Z"
    },
    "papermill": {
     "duration": 0.481036,
     "end_time": "2020-01-11T22:47:17.210553",
     "exception": false,
     "start_time": "2020-01-11T22:47:16.729517",
     "status": "completed"
    },
    "tags": []
   },
   "outputs": [],
   "source": [
    "hypo_dir = pathlib.Path(dmr_path).parent / 'HypoDMR'\n",
    "hypo_dir.mkdir(exist_ok=True)\n",
    "for sample, hypo_index in hypo_sig_dict.items():\n",
    "    _bed = dmr_bed.loc[hypo_index].reset_index().iloc[:, [1, 2, 3, 0]].to_csv(\n",
    "        hypo_dir / f'{sample}.DMS{dms_cutoff}.bed', sep='\\t', index=None, header=None)"
   ]
  },
  {
   "cell_type": "code",
   "execution_count": 13,
   "metadata": {
    "ExecuteTime": {
     "end_time": "2020-01-12T04:25:24.577353Z",
     "start_time": "2020-01-12T04:25:01.430610Z"
    },
    "papermill": {
     "duration": 0.102854,
     "end_time": "2020-01-11T22:47:17.325539",
     "exception": false,
     "start_time": "2020-01-11T22:47:17.222685",
     "status": "completed"
    },
    "tags": []
   },
   "outputs": [],
   "source": [
    "hyper_dir = pathlib.Path(dmr_path).parent / 'HyperDMR'\n",
    "hyper_dir.mkdir(exist_ok=True)\n",
    "for sample, hyper_index in hyper_sig_dict.items():\n",
    "    _bed = dmr_bed.loc[hyper_index].reset_index().iloc[:, [1, 2, 3, 0]].to_csv(\n",
    "        hyper_dir / f'{sample}.DMS{dms_cutoff}.bed', sep='\\t', index=None, header=None)"
   ]
  },
  {
   "cell_type": "markdown",
   "metadata": {
    "papermill": {
     "duration": 0.011612,
     "end_time": "2020-01-11T22:47:17.349058",
     "exception": false,
     "start_time": "2020-01-11T22:47:17.337446",
     "status": "completed"
    },
    "tags": []
   },
   "source": [
    "## DMR hits matrix"
   ]
  },
  {
   "cell_type": "code",
   "execution_count": 14,
   "metadata": {
    "ExecuteTime": {
     "end_time": "2020-01-12T04:25:31.135448Z",
     "start_time": "2020-01-12T04:25:24.579584Z"
    },
    "papermill": {
     "duration": 3.447191,
     "end_time": "2020-01-11T22:47:20.807309",
     "exception": false,
     "start_time": "2020-01-11T22:47:17.360118",
     "status": "completed"
    },
    "tags": []
   },
   "outputs": [
    {
     "name": "stderr",
     "output_type": "stream",
     "text": [
      "... storing '#chr' as categorical\n"
     ]
    }
   ],
   "source": [
    "sig_dict = hypo_sig_dict\n",
    "\n",
    "rows = []\n",
    "cols = []\n",
    "datas = []\n",
    "for i, (sample, dmr_index) in enumerate(sig_dict.items()):\n",
    "    col = dmr_index.map(lambda i: i.split('_')[1]).astype(int).values\n",
    "    row = (np.ones_like(col) * i).astype(int)\n",
    "    data = np.ones_like(col)\n",
    "    rows.append(row)\n",
    "    cols.append(col)\n",
    "    datas.append(data)\n",
    "datas = np.concatenate(datas)\n",
    "cols = np.concatenate(cols)\n",
    "rows = np.concatenate(rows)\n",
    "hits = csr_matrix((datas, (rows, cols)),\n",
    "                  shape=(mc_rate.shape[1], dmr_bed.shape[0]))\n",
    "\n",
    "# obs is DMR, var is sample, because all analysis is dmr focused\n",
    "dmr_hits = anndata.AnnData(X=hits.T,\n",
    "                           obs=dmr_bed,\n",
    "                           var=pd.DataFrame([], index=mc_rate.columns))\n",
    "\n",
    "dmr_hits.write_h5ad(hypo_dir / 'TotalHits.h5ad')\n"
   ]
  },
  {
   "cell_type": "code",
   "execution_count": 15,
   "metadata": {
    "ExecuteTime": {
     "end_time": "2020-01-12T04:25:37.534044Z",
     "start_time": "2020-01-12T04:25:31.137030Z"
    },
    "papermill": {
     "duration": 3.516044,
     "end_time": "2020-01-11T22:47:24.336024",
     "exception": false,
     "start_time": "2020-01-11T22:47:20.819980",
     "status": "completed"
    },
    "tags": []
   },
   "outputs": [
    {
     "name": "stderr",
     "output_type": "stream",
     "text": [
      "... storing '#chr' as categorical\n"
     ]
    }
   ],
   "source": [
    "sig_dict = hyper_sig_dict\n",
    "\n",
    "rows = []\n",
    "cols = []\n",
    "datas = []\n",
    "for i, (sample, dmr_index) in enumerate(sig_dict.items()):\n",
    "    col = dmr_index.map(lambda i: i.split('_')[1]).astype(int).values\n",
    "    row = (np.ones_like(col) * i).astype(int)\n",
    "    data = np.ones_like(col)\n",
    "    rows.append(row)\n",
    "    cols.append(col)\n",
    "    datas.append(data)\n",
    "datas = np.concatenate(datas)\n",
    "cols = np.concatenate(cols)\n",
    "rows = np.concatenate(rows)\n",
    "hits = csr_matrix((datas, (rows, cols)),\n",
    "                  shape=(mc_rate.shape[1], dmr_bed.shape[0]))\n",
    "\n",
    "# obs is DMR, var is sample, because all analysis is dmr focused\n",
    "dmr_hits = anndata.AnnData(X=hits.T,\n",
    "                           obs=dmr_bed,\n",
    "                           var=pd.DataFrame([], index=mc_rate.columns))\n",
    "\n",
    "dmr_hits.write_h5ad(hyper_dir / 'TotalHits.h5ad')"
   ]
  },
  {
   "cell_type": "code",
   "execution_count": null,
   "metadata": {
    "papermill": {
     "duration": 0.012081,
     "end_time": "2020-01-11T22:47:24.360879",
     "exception": false,
     "start_time": "2020-01-11T22:47:24.348798",
     "status": "completed"
    },
    "tags": []
   },
   "outputs": [],
   "source": []
  },
  {
   "cell_type": "code",
   "execution_count": null,
   "metadata": {
    "papermill": {
     "duration": 0.011174,
     "end_time": "2020-01-11T22:47:24.383493",
     "exception": false,
     "start_time": "2020-01-11T22:47:24.372319",
     "status": "completed"
    },
    "tags": []
   },
   "outputs": [],
   "source": []
  },
  {
   "cell_type": "code",
   "execution_count": null,
   "metadata": {
    "papermill": {
     "duration": 0.011124,
     "end_time": "2020-01-11T22:47:24.406014",
     "exception": false,
     "start_time": "2020-01-11T22:47:24.394890",
     "status": "completed"
    },
    "tags": []
   },
   "outputs": [],
   "source": []
  }
 ],
 "metadata": {
  "hide_input": false,
  "kernelspec": {
   "display_name": "Python 3",
   "language": "python",
   "name": "python3"
  },
  "language_info": {
   "codemirror_mode": {
    "name": "ipython",
    "version": 3
   },
   "file_extension": ".py",
   "mimetype": "text/x-python",
   "name": "python",
   "nbconvert_exporter": "python",
   "pygments_lexer": "ipython3",
   "version": "3.7.3"
  },
  "papermill": {
   "duration": 40.433222,
   "end_time": "2020-01-11T22:47:25.025707",
   "environment_variables": {},
   "exception": null,
   "input_path": "1.FilterDMRRecipe_simple_min_max.ipynb",
   "output_path": "/home/hanliu/project/mouse_rostral_brain/DMR/ITSpatial/Recipe/1.FilterDMRRecipe_simple_min_max.ipynb",
   "parameters": {
    "black_list_path": "/home/hanliu/ref/blacklist/mm10-blacklist.v2.bed.gz",
    "delta_to_mean": 0.1,
    "dmr_path": "/home/hanliu/project/mouse_rostral_brain/DMR/ITSpatial/ITSpatial_rms_results_collapsed.tsv",
    "dmr_prefix": "ITSpatial",
    "dms_cutoff": 1,
    "skip_quantile": 0.25
   },
   "start_time": "2020-01-11T22:46:44.592485",
   "version": "1.0.1"
  },
  "toc": {
   "base_numbering": 1,
   "nav_menu": {},
   "number_sections": true,
   "sideBar": true,
   "skip_h1_title": true,
   "title_cell": "Table of Contents",
   "title_sidebar": "Contents",
   "toc_cell": false,
   "toc_position": {},
   "toc_section_display": true,
   "toc_window_display": true
  }
 },
 "nbformat": 4,
 "nbformat_minor": 2
}
