{
 "cells": [
  {
   "cell_type": "markdown",
   "metadata": {
    "toc": true
   },
   "source": [
    "<h1>Table of Contents<span class=\"tocSkip\"></span></h1>\n",
    "<div class=\"toc\"><ul class=\"toc-item\"></ul></div>"
   ]
  },
  {
   "cell_type": "code",
   "execution_count": 1,
   "metadata": {
    "ExecuteTime": {
     "end_time": "2020-01-12T04:23:10.932679Z",
     "start_time": "2020-01-12T04:23:10.655034Z"
    }
   },
   "outputs": [],
   "source": [
    "import pathlib\n",
    "import pandas as pd"
   ]
  },
  {
   "cell_type": "code",
   "execution_count": null,
   "metadata": {},
   "outputs": [],
   "source": [
    "allc_dir = pathlib.Path('/gale/netapp/scratch2/hanliu/mouse_rostral_brain/ITSpatial/ITSpatial/').absolute()\n",
    "allc_list = list(allc_dir.glob('*CGN-Merge.allc.tsv.gz'))\n",
    "\n",
    "allc_paths = ' '.join(map(str, allc_list))\n",
    "out_prefix = pathlib.Path('').absolute() / 'ITSpatial'\n",
    "samples = ' '.join([p.name.split('.')[1] for p in allc_list])\n",
    "\n",
    "\n",
    "cmd = f'methylpy DMRfind --allc-files {allc_paths} --output-prefix {out_prefix} --samples {samples} --mc-type CGN --num-procs 20 --dmr-max-dist 250 --sig-cutoff 0.01'\n",
    "\n",
    "qsub_temp = f\"\"\"#!/bin/bash\n",
    "#$ -N dmr\n",
    "#$ -V\n",
    "#$ -pe smp 20\n",
    "#$ -l h_vmem=5G\n",
    "#$ -l h_rt=99:99:99\n",
    "#$ -l s_rt=99:99:99\n",
    "#$ -e /gale/netapp/scratch2/hanliu/mouse_rostral_brain/ITSpatial/qsub/dmr.error.log\n",
    "#$ -o /gale/netapp/scratch2/hanliu/mouse_rostral_brain/ITSpatial/qsub/dmr.output.log\n",
    "\n",
    "{cmd}\n",
    "\"\"\"\n",
    "\n",
    "with open('/gale/netapp/scratch2/hanliu/mouse_rostral_brain/ITSpatial/qsub/DMR.sh', 'w') as f:\n",
    "    f.write(qsub_temp)"
   ]
  },
  {
   "cell_type": "code",
   "execution_count": 4,
   "metadata": {
    "ExecuteTime": {
     "end_time": "2020-01-08T22:28:24.047670Z",
     "start_time": "2020-01-08T22:28:23.998706Z"
    }
   },
   "outputs": [
    {
     "data": {
      "text/plain": [
       "'methylpy DMRfind --allc-files /gale/netapp/scratch2/hanliu/mouse_rostral_brain/ITSpatial/ITSpatial/ITSpatial.IT-L23+ACA.CGN-Merge.allc.tsv.gz /gale/netapp/scratch2/hanliu/mouse_rostral_brain/ITSpatial/ITSpatial/ITSpatial.IT-L23+AI.CGN-Merge.allc.tsv.gz /gale/netapp/scratch2/hanliu/mouse_rostral_brain/ITSpatial/ITSpatial/ITSpatial.IT-L23+MOp.CGN-Merge.allc.tsv.gz /gale/netapp/scratch2/hanliu/mouse_rostral_brain/ITSpatial/ITSpatial/ITSpatial.IT-L4+MOs.CGN-Merge.allc.tsv.gz /gale/netapp/scratch2/hanliu/mouse_rostral_brain/ITSpatial/ITSpatial/ITSpatial.IT-L5+SSp.CGN-Merge.allc.tsv.gz /gale/netapp/scratch2/hanliu/mouse_rostral_brain/ITSpatial/ITSpatial/ITSpatial.IT-L23+ORB.CGN-Merge.allc.tsv.gz /gale/netapp/scratch2/hanliu/mouse_rostral_brain/ITSpatial/ITSpatial/ITSpatial.IT-L23+PFC.CGN-Merge.allc.tsv.gz /gale/netapp/scratch2/hanliu/mouse_rostral_brain/ITSpatial/ITSpatial/ITSpatial.IT-L23+SSp.CGN-Merge.allc.tsv.gz /gale/netapp/scratch2/hanliu/mouse_rostral_brain/ITSpatial/ITSpatial/ITSpatial.IT-L23+MOs.CGN-Merge.allc.tsv.gz /gale/netapp/scratch2/hanliu/mouse_rostral_brain/ITSpatial/ITSpatial/ITSpatial.IT-L5+PFC.CGN-Merge.allc.tsv.gz /gale/netapp/scratch2/hanliu/mouse_rostral_brain/ITSpatial/ITSpatial/ITSpatial.IT-L5+AI.CGN-Merge.allc.tsv.gz /gale/netapp/scratch2/hanliu/mouse_rostral_brain/ITSpatial/ITSpatial/ITSpatial.IT-L5+MOs.CGN-Merge.allc.tsv.gz /gale/netapp/scratch2/hanliu/mouse_rostral_brain/ITSpatial/ITSpatial/ITSpatial.IT-L4+MOp.CGN-Merge.allc.tsv.gz /gale/netapp/scratch2/hanliu/mouse_rostral_brain/ITSpatial/ITSpatial/ITSpatial.IT-L5+MOp.CGN-Merge.allc.tsv.gz /gale/netapp/scratch2/hanliu/mouse_rostral_brain/ITSpatial/ITSpatial/ITSpatial.IT-L5+ORB.CGN-Merge.allc.tsv.gz /gale/netapp/scratch2/hanliu/mouse_rostral_brain/ITSpatial/ITSpatial/ITSpatial.IT-L23+SSs.CGN-Merge.allc.tsv.gz /gale/netapp/scratch2/hanliu/mouse_rostral_brain/ITSpatial/ITSpatial/ITSpatial.IT-L5+SSs.CGN-Merge.allc.tsv.gz /gale/netapp/scratch2/hanliu/mouse_rostral_brain/ITSpatial/ITSpatial/ITSpatial.IT-L6+AI.CGN-Merge.allc.tsv.gz /gale/netapp/scratch2/hanliu/mouse_rostral_brain/ITSpatial/ITSpatial/ITSpatial.IT-L4+SSp.CGN-Merge.allc.tsv.gz /gale/netapp/scratch2/hanliu/mouse_rostral_brain/ITSpatial/ITSpatial/ITSpatial.IT-L6+ACA.CGN-Merge.allc.tsv.gz /gale/netapp/scratch2/hanliu/mouse_rostral_brain/ITSpatial/ITSpatial/ITSpatial.IT-L5+ACA.CGN-Merge.allc.tsv.gz /gale/netapp/scratch2/hanliu/mouse_rostral_brain/ITSpatial/ITSpatial/ITSpatial.IT-L4+SSs.CGN-Merge.allc.tsv.gz /gale/netapp/scratch2/hanliu/mouse_rostral_brain/ITSpatial/ITSpatial/ITSpatial.IT-L6+PFC.CGN-Merge.allc.tsv.gz /gale/netapp/scratch2/hanliu/mouse_rostral_brain/ITSpatial/ITSpatial/ITSpatial.IT-L6+SSp.CGN-Merge.allc.tsv.gz /gale/netapp/scratch2/hanliu/mouse_rostral_brain/ITSpatial/ITSpatial/ITSpatial.IT-L6+SSs.CGN-Merge.allc.tsv.gz /gale/netapp/scratch2/hanliu/mouse_rostral_brain/ITSpatial/ITSpatial/ITSpatial.IT-L6+MOs.CGN-Merge.allc.tsv.gz /gale/netapp/scratch2/hanliu/mouse_rostral_brain/ITSpatial/ITSpatial/ITSpatial.IT-L6+MOp.CGN-Merge.allc.tsv.gz --output-prefix /gale/netapp/scratch2/hanliu/mouse_rostral_brain/ITSpatial/DMR/ITSpatial --samples IT-L23+ACA IT-L23+AI IT-L23+MOp IT-L4+MOs IT-L5+SSp IT-L23+ORB IT-L23+PFC IT-L23+SSp IT-L23+MOs IT-L5+PFC IT-L5+AI IT-L5+MOs IT-L4+MOp IT-L5+MOp IT-L5+ORB IT-L23+SSs IT-L5+SSs IT-L6+AI IT-L4+SSp IT-L6+ACA IT-L5+ACA IT-L4+SSs IT-L6+PFC IT-L6+SSp IT-L6+SSs IT-L6+MOs IT-L6+MOp --mc-type CGN --num-procs 20 --dmr-max-dist 250 --sig-cutoff 0.01'"
      ]
     },
     "execution_count": 4,
     "metadata": {},
     "output_type": "execute_result"
    }
   ],
   "source": [
    "cmd"
   ]
  },
  {
   "cell_type": "code",
   "execution_count": null,
   "metadata": {},
   "outputs": [],
   "source": []
  },
  {
   "cell_type": "code",
   "execution_count": null,
   "metadata": {},
   "outputs": [],
   "source": []
  },
  {
   "cell_type": "code",
   "execution_count": null,
   "metadata": {},
   "outputs": [],
   "source": []
  },
  {
   "cell_type": "code",
   "execution_count": null,
   "metadata": {},
   "outputs": [],
   "source": []
  },
  {
   "cell_type": "code",
   "execution_count": null,
   "metadata": {},
   "outputs": [],
   "source": []
  },
  {
   "cell_type": "code",
   "execution_count": null,
   "metadata": {},
   "outputs": [],
   "source": []
  },
  {
   "cell_type": "code",
   "execution_count": null,
   "metadata": {},
   "outputs": [],
   "source": []
  },
  {
   "cell_type": "code",
   "execution_count": null,
   "metadata": {},
   "outputs": [],
   "source": []
  },
  {
   "cell_type": "code",
   "execution_count": null,
   "metadata": {},
   "outputs": [],
   "source": []
  }
 ],
 "metadata": {
  "hide_input": false,
  "kernelspec": {
   "display_name": "Python 3",
   "language": "python",
   "name": "python3"
  },
  "language_info": {
   "codemirror_mode": {
    "name": "ipython",
    "version": 3
   },
   "file_extension": ".py",
   "mimetype": "text/x-python",
   "name": "python",
   "nbconvert_exporter": "python",
   "pygments_lexer": "ipython3",
   "version": "3.7.3"
  },
  "toc": {
   "base_numbering": 1,
   "nav_menu": {},
   "number_sections": true,
   "sideBar": true,
   "skip_h1_title": true,
   "title_cell": "Table of Contents",
   "title_sidebar": "Contents",
   "toc_cell": true,
   "toc_position": {},
   "toc_section_display": true,
   "toc_window_display": true
  }
 },
 "nbformat": 4,
 "nbformat_minor": 2
}
