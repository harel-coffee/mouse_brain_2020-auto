{
 "cells": [
  {
   "cell_type": "code",
   "execution_count": 2,
   "metadata": {
    "ExecuteTime": {
     "end_time": "2020-03-15T23:24:18.446498Z",
     "start_time": "2020-03-15T23:24:17.932958Z"
    }
   },
   "outputs": [],
   "source": [
    "import pandas as pd\n",
    "import anndata"
   ]
  },
  {
   "cell_type": "code",
   "execution_count": 3,
   "metadata": {
    "ExecuteTime": {
     "end_time": "2020-03-15T23:24:39.445656Z",
     "start_time": "2020-03-15T23:24:33.744755Z"
    }
   },
   "outputs": [],
   "source": [
    "bed_df = pd.read_hdf('DMRInfo.h5', key='bed')"
   ]
  },
  {
   "cell_type": "code",
   "execution_count": 4,
   "metadata": {
    "ExecuteTime": {
     "end_time": "2020-03-15T23:25:08.722218Z",
     "start_time": "2020-03-15T23:24:51.380393Z"
    }
   },
   "outputs": [],
   "source": [
    "hypo_adata = anndata.read_h5ad('TotalHits.HypoDMR.h5ad')"
   ]
  },
  {
   "cell_type": "code",
   "execution_count": 7,
   "metadata": {
    "ExecuteTime": {
     "end_time": "2020-03-15T23:32:06.099710Z",
     "start_time": "2020-03-15T23:32:05.862595Z"
    }
   },
   "outputs": [],
   "source": [
    "dmr_sum = hypo_adata.X.sum(axis=1)"
   ]
  },
  {
   "cell_type": "code",
   "execution_count": 17,
   "metadata": {
    "ExecuteTime": {
     "end_time": "2020-03-15T23:34:32.092212Z",
     "start_time": "2020-03-15T23:34:32.089501Z"
    }
   },
   "outputs": [],
   "source": [
    "# Total DMR\n",
    "hypo_count = pd.Series(dmr_sum.A1, index=hypo_adata.obs_names)"
   ]
  },
  {
   "cell_type": "code",
   "execution_count": 20,
   "metadata": {
    "ExecuteTime": {
     "end_time": "2020-03-15T23:34:51.242377Z",
     "start_time": "2020-03-15T23:34:51.175644Z"
    }
   },
   "outputs": [],
   "source": [
    "use_dmr = hypo_count[hypo_count > 0].index"
   ]
  },
  {
   "cell_type": "code",
   "execution_count": 22,
   "metadata": {
    "ExecuteTime": {
     "end_time": "2020-03-15T23:35:08.996328Z",
     "start_time": "2020-03-15T23:35:05.946935Z"
    }
   },
   "outputs": [],
   "source": [
    "use_bed_df = bed_df.loc[use_dmr].copy()"
   ]
  },
  {
   "cell_type": "code",
   "execution_count": 24,
   "metadata": {
    "ExecuteTime": {
     "end_time": "2020-03-15T23:35:22.432748Z",
     "start_time": "2020-03-15T23:35:22.427855Z"
    }
   },
   "outputs": [],
   "source": [
    "dmr_length = use_bed_df['end'] - use_bed_df['start']"
   ]
  },
  {
   "cell_type": "code",
   "execution_count": 36,
   "metadata": {
    "ExecuteTime": {
     "end_time": "2020-03-16T00:30:14.273984Z",
     "start_time": "2020-03-16T00:30:14.094301Z"
    }
   },
   "outputs": [
    {
     "data": {
      "text/plain": [
       "count    3.947795e+06\n",
       "mean     3.741962e+02\n",
       "std      1.769296e+02\n",
       "min      2.500000e+02\n",
       "25%      2.500000e+02\n",
       "50%      3.050000e+02\n",
       "75%      4.370000e+02\n",
       "max      3.551000e+03\n",
       "dtype: float64"
      ]
     },
     "execution_count": 36,
     "metadata": {},
     "output_type": "execute_result"
    }
   ],
   "source": [
    "(dmr_length + 250).describe()"
   ]
  },
  {
   "cell_type": "code",
   "execution_count": 44,
   "metadata": {
    "ExecuteTime": {
     "end_time": "2020-03-16T00:31:51.499642Z",
     "start_time": "2020-03-16T00:31:51.320522Z"
    }
   },
   "outputs": [
    {
     "data": {
      "text/plain": [
       "count    3.947795e+06\n",
       "mean     2.771863e+00\n",
       "std      2.428653e+00\n",
       "min      1.000000e+00\n",
       "25%      1.000000e+00\n",
       "50%      2.000000e+00\n",
       "75%      3.000000e+00\n",
       "max      9.000000e+01\n",
       "Name: number_of_dms, dtype: float64"
      ]
     },
     "execution_count": 44,
     "metadata": {},
     "output_type": "execute_result"
    }
   ],
   "source": [
    "use_bed_df['number_of_dms'].describe()"
   ]
  },
  {
   "cell_type": "code",
   "execution_count": 58,
   "metadata": {
    "ExecuteTime": {
     "end_time": "2020-03-16T00:44:51.273556Z",
     "start_time": "2020-03-16T00:44:51.046641Z"
    }
   },
   "outputs": [],
   "source": [
    "encode_filtered = use_bed_df[use_bed_df['number_of_dms'] >= 4]"
   ]
  },
  {
   "cell_type": "code",
   "execution_count": 61,
   "metadata": {
    "ExecuteTime": {
     "end_time": "2020-03-16T00:45:09.879825Z",
     "start_time": "2020-03-16T00:45:09.875269Z"
    }
   },
   "outputs": [
    {
     "data": {
      "text/plain": [
       "((977541, 4), 0.26892437071688763)"
      ]
     },
     "execution_count": 61,
     "metadata": {},
     "output_type": "execute_result"
    }
   ],
   "source": [
    "encode_filtered.shape, encode_filtered['number_of_dms'].sum() / 21906237"
   ]
  },
  {
   "cell_type": "code",
   "execution_count": 55,
   "metadata": {
    "ExecuteTime": {
     "end_time": "2020-03-16T00:41:07.645311Z",
     "start_time": "2020-03-16T00:41:07.618351Z"
    }
   },
   "outputs": [
    {
     "data": {
      "text/plain": [
       "0.49952650471187726"
      ]
     },
     "execution_count": 55,
     "metadata": {},
     "output_type": "execute_result"
    }
   ],
   "source": [
    "use_bed_df['number_of_dms'].sum() / 21906237"
   ]
  },
  {
   "cell_type": "code",
   "execution_count": null,
   "metadata": {},
   "outputs": [],
   "source": [
    "# Total C: 552647817\n",
    "# Total CG: 21906237"
   ]
  },
  {
   "cell_type": "code",
   "execution_count": 54,
   "metadata": {
    "ExecuteTime": {
     "end_time": "2020-03-16T00:40:44.204572Z",
     "start_time": "2020-03-16T00:40:44.191494Z"
    }
   },
   "outputs": [
    {
     "data": {
      "text/plain": [
       "0.03963869271920059"
      ]
     },
     "execution_count": 54,
     "metadata": {},
     "output_type": "execute_result"
    }
   ],
   "source": [
    "21906237 / 552647817"
   ]
  },
  {
   "cell_type": "code",
   "execution_count": 53,
   "metadata": {
    "ExecuteTime": {
     "end_time": "2020-03-16T00:40:31.761906Z",
     "start_time": "2020-03-16T00:38:56.690971Z"
    },
    "scrolled": true
   },
   "outputs": [
    {
     "name": "stdout",
     "output_type": "stream",
     "text": [
      ">chr1\n",
      "\n",
      ">chr10\n",
      "\n",
      ">chr11\n",
      "\n",
      ">chr12\n",
      "\n",
      ">chr13\n",
      "\n",
      ">chr14\n",
      "\n",
      ">chr15\n",
      "\n",
      ">chr16\n",
      "\n",
      ">chr17\n",
      "\n",
      ">chr18\n",
      "\n",
      ">chr19\n",
      "\n",
      ">chr1_GL456210_random\n",
      "\n",
      ">chr1_GL456211_random\n",
      "\n",
      ">chr1_GL456212_random\n",
      "\n",
      ">chr1_GL456213_random\n",
      "\n",
      ">chr1_GL456221_random\n",
      "\n",
      ">chr2\n",
      "\n",
      ">chr3\n",
      "\n",
      ">chr4\n",
      "\n",
      ">chr4_GL456216_random\n",
      "\n",
      ">chr4_JH584292_random\n",
      "\n",
      ">chr4_GL456350_random\n",
      "\n",
      ">chr4_JH584293_random\n",
      "\n",
      ">chr4_JH584294_random\n",
      "\n",
      ">chr4_JH584295_random\n",
      "\n",
      ">chr5\n",
      "\n",
      ">chr5_JH584296_random\n",
      "\n",
      ">chr5_JH584297_random\n",
      "\n",
      ">chr5_JH584298_random\n",
      "\n",
      ">chr5_GL456354_random\n",
      "\n",
      ">chr5_JH584299_random\n",
      "\n",
      ">chr6\n",
      "\n",
      ">chr7\n",
      "\n",
      ">chr7_GL456219_random\n",
      "\n",
      ">chr8\n",
      "\n",
      ">chr9\n",
      "\n",
      ">chrM\n",
      "\n",
      ">chrX\n",
      "\n",
      ">chrX_GL456233_random\n",
      "\n",
      ">chrY\n",
      "\n",
      ">chrY_JH584300_random\n",
      "\n",
      ">chrY_JH584301_random\n",
      "\n",
      ">chrY_JH584302_random\n",
      "\n",
      ">chrY_JH584303_random\n",
      "\n",
      ">chrUn_GL456239\n",
      "\n",
      ">chrUn_GL456367\n",
      "\n",
      ">chrUn_GL456378\n",
      "\n",
      ">chrUn_GL456381\n",
      "\n",
      ">chrUn_GL456382\n",
      "\n",
      ">chrUn_GL456383\n",
      "\n",
      ">chrUn_GL456385\n",
      "\n",
      ">chrUn_GL456390\n",
      "\n",
      ">chrUn_GL456392\n",
      "\n",
      ">chrUn_GL456393\n",
      "\n",
      ">chrUn_GL456394\n",
      "\n",
      ">chrUn_GL456359\n",
      "\n",
      ">chrUn_GL456360\n",
      "\n",
      ">chrUn_GL456396\n",
      "\n",
      ">chrUn_GL456372\n",
      "\n",
      ">chrUn_GL456387\n",
      "\n",
      ">chrUn_GL456389\n",
      "\n",
      ">chrUn_GL456370\n",
      "\n",
      ">chrUn_GL456379\n",
      "\n",
      ">chrUn_GL456366\n",
      "\n",
      ">chrUn_GL456368\n",
      "\n",
      ">chrUn_JH584304\n",
      "\n",
      "21906237\n"
     ]
    }
   ],
   "source": [
    "cg_count = 0\n",
    "with open('/home/hanliu/ref/mouse/genome/fasta/raw/mm10.fa') as f:\n",
    "    chrom_seq = ''\n",
    "    for line in f:\n",
    "        if line.startswith('>'):\n",
    "            cg_count += chrom_seq.lower().count('cg')\n",
    "            chrom_seq = ''\n",
    "            print(line)\n",
    "        else:\n",
    "            chrom_seq += line[:-1]\n",
    "print(cg_count)"
   ]
  },
  {
   "cell_type": "code",
   "execution_count": 52,
   "metadata": {
    "ExecuteTime": {
     "end_time": "2020-03-16T00:35:51.083028Z",
     "start_time": "2020-03-16T00:35:51.075226Z"
    }
   },
   "outputs": [
    {
     "data": {
      "text/plain": [
       "0.019800577625370408"
      ]
     },
     "execution_count": 52,
     "metadata": {},
     "output_type": "execute_result"
    }
   ],
   "source": [
    "use_bed_df['number_of_dms'].sum() / 552647817"
   ]
  },
  {
   "cell_type": "code",
   "execution_count": null,
   "metadata": {},
   "outputs": [],
   "source": []
  }
 ],
 "metadata": {
  "hide_input": false,
  "kernelspec": {
   "display_name": "Python 3",
   "language": "python",
   "name": "python3"
  },
  "language_info": {
   "codemirror_mode": {
    "name": "ipython",
    "version": 3
   },
   "file_extension": ".py",
   "mimetype": "text/x-python",
   "name": "python",
   "nbconvert_exporter": "python",
   "pygments_lexer": "ipython3",
   "version": "3.7.3"
  },
  "toc": {
   "base_numbering": 1,
   "nav_menu": {},
   "number_sections": true,
   "sideBar": true,
   "skip_h1_title": true,
   "title_cell": "Table of Contents",
   "title_sidebar": "Contents",
   "toc_cell": false,
   "toc_position": {},
   "toc_section_display": true,
   "toc_window_display": true
  }
 },
 "nbformat": 4,
 "nbformat_minor": 2
}
