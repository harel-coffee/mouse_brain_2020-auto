{
 "cells": [
  {
   "cell_type": "raw",
   "metadata": {
    "ExecuteTime": {
     "end_time": "2019-12-10T04:01:22.895068Z",
     "start_time": "2019-12-10T04:01:22.891383Z"
    }
   },
   "source": [
    "zcat SubType-chr1_rms_results.tsv.gz SubType-chr2_rms_results.tsv.gz SubType-chr3_rms_results.tsv.gz SubType-chr4_rms_results.tsv.gz SubType-chr5_rms_results.tsv.gz SubType-chr6_rms_results.tsv.gz SubType-chr7_rms_results.tsv.gz SubType-chr8_rms_results.tsv.gz SubType-chr9_rms_results.tsv.gz SubType-chr10_rms_results.tsv.gz SubType-chr11_rms_results.tsv.gz SubType-chr12_rms_results.tsv.gz SubType-chr13_rms_results.tsv.gz SubType-chr14_rms_results.tsv.gz SubType-chr15_rms_results.tsv.gz SubType-chr16_rms_results.tsv.gz SubType-chr17_rms_results.tsv.gz SubType-chr18_rms_results.tsv.gz SubType-chr19_rms_results.tsv.gz SubType-chrX_rms_results.tsv.gz SubType-chrY_rms_results.tsv.gz | gzip -c > SubType_rms_results.tsv.gz"
   ]
  },
  {
   "cell_type": "raw",
   "metadata": {},
   "source": [
    "rm -rf SubType-chr*"
   ]
  },
  {
   "cell_type": "markdown",
   "metadata": {},
   "source": []
  },
  {
   "cell_type": "code",
   "execution_count": null,
   "metadata": {},
   "outputs": [],
   "source": []
  },
  {
   "cell_type": "code",
   "execution_count": null,
   "metadata": {},
   "outputs": [],
   "source": []
  },
  {
   "cell_type": "code",
   "execution_count": null,
   "metadata": {},
   "outputs": [],
   "source": []
  },
  {
   "cell_type": "code",
   "execution_count": null,
   "metadata": {},
   "outputs": [],
   "source": []
  },
  {
   "cell_type": "code",
   "execution_count": null,
   "metadata": {},
   "outputs": [],
   "source": []
  },
  {
   "cell_type": "code",
   "execution_count": null,
   "metadata": {},
   "outputs": [],
   "source": []
  }
 ],
 "metadata": {
  "hide_input": false,
  "kernelspec": {
   "display_name": "Python 3",
   "language": "python",
   "name": "python3"
  },
  "language_info": {
   "codemirror_mode": {
    "name": "ipython",
    "version": 3
   },
   "file_extension": ".py",
   "mimetype": "text/x-python",
   "name": "python",
   "nbconvert_exporter": "python",
   "pygments_lexer": "ipython3",
   "version": "3.7.3"
  },
  "toc": {
   "base_numbering": 1,
   "nav_menu": {},
   "number_sections": true,
   "sideBar": true,
   "skip_h1_title": true,
   "title_cell": "Table of Contents",
   "title_sidebar": "Contents",
   "toc_cell": false,
   "toc_position": {},
   "toc_section_display": true,
   "toc_window_display": true
  }
 },
 "nbformat": 4,
 "nbformat_minor": 2
}
