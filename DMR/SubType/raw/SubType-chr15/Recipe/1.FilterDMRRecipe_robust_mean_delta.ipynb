{
 "cells": [
  {
   "cell_type": "code",
   "execution_count": 1,
   "metadata": {
    "ExecuteTime": {
     "end_time": "2020-01-11T22:34:59.427434Z",
     "start_time": "2020-01-11T22:34:55.795119Z"
    },
    "papermill": {
     "duration": 0.465697,
     "end_time": "2020-01-20T02:20:18.669238",
     "exception": false,
     "start_time": "2020-01-20T02:20:18.203541",
     "status": "completed"
    },
    "tags": []
   },
   "outputs": [],
   "source": [
    "import pathlib\n",
    "import numpy as np\n",
    "import pandas as pd\n",
    "from scipy.sparse import csr_matrix\n",
    "import anndata\n",
    "from pybedtools import BedTool"
   ]
  },
  {
   "cell_type": "markdown",
   "metadata": {
    "ExecuteTime": {
     "end_time": "2020-01-10T03:41:10.279754Z",
     "start_time": "2020-01-10T03:41:10.259634Z"
    },
    "papermill": {
     "duration": 0.01098,
     "end_time": "2020-01-20T02:20:18.692004",
     "exception": false,
     "start_time": "2020-01-20T02:20:18.681024",
     "status": "completed"
    },
    "tags": []
   },
   "source": [
    "## Parameter"
   ]
  },
  {
   "cell_type": "code",
   "execution_count": 2,
   "metadata": {
    "ExecuteTime": {
     "end_time": "2020-01-11T22:38:49.094144Z",
     "start_time": "2020-01-11T22:38:49.091240Z"
    },
    "papermill": {
     "duration": 0.016865,
     "end_time": "2020-01-20T02:20:18.719607",
     "exception": false,
     "start_time": "2020-01-20T02:20:18.702742",
     "status": "completed"
    },
    "tags": [
     "parameters"
    ]
   },
   "outputs": [],
   "source": [
    "dmr_path = '/home/hanliu/project/mouse_rostral_brain/DMR/ITSpatial/ITSpatial_rms_results_collapsed.tsv'\n",
    "dmr_prefix = 'DGmCH'\n",
    "\n",
    "black_list_path = '/home/hanliu/ref/blacklist/mm10-blacklist.v2.bed.gz'\n",
    "skip_quantile = 0.25\n",
    "delta_to_mean = 0.1\n",
    "dms_cutoff = 1"
   ]
  },
  {
   "cell_type": "code",
   "execution_count": 3,
   "metadata": {
    "papermill": {
     "duration": 0.015895,
     "end_time": "2020-01-20T02:20:18.746220",
     "exception": false,
     "start_time": "2020-01-20T02:20:18.730325",
     "status": "completed"
    },
    "tags": [
     "injected-parameters"
    ]
   },
   "outputs": [],
   "source": [
    "# Parameters\n",
    "dmr_path = \"/home/hanliu/project/mouse_rostral_brain/DMR/SubType/raw/SubType-chr15/SubType-chr15_rms_results_collapsed.tsv\"\n",
    "dmr_prefix = \"Sub\"\n",
    "black_list_path = \"/home/hanliu/ref/blacklist/mm10-blacklist.v2.bed.gz\"\n",
    "skip_quantile = 0.25\n",
    "delta_to_mean = 0.3\n",
    "dms_cutoff = 1\n"
   ]
  },
  {
   "cell_type": "markdown",
   "metadata": {
    "papermill": {
     "duration": 0.010856,
     "end_time": "2020-01-20T02:20:18.767586",
     "exception": false,
     "start_time": "2020-01-20T02:20:18.756730",
     "status": "completed"
    },
    "tags": []
   },
   "source": [
    "## Read DMR"
   ]
  },
  {
   "cell_type": "code",
   "execution_count": 4,
   "metadata": {
    "ExecuteTime": {
     "end_time": "2020-01-11T22:35:10.769093Z",
     "start_time": "2020-01-11T22:34:59.434004Z"
    },
    "papermill": {
     "duration": 7.213359,
     "end_time": "2020-01-20T02:20:25.991823",
     "exception": false,
     "start_time": "2020-01-20T02:20:18.778464",
     "status": "completed"
    },
    "scrolled": true,
    "tags": []
   },
   "outputs": [
    {
     "name": "stdout",
     "output_type": "stream",
     "text": [
      "193576 dmr before filter\n"
     ]
    }
   ],
   "source": [
    "# get column and n_sample\n",
    "dmr_column = pd.read_csv(dmr_path, sep='\\t', nrows=0).columns\n",
    "n_sample = dmr_column.size - 6\n",
    "dmr_column = dmr_column.map(lambda i: i[18:] if 'methylation_level_' in i else i)\n",
    "samples = dmr_column[6:]\n",
    "\n",
    "dmr_region_infos = []\n",
    "mc_rates = []\n",
    "hypo_sig_dict = {sample: [] for sample in samples}\n",
    "hyper_sig_dict = {sample: [] for sample in samples}\n",
    "\n",
    "dmr_df = pd.read_csv(dmr_path, sep='\\t', skiprows=1, names=dmr_column)\n",
    "print(dmr_df.shape[0], 'dmr before filter')\n",
    "dmr_df.index = dmr_df.index.map(lambda i: f'{dmr_prefix}_{i}')\n",
    "\n",
    "# save raw info\n",
    "dmr_bed = dmr_df.iloc[:, :4].copy()\n",
    "mc_rate = dmr_df.iloc[:, 6:].copy()"
   ]
  },
  {
   "cell_type": "markdown",
   "metadata": {
    "papermill": {
     "duration": 0.010764,
     "end_time": "2020-01-20T02:20:26.013979",
     "exception": false,
     "start_time": "2020-01-20T02:20:26.003215",
     "status": "completed"
    },
    "tags": []
   },
   "source": [
    "## Save unfiltered dmr info"
   ]
  },
  {
   "cell_type": "code",
   "execution_count": 5,
   "metadata": {
    "ExecuteTime": {
     "end_time": "2020-01-11T22:35:16.445637Z",
     "start_time": "2020-01-11T22:35:10.772172Z"
    },
    "papermill": {
     "duration": 1.089398,
     "end_time": "2020-01-20T02:20:27.113990",
     "exception": false,
     "start_time": "2020-01-20T02:20:26.024592",
     "status": "completed"
    },
    "tags": []
   },
   "outputs": [],
   "source": [
    "with pd.HDFStore(pathlib.Path(dmr_path).parent / 'DMRInfo.h5') as hdf:\n",
    "    hdf['Rate'] = mc_rate\n",
    "    hdf['Bed'] = dmr_bed"
   ]
  },
  {
   "cell_type": "code",
   "execution_count": 6,
   "metadata": {
    "ExecuteTime": {
     "end_time": "2020-01-11T22:35:21.606943Z",
     "start_time": "2020-01-11T22:35:16.447435Z"
    },
    "papermill": {
     "duration": 0.526313,
     "end_time": "2020-01-20T02:20:27.651660",
     "exception": false,
     "start_time": "2020-01-20T02:20:27.125347",
     "status": "completed"
    },
    "tags": []
   },
   "outputs": [],
   "source": [
    "dmr_bed.reset_index().iloc[:, [1, 2, 3, 0]].to_csv(pathlib.Path(dmr_path).parent / 'TotalDMR.nofilter.bed', \n",
    "                                                   index=None, header=None, sep='\\t')"
   ]
  },
  {
   "cell_type": "markdown",
   "metadata": {
    "papermill": {
     "duration": 0.010787,
     "end_time": "2020-01-20T02:20:27.674169",
     "exception": false,
     "start_time": "2020-01-20T02:20:27.663382",
     "status": "completed"
    },
    "tags": []
   },
   "source": [
    "## Filter DMR based on min-max delta and blacklist"
   ]
  },
  {
   "cell_type": "code",
   "execution_count": 7,
   "metadata": {
    "ExecuteTime": {
     "end_time": "2020-01-11T22:35:55.834942Z",
     "start_time": "2020-01-11T22:35:54.438986Z"
    },
    "papermill": {
     "duration": 0.945864,
     "end_time": "2020-01-20T02:20:28.630707",
     "exception": false,
     "start_time": "2020-01-20T02:20:27.684843",
     "status": "completed"
    },
    "tags": []
   },
   "outputs": [
    {
     "name": "stdout",
     "output_type": "stream",
     "text": [
      "181435 dmr pass delta filter\n"
     ]
    }
   ],
   "source": [
    "# filter by min max delta first, if DMR do not pass min max filter, it won't have sig sample anyway\n",
    "delta_judge = (mc_rate.max(axis=1) - mc_rate.min(axis=1)) > delta_to_mean\n",
    "delta_index = mc_rate.index[delta_judge]\n",
    "\n",
    "print(delta_index.size, 'dmr pass delta filter')"
   ]
  },
  {
   "cell_type": "code",
   "execution_count": 8,
   "metadata": {
    "ExecuteTime": {
     "end_time": "2020-01-11T22:36:06.271131Z",
     "start_time": "2020-01-11T22:35:57.053249Z"
    },
    "papermill": {
     "duration": 1.007967,
     "end_time": "2020-01-20T02:20:29.650900",
     "exception": false,
     "start_time": "2020-01-20T02:20:28.642933",
     "status": "completed"
    },
    "tags": []
   },
   "outputs": [
    {
     "name": "stdout",
     "output_type": "stream",
     "text": [
      "187823 dmr pass blacklist filter\n"
     ]
    }
   ],
   "source": [
    "# filter by blacklist\n",
    "black_list = pd.read_csv(black_list_path, sep='\\t', header=None)\n",
    "black_list = BedTool.from_dataframe(black_list)\n",
    "\n",
    "_dmr_bed = BedTool.from_dataframe(dmr_bed.reset_index().iloc[:, [1,2,3,0]])\n",
    "filtered_dmr_bed = _dmr_bed.intersect(black_list, v=True).to_dataframe().set_index('name')\n",
    "\n",
    "white_index = filtered_dmr_bed.index\n",
    "print(white_index.size, 'dmr pass blacklist filter')"
   ]
  },
  {
   "cell_type": "code",
   "execution_count": 9,
   "metadata": {
    "ExecuteTime": {
     "end_time": "2020-01-11T22:36:12.105983Z",
     "start_time": "2020-01-11T22:36:08.675938Z"
    },
    "papermill": {
     "duration": 0.647889,
     "end_time": "2020-01-20T02:20:30.311096",
     "exception": false,
     "start_time": "2020-01-20T02:20:29.663207",
     "status": "completed"
    },
    "tags": []
   },
   "outputs": [
    {
     "name": "stdout",
     "output_type": "stream",
     "text": [
      "176129 dmr after filter\n"
     ]
    },
    {
     "data": {
      "text/html": [
       "<div>\n",
       "<style scoped>\n",
       "    .dataframe tbody tr th:only-of-type {\n",
       "        vertical-align: middle;\n",
       "    }\n",
       "\n",
       "    .dataframe tbody tr th {\n",
       "        vertical-align: top;\n",
       "    }\n",
       "\n",
       "    .dataframe thead th {\n",
       "        text-align: right;\n",
       "    }\n",
       "</style>\n",
       "<table border=\"1\" class=\"dataframe\">\n",
       "  <thead>\n",
       "    <tr style=\"text-align: right;\">\n",
       "      <th></th>\n",
       "      <th>#chr</th>\n",
       "      <th>start</th>\n",
       "      <th>end</th>\n",
       "      <th>number_of_dms</th>\n",
       "      <th>hypermethylated_samples</th>\n",
       "      <th>hypomethylated_samples</th>\n",
       "      <th>CT-L6_Il1rap</th>\n",
       "      <th>NP-L6_Cntnap5a</th>\n",
       "      <th>CGE-Lamp5_Sorcs1</th>\n",
       "      <th>CGE-Vip_Grm8</th>\n",
       "      <th>...</th>\n",
       "      <th>Foxp2_Trpc7</th>\n",
       "      <th>CGE-Lamp5_Grk5</th>\n",
       "      <th>IT-L5_Cdh8</th>\n",
       "      <th>IG-CA2_Peak1</th>\n",
       "      <th>ANP_anp-dg</th>\n",
       "      <th>OLF_Xkr6</th>\n",
       "      <th>D1L-Fstl4_Cadm1</th>\n",
       "      <th>IT-L4_Shc3</th>\n",
       "      <th>D1L-PAL_Plcxd3</th>\n",
       "      <th>L6b_Pkhd1</th>\n",
       "    </tr>\n",
       "  </thead>\n",
       "  <tbody>\n",
       "    <tr>\n",
       "      <th>Sub_83</th>\n",
       "      <td>chr15</td>\n",
       "      <td>3127074</td>\n",
       "      <td>3127094</td>\n",
       "      <td>2</td>\n",
       "      <td>NaN</td>\n",
       "      <td>ASC_cortex-olf,VLMC_Col4a1,DG_dg-all,MGC_mgc-a...</td>\n",
       "      <td>0.962963</td>\n",
       "      <td>0.976744</td>\n",
       "      <td>0.933333</td>\n",
       "      <td>0.928571</td>\n",
       "      <td>...</td>\n",
       "      <td>0.902778</td>\n",
       "      <td>0.916667</td>\n",
       "      <td>0.938776</td>\n",
       "      <td>1.000000</td>\n",
       "      <td>0.866667</td>\n",
       "      <td>0.846154</td>\n",
       "      <td>0.937500</td>\n",
       "      <td>0.955056</td>\n",
       "      <td>0.900000</td>\n",
       "      <td>1.0</td>\n",
       "    </tr>\n",
       "    <tr>\n",
       "      <th>Sub_84</th>\n",
       "      <td>chr15</td>\n",
       "      <td>3127605</td>\n",
       "      <td>3127645</td>\n",
       "      <td>2</td>\n",
       "      <td>NaN</td>\n",
       "      <td>VLMC_Col4a1,DG_dg-all,ODC_odc-small,MGE-Pvalb_...</td>\n",
       "      <td>0.875000</td>\n",
       "      <td>0.931818</td>\n",
       "      <td>0.789474</td>\n",
       "      <td>0.700000</td>\n",
       "      <td>...</td>\n",
       "      <td>0.857143</td>\n",
       "      <td>0.855072</td>\n",
       "      <td>0.901961</td>\n",
       "      <td>0.875000</td>\n",
       "      <td>0.652174</td>\n",
       "      <td>1.000000</td>\n",
       "      <td>0.878788</td>\n",
       "      <td>0.873418</td>\n",
       "      <td>0.867925</td>\n",
       "      <td>0.0</td>\n",
       "    </tr>\n",
       "    <tr>\n",
       "      <th>Sub_85</th>\n",
       "      <td>chr15</td>\n",
       "      <td>3129969</td>\n",
       "      <td>3130035</td>\n",
       "      <td>3</td>\n",
       "      <td>NaN</td>\n",
       "      <td>ASC_cortex-olf,MGC_mgc-all,Foxp2_Inpp4b,ODC_od...</td>\n",
       "      <td>0.907285</td>\n",
       "      <td>0.967742</td>\n",
       "      <td>0.793103</td>\n",
       "      <td>0.727273</td>\n",
       "      <td>...</td>\n",
       "      <td>0.839506</td>\n",
       "      <td>0.857143</td>\n",
       "      <td>0.900826</td>\n",
       "      <td>0.928571</td>\n",
       "      <td>1.000000</td>\n",
       "      <td>0.800000</td>\n",
       "      <td>0.840909</td>\n",
       "      <td>0.934579</td>\n",
       "      <td>0.904762</td>\n",
       "      <td>1.0</td>\n",
       "    </tr>\n",
       "    <tr>\n",
       "      <th>Sub_86</th>\n",
       "      <td>chr15</td>\n",
       "      <td>3130546</td>\n",
       "      <td>3130704</td>\n",
       "      <td>3</td>\n",
       "      <td>NaN</td>\n",
       "      <td>IT-L23_Foxp1,IT-L23_Tenm2,IT-L5_Etv1,PT-L5_Nec...</td>\n",
       "      <td>0.978495</td>\n",
       "      <td>0.915663</td>\n",
       "      <td>0.956522</td>\n",
       "      <td>0.950000</td>\n",
       "      <td>...</td>\n",
       "      <td>0.933333</td>\n",
       "      <td>0.935714</td>\n",
       "      <td>0.837398</td>\n",
       "      <td>0.955556</td>\n",
       "      <td>0.931034</td>\n",
       "      <td>0.875000</td>\n",
       "      <td>0.944444</td>\n",
       "      <td>0.900000</td>\n",
       "      <td>0.877551</td>\n",
       "      <td>1.0</td>\n",
       "    </tr>\n",
       "    <tr>\n",
       "      <th>Sub_87</th>\n",
       "      <td>chr15</td>\n",
       "      <td>3131210</td>\n",
       "      <td>3131210</td>\n",
       "      <td>1</td>\n",
       "      <td>NaN</td>\n",
       "      <td>MGC_mgc-all,CA3_Efnb2,VLMC_Mapk4,VLMC-Pia_vlmc...</td>\n",
       "      <td>0.909091</td>\n",
       "      <td>0.882353</td>\n",
       "      <td>0.800000</td>\n",
       "      <td>0.857143</td>\n",
       "      <td>...</td>\n",
       "      <td>0.857143</td>\n",
       "      <td>0.810811</td>\n",
       "      <td>0.770833</td>\n",
       "      <td>0.600000</td>\n",
       "      <td>0.875000</td>\n",
       "      <td>1.000000</td>\n",
       "      <td>0.894737</td>\n",
       "      <td>0.953488</td>\n",
       "      <td>0.769231</td>\n",
       "      <td>NaN</td>\n",
       "    </tr>\n",
       "  </tbody>\n",
       "</table>\n",
       "<p>5 rows × 167 columns</p>\n",
       "</div>"
      ],
      "text/plain": [
       "         #chr    start      end  number_of_dms hypermethylated_samples  \\\n",
       "Sub_83  chr15  3127074  3127094              2                     NaN   \n",
       "Sub_84  chr15  3127605  3127645              2                     NaN   \n",
       "Sub_85  chr15  3129969  3130035              3                     NaN   \n",
       "Sub_86  chr15  3130546  3130704              3                     NaN   \n",
       "Sub_87  chr15  3131210  3131210              1                     NaN   \n",
       "\n",
       "                                   hypomethylated_samples  CT-L6_Il1rap  \\\n",
       "Sub_83  ASC_cortex-olf,VLMC_Col4a1,DG_dg-all,MGC_mgc-a...      0.962963   \n",
       "Sub_84  VLMC_Col4a1,DG_dg-all,ODC_odc-small,MGE-Pvalb_...      0.875000   \n",
       "Sub_85  ASC_cortex-olf,MGC_mgc-all,Foxp2_Inpp4b,ODC_od...      0.907285   \n",
       "Sub_86  IT-L23_Foxp1,IT-L23_Tenm2,IT-L5_Etv1,PT-L5_Nec...      0.978495   \n",
       "Sub_87  MGC_mgc-all,CA3_Efnb2,VLMC_Mapk4,VLMC-Pia_vlmc...      0.909091   \n",
       "\n",
       "        NP-L6_Cntnap5a  CGE-Lamp5_Sorcs1  CGE-Vip_Grm8  ...  Foxp2_Trpc7  \\\n",
       "Sub_83        0.976744          0.933333      0.928571  ...     0.902778   \n",
       "Sub_84        0.931818          0.789474      0.700000  ...     0.857143   \n",
       "Sub_85        0.967742          0.793103      0.727273  ...     0.839506   \n",
       "Sub_86        0.915663          0.956522      0.950000  ...     0.933333   \n",
       "Sub_87        0.882353          0.800000      0.857143  ...     0.857143   \n",
       "\n",
       "        CGE-Lamp5_Grk5  IT-L5_Cdh8  IG-CA2_Peak1  ANP_anp-dg  OLF_Xkr6  \\\n",
       "Sub_83        0.916667    0.938776      1.000000    0.866667  0.846154   \n",
       "Sub_84        0.855072    0.901961      0.875000    0.652174  1.000000   \n",
       "Sub_85        0.857143    0.900826      0.928571    1.000000  0.800000   \n",
       "Sub_86        0.935714    0.837398      0.955556    0.931034  0.875000   \n",
       "Sub_87        0.810811    0.770833      0.600000    0.875000  1.000000   \n",
       "\n",
       "        D1L-Fstl4_Cadm1  IT-L4_Shc3  D1L-PAL_Plcxd3  L6b_Pkhd1  \n",
       "Sub_83         0.937500    0.955056        0.900000        1.0  \n",
       "Sub_84         0.878788    0.873418        0.867925        0.0  \n",
       "Sub_85         0.840909    0.934579        0.904762        1.0  \n",
       "Sub_86         0.944444    0.900000        0.877551        1.0  \n",
       "Sub_87         0.894737    0.953488        0.769231        NaN  \n",
       "\n",
       "[5 rows x 167 columns]"
      ]
     },
     "execution_count": 9,
     "metadata": {},
     "output_type": "execute_result"
    }
   ],
   "source": [
    "dmr_df = dmr_df.loc[delta_index & white_index]\n",
    "dmr_df = dmr_df[dmr_df['number_of_dms'] >= dms_cutoff]\n",
    "print(dmr_df.shape[0], 'dmr after filter')\n",
    "dmr_df.head()"
   ]
  },
  {
   "cell_type": "markdown",
   "metadata": {
    "papermill": {
     "duration": 0.011787,
     "end_time": "2020-01-20T02:20:30.335184",
     "exception": false,
     "start_time": "2020-01-20T02:20:30.323397",
     "status": "completed"
    },
    "tags": []
   },
   "source": [
    "## Calculate sample delta to robust mean"
   ]
  },
  {
   "cell_type": "code",
   "execution_count": 10,
   "metadata": {
    "ExecuteTime": {
     "end_time": "2020-01-11T22:36:16.999216Z",
     "start_time": "2020-01-11T22:36:14.781777Z"
    },
    "papermill": {
     "duration": 0.614906,
     "end_time": "2020-01-20T02:20:30.961847",
     "exception": false,
     "start_time": "2020-01-20T02:20:30.346941",
     "status": "completed"
    },
    "tags": []
   },
   "outputs": [],
   "source": [
    "mc_rate = mc_rate.loc[dmr_df.index].copy()\n",
    "n_sample = mc_rate.shape[1]\n",
    "\n",
    "assert skip_quantile < 0.5\n",
    "skip_n = min(1, round(n_sample * skip_quantile))"
   ]
  },
  {
   "cell_type": "code",
   "execution_count": 11,
   "metadata": {
    "ExecuteTime": {
     "end_time": "2020-01-11T22:37:13.238349Z",
     "start_time": "2020-01-11T22:36:18.002436Z"
    },
    "papermill": {
     "duration": 8.450863,
     "end_time": "2020-01-20T02:20:39.425383",
     "exception": false,
     "start_time": "2020-01-20T02:20:30.974520",
     "status": "completed"
    },
    "tags": []
   },
   "outputs": [],
   "source": [
    "# ~1M rows / min, depending on n_sample, not very slow\n",
    "def robust_mean(row):\n",
    "    return np.nanmean(np.sort(row)[skip_n:-skip_n])\n",
    "robust_mean = np.apply_along_axis(robust_mean, 1, mc_rate.values)\n",
    "robust_mean = pd.Series(robust_mean, index=mc_rate.index)"
   ]
  },
  {
   "cell_type": "code",
   "execution_count": 12,
   "metadata": {
    "ExecuteTime": {
     "end_time": "2020-01-11T22:37:14.931884Z",
     "start_time": "2020-01-11T22:37:13.241420Z"
    },
    "papermill": {
     "duration": 1.171128,
     "end_time": "2020-01-20T02:20:40.609521",
     "exception": false,
     "start_time": "2020-01-20T02:20:39.438393",
     "status": "completed"
    },
    "tags": []
   },
   "outputs": [],
   "source": [
    "delta = mc_rate - robust_mean[:, None]\n",
    "# 0 is hypo DMR, 1 is hyper DMR, nan is not significant\n",
    "judge = (delta > 0)[delta.abs() > delta_to_mean]"
   ]
  },
  {
   "cell_type": "code",
   "execution_count": 13,
   "metadata": {
    "ExecuteTime": {
     "end_time": "2020-01-11T22:37:17.752534Z",
     "start_time": "2020-01-11T22:37:14.934034Z"
    },
    "papermill": {
     "duration": 0.966859,
     "end_time": "2020-01-20T02:20:41.590215",
     "exception": false,
     "start_time": "2020-01-20T02:20:40.623356",
     "status": "completed"
    },
    "tags": []
   },
   "outputs": [],
   "source": [
    "robust_mean_hypo_records = {}\n",
    "robust_mean_hyper_records = {}\n",
    "\n",
    "for sample, sample_col in judge.iteritems():\n",
    "    hypo_dmr = sample_col[sample_col == 0].index\n",
    "    hyper_dmr = sample_col[sample_col == 1].index\n",
    "    \n",
    "    robust_mean_hypo_records[sample] = hypo_dmr\n",
    "    robust_mean_hyper_records[sample] = hyper_dmr"
   ]
  },
  {
   "cell_type": "markdown",
   "metadata": {
    "papermill": {
     "duration": 0.011739,
     "end_time": "2020-01-20T02:20:41.614764",
     "exception": false,
     "start_time": "2020-01-20T02:20:41.603025",
     "status": "completed"
    },
    "tags": []
   },
   "source": [
    "## Assign DMR to each sample"
   ]
  },
  {
   "cell_type": "code",
   "execution_count": 14,
   "metadata": {
    "ExecuteTime": {
     "end_time": "2020-01-11T22:37:51.557920Z",
     "start_time": "2020-01-11T22:37:17.755190Z"
    },
    "papermill": {
     "duration": 38.040252,
     "end_time": "2020-01-20T02:21:19.666513",
     "exception": false,
     "start_time": "2020-01-20T02:20:41.626261",
     "status": "completed"
    },
    "scrolled": true,
    "tags": []
   },
   "outputs": [
    {
     "name": "stdout",
     "output_type": "stream",
     "text": [
      "CT-L6_Il1rap\tHypoDMR \t16428\n",
      "CT-L6_Il1rap\tHyperDMR\t1626\n"
     ]
    },
    {
     "name": "stdout",
     "output_type": "stream",
     "text": [
      "NP-L6_Cntnap5a\tHypoDMR \t4885\n",
      "NP-L6_Cntnap5a\tHyperDMR\t8731\n",
      "CGE-Lamp5_Sorcs1\tHypoDMR \t10114\n",
      "CGE-Lamp5_Sorcs1\tHyperDMR\t4682\n"
     ]
    },
    {
     "name": "stdout",
     "output_type": "stream",
     "text": [
      "CGE-Vip_Grm8\tHypoDMR \t7150\n",
      "CGE-Vip_Grm8\tHyperDMR\t5205\n"
     ]
    },
    {
     "name": "stdout",
     "output_type": "stream",
     "text": [
      "LSX-Inh_Dock10\tHypoDMR \t3382\n",
      "LSX-Inh_Dock10\tHyperDMR\t9160\n",
      "CGE-Vip_Ccser1\tHypoDMR \t5666\n",
      "CGE-Vip_Ccser1\tHyperDMR\t7075\n"
     ]
    },
    {
     "name": "stdout",
     "output_type": "stream",
     "text": [
      "CGE-Vip_Ntng1\tHypoDMR \t4757\n",
      "CGE-Vip_Ntng1\tHyperDMR\t2789\n"
     ]
    },
    {
     "name": "stdout",
     "output_type": "stream",
     "text": [
      "ASC_cortex-olf\tHypoDMR \t15112\n",
      "ASC_cortex-olf\tHyperDMR\t7457\n",
      "MGE-Sst_Chodl\tHypoDMR \t4830\n",
      "MGE-Sst_Chodl\tHyperDMR\t6145\n"
     ]
    },
    {
     "name": "stdout",
     "output_type": "stream",
     "text": [
      "IT-L6_Oxr1\tHypoDMR \t15752\n",
      "IT-L6_Oxr1\tHyperDMR\t1938\n"
     ]
    },
    {
     "name": "stdout",
     "output_type": "stream",
     "text": [
      "VLMC_Col4a1\tHypoDMR \t26897\n",
      "VLMC_Col4a1\tHyperDMR\t6797\n",
      "LSX-Inh_Lats2\tHypoDMR \t11229\n",
      "LSX-Inh_Lats2\tHyperDMR\t4183\n"
     ]
    },
    {
     "name": "stdout",
     "output_type": "stream",
     "text": [
      "L6b_Kcnk2\tHypoDMR \t14226\n",
      "L6b_Kcnk2\tHyperDMR\t3771\n",
      "Chd7_Megf11\tHypoDMR \t7737\n",
      "Chd7_Megf11\tHyperDMR\t5978\n"
     ]
    },
    {
     "name": "stdout",
     "output_type": "stream",
     "text": [
      "MGE-Sst_Bmper\tHypoDMR \t3544\n",
      "MGE-Sst_Bmper\tHyperDMR\t8800\n"
     ]
    },
    {
     "name": "stdout",
     "output_type": "stream",
     "text": [
      "CT-L6_Megf9\tHypoDMR \t15209\n",
      "CT-L6_Megf9\tHyperDMR\t1523\n",
      "Chd7_Kcnc2\tHypoDMR \t3633\n",
      "Chd7_Kcnc2\tHyperDMR\t3986\n"
     ]
    },
    {
     "name": "stdout",
     "output_type": "stream",
     "text": [
      "DG-po_Kctd8\tHypoDMR \t10952\n",
      "DG-po_Kctd8\tHyperDMR\t1099\n"
     ]
    },
    {
     "name": "stdout",
     "output_type": "stream",
     "text": [
      "DG_dg-all\tHypoDMR \t22690\n",
      "DG_dg-all\tHyperDMR\t2117\n",
      "NP-L6_Cyp7b1\tHypoDMR \t5816\n",
      "NP-L6_Cyp7b1\tHyperDMR\t8581\n"
     ]
    },
    {
     "name": "stdout",
     "output_type": "stream",
     "text": [
      "D1L-Fstl4_Crim1\tHypoDMR \t7432\n",
      "D1L-Fstl4_Crim1\tHyperDMR\t6408\n"
     ]
    },
    {
     "name": "stdout",
     "output_type": "stream",
     "text": [
      "PT-L5_Tenm2\tHypoDMR \t16545\n",
      "PT-L5_Tenm2\tHyperDMR\t1257\n",
      "Unc5c_Unc5c\tHypoDMR \t11333\n",
      "Unc5c_Unc5c\tHyperDMR\t4819\n"
     ]
    },
    {
     "name": "stdout",
     "output_type": "stream",
     "text": [
      "CGE-Lamp5_Grid1\tHypoDMR \t15839\n",
      "CGE-Lamp5_Grid1\tHyperDMR\t3045\n"
     ]
    },
    {
     "name": "stdout",
     "output_type": "stream",
     "text": [
      "OLF-Exc_Pld5\tHypoDMR \t16084\n",
      "OLF-Exc_Pld5\tHyperDMR\t1187\n"
     ]
    },
    {
     "name": "stdout",
     "output_type": "stream",
     "text": [
      "PT-L5_Tmtc2\tHypoDMR \t20921\n",
      "PT-L5_Tmtc2\tHyperDMR\t1482\n"
     ]
    },
    {
     "name": "stdout",
     "output_type": "stream",
     "text": [
      "CLA_Cdh8\tHypoDMR \t13552\n",
      "CLA_Cdh8\tHyperDMR\t3189\n"
     ]
    },
    {
     "name": "stdout",
     "output_type": "stream",
     "text": [
      "CA3-St18_Tead1\tHypoDMR \t20049\n",
      "CA3-St18_Tead1\tHyperDMR\t2928\n"
     ]
    },
    {
     "name": "stdout",
     "output_type": "stream",
     "text": [
      "PAL-Inh_Meis2\tHypoDMR \t152\n",
      "PAL-Inh_Meis2\tHyperDMR\t6411\n"
     ]
    },
    {
     "name": "stdout",
     "output_type": "stream",
     "text": [
      "NP-L6_Boc\tHypoDMR \t5421\n",
      "NP-L6_Boc\tHyperDMR\t8532\n"
     ]
    },
    {
     "name": "stdout",
     "output_type": "stream",
     "text": [
      "IT-L23_Foxp1\tHypoDMR \t17575\n",
      "IT-L23_Foxp1\tHyperDMR\t1218\n"
     ]
    },
    {
     "name": "stdout",
     "output_type": "stream",
     "text": [
      "MGC_mgc-all\tHypoDMR \t28955\n",
      "MGC_mgc-all\tHyperDMR\t9444\n",
      "Chd7_Trpc7\tHypoDMR \t4375\n",
      "Chd7_Trpc7\tHyperDMR\t9646\n"
     ]
    },
    {
     "name": "stdout",
     "output_type": "stream",
     "text": [
      "LSX-Inh_Nxph1\tHypoDMR \t5556\n",
      "LSX-Inh_Nxph1\tHyperDMR\t10415\n",
      "CA3-St18_Nuak1\tHypoDMR \t12631\n",
      "CA3-St18_Nuak1\tHyperDMR\t1666\n"
     ]
    },
    {
     "name": "stdout",
     "output_type": "stream",
     "text": [
      "Gfra1_Gfra1\tHypoDMR \t22250\n",
      "Gfra1_Gfra1\tHyperDMR\t977\n"
     ]
    },
    {
     "name": "stdout",
     "output_type": "stream",
     "text": [
      "MSN-D2_Nrp2\tHypoDMR \t8102\n",
      "MSN-D2_Nrp2\tHyperDMR\t5643\n"
     ]
    },
    {
     "name": "stdout",
     "output_type": "stream",
     "text": [
      "PT-L5_Kcnh1\tHypoDMR \t24211\n",
      "PT-L5_Kcnh1\tHyperDMR\t968\n",
      "LSX-Inh_Zeb2\tHypoDMR \t9235\n",
      "LSX-Inh_Zeb2\tHyperDMR\t6621\n"
     ]
    },
    {
     "name": "stdout",
     "output_type": "stream",
     "text": [
      "DG-po_Bcl11a\tHypoDMR \t7709\n",
      "DG-po_Bcl11a\tHyperDMR\t153\n"
     ]
    },
    {
     "name": "stdout",
     "output_type": "stream",
     "text": [
      "L6b_Nrp2\tHypoDMR \t8169\n",
      "L6b_Nrp2\tHyperDMR\t6173\n"
     ]
    },
    {
     "name": "stdout",
     "output_type": "stream",
     "text": [
      "PAL-Inh_Tmem178\tHypoDMR \t1995\n",
      "PAL-Inh_Tmem178\tHyperDMR\t12159\n"
     ]
    },
    {
     "name": "stdout",
     "output_type": "stream",
     "text": [
      "PAL-Inh_Tcf7l2\tHypoDMR \t2119\n",
      "PAL-Inh_Tcf7l2\tHyperDMR\t11743\n"
     ]
    },
    {
     "name": "stdout",
     "output_type": "stream",
     "text": [
      "CT-L6_Hcrtr2\tHypoDMR \t18324\n",
      "CT-L6_Hcrtr2\tHyperDMR\t2076\n"
     ]
    },
    {
     "name": "stdout",
     "output_type": "stream",
     "text": [
      "OLF-Exc_Cdh9\tHypoDMR \t13506\n",
      "OLF-Exc_Cdh9\tHyperDMR\t808\n",
      "PT-L5_Abca12\tHypoDMR \t13575\n",
      "PT-L5_Abca12\tHyperDMR\t1268\n"
     ]
    },
    {
     "name": "stdout",
     "output_type": "stream",
     "text": [
      "MSN-D1_Plxnc1\tHypoDMR \t9274\n",
      "MSN-D1_Plxnc1\tHyperDMR\t6655\n"
     ]
    },
    {
     "name": "stdout",
     "output_type": "stream",
     "text": [
      "D1L-Fstl4_Sipa1l2\tHypoDMR \t8098\n",
      "D1L-Fstl4_Sipa1l2\tHyperDMR\t6873\n"
     ]
    },
    {
     "name": "stdout",
     "output_type": "stream",
     "text": [
      "PAL-Inh_Chat\tHypoDMR \t3867\n",
      "PAL-Inh_Chat\tHyperDMR\t12707\n",
      "PT-L5_Unc5b\tHypoDMR \t13999\n",
      "PT-L5_Unc5b\tHyperDMR\t1774\n"
     ]
    },
    {
     "name": "stdout",
     "output_type": "stream",
     "text": [
      "CLA_Nrp2\tHypoDMR \t12482\n",
      "CLA_Nrp2\tHyperDMR\t4304\n",
      "MGE-Pvalb_Ptprk\tHypoDMR \t5018\n",
      "MGE-Pvalb_Ptprk\tHyperDMR\t3450\n"
     ]
    },
    {
     "name": "stdout",
     "output_type": "stream",
     "text": [
      "NP-L6_Cntnap4\tHypoDMR \t7417\n",
      "NP-L6_Cntnap4\tHyperDMR\t3755\n"
     ]
    },
    {
     "name": "stdout",
     "output_type": "stream",
     "text": [
      "ODC_odc-small\tHypoDMR \t13502\n",
      "ODC_odc-small\tHyperDMR\t7829\n"
     ]
    },
    {
     "name": "stdout",
     "output_type": "stream",
     "text": [
      "IG-CA2_Chrm3\tHypoDMR \t25441\n",
      "IG-CA2_Chrm3\tHyperDMR\t1848\n",
      "CGE-Vip_Clstn2\tHypoDMR \t9258\n",
      "CGE-Vip_Clstn2\tHyperDMR\t5980\n"
     ]
    },
    {
     "name": "stdout",
     "output_type": "stream",
     "text": [
      "PAL-Inh_Deptor\tHypoDMR \t5773\n",
      "PAL-Inh_Deptor\tHyperDMR\t2401\n"
     ]
    },
    {
     "name": "stdout",
     "output_type": "stream",
     "text": [
      "OLF_Trpc4\tHypoDMR \t8331\n",
      "OLF_Trpc4\tHyperDMR\t3876\n"
     ]
    },
    {
     "name": "stdout",
     "output_type": "stream",
     "text": [
      "MGE-Pvalb_Entpd3\tHypoDMR \t5832\n",
      "MGE-Pvalb_Entpd3\tHyperDMR\t5889\n",
      "OLF_Pag1\tHypoDMR \t7532\n",
      "OLF_Pag1\tHyperDMR\t2572\n"
     ]
    },
    {
     "name": "stdout",
     "output_type": "stream",
     "text": [
      "EP_Tspan5\tHypoDMR \t13883\n",
      "EP_Tspan5\tHyperDMR\t1951\n",
      "CA3_Efnb2\tHypoDMR \t14180\n",
      "CA3_Efnb2\tHyperDMR\t2475\n"
     ]
    },
    {
     "name": "stdout",
     "output_type": "stream",
     "text": [
      "CA3_Cadm2\tHypoDMR \t23781\n",
      "CA3_Cadm2\tHyperDMR\t1470\n"
     ]
    },
    {
     "name": "stdout",
     "output_type": "stream",
     "text": [
      "CA1_Chrm3\tHypoDMR \t29137\n",
      "CA1_Chrm3\tHyperDMR\t545\n"
     ]
    },
    {
     "name": "stdout",
     "output_type": "stream",
     "text": [
      "MGE-Sst_Ubtd1\tHypoDMR \t5526\n",
      "MGE-Sst_Ubtd1\tHyperDMR\t6769\n"
     ]
    },
    {
     "name": "stdout",
     "output_type": "stream",
     "text": [
      "PT-L5_Plcb4\tHypoDMR \t15621\n",
      "PT-L5_Plcb4\tHyperDMR\t1743\n",
      "CA1_Kif26a\tHypoDMR \t12754\n",
      "CA1_Kif26a\tHyperDMR\t1140\n"
     ]
    },
    {
     "name": "stdout",
     "output_type": "stream",
     "text": [
      "EP_Adcy8\tHypoDMR \t11544\n",
      "EP_Adcy8\tHyperDMR\t2357\n"
     ]
    },
    {
     "name": "stdout",
     "output_type": "stream",
     "text": [
      "MGE-Pvalb_Thsd7a\tHypoDMR \t9358\n",
      "MGE-Pvalb_Thsd7a\tHyperDMR\t5095\n"
     ]
    },
    {
     "name": "stdout",
     "output_type": "stream",
     "text": [
      "MSN-D2_Slc24a2\tHypoDMR \t9761\n",
      "MSN-D2_Slc24a2\tHyperDMR\t5989\n",
      "MGE-Sst_Kcnip4\tHypoDMR \t6140\n",
      "MGE-Sst_Kcnip4\tHyperDMR\t7909\n"
     ]
    },
    {
     "name": "stdout",
     "output_type": "stream",
     "text": [
      "MGE-Sst_Rxra\tHypoDMR \t3819\n",
      "MGE-Sst_Rxra\tHyperDMR\t7256\n"
     ]
    },
    {
     "name": "stdout",
     "output_type": "stream",
     "text": [
      "LSX-Inh_Foxp2\tHypoDMR \t6835\n",
      "LSX-Inh_Foxp2\tHyperDMR\t9876\n"
     ]
    },
    {
     "name": "stdout",
     "output_type": "stream",
     "text": [
      "PAL-Inh_Onecut2\tHypoDMR \t2730\n",
      "PAL-Inh_Onecut2\tHyperDMR\t12778\n"
     ]
    },
    {
     "name": "stdout",
     "output_type": "stream",
     "text": [
      "LSX-Inh_Enox1\tHypoDMR \t7231\n",
      "LSX-Inh_Enox1\tHyperDMR\t7773\n"
     ]
    },
    {
     "name": "stdout",
     "output_type": "stream",
     "text": [
      "CA1_Ptprg\tHypoDMR \t20380\n",
      "CA1_Ptprg\tHyperDMR\t651\n"
     ]
    },
    {
     "name": "stdout",
     "output_type": "stream",
     "text": [
      "CGE-Vip_Ptprm\tHypoDMR \t4638\n",
      "CGE-Vip_Ptprm\tHyperDMR\t7083\n"
     ]
    },
    {
     "name": "stdout",
     "output_type": "stream",
     "text": [
      "OPC_opc-small\tHypoDMR \t22688\n",
      "OPC_opc-small\tHyperDMR\t3616\n"
     ]
    },
    {
     "name": "stdout",
     "output_type": "stream",
     "text": [
      "L6b_Adcy8\tHypoDMR \t8825\n",
      "L6b_Adcy8\tHyperDMR\t5257\n",
      "OLF_Gabbr2\tHypoDMR \t6527\n",
      "OLF_Gabbr2\tHyperDMR\t2741\n"
     ]
    },
    {
     "name": "stdout",
     "output_type": "stream",
     "text": [
      "IT-L23_Tenm2\tHypoDMR \t17829\n",
      "IT-L23_Tenm2\tHyperDMR\t760\n"
     ]
    },
    {
     "name": "stdout",
     "output_type": "stream",
     "text": [
      "PAL-Inh_Igdcc3\tHypoDMR \t1097\n",
      "PAL-Inh_Igdcc3\tHyperDMR\t11817\n",
      "MSN-D2_Casz1\tHypoDMR \t8204\n",
      "MSN-D2_Casz1\tHyperDMR\t7302\n"
     ]
    },
    {
     "name": "stdout",
     "output_type": "stream",
     "text": [
      "IT-L5_Etv1\tHypoDMR \t16545\n",
      "IT-L5_Etv1\tHyperDMR\t1159\n",
      "CA1_Lingo2\tHypoDMR \t10670\n",
      "CA1_Lingo2\tHyperDMR\t153\n"
     ]
    },
    {
     "name": "stdout",
     "output_type": "stream",
     "text": [
      "PT-L5_Nectin1\tHypoDMR \t21662\n",
      "PT-L5_Nectin1\tHyperDMR\t971\n"
     ]
    },
    {
     "name": "stdout",
     "output_type": "stream",
     "text": [
      "D1L-Fstl4_Grm3\tHypoDMR \t10773\n",
      "D1L-Fstl4_Grm3\tHyperDMR\t5841\n",
      "PT-L5_Astn2\tHypoDMR \t14635\n",
      "PT-L5_Astn2\tHyperDMR\t1155\n"
     ]
    },
    {
     "name": "stdout",
     "output_type": "stream",
     "text": [
      "MGE-Sst_Dock4\tHypoDMR \t7494\n",
      "MGE-Sst_Dock4\tHyperDMR\t7740\n"
     ]
    },
    {
     "name": "stdout",
     "output_type": "stream",
     "text": [
      "IT-L23_Ptprt\tHypoDMR \t14642\n",
      "IT-L23_Ptprt\tHyperDMR\t874\n"
     ]
    },
    {
     "name": "stdout",
     "output_type": "stream",
     "text": [
      "MSN-D2_Col14a1\tHypoDMR \t9726\n",
      "MSN-D2_Col14a1\tHyperDMR\t6540\n"
     ]
    },
    {
     "name": "stdout",
     "output_type": "stream",
     "text": [
      "OLF-Exc_Unc13c\tHypoDMR \t13731\n",
      "OLF-Exc_Unc13c\tHyperDMR\t1780\n"
     ]
    },
    {
     "name": "stdout",
     "output_type": "stream",
     "text": [
      "CT-L6_Map4\tHypoDMR \t15915\n",
      "CT-L6_Map4\tHyperDMR\t1978\n"
     ]
    },
    {
     "name": "stdout",
     "output_type": "stream",
     "text": [
      "IG-CA2_Xpr1\tHypoDMR \t15631\n",
      "IG-CA2_Xpr1\tHyperDMR\t2645\n"
     ]
    },
    {
     "name": "stdout",
     "output_type": "stream",
     "text": [
      "VLMC_Mapk4\tHypoDMR \t16914\n",
      "VLMC_Mapk4\tHyperDMR\t7764\n"
     ]
    },
    {
     "name": "stdout",
     "output_type": "stream",
     "text": [
      "ANP_anp-olf-cnu\tHypoDMR \t12850\n",
      "ANP_anp-olf-cnu\tHyperDMR\t5455\n",
      "CLA_Bcl11a\tHypoDMR \t14077\n",
      "CLA_Bcl11a\tHyperDMR\t2707\n"
     ]
    },
    {
     "name": "stdout",
     "output_type": "stream",
     "text": [
      "IT-L23_Cux1\tHypoDMR \t21942\n",
      "IT-L23_Cux1\tHyperDMR\t454\n",
      "CGE-Lamp5_Nrxn3\tHypoDMR \t7980\n",
      "CGE-Lamp5_Nrxn3\tHyperDMR\t2953\n"
     ]
    },
    {
     "name": "stdout",
     "output_type": "stream",
     "text": [
      "EC_Sema3g\tHypoDMR \t9480\n",
      "EC_Sema3g\tHyperDMR\t673\n"
     ]
    },
    {
     "name": "stdout",
     "output_type": "stream",
     "text": [
      "MGE-Sst_Rerg\tHypoDMR \t6415\n",
      "MGE-Sst_Rerg\tHyperDMR\t7563\n",
      "DG-po_Calb2\tHypoDMR \t15133\n",
      "DG-po_Calb2\tHyperDMR\t865\n"
     ]
    },
    {
     "name": "stdout",
     "output_type": "stream",
     "text": [
      "MSN-D1_Ntn1\tHypoDMR \t9724\n",
      "MSN-D1_Ntn1\tHyperDMR\t6615\n"
     ]
    },
    {
     "name": "stdout",
     "output_type": "stream",
     "text": [
      "MSN-D1_Hrh1\tHypoDMR \t12236\n",
      "MSN-D1_Hrh1\tHyperDMR\t6808\n",
      "MGE-Sst_Ptpre\tHypoDMR \t7317\n",
      "MGE-Sst_Ptpre\tHyperDMR\t6087\n"
     ]
    },
    {
     "name": "stdout",
     "output_type": "stream",
     "text": [
      "MGE-Sst_Frmd6\tHypoDMR \t4792\n",
      "MGE-Sst_Frmd6\tHyperDMR\t6536\n"
     ]
    },
    {
     "name": "stdout",
     "output_type": "stream",
     "text": [
      "MGE-Pvalb_Gfra2\tHypoDMR \t8228\n",
      "MGE-Pvalb_Gfra2\tHyperDMR\t6987\n",
      "EP_Rgs8\tHypoDMR \t12694\n",
      "EP_Rgs8\tHyperDMR\t2646\n"
     ]
    },
    {
     "name": "stdout",
     "output_type": "stream",
     "text": [
      "D1L-PAL_Flrt2\tHypoDMR \t5679\n",
      "D1L-PAL_Flrt2\tHyperDMR\t9176\n"
     ]
    },
    {
     "name": "stdout",
     "output_type": "stream",
     "text": [
      "VLMC-Pia_vlmc-pia-all\tHypoDMR \t21049\n",
      "VLMC-Pia_vlmc-pia-all\tHyperDMR\t7233\n"
     ]
    },
    {
     "name": "stdout",
     "output_type": "stream",
     "text": [
      "IT-L6_Man1c1\tHypoDMR \t15536\n",
      "IT-L6_Man1c1\tHyperDMR\t1140\n"
     ]
    },
    {
     "name": "stdout",
     "output_type": "stream",
     "text": [
      "OLF-Exc_Sgcd\tHypoDMR \t12904\n",
      "OLF-Exc_Sgcd\tHyperDMR\t4817\n"
     ]
    },
    {
     "name": "stdout",
     "output_type": "stream",
     "text": [
      "OLF-Exc_Lrrtm3\tHypoDMR \t14819\n",
      "OLF-Exc_Lrrtm3\tHyperDMR\t1475\n"
     ]
    },
    {
     "name": "stdout",
     "output_type": "stream",
     "text": [
      "IT-L5_Grik3\tHypoDMR \t19730\n",
      "IT-L5_Grik3\tHyperDMR\t1026\n",
      "Foxp2_Homer2\tHypoDMR \t5005\n",
      "Foxp2_Homer2\tHyperDMR\t5802\n"
     ]
    },
    {
     "name": "stdout",
     "output_type": "stream",
     "text": [
      "IT-L6_Fstl4\tHypoDMR \t19533\n",
      "IT-L6_Fstl4\tHyperDMR\t1362\n",
      "MGE-Sst_Etv1\tHypoDMR \t4363\n",
      "MGE-Sst_Etv1\tHyperDMR\t4396\n"
     ]
    },
    {
     "name": "stdout",
     "output_type": "stream",
     "text": [
      "D1L-Fstl4_Trps1\tHypoDMR \t11079\n",
      "D1L-Fstl4_Trps1\tHyperDMR\t5827\n"
     ]
    },
    {
     "name": "stdout",
     "output_type": "stream",
     "text": [
      "MSN-D1_Khdrbs3\tHypoDMR \t12334\n",
      "MSN-D1_Khdrbs3\tHyperDMR\t6804\n",
      "MGE-Sst_Unc5b\tHypoDMR \t7284\n",
      "MGE-Sst_Unc5b\tHyperDMR\t5644\n"
     ]
    },
    {
     "name": "stdout",
     "output_type": "stream",
     "text": [
      "IT-L6_Cadps2\tHypoDMR \t16818\n",
      "IT-L6_Cadps2\tHyperDMR\t1638\n"
     ]
    },
    {
     "name": "stdout",
     "output_type": "stream",
     "text": [
      "LSX-Inh_Cacna1i\tHypoDMR \t3973\n",
      "LSX-Inh_Cacna1i\tHyperDMR\t5158\n"
     ]
    },
    {
     "name": "stdout",
     "output_type": "stream",
     "text": [
      "Foxp2_Inpp4b\tHypoDMR \t4717\n",
      "Foxp2_Inpp4b\tHyperDMR\t6297\n"
     ]
    },
    {
     "name": "stdout",
     "output_type": "stream",
     "text": [
      "NP-L6_Olfml2b\tHypoDMR \t5519\n",
      "NP-L6_Olfml2b\tHyperDMR\t5830\n"
     ]
    },
    {
     "name": "stdout",
     "output_type": "stream",
     "text": [
      "MGE-Pvalb_Sema5a\tHypoDMR \t9039\n",
      "MGE-Pvalb_Sema5a\tHyperDMR\t5642\n"
     ]
    },
    {
     "name": "stdout",
     "output_type": "stream",
     "text": [
      "MGE-Pvalb_Cnih3\tHypoDMR \t7530\n",
      "MGE-Pvalb_Cnih3\tHyperDMR\t7576\n"
     ]
    },
    {
     "name": "stdout",
     "output_type": "stream",
     "text": [
      "Foxp2_Dchs2\tHypoDMR \t5678\n",
      "Foxp2_Dchs2\tHyperDMR\t5644\n"
     ]
    },
    {
     "name": "stdout",
     "output_type": "stream",
     "text": [
      "ASC_str-hpf\tHypoDMR \t13201\n",
      "ASC_str-hpf\tHyperDMR\t6385\n",
      "CGE-Vip_Robo1\tHypoDMR \t6648\n",
      "CGE-Vip_Robo1\tHyperDMR\t9750\n"
     ]
    },
    {
     "name": "stdout",
     "output_type": "stream",
     "text": [
      "OLF_Kcnd3\tHypoDMR \t5578\n",
      "OLF_Kcnd3\tHyperDMR\t2734\n"
     ]
    },
    {
     "name": "stdout",
     "output_type": "stream",
     "text": [
      "CA3-St18_Epha5\tHypoDMR \t20971\n",
      "CA3-St18_Epha5\tHyperDMR\t1671\n"
     ]
    },
    {
     "name": "stdout",
     "output_type": "stream",
     "text": [
      "PT-L5_Ptprt\tHypoDMR \t13108\n",
      "PT-L5_Ptprt\tHyperDMR\t1412\n"
     ]
    },
    {
     "name": "stdout",
     "output_type": "stream",
     "text": [
      "CA1_Ak5\tHypoDMR \t13035\n",
      "CA1_Ak5\tHyperDMR\t638\n",
      "CGE-Vip_Fstl4\tHypoDMR \t8313\n",
      "CGE-Vip_Fstl4\tHyperDMR\t6048\n"
     ]
    },
    {
     "name": "stdout",
     "output_type": "stream",
     "text": [
      "IT-L4_Astn2\tHypoDMR \t20360\n",
      "IT-L4_Astn2\tHyperDMR\t998\n"
     ]
    },
    {
     "name": "stdout",
     "output_type": "stream",
     "text": [
      "OLF-Exc_Cux2\tHypoDMR \t14272\n",
      "OLF-Exc_Cux2\tHyperDMR\t1665\n"
     ]
    },
    {
     "name": "stdout",
     "output_type": "stream",
     "text": [
      "CGE-Lamp5_Dock5\tHypoDMR \t18021\n",
      "CGE-Lamp5_Dock5\tHyperDMR\t2735\n"
     ]
    },
    {
     "name": "stdout",
     "output_type": "stream",
     "text": [
      "ASC_mid\tHypoDMR \t14556\n",
      "ASC_mid\tHyperDMR\t7039\n",
      "PAL-Inh_Meis1\tHypoDMR \t6592\n",
      "PAL-Inh_Meis1\tHyperDMR\t5597\n"
     ]
    },
    {
     "name": "stdout",
     "output_type": "stream",
     "text": [
      "PAL-Inh_Ptprd\tHypoDMR \t1603\n",
      "PAL-Inh_Ptprd\tHyperDMR\t13671\n"
     ]
    },
    {
     "name": "stdout",
     "output_type": "stream",
     "text": [
      "CGE-Vip_Galnt17\tHypoDMR \t8747\n",
      "CGE-Vip_Galnt17\tHyperDMR\t7134\n"
     ]
    },
    {
     "name": "stdout",
     "output_type": "stream",
     "text": [
      "EC_Abhd2\tHypoDMR \t33494\n",
      "EC_Abhd2\tHyperDMR\t5798\n"
     ]
    },
    {
     "name": "stdout",
     "output_type": "stream",
     "text": [
      "ODC_odc-large\tHypoDMR \t15064\n",
      "ODC_odc-large\tHyperDMR\t6741\n"
     ]
    },
    {
     "name": "stdout",
     "output_type": "stream",
     "text": [
      "PAL-Inh_Rarb\tHypoDMR \t2705\n",
      "PAL-Inh_Rarb\tHyperDMR\t12481\n",
      "OLF-Exc_Rmst\tHypoDMR \t3289\n",
      "OLF-Exc_Rmst\tHyperDMR\t1083\n"
     ]
    },
    {
     "name": "stdout",
     "output_type": "stream",
     "text": [
      "OPC_opc-large\tHypoDMR \t19394\n",
      "OPC_opc-large\tHyperDMR\t4952\n"
     ]
    },
    {
     "name": "stdout",
     "output_type": "stream",
     "text": [
      "NP-L6_Kcnab1\tHypoDMR \t4767\n",
      "NP-L6_Kcnab1\tHyperDMR\t8411\n"
     ]
    },
    {
     "name": "stdout",
     "output_type": "stream",
     "text": [
      "PC_pc-all\tHypoDMR \t47815\n",
      "PC_pc-all\tHyperDMR\t5368\n"
     ]
    },
    {
     "name": "stdout",
     "output_type": "stream",
     "text": [
      "MGE-Pvalb_Cacna1i\tHypoDMR \t11808\n",
      "MGE-Pvalb_Cacna1i\tHyperDMR\t5550\n"
     ]
    },
    {
     "name": "stdout",
     "output_type": "stream",
     "text": [
      "OLF-Exc_Bmpr1b\tHypoDMR \t15388\n",
      "OLF-Exc_Bmpr1b\tHyperDMR\t354\n",
      "OLF_Mapk10\tHypoDMR \t7038\n",
      "OLF_Mapk10\tHyperDMR\t1744\n"
     ]
    },
    {
     "name": "stdout",
     "output_type": "stream",
     "text": [
      "Foxp2_Trpc7\tHypoDMR \t10015\n",
      "Foxp2_Trpc7\tHyperDMR\t5293\n"
     ]
    },
    {
     "name": "stdout",
     "output_type": "stream",
     "text": [
      "CGE-Lamp5_Grk5\tHypoDMR \t17473\n",
      "CGE-Lamp5_Grk5\tHyperDMR\t2696\n"
     ]
    },
    {
     "name": "stdout",
     "output_type": "stream",
     "text": [
      "IT-L5_Cdh8\tHypoDMR \t20994\n",
      "IT-L5_Cdh8\tHyperDMR\t899\n"
     ]
    },
    {
     "name": "stdout",
     "output_type": "stream",
     "text": [
      "IG-CA2_Peak1\tHypoDMR \t24709\n",
      "IG-CA2_Peak1\tHyperDMR\t2266\n"
     ]
    },
    {
     "name": "stdout",
     "output_type": "stream",
     "text": [
      "ANP_anp-dg\tHypoDMR \t21078\n",
      "ANP_anp-dg\tHyperDMR\t3570\n",
      "OLF_Xkr6\tHypoDMR \t8523\n",
      "OLF_Xkr6\tHyperDMR\t1787\n"
     ]
    },
    {
     "name": "stdout",
     "output_type": "stream",
     "text": [
      "D1L-Fstl4_Cadm1\tHypoDMR \t7050\n",
      "D1L-Fstl4_Cadm1\tHyperDMR\t6315\n"
     ]
    },
    {
     "name": "stdout",
     "output_type": "stream",
     "text": [
      "IT-L4_Shc3\tHypoDMR \t19629\n",
      "IT-L4_Shc3\tHyperDMR\t1110\n"
     ]
    },
    {
     "name": "stdout",
     "output_type": "stream",
     "text": [
      "D1L-PAL_Plcxd3\tHypoDMR \t5336\n",
      "D1L-PAL_Plcxd3\tHyperDMR\t9490\n",
      "L6b_Pkhd1\tHypoDMR \t4778\n",
      "L6b_Pkhd1\tHyperDMR\t614\n"
     ]
    }
   ],
   "source": [
    "# parse results and add the robust mean judge\n",
    "for sample in samples:\n",
    "    # here saved a list of np.array\n",
    "    hypo_index = dmr_df[dmr_df['hypomethylated_samples'].fillna('').apply(lambda i: sample in i)].index\n",
    "    hyper_index = dmr_df[dmr_df['hypermethylated_samples'].fillna('').apply(lambda i: sample in i)].index\n",
    "    hypo_sig_dict[sample] = hypo_index & robust_mean_hypo_records[sample]\n",
    "    hyper_sig_dict[sample] = hyper_index & robust_mean_hyper_records[sample]\n",
    "    print(sample, 'HypoDMR ', hypo_sig_dict[sample].size, sep='\\t')\n",
    "    print(sample, 'HyperDMR', hyper_sig_dict[sample].size, sep='\\t')\n"
   ]
  },
  {
   "cell_type": "code",
   "execution_count": 15,
   "metadata": {
    "ExecuteTime": {
     "end_time": "2020-01-11T22:37:55.312551Z",
     "start_time": "2020-01-11T22:37:51.559575Z"
    },
    "papermill": {
     "duration": 1.726439,
     "end_time": "2020-01-20T02:21:21.428848",
     "exception": false,
     "start_time": "2020-01-20T02:21:19.702409",
     "status": "completed"
    },
    "tags": []
   },
   "outputs": [
    {
     "name": "stderr",
     "output_type": "stream",
     "text": [
      "/home/hanliu/miniconda3/envs/clustering/lib/python3.7/site-packages/tables/path.py:157: NaturalNameWarning: object name is not a valid Python identifier: 'CT-L6_Il1rap'; it does not match the pattern ``^[a-zA-Z_][a-zA-Z0-9_]*$``; you will not be able to use natural naming to access this object; using ``getattr()`` will still work, though\n",
      "  check_attribute_name(name)\n",
      "/home/hanliu/miniconda3/envs/clustering/lib/python3.7/site-packages/tables/path.py:157: NaturalNameWarning: object name is not a valid Python identifier: 'NP-L6_Cntnap5a'; it does not match the pattern ``^[a-zA-Z_][a-zA-Z0-9_]*$``; you will not be able to use natural naming to access this object; using ``getattr()`` will still work, though\n",
      "  check_attribute_name(name)\n",
      "/home/hanliu/miniconda3/envs/clustering/lib/python3.7/site-packages/tables/path.py:157: NaturalNameWarning: object name is not a valid Python identifier: 'CGE-Lamp5_Sorcs1'; it does not match the pattern ``^[a-zA-Z_][a-zA-Z0-9_]*$``; you will not be able to use natural naming to access this object; using ``getattr()`` will still work, though\n",
      "  check_attribute_name(name)\n",
      "/home/hanliu/miniconda3/envs/clustering/lib/python3.7/site-packages/tables/path.py:157: NaturalNameWarning: object name is not a valid Python identifier: 'CGE-Vip_Grm8'; it does not match the pattern ``^[a-zA-Z_][a-zA-Z0-9_]*$``; you will not be able to use natural naming to access this object; using ``getattr()`` will still work, though\n",
      "  check_attribute_name(name)\n",
      "/home/hanliu/miniconda3/envs/clustering/lib/python3.7/site-packages/tables/path.py:157: NaturalNameWarning: object name is not a valid Python identifier: 'LSX-Inh_Dock10'; it does not match the pattern ``^[a-zA-Z_][a-zA-Z0-9_]*$``; you will not be able to use natural naming to access this object; using ``getattr()`` will still work, though\n",
      "  check_attribute_name(name)\n",
      "/home/hanliu/miniconda3/envs/clustering/lib/python3.7/site-packages/tables/path.py:157: NaturalNameWarning: object name is not a valid Python identifier: 'CGE-Vip_Ccser1'; it does not match the pattern ``^[a-zA-Z_][a-zA-Z0-9_]*$``; you will not be able to use natural naming to access this object; using ``getattr()`` will still work, though\n",
      "  check_attribute_name(name)\n",
      "/home/hanliu/miniconda3/envs/clustering/lib/python3.7/site-packages/tables/path.py:157: NaturalNameWarning: object name is not a valid Python identifier: 'CGE-Vip_Ntng1'; it does not match the pattern ``^[a-zA-Z_][a-zA-Z0-9_]*$``; you will not be able to use natural naming to access this object; using ``getattr()`` will still work, though\n",
      "  check_attribute_name(name)\n",
      "/home/hanliu/miniconda3/envs/clustering/lib/python3.7/site-packages/tables/path.py:157: NaturalNameWarning: object name is not a valid Python identifier: 'ASC_cortex-olf'; it does not match the pattern ``^[a-zA-Z_][a-zA-Z0-9_]*$``; you will not be able to use natural naming to access this object; using ``getattr()`` will still work, though\n",
      "  check_attribute_name(name)\n",
      "/home/hanliu/miniconda3/envs/clustering/lib/python3.7/site-packages/tables/path.py:157: NaturalNameWarning: object name is not a valid Python identifier: 'MGE-Sst_Chodl'; it does not match the pattern ``^[a-zA-Z_][a-zA-Z0-9_]*$``; you will not be able to use natural naming to access this object; using ``getattr()`` will still work, though\n",
      "  check_attribute_name(name)\n",
      "/home/hanliu/miniconda3/envs/clustering/lib/python3.7/site-packages/tables/path.py:157: NaturalNameWarning: object name is not a valid Python identifier: 'IT-L6_Oxr1'; it does not match the pattern ``^[a-zA-Z_][a-zA-Z0-9_]*$``; you will not be able to use natural naming to access this object; using ``getattr()`` will still work, though\n",
      "  check_attribute_name(name)\n",
      "/home/hanliu/miniconda3/envs/clustering/lib/python3.7/site-packages/tables/path.py:157: NaturalNameWarning: object name is not a valid Python identifier: 'LSX-Inh_Lats2'; it does not match the pattern ``^[a-zA-Z_][a-zA-Z0-9_]*$``; you will not be able to use natural naming to access this object; using ``getattr()`` will still work, though\n",
      "  check_attribute_name(name)\n",
      "/home/hanliu/miniconda3/envs/clustering/lib/python3.7/site-packages/tables/path.py:157: NaturalNameWarning: object name is not a valid Python identifier: 'MGE-Sst_Bmper'; it does not match the pattern ``^[a-zA-Z_][a-zA-Z0-9_]*$``; you will not be able to use natural naming to access this object; using ``getattr()`` will still work, though\n",
      "  check_attribute_name(name)\n",
      "/home/hanliu/miniconda3/envs/clustering/lib/python3.7/site-packages/tables/path.py:157: NaturalNameWarning: object name is not a valid Python identifier: 'CT-L6_Megf9'; it does not match the pattern ``^[a-zA-Z_][a-zA-Z0-9_]*$``; you will not be able to use natural naming to access this object; using ``getattr()`` will still work, though\n",
      "  check_attribute_name(name)\n",
      "/home/hanliu/miniconda3/envs/clustering/lib/python3.7/site-packages/tables/path.py:157: NaturalNameWarning: object name is not a valid Python identifier: 'DG-po_Kctd8'; it does not match the pattern ``^[a-zA-Z_][a-zA-Z0-9_]*$``; you will not be able to use natural naming to access this object; using ``getattr()`` will still work, though\n",
      "  check_attribute_name(name)\n",
      "/home/hanliu/miniconda3/envs/clustering/lib/python3.7/site-packages/tables/path.py:157: NaturalNameWarning: object name is not a valid Python identifier: 'DG_dg-all'; it does not match the pattern ``^[a-zA-Z_][a-zA-Z0-9_]*$``; you will not be able to use natural naming to access this object; using ``getattr()`` will still work, though\n",
      "  check_attribute_name(name)\n",
      "/home/hanliu/miniconda3/envs/clustering/lib/python3.7/site-packages/tables/path.py:157: NaturalNameWarning: object name is not a valid Python identifier: 'NP-L6_Cyp7b1'; it does not match the pattern ``^[a-zA-Z_][a-zA-Z0-9_]*$``; you will not be able to use natural naming to access this object; using ``getattr()`` will still work, though\n",
      "  check_attribute_name(name)\n",
      "/home/hanliu/miniconda3/envs/clustering/lib/python3.7/site-packages/tables/path.py:157: NaturalNameWarning: object name is not a valid Python identifier: 'D1L-Fstl4_Crim1'; it does not match the pattern ``^[a-zA-Z_][a-zA-Z0-9_]*$``; you will not be able to use natural naming to access this object; using ``getattr()`` will still work, though\n",
      "  check_attribute_name(name)\n",
      "/home/hanliu/miniconda3/envs/clustering/lib/python3.7/site-packages/tables/path.py:157: NaturalNameWarning: object name is not a valid Python identifier: 'PT-L5_Tenm2'; it does not match the pattern ``^[a-zA-Z_][a-zA-Z0-9_]*$``; you will not be able to use natural naming to access this object; using ``getattr()`` will still work, though\n",
      "  check_attribute_name(name)\n",
      "/home/hanliu/miniconda3/envs/clustering/lib/python3.7/site-packages/tables/path.py:157: NaturalNameWarning: object name is not a valid Python identifier: 'CGE-Lamp5_Grid1'; it does not match the pattern ``^[a-zA-Z_][a-zA-Z0-9_]*$``; you will not be able to use natural naming to access this object; using ``getattr()`` will still work, though\n",
      "  check_attribute_name(name)\n",
      "/home/hanliu/miniconda3/envs/clustering/lib/python3.7/site-packages/tables/path.py:157: NaturalNameWarning: object name is not a valid Python identifier: 'OLF-Exc_Pld5'; it does not match the pattern ``^[a-zA-Z_][a-zA-Z0-9_]*$``; you will not be able to use natural naming to access this object; using ``getattr()`` will still work, though\n",
      "  check_attribute_name(name)\n",
      "/home/hanliu/miniconda3/envs/clustering/lib/python3.7/site-packages/tables/path.py:157: NaturalNameWarning: object name is not a valid Python identifier: 'PT-L5_Tmtc2'; it does not match the pattern ``^[a-zA-Z_][a-zA-Z0-9_]*$``; you will not be able to use natural naming to access this object; using ``getattr()`` will still work, though\n",
      "  check_attribute_name(name)\n",
      "/home/hanliu/miniconda3/envs/clustering/lib/python3.7/site-packages/tables/path.py:157: NaturalNameWarning: object name is not a valid Python identifier: 'CA3-St18_Tead1'; it does not match the pattern ``^[a-zA-Z_][a-zA-Z0-9_]*$``; you will not be able to use natural naming to access this object; using ``getattr()`` will still work, though\n",
      "  check_attribute_name(name)\n",
      "/home/hanliu/miniconda3/envs/clustering/lib/python3.7/site-packages/tables/path.py:157: NaturalNameWarning: object name is not a valid Python identifier: 'PAL-Inh_Meis2'; it does not match the pattern ``^[a-zA-Z_][a-zA-Z0-9_]*$``; you will not be able to use natural naming to access this object; using ``getattr()`` will still work, though\n",
      "  check_attribute_name(name)\n",
      "/home/hanliu/miniconda3/envs/clustering/lib/python3.7/site-packages/tables/path.py:157: NaturalNameWarning: object name is not a valid Python identifier: 'NP-L6_Boc'; it does not match the pattern ``^[a-zA-Z_][a-zA-Z0-9_]*$``; you will not be able to use natural naming to access this object; using ``getattr()`` will still work, though\n",
      "  check_attribute_name(name)\n",
      "/home/hanliu/miniconda3/envs/clustering/lib/python3.7/site-packages/tables/path.py:157: NaturalNameWarning: object name is not a valid Python identifier: 'IT-L23_Foxp1'; it does not match the pattern ``^[a-zA-Z_][a-zA-Z0-9_]*$``; you will not be able to use natural naming to access this object; using ``getattr()`` will still work, though\n",
      "  check_attribute_name(name)\n",
      "/home/hanliu/miniconda3/envs/clustering/lib/python3.7/site-packages/tables/path.py:157: NaturalNameWarning: object name is not a valid Python identifier: 'MGC_mgc-all'; it does not match the pattern ``^[a-zA-Z_][a-zA-Z0-9_]*$``; you will not be able to use natural naming to access this object; using ``getattr()`` will still work, though\n",
      "  check_attribute_name(name)\n",
      "/home/hanliu/miniconda3/envs/clustering/lib/python3.7/site-packages/tables/path.py:157: NaturalNameWarning: object name is not a valid Python identifier: 'LSX-Inh_Nxph1'; it does not match the pattern ``^[a-zA-Z_][a-zA-Z0-9_]*$``; you will not be able to use natural naming to access this object; using ``getattr()`` will still work, though\n",
      "  check_attribute_name(name)\n"
     ]
    },
    {
     "name": "stderr",
     "output_type": "stream",
     "text": [
      "/home/hanliu/miniconda3/envs/clustering/lib/python3.7/site-packages/tables/path.py:157: NaturalNameWarning: object name is not a valid Python identifier: 'CA3-St18_Nuak1'; it does not match the pattern ``^[a-zA-Z_][a-zA-Z0-9_]*$``; you will not be able to use natural naming to access this object; using ``getattr()`` will still work, though\n",
      "  check_attribute_name(name)\n",
      "/home/hanliu/miniconda3/envs/clustering/lib/python3.7/site-packages/tables/path.py:157: NaturalNameWarning: object name is not a valid Python identifier: 'MSN-D2_Nrp2'; it does not match the pattern ``^[a-zA-Z_][a-zA-Z0-9_]*$``; you will not be able to use natural naming to access this object; using ``getattr()`` will still work, though\n",
      "  check_attribute_name(name)\n",
      "/home/hanliu/miniconda3/envs/clustering/lib/python3.7/site-packages/tables/path.py:157: NaturalNameWarning: object name is not a valid Python identifier: 'PT-L5_Kcnh1'; it does not match the pattern ``^[a-zA-Z_][a-zA-Z0-9_]*$``; you will not be able to use natural naming to access this object; using ``getattr()`` will still work, though\n",
      "  check_attribute_name(name)\n",
      "/home/hanliu/miniconda3/envs/clustering/lib/python3.7/site-packages/tables/path.py:157: NaturalNameWarning: object name is not a valid Python identifier: 'LSX-Inh_Zeb2'; it does not match the pattern ``^[a-zA-Z_][a-zA-Z0-9_]*$``; you will not be able to use natural naming to access this object; using ``getattr()`` will still work, though\n",
      "  check_attribute_name(name)\n",
      "/home/hanliu/miniconda3/envs/clustering/lib/python3.7/site-packages/tables/path.py:157: NaturalNameWarning: object name is not a valid Python identifier: 'DG-po_Bcl11a'; it does not match the pattern ``^[a-zA-Z_][a-zA-Z0-9_]*$``; you will not be able to use natural naming to access this object; using ``getattr()`` will still work, though\n",
      "  check_attribute_name(name)\n",
      "/home/hanliu/miniconda3/envs/clustering/lib/python3.7/site-packages/tables/path.py:157: NaturalNameWarning: object name is not a valid Python identifier: 'PAL-Inh_Tmem178'; it does not match the pattern ``^[a-zA-Z_][a-zA-Z0-9_]*$``; you will not be able to use natural naming to access this object; using ``getattr()`` will still work, though\n",
      "  check_attribute_name(name)\n",
      "/home/hanliu/miniconda3/envs/clustering/lib/python3.7/site-packages/tables/path.py:157: NaturalNameWarning: object name is not a valid Python identifier: 'PAL-Inh_Tcf7l2'; it does not match the pattern ``^[a-zA-Z_][a-zA-Z0-9_]*$``; you will not be able to use natural naming to access this object; using ``getattr()`` will still work, though\n",
      "  check_attribute_name(name)\n",
      "/home/hanliu/miniconda3/envs/clustering/lib/python3.7/site-packages/tables/path.py:157: NaturalNameWarning: object name is not a valid Python identifier: 'CT-L6_Hcrtr2'; it does not match the pattern ``^[a-zA-Z_][a-zA-Z0-9_]*$``; you will not be able to use natural naming to access this object; using ``getattr()`` will still work, though\n",
      "  check_attribute_name(name)\n",
      "/home/hanliu/miniconda3/envs/clustering/lib/python3.7/site-packages/tables/path.py:157: NaturalNameWarning: object name is not a valid Python identifier: 'OLF-Exc_Cdh9'; it does not match the pattern ``^[a-zA-Z_][a-zA-Z0-9_]*$``; you will not be able to use natural naming to access this object; using ``getattr()`` will still work, though\n",
      "  check_attribute_name(name)\n",
      "/home/hanliu/miniconda3/envs/clustering/lib/python3.7/site-packages/tables/path.py:157: NaturalNameWarning: object name is not a valid Python identifier: 'PT-L5_Abca12'; it does not match the pattern ``^[a-zA-Z_][a-zA-Z0-9_]*$``; you will not be able to use natural naming to access this object; using ``getattr()`` will still work, though\n",
      "  check_attribute_name(name)\n",
      "/home/hanliu/miniconda3/envs/clustering/lib/python3.7/site-packages/tables/path.py:157: NaturalNameWarning: object name is not a valid Python identifier: 'MSN-D1_Plxnc1'; it does not match the pattern ``^[a-zA-Z_][a-zA-Z0-9_]*$``; you will not be able to use natural naming to access this object; using ``getattr()`` will still work, though\n",
      "  check_attribute_name(name)\n",
      "/home/hanliu/miniconda3/envs/clustering/lib/python3.7/site-packages/tables/path.py:157: NaturalNameWarning: object name is not a valid Python identifier: 'D1L-Fstl4_Sipa1l2'; it does not match the pattern ``^[a-zA-Z_][a-zA-Z0-9_]*$``; you will not be able to use natural naming to access this object; using ``getattr()`` will still work, though\n",
      "  check_attribute_name(name)\n",
      "/home/hanliu/miniconda3/envs/clustering/lib/python3.7/site-packages/tables/path.py:157: NaturalNameWarning: object name is not a valid Python identifier: 'PAL-Inh_Chat'; it does not match the pattern ``^[a-zA-Z_][a-zA-Z0-9_]*$``; you will not be able to use natural naming to access this object; using ``getattr()`` will still work, though\n",
      "  check_attribute_name(name)\n",
      "/home/hanliu/miniconda3/envs/clustering/lib/python3.7/site-packages/tables/path.py:157: NaturalNameWarning: object name is not a valid Python identifier: 'PT-L5_Unc5b'; it does not match the pattern ``^[a-zA-Z_][a-zA-Z0-9_]*$``; you will not be able to use natural naming to access this object; using ``getattr()`` will still work, though\n",
      "  check_attribute_name(name)\n",
      "/home/hanliu/miniconda3/envs/clustering/lib/python3.7/site-packages/tables/path.py:157: NaturalNameWarning: object name is not a valid Python identifier: 'MGE-Pvalb_Ptprk'; it does not match the pattern ``^[a-zA-Z_][a-zA-Z0-9_]*$``; you will not be able to use natural naming to access this object; using ``getattr()`` will still work, though\n",
      "  check_attribute_name(name)\n",
      "/home/hanliu/miniconda3/envs/clustering/lib/python3.7/site-packages/tables/path.py:157: NaturalNameWarning: object name is not a valid Python identifier: 'NP-L6_Cntnap4'; it does not match the pattern ``^[a-zA-Z_][a-zA-Z0-9_]*$``; you will not be able to use natural naming to access this object; using ``getattr()`` will still work, though\n",
      "  check_attribute_name(name)\n",
      "/home/hanliu/miniconda3/envs/clustering/lib/python3.7/site-packages/tables/path.py:157: NaturalNameWarning: object name is not a valid Python identifier: 'ODC_odc-small'; it does not match the pattern ``^[a-zA-Z_][a-zA-Z0-9_]*$``; you will not be able to use natural naming to access this object; using ``getattr()`` will still work, though\n",
      "  check_attribute_name(name)\n",
      "/home/hanliu/miniconda3/envs/clustering/lib/python3.7/site-packages/tables/path.py:157: NaturalNameWarning: object name is not a valid Python identifier: 'IG-CA2_Chrm3'; it does not match the pattern ``^[a-zA-Z_][a-zA-Z0-9_]*$``; you will not be able to use natural naming to access this object; using ``getattr()`` will still work, though\n",
      "  check_attribute_name(name)\n",
      "/home/hanliu/miniconda3/envs/clustering/lib/python3.7/site-packages/tables/path.py:157: NaturalNameWarning: object name is not a valid Python identifier: 'CGE-Vip_Clstn2'; it does not match the pattern ``^[a-zA-Z_][a-zA-Z0-9_]*$``; you will not be able to use natural naming to access this object; using ``getattr()`` will still work, though\n",
      "  check_attribute_name(name)\n",
      "/home/hanliu/miniconda3/envs/clustering/lib/python3.7/site-packages/tables/path.py:157: NaturalNameWarning: object name is not a valid Python identifier: 'PAL-Inh_Deptor'; it does not match the pattern ``^[a-zA-Z_][a-zA-Z0-9_]*$``; you will not be able to use natural naming to access this object; using ``getattr()`` will still work, though\n",
      "  check_attribute_name(name)\n",
      "/home/hanliu/miniconda3/envs/clustering/lib/python3.7/site-packages/tables/path.py:157: NaturalNameWarning: object name is not a valid Python identifier: 'MGE-Pvalb_Entpd3'; it does not match the pattern ``^[a-zA-Z_][a-zA-Z0-9_]*$``; you will not be able to use natural naming to access this object; using ``getattr()`` will still work, though\n",
      "  check_attribute_name(name)\n",
      "/home/hanliu/miniconda3/envs/clustering/lib/python3.7/site-packages/tables/path.py:157: NaturalNameWarning: object name is not a valid Python identifier: 'MGE-Sst_Ubtd1'; it does not match the pattern ``^[a-zA-Z_][a-zA-Z0-9_]*$``; you will not be able to use natural naming to access this object; using ``getattr()`` will still work, though\n",
      "  check_attribute_name(name)\n",
      "/home/hanliu/miniconda3/envs/clustering/lib/python3.7/site-packages/tables/path.py:157: NaturalNameWarning: object name is not a valid Python identifier: 'PT-L5_Plcb4'; it does not match the pattern ``^[a-zA-Z_][a-zA-Z0-9_]*$``; you will not be able to use natural naming to access this object; using ``getattr()`` will still work, though\n",
      "  check_attribute_name(name)\n"
     ]
    },
    {
     "name": "stderr",
     "output_type": "stream",
     "text": [
      "/home/hanliu/miniconda3/envs/clustering/lib/python3.7/site-packages/tables/path.py:157: NaturalNameWarning: object name is not a valid Python identifier: 'MGE-Pvalb_Thsd7a'; it does not match the pattern ``^[a-zA-Z_][a-zA-Z0-9_]*$``; you will not be able to use natural naming to access this object; using ``getattr()`` will still work, though\n",
      "  check_attribute_name(name)\n",
      "/home/hanliu/miniconda3/envs/clustering/lib/python3.7/site-packages/tables/path.py:157: NaturalNameWarning: object name is not a valid Python identifier: 'MSN-D2_Slc24a2'; it does not match the pattern ``^[a-zA-Z_][a-zA-Z0-9_]*$``; you will not be able to use natural naming to access this object; using ``getattr()`` will still work, though\n",
      "  check_attribute_name(name)\n",
      "/home/hanliu/miniconda3/envs/clustering/lib/python3.7/site-packages/tables/path.py:157: NaturalNameWarning: object name is not a valid Python identifier: 'MGE-Sst_Kcnip4'; it does not match the pattern ``^[a-zA-Z_][a-zA-Z0-9_]*$``; you will not be able to use natural naming to access this object; using ``getattr()`` will still work, though\n",
      "  check_attribute_name(name)\n",
      "/home/hanliu/miniconda3/envs/clustering/lib/python3.7/site-packages/tables/path.py:157: NaturalNameWarning: object name is not a valid Python identifier: 'MGE-Sst_Rxra'; it does not match the pattern ``^[a-zA-Z_][a-zA-Z0-9_]*$``; you will not be able to use natural naming to access this object; using ``getattr()`` will still work, though\n",
      "  check_attribute_name(name)\n",
      "/home/hanliu/miniconda3/envs/clustering/lib/python3.7/site-packages/tables/path.py:157: NaturalNameWarning: object name is not a valid Python identifier: 'LSX-Inh_Foxp2'; it does not match the pattern ``^[a-zA-Z_][a-zA-Z0-9_]*$``; you will not be able to use natural naming to access this object; using ``getattr()`` will still work, though\n",
      "  check_attribute_name(name)\n",
      "/home/hanliu/miniconda3/envs/clustering/lib/python3.7/site-packages/tables/path.py:157: NaturalNameWarning: object name is not a valid Python identifier: 'PAL-Inh_Onecut2'; it does not match the pattern ``^[a-zA-Z_][a-zA-Z0-9_]*$``; you will not be able to use natural naming to access this object; using ``getattr()`` will still work, though\n",
      "  check_attribute_name(name)\n",
      "/home/hanliu/miniconda3/envs/clustering/lib/python3.7/site-packages/tables/path.py:157: NaturalNameWarning: object name is not a valid Python identifier: 'LSX-Inh_Enox1'; it does not match the pattern ``^[a-zA-Z_][a-zA-Z0-9_]*$``; you will not be able to use natural naming to access this object; using ``getattr()`` will still work, though\n",
      "  check_attribute_name(name)\n",
      "/home/hanliu/miniconda3/envs/clustering/lib/python3.7/site-packages/tables/path.py:157: NaturalNameWarning: object name is not a valid Python identifier: 'CGE-Vip_Ptprm'; it does not match the pattern ``^[a-zA-Z_][a-zA-Z0-9_]*$``; you will not be able to use natural naming to access this object; using ``getattr()`` will still work, though\n",
      "  check_attribute_name(name)\n",
      "/home/hanliu/miniconda3/envs/clustering/lib/python3.7/site-packages/tables/path.py:157: NaturalNameWarning: object name is not a valid Python identifier: 'OPC_opc-small'; it does not match the pattern ``^[a-zA-Z_][a-zA-Z0-9_]*$``; you will not be able to use natural naming to access this object; using ``getattr()`` will still work, though\n",
      "  check_attribute_name(name)\n",
      "/home/hanliu/miniconda3/envs/clustering/lib/python3.7/site-packages/tables/path.py:157: NaturalNameWarning: object name is not a valid Python identifier: 'IT-L23_Tenm2'; it does not match the pattern ``^[a-zA-Z_][a-zA-Z0-9_]*$``; you will not be able to use natural naming to access this object; using ``getattr()`` will still work, though\n",
      "  check_attribute_name(name)\n",
      "/home/hanliu/miniconda3/envs/clustering/lib/python3.7/site-packages/tables/path.py:157: NaturalNameWarning: object name is not a valid Python identifier: 'PAL-Inh_Igdcc3'; it does not match the pattern ``^[a-zA-Z_][a-zA-Z0-9_]*$``; you will not be able to use natural naming to access this object; using ``getattr()`` will still work, though\n",
      "  check_attribute_name(name)\n",
      "/home/hanliu/miniconda3/envs/clustering/lib/python3.7/site-packages/tables/path.py:157: NaturalNameWarning: object name is not a valid Python identifier: 'MSN-D2_Casz1'; it does not match the pattern ``^[a-zA-Z_][a-zA-Z0-9_]*$``; you will not be able to use natural naming to access this object; using ``getattr()`` will still work, though\n",
      "  check_attribute_name(name)\n",
      "/home/hanliu/miniconda3/envs/clustering/lib/python3.7/site-packages/tables/path.py:157: NaturalNameWarning: object name is not a valid Python identifier: 'IT-L5_Etv1'; it does not match the pattern ``^[a-zA-Z_][a-zA-Z0-9_]*$``; you will not be able to use natural naming to access this object; using ``getattr()`` will still work, though\n",
      "  check_attribute_name(name)\n",
      "/home/hanliu/miniconda3/envs/clustering/lib/python3.7/site-packages/tables/path.py:157: NaturalNameWarning: object name is not a valid Python identifier: 'PT-L5_Nectin1'; it does not match the pattern ``^[a-zA-Z_][a-zA-Z0-9_]*$``; you will not be able to use natural naming to access this object; using ``getattr()`` will still work, though\n",
      "  check_attribute_name(name)\n",
      "/home/hanliu/miniconda3/envs/clustering/lib/python3.7/site-packages/tables/path.py:157: NaturalNameWarning: object name is not a valid Python identifier: 'D1L-Fstl4_Grm3'; it does not match the pattern ``^[a-zA-Z_][a-zA-Z0-9_]*$``; you will not be able to use natural naming to access this object; using ``getattr()`` will still work, though\n",
      "  check_attribute_name(name)\n",
      "/home/hanliu/miniconda3/envs/clustering/lib/python3.7/site-packages/tables/path.py:157: NaturalNameWarning: object name is not a valid Python identifier: 'PT-L5_Astn2'; it does not match the pattern ``^[a-zA-Z_][a-zA-Z0-9_]*$``; you will not be able to use natural naming to access this object; using ``getattr()`` will still work, though\n",
      "  check_attribute_name(name)\n",
      "/home/hanliu/miniconda3/envs/clustering/lib/python3.7/site-packages/tables/path.py:157: NaturalNameWarning: object name is not a valid Python identifier: 'MGE-Sst_Dock4'; it does not match the pattern ``^[a-zA-Z_][a-zA-Z0-9_]*$``; you will not be able to use natural naming to access this object; using ``getattr()`` will still work, though\n",
      "  check_attribute_name(name)\n",
      "/home/hanliu/miniconda3/envs/clustering/lib/python3.7/site-packages/tables/path.py:157: NaturalNameWarning: object name is not a valid Python identifier: 'IT-L23_Ptprt'; it does not match the pattern ``^[a-zA-Z_][a-zA-Z0-9_]*$``; you will not be able to use natural naming to access this object; using ``getattr()`` will still work, though\n",
      "  check_attribute_name(name)\n",
      "/home/hanliu/miniconda3/envs/clustering/lib/python3.7/site-packages/tables/path.py:157: NaturalNameWarning: object name is not a valid Python identifier: 'MSN-D2_Col14a1'; it does not match the pattern ``^[a-zA-Z_][a-zA-Z0-9_]*$``; you will not be able to use natural naming to access this object; using ``getattr()`` will still work, though\n",
      "  check_attribute_name(name)\n",
      "/home/hanliu/miniconda3/envs/clustering/lib/python3.7/site-packages/tables/path.py:157: NaturalNameWarning: object name is not a valid Python identifier: 'OLF-Exc_Unc13c'; it does not match the pattern ``^[a-zA-Z_][a-zA-Z0-9_]*$``; you will not be able to use natural naming to access this object; using ``getattr()`` will still work, though\n",
      "  check_attribute_name(name)\n",
      "/home/hanliu/miniconda3/envs/clustering/lib/python3.7/site-packages/tables/path.py:157: NaturalNameWarning: object name is not a valid Python identifier: 'CT-L6_Map4'; it does not match the pattern ``^[a-zA-Z_][a-zA-Z0-9_]*$``; you will not be able to use natural naming to access this object; using ``getattr()`` will still work, though\n",
      "  check_attribute_name(name)\n",
      "/home/hanliu/miniconda3/envs/clustering/lib/python3.7/site-packages/tables/path.py:157: NaturalNameWarning: object name is not a valid Python identifier: 'IG-CA2_Xpr1'; it does not match the pattern ``^[a-zA-Z_][a-zA-Z0-9_]*$``; you will not be able to use natural naming to access this object; using ``getattr()`` will still work, though\n",
      "  check_attribute_name(name)\n",
      "/home/hanliu/miniconda3/envs/clustering/lib/python3.7/site-packages/tables/path.py:157: NaturalNameWarning: object name is not a valid Python identifier: 'ANP_anp-olf-cnu'; it does not match the pattern ``^[a-zA-Z_][a-zA-Z0-9_]*$``; you will not be able to use natural naming to access this object; using ``getattr()`` will still work, though\n",
      "  check_attribute_name(name)\n",
      "/home/hanliu/miniconda3/envs/clustering/lib/python3.7/site-packages/tables/path.py:157: NaturalNameWarning: object name is not a valid Python identifier: 'IT-L23_Cux1'; it does not match the pattern ``^[a-zA-Z_][a-zA-Z0-9_]*$``; you will not be able to use natural naming to access this object; using ``getattr()`` will still work, though\n",
      "  check_attribute_name(name)\n",
      "/home/hanliu/miniconda3/envs/clustering/lib/python3.7/site-packages/tables/path.py:157: NaturalNameWarning: object name is not a valid Python identifier: 'CGE-Lamp5_Nrxn3'; it does not match the pattern ``^[a-zA-Z_][a-zA-Z0-9_]*$``; you will not be able to use natural naming to access this object; using ``getattr()`` will still work, though\n",
      "  check_attribute_name(name)\n",
      "/home/hanliu/miniconda3/envs/clustering/lib/python3.7/site-packages/tables/path.py:157: NaturalNameWarning: object name is not a valid Python identifier: 'MGE-Sst_Rerg'; it does not match the pattern ``^[a-zA-Z_][a-zA-Z0-9_]*$``; you will not be able to use natural naming to access this object; using ``getattr()`` will still work, though\n",
      "  check_attribute_name(name)\n",
      "/home/hanliu/miniconda3/envs/clustering/lib/python3.7/site-packages/tables/path.py:157: NaturalNameWarning: object name is not a valid Python identifier: 'DG-po_Calb2'; it does not match the pattern ``^[a-zA-Z_][a-zA-Z0-9_]*$``; you will not be able to use natural naming to access this object; using ``getattr()`` will still work, though\n",
      "  check_attribute_name(name)\n",
      "/home/hanliu/miniconda3/envs/clustering/lib/python3.7/site-packages/tables/path.py:157: NaturalNameWarning: object name is not a valid Python identifier: 'MSN-D1_Ntn1'; it does not match the pattern ``^[a-zA-Z_][a-zA-Z0-9_]*$``; you will not be able to use natural naming to access this object; using ``getattr()`` will still work, though\n",
      "  check_attribute_name(name)\n"
     ]
    },
    {
     "name": "stderr",
     "output_type": "stream",
     "text": [
      "/home/hanliu/miniconda3/envs/clustering/lib/python3.7/site-packages/tables/path.py:157: NaturalNameWarning: object name is not a valid Python identifier: 'MSN-D1_Hrh1'; it does not match the pattern ``^[a-zA-Z_][a-zA-Z0-9_]*$``; you will not be able to use natural naming to access this object; using ``getattr()`` will still work, though\n",
      "  check_attribute_name(name)\n",
      "/home/hanliu/miniconda3/envs/clustering/lib/python3.7/site-packages/tables/path.py:157: NaturalNameWarning: object name is not a valid Python identifier: 'MGE-Sst_Ptpre'; it does not match the pattern ``^[a-zA-Z_][a-zA-Z0-9_]*$``; you will not be able to use natural naming to access this object; using ``getattr()`` will still work, though\n",
      "  check_attribute_name(name)\n",
      "/home/hanliu/miniconda3/envs/clustering/lib/python3.7/site-packages/tables/path.py:157: NaturalNameWarning: object name is not a valid Python identifier: 'MGE-Sst_Frmd6'; it does not match the pattern ``^[a-zA-Z_][a-zA-Z0-9_]*$``; you will not be able to use natural naming to access this object; using ``getattr()`` will still work, though\n",
      "  check_attribute_name(name)\n",
      "/home/hanliu/miniconda3/envs/clustering/lib/python3.7/site-packages/tables/path.py:157: NaturalNameWarning: object name is not a valid Python identifier: 'MGE-Pvalb_Gfra2'; it does not match the pattern ``^[a-zA-Z_][a-zA-Z0-9_]*$``; you will not be able to use natural naming to access this object; using ``getattr()`` will still work, though\n",
      "  check_attribute_name(name)\n",
      "/home/hanliu/miniconda3/envs/clustering/lib/python3.7/site-packages/tables/path.py:157: NaturalNameWarning: object name is not a valid Python identifier: 'D1L-PAL_Flrt2'; it does not match the pattern ``^[a-zA-Z_][a-zA-Z0-9_]*$``; you will not be able to use natural naming to access this object; using ``getattr()`` will still work, though\n",
      "  check_attribute_name(name)\n",
      "/home/hanliu/miniconda3/envs/clustering/lib/python3.7/site-packages/tables/path.py:157: NaturalNameWarning: object name is not a valid Python identifier: 'VLMC-Pia_vlmc-pia-all'; it does not match the pattern ``^[a-zA-Z_][a-zA-Z0-9_]*$``; you will not be able to use natural naming to access this object; using ``getattr()`` will still work, though\n",
      "  check_attribute_name(name)\n",
      "/home/hanliu/miniconda3/envs/clustering/lib/python3.7/site-packages/tables/path.py:157: NaturalNameWarning: object name is not a valid Python identifier: 'IT-L6_Man1c1'; it does not match the pattern ``^[a-zA-Z_][a-zA-Z0-9_]*$``; you will not be able to use natural naming to access this object; using ``getattr()`` will still work, though\n",
      "  check_attribute_name(name)\n",
      "/home/hanliu/miniconda3/envs/clustering/lib/python3.7/site-packages/tables/path.py:157: NaturalNameWarning: object name is not a valid Python identifier: 'OLF-Exc_Sgcd'; it does not match the pattern ``^[a-zA-Z_][a-zA-Z0-9_]*$``; you will not be able to use natural naming to access this object; using ``getattr()`` will still work, though\n",
      "  check_attribute_name(name)\n",
      "/home/hanliu/miniconda3/envs/clustering/lib/python3.7/site-packages/tables/path.py:157: NaturalNameWarning: object name is not a valid Python identifier: 'OLF-Exc_Lrrtm3'; it does not match the pattern ``^[a-zA-Z_][a-zA-Z0-9_]*$``; you will not be able to use natural naming to access this object; using ``getattr()`` will still work, though\n",
      "  check_attribute_name(name)\n",
      "/home/hanliu/miniconda3/envs/clustering/lib/python3.7/site-packages/tables/path.py:157: NaturalNameWarning: object name is not a valid Python identifier: 'IT-L5_Grik3'; it does not match the pattern ``^[a-zA-Z_][a-zA-Z0-9_]*$``; you will not be able to use natural naming to access this object; using ``getattr()`` will still work, though\n",
      "  check_attribute_name(name)\n",
      "/home/hanliu/miniconda3/envs/clustering/lib/python3.7/site-packages/tables/path.py:157: NaturalNameWarning: object name is not a valid Python identifier: 'IT-L6_Fstl4'; it does not match the pattern ``^[a-zA-Z_][a-zA-Z0-9_]*$``; you will not be able to use natural naming to access this object; using ``getattr()`` will still work, though\n",
      "  check_attribute_name(name)\n",
      "/home/hanliu/miniconda3/envs/clustering/lib/python3.7/site-packages/tables/path.py:157: NaturalNameWarning: object name is not a valid Python identifier: 'MGE-Sst_Etv1'; it does not match the pattern ``^[a-zA-Z_][a-zA-Z0-9_]*$``; you will not be able to use natural naming to access this object; using ``getattr()`` will still work, though\n",
      "  check_attribute_name(name)\n",
      "/home/hanliu/miniconda3/envs/clustering/lib/python3.7/site-packages/tables/path.py:157: NaturalNameWarning: object name is not a valid Python identifier: 'D1L-Fstl4_Trps1'; it does not match the pattern ``^[a-zA-Z_][a-zA-Z0-9_]*$``; you will not be able to use natural naming to access this object; using ``getattr()`` will still work, though\n",
      "  check_attribute_name(name)\n",
      "/home/hanliu/miniconda3/envs/clustering/lib/python3.7/site-packages/tables/path.py:157: NaturalNameWarning: object name is not a valid Python identifier: 'MSN-D1_Khdrbs3'; it does not match the pattern ``^[a-zA-Z_][a-zA-Z0-9_]*$``; you will not be able to use natural naming to access this object; using ``getattr()`` will still work, though\n",
      "  check_attribute_name(name)\n",
      "/home/hanliu/miniconda3/envs/clustering/lib/python3.7/site-packages/tables/path.py:157: NaturalNameWarning: object name is not a valid Python identifier: 'MGE-Sst_Unc5b'; it does not match the pattern ``^[a-zA-Z_][a-zA-Z0-9_]*$``; you will not be able to use natural naming to access this object; using ``getattr()`` will still work, though\n",
      "  check_attribute_name(name)\n",
      "/home/hanliu/miniconda3/envs/clustering/lib/python3.7/site-packages/tables/path.py:157: NaturalNameWarning: object name is not a valid Python identifier: 'IT-L6_Cadps2'; it does not match the pattern ``^[a-zA-Z_][a-zA-Z0-9_]*$``; you will not be able to use natural naming to access this object; using ``getattr()`` will still work, though\n",
      "  check_attribute_name(name)\n",
      "/home/hanliu/miniconda3/envs/clustering/lib/python3.7/site-packages/tables/path.py:157: NaturalNameWarning: object name is not a valid Python identifier: 'LSX-Inh_Cacna1i'; it does not match the pattern ``^[a-zA-Z_][a-zA-Z0-9_]*$``; you will not be able to use natural naming to access this object; using ``getattr()`` will still work, though\n",
      "  check_attribute_name(name)\n",
      "/home/hanliu/miniconda3/envs/clustering/lib/python3.7/site-packages/tables/path.py:157: NaturalNameWarning: object name is not a valid Python identifier: 'NP-L6_Olfml2b'; it does not match the pattern ``^[a-zA-Z_][a-zA-Z0-9_]*$``; you will not be able to use natural naming to access this object; using ``getattr()`` will still work, though\n",
      "  check_attribute_name(name)\n",
      "/home/hanliu/miniconda3/envs/clustering/lib/python3.7/site-packages/tables/path.py:157: NaturalNameWarning: object name is not a valid Python identifier: 'MGE-Pvalb_Sema5a'; it does not match the pattern ``^[a-zA-Z_][a-zA-Z0-9_]*$``; you will not be able to use natural naming to access this object; using ``getattr()`` will still work, though\n",
      "  check_attribute_name(name)\n",
      "/home/hanliu/miniconda3/envs/clustering/lib/python3.7/site-packages/tables/path.py:157: NaturalNameWarning: object name is not a valid Python identifier: 'MGE-Pvalb_Cnih3'; it does not match the pattern ``^[a-zA-Z_][a-zA-Z0-9_]*$``; you will not be able to use natural naming to access this object; using ``getattr()`` will still work, though\n",
      "  check_attribute_name(name)\n",
      "/home/hanliu/miniconda3/envs/clustering/lib/python3.7/site-packages/tables/path.py:157: NaturalNameWarning: object name is not a valid Python identifier: 'ASC_str-hpf'; it does not match the pattern ``^[a-zA-Z_][a-zA-Z0-9_]*$``; you will not be able to use natural naming to access this object; using ``getattr()`` will still work, though\n",
      "  check_attribute_name(name)\n",
      "/home/hanliu/miniconda3/envs/clustering/lib/python3.7/site-packages/tables/path.py:157: NaturalNameWarning: object name is not a valid Python identifier: 'CGE-Vip_Robo1'; it does not match the pattern ``^[a-zA-Z_][a-zA-Z0-9_]*$``; you will not be able to use natural naming to access this object; using ``getattr()`` will still work, though\n",
      "  check_attribute_name(name)\n",
      "/home/hanliu/miniconda3/envs/clustering/lib/python3.7/site-packages/tables/path.py:157: NaturalNameWarning: object name is not a valid Python identifier: 'CA3-St18_Epha5'; it does not match the pattern ``^[a-zA-Z_][a-zA-Z0-9_]*$``; you will not be able to use natural naming to access this object; using ``getattr()`` will still work, though\n",
      "  check_attribute_name(name)\n",
      "/home/hanliu/miniconda3/envs/clustering/lib/python3.7/site-packages/tables/path.py:157: NaturalNameWarning: object name is not a valid Python identifier: 'PT-L5_Ptprt'; it does not match the pattern ``^[a-zA-Z_][a-zA-Z0-9_]*$``; you will not be able to use natural naming to access this object; using ``getattr()`` will still work, though\n",
      "  check_attribute_name(name)\n",
      "/home/hanliu/miniconda3/envs/clustering/lib/python3.7/site-packages/tables/path.py:157: NaturalNameWarning: object name is not a valid Python identifier: 'CGE-Vip_Fstl4'; it does not match the pattern ``^[a-zA-Z_][a-zA-Z0-9_]*$``; you will not be able to use natural naming to access this object; using ``getattr()`` will still work, though\n",
      "  check_attribute_name(name)\n",
      "/home/hanliu/miniconda3/envs/clustering/lib/python3.7/site-packages/tables/path.py:157: NaturalNameWarning: object name is not a valid Python identifier: 'IT-L4_Astn2'; it does not match the pattern ``^[a-zA-Z_][a-zA-Z0-9_]*$``; you will not be able to use natural naming to access this object; using ``getattr()`` will still work, though\n",
      "  check_attribute_name(name)\n",
      "/home/hanliu/miniconda3/envs/clustering/lib/python3.7/site-packages/tables/path.py:157: NaturalNameWarning: object name is not a valid Python identifier: 'OLF-Exc_Cux2'; it does not match the pattern ``^[a-zA-Z_][a-zA-Z0-9_]*$``; you will not be able to use natural naming to access this object; using ``getattr()`` will still work, though\n",
      "  check_attribute_name(name)\n",
      "/home/hanliu/miniconda3/envs/clustering/lib/python3.7/site-packages/tables/path.py:157: NaturalNameWarning: object name is not a valid Python identifier: 'CGE-Lamp5_Dock5'; it does not match the pattern ``^[a-zA-Z_][a-zA-Z0-9_]*$``; you will not be able to use natural naming to access this object; using ``getattr()`` will still work, though\n",
      "  check_attribute_name(name)\n"
     ]
    },
    {
     "name": "stderr",
     "output_type": "stream",
     "text": [
      "/home/hanliu/miniconda3/envs/clustering/lib/python3.7/site-packages/tables/path.py:157: NaturalNameWarning: object name is not a valid Python identifier: 'PAL-Inh_Meis1'; it does not match the pattern ``^[a-zA-Z_][a-zA-Z0-9_]*$``; you will not be able to use natural naming to access this object; using ``getattr()`` will still work, though\n",
      "  check_attribute_name(name)\n",
      "/home/hanliu/miniconda3/envs/clustering/lib/python3.7/site-packages/tables/path.py:157: NaturalNameWarning: object name is not a valid Python identifier: 'PAL-Inh_Ptprd'; it does not match the pattern ``^[a-zA-Z_][a-zA-Z0-9_]*$``; you will not be able to use natural naming to access this object; using ``getattr()`` will still work, though\n",
      "  check_attribute_name(name)\n",
      "/home/hanliu/miniconda3/envs/clustering/lib/python3.7/site-packages/tables/path.py:157: NaturalNameWarning: object name is not a valid Python identifier: 'CGE-Vip_Galnt17'; it does not match the pattern ``^[a-zA-Z_][a-zA-Z0-9_]*$``; you will not be able to use natural naming to access this object; using ``getattr()`` will still work, though\n",
      "  check_attribute_name(name)\n",
      "/home/hanliu/miniconda3/envs/clustering/lib/python3.7/site-packages/tables/path.py:157: NaturalNameWarning: object name is not a valid Python identifier: 'ODC_odc-large'; it does not match the pattern ``^[a-zA-Z_][a-zA-Z0-9_]*$``; you will not be able to use natural naming to access this object; using ``getattr()`` will still work, though\n",
      "  check_attribute_name(name)\n",
      "/home/hanliu/miniconda3/envs/clustering/lib/python3.7/site-packages/tables/path.py:157: NaturalNameWarning: object name is not a valid Python identifier: 'PAL-Inh_Rarb'; it does not match the pattern ``^[a-zA-Z_][a-zA-Z0-9_]*$``; you will not be able to use natural naming to access this object; using ``getattr()`` will still work, though\n",
      "  check_attribute_name(name)\n",
      "/home/hanliu/miniconda3/envs/clustering/lib/python3.7/site-packages/tables/path.py:157: NaturalNameWarning: object name is not a valid Python identifier: 'OLF-Exc_Rmst'; it does not match the pattern ``^[a-zA-Z_][a-zA-Z0-9_]*$``; you will not be able to use natural naming to access this object; using ``getattr()`` will still work, though\n",
      "  check_attribute_name(name)\n",
      "/home/hanliu/miniconda3/envs/clustering/lib/python3.7/site-packages/tables/path.py:157: NaturalNameWarning: object name is not a valid Python identifier: 'OPC_opc-large'; it does not match the pattern ``^[a-zA-Z_][a-zA-Z0-9_]*$``; you will not be able to use natural naming to access this object; using ``getattr()`` will still work, though\n",
      "  check_attribute_name(name)\n",
      "/home/hanliu/miniconda3/envs/clustering/lib/python3.7/site-packages/tables/path.py:157: NaturalNameWarning: object name is not a valid Python identifier: 'NP-L6_Kcnab1'; it does not match the pattern ``^[a-zA-Z_][a-zA-Z0-9_]*$``; you will not be able to use natural naming to access this object; using ``getattr()`` will still work, though\n",
      "  check_attribute_name(name)\n",
      "/home/hanliu/miniconda3/envs/clustering/lib/python3.7/site-packages/tables/path.py:157: NaturalNameWarning: object name is not a valid Python identifier: 'PC_pc-all'; it does not match the pattern ``^[a-zA-Z_][a-zA-Z0-9_]*$``; you will not be able to use natural naming to access this object; using ``getattr()`` will still work, though\n",
      "  check_attribute_name(name)\n",
      "/home/hanliu/miniconda3/envs/clustering/lib/python3.7/site-packages/tables/path.py:157: NaturalNameWarning: object name is not a valid Python identifier: 'MGE-Pvalb_Cacna1i'; it does not match the pattern ``^[a-zA-Z_][a-zA-Z0-9_]*$``; you will not be able to use natural naming to access this object; using ``getattr()`` will still work, though\n",
      "  check_attribute_name(name)\n",
      "/home/hanliu/miniconda3/envs/clustering/lib/python3.7/site-packages/tables/path.py:157: NaturalNameWarning: object name is not a valid Python identifier: 'OLF-Exc_Bmpr1b'; it does not match the pattern ``^[a-zA-Z_][a-zA-Z0-9_]*$``; you will not be able to use natural naming to access this object; using ``getattr()`` will still work, though\n",
      "  check_attribute_name(name)\n",
      "/home/hanliu/miniconda3/envs/clustering/lib/python3.7/site-packages/tables/path.py:157: NaturalNameWarning: object name is not a valid Python identifier: 'CGE-Lamp5_Grk5'; it does not match the pattern ``^[a-zA-Z_][a-zA-Z0-9_]*$``; you will not be able to use natural naming to access this object; using ``getattr()`` will still work, though\n",
      "  check_attribute_name(name)\n",
      "/home/hanliu/miniconda3/envs/clustering/lib/python3.7/site-packages/tables/path.py:157: NaturalNameWarning: object name is not a valid Python identifier: 'IT-L5_Cdh8'; it does not match the pattern ``^[a-zA-Z_][a-zA-Z0-9_]*$``; you will not be able to use natural naming to access this object; using ``getattr()`` will still work, though\n",
      "  check_attribute_name(name)\n",
      "/home/hanliu/miniconda3/envs/clustering/lib/python3.7/site-packages/tables/path.py:157: NaturalNameWarning: object name is not a valid Python identifier: 'IG-CA2_Peak1'; it does not match the pattern ``^[a-zA-Z_][a-zA-Z0-9_]*$``; you will not be able to use natural naming to access this object; using ``getattr()`` will still work, though\n",
      "  check_attribute_name(name)\n",
      "/home/hanliu/miniconda3/envs/clustering/lib/python3.7/site-packages/tables/path.py:157: NaturalNameWarning: object name is not a valid Python identifier: 'ANP_anp-dg'; it does not match the pattern ``^[a-zA-Z_][a-zA-Z0-9_]*$``; you will not be able to use natural naming to access this object; using ``getattr()`` will still work, though\n",
      "  check_attribute_name(name)\n",
      "/home/hanliu/miniconda3/envs/clustering/lib/python3.7/site-packages/tables/path.py:157: NaturalNameWarning: object name is not a valid Python identifier: 'D1L-Fstl4_Cadm1'; it does not match the pattern ``^[a-zA-Z_][a-zA-Z0-9_]*$``; you will not be able to use natural naming to access this object; using ``getattr()`` will still work, though\n",
      "  check_attribute_name(name)\n",
      "/home/hanliu/miniconda3/envs/clustering/lib/python3.7/site-packages/tables/path.py:157: NaturalNameWarning: object name is not a valid Python identifier: 'IT-L4_Shc3'; it does not match the pattern ``^[a-zA-Z_][a-zA-Z0-9_]*$``; you will not be able to use natural naming to access this object; using ``getattr()`` will still work, though\n",
      "  check_attribute_name(name)\n",
      "/home/hanliu/miniconda3/envs/clustering/lib/python3.7/site-packages/tables/path.py:157: NaturalNameWarning: object name is not a valid Python identifier: 'D1L-PAL_Plcxd3'; it does not match the pattern ``^[a-zA-Z_][a-zA-Z0-9_]*$``; you will not be able to use natural naming to access this object; using ``getattr()`` will still work, though\n",
      "  check_attribute_name(name)\n"
     ]
    }
   ],
   "source": [
    "with pd.HDFStore(pathlib.Path(dmr_path).parent / 'DMRInfo.h5') as hdf:\n",
    "    for sample, hypo_index in hypo_sig_dict.items():\n",
    "        hdf[f'HypoDMR/{sample}'] = pd.Series(hypo_index)\n",
    "    for sample, hyper_index in hyper_sig_dict.items():\n",
    "        hdf[f'HyperDMR/{sample}'] = pd.Series(hyper_index)"
   ]
  },
  {
   "cell_type": "markdown",
   "metadata": {
    "papermill": {
     "duration": 0.037221,
     "end_time": "2020-01-20T02:21:21.503877",
     "exception": false,
     "start_time": "2020-01-20T02:21:21.466656",
     "status": "completed"
    },
    "scrolled": true,
    "tags": []
   },
   "source": [
    "## Dump DMR bed"
   ]
  },
  {
   "cell_type": "code",
   "execution_count": 16,
   "metadata": {
    "ExecuteTime": {
     "end_time": "2020-01-11T22:42:42.323174Z",
     "start_time": "2020-01-11T22:42:20.036468Z"
    },
    "papermill": {
     "duration": 6.846847,
     "end_time": "2020-01-20T02:21:28.388072",
     "exception": false,
     "start_time": "2020-01-20T02:21:21.541225",
     "status": "completed"
    },
    "tags": []
   },
   "outputs": [],
   "source": [
    "hypo_dir = pathlib.Path(dmr_path).parent / 'HypoDMR'\n",
    "hypo_dir.mkdir(exist_ok=True)\n",
    "for sample, hypo_index in hypo_sig_dict.items():\n",
    "    _bed = dmr_bed.loc[hypo_index].reset_index().iloc[:, [1, 2, 3, 0]].to_csv(\n",
    "        hypo_dir / f'{sample}.DMS{dms_cutoff}.bed', sep='\\t', index=None, header=None)"
   ]
  },
  {
   "cell_type": "code",
   "execution_count": 17,
   "metadata": {
    "ExecuteTime": {
     "end_time": "2020-01-11T22:42:59.706247Z",
     "start_time": "2020-01-11T22:42:42.325171Z"
    },
    "papermill": {
     "duration": 2.841237,
     "end_time": "2020-01-20T02:21:31.267017",
     "exception": false,
     "start_time": "2020-01-20T02:21:28.425780",
     "status": "completed"
    },
    "tags": []
   },
   "outputs": [],
   "source": [
    "hyper_dir = pathlib.Path(dmr_path).parent / 'HyperDMR'\n",
    "hyper_dir.mkdir(exist_ok=True)\n",
    "for sample, hyper_index in hyper_sig_dict.items():\n",
    "    _bed = dmr_bed.loc[hyper_index].reset_index().iloc[:, [1, 2, 3, 0]].to_csv(\n",
    "        hyper_dir / f'{sample}.DMS{dms_cutoff}.bed', sep='\\t', index=None, header=None)"
   ]
  },
  {
   "cell_type": "markdown",
   "metadata": {
    "papermill": {
     "duration": 0.036438,
     "end_time": "2020-01-20T02:21:31.341315",
     "exception": false,
     "start_time": "2020-01-20T02:21:31.304877",
     "status": "completed"
    },
    "tags": []
   },
   "source": [
    "## DMR hits matrix"
   ]
  },
  {
   "cell_type": "code",
   "execution_count": 18,
   "metadata": {
    "ExecuteTime": {
     "end_time": "2020-01-11T22:43:06.080778Z",
     "start_time": "2020-01-11T22:42:59.708925Z"
    },
    "papermill": {
     "duration": 1.26671,
     "end_time": "2020-01-20T02:21:32.643882",
     "exception": false,
     "start_time": "2020-01-20T02:21:31.377172",
     "status": "completed"
    },
    "tags": []
   },
   "outputs": [
    {
     "name": "stderr",
     "output_type": "stream",
     "text": [
      "... storing '#chr' as categorical\n"
     ]
    }
   ],
   "source": [
    "sig_dict = hypo_sig_dict\n",
    "\n",
    "rows = []\n",
    "cols = []\n",
    "datas = []\n",
    "for i, (sample, dmr_index) in enumerate(sig_dict.items()):\n",
    "    col = dmr_index.map(lambda i: i.split('_')[1]).astype(int).values\n",
    "    row = (np.ones_like(col) * i).astype(int)\n",
    "    data = np.ones_like(col)\n",
    "    rows.append(row)\n",
    "    cols.append(col)\n",
    "    datas.append(data)\n",
    "datas = np.concatenate(datas)\n",
    "cols = np.concatenate(cols)\n",
    "rows = np.concatenate(rows)\n",
    "hits = csr_matrix((datas, (rows, cols)),\n",
    "                  shape=(mc_rate.shape[1], dmr_bed.shape[0]))\n",
    "\n",
    "# obs is DMR, var is sample, because all analysis is dmr focused\n",
    "dmr_hits = anndata.AnnData(X=hits.T,\n",
    "                           obs=dmr_bed,\n",
    "                           var=pd.DataFrame([], index=mc_rate.columns))\n",
    "\n",
    "dmr_hits.write_h5ad(hypo_dir / 'TotalHits.h5ad')\n"
   ]
  },
  {
   "cell_type": "code",
   "execution_count": 19,
   "metadata": {
    "ExecuteTime": {
     "end_time": "2020-01-11T22:43:11.941645Z",
     "start_time": "2020-01-11T22:43:06.082301Z"
    },
    "papermill": {
     "duration": 0.769541,
     "end_time": "2020-01-20T02:21:33.450330",
     "exception": false,
     "start_time": "2020-01-20T02:21:32.680789",
     "status": "completed"
    },
    "tags": []
   },
   "outputs": [
    {
     "name": "stderr",
     "output_type": "stream",
     "text": [
      "... storing '#chr' as categorical\n"
     ]
    }
   ],
   "source": [
    "sig_dict = hyper_sig_dict\n",
    "\n",
    "rows = []\n",
    "cols = []\n",
    "datas = []\n",
    "for i, (sample, dmr_index) in enumerate(sig_dict.items()):\n",
    "    col = dmr_index.map(lambda i: i.split('_')[1]).astype(int).values\n",
    "    row = (np.ones_like(col) * i).astype(int)\n",
    "    data = np.ones_like(col)\n",
    "    rows.append(row)\n",
    "    cols.append(col)\n",
    "    datas.append(data)\n",
    "datas = np.concatenate(datas)\n",
    "cols = np.concatenate(cols)\n",
    "rows = np.concatenate(rows)\n",
    "hits = csr_matrix((datas, (rows, cols)),\n",
    "                  shape=(mc_rate.shape[1], dmr_bed.shape[0]))\n",
    "\n",
    "# obs is DMR, var is sample, because all analysis is dmr focused\n",
    "dmr_hits = anndata.AnnData(X=hits.T,\n",
    "                           obs=dmr_bed,\n",
    "                           var=pd.DataFrame([], index=mc_rate.columns))\n",
    "\n",
    "dmr_hits.write_h5ad(hyper_dir / 'TotalHits.h5ad')"
   ]
  },
  {
   "cell_type": "code",
   "execution_count": null,
   "metadata": {
    "papermill": {
     "duration": 0.036576,
     "end_time": "2020-01-20T02:21:33.523840",
     "exception": false,
     "start_time": "2020-01-20T02:21:33.487264",
     "status": "completed"
    },
    "tags": []
   },
   "outputs": [],
   "source": []
  },
  {
   "cell_type": "code",
   "execution_count": null,
   "metadata": {
    "papermill": {
     "duration": 0.036285,
     "end_time": "2020-01-20T02:21:33.596568",
     "exception": false,
     "start_time": "2020-01-20T02:21:33.560283",
     "status": "completed"
    },
    "tags": []
   },
   "outputs": [],
   "source": []
  },
  {
   "cell_type": "code",
   "execution_count": null,
   "metadata": {
    "papermill": {
     "duration": 0.036832,
     "end_time": "2020-01-20T02:21:33.671274",
     "exception": false,
     "start_time": "2020-01-20T02:21:33.634442",
     "status": "completed"
    },
    "tags": []
   },
   "outputs": [],
   "source": []
  }
 ],
 "metadata": {
  "hide_input": false,
  "kernelspec": {
   "display_name": "Python 3",
   "language": "python",
   "name": "python3"
  },
  "language_info": {
   "codemirror_mode": {
    "name": "ipython",
    "version": 3
   },
   "file_extension": ".py",
   "mimetype": "text/x-python",
   "name": "python",
   "nbconvert_exporter": "python",
   "pygments_lexer": "ipython3",
   "version": "3.7.3"
  },
  "papermill": {
   "duration": 77.002405,
   "end_time": "2020-01-20T02:21:34.315498",
   "environment_variables": {},
   "exception": null,
   "input_path": "1.FilterDMRRecipe_robust_mean_delta.ipynb",
   "output_path": "/home/hanliu/project/mouse_rostral_brain/DMR/SubType/raw/SubType-chr15/Recipe/1.FilterDMRRecipe_robust_mean_delta.ipynb",
   "parameters": {
    "black_list_path": "/home/hanliu/ref/blacklist/mm10-blacklist.v2.bed.gz",
    "delta_to_mean": 0.3,
    "dmr_path": "/home/hanliu/project/mouse_rostral_brain/DMR/SubType/raw/SubType-chr15/SubType-chr15_rms_results_collapsed.tsv",
    "dmr_prefix": "Sub",
    "dms_cutoff": 1,
    "skip_quantile": 0.25
   },
   "start_time": "2020-01-20T02:20:17.313093",
   "version": "1.0.1"
  },
  "toc": {
   "base_numbering": 1,
   "nav_menu": {},
   "number_sections": true,
   "sideBar": true,
   "skip_h1_title": true,
   "title_cell": "Table of Contents",
   "title_sidebar": "Contents",
   "toc_cell": false,
   "toc_position": {},
   "toc_section_display": true,
   "toc_window_display": true
  }
 },
 "nbformat": 4,
 "nbformat_minor": 2
}