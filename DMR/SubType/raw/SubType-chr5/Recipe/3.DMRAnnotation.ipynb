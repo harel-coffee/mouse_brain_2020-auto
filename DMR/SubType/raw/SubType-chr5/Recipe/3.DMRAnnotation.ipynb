{
 "cells": [
  {
   "cell_type": "code",
   "execution_count": 1,
   "metadata": {
    "ExecuteTime": {
     "end_time": "2020-01-11T21:52:45.231637Z",
     "start_time": "2020-01-11T21:52:44.501308Z"
    },
    "papermill": {
     "duration": 0.447603,
     "end_time": "2020-01-20T00:57:00.339452",
     "exception": false,
     "start_time": "2020-01-20T00:56:59.891849",
     "status": "completed"
    },
    "tags": []
   },
   "outputs": [],
   "source": [
    "import pandas as pd\n",
    "from pybedtools import BedTool\n",
    "import pathlib\n",
    "import anndata\n",
    "import numpy as np\n",
    "from scipy.sparse import coo_matrix, hstack"
   ]
  },
  {
   "cell_type": "code",
   "execution_count": 2,
   "metadata": {
    "ExecuteTime": {
     "end_time": "2020-01-11T21:52:45.237236Z",
     "start_time": "2020-01-11T21:52:45.234301Z"
    },
    "papermill": {
     "duration": 0.013204,
     "end_time": "2020-01-20T00:57:00.362036",
     "exception": false,
     "start_time": "2020-01-20T00:57:00.348832",
     "status": "completed"
    },
    "tags": [
     "parameters"
    ]
   },
   "outputs": [],
   "source": [
    "dmr_bed = '/home/hanliu/project/mouse_rostral_brain/DMR/DGmCHGroup/DMR/TotalDMR.nofilter.bed'\n"
   ]
  },
  {
   "cell_type": "code",
   "execution_count": 3,
   "metadata": {
    "papermill": {
     "duration": 0.012004,
     "end_time": "2020-01-20T00:57:00.381569",
     "exception": false,
     "start_time": "2020-01-20T00:57:00.369565",
     "status": "completed"
    },
    "tags": [
     "injected-parameters"
    ]
   },
   "outputs": [],
   "source": [
    "# Parameters\n",
    "dmr_bed = \"/home/hanliu/project/mouse_rostral_brain/DMR/SubType/raw/SubType-chr5/TotalDMR.nofilter.bed\"\n"
   ]
  },
  {
   "cell_type": "code",
   "execution_count": 4,
   "metadata": {
    "ExecuteTime": {
     "end_time": "2020-01-11T21:52:45.242034Z",
     "start_time": "2020-01-11T21:52:45.239268Z"
    },
    "papermill": {
     "duration": 0.012074,
     "end_time": "2020-01-20T00:57:00.401191",
     "exception": false,
     "start_time": "2020-01-20T00:57:00.389117",
     "status": "completed"
    },
    "tags": []
   },
   "outputs": [],
   "source": [
    "output_dir = pathlib.Path(dmr_bed).parent / 'Annotation'"
   ]
  },
  {
   "cell_type": "code",
   "execution_count": 5,
   "metadata": {
    "ExecuteTime": {
     "end_time": "2020-01-11T20:24:52.399682Z",
     "start_time": "2020-01-11T20:24:52.392446Z"
    },
    "papermill": {
     "duration": 0.016782,
     "end_time": "2020-01-20T00:57:00.425452",
     "exception": false,
     "start_time": "2020-01-20T00:57:00.408670",
     "status": "completed"
    },
    "tags": []
   },
   "outputs": [],
   "source": [
    "# genome features\n",
    "genome_features = {\n",
    "    'CGI_promoter':\n",
    "    '/home/hanliu/ref/mouse/genome_feature/sort_and_merge/CGI_promoter.all.merge.sort.bed',\n",
    "    'exon':\n",
    "    '/home/hanliu/ref/mouse/genome_feature/sort_and_merge/exon.all.merge.sort.bed',\n",
    "    'exon_first':\n",
    "    '/home/hanliu/ref/mouse/genome_feature/sort_and_merge/exon.first.merge.sort.bed',\n",
    "    'gene_all':\n",
    "    '/home/hanliu/ref/mouse/genome_feature/sort_and_merge/gene.all.merge.sort.bed',\n",
    "    'gene_lincRNA':\n",
    "    '/home/hanliu/ref/mouse/genome_feature/sort_and_merge/gene.lincRNA.merge.sort.bed',\n",
    "    'gene_protein_coding':\n",
    "    '/home/hanliu/ref/mouse/genome_feature/sort_and_merge/gene.protein_coding.merge.sort.bed',\n",
    "    'intron':\n",
    "    '/home/hanliu/ref/mouse/genome_feature/sort_and_merge/intron.all.merge.sort.bed',\n",
    "    'intron_first':\n",
    "    '/home/hanliu/ref/mouse/genome_feature/sort_and_merge/intron.first.merge.sort.bed',\n",
    "    'Non_CGI_promoter':\n",
    "    '/home/hanliu/ref/mouse/genome_feature/sort_and_merge/Non_CGI_promoter.all.merge.sort.bed',\n",
    "    'promoter':\n",
    "    '/home/hanliu/ref/mouse/genome_feature/sort_and_merge/promoter.all.merge.sort.bed',\n",
    "    'start_codon':\n",
    "    '/home/hanliu/ref/mouse/genome_feature/sort_and_merge/start_codon.all.merge.sort.bed',\n",
    "    'stop_codon':\n",
    "    '/home/hanliu/ref/mouse/genome_feature/sort_and_merge/stop_codon.all.merge.sort.bed',\n",
    "    'transcript':\n",
    "    '/home/hanliu/ref/mouse/genome_feature/sort_and_merge/transcript.all.merge.sort.bed',\n",
    "    'TSS':\n",
    "    '/home/hanliu/ref/mouse/genome_feature/sort_and_merge/TSS.all.merge.sort.bed',\n",
    "    'UTR3':\n",
    "    '/home/hanliu/ref/mouse/genome_feature/sort_and_merge/UTR3.all.merge.sort.bed',\n",
    "    'UTR5':\n",
    "    '/home/hanliu/ref/mouse/genome_feature/sort_and_merge/UTR5.all.merge.sort.bed',\n",
    "    'CGI':\n",
    "    '/home/hanliu/ref/mouse/genome_feature/sort_and_merge/CGI.merge.sort.bed',\n",
    "    'CGI_Shore':\n",
    "    '/home/hanliu/ref/mouse/genome_feature/sort_and_merge/CGI_Shore.merge.sort.bed',\n",
    "    'splicing_site_slop100':\n",
    "    '/home/hanliu/ref/mouse/genome_feature/sort_and_merge/splicing_site_slop100.merge.sort.bed',\n",
    "    'splicing_site_slop1000':\n",
    "    '/home/hanliu/ref/mouse/genome_feature/sort_and_merge/splicing_site_slop1000.merge.sort.bed'\n",
    "}\n",
    "\n",
    "# different kinds of TEs\n",
    "te_beds = list(\n",
    "    pathlib.Path('/home/hanliu/ref/mouse/ucsc/TE_Beds').glob('*bed'))\n",
    "te_beds = {'.'.join(p.name.split('.')[:2]): p for p in te_beds}\n",
    "\n",
    "# bulk published DMRs\n",
    "bulk_dmr = {\n",
    "    'feDMR':\n",
    "    '/home/hanliu/ref/inhouse/He_2020_Nature_Mouse_Tissue_Developmental/feDMR_NT_FB_MB_HB.bed',\n",
    "    'adultDMR':\n",
    "    '/home/hanliu/ref/inhouse/Hon_Adult_Mouse_Tissue_DMR/Non-NS.no_overlap_with_NS.mm10.bed'\n",
    "}\n",
    "\n",
    "# atac peaks\n",
    "peak_beds = list(\n",
    "    pathlib.Path('/home/hanliu/project/mouse_rostral_brain/ATAC/peak/').glob(\n",
    "        '*bed'))\n",
    "peak_beds = {'.'.join(p.name.split('.')[:3]): p for p in peak_beds}"
   ]
  },
  {
   "cell_type": "code",
   "execution_count": 6,
   "metadata": {
    "ExecuteTime": {
     "end_time": "2020-01-11T20:24:52.544729Z",
     "start_time": "2020-01-11T20:24:52.542456Z"
    },
    "papermill": {
     "duration": 0.012286,
     "end_time": "2020-01-20T00:57:00.445622",
     "exception": false,
     "start_time": "2020-01-20T00:57:00.433336",
     "status": "completed"
    },
    "tags": []
   },
   "outputs": [],
   "source": [
    "dmr_bed = BedTool(dmr_bed)"
   ]
  },
  {
   "cell_type": "markdown",
   "metadata": {
    "papermill": {
     "duration": 0.007652,
     "end_time": "2020-01-20T00:57:00.461684",
     "exception": false,
     "start_time": "2020-01-20T00:57:00.454032",
     "status": "completed"
    },
    "tags": []
   },
   "source": [
    "## Intersect"
   ]
  },
  {
   "cell_type": "code",
   "execution_count": 7,
   "metadata": {
    "ExecuteTime": {
     "end_time": "2020-01-11T20:25:31.022317Z",
     "start_time": "2020-01-11T20:24:53.219766Z"
    },
    "papermill": {
     "duration": 36.161087,
     "end_time": "2020-01-20T00:57:36.630489",
     "exception": false,
     "start_time": "2020-01-20T00:57:00.469402",
     "status": "completed"
    },
    "scrolled": true,
    "tags": []
   },
   "outputs": [
    {
     "name": "stdout",
     "output_type": "stream",
     "text": [
      "GenomeFeature CGI_promoter\n"
     ]
    },
    {
     "name": "stdout",
     "output_type": "stream",
     "text": [
      "GenomeFeature exon\n"
     ]
    },
    {
     "name": "stdout",
     "output_type": "stream",
     "text": [
      "GenomeFeature exon_first\n"
     ]
    },
    {
     "name": "stdout",
     "output_type": "stream",
     "text": [
      "GenomeFeature gene_all\n"
     ]
    },
    {
     "name": "stdout",
     "output_type": "stream",
     "text": [
      "GenomeFeature gene_lincRNA\n",
      "GenomeFeature gene_protein_coding\n"
     ]
    },
    {
     "name": "stdout",
     "output_type": "stream",
     "text": [
      "GenomeFeature intron\n"
     ]
    },
    {
     "name": "stdout",
     "output_type": "stream",
     "text": [
      "GenomeFeature intron_first\n"
     ]
    },
    {
     "name": "stdout",
     "output_type": "stream",
     "text": [
      "GenomeFeature Non_CGI_promoter\n"
     ]
    },
    {
     "name": "stdout",
     "output_type": "stream",
     "text": [
      "GenomeFeature promoter\n"
     ]
    },
    {
     "name": "stdout",
     "output_type": "stream",
     "text": [
      "GenomeFeature start_codon\n"
     ]
    },
    {
     "name": "stdout",
     "output_type": "stream",
     "text": [
      "GenomeFeature stop_codon\n"
     ]
    },
    {
     "name": "stdout",
     "output_type": "stream",
     "text": [
      "GenomeFeature transcript\n"
     ]
    },
    {
     "name": "stdout",
     "output_type": "stream",
     "text": [
      "GenomeFeature TSS\n"
     ]
    },
    {
     "name": "stdout",
     "output_type": "stream",
     "text": [
      "GenomeFeature UTR3\n"
     ]
    },
    {
     "name": "stdout",
     "output_type": "stream",
     "text": [
      "GenomeFeature UTR5\n"
     ]
    },
    {
     "name": "stdout",
     "output_type": "stream",
     "text": [
      "GenomeFeature CGI\n"
     ]
    },
    {
     "name": "stdout",
     "output_type": "stream",
     "text": [
      "GenomeFeature CGI_Shore\n"
     ]
    },
    {
     "name": "stdout",
     "output_type": "stream",
     "text": [
      "GenomeFeature splicing_site_slop100\n"
     ]
    },
    {
     "name": "stdout",
     "output_type": "stream",
     "text": [
      "GenomeFeature splicing_site_slop1000\n"
     ]
    },
    {
     "name": "stdout",
     "output_type": "stream",
     "text": [
      "TE DNA.DNA\n",
      "TE DNA.MULE-MuDR\n"
     ]
    },
    {
     "name": "stdout",
     "output_type": "stream",
     "text": [
      "TE DNA.MuDR\n",
      "TE DNA.PiggyBac\n"
     ]
    },
    {
     "name": "stdout",
     "output_type": "stream",
     "text": [
      "TE DNA.TcMar\n",
      "TE DNA.TcMar-Mariner\n"
     ]
    },
    {
     "name": "stdout",
     "output_type": "stream",
     "text": [
      "TE DNA.TcMar-Pogo\n",
      "TE DNA.TcMar-Tc2\n"
     ]
    },
    {
     "name": "stdout",
     "output_type": "stream",
     "text": [
      "TE DNA.TcMar-Tigger\n",
      "TE DNA.hAT\n"
     ]
    },
    {
     "name": "stdout",
     "output_type": "stream",
     "text": [
      "TE DNA.hAT-Blackjack\n"
     ]
    },
    {
     "name": "stdout",
     "output_type": "stream",
     "text": [
      "TE DNA.hAT-Charlie\n"
     ]
    },
    {
     "name": "stdout",
     "output_type": "stream",
     "text": [
      "TE DNA.hAT-Tip100\n",
      "TE LINE.CR1\n"
     ]
    },
    {
     "name": "stdout",
     "output_type": "stream",
     "text": [
      "TE LINE.Dong-R4\n",
      "TE LINE.L1\n"
     ]
    },
    {
     "name": "stdout",
     "output_type": "stream",
     "text": [
      "TE LINE.L2\n"
     ]
    },
    {
     "name": "stdout",
     "output_type": "stream",
     "text": [
      "TE LINE.RTE-BovB\n",
      "TE LINE.RTE-X\n"
     ]
    },
    {
     "name": "stdout",
     "output_type": "stream",
     "text": [
      "TE LTR.ERV1\n"
     ]
    },
    {
     "name": "stdout",
     "output_type": "stream",
     "text": [
      "TE LTR.ERVK\n"
     ]
    },
    {
     "name": "stdout",
     "output_type": "stream",
     "text": [
      "TE LTR.ERVL\n"
     ]
    },
    {
     "name": "stdout",
     "output_type": "stream",
     "text": [
      "TE LTR.ERVL-MaLR\n"
     ]
    },
    {
     "name": "stdout",
     "output_type": "stream",
     "text": [
      "TE LTR.Gypsy\n",
      "TE LTR.LTR\n"
     ]
    },
    {
     "name": "stdout",
     "output_type": "stream",
     "text": [
      "TE SINE.Alu\n"
     ]
    },
    {
     "name": "stdout",
     "output_type": "stream",
     "text": [
      "TE SINE.B2\n"
     ]
    },
    {
     "name": "stdout",
     "output_type": "stream",
     "text": [
      "TE SINE.B4\n"
     ]
    },
    {
     "name": "stdout",
     "output_type": "stream",
     "text": [
      "TE SINE.Deu\n",
      "TE SINE.ID\n"
     ]
    },
    {
     "name": "stdout",
     "output_type": "stream",
     "text": [
      "TE SINE.MIR\n"
     ]
    },
    {
     "name": "stdout",
     "output_type": "stream",
     "text": [
      "TE SINE.tRNA\n",
      "BulkDMR feDMR\n"
     ]
    },
    {
     "name": "stdout",
     "output_type": "stream",
     "text": [
      "BulkDMR adultDMR\n"
     ]
    },
    {
     "name": "stdout",
     "output_type": "stream",
     "text": [
      "ATACPeak GABA.CRc.CRc\n"
     ]
    },
    {
     "name": "stdout",
     "output_type": "stream",
     "text": [
      "ATACPeak GABA.Cge.Cge3\n"
     ]
    },
    {
     "name": "stdout",
     "output_type": "stream",
     "text": [
      "ATACPeak GABA.Cge.Cge5\n"
     ]
    },
    {
     "name": "stdout",
     "output_type": "stream",
     "text": [
      "ATACPeak GABA.Cge.Cge6\n"
     ]
    },
    {
     "name": "stdout",
     "output_type": "stream",
     "text": [
      "ATACPeak GABA.Cge.CgeHip\n"
     ]
    },
    {
     "name": "stdout",
     "output_type": "stream",
     "text": [
      "ATACPeak GABA.Cge.Lamp5\n"
     ]
    },
    {
     "name": "stdout",
     "output_type": "stream",
     "text": [
      "ATACPeak GABA.Cge.Vip\n"
     ]
    },
    {
     "name": "stdout",
     "output_type": "stream",
     "text": [
      "ATACPeak GABA.Hip.Hip\n"
     ]
    },
    {
     "name": "stdout",
     "output_type": "stream",
     "text": [
      "ATACPeak GABA.Mge.Mge1\n"
     ]
    },
    {
     "name": "stdout",
     "output_type": "stream",
     "text": [
      "ATACPeak GABA.Mge.Mge2\n"
     ]
    },
    {
     "name": "stdout",
     "output_type": "stream",
     "text": [
      "ATACPeak GABA.Mge.Mge3\n"
     ]
    },
    {
     "name": "stdout",
     "output_type": "stream",
     "text": [
      "ATACPeak GABA.Mge.Mge4\n"
     ]
    },
    {
     "name": "stdout",
     "output_type": "stream",
     "text": [
      "ATACPeak GABA.Mge.Mge5\n"
     ]
    },
    {
     "name": "stdout",
     "output_type": "stream",
     "text": [
      "ATACPeak GABA.Mge.Mge6\n"
     ]
    },
    {
     "name": "stdout",
     "output_type": "stream",
     "text": [
      "ATACPeak GABA.Mge.Mge7\n"
     ]
    },
    {
     "name": "stdout",
     "output_type": "stream",
     "text": [
      "ATACPeak GABA.Mge.Mge8\n"
     ]
    },
    {
     "name": "stdout",
     "output_type": "stream",
     "text": [
      "ATACPeak GABA.Mge.Mge9\n"
     ]
    },
    {
     "name": "stdout",
     "output_type": "stream",
     "text": [
      "ATACPeak GABA.Mge.Mge10\n"
     ]
    },
    {
     "name": "stdout",
     "output_type": "stream",
     "text": [
      "ATACPeak GABA.Mge.Mge11\n"
     ]
    },
    {
     "name": "stdout",
     "output_type": "stream",
     "text": [
      "ATACPeak GABA.Mge.Mge12\n"
     ]
    },
    {
     "name": "stdout",
     "output_type": "stream",
     "text": [
      "ATACPeak GABA.Msn.D1\n"
     ]
    },
    {
     "name": "stdout",
     "output_type": "stream",
     "text": [
      "ATACPeak GABA.Msn.D2\n"
     ]
    },
    {
     "name": "stdout",
     "output_type": "stream",
     "text": [
      "ATACPeak GABA.Msn.Foxp2\n"
     ]
    },
    {
     "name": "stdout",
     "output_type": "stream",
     "text": [
      "ATACPeak GABA.Msn.MSNOLF\n"
     ]
    },
    {
     "name": "stdout",
     "output_type": "stream",
     "text": [
      "ATACPeak GABA.Mxd1.Mxd1\n"
     ]
    },
    {
     "name": "stdout",
     "output_type": "stream",
     "text": [
      "ATACPeak GABA.Olf.OBDOP\n",
      "ATACPeak GABA.Olf.OBGC\n"
     ]
    },
    {
     "name": "stdout",
     "output_type": "stream",
     "text": [
      "ATACPeak GABA.Olf.OBGLO\n",
      "ATACPeak GABA.Olf.OBIGC\n"
     ]
    },
    {
     "name": "stdout",
     "output_type": "stream",
     "text": [
      "ATACPeak GABA.Olf.OBNBL\n"
     ]
    },
    {
     "name": "stdout",
     "output_type": "stream",
     "text": [
      "ATACPeak GABA.Sept.LSX\n"
     ]
    },
    {
     "name": "stdout",
     "output_type": "stream",
     "text": [
      "ATACPeak GABA.Sept.MA\n"
     ]
    },
    {
     "name": "stdout",
     "output_type": "stream",
     "text": [
      "ATACPeak GABA.Sept.MS\n"
     ]
    },
    {
     "name": "stdout",
     "output_type": "stream",
     "text": [
      "ATACPeak GABA.Sept.Sept1\n"
     ]
    },
    {
     "name": "stdout",
     "output_type": "stream",
     "text": [
      "ATACPeak GABA.Unk.Unk\n",
      "ATACPeak Glutamate.GC.GC\n"
     ]
    },
    {
     "name": "stdout",
     "output_type": "stream",
     "text": [
      "ATACPeak NonN.Asc.AscNt\n"
     ]
    },
    {
     "name": "stdout",
     "output_type": "stream",
     "text": [
      "ATACPeak NonN.Asc.AscT\n"
     ]
    },
    {
     "name": "stdout",
     "output_type": "stream",
     "text": [
      "ATACPeak NonN.Asc.RGDG\n"
     ]
    },
    {
     "name": "stdout",
     "output_type": "stream",
     "text": [
      "ATACPeak NonN.Mgc.Mgc\n"
     ]
    },
    {
     "name": "stdout",
     "output_type": "stream",
     "text": [
      "ATACPeak NonN.Ogc.Mfol\n"
     ]
    },
    {
     "name": "stdout",
     "output_type": "stream",
     "text": [
      "ATACPeak NonN.Ogc.Mol\n"
     ]
    },
    {
     "name": "stdout",
     "output_type": "stream",
     "text": [
      "ATACPeak NonN.Opc.Opc\n"
     ]
    },
    {
     "name": "stdout",
     "output_type": "stream",
     "text": [
      "ATACPeak NonN.Vc.Vec1\n"
     ]
    },
    {
     "name": "stdout",
     "output_type": "stream",
     "text": [
      "ATACPeak NonN.Vc.Vec3\n"
     ]
    },
    {
     "name": "stdout",
     "output_type": "stream",
     "text": [
      "ATACPeak NonN.Vc.Vec5\n"
     ]
    },
    {
     "name": "stdout",
     "output_type": "stream",
     "text": [
      "ATACPeak NonN.Vc.Vlmc\n"
     ]
    },
    {
     "name": "stdout",
     "output_type": "stream",
     "text": [
      "ATACPeak NonN.Vc.Vpia\n"
     ]
    },
    {
     "name": "stdout",
     "output_type": "stream",
     "text": [
      "ATACPeak Glutamate.CLA.CLA\n"
     ]
    },
    {
     "name": "stdout",
     "output_type": "stream",
     "text": [
      "ATACPeak Glutamate.CT.CT1\n"
     ]
    },
    {
     "name": "stdout",
     "output_type": "stream",
     "text": [
      "ATACPeak Glutamate.CT.CT2\n"
     ]
    },
    {
     "name": "stdout",
     "output_type": "stream",
     "text": [
      "ATACPeak Glutamate.CT.L6b\n"
     ]
    },
    {
     "name": "stdout",
     "output_type": "stream",
     "text": [
      "ATACPeak Glutamate.HIP.CA1\n"
     ]
    },
    {
     "name": "stdout",
     "output_type": "stream",
     "text": [
      "ATACPeak Glutamate.HIP.CA1p\n"
     ]
    },
    {
     "name": "stdout",
     "output_type": "stream",
     "text": [
      "ATACPeak Glutamate.HIP.CA2\n"
     ]
    },
    {
     "name": "stdout",
     "output_type": "stream",
     "text": [
      "ATACPeak Glutamate.HIP.CA3\n"
     ]
    },
    {
     "name": "stdout",
     "output_type": "stream",
     "text": [
      "ATACPeak Glutamate.HIP.CA4\n"
     ]
    },
    {
     "name": "stdout",
     "output_type": "stream",
     "text": [
      "ATACPeak Glutamate.HIP.CRc\n"
     ]
    },
    {
     "name": "stdout",
     "output_type": "stream",
     "text": [
      "ATACPeak Glutamate.HIP.Mossy\n"
     ]
    },
    {
     "name": "stdout",
     "output_type": "stream",
     "text": [
      "ATACPeak Glutamate.HIP.NBL\n"
     ]
    },
    {
     "name": "stdout",
     "output_type": "stream",
     "text": [
      "ATACPeak Glutamate.HIP.unk1\n"
     ]
    },
    {
     "name": "stdout",
     "output_type": "stream",
     "text": [
      "ATACPeak Glutamate.HIP.unk2\n",
      "ATACPeak Glutamate.IT.L4\n"
     ]
    },
    {
     "name": "stdout",
     "output_type": "stream",
     "text": [
      "ATACPeak Glutamate.IT.L5\n"
     ]
    },
    {
     "name": "stdout",
     "output_type": "stream",
     "text": [
      "ATACPeak Glutamate.IT.L6\n"
     ]
    },
    {
     "name": "stdout",
     "output_type": "stream",
     "text": [
      "ATACPeak Glutamate.IT.L23\n"
     ]
    },
    {
     "name": "stdout",
     "output_type": "stream",
     "text": [
      "ATACPeak Glutamate.NP.NP1\n"
     ]
    },
    {
     "name": "stdout",
     "output_type": "stream",
     "text": [
      "ATACPeak Glutamate.NP.NP2\n"
     ]
    },
    {
     "name": "stdout",
     "output_type": "stream",
     "text": [
      "ATACPeak Glutamate.NP.NPHIP\n",
      "ATACPeak Glutamate.PIR.OLFdeep\n"
     ]
    },
    {
     "name": "stdout",
     "output_type": "stream",
     "text": [
      "ATACPeak Glutamate.PIR.Pir1\n"
     ]
    },
    {
     "name": "stdout",
     "output_type": "stream",
     "text": [
      "ATACPeak Glutamate.PIR.Pir2\n"
     ]
    },
    {
     "name": "stdout",
     "output_type": "stream",
     "text": [
      "ATACPeak Glutamate.PIR.Pir3\n"
     ]
    },
    {
     "name": "stdout",
     "output_type": "stream",
     "text": [
      "ATACPeak Glutamate.PIR.Pir4\n"
     ]
    },
    {
     "name": "stdout",
     "output_type": "stream",
     "text": [
      "ATACPeak Glutamate.PT.Pt\n"
     ]
    },
    {
     "name": "stdout",
     "output_type": "stream",
     "text": [
      "ATACPeak Glutamate.PT.Ptlsx\n"
     ]
    },
    {
     "name": "stdout",
     "output_type": "stream",
     "text": [
      "ATACPeak NonN.Asc.Myoc\n"
     ]
    },
    {
     "name": "stdout",
     "output_type": "stream",
     "text": [
      "ATACPeak NonN.Asc.NIPC\n"
     ]
    },
    {
     "name": "stdout",
     "output_type": "stream",
     "text": [
      "ATACPeak NonN.Asc.RGSZ\n"
     ]
    },
    {
     "name": "stdout",
     "output_type": "stream",
     "text": [
      "ATACPeak NonN.Ogc.Cop\n"
     ]
    },
    {
     "name": "stdout",
     "output_type": "stream",
     "text": [
      "ATACPeak NonN.Ogc.Nfol\n"
     ]
    },
    {
     "name": "stdout",
     "output_type": "stream",
     "text": [
      "ATACPeak NonN.Vc.Per\n"
     ]
    },
    {
     "name": "stdout",
     "output_type": "stream",
     "text": [
      "ATACPeak NonN.Vc.Vec2\n"
     ]
    },
    {
     "name": "stdout",
     "output_type": "stream",
     "text": [
      "ATACPeak NonN.Vc.Vec4\n"
     ]
    },
    {
     "name": "stdout",
     "output_type": "stream",
     "text": [
      "ATACPeak rs1atac.merged.reproduced\n"
     ]
    }
   ],
   "source": [
    "dicts = {\n",
    "    'GenomeFeature': genome_features,\n",
    "    'TE': te_beds,\n",
    "    'BulkDMR': bulk_dmr,\n",
    "    'ATACPeak': peak_beds\n",
    "}\n",
    "\n",
    "for name, path_dict in dicts.items():\n",
    "    _output_dir = pathlib.Path(output_dir) / name\n",
    "    pathlib.Path(_output_dir).mkdir(exist_ok=True, parents=True)\n",
    "    \n",
    "    for fname, path in path_dict.items():\n",
    "        print(name, fname)\n",
    "        this_bed = BedTool(str(path))\n",
    "        dmr_bed.intersect(this_bed, wa=True, u=True).saveas(f'{_output_dir}/{fname}.bed')\n"
   ]
  },
  {
   "cell_type": "markdown",
   "metadata": {
    "papermill": {
     "duration": 0.030242,
     "end_time": "2020-01-20T00:57:36.692123",
     "exception": false,
     "start_time": "2020-01-20T00:57:36.661881",
     "status": "completed"
    },
    "tags": []
   },
   "source": [
    "## Reverse intersect"
   ]
  },
  {
   "cell_type": "code",
   "execution_count": 8,
   "metadata": {
    "papermill": {
     "duration": 0.035809,
     "end_time": "2020-01-20T00:57:36.758227",
     "exception": false,
     "start_time": "2020-01-20T00:57:36.722418",
     "status": "completed"
    },
    "tags": []
   },
   "outputs": [],
   "source": [
    "# dicts = {\n",
    "#     'GenomeFeature': genome_features,\n",
    "#     'TE': te_beds,\n",
    "#     'BulkDMR': bulk_dmr,\n",
    "#     'ATACPeak': peak_beds\n",
    "# }\n",
    "# \n",
    "# for name, path_dict in dicts.items():\n",
    "#     output_dir = f'reverse_intersect/{name}'\n",
    "#     pathlib.Path(output_dir).mkdir(exist_ok=True)\n",
    "#     \n",
    "#     for fname, path in path_dict.items():\n",
    "#         print(name, fname)\n",
    "#         this_bed = BedTool(str(path))\n",
    "#         this_bed.intersect(dmr_bed, wa=True, u=True).saveas(f'{output_dir}/{fname}.bed')\n",
    "# "
   ]
  },
  {
   "cell_type": "markdown",
   "metadata": {
    "papermill": {
     "duration": 0.031431,
     "end_time": "2020-01-20T00:57:36.820660",
     "exception": false,
     "start_time": "2020-01-20T00:57:36.789229",
     "status": "completed"
    },
    "tags": []
   },
   "source": [
    "## Assemble Adata\n",
    "- Genome features, ATAC Peak in each cell type, motif hits, bulk dmrs, TEs\n"
   ]
  },
  {
   "cell_type": "code",
   "execution_count": 9,
   "metadata": {
    "ExecuteTime": {
     "end_time": "2020-01-11T20:25:38.359464Z",
     "start_time": "2020-01-11T20:25:38.104344Z"
    },
    "papermill": {
     "duration": 0.307255,
     "end_time": "2020-01-20T00:57:37.158783",
     "exception": false,
     "start_time": "2020-01-20T00:57:36.851528",
     "status": "completed"
    },
    "tags": []
   },
   "outputs": [],
   "source": [
    "dmr_bed_df = dmr_bed.to_dataframe()\n",
    "dmr_int_map = {v: k for k, v in dmr_bed_df['name'].items()}"
   ]
  },
  {
   "cell_type": "code",
   "execution_count": 10,
   "metadata": {
    "ExecuteTime": {
     "end_time": "2020-01-11T20:26:27.620094Z",
     "start_time": "2020-01-11T20:26:27.614672Z"
    },
    "papermill": {
     "duration": 0.038123,
     "end_time": "2020-01-20T00:57:37.228144",
     "exception": false,
     "start_time": "2020-01-20T00:57:37.190021",
     "status": "completed"
    },
    "tags": []
   },
   "outputs": [],
   "source": [
    "beds = {}\n",
    "for name in dicts.keys():\n",
    "    paths = (pathlib.Path(output_dir) / name).glob('*bed')\n",
    "    for p in paths:\n",
    "        pname = p.name[:-4]\n",
    "        beds[pname] = str(p)"
   ]
  },
  {
   "cell_type": "code",
   "execution_count": 11,
   "metadata": {
    "ExecuteTime": {
     "end_time": "2020-01-11T20:27:21.181410Z",
     "start_time": "2020-01-11T20:26:28.627184Z"
    },
    "papermill": {
     "duration": 39.594994,
     "end_time": "2020-01-20T00:58:16.852922",
     "exception": false,
     "start_time": "2020-01-20T00:57:37.257928",
     "status": "completed"
    },
    "scrolled": true,
    "tags": []
   },
   "outputs": [
    {
     "name": "stdout",
     "output_type": "stream",
     "text": [
      "CGI_promoter\n"
     ]
    },
    {
     "name": "stdout",
     "output_type": "stream",
     "text": [
      "exon\n"
     ]
    },
    {
     "name": "stdout",
     "output_type": "stream",
     "text": [
      "exon_first\n"
     ]
    },
    {
     "name": "stdout",
     "output_type": "stream",
     "text": [
      "gene_all\n"
     ]
    },
    {
     "name": "stdout",
     "output_type": "stream",
     "text": [
      "gene_lincRNA\n"
     ]
    },
    {
     "name": "stdout",
     "output_type": "stream",
     "text": [
      "gene_protein_coding\n"
     ]
    },
    {
     "name": "stdout",
     "output_type": "stream",
     "text": [
      "intron\n"
     ]
    },
    {
     "name": "stdout",
     "output_type": "stream",
     "text": [
      "intron_first\n"
     ]
    },
    {
     "name": "stdout",
     "output_type": "stream",
     "text": [
      "Non_CGI_promoter\n"
     ]
    },
    {
     "name": "stdout",
     "output_type": "stream",
     "text": [
      "promoter\n"
     ]
    },
    {
     "name": "stdout",
     "output_type": "stream",
     "text": [
      "start_codon\n"
     ]
    },
    {
     "name": "stdout",
     "output_type": "stream",
     "text": [
      "stop_codon\n"
     ]
    },
    {
     "name": "stdout",
     "output_type": "stream",
     "text": [
      "transcript\n"
     ]
    },
    {
     "name": "stdout",
     "output_type": "stream",
     "text": [
      "TSS\n"
     ]
    },
    {
     "name": "stdout",
     "output_type": "stream",
     "text": [
      "UTR3\n"
     ]
    },
    {
     "name": "stdout",
     "output_type": "stream",
     "text": [
      "UTR5\n"
     ]
    },
    {
     "name": "stdout",
     "output_type": "stream",
     "text": [
      "CGI\n"
     ]
    },
    {
     "name": "stdout",
     "output_type": "stream",
     "text": [
      "CGI_Shore\n"
     ]
    },
    {
     "name": "stdout",
     "output_type": "stream",
     "text": [
      "splicing_site_slop100\n"
     ]
    },
    {
     "name": "stdout",
     "output_type": "stream",
     "text": [
      "splicing_site_slop1000\n"
     ]
    },
    {
     "name": "stdout",
     "output_type": "stream",
     "text": [
      "DNA.DNA\n"
     ]
    },
    {
     "name": "stdout",
     "output_type": "stream",
     "text": [
      "DNA.MULE-MuDR\n",
      "DNA.MuDR\n"
     ]
    },
    {
     "name": "stdout",
     "output_type": "stream",
     "text": [
      "DNA.PiggyBac\n"
     ]
    },
    {
     "name": "stdout",
     "output_type": "stream",
     "text": [
      "DNA.TcMar\n"
     ]
    },
    {
     "name": "stdout",
     "output_type": "stream",
     "text": [
      "DNA.TcMar-Mariner\n"
     ]
    },
    {
     "name": "stdout",
     "output_type": "stream",
     "text": [
      "DNA.TcMar-Pogo\n",
      "DNA.TcMar-Tc2\n"
     ]
    },
    {
     "name": "stdout",
     "output_type": "stream",
     "text": [
      "DNA.TcMar-Tigger\n"
     ]
    },
    {
     "name": "stdout",
     "output_type": "stream",
     "text": [
      "DNA.hAT\n"
     ]
    },
    {
     "name": "stdout",
     "output_type": "stream",
     "text": [
      "DNA.hAT-Blackjack\n"
     ]
    },
    {
     "name": "stdout",
     "output_type": "stream",
     "text": [
      "DNA.hAT-Charlie\n"
     ]
    },
    {
     "name": "stdout",
     "output_type": "stream",
     "text": [
      "DNA.hAT-Tip100\n"
     ]
    },
    {
     "name": "stdout",
     "output_type": "stream",
     "text": [
      "LINE.CR1\n"
     ]
    },
    {
     "name": "stdout",
     "output_type": "stream",
     "text": [
      "LINE.Dong-R4\n"
     ]
    },
    {
     "name": "stdout",
     "output_type": "stream",
     "text": [
      "LINE.L1\n"
     ]
    },
    {
     "name": "stdout",
     "output_type": "stream",
     "text": [
      "LINE.L2\n"
     ]
    },
    {
     "name": "stdout",
     "output_type": "stream",
     "text": [
      "LINE.RTE-BovB\n"
     ]
    },
    {
     "name": "stdout",
     "output_type": "stream",
     "text": [
      "LINE.RTE-X\n"
     ]
    },
    {
     "name": "stdout",
     "output_type": "stream",
     "text": [
      "LTR.ERV1\n"
     ]
    },
    {
     "name": "stdout",
     "output_type": "stream",
     "text": [
      "LTR.ERVK\n"
     ]
    },
    {
     "name": "stdout",
     "output_type": "stream",
     "text": [
      "LTR.ERVL\n"
     ]
    },
    {
     "name": "stdout",
     "output_type": "stream",
     "text": [
      "LTR.ERVL-MaLR\n"
     ]
    },
    {
     "name": "stdout",
     "output_type": "stream",
     "text": [
      "LTR.Gypsy\n"
     ]
    },
    {
     "name": "stdout",
     "output_type": "stream",
     "text": [
      "LTR.LTR\n"
     ]
    },
    {
     "name": "stdout",
     "output_type": "stream",
     "text": [
      "SINE.Alu\n"
     ]
    },
    {
     "name": "stdout",
     "output_type": "stream",
     "text": [
      "SINE.B2\n"
     ]
    },
    {
     "name": "stdout",
     "output_type": "stream",
     "text": [
      "SINE.B4\n"
     ]
    },
    {
     "name": "stdout",
     "output_type": "stream",
     "text": [
      "SINE.Deu\n"
     ]
    },
    {
     "name": "stdout",
     "output_type": "stream",
     "text": [
      "SINE.ID\n"
     ]
    },
    {
     "name": "stdout",
     "output_type": "stream",
     "text": [
      "SINE.MIR\n"
     ]
    },
    {
     "name": "stdout",
     "output_type": "stream",
     "text": [
      "SINE.tRNA\n"
     ]
    },
    {
     "name": "stdout",
     "output_type": "stream",
     "text": [
      "feDMR\n"
     ]
    },
    {
     "name": "stdout",
     "output_type": "stream",
     "text": [
      "adultDMR\n"
     ]
    },
    {
     "name": "stdout",
     "output_type": "stream",
     "text": [
      "GABA.CRc.CRc\n"
     ]
    },
    {
     "name": "stdout",
     "output_type": "stream",
     "text": [
      "GABA.Cge.Cge3\n"
     ]
    },
    {
     "name": "stdout",
     "output_type": "stream",
     "text": [
      "GABA.Cge.Cge5\n"
     ]
    },
    {
     "name": "stdout",
     "output_type": "stream",
     "text": [
      "GABA.Cge.Cge6\n"
     ]
    },
    {
     "name": "stdout",
     "output_type": "stream",
     "text": [
      "GABA.Cge.CgeHip\n"
     ]
    },
    {
     "name": "stdout",
     "output_type": "stream",
     "text": [
      "GABA.Cge.Lamp5\n"
     ]
    },
    {
     "name": "stdout",
     "output_type": "stream",
     "text": [
      "GABA.Cge.Vip\n"
     ]
    },
    {
     "name": "stdout",
     "output_type": "stream",
     "text": [
      "GABA.Hip.Hip\n"
     ]
    },
    {
     "name": "stdout",
     "output_type": "stream",
     "text": [
      "GABA.Mge.Mge1\n"
     ]
    },
    {
     "name": "stdout",
     "output_type": "stream",
     "text": [
      "GABA.Mge.Mge2\n"
     ]
    },
    {
     "name": "stdout",
     "output_type": "stream",
     "text": [
      "GABA.Mge.Mge3\n"
     ]
    },
    {
     "name": "stdout",
     "output_type": "stream",
     "text": [
      "GABA.Mge.Mge4\n"
     ]
    },
    {
     "name": "stdout",
     "output_type": "stream",
     "text": [
      "GABA.Mge.Mge5\n"
     ]
    },
    {
     "name": "stdout",
     "output_type": "stream",
     "text": [
      "GABA.Mge.Mge6\n"
     ]
    },
    {
     "name": "stdout",
     "output_type": "stream",
     "text": [
      "GABA.Mge.Mge7\n"
     ]
    },
    {
     "name": "stdout",
     "output_type": "stream",
     "text": [
      "GABA.Mge.Mge8\n"
     ]
    },
    {
     "name": "stdout",
     "output_type": "stream",
     "text": [
      "GABA.Mge.Mge9\n"
     ]
    },
    {
     "name": "stdout",
     "output_type": "stream",
     "text": [
      "GABA.Mge.Mge10\n"
     ]
    },
    {
     "name": "stdout",
     "output_type": "stream",
     "text": [
      "GABA.Mge.Mge11\n"
     ]
    },
    {
     "name": "stdout",
     "output_type": "stream",
     "text": [
      "GABA.Mge.Mge12\n"
     ]
    },
    {
     "name": "stdout",
     "output_type": "stream",
     "text": [
      "GABA.Msn.D1\n"
     ]
    },
    {
     "name": "stdout",
     "output_type": "stream",
     "text": [
      "GABA.Msn.D2\n"
     ]
    },
    {
     "name": "stdout",
     "output_type": "stream",
     "text": [
      "GABA.Msn.Foxp2\n"
     ]
    },
    {
     "name": "stdout",
     "output_type": "stream",
     "text": [
      "GABA.Msn.MSNOLF\n"
     ]
    },
    {
     "name": "stdout",
     "output_type": "stream",
     "text": [
      "GABA.Mxd1.Mxd1\n"
     ]
    },
    {
     "name": "stdout",
     "output_type": "stream",
     "text": [
      "GABA.Olf.OBDOP\n"
     ]
    },
    {
     "name": "stdout",
     "output_type": "stream",
     "text": [
      "GABA.Olf.OBGC\n"
     ]
    },
    {
     "name": "stdout",
     "output_type": "stream",
     "text": [
      "GABA.Olf.OBGLO\n"
     ]
    },
    {
     "name": "stdout",
     "output_type": "stream",
     "text": [
      "GABA.Olf.OBIGC\n"
     ]
    },
    {
     "name": "stdout",
     "output_type": "stream",
     "text": [
      "GABA.Olf.OBNBL\n"
     ]
    },
    {
     "name": "stdout",
     "output_type": "stream",
     "text": [
      "GABA.Sept.LSX\n"
     ]
    },
    {
     "name": "stdout",
     "output_type": "stream",
     "text": [
      "GABA.Sept.MA\n"
     ]
    },
    {
     "name": "stdout",
     "output_type": "stream",
     "text": [
      "GABA.Sept.MS\n"
     ]
    },
    {
     "name": "stdout",
     "output_type": "stream",
     "text": [
      "GABA.Sept.Sept1\n"
     ]
    },
    {
     "name": "stdout",
     "output_type": "stream",
     "text": [
      "GABA.Unk.Unk\n"
     ]
    },
    {
     "name": "stdout",
     "output_type": "stream",
     "text": [
      "Glutamate.GC.GC\n"
     ]
    },
    {
     "name": "stdout",
     "output_type": "stream",
     "text": [
      "NonN.Asc.AscNt\n"
     ]
    },
    {
     "name": "stdout",
     "output_type": "stream",
     "text": [
      "NonN.Asc.AscT\n"
     ]
    },
    {
     "name": "stdout",
     "output_type": "stream",
     "text": [
      "NonN.Asc.RGDG\n"
     ]
    },
    {
     "name": "stdout",
     "output_type": "stream",
     "text": [
      "NonN.Mgc.Mgc\n"
     ]
    },
    {
     "name": "stdout",
     "output_type": "stream",
     "text": [
      "NonN.Ogc.Mfol\n"
     ]
    },
    {
     "name": "stdout",
     "output_type": "stream",
     "text": [
      "NonN.Ogc.Mol\n"
     ]
    },
    {
     "name": "stdout",
     "output_type": "stream",
     "text": [
      "NonN.Opc.Opc\n"
     ]
    },
    {
     "name": "stdout",
     "output_type": "stream",
     "text": [
      "NonN.Vc.Vec1\n"
     ]
    },
    {
     "name": "stdout",
     "output_type": "stream",
     "text": [
      "NonN.Vc.Vec3\n"
     ]
    },
    {
     "name": "stdout",
     "output_type": "stream",
     "text": [
      "NonN.Vc.Vec5\n"
     ]
    },
    {
     "name": "stdout",
     "output_type": "stream",
     "text": [
      "NonN.Vc.Vlmc\n"
     ]
    },
    {
     "name": "stdout",
     "output_type": "stream",
     "text": [
      "NonN.Vc.Vpia\n"
     ]
    },
    {
     "name": "stdout",
     "output_type": "stream",
     "text": [
      "Glutamate.CLA.CLA\n"
     ]
    },
    {
     "name": "stdout",
     "output_type": "stream",
     "text": [
      "Glutamate.CT.CT1\n"
     ]
    },
    {
     "name": "stdout",
     "output_type": "stream",
     "text": [
      "Glutamate.CT.CT2\n"
     ]
    },
    {
     "name": "stdout",
     "output_type": "stream",
     "text": [
      "Glutamate.CT.L6b\n"
     ]
    },
    {
     "name": "stdout",
     "output_type": "stream",
     "text": [
      "Glutamate.HIP.CA1\n"
     ]
    },
    {
     "name": "stdout",
     "output_type": "stream",
     "text": [
      "Glutamate.HIP.CA1p\n"
     ]
    },
    {
     "name": "stdout",
     "output_type": "stream",
     "text": [
      "Glutamate.HIP.CA2\n"
     ]
    },
    {
     "name": "stdout",
     "output_type": "stream",
     "text": [
      "Glutamate.HIP.CA3\n"
     ]
    },
    {
     "name": "stdout",
     "output_type": "stream",
     "text": [
      "Glutamate.HIP.CA4\n"
     ]
    },
    {
     "name": "stdout",
     "output_type": "stream",
     "text": [
      "Glutamate.HIP.CRc\n"
     ]
    },
    {
     "name": "stdout",
     "output_type": "stream",
     "text": [
      "Glutamate.HIP.Mossy\n"
     ]
    },
    {
     "name": "stdout",
     "output_type": "stream",
     "text": [
      "Glutamate.HIP.NBL\n"
     ]
    },
    {
     "name": "stdout",
     "output_type": "stream",
     "text": [
      "Glutamate.HIP.unk1\n"
     ]
    },
    {
     "name": "stdout",
     "output_type": "stream",
     "text": [
      "Glutamate.HIP.unk2\n"
     ]
    },
    {
     "name": "stdout",
     "output_type": "stream",
     "text": [
      "Glutamate.IT.L4\n"
     ]
    },
    {
     "name": "stdout",
     "output_type": "stream",
     "text": [
      "Glutamate.IT.L5\n"
     ]
    },
    {
     "name": "stdout",
     "output_type": "stream",
     "text": [
      "Glutamate.IT.L6\n"
     ]
    },
    {
     "name": "stdout",
     "output_type": "stream",
     "text": [
      "Glutamate.IT.L23\n"
     ]
    },
    {
     "name": "stdout",
     "output_type": "stream",
     "text": [
      "Glutamate.NP.NP1\n"
     ]
    },
    {
     "name": "stdout",
     "output_type": "stream",
     "text": [
      "Glutamate.NP.NP2\n"
     ]
    },
    {
     "name": "stdout",
     "output_type": "stream",
     "text": [
      "Glutamate.NP.NPHIP\n"
     ]
    },
    {
     "name": "stdout",
     "output_type": "stream",
     "text": [
      "Glutamate.PIR.OLFdeep\n"
     ]
    },
    {
     "name": "stdout",
     "output_type": "stream",
     "text": [
      "Glutamate.PIR.Pir1\n"
     ]
    },
    {
     "name": "stdout",
     "output_type": "stream",
     "text": [
      "Glutamate.PIR.Pir2\n"
     ]
    },
    {
     "name": "stdout",
     "output_type": "stream",
     "text": [
      "Glutamate.PIR.Pir3\n"
     ]
    },
    {
     "name": "stdout",
     "output_type": "stream",
     "text": [
      "Glutamate.PIR.Pir4\n"
     ]
    },
    {
     "name": "stdout",
     "output_type": "stream",
     "text": [
      "Glutamate.PT.Pt\n"
     ]
    },
    {
     "name": "stdout",
     "output_type": "stream",
     "text": [
      "Glutamate.PT.Ptlsx\n"
     ]
    },
    {
     "name": "stdout",
     "output_type": "stream",
     "text": [
      "NonN.Asc.Myoc\n"
     ]
    },
    {
     "name": "stdout",
     "output_type": "stream",
     "text": [
      "NonN.Asc.NIPC\n"
     ]
    },
    {
     "name": "stdout",
     "output_type": "stream",
     "text": [
      "NonN.Asc.RGSZ\n"
     ]
    },
    {
     "name": "stdout",
     "output_type": "stream",
     "text": [
      "NonN.Ogc.Cop\n"
     ]
    },
    {
     "name": "stdout",
     "output_type": "stream",
     "text": [
      "NonN.Ogc.Nfol\n"
     ]
    },
    {
     "name": "stdout",
     "output_type": "stream",
     "text": [
      "NonN.Vc.Per\n"
     ]
    },
    {
     "name": "stdout",
     "output_type": "stream",
     "text": [
      "NonN.Vc.Vec2\n"
     ]
    },
    {
     "name": "stdout",
     "output_type": "stream",
     "text": [
      "NonN.Vc.Vec4\n"
     ]
    },
    {
     "name": "stdout",
     "output_type": "stream",
     "text": [
      "rs1atac.merged.reproduced\n"
     ]
    }
   ],
   "source": [
    "names_int_map = {}\n",
    "xs = []\n",
    "ys = []\n",
    "datas = []\n",
    "for i, (name, bed) in enumerate(beds.items()):\n",
    "    print(name)\n",
    "    names_int_map[name] = i\n",
    "    try:\n",
    "        bed_df = pd.read_csv(bed, header=None, sep='\\t', index_col=-1)\n",
    "    except pd.errors.EmptyDataError:\n",
    "        continue\n",
    "    n = bed_df.shape[0]\n",
    "    xs.append(bed_df.index.map(dmr_int_map).values)\n",
    "    ys.append(np.array([i] * n))\n",
    "    datas.append(np.array([True] * n))"
   ]
  },
  {
   "cell_type": "code",
   "execution_count": 12,
   "metadata": {
    "ExecuteTime": {
     "end_time": "2020-01-11T20:27:24.183669Z",
     "start_time": "2020-01-11T20:27:23.790923Z"
    },
    "papermill": {
     "duration": 0.443611,
     "end_time": "2020-01-20T00:58:17.354004",
     "exception": false,
     "start_time": "2020-01-20T00:58:16.910393",
     "status": "completed"
    },
    "tags": []
   },
   "outputs": [],
   "source": [
    "csr = coo_matrix((np.concatenate(datas), \n",
    "                  (np.concatenate(xs), \n",
    "                   np.concatenate(ys))), \n",
    "                 shape=(len(dmr_int_map), \n",
    "                        len(names_int_map)))\\\n",
    ".tocsr()\n",
    "\n",
    "feature_adata = anndata.AnnData(X=csr, \n",
    "                                obs=pd.DataFrame([], index=pd.Series(dmr_int_map).sort_values().index),\n",
    "                                var=pd.DataFrame([], index=pd.Series(names_int_map).sort_values().index))\n"
   ]
  },
  {
   "cell_type": "code",
   "execution_count": 13,
   "metadata": {
    "ExecuteTime": {
     "end_time": "2020-01-11T20:27:30.918484Z",
     "start_time": "2020-01-11T20:27:30.895181Z"
    },
    "papermill": {
     "duration": 0.072318,
     "end_time": "2020-01-20T00:58:17.484148",
     "exception": false,
     "start_time": "2020-01-20T00:58:17.411830",
     "status": "completed"
    },
    "tags": []
   },
   "outputs": [],
   "source": [
    "feature_annot = {\n",
    "    'CGI_promoter': 'GenomeFeature',\n",
    "    'exon': 'GenomeFeature',\n",
    "    'exon_first': 'GenomeFeature',\n",
    "    'gene_all': 'GenomeFeature',\n",
    "    'gene_lincRNA': 'GenomeFeature',\n",
    "    'gene_protein_coding': 'GenomeFeature',\n",
    "    'intron': 'GenomeFeature',\n",
    "    'intron_first': 'GenomeFeature',\n",
    "    'Non_CGI_promoter': 'GenomeFeature',\n",
    "    'promoter': 'GenomeFeature',\n",
    "    'start_codon': 'GenomeFeature',\n",
    "    'stop_codon': 'GenomeFeature',\n",
    "    'transcript': 'GenomeFeature',\n",
    "    'TSS': 'GenomeFeature',\n",
    "    'UTR3': 'GenomeFeature',\n",
    "    'UTR5': 'GenomeFeature',\n",
    "    'CGI': 'GenomeFeature',\n",
    "    'CGI_Shore': 'GenomeFeature',\n",
    "    'splicing_site_slop100': 'GenomeFeature',\n",
    "    'splicing_site_slop1000': 'GenomeFeature',\n",
    "    'DNA.DNA': 'TE-DNA',\n",
    "    'DNA.MULE-MuDR': 'TE-DNA',\n",
    "    'DNA.MuDR': 'TE-DNA',\n",
    "    'DNA.PiggyBac': 'TE-DNA',\n",
    "    'DNA.TcMar': 'TE-DNA',\n",
    "    'DNA.TcMar-Mariner': 'TE-DNA',\n",
    "    'DNA.TcMar-Pogo': 'TE-DNA',\n",
    "    'DNA.TcMar-Tc2': 'TE-DNA',\n",
    "    'DNA.TcMar-Tigger': 'TE-DNA',\n",
    "    'DNA.hAT': 'TE-DNA',\n",
    "    'DNA.hAT-Blackjack': 'TE-DNA',\n",
    "    'DNA.hAT-Charlie': 'TE-DNA',\n",
    "    'DNA.hAT-Tip100': 'TE-DNA',\n",
    "    'LINE.CR1': 'TE-LINE',\n",
    "    'LINE.Dong-R4': 'TE-LINE',\n",
    "    'LINE.L1': 'TE-LINE',\n",
    "    'LINE.L2': 'TE-LINE',\n",
    "    'LINE.RTE-BovB': 'TE-LINE',\n",
    "    'LINE.RTE-X': 'TE-LINE',\n",
    "    'LTR.ERV1': 'TE-LTR',\n",
    "    'LTR.ERVK': 'TE-LTR',\n",
    "    'LTR.ERVL': 'TE-LTR',\n",
    "    'LTR.ERVL-MaLR': 'TE-LTR',\n",
    "    'LTR.Gypsy': 'TE-LTR',\n",
    "    'LTR.LTR': 'TE-LTR',\n",
    "    'SINE.Alu': 'TE-SINE',\n",
    "    'SINE.B2': 'TE-SINE',\n",
    "    'SINE.B4': 'TE-SINE',\n",
    "    'SINE.Deu': 'TE-SINE',\n",
    "    'SINE.ID': 'TE-SINE',\n",
    "    'SINE.MIR': 'TE-SINE',\n",
    "    'SINE.tRNA': 'TE-SINE',\n",
    "    'feDMR': 'BulkDMR',\n",
    "    'adultDMR': 'BulkDMR',\n",
    "    'GABA.CRc.CRc': 'ATACPeak',\n",
    "    'GABA.Cge.Cge3': 'ATACPeak',\n",
    "    'GABA.Cge.Cge5': 'ATACPeak',\n",
    "    'GABA.Cge.Cge6': 'ATACPeak',\n",
    "    'GABA.Cge.CgeHip': 'ATACPeak',\n",
    "    'GABA.Cge.Lamp5': 'ATACPeak',\n",
    "    'GABA.Cge.Vip': 'ATACPeak',\n",
    "    'GABA.Hip.Hip': 'ATACPeak',\n",
    "    'GABA.Mge.Mge1': 'ATACPeak',\n",
    "    'GABA.Mge.Mge2': 'ATACPeak',\n",
    "    'GABA.Mge.Mge3': 'ATACPeak',\n",
    "    'GABA.Mge.Mge4': 'ATACPeak',\n",
    "    'GABA.Mge.Mge5': 'ATACPeak',\n",
    "    'GABA.Mge.Mge6': 'ATACPeak',\n",
    "    'GABA.Mge.Mge7': 'ATACPeak',\n",
    "    'GABA.Mge.Mge8': 'ATACPeak',\n",
    "    'GABA.Mge.Mge9': 'ATACPeak',\n",
    "    'GABA.Mge.Mge10': 'ATACPeak',\n",
    "    'GABA.Mge.Mge11': 'ATACPeak',\n",
    "    'GABA.Mge.Mge12': 'ATACPeak',\n",
    "    'GABA.Msn.D1': 'ATACPeak',\n",
    "    'GABA.Msn.D2': 'ATACPeak',\n",
    "    'GABA.Msn.Foxp2': 'ATACPeak',\n",
    "    'GABA.Msn.MSNOLF': 'ATACPeak',\n",
    "    'GABA.Mxd1.Mxd1': 'ATACPeak',\n",
    "    'GABA.Olf.OBDOP': 'ATACPeak',\n",
    "    'GABA.Olf.OBGC': 'ATACPeak',\n",
    "    'GABA.Olf.OBGLO': 'ATACPeak',\n",
    "    'GABA.Olf.OBIGC': 'ATACPeak',\n",
    "    'GABA.Olf.OBNBL': 'ATACPeak',\n",
    "    'GABA.Sept.LSX': 'ATACPeak',\n",
    "    'GABA.Sept.MA': 'ATACPeak',\n",
    "    'GABA.Sept.MS': 'ATACPeak',\n",
    "    'GABA.Sept.Sept1': 'ATACPeak',\n",
    "    'GABA.Unk.Unk': 'ATACPeak',\n",
    "    'Glutamate.GC.GC': 'ATACPeak',\n",
    "    'NonN.Asc.AscNt': 'ATACPeak',\n",
    "    'NonN.Asc.AscT': 'ATACPeak',\n",
    "    'NonN.Asc.RGDG': 'ATACPeak',\n",
    "    'NonN.Mgc.Mgc': 'ATACPeak',\n",
    "    'NonN.Ogc.Mfol': 'ATACPeak',\n",
    "    'NonN.Ogc.Mol': 'ATACPeak',\n",
    "    'NonN.Opc.Opc': 'ATACPeak',\n",
    "    'NonN.Vc.Vec1': 'ATACPeak',\n",
    "    'NonN.Vc.Vec3': 'ATACPeak',\n",
    "    'NonN.Vc.Vec5': 'ATACPeak',\n",
    "    'NonN.Vc.Vlmc': 'ATACPeak',\n",
    "    'NonN.Vc.Vpia': 'ATACPeak',\n",
    "    'Glutamate.CLA.CLA': 'ATACPeak',\n",
    "    'Glutamate.CT.CT1': 'ATACPeak',\n",
    "    'Glutamate.CT.CT2': 'ATACPeak',\n",
    "    'Glutamate.CT.L6b': 'ATACPeak',\n",
    "    'Glutamate.HIP.CA1': 'ATACPeak',\n",
    "    'Glutamate.HIP.CA1p': 'ATACPeak',\n",
    "    'Glutamate.HIP.CA2': 'ATACPeak',\n",
    "    'Glutamate.HIP.CA3': 'ATACPeak',\n",
    "    'Glutamate.HIP.CA4': 'ATACPeak',\n",
    "    'Glutamate.HIP.CRc': 'ATACPeak',\n",
    "    'Glutamate.HIP.Mossy': 'ATACPeak',\n",
    "    'Glutamate.HIP.NBL': 'ATACPeak',\n",
    "    'Glutamate.HIP.unk1': 'ATACPeak',\n",
    "    'Glutamate.HIP.unk2': 'ATACPeak',\n",
    "    'Glutamate.IT.L4': 'ATACPeak',\n",
    "    'Glutamate.IT.L5': 'ATACPeak',\n",
    "    'Glutamate.IT.L6': 'ATACPeak',\n",
    "    'Glutamate.IT.L23': 'ATACPeak',\n",
    "    'Glutamate.NP.NP1': 'ATACPeak',\n",
    "    'Glutamate.NP.NP2': 'ATACPeak',\n",
    "    'Glutamate.NP.NPHIP': 'ATACPeak',\n",
    "    'Glutamate.PIR.OLFdeep': 'ATACPeak',\n",
    "    'Glutamate.PIR.Pir1': 'ATACPeak',\n",
    "    'Glutamate.PIR.Pir2': 'ATACPeak',\n",
    "    'Glutamate.PIR.Pir3': 'ATACPeak',\n",
    "    'Glutamate.PIR.Pir4': 'ATACPeak',\n",
    "    'Glutamate.PT.Pt': 'ATACPeak',\n",
    "    'Glutamate.PT.Ptlsx': 'ATACPeak',\n",
    "    'NonN.Asc.Myoc': 'ATACPeak',\n",
    "    'NonN.Asc.NIPC': 'ATACPeak',\n",
    "    'NonN.Asc.RGSZ': 'ATACPeak',\n",
    "    'NonN.Ogc.Cop': 'ATACPeak',\n",
    "    'NonN.Ogc.Nfol': 'ATACPeak',\n",
    "    'NonN.Vc.Per': 'ATACPeak',\n",
    "    'NonN.Vc.Vec2': 'ATACPeak',\n",
    "    'NonN.Vc.Vec4': 'ATACPeak',\n",
    "    'rs1atac.merged.reproduced': 'ATACPeakAll'\n",
    "}\n",
    "\n",
    "feature_adata.var['FeatureType'] = feature_adata.var_names.map(feature_annot)"
   ]
  },
  {
   "cell_type": "code",
   "execution_count": 14,
   "metadata": {
    "ExecuteTime": {
     "end_time": "2020-01-11T20:27:53.491571Z",
     "start_time": "2020-01-11T20:27:53.129856Z"
    },
    "papermill": {
     "duration": 0.292649,
     "end_time": "2020-01-20T00:58:17.834992",
     "exception": false,
     "start_time": "2020-01-20T00:58:17.542343",
     "status": "completed"
    },
    "tags": []
   },
   "outputs": [
    {
     "name": "stderr",
     "output_type": "stream",
     "text": [
      "... storing 'FeatureType' as categorical\n"
     ]
    }
   ],
   "source": [
    "total_adata = feature_adata\n",
    "total_adata.write_h5ad(pathlib.Path(output_dir) / 'DMRAnnotation.h5ad')"
   ]
  },
  {
   "cell_type": "code",
   "execution_count": 15,
   "metadata": {
    "ExecuteTime": {
     "end_time": "2020-01-11T20:27:34.504406Z",
     "start_time": "2020-01-11T20:27:34.499875Z"
    },
    "papermill": {
     "duration": 0.064614,
     "end_time": "2020-01-20T00:58:17.957868",
     "exception": false,
     "start_time": "2020-01-20T00:58:17.893254",
     "status": "completed"
    },
    "tags": []
   },
   "outputs": [
    {
     "data": {
      "text/plain": [
       "AnnData object with n_obs × n_vars = 283678 × 139 \n",
       "    var: 'FeatureType'"
      ]
     },
     "execution_count": 15,
     "metadata": {},
     "output_type": "execute_result"
    }
   ],
   "source": [
    "total_adata"
   ]
  },
  {
   "cell_type": "code",
   "execution_count": 16,
   "metadata": {
    "ExecuteTime": {
     "end_time": "2020-01-11T20:27:38.431608Z",
     "start_time": "2020-01-11T20:27:38.415573Z"
    },
    "papermill": {
     "duration": 0.065847,
     "end_time": "2020-01-20T00:58:18.081452",
     "exception": false,
     "start_time": "2020-01-20T00:58:18.015605",
     "status": "completed"
    },
    "tags": []
   },
   "outputs": [
    {
     "data": {
      "text/plain": [
       "ATACPeak         84\n",
       "GenomeFeature    20\n",
       "TE-DNA           13\n",
       "TE-SINE           7\n",
       "TE-LTR            6\n",
       "TE-LINE           6\n",
       "BulkDMR           2\n",
       "ATACPeakAll       1\n",
       "Name: FeatureType, dtype: int64"
      ]
     },
     "execution_count": 16,
     "metadata": {},
     "output_type": "execute_result"
    }
   ],
   "source": [
    "total_adata.var['FeatureType'].value_counts()"
   ]
  },
  {
   "cell_type": "code",
   "execution_count": null,
   "metadata": {
    "papermill": {
     "duration": 0.057703,
     "end_time": "2020-01-20T00:58:18.197471",
     "exception": false,
     "start_time": "2020-01-20T00:58:18.139768",
     "status": "completed"
    },
    "tags": []
   },
   "outputs": [],
   "source": []
  }
 ],
 "metadata": {
  "hide_input": false,
  "kernelspec": {
   "display_name": "Python 3",
   "language": "python",
   "name": "python3"
  },
  "language_info": {
   "codemirror_mode": {
    "name": "ipython",
    "version": 3
   },
   "file_extension": ".py",
   "mimetype": "text/x-python",
   "name": "python",
   "nbconvert_exporter": "python",
   "pygments_lexer": "ipython3",
   "version": "3.7.3"
  },
  "papermill": {
   "duration": 79.545844,
   "end_time": "2020-01-20T00:58:18.560560",
   "environment_variables": {},
   "exception": null,
   "input_path": "3.DMRAnnotation.ipynb",
   "output_path": "/home/hanliu/project/mouse_rostral_brain/DMR/SubType/raw/SubType-chr5/Recipe/3.DMRAnnotation.ipynb",
   "parameters": {
    "dmr_bed": "/home/hanliu/project/mouse_rostral_brain/DMR/SubType/raw/SubType-chr5/TotalDMR.nofilter.bed"
   },
   "start_time": "2020-01-20T00:56:59.014716",
   "version": "1.0.1"
  },
  "toc": {
   "base_numbering": 1,
   "nav_menu": {},
   "number_sections": true,
   "sideBar": true,
   "skip_h1_title": true,
   "title_cell": "Table of Contents",
   "title_sidebar": "Contents",
   "toc_cell": false,
   "toc_position": {},
   "toc_section_display": true,
   "toc_window_display": true
  }
 },
 "nbformat": 4,
 "nbformat_minor": 2
}