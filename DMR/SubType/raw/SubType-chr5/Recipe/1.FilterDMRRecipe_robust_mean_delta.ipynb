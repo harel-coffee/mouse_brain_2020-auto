{
 "cells": [
  {
   "cell_type": "code",
   "execution_count": 1,
   "metadata": {
    "ExecuteTime": {
     "end_time": "2020-01-11T22:34:59.427434Z",
     "start_time": "2020-01-11T22:34:55.795119Z"
    },
    "papermill": {
     "duration": 0.470991,
     "end_time": "2020-01-20T00:47:41.139437",
     "exception": false,
     "start_time": "2020-01-20T00:47:40.668446",
     "status": "completed"
    },
    "tags": []
   },
   "outputs": [],
   "source": [
    "import pathlib\n",
    "import numpy as np\n",
    "import pandas as pd\n",
    "from scipy.sparse import csr_matrix\n",
    "import anndata\n",
    "from pybedtools import BedTool"
   ]
  },
  {
   "cell_type": "markdown",
   "metadata": {
    "ExecuteTime": {
     "end_time": "2020-01-10T03:41:10.279754Z",
     "start_time": "2020-01-10T03:41:10.259634Z"
    },
    "papermill": {
     "duration": 0.010778,
     "end_time": "2020-01-20T00:47:41.162174",
     "exception": false,
     "start_time": "2020-01-20T00:47:41.151396",
     "status": "completed"
    },
    "tags": []
   },
   "source": [
    "## Parameter"
   ]
  },
  {
   "cell_type": "code",
   "execution_count": 2,
   "metadata": {
    "ExecuteTime": {
     "end_time": "2020-01-11T22:38:49.094144Z",
     "start_time": "2020-01-11T22:38:49.091240Z"
    },
    "papermill": {
     "duration": 0.016418,
     "end_time": "2020-01-20T00:47:41.189423",
     "exception": false,
     "start_time": "2020-01-20T00:47:41.173005",
     "status": "completed"
    },
    "tags": [
     "parameters"
    ]
   },
   "outputs": [],
   "source": [
    "dmr_path = '/home/hanliu/project/mouse_rostral_brain/DMR/ITSpatial/ITSpatial_rms_results_collapsed.tsv'\n",
    "dmr_prefix = 'DGmCH'\n",
    "\n",
    "black_list_path = '/home/hanliu/ref/blacklist/mm10-blacklist.v2.bed.gz'\n",
    "skip_quantile = 0.25\n",
    "delta_to_mean = 0.1\n",
    "dms_cutoff = 1"
   ]
  },
  {
   "cell_type": "code",
   "execution_count": 3,
   "metadata": {
    "papermill": {
     "duration": 0.015828,
     "end_time": "2020-01-20T00:47:41.215849",
     "exception": false,
     "start_time": "2020-01-20T00:47:41.200021",
     "status": "completed"
    },
    "tags": [
     "injected-parameters"
    ]
   },
   "outputs": [],
   "source": [
    "# Parameters\n",
    "dmr_path = \"/home/hanliu/project/mouse_rostral_brain/DMR/SubType/raw/SubType-chr5/SubType-chr5_rms_results_collapsed.tsv\"\n",
    "dmr_prefix = \"Sub\"\n",
    "black_list_path = \"/home/hanliu/ref/blacklist/mm10-blacklist.v2.bed.gz\"\n",
    "skip_quantile = 0.25\n",
    "delta_to_mean = 0.3\n",
    "dms_cutoff = 1\n"
   ]
  },
  {
   "cell_type": "markdown",
   "metadata": {
    "papermill": {
     "duration": 0.010241,
     "end_time": "2020-01-20T00:47:41.236257",
     "exception": false,
     "start_time": "2020-01-20T00:47:41.226016",
     "status": "completed"
    },
    "tags": []
   },
   "source": [
    "## Read DMR"
   ]
  },
  {
   "cell_type": "code",
   "execution_count": 4,
   "metadata": {
    "ExecuteTime": {
     "end_time": "2020-01-11T22:35:10.769093Z",
     "start_time": "2020-01-11T22:34:59.434004Z"
    },
    "papermill": {
     "duration": 9.859801,
     "end_time": "2020-01-20T00:47:51.106265",
     "exception": false,
     "start_time": "2020-01-20T00:47:41.246464",
     "status": "completed"
    },
    "scrolled": true,
    "tags": []
   },
   "outputs": [
    {
     "name": "stdout",
     "output_type": "stream",
     "text": [
      "283678 dmr before filter\n"
     ]
    }
   ],
   "source": [
    "# get column and n_sample\n",
    "dmr_column = pd.read_csv(dmr_path, sep='\\t', nrows=0).columns\n",
    "n_sample = dmr_column.size - 6\n",
    "dmr_column = dmr_column.map(lambda i: i[18:] if 'methylation_level_' in i else i)\n",
    "samples = dmr_column[6:]\n",
    "\n",
    "dmr_region_infos = []\n",
    "mc_rates = []\n",
    "hypo_sig_dict = {sample: [] for sample in samples}\n",
    "hyper_sig_dict = {sample: [] for sample in samples}\n",
    "\n",
    "dmr_df = pd.read_csv(dmr_path, sep='\\t', skiprows=1, names=dmr_column)\n",
    "print(dmr_df.shape[0], 'dmr before filter')\n",
    "dmr_df.index = dmr_df.index.map(lambda i: f'{dmr_prefix}_{i}')\n",
    "\n",
    "# save raw info\n",
    "dmr_bed = dmr_df.iloc[:, :4].copy()\n",
    "mc_rate = dmr_df.iloc[:, 6:].copy()"
   ]
  },
  {
   "cell_type": "markdown",
   "metadata": {
    "papermill": {
     "duration": 0.010784,
     "end_time": "2020-01-20T00:47:51.128536",
     "exception": false,
     "start_time": "2020-01-20T00:47:51.117752",
     "status": "completed"
    },
    "tags": []
   },
   "source": [
    "## Save unfiltered dmr info"
   ]
  },
  {
   "cell_type": "code",
   "execution_count": 5,
   "metadata": {
    "ExecuteTime": {
     "end_time": "2020-01-11T22:35:16.445637Z",
     "start_time": "2020-01-11T22:35:10.772172Z"
    },
    "papermill": {
     "duration": 1.236648,
     "end_time": "2020-01-20T00:47:52.375947",
     "exception": false,
     "start_time": "2020-01-20T00:47:51.139299",
     "status": "completed"
    },
    "tags": []
   },
   "outputs": [],
   "source": [
    "with pd.HDFStore(pathlib.Path(dmr_path).parent / 'DMRInfo.h5') as hdf:\n",
    "    hdf['Rate'] = mc_rate\n",
    "    hdf['Bed'] = dmr_bed"
   ]
  },
  {
   "cell_type": "code",
   "execution_count": 6,
   "metadata": {
    "ExecuteTime": {
     "end_time": "2020-01-11T22:35:21.606943Z",
     "start_time": "2020-01-11T22:35:16.447435Z"
    },
    "papermill": {
     "duration": 0.776991,
     "end_time": "2020-01-20T00:47:53.164317",
     "exception": false,
     "start_time": "2020-01-20T00:47:52.387326",
     "status": "completed"
    },
    "tags": []
   },
   "outputs": [],
   "source": [
    "dmr_bed.reset_index().iloc[:, [1, 2, 3, 0]].to_csv(pathlib.Path(dmr_path).parent / 'TotalDMR.nofilter.bed', \n",
    "                                                   index=None, header=None, sep='\\t')"
   ]
  },
  {
   "cell_type": "markdown",
   "metadata": {
    "papermill": {
     "duration": 0.010543,
     "end_time": "2020-01-20T00:47:53.186084",
     "exception": false,
     "start_time": "2020-01-20T00:47:53.175541",
     "status": "completed"
    },
    "tags": []
   },
   "source": [
    "## Filter DMR based on min-max delta and blacklist"
   ]
  },
  {
   "cell_type": "code",
   "execution_count": 7,
   "metadata": {
    "ExecuteTime": {
     "end_time": "2020-01-11T22:35:55.834942Z",
     "start_time": "2020-01-11T22:35:54.438986Z"
    },
    "papermill": {
     "duration": 1.094979,
     "end_time": "2020-01-20T00:47:54.292195",
     "exception": false,
     "start_time": "2020-01-20T00:47:53.197216",
     "status": "completed"
    },
    "tags": []
   },
   "outputs": [
    {
     "name": "stdout",
     "output_type": "stream",
     "text": [
      "266214 dmr pass delta filter\n"
     ]
    }
   ],
   "source": [
    "# filter by min max delta first, if DMR do not pass min max filter, it won't have sig sample anyway\n",
    "delta_judge = (mc_rate.max(axis=1) - mc_rate.min(axis=1)) > delta_to_mean\n",
    "delta_index = mc_rate.index[delta_judge]\n",
    "\n",
    "print(delta_index.size, 'dmr pass delta filter')"
   ]
  },
  {
   "cell_type": "code",
   "execution_count": 8,
   "metadata": {
    "ExecuteTime": {
     "end_time": "2020-01-11T22:36:06.271131Z",
     "start_time": "2020-01-11T22:35:57.053249Z"
    },
    "papermill": {
     "duration": 1.455144,
     "end_time": "2020-01-20T00:47:55.758918",
     "exception": false,
     "start_time": "2020-01-20T00:47:54.303774",
     "status": "completed"
    },
    "tags": []
   },
   "outputs": [
    {
     "name": "stdout",
     "output_type": "stream",
     "text": [
      "282829 dmr pass blacklist filter\n"
     ]
    }
   ],
   "source": [
    "# filter by blacklist\n",
    "black_list = pd.read_csv(black_list_path, sep='\\t', header=None)\n",
    "black_list = BedTool.from_dataframe(black_list)\n",
    "\n",
    "_dmr_bed = BedTool.from_dataframe(dmr_bed.reset_index().iloc[:, [1,2,3,0]])\n",
    "filtered_dmr_bed = _dmr_bed.intersect(black_list, v=True).to_dataframe().set_index('name')\n",
    "\n",
    "white_index = filtered_dmr_bed.index\n",
    "print(white_index.size, 'dmr pass blacklist filter')"
   ]
  },
  {
   "cell_type": "code",
   "execution_count": 9,
   "metadata": {
    "ExecuteTime": {
     "end_time": "2020-01-11T22:36:12.105983Z",
     "start_time": "2020-01-11T22:36:08.675938Z"
    },
    "papermill": {
     "duration": 0.95866,
     "end_time": "2020-01-20T00:47:56.729268",
     "exception": false,
     "start_time": "2020-01-20T00:47:55.770608",
     "status": "completed"
    },
    "tags": []
   },
   "outputs": [
    {
     "name": "stdout",
     "output_type": "stream",
     "text": [
      "265415 dmr after filter\n"
     ]
    },
    {
     "data": {
      "text/html": [
       "<div>\n",
       "<style scoped>\n",
       "    .dataframe tbody tr th:only-of-type {\n",
       "        vertical-align: middle;\n",
       "    }\n",
       "\n",
       "    .dataframe tbody tr th {\n",
       "        vertical-align: top;\n",
       "    }\n",
       "\n",
       "    .dataframe thead th {\n",
       "        text-align: right;\n",
       "    }\n",
       "</style>\n",
       "<table border=\"1\" class=\"dataframe\">\n",
       "  <thead>\n",
       "    <tr style=\"text-align: right;\">\n",
       "      <th></th>\n",
       "      <th>#chr</th>\n",
       "      <th>start</th>\n",
       "      <th>end</th>\n",
       "      <th>number_of_dms</th>\n",
       "      <th>hypermethylated_samples</th>\n",
       "      <th>hypomethylated_samples</th>\n",
       "      <th>CT-L6_Il1rap</th>\n",
       "      <th>NP-L6_Cntnap5a</th>\n",
       "      <th>CGE-Lamp5_Sorcs1</th>\n",
       "      <th>CGE-Vip_Grm8</th>\n",
       "      <th>...</th>\n",
       "      <th>Foxp2_Trpc7</th>\n",
       "      <th>CGE-Lamp5_Grk5</th>\n",
       "      <th>IT-L5_Cdh8</th>\n",
       "      <th>IG-CA2_Peak1</th>\n",
       "      <th>ANP_anp-dg</th>\n",
       "      <th>OLF_Xkr6</th>\n",
       "      <th>D1L-Fstl4_Cadm1</th>\n",
       "      <th>IT-L4_Shc3</th>\n",
       "      <th>D1L-PAL_Plcxd3</th>\n",
       "      <th>L6b_Pkhd1</th>\n",
       "    </tr>\n",
       "  </thead>\n",
       "  <tbody>\n",
       "    <tr>\n",
       "      <th>Sub_0</th>\n",
       "      <td>chr5</td>\n",
       "      <td>3000787</td>\n",
       "      <td>3000787</td>\n",
       "      <td>1</td>\n",
       "      <td>NaN</td>\n",
       "      <td>NaN</td>\n",
       "      <td>0.739130</td>\n",
       "      <td>0.750000</td>\n",
       "      <td>0.692308</td>\n",
       "      <td>0.454545</td>\n",
       "      <td>...</td>\n",
       "      <td>0.655172</td>\n",
       "      <td>0.812500</td>\n",
       "      <td>0.673077</td>\n",
       "      <td>0.666667</td>\n",
       "      <td>0.300000</td>\n",
       "      <td>1.000000</td>\n",
       "      <td>0.600000</td>\n",
       "      <td>0.744681</td>\n",
       "      <td>0.733333</td>\n",
       "      <td>0.666667</td>\n",
       "    </tr>\n",
       "    <tr>\n",
       "      <th>Sub_1</th>\n",
       "      <td>chr5</td>\n",
       "      <td>3001296</td>\n",
       "      <td>3001296</td>\n",
       "      <td>1</td>\n",
       "      <td>CT-L6_Hcrtr2,IT-L4_Astn2</td>\n",
       "      <td>PT-L5_Tenm2,LSX-Inh_Enox1,CGE-Lamp5_Nrxn3,ODC_...</td>\n",
       "      <td>0.837838</td>\n",
       "      <td>0.761905</td>\n",
       "      <td>0.888889</td>\n",
       "      <td>1.000000</td>\n",
       "      <td>...</td>\n",
       "      <td>0.870968</td>\n",
       "      <td>0.820513</td>\n",
       "      <td>0.678571</td>\n",
       "      <td>0.846154</td>\n",
       "      <td>0.636364</td>\n",
       "      <td>NaN</td>\n",
       "      <td>0.684211</td>\n",
       "      <td>0.750000</td>\n",
       "      <td>0.818182</td>\n",
       "      <td>0.500000</td>\n",
       "    </tr>\n",
       "    <tr>\n",
       "      <th>Sub_2</th>\n",
       "      <td>chr5</td>\n",
       "      <td>3001993</td>\n",
       "      <td>3001993</td>\n",
       "      <td>1</td>\n",
       "      <td>NaN</td>\n",
       "      <td>MGC_mgc-all,DG-po_Bcl11a,ODC_odc-small,VLMC-Pi...</td>\n",
       "      <td>0.700000</td>\n",
       "      <td>0.733333</td>\n",
       "      <td>0.285714</td>\n",
       "      <td>0.800000</td>\n",
       "      <td>...</td>\n",
       "      <td>0.600000</td>\n",
       "      <td>0.725000</td>\n",
       "      <td>0.714286</td>\n",
       "      <td>0.869565</td>\n",
       "      <td>0.500000</td>\n",
       "      <td>NaN</td>\n",
       "      <td>0.769231</td>\n",
       "      <td>0.825000</td>\n",
       "      <td>0.700000</td>\n",
       "      <td>0.000000</td>\n",
       "    </tr>\n",
       "    <tr>\n",
       "      <th>Sub_3</th>\n",
       "      <td>chr5</td>\n",
       "      <td>3002664</td>\n",
       "      <td>3002664</td>\n",
       "      <td>1</td>\n",
       "      <td>NP-L6_Cyp7b1,LSX-Inh_Nxph1</td>\n",
       "      <td>ASC_cortex-olf,MGC_mgc-all,ODC_odc-small,OPC_o...</td>\n",
       "      <td>0.752294</td>\n",
       "      <td>0.836066</td>\n",
       "      <td>0.628571</td>\n",
       "      <td>0.944444</td>\n",
       "      <td>...</td>\n",
       "      <td>0.787500</td>\n",
       "      <td>0.744681</td>\n",
       "      <td>0.767677</td>\n",
       "      <td>0.857143</td>\n",
       "      <td>0.750000</td>\n",
       "      <td>0.666667</td>\n",
       "      <td>0.680851</td>\n",
       "      <td>0.740157</td>\n",
       "      <td>0.521739</td>\n",
       "      <td>0.714286</td>\n",
       "    </tr>\n",
       "    <tr>\n",
       "      <th>Sub_4</th>\n",
       "      <td>chr5</td>\n",
       "      <td>3003679</td>\n",
       "      <td>3003679</td>\n",
       "      <td>1</td>\n",
       "      <td>NaN</td>\n",
       "      <td>VLMC_Col4a1,ODC_odc-small,VLMC_Mapk4,VLMC-Pia_...</td>\n",
       "      <td>0.893617</td>\n",
       "      <td>0.826087</td>\n",
       "      <td>0.857143</td>\n",
       "      <td>0.750000</td>\n",
       "      <td>...</td>\n",
       "      <td>0.758621</td>\n",
       "      <td>0.705882</td>\n",
       "      <td>0.877551</td>\n",
       "      <td>1.000000</td>\n",
       "      <td>0.833333</td>\n",
       "      <td>0.750000</td>\n",
       "      <td>0.842105</td>\n",
       "      <td>0.851852</td>\n",
       "      <td>0.652174</td>\n",
       "      <td>NaN</td>\n",
       "    </tr>\n",
       "  </tbody>\n",
       "</table>\n",
       "<p>5 rows × 167 columns</p>\n",
       "</div>"
      ],
      "text/plain": [
       "       #chr    start      end  number_of_dms     hypermethylated_samples  \\\n",
       "Sub_0  chr5  3000787  3000787              1                         NaN   \n",
       "Sub_1  chr5  3001296  3001296              1    CT-L6_Hcrtr2,IT-L4_Astn2   \n",
       "Sub_2  chr5  3001993  3001993              1                         NaN   \n",
       "Sub_3  chr5  3002664  3002664              1  NP-L6_Cyp7b1,LSX-Inh_Nxph1   \n",
       "Sub_4  chr5  3003679  3003679              1                         NaN   \n",
       "\n",
       "                                  hypomethylated_samples  CT-L6_Il1rap  \\\n",
       "Sub_0                                                NaN      0.739130   \n",
       "Sub_1  PT-L5_Tenm2,LSX-Inh_Enox1,CGE-Lamp5_Nrxn3,ODC_...      0.837838   \n",
       "Sub_2  MGC_mgc-all,DG-po_Bcl11a,ODC_odc-small,VLMC-Pi...      0.700000   \n",
       "Sub_3  ASC_cortex-olf,MGC_mgc-all,ODC_odc-small,OPC_o...      0.752294   \n",
       "Sub_4  VLMC_Col4a1,ODC_odc-small,VLMC_Mapk4,VLMC-Pia_...      0.893617   \n",
       "\n",
       "       NP-L6_Cntnap5a  CGE-Lamp5_Sorcs1  CGE-Vip_Grm8  ...  Foxp2_Trpc7  \\\n",
       "Sub_0        0.750000          0.692308      0.454545  ...     0.655172   \n",
       "Sub_1        0.761905          0.888889      1.000000  ...     0.870968   \n",
       "Sub_2        0.733333          0.285714      0.800000  ...     0.600000   \n",
       "Sub_3        0.836066          0.628571      0.944444  ...     0.787500   \n",
       "Sub_4        0.826087          0.857143      0.750000  ...     0.758621   \n",
       "\n",
       "       CGE-Lamp5_Grk5  IT-L5_Cdh8  IG-CA2_Peak1  ANP_anp-dg  OLF_Xkr6  \\\n",
       "Sub_0        0.812500    0.673077      0.666667    0.300000  1.000000   \n",
       "Sub_1        0.820513    0.678571      0.846154    0.636364       NaN   \n",
       "Sub_2        0.725000    0.714286      0.869565    0.500000       NaN   \n",
       "Sub_3        0.744681    0.767677      0.857143    0.750000  0.666667   \n",
       "Sub_4        0.705882    0.877551      1.000000    0.833333  0.750000   \n",
       "\n",
       "       D1L-Fstl4_Cadm1  IT-L4_Shc3  D1L-PAL_Plcxd3  L6b_Pkhd1  \n",
       "Sub_0         0.600000    0.744681        0.733333   0.666667  \n",
       "Sub_1         0.684211    0.750000        0.818182   0.500000  \n",
       "Sub_2         0.769231    0.825000        0.700000   0.000000  \n",
       "Sub_3         0.680851    0.740157        0.521739   0.714286  \n",
       "Sub_4         0.842105    0.851852        0.652174        NaN  \n",
       "\n",
       "[5 rows x 167 columns]"
      ]
     },
     "execution_count": 9,
     "metadata": {},
     "output_type": "execute_result"
    }
   ],
   "source": [
    "dmr_df = dmr_df.loc[delta_index & white_index]\n",
    "dmr_df = dmr_df[dmr_df['number_of_dms'] >= dms_cutoff]\n",
    "print(dmr_df.shape[0], 'dmr after filter')\n",
    "dmr_df.head()"
   ]
  },
  {
   "cell_type": "markdown",
   "metadata": {
    "papermill": {
     "duration": 0.01209,
     "end_time": "2020-01-20T00:47:56.754119",
     "exception": false,
     "start_time": "2020-01-20T00:47:56.742029",
     "status": "completed"
    },
    "tags": []
   },
   "source": [
    "## Calculate sample delta to robust mean"
   ]
  },
  {
   "cell_type": "code",
   "execution_count": 10,
   "metadata": {
    "ExecuteTime": {
     "end_time": "2020-01-11T22:36:16.999216Z",
     "start_time": "2020-01-11T22:36:14.781777Z"
    },
    "papermill": {
     "duration": 0.665117,
     "end_time": "2020-01-20T00:47:57.431280",
     "exception": false,
     "start_time": "2020-01-20T00:47:56.766163",
     "status": "completed"
    },
    "tags": []
   },
   "outputs": [],
   "source": [
    "mc_rate = mc_rate.loc[dmr_df.index].copy()\n",
    "n_sample = mc_rate.shape[1]\n",
    "\n",
    "assert skip_quantile < 0.5\n",
    "skip_n = min(1, round(n_sample * skip_quantile))"
   ]
  },
  {
   "cell_type": "code",
   "execution_count": 11,
   "metadata": {
    "ExecuteTime": {
     "end_time": "2020-01-11T22:37:13.238349Z",
     "start_time": "2020-01-11T22:36:18.002436Z"
    },
    "papermill": {
     "duration": 10.357052,
     "end_time": "2020-01-20T00:48:07.800728",
     "exception": false,
     "start_time": "2020-01-20T00:47:57.443676",
     "status": "completed"
    },
    "tags": []
   },
   "outputs": [],
   "source": [
    "# ~1M rows / min, depending on n_sample, not very slow\n",
    "def robust_mean(row):\n",
    "    return np.nanmean(np.sort(row)[skip_n:-skip_n])\n",
    "robust_mean = np.apply_along_axis(robust_mean, 1, mc_rate.values)\n",
    "robust_mean = pd.Series(robust_mean, index=mc_rate.index)"
   ]
  },
  {
   "cell_type": "code",
   "execution_count": 12,
   "metadata": {
    "ExecuteTime": {
     "end_time": "2020-01-11T22:37:14.931884Z",
     "start_time": "2020-01-11T22:37:13.241420Z"
    },
    "papermill": {
     "duration": 1.541266,
     "end_time": "2020-01-20T00:48:09.354509",
     "exception": false,
     "start_time": "2020-01-20T00:48:07.813243",
     "status": "completed"
    },
    "tags": []
   },
   "outputs": [],
   "source": [
    "delta = mc_rate - robust_mean[:, None]\n",
    "# 0 is hypo DMR, 1 is hyper DMR, nan is not significant\n",
    "judge = (delta > 0)[delta.abs() > delta_to_mean]"
   ]
  },
  {
   "cell_type": "code",
   "execution_count": 13,
   "metadata": {
    "ExecuteTime": {
     "end_time": "2020-01-11T22:37:17.752534Z",
     "start_time": "2020-01-11T22:37:14.934034Z"
    },
    "papermill": {
     "duration": 1.251444,
     "end_time": "2020-01-20T00:48:10.618732",
     "exception": false,
     "start_time": "2020-01-20T00:48:09.367288",
     "status": "completed"
    },
    "tags": []
   },
   "outputs": [],
   "source": [
    "robust_mean_hypo_records = {}\n",
    "robust_mean_hyper_records = {}\n",
    "\n",
    "for sample, sample_col in judge.iteritems():\n",
    "    hypo_dmr = sample_col[sample_col == 0].index\n",
    "    hyper_dmr = sample_col[sample_col == 1].index\n",
    "    \n",
    "    robust_mean_hypo_records[sample] = hypo_dmr\n",
    "    robust_mean_hyper_records[sample] = hyper_dmr"
   ]
  },
  {
   "cell_type": "markdown",
   "metadata": {
    "papermill": {
     "duration": 0.012335,
     "end_time": "2020-01-20T00:48:10.643421",
     "exception": false,
     "start_time": "2020-01-20T00:48:10.631086",
     "status": "completed"
    },
    "tags": []
   },
   "source": [
    "## Assign DMR to each sample"
   ]
  },
  {
   "cell_type": "code",
   "execution_count": 14,
   "metadata": {
    "ExecuteTime": {
     "end_time": "2020-01-11T22:37:51.557920Z",
     "start_time": "2020-01-11T22:37:17.755190Z"
    },
    "papermill": {
     "duration": 57.877106,
     "end_time": "2020-01-20T00:49:08.532117",
     "exception": false,
     "start_time": "2020-01-20T00:48:10.655011",
     "status": "completed"
    },
    "scrolled": true,
    "tags": []
   },
   "outputs": [
    {
     "name": "stdout",
     "output_type": "stream",
     "text": [
      "CT-L6_Il1rap\tHypoDMR \t20271\n",
      "CT-L6_Il1rap\tHyperDMR\t3260\n"
     ]
    },
    {
     "name": "stdout",
     "output_type": "stream",
     "text": [
      "NP-L6_Cntnap5a\tHypoDMR \t6879\n",
      "NP-L6_Cntnap5a\tHyperDMR\t14331\n"
     ]
    },
    {
     "name": "stdout",
     "output_type": "stream",
     "text": [
      "CGE-Lamp5_Sorcs1\tHypoDMR \t16138\n",
      "CGE-Lamp5_Sorcs1\tHyperDMR\t7441\n"
     ]
    },
    {
     "name": "stdout",
     "output_type": "stream",
     "text": [
      "CGE-Vip_Grm8\tHypoDMR \t11629\n",
      "CGE-Vip_Grm8\tHyperDMR\t7400\n"
     ]
    },
    {
     "name": "stdout",
     "output_type": "stream",
     "text": [
      "LSX-Inh_Dock10\tHypoDMR \t5707\n",
      "LSX-Inh_Dock10\tHyperDMR\t12268\n"
     ]
    },
    {
     "name": "stdout",
     "output_type": "stream",
     "text": [
      "CGE-Vip_Ccser1\tHypoDMR \t9689\n",
      "CGE-Vip_Ccser1\tHyperDMR\t10458\n"
     ]
    },
    {
     "name": "stdout",
     "output_type": "stream",
     "text": [
      "CGE-Vip_Ntng1\tHypoDMR \t7473\n",
      "CGE-Vip_Ntng1\tHyperDMR\t3935\n"
     ]
    },
    {
     "name": "stdout",
     "output_type": "stream",
     "text": [
      "ASC_cortex-olf\tHypoDMR \t22609\n",
      "ASC_cortex-olf\tHyperDMR\t10363\n"
     ]
    },
    {
     "name": "stdout",
     "output_type": "stream",
     "text": [
      "MGE-Sst_Chodl\tHypoDMR \t8630\n",
      "MGE-Sst_Chodl\tHyperDMR\t8768\n"
     ]
    },
    {
     "name": "stdout",
     "output_type": "stream",
     "text": [
      "IT-L6_Oxr1\tHypoDMR \t20474\n",
      "IT-L6_Oxr1\tHyperDMR\t3429\n"
     ]
    },
    {
     "name": "stdout",
     "output_type": "stream",
     "text": [
      "VLMC_Col4a1\tHypoDMR \t37806\n",
      "VLMC_Col4a1\tHyperDMR\t10155\n"
     ]
    },
    {
     "name": "stdout",
     "output_type": "stream",
     "text": [
      "LSX-Inh_Lats2\tHypoDMR \t16922\n",
      "LSX-Inh_Lats2\tHyperDMR\t5935\n"
     ]
    },
    {
     "name": "stdout",
     "output_type": "stream",
     "text": [
      "L6b_Kcnk2\tHypoDMR \t17402\n",
      "L6b_Kcnk2\tHyperDMR\t6955\n"
     ]
    },
    {
     "name": "stdout",
     "output_type": "stream",
     "text": [
      "Chd7_Megf11\tHypoDMR \t11354\n",
      "Chd7_Megf11\tHyperDMR\t8765\n"
     ]
    },
    {
     "name": "stdout",
     "output_type": "stream",
     "text": [
      "MGE-Sst_Bmper\tHypoDMR \t6347\n",
      "MGE-Sst_Bmper\tHyperDMR\t12861\n"
     ]
    },
    {
     "name": "stdout",
     "output_type": "stream",
     "text": [
      "CT-L6_Megf9\tHypoDMR \t18376\n",
      "CT-L6_Megf9\tHyperDMR\t3088\n"
     ]
    },
    {
     "name": "stdout",
     "output_type": "stream",
     "text": [
      "Chd7_Kcnc2\tHypoDMR \t5347\n",
      "Chd7_Kcnc2\tHyperDMR\t5991\n"
     ]
    },
    {
     "name": "stdout",
     "output_type": "stream",
     "text": [
      "DG-po_Kctd8\tHypoDMR \t15929\n",
      "DG-po_Kctd8\tHyperDMR\t1647\n"
     ]
    },
    {
     "name": "stdout",
     "output_type": "stream",
     "text": [
      "DG_dg-all\tHypoDMR \t34890\n",
      "DG_dg-all\tHyperDMR\t2942\n"
     ]
    },
    {
     "name": "stdout",
     "output_type": "stream",
     "text": [
      "NP-L6_Cyp7b1\tHypoDMR \t8360\n",
      "NP-L6_Cyp7b1\tHyperDMR\t13392\n"
     ]
    },
    {
     "name": "stdout",
     "output_type": "stream",
     "text": [
      "D1L-Fstl4_Crim1\tHypoDMR \t12172\n",
      "D1L-Fstl4_Crim1\tHyperDMR\t8800\n"
     ]
    },
    {
     "name": "stdout",
     "output_type": "stream",
     "text": [
      "PT-L5_Tenm2\tHypoDMR \t23026\n",
      "PT-L5_Tenm2\tHyperDMR\t2285\n"
     ]
    },
    {
     "name": "stdout",
     "output_type": "stream",
     "text": [
      "Unc5c_Unc5c\tHypoDMR \t17323\n",
      "Unc5c_Unc5c\tHyperDMR\t6965\n"
     ]
    },
    {
     "name": "stdout",
     "output_type": "stream",
     "text": [
      "CGE-Lamp5_Grid1\tHypoDMR \t24159\n",
      "CGE-Lamp5_Grid1\tHyperDMR\t4843\n"
     ]
    },
    {
     "name": "stdout",
     "output_type": "stream",
     "text": [
      "OLF-Exc_Pld5\tHypoDMR \t24664\n",
      "OLF-Exc_Pld5\tHyperDMR\t1735\n"
     ]
    },
    {
     "name": "stdout",
     "output_type": "stream",
     "text": [
      "PT-L5_Tmtc2\tHypoDMR \t28035\n",
      "PT-L5_Tmtc2\tHyperDMR\t2695\n"
     ]
    },
    {
     "name": "stdout",
     "output_type": "stream",
     "text": [
      "CLA_Cdh8\tHypoDMR \t22529\n",
      "CLA_Cdh8\tHyperDMR\t4661\n"
     ]
    },
    {
     "name": "stdout",
     "output_type": "stream",
     "text": [
      "CA3-St18_Tead1\tHypoDMR \t30667\n",
      "CA3-St18_Tead1\tHyperDMR\t4531\n"
     ]
    },
    {
     "name": "stdout",
     "output_type": "stream",
     "text": [
      "PAL-Inh_Meis2\tHypoDMR \t268\n",
      "PAL-Inh_Meis2\tHyperDMR\t9019\n"
     ]
    },
    {
     "name": "stdout",
     "output_type": "stream",
     "text": [
      "NP-L6_Boc\tHypoDMR \t8045\n",
      "NP-L6_Boc\tHyperDMR\t13861\n"
     ]
    },
    {
     "name": "stdout",
     "output_type": "stream",
     "text": [
      "IT-L23_Foxp1\tHypoDMR \t25945\n",
      "IT-L23_Foxp1\tHyperDMR\t2020\n"
     ]
    },
    {
     "name": "stdout",
     "output_type": "stream",
     "text": [
      "MGC_mgc-all\tHypoDMR \t43450\n",
      "MGC_mgc-all\tHyperDMR\t14160\n"
     ]
    },
    {
     "name": "stdout",
     "output_type": "stream",
     "text": [
      "Chd7_Trpc7\tHypoDMR \t6245\n",
      "Chd7_Trpc7\tHyperDMR\t14269\n"
     ]
    },
    {
     "name": "stdout",
     "output_type": "stream",
     "text": [
      "LSX-Inh_Nxph1\tHypoDMR \t9133\n",
      "LSX-Inh_Nxph1\tHyperDMR\t14120\n"
     ]
    },
    {
     "name": "stdout",
     "output_type": "stream",
     "text": [
      "CA3-St18_Nuak1\tHypoDMR \t19839\n",
      "CA3-St18_Nuak1\tHyperDMR\t2713\n"
     ]
    },
    {
     "name": "stdout",
     "output_type": "stream",
     "text": [
      "Gfra1_Gfra1\tHypoDMR \t33992\n",
      "Gfra1_Gfra1\tHyperDMR\t1321\n"
     ]
    },
    {
     "name": "stdout",
     "output_type": "stream",
     "text": [
      "MSN-D2_Nrp2\tHypoDMR \t13446\n",
      "MSN-D2_Nrp2\tHyperDMR\t7785\n"
     ]
    },
    {
     "name": "stdout",
     "output_type": "stream",
     "text": [
      "PT-L5_Kcnh1\tHypoDMR \t34438\n",
      "PT-L5_Kcnh1\tHyperDMR\t1775\n"
     ]
    },
    {
     "name": "stdout",
     "output_type": "stream",
     "text": [
      "LSX-Inh_Zeb2\tHypoDMR \t14270\n",
      "LSX-Inh_Zeb2\tHyperDMR\t8601\n"
     ]
    },
    {
     "name": "stdout",
     "output_type": "stream",
     "text": [
      "DG-po_Bcl11a\tHypoDMR \t10322\n",
      "DG-po_Bcl11a\tHyperDMR\t234\n"
     ]
    },
    {
     "name": "stdout",
     "output_type": "stream",
     "text": [
      "L6b_Nrp2\tHypoDMR \t9138\n",
      "L6b_Nrp2\tHyperDMR\t11095\n"
     ]
    },
    {
     "name": "stdout",
     "output_type": "stream",
     "text": [
      "PAL-Inh_Tmem178\tHypoDMR \t3716\n",
      "PAL-Inh_Tmem178\tHyperDMR\t17206\n"
     ]
    },
    {
     "name": "stdout",
     "output_type": "stream",
     "text": [
      "PAL-Inh_Tcf7l2\tHypoDMR \t3945\n",
      "PAL-Inh_Tcf7l2\tHyperDMR\t16565\n"
     ]
    },
    {
     "name": "stdout",
     "output_type": "stream",
     "text": [
      "CT-L6_Hcrtr2\tHypoDMR \t23571\n",
      "CT-L6_Hcrtr2\tHyperDMR\t4282\n"
     ]
    },
    {
     "name": "stdout",
     "output_type": "stream",
     "text": [
      "OLF-Exc_Cdh9\tHypoDMR \t19322\n",
      "OLF-Exc_Cdh9\tHyperDMR\t1351\n"
     ]
    },
    {
     "name": "stdout",
     "output_type": "stream",
     "text": [
      "PT-L5_Abca12\tHypoDMR \t20444\n",
      "PT-L5_Abca12\tHyperDMR\t1816\n"
     ]
    },
    {
     "name": "stdout",
     "output_type": "stream",
     "text": [
      "MSN-D1_Plxnc1\tHypoDMR \t14758\n",
      "MSN-D1_Plxnc1\tHyperDMR\t9392\n"
     ]
    },
    {
     "name": "stdout",
     "output_type": "stream",
     "text": [
      "D1L-Fstl4_Sipa1l2\tHypoDMR \t13564\n",
      "D1L-Fstl4_Sipa1l2\tHyperDMR\t9590\n"
     ]
    },
    {
     "name": "stdout",
     "output_type": "stream",
     "text": [
      "PAL-Inh_Chat\tHypoDMR \t6633\n",
      "PAL-Inh_Chat\tHyperDMR\t18397\n"
     ]
    },
    {
     "name": "stdout",
     "output_type": "stream",
     "text": [
      "PT-L5_Unc5b\tHypoDMR \t19877\n",
      "PT-L5_Unc5b\tHyperDMR\t2944\n"
     ]
    },
    {
     "name": "stdout",
     "output_type": "stream",
     "text": [
      "CLA_Nrp2\tHypoDMR \t21100\n",
      "CLA_Nrp2\tHyperDMR\t6075\n"
     ]
    },
    {
     "name": "stdout",
     "output_type": "stream",
     "text": [
      "MGE-Pvalb_Ptprk\tHypoDMR \t8610\n",
      "MGE-Pvalb_Ptprk\tHyperDMR\t5147\n"
     ]
    },
    {
     "name": "stdout",
     "output_type": "stream",
     "text": [
      "NP-L6_Cntnap4\tHypoDMR \t10063\n",
      "NP-L6_Cntnap4\tHyperDMR\t6406\n"
     ]
    },
    {
     "name": "stdout",
     "output_type": "stream",
     "text": [
      "ODC_odc-small\tHypoDMR \t19838\n",
      "ODC_odc-small\tHyperDMR\t10795\n"
     ]
    },
    {
     "name": "stdout",
     "output_type": "stream",
     "text": [
      "IG-CA2_Chrm3\tHypoDMR \t40350\n",
      "IG-CA2_Chrm3\tHyperDMR\t2680\n"
     ]
    },
    {
     "name": "stdout",
     "output_type": "stream",
     "text": [
      "CGE-Vip_Clstn2\tHypoDMR \t15290\n",
      "CGE-Vip_Clstn2\tHyperDMR\t8819\n"
     ]
    },
    {
     "name": "stdout",
     "output_type": "stream",
     "text": [
      "PAL-Inh_Deptor\tHypoDMR \t10227\n",
      "PAL-Inh_Deptor\tHyperDMR\t3313\n"
     ]
    },
    {
     "name": "stdout",
     "output_type": "stream",
     "text": [
      "OLF_Trpc4\tHypoDMR \t12114\n",
      "OLF_Trpc4\tHyperDMR\t5706\n"
     ]
    },
    {
     "name": "stdout",
     "output_type": "stream",
     "text": [
      "MGE-Pvalb_Entpd3\tHypoDMR \t10087\n",
      "MGE-Pvalb_Entpd3\tHyperDMR\t8551\n"
     ]
    },
    {
     "name": "stdout",
     "output_type": "stream",
     "text": [
      "OLF_Pag1\tHypoDMR \t11476\n",
      "OLF_Pag1\tHyperDMR\t3857\n"
     ]
    },
    {
     "name": "stdout",
     "output_type": "stream",
     "text": [
      "EP_Tspan5\tHypoDMR \t19043\n",
      "EP_Tspan5\tHyperDMR\t3242\n"
     ]
    },
    {
     "name": "stdout",
     "output_type": "stream",
     "text": [
      "CA3_Efnb2\tHypoDMR \t21956\n",
      "CA3_Efnb2\tHyperDMR\t3707\n"
     ]
    },
    {
     "name": "stdout",
     "output_type": "stream",
     "text": [
      "CA3_Cadm2\tHypoDMR \t36473\n",
      "CA3_Cadm2\tHyperDMR\t2462\n"
     ]
    },
    {
     "name": "stdout",
     "output_type": "stream",
     "text": [
      "CA1_Chrm3\tHypoDMR \t44614\n",
      "CA1_Chrm3\tHyperDMR\t808\n"
     ]
    },
    {
     "name": "stdout",
     "output_type": "stream",
     "text": [
      "MGE-Sst_Ubtd1\tHypoDMR \t9030\n",
      "MGE-Sst_Ubtd1\tHyperDMR\t9680\n"
     ]
    },
    {
     "name": "stdout",
     "output_type": "stream",
     "text": [
      "PT-L5_Plcb4\tHypoDMR \t21521\n",
      "PT-L5_Plcb4\tHyperDMR\t2965\n"
     ]
    },
    {
     "name": "stdout",
     "output_type": "stream",
     "text": [
      "CA1_Kif26a\tHypoDMR \t18544\n",
      "CA1_Kif26a\tHyperDMR\t1647\n"
     ]
    },
    {
     "name": "stdout",
     "output_type": "stream",
     "text": [
      "EP_Adcy8\tHypoDMR \t16077\n",
      "EP_Adcy8\tHyperDMR\t3776\n"
     ]
    },
    {
     "name": "stdout",
     "output_type": "stream",
     "text": [
      "MGE-Pvalb_Thsd7a\tHypoDMR \t13819\n",
      "MGE-Pvalb_Thsd7a\tHyperDMR\t7527\n"
     ]
    },
    {
     "name": "stdout",
     "output_type": "stream",
     "text": [
      "MSN-D2_Slc24a2\tHypoDMR \t16243\n",
      "MSN-D2_Slc24a2\tHyperDMR\t8501\n"
     ]
    },
    {
     "name": "stdout",
     "output_type": "stream",
     "text": [
      "MGE-Sst_Kcnip4\tHypoDMR \t9446\n",
      "MGE-Sst_Kcnip4\tHyperDMR\t11381\n"
     ]
    },
    {
     "name": "stdout",
     "output_type": "stream",
     "text": [
      "MGE-Sst_Rxra\tHypoDMR \t6492\n",
      "MGE-Sst_Rxra\tHyperDMR\t10738\n"
     ]
    },
    {
     "name": "stdout",
     "output_type": "stream",
     "text": [
      "LSX-Inh_Foxp2\tHypoDMR \t10856\n",
      "LSX-Inh_Foxp2\tHyperDMR\t13670\n"
     ]
    },
    {
     "name": "stdout",
     "output_type": "stream",
     "text": [
      "PAL-Inh_Onecut2\tHypoDMR \t4585\n",
      "PAL-Inh_Onecut2\tHyperDMR\t18771\n"
     ]
    },
    {
     "name": "stdout",
     "output_type": "stream",
     "text": [
      "LSX-Inh_Enox1\tHypoDMR \t11627\n",
      "LSX-Inh_Enox1\tHyperDMR\t10507\n"
     ]
    },
    {
     "name": "stdout",
     "output_type": "stream",
     "text": [
      "CA1_Ptprg\tHypoDMR \t30522\n",
      "CA1_Ptprg\tHyperDMR\t981\n"
     ]
    },
    {
     "name": "stdout",
     "output_type": "stream",
     "text": [
      "CGE-Vip_Ptprm\tHypoDMR \t7884\n",
      "CGE-Vip_Ptprm\tHyperDMR\t9925\n"
     ]
    },
    {
     "name": "stdout",
     "output_type": "stream",
     "text": [
      "OPC_opc-small\tHypoDMR \t32794\n",
      "OPC_opc-small\tHyperDMR\t5455\n"
     ]
    },
    {
     "name": "stdout",
     "output_type": "stream",
     "text": [
      "L6b_Adcy8\tHypoDMR \t9653\n",
      "L6b_Adcy8\tHyperDMR\t9999\n"
     ]
    },
    {
     "name": "stdout",
     "output_type": "stream",
     "text": [
      "OLF_Gabbr2\tHypoDMR \t9509\n",
      "OLF_Gabbr2\tHyperDMR\t4157\n"
     ]
    },
    {
     "name": "stdout",
     "output_type": "stream",
     "text": [
      "IT-L23_Tenm2\tHypoDMR \t27066\n",
      "IT-L23_Tenm2\tHyperDMR\t1225\n"
     ]
    },
    {
     "name": "stdout",
     "output_type": "stream",
     "text": [
      "PAL-Inh_Igdcc3\tHypoDMR \t1955\n",
      "PAL-Inh_Igdcc3\tHyperDMR\t17114\n"
     ]
    },
    {
     "name": "stdout",
     "output_type": "stream",
     "text": [
      "MSN-D2_Casz1\tHypoDMR \t13893\n",
      "MSN-D2_Casz1\tHyperDMR\t10778\n"
     ]
    },
    {
     "name": "stdout",
     "output_type": "stream",
     "text": [
      "IT-L5_Etv1\tHypoDMR \t21878\n",
      "IT-L5_Etv1\tHyperDMR\t2326\n"
     ]
    },
    {
     "name": "stdout",
     "output_type": "stream",
     "text": [
      "CA1_Lingo2\tHypoDMR \t16260\n",
      "CA1_Lingo2\tHyperDMR\t302\n"
     ]
    },
    {
     "name": "stdout",
     "output_type": "stream",
     "text": [
      "PT-L5_Nectin1\tHypoDMR \t29796\n",
      "PT-L5_Nectin1\tHyperDMR\t1761\n"
     ]
    },
    {
     "name": "stdout",
     "output_type": "stream",
     "text": [
      "D1L-Fstl4_Grm3\tHypoDMR \t17680\n",
      "D1L-Fstl4_Grm3\tHyperDMR\t8042\n"
     ]
    },
    {
     "name": "stdout",
     "output_type": "stream",
     "text": [
      "PT-L5_Astn2\tHypoDMR \t20314\n",
      "PT-L5_Astn2\tHyperDMR\t1832\n"
     ]
    },
    {
     "name": "stdout",
     "output_type": "stream",
     "text": [
      "MGE-Sst_Dock4\tHypoDMR \t11781\n",
      "MGE-Sst_Dock4\tHyperDMR\t11675\n"
     ]
    },
    {
     "name": "stdout",
     "output_type": "stream",
     "text": [
      "IT-L23_Ptprt\tHypoDMR \t22454\n",
      "IT-L23_Ptprt\tHyperDMR\t1411\n"
     ]
    },
    {
     "name": "stdout",
     "output_type": "stream",
     "text": [
      "MSN-D2_Col14a1\tHypoDMR \t16830\n",
      "MSN-D2_Col14a1\tHyperDMR\t9450\n"
     ]
    },
    {
     "name": "stdout",
     "output_type": "stream",
     "text": [
      "OLF-Exc_Unc13c\tHypoDMR \t21181\n",
      "OLF-Exc_Unc13c\tHyperDMR\t2259\n"
     ]
    },
    {
     "name": "stdout",
     "output_type": "stream",
     "text": [
      "CT-L6_Map4\tHypoDMR \t19628\n",
      "CT-L6_Map4\tHyperDMR\t3913\n"
     ]
    },
    {
     "name": "stdout",
     "output_type": "stream",
     "text": [
      "IG-CA2_Xpr1\tHypoDMR \t24270\n",
      "IG-CA2_Xpr1\tHyperDMR\t3825\n"
     ]
    },
    {
     "name": "stdout",
     "output_type": "stream",
     "text": [
      "VLMC_Mapk4\tHypoDMR \t25358\n",
      "VLMC_Mapk4\tHyperDMR\t11377\n"
     ]
    },
    {
     "name": "stdout",
     "output_type": "stream",
     "text": [
      "ANP_anp-olf-cnu\tHypoDMR \t18680\n",
      "ANP_anp-olf-cnu\tHyperDMR\t8096\n"
     ]
    },
    {
     "name": "stdout",
     "output_type": "stream",
     "text": [
      "CLA_Bcl11a\tHypoDMR \t23901\n",
      "CLA_Bcl11a\tHyperDMR\t3787\n"
     ]
    },
    {
     "name": "stdout",
     "output_type": "stream",
     "text": [
      "IT-L23_Cux1\tHypoDMR \t33688\n",
      "IT-L23_Cux1\tHyperDMR\t736\n"
     ]
    },
    {
     "name": "stdout",
     "output_type": "stream",
     "text": [
      "CGE-Lamp5_Nrxn3\tHypoDMR \t12279\n",
      "CGE-Lamp5_Nrxn3\tHyperDMR\t4513\n"
     ]
    },
    {
     "name": "stdout",
     "output_type": "stream",
     "text": [
      "EC_Sema3g\tHypoDMR \t14172\n",
      "EC_Sema3g\tHyperDMR\t1054\n"
     ]
    },
    {
     "name": "stdout",
     "output_type": "stream",
     "text": [
      "MGE-Sst_Rerg\tHypoDMR \t10417\n",
      "MGE-Sst_Rerg\tHyperDMR\t11238\n"
     ]
    },
    {
     "name": "stdout",
     "output_type": "stream",
     "text": [
      "DG-po_Calb2\tHypoDMR \t22144\n",
      "DG-po_Calb2\tHyperDMR\t1384\n"
     ]
    },
    {
     "name": "stdout",
     "output_type": "stream",
     "text": [
      "MSN-D1_Ntn1\tHypoDMR \t15389\n",
      "MSN-D1_Ntn1\tHyperDMR\t9865\n"
     ]
    },
    {
     "name": "stdout",
     "output_type": "stream",
     "text": [
      "MSN-D1_Hrh1\tHypoDMR \t20332\n",
      "MSN-D1_Hrh1\tHyperDMR\t9641\n"
     ]
    },
    {
     "name": "stdout",
     "output_type": "stream",
     "text": [
      "MGE-Sst_Ptpre\tHypoDMR \t10981\n",
      "MGE-Sst_Ptpre\tHyperDMR\t8641\n"
     ]
    },
    {
     "name": "stdout",
     "output_type": "stream",
     "text": [
      "MGE-Sst_Frmd6\tHypoDMR \t7395\n",
      "MGE-Sst_Frmd6\tHyperDMR\t10291\n"
     ]
    },
    {
     "name": "stdout",
     "output_type": "stream",
     "text": [
      "MGE-Pvalb_Gfra2\tHypoDMR \t12444\n",
      "MGE-Pvalb_Gfra2\tHyperDMR\t10494\n"
     ]
    },
    {
     "name": "stdout",
     "output_type": "stream",
     "text": [
      "EP_Rgs8\tHypoDMR \t17777\n",
      "EP_Rgs8\tHyperDMR\t4442\n"
     ]
    },
    {
     "name": "stdout",
     "output_type": "stream",
     "text": [
      "D1L-PAL_Flrt2\tHypoDMR \t9318\n",
      "D1L-PAL_Flrt2\tHyperDMR\t13019\n"
     ]
    },
    {
     "name": "stdout",
     "output_type": "stream",
     "text": [
      "VLMC-Pia_vlmc-pia-all\tHypoDMR \t30906\n",
      "VLMC-Pia_vlmc-pia-all\tHyperDMR\t10851\n"
     ]
    },
    {
     "name": "stdout",
     "output_type": "stream",
     "text": [
      "IT-L6_Man1c1\tHypoDMR \t20994\n",
      "IT-L6_Man1c1\tHyperDMR\t2008\n"
     ]
    },
    {
     "name": "stdout",
     "output_type": "stream",
     "text": [
      "OLF-Exc_Sgcd\tHypoDMR \t20070\n",
      "OLF-Exc_Sgcd\tHyperDMR\t6694\n"
     ]
    },
    {
     "name": "stdout",
     "output_type": "stream",
     "text": [
      "OLF-Exc_Lrrtm3\tHypoDMR \t23747\n",
      "OLF-Exc_Lrrtm3\tHyperDMR\t1775\n"
     ]
    },
    {
     "name": "stdout",
     "output_type": "stream",
     "text": [
      "IT-L5_Grik3\tHypoDMR \t25740\n",
      "IT-L5_Grik3\tHyperDMR\t1927\n"
     ]
    },
    {
     "name": "stdout",
     "output_type": "stream",
     "text": [
      "Foxp2_Homer2\tHypoDMR \t7074\n",
      "Foxp2_Homer2\tHyperDMR\t8442\n"
     ]
    },
    {
     "name": "stdout",
     "output_type": "stream",
     "text": [
      "IT-L6_Fstl4\tHypoDMR \t27534\n",
      "IT-L6_Fstl4\tHyperDMR\t2244\n"
     ]
    },
    {
     "name": "stdout",
     "output_type": "stream",
     "text": [
      "MGE-Sst_Etv1\tHypoDMR \t7440\n",
      "MGE-Sst_Etv1\tHyperDMR\t6733\n"
     ]
    },
    {
     "name": "stdout",
     "output_type": "stream",
     "text": [
      "D1L-Fstl4_Trps1\tHypoDMR \t18360\n",
      "D1L-Fstl4_Trps1\tHyperDMR\t7853\n"
     ]
    },
    {
     "name": "stdout",
     "output_type": "stream",
     "text": [
      "MSN-D1_Khdrbs3\tHypoDMR \t20989\n",
      "MSN-D1_Khdrbs3\tHyperDMR\t9889\n"
     ]
    },
    {
     "name": "stdout",
     "output_type": "stream",
     "text": [
      "MGE-Sst_Unc5b\tHypoDMR \t11578\n",
      "MGE-Sst_Unc5b\tHyperDMR\t8064\n"
     ]
    },
    {
     "name": "stdout",
     "output_type": "stream",
     "text": [
      "IT-L6_Cadps2\tHypoDMR \t23266\n",
      "IT-L6_Cadps2\tHyperDMR\t2696\n"
     ]
    },
    {
     "name": "stdout",
     "output_type": "stream",
     "text": [
      "LSX-Inh_Cacna1i\tHypoDMR \t5593\n",
      "LSX-Inh_Cacna1i\tHyperDMR\t7497\n"
     ]
    },
    {
     "name": "stdout",
     "output_type": "stream",
     "text": [
      "Foxp2_Inpp4b\tHypoDMR \t6924\n",
      "Foxp2_Inpp4b\tHyperDMR\t9438\n"
     ]
    },
    {
     "name": "stdout",
     "output_type": "stream",
     "text": [
      "NP-L6_Olfml2b\tHypoDMR \t7401\n",
      "NP-L6_Olfml2b\tHyperDMR\t10192\n"
     ]
    },
    {
     "name": "stdout",
     "output_type": "stream",
     "text": [
      "MGE-Pvalb_Sema5a\tHypoDMR \t13591\n",
      "MGE-Pvalb_Sema5a\tHyperDMR\t8135\n"
     ]
    },
    {
     "name": "stdout",
     "output_type": "stream",
     "text": [
      "MGE-Pvalb_Cnih3\tHypoDMR \t12084\n",
      "MGE-Pvalb_Cnih3\tHyperDMR\t10604\n"
     ]
    },
    {
     "name": "stdout",
     "output_type": "stream",
     "text": [
      "Foxp2_Dchs2\tHypoDMR \t9316\n",
      "Foxp2_Dchs2\tHyperDMR\t7933\n"
     ]
    },
    {
     "name": "stdout",
     "output_type": "stream",
     "text": [
      "ASC_str-hpf\tHypoDMR \t19452\n",
      "ASC_str-hpf\tHyperDMR\t9197\n"
     ]
    },
    {
     "name": "stdout",
     "output_type": "stream",
     "text": [
      "CGE-Vip_Robo1\tHypoDMR \t10696\n",
      "CGE-Vip_Robo1\tHyperDMR\t14054\n"
     ]
    },
    {
     "name": "stdout",
     "output_type": "stream",
     "text": [
      "OLF_Kcnd3\tHypoDMR \t8354\n",
      "OLF_Kcnd3\tHyperDMR\t4214\n"
     ]
    },
    {
     "name": "stdout",
     "output_type": "stream",
     "text": [
      "CA3-St18_Epha5\tHypoDMR \t31778\n",
      "CA3-St18_Epha5\tHyperDMR\t2765\n"
     ]
    },
    {
     "name": "stdout",
     "output_type": "stream",
     "text": [
      "PT-L5_Ptprt\tHypoDMR \t17973\n",
      "PT-L5_Ptprt\tHyperDMR\t2586\n"
     ]
    },
    {
     "name": "stdout",
     "output_type": "stream",
     "text": [
      "CA1_Ak5\tHypoDMR \t19072\n",
      "CA1_Ak5\tHyperDMR\t998\n"
     ]
    },
    {
     "name": "stdout",
     "output_type": "stream",
     "text": [
      "CGE-Vip_Fstl4\tHypoDMR \t12471\n",
      "CGE-Vip_Fstl4\tHyperDMR\t8876\n"
     ]
    },
    {
     "name": "stdout",
     "output_type": "stream",
     "text": [
      "IT-L4_Astn2\tHypoDMR \t30616\n",
      "IT-L4_Astn2\tHyperDMR\t1660\n"
     ]
    },
    {
     "name": "stdout",
     "output_type": "stream",
     "text": [
      "OLF-Exc_Cux2\tHypoDMR \t21341\n",
      "OLF-Exc_Cux2\tHyperDMR\t2556\n"
     ]
    },
    {
     "name": "stdout",
     "output_type": "stream",
     "text": [
      "CGE-Lamp5_Dock5\tHypoDMR \t26727\n",
      "CGE-Lamp5_Dock5\tHyperDMR\t4464\n"
     ]
    },
    {
     "name": "stdout",
     "output_type": "stream",
     "text": [
      "ASC_mid\tHypoDMR \t21580\n",
      "ASC_mid\tHyperDMR\t9806\n"
     ]
    },
    {
     "name": "stdout",
     "output_type": "stream",
     "text": [
      "PAL-Inh_Meis1\tHypoDMR \t10153\n",
      "PAL-Inh_Meis1\tHyperDMR\t8032\n"
     ]
    },
    {
     "name": "stdout",
     "output_type": "stream",
     "text": [
      "PAL-Inh_Ptprd\tHypoDMR \t2979\n",
      "PAL-Inh_Ptprd\tHyperDMR\t19941\n"
     ]
    },
    {
     "name": "stdout",
     "output_type": "stream",
     "text": [
      "CGE-Vip_Galnt17\tHypoDMR \t13288\n",
      "CGE-Vip_Galnt17\tHyperDMR\t10567\n"
     ]
    },
    {
     "name": "stdout",
     "output_type": "stream",
     "text": [
      "EC_Abhd2\tHypoDMR \t49840\n",
      "EC_Abhd2\tHyperDMR\t8509\n"
     ]
    },
    {
     "name": "stdout",
     "output_type": "stream",
     "text": [
      "ODC_odc-large\tHypoDMR \t22161\n",
      "ODC_odc-large\tHyperDMR\t9456\n"
     ]
    },
    {
     "name": "stdout",
     "output_type": "stream",
     "text": [
      "PAL-Inh_Rarb\tHypoDMR \t4617\n",
      "PAL-Inh_Rarb\tHyperDMR\t18617\n"
     ]
    },
    {
     "name": "stdout",
     "output_type": "stream",
     "text": [
      "OLF-Exc_Rmst\tHypoDMR \t4531\n",
      "OLF-Exc_Rmst\tHyperDMR\t1833\n"
     ]
    },
    {
     "name": "stdout",
     "output_type": "stream",
     "text": [
      "OPC_opc-large\tHypoDMR \t27631\n",
      "OPC_opc-large\tHyperDMR\t7629\n"
     ]
    },
    {
     "name": "stdout",
     "output_type": "stream",
     "text": [
      "NP-L6_Kcnab1\tHypoDMR \t6437\n",
      "NP-L6_Kcnab1\tHyperDMR\t13943\n"
     ]
    },
    {
     "name": "stdout",
     "output_type": "stream",
     "text": [
      "PC_pc-all\tHypoDMR \t68287\n",
      "PC_pc-all\tHyperDMR\t8085\n"
     ]
    },
    {
     "name": "stdout",
     "output_type": "stream",
     "text": [
      "MGE-Pvalb_Cacna1i\tHypoDMR \t18201\n",
      "MGE-Pvalb_Cacna1i\tHyperDMR\t7783\n"
     ]
    },
    {
     "name": "stdout",
     "output_type": "stream",
     "text": [
      "OLF-Exc_Bmpr1b\tHypoDMR \t21441\n",
      "OLF-Exc_Bmpr1b\tHyperDMR\t562\n"
     ]
    },
    {
     "name": "stdout",
     "output_type": "stream",
     "text": [
      "OLF_Mapk10\tHypoDMR \t9755\n",
      "OLF_Mapk10\tHyperDMR\t2791\n"
     ]
    },
    {
     "name": "stdout",
     "output_type": "stream",
     "text": [
      "Foxp2_Trpc7\tHypoDMR \t16927\n",
      "Foxp2_Trpc7\tHyperDMR\t7741\n"
     ]
    },
    {
     "name": "stdout",
     "output_type": "stream",
     "text": [
      "CGE-Lamp5_Grk5\tHypoDMR \t24998\n",
      "CGE-Lamp5_Grk5\tHyperDMR\t4389\n"
     ]
    },
    {
     "name": "stdout",
     "output_type": "stream",
     "text": [
      "IT-L5_Cdh8\tHypoDMR \t29950\n",
      "IT-L5_Cdh8\tHyperDMR\t1732\n"
     ]
    },
    {
     "name": "stdout",
     "output_type": "stream",
     "text": [
      "IG-CA2_Peak1\tHypoDMR \t38847\n",
      "IG-CA2_Peak1\tHyperDMR\t3271\n"
     ]
    },
    {
     "name": "stdout",
     "output_type": "stream",
     "text": [
      "ANP_anp-dg\tHypoDMR \t31710\n",
      "ANP_anp-dg\tHyperDMR\t5317\n"
     ]
    },
    {
     "name": "stdout",
     "output_type": "stream",
     "text": [
      "OLF_Xkr6\tHypoDMR \t13630\n",
      "OLF_Xkr6\tHyperDMR\t2905\n"
     ]
    },
    {
     "name": "stdout",
     "output_type": "stream",
     "text": [
      "D1L-Fstl4_Cadm1\tHypoDMR \t10944\n",
      "D1L-Fstl4_Cadm1\tHyperDMR\t8772\n"
     ]
    },
    {
     "name": "stdout",
     "output_type": "stream",
     "text": [
      "IT-L4_Shc3\tHypoDMR \t28758\n",
      "IT-L4_Shc3\tHyperDMR\t1901\n"
     ]
    },
    {
     "name": "stdout",
     "output_type": "stream",
     "text": [
      "D1L-PAL_Plcxd3\tHypoDMR \t8505\n",
      "D1L-PAL_Plcxd3\tHyperDMR\t13447\n"
     ]
    },
    {
     "name": "stdout",
     "output_type": "stream",
     "text": [
      "L6b_Pkhd1\tHypoDMR \t5898\n",
      "L6b_Pkhd1\tHyperDMR\t1191\n"
     ]
    }
   ],
   "source": [
    "# parse results and add the robust mean judge\n",
    "for sample in samples:\n",
    "    # here saved a list of np.array\n",
    "    hypo_index = dmr_df[dmr_df['hypomethylated_samples'].fillna('').apply(lambda i: sample in i)].index\n",
    "    hyper_index = dmr_df[dmr_df['hypermethylated_samples'].fillna('').apply(lambda i: sample in i)].index\n",
    "    hypo_sig_dict[sample] = hypo_index & robust_mean_hypo_records[sample]\n",
    "    hyper_sig_dict[sample] = hyper_index & robust_mean_hyper_records[sample]\n",
    "    print(sample, 'HypoDMR ', hypo_sig_dict[sample].size, sep='\\t')\n",
    "    print(sample, 'HyperDMR', hyper_sig_dict[sample].size, sep='\\t')\n"
   ]
  },
  {
   "cell_type": "code",
   "execution_count": 15,
   "metadata": {
    "ExecuteTime": {
     "end_time": "2020-01-11T22:37:55.312551Z",
     "start_time": "2020-01-11T22:37:51.559575Z"
    },
    "papermill": {
     "duration": 1.962913,
     "end_time": "2020-01-20T00:49:10.537520",
     "exception": false,
     "start_time": "2020-01-20T00:49:08.574607",
     "status": "completed"
    },
    "tags": []
   },
   "outputs": [
    {
     "name": "stderr",
     "output_type": "stream",
     "text": [
      "/home/hanliu/miniconda3/envs/clustering/lib/python3.7/site-packages/tables/path.py:157: NaturalNameWarning: object name is not a valid Python identifier: 'CT-L6_Il1rap'; it does not match the pattern ``^[a-zA-Z_][a-zA-Z0-9_]*$``; you will not be able to use natural naming to access this object; using ``getattr()`` will still work, though\n",
      "  check_attribute_name(name)\n",
      "/home/hanliu/miniconda3/envs/clustering/lib/python3.7/site-packages/tables/path.py:157: NaturalNameWarning: object name is not a valid Python identifier: 'NP-L6_Cntnap5a'; it does not match the pattern ``^[a-zA-Z_][a-zA-Z0-9_]*$``; you will not be able to use natural naming to access this object; using ``getattr()`` will still work, though\n",
      "  check_attribute_name(name)\n",
      "/home/hanliu/miniconda3/envs/clustering/lib/python3.7/site-packages/tables/path.py:157: NaturalNameWarning: object name is not a valid Python identifier: 'CGE-Lamp5_Sorcs1'; it does not match the pattern ``^[a-zA-Z_][a-zA-Z0-9_]*$``; you will not be able to use natural naming to access this object; using ``getattr()`` will still work, though\n",
      "  check_attribute_name(name)\n",
      "/home/hanliu/miniconda3/envs/clustering/lib/python3.7/site-packages/tables/path.py:157: NaturalNameWarning: object name is not a valid Python identifier: 'CGE-Vip_Grm8'; it does not match the pattern ``^[a-zA-Z_][a-zA-Z0-9_]*$``; you will not be able to use natural naming to access this object; using ``getattr()`` will still work, though\n",
      "  check_attribute_name(name)\n",
      "/home/hanliu/miniconda3/envs/clustering/lib/python3.7/site-packages/tables/path.py:157: NaturalNameWarning: object name is not a valid Python identifier: 'LSX-Inh_Dock10'; it does not match the pattern ``^[a-zA-Z_][a-zA-Z0-9_]*$``; you will not be able to use natural naming to access this object; using ``getattr()`` will still work, though\n",
      "  check_attribute_name(name)\n",
      "/home/hanliu/miniconda3/envs/clustering/lib/python3.7/site-packages/tables/path.py:157: NaturalNameWarning: object name is not a valid Python identifier: 'CGE-Vip_Ccser1'; it does not match the pattern ``^[a-zA-Z_][a-zA-Z0-9_]*$``; you will not be able to use natural naming to access this object; using ``getattr()`` will still work, though\n",
      "  check_attribute_name(name)\n",
      "/home/hanliu/miniconda3/envs/clustering/lib/python3.7/site-packages/tables/path.py:157: NaturalNameWarning: object name is not a valid Python identifier: 'CGE-Vip_Ntng1'; it does not match the pattern ``^[a-zA-Z_][a-zA-Z0-9_]*$``; you will not be able to use natural naming to access this object; using ``getattr()`` will still work, though\n",
      "  check_attribute_name(name)\n",
      "/home/hanliu/miniconda3/envs/clustering/lib/python3.7/site-packages/tables/path.py:157: NaturalNameWarning: object name is not a valid Python identifier: 'ASC_cortex-olf'; it does not match the pattern ``^[a-zA-Z_][a-zA-Z0-9_]*$``; you will not be able to use natural naming to access this object; using ``getattr()`` will still work, though\n",
      "  check_attribute_name(name)\n",
      "/home/hanliu/miniconda3/envs/clustering/lib/python3.7/site-packages/tables/path.py:157: NaturalNameWarning: object name is not a valid Python identifier: 'MGE-Sst_Chodl'; it does not match the pattern ``^[a-zA-Z_][a-zA-Z0-9_]*$``; you will not be able to use natural naming to access this object; using ``getattr()`` will still work, though\n",
      "  check_attribute_name(name)\n",
      "/home/hanliu/miniconda3/envs/clustering/lib/python3.7/site-packages/tables/path.py:157: NaturalNameWarning: object name is not a valid Python identifier: 'IT-L6_Oxr1'; it does not match the pattern ``^[a-zA-Z_][a-zA-Z0-9_]*$``; you will not be able to use natural naming to access this object; using ``getattr()`` will still work, though\n",
      "  check_attribute_name(name)\n",
      "/home/hanliu/miniconda3/envs/clustering/lib/python3.7/site-packages/tables/path.py:157: NaturalNameWarning: object name is not a valid Python identifier: 'LSX-Inh_Lats2'; it does not match the pattern ``^[a-zA-Z_][a-zA-Z0-9_]*$``; you will not be able to use natural naming to access this object; using ``getattr()`` will still work, though\n",
      "  check_attribute_name(name)\n",
      "/home/hanliu/miniconda3/envs/clustering/lib/python3.7/site-packages/tables/path.py:157: NaturalNameWarning: object name is not a valid Python identifier: 'MGE-Sst_Bmper'; it does not match the pattern ``^[a-zA-Z_][a-zA-Z0-9_]*$``; you will not be able to use natural naming to access this object; using ``getattr()`` will still work, though\n",
      "  check_attribute_name(name)\n",
      "/home/hanliu/miniconda3/envs/clustering/lib/python3.7/site-packages/tables/path.py:157: NaturalNameWarning: object name is not a valid Python identifier: 'CT-L6_Megf9'; it does not match the pattern ``^[a-zA-Z_][a-zA-Z0-9_]*$``; you will not be able to use natural naming to access this object; using ``getattr()`` will still work, though\n",
      "  check_attribute_name(name)\n",
      "/home/hanliu/miniconda3/envs/clustering/lib/python3.7/site-packages/tables/path.py:157: NaturalNameWarning: object name is not a valid Python identifier: 'DG-po_Kctd8'; it does not match the pattern ``^[a-zA-Z_][a-zA-Z0-9_]*$``; you will not be able to use natural naming to access this object; using ``getattr()`` will still work, though\n",
      "  check_attribute_name(name)\n",
      "/home/hanliu/miniconda3/envs/clustering/lib/python3.7/site-packages/tables/path.py:157: NaturalNameWarning: object name is not a valid Python identifier: 'DG_dg-all'; it does not match the pattern ``^[a-zA-Z_][a-zA-Z0-9_]*$``; you will not be able to use natural naming to access this object; using ``getattr()`` will still work, though\n",
      "  check_attribute_name(name)\n",
      "/home/hanliu/miniconda3/envs/clustering/lib/python3.7/site-packages/tables/path.py:157: NaturalNameWarning: object name is not a valid Python identifier: 'NP-L6_Cyp7b1'; it does not match the pattern ``^[a-zA-Z_][a-zA-Z0-9_]*$``; you will not be able to use natural naming to access this object; using ``getattr()`` will still work, though\n",
      "  check_attribute_name(name)\n",
      "/home/hanliu/miniconda3/envs/clustering/lib/python3.7/site-packages/tables/path.py:157: NaturalNameWarning: object name is not a valid Python identifier: 'D1L-Fstl4_Crim1'; it does not match the pattern ``^[a-zA-Z_][a-zA-Z0-9_]*$``; you will not be able to use natural naming to access this object; using ``getattr()`` will still work, though\n",
      "  check_attribute_name(name)\n",
      "/home/hanliu/miniconda3/envs/clustering/lib/python3.7/site-packages/tables/path.py:157: NaturalNameWarning: object name is not a valid Python identifier: 'PT-L5_Tenm2'; it does not match the pattern ``^[a-zA-Z_][a-zA-Z0-9_]*$``; you will not be able to use natural naming to access this object; using ``getattr()`` will still work, though\n",
      "  check_attribute_name(name)\n",
      "/home/hanliu/miniconda3/envs/clustering/lib/python3.7/site-packages/tables/path.py:157: NaturalNameWarning: object name is not a valid Python identifier: 'CGE-Lamp5_Grid1'; it does not match the pattern ``^[a-zA-Z_][a-zA-Z0-9_]*$``; you will not be able to use natural naming to access this object; using ``getattr()`` will still work, though\n",
      "  check_attribute_name(name)\n",
      "/home/hanliu/miniconda3/envs/clustering/lib/python3.7/site-packages/tables/path.py:157: NaturalNameWarning: object name is not a valid Python identifier: 'OLF-Exc_Pld5'; it does not match the pattern ``^[a-zA-Z_][a-zA-Z0-9_]*$``; you will not be able to use natural naming to access this object; using ``getattr()`` will still work, though\n",
      "  check_attribute_name(name)\n",
      "/home/hanliu/miniconda3/envs/clustering/lib/python3.7/site-packages/tables/path.py:157: NaturalNameWarning: object name is not a valid Python identifier: 'PT-L5_Tmtc2'; it does not match the pattern ``^[a-zA-Z_][a-zA-Z0-9_]*$``; you will not be able to use natural naming to access this object; using ``getattr()`` will still work, though\n",
      "  check_attribute_name(name)\n",
      "/home/hanliu/miniconda3/envs/clustering/lib/python3.7/site-packages/tables/path.py:157: NaturalNameWarning: object name is not a valid Python identifier: 'CA3-St18_Tead1'; it does not match the pattern ``^[a-zA-Z_][a-zA-Z0-9_]*$``; you will not be able to use natural naming to access this object; using ``getattr()`` will still work, though\n",
      "  check_attribute_name(name)\n"
     ]
    },
    {
     "name": "stderr",
     "output_type": "stream",
     "text": [
      "/home/hanliu/miniconda3/envs/clustering/lib/python3.7/site-packages/tables/path.py:157: NaturalNameWarning: object name is not a valid Python identifier: 'PAL-Inh_Meis2'; it does not match the pattern ``^[a-zA-Z_][a-zA-Z0-9_]*$``; you will not be able to use natural naming to access this object; using ``getattr()`` will still work, though\n",
      "  check_attribute_name(name)\n",
      "/home/hanliu/miniconda3/envs/clustering/lib/python3.7/site-packages/tables/path.py:157: NaturalNameWarning: object name is not a valid Python identifier: 'NP-L6_Boc'; it does not match the pattern ``^[a-zA-Z_][a-zA-Z0-9_]*$``; you will not be able to use natural naming to access this object; using ``getattr()`` will still work, though\n",
      "  check_attribute_name(name)\n",
      "/home/hanliu/miniconda3/envs/clustering/lib/python3.7/site-packages/tables/path.py:157: NaturalNameWarning: object name is not a valid Python identifier: 'IT-L23_Foxp1'; it does not match the pattern ``^[a-zA-Z_][a-zA-Z0-9_]*$``; you will not be able to use natural naming to access this object; using ``getattr()`` will still work, though\n",
      "  check_attribute_name(name)\n",
      "/home/hanliu/miniconda3/envs/clustering/lib/python3.7/site-packages/tables/path.py:157: NaturalNameWarning: object name is not a valid Python identifier: 'MGC_mgc-all'; it does not match the pattern ``^[a-zA-Z_][a-zA-Z0-9_]*$``; you will not be able to use natural naming to access this object; using ``getattr()`` will still work, though\n",
      "  check_attribute_name(name)\n",
      "/home/hanliu/miniconda3/envs/clustering/lib/python3.7/site-packages/tables/path.py:157: NaturalNameWarning: object name is not a valid Python identifier: 'LSX-Inh_Nxph1'; it does not match the pattern ``^[a-zA-Z_][a-zA-Z0-9_]*$``; you will not be able to use natural naming to access this object; using ``getattr()`` will still work, though\n",
      "  check_attribute_name(name)\n",
      "/home/hanliu/miniconda3/envs/clustering/lib/python3.7/site-packages/tables/path.py:157: NaturalNameWarning: object name is not a valid Python identifier: 'CA3-St18_Nuak1'; it does not match the pattern ``^[a-zA-Z_][a-zA-Z0-9_]*$``; you will not be able to use natural naming to access this object; using ``getattr()`` will still work, though\n",
      "  check_attribute_name(name)\n",
      "/home/hanliu/miniconda3/envs/clustering/lib/python3.7/site-packages/tables/path.py:157: NaturalNameWarning: object name is not a valid Python identifier: 'MSN-D2_Nrp2'; it does not match the pattern ``^[a-zA-Z_][a-zA-Z0-9_]*$``; you will not be able to use natural naming to access this object; using ``getattr()`` will still work, though\n",
      "  check_attribute_name(name)\n",
      "/home/hanliu/miniconda3/envs/clustering/lib/python3.7/site-packages/tables/path.py:157: NaturalNameWarning: object name is not a valid Python identifier: 'PT-L5_Kcnh1'; it does not match the pattern ``^[a-zA-Z_][a-zA-Z0-9_]*$``; you will not be able to use natural naming to access this object; using ``getattr()`` will still work, though\n",
      "  check_attribute_name(name)\n",
      "/home/hanliu/miniconda3/envs/clustering/lib/python3.7/site-packages/tables/path.py:157: NaturalNameWarning: object name is not a valid Python identifier: 'LSX-Inh_Zeb2'; it does not match the pattern ``^[a-zA-Z_][a-zA-Z0-9_]*$``; you will not be able to use natural naming to access this object; using ``getattr()`` will still work, though\n",
      "  check_attribute_name(name)\n",
      "/home/hanliu/miniconda3/envs/clustering/lib/python3.7/site-packages/tables/path.py:157: NaturalNameWarning: object name is not a valid Python identifier: 'DG-po_Bcl11a'; it does not match the pattern ``^[a-zA-Z_][a-zA-Z0-9_]*$``; you will not be able to use natural naming to access this object; using ``getattr()`` will still work, though\n",
      "  check_attribute_name(name)\n",
      "/home/hanliu/miniconda3/envs/clustering/lib/python3.7/site-packages/tables/path.py:157: NaturalNameWarning: object name is not a valid Python identifier: 'PAL-Inh_Tmem178'; it does not match the pattern ``^[a-zA-Z_][a-zA-Z0-9_]*$``; you will not be able to use natural naming to access this object; using ``getattr()`` will still work, though\n",
      "  check_attribute_name(name)\n",
      "/home/hanliu/miniconda3/envs/clustering/lib/python3.7/site-packages/tables/path.py:157: NaturalNameWarning: object name is not a valid Python identifier: 'PAL-Inh_Tcf7l2'; it does not match the pattern ``^[a-zA-Z_][a-zA-Z0-9_]*$``; you will not be able to use natural naming to access this object; using ``getattr()`` will still work, though\n",
      "  check_attribute_name(name)\n",
      "/home/hanliu/miniconda3/envs/clustering/lib/python3.7/site-packages/tables/path.py:157: NaturalNameWarning: object name is not a valid Python identifier: 'CT-L6_Hcrtr2'; it does not match the pattern ``^[a-zA-Z_][a-zA-Z0-9_]*$``; you will not be able to use natural naming to access this object; using ``getattr()`` will still work, though\n",
      "  check_attribute_name(name)\n",
      "/home/hanliu/miniconda3/envs/clustering/lib/python3.7/site-packages/tables/path.py:157: NaturalNameWarning: object name is not a valid Python identifier: 'OLF-Exc_Cdh9'; it does not match the pattern ``^[a-zA-Z_][a-zA-Z0-9_]*$``; you will not be able to use natural naming to access this object; using ``getattr()`` will still work, though\n",
      "  check_attribute_name(name)\n",
      "/home/hanliu/miniconda3/envs/clustering/lib/python3.7/site-packages/tables/path.py:157: NaturalNameWarning: object name is not a valid Python identifier: 'PT-L5_Abca12'; it does not match the pattern ``^[a-zA-Z_][a-zA-Z0-9_]*$``; you will not be able to use natural naming to access this object; using ``getattr()`` will still work, though\n",
      "  check_attribute_name(name)\n",
      "/home/hanliu/miniconda3/envs/clustering/lib/python3.7/site-packages/tables/path.py:157: NaturalNameWarning: object name is not a valid Python identifier: 'MSN-D1_Plxnc1'; it does not match the pattern ``^[a-zA-Z_][a-zA-Z0-9_]*$``; you will not be able to use natural naming to access this object; using ``getattr()`` will still work, though\n",
      "  check_attribute_name(name)\n",
      "/home/hanliu/miniconda3/envs/clustering/lib/python3.7/site-packages/tables/path.py:157: NaturalNameWarning: object name is not a valid Python identifier: 'D1L-Fstl4_Sipa1l2'; it does not match the pattern ``^[a-zA-Z_][a-zA-Z0-9_]*$``; you will not be able to use natural naming to access this object; using ``getattr()`` will still work, though\n",
      "  check_attribute_name(name)\n",
      "/home/hanliu/miniconda3/envs/clustering/lib/python3.7/site-packages/tables/path.py:157: NaturalNameWarning: object name is not a valid Python identifier: 'PAL-Inh_Chat'; it does not match the pattern ``^[a-zA-Z_][a-zA-Z0-9_]*$``; you will not be able to use natural naming to access this object; using ``getattr()`` will still work, though\n",
      "  check_attribute_name(name)\n",
      "/home/hanliu/miniconda3/envs/clustering/lib/python3.7/site-packages/tables/path.py:157: NaturalNameWarning: object name is not a valid Python identifier: 'PT-L5_Unc5b'; it does not match the pattern ``^[a-zA-Z_][a-zA-Z0-9_]*$``; you will not be able to use natural naming to access this object; using ``getattr()`` will still work, though\n",
      "  check_attribute_name(name)\n",
      "/home/hanliu/miniconda3/envs/clustering/lib/python3.7/site-packages/tables/path.py:157: NaturalNameWarning: object name is not a valid Python identifier: 'MGE-Pvalb_Ptprk'; it does not match the pattern ``^[a-zA-Z_][a-zA-Z0-9_]*$``; you will not be able to use natural naming to access this object; using ``getattr()`` will still work, though\n",
      "  check_attribute_name(name)\n",
      "/home/hanliu/miniconda3/envs/clustering/lib/python3.7/site-packages/tables/path.py:157: NaturalNameWarning: object name is not a valid Python identifier: 'NP-L6_Cntnap4'; it does not match the pattern ``^[a-zA-Z_][a-zA-Z0-9_]*$``; you will not be able to use natural naming to access this object; using ``getattr()`` will still work, though\n",
      "  check_attribute_name(name)\n",
      "/home/hanliu/miniconda3/envs/clustering/lib/python3.7/site-packages/tables/path.py:157: NaturalNameWarning: object name is not a valid Python identifier: 'ODC_odc-small'; it does not match the pattern ``^[a-zA-Z_][a-zA-Z0-9_]*$``; you will not be able to use natural naming to access this object; using ``getattr()`` will still work, though\n",
      "  check_attribute_name(name)\n",
      "/home/hanliu/miniconda3/envs/clustering/lib/python3.7/site-packages/tables/path.py:157: NaturalNameWarning: object name is not a valid Python identifier: 'IG-CA2_Chrm3'; it does not match the pattern ``^[a-zA-Z_][a-zA-Z0-9_]*$``; you will not be able to use natural naming to access this object; using ``getattr()`` will still work, though\n",
      "  check_attribute_name(name)\n",
      "/home/hanliu/miniconda3/envs/clustering/lib/python3.7/site-packages/tables/path.py:157: NaturalNameWarning: object name is not a valid Python identifier: 'CGE-Vip_Clstn2'; it does not match the pattern ``^[a-zA-Z_][a-zA-Z0-9_]*$``; you will not be able to use natural naming to access this object; using ``getattr()`` will still work, though\n",
      "  check_attribute_name(name)\n",
      "/home/hanliu/miniconda3/envs/clustering/lib/python3.7/site-packages/tables/path.py:157: NaturalNameWarning: object name is not a valid Python identifier: 'PAL-Inh_Deptor'; it does not match the pattern ``^[a-zA-Z_][a-zA-Z0-9_]*$``; you will not be able to use natural naming to access this object; using ``getattr()`` will still work, though\n",
      "  check_attribute_name(name)\n"
     ]
    },
    {
     "name": "stderr",
     "output_type": "stream",
     "text": [
      "/home/hanliu/miniconda3/envs/clustering/lib/python3.7/site-packages/tables/path.py:157: NaturalNameWarning: object name is not a valid Python identifier: 'MGE-Pvalb_Entpd3'; it does not match the pattern ``^[a-zA-Z_][a-zA-Z0-9_]*$``; you will not be able to use natural naming to access this object; using ``getattr()`` will still work, though\n",
      "  check_attribute_name(name)\n",
      "/home/hanliu/miniconda3/envs/clustering/lib/python3.7/site-packages/tables/path.py:157: NaturalNameWarning: object name is not a valid Python identifier: 'MGE-Sst_Ubtd1'; it does not match the pattern ``^[a-zA-Z_][a-zA-Z0-9_]*$``; you will not be able to use natural naming to access this object; using ``getattr()`` will still work, though\n",
      "  check_attribute_name(name)\n",
      "/home/hanliu/miniconda3/envs/clustering/lib/python3.7/site-packages/tables/path.py:157: NaturalNameWarning: object name is not a valid Python identifier: 'PT-L5_Plcb4'; it does not match the pattern ``^[a-zA-Z_][a-zA-Z0-9_]*$``; you will not be able to use natural naming to access this object; using ``getattr()`` will still work, though\n",
      "  check_attribute_name(name)\n",
      "/home/hanliu/miniconda3/envs/clustering/lib/python3.7/site-packages/tables/path.py:157: NaturalNameWarning: object name is not a valid Python identifier: 'MGE-Pvalb_Thsd7a'; it does not match the pattern ``^[a-zA-Z_][a-zA-Z0-9_]*$``; you will not be able to use natural naming to access this object; using ``getattr()`` will still work, though\n",
      "  check_attribute_name(name)\n",
      "/home/hanliu/miniconda3/envs/clustering/lib/python3.7/site-packages/tables/path.py:157: NaturalNameWarning: object name is not a valid Python identifier: 'MSN-D2_Slc24a2'; it does not match the pattern ``^[a-zA-Z_][a-zA-Z0-9_]*$``; you will not be able to use natural naming to access this object; using ``getattr()`` will still work, though\n",
      "  check_attribute_name(name)\n",
      "/home/hanliu/miniconda3/envs/clustering/lib/python3.7/site-packages/tables/path.py:157: NaturalNameWarning: object name is not a valid Python identifier: 'MGE-Sst_Kcnip4'; it does not match the pattern ``^[a-zA-Z_][a-zA-Z0-9_]*$``; you will not be able to use natural naming to access this object; using ``getattr()`` will still work, though\n",
      "  check_attribute_name(name)\n",
      "/home/hanliu/miniconda3/envs/clustering/lib/python3.7/site-packages/tables/path.py:157: NaturalNameWarning: object name is not a valid Python identifier: 'MGE-Sst_Rxra'; it does not match the pattern ``^[a-zA-Z_][a-zA-Z0-9_]*$``; you will not be able to use natural naming to access this object; using ``getattr()`` will still work, though\n",
      "  check_attribute_name(name)\n",
      "/home/hanliu/miniconda3/envs/clustering/lib/python3.7/site-packages/tables/path.py:157: NaturalNameWarning: object name is not a valid Python identifier: 'LSX-Inh_Foxp2'; it does not match the pattern ``^[a-zA-Z_][a-zA-Z0-9_]*$``; you will not be able to use natural naming to access this object; using ``getattr()`` will still work, though\n",
      "  check_attribute_name(name)\n",
      "/home/hanliu/miniconda3/envs/clustering/lib/python3.7/site-packages/tables/path.py:157: NaturalNameWarning: object name is not a valid Python identifier: 'PAL-Inh_Onecut2'; it does not match the pattern ``^[a-zA-Z_][a-zA-Z0-9_]*$``; you will not be able to use natural naming to access this object; using ``getattr()`` will still work, though\n",
      "  check_attribute_name(name)\n",
      "/home/hanliu/miniconda3/envs/clustering/lib/python3.7/site-packages/tables/path.py:157: NaturalNameWarning: object name is not a valid Python identifier: 'LSX-Inh_Enox1'; it does not match the pattern ``^[a-zA-Z_][a-zA-Z0-9_]*$``; you will not be able to use natural naming to access this object; using ``getattr()`` will still work, though\n",
      "  check_attribute_name(name)\n",
      "/home/hanliu/miniconda3/envs/clustering/lib/python3.7/site-packages/tables/path.py:157: NaturalNameWarning: object name is not a valid Python identifier: 'CGE-Vip_Ptprm'; it does not match the pattern ``^[a-zA-Z_][a-zA-Z0-9_]*$``; you will not be able to use natural naming to access this object; using ``getattr()`` will still work, though\n",
      "  check_attribute_name(name)\n",
      "/home/hanliu/miniconda3/envs/clustering/lib/python3.7/site-packages/tables/path.py:157: NaturalNameWarning: object name is not a valid Python identifier: 'OPC_opc-small'; it does not match the pattern ``^[a-zA-Z_][a-zA-Z0-9_]*$``; you will not be able to use natural naming to access this object; using ``getattr()`` will still work, though\n",
      "  check_attribute_name(name)\n",
      "/home/hanliu/miniconda3/envs/clustering/lib/python3.7/site-packages/tables/path.py:157: NaturalNameWarning: object name is not a valid Python identifier: 'IT-L23_Tenm2'; it does not match the pattern ``^[a-zA-Z_][a-zA-Z0-9_]*$``; you will not be able to use natural naming to access this object; using ``getattr()`` will still work, though\n",
      "  check_attribute_name(name)\n",
      "/home/hanliu/miniconda3/envs/clustering/lib/python3.7/site-packages/tables/path.py:157: NaturalNameWarning: object name is not a valid Python identifier: 'PAL-Inh_Igdcc3'; it does not match the pattern ``^[a-zA-Z_][a-zA-Z0-9_]*$``; you will not be able to use natural naming to access this object; using ``getattr()`` will still work, though\n",
      "  check_attribute_name(name)\n",
      "/home/hanliu/miniconda3/envs/clustering/lib/python3.7/site-packages/tables/path.py:157: NaturalNameWarning: object name is not a valid Python identifier: 'MSN-D2_Casz1'; it does not match the pattern ``^[a-zA-Z_][a-zA-Z0-9_]*$``; you will not be able to use natural naming to access this object; using ``getattr()`` will still work, though\n",
      "  check_attribute_name(name)\n",
      "/home/hanliu/miniconda3/envs/clustering/lib/python3.7/site-packages/tables/path.py:157: NaturalNameWarning: object name is not a valid Python identifier: 'IT-L5_Etv1'; it does not match the pattern ``^[a-zA-Z_][a-zA-Z0-9_]*$``; you will not be able to use natural naming to access this object; using ``getattr()`` will still work, though\n",
      "  check_attribute_name(name)\n",
      "/home/hanliu/miniconda3/envs/clustering/lib/python3.7/site-packages/tables/path.py:157: NaturalNameWarning: object name is not a valid Python identifier: 'PT-L5_Nectin1'; it does not match the pattern ``^[a-zA-Z_][a-zA-Z0-9_]*$``; you will not be able to use natural naming to access this object; using ``getattr()`` will still work, though\n",
      "  check_attribute_name(name)\n",
      "/home/hanliu/miniconda3/envs/clustering/lib/python3.7/site-packages/tables/path.py:157: NaturalNameWarning: object name is not a valid Python identifier: 'D1L-Fstl4_Grm3'; it does not match the pattern ``^[a-zA-Z_][a-zA-Z0-9_]*$``; you will not be able to use natural naming to access this object; using ``getattr()`` will still work, though\n",
      "  check_attribute_name(name)\n",
      "/home/hanliu/miniconda3/envs/clustering/lib/python3.7/site-packages/tables/path.py:157: NaturalNameWarning: object name is not a valid Python identifier: 'PT-L5_Astn2'; it does not match the pattern ``^[a-zA-Z_][a-zA-Z0-9_]*$``; you will not be able to use natural naming to access this object; using ``getattr()`` will still work, though\n",
      "  check_attribute_name(name)\n"
     ]
    },
    {
     "name": "stderr",
     "output_type": "stream",
     "text": [
      "/home/hanliu/miniconda3/envs/clustering/lib/python3.7/site-packages/tables/path.py:157: NaturalNameWarning: object name is not a valid Python identifier: 'MGE-Sst_Dock4'; it does not match the pattern ``^[a-zA-Z_][a-zA-Z0-9_]*$``; you will not be able to use natural naming to access this object; using ``getattr()`` will still work, though\n",
      "  check_attribute_name(name)\n",
      "/home/hanliu/miniconda3/envs/clustering/lib/python3.7/site-packages/tables/path.py:157: NaturalNameWarning: object name is not a valid Python identifier: 'IT-L23_Ptprt'; it does not match the pattern ``^[a-zA-Z_][a-zA-Z0-9_]*$``; you will not be able to use natural naming to access this object; using ``getattr()`` will still work, though\n",
      "  check_attribute_name(name)\n",
      "/home/hanliu/miniconda3/envs/clustering/lib/python3.7/site-packages/tables/path.py:157: NaturalNameWarning: object name is not a valid Python identifier: 'MSN-D2_Col14a1'; it does not match the pattern ``^[a-zA-Z_][a-zA-Z0-9_]*$``; you will not be able to use natural naming to access this object; using ``getattr()`` will still work, though\n",
      "  check_attribute_name(name)\n",
      "/home/hanliu/miniconda3/envs/clustering/lib/python3.7/site-packages/tables/path.py:157: NaturalNameWarning: object name is not a valid Python identifier: 'OLF-Exc_Unc13c'; it does not match the pattern ``^[a-zA-Z_][a-zA-Z0-9_]*$``; you will not be able to use natural naming to access this object; using ``getattr()`` will still work, though\n",
      "  check_attribute_name(name)\n",
      "/home/hanliu/miniconda3/envs/clustering/lib/python3.7/site-packages/tables/path.py:157: NaturalNameWarning: object name is not a valid Python identifier: 'CT-L6_Map4'; it does not match the pattern ``^[a-zA-Z_][a-zA-Z0-9_]*$``; you will not be able to use natural naming to access this object; using ``getattr()`` will still work, though\n",
      "  check_attribute_name(name)\n",
      "/home/hanliu/miniconda3/envs/clustering/lib/python3.7/site-packages/tables/path.py:157: NaturalNameWarning: object name is not a valid Python identifier: 'IG-CA2_Xpr1'; it does not match the pattern ``^[a-zA-Z_][a-zA-Z0-9_]*$``; you will not be able to use natural naming to access this object; using ``getattr()`` will still work, though\n",
      "  check_attribute_name(name)\n",
      "/home/hanliu/miniconda3/envs/clustering/lib/python3.7/site-packages/tables/path.py:157: NaturalNameWarning: object name is not a valid Python identifier: 'ANP_anp-olf-cnu'; it does not match the pattern ``^[a-zA-Z_][a-zA-Z0-9_]*$``; you will not be able to use natural naming to access this object; using ``getattr()`` will still work, though\n",
      "  check_attribute_name(name)\n",
      "/home/hanliu/miniconda3/envs/clustering/lib/python3.7/site-packages/tables/path.py:157: NaturalNameWarning: object name is not a valid Python identifier: 'IT-L23_Cux1'; it does not match the pattern ``^[a-zA-Z_][a-zA-Z0-9_]*$``; you will not be able to use natural naming to access this object; using ``getattr()`` will still work, though\n",
      "  check_attribute_name(name)\n",
      "/home/hanliu/miniconda3/envs/clustering/lib/python3.7/site-packages/tables/path.py:157: NaturalNameWarning: object name is not a valid Python identifier: 'CGE-Lamp5_Nrxn3'; it does not match the pattern ``^[a-zA-Z_][a-zA-Z0-9_]*$``; you will not be able to use natural naming to access this object; using ``getattr()`` will still work, though\n",
      "  check_attribute_name(name)\n",
      "/home/hanliu/miniconda3/envs/clustering/lib/python3.7/site-packages/tables/path.py:157: NaturalNameWarning: object name is not a valid Python identifier: 'MGE-Sst_Rerg'; it does not match the pattern ``^[a-zA-Z_][a-zA-Z0-9_]*$``; you will not be able to use natural naming to access this object; using ``getattr()`` will still work, though\n",
      "  check_attribute_name(name)\n",
      "/home/hanliu/miniconda3/envs/clustering/lib/python3.7/site-packages/tables/path.py:157: NaturalNameWarning: object name is not a valid Python identifier: 'DG-po_Calb2'; it does not match the pattern ``^[a-zA-Z_][a-zA-Z0-9_]*$``; you will not be able to use natural naming to access this object; using ``getattr()`` will still work, though\n",
      "  check_attribute_name(name)\n",
      "/home/hanliu/miniconda3/envs/clustering/lib/python3.7/site-packages/tables/path.py:157: NaturalNameWarning: object name is not a valid Python identifier: 'MSN-D1_Ntn1'; it does not match the pattern ``^[a-zA-Z_][a-zA-Z0-9_]*$``; you will not be able to use natural naming to access this object; using ``getattr()`` will still work, though\n",
      "  check_attribute_name(name)\n",
      "/home/hanliu/miniconda3/envs/clustering/lib/python3.7/site-packages/tables/path.py:157: NaturalNameWarning: object name is not a valid Python identifier: 'MSN-D1_Hrh1'; it does not match the pattern ``^[a-zA-Z_][a-zA-Z0-9_]*$``; you will not be able to use natural naming to access this object; using ``getattr()`` will still work, though\n",
      "  check_attribute_name(name)\n",
      "/home/hanliu/miniconda3/envs/clustering/lib/python3.7/site-packages/tables/path.py:157: NaturalNameWarning: object name is not a valid Python identifier: 'MGE-Sst_Ptpre'; it does not match the pattern ``^[a-zA-Z_][a-zA-Z0-9_]*$``; you will not be able to use natural naming to access this object; using ``getattr()`` will still work, though\n",
      "  check_attribute_name(name)\n",
      "/home/hanliu/miniconda3/envs/clustering/lib/python3.7/site-packages/tables/path.py:157: NaturalNameWarning: object name is not a valid Python identifier: 'MGE-Sst_Frmd6'; it does not match the pattern ``^[a-zA-Z_][a-zA-Z0-9_]*$``; you will not be able to use natural naming to access this object; using ``getattr()`` will still work, though\n",
      "  check_attribute_name(name)\n",
      "/home/hanliu/miniconda3/envs/clustering/lib/python3.7/site-packages/tables/path.py:157: NaturalNameWarning: object name is not a valid Python identifier: 'MGE-Pvalb_Gfra2'; it does not match the pattern ``^[a-zA-Z_][a-zA-Z0-9_]*$``; you will not be able to use natural naming to access this object; using ``getattr()`` will still work, though\n",
      "  check_attribute_name(name)\n",
      "/home/hanliu/miniconda3/envs/clustering/lib/python3.7/site-packages/tables/path.py:157: NaturalNameWarning: object name is not a valid Python identifier: 'D1L-PAL_Flrt2'; it does not match the pattern ``^[a-zA-Z_][a-zA-Z0-9_]*$``; you will not be able to use natural naming to access this object; using ``getattr()`` will still work, though\n",
      "  check_attribute_name(name)\n",
      "/home/hanliu/miniconda3/envs/clustering/lib/python3.7/site-packages/tables/path.py:157: NaturalNameWarning: object name is not a valid Python identifier: 'VLMC-Pia_vlmc-pia-all'; it does not match the pattern ``^[a-zA-Z_][a-zA-Z0-9_]*$``; you will not be able to use natural naming to access this object; using ``getattr()`` will still work, though\n",
      "  check_attribute_name(name)\n",
      "/home/hanliu/miniconda3/envs/clustering/lib/python3.7/site-packages/tables/path.py:157: NaturalNameWarning: object name is not a valid Python identifier: 'IT-L6_Man1c1'; it does not match the pattern ``^[a-zA-Z_][a-zA-Z0-9_]*$``; you will not be able to use natural naming to access this object; using ``getattr()`` will still work, though\n",
      "  check_attribute_name(name)\n",
      "/home/hanliu/miniconda3/envs/clustering/lib/python3.7/site-packages/tables/path.py:157: NaturalNameWarning: object name is not a valid Python identifier: 'OLF-Exc_Sgcd'; it does not match the pattern ``^[a-zA-Z_][a-zA-Z0-9_]*$``; you will not be able to use natural naming to access this object; using ``getattr()`` will still work, though\n",
      "  check_attribute_name(name)\n",
      "/home/hanliu/miniconda3/envs/clustering/lib/python3.7/site-packages/tables/path.py:157: NaturalNameWarning: object name is not a valid Python identifier: 'OLF-Exc_Lrrtm3'; it does not match the pattern ``^[a-zA-Z_][a-zA-Z0-9_]*$``; you will not be able to use natural naming to access this object; using ``getattr()`` will still work, though\n",
      "  check_attribute_name(name)\n",
      "/home/hanliu/miniconda3/envs/clustering/lib/python3.7/site-packages/tables/path.py:157: NaturalNameWarning: object name is not a valid Python identifier: 'IT-L5_Grik3'; it does not match the pattern ``^[a-zA-Z_][a-zA-Z0-9_]*$``; you will not be able to use natural naming to access this object; using ``getattr()`` will still work, though\n",
      "  check_attribute_name(name)\n",
      "/home/hanliu/miniconda3/envs/clustering/lib/python3.7/site-packages/tables/path.py:157: NaturalNameWarning: object name is not a valid Python identifier: 'IT-L6_Fstl4'; it does not match the pattern ``^[a-zA-Z_][a-zA-Z0-9_]*$``; you will not be able to use natural naming to access this object; using ``getattr()`` will still work, though\n",
      "  check_attribute_name(name)\n"
     ]
    },
    {
     "name": "stderr",
     "output_type": "stream",
     "text": [
      "/home/hanliu/miniconda3/envs/clustering/lib/python3.7/site-packages/tables/path.py:157: NaturalNameWarning: object name is not a valid Python identifier: 'MGE-Sst_Etv1'; it does not match the pattern ``^[a-zA-Z_][a-zA-Z0-9_]*$``; you will not be able to use natural naming to access this object; using ``getattr()`` will still work, though\n",
      "  check_attribute_name(name)\n",
      "/home/hanliu/miniconda3/envs/clustering/lib/python3.7/site-packages/tables/path.py:157: NaturalNameWarning: object name is not a valid Python identifier: 'D1L-Fstl4_Trps1'; it does not match the pattern ``^[a-zA-Z_][a-zA-Z0-9_]*$``; you will not be able to use natural naming to access this object; using ``getattr()`` will still work, though\n",
      "  check_attribute_name(name)\n",
      "/home/hanliu/miniconda3/envs/clustering/lib/python3.7/site-packages/tables/path.py:157: NaturalNameWarning: object name is not a valid Python identifier: 'MSN-D1_Khdrbs3'; it does not match the pattern ``^[a-zA-Z_][a-zA-Z0-9_]*$``; you will not be able to use natural naming to access this object; using ``getattr()`` will still work, though\n",
      "  check_attribute_name(name)\n",
      "/home/hanliu/miniconda3/envs/clustering/lib/python3.7/site-packages/tables/path.py:157: NaturalNameWarning: object name is not a valid Python identifier: 'MGE-Sst_Unc5b'; it does not match the pattern ``^[a-zA-Z_][a-zA-Z0-9_]*$``; you will not be able to use natural naming to access this object; using ``getattr()`` will still work, though\n",
      "  check_attribute_name(name)\n",
      "/home/hanliu/miniconda3/envs/clustering/lib/python3.7/site-packages/tables/path.py:157: NaturalNameWarning: object name is not a valid Python identifier: 'IT-L6_Cadps2'; it does not match the pattern ``^[a-zA-Z_][a-zA-Z0-9_]*$``; you will not be able to use natural naming to access this object; using ``getattr()`` will still work, though\n",
      "  check_attribute_name(name)\n",
      "/home/hanliu/miniconda3/envs/clustering/lib/python3.7/site-packages/tables/path.py:157: NaturalNameWarning: object name is not a valid Python identifier: 'LSX-Inh_Cacna1i'; it does not match the pattern ``^[a-zA-Z_][a-zA-Z0-9_]*$``; you will not be able to use natural naming to access this object; using ``getattr()`` will still work, though\n",
      "  check_attribute_name(name)\n",
      "/home/hanliu/miniconda3/envs/clustering/lib/python3.7/site-packages/tables/path.py:157: NaturalNameWarning: object name is not a valid Python identifier: 'NP-L6_Olfml2b'; it does not match the pattern ``^[a-zA-Z_][a-zA-Z0-9_]*$``; you will not be able to use natural naming to access this object; using ``getattr()`` will still work, though\n",
      "  check_attribute_name(name)\n",
      "/home/hanliu/miniconda3/envs/clustering/lib/python3.7/site-packages/tables/path.py:157: NaturalNameWarning: object name is not a valid Python identifier: 'MGE-Pvalb_Sema5a'; it does not match the pattern ``^[a-zA-Z_][a-zA-Z0-9_]*$``; you will not be able to use natural naming to access this object; using ``getattr()`` will still work, though\n",
      "  check_attribute_name(name)\n",
      "/home/hanliu/miniconda3/envs/clustering/lib/python3.7/site-packages/tables/path.py:157: NaturalNameWarning: object name is not a valid Python identifier: 'MGE-Pvalb_Cnih3'; it does not match the pattern ``^[a-zA-Z_][a-zA-Z0-9_]*$``; you will not be able to use natural naming to access this object; using ``getattr()`` will still work, though\n",
      "  check_attribute_name(name)\n",
      "/home/hanliu/miniconda3/envs/clustering/lib/python3.7/site-packages/tables/path.py:157: NaturalNameWarning: object name is not a valid Python identifier: 'ASC_str-hpf'; it does not match the pattern ``^[a-zA-Z_][a-zA-Z0-9_]*$``; you will not be able to use natural naming to access this object; using ``getattr()`` will still work, though\n",
      "  check_attribute_name(name)\n",
      "/home/hanliu/miniconda3/envs/clustering/lib/python3.7/site-packages/tables/path.py:157: NaturalNameWarning: object name is not a valid Python identifier: 'CGE-Vip_Robo1'; it does not match the pattern ``^[a-zA-Z_][a-zA-Z0-9_]*$``; you will not be able to use natural naming to access this object; using ``getattr()`` will still work, though\n",
      "  check_attribute_name(name)\n",
      "/home/hanliu/miniconda3/envs/clustering/lib/python3.7/site-packages/tables/path.py:157: NaturalNameWarning: object name is not a valid Python identifier: 'CA3-St18_Epha5'; it does not match the pattern ``^[a-zA-Z_][a-zA-Z0-9_]*$``; you will not be able to use natural naming to access this object; using ``getattr()`` will still work, though\n",
      "  check_attribute_name(name)\n",
      "/home/hanliu/miniconda3/envs/clustering/lib/python3.7/site-packages/tables/path.py:157: NaturalNameWarning: object name is not a valid Python identifier: 'PT-L5_Ptprt'; it does not match the pattern ``^[a-zA-Z_][a-zA-Z0-9_]*$``; you will not be able to use natural naming to access this object; using ``getattr()`` will still work, though\n",
      "  check_attribute_name(name)\n",
      "/home/hanliu/miniconda3/envs/clustering/lib/python3.7/site-packages/tables/path.py:157: NaturalNameWarning: object name is not a valid Python identifier: 'CGE-Vip_Fstl4'; it does not match the pattern ``^[a-zA-Z_][a-zA-Z0-9_]*$``; you will not be able to use natural naming to access this object; using ``getattr()`` will still work, though\n",
      "  check_attribute_name(name)\n",
      "/home/hanliu/miniconda3/envs/clustering/lib/python3.7/site-packages/tables/path.py:157: NaturalNameWarning: object name is not a valid Python identifier: 'IT-L4_Astn2'; it does not match the pattern ``^[a-zA-Z_][a-zA-Z0-9_]*$``; you will not be able to use natural naming to access this object; using ``getattr()`` will still work, though\n",
      "  check_attribute_name(name)\n",
      "/home/hanliu/miniconda3/envs/clustering/lib/python3.7/site-packages/tables/path.py:157: NaturalNameWarning: object name is not a valid Python identifier: 'OLF-Exc_Cux2'; it does not match the pattern ``^[a-zA-Z_][a-zA-Z0-9_]*$``; you will not be able to use natural naming to access this object; using ``getattr()`` will still work, though\n",
      "  check_attribute_name(name)\n",
      "/home/hanliu/miniconda3/envs/clustering/lib/python3.7/site-packages/tables/path.py:157: NaturalNameWarning: object name is not a valid Python identifier: 'CGE-Lamp5_Dock5'; it does not match the pattern ``^[a-zA-Z_][a-zA-Z0-9_]*$``; you will not be able to use natural naming to access this object; using ``getattr()`` will still work, though\n",
      "  check_attribute_name(name)\n",
      "/home/hanliu/miniconda3/envs/clustering/lib/python3.7/site-packages/tables/path.py:157: NaturalNameWarning: object name is not a valid Python identifier: 'PAL-Inh_Meis1'; it does not match the pattern ``^[a-zA-Z_][a-zA-Z0-9_]*$``; you will not be able to use natural naming to access this object; using ``getattr()`` will still work, though\n",
      "  check_attribute_name(name)\n",
      "/home/hanliu/miniconda3/envs/clustering/lib/python3.7/site-packages/tables/path.py:157: NaturalNameWarning: object name is not a valid Python identifier: 'PAL-Inh_Ptprd'; it does not match the pattern ``^[a-zA-Z_][a-zA-Z0-9_]*$``; you will not be able to use natural naming to access this object; using ``getattr()`` will still work, though\n",
      "  check_attribute_name(name)\n",
      "/home/hanliu/miniconda3/envs/clustering/lib/python3.7/site-packages/tables/path.py:157: NaturalNameWarning: object name is not a valid Python identifier: 'CGE-Vip_Galnt17'; it does not match the pattern ``^[a-zA-Z_][a-zA-Z0-9_]*$``; you will not be able to use natural naming to access this object; using ``getattr()`` will still work, though\n",
      "  check_attribute_name(name)\n",
      "/home/hanliu/miniconda3/envs/clustering/lib/python3.7/site-packages/tables/path.py:157: NaturalNameWarning: object name is not a valid Python identifier: 'ODC_odc-large'; it does not match the pattern ``^[a-zA-Z_][a-zA-Z0-9_]*$``; you will not be able to use natural naming to access this object; using ``getattr()`` will still work, though\n",
      "  check_attribute_name(name)\n",
      "/home/hanliu/miniconda3/envs/clustering/lib/python3.7/site-packages/tables/path.py:157: NaturalNameWarning: object name is not a valid Python identifier: 'PAL-Inh_Rarb'; it does not match the pattern ``^[a-zA-Z_][a-zA-Z0-9_]*$``; you will not be able to use natural naming to access this object; using ``getattr()`` will still work, though\n",
      "  check_attribute_name(name)\n",
      "/home/hanliu/miniconda3/envs/clustering/lib/python3.7/site-packages/tables/path.py:157: NaturalNameWarning: object name is not a valid Python identifier: 'OLF-Exc_Rmst'; it does not match the pattern ``^[a-zA-Z_][a-zA-Z0-9_]*$``; you will not be able to use natural naming to access this object; using ``getattr()`` will still work, though\n",
      "  check_attribute_name(name)\n",
      "/home/hanliu/miniconda3/envs/clustering/lib/python3.7/site-packages/tables/path.py:157: NaturalNameWarning: object name is not a valid Python identifier: 'OPC_opc-large'; it does not match the pattern ``^[a-zA-Z_][a-zA-Z0-9_]*$``; you will not be able to use natural naming to access this object; using ``getattr()`` will still work, though\n",
      "  check_attribute_name(name)\n"
     ]
    },
    {
     "name": "stderr",
     "output_type": "stream",
     "text": [
      "/home/hanliu/miniconda3/envs/clustering/lib/python3.7/site-packages/tables/path.py:157: NaturalNameWarning: object name is not a valid Python identifier: 'NP-L6_Kcnab1'; it does not match the pattern ``^[a-zA-Z_][a-zA-Z0-9_]*$``; you will not be able to use natural naming to access this object; using ``getattr()`` will still work, though\n",
      "  check_attribute_name(name)\n",
      "/home/hanliu/miniconda3/envs/clustering/lib/python3.7/site-packages/tables/path.py:157: NaturalNameWarning: object name is not a valid Python identifier: 'PC_pc-all'; it does not match the pattern ``^[a-zA-Z_][a-zA-Z0-9_]*$``; you will not be able to use natural naming to access this object; using ``getattr()`` will still work, though\n",
      "  check_attribute_name(name)\n",
      "/home/hanliu/miniconda3/envs/clustering/lib/python3.7/site-packages/tables/path.py:157: NaturalNameWarning: object name is not a valid Python identifier: 'MGE-Pvalb_Cacna1i'; it does not match the pattern ``^[a-zA-Z_][a-zA-Z0-9_]*$``; you will not be able to use natural naming to access this object; using ``getattr()`` will still work, though\n",
      "  check_attribute_name(name)\n",
      "/home/hanliu/miniconda3/envs/clustering/lib/python3.7/site-packages/tables/path.py:157: NaturalNameWarning: object name is not a valid Python identifier: 'OLF-Exc_Bmpr1b'; it does not match the pattern ``^[a-zA-Z_][a-zA-Z0-9_]*$``; you will not be able to use natural naming to access this object; using ``getattr()`` will still work, though\n",
      "  check_attribute_name(name)\n",
      "/home/hanliu/miniconda3/envs/clustering/lib/python3.7/site-packages/tables/path.py:157: NaturalNameWarning: object name is not a valid Python identifier: 'CGE-Lamp5_Grk5'; it does not match the pattern ``^[a-zA-Z_][a-zA-Z0-9_]*$``; you will not be able to use natural naming to access this object; using ``getattr()`` will still work, though\n",
      "  check_attribute_name(name)\n",
      "/home/hanliu/miniconda3/envs/clustering/lib/python3.7/site-packages/tables/path.py:157: NaturalNameWarning: object name is not a valid Python identifier: 'IT-L5_Cdh8'; it does not match the pattern ``^[a-zA-Z_][a-zA-Z0-9_]*$``; you will not be able to use natural naming to access this object; using ``getattr()`` will still work, though\n",
      "  check_attribute_name(name)\n",
      "/home/hanliu/miniconda3/envs/clustering/lib/python3.7/site-packages/tables/path.py:157: NaturalNameWarning: object name is not a valid Python identifier: 'IG-CA2_Peak1'; it does not match the pattern ``^[a-zA-Z_][a-zA-Z0-9_]*$``; you will not be able to use natural naming to access this object; using ``getattr()`` will still work, though\n",
      "  check_attribute_name(name)\n",
      "/home/hanliu/miniconda3/envs/clustering/lib/python3.7/site-packages/tables/path.py:157: NaturalNameWarning: object name is not a valid Python identifier: 'ANP_anp-dg'; it does not match the pattern ``^[a-zA-Z_][a-zA-Z0-9_]*$``; you will not be able to use natural naming to access this object; using ``getattr()`` will still work, though\n",
      "  check_attribute_name(name)\n",
      "/home/hanliu/miniconda3/envs/clustering/lib/python3.7/site-packages/tables/path.py:157: NaturalNameWarning: object name is not a valid Python identifier: 'D1L-Fstl4_Cadm1'; it does not match the pattern ``^[a-zA-Z_][a-zA-Z0-9_]*$``; you will not be able to use natural naming to access this object; using ``getattr()`` will still work, though\n",
      "  check_attribute_name(name)\n",
      "/home/hanliu/miniconda3/envs/clustering/lib/python3.7/site-packages/tables/path.py:157: NaturalNameWarning: object name is not a valid Python identifier: 'IT-L4_Shc3'; it does not match the pattern ``^[a-zA-Z_][a-zA-Z0-9_]*$``; you will not be able to use natural naming to access this object; using ``getattr()`` will still work, though\n",
      "  check_attribute_name(name)\n",
      "/home/hanliu/miniconda3/envs/clustering/lib/python3.7/site-packages/tables/path.py:157: NaturalNameWarning: object name is not a valid Python identifier: 'D1L-PAL_Plcxd3'; it does not match the pattern ``^[a-zA-Z_][a-zA-Z0-9_]*$``; you will not be able to use natural naming to access this object; using ``getattr()`` will still work, though\n",
      "  check_attribute_name(name)\n"
     ]
    }
   ],
   "source": [
    "with pd.HDFStore(pathlib.Path(dmr_path).parent / 'DMRInfo.h5') as hdf:\n",
    "    for sample, hypo_index in hypo_sig_dict.items():\n",
    "        hdf[f'HypoDMR/{sample}'] = pd.Series(hypo_index)\n",
    "    for sample, hyper_index in hyper_sig_dict.items():\n",
    "        hdf[f'HyperDMR/{sample}'] = pd.Series(hyper_index)"
   ]
  },
  {
   "cell_type": "markdown",
   "metadata": {
    "papermill": {
     "duration": 0.044686,
     "end_time": "2020-01-20T00:49:10.626057",
     "exception": false,
     "start_time": "2020-01-20T00:49:10.581371",
     "status": "completed"
    },
    "scrolled": true,
    "tags": []
   },
   "source": [
    "## Dump DMR bed"
   ]
  },
  {
   "cell_type": "code",
   "execution_count": 16,
   "metadata": {
    "ExecuteTime": {
     "end_time": "2020-01-11T22:42:42.323174Z",
     "start_time": "2020-01-11T22:42:20.036468Z"
    },
    "papermill": {
     "duration": 10.18832,
     "end_time": "2020-01-20T00:49:20.858250",
     "exception": false,
     "start_time": "2020-01-20T00:49:10.669930",
     "status": "completed"
    },
    "tags": []
   },
   "outputs": [],
   "source": [
    "hypo_dir = pathlib.Path(dmr_path).parent / 'HypoDMR'\n",
    "hypo_dir.mkdir(exist_ok=True)\n",
    "for sample, hypo_index in hypo_sig_dict.items():\n",
    "    _bed = dmr_bed.loc[hypo_index].reset_index().iloc[:, [1, 2, 3, 0]].to_csv(\n",
    "        hypo_dir / f'{sample}.DMS{dms_cutoff}.bed', sep='\\t', index=None, header=None)"
   ]
  },
  {
   "cell_type": "code",
   "execution_count": 17,
   "metadata": {
    "ExecuteTime": {
     "end_time": "2020-01-11T22:42:59.706247Z",
     "start_time": "2020-01-11T22:42:42.325171Z"
    },
    "papermill": {
     "duration": 4.194063,
     "end_time": "2020-01-20T00:49:25.096516",
     "exception": false,
     "start_time": "2020-01-20T00:49:20.902453",
     "status": "completed"
    },
    "tags": []
   },
   "outputs": [],
   "source": [
    "hyper_dir = pathlib.Path(dmr_path).parent / 'HyperDMR'\n",
    "hyper_dir.mkdir(exist_ok=True)\n",
    "for sample, hyper_index in hyper_sig_dict.items():\n",
    "    _bed = dmr_bed.loc[hyper_index].reset_index().iloc[:, [1, 2, 3, 0]].to_csv(\n",
    "        hyper_dir / f'{sample}.DMS{dms_cutoff}.bed', sep='\\t', index=None, header=None)"
   ]
  },
  {
   "cell_type": "markdown",
   "metadata": {
    "papermill": {
     "duration": 0.043365,
     "end_time": "2020-01-20T00:49:25.183932",
     "exception": false,
     "start_time": "2020-01-20T00:49:25.140567",
     "status": "completed"
    },
    "tags": []
   },
   "source": [
    "## DMR hits matrix"
   ]
  },
  {
   "cell_type": "code",
   "execution_count": 18,
   "metadata": {
    "ExecuteTime": {
     "end_time": "2020-01-11T22:43:06.080778Z",
     "start_time": "2020-01-11T22:42:59.708925Z"
    },
    "papermill": {
     "duration": 1.873068,
     "end_time": "2020-01-20T00:49:27.100751",
     "exception": false,
     "start_time": "2020-01-20T00:49:25.227683",
     "status": "completed"
    },
    "tags": []
   },
   "outputs": [
    {
     "name": "stderr",
     "output_type": "stream",
     "text": [
      "... storing '#chr' as categorical\n"
     ]
    }
   ],
   "source": [
    "sig_dict = hypo_sig_dict\n",
    "\n",
    "rows = []\n",
    "cols = []\n",
    "datas = []\n",
    "for i, (sample, dmr_index) in enumerate(sig_dict.items()):\n",
    "    col = dmr_index.map(lambda i: i.split('_')[1]).astype(int).values\n",
    "    row = (np.ones_like(col) * i).astype(int)\n",
    "    data = np.ones_like(col)\n",
    "    rows.append(row)\n",
    "    cols.append(col)\n",
    "    datas.append(data)\n",
    "datas = np.concatenate(datas)\n",
    "cols = np.concatenate(cols)\n",
    "rows = np.concatenate(rows)\n",
    "hits = csr_matrix((datas, (rows, cols)),\n",
    "                  shape=(mc_rate.shape[1], dmr_bed.shape[0]))\n",
    "\n",
    "# obs is DMR, var is sample, because all analysis is dmr focused\n",
    "dmr_hits = anndata.AnnData(X=hits.T,\n",
    "                           obs=dmr_bed,\n",
    "                           var=pd.DataFrame([], index=mc_rate.columns))\n",
    "\n",
    "dmr_hits.write_h5ad(hypo_dir / 'TotalHits.h5ad')\n"
   ]
  },
  {
   "cell_type": "code",
   "execution_count": 19,
   "metadata": {
    "ExecuteTime": {
     "end_time": "2020-01-11T22:43:11.941645Z",
     "start_time": "2020-01-11T22:43:06.082301Z"
    },
    "papermill": {
     "duration": 1.082018,
     "end_time": "2020-01-20T00:49:28.226607",
     "exception": false,
     "start_time": "2020-01-20T00:49:27.144589",
     "status": "completed"
    },
    "tags": []
   },
   "outputs": [
    {
     "name": "stderr",
     "output_type": "stream",
     "text": [
      "... storing '#chr' as categorical\n"
     ]
    }
   ],
   "source": [
    "sig_dict = hyper_sig_dict\n",
    "\n",
    "rows = []\n",
    "cols = []\n",
    "datas = []\n",
    "for i, (sample, dmr_index) in enumerate(sig_dict.items()):\n",
    "    col = dmr_index.map(lambda i: i.split('_')[1]).astype(int).values\n",
    "    row = (np.ones_like(col) * i).astype(int)\n",
    "    data = np.ones_like(col)\n",
    "    rows.append(row)\n",
    "    cols.append(col)\n",
    "    datas.append(data)\n",
    "datas = np.concatenate(datas)\n",
    "cols = np.concatenate(cols)\n",
    "rows = np.concatenate(rows)\n",
    "hits = csr_matrix((datas, (rows, cols)),\n",
    "                  shape=(mc_rate.shape[1], dmr_bed.shape[0]))\n",
    "\n",
    "# obs is DMR, var is sample, because all analysis is dmr focused\n",
    "dmr_hits = anndata.AnnData(X=hits.T,\n",
    "                           obs=dmr_bed,\n",
    "                           var=pd.DataFrame([], index=mc_rate.columns))\n",
    "\n",
    "dmr_hits.write_h5ad(hyper_dir / 'TotalHits.h5ad')"
   ]
  },
  {
   "cell_type": "code",
   "execution_count": null,
   "metadata": {
    "papermill": {
     "duration": 0.043726,
     "end_time": "2020-01-20T00:49:28.314406",
     "exception": false,
     "start_time": "2020-01-20T00:49:28.270680",
     "status": "completed"
    },
    "tags": []
   },
   "outputs": [],
   "source": []
  },
  {
   "cell_type": "code",
   "execution_count": null,
   "metadata": {
    "papermill": {
     "duration": 0.043469,
     "end_time": "2020-01-20T00:49:28.401391",
     "exception": false,
     "start_time": "2020-01-20T00:49:28.357922",
     "status": "completed"
    },
    "tags": []
   },
   "outputs": [],
   "source": []
  },
  {
   "cell_type": "code",
   "execution_count": null,
   "metadata": {
    "papermill": {
     "duration": 0.043879,
     "end_time": "2020-01-20T00:49:28.490032",
     "exception": false,
     "start_time": "2020-01-20T00:49:28.446153",
     "status": "completed"
    },
    "tags": []
   },
   "outputs": [],
   "source": []
  }
 ],
 "metadata": {
  "hide_input": false,
  "kernelspec": {
   "display_name": "Python 3",
   "language": "python",
   "name": "python3"
  },
  "language_info": {
   "codemirror_mode": {
    "name": "ipython",
    "version": 3
   },
   "file_extension": ".py",
   "mimetype": "text/x-python",
   "name": "python",
   "nbconvert_exporter": "python",
   "pygments_lexer": "ipython3",
   "version": "3.7.3"
  },
  "papermill": {
   "duration": 109.373053,
   "end_time": "2020-01-20T00:49:29.140554",
   "environment_variables": {},
   "exception": null,
   "input_path": "1.FilterDMRRecipe_robust_mean_delta.ipynb",
   "output_path": "/home/hanliu/project/mouse_rostral_brain/DMR/SubType/raw/SubType-chr5/Recipe/1.FilterDMRRecipe_robust_mean_delta.ipynb",
   "parameters": {
    "black_list_path": "/home/hanliu/ref/blacklist/mm10-blacklist.v2.bed.gz",
    "delta_to_mean": 0.3,
    "dmr_path": "/home/hanliu/project/mouse_rostral_brain/DMR/SubType/raw/SubType-chr5/SubType-chr5_rms_results_collapsed.tsv",
    "dmr_prefix": "Sub",
    "dms_cutoff": 1,
    "skip_quantile": 0.25
   },
   "start_time": "2020-01-20T00:47:39.767501",
   "version": "1.0.1"
  },
  "toc": {
   "base_numbering": 1,
   "nav_menu": {},
   "number_sections": true,
   "sideBar": true,
   "skip_h1_title": true,
   "title_cell": "Table of Contents",
   "title_sidebar": "Contents",
   "toc_cell": false,
   "toc_position": {},
   "toc_section_display": true,
   "toc_window_display": true
  }
 },
 "nbformat": 4,
 "nbformat_minor": 2
}