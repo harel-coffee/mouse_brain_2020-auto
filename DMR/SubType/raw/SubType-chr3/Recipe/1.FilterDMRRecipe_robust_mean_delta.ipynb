{
 "cells": [
  {
   "cell_type": "code",
   "execution_count": 1,
   "metadata": {
    "ExecuteTime": {
     "end_time": "2020-01-11T22:34:59.427434Z",
     "start_time": "2020-01-11T22:34:55.795119Z"
    },
    "papermill": {
     "duration": 0.47092,
     "end_time": "2020-01-20T00:26:33.006767",
     "exception": false,
     "start_time": "2020-01-20T00:26:32.535847",
     "status": "completed"
    },
    "tags": []
   },
   "outputs": [],
   "source": [
    "import pathlib\n",
    "import numpy as np\n",
    "import pandas as pd\n",
    "from scipy.sparse import csr_matrix\n",
    "import anndata\n",
    "from pybedtools import BedTool"
   ]
  },
  {
   "cell_type": "markdown",
   "metadata": {
    "ExecuteTime": {
     "end_time": "2020-01-10T03:41:10.279754Z",
     "start_time": "2020-01-10T03:41:10.259634Z"
    },
    "papermill": {
     "duration": 0.01132,
     "end_time": "2020-01-20T00:26:33.030711",
     "exception": false,
     "start_time": "2020-01-20T00:26:33.019391",
     "status": "completed"
    },
    "tags": []
   },
   "source": [
    "## Parameter"
   ]
  },
  {
   "cell_type": "code",
   "execution_count": 2,
   "metadata": {
    "ExecuteTime": {
     "end_time": "2020-01-11T22:38:49.094144Z",
     "start_time": "2020-01-11T22:38:49.091240Z"
    },
    "papermill": {
     "duration": 0.016148,
     "end_time": "2020-01-20T00:26:33.057528",
     "exception": false,
     "start_time": "2020-01-20T00:26:33.041380",
     "status": "completed"
    },
    "tags": [
     "parameters"
    ]
   },
   "outputs": [],
   "source": [
    "dmr_path = '/home/hanliu/project/mouse_rostral_brain/DMR/ITSpatial/ITSpatial_rms_results_collapsed.tsv'\n",
    "dmr_prefix = 'DGmCH'\n",
    "\n",
    "black_list_path = '/home/hanliu/ref/blacklist/mm10-blacklist.v2.bed.gz'\n",
    "skip_quantile = 0.25\n",
    "delta_to_mean = 0.1\n",
    "dms_cutoff = 1"
   ]
  },
  {
   "cell_type": "code",
   "execution_count": 3,
   "metadata": {
    "papermill": {
     "duration": 0.015432,
     "end_time": "2020-01-20T00:26:33.083061",
     "exception": false,
     "start_time": "2020-01-20T00:26:33.067629",
     "status": "completed"
    },
    "tags": [
     "injected-parameters"
    ]
   },
   "outputs": [],
   "source": [
    "# Parameters\n",
    "dmr_path = \"/home/hanliu/project/mouse_rostral_brain/DMR/SubType/raw/SubType-chr3/SubType-chr3_rms_results_collapsed.tsv\"\n",
    "dmr_prefix = \"Sub\"\n",
    "black_list_path = \"/home/hanliu/ref/blacklist/mm10-blacklist.v2.bed.gz\"\n",
    "skip_quantile = 0.25\n",
    "delta_to_mean = 0.3\n",
    "dms_cutoff = 1\n"
   ]
  },
  {
   "cell_type": "markdown",
   "metadata": {
    "papermill": {
     "duration": 0.010064,
     "end_time": "2020-01-20T00:26:33.103249",
     "exception": false,
     "start_time": "2020-01-20T00:26:33.093185",
     "status": "completed"
    },
    "tags": []
   },
   "source": [
    "## Read DMR"
   ]
  },
  {
   "cell_type": "code",
   "execution_count": 4,
   "metadata": {
    "ExecuteTime": {
     "end_time": "2020-01-11T22:35:10.769093Z",
     "start_time": "2020-01-11T22:34:59.434004Z"
    },
    "papermill": {
     "duration": 9.434714,
     "end_time": "2020-01-20T00:26:42.548295",
     "exception": false,
     "start_time": "2020-01-20T00:26:33.113581",
     "status": "completed"
    },
    "scrolled": true,
    "tags": []
   },
   "outputs": [
    {
     "name": "stdout",
     "output_type": "stream",
     "text": [
      "281105 dmr before filter\n"
     ]
    }
   ],
   "source": [
    "# get column and n_sample\n",
    "dmr_column = pd.read_csv(dmr_path, sep='\\t', nrows=0).columns\n",
    "n_sample = dmr_column.size - 6\n",
    "dmr_column = dmr_column.map(lambda i: i[18:] if 'methylation_level_' in i else i)\n",
    "samples = dmr_column[6:]\n",
    "\n",
    "dmr_region_infos = []\n",
    "mc_rates = []\n",
    "hypo_sig_dict = {sample: [] for sample in samples}\n",
    "hyper_sig_dict = {sample: [] for sample in samples}\n",
    "\n",
    "dmr_df = pd.read_csv(dmr_path, sep='\\t', skiprows=1, names=dmr_column)\n",
    "print(dmr_df.shape[0], 'dmr before filter')\n",
    "dmr_df.index = dmr_df.index.map(lambda i: f'{dmr_prefix}_{i}')\n",
    "\n",
    "# save raw info\n",
    "dmr_bed = dmr_df.iloc[:, :4].copy()\n",
    "mc_rate = dmr_df.iloc[:, 6:].copy()"
   ]
  },
  {
   "cell_type": "markdown",
   "metadata": {
    "papermill": {
     "duration": 0.011167,
     "end_time": "2020-01-20T00:26:42.572051",
     "exception": false,
     "start_time": "2020-01-20T00:26:42.560884",
     "status": "completed"
    },
    "tags": []
   },
   "source": [
    "## Save unfiltered dmr info"
   ]
  },
  {
   "cell_type": "code",
   "execution_count": 5,
   "metadata": {
    "ExecuteTime": {
     "end_time": "2020-01-11T22:35:16.445637Z",
     "start_time": "2020-01-11T22:35:10.772172Z"
    },
    "papermill": {
     "duration": 1.266647,
     "end_time": "2020-01-20T00:26:43.849229",
     "exception": false,
     "start_time": "2020-01-20T00:26:42.582582",
     "status": "completed"
    },
    "tags": []
   },
   "outputs": [],
   "source": [
    "with pd.HDFStore(pathlib.Path(dmr_path).parent / 'DMRInfo.h5') as hdf:\n",
    "    hdf['Rate'] = mc_rate\n",
    "    hdf['Bed'] = dmr_bed"
   ]
  },
  {
   "cell_type": "code",
   "execution_count": 6,
   "metadata": {
    "ExecuteTime": {
     "end_time": "2020-01-11T22:35:21.606943Z",
     "start_time": "2020-01-11T22:35:16.447435Z"
    },
    "papermill": {
     "duration": 0.761051,
     "end_time": "2020-01-20T00:26:44.622515",
     "exception": false,
     "start_time": "2020-01-20T00:26:43.861464",
     "status": "completed"
    },
    "tags": []
   },
   "outputs": [],
   "source": [
    "dmr_bed.reset_index().iloc[:, [1, 2, 3, 0]].to_csv(pathlib.Path(dmr_path).parent / 'TotalDMR.nofilter.bed', \n",
    "                                                   index=None, header=None, sep='\\t')"
   ]
  },
  {
   "cell_type": "markdown",
   "metadata": {
    "papermill": {
     "duration": 0.010989,
     "end_time": "2020-01-20T00:26:44.645309",
     "exception": false,
     "start_time": "2020-01-20T00:26:44.634320",
     "status": "completed"
    },
    "tags": []
   },
   "source": [
    "## Filter DMR based on min-max delta and blacklist"
   ]
  },
  {
   "cell_type": "code",
   "execution_count": 7,
   "metadata": {
    "ExecuteTime": {
     "end_time": "2020-01-11T22:35:55.834942Z",
     "start_time": "2020-01-11T22:35:54.438986Z"
    },
    "papermill": {
     "duration": 1.16383,
     "end_time": "2020-01-20T00:26:45.819685",
     "exception": false,
     "start_time": "2020-01-20T00:26:44.655855",
     "status": "completed"
    },
    "tags": []
   },
   "outputs": [
    {
     "name": "stdout",
     "output_type": "stream",
     "text": [
      "263484 dmr pass delta filter\n"
     ]
    }
   ],
   "source": [
    "# filter by min max delta first, if DMR do not pass min max filter, it won't have sig sample anyway\n",
    "delta_judge = (mc_rate.max(axis=1) - mc_rate.min(axis=1)) > delta_to_mean\n",
    "delta_index = mc_rate.index[delta_judge]\n",
    "\n",
    "print(delta_index.size, 'dmr pass delta filter')"
   ]
  },
  {
   "cell_type": "code",
   "execution_count": 8,
   "metadata": {
    "ExecuteTime": {
     "end_time": "2020-01-11T22:36:06.271131Z",
     "start_time": "2020-01-11T22:35:57.053249Z"
    },
    "papermill": {
     "duration": 1.449667,
     "end_time": "2020-01-20T00:26:47.281561",
     "exception": false,
     "start_time": "2020-01-20T00:26:45.831894",
     "status": "completed"
    },
    "tags": []
   },
   "outputs": [
    {
     "name": "stdout",
     "output_type": "stream",
     "text": [
      "273502 dmr pass blacklist filter\n"
     ]
    }
   ],
   "source": [
    "# filter by blacklist\n",
    "black_list = pd.read_csv(black_list_path, sep='\\t', header=None)\n",
    "black_list = BedTool.from_dataframe(black_list)\n",
    "\n",
    "_dmr_bed = BedTool.from_dataframe(dmr_bed.reset_index().iloc[:, [1,2,3,0]])\n",
    "filtered_dmr_bed = _dmr_bed.intersect(black_list, v=True).to_dataframe().set_index('name')\n",
    "\n",
    "white_index = filtered_dmr_bed.index\n",
    "print(white_index.size, 'dmr pass blacklist filter')"
   ]
  },
  {
   "cell_type": "code",
   "execution_count": 9,
   "metadata": {
    "ExecuteTime": {
     "end_time": "2020-01-11T22:36:12.105983Z",
     "start_time": "2020-01-11T22:36:08.675938Z"
    },
    "papermill": {
     "duration": 0.88031,
     "end_time": "2020-01-20T00:26:48.174272",
     "exception": false,
     "start_time": "2020-01-20T00:26:47.293962",
     "status": "completed"
    },
    "tags": []
   },
   "outputs": [
    {
     "name": "stdout",
     "output_type": "stream",
     "text": [
      "256373 dmr after filter\n"
     ]
    },
    {
     "data": {
      "text/html": [
       "<div>\n",
       "<style scoped>\n",
       "    .dataframe tbody tr th:only-of-type {\n",
       "        vertical-align: middle;\n",
       "    }\n",
       "\n",
       "    .dataframe tbody tr th {\n",
       "        vertical-align: top;\n",
       "    }\n",
       "\n",
       "    .dataframe thead th {\n",
       "        text-align: right;\n",
       "    }\n",
       "</style>\n",
       "<table border=\"1\" class=\"dataframe\">\n",
       "  <thead>\n",
       "    <tr style=\"text-align: right;\">\n",
       "      <th></th>\n",
       "      <th>#chr</th>\n",
       "      <th>start</th>\n",
       "      <th>end</th>\n",
       "      <th>number_of_dms</th>\n",
       "      <th>hypermethylated_samples</th>\n",
       "      <th>hypomethylated_samples</th>\n",
       "      <th>CT-L6_Il1rap</th>\n",
       "      <th>NP-L6_Cntnap5a</th>\n",
       "      <th>CGE-Lamp5_Sorcs1</th>\n",
       "      <th>CGE-Vip_Grm8</th>\n",
       "      <th>...</th>\n",
       "      <th>Foxp2_Trpc7</th>\n",
       "      <th>CGE-Lamp5_Grk5</th>\n",
       "      <th>IT-L5_Cdh8</th>\n",
       "      <th>IG-CA2_Peak1</th>\n",
       "      <th>ANP_anp-dg</th>\n",
       "      <th>OLF_Xkr6</th>\n",
       "      <th>D1L-Fstl4_Cadm1</th>\n",
       "      <th>IT-L4_Shc3</th>\n",
       "      <th>D1L-PAL_Plcxd3</th>\n",
       "      <th>L6b_Pkhd1</th>\n",
       "    </tr>\n",
       "  </thead>\n",
       "  <tbody>\n",
       "    <tr>\n",
       "      <th>Sub_72</th>\n",
       "      <td>chr3</td>\n",
       "      <td>3052767</td>\n",
       "      <td>3052767</td>\n",
       "      <td>1</td>\n",
       "      <td>NaN</td>\n",
       "      <td>CGE-Lamp5_Grid1,ODC_odc-small,MSN-D1_Hrh1,MGE-...</td>\n",
       "      <td>0.891892</td>\n",
       "      <td>0.933333</td>\n",
       "      <td>1.000000</td>\n",
       "      <td>1.000000</td>\n",
       "      <td>...</td>\n",
       "      <td>0.916667</td>\n",
       "      <td>0.891304</td>\n",
       "      <td>0.878049</td>\n",
       "      <td>0.909091</td>\n",
       "      <td>0.923077</td>\n",
       "      <td>0.500000</td>\n",
       "      <td>0.833333</td>\n",
       "      <td>0.914286</td>\n",
       "      <td>0.840000</td>\n",
       "      <td>1.000000</td>\n",
       "    </tr>\n",
       "    <tr>\n",
       "      <th>Sub_73</th>\n",
       "      <td>chr3</td>\n",
       "      <td>3053175</td>\n",
       "      <td>3053217</td>\n",
       "      <td>2</td>\n",
       "      <td>IT-L4_Astn2</td>\n",
       "      <td>Chd7_Megf11,MGC_mgc-all,ODC_odc-small,VLMC-Pia...</td>\n",
       "      <td>0.840278</td>\n",
       "      <td>0.840909</td>\n",
       "      <td>0.814815</td>\n",
       "      <td>0.956522</td>\n",
       "      <td>...</td>\n",
       "      <td>0.810526</td>\n",
       "      <td>0.840000</td>\n",
       "      <td>0.852941</td>\n",
       "      <td>0.871795</td>\n",
       "      <td>0.695652</td>\n",
       "      <td>1.000000</td>\n",
       "      <td>0.744681</td>\n",
       "      <td>0.879699</td>\n",
       "      <td>0.735294</td>\n",
       "      <td>0.500000</td>\n",
       "    </tr>\n",
       "    <tr>\n",
       "      <th>Sub_74</th>\n",
       "      <td>chr3</td>\n",
       "      <td>3054558</td>\n",
       "      <td>3054721</td>\n",
       "      <td>2</td>\n",
       "      <td>MSN-D2_Nrp2,IT-L6_Man1c1,PT-L5_Tenm2,IG-CA2_Peak1</td>\n",
       "      <td>ODC_odc-large,OPC_opc-large,VLMC_Col4a1,MGC_mg...</td>\n",
       "      <td>0.728155</td>\n",
       "      <td>0.596154</td>\n",
       "      <td>0.650000</td>\n",
       "      <td>0.666667</td>\n",
       "      <td>...</td>\n",
       "      <td>0.569444</td>\n",
       "      <td>0.618182</td>\n",
       "      <td>0.621622</td>\n",
       "      <td>0.885714</td>\n",
       "      <td>0.647059</td>\n",
       "      <td>NaN</td>\n",
       "      <td>0.588235</td>\n",
       "      <td>0.696970</td>\n",
       "      <td>0.628571</td>\n",
       "      <td>0.666667</td>\n",
       "    </tr>\n",
       "    <tr>\n",
       "      <th>Sub_75</th>\n",
       "      <td>chr3</td>\n",
       "      <td>3055298</td>\n",
       "      <td>3055695</td>\n",
       "      <td>5</td>\n",
       "      <td>IT-L5_Etv1,OLF-Exc_Sgcd,DG_dg-all,MSN-D1_Ntn1,...</td>\n",
       "      <td>CT-L6_Il1rap,MGC_mgc-all,PAL-Inh_Tcf7l2,ODC_od...</td>\n",
       "      <td>0.775591</td>\n",
       "      <td>0.822222</td>\n",
       "      <td>0.729167</td>\n",
       "      <td>0.766667</td>\n",
       "      <td>...</td>\n",
       "      <td>0.734300</td>\n",
       "      <td>0.731061</td>\n",
       "      <td>0.799197</td>\n",
       "      <td>0.778761</td>\n",
       "      <td>0.596154</td>\n",
       "      <td>0.785714</td>\n",
       "      <td>0.619048</td>\n",
       "      <td>0.780220</td>\n",
       "      <td>0.718447</td>\n",
       "      <td>1.000000</td>\n",
       "    </tr>\n",
       "    <tr>\n",
       "      <th>Sub_76</th>\n",
       "      <td>chr3</td>\n",
       "      <td>3056411</td>\n",
       "      <td>3056411</td>\n",
       "      <td>1</td>\n",
       "      <td>NaN</td>\n",
       "      <td>ODC_odc-small,D1L-Fstl4_Grm3,VLMC_Mapk4,MSN-D1...</td>\n",
       "      <td>0.812500</td>\n",
       "      <td>0.925926</td>\n",
       "      <td>0.750000</td>\n",
       "      <td>0.833333</td>\n",
       "      <td>...</td>\n",
       "      <td>0.755556</td>\n",
       "      <td>0.770492</td>\n",
       "      <td>0.891304</td>\n",
       "      <td>0.954545</td>\n",
       "      <td>0.933333</td>\n",
       "      <td>1.000000</td>\n",
       "      <td>0.833333</td>\n",
       "      <td>0.888889</td>\n",
       "      <td>0.894737</td>\n",
       "      <td>1.000000</td>\n",
       "    </tr>\n",
       "  </tbody>\n",
       "</table>\n",
       "<p>5 rows × 167 columns</p>\n",
       "</div>"
      ],
      "text/plain": [
       "        #chr    start      end  number_of_dms  \\\n",
       "Sub_72  chr3  3052767  3052767              1   \n",
       "Sub_73  chr3  3053175  3053217              2   \n",
       "Sub_74  chr3  3054558  3054721              2   \n",
       "Sub_75  chr3  3055298  3055695              5   \n",
       "Sub_76  chr3  3056411  3056411              1   \n",
       "\n",
       "                                  hypermethylated_samples  \\\n",
       "Sub_72                                                NaN   \n",
       "Sub_73                                        IT-L4_Astn2   \n",
       "Sub_74  MSN-D2_Nrp2,IT-L6_Man1c1,PT-L5_Tenm2,IG-CA2_Peak1   \n",
       "Sub_75  IT-L5_Etv1,OLF-Exc_Sgcd,DG_dg-all,MSN-D1_Ntn1,...   \n",
       "Sub_76                                                NaN   \n",
       "\n",
       "                                   hypomethylated_samples  CT-L6_Il1rap  \\\n",
       "Sub_72  CGE-Lamp5_Grid1,ODC_odc-small,MSN-D1_Hrh1,MGE-...      0.891892   \n",
       "Sub_73  Chd7_Megf11,MGC_mgc-all,ODC_odc-small,VLMC-Pia...      0.840278   \n",
       "Sub_74  ODC_odc-large,OPC_opc-large,VLMC_Col4a1,MGC_mg...      0.728155   \n",
       "Sub_75  CT-L6_Il1rap,MGC_mgc-all,PAL-Inh_Tcf7l2,ODC_od...      0.775591   \n",
       "Sub_76  ODC_odc-small,D1L-Fstl4_Grm3,VLMC_Mapk4,MSN-D1...      0.812500   \n",
       "\n",
       "        NP-L6_Cntnap5a  CGE-Lamp5_Sorcs1  CGE-Vip_Grm8  ...  Foxp2_Trpc7  \\\n",
       "Sub_72        0.933333          1.000000      1.000000  ...     0.916667   \n",
       "Sub_73        0.840909          0.814815      0.956522  ...     0.810526   \n",
       "Sub_74        0.596154          0.650000      0.666667  ...     0.569444   \n",
       "Sub_75        0.822222          0.729167      0.766667  ...     0.734300   \n",
       "Sub_76        0.925926          0.750000      0.833333  ...     0.755556   \n",
       "\n",
       "        CGE-Lamp5_Grk5  IT-L5_Cdh8  IG-CA2_Peak1  ANP_anp-dg  OLF_Xkr6  \\\n",
       "Sub_72        0.891304    0.878049      0.909091    0.923077  0.500000   \n",
       "Sub_73        0.840000    0.852941      0.871795    0.695652  1.000000   \n",
       "Sub_74        0.618182    0.621622      0.885714    0.647059       NaN   \n",
       "Sub_75        0.731061    0.799197      0.778761    0.596154  0.785714   \n",
       "Sub_76        0.770492    0.891304      0.954545    0.933333  1.000000   \n",
       "\n",
       "        D1L-Fstl4_Cadm1  IT-L4_Shc3  D1L-PAL_Plcxd3  L6b_Pkhd1  \n",
       "Sub_72         0.833333    0.914286        0.840000   1.000000  \n",
       "Sub_73         0.744681    0.879699        0.735294   0.500000  \n",
       "Sub_74         0.588235    0.696970        0.628571   0.666667  \n",
       "Sub_75         0.619048    0.780220        0.718447   1.000000  \n",
       "Sub_76         0.833333    0.888889        0.894737   1.000000  \n",
       "\n",
       "[5 rows x 167 columns]"
      ]
     },
     "execution_count": 9,
     "metadata": {},
     "output_type": "execute_result"
    }
   ],
   "source": [
    "dmr_df = dmr_df.loc[delta_index & white_index]\n",
    "dmr_df = dmr_df[dmr_df['number_of_dms'] >= dms_cutoff]\n",
    "print(dmr_df.shape[0], 'dmr after filter')\n",
    "dmr_df.head()"
   ]
  },
  {
   "cell_type": "markdown",
   "metadata": {
    "papermill": {
     "duration": 0.012084,
     "end_time": "2020-01-20T00:26:48.199417",
     "exception": false,
     "start_time": "2020-01-20T00:26:48.187333",
     "status": "completed"
    },
    "tags": []
   },
   "source": [
    "## Calculate sample delta to robust mean"
   ]
  },
  {
   "cell_type": "code",
   "execution_count": 10,
   "metadata": {
    "ExecuteTime": {
     "end_time": "2020-01-11T22:36:16.999216Z",
     "start_time": "2020-01-11T22:36:14.781777Z"
    },
    "papermill": {
     "duration": 0.659379,
     "end_time": "2020-01-20T00:26:48.870828",
     "exception": false,
     "start_time": "2020-01-20T00:26:48.211449",
     "status": "completed"
    },
    "tags": []
   },
   "outputs": [],
   "source": [
    "mc_rate = mc_rate.loc[dmr_df.index].copy()\n",
    "n_sample = mc_rate.shape[1]\n",
    "\n",
    "assert skip_quantile < 0.5\n",
    "skip_n = min(1, round(n_sample * skip_quantile))"
   ]
  },
  {
   "cell_type": "code",
   "execution_count": 11,
   "metadata": {
    "ExecuteTime": {
     "end_time": "2020-01-11T22:37:13.238349Z",
     "start_time": "2020-01-11T22:36:18.002436Z"
    },
    "papermill": {
     "duration": 10.063419,
     "end_time": "2020-01-20T00:26:58.947712",
     "exception": false,
     "start_time": "2020-01-20T00:26:48.884293",
     "status": "completed"
    },
    "tags": []
   },
   "outputs": [],
   "source": [
    "# ~1M rows / min, depending on n_sample, not very slow\n",
    "def robust_mean(row):\n",
    "    return np.nanmean(np.sort(row)[skip_n:-skip_n])\n",
    "robust_mean = np.apply_along_axis(robust_mean, 1, mc_rate.values)\n",
    "robust_mean = pd.Series(robust_mean, index=mc_rate.index)"
   ]
  },
  {
   "cell_type": "code",
   "execution_count": 12,
   "metadata": {
    "ExecuteTime": {
     "end_time": "2020-01-11T22:37:14.931884Z",
     "start_time": "2020-01-11T22:37:13.241420Z"
    },
    "papermill": {
     "duration": 1.580888,
     "end_time": "2020-01-20T00:27:00.542114",
     "exception": false,
     "start_time": "2020-01-20T00:26:58.961226",
     "status": "completed"
    },
    "tags": []
   },
   "outputs": [],
   "source": [
    "delta = mc_rate - robust_mean[:, None]\n",
    "# 0 is hypo DMR, 1 is hyper DMR, nan is not significant\n",
    "judge = (delta > 0)[delta.abs() > delta_to_mean]"
   ]
  },
  {
   "cell_type": "code",
   "execution_count": 13,
   "metadata": {
    "ExecuteTime": {
     "end_time": "2020-01-11T22:37:17.752534Z",
     "start_time": "2020-01-11T22:37:14.934034Z"
    },
    "papermill": {
     "duration": 1.230922,
     "end_time": "2020-01-20T00:27:01.787062",
     "exception": false,
     "start_time": "2020-01-20T00:27:00.556140",
     "status": "completed"
    },
    "tags": []
   },
   "outputs": [],
   "source": [
    "robust_mean_hypo_records = {}\n",
    "robust_mean_hyper_records = {}\n",
    "\n",
    "for sample, sample_col in judge.iteritems():\n",
    "    hypo_dmr = sample_col[sample_col == 0].index\n",
    "    hyper_dmr = sample_col[sample_col == 1].index\n",
    "    \n",
    "    robust_mean_hypo_records[sample] = hypo_dmr\n",
    "    robust_mean_hyper_records[sample] = hyper_dmr"
   ]
  },
  {
   "cell_type": "markdown",
   "metadata": {
    "papermill": {
     "duration": 0.012986,
     "end_time": "2020-01-20T00:27:01.813983",
     "exception": false,
     "start_time": "2020-01-20T00:27:01.800997",
     "status": "completed"
    },
    "tags": []
   },
   "source": [
    "## Assign DMR to each sample"
   ]
  },
  {
   "cell_type": "code",
   "execution_count": 14,
   "metadata": {
    "ExecuteTime": {
     "end_time": "2020-01-11T22:37:51.557920Z",
     "start_time": "2020-01-11T22:37:17.755190Z"
    },
    "papermill": {
     "duration": 52.951954,
     "end_time": "2020-01-20T00:27:54.778308",
     "exception": false,
     "start_time": "2020-01-20T00:27:01.826354",
     "status": "completed"
    },
    "scrolled": true,
    "tags": []
   },
   "outputs": [
    {
     "name": "stdout",
     "output_type": "stream",
     "text": [
      "CT-L6_Il1rap\tHypoDMR \t16112\n",
      "CT-L6_Il1rap\tHyperDMR\t2636\n"
     ]
    },
    {
     "name": "stdout",
     "output_type": "stream",
     "text": [
      "NP-L6_Cntnap5a\tHypoDMR \t5739\n",
      "NP-L6_Cntnap5a\tHyperDMR\t11373\n"
     ]
    },
    {
     "name": "stdout",
     "output_type": "stream",
     "text": [
      "CGE-Lamp5_Sorcs1\tHypoDMR \t13723\n",
      "CGE-Lamp5_Sorcs1\tHyperDMR\t5944\n"
     ]
    },
    {
     "name": "stdout",
     "output_type": "stream",
     "text": [
      "CGE-Vip_Grm8\tHypoDMR \t9056\n",
      "CGE-Vip_Grm8\tHyperDMR\t5979\n"
     ]
    },
    {
     "name": "stdout",
     "output_type": "stream",
     "text": [
      "LSX-Inh_Dock10\tHypoDMR \t5094\n",
      "LSX-Inh_Dock10\tHyperDMR\t10065\n"
     ]
    },
    {
     "name": "stdout",
     "output_type": "stream",
     "text": [
      "CGE-Vip_Ccser1\tHypoDMR \t8779\n",
      "CGE-Vip_Ccser1\tHyperDMR\t8048\n"
     ]
    },
    {
     "name": "stdout",
     "output_type": "stream",
     "text": [
      "CGE-Vip_Ntng1\tHypoDMR \t7930\n",
      "CGE-Vip_Ntng1\tHyperDMR\t3151\n"
     ]
    },
    {
     "name": "stdout",
     "output_type": "stream",
     "text": [
      "ASC_cortex-olf\tHypoDMR \t20036\n",
      "ASC_cortex-olf\tHyperDMR\t8364\n"
     ]
    },
    {
     "name": "stdout",
     "output_type": "stream",
     "text": [
      "MGE-Sst_Chodl\tHypoDMR \t7965\n",
      "MGE-Sst_Chodl\tHyperDMR\t7296\n"
     ]
    },
    {
     "name": "stdout",
     "output_type": "stream",
     "text": [
      "IT-L6_Oxr1\tHypoDMR \t17075\n",
      "IT-L6_Oxr1\tHyperDMR\t2880\n"
     ]
    },
    {
     "name": "stdout",
     "output_type": "stream",
     "text": [
      "VLMC_Col4a1\tHypoDMR \t39599\n",
      "VLMC_Col4a1\tHyperDMR\t8316\n"
     ]
    },
    {
     "name": "stdout",
     "output_type": "stream",
     "text": [
      "LSX-Inh_Lats2\tHypoDMR \t14839\n",
      "LSX-Inh_Lats2\tHyperDMR\t4765\n"
     ]
    },
    {
     "name": "stdout",
     "output_type": "stream",
     "text": [
      "L6b_Kcnk2\tHypoDMR \t14953\n",
      "L6b_Kcnk2\tHyperDMR\t6187\n"
     ]
    },
    {
     "name": "stdout",
     "output_type": "stream",
     "text": [
      "Chd7_Megf11\tHypoDMR \t8531\n",
      "Chd7_Megf11\tHyperDMR\t7580\n"
     ]
    },
    {
     "name": "stdout",
     "output_type": "stream",
     "text": [
      "MGE-Sst_Bmper\tHypoDMR \t6019\n",
      "MGE-Sst_Bmper\tHyperDMR\t9423\n"
     ]
    },
    {
     "name": "stdout",
     "output_type": "stream",
     "text": [
      "CT-L6_Megf9\tHypoDMR \t15131\n",
      "CT-L6_Megf9\tHyperDMR\t2458\n"
     ]
    },
    {
     "name": "stdout",
     "output_type": "stream",
     "text": [
      "Chd7_Kcnc2\tHypoDMR \t4893\n",
      "Chd7_Kcnc2\tHyperDMR\t4589\n"
     ]
    },
    {
     "name": "stdout",
     "output_type": "stream",
     "text": [
      "DG-po_Kctd8\tHypoDMR \t13278\n",
      "DG-po_Kctd8\tHyperDMR\t1221\n"
     ]
    },
    {
     "name": "stdout",
     "output_type": "stream",
     "text": [
      "DG_dg-all\tHypoDMR \t30337\n",
      "DG_dg-all\tHyperDMR\t2580\n"
     ]
    },
    {
     "name": "stdout",
     "output_type": "stream",
     "text": [
      "NP-L6_Cyp7b1\tHypoDMR \t6660\n",
      "NP-L6_Cyp7b1\tHyperDMR\t11178\n"
     ]
    },
    {
     "name": "stdout",
     "output_type": "stream",
     "text": [
      "D1L-Fstl4_Crim1\tHypoDMR \t13076\n",
      "D1L-Fstl4_Crim1\tHyperDMR\t6106\n"
     ]
    },
    {
     "name": "stdout",
     "output_type": "stream",
     "text": [
      "PT-L5_Tenm2\tHypoDMR \t22600\n",
      "PT-L5_Tenm2\tHyperDMR\t1615\n"
     ]
    },
    {
     "name": "stdout",
     "output_type": "stream",
     "text": [
      "Unc5c_Unc5c\tHypoDMR \t15681\n",
      "Unc5c_Unc5c\tHyperDMR\t6175\n"
     ]
    },
    {
     "name": "stdout",
     "output_type": "stream",
     "text": [
      "CGE-Lamp5_Grid1\tHypoDMR \t19944\n",
      "CGE-Lamp5_Grid1\tHyperDMR\t3905\n"
     ]
    },
    {
     "name": "stdout",
     "output_type": "stream",
     "text": [
      "OLF-Exc_Pld5\tHypoDMR \t22713\n",
      "OLF-Exc_Pld5\tHyperDMR\t1379\n"
     ]
    },
    {
     "name": "stdout",
     "output_type": "stream",
     "text": [
      "PT-L5_Tmtc2\tHypoDMR \t26987\n",
      "PT-L5_Tmtc2\tHyperDMR\t2365\n"
     ]
    },
    {
     "name": "stdout",
     "output_type": "stream",
     "text": [
      "CLA_Cdh8\tHypoDMR \t19293\n",
      "CLA_Cdh8\tHyperDMR\t3586\n"
     ]
    },
    {
     "name": "stdout",
     "output_type": "stream",
     "text": [
      "CA3-St18_Tead1\tHypoDMR \t25767\n",
      "CA3-St18_Tead1\tHyperDMR\t4033\n"
     ]
    },
    {
     "name": "stdout",
     "output_type": "stream",
     "text": [
      "PAL-Inh_Meis2\tHypoDMR \t239\n",
      "PAL-Inh_Meis2\tHyperDMR\t6795\n"
     ]
    },
    {
     "name": "stdout",
     "output_type": "stream",
     "text": [
      "NP-L6_Boc\tHypoDMR \t6700\n",
      "NP-L6_Boc\tHyperDMR\t11008\n"
     ]
    },
    {
     "name": "stdout",
     "output_type": "stream",
     "text": [
      "IT-L23_Foxp1\tHypoDMR \t23315\n",
      "IT-L23_Foxp1\tHyperDMR\t1507\n"
     ]
    },
    {
     "name": "stdout",
     "output_type": "stream",
     "text": [
      "MGC_mgc-all\tHypoDMR \t49134\n",
      "MGC_mgc-all\tHyperDMR\t10792\n"
     ]
    },
    {
     "name": "stdout",
     "output_type": "stream",
     "text": [
      "Chd7_Trpc7\tHypoDMR \t4935\n",
      "Chd7_Trpc7\tHyperDMR\t12083\n"
     ]
    },
    {
     "name": "stdout",
     "output_type": "stream",
     "text": [
      "LSX-Inh_Nxph1\tHypoDMR \t7934\n",
      "LSX-Inh_Nxph1\tHyperDMR\t12226\n"
     ]
    },
    {
     "name": "stdout",
     "output_type": "stream",
     "text": [
      "CA3-St18_Nuak1\tHypoDMR \t17376\n",
      "CA3-St18_Nuak1\tHyperDMR\t2440\n"
     ]
    },
    {
     "name": "stdout",
     "output_type": "stream",
     "text": [
      "Gfra1_Gfra1\tHypoDMR \t30553\n",
      "Gfra1_Gfra1\tHyperDMR\t1201\n"
     ]
    },
    {
     "name": "stdout",
     "output_type": "stream",
     "text": [
      "MSN-D2_Nrp2\tHypoDMR \t13229\n",
      "MSN-D2_Nrp2\tHyperDMR\t5515\n"
     ]
    },
    {
     "name": "stdout",
     "output_type": "stream",
     "text": [
      "PT-L5_Kcnh1\tHypoDMR \t31198\n",
      "PT-L5_Kcnh1\tHyperDMR\t1672\n"
     ]
    },
    {
     "name": "stdout",
     "output_type": "stream",
     "text": [
      "LSX-Inh_Zeb2\tHypoDMR \t13572\n",
      "LSX-Inh_Zeb2\tHyperDMR\t7556\n"
     ]
    },
    {
     "name": "stdout",
     "output_type": "stream",
     "text": [
      "DG-po_Bcl11a\tHypoDMR \t12273\n",
      "DG-po_Bcl11a\tHyperDMR\t298\n"
     ]
    },
    {
     "name": "stdout",
     "output_type": "stream",
     "text": [
      "L6b_Nrp2\tHypoDMR \t8533\n",
      "L6b_Nrp2\tHyperDMR\t9334\n"
     ]
    },
    {
     "name": "stdout",
     "output_type": "stream",
     "text": [
      "PAL-Inh_Tmem178\tHypoDMR \t2798\n",
      "PAL-Inh_Tmem178\tHyperDMR\t13742\n"
     ]
    },
    {
     "name": "stdout",
     "output_type": "stream",
     "text": [
      "PAL-Inh_Tcf7l2\tHypoDMR \t3274\n",
      "PAL-Inh_Tcf7l2\tHyperDMR\t13923\n"
     ]
    },
    {
     "name": "stdout",
     "output_type": "stream",
     "text": [
      "CT-L6_Hcrtr2\tHypoDMR \t18201\n",
      "CT-L6_Hcrtr2\tHyperDMR\t3521\n"
     ]
    },
    {
     "name": "stdout",
     "output_type": "stream",
     "text": [
      "OLF-Exc_Cdh9\tHypoDMR \t16601\n",
      "OLF-Exc_Cdh9\tHyperDMR\t1406\n"
     ]
    },
    {
     "name": "stdout",
     "output_type": "stream",
     "text": [
      "PT-L5_Abca12\tHypoDMR \t19374\n",
      "PT-L5_Abca12\tHyperDMR\t1598\n"
     ]
    },
    {
     "name": "stdout",
     "output_type": "stream",
     "text": [
      "MSN-D1_Plxnc1\tHypoDMR \t14819\n",
      "MSN-D1_Plxnc1\tHyperDMR\t6685\n"
     ]
    },
    {
     "name": "stdout",
     "output_type": "stream",
     "text": [
      "D1L-Fstl4_Sipa1l2\tHypoDMR \t11255\n",
      "D1L-Fstl4_Sipa1l2\tHyperDMR\t7457\n"
     ]
    },
    {
     "name": "stdout",
     "output_type": "stream",
     "text": [
      "PAL-Inh_Chat\tHypoDMR \t4972\n",
      "PAL-Inh_Chat\tHyperDMR\t15748\n"
     ]
    },
    {
     "name": "stdout",
     "output_type": "stream",
     "text": [
      "PT-L5_Unc5b\tHypoDMR \t19725\n",
      "PT-L5_Unc5b\tHyperDMR\t2061\n"
     ]
    },
    {
     "name": "stdout",
     "output_type": "stream",
     "text": [
      "CLA_Nrp2\tHypoDMR \t17696\n",
      "CLA_Nrp2\tHyperDMR\t4841\n"
     ]
    },
    {
     "name": "stdout",
     "output_type": "stream",
     "text": [
      "MGE-Pvalb_Ptprk\tHypoDMR \t6598\n",
      "MGE-Pvalb_Ptprk\tHyperDMR\t4604\n"
     ]
    },
    {
     "name": "stdout",
     "output_type": "stream",
     "text": [
      "NP-L6_Cntnap4\tHypoDMR \t7352\n",
      "NP-L6_Cntnap4\tHyperDMR\t5337\n"
     ]
    },
    {
     "name": "stdout",
     "output_type": "stream",
     "text": [
      "ODC_odc-small\tHypoDMR \t19164\n",
      "ODC_odc-small\tHyperDMR\t8381\n"
     ]
    },
    {
     "name": "stdout",
     "output_type": "stream",
     "text": [
      "IG-CA2_Chrm3\tHypoDMR \t33782\n",
      "IG-CA2_Chrm3\tHyperDMR\t2453\n"
     ]
    },
    {
     "name": "stdout",
     "output_type": "stream",
     "text": [
      "CGE-Vip_Clstn2\tHypoDMR \t10863\n",
      "CGE-Vip_Clstn2\tHyperDMR\t7674\n"
     ]
    },
    {
     "name": "stdout",
     "output_type": "stream",
     "text": [
      "PAL-Inh_Deptor\tHypoDMR \t7615\n",
      "PAL-Inh_Deptor\tHyperDMR\t2871\n"
     ]
    },
    {
     "name": "stdout",
     "output_type": "stream",
     "text": [
      "OLF_Trpc4\tHypoDMR \t11128\n",
      "OLF_Trpc4\tHyperDMR\t4543\n"
     ]
    },
    {
     "name": "stdout",
     "output_type": "stream",
     "text": [
      "MGE-Pvalb_Entpd3\tHypoDMR \t8068\n",
      "MGE-Pvalb_Entpd3\tHyperDMR\t7083\n"
     ]
    },
    {
     "name": "stdout",
     "output_type": "stream",
     "text": [
      "OLF_Pag1\tHypoDMR \t10579\n",
      "OLF_Pag1\tHyperDMR\t3004\n"
     ]
    },
    {
     "name": "stdout",
     "output_type": "stream",
     "text": [
      "EP_Tspan5\tHypoDMR \t16044\n",
      "EP_Tspan5\tHyperDMR\t2851\n"
     ]
    },
    {
     "name": "stdout",
     "output_type": "stream",
     "text": [
      "CA3_Efnb2\tHypoDMR \t19597\n",
      "CA3_Efnb2\tHyperDMR\t3276\n"
     ]
    },
    {
     "name": "stdout",
     "output_type": "stream",
     "text": [
      "CA3_Cadm2\tHypoDMR \t31078\n",
      "CA3_Cadm2\tHyperDMR\t2253\n"
     ]
    },
    {
     "name": "stdout",
     "output_type": "stream",
     "text": [
      "CA1_Chrm3\tHypoDMR \t39791\n",
      "CA1_Chrm3\tHyperDMR\t711\n"
     ]
    },
    {
     "name": "stdout",
     "output_type": "stream",
     "text": [
      "MGE-Sst_Ubtd1\tHypoDMR \t7848\n",
      "MGE-Sst_Ubtd1\tHyperDMR\t7464\n"
     ]
    },
    {
     "name": "stdout",
     "output_type": "stream",
     "text": [
      "PT-L5_Plcb4\tHypoDMR \t21095\n",
      "PT-L5_Plcb4\tHyperDMR\t2318\n"
     ]
    },
    {
     "name": "stdout",
     "output_type": "stream",
     "text": [
      "CA1_Kif26a\tHypoDMR \t19240\n",
      "CA1_Kif26a\tHyperDMR\t1225\n"
     ]
    },
    {
     "name": "stdout",
     "output_type": "stream",
     "text": [
      "EP_Adcy8\tHypoDMR \t14279\n",
      "EP_Adcy8\tHyperDMR\t3408\n"
     ]
    },
    {
     "name": "stdout",
     "output_type": "stream",
     "text": [
      "MGE-Pvalb_Thsd7a\tHypoDMR \t10823\n",
      "MGE-Pvalb_Thsd7a\tHyperDMR\t6221\n"
     ]
    },
    {
     "name": "stdout",
     "output_type": "stream",
     "text": [
      "MSN-D2_Slc24a2\tHypoDMR \t15611\n",
      "MSN-D2_Slc24a2\tHyperDMR\t5876\n"
     ]
    },
    {
     "name": "stdout",
     "output_type": "stream",
     "text": [
      "MGE-Sst_Kcnip4\tHypoDMR \t8315\n",
      "MGE-Sst_Kcnip4\tHyperDMR\t9589\n"
     ]
    },
    {
     "name": "stdout",
     "output_type": "stream",
     "text": [
      "MGE-Sst_Rxra\tHypoDMR \t5683\n",
      "MGE-Sst_Rxra\tHyperDMR\t8172\n"
     ]
    },
    {
     "name": "stdout",
     "output_type": "stream",
     "text": [
      "LSX-Inh_Foxp2\tHypoDMR \t10084\n",
      "LSX-Inh_Foxp2\tHyperDMR\t11218\n"
     ]
    },
    {
     "name": "stdout",
     "output_type": "stream",
     "text": [
      "PAL-Inh_Onecut2\tHypoDMR \t3807\n",
      "PAL-Inh_Onecut2\tHyperDMR\t15805\n"
     ]
    },
    {
     "name": "stdout",
     "output_type": "stream",
     "text": [
      "LSX-Inh_Enox1\tHypoDMR \t11180\n",
      "LSX-Inh_Enox1\tHyperDMR\t8607\n"
     ]
    },
    {
     "name": "stdout",
     "output_type": "stream",
     "text": [
      "CA1_Ptprg\tHypoDMR \t28845\n",
      "CA1_Ptprg\tHyperDMR\t704\n"
     ]
    },
    {
     "name": "stdout",
     "output_type": "stream",
     "text": [
      "CGE-Vip_Ptprm\tHypoDMR \t7066\n",
      "CGE-Vip_Ptprm\tHyperDMR\t8458\n"
     ]
    },
    {
     "name": "stdout",
     "output_type": "stream",
     "text": [
      "OPC_opc-small\tHypoDMR \t33566\n",
      "OPC_opc-small\tHyperDMR\t4322\n"
     ]
    },
    {
     "name": "stdout",
     "output_type": "stream",
     "text": [
      "L6b_Adcy8\tHypoDMR \t8892\n",
      "L6b_Adcy8\tHyperDMR\t8297\n"
     ]
    },
    {
     "name": "stdout",
     "output_type": "stream",
     "text": [
      "OLF_Gabbr2\tHypoDMR \t9667\n",
      "OLF_Gabbr2\tHyperDMR\t3171\n"
     ]
    },
    {
     "name": "stdout",
     "output_type": "stream",
     "text": [
      "IT-L23_Tenm2\tHypoDMR \t24593\n",
      "IT-L23_Tenm2\tHyperDMR\t1005\n"
     ]
    },
    {
     "name": "stdout",
     "output_type": "stream",
     "text": [
      "PAL-Inh_Igdcc3\tHypoDMR \t1773\n",
      "PAL-Inh_Igdcc3\tHyperDMR\t13692\n"
     ]
    },
    {
     "name": "stdout",
     "output_type": "stream",
     "text": [
      "MSN-D2_Casz1\tHypoDMR \t12258\n",
      "MSN-D2_Casz1\tHyperDMR\t8249\n"
     ]
    },
    {
     "name": "stdout",
     "output_type": "stream",
     "text": [
      "IT-L5_Etv1\tHypoDMR \t21119\n",
      "IT-L5_Etv1\tHyperDMR\t1710\n"
     ]
    },
    {
     "name": "stdout",
     "output_type": "stream",
     "text": [
      "CA1_Lingo2\tHypoDMR \t15251\n",
      "CA1_Lingo2\tHyperDMR\t254\n"
     ]
    },
    {
     "name": "stdout",
     "output_type": "stream",
     "text": [
      "PT-L5_Nectin1\tHypoDMR \t29390\n",
      "PT-L5_Nectin1\tHyperDMR\t1610\n"
     ]
    },
    {
     "name": "stdout",
     "output_type": "stream",
     "text": [
      "D1L-Fstl4_Grm3\tHypoDMR \t17496\n",
      "D1L-Fstl4_Grm3\tHyperDMR\t5723\n"
     ]
    },
    {
     "name": "stdout",
     "output_type": "stream",
     "text": [
      "PT-L5_Astn2\tHypoDMR \t20125\n",
      "PT-L5_Astn2\tHyperDMR\t1273\n"
     ]
    },
    {
     "name": "stdout",
     "output_type": "stream",
     "text": [
      "MGE-Sst_Dock4\tHypoDMR \t9636\n",
      "MGE-Sst_Dock4\tHyperDMR\t9526\n"
     ]
    },
    {
     "name": "stdout",
     "output_type": "stream",
     "text": [
      "IT-L23_Ptprt\tHypoDMR \t20536\n",
      "IT-L23_Ptprt\tHyperDMR\t1152\n"
     ]
    },
    {
     "name": "stdout",
     "output_type": "stream",
     "text": [
      "MSN-D2_Col14a1\tHypoDMR \t14981\n",
      "MSN-D2_Col14a1\tHyperDMR\t6887\n"
     ]
    },
    {
     "name": "stdout",
     "output_type": "stream",
     "text": [
      "OLF-Exc_Unc13c\tHypoDMR \t18842\n",
      "OLF-Exc_Unc13c\tHyperDMR\t1914\n"
     ]
    },
    {
     "name": "stdout",
     "output_type": "stream",
     "text": [
      "CT-L6_Map4\tHypoDMR \t16325\n",
      "CT-L6_Map4\tHyperDMR\t3094\n"
     ]
    },
    {
     "name": "stdout",
     "output_type": "stream",
     "text": [
      "IG-CA2_Xpr1\tHypoDMR \t21067\n",
      "IG-CA2_Xpr1\tHyperDMR\t3189\n"
     ]
    },
    {
     "name": "stdout",
     "output_type": "stream",
     "text": [
      "VLMC_Mapk4\tHypoDMR \t23237\n",
      "VLMC_Mapk4\tHyperDMR\t9669\n"
     ]
    },
    {
     "name": "stdout",
     "output_type": "stream",
     "text": [
      "ANP_anp-olf-cnu\tHypoDMR \t17965\n",
      "ANP_anp-olf-cnu\tHyperDMR\t6063\n"
     ]
    },
    {
     "name": "stdout",
     "output_type": "stream",
     "text": [
      "CLA_Bcl11a\tHypoDMR \t19460\n",
      "CLA_Bcl11a\tHyperDMR\t3254\n"
     ]
    },
    {
     "name": "stdout",
     "output_type": "stream",
     "text": [
      "IT-L23_Cux1\tHypoDMR \t28349\n",
      "IT-L23_Cux1\tHyperDMR\t662\n"
     ]
    },
    {
     "name": "stdout",
     "output_type": "stream",
     "text": [
      "CGE-Lamp5_Nrxn3\tHypoDMR \t10235\n",
      "CGE-Lamp5_Nrxn3\tHyperDMR\t3953\n"
     ]
    },
    {
     "name": "stdout",
     "output_type": "stream",
     "text": [
      "EC_Sema3g\tHypoDMR \t15204\n",
      "EC_Sema3g\tHyperDMR\t761\n"
     ]
    },
    {
     "name": "stdout",
     "output_type": "stream",
     "text": [
      "MGE-Sst_Rerg\tHypoDMR \t8857\n",
      "MGE-Sst_Rerg\tHyperDMR\t8875\n"
     ]
    },
    {
     "name": "stdout",
     "output_type": "stream",
     "text": [
      "DG-po_Calb2\tHypoDMR \t18589\n",
      "DG-po_Calb2\tHyperDMR\t896\n"
     ]
    },
    {
     "name": "stdout",
     "output_type": "stream",
     "text": [
      "MSN-D1_Ntn1\tHypoDMR \t14500\n",
      "MSN-D1_Ntn1\tHyperDMR\t7177\n"
     ]
    },
    {
     "name": "stdout",
     "output_type": "stream",
     "text": [
      "MSN-D1_Hrh1\tHypoDMR \t18733\n",
      "MSN-D1_Hrh1\tHyperDMR\t7126\n"
     ]
    },
    {
     "name": "stdout",
     "output_type": "stream",
     "text": [
      "MGE-Sst_Ptpre\tHypoDMR \t8794\n",
      "MGE-Sst_Ptpre\tHyperDMR\t7195\n"
     ]
    },
    {
     "name": "stdout",
     "output_type": "stream",
     "text": [
      "MGE-Sst_Frmd6\tHypoDMR \t6943\n",
      "MGE-Sst_Frmd6\tHyperDMR\t7176\n"
     ]
    },
    {
     "name": "stdout",
     "output_type": "stream",
     "text": [
      "MGE-Pvalb_Gfra2\tHypoDMR \t8527\n",
      "MGE-Pvalb_Gfra2\tHyperDMR\t9291\n"
     ]
    },
    {
     "name": "stdout",
     "output_type": "stream",
     "text": [
      "EP_Rgs8\tHypoDMR \t16156\n",
      "EP_Rgs8\tHyperDMR\t3792\n"
     ]
    },
    {
     "name": "stdout",
     "output_type": "stream",
     "text": [
      "D1L-PAL_Flrt2\tHypoDMR \t9461\n",
      "D1L-PAL_Flrt2\tHyperDMR\t10125\n"
     ]
    },
    {
     "name": "stdout",
     "output_type": "stream",
     "text": [
      "VLMC-Pia_vlmc-pia-all\tHypoDMR \t30597\n",
      "VLMC-Pia_vlmc-pia-all\tHyperDMR\t8804\n"
     ]
    },
    {
     "name": "stdout",
     "output_type": "stream",
     "text": [
      "IT-L6_Man1c1\tHypoDMR \t18307\n",
      "IT-L6_Man1c1\tHyperDMR\t1711\n"
     ]
    },
    {
     "name": "stdout",
     "output_type": "stream",
     "text": [
      "OLF-Exc_Sgcd\tHypoDMR \t16841\n",
      "OLF-Exc_Sgcd\tHyperDMR\t6068\n"
     ]
    },
    {
     "name": "stdout",
     "output_type": "stream",
     "text": [
      "OLF-Exc_Lrrtm3\tHypoDMR \t20501\n",
      "OLF-Exc_Lrrtm3\tHyperDMR\t1652\n"
     ]
    },
    {
     "name": "stdout",
     "output_type": "stream",
     "text": [
      "IT-L5_Grik3\tHypoDMR \t23648\n",
      "IT-L5_Grik3\tHyperDMR\t1525\n"
     ]
    },
    {
     "name": "stdout",
     "output_type": "stream",
     "text": [
      "Foxp2_Homer2\tHypoDMR \t7150\n",
      "Foxp2_Homer2\tHyperDMR\t6774\n"
     ]
    },
    {
     "name": "stdout",
     "output_type": "stream",
     "text": [
      "IT-L6_Fstl4\tHypoDMR \t22195\n",
      "IT-L6_Fstl4\tHyperDMR\t2006\n"
     ]
    },
    {
     "name": "stdout",
     "output_type": "stream",
     "text": [
      "MGE-Sst_Etv1\tHypoDMR \t6550\n",
      "MGE-Sst_Etv1\tHyperDMR\t4784\n"
     ]
    },
    {
     "name": "stdout",
     "output_type": "stream",
     "text": [
      "D1L-Fstl4_Trps1\tHypoDMR \t16623\n",
      "D1L-Fstl4_Trps1\tHyperDMR\t5886\n"
     ]
    },
    {
     "name": "stdout",
     "output_type": "stream",
     "text": [
      "MSN-D1_Khdrbs3\tHypoDMR \t18468\n",
      "MSN-D1_Khdrbs3\tHyperDMR\t7238\n"
     ]
    },
    {
     "name": "stdout",
     "output_type": "stream",
     "text": [
      "MGE-Sst_Unc5b\tHypoDMR \t9025\n",
      "MGE-Sst_Unc5b\tHyperDMR\t6836\n"
     ]
    },
    {
     "name": "stdout",
     "output_type": "stream",
     "text": [
      "IT-L6_Cadps2\tHypoDMR \t18861\n",
      "IT-L6_Cadps2\tHyperDMR\t2365\n"
     ]
    },
    {
     "name": "stdout",
     "output_type": "stream",
     "text": [
      "LSX-Inh_Cacna1i\tHypoDMR \t4687\n",
      "LSX-Inh_Cacna1i\tHyperDMR\t6599\n"
     ]
    },
    {
     "name": "stdout",
     "output_type": "stream",
     "text": [
      "Foxp2_Inpp4b\tHypoDMR \t7212\n",
      "Foxp2_Inpp4b\tHyperDMR\t6812\n"
     ]
    },
    {
     "name": "stdout",
     "output_type": "stream",
     "text": [
      "NP-L6_Olfml2b\tHypoDMR \t5843\n",
      "NP-L6_Olfml2b\tHyperDMR\t7888\n"
     ]
    },
    {
     "name": "stdout",
     "output_type": "stream",
     "text": [
      "MGE-Pvalb_Sema5a\tHypoDMR \t9897\n",
      "MGE-Pvalb_Sema5a\tHyperDMR\t7288\n"
     ]
    },
    {
     "name": "stdout",
     "output_type": "stream",
     "text": [
      "MGE-Pvalb_Cnih3\tHypoDMR \t8593\n",
      "MGE-Pvalb_Cnih3\tHyperDMR\t9473\n"
     ]
    },
    {
     "name": "stdout",
     "output_type": "stream",
     "text": [
      "Foxp2_Dchs2\tHypoDMR \t9426\n",
      "Foxp2_Dchs2\tHyperDMR\t5546\n"
     ]
    },
    {
     "name": "stdout",
     "output_type": "stream",
     "text": [
      "ASC_str-hpf\tHypoDMR \t17320\n",
      "ASC_str-hpf\tHyperDMR\t7474\n"
     ]
    },
    {
     "name": "stdout",
     "output_type": "stream",
     "text": [
      "CGE-Vip_Robo1\tHypoDMR \t9155\n",
      "CGE-Vip_Robo1\tHyperDMR\t11275\n"
     ]
    },
    {
     "name": "stdout",
     "output_type": "stream",
     "text": [
      "OLF_Kcnd3\tHypoDMR \t8265\n",
      "OLF_Kcnd3\tHyperDMR\t3275\n"
     ]
    },
    {
     "name": "stdout",
     "output_type": "stream",
     "text": [
      "CA3-St18_Epha5\tHypoDMR \t26886\n",
      "CA3-St18_Epha5\tHyperDMR\t2400\n"
     ]
    },
    {
     "name": "stdout",
     "output_type": "stream",
     "text": [
      "PT-L5_Ptprt\tHypoDMR \t18377\n",
      "PT-L5_Ptprt\tHyperDMR\t1634\n"
     ]
    },
    {
     "name": "stdout",
     "output_type": "stream",
     "text": [
      "CA1_Ak5\tHypoDMR \t18648\n",
      "CA1_Ak5\tHyperDMR\t764\n"
     ]
    },
    {
     "name": "stdout",
     "output_type": "stream",
     "text": [
      "CGE-Vip_Fstl4\tHypoDMR \t10615\n",
      "CGE-Vip_Fstl4\tHyperDMR\t7281\n"
     ]
    },
    {
     "name": "stdout",
     "output_type": "stream",
     "text": [
      "IT-L4_Astn2\tHypoDMR \t25595\n",
      "IT-L4_Astn2\tHyperDMR\t1330\n"
     ]
    },
    {
     "name": "stdout",
     "output_type": "stream",
     "text": [
      "OLF-Exc_Cux2\tHypoDMR \t19026\n",
      "OLF-Exc_Cux2\tHyperDMR\t2062\n"
     ]
    },
    {
     "name": "stdout",
     "output_type": "stream",
     "text": [
      "CGE-Lamp5_Dock5\tHypoDMR \t22428\n",
      "CGE-Lamp5_Dock5\tHyperDMR\t3753\n"
     ]
    },
    {
     "name": "stdout",
     "output_type": "stream",
     "text": [
      "ASC_mid\tHypoDMR \t18944\n",
      "ASC_mid\tHyperDMR\t7984\n"
     ]
    },
    {
     "name": "stdout",
     "output_type": "stream",
     "text": [
      "PAL-Inh_Meis1\tHypoDMR \t9153\n",
      "PAL-Inh_Meis1\tHyperDMR\t7189\n"
     ]
    },
    {
     "name": "stdout",
     "output_type": "stream",
     "text": [
      "PAL-Inh_Ptprd\tHypoDMR \t2525\n",
      "PAL-Inh_Ptprd\tHyperDMR\t15739\n"
     ]
    },
    {
     "name": "stdout",
     "output_type": "stream",
     "text": [
      "CGE-Vip_Galnt17\tHypoDMR \t10531\n",
      "CGE-Vip_Galnt17\tHyperDMR\t8901\n"
     ]
    },
    {
     "name": "stdout",
     "output_type": "stream",
     "text": [
      "EC_Abhd2\tHypoDMR \t53186\n",
      "EC_Abhd2\tHyperDMR\t6733\n"
     ]
    },
    {
     "name": "stdout",
     "output_type": "stream",
     "text": [
      "ODC_odc-large\tHypoDMR \t21969\n",
      "ODC_odc-large\tHyperDMR\t7376\n"
     ]
    },
    {
     "name": "stdout",
     "output_type": "stream",
     "text": [
      "PAL-Inh_Rarb\tHypoDMR \t5132\n",
      "PAL-Inh_Rarb\tHyperDMR\t14304\n"
     ]
    },
    {
     "name": "stdout",
     "output_type": "stream",
     "text": [
      "OLF-Exc_Rmst\tHypoDMR \t4392\n",
      "OLF-Exc_Rmst\tHyperDMR\t1550\n"
     ]
    },
    {
     "name": "stdout",
     "output_type": "stream",
     "text": [
      "OPC_opc-large\tHypoDMR \t27285\n",
      "OPC_opc-large\tHyperDMR\t5913\n"
     ]
    },
    {
     "name": "stdout",
     "output_type": "stream",
     "text": [
      "NP-L6_Kcnab1\tHypoDMR \t5189\n",
      "NP-L6_Kcnab1\tHyperDMR\t11310\n"
     ]
    },
    {
     "name": "stdout",
     "output_type": "stream",
     "text": [
      "PC_pc-all\tHypoDMR \t75814\n",
      "PC_pc-all\tHyperDMR\t5982\n"
     ]
    },
    {
     "name": "stdout",
     "output_type": "stream",
     "text": [
      "MGE-Pvalb_Cacna1i\tHypoDMR \t12281\n",
      "MGE-Pvalb_Cacna1i\tHyperDMR\t7195\n"
     ]
    },
    {
     "name": "stdout",
     "output_type": "stream",
     "text": [
      "OLF-Exc_Bmpr1b\tHypoDMR \t19821\n",
      "OLF-Exc_Bmpr1b\tHyperDMR\t509\n"
     ]
    },
    {
     "name": "stdout",
     "output_type": "stream",
     "text": [
      "OLF_Mapk10\tHypoDMR \t9612\n",
      "OLF_Mapk10\tHyperDMR\t2085\n"
     ]
    },
    {
     "name": "stdout",
     "output_type": "stream",
     "text": [
      "Foxp2_Trpc7\tHypoDMR \t15277\n",
      "Foxp2_Trpc7\tHyperDMR\t5721\n"
     ]
    },
    {
     "name": "stdout",
     "output_type": "stream",
     "text": [
      "CGE-Lamp5_Grk5\tHypoDMR \t21608\n",
      "CGE-Lamp5_Grk5\tHyperDMR\t3641\n"
     ]
    },
    {
     "name": "stdout",
     "output_type": "stream",
     "text": [
      "IT-L5_Cdh8\tHypoDMR \t27816\n",
      "IT-L5_Cdh8\tHyperDMR\t1144\n"
     ]
    },
    {
     "name": "stdout",
     "output_type": "stream",
     "text": [
      "IG-CA2_Peak1\tHypoDMR \t33210\n",
      "IG-CA2_Peak1\tHyperDMR\t3069\n"
     ]
    },
    {
     "name": "stdout",
     "output_type": "stream",
     "text": [
      "ANP_anp-dg\tHypoDMR \t28454\n",
      "ANP_anp-dg\tHyperDMR\t4445\n"
     ]
    },
    {
     "name": "stdout",
     "output_type": "stream",
     "text": [
      "OLF_Xkr6\tHypoDMR \t11875\n",
      "OLF_Xkr6\tHyperDMR\t2437\n"
     ]
    },
    {
     "name": "stdout",
     "output_type": "stream",
     "text": [
      "D1L-Fstl4_Cadm1\tHypoDMR \t11825\n",
      "D1L-Fstl4_Cadm1\tHyperDMR\t6350\n"
     ]
    },
    {
     "name": "stdout",
     "output_type": "stream",
     "text": [
      "IT-L4_Shc3\tHypoDMR \t25032\n",
      "IT-L4_Shc3\tHyperDMR\t1388\n"
     ]
    },
    {
     "name": "stdout",
     "output_type": "stream",
     "text": [
      "D1L-PAL_Plcxd3\tHypoDMR \t9325\n",
      "D1L-PAL_Plcxd3\tHyperDMR\t10253\n"
     ]
    },
    {
     "name": "stdout",
     "output_type": "stream",
     "text": [
      "L6b_Pkhd1\tHypoDMR \t5914\n",
      "L6b_Pkhd1\tHyperDMR\t765\n"
     ]
    }
   ],
   "source": [
    "# parse results and add the robust mean judge\n",
    "for sample in samples:\n",
    "    # here saved a list of np.array\n",
    "    hypo_index = dmr_df[dmr_df['hypomethylated_samples'].fillna('').apply(lambda i: sample in i)].index\n",
    "    hyper_index = dmr_df[dmr_df['hypermethylated_samples'].fillna('').apply(lambda i: sample in i)].index\n",
    "    hypo_sig_dict[sample] = hypo_index & robust_mean_hypo_records[sample]\n",
    "    hyper_sig_dict[sample] = hyper_index & robust_mean_hyper_records[sample]\n",
    "    print(sample, 'HypoDMR ', hypo_sig_dict[sample].size, sep='\\t')\n",
    "    print(sample, 'HyperDMR', hyper_sig_dict[sample].size, sep='\\t')\n"
   ]
  },
  {
   "cell_type": "code",
   "execution_count": 15,
   "metadata": {
    "ExecuteTime": {
     "end_time": "2020-01-11T22:37:55.312551Z",
     "start_time": "2020-01-11T22:37:51.559575Z"
    },
    "papermill": {
     "duration": 1.866966,
     "end_time": "2020-01-20T00:27:56.691265",
     "exception": false,
     "start_time": "2020-01-20T00:27:54.824299",
     "status": "completed"
    },
    "tags": []
   },
   "outputs": [
    {
     "name": "stderr",
     "output_type": "stream",
     "text": [
      "/home/hanliu/miniconda3/envs/clustering/lib/python3.7/site-packages/tables/path.py:157: NaturalNameWarning: object name is not a valid Python identifier: 'CT-L6_Il1rap'; it does not match the pattern ``^[a-zA-Z_][a-zA-Z0-9_]*$``; you will not be able to use natural naming to access this object; using ``getattr()`` will still work, though\n",
      "  check_attribute_name(name)\n",
      "/home/hanliu/miniconda3/envs/clustering/lib/python3.7/site-packages/tables/path.py:157: NaturalNameWarning: object name is not a valid Python identifier: 'NP-L6_Cntnap5a'; it does not match the pattern ``^[a-zA-Z_][a-zA-Z0-9_]*$``; you will not be able to use natural naming to access this object; using ``getattr()`` will still work, though\n",
      "  check_attribute_name(name)\n",
      "/home/hanliu/miniconda3/envs/clustering/lib/python3.7/site-packages/tables/path.py:157: NaturalNameWarning: object name is not a valid Python identifier: 'CGE-Lamp5_Sorcs1'; it does not match the pattern ``^[a-zA-Z_][a-zA-Z0-9_]*$``; you will not be able to use natural naming to access this object; using ``getattr()`` will still work, though\n",
      "  check_attribute_name(name)\n",
      "/home/hanliu/miniconda3/envs/clustering/lib/python3.7/site-packages/tables/path.py:157: NaturalNameWarning: object name is not a valid Python identifier: 'CGE-Vip_Grm8'; it does not match the pattern ``^[a-zA-Z_][a-zA-Z0-9_]*$``; you will not be able to use natural naming to access this object; using ``getattr()`` will still work, though\n",
      "  check_attribute_name(name)\n",
      "/home/hanliu/miniconda3/envs/clustering/lib/python3.7/site-packages/tables/path.py:157: NaturalNameWarning: object name is not a valid Python identifier: 'LSX-Inh_Dock10'; it does not match the pattern ``^[a-zA-Z_][a-zA-Z0-9_]*$``; you will not be able to use natural naming to access this object; using ``getattr()`` will still work, though\n",
      "  check_attribute_name(name)\n",
      "/home/hanliu/miniconda3/envs/clustering/lib/python3.7/site-packages/tables/path.py:157: NaturalNameWarning: object name is not a valid Python identifier: 'CGE-Vip_Ccser1'; it does not match the pattern ``^[a-zA-Z_][a-zA-Z0-9_]*$``; you will not be able to use natural naming to access this object; using ``getattr()`` will still work, though\n",
      "  check_attribute_name(name)\n",
      "/home/hanliu/miniconda3/envs/clustering/lib/python3.7/site-packages/tables/path.py:157: NaturalNameWarning: object name is not a valid Python identifier: 'CGE-Vip_Ntng1'; it does not match the pattern ``^[a-zA-Z_][a-zA-Z0-9_]*$``; you will not be able to use natural naming to access this object; using ``getattr()`` will still work, though\n",
      "  check_attribute_name(name)\n",
      "/home/hanliu/miniconda3/envs/clustering/lib/python3.7/site-packages/tables/path.py:157: NaturalNameWarning: object name is not a valid Python identifier: 'ASC_cortex-olf'; it does not match the pattern ``^[a-zA-Z_][a-zA-Z0-9_]*$``; you will not be able to use natural naming to access this object; using ``getattr()`` will still work, though\n",
      "  check_attribute_name(name)\n",
      "/home/hanliu/miniconda3/envs/clustering/lib/python3.7/site-packages/tables/path.py:157: NaturalNameWarning: object name is not a valid Python identifier: 'MGE-Sst_Chodl'; it does not match the pattern ``^[a-zA-Z_][a-zA-Z0-9_]*$``; you will not be able to use natural naming to access this object; using ``getattr()`` will still work, though\n",
      "  check_attribute_name(name)\n",
      "/home/hanliu/miniconda3/envs/clustering/lib/python3.7/site-packages/tables/path.py:157: NaturalNameWarning: object name is not a valid Python identifier: 'IT-L6_Oxr1'; it does not match the pattern ``^[a-zA-Z_][a-zA-Z0-9_]*$``; you will not be able to use natural naming to access this object; using ``getattr()`` will still work, though\n",
      "  check_attribute_name(name)\n",
      "/home/hanliu/miniconda3/envs/clustering/lib/python3.7/site-packages/tables/path.py:157: NaturalNameWarning: object name is not a valid Python identifier: 'LSX-Inh_Lats2'; it does not match the pattern ``^[a-zA-Z_][a-zA-Z0-9_]*$``; you will not be able to use natural naming to access this object; using ``getattr()`` will still work, though\n",
      "  check_attribute_name(name)\n",
      "/home/hanliu/miniconda3/envs/clustering/lib/python3.7/site-packages/tables/path.py:157: NaturalNameWarning: object name is not a valid Python identifier: 'MGE-Sst_Bmper'; it does not match the pattern ``^[a-zA-Z_][a-zA-Z0-9_]*$``; you will not be able to use natural naming to access this object; using ``getattr()`` will still work, though\n",
      "  check_attribute_name(name)\n",
      "/home/hanliu/miniconda3/envs/clustering/lib/python3.7/site-packages/tables/path.py:157: NaturalNameWarning: object name is not a valid Python identifier: 'CT-L6_Megf9'; it does not match the pattern ``^[a-zA-Z_][a-zA-Z0-9_]*$``; you will not be able to use natural naming to access this object; using ``getattr()`` will still work, though\n",
      "  check_attribute_name(name)\n",
      "/home/hanliu/miniconda3/envs/clustering/lib/python3.7/site-packages/tables/path.py:157: NaturalNameWarning: object name is not a valid Python identifier: 'DG-po_Kctd8'; it does not match the pattern ``^[a-zA-Z_][a-zA-Z0-9_]*$``; you will not be able to use natural naming to access this object; using ``getattr()`` will still work, though\n",
      "  check_attribute_name(name)\n",
      "/home/hanliu/miniconda3/envs/clustering/lib/python3.7/site-packages/tables/path.py:157: NaturalNameWarning: object name is not a valid Python identifier: 'DG_dg-all'; it does not match the pattern ``^[a-zA-Z_][a-zA-Z0-9_]*$``; you will not be able to use natural naming to access this object; using ``getattr()`` will still work, though\n",
      "  check_attribute_name(name)\n",
      "/home/hanliu/miniconda3/envs/clustering/lib/python3.7/site-packages/tables/path.py:157: NaturalNameWarning: object name is not a valid Python identifier: 'NP-L6_Cyp7b1'; it does not match the pattern ``^[a-zA-Z_][a-zA-Z0-9_]*$``; you will not be able to use natural naming to access this object; using ``getattr()`` will still work, though\n",
      "  check_attribute_name(name)\n",
      "/home/hanliu/miniconda3/envs/clustering/lib/python3.7/site-packages/tables/path.py:157: NaturalNameWarning: object name is not a valid Python identifier: 'D1L-Fstl4_Crim1'; it does not match the pattern ``^[a-zA-Z_][a-zA-Z0-9_]*$``; you will not be able to use natural naming to access this object; using ``getattr()`` will still work, though\n",
      "  check_attribute_name(name)\n",
      "/home/hanliu/miniconda3/envs/clustering/lib/python3.7/site-packages/tables/path.py:157: NaturalNameWarning: object name is not a valid Python identifier: 'PT-L5_Tenm2'; it does not match the pattern ``^[a-zA-Z_][a-zA-Z0-9_]*$``; you will not be able to use natural naming to access this object; using ``getattr()`` will still work, though\n",
      "  check_attribute_name(name)\n",
      "/home/hanliu/miniconda3/envs/clustering/lib/python3.7/site-packages/tables/path.py:157: NaturalNameWarning: object name is not a valid Python identifier: 'CGE-Lamp5_Grid1'; it does not match the pattern ``^[a-zA-Z_][a-zA-Z0-9_]*$``; you will not be able to use natural naming to access this object; using ``getattr()`` will still work, though\n",
      "  check_attribute_name(name)\n",
      "/home/hanliu/miniconda3/envs/clustering/lib/python3.7/site-packages/tables/path.py:157: NaturalNameWarning: object name is not a valid Python identifier: 'OLF-Exc_Pld5'; it does not match the pattern ``^[a-zA-Z_][a-zA-Z0-9_]*$``; you will not be able to use natural naming to access this object; using ``getattr()`` will still work, though\n",
      "  check_attribute_name(name)\n",
      "/home/hanliu/miniconda3/envs/clustering/lib/python3.7/site-packages/tables/path.py:157: NaturalNameWarning: object name is not a valid Python identifier: 'PT-L5_Tmtc2'; it does not match the pattern ``^[a-zA-Z_][a-zA-Z0-9_]*$``; you will not be able to use natural naming to access this object; using ``getattr()`` will still work, though\n",
      "  check_attribute_name(name)\n",
      "/home/hanliu/miniconda3/envs/clustering/lib/python3.7/site-packages/tables/path.py:157: NaturalNameWarning: object name is not a valid Python identifier: 'CA3-St18_Tead1'; it does not match the pattern ``^[a-zA-Z_][a-zA-Z0-9_]*$``; you will not be able to use natural naming to access this object; using ``getattr()`` will still work, though\n",
      "  check_attribute_name(name)\n",
      "/home/hanliu/miniconda3/envs/clustering/lib/python3.7/site-packages/tables/path.py:157: NaturalNameWarning: object name is not a valid Python identifier: 'PAL-Inh_Meis2'; it does not match the pattern ``^[a-zA-Z_][a-zA-Z0-9_]*$``; you will not be able to use natural naming to access this object; using ``getattr()`` will still work, though\n",
      "  check_attribute_name(name)\n",
      "/home/hanliu/miniconda3/envs/clustering/lib/python3.7/site-packages/tables/path.py:157: NaturalNameWarning: object name is not a valid Python identifier: 'NP-L6_Boc'; it does not match the pattern ``^[a-zA-Z_][a-zA-Z0-9_]*$``; you will not be able to use natural naming to access this object; using ``getattr()`` will still work, though\n",
      "  check_attribute_name(name)\n",
      "/home/hanliu/miniconda3/envs/clustering/lib/python3.7/site-packages/tables/path.py:157: NaturalNameWarning: object name is not a valid Python identifier: 'IT-L23_Foxp1'; it does not match the pattern ``^[a-zA-Z_][a-zA-Z0-9_]*$``; you will not be able to use natural naming to access this object; using ``getattr()`` will still work, though\n",
      "  check_attribute_name(name)\n"
     ]
    },
    {
     "name": "stderr",
     "output_type": "stream",
     "text": [
      "/home/hanliu/miniconda3/envs/clustering/lib/python3.7/site-packages/tables/path.py:157: NaturalNameWarning: object name is not a valid Python identifier: 'MGC_mgc-all'; it does not match the pattern ``^[a-zA-Z_][a-zA-Z0-9_]*$``; you will not be able to use natural naming to access this object; using ``getattr()`` will still work, though\n",
      "  check_attribute_name(name)\n",
      "/home/hanliu/miniconda3/envs/clustering/lib/python3.7/site-packages/tables/path.py:157: NaturalNameWarning: object name is not a valid Python identifier: 'LSX-Inh_Nxph1'; it does not match the pattern ``^[a-zA-Z_][a-zA-Z0-9_]*$``; you will not be able to use natural naming to access this object; using ``getattr()`` will still work, though\n",
      "  check_attribute_name(name)\n",
      "/home/hanliu/miniconda3/envs/clustering/lib/python3.7/site-packages/tables/path.py:157: NaturalNameWarning: object name is not a valid Python identifier: 'CA3-St18_Nuak1'; it does not match the pattern ``^[a-zA-Z_][a-zA-Z0-9_]*$``; you will not be able to use natural naming to access this object; using ``getattr()`` will still work, though\n",
      "  check_attribute_name(name)\n",
      "/home/hanliu/miniconda3/envs/clustering/lib/python3.7/site-packages/tables/path.py:157: NaturalNameWarning: object name is not a valid Python identifier: 'MSN-D2_Nrp2'; it does not match the pattern ``^[a-zA-Z_][a-zA-Z0-9_]*$``; you will not be able to use natural naming to access this object; using ``getattr()`` will still work, though\n",
      "  check_attribute_name(name)\n",
      "/home/hanliu/miniconda3/envs/clustering/lib/python3.7/site-packages/tables/path.py:157: NaturalNameWarning: object name is not a valid Python identifier: 'PT-L5_Kcnh1'; it does not match the pattern ``^[a-zA-Z_][a-zA-Z0-9_]*$``; you will not be able to use natural naming to access this object; using ``getattr()`` will still work, though\n",
      "  check_attribute_name(name)\n",
      "/home/hanliu/miniconda3/envs/clustering/lib/python3.7/site-packages/tables/path.py:157: NaturalNameWarning: object name is not a valid Python identifier: 'LSX-Inh_Zeb2'; it does not match the pattern ``^[a-zA-Z_][a-zA-Z0-9_]*$``; you will not be able to use natural naming to access this object; using ``getattr()`` will still work, though\n",
      "  check_attribute_name(name)\n",
      "/home/hanliu/miniconda3/envs/clustering/lib/python3.7/site-packages/tables/path.py:157: NaturalNameWarning: object name is not a valid Python identifier: 'DG-po_Bcl11a'; it does not match the pattern ``^[a-zA-Z_][a-zA-Z0-9_]*$``; you will not be able to use natural naming to access this object; using ``getattr()`` will still work, though\n",
      "  check_attribute_name(name)\n",
      "/home/hanliu/miniconda3/envs/clustering/lib/python3.7/site-packages/tables/path.py:157: NaturalNameWarning: object name is not a valid Python identifier: 'PAL-Inh_Tmem178'; it does not match the pattern ``^[a-zA-Z_][a-zA-Z0-9_]*$``; you will not be able to use natural naming to access this object; using ``getattr()`` will still work, though\n",
      "  check_attribute_name(name)\n",
      "/home/hanliu/miniconda3/envs/clustering/lib/python3.7/site-packages/tables/path.py:157: NaturalNameWarning: object name is not a valid Python identifier: 'PAL-Inh_Tcf7l2'; it does not match the pattern ``^[a-zA-Z_][a-zA-Z0-9_]*$``; you will not be able to use natural naming to access this object; using ``getattr()`` will still work, though\n",
      "  check_attribute_name(name)\n",
      "/home/hanliu/miniconda3/envs/clustering/lib/python3.7/site-packages/tables/path.py:157: NaturalNameWarning: object name is not a valid Python identifier: 'CT-L6_Hcrtr2'; it does not match the pattern ``^[a-zA-Z_][a-zA-Z0-9_]*$``; you will not be able to use natural naming to access this object; using ``getattr()`` will still work, though\n",
      "  check_attribute_name(name)\n",
      "/home/hanliu/miniconda3/envs/clustering/lib/python3.7/site-packages/tables/path.py:157: NaturalNameWarning: object name is not a valid Python identifier: 'OLF-Exc_Cdh9'; it does not match the pattern ``^[a-zA-Z_][a-zA-Z0-9_]*$``; you will not be able to use natural naming to access this object; using ``getattr()`` will still work, though\n",
      "  check_attribute_name(name)\n",
      "/home/hanliu/miniconda3/envs/clustering/lib/python3.7/site-packages/tables/path.py:157: NaturalNameWarning: object name is not a valid Python identifier: 'PT-L5_Abca12'; it does not match the pattern ``^[a-zA-Z_][a-zA-Z0-9_]*$``; you will not be able to use natural naming to access this object; using ``getattr()`` will still work, though\n",
      "  check_attribute_name(name)\n",
      "/home/hanliu/miniconda3/envs/clustering/lib/python3.7/site-packages/tables/path.py:157: NaturalNameWarning: object name is not a valid Python identifier: 'MSN-D1_Plxnc1'; it does not match the pattern ``^[a-zA-Z_][a-zA-Z0-9_]*$``; you will not be able to use natural naming to access this object; using ``getattr()`` will still work, though\n",
      "  check_attribute_name(name)\n",
      "/home/hanliu/miniconda3/envs/clustering/lib/python3.7/site-packages/tables/path.py:157: NaturalNameWarning: object name is not a valid Python identifier: 'D1L-Fstl4_Sipa1l2'; it does not match the pattern ``^[a-zA-Z_][a-zA-Z0-9_]*$``; you will not be able to use natural naming to access this object; using ``getattr()`` will still work, though\n",
      "  check_attribute_name(name)\n",
      "/home/hanliu/miniconda3/envs/clustering/lib/python3.7/site-packages/tables/path.py:157: NaturalNameWarning: object name is not a valid Python identifier: 'PAL-Inh_Chat'; it does not match the pattern ``^[a-zA-Z_][a-zA-Z0-9_]*$``; you will not be able to use natural naming to access this object; using ``getattr()`` will still work, though\n",
      "  check_attribute_name(name)\n",
      "/home/hanliu/miniconda3/envs/clustering/lib/python3.7/site-packages/tables/path.py:157: NaturalNameWarning: object name is not a valid Python identifier: 'PT-L5_Unc5b'; it does not match the pattern ``^[a-zA-Z_][a-zA-Z0-9_]*$``; you will not be able to use natural naming to access this object; using ``getattr()`` will still work, though\n",
      "  check_attribute_name(name)\n",
      "/home/hanliu/miniconda3/envs/clustering/lib/python3.7/site-packages/tables/path.py:157: NaturalNameWarning: object name is not a valid Python identifier: 'MGE-Pvalb_Ptprk'; it does not match the pattern ``^[a-zA-Z_][a-zA-Z0-9_]*$``; you will not be able to use natural naming to access this object; using ``getattr()`` will still work, though\n",
      "  check_attribute_name(name)\n",
      "/home/hanliu/miniconda3/envs/clustering/lib/python3.7/site-packages/tables/path.py:157: NaturalNameWarning: object name is not a valid Python identifier: 'NP-L6_Cntnap4'; it does not match the pattern ``^[a-zA-Z_][a-zA-Z0-9_]*$``; you will not be able to use natural naming to access this object; using ``getattr()`` will still work, though\n",
      "  check_attribute_name(name)\n",
      "/home/hanliu/miniconda3/envs/clustering/lib/python3.7/site-packages/tables/path.py:157: NaturalNameWarning: object name is not a valid Python identifier: 'ODC_odc-small'; it does not match the pattern ``^[a-zA-Z_][a-zA-Z0-9_]*$``; you will not be able to use natural naming to access this object; using ``getattr()`` will still work, though\n",
      "  check_attribute_name(name)\n",
      "/home/hanliu/miniconda3/envs/clustering/lib/python3.7/site-packages/tables/path.py:157: NaturalNameWarning: object name is not a valid Python identifier: 'IG-CA2_Chrm3'; it does not match the pattern ``^[a-zA-Z_][a-zA-Z0-9_]*$``; you will not be able to use natural naming to access this object; using ``getattr()`` will still work, though\n",
      "  check_attribute_name(name)\n",
      "/home/hanliu/miniconda3/envs/clustering/lib/python3.7/site-packages/tables/path.py:157: NaturalNameWarning: object name is not a valid Python identifier: 'CGE-Vip_Clstn2'; it does not match the pattern ``^[a-zA-Z_][a-zA-Z0-9_]*$``; you will not be able to use natural naming to access this object; using ``getattr()`` will still work, though\n",
      "  check_attribute_name(name)\n",
      "/home/hanliu/miniconda3/envs/clustering/lib/python3.7/site-packages/tables/path.py:157: NaturalNameWarning: object name is not a valid Python identifier: 'PAL-Inh_Deptor'; it does not match the pattern ``^[a-zA-Z_][a-zA-Z0-9_]*$``; you will not be able to use natural naming to access this object; using ``getattr()`` will still work, though\n",
      "  check_attribute_name(name)\n",
      "/home/hanliu/miniconda3/envs/clustering/lib/python3.7/site-packages/tables/path.py:157: NaturalNameWarning: object name is not a valid Python identifier: 'MGE-Pvalb_Entpd3'; it does not match the pattern ``^[a-zA-Z_][a-zA-Z0-9_]*$``; you will not be able to use natural naming to access this object; using ``getattr()`` will still work, though\n",
      "  check_attribute_name(name)\n"
     ]
    },
    {
     "name": "stderr",
     "output_type": "stream",
     "text": [
      "/home/hanliu/miniconda3/envs/clustering/lib/python3.7/site-packages/tables/path.py:157: NaturalNameWarning: object name is not a valid Python identifier: 'MGE-Sst_Ubtd1'; it does not match the pattern ``^[a-zA-Z_][a-zA-Z0-9_]*$``; you will not be able to use natural naming to access this object; using ``getattr()`` will still work, though\n",
      "  check_attribute_name(name)\n",
      "/home/hanliu/miniconda3/envs/clustering/lib/python3.7/site-packages/tables/path.py:157: NaturalNameWarning: object name is not a valid Python identifier: 'PT-L5_Plcb4'; it does not match the pattern ``^[a-zA-Z_][a-zA-Z0-9_]*$``; you will not be able to use natural naming to access this object; using ``getattr()`` will still work, though\n",
      "  check_attribute_name(name)\n",
      "/home/hanliu/miniconda3/envs/clustering/lib/python3.7/site-packages/tables/path.py:157: NaturalNameWarning: object name is not a valid Python identifier: 'MGE-Pvalb_Thsd7a'; it does not match the pattern ``^[a-zA-Z_][a-zA-Z0-9_]*$``; you will not be able to use natural naming to access this object; using ``getattr()`` will still work, though\n",
      "  check_attribute_name(name)\n",
      "/home/hanliu/miniconda3/envs/clustering/lib/python3.7/site-packages/tables/path.py:157: NaturalNameWarning: object name is not a valid Python identifier: 'MSN-D2_Slc24a2'; it does not match the pattern ``^[a-zA-Z_][a-zA-Z0-9_]*$``; you will not be able to use natural naming to access this object; using ``getattr()`` will still work, though\n",
      "  check_attribute_name(name)\n",
      "/home/hanliu/miniconda3/envs/clustering/lib/python3.7/site-packages/tables/path.py:157: NaturalNameWarning: object name is not a valid Python identifier: 'MGE-Sst_Kcnip4'; it does not match the pattern ``^[a-zA-Z_][a-zA-Z0-9_]*$``; you will not be able to use natural naming to access this object; using ``getattr()`` will still work, though\n",
      "  check_attribute_name(name)\n",
      "/home/hanliu/miniconda3/envs/clustering/lib/python3.7/site-packages/tables/path.py:157: NaturalNameWarning: object name is not a valid Python identifier: 'MGE-Sst_Rxra'; it does not match the pattern ``^[a-zA-Z_][a-zA-Z0-9_]*$``; you will not be able to use natural naming to access this object; using ``getattr()`` will still work, though\n",
      "  check_attribute_name(name)\n",
      "/home/hanliu/miniconda3/envs/clustering/lib/python3.7/site-packages/tables/path.py:157: NaturalNameWarning: object name is not a valid Python identifier: 'LSX-Inh_Foxp2'; it does not match the pattern ``^[a-zA-Z_][a-zA-Z0-9_]*$``; you will not be able to use natural naming to access this object; using ``getattr()`` will still work, though\n",
      "  check_attribute_name(name)\n",
      "/home/hanliu/miniconda3/envs/clustering/lib/python3.7/site-packages/tables/path.py:157: NaturalNameWarning: object name is not a valid Python identifier: 'PAL-Inh_Onecut2'; it does not match the pattern ``^[a-zA-Z_][a-zA-Z0-9_]*$``; you will not be able to use natural naming to access this object; using ``getattr()`` will still work, though\n",
      "  check_attribute_name(name)\n",
      "/home/hanliu/miniconda3/envs/clustering/lib/python3.7/site-packages/tables/path.py:157: NaturalNameWarning: object name is not a valid Python identifier: 'LSX-Inh_Enox1'; it does not match the pattern ``^[a-zA-Z_][a-zA-Z0-9_]*$``; you will not be able to use natural naming to access this object; using ``getattr()`` will still work, though\n",
      "  check_attribute_name(name)\n",
      "/home/hanliu/miniconda3/envs/clustering/lib/python3.7/site-packages/tables/path.py:157: NaturalNameWarning: object name is not a valid Python identifier: 'CGE-Vip_Ptprm'; it does not match the pattern ``^[a-zA-Z_][a-zA-Z0-9_]*$``; you will not be able to use natural naming to access this object; using ``getattr()`` will still work, though\n",
      "  check_attribute_name(name)\n",
      "/home/hanliu/miniconda3/envs/clustering/lib/python3.7/site-packages/tables/path.py:157: NaturalNameWarning: object name is not a valid Python identifier: 'OPC_opc-small'; it does not match the pattern ``^[a-zA-Z_][a-zA-Z0-9_]*$``; you will not be able to use natural naming to access this object; using ``getattr()`` will still work, though\n",
      "  check_attribute_name(name)\n",
      "/home/hanliu/miniconda3/envs/clustering/lib/python3.7/site-packages/tables/path.py:157: NaturalNameWarning: object name is not a valid Python identifier: 'IT-L23_Tenm2'; it does not match the pattern ``^[a-zA-Z_][a-zA-Z0-9_]*$``; you will not be able to use natural naming to access this object; using ``getattr()`` will still work, though\n",
      "  check_attribute_name(name)\n",
      "/home/hanliu/miniconda3/envs/clustering/lib/python3.7/site-packages/tables/path.py:157: NaturalNameWarning: object name is not a valid Python identifier: 'PAL-Inh_Igdcc3'; it does not match the pattern ``^[a-zA-Z_][a-zA-Z0-9_]*$``; you will not be able to use natural naming to access this object; using ``getattr()`` will still work, though\n",
      "  check_attribute_name(name)\n",
      "/home/hanliu/miniconda3/envs/clustering/lib/python3.7/site-packages/tables/path.py:157: NaturalNameWarning: object name is not a valid Python identifier: 'MSN-D2_Casz1'; it does not match the pattern ``^[a-zA-Z_][a-zA-Z0-9_]*$``; you will not be able to use natural naming to access this object; using ``getattr()`` will still work, though\n",
      "  check_attribute_name(name)\n",
      "/home/hanliu/miniconda3/envs/clustering/lib/python3.7/site-packages/tables/path.py:157: NaturalNameWarning: object name is not a valid Python identifier: 'IT-L5_Etv1'; it does not match the pattern ``^[a-zA-Z_][a-zA-Z0-9_]*$``; you will not be able to use natural naming to access this object; using ``getattr()`` will still work, though\n",
      "  check_attribute_name(name)\n",
      "/home/hanliu/miniconda3/envs/clustering/lib/python3.7/site-packages/tables/path.py:157: NaturalNameWarning: object name is not a valid Python identifier: 'PT-L5_Nectin1'; it does not match the pattern ``^[a-zA-Z_][a-zA-Z0-9_]*$``; you will not be able to use natural naming to access this object; using ``getattr()`` will still work, though\n",
      "  check_attribute_name(name)\n",
      "/home/hanliu/miniconda3/envs/clustering/lib/python3.7/site-packages/tables/path.py:157: NaturalNameWarning: object name is not a valid Python identifier: 'D1L-Fstl4_Grm3'; it does not match the pattern ``^[a-zA-Z_][a-zA-Z0-9_]*$``; you will not be able to use natural naming to access this object; using ``getattr()`` will still work, though\n",
      "  check_attribute_name(name)\n",
      "/home/hanliu/miniconda3/envs/clustering/lib/python3.7/site-packages/tables/path.py:157: NaturalNameWarning: object name is not a valid Python identifier: 'PT-L5_Astn2'; it does not match the pattern ``^[a-zA-Z_][a-zA-Z0-9_]*$``; you will not be able to use natural naming to access this object; using ``getattr()`` will still work, though\n",
      "  check_attribute_name(name)\n",
      "/home/hanliu/miniconda3/envs/clustering/lib/python3.7/site-packages/tables/path.py:157: NaturalNameWarning: object name is not a valid Python identifier: 'MGE-Sst_Dock4'; it does not match the pattern ``^[a-zA-Z_][a-zA-Z0-9_]*$``; you will not be able to use natural naming to access this object; using ``getattr()`` will still work, though\n",
      "  check_attribute_name(name)\n",
      "/home/hanliu/miniconda3/envs/clustering/lib/python3.7/site-packages/tables/path.py:157: NaturalNameWarning: object name is not a valid Python identifier: 'IT-L23_Ptprt'; it does not match the pattern ``^[a-zA-Z_][a-zA-Z0-9_]*$``; you will not be able to use natural naming to access this object; using ``getattr()`` will still work, though\n",
      "  check_attribute_name(name)\n",
      "/home/hanliu/miniconda3/envs/clustering/lib/python3.7/site-packages/tables/path.py:157: NaturalNameWarning: object name is not a valid Python identifier: 'MSN-D2_Col14a1'; it does not match the pattern ``^[a-zA-Z_][a-zA-Z0-9_]*$``; you will not be able to use natural naming to access this object; using ``getattr()`` will still work, though\n",
      "  check_attribute_name(name)\n",
      "/home/hanliu/miniconda3/envs/clustering/lib/python3.7/site-packages/tables/path.py:157: NaturalNameWarning: object name is not a valid Python identifier: 'OLF-Exc_Unc13c'; it does not match the pattern ``^[a-zA-Z_][a-zA-Z0-9_]*$``; you will not be able to use natural naming to access this object; using ``getattr()`` will still work, though\n",
      "  check_attribute_name(name)\n",
      "/home/hanliu/miniconda3/envs/clustering/lib/python3.7/site-packages/tables/path.py:157: NaturalNameWarning: object name is not a valid Python identifier: 'CT-L6_Map4'; it does not match the pattern ``^[a-zA-Z_][a-zA-Z0-9_]*$``; you will not be able to use natural naming to access this object; using ``getattr()`` will still work, though\n",
      "  check_attribute_name(name)\n",
      "/home/hanliu/miniconda3/envs/clustering/lib/python3.7/site-packages/tables/path.py:157: NaturalNameWarning: object name is not a valid Python identifier: 'IG-CA2_Xpr1'; it does not match the pattern ``^[a-zA-Z_][a-zA-Z0-9_]*$``; you will not be able to use natural naming to access this object; using ``getattr()`` will still work, though\n",
      "  check_attribute_name(name)\n"
     ]
    },
    {
     "name": "stderr",
     "output_type": "stream",
     "text": [
      "/home/hanliu/miniconda3/envs/clustering/lib/python3.7/site-packages/tables/path.py:157: NaturalNameWarning: object name is not a valid Python identifier: 'ANP_anp-olf-cnu'; it does not match the pattern ``^[a-zA-Z_][a-zA-Z0-9_]*$``; you will not be able to use natural naming to access this object; using ``getattr()`` will still work, though\n",
      "  check_attribute_name(name)\n",
      "/home/hanliu/miniconda3/envs/clustering/lib/python3.7/site-packages/tables/path.py:157: NaturalNameWarning: object name is not a valid Python identifier: 'IT-L23_Cux1'; it does not match the pattern ``^[a-zA-Z_][a-zA-Z0-9_]*$``; you will not be able to use natural naming to access this object; using ``getattr()`` will still work, though\n",
      "  check_attribute_name(name)\n",
      "/home/hanliu/miniconda3/envs/clustering/lib/python3.7/site-packages/tables/path.py:157: NaturalNameWarning: object name is not a valid Python identifier: 'CGE-Lamp5_Nrxn3'; it does not match the pattern ``^[a-zA-Z_][a-zA-Z0-9_]*$``; you will not be able to use natural naming to access this object; using ``getattr()`` will still work, though\n",
      "  check_attribute_name(name)\n",
      "/home/hanliu/miniconda3/envs/clustering/lib/python3.7/site-packages/tables/path.py:157: NaturalNameWarning: object name is not a valid Python identifier: 'MGE-Sst_Rerg'; it does not match the pattern ``^[a-zA-Z_][a-zA-Z0-9_]*$``; you will not be able to use natural naming to access this object; using ``getattr()`` will still work, though\n",
      "  check_attribute_name(name)\n",
      "/home/hanliu/miniconda3/envs/clustering/lib/python3.7/site-packages/tables/path.py:157: NaturalNameWarning: object name is not a valid Python identifier: 'DG-po_Calb2'; it does not match the pattern ``^[a-zA-Z_][a-zA-Z0-9_]*$``; you will not be able to use natural naming to access this object; using ``getattr()`` will still work, though\n",
      "  check_attribute_name(name)\n",
      "/home/hanliu/miniconda3/envs/clustering/lib/python3.7/site-packages/tables/path.py:157: NaturalNameWarning: object name is not a valid Python identifier: 'MSN-D1_Ntn1'; it does not match the pattern ``^[a-zA-Z_][a-zA-Z0-9_]*$``; you will not be able to use natural naming to access this object; using ``getattr()`` will still work, though\n",
      "  check_attribute_name(name)\n",
      "/home/hanliu/miniconda3/envs/clustering/lib/python3.7/site-packages/tables/path.py:157: NaturalNameWarning: object name is not a valid Python identifier: 'MSN-D1_Hrh1'; it does not match the pattern ``^[a-zA-Z_][a-zA-Z0-9_]*$``; you will not be able to use natural naming to access this object; using ``getattr()`` will still work, though\n",
      "  check_attribute_name(name)\n",
      "/home/hanliu/miniconda3/envs/clustering/lib/python3.7/site-packages/tables/path.py:157: NaturalNameWarning: object name is not a valid Python identifier: 'MGE-Sst_Ptpre'; it does not match the pattern ``^[a-zA-Z_][a-zA-Z0-9_]*$``; you will not be able to use natural naming to access this object; using ``getattr()`` will still work, though\n",
      "  check_attribute_name(name)\n",
      "/home/hanliu/miniconda3/envs/clustering/lib/python3.7/site-packages/tables/path.py:157: NaturalNameWarning: object name is not a valid Python identifier: 'MGE-Sst_Frmd6'; it does not match the pattern ``^[a-zA-Z_][a-zA-Z0-9_]*$``; you will not be able to use natural naming to access this object; using ``getattr()`` will still work, though\n",
      "  check_attribute_name(name)\n",
      "/home/hanliu/miniconda3/envs/clustering/lib/python3.7/site-packages/tables/path.py:157: NaturalNameWarning: object name is not a valid Python identifier: 'MGE-Pvalb_Gfra2'; it does not match the pattern ``^[a-zA-Z_][a-zA-Z0-9_]*$``; you will not be able to use natural naming to access this object; using ``getattr()`` will still work, though\n",
      "  check_attribute_name(name)\n",
      "/home/hanliu/miniconda3/envs/clustering/lib/python3.7/site-packages/tables/path.py:157: NaturalNameWarning: object name is not a valid Python identifier: 'D1L-PAL_Flrt2'; it does not match the pattern ``^[a-zA-Z_][a-zA-Z0-9_]*$``; you will not be able to use natural naming to access this object; using ``getattr()`` will still work, though\n",
      "  check_attribute_name(name)\n",
      "/home/hanliu/miniconda3/envs/clustering/lib/python3.7/site-packages/tables/path.py:157: NaturalNameWarning: object name is not a valid Python identifier: 'VLMC-Pia_vlmc-pia-all'; it does not match the pattern ``^[a-zA-Z_][a-zA-Z0-9_]*$``; you will not be able to use natural naming to access this object; using ``getattr()`` will still work, though\n",
      "  check_attribute_name(name)\n",
      "/home/hanliu/miniconda3/envs/clustering/lib/python3.7/site-packages/tables/path.py:157: NaturalNameWarning: object name is not a valid Python identifier: 'IT-L6_Man1c1'; it does not match the pattern ``^[a-zA-Z_][a-zA-Z0-9_]*$``; you will not be able to use natural naming to access this object; using ``getattr()`` will still work, though\n",
      "  check_attribute_name(name)\n",
      "/home/hanliu/miniconda3/envs/clustering/lib/python3.7/site-packages/tables/path.py:157: NaturalNameWarning: object name is not a valid Python identifier: 'OLF-Exc_Sgcd'; it does not match the pattern ``^[a-zA-Z_][a-zA-Z0-9_]*$``; you will not be able to use natural naming to access this object; using ``getattr()`` will still work, though\n",
      "  check_attribute_name(name)\n",
      "/home/hanliu/miniconda3/envs/clustering/lib/python3.7/site-packages/tables/path.py:157: NaturalNameWarning: object name is not a valid Python identifier: 'OLF-Exc_Lrrtm3'; it does not match the pattern ``^[a-zA-Z_][a-zA-Z0-9_]*$``; you will not be able to use natural naming to access this object; using ``getattr()`` will still work, though\n",
      "  check_attribute_name(name)\n",
      "/home/hanliu/miniconda3/envs/clustering/lib/python3.7/site-packages/tables/path.py:157: NaturalNameWarning: object name is not a valid Python identifier: 'IT-L5_Grik3'; it does not match the pattern ``^[a-zA-Z_][a-zA-Z0-9_]*$``; you will not be able to use natural naming to access this object; using ``getattr()`` will still work, though\n",
      "  check_attribute_name(name)\n",
      "/home/hanliu/miniconda3/envs/clustering/lib/python3.7/site-packages/tables/path.py:157: NaturalNameWarning: object name is not a valid Python identifier: 'IT-L6_Fstl4'; it does not match the pattern ``^[a-zA-Z_][a-zA-Z0-9_]*$``; you will not be able to use natural naming to access this object; using ``getattr()`` will still work, though\n",
      "  check_attribute_name(name)\n",
      "/home/hanliu/miniconda3/envs/clustering/lib/python3.7/site-packages/tables/path.py:157: NaturalNameWarning: object name is not a valid Python identifier: 'MGE-Sst_Etv1'; it does not match the pattern ``^[a-zA-Z_][a-zA-Z0-9_]*$``; you will not be able to use natural naming to access this object; using ``getattr()`` will still work, though\n",
      "  check_attribute_name(name)\n",
      "/home/hanliu/miniconda3/envs/clustering/lib/python3.7/site-packages/tables/path.py:157: NaturalNameWarning: object name is not a valid Python identifier: 'D1L-Fstl4_Trps1'; it does not match the pattern ``^[a-zA-Z_][a-zA-Z0-9_]*$``; you will not be able to use natural naming to access this object; using ``getattr()`` will still work, though\n",
      "  check_attribute_name(name)\n",
      "/home/hanliu/miniconda3/envs/clustering/lib/python3.7/site-packages/tables/path.py:157: NaturalNameWarning: object name is not a valid Python identifier: 'MSN-D1_Khdrbs3'; it does not match the pattern ``^[a-zA-Z_][a-zA-Z0-9_]*$``; you will not be able to use natural naming to access this object; using ``getattr()`` will still work, though\n",
      "  check_attribute_name(name)\n",
      "/home/hanliu/miniconda3/envs/clustering/lib/python3.7/site-packages/tables/path.py:157: NaturalNameWarning: object name is not a valid Python identifier: 'MGE-Sst_Unc5b'; it does not match the pattern ``^[a-zA-Z_][a-zA-Z0-9_]*$``; you will not be able to use natural naming to access this object; using ``getattr()`` will still work, though\n",
      "  check_attribute_name(name)\n",
      "/home/hanliu/miniconda3/envs/clustering/lib/python3.7/site-packages/tables/path.py:157: NaturalNameWarning: object name is not a valid Python identifier: 'IT-L6_Cadps2'; it does not match the pattern ``^[a-zA-Z_][a-zA-Z0-9_]*$``; you will not be able to use natural naming to access this object; using ``getattr()`` will still work, though\n",
      "  check_attribute_name(name)\n",
      "/home/hanliu/miniconda3/envs/clustering/lib/python3.7/site-packages/tables/path.py:157: NaturalNameWarning: object name is not a valid Python identifier: 'LSX-Inh_Cacna1i'; it does not match the pattern ``^[a-zA-Z_][a-zA-Z0-9_]*$``; you will not be able to use natural naming to access this object; using ``getattr()`` will still work, though\n",
      "  check_attribute_name(name)\n",
      "/home/hanliu/miniconda3/envs/clustering/lib/python3.7/site-packages/tables/path.py:157: NaturalNameWarning: object name is not a valid Python identifier: 'NP-L6_Olfml2b'; it does not match the pattern ``^[a-zA-Z_][a-zA-Z0-9_]*$``; you will not be able to use natural naming to access this object; using ``getattr()`` will still work, though\n",
      "  check_attribute_name(name)\n",
      "/home/hanliu/miniconda3/envs/clustering/lib/python3.7/site-packages/tables/path.py:157: NaturalNameWarning: object name is not a valid Python identifier: 'MGE-Pvalb_Sema5a'; it does not match the pattern ``^[a-zA-Z_][a-zA-Z0-9_]*$``; you will not be able to use natural naming to access this object; using ``getattr()`` will still work, though\n",
      "  check_attribute_name(name)\n",
      "/home/hanliu/miniconda3/envs/clustering/lib/python3.7/site-packages/tables/path.py:157: NaturalNameWarning: object name is not a valid Python identifier: 'MGE-Pvalb_Cnih3'; it does not match the pattern ``^[a-zA-Z_][a-zA-Z0-9_]*$``; you will not be able to use natural naming to access this object; using ``getattr()`` will still work, though\n",
      "  check_attribute_name(name)\n"
     ]
    },
    {
     "name": "stderr",
     "output_type": "stream",
     "text": [
      "/home/hanliu/miniconda3/envs/clustering/lib/python3.7/site-packages/tables/path.py:157: NaturalNameWarning: object name is not a valid Python identifier: 'ASC_str-hpf'; it does not match the pattern ``^[a-zA-Z_][a-zA-Z0-9_]*$``; you will not be able to use natural naming to access this object; using ``getattr()`` will still work, though\n",
      "  check_attribute_name(name)\n",
      "/home/hanliu/miniconda3/envs/clustering/lib/python3.7/site-packages/tables/path.py:157: NaturalNameWarning: object name is not a valid Python identifier: 'CGE-Vip_Robo1'; it does not match the pattern ``^[a-zA-Z_][a-zA-Z0-9_]*$``; you will not be able to use natural naming to access this object; using ``getattr()`` will still work, though\n",
      "  check_attribute_name(name)\n",
      "/home/hanliu/miniconda3/envs/clustering/lib/python3.7/site-packages/tables/path.py:157: NaturalNameWarning: object name is not a valid Python identifier: 'CA3-St18_Epha5'; it does not match the pattern ``^[a-zA-Z_][a-zA-Z0-9_]*$``; you will not be able to use natural naming to access this object; using ``getattr()`` will still work, though\n",
      "  check_attribute_name(name)\n",
      "/home/hanliu/miniconda3/envs/clustering/lib/python3.7/site-packages/tables/path.py:157: NaturalNameWarning: object name is not a valid Python identifier: 'PT-L5_Ptprt'; it does not match the pattern ``^[a-zA-Z_][a-zA-Z0-9_]*$``; you will not be able to use natural naming to access this object; using ``getattr()`` will still work, though\n",
      "  check_attribute_name(name)\n",
      "/home/hanliu/miniconda3/envs/clustering/lib/python3.7/site-packages/tables/path.py:157: NaturalNameWarning: object name is not a valid Python identifier: 'CGE-Vip_Fstl4'; it does not match the pattern ``^[a-zA-Z_][a-zA-Z0-9_]*$``; you will not be able to use natural naming to access this object; using ``getattr()`` will still work, though\n",
      "  check_attribute_name(name)\n",
      "/home/hanliu/miniconda3/envs/clustering/lib/python3.7/site-packages/tables/path.py:157: NaturalNameWarning: object name is not a valid Python identifier: 'IT-L4_Astn2'; it does not match the pattern ``^[a-zA-Z_][a-zA-Z0-9_]*$``; you will not be able to use natural naming to access this object; using ``getattr()`` will still work, though\n",
      "  check_attribute_name(name)\n",
      "/home/hanliu/miniconda3/envs/clustering/lib/python3.7/site-packages/tables/path.py:157: NaturalNameWarning: object name is not a valid Python identifier: 'OLF-Exc_Cux2'; it does not match the pattern ``^[a-zA-Z_][a-zA-Z0-9_]*$``; you will not be able to use natural naming to access this object; using ``getattr()`` will still work, though\n",
      "  check_attribute_name(name)\n",
      "/home/hanliu/miniconda3/envs/clustering/lib/python3.7/site-packages/tables/path.py:157: NaturalNameWarning: object name is not a valid Python identifier: 'CGE-Lamp5_Dock5'; it does not match the pattern ``^[a-zA-Z_][a-zA-Z0-9_]*$``; you will not be able to use natural naming to access this object; using ``getattr()`` will still work, though\n",
      "  check_attribute_name(name)\n",
      "/home/hanliu/miniconda3/envs/clustering/lib/python3.7/site-packages/tables/path.py:157: NaturalNameWarning: object name is not a valid Python identifier: 'PAL-Inh_Meis1'; it does not match the pattern ``^[a-zA-Z_][a-zA-Z0-9_]*$``; you will not be able to use natural naming to access this object; using ``getattr()`` will still work, though\n",
      "  check_attribute_name(name)\n",
      "/home/hanliu/miniconda3/envs/clustering/lib/python3.7/site-packages/tables/path.py:157: NaturalNameWarning: object name is not a valid Python identifier: 'PAL-Inh_Ptprd'; it does not match the pattern ``^[a-zA-Z_][a-zA-Z0-9_]*$``; you will not be able to use natural naming to access this object; using ``getattr()`` will still work, though\n",
      "  check_attribute_name(name)\n",
      "/home/hanliu/miniconda3/envs/clustering/lib/python3.7/site-packages/tables/path.py:157: NaturalNameWarning: object name is not a valid Python identifier: 'CGE-Vip_Galnt17'; it does not match the pattern ``^[a-zA-Z_][a-zA-Z0-9_]*$``; you will not be able to use natural naming to access this object; using ``getattr()`` will still work, though\n",
      "  check_attribute_name(name)\n",
      "/home/hanliu/miniconda3/envs/clustering/lib/python3.7/site-packages/tables/path.py:157: NaturalNameWarning: object name is not a valid Python identifier: 'ODC_odc-large'; it does not match the pattern ``^[a-zA-Z_][a-zA-Z0-9_]*$``; you will not be able to use natural naming to access this object; using ``getattr()`` will still work, though\n",
      "  check_attribute_name(name)\n",
      "/home/hanliu/miniconda3/envs/clustering/lib/python3.7/site-packages/tables/path.py:157: NaturalNameWarning: object name is not a valid Python identifier: 'PAL-Inh_Rarb'; it does not match the pattern ``^[a-zA-Z_][a-zA-Z0-9_]*$``; you will not be able to use natural naming to access this object; using ``getattr()`` will still work, though\n",
      "  check_attribute_name(name)\n",
      "/home/hanliu/miniconda3/envs/clustering/lib/python3.7/site-packages/tables/path.py:157: NaturalNameWarning: object name is not a valid Python identifier: 'OLF-Exc_Rmst'; it does not match the pattern ``^[a-zA-Z_][a-zA-Z0-9_]*$``; you will not be able to use natural naming to access this object; using ``getattr()`` will still work, though\n",
      "  check_attribute_name(name)\n",
      "/home/hanliu/miniconda3/envs/clustering/lib/python3.7/site-packages/tables/path.py:157: NaturalNameWarning: object name is not a valid Python identifier: 'OPC_opc-large'; it does not match the pattern ``^[a-zA-Z_][a-zA-Z0-9_]*$``; you will not be able to use natural naming to access this object; using ``getattr()`` will still work, though\n",
      "  check_attribute_name(name)\n",
      "/home/hanliu/miniconda3/envs/clustering/lib/python3.7/site-packages/tables/path.py:157: NaturalNameWarning: object name is not a valid Python identifier: 'NP-L6_Kcnab1'; it does not match the pattern ``^[a-zA-Z_][a-zA-Z0-9_]*$``; you will not be able to use natural naming to access this object; using ``getattr()`` will still work, though\n",
      "  check_attribute_name(name)\n",
      "/home/hanliu/miniconda3/envs/clustering/lib/python3.7/site-packages/tables/path.py:157: NaturalNameWarning: object name is not a valid Python identifier: 'PC_pc-all'; it does not match the pattern ``^[a-zA-Z_][a-zA-Z0-9_]*$``; you will not be able to use natural naming to access this object; using ``getattr()`` will still work, though\n",
      "  check_attribute_name(name)\n",
      "/home/hanliu/miniconda3/envs/clustering/lib/python3.7/site-packages/tables/path.py:157: NaturalNameWarning: object name is not a valid Python identifier: 'MGE-Pvalb_Cacna1i'; it does not match the pattern ``^[a-zA-Z_][a-zA-Z0-9_]*$``; you will not be able to use natural naming to access this object; using ``getattr()`` will still work, though\n",
      "  check_attribute_name(name)\n",
      "/home/hanliu/miniconda3/envs/clustering/lib/python3.7/site-packages/tables/path.py:157: NaturalNameWarning: object name is not a valid Python identifier: 'OLF-Exc_Bmpr1b'; it does not match the pattern ``^[a-zA-Z_][a-zA-Z0-9_]*$``; you will not be able to use natural naming to access this object; using ``getattr()`` will still work, though\n",
      "  check_attribute_name(name)\n",
      "/home/hanliu/miniconda3/envs/clustering/lib/python3.7/site-packages/tables/path.py:157: NaturalNameWarning: object name is not a valid Python identifier: 'CGE-Lamp5_Grk5'; it does not match the pattern ``^[a-zA-Z_][a-zA-Z0-9_]*$``; you will not be able to use natural naming to access this object; using ``getattr()`` will still work, though\n",
      "  check_attribute_name(name)\n",
      "/home/hanliu/miniconda3/envs/clustering/lib/python3.7/site-packages/tables/path.py:157: NaturalNameWarning: object name is not a valid Python identifier: 'IT-L5_Cdh8'; it does not match the pattern ``^[a-zA-Z_][a-zA-Z0-9_]*$``; you will not be able to use natural naming to access this object; using ``getattr()`` will still work, though\n",
      "  check_attribute_name(name)\n",
      "/home/hanliu/miniconda3/envs/clustering/lib/python3.7/site-packages/tables/path.py:157: NaturalNameWarning: object name is not a valid Python identifier: 'IG-CA2_Peak1'; it does not match the pattern ``^[a-zA-Z_][a-zA-Z0-9_]*$``; you will not be able to use natural naming to access this object; using ``getattr()`` will still work, though\n",
      "  check_attribute_name(name)\n"
     ]
    },
    {
     "name": "stderr",
     "output_type": "stream",
     "text": [
      "/home/hanliu/miniconda3/envs/clustering/lib/python3.7/site-packages/tables/path.py:157: NaturalNameWarning: object name is not a valid Python identifier: 'ANP_anp-dg'; it does not match the pattern ``^[a-zA-Z_][a-zA-Z0-9_]*$``; you will not be able to use natural naming to access this object; using ``getattr()`` will still work, though\n",
      "  check_attribute_name(name)\n",
      "/home/hanliu/miniconda3/envs/clustering/lib/python3.7/site-packages/tables/path.py:157: NaturalNameWarning: object name is not a valid Python identifier: 'D1L-Fstl4_Cadm1'; it does not match the pattern ``^[a-zA-Z_][a-zA-Z0-9_]*$``; you will not be able to use natural naming to access this object; using ``getattr()`` will still work, though\n",
      "  check_attribute_name(name)\n",
      "/home/hanliu/miniconda3/envs/clustering/lib/python3.7/site-packages/tables/path.py:157: NaturalNameWarning: object name is not a valid Python identifier: 'IT-L4_Shc3'; it does not match the pattern ``^[a-zA-Z_][a-zA-Z0-9_]*$``; you will not be able to use natural naming to access this object; using ``getattr()`` will still work, though\n",
      "  check_attribute_name(name)\n",
      "/home/hanliu/miniconda3/envs/clustering/lib/python3.7/site-packages/tables/path.py:157: NaturalNameWarning: object name is not a valid Python identifier: 'D1L-PAL_Plcxd3'; it does not match the pattern ``^[a-zA-Z_][a-zA-Z0-9_]*$``; you will not be able to use natural naming to access this object; using ``getattr()`` will still work, though\n",
      "  check_attribute_name(name)\n"
     ]
    }
   ],
   "source": [
    "with pd.HDFStore(pathlib.Path(dmr_path).parent / 'DMRInfo.h5') as hdf:\n",
    "    for sample, hypo_index in hypo_sig_dict.items():\n",
    "        hdf[f'HypoDMR/{sample}'] = pd.Series(hypo_index)\n",
    "    for sample, hyper_index in hyper_sig_dict.items():\n",
    "        hdf[f'HyperDMR/{sample}'] = pd.Series(hyper_index)"
   ]
  },
  {
   "cell_type": "markdown",
   "metadata": {
    "papermill": {
     "duration": 0.045648,
     "end_time": "2020-01-20T00:27:56.782250",
     "exception": false,
     "start_time": "2020-01-20T00:27:56.736602",
     "status": "completed"
    },
    "scrolled": true,
    "tags": []
   },
   "source": [
    "## Dump DMR bed"
   ]
  },
  {
   "cell_type": "code",
   "execution_count": 16,
   "metadata": {
    "ExecuteTime": {
     "end_time": "2020-01-11T22:42:42.323174Z",
     "start_time": "2020-01-11T22:42:20.036468Z"
    },
    "papermill": {
     "duration": 9.235187,
     "end_time": "2020-01-20T00:28:06.063600",
     "exception": false,
     "start_time": "2020-01-20T00:27:56.828413",
     "status": "completed"
    },
    "tags": []
   },
   "outputs": [],
   "source": [
    "hypo_dir = pathlib.Path(dmr_path).parent / 'HypoDMR'\n",
    "hypo_dir.mkdir(exist_ok=True)\n",
    "for sample, hypo_index in hypo_sig_dict.items():\n",
    "    _bed = dmr_bed.loc[hypo_index].reset_index().iloc[:, [1, 2, 3, 0]].to_csv(\n",
    "        hypo_dir / f'{sample}.DMS{dms_cutoff}.bed', sep='\\t', index=None, header=None)"
   ]
  },
  {
   "cell_type": "code",
   "execution_count": 17,
   "metadata": {
    "ExecuteTime": {
     "end_time": "2020-01-11T22:42:59.706247Z",
     "start_time": "2020-01-11T22:42:42.325171Z"
    },
    "papermill": {
     "duration": 3.350117,
     "end_time": "2020-01-20T00:28:09.459759",
     "exception": false,
     "start_time": "2020-01-20T00:28:06.109642",
     "status": "completed"
    },
    "tags": []
   },
   "outputs": [],
   "source": [
    "hyper_dir = pathlib.Path(dmr_path).parent / 'HyperDMR'\n",
    "hyper_dir.mkdir(exist_ok=True)\n",
    "for sample, hyper_index in hyper_sig_dict.items():\n",
    "    _bed = dmr_bed.loc[hyper_index].reset_index().iloc[:, [1, 2, 3, 0]].to_csv(\n",
    "        hyper_dir / f'{sample}.DMS{dms_cutoff}.bed', sep='\\t', index=None, header=None)"
   ]
  },
  {
   "cell_type": "markdown",
   "metadata": {
    "papermill": {
     "duration": 0.045129,
     "end_time": "2020-01-20T00:28:09.550509",
     "exception": false,
     "start_time": "2020-01-20T00:28:09.505380",
     "status": "completed"
    },
    "tags": []
   },
   "source": [
    "## DMR hits matrix"
   ]
  },
  {
   "cell_type": "code",
   "execution_count": 18,
   "metadata": {
    "ExecuteTime": {
     "end_time": "2020-01-11T22:43:06.080778Z",
     "start_time": "2020-01-11T22:42:59.708925Z"
    },
    "papermill": {
     "duration": 1.717635,
     "end_time": "2020-01-20T00:28:11.312370",
     "exception": false,
     "start_time": "2020-01-20T00:28:09.594735",
     "status": "completed"
    },
    "tags": []
   },
   "outputs": [
    {
     "name": "stderr",
     "output_type": "stream",
     "text": [
      "... storing '#chr' as categorical\n"
     ]
    }
   ],
   "source": [
    "sig_dict = hypo_sig_dict\n",
    "\n",
    "rows = []\n",
    "cols = []\n",
    "datas = []\n",
    "for i, (sample, dmr_index) in enumerate(sig_dict.items()):\n",
    "    col = dmr_index.map(lambda i: i.split('_')[1]).astype(int).values\n",
    "    row = (np.ones_like(col) * i).astype(int)\n",
    "    data = np.ones_like(col)\n",
    "    rows.append(row)\n",
    "    cols.append(col)\n",
    "    datas.append(data)\n",
    "datas = np.concatenate(datas)\n",
    "cols = np.concatenate(cols)\n",
    "rows = np.concatenate(rows)\n",
    "hits = csr_matrix((datas, (rows, cols)),\n",
    "                  shape=(mc_rate.shape[1], dmr_bed.shape[0]))\n",
    "\n",
    "# obs is DMR, var is sample, because all analysis is dmr focused\n",
    "dmr_hits = anndata.AnnData(X=hits.T,\n",
    "                           obs=dmr_bed,\n",
    "                           var=pd.DataFrame([], index=mc_rate.columns))\n",
    "\n",
    "dmr_hits.write_h5ad(hypo_dir / 'TotalHits.h5ad')\n"
   ]
  },
  {
   "cell_type": "code",
   "execution_count": 19,
   "metadata": {
    "ExecuteTime": {
     "end_time": "2020-01-11T22:43:11.941645Z",
     "start_time": "2020-01-11T22:43:06.082301Z"
    },
    "papermill": {
     "duration": 0.994028,
     "end_time": "2020-01-20T00:28:12.352490",
     "exception": false,
     "start_time": "2020-01-20T00:28:11.358462",
     "status": "completed"
    },
    "tags": []
   },
   "outputs": [
    {
     "name": "stderr",
     "output_type": "stream",
     "text": [
      "... storing '#chr' as categorical\n"
     ]
    }
   ],
   "source": [
    "sig_dict = hyper_sig_dict\n",
    "\n",
    "rows = []\n",
    "cols = []\n",
    "datas = []\n",
    "for i, (sample, dmr_index) in enumerate(sig_dict.items()):\n",
    "    col = dmr_index.map(lambda i: i.split('_')[1]).astype(int).values\n",
    "    row = (np.ones_like(col) * i).astype(int)\n",
    "    data = np.ones_like(col)\n",
    "    rows.append(row)\n",
    "    cols.append(col)\n",
    "    datas.append(data)\n",
    "datas = np.concatenate(datas)\n",
    "cols = np.concatenate(cols)\n",
    "rows = np.concatenate(rows)\n",
    "hits = csr_matrix((datas, (rows, cols)),\n",
    "                  shape=(mc_rate.shape[1], dmr_bed.shape[0]))\n",
    "\n",
    "# obs is DMR, var is sample, because all analysis is dmr focused\n",
    "dmr_hits = anndata.AnnData(X=hits.T,\n",
    "                           obs=dmr_bed,\n",
    "                           var=pd.DataFrame([], index=mc_rate.columns))\n",
    "\n",
    "dmr_hits.write_h5ad(hyper_dir / 'TotalHits.h5ad')"
   ]
  },
  {
   "cell_type": "code",
   "execution_count": null,
   "metadata": {
    "papermill": {
     "duration": 0.045471,
     "end_time": "2020-01-20T00:28:12.443785",
     "exception": false,
     "start_time": "2020-01-20T00:28:12.398314",
     "status": "completed"
    },
    "tags": []
   },
   "outputs": [],
   "source": []
  },
  {
   "cell_type": "code",
   "execution_count": null,
   "metadata": {
    "papermill": {
     "duration": 0.044192,
     "end_time": "2020-01-20T00:28:12.532700",
     "exception": false,
     "start_time": "2020-01-20T00:28:12.488508",
     "status": "completed"
    },
    "tags": []
   },
   "outputs": [],
   "source": []
  },
  {
   "cell_type": "code",
   "execution_count": null,
   "metadata": {
    "papermill": {
     "duration": 0.045114,
     "end_time": "2020-01-20T00:28:12.621747",
     "exception": false,
     "start_time": "2020-01-20T00:28:12.576633",
     "status": "completed"
    },
    "tags": []
   },
   "outputs": [],
   "source": []
  }
 ],
 "metadata": {
  "hide_input": false,
  "kernelspec": {
   "display_name": "Python 3",
   "language": "python",
   "name": "python3"
  },
  "language_info": {
   "codemirror_mode": {
    "name": "ipython",
    "version": 3
   },
   "file_extension": ".py",
   "mimetype": "text/x-python",
   "name": "python",
   "nbconvert_exporter": "python",
   "pygments_lexer": "ipython3",
   "version": "3.7.3"
  },
  "papermill": {
   "duration": 101.617035,
   "end_time": "2020-01-20T00:28:13.273668",
   "environment_variables": {},
   "exception": null,
   "input_path": "1.FilterDMRRecipe_robust_mean_delta.ipynb",
   "output_path": "/home/hanliu/project/mouse_rostral_brain/DMR/SubType/raw/SubType-chr3/Recipe/1.FilterDMRRecipe_robust_mean_delta.ipynb",
   "parameters": {
    "black_list_path": "/home/hanliu/ref/blacklist/mm10-blacklist.v2.bed.gz",
    "delta_to_mean": 0.3,
    "dmr_path": "/home/hanliu/project/mouse_rostral_brain/DMR/SubType/raw/SubType-chr3/SubType-chr3_rms_results_collapsed.tsv",
    "dmr_prefix": "Sub",
    "dms_cutoff": 1,
    "skip_quantile": 0.25
   },
   "start_time": "2020-01-20T00:26:31.656633",
   "version": "1.0.1"
  },
  "toc": {
   "base_numbering": 1,
   "nav_menu": {},
   "number_sections": true,
   "sideBar": true,
   "skip_h1_title": true,
   "title_cell": "Table of Contents",
   "title_sidebar": "Contents",
   "toc_cell": false,
   "toc_position": {},
   "toc_section_display": true,
   "toc_window_display": true
  }
 },
 "nbformat": 4,
 "nbformat_minor": 2
}