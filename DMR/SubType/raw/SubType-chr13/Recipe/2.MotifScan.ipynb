{
 "cells": [
  {
   "cell_type": "code",
   "execution_count": 1,
   "metadata": {
    "ExecuteTime": {
     "end_time": "2020-01-11T06:26:26.262114Z",
     "start_time": "2020-01-11T06:26:26.259563Z"
    },
    "papermill": {
     "duration": 1.089739,
     "end_time": "2020-01-20T02:05:04.036882",
     "exception": false,
     "start_time": "2020-01-20T02:05:02.947143",
     "status": "completed"
    },
    "tags": []
   },
   "outputs": [],
   "source": [
    "from ALLCools.dmr.fimo import scan_motif_over_bed\n",
    "import pandas as pd\n",
    "import numpy as np\n",
    "import seaborn as sns\n",
    "import pathlib\n",
    "import anndata\n",
    "import subprocess\n",
    "from scipy.sparse import csr_matrix"
   ]
  },
  {
   "cell_type": "code",
   "execution_count": 2,
   "metadata": {
    "ExecuteTime": {
     "end_time": "2020-01-11T06:26:26.434524Z",
     "start_time": "2020-01-11T06:26:26.432502Z"
    },
    "papermill": {
     "duration": 0.011714,
     "end_time": "2020-01-20T02:05:04.056245",
     "exception": false,
     "start_time": "2020-01-20T02:05:04.044531",
     "status": "completed"
    },
    "tags": [
     "parameters"
    ]
   },
   "outputs": [],
   "source": [
    "bed_path = '/home/hanliu/project/mouse_rostral_brain/DMR/DGmCHGroup/DMR/TotalDMR.nofilter.bed'\n",
    "motif_file_path = '/home/hanliu/ref/MEME/selected_motifs_sets/JASPAR2020_CORE_vertebrates_non-redundant_pfms.has_mouse_id.meme'\n",
    "genome_fasta_path = '/home/hanliu/ref/mouse/genome/fasta/raw/mm10.fa'\n",
    "chrom_size_path = '/home/hanliu/ref/mouse/genome/mm10.main.chrom.sizes'"
   ]
  },
  {
   "cell_type": "code",
   "execution_count": 3,
   "metadata": {
    "papermill": {
     "duration": 0.01086,
     "end_time": "2020-01-20T02:05:04.073256",
     "exception": false,
     "start_time": "2020-01-20T02:05:04.062396",
     "status": "completed"
    },
    "tags": [
     "injected-parameters"
    ]
   },
   "outputs": [],
   "source": [
    "# Parameters\n",
    "bed_path = \"/home/hanliu/project/mouse_rostral_brain/DMR/SubType/raw/SubType-chr13/TotalDMR.nofilter.bed\"\n",
    "motif_file_path = \"/home/hanliu/ref/MEME/selected_motifs_sets/JASPAR2020_CORE_vertebrates_non-redundant_pfms.has_mouse_id.meme\"\n",
    "genome_fasta_path = \"/home/hanliu/ref/mouse/genome/fasta/raw/mm10.fa\"\n",
    "chrom_size_path = \"/home/hanliu/ref/mouse/genome/mm10.main.chrom.sizes\"\n"
   ]
  },
  {
   "cell_type": "code",
   "execution_count": 4,
   "metadata": {
    "ExecuteTime": {
     "end_time": "2020-01-11T06:26:26.789884Z",
     "start_time": "2020-01-11T06:26:26.592466Z"
    },
    "papermill": {
     "duration": 0.189064,
     "end_time": "2020-01-20T02:05:04.268456",
     "exception": false,
     "start_time": "2020-01-20T02:05:04.079392",
     "status": "completed"
    },
    "tags": []
   },
   "outputs": [
    {
     "data": {
      "text/html": [
       "<div>\n",
       "<style scoped>\n",
       "    .dataframe tbody tr th:only-of-type {\n",
       "        vertical-align: middle;\n",
       "    }\n",
       "\n",
       "    .dataframe tbody tr th {\n",
       "        vertical-align: top;\n",
       "    }\n",
       "\n",
       "    .dataframe thead th {\n",
       "        text-align: right;\n",
       "    }\n",
       "</style>\n",
       "<table border=\"1\" class=\"dataframe\">\n",
       "  <thead>\n",
       "    <tr style=\"text-align: right;\">\n",
       "      <th></th>\n",
       "      <th>chrom</th>\n",
       "      <th>start</th>\n",
       "      <th>end</th>\n",
       "    </tr>\n",
       "    <tr>\n",
       "      <th>name</th>\n",
       "      <th></th>\n",
       "      <th></th>\n",
       "      <th></th>\n",
       "    </tr>\n",
       "  </thead>\n",
       "  <tbody>\n",
       "    <tr>\n",
       "      <th>Sub_0</th>\n",
       "      <td>chr13</td>\n",
       "      <td>3000097</td>\n",
       "      <td>3000097</td>\n",
       "    </tr>\n",
       "    <tr>\n",
       "      <th>Sub_1</th>\n",
       "      <td>chr13</td>\n",
       "      <td>3001151</td>\n",
       "      <td>3001221</td>\n",
       "    </tr>\n",
       "    <tr>\n",
       "      <th>Sub_2</th>\n",
       "      <td>chr13</td>\n",
       "      <td>3001966</td>\n",
       "      <td>3001997</td>\n",
       "    </tr>\n",
       "    <tr>\n",
       "      <th>Sub_3</th>\n",
       "      <td>chr13</td>\n",
       "      <td>3002454</td>\n",
       "      <td>3002454</td>\n",
       "    </tr>\n",
       "    <tr>\n",
       "      <th>Sub_4</th>\n",
       "      <td>chr13</td>\n",
       "      <td>3002716</td>\n",
       "      <td>3002724</td>\n",
       "    </tr>\n",
       "  </tbody>\n",
       "</table>\n",
       "</div>"
      ],
      "text/plain": [
       "       chrom    start      end\n",
       "name                          \n",
       "Sub_0  chr13  3000097  3000097\n",
       "Sub_1  chr13  3001151  3001221\n",
       "Sub_2  chr13  3001966  3001997\n",
       "Sub_3  chr13  3002454  3002454\n",
       "Sub_4  chr13  3002716  3002724"
      ]
     },
     "execution_count": 4,
     "metadata": {},
     "output_type": "execute_result"
    }
   ],
   "source": [
    "dmr_bed = pd.read_csv(bed_path, sep='\\t', index_col=3, header=None, names=['chrom', 'start', 'end', 'name'])\n",
    "dmr_bed.head()"
   ]
  },
  {
   "cell_type": "code",
   "execution_count": 5,
   "metadata": {
    "ExecuteTime": {
     "end_time": "2020-01-11T06:26:27.226115Z",
     "start_time": "2020-01-11T06:26:27.223813Z"
    },
    "papermill": {
     "duration": 0.011538,
     "end_time": "2020-01-20T02:05:04.287111",
     "exception": false,
     "start_time": "2020-01-20T02:05:04.275573",
     "status": "completed"
    },
    "tags": []
   },
   "outputs": [],
   "source": [
    "output_path = pathlib.Path(bed_path).parent / 'MotifScan.h5ad'"
   ]
  },
  {
   "cell_type": "markdown",
   "metadata": {
    "papermill": {
     "duration": 0.006076,
     "end_time": "2020-01-20T02:05:04.299414",
     "exception": false,
     "start_time": "2020-01-20T02:05:04.293338",
     "status": "completed"
    },
    "tags": []
   },
   "source": [
    "## Scan motif"
   ]
  },
  {
   "cell_type": "code",
   "execution_count": 6,
   "metadata": {
    "papermill": {
     "duration": 325.424983,
     "end_time": "2020-01-20T02:10:29.730584",
     "exception": false,
     "start_time": "2020-01-20T02:05:04.305601",
     "status": "completed"
    },
    "tags": []
   },
   "outputs": [
    {
     "name": "stdout",
     "output_type": "stream",
     "text": [
      "724 motifs to count.\n"
     ]
    },
    {
     "name": "stdout",
     "output_type": "stream",
     "text": [
      "Motif MA0004.1 Arnt do not have any match under current settings.\n",
      "Motif MA0151.1 Arid3a do not have any match under current settings.\n"
     ]
    },
    {
     "name": "stdout",
     "output_type": "stream",
     "text": [
      "Motif MA0006.1 Ahr::Arnt do not have any match under current settings.\n"
     ]
    },
    {
     "name": "stdout",
     "output_type": "stream",
     "text": [
      "/home/hanliu/project/mouse_rostral_brain/DMR/SubType/raw/SubType-chr13/MotifScan.h5adtemp/MA0607.1.meme, N motif total=32382\n"
     ]
    },
    {
     "name": "stderr",
     "output_type": "stream",
     "text": [
      "/home/hanliu/miniconda3/envs/clustering/lib/python3.7/site-packages/ALLCools/dmr/fimo.py:60: FutureWarning: to_msgpack is deprecated and will be removed in a future version.\n",
      "It is recommended to use pyarrow for on-the-wire transmission of pandas objects.\n",
      "  final_df.to_msgpack(output_path, compress='zlib')\n"
     ]
    },
    {
     "name": "stdout",
     "output_type": "stream",
     "text": [
      "/home/hanliu/project/mouse_rostral_brain/DMR/SubType/raw/SubType-chr13/MotifScan.h5adtemp/MA0877.2.meme, N motif total=3487\n"
     ]
    },
    {
     "name": "stdout",
     "output_type": "stream",
     "text": [
      "/home/hanliu/project/mouse_rostral_brain/DMR/SubType/raw/SubType-chr13/MotifScan.h5adtemp/MA0259.1.meme, N motif total=9236\n"
     ]
    },
    {
     "name": "stderr",
     "output_type": "stream",
     "text": [
      "/home/hanliu/miniconda3/envs/clustering/lib/python3.7/site-packages/ALLCools/dmr/fimo.py:60: FutureWarning: to_msgpack is deprecated and will be removed in a future version.\n",
      "It is recommended to use pyarrow for on-the-wire transmission of pandas objects.\n",
      "  final_df.to_msgpack(output_path, compress='zlib')\n"
     ]
    },
    {
     "name": "stderr",
     "output_type": "stream",
     "text": [
      "/home/hanliu/miniconda3/envs/clustering/lib/python3.7/site-packages/ALLCools/dmr/fimo.py:60: FutureWarning: to_msgpack is deprecated and will be removed in a future version.\n",
      "It is recommended to use pyarrow for on-the-wire transmission of pandas objects.\n",
      "  final_df.to_msgpack(output_path, compress='zlib')\n"
     ]
    },
    {
     "name": "stdout",
     "output_type": "stream",
     "text": [
      "/home/hanliu/project/mouse_rostral_brain/DMR/SubType/raw/SubType-chr13/MotifScan.h5adtemp/MA0604.1.meme, N motif total=4994\n"
     ]
    },
    {
     "name": "stderr",
     "output_type": "stream",
     "text": [
      "/home/hanliu/miniconda3/envs/clustering/lib/python3.7/site-packages/ALLCools/dmr/fimo.py:60: FutureWarning: to_msgpack is deprecated and will be removed in a future version.\n",
      "It is recommended to use pyarrow for on-the-wire transmission of pandas objects.\n",
      "  final_df.to_msgpack(output_path, compress='zlib')\n"
     ]
    },
    {
     "name": "stdout",
     "output_type": "stream",
     "text": [
      "/home/hanliu/project/mouse_rostral_brain/DMR/SubType/raw/SubType-chr13/MotifScan.h5adtemp/MA0875.1.meme, N motif total=13627\n"
     ]
    },
    {
     "name": "stderr",
     "output_type": "stream",
     "text": [
      "/home/hanliu/miniconda3/envs/clustering/lib/python3.7/site-packages/ALLCools/dmr/fimo.py:60: FutureWarning: to_msgpack is deprecated and will be removed in a future version.\n",
      "It is recommended to use pyarrow for on-the-wire transmission of pandas objects.\n",
      "  final_df.to_msgpack(output_path, compress='zlib')\n"
     ]
    },
    {
     "name": "stdout",
     "output_type": "stream",
     "text": [
      "/home/hanliu/project/mouse_rostral_brain/DMR/SubType/raw/SubType-chr13/MotifScan.h5adtemp/MA0634.1.meme, N motif total=21166\n"
     ]
    },
    {
     "name": "stderr",
     "output_type": "stream",
     "text": [
      "/home/hanliu/miniconda3/envs/clustering/lib/python3.7/site-packages/ALLCools/dmr/fimo.py:60: FutureWarning: to_msgpack is deprecated and will be removed in a future version.\n",
      "It is recommended to use pyarrow for on-the-wire transmission of pandas objects.\n",
      "  final_df.to_msgpack(output_path, compress='zlib')\n"
     ]
    },
    {
     "name": "stdout",
     "output_type": "stream",
     "text": [
      "/home/hanliu/project/mouse_rostral_brain/DMR/SubType/raw/SubType-chr13/MotifScan.h5adtemp/MA1467.1.meme, N motif total=50210\n"
     ]
    },
    {
     "name": "stderr",
     "output_type": "stream",
     "text": [
      "/home/hanliu/miniconda3/envs/clustering/lib/python3.7/site-packages/ALLCools/dmr/fimo.py:60: FutureWarning: to_msgpack is deprecated and will be removed in a future version.\n",
      "It is recommended to use pyarrow for on-the-wire transmission of pandas objects.\n",
      "  final_df.to_msgpack(output_path, compress='zlib')\n"
     ]
    },
    {
     "name": "stdout",
     "output_type": "stream",
     "text": [
      "/home/hanliu/project/mouse_rostral_brain/DMR/SubType/raw/SubType-chr13/MotifScan.h5adtemp/MA0461.2.meme, N motif total=25232\n"
     ]
    },
    {
     "name": "stderr",
     "output_type": "stream",
     "text": [
      "/home/hanliu/miniconda3/envs/clustering/lib/python3.7/site-packages/ALLCools/dmr/fimo.py:60: FutureWarning: to_msgpack is deprecated and will be removed in a future version.\n",
      "It is recommended to use pyarrow for on-the-wire transmission of pandas objects.\n",
      "  final_df.to_msgpack(output_path, compress='zlib')\n"
     ]
    },
    {
     "name": "stdout",
     "output_type": "stream",
     "text": [
      "/home/hanliu/project/mouse_rostral_brain/DMR/SubType/raw/SubType-chr13/MotifScan.h5adtemp/MA1464.1.meme, N motif total=13586\n"
     ]
    },
    {
     "name": "stderr",
     "output_type": "stream",
     "text": [
      "/home/hanliu/miniconda3/envs/clustering/lib/python3.7/site-packages/ALLCools/dmr/fimo.py:60: FutureWarning: to_msgpack is deprecated and will be removed in a future version.\n",
      "It is recommended to use pyarrow for on-the-wire transmission of pandas objects.\n",
      "  final_df.to_msgpack(output_path, compress='zlib')\n"
     ]
    },
    {
     "name": "stdout",
     "output_type": "stream",
     "text": [
      "/home/hanliu/project/mouse_rostral_brain/DMR/SubType/raw/SubType-chr13/MotifScan.h5adtemp/MA0603.1.meme, N motif total=11847\n"
     ]
    },
    {
     "name": "stderr",
     "output_type": "stream",
     "text": [
      "/home/hanliu/miniconda3/envs/clustering/lib/python3.7/site-packages/ALLCools/dmr/fimo.py:60: FutureWarning: to_msgpack is deprecated and will be removed in a future version.\n",
      "It is recommended to use pyarrow for on-the-wire transmission of pandas objects.\n",
      "  final_df.to_msgpack(output_path, compress='zlib')\n"
     ]
    },
    {
     "name": "stdout",
     "output_type": "stream",
     "text": [
      "/home/hanliu/project/mouse_rostral_brain/DMR/SubType/raw/SubType-chr13/MotifScan.h5adtemp/MA0601.1.meme, N motif total=31165\n"
     ]
    },
    {
     "name": "stderr",
     "output_type": "stream",
     "text": [
      "/home/hanliu/miniconda3/envs/clustering/lib/python3.7/site-packages/ALLCools/dmr/fimo.py:60: FutureWarning: to_msgpack is deprecated and will be removed in a future version.\n",
      "It is recommended to use pyarrow for on-the-wire transmission of pandas objects.\n",
      "  final_df.to_msgpack(output_path, compress='zlib')\n"
     ]
    },
    {
     "name": "stdout",
     "output_type": "stream",
     "text": [
      "/home/hanliu/project/mouse_rostral_brain/DMR/SubType/raw/SubType-chr13/MotifScan.h5adtemp/MA1634.1.meme, N motif total=30980\n"
     ]
    },
    {
     "name": "stderr",
     "output_type": "stream",
     "text": [
      "/home/hanliu/miniconda3/envs/clustering/lib/python3.7/site-packages/ALLCools/dmr/fimo.py:60: FutureWarning: to_msgpack is deprecated and will be removed in a future version.\n",
      "It is recommended to use pyarrow for on-the-wire transmission of pandas objects.\n",
      "  final_df.to_msgpack(output_path, compress='zlib')\n"
     ]
    },
    {
     "name": "stdout",
     "output_type": "stream",
     "text": [
      "/home/hanliu/project/mouse_rostral_brain/DMR/SubType/raw/SubType-chr13/MotifScan.h5adtemp/MA1468.1.meme, N motif total=28017\n"
     ]
    },
    {
     "name": "stderr",
     "output_type": "stream",
     "text": [
      "/home/hanliu/miniconda3/envs/clustering/lib/python3.7/site-packages/ALLCools/dmr/fimo.py:60: FutureWarning: to_msgpack is deprecated and will be removed in a future version.\n",
      "It is recommended to use pyarrow for on-the-wire transmission of pandas objects.\n",
      "  final_df.to_msgpack(output_path, compress='zlib')\n"
     ]
    },
    {
     "name": "stdout",
     "output_type": "stream",
     "text": [
      "/home/hanliu/project/mouse_rostral_brain/DMR/SubType/raw/SubType-chr13/MotifScan.h5adtemp/MA0816.1.meme, N motif total=57224\n"
     ]
    },
    {
     "name": "stdout",
     "output_type": "stream",
     "text": [
      "/home/hanliu/project/mouse_rostral_brain/DMR/SubType/raw/SubType-chr13/MotifScan.h5adtemp/MA1472.1.meme, N motif total=56710\n"
     ]
    },
    {
     "name": "stderr",
     "output_type": "stream",
     "text": [
      "/home/hanliu/miniconda3/envs/clustering/lib/python3.7/site-packages/ALLCools/dmr/fimo.py:60: FutureWarning: to_msgpack is deprecated and will be removed in a future version.\n",
      "It is recommended to use pyarrow for on-the-wire transmission of pandas objects.\n",
      "  final_df.to_msgpack(output_path, compress='zlib')\n"
     ]
    },
    {
     "name": "stderr",
     "output_type": "stream",
     "text": [
      "/home/hanliu/miniconda3/envs/clustering/lib/python3.7/site-packages/ALLCools/dmr/fimo.py:60: FutureWarning: to_msgpack is deprecated and will be removed in a future version.\n",
      "It is recommended to use pyarrow for on-the-wire transmission of pandas objects.\n",
      "  final_df.to_msgpack(output_path, compress='zlib')\n"
     ]
    },
    {
     "name": "stdout",
     "output_type": "stream",
     "text": [
      "/home/hanliu/project/mouse_rostral_brain/DMR/SubType/raw/SubType-chr13/MotifScan.h5adtemp/MA0833.2.meme, N motif total=19801\n"
     ]
    },
    {
     "name": "stderr",
     "output_type": "stream",
     "text": [
      "/home/hanliu/miniconda3/envs/clustering/lib/python3.7/site-packages/ALLCools/dmr/fimo.py:60: FutureWarning: to_msgpack is deprecated and will be removed in a future version.\n",
      "It is recommended to use pyarrow for on-the-wire transmission of pandas objects.\n",
      "  final_df.to_msgpack(output_path, compress='zlib')\n"
     ]
    },
    {
     "name": "stdout",
     "output_type": "stream",
     "text": [
      "/home/hanliu/project/mouse_rostral_brain/DMR/SubType/raw/SubType-chr13/MotifScan.h5adtemp/MA1471.1.meme, N motif total=20651\n"
     ]
    },
    {
     "name": "stderr",
     "output_type": "stream",
     "text": [
      "/home/hanliu/miniconda3/envs/clustering/lib/python3.7/site-packages/ALLCools/dmr/fimo.py:60: FutureWarning: to_msgpack is deprecated and will be removed in a future version.\n",
      "It is recommended to use pyarrow for on-the-wire transmission of pandas objects.\n",
      "  final_df.to_msgpack(output_path, compress='zlib')\n"
     ]
    },
    {
     "name": "stdout",
     "output_type": "stream",
     "text": [
      "/home/hanliu/project/mouse_rostral_brain/DMR/SubType/raw/SubType-chr13/MotifScan.h5adtemp/MA0635.1.meme, N motif total=7013\n"
     ]
    },
    {
     "name": "stderr",
     "output_type": "stream",
     "text": [
      "/home/hanliu/miniconda3/envs/clustering/lib/python3.7/site-packages/ALLCools/dmr/fimo.py:60: FutureWarning: to_msgpack is deprecated and will be removed in a future version.\n",
      "It is recommended to use pyarrow for on-the-wire transmission of pandas objects.\n",
      "  final_df.to_msgpack(output_path, compress='zlib')\n"
     ]
    },
    {
     "name": "stdout",
     "output_type": "stream",
     "text": [
      "/home/hanliu/project/mouse_rostral_brain/DMR/SubType/raw/SubType-chr13/MotifScan.h5adtemp/MA0835.2.meme, N motif total=28653\n"
     ]
    },
    {
     "name": "stderr",
     "output_type": "stream",
     "text": [
      "/home/hanliu/miniconda3/envs/clustering/lib/python3.7/site-packages/ALLCools/dmr/fimo.py:60: FutureWarning: to_msgpack is deprecated and will be removed in a future version.\n",
      "It is recommended to use pyarrow for on-the-wire transmission of pandas objects.\n",
      "  final_df.to_msgpack(output_path, compress='zlib')\n"
     ]
    },
    {
     "name": "stdout",
     "output_type": "stream",
     "text": [
      "/home/hanliu/project/mouse_rostral_brain/DMR/SubType/raw/SubType-chr13/MotifScan.h5adtemp/MA1100.2.meme, N motif total=51863\n"
     ]
    },
    {
     "name": "stderr",
     "output_type": "stream",
     "text": [
      "/home/hanliu/miniconda3/envs/clustering/lib/python3.7/site-packages/ALLCools/dmr/fimo.py:60: FutureWarning: to_msgpack is deprecated and will be removed in a future version.\n",
      "It is recommended to use pyarrow for on-the-wire transmission of pandas objects.\n",
      "  final_df.to_msgpack(output_path, compress='zlib')\n"
     ]
    },
    {
     "name": "stdout",
     "output_type": "stream",
     "text": [
      "/home/hanliu/project/mouse_rostral_brain/DMR/SubType/raw/SubType-chr13/MotifScan.h5adtemp/MA0462.2.meme, N motif total=30854\n"
     ]
    },
    {
     "name": "stderr",
     "output_type": "stream",
     "text": [
      "/home/hanliu/miniconda3/envs/clustering/lib/python3.7/site-packages/ALLCools/dmr/fimo.py:60: FutureWarning: to_msgpack is deprecated and will be removed in a future version.\n",
      "It is recommended to use pyarrow for on-the-wire transmission of pandas objects.\n",
      "  final_df.to_msgpack(output_path, compress='zlib')\n"
     ]
    },
    {
     "name": "stdout",
     "output_type": "stream",
     "text": [
      "/home/hanliu/project/mouse_rostral_brain/DMR/SubType/raw/SubType-chr13/MotifScan.h5adtemp/MA0602.1.meme, N motif total=20829\n"
     ]
    },
    {
     "name": "stderr",
     "output_type": "stream",
     "text": [
      "/home/hanliu/miniconda3/envs/clustering/lib/python3.7/site-packages/ALLCools/dmr/fimo.py:60: FutureWarning: to_msgpack is deprecated and will be removed in a future version.\n",
      "It is recommended to use pyarrow for on-the-wire transmission of pandas objects.\n",
      "  final_df.to_msgpack(output_path, compress='zlib')\n"
     ]
    },
    {
     "name": "stdout",
     "output_type": "stream",
     "text": [
      "/home/hanliu/project/mouse_rostral_brain/DMR/SubType/raw/SubType-chr13/MotifScan.h5adtemp/MA1631.1.meme, N motif total=47043\n"
     ]
    },
    {
     "name": "stderr",
     "output_type": "stream",
     "text": [
      "/home/hanliu/miniconda3/envs/clustering/lib/python3.7/site-packages/ALLCools/dmr/fimo.py:60: FutureWarning: to_msgpack is deprecated and will be removed in a future version.\n",
      "It is recommended to use pyarrow for on-the-wire transmission of pandas objects.\n",
      "  final_df.to_msgpack(output_path, compress='zlib')\n"
     ]
    },
    {
     "name": "stdout",
     "output_type": "stream",
     "text": [
      "/home/hanliu/project/mouse_rostral_brain/DMR/SubType/raw/SubType-chr13/MotifScan.h5adtemp/MA1632.1.meme, N motif total=24865\n"
     ]
    },
    {
     "name": "stderr",
     "output_type": "stream",
     "text": [
      "/home/hanliu/miniconda3/envs/clustering/lib/python3.7/site-packages/ALLCools/dmr/fimo.py:60: FutureWarning: to_msgpack is deprecated and will be removed in a future version.\n",
      "It is recommended to use pyarrow for on-the-wire transmission of pandas objects.\n",
      "  final_df.to_msgpack(output_path, compress='zlib')\n"
     ]
    },
    {
     "name": "stdout",
     "output_type": "stream",
     "text": [
      "/home/hanliu/project/mouse_rostral_brain/DMR/SubType/raw/SubType-chr13/MotifScan.h5adtemp/MA1466.1.meme, N motif total=4506\n"
     ]
    },
    {
     "name": "stderr",
     "output_type": "stream",
     "text": [
      "/home/hanliu/miniconda3/envs/clustering/lib/python3.7/site-packages/ALLCools/dmr/fimo.py:60: FutureWarning: to_msgpack is deprecated and will be removed in a future version.\n",
      "It is recommended to use pyarrow for on-the-wire transmission of pandas objects.\n",
      "  final_df.to_msgpack(output_path, compress='zlib')\n"
     ]
    },
    {
     "name": "stdout",
     "output_type": "stream",
     "text": [
      "/home/hanliu/project/mouse_rostral_brain/DMR/SubType/raw/SubType-chr13/MotifScan.h5adtemp/MA1633.1.meme, N motif total=39457\n"
     ]
    },
    {
     "name": "stderr",
     "output_type": "stream",
     "text": [
      "/home/hanliu/miniconda3/envs/clustering/lib/python3.7/site-packages/ALLCools/dmr/fimo.py:60: FutureWarning: to_msgpack is deprecated and will be removed in a future version.\n",
      "It is recommended to use pyarrow for on-the-wire transmission of pandas objects.\n",
      "  final_df.to_msgpack(output_path, compress='zlib')\n"
     ]
    },
    {
     "name": "stdout",
     "output_type": "stream",
     "text": [
      "/home/hanliu/project/mouse_rostral_brain/DMR/SubType/raw/SubType-chr13/MotifScan.h5adtemp/MA0591.1.meme, N motif total=31728\n"
     ]
    },
    {
     "name": "stderr",
     "output_type": "stream",
     "text": [
      "/home/hanliu/miniconda3/envs/clustering/lib/python3.7/site-packages/ALLCools/dmr/fimo.py:60: FutureWarning: to_msgpack is deprecated and will be removed in a future version.\n",
      "It is recommended to use pyarrow for on-the-wire transmission of pandas objects.\n",
      "  final_df.to_msgpack(output_path, compress='zlib')\n"
     ]
    },
    {
     "name": "stdout",
     "output_type": "stream",
     "text": [
      "/home/hanliu/project/mouse_rostral_brain/DMR/SubType/raw/SubType-chr13/MotifScan.h5adtemp/MA0605.2.meme, N motif total=12660\n"
     ]
    },
    {
     "name": "stderr",
     "output_type": "stream",
     "text": [
      "/home/hanliu/miniconda3/envs/clustering/lib/python3.7/site-packages/ALLCools/dmr/fimo.py:60: FutureWarning: to_msgpack is deprecated and will be removed in a future version.\n",
      "It is recommended to use pyarrow for on-the-wire transmission of pandas objects.\n",
      "  final_df.to_msgpack(output_path, compress='zlib')\n"
     ]
    },
    {
     "name": "stdout",
     "output_type": "stream",
     "text": [
      "/home/hanliu/project/mouse_rostral_brain/DMR/SubType/raw/SubType-chr13/MotifScan.h5adtemp/MA0834.1.meme, N motif total=11878\n"
     ]
    },
    {
     "name": "stderr",
     "output_type": "stream",
     "text": [
      "/home/hanliu/miniconda3/envs/clustering/lib/python3.7/site-packages/ALLCools/dmr/fimo.py:60: FutureWarning: to_msgpack is deprecated and will be removed in a future version.\n",
      "It is recommended to use pyarrow for on-the-wire transmission of pandas objects.\n",
      "  final_df.to_msgpack(output_path, compress='zlib')\n"
     ]
    },
    {
     "name": "stdout",
     "output_type": "stream",
     "text": [
      "/home/hanliu/project/mouse_rostral_brain/DMR/SubType/raw/SubType-chr13/MotifScan.h5adtemp/MA0854.1.meme, N motif total=15704\n"
     ]
    },
    {
     "name": "stderr",
     "output_type": "stream",
     "text": [
      "/home/hanliu/miniconda3/envs/clustering/lib/python3.7/site-packages/ALLCools/dmr/fimo.py:60: FutureWarning: to_msgpack is deprecated and will be removed in a future version.\n",
      "It is recommended to use pyarrow for on-the-wire transmission of pandas objects.\n",
      "  final_df.to_msgpack(output_path, compress='zlib')\n"
     ]
    },
    {
     "name": "stdout",
     "output_type": "stream",
     "text": [
      "/home/hanliu/project/mouse_rostral_brain/DMR/SubType/raw/SubType-chr13/MotifScan.h5adtemp/MA0463.2.meme, N motif total=26698\n"
     ]
    },
    {
     "name": "stderr",
     "output_type": "stream",
     "text": [
      "/home/hanliu/miniconda3/envs/clustering/lib/python3.7/site-packages/ALLCools/dmr/fimo.py:60: FutureWarning: to_msgpack is deprecated and will be removed in a future version.\n",
      "It is recommended to use pyarrow for on-the-wire transmission of pandas objects.\n",
      "  final_df.to_msgpack(output_path, compress='zlib')\n"
     ]
    },
    {
     "name": "stdout",
     "output_type": "stream",
     "text": [
      "/home/hanliu/project/mouse_rostral_brain/DMR/SubType/raw/SubType-chr13/MotifScan.h5adtemp/MA0853.1.meme, N motif total=15242\n"
     ]
    },
    {
     "name": "stderr",
     "output_type": "stream",
     "text": [
      "/home/hanliu/miniconda3/envs/clustering/lib/python3.7/site-packages/ALLCools/dmr/fimo.py:60: FutureWarning: to_msgpack is deprecated and will be removed in a future version.\n",
      "It is recommended to use pyarrow for on-the-wire transmission of pandas objects.\n",
      "  final_df.to_msgpack(output_path, compress='zlib')\n"
     ]
    },
    {
     "name": "stdout",
     "output_type": "stream",
     "text": [
      "/home/hanliu/project/mouse_rostral_brain/DMR/SubType/raw/SubType-chr13/MotifScan.h5adtemp/MA0874.1.meme, N motif total=16549\n"
     ]
    },
    {
     "name": "stderr",
     "output_type": "stream",
     "text": [
      "/home/hanliu/miniconda3/envs/clustering/lib/python3.7/site-packages/ALLCools/dmr/fimo.py:60: FutureWarning: to_msgpack is deprecated and will be removed in a future version.\n",
      "It is recommended to use pyarrow for on-the-wire transmission of pandas objects.\n",
      "  final_df.to_msgpack(output_path, compress='zlib')\n"
     ]
    },
    {
     "name": "stdout",
     "output_type": "stream",
     "text": [
      "/home/hanliu/project/mouse_rostral_brain/DMR/SubType/raw/SubType-chr13/MotifScan.h5adtemp/MA0007.3.meme, N motif total=20354\n"
     ]
    },
    {
     "name": "stderr",
     "output_type": "stream",
     "text": [
      "/home/hanliu/miniconda3/envs/clustering/lib/python3.7/site-packages/ALLCools/dmr/fimo.py:60: FutureWarning: to_msgpack is deprecated and will be removed in a future version.\n",
      "It is recommended to use pyarrow for on-the-wire transmission of pandas objects.\n",
      "  final_df.to_msgpack(output_path, compress='zlib')\n"
     ]
    },
    {
     "name": "stdout",
     "output_type": "stream",
     "text": [
      "/home/hanliu/project/mouse_rostral_brain/DMR/SubType/raw/SubType-chr13/MotifScan.h5adtemp/MA1470.1.meme, N motif total=1632\n"
     ]
    },
    {
     "name": "stderr",
     "output_type": "stream",
     "text": [
      "/home/hanliu/miniconda3/envs/clustering/lib/python3.7/site-packages/ALLCools/dmr/fimo.py:60: FutureWarning: to_msgpack is deprecated and will be removed in a future version.\n",
      "It is recommended to use pyarrow for on-the-wire transmission of pandas objects.\n",
      "  final_df.to_msgpack(output_path, compress='zlib')\n"
     ]
    },
    {
     "name": "stdout",
     "output_type": "stream",
     "text": [
      "/home/hanliu/project/mouse_rostral_brain/DMR/SubType/raw/SubType-chr13/MotifScan.h5adtemp/MA1101.2.meme, N motif total=22272\n"
     ]
    },
    {
     "name": "stderr",
     "output_type": "stream",
     "text": [
      "/home/hanliu/miniconda3/envs/clustering/lib/python3.7/site-packages/ALLCools/dmr/fimo.py:60: FutureWarning: to_msgpack is deprecated and will be removed in a future version.\n",
      "It is recommended to use pyarrow for on-the-wire transmission of pandas objects.\n",
      "  final_df.to_msgpack(output_path, compress='zlib')\n"
     ]
    },
    {
     "name": "stdout",
     "output_type": "stream",
     "text": [
      "/home/hanliu/project/mouse_rostral_brain/DMR/SubType/raw/SubType-chr13/MotifScan.h5adtemp/MA0731.1.meme, N motif total=260\n"
     ]
    },
    {
     "name": "stderr",
     "output_type": "stream",
     "text": [
      "/home/hanliu/miniconda3/envs/clustering/lib/python3.7/site-packages/ALLCools/dmr/fimo.py:60: FutureWarning: to_msgpack is deprecated and will be removed in a future version.\n",
      "It is recommended to use pyarrow for on-the-wire transmission of pandas objects.\n",
      "  final_df.to_msgpack(output_path, compress='zlib')\n"
     ]
    },
    {
     "name": "stdout",
     "output_type": "stream",
     "text": [
      "/home/hanliu/project/mouse_rostral_brain/DMR/SubType/raw/SubType-chr13/MotifScan.h5adtemp/MA0876.1.meme, N motif total=14167\n"
     ]
    },
    {
     "name": "stderr",
     "output_type": "stream",
     "text": [
      "/home/hanliu/miniconda3/envs/clustering/lib/python3.7/site-packages/ALLCools/dmr/fimo.py:60: FutureWarning: to_msgpack is deprecated and will be removed in a future version.\n",
      "It is recommended to use pyarrow for on-the-wire transmission of pandas objects.\n",
      "  final_df.to_msgpack(output_path, compress='zlib')\n"
     ]
    },
    {
     "name": "stdout",
     "output_type": "stream",
     "text": [
      "/home/hanliu/project/mouse_rostral_brain/DMR/SubType/raw/SubType-chr13/MotifScan.h5adtemp/MA1635.1.meme, N motif total=60584\n"
     ]
    },
    {
     "name": "stderr",
     "output_type": "stream",
     "text": [
      "/home/hanliu/miniconda3/envs/clustering/lib/python3.7/site-packages/ALLCools/dmr/fimo.py:60: FutureWarning: to_msgpack is deprecated and will be removed in a future version.\n",
      "It is recommended to use pyarrow for on-the-wire transmission of pandas objects.\n",
      "  final_df.to_msgpack(output_path, compress='zlib')\n"
     ]
    },
    {
     "name": "stdout",
     "output_type": "stream",
     "text": [
      "/home/hanliu/project/mouse_rostral_brain/DMR/SubType/raw/SubType-chr13/MotifScan.h5adtemp/MA0818.1.meme, N motif total=16669\n"
     ]
    },
    {
     "name": "stderr",
     "output_type": "stream",
     "text": [
      "/home/hanliu/miniconda3/envs/clustering/lib/python3.7/site-packages/ALLCools/dmr/fimo.py:60: FutureWarning: to_msgpack is deprecated and will be removed in a future version.\n",
      "It is recommended to use pyarrow for on-the-wire transmission of pandas objects.\n",
      "  final_df.to_msgpack(output_path, compress='zlib')\n"
     ]
    },
    {
     "name": "stdout",
     "output_type": "stream",
     "text": [
      "/home/hanliu/project/mouse_rostral_brain/DMR/SubType/raw/SubType-chr13/MotifScan.h5adtemp/MA0464.2.meme, N motif total=13124\n"
     ]
    },
    {
     "name": "stderr",
     "output_type": "stream",
     "text": [
      "/home/hanliu/miniconda3/envs/clustering/lib/python3.7/site-packages/ALLCools/dmr/fimo.py:60: FutureWarning: to_msgpack is deprecated and will be removed in a future version.\n",
      "It is recommended to use pyarrow for on-the-wire transmission of pandas objects.\n",
      "  final_df.to_msgpack(output_path, compress='zlib')\n"
     ]
    },
    {
     "name": "stdout",
     "output_type": "stream",
     "text": [
      "/home/hanliu/project/mouse_rostral_brain/DMR/SubType/raw/SubType-chr13/MotifScan.h5adtemp/MA0817.1.meme, N motif total=18563\n"
     ]
    },
    {
     "name": "stderr",
     "output_type": "stream",
     "text": [
      "/home/hanliu/miniconda3/envs/clustering/lib/python3.7/site-packages/ALLCools/dmr/fimo.py:60: FutureWarning: to_msgpack is deprecated and will be removed in a future version.\n",
      "It is recommended to use pyarrow for on-the-wire transmission of pandas objects.\n",
      "  final_df.to_msgpack(output_path, compress='zlib')\n"
     ]
    },
    {
     "name": "stdout",
     "output_type": "stream",
     "text": [
      "/home/hanliu/project/mouse_rostral_brain/DMR/SubType/raw/SubType-chr13/MotifScan.h5adtemp/MA0636.1.meme, N motif total=10873\n"
     ]
    },
    {
     "name": "stderr",
     "output_type": "stream",
     "text": [
      "/home/hanliu/miniconda3/envs/clustering/lib/python3.7/site-packages/ALLCools/dmr/fimo.py:60: FutureWarning: to_msgpack is deprecated and will be removed in a future version.\n",
      "It is recommended to use pyarrow for on-the-wire transmission of pandas objects.\n",
      "  final_df.to_msgpack(output_path, compress='zlib')\n"
     ]
    },
    {
     "name": "stdout",
     "output_type": "stream",
     "text": [
      "/home/hanliu/project/mouse_rostral_brain/DMR/SubType/raw/SubType-chr13/MotifScan.h5adtemp/MA0838.1.meme, N motif total=5865\n"
     ]
    },
    {
     "name": "stderr",
     "output_type": "stream",
     "text": [
      "/home/hanliu/miniconda3/envs/clustering/lib/python3.7/site-packages/ALLCools/dmr/fimo.py:60: FutureWarning: to_msgpack is deprecated and will be removed in a future version.\n",
      "It is recommended to use pyarrow for on-the-wire transmission of pandas objects.\n",
      "  final_df.to_msgpack(output_path, compress='zlib')\n"
     ]
    },
    {
     "name": "stdout",
     "output_type": "stream",
     "text": [
      "/home/hanliu/project/mouse_rostral_brain/DMR/SubType/raw/SubType-chr13/MotifScan.h5adtemp/MA0878.2.meme, N motif total=22808\n"
     ]
    },
    {
     "name": "stderr",
     "output_type": "stream",
     "text": [
      "/home/hanliu/miniconda3/envs/clustering/lib/python3.7/site-packages/ALLCools/dmr/fimo.py:60: FutureWarning: to_msgpack is deprecated and will be removed in a future version.\n",
      "It is recommended to use pyarrow for on-the-wire transmission of pandas objects.\n",
      "  final_df.to_msgpack(output_path, compress='zlib')\n"
     ]
    },
    {
     "name": "stdout",
     "output_type": "stream",
     "text": [
      "/home/hanliu/project/mouse_rostral_brain/DMR/SubType/raw/SubType-chr13/MotifScan.h5adtemp/MA0608.1.meme, N motif total=11377\n"
     ]
    },
    {
     "name": "stderr",
     "output_type": "stream",
     "text": [
      "/home/hanliu/miniconda3/envs/clustering/lib/python3.7/site-packages/ALLCools/dmr/fimo.py:60: FutureWarning: to_msgpack is deprecated and will be removed in a future version.\n",
      "It is recommended to use pyarrow for on-the-wire transmission of pandas objects.\n",
      "  final_df.to_msgpack(output_path, compress='zlib')\n"
     ]
    },
    {
     "name": "stdout",
     "output_type": "stream",
     "text": [
      "/home/hanliu/project/mouse_rostral_brain/DMR/SubType/raw/SubType-chr13/MotifScan.h5adtemp/MA0819.1.meme, N motif total=20011\n"
     ]
    },
    {
     "name": "stderr",
     "output_type": "stream",
     "text": [
      "/home/hanliu/miniconda3/envs/clustering/lib/python3.7/site-packages/ALLCools/dmr/fimo.py:60: FutureWarning: to_msgpack is deprecated and will be removed in a future version.\n",
      "It is recommended to use pyarrow for on-the-wire transmission of pandas objects.\n",
      "  final_df.to_msgpack(output_path, compress='zlib')\n"
     ]
    },
    {
     "name": "stdout",
     "output_type": "stream",
     "text": [
      "/home/hanliu/project/mouse_rostral_brain/DMR/SubType/raw/SubType-chr13/MotifScan.h5adtemp/MA0466.2.meme, N motif total=5647\n"
     ]
    },
    {
     "name": "stderr",
     "output_type": "stream",
     "text": [
      "/home/hanliu/miniconda3/envs/clustering/lib/python3.7/site-packages/ALLCools/dmr/fimo.py:60: FutureWarning: to_msgpack is deprecated and will be removed in a future version.\n",
      "It is recommended to use pyarrow for on-the-wire transmission of pandas objects.\n",
      "  final_df.to_msgpack(output_path, compress='zlib')\n"
     ]
    },
    {
     "name": "stdout",
     "output_type": "stream",
     "text": [
      "/home/hanliu/project/mouse_rostral_brain/DMR/SubType/raw/SubType-chr13/MotifScan.h5adtemp/MA0837.1.meme, N motif total=5909\n"
     ]
    },
    {
     "name": "stderr",
     "output_type": "stream",
     "text": [
      "/home/hanliu/miniconda3/envs/clustering/lib/python3.7/site-packages/ALLCools/dmr/fimo.py:60: FutureWarning: to_msgpack is deprecated and will be removed in a future version.\n",
      "It is recommended to use pyarrow for on-the-wire transmission of pandas objects.\n",
      "  final_df.to_msgpack(output_path, compress='zlib')\n"
     ]
    },
    {
     "name": "stdout",
     "output_type": "stream",
     "text": [
      "/home/hanliu/project/mouse_rostral_brain/DMR/SubType/raw/SubType-chr13/MotifScan.h5adtemp/MA0465.2.meme, N motif total=32808\n"
     ]
    },
    {
     "name": "stderr",
     "output_type": "stream",
     "text": [
      "/home/hanliu/miniconda3/envs/clustering/lib/python3.7/site-packages/ALLCools/dmr/fimo.py:60: FutureWarning: to_msgpack is deprecated and will be removed in a future version.\n",
      "It is recommended to use pyarrow for on-the-wire transmission of pandas objects.\n",
      "  final_df.to_msgpack(output_path, compress='zlib')\n"
     ]
    },
    {
     "name": "stdout",
     "output_type": "stream",
     "text": [
      "/home/hanliu/project/mouse_rostral_brain/DMR/SubType/raw/SubType-chr13/MotifScan.h5adtemp/MA1473.1.meme, N motif total=24278\n"
     ]
    },
    {
     "name": "stderr",
     "output_type": "stream",
     "text": [
      "/home/hanliu/miniconda3/envs/clustering/lib/python3.7/site-packages/ALLCools/dmr/fimo.py:60: FutureWarning: to_msgpack is deprecated and will be removed in a future version.\n",
      "It is recommended to use pyarrow for on-the-wire transmission of pandas objects.\n",
      "  final_df.to_msgpack(output_path, compress='zlib')\n"
     ]
    },
    {
     "name": "stdout",
     "output_type": "stream",
     "text": [
      "/home/hanliu/project/mouse_rostral_brain/DMR/SubType/raw/SubType-chr13/MotifScan.h5adtemp/MA0836.2.meme, N motif total=18222\n"
     ]
    },
    {
     "name": "stderr",
     "output_type": "stream",
     "text": [
      "/home/hanliu/miniconda3/envs/clustering/lib/python3.7/site-packages/ALLCools/dmr/fimo.py:60: FutureWarning: to_msgpack is deprecated and will be removed in a future version.\n",
      "It is recommended to use pyarrow for on-the-wire transmission of pandas objects.\n",
      "  final_df.to_msgpack(output_path, compress='zlib')\n"
     ]
    },
    {
     "name": "stdout",
     "output_type": "stream",
     "text": [
      "/home/hanliu/project/mouse_rostral_brain/DMR/SubType/raw/SubType-chr13/MotifScan.h5adtemp/MA0882.1.meme, N motif total=11423\n"
     ]
    },
    {
     "name": "stderr",
     "output_type": "stream",
     "text": [
      "/home/hanliu/miniconda3/envs/clustering/lib/python3.7/site-packages/ALLCools/dmr/fimo.py:60: FutureWarning: to_msgpack is deprecated and will be removed in a future version.\n",
      "It is recommended to use pyarrow for on-the-wire transmission of pandas objects.\n",
      "  final_df.to_msgpack(output_path, compress='zlib')\n"
     ]
    },
    {
     "name": "stdout",
     "output_type": "stream",
     "text": [
      "/home/hanliu/project/mouse_rostral_brain/DMR/SubType/raw/SubType-chr13/MotifScan.h5adtemp/MA1474.1.meme, N motif total=9656\n"
     ]
    },
    {
     "name": "stderr",
     "output_type": "stream",
     "text": [
      "/home/hanliu/miniconda3/envs/clustering/lib/python3.7/site-packages/ALLCools/dmr/fimo.py:60: FutureWarning: to_msgpack is deprecated and will be removed in a future version.\n",
      "It is recommended to use pyarrow for on-the-wire transmission of pandas objects.\n",
      "  final_df.to_msgpack(output_path, compress='zlib')\n"
     ]
    },
    {
     "name": "stdout",
     "output_type": "stream",
     "text": [
      "/home/hanliu/project/mouse_rostral_brain/DMR/SubType/raw/SubType-chr13/MotifScan.h5adtemp/MA0839.1.meme, N motif total=11075\n"
     ]
    },
    {
     "name": "stderr",
     "output_type": "stream",
     "text": [
      "/home/hanliu/miniconda3/envs/clustering/lib/python3.7/site-packages/ALLCools/dmr/fimo.py:60: FutureWarning: to_msgpack is deprecated and will be removed in a future version.\n",
      "It is recommended to use pyarrow for on-the-wire transmission of pandas objects.\n",
      "  final_df.to_msgpack(output_path, compress='zlib')\n"
     ]
    },
    {
     "name": "stdout",
     "output_type": "stream",
     "text": [
      "/home/hanliu/project/mouse_rostral_brain/DMR/SubType/raw/SubType-chr13/MotifScan.h5adtemp/MA0754.1.meme, N motif total=7024\n"
     ]
    },
    {
     "name": "stderr",
     "output_type": "stream",
     "text": [
      "/home/hanliu/miniconda3/envs/clustering/lib/python3.7/site-packages/ALLCools/dmr/fimo.py:60: FutureWarning: to_msgpack is deprecated and will be removed in a future version.\n",
      "It is recommended to use pyarrow for on-the-wire transmission of pandas objects.\n",
      "  final_df.to_msgpack(output_path, compress='zlib')\n"
     ]
    },
    {
     "name": "stdout",
     "output_type": "stream",
     "text": [
      "/home/hanliu/project/mouse_rostral_brain/DMR/SubType/raw/SubType-chr13/MotifScan.h5adtemp/MA0879.1.meme, N motif total=12825\n"
     ]
    },
    {
     "name": "stderr",
     "output_type": "stream",
     "text": [
      "/home/hanliu/miniconda3/envs/clustering/lib/python3.7/site-packages/ALLCools/dmr/fimo.py:60: FutureWarning: to_msgpack is deprecated and will be removed in a future version.\n",
      "It is recommended to use pyarrow for on-the-wire transmission of pandas objects.\n",
      "  final_df.to_msgpack(output_path, compress='zlib')\n"
     ]
    },
    {
     "name": "stdout",
     "output_type": "stream",
     "text": [
      "/home/hanliu/project/mouse_rostral_brain/DMR/SubType/raw/SubType-chr13/MotifScan.h5adtemp/MA0840.1.meme, N motif total=13324\n"
     ]
    },
    {
     "name": "stderr",
     "output_type": "stream",
     "text": [
      "/home/hanliu/miniconda3/envs/clustering/lib/python3.7/site-packages/ALLCools/dmr/fimo.py:60: FutureWarning: to_msgpack is deprecated and will be removed in a future version.\n",
      "It is recommended to use pyarrow for on-the-wire transmission of pandas objects.\n",
      "  final_df.to_msgpack(output_path, compress='zlib')\n"
     ]
    },
    {
     "name": "stdout",
     "output_type": "stream",
     "text": [
      "/home/hanliu/project/mouse_rostral_brain/DMR/SubType/raw/SubType-chr13/MotifScan.h5adtemp/MA0755.1.meme, N motif total=6698\n"
     ]
    },
    {
     "name": "stderr",
     "output_type": "stream",
     "text": [
      "/home/hanliu/miniconda3/envs/clustering/lib/python3.7/site-packages/ALLCools/dmr/fimo.py:60: FutureWarning: to_msgpack is deprecated and will be removed in a future version.\n",
      "It is recommended to use pyarrow for on-the-wire transmission of pandas objects.\n",
      "  final_df.to_msgpack(output_path, compress='zlib')\n"
     ]
    },
    {
     "name": "stdout",
     "output_type": "stream",
     "text": [
      "/home/hanliu/project/mouse_rostral_brain/DMR/SubType/raw/SubType-chr13/MotifScan.h5adtemp/MA0885.1.meme, N motif total=12977\n"
     ]
    },
    {
     "name": "stderr",
     "output_type": "stream",
     "text": [
      "/home/hanliu/miniconda3/envs/clustering/lib/python3.7/site-packages/ALLCools/dmr/fimo.py:60: FutureWarning: to_msgpack is deprecated and will be removed in a future version.\n",
      "It is recommended to use pyarrow for on-the-wire transmission of pandas objects.\n",
      "  final_df.to_msgpack(output_path, compress='zlib')\n"
     ]
    },
    {
     "name": "stdout",
     "output_type": "stream",
     "text": [
      "/home/hanliu/project/mouse_rostral_brain/DMR/SubType/raw/SubType-chr13/MotifScan.h5adtemp/MA1476.1.meme, N motif total=11993\n"
     ]
    },
    {
     "name": "stderr",
     "output_type": "stream",
     "text": [
      "/home/hanliu/miniconda3/envs/clustering/lib/python3.7/site-packages/ALLCools/dmr/fimo.py:60: FutureWarning: to_msgpack is deprecated and will be removed in a future version.\n",
      "It is recommended to use pyarrow for on-the-wire transmission of pandas objects.\n",
      "  final_df.to_msgpack(output_path, compress='zlib')\n"
     ]
    },
    {
     "name": "stdout",
     "output_type": "stream",
     "text": [
      "/home/hanliu/project/mouse_rostral_brain/DMR/SubType/raw/SubType-chr13/MotifScan.h5adtemp/MA0102.4.meme, N motif total=19033\n"
     ]
    },
    {
     "name": "stderr",
     "output_type": "stream",
     "text": [
      "/home/hanliu/miniconda3/envs/clustering/lib/python3.7/site-packages/ALLCools/dmr/fimo.py:60: FutureWarning: to_msgpack is deprecated and will be removed in a future version.\n",
      "It is recommended to use pyarrow for on-the-wire transmission of pandas objects.\n",
      "  final_df.to_msgpack(output_path, compress='zlib')\n"
     ]
    },
    {
     "name": "stdout",
     "output_type": "stream",
     "text": [
      "/home/hanliu/project/mouse_rostral_brain/DMR/SubType/raw/SubType-chr13/MotifScan.h5adtemp/MA1475.1.meme, N motif total=8185\n"
     ]
    },
    {
     "name": "stderr",
     "output_type": "stream",
     "text": [
      "/home/hanliu/miniconda3/envs/clustering/lib/python3.7/site-packages/ALLCools/dmr/fimo.py:60: FutureWarning: to_msgpack is deprecated and will be removed in a future version.\n",
      "It is recommended to use pyarrow for on-the-wire transmission of pandas objects.\n",
      "  final_df.to_msgpack(output_path, compress='zlib')\n"
     ]
    },
    {
     "name": "stdout",
     "output_type": "stream",
     "text": [
      "/home/hanliu/project/mouse_rostral_brain/DMR/SubType/raw/SubType-chr13/MotifScan.h5adtemp/MA0880.1.meme, N motif total=8820\n"
     ]
    },
    {
     "name": "stderr",
     "output_type": "stream",
     "text": [
      "/home/hanliu/miniconda3/envs/clustering/lib/python3.7/site-packages/ALLCools/dmr/fimo.py:60: FutureWarning: to_msgpack is deprecated and will be removed in a future version.\n",
      "It is recommended to use pyarrow for on-the-wire transmission of pandas objects.\n",
      "  final_df.to_msgpack(output_path, compress='zlib')\n"
     ]
    },
    {
     "name": "stdout",
     "output_type": "stream",
     "text": [
      "/home/hanliu/project/mouse_rostral_brain/DMR/SubType/raw/SubType-chr13/MotifScan.h5adtemp/MA0018.4.meme, N motif total=28486\n"
     ]
    },
    {
     "name": "stderr",
     "output_type": "stream",
     "text": [
      "/home/hanliu/miniconda3/envs/clustering/lib/python3.7/site-packages/ALLCools/dmr/fimo.py:60: FutureWarning: to_msgpack is deprecated and will be removed in a future version.\n",
      "It is recommended to use pyarrow for on-the-wire transmission of pandas objects.\n",
      "  final_df.to_msgpack(output_path, compress='zlib')\n"
     ]
    },
    {
     "name": "stdout",
     "output_type": "stream",
     "text": [
      "/home/hanliu/project/mouse_rostral_brain/DMR/SubType/raw/SubType-chr13/MotifScan.h5adtemp/MA0639.1.meme, N motif total=11416\n"
     ]
    },
    {
     "name": "stderr",
     "output_type": "stream",
     "text": [
      "/home/hanliu/miniconda3/envs/clustering/lib/python3.7/site-packages/ALLCools/dmr/fimo.py:60: FutureWarning: to_msgpack is deprecated and will be removed in a future version.\n",
      "It is recommended to use pyarrow for on-the-wire transmission of pandas objects.\n",
      "  final_df.to_msgpack(output_path, compress='zlib')\n"
     ]
    },
    {
     "name": "stdout",
     "output_type": "stream",
     "text": [
      "/home/hanliu/project/mouse_rostral_brain/DMR/SubType/raw/SubType-chr13/MotifScan.h5adtemp/MA1636.1.meme, N motif total=20016\n"
     ]
    },
    {
     "name": "stderr",
     "output_type": "stream",
     "text": [
      "/home/hanliu/miniconda3/envs/clustering/lib/python3.7/site-packages/ALLCools/dmr/fimo.py:60: FutureWarning: to_msgpack is deprecated and will be removed in a future version.\n",
      "It is recommended to use pyarrow for on-the-wire transmission of pandas objects.\n",
      "  final_df.to_msgpack(output_path, compress='zlib')\n"
     ]
    },
    {
     "name": "stdout",
     "output_type": "stream",
     "text": [
      "/home/hanliu/project/mouse_rostral_brain/DMR/SubType/raw/SubType-chr13/MotifScan.h5adtemp/MA0467.1.meme, N motif total=20733\n"
     ]
    },
    {
     "name": "stderr",
     "output_type": "stream",
     "text": [
      "/home/hanliu/miniconda3/envs/clustering/lib/python3.7/site-packages/ALLCools/dmr/fimo.py:60: FutureWarning: to_msgpack is deprecated and will be removed in a future version.\n",
      "It is recommended to use pyarrow for on-the-wire transmission of pandas objects.\n",
      "  final_df.to_msgpack(output_path, compress='zlib')\n"
     ]
    },
    {
     "name": "stdout",
     "output_type": "stream",
     "text": [
      "/home/hanliu/project/mouse_rostral_brain/DMR/SubType/raw/SubType-chr13/MotifScan.h5adtemp/MA0637.1.meme, N motif total=3420\n"
     ]
    },
    {
     "name": "stderr",
     "output_type": "stream",
     "text": [
      "/home/hanliu/miniconda3/envs/clustering/lib/python3.7/site-packages/ALLCools/dmr/fimo.py:60: FutureWarning: to_msgpack is deprecated and will be removed in a future version.\n",
      "It is recommended to use pyarrow for on-the-wire transmission of pandas objects.\n",
      "  final_df.to_msgpack(output_path, compress='zlib')\n"
     ]
    },
    {
     "name": "stdout",
     "output_type": "stream",
     "text": [
      "/home/hanliu/project/mouse_rostral_brain/DMR/SubType/raw/SubType-chr13/MotifScan.h5adtemp/MA0019.1.meme, N motif total=17568\n"
     ]
    },
    {
     "name": "stderr",
     "output_type": "stream",
     "text": [
      "/home/hanliu/miniconda3/envs/clustering/lib/python3.7/site-packages/ALLCools/dmr/fimo.py:60: FutureWarning: to_msgpack is deprecated and will be removed in a future version.\n",
      "It is recommended to use pyarrow for on-the-wire transmission of pandas objects.\n",
      "  final_df.to_msgpack(output_path, compress='zlib')\n"
     ]
    },
    {
     "name": "stdout",
     "output_type": "stream",
     "text": [
      "/home/hanliu/project/mouse_rostral_brain/DMR/SubType/raw/SubType-chr13/MotifScan.h5adtemp/MA1102.2.meme, N motif total=27752\n"
     ]
    },
    {
     "name": "stderr",
     "output_type": "stream",
     "text": [
      "/home/hanliu/miniconda3/envs/clustering/lib/python3.7/site-packages/ALLCools/dmr/fimo.py:60: FutureWarning: to_msgpack is deprecated and will be removed in a future version.\n",
      "It is recommended to use pyarrow for on-the-wire transmission of pandas objects.\n",
      "  final_df.to_msgpack(output_path, compress='zlib')\n"
     ]
    },
    {
     "name": "stdout",
     "output_type": "stream",
     "text": [
      "/home/hanliu/project/mouse_rostral_brain/DMR/SubType/raw/SubType-chr13/MotifScan.h5adtemp/MA0638.1.meme, N motif total=7128\n"
     ]
    },
    {
     "name": "stderr",
     "output_type": "stream",
     "text": [
      "/home/hanliu/miniconda3/envs/clustering/lib/python3.7/site-packages/ALLCools/dmr/fimo.py:60: FutureWarning: to_msgpack is deprecated and will be removed in a future version.\n",
      "It is recommended to use pyarrow for on-the-wire transmission of pandas objects.\n",
      "  final_df.to_msgpack(output_path, compress='zlib')\n"
     ]
    },
    {
     "name": "stdout",
     "output_type": "stream",
     "text": [
      "/home/hanliu/project/mouse_rostral_brain/DMR/SubType/raw/SubType-chr13/MotifScan.h5adtemp/MA0881.1.meme, N motif total=12016\n"
     ]
    },
    {
     "name": "stderr",
     "output_type": "stream",
     "text": [
      "/home/hanliu/miniconda3/envs/clustering/lib/python3.7/site-packages/ALLCools/dmr/fimo.py:60: FutureWarning: to_msgpack is deprecated and will be removed in a future version.\n",
      "It is recommended to use pyarrow for on-the-wire transmission of pandas objects.\n",
      "  final_df.to_msgpack(output_path, compress='zlib')\n"
     ]
    },
    {
     "name": "stdout",
     "output_type": "stream",
     "text": [
      "/home/hanliu/project/mouse_rostral_brain/DMR/SubType/raw/SubType-chr13/MotifScan.h5adtemp/MA0609.2.meme, N motif total=17927\n"
     ]
    },
    {
     "name": "stderr",
     "output_type": "stream",
     "text": [
      "/home/hanliu/miniconda3/envs/clustering/lib/python3.7/site-packages/ALLCools/dmr/fimo.py:60: FutureWarning: to_msgpack is deprecated and will be removed in a future version.\n",
      "It is recommended to use pyarrow for on-the-wire transmission of pandas objects.\n",
      "  final_df.to_msgpack(output_path, compress='zlib')\n"
     ]
    },
    {
     "name": "stdout",
     "output_type": "stream",
     "text": [
      "/home/hanliu/project/mouse_rostral_brain/DMR/SubType/raw/SubType-chr13/MotifScan.h5adtemp/MA1603.1.meme, N motif total=30037\n"
     ]
    },
    {
     "name": "stderr",
     "output_type": "stream",
     "text": [
      "/home/hanliu/miniconda3/envs/clustering/lib/python3.7/site-packages/ALLCools/dmr/fimo.py:60: FutureWarning: to_msgpack is deprecated and will be removed in a future version.\n",
      "It is recommended to use pyarrow for on-the-wire transmission of pandas objects.\n",
      "  final_df.to_msgpack(output_path, compress='zlib')\n"
     ]
    },
    {
     "name": "stdout",
     "output_type": "stream",
     "text": [
      "/home/hanliu/project/mouse_rostral_brain/DMR/SubType/raw/SubType-chr13/MotifScan.h5adtemp/MA0139.1.meme, N motif total=39913\n"
     ]
    },
    {
     "name": "stderr",
     "output_type": "stream",
     "text": [
      "/home/hanliu/miniconda3/envs/clustering/lib/python3.7/site-packages/ALLCools/dmr/fimo.py:60: FutureWarning: to_msgpack is deprecated and will be removed in a future version.\n",
      "It is recommended to use pyarrow for on-the-wire transmission of pandas objects.\n",
      "  final_df.to_msgpack(output_path, compress='zlib')\n"
     ]
    },
    {
     "name": "stdout",
     "output_type": "stream",
     "text": [
      "/home/hanliu/project/mouse_rostral_brain/DMR/SubType/raw/SubType-chr13/MotifScan.h5adtemp/MA0883.1.meme, N motif total=11700\n"
     ]
    },
    {
     "name": "stderr",
     "output_type": "stream",
     "text": [
      "/home/hanliu/miniconda3/envs/clustering/lib/python3.7/site-packages/ALLCools/dmr/fimo.py:60: FutureWarning: to_msgpack is deprecated and will be removed in a future version.\n",
      "It is recommended to use pyarrow for on-the-wire transmission of pandas objects.\n",
      "  final_df.to_msgpack(output_path, compress='zlib')\n"
     ]
    },
    {
     "name": "stdout",
     "output_type": "stream",
     "text": [
      "/home/hanliu/project/mouse_rostral_brain/DMR/SubType/raw/SubType-chr13/MotifScan.h5adtemp/MA1481.1.meme, N motif total=10034\n"
     ]
    },
    {
     "name": "stderr",
     "output_type": "stream",
     "text": [
      "/home/hanliu/miniconda3/envs/clustering/lib/python3.7/site-packages/ALLCools/dmr/fimo.py:60: FutureWarning: to_msgpack is deprecated and will be removed in a future version.\n",
      "It is recommended to use pyarrow for on-the-wire transmission of pandas objects.\n",
      "  final_df.to_msgpack(output_path, compress='zlib')\n"
     ]
    },
    {
     "name": "stdout",
     "output_type": "stream",
     "text": [
      "/home/hanliu/project/mouse_rostral_brain/DMR/SubType/raw/SubType-chr13/MotifScan.h5adtemp/MA0610.1.meme, N motif total=20040\n"
     ]
    },
    {
     "name": "stderr",
     "output_type": "stream",
     "text": [
      "/home/hanliu/miniconda3/envs/clustering/lib/python3.7/site-packages/ALLCools/dmr/fimo.py:60: FutureWarning: to_msgpack is deprecated and will be removed in a future version.\n",
      "It is recommended to use pyarrow for on-the-wire transmission of pandas objects.\n",
      "  final_df.to_msgpack(output_path, compress='zlib')\n"
     ]
    },
    {
     "name": "stdout",
     "output_type": "stream",
     "text": [
      "/home/hanliu/project/mouse_rostral_brain/DMR/SubType/raw/SubType-chr13/MotifScan.h5adtemp/MA1478.1.meme, N motif total=19483\n"
     ]
    },
    {
     "name": "stderr",
     "output_type": "stream",
     "text": [
      "/home/hanliu/miniconda3/envs/clustering/lib/python3.7/site-packages/ALLCools/dmr/fimo.py:60: FutureWarning: to_msgpack is deprecated and will be removed in a future version.\n",
      "It is recommended to use pyarrow for on-the-wire transmission of pandas objects.\n",
      "  final_df.to_msgpack(output_path, compress='zlib')\n"
     ]
    },
    {
     "name": "stdout",
     "output_type": "stream",
     "text": [
      "/home/hanliu/project/mouse_rostral_brain/DMR/SubType/raw/SubType-chr13/MotifScan.h5adtemp/MA1479.1.meme, N motif total=23683\n"
     ]
    },
    {
     "name": "stderr",
     "output_type": "stream",
     "text": [
      "/home/hanliu/miniconda3/envs/clustering/lib/python3.7/site-packages/ALLCools/dmr/fimo.py:60: FutureWarning: to_msgpack is deprecated and will be removed in a future version.\n",
      "It is recommended to use pyarrow for on-the-wire transmission of pandas objects.\n",
      "  final_df.to_msgpack(output_path, compress='zlib')\n"
     ]
    },
    {
     "name": "stdout",
     "output_type": "stream",
     "text": [
      "/home/hanliu/project/mouse_rostral_brain/DMR/SubType/raw/SubType-chr13/MotifScan.h5adtemp/MA0024.3.meme, N motif total=3471\n"
     ]
    },
    {
     "name": "stderr",
     "output_type": "stream",
     "text": [
      "/home/hanliu/miniconda3/envs/clustering/lib/python3.7/site-packages/ALLCools/dmr/fimo.py:60: FutureWarning: to_msgpack is deprecated and will be removed in a future version.\n",
      "It is recommended to use pyarrow for on-the-wire transmission of pandas objects.\n",
      "  final_df.to_msgpack(output_path, compress='zlib')\n"
     ]
    },
    {
     "name": "stdout",
     "output_type": "stream",
     "text": [
      "/home/hanliu/project/mouse_rostral_brain/DMR/SubType/raw/SubType-chr13/MotifScan.h5adtemp/MA0471.2.meme, N motif total=57998\n"
     ]
    },
    {
     "name": "stderr",
     "output_type": "stream",
     "text": [
      "/home/hanliu/miniconda3/envs/clustering/lib/python3.7/site-packages/ALLCools/dmr/fimo.py:60: FutureWarning: to_msgpack is deprecated and will be removed in a future version.\n",
      "It is recommended to use pyarrow for on-the-wire transmission of pandas objects.\n",
      "  final_df.to_msgpack(output_path, compress='zlib')\n"
     ]
    },
    {
     "name": "stdout",
     "output_type": "stream",
     "text": [
      "/home/hanliu/project/mouse_rostral_brain/DMR/SubType/raw/SubType-chr13/MotifScan.h5adtemp/MA0758.1.meme, N motif total=802\n"
     ]
    },
    {
     "name": "stderr",
     "output_type": "stream",
     "text": [
      "/home/hanliu/miniconda3/envs/clustering/lib/python3.7/site-packages/ALLCools/dmr/fimo.py:60: FutureWarning: to_msgpack is deprecated and will be removed in a future version.\n",
      "It is recommended to use pyarrow for on-the-wire transmission of pandas objects.\n",
      "  final_df.to_msgpack(output_path, compress='zlib')\n"
     ]
    },
    {
     "name": "stdout",
     "output_type": "stream",
     "text": [
      "/home/hanliu/project/mouse_rostral_brain/DMR/SubType/raw/SubType-chr13/MotifScan.h5adtemp/MA0470.2.meme, N motif total=2406\n"
     ]
    },
    {
     "name": "stderr",
     "output_type": "stream",
     "text": [
      "/home/hanliu/miniconda3/envs/clustering/lib/python3.7/site-packages/ALLCools/dmr/fimo.py:60: FutureWarning: to_msgpack is deprecated and will be removed in a future version.\n",
      "It is recommended to use pyarrow for on-the-wire transmission of pandas objects.\n",
      "  final_df.to_msgpack(output_path, compress='zlib')\n"
     ]
    },
    {
     "name": "stdout",
     "output_type": "stream",
     "text": [
      "/home/hanliu/project/mouse_rostral_brain/DMR/SubType/raw/SubType-chr13/MotifScan.h5adtemp/MA0612.2.meme, N motif total=10668\n"
     ]
    },
    {
     "name": "stderr",
     "output_type": "stream",
     "text": [
      "/home/hanliu/miniconda3/envs/clustering/lib/python3.7/site-packages/ALLCools/dmr/fimo.py:60: FutureWarning: to_msgpack is deprecated and will be removed in a future version.\n",
      "It is recommended to use pyarrow for on-the-wire transmission of pandas objects.\n",
      "  final_df.to_msgpack(output_path, compress='zlib')\n"
     ]
    },
    {
     "name": "stdout",
     "output_type": "stream",
     "text": [
      "/home/hanliu/project/mouse_rostral_brain/DMR/SubType/raw/SubType-chr13/MotifScan.h5adtemp/MA0865.1.meme, N motif total=10032\n"
     ]
    },
    {
     "name": "stderr",
     "output_type": "stream",
     "text": [
      "/home/hanliu/miniconda3/envs/clustering/lib/python3.7/site-packages/ALLCools/dmr/fimo.py:60: FutureWarning: to_msgpack is deprecated and will be removed in a future version.\n",
      "It is recommended to use pyarrow for on-the-wire transmission of pandas objects.\n",
      "  final_df.to_msgpack(output_path, compress='zlib')\n"
     ]
    },
    {
     "name": "stdout",
     "output_type": "stream",
     "text": [
      "/home/hanliu/project/mouse_rostral_brain/DMR/SubType/raw/SubType-chr13/MotifScan.h5adtemp/MA0864.2.meme, N motif total=2442\n"
     ]
    },
    {
     "name": "stderr",
     "output_type": "stream",
     "text": [
      "/home/hanliu/miniconda3/envs/clustering/lib/python3.7/site-packages/ALLCools/dmr/fimo.py:60: FutureWarning: to_msgpack is deprecated and will be removed in a future version.\n",
      "It is recommended to use pyarrow for on-the-wire transmission of pandas objects.\n",
      "  final_df.to_msgpack(output_path, compress='zlib')\n"
     ]
    },
    {
     "name": "stdout",
     "output_type": "stream",
     "text": [
      "/home/hanliu/project/mouse_rostral_brain/DMR/SubType/raw/SubType-chr13/MotifScan.h5adtemp/MA0027.2.meme, N motif total=12350\n"
     ]
    },
    {
     "name": "stderr",
     "output_type": "stream",
     "text": [
      "/home/hanliu/miniconda3/envs/clustering/lib/python3.7/site-packages/ALLCools/dmr/fimo.py:60: FutureWarning: to_msgpack is deprecated and will be removed in a future version.\n",
      "It is recommended to use pyarrow for on-the-wire transmission of pandas objects.\n",
      "  final_df.to_msgpack(output_path, compress='zlib')\n"
     ]
    },
    {
     "name": "stdout",
     "output_type": "stream",
     "text": [
      "/home/hanliu/project/mouse_rostral_brain/DMR/SubType/raw/SubType-chr13/MotifScan.h5adtemp/MA1637.1.meme, N motif total=41418\n"
     ]
    },
    {
     "name": "stderr",
     "output_type": "stream",
     "text": [
      "/home/hanliu/miniconda3/envs/clustering/lib/python3.7/site-packages/ALLCools/dmr/fimo.py:60: FutureWarning: to_msgpack is deprecated and will be removed in a future version.\n",
      "It is recommended to use pyarrow for on-the-wire transmission of pandas objects.\n",
      "  final_df.to_msgpack(output_path, compress='zlib')\n"
     ]
    },
    {
     "name": "stdout",
     "output_type": "stream",
     "text": [
      "/home/hanliu/project/mouse_rostral_brain/DMR/SubType/raw/SubType-chr13/MotifScan.h5adtemp/MA0472.2.meme, N motif total=13781\n"
     ]
    },
    {
     "name": "stderr",
     "output_type": "stream",
     "text": [
      "/home/hanliu/miniconda3/envs/clustering/lib/python3.7/site-packages/ALLCools/dmr/fimo.py:60: FutureWarning: to_msgpack is deprecated and will be removed in a future version.\n",
      "It is recommended to use pyarrow for on-the-wire transmission of pandas objects.\n",
      "  final_df.to_msgpack(output_path, compress='zlib')\n"
     ]
    },
    {
     "name": "stdout",
     "output_type": "stream",
     "text": [
      "/home/hanliu/project/mouse_rostral_brain/DMR/SubType/raw/SubType-chr13/MotifScan.h5adtemp/MA0028.2.meme, N motif total=7479\n"
     ]
    },
    {
     "name": "stderr",
     "output_type": "stream",
     "text": [
      "/home/hanliu/miniconda3/envs/clustering/lib/python3.7/site-packages/ALLCools/dmr/fimo.py:60: FutureWarning: to_msgpack is deprecated and will be removed in a future version.\n",
      "It is recommended to use pyarrow for on-the-wire transmission of pandas objects.\n",
      "  final_df.to_msgpack(output_path, compress='zlib')\n"
     ]
    },
    {
     "name": "stdout",
     "output_type": "stream",
     "text": [
      "/home/hanliu/project/mouse_rostral_brain/DMR/SubType/raw/SubType-chr13/MotifScan.h5adtemp/MA0469.3.meme, N motif total=1308\n"
     ]
    },
    {
     "name": "stderr",
     "output_type": "stream",
     "text": [
      "/home/hanliu/miniconda3/envs/clustering/lib/python3.7/site-packages/ALLCools/dmr/fimo.py:60: FutureWarning: to_msgpack is deprecated and will be removed in a future version.\n",
      "It is recommended to use pyarrow for on-the-wire transmission of pandas objects.\n",
      "  final_df.to_msgpack(output_path, compress='zlib')\n"
     ]
    },
    {
     "name": "stdout",
     "output_type": "stream",
     "text": [
      "/home/hanliu/project/mouse_rostral_brain/DMR/SubType/raw/SubType-chr13/MotifScan.h5adtemp/MA0641.1.meme, N motif total=15820\n"
     ]
    },
    {
     "name": "stderr",
     "output_type": "stream",
     "text": [
      "/home/hanliu/miniconda3/envs/clustering/lib/python3.7/site-packages/ALLCools/dmr/fimo.py:60: FutureWarning: to_msgpack is deprecated and will be removed in a future version.\n",
      "It is recommended to use pyarrow for on-the-wire transmission of pandas objects.\n",
      "  final_df.to_msgpack(output_path, compress='zlib')\n"
     ]
    },
    {
     "name": "stdout",
     "output_type": "stream",
     "text": [
      "/home/hanliu/project/mouse_rostral_brain/DMR/SubType/raw/SubType-chr13/MotifScan.h5adtemp/MA0642.1.meme, N motif total=11721\n"
     ]
    },
    {
     "name": "stderr",
     "output_type": "stream",
     "text": [
      "/home/hanliu/miniconda3/envs/clustering/lib/python3.7/site-packages/ALLCools/dmr/fimo.py:60: FutureWarning: to_msgpack is deprecated and will be removed in a future version.\n",
      "It is recommended to use pyarrow for on-the-wire transmission of pandas objects.\n",
      "  final_df.to_msgpack(output_path, compress='zlib')\n"
     ]
    },
    {
     "name": "stdout",
     "output_type": "stream",
     "text": [
      "/home/hanliu/project/mouse_rostral_brain/DMR/SubType/raw/SubType-chr13/MotifScan.h5adtemp/MA0136.2.meme, N motif total=25360\n"
     ]
    },
    {
     "name": "stderr",
     "output_type": "stream",
     "text": [
      "/home/hanliu/miniconda3/envs/clustering/lib/python3.7/site-packages/ALLCools/dmr/fimo.py:60: FutureWarning: to_msgpack is deprecated and will be removed in a future version.\n",
      "It is recommended to use pyarrow for on-the-wire transmission of pandas objects.\n",
      "  final_df.to_msgpack(output_path, compress='zlib')\n"
     ]
    },
    {
     "name": "stdout",
     "output_type": "stream",
     "text": [
      "/home/hanliu/project/mouse_rostral_brain/DMR/SubType/raw/SubType-chr13/MotifScan.h5adtemp/MA0886.1.meme, N motif total=13259\n"
     ]
    },
    {
     "name": "stderr",
     "output_type": "stream",
     "text": [
      "/home/hanliu/miniconda3/envs/clustering/lib/python3.7/site-packages/ALLCools/dmr/fimo.py:60: FutureWarning: to_msgpack is deprecated and will be removed in a future version.\n",
      "It is recommended to use pyarrow for on-the-wire transmission of pandas objects.\n",
      "  final_df.to_msgpack(output_path, compress='zlib')\n"
     ]
    },
    {
     "name": "stdout",
     "output_type": "stream",
     "text": [
      "/home/hanliu/project/mouse_rostral_brain/DMR/SubType/raw/SubType-chr13/MotifScan.h5adtemp/MA0154.4.meme, N motif total=52377\n"
     ]
    },
    {
     "name": "stderr",
     "output_type": "stream",
     "text": [
      "/home/hanliu/miniconda3/envs/clustering/lib/python3.7/site-packages/ALLCools/dmr/fimo.py:60: FutureWarning: to_msgpack is deprecated and will be removed in a future version.\n",
      "It is recommended to use pyarrow for on-the-wire transmission of pandas objects.\n",
      "  final_df.to_msgpack(output_path, compress='zlib')\n"
     ]
    },
    {
     "name": "stdout",
     "output_type": "stream",
     "text": [
      "/home/hanliu/project/mouse_rostral_brain/DMR/SubType/raw/SubType-chr13/MotifScan.h5adtemp/MA0474.2.meme, N motif total=11641\n"
     ]
    },
    {
     "name": "stderr",
     "output_type": "stream",
     "text": [
      "/home/hanliu/miniconda3/envs/clustering/lib/python3.7/site-packages/ALLCools/dmr/fimo.py:60: FutureWarning: to_msgpack is deprecated and will be removed in a future version.\n",
      "It is recommended to use pyarrow for on-the-wire transmission of pandas objects.\n",
      "  final_df.to_msgpack(output_path, compress='zlib')\n"
     ]
    },
    {
     "name": "stdout",
     "output_type": "stream",
     "text": [
      "/home/hanliu/project/mouse_rostral_brain/DMR/SubType/raw/SubType-chr13/MotifScan.h5adtemp/MA0759.1.meme, N motif total=8380\n"
     ]
    },
    {
     "name": "stdout",
     "output_type": "stream",
     "text": [
      "/home/hanliu/project/mouse_rostral_brain/DMR/SubType/raw/SubType-chr13/MotifScan.h5adtemp/MA1483.1.meme, N motif total=13612\n"
     ]
    },
    {
     "name": "stderr",
     "output_type": "stream",
     "text": [
      "/home/hanliu/miniconda3/envs/clustering/lib/python3.7/site-packages/ALLCools/dmr/fimo.py:60: FutureWarning: to_msgpack is deprecated and will be removed in a future version.\n",
      "It is recommended to use pyarrow for on-the-wire transmission of pandas objects.\n",
      "  final_df.to_msgpack(output_path, compress='zlib')\n"
     ]
    },
    {
     "name": "stderr",
     "output_type": "stream",
     "text": [
      "/home/hanliu/miniconda3/envs/clustering/lib/python3.7/site-packages/ALLCools/dmr/fimo.py:60: FutureWarning: to_msgpack is deprecated and will be removed in a future version.\n",
      "It is recommended to use pyarrow for on-the-wire transmission of pandas objects.\n",
      "  final_df.to_msgpack(output_path, compress='zlib')\n"
     ]
    },
    {
     "name": "stdout",
     "output_type": "stream",
     "text": [
      "Finish count 100 motifs.\n"
     ]
    },
    {
     "name": "stdout",
     "output_type": "stream",
     "text": [
      "/home/hanliu/project/mouse_rostral_brain/DMR/SubType/raw/SubType-chr13/MotifScan.h5adtemp/MA0076.2.meme, N motif total=22075\n"
     ]
    },
    {
     "name": "stderr",
     "output_type": "stream",
     "text": [
      "/home/hanliu/miniconda3/envs/clustering/lib/python3.7/site-packages/ALLCools/dmr/fimo.py:60: FutureWarning: to_msgpack is deprecated and will be removed in a future version.\n",
      "It is recommended to use pyarrow for on-the-wire transmission of pandas objects.\n",
      "  final_df.to_msgpack(output_path, compress='zlib')\n"
     ]
    },
    {
     "name": "stdout",
     "output_type": "stream",
     "text": [
      "/home/hanliu/project/mouse_rostral_brain/DMR/SubType/raw/SubType-chr13/MotifScan.h5adtemp/MA0760.1.meme, N motif total=12994\n"
     ]
    },
    {
     "name": "stderr",
     "output_type": "stream",
     "text": [
      "/home/hanliu/miniconda3/envs/clustering/lib/python3.7/site-packages/ALLCools/dmr/fimo.py:60: FutureWarning: to_msgpack is deprecated and will be removed in a future version.\n",
      "It is recommended to use pyarrow for on-the-wire transmission of pandas objects.\n",
      "  final_df.to_msgpack(output_path, compress='zlib')\n"
     ]
    },
    {
     "name": "stdout",
     "output_type": "stream",
     "text": [
      "/home/hanliu/project/mouse_rostral_brain/DMR/SubType/raw/SubType-chr13/MotifScan.h5adtemp/MA0473.3.meme, N motif total=62080\n"
     ]
    },
    {
     "name": "stderr",
     "output_type": "stream",
     "text": [
      "/home/hanliu/miniconda3/envs/clustering/lib/python3.7/site-packages/ALLCools/dmr/fimo.py:60: FutureWarning: to_msgpack is deprecated and will be removed in a future version.\n",
      "It is recommended to use pyarrow for on-the-wire transmission of pandas objects.\n",
      "  final_df.to_msgpack(output_path, compress='zlib')\n"
     ]
    },
    {
     "name": "stdout",
     "output_type": "stream",
     "text": [
      "/home/hanliu/project/mouse_rostral_brain/DMR/SubType/raw/SubType-chr13/MotifScan.h5adtemp/MA1604.1.meme, N motif total=43150\n"
     ]
    },
    {
     "name": "stderr",
     "output_type": "stream",
     "text": [
      "/home/hanliu/miniconda3/envs/clustering/lib/python3.7/site-packages/ALLCools/dmr/fimo.py:60: FutureWarning: to_msgpack is deprecated and will be removed in a future version.\n",
      "It is recommended to use pyarrow for on-the-wire transmission of pandas objects.\n",
      "  final_df.to_msgpack(output_path, compress='zlib')\n"
     ]
    },
    {
     "name": "stdout",
     "output_type": "stream",
     "text": [
      "/home/hanliu/project/mouse_rostral_brain/DMR/SubType/raw/SubType-chr13/MotifScan.h5adtemp/MA0640.2.meme, N motif total=69596\n"
     ]
    },
    {
     "name": "stderr",
     "output_type": "stream",
     "text": [
      "/home/hanliu/miniconda3/envs/clustering/lib/python3.7/site-packages/ALLCools/dmr/fimo.py:60: FutureWarning: to_msgpack is deprecated and will be removed in a future version.\n",
      "It is recommended to use pyarrow for on-the-wire transmission of pandas objects.\n",
      "  final_df.to_msgpack(output_path, compress='zlib')\n"
     ]
    },
    {
     "name": "stdout",
     "output_type": "stream",
     "text": [
      "/home/hanliu/project/mouse_rostral_brain/DMR/SubType/raw/SubType-chr13/MotifScan.h5adtemp/MA0733.1.meme, N motif total=41536\n"
     ]
    },
    {
     "name": "stderr",
     "output_type": "stream",
     "text": [
      "/home/hanliu/miniconda3/envs/clustering/lib/python3.7/site-packages/ALLCools/dmr/fimo.py:60: FutureWarning: to_msgpack is deprecated and will be removed in a future version.\n",
      "It is recommended to use pyarrow for on-the-wire transmission of pandas objects.\n",
      "  final_df.to_msgpack(output_path, compress='zlib')\n"
     ]
    },
    {
     "name": "stdout",
     "output_type": "stream",
     "text": [
      "/home/hanliu/project/mouse_rostral_brain/DMR/SubType/raw/SubType-chr13/MotifScan.h5adtemp/MA0800.1.meme, N motif total=23664\n"
     ]
    },
    {
     "name": "stderr",
     "output_type": "stream",
     "text": [
      "/home/hanliu/miniconda3/envs/clustering/lib/python3.7/site-packages/ALLCools/dmr/fimo.py:60: FutureWarning: to_msgpack is deprecated and will be removed in a future version.\n",
      "It is recommended to use pyarrow for on-the-wire transmission of pandas objects.\n",
      "  final_df.to_msgpack(output_path, compress='zlib')\n"
     ]
    },
    {
     "name": "stdout",
     "output_type": "stream",
     "text": [
      "/home/hanliu/project/mouse_rostral_brain/DMR/SubType/raw/SubType-chr13/MotifScan.h5adtemp/MA0732.1.meme, N motif total=23865\n"
     ]
    },
    {
     "name": "stdout",
     "output_type": "stream",
     "text": [
      "/home/hanliu/project/mouse_rostral_brain/DMR/SubType/raw/SubType-chr13/MotifScan.h5adtemp/MA0598.3.meme, N motif total=57724\n"
     ]
    },
    {
     "name": "stderr",
     "output_type": "stream",
     "text": [
      "/home/hanliu/miniconda3/envs/clustering/lib/python3.7/site-packages/ALLCools/dmr/fimo.py:60: FutureWarning: to_msgpack is deprecated and will be removed in a future version.\n",
      "It is recommended to use pyarrow for on-the-wire transmission of pandas objects.\n",
      "  final_df.to_msgpack(output_path, compress='zlib')\n"
     ]
    },
    {
     "name": "stderr",
     "output_type": "stream",
     "text": [
      "/home/hanliu/miniconda3/envs/clustering/lib/python3.7/site-packages/ALLCools/dmr/fimo.py:60: FutureWarning: to_msgpack is deprecated and will be removed in a future version.\n",
      "It is recommended to use pyarrow for on-the-wire transmission of pandas objects.\n",
      "  final_df.to_msgpack(output_path, compress='zlib')\n"
     ]
    },
    {
     "name": "stdout",
     "output_type": "stream",
     "text": [
      "/home/hanliu/project/mouse_rostral_brain/DMR/SubType/raw/SubType-chr13/MotifScan.h5adtemp/MA0162.4.meme, N motif total=192422\n"
     ]
    },
    {
     "name": "stderr",
     "output_type": "stream",
     "text": [
      "/home/hanliu/miniconda3/envs/clustering/lib/python3.7/site-packages/ALLCools/dmr/fimo.py:60: FutureWarning: to_msgpack is deprecated and will be removed in a future version.\n",
      "It is recommended to use pyarrow for on-the-wire transmission of pandas objects.\n",
      "  final_df.to_msgpack(output_path, compress='zlib')\n"
     ]
    },
    {
     "name": "stdout",
     "output_type": "stream",
     "text": [
      "/home/hanliu/project/mouse_rostral_brain/DMR/SubType/raw/SubType-chr13/MotifScan.h5adtemp/MA0592.3.meme, N motif total=34762\n"
     ]
    },
    {
     "name": "stderr",
     "output_type": "stream",
     "text": [
      "/home/hanliu/miniconda3/envs/clustering/lib/python3.7/site-packages/ALLCools/dmr/fimo.py:60: FutureWarning: to_msgpack is deprecated and will be removed in a future version.\n",
      "It is recommended to use pyarrow for on-the-wire transmission of pandas objects.\n",
      "  final_df.to_msgpack(output_path, compress='zlib')\n"
     ]
    },
    {
     "name": "stdout",
     "output_type": "stream",
     "text": [
      "/home/hanliu/project/mouse_rostral_brain/DMR/SubType/raw/SubType-chr13/MotifScan.h5adtemp/MA0141.3.meme, N motif total=28743\n"
     ]
    },
    {
     "name": "stderr",
     "output_type": "stream",
     "text": [
      "/home/hanliu/miniconda3/envs/clustering/lib/python3.7/site-packages/ALLCools/dmr/fimo.py:60: FutureWarning: to_msgpack is deprecated and will be removed in a future version.\n",
      "It is recommended to use pyarrow for on-the-wire transmission of pandas objects.\n",
      "  final_df.to_msgpack(output_path, compress='zlib')\n"
     ]
    },
    {
     "name": "stdout",
     "output_type": "stream",
     "text": [
      "/home/hanliu/project/mouse_rostral_brain/DMR/SubType/raw/SubType-chr13/MotifScan.h5adtemp/MA0258.2.meme, N motif total=41632\n"
     ]
    },
    {
     "name": "stderr",
     "output_type": "stream",
     "text": [
      "/home/hanliu/miniconda3/envs/clustering/lib/python3.7/site-packages/ALLCools/dmr/fimo.py:60: FutureWarning: to_msgpack is deprecated and will be removed in a future version.\n",
      "It is recommended to use pyarrow for on-the-wire transmission of pandas objects.\n",
      "  final_df.to_msgpack(output_path, compress='zlib')\n"
     ]
    },
    {
     "name": "stdout",
     "output_type": "stream",
     "text": [
      "/home/hanliu/project/mouse_rostral_brain/DMR/SubType/raw/SubType-chr13/MotifScan.h5adtemp/MA0112.3.meme, N motif total=3832\n"
     ]
    },
    {
     "name": "stderr",
     "output_type": "stream",
     "text": [
      "/home/hanliu/miniconda3/envs/clustering/lib/python3.7/site-packages/ALLCools/dmr/fimo.py:60: FutureWarning: to_msgpack is deprecated and will be removed in a future version.\n",
      "It is recommended to use pyarrow for on-the-wire transmission of pandas objects.\n",
      "  final_df.to_msgpack(output_path, compress='zlib')\n"
     ]
    },
    {
     "name": "stdout",
     "output_type": "stream",
     "text": [
      "/home/hanliu/project/mouse_rostral_brain/DMR/SubType/raw/SubType-chr13/MotifScan.h5adtemp/MA0643.1.meme, N motif total=25791\n"
     ]
    },
    {
     "name": "stderr",
     "output_type": "stream",
     "text": [
      "/home/hanliu/miniconda3/envs/clustering/lib/python3.7/site-packages/ALLCools/dmr/fimo.py:60: FutureWarning: to_msgpack is deprecated and will be removed in a future version.\n",
      "It is recommended to use pyarrow for on-the-wire transmission of pandas objects.\n",
      "  final_df.to_msgpack(output_path, compress='zlib')\n"
     ]
    },
    {
     "name": "stdout",
     "output_type": "stream",
     "text": [
      "/home/hanliu/project/mouse_rostral_brain/DMR/SubType/raw/SubType-chr13/MotifScan.h5adtemp/MA0644.1.meme, N motif total=14970\n"
     ]
    },
    {
     "name": "stderr",
     "output_type": "stream",
     "text": [
      "/home/hanliu/miniconda3/envs/clustering/lib/python3.7/site-packages/ALLCools/dmr/fimo.py:60: FutureWarning: to_msgpack is deprecated and will be removed in a future version.\n",
      "It is recommended to use pyarrow for on-the-wire transmission of pandas objects.\n",
      "  final_df.to_msgpack(output_path, compress='zlib')\n"
     ]
    },
    {
     "name": "stdout",
     "output_type": "stream",
     "text": [
      "/home/hanliu/project/mouse_rostral_brain/DMR/SubType/raw/SubType-chr13/MotifScan.h5adtemp/MA0098.3.meme, N motif total=14322\n"
     ]
    },
    {
     "name": "stderr",
     "output_type": "stream",
     "text": [
      "/home/hanliu/miniconda3/envs/clustering/lib/python3.7/site-packages/ALLCools/dmr/fimo.py:60: FutureWarning: to_msgpack is deprecated and will be removed in a future version.\n",
      "It is recommended to use pyarrow for on-the-wire transmission of pandas objects.\n",
      "  final_df.to_msgpack(output_path, compress='zlib')\n"
     ]
    },
    {
     "name": "stdout",
     "output_type": "stream",
     "text": [
      "/home/hanliu/project/mouse_rostral_brain/DMR/SubType/raw/SubType-chr13/MotifScan.h5adtemp/MA1484.1.meme, N motif total=13661\n"
     ]
    },
    {
     "name": "stderr",
     "output_type": "stream",
     "text": [
      "/home/hanliu/miniconda3/envs/clustering/lib/python3.7/site-packages/ALLCools/dmr/fimo.py:60: FutureWarning: to_msgpack is deprecated and will be removed in a future version.\n",
      "It is recommended to use pyarrow for on-the-wire transmission of pandas objects.\n",
      "  final_df.to_msgpack(output_path, compress='zlib')\n"
     ]
    },
    {
     "name": "stdout",
     "output_type": "stream",
     "text": [
      "/home/hanliu/project/mouse_rostral_brain/DMR/SubType/raw/SubType-chr13/MotifScan.h5adtemp/MA0762.1.meme, N motif total=17800\n"
     ]
    },
    {
     "name": "stderr",
     "output_type": "stream",
     "text": [
      "/home/hanliu/miniconda3/envs/clustering/lib/python3.7/site-packages/ALLCools/dmr/fimo.py:60: FutureWarning: to_msgpack is deprecated and will be removed in a future version.\n",
      "It is recommended to use pyarrow for on-the-wire transmission of pandas objects.\n",
      "  final_df.to_msgpack(output_path, compress='zlib')\n"
     ]
    },
    {
     "name": "stdout",
     "output_type": "stream",
     "text": [
      "/home/hanliu/project/mouse_rostral_brain/DMR/SubType/raw/SubType-chr13/MotifScan.h5adtemp/MA0761.2.meme, N motif total=64127\n"
     ]
    },
    {
     "name": "stderr",
     "output_type": "stream",
     "text": [
      "/home/hanliu/miniconda3/envs/clustering/lib/python3.7/site-packages/ALLCools/dmr/fimo.py:60: FutureWarning: to_msgpack is deprecated and will be removed in a future version.\n",
      "It is recommended to use pyarrow for on-the-wire transmission of pandas objects.\n",
      "  final_df.to_msgpack(output_path, compress='zlib')\n"
     ]
    },
    {
     "name": "stdout",
     "output_type": "stream",
     "text": [
      "/home/hanliu/project/mouse_rostral_brain/DMR/SubType/raw/SubType-chr13/MotifScan.h5adtemp/MA0763.1.meme, N motif total=9193\n"
     ]
    },
    {
     "name": "stderr",
     "output_type": "stream",
     "text": [
      "/home/hanliu/miniconda3/envs/clustering/lib/python3.7/site-packages/ALLCools/dmr/fimo.py:60: FutureWarning: to_msgpack is deprecated and will be removed in a future version.\n",
      "It is recommended to use pyarrow for on-the-wire transmission of pandas objects.\n",
      "  final_df.to_msgpack(output_path, compress='zlib')\n"
     ]
    },
    {
     "name": "stdout",
     "output_type": "stream",
     "text": [
      "/home/hanliu/project/mouse_rostral_brain/DMR/SubType/raw/SubType-chr13/MotifScan.h5adtemp/MA0888.1.meme, N motif total=11902\n"
     ]
    },
    {
     "name": "stderr",
     "output_type": "stream",
     "text": [
      "/home/hanliu/miniconda3/envs/clustering/lib/python3.7/site-packages/ALLCools/dmr/fimo.py:60: FutureWarning: to_msgpack is deprecated and will be removed in a future version.\n",
      "It is recommended to use pyarrow for on-the-wire transmission of pandas objects.\n",
      "  final_df.to_msgpack(output_path, compress='zlib')\n"
     ]
    },
    {
     "name": "stdout",
     "output_type": "stream",
     "text": [
      "/home/hanliu/project/mouse_rostral_brain/DMR/SubType/raw/SubType-chr13/MotifScan.h5adtemp/MA0765.2.meme, N motif total=18688\n"
     ]
    },
    {
     "name": "stderr",
     "output_type": "stream",
     "text": [
      "/home/hanliu/miniconda3/envs/clustering/lib/python3.7/site-packages/ALLCools/dmr/fimo.py:60: FutureWarning: to_msgpack is deprecated and will be removed in a future version.\n",
      "It is recommended to use pyarrow for on-the-wire transmission of pandas objects.\n",
      "  final_df.to_msgpack(output_path, compress='zlib')\n"
     ]
    },
    {
     "name": "stdout",
     "output_type": "stream",
     "text": [
      "/home/hanliu/project/mouse_rostral_brain/DMR/SubType/raw/SubType-chr13/MotifScan.h5adtemp/MA0645.1.meme, N motif total=19234\n"
     ]
    },
    {
     "name": "stderr",
     "output_type": "stream",
     "text": [
      "/home/hanliu/miniconda3/envs/clustering/lib/python3.7/site-packages/ALLCools/dmr/fimo.py:60: FutureWarning: to_msgpack is deprecated and will be removed in a future version.\n",
      "It is recommended to use pyarrow for on-the-wire transmission of pandas objects.\n",
      "  final_df.to_msgpack(output_path, compress='zlib')\n"
     ]
    },
    {
     "name": "stdout",
     "output_type": "stream",
     "text": [
      "/home/hanliu/project/mouse_rostral_brain/DMR/SubType/raw/SubType-chr13/MotifScan.h5adtemp/MA0764.2.meme, N motif total=90117\n"
     ]
    },
    {
     "name": "stderr",
     "output_type": "stream",
     "text": [
      "/home/hanliu/miniconda3/envs/clustering/lib/python3.7/site-packages/ALLCools/dmr/fimo.py:60: FutureWarning: to_msgpack is deprecated and will be removed in a future version.\n",
      "It is recommended to use pyarrow for on-the-wire transmission of pandas objects.\n",
      "  final_df.to_msgpack(output_path, compress='zlib')\n"
     ]
    },
    {
     "name": "stdout",
     "output_type": "stream",
     "text": [
      "/home/hanliu/project/mouse_rostral_brain/DMR/SubType/raw/SubType-chr13/MotifScan.h5adtemp/MA0887.1.meme, N motif total=11748\n"
     ]
    },
    {
     "name": "stderr",
     "output_type": "stream",
     "text": [
      "/home/hanliu/miniconda3/envs/clustering/lib/python3.7/site-packages/ALLCools/dmr/fimo.py:60: FutureWarning: to_msgpack is deprecated and will be removed in a future version.\n",
      "It is recommended to use pyarrow for on-the-wire transmission of pandas objects.\n",
      "  final_df.to_msgpack(output_path, compress='zlib')\n"
     ]
    },
    {
     "name": "stdout",
     "output_type": "stream",
     "text": [
      "/home/hanliu/project/mouse_rostral_brain/DMR/SubType/raw/SubType-chr13/MotifScan.h5adtemp/MA0156.2.meme, N motif total=9078\n"
     ]
    },
    {
     "name": "stderr",
     "output_type": "stream",
     "text": [
      "/home/hanliu/miniconda3/envs/clustering/lib/python3.7/site-packages/ALLCools/dmr/fimo.py:60: FutureWarning: to_msgpack is deprecated and will be removed in a future version.\n",
      "It is recommended to use pyarrow for on-the-wire transmission of pandas objects.\n",
      "  final_df.to_msgpack(output_path, compress='zlib')\n"
     ]
    },
    {
     "name": "stdout",
     "output_type": "stream",
     "text": [
      "/home/hanliu/project/mouse_rostral_brain/DMR/SubType/raw/SubType-chr13/MotifScan.h5adtemp/MA0475.2.meme, N motif total=11474\n"
     ]
    },
    {
     "name": "stderr",
     "output_type": "stream",
     "text": [
      "/home/hanliu/miniconda3/envs/clustering/lib/python3.7/site-packages/ALLCools/dmr/fimo.py:60: FutureWarning: to_msgpack is deprecated and will be removed in a future version.\n",
      "It is recommended to use pyarrow for on-the-wire transmission of pandas objects.\n",
      "  final_df.to_msgpack(output_path, compress='zlib')\n"
     ]
    },
    {
     "name": "stdout",
     "output_type": "stream",
     "text": [
      "/home/hanliu/project/mouse_rostral_brain/DMR/SubType/raw/SubType-chr13/MotifScan.h5adtemp/MA0099.3.meme, N motif total=27207\n"
     ]
    },
    {
     "name": "stderr",
     "output_type": "stream",
     "text": [
      "/home/hanliu/miniconda3/envs/clustering/lib/python3.7/site-packages/ALLCools/dmr/fimo.py:60: FutureWarning: to_msgpack is deprecated and will be removed in a future version.\n",
      "It is recommended to use pyarrow for on-the-wire transmission of pandas objects.\n",
      "  final_df.to_msgpack(output_path, compress='zlib')\n"
     ]
    },
    {
     "name": "stdout",
     "output_type": "stream",
     "text": [
      "/home/hanliu/project/mouse_rostral_brain/DMR/SubType/raw/SubType-chr13/MotifScan.h5adtemp/MA0476.1.meme, N motif total=32600\n"
     ]
    },
    {
     "name": "stderr",
     "output_type": "stream",
     "text": [
      "/home/hanliu/miniconda3/envs/clustering/lib/python3.7/site-packages/ALLCools/dmr/fimo.py:60: FutureWarning: to_msgpack is deprecated and will be removed in a future version.\n",
      "It is recommended to use pyarrow for on-the-wire transmission of pandas objects.\n",
      "  final_df.to_msgpack(output_path, compress='zlib')\n"
     ]
    },
    {
     "name": "stdout",
     "output_type": "stream",
     "text": [
      "/home/hanliu/project/mouse_rostral_brain/DMR/SubType/raw/SubType-chr13/MotifScan.h5adtemp/MA1127.1.meme, N motif total=14610\n"
     ]
    },
    {
     "name": "stderr",
     "output_type": "stream",
     "text": [
      "/home/hanliu/miniconda3/envs/clustering/lib/python3.7/site-packages/ALLCools/dmr/fimo.py:60: FutureWarning: to_msgpack is deprecated and will be removed in a future version.\n",
      "It is recommended to use pyarrow for on-the-wire transmission of pandas objects.\n",
      "  final_df.to_msgpack(output_path, compress='zlib')\n"
     ]
    },
    {
     "name": "stdout",
     "output_type": "stream",
     "text": [
      "/home/hanliu/project/mouse_rostral_brain/DMR/SubType/raw/SubType-chr13/MotifScan.h5adtemp/MA0820.1.meme, N motif total=36536\n"
     ]
    },
    {
     "name": "stderr",
     "output_type": "stream",
     "text": [
      "/home/hanliu/miniconda3/envs/clustering/lib/python3.7/site-packages/ALLCools/dmr/fimo.py:60: FutureWarning: to_msgpack is deprecated and will be removed in a future version.\n",
      "It is recommended to use pyarrow for on-the-wire transmission of pandas objects.\n",
      "  final_df.to_msgpack(output_path, compress='zlib')\n"
     ]
    },
    {
     "name": "stdout",
     "output_type": "stream",
     "text": [
      "/home/hanliu/project/mouse_rostral_brain/DMR/SubType/raw/SubType-chr13/MotifScan.h5adtemp/MA1129.1.meme, N motif total=13199\n"
     ]
    },
    {
     "name": "stderr",
     "output_type": "stream",
     "text": [
      "/home/hanliu/miniconda3/envs/clustering/lib/python3.7/site-packages/ALLCools/dmr/fimo.py:60: FutureWarning: to_msgpack is deprecated and will be removed in a future version.\n",
      "It is recommended to use pyarrow for on-the-wire transmission of pandas objects.\n",
      "  final_df.to_msgpack(output_path, compress='zlib')\n"
     ]
    },
    {
     "name": "stdout",
     "output_type": "stream",
     "text": [
      "/home/hanliu/project/mouse_rostral_brain/DMR/SubType/raw/SubType-chr13/MotifScan.h5adtemp/MA1485.1.meme, N motif total=33525\n"
     ]
    },
    {
     "name": "stderr",
     "output_type": "stream",
     "text": [
      "/home/hanliu/miniconda3/envs/clustering/lib/python3.7/site-packages/ALLCools/dmr/fimo.py:60: FutureWarning: to_msgpack is deprecated and will be removed in a future version.\n",
      "It is recommended to use pyarrow for on-the-wire transmission of pandas objects.\n",
      "  final_df.to_msgpack(output_path, compress='zlib')\n"
     ]
    },
    {
     "name": "stdout",
     "output_type": "stream",
     "text": [
      "/home/hanliu/project/mouse_rostral_brain/DMR/SubType/raw/SubType-chr13/MotifScan.h5adtemp/MA1135.1.meme, N motif total=29109\n"
     ]
    },
    {
     "name": "stderr",
     "output_type": "stream",
     "text": [
      "/home/hanliu/miniconda3/envs/clustering/lib/python3.7/site-packages/ALLCools/dmr/fimo.py:60: FutureWarning: to_msgpack is deprecated and will be removed in a future version.\n",
      "It is recommended to use pyarrow for on-the-wire transmission of pandas objects.\n",
      "  final_df.to_msgpack(output_path, compress='zlib')\n"
     ]
    },
    {
     "name": "stdout",
     "output_type": "stream",
     "text": [
      "/home/hanliu/project/mouse_rostral_brain/DMR/SubType/raw/SubType-chr13/MotifScan.h5adtemp/MA1136.1.meme, N motif total=12740\n"
     ]
    },
    {
     "name": "stderr",
     "output_type": "stream",
     "text": [
      "/home/hanliu/miniconda3/envs/clustering/lib/python3.7/site-packages/ALLCools/dmr/fimo.py:60: FutureWarning: to_msgpack is deprecated and will be removed in a future version.\n",
      "It is recommended to use pyarrow for on-the-wire transmission of pandas objects.\n",
      "  final_df.to_msgpack(output_path, compress='zlib')\n"
     ]
    },
    {
     "name": "stdout",
     "output_type": "stream",
     "text": [
      "/home/hanliu/project/mouse_rostral_brain/DMR/SubType/raw/SubType-chr13/MotifScan.h5adtemp/MA1134.1.meme, N motif total=28516\n"
     ]
    },
    {
     "name": "stderr",
     "output_type": "stream",
     "text": [
      "/home/hanliu/miniconda3/envs/clustering/lib/python3.7/site-packages/ALLCools/dmr/fimo.py:60: FutureWarning: to_msgpack is deprecated and will be removed in a future version.\n",
      "It is recommended to use pyarrow for on-the-wire transmission of pandas objects.\n",
      "  final_df.to_msgpack(output_path, compress='zlib')\n"
     ]
    },
    {
     "name": "stdout",
     "output_type": "stream",
     "text": [
      "/home/hanliu/project/mouse_rostral_brain/DMR/SubType/raw/SubType-chr13/MotifScan.h5adtemp/MA1142.1.meme, N motif total=25080\n"
     ]
    },
    {
     "name": "stderr",
     "output_type": "stream",
     "text": [
      "/home/hanliu/miniconda3/envs/clustering/lib/python3.7/site-packages/ALLCools/dmr/fimo.py:60: FutureWarning: to_msgpack is deprecated and will be removed in a future version.\n",
      "It is recommended to use pyarrow for on-the-wire transmission of pandas objects.\n",
      "  final_df.to_msgpack(output_path, compress='zlib')\n"
     ]
    },
    {
     "name": "stdout",
     "output_type": "stream",
     "text": [
      "/home/hanliu/project/mouse_rostral_brain/DMR/SubType/raw/SubType-chr13/MotifScan.h5adtemp/MA0477.2.meme, N motif total=31715\n"
     ]
    },
    {
     "name": "stderr",
     "output_type": "stream",
     "text": [
      "/home/hanliu/miniconda3/envs/clustering/lib/python3.7/site-packages/ALLCools/dmr/fimo.py:60: FutureWarning: to_msgpack is deprecated and will be removed in a future version.\n",
      "It is recommended to use pyarrow for on-the-wire transmission of pandas objects.\n",
      "  final_df.to_msgpack(output_path, compress='zlib')\n"
     ]
    },
    {
     "name": "stdout",
     "output_type": "stream",
     "text": [
      "/home/hanliu/project/mouse_rostral_brain/DMR/SubType/raw/SubType-chr13/MotifScan.h5adtemp/MA1141.1.meme, N motif total=24306\n"
     ]
    },
    {
     "name": "stderr",
     "output_type": "stream",
     "text": [
      "/home/hanliu/miniconda3/envs/clustering/lib/python3.7/site-packages/ALLCools/dmr/fimo.py:60: FutureWarning: to_msgpack is deprecated and will be removed in a future version.\n",
      "It is recommended to use pyarrow for on-the-wire transmission of pandas objects.\n",
      "  final_df.to_msgpack(output_path, compress='zlib')\n"
     ]
    },
    {
     "name": "stdout",
     "output_type": "stream",
     "text": [
      "/home/hanliu/project/mouse_rostral_brain/DMR/SubType/raw/SubType-chr13/MotifScan.h5adtemp/MA1143.1.meme, N motif total=9593\n"
     ]
    },
    {
     "name": "stderr",
     "output_type": "stream",
     "text": [
      "/home/hanliu/miniconda3/envs/clustering/lib/python3.7/site-packages/ALLCools/dmr/fimo.py:60: FutureWarning: to_msgpack is deprecated and will be removed in a future version.\n",
      "It is recommended to use pyarrow for on-the-wire transmission of pandas objects.\n",
      "  final_df.to_msgpack(output_path, compress='zlib')\n"
     ]
    },
    {
     "name": "stdout",
     "output_type": "stream",
     "text": [
      "/home/hanliu/project/mouse_rostral_brain/DMR/SubType/raw/SubType-chr13/MotifScan.h5adtemp/MA1131.1.meme, N motif total=16856\n"
     ]
    },
    {
     "name": "stderr",
     "output_type": "stream",
     "text": [
      "/home/hanliu/miniconda3/envs/clustering/lib/python3.7/site-packages/ALLCools/dmr/fimo.py:60: FutureWarning: to_msgpack is deprecated and will be removed in a future version.\n",
      "It is recommended to use pyarrow for on-the-wire transmission of pandas objects.\n",
      "  final_df.to_msgpack(output_path, compress='zlib')\n"
     ]
    },
    {
     "name": "stdout",
     "output_type": "stream",
     "text": [
      "/home/hanliu/project/mouse_rostral_brain/DMR/SubType/raw/SubType-chr13/MotifScan.h5adtemp/MA1128.1.meme, N motif total=24104\n"
     ]
    },
    {
     "name": "stderr",
     "output_type": "stream",
     "text": [
      "/home/hanliu/miniconda3/envs/clustering/lib/python3.7/site-packages/ALLCools/dmr/fimo.py:60: FutureWarning: to_msgpack is deprecated and will be removed in a future version.\n",
      "It is recommended to use pyarrow for on-the-wire transmission of pandas objects.\n",
      "  final_df.to_msgpack(output_path, compress='zlib')\n"
     ]
    },
    {
     "name": "stdout",
     "output_type": "stream",
     "text": [
      "/home/hanliu/project/mouse_rostral_brain/DMR/SubType/raw/SubType-chr13/MotifScan.h5adtemp/MA1138.1.meme, N motif total=28624\n"
     ]
    },
    {
     "name": "stderr",
     "output_type": "stream",
     "text": [
      "/home/hanliu/miniconda3/envs/clustering/lib/python3.7/site-packages/ALLCools/dmr/fimo.py:60: FutureWarning: to_msgpack is deprecated and will be removed in a future version.\n",
      "It is recommended to use pyarrow for on-the-wire transmission of pandas objects.\n",
      "  final_df.to_msgpack(output_path, compress='zlib')\n"
     ]
    },
    {
     "name": "stdout",
     "output_type": "stream",
     "text": [
      "/home/hanliu/project/mouse_rostral_brain/DMR/SubType/raw/SubType-chr13/MotifScan.h5adtemp/MA1130.1.meme, N motif total=26428\n"
     ]
    },
    {
     "name": "stderr",
     "output_type": "stream",
     "text": [
      "/home/hanliu/miniconda3/envs/clustering/lib/python3.7/site-packages/ALLCools/dmr/fimo.py:60: FutureWarning: to_msgpack is deprecated and will be removed in a future version.\n",
      "It is recommended to use pyarrow for on-the-wire transmission of pandas objects.\n",
      "  final_df.to_msgpack(output_path, compress='zlib')\n"
     ]
    },
    {
     "name": "stdout",
     "output_type": "stream",
     "text": [
      "/home/hanliu/project/mouse_rostral_brain/DMR/SubType/raw/SubType-chr13/MotifScan.h5adtemp/MA1137.1.meme, N motif total=26777\n"
     ]
    },
    {
     "name": "stderr",
     "output_type": "stream",
     "text": [
      "/home/hanliu/miniconda3/envs/clustering/lib/python3.7/site-packages/ALLCools/dmr/fimo.py:60: FutureWarning: to_msgpack is deprecated and will be removed in a future version.\n",
      "It is recommended to use pyarrow for on-the-wire transmission of pandas objects.\n",
      "  final_df.to_msgpack(output_path, compress='zlib')\n"
     ]
    },
    {
     "name": "stdout",
     "output_type": "stream",
     "text": [
      "/home/hanliu/project/mouse_rostral_brain/DMR/SubType/raw/SubType-chr13/MotifScan.h5adtemp/MA0478.1.meme, N motif total=39425\n"
     ]
    },
    {
     "name": "stderr",
     "output_type": "stream",
     "text": [
      "/home/hanliu/miniconda3/envs/clustering/lib/python3.7/site-packages/ALLCools/dmr/fimo.py:60: FutureWarning: to_msgpack is deprecated and will be removed in a future version.\n",
      "It is recommended to use pyarrow for on-the-wire transmission of pandas objects.\n",
      "  final_df.to_msgpack(output_path, compress='zlib')\n"
     ]
    },
    {
     "name": "stdout",
     "output_type": "stream",
     "text": [
      "/home/hanliu/project/mouse_rostral_brain/DMR/SubType/raw/SubType-chr13/MotifScan.h5adtemp/MA1126.1.meme, N motif total=15168\n"
     ]
    },
    {
     "name": "stderr",
     "output_type": "stream",
     "text": [
      "/home/hanliu/miniconda3/envs/clustering/lib/python3.7/site-packages/ALLCools/dmr/fimo.py:60: FutureWarning: to_msgpack is deprecated and will be removed in a future version.\n",
      "It is recommended to use pyarrow for on-the-wire transmission of pandas objects.\n",
      "  final_df.to_msgpack(output_path, compress='zlib')\n"
     ]
    },
    {
     "name": "stdout",
     "output_type": "stream",
     "text": [
      "/home/hanliu/project/mouse_rostral_brain/DMR/SubType/raw/SubType-chr13/MotifScan.h5adtemp/MA1139.1.meme, N motif total=15039\n"
     ]
    },
    {
     "name": "stderr",
     "output_type": "stream",
     "text": [
      "/home/hanliu/miniconda3/envs/clustering/lib/python3.7/site-packages/ALLCools/dmr/fimo.py:60: FutureWarning: to_msgpack is deprecated and will be removed in a future version.\n",
      "It is recommended to use pyarrow for on-the-wire transmission of pandas objects.\n",
      "  final_df.to_msgpack(output_path, compress='zlib')\n"
     ]
    },
    {
     "name": "stdout",
     "output_type": "stream",
     "text": [
      "/home/hanliu/project/mouse_rostral_brain/DMR/SubType/raw/SubType-chr13/MotifScan.h5adtemp/MA1144.1.meme, N motif total=28911\n"
     ]
    },
    {
     "name": "stderr",
     "output_type": "stream",
     "text": [
      "/home/hanliu/miniconda3/envs/clustering/lib/python3.7/site-packages/ALLCools/dmr/fimo.py:60: FutureWarning: to_msgpack is deprecated and will be removed in a future version.\n",
      "It is recommended to use pyarrow for on-the-wire transmission of pandas objects.\n",
      "  final_df.to_msgpack(output_path, compress='zlib')\n"
     ]
    },
    {
     "name": "stdout",
     "output_type": "stream",
     "text": [
      "/home/hanliu/project/mouse_rostral_brain/DMR/SubType/raw/SubType-chr13/MotifScan.h5adtemp/MA0149.1.meme, N motif total=26075\n"
     ]
    },
    {
     "name": "stderr",
     "output_type": "stream",
     "text": [
      "/home/hanliu/miniconda3/envs/clustering/lib/python3.7/site-packages/ALLCools/dmr/fimo.py:60: FutureWarning: to_msgpack is deprecated and will be removed in a future version.\n",
      "It is recommended to use pyarrow for on-the-wire transmission of pandas objects.\n",
      "  final_df.to_msgpack(output_path, compress='zlib')\n"
     ]
    },
    {
     "name": "stdout",
     "output_type": "stream",
     "text": [
      "/home/hanliu/project/mouse_rostral_brain/DMR/SubType/raw/SubType-chr13/MotifScan.h5adtemp/MA0047.3.meme, N motif total=32486\n"
     ]
    },
    {
     "name": "stderr",
     "output_type": "stream",
     "text": [
      "/home/hanliu/miniconda3/envs/clustering/lib/python3.7/site-packages/ALLCools/dmr/fimo.py:60: FutureWarning: to_msgpack is deprecated and will be removed in a future version.\n",
      "It is recommended to use pyarrow for on-the-wire transmission of pandas objects.\n",
      "  final_df.to_msgpack(output_path, compress='zlib')\n"
     ]
    },
    {
     "name": "stdout",
     "output_type": "stream",
     "text": [
      "/home/hanliu/project/mouse_rostral_brain/DMR/SubType/raw/SubType-chr13/MotifScan.h5adtemp/MA0148.4.meme, N motif total=32769\n"
     ]
    },
    {
     "name": "stderr",
     "output_type": "stream",
     "text": [
      "/home/hanliu/miniconda3/envs/clustering/lib/python3.7/site-packages/ALLCools/dmr/fimo.py:60: FutureWarning: to_msgpack is deprecated and will be removed in a future version.\n",
      "It is recommended to use pyarrow for on-the-wire transmission of pandas objects.\n",
      "  final_df.to_msgpack(output_path, compress='zlib')\n"
     ]
    },
    {
     "name": "stdout",
     "output_type": "stream",
     "text": [
      "/home/hanliu/project/mouse_rostral_brain/DMR/SubType/raw/SubType-chr13/MotifScan.h5adtemp/MA0845.1.meme, N motif total=48970\n"
     ]
    },
    {
     "name": "stderr",
     "output_type": "stream",
     "text": [
      "/home/hanliu/miniconda3/envs/clustering/lib/python3.7/site-packages/ALLCools/dmr/fimo.py:60: FutureWarning: to_msgpack is deprecated and will be removed in a future version.\n",
      "It is recommended to use pyarrow for on-the-wire transmission of pandas objects.\n",
      "  final_df.to_msgpack(output_path, compress='zlib')\n"
     ]
    },
    {
     "name": "stdout",
     "output_type": "stream",
     "text": [
      "/home/hanliu/project/mouse_rostral_brain/DMR/SubType/raw/SubType-chr13/MotifScan.h5adtemp/MA1145.1.meme, N motif total=15355\n"
     ]
    },
    {
     "name": "stderr",
     "output_type": "stream",
     "text": [
      "/home/hanliu/miniconda3/envs/clustering/lib/python3.7/site-packages/ALLCools/dmr/fimo.py:60: FutureWarning: to_msgpack is deprecated and will be removed in a future version.\n",
      "It is recommended to use pyarrow for on-the-wire transmission of pandas objects.\n",
      "  final_df.to_msgpack(output_path, compress='zlib')\n"
     ]
    },
    {
     "name": "stdout",
     "output_type": "stream",
     "text": [
      "/home/hanliu/project/mouse_rostral_brain/DMR/SubType/raw/SubType-chr13/MotifScan.h5adtemp/MA1683.1.meme, N motif total=28332\n"
     ]
    },
    {
     "name": "stderr",
     "output_type": "stream",
     "text": [
      "/home/hanliu/miniconda3/envs/clustering/lib/python3.7/site-packages/ALLCools/dmr/fimo.py:60: FutureWarning: to_msgpack is deprecated and will be removed in a future version.\n",
      "It is recommended to use pyarrow for on-the-wire transmission of pandas objects.\n",
      "  final_df.to_msgpack(output_path, compress='zlib')\n"
     ]
    },
    {
     "name": "stdout",
     "output_type": "stream",
     "text": [
      "/home/hanliu/project/mouse_rostral_brain/DMR/SubType/raw/SubType-chr13/MotifScan.h5adtemp/MA0032.2.meme, N motif total=53506\n"
     ]
    },
    {
     "name": "stderr",
     "output_type": "stream",
     "text": [
      "/home/hanliu/miniconda3/envs/clustering/lib/python3.7/site-packages/ALLCools/dmr/fimo.py:60: FutureWarning: to_msgpack is deprecated and will be removed in a future version.\n",
      "It is recommended to use pyarrow for on-the-wire transmission of pandas objects.\n",
      "  final_df.to_msgpack(output_path, compress='zlib')\n"
     ]
    },
    {
     "name": "stdout",
     "output_type": "stream",
     "text": [
      "/home/hanliu/project/mouse_rostral_brain/DMR/SubType/raw/SubType-chr13/MotifScan.h5adtemp/MA0031.1.meme, N motif total=18422\n"
     ]
    },
    {
     "name": "stderr",
     "output_type": "stream",
     "text": [
      "/home/hanliu/miniconda3/envs/clustering/lib/python3.7/site-packages/ALLCools/dmr/fimo.py:60: FutureWarning: to_msgpack is deprecated and will be removed in a future version.\n",
      "It is recommended to use pyarrow for on-the-wire transmission of pandas objects.\n",
      "  final_df.to_msgpack(output_path, compress='zlib')\n"
     ]
    },
    {
     "name": "stdout",
     "output_type": "stream",
     "text": [
      "/home/hanliu/project/mouse_rostral_brain/DMR/SubType/raw/SubType-chr13/MotifScan.h5adtemp/MA0846.1.meme, N motif total=69629\n"
     ]
    },
    {
     "name": "stderr",
     "output_type": "stream",
     "text": [
      "/home/hanliu/miniconda3/envs/clustering/lib/python3.7/site-packages/ALLCools/dmr/fimo.py:60: FutureWarning: to_msgpack is deprecated and will be removed in a future version.\n",
      "It is recommended to use pyarrow for on-the-wire transmission of pandas objects.\n",
      "  final_df.to_msgpack(output_path, compress='zlib')\n"
     ]
    },
    {
     "name": "stdout",
     "output_type": "stream",
     "text": [
      "/home/hanliu/project/mouse_rostral_brain/DMR/SubType/raw/SubType-chr13/MotifScan.h5adtemp/MA0042.2.meme, N motif total=18463\n"
     ]
    },
    {
     "name": "stderr",
     "output_type": "stream",
     "text": [
      "/home/hanliu/miniconda3/envs/clustering/lib/python3.7/site-packages/ALLCools/dmr/fimo.py:60: FutureWarning: to_msgpack is deprecated and will be removed in a future version.\n",
      "It is recommended to use pyarrow for on-the-wire transmission of pandas objects.\n",
      "  final_df.to_msgpack(output_path, compress='zlib')\n"
     ]
    },
    {
     "name": "stdout",
     "output_type": "stream",
     "text": [
      "/home/hanliu/project/mouse_rostral_brain/DMR/SubType/raw/SubType-chr13/MotifScan.h5adtemp/MA0613.1.meme, N motif total=25607\n"
     ]
    },
    {
     "name": "stderr",
     "output_type": "stream",
     "text": [
      "/home/hanliu/miniconda3/envs/clustering/lib/python3.7/site-packages/ALLCools/dmr/fimo.py:60: FutureWarning: to_msgpack is deprecated and will be removed in a future version.\n",
      "It is recommended to use pyarrow for on-the-wire transmission of pandas objects.\n",
      "  final_df.to_msgpack(output_path, compress='zlib')\n"
     ]
    },
    {
     "name": "stdout",
     "output_type": "stream",
     "text": [
      "/home/hanliu/project/mouse_rostral_brain/DMR/SubType/raw/SubType-chr13/MotifScan.h5adtemp/MA1489.1.meme, N motif total=5264\n"
     ]
    },
    {
     "name": "stderr",
     "output_type": "stream",
     "text": [
      "/home/hanliu/miniconda3/envs/clustering/lib/python3.7/site-packages/ALLCools/dmr/fimo.py:60: FutureWarning: to_msgpack is deprecated and will be removed in a future version.\n",
      "It is recommended to use pyarrow for on-the-wire transmission of pandas objects.\n",
      "  final_df.to_msgpack(output_path, compress='zlib')\n"
     ]
    },
    {
     "name": "stdout",
     "output_type": "stream",
     "text": [
      "/home/hanliu/project/mouse_rostral_brain/DMR/SubType/raw/SubType-chr13/MotifScan.h5adtemp/MA0847.2.meme, N motif total=50517\n"
     ]
    },
    {
     "name": "stderr",
     "output_type": "stream",
     "text": [
      "/home/hanliu/miniconda3/envs/clustering/lib/python3.7/site-packages/ALLCools/dmr/fimo.py:60: FutureWarning: to_msgpack is deprecated and will be removed in a future version.\n",
      "It is recommended to use pyarrow for on-the-wire transmission of pandas objects.\n",
      "  final_df.to_msgpack(output_path, compress='zlib')\n"
     ]
    },
    {
     "name": "stdout",
     "output_type": "stream",
     "text": [
      "/home/hanliu/project/mouse_rostral_brain/DMR/SubType/raw/SubType-chr13/MotifScan.h5adtemp/MA0614.1.meme, N motif total=24857\n"
     ]
    },
    {
     "name": "stderr",
     "output_type": "stream",
     "text": [
      "/home/hanliu/miniconda3/envs/clustering/lib/python3.7/site-packages/ALLCools/dmr/fimo.py:60: FutureWarning: to_msgpack is deprecated and will be removed in a future version.\n",
      "It is recommended to use pyarrow for on-the-wire transmission of pandas objects.\n",
      "  final_df.to_msgpack(output_path, compress='zlib')\n"
     ]
    },
    {
     "name": "stdout",
     "output_type": "stream",
     "text": [
      "/home/hanliu/project/mouse_rostral_brain/DMR/SubType/raw/SubType-chr13/MotifScan.h5adtemp/MA0041.1.meme, N motif total=88765\n"
     ]
    },
    {
     "name": "stderr",
     "output_type": "stream",
     "text": [
      "/home/hanliu/miniconda3/envs/clustering/lib/python3.7/site-packages/ALLCools/dmr/fimo.py:60: FutureWarning: to_msgpack is deprecated and will be removed in a future version.\n",
      "It is recommended to use pyarrow for on-the-wire transmission of pandas objects.\n",
      "  final_df.to_msgpack(output_path, compress='zlib')\n"
     ]
    },
    {
     "name": "stdout",
     "output_type": "stream",
     "text": [
      "/home/hanliu/project/mouse_rostral_brain/DMR/SubType/raw/SubType-chr13/MotifScan.h5adtemp/MA0033.2.meme, N motif total=18463\n"
     ]
    },
    {
     "name": "stderr",
     "output_type": "stream",
     "text": [
      "/home/hanliu/miniconda3/envs/clustering/lib/python3.7/site-packages/ALLCools/dmr/fimo.py:60: FutureWarning: to_msgpack is deprecated and will be removed in a future version.\n",
      "It is recommended to use pyarrow for on-the-wire transmission of pandas objects.\n",
      "  final_df.to_msgpack(output_path, compress='zlib')\n"
     ]
    },
    {
     "name": "stdout",
     "output_type": "stream",
     "text": [
      "/home/hanliu/project/mouse_rostral_brain/DMR/SubType/raw/SubType-chr13/MotifScan.h5adtemp/MA0479.1.meme, N motif total=27641\n"
     ]
    },
    {
     "name": "stderr",
     "output_type": "stream",
     "text": [
      "/home/hanliu/miniconda3/envs/clustering/lib/python3.7/site-packages/ALLCools/dmr/fimo.py:60: FutureWarning: to_msgpack is deprecated and will be removed in a future version.\n",
      "It is recommended to use pyarrow for on-the-wire transmission of pandas objects.\n",
      "  final_df.to_msgpack(output_path, compress='zlib')\n"
     ]
    },
    {
     "name": "stdout",
     "output_type": "stream",
     "text": [
      "/home/hanliu/project/mouse_rostral_brain/DMR/SubType/raw/SubType-chr13/MotifScan.h5adtemp/MA0850.1.meme, N motif total=18463\n"
     ]
    },
    {
     "name": "stderr",
     "output_type": "stream",
     "text": [
      "/home/hanliu/miniconda3/envs/clustering/lib/python3.7/site-packages/ALLCools/dmr/fimo.py:60: FutureWarning: to_msgpack is deprecated and will be removed in a future version.\n",
      "It is recommended to use pyarrow for on-the-wire transmission of pandas objects.\n",
      "  final_df.to_msgpack(output_path, compress='zlib')\n"
     ]
    },
    {
     "name": "stdout",
     "output_type": "stream",
     "text": [
      "/home/hanliu/project/mouse_rostral_brain/DMR/SubType/raw/SubType-chr13/MotifScan.h5adtemp/MA1606.1.meme, N motif total=33690\n"
     ]
    },
    {
     "name": "stderr",
     "output_type": "stream",
     "text": [
      "/home/hanliu/miniconda3/envs/clustering/lib/python3.7/site-packages/ALLCools/dmr/fimo.py:60: FutureWarning: to_msgpack is deprecated and will be removed in a future version.\n",
      "It is recommended to use pyarrow for on-the-wire transmission of pandas objects.\n",
      "  final_df.to_msgpack(output_path, compress='zlib')\n"
     ]
    },
    {
     "name": "stdout",
     "output_type": "stream",
     "text": [
      "/home/hanliu/project/mouse_rostral_brain/DMR/SubType/raw/SubType-chr13/MotifScan.h5adtemp/MA0848.1.meme, N motif total=18463\n"
     ]
    },
    {
     "name": "stderr",
     "output_type": "stream",
     "text": [
      "/home/hanliu/miniconda3/envs/clustering/lib/python3.7/site-packages/ALLCools/dmr/fimo.py:60: FutureWarning: to_msgpack is deprecated and will be removed in a future version.\n",
      "It is recommended to use pyarrow for on-the-wire transmission of pandas objects.\n",
      "  final_df.to_msgpack(output_path, compress='zlib')\n"
     ]
    },
    {
     "name": "stdout",
     "output_type": "stream",
     "text": [
      "/home/hanliu/project/mouse_rostral_brain/DMR/SubType/raw/SubType-chr13/MotifScan.h5adtemp/MA0849.1.meme, N motif total=18463\n"
     ]
    },
    {
     "name": "stderr",
     "output_type": "stream",
     "text": [
      "/home/hanliu/miniconda3/envs/clustering/lib/python3.7/site-packages/ALLCools/dmr/fimo.py:60: FutureWarning: to_msgpack is deprecated and will be removed in a future version.\n",
      "It is recommended to use pyarrow for on-the-wire transmission of pandas objects.\n",
      "  final_df.to_msgpack(output_path, compress='zlib')\n"
     ]
    },
    {
     "name": "stdout",
     "output_type": "stream",
     "text": [
      "/home/hanliu/project/mouse_rostral_brain/DMR/SubType/raw/SubType-chr13/MotifScan.h5adtemp/MA1487.1.meme, N motif total=46495\n"
     ]
    },
    {
     "name": "stderr",
     "output_type": "stream",
     "text": [
      "/home/hanliu/miniconda3/envs/clustering/lib/python3.7/site-packages/ALLCools/dmr/fimo.py:60: FutureWarning: to_msgpack is deprecated and will be removed in a future version.\n",
      "It is recommended to use pyarrow for on-the-wire transmission of pandas objects.\n",
      "  final_df.to_msgpack(output_path, compress='zlib')\n"
     ]
    },
    {
     "name": "stdout",
     "output_type": "stream",
     "text": [
      "/home/hanliu/project/mouse_rostral_brain/DMR/SubType/raw/SubType-chr13/MotifScan.h5adtemp/MA0030.1.meme, N motif total=25592\n"
     ]
    },
    {
     "name": "stderr",
     "output_type": "stream",
     "text": [
      "/home/hanliu/miniconda3/envs/clustering/lib/python3.7/site-packages/ALLCools/dmr/fimo.py:60: FutureWarning: to_msgpack is deprecated and will be removed in a future version.\n",
      "It is recommended to use pyarrow for on-the-wire transmission of pandas objects.\n",
      "  final_df.to_msgpack(output_path, compress='zlib')\n"
     ]
    },
    {
     "name": "stdout",
     "output_type": "stream",
     "text": [
      "/home/hanliu/project/mouse_rostral_brain/DMR/SubType/raw/SubType-chr13/MotifScan.h5adtemp/MA1103.2.meme, N motif total=29293\n"
     ]
    },
    {
     "name": "stderr",
     "output_type": "stream",
     "text": [
      "/home/hanliu/miniconda3/envs/clustering/lib/python3.7/site-packages/ALLCools/dmr/fimo.py:60: FutureWarning: to_msgpack is deprecated and will be removed in a future version.\n",
      "It is recommended to use pyarrow for on-the-wire transmission of pandas objects.\n",
      "  final_df.to_msgpack(output_path, compress='zlib')\n"
     ]
    },
    {
     "name": "stdout",
     "output_type": "stream",
     "text": [
      "/home/hanliu/project/mouse_rostral_brain/DMR/SubType/raw/SubType-chr13/MotifScan.h5adtemp/MA0157.2.meme, N motif total=21687\n"
     ]
    },
    {
     "name": "stderr",
     "output_type": "stream",
     "text": [
      "/home/hanliu/miniconda3/envs/clustering/lib/python3.7/site-packages/ALLCools/dmr/fimo.py:60: FutureWarning: to_msgpack is deprecated and will be removed in a future version.\n",
      "It is recommended to use pyarrow for on-the-wire transmission of pandas objects.\n",
      "  final_df.to_msgpack(output_path, compress='zlib')\n"
     ]
    },
    {
     "name": "stdout",
     "output_type": "stream",
     "text": [
      "/home/hanliu/project/mouse_rostral_brain/DMR/SubType/raw/SubType-chr13/MotifScan.h5adtemp/MA0037.3.meme, N motif total=16551\n"
     ]
    },
    {
     "name": "stderr",
     "output_type": "stream",
     "text": [
      "/home/hanliu/miniconda3/envs/clustering/lib/python3.7/site-packages/ALLCools/dmr/fimo.py:60: FutureWarning: to_msgpack is deprecated and will be removed in a future version.\n",
      "It is recommended to use pyarrow for on-the-wire transmission of pandas objects.\n",
      "  final_df.to_msgpack(output_path, compress='zlib')\n"
     ]
    },
    {
     "name": "stdout",
     "output_type": "stream",
     "text": [
      "/home/hanliu/project/mouse_rostral_brain/DMR/SubType/raw/SubType-chr13/MotifScan.h5adtemp/MA0480.1.meme, N motif total=44563\n"
     ]
    },
    {
     "name": "stderr",
     "output_type": "stream",
     "text": [
      "/home/hanliu/miniconda3/envs/clustering/lib/python3.7/site-packages/ALLCools/dmr/fimo.py:60: FutureWarning: to_msgpack is deprecated and will be removed in a future version.\n",
      "It is recommended to use pyarrow for on-the-wire transmission of pandas objects.\n",
      "  final_df.to_msgpack(output_path, compress='zlib')\n"
     ]
    },
    {
     "name": "stdout",
     "output_type": "stream",
     "text": [
      "/home/hanliu/project/mouse_rostral_brain/DMR/SubType/raw/SubType-chr13/MotifScan.h5adtemp/MA1607.1.meme, N motif total=38775\n"
     ]
    },
    {
     "name": "stderr",
     "output_type": "stream",
     "text": [
      "/home/hanliu/miniconda3/envs/clustering/lib/python3.7/site-packages/ALLCools/dmr/fimo.py:60: FutureWarning: to_msgpack is deprecated and will be removed in a future version.\n",
      "It is recommended to use pyarrow for on-the-wire transmission of pandas objects.\n",
      "  final_df.to_msgpack(output_path, compress='zlib')\n"
     ]
    },
    {
     "name": "stdout",
     "output_type": "stream",
     "text": [
      "/home/hanliu/project/mouse_rostral_brain/DMR/SubType/raw/SubType-chr13/MotifScan.h5adtemp/MA0040.1.meme, N motif total=32176\n"
     ]
    },
    {
     "name": "stderr",
     "output_type": "stream",
     "text": [
      "/home/hanliu/miniconda3/envs/clustering/lib/python3.7/site-packages/ALLCools/dmr/fimo.py:60: FutureWarning: to_msgpack is deprecated and will be removed in a future version.\n",
      "It is recommended to use pyarrow for on-the-wire transmission of pandas objects.\n",
      "  final_df.to_msgpack(output_path, compress='zlib')\n"
     ]
    },
    {
     "name": "stdout",
     "output_type": "stream",
     "text": [
      "/home/hanliu/project/mouse_rostral_brain/DMR/SubType/raw/SubType-chr13/MotifScan.h5adtemp/MA0852.2.meme, N motif total=29924\n"
     ]
    },
    {
     "name": "stderr",
     "output_type": "stream",
     "text": [
      "/home/hanliu/miniconda3/envs/clustering/lib/python3.7/site-packages/ALLCools/dmr/fimo.py:60: FutureWarning: to_msgpack is deprecated and will be removed in a future version.\n",
      "It is recommended to use pyarrow for on-the-wire transmission of pandas objects.\n",
      "  final_df.to_msgpack(output_path, compress='zlib')\n"
     ]
    },
    {
     "name": "stdout",
     "output_type": "stream",
     "text": [
      "/home/hanliu/project/mouse_rostral_brain/DMR/SubType/raw/SubType-chr13/MotifScan.h5adtemp/MA0481.3.meme, N motif total=32206\n"
     ]
    },
    {
     "name": "stderr",
     "output_type": "stream",
     "text": [
      "/home/hanliu/miniconda3/envs/clustering/lib/python3.7/site-packages/ALLCools/dmr/fimo.py:60: FutureWarning: to_msgpack is deprecated and will be removed in a future version.\n",
      "It is recommended to use pyarrow for on-the-wire transmission of pandas objects.\n",
      "  final_df.to_msgpack(output_path, compress='zlib')\n"
     ]
    },
    {
     "name": "stdout",
     "output_type": "stream",
     "text": [
      "/home/hanliu/project/mouse_rostral_brain/DMR/SubType/raw/SubType-chr13/MotifScan.h5adtemp/MA0036.3.meme, N motif total=20885\n"
     ]
    },
    {
     "name": "stderr",
     "output_type": "stream",
     "text": [
      "/home/hanliu/miniconda3/envs/clustering/lib/python3.7/site-packages/ALLCools/dmr/fimo.py:60: FutureWarning: to_msgpack is deprecated and will be removed in a future version.\n",
      "It is recommended to use pyarrow for on-the-wire transmission of pandas objects.\n",
      "  final_df.to_msgpack(output_path, compress='zlib')\n"
     ]
    },
    {
     "name": "stdout",
     "output_type": "stream",
     "text": [
      "/home/hanliu/project/mouse_rostral_brain/DMR/SubType/raw/SubType-chr13/MotifScan.h5adtemp/MA0035.4.meme, N motif total=17789\n"
     ]
    },
    {
     "name": "stderr",
     "output_type": "stream",
     "text": [
      "/home/hanliu/miniconda3/envs/clustering/lib/python3.7/site-packages/ALLCools/dmr/fimo.py:60: FutureWarning: to_msgpack is deprecated and will be removed in a future version.\n",
      "It is recommended to use pyarrow for on-the-wire transmission of pandas objects.\n",
      "  final_df.to_msgpack(output_path, compress='zlib')\n"
     ]
    },
    {
     "name": "stdout",
     "output_type": "stream",
     "text": [
      "/home/hanliu/project/mouse_rostral_brain/DMR/SubType/raw/SubType-chr13/MotifScan.h5adtemp/MA0593.1.meme, N motif total=44725\n"
     ]
    },
    {
     "name": "stderr",
     "output_type": "stream",
     "text": [
      "/home/hanliu/miniconda3/envs/clustering/lib/python3.7/site-packages/ALLCools/dmr/fimo.py:60: FutureWarning: to_msgpack is deprecated and will be removed in a future version.\n",
      "It is recommended to use pyarrow for on-the-wire transmission of pandas objects.\n",
      "  final_df.to_msgpack(output_path, compress='zlib')\n"
     ]
    },
    {
     "name": "stdout",
     "output_type": "stream",
     "text": [
      "/home/hanliu/project/mouse_rostral_brain/DMR/SubType/raw/SubType-chr13/MotifScan.h5adtemp/MA0766.2.meme, N motif total=16672\n"
     ]
    },
    {
     "name": "stderr",
     "output_type": "stream",
     "text": [
      "/home/hanliu/miniconda3/envs/clustering/lib/python3.7/site-packages/ALLCools/dmr/fimo.py:60: FutureWarning: to_msgpack is deprecated and will be removed in a future version.\n",
      "It is recommended to use pyarrow for on-the-wire transmission of pandas objects.\n",
      "  final_df.to_msgpack(output_path, compress='zlib')\n"
     ]
    },
    {
     "name": "stdout",
     "output_type": "stream",
     "text": [
      "/home/hanliu/project/mouse_rostral_brain/DMR/SubType/raw/SubType-chr13/MotifScan.h5adtemp/MA0482.2.meme, N motif total=25488\n"
     ]
    },
    {
     "name": "stderr",
     "output_type": "stream",
     "text": [
      "/home/hanliu/miniconda3/envs/clustering/lib/python3.7/site-packages/ALLCools/dmr/fimo.py:60: FutureWarning: to_msgpack is deprecated and will be removed in a future version.\n",
      "It is recommended to use pyarrow for on-the-wire transmission of pandas objects.\n",
      "  final_df.to_msgpack(output_path, compress='zlib')\n"
     ]
    },
    {
     "name": "stdout",
     "output_type": "stream",
     "text": [
      "/home/hanliu/project/mouse_rostral_brain/DMR/SubType/raw/SubType-chr13/MotifScan.h5adtemp/MA0851.1.meme, N motif total=52113\n"
     ]
    },
    {
     "name": "stderr",
     "output_type": "stream",
     "text": [
      "/home/hanliu/miniconda3/envs/clustering/lib/python3.7/site-packages/ALLCools/dmr/fimo.py:60: FutureWarning: to_msgpack is deprecated and will be removed in a future version.\n",
      "It is recommended to use pyarrow for on-the-wire transmission of pandas objects.\n",
      "  final_df.to_msgpack(output_path, compress='zlib')\n"
     ]
    },
    {
     "name": "stdout",
     "output_type": "stream",
     "text": [
      "/home/hanliu/project/mouse_rostral_brain/DMR/SubType/raw/SubType-chr13/MotifScan.h5adtemp/MA0062.3.meme, N motif total=62640\n"
     ]
    },
    {
     "name": "stderr",
     "output_type": "stream",
     "text": [
      "/home/hanliu/miniconda3/envs/clustering/lib/python3.7/site-packages/ALLCools/dmr/fimo.py:60: FutureWarning: to_msgpack is deprecated and will be removed in a future version.\n",
      "It is recommended to use pyarrow for on-the-wire transmission of pandas objects.\n",
      "  final_df.to_msgpack(output_path, compress='zlib')\n"
     ]
    },
    {
     "name": "stdout",
     "output_type": "stream",
     "text": [
      "/home/hanliu/project/mouse_rostral_brain/DMR/SubType/raw/SubType-chr13/MotifScan.h5adtemp/MA0890.1.meme, N motif total=13087\n"
     ]
    },
    {
     "name": "stderr",
     "output_type": "stream",
     "text": [
      "/home/hanliu/miniconda3/envs/clustering/lib/python3.7/site-packages/ALLCools/dmr/fimo.py:60: FutureWarning: to_msgpack is deprecated and will be removed in a future version.\n",
      "It is recommended to use pyarrow for on-the-wire transmission of pandas objects.\n",
      "  final_df.to_msgpack(output_path, compress='zlib')\n"
     ]
    },
    {
     "name": "stdout",
     "output_type": "stream",
     "text": [
      "/home/hanliu/project/mouse_rostral_brain/DMR/SubType/raw/SubType-chr13/MotifScan.h5adtemp/MA0889.1.meme, N motif total=12012\n"
     ]
    },
    {
     "name": "stderr",
     "output_type": "stream",
     "text": [
      "/home/hanliu/miniconda3/envs/clustering/lib/python3.7/site-packages/ALLCools/dmr/fimo.py:60: FutureWarning: to_msgpack is deprecated and will be removed in a future version.\n",
      "It is recommended to use pyarrow for on-the-wire transmission of pandas objects.\n",
      "  final_df.to_msgpack(output_path, compress='zlib')\n"
     ]
    },
    {
     "name": "stdout",
     "output_type": "stream",
     "text": [
      "/home/hanliu/project/mouse_rostral_brain/DMR/SubType/raw/SubType-chr13/MotifScan.h5adtemp/MA0140.2.meme, N motif total=21666\n"
     ]
    },
    {
     "name": "stderr",
     "output_type": "stream",
     "text": [
      "/home/hanliu/miniconda3/envs/clustering/lib/python3.7/site-packages/ALLCools/dmr/fimo.py:60: FutureWarning: to_msgpack is deprecated and will be removed in a future version.\n",
      "It is recommended to use pyarrow for on-the-wire transmission of pandas objects.\n",
      "  final_df.to_msgpack(output_path, compress='zlib')\n"
     ]
    },
    {
     "name": "stdout",
     "output_type": "stream",
     "text": [
      "/home/hanliu/project/mouse_rostral_brain/DMR/SubType/raw/SubType-chr13/MotifScan.h5adtemp/MA0646.1.meme, N motif total=15967\n"
     ]
    },
    {
     "name": "stderr",
     "output_type": "stream",
     "text": [
      "/home/hanliu/miniconda3/envs/clustering/lib/python3.7/site-packages/ALLCools/dmr/fimo.py:60: FutureWarning: to_msgpack is deprecated and will be removed in a future version.\n",
      "It is recommended to use pyarrow for on-the-wire transmission of pandas objects.\n",
      "  final_df.to_msgpack(output_path, compress='zlib')\n"
     ]
    },
    {
     "name": "stdout",
     "output_type": "stream",
     "text": [
      "/home/hanliu/project/mouse_rostral_brain/DMR/SubType/raw/SubType-chr13/MotifScan.h5adtemp/MA1104.2.meme, N motif total=24985\n"
     ]
    },
    {
     "name": "stderr",
     "output_type": "stream",
     "text": [
      "/home/hanliu/miniconda3/envs/clustering/lib/python3.7/site-packages/ALLCools/dmr/fimo.py:60: FutureWarning: to_msgpack is deprecated and will be removed in a future version.\n",
      "It is recommended to use pyarrow for on-the-wire transmission of pandas objects.\n",
      "  final_df.to_msgpack(output_path, compress='zlib')\n"
     ]
    },
    {
     "name": "stdout",
     "output_type": "stream",
     "text": [
      "/home/hanliu/project/mouse_rostral_brain/DMR/SubType/raw/SubType-chr13/MotifScan.h5adtemp/MA0767.1.meme, N motif total=12383\n"
     ]
    },
    {
     "name": "stderr",
     "output_type": "stream",
     "text": [
      "/home/hanliu/miniconda3/envs/clustering/lib/python3.7/site-packages/ALLCools/dmr/fimo.py:60: FutureWarning: to_msgpack is deprecated and will be removed in a future version.\n",
      "It is recommended to use pyarrow for on-the-wire transmission of pandas objects.\n",
      "  final_df.to_msgpack(output_path, compress='zlib')\n"
     ]
    },
    {
     "name": "stdout",
     "output_type": "stream",
     "text": [
      "/home/hanliu/project/mouse_rostral_brain/DMR/SubType/raw/SubType-chr13/MotifScan.h5adtemp/MA0483.1.meme, N motif total=41297\n"
     ]
    },
    {
     "name": "stderr",
     "output_type": "stream",
     "text": [
      "/home/hanliu/miniconda3/envs/clustering/lib/python3.7/site-packages/ALLCools/dmr/fimo.py:60: FutureWarning: to_msgpack is deprecated and will be removed in a future version.\n",
      "It is recommended to use pyarrow for on-the-wire transmission of pandas objects.\n",
      "  final_df.to_msgpack(output_path, compress='zlib')\n"
     ]
    },
    {
     "name": "stdout",
     "output_type": "stream",
     "text": [
      "/home/hanliu/project/mouse_rostral_brain/DMR/SubType/raw/SubType-chr13/MotifScan.h5adtemp/MA0038.2.meme, N motif total=25611\n"
     ]
    },
    {
     "name": "stderr",
     "output_type": "stream",
     "text": [
      "/home/hanliu/miniconda3/envs/clustering/lib/python3.7/site-packages/ALLCools/dmr/fimo.py:60: FutureWarning: to_msgpack is deprecated and will be removed in a future version.\n",
      "It is recommended to use pyarrow for on-the-wire transmission of pandas objects.\n",
      "  final_df.to_msgpack(output_path, compress='zlib')\n"
     ]
    },
    {
     "name": "stdout",
     "output_type": "stream",
     "text": [
      "/home/hanliu/project/mouse_rostral_brain/DMR/SubType/raw/SubType-chr13/MotifScan.h5adtemp/MA0734.2.meme, N motif total=32656\n"
     ]
    },
    {
     "name": "stderr",
     "output_type": "stream",
     "text": [
      "/home/hanliu/miniconda3/envs/clustering/lib/python3.7/site-packages/ALLCools/dmr/fimo.py:60: FutureWarning: to_msgpack is deprecated and will be removed in a future version.\n",
      "It is recommended to use pyarrow for on-the-wire transmission of pandas objects.\n",
      "  final_df.to_msgpack(output_path, compress='zlib')\n"
     ]
    },
    {
     "name": "stdout",
     "output_type": "stream",
     "text": [
      "/home/hanliu/project/mouse_rostral_brain/DMR/SubType/raw/SubType-chr13/MotifScan.h5adtemp/MA0862.1.meme, N motif total=2635\n"
     ]
    },
    {
     "name": "stderr",
     "output_type": "stream",
     "text": [
      "/home/hanliu/miniconda3/envs/clustering/lib/python3.7/site-packages/ALLCools/dmr/fimo.py:60: FutureWarning: to_msgpack is deprecated and will be removed in a future version.\n",
      "It is recommended to use pyarrow for on-the-wire transmission of pandas objects.\n",
      "  final_df.to_msgpack(output_path, compress='zlib')\n"
     ]
    },
    {
     "name": "stdout",
     "output_type": "stream",
     "text": [
      "/home/hanliu/project/mouse_rostral_brain/DMR/SubType/raw/SubType-chr13/MotifScan.h5adtemp/MA1491.1.meme, N motif total=37606\n"
     ]
    },
    {
     "name": "stderr",
     "output_type": "stream",
     "text": [
      "/home/hanliu/miniconda3/envs/clustering/lib/python3.7/site-packages/ALLCools/dmr/fimo.py:60: FutureWarning: to_msgpack is deprecated and will be removed in a future version.\n",
      "It is recommended to use pyarrow for on-the-wire transmission of pandas objects.\n",
      "  final_df.to_msgpack(output_path, compress='zlib')\n"
     ]
    },
    {
     "name": "stdout",
     "output_type": "stream",
     "text": [
      "/home/hanliu/project/mouse_rostral_brain/DMR/SubType/raw/SubType-chr13/MotifScan.h5adtemp/MA0648.1.meme, N motif total=11446\n"
     ]
    },
    {
     "name": "stderr",
     "output_type": "stream",
     "text": [
      "/home/hanliu/miniconda3/envs/clustering/lib/python3.7/site-packages/ALLCools/dmr/fimo.py:60: FutureWarning: to_msgpack is deprecated and will be removed in a future version.\n",
      "It is recommended to use pyarrow for on-the-wire transmission of pandas objects.\n",
      "  final_df.to_msgpack(output_path, compress='zlib')\n"
     ]
    },
    {
     "name": "stdout",
     "output_type": "stream",
     "text": [
      "/home/hanliu/project/mouse_rostral_brain/DMR/SubType/raw/SubType-chr13/MotifScan.h5adtemp/MA0735.1.meme, N motif total=106\n"
     ]
    },
    {
     "name": "stderr",
     "output_type": "stream",
     "text": [
      "/home/hanliu/miniconda3/envs/clustering/lib/python3.7/site-packages/ALLCools/dmr/fimo.py:60: FutureWarning: to_msgpack is deprecated and will be removed in a future version.\n",
      "It is recommended to use pyarrow for on-the-wire transmission of pandas objects.\n",
      "  final_df.to_msgpack(output_path, compress='zlib')\n"
     ]
    },
    {
     "name": "stdout",
     "output_type": "stream",
     "text": [
      "Finish count 200 motifs.\n"
     ]
    },
    {
     "name": "stdout",
     "output_type": "stream",
     "text": [
      "/home/hanliu/project/mouse_rostral_brain/DMR/SubType/raw/SubType-chr13/MotifScan.h5adtemp/MA0893.2.meme, N motif total=15101\n"
     ]
    },
    {
     "name": "stderr",
     "output_type": "stream",
     "text": [
      "/home/hanliu/miniconda3/envs/clustering/lib/python3.7/site-packages/ALLCools/dmr/fimo.py:60: FutureWarning: to_msgpack is deprecated and will be removed in a future version.\n",
      "It is recommended to use pyarrow for on-the-wire transmission of pandas objects.\n",
      "  final_df.to_msgpack(output_path, compress='zlib')\n"
     ]
    },
    {
     "name": "stdout",
     "output_type": "stream",
     "text": [
      "/home/hanliu/project/mouse_rostral_brain/DMR/SubType/raw/SubType-chr13/MotifScan.h5adtemp/MA0891.1.meme, N motif total=16962\n"
     ]
    },
    {
     "name": "stderr",
     "output_type": "stream",
     "text": [
      "/home/hanliu/miniconda3/envs/clustering/lib/python3.7/site-packages/ALLCools/dmr/fimo.py:60: FutureWarning: to_msgpack is deprecated and will be removed in a future version.\n",
      "It is recommended to use pyarrow for on-the-wire transmission of pandas objects.\n",
      "  final_df.to_msgpack(output_path, compress='zlib')\n"
     ]
    },
    {
     "name": "stdout",
     "output_type": "stream",
     "text": [
      "/home/hanliu/project/mouse_rostral_brain/DMR/SubType/raw/SubType-chr13/MotifScan.h5adtemp/MA0736.1.meme, N motif total=24211\n"
     ]
    },
    {
     "name": "stderr",
     "output_type": "stream",
     "text": [
      "/home/hanliu/miniconda3/envs/clustering/lib/python3.7/site-packages/ALLCools/dmr/fimo.py:60: FutureWarning: to_msgpack is deprecated and will be removed in a future version.\n",
      "It is recommended to use pyarrow for on-the-wire transmission of pandas objects.\n",
      "  final_df.to_msgpack(output_path, compress='zlib')\n"
     ]
    },
    {
     "name": "stdout",
     "output_type": "stream",
     "text": [
      "/home/hanliu/project/mouse_rostral_brain/DMR/SubType/raw/SubType-chr13/MotifScan.h5adtemp/MA0647.1.meme, N motif total=15779\n"
     ]
    },
    {
     "name": "stderr",
     "output_type": "stream",
     "text": [
      "/home/hanliu/miniconda3/envs/clustering/lib/python3.7/site-packages/ALLCools/dmr/fimo.py:60: FutureWarning: to_msgpack is deprecated and will be removed in a future version.\n",
      "It is recommended to use pyarrow for on-the-wire transmission of pandas objects.\n",
      "  final_df.to_msgpack(output_path, compress='zlib')\n"
     ]
    },
    {
     "name": "stdout",
     "output_type": "stream",
     "text": [
      "/home/hanliu/project/mouse_rostral_brain/DMR/SubType/raw/SubType-chr13/MotifScan.h5adtemp/MA1099.2.meme, N motif total=8601\n"
     ]
    },
    {
     "name": "stderr",
     "output_type": "stream",
     "text": [
      "/home/hanliu/miniconda3/envs/clustering/lib/python3.7/site-packages/ALLCools/dmr/fimo.py:60: FutureWarning: to_msgpack is deprecated and will be removed in a future version.\n",
      "It is recommended to use pyarrow for on-the-wire transmission of pandas objects.\n",
      "  final_df.to_msgpack(output_path, compress='zlib')\n"
     ]
    },
    {
     "name": "stdout",
     "output_type": "stream",
     "text": [
      "/home/hanliu/project/mouse_rostral_brain/DMR/SubType/raw/SubType-chr13/MotifScan.h5adtemp/MA1105.2.meme, N motif total=26541\n"
     ]
    },
    {
     "name": "stderr",
     "output_type": "stream",
     "text": [
      "/home/hanliu/miniconda3/envs/clustering/lib/python3.7/site-packages/ALLCools/dmr/fimo.py:60: FutureWarning: to_msgpack is deprecated and will be removed in a future version.\n",
      "It is recommended to use pyarrow for on-the-wire transmission of pandas objects.\n",
      "  final_df.to_msgpack(output_path, compress='zlib')\n"
     ]
    },
    {
     "name": "stdout",
     "output_type": "stream",
     "text": [
      "/home/hanliu/project/mouse_rostral_brain/DMR/SubType/raw/SubType-chr13/MotifScan.h5adtemp/MA0737.1.meme, N motif total=7028\n"
     ]
    },
    {
     "name": "stderr",
     "output_type": "stream",
     "text": [
      "/home/hanliu/miniconda3/envs/clustering/lib/python3.7/site-packages/ALLCools/dmr/fimo.py:60: FutureWarning: to_msgpack is deprecated and will be removed in a future version.\n",
      "It is recommended to use pyarrow for on-the-wire transmission of pandas objects.\n",
      "  final_df.to_msgpack(output_path, compress='zlib')\n"
     ]
    },
    {
     "name": "stdout",
     "output_type": "stream",
     "text": [
      "/home/hanliu/project/mouse_rostral_brain/DMR/SubType/raw/SubType-chr13/MotifScan.h5adtemp/MA0892.1.meme, N motif total=18093\n"
     ]
    },
    {
     "name": "stderr",
     "output_type": "stream",
     "text": [
      "/home/hanliu/miniconda3/envs/clustering/lib/python3.7/site-packages/ALLCools/dmr/fimo.py:60: FutureWarning: to_msgpack is deprecated and will be removed in a future version.\n",
      "It is recommended to use pyarrow for on-the-wire transmission of pandas objects.\n",
      "  final_df.to_msgpack(output_path, compress='zlib')\n"
     ]
    },
    {
     "name": "stdout",
     "output_type": "stream",
     "text": [
      "/home/hanliu/project/mouse_rostral_brain/DMR/SubType/raw/SubType-chr13/MotifScan.h5adtemp/MA0092.1.meme, N motif total=31781\n"
     ]
    },
    {
     "name": "stderr",
     "output_type": "stream",
     "text": [
      "/home/hanliu/miniconda3/envs/clustering/lib/python3.7/site-packages/ALLCools/dmr/fimo.py:60: FutureWarning: to_msgpack is deprecated and will be removed in a future version.\n",
      "It is recommended to use pyarrow for on-the-wire transmission of pandas objects.\n",
      "  final_df.to_msgpack(output_path, compress='zlib')\n"
     ]
    },
    {
     "name": "stdout",
     "output_type": "stream",
     "text": [
      "/home/hanliu/project/mouse_rostral_brain/DMR/SubType/raw/SubType-chr13/MotifScan.h5adtemp/MA1638.1.meme, N motif total=46875\n"
     ]
    },
    {
     "name": "stderr",
     "output_type": "stream",
     "text": [
      "/home/hanliu/miniconda3/envs/clustering/lib/python3.7/site-packages/ALLCools/dmr/fimo.py:60: FutureWarning: to_msgpack is deprecated and will be removed in a future version.\n",
      "It is recommended to use pyarrow for on-the-wire transmission of pandas objects.\n",
      "  final_df.to_msgpack(output_path, compress='zlib')\n"
     ]
    },
    {
     "name": "stdout",
     "output_type": "stream",
     "text": [
      "/home/hanliu/project/mouse_rostral_brain/DMR/SubType/raw/SubType-chr13/MotifScan.h5adtemp/MA0616.2.meme, N motif total=11683\n"
     ]
    },
    {
     "name": "stderr",
     "output_type": "stream",
     "text": [
      "/home/hanliu/miniconda3/envs/clustering/lib/python3.7/site-packages/ALLCools/dmr/fimo.py:60: FutureWarning: to_msgpack is deprecated and will be removed in a future version.\n",
      "It is recommended to use pyarrow for on-the-wire transmission of pandas objects.\n",
      "  final_df.to_msgpack(output_path, compress='zlib')\n"
     ]
    },
    {
     "name": "stdout",
     "output_type": "stream",
     "text": [
      "/home/hanliu/project/mouse_rostral_brain/DMR/SubType/raw/SubType-chr13/MotifScan.h5adtemp/MA1493.1.meme, N motif total=12915\n"
     ]
    },
    {
     "name": "stderr",
     "output_type": "stream",
     "text": [
      "/home/hanliu/miniconda3/envs/clustering/lib/python3.7/site-packages/ALLCools/dmr/fimo.py:60: FutureWarning: to_msgpack is deprecated and will be removed in a future version.\n",
      "It is recommended to use pyarrow for on-the-wire transmission of pandas objects.\n",
      "  final_df.to_msgpack(output_path, compress='zlib')\n"
     ]
    },
    {
     "name": "stdout",
     "output_type": "stream",
     "text": [
      "/home/hanliu/project/mouse_rostral_brain/DMR/SubType/raw/SubType-chr13/MotifScan.h5adtemp/MA0615.1.meme, N motif total=2597\n"
     ]
    },
    {
     "name": "stderr",
     "output_type": "stream",
     "text": [
      "/home/hanliu/miniconda3/envs/clustering/lib/python3.7/site-packages/ALLCools/dmr/fimo.py:60: FutureWarning: to_msgpack is deprecated and will be removed in a future version.\n",
      "It is recommended to use pyarrow for on-the-wire transmission of pandas objects.\n",
      "  final_df.to_msgpack(output_path, compress='zlib')\n"
     ]
    },
    {
     "name": "stdout",
     "output_type": "stream",
     "text": [
      "/home/hanliu/project/mouse_rostral_brain/DMR/SubType/raw/SubType-chr13/MotifScan.h5adtemp/MA0738.1.meme, N motif total=27485\n"
     ]
    },
    {
     "name": "stderr",
     "output_type": "stream",
     "text": [
      "/home/hanliu/miniconda3/envs/clustering/lib/python3.7/site-packages/ALLCools/dmr/fimo.py:60: FutureWarning: to_msgpack is deprecated and will be removed in a future version.\n",
      "It is recommended to use pyarrow for on-the-wire transmission of pandas objects.\n",
      "  final_df.to_msgpack(output_path, compress='zlib')\n"
     ]
    },
    {
     "name": "stdout",
     "output_type": "stream",
     "text": [
      "/home/hanliu/project/mouse_rostral_brain/DMR/SubType/raw/SubType-chr13/MotifScan.h5adtemp/MA0821.1.meme, N motif total=5564\n"
     ]
    },
    {
     "name": "stderr",
     "output_type": "stream",
     "text": [
      "/home/hanliu/miniconda3/envs/clustering/lib/python3.7/site-packages/ALLCools/dmr/fimo.py:60: FutureWarning: to_msgpack is deprecated and will be removed in a future version.\n",
      "It is recommended to use pyarrow for on-the-wire transmission of pandas objects.\n",
      "  final_df.to_msgpack(output_path, compress='zlib')\n"
     ]
    },
    {
     "name": "stdout",
     "output_type": "stream",
     "text": [
      "/home/hanliu/project/mouse_rostral_brain/DMR/SubType/raw/SubType-chr13/MotifScan.h5adtemp/MA0822.1.meme, N motif total=4298\n"
     ]
    },
    {
     "name": "stderr",
     "output_type": "stream",
     "text": [
      "/home/hanliu/miniconda3/envs/clustering/lib/python3.7/site-packages/ALLCools/dmr/fimo.py:60: FutureWarning: to_msgpack is deprecated and will be removed in a future version.\n",
      "It is recommended to use pyarrow for on-the-wire transmission of pandas objects.\n",
      "  final_df.to_msgpack(output_path, compress='zlib')\n"
     ]
    },
    {
     "name": "stdout",
     "output_type": "stream",
     "text": [
      "/home/hanliu/project/mouse_rostral_brain/DMR/SubType/raw/SubType-chr13/MotifScan.h5adtemp/MA0739.1.meme, N motif total=29817\n"
     ]
    },
    {
     "name": "stderr",
     "output_type": "stream",
     "text": [
      "/home/hanliu/miniconda3/envs/clustering/lib/python3.7/site-packages/ALLCools/dmr/fimo.py:60: FutureWarning: to_msgpack is deprecated and will be removed in a future version.\n",
      "It is recommended to use pyarrow for on-the-wire transmission of pandas objects.\n",
      "  final_df.to_msgpack(output_path, compress='zlib')\n"
     ]
    },
    {
     "name": "stdout",
     "output_type": "stream",
     "text": [
      "/home/hanliu/project/mouse_rostral_brain/DMR/SubType/raw/SubType-chr13/MotifScan.h5adtemp/MA0649.1.meme, N motif total=13486\n"
     ]
    },
    {
     "name": "stderr",
     "output_type": "stream",
     "text": [
      "/home/hanliu/miniconda3/envs/clustering/lib/python3.7/site-packages/ALLCools/dmr/fimo.py:60: FutureWarning: to_msgpack is deprecated and will be removed in a future version.\n",
      "It is recommended to use pyarrow for on-the-wire transmission of pandas objects.\n",
      "  final_df.to_msgpack(output_path, compress='zlib')\n"
     ]
    },
    {
     "name": "stdout",
     "output_type": "stream",
     "text": [
      "/home/hanliu/project/mouse_rostral_brain/DMR/SubType/raw/SubType-chr13/MotifScan.h5adtemp/MA0894.1.meme, N motif total=13743\n"
     ]
    },
    {
     "name": "stderr",
     "output_type": "stream",
     "text": [
      "/home/hanliu/miniconda3/envs/clustering/lib/python3.7/site-packages/ALLCools/dmr/fimo.py:60: FutureWarning: to_msgpack is deprecated and will be removed in a future version.\n",
      "It is recommended to use pyarrow for on-the-wire transmission of pandas objects.\n",
      "  final_df.to_msgpack(output_path, compress='zlib')\n"
     ]
    },
    {
     "name": "stdout",
     "output_type": "stream",
     "text": [
      "/home/hanliu/project/mouse_rostral_brain/DMR/SubType/raw/SubType-chr13/MotifScan.h5adtemp/MA0823.1.meme, N motif total=13740\n"
     ]
    },
    {
     "name": "stderr",
     "output_type": "stream",
     "text": [
      "/home/hanliu/miniconda3/envs/clustering/lib/python3.7/site-packages/ALLCools/dmr/fimo.py:60: FutureWarning: to_msgpack is deprecated and will be removed in a future version.\n",
      "It is recommended to use pyarrow for on-the-wire transmission of pandas objects.\n",
      "  final_df.to_msgpack(output_path, compress='zlib')\n"
     ]
    },
    {
     "name": "stdout",
     "output_type": "stream",
     "text": [
      "/home/hanliu/project/mouse_rostral_brain/DMR/SubType/raw/SubType-chr13/MotifScan.h5adtemp/MA0131.2.meme, N motif total=5368\n"
     ]
    },
    {
     "name": "stderr",
     "output_type": "stream",
     "text": [
      "/home/hanliu/miniconda3/envs/clustering/lib/python3.7/site-packages/ALLCools/dmr/fimo.py:60: FutureWarning: to_msgpack is deprecated and will be removed in a future version.\n",
      "It is recommended to use pyarrow for on-the-wire transmission of pandas objects.\n",
      "  final_df.to_msgpack(output_path, compress='zlib')\n"
     ]
    },
    {
     "name": "stdout",
     "output_type": "stream",
     "text": [
      "/home/hanliu/project/mouse_rostral_brain/DMR/SubType/raw/SubType-chr13/MotifScan.h5adtemp/MA1106.1.meme, N motif total=8141\n"
     ]
    },
    {
     "name": "stderr",
     "output_type": "stream",
     "text": [
      "/home/hanliu/miniconda3/envs/clustering/lib/python3.7/site-packages/ALLCools/dmr/fimo.py:60: FutureWarning: to_msgpack is deprecated and will be removed in a future version.\n",
      "It is recommended to use pyarrow for on-the-wire transmission of pandas objects.\n",
      "  final_df.to_msgpack(output_path, compress='zlib')\n"
     ]
    },
    {
     "name": "stdout",
     "output_type": "stream",
     "text": [
      "/home/hanliu/project/mouse_rostral_brain/DMR/SubType/raw/SubType-chr13/MotifScan.h5adtemp/MA0109.1.meme, N motif total=14511\n"
     ]
    },
    {
     "name": "stderr",
     "output_type": "stream",
     "text": [
      "/home/hanliu/miniconda3/envs/clustering/lib/python3.7/site-packages/ALLCools/dmr/fimo.py:60: FutureWarning: to_msgpack is deprecated and will be removed in a future version.\n",
      "It is recommended to use pyarrow for on-the-wire transmission of pandas objects.\n",
      "  final_df.to_msgpack(output_path, compress='zlib')\n"
     ]
    },
    {
     "name": "stdout",
     "output_type": "stream",
     "text": [
      "/home/hanliu/project/mouse_rostral_brain/DMR/SubType/raw/SubType-chr13/MotifScan.h5adtemp/MA0895.1.meme, N motif total=10758\n"
     ]
    },
    {
     "name": "stderr",
     "output_type": "stream",
     "text": [
      "/home/hanliu/miniconda3/envs/clustering/lib/python3.7/site-packages/ALLCools/dmr/fimo.py:60: FutureWarning: to_msgpack is deprecated and will be removed in a future version.\n",
      "It is recommended to use pyarrow for on-the-wire transmission of pandas objects.\n",
      "  final_df.to_msgpack(output_path, compress='zlib')\n"
     ]
    },
    {
     "name": "stdout",
     "output_type": "stream",
     "text": [
      "/home/hanliu/project/mouse_rostral_brain/DMR/SubType/raw/SubType-chr13/MotifScan.h5adtemp/MA0043.3.meme, N motif total=16596\n"
     ]
    },
    {
     "name": "stderr",
     "output_type": "stream",
     "text": [
      "/home/hanliu/miniconda3/envs/clustering/lib/python3.7/site-packages/ALLCools/dmr/fimo.py:60: FutureWarning: to_msgpack is deprecated and will be removed in a future version.\n",
      "It is recommended to use pyarrow for on-the-wire transmission of pandas objects.\n",
      "  final_df.to_msgpack(output_path, compress='zlib')\n"
     ]
    },
    {
     "name": "stdout",
     "output_type": "stream",
     "text": [
      "/home/hanliu/project/mouse_rostral_brain/DMR/SubType/raw/SubType-chr13/MotifScan.h5adtemp/MA0046.2.meme, N motif total=30381\n"
     ]
    },
    {
     "name": "stderr",
     "output_type": "stream",
     "text": [
      "/home/hanliu/miniconda3/envs/clustering/lib/python3.7/site-packages/ALLCools/dmr/fimo.py:60: FutureWarning: to_msgpack is deprecated and will be removed in a future version.\n",
      "It is recommended to use pyarrow for on-the-wire transmission of pandas objects.\n",
      "  final_df.to_msgpack(output_path, compress='zlib')\n"
     ]
    },
    {
     "name": "stdout",
     "output_type": "stream",
     "text": [
      "/home/hanliu/project/mouse_rostral_brain/DMR/SubType/raw/SubType-chr13/MotifScan.h5adtemp/MA1495.1.meme, N motif total=10668\n"
     ]
    },
    {
     "name": "stderr",
     "output_type": "stream",
     "text": [
      "/home/hanliu/miniconda3/envs/clustering/lib/python3.7/site-packages/ALLCools/dmr/fimo.py:60: FutureWarning: to_msgpack is deprecated and will be removed in a future version.\n",
      "It is recommended to use pyarrow for on-the-wire transmission of pandas objects.\n",
      "  final_df.to_msgpack(output_path, compress='zlib')\n"
     ]
    },
    {
     "name": "stdout",
     "output_type": "stream",
     "text": [
      "/home/hanliu/project/mouse_rostral_brain/DMR/SubType/raw/SubType-chr13/MotifScan.h5adtemp/MA0896.1.meme, N motif total=16855\n"
     ]
    },
    {
     "name": "stderr",
     "output_type": "stream",
     "text": [
      "/home/hanliu/miniconda3/envs/clustering/lib/python3.7/site-packages/ALLCools/dmr/fimo.py:60: FutureWarning: to_msgpack is deprecated and will be removed in a future version.\n",
      "It is recommended to use pyarrow for on-the-wire transmission of pandas objects.\n",
      "  final_df.to_msgpack(output_path, compress='zlib')\n"
     ]
    },
    {
     "name": "stdout",
     "output_type": "stream",
     "text": [
      "/home/hanliu/project/mouse_rostral_brain/DMR/SubType/raw/SubType-chr13/MotifScan.h5adtemp/MA0153.2.meme, N motif total=20429\n"
     ]
    },
    {
     "name": "stderr",
     "output_type": "stream",
     "text": [
      "/home/hanliu/miniconda3/envs/clustering/lib/python3.7/site-packages/ALLCools/dmr/fimo.py:60: FutureWarning: to_msgpack is deprecated and will be removed in a future version.\n",
      "It is recommended to use pyarrow for on-the-wire transmission of pandas objects.\n",
      "  final_df.to_msgpack(output_path, compress='zlib')\n"
     ]
    },
    {
     "name": "stdout",
     "output_type": "stream",
     "text": [
      "/home/hanliu/project/mouse_rostral_brain/DMR/SubType/raw/SubType-chr13/MotifScan.h5adtemp/MA0897.1.meme, N motif total=21903\n"
     ]
    },
    {
     "name": "stderr",
     "output_type": "stream",
     "text": [
      "/home/hanliu/miniconda3/envs/clustering/lib/python3.7/site-packages/ALLCools/dmr/fimo.py:60: FutureWarning: to_msgpack is deprecated and will be removed in a future version.\n",
      "It is recommended to use pyarrow for on-the-wire transmission of pandas objects.\n",
      "  final_df.to_msgpack(output_path, compress='zlib')\n"
     ]
    },
    {
     "name": "stdout",
     "output_type": "stream",
     "text": [
      "/home/hanliu/project/mouse_rostral_brain/DMR/SubType/raw/SubType-chr13/MotifScan.h5adtemp/MA0484.2.meme, N motif total=32873\n"
     ]
    },
    {
     "name": "stderr",
     "output_type": "stream",
     "text": [
      "/home/hanliu/miniconda3/envs/clustering/lib/python3.7/site-packages/ALLCools/dmr/fimo.py:60: FutureWarning: to_msgpack is deprecated and will be removed in a future version.\n",
      "It is recommended to use pyarrow for on-the-wire transmission of pandas objects.\n",
      "  final_df.to_msgpack(output_path, compress='zlib')\n"
     ]
    },
    {
     "name": "stdout",
     "output_type": "stream",
     "text": [
      "/home/hanliu/project/mouse_rostral_brain/DMR/SubType/raw/SubType-chr13/MotifScan.h5adtemp/MA0898.1.meme, N motif total=21658\n"
     ]
    },
    {
     "name": "stderr",
     "output_type": "stream",
     "text": [
      "/home/hanliu/miniconda3/envs/clustering/lib/python3.7/site-packages/ALLCools/dmr/fimo.py:60: FutureWarning: to_msgpack is deprecated and will be removed in a future version.\n",
      "It is recommended to use pyarrow for on-the-wire transmission of pandas objects.\n",
      "  final_df.to_msgpack(output_path, compress='zlib')\n"
     ]
    },
    {
     "name": "stdout",
     "output_type": "stream",
     "text": [
      "/home/hanliu/project/mouse_rostral_brain/DMR/SubType/raw/SubType-chr13/MotifScan.h5adtemp/MA0114.4.meme, N motif total=32909\n"
     ]
    },
    {
     "name": "stderr",
     "output_type": "stream",
     "text": [
      "/home/hanliu/miniconda3/envs/clustering/lib/python3.7/site-packages/ALLCools/dmr/fimo.py:60: FutureWarning: to_msgpack is deprecated and will be removed in a future version.\n",
      "It is recommended to use pyarrow for on-the-wire transmission of pandas objects.\n",
      "  final_df.to_msgpack(output_path, compress='zlib')\n"
     ]
    },
    {
     "name": "stdout",
     "output_type": "stream",
     "text": [
      "/home/hanliu/project/mouse_rostral_brain/DMR/SubType/raw/SubType-chr13/MotifScan.h5adtemp/MA0899.1.meme, N motif total=31246\n"
     ]
    },
    {
     "name": "stderr",
     "output_type": "stream",
     "text": [
      "/home/hanliu/miniconda3/envs/clustering/lib/python3.7/site-packages/ALLCools/dmr/fimo.py:60: FutureWarning: to_msgpack is deprecated and will be removed in a future version.\n",
      "It is recommended to use pyarrow for on-the-wire transmission of pandas objects.\n",
      "  final_df.to_msgpack(output_path, compress='zlib')\n"
     ]
    },
    {
     "name": "stdout",
     "output_type": "stream",
     "text": [
      "/home/hanliu/project/mouse_rostral_brain/DMR/SubType/raw/SubType-chr13/MotifScan.h5adtemp/MA1494.1.meme, N motif total=12136\n"
     ]
    },
    {
     "name": "stderr",
     "output_type": "stream",
     "text": [
      "/home/hanliu/miniconda3/envs/clustering/lib/python3.7/site-packages/ALLCools/dmr/fimo.py:60: FutureWarning: to_msgpack is deprecated and will be removed in a future version.\n",
      "It is recommended to use pyarrow for on-the-wire transmission of pandas objects.\n",
      "  final_df.to_msgpack(output_path, compress='zlib')\n"
     ]
    },
    {
     "name": "stdout",
     "output_type": "stream",
     "text": [
      "/home/hanliu/project/mouse_rostral_brain/DMR/SubType/raw/SubType-chr13/MotifScan.h5adtemp/MA0900.2.meme, N motif total=10668\n"
     ]
    },
    {
     "name": "stderr",
     "output_type": "stream",
     "text": [
      "/home/hanliu/miniconda3/envs/clustering/lib/python3.7/site-packages/ALLCools/dmr/fimo.py:60: FutureWarning: to_msgpack is deprecated and will be removed in a future version.\n",
      "It is recommended to use pyarrow for on-the-wire transmission of pandas objects.\n",
      "  final_df.to_msgpack(output_path, compress='zlib')\n"
     ]
    },
    {
     "name": "stdout",
     "output_type": "stream",
     "text": [
      "/home/hanliu/project/mouse_rostral_brain/DMR/SubType/raw/SubType-chr13/MotifScan.h5adtemp/MA0650.2.meme, N motif total=28752\n"
     ]
    },
    {
     "name": "stderr",
     "output_type": "stream",
     "text": [
      "/home/hanliu/miniconda3/envs/clustering/lib/python3.7/site-packages/ALLCools/dmr/fimo.py:60: FutureWarning: to_msgpack is deprecated and will be removed in a future version.\n",
      "It is recommended to use pyarrow for on-the-wire transmission of pandas objects.\n",
      "  final_df.to_msgpack(output_path, compress='zlib')\n"
     ]
    },
    {
     "name": "stdout",
     "output_type": "stream",
     "text": [
      "/home/hanliu/project/mouse_rostral_brain/DMR/SubType/raw/SubType-chr13/MotifScan.h5adtemp/MA0158.2.meme, N motif total=12337\n"
     ]
    },
    {
     "name": "stderr",
     "output_type": "stream",
     "text": [
      "/home/hanliu/miniconda3/envs/clustering/lib/python3.7/site-packages/ALLCools/dmr/fimo.py:60: FutureWarning: to_msgpack is deprecated and will be removed in a future version.\n",
      "It is recommended to use pyarrow for on-the-wire transmission of pandas objects.\n",
      "  final_df.to_msgpack(output_path, compress='zlib')\n"
     ]
    },
    {
     "name": "stdout",
     "output_type": "stream",
     "text": [
      "/home/hanliu/project/mouse_rostral_brain/DMR/SubType/raw/SubType-chr13/MotifScan.h5adtemp/MA0911.1.meme, N motif total=9352\n"
     ]
    },
    {
     "name": "stderr",
     "output_type": "stream",
     "text": [
      "/home/hanliu/miniconda3/envs/clustering/lib/python3.7/site-packages/ALLCools/dmr/fimo.py:60: FutureWarning: to_msgpack is deprecated and will be removed in a future version.\n",
      "It is recommended to use pyarrow for on-the-wire transmission of pandas objects.\n",
      "  final_df.to_msgpack(output_path, compress='zlib')\n"
     ]
    },
    {
     "name": "stdout",
     "output_type": "stream",
     "text": [
      "/home/hanliu/project/mouse_rostral_brain/DMR/SubType/raw/SubType-chr13/MotifScan.h5adtemp/MA1499.1.meme, N motif total=16381\n"
     ]
    },
    {
     "name": "stderr",
     "output_type": "stream",
     "text": [
      "/home/hanliu/miniconda3/envs/clustering/lib/python3.7/site-packages/ALLCools/dmr/fimo.py:60: FutureWarning: to_msgpack is deprecated and will be removed in a future version.\n",
      "It is recommended to use pyarrow for on-the-wire transmission of pandas objects.\n",
      "  final_df.to_msgpack(output_path, compress='zlib')\n"
     ]
    },
    {
     "name": "stdout",
     "output_type": "stream",
     "text": [
      "/home/hanliu/project/mouse_rostral_brain/DMR/SubType/raw/SubType-chr13/MotifScan.h5adtemp/MA1498.1.meme, N motif total=11016\n"
     ]
    },
    {
     "name": "stderr",
     "output_type": "stream",
     "text": [
      "/home/hanliu/miniconda3/envs/clustering/lib/python3.7/site-packages/ALLCools/dmr/fimo.py:60: FutureWarning: to_msgpack is deprecated and will be removed in a future version.\n",
      "It is recommended to use pyarrow for on-the-wire transmission of pandas objects.\n",
      "  final_df.to_msgpack(output_path, compress='zlib')\n"
     ]
    },
    {
     "name": "stdout",
     "output_type": "stream",
     "text": [
      "/home/hanliu/project/mouse_rostral_brain/DMR/SubType/raw/SubType-chr13/MotifScan.h5adtemp/MA1496.1.meme, N motif total=15079\n"
     ]
    },
    {
     "name": "stderr",
     "output_type": "stream",
     "text": [
      "/home/hanliu/miniconda3/envs/clustering/lib/python3.7/site-packages/ALLCools/dmr/fimo.py:60: FutureWarning: to_msgpack is deprecated and will be removed in a future version.\n",
      "It is recommended to use pyarrow for on-the-wire transmission of pandas objects.\n",
      "  final_df.to_msgpack(output_path, compress='zlib')\n"
     ]
    },
    {
     "name": "stdout",
     "output_type": "stream",
     "text": [
      "/home/hanliu/project/mouse_rostral_brain/DMR/SubType/raw/SubType-chr13/MotifScan.h5adtemp/MA0904.2.meme, N motif total=10668\n"
     ]
    },
    {
     "name": "stderr",
     "output_type": "stream",
     "text": [
      "/home/hanliu/miniconda3/envs/clustering/lib/python3.7/site-packages/ALLCools/dmr/fimo.py:60: FutureWarning: to_msgpack is deprecated and will be removed in a future version.\n",
      "It is recommended to use pyarrow for on-the-wire transmission of pandas objects.\n",
      "  final_df.to_msgpack(output_path, compress='zlib')\n"
     ]
    },
    {
     "name": "stdout",
     "output_type": "stream",
     "text": [
      "/home/hanliu/project/mouse_rostral_brain/DMR/SubType/raw/SubType-chr13/MotifScan.h5adtemp/MA1502.1.meme, N motif total=12220\n"
     ]
    },
    {
     "name": "stderr",
     "output_type": "stream",
     "text": [
      "/home/hanliu/miniconda3/envs/clustering/lib/python3.7/site-packages/ALLCools/dmr/fimo.py:60: FutureWarning: to_msgpack is deprecated and will be removed in a future version.\n",
      "It is recommended to use pyarrow for on-the-wire transmission of pandas objects.\n",
      "  final_df.to_msgpack(output_path, compress='zlib')\n"
     ]
    },
    {
     "name": "stdout",
     "output_type": "stream",
     "text": [
      "/home/hanliu/project/mouse_rostral_brain/DMR/SubType/raw/SubType-chr13/MotifScan.h5adtemp/MA0902.2.meme, N motif total=10381\n"
     ]
    },
    {
     "name": "stderr",
     "output_type": "stream",
     "text": [
      "/home/hanliu/miniconda3/envs/clustering/lib/python3.7/site-packages/ALLCools/dmr/fimo.py:60: FutureWarning: to_msgpack is deprecated and will be removed in a future version.\n",
      "It is recommended to use pyarrow for on-the-wire transmission of pandas objects.\n",
      "  final_df.to_msgpack(output_path, compress='zlib')\n"
     ]
    },
    {
     "name": "stdout",
     "output_type": "stream",
     "text": [
      "/home/hanliu/project/mouse_rostral_brain/DMR/SubType/raw/SubType-chr13/MotifScan.h5adtemp/MA1497.1.meme, N motif total=11079\n"
     ]
    },
    {
     "name": "stderr",
     "output_type": "stream",
     "text": [
      "/home/hanliu/miniconda3/envs/clustering/lib/python3.7/site-packages/ALLCools/dmr/fimo.py:60: FutureWarning: to_msgpack is deprecated and will be removed in a future version.\n",
      "It is recommended to use pyarrow for on-the-wire transmission of pandas objects.\n",
      "  final_df.to_msgpack(output_path, compress='zlib')\n"
     ]
    },
    {
     "name": "stdout",
     "output_type": "stream",
     "text": [
      "/home/hanliu/project/mouse_rostral_brain/DMR/SubType/raw/SubType-chr13/MotifScan.h5adtemp/MA0594.2.meme, N motif total=2120\n"
     ]
    },
    {
     "name": "stderr",
     "output_type": "stream",
     "text": [
      "/home/hanliu/miniconda3/envs/clustering/lib/python3.7/site-packages/ALLCools/dmr/fimo.py:60: FutureWarning: to_msgpack is deprecated and will be removed in a future version.\n",
      "It is recommended to use pyarrow for on-the-wire transmission of pandas objects.\n",
      "  final_df.to_msgpack(output_path, compress='zlib')\n"
     ]
    },
    {
     "name": "stdout",
     "output_type": "stream",
     "text": [
      "/home/hanliu/project/mouse_rostral_brain/DMR/SubType/raw/SubType-chr13/MotifScan.h5adtemp/MA0903.1.meme, N motif total=16207\n"
     ]
    },
    {
     "name": "stderr",
     "output_type": "stream",
     "text": [
      "/home/hanliu/miniconda3/envs/clustering/lib/python3.7/site-packages/ALLCools/dmr/fimo.py:60: FutureWarning: to_msgpack is deprecated and will be removed in a future version.\n",
      "It is recommended to use pyarrow for on-the-wire transmission of pandas objects.\n",
      "  final_df.to_msgpack(output_path, compress='zlib')\n"
     ]
    },
    {
     "name": "stdout",
     "output_type": "stream",
     "text": [
      "/home/hanliu/project/mouse_rostral_brain/DMR/SubType/raw/SubType-chr13/MotifScan.h5adtemp/MA1500.1.meme, N motif total=13606\n"
     ]
    },
    {
     "name": "stderr",
     "output_type": "stream",
     "text": [
      "/home/hanliu/miniconda3/envs/clustering/lib/python3.7/site-packages/ALLCools/dmr/fimo.py:60: FutureWarning: to_msgpack is deprecated and will be removed in a future version.\n",
      "It is recommended to use pyarrow for on-the-wire transmission of pandas objects.\n",
      "  final_df.to_msgpack(output_path, compress='zlib')\n"
     ]
    },
    {
     "name": "stdout",
     "output_type": "stream",
     "text": [
      "/home/hanliu/project/mouse_rostral_brain/DMR/SubType/raw/SubType-chr13/MotifScan.h5adtemp/MA1504.1.meme, N motif total=16381\n"
     ]
    },
    {
     "name": "stderr",
     "output_type": "stream",
     "text": [
      "/home/hanliu/miniconda3/envs/clustering/lib/python3.7/site-packages/ALLCools/dmr/fimo.py:60: FutureWarning: to_msgpack is deprecated and will be removed in a future version.\n",
      "It is recommended to use pyarrow for on-the-wire transmission of pandas objects.\n",
      "  final_df.to_msgpack(output_path, compress='zlib')\n"
     ]
    },
    {
     "name": "stdout",
     "output_type": "stream",
     "text": [
      "/home/hanliu/project/mouse_rostral_brain/DMR/SubType/raw/SubType-chr13/MotifScan.h5adtemp/MA0905.1.meme, N motif total=13686\n"
     ]
    },
    {
     "name": "stderr",
     "output_type": "stream",
     "text": [
      "/home/hanliu/miniconda3/envs/clustering/lib/python3.7/site-packages/ALLCools/dmr/fimo.py:60: FutureWarning: to_msgpack is deprecated and will be removed in a future version.\n",
      "It is recommended to use pyarrow for on-the-wire transmission of pandas objects.\n",
      "  final_df.to_msgpack(output_path, compress='zlib')\n"
     ]
    },
    {
     "name": "stdout",
     "output_type": "stream",
     "text": [
      "/home/hanliu/project/mouse_rostral_brain/DMR/SubType/raw/SubType-chr13/MotifScan.h5adtemp/MA1501.1.meme, N motif total=12553\n"
     ]
    },
    {
     "name": "stderr",
     "output_type": "stream",
     "text": [
      "/home/hanliu/miniconda3/envs/clustering/lib/python3.7/site-packages/ALLCools/dmr/fimo.py:60: FutureWarning: to_msgpack is deprecated and will be removed in a future version.\n",
      "It is recommended to use pyarrow for on-the-wire transmission of pandas objects.\n",
      "  final_df.to_msgpack(output_path, compress='zlib')\n"
     ]
    },
    {
     "name": "stdout",
     "output_type": "stream",
     "text": [
      "/home/hanliu/project/mouse_rostral_brain/DMR/SubType/raw/SubType-chr13/MotifScan.h5adtemp/MA1503.1.meme, N motif total=10729\n"
     ]
    },
    {
     "name": "stderr",
     "output_type": "stream",
     "text": [
      "/home/hanliu/miniconda3/envs/clustering/lib/python3.7/site-packages/ALLCools/dmr/fimo.py:60: FutureWarning: to_msgpack is deprecated and will be removed in a future version.\n",
      "It is recommended to use pyarrow for on-the-wire transmission of pandas objects.\n",
      "  final_df.to_msgpack(output_path, compress='zlib')\n"
     ]
    },
    {
     "name": "stdout",
     "output_type": "stream",
     "text": [
      "/home/hanliu/project/mouse_rostral_brain/DMR/SubType/raw/SubType-chr13/MotifScan.h5adtemp/MA1505.1.meme, N motif total=11521\n"
     ]
    },
    {
     "name": "stderr",
     "output_type": "stream",
     "text": [
      "/home/hanliu/miniconda3/envs/clustering/lib/python3.7/site-packages/ALLCools/dmr/fimo.py:60: FutureWarning: to_msgpack is deprecated and will be removed in a future version.\n",
      "It is recommended to use pyarrow for on-the-wire transmission of pandas objects.\n",
      "  final_df.to_msgpack(output_path, compress='zlib')\n"
     ]
    },
    {
     "name": "stdout",
     "output_type": "stream",
     "text": [
      "/home/hanliu/project/mouse_rostral_brain/DMR/SubType/raw/SubType-chr13/MotifScan.h5adtemp/MA0651.1.meme, N motif total=8382\n"
     ]
    },
    {
     "name": "stderr",
     "output_type": "stream",
     "text": [
      "/home/hanliu/miniconda3/envs/clustering/lib/python3.7/site-packages/ALLCools/dmr/fimo.py:60: FutureWarning: to_msgpack is deprecated and will be removed in a future version.\n",
      "It is recommended to use pyarrow for on-the-wire transmission of pandas objects.\n",
      "  final_df.to_msgpack(output_path, compress='zlib')\n"
     ]
    },
    {
     "name": "stdout",
     "output_type": "stream",
     "text": [
      "/home/hanliu/project/mouse_rostral_brain/DMR/SubType/raw/SubType-chr13/MotifScan.h5adtemp/MA0906.1.meme, N motif total=10041\n"
     ]
    },
    {
     "name": "stderr",
     "output_type": "stream",
     "text": [
      "/home/hanliu/miniconda3/envs/clustering/lib/python3.7/site-packages/ALLCools/dmr/fimo.py:60: FutureWarning: to_msgpack is deprecated and will be removed in a future version.\n",
      "It is recommended to use pyarrow for on-the-wire transmission of pandas objects.\n",
      "  final_df.to_msgpack(output_path, compress='zlib')\n"
     ]
    },
    {
     "name": "stdout",
     "output_type": "stream",
     "text": [
      "/home/hanliu/project/mouse_rostral_brain/DMR/SubType/raw/SubType-chr13/MotifScan.h5adtemp/MA0907.1.meme, N motif total=15169\n"
     ]
    },
    {
     "name": "stderr",
     "output_type": "stream",
     "text": [
      "/home/hanliu/miniconda3/envs/clustering/lib/python3.7/site-packages/ALLCools/dmr/fimo.py:60: FutureWarning: to_msgpack is deprecated and will be removed in a future version.\n",
      "It is recommended to use pyarrow for on-the-wire transmission of pandas objects.\n",
      "  final_df.to_msgpack(output_path, compress='zlib')\n"
     ]
    },
    {
     "name": "stdout",
     "output_type": "stream",
     "text": [
      "/home/hanliu/project/mouse_rostral_brain/DMR/SubType/raw/SubType-chr13/MotifScan.h5adtemp/MA0912.2.meme, N motif total=13413\n"
     ]
    },
    {
     "name": "stderr",
     "output_type": "stream",
     "text": [
      "/home/hanliu/miniconda3/envs/clustering/lib/python3.7/site-packages/ALLCools/dmr/fimo.py:60: FutureWarning: to_msgpack is deprecated and will be removed in a future version.\n",
      "It is recommended to use pyarrow for on-the-wire transmission of pandas objects.\n",
      "  final_df.to_msgpack(output_path, compress='zlib')\n"
     ]
    },
    {
     "name": "stdout",
     "output_type": "stream",
     "text": [
      "/home/hanliu/project/mouse_rostral_brain/DMR/SubType/raw/SubType-chr13/MotifScan.h5adtemp/MA0485.2.meme, N motif total=10486\n"
     ]
    },
    {
     "name": "stderr",
     "output_type": "stream",
     "text": [
      "/home/hanliu/miniconda3/envs/clustering/lib/python3.7/site-packages/ALLCools/dmr/fimo.py:60: FutureWarning: to_msgpack is deprecated and will be removed in a future version.\n",
      "It is recommended to use pyarrow for on-the-wire transmission of pandas objects.\n",
      "  final_df.to_msgpack(output_path, compress='zlib')\n"
     ]
    },
    {
     "name": "stdout",
     "output_type": "stream",
     "text": [
      "/home/hanliu/project/mouse_rostral_brain/DMR/SubType/raw/SubType-chr13/MotifScan.h5adtemp/MA0901.2.meme, N motif total=52154\n"
     ]
    },
    {
     "name": "stderr",
     "output_type": "stream",
     "text": [
      "/home/hanliu/miniconda3/envs/clustering/lib/python3.7/site-packages/ALLCools/dmr/fimo.py:60: FutureWarning: to_msgpack is deprecated and will be removed in a future version.\n",
      "It is recommended to use pyarrow for on-the-wire transmission of pandas objects.\n",
      "  final_df.to_msgpack(output_path, compress='zlib')\n"
     ]
    },
    {
     "name": "stdout",
     "output_type": "stream",
     "text": [
      "/home/hanliu/project/mouse_rostral_brain/DMR/SubType/raw/SubType-chr13/MotifScan.h5adtemp/MA0908.1.meme, N motif total=9181\n"
     ]
    },
    {
     "name": "stderr",
     "output_type": "stream",
     "text": [
      "/home/hanliu/miniconda3/envs/clustering/lib/python3.7/site-packages/ALLCools/dmr/fimo.py:60: FutureWarning: to_msgpack is deprecated and will be removed in a future version.\n",
      "It is recommended to use pyarrow for on-the-wire transmission of pandas objects.\n",
      "  final_df.to_msgpack(output_path, compress='zlib')\n"
     ]
    },
    {
     "name": "stdout",
     "output_type": "stream",
     "text": [
      "/home/hanliu/project/mouse_rostral_brain/DMR/SubType/raw/SubType-chr13/MotifScan.h5adtemp/MA1506.1.meme, N motif total=10561\n"
     ]
    },
    {
     "name": "stderr",
     "output_type": "stream",
     "text": [
      "/home/hanliu/miniconda3/envs/clustering/lib/python3.7/site-packages/ALLCools/dmr/fimo.py:60: FutureWarning: to_msgpack is deprecated and will be removed in a future version.\n",
      "It is recommended to use pyarrow for on-the-wire transmission of pandas objects.\n",
      "  final_df.to_msgpack(output_path, compress='zlib')\n"
     ]
    },
    {
     "name": "stdout",
     "output_type": "stream",
     "text": [
      "/home/hanliu/project/mouse_rostral_brain/DMR/SubType/raw/SubType-chr13/MotifScan.h5adtemp/MA0909.2.meme, N motif total=24506\n"
     ]
    },
    {
     "name": "stderr",
     "output_type": "stream",
     "text": [
      "/home/hanliu/miniconda3/envs/clustering/lib/python3.7/site-packages/ALLCools/dmr/fimo.py:60: FutureWarning: to_msgpack is deprecated and will be removed in a future version.\n",
      "It is recommended to use pyarrow for on-the-wire transmission of pandas objects.\n",
      "  final_df.to_msgpack(output_path, compress='zlib')\n"
     ]
    },
    {
     "name": "stdout",
     "output_type": "stream",
     "text": [
      "/home/hanliu/project/mouse_rostral_brain/DMR/SubType/raw/SubType-chr13/MotifScan.h5adtemp/MA1507.1.meme, N motif total=13373\n"
     ]
    },
    {
     "name": "stderr",
     "output_type": "stream",
     "text": [
      "/home/hanliu/miniconda3/envs/clustering/lib/python3.7/site-packages/ALLCools/dmr/fimo.py:60: FutureWarning: to_msgpack is deprecated and will be removed in a future version.\n",
      "It is recommended to use pyarrow for on-the-wire transmission of pandas objects.\n",
      "  final_df.to_msgpack(output_path, compress='zlib')\n"
     ]
    },
    {
     "name": "stdout",
     "output_type": "stream",
     "text": [
      "/home/hanliu/project/mouse_rostral_brain/DMR/SubType/raw/SubType-chr13/MotifScan.h5adtemp/MA0873.1.meme, N motif total=7686\n"
     ]
    },
    {
     "name": "stderr",
     "output_type": "stream",
     "text": [
      "/home/hanliu/miniconda3/envs/clustering/lib/python3.7/site-packages/ALLCools/dmr/fimo.py:60: FutureWarning: to_msgpack is deprecated and will be removed in a future version.\n",
      "It is recommended to use pyarrow for on-the-wire transmission of pandas objects.\n",
      "  final_df.to_msgpack(output_path, compress='zlib')\n"
     ]
    },
    {
     "name": "stdout",
     "output_type": "stream",
     "text": [
      "/home/hanliu/project/mouse_rostral_brain/DMR/SubType/raw/SubType-chr13/MotifScan.h5adtemp/MA0910.2.meme, N motif total=11653\n"
     ]
    },
    {
     "name": "stderr",
     "output_type": "stream",
     "text": [
      "/home/hanliu/miniconda3/envs/clustering/lib/python3.7/site-packages/ALLCools/dmr/fimo.py:60: FutureWarning: to_msgpack is deprecated and will be removed in a future version.\n",
      "It is recommended to use pyarrow for on-the-wire transmission of pandas objects.\n",
      "  final_df.to_msgpack(output_path, compress='zlib')\n"
     ]
    },
    {
     "name": "stdout",
     "output_type": "stream",
     "text": [
      "/home/hanliu/project/mouse_rostral_brain/DMR/SubType/raw/SubType-chr13/MotifScan.h5adtemp/MA0913.2.meme, N motif total=24680\n"
     ]
    },
    {
     "name": "stderr",
     "output_type": "stream",
     "text": [
      "/home/hanliu/miniconda3/envs/clustering/lib/python3.7/site-packages/ALLCools/dmr/fimo.py:60: FutureWarning: to_msgpack is deprecated and will be removed in a future version.\n",
      "It is recommended to use pyarrow for on-the-wire transmission of pandas objects.\n",
      "  final_df.to_msgpack(output_path, compress='zlib')\n"
     ]
    },
    {
     "name": "stdout",
     "output_type": "stream",
     "text": [
      "/home/hanliu/project/mouse_rostral_brain/DMR/SubType/raw/SubType-chr13/MotifScan.h5adtemp/MA0155.1.meme, N motif total=35074\n"
     ]
    },
    {
     "name": "stderr",
     "output_type": "stream",
     "text": [
      "/home/hanliu/miniconda3/envs/clustering/lib/python3.7/site-packages/ALLCools/dmr/fimo.py:60: FutureWarning: to_msgpack is deprecated and will be removed in a future version.\n",
      "It is recommended to use pyarrow for on-the-wire transmission of pandas objects.\n",
      "  final_df.to_msgpack(output_path, compress='zlib')\n"
     ]
    },
    {
     "name": "stdout",
     "output_type": "stream",
     "text": [
      "/home/hanliu/project/mouse_rostral_brain/DMR/SubType/raw/SubType-chr13/MotifScan.h5adtemp/MA0486.2.meme, N motif total=22698\n"
     ]
    },
    {
     "name": "stderr",
     "output_type": "stream",
     "text": [
      "/home/hanliu/miniconda3/envs/clustering/lib/python3.7/site-packages/ALLCools/dmr/fimo.py:60: FutureWarning: to_msgpack is deprecated and will be removed in a future version.\n",
      "It is recommended to use pyarrow for on-the-wire transmission of pandas objects.\n",
      "  final_df.to_msgpack(output_path, compress='zlib')\n"
     ]
    },
    {
     "name": "stdout",
     "output_type": "stream",
     "text": [
      "/home/hanliu/project/mouse_rostral_brain/DMR/SubType/raw/SubType-chr13/MotifScan.h5adtemp/MA0771.1.meme, N motif total=22869\n"
     ]
    },
    {
     "name": "stderr",
     "output_type": "stream",
     "text": [
      "/home/hanliu/miniconda3/envs/clustering/lib/python3.7/site-packages/ALLCools/dmr/fimo.py:60: FutureWarning: to_msgpack is deprecated and will be removed in a future version.\n",
      "It is recommended to use pyarrow for on-the-wire transmission of pandas objects.\n",
      "  final_df.to_msgpack(output_path, compress='zlib')\n"
     ]
    },
    {
     "name": "stdout",
     "output_type": "stream",
     "text": [
      "/home/hanliu/project/mouse_rostral_brain/DMR/SubType/raw/SubType-chr13/MotifScan.h5adtemp/MA0770.1.meme, N motif total=27488\n"
     ]
    },
    {
     "name": "stderr",
     "output_type": "stream",
     "text": [
      "/home/hanliu/miniconda3/envs/clustering/lib/python3.7/site-packages/ALLCools/dmr/fimo.py:60: FutureWarning: to_msgpack is deprecated and will be removed in a future version.\n",
      "It is recommended to use pyarrow for on-the-wire transmission of pandas objects.\n",
      "  final_df.to_msgpack(output_path, compress='zlib')\n"
     ]
    },
    {
     "name": "stdout",
     "output_type": "stream",
     "text": [
      "/home/hanliu/project/mouse_rostral_brain/DMR/SubType/raw/SubType-chr13/MotifScan.h5adtemp/MA1508.1.meme, N motif total=77519\n"
     ]
    },
    {
     "name": "stderr",
     "output_type": "stream",
     "text": [
      "/home/hanliu/miniconda3/envs/clustering/lib/python3.7/site-packages/ALLCools/dmr/fimo.py:60: FutureWarning: to_msgpack is deprecated and will be removed in a future version.\n",
      "It is recommended to use pyarrow for on-the-wire transmission of pandas objects.\n",
      "  final_df.to_msgpack(output_path, compress='zlib')\n"
     ]
    },
    {
     "name": "stdout",
     "output_type": "stream",
     "text": [
      "/home/hanliu/project/mouse_rostral_brain/DMR/SubType/raw/SubType-chr13/MotifScan.h5adtemp/MA0051.1.meme, N motif total=15914\n"
     ]
    },
    {
     "name": "stderr",
     "output_type": "stream",
     "text": [
      "/home/hanliu/miniconda3/envs/clustering/lib/python3.7/site-packages/ALLCools/dmr/fimo.py:60: FutureWarning: to_msgpack is deprecated and will be removed in a future version.\n",
      "It is recommended to use pyarrow for on-the-wire transmission of pandas objects.\n",
      "  final_df.to_msgpack(output_path, compress='zlib')\n"
     ]
    },
    {
     "name": "stdout",
     "output_type": "stream",
     "text": [
      "/home/hanliu/project/mouse_rostral_brain/DMR/SubType/raw/SubType-chr13/MotifScan.h5adtemp/MA0654.1.meme, N motif total=16279\n"
     ]
    },
    {
     "name": "stderr",
     "output_type": "stream",
     "text": [
      "/home/hanliu/miniconda3/envs/clustering/lib/python3.7/site-packages/ALLCools/dmr/fimo.py:60: FutureWarning: to_msgpack is deprecated and will be removed in a future version.\n",
      "It is recommended to use pyarrow for on-the-wire transmission of pandas objects.\n",
      "  final_df.to_msgpack(output_path, compress='zlib')\n"
     ]
    },
    {
     "name": "stdout",
     "output_type": "stream",
     "text": [
      "/home/hanliu/project/mouse_rostral_brain/DMR/SubType/raw/SubType-chr13/MotifScan.h5adtemp/MA1509.1.meme, N motif total=4978\n"
     ]
    },
    {
     "name": "stderr",
     "output_type": "stream",
     "text": [
      "/home/hanliu/miniconda3/envs/clustering/lib/python3.7/site-packages/ALLCools/dmr/fimo.py:60: FutureWarning: to_msgpack is deprecated and will be removed in a future version.\n",
      "It is recommended to use pyarrow for on-the-wire transmission of pandas objects.\n",
      "  final_df.to_msgpack(output_path, compress='zlib')\n"
     ]
    },
    {
     "name": "stdout",
     "output_type": "stream",
     "text": [
      "/home/hanliu/project/mouse_rostral_brain/DMR/SubType/raw/SubType-chr13/MotifScan.h5adtemp/MA1418.1.meme, N motif total=16561\n"
     ]
    },
    {
     "name": "stderr",
     "output_type": "stream",
     "text": [
      "/home/hanliu/miniconda3/envs/clustering/lib/python3.7/site-packages/ALLCools/dmr/fimo.py:60: FutureWarning: to_msgpack is deprecated and will be removed in a future version.\n",
      "It is recommended to use pyarrow for on-the-wire transmission of pandas objects.\n",
      "  final_df.to_msgpack(output_path, compress='zlib')\n"
     ]
    },
    {
     "name": "stdout",
     "output_type": "stream",
     "text": [
      "/home/hanliu/project/mouse_rostral_brain/DMR/SubType/raw/SubType-chr13/MotifScan.h5adtemp/MA0914.1.meme, N motif total=16715\n"
     ]
    },
    {
     "name": "stderr",
     "output_type": "stream",
     "text": [
      "/home/hanliu/miniconda3/envs/clustering/lib/python3.7/site-packages/ALLCools/dmr/fimo.py:60: FutureWarning: to_msgpack is deprecated and will be removed in a future version.\n",
      "It is recommended to use pyarrow for on-the-wire transmission of pandas objects.\n",
      "  final_df.to_msgpack(output_path, compress='zlib')\n"
     ]
    },
    {
     "name": "stdout",
     "output_type": "stream",
     "text": [
      "/home/hanliu/project/mouse_rostral_brain/DMR/SubType/raw/SubType-chr13/MotifScan.h5adtemp/MA0655.1.meme, N motif total=27547\n"
     ]
    },
    {
     "name": "stderr",
     "output_type": "stream",
     "text": [
      "/home/hanliu/miniconda3/envs/clustering/lib/python3.7/site-packages/ALLCools/dmr/fimo.py:60: FutureWarning: to_msgpack is deprecated and will be removed in a future version.\n",
      "It is recommended to use pyarrow for on-the-wire transmission of pandas objects.\n",
      "  final_df.to_msgpack(output_path, compress='zlib')\n"
     ]
    },
    {
     "name": "stdout",
     "output_type": "stream",
     "text": [
      "/home/hanliu/project/mouse_rostral_brain/DMR/SubType/raw/SubType-chr13/MotifScan.h5adtemp/MA0050.2.meme, N motif total=180732\n"
     ]
    },
    {
     "name": "stderr",
     "output_type": "stream",
     "text": [
      "/home/hanliu/miniconda3/envs/clustering/lib/python3.7/site-packages/ALLCools/dmr/fimo.py:60: FutureWarning: to_msgpack is deprecated and will be removed in a future version.\n",
      "It is recommended to use pyarrow for on-the-wire transmission of pandas objects.\n",
      "  final_df.to_msgpack(output_path, compress='zlib')\n"
     ]
    },
    {
     "name": "stdout",
     "output_type": "stream",
     "text": [
      "/home/hanliu/project/mouse_rostral_brain/DMR/SubType/raw/SubType-chr13/MotifScan.h5adtemp/MA1132.1.meme, N motif total=19682\n"
     ]
    },
    {
     "name": "stderr",
     "output_type": "stream",
     "text": [
      "/home/hanliu/miniconda3/envs/clustering/lib/python3.7/site-packages/ALLCools/dmr/fimo.py:60: FutureWarning: to_msgpack is deprecated and will be removed in a future version.\n",
      "It is recommended to use pyarrow for on-the-wire transmission of pandas objects.\n",
      "  final_df.to_msgpack(output_path, compress='zlib')\n"
     ]
    },
    {
     "name": "stdout",
     "output_type": "stream",
     "text": [
      "/home/hanliu/project/mouse_rostral_brain/DMR/SubType/raw/SubType-chr13/MotifScan.h5adtemp/MA1419.1.meme, N motif total=2755\n"
     ]
    },
    {
     "name": "stderr",
     "output_type": "stream",
     "text": [
      "/home/hanliu/miniconda3/envs/clustering/lib/python3.7/site-packages/ALLCools/dmr/fimo.py:60: FutureWarning: to_msgpack is deprecated and will be removed in a future version.\n",
      "It is recommended to use pyarrow for on-the-wire transmission of pandas objects.\n",
      "  final_df.to_msgpack(output_path, compress='zlib')\n"
     ]
    },
    {
     "name": "stdout",
     "output_type": "stream",
     "text": [
      "/home/hanliu/project/mouse_rostral_brain/DMR/SubType/raw/SubType-chr13/MotifScan.h5adtemp/MA1420.1.meme, N motif total=16263\n"
     ]
    },
    {
     "name": "stderr",
     "output_type": "stream",
     "text": [
      "/home/hanliu/miniconda3/envs/clustering/lib/python3.7/site-packages/ALLCools/dmr/fimo.py:60: FutureWarning: to_msgpack is deprecated and will be removed in a future version.\n",
      "It is recommended to use pyarrow for on-the-wire transmission of pandas objects.\n",
      "  final_df.to_msgpack(output_path, compress='zlib')\n"
     ]
    },
    {
     "name": "stdout",
     "output_type": "stream",
     "text": [
      "/home/hanliu/project/mouse_rostral_brain/DMR/SubType/raw/SubType-chr13/MotifScan.h5adtemp/MA1608.1.meme, N motif total=15190\n"
     ]
    },
    {
     "name": "stderr",
     "output_type": "stream",
     "text": [
      "/home/hanliu/miniconda3/envs/clustering/lib/python3.7/site-packages/ALLCools/dmr/fimo.py:60: FutureWarning: to_msgpack is deprecated and will be removed in a future version.\n",
      "It is recommended to use pyarrow for on-the-wire transmission of pandas objects.\n",
      "  final_df.to_msgpack(output_path, compress='zlib')\n"
     ]
    },
    {
     "name": "stdout",
     "output_type": "stream",
     "text": [
      "/home/hanliu/project/mouse_rostral_brain/DMR/SubType/raw/SubType-chr13/MotifScan.h5adtemp/MA0772.1.meme, N motif total=41106\n"
     ]
    },
    {
     "name": "stderr",
     "output_type": "stream",
     "text": [
      "/home/hanliu/miniconda3/envs/clustering/lib/python3.7/site-packages/ALLCools/dmr/fimo.py:60: FutureWarning: to_msgpack is deprecated and will be removed in a future version.\n",
      "It is recommended to use pyarrow for on-the-wire transmission of pandas objects.\n",
      "  final_df.to_msgpack(output_path, compress='zlib')\n"
     ]
    },
    {
     "name": "stdout",
     "output_type": "stream",
     "text": [
      "/home/hanliu/project/mouse_rostral_brain/DMR/SubType/raw/SubType-chr13/MotifScan.h5adtemp/MA0652.1.meme, N motif total=2622\n"
     ]
    },
    {
     "name": "stderr",
     "output_type": "stream",
     "text": [
      "/home/hanliu/miniconda3/envs/clustering/lib/python3.7/site-packages/ALLCools/dmr/fimo.py:60: FutureWarning: to_msgpack is deprecated and will be removed in a future version.\n",
      "It is recommended to use pyarrow for on-the-wire transmission of pandas objects.\n",
      "  final_df.to_msgpack(output_path, compress='zlib')\n"
     ]
    },
    {
     "name": "stdout",
     "output_type": "stream",
     "text": [
      "/home/hanliu/project/mouse_rostral_brain/DMR/SubType/raw/SubType-chr13/MotifScan.h5adtemp/MA1133.1.meme, N motif total=13326\n"
     ]
    },
    {
     "name": "stderr",
     "output_type": "stream",
     "text": [
      "/home/hanliu/miniconda3/envs/clustering/lib/python3.7/site-packages/ALLCools/dmr/fimo.py:60: FutureWarning: to_msgpack is deprecated and will be removed in a future version.\n",
      "It is recommended to use pyarrow for on-the-wire transmission of pandas objects.\n",
      "  final_df.to_msgpack(output_path, compress='zlib')\n"
     ]
    },
    {
     "name": "stdout",
     "output_type": "stream",
     "text": [
      "/home/hanliu/project/mouse_rostral_brain/DMR/SubType/raw/SubType-chr13/MotifScan.h5adtemp/MA0656.1.meme, N motif total=14483\n"
     ]
    },
    {
     "name": "stderr",
     "output_type": "stream",
     "text": [
      "/home/hanliu/miniconda3/envs/clustering/lib/python3.7/site-packages/ALLCools/dmr/fimo.py:60: FutureWarning: to_msgpack is deprecated and will be removed in a future version.\n",
      "It is recommended to use pyarrow for on-the-wire transmission of pandas objects.\n",
      "  final_df.to_msgpack(output_path, compress='zlib')\n"
     ]
    },
    {
     "name": "stdout",
     "output_type": "stream",
     "text": [
      "/home/hanliu/project/mouse_rostral_brain/DMR/SubType/raw/SubType-chr13/MotifScan.h5adtemp/MA0653.1.meme, N motif total=2807\n"
     ]
    },
    {
     "name": "stderr",
     "output_type": "stream",
     "text": [
      "/home/hanliu/miniconda3/envs/clustering/lib/python3.7/site-packages/ALLCools/dmr/fimo.py:60: FutureWarning: to_msgpack is deprecated and will be removed in a future version.\n",
      "It is recommended to use pyarrow for on-the-wire transmission of pandas objects.\n",
      "  final_df.to_msgpack(output_path, compress='zlib')\n"
     ]
    },
    {
     "name": "stdout",
     "output_type": "stream",
     "text": [
      "/home/hanliu/project/mouse_rostral_brain/DMR/SubType/raw/SubType-chr13/MotifScan.h5adtemp/MA0488.1.meme, N motif total=26156\n"
     ]
    },
    {
     "name": "stderr",
     "output_type": "stream",
     "text": [
      "/home/hanliu/miniconda3/envs/clustering/lib/python3.7/site-packages/ALLCools/dmr/fimo.py:60: FutureWarning: to_msgpack is deprecated and will be removed in a future version.\n",
      "It is recommended to use pyarrow for on-the-wire transmission of pandas objects.\n",
      "  final_df.to_msgpack(output_path, compress='zlib')\n"
     ]
    },
    {
     "name": "stdout",
     "output_type": "stream",
     "text": [
      "/home/hanliu/project/mouse_rostral_brain/DMR/SubType/raw/SubType-chr13/MotifScan.h5adtemp/MA0490.2.meme, N motif total=31491\n"
     ]
    },
    {
     "name": "stderr",
     "output_type": "stream",
     "text": [
      "/home/hanliu/miniconda3/envs/clustering/lib/python3.7/site-packages/ALLCools/dmr/fimo.py:60: FutureWarning: to_msgpack is deprecated and will be removed in a future version.\n",
      "It is recommended to use pyarrow for on-the-wire transmission of pandas objects.\n",
      "  final_df.to_msgpack(output_path, compress='zlib')\n"
     ]
    },
    {
     "name": "stdout",
     "output_type": "stream",
     "text": [
      "/home/hanliu/project/mouse_rostral_brain/DMR/SubType/raw/SubType-chr13/MotifScan.h5adtemp/MA1140.2.meme, N motif total=8750\n"
     ]
    },
    {
     "name": "stderr",
     "output_type": "stream",
     "text": [
      "/home/hanliu/miniconda3/envs/clustering/lib/python3.7/site-packages/ALLCools/dmr/fimo.py:60: FutureWarning: to_msgpack is deprecated and will be removed in a future version.\n",
      "It is recommended to use pyarrow for on-the-wire transmission of pandas objects.\n",
      "  final_df.to_msgpack(output_path, compress='zlib')\n"
     ]
    },
    {
     "name": "stdout",
     "output_type": "stream",
     "text": [
      "/home/hanliu/project/mouse_rostral_brain/DMR/SubType/raw/SubType-chr13/MotifScan.h5adtemp/MA1513.1.meme, N motif total=12562\n"
     ]
    },
    {
     "name": "stderr",
     "output_type": "stream",
     "text": [
      "/home/hanliu/miniconda3/envs/clustering/lib/python3.7/site-packages/ALLCools/dmr/fimo.py:60: FutureWarning: to_msgpack is deprecated and will be removed in a future version.\n",
      "It is recommended to use pyarrow for on-the-wire transmission of pandas objects.\n",
      "  final_df.to_msgpack(output_path, compress='zlib')\n"
     ]
    },
    {
     "name": "stdout",
     "output_type": "stream",
     "text": [
      "/home/hanliu/project/mouse_rostral_brain/DMR/SubType/raw/SubType-chr13/MotifScan.h5adtemp/MA0489.1.meme, N motif total=32850\n"
     ]
    },
    {
     "name": "stderr",
     "output_type": "stream",
     "text": [
      "/home/hanliu/miniconda3/envs/clustering/lib/python3.7/site-packages/ALLCools/dmr/fimo.py:60: FutureWarning: to_msgpack is deprecated and will be removed in a future version.\n",
      "It is recommended to use pyarrow for on-the-wire transmission of pandas objects.\n",
      "  final_df.to_msgpack(output_path, compress='zlib')\n"
     ]
    },
    {
     "name": "stdout",
     "output_type": "stream",
     "text": [
      "/home/hanliu/project/mouse_rostral_brain/DMR/SubType/raw/SubType-chr13/MotifScan.h5adtemp/MA1512.1.meme, N motif total=58324\n"
     ]
    },
    {
     "name": "stderr",
     "output_type": "stream",
     "text": [
      "/home/hanliu/miniconda3/envs/clustering/lib/python3.7/site-packages/ALLCools/dmr/fimo.py:60: FutureWarning: to_msgpack is deprecated and will be removed in a future version.\n",
      "It is recommended to use pyarrow for on-the-wire transmission of pandas objects.\n",
      "  final_df.to_msgpack(output_path, compress='zlib')\n"
     ]
    },
    {
     "name": "stdout",
     "output_type": "stream",
     "text": [
      "/home/hanliu/project/mouse_rostral_brain/DMR/SubType/raw/SubType-chr13/MotifScan.h5adtemp/MA0493.1.meme, N motif total=53682\n"
     ]
    },
    {
     "name": "stderr",
     "output_type": "stream",
     "text": [
      "/home/hanliu/miniconda3/envs/clustering/lib/python3.7/site-packages/ALLCools/dmr/fimo.py:60: FutureWarning: to_msgpack is deprecated and will be removed in a future version.\n",
      "It is recommended to use pyarrow for on-the-wire transmission of pandas objects.\n",
      "  final_df.to_msgpack(output_path, compress='zlib')\n"
     ]
    },
    {
     "name": "stdout",
     "output_type": "stream",
     "text": [
      "/home/hanliu/project/mouse_rostral_brain/DMR/SubType/raw/SubType-chr13/MotifScan.h5adtemp/MA0491.2.meme, N motif total=30820\n"
     ]
    },
    {
     "name": "stderr",
     "output_type": "stream",
     "text": [
      "/home/hanliu/miniconda3/envs/clustering/lib/python3.7/site-packages/ALLCools/dmr/fimo.py:60: FutureWarning: to_msgpack is deprecated and will be removed in a future version.\n",
      "It is recommended to use pyarrow for on-the-wire transmission of pandas objects.\n",
      "  final_df.to_msgpack(output_path, compress='zlib')\n"
     ]
    },
    {
     "name": "stdout",
     "output_type": "stream",
     "text": [
      "/home/hanliu/project/mouse_rostral_brain/DMR/SubType/raw/SubType-chr13/MotifScan.h5adtemp/MA1511.1.meme, N motif total=54233\n"
     ]
    },
    {
     "name": "stderr",
     "output_type": "stream",
     "text": [
      "/home/hanliu/miniconda3/envs/clustering/lib/python3.7/site-packages/ALLCools/dmr/fimo.py:60: FutureWarning: to_msgpack is deprecated and will be removed in a future version.\n",
      "It is recommended to use pyarrow for on-the-wire transmission of pandas objects.\n",
      "  final_df.to_msgpack(output_path, compress='zlib')\n"
     ]
    },
    {
     "name": "stdout",
     "output_type": "stream",
     "text": [
      "/home/hanliu/project/mouse_rostral_brain/DMR/SubType/raw/SubType-chr13/MotifScan.h5adtemp/MA0492.1.meme, N motif total=26090\n"
     ]
    },
    {
     "name": "stderr",
     "output_type": "stream",
     "text": [
      "/home/hanliu/miniconda3/envs/clustering/lib/python3.7/site-packages/ALLCools/dmr/fimo.py:60: FutureWarning: to_msgpack is deprecated and will be removed in a future version.\n",
      "It is recommended to use pyarrow for on-the-wire transmission of pandas objects.\n",
      "  final_df.to_msgpack(output_path, compress='zlib')\n"
     ]
    },
    {
     "name": "stdout",
     "output_type": "stream",
     "text": [
      "/home/hanliu/project/mouse_rostral_brain/DMR/SubType/raw/SubType-chr13/MotifScan.h5adtemp/MA1516.1.meme, N motif total=23813\n"
     ]
    },
    {
     "name": "stderr",
     "output_type": "stream",
     "text": [
      "/home/hanliu/miniconda3/envs/clustering/lib/python3.7/site-packages/ALLCools/dmr/fimo.py:60: FutureWarning: to_msgpack is deprecated and will be removed in a future version.\n",
      "It is recommended to use pyarrow for on-the-wire transmission of pandas objects.\n",
      "  final_df.to_msgpack(output_path, compress='zlib')\n"
     ]
    },
    {
     "name": "stdout",
     "output_type": "stream",
     "text": [
      "/home/hanliu/project/mouse_rostral_brain/DMR/SubType/raw/SubType-chr13/MotifScan.h5adtemp/MA1515.1.meme, N motif total=54152\n"
     ]
    },
    {
     "name": "stderr",
     "output_type": "stream",
     "text": [
      "/home/hanliu/miniconda3/envs/clustering/lib/python3.7/site-packages/ALLCools/dmr/fimo.py:60: FutureWarning: to_msgpack is deprecated and will be removed in a future version.\n",
      "It is recommended to use pyarrow for on-the-wire transmission of pandas objects.\n",
      "  final_df.to_msgpack(output_path, compress='zlib')\n"
     ]
    },
    {
     "name": "stdout",
     "output_type": "stream",
     "text": [
      "/home/hanliu/project/mouse_rostral_brain/DMR/SubType/raw/SubType-chr13/MotifScan.h5adtemp/MA0741.1.meme, N motif total=95156\n"
     ]
    },
    {
     "name": "stderr",
     "output_type": "stream",
     "text": [
      "/home/hanliu/miniconda3/envs/clustering/lib/python3.7/site-packages/ALLCools/dmr/fimo.py:60: FutureWarning: to_msgpack is deprecated and will be removed in a future version.\n",
      "It is recommended to use pyarrow for on-the-wire transmission of pandas objects.\n",
      "  final_df.to_msgpack(output_path, compress='zlib')\n"
     ]
    },
    {
     "name": "stdout",
     "output_type": "stream",
     "text": [
      "Finish count 300 motifs.\n"
     ]
    },
    {
     "name": "stdout",
     "output_type": "stream",
     "text": [
      "/home/hanliu/project/mouse_rostral_brain/DMR/SubType/raw/SubType-chr13/MotifScan.h5adtemp/MA0742.1.meme, N motif total=30116\n"
     ]
    },
    {
     "name": "stderr",
     "output_type": "stream",
     "text": [
      "/home/hanliu/miniconda3/envs/clustering/lib/python3.7/site-packages/ALLCools/dmr/fimo.py:60: FutureWarning: to_msgpack is deprecated and will be removed in a future version.\n",
      "It is recommended to use pyarrow for on-the-wire transmission of pandas objects.\n",
      "  final_df.to_msgpack(output_path, compress='zlib')\n"
     ]
    },
    {
     "name": "stdout",
     "output_type": "stream",
     "text": [
      "/home/hanliu/project/mouse_rostral_brain/DMR/SubType/raw/SubType-chr13/MotifScan.h5adtemp/MA0740.1.meme, N motif total=31835\n"
     ]
    },
    {
     "name": "stderr",
     "output_type": "stream",
     "text": [
      "/home/hanliu/miniconda3/envs/clustering/lib/python3.7/site-packages/ALLCools/dmr/fimo.py:60: FutureWarning: to_msgpack is deprecated and will be removed in a future version.\n",
      "It is recommended to use pyarrow for on-the-wire transmission of pandas objects.\n",
      "  final_df.to_msgpack(output_path, compress='zlib')\n"
     ]
    },
    {
     "name": "stdout",
     "output_type": "stream",
     "text": [
      "/home/hanliu/project/mouse_rostral_brain/DMR/SubType/raw/SubType-chr13/MotifScan.h5adtemp/MA0599.1.meme, N motif total=97240\n"
     ]
    },
    {
     "name": "stderr",
     "output_type": "stream",
     "text": [
      "/home/hanliu/miniconda3/envs/clustering/lib/python3.7/site-packages/ALLCools/dmr/fimo.py:60: FutureWarning: to_msgpack is deprecated and will be removed in a future version.\n",
      "It is recommended to use pyarrow for on-the-wire transmission of pandas objects.\n",
      "  final_df.to_msgpack(output_path, compress='zlib')\n"
     ]
    },
    {
     "name": "stdout",
     "output_type": "stream",
     "text": [
      "/home/hanliu/project/mouse_rostral_brain/DMR/SubType/raw/SubType-chr13/MotifScan.h5adtemp/MA0657.1.meme, N motif total=8249\n"
     ]
    },
    {
     "name": "stderr",
     "output_type": "stream",
     "text": [
      "/home/hanliu/miniconda3/envs/clustering/lib/python3.7/site-packages/ALLCools/dmr/fimo.py:60: FutureWarning: to_msgpack is deprecated and will be removed in a future version.\n",
      "It is recommended to use pyarrow for on-the-wire transmission of pandas objects.\n",
      "  final_df.to_msgpack(output_path, compress='zlib')\n"
     ]
    },
    {
     "name": "stdout",
     "output_type": "stream",
     "text": [
      "/home/hanliu/project/mouse_rostral_brain/DMR/SubType/raw/SubType-chr13/MotifScan.h5adtemp/MA0039.4.meme, N motif total=92809\n"
     ]
    },
    {
     "name": "stderr",
     "output_type": "stream",
     "text": [
      "/home/hanliu/miniconda3/envs/clustering/lib/python3.7/site-packages/ALLCools/dmr/fimo.py:60: FutureWarning: to_msgpack is deprecated and will be removed in a future version.\n",
      "It is recommended to use pyarrow for on-the-wire transmission of pandas objects.\n",
      "  final_df.to_msgpack(output_path, compress='zlib')\n"
     ]
    },
    {
     "name": "stdout",
     "output_type": "stream",
     "text": [
      "/home/hanliu/project/mouse_rostral_brain/DMR/SubType/raw/SubType-chr13/MotifScan.h5adtemp/MA1514.1.meme, N motif total=73443\n"
     ]
    },
    {
     "name": "stderr",
     "output_type": "stream",
     "text": [
      "/home/hanliu/miniconda3/envs/clustering/lib/python3.7/site-packages/ALLCools/dmr/fimo.py:60: FutureWarning: to_msgpack is deprecated and will be removed in a future version.\n",
      "It is recommended to use pyarrow for on-the-wire transmission of pandas objects.\n",
      "  final_df.to_msgpack(output_path, compress='zlib')\n"
     ]
    },
    {
     "name": "stdout",
     "output_type": "stream",
     "text": [
      "/home/hanliu/project/mouse_rostral_brain/DMR/SubType/raw/SubType-chr13/MotifScan.h5adtemp/MA0618.1.meme, N motif total=17904\n"
     ]
    },
    {
     "name": "stderr",
     "output_type": "stream",
     "text": [
      "/home/hanliu/miniconda3/envs/clustering/lib/python3.7/site-packages/ALLCools/dmr/fimo.py:60: FutureWarning: to_msgpack is deprecated and will be removed in a future version.\n",
      "It is recommended to use pyarrow for on-the-wire transmission of pandas objects.\n",
      "  final_df.to_msgpack(output_path, compress='zlib')\n"
     ]
    },
    {
     "name": "stdout",
     "output_type": "stream",
     "text": [
      "/home/hanliu/project/mouse_rostral_brain/DMR/SubType/raw/SubType-chr13/MotifScan.h5adtemp/MA1517.1.meme, N motif total=36917\n"
     ]
    },
    {
     "name": "stderr",
     "output_type": "stream",
     "text": [
      "/home/hanliu/miniconda3/envs/clustering/lib/python3.7/site-packages/ALLCools/dmr/fimo.py:60: FutureWarning: to_msgpack is deprecated and will be removed in a future version.\n",
      "It is recommended to use pyarrow for on-the-wire transmission of pandas objects.\n",
      "  final_df.to_msgpack(output_path, compress='zlib')\n"
     ]
    },
    {
     "name": "stdout",
     "output_type": "stream",
     "text": [
      "/home/hanliu/project/mouse_rostral_brain/DMR/SubType/raw/SubType-chr13/MotifScan.h5adtemp/MA0699.1.meme, N motif total=15813\n"
     ]
    },
    {
     "name": "stderr",
     "output_type": "stream",
     "text": [
      "/home/hanliu/miniconda3/envs/clustering/lib/python3.7/site-packages/ALLCools/dmr/fimo.py:60: FutureWarning: to_msgpack is deprecated and will be removed in a future version.\n",
      "It is recommended to use pyarrow for on-the-wire transmission of pandas objects.\n",
      "  final_df.to_msgpack(output_path, compress='zlib')\n"
     ]
    },
    {
     "name": "stdout",
     "output_type": "stream",
     "text": [
      "/home/hanliu/project/mouse_rostral_brain/DMR/SubType/raw/SubType-chr13/MotifScan.h5adtemp/MA1518.1.meme, N motif total=11441\n"
     ]
    },
    {
     "name": "stderr",
     "output_type": "stream",
     "text": [
      "/home/hanliu/miniconda3/envs/clustering/lib/python3.7/site-packages/ALLCools/dmr/fimo.py:60: FutureWarning: to_msgpack is deprecated and will be removed in a future version.\n",
      "It is recommended to use pyarrow for on-the-wire transmission of pandas objects.\n",
      "  final_df.to_msgpack(output_path, compress='zlib')\n"
     ]
    },
    {
     "name": "stdout",
     "output_type": "stream",
     "text": [
      "/home/hanliu/project/mouse_rostral_brain/DMR/SubType/raw/SubType-chr13/MotifScan.h5adtemp/MA1519.1.meme, N motif total=16242\n"
     ]
    },
    {
     "name": "stderr",
     "output_type": "stream",
     "text": [
      "/home/hanliu/miniconda3/envs/clustering/lib/python3.7/site-packages/ALLCools/dmr/fimo.py:60: FutureWarning: to_msgpack is deprecated and will be removed in a future version.\n",
      "It is recommended to use pyarrow for on-the-wire transmission of pandas objects.\n",
      "  final_df.to_msgpack(output_path, compress='zlib')\n"
     ]
    },
    {
     "name": "stdout",
     "output_type": "stream",
     "text": [
      "/home/hanliu/project/mouse_rostral_brain/DMR/SubType/raw/SubType-chr13/MotifScan.h5adtemp/MA1107.2.meme, N motif total=280965\n"
     ]
    },
    {
     "name": "stderr",
     "output_type": "stream",
     "text": [
      "/home/hanliu/miniconda3/envs/clustering/lib/python3.7/site-packages/ALLCools/dmr/fimo.py:60: FutureWarning: to_msgpack is deprecated and will be removed in a future version.\n",
      "It is recommended to use pyarrow for on-the-wire transmission of pandas objects.\n",
      "  final_df.to_msgpack(output_path, compress='zlib')\n"
     ]
    },
    {
     "name": "stdout",
     "output_type": "stream",
     "text": [
      "/home/hanliu/project/mouse_rostral_brain/DMR/SubType/raw/SubType-chr13/MotifScan.h5adtemp/MA0768.1.meme, N motif total=45427\n"
     ]
    },
    {
     "name": "stderr",
     "output_type": "stream",
     "text": [
      "/home/hanliu/miniconda3/envs/clustering/lib/python3.7/site-packages/ALLCools/dmr/fimo.py:60: FutureWarning: to_msgpack is deprecated and will be removed in a future version.\n",
      "It is recommended to use pyarrow for on-the-wire transmission of pandas objects.\n",
      "  final_df.to_msgpack(output_path, compress='zlib')\n"
     ]
    },
    {
     "name": "stdout",
     "output_type": "stream",
     "text": [
      "/home/hanliu/project/mouse_rostral_brain/DMR/SubType/raw/SubType-chr13/MotifScan.h5adtemp/MA0704.1.meme, N motif total=23314\n"
     ]
    },
    {
     "name": "stderr",
     "output_type": "stream",
     "text": [
      "/home/hanliu/miniconda3/envs/clustering/lib/python3.7/site-packages/ALLCools/dmr/fimo.py:60: FutureWarning: to_msgpack is deprecated and will be removed in a future version.\n",
      "It is recommended to use pyarrow for on-the-wire transmission of pandas objects.\n",
      "  final_df.to_msgpack(output_path, compress='zlib')\n"
     ]
    },
    {
     "name": "stdout",
     "output_type": "stream",
     "text": [
      "/home/hanliu/project/mouse_rostral_brain/DMR/SubType/raw/SubType-chr13/MotifScan.h5adtemp/MA0700.2.meme, N motif total=17776\n"
     ]
    },
    {
     "name": "stderr",
     "output_type": "stream",
     "text": [
      "/home/hanliu/miniconda3/envs/clustering/lib/python3.7/site-packages/ALLCools/dmr/fimo.py:60: FutureWarning: to_msgpack is deprecated and will be removed in a future version.\n",
      "It is recommended to use pyarrow for on-the-wire transmission of pandas objects.\n",
      "  final_df.to_msgpack(output_path, compress='zlib')\n"
     ]
    },
    {
     "name": "stdout",
     "output_type": "stream",
     "text": [
      "/home/hanliu/project/mouse_rostral_brain/DMR/SubType/raw/SubType-chr13/MotifScan.h5adtemp/MA0701.2.meme, N motif total=16279\n"
     ]
    },
    {
     "name": "stderr",
     "output_type": "stream",
     "text": [
      "/home/hanliu/miniconda3/envs/clustering/lib/python3.7/site-packages/ALLCools/dmr/fimo.py:60: FutureWarning: to_msgpack is deprecated and will be removed in a future version.\n",
      "It is recommended to use pyarrow for on-the-wire transmission of pandas objects.\n",
      "  final_df.to_msgpack(output_path, compress='zlib')\n"
     ]
    },
    {
     "name": "stdout",
     "output_type": "stream",
     "text": [
      "/home/hanliu/project/mouse_rostral_brain/DMR/SubType/raw/SubType-chr13/MotifScan.h5adtemp/MA0702.2.meme, N motif total=18162\n"
     ]
    },
    {
     "name": "stderr",
     "output_type": "stream",
     "text": [
      "/home/hanliu/miniconda3/envs/clustering/lib/python3.7/site-packages/ALLCools/dmr/fimo.py:60: FutureWarning: to_msgpack is deprecated and will be removed in a future version.\n",
      "It is recommended to use pyarrow for on-the-wire transmission of pandas objects.\n",
      "  final_df.to_msgpack(output_path, compress='zlib')\n"
     ]
    },
    {
     "name": "stdout",
     "output_type": "stream",
     "text": [
      "/home/hanliu/project/mouse_rostral_brain/DMR/SubType/raw/SubType-chr13/MotifScan.h5adtemp/MA0658.1.meme, N motif total=16907\n"
     ]
    },
    {
     "name": "stderr",
     "output_type": "stream",
     "text": [
      "/home/hanliu/miniconda3/envs/clustering/lib/python3.7/site-packages/ALLCools/dmr/fimo.py:60: FutureWarning: to_msgpack is deprecated and will be removed in a future version.\n",
      "It is recommended to use pyarrow for on-the-wire transmission of pandas objects.\n",
      "  final_df.to_msgpack(output_path, compress='zlib')\n"
     ]
    },
    {
     "name": "stdout",
     "output_type": "stream",
     "text": [
      "/home/hanliu/project/mouse_rostral_brain/DMR/SubType/raw/SubType-chr13/MotifScan.h5adtemp/MA0705.1.meme, N motif total=14695\n"
     ]
    },
    {
     "name": "stderr",
     "output_type": "stream",
     "text": [
      "/home/hanliu/miniconda3/envs/clustering/lib/python3.7/site-packages/ALLCools/dmr/fimo.py:60: FutureWarning: to_msgpack is deprecated and will be removed in a future version.\n",
      "It is recommended to use pyarrow for on-the-wire transmission of pandas objects.\n",
      "  final_df.to_msgpack(output_path, compress='zlib')\n"
     ]
    },
    {
     "name": "stdout",
     "output_type": "stream",
     "text": [
      "/home/hanliu/project/mouse_rostral_brain/DMR/SubType/raw/SubType-chr13/MotifScan.h5adtemp/MA0619.1.meme, N motif total=35808\n"
     ]
    },
    {
     "name": "stderr",
     "output_type": "stream",
     "text": [
      "/home/hanliu/miniconda3/envs/clustering/lib/python3.7/site-packages/ALLCools/dmr/fimo.py:60: FutureWarning: to_msgpack is deprecated and will be removed in a future version.\n",
      "It is recommended to use pyarrow for on-the-wire transmission of pandas objects.\n",
      "  final_df.to_msgpack(output_path, compress='zlib')\n"
     ]
    },
    {
     "name": "stdout",
     "output_type": "stream",
     "text": [
      "/home/hanliu/project/mouse_rostral_brain/DMR/SubType/raw/SubType-chr13/MotifScan.h5adtemp/MA0135.1.meme, N motif total=33218\n"
     ]
    },
    {
     "name": "stderr",
     "output_type": "stream",
     "text": [
      "/home/hanliu/miniconda3/envs/clustering/lib/python3.7/site-packages/ALLCools/dmr/fimo.py:60: FutureWarning: to_msgpack is deprecated and will be removed in a future version.\n",
      "It is recommended to use pyarrow for on-the-wire transmission of pandas objects.\n",
      "  final_df.to_msgpack(output_path, compress='zlib')\n"
     ]
    },
    {
     "name": "stdout",
     "output_type": "stream",
     "text": [
      "/home/hanliu/project/mouse_rostral_brain/DMR/SubType/raw/SubType-chr13/MotifScan.h5adtemp/MA0703.2.meme, N motif total=28073\n"
     ]
    },
    {
     "name": "stderr",
     "output_type": "stream",
     "text": [
      "/home/hanliu/miniconda3/envs/clustering/lib/python3.7/site-packages/ALLCools/dmr/fimo.py:60: FutureWarning: to_msgpack is deprecated and will be removed in a future version.\n",
      "It is recommended to use pyarrow for on-the-wire transmission of pandas objects.\n",
      "  final_df.to_msgpack(output_path, compress='zlib')\n"
     ]
    },
    {
     "name": "stdout",
     "output_type": "stream",
     "text": [
      "/home/hanliu/project/mouse_rostral_brain/DMR/SubType/raw/SubType-chr13/MotifScan.h5adtemp/MA0117.2.meme, N motif total=26878\n"
     ]
    },
    {
     "name": "stderr",
     "output_type": "stream",
     "text": [
      "/home/hanliu/miniconda3/envs/clustering/lib/python3.7/site-packages/ALLCools/dmr/fimo.py:60: FutureWarning: to_msgpack is deprecated and will be removed in a future version.\n",
      "It is recommended to use pyarrow for on-the-wire transmission of pandas objects.\n",
      "  final_df.to_msgpack(output_path, compress='zlib')\n"
     ]
    },
    {
     "name": "stdout",
     "output_type": "stream",
     "text": [
      "/home/hanliu/project/mouse_rostral_brain/DMR/SubType/raw/SubType-chr13/MotifScan.h5adtemp/MA0501.1.meme, N motif total=29225\n"
     ]
    },
    {
     "name": "stderr",
     "output_type": "stream",
     "text": [
      "/home/hanliu/miniconda3/envs/clustering/lib/python3.7/site-packages/ALLCools/dmr/fimo.py:60: FutureWarning: to_msgpack is deprecated and will be removed in a future version.\n",
      "It is recommended to use pyarrow for on-the-wire transmission of pandas objects.\n",
      "  final_df.to_msgpack(output_path, compress='zlib')\n"
     ]
    },
    {
     "name": "stdout",
     "output_type": "stream",
     "text": [
      "/home/hanliu/project/mouse_rostral_brain/DMR/SubType/raw/SubType-chr13/MotifScan.h5adtemp/MA1520.1.meme, N motif total=31737\n"
     ]
    },
    {
     "name": "stderr",
     "output_type": "stream",
     "text": [
      "/home/hanliu/miniconda3/envs/clustering/lib/python3.7/site-packages/ALLCools/dmr/fimo.py:60: FutureWarning: to_msgpack is deprecated and will be removed in a future version.\n",
      "It is recommended to use pyarrow for on-the-wire transmission of pandas objects.\n",
      "  final_df.to_msgpack(output_path, compress='zlib')\n"
     ]
    },
    {
     "name": "stdout",
     "output_type": "stream",
     "text": [
      "/home/hanliu/project/mouse_rostral_brain/DMR/SubType/raw/SubType-chr13/MotifScan.h5adtemp/MA0059.1.meme, N motif total=25173\n"
     ]
    },
    {
     "name": "stderr",
     "output_type": "stream",
     "text": [
      "/home/hanliu/miniconda3/envs/clustering/lib/python3.7/site-packages/ALLCools/dmr/fimo.py:60: FutureWarning: to_msgpack is deprecated and will be removed in a future version.\n",
      "It is recommended to use pyarrow for on-the-wire transmission of pandas objects.\n",
      "  final_df.to_msgpack(output_path, compress='zlib')\n"
     ]
    },
    {
     "name": "stdout",
     "output_type": "stream",
     "text": [
      "/home/hanliu/project/mouse_rostral_brain/DMR/SubType/raw/SubType-chr13/MotifScan.h5adtemp/MA1521.1.meme, N motif total=30840\n"
     ]
    },
    {
     "name": "stderr",
     "output_type": "stream",
     "text": [
      "/home/hanliu/miniconda3/envs/clustering/lib/python3.7/site-packages/ALLCools/dmr/fimo.py:60: FutureWarning: to_msgpack is deprecated and will be removed in a future version.\n",
      "It is recommended to use pyarrow for on-the-wire transmission of pandas objects.\n",
      "  final_df.to_msgpack(output_path, compress='zlib')\n"
     ]
    },
    {
     "name": "stdout",
     "output_type": "stream",
     "text": [
      "/home/hanliu/project/mouse_rostral_brain/DMR/SubType/raw/SubType-chr13/MotifScan.h5adtemp/MA0498.2.meme, N motif total=17487\n"
     ]
    },
    {
     "name": "stderr",
     "output_type": "stream",
     "text": [
      "/home/hanliu/miniconda3/envs/clustering/lib/python3.7/site-packages/ALLCools/dmr/fimo.py:60: FutureWarning: to_msgpack is deprecated and will be removed in a future version.\n",
      "It is recommended to use pyarrow for on-the-wire transmission of pandas objects.\n",
      "  final_df.to_msgpack(output_path, compress='zlib')\n"
     ]
    },
    {
     "name": "stdout",
     "output_type": "stream",
     "text": [
      "/home/hanliu/project/mouse_rostral_brain/DMR/SubType/raw/SubType-chr13/MotifScan.h5adtemp/MA0058.3.meme, N motif total=16298\n"
     ]
    },
    {
     "name": "stderr",
     "output_type": "stream",
     "text": [
      "/home/hanliu/miniconda3/envs/clustering/lib/python3.7/site-packages/ALLCools/dmr/fimo.py:60: FutureWarning: to_msgpack is deprecated and will be removed in a future version.\n",
      "It is recommended to use pyarrow for on-the-wire transmission of pandas objects.\n",
      "  final_df.to_msgpack(output_path, compress='zlib')\n"
     ]
    },
    {
     "name": "stdout",
     "output_type": "stream",
     "text": [
      "/home/hanliu/project/mouse_rostral_brain/DMR/SubType/raw/SubType-chr13/MotifScan.h5adtemp/MA0775.1.meme, N motif total=28316\n"
     ]
    },
    {
     "name": "stderr",
     "output_type": "stream",
     "text": [
      "/home/hanliu/miniconda3/envs/clustering/lib/python3.7/site-packages/ALLCools/dmr/fimo.py:60: FutureWarning: to_msgpack is deprecated and will be removed in a future version.\n",
      "It is recommended to use pyarrow for on-the-wire transmission of pandas objects.\n",
      "  final_df.to_msgpack(output_path, compress='zlib')\n"
     ]
    },
    {
     "name": "stdout",
     "output_type": "stream",
     "text": [
      "/home/hanliu/project/mouse_rostral_brain/DMR/SubType/raw/SubType-chr13/MotifScan.h5adtemp/MA0660.1.meme, N motif total=22068\n"
     ]
    },
    {
     "name": "stderr",
     "output_type": "stream",
     "text": [
      "/home/hanliu/miniconda3/envs/clustering/lib/python3.7/site-packages/ALLCools/dmr/fimo.py:60: FutureWarning: to_msgpack is deprecated and will be removed in a future version.\n",
      "It is recommended to use pyarrow for on-the-wire transmission of pandas objects.\n",
      "  final_df.to_msgpack(output_path, compress='zlib')\n"
     ]
    },
    {
     "name": "stdout",
     "output_type": "stream",
     "text": [
      "/home/hanliu/project/mouse_rostral_brain/DMR/SubType/raw/SubType-chr13/MotifScan.h5adtemp/MA1522.1.meme, N motif total=48034\n"
     ]
    },
    {
     "name": "stderr",
     "output_type": "stream",
     "text": [
      "/home/hanliu/miniconda3/envs/clustering/lib/python3.7/site-packages/ALLCools/dmr/fimo.py:60: FutureWarning: to_msgpack is deprecated and will be removed in a future version.\n",
      "It is recommended to use pyarrow for on-the-wire transmission of pandas objects.\n",
      "  final_df.to_msgpack(output_path, compress='zlib')\n"
     ]
    },
    {
     "name": "stdout",
     "output_type": "stream",
     "text": [
      "/home/hanliu/project/mouse_rostral_brain/DMR/SubType/raw/SubType-chr13/MotifScan.h5adtemp/MA0774.1.meme, N motif total=34222\n"
     ]
    },
    {
     "name": "stderr",
     "output_type": "stream",
     "text": [
      "/home/hanliu/miniconda3/envs/clustering/lib/python3.7/site-packages/ALLCools/dmr/fimo.py:60: FutureWarning: to_msgpack is deprecated and will be removed in a future version.\n",
      "It is recommended to use pyarrow for on-the-wire transmission of pandas objects.\n",
      "  final_df.to_msgpack(output_path, compress='zlib')\n"
     ]
    },
    {
     "name": "stdout",
     "output_type": "stream",
     "text": [
      "/home/hanliu/project/mouse_rostral_brain/DMR/SubType/raw/SubType-chr13/MotifScan.h5adtemp/MA0659.2.meme, N motif total=35945\n"
     ]
    },
    {
     "name": "stderr",
     "output_type": "stream",
     "text": [
      "/home/hanliu/miniconda3/envs/clustering/lib/python3.7/site-packages/ALLCools/dmr/fimo.py:60: FutureWarning: to_msgpack is deprecated and will be removed in a future version.\n",
      "It is recommended to use pyarrow for on-the-wire transmission of pandas objects.\n",
      "  final_df.to_msgpack(output_path, compress='zlib')\n"
     ]
    },
    {
     "name": "stdout",
     "output_type": "stream",
     "text": [
      "/home/hanliu/project/mouse_rostral_brain/DMR/SubType/raw/SubType-chr13/MotifScan.h5adtemp/MA0495.3.meme, N motif total=34693\n"
     ]
    },
    {
     "name": "stderr",
     "output_type": "stream",
     "text": [
      "/home/hanliu/miniconda3/envs/clustering/lib/python3.7/site-packages/ALLCools/dmr/fimo.py:60: FutureWarning: to_msgpack is deprecated and will be removed in a future version.\n",
      "It is recommended to use pyarrow for on-the-wire transmission of pandas objects.\n",
      "  final_df.to_msgpack(output_path, compress='zlib')\n"
     ]
    },
    {
     "name": "stdout",
     "output_type": "stream",
     "text": [
      "/home/hanliu/project/mouse_rostral_brain/DMR/SubType/raw/SubType-chr13/MotifScan.h5adtemp/MA0496.3.meme, N motif total=43071\n"
     ]
    },
    {
     "name": "stderr",
     "output_type": "stream",
     "text": [
      "/home/hanliu/miniconda3/envs/clustering/lib/python3.7/site-packages/ALLCools/dmr/fimo.py:60: FutureWarning: to_msgpack is deprecated and will be removed in a future version.\n",
      "It is recommended to use pyarrow for on-the-wire transmission of pandas objects.\n",
      "  final_df.to_msgpack(output_path, compress='zlib')\n"
     ]
    },
    {
     "name": "stdout",
     "output_type": "stream",
     "text": [
      "/home/hanliu/project/mouse_rostral_brain/DMR/SubType/raw/SubType-chr13/MotifScan.h5adtemp/MA0029.1.meme, N motif total=28529\n"
     ]
    },
    {
     "name": "stderr",
     "output_type": "stream",
     "text": [
      "/home/hanliu/miniconda3/envs/clustering/lib/python3.7/site-packages/ALLCools/dmr/fimo.py:60: FutureWarning: to_msgpack is deprecated and will be removed in a future version.\n",
      "It is recommended to use pyarrow for on-the-wire transmission of pandas objects.\n",
      "  final_df.to_msgpack(output_path, compress='zlib')\n"
     ]
    },
    {
     "name": "stdout",
     "output_type": "stream",
     "text": [
      "/home/hanliu/project/mouse_rostral_brain/DMR/SubType/raw/SubType-chr13/MotifScan.h5adtemp/MA0773.1.meme, N motif total=27436\n"
     ]
    },
    {
     "name": "stderr",
     "output_type": "stream",
     "text": [
      "/home/hanliu/miniconda3/envs/clustering/lib/python3.7/site-packages/ALLCools/dmr/fimo.py:60: FutureWarning: to_msgpack is deprecated and will be removed in a future version.\n",
      "It is recommended to use pyarrow for on-the-wire transmission of pandas objects.\n",
      "  final_df.to_msgpack(output_path, compress='zlib')\n"
     ]
    },
    {
     "name": "stdout",
     "output_type": "stream",
     "text": [
      "/home/hanliu/project/mouse_rostral_brain/DMR/SubType/raw/SubType-chr13/MotifScan.h5adtemp/MA0801.1.meme, N motif total=20744\n"
     ]
    },
    {
     "name": "stderr",
     "output_type": "stream",
     "text": [
      "/home/hanliu/miniconda3/envs/clustering/lib/python3.7/site-packages/ALLCools/dmr/fimo.py:60: FutureWarning: to_msgpack is deprecated and will be removed in a future version.\n",
      "It is recommended to use pyarrow for on-the-wire transmission of pandas objects.\n",
      "  final_df.to_msgpack(output_path, compress='zlib')\n"
     ]
    },
    {
     "name": "stdout",
     "output_type": "stream",
     "text": [
      "/home/hanliu/project/mouse_rostral_brain/DMR/SubType/raw/SubType-chr13/MotifScan.h5adtemp/MA1639.1.meme, N motif total=22631\n"
     ]
    },
    {
     "name": "stderr",
     "output_type": "stream",
     "text": [
      "/home/hanliu/miniconda3/envs/clustering/lib/python3.7/site-packages/ALLCools/dmr/fimo.py:60: FutureWarning: to_msgpack is deprecated and will be removed in a future version.\n",
      "It is recommended to use pyarrow for on-the-wire transmission of pandas objects.\n",
      "  final_df.to_msgpack(output_path, compress='zlib')\n"
     ]
    },
    {
     "name": "stdout",
     "output_type": "stream",
     "text": [
      "/home/hanliu/project/mouse_rostral_brain/DMR/SubType/raw/SubType-chr13/MotifScan.h5adtemp/MA0661.1.meme, N motif total=14318\n"
     ]
    },
    {
     "name": "stderr",
     "output_type": "stream",
     "text": [
      "/home/hanliu/miniconda3/envs/clustering/lib/python3.7/site-packages/ALLCools/dmr/fimo.py:60: FutureWarning: to_msgpack is deprecated and will be removed in a future version.\n",
      "It is recommended to use pyarrow for on-the-wire transmission of pandas objects.\n",
      "  final_df.to_msgpack(output_path, compress='zlib')\n"
     ]
    },
    {
     "name": "stdout",
     "output_type": "stream",
     "text": [
      "/home/hanliu/project/mouse_rostral_brain/DMR/SubType/raw/SubType-chr13/MotifScan.h5adtemp/MA0497.1.meme, N motif total=50865\n"
     ]
    },
    {
     "name": "stderr",
     "output_type": "stream",
     "text": [
      "/home/hanliu/miniconda3/envs/clustering/lib/python3.7/site-packages/ALLCools/dmr/fimo.py:60: FutureWarning: to_msgpack is deprecated and will be removed in a future version.\n",
      "It is recommended to use pyarrow for on-the-wire transmission of pandas objects.\n",
      "  final_df.to_msgpack(output_path, compress='zlib')\n"
     ]
    },
    {
     "name": "stdout",
     "output_type": "stream",
     "text": [
      "/home/hanliu/project/mouse_rostral_brain/DMR/SubType/raw/SubType-chr13/MotifScan.h5adtemp/MA0706.1.meme, N motif total=16647\n"
     ]
    },
    {
     "name": "stderr",
     "output_type": "stream",
     "text": [
      "/home/hanliu/miniconda3/envs/clustering/lib/python3.7/site-packages/ALLCools/dmr/fimo.py:60: FutureWarning: to_msgpack is deprecated and will be removed in a future version.\n",
      "It is recommended to use pyarrow for on-the-wire transmission of pandas objects.\n",
      "  final_df.to_msgpack(output_path, compress='zlib')\n"
     ]
    },
    {
     "name": "stdout",
     "output_type": "stream",
     "text": [
      "/home/hanliu/project/mouse_rostral_brain/DMR/SubType/raw/SubType-chr13/MotifScan.h5adtemp/MA0052.4.meme, N motif total=50902\n"
     ]
    },
    {
     "name": "stderr",
     "output_type": "stream",
     "text": [
      "/home/hanliu/miniconda3/envs/clustering/lib/python3.7/site-packages/ALLCools/dmr/fimo.py:60: FutureWarning: to_msgpack is deprecated and will be removed in a future version.\n",
      "It is recommended to use pyarrow for on-the-wire transmission of pandas objects.\n",
      "  final_df.to_msgpack(output_path, compress='zlib')\n"
     ]
    },
    {
     "name": "stdout",
     "output_type": "stream",
     "text": [
      "/home/hanliu/project/mouse_rostral_brain/DMR/SubType/raw/SubType-chr13/MotifScan.h5adtemp/MA1640.1.meme, N motif total=25491\n"
     ]
    },
    {
     "name": "stderr",
     "output_type": "stream",
     "text": [
      "/home/hanliu/miniconda3/envs/clustering/lib/python3.7/site-packages/ALLCools/dmr/fimo.py:60: FutureWarning: to_msgpack is deprecated and will be removed in a future version.\n",
      "It is recommended to use pyarrow for on-the-wire transmission of pandas objects.\n",
      "  final_df.to_msgpack(output_path, compress='zlib')\n"
     ]
    },
    {
     "name": "stdout",
     "output_type": "stream",
     "text": [
      "/home/hanliu/project/mouse_rostral_brain/DMR/SubType/raw/SubType-chr13/MotifScan.h5adtemp/MA0662.1.meme, N motif total=19066\n"
     ]
    },
    {
     "name": "stderr",
     "output_type": "stream",
     "text": [
      "/home/hanliu/miniconda3/envs/clustering/lib/python3.7/site-packages/ALLCools/dmr/fimo.py:60: FutureWarning: to_msgpack is deprecated and will be removed in a future version.\n",
      "It is recommended to use pyarrow for on-the-wire transmission of pandas objects.\n",
      "  final_df.to_msgpack(output_path, compress='zlib')\n"
     ]
    },
    {
     "name": "stdout",
     "output_type": "stream",
     "text": [
      "/home/hanliu/project/mouse_rostral_brain/DMR/SubType/raw/SubType-chr13/MotifScan.h5adtemp/MA0622.1.meme, N motif total=15962\n"
     ]
    },
    {
     "name": "stderr",
     "output_type": "stream",
     "text": [
      "/home/hanliu/miniconda3/envs/clustering/lib/python3.7/site-packages/ALLCools/dmr/fimo.py:60: FutureWarning: to_msgpack is deprecated and will be removed in a future version.\n",
      "It is recommended to use pyarrow for on-the-wire transmission of pandas objects.\n",
      "  final_df.to_msgpack(output_path, compress='zlib')\n"
     ]
    },
    {
     "name": "stdout",
     "output_type": "stream",
     "text": [
      "/home/hanliu/project/mouse_rostral_brain/DMR/SubType/raw/SubType-chr13/MotifScan.h5adtemp/MA0663.1.meme, N motif total=10824\n"
     ]
    },
    {
     "name": "stderr",
     "output_type": "stream",
     "text": [
      "/home/hanliu/miniconda3/envs/clustering/lib/python3.7/site-packages/ALLCools/dmr/fimo.py:60: FutureWarning: to_msgpack is deprecated and will be removed in a future version.\n",
      "It is recommended to use pyarrow for on-the-wire transmission of pandas objects.\n",
      "  final_df.to_msgpack(output_path, compress='zlib')\n"
     ]
    },
    {
     "name": "stdout",
     "output_type": "stream",
     "text": [
      "/home/hanliu/project/mouse_rostral_brain/DMR/SubType/raw/SubType-chr13/MotifScan.h5adtemp/MA0620.3.meme, N motif total=24724\n"
     ]
    },
    {
     "name": "stderr",
     "output_type": "stream",
     "text": [
      "/home/hanliu/miniconda3/envs/clustering/lib/python3.7/site-packages/ALLCools/dmr/fimo.py:60: FutureWarning: to_msgpack is deprecated and will be removed in a future version.\n",
      "It is recommended to use pyarrow for on-the-wire transmission of pandas objects.\n",
      "  final_df.to_msgpack(output_path, compress='zlib')\n"
     ]
    },
    {
     "name": "stdout",
     "output_type": "stream",
     "text": [
      "/home/hanliu/project/mouse_rostral_brain/DMR/SubType/raw/SubType-chr13/MotifScan.h5adtemp/MA0664.1.meme, N motif total=13480\n"
     ]
    },
    {
     "name": "stderr",
     "output_type": "stream",
     "text": [
      "/home/hanliu/miniconda3/envs/clustering/lib/python3.7/site-packages/ALLCools/dmr/fimo.py:60: FutureWarning: to_msgpack is deprecated and will be removed in a future version.\n",
      "It is recommended to use pyarrow for on-the-wire transmission of pandas objects.\n",
      "  final_df.to_msgpack(output_path, compress='zlib')\n"
     ]
    },
    {
     "name": "stdout",
     "output_type": "stream",
     "text": [
      "/home/hanliu/project/mouse_rostral_brain/DMR/SubType/raw/SubType-chr13/MotifScan.h5adtemp/MA0708.1.meme, N motif total=14990\n"
     ]
    },
    {
     "name": "stderr",
     "output_type": "stream",
     "text": [
      "/home/hanliu/miniconda3/envs/clustering/lib/python3.7/site-packages/ALLCools/dmr/fimo.py:60: FutureWarning: to_msgpack is deprecated and will be removed in a future version.\n",
      "It is recommended to use pyarrow for on-the-wire transmission of pandas objects.\n",
      "  final_df.to_msgpack(output_path, compress='zlib')\n"
     ]
    },
    {
     "name": "stdout",
     "output_type": "stream",
     "text": [
      "/home/hanliu/project/mouse_rostral_brain/DMR/SubType/raw/SubType-chr13/MotifScan.h5adtemp/MA1523.1.meme, N motif total=30166\n"
     ]
    },
    {
     "name": "stderr",
     "output_type": "stream",
     "text": [
      "/home/hanliu/miniconda3/envs/clustering/lib/python3.7/site-packages/ALLCools/dmr/fimo.py:60: FutureWarning: to_msgpack is deprecated and will be removed in a future version.\n",
      "It is recommended to use pyarrow for on-the-wire transmission of pandas objects.\n",
      "  final_df.to_msgpack(output_path, compress='zlib')\n"
     ]
    },
    {
     "name": "stdout",
     "output_type": "stream",
     "text": [
      "/home/hanliu/project/mouse_rostral_brain/DMR/SubType/raw/SubType-chr13/MotifScan.h5adtemp/MA0825.1.meme, N motif total=15416\n"
     ]
    },
    {
     "name": "stderr",
     "output_type": "stream",
     "text": [
      "/home/hanliu/miniconda3/envs/clustering/lib/python3.7/site-packages/ALLCools/dmr/fimo.py:60: FutureWarning: to_msgpack is deprecated and will be removed in a future version.\n",
      "It is recommended to use pyarrow for on-the-wire transmission of pandas objects.\n",
      "  final_df.to_msgpack(output_path, compress='zlib')\n"
     ]
    },
    {
     "name": "stdout",
     "output_type": "stream",
     "text": [
      "/home/hanliu/project/mouse_rostral_brain/DMR/SubType/raw/SubType-chr13/MotifScan.h5adtemp/MA0666.1.meme, N motif total=13554\n"
     ]
    },
    {
     "name": "stderr",
     "output_type": "stream",
     "text": [
      "/home/hanliu/miniconda3/envs/clustering/lib/python3.7/site-packages/ALLCools/dmr/fimo.py:60: FutureWarning: to_msgpack is deprecated and will be removed in a future version.\n",
      "It is recommended to use pyarrow for on-the-wire transmission of pandas objects.\n",
      "  final_df.to_msgpack(output_path, compress='zlib')\n"
     ]
    },
    {
     "name": "stdout",
     "output_type": "stream",
     "text": [
      "/home/hanliu/project/mouse_rostral_brain/DMR/SubType/raw/SubType-chr13/MotifScan.h5adtemp/MA0707.1.meme, N motif total=22960\n"
     ]
    },
    {
     "name": "stderr",
     "output_type": "stream",
     "text": [
      "/home/hanliu/miniconda3/envs/clustering/lib/python3.7/site-packages/ALLCools/dmr/fimo.py:60: FutureWarning: to_msgpack is deprecated and will be removed in a future version.\n",
      "It is recommended to use pyarrow for on-the-wire transmission of pandas objects.\n",
      "  final_df.to_msgpack(output_path, compress='zlib')\n"
     ]
    },
    {
     "name": "stdout",
     "output_type": "stream",
     "text": [
      "/home/hanliu/project/mouse_rostral_brain/DMR/SubType/raw/SubType-chr13/MotifScan.h5adtemp/MA0709.1.meme, N motif total=14990\n"
     ]
    },
    {
     "name": "stderr",
     "output_type": "stream",
     "text": [
      "/home/hanliu/miniconda3/envs/clustering/lib/python3.7/site-packages/ALLCools/dmr/fimo.py:60: FutureWarning: to_msgpack is deprecated and will be removed in a future version.\n",
      "It is recommended to use pyarrow for on-the-wire transmission of pandas objects.\n",
      "  final_df.to_msgpack(output_path, compress='zlib')\n"
     ]
    },
    {
     "name": "stdout",
     "output_type": "stream",
     "text": [
      "/home/hanliu/project/mouse_rostral_brain/DMR/SubType/raw/SubType-chr13/MotifScan.h5adtemp/MA1524.1.meme, N motif total=27093\n"
     ]
    },
    {
     "name": "stderr",
     "output_type": "stream",
     "text": [
      "/home/hanliu/miniconda3/envs/clustering/lib/python3.7/site-packages/ALLCools/dmr/fimo.py:60: FutureWarning: to_msgpack is deprecated and will be removed in a future version.\n",
      "It is recommended to use pyarrow for on-the-wire transmission of pandas objects.\n",
      "  final_df.to_msgpack(output_path, compress='zlib')\n"
     ]
    },
    {
     "name": "stdout",
     "output_type": "stream",
     "text": [
      "/home/hanliu/project/mouse_rostral_brain/DMR/SubType/raw/SubType-chr13/MotifScan.h5adtemp/MA0665.1.meme, N motif total=40615\n"
     ]
    },
    {
     "name": "stderr",
     "output_type": "stream",
     "text": [
      "/home/hanliu/miniconda3/envs/clustering/lib/python3.7/site-packages/ALLCools/dmr/fimo.py:60: FutureWarning: to_msgpack is deprecated and will be removed in a future version.\n",
      "It is recommended to use pyarrow for on-the-wire transmission of pandas objects.\n",
      "  final_df.to_msgpack(output_path, compress='zlib')\n"
     ]
    },
    {
     "name": "stdout",
     "output_type": "stream",
     "text": [
      "/home/hanliu/project/mouse_rostral_brain/DMR/SubType/raw/SubType-chr13/MotifScan.h5adtemp/MA1108.2.meme, N motif total=47002\n"
     ]
    },
    {
     "name": "stderr",
     "output_type": "stream",
     "text": [
      "/home/hanliu/miniconda3/envs/clustering/lib/python3.7/site-packages/ALLCools/dmr/fimo.py:60: FutureWarning: to_msgpack is deprecated and will be removed in a future version.\n",
      "It is recommended to use pyarrow for on-the-wire transmission of pandas objects.\n",
      "  final_df.to_msgpack(output_path, compress='zlib')\n"
     ]
    },
    {
     "name": "stdout",
     "output_type": "stream",
     "text": [
      "/home/hanliu/project/mouse_rostral_brain/DMR/SubType/raw/SubType-chr13/MotifScan.h5adtemp/MA0776.1.meme, N motif total=5116\n"
     ]
    },
    {
     "name": "stderr",
     "output_type": "stream",
     "text": [
      "/home/hanliu/miniconda3/envs/clustering/lib/python3.7/site-packages/ALLCools/dmr/fimo.py:60: FutureWarning: to_msgpack is deprecated and will be removed in a future version.\n",
      "It is recommended to use pyarrow for on-the-wire transmission of pandas objects.\n",
      "  final_df.to_msgpack(output_path, compress='zlib')\n"
     ]
    },
    {
     "name": "stdout",
     "output_type": "stream",
     "text": [
      "/home/hanliu/project/mouse_rostral_brain/DMR/SubType/raw/SubType-chr13/MotifScan.h5adtemp/MA0863.1.meme, N motif total=11200\n"
     ]
    },
    {
     "name": "stderr",
     "output_type": "stream",
     "text": [
      "/home/hanliu/miniconda3/envs/clustering/lib/python3.7/site-packages/ALLCools/dmr/fimo.py:60: FutureWarning: to_msgpack is deprecated and will be removed in a future version.\n",
      "It is recommended to use pyarrow for on-the-wire transmission of pandas objects.\n",
      "  final_df.to_msgpack(output_path, compress='zlib')\n"
     ]
    },
    {
     "name": "stdout",
     "output_type": "stream",
     "text": [
      "/home/hanliu/project/mouse_rostral_brain/DMR/SubType/raw/SubType-chr13/MotifScan.h5adtemp/MA0100.3.meme, N motif total=24414\n"
     ]
    },
    {
     "name": "stderr",
     "output_type": "stream",
     "text": [
      "/home/hanliu/miniconda3/envs/clustering/lib/python3.7/site-packages/ALLCools/dmr/fimo.py:60: FutureWarning: to_msgpack is deprecated and will be removed in a future version.\n",
      "It is recommended to use pyarrow for on-the-wire transmission of pandas objects.\n",
      "  final_df.to_msgpack(output_path, compress='zlib')\n"
     ]
    },
    {
     "name": "stdout",
     "output_type": "stream",
     "text": [
      "/home/hanliu/project/mouse_rostral_brain/DMR/SubType/raw/SubType-chr13/MotifScan.h5adtemp/MA0777.1.meme, N motif total=5001\n"
     ]
    },
    {
     "name": "stderr",
     "output_type": "stream",
     "text": [
      "/home/hanliu/miniconda3/envs/clustering/lib/python3.7/site-packages/ALLCools/dmr/fimo.py:60: FutureWarning: to_msgpack is deprecated and will be removed in a future version.\n",
      "It is recommended to use pyarrow for on-the-wire transmission of pandas objects.\n",
      "  final_df.to_msgpack(output_path, compress='zlib')\n"
     ]
    },
    {
     "name": "stdout",
     "output_type": "stream",
     "text": [
      "/home/hanliu/project/mouse_rostral_brain/DMR/SubType/raw/SubType-chr13/MotifScan.h5adtemp/MA0147.3.meme, N motif total=20403\n"
     ]
    },
    {
     "name": "stderr",
     "output_type": "stream",
     "text": [
      "/home/hanliu/miniconda3/envs/clustering/lib/python3.7/site-packages/ALLCools/dmr/fimo.py:60: FutureWarning: to_msgpack is deprecated and will be removed in a future version.\n",
      "It is recommended to use pyarrow for on-the-wire transmission of pandas objects.\n",
      "  final_df.to_msgpack(output_path, compress='zlib')\n"
     ]
    },
    {
     "name": "stdout",
     "output_type": "stream",
     "text": [
      "/home/hanliu/project/mouse_rostral_brain/DMR/SubType/raw/SubType-chr13/MotifScan.h5adtemp/MA0667.1.meme, N motif total=33980\n"
     ]
    },
    {
     "name": "stderr",
     "output_type": "stream",
     "text": [
      "/home/hanliu/miniconda3/envs/clustering/lib/python3.7/site-packages/ALLCools/dmr/fimo.py:60: FutureWarning: to_msgpack is deprecated and will be removed in a future version.\n",
      "It is recommended to use pyarrow for on-the-wire transmission of pandas objects.\n",
      "  final_df.to_msgpack(output_path, compress='zlib')\n"
     ]
    },
    {
     "name": "stdout",
     "output_type": "stream",
     "text": [
      "/home/hanliu/project/mouse_rostral_brain/DMR/SubType/raw/SubType-chr13/MotifScan.h5adtemp/MA1641.1.meme, N motif total=55540\n"
     ]
    },
    {
     "name": "stderr",
     "output_type": "stream",
     "text": [
      "/home/hanliu/miniconda3/envs/clustering/lib/python3.7/site-packages/ALLCools/dmr/fimo.py:60: FutureWarning: to_msgpack is deprecated and will be removed in a future version.\n",
      "It is recommended to use pyarrow for on-the-wire transmission of pandas objects.\n",
      "  final_df.to_msgpack(output_path, compress='zlib')\n"
     ]
    },
    {
     "name": "stdout",
     "output_type": "stream",
     "text": [
      "/home/hanliu/project/mouse_rostral_brain/DMR/SubType/raw/SubType-chr13/MotifScan.h5adtemp/MA0104.4.meme, N motif total=20916\n"
     ]
    },
    {
     "name": "stderr",
     "output_type": "stream",
     "text": [
      "/home/hanliu/miniconda3/envs/clustering/lib/python3.7/site-packages/ALLCools/dmr/fimo.py:60: FutureWarning: to_msgpack is deprecated and will be removed in a future version.\n",
      "It is recommended to use pyarrow for on-the-wire transmission of pandas objects.\n",
      "  final_df.to_msgpack(output_path, compress='zlib')\n"
     ]
    },
    {
     "name": "stdout",
     "output_type": "stream",
     "text": [
      "/home/hanliu/project/mouse_rostral_brain/DMR/SubType/raw/SubType-chr13/MotifScan.h5adtemp/MA0152.1.meme, N motif total=39817\n"
     ]
    },
    {
     "name": "stderr",
     "output_type": "stream",
     "text": [
      "/home/hanliu/miniconda3/envs/clustering/lib/python3.7/site-packages/ALLCools/dmr/fimo.py:60: FutureWarning: to_msgpack is deprecated and will be removed in a future version.\n",
      "It is recommended to use pyarrow for on-the-wire transmission of pandas objects.\n",
      "  final_df.to_msgpack(output_path, compress='zlib')\n"
     ]
    },
    {
     "name": "stdout",
     "output_type": "stream",
     "text": [
      "/home/hanliu/project/mouse_rostral_brain/DMR/SubType/raw/SubType-chr13/MotifScan.h5adtemp/MA0623.2.meme, N motif total=21173\n"
     ]
    },
    {
     "name": "stderr",
     "output_type": "stream",
     "text": [
      "/home/hanliu/miniconda3/envs/clustering/lib/python3.7/site-packages/ALLCools/dmr/fimo.py:60: FutureWarning: to_msgpack is deprecated and will be removed in a future version.\n",
      "It is recommended to use pyarrow for on-the-wire transmission of pandas objects.\n",
      "  final_df.to_msgpack(output_path, compress='zlib')\n"
     ]
    },
    {
     "name": "stdout",
     "output_type": "stream",
     "text": [
      "/home/hanliu/project/mouse_rostral_brain/DMR/SubType/raw/SubType-chr13/MotifScan.h5adtemp/MA0057.1.meme, N motif total=42844\n"
     ]
    },
    {
     "name": "stderr",
     "output_type": "stream",
     "text": [
      "/home/hanliu/miniconda3/envs/clustering/lib/python3.7/site-packages/ALLCools/dmr/fimo.py:60: FutureWarning: to_msgpack is deprecated and will be removed in a future version.\n",
      "It is recommended to use pyarrow for on-the-wire transmission of pandas objects.\n",
      "  final_df.to_msgpack(output_path, compress='zlib')\n"
     ]
    },
    {
     "name": "stdout",
     "output_type": "stream",
     "text": [
      "/home/hanliu/project/mouse_rostral_brain/DMR/SubType/raw/SubType-chr13/MotifScan.h5adtemp/MA0499.2.meme, N motif total=44178\n"
     ]
    },
    {
     "name": "stderr",
     "output_type": "stream",
     "text": [
      "/home/hanliu/miniconda3/envs/clustering/lib/python3.7/site-packages/ALLCools/dmr/fimo.py:60: FutureWarning: to_msgpack is deprecated and will be removed in a future version.\n",
      "It is recommended to use pyarrow for on-the-wire transmission of pandas objects.\n",
      "  final_df.to_msgpack(output_path, compress='zlib')\n"
     ]
    },
    {
     "name": "stdout",
     "output_type": "stream",
     "text": [
      "/home/hanliu/project/mouse_rostral_brain/DMR/SubType/raw/SubType-chr13/MotifScan.h5adtemp/MA0056.2.meme, N motif total=29534\n"
     ]
    },
    {
     "name": "stderr",
     "output_type": "stream",
     "text": [
      "/home/hanliu/miniconda3/envs/clustering/lib/python3.7/site-packages/ALLCools/dmr/fimo.py:60: FutureWarning: to_msgpack is deprecated and will be removed in a future version.\n",
      "It is recommended to use pyarrow for on-the-wire transmission of pandas objects.\n",
      "  final_df.to_msgpack(output_path, compress='zlib')\n"
     ]
    },
    {
     "name": "stdout",
     "output_type": "stream",
     "text": [
      "/home/hanliu/project/mouse_rostral_brain/DMR/SubType/raw/SubType-chr13/MotifScan.h5adtemp/MA0500.2.meme, N motif total=56502\n"
     ]
    },
    {
     "name": "stderr",
     "output_type": "stream",
     "text": [
      "/home/hanliu/miniconda3/envs/clustering/lib/python3.7/site-packages/ALLCools/dmr/fimo.py:60: FutureWarning: to_msgpack is deprecated and will be removed in a future version.\n",
      "It is recommended to use pyarrow for on-the-wire transmission of pandas objects.\n",
      "  final_df.to_msgpack(output_path, compress='zlib')\n"
     ]
    },
    {
     "name": "stdout",
     "output_type": "stream",
     "text": [
      "/home/hanliu/project/mouse_rostral_brain/DMR/SubType/raw/SubType-chr13/MotifScan.h5adtemp/MA0669.1.meme, N motif total=29086\n"
     ]
    },
    {
     "name": "stderr",
     "output_type": "stream",
     "text": [
      "/home/hanliu/miniconda3/envs/clustering/lib/python3.7/site-packages/ALLCools/dmr/fimo.py:60: FutureWarning: to_msgpack is deprecated and will be removed in a future version.\n",
      "It is recommended to use pyarrow for on-the-wire transmission of pandas objects.\n",
      "  final_df.to_msgpack(output_path, compress='zlib')\n"
     ]
    },
    {
     "name": "stdout",
     "output_type": "stream",
     "text": [
      "/home/hanliu/project/mouse_rostral_brain/DMR/SubType/raw/SubType-chr13/MotifScan.h5adtemp/MA0668.1.meme, N motif total=19309\n"
     ]
    },
    {
     "name": "stderr",
     "output_type": "stream",
     "text": [
      "/home/hanliu/miniconda3/envs/clustering/lib/python3.7/site-packages/ALLCools/dmr/fimo.py:60: FutureWarning: to_msgpack is deprecated and will be removed in a future version.\n",
      "It is recommended to use pyarrow for on-the-wire transmission of pandas objects.\n",
      "  final_df.to_msgpack(output_path, compress='zlib')\n"
     ]
    },
    {
     "name": "stdout",
     "output_type": "stream",
     "text": [
      "/home/hanliu/project/mouse_rostral_brain/DMR/SubType/raw/SubType-chr13/MotifScan.h5adtemp/MA0624.1.meme, N motif total=34105\n"
     ]
    },
    {
     "name": "stderr",
     "output_type": "stream",
     "text": [
      "/home/hanliu/miniconda3/envs/clustering/lib/python3.7/site-packages/ALLCools/dmr/fimo.py:60: FutureWarning: to_msgpack is deprecated and will be removed in a future version.\n",
      "It is recommended to use pyarrow for on-the-wire transmission of pandas objects.\n",
      "  final_df.to_msgpack(output_path, compress='zlib')\n"
     ]
    },
    {
     "name": "stdout",
     "output_type": "stream",
     "text": [
      "/home/hanliu/project/mouse_rostral_brain/DMR/SubType/raw/SubType-chr13/MotifScan.h5adtemp/MA0625.1.meme, N motif total=33593\n"
     ]
    },
    {
     "name": "stderr",
     "output_type": "stream",
     "text": [
      "/home/hanliu/miniconda3/envs/clustering/lib/python3.7/site-packages/ALLCools/dmr/fimo.py:60: FutureWarning: to_msgpack is deprecated and will be removed in a future version.\n",
      "It is recommended to use pyarrow for on-the-wire transmission of pandas objects.\n",
      "  final_df.to_msgpack(output_path, compress='zlib')\n"
     ]
    },
    {
     "name": "stdout",
     "output_type": "stream",
     "text": [
      "/home/hanliu/project/mouse_rostral_brain/DMR/SubType/raw/SubType-chr13/MotifScan.h5adtemp/MA1109.1.meme, N motif total=47646\n"
     ]
    },
    {
     "name": "stderr",
     "output_type": "stream",
     "text": [
      "/home/hanliu/miniconda3/envs/clustering/lib/python3.7/site-packages/ALLCools/dmr/fimo.py:60: FutureWarning: to_msgpack is deprecated and will be removed in a future version.\n",
      "It is recommended to use pyarrow for on-the-wire transmission of pandas objects.\n",
      "  final_df.to_msgpack(output_path, compress='zlib')\n"
     ]
    },
    {
     "name": "stdout",
     "output_type": "stream",
     "text": [
      "/home/hanliu/project/mouse_rostral_brain/DMR/SubType/raw/SubType-chr13/MotifScan.h5adtemp/MA1642.1.meme, N motif total=44970\n"
     ]
    },
    {
     "name": "stderr",
     "output_type": "stream",
     "text": [
      "/home/hanliu/miniconda3/envs/clustering/lib/python3.7/site-packages/ALLCools/dmr/fimo.py:60: FutureWarning: to_msgpack is deprecated and will be removed in a future version.\n",
      "It is recommended to use pyarrow for on-the-wire transmission of pandas objects.\n",
      "  final_df.to_msgpack(output_path, compress='zlib')\n"
     ]
    },
    {
     "name": "stdout",
     "output_type": "stream",
     "text": [
      "/home/hanliu/project/mouse_rostral_brain/DMR/SubType/raw/SubType-chr13/MotifScan.h5adtemp/MA1525.1.meme, N motif total=31398\n"
     ]
    },
    {
     "name": "stderr",
     "output_type": "stream",
     "text": [
      "/home/hanliu/miniconda3/envs/clustering/lib/python3.7/site-packages/ALLCools/dmr/fimo.py:60: FutureWarning: to_msgpack is deprecated and will be removed in a future version.\n",
      "It is recommended to use pyarrow for on-the-wire transmission of pandas objects.\n",
      "  final_df.to_msgpack(output_path, compress='zlib')\n"
     ]
    },
    {
     "name": "stdout",
     "output_type": "stream",
     "text": [
      "/home/hanliu/project/mouse_rostral_brain/DMR/SubType/raw/SubType-chr13/MotifScan.h5adtemp/MA0606.1.meme, N motif total=44692\n"
     ]
    },
    {
     "name": "stderr",
     "output_type": "stream",
     "text": [
      "/home/hanliu/miniconda3/envs/clustering/lib/python3.7/site-packages/ALLCools/dmr/fimo.py:60: FutureWarning: to_msgpack is deprecated and will be removed in a future version.\n",
      "It is recommended to use pyarrow for on-the-wire transmission of pandas objects.\n",
      "  final_df.to_msgpack(output_path, compress='zlib')\n"
     ]
    },
    {
     "name": "stdout",
     "output_type": "stream",
     "text": [
      "/home/hanliu/project/mouse_rostral_brain/DMR/SubType/raw/SubType-chr13/MotifScan.h5adtemp/MA0670.1.meme, N motif total=27469\n"
     ]
    },
    {
     "name": "stderr",
     "output_type": "stream",
     "text": [
      "/home/hanliu/miniconda3/envs/clustering/lib/python3.7/site-packages/ALLCools/dmr/fimo.py:60: FutureWarning: to_msgpack is deprecated and will be removed in a future version.\n",
      "It is recommended to use pyarrow for on-the-wire transmission of pandas objects.\n",
      "  final_df.to_msgpack(output_path, compress='zlib')\n"
     ]
    },
    {
     "name": "stdout",
     "output_type": "stream",
     "text": [
      "/home/hanliu/project/mouse_rostral_brain/DMR/SubType/raw/SubType-chr13/MotifScan.h5adtemp/MA0841.1.meme, N motif total=17724\n"
     ]
    },
    {
     "name": "stderr",
     "output_type": "stream",
     "text": [
      "/home/hanliu/miniconda3/envs/clustering/lib/python3.7/site-packages/ALLCools/dmr/fimo.py:60: FutureWarning: to_msgpack is deprecated and will be removed in a future version.\n",
      "It is recommended to use pyarrow for on-the-wire transmission of pandas objects.\n",
      "  final_df.to_msgpack(output_path, compress='zlib')\n"
     ]
    },
    {
     "name": "stdout",
     "output_type": "stream",
     "text": [
      "/home/hanliu/project/mouse_rostral_brain/DMR/SubType/raw/SubType-chr13/MotifScan.h5adtemp/MA0150.2.meme, N motif total=29298\n"
     ]
    },
    {
     "name": "stderr",
     "output_type": "stream",
     "text": [
      "/home/hanliu/miniconda3/envs/clustering/lib/python3.7/site-packages/ALLCools/dmr/fimo.py:60: FutureWarning: to_msgpack is deprecated and will be removed in a future version.\n",
      "It is recommended to use pyarrow for on-the-wire transmission of pandas objects.\n",
      "  final_df.to_msgpack(output_path, compress='zlib')\n"
     ]
    },
    {
     "name": "stdout",
     "output_type": "stream",
     "text": [
      "/home/hanliu/project/mouse_rostral_brain/DMR/SubType/raw/SubType-chr13/MotifScan.h5adtemp/MA0161.2.meme, N motif total=32150\n"
     ]
    },
    {
     "name": "stderr",
     "output_type": "stream",
     "text": [
      "/home/hanliu/miniconda3/envs/clustering/lib/python3.7/site-packages/ALLCools/dmr/fimo.py:60: FutureWarning: to_msgpack is deprecated and will be removed in a future version.\n",
      "It is recommended to use pyarrow for on-the-wire transmission of pandas objects.\n",
      "  final_df.to_msgpack(output_path, compress='zlib')\n"
     ]
    },
    {
     "name": "stdout",
     "output_type": "stream",
     "text": [
      "/home/hanliu/project/mouse_rostral_brain/DMR/SubType/raw/SubType-chr13/MotifScan.h5adtemp/MA0089.2.meme, N motif total=32065\n"
     ]
    },
    {
     "name": "stderr",
     "output_type": "stream",
     "text": [
      "/home/hanliu/miniconda3/envs/clustering/lib/python3.7/site-packages/ALLCools/dmr/fimo.py:60: FutureWarning: to_msgpack is deprecated and will be removed in a future version.\n",
      "It is recommended to use pyarrow for on-the-wire transmission of pandas objects.\n",
      "  final_df.to_msgpack(output_path, compress='zlib')\n"
     ]
    },
    {
     "name": "stdout",
     "output_type": "stream",
     "text": [
      "/home/hanliu/project/mouse_rostral_brain/DMR/SubType/raw/SubType-chr13/MotifScan.h5adtemp/MA0119.1.meme, N motif total=20514\n"
     ]
    },
    {
     "name": "stderr",
     "output_type": "stream",
     "text": [
      "/home/hanliu/miniconda3/envs/clustering/lib/python3.7/site-packages/ALLCools/dmr/fimo.py:60: FutureWarning: to_msgpack is deprecated and will be removed in a future version.\n",
      "It is recommended to use pyarrow for on-the-wire transmission of pandas objects.\n",
      "  final_df.to_msgpack(output_path, compress='zlib')\n"
     ]
    },
    {
     "name": "stdout",
     "output_type": "stream",
     "text": [
      "/home/hanliu/project/mouse_rostral_brain/DMR/SubType/raw/SubType-chr13/MotifScan.h5adtemp/MA1643.1.meme, N motif total=47630\n"
     ]
    },
    {
     "name": "stderr",
     "output_type": "stream",
     "text": [
      "/home/hanliu/miniconda3/envs/clustering/lib/python3.7/site-packages/ALLCools/dmr/fimo.py:60: FutureWarning: to_msgpack is deprecated and will be removed in a future version.\n",
      "It is recommended to use pyarrow for on-the-wire transmission of pandas objects.\n",
      "  final_df.to_msgpack(output_path, compress='zlib')\n"
     ]
    },
    {
     "name": "stdout",
     "output_type": "stream",
     "text": [
      "/home/hanliu/project/mouse_rostral_brain/DMR/SubType/raw/SubType-chr13/MotifScan.h5adtemp/MA0671.1.meme, N motif total=27915\n"
     ]
    },
    {
     "name": "stderr",
     "output_type": "stream",
     "text": [
      "/home/hanliu/miniconda3/envs/clustering/lib/python3.7/site-packages/ALLCools/dmr/fimo.py:60: FutureWarning: to_msgpack is deprecated and will be removed in a future version.\n",
      "It is recommended to use pyarrow for on-the-wire transmission of pandas objects.\n",
      "  final_df.to_msgpack(output_path, compress='zlib')\n"
     ]
    },
    {
     "name": "stdout",
     "output_type": "stream",
     "text": [
      "/home/hanliu/project/mouse_rostral_brain/DMR/SubType/raw/SubType-chr13/MotifScan.h5adtemp/MA0025.2.meme, N motif total=19435\n"
     ]
    },
    {
     "name": "stderr",
     "output_type": "stream",
     "text": [
      "/home/hanliu/miniconda3/envs/clustering/lib/python3.7/site-packages/ALLCools/dmr/fimo.py:60: FutureWarning: to_msgpack is deprecated and will be removed in a future version.\n",
      "It is recommended to use pyarrow for on-the-wire transmission of pandas objects.\n",
      "  final_df.to_msgpack(output_path, compress='zlib')\n"
     ]
    },
    {
     "name": "stdout",
     "output_type": "stream",
     "text": [
      "/home/hanliu/project/mouse_rostral_brain/DMR/SubType/raw/SubType-chr13/MotifScan.h5adtemp/MA0105.4.meme, N motif total=5965\n"
     ]
    },
    {
     "name": "stderr",
     "output_type": "stream",
     "text": [
      "/home/hanliu/miniconda3/envs/clustering/lib/python3.7/site-packages/ALLCools/dmr/fimo.py:60: FutureWarning: to_msgpack is deprecated and will be removed in a future version.\n",
      "It is recommended to use pyarrow for on-the-wire transmission of pandas objects.\n",
      "  final_df.to_msgpack(output_path, compress='zlib')\n"
     ]
    },
    {
     "name": "stdout",
     "output_type": "stream",
     "text": [
      "/home/hanliu/project/mouse_rostral_brain/DMR/SubType/raw/SubType-chr13/MotifScan.h5adtemp/MA0060.3.meme, N motif total=20957\n"
     ]
    },
    {
     "name": "stderr",
     "output_type": "stream",
     "text": [
      "/home/hanliu/miniconda3/envs/clustering/lib/python3.7/site-packages/ALLCools/dmr/fimo.py:60: FutureWarning: to_msgpack is deprecated and will be removed in a future version.\n",
      "It is recommended to use pyarrow for on-the-wire transmission of pandas objects.\n",
      "  final_df.to_msgpack(output_path, compress='zlib')\n"
     ]
    },
    {
     "name": "stdout",
     "output_type": "stream",
     "text": [
      "/home/hanliu/project/mouse_rostral_brain/DMR/SubType/raw/SubType-chr13/MotifScan.h5adtemp/MA1527.1.meme, N motif total=13758\n"
     ]
    },
    {
     "name": "stderr",
     "output_type": "stream",
     "text": [
      "/home/hanliu/miniconda3/envs/clustering/lib/python3.7/site-packages/ALLCools/dmr/fimo.py:60: FutureWarning: to_msgpack is deprecated and will be removed in a future version.\n",
      "It is recommended to use pyarrow for on-the-wire transmission of pandas objects.\n",
      "  final_df.to_msgpack(output_path, compress='zlib')\n"
     ]
    },
    {
     "name": "stdout",
     "output_type": "stream",
     "text": [
      "/home/hanliu/project/mouse_rostral_brain/DMR/SubType/raw/SubType-chr13/MotifScan.h5adtemp/MA0778.1.meme, N motif total=22189\n"
     ]
    },
    {
     "name": "stderr",
     "output_type": "stream",
     "text": [
      "/home/hanliu/miniconda3/envs/clustering/lib/python3.7/site-packages/ALLCools/dmr/fimo.py:60: FutureWarning: to_msgpack is deprecated and will be removed in a future version.\n",
      "It is recommended to use pyarrow for on-the-wire transmission of pandas objects.\n",
      "  final_df.to_msgpack(output_path, compress='zlib')\n"
     ]
    },
    {
     "name": "stdout",
     "output_type": "stream",
     "text": [
      "/home/hanliu/project/mouse_rostral_brain/DMR/SubType/raw/SubType-chr13/MotifScan.h5adtemp/MA1644.1.meme, N motif total=22297\n"
     ]
    },
    {
     "name": "stderr",
     "output_type": "stream",
     "text": [
      "/home/hanliu/miniconda3/envs/clustering/lib/python3.7/site-packages/ALLCools/dmr/fimo.py:60: FutureWarning: to_msgpack is deprecated and will be removed in a future version.\n",
      "It is recommended to use pyarrow for on-the-wire transmission of pandas objects.\n",
      "  final_df.to_msgpack(output_path, compress='zlib')\n"
     ]
    },
    {
     "name": "stdout",
     "output_type": "stream",
     "text": [
      "/home/hanliu/project/mouse_rostral_brain/DMR/SubType/raw/SubType-chr13/MotifScan.h5adtemp/MA0502.2.meme, N motif total=24655\n"
     ]
    },
    {
     "name": "stderr",
     "output_type": "stream",
     "text": [
      "/home/hanliu/miniconda3/envs/clustering/lib/python3.7/site-packages/ALLCools/dmr/fimo.py:60: FutureWarning: to_msgpack is deprecated and will be removed in a future version.\n",
      "It is recommended to use pyarrow for on-the-wire transmission of pandas objects.\n",
      "  final_df.to_msgpack(output_path, compress='zlib')\n"
     ]
    },
    {
     "name": "stdout",
     "output_type": "stream",
     "text": [
      "/home/hanliu/project/mouse_rostral_brain/DMR/SubType/raw/SubType-chr13/MotifScan.h5adtemp/MA0048.2.meme, N motif total=49254\n"
     ]
    },
    {
     "name": "stderr",
     "output_type": "stream",
     "text": [
      "/home/hanliu/miniconda3/envs/clustering/lib/python3.7/site-packages/ALLCools/dmr/fimo.py:60: FutureWarning: to_msgpack is deprecated and will be removed in a future version.\n",
      "It is recommended to use pyarrow for on-the-wire transmission of pandas objects.\n",
      "  final_df.to_msgpack(output_path, compress='zlib')\n"
     ]
    },
    {
     "name": "stdout",
     "output_type": "stream",
     "text": [
      "Finish count 400 motifs.\n"
     ]
    },
    {
     "name": "stdout",
     "output_type": "stream",
     "text": [
      "/home/hanliu/project/mouse_rostral_brain/DMR/SubType/raw/SubType-chr13/MotifScan.h5adtemp/MA0672.1.meme, N motif total=23713\n"
     ]
    },
    {
     "name": "stderr",
     "output_type": "stream",
     "text": [
      "/home/hanliu/miniconda3/envs/clustering/lib/python3.7/site-packages/ALLCools/dmr/fimo.py:60: FutureWarning: to_msgpack is deprecated and will be removed in a future version.\n",
      "It is recommended to use pyarrow for on-the-wire transmission of pandas objects.\n",
      "  final_df.to_msgpack(output_path, compress='zlib')\n"
     ]
    },
    {
     "name": "stdout",
     "output_type": "stream",
     "text": [
      "/home/hanliu/project/mouse_rostral_brain/DMR/SubType/raw/SubType-chr13/MotifScan.h5adtemp/MA1528.1.meme, N motif total=36897\n"
     ]
    },
    {
     "name": "stderr",
     "output_type": "stream",
     "text": [
      "/home/hanliu/miniconda3/envs/clustering/lib/python3.7/site-packages/ALLCools/dmr/fimo.py:60: FutureWarning: to_msgpack is deprecated and will be removed in a future version.\n",
      "It is recommended to use pyarrow for on-the-wire transmission of pandas objects.\n",
      "  final_df.to_msgpack(output_path, compress='zlib')\n"
     ]
    },
    {
     "name": "stdout",
     "output_type": "stream",
     "text": [
      "/home/hanliu/project/mouse_rostral_brain/DMR/SubType/raw/SubType-chr13/MotifScan.h5adtemp/MA0063.2.meme, N motif total=22405\n"
     ]
    },
    {
     "name": "stderr",
     "output_type": "stream",
     "text": [
      "/home/hanliu/miniconda3/envs/clustering/lib/python3.7/site-packages/ALLCools/dmr/fimo.py:60: FutureWarning: to_msgpack is deprecated and will be removed in a future version.\n",
      "It is recommended to use pyarrow for on-the-wire transmission of pandas objects.\n",
      "  final_df.to_msgpack(output_path, compress='zlib')\n"
     ]
    },
    {
     "name": "stdout",
     "output_type": "stream",
     "text": [
      "/home/hanliu/project/mouse_rostral_brain/DMR/SubType/raw/SubType-chr13/MotifScan.h5adtemp/MA1645.1.meme, N motif total=31800\n"
     ]
    },
    {
     "name": "stderr",
     "output_type": "stream",
     "text": [
      "/home/hanliu/miniconda3/envs/clustering/lib/python3.7/site-packages/ALLCools/dmr/fimo.py:60: FutureWarning: to_msgpack is deprecated and will be removed in a future version.\n",
      "It is recommended to use pyarrow for on-the-wire transmission of pandas objects.\n",
      "  final_df.to_msgpack(output_path, compress='zlib')\n"
     ]
    },
    {
     "name": "stdout",
     "output_type": "stream",
     "text": [
      "/home/hanliu/project/mouse_rostral_brain/DMR/SubType/raw/SubType-chr13/MotifScan.h5adtemp/MA0124.2.meme, N motif total=19419\n"
     ]
    },
    {
     "name": "stderr",
     "output_type": "stream",
     "text": [
      "/home/hanliu/miniconda3/envs/clustering/lib/python3.7/site-packages/ALLCools/dmr/fimo.py:60: FutureWarning: to_msgpack is deprecated and will be removed in a future version.\n",
      "It is recommended to use pyarrow for on-the-wire transmission of pandas objects.\n",
      "  final_df.to_msgpack(output_path, compress='zlib')\n"
     ]
    },
    {
     "name": "stdout",
     "output_type": "stream",
     "text": [
      "/home/hanliu/project/mouse_rostral_brain/DMR/SubType/raw/SubType-chr13/MotifScan.h5adtemp/MA0674.1.meme, N motif total=20518\n"
     ]
    },
    {
     "name": "stderr",
     "output_type": "stream",
     "text": [
      "/home/hanliu/miniconda3/envs/clustering/lib/python3.7/site-packages/ALLCools/dmr/fimo.py:60: FutureWarning: to_msgpack is deprecated and will be removed in a future version.\n",
      "It is recommended to use pyarrow for on-the-wire transmission of pandas objects.\n",
      "  final_df.to_msgpack(output_path, compress='zlib')\n"
     ]
    },
    {
     "name": "stdout",
     "output_type": "stream",
     "text": [
      "/home/hanliu/project/mouse_rostral_brain/DMR/SubType/raw/SubType-chr13/MotifScan.h5adtemp/MA0673.1.meme, N motif total=21741\n"
     ]
    },
    {
     "name": "stderr",
     "output_type": "stream",
     "text": [
      "/home/hanliu/miniconda3/envs/clustering/lib/python3.7/site-packages/ALLCools/dmr/fimo.py:60: FutureWarning: to_msgpack is deprecated and will be removed in a future version.\n",
      "It is recommended to use pyarrow for on-the-wire transmission of pandas objects.\n",
      "  final_df.to_msgpack(output_path, compress='zlib')\n"
     ]
    },
    {
     "name": "stdout",
     "output_type": "stream",
     "text": [
      "/home/hanliu/project/mouse_rostral_brain/DMR/SubType/raw/SubType-chr13/MotifScan.h5adtemp/MA0675.1.meme, N motif total=20860\n"
     ]
    },
    {
     "name": "stderr",
     "output_type": "stream",
     "text": [
      "/home/hanliu/miniconda3/envs/clustering/lib/python3.7/site-packages/ALLCools/dmr/fimo.py:60: FutureWarning: to_msgpack is deprecated and will be removed in a future version.\n",
      "It is recommended to use pyarrow for on-the-wire transmission of pandas objects.\n",
      "  final_df.to_msgpack(output_path, compress='zlib')\n"
     ]
    },
    {
     "name": "stdout",
     "output_type": "stream",
     "text": [
      "/home/hanliu/project/mouse_rostral_brain/DMR/SubType/raw/SubType-chr13/MotifScan.h5adtemp/MA1529.1.meme, N motif total=39670\n"
     ]
    },
    {
     "name": "stderr",
     "output_type": "stream",
     "text": [
      "/home/hanliu/miniconda3/envs/clustering/lib/python3.7/site-packages/ALLCools/dmr/fimo.py:60: FutureWarning: to_msgpack is deprecated and will be removed in a future version.\n",
      "It is recommended to use pyarrow for on-the-wire transmission of pandas objects.\n",
      "  final_df.to_msgpack(output_path, compress='zlib')\n"
     ]
    },
    {
     "name": "stdout",
     "output_type": "stream",
     "text": [
      "/home/hanliu/project/mouse_rostral_brain/DMR/SubType/raw/SubType-chr13/MotifScan.h5adtemp/MA0503.1.meme, N motif total=37235\n"
     ]
    },
    {
     "name": "stderr",
     "output_type": "stream",
     "text": [
      "/home/hanliu/miniconda3/envs/clustering/lib/python3.7/site-packages/ALLCools/dmr/fimo.py:60: FutureWarning: to_msgpack is deprecated and will be removed in a future version.\n",
      "It is recommended to use pyarrow for on-the-wire transmission of pandas objects.\n",
      "  final_df.to_msgpack(output_path, compress='zlib')\n"
     ]
    },
    {
     "name": "stdout",
     "output_type": "stream",
     "text": [
      "/home/hanliu/project/mouse_rostral_brain/DMR/SubType/raw/SubType-chr13/MotifScan.h5adtemp/MA0125.1.meme, N motif total=12490\n"
     ]
    },
    {
     "name": "stderr",
     "output_type": "stream",
     "text": [
      "/home/hanliu/miniconda3/envs/clustering/lib/python3.7/site-packages/ALLCools/dmr/fimo.py:60: FutureWarning: to_msgpack is deprecated and will be removed in a future version.\n",
      "It is recommended to use pyarrow for on-the-wire transmission of pandas objects.\n",
      "  final_df.to_msgpack(output_path, compress='zlib')\n"
     ]
    },
    {
     "name": "stdout",
     "output_type": "stream",
     "text": [
      "/home/hanliu/project/mouse_rostral_brain/DMR/SubType/raw/SubType-chr13/MotifScan.h5adtemp/MA1530.1.meme, N motif total=17609\n"
     ]
    },
    {
     "name": "stderr",
     "output_type": "stream",
     "text": [
      "/home/hanliu/miniconda3/envs/clustering/lib/python3.7/site-packages/ALLCools/dmr/fimo.py:60: FutureWarning: to_msgpack is deprecated and will be removed in a future version.\n",
      "It is recommended to use pyarrow for on-the-wire transmission of pandas objects.\n",
      "  final_df.to_msgpack(output_path, compress='zlib')\n"
     ]
    },
    {
     "name": "stdout",
     "output_type": "stream",
     "text": [
      "/home/hanliu/project/mouse_rostral_brain/DMR/SubType/raw/SubType-chr13/MotifScan.h5adtemp/MA0122.3.meme, N motif total=23698\n"
     ]
    },
    {
     "name": "stderr",
     "output_type": "stream",
     "text": [
      "/home/hanliu/miniconda3/envs/clustering/lib/python3.7/site-packages/ALLCools/dmr/fimo.py:60: FutureWarning: to_msgpack is deprecated and will be removed in a future version.\n",
      "It is recommended to use pyarrow for on-the-wire transmission of pandas objects.\n",
      "  final_df.to_msgpack(output_path, compress='zlib')\n"
     ]
    },
    {
     "name": "stdout",
     "output_type": "stream",
     "text": [
      "/home/hanliu/project/mouse_rostral_brain/DMR/SubType/raw/SubType-chr13/MotifScan.h5adtemp/MA0710.1.meme, N motif total=17050\n"
     ]
    },
    {
     "name": "stderr",
     "output_type": "stream",
     "text": [
      "/home/hanliu/miniconda3/envs/clustering/lib/python3.7/site-packages/ALLCools/dmr/fimo.py:60: FutureWarning: to_msgpack is deprecated and will be removed in a future version.\n",
      "It is recommended to use pyarrow for on-the-wire transmission of pandas objects.\n",
      "  final_df.to_msgpack(output_path, compress='zlib')\n"
     ]
    },
    {
     "name": "stdout",
     "output_type": "stream",
     "text": [
      "/home/hanliu/project/mouse_rostral_brain/DMR/SubType/raw/SubType-chr13/MotifScan.h5adtemp/MA0626.1.meme, N motif total=17270\n"
     ]
    },
    {
     "name": "stderr",
     "output_type": "stream",
     "text": [
      "/home/hanliu/miniconda3/envs/clustering/lib/python3.7/site-packages/ALLCools/dmr/fimo.py:60: FutureWarning: to_msgpack is deprecated and will be removed in a future version.\n",
      "It is recommended to use pyarrow for on-the-wire transmission of pandas objects.\n",
      "  final_df.to_msgpack(output_path, compress='zlib')\n"
     ]
    },
    {
     "name": "stdout",
     "output_type": "stream",
     "text": [
      "/home/hanliu/project/mouse_rostral_brain/DMR/SubType/raw/SubType-chr13/MotifScan.h5adtemp/MA1534.1.meme, N motif total=23828\n"
     ]
    },
    {
     "name": "stderr",
     "output_type": "stream",
     "text": [
      "/home/hanliu/miniconda3/envs/clustering/lib/python3.7/site-packages/ALLCools/dmr/fimo.py:60: FutureWarning: to_msgpack is deprecated and will be removed in a future version.\n",
      "It is recommended to use pyarrow for on-the-wire transmission of pandas objects.\n",
      "  final_df.to_msgpack(output_path, compress='zlib')\n"
     ]
    },
    {
     "name": "stdout",
     "output_type": "stream",
     "text": [
      "/home/hanliu/project/mouse_rostral_brain/DMR/SubType/raw/SubType-chr13/MotifScan.h5adtemp/MA1110.1.meme, N motif total=22191\n"
     ]
    },
    {
     "name": "stderr",
     "output_type": "stream",
     "text": [
      "/home/hanliu/miniconda3/envs/clustering/lib/python3.7/site-packages/ALLCools/dmr/fimo.py:60: FutureWarning: to_msgpack is deprecated and will be removed in a future version.\n",
      "It is recommended to use pyarrow for on-the-wire transmission of pandas objects.\n",
      "  final_df.to_msgpack(output_path, compress='zlib')\n"
     ]
    },
    {
     "name": "stdout",
     "output_type": "stream",
     "text": [
      "/home/hanliu/project/mouse_rostral_brain/DMR/SubType/raw/SubType-chr13/MotifScan.h5adtemp/MA1535.1.meme, N motif total=28743\n"
     ]
    },
    {
     "name": "stderr",
     "output_type": "stream",
     "text": [
      "/home/hanliu/miniconda3/envs/clustering/lib/python3.7/site-packages/ALLCools/dmr/fimo.py:60: FutureWarning: to_msgpack is deprecated and will be removed in a future version.\n",
      "It is recommended to use pyarrow for on-the-wire transmission of pandas objects.\n",
      "  final_df.to_msgpack(output_path, compress='zlib')\n"
     ]
    },
    {
     "name": "stdout",
     "output_type": "stream",
     "text": [
      "/home/hanliu/project/mouse_rostral_brain/DMR/SubType/raw/SubType-chr13/MotifScan.h5adtemp/MA1536.1.meme, N motif total=18393\n"
     ]
    },
    {
     "name": "stderr",
     "output_type": "stream",
     "text": [
      "/home/hanliu/miniconda3/envs/clustering/lib/python3.7/site-packages/ALLCools/dmr/fimo.py:60: FutureWarning: to_msgpack is deprecated and will be removed in a future version.\n",
      "It is recommended to use pyarrow for on-the-wire transmission of pandas objects.\n",
      "  final_df.to_msgpack(output_path, compress='zlib')\n"
     ]
    },
    {
     "name": "stdout",
     "output_type": "stream",
     "text": [
      "/home/hanliu/project/mouse_rostral_brain/DMR/SubType/raw/SubType-chr13/MotifScan.h5adtemp/MA0164.1.meme, N motif total=17809\n"
     ]
    },
    {
     "name": "stderr",
     "output_type": "stream",
     "text": [
      "/home/hanliu/miniconda3/envs/clustering/lib/python3.7/site-packages/ALLCools/dmr/fimo.py:60: FutureWarning: to_msgpack is deprecated and will be removed in a future version.\n",
      "It is recommended to use pyarrow for on-the-wire transmission of pandas objects.\n",
      "  final_df.to_msgpack(output_path, compress='zlib')\n"
     ]
    },
    {
     "name": "stdout",
     "output_type": "stream",
     "text": [
      "/home/hanliu/project/mouse_rostral_brain/DMR/SubType/raw/SubType-chr13/MotifScan.h5adtemp/MA1532.1.meme, N motif total=24430\n"
     ]
    },
    {
     "name": "stderr",
     "output_type": "stream",
     "text": [
      "/home/hanliu/miniconda3/envs/clustering/lib/python3.7/site-packages/ALLCools/dmr/fimo.py:60: FutureWarning: to_msgpack is deprecated and will be removed in a future version.\n",
      "It is recommended to use pyarrow for on-the-wire transmission of pandas objects.\n",
      "  final_df.to_msgpack(output_path, compress='zlib')\n"
     ]
    },
    {
     "name": "stdout",
     "output_type": "stream",
     "text": [
      "/home/hanliu/project/mouse_rostral_brain/DMR/SubType/raw/SubType-chr13/MotifScan.h5adtemp/MA1531.1.meme, N motif total=17829\n"
     ]
    },
    {
     "name": "stderr",
     "output_type": "stream",
     "text": [
      "/home/hanliu/miniconda3/envs/clustering/lib/python3.7/site-packages/ALLCools/dmr/fimo.py:60: FutureWarning: to_msgpack is deprecated and will be removed in a future version.\n",
      "It is recommended to use pyarrow for on-the-wire transmission of pandas objects.\n",
      "  final_df.to_msgpack(output_path, compress='zlib')\n"
     ]
    },
    {
     "name": "stdout",
     "output_type": "stream",
     "text": [
      "/home/hanliu/project/mouse_rostral_brain/DMR/SubType/raw/SubType-chr13/MotifScan.h5adtemp/MA1146.1.meme, N motif total=18579\n"
     ]
    },
    {
     "name": "stderr",
     "output_type": "stream",
     "text": [
      "/home/hanliu/miniconda3/envs/clustering/lib/python3.7/site-packages/ALLCools/dmr/fimo.py:60: FutureWarning: to_msgpack is deprecated and will be removed in a future version.\n",
      "It is recommended to use pyarrow for on-the-wire transmission of pandas objects.\n",
      "  final_df.to_msgpack(output_path, compress='zlib')\n"
     ]
    },
    {
     "name": "stdout",
     "output_type": "stream",
     "text": [
      "/home/hanliu/project/mouse_rostral_brain/DMR/SubType/raw/SubType-chr13/MotifScan.h5adtemp/MA0676.1.meme, N motif total=31197\n"
     ]
    },
    {
     "name": "stderr",
     "output_type": "stream",
     "text": [
      "/home/hanliu/miniconda3/envs/clustering/lib/python3.7/site-packages/ALLCools/dmr/fimo.py:60: FutureWarning: to_msgpack is deprecated and will be removed in a future version.\n",
      "It is recommended to use pyarrow for on-the-wire transmission of pandas objects.\n",
      "  final_df.to_msgpack(output_path, compress='zlib')\n"
     ]
    },
    {
     "name": "stdout",
     "output_type": "stream",
     "text": [
      "/home/hanliu/project/mouse_rostral_brain/DMR/SubType/raw/SubType-chr13/MotifScan.h5adtemp/MA0115.1.meme, N motif total=2012\n"
     ]
    },
    {
     "name": "stderr",
     "output_type": "stream",
     "text": [
      "/home/hanliu/miniconda3/envs/clustering/lib/python3.7/site-packages/ALLCools/dmr/fimo.py:60: FutureWarning: to_msgpack is deprecated and will be removed in a future version.\n",
      "It is recommended to use pyarrow for on-the-wire transmission of pandas objects.\n",
      "  final_df.to_msgpack(output_path, compress='zlib')\n"
     ]
    },
    {
     "name": "stdout",
     "output_type": "stream",
     "text": [
      "/home/hanliu/project/mouse_rostral_brain/DMR/SubType/raw/SubType-chr13/MotifScan.h5adtemp/MA1533.1.meme, N motif total=15587\n"
     ]
    },
    {
     "name": "stderr",
     "output_type": "stream",
     "text": [
      "/home/hanliu/miniconda3/envs/clustering/lib/python3.7/site-packages/ALLCools/dmr/fimo.py:60: FutureWarning: to_msgpack is deprecated and will be removed in a future version.\n",
      "It is recommended to use pyarrow for on-the-wire transmission of pandas objects.\n",
      "  final_df.to_msgpack(output_path, compress='zlib')\n"
     ]
    },
    {
     "name": "stdout",
     "output_type": "stream",
     "text": [
      "/home/hanliu/project/mouse_rostral_brain/DMR/SubType/raw/SubType-chr13/MotifScan.h5adtemp/MA0494.1.meme, N motif total=26468\n"
     ]
    },
    {
     "name": "stderr",
     "output_type": "stream",
     "text": [
      "/home/hanliu/miniconda3/envs/clustering/lib/python3.7/site-packages/ALLCools/dmr/fimo.py:60: FutureWarning: to_msgpack is deprecated and will be removed in a future version.\n",
      "It is recommended to use pyarrow for on-the-wire transmission of pandas objects.\n",
      "  final_df.to_msgpack(output_path, compress='zlib')\n"
     ]
    },
    {
     "name": "stdout",
     "output_type": "stream",
     "text": [
      "/home/hanliu/project/mouse_rostral_brain/DMR/SubType/raw/SubType-chr13/MotifScan.h5adtemp/MA0504.1.meme, N motif total=51008\n"
     ]
    },
    {
     "name": "stderr",
     "output_type": "stream",
     "text": [
      "/home/hanliu/miniconda3/envs/clustering/lib/python3.7/site-packages/ALLCools/dmr/fimo.py:60: FutureWarning: to_msgpack is deprecated and will be removed in a future version.\n",
      "It is recommended to use pyarrow for on-the-wire transmission of pandas objects.\n",
      "  final_df.to_msgpack(output_path, compress='zlib')\n"
     ]
    },
    {
     "name": "stdout",
     "output_type": "stream",
     "text": [
      "/home/hanliu/project/mouse_rostral_brain/DMR/SubType/raw/SubType-chr13/MotifScan.h5adtemp/MA0017.2.meme, N motif total=32740\n"
     ]
    },
    {
     "name": "stderr",
     "output_type": "stream",
     "text": [
      "/home/hanliu/miniconda3/envs/clustering/lib/python3.7/site-packages/ALLCools/dmr/fimo.py:60: FutureWarning: to_msgpack is deprecated and will be removed in a future version.\n",
      "It is recommended to use pyarrow for on-the-wire transmission of pandas objects.\n",
      "  final_df.to_msgpack(output_path, compress='zlib')\n"
     ]
    },
    {
     "name": "stdout",
     "output_type": "stream",
     "text": [
      "/home/hanliu/project/mouse_rostral_brain/DMR/SubType/raw/SubType-chr13/MotifScan.h5adtemp/MA1537.1.meme, N motif total=22763\n"
     ]
    },
    {
     "name": "stderr",
     "output_type": "stream",
     "text": [
      "/home/hanliu/miniconda3/envs/clustering/lib/python3.7/site-packages/ALLCools/dmr/fimo.py:60: FutureWarning: to_msgpack is deprecated and will be removed in a future version.\n",
      "It is recommended to use pyarrow for on-the-wire transmission of pandas objects.\n",
      "  final_df.to_msgpack(output_path, compress='zlib')\n"
     ]
    },
    {
     "name": "stdout",
     "output_type": "stream",
     "text": [
      "/home/hanliu/project/mouse_rostral_brain/DMR/SubType/raw/SubType-chr13/MotifScan.h5adtemp/MA1111.1.meme, N motif total=30826\n"
     ]
    },
    {
     "name": "stderr",
     "output_type": "stream",
     "text": [
      "/home/hanliu/miniconda3/envs/clustering/lib/python3.7/site-packages/ALLCools/dmr/fimo.py:60: FutureWarning: to_msgpack is deprecated and will be removed in a future version.\n",
      "It is recommended to use pyarrow for on-the-wire transmission of pandas objects.\n",
      "  final_df.to_msgpack(output_path, compress='zlib')\n"
     ]
    },
    {
     "name": "stdout",
     "output_type": "stream",
     "text": [
      "/home/hanliu/project/mouse_rostral_brain/DMR/SubType/raw/SubType-chr13/MotifScan.h5adtemp/MA0160.1.meme, N motif total=29603\n"
     ]
    },
    {
     "name": "stderr",
     "output_type": "stream",
     "text": [
      "/home/hanliu/miniconda3/envs/clustering/lib/python3.7/site-packages/ALLCools/dmr/fimo.py:60: FutureWarning: to_msgpack is deprecated and will be removed in a future version.\n",
      "It is recommended to use pyarrow for on-the-wire transmission of pandas objects.\n",
      "  final_df.to_msgpack(output_path, compress='zlib')\n"
     ]
    },
    {
     "name": "stdout",
     "output_type": "stream",
     "text": [
      "/home/hanliu/project/mouse_rostral_brain/DMR/SubType/raw/SubType-chr13/MotifScan.h5adtemp/MA1112.2.meme, N motif total=38025\n"
     ]
    },
    {
     "name": "stderr",
     "output_type": "stream",
     "text": [
      "/home/hanliu/miniconda3/envs/clustering/lib/python3.7/site-packages/ALLCools/dmr/fimo.py:60: FutureWarning: to_msgpack is deprecated and will be removed in a future version.\n",
      "It is recommended to use pyarrow for on-the-wire transmission of pandas objects.\n",
      "  final_df.to_msgpack(output_path, compress='zlib')\n"
     ]
    },
    {
     "name": "stdout",
     "output_type": "stream",
     "text": [
      "/home/hanliu/project/mouse_rostral_brain/DMR/SubType/raw/SubType-chr13/MotifScan.h5adtemp/MA0677.1.meme, N motif total=31422\n"
     ]
    },
    {
     "name": "stderr",
     "output_type": "stream",
     "text": [
      "/home/hanliu/miniconda3/envs/clustering/lib/python3.7/site-packages/ALLCools/dmr/fimo.py:60: FutureWarning: to_msgpack is deprecated and will be removed in a future version.\n",
      "It is recommended to use pyarrow for on-the-wire transmission of pandas objects.\n",
      "  final_df.to_msgpack(output_path, compress='zlib')\n"
     ]
    },
    {
     "name": "stdout",
     "output_type": "stream",
     "text": [
      "/home/hanliu/project/mouse_rostral_brain/DMR/SubType/raw/SubType-chr13/MotifScan.h5adtemp/MA1538.1.meme, N motif total=20170\n"
     ]
    },
    {
     "name": "stderr",
     "output_type": "stream",
     "text": [
      "/home/hanliu/miniconda3/envs/clustering/lib/python3.7/site-packages/ALLCools/dmr/fimo.py:60: FutureWarning: to_msgpack is deprecated and will be removed in a future version.\n",
      "It is recommended to use pyarrow for on-the-wire transmission of pandas objects.\n",
      "  final_df.to_msgpack(output_path, compress='zlib')\n"
     ]
    },
    {
     "name": "stdout",
     "output_type": "stream",
     "text": [
      "/home/hanliu/project/mouse_rostral_brain/DMR/SubType/raw/SubType-chr13/MotifScan.h5adtemp/MA0728.1.meme, N motif total=3909\n"
     ]
    },
    {
     "name": "stderr",
     "output_type": "stream",
     "text": [
      "/home/hanliu/miniconda3/envs/clustering/lib/python3.7/site-packages/ALLCools/dmr/fimo.py:60: FutureWarning: to_msgpack is deprecated and will be removed in a future version.\n",
      "It is recommended to use pyarrow for on-the-wire transmission of pandas objects.\n",
      "  final_df.to_msgpack(output_path, compress='zlib')\n"
     ]
    },
    {
     "name": "stdout",
     "output_type": "stream",
     "text": [
      "/home/hanliu/project/mouse_rostral_brain/DMR/SubType/raw/SubType-chr13/MotifScan.h5adtemp/MA1539.1.meme, N motif total=13522\n"
     ]
    },
    {
     "name": "stderr",
     "output_type": "stream",
     "text": [
      "/home/hanliu/miniconda3/envs/clustering/lib/python3.7/site-packages/ALLCools/dmr/fimo.py:60: FutureWarning: to_msgpack is deprecated and will be removed in a future version.\n",
      "It is recommended to use pyarrow for on-the-wire transmission of pandas objects.\n",
      "  final_df.to_msgpack(output_path, compress='zlib')\n"
     ]
    },
    {
     "name": "stdout",
     "output_type": "stream",
     "text": [
      "/home/hanliu/project/mouse_rostral_brain/DMR/SubType/raw/SubType-chr13/MotifScan.h5adtemp/MA1540.1.meme, N motif total=33099\n"
     ]
    },
    {
     "name": "stderr",
     "output_type": "stream",
     "text": [
      "/home/hanliu/miniconda3/envs/clustering/lib/python3.7/site-packages/ALLCools/dmr/fimo.py:60: FutureWarning: to_msgpack is deprecated and will be removed in a future version.\n",
      "It is recommended to use pyarrow for on-the-wire transmission of pandas objects.\n",
      "  final_df.to_msgpack(output_path, compress='zlib')\n"
     ]
    },
    {
     "name": "stdout",
     "output_type": "stream",
     "text": [
      "/home/hanliu/project/mouse_rostral_brain/DMR/SubType/raw/SubType-chr13/MotifScan.h5adtemp/MA0727.1.meme, N motif total=12539\n"
     ]
    },
    {
     "name": "stderr",
     "output_type": "stream",
     "text": [
      "/home/hanliu/miniconda3/envs/clustering/lib/python3.7/site-packages/ALLCools/dmr/fimo.py:60: FutureWarning: to_msgpack is deprecated and will be removed in a future version.\n",
      "It is recommended to use pyarrow for on-the-wire transmission of pandas objects.\n",
      "  final_df.to_msgpack(output_path, compress='zlib')\n"
     ]
    },
    {
     "name": "stdout",
     "output_type": "stream",
     "text": [
      "/home/hanliu/project/mouse_rostral_brain/DMR/SubType/raw/SubType-chr13/MotifScan.h5adtemp/MA0113.3.meme, N motif total=13320\n"
     ]
    },
    {
     "name": "stderr",
     "output_type": "stream",
     "text": [
      "/home/hanliu/miniconda3/envs/clustering/lib/python3.7/site-packages/ALLCools/dmr/fimo.py:60: FutureWarning: to_msgpack is deprecated and will be removed in a future version.\n",
      "It is recommended to use pyarrow for on-the-wire transmission of pandas objects.\n",
      "  final_df.to_msgpack(output_path, compress='zlib')\n"
     ]
    },
    {
     "name": "stdout",
     "output_type": "stream",
     "text": [
      "/home/hanliu/project/mouse_rostral_brain/DMR/SubType/raw/SubType-chr13/MotifScan.h5adtemp/MA0506.1.meme, N motif total=13594\n"
     ]
    },
    {
     "name": "stderr",
     "output_type": "stream",
     "text": [
      "/home/hanliu/miniconda3/envs/clustering/lib/python3.7/site-packages/ALLCools/dmr/fimo.py:60: FutureWarning: to_msgpack is deprecated and will be removed in a future version.\n",
      "It is recommended to use pyarrow for on-the-wire transmission of pandas objects.\n",
      "  final_df.to_msgpack(output_path, compress='zlib')\n"
     ]
    },
    {
     "name": "stdout",
     "output_type": "stream",
     "text": [
      "/home/hanliu/project/mouse_rostral_brain/DMR/SubType/raw/SubType-chr13/MotifScan.h5adtemp/MA0678.1.meme, N motif total=19237\n"
     ]
    },
    {
     "name": "stderr",
     "output_type": "stream",
     "text": [
      "/home/hanliu/miniconda3/envs/clustering/lib/python3.7/site-packages/ALLCools/dmr/fimo.py:60: FutureWarning: to_msgpack is deprecated and will be removed in a future version.\n",
      "It is recommended to use pyarrow for on-the-wire transmission of pandas objects.\n",
      "  final_df.to_msgpack(output_path, compress='zlib')\n"
     ]
    },
    {
     "name": "stdout",
     "output_type": "stream",
     "text": [
      "/home/hanliu/project/mouse_rostral_brain/DMR/SubType/raw/SubType-chr13/MotifScan.h5adtemp/MA1147.1.meme, N motif total=16511\n"
     ]
    },
    {
     "name": "stderr",
     "output_type": "stream",
     "text": [
      "/home/hanliu/miniconda3/envs/clustering/lib/python3.7/site-packages/ALLCools/dmr/fimo.py:60: FutureWarning: to_msgpack is deprecated and will be removed in a future version.\n",
      "It is recommended to use pyarrow for on-the-wire transmission of pandas objects.\n",
      "  final_df.to_msgpack(output_path, compress='zlib')\n"
     ]
    },
    {
     "name": "stdout",
     "output_type": "stream",
     "text": [
      "/home/hanliu/project/mouse_rostral_brain/DMR/SubType/raw/SubType-chr13/MotifScan.h5adtemp/MA0826.1.meme, N motif total=20162\n"
     ]
    },
    {
     "name": "stdout",
     "output_type": "stream",
     "text": [
      "/home/hanliu/project/mouse_rostral_brain/DMR/SubType/raw/SubType-chr13/MotifScan.h5adtemp/MA0711.1.meme, N motif total=11680\n"
     ]
    },
    {
     "name": "stderr",
     "output_type": "stream",
     "text": [
      "/home/hanliu/miniconda3/envs/clustering/lib/python3.7/site-packages/ALLCools/dmr/fimo.py:60: FutureWarning: to_msgpack is deprecated and will be removed in a future version.\n",
      "It is recommended to use pyarrow for on-the-wire transmission of pandas objects.\n",
      "  final_df.to_msgpack(output_path, compress='zlib')\n"
     ]
    },
    {
     "name": "stderr",
     "output_type": "stream",
     "text": [
      "/home/hanliu/miniconda3/envs/clustering/lib/python3.7/site-packages/ALLCools/dmr/fimo.py:60: FutureWarning: to_msgpack is deprecated and will be removed in a future version.\n",
      "It is recommended to use pyarrow for on-the-wire transmission of pandas objects.\n",
      "  final_df.to_msgpack(output_path, compress='zlib')\n"
     ]
    },
    {
     "name": "stdout",
     "output_type": "stream",
     "text": [
      "/home/hanliu/project/mouse_rostral_brain/DMR/SubType/raw/SubType-chr13/MotifScan.h5adtemp/MA0827.1.meme, N motif total=21143\n"
     ]
    },
    {
     "name": "stderr",
     "output_type": "stream",
     "text": [
      "/home/hanliu/miniconda3/envs/clustering/lib/python3.7/site-packages/ALLCools/dmr/fimo.py:60: FutureWarning: to_msgpack is deprecated and will be removed in a future version.\n",
      "It is recommended to use pyarrow for on-the-wire transmission of pandas objects.\n",
      "  final_df.to_msgpack(output_path, compress='zlib')\n"
     ]
    },
    {
     "name": "stdout",
     "output_type": "stream",
     "text": [
      "/home/hanliu/project/mouse_rostral_brain/DMR/SubType/raw/SubType-chr13/MotifScan.h5adtemp/MA0505.1.meme, N motif total=49917\n"
     ]
    },
    {
     "name": "stderr",
     "output_type": "stream",
     "text": [
      "/home/hanliu/miniconda3/envs/clustering/lib/python3.7/site-packages/ALLCools/dmr/fimo.py:60: FutureWarning: to_msgpack is deprecated and will be removed in a future version.\n",
      "It is recommended to use pyarrow for on-the-wire transmission of pandas objects.\n",
      "  final_df.to_msgpack(output_path, compress='zlib')\n"
     ]
    },
    {
     "name": "stdout",
     "output_type": "stream",
     "text": [
      "/home/hanliu/project/mouse_rostral_brain/DMR/SubType/raw/SubType-chr13/MotifScan.h5adtemp/MA0842.2.meme, N motif total=23239\n"
     ]
    },
    {
     "name": "stderr",
     "output_type": "stream",
     "text": [
      "/home/hanliu/miniconda3/envs/clustering/lib/python3.7/site-packages/ALLCools/dmr/fimo.py:60: FutureWarning: to_msgpack is deprecated and will be removed in a future version.\n",
      "It is recommended to use pyarrow for on-the-wire transmission of pandas objects.\n",
      "  final_df.to_msgpack(output_path, compress='zlib')\n"
     ]
    },
    {
     "name": "stdout",
     "output_type": "stream",
     "text": [
      "/home/hanliu/project/mouse_rostral_brain/DMR/SubType/raw/SubType-chr13/MotifScan.h5adtemp/MA1542.1.meme, N motif total=19437\n"
     ]
    },
    {
     "name": "stderr",
     "output_type": "stream",
     "text": [
      "/home/hanliu/miniconda3/envs/clustering/lib/python3.7/site-packages/ALLCools/dmr/fimo.py:60: FutureWarning: to_msgpack is deprecated and will be removed in a future version.\n",
      "It is recommended to use pyarrow for on-the-wire transmission of pandas objects.\n",
      "  final_df.to_msgpack(output_path, compress='zlib')\n"
     ]
    },
    {
     "name": "stdout",
     "output_type": "stream",
     "text": [
      "/home/hanliu/project/mouse_rostral_brain/DMR/SubType/raw/SubType-chr13/MotifScan.h5adtemp/MA1541.1.meme, N motif total=30897\n"
     ]
    },
    {
     "name": "stderr",
     "output_type": "stream",
     "text": [
      "/home/hanliu/miniconda3/envs/clustering/lib/python3.7/site-packages/ALLCools/dmr/fimo.py:60: FutureWarning: to_msgpack is deprecated and will be removed in a future version.\n",
      "It is recommended to use pyarrow for on-the-wire transmission of pandas objects.\n",
      "  final_df.to_msgpack(output_path, compress='zlib')\n"
     ]
    },
    {
     "name": "stdout",
     "output_type": "stream",
     "text": [
      "/home/hanliu/project/mouse_rostral_brain/DMR/SubType/raw/SubType-chr13/MotifScan.h5adtemp/MA0067.1.meme, N motif total=5695\n"
     ]
    },
    {
     "name": "stderr",
     "output_type": "stream",
     "text": [
      "/home/hanliu/miniconda3/envs/clustering/lib/python3.7/site-packages/ALLCools/dmr/fimo.py:60: FutureWarning: to_msgpack is deprecated and will be removed in a future version.\n",
      "It is recommended to use pyarrow for on-the-wire transmission of pandas objects.\n",
      "  final_df.to_msgpack(output_path, compress='zlib')\n"
     ]
    },
    {
     "name": "stdout",
     "output_type": "stream",
     "text": [
      "/home/hanliu/project/mouse_rostral_brain/DMR/SubType/raw/SubType-chr13/MotifScan.h5adtemp/MA1646.1.meme, N motif total=55644\n"
     ]
    },
    {
     "name": "stderr",
     "output_type": "stream",
     "text": [
      "/home/hanliu/miniconda3/envs/clustering/lib/python3.7/site-packages/ALLCools/dmr/fimo.py:60: FutureWarning: to_msgpack is deprecated and will be removed in a future version.\n",
      "It is recommended to use pyarrow for on-the-wire transmission of pandas objects.\n",
      "  final_df.to_msgpack(output_path, compress='zlib')\n"
     ]
    },
    {
     "name": "stdout",
     "output_type": "stream",
     "text": [
      "/home/hanliu/project/mouse_rostral_brain/DMR/SubType/raw/SubType-chr13/MotifScan.h5adtemp/MA0756.1.meme, N motif total=16305\n"
     ]
    },
    {
     "name": "stderr",
     "output_type": "stream",
     "text": [
      "/home/hanliu/miniconda3/envs/clustering/lib/python3.7/site-packages/ALLCools/dmr/fimo.py:60: FutureWarning: to_msgpack is deprecated and will be removed in a future version.\n",
      "It is recommended to use pyarrow for on-the-wire transmission of pandas objects.\n",
      "  final_df.to_msgpack(output_path, compress='zlib')\n"
     ]
    },
    {
     "name": "stdout",
     "output_type": "stream",
     "text": [
      "/home/hanliu/project/mouse_rostral_brain/DMR/SubType/raw/SubType-chr13/MotifScan.h5adtemp/MA0757.1.meme, N motif total=31429\n"
     ]
    },
    {
     "name": "stderr",
     "output_type": "stream",
     "text": [
      "/home/hanliu/miniconda3/envs/clustering/lib/python3.7/site-packages/ALLCools/dmr/fimo.py:60: FutureWarning: to_msgpack is deprecated and will be removed in a future version.\n",
      "It is recommended to use pyarrow for on-the-wire transmission of pandas objects.\n",
      "  final_df.to_msgpack(output_path, compress='zlib')\n"
     ]
    },
    {
     "name": "stdout",
     "output_type": "stream",
     "text": [
      "/home/hanliu/project/mouse_rostral_brain/DMR/SubType/raw/SubType-chr13/MotifScan.h5adtemp/MA0679.2.meme, N motif total=41160\n"
     ]
    },
    {
     "name": "stderr",
     "output_type": "stream",
     "text": [
      "/home/hanliu/miniconda3/envs/clustering/lib/python3.7/site-packages/ALLCools/dmr/fimo.py:60: FutureWarning: to_msgpack is deprecated and will be removed in a future version.\n",
      "It is recommended to use pyarrow for on-the-wire transmission of pandas objects.\n",
      "  final_df.to_msgpack(output_path, compress='zlib')\n"
     ]
    },
    {
     "name": "stdout",
     "output_type": "stream",
     "text": [
      "/home/hanliu/project/mouse_rostral_brain/DMR/SubType/raw/SubType-chr13/MotifScan.h5adtemp/MA0712.2.meme, N motif total=23980\n"
     ]
    },
    {
     "name": "stderr",
     "output_type": "stream",
     "text": [
      "/home/hanliu/miniconda3/envs/clustering/lib/python3.7/site-packages/ALLCools/dmr/fimo.py:60: FutureWarning: to_msgpack is deprecated and will be removed in a future version.\n",
      "It is recommended to use pyarrow for on-the-wire transmission of pandas objects.\n",
      "  final_df.to_msgpack(output_path, compress='zlib')\n"
     ]
    },
    {
     "name": "stdout",
     "output_type": "stream",
     "text": [
      "/home/hanliu/project/mouse_rostral_brain/DMR/SubType/raw/SubType-chr13/MotifScan.h5adtemp/MA1545.1.meme, N motif total=2581\n"
     ]
    },
    {
     "name": "stderr",
     "output_type": "stream",
     "text": [
      "/home/hanliu/miniconda3/envs/clustering/lib/python3.7/site-packages/ALLCools/dmr/fimo.py:60: FutureWarning: to_msgpack is deprecated and will be removed in a future version.\n",
      "It is recommended to use pyarrow for on-the-wire transmission of pandas objects.\n",
      "  final_df.to_msgpack(output_path, compress='zlib')\n"
     ]
    },
    {
     "name": "stdout",
     "output_type": "stream",
     "text": [
      "/home/hanliu/project/mouse_rostral_brain/DMR/SubType/raw/SubType-chr13/MotifScan.h5adtemp/MA0780.1.meme, N motif total=17344\n"
     ]
    },
    {
     "name": "stderr",
     "output_type": "stream",
     "text": [
      "/home/hanliu/miniconda3/envs/clustering/lib/python3.7/site-packages/ALLCools/dmr/fimo.py:60: FutureWarning: to_msgpack is deprecated and will be removed in a future version.\n",
      "It is recommended to use pyarrow for on-the-wire transmission of pandas objects.\n",
      "  final_df.to_msgpack(output_path, compress='zlib')\n"
     ]
    },
    {
     "name": "stdout",
     "output_type": "stream",
     "text": [
      "/home/hanliu/project/mouse_rostral_brain/DMR/SubType/raw/SubType-chr13/MotifScan.h5adtemp/MA0068.2.meme, N motif total=10614\n"
     ]
    },
    {
     "name": "stderr",
     "output_type": "stream",
     "text": [
      "/home/hanliu/miniconda3/envs/clustering/lib/python3.7/site-packages/ALLCools/dmr/fimo.py:60: FutureWarning: to_msgpack is deprecated and will be removed in a future version.\n",
      "It is recommended to use pyarrow for on-the-wire transmission of pandas objects.\n",
      "  final_df.to_msgpack(output_path, compress='zlib')\n"
     ]
    },
    {
     "name": "stdout",
     "output_type": "stream",
     "text": [
      "/home/hanliu/project/mouse_rostral_brain/DMR/SubType/raw/SubType-chr13/MotifScan.h5adtemp/MA1544.1.meme, N motif total=2757\n"
     ]
    },
    {
     "name": "stderr",
     "output_type": "stream",
     "text": [
      "/home/hanliu/miniconda3/envs/clustering/lib/python3.7/site-packages/ALLCools/dmr/fimo.py:60: FutureWarning: to_msgpack is deprecated and will be removed in a future version.\n",
      "It is recommended to use pyarrow for on-the-wire transmission of pandas objects.\n",
      "  final_df.to_msgpack(output_path, compress='zlib')\n"
     ]
    },
    {
     "name": "stdout",
     "output_type": "stream",
     "text": [
      "/home/hanliu/project/mouse_rostral_brain/DMR/SubType/raw/SubType-chr13/MotifScan.h5adtemp/MA0680.1.meme, N motif total=16500\n"
     ]
    },
    {
     "name": "stderr",
     "output_type": "stream",
     "text": [
      "/home/hanliu/miniconda3/envs/clustering/lib/python3.7/site-packages/ALLCools/dmr/fimo.py:60: FutureWarning: to_msgpack is deprecated and will be removed in a future version.\n",
      "It is recommended to use pyarrow for on-the-wire transmission of pandas objects.\n",
      "  final_df.to_msgpack(output_path, compress='zlib')\n"
     ]
    },
    {
     "name": "stdout",
     "output_type": "stream",
     "text": [
      "/home/hanliu/project/mouse_rostral_brain/DMR/SubType/raw/SubType-chr13/MotifScan.h5adtemp/MA0014.3.meme, N motif total=10671\n"
     ]
    },
    {
     "name": "stderr",
     "output_type": "stream",
     "text": [
      "/home/hanliu/miniconda3/envs/clustering/lib/python3.7/site-packages/ALLCools/dmr/fimo.py:60: FutureWarning: to_msgpack is deprecated and will be removed in a future version.\n",
      "It is recommended to use pyarrow for on-the-wire transmission of pandas objects.\n",
      "  final_df.to_msgpack(output_path, compress='zlib')\n"
     ]
    },
    {
     "name": "stdout",
     "output_type": "stream",
     "text": [
      "/home/hanliu/project/mouse_rostral_brain/DMR/SubType/raw/SubType-chr13/MotifScan.h5adtemp/MA0779.1.meme, N motif total=5936\n"
     ]
    },
    {
     "name": "stderr",
     "output_type": "stream",
     "text": [
      "/home/hanliu/miniconda3/envs/clustering/lib/python3.7/site-packages/ALLCools/dmr/fimo.py:60: FutureWarning: to_msgpack is deprecated and will be removed in a future version.\n",
      "It is recommended to use pyarrow for on-the-wire transmission of pandas objects.\n",
      "  final_df.to_msgpack(output_path, compress='zlib')\n"
     ]
    },
    {
     "name": "stdout",
     "output_type": "stream",
     "text": [
      "/home/hanliu/project/mouse_rostral_brain/DMR/SubType/raw/SubType-chr13/MotifScan.h5adtemp/MA0069.1.meme, N motif total=12745\n"
     ]
    },
    {
     "name": "stderr",
     "output_type": "stream",
     "text": [
      "/home/hanliu/miniconda3/envs/clustering/lib/python3.7/site-packages/ALLCools/dmr/fimo.py:60: FutureWarning: to_msgpack is deprecated and will be removed in a future version.\n",
      "It is recommended to use pyarrow for on-the-wire transmission of pandas objects.\n",
      "  final_df.to_msgpack(output_path, compress='zlib')\n"
     ]
    },
    {
     "name": "stdout",
     "output_type": "stream",
     "text": [
      "/home/hanliu/project/mouse_rostral_brain/DMR/SubType/raw/SubType-chr13/MotifScan.h5adtemp/MA1546.1.meme, N motif total=7741\n"
     ]
    },
    {
     "name": "stderr",
     "output_type": "stream",
     "text": [
      "/home/hanliu/miniconda3/envs/clustering/lib/python3.7/site-packages/ALLCools/dmr/fimo.py:60: FutureWarning: to_msgpack is deprecated and will be removed in a future version.\n",
      "It is recommended to use pyarrow for on-the-wire transmission of pandas objects.\n",
      "  final_df.to_msgpack(output_path, compress='zlib')\n"
     ]
    },
    {
     "name": "stdout",
     "output_type": "stream",
     "text": [
      "/home/hanliu/project/mouse_rostral_brain/DMR/SubType/raw/SubType-chr13/MotifScan.h5adtemp/MA0070.1.meme, N motif total=22583\n"
     ]
    },
    {
     "name": "stderr",
     "output_type": "stream",
     "text": [
      "/home/hanliu/miniconda3/envs/clustering/lib/python3.7/site-packages/ALLCools/dmr/fimo.py:60: FutureWarning: to_msgpack is deprecated and will be removed in a future version.\n",
      "It is recommended to use pyarrow for on-the-wire transmission of pandas objects.\n",
      "  final_df.to_msgpack(output_path, compress='zlib')\n"
     ]
    },
    {
     "name": "stdout",
     "output_type": "stream",
     "text": [
      "/home/hanliu/project/mouse_rostral_brain/DMR/SubType/raw/SubType-chr13/MotifScan.h5adtemp/MA0132.2.meme, N motif total=12662\n"
     ]
    },
    {
     "name": "stderr",
     "output_type": "stream",
     "text": [
      "/home/hanliu/miniconda3/envs/clustering/lib/python3.7/site-packages/ALLCools/dmr/fimo.py:60: FutureWarning: to_msgpack is deprecated and will be removed in a future version.\n",
      "It is recommended to use pyarrow for on-the-wire transmission of pandas objects.\n",
      "  final_df.to_msgpack(output_path, compress='zlib')\n"
     ]
    },
    {
     "name": "stdout",
     "output_type": "stream",
     "text": [
      "/home/hanliu/project/mouse_rostral_brain/DMR/SubType/raw/SubType-chr13/MotifScan.h5adtemp/MA1113.2.meme, N motif total=24495\n"
     ]
    },
    {
     "name": "stderr",
     "output_type": "stream",
     "text": [
      "/home/hanliu/miniconda3/envs/clustering/lib/python3.7/site-packages/ALLCools/dmr/fimo.py:60: FutureWarning: to_msgpack is deprecated and will be removed in a future version.\n",
      "It is recommended to use pyarrow for on-the-wire transmission of pandas objects.\n",
      "  final_df.to_msgpack(output_path, compress='zlib')\n"
     ]
    },
    {
     "name": "stdout",
     "output_type": "stream",
     "text": [
      "/home/hanliu/project/mouse_rostral_brain/DMR/SubType/raw/SubType-chr13/MotifScan.h5adtemp/MA0781.1.meme, N motif total=1557\n"
     ]
    },
    {
     "name": "stderr",
     "output_type": "stream",
     "text": [
      "/home/hanliu/miniconda3/envs/clustering/lib/python3.7/site-packages/ALLCools/dmr/fimo.py:60: FutureWarning: to_msgpack is deprecated and will be removed in a future version.\n",
      "It is recommended to use pyarrow for on-the-wire transmission of pandas objects.\n",
      "  final_df.to_msgpack(output_path, compress='zlib')\n"
     ]
    },
    {
     "name": "stdout",
     "output_type": "stream",
     "text": [
      "/home/hanliu/project/mouse_rostral_brain/DMR/SubType/raw/SubType-chr13/MotifScan.h5adtemp/MA0713.1.meme, N motif total=23203\n"
     ]
    },
    {
     "name": "stderr",
     "output_type": "stream",
     "text": [
      "/home/hanliu/miniconda3/envs/clustering/lib/python3.7/site-packages/ALLCools/dmr/fimo.py:60: FutureWarning: to_msgpack is deprecated and will be removed in a future version.\n",
      "It is recommended to use pyarrow for on-the-wire transmission of pandas objects.\n",
      "  final_df.to_msgpack(output_path, compress='zlib')\n"
     ]
    },
    {
     "name": "stdout",
     "output_type": "stream",
     "text": [
      "/home/hanliu/project/mouse_rostral_brain/DMR/SubType/raw/SubType-chr13/MotifScan.h5adtemp/MA0714.1.meme, N motif total=18439\n"
     ]
    },
    {
     "name": "stderr",
     "output_type": "stream",
     "text": [
      "/home/hanliu/miniconda3/envs/clustering/lib/python3.7/site-packages/ALLCools/dmr/fimo.py:60: FutureWarning: to_msgpack is deprecated and will be removed in a future version.\n",
      "It is recommended to use pyarrow for on-the-wire transmission of pandas objects.\n",
      "  final_df.to_msgpack(output_path, compress='zlib')\n"
     ]
    },
    {
     "name": "stdout",
     "output_type": "stream",
     "text": [
      "/home/hanliu/project/mouse_rostral_brain/DMR/SubType/raw/SubType-chr13/MotifScan.h5adtemp/MA0682.2.meme, N motif total=19185\n"
     ]
    },
    {
     "name": "stderr",
     "output_type": "stream",
     "text": [
      "/home/hanliu/miniconda3/envs/clustering/lib/python3.7/site-packages/ALLCools/dmr/fimo.py:60: FutureWarning: to_msgpack is deprecated and will be removed in a future version.\n",
      "It is recommended to use pyarrow for on-the-wire transmission of pandas objects.\n",
      "  final_df.to_msgpack(output_path, compress='zlib')\n"
     ]
    },
    {
     "name": "stdout",
     "output_type": "stream",
     "text": [
      "/home/hanliu/project/mouse_rostral_brain/DMR/SubType/raw/SubType-chr13/MotifScan.h5adtemp/MA1547.1.meme, N motif total=18965\n"
     ]
    },
    {
     "name": "stderr",
     "output_type": "stream",
     "text": [
      "/home/hanliu/miniconda3/envs/clustering/lib/python3.7/site-packages/ALLCools/dmr/fimo.py:60: FutureWarning: to_msgpack is deprecated and will be removed in a future version.\n",
      "It is recommended to use pyarrow for on-the-wire transmission of pandas objects.\n",
      "  final_df.to_msgpack(output_path, compress='zlib')\n"
     ]
    },
    {
     "name": "stdout",
     "output_type": "stream",
     "text": [
      "/home/hanliu/project/mouse_rostral_brain/DMR/SubType/raw/SubType-chr13/MotifScan.h5adtemp/MA1114.1.meme, N motif total=41355\n"
     ]
    },
    {
     "name": "stderr",
     "output_type": "stream",
     "text": [
      "/home/hanliu/miniconda3/envs/clustering/lib/python3.7/site-packages/ALLCools/dmr/fimo.py:60: FutureWarning: to_msgpack is deprecated and will be removed in a future version.\n",
      "It is recommended to use pyarrow for on-the-wire transmission of pandas objects.\n",
      "  final_df.to_msgpack(output_path, compress='zlib')\n"
     ]
    },
    {
     "name": "stdout",
     "output_type": "stream",
     "text": [
      "/home/hanliu/project/mouse_rostral_brain/DMR/SubType/raw/SubType-chr13/MotifScan.h5adtemp/MA0783.1.meme, N motif total=14279\n"
     ]
    },
    {
     "name": "stderr",
     "output_type": "stream",
     "text": [
      "/home/hanliu/miniconda3/envs/clustering/lib/python3.7/site-packages/ALLCools/dmr/fimo.py:60: FutureWarning: to_msgpack is deprecated and will be removed in a future version.\n",
      "It is recommended to use pyarrow for on-the-wire transmission of pandas objects.\n",
      "  final_df.to_msgpack(output_path, compress='zlib')\n"
     ]
    },
    {
     "name": "stdout",
     "output_type": "stream",
     "text": [
      "/home/hanliu/project/mouse_rostral_brain/DMR/SubType/raw/SubType-chr13/MotifScan.h5adtemp/MA1548.1.meme, N motif total=23013\n"
     ]
    },
    {
     "name": "stderr",
     "output_type": "stream",
     "text": [
      "/home/hanliu/miniconda3/envs/clustering/lib/python3.7/site-packages/ALLCools/dmr/fimo.py:60: FutureWarning: to_msgpack is deprecated and will be removed in a future version.\n",
      "It is recommended to use pyarrow for on-the-wire transmission of pandas objects.\n",
      "  final_df.to_msgpack(output_path, compress='zlib')\n"
     ]
    },
    {
     "name": "stdout",
     "output_type": "stream",
     "text": [
      "/home/hanliu/project/mouse_rostral_brain/DMR/SubType/raw/SubType-chr13/MotifScan.h5adtemp/MA0782.2.meme, N motif total=35521\n"
     ]
    },
    {
     "name": "stderr",
     "output_type": "stream",
     "text": [
      "/home/hanliu/miniconda3/envs/clustering/lib/python3.7/site-packages/ALLCools/dmr/fimo.py:60: FutureWarning: to_msgpack is deprecated and will be removed in a future version.\n",
      "It is recommended to use pyarrow for on-the-wire transmission of pandas objects.\n",
      "  final_df.to_msgpack(output_path, compress='zlib')\n"
     ]
    },
    {
     "name": "stdout",
     "output_type": "stream",
     "text": [
      "/home/hanliu/project/mouse_rostral_brain/DMR/SubType/raw/SubType-chr13/MotifScan.h5adtemp/MA0681.2.meme, N motif total=47743\n"
     ]
    },
    {
     "name": "stderr",
     "output_type": "stream",
     "text": [
      "/home/hanliu/miniconda3/envs/clustering/lib/python3.7/site-packages/ALLCools/dmr/fimo.py:60: FutureWarning: to_msgpack is deprecated and will be removed in a future version.\n",
      "It is recommended to use pyarrow for on-the-wire transmission of pandas objects.\n",
      "  final_df.to_msgpack(output_path, compress='zlib')\n"
     ]
    },
    {
     "name": "stdout",
     "output_type": "stream",
     "text": [
      "/home/hanliu/project/mouse_rostral_brain/DMR/SubType/raw/SubType-chr13/MotifScan.h5adtemp/MA0163.1.meme, N motif total=35475\n"
     ]
    },
    {
     "name": "stderr",
     "output_type": "stream",
     "text": [
      "/home/hanliu/miniconda3/envs/clustering/lib/python3.7/site-packages/ALLCools/dmr/fimo.py:60: FutureWarning: to_msgpack is deprecated and will be removed in a future version.\n",
      "It is recommended to use pyarrow for on-the-wire transmission of pandas objects.\n",
      "  final_df.to_msgpack(output_path, compress='zlib')\n"
     ]
    },
    {
     "name": "stdout",
     "output_type": "stream",
     "text": [
      "/home/hanliu/project/mouse_rostral_brain/DMR/SubType/raw/SubType-chr13/MotifScan.h5adtemp/MA0789.1.meme, N motif total=31453\n"
     ]
    },
    {
     "name": "stderr",
     "output_type": "stream",
     "text": [
      "/home/hanliu/miniconda3/envs/clustering/lib/python3.7/site-packages/ALLCools/dmr/fimo.py:60: FutureWarning: to_msgpack is deprecated and will be removed in a future version.\n",
      "It is recommended to use pyarrow for on-the-wire transmission of pandas objects.\n",
      "  final_df.to_msgpack(output_path, compress='zlib')\n"
     ]
    },
    {
     "name": "stdout",
     "output_type": "stream",
     "text": [
      "/home/hanliu/project/mouse_rostral_brain/DMR/SubType/raw/SubType-chr13/MotifScan.h5adtemp/MA1615.1.meme, N motif total=39731\n"
     ]
    },
    {
     "name": "stderr",
     "output_type": "stream",
     "text": [
      "/home/hanliu/miniconda3/envs/clustering/lib/python3.7/site-packages/ALLCools/dmr/fimo.py:60: FutureWarning: to_msgpack is deprecated and will be removed in a future version.\n",
      "It is recommended to use pyarrow for on-the-wire transmission of pandas objects.\n",
      "  final_df.to_msgpack(output_path, compress='zlib')\n"
     ]
    },
    {
     "name": "stdout",
     "output_type": "stream",
     "text": [
      "/home/hanliu/project/mouse_rostral_brain/DMR/SubType/raw/SubType-chr13/MotifScan.h5adtemp/MA0785.1.meme, N motif total=32633\n"
     ]
    },
    {
     "name": "stderr",
     "output_type": "stream",
     "text": [
      "/home/hanliu/miniconda3/envs/clustering/lib/python3.7/site-packages/ALLCools/dmr/fimo.py:60: FutureWarning: to_msgpack is deprecated and will be removed in a future version.\n",
      "It is recommended to use pyarrow for on-the-wire transmission of pandas objects.\n",
      "  final_df.to_msgpack(output_path, compress='zlib')\n"
     ]
    },
    {
     "name": "stdout",
     "output_type": "stream",
     "text": [
      "/home/hanliu/project/mouse_rostral_brain/DMR/SubType/raw/SubType-chr13/MotifScan.h5adtemp/MA0627.2.meme, N motif total=44711\n"
     ]
    },
    {
     "name": "stderr",
     "output_type": "stream",
     "text": [
      "/home/hanliu/miniconda3/envs/clustering/lib/python3.7/site-packages/ALLCools/dmr/fimo.py:60: FutureWarning: to_msgpack is deprecated and will be removed in a future version.\n",
      "It is recommended to use pyarrow for on-the-wire transmission of pandas objects.\n",
      "  final_df.to_msgpack(output_path, compress='zlib')\n"
     ]
    },
    {
     "name": "stdout",
     "output_type": "stream",
     "text": [
      "/home/hanliu/project/mouse_rostral_brain/DMR/SubType/raw/SubType-chr13/MotifScan.h5adtemp/MA0786.1.meme, N motif total=39577\n"
     ]
    },
    {
     "name": "stderr",
     "output_type": "stream",
     "text": [
      "/home/hanliu/miniconda3/envs/clustering/lib/python3.7/site-packages/ALLCools/dmr/fimo.py:60: FutureWarning: to_msgpack is deprecated and will be removed in a future version.\n",
      "It is recommended to use pyarrow for on-the-wire transmission of pandas objects.\n",
      "  final_df.to_msgpack(output_path, compress='zlib')\n"
     ]
    },
    {
     "name": "stdout",
     "output_type": "stream",
     "text": [
      "/home/hanliu/project/mouse_rostral_brain/DMR/SubType/raw/SubType-chr13/MotifScan.h5adtemp/MA0787.1.meme, N motif total=35612\n"
     ]
    },
    {
     "name": "stderr",
     "output_type": "stream",
     "text": [
      "/home/hanliu/miniconda3/envs/clustering/lib/python3.7/site-packages/ALLCools/dmr/fimo.py:60: FutureWarning: to_msgpack is deprecated and will be removed in a future version.\n",
      "It is recommended to use pyarrow for on-the-wire transmission of pandas objects.\n",
      "  final_df.to_msgpack(output_path, compress='zlib')\n"
     ]
    },
    {
     "name": "stdout",
     "output_type": "stream",
     "text": [
      "/home/hanliu/project/mouse_rostral_brain/DMR/SubType/raw/SubType-chr13/MotifScan.h5adtemp/MA0507.1.meme, N motif total=49224\n"
     ]
    },
    {
     "name": "stderr",
     "output_type": "stream",
     "text": [
      "/home/hanliu/miniconda3/envs/clustering/lib/python3.7/site-packages/ALLCools/dmr/fimo.py:60: FutureWarning: to_msgpack is deprecated and will be removed in a future version.\n",
      "It is recommended to use pyarrow for on-the-wire transmission of pandas objects.\n",
      "  final_df.to_msgpack(output_path, compress='zlib')\n"
     ]
    },
    {
     "name": "stdout",
     "output_type": "stream",
     "text": [
      "/home/hanliu/project/mouse_rostral_brain/DMR/SubType/raw/SubType-chr13/MotifScan.h5adtemp/MA0784.1.meme, N motif total=36678\n"
     ]
    },
    {
     "name": "stderr",
     "output_type": "stream",
     "text": [
      "/home/hanliu/miniconda3/envs/clustering/lib/python3.7/site-packages/ALLCools/dmr/fimo.py:60: FutureWarning: to_msgpack is deprecated and will be removed in a future version.\n",
      "It is recommended to use pyarrow for on-the-wire transmission of pandas objects.\n",
      "  final_df.to_msgpack(output_path, compress='zlib')\n"
     ]
    },
    {
     "name": "stdout",
     "output_type": "stream",
     "text": [
      "/home/hanliu/project/mouse_rostral_brain/DMR/SubType/raw/SubType-chr13/MotifScan.h5adtemp/MA0788.1.meme, N motif total=36902\n"
     ]
    },
    {
     "name": "stderr",
     "output_type": "stream",
     "text": [
      "/home/hanliu/miniconda3/envs/clustering/lib/python3.7/site-packages/ALLCools/dmr/fimo.py:60: FutureWarning: to_msgpack is deprecated and will be removed in a future version.\n",
      "It is recommended to use pyarrow for on-the-wire transmission of pandas objects.\n",
      "  final_df.to_msgpack(output_path, compress='zlib')\n"
     ]
    },
    {
     "name": "stdout",
     "output_type": "stream",
     "text": [
      "/home/hanliu/project/mouse_rostral_brain/DMR/SubType/raw/SubType-chr13/MotifScan.h5adtemp/MA0790.1.meme, N motif total=35005\n"
     ]
    },
    {
     "name": "stderr",
     "output_type": "stream",
     "text": [
      "/home/hanliu/miniconda3/envs/clustering/lib/python3.7/site-packages/ALLCools/dmr/fimo.py:60: FutureWarning: to_msgpack is deprecated and will be removed in a future version.\n",
      "It is recommended to use pyarrow for on-the-wire transmission of pandas objects.\n",
      "  final_df.to_msgpack(output_path, compress='zlib')\n"
     ]
    },
    {
     "name": "stdout",
     "output_type": "stream",
     "text": [
      "/home/hanliu/project/mouse_rostral_brain/DMR/SubType/raw/SubType-chr13/MotifScan.h5adtemp/MA1115.1.meme, N motif total=41423\n"
     ]
    },
    {
     "name": "stderr",
     "output_type": "stream",
     "text": [
      "/home/hanliu/miniconda3/envs/clustering/lib/python3.7/site-packages/ALLCools/dmr/fimo.py:60: FutureWarning: to_msgpack is deprecated and will be removed in a future version.\n",
      "It is recommended to use pyarrow for on-the-wire transmission of pandas objects.\n",
      "  final_df.to_msgpack(output_path, compress='zlib')\n"
     ]
    },
    {
     "name": "stdout",
     "output_type": "stream",
     "text": [
      "/home/hanliu/project/mouse_rostral_brain/DMR/SubType/raw/SubType-chr13/MotifScan.h5adtemp/MA1549.1.meme, N motif total=19891\n"
     ]
    },
    {
     "name": "stderr",
     "output_type": "stream",
     "text": [
      "/home/hanliu/miniconda3/envs/clustering/lib/python3.7/site-packages/ALLCools/dmr/fimo.py:60: FutureWarning: to_msgpack is deprecated and will be removed in a future version.\n",
      "It is recommended to use pyarrow for on-the-wire transmission of pandas objects.\n",
      "  final_df.to_msgpack(output_path, compress='zlib')\n"
     ]
    },
    {
     "name": "stdout",
     "output_type": "stream",
     "text": [
      "/home/hanliu/project/mouse_rostral_brain/DMR/SubType/raw/SubType-chr13/MotifScan.h5adtemp/MA0628.1.meme, N motif total=18190\n"
     ]
    },
    {
     "name": "stderr",
     "output_type": "stream",
     "text": [
      "/home/hanliu/miniconda3/envs/clustering/lib/python3.7/site-packages/ALLCools/dmr/fimo.py:60: FutureWarning: to_msgpack is deprecated and will be removed in a future version.\n",
      "It is recommended to use pyarrow for on-the-wire transmission of pandas objects.\n",
      "  final_df.to_msgpack(output_path, compress='zlib')\n"
     ]
    },
    {
     "name": "stdout",
     "output_type": "stream",
     "text": [
      "/home/hanliu/project/mouse_rostral_brain/DMR/SubType/raw/SubType-chr13/MotifScan.h5adtemp/MA0793.1.meme, N motif total=20281\n"
     ]
    },
    {
     "name": "stderr",
     "output_type": "stream",
     "text": [
      "/home/hanliu/miniconda3/envs/clustering/lib/python3.7/site-packages/ALLCools/dmr/fimo.py:60: FutureWarning: to_msgpack is deprecated and will be removed in a future version.\n",
      "It is recommended to use pyarrow for on-the-wire transmission of pandas objects.\n",
      "  final_df.to_msgpack(output_path, compress='zlib')\n"
     ]
    },
    {
     "name": "stdout",
     "output_type": "stream",
     "text": [
      "/home/hanliu/project/mouse_rostral_brain/DMR/SubType/raw/SubType-chr13/MotifScan.h5adtemp/MA0683.1.meme, N motif total=29920\n"
     ]
    },
    {
     "name": "stderr",
     "output_type": "stream",
     "text": [
      "/home/hanliu/miniconda3/envs/clustering/lib/python3.7/site-packages/ALLCools/dmr/fimo.py:60: FutureWarning: to_msgpack is deprecated and will be removed in a future version.\n",
      "It is recommended to use pyarrow for on-the-wire transmission of pandas objects.\n",
      "  final_df.to_msgpack(output_path, compress='zlib')\n"
     ]
    },
    {
     "name": "stdout",
     "output_type": "stream",
     "text": [
      "/home/hanliu/project/mouse_rostral_brain/DMR/SubType/raw/SubType-chr13/MotifScan.h5adtemp/MA0791.1.meme, N motif total=32713\n"
     ]
    },
    {
     "name": "stderr",
     "output_type": "stream",
     "text": [
      "/home/hanliu/miniconda3/envs/clustering/lib/python3.7/site-packages/ALLCools/dmr/fimo.py:60: FutureWarning: to_msgpack is deprecated and will be removed in a future version.\n",
      "It is recommended to use pyarrow for on-the-wire transmission of pandas objects.\n",
      "  final_df.to_msgpack(output_path, compress='zlib')\n"
     ]
    },
    {
     "name": "stdout",
     "output_type": "stream",
     "text": [
      "/home/hanliu/project/mouse_rostral_brain/DMR/SubType/raw/SubType-chr13/MotifScan.h5adtemp/MA0142.1.meme, N motif total=44740\n"
     ]
    },
    {
     "name": "stderr",
     "output_type": "stream",
     "text": [
      "/home/hanliu/miniconda3/envs/clustering/lib/python3.7/site-packages/ALLCools/dmr/fimo.py:60: FutureWarning: to_msgpack is deprecated and will be removed in a future version.\n",
      "It is recommended to use pyarrow for on-the-wire transmission of pandas objects.\n",
      "  final_df.to_msgpack(output_path, compress='zlib')\n"
     ]
    },
    {
     "name": "stdout",
     "output_type": "stream",
     "text": [
      "/home/hanliu/project/mouse_rostral_brain/DMR/SubType/raw/SubType-chr13/MotifScan.h5adtemp/MA1647.1.meme, N motif total=43735\n"
     ]
    },
    {
     "name": "stderr",
     "output_type": "stream",
     "text": [
      "/home/hanliu/miniconda3/envs/clustering/lib/python3.7/site-packages/ALLCools/dmr/fimo.py:60: FutureWarning: to_msgpack is deprecated and will be removed in a future version.\n",
      "It is recommended to use pyarrow for on-the-wire transmission of pandas objects.\n",
      "  final_df.to_msgpack(output_path, compress='zlib')\n"
     ]
    },
    {
     "name": "stdout",
     "output_type": "stream",
     "text": [
      "/home/hanliu/project/mouse_rostral_brain/DMR/SubType/raw/SubType-chr13/MotifScan.h5adtemp/MA0794.1.meme, N motif total=11849\n"
     ]
    },
    {
     "name": "stderr",
     "output_type": "stream",
     "text": [
      "/home/hanliu/miniconda3/envs/clustering/lib/python3.7/site-packages/ALLCools/dmr/fimo.py:60: FutureWarning: to_msgpack is deprecated and will be removed in a future version.\n",
      "It is recommended to use pyarrow for on-the-wire transmission of pandas objects.\n",
      "  final_df.to_msgpack(output_path, compress='zlib')\n"
     ]
    },
    {
     "name": "stdout",
     "output_type": "stream",
     "text": [
      "/home/hanliu/project/mouse_rostral_brain/DMR/SubType/raw/SubType-chr13/MotifScan.h5adtemp/MA0716.1.meme, N motif total=16279\n"
     ]
    },
    {
     "name": "stderr",
     "output_type": "stream",
     "text": [
      "/home/hanliu/miniconda3/envs/clustering/lib/python3.7/site-packages/ALLCools/dmr/fimo.py:60: FutureWarning: to_msgpack is deprecated and will be removed in a future version.\n",
      "It is recommended to use pyarrow for on-the-wire transmission of pandas objects.\n",
      "  final_df.to_msgpack(output_path, compress='zlib')\n"
     ]
    },
    {
     "name": "stdout",
     "output_type": "stream",
     "text": [
      "/home/hanliu/project/mouse_rostral_brain/DMR/SubType/raw/SubType-chr13/MotifScan.h5adtemp/MA0715.1.meme, N motif total=30079\n"
     ]
    },
    {
     "name": "stderr",
     "output_type": "stream",
     "text": [
      "/home/hanliu/miniconda3/envs/clustering/lib/python3.7/site-packages/ALLCools/dmr/fimo.py:60: FutureWarning: to_msgpack is deprecated and will be removed in a future version.\n",
      "It is recommended to use pyarrow for on-the-wire transmission of pandas objects.\n",
      "  final_df.to_msgpack(output_path, compress='zlib')\n"
     ]
    },
    {
     "name": "stdout",
     "output_type": "stream",
     "text": [
      "/home/hanliu/project/mouse_rostral_brain/DMR/SubType/raw/SubType-chr13/MotifScan.h5adtemp/MA0508.3.meme, N motif total=149794\n"
     ]
    },
    {
     "name": "stdout",
     "output_type": "stream",
     "text": [
      "/home/hanliu/project/mouse_rostral_brain/DMR/SubType/raw/SubType-chr13/MotifScan.h5adtemp/MA0065.2.meme, N motif total=57919\n"
     ]
    },
    {
     "name": "stderr",
     "output_type": "stream",
     "text": [
      "/home/hanliu/miniconda3/envs/clustering/lib/python3.7/site-packages/ALLCools/dmr/fimo.py:60: FutureWarning: to_msgpack is deprecated and will be removed in a future version.\n",
      "It is recommended to use pyarrow for on-the-wire transmission of pandas objects.\n",
      "  final_df.to_msgpack(output_path, compress='zlib')\n"
     ]
    },
    {
     "name": "stderr",
     "output_type": "stream",
     "text": [
      "/home/hanliu/miniconda3/envs/clustering/lib/python3.7/site-packages/ALLCools/dmr/fimo.py:60: FutureWarning: to_msgpack is deprecated and will be removed in a future version.\n",
      "It is recommended to use pyarrow for on-the-wire transmission of pandas objects.\n",
      "  final_df.to_msgpack(output_path, compress='zlib')\n"
     ]
    },
    {
     "name": "stdout",
     "output_type": "stream",
     "text": [
      "Finish count 500 motifs.\n"
     ]
    },
    {
     "name": "stdout",
     "output_type": "stream",
     "text": [
      "/home/hanliu/project/mouse_rostral_brain/DMR/SubType/raw/SubType-chr13/MotifScan.h5adtemp/MA1550.1.meme, N motif total=21601\n"
     ]
    },
    {
     "name": "stderr",
     "output_type": "stream",
     "text": [
      "/home/hanliu/miniconda3/envs/clustering/lib/python3.7/site-packages/ALLCools/dmr/fimo.py:60: FutureWarning: to_msgpack is deprecated and will be removed in a future version.\n",
      "It is recommended to use pyarrow for on-the-wire transmission of pandas objects.\n",
      "  final_df.to_msgpack(output_path, compress='zlib')\n"
     ]
    },
    {
     "name": "stdout",
     "output_type": "stream",
     "text": [
      "/home/hanliu/project/mouse_rostral_brain/DMR/SubType/raw/SubType-chr13/MotifScan.h5adtemp/MA0075.3.meme, N motif total=16181\n"
     ]
    },
    {
     "name": "stderr",
     "output_type": "stream",
     "text": [
      "/home/hanliu/miniconda3/envs/clustering/lib/python3.7/site-packages/ALLCools/dmr/fimo.py:60: FutureWarning: to_msgpack is deprecated and will be removed in a future version.\n",
      "It is recommended to use pyarrow for on-the-wire transmission of pandas objects.\n",
      "  final_df.to_msgpack(output_path, compress='zlib')\n"
     ]
    },
    {
     "name": "stdout",
     "output_type": "stream",
     "text": [
      "/home/hanliu/project/mouse_rostral_brain/DMR/SubType/raw/SubType-chr13/MotifScan.h5adtemp/MA1148.1.meme, N motif total=31381\n"
     ]
    },
    {
     "name": "stderr",
     "output_type": "stream",
     "text": [
      "/home/hanliu/miniconda3/envs/clustering/lib/python3.7/site-packages/ALLCools/dmr/fimo.py:60: FutureWarning: to_msgpack is deprecated and will be removed in a future version.\n",
      "It is recommended to use pyarrow for on-the-wire transmission of pandas objects.\n",
      "  final_df.to_msgpack(output_path, compress='zlib')\n"
     ]
    },
    {
     "name": "stdout",
     "output_type": "stream",
     "text": [
      "/home/hanliu/project/mouse_rostral_brain/DMR/SubType/raw/SubType-chr13/MotifScan.h5adtemp/MA1616.1.meme, N motif total=41292\n"
     ]
    },
    {
     "name": "stderr",
     "output_type": "stream",
     "text": [
      "/home/hanliu/miniconda3/envs/clustering/lib/python3.7/site-packages/ALLCools/dmr/fimo.py:60: FutureWarning: to_msgpack is deprecated and will be removed in a future version.\n",
      "It is recommended to use pyarrow for on-the-wire transmission of pandas objects.\n",
      "  final_df.to_msgpack(output_path, compress='zlib')\n"
     ]
    },
    {
     "name": "stdout",
     "output_type": "stream",
     "text": [
      "/home/hanliu/project/mouse_rostral_brain/DMR/SubType/raw/SubType-chr13/MotifScan.h5adtemp/MA0066.1.meme, N motif total=27756\n"
     ]
    },
    {
     "name": "stderr",
     "output_type": "stream",
     "text": [
      "/home/hanliu/miniconda3/envs/clustering/lib/python3.7/site-packages/ALLCools/dmr/fimo.py:60: FutureWarning: to_msgpack is deprecated and will be removed in a future version.\n",
      "It is recommended to use pyarrow for on-the-wire transmission of pandas objects.\n",
      "  final_df.to_msgpack(output_path, compress='zlib')\n"
     ]
    },
    {
     "name": "stdout",
     "output_type": "stream",
     "text": [
      "/home/hanliu/project/mouse_rostral_brain/DMR/SubType/raw/SubType-chr13/MotifScan.h5adtemp/MA1619.1.meme, N motif total=55341\n"
     ]
    },
    {
     "name": "stderr",
     "output_type": "stream",
     "text": [
      "/home/hanliu/miniconda3/envs/clustering/lib/python3.7/site-packages/ALLCools/dmr/fimo.py:60: FutureWarning: to_msgpack is deprecated and will be removed in a future version.\n",
      "It is recommended to use pyarrow for on-the-wire transmission of pandas objects.\n",
      "  final_df.to_msgpack(output_path, compress='zlib')\n"
     ]
    },
    {
     "name": "stdout",
     "output_type": "stream",
     "text": [
      "/home/hanliu/project/mouse_rostral_brain/DMR/SubType/raw/SubType-chr13/MotifScan.h5adtemp/MA1618.1.meme, N motif total=46705\n"
     ]
    },
    {
     "name": "stderr",
     "output_type": "stream",
     "text": [
      "/home/hanliu/miniconda3/envs/clustering/lib/python3.7/site-packages/ALLCools/dmr/fimo.py:60: FutureWarning: to_msgpack is deprecated and will be removed in a future version.\n",
      "It is recommended to use pyarrow for on-the-wire transmission of pandas objects.\n",
      "  final_df.to_msgpack(output_path, compress='zlib')\n"
     ]
    },
    {
     "name": "stdout",
     "output_type": "stream",
     "text": [
      "/home/hanliu/project/mouse_rostral_brain/DMR/SubType/raw/SubType-chr13/MotifScan.h5adtemp/MA1620.1.meme, N motif total=40097\n"
     ]
    },
    {
     "name": "stderr",
     "output_type": "stream",
     "text": [
      "/home/hanliu/miniconda3/envs/clustering/lib/python3.7/site-packages/ALLCools/dmr/fimo.py:60: FutureWarning: to_msgpack is deprecated and will be removed in a future version.\n",
      "It is recommended to use pyarrow for on-the-wire transmission of pandas objects.\n",
      "  final_df.to_msgpack(output_path, compress='zlib')\n"
     ]
    },
    {
     "name": "stdout",
     "output_type": "stream",
     "text": [
      "/home/hanliu/project/mouse_rostral_brain/DMR/SubType/raw/SubType-chr13/MotifScan.h5adtemp/MA0159.1.meme, N motif total=28522\n"
     ]
    },
    {
     "name": "stderr",
     "output_type": "stream",
     "text": [
      "/home/hanliu/miniconda3/envs/clustering/lib/python3.7/site-packages/ALLCools/dmr/fimo.py:60: FutureWarning: to_msgpack is deprecated and will be removed in a future version.\n",
      "It is recommended to use pyarrow for on-the-wire transmission of pandas objects.\n",
      "  final_df.to_msgpack(output_path, compress='zlib')\n"
     ]
    },
    {
     "name": "stdout",
     "output_type": "stream",
     "text": [
      "/home/hanliu/project/mouse_rostral_brain/DMR/SubType/raw/SubType-chr13/MotifScan.h5adtemp/MA0730.1.meme, N motif total=8362\n"
     ]
    },
    {
     "name": "stderr",
     "output_type": "stream",
     "text": [
      "/home/hanliu/miniconda3/envs/clustering/lib/python3.7/site-packages/ALLCools/dmr/fimo.py:60: FutureWarning: to_msgpack is deprecated and will be removed in a future version.\n",
      "It is recommended to use pyarrow for on-the-wire transmission of pandas objects.\n",
      "  final_df.to_msgpack(output_path, compress='zlib')\n"
     ]
    },
    {
     "name": "stdout",
     "output_type": "stream",
     "text": [
      "/home/hanliu/project/mouse_rostral_brain/DMR/SubType/raw/SubType-chr13/MotifScan.h5adtemp/MA0718.1.meme, N motif total=15274\n"
     ]
    },
    {
     "name": "stderr",
     "output_type": "stream",
     "text": [
      "/home/hanliu/miniconda3/envs/clustering/lib/python3.7/site-packages/ALLCools/dmr/fimo.py:60: FutureWarning: to_msgpack is deprecated and will be removed in a future version.\n",
      "It is recommended to use pyarrow for on-the-wire transmission of pandas objects.\n",
      "  final_df.to_msgpack(output_path, compress='zlib')\n"
     ]
    },
    {
     "name": "stdout",
     "output_type": "stream",
     "text": [
      "/home/hanliu/project/mouse_rostral_brain/DMR/SubType/raw/SubType-chr13/MotifScan.h5adtemp/MA0729.1.meme, N motif total=1340\n"
     ]
    },
    {
     "name": "stderr",
     "output_type": "stream",
     "text": [
      "/home/hanliu/miniconda3/envs/clustering/lib/python3.7/site-packages/ALLCools/dmr/fimo.py:60: FutureWarning: to_msgpack is deprecated and will be removed in a future version.\n",
      "It is recommended to use pyarrow for on-the-wire transmission of pandas objects.\n",
      "  final_df.to_msgpack(output_path, compress='zlib')\n"
     ]
    },
    {
     "name": "stdout",
     "output_type": "stream",
     "text": [
      "/home/hanliu/project/mouse_rostral_brain/DMR/SubType/raw/SubType-chr13/MotifScan.h5adtemp/MA1149.1.meme, N motif total=26999\n"
     ]
    },
    {
     "name": "stderr",
     "output_type": "stream",
     "text": [
      "/home/hanliu/miniconda3/envs/clustering/lib/python3.7/site-packages/ALLCools/dmr/fimo.py:60: FutureWarning: to_msgpack is deprecated and will be removed in a future version.\n",
      "It is recommended to use pyarrow for on-the-wire transmission of pandas objects.\n",
      "  final_df.to_msgpack(output_path, compress='zlib')\n"
     ]
    },
    {
     "name": "stdout",
     "output_type": "stream",
     "text": [
      "/home/hanliu/project/mouse_rostral_brain/DMR/SubType/raw/SubType-chr13/MotifScan.h5adtemp/MA0857.1.meme, N motif total=2434\n"
     ]
    },
    {
     "name": "stderr",
     "output_type": "stream",
     "text": [
      "/home/hanliu/miniconda3/envs/clustering/lib/python3.7/site-packages/ALLCools/dmr/fimo.py:60: FutureWarning: to_msgpack is deprecated and will be removed in a future version.\n",
      "It is recommended to use pyarrow for on-the-wire transmission of pandas objects.\n",
      "  final_df.to_msgpack(output_path, compress='zlib')\n"
     ]
    },
    {
     "name": "stdout",
     "output_type": "stream",
     "text": [
      "/home/hanliu/project/mouse_rostral_brain/DMR/SubType/raw/SubType-chr13/MotifScan.h5adtemp/MA1552.1.meme, N motif total=16453\n"
     ]
    },
    {
     "name": "stderr",
     "output_type": "stream",
     "text": [
      "/home/hanliu/miniconda3/envs/clustering/lib/python3.7/site-packages/ALLCools/dmr/fimo.py:60: FutureWarning: to_msgpack is deprecated and will be removed in a future version.\n",
      "It is recommended to use pyarrow for on-the-wire transmission of pandas objects.\n",
      "  final_df.to_msgpack(output_path, compress='zlib')\n"
     ]
    },
    {
     "name": "stdout",
     "output_type": "stream",
     "text": [
      "/home/hanliu/project/mouse_rostral_brain/DMR/SubType/raw/SubType-chr13/MotifScan.h5adtemp/MA0101.1.meme, N motif total=23352\n"
     ]
    },
    {
     "name": "stderr",
     "output_type": "stream",
     "text": [
      "/home/hanliu/miniconda3/envs/clustering/lib/python3.7/site-packages/ALLCools/dmr/fimo.py:60: FutureWarning: to_msgpack is deprecated and will be removed in a future version.\n",
      "It is recommended to use pyarrow for on-the-wire transmission of pandas objects.\n",
      "  final_df.to_msgpack(output_path, compress='zlib')\n"
     ]
    },
    {
     "name": "stdout",
     "output_type": "stream",
     "text": [
      "/home/hanliu/project/mouse_rostral_brain/DMR/SubType/raw/SubType-chr13/MotifScan.h5adtemp/MA1116.1.meme, N motif total=53885\n"
     ]
    },
    {
     "name": "stderr",
     "output_type": "stream",
     "text": [
      "/home/hanliu/miniconda3/envs/clustering/lib/python3.7/site-packages/ALLCools/dmr/fimo.py:60: FutureWarning: to_msgpack is deprecated and will be removed in a future version.\n",
      "It is recommended to use pyarrow for on-the-wire transmission of pandas objects.\n",
      "  final_df.to_msgpack(output_path, compress='zlib')\n"
     ]
    },
    {
     "name": "stdout",
     "output_type": "stream",
     "text": [
      "/home/hanliu/project/mouse_rostral_brain/DMR/SubType/raw/SubType-chr13/MotifScan.h5adtemp/MA1553.1.meme, N motif total=18620\n"
     ]
    },
    {
     "name": "stderr",
     "output_type": "stream",
     "text": [
      "/home/hanliu/miniconda3/envs/clustering/lib/python3.7/site-packages/ALLCools/dmr/fimo.py:60: FutureWarning: to_msgpack is deprecated and will be removed in a future version.\n",
      "It is recommended to use pyarrow for on-the-wire transmission of pandas objects.\n",
      "  final_df.to_msgpack(output_path, compress='zlib')\n"
     ]
    },
    {
     "name": "stdout",
     "output_type": "stream",
     "text": [
      "/home/hanliu/project/mouse_rostral_brain/DMR/SubType/raw/SubType-chr13/MotifScan.h5adtemp/MA1117.1.meme, N motif total=25636\n"
     ]
    },
    {
     "name": "stderr",
     "output_type": "stream",
     "text": [
      "/home/hanliu/miniconda3/envs/clustering/lib/python3.7/site-packages/ALLCools/dmr/fimo.py:60: FutureWarning: to_msgpack is deprecated and will be removed in a future version.\n",
      "It is recommended to use pyarrow for on-the-wire transmission of pandas objects.\n",
      "  final_df.to_msgpack(output_path, compress='zlib')\n"
     ]
    },
    {
     "name": "stdout",
     "output_type": "stream",
     "text": [
      "/home/hanliu/project/mouse_rostral_brain/DMR/SubType/raw/SubType-chr13/MotifScan.h5adtemp/MA0859.1.meme, N motif total=3618\n"
     ]
    },
    {
     "name": "stderr",
     "output_type": "stream",
     "text": [
      "/home/hanliu/miniconda3/envs/clustering/lib/python3.7/site-packages/ALLCools/dmr/fimo.py:60: FutureWarning: to_msgpack is deprecated and will be removed in a future version.\n",
      "It is recommended to use pyarrow for on-the-wire transmission of pandas objects.\n",
      "  final_df.to_msgpack(output_path, compress='zlib')\n"
     ]
    },
    {
     "name": "stdout",
     "output_type": "stream",
     "text": [
      "/home/hanliu/project/mouse_rostral_brain/DMR/SubType/raw/SubType-chr13/MotifScan.h5adtemp/MA0107.1.meme, N motif total=30290\n"
     ]
    },
    {
     "name": "stderr",
     "output_type": "stream",
     "text": [
      "/home/hanliu/miniconda3/envs/clustering/lib/python3.7/site-packages/ALLCools/dmr/fimo.py:60: FutureWarning: to_msgpack is deprecated and will be removed in a future version.\n",
      "It is recommended to use pyarrow for on-the-wire transmission of pandas objects.\n",
      "  final_df.to_msgpack(output_path, compress='zlib')\n"
     ]
    },
    {
     "name": "stdout",
     "output_type": "stream",
     "text": [
      "/home/hanliu/project/mouse_rostral_brain/DMR/SubType/raw/SubType-chr13/MotifScan.h5adtemp/MA1621.1.meme, N motif total=40208\n"
     ]
    },
    {
     "name": "stderr",
     "output_type": "stream",
     "text": [
      "/home/hanliu/miniconda3/envs/clustering/lib/python3.7/site-packages/ALLCools/dmr/fimo.py:60: FutureWarning: to_msgpack is deprecated and will be removed in a future version.\n",
      "It is recommended to use pyarrow for on-the-wire transmission of pandas objects.\n",
      "  final_df.to_msgpack(output_path, compress='zlib')\n"
     ]
    },
    {
     "name": "stdout",
     "output_type": "stream",
     "text": [
      "/home/hanliu/project/mouse_rostral_brain/DMR/SubType/raw/SubType-chr13/MotifScan.h5adtemp/MA0860.1.meme, N motif total=1675\n"
     ]
    },
    {
     "name": "stderr",
     "output_type": "stream",
     "text": [
      "/home/hanliu/miniconda3/envs/clustering/lib/python3.7/site-packages/ALLCools/dmr/fimo.py:60: FutureWarning: to_msgpack is deprecated and will be removed in a future version.\n",
      "It is recommended to use pyarrow for on-the-wire transmission of pandas objects.\n",
      "  final_df.to_msgpack(output_path, compress='zlib')\n"
     ]
    },
    {
     "name": "stdout",
     "output_type": "stream",
     "text": [
      "/home/hanliu/project/mouse_rostral_brain/DMR/SubType/raw/SubType-chr13/MotifScan.h5adtemp/MA0858.1.meme, N motif total=2321\n"
     ]
    },
    {
     "name": "stderr",
     "output_type": "stream",
     "text": [
      "/home/hanliu/miniconda3/envs/clustering/lib/python3.7/site-packages/ALLCools/dmr/fimo.py:60: FutureWarning: to_msgpack is deprecated and will be removed in a future version.\n",
      "It is recommended to use pyarrow for on-the-wire transmission of pandas objects.\n",
      "  final_df.to_msgpack(output_path, compress='zlib')\n"
     ]
    },
    {
     "name": "stdout",
     "output_type": "stream",
     "text": [
      "/home/hanliu/project/mouse_rostral_brain/DMR/SubType/raw/SubType-chr13/MotifScan.h5adtemp/MA1554.1.meme, N motif total=14269\n"
     ]
    },
    {
     "name": "stderr",
     "output_type": "stream",
     "text": [
      "/home/hanliu/miniconda3/envs/clustering/lib/python3.7/site-packages/ALLCools/dmr/fimo.py:60: FutureWarning: to_msgpack is deprecated and will be removed in a future version.\n",
      "It is recommended to use pyarrow for on-the-wire transmission of pandas objects.\n",
      "  final_df.to_msgpack(output_path, compress='zlib')\n"
     ]
    },
    {
     "name": "stdout",
     "output_type": "stream",
     "text": [
      "/home/hanliu/project/mouse_rostral_brain/DMR/SubType/raw/SubType-chr13/MotifScan.h5adtemp/MA0509.2.meme, N motif total=28562\n"
     ]
    },
    {
     "name": "stderr",
     "output_type": "stream",
     "text": [
      "/home/hanliu/miniconda3/envs/clustering/lib/python3.7/site-packages/ALLCools/dmr/fimo.py:60: FutureWarning: to_msgpack is deprecated and will be removed in a future version.\n",
      "It is recommended to use pyarrow for on-the-wire transmission of pandas objects.\n",
      "  final_df.to_msgpack(output_path, compress='zlib')\n"
     ]
    },
    {
     "name": "stdout",
     "output_type": "stream",
     "text": [
      "/home/hanliu/project/mouse_rostral_brain/DMR/SubType/raw/SubType-chr13/MotifScan.h5adtemp/MA0600.2.meme, N motif total=16341\n"
     ]
    },
    {
     "name": "stderr",
     "output_type": "stream",
     "text": [
      "/home/hanliu/miniconda3/envs/clustering/lib/python3.7/site-packages/ALLCools/dmr/fimo.py:60: FutureWarning: to_msgpack is deprecated and will be removed in a future version.\n",
      "It is recommended to use pyarrow for on-the-wire transmission of pandas objects.\n",
      "  final_df.to_msgpack(output_path, compress='zlib')\n"
     ]
    },
    {
     "name": "stdout",
     "output_type": "stream",
     "text": [
      "/home/hanliu/project/mouse_rostral_brain/DMR/SubType/raw/SubType-chr13/MotifScan.h5adtemp/MA0071.1.meme, N motif total=27333\n"
     ]
    },
    {
     "name": "stderr",
     "output_type": "stream",
     "text": [
      "/home/hanliu/miniconda3/envs/clustering/lib/python3.7/site-packages/ALLCools/dmr/fimo.py:60: FutureWarning: to_msgpack is deprecated and will be removed in a future version.\n",
      "It is recommended to use pyarrow for on-the-wire transmission of pandas objects.\n",
      "  final_df.to_msgpack(output_path, compress='zlib')\n"
     ]
    },
    {
     "name": "stdout",
     "output_type": "stream",
     "text": [
      "/home/hanliu/project/mouse_rostral_brain/DMR/SubType/raw/SubType-chr13/MotifScan.h5adtemp/MA0798.2.meme, N motif total=28936\n"
     ]
    },
    {
     "name": "stderr",
     "output_type": "stream",
     "text": [
      "/home/hanliu/miniconda3/envs/clustering/lib/python3.7/site-packages/ALLCools/dmr/fimo.py:60: FutureWarning: to_msgpack is deprecated and will be removed in a future version.\n",
      "It is recommended to use pyarrow for on-the-wire transmission of pandas objects.\n",
      "  final_df.to_msgpack(output_path, compress='zlib')\n"
     ]
    },
    {
     "name": "stdout",
     "output_type": "stream",
     "text": [
      "/home/hanliu/project/mouse_rostral_brain/DMR/SubType/raw/SubType-chr13/MotifScan.h5adtemp/MA0799.1.meme, N motif total=21766\n"
     ]
    },
    {
     "name": "stderr",
     "output_type": "stream",
     "text": [
      "/home/hanliu/miniconda3/envs/clustering/lib/python3.7/site-packages/ALLCools/dmr/fimo.py:60: FutureWarning: to_msgpack is deprecated and will be removed in a future version.\n",
      "It is recommended to use pyarrow for on-the-wire transmission of pandas objects.\n",
      "  final_df.to_msgpack(output_path, compress='zlib')\n"
     ]
    },
    {
     "name": "stdout",
     "output_type": "stream",
     "text": [
      "/home/hanliu/project/mouse_rostral_brain/DMR/SubType/raw/SubType-chr13/MotifScan.h5adtemp/MA0511.2.meme, N motif total=13639\n"
     ]
    },
    {
     "name": "stderr",
     "output_type": "stream",
     "text": [
      "/home/hanliu/miniconda3/envs/clustering/lib/python3.7/site-packages/ALLCools/dmr/fimo.py:60: FutureWarning: to_msgpack is deprecated and will be removed in a future version.\n",
      "It is recommended to use pyarrow for on-the-wire transmission of pandas objects.\n",
      "  final_df.to_msgpack(output_path, compress='zlib')\n"
     ]
    },
    {
     "name": "stdout",
     "output_type": "stream",
     "text": [
      "/home/hanliu/project/mouse_rostral_brain/DMR/SubType/raw/SubType-chr13/MotifScan.h5adtemp/MA0510.2.meme, N motif total=21363\n"
     ]
    },
    {
     "name": "stderr",
     "output_type": "stream",
     "text": [
      "/home/hanliu/miniconda3/envs/clustering/lib/python3.7/site-packages/ALLCools/dmr/fimo.py:60: FutureWarning: to_msgpack is deprecated and will be removed in a future version.\n",
      "It is recommended to use pyarrow for on-the-wire transmission of pandas objects.\n",
      "  final_df.to_msgpack(output_path, compress='zlib')\n"
     ]
    },
    {
     "name": "stdout",
     "output_type": "stream",
     "text": [
      "/home/hanliu/project/mouse_rostral_brain/DMR/SubType/raw/SubType-chr13/MotifScan.h5adtemp/MA1150.1.meme, N motif total=21943\n"
     ]
    },
    {
     "name": "stderr",
     "output_type": "stream",
     "text": [
      "/home/hanliu/miniconda3/envs/clustering/lib/python3.7/site-packages/ALLCools/dmr/fimo.py:60: FutureWarning: to_msgpack is deprecated and will be removed in a future version.\n",
      "It is recommended to use pyarrow for on-the-wire transmission of pandas objects.\n",
      "  final_df.to_msgpack(output_path, compress='zlib')\n"
     ]
    },
    {
     "name": "stdout",
     "output_type": "stream",
     "text": [
      "/home/hanliu/project/mouse_rostral_brain/DMR/SubType/raw/SubType-chr13/MotifScan.h5adtemp/MA0138.2.meme, N motif total=19128\n"
     ]
    },
    {
     "name": "stderr",
     "output_type": "stream",
     "text": [
      "/home/hanliu/miniconda3/envs/clustering/lib/python3.7/site-packages/ALLCools/dmr/fimo.py:60: FutureWarning: to_msgpack is deprecated and will be removed in a future version.\n",
      "It is recommended to use pyarrow for on-the-wire transmission of pandas objects.\n",
      "  final_df.to_msgpack(output_path, compress='zlib')\n"
     ]
    },
    {
     "name": "stdout",
     "output_type": "stream",
     "text": [
      "/home/hanliu/project/mouse_rostral_brain/DMR/SubType/raw/SubType-chr13/MotifScan.h5adtemp/MA1151.1.meme, N motif total=19667\n"
     ]
    },
    {
     "name": "stderr",
     "output_type": "stream",
     "text": [
      "/home/hanliu/miniconda3/envs/clustering/lib/python3.7/site-packages/ALLCools/dmr/fimo.py:60: FutureWarning: to_msgpack is deprecated and will be removed in a future version.\n",
      "It is recommended to use pyarrow for on-the-wire transmission of pandas objects.\n",
      "  final_df.to_msgpack(output_path, compress='zlib')\n"
     ]
    },
    {
     "name": "stdout",
     "output_type": "stream",
     "text": [
      "/home/hanliu/project/mouse_rostral_brain/DMR/SubType/raw/SubType-chr13/MotifScan.h5adtemp/MA0072.1.meme, N motif total=21277\n"
     ]
    },
    {
     "name": "stderr",
     "output_type": "stream",
     "text": [
      "/home/hanliu/miniconda3/envs/clustering/lib/python3.7/site-packages/ALLCools/dmr/fimo.py:60: FutureWarning: to_msgpack is deprecated and will be removed in a future version.\n",
      "It is recommended to use pyarrow for on-the-wire transmission of pandas objects.\n",
      "  final_df.to_msgpack(output_path, compress='zlib')\n"
     ]
    },
    {
     "name": "stdout",
     "output_type": "stream",
     "text": [
      "/home/hanliu/project/mouse_rostral_brain/DMR/SubType/raw/SubType-chr13/MotifScan.h5adtemp/MA0002.2.meme, N motif total=51234\n"
     ]
    },
    {
     "name": "stderr",
     "output_type": "stream",
     "text": [
      "/home/hanliu/miniconda3/envs/clustering/lib/python3.7/site-packages/ALLCools/dmr/fimo.py:60: FutureWarning: to_msgpack is deprecated and will be removed in a future version.\n",
      "It is recommended to use pyarrow for on-the-wire transmission of pandas objects.\n",
      "  final_df.to_msgpack(output_path, compress='zlib')\n"
     ]
    },
    {
     "name": "stdout",
     "output_type": "stream",
     "text": [
      "/home/hanliu/project/mouse_rostral_brain/DMR/SubType/raw/SubType-chr13/MotifScan.h5adtemp/MA0629.1.meme, N motif total=14550\n"
     ]
    },
    {
     "name": "stderr",
     "output_type": "stream",
     "text": [
      "/home/hanliu/miniconda3/envs/clustering/lib/python3.7/site-packages/ALLCools/dmr/fimo.py:60: FutureWarning: to_msgpack is deprecated and will be removed in a future version.\n",
      "It is recommended to use pyarrow for on-the-wire transmission of pandas objects.\n",
      "  final_df.to_msgpack(output_path, compress='zlib')\n"
     ]
    },
    {
     "name": "stdout",
     "output_type": "stream",
     "text": [
      "/home/hanliu/project/mouse_rostral_brain/DMR/SubType/raw/SubType-chr13/MotifScan.h5adtemp/MA0684.2.meme, N motif total=29351\n"
     ]
    },
    {
     "name": "stderr",
     "output_type": "stream",
     "text": [
      "/home/hanliu/miniconda3/envs/clustering/lib/python3.7/site-packages/ALLCools/dmr/fimo.py:60: FutureWarning: to_msgpack is deprecated and will be removed in a future version.\n",
      "It is recommended to use pyarrow for on-the-wire transmission of pandas objects.\n",
      "  final_df.to_msgpack(output_path, compress='zlib')\n"
     ]
    },
    {
     "name": "stdout",
     "output_type": "stream",
     "text": [
      "/home/hanliu/project/mouse_rostral_brain/DMR/SubType/raw/SubType-chr13/MotifScan.h5adtemp/MA0512.2.meme, N motif total=9427\n"
     ]
    },
    {
     "name": "stderr",
     "output_type": "stream",
     "text": [
      "/home/hanliu/miniconda3/envs/clustering/lib/python3.7/site-packages/ALLCools/dmr/fimo.py:60: FutureWarning: to_msgpack is deprecated and will be removed in a future version.\n",
      "It is recommended to use pyarrow for on-the-wire transmission of pandas objects.\n",
      "  final_df.to_msgpack(output_path, compress='zlib')\n"
     ]
    },
    {
     "name": "stdout",
     "output_type": "stream",
     "text": [
      "/home/hanliu/project/mouse_rostral_brain/DMR/SubType/raw/SubType-chr13/MotifScan.h5adtemp/MA0855.1.meme, N motif total=6074\n"
     ]
    },
    {
     "name": "stderr",
     "output_type": "stream",
     "text": [
      "/home/hanliu/miniconda3/envs/clustering/lib/python3.7/site-packages/ALLCools/dmr/fimo.py:60: FutureWarning: to_msgpack is deprecated and will be removed in a future version.\n",
      "It is recommended to use pyarrow for on-the-wire transmission of pandas objects.\n",
      "  final_df.to_msgpack(output_path, compress='zlib')\n"
     ]
    },
    {
     "name": "stdout",
     "output_type": "stream",
     "text": [
      "/home/hanliu/project/mouse_rostral_brain/DMR/SubType/raw/SubType-chr13/MotifScan.h5adtemp/MA1555.1.meme, N motif total=18047\n"
     ]
    },
    {
     "name": "stderr",
     "output_type": "stream",
     "text": [
      "/home/hanliu/miniconda3/envs/clustering/lib/python3.7/site-packages/ALLCools/dmr/fimo.py:60: FutureWarning: to_msgpack is deprecated and will be removed in a future version.\n",
      "It is recommended to use pyarrow for on-the-wire transmission of pandas objects.\n",
      "  final_df.to_msgpack(output_path, compress='zlib')\n"
     ]
    },
    {
     "name": "stdout",
     "output_type": "stream",
     "text": [
      "/home/hanliu/project/mouse_rostral_brain/DMR/SubType/raw/SubType-chr13/MotifScan.h5adtemp/MA0074.1.meme, N motif total=11050\n"
     ]
    },
    {
     "name": "stderr",
     "output_type": "stream",
     "text": [
      "/home/hanliu/miniconda3/envs/clustering/lib/python3.7/site-packages/ALLCools/dmr/fimo.py:60: FutureWarning: to_msgpack is deprecated and will be removed in a future version.\n",
      "It is recommended to use pyarrow for on-the-wire transmission of pandas objects.\n",
      "  final_df.to_msgpack(output_path, compress='zlib')\n"
     ]
    },
    {
     "name": "stdout",
     "output_type": "stream",
     "text": [
      "/home/hanliu/project/mouse_rostral_brain/DMR/SubType/raw/SubType-chr13/MotifScan.h5adtemp/MA0856.1.meme, N motif total=7330\n"
     ]
    },
    {
     "name": "stderr",
     "output_type": "stream",
     "text": [
      "/home/hanliu/miniconda3/envs/clustering/lib/python3.7/site-packages/ALLCools/dmr/fimo.py:60: FutureWarning: to_msgpack is deprecated and will be removed in a future version.\n",
      "It is recommended to use pyarrow for on-the-wire transmission of pandas objects.\n",
      "  final_df.to_msgpack(output_path, compress='zlib')\n"
     ]
    },
    {
     "name": "stdout",
     "output_type": "stream",
     "text": [
      "/home/hanliu/project/mouse_rostral_brain/DMR/SubType/raw/SubType-chr13/MotifScan.h5adtemp/MA1556.1.meme, N motif total=18364\n"
     ]
    },
    {
     "name": "stderr",
     "output_type": "stream",
     "text": [
      "/home/hanliu/miniconda3/envs/clustering/lib/python3.7/site-packages/ALLCools/dmr/fimo.py:60: FutureWarning: to_msgpack is deprecated and will be removed in a future version.\n",
      "It is recommended to use pyarrow for on-the-wire transmission of pandas objects.\n",
      "  final_df.to_msgpack(output_path, compress='zlib')\n"
     ]
    },
    {
     "name": "stdout",
     "output_type": "stream",
     "text": [
      "/home/hanliu/project/mouse_rostral_brain/DMR/SubType/raw/SubType-chr13/MotifScan.h5adtemp/MA0630.1.meme, N motif total=16279\n"
     ]
    },
    {
     "name": "stderr",
     "output_type": "stream",
     "text": [
      "/home/hanliu/miniconda3/envs/clustering/lib/python3.7/site-packages/ALLCools/dmr/fimo.py:60: FutureWarning: to_msgpack is deprecated and will be removed in a future version.\n",
      "It is recommended to use pyarrow for on-the-wire transmission of pandas objects.\n",
      "  final_df.to_msgpack(output_path, compress='zlib')\n"
     ]
    },
    {
     "name": "stdout",
     "output_type": "stream",
     "text": [
      "/home/hanliu/project/mouse_rostral_brain/DMR/SubType/raw/SubType-chr13/MotifScan.h5adtemp/MA0073.1.meme, N motif total=220318\n"
     ]
    },
    {
     "name": "stderr",
     "output_type": "stream",
     "text": [
      "/home/hanliu/miniconda3/envs/clustering/lib/python3.7/site-packages/ALLCools/dmr/fimo.py:60: FutureWarning: to_msgpack is deprecated and will be removed in a future version.\n",
      "It is recommended to use pyarrow for on-the-wire transmission of pandas objects.\n",
      "  final_df.to_msgpack(output_path, compress='zlib')\n"
     ]
    },
    {
     "name": "stdout",
     "output_type": "stream",
     "text": [
      "/home/hanliu/project/mouse_rostral_brain/DMR/SubType/raw/SubType-chr13/MotifScan.h5adtemp/MA0743.2.meme, N motif total=27019\n"
     ]
    },
    {
     "name": "stderr",
     "output_type": "stream",
     "text": [
      "/home/hanliu/miniconda3/envs/clustering/lib/python3.7/site-packages/ALLCools/dmr/fimo.py:60: FutureWarning: to_msgpack is deprecated and will be removed in a future version.\n",
      "It is recommended to use pyarrow for on-the-wire transmission of pandas objects.\n",
      "  final_df.to_msgpack(output_path, compress='zlib')\n"
     ]
    },
    {
     "name": "stdout",
     "output_type": "stream",
     "text": [
      "/home/hanliu/project/mouse_rostral_brain/DMR/SubType/raw/SubType-chr13/MotifScan.h5adtemp/MA0720.1.meme, N motif total=16279\n"
     ]
    },
    {
     "name": "stderr",
     "output_type": "stream",
     "text": [
      "/home/hanliu/miniconda3/envs/clustering/lib/python3.7/site-packages/ALLCools/dmr/fimo.py:60: FutureWarning: to_msgpack is deprecated and will be removed in a future version.\n",
      "It is recommended to use pyarrow for on-the-wire transmission of pandas objects.\n",
      "  final_df.to_msgpack(output_path, compress='zlib')\n"
     ]
    },
    {
     "name": "stdout",
     "output_type": "stream",
     "text": [
      "/home/hanliu/project/mouse_rostral_brain/DMR/SubType/raw/SubType-chr13/MotifScan.h5adtemp/MA1118.1.meme, N motif total=23120\n"
     ]
    },
    {
     "name": "stderr",
     "output_type": "stream",
     "text": [
      "/home/hanliu/miniconda3/envs/clustering/lib/python3.7/site-packages/ALLCools/dmr/fimo.py:60: FutureWarning: to_msgpack is deprecated and will be removed in a future version.\n",
      "It is recommended to use pyarrow for on-the-wire transmission of pandas objects.\n",
      "  final_df.to_msgpack(output_path, compress='zlib')\n"
     ]
    },
    {
     "name": "stdout",
     "output_type": "stream",
     "text": [
      "/home/hanliu/project/mouse_rostral_brain/DMR/SubType/raw/SubType-chr13/MotifScan.h5adtemp/MA0744.2.meme, N motif total=26380\n"
     ]
    },
    {
     "name": "stderr",
     "output_type": "stream",
     "text": [
      "/home/hanliu/miniconda3/envs/clustering/lib/python3.7/site-packages/ALLCools/dmr/fimo.py:60: FutureWarning: to_msgpack is deprecated and will be removed in a future version.\n",
      "It is recommended to use pyarrow for on-the-wire transmission of pandas objects.\n",
      "  final_df.to_msgpack(output_path, compress='zlib')\n"
     ]
    },
    {
     "name": "stdout",
     "output_type": "stream",
     "text": [
      "/home/hanliu/project/mouse_rostral_brain/DMR/SubType/raw/SubType-chr13/MotifScan.h5adtemp/MA1153.1.meme, N motif total=20705\n"
     ]
    },
    {
     "name": "stderr",
     "output_type": "stream",
     "text": [
      "/home/hanliu/miniconda3/envs/clustering/lib/python3.7/site-packages/ALLCools/dmr/fimo.py:60: FutureWarning: to_msgpack is deprecated and will be removed in a future version.\n",
      "It is recommended to use pyarrow for on-the-wire transmission of pandas objects.\n",
      "  final_df.to_msgpack(output_path, compress='zlib')\n"
     ]
    },
    {
     "name": "stdout",
     "output_type": "stream",
     "text": [
      "/home/hanliu/project/mouse_rostral_brain/DMR/SubType/raw/SubType-chr13/MotifScan.h5adtemp/MA0795.1.meme, N motif total=17281\n"
     ]
    },
    {
     "name": "stderr",
     "output_type": "stream",
     "text": [
      "/home/hanliu/miniconda3/envs/clustering/lib/python3.7/site-packages/ALLCools/dmr/fimo.py:60: FutureWarning: to_msgpack is deprecated and will be removed in a future version.\n",
      "It is recommended to use pyarrow for on-the-wire transmission of pandas objects.\n",
      "  final_df.to_msgpack(output_path, compress='zlib')\n"
     ]
    },
    {
     "name": "stdout",
     "output_type": "stream",
     "text": [
      "/home/hanliu/project/mouse_rostral_brain/DMR/SubType/raw/SubType-chr13/MotifScan.h5adtemp/MA1559.1.meme, N motif total=37182\n"
     ]
    },
    {
     "name": "stderr",
     "output_type": "stream",
     "text": [
      "/home/hanliu/miniconda3/envs/clustering/lib/python3.7/site-packages/ALLCools/dmr/fimo.py:60: FutureWarning: to_msgpack is deprecated and will be removed in a future version.\n",
      "It is recommended to use pyarrow for on-the-wire transmission of pandas objects.\n",
      "  final_df.to_msgpack(output_path, compress='zlib')\n"
     ]
    },
    {
     "name": "stdout",
     "output_type": "stream",
     "text": [
      "/home/hanliu/project/mouse_rostral_brain/DMR/SubType/raw/SubType-chr13/MotifScan.h5adtemp/MA1560.1.meme, N motif total=13906\n"
     ]
    },
    {
     "name": "stderr",
     "output_type": "stream",
     "text": [
      "/home/hanliu/miniconda3/envs/clustering/lib/python3.7/site-packages/ALLCools/dmr/fimo.py:60: FutureWarning: to_msgpack is deprecated and will be removed in a future version.\n",
      "It is recommended to use pyarrow for on-the-wire transmission of pandas objects.\n",
      "  final_df.to_msgpack(output_path, compress='zlib')\n"
     ]
    },
    {
     "name": "stdout",
     "output_type": "stream",
     "text": [
      "/home/hanliu/project/mouse_rostral_brain/DMR/SubType/raw/SubType-chr13/MotifScan.h5adtemp/MA1557.1.meme, N motif total=13097\n"
     ]
    },
    {
     "name": "stderr",
     "output_type": "stream",
     "text": [
      "/home/hanliu/miniconda3/envs/clustering/lib/python3.7/site-packages/ALLCools/dmr/fimo.py:60: FutureWarning: to_msgpack is deprecated and will be removed in a future version.\n",
      "It is recommended to use pyarrow for on-the-wire transmission of pandas objects.\n",
      "  final_df.to_msgpack(output_path, compress='zlib')\n"
     ]
    },
    {
     "name": "stdout",
     "output_type": "stream",
     "text": [
      "/home/hanliu/project/mouse_rostral_brain/DMR/SubType/raw/SubType-chr13/MotifScan.h5adtemp/MA1622.1.meme, N motif total=33538\n"
     ]
    },
    {
     "name": "stderr",
     "output_type": "stream",
     "text": [
      "/home/hanliu/miniconda3/envs/clustering/lib/python3.7/site-packages/ALLCools/dmr/fimo.py:60: FutureWarning: to_msgpack is deprecated and will be removed in a future version.\n",
      "It is recommended to use pyarrow for on-the-wire transmission of pandas objects.\n",
      "  final_df.to_msgpack(output_path, compress='zlib')\n"
     ]
    },
    {
     "name": "stdout",
     "output_type": "stream",
     "text": [
      "/home/hanliu/project/mouse_rostral_brain/DMR/SubType/raw/SubType-chr13/MotifScan.h5adtemp/MA1558.1.meme, N motif total=37344\n"
     ]
    },
    {
     "name": "stderr",
     "output_type": "stream",
     "text": [
      "/home/hanliu/miniconda3/envs/clustering/lib/python3.7/site-packages/ALLCools/dmr/fimo.py:60: FutureWarning: to_msgpack is deprecated and will be removed in a future version.\n",
      "It is recommended to use pyarrow for on-the-wire transmission of pandas objects.\n",
      "  final_df.to_msgpack(output_path, compress='zlib')\n"
     ]
    },
    {
     "name": "stdout",
     "output_type": "stream",
     "text": [
      "/home/hanliu/project/mouse_rostral_brain/DMR/SubType/raw/SubType-chr13/MotifScan.h5adtemp/MA0513.1.meme, N motif total=52846\n"
     ]
    },
    {
     "name": "stderr",
     "output_type": "stream",
     "text": [
      "/home/hanliu/miniconda3/envs/clustering/lib/python3.7/site-packages/ALLCools/dmr/fimo.py:60: FutureWarning: to_msgpack is deprecated and will be removed in a future version.\n",
      "It is recommended to use pyarrow for on-the-wire transmission of pandas objects.\n",
      "  final_df.to_msgpack(output_path, compress='zlib')\n"
     ]
    },
    {
     "name": "stdout",
     "output_type": "stream",
     "text": [
      "/home/hanliu/project/mouse_rostral_brain/DMR/SubType/raw/SubType-chr13/MotifScan.h5adtemp/MA1119.1.meme, N motif total=30662\n"
     ]
    },
    {
     "name": "stderr",
     "output_type": "stream",
     "text": [
      "/home/hanliu/miniconda3/envs/clustering/lib/python3.7/site-packages/ALLCools/dmr/fimo.py:60: FutureWarning: to_msgpack is deprecated and will be removed in a future version.\n",
      "It is recommended to use pyarrow for on-the-wire transmission of pandas objects.\n",
      "  final_df.to_msgpack(output_path, compress='zlib')\n"
     ]
    },
    {
     "name": "stdout",
     "output_type": "stream",
     "text": [
      "/home/hanliu/project/mouse_rostral_brain/DMR/SubType/raw/SubType-chr13/MotifScan.h5adtemp/MA0631.1.meme, N motif total=13633\n"
     ]
    },
    {
     "name": "stderr",
     "output_type": "stream",
     "text": [
      "/home/hanliu/miniconda3/envs/clustering/lib/python3.7/site-packages/ALLCools/dmr/fimo.py:60: FutureWarning: to_msgpack is deprecated and will be removed in a future version.\n",
      "It is recommended to use pyarrow for on-the-wire transmission of pandas objects.\n",
      "  final_df.to_msgpack(output_path, compress='zlib')\n"
     ]
    },
    {
     "name": "stdout",
     "output_type": "stream",
     "text": [
      "/home/hanliu/project/mouse_rostral_brain/DMR/SubType/raw/SubType-chr13/MotifScan.h5adtemp/MA0442.2.meme, N motif total=51161\n"
     ]
    },
    {
     "name": "stderr",
     "output_type": "stream",
     "text": [
      "/home/hanliu/miniconda3/envs/clustering/lib/python3.7/site-packages/ALLCools/dmr/fimo.py:60: FutureWarning: to_msgpack is deprecated and will be removed in a future version.\n",
      "It is recommended to use pyarrow for on-the-wire transmission of pandas objects.\n",
      "  final_df.to_msgpack(output_path, compress='zlib')\n"
     ]
    },
    {
     "name": "stdout",
     "output_type": "stream",
     "text": [
      "/home/hanliu/project/mouse_rostral_brain/DMR/SubType/raw/SubType-chr13/MotifScan.h5adtemp/MA0745.2.meme, N motif total=36987\n"
     ]
    },
    {
     "name": "stderr",
     "output_type": "stream",
     "text": [
      "/home/hanliu/miniconda3/envs/clustering/lib/python3.7/site-packages/ALLCools/dmr/fimo.py:60: FutureWarning: to_msgpack is deprecated and will be removed in a future version.\n",
      "It is recommended to use pyarrow for on-the-wire transmission of pandas objects.\n",
      "  final_df.to_msgpack(output_path, compress='zlib')\n"
     ]
    },
    {
     "name": "stdout",
     "output_type": "stream",
     "text": [
      "/home/hanliu/project/mouse_rostral_brain/DMR/SubType/raw/SubType-chr13/MotifScan.h5adtemp/MA0870.1.meme, N motif total=8589\n"
     ]
    },
    {
     "name": "stderr",
     "output_type": "stream",
     "text": [
      "/home/hanliu/miniconda3/envs/clustering/lib/python3.7/site-packages/ALLCools/dmr/fimo.py:60: FutureWarning: to_msgpack is deprecated and will be removed in a future version.\n",
      "It is recommended to use pyarrow for on-the-wire transmission of pandas objects.\n",
      "  final_df.to_msgpack(output_path, compress='zlib')\n"
     ]
    },
    {
     "name": "stdout",
     "output_type": "stream",
     "text": [
      "/home/hanliu/project/mouse_rostral_brain/DMR/SubType/raw/SubType-chr13/MotifScan.h5adtemp/MA1120.1.meme, N motif total=28934\n"
     ]
    },
    {
     "name": "stderr",
     "output_type": "stream",
     "text": [
      "/home/hanliu/miniconda3/envs/clustering/lib/python3.7/site-packages/ALLCools/dmr/fimo.py:60: FutureWarning: to_msgpack is deprecated and will be removed in a future version.\n",
      "It is recommended to use pyarrow for on-the-wire transmission of pandas objects.\n",
      "  final_df.to_msgpack(output_path, compress='zlib')\n"
     ]
    },
    {
     "name": "stdout",
     "output_type": "stream",
     "text": [
      "/home/hanliu/project/mouse_rostral_brain/DMR/SubType/raw/SubType-chr13/MotifScan.h5adtemp/MA1561.1.meme, N motif total=14249\n"
     ]
    },
    {
     "name": "stderr",
     "output_type": "stream",
     "text": [
      "/home/hanliu/miniconda3/envs/clustering/lib/python3.7/site-packages/ALLCools/dmr/fimo.py:60: FutureWarning: to_msgpack is deprecated and will be removed in a future version.\n",
      "It is recommended to use pyarrow for on-the-wire transmission of pandas objects.\n",
      "  final_df.to_msgpack(output_path, compress='zlib')\n"
     ]
    },
    {
     "name": "stdout",
     "output_type": "stream",
     "text": [
      "/home/hanliu/project/mouse_rostral_brain/DMR/SubType/raw/SubType-chr13/MotifScan.h5adtemp/MA0869.1.meme, N motif total=450\n"
     ]
    },
    {
     "name": "stderr",
     "output_type": "stream",
     "text": [
      "/home/hanliu/miniconda3/envs/clustering/lib/python3.7/site-packages/ALLCools/dmr/fimo.py:60: FutureWarning: to_msgpack is deprecated and will be removed in a future version.\n",
      "It is recommended to use pyarrow for on-the-wire transmission of pandas objects.\n",
      "  final_df.to_msgpack(output_path, compress='zlib')\n"
     ]
    },
    {
     "name": "stdout",
     "output_type": "stream",
     "text": [
      "/home/hanliu/project/mouse_rostral_brain/DMR/SubType/raw/SubType-chr13/MotifScan.h5adtemp/MA1152.1.meme, N motif total=52239\n"
     ]
    },
    {
     "name": "stderr",
     "output_type": "stream",
     "text": [
      "/home/hanliu/miniconda3/envs/clustering/lib/python3.7/site-packages/ALLCools/dmr/fimo.py:60: FutureWarning: to_msgpack is deprecated and will be removed in a future version.\n",
      "It is recommended to use pyarrow for on-the-wire transmission of pandas objects.\n",
      "  final_df.to_msgpack(output_path, compress='zlib')\n"
     ]
    },
    {
     "name": "stdout",
     "output_type": "stream",
     "text": [
      "/home/hanliu/project/mouse_rostral_brain/DMR/SubType/raw/SubType-chr13/MotifScan.h5adtemp/MA0078.1.meme, N motif total=26191\n"
     ]
    },
    {
     "name": "stderr",
     "output_type": "stream",
     "text": [
      "/home/hanliu/miniconda3/envs/clustering/lib/python3.7/site-packages/ALLCools/dmr/fimo.py:60: FutureWarning: to_msgpack is deprecated and will be removed in a future version.\n",
      "It is recommended to use pyarrow for on-the-wire transmission of pandas objects.\n",
      "  final_df.to_msgpack(output_path, compress='zlib')\n"
     ]
    },
    {
     "name": "stdout",
     "output_type": "stream",
     "text": [
      "/home/hanliu/project/mouse_rostral_brain/DMR/SubType/raw/SubType-chr13/MotifScan.h5adtemp/MA1562.1.meme, N motif total=15468\n"
     ]
    },
    {
     "name": "stderr",
     "output_type": "stream",
     "text": [
      "/home/hanliu/miniconda3/envs/clustering/lib/python3.7/site-packages/ALLCools/dmr/fimo.py:60: FutureWarning: to_msgpack is deprecated and will be removed in a future version.\n",
      "It is recommended to use pyarrow for on-the-wire transmission of pandas objects.\n",
      "  final_df.to_msgpack(output_path, compress='zlib')\n"
     ]
    },
    {
     "name": "stdout",
     "output_type": "stream",
     "text": [
      "/home/hanliu/project/mouse_rostral_brain/DMR/SubType/raw/SubType-chr13/MotifScan.h5adtemp/MA1563.1.meme, N motif total=17393\n"
     ]
    },
    {
     "name": "stderr",
     "output_type": "stream",
     "text": [
      "/home/hanliu/miniconda3/envs/clustering/lib/python3.7/site-packages/ALLCools/dmr/fimo.py:60: FutureWarning: to_msgpack is deprecated and will be removed in a future version.\n",
      "It is recommended to use pyarrow for on-the-wire transmission of pandas objects.\n",
      "  final_df.to_msgpack(output_path, compress='zlib')\n"
     ]
    },
    {
     "name": "stdout",
     "output_type": "stream",
     "text": [
      "Motif MA0087.1 Sox5 do not have any match under current settings.\n"
     ]
    },
    {
     "name": "stdout",
     "output_type": "stream",
     "text": [
      "/home/hanliu/project/mouse_rostral_brain/DMR/SubType/raw/SubType-chr13/MotifScan.h5adtemp/MA0143.4.meme, N motif total=31178\n"
     ]
    },
    {
     "name": "stderr",
     "output_type": "stream",
     "text": [
      "/home/hanliu/miniconda3/envs/clustering/lib/python3.7/site-packages/ALLCools/dmr/fimo.py:60: FutureWarning: to_msgpack is deprecated and will be removed in a future version.\n",
      "It is recommended to use pyarrow for on-the-wire transmission of pandas objects.\n",
      "  final_df.to_msgpack(output_path, compress='zlib')\n"
     ]
    },
    {
     "name": "stdout",
     "output_type": "stream",
     "text": [
      "/home/hanliu/project/mouse_rostral_brain/DMR/SubType/raw/SubType-chr13/MotifScan.h5adtemp/MA0514.1.meme, N motif total=77777\n"
     ]
    },
    {
     "name": "stderr",
     "output_type": "stream",
     "text": [
      "/home/hanliu/miniconda3/envs/clustering/lib/python3.7/site-packages/ALLCools/dmr/fimo.py:60: FutureWarning: to_msgpack is deprecated and will be removed in a future version.\n",
      "It is recommended to use pyarrow for on-the-wire transmission of pandas objects.\n",
      "  final_df.to_msgpack(output_path, compress='zlib')\n"
     ]
    },
    {
     "name": "stdout",
     "output_type": "stream",
     "text": [
      "/home/hanliu/project/mouse_rostral_brain/DMR/SubType/raw/SubType-chr13/MotifScan.h5adtemp/MA0867.2.meme, N motif total=44604\n"
     ]
    },
    {
     "name": "stderr",
     "output_type": "stream",
     "text": [
      "/home/hanliu/miniconda3/envs/clustering/lib/python3.7/site-packages/ALLCools/dmr/fimo.py:60: FutureWarning: to_msgpack is deprecated and will be removed in a future version.\n",
      "It is recommended to use pyarrow for on-the-wire transmission of pandas objects.\n",
      "  final_df.to_msgpack(output_path, compress='zlib')\n"
     ]
    },
    {
     "name": "stdout",
     "output_type": "stream",
     "text": [
      "/home/hanliu/project/mouse_rostral_brain/DMR/SubType/raw/SubType-chr13/MotifScan.h5adtemp/MA0868.2.meme, N motif total=26534\n"
     ]
    },
    {
     "name": "stderr",
     "output_type": "stream",
     "text": [
      "/home/hanliu/miniconda3/envs/clustering/lib/python3.7/site-packages/ALLCools/dmr/fimo.py:60: FutureWarning: to_msgpack is deprecated and will be removed in a future version.\n",
      "It is recommended to use pyarrow for on-the-wire transmission of pandas objects.\n",
      "  final_df.to_msgpack(output_path, compress='zlib')\n"
     ]
    },
    {
     "name": "stdout",
     "output_type": "stream",
     "text": [
      "/home/hanliu/project/mouse_rostral_brain/DMR/SubType/raw/SubType-chr13/MotifScan.h5adtemp/MA0866.1.meme, N motif total=5234\n"
     ]
    },
    {
     "name": "stderr",
     "output_type": "stream",
     "text": [
      "/home/hanliu/miniconda3/envs/clustering/lib/python3.7/site-packages/ALLCools/dmr/fimo.py:60: FutureWarning: to_msgpack is deprecated and will be removed in a future version.\n",
      "It is recommended to use pyarrow for on-the-wire transmission of pandas objects.\n",
      "  final_df.to_msgpack(output_path, compress='zlib')\n"
     ]
    },
    {
     "name": "stdout",
     "output_type": "stream",
     "text": [
      "/home/hanliu/project/mouse_rostral_brain/DMR/SubType/raw/SubType-chr13/MotifScan.h5adtemp/MA0077.1.meme, N motif total=21648\n"
     ]
    },
    {
     "name": "stderr",
     "output_type": "stream",
     "text": [
      "/home/hanliu/miniconda3/envs/clustering/lib/python3.7/site-packages/ALLCools/dmr/fimo.py:60: FutureWarning: to_msgpack is deprecated and will be removed in a future version.\n",
      "It is recommended to use pyarrow for on-the-wire transmission of pandas objects.\n",
      "  final_df.to_msgpack(output_path, compress='zlib')\n"
     ]
    },
    {
     "name": "stdout",
     "output_type": "stream",
     "text": [
      "/home/hanliu/project/mouse_rostral_brain/DMR/SubType/raw/SubType-chr13/MotifScan.h5adtemp/MA0515.1.meme, N motif total=47156\n"
     ]
    },
    {
     "name": "stderr",
     "output_type": "stream",
     "text": [
      "/home/hanliu/miniconda3/envs/clustering/lib/python3.7/site-packages/ALLCools/dmr/fimo.py:60: FutureWarning: to_msgpack is deprecated and will be removed in a future version.\n",
      "It is recommended to use pyarrow for on-the-wire transmission of pandas objects.\n",
      "  final_df.to_msgpack(output_path, compress='zlib')\n"
     ]
    },
    {
     "name": "stdout",
     "output_type": "stream",
     "text": [
      "/home/hanliu/project/mouse_rostral_brain/DMR/SubType/raw/SubType-chr13/MotifScan.h5adtemp/MA0746.2.meme, N motif total=55026\n"
     ]
    },
    {
     "name": "stderr",
     "output_type": "stream",
     "text": [
      "/home/hanliu/miniconda3/envs/clustering/lib/python3.7/site-packages/ALLCools/dmr/fimo.py:60: FutureWarning: to_msgpack is deprecated and will be removed in a future version.\n",
      "It is recommended to use pyarrow for on-the-wire transmission of pandas objects.\n",
      "  final_df.to_msgpack(output_path, compress='zlib')\n"
     ]
    },
    {
     "name": "stdout",
     "output_type": "stream",
     "text": [
      "/home/hanliu/project/mouse_rostral_brain/DMR/SubType/raw/SubType-chr13/MotifScan.h5adtemp/MA0079.4.meme, N motif total=19403\n"
     ]
    },
    {
     "name": "stderr",
     "output_type": "stream",
     "text": [
      "/home/hanliu/miniconda3/envs/clustering/lib/python3.7/site-packages/ALLCools/dmr/fimo.py:60: FutureWarning: to_msgpack is deprecated and will be removed in a future version.\n",
      "It is recommended to use pyarrow for on-the-wire transmission of pandas objects.\n",
      "  final_df.to_msgpack(output_path, compress='zlib')\n"
     ]
    },
    {
     "name": "stdout",
     "output_type": "stream",
     "text": [
      "/home/hanliu/project/mouse_rostral_brain/DMR/SubType/raw/SubType-chr13/MotifScan.h5adtemp/MA0747.1.meme, N motif total=87881\n"
     ]
    },
    {
     "name": "stderr",
     "output_type": "stream",
     "text": [
      "/home/hanliu/miniconda3/envs/clustering/lib/python3.7/site-packages/ALLCools/dmr/fimo.py:60: FutureWarning: to_msgpack is deprecated and will be removed in a future version.\n",
      "It is recommended to use pyarrow for on-the-wire transmission of pandas objects.\n",
      "  final_df.to_msgpack(output_path, compress='zlib')\n"
     ]
    },
    {
     "name": "stdout",
     "output_type": "stream",
     "text": [
      "/home/hanliu/project/mouse_rostral_brain/DMR/SubType/raw/SubType-chr13/MotifScan.h5adtemp/MA0686.1.meme, N motif total=9393\n"
     ]
    },
    {
     "name": "stderr",
     "output_type": "stream",
     "text": [
      "/home/hanliu/miniconda3/envs/clustering/lib/python3.7/site-packages/ALLCools/dmr/fimo.py:60: FutureWarning: to_msgpack is deprecated and will be removed in a future version.\n",
      "It is recommended to use pyarrow for on-the-wire transmission of pandas objects.\n",
      "  final_df.to_msgpack(output_path, compress='zlib')\n"
     ]
    },
    {
     "name": "stdout",
     "output_type": "stream",
     "text": [
      "/home/hanliu/project/mouse_rostral_brain/DMR/SubType/raw/SubType-chr13/MotifScan.h5adtemp/MA0516.2.meme, N motif total=89357\n"
     ]
    },
    {
     "name": "stderr",
     "output_type": "stream",
     "text": [
      "/home/hanliu/miniconda3/envs/clustering/lib/python3.7/site-packages/ALLCools/dmr/fimo.py:60: FutureWarning: to_msgpack is deprecated and will be removed in a future version.\n",
      "It is recommended to use pyarrow for on-the-wire transmission of pandas objects.\n",
      "  final_df.to_msgpack(output_path, compress='zlib')\n"
     ]
    },
    {
     "name": "stdout",
     "output_type": "stream",
     "text": [
      "/home/hanliu/project/mouse_rostral_brain/DMR/SubType/raw/SubType-chr13/MotifScan.h5adtemp/MA1564.1.meme, N motif total=75424\n"
     ]
    },
    {
     "name": "stderr",
     "output_type": "stream",
     "text": [
      "/home/hanliu/miniconda3/envs/clustering/lib/python3.7/site-packages/ALLCools/dmr/fimo.py:60: FutureWarning: to_msgpack is deprecated and will be removed in a future version.\n",
      "It is recommended to use pyarrow for on-the-wire transmission of pandas objects.\n",
      "  final_df.to_msgpack(output_path, compress='zlib')\n"
     ]
    },
    {
     "name": "stdout",
     "output_type": "stream",
     "text": [
      "/home/hanliu/project/mouse_rostral_brain/DMR/SubType/raw/SubType-chr13/MotifScan.h5adtemp/MA0685.1.meme, N motif total=16344\n"
     ]
    },
    {
     "name": "stderr",
     "output_type": "stream",
     "text": [
      "/home/hanliu/miniconda3/envs/clustering/lib/python3.7/site-packages/ALLCools/dmr/fimo.py:60: FutureWarning: to_msgpack is deprecated and will be removed in a future version.\n",
      "It is recommended to use pyarrow for on-the-wire transmission of pandas objects.\n",
      "  final_df.to_msgpack(output_path, compress='zlib')\n"
     ]
    },
    {
     "name": "stdout",
     "output_type": "stream",
     "text": [
      "/home/hanliu/project/mouse_rostral_brain/DMR/SubType/raw/SubType-chr13/MotifScan.h5adtemp/MA0595.1.meme, N motif total=23647\n"
     ]
    },
    {
     "name": "stderr",
     "output_type": "stream",
     "text": [
      "/home/hanliu/miniconda3/envs/clustering/lib/python3.7/site-packages/ALLCools/dmr/fimo.py:60: FutureWarning: to_msgpack is deprecated and will be removed in a future version.\n",
      "It is recommended to use pyarrow for on-the-wire transmission of pandas objects.\n",
      "  final_df.to_msgpack(output_path, compress='zlib')\n"
     ]
    },
    {
     "name": "stdout",
     "output_type": "stream",
     "text": [
      "/home/hanliu/project/mouse_rostral_brain/DMR/SubType/raw/SubType-chr13/MotifScan.h5adtemp/MA0111.1.meme, N motif total=26121\n"
     ]
    },
    {
     "name": "stderr",
     "output_type": "stream",
     "text": [
      "/home/hanliu/miniconda3/envs/clustering/lib/python3.7/site-packages/ALLCools/dmr/fimo.py:60: FutureWarning: to_msgpack is deprecated and will be removed in a future version.\n",
      "It is recommended to use pyarrow for on-the-wire transmission of pandas objects.\n",
      "  final_df.to_msgpack(output_path, compress='zlib')\n"
     ]
    },
    {
     "name": "stdout",
     "output_type": "stream",
     "text": [
      "/home/hanliu/project/mouse_rostral_brain/DMR/SubType/raw/SubType-chr13/MotifScan.h5adtemp/MA0687.1.meme, N motif total=39710\n"
     ]
    },
    {
     "name": "stderr",
     "output_type": "stream",
     "text": [
      "/home/hanliu/miniconda3/envs/clustering/lib/python3.7/site-packages/ALLCools/dmr/fimo.py:60: FutureWarning: to_msgpack is deprecated and will be removed in a future version.\n",
      "It is recommended to use pyarrow for on-the-wire transmission of pandas objects.\n",
      "  final_df.to_msgpack(output_path, compress='zlib')\n"
     ]
    },
    {
     "name": "stdout",
     "output_type": "stream",
     "text": [
      "/home/hanliu/project/mouse_rostral_brain/DMR/SubType/raw/SubType-chr13/MotifScan.h5adtemp/MA0081.2.meme, N motif total=84413\n"
     ]
    },
    {
     "name": "stderr",
     "output_type": "stream",
     "text": [
      "/home/hanliu/miniconda3/envs/clustering/lib/python3.7/site-packages/ALLCools/dmr/fimo.py:60: FutureWarning: to_msgpack is deprecated and will be removed in a future version.\n",
      "It is recommended to use pyarrow for on-the-wire transmission of pandas objects.\n",
      "  final_df.to_msgpack(output_path, compress='zlib')\n"
     ]
    },
    {
     "name": "stdout",
     "output_type": "stream",
     "text": [
      "/home/hanliu/project/mouse_rostral_brain/DMR/SubType/raw/SubType-chr13/MotifScan.h5adtemp/MA0828.1.meme, N motif total=15012\n"
     ]
    },
    {
     "name": "stderr",
     "output_type": "stream",
     "text": [
      "/home/hanliu/miniconda3/envs/clustering/lib/python3.7/site-packages/ALLCools/dmr/fimo.py:60: FutureWarning: to_msgpack is deprecated and will be removed in a future version.\n",
      "It is recommended to use pyarrow for on-the-wire transmission of pandas objects.\n",
      "  final_df.to_msgpack(output_path, compress='zlib')\n"
     ]
    },
    {
     "name": "stdout",
     "output_type": "stream",
     "text": [
      "/home/hanliu/project/mouse_rostral_brain/DMR/SubType/raw/SubType-chr13/MotifScan.h5adtemp/MA0084.1.meme, N motif total=26065\n"
     ]
    },
    {
     "name": "stderr",
     "output_type": "stream",
     "text": [
      "/home/hanliu/miniconda3/envs/clustering/lib/python3.7/site-packages/ALLCools/dmr/fimo.py:60: FutureWarning: to_msgpack is deprecated and will be removed in a future version.\n",
      "It is recommended to use pyarrow for on-the-wire transmission of pandas objects.\n",
      "  final_df.to_msgpack(output_path, compress='zlib')\n"
     ]
    },
    {
     "name": "stdout",
     "output_type": "stream",
     "text": [
      "/home/hanliu/project/mouse_rostral_brain/DMR/SubType/raw/SubType-chr13/MotifScan.h5adtemp/MA0596.1.meme, N motif total=24529\n"
     ]
    },
    {
     "name": "stderr",
     "output_type": "stream",
     "text": [
      "/home/hanliu/miniconda3/envs/clustering/lib/python3.7/site-packages/ALLCools/dmr/fimo.py:60: FutureWarning: to_msgpack is deprecated and will be removed in a future version.\n",
      "It is recommended to use pyarrow for on-the-wire transmission of pandas objects.\n",
      "  final_df.to_msgpack(output_path, compress='zlib')\n"
     ]
    },
    {
     "name": "stdout",
     "output_type": "stream",
     "text": [
      "/home/hanliu/project/mouse_rostral_brain/DMR/SubType/raw/SubType-chr13/MotifScan.h5adtemp/MA0137.3.meme, N motif total=43995\n"
     ]
    },
    {
     "name": "stderr",
     "output_type": "stream",
     "text": [
      "/home/hanliu/miniconda3/envs/clustering/lib/python3.7/site-packages/ALLCools/dmr/fimo.py:60: FutureWarning: to_msgpack is deprecated and will be removed in a future version.\n",
      "It is recommended to use pyarrow for on-the-wire transmission of pandas objects.\n",
      "  final_df.to_msgpack(output_path, compress='zlib')\n"
     ]
    },
    {
     "name": "stdout",
     "output_type": "stream",
     "text": [
      "/home/hanliu/project/mouse_rostral_brain/DMR/SubType/raw/SubType-chr13/MotifScan.h5adtemp/MA0829.2.meme, N motif total=23496\n"
     ]
    },
    {
     "name": "stderr",
     "output_type": "stream",
     "text": [
      "/home/hanliu/miniconda3/envs/clustering/lib/python3.7/site-packages/ALLCools/dmr/fimo.py:60: FutureWarning: to_msgpack is deprecated and will be removed in a future version.\n",
      "It is recommended to use pyarrow for on-the-wire transmission of pandas objects.\n",
      "  final_df.to_msgpack(output_path, compress='zlib')\n"
     ]
    },
    {
     "name": "stdout",
     "output_type": "stream",
     "text": [
      "/home/hanliu/project/mouse_rostral_brain/DMR/SubType/raw/SubType-chr13/MotifScan.h5adtemp/MA0080.5.meme, N motif total=125982\n"
     ]
    },
    {
     "name": "stderr",
     "output_type": "stream",
     "text": [
      "/home/hanliu/miniconda3/envs/clustering/lib/python3.7/site-packages/ALLCools/dmr/fimo.py:60: FutureWarning: to_msgpack is deprecated and will be removed in a future version.\n",
      "It is recommended to use pyarrow for on-the-wire transmission of pandas objects.\n",
      "  final_df.to_msgpack(output_path, compress='zlib')\n"
     ]
    },
    {
     "name": "stdout",
     "output_type": "stream",
     "text": [
      "/home/hanliu/project/mouse_rostral_brain/DMR/SubType/raw/SubType-chr13/MotifScan.h5adtemp/MA0144.2.meme, N motif total=54186\n"
     ]
    },
    {
     "name": "stderr",
     "output_type": "stream",
     "text": [
      "/home/hanliu/miniconda3/envs/clustering/lib/python3.7/site-packages/ALLCools/dmr/fimo.py:60: FutureWarning: to_msgpack is deprecated and will be removed in a future version.\n",
      "It is recommended to use pyarrow for on-the-wire transmission of pandas objects.\n",
      "  final_df.to_msgpack(output_path, compress='zlib')\n"
     ]
    },
    {
     "name": "stdout",
     "output_type": "stream",
     "text": [
      "/home/hanliu/project/mouse_rostral_brain/DMR/SubType/raw/SubType-chr13/MotifScan.h5adtemp/MA0519.1.meme, N motif total=50419\n"
     ]
    },
    {
     "name": "stderr",
     "output_type": "stream",
     "text": [
      "/home/hanliu/miniconda3/envs/clustering/lib/python3.7/site-packages/ALLCools/dmr/fimo.py:60: FutureWarning: to_msgpack is deprecated and will be removed in a future version.\n",
      "It is recommended to use pyarrow for on-the-wire transmission of pandas objects.\n",
      "  final_df.to_msgpack(output_path, compress='zlib')\n"
     ]
    },
    {
     "name": "stdout",
     "output_type": "stream",
     "text": [
      "/home/hanliu/project/mouse_rostral_brain/DMR/SubType/raw/SubType-chr13/MotifScan.h5adtemp/MA0803.1.meme, N motif total=22556\n"
     ]
    },
    {
     "name": "stderr",
     "output_type": "stream",
     "text": [
      "/home/hanliu/miniconda3/envs/clustering/lib/python3.7/site-packages/ALLCools/dmr/fimo.py:60: FutureWarning: to_msgpack is deprecated and will be removed in a future version.\n",
      "It is recommended to use pyarrow for on-the-wire transmission of pandas objects.\n",
      "  final_df.to_msgpack(output_path, compress='zlib')\n"
     ]
    },
    {
     "name": "stdout",
     "output_type": "stream",
     "text": [
      "/home/hanliu/project/mouse_rostral_brain/DMR/SubType/raw/SubType-chr13/MotifScan.h5adtemp/MA1624.1.meme, N motif total=44760\n"
     ]
    },
    {
     "name": "stderr",
     "output_type": "stream",
     "text": [
      "/home/hanliu/miniconda3/envs/clustering/lib/python3.7/site-packages/ALLCools/dmr/fimo.py:60: FutureWarning: to_msgpack is deprecated and will be removed in a future version.\n",
      "It is recommended to use pyarrow for on-the-wire transmission of pandas objects.\n",
      "  final_df.to_msgpack(output_path, compress='zlib')\n"
     ]
    },
    {
     "name": "stdout",
     "output_type": "stream",
     "text": [
      "/home/hanliu/project/mouse_rostral_brain/DMR/SubType/raw/SubType-chr13/MotifScan.h5adtemp/MA0805.1.meme, N motif total=21929\n"
     ]
    },
    {
     "name": "stderr",
     "output_type": "stream",
     "text": [
      "/home/hanliu/miniconda3/envs/clustering/lib/python3.7/site-packages/ALLCools/dmr/fimo.py:60: FutureWarning: to_msgpack is deprecated and will be removed in a future version.\n",
      "It is recommended to use pyarrow for on-the-wire transmission of pandas objects.\n",
      "  final_df.to_msgpack(output_path, compress='zlib')\n"
     ]
    },
    {
     "name": "stdout",
     "output_type": "stream",
     "text": [
      "Finish count 600 motifs.\n"
     ]
    },
    {
     "name": "stdout",
     "output_type": "stream",
     "text": [
      "/home/hanliu/project/mouse_rostral_brain/DMR/SubType/raw/SubType-chr13/MotifScan.h5adtemp/MA0518.1.meme, N motif total=48953\n"
     ]
    },
    {
     "name": "stderr",
     "output_type": "stream",
     "text": [
      "/home/hanliu/miniconda3/envs/clustering/lib/python3.7/site-packages/ALLCools/dmr/fimo.py:60: FutureWarning: to_msgpack is deprecated and will be removed in a future version.\n",
      "It is recommended to use pyarrow for on-the-wire transmission of pandas objects.\n",
      "  final_df.to_msgpack(output_path, compress='zlib')\n"
     ]
    },
    {
     "name": "stdout",
     "output_type": "stream",
     "text": [
      "/home/hanliu/project/mouse_rostral_brain/DMR/SubType/raw/SubType-chr13/MotifScan.h5adtemp/MA0802.1.meme, N motif total=25166\n"
     ]
    },
    {
     "name": "stderr",
     "output_type": "stream",
     "text": [
      "/home/hanliu/miniconda3/envs/clustering/lib/python3.7/site-packages/ALLCools/dmr/fimo.py:60: FutureWarning: to_msgpack is deprecated and will be removed in a future version.\n",
      "It is recommended to use pyarrow for on-the-wire transmission of pandas objects.\n",
      "  final_df.to_msgpack(output_path, compress='zlib')\n"
     ]
    },
    {
     "name": "stdout",
     "output_type": "stream",
     "text": [
      "/home/hanliu/project/mouse_rostral_brain/DMR/SubType/raw/SubType-chr13/MotifScan.h5adtemp/MA0083.3.meme, N motif total=8809\n"
     ]
    },
    {
     "name": "stderr",
     "output_type": "stream",
     "text": [
      "/home/hanliu/miniconda3/envs/clustering/lib/python3.7/site-packages/ALLCools/dmr/fimo.py:60: FutureWarning: to_msgpack is deprecated and will be removed in a future version.\n",
      "It is recommended to use pyarrow for on-the-wire transmission of pandas objects.\n",
      "  final_df.to_msgpack(output_path, compress='zlib')\n"
     ]
    },
    {
     "name": "stdout",
     "output_type": "stream",
     "text": [
      "/home/hanliu/project/mouse_rostral_brain/DMR/SubType/raw/SubType-chr13/MotifScan.h5adtemp/MA1623.1.meme, N motif total=112161\n"
     ]
    },
    {
     "name": "stderr",
     "output_type": "stream",
     "text": [
      "/home/hanliu/miniconda3/envs/clustering/lib/python3.7/site-packages/ALLCools/dmr/fimo.py:60: FutureWarning: to_msgpack is deprecated and will be removed in a future version.\n",
      "It is recommended to use pyarrow for on-the-wire transmission of pandas objects.\n",
      "  final_df.to_msgpack(output_path, compress='zlib')\n"
     ]
    },
    {
     "name": "stdout",
     "output_type": "stream",
     "text": [
      "/home/hanliu/project/mouse_rostral_brain/DMR/SubType/raw/SubType-chr13/MotifScan.h5adtemp/MA0517.1.meme, N motif total=77552\n"
     ]
    },
    {
     "name": "stderr",
     "output_type": "stream",
     "text": [
      "/home/hanliu/miniconda3/envs/clustering/lib/python3.7/site-packages/ALLCools/dmr/fimo.py:60: FutureWarning: to_msgpack is deprecated and will be removed in a future version.\n",
      "It is recommended to use pyarrow for on-the-wire transmission of pandas objects.\n",
      "  final_df.to_msgpack(output_path, compress='zlib')\n"
     ]
    },
    {
     "name": "stdout",
     "output_type": "stream",
     "text": [
      "/home/hanliu/project/mouse_rostral_brain/DMR/SubType/raw/SubType-chr13/MotifScan.h5adtemp/MA0091.1.meme, N motif total=38303\n"
     ]
    },
    {
     "name": "stderr",
     "output_type": "stream",
     "text": [
      "/home/hanliu/miniconda3/envs/clustering/lib/python3.7/site-packages/ALLCools/dmr/fimo.py:60: FutureWarning: to_msgpack is deprecated and will be removed in a future version.\n",
      "It is recommended to use pyarrow for on-the-wire transmission of pandas objects.\n",
      "  final_df.to_msgpack(output_path, compress='zlib')\n"
     ]
    },
    {
     "name": "stdout",
     "output_type": "stream",
     "text": [
      "/home/hanliu/project/mouse_rostral_brain/DMR/SubType/raw/SubType-chr13/MotifScan.h5adtemp/MA0520.1.meme, N motif total=43552\n"
     ]
    },
    {
     "name": "stderr",
     "output_type": "stream",
     "text": [
      "/home/hanliu/miniconda3/envs/clustering/lib/python3.7/site-packages/ALLCools/dmr/fimo.py:60: FutureWarning: to_msgpack is deprecated and will be removed in a future version.\n",
      "It is recommended to use pyarrow for on-the-wire transmission of pandas objects.\n",
      "  final_df.to_msgpack(output_path, compress='zlib')\n"
     ]
    },
    {
     "name": "stdout",
     "output_type": "stream",
     "text": [
      "/home/hanliu/project/mouse_rostral_brain/DMR/SubType/raw/SubType-chr13/MotifScan.h5adtemp/MA1625.1.meme, N motif total=53620\n"
     ]
    },
    {
     "name": "stderr",
     "output_type": "stream",
     "text": [
      "/home/hanliu/miniconda3/envs/clustering/lib/python3.7/site-packages/ALLCools/dmr/fimo.py:60: FutureWarning: to_msgpack is deprecated and will be removed in a future version.\n",
      "It is recommended to use pyarrow for on-the-wire transmission of pandas objects.\n",
      "  final_df.to_msgpack(output_path, compress='zlib')\n"
     ]
    },
    {
     "name": "stdout",
     "output_type": "stream",
     "text": [
      "/home/hanliu/project/mouse_rostral_brain/DMR/SubType/raw/SubType-chr13/MotifScan.h5adtemp/MA1565.1.meme, N motif total=34351\n"
     ]
    },
    {
     "name": "stderr",
     "output_type": "stream",
     "text": [
      "/home/hanliu/miniconda3/envs/clustering/lib/python3.7/site-packages/ALLCools/dmr/fimo.py:60: FutureWarning: to_msgpack is deprecated and will be removed in a future version.\n",
      "It is recommended to use pyarrow for on-the-wire transmission of pandas objects.\n",
      "  final_df.to_msgpack(output_path, compress='zlib')\n"
     ]
    },
    {
     "name": "stdout",
     "output_type": "stream",
     "text": [
      "/home/hanliu/project/mouse_rostral_brain/DMR/SubType/raw/SubType-chr13/MotifScan.h5adtemp/MA0108.2.meme, N motif total=16736\n"
     ]
    },
    {
     "name": "stderr",
     "output_type": "stream",
     "text": [
      "/home/hanliu/miniconda3/envs/clustering/lib/python3.7/site-packages/ALLCools/dmr/fimo.py:60: FutureWarning: to_msgpack is deprecated and will be removed in a future version.\n",
      "It is recommended to use pyarrow for on-the-wire transmission of pandas objects.\n",
      "  final_df.to_msgpack(output_path, compress='zlib')\n"
     ]
    },
    {
     "name": "stdout",
     "output_type": "stream",
     "text": [
      "/home/hanliu/project/mouse_rostral_brain/DMR/SubType/raw/SubType-chr13/MotifScan.h5adtemp/MA0688.1.meme, N motif total=24611\n"
     ]
    },
    {
     "name": "stderr",
     "output_type": "stream",
     "text": [
      "/home/hanliu/miniconda3/envs/clustering/lib/python3.7/site-packages/ALLCools/dmr/fimo.py:60: FutureWarning: to_msgpack is deprecated and will be removed in a future version.\n",
      "It is recommended to use pyarrow for on-the-wire transmission of pandas objects.\n",
      "  final_df.to_msgpack(output_path, compress='zlib')\n"
     ]
    },
    {
     "name": "stdout",
     "output_type": "stream",
     "text": [
      "/home/hanliu/project/mouse_rostral_brain/DMR/SubType/raw/SubType-chr13/MotifScan.h5adtemp/MA0807.1.meme, N motif total=31713\n"
     ]
    },
    {
     "name": "stderr",
     "output_type": "stream",
     "text": [
      "/home/hanliu/miniconda3/envs/clustering/lib/python3.7/site-packages/ALLCools/dmr/fimo.py:60: FutureWarning: to_msgpack is deprecated and will be removed in a future version.\n",
      "It is recommended to use pyarrow for on-the-wire transmission of pandas objects.\n",
      "  final_df.to_msgpack(output_path, compress='zlib')\n"
     ]
    },
    {
     "name": "stdout",
     "output_type": "stream",
     "text": [
      "/home/hanliu/project/mouse_rostral_brain/DMR/SubType/raw/SubType-chr13/MotifScan.h5adtemp/MA0689.1.meme, N motif total=26303\n"
     ]
    },
    {
     "name": "stderr",
     "output_type": "stream",
     "text": [
      "/home/hanliu/miniconda3/envs/clustering/lib/python3.7/site-packages/ALLCools/dmr/fimo.py:60: FutureWarning: to_msgpack is deprecated and will be removed in a future version.\n",
      "It is recommended to use pyarrow for on-the-wire transmission of pandas objects.\n",
      "  final_df.to_msgpack(output_path, compress='zlib')\n"
     ]
    },
    {
     "name": "stdout",
     "output_type": "stream",
     "text": [
      "/home/hanliu/project/mouse_rostral_brain/DMR/SubType/raw/SubType-chr13/MotifScan.h5adtemp/MA0690.1.meme, N motif total=24929\n"
     ]
    },
    {
     "name": "stderr",
     "output_type": "stream",
     "text": [
      "/home/hanliu/miniconda3/envs/clustering/lib/python3.7/site-packages/ALLCools/dmr/fimo.py:60: FutureWarning: to_msgpack is deprecated and will be removed in a future version.\n",
      "It is recommended to use pyarrow for on-the-wire transmission of pandas objects.\n",
      "  final_df.to_msgpack(output_path, compress='zlib')\n"
     ]
    },
    {
     "name": "stdout",
     "output_type": "stream",
     "text": [
      "/home/hanliu/project/mouse_rostral_brain/DMR/SubType/raw/SubType-chr13/MotifScan.h5adtemp/MA0806.1.meme, N motif total=21929\n"
     ]
    },
    {
     "name": "stderr",
     "output_type": "stream",
     "text": [
      "/home/hanliu/miniconda3/envs/clustering/lib/python3.7/site-packages/ALLCools/dmr/fimo.py:60: FutureWarning: to_msgpack is deprecated and will be removed in a future version.\n",
      "It is recommended to use pyarrow for on-the-wire transmission of pandas objects.\n",
      "  final_df.to_msgpack(output_path, compress='zlib')\n"
     ]
    },
    {
     "name": "stdout",
     "output_type": "stream",
     "text": [
      "/home/hanliu/project/mouse_rostral_brain/DMR/SubType/raw/SubType-chr13/MotifScan.h5adtemp/MA1566.1.meme, N motif total=26500\n"
     ]
    },
    {
     "name": "stderr",
     "output_type": "stream",
     "text": [
      "/home/hanliu/miniconda3/envs/clustering/lib/python3.7/site-packages/ALLCools/dmr/fimo.py:60: FutureWarning: to_msgpack is deprecated and will be removed in a future version.\n",
      "It is recommended to use pyarrow for on-the-wire transmission of pandas objects.\n",
      "  final_df.to_msgpack(output_path, compress='zlib')\n"
     ]
    },
    {
     "name": "stdout",
     "output_type": "stream",
     "text": [
      "/home/hanliu/project/mouse_rostral_brain/DMR/SubType/raw/SubType-chr13/MotifScan.h5adtemp/MA1567.1.meme, N motif total=23232\n"
     ]
    },
    {
     "name": "stderr",
     "output_type": "stream",
     "text": [
      "/home/hanliu/miniconda3/envs/clustering/lib/python3.7/site-packages/ALLCools/dmr/fimo.py:60: FutureWarning: to_msgpack is deprecated and will be removed in a future version.\n",
      "It is recommended to use pyarrow for on-the-wire transmission of pandas objects.\n",
      "  final_df.to_msgpack(output_path, compress='zlib')\n"
     ]
    },
    {
     "name": "stdout",
     "output_type": "stream",
     "text": [
      "/home/hanliu/project/mouse_rostral_brain/DMR/SubType/raw/SubType-chr13/MotifScan.h5adtemp/MA0804.1.meme, N motif total=19427\n"
     ]
    },
    {
     "name": "stderr",
     "output_type": "stream",
     "text": [
      "/home/hanliu/miniconda3/envs/clustering/lib/python3.7/site-packages/ALLCools/dmr/fimo.py:60: FutureWarning: to_msgpack is deprecated and will be removed in a future version.\n",
      "It is recommended to use pyarrow for on-the-wire transmission of pandas objects.\n",
      "  final_df.to_msgpack(output_path, compress='zlib')\n"
     ]
    },
    {
     "name": "stdout",
     "output_type": "stream",
     "text": [
      "/home/hanliu/project/mouse_rostral_brain/DMR/SubType/raw/SubType-chr13/MotifScan.h5adtemp/MA0521.1.meme, N motif total=54716\n"
     ]
    },
    {
     "name": "stderr",
     "output_type": "stream",
     "text": [
      "/home/hanliu/miniconda3/envs/clustering/lib/python3.7/site-packages/ALLCools/dmr/fimo.py:60: FutureWarning: to_msgpack is deprecated and will be removed in a future version.\n",
      "It is recommended to use pyarrow for on-the-wire transmission of pandas objects.\n",
      "  final_df.to_msgpack(output_path, compress='zlib')\n"
     ]
    },
    {
     "name": "stdout",
     "output_type": "stream",
     "text": [
      "/home/hanliu/project/mouse_rostral_brain/DMR/SubType/raw/SubType-chr13/MotifScan.h5adtemp/MA1648.1.meme, N motif total=33349\n"
     ]
    },
    {
     "name": "stderr",
     "output_type": "stream",
     "text": [
      "/home/hanliu/miniconda3/envs/clustering/lib/python3.7/site-packages/ALLCools/dmr/fimo.py:60: FutureWarning: to_msgpack is deprecated and will be removed in a future version.\n",
      "It is recommended to use pyarrow for on-the-wire transmission of pandas objects.\n",
      "  final_df.to_msgpack(output_path, compress='zlib')\n"
     ]
    },
    {
     "name": "stdout",
     "output_type": "stream",
     "text": [
      "/home/hanliu/project/mouse_rostral_brain/DMR/SubType/raw/SubType-chr13/MotifScan.h5adtemp/MA0522.3.meme, N motif total=30412\n"
     ]
    },
    {
     "name": "stderr",
     "output_type": "stream",
     "text": [
      "/home/hanliu/miniconda3/envs/clustering/lib/python3.7/site-packages/ALLCools/dmr/fimo.py:60: FutureWarning: to_msgpack is deprecated and will be removed in a future version.\n",
      "It is recommended to use pyarrow for on-the-wire transmission of pandas objects.\n",
      "  final_df.to_msgpack(output_path, compress='zlib')\n"
     ]
    },
    {
     "name": "stdout",
     "output_type": "stream",
     "text": [
      "/home/hanliu/project/mouse_rostral_brain/DMR/SubType/raw/SubType-chr13/MotifScan.h5adtemp/MA1568.1.meme, N motif total=23016\n"
     ]
    },
    {
     "name": "stderr",
     "output_type": "stream",
     "text": [
      "/home/hanliu/miniconda3/envs/clustering/lib/python3.7/site-packages/ALLCools/dmr/fimo.py:60: FutureWarning: to_msgpack is deprecated and will be removed in a future version.\n",
      "It is recommended to use pyarrow for on-the-wire transmission of pandas objects.\n",
      "  final_df.to_msgpack(output_path, compress='zlib')\n"
     ]
    },
    {
     "name": "stdout",
     "output_type": "stream",
     "text": [
      "/home/hanliu/project/mouse_rostral_brain/DMR/SubType/raw/SubType-chr13/MotifScan.h5adtemp/MA0832.1.meme, N motif total=27552\n"
     ]
    },
    {
     "name": "stderr",
     "output_type": "stream",
     "text": [
      "/home/hanliu/miniconda3/envs/clustering/lib/python3.7/site-packages/ALLCools/dmr/fimo.py:60: FutureWarning: to_msgpack is deprecated and will be removed in a future version.\n",
      "It is recommended to use pyarrow for on-the-wire transmission of pandas objects.\n",
      "  final_df.to_msgpack(output_path, compress='zlib')\n"
     ]
    },
    {
     "name": "stdout",
     "output_type": "stream",
     "text": [
      "/home/hanliu/project/mouse_rostral_brain/DMR/SubType/raw/SubType-chr13/MotifScan.h5adtemp/MA0009.2.meme, N motif total=23082\n"
     ]
    },
    {
     "name": "stderr",
     "output_type": "stream",
     "text": [
      "/home/hanliu/miniconda3/envs/clustering/lib/python3.7/site-packages/ALLCools/dmr/fimo.py:60: FutureWarning: to_msgpack is deprecated and will be removed in a future version.\n",
      "It is recommended to use pyarrow for on-the-wire transmission of pandas objects.\n",
      "  final_df.to_msgpack(output_path, compress='zlib')\n"
     ]
    },
    {
     "name": "stdout",
     "output_type": "stream",
     "text": [
      "/home/hanliu/project/mouse_rostral_brain/DMR/SubType/raw/SubType-chr13/MotifScan.h5adtemp/MA0830.2.meme, N motif total=40561\n"
     ]
    },
    {
     "name": "stderr",
     "output_type": "stream",
     "text": [
      "/home/hanliu/miniconda3/envs/clustering/lib/python3.7/site-packages/ALLCools/dmr/fimo.py:60: FutureWarning: to_msgpack is deprecated and will be removed in a future version.\n",
      "It is recommended to use pyarrow for on-the-wire transmission of pandas objects.\n",
      "  final_df.to_msgpack(output_path, compress='zlib')\n"
     ]
    },
    {
     "name": "stdout",
     "output_type": "stream",
     "text": [
      "/home/hanliu/project/mouse_rostral_brain/DMR/SubType/raw/SubType-chr13/MotifScan.h5adtemp/MA0769.2.meme, N motif total=34961\n"
     ]
    },
    {
     "name": "stderr",
     "output_type": "stream",
     "text": [
      "/home/hanliu/miniconda3/envs/clustering/lib/python3.7/site-packages/ALLCools/dmr/fimo.py:60: FutureWarning: to_msgpack is deprecated and will be removed in a future version.\n",
      "It is recommended to use pyarrow for on-the-wire transmission of pandas objects.\n",
      "  final_df.to_msgpack(output_path, compress='zlib')\n"
     ]
    },
    {
     "name": "stdout",
     "output_type": "stream",
     "text": [
      "/home/hanliu/project/mouse_rostral_brain/DMR/SubType/raw/SubType-chr13/MotifScan.h5adtemp/MA0808.1.meme, N motif total=21919\n"
     ]
    },
    {
     "name": "stderr",
     "output_type": "stream",
     "text": [
      "/home/hanliu/miniconda3/envs/clustering/lib/python3.7/site-packages/ALLCools/dmr/fimo.py:60: FutureWarning: to_msgpack is deprecated and will be removed in a future version.\n",
      "It is recommended to use pyarrow for on-the-wire transmission of pandas objects.\n",
      "  final_df.to_msgpack(output_path, compress='zlib')\n"
     ]
    },
    {
     "name": "stdout",
     "output_type": "stream",
     "text": [
      "/home/hanliu/project/mouse_rostral_brain/DMR/SubType/raw/SubType-chr13/MotifScan.h5adtemp/MA0632.2.meme, N motif total=10436\n"
     ]
    },
    {
     "name": "stderr",
     "output_type": "stream",
     "text": [
      "/home/hanliu/miniconda3/envs/clustering/lib/python3.7/site-packages/ALLCools/dmr/fimo.py:60: FutureWarning: to_msgpack is deprecated and will be removed in a future version.\n",
      "It is recommended to use pyarrow for on-the-wire transmission of pandas objects.\n",
      "  final_df.to_msgpack(output_path, compress='zlib')\n"
     ]
    },
    {
     "name": "stdout",
     "output_type": "stream",
     "text": [
      "/home/hanliu/project/mouse_rostral_brain/DMR/SubType/raw/SubType-chr13/MotifScan.h5adtemp/MA0523.1.meme, N motif total=43875\n"
     ]
    },
    {
     "name": "stderr",
     "output_type": "stream",
     "text": [
      "/home/hanliu/miniconda3/envs/clustering/lib/python3.7/site-packages/ALLCools/dmr/fimo.py:60: FutureWarning: to_msgpack is deprecated and will be removed in a future version.\n",
      "It is recommended to use pyarrow for on-the-wire transmission of pandas objects.\n",
      "  final_df.to_msgpack(output_path, compress='zlib')\n"
     ]
    },
    {
     "name": "stdout",
     "output_type": "stream",
     "text": [
      "/home/hanliu/project/mouse_rostral_brain/DMR/SubType/raw/SubType-chr13/MotifScan.h5adtemp/MA1421.1.meme, N motif total=41889\n"
     ]
    },
    {
     "name": "stderr",
     "output_type": "stream",
     "text": [
      "/home/hanliu/miniconda3/envs/clustering/lib/python3.7/site-packages/ALLCools/dmr/fimo.py:60: FutureWarning: to_msgpack is deprecated and will be removed in a future version.\n",
      "It is recommended to use pyarrow for on-the-wire transmission of pandas objects.\n",
      "  final_df.to_msgpack(output_path, compress='zlib')\n"
     ]
    },
    {
     "name": "stdout",
     "output_type": "stream",
     "text": [
      "/home/hanliu/project/mouse_rostral_brain/DMR/SubType/raw/SubType-chr13/MotifScan.h5adtemp/MA0090.3.meme, N motif total=31404\n"
     ]
    },
    {
     "name": "stderr",
     "output_type": "stream",
     "text": [
      "/home/hanliu/miniconda3/envs/clustering/lib/python3.7/site-packages/ALLCools/dmr/fimo.py:60: FutureWarning: to_msgpack is deprecated and will be removed in a future version.\n",
      "It is recommended to use pyarrow for on-the-wire transmission of pandas objects.\n",
      "  final_df.to_msgpack(output_path, compress='zlib')\n"
     ]
    },
    {
     "name": "stdout",
     "output_type": "stream",
     "text": [
      "/home/hanliu/project/mouse_rostral_brain/DMR/SubType/raw/SubType-chr13/MotifScan.h5adtemp/MA1121.1.meme, N motif total=28148\n"
     ]
    },
    {
     "name": "stderr",
     "output_type": "stream",
     "text": [
      "/home/hanliu/miniconda3/envs/clustering/lib/python3.7/site-packages/ALLCools/dmr/fimo.py:60: FutureWarning: to_msgpack is deprecated and will be removed in a future version.\n",
      "It is recommended to use pyarrow for on-the-wire transmission of pandas objects.\n",
      "  final_df.to_msgpack(output_path, compress='zlib')\n"
     ]
    },
    {
     "name": "stdout",
     "output_type": "stream",
     "text": [
      "/home/hanliu/project/mouse_rostral_brain/DMR/SubType/raw/SubType-chr13/MotifScan.h5adtemp/MA0809.2.meme, N motif total=34236\n"
     ]
    },
    {
     "name": "stderr",
     "output_type": "stream",
     "text": [
      "/home/hanliu/miniconda3/envs/clustering/lib/python3.7/site-packages/ALLCools/dmr/fimo.py:60: FutureWarning: to_msgpack is deprecated and will be removed in a future version.\n",
      "It is recommended to use pyarrow for on-the-wire transmission of pandas objects.\n",
      "  final_df.to_msgpack(output_path, compress='zlib')\n"
     ]
    },
    {
     "name": "stdout",
     "output_type": "stream",
     "text": [
      "/home/hanliu/project/mouse_rostral_brain/DMR/SubType/raw/SubType-chr13/MotifScan.h5adtemp/MA0810.1.meme, N motif total=26836\n"
     ]
    },
    {
     "name": "stderr",
     "output_type": "stream",
     "text": [
      "/home/hanliu/miniconda3/envs/clustering/lib/python3.7/site-packages/ALLCools/dmr/fimo.py:60: FutureWarning: to_msgpack is deprecated and will be removed in a future version.\n",
      "It is recommended to use pyarrow for on-the-wire transmission of pandas objects.\n",
      "  final_df.to_msgpack(output_path, compress='zlib')\n"
     ]
    },
    {
     "name": "stdout",
     "output_type": "stream",
     "text": [
      "/home/hanliu/project/mouse_rostral_brain/DMR/SubType/raw/SubType-chr13/MotifScan.h5adtemp/MA0843.1.meme, N motif total=10443\n"
     ]
    },
    {
     "name": "stderr",
     "output_type": "stream",
     "text": [
      "/home/hanliu/miniconda3/envs/clustering/lib/python3.7/site-packages/ALLCools/dmr/fimo.py:60: FutureWarning: to_msgpack is deprecated and will be removed in a future version.\n",
      "It is recommended to use pyarrow for on-the-wire transmission of pandas objects.\n",
      "  final_df.to_msgpack(output_path, compress='zlib')\n"
     ]
    },
    {
     "name": "stdout",
     "output_type": "stream",
     "text": [
      "/home/hanliu/project/mouse_rostral_brain/DMR/SubType/raw/SubType-chr13/MotifScan.h5adtemp/MA0003.4.meme, N motif total=41313\n"
     ]
    },
    {
     "name": "stderr",
     "output_type": "stream",
     "text": [
      "/home/hanliu/miniconda3/envs/clustering/lib/python3.7/site-packages/ALLCools/dmr/fimo.py:60: FutureWarning: to_msgpack is deprecated and will be removed in a future version.\n",
      "It is recommended to use pyarrow for on-the-wire transmission of pandas objects.\n",
      "  final_df.to_msgpack(output_path, compress='zlib')\n"
     ]
    },
    {
     "name": "stdout",
     "output_type": "stream",
     "text": [
      "/home/hanliu/project/mouse_rostral_brain/DMR/SubType/raw/SubType-chr13/MotifScan.h5adtemp/MA0812.1.meme, N motif total=25178\n"
     ]
    },
    {
     "name": "stderr",
     "output_type": "stream",
     "text": [
      "/home/hanliu/miniconda3/envs/clustering/lib/python3.7/site-packages/ALLCools/dmr/fimo.py:60: FutureWarning: to_msgpack is deprecated and will be removed in a future version.\n",
      "It is recommended to use pyarrow for on-the-wire transmission of pandas objects.\n",
      "  final_df.to_msgpack(output_path, compress='zlib')\n"
     ]
    },
    {
     "name": "stdout",
     "output_type": "stream",
     "text": [
      "/home/hanliu/project/mouse_rostral_brain/DMR/SubType/raw/SubType-chr13/MotifScan.h5adtemp/MA0524.2.meme, N motif total=28933\n"
     ]
    },
    {
     "name": "stderr",
     "output_type": "stream",
     "text": [
      "/home/hanliu/miniconda3/envs/clustering/lib/python3.7/site-packages/ALLCools/dmr/fimo.py:60: FutureWarning: to_msgpack is deprecated and will be removed in a future version.\n",
      "It is recommended to use pyarrow for on-the-wire transmission of pandas objects.\n",
      "  final_df.to_msgpack(output_path, compress='zlib')\n"
     ]
    },
    {
     "name": "stdout",
     "output_type": "stream",
     "text": [
      "/home/hanliu/project/mouse_rostral_brain/DMR/SubType/raw/SubType-chr13/MotifScan.h5adtemp/MA1570.1.meme, N motif total=31699\n"
     ]
    },
    {
     "name": "stderr",
     "output_type": "stream",
     "text": [
      "/home/hanliu/miniconda3/envs/clustering/lib/python3.7/site-packages/ALLCools/dmr/fimo.py:60: FutureWarning: to_msgpack is deprecated and will be removed in a future version.\n",
      "It is recommended to use pyarrow for on-the-wire transmission of pandas objects.\n",
      "  final_df.to_msgpack(output_path, compress='zlib')\n"
     ]
    },
    {
     "name": "stdout",
     "output_type": "stream",
     "text": [
      "/home/hanliu/project/mouse_rostral_brain/DMR/SubType/raw/SubType-chr13/MotifScan.h5adtemp/MA0831.2.meme, N motif total=10706\n"
     ]
    },
    {
     "name": "stderr",
     "output_type": "stream",
     "text": [
      "/home/hanliu/miniconda3/envs/clustering/lib/python3.7/site-packages/ALLCools/dmr/fimo.py:60: FutureWarning: to_msgpack is deprecated and will be removed in a future version.\n",
      "It is recommended to use pyarrow for on-the-wire transmission of pandas objects.\n",
      "  final_df.to_msgpack(output_path, compress='zlib')\n"
     ]
    },
    {
     "name": "stdout",
     "output_type": "stream",
     "text": [
      "/home/hanliu/project/mouse_rostral_brain/DMR/SubType/raw/SubType-chr13/MotifScan.h5adtemp/MA0872.1.meme, N motif total=26722\n"
     ]
    },
    {
     "name": "stderr",
     "output_type": "stream",
     "text": [
      "/home/hanliu/miniconda3/envs/clustering/lib/python3.7/site-packages/ALLCools/dmr/fimo.py:60: FutureWarning: to_msgpack is deprecated and will be removed in a future version.\n",
      "It is recommended to use pyarrow for on-the-wire transmission of pandas objects.\n",
      "  final_df.to_msgpack(output_path, compress='zlib')\n"
     ]
    },
    {
     "name": "stdout",
     "output_type": "stream",
     "text": [
      "/home/hanliu/project/mouse_rostral_brain/DMR/SubType/raw/SubType-chr13/MotifScan.h5adtemp/MA0691.1.meme, N motif total=46472\n"
     ]
    },
    {
     "name": "stderr",
     "output_type": "stream",
     "text": [
      "/home/hanliu/miniconda3/envs/clustering/lib/python3.7/site-packages/ALLCools/dmr/fimo.py:60: FutureWarning: to_msgpack is deprecated and will be removed in a future version.\n",
      "It is recommended to use pyarrow for on-the-wire transmission of pandas objects.\n",
      "  final_df.to_msgpack(output_path, compress='zlib')\n"
     ]
    },
    {
     "name": "stdout",
     "output_type": "stream",
     "text": [
      "/home/hanliu/project/mouse_rostral_brain/DMR/SubType/raw/SubType-chr13/MotifScan.h5adtemp/MA0815.1.meme, N motif total=27001\n"
     ]
    },
    {
     "name": "stderr",
     "output_type": "stream",
     "text": [
      "/home/hanliu/miniconda3/envs/clustering/lib/python3.7/site-packages/ALLCools/dmr/fimo.py:60: FutureWarning: to_msgpack is deprecated and will be removed in a future version.\n",
      "It is recommended to use pyarrow for on-the-wire transmission of pandas objects.\n",
      "  final_df.to_msgpack(output_path, compress='zlib')\n"
     ]
    },
    {
     "name": "stdout",
     "output_type": "stream",
     "text": [
      "/home/hanliu/project/mouse_rostral_brain/DMR/SubType/raw/SubType-chr13/MotifScan.h5adtemp/MA1569.1.meme, N motif total=25784\n"
     ]
    },
    {
     "name": "stderr",
     "output_type": "stream",
     "text": [
      "/home/hanliu/miniconda3/envs/clustering/lib/python3.7/site-packages/ALLCools/dmr/fimo.py:60: FutureWarning: to_msgpack is deprecated and will be removed in a future version.\n",
      "It is recommended to use pyarrow for on-the-wire transmission of pandas objects.\n",
      "  final_df.to_msgpack(output_path, compress='zlib')\n"
     ]
    },
    {
     "name": "stdout",
     "output_type": "stream",
     "text": [
      "/home/hanliu/project/mouse_rostral_brain/DMR/SubType/raw/SubType-chr13/MotifScan.h5adtemp/MA0813.1.meme, N motif total=27999\n"
     ]
    },
    {
     "name": "stderr",
     "output_type": "stream",
     "text": [
      "/home/hanliu/miniconda3/envs/clustering/lib/python3.7/site-packages/ALLCools/dmr/fimo.py:60: FutureWarning: to_msgpack is deprecated and will be removed in a future version.\n",
      "It is recommended to use pyarrow for on-the-wire transmission of pandas objects.\n",
      "  final_df.to_msgpack(output_path, compress='zlib')\n"
     ]
    },
    {
     "name": "stdout",
     "output_type": "stream",
     "text": [
      "/home/hanliu/project/mouse_rostral_brain/DMR/SubType/raw/SubType-chr13/MotifScan.h5adtemp/MA0811.1.meme, N motif total=28263\n"
     ]
    },
    {
     "name": "stderr",
     "output_type": "stream",
     "text": [
      "/home/hanliu/miniconda3/envs/clustering/lib/python3.7/site-packages/ALLCools/dmr/fimo.py:60: FutureWarning: to_msgpack is deprecated and will be removed in a future version.\n",
      "It is recommended to use pyarrow for on-the-wire transmission of pandas objects.\n",
      "  final_df.to_msgpack(output_path, compress='zlib')\n"
     ]
    },
    {
     "name": "stdout",
     "output_type": "stream",
     "text": [
      "/home/hanliu/project/mouse_rostral_brain/DMR/SubType/raw/SubType-chr13/MotifScan.h5adtemp/MA0692.1.meme, N motif total=21948\n"
     ]
    },
    {
     "name": "stderr",
     "output_type": "stream",
     "text": [
      "/home/hanliu/miniconda3/envs/clustering/lib/python3.7/site-packages/ALLCools/dmr/fimo.py:60: FutureWarning: to_msgpack is deprecated and will be removed in a future version.\n",
      "It is recommended to use pyarrow for on-the-wire transmission of pandas objects.\n",
      "  final_df.to_msgpack(output_path, compress='zlib')\n"
     ]
    },
    {
     "name": "stdout",
     "output_type": "stream",
     "text": [
      "/home/hanliu/project/mouse_rostral_brain/DMR/SubType/raw/SubType-chr13/MotifScan.h5adtemp/MA0814.2.meme, N motif total=34167\n"
     ]
    },
    {
     "name": "stderr",
     "output_type": "stream",
     "text": [
      "/home/hanliu/miniconda3/envs/clustering/lib/python3.7/site-packages/ALLCools/dmr/fimo.py:60: FutureWarning: to_msgpack is deprecated and will be removed in a future version.\n",
      "It is recommended to use pyarrow for on-the-wire transmission of pandas objects.\n",
      "  final_df.to_msgpack(output_path, compress='zlib')\n"
     ]
    },
    {
     "name": "stdout",
     "output_type": "stream",
     "text": [
      "/home/hanliu/project/mouse_rostral_brain/DMR/SubType/raw/SubType-chr13/MotifScan.h5adtemp/MA0145.3.meme, N motif total=10766\n"
     ]
    },
    {
     "name": "stderr",
     "output_type": "stream",
     "text": [
      "/home/hanliu/miniconda3/envs/clustering/lib/python3.7/site-packages/ALLCools/dmr/fimo.py:60: FutureWarning: to_msgpack is deprecated and will be removed in a future version.\n",
      "It is recommended to use pyarrow for on-the-wire transmission of pandas objects.\n",
      "  final_df.to_msgpack(output_path, compress='zlib')\n"
     ]
    },
    {
     "name": "stdout",
     "output_type": "stream",
     "text": [
      "/home/hanliu/project/mouse_rostral_brain/DMR/SubType/raw/SubType-chr13/MotifScan.h5adtemp/MA1122.1.meme, N motif total=9481\n"
     ]
    },
    {
     "name": "stderr",
     "output_type": "stream",
     "text": [
      "/home/hanliu/miniconda3/envs/clustering/lib/python3.7/site-packages/ALLCools/dmr/fimo.py:60: FutureWarning: to_msgpack is deprecated and will be removed in a future version.\n",
      "It is recommended to use pyarrow for on-the-wire transmission of pandas objects.\n",
      "  final_df.to_msgpack(output_path, compress='zlib')\n"
     ]
    },
    {
     "name": "stdout",
     "output_type": "stream",
     "text": [
      "/home/hanliu/project/mouse_rostral_brain/DMR/SubType/raw/SubType-chr13/MotifScan.h5adtemp/MA0597.1.meme, N motif total=28320\n"
     ]
    },
    {
     "name": "stderr",
     "output_type": "stream",
     "text": [
      "/home/hanliu/miniconda3/envs/clustering/lib/python3.7/site-packages/ALLCools/dmr/fimo.py:60: FutureWarning: to_msgpack is deprecated and will be removed in a future version.\n",
      "It is recommended to use pyarrow for on-the-wire transmission of pandas objects.\n",
      "  final_df.to_msgpack(output_path, compress='zlib')\n"
     ]
    },
    {
     "name": "stdout",
     "output_type": "stream",
     "text": [
      "/home/hanliu/project/mouse_rostral_brain/DMR/SubType/raw/SubType-chr13/MotifScan.h5adtemp/MA0796.1.meme, N motif total=4831\n"
     ]
    },
    {
     "name": "stderr",
     "output_type": "stream",
     "text": [
      "/home/hanliu/miniconda3/envs/clustering/lib/python3.7/site-packages/ALLCools/dmr/fimo.py:60: FutureWarning: to_msgpack is deprecated and will be removed in a future version.\n",
      "It is recommended to use pyarrow for on-the-wire transmission of pandas objects.\n",
      "  final_df.to_msgpack(output_path, compress='zlib')\n"
     ]
    },
    {
     "name": "stdout",
     "output_type": "stream",
     "text": [
      "/home/hanliu/project/mouse_rostral_brain/DMR/SubType/raw/SubType-chr13/MotifScan.h5adtemp/MA0871.2.meme, N motif total=15565\n"
     ]
    },
    {
     "name": "stderr",
     "output_type": "stream",
     "text": [
      "/home/hanliu/miniconda3/envs/clustering/lib/python3.7/site-packages/ALLCools/dmr/fimo.py:60: FutureWarning: to_msgpack is deprecated and will be removed in a future version.\n",
      "It is recommended to use pyarrow for on-the-wire transmission of pandas objects.\n",
      "  final_df.to_msgpack(output_path, compress='zlib')\n"
     ]
    },
    {
     "name": "stdout",
     "output_type": "stream",
     "text": [
      "/home/hanliu/project/mouse_rostral_brain/DMR/SubType/raw/SubType-chr13/MotifScan.h5adtemp/MA1571.1.meme, N motif total=30612\n"
     ]
    },
    {
     "name": "stderr",
     "output_type": "stream",
     "text": [
      "/home/hanliu/miniconda3/envs/clustering/lib/python3.7/site-packages/ALLCools/dmr/fimo.py:60: FutureWarning: to_msgpack is deprecated and will be removed in a future version.\n",
      "It is recommended to use pyarrow for on-the-wire transmission of pandas objects.\n",
      "  final_df.to_msgpack(output_path, compress='zlib')\n"
     ]
    },
    {
     "name": "stdout",
     "output_type": "stream",
     "text": [
      "/home/hanliu/project/mouse_rostral_brain/DMR/SubType/raw/SubType-chr13/MotifScan.h5adtemp/MA0797.1.meme, N motif total=34261\n"
     ]
    },
    {
     "name": "stderr",
     "output_type": "stream",
     "text": [
      "/home/hanliu/miniconda3/envs/clustering/lib/python3.7/site-packages/ALLCools/dmr/fimo.py:60: FutureWarning: to_msgpack is deprecated and will be removed in a future version.\n",
      "It is recommended to use pyarrow for on-the-wire transmission of pandas objects.\n",
      "  final_df.to_msgpack(output_path, compress='zlib')\n"
     ]
    },
    {
     "name": "stdout",
     "output_type": "stream",
     "text": [
      "/home/hanliu/project/mouse_rostral_brain/DMR/SubType/raw/SubType-chr13/MotifScan.h5adtemp/MA1574.1.meme, N motif total=29928\n"
     ]
    },
    {
     "name": "stderr",
     "output_type": "stream",
     "text": [
      "/home/hanliu/miniconda3/envs/clustering/lib/python3.7/site-packages/ALLCools/dmr/fimo.py:60: FutureWarning: to_msgpack is deprecated and will be removed in a future version.\n",
      "It is recommended to use pyarrow for on-the-wire transmission of pandas objects.\n",
      "  final_df.to_msgpack(output_path, compress='zlib')\n"
     ]
    },
    {
     "name": "stdout",
     "output_type": "stream",
     "text": [
      "/home/hanliu/project/mouse_rostral_brain/DMR/SubType/raw/SubType-chr13/MotifScan.h5adtemp/MA1577.1.meme, N motif total=10905\n"
     ]
    },
    {
     "name": "stderr",
     "output_type": "stream",
     "text": [
      "/home/hanliu/miniconda3/envs/clustering/lib/python3.7/site-packages/ALLCools/dmr/fimo.py:60: FutureWarning: to_msgpack is deprecated and will be removed in a future version.\n",
      "It is recommended to use pyarrow for on-the-wire transmission of pandas objects.\n",
      "  final_df.to_msgpack(output_path, compress='zlib')\n"
     ]
    },
    {
     "name": "stdout",
     "output_type": "stream",
     "text": [
      "/home/hanliu/project/mouse_rostral_brain/DMR/SubType/raw/SubType-chr13/MotifScan.h5adtemp/MA1573.1.meme, N motif total=16798\n"
     ]
    },
    {
     "name": "stderr",
     "output_type": "stream",
     "text": [
      "/home/hanliu/miniconda3/envs/clustering/lib/python3.7/site-packages/ALLCools/dmr/fimo.py:60: FutureWarning: to_msgpack is deprecated and will be removed in a future version.\n",
      "It is recommended to use pyarrow for on-the-wire transmission of pandas objects.\n",
      "  final_df.to_msgpack(output_path, compress='zlib')\n"
     ]
    },
    {
     "name": "stdout",
     "output_type": "stream",
     "text": [
      "/home/hanliu/project/mouse_rostral_brain/DMR/SubType/raw/SubType-chr13/MotifScan.h5adtemp/MA1575.1.meme, N motif total=24996\n"
     ]
    },
    {
     "name": "stderr",
     "output_type": "stream",
     "text": [
      "/home/hanliu/miniconda3/envs/clustering/lib/python3.7/site-packages/ALLCools/dmr/fimo.py:60: FutureWarning: to_msgpack is deprecated and will be removed in a future version.\n",
      "It is recommended to use pyarrow for on-the-wire transmission of pandas objects.\n",
      "  final_df.to_msgpack(output_path, compress='zlib')\n"
     ]
    },
    {
     "name": "stdout",
     "output_type": "stream",
     "text": [
      "/home/hanliu/project/mouse_rostral_brain/DMR/SubType/raw/SubType-chr13/MotifScan.h5adtemp/MA0721.1.meme, N motif total=16279\n"
     ]
    },
    {
     "name": "stderr",
     "output_type": "stream",
     "text": [
      "/home/hanliu/miniconda3/envs/clustering/lib/python3.7/site-packages/ALLCools/dmr/fimo.py:60: FutureWarning: to_msgpack is deprecated and will be removed in a future version.\n",
      "It is recommended to use pyarrow for on-the-wire transmission of pandas objects.\n",
      "  final_df.to_msgpack(output_path, compress='zlib')\n"
     ]
    },
    {
     "name": "stdout",
     "output_type": "stream",
     "text": [
      "/home/hanliu/project/mouse_rostral_brain/DMR/SubType/raw/SubType-chr13/MotifScan.h5adtemp/MA0633.1.meme, N motif total=32745\n"
     ]
    },
    {
     "name": "stderr",
     "output_type": "stream",
     "text": [
      "/home/hanliu/miniconda3/envs/clustering/lib/python3.7/site-packages/ALLCools/dmr/fimo.py:60: FutureWarning: to_msgpack is deprecated and will be removed in a future version.\n",
      "It is recommended to use pyarrow for on-the-wire transmission of pandas objects.\n",
      "  final_df.to_msgpack(output_path, compress='zlib')\n"
     ]
    },
    {
     "name": "stdout",
     "output_type": "stream",
     "text": [
      "/home/hanliu/project/mouse_rostral_brain/DMR/SubType/raw/SubType-chr13/MotifScan.h5adtemp/MA0722.1.meme, N motif total=14712\n"
     ]
    },
    {
     "name": "stderr",
     "output_type": "stream",
     "text": [
      "/home/hanliu/miniconda3/envs/clustering/lib/python3.7/site-packages/ALLCools/dmr/fimo.py:60: FutureWarning: to_msgpack is deprecated and will be removed in a future version.\n",
      "It is recommended to use pyarrow for on-the-wire transmission of pandas objects.\n",
      "  final_df.to_msgpack(output_path, compress='zlib')\n"
     ]
    },
    {
     "name": "stdout",
     "output_type": "stream",
     "text": [
      "/home/hanliu/project/mouse_rostral_brain/DMR/SubType/raw/SubType-chr13/MotifScan.h5adtemp/MA0723.1.meme, N motif total=13413\n"
     ]
    },
    {
     "name": "stderr",
     "output_type": "stream",
     "text": [
      "/home/hanliu/miniconda3/envs/clustering/lib/python3.7/site-packages/ALLCools/dmr/fimo.py:60: FutureWarning: to_msgpack is deprecated and will be removed in a future version.\n",
      "It is recommended to use pyarrow for on-the-wire transmission of pandas objects.\n",
      "  final_df.to_msgpack(output_path, compress='zlib')\n"
     ]
    },
    {
     "name": "stdout",
     "output_type": "stream",
     "text": [
      "/home/hanliu/project/mouse_rostral_brain/DMR/SubType/raw/SubType-chr13/MotifScan.h5adtemp/MA1576.1.meme, N motif total=17630\n"
     ]
    },
    {
     "name": "stderr",
     "output_type": "stream",
     "text": [
      "/home/hanliu/miniconda3/envs/clustering/lib/python3.7/site-packages/ALLCools/dmr/fimo.py:60: FutureWarning: to_msgpack is deprecated and will be removed in a future version.\n",
      "It is recommended to use pyarrow for on-the-wire transmission of pandas objects.\n",
      "  final_df.to_msgpack(output_path, compress='zlib')\n"
     ]
    },
    {
     "name": "stdout",
     "output_type": "stream",
     "text": [
      "/home/hanliu/project/mouse_rostral_brain/DMR/SubType/raw/SubType-chr13/MotifScan.h5adtemp/MA0693.2.meme, N motif total=29826\n"
     ]
    },
    {
     "name": "stderr",
     "output_type": "stream",
     "text": [
      "/home/hanliu/miniconda3/envs/clustering/lib/python3.7/site-packages/ALLCools/dmr/fimo.py:60: FutureWarning: to_msgpack is deprecated and will be removed in a future version.\n",
      "It is recommended to use pyarrow for on-the-wire transmission of pandas objects.\n",
      "  final_df.to_msgpack(output_path, compress='zlib')\n"
     ]
    },
    {
     "name": "stdout",
     "output_type": "stream",
     "text": [
      "/home/hanliu/project/mouse_rostral_brain/DMR/SubType/raw/SubType-chr13/MotifScan.h5adtemp/MA0525.2.meme, N motif total=1756\n"
     ]
    },
    {
     "name": "stderr",
     "output_type": "stream",
     "text": [
      "/home/hanliu/miniconda3/envs/clustering/lib/python3.7/site-packages/ALLCools/dmr/fimo.py:60: FutureWarning: to_msgpack is deprecated and will be removed in a future version.\n",
      "It is recommended to use pyarrow for on-the-wire transmission of pandas objects.\n",
      "  final_df.to_msgpack(output_path, compress='zlib')\n"
     ]
    },
    {
     "name": "stdout",
     "output_type": "stream",
     "text": [
      "/home/hanliu/project/mouse_rostral_brain/DMR/SubType/raw/SubType-chr13/MotifScan.h5adtemp/MA0093.3.meme, N motif total=29938\n"
     ]
    },
    {
     "name": "stderr",
     "output_type": "stream",
     "text": [
      "/home/hanliu/miniconda3/envs/clustering/lib/python3.7/site-packages/ALLCools/dmr/fimo.py:60: FutureWarning: to_msgpack is deprecated and will be removed in a future version.\n",
      "It is recommended to use pyarrow for on-the-wire transmission of pandas objects.\n",
      "  final_df.to_msgpack(output_path, compress='zlib')\n"
     ]
    },
    {
     "name": "stdout",
     "output_type": "stream",
     "text": [
      "/home/hanliu/project/mouse_rostral_brain/DMR/SubType/raw/SubType-chr13/MotifScan.h5adtemp/MA0106.3.meme, N motif total=21684\n"
     ]
    },
    {
     "name": "stderr",
     "output_type": "stream",
     "text": [
      "/home/hanliu/miniconda3/envs/clustering/lib/python3.7/site-packages/ALLCools/dmr/fimo.py:60: FutureWarning: to_msgpack is deprecated and will be removed in a future version.\n",
      "It is recommended to use pyarrow for on-the-wire transmission of pandas objects.\n",
      "  final_df.to_msgpack(output_path, compress='zlib')\n"
     ]
    },
    {
     "name": "stdout",
     "output_type": "stream",
     "text": [
      "/home/hanliu/project/mouse_rostral_brain/DMR/SubType/raw/SubType-chr13/MotifScan.h5adtemp/MA1123.2.meme, N motif total=45342\n"
     ]
    },
    {
     "name": "stderr",
     "output_type": "stream",
     "text": [
      "/home/hanliu/miniconda3/envs/clustering/lib/python3.7/site-packages/ALLCools/dmr/fimo.py:60: FutureWarning: to_msgpack is deprecated and will be removed in a future version.\n",
      "It is recommended to use pyarrow for on-the-wire transmission of pandas objects.\n",
      "  final_df.to_msgpack(output_path, compress='zlib')\n"
     ]
    },
    {
     "name": "stdout",
     "output_type": "stream",
     "text": [
      "/home/hanliu/project/mouse_rostral_brain/DMR/SubType/raw/SubType-chr13/MotifScan.h5adtemp/MA0725.1.meme, N motif total=16181\n"
     ]
    },
    {
     "name": "stderr",
     "output_type": "stream",
     "text": [
      "/home/hanliu/miniconda3/envs/clustering/lib/python3.7/site-packages/ALLCools/dmr/fimo.py:60: FutureWarning: to_msgpack is deprecated and will be removed in a future version.\n",
      "It is recommended to use pyarrow for on-the-wire transmission of pandas objects.\n",
      "  final_df.to_msgpack(output_path, compress='zlib')\n"
     ]
    },
    {
     "name": "stdout",
     "output_type": "stream",
     "text": [
      "/home/hanliu/project/mouse_rostral_brain/DMR/SubType/raw/SubType-chr13/MotifScan.h5adtemp/MA0726.1.meme, N motif total=16181\n"
     ]
    },
    {
     "name": "stderr",
     "output_type": "stream",
     "text": [
      "/home/hanliu/miniconda3/envs/clustering/lib/python3.7/site-packages/ALLCools/dmr/fimo.py:60: FutureWarning: to_msgpack is deprecated and will be removed in a future version.\n",
      "It is recommended to use pyarrow for on-the-wire transmission of pandas objects.\n",
      "  final_df.to_msgpack(output_path, compress='zlib')\n"
     ]
    },
    {
     "name": "stdout",
     "output_type": "stream",
     "text": [
      "/home/hanliu/project/mouse_rostral_brain/DMR/SubType/raw/SubType-chr13/MotifScan.h5adtemp/MA0526.3.meme, N motif total=29309\n"
     ]
    },
    {
     "name": "stderr",
     "output_type": "stream",
     "text": [
      "/home/hanliu/miniconda3/envs/clustering/lib/python3.7/site-packages/ALLCools/dmr/fimo.py:60: FutureWarning: to_msgpack is deprecated and will be removed in a future version.\n",
      "It is recommended to use pyarrow for on-the-wire transmission of pandas objects.\n",
      "  final_df.to_msgpack(output_path, compress='zlib')\n"
     ]
    },
    {
     "name": "stdout",
     "output_type": "stream",
     "text": [
      "/home/hanliu/project/mouse_rostral_brain/DMR/SubType/raw/SubType-chr13/MotifScan.h5adtemp/MA0861.1.meme, N motif total=22420\n"
     ]
    },
    {
     "name": "stderr",
     "output_type": "stream",
     "text": [
      "/home/hanliu/miniconda3/envs/clustering/lib/python3.7/site-packages/ALLCools/dmr/fimo.py:60: FutureWarning: to_msgpack is deprecated and will be removed in a future version.\n",
      "It is recommended to use pyarrow for on-the-wire transmission of pandas objects.\n",
      "  final_df.to_msgpack(output_path, compress='zlib')\n"
     ]
    },
    {
     "name": "stdout",
     "output_type": "stream",
     "text": [
      "/home/hanliu/project/mouse_rostral_brain/DMR/SubType/raw/SubType-chr13/MotifScan.h5adtemp/MA1578.1.meme, N motif total=61914\n"
     ]
    },
    {
     "name": "stderr",
     "output_type": "stream",
     "text": [
      "/home/hanliu/miniconda3/envs/clustering/lib/python3.7/site-packages/ALLCools/dmr/fimo.py:60: FutureWarning: to_msgpack is deprecated and will be removed in a future version.\n",
      "It is recommended to use pyarrow for on-the-wire transmission of pandas objects.\n",
      "  final_df.to_msgpack(output_path, compress='zlib')\n"
     ]
    },
    {
     "name": "stdout",
     "output_type": "stream",
     "text": [
      "/home/hanliu/project/mouse_rostral_brain/DMR/SubType/raw/SubType-chr13/MotifScan.h5adtemp/MA0844.1.meme, N motif total=6299\n"
     ]
    },
    {
     "name": "stderr",
     "output_type": "stream",
     "text": [
      "/home/hanliu/miniconda3/envs/clustering/lib/python3.7/site-packages/ALLCools/dmr/fimo.py:60: FutureWarning: to_msgpack is deprecated and will be removed in a future version.\n",
      "It is recommended to use pyarrow for on-the-wire transmission of pandas objects.\n",
      "  final_df.to_msgpack(output_path, compress='zlib')\n"
     ]
    },
    {
     "name": "stdout",
     "output_type": "stream",
     "text": [
      "/home/hanliu/project/mouse_rostral_brain/DMR/SubType/raw/SubType-chr13/MotifScan.h5adtemp/MA0748.2.meme, N motif total=7561\n"
     ]
    },
    {
     "name": "stderr",
     "output_type": "stream",
     "text": [
      "/home/hanliu/miniconda3/envs/clustering/lib/python3.7/site-packages/ALLCools/dmr/fimo.py:60: FutureWarning: to_msgpack is deprecated and will be removed in a future version.\n",
      "It is recommended to use pyarrow for on-the-wire transmission of pandas objects.\n",
      "  final_df.to_msgpack(output_path, compress='zlib')\n"
     ]
    },
    {
     "name": "stdout",
     "output_type": "stream",
     "text": [
      "/home/hanliu/project/mouse_rostral_brain/DMR/SubType/raw/SubType-chr13/MotifScan.h5adtemp/MA1627.1.meme, N motif total=97792\n"
     ]
    },
    {
     "name": "stderr",
     "output_type": "stream",
     "text": [
      "/home/hanliu/miniconda3/envs/clustering/lib/python3.7/site-packages/ALLCools/dmr/fimo.py:60: FutureWarning: to_msgpack is deprecated and will be removed in a future version.\n",
      "It is recommended to use pyarrow for on-the-wire transmission of pandas objects.\n",
      "  final_df.to_msgpack(output_path, compress='zlib')\n"
     ]
    },
    {
     "name": "stdout",
     "output_type": "stream",
     "text": [
      "/home/hanliu/project/mouse_rostral_brain/DMR/SubType/raw/SubType-chr13/MotifScan.h5adtemp/MA1580.1.meme, N motif total=20486\n"
     ]
    },
    {
     "name": "stderr",
     "output_type": "stream",
     "text": [
      "/home/hanliu/miniconda3/envs/clustering/lib/python3.7/site-packages/ALLCools/dmr/fimo.py:60: FutureWarning: to_msgpack is deprecated and will be removed in a future version.\n",
      "It is recommended to use pyarrow for on-the-wire transmission of pandas objects.\n",
      "  final_df.to_msgpack(output_path, compress='zlib')\n"
     ]
    },
    {
     "name": "stdout",
     "output_type": "stream",
     "text": [
      "/home/hanliu/project/mouse_rostral_brain/DMR/SubType/raw/SubType-chr13/MotifScan.h5adtemp/MA0095.2.meme, N motif total=36893\n"
     ]
    },
    {
     "name": "stderr",
     "output_type": "stream",
     "text": [
      "/home/hanliu/miniconda3/envs/clustering/lib/python3.7/site-packages/ALLCools/dmr/fimo.py:60: FutureWarning: to_msgpack is deprecated and will be removed in a future version.\n",
      "It is recommended to use pyarrow for on-the-wire transmission of pandas objects.\n",
      "  final_df.to_msgpack(output_path, compress='zlib')\n"
     ]
    },
    {
     "name": "stdout",
     "output_type": "stream",
     "text": [
      "/home/hanliu/project/mouse_rostral_brain/DMR/SubType/raw/SubType-chr13/MotifScan.h5adtemp/MA1649.1.meme, N motif total=36394\n"
     ]
    },
    {
     "name": "stderr",
     "output_type": "stream",
     "text": [
      "/home/hanliu/miniconda3/envs/clustering/lib/python3.7/site-packages/ALLCools/dmr/fimo.py:60: FutureWarning: to_msgpack is deprecated and will be removed in a future version.\n",
      "It is recommended to use pyarrow for on-the-wire transmission of pandas objects.\n",
      "  final_df.to_msgpack(output_path, compress='zlib')\n"
     ]
    },
    {
     "name": "stdout",
     "output_type": "stream",
     "text": [
      "/home/hanliu/project/mouse_rostral_brain/DMR/SubType/raw/SubType-chr13/MotifScan.h5adtemp/MA1650.1.meme, N motif total=9467\n"
     ]
    },
    {
     "name": "stderr",
     "output_type": "stream",
     "text": [
      "/home/hanliu/miniconda3/envs/clustering/lib/python3.7/site-packages/ALLCools/dmr/fimo.py:60: FutureWarning: to_msgpack is deprecated and will be removed in a future version.\n",
      "It is recommended to use pyarrow for on-the-wire transmission of pandas objects.\n",
      "  final_df.to_msgpack(output_path, compress='zlib')\n"
     ]
    },
    {
     "name": "stdout",
     "output_type": "stream",
     "text": [
      "/home/hanliu/project/mouse_rostral_brain/DMR/SubType/raw/SubType-chr13/MotifScan.h5adtemp/MA0527.1.meme, N motif total=3428\n"
     ]
    },
    {
     "name": "stderr",
     "output_type": "stream",
     "text": [
      "/home/hanliu/miniconda3/envs/clustering/lib/python3.7/site-packages/ALLCools/dmr/fimo.py:60: FutureWarning: to_msgpack is deprecated and will be removed in a future version.\n",
      "It is recommended to use pyarrow for on-the-wire transmission of pandas objects.\n",
      "  final_df.to_msgpack(output_path, compress='zlib')\n"
     ]
    },
    {
     "name": "stdout",
     "output_type": "stream",
     "text": [
      "/home/hanliu/project/mouse_rostral_brain/DMR/SubType/raw/SubType-chr13/MotifScan.h5adtemp/MA1581.1.meme, N motif total=34484\n"
     ]
    },
    {
     "name": "stderr",
     "output_type": "stream",
     "text": [
      "/home/hanliu/miniconda3/envs/clustering/lib/python3.7/site-packages/ALLCools/dmr/fimo.py:60: FutureWarning: to_msgpack is deprecated and will be removed in a future version.\n",
      "It is recommended to use pyarrow for on-the-wire transmission of pandas objects.\n",
      "  final_df.to_msgpack(output_path, compress='zlib')\n"
     ]
    },
    {
     "name": "stdout",
     "output_type": "stream",
     "text": [
      "/home/hanliu/project/mouse_rostral_brain/DMR/SubType/raw/SubType-chr13/MotifScan.h5adtemp/MA0103.3.meme, N motif total=42367\n"
     ]
    },
    {
     "name": "stderr",
     "output_type": "stream",
     "text": [
      "/home/hanliu/miniconda3/envs/clustering/lib/python3.7/site-packages/ALLCools/dmr/fimo.py:60: FutureWarning: to_msgpack is deprecated and will be removed in a future version.\n",
      "It is recommended to use pyarrow for on-the-wire transmission of pandas objects.\n",
      "  final_df.to_msgpack(output_path, compress='zlib')\n"
     ]
    },
    {
     "name": "stdout",
     "output_type": "stream",
     "text": [
      "/home/hanliu/project/mouse_rostral_brain/DMR/SubType/raw/SubType-chr13/MotifScan.h5adtemp/MA0750.2.meme, N motif total=24170\n"
     ]
    },
    {
     "name": "stderr",
     "output_type": "stream",
     "text": [
      "/home/hanliu/miniconda3/envs/clustering/lib/python3.7/site-packages/ALLCools/dmr/fimo.py:60: FutureWarning: to_msgpack is deprecated and will be removed in a future version.\n",
      "It is recommended to use pyarrow for on-the-wire transmission of pandas objects.\n",
      "  final_df.to_msgpack(output_path, compress='zlib')\n"
     ]
    },
    {
     "name": "stdout",
     "output_type": "stream",
     "text": [
      "/home/hanliu/project/mouse_rostral_brain/DMR/SubType/raw/SubType-chr13/MotifScan.h5adtemp/MA0695.1.meme, N motif total=21737\n"
     ]
    },
    {
     "name": "stderr",
     "output_type": "stream",
     "text": [
      "/home/hanliu/miniconda3/envs/clustering/lib/python3.7/site-packages/ALLCools/dmr/fimo.py:60: FutureWarning: to_msgpack is deprecated and will be removed in a future version.\n",
      "It is recommended to use pyarrow for on-the-wire transmission of pandas objects.\n",
      "  final_df.to_msgpack(output_path, compress='zlib')\n"
     ]
    },
    {
     "name": "stdout",
     "output_type": "stream",
     "text": [
      "/home/hanliu/project/mouse_rostral_brain/DMR/SubType/raw/SubType-chr13/MotifScan.h5adtemp/MA0694.1.meme, N motif total=19138\n"
     ]
    },
    {
     "name": "stderr",
     "output_type": "stream",
     "text": [
      "/home/hanliu/miniconda3/envs/clustering/lib/python3.7/site-packages/ALLCools/dmr/fimo.py:60: FutureWarning: to_msgpack is deprecated and will be removed in a future version.\n",
      "It is recommended to use pyarrow for on-the-wire transmission of pandas objects.\n",
      "  final_df.to_msgpack(output_path, compress='zlib')\n"
     ]
    },
    {
     "name": "stdout",
     "output_type": "stream",
     "text": [
      "/home/hanliu/project/mouse_rostral_brain/DMR/SubType/raw/SubType-chr13/MotifScan.h5adtemp/MA0698.1.meme, N motif total=46869\n"
     ]
    },
    {
     "name": "stderr",
     "output_type": "stream",
     "text": [
      "/home/hanliu/miniconda3/envs/clustering/lib/python3.7/site-packages/ALLCools/dmr/fimo.py:60: FutureWarning: to_msgpack is deprecated and will be removed in a future version.\n",
      "It is recommended to use pyarrow for on-the-wire transmission of pandas objects.\n",
      "  final_df.to_msgpack(output_path, compress='zlib')\n"
     ]
    },
    {
     "name": "stdout",
     "output_type": "stream",
     "text": [
      "/home/hanliu/project/mouse_rostral_brain/DMR/SubType/raw/SubType-chr13/MotifScan.h5adtemp/MA1579.1.meme, N motif total=49043\n"
     ]
    },
    {
     "name": "stderr",
     "output_type": "stream",
     "text": [
      "/home/hanliu/miniconda3/envs/clustering/lib/python3.7/site-packages/ALLCools/dmr/fimo.py:60: FutureWarning: to_msgpack is deprecated and will be removed in a future version.\n",
      "It is recommended to use pyarrow for on-the-wire transmission of pandas objects.\n",
      "  final_df.to_msgpack(output_path, compress='zlib')\n"
     ]
    },
    {
     "name": "stdout",
     "output_type": "stream",
     "text": [
      "/home/hanliu/project/mouse_rostral_brain/DMR/SubType/raw/SubType-chr13/MotifScan.h5adtemp/MA1583.1.meme, N motif total=4529\n"
     ]
    },
    {
     "name": "stderr",
     "output_type": "stream",
     "text": [
      "/home/hanliu/miniconda3/envs/clustering/lib/python3.7/site-packages/ALLCools/dmr/fimo.py:60: FutureWarning: to_msgpack is deprecated and will be removed in a future version.\n",
      "It is recommended to use pyarrow for on-the-wire transmission of pandas objects.\n",
      "  final_df.to_msgpack(output_path, compress='zlib')\n"
     ]
    },
    {
     "name": "stdout",
     "output_type": "stream",
     "text": [
      "/home/hanliu/project/mouse_rostral_brain/DMR/SubType/raw/SubType-chr13/MotifScan.h5adtemp/MA1628.1.meme, N motif total=35991\n"
     ]
    },
    {
     "name": "stderr",
     "output_type": "stream",
     "text": [
      "/home/hanliu/miniconda3/envs/clustering/lib/python3.7/site-packages/ALLCools/dmr/fimo.py:60: FutureWarning: to_msgpack is deprecated and will be removed in a future version.\n",
      "It is recommended to use pyarrow for on-the-wire transmission of pandas objects.\n",
      "  final_df.to_msgpack(output_path, compress='zlib')\n"
     ]
    },
    {
     "name": "stdout",
     "output_type": "stream",
     "text": [
      "/home/hanliu/project/mouse_rostral_brain/DMR/SubType/raw/SubType-chr13/MotifScan.h5adtemp/MA0146.2.meme, N motif total=32335\n"
     ]
    },
    {
     "name": "stderr",
     "output_type": "stream",
     "text": [
      "/home/hanliu/miniconda3/envs/clustering/lib/python3.7/site-packages/ALLCools/dmr/fimo.py:60: FutureWarning: to_msgpack is deprecated and will be removed in a future version.\n",
      "It is recommended to use pyarrow for on-the-wire transmission of pandas objects.\n",
      "  final_df.to_msgpack(output_path, compress='zlib')\n"
     ]
    },
    {
     "name": "stdout",
     "output_type": "stream",
     "text": [
      "/home/hanliu/project/mouse_rostral_brain/DMR/SubType/raw/SubType-chr13/MotifScan.h5adtemp/MA0696.1.meme, N motif total=17917\n"
     ]
    },
    {
     "name": "stderr",
     "output_type": "stream",
     "text": [
      "/home/hanliu/miniconda3/envs/clustering/lib/python3.7/site-packages/ALLCools/dmr/fimo.py:60: FutureWarning: to_msgpack is deprecated and will be removed in a future version.\n",
      "It is recommended to use pyarrow for on-the-wire transmission of pandas objects.\n",
      "  final_df.to_msgpack(output_path, compress='zlib')\n"
     ]
    },
    {
     "name": "stdout",
     "output_type": "stream",
     "text": [
      "/home/hanliu/project/mouse_rostral_brain/DMR/SubType/raw/SubType-chr13/MotifScan.h5adtemp/MA1629.1.meme, N motif total=56256\n"
     ]
    },
    {
     "name": "stderr",
     "output_type": "stream",
     "text": [
      "/home/hanliu/miniconda3/envs/clustering/lib/python3.7/site-packages/ALLCools/dmr/fimo.py:60: FutureWarning: to_msgpack is deprecated and will be removed in a future version.\n",
      "It is recommended to use pyarrow for on-the-wire transmission of pandas objects.\n",
      "  final_df.to_msgpack(output_path, compress='zlib')\n"
     ]
    },
    {
     "name": "stdout",
     "output_type": "stream",
     "text": [
      "/home/hanliu/project/mouse_rostral_brain/DMR/SubType/raw/SubType-chr13/MotifScan.h5adtemp/MA1651.1.meme, N motif total=34173\n"
     ]
    },
    {
     "name": "stderr",
     "output_type": "stream",
     "text": [
      "/home/hanliu/miniconda3/envs/clustering/lib/python3.7/site-packages/ALLCools/dmr/fimo.py:60: FutureWarning: to_msgpack is deprecated and will be removed in a future version.\n",
      "It is recommended to use pyarrow for on-the-wire transmission of pandas objects.\n",
      "  final_df.to_msgpack(output_path, compress='zlib')\n"
     ]
    },
    {
     "name": "stdout",
     "output_type": "stream",
     "text": [
      "/home/hanliu/project/mouse_rostral_brain/DMR/SubType/raw/SubType-chr13/MotifScan.h5adtemp/MA0697.1.meme, N motif total=23946\n"
     ]
    },
    {
     "name": "stderr",
     "output_type": "stream",
     "text": [
      "/home/hanliu/miniconda3/envs/clustering/lib/python3.7/site-packages/ALLCools/dmr/fimo.py:60: FutureWarning: to_msgpack is deprecated and will be removed in a future version.\n",
      "It is recommended to use pyarrow for on-the-wire transmission of pandas objects.\n",
      "  final_df.to_msgpack(output_path, compress='zlib')\n"
     ]
    },
    {
     "name": "stdout",
     "output_type": "stream",
     "text": [
      "/home/hanliu/project/mouse_rostral_brain/DMR/SubType/raw/SubType-chr13/MotifScan.h5adtemp/MA1585.1.meme, N motif total=16500\n"
     ]
    },
    {
     "name": "stderr",
     "output_type": "stream",
     "text": [
      "/home/hanliu/miniconda3/envs/clustering/lib/python3.7/site-packages/ALLCools/dmr/fimo.py:60: FutureWarning: to_msgpack is deprecated and will be removed in a future version.\n",
      "It is recommended to use pyarrow for on-the-wire transmission of pandas objects.\n",
      "  final_df.to_msgpack(output_path, compress='zlib')\n"
     ]
    },
    {
     "name": "stdout",
     "output_type": "stream",
     "text": [
      "/home/hanliu/project/mouse_rostral_brain/DMR/SubType/raw/SubType-chr13/MotifScan.h5adtemp/MA0751.1.meme, N motif total=21347\n"
     ]
    },
    {
     "name": "stderr",
     "output_type": "stream",
     "text": [
      "/home/hanliu/miniconda3/envs/clustering/lib/python3.7/site-packages/ALLCools/dmr/fimo.py:60: FutureWarning: to_msgpack is deprecated and will be removed in a future version.\n",
      "It is recommended to use pyarrow for on-the-wire transmission of pandas objects.\n",
      "  final_df.to_msgpack(output_path, compress='zlib')\n"
     ]
    },
    {
     "name": "stdout",
     "output_type": "stream",
     "text": [
      "Finish count 700 motifs.\n"
     ]
    },
    {
     "name": "stdout",
     "output_type": "stream",
     "text": [
      "/home/hanliu/project/mouse_rostral_brain/DMR/SubType/raw/SubType-chr13/MotifScan.h5adtemp/MA1584.1.meme, N motif total=13214\n"
     ]
    },
    {
     "name": "stderr",
     "output_type": "stream",
     "text": [
      "/home/hanliu/miniconda3/envs/clustering/lib/python3.7/site-packages/ALLCools/dmr/fimo.py:60: FutureWarning: to_msgpack is deprecated and will be removed in a future version.\n",
      "It is recommended to use pyarrow for on-the-wire transmission of pandas objects.\n",
      "  final_df.to_msgpack(output_path, compress='zlib')\n"
     ]
    },
    {
     "name": "stdout",
     "output_type": "stream",
     "text": [
      "Motif MA0130.1 ZNF354C do not have any match under current settings.\n"
     ]
    },
    {
     "name": "stdout",
     "output_type": "stream",
     "text": [
      "/home/hanliu/project/mouse_rostral_brain/DMR/SubType/raw/SubType-chr13/MotifScan.h5adtemp/MA1653.1.meme, N motif total=116173\n"
     ]
    },
    {
     "name": "stderr",
     "output_type": "stream",
     "text": [
      "/home/hanliu/miniconda3/envs/clustering/lib/python3.7/site-packages/ALLCools/dmr/fimo.py:60: FutureWarning: to_msgpack is deprecated and will be removed in a future version.\n",
      "It is recommended to use pyarrow for on-the-wire transmission of pandas objects.\n",
      "  final_df.to_msgpack(output_path, compress='zlib')\n"
     ]
    },
    {
     "name": "stdout",
     "output_type": "stream",
     "text": [
      "/home/hanliu/project/mouse_rostral_brain/DMR/SubType/raw/SubType-chr13/MotifScan.h5adtemp/MA1630.1.meme, N motif total=54057\n"
     ]
    },
    {
     "name": "stderr",
     "output_type": "stream",
     "text": [
      "/home/hanliu/miniconda3/envs/clustering/lib/python3.7/site-packages/ALLCools/dmr/fimo.py:60: FutureWarning: to_msgpack is deprecated and will be removed in a future version.\n",
      "It is recommended to use pyarrow for on-the-wire transmission of pandas objects.\n",
      "  final_df.to_msgpack(output_path, compress='zlib')\n"
     ]
    },
    {
     "name": "stdout",
     "output_type": "stream",
     "text": [
      "/home/hanliu/project/mouse_rostral_brain/DMR/SubType/raw/SubType-chr13/MotifScan.h5adtemp/MA1652.1.meme, N motif total=70313\n"
     ]
    },
    {
     "name": "stderr",
     "output_type": "stream",
     "text": [
      "/home/hanliu/miniconda3/envs/clustering/lib/python3.7/site-packages/ALLCools/dmr/fimo.py:60: FutureWarning: to_msgpack is deprecated and will be removed in a future version.\n",
      "It is recommended to use pyarrow for on-the-wire transmission of pandas objects.\n",
      "  final_df.to_msgpack(output_path, compress='zlib')\n"
     ]
    },
    {
     "name": "stdout",
     "output_type": "stream",
     "text": [
      "/home/hanliu/project/mouse_rostral_brain/DMR/SubType/raw/SubType-chr13/MotifScan.h5adtemp/MA0528.2.meme, N motif total=89712\n"
     ]
    },
    {
     "name": "stderr",
     "output_type": "stream",
     "text": [
      "/home/hanliu/miniconda3/envs/clustering/lib/python3.7/site-packages/ALLCools/dmr/fimo.py:60: FutureWarning: to_msgpack is deprecated and will be removed in a future version.\n",
      "It is recommended to use pyarrow for on-the-wire transmission of pandas objects.\n",
      "  final_df.to_msgpack(output_path, compress='zlib')\n"
     ]
    },
    {
     "name": "stdout",
     "output_type": "stream",
     "text": [
      "/home/hanliu/project/mouse_rostral_brain/DMR/SubType/raw/SubType-chr13/MotifScan.h5adtemp/MA1124.1.meme, N motif total=41353\n"
     ]
    },
    {
     "name": "stdout",
     "output_type": "stream",
     "text": [
      "/home/hanliu/project/mouse_rostral_brain/DMR/SubType/raw/SubType-chr13/MotifScan.h5adtemp/MA1593.1.meme, N motif total=47685\n"
     ]
    },
    {
     "name": "stderr",
     "output_type": "stream",
     "text": [
      "/home/hanliu/miniconda3/envs/clustering/lib/python3.7/site-packages/ALLCools/dmr/fimo.py:60: FutureWarning: to_msgpack is deprecated and will be removed in a future version.\n",
      "It is recommended to use pyarrow for on-the-wire transmission of pandas objects.\n",
      "  final_df.to_msgpack(output_path, compress='zlib')\n"
     ]
    },
    {
     "name": "stderr",
     "output_type": "stream",
     "text": [
      "/home/hanliu/miniconda3/envs/clustering/lib/python3.7/site-packages/ALLCools/dmr/fimo.py:60: FutureWarning: to_msgpack is deprecated and will be removed in a future version.\n",
      "It is recommended to use pyarrow for on-the-wire transmission of pandas objects.\n",
      "  final_df.to_msgpack(output_path, compress='zlib')\n"
     ]
    },
    {
     "name": "stdout",
     "output_type": "stream",
     "text": [
      "/home/hanliu/project/mouse_rostral_brain/DMR/SubType/raw/SubType-chr13/MotifScan.h5adtemp/MA1655.1.meme, N motif total=35227\n"
     ]
    },
    {
     "name": "stderr",
     "output_type": "stream",
     "text": [
      "/home/hanliu/miniconda3/envs/clustering/lib/python3.7/site-packages/ALLCools/dmr/fimo.py:60: FutureWarning: to_msgpack is deprecated and will be removed in a future version.\n",
      "It is recommended to use pyarrow for on-the-wire transmission of pandas objects.\n",
      "  final_df.to_msgpack(output_path, compress='zlib')\n"
     ]
    },
    {
     "name": "stdout",
     "output_type": "stream",
     "text": [
      "/home/hanliu/project/mouse_rostral_brain/DMR/SubType/raw/SubType-chr13/MotifScan.h5adtemp/MA1592.1.meme, N motif total=33401\n"
     ]
    },
    {
     "name": "stderr",
     "output_type": "stream",
     "text": [
      "/home/hanliu/miniconda3/envs/clustering/lib/python3.7/site-packages/ALLCools/dmr/fimo.py:60: FutureWarning: to_msgpack is deprecated and will be removed in a future version.\n",
      "It is recommended to use pyarrow for on-the-wire transmission of pandas objects.\n",
      "  final_df.to_msgpack(output_path, compress='zlib')\n"
     ]
    },
    {
     "name": "stdout",
     "output_type": "stream",
     "text": [
      "/home/hanliu/project/mouse_rostral_brain/DMR/SubType/raw/SubType-chr13/MotifScan.h5adtemp/MA0088.2.meme, N motif total=7770\n"
     ]
    },
    {
     "name": "stderr",
     "output_type": "stream",
     "text": [
      "/home/hanliu/miniconda3/envs/clustering/lib/python3.7/site-packages/ALLCools/dmr/fimo.py:60: FutureWarning: to_msgpack is deprecated and will be removed in a future version.\n",
      "It is recommended to use pyarrow for on-the-wire transmission of pandas objects.\n",
      "  final_df.to_msgpack(output_path, compress='zlib')\n"
     ]
    },
    {
     "name": "stdout",
     "output_type": "stream",
     "text": [
      "/home/hanliu/project/mouse_rostral_brain/DMR/SubType/raw/SubType-chr13/MotifScan.h5adtemp/MA1125.1.meme, N motif total=299009\n"
     ]
    },
    {
     "name": "stderr",
     "output_type": "stream",
     "text": [
      "/home/hanliu/miniconda3/envs/clustering/lib/python3.7/site-packages/ALLCools/dmr/fimo.py:60: FutureWarning: to_msgpack is deprecated and will be removed in a future version.\n",
      "It is recommended to use pyarrow for on-the-wire transmission of pandas objects.\n",
      "  final_df.to_msgpack(output_path, compress='zlib')\n"
     ]
    },
    {
     "name": "stdout",
     "output_type": "stream",
     "text": [
      "/home/hanliu/project/mouse_rostral_brain/DMR/SubType/raw/SubType-chr13/MotifScan.h5adtemp/MA1154.1.meme, N motif total=15513\n"
     ]
    },
    {
     "name": "stderr",
     "output_type": "stream",
     "text": [
      "/home/hanliu/miniconda3/envs/clustering/lib/python3.7/site-packages/ALLCools/dmr/fimo.py:60: FutureWarning: to_msgpack is deprecated and will be removed in a future version.\n",
      "It is recommended to use pyarrow for on-the-wire transmission of pandas objects.\n",
      "  final_df.to_msgpack(output_path, compress='zlib')\n"
     ]
    },
    {
     "name": "stdout",
     "output_type": "stream",
     "text": [
      "/home/hanliu/project/mouse_rostral_brain/DMR/SubType/raw/SubType-chr13/MotifScan.h5adtemp/MA0116.1.meme, N motif total=18312\n"
     ]
    },
    {
     "name": "stderr",
     "output_type": "stream",
     "text": [
      "/home/hanliu/miniconda3/envs/clustering/lib/python3.7/site-packages/ALLCools/dmr/fimo.py:60: FutureWarning: to_msgpack is deprecated and will be removed in a future version.\n",
      "It is recommended to use pyarrow for on-the-wire transmission of pandas objects.\n",
      "  final_df.to_msgpack(output_path, compress='zlib')\n"
     ]
    },
    {
     "name": "stdout",
     "output_type": "stream",
     "text": [
      "/home/hanliu/project/mouse_rostral_brain/DMR/SubType/raw/SubType-chr13/MotifScan.h5adtemp/MA1602.1.meme, N motif total=14638\n"
     ]
    },
    {
     "name": "stderr",
     "output_type": "stream",
     "text": [
      "/home/hanliu/miniconda3/envs/clustering/lib/python3.7/site-packages/ALLCools/dmr/fimo.py:60: FutureWarning: to_msgpack is deprecated and will be removed in a future version.\n",
      "It is recommended to use pyarrow for on-the-wire transmission of pandas objects.\n",
      "  final_df.to_msgpack(output_path, compress='zlib')\n"
     ]
    },
    {
     "name": "stdout",
     "output_type": "stream",
     "text": [
      "/home/hanliu/project/mouse_rostral_brain/DMR/SubType/raw/SubType-chr13/MotifScan.h5adtemp/MA0752.1.meme, N motif total=3010\n"
     ]
    },
    {
     "name": "stderr",
     "output_type": "stream",
     "text": [
      "/home/hanliu/miniconda3/envs/clustering/lib/python3.7/site-packages/ALLCools/dmr/fimo.py:60: FutureWarning: to_msgpack is deprecated and will be removed in a future version.\n",
      "It is recommended to use pyarrow for on-the-wire transmission of pandas objects.\n",
      "  final_df.to_msgpack(output_path, compress='zlib')\n"
     ]
    },
    {
     "name": "stdout",
     "output_type": "stream",
     "text": [
      "/home/hanliu/project/mouse_rostral_brain/DMR/SubType/raw/SubType-chr13/MotifScan.h5adtemp/MA1657.1.meme, N motif total=24778\n"
     ]
    },
    {
     "name": "stderr",
     "output_type": "stream",
     "text": [
      "/home/hanliu/miniconda3/envs/clustering/lib/python3.7/site-packages/ALLCools/dmr/fimo.py:60: FutureWarning: to_msgpack is deprecated and will be removed in a future version.\n",
      "It is recommended to use pyarrow for on-the-wire transmission of pandas objects.\n",
      "  final_df.to_msgpack(output_path, compress='zlib')\n"
     ]
    },
    {
     "name": "stdout",
     "output_type": "stream",
     "text": [
      "/home/hanliu/project/mouse_rostral_brain/DMR/SubType/raw/SubType-chr13/MotifScan.h5adtemp/MA1656.1.meme, N motif total=35443\n"
     ]
    },
    {
     "name": "stderr",
     "output_type": "stream",
     "text": [
      "/home/hanliu/miniconda3/envs/clustering/lib/python3.7/site-packages/ALLCools/dmr/fimo.py:60: FutureWarning: to_msgpack is deprecated and will be removed in a future version.\n",
      "It is recommended to use pyarrow for on-the-wire transmission of pandas objects.\n",
      "  final_df.to_msgpack(output_path, compress='zlib')\n"
     ]
    },
    {
     "name": "stdout",
     "output_type": "stream",
     "text": [
      "/home/hanliu/project/mouse_rostral_brain/DMR/SubType/raw/SubType-chr13/MotifScan.h5adtemp/MA1594.1.meme, N motif total=9385\n"
     ]
    },
    {
     "name": "stderr",
     "output_type": "stream",
     "text": [
      "/home/hanliu/miniconda3/envs/clustering/lib/python3.7/site-packages/ALLCools/dmr/fimo.py:60: FutureWarning: to_msgpack is deprecated and will be removed in a future version.\n",
      "It is recommended to use pyarrow for on-the-wire transmission of pandas objects.\n",
      "  final_df.to_msgpack(output_path, compress='zlib')\n"
     ]
    },
    {
     "name": "stdout",
     "output_type": "stream",
     "text": [
      "/home/hanliu/project/mouse_rostral_brain/DMR/SubType/raw/SubType-chr13/MotifScan.h5adtemp/MA0753.2.meme, N motif total=167508\n"
     ]
    },
    {
     "name": "stderr",
     "output_type": "stream",
     "text": [
      "/home/hanliu/miniconda3/envs/clustering/lib/python3.7/site-packages/ALLCools/dmr/fimo.py:60: FutureWarning: to_msgpack is deprecated and will be removed in a future version.\n",
      "It is recommended to use pyarrow for on-the-wire transmission of pandas objects.\n",
      "  final_df.to_msgpack(output_path, compress='zlib')\n"
     ]
    },
    {
     "name": "stderr",
     "output_type": "stream",
     "text": [
      "/home/hanliu/miniconda3/envs/clustering/lib/python3.7/site-packages/ALLCools/dmr/fimo.py:108: FutureWarning: to_msgpack is deprecated and will be removed in a future version.\n",
      "It is recommended to use pyarrow for on-the-wire transmission of pandas objects.\n",
      "  lookup_table.to_msgpack(output_dir / f'LOOKUP_TABLE.msg')\n"
     ]
    }
   ],
   "source": [
    "scan_motif_over_bed(\n",
    "    bed_path=bed_path,\n",
    "    motif_file=motif_file_path,\n",
    "    genome_fasta=genome_fasta_path,\n",
    "    output_dir =str(output_path) + \"temp\",\n",
    "    chrom_size_path=chrom_size_path,\n",
    "    cpu=40, \n",
    "    use_region_name=True,\n",
    "    sort_mem_gbs=10\n",
    ")"
   ]
  },
  {
   "cell_type": "markdown",
   "metadata": {
    "papermill": {
     "duration": 0.279083,
     "end_time": "2020-01-20T02:10:30.286903",
     "exception": false,
     "start_time": "2020-01-20T02:10:30.007820",
     "status": "completed"
    },
    "tags": []
   },
   "source": [
    "## Aggregate motif hits"
   ]
  },
  {
   "cell_type": "code",
   "execution_count": 7,
   "metadata": {
    "ExecuteTime": {
     "end_time": "2020-01-11T06:26:28.669360Z",
     "start_time": "2020-01-11T06:26:28.662712Z"
    },
    "papermill": {
     "duration": 0.286486,
     "end_time": "2020-01-20T02:10:30.852251",
     "exception": false,
     "start_time": "2020-01-20T02:10:30.565765",
     "status": "completed"
    },
    "tags": []
   },
   "outputs": [],
   "source": [
    "temp_dir = pathlib.Path(str(output_path) + \"temp\")\n",
    "results_path = list(temp_dir.glob('*bed.msg'))"
   ]
  },
  {
   "cell_type": "code",
   "execution_count": 8,
   "metadata": {
    "ExecuteTime": {
     "end_time": "2020-01-11T06:20:07.873952Z",
     "start_time": "2020-01-11T06:19:40.044246Z"
    },
    "papermill": {
     "duration": 24.834309,
     "end_time": "2020-01-20T02:10:55.963498",
     "exception": false,
     "start_time": "2020-01-20T02:10:31.129189",
     "status": "completed"
    },
    "tags": []
   },
   "outputs": [
    {
     "name": "stderr",
     "output_type": "stream",
     "text": [
      "/home/hanliu/miniconda3/envs/clustering/lib/python3.7/site-packages/IPython/core/interactiveshell.py:3326: FutureWarning: The read_msgpack is deprecated and will be removed in a future version.\n",
      "It is recommended to use pyarrow for on-the-wire transmission of pandas objects.\n",
      "  exec(code_obj, self.user_global_ns, self.user_ns)\n"
     ]
    },
    {
     "name": "stdout",
     "output_type": "stream",
     "text": [
      "100\n"
     ]
    },
    {
     "name": "stdout",
     "output_type": "stream",
     "text": [
      "200\n"
     ]
    },
    {
     "name": "stdout",
     "output_type": "stream",
     "text": [
      "300\n"
     ]
    },
    {
     "name": "stdout",
     "output_type": "stream",
     "text": [
      "400\n"
     ]
    },
    {
     "name": "stdout",
     "output_type": "stream",
     "text": [
      "500\n"
     ]
    },
    {
     "name": "stdout",
     "output_type": "stream",
     "text": [
      "600\n"
     ]
    },
    {
     "name": "stdout",
     "output_type": "stream",
     "text": [
      "700\n"
     ]
    },
    {
     "name": "stderr",
     "output_type": "stream",
     "text": [
      "... storing 'chrom' as categorical\n"
     ]
    }
   ],
   "source": [
    "rows = []\n",
    "cols = []\n",
    "datas = []\n",
    "motif_ids = []\n",
    "n = 0\n",
    "for i, path in enumerate(results_path):\n",
    "    n += 1\n",
    "    if n % 100 == 0:\n",
    "        print(n)\n",
    "    df = pd.read_msgpack(path)\n",
    "    motif_id = path.name[:-8]\n",
    "    motif_ids.append(motif_id)\n",
    "    \n",
    "    dmr_max_scores = df.groupby('sequence_name')['score'].max()\n",
    "    dmr_max_scores.index = dmr_max_scores.index.map(lambda i: i.split('_')[1]).astype(int)\n",
    "    dmr_max_scores.sort_index(inplace=True)\n",
    "    row = dmr_max_scores.index.values\n",
    "    col = (np.ones_like(row) * i).astype(int)\n",
    "    data = dmr_max_scores.values        \n",
    "    rows.append(row)\n",
    "    cols.append(col)\n",
    "    datas.append(data)\n",
    "rows = np.concatenate(rows)\n",
    "cols = np.concatenate(cols)\n",
    "datas = np.concatenate(datas)\n",
    "\n",
    "hits = csr_matrix((datas, (rows, cols)),\n",
    "                  shape=(dmr_bed.shape[0], len(motif_ids)))\n",
    "\n",
    "dmr_hits = anndata.AnnData(X=hits,\n",
    "                           obs=dmr_bed,\n",
    "                           var=pd.DataFrame([], index=motif_ids))\n",
    "\n",
    "dmr_hits.write_h5ad(output_path)"
   ]
  },
  {
   "cell_type": "code",
   "execution_count": 9,
   "metadata": {
    "ExecuteTime": {
     "end_time": "2020-01-11T06:20:21.528210Z",
     "start_time": "2020-01-11T06:20:21.524900Z"
    },
    "papermill": {
     "duration": 0.284608,
     "end_time": "2020-01-20T02:10:56.526169",
     "exception": false,
     "start_time": "2020-01-20T02:10:56.241561",
     "status": "completed"
    },
    "tags": []
   },
   "outputs": [
    {
     "data": {
      "text/plain": [
       "AnnData object with n_obs × n_vars = 224117 × 719 \n",
       "    obs: 'chrom', 'start', 'end'"
      ]
     },
     "execution_count": 9,
     "metadata": {},
     "output_type": "execute_result"
    }
   ],
   "source": [
    "dmr_hits"
   ]
  },
  {
   "cell_type": "code",
   "execution_count": 10,
   "metadata": {
    "ExecuteTime": {
     "end_time": "2020-01-11T06:21:22.263596Z",
     "start_time": "2020-01-11T06:21:22.083041Z"
    },
    "papermill": {
     "duration": 0.465459,
     "end_time": "2020-01-20T02:10:57.271799",
     "exception": false,
     "start_time": "2020-01-20T02:10:56.806340",
     "status": "completed"
    },
    "tags": []
   },
   "outputs": [],
   "source": [
    "motif_hits_portion = ((dmr_hits.X > 0).sum(axis=0) / dmr_hits.X.shape[0]).A1"
   ]
  },
  {
   "cell_type": "code",
   "execution_count": 11,
   "metadata": {
    "ExecuteTime": {
     "end_time": "2020-01-11T06:21:28.111692Z",
     "start_time": "2020-01-11T06:21:27.960190Z"
    },
    "papermill": {
     "duration": 0.439764,
     "end_time": "2020-01-20T02:10:57.989115",
     "exception": false,
     "start_time": "2020-01-20T02:10:57.549351",
     "status": "completed"
    },
    "tags": []
   },
   "outputs": [
    {
     "data": {
      "text/plain": [
       "<matplotlib.axes._subplots.AxesSubplot at 0x7f379b6e4f28>"
      ]
     },
     "execution_count": 11,
     "metadata": {},
     "output_type": "execute_result"
    },
    {
     "data": {
      "image/png": "[encoded data removed]",
      "text/plain": [
       "<Figure size 432x288 with 1 Axes>"
      ]
     },
     "metadata": {
      "needs_background": "light"
     },
     "output_type": "display_data"
    }
   ],
   "source": [
    "sns.distplot(motif_hits_portion)"
   ]
  },
  {
   "cell_type": "markdown",
   "metadata": {
    "papermill": {
     "duration": 0.279351,
     "end_time": "2020-01-20T02:10:58.550074",
     "exception": false,
     "start_time": "2020-01-20T02:10:58.270723",
     "status": "completed"
    },
    "tags": []
   },
   "source": [
    "## Delete temp dir"
   ]
  },
  {
   "cell_type": "code",
   "execution_count": 12,
   "metadata": {
    "ExecuteTime": {
     "end_time": "2020-01-11T06:26:33.954958Z",
     "start_time": "2020-01-11T06:26:33.715562Z"
    },
    "papermill": {
     "duration": 0.517517,
     "end_time": "2020-01-20T02:10:59.348105",
     "exception": false,
     "start_time": "2020-01-20T02:10:58.830588",
     "status": "completed"
    },
    "tags": []
   },
   "outputs": [
    {
     "data": {
      "text/plain": [
       "CompletedProcess(args=['rm', '-rf', '/home/hanliu/project/mouse_rostral_brain/DMR/SubType/raw/SubType-chr13/MotifScan.h5adtemp'], returncode=0)"
      ]
     },
     "execution_count": 12,
     "metadata": {},
     "output_type": "execute_result"
    }
   ],
   "source": [
    "subprocess.run(['rm', '-rf', str(temp_dir)])"
   ]
  },
  {
   "cell_type": "code",
   "execution_count": null,
   "metadata": {
    "papermill": {
     "duration": 0.280557,
     "end_time": "2020-01-20T02:10:59.911181",
     "exception": false,
     "start_time": "2020-01-20T02:10:59.630624",
     "status": "completed"
    },
    "tags": []
   },
   "outputs": [],
   "source": []
  }
 ],
 "metadata": {
  "celltoolbar": "Tags",
  "hide_input": false,
  "kernelspec": {
   "display_name": "Python 3",
   "language": "python",
   "name": "python3"
  },
  "language_info": {
   "codemirror_mode": {
    "name": "ipython",
    "version": 3
   },
   "file_extension": ".py",
   "mimetype": "text/x-python",
   "name": "python",
   "nbconvert_exporter": "python",
   "pygments_lexer": "ipython3",
   "version": "3.7.3"
  },
  "papermill": {
   "duration": 358.743081,
   "end_time": "2020-01-20T02:11:00.799210",
   "environment_variables": {},
   "exception": null,
   "input_path": "2.MotifScan.ipynb",
   "output_path": "/home/hanliu/project/mouse_rostral_brain/DMR/SubType/raw/SubType-chr13/Recipe/2.MotifScan.ipynb",
   "parameters": {
    "bed_path": "/home/hanliu/project/mouse_rostral_brain/DMR/SubType/raw/SubType-chr13/TotalDMR.nofilter.bed",
    "chrom_size_path": "/home/hanliu/ref/mouse/genome/mm10.main.chrom.sizes",
    "genome_fasta_path": "/home/hanliu/ref/mouse/genome/fasta/raw/mm10.fa",
    "motif_file_path": "/home/hanliu/ref/MEME/selected_motifs_sets/JASPAR2020_CORE_vertebrates_non-redundant_pfms.has_mouse_id.meme"
   },
   "start_time": "2020-01-20T02:05:02.056129",
   "version": "1.0.1"
  },
  "toc": {
   "base_numbering": 1,
   "nav_menu": {},
   "number_sections": true,
   "sideBar": true,
   "skip_h1_title": true,
   "title_cell": "Table of Contents",
   "title_sidebar": "Contents",
   "toc_cell": false,
   "toc_position": {},
   "toc_section_display": true,
   "toc_window_display": true
  }
 },
 "nbformat": 4,
 "nbformat_minor": 2
}