{
 "cells": [
  {
   "cell_type": "code",
   "execution_count": 1,
   "metadata": {
    "ExecuteTime": {
     "end_time": "2020-01-19T23:44:58.346471Z",
     "start_time": "2020-01-19T23:44:57.897673Z"
    },
    "papermill": {
     "duration": 0.444583,
     "end_time": "2020-01-19T23:43:48.998502",
     "exception": false,
     "start_time": "2020-01-19T23:43:48.553919",
     "status": "completed"
    },
    "tags": []
   },
   "outputs": [],
   "source": [
    "import pathlib\n",
    "import numpy as np\n",
    "import pandas as pd\n",
    "from scipy.sparse import csr_matrix\n",
    "import anndata\n",
    "from pybedtools import BedTool"
   ]
  },
  {
   "cell_type": "markdown",
   "metadata": {
    "ExecuteTime": {
     "end_time": "2020-01-10T03:41:10.279754Z",
     "start_time": "2020-01-10T03:41:10.259634Z"
    },
    "papermill": {
     "duration": 0.010673,
     "end_time": "2020-01-19T23:43:49.021820",
     "exception": false,
     "start_time": "2020-01-19T23:43:49.011147",
     "status": "completed"
    },
    "tags": []
   },
   "source": [
    "## Parameter"
   ]
  },
  {
   "cell_type": "code",
   "execution_count": 2,
   "metadata": {
    "ExecuteTime": {
     "end_time": "2020-01-19T23:44:58.969609Z",
     "start_time": "2020-01-19T23:44:58.966653Z"
    },
    "papermill": {
     "duration": 0.016329,
     "end_time": "2020-01-19T23:43:49.048498",
     "exception": false,
     "start_time": "2020-01-19T23:43:49.032169",
     "status": "completed"
    },
    "tags": [
     "parameters"
    ]
   },
   "outputs": [],
   "source": [
    "dmr_path = '/home/hanliu/project/mouse_rostral_brain/DMR/ITSpatial/ITSpatial_rms_results_collapsed.tsv'\n",
    "dmr_prefix = 'DGmCH'\n",
    "\n",
    "black_list_path = '/home/hanliu/ref/blacklist/mm10-blacklist.v2.bed.gz'\n",
    "skip_quantile = 0.25\n",
    "delta_to_mean = 0.1\n",
    "dms_cutoff = 1"
   ]
  },
  {
   "cell_type": "code",
   "execution_count": 3,
   "metadata": {
    "ExecuteTime": {
     "end_time": "2020-01-19T23:44:59.470809Z",
     "start_time": "2020-01-19T23:44:59.468149Z"
    },
    "papermill": {
     "duration": 0.01568,
     "end_time": "2020-01-19T23:43:49.074352",
     "exception": false,
     "start_time": "2020-01-19T23:43:49.058672",
     "status": "completed"
    },
    "tags": [
     "injected-parameters"
    ]
   },
   "outputs": [],
   "source": [
    "# Parameters\n",
    "dmr_path = \"/home/hanliu/project/mouse_rostral_brain/DMR/SubType/raw/SubType-chrY/SubType-chrY_rms_results_collapsed.tsv\"\n",
    "dmr_prefix = \"Sub\"\n",
    "black_list_path = \"/home/hanliu/ref/blacklist/mm10-blacklist.v2.bed.gz\"\n",
    "skip_quantile = 0.25\n",
    "delta_to_mean = 0.3\n",
    "dms_cutoff = 1\n"
   ]
  },
  {
   "cell_type": "markdown",
   "metadata": {
    "papermill": {
     "duration": 0.010144,
     "end_time": "2020-01-19T23:43:49.094826",
     "exception": false,
     "start_time": "2020-01-19T23:43:49.084682",
     "status": "completed"
    },
    "tags": []
   },
   "source": [
    "## Read DMR"
   ]
  },
  {
   "cell_type": "code",
   "execution_count": 4,
   "metadata": {
    "ExecuteTime": {
     "end_time": "2020-01-19T23:46:02.396258Z",
     "start_time": "2020-01-19T23:46:02.110623Z"
    },
    "papermill": {
     "duration": 0.344686,
     "end_time": "2020-01-19T23:43:49.449959",
     "exception": false,
     "start_time": "2020-01-19T23:43:49.105273",
     "status": "completed"
    },
    "scrolled": true,
    "tags": []
   },
   "outputs": [
    {
     "name": "stdout",
     "output_type": "stream",
     "text": [
      "8681 dmr before filter\n"
     ]
    }
   ],
   "source": [
    "# get column and n_sample\n",
    "dmr_column = pd.read_csv(dmr_path, sep='\\t', nrows=0).columns\n",
    "n_sample = dmr_column.size - 6\n",
    "dmr_column = dmr_column.map(lambda i: i[18:] if 'methylation_level_' in i else i)\n",
    "samples = dmr_column[6:]\n",
    "\n",
    "dmr_region_infos = []\n",
    "mc_rates = []\n",
    "hypo_sig_dict = {sample: [] for sample in samples}\n",
    "hyper_sig_dict = {sample: [] for sample in samples}\n",
    "\n",
    "dmr_df = pd.read_csv(dmr_path, sep='\\t', skiprows=1, names=dmr_column)\n",
    "print(dmr_df.shape[0], 'dmr before filter')\n",
    "dmr_df.index = dmr_df.index.map(lambda i: f'{dmr_prefix}_{i}')\n",
    "\n",
    "# save raw info\n",
    "dmr_bed = dmr_df.iloc[:, :4].copy()\n",
    "mc_rate = dmr_df.iloc[:, 6:].copy()"
   ]
  },
  {
   "cell_type": "markdown",
   "metadata": {
    "papermill": {
     "duration": 0.01067,
     "end_time": "2020-01-19T23:43:49.472406",
     "exception": false,
     "start_time": "2020-01-19T23:43:49.461736",
     "status": "completed"
    },
    "tags": []
   },
   "source": [
    "## Save unfiltered dmr info"
   ]
  },
  {
   "cell_type": "code",
   "execution_count": 5,
   "metadata": {
    "ExecuteTime": {
     "end_time": "2020-01-19T23:46:05.352637Z",
     "start_time": "2020-01-19T23:46:05.150967Z"
    },
    "papermill": {
     "duration": 0.212474,
     "end_time": "2020-01-19T23:43:49.695652",
     "exception": false,
     "start_time": "2020-01-19T23:43:49.483178",
     "status": "completed"
    },
    "tags": []
   },
   "outputs": [],
   "source": [
    "with pd.HDFStore(pathlib.Path(dmr_path).parent / 'DMRInfo.h5') as hdf:\n",
    "    hdf['Rate'] = mc_rate\n",
    "    hdf['Bed'] = dmr_bed"
   ]
  },
  {
   "cell_type": "code",
   "execution_count": 6,
   "metadata": {
    "ExecuteTime": {
     "end_time": "2020-01-19T23:46:05.383487Z",
     "start_time": "2020-01-19T23:46:05.354496Z"
    },
    "papermill": {
     "duration": 0.042757,
     "end_time": "2020-01-19T23:43:49.751128",
     "exception": false,
     "start_time": "2020-01-19T23:43:49.708371",
     "status": "completed"
    },
    "tags": []
   },
   "outputs": [],
   "source": [
    "dmr_bed.reset_index().iloc[:, [1, 2, 3, 0]].to_csv(pathlib.Path(dmr_path).parent / 'TotalDMR.nofilter.bed', \n",
    "                                                   index=None, header=None, sep='\\t')"
   ]
  },
  {
   "cell_type": "markdown",
   "metadata": {
    "papermill": {
     "duration": 0.010355,
     "end_time": "2020-01-19T23:43:49.772369",
     "exception": false,
     "start_time": "2020-01-19T23:43:49.762014",
     "status": "completed"
    },
    "tags": []
   },
   "source": [
    "## Filter DMR based on min-max delta and blacklist"
   ]
  },
  {
   "cell_type": "code",
   "execution_count": 7,
   "metadata": {
    "ExecuteTime": {
     "end_time": "2020-01-19T23:47:16.476751Z",
     "start_time": "2020-01-19T23:47:16.445763Z"
    },
    "papermill": {
     "duration": 0.043858,
     "end_time": "2020-01-19T23:43:49.826782",
     "exception": false,
     "start_time": "2020-01-19T23:43:49.782924",
     "status": "completed"
    },
    "tags": []
   },
   "outputs": [
    {
     "name": "stdout",
     "output_type": "stream",
     "text": [
      "8611 dmr pass delta filter\n"
     ]
    }
   ],
   "source": [
    "# filter by min max delta first, if DMR do not pass min max filter, it won't have sig sample anyway\n",
    "delta_judge = (mc_rate.max(axis=1) - mc_rate.min(axis=1)) > delta_to_mean\n",
    "delta_index = mc_rate.index[delta_judge]\n",
    "\n",
    "print(delta_index.size, 'dmr pass delta filter')"
   ]
  },
  {
   "cell_type": "code",
   "execution_count": 8,
   "metadata": {
    "ExecuteTime": {
     "end_time": "2020-01-19T23:47:18.717045Z",
     "start_time": "2020-01-19T23:47:18.644803Z"
    },
    "papermill": {
     "duration": 0.120946,
     "end_time": "2020-01-19T23:43:49.959806",
     "exception": false,
     "start_time": "2020-01-19T23:43:49.838860",
     "status": "completed"
    },
    "tags": []
   },
   "outputs": [
    {
     "name": "stdout",
     "output_type": "stream",
     "text": [
      "2819 dmr pass blacklist filter\n"
     ]
    }
   ],
   "source": [
    "# filter by blacklist\n",
    "black_list = pd.read_csv(black_list_path, sep='\\t', header=None)\n",
    "black_list = BedTool.from_dataframe(black_list)\n",
    "\n",
    "_dmr_bed = BedTool.from_dataframe(dmr_bed.reset_index().iloc[:, [1,2,3,0]])\n",
    "filtered_dmr_bed = _dmr_bed.intersect(black_list, v=True).to_dataframe().set_index('name')\n",
    "\n",
    "white_index = filtered_dmr_bed.index\n",
    "print(white_index.size, 'dmr pass blacklist filter')"
   ]
  },
  {
   "cell_type": "code",
   "execution_count": 9,
   "metadata": {
    "ExecuteTime": {
     "end_time": "2020-01-19T23:47:20.942582Z",
     "start_time": "2020-01-19T23:47:20.911814Z"
    },
    "papermill": {
     "duration": 0.044929,
     "end_time": "2020-01-19T23:43:50.016194",
     "exception": false,
     "start_time": "2020-01-19T23:43:49.971265",
     "status": "completed"
    },
    "tags": []
   },
   "outputs": [
    {
     "name": "stdout",
     "output_type": "stream",
     "text": [
      "2811 dmr after filter\n"
     ]
    },
    {
     "data": {
      "text/html": [
       "<div>\n",
       "<style scoped>\n",
       "    .dataframe tbody tr th:only-of-type {\n",
       "        vertical-align: middle;\n",
       "    }\n",
       "\n",
       "    .dataframe tbody tr th {\n",
       "        vertical-align: top;\n",
       "    }\n",
       "\n",
       "    .dataframe thead th {\n",
       "        text-align: right;\n",
       "    }\n",
       "</style>\n",
       "<table border=\"1\" class=\"dataframe\">\n",
       "  <thead>\n",
       "    <tr style=\"text-align: right;\">\n",
       "      <th></th>\n",
       "      <th>#chr</th>\n",
       "      <th>start</th>\n",
       "      <th>end</th>\n",
       "      <th>number_of_dms</th>\n",
       "      <th>hypermethylated_samples</th>\n",
       "      <th>hypomethylated_samples</th>\n",
       "      <th>CT-L6_Il1rap</th>\n",
       "      <th>NP-L6_Cntnap5a</th>\n",
       "      <th>CGE-Lamp5_Sorcs1</th>\n",
       "      <th>CGE-Vip_Grm8</th>\n",
       "      <th>...</th>\n",
       "      <th>Foxp2_Trpc7</th>\n",
       "      <th>CGE-Lamp5_Grk5</th>\n",
       "      <th>IT-L5_Cdh8</th>\n",
       "      <th>IG-CA2_Peak1</th>\n",
       "      <th>ANP_anp-dg</th>\n",
       "      <th>OLF_Xkr6</th>\n",
       "      <th>D1L-Fstl4_Cadm1</th>\n",
       "      <th>IT-L4_Shc3</th>\n",
       "      <th>D1L-PAL_Plcxd3</th>\n",
       "      <th>L6b_Pkhd1</th>\n",
       "    </tr>\n",
       "  </thead>\n",
       "  <tbody>\n",
       "    <tr>\n",
       "      <th>Sub_132</th>\n",
       "      <td>chrY</td>\n",
       "      <td>807396</td>\n",
       "      <td>807396</td>\n",
       "      <td>1</td>\n",
       "      <td>NaN</td>\n",
       "      <td>ASC_cortex-olf,DG_dg-all,PT-L5_Ptprt</td>\n",
       "      <td>0.833333</td>\n",
       "      <td>0.000000</td>\n",
       "      <td>NaN</td>\n",
       "      <td>NaN</td>\n",
       "      <td>...</td>\n",
       "      <td>0.500000</td>\n",
       "      <td>0.800000</td>\n",
       "      <td>0.000000</td>\n",
       "      <td>NaN</td>\n",
       "      <td>NaN</td>\n",
       "      <td>0.0</td>\n",
       "      <td>1.000000</td>\n",
       "      <td>0.500000</td>\n",
       "      <td>0.000000</td>\n",
       "      <td>NaN</td>\n",
       "    </tr>\n",
       "    <tr>\n",
       "      <th>Sub_133</th>\n",
       "      <td>chrY</td>\n",
       "      <td>807851</td>\n",
       "      <td>807851</td>\n",
       "      <td>1</td>\n",
       "      <td>NaN</td>\n",
       "      <td>ASC_cortex-olf,L6b_Kcnk2,ODC_odc-small,IG-CA2_...</td>\n",
       "      <td>0.615385</td>\n",
       "      <td>NaN</td>\n",
       "      <td>NaN</td>\n",
       "      <td>1.00</td>\n",
       "      <td>...</td>\n",
       "      <td>0.545455</td>\n",
       "      <td>0.941176</td>\n",
       "      <td>0.625000</td>\n",
       "      <td>0.571429</td>\n",
       "      <td>NaN</td>\n",
       "      <td>1.0</td>\n",
       "      <td>0.909091</td>\n",
       "      <td>0.800000</td>\n",
       "      <td>1.000000</td>\n",
       "      <td>0.333333</td>\n",
       "    </tr>\n",
       "    <tr>\n",
       "      <th>Sub_134</th>\n",
       "      <td>chrY</td>\n",
       "      <td>808230</td>\n",
       "      <td>808230</td>\n",
       "      <td>1</td>\n",
       "      <td>NaN</td>\n",
       "      <td>CGE-Vip_Ntng1,Foxp2_Homer2,IT-L4_Astn2,ODC_odc...</td>\n",
       "      <td>0.880000</td>\n",
       "      <td>0.909091</td>\n",
       "      <td>0.928571</td>\n",
       "      <td>1.00</td>\n",
       "      <td>...</td>\n",
       "      <td>1.000000</td>\n",
       "      <td>0.914286</td>\n",
       "      <td>0.783784</td>\n",
       "      <td>0.933333</td>\n",
       "      <td>1.000000</td>\n",
       "      <td>1.0</td>\n",
       "      <td>0.857143</td>\n",
       "      <td>0.821429</td>\n",
       "      <td>1.000000</td>\n",
       "      <td>NaN</td>\n",
       "    </tr>\n",
       "    <tr>\n",
       "      <th>Sub_135</th>\n",
       "      <td>chrY</td>\n",
       "      <td>808570</td>\n",
       "      <td>808570</td>\n",
       "      <td>1</td>\n",
       "      <td>D1L-Fstl4_Crim1,MGC_mgc-all,IT-L23_Ptprt,MGE-S...</td>\n",
       "      <td>DG_dg-all,IG-CA2_Chrm3,CA3_Cadm2,IT-L23_Tenm2,...</td>\n",
       "      <td>0.461538</td>\n",
       "      <td>0.125000</td>\n",
       "      <td>0.666667</td>\n",
       "      <td>0.25</td>\n",
       "      <td>...</td>\n",
       "      <td>0.235294</td>\n",
       "      <td>0.428571</td>\n",
       "      <td>0.375000</td>\n",
       "      <td>0.100000</td>\n",
       "      <td>0.111111</td>\n",
       "      <td>0.0</td>\n",
       "      <td>0.444444</td>\n",
       "      <td>0.321429</td>\n",
       "      <td>0.333333</td>\n",
       "      <td>NaN</td>\n",
       "    </tr>\n",
       "    <tr>\n",
       "      <th>Sub_136</th>\n",
       "      <td>chrY</td>\n",
       "      <td>809218</td>\n",
       "      <td>809218</td>\n",
       "      <td>1</td>\n",
       "      <td>LSX-Inh_Dock10,L6b_Nrp2,PT-L5_Plcb4,VLMC_Mapk4...</td>\n",
       "      <td>NaN</td>\n",
       "      <td>0.000000</td>\n",
       "      <td>0.000000</td>\n",
       "      <td>0.000000</td>\n",
       "      <td>NaN</td>\n",
       "      <td>...</td>\n",
       "      <td>0.052632</td>\n",
       "      <td>0.025000</td>\n",
       "      <td>0.000000</td>\n",
       "      <td>0.058824</td>\n",
       "      <td>0.000000</td>\n",
       "      <td>0.0</td>\n",
       "      <td>0.000000</td>\n",
       "      <td>0.000000</td>\n",
       "      <td>0.000000</td>\n",
       "      <td>0.000000</td>\n",
       "    </tr>\n",
       "  </tbody>\n",
       "</table>\n",
       "<p>5 rows × 167 columns</p>\n",
       "</div>"
      ],
      "text/plain": [
       "         #chr   start     end  number_of_dms  \\\n",
       "Sub_132  chrY  807396  807396              1   \n",
       "Sub_133  chrY  807851  807851              1   \n",
       "Sub_134  chrY  808230  808230              1   \n",
       "Sub_135  chrY  808570  808570              1   \n",
       "Sub_136  chrY  809218  809218              1   \n",
       "\n",
       "                                   hypermethylated_samples  \\\n",
       "Sub_132                                                NaN   \n",
       "Sub_133                                                NaN   \n",
       "Sub_134                                                NaN   \n",
       "Sub_135  D1L-Fstl4_Crim1,MGC_mgc-all,IT-L23_Ptprt,MGE-S...   \n",
       "Sub_136  LSX-Inh_Dock10,L6b_Nrp2,PT-L5_Plcb4,VLMC_Mapk4...   \n",
       "\n",
       "                                    hypomethylated_samples  CT-L6_Il1rap  \\\n",
       "Sub_132               ASC_cortex-olf,DG_dg-all,PT-L5_Ptprt      0.833333   \n",
       "Sub_133  ASC_cortex-olf,L6b_Kcnk2,ODC_odc-small,IG-CA2_...      0.615385   \n",
       "Sub_134  CGE-Vip_Ntng1,Foxp2_Homer2,IT-L4_Astn2,ODC_odc...      0.880000   \n",
       "Sub_135  DG_dg-all,IG-CA2_Chrm3,CA3_Cadm2,IT-L23_Tenm2,...      0.461538   \n",
       "Sub_136                                                NaN      0.000000   \n",
       "\n",
       "         NP-L6_Cntnap5a  CGE-Lamp5_Sorcs1  CGE-Vip_Grm8  ...  Foxp2_Trpc7  \\\n",
       "Sub_132        0.000000               NaN           NaN  ...     0.500000   \n",
       "Sub_133             NaN               NaN          1.00  ...     0.545455   \n",
       "Sub_134        0.909091          0.928571          1.00  ...     1.000000   \n",
       "Sub_135        0.125000          0.666667          0.25  ...     0.235294   \n",
       "Sub_136        0.000000          0.000000           NaN  ...     0.052632   \n",
       "\n",
       "         CGE-Lamp5_Grk5  IT-L5_Cdh8  IG-CA2_Peak1  ANP_anp-dg  OLF_Xkr6  \\\n",
       "Sub_132        0.800000    0.000000           NaN         NaN       0.0   \n",
       "Sub_133        0.941176    0.625000      0.571429         NaN       1.0   \n",
       "Sub_134        0.914286    0.783784      0.933333    1.000000       1.0   \n",
       "Sub_135        0.428571    0.375000      0.100000    0.111111       0.0   \n",
       "Sub_136        0.025000    0.000000      0.058824    0.000000       0.0   \n",
       "\n",
       "         D1L-Fstl4_Cadm1  IT-L4_Shc3  D1L-PAL_Plcxd3  L6b_Pkhd1  \n",
       "Sub_132         1.000000    0.500000        0.000000        NaN  \n",
       "Sub_133         0.909091    0.800000        1.000000   0.333333  \n",
       "Sub_134         0.857143    0.821429        1.000000        NaN  \n",
       "Sub_135         0.444444    0.321429        0.333333        NaN  \n",
       "Sub_136         0.000000    0.000000        0.000000   0.000000  \n",
       "\n",
       "[5 rows x 167 columns]"
      ]
     },
     "execution_count": 9,
     "metadata": {},
     "output_type": "execute_result"
    }
   ],
   "source": [
    "dmr_df = dmr_df.loc[delta_index & white_index]\n",
    "dmr_df = dmr_df[dmr_df['number_of_dms'] >= dms_cutoff]\n",
    "print(dmr_df.shape[0], 'dmr after filter')\n",
    "dmr_df.head()"
   ]
  },
  {
   "cell_type": "markdown",
   "metadata": {
    "papermill": {
     "duration": 0.011868,
     "end_time": "2020-01-19T23:43:50.040640",
     "exception": false,
     "start_time": "2020-01-19T23:43:50.028772",
     "status": "completed"
    },
    "tags": []
   },
   "source": [
    "## Calculate sample delta to robust mean"
   ]
  },
  {
   "cell_type": "code",
   "execution_count": 10,
   "metadata": {
    "ExecuteTime": {
     "end_time": "2020-01-19T23:48:45.363247Z",
     "start_time": "2020-01-19T23:48:45.354177Z"
    },
    "papermill": {
     "duration": 0.021889,
     "end_time": "2020-01-19T23:43:50.074276",
     "exception": false,
     "start_time": "2020-01-19T23:43:50.052387",
     "status": "completed"
    },
    "tags": []
   },
   "outputs": [],
   "source": [
    "mc_rate = mc_rate.loc[dmr_df.index].copy()\n",
    "n_sample = mc_rate.shape[1]\n",
    "\n",
    "assert skip_quantile < 0.5\n",
    "skip_n = min(1, round(n_sample * skip_quantile))"
   ]
  },
  {
   "cell_type": "code",
   "execution_count": 11,
   "metadata": {
    "ExecuteTime": {
     "end_time": "2020-01-19T23:49:05.365280Z",
     "start_time": "2020-01-19T23:49:05.251788Z"
    },
    "papermill": {
     "duration": 0.109292,
     "end_time": "2020-01-19T23:43:50.194967",
     "exception": false,
     "start_time": "2020-01-19T23:43:50.085675",
     "status": "completed"
    },
    "tags": []
   },
   "outputs": [],
   "source": [
    "# ~1M rows / min, depending on n_sample, not very slow\n",
    "def robust_mean(row):\n",
    "    return np.nanmean(np.sort(row)[skip_n:-skip_n])\n",
    "robust_mean = np.apply_along_axis(robust_mean, 1, mc_rate.values)\n",
    "robust_mean = pd.Series(robust_mean, index=mc_rate.index)"
   ]
  },
  {
   "cell_type": "code",
   "execution_count": 12,
   "metadata": {
    "ExecuteTime": {
     "end_time": "2020-01-19T23:50:21.727773Z",
     "start_time": "2020-01-19T23:50:21.640093Z"
    },
    "papermill": {
     "duration": 0.09995,
     "end_time": "2020-01-19T23:43:50.307573",
     "exception": false,
     "start_time": "2020-01-19T23:43:50.207623",
     "status": "completed"
    },
    "tags": []
   },
   "outputs": [],
   "source": [
    "delta = mc_rate - robust_mean[:, None]\n",
    "# 0 is hypo DMR, 1 is hyper DMR, nan is not significant\n",
    "judge = (delta > 0)[delta.abs() > delta_to_mean]"
   ]
  },
  {
   "cell_type": "code",
   "execution_count": 16,
   "metadata": {
    "ExecuteTime": {
     "end_time": "2020-01-19T23:51:17.419969Z",
     "start_time": "2020-01-19T23:51:17.289273Z"
    },
    "papermill": {
     "duration": 0.138626,
     "end_time": "2020-01-19T23:43:50.457738",
     "exception": false,
     "start_time": "2020-01-19T23:43:50.319112",
     "status": "completed"
    },
    "tags": []
   },
   "outputs": [],
   "source": [
    "robust_mean_hypo_records = {}\n",
    "robust_mean_hyper_records = {}\n",
    "\n",
    "for sample, sample_col in judge.iteritems():\n",
    "    hypo_dmr = sample_col[sample_col == 0].index\n",
    "    hyper_dmr = sample_col[sample_col == 1].index\n",
    "    \n",
    "    robust_mean_hypo_records[sample] = hypo_dmr\n",
    "    robust_mean_hyper_records[sample] = hyper_dmr"
   ]
  },
  {
   "cell_type": "markdown",
   "metadata": {
    "papermill": {
     "duration": 0.011817,
     "end_time": "2020-01-19T23:43:50.481960",
     "exception": false,
     "start_time": "2020-01-19T23:43:50.470143",
     "status": "completed"
    },
    "tags": []
   },
   "source": [
    "## Assign DMR to each sample"
   ]
  },
  {
   "cell_type": "code",
   "execution_count": 17,
   "metadata": {
    "ExecuteTime": {
     "end_time": "2020-01-19T23:51:30.280707Z",
     "start_time": "2020-01-19T23:51:29.669918Z"
    },
    "papermill": {
     "duration": 0.622548,
     "end_time": "2020-01-19T23:43:51.116244",
     "exception": false,
     "start_time": "2020-01-19T23:43:50.493696",
     "status": "completed"
    },
    "scrolled": true,
    "tags": []
   },
   "outputs": [
    {
     "name": "stdout",
     "output_type": "stream",
     "text": [
      "CT-L6_Il1rap\tHypoDMR \t10\n",
      "CT-L6_Il1rap\tHyperDMR\t13\n",
      "NP-L6_Cntnap5a\tHypoDMR \t17\n",
      "NP-L6_Cntnap5a\tHyperDMR\t24\n",
      "CGE-Lamp5_Sorcs1\tHypoDMR \t42\n",
      "CGE-Lamp5_Sorcs1\tHyperDMR\t7\n",
      "CGE-Vip_Grm8\tHypoDMR \t46\n",
      "CGE-Vip_Grm8\tHyperDMR\t5\n",
      "LSX-Inh_Dock10\tHypoDMR \t21\n",
      "LSX-Inh_Dock10\tHyperDMR\t14\n",
      "CGE-Vip_Ccser1\tHypoDMR \t48\n",
      "CGE-Vip_Ccser1\tHyperDMR\t11\n",
      "CGE-Vip_Ntng1\tHypoDMR \t34\n",
      "CGE-Vip_Ntng1\tHyperDMR\t4\n",
      "ASC_cortex-olf\tHypoDMR \t136\n",
      "ASC_cortex-olf\tHyperDMR\t2\n",
      "MGE-Sst_Chodl\tHypoDMR \t60\n",
      "MGE-Sst_Chodl\tHyperDMR\t5\n",
      "IT-L6_Oxr1\tHypoDMR \t35\n",
      "IT-L6_Oxr1\tHyperDMR\t11\n",
      "VLMC_Col4a1\tHypoDMR \t505\n",
      "VLMC_Col4a1\tHyperDMR\t5\n",
      "LSX-Inh_Lats2\tHypoDMR \t45\n",
      "LSX-Inh_Lats2\tHyperDMR\t8\n",
      "L6b_Kcnk2\tHypoDMR \t32\n",
      "L6b_Kcnk2\tHyperDMR\t27\n",
      "Chd7_Megf11\tHypoDMR \t72\n",
      "Chd7_Megf11\tHyperDMR\t4\n",
      "MGE-Sst_Bmper\tHypoDMR \t19\n",
      "MGE-Sst_Bmper\tHyperDMR\t32\n",
      "CT-L6_Megf9\tHypoDMR \t11\n",
      "CT-L6_Megf9\tHyperDMR\t17\n",
      "Chd7_Kcnc2\tHypoDMR \t62\n",
      "Chd7_Kcnc2\tHyperDMR\t4\n",
      "DG-po_Kctd8\tHypoDMR \t41\n",
      "DG-po_Kctd8\tHyperDMR\t6\n",
      "DG_dg-all\tHypoDMR \t36\n",
      "DG_dg-all\tHyperDMR\t3\n",
      "NP-L6_Cyp7b1\tHypoDMR \t20\n",
      "NP-L6_Cyp7b1\tHyperDMR\t26\n",
      "D1L-Fstl4_Crim1\tHypoDMR \t35\n",
      "D1L-Fstl4_Crim1\tHyperDMR\t14\n",
      "PT-L5_Tenm2\tHypoDMR \t27\n",
      "PT-L5_Tenm2\tHyperDMR\t17\n",
      "Unc5c_Unc5c\tHypoDMR \t50\n",
      "Unc5c_Unc5c\tHyperDMR\t7\n",
      "CGE-Lamp5_Grid1\tHypoDMR \t61\n",
      "CGE-Lamp5_Grid1\tHyperDMR\t5\n",
      "OLF-Exc_Pld5\tHypoDMR \t93\n",
      "OLF-Exc_Pld5\tHyperDMR\t3\n",
      "PT-L5_Tmtc2\tHypoDMR \t37\n",
      "PT-L5_Tmtc2\tHyperDMR\t16\n",
      "CLA_Cdh8\tHypoDMR \t18\n",
      "CLA_Cdh8\tHyperDMR\t9\n",
      "CA3-St18_Tead1\tHypoDMR \t42\n",
      "CA3-St18_Tead1\tHyperDMR\t22\n",
      "PAL-Inh_Meis2\tHypoDMR \t6\n",
      "PAL-Inh_Meis2\tHyperDMR\t19\n",
      "NP-L6_Boc\tHypoDMR \t17\n",
      "NP-L6_Boc\tHyperDMR\t17\n",
      "IT-L23_Foxp1\tHypoDMR \t29\n",
      "IT-L23_Foxp1\tHyperDMR\t3\n",
      "MGC_mgc-all\tHypoDMR \t419\n",
      "MGC_mgc-all\tHyperDMR\t10\n",
      "Chd7_Trpc7\tHypoDMR \t78\n",
      "Chd7_Trpc7\tHyperDMR\t6\n",
      "LSX-Inh_Nxph1\tHypoDMR \t12\n",
      "LSX-Inh_Nxph1\tHyperDMR\t28\n",
      "CA3-St18_Nuak1\tHypoDMR \t41\n",
      "CA3-St18_Nuak1\tHyperDMR\t10\n",
      "Gfra1_Gfra1\tHypoDMR \t51\n",
      "Gfra1_Gfra1\tHyperDMR\t9\n",
      "MSN-D2_Nrp2\tHypoDMR \t34\n",
      "MSN-D2_Nrp2\tHyperDMR\t6\n",
      "PT-L5_Kcnh1\tHypoDMR \t29\n",
      "PT-L5_Kcnh1\tHyperDMR\t16\n",
      "LSX-Inh_Zeb2\tHypoDMR \t42\n",
      "LSX-Inh_Zeb2\tHyperDMR\t22\n",
      "DG-po_Bcl11a\tHypoDMR \t49\n",
      "DG-po_Bcl11a\tHyperDMR\t1\n",
      "L6b_Nrp2\tHypoDMR \t8\n",
      "L6b_Nrp2\tHyperDMR\t69\n",
      "PAL-Inh_Tmem178\tHypoDMR \t6\n",
      "PAL-Inh_Tmem178\tHyperDMR\t45\n",
      "PAL-Inh_Tcf7l2\tHypoDMR \t32\n",
      "PAL-Inh_Tcf7l2\tHyperDMR\t24\n",
      "CT-L6_Hcrtr2\tHypoDMR \t8\n",
      "CT-L6_Hcrtr2\tHyperDMR\t8\n",
      "OLF-Exc_Cdh9\tHypoDMR \t16\n",
      "OLF-Exc_Cdh9\tHyperDMR\t27\n",
      "PT-L5_Abca12\tHypoDMR \t36\n",
      "PT-L5_Abca12\tHyperDMR\t18\n",
      "MSN-D1_Plxnc1\tHypoDMR \t41\n",
      "MSN-D1_Plxnc1\tHyperDMR\t4\n",
      "D1L-Fstl4_Sipa1l2\tHypoDMR \t18\n",
      "D1L-Fstl4_Sipa1l2\tHyperDMR\t5\n",
      "PAL-Inh_Chat\tHypoDMR \t42\n",
      "PAL-Inh_Chat\tHyperDMR\t24\n",
      "PT-L5_Unc5b\tHypoDMR \t40\n",
      "PT-L5_Unc5b\tHyperDMR\t24\n",
      "CLA_Nrp2\tHypoDMR \t18\n",
      "CLA_Nrp2\tHyperDMR\t26\n",
      "MGE-Pvalb_Ptprk\tHypoDMR \t26\n",
      "MGE-Pvalb_Ptprk\tHyperDMR\t5\n",
      "NP-L6_Cntnap4\tHypoDMR \t18\n",
      "NP-L6_Cntnap4\tHyperDMR\t15\n",
      "ODC_odc-small\tHypoDMR \t348\n",
      "ODC_odc-small\tHyperDMR\t1\n",
      "IG-CA2_Chrm3\tHypoDMR \t37\n",
      "IG-CA2_Chrm3\tHyperDMR\t17\n",
      "CGE-Vip_Clstn2\tHypoDMR \t42\n",
      "CGE-Vip_Clstn2\tHyperDMR\t12\n",
      "PAL-Inh_Deptor\tHypoDMR \t35\n",
      "PAL-Inh_Deptor\tHyperDMR\t6\n",
      "OLF_Trpc4\tHypoDMR \t42\n",
      "OLF_Trpc4\tHyperDMR\t3\n",
      "MGE-Pvalb_Entpd3\tHypoDMR \t41\n",
      "MGE-Pvalb_Entpd3\tHyperDMR\t10\n",
      "OLF_Pag1\tHypoDMR \t53\n",
      "OLF_Pag1\tHyperDMR\t1\n",
      "EP_Tspan5\tHypoDMR \t15\n",
      "EP_Tspan5\tHyperDMR\t26\n",
      "CA3_Efnb2\tHypoDMR \t57\n",
      "CA3_Efnb2\tHyperDMR\t3\n",
      "CA3_Cadm2\tHypoDMR \t28\n",
      "CA3_Cadm2\tHyperDMR\t8\n",
      "CA1_Chrm3\tHypoDMR \t41\n",
      "CA1_Chrm3\tHyperDMR\t12\n",
      "MGE-Sst_Ubtd1\tHypoDMR \t22\n",
      "MGE-Sst_Ubtd1\tHyperDMR\t17\n",
      "PT-L5_Plcb4\tHypoDMR \t32\n",
      "PT-L5_Plcb4\tHyperDMR\t24\n",
      "CA1_Kif26a\tHypoDMR \t34\n",
      "CA1_Kif26a\tHyperDMR\t13\n",
      "EP_Adcy8\tHypoDMR \t22\n",
      "EP_Adcy8\tHyperDMR\t26\n",
      "MGE-Pvalb_Thsd7a\tHypoDMR \t33\n",
      "MGE-Pvalb_Thsd7a\tHyperDMR\t5\n",
      "MSN-D2_Slc24a2\tHypoDMR \t44\n",
      "MSN-D2_Slc24a2\tHyperDMR\t6\n",
      "MGE-Sst_Kcnip4\tHypoDMR \t22\n",
      "MGE-Sst_Kcnip4\tHyperDMR\t18\n",
      "MGE-Sst_Rxra\tHypoDMR \t32\n",
      "MGE-Sst_Rxra\tHyperDMR\t6\n",
      "LSX-Inh_Foxp2\tHypoDMR \t37\n",
      "LSX-Inh_Foxp2\tHyperDMR\t19\n",
      "PAL-Inh_Onecut2\tHypoDMR \t14\n",
      "PAL-Inh_Onecut2\tHyperDMR\t56\n",
      "LSX-Inh_Enox1\tHypoDMR \t33\n",
      "LSX-Inh_Enox1\tHyperDMR\t12\n",
      "CA1_Ptprg\tHypoDMR \t35\n",
      "CA1_Ptprg\tHyperDMR\t6\n",
      "CGE-Vip_Ptprm\tHypoDMR \t16\n",
      "CGE-Vip_Ptprm\tHyperDMR\t14\n",
      "OPC_opc-small\tHypoDMR \t331\n",
      "OPC_opc-small\tHyperDMR\t1\n",
      "L6b_Adcy8\tHypoDMR \t11\n",
      "L6b_Adcy8\tHyperDMR\t47\n",
      "OLF_Gabbr2\tHypoDMR \t51\n",
      "OLF_Gabbr2\tHyperDMR\t3\n",
      "IT-L23_Tenm2\tHypoDMR \t31\n",
      "IT-L23_Tenm2\tHyperDMR\t2\n",
      "PAL-Inh_Igdcc3\tHypoDMR \t29\n",
      "PAL-Inh_Igdcc3\tHyperDMR\t17\n",
      "MSN-D2_Casz1\tHypoDMR \t36\n",
      "MSN-D2_Casz1\tHyperDMR\t11\n",
      "IT-L5_Etv1\tHypoDMR \t25\n",
      "IT-L5_Etv1\tHyperDMR\t6\n",
      "CA1_Lingo2\tHypoDMR \t48\n",
      "CA1_Lingo2\tHyperDMR\t1\n",
      "PT-L5_Nectin1\tHypoDMR \t49\n",
      "PT-L5_Nectin1\tHyperDMR\t21\n",
      "D1L-Fstl4_Grm3\tHypoDMR \t52\n",
      "D1L-Fstl4_Grm3\tHyperDMR\t7\n",
      "PT-L5_Astn2\tHypoDMR \t31\n",
      "PT-L5_Astn2\tHyperDMR\t7\n",
      "MGE-Sst_Dock4\tHypoDMR \t14\n",
      "MGE-Sst_Dock4\tHyperDMR\t18\n",
      "IT-L23_Ptprt\tHypoDMR \t26\n",
      "IT-L23_Ptprt\tHyperDMR\t9\n",
      "MSN-D2_Col14a1\tHypoDMR \t27\n",
      "MSN-D2_Col14a1\tHyperDMR\t9\n",
      "OLF-Exc_Unc13c\tHypoDMR \t24\n",
      "OLF-Exc_Unc13c\tHyperDMR\t3\n",
      "CT-L6_Map4\tHypoDMR \t10\n",
      "CT-L6_Map4\tHyperDMR\t10\n",
      "IG-CA2_Xpr1\tHypoDMR \t30\n",
      "IG-CA2_Xpr1\tHyperDMR\t17\n",
      "VLMC_Mapk4\tHypoDMR \t269\n",
      "VLMC_Mapk4\tHyperDMR\t4\n",
      "ANP_anp-olf-cnu\tHypoDMR \t82\n",
      "ANP_anp-olf-cnu\tHyperDMR\t7\n",
      "CLA_Bcl11a\tHypoDMR \t38\n",
      "CLA_Bcl11a\tHyperDMR\t6\n",
      "IT-L23_Cux1\tHypoDMR \t35\n",
      "IT-L23_Cux1\tHyperDMR\t2\n",
      "CGE-Lamp5_Nrxn3\tHypoDMR \t62\n",
      "CGE-Lamp5_Nrxn3\tHyperDMR\t4\n",
      "EC_Sema3g\tHypoDMR \t40\n",
      "EC_Sema3g\tHyperDMR\t0\n",
      "MGE-Sst_Rerg\tHypoDMR \t40\n",
      "MGE-Sst_Rerg\tHyperDMR\t16\n",
      "DG-po_Calb2\tHypoDMR \t42\n",
      "DG-po_Calb2\tHyperDMR\t2\n",
      "MSN-D1_Ntn1\tHypoDMR \t67\n",
      "MSN-D1_Ntn1\tHyperDMR\t9\n",
      "MSN-D1_Hrh1\tHypoDMR \t34\n",
      "MSN-D1_Hrh1\tHyperDMR\t5\n",
      "MGE-Sst_Ptpre\tHypoDMR \t38\n",
      "MGE-Sst_Ptpre\tHyperDMR\t11\n",
      "MGE-Sst_Frmd6\tHypoDMR \t24\n",
      "MGE-Sst_Frmd6\tHyperDMR\t8\n",
      "MGE-Pvalb_Gfra2\tHypoDMR \t20\n",
      "MGE-Pvalb_Gfra2\tHyperDMR\t21\n",
      "EP_Rgs8\tHypoDMR \t16\n",
      "EP_Rgs8\tHyperDMR\t31\n",
      "D1L-PAL_Flrt2\tHypoDMR \t92\n",
      "D1L-PAL_Flrt2\tHyperDMR\t3\n",
      "VLMC-Pia_vlmc-pia-all\tHypoDMR \t273\n",
      "VLMC-Pia_vlmc-pia-all\tHyperDMR\t4\n",
      "IT-L6_Man1c1\tHypoDMR \t12\n",
      "IT-L6_Man1c1\tHyperDMR\t14\n",
      "OLF-Exc_Sgcd\tHypoDMR \t14\n",
      "OLF-Exc_Sgcd\tHyperDMR\t15\n",
      "OLF-Exc_Lrrtm3\tHypoDMR \t20\n",
      "OLF-Exc_Lrrtm3\tHyperDMR\t1\n",
      "IT-L5_Grik3\tHypoDMR \t24\n",
      "IT-L5_Grik3\tHyperDMR\t9\n",
      "Foxp2_Homer2\tHypoDMR \t30\n",
      "Foxp2_Homer2\tHyperDMR\t10\n",
      "IT-L6_Fstl4\tHypoDMR \t19\n",
      "IT-L6_Fstl4\tHyperDMR\t8\n",
      "MGE-Sst_Etv1\tHypoDMR \t33\n",
      "MGE-Sst_Etv1\tHyperDMR\t7\n",
      "D1L-Fstl4_Trps1\tHypoDMR \t50\n",
      "D1L-Fstl4_Trps1\tHyperDMR\t11\n",
      "MSN-D1_Khdrbs3\tHypoDMR \t28\n",
      "MSN-D1_Khdrbs3\tHyperDMR\t11\n",
      "MGE-Sst_Unc5b\tHypoDMR \t60\n",
      "MGE-Sst_Unc5b\tHyperDMR\t3\n",
      "IT-L6_Cadps2\tHypoDMR \t16\n",
      "IT-L6_Cadps2\tHyperDMR\t12\n",
      "LSX-Inh_Cacna1i\tHypoDMR \t18\n",
      "LSX-Inh_Cacna1i\tHyperDMR\t24\n",
      "Foxp2_Inpp4b\tHypoDMR \t42\n",
      "Foxp2_Inpp4b\tHyperDMR\t4\n",
      "NP-L6_Olfml2b\tHypoDMR \t10\n",
      "NP-L6_Olfml2b\tHyperDMR\t12\n",
      "MGE-Pvalb_Sema5a\tHypoDMR \t36\n",
      "MGE-Pvalb_Sema5a\tHyperDMR\t7\n",
      "MGE-Pvalb_Cnih3\tHypoDMR \t24\n",
      "MGE-Pvalb_Cnih3\tHyperDMR\t12\n",
      "Foxp2_Dchs2\tHypoDMR \t22\n",
      "Foxp2_Dchs2\tHyperDMR\t6\n",
      "ASC_str-hpf\tHypoDMR \t88\n",
      "ASC_str-hpf\tHyperDMR\t3\n",
      "CGE-Vip_Robo1\tHypoDMR \t39\n",
      "CGE-Vip_Robo1\tHyperDMR\t7\n",
      "OLF_Kcnd3\tHypoDMR \t54\n",
      "OLF_Kcnd3\tHyperDMR\t4\n",
      "CA3-St18_Epha5\tHypoDMR \t41\n",
      "CA3-St18_Epha5\tHyperDMR\t15\n",
      "PT-L5_Ptprt\tHypoDMR \t24\n",
      "PT-L5_Ptprt\tHyperDMR\t18\n",
      "CA1_Ak5\tHypoDMR \t28\n",
      "CA1_Ak5\tHyperDMR\t7\n",
      "CGE-Vip_Fstl4\tHypoDMR \t48\n",
      "CGE-Vip_Fstl4\tHyperDMR\t1\n",
      "IT-L4_Astn2\tHypoDMR \t27\n",
      "IT-L4_Astn2\tHyperDMR\t5\n",
      "OLF-Exc_Cux2\tHypoDMR \t8\n",
      "OLF-Exc_Cux2\tHyperDMR\t24\n",
      "CGE-Lamp5_Dock5\tHypoDMR \t64\n",
      "CGE-Lamp5_Dock5\tHyperDMR\t5\n",
      "ASC_mid\tHypoDMR \t126\n",
      "ASC_mid\tHyperDMR\t5\n",
      "PAL-Inh_Meis1\tHypoDMR \t20\n",
      "PAL-Inh_Meis1\tHyperDMR\t43\n",
      "PAL-Inh_Ptprd\tHypoDMR \t30\n",
      "PAL-Inh_Ptprd\tHyperDMR\t9\n",
      "CGE-Vip_Galnt17\tHypoDMR \t24\n",
      "CGE-Vip_Galnt17\tHyperDMR\t7\n",
      "EC_Abhd2\tHypoDMR \t294\n",
      "EC_Abhd2\tHyperDMR\t2\n",
      "ODC_odc-large\tHypoDMR \t624\n",
      "ODC_odc-large\tHyperDMR\t1\n",
      "PAL-Inh_Rarb\tHypoDMR \t34\n",
      "PAL-Inh_Rarb\tHyperDMR\t11\n",
      "OLF-Exc_Rmst\tHypoDMR \t3\n",
      "OLF-Exc_Rmst\tHyperDMR\t56\n",
      "OPC_opc-large\tHypoDMR \t763\n",
      "OPC_opc-large\tHyperDMR\t1\n",
      "NP-L6_Kcnab1\tHypoDMR \t14\n",
      "NP-L6_Kcnab1\tHyperDMR\t19\n",
      "PC_pc-all\tHypoDMR \t844\n",
      "PC_pc-all\tHyperDMR\t3\n",
      "MGE-Pvalb_Cacna1i\tHypoDMR \t48\n",
      "MGE-Pvalb_Cacna1i\tHyperDMR\t10\n",
      "OLF-Exc_Bmpr1b\tHypoDMR \t28\n",
      "OLF-Exc_Bmpr1b\tHyperDMR\t11\n",
      "OLF_Mapk10\tHypoDMR \t55\n",
      "OLF_Mapk10\tHyperDMR\t1\n",
      "Foxp2_Trpc7\tHypoDMR \t32\n",
      "Foxp2_Trpc7\tHyperDMR\t4\n",
      "CGE-Lamp5_Grk5\tHypoDMR \t34\n",
      "CGE-Lamp5_Grk5\tHyperDMR\t3\n",
      "IT-L5_Cdh8\tHypoDMR \t30\n",
      "IT-L5_Cdh8\tHyperDMR\t10\n",
      "IG-CA2_Peak1\tHypoDMR \t59\n",
      "IG-CA2_Peak1\tHyperDMR\t12\n",
      "ANP_anp-dg\tHypoDMR \t99\n",
      "ANP_anp-dg\tHyperDMR\t1\n",
      "OLF_Xkr6\tHypoDMR \t29\n",
      "OLF_Xkr6\tHyperDMR\t8\n",
      "D1L-Fstl4_Cadm1\tHypoDMR \t59\n",
      "D1L-Fstl4_Cadm1\tHyperDMR\t5\n",
      "IT-L4_Shc3\tHypoDMR \t25\n",
      "IT-L4_Shc3\tHyperDMR\t2\n",
      "D1L-PAL_Plcxd3\tHypoDMR \t104\n",
      "D1L-PAL_Plcxd3\tHyperDMR\t5\n",
      "L6b_Pkhd1\tHypoDMR \t22\n",
      "L6b_Pkhd1\tHyperDMR\t4\n"
     ]
    }
   ],
   "source": [
    "# parse results and add the robust mean judge\n",
    "for sample in samples:\n",
    "    # here saved a list of np.array\n",
    "    hypo_index = dmr_df[dmr_df['hypomethylated_samples'].fillna('').apply(lambda i: sample in i)].index\n",
    "    hyper_index = dmr_df[dmr_df['hypermethylated_samples'].fillna('').apply(lambda i: sample in i)].index\n",
    "    hypo_sig_dict[sample] = hypo_index & robust_mean_hypo_records[sample]\n",
    "    hyper_sig_dict[sample] = hyper_index & robust_mean_hyper_records[sample]\n",
    "    print(sample, 'HypoDMR ', hypo_sig_dict[sample].size, sep='\\t')\n",
    "    print(sample, 'HyperDMR', hyper_sig_dict[sample].size, sep='\\t')\n"
   ]
  },
  {
   "cell_type": "code",
   "execution_count": 18,
   "metadata": {
    "ExecuteTime": {
     "end_time": "2020-01-19T23:51:39.755045Z",
     "start_time": "2020-01-19T23:51:38.507956Z"
    },
    "papermill": {
     "duration": 1.06277,
     "end_time": "2020-01-19T23:43:52.193672",
     "exception": false,
     "start_time": "2020-01-19T23:43:51.130902",
     "status": "completed"
    },
    "tags": []
   },
   "outputs": [
    {
     "name": "stderr",
     "output_type": "stream",
     "text": [
      "/home/hanliu/miniconda3/envs/clustering/lib/python3.7/site-packages/tables/path.py:157: NaturalNameWarning: object name is not a valid Python identifier: 'CT-L6_Il1rap'; it does not match the pattern ``^[a-zA-Z_][a-zA-Z0-9_]*$``; you will not be able to use natural naming to access this object; using ``getattr()`` will still work, though\n",
      "  check_attribute_name(name)\n",
      "/home/hanliu/miniconda3/envs/clustering/lib/python3.7/site-packages/tables/path.py:157: NaturalNameWarning: object name is not a valid Python identifier: 'NP-L6_Cntnap5a'; it does not match the pattern ``^[a-zA-Z_][a-zA-Z0-9_]*$``; you will not be able to use natural naming to access this object; using ``getattr()`` will still work, though\n",
      "  check_attribute_name(name)\n",
      "/home/hanliu/miniconda3/envs/clustering/lib/python3.7/site-packages/tables/path.py:157: NaturalNameWarning: object name is not a valid Python identifier: 'CGE-Lamp5_Sorcs1'; it does not match the pattern ``^[a-zA-Z_][a-zA-Z0-9_]*$``; you will not be able to use natural naming to access this object; using ``getattr()`` will still work, though\n",
      "  check_attribute_name(name)\n",
      "/home/hanliu/miniconda3/envs/clustering/lib/python3.7/site-packages/tables/path.py:157: NaturalNameWarning: object name is not a valid Python identifier: 'CGE-Vip_Grm8'; it does not match the pattern ``^[a-zA-Z_][a-zA-Z0-9_]*$``; you will not be able to use natural naming to access this object; using ``getattr()`` will still work, though\n",
      "  check_attribute_name(name)\n",
      "/home/hanliu/miniconda3/envs/clustering/lib/python3.7/site-packages/tables/path.py:157: NaturalNameWarning: object name is not a valid Python identifier: 'LSX-Inh_Dock10'; it does not match the pattern ``^[a-zA-Z_][a-zA-Z0-9_]*$``; you will not be able to use natural naming to access this object; using ``getattr()`` will still work, though\n",
      "  check_attribute_name(name)\n",
      "/home/hanliu/miniconda3/envs/clustering/lib/python3.7/site-packages/tables/path.py:157: NaturalNameWarning: object name is not a valid Python identifier: 'CGE-Vip_Ccser1'; it does not match the pattern ``^[a-zA-Z_][a-zA-Z0-9_]*$``; you will not be able to use natural naming to access this object; using ``getattr()`` will still work, though\n",
      "  check_attribute_name(name)\n",
      "/home/hanliu/miniconda3/envs/clustering/lib/python3.7/site-packages/tables/path.py:157: NaturalNameWarning: object name is not a valid Python identifier: 'CGE-Vip_Ntng1'; it does not match the pattern ``^[a-zA-Z_][a-zA-Z0-9_]*$``; you will not be able to use natural naming to access this object; using ``getattr()`` will still work, though\n",
      "  check_attribute_name(name)\n",
      "/home/hanliu/miniconda3/envs/clustering/lib/python3.7/site-packages/tables/path.py:157: NaturalNameWarning: object name is not a valid Python identifier: 'ASC_cortex-olf'; it does not match the pattern ``^[a-zA-Z_][a-zA-Z0-9_]*$``; you will not be able to use natural naming to access this object; using ``getattr()`` will still work, though\n",
      "  check_attribute_name(name)\n",
      "/home/hanliu/miniconda3/envs/clustering/lib/python3.7/site-packages/tables/path.py:157: NaturalNameWarning: object name is not a valid Python identifier: 'MGE-Sst_Chodl'; it does not match the pattern ``^[a-zA-Z_][a-zA-Z0-9_]*$``; you will not be able to use natural naming to access this object; using ``getattr()`` will still work, though\n",
      "  check_attribute_name(name)\n",
      "/home/hanliu/miniconda3/envs/clustering/lib/python3.7/site-packages/tables/path.py:157: NaturalNameWarning: object name is not a valid Python identifier: 'IT-L6_Oxr1'; it does not match the pattern ``^[a-zA-Z_][a-zA-Z0-9_]*$``; you will not be able to use natural naming to access this object; using ``getattr()`` will still work, though\n",
      "  check_attribute_name(name)\n",
      "/home/hanliu/miniconda3/envs/clustering/lib/python3.7/site-packages/tables/path.py:157: NaturalNameWarning: object name is not a valid Python identifier: 'LSX-Inh_Lats2'; it does not match the pattern ``^[a-zA-Z_][a-zA-Z0-9_]*$``; you will not be able to use natural naming to access this object; using ``getattr()`` will still work, though\n",
      "  check_attribute_name(name)\n",
      "/home/hanliu/miniconda3/envs/clustering/lib/python3.7/site-packages/tables/path.py:157: NaturalNameWarning: object name is not a valid Python identifier: 'MGE-Sst_Bmper'; it does not match the pattern ``^[a-zA-Z_][a-zA-Z0-9_]*$``; you will not be able to use natural naming to access this object; using ``getattr()`` will still work, though\n",
      "  check_attribute_name(name)\n",
      "/home/hanliu/miniconda3/envs/clustering/lib/python3.7/site-packages/tables/path.py:157: NaturalNameWarning: object name is not a valid Python identifier: 'CT-L6_Megf9'; it does not match the pattern ``^[a-zA-Z_][a-zA-Z0-9_]*$``; you will not be able to use natural naming to access this object; using ``getattr()`` will still work, though\n",
      "  check_attribute_name(name)\n",
      "/home/hanliu/miniconda3/envs/clustering/lib/python3.7/site-packages/tables/path.py:157: NaturalNameWarning: object name is not a valid Python identifier: 'DG-po_Kctd8'; it does not match the pattern ``^[a-zA-Z_][a-zA-Z0-9_]*$``; you will not be able to use natural naming to access this object; using ``getattr()`` will still work, though\n",
      "  check_attribute_name(name)\n",
      "/home/hanliu/miniconda3/envs/clustering/lib/python3.7/site-packages/tables/path.py:157: NaturalNameWarning: object name is not a valid Python identifier: 'DG_dg-all'; it does not match the pattern ``^[a-zA-Z_][a-zA-Z0-9_]*$``; you will not be able to use natural naming to access this object; using ``getattr()`` will still work, though\n",
      "  check_attribute_name(name)\n",
      "/home/hanliu/miniconda3/envs/clustering/lib/python3.7/site-packages/tables/path.py:157: NaturalNameWarning: object name is not a valid Python identifier: 'NP-L6_Cyp7b1'; it does not match the pattern ``^[a-zA-Z_][a-zA-Z0-9_]*$``; you will not be able to use natural naming to access this object; using ``getattr()`` will still work, though\n",
      "  check_attribute_name(name)\n",
      "/home/hanliu/miniconda3/envs/clustering/lib/python3.7/site-packages/tables/path.py:157: NaturalNameWarning: object name is not a valid Python identifier: 'D1L-Fstl4_Crim1'; it does not match the pattern ``^[a-zA-Z_][a-zA-Z0-9_]*$``; you will not be able to use natural naming to access this object; using ``getattr()`` will still work, though\n",
      "  check_attribute_name(name)\n",
      "/home/hanliu/miniconda3/envs/clustering/lib/python3.7/site-packages/tables/path.py:157: NaturalNameWarning: object name is not a valid Python identifier: 'PT-L5_Tenm2'; it does not match the pattern ``^[a-zA-Z_][a-zA-Z0-9_]*$``; you will not be able to use natural naming to access this object; using ``getattr()`` will still work, though\n",
      "  check_attribute_name(name)\n",
      "/home/hanliu/miniconda3/envs/clustering/lib/python3.7/site-packages/tables/path.py:157: NaturalNameWarning: object name is not a valid Python identifier: 'CGE-Lamp5_Grid1'; it does not match the pattern ``^[a-zA-Z_][a-zA-Z0-9_]*$``; you will not be able to use natural naming to access this object; using ``getattr()`` will still work, though\n",
      "  check_attribute_name(name)\n",
      "/home/hanliu/miniconda3/envs/clustering/lib/python3.7/site-packages/tables/path.py:157: NaturalNameWarning: object name is not a valid Python identifier: 'OLF-Exc_Pld5'; it does not match the pattern ``^[a-zA-Z_][a-zA-Z0-9_]*$``; you will not be able to use natural naming to access this object; using ``getattr()`` will still work, though\n",
      "  check_attribute_name(name)\n",
      "/home/hanliu/miniconda3/envs/clustering/lib/python3.7/site-packages/tables/path.py:157: NaturalNameWarning: object name is not a valid Python identifier: 'PT-L5_Tmtc2'; it does not match the pattern ``^[a-zA-Z_][a-zA-Z0-9_]*$``; you will not be able to use natural naming to access this object; using ``getattr()`` will still work, though\n",
      "  check_attribute_name(name)\n",
      "/home/hanliu/miniconda3/envs/clustering/lib/python3.7/site-packages/tables/path.py:157: NaturalNameWarning: object name is not a valid Python identifier: 'CA3-St18_Tead1'; it does not match the pattern ``^[a-zA-Z_][a-zA-Z0-9_]*$``; you will not be able to use natural naming to access this object; using ``getattr()`` will still work, though\n",
      "  check_attribute_name(name)\n",
      "/home/hanliu/miniconda3/envs/clustering/lib/python3.7/site-packages/tables/path.py:157: NaturalNameWarning: object name is not a valid Python identifier: 'PAL-Inh_Meis2'; it does not match the pattern ``^[a-zA-Z_][a-zA-Z0-9_]*$``; you will not be able to use natural naming to access this object; using ``getattr()`` will still work, though\n",
      "  check_attribute_name(name)\n",
      "/home/hanliu/miniconda3/envs/clustering/lib/python3.7/site-packages/tables/path.py:157: NaturalNameWarning: object name is not a valid Python identifier: 'NP-L6_Boc'; it does not match the pattern ``^[a-zA-Z_][a-zA-Z0-9_]*$``; you will not be able to use natural naming to access this object; using ``getattr()`` will still work, though\n",
      "  check_attribute_name(name)\n",
      "/home/hanliu/miniconda3/envs/clustering/lib/python3.7/site-packages/tables/path.py:157: NaturalNameWarning: object name is not a valid Python identifier: 'IT-L23_Foxp1'; it does not match the pattern ``^[a-zA-Z_][a-zA-Z0-9_]*$``; you will not be able to use natural naming to access this object; using ``getattr()`` will still work, though\n",
      "  check_attribute_name(name)\n",
      "/home/hanliu/miniconda3/envs/clustering/lib/python3.7/site-packages/tables/path.py:157: NaturalNameWarning: object name is not a valid Python identifier: 'MGC_mgc-all'; it does not match the pattern ``^[a-zA-Z_][a-zA-Z0-9_]*$``; you will not be able to use natural naming to access this object; using ``getattr()`` will still work, though\n",
      "  check_attribute_name(name)\n",
      "/home/hanliu/miniconda3/envs/clustering/lib/python3.7/site-packages/tables/path.py:157: NaturalNameWarning: object name is not a valid Python identifier: 'LSX-Inh_Nxph1'; it does not match the pattern ``^[a-zA-Z_][a-zA-Z0-9_]*$``; you will not be able to use natural naming to access this object; using ``getattr()`` will still work, though\n",
      "  check_attribute_name(name)\n",
      "/home/hanliu/miniconda3/envs/clustering/lib/python3.7/site-packages/tables/path.py:157: NaturalNameWarning: object name is not a valid Python identifier: 'CA3-St18_Nuak1'; it does not match the pattern ``^[a-zA-Z_][a-zA-Z0-9_]*$``; you will not be able to use natural naming to access this object; using ``getattr()`` will still work, though\n",
      "  check_attribute_name(name)\n",
      "/home/hanliu/miniconda3/envs/clustering/lib/python3.7/site-packages/tables/path.py:157: NaturalNameWarning: object name is not a valid Python identifier: 'MSN-D2_Nrp2'; it does not match the pattern ``^[a-zA-Z_][a-zA-Z0-9_]*$``; you will not be able to use natural naming to access this object; using ``getattr()`` will still work, though\n",
      "  check_attribute_name(name)\n",
      "/home/hanliu/miniconda3/envs/clustering/lib/python3.7/site-packages/tables/path.py:157: NaturalNameWarning: object name is not a valid Python identifier: 'PT-L5_Kcnh1'; it does not match the pattern ``^[a-zA-Z_][a-zA-Z0-9_]*$``; you will not be able to use natural naming to access this object; using ``getattr()`` will still work, though\n",
      "  check_attribute_name(name)\n",
      "/home/hanliu/miniconda3/envs/clustering/lib/python3.7/site-packages/tables/path.py:157: NaturalNameWarning: object name is not a valid Python identifier: 'LSX-Inh_Zeb2'; it does not match the pattern ``^[a-zA-Z_][a-zA-Z0-9_]*$``; you will not be able to use natural naming to access this object; using ``getattr()`` will still work, though\n",
      "  check_attribute_name(name)\n",
      "/home/hanliu/miniconda3/envs/clustering/lib/python3.7/site-packages/tables/path.py:157: NaturalNameWarning: object name is not a valid Python identifier: 'DG-po_Bcl11a'; it does not match the pattern ``^[a-zA-Z_][a-zA-Z0-9_]*$``; you will not be able to use natural naming to access this object; using ``getattr()`` will still work, though\n",
      "  check_attribute_name(name)\n",
      "/home/hanliu/miniconda3/envs/clustering/lib/python3.7/site-packages/tables/path.py:157: NaturalNameWarning: object name is not a valid Python identifier: 'PAL-Inh_Tmem178'; it does not match the pattern ``^[a-zA-Z_][a-zA-Z0-9_]*$``; you will not be able to use natural naming to access this object; using ``getattr()`` will still work, though\n",
      "  check_attribute_name(name)\n",
      "/home/hanliu/miniconda3/envs/clustering/lib/python3.7/site-packages/tables/path.py:157: NaturalNameWarning: object name is not a valid Python identifier: 'PAL-Inh_Tcf7l2'; it does not match the pattern ``^[a-zA-Z_][a-zA-Z0-9_]*$``; you will not be able to use natural naming to access this object; using ``getattr()`` will still work, though\n",
      "  check_attribute_name(name)\n",
      "/home/hanliu/miniconda3/envs/clustering/lib/python3.7/site-packages/tables/path.py:157: NaturalNameWarning: object name is not a valid Python identifier: 'CT-L6_Hcrtr2'; it does not match the pattern ``^[a-zA-Z_][a-zA-Z0-9_]*$``; you will not be able to use natural naming to access this object; using ``getattr()`` will still work, though\n",
      "  check_attribute_name(name)\n",
      "/home/hanliu/miniconda3/envs/clustering/lib/python3.7/site-packages/tables/path.py:157: NaturalNameWarning: object name is not a valid Python identifier: 'OLF-Exc_Cdh9'; it does not match the pattern ``^[a-zA-Z_][a-zA-Z0-9_]*$``; you will not be able to use natural naming to access this object; using ``getattr()`` will still work, though\n",
      "  check_attribute_name(name)\n",
      "/home/hanliu/miniconda3/envs/clustering/lib/python3.7/site-packages/tables/path.py:157: NaturalNameWarning: object name is not a valid Python identifier: 'PT-L5_Abca12'; it does not match the pattern ``^[a-zA-Z_][a-zA-Z0-9_]*$``; you will not be able to use natural naming to access this object; using ``getattr()`` will still work, though\n",
      "  check_attribute_name(name)\n",
      "/home/hanliu/miniconda3/envs/clustering/lib/python3.7/site-packages/tables/path.py:157: NaturalNameWarning: object name is not a valid Python identifier: 'MSN-D1_Plxnc1'; it does not match the pattern ``^[a-zA-Z_][a-zA-Z0-9_]*$``; you will not be able to use natural naming to access this object; using ``getattr()`` will still work, though\n",
      "  check_attribute_name(name)\n",
      "/home/hanliu/miniconda3/envs/clustering/lib/python3.7/site-packages/tables/path.py:157: NaturalNameWarning: object name is not a valid Python identifier: 'D1L-Fstl4_Sipa1l2'; it does not match the pattern ``^[a-zA-Z_][a-zA-Z0-9_]*$``; you will not be able to use natural naming to access this object; using ``getattr()`` will still work, though\n",
      "  check_attribute_name(name)\n",
      "/home/hanliu/miniconda3/envs/clustering/lib/python3.7/site-packages/tables/path.py:157: NaturalNameWarning: object name is not a valid Python identifier: 'PAL-Inh_Chat'; it does not match the pattern ``^[a-zA-Z_][a-zA-Z0-9_]*$``; you will not be able to use natural naming to access this object; using ``getattr()`` will still work, though\n",
      "  check_attribute_name(name)\n",
      "/home/hanliu/miniconda3/envs/clustering/lib/python3.7/site-packages/tables/path.py:157: NaturalNameWarning: object name is not a valid Python identifier: 'PT-L5_Unc5b'; it does not match the pattern ``^[a-zA-Z_][a-zA-Z0-9_]*$``; you will not be able to use natural naming to access this object; using ``getattr()`` will still work, though\n",
      "  check_attribute_name(name)\n",
      "/home/hanliu/miniconda3/envs/clustering/lib/python3.7/site-packages/tables/path.py:157: NaturalNameWarning: object name is not a valid Python identifier: 'MGE-Pvalb_Ptprk'; it does not match the pattern ``^[a-zA-Z_][a-zA-Z0-9_]*$``; you will not be able to use natural naming to access this object; using ``getattr()`` will still work, though\n",
      "  check_attribute_name(name)\n",
      "/home/hanliu/miniconda3/envs/clustering/lib/python3.7/site-packages/tables/path.py:157: NaturalNameWarning: object name is not a valid Python identifier: 'NP-L6_Cntnap4'; it does not match the pattern ``^[a-zA-Z_][a-zA-Z0-9_]*$``; you will not be able to use natural naming to access this object; using ``getattr()`` will still work, though\n",
      "  check_attribute_name(name)\n",
      "/home/hanliu/miniconda3/envs/clustering/lib/python3.7/site-packages/tables/path.py:157: NaturalNameWarning: object name is not a valid Python identifier: 'ODC_odc-small'; it does not match the pattern ``^[a-zA-Z_][a-zA-Z0-9_]*$``; you will not be able to use natural naming to access this object; using ``getattr()`` will still work, though\n",
      "  check_attribute_name(name)\n",
      "/home/hanliu/miniconda3/envs/clustering/lib/python3.7/site-packages/tables/path.py:157: NaturalNameWarning: object name is not a valid Python identifier: 'IG-CA2_Chrm3'; it does not match the pattern ``^[a-zA-Z_][a-zA-Z0-9_]*$``; you will not be able to use natural naming to access this object; using ``getattr()`` will still work, though\n",
      "  check_attribute_name(name)\n"
     ]
    },
    {
     "name": "stderr",
     "output_type": "stream",
     "text": [
      "/home/hanliu/miniconda3/envs/clustering/lib/python3.7/site-packages/tables/path.py:157: NaturalNameWarning: object name is not a valid Python identifier: 'CGE-Vip_Clstn2'; it does not match the pattern ``^[a-zA-Z_][a-zA-Z0-9_]*$``; you will not be able to use natural naming to access this object; using ``getattr()`` will still work, though\n",
      "  check_attribute_name(name)\n",
      "/home/hanliu/miniconda3/envs/clustering/lib/python3.7/site-packages/tables/path.py:157: NaturalNameWarning: object name is not a valid Python identifier: 'PAL-Inh_Deptor'; it does not match the pattern ``^[a-zA-Z_][a-zA-Z0-9_]*$``; you will not be able to use natural naming to access this object; using ``getattr()`` will still work, though\n",
      "  check_attribute_name(name)\n",
      "/home/hanliu/miniconda3/envs/clustering/lib/python3.7/site-packages/tables/path.py:157: NaturalNameWarning: object name is not a valid Python identifier: 'MGE-Pvalb_Entpd3'; it does not match the pattern ``^[a-zA-Z_][a-zA-Z0-9_]*$``; you will not be able to use natural naming to access this object; using ``getattr()`` will still work, though\n",
      "  check_attribute_name(name)\n",
      "/home/hanliu/miniconda3/envs/clustering/lib/python3.7/site-packages/tables/path.py:157: NaturalNameWarning: object name is not a valid Python identifier: 'MGE-Sst_Ubtd1'; it does not match the pattern ``^[a-zA-Z_][a-zA-Z0-9_]*$``; you will not be able to use natural naming to access this object; using ``getattr()`` will still work, though\n",
      "  check_attribute_name(name)\n",
      "/home/hanliu/miniconda3/envs/clustering/lib/python3.7/site-packages/tables/path.py:157: NaturalNameWarning: object name is not a valid Python identifier: 'PT-L5_Plcb4'; it does not match the pattern ``^[a-zA-Z_][a-zA-Z0-9_]*$``; you will not be able to use natural naming to access this object; using ``getattr()`` will still work, though\n",
      "  check_attribute_name(name)\n",
      "/home/hanliu/miniconda3/envs/clustering/lib/python3.7/site-packages/tables/path.py:157: NaturalNameWarning: object name is not a valid Python identifier: 'MGE-Pvalb_Thsd7a'; it does not match the pattern ``^[a-zA-Z_][a-zA-Z0-9_]*$``; you will not be able to use natural naming to access this object; using ``getattr()`` will still work, though\n",
      "  check_attribute_name(name)\n",
      "/home/hanliu/miniconda3/envs/clustering/lib/python3.7/site-packages/tables/path.py:157: NaturalNameWarning: object name is not a valid Python identifier: 'MSN-D2_Slc24a2'; it does not match the pattern ``^[a-zA-Z_][a-zA-Z0-9_]*$``; you will not be able to use natural naming to access this object; using ``getattr()`` will still work, though\n",
      "  check_attribute_name(name)\n",
      "/home/hanliu/miniconda3/envs/clustering/lib/python3.7/site-packages/tables/path.py:157: NaturalNameWarning: object name is not a valid Python identifier: 'MGE-Sst_Kcnip4'; it does not match the pattern ``^[a-zA-Z_][a-zA-Z0-9_]*$``; you will not be able to use natural naming to access this object; using ``getattr()`` will still work, though\n",
      "  check_attribute_name(name)\n",
      "/home/hanliu/miniconda3/envs/clustering/lib/python3.7/site-packages/tables/path.py:157: NaturalNameWarning: object name is not a valid Python identifier: 'MGE-Sst_Rxra'; it does not match the pattern ``^[a-zA-Z_][a-zA-Z0-9_]*$``; you will not be able to use natural naming to access this object; using ``getattr()`` will still work, though\n",
      "  check_attribute_name(name)\n",
      "/home/hanliu/miniconda3/envs/clustering/lib/python3.7/site-packages/tables/path.py:157: NaturalNameWarning: object name is not a valid Python identifier: 'LSX-Inh_Foxp2'; it does not match the pattern ``^[a-zA-Z_][a-zA-Z0-9_]*$``; you will not be able to use natural naming to access this object; using ``getattr()`` will still work, though\n",
      "  check_attribute_name(name)\n",
      "/home/hanliu/miniconda3/envs/clustering/lib/python3.7/site-packages/tables/path.py:157: NaturalNameWarning: object name is not a valid Python identifier: 'PAL-Inh_Onecut2'; it does not match the pattern ``^[a-zA-Z_][a-zA-Z0-9_]*$``; you will not be able to use natural naming to access this object; using ``getattr()`` will still work, though\n",
      "  check_attribute_name(name)\n",
      "/home/hanliu/miniconda3/envs/clustering/lib/python3.7/site-packages/tables/path.py:157: NaturalNameWarning: object name is not a valid Python identifier: 'LSX-Inh_Enox1'; it does not match the pattern ``^[a-zA-Z_][a-zA-Z0-9_]*$``; you will not be able to use natural naming to access this object; using ``getattr()`` will still work, though\n",
      "  check_attribute_name(name)\n",
      "/home/hanliu/miniconda3/envs/clustering/lib/python3.7/site-packages/tables/path.py:157: NaturalNameWarning: object name is not a valid Python identifier: 'CGE-Vip_Ptprm'; it does not match the pattern ``^[a-zA-Z_][a-zA-Z0-9_]*$``; you will not be able to use natural naming to access this object; using ``getattr()`` will still work, though\n",
      "  check_attribute_name(name)\n",
      "/home/hanliu/miniconda3/envs/clustering/lib/python3.7/site-packages/tables/path.py:157: NaturalNameWarning: object name is not a valid Python identifier: 'OPC_opc-small'; it does not match the pattern ``^[a-zA-Z_][a-zA-Z0-9_]*$``; you will not be able to use natural naming to access this object; using ``getattr()`` will still work, though\n",
      "  check_attribute_name(name)\n",
      "/home/hanliu/miniconda3/envs/clustering/lib/python3.7/site-packages/tables/path.py:157: NaturalNameWarning: object name is not a valid Python identifier: 'IT-L23_Tenm2'; it does not match the pattern ``^[a-zA-Z_][a-zA-Z0-9_]*$``; you will not be able to use natural naming to access this object; using ``getattr()`` will still work, though\n",
      "  check_attribute_name(name)\n",
      "/home/hanliu/miniconda3/envs/clustering/lib/python3.7/site-packages/tables/path.py:157: NaturalNameWarning: object name is not a valid Python identifier: 'PAL-Inh_Igdcc3'; it does not match the pattern ``^[a-zA-Z_][a-zA-Z0-9_]*$``; you will not be able to use natural naming to access this object; using ``getattr()`` will still work, though\n",
      "  check_attribute_name(name)\n",
      "/home/hanliu/miniconda3/envs/clustering/lib/python3.7/site-packages/tables/path.py:157: NaturalNameWarning: object name is not a valid Python identifier: 'MSN-D2_Casz1'; it does not match the pattern ``^[a-zA-Z_][a-zA-Z0-9_]*$``; you will not be able to use natural naming to access this object; using ``getattr()`` will still work, though\n",
      "  check_attribute_name(name)\n",
      "/home/hanliu/miniconda3/envs/clustering/lib/python3.7/site-packages/tables/path.py:157: NaturalNameWarning: object name is not a valid Python identifier: 'IT-L5_Etv1'; it does not match the pattern ``^[a-zA-Z_][a-zA-Z0-9_]*$``; you will not be able to use natural naming to access this object; using ``getattr()`` will still work, though\n",
      "  check_attribute_name(name)\n",
      "/home/hanliu/miniconda3/envs/clustering/lib/python3.7/site-packages/tables/path.py:157: NaturalNameWarning: object name is not a valid Python identifier: 'PT-L5_Nectin1'; it does not match the pattern ``^[a-zA-Z_][a-zA-Z0-9_]*$``; you will not be able to use natural naming to access this object; using ``getattr()`` will still work, though\n",
      "  check_attribute_name(name)\n",
      "/home/hanliu/miniconda3/envs/clustering/lib/python3.7/site-packages/tables/path.py:157: NaturalNameWarning: object name is not a valid Python identifier: 'D1L-Fstl4_Grm3'; it does not match the pattern ``^[a-zA-Z_][a-zA-Z0-9_]*$``; you will not be able to use natural naming to access this object; using ``getattr()`` will still work, though\n",
      "  check_attribute_name(name)\n",
      "/home/hanliu/miniconda3/envs/clustering/lib/python3.7/site-packages/tables/path.py:157: NaturalNameWarning: object name is not a valid Python identifier: 'PT-L5_Astn2'; it does not match the pattern ``^[a-zA-Z_][a-zA-Z0-9_]*$``; you will not be able to use natural naming to access this object; using ``getattr()`` will still work, though\n",
      "  check_attribute_name(name)\n",
      "/home/hanliu/miniconda3/envs/clustering/lib/python3.7/site-packages/tables/path.py:157: NaturalNameWarning: object name is not a valid Python identifier: 'MGE-Sst_Dock4'; it does not match the pattern ``^[a-zA-Z_][a-zA-Z0-9_]*$``; you will not be able to use natural naming to access this object; using ``getattr()`` will still work, though\n",
      "  check_attribute_name(name)\n",
      "/home/hanliu/miniconda3/envs/clustering/lib/python3.7/site-packages/tables/path.py:157: NaturalNameWarning: object name is not a valid Python identifier: 'IT-L23_Ptprt'; it does not match the pattern ``^[a-zA-Z_][a-zA-Z0-9_]*$``; you will not be able to use natural naming to access this object; using ``getattr()`` will still work, though\n",
      "  check_attribute_name(name)\n",
      "/home/hanliu/miniconda3/envs/clustering/lib/python3.7/site-packages/tables/path.py:157: NaturalNameWarning: object name is not a valid Python identifier: 'MSN-D2_Col14a1'; it does not match the pattern ``^[a-zA-Z_][a-zA-Z0-9_]*$``; you will not be able to use natural naming to access this object; using ``getattr()`` will still work, though\n",
      "  check_attribute_name(name)\n",
      "/home/hanliu/miniconda3/envs/clustering/lib/python3.7/site-packages/tables/path.py:157: NaturalNameWarning: object name is not a valid Python identifier: 'OLF-Exc_Unc13c'; it does not match the pattern ``^[a-zA-Z_][a-zA-Z0-9_]*$``; you will not be able to use natural naming to access this object; using ``getattr()`` will still work, though\n",
      "  check_attribute_name(name)\n",
      "/home/hanliu/miniconda3/envs/clustering/lib/python3.7/site-packages/tables/path.py:157: NaturalNameWarning: object name is not a valid Python identifier: 'CT-L6_Map4'; it does not match the pattern ``^[a-zA-Z_][a-zA-Z0-9_]*$``; you will not be able to use natural naming to access this object; using ``getattr()`` will still work, though\n",
      "  check_attribute_name(name)\n",
      "/home/hanliu/miniconda3/envs/clustering/lib/python3.7/site-packages/tables/path.py:157: NaturalNameWarning: object name is not a valid Python identifier: 'IG-CA2_Xpr1'; it does not match the pattern ``^[a-zA-Z_][a-zA-Z0-9_]*$``; you will not be able to use natural naming to access this object; using ``getattr()`` will still work, though\n",
      "  check_attribute_name(name)\n",
      "/home/hanliu/miniconda3/envs/clustering/lib/python3.7/site-packages/tables/path.py:157: NaturalNameWarning: object name is not a valid Python identifier: 'ANP_anp-olf-cnu'; it does not match the pattern ``^[a-zA-Z_][a-zA-Z0-9_]*$``; you will not be able to use natural naming to access this object; using ``getattr()`` will still work, though\n",
      "  check_attribute_name(name)\n",
      "/home/hanliu/miniconda3/envs/clustering/lib/python3.7/site-packages/tables/path.py:157: NaturalNameWarning: object name is not a valid Python identifier: 'IT-L23_Cux1'; it does not match the pattern ``^[a-zA-Z_][a-zA-Z0-9_]*$``; you will not be able to use natural naming to access this object; using ``getattr()`` will still work, though\n",
      "  check_attribute_name(name)\n",
      "/home/hanliu/miniconda3/envs/clustering/lib/python3.7/site-packages/tables/path.py:157: NaturalNameWarning: object name is not a valid Python identifier: 'CGE-Lamp5_Nrxn3'; it does not match the pattern ``^[a-zA-Z_][a-zA-Z0-9_]*$``; you will not be able to use natural naming to access this object; using ``getattr()`` will still work, though\n",
      "  check_attribute_name(name)\n",
      "/home/hanliu/miniconda3/envs/clustering/lib/python3.7/site-packages/tables/path.py:157: NaturalNameWarning: object name is not a valid Python identifier: 'MGE-Sst_Rerg'; it does not match the pattern ``^[a-zA-Z_][a-zA-Z0-9_]*$``; you will not be able to use natural naming to access this object; using ``getattr()`` will still work, though\n",
      "  check_attribute_name(name)\n",
      "/home/hanliu/miniconda3/envs/clustering/lib/python3.7/site-packages/tables/path.py:157: NaturalNameWarning: object name is not a valid Python identifier: 'DG-po_Calb2'; it does not match the pattern ``^[a-zA-Z_][a-zA-Z0-9_]*$``; you will not be able to use natural naming to access this object; using ``getattr()`` will still work, though\n",
      "  check_attribute_name(name)\n",
      "/home/hanliu/miniconda3/envs/clustering/lib/python3.7/site-packages/tables/path.py:157: NaturalNameWarning: object name is not a valid Python identifier: 'MSN-D1_Ntn1'; it does not match the pattern ``^[a-zA-Z_][a-zA-Z0-9_]*$``; you will not be able to use natural naming to access this object; using ``getattr()`` will still work, though\n",
      "  check_attribute_name(name)\n",
      "/home/hanliu/miniconda3/envs/clustering/lib/python3.7/site-packages/tables/path.py:157: NaturalNameWarning: object name is not a valid Python identifier: 'MSN-D1_Hrh1'; it does not match the pattern ``^[a-zA-Z_][a-zA-Z0-9_]*$``; you will not be able to use natural naming to access this object; using ``getattr()`` will still work, though\n",
      "  check_attribute_name(name)\n",
      "/home/hanliu/miniconda3/envs/clustering/lib/python3.7/site-packages/tables/path.py:157: NaturalNameWarning: object name is not a valid Python identifier: 'MGE-Sst_Ptpre'; it does not match the pattern ``^[a-zA-Z_][a-zA-Z0-9_]*$``; you will not be able to use natural naming to access this object; using ``getattr()`` will still work, though\n",
      "  check_attribute_name(name)\n",
      "/home/hanliu/miniconda3/envs/clustering/lib/python3.7/site-packages/tables/path.py:157: NaturalNameWarning: object name is not a valid Python identifier: 'MGE-Sst_Frmd6'; it does not match the pattern ``^[a-zA-Z_][a-zA-Z0-9_]*$``; you will not be able to use natural naming to access this object; using ``getattr()`` will still work, though\n",
      "  check_attribute_name(name)\n",
      "/home/hanliu/miniconda3/envs/clustering/lib/python3.7/site-packages/tables/path.py:157: NaturalNameWarning: object name is not a valid Python identifier: 'MGE-Pvalb_Gfra2'; it does not match the pattern ``^[a-zA-Z_][a-zA-Z0-9_]*$``; you will not be able to use natural naming to access this object; using ``getattr()`` will still work, though\n",
      "  check_attribute_name(name)\n",
      "/home/hanliu/miniconda3/envs/clustering/lib/python3.7/site-packages/tables/path.py:157: NaturalNameWarning: object name is not a valid Python identifier: 'D1L-PAL_Flrt2'; it does not match the pattern ``^[a-zA-Z_][a-zA-Z0-9_]*$``; you will not be able to use natural naming to access this object; using ``getattr()`` will still work, though\n",
      "  check_attribute_name(name)\n"
     ]
    },
    {
     "name": "stderr",
     "output_type": "stream",
     "text": [
      "/home/hanliu/miniconda3/envs/clustering/lib/python3.7/site-packages/tables/path.py:157: NaturalNameWarning: object name is not a valid Python identifier: 'VLMC-Pia_vlmc-pia-all'; it does not match the pattern ``^[a-zA-Z_][a-zA-Z0-9_]*$``; you will not be able to use natural naming to access this object; using ``getattr()`` will still work, though\n",
      "  check_attribute_name(name)\n",
      "/home/hanliu/miniconda3/envs/clustering/lib/python3.7/site-packages/tables/path.py:157: NaturalNameWarning: object name is not a valid Python identifier: 'IT-L6_Man1c1'; it does not match the pattern ``^[a-zA-Z_][a-zA-Z0-9_]*$``; you will not be able to use natural naming to access this object; using ``getattr()`` will still work, though\n",
      "  check_attribute_name(name)\n",
      "/home/hanliu/miniconda3/envs/clustering/lib/python3.7/site-packages/tables/path.py:157: NaturalNameWarning: object name is not a valid Python identifier: 'OLF-Exc_Sgcd'; it does not match the pattern ``^[a-zA-Z_][a-zA-Z0-9_]*$``; you will not be able to use natural naming to access this object; using ``getattr()`` will still work, though\n",
      "  check_attribute_name(name)\n",
      "/home/hanliu/miniconda3/envs/clustering/lib/python3.7/site-packages/tables/path.py:157: NaturalNameWarning: object name is not a valid Python identifier: 'OLF-Exc_Lrrtm3'; it does not match the pattern ``^[a-zA-Z_][a-zA-Z0-9_]*$``; you will not be able to use natural naming to access this object; using ``getattr()`` will still work, though\n",
      "  check_attribute_name(name)\n",
      "/home/hanliu/miniconda3/envs/clustering/lib/python3.7/site-packages/tables/path.py:157: NaturalNameWarning: object name is not a valid Python identifier: 'IT-L5_Grik3'; it does not match the pattern ``^[a-zA-Z_][a-zA-Z0-9_]*$``; you will not be able to use natural naming to access this object; using ``getattr()`` will still work, though\n",
      "  check_attribute_name(name)\n",
      "/home/hanliu/miniconda3/envs/clustering/lib/python3.7/site-packages/tables/path.py:157: NaturalNameWarning: object name is not a valid Python identifier: 'IT-L6_Fstl4'; it does not match the pattern ``^[a-zA-Z_][a-zA-Z0-9_]*$``; you will not be able to use natural naming to access this object; using ``getattr()`` will still work, though\n",
      "  check_attribute_name(name)\n",
      "/home/hanliu/miniconda3/envs/clustering/lib/python3.7/site-packages/tables/path.py:157: NaturalNameWarning: object name is not a valid Python identifier: 'MGE-Sst_Etv1'; it does not match the pattern ``^[a-zA-Z_][a-zA-Z0-9_]*$``; you will not be able to use natural naming to access this object; using ``getattr()`` will still work, though\n",
      "  check_attribute_name(name)\n",
      "/home/hanliu/miniconda3/envs/clustering/lib/python3.7/site-packages/tables/path.py:157: NaturalNameWarning: object name is not a valid Python identifier: 'D1L-Fstl4_Trps1'; it does not match the pattern ``^[a-zA-Z_][a-zA-Z0-9_]*$``; you will not be able to use natural naming to access this object; using ``getattr()`` will still work, though\n",
      "  check_attribute_name(name)\n",
      "/home/hanliu/miniconda3/envs/clustering/lib/python3.7/site-packages/tables/path.py:157: NaturalNameWarning: object name is not a valid Python identifier: 'MSN-D1_Khdrbs3'; it does not match the pattern ``^[a-zA-Z_][a-zA-Z0-9_]*$``; you will not be able to use natural naming to access this object; using ``getattr()`` will still work, though\n",
      "  check_attribute_name(name)\n",
      "/home/hanliu/miniconda3/envs/clustering/lib/python3.7/site-packages/tables/path.py:157: NaturalNameWarning: object name is not a valid Python identifier: 'MGE-Sst_Unc5b'; it does not match the pattern ``^[a-zA-Z_][a-zA-Z0-9_]*$``; you will not be able to use natural naming to access this object; using ``getattr()`` will still work, though\n",
      "  check_attribute_name(name)\n",
      "/home/hanliu/miniconda3/envs/clustering/lib/python3.7/site-packages/tables/path.py:157: NaturalNameWarning: object name is not a valid Python identifier: 'IT-L6_Cadps2'; it does not match the pattern ``^[a-zA-Z_][a-zA-Z0-9_]*$``; you will not be able to use natural naming to access this object; using ``getattr()`` will still work, though\n",
      "  check_attribute_name(name)\n",
      "/home/hanliu/miniconda3/envs/clustering/lib/python3.7/site-packages/tables/path.py:157: NaturalNameWarning: object name is not a valid Python identifier: 'LSX-Inh_Cacna1i'; it does not match the pattern ``^[a-zA-Z_][a-zA-Z0-9_]*$``; you will not be able to use natural naming to access this object; using ``getattr()`` will still work, though\n",
      "  check_attribute_name(name)\n",
      "/home/hanliu/miniconda3/envs/clustering/lib/python3.7/site-packages/tables/path.py:157: NaturalNameWarning: object name is not a valid Python identifier: 'NP-L6_Olfml2b'; it does not match the pattern ``^[a-zA-Z_][a-zA-Z0-9_]*$``; you will not be able to use natural naming to access this object; using ``getattr()`` will still work, though\n",
      "  check_attribute_name(name)\n",
      "/home/hanliu/miniconda3/envs/clustering/lib/python3.7/site-packages/tables/path.py:157: NaturalNameWarning: object name is not a valid Python identifier: 'MGE-Pvalb_Sema5a'; it does not match the pattern ``^[a-zA-Z_][a-zA-Z0-9_]*$``; you will not be able to use natural naming to access this object; using ``getattr()`` will still work, though\n",
      "  check_attribute_name(name)\n",
      "/home/hanliu/miniconda3/envs/clustering/lib/python3.7/site-packages/tables/path.py:157: NaturalNameWarning: object name is not a valid Python identifier: 'MGE-Pvalb_Cnih3'; it does not match the pattern ``^[a-zA-Z_][a-zA-Z0-9_]*$``; you will not be able to use natural naming to access this object; using ``getattr()`` will still work, though\n",
      "  check_attribute_name(name)\n",
      "/home/hanliu/miniconda3/envs/clustering/lib/python3.7/site-packages/tables/path.py:157: NaturalNameWarning: object name is not a valid Python identifier: 'ASC_str-hpf'; it does not match the pattern ``^[a-zA-Z_][a-zA-Z0-9_]*$``; you will not be able to use natural naming to access this object; using ``getattr()`` will still work, though\n",
      "  check_attribute_name(name)\n",
      "/home/hanliu/miniconda3/envs/clustering/lib/python3.7/site-packages/tables/path.py:157: NaturalNameWarning: object name is not a valid Python identifier: 'CGE-Vip_Robo1'; it does not match the pattern ``^[a-zA-Z_][a-zA-Z0-9_]*$``; you will not be able to use natural naming to access this object; using ``getattr()`` will still work, though\n",
      "  check_attribute_name(name)\n",
      "/home/hanliu/miniconda3/envs/clustering/lib/python3.7/site-packages/tables/path.py:157: NaturalNameWarning: object name is not a valid Python identifier: 'CA3-St18_Epha5'; it does not match the pattern ``^[a-zA-Z_][a-zA-Z0-9_]*$``; you will not be able to use natural naming to access this object; using ``getattr()`` will still work, though\n",
      "  check_attribute_name(name)\n",
      "/home/hanliu/miniconda3/envs/clustering/lib/python3.7/site-packages/tables/path.py:157: NaturalNameWarning: object name is not a valid Python identifier: 'PT-L5_Ptprt'; it does not match the pattern ``^[a-zA-Z_][a-zA-Z0-9_]*$``; you will not be able to use natural naming to access this object; using ``getattr()`` will still work, though\n",
      "  check_attribute_name(name)\n",
      "/home/hanliu/miniconda3/envs/clustering/lib/python3.7/site-packages/tables/path.py:157: NaturalNameWarning: object name is not a valid Python identifier: 'CGE-Vip_Fstl4'; it does not match the pattern ``^[a-zA-Z_][a-zA-Z0-9_]*$``; you will not be able to use natural naming to access this object; using ``getattr()`` will still work, though\n",
      "  check_attribute_name(name)\n",
      "/home/hanliu/miniconda3/envs/clustering/lib/python3.7/site-packages/tables/path.py:157: NaturalNameWarning: object name is not a valid Python identifier: 'IT-L4_Astn2'; it does not match the pattern ``^[a-zA-Z_][a-zA-Z0-9_]*$``; you will not be able to use natural naming to access this object; using ``getattr()`` will still work, though\n",
      "  check_attribute_name(name)\n",
      "/home/hanliu/miniconda3/envs/clustering/lib/python3.7/site-packages/tables/path.py:157: NaturalNameWarning: object name is not a valid Python identifier: 'OLF-Exc_Cux2'; it does not match the pattern ``^[a-zA-Z_][a-zA-Z0-9_]*$``; you will not be able to use natural naming to access this object; using ``getattr()`` will still work, though\n",
      "  check_attribute_name(name)\n",
      "/home/hanliu/miniconda3/envs/clustering/lib/python3.7/site-packages/tables/path.py:157: NaturalNameWarning: object name is not a valid Python identifier: 'CGE-Lamp5_Dock5'; it does not match the pattern ``^[a-zA-Z_][a-zA-Z0-9_]*$``; you will not be able to use natural naming to access this object; using ``getattr()`` will still work, though\n",
      "  check_attribute_name(name)\n",
      "/home/hanliu/miniconda3/envs/clustering/lib/python3.7/site-packages/tables/path.py:157: NaturalNameWarning: object name is not a valid Python identifier: 'PAL-Inh_Meis1'; it does not match the pattern ``^[a-zA-Z_][a-zA-Z0-9_]*$``; you will not be able to use natural naming to access this object; using ``getattr()`` will still work, though\n",
      "  check_attribute_name(name)\n",
      "/home/hanliu/miniconda3/envs/clustering/lib/python3.7/site-packages/tables/path.py:157: NaturalNameWarning: object name is not a valid Python identifier: 'PAL-Inh_Ptprd'; it does not match the pattern ``^[a-zA-Z_][a-zA-Z0-9_]*$``; you will not be able to use natural naming to access this object; using ``getattr()`` will still work, though\n",
      "  check_attribute_name(name)\n",
      "/home/hanliu/miniconda3/envs/clustering/lib/python3.7/site-packages/tables/path.py:157: NaturalNameWarning: object name is not a valid Python identifier: 'CGE-Vip_Galnt17'; it does not match the pattern ``^[a-zA-Z_][a-zA-Z0-9_]*$``; you will not be able to use natural naming to access this object; using ``getattr()`` will still work, though\n",
      "  check_attribute_name(name)\n",
      "/home/hanliu/miniconda3/envs/clustering/lib/python3.7/site-packages/tables/path.py:157: NaturalNameWarning: object name is not a valid Python identifier: 'ODC_odc-large'; it does not match the pattern ``^[a-zA-Z_][a-zA-Z0-9_]*$``; you will not be able to use natural naming to access this object; using ``getattr()`` will still work, though\n",
      "  check_attribute_name(name)\n",
      "/home/hanliu/miniconda3/envs/clustering/lib/python3.7/site-packages/tables/path.py:157: NaturalNameWarning: object name is not a valid Python identifier: 'PAL-Inh_Rarb'; it does not match the pattern ``^[a-zA-Z_][a-zA-Z0-9_]*$``; you will not be able to use natural naming to access this object; using ``getattr()`` will still work, though\n",
      "  check_attribute_name(name)\n",
      "/home/hanliu/miniconda3/envs/clustering/lib/python3.7/site-packages/tables/path.py:157: NaturalNameWarning: object name is not a valid Python identifier: 'OLF-Exc_Rmst'; it does not match the pattern ``^[a-zA-Z_][a-zA-Z0-9_]*$``; you will not be able to use natural naming to access this object; using ``getattr()`` will still work, though\n",
      "  check_attribute_name(name)\n",
      "/home/hanliu/miniconda3/envs/clustering/lib/python3.7/site-packages/tables/path.py:157: NaturalNameWarning: object name is not a valid Python identifier: 'OPC_opc-large'; it does not match the pattern ``^[a-zA-Z_][a-zA-Z0-9_]*$``; you will not be able to use natural naming to access this object; using ``getattr()`` will still work, though\n",
      "  check_attribute_name(name)\n",
      "/home/hanliu/miniconda3/envs/clustering/lib/python3.7/site-packages/tables/path.py:157: NaturalNameWarning: object name is not a valid Python identifier: 'NP-L6_Kcnab1'; it does not match the pattern ``^[a-zA-Z_][a-zA-Z0-9_]*$``; you will not be able to use natural naming to access this object; using ``getattr()`` will still work, though\n",
      "  check_attribute_name(name)\n",
      "/home/hanliu/miniconda3/envs/clustering/lib/python3.7/site-packages/tables/path.py:157: NaturalNameWarning: object name is not a valid Python identifier: 'PC_pc-all'; it does not match the pattern ``^[a-zA-Z_][a-zA-Z0-9_]*$``; you will not be able to use natural naming to access this object; using ``getattr()`` will still work, though\n",
      "  check_attribute_name(name)\n",
      "/home/hanliu/miniconda3/envs/clustering/lib/python3.7/site-packages/tables/path.py:157: NaturalNameWarning: object name is not a valid Python identifier: 'MGE-Pvalb_Cacna1i'; it does not match the pattern ``^[a-zA-Z_][a-zA-Z0-9_]*$``; you will not be able to use natural naming to access this object; using ``getattr()`` will still work, though\n",
      "  check_attribute_name(name)\n",
      "/home/hanliu/miniconda3/envs/clustering/lib/python3.7/site-packages/tables/path.py:157: NaturalNameWarning: object name is not a valid Python identifier: 'OLF-Exc_Bmpr1b'; it does not match the pattern ``^[a-zA-Z_][a-zA-Z0-9_]*$``; you will not be able to use natural naming to access this object; using ``getattr()`` will still work, though\n",
      "  check_attribute_name(name)\n",
      "/home/hanliu/miniconda3/envs/clustering/lib/python3.7/site-packages/tables/path.py:157: NaturalNameWarning: object name is not a valid Python identifier: 'CGE-Lamp5_Grk5'; it does not match the pattern ``^[a-zA-Z_][a-zA-Z0-9_]*$``; you will not be able to use natural naming to access this object; using ``getattr()`` will still work, though\n",
      "  check_attribute_name(name)\n",
      "/home/hanliu/miniconda3/envs/clustering/lib/python3.7/site-packages/tables/path.py:157: NaturalNameWarning: object name is not a valid Python identifier: 'IT-L5_Cdh8'; it does not match the pattern ``^[a-zA-Z_][a-zA-Z0-9_]*$``; you will not be able to use natural naming to access this object; using ``getattr()`` will still work, though\n",
      "  check_attribute_name(name)\n",
      "/home/hanliu/miniconda3/envs/clustering/lib/python3.7/site-packages/tables/path.py:157: NaturalNameWarning: object name is not a valid Python identifier: 'IG-CA2_Peak1'; it does not match the pattern ``^[a-zA-Z_][a-zA-Z0-9_]*$``; you will not be able to use natural naming to access this object; using ``getattr()`` will still work, though\n",
      "  check_attribute_name(name)\n",
      "/home/hanliu/miniconda3/envs/clustering/lib/python3.7/site-packages/tables/path.py:157: NaturalNameWarning: object name is not a valid Python identifier: 'ANP_anp-dg'; it does not match the pattern ``^[a-zA-Z_][a-zA-Z0-9_]*$``; you will not be able to use natural naming to access this object; using ``getattr()`` will still work, though\n",
      "  check_attribute_name(name)\n",
      "/home/hanliu/miniconda3/envs/clustering/lib/python3.7/site-packages/tables/path.py:157: NaturalNameWarning: object name is not a valid Python identifier: 'D1L-Fstl4_Cadm1'; it does not match the pattern ``^[a-zA-Z_][a-zA-Z0-9_]*$``; you will not be able to use natural naming to access this object; using ``getattr()`` will still work, though\n",
      "  check_attribute_name(name)\n",
      "/home/hanliu/miniconda3/envs/clustering/lib/python3.7/site-packages/tables/path.py:157: NaturalNameWarning: object name is not a valid Python identifier: 'IT-L4_Shc3'; it does not match the pattern ``^[a-zA-Z_][a-zA-Z0-9_]*$``; you will not be able to use natural naming to access this object; using ``getattr()`` will still work, though\n",
      "  check_attribute_name(name)\n",
      "/home/hanliu/miniconda3/envs/clustering/lib/python3.7/site-packages/tables/path.py:157: NaturalNameWarning: object name is not a valid Python identifier: 'D1L-PAL_Plcxd3'; it does not match the pattern ``^[a-zA-Z_][a-zA-Z0-9_]*$``; you will not be able to use natural naming to access this object; using ``getattr()`` will still work, though\n",
      "  check_attribute_name(name)\n"
     ]
    }
   ],
   "source": [
    "with pd.HDFStore(pathlib.Path(dmr_path).parent / 'DMRInfo.h5') as hdf:\n",
    "    for sample, hypo_index in hypo_sig_dict.items():\n",
    "        hdf[f'HypoDMR/{sample}'] = pd.Series(hypo_index)\n",
    "    for sample, hyper_index in hyper_sig_dict.items():\n",
    "        hdf[f'HyperDMR/{sample}'] = pd.Series(hyper_index)"
   ]
  },
  {
   "cell_type": "markdown",
   "metadata": {
    "papermill": {
     "duration": 0.014554,
     "end_time": "2020-01-19T23:43:52.223991",
     "exception": false,
     "start_time": "2020-01-19T23:43:52.209437",
     "status": "completed"
    },
    "scrolled": true,
    "tags": []
   },
   "source": [
    "## Dump DMR bed"
   ]
  },
  {
   "cell_type": "code",
   "execution_count": 19,
   "metadata": {
    "ExecuteTime": {
     "end_time": "2020-01-19T23:51:40.109898Z",
     "start_time": "2020-01-19T23:51:39.756974Z"
    },
    "papermill": {
     "duration": 0.372967,
     "end_time": "2020-01-19T23:43:52.611360",
     "exception": false,
     "start_time": "2020-01-19T23:43:52.238393",
     "status": "completed"
    },
    "tags": []
   },
   "outputs": [],
   "source": [
    "hypo_dir = pathlib.Path(dmr_path).parent / 'HypoDMR'\n",
    "hypo_dir.mkdir(exist_ok=True)\n",
    "for sample, hypo_index in hypo_sig_dict.items():\n",
    "    _bed = dmr_bed.loc[hypo_index].reset_index().iloc[:, [1, 2, 3, 0]].to_csv(\n",
    "        hypo_dir / f'{sample}.DMS{dms_cutoff}.bed', sep='\\t', index=None, header=None)"
   ]
  },
  {
   "cell_type": "code",
   "execution_count": 20,
   "metadata": {
    "ExecuteTime": {
     "end_time": "2020-01-19T23:51:40.436943Z",
     "start_time": "2020-01-19T23:51:40.111647Z"
    },
    "papermill": {
     "duration": 0.343965,
     "end_time": "2020-01-19T23:43:52.970477",
     "exception": false,
     "start_time": "2020-01-19T23:43:52.626512",
     "status": "completed"
    },
    "tags": []
   },
   "outputs": [],
   "source": [
    "hyper_dir = pathlib.Path(dmr_path).parent / 'HyperDMR'\n",
    "hyper_dir.mkdir(exist_ok=True)\n",
    "for sample, hyper_index in hyper_sig_dict.items():\n",
    "    _bed = dmr_bed.loc[hyper_index].reset_index().iloc[:, [1, 2, 3, 0]].to_csv(\n",
    "        hyper_dir / f'{sample}.DMS{dms_cutoff}.bed', sep='\\t', index=None, header=None)"
   ]
  },
  {
   "cell_type": "markdown",
   "metadata": {
    "papermill": {
     "duration": 0.014421,
     "end_time": "2020-01-19T23:43:53.000214",
     "exception": false,
     "start_time": "2020-01-19T23:43:52.985793",
     "status": "completed"
    },
    "tags": []
   },
   "source": [
    "## DMR hits matrix"
   ]
  },
  {
   "cell_type": "code",
   "execution_count": 21,
   "metadata": {
    "ExecuteTime": {
     "end_time": "2020-01-19T23:51:40.503520Z",
     "start_time": "2020-01-19T23:51:40.438309Z"
    },
    "papermill": {
     "duration": 0.0815,
     "end_time": "2020-01-19T23:43:53.096006",
     "exception": false,
     "start_time": "2020-01-19T23:43:53.014506",
     "status": "completed"
    },
    "tags": []
   },
   "outputs": [
    {
     "name": "stderr",
     "output_type": "stream",
     "text": [
      "... storing '#chr' as categorical\n"
     ]
    }
   ],
   "source": [
    "sig_dict = hypo_sig_dict\n",
    "\n",
    "rows = []\n",
    "cols = []\n",
    "datas = []\n",
    "for i, (sample, dmr_index) in enumerate(sig_dict.items()):\n",
    "    col = dmr_index.map(lambda i: i.split('_')[1]).astype(int).values\n",
    "    row = (np.ones_like(col) * i).astype(int)\n",
    "    data = np.ones_like(col)\n",
    "    rows.append(row)\n",
    "    cols.append(col)\n",
    "    datas.append(data)\n",
    "datas = np.concatenate(datas)\n",
    "cols = np.concatenate(cols)\n",
    "rows = np.concatenate(rows)\n",
    "hits = csr_matrix((datas, (rows, cols)),\n",
    "                  shape=(mc_rate.shape[1], dmr_bed.shape[0]))\n",
    "\n",
    "# obs is DMR, var is sample, because all analysis is dmr focused\n",
    "dmr_hits = anndata.AnnData(X=hits.T,\n",
    "                           obs=dmr_bed,\n",
    "                           var=pd.DataFrame([], index=mc_rate.columns))\n",
    "\n",
    "dmr_hits.write_h5ad(hypo_dir / 'TotalHits.h5ad')\n"
   ]
  },
  {
   "cell_type": "code",
   "execution_count": 22,
   "metadata": {
    "ExecuteTime": {
     "end_time": "2020-01-19T23:51:40.562102Z",
     "start_time": "2020-01-19T23:51:40.504843Z"
    },
    "papermill": {
     "duration": 0.074725,
     "end_time": "2020-01-19T23:43:53.185894",
     "exception": false,
     "start_time": "2020-01-19T23:43:53.111169",
     "status": "completed"
    },
    "tags": []
   },
   "outputs": [
    {
     "name": "stderr",
     "output_type": "stream",
     "text": [
      "... storing '#chr' as categorical\n"
     ]
    }
   ],
   "source": [
    "sig_dict = hyper_sig_dict\n",
    "\n",
    "rows = []\n",
    "cols = []\n",
    "datas = []\n",
    "for i, (sample, dmr_index) in enumerate(sig_dict.items()):\n",
    "    col = dmr_index.map(lambda i: i.split('_')[1]).astype(int).values\n",
    "    row = (np.ones_like(col) * i).astype(int)\n",
    "    data = np.ones_like(col)\n",
    "    rows.append(row)\n",
    "    cols.append(col)\n",
    "    datas.append(data)\n",
    "datas = np.concatenate(datas)\n",
    "cols = np.concatenate(cols)\n",
    "rows = np.concatenate(rows)\n",
    "hits = csr_matrix((datas, (rows, cols)),\n",
    "                  shape=(mc_rate.shape[1], dmr_bed.shape[0]))\n",
    "\n",
    "# obs is DMR, var is sample, because all analysis is dmr focused\n",
    "dmr_hits = anndata.AnnData(X=hits.T,\n",
    "                           obs=dmr_bed,\n",
    "                           var=pd.DataFrame([], index=mc_rate.columns))\n",
    "\n",
    "dmr_hits.write_h5ad(hyper_dir / 'TotalHits.h5ad')"
   ]
  },
  {
   "cell_type": "code",
   "execution_count": null,
   "metadata": {
    "papermill": {
     "duration": 0.013841,
     "end_time": "2020-01-19T23:43:53.214103",
     "exception": false,
     "start_time": "2020-01-19T23:43:53.200262",
     "status": "completed"
    },
    "tags": []
   },
   "outputs": [],
   "source": []
  },
  {
   "cell_type": "code",
   "execution_count": null,
   "metadata": {
    "papermill": {
     "duration": 0.014383,
     "end_time": "2020-01-19T23:43:53.243577",
     "exception": false,
     "start_time": "2020-01-19T23:43:53.229194",
     "status": "completed"
    },
    "tags": []
   },
   "outputs": [],
   "source": []
  },
  {
   "cell_type": "code",
   "execution_count": null,
   "metadata": {
    "papermill": {
     "duration": 0.013718,
     "end_time": "2020-01-19T23:43:53.271434",
     "exception": false,
     "start_time": "2020-01-19T23:43:53.257716",
     "status": "completed"
    },
    "tags": []
   },
   "outputs": [],
   "source": []
  }
 ],
 "metadata": {
  "hide_input": false,
  "kernelspec": {
   "display_name": "Python 3",
   "language": "python",
   "name": "python3"
  },
  "language_info": {
   "codemirror_mode": {
    "name": "ipython",
    "version": 3
   },
   "file_extension": ".py",
   "mimetype": "text/x-python",
   "name": "python",
   "nbconvert_exporter": "python",
   "pygments_lexer": "ipython3",
   "version": "3.7.3"
  },
  "papermill": {
   "duration": 5.919276,
   "end_time": "2020-01-19T23:43:53.592244",
   "environment_variables": {},
   "exception": null,
   "input_path": "1.FilterDMRRecipe_robust_mean_delta.ipynb",
   "output_path": "/home/hanliu/project/mouse_rostral_brain/DMR/SubType/raw/SubType-chrY/Recipe/1.FilterDMRRecipe_robust_mean_delta.ipynb",
   "parameters": {
    "black_list_path": "/home/hanliu/ref/blacklist/mm10-blacklist.v2.bed.gz",
    "delta_to_mean": 0.3,
    "dmr_path": "/home/hanliu/project/mouse_rostral_brain/DMR/SubType/raw/SubType-chrY/SubType-chrY_rms_results_collapsed.tsv",
    "dmr_prefix": "Sub",
    "dms_cutoff": 1,
    "skip_quantile": 0.25
   },
   "start_time": "2020-01-19T23:43:47.672968",
   "version": "1.0.1"
  },
  "toc": {
   "base_numbering": 1,
   "nav_menu": {},
   "number_sections": true,
   "sideBar": true,
   "skip_h1_title": true,
   "title_cell": "Table of Contents",
   "title_sidebar": "Contents",
   "toc_cell": false,
   "toc_position": {},
   "toc_section_display": true,
   "toc_window_display": true
  }
 },
 "nbformat": 4,
 "nbformat_minor": 2
}
