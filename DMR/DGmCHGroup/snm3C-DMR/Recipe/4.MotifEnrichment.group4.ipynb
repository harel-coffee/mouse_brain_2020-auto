{
 "cells": [
  {
   "cell_type": "markdown",
   "metadata": {
    "papermill": {
     "duration": 0.009511,
     "end_time": "2020-01-14T07:10:46.961375",
     "exception": false,
     "start_time": "2020-01-14T07:10:46.951864",
     "status": "completed"
    },
    "tags": []
   },
   "source": [
    "# Motif Enrichment\n",
    "- The motif hits matrix save the max loglikelyhood score of a motif in that DMR\n",
    "- Before run the motif enrichment, I filter the scores for each motif using cutoff defined by\n",
    "    - `np.quantile(motif_score[motif_score > 0]) * mask_quantile_to99`\n",
    "- This filter will remove hits with low score, which is likely to be false positive\n",
    "- Its likely boosting the significance of real enrichment"
   ]
  },
  {
   "cell_type": "code",
   "execution_count": 1,
   "metadata": {
    "ExecuteTime": {
     "end_time": "2020-01-14T06:18:26.896128Z",
     "start_time": "2020-01-14T06:18:26.189762Z"
    },
    "papermill": {
     "duration": 0.665769,
     "end_time": "2020-01-14T07:10:47.637255",
     "exception": false,
     "start_time": "2020-01-14T07:10:46.971486",
     "status": "completed"
    },
    "tags": []
   },
   "outputs": [],
   "source": [
    "from concurrent.futures import ProcessPoolExecutor, as_completed\n",
    "import anndata\n",
    "import matplotlib.pyplot as plt\n",
    "import numpy as np\n",
    "import pandas as pd\n",
    "import pybedtools\n",
    "import scipy.stats as stats\n",
    "import seaborn as sns\n",
    "from scipy.sparse import csr_matrix\n",
    "from statsmodels.stats.multitest import multipletests\n",
    "import pathlib"
   ]
  },
  {
   "cell_type": "code",
   "execution_count": 2,
   "metadata": {
    "ExecuteTime": {
     "end_time": "2020-01-14T06:18:26.900954Z",
     "start_time": "2020-01-14T06:18:26.898077Z"
    },
    "papermill": {
     "duration": 0.015774,
     "end_time": "2020-01-14T07:10:47.663103",
     "exception": false,
     "start_time": "2020-01-14T07:10:47.647329",
     "status": "completed"
    },
    "tags": [
     "parameters"
    ]
   },
   "outputs": [],
   "source": [
    "mask_quantile_to99 = 0.9\n",
    "or_cutoff = 1.5\n",
    "neg_lgp_cutoff = 10\n",
    "group = 'IT-L23+ACA'\n",
    "\n",
    "motif_hits_path = '/home/hanliu/project/mouse_rostral_brain/DMR/ITSpatial_by_layer/IT-L23/MotifScan.h5ad'\n",
    "dmr_hits_path = f'/home/hanliu/project/mouse_rostral_brain/DMR/ITSpatial_by_layer/IT-L23/HypoDMR/{group}.DMS1.bed'\n",
    "output_dir = '/home/hanliu/project/mouse_rostral_brain/DMR/ITSpatial_by_layer/IT-L23/MotifEnrichment'\n"
   ]
  },
  {
   "cell_type": "code",
   "execution_count": 3,
   "metadata": {
    "papermill": {
     "duration": 0.014488,
     "end_time": "2020-01-14T07:10:47.686630",
     "exception": false,
     "start_time": "2020-01-14T07:10:47.672142",
     "status": "completed"
    },
    "tags": [
     "injected-parameters"
    ]
   },
   "outputs": [],
   "source": [
    "# Parameters\n",
    "mask_quantile_to99 = 0.9\n",
    "or_cutoff = 1.5\n",
    "neg_lgp_cutoff = 10\n",
    "group = \"group4\"\n",
    "motif_hits_path = \"/home/hanliu/project/mouse_rostral_brain/DMR/DGmCHGroup/snm3C-DMR/MotifScan.h5ad\"\n",
    "dmr_hits_path = \"/home/hanliu/project/mouse_rostral_brain/DMR/DGmCHGroup/snm3C-DMR/HypoDMR/group4.DMS1.bed\"\n",
    "output_dir = \"/home/hanliu/project/mouse_rostral_brain/DMR/DGmCHGroup/snm3C-DMR/MotifEnrichment\"\n"
   ]
  },
  {
   "cell_type": "code",
   "execution_count": 4,
   "metadata": {
    "ExecuteTime": {
     "end_time": "2020-01-14T06:18:26.904527Z",
     "start_time": "2020-01-14T06:18:26.902313Z"
    },
    "papermill": {
     "duration": 0.013925,
     "end_time": "2020-01-14T07:10:47.709408",
     "exception": false,
     "start_time": "2020-01-14T07:10:47.695483",
     "status": "completed"
    },
    "tags": []
   },
   "outputs": [],
   "source": [
    "output_dir = pathlib.Path(output_dir)\n",
    "output_dir.mkdir(exist_ok=True)"
   ]
  },
  {
   "cell_type": "markdown",
   "metadata": {
    "papermill": {
     "duration": 0.00916,
     "end_time": "2020-01-14T07:10:47.727839",
     "exception": false,
     "start_time": "2020-01-14T07:10:47.718679",
     "status": "completed"
    },
    "tags": []
   },
   "source": [
    "## DMR hits"
   ]
  },
  {
   "cell_type": "code",
   "execution_count": 5,
   "metadata": {
    "ExecuteTime": {
     "end_time": "2020-01-14T06:18:26.977147Z",
     "start_time": "2020-01-14T06:18:26.905687Z"
    },
    "papermill": {
     "duration": 0.02973,
     "end_time": "2020-01-14T07:10:47.766825",
     "exception": false,
     "start_time": "2020-01-14T07:10:47.737095",
     "status": "completed"
    },
    "tags": []
   },
   "outputs": [
    {
     "data": {
      "text/html": [
       "<div>\n",
       "<style scoped>\n",
       "    .dataframe tbody tr th:only-of-type {\n",
       "        vertical-align: middle;\n",
       "    }\n",
       "\n",
       "    .dataframe tbody tr th {\n",
       "        vertical-align: top;\n",
       "    }\n",
       "\n",
       "    .dataframe thead th {\n",
       "        text-align: right;\n",
       "    }\n",
       "</style>\n",
       "<table border=\"1\" class=\"dataframe\">\n",
       "  <thead>\n",
       "    <tr style=\"text-align: right;\">\n",
       "      <th></th>\n",
       "      <th>0</th>\n",
       "      <th>1</th>\n",
       "      <th>2</th>\n",
       "    </tr>\n",
       "    <tr>\n",
       "      <th>3</th>\n",
       "      <th></th>\n",
       "      <th></th>\n",
       "      <th></th>\n",
       "    </tr>\n",
       "  </thead>\n",
       "  <tbody>\n",
       "    <tr>\n",
       "      <th>DGm3c_3</th>\n",
       "      <td>chr1</td>\n",
       "      <td>3410879</td>\n",
       "      <td>3410879</td>\n",
       "    </tr>\n",
       "    <tr>\n",
       "      <th>DGm3c_6</th>\n",
       "      <td>chr1</td>\n",
       "      <td>3918041</td>\n",
       "      <td>3918041</td>\n",
       "    </tr>\n",
       "    <tr>\n",
       "      <th>DGm3c_22</th>\n",
       "      <td>chr1</td>\n",
       "      <td>6064492</td>\n",
       "      <td>6064492</td>\n",
       "    </tr>\n",
       "    <tr>\n",
       "      <th>DGm3c_26</th>\n",
       "      <td>chr1</td>\n",
       "      <td>6538502</td>\n",
       "      <td>6538502</td>\n",
       "    </tr>\n",
       "    <tr>\n",
       "      <th>DGm3c_56</th>\n",
       "      <td>chr1</td>\n",
       "      <td>9091137</td>\n",
       "      <td>9091137</td>\n",
       "    </tr>\n",
       "  </tbody>\n",
       "</table>\n",
       "</div>"
      ],
      "text/plain": [
       "             0        1        2\n",
       "3                               \n",
       "DGm3c_3   chr1  3410879  3410879\n",
       "DGm3c_6   chr1  3918041  3918041\n",
       "DGm3c_22  chr1  6064492  6064492\n",
       "DGm3c_26  chr1  6538502  6538502\n",
       "DGm3c_56  chr1  9091137  9091137"
      ]
     },
     "execution_count": 5,
     "metadata": {},
     "output_type": "execute_result"
    }
   ],
   "source": [
    "dmr_bed_df = pd.read_csv(dmr_hits_path, sep='\\t', header=None, index_col=3)\n",
    "dmr_bed_df.head()"
   ]
  },
  {
   "cell_type": "code",
   "execution_count": 6,
   "metadata": {
    "ExecuteTime": {
     "end_time": "2020-01-14T06:18:29.520483Z",
     "start_time": "2020-01-14T06:18:26.978411Z"
    },
    "papermill": {
     "duration": 0.266525,
     "end_time": "2020-01-14T07:10:48.043320",
     "exception": false,
     "start_time": "2020-01-14T07:10:47.776795",
     "status": "completed"
    },
    "tags": []
   },
   "outputs": [
    {
     "data": {
      "text/plain": [
       "AnnData object with n_obs × n_vars = 4809 × 719 \n",
       "    obs: 'chrom', 'start', 'end'"
      ]
     },
     "execution_count": 6,
     "metadata": {},
     "output_type": "execute_result"
    }
   ],
   "source": [
    "motif_hits = anndata.read_h5ad(motif_hits_path)\n",
    "motif_hits = motif_hits[dmr_bed_df.index, :].copy()\n",
    "motif_ids = motif_hits.var_names\n",
    "motif_hits.X = motif_hits.X.todense()\n",
    "motif_hits"
   ]
  },
  {
   "cell_type": "code",
   "execution_count": 7,
   "metadata": {
    "ExecuteTime": {
     "end_time": "2020-01-14T06:18:30.371315Z",
     "start_time": "2020-01-14T06:18:29.522335Z"
    },
    "papermill": {
     "duration": 0.140132,
     "end_time": "2020-01-14T07:10:48.193052",
     "exception": false,
     "start_time": "2020-01-14T07:10:48.052920",
     "status": "completed"
    },
    "tags": []
   },
   "outputs": [],
   "source": [
    "# mask small motif scores\n",
    "motif_cutoff = pd.Series(np.apply_along_axis(lambda i: np.quantile(i[i>0], 0.99) * mask_quantile_to99, \n",
    "                                             0, motif_hits.X),\n",
    "                         index=motif_hits.var_names)\n",
    "# only keep value larger than the cutoff for each motif\n",
    "motif_hits.X = np.multiply(motif_hits.X, (motif_hits.X > motif_cutoff.values[None, :]))"
   ]
  },
  {
   "cell_type": "markdown",
   "metadata": {
    "papermill": {
     "duration": 0.0098,
     "end_time": "2020-01-14T07:10:48.213510",
     "exception": false,
     "start_time": "2020-01-14T07:10:48.203710",
     "status": "completed"
    },
    "tags": []
   },
   "source": [
    "## Background Hits"
   ]
  },
  {
   "cell_type": "code",
   "execution_count": 8,
   "metadata": {
    "ExecuteTime": {
     "end_time": "2020-01-14T06:18:31.539994Z",
     "start_time": "2020-01-14T06:18:30.373663Z"
    },
    "papermill": {
     "duration": 1.176283,
     "end_time": "2020-01-14T07:10:49.399705",
     "exception": false,
     "start_time": "2020-01-14T07:10:48.223422",
     "status": "completed"
    },
    "tags": []
   },
   "outputs": [],
   "source": [
    "background_motif_hits = anndata.read_h5ad(\n",
    "    '/home/hanliu/project/mouse_rostral_brain/DMR/BackgroundDMR/MotifScan.h5ad'\n",
    ")"
   ]
  },
  {
   "cell_type": "code",
   "execution_count": 9,
   "metadata": {
    "ExecuteTime": {
     "end_time": "2020-01-14T06:18:32.577829Z",
     "start_time": "2020-01-14T06:18:31.541596Z"
    },
    "papermill": {
     "duration": 0.940693,
     "end_time": "2020-01-14T07:10:50.351401",
     "exception": false,
     "start_time": "2020-01-14T07:10:49.410708",
     "status": "completed"
    },
    "tags": []
   },
   "outputs": [],
   "source": [
    "dmr_bed = pybedtools.BedTool().from_dataframe(dmr_bed_df)\n",
    "bg_bed = pybedtools.BedTool().from_dataframe(\n",
    "    background_motif_hits.obs.reset_index().iloc[:, [1, 2, 3, 0]])"
   ]
  },
  {
   "cell_type": "code",
   "execution_count": 10,
   "metadata": {
    "ExecuteTime": {
     "end_time": "2020-01-14T06:18:34.079285Z",
     "start_time": "2020-01-14T06:18:32.579345Z"
    },
    "papermill": {
     "duration": 1.485015,
     "end_time": "2020-01-14T07:10:51.847580",
     "exception": false,
     "start_time": "2020-01-14T07:10:50.362565",
     "status": "completed"
    },
    "tags": []
   },
   "outputs": [],
   "source": [
    "# exclude background that overlap with DMR\n",
    "bg_no_overlap = bg_bed.intersect(dmr_bed, v=True)\n",
    "use_bg = bg_no_overlap.to_dataframe().iloc[:, -1].values\n",
    "background_motif_hits = background_motif_hits[use_bg, :]\n",
    "\n",
    "# make sure col in same order\n",
    "background_motif_hits = background_motif_hits[:, motif_ids].copy()"
   ]
  },
  {
   "cell_type": "code",
   "execution_count": 11,
   "metadata": {
    "ExecuteTime": {
     "end_time": "2020-01-14T06:18:36.216633Z",
     "start_time": "2020-01-14T06:18:34.081084Z"
    },
    "papermill": {
     "duration": 2.287046,
     "end_time": "2020-01-14T07:10:54.145881",
     "exception": false,
     "start_time": "2020-01-14T07:10:51.858835",
     "status": "completed"
    },
    "tags": []
   },
   "outputs": [],
   "source": [
    "judge_matrix = csr_matrix(background_motif_hits.X > motif_cutoff.values[None, :])\n",
    "background_motif_hits.X = background_motif_hits.X.multiply(judge_matrix)"
   ]
  },
  {
   "cell_type": "code",
   "execution_count": 12,
   "metadata": {
    "ExecuteTime": {
     "end_time": "2020-01-14T06:18:36.221914Z",
     "start_time": "2020-01-14T06:18:36.218391Z"
    },
    "papermill": {
     "duration": 0.01703,
     "end_time": "2020-01-14T07:10:54.173506",
     "exception": false,
     "start_time": "2020-01-14T07:10:54.156476",
     "status": "completed"
    },
    "tags": []
   },
   "outputs": [
    {
     "data": {
      "text/plain": [
       "AnnData object with n_obs × n_vars = 345773 × 719 \n",
       "    obs: 'chrom', 'start', 'end'"
      ]
     },
     "execution_count": 12,
     "metadata": {},
     "output_type": "execute_result"
    }
   ],
   "source": [
    "background_motif_hits"
   ]
  },
  {
   "cell_type": "markdown",
   "metadata": {
    "papermill": {
     "duration": 0.009717,
     "end_time": "2020-01-14T07:10:54.192791",
     "exception": false,
     "start_time": "2020-01-14T07:10:54.183074",
     "status": "completed"
    },
    "tags": []
   },
   "source": [
    "## Motif hits contingency table"
   ]
  },
  {
   "cell_type": "code",
   "execution_count": 13,
   "metadata": {
    "ExecuteTime": {
     "end_time": "2020-01-14T06:18:36.569593Z",
     "start_time": "2020-01-14T06:18:36.223112Z"
    },
    "papermill": {
     "duration": 0.184561,
     "end_time": "2020-01-14T07:10:54.387235",
     "exception": false,
     "start_time": "2020-01-14T07:10:54.202674",
     "status": "completed"
    },
    "tags": []
   },
   "outputs": [],
   "source": [
    "# calculate motif occurence, not considering hits here\n",
    "pos = (motif_hits.X > 0).sum(axis=0)\n",
    "pos_total = motif_hits.shape[0]\n",
    "\n",
    "neg = (background_motif_hits.X > 0).sum(axis=0)\n",
    "neg_total = background_motif_hits.shape[0]"
   ]
  },
  {
   "cell_type": "code",
   "execution_count": 14,
   "metadata": {
    "ExecuteTime": {
     "end_time": "2020-01-14T06:18:36.575198Z",
     "start_time": "2020-01-14T06:18:36.571005Z"
    },
    "papermill": {
     "duration": 0.066693,
     "end_time": "2020-01-14T07:10:54.464885",
     "exception": false,
     "start_time": "2020-01-14T07:10:54.398192",
     "status": "completed"
    },
    "scrolled": true,
    "tags": []
   },
   "outputs": [],
   "source": [
    "tables = {}\n",
    "for motif, _pos, _neg in zip(motif_ids, pos.A1, neg.A1):\n",
    "    table = [[_pos, pos_total - _pos], [_neg, neg_total - _neg]]\n",
    "    tables[motif] = table"
   ]
  },
  {
   "cell_type": "code",
   "execution_count": 15,
   "metadata": {
    "ExecuteTime": {
     "end_time": "2020-01-14T06:18:37.087058Z",
     "start_time": "2020-01-14T06:18:36.576449Z"
    },
    "papermill": {
     "duration": 0.545627,
     "end_time": "2020-01-14T07:10:55.020781",
     "exception": false,
     "start_time": "2020-01-14T07:10:54.475154",
     "status": "completed"
    },
    "tags": []
   },
   "outputs": [],
   "source": [
    "results = {}\n",
    "with ProcessPoolExecutor(20) as executor:\n",
    "    fs = {}\n",
    "    for motif, t in tables.items():\n",
    "        f = executor.submit(stats.fisher_exact, t, alternative='greater')\n",
    "        fs[f] = motif\n",
    "\n",
    "    for f in as_completed(fs):\n",
    "        motif = fs[f]\n",
    "        odds, p = f.result()\n",
    "        results[motif] = {'oddsratio': odds, 'p_value': p}\n",
    "motif_enrich_df = pd.DataFrame(results).T\n",
    "\n",
    "_, p, _, _ = multipletests(motif_enrich_df['p_value'], method='fdr_bh')\n",
    "motif_enrich_df['adj_p'] = p\n",
    "\n",
    "motif_enrich_df['-lgp'] = -np.log10(motif_enrich_df['adj_p']).replace(\n",
    "    -np.inf, -300)\n",
    "\n",
    "records = {}\n",
    "for motif, t in tables.items():\n",
    "    tp, tn = t[0]\n",
    "    fp, fn = t[1]\n",
    "    tp_rate = tp / pos_total\n",
    "    fp_rate = fp / neg_total\n",
    "    records[motif] = dict(tp=tp,\n",
    "                          tn=tn,\n",
    "                          fp=fp,\n",
    "                          fn=fn,\n",
    "                          tp_rate=tp_rate,\n",
    "                          fp_rate=fp_rate)\n",
    "counts = pd.DataFrame(records).T\n",
    "motif_enrich_df = pd.concat([motif_enrich_df, counts], axis=1, sort=True)"
   ]
  },
  {
   "cell_type": "code",
   "execution_count": 16,
   "metadata": {
    "ExecuteTime": {
     "end_time": "2020-01-14T06:18:37.092111Z",
     "start_time": "2020-01-14T06:18:37.088525Z"
    },
    "papermill": {
     "duration": 0.017495,
     "end_time": "2020-01-14T07:10:55.049725",
     "exception": false,
     "start_time": "2020-01-14T07:10:55.032230",
     "status": "completed"
    },
    "tags": []
   },
   "outputs": [],
   "source": [
    "motif_enrich_df['Group'] = group"
   ]
  },
  {
   "cell_type": "code",
   "execution_count": 17,
   "metadata": {
    "ExecuteTime": {
     "end_time": "2020-01-14T06:18:37.099304Z",
     "start_time": "2020-01-14T06:18:37.093659Z"
    },
    "papermill": {
     "duration": 0.01858,
     "end_time": "2020-01-14T07:10:55.078445",
     "exception": false,
     "start_time": "2020-01-14T07:10:55.059865",
     "status": "completed"
    },
    "tags": []
   },
   "outputs": [
    {
     "data": {
      "text/plain": [
       "4"
      ]
     },
     "execution_count": 17,
     "metadata": {},
     "output_type": "execute_result"
    }
   ],
   "source": [
    "# final filter\n",
    "filtered_motif_df = motif_enrich_df[(motif_enrich_df['oddsratio'] > or_cutoff)\n",
    "                                    &\n",
    "                                    (motif_enrich_df['-lgp'] > neg_lgp_cutoff)]\n",
    "filtered_motif_df.shape[0]"
   ]
  },
  {
   "cell_type": "code",
   "execution_count": 18,
   "metadata": {
    "ExecuteTime": {
     "end_time": "2020-01-14T06:18:37.104396Z",
     "start_time": "2020-01-14T06:18:37.100619Z"
    },
    "papermill": {
     "duration": 0.017766,
     "end_time": "2020-01-14T07:10:55.106522",
     "exception": false,
     "start_time": "2020-01-14T07:10:55.088756",
     "status": "completed"
    },
    "tags": []
   },
   "outputs": [
    {
     "name": "stderr",
     "output_type": "stream",
     "text": [
      "/home/hanliu/miniconda3/envs/clustering/lib/python3.7/site-packages/ipykernel_launcher.py:1: FutureWarning: to_msgpack is deprecated and will be removed in a future version.\n",
      "It is recommended to use pyarrow for on-the-wire transmission of pandas objects.\n",
      "  \"\"\"Entry point for launching an IPython kernel.\n"
     ]
    }
   ],
   "source": [
    "motif_enrich_df.to_msgpack(output_dir / f'{group}.motif_enrichment.msg')"
   ]
  },
  {
   "cell_type": "code",
   "execution_count": 19,
   "metadata": {
    "ExecuteTime": {
     "end_time": "2020-01-14T06:18:37.114285Z",
     "start_time": "2020-01-14T06:18:37.105716Z"
    },
    "papermill": {
     "duration": 0.020672,
     "end_time": "2020-01-14T07:10:55.137839",
     "exception": false,
     "start_time": "2020-01-14T07:10:55.117167",
     "status": "completed"
    },
    "tags": []
   },
   "outputs": [],
   "source": [
    "pybedtools.cleanup()"
   ]
  },
  {
   "cell_type": "code",
   "execution_count": 20,
   "metadata": {
    "ExecuteTime": {
     "end_time": "2020-01-14T06:18:37.133796Z",
     "start_time": "2020-01-14T06:18:37.115607Z"
    },
    "papermill": {
     "duration": 0.025197,
     "end_time": "2020-01-14T07:10:55.174295",
     "exception": false,
     "start_time": "2020-01-14T07:10:55.149098",
     "status": "completed"
    },
    "tags": []
   },
   "outputs": [
    {
     "data": {
      "text/html": [
       "<div>\n",
       "<style scoped>\n",
       "    .dataframe tbody tr th:only-of-type {\n",
       "        vertical-align: middle;\n",
       "    }\n",
       "\n",
       "    .dataframe tbody tr th {\n",
       "        vertical-align: top;\n",
       "    }\n",
       "\n",
       "    .dataframe thead th {\n",
       "        text-align: right;\n",
       "    }\n",
       "</style>\n",
       "<table border=\"1\" class=\"dataframe\">\n",
       "  <thead>\n",
       "    <tr style=\"text-align: right;\">\n",
       "      <th></th>\n",
       "      <th>oddsratio</th>\n",
       "      <th>p_value</th>\n",
       "      <th>adj_p</th>\n",
       "      <th>-lgp</th>\n",
       "      <th>tp</th>\n",
       "      <th>tn</th>\n",
       "      <th>fp</th>\n",
       "      <th>fn</th>\n",
       "      <th>tp_rate</th>\n",
       "      <th>fp_rate</th>\n",
       "      <th>Group</th>\n",
       "    </tr>\n",
       "  </thead>\n",
       "  <tbody>\n",
       "    <tr>\n",
       "      <th>MA0607.1</th>\n",
       "      <td>1.733817</td>\n",
       "      <td>8.818411e-17</td>\n",
       "      <td>1.585109e-14</td>\n",
       "      <td>13.799941</td>\n",
       "      <td>285.0</td>\n",
       "      <td>4524.0</td>\n",
       "      <td>12123.0</td>\n",
       "      <td>333650.0</td>\n",
       "      <td>0.059264</td>\n",
       "      <td>0.035061</td>\n",
       "      <td>group4</td>\n",
       "    </tr>\n",
       "    <tr>\n",
       "      <th>MA1109.1</th>\n",
       "      <td>2.396883</td>\n",
       "      <td>1.672570e-23</td>\n",
       "      <td>4.008593e-21</td>\n",
       "      <td>20.397008</td>\n",
       "      <td>177.0</td>\n",
       "      <td>4632.0</td>\n",
       "      <td>5426.0</td>\n",
       "      <td>340347.0</td>\n",
       "      <td>0.036806</td>\n",
       "      <td>0.015692</td>\n",
       "      <td>group4</td>\n",
       "    </tr>\n",
       "    <tr>\n",
       "      <th>MA1638.1</th>\n",
       "      <td>1.614979</td>\n",
       "      <td>1.155990e-24</td>\n",
       "      <td>4.155783e-22</td>\n",
       "      <td>21.381347</td>\n",
       "      <td>592.0</td>\n",
       "      <td>4217.0</td>\n",
       "      <td>27653.0</td>\n",
       "      <td>318120.0</td>\n",
       "      <td>0.123103</td>\n",
       "      <td>0.079974</td>\n",
       "      <td>group4</td>\n",
       "    </tr>\n",
       "    <tr>\n",
       "      <th>MA1642.1</th>\n",
       "      <td>2.316799</td>\n",
       "      <td>8.422224e-38</td>\n",
       "      <td>6.055579e-35</td>\n",
       "      <td>34.217844</td>\n",
       "      <td>321.0</td>\n",
       "      <td>4488.0</td>\n",
       "      <td>10355.0</td>\n",
       "      <td>335418.0</td>\n",
       "      <td>0.066750</td>\n",
       "      <td>0.029947</td>\n",
       "      <td>group4</td>\n",
       "    </tr>\n",
       "  </tbody>\n",
       "</table>\n",
       "</div>"
      ],
      "text/plain": [
       "          oddsratio       p_value         adj_p       -lgp     tp      tn  \\\n",
       "MA0607.1   1.733817  8.818411e-17  1.585109e-14  13.799941  285.0  4524.0   \n",
       "MA1109.1   2.396883  1.672570e-23  4.008593e-21  20.397008  177.0  4632.0   \n",
       "MA1638.1   1.614979  1.155990e-24  4.155783e-22  21.381347  592.0  4217.0   \n",
       "MA1642.1   2.316799  8.422224e-38  6.055579e-35  34.217844  321.0  4488.0   \n",
       "\n",
       "               fp        fn   tp_rate   fp_rate   Group  \n",
       "MA0607.1  12123.0  333650.0  0.059264  0.035061  group4  \n",
       "MA1109.1   5426.0  340347.0  0.036806  0.015692  group4  \n",
       "MA1638.1  27653.0  318120.0  0.123103  0.079974  group4  \n",
       "MA1642.1  10355.0  335418.0  0.066750  0.029947  group4  "
      ]
     },
     "execution_count": 20,
     "metadata": {},
     "output_type": "execute_result"
    }
   ],
   "source": [
    "filtered_motif_df"
   ]
  },
  {
   "cell_type": "code",
   "execution_count": null,
   "metadata": {
    "papermill": {
     "duration": 0.010343,
     "end_time": "2020-01-14T07:10:55.194906",
     "exception": false,
     "start_time": "2020-01-14T07:10:55.184563",
     "status": "completed"
    },
    "tags": []
   },
   "outputs": [],
   "source": []
  }
 ],
 "metadata": {
  "hide_input": false,
  "kernelspec": {
   "display_name": "Python 3",
   "language": "python",
   "name": "python3"
  },
  "language_info": {
   "codemirror_mode": {
    "name": "ipython",
    "version": 3
   },
   "file_extension": ".py",
   "mimetype": "text/x-python",
   "name": "python",
   "nbconvert_exporter": "python",
   "pygments_lexer": "ipython3",
   "version": "3.7.3"
  },
  "papermill": {
   "duration": 9.53362,
   "end_time": "2020-01-14T07:10:55.610998",
   "environment_variables": {},
   "exception": null,
   "input_path": "4.MotifEnrichment.ipynb",
   "output_path": "/home/hanliu/project/mouse_rostral_brain/DMR/DGmCHGroup/snm3C-DMR/Recipe/4.MotifEnrichment.group4.ipynb",
   "parameters": {
    "dmr_hits_path": "/home/hanliu/project/mouse_rostral_brain/DMR/DGmCHGroup/snm3C-DMR/HypoDMR/group4.DMS1.bed",
    "group": "group4",
    "mask_quantile_to99": 0.9,
    "motif_hits_path": "/home/hanliu/project/mouse_rostral_brain/DMR/DGmCHGroup/snm3C-DMR/MotifScan.h5ad",
    "neg_lgp_cutoff": 10,
    "or_cutoff": 1.5,
    "output_dir": "/home/hanliu/project/mouse_rostral_brain/DMR/DGmCHGroup/snm3C-DMR/MotifEnrichment"
   },
   "start_time": "2020-01-14T07:10:46.077378",
   "version": "1.0.1"
  },
  "toc": {
   "base_numbering": 1,
   "nav_menu": {},
   "number_sections": true,
   "sideBar": true,
   "skip_h1_title": true,
   "title_cell": "Table of Contents",
   "title_sidebar": "Contents",
   "toc_cell": false,
   "toc_position": {},
   "toc_section_display": true,
   "toc_window_display": true
  }
 },
 "nbformat": 4,
 "nbformat_minor": 2
}
