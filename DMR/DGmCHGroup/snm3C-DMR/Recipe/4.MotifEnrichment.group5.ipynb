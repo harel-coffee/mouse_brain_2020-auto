{
 "cells": [
  {
   "cell_type": "markdown",
   "metadata": {
    "papermill": {
     "duration": 0.009505,
     "end_time": "2020-01-14T07:10:56.545500",
     "exception": false,
     "start_time": "2020-01-14T07:10:56.535995",
     "status": "completed"
    },
    "tags": []
   },
   "source": [
    "# Motif Enrichment\n",
    "- The motif hits matrix save the max loglikelyhood score of a motif in that DMR\n",
    "- Before run the motif enrichment, I filter the scores for each motif using cutoff defined by\n",
    "    - `np.quantile(motif_score[motif_score > 0]) * mask_quantile_to99`\n",
    "- This filter will remove hits with low score, which is likely to be false positive\n",
    "- Its likely boosting the significance of real enrichment"
   ]
  },
  {
   "cell_type": "code",
   "execution_count": 1,
   "metadata": {
    "ExecuteTime": {
     "end_time": "2020-01-14T06:18:26.896128Z",
     "start_time": "2020-01-14T06:18:26.189762Z"
    },
    "papermill": {
     "duration": 0.679745,
     "end_time": "2020-01-14T07:10:57.235593",
     "exception": false,
     "start_time": "2020-01-14T07:10:56.555848",
     "status": "completed"
    },
    "tags": []
   },
   "outputs": [],
   "source": [
    "from concurrent.futures import ProcessPoolExecutor, as_completed\n",
    "import anndata\n",
    "import matplotlib.pyplot as plt\n",
    "import numpy as np\n",
    "import pandas as pd\n",
    "import pybedtools\n",
    "import scipy.stats as stats\n",
    "import seaborn as sns\n",
    "from scipy.sparse import csr_matrix\n",
    "from statsmodels.stats.multitest import multipletests\n",
    "import pathlib"
   ]
  },
  {
   "cell_type": "code",
   "execution_count": 2,
   "metadata": {
    "ExecuteTime": {
     "end_time": "2020-01-14T06:18:26.900954Z",
     "start_time": "2020-01-14T06:18:26.898077Z"
    },
    "papermill": {
     "duration": 0.016075,
     "end_time": "2020-01-14T07:10:57.261740",
     "exception": false,
     "start_time": "2020-01-14T07:10:57.245665",
     "status": "completed"
    },
    "tags": [
     "parameters"
    ]
   },
   "outputs": [],
   "source": [
    "mask_quantile_to99 = 0.9\n",
    "or_cutoff = 1.5\n",
    "neg_lgp_cutoff = 10\n",
    "group = 'IT-L23+ACA'\n",
    "\n",
    "motif_hits_path = '/home/hanliu/project/mouse_rostral_brain/DMR/ITSpatial_by_layer/IT-L23/MotifScan.h5ad'\n",
    "dmr_hits_path = f'/home/hanliu/project/mouse_rostral_brain/DMR/ITSpatial_by_layer/IT-L23/HypoDMR/{group}.DMS1.bed'\n",
    "output_dir = '/home/hanliu/project/mouse_rostral_brain/DMR/ITSpatial_by_layer/IT-L23/MotifEnrichment'\n"
   ]
  },
  {
   "cell_type": "code",
   "execution_count": 3,
   "metadata": {
    "papermill": {
     "duration": 0.015066,
     "end_time": "2020-01-14T07:10:57.286312",
     "exception": false,
     "start_time": "2020-01-14T07:10:57.271246",
     "status": "completed"
    },
    "tags": [
     "injected-parameters"
    ]
   },
   "outputs": [],
   "source": [
    "# Parameters\n",
    "mask_quantile_to99 = 0.9\n",
    "or_cutoff = 1.5\n",
    "neg_lgp_cutoff = 10\n",
    "group = \"group5\"\n",
    "motif_hits_path = \"/home/hanliu/project/mouse_rostral_brain/DMR/DGmCHGroup/snm3C-DMR/MotifScan.h5ad\"\n",
    "dmr_hits_path = \"/home/hanliu/project/mouse_rostral_brain/DMR/DGmCHGroup/snm3C-DMR/HypoDMR/group5.DMS1.bed\"\n",
    "output_dir = \"/home/hanliu/project/mouse_rostral_brain/DMR/DGmCHGroup/snm3C-DMR/MotifEnrichment\"\n"
   ]
  },
  {
   "cell_type": "code",
   "execution_count": 4,
   "metadata": {
    "ExecuteTime": {
     "end_time": "2020-01-14T06:18:26.904527Z",
     "start_time": "2020-01-14T06:18:26.902313Z"
    },
    "papermill": {
     "duration": 0.014399,
     "end_time": "2020-01-14T07:10:57.310225",
     "exception": false,
     "start_time": "2020-01-14T07:10:57.295826",
     "status": "completed"
    },
    "tags": []
   },
   "outputs": [],
   "source": [
    "output_dir = pathlib.Path(output_dir)\n",
    "output_dir.mkdir(exist_ok=True)"
   ]
  },
  {
   "cell_type": "markdown",
   "metadata": {
    "papermill": {
     "duration": 0.009521,
     "end_time": "2020-01-14T07:10:57.329202",
     "exception": false,
     "start_time": "2020-01-14T07:10:57.319681",
     "status": "completed"
    },
    "tags": []
   },
   "source": [
    "## DMR hits"
   ]
  },
  {
   "cell_type": "code",
   "execution_count": 5,
   "metadata": {
    "ExecuteTime": {
     "end_time": "2020-01-14T06:18:26.977147Z",
     "start_time": "2020-01-14T06:18:26.905687Z"
    },
    "papermill": {
     "duration": 0.037505,
     "end_time": "2020-01-14T07:10:57.376640",
     "exception": false,
     "start_time": "2020-01-14T07:10:57.339135",
     "status": "completed"
    },
    "tags": []
   },
   "outputs": [
    {
     "data": {
      "text/html": [
       "<div>\n",
       "<style scoped>\n",
       "    .dataframe tbody tr th:only-of-type {\n",
       "        vertical-align: middle;\n",
       "    }\n",
       "\n",
       "    .dataframe tbody tr th {\n",
       "        vertical-align: top;\n",
       "    }\n",
       "\n",
       "    .dataframe thead th {\n",
       "        text-align: right;\n",
       "    }\n",
       "</style>\n",
       "<table border=\"1\" class=\"dataframe\">\n",
       "  <thead>\n",
       "    <tr style=\"text-align: right;\">\n",
       "      <th></th>\n",
       "      <th>0</th>\n",
       "      <th>1</th>\n",
       "      <th>2</th>\n",
       "    </tr>\n",
       "    <tr>\n",
       "      <th>3</th>\n",
       "      <th></th>\n",
       "      <th></th>\n",
       "      <th></th>\n",
       "    </tr>\n",
       "  </thead>\n",
       "  <tbody>\n",
       "    <tr>\n",
       "      <th>DGm3c_5</th>\n",
       "      <td>chr1</td>\n",
       "      <td>3878269</td>\n",
       "      <td>3878269</td>\n",
       "    </tr>\n",
       "    <tr>\n",
       "      <th>DGm3c_7</th>\n",
       "      <td>chr1</td>\n",
       "      <td>4092725</td>\n",
       "      <td>4092725</td>\n",
       "    </tr>\n",
       "    <tr>\n",
       "      <th>DGm3c_21</th>\n",
       "      <td>chr1</td>\n",
       "      <td>6049051</td>\n",
       "      <td>6049051</td>\n",
       "    </tr>\n",
       "    <tr>\n",
       "      <th>DGm3c_26</th>\n",
       "      <td>chr1</td>\n",
       "      <td>6538502</td>\n",
       "      <td>6538502</td>\n",
       "    </tr>\n",
       "    <tr>\n",
       "      <th>DGm3c_28</th>\n",
       "      <td>chr1</td>\n",
       "      <td>6635824</td>\n",
       "      <td>6635824</td>\n",
       "    </tr>\n",
       "  </tbody>\n",
       "</table>\n",
       "</div>"
      ],
      "text/plain": [
       "             0        1        2\n",
       "3                               \n",
       "DGm3c_5   chr1  3878269  3878269\n",
       "DGm3c_7   chr1  4092725  4092725\n",
       "DGm3c_21  chr1  6049051  6049051\n",
       "DGm3c_26  chr1  6538502  6538502\n",
       "DGm3c_28  chr1  6635824  6635824"
      ]
     },
     "execution_count": 5,
     "metadata": {},
     "output_type": "execute_result"
    }
   ],
   "source": [
    "dmr_bed_df = pd.read_csv(dmr_hits_path, sep='\\t', header=None, index_col=3)\n",
    "dmr_bed_df.head()"
   ]
  },
  {
   "cell_type": "code",
   "execution_count": 6,
   "metadata": {
    "ExecuteTime": {
     "end_time": "2020-01-14T06:18:29.520483Z",
     "start_time": "2020-01-14T06:18:26.978411Z"
    },
    "papermill": {
     "duration": 0.288911,
     "end_time": "2020-01-14T07:10:57.676412",
     "exception": false,
     "start_time": "2020-01-14T07:10:57.387501",
     "status": "completed"
    },
    "tags": []
   },
   "outputs": [
    {
     "data": {
      "text/plain": [
       "AnnData object with n_obs × n_vars = 12728 × 719 \n",
       "    obs: 'chrom', 'start', 'end'"
      ]
     },
     "execution_count": 6,
     "metadata": {},
     "output_type": "execute_result"
    }
   ],
   "source": [
    "motif_hits = anndata.read_h5ad(motif_hits_path)\n",
    "motif_hits = motif_hits[dmr_bed_df.index, :].copy()\n",
    "motif_ids = motif_hits.var_names\n",
    "motif_hits.X = motif_hits.X.todense()\n",
    "motif_hits"
   ]
  },
  {
   "cell_type": "code",
   "execution_count": 7,
   "metadata": {
    "ExecuteTime": {
     "end_time": "2020-01-14T06:18:30.371315Z",
     "start_time": "2020-01-14T06:18:29.522335Z"
    },
    "papermill": {
     "duration": 0.233805,
     "end_time": "2020-01-14T07:10:57.920596",
     "exception": false,
     "start_time": "2020-01-14T07:10:57.686791",
     "status": "completed"
    },
    "tags": []
   },
   "outputs": [],
   "source": [
    "# mask small motif scores\n",
    "motif_cutoff = pd.Series(np.apply_along_axis(lambda i: np.quantile(i[i>0], 0.99) * mask_quantile_to99, \n",
    "                                             0, motif_hits.X),\n",
    "                         index=motif_hits.var_names)\n",
    "# only keep value larger than the cutoff for each motif\n",
    "motif_hits.X = np.multiply(motif_hits.X, (motif_hits.X > motif_cutoff.values[None, :]))"
   ]
  },
  {
   "cell_type": "markdown",
   "metadata": {
    "papermill": {
     "duration": 0.010383,
     "end_time": "2020-01-14T07:10:57.942298",
     "exception": false,
     "start_time": "2020-01-14T07:10:57.931915",
     "status": "completed"
    },
    "tags": []
   },
   "source": [
    "## Background Hits"
   ]
  },
  {
   "cell_type": "code",
   "execution_count": 8,
   "metadata": {
    "ExecuteTime": {
     "end_time": "2020-01-14T06:18:31.539994Z",
     "start_time": "2020-01-14T06:18:30.373663Z"
    },
    "papermill": {
     "duration": 1.162249,
     "end_time": "2020-01-14T07:10:59.114531",
     "exception": false,
     "start_time": "2020-01-14T07:10:57.952282",
     "status": "completed"
    },
    "tags": []
   },
   "outputs": [],
   "source": [
    "background_motif_hits = anndata.read_h5ad(\n",
    "    '/home/hanliu/project/mouse_rostral_brain/DMR/BackgroundDMR/MotifScan.h5ad'\n",
    ")"
   ]
  },
  {
   "cell_type": "code",
   "execution_count": 9,
   "metadata": {
    "ExecuteTime": {
     "end_time": "2020-01-14T06:18:32.577829Z",
     "start_time": "2020-01-14T06:18:31.541596Z"
    },
    "papermill": {
     "duration": 0.935607,
     "end_time": "2020-01-14T07:11:00.060781",
     "exception": false,
     "start_time": "2020-01-14T07:10:59.125174",
     "status": "completed"
    },
    "tags": []
   },
   "outputs": [],
   "source": [
    "dmr_bed = pybedtools.BedTool().from_dataframe(dmr_bed_df)\n",
    "bg_bed = pybedtools.BedTool().from_dataframe(\n",
    "    background_motif_hits.obs.reset_index().iloc[:, [1, 2, 3, 0]])"
   ]
  },
  {
   "cell_type": "code",
   "execution_count": 10,
   "metadata": {
    "ExecuteTime": {
     "end_time": "2020-01-14T06:18:34.079285Z",
     "start_time": "2020-01-14T06:18:32.579345Z"
    },
    "papermill": {
     "duration": 1.455213,
     "end_time": "2020-01-14T07:11:01.526955",
     "exception": false,
     "start_time": "2020-01-14T07:11:00.071742",
     "status": "completed"
    },
    "tags": []
   },
   "outputs": [],
   "source": [
    "# exclude background that overlap with DMR\n",
    "bg_no_overlap = bg_bed.intersect(dmr_bed, v=True)\n",
    "use_bg = bg_no_overlap.to_dataframe().iloc[:, -1].values\n",
    "background_motif_hits = background_motif_hits[use_bg, :]\n",
    "\n",
    "# make sure col in same order\n",
    "background_motif_hits = background_motif_hits[:, motif_ids].copy()"
   ]
  },
  {
   "cell_type": "code",
   "execution_count": 11,
   "metadata": {
    "ExecuteTime": {
     "end_time": "2020-01-14T06:18:36.216633Z",
     "start_time": "2020-01-14T06:18:34.081084Z"
    },
    "papermill": {
     "duration": 2.236138,
     "end_time": "2020-01-14T07:11:03.773954",
     "exception": false,
     "start_time": "2020-01-14T07:11:01.537816",
     "status": "completed"
    },
    "tags": []
   },
   "outputs": [],
   "source": [
    "judge_matrix = csr_matrix(background_motif_hits.X > motif_cutoff.values[None, :])\n",
    "background_motif_hits.X = background_motif_hits.X.multiply(judge_matrix)"
   ]
  },
  {
   "cell_type": "code",
   "execution_count": 12,
   "metadata": {
    "ExecuteTime": {
     "end_time": "2020-01-14T06:18:36.221914Z",
     "start_time": "2020-01-14T06:18:36.218391Z"
    },
    "papermill": {
     "duration": 0.016721,
     "end_time": "2020-01-14T07:11:03.801397",
     "exception": false,
     "start_time": "2020-01-14T07:11:03.784676",
     "status": "completed"
    },
    "tags": []
   },
   "outputs": [
    {
     "data": {
      "text/plain": [
       "AnnData object with n_obs × n_vars = 344151 × 719 \n",
       "    obs: 'chrom', 'start', 'end'"
      ]
     },
     "execution_count": 12,
     "metadata": {},
     "output_type": "execute_result"
    }
   ],
   "source": [
    "background_motif_hits"
   ]
  },
  {
   "cell_type": "markdown",
   "metadata": {
    "papermill": {
     "duration": 0.009648,
     "end_time": "2020-01-14T07:11:03.820795",
     "exception": false,
     "start_time": "2020-01-14T07:11:03.811147",
     "status": "completed"
    },
    "tags": []
   },
   "source": [
    "## Motif hits contingency table"
   ]
  },
  {
   "cell_type": "code",
   "execution_count": 13,
   "metadata": {
    "ExecuteTime": {
     "end_time": "2020-01-14T06:18:36.569593Z",
     "start_time": "2020-01-14T06:18:36.223112Z"
    },
    "papermill": {
     "duration": 0.182807,
     "end_time": "2020-01-14T07:11:04.013433",
     "exception": false,
     "start_time": "2020-01-14T07:11:03.830626",
     "status": "completed"
    },
    "tags": []
   },
   "outputs": [],
   "source": [
    "# calculate motif occurence, not considering hits here\n",
    "pos = (motif_hits.X > 0).sum(axis=0)\n",
    "pos_total = motif_hits.shape[0]\n",
    "\n",
    "neg = (background_motif_hits.X > 0).sum(axis=0)\n",
    "neg_total = background_motif_hits.shape[0]"
   ]
  },
  {
   "cell_type": "code",
   "execution_count": 14,
   "metadata": {
    "ExecuteTime": {
     "end_time": "2020-01-14T06:18:36.575198Z",
     "start_time": "2020-01-14T06:18:36.571005Z"
    },
    "papermill": {
     "duration": 0.063453,
     "end_time": "2020-01-14T07:11:04.087761",
     "exception": false,
     "start_time": "2020-01-14T07:11:04.024308",
     "status": "completed"
    },
    "scrolled": true,
    "tags": []
   },
   "outputs": [],
   "source": [
    "tables = {}\n",
    "for motif, _pos, _neg in zip(motif_ids, pos.A1, neg.A1):\n",
    "    table = [[_pos, pos_total - _pos], [_neg, neg_total - _neg]]\n",
    "    tables[motif] = table"
   ]
  },
  {
   "cell_type": "code",
   "execution_count": 15,
   "metadata": {
    "ExecuteTime": {
     "end_time": "2020-01-14T06:18:37.087058Z",
     "start_time": "2020-01-14T06:18:36.576449Z"
    },
    "papermill": {
     "duration": 0.558067,
     "end_time": "2020-01-14T07:11:04.655751",
     "exception": false,
     "start_time": "2020-01-14T07:11:04.097684",
     "status": "completed"
    },
    "tags": []
   },
   "outputs": [],
   "source": [
    "results = {}\n",
    "with ProcessPoolExecutor(20) as executor:\n",
    "    fs = {}\n",
    "    for motif, t in tables.items():\n",
    "        f = executor.submit(stats.fisher_exact, t, alternative='greater')\n",
    "        fs[f] = motif\n",
    "\n",
    "    for f in as_completed(fs):\n",
    "        motif = fs[f]\n",
    "        odds, p = f.result()\n",
    "        results[motif] = {'oddsratio': odds, 'p_value': p}\n",
    "motif_enrich_df = pd.DataFrame(results).T\n",
    "\n",
    "_, p, _, _ = multipletests(motif_enrich_df['p_value'], method='fdr_bh')\n",
    "motif_enrich_df['adj_p'] = p\n",
    "\n",
    "motif_enrich_df['-lgp'] = -np.log10(motif_enrich_df['adj_p']).replace(\n",
    "    -np.inf, -300)\n",
    "\n",
    "records = {}\n",
    "for motif, t in tables.items():\n",
    "    tp, tn = t[0]\n",
    "    fp, fn = t[1]\n",
    "    tp_rate = tp / pos_total\n",
    "    fp_rate = fp / neg_total\n",
    "    records[motif] = dict(tp=tp,\n",
    "                          tn=tn,\n",
    "                          fp=fp,\n",
    "                          fn=fn,\n",
    "                          tp_rate=tp_rate,\n",
    "                          fp_rate=fp_rate)\n",
    "counts = pd.DataFrame(records).T\n",
    "motif_enrich_df = pd.concat([motif_enrich_df, counts], axis=1, sort=True)"
   ]
  },
  {
   "cell_type": "code",
   "execution_count": 16,
   "metadata": {
    "ExecuteTime": {
     "end_time": "2020-01-14T06:18:37.092111Z",
     "start_time": "2020-01-14T06:18:37.088525Z"
    },
    "papermill": {
     "duration": 0.016206,
     "end_time": "2020-01-14T07:11:04.683051",
     "exception": false,
     "start_time": "2020-01-14T07:11:04.666845",
     "status": "completed"
    },
    "tags": []
   },
   "outputs": [],
   "source": [
    "motif_enrich_df['Group'] = group"
   ]
  },
  {
   "cell_type": "code",
   "execution_count": 17,
   "metadata": {
    "ExecuteTime": {
     "end_time": "2020-01-14T06:18:37.099304Z",
     "start_time": "2020-01-14T06:18:37.093659Z"
    },
    "papermill": {
     "duration": 0.018387,
     "end_time": "2020-01-14T07:11:04.711055",
     "exception": false,
     "start_time": "2020-01-14T07:11:04.692668",
     "status": "completed"
    },
    "tags": []
   },
   "outputs": [
    {
     "data": {
      "text/plain": [
       "24"
      ]
     },
     "execution_count": 17,
     "metadata": {},
     "output_type": "execute_result"
    }
   ],
   "source": [
    "# final filter\n",
    "filtered_motif_df = motif_enrich_df[(motif_enrich_df['oddsratio'] > or_cutoff)\n",
    "                                    &\n",
    "                                    (motif_enrich_df['-lgp'] > neg_lgp_cutoff)]\n",
    "filtered_motif_df.shape[0]"
   ]
  },
  {
   "cell_type": "code",
   "execution_count": 18,
   "metadata": {
    "ExecuteTime": {
     "end_time": "2020-01-14T06:18:37.104396Z",
     "start_time": "2020-01-14T06:18:37.100619Z"
    },
    "papermill": {
     "duration": 0.017209,
     "end_time": "2020-01-14T07:11:04.738119",
     "exception": false,
     "start_time": "2020-01-14T07:11:04.720910",
     "status": "completed"
    },
    "tags": []
   },
   "outputs": [
    {
     "name": "stderr",
     "output_type": "stream",
     "text": [
      "/home/hanliu/miniconda3/envs/clustering/lib/python3.7/site-packages/ipykernel_launcher.py:1: FutureWarning: to_msgpack is deprecated and will be removed in a future version.\n",
      "It is recommended to use pyarrow for on-the-wire transmission of pandas objects.\n",
      "  \"\"\"Entry point for launching an IPython kernel.\n"
     ]
    }
   ],
   "source": [
    "motif_enrich_df.to_msgpack(output_dir / f'{group}.motif_enrichment.msg')"
   ]
  },
  {
   "cell_type": "code",
   "execution_count": 19,
   "metadata": {
    "ExecuteTime": {
     "end_time": "2020-01-14T06:18:37.114285Z",
     "start_time": "2020-01-14T06:18:37.105716Z"
    },
    "papermill": {
     "duration": 0.020492,
     "end_time": "2020-01-14T07:11:04.768656",
     "exception": false,
     "start_time": "2020-01-14T07:11:04.748164",
     "status": "completed"
    },
    "tags": []
   },
   "outputs": [],
   "source": [
    "pybedtools.cleanup()"
   ]
  },
  {
   "cell_type": "code",
   "execution_count": 20,
   "metadata": {
    "ExecuteTime": {
     "end_time": "2020-01-14T06:18:37.133796Z",
     "start_time": "2020-01-14T06:18:37.115607Z"
    },
    "papermill": {
     "duration": 0.029278,
     "end_time": "2020-01-14T07:11:04.808771",
     "exception": false,
     "start_time": "2020-01-14T07:11:04.779493",
     "status": "completed"
    },
    "tags": []
   },
   "outputs": [
    {
     "data": {
      "text/html": [
       "<div>\n",
       "<style scoped>\n",
       "    .dataframe tbody tr th:only-of-type {\n",
       "        vertical-align: middle;\n",
       "    }\n",
       "\n",
       "    .dataframe tbody tr th {\n",
       "        vertical-align: top;\n",
       "    }\n",
       "\n",
       "    .dataframe thead th {\n",
       "        text-align: right;\n",
       "    }\n",
       "</style>\n",
       "<table border=\"1\" class=\"dataframe\">\n",
       "  <thead>\n",
       "    <tr style=\"text-align: right;\">\n",
       "      <th></th>\n",
       "      <th>oddsratio</th>\n",
       "      <th>p_value</th>\n",
       "      <th>adj_p</th>\n",
       "      <th>-lgp</th>\n",
       "      <th>tp</th>\n",
       "      <th>tn</th>\n",
       "      <th>fp</th>\n",
       "      <th>fn</th>\n",
       "      <th>tp_rate</th>\n",
       "      <th>fp_rate</th>\n",
       "      <th>Group</th>\n",
       "    </tr>\n",
       "  </thead>\n",
       "  <tbody>\n",
       "    <tr>\n",
       "      <th>MA0052.4</th>\n",
       "      <td>2.241096</td>\n",
       "      <td>6.429475e-22</td>\n",
       "      <td>2.889245e-20</td>\n",
       "      <td>19.539216</td>\n",
       "      <td>192.0</td>\n",
       "      <td>12536.0</td>\n",
       "      <td>2336.0</td>\n",
       "      <td>341815.0</td>\n",
       "      <td>0.015085</td>\n",
       "      <td>0.006788</td>\n",
       "      <td>group5</td>\n",
       "    </tr>\n",
       "    <tr>\n",
       "      <th>MA0091.1</th>\n",
       "      <td>2.126594</td>\n",
       "      <td>8.743131e-21</td>\n",
       "      <td>3.492395e-19</td>\n",
       "      <td>18.456877</td>\n",
       "      <td>204.0</td>\n",
       "      <td>12524.0</td>\n",
       "      <td>2616.0</td>\n",
       "      <td>341535.0</td>\n",
       "      <td>0.016028</td>\n",
       "      <td>0.007601</td>\n",
       "      <td>group5</td>\n",
       "    </tr>\n",
       "    <tr>\n",
       "      <th>MA0461.2</th>\n",
       "      <td>2.575857</td>\n",
       "      <td>4.474860e-41</td>\n",
       "      <td>6.434848e-39</td>\n",
       "      <td>38.191462</td>\n",
       "      <td>286.0</td>\n",
       "      <td>12442.0</td>\n",
       "      <td>3044.0</td>\n",
       "      <td>341107.0</td>\n",
       "      <td>0.022470</td>\n",
       "      <td>0.008845</td>\n",
       "      <td>group5</td>\n",
       "    </tr>\n",
       "    <tr>\n",
       "      <th>MA0497.1</th>\n",
       "      <td>2.237611</td>\n",
       "      <td>1.327459e-30</td>\n",
       "      <td>1.060492e-28</td>\n",
       "      <td>27.974493</td>\n",
       "      <td>277.0</td>\n",
       "      <td>12451.0</td>\n",
       "      <td>3388.0</td>\n",
       "      <td>340763.0</td>\n",
       "      <td>0.021763</td>\n",
       "      <td>0.009845</td>\n",
       "      <td>group5</td>\n",
       "    </tr>\n",
       "    <tr>\n",
       "      <th>MA0509.2</th>\n",
       "      <td>3.083249</td>\n",
       "      <td>1.333808e-29</td>\n",
       "      <td>8.718253e-28</td>\n",
       "      <td>27.059571</td>\n",
       "      <td>150.0</td>\n",
       "      <td>12578.0</td>\n",
       "      <td>1326.0</td>\n",
       "      <td>342825.0</td>\n",
       "      <td>0.011785</td>\n",
       "      <td>0.003853</td>\n",
       "      <td>group5</td>\n",
       "    </tr>\n",
       "    <tr>\n",
       "      <th>MA0607.1</th>\n",
       "      <td>1.841046</td>\n",
       "      <td>7.816236e-51</td>\n",
       "      <td>1.404968e-48</td>\n",
       "      <td>47.852333</td>\n",
       "      <td>797.0</td>\n",
       "      <td>11931.0</td>\n",
       "      <td>12050.0</td>\n",
       "      <td>332101.0</td>\n",
       "      <td>0.062618</td>\n",
       "      <td>0.035014</td>\n",
       "      <td>group5</td>\n",
       "    </tr>\n",
       "    <tr>\n",
       "      <th>MA0623.2</th>\n",
       "      <td>2.457842</td>\n",
       "      <td>5.858191e-30</td>\n",
       "      <td>4.212039e-28</td>\n",
       "      <td>27.375508</td>\n",
       "      <td>223.0</td>\n",
       "      <td>12505.0</td>\n",
       "      <td>2479.0</td>\n",
       "      <td>341672.0</td>\n",
       "      <td>0.017520</td>\n",
       "      <td>0.007203</td>\n",
       "      <td>group5</td>\n",
       "    </tr>\n",
       "    <tr>\n",
       "      <th>MA0633.1</th>\n",
       "      <td>2.148299</td>\n",
       "      <td>1.252340e-27</td>\n",
       "      <td>7.503603e-26</td>\n",
       "      <td>25.124730</td>\n",
       "      <td>272.0</td>\n",
       "      <td>12456.0</td>\n",
       "      <td>3463.0</td>\n",
       "      <td>340688.0</td>\n",
       "      <td>0.021370</td>\n",
       "      <td>0.010062</td>\n",
       "      <td>group5</td>\n",
       "    </tr>\n",
       "    <tr>\n",
       "      <th>MA0660.1</th>\n",
       "      <td>2.383132</td>\n",
       "      <td>3.071309e-13</td>\n",
       "      <td>9.201129e-12</td>\n",
       "      <td>11.036159</td>\n",
       "      <td>96.0</td>\n",
       "      <td>12632.0</td>\n",
       "      <td>1094.0</td>\n",
       "      <td>343057.0</td>\n",
       "      <td>0.007542</td>\n",
       "      <td>0.003179</td>\n",
       "      <td>group5</td>\n",
       "    </tr>\n",
       "    <tr>\n",
       "      <th>MA0668.1</th>\n",
       "      <td>3.015317</td>\n",
       "      <td>4.804253e-37</td>\n",
       "      <td>4.934654e-35</td>\n",
       "      <td>34.306743</td>\n",
       "      <td>197.0</td>\n",
       "      <td>12531.0</td>\n",
       "      <td>1785.0</td>\n",
       "      <td>342366.0</td>\n",
       "      <td>0.015478</td>\n",
       "      <td>0.005187</td>\n",
       "      <td>group5</td>\n",
       "    </tr>\n",
       "    <tr>\n",
       "      <th>MA0669.1</th>\n",
       "      <td>2.633290</td>\n",
       "      <td>8.607538e-22</td>\n",
       "      <td>3.640482e-20</td>\n",
       "      <td>19.438841</td>\n",
       "      <td>139.0</td>\n",
       "      <td>12589.0</td>\n",
       "      <td>1437.0</td>\n",
       "      <td>342714.0</td>\n",
       "      <td>0.010921</td>\n",
       "      <td>0.004175</td>\n",
       "      <td>group5</td>\n",
       "    </tr>\n",
       "    <tr>\n",
       "      <th>MA0678.1</th>\n",
       "      <td>2.965764</td>\n",
       "      <td>4.240847e-22</td>\n",
       "      <td>2.032779e-20</td>\n",
       "      <td>19.691910</td>\n",
       "      <td>116.0</td>\n",
       "      <td>12612.0</td>\n",
       "      <td>1064.0</td>\n",
       "      <td>343087.0</td>\n",
       "      <td>0.009114</td>\n",
       "      <td>0.003092</td>\n",
       "      <td>group5</td>\n",
       "    </tr>\n",
       "    <tr>\n",
       "      <th>MA0798.2</th>\n",
       "      <td>3.189641</td>\n",
       "      <td>1.628267e-27</td>\n",
       "      <td>9.005568e-26</td>\n",
       "      <td>25.045489</td>\n",
       "      <td>132.0</td>\n",
       "      <td>12596.0</td>\n",
       "      <td>1127.0</td>\n",
       "      <td>343024.0</td>\n",
       "      <td>0.010371</td>\n",
       "      <td>0.003275</td>\n",
       "      <td>group5</td>\n",
       "    </tr>\n",
       "    <tr>\n",
       "      <th>MA0817.1</th>\n",
       "      <td>2.402655</td>\n",
       "      <td>2.106959e-14</td>\n",
       "      <td>6.885925e-13</td>\n",
       "      <td>12.162038</td>\n",
       "      <td>104.0</td>\n",
       "      <td>12624.0</td>\n",
       "      <td>1176.0</td>\n",
       "      <td>342975.0</td>\n",
       "      <td>0.008171</td>\n",
       "      <td>0.003417</td>\n",
       "      <td>group5</td>\n",
       "    </tr>\n",
       "    <tr>\n",
       "      <th>MA0818.1</th>\n",
       "      <td>2.522469</td>\n",
       "      <td>1.214024e-34</td>\n",
       "      <td>1.091104e-32</td>\n",
       "      <td>31.962134</td>\n",
       "      <td>248.0</td>\n",
       "      <td>12480.0</td>\n",
       "      <td>2690.0</td>\n",
       "      <td>341461.0</td>\n",
       "      <td>0.019485</td>\n",
       "      <td>0.007816</td>\n",
       "      <td>group5</td>\n",
       "    </tr>\n",
       "    <tr>\n",
       "      <th>MA0826.1</th>\n",
       "      <td>2.385319</td>\n",
       "      <td>2.925649e-13</td>\n",
       "      <td>9.145833e-12</td>\n",
       "      <td>11.038777</td>\n",
       "      <td>96.0</td>\n",
       "      <td>12632.0</td>\n",
       "      <td>1093.0</td>\n",
       "      <td>343058.0</td>\n",
       "      <td>0.007542</td>\n",
       "      <td>0.003176</td>\n",
       "      <td>group5</td>\n",
       "    </tr>\n",
       "    <tr>\n",
       "      <th>MA0827.1</th>\n",
       "      <td>2.564679</td>\n",
       "      <td>4.260100e-25</td>\n",
       "      <td>2.187866e-23</td>\n",
       "      <td>22.659979</td>\n",
       "      <td>170.0</td>\n",
       "      <td>12558.0</td>\n",
       "      <td>1807.0</td>\n",
       "      <td>342344.0</td>\n",
       "      <td>0.013356</td>\n",
       "      <td>0.005251</td>\n",
       "      <td>group5</td>\n",
       "    </tr>\n",
       "    <tr>\n",
       "      <th>MA1109.1</th>\n",
       "      <td>2.423834</td>\n",
       "      <td>1.297729e-55</td>\n",
       "      <td>3.110224e-53</td>\n",
       "      <td>52.507208</td>\n",
       "      <td>443.0</td>\n",
       "      <td>12285.0</td>\n",
       "      <td>5045.0</td>\n",
       "      <td>339106.0</td>\n",
       "      <td>0.034805</td>\n",
       "      <td>0.014659</td>\n",
       "      <td>group5</td>\n",
       "    </tr>\n",
       "    <tr>\n",
       "      <th>MA1468.1</th>\n",
       "      <td>2.512945</td>\n",
       "      <td>4.851760e-38</td>\n",
       "      <td>5.814026e-36</td>\n",
       "      <td>35.235523</td>\n",
       "      <td>276.0</td>\n",
       "      <td>12452.0</td>\n",
       "      <td>3009.0</td>\n",
       "      <td>341142.0</td>\n",
       "      <td>0.021684</td>\n",
       "      <td>0.008743</td>\n",
       "      <td>group5</td>\n",
       "    </tr>\n",
       "    <tr>\n",
       "      <th>MA1524.1</th>\n",
       "      <td>1.722133</td>\n",
       "      <td>2.069247e-14</td>\n",
       "      <td>6.885925e-13</td>\n",
       "      <td>12.162038</td>\n",
       "      <td>245.0</td>\n",
       "      <td>12483.0</td>\n",
       "      <td>3878.0</td>\n",
       "      <td>340273.0</td>\n",
       "      <td>0.019249</td>\n",
       "      <td>0.011268</td>\n",
       "      <td>group5</td>\n",
       "    </tr>\n",
       "    <tr>\n",
       "      <th>MA1568.1</th>\n",
       "      <td>3.400873</td>\n",
       "      <td>6.700172e-20</td>\n",
       "      <td>2.535486e-18</td>\n",
       "      <td>17.595939</td>\n",
       "      <td>85.0</td>\n",
       "      <td>12643.0</td>\n",
       "      <td>679.0</td>\n",
       "      <td>343472.0</td>\n",
       "      <td>0.006678</td>\n",
       "      <td>0.001973</td>\n",
       "      <td>group5</td>\n",
       "    </tr>\n",
       "    <tr>\n",
       "      <th>MA1570.1</th>\n",
       "      <td>1.617465</td>\n",
       "      <td>2.921572e-19</td>\n",
       "      <td>1.050305e-17</td>\n",
       "      <td>16.978685</td>\n",
       "      <td>429.0</td>\n",
       "      <td>12299.0</td>\n",
       "      <td>7265.0</td>\n",
       "      <td>336886.0</td>\n",
       "      <td>0.033705</td>\n",
       "      <td>0.021110</td>\n",
       "      <td>group5</td>\n",
       "    </tr>\n",
       "    <tr>\n",
       "      <th>MA1638.1</th>\n",
       "      <td>1.600094</td>\n",
       "      <td>5.551351e-58</td>\n",
       "      <td>1.995711e-55</td>\n",
       "      <td>54.699902</td>\n",
       "      <td>1552.0</td>\n",
       "      <td>11176.0</td>\n",
       "      <td>27483.0</td>\n",
       "      <td>316668.0</td>\n",
       "      <td>0.121936</td>\n",
       "      <td>0.079857</td>\n",
       "      <td>group5</td>\n",
       "    </tr>\n",
       "    <tr>\n",
       "      <th>MA1642.1</th>\n",
       "      <td>2.302170</td>\n",
       "      <td>6.732316e-92</td>\n",
       "      <td>4.840536e-89</td>\n",
       "      <td>88.315107</td>\n",
       "      <td>841.0</td>\n",
       "      <td>11887.0</td>\n",
       "      <td>10261.0</td>\n",
       "      <td>333890.0</td>\n",
       "      <td>0.066075</td>\n",
       "      <td>0.029815</td>\n",
       "      <td>group5</td>\n",
       "    </tr>\n",
       "  </tbody>\n",
       "</table>\n",
       "</div>"
      ],
      "text/plain": [
       "          oddsratio       p_value         adj_p       -lgp      tp       tn  \\\n",
       "MA0052.4   2.241096  6.429475e-22  2.889245e-20  19.539216   192.0  12536.0   \n",
       "MA0091.1   2.126594  8.743131e-21  3.492395e-19  18.456877   204.0  12524.0   \n",
       "MA0461.2   2.575857  4.474860e-41  6.434848e-39  38.191462   286.0  12442.0   \n",
       "MA0497.1   2.237611  1.327459e-30  1.060492e-28  27.974493   277.0  12451.0   \n",
       "MA0509.2   3.083249  1.333808e-29  8.718253e-28  27.059571   150.0  12578.0   \n",
       "MA0607.1   1.841046  7.816236e-51  1.404968e-48  47.852333   797.0  11931.0   \n",
       "MA0623.2   2.457842  5.858191e-30  4.212039e-28  27.375508   223.0  12505.0   \n",
       "MA0633.1   2.148299  1.252340e-27  7.503603e-26  25.124730   272.0  12456.0   \n",
       "MA0660.1   2.383132  3.071309e-13  9.201129e-12  11.036159    96.0  12632.0   \n",
       "MA0668.1   3.015317  4.804253e-37  4.934654e-35  34.306743   197.0  12531.0   \n",
       "MA0669.1   2.633290  8.607538e-22  3.640482e-20  19.438841   139.0  12589.0   \n",
       "MA0678.1   2.965764  4.240847e-22  2.032779e-20  19.691910   116.0  12612.0   \n",
       "MA0798.2   3.189641  1.628267e-27  9.005568e-26  25.045489   132.0  12596.0   \n",
       "MA0817.1   2.402655  2.106959e-14  6.885925e-13  12.162038   104.0  12624.0   \n",
       "MA0818.1   2.522469  1.214024e-34  1.091104e-32  31.962134   248.0  12480.0   \n",
       "MA0826.1   2.385319  2.925649e-13  9.145833e-12  11.038777    96.0  12632.0   \n",
       "MA0827.1   2.564679  4.260100e-25  2.187866e-23  22.659979   170.0  12558.0   \n",
       "MA1109.1   2.423834  1.297729e-55  3.110224e-53  52.507208   443.0  12285.0   \n",
       "MA1468.1   2.512945  4.851760e-38  5.814026e-36  35.235523   276.0  12452.0   \n",
       "MA1524.1   1.722133  2.069247e-14  6.885925e-13  12.162038   245.0  12483.0   \n",
       "MA1568.1   3.400873  6.700172e-20  2.535486e-18  17.595939    85.0  12643.0   \n",
       "MA1570.1   1.617465  2.921572e-19  1.050305e-17  16.978685   429.0  12299.0   \n",
       "MA1638.1   1.600094  5.551351e-58  1.995711e-55  54.699902  1552.0  11176.0   \n",
       "MA1642.1   2.302170  6.732316e-92  4.840536e-89  88.315107   841.0  11887.0   \n",
       "\n",
       "               fp        fn   tp_rate   fp_rate   Group  \n",
       "MA0052.4   2336.0  341815.0  0.015085  0.006788  group5  \n",
       "MA0091.1   2616.0  341535.0  0.016028  0.007601  group5  \n",
       "MA0461.2   3044.0  341107.0  0.022470  0.008845  group5  \n",
       "MA0497.1   3388.0  340763.0  0.021763  0.009845  group5  \n",
       "MA0509.2   1326.0  342825.0  0.011785  0.003853  group5  \n",
       "MA0607.1  12050.0  332101.0  0.062618  0.035014  group5  \n",
       "MA0623.2   2479.0  341672.0  0.017520  0.007203  group5  \n",
       "MA0633.1   3463.0  340688.0  0.021370  0.010062  group5  \n",
       "MA0660.1   1094.0  343057.0  0.007542  0.003179  group5  \n",
       "MA0668.1   1785.0  342366.0  0.015478  0.005187  group5  \n",
       "MA0669.1   1437.0  342714.0  0.010921  0.004175  group5  \n",
       "MA0678.1   1064.0  343087.0  0.009114  0.003092  group5  \n",
       "MA0798.2   1127.0  343024.0  0.010371  0.003275  group5  \n",
       "MA0817.1   1176.0  342975.0  0.008171  0.003417  group5  \n",
       "MA0818.1   2690.0  341461.0  0.019485  0.007816  group5  \n",
       "MA0826.1   1093.0  343058.0  0.007542  0.003176  group5  \n",
       "MA0827.1   1807.0  342344.0  0.013356  0.005251  group5  \n",
       "MA1109.1   5045.0  339106.0  0.034805  0.014659  group5  \n",
       "MA1468.1   3009.0  341142.0  0.021684  0.008743  group5  \n",
       "MA1524.1   3878.0  340273.0  0.019249  0.011268  group5  \n",
       "MA1568.1    679.0  343472.0  0.006678  0.001973  group5  \n",
       "MA1570.1   7265.0  336886.0  0.033705  0.021110  group5  \n",
       "MA1638.1  27483.0  316668.0  0.121936  0.079857  group5  \n",
       "MA1642.1  10261.0  333890.0  0.066075  0.029815  group5  "
      ]
     },
     "execution_count": 20,
     "metadata": {},
     "output_type": "execute_result"
    }
   ],
   "source": [
    "filtered_motif_df"
   ]
  },
  {
   "cell_type": "code",
   "execution_count": null,
   "metadata": {
    "papermill": {
     "duration": 0.010484,
     "end_time": "2020-01-14T07:11:04.829827",
     "exception": false,
     "start_time": "2020-01-14T07:11:04.819343",
     "status": "completed"
    },
    "tags": []
   },
   "outputs": [],
   "source": []
  }
 ],
 "metadata": {
  "hide_input": false,
  "kernelspec": {
   "display_name": "Python 3",
   "language": "python",
   "name": "python3"
  },
  "language_info": {
   "codemirror_mode": {
    "name": "ipython",
    "version": 3
   },
   "file_extension": ".py",
   "mimetype": "text/x-python",
   "name": "python",
   "nbconvert_exporter": "python",
   "pygments_lexer": "ipython3",
   "version": "3.7.3"
  },
  "papermill": {
   "duration": 9.587162,
   "end_time": "2020-01-14T07:11:05.247033",
   "environment_variables": {},
   "exception": null,
   "input_path": "4.MotifEnrichment.ipynb",
   "output_path": "/home/hanliu/project/mouse_rostral_brain/DMR/DGmCHGroup/snm3C-DMR/Recipe/4.MotifEnrichment.group5.ipynb",
   "parameters": {
    "dmr_hits_path": "/home/hanliu/project/mouse_rostral_brain/DMR/DGmCHGroup/snm3C-DMR/HypoDMR/group5.DMS1.bed",
    "group": "group5",
    "mask_quantile_to99": 0.9,
    "motif_hits_path": "/home/hanliu/project/mouse_rostral_brain/DMR/DGmCHGroup/snm3C-DMR/MotifScan.h5ad",
    "neg_lgp_cutoff": 10,
    "or_cutoff": 1.5,
    "output_dir": "/home/hanliu/project/mouse_rostral_brain/DMR/DGmCHGroup/snm3C-DMR/MotifEnrichment"
   },
   "start_time": "2020-01-14T07:10:55.659871",
   "version": "1.0.1"
  },
  "toc": {
   "base_numbering": 1,
   "nav_menu": {},
   "number_sections": true,
   "sideBar": true,
   "skip_h1_title": true,
   "title_cell": "Table of Contents",
   "title_sidebar": "Contents",
   "toc_cell": false,
   "toc_position": {},
   "toc_section_display": true,
   "toc_window_display": true
  }
 },
 "nbformat": 4,
 "nbformat_minor": 2
}
