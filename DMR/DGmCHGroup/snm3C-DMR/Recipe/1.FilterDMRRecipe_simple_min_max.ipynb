{
 "cells": [
  {
   "cell_type": "code",
   "execution_count": 1,
   "metadata": {
    "ExecuteTime": {
     "end_time": "2020-01-11T06:24:25.036128Z",
     "start_time": "2020-01-11T06:24:24.593212Z"
    },
    "papermill": {
     "duration": 1.365754,
     "end_time": "2020-01-11T21:44:08.332870",
     "exception": false,
     "start_time": "2020-01-11T21:44:06.967116",
     "status": "completed"
    },
    "tags": []
   },
   "outputs": [],
   "source": [
    "import pathlib\n",
    "import numpy as np\n",
    "import pandas as pd\n",
    "from scipy.sparse import csr_matrix\n",
    "import anndata\n",
    "from pybedtools import BedTool"
   ]
  },
  {
   "cell_type": "markdown",
   "metadata": {
    "ExecuteTime": {
     "end_time": "2020-01-10T03:41:10.279754Z",
     "start_time": "2020-01-10T03:41:10.259634Z"
    },
    "papermill": {
     "duration": 0.04139,
     "end_time": "2020-01-11T21:44:08.406176",
     "exception": false,
     "start_time": "2020-01-11T21:44:08.364786",
     "status": "completed"
    },
    "tags": []
   },
   "source": [
    "## Parameter"
   ]
  },
  {
   "cell_type": "code",
   "execution_count": 2,
   "metadata": {
    "ExecuteTime": {
     "end_time": "2020-01-11T06:24:25.040533Z",
     "start_time": "2020-01-11T06:24:25.038018Z"
    },
    "papermill": {
     "duration": 0.038158,
     "end_time": "2020-01-11T21:44:08.479343",
     "exception": false,
     "start_time": "2020-01-11T21:44:08.441185",
     "status": "completed"
    },
    "tags": [
     "parameters"
    ]
   },
   "outputs": [],
   "source": [
    "dmr_path = '/home/hanliu/project/mouse_rostral_brain/DMR/DGmCHGroup/DMR/axis-mch_rms_results_collapsed.tsv'\n",
    "dmr_prefix = 'DGmCH'\n",
    "\n",
    "black_list_path = '/home/hanliu/ref/blacklist/mm10-blacklist.v2.bed.gz'\n",
    "delta_cutoff=0.3\n",
    "dms_cutoff = 1"
   ]
  },
  {
   "cell_type": "code",
   "execution_count": 3,
   "metadata": {
    "papermill": {
     "duration": 0.039727,
     "end_time": "2020-01-11T21:44:08.550223",
     "exception": false,
     "start_time": "2020-01-11T21:44:08.510496",
     "status": "completed"
    },
    "tags": [
     "injected-parameters"
    ]
   },
   "outputs": [],
   "source": [
    "# Parameters\n",
    "dmr_path = \"/home/hanliu/project/mouse_rostral_brain/DMR/DGmCHGroup/snm3C-DMR/DG_Group_rms_results_collapsed.tsv\"\n",
    "dmr_prefix = \"DGm3c\"\n",
    "black_list_path = \"/home/hanliu/ref/blacklist/mm10-blacklist.v2.bed.gz\"\n",
    "delta_cutoff = 0.3\n",
    "dms_cutoff = 1\n"
   ]
  },
  {
   "cell_type": "markdown",
   "metadata": {
    "papermill": {
     "duration": 0.029261,
     "end_time": "2020-01-11T21:44:08.608803",
     "exception": false,
     "start_time": "2020-01-11T21:44:08.579542",
     "status": "completed"
    },
    "tags": []
   },
   "source": [
    "## Read DMR"
   ]
  },
  {
   "cell_type": "code",
   "execution_count": 4,
   "metadata": {
    "ExecuteTime": {
     "end_time": "2020-01-11T06:24:25.374564Z",
     "start_time": "2020-01-11T06:24:25.041801Z"
    },
    "papermill": {
     "duration": 0.44888,
     "end_time": "2020-01-11T21:44:09.101726",
     "exception": false,
     "start_time": "2020-01-11T21:44:08.652846",
     "status": "completed"
    },
    "scrolled": true,
    "tags": []
   },
   "outputs": [
    {
     "name": "stdout",
     "output_type": "stream",
     "text": [
      "68436 dmr before filter\n"
     ]
    }
   ],
   "source": [
    "# get column and n_sample\n",
    "dmr_column = pd.read_csv(dmr_path, sep='\\t', nrows=0).columns\n",
    "n_sample = dmr_column.size - 6\n",
    "dmr_column = dmr_column.map(lambda i: i[18:] if 'methylation_level_' in i else i)\n",
    "samples = dmr_column[6:]\n",
    "\n",
    "dmr_region_infos = []\n",
    "mc_rates = []\n",
    "hypo_sig_dict = {sample: [] for sample in samples}\n",
    "hyper_sig_dict = {sample: [] for sample in samples}\n",
    "\n",
    "dmr_df = pd.read_csv(dmr_path, sep='\\t', skiprows=1, names=dmr_column)\n",
    "print(dmr_df.shape[0], 'dmr before filter')\n",
    "dmr_df.index = dmr_df.index.map(lambda i: f'{dmr_prefix}_{i}')\n",
    "\n",
    "# save raw info\n",
    "dmr_bed = dmr_df.iloc[:, :4].copy()\n",
    "mc_rate = dmr_df.iloc[:, 6:].copy()"
   ]
  },
  {
   "cell_type": "markdown",
   "metadata": {
    "papermill": {
     "duration": 0.029473,
     "end_time": "2020-01-11T21:44:09.162863",
     "exception": false,
     "start_time": "2020-01-11T21:44:09.133390",
     "status": "completed"
    },
    "tags": []
   },
   "source": [
    "## Save unfiltered dmr info"
   ]
  },
  {
   "cell_type": "code",
   "execution_count": 5,
   "metadata": {
    "ExecuteTime": {
     "end_time": "2020-01-11T06:24:25.804594Z",
     "start_time": "2020-01-11T06:24:25.376298Z"
    },
    "papermill": {
     "duration": 0.628879,
     "end_time": "2020-01-11T21:44:09.834052",
     "exception": false,
     "start_time": "2020-01-11T21:44:09.205173",
     "status": "completed"
    },
    "tags": []
   },
   "outputs": [],
   "source": [
    "with pd.HDFStore(pathlib.Path(dmr_path).parent / 'DMRInfo.h5') as hdf:\n",
    "    hdf['Rate'] = mc_rate\n",
    "    hdf['Bed'] = dmr_bed"
   ]
  },
  {
   "cell_type": "code",
   "execution_count": 6,
   "metadata": {
    "ExecuteTime": {
     "end_time": "2020-01-11T06:24:26.444026Z",
     "start_time": "2020-01-11T06:24:25.805917Z"
    },
    "papermill": {
     "duration": 0.46471,
     "end_time": "2020-01-11T21:44:10.330504",
     "exception": false,
     "start_time": "2020-01-11T21:44:09.865794",
     "status": "completed"
    },
    "tags": []
   },
   "outputs": [],
   "source": [
    "dmr_bed.reset_index().iloc[:, [1, 2, 3, 0]].to_csv(pathlib.Path(dmr_path).parent / 'TotalDMR.nofilter.bed', \n",
    "                                                   index=None, header=None, sep='\\t')"
   ]
  },
  {
   "cell_type": "markdown",
   "metadata": {
    "papermill": {
     "duration": 0.04193,
     "end_time": "2020-01-11T21:44:10.400176",
     "exception": false,
     "start_time": "2020-01-11T21:44:10.358246",
     "status": "completed"
    },
    "tags": []
   },
   "source": [
    "## Filter DMR"
   ]
  },
  {
   "cell_type": "code",
   "execution_count": 7,
   "metadata": {
    "ExecuteTime": {
     "end_time": "2020-01-11T06:24:26.487311Z",
     "start_time": "2020-01-11T06:24:26.445390Z"
    },
    "papermill": {
     "duration": 0.078034,
     "end_time": "2020-01-11T21:44:10.508261",
     "exception": false,
     "start_time": "2020-01-11T21:44:10.430227",
     "status": "completed"
    },
    "tags": []
   },
   "outputs": [
    {
     "name": "stdout",
     "output_type": "stream",
     "text": [
      "61903 dmr pass delta filter\n"
     ]
    }
   ],
   "source": [
    "# filter by delta\n",
    "delta_judge = (mc_rate.max(axis=1) - mc_rate.min(axis=1)) > delta_cutoff\n",
    "delta_index = mc_rate.index[delta_judge]\n",
    "\n",
    "print(delta_index.size, 'dmr pass delta filter')"
   ]
  },
  {
   "cell_type": "code",
   "execution_count": 8,
   "metadata": {
    "ExecuteTime": {
     "end_time": "2020-01-11T06:24:27.684731Z",
     "start_time": "2020-01-11T06:24:26.489236Z"
    },
    "papermill": {
     "duration": 0.863792,
     "end_time": "2020-01-11T21:44:11.391745",
     "exception": false,
     "start_time": "2020-01-11T21:44:10.527953",
     "status": "completed"
    },
    "tags": []
   },
   "outputs": [
    {
     "name": "stdout",
     "output_type": "stream",
     "text": [
      "67742 dmr pass blacklist filter\n"
     ]
    }
   ],
   "source": [
    "# filter by blacklist\n",
    "black_list = pd.read_csv(black_list_path, sep='\\t', header=None)\n",
    "black_list = BedTool.from_dataframe(black_list)\n",
    "\n",
    "_dmr_bed = BedTool.from_dataframe(dmr_bed.reset_index().iloc[:, [1,2,3,0]])\n",
    "filtered_dmr_bed = _dmr_bed.intersect(black_list, v=True).to_dataframe().set_index('name')\n",
    "\n",
    "white_index = filtered_dmr_bed.index\n",
    "\n",
    "print(white_index.size, 'dmr pass blacklist filter')"
   ]
  },
  {
   "cell_type": "code",
   "execution_count": 9,
   "metadata": {
    "ExecuteTime": {
     "end_time": "2020-01-11T06:24:27.962115Z",
     "start_time": "2020-01-11T06:24:27.686510Z"
    },
    "papermill": {
     "duration": 0.207898,
     "end_time": "2020-01-11T21:44:11.632518",
     "exception": false,
     "start_time": "2020-01-11T21:44:11.424620",
     "status": "completed"
    },
    "tags": []
   },
   "outputs": [
    {
     "name": "stdout",
     "output_type": "stream",
     "text": [
      "61333 dmr after filter\n"
     ]
    },
    {
     "data": {
      "text/html": [
       "<div>\n",
       "<style scoped>\n",
       "    .dataframe tbody tr th:only-of-type {\n",
       "        vertical-align: middle;\n",
       "    }\n",
       "\n",
       "    .dataframe tbody tr th {\n",
       "        vertical-align: top;\n",
       "    }\n",
       "\n",
       "    .dataframe thead th {\n",
       "        text-align: right;\n",
       "    }\n",
       "</style>\n",
       "<table border=\"1\" class=\"dataframe\">\n",
       "  <thead>\n",
       "    <tr style=\"text-align: right;\">\n",
       "      <th></th>\n",
       "      <th>#chr</th>\n",
       "      <th>start</th>\n",
       "      <th>end</th>\n",
       "      <th>number_of_dms</th>\n",
       "      <th>hypermethylated_samples</th>\n",
       "      <th>hypomethylated_samples</th>\n",
       "      <th>group0</th>\n",
       "      <th>group3</th>\n",
       "      <th>group1</th>\n",
       "      <th>group5</th>\n",
       "      <th>group4</th>\n",
       "      <th>group2</th>\n",
       "    </tr>\n",
       "  </thead>\n",
       "  <tbody>\n",
       "    <tr>\n",
       "      <th>DGm3c_2</th>\n",
       "      <td>chr1</td>\n",
       "      <td>3388675</td>\n",
       "      <td>3388675</td>\n",
       "      <td>1</td>\n",
       "      <td>group0,group1</td>\n",
       "      <td>group3</td>\n",
       "      <td>0.340909</td>\n",
       "      <td>0.000000</td>\n",
       "      <td>0.411765</td>\n",
       "      <td>0.032258</td>\n",
       "      <td>0.093750</td>\n",
       "      <td>0.228571</td>\n",
       "    </tr>\n",
       "    <tr>\n",
       "      <th>DGm3c_3</th>\n",
       "      <td>chr1</td>\n",
       "      <td>3410879</td>\n",
       "      <td>3410879</td>\n",
       "      <td>1</td>\n",
       "      <td>group0</td>\n",
       "      <td>group4</td>\n",
       "      <td>0.777778</td>\n",
       "      <td>0.555556</td>\n",
       "      <td>0.692308</td>\n",
       "      <td>0.466667</td>\n",
       "      <td>0.157895</td>\n",
       "      <td>0.235294</td>\n",
       "    </tr>\n",
       "    <tr>\n",
       "      <th>DGm3c_4</th>\n",
       "      <td>chr1</td>\n",
       "      <td>3552547</td>\n",
       "      <td>3552547</td>\n",
       "      <td>1</td>\n",
       "      <td>NaN</td>\n",
       "      <td>group2</td>\n",
       "      <td>0.904762</td>\n",
       "      <td>0.892857</td>\n",
       "      <td>0.650000</td>\n",
       "      <td>0.900000</td>\n",
       "      <td>1.000000</td>\n",
       "      <td>0.500000</td>\n",
       "    </tr>\n",
       "    <tr>\n",
       "      <th>DGm3c_5</th>\n",
       "      <td>chr1</td>\n",
       "      <td>3878269</td>\n",
       "      <td>3878269</td>\n",
       "      <td>1</td>\n",
       "      <td>group0</td>\n",
       "      <td>group5</td>\n",
       "      <td>1.000000</td>\n",
       "      <td>0.718750</td>\n",
       "      <td>0.904762</td>\n",
       "      <td>0.629630</td>\n",
       "      <td>0.948718</td>\n",
       "      <td>0.757576</td>\n",
       "    </tr>\n",
       "    <tr>\n",
       "      <th>DGm3c_6</th>\n",
       "      <td>chr1</td>\n",
       "      <td>3918041</td>\n",
       "      <td>3918041</td>\n",
       "      <td>1</td>\n",
       "      <td>group3</td>\n",
       "      <td>group4</td>\n",
       "      <td>0.868421</td>\n",
       "      <td>0.956522</td>\n",
       "      <td>0.571429</td>\n",
       "      <td>0.718750</td>\n",
       "      <td>0.333333</td>\n",
       "      <td>0.666667</td>\n",
       "    </tr>\n",
       "  </tbody>\n",
       "</table>\n",
       "</div>"
      ],
      "text/plain": [
       "         #chr    start      end  number_of_dms hypermethylated_samples  \\\n",
       "DGm3c_2  chr1  3388675  3388675              1           group0,group1   \n",
       "DGm3c_3  chr1  3410879  3410879              1                  group0   \n",
       "DGm3c_4  chr1  3552547  3552547              1                     NaN   \n",
       "DGm3c_5  chr1  3878269  3878269              1                  group0   \n",
       "DGm3c_6  chr1  3918041  3918041              1                  group3   \n",
       "\n",
       "        hypomethylated_samples    group0    group3    group1    group5  \\\n",
       "DGm3c_2                 group3  0.340909  0.000000  0.411765  0.032258   \n",
       "DGm3c_3                 group4  0.777778  0.555556  0.692308  0.466667   \n",
       "DGm3c_4                 group2  0.904762  0.892857  0.650000  0.900000   \n",
       "DGm3c_5                 group5  1.000000  0.718750  0.904762  0.629630   \n",
       "DGm3c_6                 group4  0.868421  0.956522  0.571429  0.718750   \n",
       "\n",
       "           group4    group2  \n",
       "DGm3c_2  0.093750  0.228571  \n",
       "DGm3c_3  0.157895  0.235294  \n",
       "DGm3c_4  1.000000  0.500000  \n",
       "DGm3c_5  0.948718  0.757576  \n",
       "DGm3c_6  0.333333  0.666667  "
      ]
     },
     "execution_count": 9,
     "metadata": {},
     "output_type": "execute_result"
    }
   ],
   "source": [
    "dmr_df = dmr_df.loc[delta_index & white_index]\n",
    "print(dmr_df.shape[0], 'dmr after filter')\n",
    "dmr_df.head()"
   ]
  },
  {
   "cell_type": "markdown",
   "metadata": {
    "papermill": {
     "duration": 0.044724,
     "end_time": "2020-01-11T21:44:11.711204",
     "exception": false,
     "start_time": "2020-01-11T21:44:11.666480",
     "status": "completed"
    },
    "tags": []
   },
   "source": [
    "## Assign DMR to each sample"
   ]
  },
  {
   "cell_type": "code",
   "execution_count": 10,
   "metadata": {
    "ExecuteTime": {
     "end_time": "2020-01-11T06:24:28.232460Z",
     "start_time": "2020-01-11T06:24:27.963338Z"
    },
    "papermill": {
     "duration": 0.573313,
     "end_time": "2020-01-11T21:44:12.322460",
     "exception": false,
     "start_time": "2020-01-11T21:44:11.749147",
     "status": "completed"
    },
    "tags": []
   },
   "outputs": [
    {
     "name": "stdout",
     "output_type": "stream",
     "text": [
      "group0\tHypoDMR \t21436\n",
      "group0\tHyperDMR\t18265\n",
      "group3\tHypoDMR \t2766\n",
      "group3\tHyperDMR\t1997\n",
      "group1\tHypoDMR \t6558\n",
      "group1\tHyperDMR\t4082\n"
     ]
    },
    {
     "name": "stdout",
     "output_type": "stream",
     "text": [
      "group5\tHypoDMR \t12728\n",
      "group5\tHyperDMR\t19006\n",
      "group4\tHypoDMR \t4809\n",
      "group4\tHyperDMR\t4814\n",
      "group2\tHypoDMR \t3478\n",
      "group2\t"
     ]
    },
    {
     "name": "stdout",
     "output_type": "stream",
     "text": [
      "HyperDMR\t1949\n"
     ]
    }
   ],
   "source": [
    "# parse results\n",
    "for sample in samples:\n",
    "    # here saved a list of np.array\n",
    "    hypo_index = dmr_df[dmr_df['hypomethylated_samples'].fillna('').apply(lambda i: sample in i)].index\n",
    "    hyper_index = dmr_df[dmr_df['hypermethylated_samples'].fillna('').apply(lambda i: sample in i)].index\n",
    "    hypo_sig_dict[sample] = hypo_index\n",
    "    hyper_sig_dict[sample] = hyper_index\n",
    "    print(sample, 'HypoDMR ', hypo_index.size, sep='\\t')\n",
    "    print(sample, 'HyperDMR', hyper_index.size, sep='\\t')\n"
   ]
  },
  {
   "cell_type": "code",
   "execution_count": 11,
   "metadata": {
    "ExecuteTime": {
     "end_time": "2020-01-11T06:24:28.366516Z",
     "start_time": "2020-01-11T06:24:28.233710Z"
    },
    "papermill": {
     "duration": 0.247056,
     "end_time": "2020-01-11T21:44:12.615834",
     "exception": false,
     "start_time": "2020-01-11T21:44:12.368778",
     "status": "completed"
    },
    "tags": []
   },
   "outputs": [],
   "source": [
    "with pd.HDFStore(pathlib.Path(dmr_path).parent / 'DMRInfo.h5') as hdf:\n",
    "    for sample, hypo_index in hypo_sig_dict.items():\n",
    "        hdf[f'HypoDMR/{sample}'] = pd.Series(hypo_index)\n",
    "    for sample, hyper_index in hyper_sig_dict.items():\n",
    "        hdf[f'HyperDMR/{sample}'] = pd.Series(hyper_index)"
   ]
  },
  {
   "cell_type": "markdown",
   "metadata": {
    "papermill": {
     "duration": 0.056369,
     "end_time": "2020-01-11T21:44:12.707270",
     "exception": false,
     "start_time": "2020-01-11T21:44:12.650901",
     "status": "completed"
    },
    "scrolled": true,
    "tags": []
   },
   "source": [
    "## Dump DMR bed"
   ]
  },
  {
   "cell_type": "code",
   "execution_count": 12,
   "metadata": {
    "ExecuteTime": {
     "end_time": "2020-01-11T06:24:29.090013Z",
     "start_time": "2020-01-11T06:24:28.367886Z"
    },
    "papermill": {
     "duration": 0.430527,
     "end_time": "2020-01-11T21:44:13.170812",
     "exception": false,
     "start_time": "2020-01-11T21:44:12.740285",
     "status": "completed"
    },
    "tags": []
   },
   "outputs": [],
   "source": [
    "hypo_dir = pathlib.Path(dmr_path).parent / 'HypoDMR'\n",
    "hypo_dir.mkdir(exist_ok=True)\n",
    "for sample, hypo_index in hypo_sig_dict.items():\n",
    "    _bed = dmr_bed.loc[hypo_index].reset_index().iloc[:, [1, 2, 3, 0]].to_csv(\n",
    "        hypo_dir / f'{sample}.DMS{dms_cutoff}.bed', sep='\\t', index=None, header=None)"
   ]
  },
  {
   "cell_type": "code",
   "execution_count": 13,
   "metadata": {
    "ExecuteTime": {
     "end_time": "2020-01-11T06:24:29.744487Z",
     "start_time": "2020-01-11T06:24:29.091366Z"
    },
    "papermill": {
     "duration": 0.564249,
     "end_time": "2020-01-11T21:44:13.770053",
     "exception": false,
     "start_time": "2020-01-11T21:44:13.205804",
     "status": "completed"
    },
    "tags": []
   },
   "outputs": [],
   "source": [
    "hyper_dir = pathlib.Path(dmr_path).parent / 'HyperDMR'\n",
    "hyper_dir.mkdir(exist_ok=True)\n",
    "for sample, hyper_index in hyper_sig_dict.items():\n",
    "    _bed = dmr_bed.loc[hyper_index].reset_index().iloc[:, [1, 2, 3, 0]].to_csv(\n",
    "        hyper_dir / f'{sample}.DMS{dms_cutoff}.bed', sep='\\t', index=None, header=None)"
   ]
  },
  {
   "cell_type": "markdown",
   "metadata": {
    "papermill": {
     "duration": 0.037691,
     "end_time": "2020-01-11T21:44:13.831466",
     "exception": false,
     "start_time": "2020-01-11T21:44:13.793775",
     "status": "completed"
    },
    "tags": []
   },
   "source": [
    "## DMR hits matrix"
   ]
  },
  {
   "cell_type": "code",
   "execution_count": 14,
   "metadata": {
    "ExecuteTime": {
     "end_time": "2020-01-11T06:24:30.345729Z",
     "start_time": "2020-01-11T06:24:29.746949Z"
    },
    "papermill": {
     "duration": 0.509458,
     "end_time": "2020-01-11T21:44:14.373584",
     "exception": false,
     "start_time": "2020-01-11T21:44:13.864126",
     "status": "completed"
    },
    "tags": []
   },
   "outputs": [
    {
     "name": "stderr",
     "output_type": "stream",
     "text": [
      "... storing '#chr' as categorical\n"
     ]
    }
   ],
   "source": [
    "sig_dict = hypo_sig_dict\n",
    "\n",
    "rows = []\n",
    "cols = []\n",
    "datas = []\n",
    "for i, (sample, dmr_index) in enumerate(sig_dict.items()):\n",
    "    col = dmr_index.map(lambda i: i.split('_')[1]).astype(int).values\n",
    "    row = (np.ones_like(col) * i).astype(int)\n",
    "    data = np.ones_like(col)\n",
    "    rows.append(row)\n",
    "    cols.append(col)\n",
    "    datas.append(data)\n",
    "datas = np.concatenate(datas)\n",
    "cols = np.concatenate(cols)\n",
    "rows = np.concatenate(rows)\n",
    "hits = csr_matrix((datas, (rows, cols)),\n",
    "                  shape=(mc_rate.shape[1], dmr_bed.shape[0]))\n",
    "\n",
    "# obs is DMR, var is sample, because all analysis is dmr focused\n",
    "dmr_hits = anndata.AnnData(X=hits.T,\n",
    "                           obs=dmr_bed,\n",
    "                           var=pd.DataFrame([], index=mc_rate.columns))\n",
    "\n",
    "dmr_hits.write_h5ad(hypo_dir / 'TotalHits.h5ad')\n"
   ]
  },
  {
   "cell_type": "code",
   "execution_count": 15,
   "metadata": {
    "ExecuteTime": {
     "end_time": "2020-01-11T06:24:30.936614Z",
     "start_time": "2020-01-11T06:24:30.346999Z"
    },
    "papermill": {
     "duration": 0.477725,
     "end_time": "2020-01-11T21:44:14.886218",
     "exception": false,
     "start_time": "2020-01-11T21:44:14.408493",
     "status": "completed"
    },
    "tags": []
   },
   "outputs": [
    {
     "name": "stderr",
     "output_type": "stream",
     "text": [
      "... storing '#chr' as categorical\n"
     ]
    }
   ],
   "source": [
    "sig_dict = hyper_sig_dict\n",
    "\n",
    "rows = []\n",
    "cols = []\n",
    "datas = []\n",
    "for i, (sample, dmr_index) in enumerate(sig_dict.items()):\n",
    "    col = dmr_index.map(lambda i: i.split('_')[1]).astype(int).values\n",
    "    row = (np.ones_like(col) * i).astype(int)\n",
    "    data = np.ones_like(col)\n",
    "    rows.append(row)\n",
    "    cols.append(col)\n",
    "    datas.append(data)\n",
    "datas = np.concatenate(datas)\n",
    "cols = np.concatenate(cols)\n",
    "rows = np.concatenate(rows)\n",
    "hits = csr_matrix((datas, (rows, cols)),\n",
    "                  shape=(mc_rate.shape[1], dmr_bed.shape[0]))\n",
    "\n",
    "# obs is DMR, var is sample, because all analysis is dmr focused\n",
    "dmr_hits = anndata.AnnData(X=hits.T,\n",
    "                           obs=dmr_bed,\n",
    "                           var=pd.DataFrame([], index=mc_rate.columns))\n",
    "\n",
    "dmr_hits.write_h5ad(hyper_dir / 'TotalHits.h5ad')"
   ]
  },
  {
   "cell_type": "code",
   "execution_count": null,
   "metadata": {
    "papermill": {
     "duration": 0.053714,
     "end_time": "2020-01-11T21:44:14.975169",
     "exception": false,
     "start_time": "2020-01-11T21:44:14.921455",
     "status": "completed"
    },
    "tags": []
   },
   "outputs": [],
   "source": []
  },
  {
   "cell_type": "code",
   "execution_count": null,
   "metadata": {
    "papermill": {
     "duration": 0.019972,
     "end_time": "2020-01-11T21:44:15.018619",
     "exception": false,
     "start_time": "2020-01-11T21:44:14.998647",
     "status": "completed"
    },
    "tags": []
   },
   "outputs": [],
   "source": []
  },
  {
   "cell_type": "code",
   "execution_count": null,
   "metadata": {
    "papermill": {
     "duration": 0.059755,
     "end_time": "2020-01-11T21:44:15.100172",
     "exception": false,
     "start_time": "2020-01-11T21:44:15.040417",
     "status": "completed"
    },
    "tags": []
   },
   "outputs": [],
   "source": []
  }
 ],
 "metadata": {
  "celltoolbar": "Tags",
  "hide_input": false,
  "kernelspec": {
   "display_name": "Python 3",
   "language": "python",
   "name": "python3"
  },
  "language_info": {
   "codemirror_mode": {
    "name": "ipython",
    "version": 3
   },
   "file_extension": ".py",
   "mimetype": "text/x-python",
   "name": "python",
   "nbconvert_exporter": "python",
   "pygments_lexer": "ipython3",
   "version": "3.7.3"
  },
  "papermill": {
   "duration": 10.395823,
   "end_time": "2020-01-11T21:44:15.644004",
   "environment_variables": {},
   "exception": null,
   "input_path": "1.FilterDMRRecipe_simple_min_max.ipynb",
   "output_path": "/home/hanliu/project/mouse_rostral_brain/DMR/DGmCHGroup/snm3C-DMR/Recipe/1.FilterDMRRecipe_simple_min_max.ipynb",
   "parameters": {
    "black_list_path": "/home/hanliu/ref/blacklist/mm10-blacklist.v2.bed.gz",
    "delta_cutoff": 0.3,
    "dmr_path": "/home/hanliu/project/mouse_rostral_brain/DMR/DGmCHGroup/snm3C-DMR/DG_Group_rms_results_collapsed.tsv",
    "dmr_prefix": "DGm3c",
    "dms_cutoff": 1
   },
   "start_time": "2020-01-11T21:44:05.248181",
   "version": "1.0.1"
  },
  "toc": {
   "base_numbering": 1,
   "nav_menu": {},
   "number_sections": true,
   "sideBar": true,
   "skip_h1_title": true,
   "title_cell": "Table of Contents",
   "title_sidebar": "Contents",
   "toc_cell": false,
   "toc_position": {},
   "toc_section_display": true,
   "toc_window_display": true
  }
 },
 "nbformat": 4,
 "nbformat_minor": 2
}