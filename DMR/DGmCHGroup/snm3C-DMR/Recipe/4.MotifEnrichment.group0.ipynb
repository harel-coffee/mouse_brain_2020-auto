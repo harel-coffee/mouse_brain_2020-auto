{
 "cells": [
  {
   "cell_type": "markdown",
   "metadata": {
    "papermill": {
     "duration": 0.009562,
     "end_time": "2020-01-14T07:07:54.121537",
     "exception": false,
     "start_time": "2020-01-14T07:07:54.111975",
     "status": "completed"
    },
    "tags": []
   },
   "source": [
    "# Motif Enrichment\n",
    "- The motif hits matrix save the max loglikelyhood score of a motif in that DMR\n",
    "- Before run the motif enrichment, I filter the scores for each motif using cutoff defined by\n",
    "    - `np.quantile(motif_score[motif_score > 0]) * mask_quantile_to99`\n",
    "- This filter will remove hits with low score, which is likely to be false positive\n",
    "- Its likely boosting the significance of real enrichment"
   ]
  },
  {
   "cell_type": "code",
   "execution_count": 1,
   "metadata": {
    "ExecuteTime": {
     "end_time": "2020-01-14T06:18:26.896128Z",
     "start_time": "2020-01-14T06:18:26.189762Z"
    },
    "papermill": {
     "duration": 0.71831,
     "end_time": "2020-01-14T07:07:54.850057",
     "exception": false,
     "start_time": "2020-01-14T07:07:54.131747",
     "status": "completed"
    },
    "tags": []
   },
   "outputs": [],
   "source": [
    "from concurrent.futures import ProcessPoolExecutor, as_completed\n",
    "import anndata\n",
    "import matplotlib.pyplot as plt\n",
    "import numpy as np\n",
    "import pandas as pd\n",
    "import pybedtools\n",
    "import scipy.stats as stats\n",
    "import seaborn as sns\n",
    "from scipy.sparse import csr_matrix\n",
    "from statsmodels.stats.multitest import multipletests\n",
    "import pathlib"
   ]
  },
  {
   "cell_type": "code",
   "execution_count": 2,
   "metadata": {
    "ExecuteTime": {
     "end_time": "2020-01-14T06:18:26.900954Z",
     "start_time": "2020-01-14T06:18:26.898077Z"
    },
    "papermill": {
     "duration": 0.015468,
     "end_time": "2020-01-14T07:07:54.875480",
     "exception": false,
     "start_time": "2020-01-14T07:07:54.860012",
     "status": "completed"
    },
    "tags": [
     "parameters"
    ]
   },
   "outputs": [],
   "source": [
    "mask_quantile_to99 = 0.9\n",
    "or_cutoff = 1.5\n",
    "neg_lgp_cutoff = 10\n",
    "group = 'IT-L23+ACA'\n",
    "\n",
    "motif_hits_path = '/home/hanliu/project/mouse_rostral_brain/DMR/ITSpatial_by_layer/IT-L23/MotifScan.h5ad'\n",
    "dmr_hits_path = f'/home/hanliu/project/mouse_rostral_brain/DMR/ITSpatial_by_layer/IT-L23/HypoDMR/{group}.DMS1.bed'\n",
    "output_dir = '/home/hanliu/project/mouse_rostral_brain/DMR/ITSpatial_by_layer/IT-L23/MotifEnrichment'\n"
   ]
  },
  {
   "cell_type": "code",
   "execution_count": 3,
   "metadata": {
    "papermill": {
     "duration": 0.013744,
     "end_time": "2020-01-14T07:07:54.898060",
     "exception": false,
     "start_time": "2020-01-14T07:07:54.884316",
     "status": "completed"
    },
    "tags": [
     "injected-parameters"
    ]
   },
   "outputs": [],
   "source": [
    "# Parameters\n",
    "mask_quantile_to99 = 0.9\n",
    "or_cutoff = 1.5\n",
    "neg_lgp_cutoff = 10\n",
    "group = \"group0\"\n",
    "motif_hits_path = \"/home/hanliu/project/mouse_rostral_brain/DMR/DGmCHGroup/snm3C-DMR/MotifScan.h5ad\"\n",
    "dmr_hits_path = \"/home/hanliu/project/mouse_rostral_brain/DMR/DGmCHGroup/snm3C-DMR/HypoDMR/group0.DMS1.bed\"\n",
    "output_dir = \"/home/hanliu/project/mouse_rostral_brain/DMR/DGmCHGroup/snm3C-DMR/MotifEnrichment\"\n"
   ]
  },
  {
   "cell_type": "code",
   "execution_count": 4,
   "metadata": {
    "ExecuteTime": {
     "end_time": "2020-01-14T06:18:26.904527Z",
     "start_time": "2020-01-14T06:18:26.902313Z"
    },
    "papermill": {
     "duration": 0.013547,
     "end_time": "2020-01-14T07:07:54.920344",
     "exception": false,
     "start_time": "2020-01-14T07:07:54.906797",
     "status": "completed"
    },
    "tags": []
   },
   "outputs": [],
   "source": [
    "output_dir = pathlib.Path(output_dir)\n",
    "output_dir.mkdir(exist_ok=True)"
   ]
  },
  {
   "cell_type": "markdown",
   "metadata": {
    "papermill": {
     "duration": 0.008857,
     "end_time": "2020-01-14T07:07:54.938050",
     "exception": false,
     "start_time": "2020-01-14T07:07:54.929193",
     "status": "completed"
    },
    "tags": []
   },
   "source": [
    "## DMR hits"
   ]
  },
  {
   "cell_type": "code",
   "execution_count": 5,
   "metadata": {
    "ExecuteTime": {
     "end_time": "2020-01-14T06:18:26.977147Z",
     "start_time": "2020-01-14T06:18:26.905687Z"
    },
    "papermill": {
     "duration": 0.065922,
     "end_time": "2020-01-14T07:07:55.012750",
     "exception": false,
     "start_time": "2020-01-14T07:07:54.946828",
     "status": "completed"
    },
    "tags": []
   },
   "outputs": [
    {
     "data": {
      "text/html": [
       "<div>\n",
       "<style scoped>\n",
       "    .dataframe tbody tr th:only-of-type {\n",
       "        vertical-align: middle;\n",
       "    }\n",
       "\n",
       "    .dataframe tbody tr th {\n",
       "        vertical-align: top;\n",
       "    }\n",
       "\n",
       "    .dataframe thead th {\n",
       "        text-align: right;\n",
       "    }\n",
       "</style>\n",
       "<table border=\"1\" class=\"dataframe\">\n",
       "  <thead>\n",
       "    <tr style=\"text-align: right;\">\n",
       "      <th></th>\n",
       "      <th>0</th>\n",
       "      <th>1</th>\n",
       "      <th>2</th>\n",
       "    </tr>\n",
       "    <tr>\n",
       "      <th>3</th>\n",
       "      <th></th>\n",
       "      <th></th>\n",
       "      <th></th>\n",
       "    </tr>\n",
       "  </thead>\n",
       "  <tbody>\n",
       "    <tr>\n",
       "      <th>DGm3c_11</th>\n",
       "      <td>chr1</td>\n",
       "      <td>4731880</td>\n",
       "      <td>4731880</td>\n",
       "    </tr>\n",
       "    <tr>\n",
       "      <th>DGm3c_12</th>\n",
       "      <td>chr1</td>\n",
       "      <td>4767514</td>\n",
       "      <td>4767514</td>\n",
       "    </tr>\n",
       "    <tr>\n",
       "      <th>DGm3c_20</th>\n",
       "      <td>chr1</td>\n",
       "      <td>5750645</td>\n",
       "      <td>5750645</td>\n",
       "    </tr>\n",
       "    <tr>\n",
       "      <th>DGm3c_24</th>\n",
       "      <td>chr1</td>\n",
       "      <td>6487486</td>\n",
       "      <td>6487486</td>\n",
       "    </tr>\n",
       "    <tr>\n",
       "      <th>DGm3c_27</th>\n",
       "      <td>chr1</td>\n",
       "      <td>6585232</td>\n",
       "      <td>6585232</td>\n",
       "    </tr>\n",
       "  </tbody>\n",
       "</table>\n",
       "</div>"
      ],
      "text/plain": [
       "             0        1        2\n",
       "3                               \n",
       "DGm3c_11  chr1  4731880  4731880\n",
       "DGm3c_12  chr1  4767514  4767514\n",
       "DGm3c_20  chr1  5750645  5750645\n",
       "DGm3c_24  chr1  6487486  6487486\n",
       "DGm3c_27  chr1  6585232  6585232"
      ]
     },
     "execution_count": 5,
     "metadata": {},
     "output_type": "execute_result"
    }
   ],
   "source": [
    "dmr_bed_df = pd.read_csv(dmr_hits_path, sep='\\t', header=None, index_col=3)\n",
    "dmr_bed_df.head()"
   ]
  },
  {
   "cell_type": "code",
   "execution_count": 6,
   "metadata": {
    "ExecuteTime": {
     "end_time": "2020-01-14T06:18:29.520483Z",
     "start_time": "2020-01-14T06:18:26.978411Z"
    },
    "papermill": {
     "duration": 0.356052,
     "end_time": "2020-01-14T07:07:55.378915",
     "exception": false,
     "start_time": "2020-01-14T07:07:55.022863",
     "status": "completed"
    },
    "tags": []
   },
   "outputs": [
    {
     "data": {
      "text/plain": [
       "AnnData object with n_obs × n_vars = 21436 × 719 \n",
       "    obs: 'chrom', 'start', 'end'"
      ]
     },
     "execution_count": 6,
     "metadata": {},
     "output_type": "execute_result"
    }
   ],
   "source": [
    "motif_hits = anndata.read_h5ad(motif_hits_path)\n",
    "motif_hits = motif_hits[dmr_bed_df.index, :].copy()\n",
    "motif_ids = motif_hits.var_names\n",
    "motif_hits.X = motif_hits.X.todense()\n",
    "motif_hits"
   ]
  },
  {
   "cell_type": "code",
   "execution_count": 7,
   "metadata": {
    "ExecuteTime": {
     "end_time": "2020-01-14T06:18:30.371315Z",
     "start_time": "2020-01-14T06:18:29.522335Z"
    },
    "papermill": {
     "duration": 0.326106,
     "end_time": "2020-01-14T07:07:55.715240",
     "exception": false,
     "start_time": "2020-01-14T07:07:55.389134",
     "status": "completed"
    },
    "tags": []
   },
   "outputs": [],
   "source": [
    "# mask small motif scores\n",
    "motif_cutoff = pd.Series(np.apply_along_axis(lambda i: np.quantile(i[i>0], 0.99) * mask_quantile_to99, \n",
    "                                             0, motif_hits.X),\n",
    "                         index=motif_hits.var_names)\n",
    "# only keep value larger than the cutoff for each motif\n",
    "motif_hits.X = np.multiply(motif_hits.X, (motif_hits.X > motif_cutoff.values[None, :]))"
   ]
  },
  {
   "cell_type": "markdown",
   "metadata": {
    "papermill": {
     "duration": 0.01018,
     "end_time": "2020-01-14T07:07:55.735495",
     "exception": false,
     "start_time": "2020-01-14T07:07:55.725315",
     "status": "completed"
    },
    "tags": []
   },
   "source": [
    "## Background Hits"
   ]
  },
  {
   "cell_type": "code",
   "execution_count": 8,
   "metadata": {
    "ExecuteTime": {
     "end_time": "2020-01-14T06:18:31.539994Z",
     "start_time": "2020-01-14T06:18:30.373663Z"
    },
    "papermill": {
     "duration": 1.136385,
     "end_time": "2020-01-14T07:07:56.881871",
     "exception": false,
     "start_time": "2020-01-14T07:07:55.745486",
     "status": "completed"
    },
    "tags": []
   },
   "outputs": [],
   "source": [
    "background_motif_hits = anndata.read_h5ad(\n",
    "    '/home/hanliu/project/mouse_rostral_brain/DMR/BackgroundDMR/MotifScan.h5ad'\n",
    ")"
   ]
  },
  {
   "cell_type": "code",
   "execution_count": 9,
   "metadata": {
    "ExecuteTime": {
     "end_time": "2020-01-14T06:18:32.577829Z",
     "start_time": "2020-01-14T06:18:31.541596Z"
    },
    "papermill": {
     "duration": 0.987233,
     "end_time": "2020-01-14T07:07:57.879335",
     "exception": false,
     "start_time": "2020-01-14T07:07:56.892102",
     "status": "completed"
    },
    "tags": []
   },
   "outputs": [],
   "source": [
    "dmr_bed = pybedtools.BedTool().from_dataframe(dmr_bed_df)\n",
    "bg_bed = pybedtools.BedTool().from_dataframe(\n",
    "    background_motif_hits.obs.reset_index().iloc[:, [1, 2, 3, 0]])"
   ]
  },
  {
   "cell_type": "code",
   "execution_count": 10,
   "metadata": {
    "ExecuteTime": {
     "end_time": "2020-01-14T06:18:34.079285Z",
     "start_time": "2020-01-14T06:18:32.579345Z"
    },
    "papermill": {
     "duration": 1.542527,
     "end_time": "2020-01-14T07:07:59.431958",
     "exception": false,
     "start_time": "2020-01-14T07:07:57.889431",
     "status": "completed"
    },
    "tags": []
   },
   "outputs": [],
   "source": [
    "# exclude background that overlap with DMR\n",
    "bg_no_overlap = bg_bed.intersect(dmr_bed, v=True)\n",
    "use_bg = bg_no_overlap.to_dataframe().iloc[:, -1].values\n",
    "background_motif_hits = background_motif_hits[use_bg, :]\n",
    "\n",
    "# make sure col in same order\n",
    "background_motif_hits = background_motif_hits[:, motif_ids].copy()"
   ]
  },
  {
   "cell_type": "code",
   "execution_count": 11,
   "metadata": {
    "ExecuteTime": {
     "end_time": "2020-01-14T06:18:36.216633Z",
     "start_time": "2020-01-14T06:18:34.081084Z"
    },
    "papermill": {
     "duration": 2.213888,
     "end_time": "2020-01-14T07:08:01.655899",
     "exception": false,
     "start_time": "2020-01-14T07:07:59.442011",
     "status": "completed"
    },
    "tags": []
   },
   "outputs": [],
   "source": [
    "judge_matrix = csr_matrix(background_motif_hits.X > motif_cutoff.values[None, :])\n",
    "background_motif_hits.X = background_motif_hits.X.multiply(judge_matrix)"
   ]
  },
  {
   "cell_type": "code",
   "execution_count": 12,
   "metadata": {
    "ExecuteTime": {
     "end_time": "2020-01-14T06:18:36.221914Z",
     "start_time": "2020-01-14T06:18:36.218391Z"
    },
    "papermill": {
     "duration": 0.017534,
     "end_time": "2020-01-14T07:08:01.683546",
     "exception": false,
     "start_time": "2020-01-14T07:08:01.666012",
     "status": "completed"
    },
    "tags": []
   },
   "outputs": [
    {
     "data": {
      "text/plain": [
       "AnnData object with n_obs × n_vars = 338413 × 719 \n",
       "    obs: 'chrom', 'start', 'end'"
      ]
     },
     "execution_count": 12,
     "metadata": {},
     "output_type": "execute_result"
    }
   ],
   "source": [
    "background_motif_hits"
   ]
  },
  {
   "cell_type": "markdown",
   "metadata": {
    "papermill": {
     "duration": 0.009396,
     "end_time": "2020-01-14T07:08:01.702420",
     "exception": false,
     "start_time": "2020-01-14T07:08:01.693024",
     "status": "completed"
    },
    "tags": []
   },
   "source": [
    "## Motif hits contingency table"
   ]
  },
  {
   "cell_type": "code",
   "execution_count": 13,
   "metadata": {
    "ExecuteTime": {
     "end_time": "2020-01-14T06:18:36.569593Z",
     "start_time": "2020-01-14T06:18:36.223112Z"
    },
    "papermill": {
     "duration": 0.199898,
     "end_time": "2020-01-14T07:08:01.911790",
     "exception": false,
     "start_time": "2020-01-14T07:08:01.711892",
     "status": "completed"
    },
    "tags": []
   },
   "outputs": [],
   "source": [
    "# calculate motif occurence, not considering hits here\n",
    "pos = (motif_hits.X > 0).sum(axis=0)\n",
    "pos_total = motif_hits.shape[0]\n",
    "\n",
    "neg = (background_motif_hits.X > 0).sum(axis=0)\n",
    "neg_total = background_motif_hits.shape[0]"
   ]
  },
  {
   "cell_type": "code",
   "execution_count": 14,
   "metadata": {
    "ExecuteTime": {
     "end_time": "2020-01-14T06:18:36.575198Z",
     "start_time": "2020-01-14T06:18:36.571005Z"
    },
    "papermill": {
     "duration": 0.07065,
     "end_time": "2020-01-14T07:08:01.992665",
     "exception": false,
     "start_time": "2020-01-14T07:08:01.922015",
     "status": "completed"
    },
    "scrolled": true,
    "tags": []
   },
   "outputs": [],
   "source": [
    "tables = {}\n",
    "for motif, _pos, _neg in zip(motif_ids, pos.A1, neg.A1):\n",
    "    table = [[_pos, pos_total - _pos], [_neg, neg_total - _neg]]\n",
    "    tables[motif] = table"
   ]
  },
  {
   "cell_type": "code",
   "execution_count": 15,
   "metadata": {
    "ExecuteTime": {
     "end_time": "2020-01-14T06:18:37.087058Z",
     "start_time": "2020-01-14T06:18:36.576449Z"
    },
    "papermill": {
     "duration": 0.614561,
     "end_time": "2020-01-14T07:08:02.616789",
     "exception": false,
     "start_time": "2020-01-14T07:08:02.002228",
     "status": "completed"
    },
    "tags": []
   },
   "outputs": [],
   "source": [
    "results = {}\n",
    "with ProcessPoolExecutor(20) as executor:\n",
    "    fs = {}\n",
    "    for motif, t in tables.items():\n",
    "        f = executor.submit(stats.fisher_exact, t, alternative='greater')\n",
    "        fs[f] = motif\n",
    "\n",
    "    for f in as_completed(fs):\n",
    "        motif = fs[f]\n",
    "        odds, p = f.result()\n",
    "        results[motif] = {'oddsratio': odds, 'p_value': p}\n",
    "motif_enrich_df = pd.DataFrame(results).T\n",
    "\n",
    "_, p, _, _ = multipletests(motif_enrich_df['p_value'], method='fdr_bh')\n",
    "motif_enrich_df['adj_p'] = p\n",
    "\n",
    "motif_enrich_df['-lgp'] = -np.log10(motif_enrich_df['adj_p']).replace(\n",
    "    -np.inf, -300)\n",
    "\n",
    "records = {}\n",
    "for motif, t in tables.items():\n",
    "    tp, tn = t[0]\n",
    "    fp, fn = t[1]\n",
    "    tp_rate = tp / pos_total\n",
    "    fp_rate = fp / neg_total\n",
    "    records[motif] = dict(tp=tp,\n",
    "                          tn=tn,\n",
    "                          fp=fp,\n",
    "                          fn=fn,\n",
    "                          tp_rate=tp_rate,\n",
    "                          fp_rate=fp_rate)\n",
    "counts = pd.DataFrame(records).T\n",
    "motif_enrich_df = pd.concat([motif_enrich_df, counts], axis=1, sort=True)"
   ]
  },
  {
   "cell_type": "code",
   "execution_count": 16,
   "metadata": {
    "ExecuteTime": {
     "end_time": "2020-01-14T06:18:37.092111Z",
     "start_time": "2020-01-14T06:18:37.088525Z"
    },
    "papermill": {
     "duration": 0.015426,
     "end_time": "2020-01-14T07:08:02.643145",
     "exception": false,
     "start_time": "2020-01-14T07:08:02.627719",
     "status": "completed"
    },
    "tags": []
   },
   "outputs": [],
   "source": [
    "motif_enrich_df['Group'] = group"
   ]
  },
  {
   "cell_type": "code",
   "execution_count": 17,
   "metadata": {
    "ExecuteTime": {
     "end_time": "2020-01-14T06:18:37.099304Z",
     "start_time": "2020-01-14T06:18:37.093659Z"
    },
    "papermill": {
     "duration": 0.01792,
     "end_time": "2020-01-14T07:08:02.671115",
     "exception": false,
     "start_time": "2020-01-14T07:08:02.653195",
     "status": "completed"
    },
    "tags": []
   },
   "outputs": [
    {
     "data": {
      "text/plain": [
       "23"
      ]
     },
     "execution_count": 17,
     "metadata": {},
     "output_type": "execute_result"
    }
   ],
   "source": [
    "# final filter\n",
    "filtered_motif_df = motif_enrich_df[(motif_enrich_df['oddsratio'] > or_cutoff)\n",
    "                                    &\n",
    "                                    (motif_enrich_df['-lgp'] > neg_lgp_cutoff)]\n",
    "filtered_motif_df.shape[0]"
   ]
  },
  {
   "cell_type": "code",
   "execution_count": 18,
   "metadata": {
    "ExecuteTime": {
     "end_time": "2020-01-14T06:18:37.104396Z",
     "start_time": "2020-01-14T06:18:37.100619Z"
    },
    "papermill": {
     "duration": 0.017249,
     "end_time": "2020-01-14T07:08:02.698038",
     "exception": false,
     "start_time": "2020-01-14T07:08:02.680789",
     "status": "completed"
    },
    "tags": []
   },
   "outputs": [
    {
     "name": "stderr",
     "output_type": "stream",
     "text": [
      "/home/hanliu/miniconda3/envs/clustering/lib/python3.7/site-packages/ipykernel_launcher.py:1: FutureWarning: to_msgpack is deprecated and will be removed in a future version.\n",
      "It is recommended to use pyarrow for on-the-wire transmission of pandas objects.\n",
      "  \"\"\"Entry point for launching an IPython kernel.\n"
     ]
    }
   ],
   "source": [
    "motif_enrich_df.to_msgpack(output_dir / f'{group}.motif_enrichment.msg')"
   ]
  },
  {
   "cell_type": "code",
   "execution_count": 19,
   "metadata": {
    "ExecuteTime": {
     "end_time": "2020-01-14T06:18:37.114285Z",
     "start_time": "2020-01-14T06:18:37.105716Z"
    },
    "papermill": {
     "duration": 0.019958,
     "end_time": "2020-01-14T07:08:02.727924",
     "exception": false,
     "start_time": "2020-01-14T07:08:02.707966",
     "status": "completed"
    },
    "tags": []
   },
   "outputs": [],
   "source": [
    "pybedtools.cleanup()"
   ]
  },
  {
   "cell_type": "code",
   "execution_count": 20,
   "metadata": {
    "ExecuteTime": {
     "end_time": "2020-01-14T06:18:37.133796Z",
     "start_time": "2020-01-14T06:18:37.115607Z"
    },
    "papermill": {
     "duration": 0.029926,
     "end_time": "2020-01-14T07:08:02.768540",
     "exception": false,
     "start_time": "2020-01-14T07:08:02.738614",
     "status": "completed"
    },
    "tags": []
   },
   "outputs": [
    {
     "data": {
      "text/html": [
       "<div>\n",
       "<style scoped>\n",
       "    .dataframe tbody tr th:only-of-type {\n",
       "        vertical-align: middle;\n",
       "    }\n",
       "\n",
       "    .dataframe tbody tr th {\n",
       "        vertical-align: top;\n",
       "    }\n",
       "\n",
       "    .dataframe thead th {\n",
       "        text-align: right;\n",
       "    }\n",
       "</style>\n",
       "<table border=\"1\" class=\"dataframe\">\n",
       "  <thead>\n",
       "    <tr style=\"text-align: right;\">\n",
       "      <th></th>\n",
       "      <th>oddsratio</th>\n",
       "      <th>p_value</th>\n",
       "      <th>adj_p</th>\n",
       "      <th>-lgp</th>\n",
       "      <th>tp</th>\n",
       "      <th>tn</th>\n",
       "      <th>fp</th>\n",
       "      <th>fn</th>\n",
       "      <th>tp_rate</th>\n",
       "      <th>fp_rate</th>\n",
       "      <th>Group</th>\n",
       "    </tr>\n",
       "  </thead>\n",
       "  <tbody>\n",
       "    <tr>\n",
       "      <th>MA0027.2</th>\n",
       "      <td>1.532039</td>\n",
       "      <td>7.197724e-43</td>\n",
       "      <td>5.750182e-41</td>\n",
       "      <td>40.240318</td>\n",
       "      <td>1330.0</td>\n",
       "      <td>20106.0</td>\n",
       "      <td>14007.0</td>\n",
       "      <td>324406.0</td>\n",
       "      <td>0.062045</td>\n",
       "      <td>0.041390</td>\n",
       "      <td>group0</td>\n",
       "    </tr>\n",
       "    <tr>\n",
       "      <th>MA0068.2</th>\n",
       "      <td>1.849589</td>\n",
       "      <td>1.957932e-19</td>\n",
       "      <td>3.199439e-18</td>\n",
       "      <td>17.494926</td>\n",
       "      <td>281.0</td>\n",
       "      <td>21155.0</td>\n",
       "      <td>2413.0</td>\n",
       "      <td>336000.0</td>\n",
       "      <td>0.013109</td>\n",
       "      <td>0.007130</td>\n",
       "      <td>group0</td>\n",
       "    </tr>\n",
       "    <tr>\n",
       "      <th>MA0630.1</th>\n",
       "      <td>1.616279</td>\n",
       "      <td>7.236935e-61</td>\n",
       "      <td>8.672260e-59</td>\n",
       "      <td>58.061868</td>\n",
       "      <td>1550.0</td>\n",
       "      <td>19886.0</td>\n",
       "      <td>15569.0</td>\n",
       "      <td>322844.0</td>\n",
       "      <td>0.072308</td>\n",
       "      <td>0.046006</td>\n",
       "      <td>group0</td>\n",
       "    </tr>\n",
       "    <tr>\n",
       "      <th>MA0644.1</th>\n",
       "      <td>1.582287</td>\n",
       "      <td>7.485086e-20</td>\n",
       "      <td>1.312628e-18</td>\n",
       "      <td>17.881858</td>\n",
       "      <td>494.0</td>\n",
       "      <td>20942.0</td>\n",
       "      <td>4971.0</td>\n",
       "      <td>333442.0</td>\n",
       "      <td>0.023045</td>\n",
       "      <td>0.014689</td>\n",
       "      <td>group0</td>\n",
       "    </tr>\n",
       "    <tr>\n",
       "      <th>MA0654.1</th>\n",
       "      <td>1.616279</td>\n",
       "      <td>7.236935e-61</td>\n",
       "      <td>8.672260e-59</td>\n",
       "      <td>58.061868</td>\n",
       "      <td>1550.0</td>\n",
       "      <td>19886.0</td>\n",
       "      <td>15569.0</td>\n",
       "      <td>322844.0</td>\n",
       "      <td>0.072308</td>\n",
       "      <td>0.046006</td>\n",
       "      <td>group0</td>\n",
       "    </tr>\n",
       "    <tr>\n",
       "      <th>MA0662.1</th>\n",
       "      <td>1.558810</td>\n",
       "      <td>6.078954e-53</td>\n",
       "      <td>6.243954e-51</td>\n",
       "      <td>50.204540</td>\n",
       "      <td>1552.0</td>\n",
       "      <td>19884.0</td>\n",
       "      <td>16137.0</td>\n",
       "      <td>322276.0</td>\n",
       "      <td>0.072402</td>\n",
       "      <td>0.047684</td>\n",
       "      <td>group0</td>\n",
       "    </tr>\n",
       "    <tr>\n",
       "      <th>MA0699.1</th>\n",
       "      <td>1.641077</td>\n",
       "      <td>5.147633e-31</td>\n",
       "      <td>1.480459e-29</td>\n",
       "      <td>28.829604</td>\n",
       "      <td>700.0</td>\n",
       "      <td>20736.0</td>\n",
       "      <td>6821.0</td>\n",
       "      <td>331592.0</td>\n",
       "      <td>0.032655</td>\n",
       "      <td>0.020156</td>\n",
       "      <td>group0</td>\n",
       "    </tr>\n",
       "    <tr>\n",
       "      <th>MA0701.2</th>\n",
       "      <td>1.616279</td>\n",
       "      <td>7.236935e-61</td>\n",
       "      <td>8.672260e-59</td>\n",
       "      <td>58.061868</td>\n",
       "      <td>1550.0</td>\n",
       "      <td>19886.0</td>\n",
       "      <td>15569.0</td>\n",
       "      <td>322844.0</td>\n",
       "      <td>0.072308</td>\n",
       "      <td>0.046006</td>\n",
       "      <td>group0</td>\n",
       "    </tr>\n",
       "    <tr>\n",
       "      <th>MA0710.1</th>\n",
       "      <td>1.811691</td>\n",
       "      <td>2.601661e-25</td>\n",
       "      <td>6.450324e-24</td>\n",
       "      <td>23.190418</td>\n",
       "      <td>400.0</td>\n",
       "      <td>21036.0</td>\n",
       "      <td>3515.0</td>\n",
       "      <td>334898.0</td>\n",
       "      <td>0.018660</td>\n",
       "      <td>0.010387</td>\n",
       "      <td>group0</td>\n",
       "    </tr>\n",
       "    <tr>\n",
       "      <th>MA0716.1</th>\n",
       "      <td>1.616279</td>\n",
       "      <td>7.236935e-61</td>\n",
       "      <td>8.672260e-59</td>\n",
       "      <td>58.061868</td>\n",
       "      <td>1550.0</td>\n",
       "      <td>19886.0</td>\n",
       "      <td>15569.0</td>\n",
       "      <td>322844.0</td>\n",
       "      <td>0.072308</td>\n",
       "      <td>0.046006</td>\n",
       "      <td>group0</td>\n",
       "    </tr>\n",
       "    <tr>\n",
       "      <th>MA0718.1</th>\n",
       "      <td>1.511545</td>\n",
       "      <td>2.621765e-14</td>\n",
       "      <td>3.090245e-13</td>\n",
       "      <td>12.510007</td>\n",
       "      <td>415.0</td>\n",
       "      <td>21021.0</td>\n",
       "      <td>4363.0</td>\n",
       "      <td>334050.0</td>\n",
       "      <td>0.019360</td>\n",
       "      <td>0.012893</td>\n",
       "      <td>group0</td>\n",
       "    </tr>\n",
       "    <tr>\n",
       "      <th>MA0720.1</th>\n",
       "      <td>1.616279</td>\n",
       "      <td>7.236935e-61</td>\n",
       "      <td>8.672260e-59</td>\n",
       "      <td>58.061868</td>\n",
       "      <td>1550.0</td>\n",
       "      <td>19886.0</td>\n",
       "      <td>15569.0</td>\n",
       "      <td>322844.0</td>\n",
       "      <td>0.072308</td>\n",
       "      <td>0.046006</td>\n",
       "      <td>group0</td>\n",
       "    </tr>\n",
       "    <tr>\n",
       "      <th>MA0721.1</th>\n",
       "      <td>1.616279</td>\n",
       "      <td>7.236935e-61</td>\n",
       "      <td>8.672260e-59</td>\n",
       "      <td>58.061868</td>\n",
       "      <td>1550.0</td>\n",
       "      <td>19886.0</td>\n",
       "      <td>15569.0</td>\n",
       "      <td>322844.0</td>\n",
       "      <td>0.072308</td>\n",
       "      <td>0.046006</td>\n",
       "      <td>group0</td>\n",
       "    </tr>\n",
       "    <tr>\n",
       "      <th>MA0793.1</th>\n",
       "      <td>1.533050</td>\n",
       "      <td>5.539262e-13</td>\n",
       "      <td>6.034439e-12</td>\n",
       "      <td>11.219363</td>\n",
       "      <td>348.0</td>\n",
       "      <td>21088.0</td>\n",
       "      <td>3604.0</td>\n",
       "      <td>334809.0</td>\n",
       "      <td>0.016234</td>\n",
       "      <td>0.010650</td>\n",
       "      <td>group0</td>\n",
       "    </tr>\n",
       "    <tr>\n",
       "      <th>MA0886.1</th>\n",
       "      <td>1.740695</td>\n",
       "      <td>6.355662e-14</td>\n",
       "      <td>7.253525e-13</td>\n",
       "      <td>12.139451</td>\n",
       "      <td>233.0</td>\n",
       "      <td>21203.0</td>\n",
       "      <td>2123.0</td>\n",
       "      <td>336290.0</td>\n",
       "      <td>0.010870</td>\n",
       "      <td>0.006273</td>\n",
       "      <td>group0</td>\n",
       "    </tr>\n",
       "    <tr>\n",
       "      <th>MA0887.1</th>\n",
       "      <td>1.733668</td>\n",
       "      <td>2.161396e-17</td>\n",
       "      <td>3.108087e-16</td>\n",
       "      <td>15.507507</td>\n",
       "      <td>304.0</td>\n",
       "      <td>21132.0</td>\n",
       "      <td>2785.0</td>\n",
       "      <td>335628.0</td>\n",
       "      <td>0.014182</td>\n",
       "      <td>0.008230</td>\n",
       "      <td>group0</td>\n",
       "    </tr>\n",
       "    <tr>\n",
       "      <th>MA0888.1</th>\n",
       "      <td>1.813637</td>\n",
       "      <td>4.432054e-17</td>\n",
       "      <td>6.248327e-16</td>\n",
       "      <td>15.204236</td>\n",
       "      <td>258.0</td>\n",
       "      <td>21178.0</td>\n",
       "      <td>2258.0</td>\n",
       "      <td>336155.0</td>\n",
       "      <td>0.012036</td>\n",
       "      <td>0.006672</td>\n",
       "      <td>group0</td>\n",
       "    </tr>\n",
       "    <tr>\n",
       "      <th>MA0889.1</th>\n",
       "      <td>1.574480</td>\n",
       "      <td>5.373992e-15</td>\n",
       "      <td>7.025273e-14</td>\n",
       "      <td>13.153337</td>\n",
       "      <td>367.0</td>\n",
       "      <td>21069.0</td>\n",
       "      <td>3703.0</td>\n",
       "      <td>334710.0</td>\n",
       "      <td>0.017121</td>\n",
       "      <td>0.010942</td>\n",
       "      <td>group0</td>\n",
       "    </tr>\n",
       "    <tr>\n",
       "      <th>MA0890.1</th>\n",
       "      <td>1.598401</td>\n",
       "      <td>3.630261e-24</td>\n",
       "      <td>7.909568e-23</td>\n",
       "      <td>22.101847</td>\n",
       "      <td>590.0</td>\n",
       "      <td>20846.0</td>\n",
       "      <td>5888.0</td>\n",
       "      <td>332525.0</td>\n",
       "      <td>0.027524</td>\n",
       "      <td>0.017399</td>\n",
       "      <td>group0</td>\n",
       "    </tr>\n",
       "    <tr>\n",
       "      <th>MA0892.1</th>\n",
       "      <td>1.559912</td>\n",
       "      <td>3.086680e-40</td>\n",
       "      <td>1.387077e-38</td>\n",
       "      <td>37.857900</td>\n",
       "      <td>1144.0</td>\n",
       "      <td>20292.0</td>\n",
       "      <td>11804.0</td>\n",
       "      <td>326609.0</td>\n",
       "      <td>0.053368</td>\n",
       "      <td>0.034880</td>\n",
       "      <td>group0</td>\n",
       "    </tr>\n",
       "    <tr>\n",
       "      <th>MA0894.1</th>\n",
       "      <td>1.583489</td>\n",
       "      <td>7.780459e-20</td>\n",
       "      <td>1.331940e-18</td>\n",
       "      <td>17.875515</td>\n",
       "      <td>492.0</td>\n",
       "      <td>20944.0</td>\n",
       "      <td>4947.0</td>\n",
       "      <td>333466.0</td>\n",
       "      <td>0.022952</td>\n",
       "      <td>0.014618</td>\n",
       "      <td>group0</td>\n",
       "    </tr>\n",
       "    <tr>\n",
       "      <th>MA1481.1</th>\n",
       "      <td>1.560319</td>\n",
       "      <td>2.986243e-37</td>\n",
       "      <td>1.130057e-35</td>\n",
       "      <td>34.946900</td>\n",
       "      <td>1050.0</td>\n",
       "      <td>20386.0</td>\n",
       "      <td>10814.0</td>\n",
       "      <td>327599.0</td>\n",
       "      <td>0.048983</td>\n",
       "      <td>0.031955</td>\n",
       "      <td>group0</td>\n",
       "    </tr>\n",
       "    <tr>\n",
       "      <th>MA1577.1</th>\n",
       "      <td>1.522521</td>\n",
       "      <td>5.477108e-35</td>\n",
       "      <td>1.875257e-33</td>\n",
       "      <td>32.726939</td>\n",
       "      <td>1094.0</td>\n",
       "      <td>20342.0</td>\n",
       "      <td>11546.0</td>\n",
       "      <td>326867.0</td>\n",
       "      <td>0.051036</td>\n",
       "      <td>0.034118</td>\n",
       "      <td>group0</td>\n",
       "    </tr>\n",
       "  </tbody>\n",
       "</table>\n",
       "</div>"
      ],
      "text/plain": [
       "          oddsratio       p_value         adj_p       -lgp      tp       tn  \\\n",
       "MA0027.2   1.532039  7.197724e-43  5.750182e-41  40.240318  1330.0  20106.0   \n",
       "MA0068.2   1.849589  1.957932e-19  3.199439e-18  17.494926   281.0  21155.0   \n",
       "MA0630.1   1.616279  7.236935e-61  8.672260e-59  58.061868  1550.0  19886.0   \n",
       "MA0644.1   1.582287  7.485086e-20  1.312628e-18  17.881858   494.0  20942.0   \n",
       "MA0654.1   1.616279  7.236935e-61  8.672260e-59  58.061868  1550.0  19886.0   \n",
       "MA0662.1   1.558810  6.078954e-53  6.243954e-51  50.204540  1552.0  19884.0   \n",
       "MA0699.1   1.641077  5.147633e-31  1.480459e-29  28.829604   700.0  20736.0   \n",
       "MA0701.2   1.616279  7.236935e-61  8.672260e-59  58.061868  1550.0  19886.0   \n",
       "MA0710.1   1.811691  2.601661e-25  6.450324e-24  23.190418   400.0  21036.0   \n",
       "MA0716.1   1.616279  7.236935e-61  8.672260e-59  58.061868  1550.0  19886.0   \n",
       "MA0718.1   1.511545  2.621765e-14  3.090245e-13  12.510007   415.0  21021.0   \n",
       "MA0720.1   1.616279  7.236935e-61  8.672260e-59  58.061868  1550.0  19886.0   \n",
       "MA0721.1   1.616279  7.236935e-61  8.672260e-59  58.061868  1550.0  19886.0   \n",
       "MA0793.1   1.533050  5.539262e-13  6.034439e-12  11.219363   348.0  21088.0   \n",
       "MA0886.1   1.740695  6.355662e-14  7.253525e-13  12.139451   233.0  21203.0   \n",
       "MA0887.1   1.733668  2.161396e-17  3.108087e-16  15.507507   304.0  21132.0   \n",
       "MA0888.1   1.813637  4.432054e-17  6.248327e-16  15.204236   258.0  21178.0   \n",
       "MA0889.1   1.574480  5.373992e-15  7.025273e-14  13.153337   367.0  21069.0   \n",
       "MA0890.1   1.598401  3.630261e-24  7.909568e-23  22.101847   590.0  20846.0   \n",
       "MA0892.1   1.559912  3.086680e-40  1.387077e-38  37.857900  1144.0  20292.0   \n",
       "MA0894.1   1.583489  7.780459e-20  1.331940e-18  17.875515   492.0  20944.0   \n",
       "MA1481.1   1.560319  2.986243e-37  1.130057e-35  34.946900  1050.0  20386.0   \n",
       "MA1577.1   1.522521  5.477108e-35  1.875257e-33  32.726939  1094.0  20342.0   \n",
       "\n",
       "               fp        fn   tp_rate   fp_rate   Group  \n",
       "MA0027.2  14007.0  324406.0  0.062045  0.041390  group0  \n",
       "MA0068.2   2413.0  336000.0  0.013109  0.007130  group0  \n",
       "MA0630.1  15569.0  322844.0  0.072308  0.046006  group0  \n",
       "MA0644.1   4971.0  333442.0  0.023045  0.014689  group0  \n",
       "MA0654.1  15569.0  322844.0  0.072308  0.046006  group0  \n",
       "MA0662.1  16137.0  322276.0  0.072402  0.047684  group0  \n",
       "MA0699.1   6821.0  331592.0  0.032655  0.020156  group0  \n",
       "MA0701.2  15569.0  322844.0  0.072308  0.046006  group0  \n",
       "MA0710.1   3515.0  334898.0  0.018660  0.010387  group0  \n",
       "MA0716.1  15569.0  322844.0  0.072308  0.046006  group0  \n",
       "MA0718.1   4363.0  334050.0  0.019360  0.012893  group0  \n",
       "MA0720.1  15569.0  322844.0  0.072308  0.046006  group0  \n",
       "MA0721.1  15569.0  322844.0  0.072308  0.046006  group0  \n",
       "MA0793.1   3604.0  334809.0  0.016234  0.010650  group0  \n",
       "MA0886.1   2123.0  336290.0  0.010870  0.006273  group0  \n",
       "MA0887.1   2785.0  335628.0  0.014182  0.008230  group0  \n",
       "MA0888.1   2258.0  336155.0  0.012036  0.006672  group0  \n",
       "MA0889.1   3703.0  334710.0  0.017121  0.010942  group0  \n",
       "MA0890.1   5888.0  332525.0  0.027524  0.017399  group0  \n",
       "MA0892.1  11804.0  326609.0  0.053368  0.034880  group0  \n",
       "MA0894.1   4947.0  333466.0  0.022952  0.014618  group0  \n",
       "MA1481.1  10814.0  327599.0  0.048983  0.031955  group0  \n",
       "MA1577.1  11546.0  326867.0  0.051036  0.034118  group0  "
      ]
     },
     "execution_count": 20,
     "metadata": {},
     "output_type": "execute_result"
    }
   ],
   "source": [
    "filtered_motif_df"
   ]
  },
  {
   "cell_type": "code",
   "execution_count": null,
   "metadata": {
    "papermill": {
     "duration": 0.010526,
     "end_time": "2020-01-14T07:08:02.789588",
     "exception": false,
     "start_time": "2020-01-14T07:08:02.779062",
     "status": "completed"
    },
    "tags": []
   },
   "outputs": [],
   "source": []
  }
 ],
 "metadata": {
  "hide_input": false,
  "kernelspec": {
   "display_name": "Python 3",
   "language": "python",
   "name": "python3"
  },
  "language_info": {
   "codemirror_mode": {
    "name": "ipython",
    "version": 3
   },
   "file_extension": ".py",
   "mimetype": "text/x-python",
   "name": "python",
   "nbconvert_exporter": "python",
   "pygments_lexer": "ipython3",
   "version": "3.7.3"
  },
  "papermill": {
   "duration": 9.973982,
   "end_time": "2020-01-14T07:08:03.206924",
   "environment_variables": {},
   "exception": null,
   "input_path": "4.MotifEnrichment.ipynb",
   "output_path": "/home/hanliu/project/mouse_rostral_brain/DMR/DGmCHGroup/snm3C-DMR/Recipe/4.MotifEnrichment.group0.ipynb",
   "parameters": {
    "dmr_hits_path": "/home/hanliu/project/mouse_rostral_brain/DMR/DGmCHGroup/snm3C-DMR/HypoDMR/group0.DMS1.bed",
    "group": "group0",
    "mask_quantile_to99": 0.9,
    "motif_hits_path": "/home/hanliu/project/mouse_rostral_brain/DMR/DGmCHGroup/snm3C-DMR/MotifScan.h5ad",
    "neg_lgp_cutoff": 10,
    "or_cutoff": 1.5,
    "output_dir": "/home/hanliu/project/mouse_rostral_brain/DMR/DGmCHGroup/snm3C-DMR/MotifEnrichment"
   },
   "start_time": "2020-01-14T07:07:53.232942",
   "version": "1.0.1"
  },
  "toc": {
   "base_numbering": 1,
   "nav_menu": {},
   "number_sections": true,
   "sideBar": true,
   "skip_h1_title": true,
   "title_cell": "Table of Contents",
   "title_sidebar": "Contents",
   "toc_cell": false,
   "toc_position": {},
   "toc_section_display": true,
   "toc_window_display": true
  }
 },
 "nbformat": 4,
 "nbformat_minor": 2
}
