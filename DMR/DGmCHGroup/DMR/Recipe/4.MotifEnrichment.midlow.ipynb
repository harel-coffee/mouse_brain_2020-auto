{
 "cells": [
  {
   "cell_type": "markdown",
   "metadata": {
    "papermill": {
     "duration": 0.010451,
     "end_time": "2020-01-14T07:17:19.095547",
     "exception": false,
     "start_time": "2020-01-14T07:17:19.085096",
     "status": "completed"
    },
    "tags": []
   },
   "source": [
    "# Motif Enrichment\n",
    "- The motif hits matrix save the max loglikelyhood score of a motif in that DMR\n",
    "- Before run the motif enrichment, I filter the scores for each motif using cutoff defined by\n",
    "    - `np.quantile(motif_score[motif_score > 0]) * mask_quantile_to99`\n",
    "- This filter will remove hits with low score, which is likely to be false positive\n",
    "- Its likely boosting the significance of real enrichment"
   ]
  },
  {
   "cell_type": "code",
   "execution_count": 1,
   "metadata": {
    "ExecuteTime": {
     "end_time": "2020-01-14T06:18:26.896128Z",
     "start_time": "2020-01-14T06:18:26.189762Z"
    },
    "papermill": {
     "duration": 0.682747,
     "end_time": "2020-01-14T07:17:19.789705",
     "exception": false,
     "start_time": "2020-01-14T07:17:19.106958",
     "status": "completed"
    },
    "tags": []
   },
   "outputs": [],
   "source": [
    "from concurrent.futures import ProcessPoolExecutor, as_completed\n",
    "import anndata\n",
    "import matplotlib.pyplot as plt\n",
    "import numpy as np\n",
    "import pandas as pd\n",
    "import pybedtools\n",
    "import scipy.stats as stats\n",
    "import seaborn as sns\n",
    "from scipy.sparse import csr_matrix\n",
    "from statsmodels.stats.multitest import multipletests\n",
    "import pathlib"
   ]
  },
  {
   "cell_type": "code",
   "execution_count": 2,
   "metadata": {
    "ExecuteTime": {
     "end_time": "2020-01-14T06:18:26.900954Z",
     "start_time": "2020-01-14T06:18:26.898077Z"
    },
    "papermill": {
     "duration": 0.016099,
     "end_time": "2020-01-14T07:17:19.817188",
     "exception": false,
     "start_time": "2020-01-14T07:17:19.801089",
     "status": "completed"
    },
    "tags": [
     "parameters"
    ]
   },
   "outputs": [],
   "source": [
    "mask_quantile_to99 = 0.9\n",
    "or_cutoff = 1.5\n",
    "neg_lgp_cutoff = 10\n",
    "group = 'IT-L23+ACA'\n",
    "\n",
    "motif_hits_path = '/home/hanliu/project/mouse_rostral_brain/DMR/ITSpatial_by_layer/IT-L23/MotifScan.h5ad'\n",
    "dmr_hits_path = f'/home/hanliu/project/mouse_rostral_brain/DMR/ITSpatial_by_layer/IT-L23/HypoDMR/{group}.DMS1.bed'\n",
    "output_dir = '/home/hanliu/project/mouse_rostral_brain/DMR/ITSpatial_by_layer/IT-L23/MotifEnrichment'\n"
   ]
  },
  {
   "cell_type": "code",
   "execution_count": 3,
   "metadata": {
    "papermill": {
     "duration": 0.014889,
     "end_time": "2020-01-14T07:17:19.841665",
     "exception": false,
     "start_time": "2020-01-14T07:17:19.826776",
     "status": "completed"
    },
    "tags": [
     "injected-parameters"
    ]
   },
   "outputs": [],
   "source": [
    "# Parameters\n",
    "mask_quantile_to99 = 0.9\n",
    "or_cutoff = 1.5\n",
    "neg_lgp_cutoff = 10\n",
    "group = \"midlow\"\n",
    "motif_hits_path = \"/home/hanliu/project/mouse_rostral_brain/DMR/DGmCHGroup/DMR/MotifScan.h5ad\"\n",
    "dmr_hits_path = \"/home/hanliu/project/mouse_rostral_brain/DMR/DGmCHGroup/DMR/HypoDMR/midlow.DMS1.bed\"\n",
    "output_dir = \"/home/hanliu/project/mouse_rostral_brain/DMR/DGmCHGroup/DMR/MotifEnrichment\"\n"
   ]
  },
  {
   "cell_type": "code",
   "execution_count": 4,
   "metadata": {
    "ExecuteTime": {
     "end_time": "2020-01-14T06:18:26.904527Z",
     "start_time": "2020-01-14T06:18:26.902313Z"
    },
    "papermill": {
     "duration": 0.014654,
     "end_time": "2020-01-14T07:17:19.865902",
     "exception": false,
     "start_time": "2020-01-14T07:17:19.851248",
     "status": "completed"
    },
    "tags": []
   },
   "outputs": [],
   "source": [
    "output_dir = pathlib.Path(output_dir)\n",
    "output_dir.mkdir(exist_ok=True)"
   ]
  },
  {
   "cell_type": "markdown",
   "metadata": {
    "papermill": {
     "duration": 0.009388,
     "end_time": "2020-01-14T07:17:19.884708",
     "exception": false,
     "start_time": "2020-01-14T07:17:19.875320",
     "status": "completed"
    },
    "tags": []
   },
   "source": [
    "## DMR hits"
   ]
  },
  {
   "cell_type": "code",
   "execution_count": 5,
   "metadata": {
    "ExecuteTime": {
     "end_time": "2020-01-14T06:18:26.977147Z",
     "start_time": "2020-01-14T06:18:26.905687Z"
    },
    "papermill": {
     "duration": 0.062446,
     "end_time": "2020-01-14T07:17:19.956757",
     "exception": false,
     "start_time": "2020-01-14T07:17:19.894311",
     "status": "completed"
    },
    "tags": []
   },
   "outputs": [
    {
     "data": {
      "text/html": [
       "<div>\n",
       "<style scoped>\n",
       "    .dataframe tbody tr th:only-of-type {\n",
       "        vertical-align: middle;\n",
       "    }\n",
       "\n",
       "    .dataframe tbody tr th {\n",
       "        vertical-align: top;\n",
       "    }\n",
       "\n",
       "    .dataframe thead th {\n",
       "        text-align: right;\n",
       "    }\n",
       "</style>\n",
       "<table border=\"1\" class=\"dataframe\">\n",
       "  <thead>\n",
       "    <tr style=\"text-align: right;\">\n",
       "      <th></th>\n",
       "      <th>0</th>\n",
       "      <th>1</th>\n",
       "      <th>2</th>\n",
       "    </tr>\n",
       "    <tr>\n",
       "      <th>3</th>\n",
       "      <th></th>\n",
       "      <th></th>\n",
       "      <th></th>\n",
       "    </tr>\n",
       "  </thead>\n",
       "  <tbody>\n",
       "    <tr>\n",
       "      <th>DGmCH_1</th>\n",
       "      <td>chr1</td>\n",
       "      <td>3069892</td>\n",
       "      <td>3069892</td>\n",
       "    </tr>\n",
       "    <tr>\n",
       "      <th>DGmCH_2</th>\n",
       "      <td>chr1</td>\n",
       "      <td>3084771</td>\n",
       "      <td>3084771</td>\n",
       "    </tr>\n",
       "    <tr>\n",
       "      <th>DGmCH_27</th>\n",
       "      <td>chr1</td>\n",
       "      <td>3759184</td>\n",
       "      <td>3759184</td>\n",
       "    </tr>\n",
       "    <tr>\n",
       "      <th>DGmCH_47</th>\n",
       "      <td>chr1</td>\n",
       "      <td>4335010</td>\n",
       "      <td>4335010</td>\n",
       "    </tr>\n",
       "    <tr>\n",
       "      <th>DGmCH_53</th>\n",
       "      <td>chr1</td>\n",
       "      <td>4412435</td>\n",
       "      <td>4412435</td>\n",
       "    </tr>\n",
       "  </tbody>\n",
       "</table>\n",
       "</div>"
      ],
      "text/plain": [
       "             0        1        2\n",
       "3                               \n",
       "DGmCH_1   chr1  3069892  3069892\n",
       "DGmCH_2   chr1  3084771  3084771\n",
       "DGmCH_27  chr1  3759184  3759184\n",
       "DGmCH_47  chr1  4335010  4335010\n",
       "DGmCH_53  chr1  4412435  4412435"
      ]
     },
     "execution_count": 5,
     "metadata": {},
     "output_type": "execute_result"
    }
   ],
   "source": [
    "dmr_bed_df = pd.read_csv(dmr_hits_path, sep='\\t', header=None, index_col=3)\n",
    "dmr_bed_df.head()"
   ]
  },
  {
   "cell_type": "code",
   "execution_count": 6,
   "metadata": {
    "ExecuteTime": {
     "end_time": "2020-01-14T06:18:29.520483Z",
     "start_time": "2020-01-14T06:18:26.978411Z"
    },
    "papermill": {
     "duration": 0.908505,
     "end_time": "2020-01-14T07:17:20.876201",
     "exception": false,
     "start_time": "2020-01-14T07:17:19.967696",
     "status": "completed"
    },
    "tags": []
   },
   "outputs": [
    {
     "data": {
      "text/plain": [
       "AnnData object with n_obs × n_vars = 24024 × 719 \n",
       "    obs: 'chrom', 'start', 'end'"
      ]
     },
     "execution_count": 6,
     "metadata": {},
     "output_type": "execute_result"
    }
   ],
   "source": [
    "motif_hits = anndata.read_h5ad(motif_hits_path)\n",
    "motif_hits = motif_hits[dmr_bed_df.index, :].copy()\n",
    "motif_ids = motif_hits.var_names\n",
    "motif_hits.X = motif_hits.X.todense()\n",
    "motif_hits"
   ]
  },
  {
   "cell_type": "code",
   "execution_count": 7,
   "metadata": {
    "ExecuteTime": {
     "end_time": "2020-01-14T06:18:30.371315Z",
     "start_time": "2020-01-14T06:18:29.522335Z"
    },
    "papermill": {
     "duration": 0.355274,
     "end_time": "2020-01-14T07:17:21.242555",
     "exception": false,
     "start_time": "2020-01-14T07:17:20.887281",
     "status": "completed"
    },
    "tags": []
   },
   "outputs": [],
   "source": [
    "# mask small motif scores\n",
    "motif_cutoff = pd.Series(np.apply_along_axis(lambda i: np.quantile(i[i>0], 0.99) * mask_quantile_to99, \n",
    "                                             0, motif_hits.X),\n",
    "                         index=motif_hits.var_names)\n",
    "# only keep value larger than the cutoff for each motif\n",
    "motif_hits.X = np.multiply(motif_hits.X, (motif_hits.X > motif_cutoff.values[None, :]))"
   ]
  },
  {
   "cell_type": "markdown",
   "metadata": {
    "papermill": {
     "duration": 0.009912,
     "end_time": "2020-01-14T07:17:21.263985",
     "exception": false,
     "start_time": "2020-01-14T07:17:21.254073",
     "status": "completed"
    },
    "tags": []
   },
   "source": [
    "## Background Hits"
   ]
  },
  {
   "cell_type": "code",
   "execution_count": 8,
   "metadata": {
    "ExecuteTime": {
     "end_time": "2020-01-14T06:18:31.539994Z",
     "start_time": "2020-01-14T06:18:30.373663Z"
    },
    "papermill": {
     "duration": 1.135267,
     "end_time": "2020-01-14T07:17:22.409041",
     "exception": false,
     "start_time": "2020-01-14T07:17:21.273774",
     "status": "completed"
    },
    "tags": []
   },
   "outputs": [],
   "source": [
    "background_motif_hits = anndata.read_h5ad(\n",
    "    '/home/hanliu/project/mouse_rostral_brain/DMR/BackgroundDMR/MotifScan.h5ad'\n",
    ")"
   ]
  },
  {
   "cell_type": "code",
   "execution_count": 9,
   "metadata": {
    "ExecuteTime": {
     "end_time": "2020-01-14T06:18:32.577829Z",
     "start_time": "2020-01-14T06:18:31.541596Z"
    },
    "papermill": {
     "duration": 0.970562,
     "end_time": "2020-01-14T07:17:23.390927",
     "exception": false,
     "start_time": "2020-01-14T07:17:22.420365",
     "status": "completed"
    },
    "tags": []
   },
   "outputs": [],
   "source": [
    "dmr_bed = pybedtools.BedTool().from_dataframe(dmr_bed_df)\n",
    "bg_bed = pybedtools.BedTool().from_dataframe(\n",
    "    background_motif_hits.obs.reset_index().iloc[:, [1, 2, 3, 0]])"
   ]
  },
  {
   "cell_type": "code",
   "execution_count": 10,
   "metadata": {
    "ExecuteTime": {
     "end_time": "2020-01-14T06:18:34.079285Z",
     "start_time": "2020-01-14T06:18:32.579345Z"
    },
    "papermill": {
     "duration": 1.45713,
     "end_time": "2020-01-14T07:17:24.859598",
     "exception": false,
     "start_time": "2020-01-14T07:17:23.402468",
     "status": "completed"
    },
    "tags": []
   },
   "outputs": [],
   "source": [
    "# exclude background that overlap with DMR\n",
    "bg_no_overlap = bg_bed.intersect(dmr_bed, v=True)\n",
    "use_bg = bg_no_overlap.to_dataframe().iloc[:, -1].values\n",
    "background_motif_hits = background_motif_hits[use_bg, :]\n",
    "\n",
    "# make sure col in same order\n",
    "background_motif_hits = background_motif_hits[:, motif_ids].copy()"
   ]
  },
  {
   "cell_type": "code",
   "execution_count": 11,
   "metadata": {
    "ExecuteTime": {
     "end_time": "2020-01-14T06:18:36.216633Z",
     "start_time": "2020-01-14T06:18:34.081084Z"
    },
    "papermill": {
     "duration": 2.213589,
     "end_time": "2020-01-14T07:17:27.084392",
     "exception": false,
     "start_time": "2020-01-14T07:17:24.870803",
     "status": "completed"
    },
    "tags": []
   },
   "outputs": [],
   "source": [
    "judge_matrix = csr_matrix(background_motif_hits.X > motif_cutoff.values[None, :])\n",
    "background_motif_hits.X = background_motif_hits.X.multiply(judge_matrix)"
   ]
  },
  {
   "cell_type": "code",
   "execution_count": 12,
   "metadata": {
    "ExecuteTime": {
     "end_time": "2020-01-14T06:18:36.221914Z",
     "start_time": "2020-01-14T06:18:36.218391Z"
    },
    "papermill": {
     "duration": 0.01788,
     "end_time": "2020-01-14T07:17:27.114044",
     "exception": false,
     "start_time": "2020-01-14T07:17:27.096164",
     "status": "completed"
    },
    "tags": []
   },
   "outputs": [
    {
     "data": {
      "text/plain": [
       "AnnData object with n_obs × n_vars = 339012 × 719 \n",
       "    obs: 'chrom', 'start', 'end'"
      ]
     },
     "execution_count": 12,
     "metadata": {},
     "output_type": "execute_result"
    }
   ],
   "source": [
    "background_motif_hits"
   ]
  },
  {
   "cell_type": "markdown",
   "metadata": {
    "papermill": {
     "duration": 0.010109,
     "end_time": "2020-01-14T07:17:27.134562",
     "exception": false,
     "start_time": "2020-01-14T07:17:27.124453",
     "status": "completed"
    },
    "tags": []
   },
   "source": [
    "## Motif hits contingency table"
   ]
  },
  {
   "cell_type": "code",
   "execution_count": 13,
   "metadata": {
    "ExecuteTime": {
     "end_time": "2020-01-14T06:18:36.569593Z",
     "start_time": "2020-01-14T06:18:36.223112Z"
    },
    "papermill": {
     "duration": 0.180021,
     "end_time": "2020-01-14T07:17:27.324798",
     "exception": false,
     "start_time": "2020-01-14T07:17:27.144777",
     "status": "completed"
    },
    "tags": []
   },
   "outputs": [],
   "source": [
    "# calculate motif occurence, not considering hits here\n",
    "pos = (motif_hits.X > 0).sum(axis=0)\n",
    "pos_total = motif_hits.shape[0]\n",
    "\n",
    "neg = (background_motif_hits.X > 0).sum(axis=0)\n",
    "neg_total = background_motif_hits.shape[0]"
   ]
  },
  {
   "cell_type": "code",
   "execution_count": 14,
   "metadata": {
    "ExecuteTime": {
     "end_time": "2020-01-14T06:18:36.575198Z",
     "start_time": "2020-01-14T06:18:36.571005Z"
    },
    "papermill": {
     "duration": 0.063026,
     "end_time": "2020-01-14T07:17:27.399396",
     "exception": false,
     "start_time": "2020-01-14T07:17:27.336370",
     "status": "completed"
    },
    "scrolled": true,
    "tags": []
   },
   "outputs": [],
   "source": [
    "tables = {}\n",
    "for motif, _pos, _neg in zip(motif_ids, pos.A1, neg.A1):\n",
    "    table = [[_pos, pos_total - _pos], [_neg, neg_total - _neg]]\n",
    "    tables[motif] = table"
   ]
  },
  {
   "cell_type": "code",
   "execution_count": 15,
   "metadata": {
    "ExecuteTime": {
     "end_time": "2020-01-14T06:18:37.087058Z",
     "start_time": "2020-01-14T06:18:36.576449Z"
    },
    "papermill": {
     "duration": 0.657418,
     "end_time": "2020-01-14T07:17:28.067122",
     "exception": false,
     "start_time": "2020-01-14T07:17:27.409704",
     "status": "completed"
    },
    "tags": []
   },
   "outputs": [],
   "source": [
    "results = {}\n",
    "with ProcessPoolExecutor(20) as executor:\n",
    "    fs = {}\n",
    "    for motif, t in tables.items():\n",
    "        f = executor.submit(stats.fisher_exact, t, alternative='greater')\n",
    "        fs[f] = motif\n",
    "\n",
    "    for f in as_completed(fs):\n",
    "        motif = fs[f]\n",
    "        odds, p = f.result()\n",
    "        results[motif] = {'oddsratio': odds, 'p_value': p}\n",
    "motif_enrich_df = pd.DataFrame(results).T\n",
    "\n",
    "_, p, _, _ = multipletests(motif_enrich_df['p_value'], method='fdr_bh')\n",
    "motif_enrich_df['adj_p'] = p\n",
    "\n",
    "motif_enrich_df['-lgp'] = -np.log10(motif_enrich_df['adj_p']).replace(\n",
    "    -np.inf, -300)\n",
    "\n",
    "records = {}\n",
    "for motif, t in tables.items():\n",
    "    tp, tn = t[0]\n",
    "    fp, fn = t[1]\n",
    "    tp_rate = tp / pos_total\n",
    "    fp_rate = fp / neg_total\n",
    "    records[motif] = dict(tp=tp,\n",
    "                          tn=tn,\n",
    "                          fp=fp,\n",
    "                          fn=fn,\n",
    "                          tp_rate=tp_rate,\n",
    "                          fp_rate=fp_rate)\n",
    "counts = pd.DataFrame(records).T\n",
    "motif_enrich_df = pd.concat([motif_enrich_df, counts], axis=1, sort=True)"
   ]
  },
  {
   "cell_type": "code",
   "execution_count": 16,
   "metadata": {
    "ExecuteTime": {
     "end_time": "2020-01-14T06:18:37.092111Z",
     "start_time": "2020-01-14T06:18:37.088525Z"
    },
    "papermill": {
     "duration": 0.016504,
     "end_time": "2020-01-14T07:17:28.095884",
     "exception": false,
     "start_time": "2020-01-14T07:17:28.079380",
     "status": "completed"
    },
    "tags": []
   },
   "outputs": [],
   "source": [
    "motif_enrich_df['Group'] = group"
   ]
  },
  {
   "cell_type": "code",
   "execution_count": 17,
   "metadata": {
    "ExecuteTime": {
     "end_time": "2020-01-14T06:18:37.099304Z",
     "start_time": "2020-01-14T06:18:37.093659Z"
    },
    "papermill": {
     "duration": 0.018872,
     "end_time": "2020-01-14T07:17:28.124773",
     "exception": false,
     "start_time": "2020-01-14T07:17:28.105901",
     "status": "completed"
    },
    "tags": []
   },
   "outputs": [
    {
     "data": {
      "text/plain": [
       "9"
      ]
     },
     "execution_count": 17,
     "metadata": {},
     "output_type": "execute_result"
    }
   ],
   "source": [
    "# final filter\n",
    "filtered_motif_df = motif_enrich_df[(motif_enrich_df['oddsratio'] > or_cutoff)\n",
    "                                    &\n",
    "                                    (motif_enrich_df['-lgp'] > neg_lgp_cutoff)]\n",
    "filtered_motif_df.shape[0]"
   ]
  },
  {
   "cell_type": "code",
   "execution_count": 18,
   "metadata": {
    "ExecuteTime": {
     "end_time": "2020-01-14T06:18:37.104396Z",
     "start_time": "2020-01-14T06:18:37.100619Z"
    },
    "papermill": {
     "duration": 0.017539,
     "end_time": "2020-01-14T07:17:28.152299",
     "exception": false,
     "start_time": "2020-01-14T07:17:28.134760",
     "status": "completed"
    },
    "tags": []
   },
   "outputs": [
    {
     "name": "stderr",
     "output_type": "stream",
     "text": [
      "/home/hanliu/miniconda3/envs/clustering/lib/python3.7/site-packages/ipykernel_launcher.py:1: FutureWarning: to_msgpack is deprecated and will be removed in a future version.\n",
      "It is recommended to use pyarrow for on-the-wire transmission of pandas objects.\n",
      "  \"\"\"Entry point for launching an IPython kernel.\n"
     ]
    }
   ],
   "source": [
    "motif_enrich_df.to_msgpack(output_dir / f'{group}.motif_enrichment.msg')"
   ]
  },
  {
   "cell_type": "code",
   "execution_count": 19,
   "metadata": {
    "ExecuteTime": {
     "end_time": "2020-01-14T06:18:37.114285Z",
     "start_time": "2020-01-14T06:18:37.105716Z"
    },
    "papermill": {
     "duration": 0.02132,
     "end_time": "2020-01-14T07:17:28.183667",
     "exception": false,
     "start_time": "2020-01-14T07:17:28.162347",
     "status": "completed"
    },
    "tags": []
   },
   "outputs": [],
   "source": [
    "pybedtools.cleanup()"
   ]
  },
  {
   "cell_type": "code",
   "execution_count": 20,
   "metadata": {
    "ExecuteTime": {
     "end_time": "2020-01-14T06:18:37.133796Z",
     "start_time": "2020-01-14T06:18:37.115607Z"
    },
    "papermill": {
     "duration": 0.02571,
     "end_time": "2020-01-14T07:17:28.220555",
     "exception": false,
     "start_time": "2020-01-14T07:17:28.194845",
     "status": "completed"
    },
    "tags": []
   },
   "outputs": [
    {
     "data": {
      "text/html": [
       "<div>\n",
       "<style scoped>\n",
       "    .dataframe tbody tr th:only-of-type {\n",
       "        vertical-align: middle;\n",
       "    }\n",
       "\n",
       "    .dataframe tbody tr th {\n",
       "        vertical-align: top;\n",
       "    }\n",
       "\n",
       "    .dataframe thead th {\n",
       "        text-align: right;\n",
       "    }\n",
       "</style>\n",
       "<table border=\"1\" class=\"dataframe\">\n",
       "  <thead>\n",
       "    <tr style=\"text-align: right;\">\n",
       "      <th></th>\n",
       "      <th>oddsratio</th>\n",
       "      <th>p_value</th>\n",
       "      <th>adj_p</th>\n",
       "      <th>-lgp</th>\n",
       "      <th>tp</th>\n",
       "      <th>tn</th>\n",
       "      <th>fp</th>\n",
       "      <th>fn</th>\n",
       "      <th>tp_rate</th>\n",
       "      <th>fp_rate</th>\n",
       "      <th>Group</th>\n",
       "    </tr>\n",
       "  </thead>\n",
       "  <tbody>\n",
       "    <tr>\n",
       "      <th>MA0507.1</th>\n",
       "      <td>1.839675</td>\n",
       "      <td>2.139585e-23</td>\n",
       "      <td>6.409839e-22</td>\n",
       "      <td>21.193153</td>\n",
       "      <td>353.0</td>\n",
       "      <td>23671.0</td>\n",
       "      <td>2726.0</td>\n",
       "      <td>336286.0</td>\n",
       "      <td>0.014694</td>\n",
       "      <td>0.008041</td>\n",
       "      <td>midlow</td>\n",
       "    </tr>\n",
       "    <tr>\n",
       "      <th>MA0627.2</th>\n",
       "      <td>1.780900</td>\n",
       "      <td>5.061494e-16</td>\n",
       "      <td>9.576880e-15</td>\n",
       "      <td>14.018776</td>\n",
       "      <td>256.0</td>\n",
       "      <td>23768.0</td>\n",
       "      <td>2038.0</td>\n",
       "      <td>336974.0</td>\n",
       "      <td>0.010656</td>\n",
       "      <td>0.006012</td>\n",
       "      <td>midlow</td>\n",
       "    </tr>\n",
       "    <tr>\n",
       "      <th>MA0785.1</th>\n",
       "      <td>1.963383</td>\n",
       "      <td>6.857115e-20</td>\n",
       "      <td>1.540708e-18</td>\n",
       "      <td>17.812280</td>\n",
       "      <td>246.0</td>\n",
       "      <td>23778.0</td>\n",
       "      <td>1777.0</td>\n",
       "      <td>337235.0</td>\n",
       "      <td>0.010240</td>\n",
       "      <td>0.005242</td>\n",
       "      <td>midlow</td>\n",
       "    </tr>\n",
       "    <tr>\n",
       "      <th>MA0786.1</th>\n",
       "      <td>1.838052</td>\n",
       "      <td>1.851856e-17</td>\n",
       "      <td>3.804241e-16</td>\n",
       "      <td>15.419732</td>\n",
       "      <td>256.0</td>\n",
       "      <td>23768.0</td>\n",
       "      <td>1975.0</td>\n",
       "      <td>337037.0</td>\n",
       "      <td>0.010656</td>\n",
       "      <td>0.005826</td>\n",
       "      <td>midlow</td>\n",
       "    </tr>\n",
       "    <tr>\n",
       "      <th>MA0787.1</th>\n",
       "      <td>1.879397</td>\n",
       "      <td>4.224661e-12</td>\n",
       "      <td>6.075062e-11</td>\n",
       "      <td>10.216449</td>\n",
       "      <td>158.0</td>\n",
       "      <td>23866.0</td>\n",
       "      <td>1190.0</td>\n",
       "      <td>337822.0</td>\n",
       "      <td>0.006577</td>\n",
       "      <td>0.003510</td>\n",
       "      <td>midlow</td>\n",
       "    </tr>\n",
       "    <tr>\n",
       "      <th>MA0788.1</th>\n",
       "      <td>2.183836</td>\n",
       "      <td>6.895208e-14</td>\n",
       "      <td>1.101701e-12</td>\n",
       "      <td>11.957936</td>\n",
       "      <td>127.0</td>\n",
       "      <td>23897.0</td>\n",
       "      <td>823.0</td>\n",
       "      <td>338189.0</td>\n",
       "      <td>0.005286</td>\n",
       "      <td>0.002428</td>\n",
       "      <td>midlow</td>\n",
       "    </tr>\n",
       "    <tr>\n",
       "      <th>MA0789.1</th>\n",
       "      <td>1.661894</td>\n",
       "      <td>2.471381e-23</td>\n",
       "      <td>7.107692e-22</td>\n",
       "      <td>21.148271</td>\n",
       "      <td>492.0</td>\n",
       "      <td>23532.0</td>\n",
       "      <td>4212.0</td>\n",
       "      <td>334800.0</td>\n",
       "      <td>0.020480</td>\n",
       "      <td>0.012424</td>\n",
       "      <td>midlow</td>\n",
       "    </tr>\n",
       "    <tr>\n",
       "      <th>MA0791.1</th>\n",
       "      <td>2.215518</td>\n",
       "      <td>5.408856e-13</td>\n",
       "      <td>8.454278e-12</td>\n",
       "      <td>11.072923</td>\n",
       "      <td>114.0</td>\n",
       "      <td>23910.0</td>\n",
       "      <td>728.0</td>\n",
       "      <td>338284.0</td>\n",
       "      <td>0.004745</td>\n",
       "      <td>0.002147</td>\n",
       "      <td>midlow</td>\n",
       "    </tr>\n",
       "    <tr>\n",
       "      <th>MA1115.1</th>\n",
       "      <td>1.534069</td>\n",
       "      <td>1.827228e-25</td>\n",
       "      <td>6.914615e-24</td>\n",
       "      <td>23.160232</td>\n",
       "      <td>748.0</td>\n",
       "      <td>23276.0</td>\n",
       "      <td>6956.0</td>\n",
       "      <td>332056.0</td>\n",
       "      <td>0.031136</td>\n",
       "      <td>0.020518</td>\n",
       "      <td>midlow</td>\n",
       "    </tr>\n",
       "  </tbody>\n",
       "</table>\n",
       "</div>"
      ],
      "text/plain": [
       "          oddsratio       p_value         adj_p       -lgp     tp       tn  \\\n",
       "MA0507.1   1.839675  2.139585e-23  6.409839e-22  21.193153  353.0  23671.0   \n",
       "MA0627.2   1.780900  5.061494e-16  9.576880e-15  14.018776  256.0  23768.0   \n",
       "MA0785.1   1.963383  6.857115e-20  1.540708e-18  17.812280  246.0  23778.0   \n",
       "MA0786.1   1.838052  1.851856e-17  3.804241e-16  15.419732  256.0  23768.0   \n",
       "MA0787.1   1.879397  4.224661e-12  6.075062e-11  10.216449  158.0  23866.0   \n",
       "MA0788.1   2.183836  6.895208e-14  1.101701e-12  11.957936  127.0  23897.0   \n",
       "MA0789.1   1.661894  2.471381e-23  7.107692e-22  21.148271  492.0  23532.0   \n",
       "MA0791.1   2.215518  5.408856e-13  8.454278e-12  11.072923  114.0  23910.0   \n",
       "MA1115.1   1.534069  1.827228e-25  6.914615e-24  23.160232  748.0  23276.0   \n",
       "\n",
       "              fp        fn   tp_rate   fp_rate   Group  \n",
       "MA0507.1  2726.0  336286.0  0.014694  0.008041  midlow  \n",
       "MA0627.2  2038.0  336974.0  0.010656  0.006012  midlow  \n",
       "MA0785.1  1777.0  337235.0  0.010240  0.005242  midlow  \n",
       "MA0786.1  1975.0  337037.0  0.010656  0.005826  midlow  \n",
       "MA0787.1  1190.0  337822.0  0.006577  0.003510  midlow  \n",
       "MA0788.1   823.0  338189.0  0.005286  0.002428  midlow  \n",
       "MA0789.1  4212.0  334800.0  0.020480  0.012424  midlow  \n",
       "MA0791.1   728.0  338284.0  0.004745  0.002147  midlow  \n",
       "MA1115.1  6956.0  332056.0  0.031136  0.020518  midlow  "
      ]
     },
     "execution_count": 20,
     "metadata": {},
     "output_type": "execute_result"
    }
   ],
   "source": [
    "filtered_motif_df"
   ]
  },
  {
   "cell_type": "code",
   "execution_count": null,
   "metadata": {
    "papermill": {
     "duration": 0.010573,
     "end_time": "2020-01-14T07:17:28.241578",
     "exception": false,
     "start_time": "2020-01-14T07:17:28.231005",
     "status": "completed"
    },
    "tags": []
   },
   "outputs": [],
   "source": []
  }
 ],
 "metadata": {
  "hide_input": false,
  "kernelspec": {
   "display_name": "Python 3",
   "language": "python",
   "name": "python3"
  },
  "language_info": {
   "codemirror_mode": {
    "name": "ipython",
    "version": 3
   },
   "file_extension": ".py",
   "mimetype": "text/x-python",
   "name": "python",
   "nbconvert_exporter": "python",
   "pygments_lexer": "ipython3",
   "version": "3.7.3"
  },
  "papermill": {
   "duration": 10.559052,
   "end_time": "2020-01-14T07:17:28.758919",
   "environment_variables": {},
   "exception": null,
   "input_path": "4.MotifEnrichment.ipynb",
   "output_path": "/home/hanliu/project/mouse_rostral_brain/DMR/DGmCHGroup/DMR/Recipe/4.MotifEnrichment.midlow.ipynb",
   "parameters": {
    "dmr_hits_path": "/home/hanliu/project/mouse_rostral_brain/DMR/DGmCHGroup/DMR/HypoDMR/midlow.DMS1.bed",
    "group": "midlow",
    "mask_quantile_to99": 0.9,
    "motif_hits_path": "/home/hanliu/project/mouse_rostral_brain/DMR/DGmCHGroup/DMR/MotifScan.h5ad",
    "neg_lgp_cutoff": 10,
    "or_cutoff": 1.5,
    "output_dir": "/home/hanliu/project/mouse_rostral_brain/DMR/DGmCHGroup/DMR/MotifEnrichment"
   },
   "start_time": "2020-01-14T07:17:18.199867",
   "version": "1.0.1"
  },
  "toc": {
   "base_numbering": 1,
   "nav_menu": {},
   "number_sections": true,
   "sideBar": true,
   "skip_h1_title": true,
   "title_cell": "Table of Contents",
   "title_sidebar": "Contents",
   "toc_cell": false,
   "toc_position": {},
   "toc_section_display": true,
   "toc_window_display": true
  }
 },
 "nbformat": 4,
 "nbformat_minor": 2
}
