{
 "cells": [
  {
   "cell_type": "markdown",
   "metadata": {
    "papermill": {
     "duration": 0.010502,
     "end_time": "2020-01-14T07:17:08.725818",
     "exception": false,
     "start_time": "2020-01-14T07:17:08.715316",
     "status": "completed"
    },
    "tags": []
   },
   "source": [
    "# Motif Enrichment\n",
    "- The motif hits matrix save the max loglikelyhood score of a motif in that DMR\n",
    "- Before run the motif enrichment, I filter the scores for each motif using cutoff defined by\n",
    "    - `np.quantile(motif_score[motif_score > 0]) * mask_quantile_to99`\n",
    "- This filter will remove hits with low score, which is likely to be false positive\n",
    "- Its likely boosting the significance of real enrichment"
   ]
  },
  {
   "cell_type": "code",
   "execution_count": 1,
   "metadata": {
    "ExecuteTime": {
     "end_time": "2020-01-14T06:18:26.896128Z",
     "start_time": "2020-01-14T06:18:26.189762Z"
    },
    "papermill": {
     "duration": 0.687119,
     "end_time": "2020-01-14T07:17:09.424297",
     "exception": false,
     "start_time": "2020-01-14T07:17:08.737178",
     "status": "completed"
    },
    "tags": []
   },
   "outputs": [],
   "source": [
    "from concurrent.futures import ProcessPoolExecutor, as_completed\n",
    "import anndata\n",
    "import matplotlib.pyplot as plt\n",
    "import numpy as np\n",
    "import pandas as pd\n",
    "import pybedtools\n",
    "import scipy.stats as stats\n",
    "import seaborn as sns\n",
    "from scipy.sparse import csr_matrix\n",
    "from statsmodels.stats.multitest import multipletests\n",
    "import pathlib"
   ]
  },
  {
   "cell_type": "code",
   "execution_count": 2,
   "metadata": {
    "ExecuteTime": {
     "end_time": "2020-01-14T06:18:26.900954Z",
     "start_time": "2020-01-14T06:18:26.898077Z"
    },
    "papermill": {
     "duration": 0.015694,
     "end_time": "2020-01-14T07:17:09.451688",
     "exception": false,
     "start_time": "2020-01-14T07:17:09.435994",
     "status": "completed"
    },
    "tags": [
     "parameters"
    ]
   },
   "outputs": [],
   "source": [
    "mask_quantile_to99 = 0.9\n",
    "or_cutoff = 1.5\n",
    "neg_lgp_cutoff = 10\n",
    "group = 'IT-L23+ACA'\n",
    "\n",
    "motif_hits_path = '/home/hanliu/project/mouse_rostral_brain/DMR/ITSpatial_by_layer/IT-L23/MotifScan.h5ad'\n",
    "dmr_hits_path = f'/home/hanliu/project/mouse_rostral_brain/DMR/ITSpatial_by_layer/IT-L23/HypoDMR/{group}.DMS1.bed'\n",
    "output_dir = '/home/hanliu/project/mouse_rostral_brain/DMR/ITSpatial_by_layer/IT-L23/MotifEnrichment'\n"
   ]
  },
  {
   "cell_type": "code",
   "execution_count": 3,
   "metadata": {
    "papermill": {
     "duration": 0.014433,
     "end_time": "2020-01-14T07:17:09.475729",
     "exception": false,
     "start_time": "2020-01-14T07:17:09.461296",
     "status": "completed"
    },
    "tags": [
     "injected-parameters"
    ]
   },
   "outputs": [],
   "source": [
    "# Parameters\n",
    "mask_quantile_to99 = 0.9\n",
    "or_cutoff = 1.5\n",
    "neg_lgp_cutoff = 10\n",
    "group = \"midhigh\"\n",
    "motif_hits_path = \"/home/hanliu/project/mouse_rostral_brain/DMR/DGmCHGroup/DMR/MotifScan.h5ad\"\n",
    "dmr_hits_path = \"/home/hanliu/project/mouse_rostral_brain/DMR/DGmCHGroup/DMR/HypoDMR/midhigh.DMS1.bed\"\n",
    "output_dir = \"/home/hanliu/project/mouse_rostral_brain/DMR/DGmCHGroup/DMR/MotifEnrichment\"\n"
   ]
  },
  {
   "cell_type": "code",
   "execution_count": 4,
   "metadata": {
    "ExecuteTime": {
     "end_time": "2020-01-14T06:18:26.904527Z",
     "start_time": "2020-01-14T06:18:26.902313Z"
    },
    "papermill": {
     "duration": 0.014234,
     "end_time": "2020-01-14T07:17:09.499601",
     "exception": false,
     "start_time": "2020-01-14T07:17:09.485367",
     "status": "completed"
    },
    "tags": []
   },
   "outputs": [],
   "source": [
    "output_dir = pathlib.Path(output_dir)\n",
    "output_dir.mkdir(exist_ok=True)"
   ]
  },
  {
   "cell_type": "markdown",
   "metadata": {
    "papermill": {
     "duration": 0.009157,
     "end_time": "2020-01-14T07:17:09.517633",
     "exception": false,
     "start_time": "2020-01-14T07:17:09.508476",
     "status": "completed"
    },
    "tags": []
   },
   "source": [
    "## DMR hits"
   ]
  },
  {
   "cell_type": "code",
   "execution_count": 5,
   "metadata": {
    "ExecuteTime": {
     "end_time": "2020-01-14T06:18:26.977147Z",
     "start_time": "2020-01-14T06:18:26.905687Z"
    },
    "papermill": {
     "duration": 0.056082,
     "end_time": "2020-01-14T07:17:09.583255",
     "exception": false,
     "start_time": "2020-01-14T07:17:09.527173",
     "status": "completed"
    },
    "tags": []
   },
   "outputs": [
    {
     "data": {
      "text/html": [
       "<div>\n",
       "<style scoped>\n",
       "    .dataframe tbody tr th:only-of-type {\n",
       "        vertical-align: middle;\n",
       "    }\n",
       "\n",
       "    .dataframe tbody tr th {\n",
       "        vertical-align: top;\n",
       "    }\n",
       "\n",
       "    .dataframe thead th {\n",
       "        text-align: right;\n",
       "    }\n",
       "</style>\n",
       "<table border=\"1\" class=\"dataframe\">\n",
       "  <thead>\n",
       "    <tr style=\"text-align: right;\">\n",
       "      <th></th>\n",
       "      <th>0</th>\n",
       "      <th>1</th>\n",
       "      <th>2</th>\n",
       "    </tr>\n",
       "    <tr>\n",
       "      <th>3</th>\n",
       "      <th></th>\n",
       "      <th></th>\n",
       "      <th></th>\n",
       "    </tr>\n",
       "  </thead>\n",
       "  <tbody>\n",
       "    <tr>\n",
       "      <th>DGmCH_44</th>\n",
       "      <td>chr1</td>\n",
       "      <td>4259338</td>\n",
       "      <td>4259410</td>\n",
       "    </tr>\n",
       "    <tr>\n",
       "      <th>DGmCH_56</th>\n",
       "      <td>chr1</td>\n",
       "      <td>4430604</td>\n",
       "      <td>4430604</td>\n",
       "    </tr>\n",
       "    <tr>\n",
       "      <th>DGmCH_100</th>\n",
       "      <td>chr1</td>\n",
       "      <td>5065226</td>\n",
       "      <td>5065241</td>\n",
       "    </tr>\n",
       "    <tr>\n",
       "      <th>DGmCH_102</th>\n",
       "      <td>chr1</td>\n",
       "      <td>5106758</td>\n",
       "      <td>5106758</td>\n",
       "    </tr>\n",
       "    <tr>\n",
       "      <th>DGmCH_104</th>\n",
       "      <td>chr1</td>\n",
       "      <td>5148010</td>\n",
       "      <td>5148010</td>\n",
       "    </tr>\n",
       "  </tbody>\n",
       "</table>\n",
       "</div>"
      ],
      "text/plain": [
       "              0        1        2\n",
       "3                                \n",
       "DGmCH_44   chr1  4259338  4259410\n",
       "DGmCH_56   chr1  4430604  4430604\n",
       "DGmCH_100  chr1  5065226  5065241\n",
       "DGmCH_102  chr1  5106758  5106758\n",
       "DGmCH_104  chr1  5148010  5148010"
      ]
     },
     "execution_count": 5,
     "metadata": {},
     "output_type": "execute_result"
    }
   ],
   "source": [
    "dmr_bed_df = pd.read_csv(dmr_hits_path, sep='\\t', header=None, index_col=3)\n",
    "dmr_bed_df.head()"
   ]
  },
  {
   "cell_type": "code",
   "execution_count": 6,
   "metadata": {
    "ExecuteTime": {
     "end_time": "2020-01-14T06:18:29.520483Z",
     "start_time": "2020-01-14T06:18:26.978411Z"
    },
    "papermill": {
     "duration": 0.876087,
     "end_time": "2020-01-14T07:17:10.470283",
     "exception": false,
     "start_time": "2020-01-14T07:17:09.594196",
     "status": "completed"
    },
    "tags": []
   },
   "outputs": [
    {
     "data": {
      "text/plain": [
       "AnnData object with n_obs × n_vars = 12574 × 719 \n",
       "    obs: 'chrom', 'start', 'end'"
      ]
     },
     "execution_count": 6,
     "metadata": {},
     "output_type": "execute_result"
    }
   ],
   "source": [
    "motif_hits = anndata.read_h5ad(motif_hits_path)\n",
    "motif_hits = motif_hits[dmr_bed_df.index, :].copy()\n",
    "motif_ids = motif_hits.var_names\n",
    "motif_hits.X = motif_hits.X.todense()\n",
    "motif_hits"
   ]
  },
  {
   "cell_type": "code",
   "execution_count": 7,
   "metadata": {
    "ExecuteTime": {
     "end_time": "2020-01-14T06:18:30.371315Z",
     "start_time": "2020-01-14T06:18:29.522335Z"
    },
    "papermill": {
     "duration": 0.23184,
     "end_time": "2020-01-14T07:17:10.713245",
     "exception": false,
     "start_time": "2020-01-14T07:17:10.481405",
     "status": "completed"
    },
    "tags": []
   },
   "outputs": [],
   "source": [
    "# mask small motif scores\n",
    "motif_cutoff = pd.Series(np.apply_along_axis(lambda i: np.quantile(i[i>0], 0.99) * mask_quantile_to99, \n",
    "                                             0, motif_hits.X),\n",
    "                         index=motif_hits.var_names)\n",
    "# only keep value larger than the cutoff for each motif\n",
    "motif_hits.X = np.multiply(motif_hits.X, (motif_hits.X > motif_cutoff.values[None, :]))"
   ]
  },
  {
   "cell_type": "markdown",
   "metadata": {
    "papermill": {
     "duration": 0.010454,
     "end_time": "2020-01-14T07:17:10.735531",
     "exception": false,
     "start_time": "2020-01-14T07:17:10.725077",
     "status": "completed"
    },
    "tags": []
   },
   "source": [
    "## Background Hits"
   ]
  },
  {
   "cell_type": "code",
   "execution_count": 8,
   "metadata": {
    "ExecuteTime": {
     "end_time": "2020-01-14T06:18:31.539994Z",
     "start_time": "2020-01-14T06:18:30.373663Z"
    },
    "papermill": {
     "duration": 1.136995,
     "end_time": "2020-01-14T07:17:11.882543",
     "exception": false,
     "start_time": "2020-01-14T07:17:10.745548",
     "status": "completed"
    },
    "tags": []
   },
   "outputs": [],
   "source": [
    "background_motif_hits = anndata.read_h5ad(\n",
    "    '/home/hanliu/project/mouse_rostral_brain/DMR/BackgroundDMR/MotifScan.h5ad'\n",
    ")"
   ]
  },
  {
   "cell_type": "code",
   "execution_count": 9,
   "metadata": {
    "ExecuteTime": {
     "end_time": "2020-01-14T06:18:32.577829Z",
     "start_time": "2020-01-14T06:18:31.541596Z"
    },
    "papermill": {
     "duration": 0.952755,
     "end_time": "2020-01-14T07:17:12.846959",
     "exception": false,
     "start_time": "2020-01-14T07:17:11.894204",
     "status": "completed"
    },
    "tags": []
   },
   "outputs": [],
   "source": [
    "dmr_bed = pybedtools.BedTool().from_dataframe(dmr_bed_df)\n",
    "bg_bed = pybedtools.BedTool().from_dataframe(\n",
    "    background_motif_hits.obs.reset_index().iloc[:, [1, 2, 3, 0]])"
   ]
  },
  {
   "cell_type": "code",
   "execution_count": 10,
   "metadata": {
    "ExecuteTime": {
     "end_time": "2020-01-14T06:18:34.079285Z",
     "start_time": "2020-01-14T06:18:32.579345Z"
    },
    "papermill": {
     "duration": 1.467841,
     "end_time": "2020-01-14T07:17:14.326433",
     "exception": false,
     "start_time": "2020-01-14T07:17:12.858592",
     "status": "completed"
    },
    "tags": []
   },
   "outputs": [],
   "source": [
    "# exclude background that overlap with DMR\n",
    "bg_no_overlap = bg_bed.intersect(dmr_bed, v=True)\n",
    "use_bg = bg_no_overlap.to_dataframe().iloc[:, -1].values\n",
    "background_motif_hits = background_motif_hits[use_bg, :]\n",
    "\n",
    "# make sure col in same order\n",
    "background_motif_hits = background_motif_hits[:, motif_ids].copy()"
   ]
  },
  {
   "cell_type": "code",
   "execution_count": 11,
   "metadata": {
    "ExecuteTime": {
     "end_time": "2020-01-14T06:18:36.216633Z",
     "start_time": "2020-01-14T06:18:34.081084Z"
    },
    "papermill": {
     "duration": 2.241648,
     "end_time": "2020-01-14T07:17:16.579998",
     "exception": false,
     "start_time": "2020-01-14T07:17:14.338350",
     "status": "completed"
    },
    "tags": []
   },
   "outputs": [],
   "source": [
    "judge_matrix = csr_matrix(background_motif_hits.X > motif_cutoff.values[None, :])\n",
    "background_motif_hits.X = background_motif_hits.X.multiply(judge_matrix)"
   ]
  },
  {
   "cell_type": "code",
   "execution_count": 12,
   "metadata": {
    "ExecuteTime": {
     "end_time": "2020-01-14T06:18:36.221914Z",
     "start_time": "2020-01-14T06:18:36.218391Z"
    },
    "papermill": {
     "duration": 0.016972,
     "end_time": "2020-01-14T07:17:16.608793",
     "exception": false,
     "start_time": "2020-01-14T07:17:16.591821",
     "status": "completed"
    },
    "tags": []
   },
   "outputs": [
    {
     "data": {
      "text/plain": [
       "AnnData object with n_obs × n_vars = 343787 × 719 \n",
       "    obs: 'chrom', 'start', 'end'"
      ]
     },
     "execution_count": 12,
     "metadata": {},
     "output_type": "execute_result"
    }
   ],
   "source": [
    "background_motif_hits"
   ]
  },
  {
   "cell_type": "markdown",
   "metadata": {
    "papermill": {
     "duration": 0.010059,
     "end_time": "2020-01-14T07:17:16.629050",
     "exception": false,
     "start_time": "2020-01-14T07:17:16.618991",
     "status": "completed"
    },
    "tags": []
   },
   "source": [
    "## Motif hits contingency table"
   ]
  },
  {
   "cell_type": "code",
   "execution_count": 13,
   "metadata": {
    "ExecuteTime": {
     "end_time": "2020-01-14T06:18:36.569593Z",
     "start_time": "2020-01-14T06:18:36.223112Z"
    },
    "papermill": {
     "duration": 0.175558,
     "end_time": "2020-01-14T07:17:16.814814",
     "exception": false,
     "start_time": "2020-01-14T07:17:16.639256",
     "status": "completed"
    },
    "tags": []
   },
   "outputs": [],
   "source": [
    "# calculate motif occurence, not considering hits here\n",
    "pos = (motif_hits.X > 0).sum(axis=0)\n",
    "pos_total = motif_hits.shape[0]\n",
    "\n",
    "neg = (background_motif_hits.X > 0).sum(axis=0)\n",
    "neg_total = background_motif_hits.shape[0]"
   ]
  },
  {
   "cell_type": "code",
   "execution_count": 14,
   "metadata": {
    "ExecuteTime": {
     "end_time": "2020-01-14T06:18:36.575198Z",
     "start_time": "2020-01-14T06:18:36.571005Z"
    },
    "papermill": {
     "duration": 0.064591,
     "end_time": "2020-01-14T07:17:16.891328",
     "exception": false,
     "start_time": "2020-01-14T07:17:16.826737",
     "status": "completed"
    },
    "scrolled": true,
    "tags": []
   },
   "outputs": [],
   "source": [
    "tables = {}\n",
    "for motif, _pos, _neg in zip(motif_ids, pos.A1, neg.A1):\n",
    "    table = [[_pos, pos_total - _pos], [_neg, neg_total - _neg]]\n",
    "    tables[motif] = table"
   ]
  },
  {
   "cell_type": "code",
   "execution_count": 15,
   "metadata": {
    "ExecuteTime": {
     "end_time": "2020-01-14T06:18:37.087058Z",
     "start_time": "2020-01-14T06:18:36.576449Z"
    },
    "papermill": {
     "duration": 0.6523,
     "end_time": "2020-01-14T07:17:17.554172",
     "exception": false,
     "start_time": "2020-01-14T07:17:16.901872",
     "status": "completed"
    },
    "tags": []
   },
   "outputs": [],
   "source": [
    "results = {}\n",
    "with ProcessPoolExecutor(20) as executor:\n",
    "    fs = {}\n",
    "    for motif, t in tables.items():\n",
    "        f = executor.submit(stats.fisher_exact, t, alternative='greater')\n",
    "        fs[f] = motif\n",
    "\n",
    "    for f in as_completed(fs):\n",
    "        motif = fs[f]\n",
    "        odds, p = f.result()\n",
    "        results[motif] = {'oddsratio': odds, 'p_value': p}\n",
    "motif_enrich_df = pd.DataFrame(results).T\n",
    "\n",
    "_, p, _, _ = multipletests(motif_enrich_df['p_value'], method='fdr_bh')\n",
    "motif_enrich_df['adj_p'] = p\n",
    "\n",
    "motif_enrich_df['-lgp'] = -np.log10(motif_enrich_df['adj_p']).replace(\n",
    "    -np.inf, -300)\n",
    "\n",
    "records = {}\n",
    "for motif, t in tables.items():\n",
    "    tp, tn = t[0]\n",
    "    fp, fn = t[1]\n",
    "    tp_rate = tp / pos_total\n",
    "    fp_rate = fp / neg_total\n",
    "    records[motif] = dict(tp=tp,\n",
    "                          tn=tn,\n",
    "                          fp=fp,\n",
    "                          fn=fn,\n",
    "                          tp_rate=tp_rate,\n",
    "                          fp_rate=fp_rate)\n",
    "counts = pd.DataFrame(records).T\n",
    "motif_enrich_df = pd.concat([motif_enrich_df, counts], axis=1, sort=True)"
   ]
  },
  {
   "cell_type": "code",
   "execution_count": 16,
   "metadata": {
    "ExecuteTime": {
     "end_time": "2020-01-14T06:18:37.092111Z",
     "start_time": "2020-01-14T06:18:37.088525Z"
    },
    "papermill": {
     "duration": 0.016003,
     "end_time": "2020-01-14T07:17:17.581774",
     "exception": false,
     "start_time": "2020-01-14T07:17:17.565771",
     "status": "completed"
    },
    "tags": []
   },
   "outputs": [],
   "source": [
    "motif_enrich_df['Group'] = group"
   ]
  },
  {
   "cell_type": "code",
   "execution_count": 17,
   "metadata": {
    "ExecuteTime": {
     "end_time": "2020-01-14T06:18:37.099304Z",
     "start_time": "2020-01-14T06:18:37.093659Z"
    },
    "papermill": {
     "duration": 0.018378,
     "end_time": "2020-01-14T07:17:17.610334",
     "exception": false,
     "start_time": "2020-01-14T07:17:17.591956",
     "status": "completed"
    },
    "tags": []
   },
   "outputs": [
    {
     "data": {
      "text/plain": [
       "22"
      ]
     },
     "execution_count": 17,
     "metadata": {},
     "output_type": "execute_result"
    }
   ],
   "source": [
    "# final filter\n",
    "filtered_motif_df = motif_enrich_df[(motif_enrich_df['oddsratio'] > or_cutoff)\n",
    "                                    &\n",
    "                                    (motif_enrich_df['-lgp'] > neg_lgp_cutoff)]\n",
    "filtered_motif_df.shape[0]"
   ]
  },
  {
   "cell_type": "code",
   "execution_count": 18,
   "metadata": {
    "ExecuteTime": {
     "end_time": "2020-01-14T06:18:37.104396Z",
     "start_time": "2020-01-14T06:18:37.100619Z"
    },
    "papermill": {
     "duration": 0.016855,
     "end_time": "2020-01-14T07:17:17.637361",
     "exception": false,
     "start_time": "2020-01-14T07:17:17.620506",
     "status": "completed"
    },
    "tags": []
   },
   "outputs": [
    {
     "name": "stderr",
     "output_type": "stream",
     "text": [
      "/home/hanliu/miniconda3/envs/clustering/lib/python3.7/site-packages/ipykernel_launcher.py:1: FutureWarning: to_msgpack is deprecated and will be removed in a future version.\n",
      "It is recommended to use pyarrow for on-the-wire transmission of pandas objects.\n",
      "  \"\"\"Entry point for launching an IPython kernel.\n"
     ]
    }
   ],
   "source": [
    "motif_enrich_df.to_msgpack(output_dir / f'{group}.motif_enrichment.msg')"
   ]
  },
  {
   "cell_type": "code",
   "execution_count": 19,
   "metadata": {
    "ExecuteTime": {
     "end_time": "2020-01-14T06:18:37.114285Z",
     "start_time": "2020-01-14T06:18:37.105716Z"
    },
    "papermill": {
     "duration": 0.020425,
     "end_time": "2020-01-14T07:17:17.668249",
     "exception": false,
     "start_time": "2020-01-14T07:17:17.647824",
     "status": "completed"
    },
    "tags": []
   },
   "outputs": [],
   "source": [
    "pybedtools.cleanup()"
   ]
  },
  {
   "cell_type": "code",
   "execution_count": 20,
   "metadata": {
    "ExecuteTime": {
     "end_time": "2020-01-14T06:18:37.133796Z",
     "start_time": "2020-01-14T06:18:37.115607Z"
    },
    "papermill": {
     "duration": 0.029343,
     "end_time": "2020-01-14T07:17:17.709045",
     "exception": false,
     "start_time": "2020-01-14T07:17:17.679702",
     "status": "completed"
    },
    "tags": []
   },
   "outputs": [
    {
     "data": {
      "text/html": [
       "<div>\n",
       "<style scoped>\n",
       "    .dataframe tbody tr th:only-of-type {\n",
       "        vertical-align: middle;\n",
       "    }\n",
       "\n",
       "    .dataframe tbody tr th {\n",
       "        vertical-align: top;\n",
       "    }\n",
       "\n",
       "    .dataframe thead th {\n",
       "        text-align: right;\n",
       "    }\n",
       "</style>\n",
       "<table border=\"1\" class=\"dataframe\">\n",
       "  <thead>\n",
       "    <tr style=\"text-align: right;\">\n",
       "      <th></th>\n",
       "      <th>oddsratio</th>\n",
       "      <th>p_value</th>\n",
       "      <th>adj_p</th>\n",
       "      <th>-lgp</th>\n",
       "      <th>tp</th>\n",
       "      <th>tn</th>\n",
       "      <th>fp</th>\n",
       "      <th>fn</th>\n",
       "      <th>tp_rate</th>\n",
       "      <th>fp_rate</th>\n",
       "      <th>Group</th>\n",
       "    </tr>\n",
       "  </thead>\n",
       "  <tbody>\n",
       "    <tr>\n",
       "      <th>MA0052.4</th>\n",
       "      <td>1.841711</td>\n",
       "      <td>1.444615e-15</td>\n",
       "      <td>4.721265e-14</td>\n",
       "      <td>13.325942</td>\n",
       "      <td>216.0</td>\n",
       "      <td>12358.0</td>\n",
       "      <td>3232.0</td>\n",
       "      <td>340555.0</td>\n",
       "      <td>0.017178</td>\n",
       "      <td>0.009401</td>\n",
       "      <td>midhigh</td>\n",
       "    </tr>\n",
       "    <tr>\n",
       "      <th>MA0091.1</th>\n",
       "      <td>1.825124</td>\n",
       "      <td>1.339989e-12</td>\n",
       "      <td>3.440900e-11</td>\n",
       "      <td>10.463328</td>\n",
       "      <td>174.0</td>\n",
       "      <td>12400.0</td>\n",
       "      <td>2623.0</td>\n",
       "      <td>341164.0</td>\n",
       "      <td>0.013838</td>\n",
       "      <td>0.007630</td>\n",
       "      <td>midhigh</td>\n",
       "    </tr>\n",
       "    <tr>\n",
       "      <th>MA0461.2</th>\n",
       "      <td>2.596181</td>\n",
       "      <td>2.239483e-41</td>\n",
       "      <td>2.683647e-39</td>\n",
       "      <td>38.571275</td>\n",
       "      <td>284.0</td>\n",
       "      <td>12290.0</td>\n",
       "      <td>3033.0</td>\n",
       "      <td>340754.0</td>\n",
       "      <td>0.022586</td>\n",
       "      <td>0.008822</td>\n",
       "      <td>midhigh</td>\n",
       "    </tr>\n",
       "    <tr>\n",
       "      <th>MA0497.1</th>\n",
       "      <td>1.740395</td>\n",
       "      <td>1.354028e-13</td>\n",
       "      <td>3.894185e-12</td>\n",
       "      <td>11.409583</td>\n",
       "      <td>221.0</td>\n",
       "      <td>12353.0</td>\n",
       "      <td>3498.0</td>\n",
       "      <td>340289.0</td>\n",
       "      <td>0.017576</td>\n",
       "      <td>0.010175</td>\n",
       "      <td>midhigh</td>\n",
       "    </tr>\n",
       "    <tr>\n",
       "      <th>MA0509.2</th>\n",
       "      <td>2.452219</td>\n",
       "      <td>8.506956e-15</td>\n",
       "      <td>2.659348e-13</td>\n",
       "      <td>12.575225</td>\n",
       "      <td>103.0</td>\n",
       "      <td>12471.0</td>\n",
       "      <td>1154.0</td>\n",
       "      <td>342633.0</td>\n",
       "      <td>0.008192</td>\n",
       "      <td>0.003357</td>\n",
       "      <td>midhigh</td>\n",
       "    </tr>\n",
       "    <tr>\n",
       "      <th>MA0607.1</th>\n",
       "      <td>2.035877</td>\n",
       "      <td>1.481395e-71</td>\n",
       "      <td>5.325616e-69</td>\n",
       "      <td>68.273630</td>\n",
       "      <td>865.0</td>\n",
       "      <td>11709.0</td>\n",
       "      <td>12038.0</td>\n",
       "      <td>331749.0</td>\n",
       "      <td>0.068793</td>\n",
       "      <td>0.035016</td>\n",
       "      <td>midhigh</td>\n",
       "    </tr>\n",
       "    <tr>\n",
       "      <th>MA0623.2</th>\n",
       "      <td>2.391549</td>\n",
       "      <td>1.924295e-27</td>\n",
       "      <td>1.257789e-25</td>\n",
       "      <td>24.900392</td>\n",
       "      <td>214.0</td>\n",
       "      <td>12360.0</td>\n",
       "      <td>2471.0</td>\n",
       "      <td>341316.0</td>\n",
       "      <td>0.017019</td>\n",
       "      <td>0.007188</td>\n",
       "      <td>midhigh</td>\n",
       "    </tr>\n",
       "    <tr>\n",
       "      <th>MA0633.1</th>\n",
       "      <td>2.271377</td>\n",
       "      <td>3.432585e-32</td>\n",
       "      <td>3.085036e-30</td>\n",
       "      <td>29.510740</td>\n",
       "      <td>283.0</td>\n",
       "      <td>12291.0</td>\n",
       "      <td>3450.0</td>\n",
       "      <td>340337.0</td>\n",
       "      <td>0.022507</td>\n",
       "      <td>0.010035</td>\n",
       "      <td>midhigh</td>\n",
       "    </tr>\n",
       "    <tr>\n",
       "      <th>MA0668.1</th>\n",
       "      <td>2.686498</td>\n",
       "      <td>1.528085e-27</td>\n",
       "      <td>1.098693e-25</td>\n",
       "      <td>24.959124</td>\n",
       "      <td>173.0</td>\n",
       "      <td>12401.0</td>\n",
       "      <td>1776.0</td>\n",
       "      <td>342011.0</td>\n",
       "      <td>0.013759</td>\n",
       "      <td>0.005166</td>\n",
       "      <td>midhigh</td>\n",
       "    </tr>\n",
       "    <tr>\n",
       "      <th>MA0669.1</th>\n",
       "      <td>2.559408</td>\n",
       "      <td>5.463095e-20</td>\n",
       "      <td>2.805690e-18</td>\n",
       "      <td>17.551960</td>\n",
       "      <td>133.0</td>\n",
       "      <td>12441.0</td>\n",
       "      <td>1430.0</td>\n",
       "      <td>342357.0</td>\n",
       "      <td>0.010577</td>\n",
       "      <td>0.004160</td>\n",
       "      <td>midhigh</td>\n",
       "    </tr>\n",
       "    <tr>\n",
       "      <th>MA0678.1</th>\n",
       "      <td>3.089302</td>\n",
       "      <td>9.079953e-24</td>\n",
       "      <td>5.021912e-22</td>\n",
       "      <td>21.299131</td>\n",
       "      <td>118.0</td>\n",
       "      <td>12456.0</td>\n",
       "      <td>1051.0</td>\n",
       "      <td>342736.0</td>\n",
       "      <td>0.009384</td>\n",
       "      <td>0.003057</td>\n",
       "      <td>midhigh</td>\n",
       "    </tr>\n",
       "    <tr>\n",
       "      <th>MA0817.1</th>\n",
       "      <td>2.368084</td>\n",
       "      <td>7.320463e-13</td>\n",
       "      <td>1.949412e-11</td>\n",
       "      <td>10.710096</td>\n",
       "      <td>94.0</td>\n",
       "      <td>12480.0</td>\n",
       "      <td>1090.0</td>\n",
       "      <td>342697.0</td>\n",
       "      <td>0.007476</td>\n",
       "      <td>0.003171</td>\n",
       "      <td>midhigh</td>\n",
       "    </tr>\n",
       "    <tr>\n",
       "      <th>MA0818.1</th>\n",
       "      <td>2.512122</td>\n",
       "      <td>6.914424e-34</td>\n",
       "      <td>7.102101e-32</td>\n",
       "      <td>31.148613</td>\n",
       "      <td>244.0</td>\n",
       "      <td>12330.0</td>\n",
       "      <td>2687.0</td>\n",
       "      <td>341100.0</td>\n",
       "      <td>0.019405</td>\n",
       "      <td>0.007816</td>\n",
       "      <td>midhigh</td>\n",
       "    </tr>\n",
       "    <tr>\n",
       "      <th>MA0826.1</th>\n",
       "      <td>2.559995</td>\n",
       "      <td>1.287700e-15</td>\n",
       "      <td>4.408840e-14</td>\n",
       "      <td>13.355676</td>\n",
       "      <td>101.0</td>\n",
       "      <td>12473.0</td>\n",
       "      <td>1084.0</td>\n",
       "      <td>342703.0</td>\n",
       "      <td>0.008032</td>\n",
       "      <td>0.003153</td>\n",
       "      <td>midhigh</td>\n",
       "    </tr>\n",
       "    <tr>\n",
       "      <th>MA0827.1</th>\n",
       "      <td>2.773234</td>\n",
       "      <td>4.752649e-30</td>\n",
       "      <td>3.796838e-28</td>\n",
       "      <td>27.420578</td>\n",
       "      <td>180.0</td>\n",
       "      <td>12394.0</td>\n",
       "      <td>1791.0</td>\n",
       "      <td>341996.0</td>\n",
       "      <td>0.014315</td>\n",
       "      <td>0.005210</td>\n",
       "      <td>midhigh</td>\n",
       "    </tr>\n",
       "    <tr>\n",
       "      <th>MA0835.2</th>\n",
       "      <td>1.591817</td>\n",
       "      <td>1.208677e-17</td>\n",
       "      <td>5.431491e-16</td>\n",
       "      <td>15.265081</td>\n",
       "      <td>414.0</td>\n",
       "      <td>12160.0</td>\n",
       "      <td>7199.0</td>\n",
       "      <td>336588.0</td>\n",
       "      <td>0.032925</td>\n",
       "      <td>0.020940</td>\n",
       "      <td>midhigh</td>\n",
       "    </tr>\n",
       "    <tr>\n",
       "      <th>MA1109.1</th>\n",
       "      <td>2.433184</td>\n",
       "      <td>3.374768e-65</td>\n",
       "      <td>8.088194e-63</td>\n",
       "      <td>62.092148</td>\n",
       "      <td>520.0</td>\n",
       "      <td>12054.0</td>\n",
       "      <td>5989.0</td>\n",
       "      <td>337798.0</td>\n",
       "      <td>0.041355</td>\n",
       "      <td>0.017421</td>\n",
       "      <td>midhigh</td>\n",
       "    </tr>\n",
       "    <tr>\n",
       "      <th>MA1468.1</th>\n",
       "      <td>2.609395</td>\n",
       "      <td>1.344044e-41</td>\n",
       "      <td>1.932736e-39</td>\n",
       "      <td>38.713827</td>\n",
       "      <td>283.0</td>\n",
       "      <td>12291.0</td>\n",
       "      <td>3007.0</td>\n",
       "      <td>340780.0</td>\n",
       "      <td>0.022507</td>\n",
       "      <td>0.008747</td>\n",
       "      <td>midhigh</td>\n",
       "    </tr>\n",
       "    <tr>\n",
       "      <th>MA1568.1</th>\n",
       "      <td>3.456237</td>\n",
       "      <td>1.374762e-16</td>\n",
       "      <td>4.996952e-15</td>\n",
       "      <td>14.301295</td>\n",
       "      <td>68.0</td>\n",
       "      <td>12506.0</td>\n",
       "      <td>540.0</td>\n",
       "      <td>343247.0</td>\n",
       "      <td>0.005408</td>\n",
       "      <td>0.001571</td>\n",
       "      <td>midhigh</td>\n",
       "    </tr>\n",
       "    <tr>\n",
       "      <th>MA1570.1</th>\n",
       "      <td>1.626022</td>\n",
       "      <td>1.542454e-19</td>\n",
       "      <td>7.393495e-18</td>\n",
       "      <td>17.131150</td>\n",
       "      <td>427.0</td>\n",
       "      <td>12147.0</td>\n",
       "      <td>7275.0</td>\n",
       "      <td>336512.0</td>\n",
       "      <td>0.033959</td>\n",
       "      <td>0.021161</td>\n",
       "      <td>midhigh</td>\n",
       "    </tr>\n",
       "    <tr>\n",
       "      <th>MA1638.1</th>\n",
       "      <td>1.629702</td>\n",
       "      <td>2.924504e-62</td>\n",
       "      <td>5.256796e-60</td>\n",
       "      <td>59.279279</td>\n",
       "      <td>1557.0</td>\n",
       "      <td>11017.0</td>\n",
       "      <td>27434.0</td>\n",
       "      <td>316353.0</td>\n",
       "      <td>0.123827</td>\n",
       "      <td>0.079799</td>\n",
       "      <td>midhigh</td>\n",
       "    </tr>\n",
       "    <tr>\n",
       "      <th>MA1642.1</th>\n",
       "      <td>2.339148</td>\n",
       "      <td>7.649068e-101</td>\n",
       "      <td>5.499680e-98</td>\n",
       "      <td>97.259663</td>\n",
       "      <td>897.0</td>\n",
       "      <td>11677.0</td>\n",
       "      <td>10931.0</td>\n",
       "      <td>332856.0</td>\n",
       "      <td>0.071338</td>\n",
       "      <td>0.031796</td>\n",
       "      <td>midhigh</td>\n",
       "    </tr>\n",
       "  </tbody>\n",
       "</table>\n",
       "</div>"
      ],
      "text/plain": [
       "          oddsratio        p_value         adj_p       -lgp      tp       tn  \\\n",
       "MA0052.4   1.841711   1.444615e-15  4.721265e-14  13.325942   216.0  12358.0   \n",
       "MA0091.1   1.825124   1.339989e-12  3.440900e-11  10.463328   174.0  12400.0   \n",
       "MA0461.2   2.596181   2.239483e-41  2.683647e-39  38.571275   284.0  12290.0   \n",
       "MA0497.1   1.740395   1.354028e-13  3.894185e-12  11.409583   221.0  12353.0   \n",
       "MA0509.2   2.452219   8.506956e-15  2.659348e-13  12.575225   103.0  12471.0   \n",
       "MA0607.1   2.035877   1.481395e-71  5.325616e-69  68.273630   865.0  11709.0   \n",
       "MA0623.2   2.391549   1.924295e-27  1.257789e-25  24.900392   214.0  12360.0   \n",
       "MA0633.1   2.271377   3.432585e-32  3.085036e-30  29.510740   283.0  12291.0   \n",
       "MA0668.1   2.686498   1.528085e-27  1.098693e-25  24.959124   173.0  12401.0   \n",
       "MA0669.1   2.559408   5.463095e-20  2.805690e-18  17.551960   133.0  12441.0   \n",
       "MA0678.1   3.089302   9.079953e-24  5.021912e-22  21.299131   118.0  12456.0   \n",
       "MA0817.1   2.368084   7.320463e-13  1.949412e-11  10.710096    94.0  12480.0   \n",
       "MA0818.1   2.512122   6.914424e-34  7.102101e-32  31.148613   244.0  12330.0   \n",
       "MA0826.1   2.559995   1.287700e-15  4.408840e-14  13.355676   101.0  12473.0   \n",
       "MA0827.1   2.773234   4.752649e-30  3.796838e-28  27.420578   180.0  12394.0   \n",
       "MA0835.2   1.591817   1.208677e-17  5.431491e-16  15.265081   414.0  12160.0   \n",
       "MA1109.1   2.433184   3.374768e-65  8.088194e-63  62.092148   520.0  12054.0   \n",
       "MA1468.1   2.609395   1.344044e-41  1.932736e-39  38.713827   283.0  12291.0   \n",
       "MA1568.1   3.456237   1.374762e-16  4.996952e-15  14.301295    68.0  12506.0   \n",
       "MA1570.1   1.626022   1.542454e-19  7.393495e-18  17.131150   427.0  12147.0   \n",
       "MA1638.1   1.629702   2.924504e-62  5.256796e-60  59.279279  1557.0  11017.0   \n",
       "MA1642.1   2.339148  7.649068e-101  5.499680e-98  97.259663   897.0  11677.0   \n",
       "\n",
       "               fp        fn   tp_rate   fp_rate    Group  \n",
       "MA0052.4   3232.0  340555.0  0.017178  0.009401  midhigh  \n",
       "MA0091.1   2623.0  341164.0  0.013838  0.007630  midhigh  \n",
       "MA0461.2   3033.0  340754.0  0.022586  0.008822  midhigh  \n",
       "MA0497.1   3498.0  340289.0  0.017576  0.010175  midhigh  \n",
       "MA0509.2   1154.0  342633.0  0.008192  0.003357  midhigh  \n",
       "MA0607.1  12038.0  331749.0  0.068793  0.035016  midhigh  \n",
       "MA0623.2   2471.0  341316.0  0.017019  0.007188  midhigh  \n",
       "MA0633.1   3450.0  340337.0  0.022507  0.010035  midhigh  \n",
       "MA0668.1   1776.0  342011.0  0.013759  0.005166  midhigh  \n",
       "MA0669.1   1430.0  342357.0  0.010577  0.004160  midhigh  \n",
       "MA0678.1   1051.0  342736.0  0.009384  0.003057  midhigh  \n",
       "MA0817.1   1090.0  342697.0  0.007476  0.003171  midhigh  \n",
       "MA0818.1   2687.0  341100.0  0.019405  0.007816  midhigh  \n",
       "MA0826.1   1084.0  342703.0  0.008032  0.003153  midhigh  \n",
       "MA0827.1   1791.0  341996.0  0.014315  0.005210  midhigh  \n",
       "MA0835.2   7199.0  336588.0  0.032925  0.020940  midhigh  \n",
       "MA1109.1   5989.0  337798.0  0.041355  0.017421  midhigh  \n",
       "MA1468.1   3007.0  340780.0  0.022507  0.008747  midhigh  \n",
       "MA1568.1    540.0  343247.0  0.005408  0.001571  midhigh  \n",
       "MA1570.1   7275.0  336512.0  0.033959  0.021161  midhigh  \n",
       "MA1638.1  27434.0  316353.0  0.123827  0.079799  midhigh  \n",
       "MA1642.1  10931.0  332856.0  0.071338  0.031796  midhigh  "
      ]
     },
     "execution_count": 20,
     "metadata": {},
     "output_type": "execute_result"
    }
   ],
   "source": [
    "filtered_motif_df"
   ]
  },
  {
   "cell_type": "code",
   "execution_count": null,
   "metadata": {
    "papermill": {
     "duration": 0.011069,
     "end_time": "2020-01-14T07:17:17.731300",
     "exception": false,
     "start_time": "2020-01-14T07:17:17.720231",
     "status": "completed"
    },
    "tags": []
   },
   "outputs": [],
   "source": []
  }
 ],
 "metadata": {
  "hide_input": false,
  "kernelspec": {
   "display_name": "Python 3",
   "language": "python",
   "name": "python3"
  },
  "language_info": {
   "codemirror_mode": {
    "name": "ipython",
    "version": 3
   },
   "file_extension": ".py",
   "mimetype": "text/x-python",
   "name": "python",
   "nbconvert_exporter": "python",
   "pygments_lexer": "ipython3",
   "version": "3.7.3"
  },
  "papermill": {
   "duration": 10.329693,
   "end_time": "2020-01-14T07:17:18.148963",
   "environment_variables": {},
   "exception": null,
   "input_path": "4.MotifEnrichment.ipynb",
   "output_path": "/home/hanliu/project/mouse_rostral_brain/DMR/DGmCHGroup/DMR/Recipe/4.MotifEnrichment.midhigh.ipynb",
   "parameters": {
    "dmr_hits_path": "/home/hanliu/project/mouse_rostral_brain/DMR/DGmCHGroup/DMR/HypoDMR/midhigh.DMS1.bed",
    "group": "midhigh",
    "mask_quantile_to99": 0.9,
    "motif_hits_path": "/home/hanliu/project/mouse_rostral_brain/DMR/DGmCHGroup/DMR/MotifScan.h5ad",
    "neg_lgp_cutoff": 10,
    "or_cutoff": 1.5,
    "output_dir": "/home/hanliu/project/mouse_rostral_brain/DMR/DGmCHGroup/DMR/MotifEnrichment"
   },
   "start_time": "2020-01-14T07:17:07.819270",
   "version": "1.0.1"
  },
  "toc": {
   "base_numbering": 1,
   "nav_menu": {},
   "number_sections": true,
   "sideBar": true,
   "skip_h1_title": true,
   "title_cell": "Table of Contents",
   "title_sidebar": "Contents",
   "toc_cell": false,
   "toc_position": {},
   "toc_section_display": true,
   "toc_window_display": true
  }
 },
 "nbformat": 4,
 "nbformat_minor": 2
}
