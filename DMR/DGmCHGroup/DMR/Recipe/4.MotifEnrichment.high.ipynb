{
 "cells": [
  {
   "cell_type": "markdown",
   "metadata": {
    "papermill": {
     "duration": 0.009512,
     "end_time": "2020-01-14T07:16:44.885011",
     "exception": false,
     "start_time": "2020-01-14T07:16:44.875499",
     "status": "completed"
    },
    "tags": []
   },
   "source": [
    "# Motif Enrichment\n",
    "- The motif hits matrix save the max loglikelyhood score of a motif in that DMR\n",
    "- Before run the motif enrichment, I filter the scores for each motif using cutoff defined by\n",
    "    - `np.quantile(motif_score[motif_score > 0]) * mask_quantile_to99`\n",
    "- This filter will remove hits with low score, which is likely to be false positive\n",
    "- Its likely boosting the significance of real enrichment"
   ]
  },
  {
   "cell_type": "code",
   "execution_count": 1,
   "metadata": {
    "ExecuteTime": {
     "end_time": "2020-01-14T06:18:26.896128Z",
     "start_time": "2020-01-14T06:18:26.189762Z"
    },
    "papermill": {
     "duration": 0.708869,
     "end_time": "2020-01-14T07:16:45.603932",
     "exception": false,
     "start_time": "2020-01-14T07:16:44.895063",
     "status": "completed"
    },
    "tags": []
   },
   "outputs": [],
   "source": [
    "from concurrent.futures import ProcessPoolExecutor, as_completed\n",
    "import anndata\n",
    "import matplotlib.pyplot as plt\n",
    "import numpy as np\n",
    "import pandas as pd\n",
    "import pybedtools\n",
    "import scipy.stats as stats\n",
    "import seaborn as sns\n",
    "from scipy.sparse import csr_matrix\n",
    "from statsmodels.stats.multitest import multipletests\n",
    "import pathlib"
   ]
  },
  {
   "cell_type": "code",
   "execution_count": 2,
   "metadata": {
    "ExecuteTime": {
     "end_time": "2020-01-14T06:18:26.900954Z",
     "start_time": "2020-01-14T06:18:26.898077Z"
    },
    "papermill": {
     "duration": 0.015341,
     "end_time": "2020-01-14T07:16:45.629985",
     "exception": false,
     "start_time": "2020-01-14T07:16:45.614644",
     "status": "completed"
    },
    "tags": [
     "parameters"
    ]
   },
   "outputs": [],
   "source": [
    "mask_quantile_to99 = 0.9\n",
    "or_cutoff = 1.5\n",
    "neg_lgp_cutoff = 10\n",
    "group = 'IT-L23+ACA'\n",
    "\n",
    "motif_hits_path = '/home/hanliu/project/mouse_rostral_brain/DMR/ITSpatial_by_layer/IT-L23/MotifScan.h5ad'\n",
    "dmr_hits_path = f'/home/hanliu/project/mouse_rostral_brain/DMR/ITSpatial_by_layer/IT-L23/HypoDMR/{group}.DMS1.bed'\n",
    "output_dir = '/home/hanliu/project/mouse_rostral_brain/DMR/ITSpatial_by_layer/IT-L23/MotifEnrichment'\n"
   ]
  },
  {
   "cell_type": "code",
   "execution_count": 3,
   "metadata": {
    "papermill": {
     "duration": 0.014241,
     "end_time": "2020-01-14T07:16:45.653148",
     "exception": false,
     "start_time": "2020-01-14T07:16:45.638907",
     "status": "completed"
    },
    "tags": [
     "injected-parameters"
    ]
   },
   "outputs": [],
   "source": [
    "# Parameters\n",
    "mask_quantile_to99 = 0.9\n",
    "or_cutoff = 1.5\n",
    "neg_lgp_cutoff = 10\n",
    "group = \"high\"\n",
    "motif_hits_path = \"/home/hanliu/project/mouse_rostral_brain/DMR/DGmCHGroup/DMR/MotifScan.h5ad\"\n",
    "dmr_hits_path = \"/home/hanliu/project/mouse_rostral_brain/DMR/DGmCHGroup/DMR/HypoDMR/high.DMS1.bed\"\n",
    "output_dir = \"/home/hanliu/project/mouse_rostral_brain/DMR/DGmCHGroup/DMR/MotifEnrichment\"\n"
   ]
  },
  {
   "cell_type": "code",
   "execution_count": 4,
   "metadata": {
    "ExecuteTime": {
     "end_time": "2020-01-14T06:18:26.904527Z",
     "start_time": "2020-01-14T06:18:26.902313Z"
    },
    "papermill": {
     "duration": 0.014648,
     "end_time": "2020-01-14T07:16:45.677033",
     "exception": false,
     "start_time": "2020-01-14T07:16:45.662385",
     "status": "completed"
    },
    "tags": []
   },
   "outputs": [],
   "source": [
    "output_dir = pathlib.Path(output_dir)\n",
    "output_dir.mkdir(exist_ok=True)"
   ]
  },
  {
   "cell_type": "markdown",
   "metadata": {
    "papermill": {
     "duration": 0.009144,
     "end_time": "2020-01-14T07:16:45.695515",
     "exception": false,
     "start_time": "2020-01-14T07:16:45.686371",
     "status": "completed"
    },
    "tags": []
   },
   "source": [
    "## DMR hits"
   ]
  },
  {
   "cell_type": "code",
   "execution_count": 5,
   "metadata": {
    "ExecuteTime": {
     "end_time": "2020-01-14T06:18:26.977147Z",
     "start_time": "2020-01-14T06:18:26.905687Z"
    },
    "papermill": {
     "duration": 0.094123,
     "end_time": "2020-01-14T07:16:45.798870",
     "exception": false,
     "start_time": "2020-01-14T07:16:45.704747",
     "status": "completed"
    },
    "tags": []
   },
   "outputs": [
    {
     "data": {
      "text/html": [
       "<div>\n",
       "<style scoped>\n",
       "    .dataframe tbody tr th:only-of-type {\n",
       "        vertical-align: middle;\n",
       "    }\n",
       "\n",
       "    .dataframe tbody tr th {\n",
       "        vertical-align: top;\n",
       "    }\n",
       "\n",
       "    .dataframe thead th {\n",
       "        text-align: right;\n",
       "    }\n",
       "</style>\n",
       "<table border=\"1\" class=\"dataframe\">\n",
       "  <thead>\n",
       "    <tr style=\"text-align: right;\">\n",
       "      <th></th>\n",
       "      <th>0</th>\n",
       "      <th>1</th>\n",
       "      <th>2</th>\n",
       "    </tr>\n",
       "    <tr>\n",
       "      <th>3</th>\n",
       "      <th></th>\n",
       "      <th></th>\n",
       "      <th></th>\n",
       "    </tr>\n",
       "  </thead>\n",
       "  <tbody>\n",
       "    <tr>\n",
       "      <th>DGmCH_9</th>\n",
       "      <td>chr1</td>\n",
       "      <td>3290068</td>\n",
       "      <td>3290378</td>\n",
       "    </tr>\n",
       "    <tr>\n",
       "      <th>DGmCH_10</th>\n",
       "      <td>chr1</td>\n",
       "      <td>3299623</td>\n",
       "      <td>3299623</td>\n",
       "    </tr>\n",
       "    <tr>\n",
       "      <th>DGmCH_13</th>\n",
       "      <td>chr1</td>\n",
       "      <td>3387472</td>\n",
       "      <td>3387472</td>\n",
       "    </tr>\n",
       "    <tr>\n",
       "      <th>DGmCH_14</th>\n",
       "      <td>chr1</td>\n",
       "      <td>3388336</td>\n",
       "      <td>3388336</td>\n",
       "    </tr>\n",
       "    <tr>\n",
       "      <th>DGmCH_16</th>\n",
       "      <td>chr1</td>\n",
       "      <td>3397936</td>\n",
       "      <td>3397936</td>\n",
       "    </tr>\n",
       "  </tbody>\n",
       "</table>\n",
       "</div>"
      ],
      "text/plain": [
       "             0        1        2\n",
       "3                               \n",
       "DGmCH_9   chr1  3290068  3290378\n",
       "DGmCH_10  chr1  3299623  3299623\n",
       "DGmCH_13  chr1  3387472  3387472\n",
       "DGmCH_14  chr1  3388336  3388336\n",
       "DGmCH_16  chr1  3397936  3397936"
      ]
     },
     "execution_count": 5,
     "metadata": {},
     "output_type": "execute_result"
    }
   ],
   "source": [
    "dmr_bed_df = pd.read_csv(dmr_hits_path, sep='\\t', header=None, index_col=3)\n",
    "dmr_bed_df.head()"
   ]
  },
  {
   "cell_type": "code",
   "execution_count": 6,
   "metadata": {
    "ExecuteTime": {
     "end_time": "2020-01-14T06:18:29.520483Z",
     "start_time": "2020-01-14T06:18:26.978411Z"
    },
    "papermill": {
     "duration": 1.121077,
     "end_time": "2020-01-14T07:16:46.930661",
     "exception": false,
     "start_time": "2020-01-14T07:16:45.809584",
     "status": "completed"
    },
    "tags": []
   },
   "outputs": [
    {
     "data": {
      "text/plain": [
       "AnnData object with n_obs × n_vars = 64833 × 719 \n",
       "    obs: 'chrom', 'start', 'end'"
      ]
     },
     "execution_count": 6,
     "metadata": {},
     "output_type": "execute_result"
    }
   ],
   "source": [
    "motif_hits = anndata.read_h5ad(motif_hits_path)\n",
    "motif_hits = motif_hits[dmr_bed_df.index, :].copy()\n",
    "motif_ids = motif_hits.var_names\n",
    "motif_hits.X = motif_hits.X.todense()\n",
    "motif_hits"
   ]
  },
  {
   "cell_type": "code",
   "execution_count": 7,
   "metadata": {
    "ExecuteTime": {
     "end_time": "2020-01-14T06:18:30.371315Z",
     "start_time": "2020-01-14T06:18:29.522335Z"
    },
    "papermill": {
     "duration": 0.775609,
     "end_time": "2020-01-14T07:16:47.717003",
     "exception": false,
     "start_time": "2020-01-14T07:16:46.941394",
     "status": "completed"
    },
    "tags": []
   },
   "outputs": [],
   "source": [
    "# mask small motif scores\n",
    "motif_cutoff = pd.Series(np.apply_along_axis(lambda i: np.quantile(i[i>0], 0.99) * mask_quantile_to99, \n",
    "                                             0, motif_hits.X),\n",
    "                         index=motif_hits.var_names)\n",
    "# only keep value larger than the cutoff for each motif\n",
    "motif_hits.X = np.multiply(motif_hits.X, (motif_hits.X > motif_cutoff.values[None, :]))"
   ]
  },
  {
   "cell_type": "markdown",
   "metadata": {
    "papermill": {
     "duration": 0.010049,
     "end_time": "2020-01-14T07:16:47.737677",
     "exception": false,
     "start_time": "2020-01-14T07:16:47.727628",
     "status": "completed"
    },
    "tags": []
   },
   "source": [
    "## Background Hits"
   ]
  },
  {
   "cell_type": "code",
   "execution_count": 8,
   "metadata": {
    "ExecuteTime": {
     "end_time": "2020-01-14T06:18:31.539994Z",
     "start_time": "2020-01-14T06:18:30.373663Z"
    },
    "papermill": {
     "duration": 1.161513,
     "end_time": "2020-01-14T07:16:48.908936",
     "exception": false,
     "start_time": "2020-01-14T07:16:47.747423",
     "status": "completed"
    },
    "tags": []
   },
   "outputs": [],
   "source": [
    "background_motif_hits = anndata.read_h5ad(\n",
    "    '/home/hanliu/project/mouse_rostral_brain/DMR/BackgroundDMR/MotifScan.h5ad'\n",
    ")"
   ]
  },
  {
   "cell_type": "code",
   "execution_count": 9,
   "metadata": {
    "ExecuteTime": {
     "end_time": "2020-01-14T06:18:32.577829Z",
     "start_time": "2020-01-14T06:18:31.541596Z"
    },
    "papermill": {
     "duration": 1.042533,
     "end_time": "2020-01-14T07:16:49.962105",
     "exception": false,
     "start_time": "2020-01-14T07:16:48.919572",
     "status": "completed"
    },
    "tags": []
   },
   "outputs": [],
   "source": [
    "dmr_bed = pybedtools.BedTool().from_dataframe(dmr_bed_df)\n",
    "bg_bed = pybedtools.BedTool().from_dataframe(\n",
    "    background_motif_hits.obs.reset_index().iloc[:, [1, 2, 3, 0]])"
   ]
  },
  {
   "cell_type": "code",
   "execution_count": 10,
   "metadata": {
    "ExecuteTime": {
     "end_time": "2020-01-14T06:18:34.079285Z",
     "start_time": "2020-01-14T06:18:32.579345Z"
    },
    "papermill": {
     "duration": 1.536467,
     "end_time": "2020-01-14T07:16:51.509429",
     "exception": false,
     "start_time": "2020-01-14T07:16:49.972962",
     "status": "completed"
    },
    "tags": []
   },
   "outputs": [],
   "source": [
    "# exclude background that overlap with DMR\n",
    "bg_no_overlap = bg_bed.intersect(dmr_bed, v=True)\n",
    "use_bg = bg_no_overlap.to_dataframe().iloc[:, -1].values\n",
    "background_motif_hits = background_motif_hits[use_bg, :]\n",
    "\n",
    "# make sure col in same order\n",
    "background_motif_hits = background_motif_hits[:, motif_ids].copy()"
   ]
  },
  {
   "cell_type": "code",
   "execution_count": 11,
   "metadata": {
    "ExecuteTime": {
     "end_time": "2020-01-14T06:18:36.216633Z",
     "start_time": "2020-01-14T06:18:34.081084Z"
    },
    "papermill": {
     "duration": 2.170557,
     "end_time": "2020-01-14T07:16:53.690637",
     "exception": false,
     "start_time": "2020-01-14T07:16:51.520080",
     "status": "completed"
    },
    "tags": []
   },
   "outputs": [],
   "source": [
    "judge_matrix = csr_matrix(background_motif_hits.X > motif_cutoff.values[None, :])\n",
    "background_motif_hits.X = background_motif_hits.X.multiply(judge_matrix)"
   ]
  },
  {
   "cell_type": "code",
   "execution_count": 12,
   "metadata": {
    "ExecuteTime": {
     "end_time": "2020-01-14T06:18:36.221914Z",
     "start_time": "2020-01-14T06:18:36.218391Z"
    },
    "papermill": {
     "duration": 0.017313,
     "end_time": "2020-01-14T07:16:53.718637",
     "exception": false,
     "start_time": "2020-01-14T07:16:53.701324",
     "status": "completed"
    },
    "tags": []
   },
   "outputs": [
    {
     "data": {
      "text/plain": [
       "AnnData object with n_obs × n_vars = 333780 × 719 \n",
       "    obs: 'chrom', 'start', 'end'"
      ]
     },
     "execution_count": 12,
     "metadata": {},
     "output_type": "execute_result"
    }
   ],
   "source": [
    "background_motif_hits"
   ]
  },
  {
   "cell_type": "markdown",
   "metadata": {
    "papermill": {
     "duration": 0.009605,
     "end_time": "2020-01-14T07:16:53.737885",
     "exception": false,
     "start_time": "2020-01-14T07:16:53.728280",
     "status": "completed"
    },
    "tags": []
   },
   "source": [
    "## Motif hits contingency table"
   ]
  },
  {
   "cell_type": "code",
   "execution_count": 13,
   "metadata": {
    "ExecuteTime": {
     "end_time": "2020-01-14T06:18:36.569593Z",
     "start_time": "2020-01-14T06:18:36.223112Z"
    },
    "papermill": {
     "duration": 0.230789,
     "end_time": "2020-01-14T07:16:53.978433",
     "exception": false,
     "start_time": "2020-01-14T07:16:53.747644",
     "status": "completed"
    },
    "tags": []
   },
   "outputs": [],
   "source": [
    "# calculate motif occurence, not considering hits here\n",
    "pos = (motif_hits.X > 0).sum(axis=0)\n",
    "pos_total = motif_hits.shape[0]\n",
    "\n",
    "neg = (background_motif_hits.X > 0).sum(axis=0)\n",
    "neg_total = background_motif_hits.shape[0]"
   ]
  },
  {
   "cell_type": "code",
   "execution_count": 14,
   "metadata": {
    "ExecuteTime": {
     "end_time": "2020-01-14T06:18:36.575198Z",
     "start_time": "2020-01-14T06:18:36.571005Z"
    },
    "papermill": {
     "duration": 0.063073,
     "end_time": "2020-01-14T07:16:54.052646",
     "exception": false,
     "start_time": "2020-01-14T07:16:53.989573",
     "status": "completed"
    },
    "scrolled": true,
    "tags": []
   },
   "outputs": [],
   "source": [
    "tables = {}\n",
    "for motif, _pos, _neg in zip(motif_ids, pos.A1, neg.A1):\n",
    "    table = [[_pos, pos_total - _pos], [_neg, neg_total - _neg]]\n",
    "    tables[motif] = table"
   ]
  },
  {
   "cell_type": "code",
   "execution_count": 15,
   "metadata": {
    "ExecuteTime": {
     "end_time": "2020-01-14T06:18:37.087058Z",
     "start_time": "2020-01-14T06:18:36.576449Z"
    },
    "papermill": {
     "duration": 0.773333,
     "end_time": "2020-01-14T07:16:54.836203",
     "exception": false,
     "start_time": "2020-01-14T07:16:54.062870",
     "status": "completed"
    },
    "tags": []
   },
   "outputs": [
    {
     "name": "stderr",
     "output_type": "stream",
     "text": [
      "/home/hanliu/miniconda3/envs/clustering/lib/python3.7/site-packages/pandas/core/series.py:853: RuntimeWarning: divide by zero encountered in log10\n",
      "  result = getattr(ufunc, method)(*inputs, **kwargs)\n"
     ]
    }
   ],
   "source": [
    "results = {}\n",
    "with ProcessPoolExecutor(20) as executor:\n",
    "    fs = {}\n",
    "    for motif, t in tables.items():\n",
    "        f = executor.submit(stats.fisher_exact, t, alternative='greater')\n",
    "        fs[f] = motif\n",
    "\n",
    "    for f in as_completed(fs):\n",
    "        motif = fs[f]\n",
    "        odds, p = f.result()\n",
    "        results[motif] = {'oddsratio': odds, 'p_value': p}\n",
    "motif_enrich_df = pd.DataFrame(results).T\n",
    "\n",
    "_, p, _, _ = multipletests(motif_enrich_df['p_value'], method='fdr_bh')\n",
    "motif_enrich_df['adj_p'] = p\n",
    "\n",
    "motif_enrich_df['-lgp'] = -np.log10(motif_enrich_df['adj_p']).replace(\n",
    "    -np.inf, -300)\n",
    "\n",
    "records = {}\n",
    "for motif, t in tables.items():\n",
    "    tp, tn = t[0]\n",
    "    fp, fn = t[1]\n",
    "    tp_rate = tp / pos_total\n",
    "    fp_rate = fp / neg_total\n",
    "    records[motif] = dict(tp=tp,\n",
    "                          tn=tn,\n",
    "                          fp=fp,\n",
    "                          fn=fn,\n",
    "                          tp_rate=tp_rate,\n",
    "                          fp_rate=fp_rate)\n",
    "counts = pd.DataFrame(records).T\n",
    "motif_enrich_df = pd.concat([motif_enrich_df, counts], axis=1, sort=True)"
   ]
  },
  {
   "cell_type": "code",
   "execution_count": 16,
   "metadata": {
    "ExecuteTime": {
     "end_time": "2020-01-14T06:18:37.092111Z",
     "start_time": "2020-01-14T06:18:37.088525Z"
    },
    "papermill": {
     "duration": 0.016397,
     "end_time": "2020-01-14T07:16:54.864225",
     "exception": false,
     "start_time": "2020-01-14T07:16:54.847828",
     "status": "completed"
    },
    "tags": []
   },
   "outputs": [],
   "source": [
    "motif_enrich_df['Group'] = group"
   ]
  },
  {
   "cell_type": "code",
   "execution_count": 17,
   "metadata": {
    "ExecuteTime": {
     "end_time": "2020-01-14T06:18:37.099304Z",
     "start_time": "2020-01-14T06:18:37.093659Z"
    },
    "papermill": {
     "duration": 0.019206,
     "end_time": "2020-01-14T07:16:54.893392",
     "exception": false,
     "start_time": "2020-01-14T07:16:54.874186",
     "status": "completed"
    },
    "tags": []
   },
   "outputs": [
    {
     "data": {
      "text/plain": [
       "27"
      ]
     },
     "execution_count": 17,
     "metadata": {},
     "output_type": "execute_result"
    }
   ],
   "source": [
    "# final filter\n",
    "filtered_motif_df = motif_enrich_df[(motif_enrich_df['oddsratio'] > or_cutoff)\n",
    "                                    &\n",
    "                                    (motif_enrich_df['-lgp'] > neg_lgp_cutoff)]\n",
    "filtered_motif_df.shape[0]"
   ]
  },
  {
   "cell_type": "code",
   "execution_count": 18,
   "metadata": {
    "ExecuteTime": {
     "end_time": "2020-01-14T06:18:37.104396Z",
     "start_time": "2020-01-14T06:18:37.100619Z"
    },
    "papermill": {
     "duration": 0.017321,
     "end_time": "2020-01-14T07:16:54.921298",
     "exception": false,
     "start_time": "2020-01-14T07:16:54.903977",
     "status": "completed"
    },
    "tags": []
   },
   "outputs": [
    {
     "name": "stderr",
     "output_type": "stream",
     "text": [
      "/home/hanliu/miniconda3/envs/clustering/lib/python3.7/site-packages/ipykernel_launcher.py:1: FutureWarning: to_msgpack is deprecated and will be removed in a future version.\n",
      "It is recommended to use pyarrow for on-the-wire transmission of pandas objects.\n",
      "  \"\"\"Entry point for launching an IPython kernel.\n"
     ]
    }
   ],
   "source": [
    "motif_enrich_df.to_msgpack(output_dir / f'{group}.motif_enrichment.msg')"
   ]
  },
  {
   "cell_type": "code",
   "execution_count": 19,
   "metadata": {
    "ExecuteTime": {
     "end_time": "2020-01-14T06:18:37.114285Z",
     "start_time": "2020-01-14T06:18:37.105716Z"
    },
    "papermill": {
     "duration": 0.021078,
     "end_time": "2020-01-14T07:16:54.953069",
     "exception": false,
     "start_time": "2020-01-14T07:16:54.931991",
     "status": "completed"
    },
    "tags": []
   },
   "outputs": [],
   "source": [
    "pybedtools.cleanup()"
   ]
  },
  {
   "cell_type": "code",
   "execution_count": 20,
   "metadata": {
    "ExecuteTime": {
     "end_time": "2020-01-14T06:18:37.133796Z",
     "start_time": "2020-01-14T06:18:37.115607Z"
    },
    "papermill": {
     "duration": 0.030514,
     "end_time": "2020-01-14T07:16:54.995514",
     "exception": false,
     "start_time": "2020-01-14T07:16:54.965000",
     "status": "completed"
    },
    "tags": []
   },
   "outputs": [
    {
     "data": {
      "text/html": [
       "<div>\n",
       "<style scoped>\n",
       "    .dataframe tbody tr th:only-of-type {\n",
       "        vertical-align: middle;\n",
       "    }\n",
       "\n",
       "    .dataframe tbody tr th {\n",
       "        vertical-align: top;\n",
       "    }\n",
       "\n",
       "    .dataframe thead th {\n",
       "        text-align: right;\n",
       "    }\n",
       "</style>\n",
       "<table border=\"1\" class=\"dataframe\">\n",
       "  <thead>\n",
       "    <tr style=\"text-align: right;\">\n",
       "      <th></th>\n",
       "      <th>oddsratio</th>\n",
       "      <th>p_value</th>\n",
       "      <th>adj_p</th>\n",
       "      <th>-lgp</th>\n",
       "      <th>tp</th>\n",
       "      <th>tn</th>\n",
       "      <th>fp</th>\n",
       "      <th>fn</th>\n",
       "      <th>tp_rate</th>\n",
       "      <th>fp_rate</th>\n",
       "      <th>Group</th>\n",
       "    </tr>\n",
       "  </thead>\n",
       "  <tbody>\n",
       "    <tr>\n",
       "      <th>MA0052.4</th>\n",
       "      <td>2.121827</td>\n",
       "      <td>4.008285e-74</td>\n",
       "      <td>1.372360e-72</td>\n",
       "      <td>71.862532</td>\n",
       "      <td>937.0</td>\n",
       "      <td>63896.0</td>\n",
       "      <td>2291.0</td>\n",
       "      <td>331489.0</td>\n",
       "      <td>0.014453</td>\n",
       "      <td>0.006864</td>\n",
       "      <td>high</td>\n",
       "    </tr>\n",
       "    <tr>\n",
       "      <th>MA0091.1</th>\n",
       "      <td>2.090265</td>\n",
       "      <td>4.845757e-77</td>\n",
       "      <td>1.742050e-75</td>\n",
       "      <td>74.758939</td>\n",
       "      <td>1010.0</td>\n",
       "      <td>63823.0</td>\n",
       "      <td>2508.0</td>\n",
       "      <td>331272.0</td>\n",
       "      <td>0.015578</td>\n",
       "      <td>0.007514</td>\n",
       "      <td>high</td>\n",
       "    </tr>\n",
       "    <tr>\n",
       "      <th>MA0461.2</th>\n",
       "      <td>2.798778</td>\n",
       "      <td>3.406405e-202</td>\n",
       "      <td>4.898411e-200</td>\n",
       "      <td>199.309945</td>\n",
       "      <td>1547.0</td>\n",
       "      <td>63286.0</td>\n",
       "      <td>2890.0</td>\n",
       "      <td>330890.0</td>\n",
       "      <td>0.023861</td>\n",
       "      <td>0.008658</td>\n",
       "      <td>high</td>\n",
       "    </tr>\n",
       "    <tr>\n",
       "      <th>MA0497.1</th>\n",
       "      <td>2.176052</td>\n",
       "      <td>5.744785e-105</td>\n",
       "      <td>2.753667e-103</td>\n",
       "      <td>102.560089</td>\n",
       "      <td>1268.0</td>\n",
       "      <td>63565.0</td>\n",
       "      <td>3032.0</td>\n",
       "      <td>330748.0</td>\n",
       "      <td>0.019558</td>\n",
       "      <td>0.009084</td>\n",
       "      <td>high</td>\n",
       "    </tr>\n",
       "    <tr>\n",
       "      <th>MA0509.2</th>\n",
       "      <td>3.137821</td>\n",
       "      <td>3.379543e-112</td>\n",
       "      <td>1.735637e-110</td>\n",
       "      <td>109.760541</td>\n",
       "      <td>715.0</td>\n",
       "      <td>64118.0</td>\n",
       "      <td>1182.0</td>\n",
       "      <td>332598.0</td>\n",
       "      <td>0.011028</td>\n",
       "      <td>0.003541</td>\n",
       "      <td>high</td>\n",
       "    </tr>\n",
       "    <tr>\n",
       "      <th>MA0510.2</th>\n",
       "      <td>1.806648</td>\n",
       "      <td>6.740776e-12</td>\n",
       "      <td>5.507521e-11</td>\n",
       "      <td>10.259044</td>\n",
       "      <td>198.0</td>\n",
       "      <td>64635.0</td>\n",
       "      <td>565.0</td>\n",
       "      <td>333215.0</td>\n",
       "      <td>0.003054</td>\n",
       "      <td>0.001693</td>\n",
       "      <td>high</td>\n",
       "    </tr>\n",
       "    <tr>\n",
       "      <th>MA0607.1</th>\n",
       "      <td>2.016404</td>\n",
       "      <td>4.447951e-292</td>\n",
       "      <td>1.066026e-289</td>\n",
       "      <td>288.972232</td>\n",
       "      <td>4404.0</td>\n",
       "      <td>60429.0</td>\n",
       "      <td>11643.0</td>\n",
       "      <td>322137.0</td>\n",
       "      <td>0.067928</td>\n",
       "      <td>0.034882</td>\n",
       "      <td>high</td>\n",
       "    </tr>\n",
       "    <tr>\n",
       "      <th>MA0623.2</th>\n",
       "      <td>2.570784</td>\n",
       "      <td>1.996174e-133</td>\n",
       "      <td>1.304772e-131</td>\n",
       "      <td>130.884465</td>\n",
       "      <td>1166.0</td>\n",
       "      <td>63667.0</td>\n",
       "      <td>2361.0</td>\n",
       "      <td>331419.0</td>\n",
       "      <td>0.017985</td>\n",
       "      <td>0.007074</td>\n",
       "      <td>high</td>\n",
       "    </tr>\n",
       "    <tr>\n",
       "      <th>MA0633.1</th>\n",
       "      <td>2.422476</td>\n",
       "      <td>2.739357e-158</td>\n",
       "      <td>2.461997e-156</td>\n",
       "      <td>155.608713</td>\n",
       "      <td>1550.0</td>\n",
       "      <td>63283.0</td>\n",
       "      <td>3341.0</td>\n",
       "      <td>330439.0</td>\n",
       "      <td>0.023908</td>\n",
       "      <td>0.010010</td>\n",
       "      <td>high</td>\n",
       "    </tr>\n",
       "    <tr>\n",
       "      <th>MA0660.1</th>\n",
       "      <td>2.097700</td>\n",
       "      <td>4.534811e-33</td>\n",
       "      <td>8.812240e-32</td>\n",
       "      <td>31.054914</td>\n",
       "      <td>413.0</td>\n",
       "      <td>64420.0</td>\n",
       "      <td>1017.0</td>\n",
       "      <td>332763.0</td>\n",
       "      <td>0.006370</td>\n",
       "      <td>0.003047</td>\n",
       "      <td>high</td>\n",
       "    </tr>\n",
       "    <tr>\n",
       "      <th>MA0668.1</th>\n",
       "      <td>3.275336</td>\n",
       "      <td>1.033080e-156</td>\n",
       "      <td>8.253158e-155</td>\n",
       "      <td>154.083380</td>\n",
       "      <td>949.0</td>\n",
       "      <td>63884.0</td>\n",
       "      <td>1507.0</td>\n",
       "      <td>332273.0</td>\n",
       "      <td>0.014638</td>\n",
       "      <td>0.004515</td>\n",
       "      <td>high</td>\n",
       "    </tr>\n",
       "    <tr>\n",
       "      <th>MA0669.1</th>\n",
       "      <td>2.498620</td>\n",
       "      <td>1.086656e-72</td>\n",
       "      <td>3.551391e-71</td>\n",
       "      <td>70.449602</td>\n",
       "      <td>657.0</td>\n",
       "      <td>64176.0</td>\n",
       "      <td>1362.0</td>\n",
       "      <td>332418.0</td>\n",
       "      <td>0.010134</td>\n",
       "      <td>0.004081</td>\n",
       "      <td>high</td>\n",
       "    </tr>\n",
       "    <tr>\n",
       "      <th>MA0678.1</th>\n",
       "      <td>3.537522</td>\n",
       "      <td>1.754196e-125</td>\n",
       "      <td>1.051056e-123</td>\n",
       "      <td>122.978374</td>\n",
       "      <td>686.0</td>\n",
       "      <td>64147.0</td>\n",
       "      <td>1006.0</td>\n",
       "      <td>332774.0</td>\n",
       "      <td>0.010581</td>\n",
       "      <td>0.003014</td>\n",
       "      <td>high</td>\n",
       "    </tr>\n",
       "    <tr>\n",
       "      <th>MA0773.1</th>\n",
       "      <td>2.009601</td>\n",
       "      <td>1.523573e-26</td>\n",
       "      <td>2.434331e-25</td>\n",
       "      <td>24.613620</td>\n",
       "      <td>362.0</td>\n",
       "      <td>64471.0</td>\n",
       "      <td>930.0</td>\n",
       "      <td>332850.0</td>\n",
       "      <td>0.005584</td>\n",
       "      <td>0.002786</td>\n",
       "      <td>high</td>\n",
       "    </tr>\n",
       "    <tr>\n",
       "      <th>MA0798.2</th>\n",
       "      <td>3.044463</td>\n",
       "      <td>1.196741e-88</td>\n",
       "      <td>5.377853e-87</td>\n",
       "      <td>86.269391</td>\n",
       "      <td>586.0</td>\n",
       "      <td>64247.0</td>\n",
       "      <td>997.0</td>\n",
       "      <td>332783.0</td>\n",
       "      <td>0.009039</td>\n",
       "      <td>0.002987</td>\n",
       "      <td>high</td>\n",
       "    </tr>\n",
       "    <tr>\n",
       "      <th>MA0799.1</th>\n",
       "      <td>1.918730</td>\n",
       "      <td>1.506588e-20</td>\n",
       "      <td>1.775798e-19</td>\n",
       "      <td>18.750606</td>\n",
       "      <td>309.0</td>\n",
       "      <td>64524.0</td>\n",
       "      <td>831.0</td>\n",
       "      <td>332949.0</td>\n",
       "      <td>0.004766</td>\n",
       "      <td>0.002490</td>\n",
       "      <td>high</td>\n",
       "    </tr>\n",
       "    <tr>\n",
       "      <th>MA0817.1</th>\n",
       "      <td>2.591657</td>\n",
       "      <td>4.974399e-60</td>\n",
       "      <td>1.430637e-58</td>\n",
       "      <td>57.844470</td>\n",
       "      <td>505.0</td>\n",
       "      <td>64328.0</td>\n",
       "      <td>1008.0</td>\n",
       "      <td>332772.0</td>\n",
       "      <td>0.007789</td>\n",
       "      <td>0.003020</td>\n",
       "      <td>high</td>\n",
       "    </tr>\n",
       "    <tr>\n",
       "      <th>MA0818.1</th>\n",
       "      <td>2.795044</td>\n",
       "      <td>1.454082e-180</td>\n",
       "      <td>1.493550e-178</td>\n",
       "      <td>177.825780</td>\n",
       "      <td>1381.0</td>\n",
       "      <td>63452.0</td>\n",
       "      <td>2579.0</td>\n",
       "      <td>331201.0</td>\n",
       "      <td>0.021301</td>\n",
       "      <td>0.007727</td>\n",
       "      <td>high</td>\n",
       "    </tr>\n",
       "    <tr>\n",
       "      <th>MA0826.1</th>\n",
       "      <td>2.905837</td>\n",
       "      <td>3.293596e-83</td>\n",
       "      <td>1.246366e-81</td>\n",
       "      <td>80.904354</td>\n",
       "      <td>588.0</td>\n",
       "      <td>64245.0</td>\n",
       "      <td>1048.0</td>\n",
       "      <td>332732.0</td>\n",
       "      <td>0.009069</td>\n",
       "      <td>0.003140</td>\n",
       "      <td>high</td>\n",
       "    </tr>\n",
       "    <tr>\n",
       "      <th>MA0827.1</th>\n",
       "      <td>3.037191</td>\n",
       "      <td>2.321383e-149</td>\n",
       "      <td>1.669074e-147</td>\n",
       "      <td>146.777524</td>\n",
       "      <td>1003.0</td>\n",
       "      <td>63830.0</td>\n",
       "      <td>1718.0</td>\n",
       "      <td>332062.0</td>\n",
       "      <td>0.015471</td>\n",
       "      <td>0.005147</td>\n",
       "      <td>high</td>\n",
       "    </tr>\n",
       "    <tr>\n",
       "      <th>MA1109.1</th>\n",
       "      <td>2.669121</td>\n",
       "      <td>4.307343e-288</td>\n",
       "      <td>7.742449e-286</td>\n",
       "      <td>285.111122</td>\n",
       "      <td>2404.0</td>\n",
       "      <td>62429.0</td>\n",
       "      <td>4747.0</td>\n",
       "      <td>329033.0</td>\n",
       "      <td>0.037080</td>\n",
       "      <td>0.014222</td>\n",
       "      <td>high</td>\n",
       "    </tr>\n",
       "    <tr>\n",
       "      <th>MA1468.1</th>\n",
       "      <td>2.760019</td>\n",
       "      <td>6.333225e-195</td>\n",
       "      <td>7.589315e-193</td>\n",
       "      <td>192.119797</td>\n",
       "      <td>1524.0</td>\n",
       "      <td>63309.0</td>\n",
       "      <td>2886.0</td>\n",
       "      <td>330894.0</td>\n",
       "      <td>0.023507</td>\n",
       "      <td>0.008646</td>\n",
       "      <td>high</td>\n",
       "    </tr>\n",
       "    <tr>\n",
       "      <th>MA1524.1</th>\n",
       "      <td>1.781369</td>\n",
       "      <td>4.684662e-61</td>\n",
       "      <td>1.403447e-59</td>\n",
       "      <td>58.852804</td>\n",
       "      <td>1224.0</td>\n",
       "      <td>63609.0</td>\n",
       "      <td>3567.0</td>\n",
       "      <td>330213.0</td>\n",
       "      <td>0.018879</td>\n",
       "      <td>0.010687</td>\n",
       "      <td>high</td>\n",
       "    </tr>\n",
       "    <tr>\n",
       "      <th>MA1568.1</th>\n",
       "      <td>3.986983</td>\n",
       "      <td>4.789164e-84</td>\n",
       "      <td>1.913005e-82</td>\n",
       "      <td>81.718284</td>\n",
       "      <td>397.0</td>\n",
       "      <td>64436.0</td>\n",
       "      <td>515.0</td>\n",
       "      <td>333265.0</td>\n",
       "      <td>0.006123</td>\n",
       "      <td>0.001543</td>\n",
       "      <td>high</td>\n",
       "    </tr>\n",
       "    <tr>\n",
       "      <th>MA1570.1</th>\n",
       "      <td>1.782901</td>\n",
       "      <td>6.160797e-116</td>\n",
       "      <td>3.407395e-114</td>\n",
       "      <td>113.467578</td>\n",
       "      <td>2385.0</td>\n",
       "      <td>62448.0</td>\n",
       "      <td>7000.0</td>\n",
       "      <td>326780.0</td>\n",
       "      <td>0.036787</td>\n",
       "      <td>0.020972</td>\n",
       "      <td>high</td>\n",
       "    </tr>\n",
       "    <tr>\n",
       "      <th>MA1638.1</th>\n",
       "      <td>1.692148</td>\n",
       "      <td>3.291574e-311</td>\n",
       "      <td>1.183321e-308</td>\n",
       "      <td>307.926898</td>\n",
       "      <td>8220.0</td>\n",
       "      <td>56613.0</td>\n",
       "      <td>26377.0</td>\n",
       "      <td>307403.0</td>\n",
       "      <td>0.126787</td>\n",
       "      <td>0.079025</td>\n",
       "      <td>high</td>\n",
       "    </tr>\n",
       "    <tr>\n",
       "      <th>MA1642.1</th>\n",
       "      <td>2.442016</td>\n",
       "      <td>0.000000e+00</td>\n",
       "      <td>0.000000e+00</td>\n",
       "      <td>300.000000</td>\n",
       "      <td>4519.0</td>\n",
       "      <td>60314.0</td>\n",
       "      <td>9936.0</td>\n",
       "      <td>323844.0</td>\n",
       "      <td>0.069702</td>\n",
       "      <td>0.029768</td>\n",
       "      <td>high</td>\n",
       "    </tr>\n",
       "  </tbody>\n",
       "</table>\n",
       "</div>"
      ],
      "text/plain": [
       "          oddsratio        p_value          adj_p        -lgp      tp  \\\n",
       "MA0052.4   2.121827   4.008285e-74   1.372360e-72   71.862532   937.0   \n",
       "MA0091.1   2.090265   4.845757e-77   1.742050e-75   74.758939  1010.0   \n",
       "MA0461.2   2.798778  3.406405e-202  4.898411e-200  199.309945  1547.0   \n",
       "MA0497.1   2.176052  5.744785e-105  2.753667e-103  102.560089  1268.0   \n",
       "MA0509.2   3.137821  3.379543e-112  1.735637e-110  109.760541   715.0   \n",
       "MA0510.2   1.806648   6.740776e-12   5.507521e-11   10.259044   198.0   \n",
       "MA0607.1   2.016404  4.447951e-292  1.066026e-289  288.972232  4404.0   \n",
       "MA0623.2   2.570784  1.996174e-133  1.304772e-131  130.884465  1166.0   \n",
       "MA0633.1   2.422476  2.739357e-158  2.461997e-156  155.608713  1550.0   \n",
       "MA0660.1   2.097700   4.534811e-33   8.812240e-32   31.054914   413.0   \n",
       "MA0668.1   3.275336  1.033080e-156  8.253158e-155  154.083380   949.0   \n",
       "MA0669.1   2.498620   1.086656e-72   3.551391e-71   70.449602   657.0   \n",
       "MA0678.1   3.537522  1.754196e-125  1.051056e-123  122.978374   686.0   \n",
       "MA0773.1   2.009601   1.523573e-26   2.434331e-25   24.613620   362.0   \n",
       "MA0798.2   3.044463   1.196741e-88   5.377853e-87   86.269391   586.0   \n",
       "MA0799.1   1.918730   1.506588e-20   1.775798e-19   18.750606   309.0   \n",
       "MA0817.1   2.591657   4.974399e-60   1.430637e-58   57.844470   505.0   \n",
       "MA0818.1   2.795044  1.454082e-180  1.493550e-178  177.825780  1381.0   \n",
       "MA0826.1   2.905837   3.293596e-83   1.246366e-81   80.904354   588.0   \n",
       "MA0827.1   3.037191  2.321383e-149  1.669074e-147  146.777524  1003.0   \n",
       "MA1109.1   2.669121  4.307343e-288  7.742449e-286  285.111122  2404.0   \n",
       "MA1468.1   2.760019  6.333225e-195  7.589315e-193  192.119797  1524.0   \n",
       "MA1524.1   1.781369   4.684662e-61   1.403447e-59   58.852804  1224.0   \n",
       "MA1568.1   3.986983   4.789164e-84   1.913005e-82   81.718284   397.0   \n",
       "MA1570.1   1.782901  6.160797e-116  3.407395e-114  113.467578  2385.0   \n",
       "MA1638.1   1.692148  3.291574e-311  1.183321e-308  307.926898  8220.0   \n",
       "MA1642.1   2.442016   0.000000e+00   0.000000e+00  300.000000  4519.0   \n",
       "\n",
       "               tn       fp        fn   tp_rate   fp_rate Group  \n",
       "MA0052.4  63896.0   2291.0  331489.0  0.014453  0.006864  high  \n",
       "MA0091.1  63823.0   2508.0  331272.0  0.015578  0.007514  high  \n",
       "MA0461.2  63286.0   2890.0  330890.0  0.023861  0.008658  high  \n",
       "MA0497.1  63565.0   3032.0  330748.0  0.019558  0.009084  high  \n",
       "MA0509.2  64118.0   1182.0  332598.0  0.011028  0.003541  high  \n",
       "MA0510.2  64635.0    565.0  333215.0  0.003054  0.001693  high  \n",
       "MA0607.1  60429.0  11643.0  322137.0  0.067928  0.034882  high  \n",
       "MA0623.2  63667.0   2361.0  331419.0  0.017985  0.007074  high  \n",
       "MA0633.1  63283.0   3341.0  330439.0  0.023908  0.010010  high  \n",
       "MA0660.1  64420.0   1017.0  332763.0  0.006370  0.003047  high  \n",
       "MA0668.1  63884.0   1507.0  332273.0  0.014638  0.004515  high  \n",
       "MA0669.1  64176.0   1362.0  332418.0  0.010134  0.004081  high  \n",
       "MA0678.1  64147.0   1006.0  332774.0  0.010581  0.003014  high  \n",
       "MA0773.1  64471.0    930.0  332850.0  0.005584  0.002786  high  \n",
       "MA0798.2  64247.0    997.0  332783.0  0.009039  0.002987  high  \n",
       "MA0799.1  64524.0    831.0  332949.0  0.004766  0.002490  high  \n",
       "MA0817.1  64328.0   1008.0  332772.0  0.007789  0.003020  high  \n",
       "MA0818.1  63452.0   2579.0  331201.0  0.021301  0.007727  high  \n",
       "MA0826.1  64245.0   1048.0  332732.0  0.009069  0.003140  high  \n",
       "MA0827.1  63830.0   1718.0  332062.0  0.015471  0.005147  high  \n",
       "MA1109.1  62429.0   4747.0  329033.0  0.037080  0.014222  high  \n",
       "MA1468.1  63309.0   2886.0  330894.0  0.023507  0.008646  high  \n",
       "MA1524.1  63609.0   3567.0  330213.0  0.018879  0.010687  high  \n",
       "MA1568.1  64436.0    515.0  333265.0  0.006123  0.001543  high  \n",
       "MA1570.1  62448.0   7000.0  326780.0  0.036787  0.020972  high  \n",
       "MA1638.1  56613.0  26377.0  307403.0  0.126787  0.079025  high  \n",
       "MA1642.1  60314.0   9936.0  323844.0  0.069702  0.029768  high  "
      ]
     },
     "execution_count": 20,
     "metadata": {},
     "output_type": "execute_result"
    }
   ],
   "source": [
    "filtered_motif_df"
   ]
  },
  {
   "cell_type": "code",
   "execution_count": null,
   "metadata": {
    "papermill": {
     "duration": 0.010844,
     "end_time": "2020-01-14T07:16:55.017483",
     "exception": false,
     "start_time": "2020-01-14T07:16:55.006639",
     "status": "completed"
    },
    "tags": []
   },
   "outputs": [],
   "source": []
  }
 ],
 "metadata": {
  "hide_input": false,
  "kernelspec": {
   "display_name": "Python 3",
   "language": "python",
   "name": "python3"
  },
  "language_info": {
   "codemirror_mode": {
    "name": "ipython",
    "version": 3
   },
   "file_extension": ".py",
   "mimetype": "text/x-python",
   "name": "python",
   "nbconvert_exporter": "python",
   "pygments_lexer": "ipython3",
   "version": "3.7.3"
  },
  "papermill": {
   "duration": 11.438949,
   "end_time": "2020-01-14T07:16:55.434585",
   "environment_variables": {},
   "exception": null,
   "input_path": "4.MotifEnrichment.ipynb",
   "output_path": "/home/hanliu/project/mouse_rostral_brain/DMR/DGmCHGroup/DMR/Recipe/4.MotifEnrichment.high.ipynb",
   "parameters": {
    "dmr_hits_path": "/home/hanliu/project/mouse_rostral_brain/DMR/DGmCHGroup/DMR/HypoDMR/high.DMS1.bed",
    "group": "high",
    "mask_quantile_to99": 0.9,
    "motif_hits_path": "/home/hanliu/project/mouse_rostral_brain/DMR/DGmCHGroup/DMR/MotifScan.h5ad",
    "neg_lgp_cutoff": 10,
    "or_cutoff": 1.5,
    "output_dir": "/home/hanliu/project/mouse_rostral_brain/DMR/DGmCHGroup/DMR/MotifEnrichment"
   },
   "start_time": "2020-01-14T07:16:43.995636",
   "version": "1.0.1"
  },
  "toc": {
   "base_numbering": 1,
   "nav_menu": {},
   "number_sections": true,
   "sideBar": true,
   "skip_h1_title": true,
   "title_cell": "Table of Contents",
   "title_sidebar": "Contents",
   "toc_cell": false,
   "toc_position": {},
   "toc_section_display": true,
   "toc_window_display": true
  }
 },
 "nbformat": 4,
 "nbformat_minor": 2
}
