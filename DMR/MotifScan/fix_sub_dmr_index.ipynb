{
 "cells": [
  {
   "cell_type": "code",
   "execution_count": 1,
   "metadata": {
    "ExecuteTime": {
     "end_time": "2019-12-15T20:23:50.255569Z",
     "start_time": "2019-12-15T20:23:50.046894Z"
    }
   },
   "outputs": [],
   "source": [
    "import pandas as pd\n",
    "import anndata"
   ]
  },
  {
   "cell_type": "code",
   "execution_count": 2,
   "metadata": {
    "ExecuteTime": {
     "end_time": "2019-12-15T20:23:55.284210Z",
     "start_time": "2019-12-15T20:23:50.257368Z"
    }
   },
   "outputs": [],
   "source": [
    "with pd.HDFStore('../SubType/FilteredDMR.h5') as hdf:\n",
    "    dmr_bed = hdf['Bed']\n",
    "\n",
    "# the int number for each chrom is restarted, so add chr to make it unique\n",
    "dmr_bed.index = 'Sub' + dmr_bed['#chr'] + '_' + dmr_bed.index.astype(str)\n",
    "dmr_bed.reset_index(drop=False, inplace=True)\n"
   ]
  },
  {
   "cell_type": "code",
   "execution_count": 3,
   "metadata": {
    "ExecuteTime": {
     "end_time": "2019-12-15T20:24:01.041634Z",
     "start_time": "2019-12-15T20:23:55.286572Z"
    }
   },
   "outputs": [],
   "source": [
    "with pd.HDFStore('../SubType/FilteredDMR.h5') as hdf:\n",
    "    _wrong_index = hdf['Bed'].reset_index(drop=True)\n",
    "\n",
    "# the int number for each chrom is restarted, so add chr to make it unique\n",
    "_wrong_index.index = 'Sub' + _wrong_index['#chr'] + '_' + _wrong_index.index.astype(str)\n",
    "_wrong_index.reset_index(drop=False, inplace=True)\n",
    "dmr_bed['wrong_index'] = _wrong_index['index'].values\n",
    "index_map = dmr_bed.set_index('wrong_index')['index']"
   ]
  },
  {
   "cell_type": "code",
   "execution_count": 4,
   "metadata": {
    "ExecuteTime": {
     "end_time": "2019-12-15T20:24:16.461786Z",
     "start_time": "2019-12-15T20:24:01.046012Z"
    }
   },
   "outputs": [],
   "source": [
    "adata = anndata.read_h5ad('SubDMR.MotifHits.h5ad')\n",
    "adata.obs_names = adata.obs_names.map(index_map)"
   ]
  },
  {
   "cell_type": "code",
   "execution_count": 9,
   "metadata": {
    "ExecuteTime": {
     "end_time": "2019-12-15T20:25:02.669682Z",
     "start_time": "2019-12-15T20:24:55.115305Z"
    }
   },
   "outputs": [],
   "source": [
    "adata.write_h5ad('SubDMR.MotifHits.fix_index.h5ad')"
   ]
  },
  {
   "cell_type": "code",
   "execution_count": 10,
   "metadata": {
    "ExecuteTime": {
     "end_time": "2019-12-15T20:25:53.255095Z",
     "start_time": "2019-12-15T20:25:53.251245Z"
    }
   },
   "outputs": [
    {
     "data": {
      "text/plain": [
       "AnnData object with n_obs × n_vars = 4722053 × 719 "
      ]
     },
     "execution_count": 10,
     "metadata": {},
     "output_type": "execute_result"
    }
   ],
   "source": [
    "adata"
   ]
  },
  {
   "cell_type": "code",
   "execution_count": null,
   "metadata": {},
   "outputs": [],
   "source": []
  },
  {
   "cell_type": "code",
   "execution_count": null,
   "metadata": {},
   "outputs": [],
   "source": []
  },
  {
   "cell_type": "code",
   "execution_count": null,
   "metadata": {},
   "outputs": [],
   "source": []
  },
  {
   "cell_type": "code",
   "execution_count": null,
   "metadata": {},
   "outputs": [],
   "source": []
  }
 ],
 "metadata": {
  "hide_input": false,
  "kernelspec": {
   "display_name": "Python 3",
   "language": "python",
   "name": "python3"
  },
  "language_info": {
   "codemirror_mode": {
    "name": "ipython",
    "version": 3
   },
   "file_extension": ".py",
   "mimetype": "text/x-python",
   "name": "python",
   "nbconvert_exporter": "python",
   "pygments_lexer": "ipython3",
   "version": "3.7.3"
  },
  "toc": {
   "base_numbering": 1,
   "nav_menu": {},
   "number_sections": true,
   "sideBar": true,
   "skip_h1_title": true,
   "title_cell": "Table of Contents",
   "title_sidebar": "Contents",
   "toc_cell": false,
   "toc_position": {},
   "toc_section_display": true,
   "toc_window_display": true
  }
 },
 "nbformat": 4,
 "nbformat_minor": 2
}
