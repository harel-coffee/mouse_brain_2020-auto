{
 "cells": [
  {
   "cell_type": "code",
   "execution_count": 1,
   "metadata": {
    "ExecuteTime": {
     "end_time": "2020-01-17T21:53:00.567833Z",
     "start_time": "2020-01-17T21:53:00.202756Z"
    }
   },
   "outputs": [],
   "source": [
    "import pandas as pd\n",
    "import pathlib\n",
    "import seaborn as sns\n",
    "import matplotlib.pyplot as plt\n",
    "import joblib"
   ]
  },
  {
   "cell_type": "code",
   "execution_count": 2,
   "metadata": {
    "ExecuteTime": {
     "end_time": "2020-01-17T21:53:00.580070Z",
     "start_time": "2020-01-17T21:53:00.569728Z"
    }
   },
   "outputs": [],
   "source": [
    "from matplotlib import rc\n",
    "\n",
    "labelsize = 6\n",
    "linewidth = 0.6\n",
    "rc('lines', linewidth=linewidth)\n",
    "rc('axes', labelsize=labelsize, linewidth=linewidth)\n",
    "rc('xtick', labelsize=labelsize)\n",
    "rc('ytick', labelsize=labelsize)\n",
    "rc('xtick.major', width=linewidth)\n",
    "rc('ytick.major', width=linewidth)\n",
    "rc('xtick.minor', width=linewidth-0.2)\n",
    "rc('ytick.minor', width=linewidth-0.2)\n",
    "rc('patch', linewidth=linewidth)\n",
    "\n",
    "major_type_palette = pd.read_csv('/home/hanliu/project/mouse_rostral_brain/metadata/palette/major_type.palette.csv',\n",
    "                                header=None, index_col=0, squeeze=True).to_dict()\n",
    "sub_region_palette = pd.read_csv('/home/hanliu/project/mouse_rostral_brain/metadata/palette/sub_region.palette.csv',\n",
    "                                header=None, index_col=0, squeeze=True).to_dict()\n"
   ]
  },
  {
   "cell_type": "code",
   "execution_count": 3,
   "metadata": {
    "ExecuteTime": {
     "end_time": "2020-01-17T21:53:00.583134Z",
     "start_time": "2020-01-17T21:53:00.581364Z"
    }
   },
   "outputs": [],
   "source": [
    "oddsratio_cutoff = 1.8\n",
    "lgp_cutoff = 20"
   ]
  },
  {
   "cell_type": "markdown",
   "metadata": {},
   "source": [
    "## Get Layer Specific Markers"
   ]
  },
  {
   "cell_type": "code",
   "execution_count": 4,
   "metadata": {
    "ExecuteTime": {
     "end_time": "2020-01-17T21:53:00.588850Z",
     "start_time": "2020-01-17T21:53:00.584287Z"
    }
   },
   "outputs": [],
   "source": [
    "layer_23_markers = joblib.load(\n",
    "    '/home/hanliu/project/mouse_rostral_brain/study/ITSpatial/DMGAnalysis/region_hypo_genes.IT-L23.obj'\n",
    ")\n",
    "layer_5_markers = joblib.load(\n",
    "    '/home/hanliu/project/mouse_rostral_brain/study/ITSpatial/DMGAnalysis/region_hypo_genes.IT-L5.obj'\n",
    ")\n",
    "layer_6_markers = joblib.load(\n",
    "    '/home/hanliu/project/mouse_rostral_brain/study/ITSpatial/DMGAnalysis/region_hypo_genes.IT-L6.obj'\n",
    ")"
   ]
  },
  {
   "cell_type": "markdown",
   "metadata": {},
   "source": [
    "## DMR Counts"
   ]
  },
  {
   "cell_type": "code",
   "execution_count": 5,
   "metadata": {
    "ExecuteTime": {
     "end_time": "2020-01-17T21:53:01.889949Z",
     "start_time": "2020-01-17T21:53:00.589983Z"
    }
   },
   "outputs": [
    {
     "data": {
      "text/html": [
       "<div>\n",
       "<style scoped>\n",
       "    .dataframe tbody tr th:only-of-type {\n",
       "        vertical-align: middle;\n",
       "    }\n",
       "\n",
       "    .dataframe tbody tr th {\n",
       "        vertical-align: top;\n",
       "    }\n",
       "\n",
       "    .dataframe thead th {\n",
       "        text-align: right;\n",
       "    }\n",
       "</style>\n",
       "<table border=\"1\" class=\"dataframe\">\n",
       "  <thead>\n",
       "    <tr style=\"text-align: right;\">\n",
       "      <th></th>\n",
       "      <th>Group</th>\n",
       "      <th># DMR</th>\n",
       "      <th>Layer</th>\n",
       "      <th>Region</th>\n",
       "    </tr>\n",
       "  </thead>\n",
       "  <tbody>\n",
       "    <tr>\n",
       "      <th>0</th>\n",
       "      <td>IT-L4+MOs</td>\n",
       "      <td>32757</td>\n",
       "      <td>IT-L4</td>\n",
       "      <td>MOs</td>\n",
       "    </tr>\n",
       "    <tr>\n",
       "      <th>1</th>\n",
       "      <td>IT-L4+MOp</td>\n",
       "      <td>36899</td>\n",
       "      <td>IT-L4</td>\n",
       "      <td>MOp</td>\n",
       "    </tr>\n",
       "    <tr>\n",
       "      <th>2</th>\n",
       "      <td>IT-L4+SSp</td>\n",
       "      <td>42781</td>\n",
       "      <td>IT-L4</td>\n",
       "      <td>SSp</td>\n",
       "    </tr>\n",
       "    <tr>\n",
       "      <th>3</th>\n",
       "      <td>IT-L4+SSs</td>\n",
       "      <td>21319</td>\n",
       "      <td>IT-L4</td>\n",
       "      <td>SSs</td>\n",
       "    </tr>\n",
       "    <tr>\n",
       "      <th>4</th>\n",
       "      <td>IT-L5+SSp</td>\n",
       "      <td>41503</td>\n",
       "      <td>IT-L5</td>\n",
       "      <td>SSp</td>\n",
       "    </tr>\n",
       "    <tr>\n",
       "      <th>5</th>\n",
       "      <td>IT-L5+PFC</td>\n",
       "      <td>86125</td>\n",
       "      <td>IT-L5</td>\n",
       "      <td>PFC</td>\n",
       "    </tr>\n",
       "    <tr>\n",
       "      <th>6</th>\n",
       "      <td>IT-L5+AI</td>\n",
       "      <td>36572</td>\n",
       "      <td>IT-L5</td>\n",
       "      <td>AI</td>\n",
       "    </tr>\n",
       "    <tr>\n",
       "      <th>7</th>\n",
       "      <td>IT-L5+MOs</td>\n",
       "      <td>13726</td>\n",
       "      <td>IT-L5</td>\n",
       "      <td>MOs</td>\n",
       "    </tr>\n",
       "    <tr>\n",
       "      <th>8</th>\n",
       "      <td>IT-L5+MOp</td>\n",
       "      <td>9277</td>\n",
       "      <td>IT-L5</td>\n",
       "      <td>MOp</td>\n",
       "    </tr>\n",
       "    <tr>\n",
       "      <th>9</th>\n",
       "      <td>IT-L5+ORB</td>\n",
       "      <td>16943</td>\n",
       "      <td>IT-L5</td>\n",
       "      <td>ORB</td>\n",
       "    </tr>\n",
       "    <tr>\n",
       "      <th>10</th>\n",
       "      <td>IT-L5+SSs</td>\n",
       "      <td>18469</td>\n",
       "      <td>IT-L5</td>\n",
       "      <td>SSs</td>\n",
       "    </tr>\n",
       "    <tr>\n",
       "      <th>11</th>\n",
       "      <td>IT-L5+ACA</td>\n",
       "      <td>93581</td>\n",
       "      <td>IT-L5</td>\n",
       "      <td>ACA</td>\n",
       "    </tr>\n",
       "    <tr>\n",
       "      <th>12</th>\n",
       "      <td>IT-L23+ACA</td>\n",
       "      <td>77099</td>\n",
       "      <td>IT-L23</td>\n",
       "      <td>ACA</td>\n",
       "    </tr>\n",
       "    <tr>\n",
       "      <th>13</th>\n",
       "      <td>IT-L23+AI</td>\n",
       "      <td>42416</td>\n",
       "      <td>IT-L23</td>\n",
       "      <td>AI</td>\n",
       "    </tr>\n",
       "    <tr>\n",
       "      <th>14</th>\n",
       "      <td>IT-L23+MOp</td>\n",
       "      <td>18366</td>\n",
       "      <td>IT-L23</td>\n",
       "      <td>MOp</td>\n",
       "    </tr>\n",
       "    <tr>\n",
       "      <th>15</th>\n",
       "      <td>IT-L23+ORB</td>\n",
       "      <td>77534</td>\n",
       "      <td>IT-L23</td>\n",
       "      <td>ORB</td>\n",
       "    </tr>\n",
       "    <tr>\n",
       "      <th>16</th>\n",
       "      <td>IT-L23+PFC</td>\n",
       "      <td>113934</td>\n",
       "      <td>IT-L23</td>\n",
       "      <td>PFC</td>\n",
       "    </tr>\n",
       "    <tr>\n",
       "      <th>17</th>\n",
       "      <td>IT-L23+SSp</td>\n",
       "      <td>28922</td>\n",
       "      <td>IT-L23</td>\n",
       "      <td>SSp</td>\n",
       "    </tr>\n",
       "    <tr>\n",
       "      <th>18</th>\n",
       "      <td>IT-L23+MOs</td>\n",
       "      <td>14026</td>\n",
       "      <td>IT-L23</td>\n",
       "      <td>MOs</td>\n",
       "    </tr>\n",
       "    <tr>\n",
       "      <th>19</th>\n",
       "      <td>IT-L23+SSs</td>\n",
       "      <td>25591</td>\n",
       "      <td>IT-L23</td>\n",
       "      <td>SSs</td>\n",
       "    </tr>\n",
       "    <tr>\n",
       "      <th>20</th>\n",
       "      <td>IT-L6+AI</td>\n",
       "      <td>10513</td>\n",
       "      <td>IT-L6</td>\n",
       "      <td>AI</td>\n",
       "    </tr>\n",
       "    <tr>\n",
       "      <th>21</th>\n",
       "      <td>IT-L6+ACA</td>\n",
       "      <td>38712</td>\n",
       "      <td>IT-L6</td>\n",
       "      <td>ACA</td>\n",
       "    </tr>\n",
       "    <tr>\n",
       "      <th>22</th>\n",
       "      <td>IT-L6+PFC</td>\n",
       "      <td>57293</td>\n",
       "      <td>IT-L6</td>\n",
       "      <td>PFC</td>\n",
       "    </tr>\n",
       "    <tr>\n",
       "      <th>23</th>\n",
       "      <td>IT-L6+SSp</td>\n",
       "      <td>26047</td>\n",
       "      <td>IT-L6</td>\n",
       "      <td>SSp</td>\n",
       "    </tr>\n",
       "    <tr>\n",
       "      <th>24</th>\n",
       "      <td>IT-L6+SSs</td>\n",
       "      <td>22192</td>\n",
       "      <td>IT-L6</td>\n",
       "      <td>SSs</td>\n",
       "    </tr>\n",
       "    <tr>\n",
       "      <th>25</th>\n",
       "      <td>IT-L6+MOs</td>\n",
       "      <td>4437</td>\n",
       "      <td>IT-L6</td>\n",
       "      <td>MOs</td>\n",
       "    </tr>\n",
       "    <tr>\n",
       "      <th>26</th>\n",
       "      <td>IT-L6+MOp</td>\n",
       "      <td>4563</td>\n",
       "      <td>IT-L6</td>\n",
       "      <td>MOp</td>\n",
       "    </tr>\n",
       "  </tbody>\n",
       "</table>\n",
       "</div>"
      ],
      "text/plain": [
       "         Group   # DMR   Layer Region\n",
       "0    IT-L4+MOs   32757   IT-L4    MOs\n",
       "1    IT-L4+MOp   36899   IT-L4    MOp\n",
       "2    IT-L4+SSp   42781   IT-L4    SSp\n",
       "3    IT-L4+SSs   21319   IT-L4    SSs\n",
       "4    IT-L5+SSp   41503   IT-L5    SSp\n",
       "5    IT-L5+PFC   86125   IT-L5    PFC\n",
       "6     IT-L5+AI   36572   IT-L5     AI\n",
       "7    IT-L5+MOs   13726   IT-L5    MOs\n",
       "8    IT-L5+MOp    9277   IT-L5    MOp\n",
       "9    IT-L5+ORB   16943   IT-L5    ORB\n",
       "10   IT-L5+SSs   18469   IT-L5    SSs\n",
       "11   IT-L5+ACA   93581   IT-L5    ACA\n",
       "12  IT-L23+ACA   77099  IT-L23    ACA\n",
       "13   IT-L23+AI   42416  IT-L23     AI\n",
       "14  IT-L23+MOp   18366  IT-L23    MOp\n",
       "15  IT-L23+ORB   77534  IT-L23    ORB\n",
       "16  IT-L23+PFC  113934  IT-L23    PFC\n",
       "17  IT-L23+SSp   28922  IT-L23    SSp\n",
       "18  IT-L23+MOs   14026  IT-L23    MOs\n",
       "19  IT-L23+SSs   25591  IT-L23    SSs\n",
       "20    IT-L6+AI   10513   IT-L6     AI\n",
       "21   IT-L6+ACA   38712   IT-L6    ACA\n",
       "22   IT-L6+PFC   57293   IT-L6    PFC\n",
       "23   IT-L6+SSp   26047   IT-L6    SSp\n",
       "24   IT-L6+SSs   22192   IT-L6    SSs\n",
       "25   IT-L6+MOs    4437   IT-L6    MOs\n",
       "26   IT-L6+MOp    4563   IT-L6    MOp"
      ]
     },
     "execution_count": 5,
     "metadata": {},
     "output_type": "execute_result"
    }
   ],
   "source": [
    "dmr_dir = '/home/hanliu/project/mouse_rostral_brain/study/ITSpatial/DMRAnalysis/RegionSpecificDMR/'\n",
    "dmr_list = list(pathlib.Path(dmr_dir).glob('**/*DMS1.bed'))\n",
    "dmr_counts = {p.name.split('.')[0]: pd.read_csv(p, sep='\\t').shape[0] for p in dmr_list}\n",
    "\n",
    "dmr_counts = pd.Series(dmr_counts).reset_index()\n",
    "dmr_counts.columns = ['Group', '# DMR']\n",
    "dmr_counts['Layer'] = dmr_counts['Group'].apply(lambda i: i.split('+')[0])\n",
    "dmr_counts['Region'] = dmr_counts['Group'].apply(lambda i: i.split('+')[1])\n",
    "dmr_counts"
   ]
  },
  {
   "cell_type": "markdown",
   "metadata": {},
   "source": [
    "## Gene and motif metadata"
   ]
  },
  {
   "cell_type": "code",
   "execution_count": 6,
   "metadata": {
    "ExecuteTime": {
     "end_time": "2020-01-17T21:53:01.897700Z",
     "start_time": "2020-01-17T21:53:01.891979Z"
    }
   },
   "outputs": [],
   "source": [
    "motif_meta_with_cluster = pd.read_csv(\n",
    "    '/home/hanliu/project/mouse_rostral_brain/study/MotifClustering/JASPAR2020_CORE_vertebrates_non-redundant.mouse_genes.with_motif_group.199.csv',\n",
    "    index_col='motif_uid'\n",
    ")"
   ]
  },
  {
   "cell_type": "code",
   "execution_count": 7,
   "metadata": {
    "ExecuteTime": {
     "end_time": "2020-01-17T21:53:02.093344Z",
     "start_time": "2020-01-17T21:53:01.899051Z"
    }
   },
   "outputs": [],
   "source": [
    "gene_meta = pd.read_csv('/home/hanliu/ref/mouse/gencode/vm22/gencode.vM22.annotation.gene.flat.tsv.gz',\n",
    "                        sep='\\t', index_col='gene_id')"
   ]
  },
  {
   "cell_type": "code",
   "execution_count": 8,
   "metadata": {
    "ExecuteTime": {
     "end_time": "2020-01-17T21:53:02.108018Z",
     "start_time": "2020-01-17T21:53:02.094785Z"
    }
   },
   "outputs": [
    {
     "data": {
      "text/html": [
       "<div>\n",
       "<style scoped>\n",
       "    .dataframe tbody tr th:only-of-type {\n",
       "        vertical-align: middle;\n",
       "    }\n",
       "\n",
       "    .dataframe tbody tr th {\n",
       "        vertical-align: top;\n",
       "    }\n",
       "\n",
       "    .dataframe thead th {\n",
       "        text-align: right;\n",
       "    }\n",
       "</style>\n",
       "<table border=\"1\" class=\"dataframe\">\n",
       "  <thead>\n",
       "    <tr style=\"text-align: right;\">\n",
       "      <th></th>\n",
       "      <th>uid</th>\n",
       "      <th>GeneRawName</th>\n",
       "      <th>SuperClass</th>\n",
       "      <th>Class</th>\n",
       "      <th>Family</th>\n",
       "      <th>SubFamily</th>\n",
       "      <th>EnsemblID</th>\n",
       "    </tr>\n",
       "  </thead>\n",
       "  <tbody>\n",
       "    <tr>\n",
       "      <th>0</th>\n",
       "      <td>1.1.1.1.1</td>\n",
       "      <td>c-Jun</td>\n",
       "      <td>Basic domains</td>\n",
       "      <td>Basic leucine zipper factors (bZIP)</td>\n",
       "      <td>Jun-related</td>\n",
       "      <td>Jun</td>\n",
       "      <td>ENSMUSG00000052684</td>\n",
       "    </tr>\n",
       "    <tr>\n",
       "      <th>1</th>\n",
       "      <td>1.1.1.1.2</td>\n",
       "      <td>JunB</td>\n",
       "      <td>Basic domains</td>\n",
       "      <td>Basic leucine zipper factors (bZIP)</td>\n",
       "      <td>Jun-related</td>\n",
       "      <td>Jun</td>\n",
       "      <td>ENSMUSG00000052837,ENSMUSG00000052926</td>\n",
       "    </tr>\n",
       "    <tr>\n",
       "      <th>2</th>\n",
       "      <td>1.1.1.1.3</td>\n",
       "      <td>JunD</td>\n",
       "      <td>Basic domains</td>\n",
       "      <td>Basic leucine zipper factors (bZIP)</td>\n",
       "      <td>Jun-related</td>\n",
       "      <td>Jun</td>\n",
       "      <td>ENSMUSG00000071076</td>\n",
       "    </tr>\n",
       "    <tr>\n",
       "      <th>3</th>\n",
       "      <td>1.1.1.2.1</td>\n",
       "      <td>NFE2</td>\n",
       "      <td>Basic domains</td>\n",
       "      <td>Basic leucine zipper factors (bZIP)</td>\n",
       "      <td>Jun-related</td>\n",
       "      <td>NFE2</td>\n",
       "      <td>ENSMUSG00000058794</td>\n",
       "    </tr>\n",
       "    <tr>\n",
       "      <th>4</th>\n",
       "      <td>1.1.1.2.2</td>\n",
       "      <td>NFE2L1</td>\n",
       "      <td>Basic domains</td>\n",
       "      <td>Basic leucine zipper factors (bZIP)</td>\n",
       "      <td>Jun-related</td>\n",
       "      <td>NFE2</td>\n",
       "      <td>ENSMUSG00000038615</td>\n",
       "    </tr>\n",
       "  </tbody>\n",
       "</table>\n",
       "</div>"
      ],
      "text/plain": [
       "         uid GeneRawName     SuperClass                                Class  \\\n",
       "0  1.1.1.1.1       c-Jun  Basic domains  Basic leucine zipper factors (bZIP)   \n",
       "1  1.1.1.1.2        JunB  Basic domains  Basic leucine zipper factors (bZIP)   \n",
       "2  1.1.1.1.3        JunD  Basic domains  Basic leucine zipper factors (bZIP)   \n",
       "3  1.1.1.2.1        NFE2  Basic domains  Basic leucine zipper factors (bZIP)   \n",
       "4  1.1.1.2.2      NFE2L1  Basic domains  Basic leucine zipper factors (bZIP)   \n",
       "\n",
       "        Family SubFamily                              EnsemblID  \n",
       "0  Jun-related       Jun                     ENSMUSG00000052684  \n",
       "1  Jun-related       Jun  ENSMUSG00000052837,ENSMUSG00000052926  \n",
       "2  Jun-related       Jun                     ENSMUSG00000071076  \n",
       "3  Jun-related      NFE2                     ENSMUSG00000058794  \n",
       "4  Jun-related      NFE2                     ENSMUSG00000038615  "
      ]
     },
     "execution_count": 8,
     "metadata": {},
     "output_type": "execute_result"
    }
   ],
   "source": [
    "tf_class = pd.read_csv('/home/hanliu/ref/TFGene/TFClass/TFClass.with_mouse_gene_id.csv')\n",
    "tf_class.head()"
   ]
  },
  {
   "cell_type": "code",
   "execution_count": 9,
   "metadata": {
    "ExecuteTime": {
     "end_time": "2020-01-17T21:53:02.356789Z",
     "start_time": "2020-01-17T21:53:02.109258Z"
    }
   },
   "outputs": [],
   "source": [
    "level = 'Family'\n",
    "gene_to_tf_class = {}\n",
    "for _, row in tf_class.iterrows():\n",
    "    if isinstance(row['EnsemblID'], float):\n",
    "        continue\n",
    "    for g in row['EnsemblID'].split(','):\n",
    "        gene_to_tf_class[g] = row[level]\n",
    "motif_meta_with_cluster['motif_class'] = motif_meta_with_cluster['gene_ids'].map(\n",
    "    lambda i: gene_to_tf_class[i.split('.')[0]] if i.split('.')[0] in gene_to_tf_class else '')\n",
    "\n",
    "level = 'SubFamily'\n",
    "gene_to_tf_class = {}\n",
    "for _, row in tf_class.iterrows():\n",
    "    if isinstance(row['EnsemblID'], float):\n",
    "        continue\n",
    "    for g in row['EnsemblID'].split(','):\n",
    "        gene_to_tf_class[g] = row[level]\n",
    "motif_meta_with_cluster['motif_class_sub'] = motif_meta_with_cluster['gene_ids'].map(\n",
    "    lambda i: gene_to_tf_class[i.split('.')[0]] if i.split('.')[0] in gene_to_tf_class else '')"
   ]
  },
  {
   "cell_type": "markdown",
   "metadata": {},
   "source": [
    "## Motif Results"
   ]
  },
  {
   "cell_type": "code",
   "execution_count": 10,
   "metadata": {
    "ExecuteTime": {
     "end_time": "2020-01-17T21:53:02.395477Z",
     "start_time": "2020-01-17T21:53:02.357915Z"
    }
   },
   "outputs": [
    {
     "name": "stderr",
     "output_type": "stream",
     "text": [
      "/home/hanliu/miniconda3/envs/clustering/lib/python3.7/site-packages/ipykernel_launcher.py:2: FutureWarning: The read_msgpack is deprecated and will be removed in a future version.\n",
      "It is recommended to use pyarrow for on-the-wire transmission of pandas objects.\n",
      "  \n"
     ]
    }
   ],
   "source": [
    "motif_results = list(pathlib.Path().glob('IT-L*/MotifEnrichment/*.motif_enrichment.msg'))\n",
    "motif_results = pd.concat([pd.read_msgpack(path) for path in motif_results])\n",
    "motif_results.index.name = 'MotifID'\n",
    "motif_results.reset_index(inplace=True)\n",
    "motif_results = pd.concat([motif_results, \n",
    "           motif_meta_with_cluster.loc[motif_results['MotifID']].reset_index(drop=True)], axis=1)\n",
    "\n",
    "filtered_results = motif_results[(motif_results['oddsratio'] > oddsratio_cutoff) & \n",
    "                              (motif_results['-lgp'] > lgp_cutoff)].copy()\n"
   ]
  },
  {
   "cell_type": "code",
   "execution_count": 11,
   "metadata": {
    "ExecuteTime": {
     "end_time": "2020-01-17T21:53:03.006384Z",
     "start_time": "2020-01-17T21:53:02.396805Z"
    }
   },
   "outputs": [],
   "source": [
    "# for each motif class in each group, select most significant ones\n",
    "use_motif_for_clase_group = motif_results.groupby(['motif_class', 'Group']).apply(\n",
    "    lambda i: i.sort_values('-lgp', ascending=False)['MotifID'].iloc[0])"
   ]
  },
  {
   "cell_type": "code",
   "execution_count": 12,
   "metadata": {
    "ExecuteTime": {
     "end_time": "2020-01-17T21:53:03.154163Z",
     "start_time": "2020-01-17T21:53:03.007571Z"
    }
   },
   "outputs": [],
   "source": [
    "# keep one motif for each group and each motif class\n",
    "use_results = motif_results.set_index(['Group', 'MotifID']).loc[[\n",
    "    tuple(row.tolist())\n",
    "    for _, row in use_motif_for_clase_group.reset_index().iloc[:, 1:].iterrows()\n",
    "]].reset_index()\n",
    "use_results = use_results[use_results['motif_class'].fillna('') != ''].copy()\n",
    "\n",
    "assert (use_results.groupby(['motif_class', 'Group']).apply(lambda i: i.shape[0]) != 1).sum() == 0"
   ]
  },
  {
   "cell_type": "code",
   "execution_count": 13,
   "metadata": {
    "ExecuteTime": {
     "end_time": "2020-01-17T21:53:03.158678Z",
     "start_time": "2020-01-17T21:53:03.155353Z"
    }
   },
   "outputs": [],
   "source": [
    "# only keep motif class that has sig hits\n",
    "sig_motif_class = filtered_results['motif_class'].unique()\n",
    "use_results = use_results[use_results['motif_class'].isin(sig_motif_class)].copy()"
   ]
  },
  {
   "cell_type": "code",
   "execution_count": 14,
   "metadata": {
    "ExecuteTime": {
     "end_time": "2020-01-17T21:53:03.162840Z",
     "start_time": "2020-01-17T21:53:03.159809Z"
    }
   },
   "outputs": [],
   "source": [
    "motif_class_order = [\n",
    "    'B-ATF-related',\n",
    "    'Fos-related',\n",
    "    'PD+HD',\n",
    "    'HD-LIM',\n",
    "    'HOX',\n",
    "    'NK',\n",
    "    'Paired-related HD',\n",
    "    'POU',\n",
    "    # 'Thyroid hormone receptor-related factors',\n",
    "    # 'CEBP-related',\n",
    "    # 'More than 3 adjacent zinc fingers',\n",
    "    'MyoD-ASC-related',\n",
    "    'DMRT',\n",
    "    # 'Regulators of differentiation',\n",
    "    'RFX',\n",
    "    'Tal-related',\n",
    "    'bHLH-ZIP',\n",
    "][::-1]\n",
    "\n",
    "layer_order = [\n",
    "    'IT-L23+ORB',\n",
    "    'IT-L23+PFC',\n",
    "    'IT-L23+ACA',\n",
    "    'IT-L23+AI',\n",
    "    'IT-L23+MOs',\n",
    "    'IT-L23+MOp',\n",
    "    'IT-L23+SSp',\n",
    "    'IT-L23+SSs',\n",
    "]"
   ]
  },
  {
   "cell_type": "code",
   "execution_count": 21,
   "metadata": {
    "ExecuteTime": {
     "end_time": "2020-01-17T22:09:43.248176Z",
     "start_time": "2020-01-17T22:09:42.755709Z"
    }
   },
   "outputs": [
    {
     "data": {
      "image/png": "[encoded data removed]",
      "text/plain": [
       "<Figure size 750x420 with 2 Axes>"
      ]
     },
     "metadata": {
      "needs_background": "light"
     },
     "output_type": "display_data"
    }
   ],
   "source": [
    "use_results = use_results[use_results['motif_class'].isin(motif_class_order) & \n",
    "                          use_results['Group'].isin(layer_order)]\n",
    "use_results['x'] = use_results['motif_class'].apply(lambda i: motif_class_order.index(i))\n",
    "use_results['y'] = use_results['Group'].apply(lambda i: layer_order.index(i))\n",
    "pass_filter_pairs = filtered_results.set_index(['MotifID', 'Group']).index\n",
    "use_results['sig'] = use_results.apply(lambda i: (i['MotifID'], i['Group']) in pass_filter_pairs, axis=1)\n",
    "\n",
    "fig = plt.figure(figsize=(2.5, 1.4), dpi=300)\n",
    "gs = fig.add_gridspec(1, 10)\n",
    "ax_main = fig.add_subplot(gs[:, :-1])\n",
    "ax_bar = fig.add_subplot(gs[:, -1:])\n",
    "\n",
    "ax = ax_main\n",
    "sns.scatterplot(ax=ax, data=use_results, x='x', y='y', \n",
    "                hue='oddsratio', hue_norm=(1, 2.5), palette='coolwarm', marker='s',\n",
    "                size='-lgp', size_norm=(10, 50), sizes=(0.1, 65), linewidth=0, clip_on=False)\n",
    "\n",
    "for _, row in use_results[use_results['sig']].iterrows():\n",
    "    ax.text(row['x'], row['y']-0.23, '*', ha='center', va='center', fontsize=labelsize, c='white')\n",
    "\n",
    "ax.set(xticks=range(len(motif_class_order)), \n",
    "       ylim=(-0.5, len(layer_order)-0.5), yticklabels=[i.split('+')[1] for i in layer_order], yticks=list(range(len(layer_order))),\n",
    "       xticklabels=[i[:20] for i in motif_class_order], xlabel='TF Classes', ylabel='Different Regions In L2/3')\n",
    "plt.setp(ax.get_xticklabels(), rotation=45, ha=\"right\",\n",
    "         rotation_mode=\"anchor\")\n",
    "sns.despine(ax=ax)\n",
    "ax.legend_.set_visible(False)\n",
    "\n",
    "ax = ax_bar\n",
    "group_palette = {g: sub_region_palette[g.split('+')[1]] for g in layer_order}\n",
    "sns.barplot(ax=ax, data=dmr_counts, x='# DMR', y='Group', palette=group_palette,\n",
    "            order=layer_order[::-1])\n",
    "ax.set(xlim=(0, 100000), yticklabels=[], xticks=[0, 100000], ylabel='')\n",
    "ax.ticklabel_format(axis='x', style='sci', scilimits=(-2,2))\n",
    "sns.despine(ax=ax)\n",
    "\n",
    "fig.savefig(f'RegionSpecificDMR.IT-L23.heatmap.pdf', bbox_inches='tight')"
   ]
  },
  {
   "cell_type": "code",
   "execution_count": null,
   "metadata": {},
   "outputs": [],
   "source": []
  },
  {
   "cell_type": "code",
   "execution_count": null,
   "metadata": {},
   "outputs": [],
   "source": []
  },
  {
   "cell_type": "code",
   "execution_count": null,
   "metadata": {
    "scrolled": false
   },
   "outputs": [],
   "source": []
  },
  {
   "cell_type": "code",
   "execution_count": null,
   "metadata": {},
   "outputs": [],
   "source": []
  },
  {
   "cell_type": "code",
   "execution_count": null,
   "metadata": {},
   "outputs": [],
   "source": []
  },
  {
   "cell_type": "code",
   "execution_count": null,
   "metadata": {},
   "outputs": [],
   "source": []
  },
  {
   "cell_type": "code",
   "execution_count": null,
   "metadata": {},
   "outputs": [],
   "source": []
  },
  {
   "cell_type": "code",
   "execution_count": null,
   "metadata": {},
   "outputs": [],
   "source": []
  },
  {
   "cell_type": "code",
   "execution_count": null,
   "metadata": {},
   "outputs": [],
   "source": []
  },
  {
   "cell_type": "code",
   "execution_count": null,
   "metadata": {},
   "outputs": [],
   "source": []
  }
 ],
 "metadata": {
  "hide_input": false,
  "kernelspec": {
   "display_name": "Python 3",
   "language": "python",
   "name": "python3"
  },
  "language_info": {
   "codemirror_mode": {
    "name": "ipython",
    "version": 3
   },
   "file_extension": ".py",
   "mimetype": "text/x-python",
   "name": "python",
   "nbconvert_exporter": "python",
   "pygments_lexer": "ipython3",
   "version": "3.7.3"
  },
  "toc": {
   "base_numbering": 1,
   "nav_menu": {},
   "number_sections": true,
   "sideBar": true,
   "skip_h1_title": true,
   "title_cell": "Table of Contents",
   "title_sidebar": "Contents",
   "toc_cell": false,
   "toc_position": {},
   "toc_section_display": true,
   "toc_window_display": true
  }
 },
 "nbformat": 4,
 "nbformat_minor": 2
}
