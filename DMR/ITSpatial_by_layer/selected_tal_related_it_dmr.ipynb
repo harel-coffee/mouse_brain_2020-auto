{
 "cells": [
  {
   "cell_type": "markdown",
   "metadata": {},
   "source": [
    "# Corr DMRs"
   ]
  },
  {
   "cell_type": "code",
   "execution_count": 1,
   "metadata": {
    "ExecuteTime": {
     "end_time": "2020-01-16T08:12:41.388506Z",
     "start_time": "2020-01-16T08:12:41.199102Z"
    }
   },
   "outputs": [],
   "source": [
    "import pandas as pd\n",
    "import numpy as np\n",
    "import anndata"
   ]
  },
  {
   "cell_type": "code",
   "execution_count": null,
   "metadata": {},
   "outputs": [],
   "source": []
  },
  {
   "cell_type": "code",
   "execution_count": 2,
   "metadata": {
    "ExecuteTime": {
     "end_time": "2020-01-16T08:12:42.120724Z",
     "start_time": "2020-01-16T08:12:41.863720Z"
    }
   },
   "outputs": [],
   "source": [
    "motif_meta_with_cluster = pd.read_csv(\n",
    "    '/home/hanliu/project/mouse_rostral_brain/study/MotifClustering/JASPAR2020_CORE_vertebrates_non-redundant.mouse_genes.with_motif_group.199.csv',\n",
    "    index_col='motif_uid'\n",
    ")\n",
    "tf_class = pd.read_csv('/home/hanliu/ref/TFGene/TFClass/TFClass.with_mouse_gene_id.csv')\n",
    "tf_class.head()\n",
    "level = 'Family'\n",
    "gene_to_tf_class = {}\n",
    "for _, row in tf_class.iterrows():\n",
    "    if isinstance(row['EnsemblID'], float):\n",
    "        continue\n",
    "    for g in row['EnsemblID'].split(','):\n",
    "        gene_to_tf_class[g] = row[level]\n",
    "motif_meta_with_cluster['motif_class'] = motif_meta_with_cluster['gene_ids'].map(\n",
    "    lambda i: gene_to_tf_class[i.split('.')[0]] if i.split('.')[0] in gene_to_tf_class else '')\n",
    "\n",
    "level = 'SubFamily'\n",
    "gene_to_tf_class = {}\n",
    "for _, row in tf_class.iterrows():\n",
    "    if isinstance(row['EnsemblID'], float):\n",
    "        continue\n",
    "    for g in row['EnsemblID'].split(','):\n",
    "        gene_to_tf_class[g] = row[level]\n",
    "motif_meta_with_cluster['motif_class_sub'] = motif_meta_with_cluster['gene_ids'].map(\n",
    "    lambda i: gene_to_tf_class[i.split('.')[0]] if i.split('.')[0] in gene_to_tf_class else '')"
   ]
  },
  {
   "cell_type": "code",
   "execution_count": 4,
   "metadata": {
    "ExecuteTime": {
     "end_time": "2020-01-16T08:12:44.860867Z",
     "start_time": "2020-01-16T08:12:44.856678Z"
    }
   },
   "outputs": [],
   "source": [
    "seleted_motifs = motif_meta_with_cluster[motif_meta_with_cluster['motif_class'] == 'Tal-related'].index"
   ]
  },
  {
   "cell_type": "markdown",
   "metadata": {},
   "source": [
    "## Motif scan"
   ]
  },
  {
   "cell_type": "code",
   "execution_count": 5,
   "metadata": {
    "ExecuteTime": {
     "end_time": "2020-01-16T08:12:54.107258Z",
     "start_time": "2020-01-16T08:12:48.965863Z"
    }
   },
   "outputs": [],
   "source": [
    "dmr_motif_scan = anndata.read_h5ad(\n",
    "    '/home/hanliu/project/mouse_rostral_brain/DMR/ITSpatial/MotifScan.h5ad'\n",
    ")\n",
    "dmr_motif_scan = dmr_motif_scan[:, seleted_motifs].copy()\n",
    "dmr_motif_scan.X = dmr_motif_scan.X.todense()"
   ]
  },
  {
   "cell_type": "markdown",
   "metadata": {
    "ExecuteTime": {
     "end_time": "2020-01-16T08:14:37.149028Z",
     "start_time": "2020-01-16T08:14:37.146918Z"
    }
   },
   "source": [
    "## Filter score"
   ]
  },
  {
   "cell_type": "code",
   "execution_count": 10,
   "metadata": {
    "ExecuteTime": {
     "end_time": "2020-01-16T08:13:21.406318Z",
     "start_time": "2020-01-16T08:13:19.807393Z"
    }
   },
   "outputs": [],
   "source": [
    "# filter DMR the same way as motif enrichment\n",
    "mask_quantile_to99 = 0.9\n",
    "\n",
    "# mask small motif scores\n",
    "motif_cutoff = pd.Series(np.apply_along_axis(lambda i: np.quantile(i[i>0], 0.99) * mask_quantile_to99 if (i[i>0].size > 0) else 0, \n",
    "                                             0, dmr_motif_scan.X),\n",
    "                         index=dmr_motif_scan.var_names)\n",
    "# only keep value larger than the cutoff for each motif\n",
    "dmr_motif_scan.X = np.multiply(dmr_motif_scan.X, (dmr_motif_scan.X > motif_cutoff.values[None, :]))"
   ]
  },
  {
   "cell_type": "code",
   "execution_count": 23,
   "metadata": {
    "ExecuteTime": {
     "end_time": "2020-01-16T08:15:36.750102Z",
     "start_time": "2020-01-16T08:15:36.686827Z"
    }
   },
   "outputs": [],
   "source": [
    "sig_dmrs = dmr_motif_scan.obs_names[(dmr_motif_scan.X.sum(axis=1) > 0).A1]"
   ]
  },
  {
   "cell_type": "code",
   "execution_count": 25,
   "metadata": {
    "ExecuteTime": {
     "end_time": "2020-01-16T08:16:09.552561Z",
     "start_time": "2020-01-16T08:16:09.338743Z"
    }
   },
   "outputs": [],
   "source": [
    "corr_adata = anndata.read_h5ad(\n",
    "    '/home/hanliu/project/mouse_rostral_brain/study/ITSpatial/gene_dmr_corr/Corr/chr1.h5ad'\n",
    ")"
   ]
  },
  {
   "cell_type": "code",
   "execution_count": 30,
   "metadata": {
    "ExecuteTime": {
     "end_time": "2020-01-16T08:16:34.317545Z",
     "start_time": "2020-01-16T08:16:34.238657Z"
    }
   },
   "outputs": [
    {
     "data": {
      "text/plain": [
       "<40347x3359 sparse matrix of type '<class 'numpy.float32'>'\n",
       "\twith 105450 stored elements in Compressed Sparse Row format>"
      ]
     },
     "execution_count": 30,
     "metadata": {},
     "output_type": "execute_result"
    }
   ],
   "source": [
    "corr_adata[corr_adata.obs_names.isin(sig_dmrs), :]"
   ]
  },
  {
   "cell_type": "code",
   "execution_count": null,
   "metadata": {},
   "outputs": [],
   "source": []
  },
  {
   "cell_type": "code",
   "execution_count": null,
   "metadata": {},
   "outputs": [],
   "source": []
  }
 ],
 "metadata": {
  "hide_input": false,
  "kernelspec": {
   "display_name": "Python 3",
   "language": "python",
   "name": "python3"
  },
  "language_info": {
   "codemirror_mode": {
    "name": "ipython",
    "version": 3
   },
   "file_extension": ".py",
   "mimetype": "text/x-python",
   "name": "python",
   "nbconvert_exporter": "python",
   "pygments_lexer": "ipython3",
   "version": "3.7.3"
  },
  "toc": {
   "base_numbering": 1,
   "nav_menu": {},
   "number_sections": true,
   "sideBar": true,
   "skip_h1_title": true,
   "title_cell": "Table of Contents",
   "title_sidebar": "Contents",
   "toc_cell": false,
   "toc_position": {},
   "toc_section_display": true,
   "toc_window_display": true
  }
 },
 "nbformat": 4,
 "nbformat_minor": 2
}
