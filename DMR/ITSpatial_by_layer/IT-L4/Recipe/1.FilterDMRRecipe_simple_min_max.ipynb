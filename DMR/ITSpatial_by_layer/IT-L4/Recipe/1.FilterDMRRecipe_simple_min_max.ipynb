{
 "cells": [
  {
   "cell_type": "code",
   "execution_count": 1,
   "metadata": {
    "ExecuteTime": {
     "end_time": "2020-01-12T04:21:50.387038Z",
     "start_time": "2020-01-12T04:21:49.636822Z"
    },
    "papermill": {
     "duration": 1.931249,
     "end_time": "2020-01-12T04:19:19.162444",
     "exception": false,
     "start_time": "2020-01-12T04:19:17.231195",
     "status": "completed"
    },
    "tags": []
   },
   "outputs": [],
   "source": [
    "import pathlib\n",
    "import numpy as np\n",
    "import pandas as pd\n",
    "from scipy.sparse import csr_matrix\n",
    "import anndata\n",
    "from pybedtools import BedTool"
   ]
  },
  {
   "cell_type": "markdown",
   "metadata": {
    "ExecuteTime": {
     "end_time": "2020-01-10T03:41:10.279754Z",
     "start_time": "2020-01-10T03:41:10.259634Z"
    },
    "papermill": {
     "duration": 0.010118,
     "end_time": "2020-01-12T04:19:19.183268",
     "exception": false,
     "start_time": "2020-01-12T04:19:19.173150",
     "status": "completed"
    },
    "tags": []
   },
   "source": [
    "## Parameter"
   ]
  },
  {
   "cell_type": "code",
   "execution_count": 2,
   "metadata": {
    "ExecuteTime": {
     "end_time": "2020-01-12T04:21:50.393852Z",
     "start_time": "2020-01-12T04:21:50.389536Z"
    },
    "papermill": {
     "duration": 0.014892,
     "end_time": "2020-01-12T04:19:19.206988",
     "exception": false,
     "start_time": "2020-01-12T04:19:19.192096",
     "status": "completed"
    },
    "tags": [
     "parameters"
    ]
   },
   "outputs": [],
   "source": [
    "dmr_path = '/home/hanliu/project/mouse_rostral_brain/DMR/DGmCHGroup/DMR/axis-mch_rms_results_collapsed.tsv'\n",
    "dmr_prefix = 'DGmCH'\n",
    "\n",
    "black_list_path = '/home/hanliu/ref/blacklist/mm10-blacklist.v2.bed.gz'\n",
    "delta_cutoff=0.3\n",
    "dms_cutoff = 1"
   ]
  },
  {
   "cell_type": "code",
   "execution_count": 3,
   "metadata": {
    "ExecuteTime": {
     "end_time": "2020-01-12T04:21:50.400104Z",
     "start_time": "2020-01-12T04:21:50.396562Z"
    },
    "papermill": {
     "duration": 0.014053,
     "end_time": "2020-01-12T04:19:19.230141",
     "exception": false,
     "start_time": "2020-01-12T04:19:19.216088",
     "status": "completed"
    },
    "tags": [
     "injected-parameters"
    ]
   },
   "outputs": [],
   "source": [
    "# Parameters\n",
    "dmr_path = \"/home/hanliu/project/mouse_rostral_brain/DMR/ITSpatial_by_layer/IT-L4/IT-L4_rms_results_collapsed.tsv\"\n",
    "dmr_prefix = \"DGm3c\"\n",
    "black_list_path = \"/home/hanliu/ref/blacklist/mm10-blacklist.v2.bed.gz\"\n",
    "delta_cutoff = 0.3\n",
    "dms_cutoff = 1\n"
   ]
  },
  {
   "cell_type": "markdown",
   "metadata": {
    "papermill": {
     "duration": 0.008978,
     "end_time": "2020-01-12T04:19:19.247990",
     "exception": false,
     "start_time": "2020-01-12T04:19:19.239012",
     "status": "completed"
    },
    "tags": []
   },
   "source": [
    "## Read DMR"
   ]
  },
  {
   "cell_type": "code",
   "execution_count": 4,
   "metadata": {
    "ExecuteTime": {
     "end_time": "2020-01-12T04:21:50.828533Z",
     "start_time": "2020-01-12T04:21:50.406832Z"
    },
    "papermill": {
     "duration": 0.241778,
     "end_time": "2020-01-12T04:19:19.498849",
     "exception": false,
     "start_time": "2020-01-12T04:19:19.257071",
     "status": "completed"
    },
    "scrolled": true,
    "tags": []
   },
   "outputs": [
    {
     "name": "stdout",
     "output_type": "stream",
     "text": [
      "155288 dmr before filter\n"
     ]
    }
   ],
   "source": [
    "# get column and n_sample\n",
    "dmr_column = pd.read_csv(dmr_path, sep='\\t', nrows=0).columns\n",
    "n_sample = dmr_column.size - 6\n",
    "dmr_column = dmr_column.map(lambda i: i[18:] if 'methylation_level_' in i else i)\n",
    "samples = dmr_column[6:]\n",
    "\n",
    "dmr_region_infos = []\n",
    "mc_rates = []\n",
    "hypo_sig_dict = {sample: [] for sample in samples}\n",
    "hyper_sig_dict = {sample: [] for sample in samples}\n",
    "\n",
    "dmr_df = pd.read_csv(dmr_path, sep='\\t', skiprows=1, names=dmr_column)\n",
    "print(dmr_df.shape[0], 'dmr before filter')\n",
    "dmr_df.index = dmr_df.index.map(lambda i: f'{dmr_prefix}_{i}')\n",
    "\n",
    "# save raw info\n",
    "dmr_bed = dmr_df.iloc[:, :4].copy()\n",
    "mc_rate = dmr_df.iloc[:, 6:].copy()"
   ]
  },
  {
   "cell_type": "markdown",
   "metadata": {
    "papermill": {
     "duration": 0.009234,
     "end_time": "2020-01-12T04:19:19.518322",
     "exception": false,
     "start_time": "2020-01-12T04:19:19.509088",
     "status": "completed"
    },
    "tags": []
   },
   "source": [
    "## Save unfiltered dmr info"
   ]
  },
  {
   "cell_type": "code",
   "execution_count": 5,
   "metadata": {
    "ExecuteTime": {
     "end_time": "2020-01-12T04:21:51.543283Z",
     "start_time": "2020-01-12T04:21:50.880373Z"
    },
    "papermill": {
     "duration": 1.065603,
     "end_time": "2020-01-12T04:19:20.593208",
     "exception": false,
     "start_time": "2020-01-12T04:19:19.527605",
     "status": "completed"
    },
    "tags": []
   },
   "outputs": [],
   "source": [
    "with pd.HDFStore(pathlib.Path(dmr_path).parent / 'DMRInfo.h5') as hdf:\n",
    "    hdf['Rate'] = mc_rate\n",
    "    hdf['Bed'] = dmr_bed"
   ]
  },
  {
   "cell_type": "code",
   "execution_count": 6,
   "metadata": {
    "ExecuteTime": {
     "end_time": "2020-01-12T04:21:52.441271Z",
     "start_time": "2020-01-12T04:21:51.546068Z"
    },
    "papermill": {
     "duration": 0.438285,
     "end_time": "2020-01-12T04:19:21.042048",
     "exception": false,
     "start_time": "2020-01-12T04:19:20.603763",
     "status": "completed"
    },
    "tags": []
   },
   "outputs": [],
   "source": [
    "dmr_bed.reset_index().iloc[:, [1, 2, 3, 0]].to_csv(pathlib.Path(dmr_path).parent / 'TotalDMR.nofilter.bed', \n",
    "                                                   index=None, header=None, sep='\\t')"
   ]
  },
  {
   "cell_type": "markdown",
   "metadata": {
    "papermill": {
     "duration": 0.0093,
     "end_time": "2020-01-12T04:19:21.061538",
     "exception": false,
     "start_time": "2020-01-12T04:19:21.052238",
     "status": "completed"
    },
    "tags": []
   },
   "source": [
    "## Filter DMR"
   ]
  },
  {
   "cell_type": "code",
   "execution_count": 7,
   "metadata": {
    "ExecuteTime": {
     "end_time": "2020-01-12T04:21:52.494798Z",
     "start_time": "2020-01-12T04:21:52.443906Z"
    },
    "papermill": {
     "duration": 0.053856,
     "end_time": "2020-01-12T04:19:21.124778",
     "exception": false,
     "start_time": "2020-01-12T04:19:21.070922",
     "status": "completed"
    },
    "tags": []
   },
   "outputs": [
    {
     "name": "stdout",
     "output_type": "stream",
     "text": [
      "114423 dmr pass delta filter\n"
     ]
    }
   ],
   "source": [
    "# filter by delta\n",
    "delta_judge = (mc_rate.max(axis=1) - mc_rate.min(axis=1)) > delta_cutoff\n",
    "delta_index = mc_rate.index[delta_judge]\n",
    "\n",
    "print(delta_index.size, 'dmr pass delta filter')"
   ]
  },
  {
   "cell_type": "code",
   "execution_count": 8,
   "metadata": {
    "ExecuteTime": {
     "end_time": "2020-01-12T04:21:54.511531Z",
     "start_time": "2020-01-12T04:21:52.738968Z"
    },
    "papermill": {
     "duration": 0.830433,
     "end_time": "2020-01-12T04:19:21.965122",
     "exception": false,
     "start_time": "2020-01-12T04:19:21.134689",
     "status": "completed"
    },
    "tags": []
   },
   "outputs": [
    {
     "name": "stdout",
     "output_type": "stream",
     "text": [
      "153549 dmr pass blacklist filter\n"
     ]
    }
   ],
   "source": [
    "# filter by blacklist\n",
    "black_list = pd.read_csv(black_list_path, sep='\\t', header=None)\n",
    "black_list = BedTool.from_dataframe(black_list)\n",
    "\n",
    "_dmr_bed = BedTool.from_dataframe(dmr_bed.reset_index().iloc[:, [1,2,3,0]])\n",
    "filtered_dmr_bed = _dmr_bed.intersect(black_list, v=True).to_dataframe().set_index('name')\n",
    "\n",
    "white_index = filtered_dmr_bed.index\n",
    "\n",
    "print(white_index.size, 'dmr pass blacklist filter')"
   ]
  },
  {
   "cell_type": "code",
   "execution_count": 9,
   "metadata": {
    "ExecuteTime": {
     "end_time": "2020-01-12T04:21:55.474026Z",
     "start_time": "2020-01-12T04:21:55.158238Z"
    },
    "papermill": {
     "duration": 0.169148,
     "end_time": "2020-01-12T04:19:22.145343",
     "exception": false,
     "start_time": "2020-01-12T04:19:21.976195",
     "status": "completed"
    },
    "tags": []
   },
   "outputs": [
    {
     "name": "stdout",
     "output_type": "stream",
     "text": [
      "113276 dmr after filter\n"
     ]
    },
    {
     "data": {
      "text/html": [
       "<div>\n",
       "<style scoped>\n",
       "    .dataframe tbody tr th:only-of-type {\n",
       "        vertical-align: middle;\n",
       "    }\n",
       "\n",
       "    .dataframe tbody tr th {\n",
       "        vertical-align: top;\n",
       "    }\n",
       "\n",
       "    .dataframe thead th {\n",
       "        text-align: right;\n",
       "    }\n",
       "</style>\n",
       "<table border=\"1\" class=\"dataframe\">\n",
       "  <thead>\n",
       "    <tr style=\"text-align: right;\">\n",
       "      <th></th>\n",
       "      <th>#chr</th>\n",
       "      <th>start</th>\n",
       "      <th>end</th>\n",
       "      <th>number_of_dms</th>\n",
       "      <th>hypermethylated_samples</th>\n",
       "      <th>hypomethylated_samples</th>\n",
       "      <th>IT-L4+MOs</th>\n",
       "      <th>IT-L4+MOp</th>\n",
       "      <th>IT-L4+SSp</th>\n",
       "      <th>IT-L4+SSs</th>\n",
       "    </tr>\n",
       "  </thead>\n",
       "  <tbody>\n",
       "    <tr>\n",
       "      <th>DGm3c_0</th>\n",
       "      <td>chr1</td>\n",
       "      <td>3015124</td>\n",
       "      <td>3015124</td>\n",
       "      <td>1</td>\n",
       "      <td>NaN</td>\n",
       "      <td>NaN</td>\n",
       "      <td>0.952381</td>\n",
       "      <td>0.903846</td>\n",
       "      <td>0.725490</td>\n",
       "      <td>0.550000</td>\n",
       "    </tr>\n",
       "    <tr>\n",
       "      <th>DGm3c_1</th>\n",
       "      <td>chr1</td>\n",
       "      <td>3034471</td>\n",
       "      <td>3034471</td>\n",
       "      <td>1</td>\n",
       "      <td>IT-L4+MOp</td>\n",
       "      <td>IT-L4+SSp</td>\n",
       "      <td>0.850000</td>\n",
       "      <td>0.863636</td>\n",
       "      <td>0.372881</td>\n",
       "      <td>0.658537</td>\n",
       "    </tr>\n",
       "    <tr>\n",
       "      <th>DGm3c_2</th>\n",
       "      <td>chr1</td>\n",
       "      <td>3057873</td>\n",
       "      <td>3057873</td>\n",
       "      <td>1</td>\n",
       "      <td>IT-L4+MOp</td>\n",
       "      <td>IT-L4+SSp,IT-L4+SSs</td>\n",
       "      <td>0.807692</td>\n",
       "      <td>0.887324</td>\n",
       "      <td>0.560976</td>\n",
       "      <td>0.489362</td>\n",
       "    </tr>\n",
       "    <tr>\n",
       "      <th>DGm3c_4</th>\n",
       "      <td>chr1</td>\n",
       "      <td>3247473</td>\n",
       "      <td>3247473</td>\n",
       "      <td>1</td>\n",
       "      <td>IT-L4+SSp</td>\n",
       "      <td>IT-L4+MOs</td>\n",
       "      <td>0.476190</td>\n",
       "      <td>0.622047</td>\n",
       "      <td>0.800000</td>\n",
       "      <td>0.797468</td>\n",
       "    </tr>\n",
       "    <tr>\n",
       "      <th>DGm3c_5</th>\n",
       "      <td>chr1</td>\n",
       "      <td>3309857</td>\n",
       "      <td>3309857</td>\n",
       "      <td>1</td>\n",
       "      <td>IT-L4+SSs</td>\n",
       "      <td>IT-L4+MOs,IT-L4+MOp</td>\n",
       "      <td>0.033333</td>\n",
       "      <td>0.205128</td>\n",
       "      <td>0.493976</td>\n",
       "      <td>0.612903</td>\n",
       "    </tr>\n",
       "  </tbody>\n",
       "</table>\n",
       "</div>"
      ],
      "text/plain": [
       "         #chr    start      end  number_of_dms hypermethylated_samples  \\\n",
       "DGm3c_0  chr1  3015124  3015124              1                     NaN   \n",
       "DGm3c_1  chr1  3034471  3034471              1               IT-L4+MOp   \n",
       "DGm3c_2  chr1  3057873  3057873              1               IT-L4+MOp   \n",
       "DGm3c_4  chr1  3247473  3247473              1               IT-L4+SSp   \n",
       "DGm3c_5  chr1  3309857  3309857              1               IT-L4+SSs   \n",
       "\n",
       "        hypomethylated_samples  IT-L4+MOs  IT-L4+MOp  IT-L4+SSp  IT-L4+SSs  \n",
       "DGm3c_0                    NaN   0.952381   0.903846   0.725490   0.550000  \n",
       "DGm3c_1              IT-L4+SSp   0.850000   0.863636   0.372881   0.658537  \n",
       "DGm3c_2    IT-L4+SSp,IT-L4+SSs   0.807692   0.887324   0.560976   0.489362  \n",
       "DGm3c_4              IT-L4+MOs   0.476190   0.622047   0.800000   0.797468  \n",
       "DGm3c_5    IT-L4+MOs,IT-L4+MOp   0.033333   0.205128   0.493976   0.612903  "
      ]
     },
     "execution_count": 9,
     "metadata": {},
     "output_type": "execute_result"
    }
   ],
   "source": [
    "dmr_df = dmr_df.loc[delta_index & white_index]\n",
    "dmr_df = dmr_df[dmr_df['number_of_dms'] >= dms_cutoff]\n",
    "print(dmr_df.shape[0], 'dmr after filter')\n",
    "dmr_df.head()"
   ]
  },
  {
   "cell_type": "markdown",
   "metadata": {
    "papermill": {
     "duration": 0.010491,
     "end_time": "2020-01-12T04:19:22.167060",
     "exception": false,
     "start_time": "2020-01-12T04:19:22.156569",
     "status": "completed"
    },
    "tags": []
   },
   "source": [
    "## Assign DMR to each sample"
   ]
  },
  {
   "cell_type": "code",
   "execution_count": 10,
   "metadata": {
    "ExecuteTime": {
     "end_time": "2020-01-12T04:22:01.828918Z",
     "start_time": "2020-01-12T04:22:01.393062Z"
    },
    "papermill": {
     "duration": 0.026114,
     "end_time": "2020-01-12T04:19:22.203406",
     "exception": false,
     "start_time": "2020-01-12T04:19:22.177292",
     "status": "completed"
    },
    "tags": []
   },
   "outputs": [
    {
     "name": "stdout",
     "output_type": "stream",
     "text": [
      "IT-L4+MOs\tHypoDMR \t36040\n",
      "IT-L4+MOs\tHyperDMR\t32758\n",
      "IT-L4+MOp\tHypoDMR \t33415\n",
      "IT-L4+MOp\tHyperDMR\t36900\n",
      "IT-L4+SSp\tHypoDMR \t40120\n",
      "IT-L4+SSp\tHyperDMR\t42782\n",
      "IT-L4+SSs\tHypoDMR \t27491\n",
      "IT-L4+SSs\tHyperDMR\t21320\n"
     ]
    }
   ],
   "source": [
    "# parse results\n",
    "for sample in samples:\n",
    "    # here saved a list of np.array\n",
    "    hypo_index = dmr_df[dmr_df['hypomethylated_samples'].fillna('').apply(lambda i: sample in i)].index\n",
    "    hyper_index = dmr_df[dmr_df['hypermethylated_samples'].fillna('').apply(lambda i: sample in i)].index\n",
    "    hypo_sig_dict[sample] = hypo_index\n",
    "    hyper_sig_dict[sample] = hyper_index\n",
    "    print(sample, 'HypoDMR ', hypo_index.size, sep='\\t')\n",
    "    print(sample, 'HyperDMR', hyper_index.size, sep='\\t')\n"
   ]
  },
  {
   "cell_type": "code",
   "execution_count": 11,
   "metadata": {
    "ExecuteTime": {
     "end_time": "2020-01-12T04:22:05.802142Z",
     "start_time": "2020-01-12T04:22:05.633505Z"
    },
    "papermill": {
     "duration": 0.050567,
     "end_time": "2020-01-12T04:19:22.264730",
     "exception": false,
     "start_time": "2020-01-12T04:19:22.214163",
     "status": "completed"
    },
    "tags": []
   },
   "outputs": [
    {
     "name": "stderr",
     "output_type": "stream",
     "text": [
      "/home/hanliu/miniconda3/envs/clustering/lib/python3.7/site-packages/tables/path.py:157: NaturalNameWarning: object name is not a valid Python identifier: 'IT-L4+MOs'; it does not match the pattern ``^[a-zA-Z_][a-zA-Z0-9_]*$``; you will not be able to use natural naming to access this object; using ``getattr()`` will still work, though\n",
      "  check_attribute_name(name)\n",
      "/home/hanliu/miniconda3/envs/clustering/lib/python3.7/site-packages/tables/path.py:157: NaturalNameWarning: object name is not a valid Python identifier: 'IT-L4+MOp'; it does not match the pattern ``^[a-zA-Z_][a-zA-Z0-9_]*$``; you will not be able to use natural naming to access this object; using ``getattr()`` will still work, though\n",
      "  check_attribute_name(name)\n",
      "/home/hanliu/miniconda3/envs/clustering/lib/python3.7/site-packages/tables/path.py:157: NaturalNameWarning: object name is not a valid Python identifier: 'IT-L4+SSp'; it does not match the pattern ``^[a-zA-Z_][a-zA-Z0-9_]*$``; you will not be able to use natural naming to access this object; using ``getattr()`` will still work, though\n",
      "  check_attribute_name(name)\n",
      "/home/hanliu/miniconda3/envs/clustering/lib/python3.7/site-packages/tables/path.py:157: NaturalNameWarning: object name is not a valid Python identifier: 'IT-L4+SSs'; it does not match the pattern ``^[a-zA-Z_][a-zA-Z0-9_]*$``; you will not be able to use natural naming to access this object; using ``getattr()`` will still work, though\n",
      "  check_attribute_name(name)\n"
     ]
    }
   ],
   "source": [
    "with pd.HDFStore(pathlib.Path(dmr_path).parent / 'DMRInfo.h5') as hdf:\n",
    "    for sample, hypo_index in hypo_sig_dict.items():\n",
    "        hdf[f'HypoDMR/{sample}'] = pd.Series(hypo_index)\n",
    "    for sample, hyper_index in hyper_sig_dict.items():\n",
    "        hdf[f'HyperDMR/{sample}'] = pd.Series(hyper_index)"
   ]
  },
  {
   "cell_type": "markdown",
   "metadata": {
    "papermill": {
     "duration": 0.010774,
     "end_time": "2020-01-12T04:19:22.287142",
     "exception": false,
     "start_time": "2020-01-12T04:19:22.276368",
     "status": "completed"
    },
    "scrolled": true,
    "tags": []
   },
   "source": [
    "## Dump DMR bed"
   ]
  },
  {
   "cell_type": "code",
   "execution_count": 12,
   "metadata": {
    "ExecuteTime": {
     "end_time": "2020-01-12T04:22:08.600829Z",
     "start_time": "2020-01-12T04:22:07.570148Z"
    },
    "papermill": {
     "duration": 0.041455,
     "end_time": "2020-01-12T04:19:22.338919",
     "exception": false,
     "start_time": "2020-01-12T04:19:22.297464",
     "status": "completed"
    },
    "tags": []
   },
   "outputs": [],
   "source": [
    "hypo_dir = pathlib.Path(dmr_path).parent / 'HypoDMR'\n",
    "hypo_dir.mkdir(exist_ok=True)\n",
    "for sample, hypo_index in hypo_sig_dict.items():\n",
    "    _bed = dmr_bed.loc[hypo_index].reset_index().iloc[:, [1, 2, 3, 0]].to_csv(\n",
    "        hypo_dir / f'{sample}.DMS{dms_cutoff}.bed', sep='\\t', index=None, header=None)"
   ]
  },
  {
   "cell_type": "code",
   "execution_count": 13,
   "metadata": {
    "ExecuteTime": {
     "end_time": "2020-01-12T04:22:09.672616Z",
     "start_time": "2020-01-12T04:22:08.604228Z"
    },
    "papermill": {
     "duration": 0.042742,
     "end_time": "2020-01-12T04:19:22.392383",
     "exception": false,
     "start_time": "2020-01-12T04:19:22.349641",
     "status": "completed"
    },
    "tags": []
   },
   "outputs": [],
   "source": [
    "hyper_dir = pathlib.Path(dmr_path).parent / 'HyperDMR'\n",
    "hyper_dir.mkdir(exist_ok=True)\n",
    "for sample, hyper_index in hyper_sig_dict.items():\n",
    "    _bed = dmr_bed.loc[hyper_index].reset_index().iloc[:, [1, 2, 3, 0]].to_csv(\n",
    "        hyper_dir / f'{sample}.DMS{dms_cutoff}.bed', sep='\\t', index=None, header=None)"
   ]
  },
  {
   "cell_type": "markdown",
   "metadata": {
    "papermill": {
     "duration": 0.010954,
     "end_time": "2020-01-12T04:19:22.415149",
     "exception": false,
     "start_time": "2020-01-12T04:19:22.404195",
     "status": "completed"
    },
    "tags": []
   },
   "source": [
    "## DMR hits matrix"
   ]
  },
  {
   "cell_type": "code",
   "execution_count": 14,
   "metadata": {
    "ExecuteTime": {
     "end_time": "2020-01-12T04:22:10.379340Z",
     "start_time": "2020-01-12T04:22:09.675393Z"
    },
    "papermill": {
     "duration": 0.3046,
     "end_time": "2020-01-12T04:19:22.730478",
     "exception": false,
     "start_time": "2020-01-12T04:19:22.425878",
     "status": "completed"
    },
    "tags": []
   },
   "outputs": [
    {
     "name": "stderr",
     "output_type": "stream",
     "text": [
      "... storing '#chr' as categorical\n"
     ]
    }
   ],
   "source": [
    "sig_dict = hypo_sig_dict\n",
    "\n",
    "rows = []\n",
    "cols = []\n",
    "datas = []\n",
    "for i, (sample, dmr_index) in enumerate(sig_dict.items()):\n",
    "    col = dmr_index.map(lambda i: i.split('_')[1]).astype(int).values\n",
    "    row = (np.ones_like(col) * i).astype(int)\n",
    "    data = np.ones_like(col)\n",
    "    rows.append(row)\n",
    "    cols.append(col)\n",
    "    datas.append(data)\n",
    "datas = np.concatenate(datas)\n",
    "cols = np.concatenate(cols)\n",
    "rows = np.concatenate(rows)\n",
    "hits = csr_matrix((datas, (rows, cols)),\n",
    "                  shape=(mc_rate.shape[1], dmr_bed.shape[0]))\n",
    "\n",
    "# obs is DMR, var is sample, because all analysis is dmr focused\n",
    "dmr_hits = anndata.AnnData(X=hits.T,\n",
    "                           obs=dmr_bed,\n",
    "                           var=pd.DataFrame([], index=mc_rate.columns))\n",
    "\n",
    "dmr_hits.write_h5ad(hypo_dir / 'TotalHits.h5ad')\n"
   ]
  },
  {
   "cell_type": "code",
   "execution_count": 15,
   "metadata": {
    "ExecuteTime": {
     "end_time": "2020-01-12T04:22:11.082720Z",
     "start_time": "2020-01-12T04:22:10.381745Z"
    },
    "papermill": {
     "duration": 0.304924,
     "end_time": "2020-01-12T04:19:23.047095",
     "exception": false,
     "start_time": "2020-01-12T04:19:22.742171",
     "status": "completed"
    },
    "tags": []
   },
   "outputs": [
    {
     "name": "stderr",
     "output_type": "stream",
     "text": [
      "... storing '#chr' as categorical\n"
     ]
    }
   ],
   "source": [
    "sig_dict = hyper_sig_dict\n",
    "\n",
    "rows = []\n",
    "cols = []\n",
    "datas = []\n",
    "for i, (sample, dmr_index) in enumerate(sig_dict.items()):\n",
    "    col = dmr_index.map(lambda i: i.split('_')[1]).astype(int).values\n",
    "    row = (np.ones_like(col) * i).astype(int)\n",
    "    data = np.ones_like(col)\n",
    "    rows.append(row)\n",
    "    cols.append(col)\n",
    "    datas.append(data)\n",
    "datas = np.concatenate(datas)\n",
    "cols = np.concatenate(cols)\n",
    "rows = np.concatenate(rows)\n",
    "hits = csr_matrix((datas, (rows, cols)),\n",
    "                  shape=(mc_rate.shape[1], dmr_bed.shape[0]))\n",
    "\n",
    "# obs is DMR, var is sample, because all analysis is dmr focused\n",
    "dmr_hits = anndata.AnnData(X=hits.T,\n",
    "                           obs=dmr_bed,\n",
    "                           var=pd.DataFrame([], index=mc_rate.columns))\n",
    "\n",
    "dmr_hits.write_h5ad(hyper_dir / 'TotalHits.h5ad')"
   ]
  },
  {
   "cell_type": "code",
   "execution_count": null,
   "metadata": {
    "papermill": {
     "duration": 0.01106,
     "end_time": "2020-01-12T04:19:23.069152",
     "exception": false,
     "start_time": "2020-01-12T04:19:23.058092",
     "status": "completed"
    },
    "tags": []
   },
   "outputs": [],
   "source": []
  },
  {
   "cell_type": "code",
   "execution_count": null,
   "metadata": {
    "papermill": {
     "duration": 0.011604,
     "end_time": "2020-01-12T04:19:23.093056",
     "exception": false,
     "start_time": "2020-01-12T04:19:23.081452",
     "status": "completed"
    },
    "tags": []
   },
   "outputs": [],
   "source": []
  },
  {
   "cell_type": "code",
   "execution_count": null,
   "metadata": {
    "papermill": {
     "duration": 0.011018,
     "end_time": "2020-01-12T04:19:23.115238",
     "exception": false,
     "start_time": "2020-01-12T04:19:23.104220",
     "status": "completed"
    },
    "tags": []
   },
   "outputs": [],
   "source": []
  }
 ],
 "metadata": {
  "hide_input": false,
  "kernelspec": {
   "display_name": "Python 3",
   "language": "python",
   "name": "python3"
  },
  "language_info": {
   "codemirror_mode": {
    "name": "ipython",
    "version": 3
   },
   "file_extension": ".py",
   "mimetype": "text/x-python",
   "name": "python",
   "nbconvert_exporter": "python",
   "pygments_lexer": "ipython3",
   "version": "3.7.3"
  },
  "papermill": {
   "duration": 7.082362,
   "end_time": "2020-01-12T04:19:23.432781",
   "environment_variables": {},
   "exception": null,
   "input_path": "1.FilterDMRRecipe_simple_min_max.ipynb",
   "output_path": "/home/hanliu/project/mouse_rostral_brain/DMR/ITSpatial_by_layer/IT-L4/Recipe/1.FilterDMRRecipe_simple_min_max.ipynb",
   "parameters": {
    "black_list_path": "/home/hanliu/ref/blacklist/mm10-blacklist.v2.bed.gz",
    "delta_cutoff": 0.3,
    "dmr_path": "/home/hanliu/project/mouse_rostral_brain/DMR/ITSpatial_by_layer/IT-L4/IT-L4_rms_results_collapsed.tsv",
    "dmr_prefix": "DGm3c",
    "dms_cutoff": 1
   },
   "start_time": "2020-01-12T04:19:16.350419",
   "version": "1.0.1"
  },
  "toc": {
   "base_numbering": 1,
   "nav_menu": {},
   "number_sections": true,
   "sideBar": true,
   "skip_h1_title": true,
   "title_cell": "Table of Contents",
   "title_sidebar": "Contents",
   "toc_cell": false,
   "toc_position": {},
   "toc_section_display": true,
   "toc_window_display": true
  }
 },
 "nbformat": 4,
 "nbformat_minor": 2
}
