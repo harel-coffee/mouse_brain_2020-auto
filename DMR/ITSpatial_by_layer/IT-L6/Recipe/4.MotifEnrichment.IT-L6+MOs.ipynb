{
 "cells": [
  {
   "cell_type": "markdown",
   "metadata": {
    "papermill": {
     "duration": 0.009734,
     "end_time": "2020-01-14T06:48:58.520110",
     "exception": false,
     "start_time": "2020-01-14T06:48:58.510376",
     "status": "completed"
    },
    "tags": []
   },
   "source": [
    "# Motif Enrichment\n",
    "- The motif hits matrix save the max loglikelyhood score of a motif in that DMR\n",
    "- Before run the motif enrichment, I filter the scores for each motif using cutoff defined by\n",
    "    - `np.quantile(motif_score[motif_score > 0]) * mask_quantile_to99`\n",
    "- This filter will remove hits with low score, which is likely to be false positive\n",
    "- Its likely boosting the significance of real enrichment"
   ]
  },
  {
   "cell_type": "code",
   "execution_count": 1,
   "metadata": {
    "ExecuteTime": {
     "end_time": "2020-01-17T05:01:43.688921Z",
     "start_time": "2020-01-17T05:01:42.981057Z"
    },
    "papermill": {
     "duration": 0.687255,
     "end_time": "2020-01-14T06:48:59.217707",
     "exception": false,
     "start_time": "2020-01-14T06:48:58.530452",
     "status": "completed"
    },
    "tags": []
   },
   "outputs": [],
   "source": [
    "from concurrent.futures import ProcessPoolExecutor, as_completed\n",
    "import anndata\n",
    "import matplotlib.pyplot as plt\n",
    "import numpy as np\n",
    "import pandas as pd\n",
    "import pybedtools\n",
    "import scipy.stats as stats\n",
    "import seaborn as sns\n",
    "from scipy.sparse import csr_matrix\n",
    "from statsmodels.stats.multitest import multipletests\n",
    "import pathlib"
   ]
  },
  {
   "cell_type": "code",
   "execution_count": 2,
   "metadata": {
    "ExecuteTime": {
     "end_time": "2020-01-17T05:01:43.693833Z",
     "start_time": "2020-01-17T05:01:43.691039Z"
    },
    "papermill": {
     "duration": 0.015842,
     "end_time": "2020-01-14T06:48:59.244004",
     "exception": false,
     "start_time": "2020-01-14T06:48:59.228162",
     "status": "completed"
    },
    "tags": [
     "parameters"
    ]
   },
   "outputs": [],
   "source": [
    "mask_quantile_to99 = 0.9\n",
    "or_cutoff = 1.5\n",
    "neg_lgp_cutoff = 10\n",
    "group = 'IT-L23+ACA'\n",
    "\n",
    "motif_hits_path = '/home/hanliu/project/mouse_rostral_brain/DMR/ITSpatial_by_layer/IT-L23/MotifScan.h5ad'\n",
    "dmr_hits_path = f'/home/hanliu/project/mouse_rostral_brain/DMR/ITSpatial_by_layer/IT-L23/HypoDMR/{group}.DMS1.bed'\n",
    "output_dir = '/home/hanliu/project/mouse_rostral_brain/DMR/ITSpatial_by_layer/IT-L23/MotifEnrichment'\n"
   ]
  },
  {
   "cell_type": "code",
   "execution_count": 3,
   "metadata": {
    "ExecuteTime": {
     "end_time": "2020-01-17T05:01:43.697565Z",
     "start_time": "2020-01-17T05:01:43.695274Z"
    },
    "papermill": {
     "duration": 0.014507,
     "end_time": "2020-01-14T06:48:59.267724",
     "exception": false,
     "start_time": "2020-01-14T06:48:59.253217",
     "status": "completed"
    },
    "tags": [
     "injected-parameters"
    ]
   },
   "outputs": [],
   "source": [
    "# Parameters\n",
    "mask_quantile_to99 = 0.9\n",
    "or_cutoff = 1.5\n",
    "neg_lgp_cutoff = 10\n",
    "group = \"IT-L6+MOs\"\n",
    "motif_hits_path = \"/home/hanliu/project/mouse_rostral_brain/DMR/ITSpatial_by_layer/IT-L6/MotifScan.h5ad\"\n",
    "dmr_hits_path = \"/home/hanliu/project/mouse_rostral_brain/DMR/ITSpatial_by_layer/IT-L6/HypoDMR/IT-L6+MOs.DMS1.bed\"\n",
    "output_dir = \"/home/hanliu/project/mouse_rostral_brain/DMR/ITSpatial_by_layer/IT-L6/MotifEnrichment\"\n"
   ]
  },
  {
   "cell_type": "code",
   "execution_count": 4,
   "metadata": {
    "ExecuteTime": {
     "end_time": "2020-01-17T05:01:43.700962Z",
     "start_time": "2020-01-17T05:01:43.698828Z"
    },
    "papermill": {
     "duration": 0.014292,
     "end_time": "2020-01-14T06:48:59.291178",
     "exception": false,
     "start_time": "2020-01-14T06:48:59.276886",
     "status": "completed"
    },
    "tags": []
   },
   "outputs": [],
   "source": [
    "output_dir = pathlib.Path(output_dir)\n",
    "output_dir.mkdir(exist_ok=True)"
   ]
  },
  {
   "cell_type": "markdown",
   "metadata": {
    "papermill": {
     "duration": 0.009354,
     "end_time": "2020-01-14T06:48:59.309774",
     "exception": false,
     "start_time": "2020-01-14T06:48:59.300420",
     "status": "completed"
    },
    "tags": []
   },
   "source": [
    "## DMR hits"
   ]
  },
  {
   "cell_type": "code",
   "execution_count": 5,
   "metadata": {
    "ExecuteTime": {
     "end_time": "2020-01-17T05:01:43.737550Z",
     "start_time": "2020-01-17T05:01:43.702216Z"
    },
    "papermill": {
     "duration": 0.055629,
     "end_time": "2020-01-14T06:48:59.374913",
     "exception": false,
     "start_time": "2020-01-14T06:48:59.319284",
     "status": "completed"
    },
    "tags": []
   },
   "outputs": [
    {
     "data": {
      "text/html": [
       "<div>\n",
       "<style scoped>\n",
       "    .dataframe tbody tr th:only-of-type {\n",
       "        vertical-align: middle;\n",
       "    }\n",
       "\n",
       "    .dataframe tbody tr th {\n",
       "        vertical-align: top;\n",
       "    }\n",
       "\n",
       "    .dataframe thead th {\n",
       "        text-align: right;\n",
       "    }\n",
       "</style>\n",
       "<table border=\"1\" class=\"dataframe\">\n",
       "  <thead>\n",
       "    <tr style=\"text-align: right;\">\n",
       "      <th></th>\n",
       "      <th>0</th>\n",
       "      <th>1</th>\n",
       "      <th>2</th>\n",
       "    </tr>\n",
       "    <tr>\n",
       "      <th>3</th>\n",
       "      <th></th>\n",
       "      <th></th>\n",
       "      <th></th>\n",
       "    </tr>\n",
       "  </thead>\n",
       "  <tbody>\n",
       "    <tr>\n",
       "      <th>DGm3c_8</th>\n",
       "      <td>chr1</td>\n",
       "      <td>3217169</td>\n",
       "      <td>3217169</td>\n",
       "    </tr>\n",
       "    <tr>\n",
       "      <th>DGm3c_17</th>\n",
       "      <td>chr1</td>\n",
       "      <td>3324541</td>\n",
       "      <td>3324586</td>\n",
       "    </tr>\n",
       "    <tr>\n",
       "      <th>DGm3c_18</th>\n",
       "      <td>chr1</td>\n",
       "      <td>3327526</td>\n",
       "      <td>3327550</td>\n",
       "    </tr>\n",
       "    <tr>\n",
       "      <th>DGm3c_24</th>\n",
       "      <td>chr1</td>\n",
       "      <td>3371830</td>\n",
       "      <td>3371842</td>\n",
       "    </tr>\n",
       "    <tr>\n",
       "      <th>DGm3c_29</th>\n",
       "      <td>chr1</td>\n",
       "      <td>3382319</td>\n",
       "      <td>3382319</td>\n",
       "    </tr>\n",
       "  </tbody>\n",
       "</table>\n",
       "</div>"
      ],
      "text/plain": [
       "             0        1        2\n",
       "3                               \n",
       "DGm3c_8   chr1  3217169  3217169\n",
       "DGm3c_17  chr1  3324541  3324586\n",
       "DGm3c_18  chr1  3327526  3327550\n",
       "DGm3c_24  chr1  3371830  3371842\n",
       "DGm3c_29  chr1  3382319  3382319"
      ]
     },
     "execution_count": 5,
     "metadata": {},
     "output_type": "execute_result"
    }
   ],
   "source": [
    "dmr_bed_df = pd.read_csv(dmr_hits_path, sep='\\t', header=None, index_col=3)\n",
    "dmr_bed_df.head()"
   ]
  },
  {
   "cell_type": "code",
   "execution_count": 6,
   "metadata": {
    "ExecuteTime": {
     "end_time": "2020-01-17T05:01:44.966614Z",
     "start_time": "2020-01-17T05:01:43.738893Z"
    },
    "papermill": {
     "duration": 1.114535,
     "end_time": "2020-01-14T06:49:00.500179",
     "exception": false,
     "start_time": "2020-01-14T06:48:59.385644",
     "status": "completed"
    },
    "tags": []
   },
   "outputs": [
    {
     "data": {
      "text/plain": [
       "AnnData object with n_obs × n_vars = 27037 × 719 \n",
       "    obs: 'chrom', 'start', 'end'"
      ]
     },
     "execution_count": 6,
     "metadata": {},
     "output_type": "execute_result"
    }
   ],
   "source": [
    "motif_hits = anndata.read_h5ad(motif_hits_path)\n",
    "motif_hits = motif_hits[dmr_bed_df.index, :].copy()\n",
    "motif_ids = motif_hits.var_names\n",
    "motif_hits.X = motif_hits.X.todense()\n",
    "motif_hits"
   ]
  },
  {
   "cell_type": "code",
   "execution_count": 7,
   "metadata": {
    "ExecuteTime": {
     "end_time": "2020-01-17T05:01:45.356519Z",
     "start_time": "2020-01-17T05:01:44.968781Z"
    },
    "papermill": {
     "duration": 0.547041,
     "end_time": "2020-01-14T06:49:01.058017",
     "exception": false,
     "start_time": "2020-01-14T06:49:00.510976",
     "status": "completed"
    },
    "tags": []
   },
   "outputs": [],
   "source": [
    "# mask small motif scores\n",
    "motif_cutoff = pd.Series(np.apply_along_axis(lambda i: np.quantile(i[i>0], 0.99) * mask_quantile_to99, \n",
    "                                             0, motif_hits.X),\n",
    "                         index=motif_hits.var_names)\n",
    "# only keep value larger than the cutoff for each motif\n",
    "motif_hits.X = np.multiply(motif_hits.X, (motif_hits.X > motif_cutoff.values[None, :]))"
   ]
  },
  {
   "cell_type": "markdown",
   "metadata": {
    "papermill": {
     "duration": 0.009757,
     "end_time": "2020-01-14T06:49:01.078840",
     "exception": false,
     "start_time": "2020-01-14T06:49:01.069083",
     "status": "completed"
    },
    "tags": []
   },
   "source": [
    "## Background Hits"
   ]
  },
  {
   "cell_type": "code",
   "execution_count": 8,
   "metadata": {
    "ExecuteTime": {
     "end_time": "2020-01-17T05:01:46.673276Z",
     "start_time": "2020-01-17T05:01:45.358198Z"
    },
    "papermill": {
     "duration": 1.142951,
     "end_time": "2020-01-14T06:49:02.231456",
     "exception": false,
     "start_time": "2020-01-14T06:49:01.088505",
     "status": "completed"
    },
    "tags": []
   },
   "outputs": [],
   "source": [
    "background_motif_hits = anndata.read_h5ad(\n",
    "    '/home/hanliu/project/mouse_rostral_brain/DMR/BackgroundDMR/MotifScan.h5ad'\n",
    ")"
   ]
  },
  {
   "cell_type": "code",
   "execution_count": 9,
   "metadata": {
    "ExecuteTime": {
     "end_time": "2020-01-17T05:01:47.772512Z",
     "start_time": "2020-01-17T05:01:46.674980Z"
    },
    "papermill": {
     "duration": 0.998223,
     "end_time": "2020-01-14T06:49:03.240740",
     "exception": false,
     "start_time": "2020-01-14T06:49:02.242517",
     "status": "completed"
    },
    "tags": []
   },
   "outputs": [],
   "source": [
    "dmr_bed = pybedtools.BedTool().from_dataframe(dmr_bed_df)\n",
    "bg_bed = pybedtools.BedTool().from_dataframe(\n",
    "    background_motif_hits.obs.reset_index().iloc[:, [1, 2, 3, 0]])"
   ]
  },
  {
   "cell_type": "code",
   "execution_count": 10,
   "metadata": {
    "ExecuteTime": {
     "end_time": "2020-01-17T05:01:49.426248Z",
     "start_time": "2020-01-17T05:01:47.773959Z"
    },
    "papermill": {
     "duration": 1.527127,
     "end_time": "2020-01-14T06:49:04.778878",
     "exception": false,
     "start_time": "2020-01-14T06:49:03.251751",
     "status": "completed"
    },
    "tags": []
   },
   "outputs": [],
   "source": [
    "# exclude background that overlap with DMR\n",
    "bg_no_overlap = bg_bed.intersect(dmr_bed, v=True)\n",
    "use_bg = bg_no_overlap.to_dataframe().iloc[:, -1].values\n",
    "background_motif_hits = background_motif_hits[use_bg, :]\n",
    "\n",
    "# make sure col in same order\n",
    "background_motif_hits = background_motif_hits[:, motif_ids].copy()"
   ]
  },
  {
   "cell_type": "code",
   "execution_count": 11,
   "metadata": {
    "ExecuteTime": {
     "end_time": "2020-01-17T05:01:52.095908Z",
     "start_time": "2020-01-17T05:01:49.428511Z"
    },
    "papermill": {
     "duration": 2.192555,
     "end_time": "2020-01-14T06:49:06.982499",
     "exception": false,
     "start_time": "2020-01-14T06:49:04.789944",
     "status": "completed"
    },
    "tags": []
   },
   "outputs": [],
   "source": [
    "judge_matrix = csr_matrix(background_motif_hits.X > motif_cutoff.values[None, :])\n",
    "background_motif_hits.X = background_motif_hits.X.multiply(judge_matrix)"
   ]
  },
  {
   "cell_type": "code",
   "execution_count": 12,
   "metadata": {
    "ExecuteTime": {
     "end_time": "2020-01-17T05:01:52.101448Z",
     "start_time": "2020-01-17T05:01:52.097509Z"
    },
    "papermill": {
     "duration": 0.017193,
     "end_time": "2020-01-14T06:49:07.010563",
     "exception": false,
     "start_time": "2020-01-14T06:49:06.993370",
     "status": "completed"
    },
    "tags": []
   },
   "outputs": [
    {
     "data": {
      "text/plain": [
       "AnnData object with n_obs × n_vars = 341314 × 719 \n",
       "    obs: 'chrom', 'start', 'end'"
      ]
     },
     "execution_count": 12,
     "metadata": {},
     "output_type": "execute_result"
    }
   ],
   "source": [
    "background_motif_hits"
   ]
  },
  {
   "cell_type": "markdown",
   "metadata": {
    "papermill": {
     "duration": 0.009971,
     "end_time": "2020-01-14T06:49:07.030684",
     "exception": false,
     "start_time": "2020-01-14T06:49:07.020713",
     "status": "completed"
    },
    "tags": []
   },
   "source": [
    "## Motif hits contingency table"
   ]
  },
  {
   "cell_type": "code",
   "execution_count": 13,
   "metadata": {
    "ExecuteTime": {
     "end_time": "2020-01-17T05:01:52.334432Z",
     "start_time": "2020-01-17T05:01:52.102786Z"
    },
    "papermill": {
     "duration": 0.192373,
     "end_time": "2020-01-14T06:49:07.233073",
     "exception": false,
     "start_time": "2020-01-14T06:49:07.040700",
     "status": "completed"
    },
    "tags": []
   },
   "outputs": [],
   "source": [
    "# calculate motif occurence, not considering hits here\n",
    "pos = (motif_hits.X > 0).sum(axis=0)\n",
    "pos_total = motif_hits.shape[0]\n",
    "\n",
    "neg = (background_motif_hits.X > 0).sum(axis=0)\n",
    "neg_total = background_motif_hits.shape[0]"
   ]
  },
  {
   "cell_type": "code",
   "execution_count": 14,
   "metadata": {
    "ExecuteTime": {
     "end_time": "2020-01-17T05:01:52.340012Z",
     "start_time": "2020-01-17T05:01:52.335852Z"
    },
    "papermill": {
     "duration": 0.062967,
     "end_time": "2020-01-14T06:49:07.307320",
     "exception": false,
     "start_time": "2020-01-14T06:49:07.244353",
     "status": "completed"
    },
    "scrolled": true,
    "tags": []
   },
   "outputs": [],
   "source": [
    "tables = {}\n",
    "for motif, _pos, _neg in zip(motif_ids, pos.A1, neg.A1):\n",
    "    table = [[_pos, pos_total - _pos], [_neg, neg_total - _neg]]\n",
    "    tables[motif] = table"
   ]
  },
  {
   "cell_type": "code",
   "execution_count": 15,
   "metadata": {
    "ExecuteTime": {
     "end_time": "2020-01-17T05:01:53.002464Z",
     "start_time": "2020-01-17T05:01:52.341291Z"
    },
    "papermill": {
     "duration": 0.720348,
     "end_time": "2020-01-14T06:49:08.038178",
     "exception": false,
     "start_time": "2020-01-14T06:49:07.317830",
     "status": "completed"
    },
    "tags": []
   },
   "outputs": [],
   "source": [
    "results = {}\n",
    "with ProcessPoolExecutor(20) as executor:\n",
    "    fs = {}\n",
    "    for motif, t in tables.items():\n",
    "        f = executor.submit(stats.fisher_exact, t, alternative='greater')\n",
    "        fs[f] = motif\n",
    "\n",
    "    for f in as_completed(fs):\n",
    "        motif = fs[f]\n",
    "        odds, p = f.result()\n",
    "        results[motif] = {'oddsratio': odds, 'p_value': p}\n",
    "motif_enrich_df = pd.DataFrame(results).T\n",
    "\n",
    "_, p, _, _ = multipletests(motif_enrich_df['p_value'], method='fdr_bh')\n",
    "motif_enrich_df['adj_p'] = p\n",
    "\n",
    "motif_enrich_df['-lgp'] = -np.log10(motif_enrich_df['adj_p']).replace(\n",
    "    -np.inf, -300)\n",
    "\n",
    "records = {}\n",
    "for motif, t in tables.items():\n",
    "    tp, tn = t[0]\n",
    "    fp, fn = t[1]\n",
    "    tp_rate = tp / pos_total\n",
    "    fp_rate = fp / neg_total\n",
    "    records[motif] = dict(tp=tp,\n",
    "                          tn=tn,\n",
    "                          fp=fp,\n",
    "                          fn=fn,\n",
    "                          tp_rate=tp_rate,\n",
    "                          fp_rate=fp_rate)\n",
    "counts = pd.DataFrame(records).T\n",
    "motif_enrich_df = pd.concat([motif_enrich_df, counts], axis=1, sort=True)"
   ]
  },
  {
   "cell_type": "code",
   "execution_count": 16,
   "metadata": {
    "ExecuteTime": {
     "end_time": "2020-01-17T05:01:53.007733Z",
     "start_time": "2020-01-17T05:01:53.004418Z"
    },
    "papermill": {
     "duration": 0.016486,
     "end_time": "2020-01-14T06:49:08.065626",
     "exception": false,
     "start_time": "2020-01-14T06:49:08.049140",
     "status": "completed"
    },
    "tags": []
   },
   "outputs": [],
   "source": [
    "motif_enrich_df['Group'] = group"
   ]
  },
  {
   "cell_type": "code",
   "execution_count": 17,
   "metadata": {
    "ExecuteTime": {
     "end_time": "2020-01-17T05:01:53.014956Z",
     "start_time": "2020-01-17T05:01:53.009042Z"
    },
    "papermill": {
     "duration": 0.018288,
     "end_time": "2020-01-14T06:49:08.093583",
     "exception": false,
     "start_time": "2020-01-14T06:49:08.075295",
     "status": "completed"
    },
    "tags": []
   },
   "outputs": [
    {
     "data": {
      "text/plain": [
       "21"
      ]
     },
     "execution_count": 17,
     "metadata": {},
     "output_type": "execute_result"
    }
   ],
   "source": [
    "# final filter\n",
    "filtered_motif_df = motif_enrich_df[(motif_enrich_df['oddsratio'] > or_cutoff)\n",
    "                                    &\n",
    "                                    (motif_enrich_df['-lgp'] > neg_lgp_cutoff)]\n",
    "filtered_motif_df.shape[0]"
   ]
  },
  {
   "cell_type": "code",
   "execution_count": 18,
   "metadata": {
    "ExecuteTime": {
     "end_time": "2020-01-17T05:01:53.020506Z",
     "start_time": "2020-01-17T05:01:53.016112Z"
    },
    "papermill": {
     "duration": 0.017828,
     "end_time": "2020-01-14T06:49:08.121450",
     "exception": false,
     "start_time": "2020-01-14T06:49:08.103622",
     "status": "completed"
    },
    "tags": []
   },
   "outputs": [
    {
     "name": "stderr",
     "output_type": "stream",
     "text": [
      "/home/hanliu/miniconda3/envs/clustering/lib/python3.7/site-packages/ipykernel_launcher.py:1: FutureWarning: to_msgpack is deprecated and will be removed in a future version.\n",
      "It is recommended to use pyarrow for on-the-wire transmission of pandas objects.\n",
      "  \"\"\"Entry point for launching an IPython kernel.\n"
     ]
    }
   ],
   "source": [
    "motif_enrich_df.to_msgpack(output_dir / f'{group}.motif_enrichment.msg')"
   ]
  },
  {
   "cell_type": "code",
   "execution_count": 19,
   "metadata": {
    "ExecuteTime": {
     "end_time": "2020-01-17T05:01:53.029056Z",
     "start_time": "2020-01-17T05:01:53.021745Z"
    },
    "papermill": {
     "duration": 0.02086,
     "end_time": "2020-01-14T06:49:08.152879",
     "exception": false,
     "start_time": "2020-01-14T06:49:08.132019",
     "status": "completed"
    },
    "tags": []
   },
   "outputs": [],
   "source": [
    "pybedtools.cleanup()"
   ]
  },
  {
   "cell_type": "code",
   "execution_count": 20,
   "metadata": {
    "ExecuteTime": {
     "end_time": "2020-01-17T05:01:53.046535Z",
     "start_time": "2020-01-17T05:01:53.030287Z"
    },
    "papermill": {
     "duration": 0.030053,
     "end_time": "2020-01-14T06:49:08.193926",
     "exception": false,
     "start_time": "2020-01-14T06:49:08.163873",
     "status": "completed"
    },
    "tags": []
   },
   "outputs": [
    {
     "data": {
      "text/html": [
       "<div>\n",
       "<style scoped>\n",
       "    .dataframe tbody tr th:only-of-type {\n",
       "        vertical-align: middle;\n",
       "    }\n",
       "\n",
       "    .dataframe tbody tr th {\n",
       "        vertical-align: top;\n",
       "    }\n",
       "\n",
       "    .dataframe thead th {\n",
       "        text-align: right;\n",
       "    }\n",
       "</style>\n",
       "<table border=\"1\" class=\"dataframe\">\n",
       "  <thead>\n",
       "    <tr style=\"text-align: right;\">\n",
       "      <th></th>\n",
       "      <th>oddsratio</th>\n",
       "      <th>p_value</th>\n",
       "      <th>adj_p</th>\n",
       "      <th>-lgp</th>\n",
       "      <th>tp</th>\n",
       "      <th>tn</th>\n",
       "      <th>fp</th>\n",
       "      <th>fn</th>\n",
       "      <th>tp_rate</th>\n",
       "      <th>fp_rate</th>\n",
       "      <th>Group</th>\n",
       "    </tr>\n",
       "  </thead>\n",
       "  <tbody>\n",
       "    <tr>\n",
       "      <th>MA0461.2</th>\n",
       "      <td>3.108343</td>\n",
       "      <td>1.507873e-128</td>\n",
       "      <td>3.613869e-126</td>\n",
       "      <td>125.442028</td>\n",
       "      <td>725.0</td>\n",
       "      <td>26312.0</td>\n",
       "      <td>2999.0</td>\n",
       "      <td>338315.0</td>\n",
       "      <td>0.026815</td>\n",
       "      <td>0.008787</td>\n",
       "      <td>IT-L6+MOs</td>\n",
       "    </tr>\n",
       "    <tr>\n",
       "      <th>MA0498.2</th>\n",
       "      <td>1.522828</td>\n",
       "      <td>2.857767e-90</td>\n",
       "      <td>2.283038e-88</td>\n",
       "      <td>87.641487</td>\n",
       "      <td>3141.0</td>\n",
       "      <td>23896.0</td>\n",
       "      <td>27120.0</td>\n",
       "      <td>314194.0</td>\n",
       "      <td>0.116174</td>\n",
       "      <td>0.079458</td>\n",
       "      <td>IT-L6+MOs</td>\n",
       "    </tr>\n",
       "    <tr>\n",
       "      <th>MA0507.1</th>\n",
       "      <td>1.904087</td>\n",
       "      <td>3.815110e-33</td>\n",
       "      <td>1.306221e-31</td>\n",
       "      <td>30.883983</td>\n",
       "      <td>470.0</td>\n",
       "      <td>26567.0</td>\n",
       "      <td>3142.0</td>\n",
       "      <td>338172.0</td>\n",
       "      <td>0.017384</td>\n",
       "      <td>0.009206</td>\n",
       "      <td>IT-L6+MOs</td>\n",
       "    </tr>\n",
       "    <tr>\n",
       "      <th>MA0607.1</th>\n",
       "      <td>2.295082</td>\n",
       "      <td>8.135230e-209</td>\n",
       "      <td>5.849230e-206</td>\n",
       "      <td>205.232901</td>\n",
       "      <td>2067.0</td>\n",
       "      <td>24970.0</td>\n",
       "      <td>11882.0</td>\n",
       "      <td>329432.0</td>\n",
       "      <td>0.076451</td>\n",
       "      <td>0.034813</td>\n",
       "      <td>IT-L6+MOs</td>\n",
       "    </tr>\n",
       "    <tr>\n",
       "      <th>MA0623.2</th>\n",
       "      <td>2.988972</td>\n",
       "      <td>2.414817e-96</td>\n",
       "      <td>2.170316e-94</td>\n",
       "      <td>93.663477</td>\n",
       "      <td>571.0</td>\n",
       "      <td>26466.0</td>\n",
       "      <td>2446.0</td>\n",
       "      <td>338868.0</td>\n",
       "      <td>0.021119</td>\n",
       "      <td>0.007166</td>\n",
       "      <td>IT-L6+MOs</td>\n",
       "    </tr>\n",
       "    <tr>\n",
       "      <th>MA0627.2</th>\n",
       "      <td>1.610824</td>\n",
       "      <td>1.139757e-12</td>\n",
       "      <td>2.560891e-11</td>\n",
       "      <td>10.591609</td>\n",
       "      <td>280.0</td>\n",
       "      <td>26757.0</td>\n",
       "      <td>2203.0</td>\n",
       "      <td>339111.0</td>\n",
       "      <td>0.010356</td>\n",
       "      <td>0.006454</td>\n",
       "      <td>IT-L6+MOs</td>\n",
       "    </tr>\n",
       "    <tr>\n",
       "      <th>MA0633.1</th>\n",
       "      <td>2.703709</td>\n",
       "      <td>2.230377e-102</td>\n",
       "      <td>2.672735e-100</td>\n",
       "      <td>99.573044</td>\n",
       "      <td>715.0</td>\n",
       "      <td>26322.0</td>\n",
       "      <td>3395.0</td>\n",
       "      <td>337919.0</td>\n",
       "      <td>0.026445</td>\n",
       "      <td>0.009947</td>\n",
       "      <td>IT-L6+MOs</td>\n",
       "    </tr>\n",
       "    <tr>\n",
       "      <th>MA0668.1</th>\n",
       "      <td>3.007247</td>\n",
       "      <td>9.861345e-71</td>\n",
       "      <td>5.454082e-69</td>\n",
       "      <td>68.263278</td>\n",
       "      <td>411.0</td>\n",
       "      <td>26626.0</td>\n",
       "      <td>1743.0</td>\n",
       "      <td>339571.0</td>\n",
       "      <td>0.015201</td>\n",
       "      <td>0.005107</td>\n",
       "      <td>IT-L6+MOs</td>\n",
       "    </tr>\n",
       "    <tr>\n",
       "      <th>MA0669.1</th>\n",
       "      <td>2.935334</td>\n",
       "      <td>6.007157e-55</td>\n",
       "      <td>2.399526e-53</td>\n",
       "      <td>52.619875</td>\n",
       "      <td>328.0</td>\n",
       "      <td>26709.0</td>\n",
       "      <td>1422.0</td>\n",
       "      <td>339892.0</td>\n",
       "      <td>0.012132</td>\n",
       "      <td>0.004166</td>\n",
       "      <td>IT-L6+MOs</td>\n",
       "    </tr>\n",
       "    <tr>\n",
       "      <th>MA0678.1</th>\n",
       "      <td>3.630777</td>\n",
       "      <td>1.121557e-66</td>\n",
       "      <td>5.759994e-65</td>\n",
       "      <td>64.239578</td>\n",
       "      <td>299.0</td>\n",
       "      <td>26738.0</td>\n",
       "      <td>1048.0</td>\n",
       "      <td>340266.0</td>\n",
       "      <td>0.011059</td>\n",
       "      <td>0.003070</td>\n",
       "      <td>IT-L6+MOs</td>\n",
       "    </tr>\n",
       "    <tr>\n",
       "      <th>MA0785.1</th>\n",
       "      <td>1.722535</td>\n",
       "      <td>7.323180e-14</td>\n",
       "      <td>1.755122e-12</td>\n",
       "      <td>11.755693</td>\n",
       "      <td>244.0</td>\n",
       "      <td>26793.0</td>\n",
       "      <td>1795.0</td>\n",
       "      <td>339519.0</td>\n",
       "      <td>0.009025</td>\n",
       "      <td>0.005259</td>\n",
       "      <td>IT-L6+MOs</td>\n",
       "    </tr>\n",
       "    <tr>\n",
       "      <th>MA0817.1</th>\n",
       "      <td>3.813252</td>\n",
       "      <td>5.856187e-56</td>\n",
       "      <td>2.476822e-54</td>\n",
       "      <td>53.606105</td>\n",
       "      <td>235.0</td>\n",
       "      <td>26802.0</td>\n",
       "      <td>783.0</td>\n",
       "      <td>340531.0</td>\n",
       "      <td>0.008692</td>\n",
       "      <td>0.002294</td>\n",
       "      <td>IT-L6+MOs</td>\n",
       "    </tr>\n",
       "    <tr>\n",
       "      <th>MA0818.1</th>\n",
       "      <td>3.232554</td>\n",
       "      <td>2.210787e-125</td>\n",
       "      <td>3.973890e-123</td>\n",
       "      <td>122.400784</td>\n",
       "      <td>668.0</td>\n",
       "      <td>26369.0</td>\n",
       "      <td>2654.0</td>\n",
       "      <td>338660.0</td>\n",
       "      <td>0.024707</td>\n",
       "      <td>0.007776</td>\n",
       "      <td>IT-L6+MOs</td>\n",
       "    </tr>\n",
       "    <tr>\n",
       "      <th>MA0826.1</th>\n",
       "      <td>3.718948</td>\n",
       "      <td>6.379855e-72</td>\n",
       "      <td>4.170105e-70</td>\n",
       "      <td>69.379853</td>\n",
       "      <td>314.0</td>\n",
       "      <td>26723.0</td>\n",
       "      <td>1075.0</td>\n",
       "      <td>340239.0</td>\n",
       "      <td>0.011614</td>\n",
       "      <td>0.003150</td>\n",
       "      <td>IT-L6+MOs</td>\n",
       "    </tr>\n",
       "    <tr>\n",
       "      <th>MA0827.1</th>\n",
       "      <td>3.481958</td>\n",
       "      <td>1.234804e-100</td>\n",
       "      <td>1.268321e-98</td>\n",
       "      <td>97.896771</td>\n",
       "      <td>482.0</td>\n",
       "      <td>26555.0</td>\n",
       "      <td>1770.0</td>\n",
       "      <td>339544.0</td>\n",
       "      <td>0.017827</td>\n",
       "      <td>0.005186</td>\n",
       "      <td>IT-L6+MOs</td>\n",
       "    </tr>\n",
       "    <tr>\n",
       "      <th>MA1109.1</th>\n",
       "      <td>1.971222</td>\n",
       "      <td>7.030100e-74</td>\n",
       "      <td>5.054642e-72</td>\n",
       "      <td>71.296310</td>\n",
       "      <td>1000.0</td>\n",
       "      <td>26037.0</td>\n",
       "      <td>6523.0</td>\n",
       "      <td>334791.0</td>\n",
       "      <td>0.036986</td>\n",
       "      <td>0.019111</td>\n",
       "      <td>IT-L6+MOs</td>\n",
       "    </tr>\n",
       "    <tr>\n",
       "      <th>MA1115.1</th>\n",
       "      <td>1.658984</td>\n",
       "      <td>2.343399e-41</td>\n",
       "      <td>8.867917e-40</td>\n",
       "      <td>39.052178</td>\n",
       "      <td>929.0</td>\n",
       "      <td>26108.0</td>\n",
       "      <td>7167.0</td>\n",
       "      <td>334147.0</td>\n",
       "      <td>0.034360</td>\n",
       "      <td>0.020998</td>\n",
       "      <td>IT-L6+MOs</td>\n",
       "    </tr>\n",
       "    <tr>\n",
       "      <th>MA1468.1</th>\n",
       "      <td>3.130066</td>\n",
       "      <td>1.778709e-129</td>\n",
       "      <td>6.394460e-127</td>\n",
       "      <td>126.194196</td>\n",
       "      <td>723.0</td>\n",
       "      <td>26314.0</td>\n",
       "      <td>2970.0</td>\n",
       "      <td>338344.0</td>\n",
       "      <td>0.026741</td>\n",
       "      <td>0.008702</td>\n",
       "      <td>IT-L6+MOs</td>\n",
       "    </tr>\n",
       "    <tr>\n",
       "      <th>MA1568.1</th>\n",
       "      <td>3.351428</td>\n",
       "      <td>1.850826e-32</td>\n",
       "      <td>6.048837e-31</td>\n",
       "      <td>30.218328</td>\n",
       "      <td>156.0</td>\n",
       "      <td>26881.0</td>\n",
       "      <td>590.0</td>\n",
       "      <td>340724.0</td>\n",
       "      <td>0.005770</td>\n",
       "      <td>0.001729</td>\n",
       "      <td>IT-L6+MOs</td>\n",
       "    </tr>\n",
       "    <tr>\n",
       "      <th>MA1570.1</th>\n",
       "      <td>1.806566</td>\n",
       "      <td>4.425920e-59</td>\n",
       "      <td>1.988898e-57</td>\n",
       "      <td>56.701388</td>\n",
       "      <td>1017.0</td>\n",
       "      <td>26020.0</td>\n",
       "      <td>7228.0</td>\n",
       "      <td>334086.0</td>\n",
       "      <td>0.037615</td>\n",
       "      <td>0.021177</td>\n",
       "      <td>IT-L6+MOs</td>\n",
       "    </tr>\n",
       "    <tr>\n",
       "      <th>MA1642.1</th>\n",
       "      <td>1.879091</td>\n",
       "      <td>6.014246e-105</td>\n",
       "      <td>8.648486e-103</td>\n",
       "      <td>102.063060</td>\n",
       "      <td>1661.0</td>\n",
       "      <td>25376.0</td>\n",
       "      <td>11489.0</td>\n",
       "      <td>329825.0</td>\n",
       "      <td>0.061434</td>\n",
       "      <td>0.033661</td>\n",
       "      <td>IT-L6+MOs</td>\n",
       "    </tr>\n",
       "  </tbody>\n",
       "</table>\n",
       "</div>"
      ],
      "text/plain": [
       "          oddsratio        p_value          adj_p        -lgp      tp  \\\n",
       "MA0461.2   3.108343  1.507873e-128  3.613869e-126  125.442028   725.0   \n",
       "MA0498.2   1.522828   2.857767e-90   2.283038e-88   87.641487  3141.0   \n",
       "MA0507.1   1.904087   3.815110e-33   1.306221e-31   30.883983   470.0   \n",
       "MA0607.1   2.295082  8.135230e-209  5.849230e-206  205.232901  2067.0   \n",
       "MA0623.2   2.988972   2.414817e-96   2.170316e-94   93.663477   571.0   \n",
       "MA0627.2   1.610824   1.139757e-12   2.560891e-11   10.591609   280.0   \n",
       "MA0633.1   2.703709  2.230377e-102  2.672735e-100   99.573044   715.0   \n",
       "MA0668.1   3.007247   9.861345e-71   5.454082e-69   68.263278   411.0   \n",
       "MA0669.1   2.935334   6.007157e-55   2.399526e-53   52.619875   328.0   \n",
       "MA0678.1   3.630777   1.121557e-66   5.759994e-65   64.239578   299.0   \n",
       "MA0785.1   1.722535   7.323180e-14   1.755122e-12   11.755693   244.0   \n",
       "MA0817.1   3.813252   5.856187e-56   2.476822e-54   53.606105   235.0   \n",
       "MA0818.1   3.232554  2.210787e-125  3.973890e-123  122.400784   668.0   \n",
       "MA0826.1   3.718948   6.379855e-72   4.170105e-70   69.379853   314.0   \n",
       "MA0827.1   3.481958  1.234804e-100   1.268321e-98   97.896771   482.0   \n",
       "MA1109.1   1.971222   7.030100e-74   5.054642e-72   71.296310  1000.0   \n",
       "MA1115.1   1.658984   2.343399e-41   8.867917e-40   39.052178   929.0   \n",
       "MA1468.1   3.130066  1.778709e-129  6.394460e-127  126.194196   723.0   \n",
       "MA1568.1   3.351428   1.850826e-32   6.048837e-31   30.218328   156.0   \n",
       "MA1570.1   1.806566   4.425920e-59   1.988898e-57   56.701388  1017.0   \n",
       "MA1642.1   1.879091  6.014246e-105  8.648486e-103  102.063060  1661.0   \n",
       "\n",
       "               tn       fp        fn   tp_rate   fp_rate      Group  \n",
       "MA0461.2  26312.0   2999.0  338315.0  0.026815  0.008787  IT-L6+MOs  \n",
       "MA0498.2  23896.0  27120.0  314194.0  0.116174  0.079458  IT-L6+MOs  \n",
       "MA0507.1  26567.0   3142.0  338172.0  0.017384  0.009206  IT-L6+MOs  \n",
       "MA0607.1  24970.0  11882.0  329432.0  0.076451  0.034813  IT-L6+MOs  \n",
       "MA0623.2  26466.0   2446.0  338868.0  0.021119  0.007166  IT-L6+MOs  \n",
       "MA0627.2  26757.0   2203.0  339111.0  0.010356  0.006454  IT-L6+MOs  \n",
       "MA0633.1  26322.0   3395.0  337919.0  0.026445  0.009947  IT-L6+MOs  \n",
       "MA0668.1  26626.0   1743.0  339571.0  0.015201  0.005107  IT-L6+MOs  \n",
       "MA0669.1  26709.0   1422.0  339892.0  0.012132  0.004166  IT-L6+MOs  \n",
       "MA0678.1  26738.0   1048.0  340266.0  0.011059  0.003070  IT-L6+MOs  \n",
       "MA0785.1  26793.0   1795.0  339519.0  0.009025  0.005259  IT-L6+MOs  \n",
       "MA0817.1  26802.0    783.0  340531.0  0.008692  0.002294  IT-L6+MOs  \n",
       "MA0818.1  26369.0   2654.0  338660.0  0.024707  0.007776  IT-L6+MOs  \n",
       "MA0826.1  26723.0   1075.0  340239.0  0.011614  0.003150  IT-L6+MOs  \n",
       "MA0827.1  26555.0   1770.0  339544.0  0.017827  0.005186  IT-L6+MOs  \n",
       "MA1109.1  26037.0   6523.0  334791.0  0.036986  0.019111  IT-L6+MOs  \n",
       "MA1115.1  26108.0   7167.0  334147.0  0.034360  0.020998  IT-L6+MOs  \n",
       "MA1468.1  26314.0   2970.0  338344.0  0.026741  0.008702  IT-L6+MOs  \n",
       "MA1568.1  26881.0    590.0  340724.0  0.005770  0.001729  IT-L6+MOs  \n",
       "MA1570.1  26020.0   7228.0  334086.0  0.037615  0.021177  IT-L6+MOs  \n",
       "MA1642.1  25376.0  11489.0  329825.0  0.061434  0.033661  IT-L6+MOs  "
      ]
     },
     "execution_count": 20,
     "metadata": {},
     "output_type": "execute_result"
    }
   ],
   "source": [
    "filtered_motif_df"
   ]
  },
  {
   "cell_type": "code",
   "execution_count": null,
   "metadata": {
    "papermill": {
     "duration": 0.011007,
     "end_time": "2020-01-14T06:49:08.215509",
     "exception": false,
     "start_time": "2020-01-14T06:49:08.204502",
     "status": "completed"
    },
    "tags": []
   },
   "outputs": [],
   "source": []
  }
 ],
 "metadata": {
  "hide_input": false,
  "kernelspec": {
   "display_name": "Python 3",
   "language": "python",
   "name": "python3"
  },
  "language_info": {
   "codemirror_mode": {
    "name": "ipython",
    "version": 3
   },
   "file_extension": ".py",
   "mimetype": "text/x-python",
   "name": "python",
   "nbconvert_exporter": "python",
   "pygments_lexer": "ipython3",
   "version": "3.7.3"
  },
  "papermill": {
   "duration": 10.978407,
   "end_time": "2020-01-14T06:49:08.633554",
   "environment_variables": {},
   "exception": null,
   "input_path": "4.MotifEnrichment.ipynb",
   "output_path": "/home/hanliu/project/mouse_rostral_brain/DMR/ITSpatial_by_layer/IT-L6/Recipe/4.MotifEnrichment.IT-L6+MOs.ipynb",
   "parameters": {
    "dmr_hits_path": "/home/hanliu/project/mouse_rostral_brain/DMR/ITSpatial_by_layer/IT-L6/HypoDMR/IT-L6+MOs.DMS1.bed",
    "group": "IT-L6+MOs",
    "mask_quantile_to99": 0.9,
    "motif_hits_path": "/home/hanliu/project/mouse_rostral_brain/DMR/ITSpatial_by_layer/IT-L6/MotifScan.h5ad",
    "neg_lgp_cutoff": 10,
    "or_cutoff": 1.5,
    "output_dir": "/home/hanliu/project/mouse_rostral_brain/DMR/ITSpatial_by_layer/IT-L6/MotifEnrichment"
   },
   "start_time": "2020-01-14T06:48:57.655147",
   "version": "1.0.1"
  },
  "toc": {
   "base_numbering": 1,
   "nav_menu": {},
   "number_sections": true,
   "sideBar": true,
   "skip_h1_title": true,
   "title_cell": "Table of Contents",
   "title_sidebar": "Contents",
   "toc_cell": false,
   "toc_position": {},
   "toc_section_display": true,
   "toc_window_display": true
  }
 },
 "nbformat": 4,
 "nbformat_minor": 2
}
