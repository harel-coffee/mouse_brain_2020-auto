{
 "cells": [
  {
   "cell_type": "markdown",
   "metadata": {
    "papermill": {
     "duration": 0.009607,
     "end_time": "2020-01-14T06:49:31.892815",
     "exception": false,
     "start_time": "2020-01-14T06:49:31.883208",
     "status": "completed"
    },
    "tags": []
   },
   "source": [
    "# Motif Enrichment\n",
    "- The motif hits matrix save the max loglikelyhood score of a motif in that DMR\n",
    "- Before run the motif enrichment, I filter the scores for each motif using cutoff defined by\n",
    "    - `np.quantile(motif_score[motif_score > 0]) * mask_quantile_to99`\n",
    "- This filter will remove hits with low score, which is likely to be false positive\n",
    "- Its likely boosting the significance of real enrichment"
   ]
  },
  {
   "cell_type": "code",
   "execution_count": 1,
   "metadata": {
    "ExecuteTime": {
     "end_time": "2020-01-17T05:01:54.377634Z",
     "start_time": "2020-01-17T05:01:53.687251Z"
    },
    "papermill": {
     "duration": 0.679399,
     "end_time": "2020-01-14T06:49:32.582896",
     "exception": false,
     "start_time": "2020-01-14T06:49:31.903497",
     "status": "completed"
    },
    "tags": []
   },
   "outputs": [],
   "source": [
    "from concurrent.futures import ProcessPoolExecutor, as_completed\n",
    "import anndata\n",
    "import matplotlib.pyplot as plt\n",
    "import numpy as np\n",
    "import pandas as pd\n",
    "import pybedtools\n",
    "import scipy.stats as stats\n",
    "import seaborn as sns\n",
    "from scipy.sparse import csr_matrix\n",
    "from statsmodels.stats.multitest import multipletests\n",
    "import pathlib"
   ]
  },
  {
   "cell_type": "code",
   "execution_count": 2,
   "metadata": {
    "ExecuteTime": {
     "end_time": "2020-01-17T05:01:54.382029Z",
     "start_time": "2020-01-17T05:01:54.379402Z"
    },
    "papermill": {
     "duration": 0.016014,
     "end_time": "2020-01-14T06:49:32.609398",
     "exception": false,
     "start_time": "2020-01-14T06:49:32.593384",
     "status": "completed"
    },
    "tags": [
     "parameters"
    ]
   },
   "outputs": [],
   "source": [
    "mask_quantile_to99 = 0.9\n",
    "or_cutoff = 1.5\n",
    "neg_lgp_cutoff = 10\n",
    "group = 'IT-L23+ACA'\n",
    "\n",
    "motif_hits_path = '/home/hanliu/project/mouse_rostral_brain/DMR/ITSpatial_by_layer/IT-L23/MotifScan.h5ad'\n",
    "dmr_hits_path = f'/home/hanliu/project/mouse_rostral_brain/DMR/ITSpatial_by_layer/IT-L23/HypoDMR/{group}.DMS1.bed'\n",
    "output_dir = '/home/hanliu/project/mouse_rostral_brain/DMR/ITSpatial_by_layer/IT-L23/MotifEnrichment'\n"
   ]
  },
  {
   "cell_type": "code",
   "execution_count": 3,
   "metadata": {
    "ExecuteTime": {
     "end_time": "2020-01-17T05:01:54.385515Z",
     "start_time": "2020-01-17T05:01:54.383262Z"
    },
    "papermill": {
     "duration": 0.014277,
     "end_time": "2020-01-14T06:49:32.632928",
     "exception": false,
     "start_time": "2020-01-14T06:49:32.618651",
     "status": "completed"
    },
    "tags": [
     "injected-parameters"
    ]
   },
   "outputs": [],
   "source": [
    "# Parameters\n",
    "mask_quantile_to99 = 0.9\n",
    "or_cutoff = 1.5\n",
    "neg_lgp_cutoff = 10\n",
    "group = \"IT-L6+SSs\"\n",
    "motif_hits_path = \"/home/hanliu/project/mouse_rostral_brain/DMR/ITSpatial_by_layer/IT-L6/MotifScan.h5ad\"\n",
    "dmr_hits_path = \"/home/hanliu/project/mouse_rostral_brain/DMR/ITSpatial_by_layer/IT-L6/HypoDMR/IT-L6+SSs.DMS1.bed\"\n",
    "output_dir = \"/home/hanliu/project/mouse_rostral_brain/DMR/ITSpatial_by_layer/IT-L6/MotifEnrichment\"\n"
   ]
  },
  {
   "cell_type": "code",
   "execution_count": 4,
   "metadata": {
    "ExecuteTime": {
     "end_time": "2020-01-17T05:01:54.388873Z",
     "start_time": "2020-01-17T05:01:54.386733Z"
    },
    "papermill": {
     "duration": 0.01455,
     "end_time": "2020-01-14T06:49:32.656606",
     "exception": false,
     "start_time": "2020-01-14T06:49:32.642056",
     "status": "completed"
    },
    "tags": []
   },
   "outputs": [],
   "source": [
    "output_dir = pathlib.Path(output_dir)\n",
    "output_dir.mkdir(exist_ok=True)"
   ]
  },
  {
   "cell_type": "markdown",
   "metadata": {
    "papermill": {
     "duration": 0.00886,
     "end_time": "2020-01-14T06:49:32.674623",
     "exception": false,
     "start_time": "2020-01-14T06:49:32.665763",
     "status": "completed"
    },
    "tags": []
   },
   "source": [
    "## DMR hits"
   ]
  },
  {
   "cell_type": "code",
   "execution_count": 5,
   "metadata": {
    "ExecuteTime": {
     "end_time": "2020-01-17T05:01:54.415529Z",
     "start_time": "2020-01-17T05:01:54.390069Z"
    },
    "papermill": {
     "duration": 0.047293,
     "end_time": "2020-01-14T06:49:32.730914",
     "exception": false,
     "start_time": "2020-01-14T06:49:32.683621",
     "status": "completed"
    },
    "tags": []
   },
   "outputs": [
    {
     "data": {
      "text/html": [
       "<div>\n",
       "<style scoped>\n",
       "    .dataframe tbody tr th:only-of-type {\n",
       "        vertical-align: middle;\n",
       "    }\n",
       "\n",
       "    .dataframe tbody tr th {\n",
       "        vertical-align: top;\n",
       "    }\n",
       "\n",
       "    .dataframe thead th {\n",
       "        text-align: right;\n",
       "    }\n",
       "</style>\n",
       "<table border=\"1\" class=\"dataframe\">\n",
       "  <thead>\n",
       "    <tr style=\"text-align: right;\">\n",
       "      <th></th>\n",
       "      <th>0</th>\n",
       "      <th>1</th>\n",
       "      <th>2</th>\n",
       "    </tr>\n",
       "    <tr>\n",
       "      <th>3</th>\n",
       "      <th></th>\n",
       "      <th></th>\n",
       "      <th></th>\n",
       "    </tr>\n",
       "  </thead>\n",
       "  <tbody>\n",
       "    <tr>\n",
       "      <th>DGm3c_80</th>\n",
       "      <td>chr1</td>\n",
       "      <td>3972138</td>\n",
       "      <td>3972146</td>\n",
       "    </tr>\n",
       "    <tr>\n",
       "      <th>DGm3c_81</th>\n",
       "      <td>chr1</td>\n",
       "      <td>3990201</td>\n",
       "      <td>3990247</td>\n",
       "    </tr>\n",
       "    <tr>\n",
       "      <th>DGm3c_100</th>\n",
       "      <td>chr1</td>\n",
       "      <td>4387220</td>\n",
       "      <td>4387220</td>\n",
       "    </tr>\n",
       "    <tr>\n",
       "      <th>DGm3c_106</th>\n",
       "      <td>chr1</td>\n",
       "      <td>4415001</td>\n",
       "      <td>4415001</td>\n",
       "    </tr>\n",
       "    <tr>\n",
       "      <th>DGm3c_115</th>\n",
       "      <td>chr1</td>\n",
       "      <td>4703241</td>\n",
       "      <td>4703810</td>\n",
       "    </tr>\n",
       "  </tbody>\n",
       "</table>\n",
       "</div>"
      ],
      "text/plain": [
       "              0        1        2\n",
       "3                                \n",
       "DGm3c_80   chr1  3972138  3972146\n",
       "DGm3c_81   chr1  3990201  3990247\n",
       "DGm3c_100  chr1  4387220  4387220\n",
       "DGm3c_106  chr1  4415001  4415001\n",
       "DGm3c_115  chr1  4703241  4703810"
      ]
     },
     "execution_count": 5,
     "metadata": {},
     "output_type": "execute_result"
    }
   ],
   "source": [
    "dmr_bed_df = pd.read_csv(dmr_hits_path, sep='\\t', header=None, index_col=3)\n",
    "dmr_bed_df.head()"
   ]
  },
  {
   "cell_type": "code",
   "execution_count": 6,
   "metadata": {
    "ExecuteTime": {
     "end_time": "2020-01-17T05:01:55.498990Z",
     "start_time": "2020-01-17T05:01:54.417340Z"
    },
    "papermill": {
     "duration": 1.071241,
     "end_time": "2020-01-14T06:49:33.812209",
     "exception": false,
     "start_time": "2020-01-14T06:49:32.740968",
     "status": "completed"
    },
    "tags": []
   },
   "outputs": [
    {
     "data": {
      "text/plain": [
       "AnnData object with n_obs × n_vars = 15714 × 719 \n",
       "    obs: 'chrom', 'start', 'end'"
      ]
     },
     "execution_count": 6,
     "metadata": {},
     "output_type": "execute_result"
    }
   ],
   "source": [
    "motif_hits = anndata.read_h5ad(motif_hits_path)\n",
    "motif_hits = motif_hits[dmr_bed_df.index, :].copy()\n",
    "motif_ids = motif_hits.var_names\n",
    "motif_hits.X = motif_hits.X.todense()\n",
    "motif_hits"
   ]
  },
  {
   "cell_type": "code",
   "execution_count": 7,
   "metadata": {
    "ExecuteTime": {
     "end_time": "2020-01-17T05:01:55.771112Z",
     "start_time": "2020-01-17T05:01:55.500620Z"
    },
    "papermill": {
     "duration": 0.420033,
     "end_time": "2020-01-14T06:49:34.241564",
     "exception": false,
     "start_time": "2020-01-14T06:49:33.821531",
     "status": "completed"
    },
    "tags": []
   },
   "outputs": [],
   "source": [
    "# mask small motif scores\n",
    "motif_cutoff = pd.Series(np.apply_along_axis(lambda i: np.quantile(i[i>0], 0.99) * mask_quantile_to99, \n",
    "                                             0, motif_hits.X),\n",
    "                         index=motif_hits.var_names)\n",
    "# only keep value larger than the cutoff for each motif\n",
    "motif_hits.X = np.multiply(motif_hits.X, (motif_hits.X > motif_cutoff.values[None, :]))"
   ]
  },
  {
   "cell_type": "markdown",
   "metadata": {
    "papermill": {
     "duration": 0.009515,
     "end_time": "2020-01-14T06:49:34.261580",
     "exception": false,
     "start_time": "2020-01-14T06:49:34.252065",
     "status": "completed"
    },
    "tags": []
   },
   "source": [
    "## Background Hits"
   ]
  },
  {
   "cell_type": "code",
   "execution_count": 8,
   "metadata": {
    "ExecuteTime": {
     "end_time": "2020-01-17T05:01:57.036359Z",
     "start_time": "2020-01-17T05:01:55.772503Z"
    },
    "papermill": {
     "duration": 1.150796,
     "end_time": "2020-01-14T06:49:35.421883",
     "exception": false,
     "start_time": "2020-01-14T06:49:34.271087",
     "status": "completed"
    },
    "tags": []
   },
   "outputs": [],
   "source": [
    "background_motif_hits = anndata.read_h5ad(\n",
    "    '/home/hanliu/project/mouse_rostral_brain/DMR/BackgroundDMR/MotifScan.h5ad'\n",
    ")"
   ]
  },
  {
   "cell_type": "code",
   "execution_count": 9,
   "metadata": {
    "ExecuteTime": {
     "end_time": "2020-01-17T05:01:58.074711Z",
     "start_time": "2020-01-17T05:01:57.037737Z"
    },
    "papermill": {
     "duration": 0.976732,
     "end_time": "2020-01-14T06:49:36.409141",
     "exception": false,
     "start_time": "2020-01-14T06:49:35.432409",
     "status": "completed"
    },
    "tags": []
   },
   "outputs": [],
   "source": [
    "dmr_bed = pybedtools.BedTool().from_dataframe(dmr_bed_df)\n",
    "bg_bed = pybedtools.BedTool().from_dataframe(\n",
    "    background_motif_hits.obs.reset_index().iloc[:, [1, 2, 3, 0]])"
   ]
  },
  {
   "cell_type": "code",
   "execution_count": 10,
   "metadata": {
    "ExecuteTime": {
     "end_time": "2020-01-17T05:01:59.716637Z",
     "start_time": "2020-01-17T05:01:58.076116Z"
    },
    "papermill": {
     "duration": 1.502773,
     "end_time": "2020-01-14T06:49:37.922096",
     "exception": false,
     "start_time": "2020-01-14T06:49:36.419323",
     "status": "completed"
    },
    "tags": []
   },
   "outputs": [],
   "source": [
    "# exclude background that overlap with DMR\n",
    "bg_no_overlap = bg_bed.intersect(dmr_bed, v=True)\n",
    "use_bg = bg_no_overlap.to_dataframe().iloc[:, -1].values\n",
    "background_motif_hits = background_motif_hits[use_bg, :]\n",
    "\n",
    "# make sure col in same order\n",
    "background_motif_hits = background_motif_hits[:, motif_ids].copy()"
   ]
  },
  {
   "cell_type": "code",
   "execution_count": 11,
   "metadata": {
    "ExecuteTime": {
     "end_time": "2020-01-17T05:02:02.093443Z",
     "start_time": "2020-01-17T05:01:59.718289Z"
    },
    "papermill": {
     "duration": 2.196702,
     "end_time": "2020-01-14T06:49:40.129032",
     "exception": false,
     "start_time": "2020-01-14T06:49:37.932330",
     "status": "completed"
    },
    "tags": []
   },
   "outputs": [],
   "source": [
    "judge_matrix = csr_matrix(background_motif_hits.X > motif_cutoff.values[None, :])\n",
    "background_motif_hits.X = background_motif_hits.X.multiply(judge_matrix)"
   ]
  },
  {
   "cell_type": "code",
   "execution_count": 12,
   "metadata": {
    "ExecuteTime": {
     "end_time": "2020-01-17T05:02:02.103038Z",
     "start_time": "2020-01-17T05:02:02.096821Z"
    },
    "papermill": {
     "duration": 0.017354,
     "end_time": "2020-01-14T06:49:40.156663",
     "exception": false,
     "start_time": "2020-01-14T06:49:40.139309",
     "status": "completed"
    },
    "tags": []
   },
   "outputs": [
    {
     "data": {
      "text/plain": [
       "AnnData object with n_obs × n_vars = 342912 × 719 \n",
       "    obs: 'chrom', 'start', 'end'"
      ]
     },
     "execution_count": 12,
     "metadata": {},
     "output_type": "execute_result"
    }
   ],
   "source": [
    "background_motif_hits"
   ]
  },
  {
   "cell_type": "markdown",
   "metadata": {
    "papermill": {
     "duration": 0.009489,
     "end_time": "2020-01-14T06:49:40.175709",
     "exception": false,
     "start_time": "2020-01-14T06:49:40.166220",
     "status": "completed"
    },
    "tags": []
   },
   "source": [
    "## Motif hits contingency table"
   ]
  },
  {
   "cell_type": "code",
   "execution_count": 13,
   "metadata": {
    "ExecuteTime": {
     "end_time": "2020-01-17T05:02:02.312785Z",
     "start_time": "2020-01-17T05:02:02.104507Z"
    },
    "papermill": {
     "duration": 0.17711,
     "end_time": "2020-01-14T06:49:40.362379",
     "exception": false,
     "start_time": "2020-01-14T06:49:40.185269",
     "status": "completed"
    },
    "tags": []
   },
   "outputs": [],
   "source": [
    "# calculate motif occurence, not considering hits here\n",
    "pos = (motif_hits.X > 0).sum(axis=0)\n",
    "pos_total = motif_hits.shape[0]\n",
    "\n",
    "neg = (background_motif_hits.X > 0).sum(axis=0)\n",
    "neg_total = background_motif_hits.shape[0]"
   ]
  },
  {
   "cell_type": "code",
   "execution_count": 14,
   "metadata": {
    "ExecuteTime": {
     "end_time": "2020-01-17T05:02:02.319524Z",
     "start_time": "2020-01-17T05:02:02.314708Z"
    },
    "papermill": {
     "duration": 0.061991,
     "end_time": "2020-01-14T06:49:40.434763",
     "exception": false,
     "start_time": "2020-01-14T06:49:40.372772",
     "status": "completed"
    },
    "scrolled": true,
    "tags": []
   },
   "outputs": [],
   "source": [
    "tables = {}\n",
    "for motif, _pos, _neg in zip(motif_ids, pos.A1, neg.A1):\n",
    "    table = [[_pos, pos_total - _pos], [_neg, neg_total - _neg]]\n",
    "    tables[motif] = table"
   ]
  },
  {
   "cell_type": "code",
   "execution_count": 15,
   "metadata": {
    "ExecuteTime": {
     "end_time": "2020-01-17T05:02:02.758469Z",
     "start_time": "2020-01-17T05:02:02.321039Z"
    },
    "papermill": {
     "duration": 0.718533,
     "end_time": "2020-01-14T06:49:41.162868",
     "exception": false,
     "start_time": "2020-01-14T06:49:40.444335",
     "status": "completed"
    },
    "tags": []
   },
   "outputs": [],
   "source": [
    "results = {}\n",
    "with ProcessPoolExecutor(20) as executor:\n",
    "    fs = {}\n",
    "    for motif, t in tables.items():\n",
    "        f = executor.submit(stats.fisher_exact, t, alternative='greater')\n",
    "        fs[f] = motif\n",
    "\n",
    "    for f in as_completed(fs):\n",
    "        motif = fs[f]\n",
    "        odds, p = f.result()\n",
    "        results[motif] = {'oddsratio': odds, 'p_value': p}\n",
    "motif_enrich_df = pd.DataFrame(results).T\n",
    "\n",
    "_, p, _, _ = multipletests(motif_enrich_df['p_value'], method='fdr_bh')\n",
    "motif_enrich_df['adj_p'] = p\n",
    "\n",
    "motif_enrich_df['-lgp'] = -np.log10(motif_enrich_df['adj_p']).replace(\n",
    "    -np.inf, -300)\n",
    "\n",
    "records = {}\n",
    "for motif, t in tables.items():\n",
    "    tp, tn = t[0]\n",
    "    fp, fn = t[1]\n",
    "    tp_rate = tp / pos_total\n",
    "    fp_rate = fp / neg_total\n",
    "    records[motif] = dict(tp=tp,\n",
    "                          tn=tn,\n",
    "                          fp=fp,\n",
    "                          fn=fn,\n",
    "                          tp_rate=tp_rate,\n",
    "                          fp_rate=fp_rate)\n",
    "counts = pd.DataFrame(records).T\n",
    "motif_enrich_df = pd.concat([motif_enrich_df, counts], axis=1, sort=True)"
   ]
  },
  {
   "cell_type": "code",
   "execution_count": 16,
   "metadata": {
    "ExecuteTime": {
     "end_time": "2020-01-17T05:02:02.763130Z",
     "start_time": "2020-01-17T05:02:02.760253Z"
    },
    "papermill": {
     "duration": 0.015983,
     "end_time": "2020-01-14T06:49:41.189933",
     "exception": false,
     "start_time": "2020-01-14T06:49:41.173950",
     "status": "completed"
    },
    "tags": []
   },
   "outputs": [],
   "source": [
    "motif_enrich_df['Group'] = group"
   ]
  },
  {
   "cell_type": "code",
   "execution_count": 17,
   "metadata": {
    "ExecuteTime": {
     "end_time": "2020-01-17T05:02:02.770044Z",
     "start_time": "2020-01-17T05:02:02.764577Z"
    },
    "papermill": {
     "duration": 0.018709,
     "end_time": "2020-01-14T06:49:41.218555",
     "exception": false,
     "start_time": "2020-01-14T06:49:41.199846",
     "status": "completed"
    },
    "tags": []
   },
   "outputs": [
    {
     "data": {
      "text/plain": [
       "9"
      ]
     },
     "execution_count": 17,
     "metadata": {},
     "output_type": "execute_result"
    }
   ],
   "source": [
    "# final filter\n",
    "filtered_motif_df = motif_enrich_df[(motif_enrich_df['oddsratio'] > or_cutoff)\n",
    "                                    &\n",
    "                                    (motif_enrich_df['-lgp'] > neg_lgp_cutoff)]\n",
    "filtered_motif_df.shape[0]"
   ]
  },
  {
   "cell_type": "code",
   "execution_count": 18,
   "metadata": {
    "ExecuteTime": {
     "end_time": "2020-01-17T05:02:02.776011Z",
     "start_time": "2020-01-17T05:02:02.771291Z"
    },
    "papermill": {
     "duration": 0.017652,
     "end_time": "2020-01-14T06:49:41.246174",
     "exception": false,
     "start_time": "2020-01-14T06:49:41.228522",
     "status": "completed"
    },
    "tags": []
   },
   "outputs": [
    {
     "name": "stderr",
     "output_type": "stream",
     "text": [
      "/home/hanliu/miniconda3/envs/clustering/lib/python3.7/site-packages/ipykernel_launcher.py:1: FutureWarning: to_msgpack is deprecated and will be removed in a future version.\n",
      "It is recommended to use pyarrow for on-the-wire transmission of pandas objects.\n",
      "  \"\"\"Entry point for launching an IPython kernel.\n"
     ]
    }
   ],
   "source": [
    "motif_enrich_df.to_msgpack(output_dir / f'{group}.motif_enrichment.msg')"
   ]
  },
  {
   "cell_type": "code",
   "execution_count": 19,
   "metadata": {
    "ExecuteTime": {
     "end_time": "2020-01-17T05:02:02.784949Z",
     "start_time": "2020-01-17T05:02:02.777383Z"
    },
    "papermill": {
     "duration": 0.021306,
     "end_time": "2020-01-14T06:49:41.277899",
     "exception": false,
     "start_time": "2020-01-14T06:49:41.256593",
     "status": "completed"
    },
    "tags": []
   },
   "outputs": [],
   "source": [
    "pybedtools.cleanup()"
   ]
  },
  {
   "cell_type": "code",
   "execution_count": 20,
   "metadata": {
    "ExecuteTime": {
     "end_time": "2020-01-17T05:02:02.798356Z",
     "start_time": "2020-01-17T05:02:02.786441Z"
    },
    "papermill": {
     "duration": 0.025611,
     "end_time": "2020-01-14T06:49:41.314597",
     "exception": false,
     "start_time": "2020-01-14T06:49:41.288986",
     "status": "completed"
    },
    "tags": []
   },
   "outputs": [
    {
     "data": {
      "text/html": [
       "<div>\n",
       "<style scoped>\n",
       "    .dataframe tbody tr th:only-of-type {\n",
       "        vertical-align: middle;\n",
       "    }\n",
       "\n",
       "    .dataframe tbody tr th {\n",
       "        vertical-align: top;\n",
       "    }\n",
       "\n",
       "    .dataframe thead th {\n",
       "        text-align: right;\n",
       "    }\n",
       "</style>\n",
       "<table border=\"1\" class=\"dataframe\">\n",
       "  <thead>\n",
       "    <tr style=\"text-align: right;\">\n",
       "      <th></th>\n",
       "      <th>oddsratio</th>\n",
       "      <th>p_value</th>\n",
       "      <th>adj_p</th>\n",
       "      <th>-lgp</th>\n",
       "      <th>tp</th>\n",
       "      <th>tn</th>\n",
       "      <th>fp</th>\n",
       "      <th>fn</th>\n",
       "      <th>tp_rate</th>\n",
       "      <th>fp_rate</th>\n",
       "      <th>Group</th>\n",
       "    </tr>\n",
       "  </thead>\n",
       "  <tbody>\n",
       "    <tr>\n",
       "      <th>MA0068.2</th>\n",
       "      <td>1.824917</td>\n",
       "      <td>1.823606e-14</td>\n",
       "      <td>1.008595e-12</td>\n",
       "      <td>11.996283</td>\n",
       "      <td>206.0</td>\n",
       "      <td>15508.0</td>\n",
       "      <td>2478.0</td>\n",
       "      <td>340434.0</td>\n",
       "      <td>0.013109</td>\n",
       "      <td>0.007226</td>\n",
       "      <td>IT-L6+SSs</td>\n",
       "    </tr>\n",
       "    <tr>\n",
       "      <th>MA0072.1</th>\n",
       "      <td>2.779036</td>\n",
       "      <td>1.730192e-25</td>\n",
       "      <td>2.073347e-23</td>\n",
       "      <td>22.683328</td>\n",
       "      <td>152.0</td>\n",
       "      <td>15562.0</td>\n",
       "      <td>1201.0</td>\n",
       "      <td>341711.0</td>\n",
       "      <td>0.009673</td>\n",
       "      <td>0.003502</td>\n",
       "      <td>IT-L6+SSs</td>\n",
       "    </tr>\n",
       "    <tr>\n",
       "      <th>MA0497.1</th>\n",
       "      <td>1.659149</td>\n",
       "      <td>1.784562e-14</td>\n",
       "      <td>1.008595e-12</td>\n",
       "      <td>11.996283</td>\n",
       "      <td>283.0</td>\n",
       "      <td>15431.0</td>\n",
       "      <td>3749.0</td>\n",
       "      <td>339163.0</td>\n",
       "      <td>0.018009</td>\n",
       "      <td>0.010933</td>\n",
       "      <td>IT-L6+SSs</td>\n",
       "    </tr>\n",
       "    <tr>\n",
       "      <th>MA0507.1</th>\n",
       "      <td>1.954320</td>\n",
       "      <td>1.224179e-24</td>\n",
       "      <td>1.257407e-22</td>\n",
       "      <td>21.900524</td>\n",
       "      <td>307.0</td>\n",
       "      <td>15407.0</td>\n",
       "      <td>3461.0</td>\n",
       "      <td>339451.0</td>\n",
       "      <td>0.019537</td>\n",
       "      <td>0.010093</td>\n",
       "      <td>IT-L6+SSs</td>\n",
       "    </tr>\n",
       "    <tr>\n",
       "      <th>MA0520.1</th>\n",
       "      <td>1.615763</td>\n",
       "      <td>6.965762e-16</td>\n",
       "      <td>5.564870e-14</td>\n",
       "      <td>13.254545</td>\n",
       "      <td>348.0</td>\n",
       "      <td>15366.0</td>\n",
       "      <td>4740.0</td>\n",
       "      <td>338172.0</td>\n",
       "      <td>0.022146</td>\n",
       "      <td>0.013823</td>\n",
       "      <td>IT-L6+SSs</td>\n",
       "    </tr>\n",
       "    <tr>\n",
       "      <th>MA1115.1</th>\n",
       "      <td>1.628672</td>\n",
       "      <td>6.966269e-24</td>\n",
       "      <td>6.260934e-22</td>\n",
       "      <td>21.203361</td>\n",
       "      <td>534.0</td>\n",
       "      <td>15180.0</td>\n",
       "      <td>7250.0</td>\n",
       "      <td>335662.0</td>\n",
       "      <td>0.033982</td>\n",
       "      <td>0.021142</td>\n",
       "      <td>IT-L6+SSs</td>\n",
       "    </tr>\n",
       "    <tr>\n",
       "      <th>MA1150.1</th>\n",
       "      <td>1.550140</td>\n",
       "      <td>1.582992e-15</td>\n",
       "      <td>1.138171e-13</td>\n",
       "      <td>12.943792</td>\n",
       "      <td>402.0</td>\n",
       "      <td>15312.0</td>\n",
       "      <td>5711.0</td>\n",
       "      <td>337201.0</td>\n",
       "      <td>0.025582</td>\n",
       "      <td>0.016654</td>\n",
       "      <td>IT-L6+SSs</td>\n",
       "    </tr>\n",
       "    <tr>\n",
       "      <th>MA1151.1</th>\n",
       "      <td>2.193053</td>\n",
       "      <td>5.644812e-37</td>\n",
       "      <td>1.352873e-34</td>\n",
       "      <td>33.868743</td>\n",
       "      <td>358.0</td>\n",
       "      <td>15356.0</td>\n",
       "      <td>3607.0</td>\n",
       "      <td>339305.0</td>\n",
       "      <td>0.022782</td>\n",
       "      <td>0.010519</td>\n",
       "      <td>IT-L6+SSs</td>\n",
       "    </tr>\n",
       "    <tr>\n",
       "      <th>MA1528.1</th>\n",
       "      <td>1.937293</td>\n",
       "      <td>1.902914e-12</td>\n",
       "      <td>9.121303e-11</td>\n",
       "      <td>10.039943</td>\n",
       "      <td>146.0</td>\n",
       "      <td>15568.0</td>\n",
       "      <td>1652.0</td>\n",
       "      <td>341260.0</td>\n",
       "      <td>0.009291</td>\n",
       "      <td>0.004818</td>\n",
       "      <td>IT-L6+SSs</td>\n",
       "    </tr>\n",
       "  </tbody>\n",
       "</table>\n",
       "</div>"
      ],
      "text/plain": [
       "          oddsratio       p_value         adj_p       -lgp     tp       tn  \\\n",
       "MA0068.2   1.824917  1.823606e-14  1.008595e-12  11.996283  206.0  15508.0   \n",
       "MA0072.1   2.779036  1.730192e-25  2.073347e-23  22.683328  152.0  15562.0   \n",
       "MA0497.1   1.659149  1.784562e-14  1.008595e-12  11.996283  283.0  15431.0   \n",
       "MA0507.1   1.954320  1.224179e-24  1.257407e-22  21.900524  307.0  15407.0   \n",
       "MA0520.1   1.615763  6.965762e-16  5.564870e-14  13.254545  348.0  15366.0   \n",
       "MA1115.1   1.628672  6.966269e-24  6.260934e-22  21.203361  534.0  15180.0   \n",
       "MA1150.1   1.550140  1.582992e-15  1.138171e-13  12.943792  402.0  15312.0   \n",
       "MA1151.1   2.193053  5.644812e-37  1.352873e-34  33.868743  358.0  15356.0   \n",
       "MA1528.1   1.937293  1.902914e-12  9.121303e-11  10.039943  146.0  15568.0   \n",
       "\n",
       "              fp        fn   tp_rate   fp_rate      Group  \n",
       "MA0068.2  2478.0  340434.0  0.013109  0.007226  IT-L6+SSs  \n",
       "MA0072.1  1201.0  341711.0  0.009673  0.003502  IT-L6+SSs  \n",
       "MA0497.1  3749.0  339163.0  0.018009  0.010933  IT-L6+SSs  \n",
       "MA0507.1  3461.0  339451.0  0.019537  0.010093  IT-L6+SSs  \n",
       "MA0520.1  4740.0  338172.0  0.022146  0.013823  IT-L6+SSs  \n",
       "MA1115.1  7250.0  335662.0  0.033982  0.021142  IT-L6+SSs  \n",
       "MA1150.1  5711.0  337201.0  0.025582  0.016654  IT-L6+SSs  \n",
       "MA1151.1  3607.0  339305.0  0.022782  0.010519  IT-L6+SSs  \n",
       "MA1528.1  1652.0  341260.0  0.009291  0.004818  IT-L6+SSs  "
      ]
     },
     "execution_count": 20,
     "metadata": {},
     "output_type": "execute_result"
    }
   ],
   "source": [
    "filtered_motif_df"
   ]
  },
  {
   "cell_type": "code",
   "execution_count": null,
   "metadata": {
    "papermill": {
     "duration": 0.010722,
     "end_time": "2020-01-14T06:49:41.336271",
     "exception": false,
     "start_time": "2020-01-14T06:49:41.325549",
     "status": "completed"
    },
    "tags": []
   },
   "outputs": [],
   "source": []
  }
 ],
 "metadata": {
  "hide_input": false,
  "kernelspec": {
   "display_name": "Python 3",
   "language": "python",
   "name": "python3"
  },
  "language_info": {
   "codemirror_mode": {
    "name": "ipython",
    "version": 3
   },
   "file_extension": ".py",
   "mimetype": "text/x-python",
   "name": "python",
   "nbconvert_exporter": "python",
   "pygments_lexer": "ipython3",
   "version": "3.7.3"
  },
  "papermill": {
   "duration": 10.850181,
   "end_time": "2020-01-14T06:49:41.854300",
   "environment_variables": {},
   "exception": null,
   "input_path": "4.MotifEnrichment.ipynb",
   "output_path": "/home/hanliu/project/mouse_rostral_brain/DMR/ITSpatial_by_layer/IT-L6/Recipe/4.MotifEnrichment.IT-L6+SSs.ipynb",
   "parameters": {
    "dmr_hits_path": "/home/hanliu/project/mouse_rostral_brain/DMR/ITSpatial_by_layer/IT-L6/HypoDMR/IT-L6+SSs.DMS1.bed",
    "group": "IT-L6+SSs",
    "mask_quantile_to99": 0.9,
    "motif_hits_path": "/home/hanliu/project/mouse_rostral_brain/DMR/ITSpatial_by_layer/IT-L6/MotifScan.h5ad",
    "neg_lgp_cutoff": 10,
    "or_cutoff": 1.5,
    "output_dir": "/home/hanliu/project/mouse_rostral_brain/DMR/ITSpatial_by_layer/IT-L6/MotifEnrichment"
   },
   "start_time": "2020-01-14T06:49:31.004119",
   "version": "1.0.1"
  },
  "toc": {
   "base_numbering": 1,
   "nav_menu": {},
   "number_sections": true,
   "sideBar": true,
   "skip_h1_title": true,
   "title_cell": "Table of Contents",
   "title_sidebar": "Contents",
   "toc_cell": false,
   "toc_position": {},
   "toc_section_display": true,
   "toc_window_display": true
  }
 },
 "nbformat": 4,
 "nbformat_minor": 2
}
