{
 "cells": [
  {
   "cell_type": "code",
   "execution_count": 1,
   "metadata": {
    "ExecuteTime": {
     "end_time": "2020-01-11T06:26:26.262114Z",
     "start_time": "2020-01-11T06:26:26.259563Z"
    },
    "papermill": {
     "duration": 1.062233,
     "end_time": "2020-01-12T05:11:37.936149",
     "exception": false,
     "start_time": "2020-01-12T05:11:36.873916",
     "status": "completed"
    },
    "tags": []
   },
   "outputs": [],
   "source": [
    "from ALLCools.dmr.fimo import scan_motif_over_bed\n",
    "import pandas as pd\n",
    "import numpy as np\n",
    "import seaborn as sns\n",
    "import pathlib\n",
    "import anndata\n",
    "import subprocess\n",
    "from scipy.sparse import csr_matrix"
   ]
  },
  {
   "cell_type": "code",
   "execution_count": 2,
   "metadata": {
    "ExecuteTime": {
     "end_time": "2020-01-11T06:26:26.434524Z",
     "start_time": "2020-01-11T06:26:26.432502Z"
    },
    "papermill": {
     "duration": 0.012533,
     "end_time": "2020-01-12T05:11:37.957116",
     "exception": false,
     "start_time": "2020-01-12T05:11:37.944583",
     "status": "completed"
    },
    "tags": [
     "parameters"
    ]
   },
   "outputs": [],
   "source": [
    "bed_path = '/home/hanliu/project/mouse_rostral_brain/DMR/DGmCHGroup/DMR/TotalDMR.nofilter.bed'\n",
    "motif_file_path = '/home/hanliu/ref/MEME/selected_motifs_sets/JASPAR2020_CORE_vertebrates_non-redundant_pfms.has_mouse_id.meme'\n",
    "genome_fasta_path = '/home/hanliu/ref/mouse/genome/fasta/raw/mm10.fa'\n",
    "chrom_size_path = '/home/hanliu/ref/mouse/genome/mm10.main.chrom.sizes'"
   ]
  },
  {
   "cell_type": "code",
   "execution_count": 3,
   "metadata": {
    "papermill": {
     "duration": 0.011432,
     "end_time": "2020-01-12T05:11:37.975190",
     "exception": false,
     "start_time": "2020-01-12T05:11:37.963758",
     "status": "completed"
    },
    "tags": [
     "injected-parameters"
    ]
   },
   "outputs": [],
   "source": [
    "# Parameters\n",
    "bed_path = \"/home/hanliu/project/mouse_rostral_brain/DMR/ITSpatial_by_layer/IT-L6/TotalDMR.nofilter.bed\"\n",
    "motif_file_path = \"/home/hanliu/ref/MEME/selected_motifs_sets/JASPAR2020_CORE_vertebrates_non-redundant_pfms.has_mouse_id.meme\"\n",
    "genome_fasta_path = \"/home/hanliu/ref/mouse/genome/fasta/raw/mm10.fa\"\n",
    "chrom_size_path = \"/home/hanliu/ref/mouse/genome/mm10.main.chrom.sizes\"\n"
   ]
  },
  {
   "cell_type": "code",
   "execution_count": 4,
   "metadata": {
    "ExecuteTime": {
     "end_time": "2020-01-11T06:26:26.789884Z",
     "start_time": "2020-01-11T06:26:26.592466Z"
    },
    "papermill": {
     "duration": 0.252258,
     "end_time": "2020-01-12T05:11:38.234022",
     "exception": false,
     "start_time": "2020-01-12T05:11:37.981764",
     "status": "completed"
    },
    "tags": []
   },
   "outputs": [
    {
     "data": {
      "text/html": [
       "<div>\n",
       "<style scoped>\n",
       "    .dataframe tbody tr th:only-of-type {\n",
       "        vertical-align: middle;\n",
       "    }\n",
       "\n",
       "    .dataframe tbody tr th {\n",
       "        vertical-align: top;\n",
       "    }\n",
       "\n",
       "    .dataframe thead th {\n",
       "        text-align: right;\n",
       "    }\n",
       "</style>\n",
       "<table border=\"1\" class=\"dataframe\">\n",
       "  <thead>\n",
       "    <tr style=\"text-align: right;\">\n",
       "      <th></th>\n",
       "      <th>chrom</th>\n",
       "      <th>start</th>\n",
       "      <th>end</th>\n",
       "    </tr>\n",
       "    <tr>\n",
       "      <th>name</th>\n",
       "      <th></th>\n",
       "      <th></th>\n",
       "      <th></th>\n",
       "    </tr>\n",
       "  </thead>\n",
       "  <tbody>\n",
       "    <tr>\n",
       "      <th>DGm3c_0</th>\n",
       "      <td>chr1</td>\n",
       "      <td>3078267</td>\n",
       "      <td>3078267</td>\n",
       "    </tr>\n",
       "    <tr>\n",
       "      <th>DGm3c_1</th>\n",
       "      <td>chr1</td>\n",
       "      <td>3095224</td>\n",
       "      <td>3095224</td>\n",
       "    </tr>\n",
       "    <tr>\n",
       "      <th>DGm3c_2</th>\n",
       "      <td>chr1</td>\n",
       "      <td>3104112</td>\n",
       "      <td>3104112</td>\n",
       "    </tr>\n",
       "    <tr>\n",
       "      <th>DGm3c_3</th>\n",
       "      <td>chr1</td>\n",
       "      <td>3114936</td>\n",
       "      <td>3115050</td>\n",
       "    </tr>\n",
       "    <tr>\n",
       "      <th>DGm3c_4</th>\n",
       "      <td>chr1</td>\n",
       "      <td>3132168</td>\n",
       "      <td>3132168</td>\n",
       "    </tr>\n",
       "  </tbody>\n",
       "</table>\n",
       "</div>"
      ],
      "text/plain": [
       "        chrom    start      end\n",
       "name                           \n",
       "DGm3c_0  chr1  3078267  3078267\n",
       "DGm3c_1  chr1  3095224  3095224\n",
       "DGm3c_2  chr1  3104112  3104112\n",
       "DGm3c_3  chr1  3114936  3115050\n",
       "DGm3c_4  chr1  3132168  3132168"
      ]
     },
     "execution_count": 4,
     "metadata": {},
     "output_type": "execute_result"
    }
   ],
   "source": [
    "dmr_bed = pd.read_csv(bed_path, sep='\\t', index_col=3, header=None, names=['chrom', 'start', 'end', 'name'])\n",
    "dmr_bed.head()"
   ]
  },
  {
   "cell_type": "code",
   "execution_count": 5,
   "metadata": {
    "ExecuteTime": {
     "end_time": "2020-01-11T06:26:27.226115Z",
     "start_time": "2020-01-11T06:26:27.223813Z"
    },
    "papermill": {
     "duration": 0.012458,
     "end_time": "2020-01-12T05:11:38.254837",
     "exception": false,
     "start_time": "2020-01-12T05:11:38.242379",
     "status": "completed"
    },
    "tags": []
   },
   "outputs": [],
   "source": [
    "output_path = pathlib.Path(bed_path).parent / 'MotifScan.h5ad'"
   ]
  },
  {
   "cell_type": "markdown",
   "metadata": {
    "papermill": {
     "duration": 0.006716,
     "end_time": "2020-01-12T05:11:38.268358",
     "exception": false,
     "start_time": "2020-01-12T05:11:38.261642",
     "status": "completed"
    },
    "tags": []
   },
   "source": [
    "## Scan motif"
   ]
  },
  {
   "cell_type": "code",
   "execution_count": 6,
   "metadata": {
    "papermill": {
     "duration": 446.54938,
     "end_time": "2020-01-12T05:19:04.824460",
     "exception": false,
     "start_time": "2020-01-12T05:11:38.275080",
     "status": "completed"
    },
    "tags": []
   },
   "outputs": [
    {
     "name": "stdout",
     "output_type": "stream",
     "text": [
      "724 motifs to count.\n"
     ]
    },
    {
     "name": "stdout",
     "output_type": "stream",
     "text": [
      "Motif MA0151.1 Arid3a do not have any match under current settings.\n"
     ]
    },
    {
     "name": "stdout",
     "output_type": "stream",
     "text": [
      "Motif MA0006.1 Ahr::Arnt do not have any match under current settings.\n"
     ]
    },
    {
     "name": "stdout",
     "output_type": "stream",
     "text": [
      "/home/hanliu/project/mouse_rostral_brain/DMR/ITSpatial_by_layer/IT-L6/MotifScan.h5adtemp/MA0877.2.meme, N motif total=4936\n"
     ]
    },
    {
     "name": "stderr",
     "output_type": "stream",
     "text": [
      "/home/hanliu/miniconda3/envs/clustering/lib/python3.7/site-packages/ALLCools/dmr/fimo.py:60: FutureWarning: to_msgpack is deprecated and will be removed in a future version.\n",
      "It is recommended to use pyarrow for on-the-wire transmission of pandas objects.\n",
      "  final_df.to_msgpack(output_path, compress='zlib')\n"
     ]
    },
    {
     "name": "stdout",
     "output_type": "stream",
     "text": [
      "Motif MA0004.1 Arnt do not have any match under current settings.\n"
     ]
    },
    {
     "name": "stdout",
     "output_type": "stream",
     "text": [
      "/home/hanliu/project/mouse_rostral_brain/DMR/ITSpatial_by_layer/IT-L6/MotifScan.h5adtemp/MA0875.1.meme, N motif total=15365\n"
     ]
    },
    {
     "name": "stderr",
     "output_type": "stream",
     "text": [
      "/home/hanliu/miniconda3/envs/clustering/lib/python3.7/site-packages/ALLCools/dmr/fimo.py:60: FutureWarning: to_msgpack is deprecated and will be removed in a future version.\n",
      "It is recommended to use pyarrow for on-the-wire transmission of pandas objects.\n",
      "  final_df.to_msgpack(output_path, compress='zlib')\n"
     ]
    },
    {
     "name": "stdout",
     "output_type": "stream",
     "text": [
      "/home/hanliu/project/mouse_rostral_brain/DMR/ITSpatial_by_layer/IT-L6/MotifScan.h5adtemp/MA0604.1.meme, N motif total=7823\n"
     ]
    },
    {
     "name": "stderr",
     "output_type": "stream",
     "text": [
      "/home/hanliu/miniconda3/envs/clustering/lib/python3.7/site-packages/ALLCools/dmr/fimo.py:60: FutureWarning: to_msgpack is deprecated and will be removed in a future version.\n",
      "It is recommended to use pyarrow for on-the-wire transmission of pandas objects.\n",
      "  final_df.to_msgpack(output_path, compress='zlib')\n"
     ]
    },
    {
     "name": "stdout",
     "output_type": "stream",
     "text": [
      "/home/hanliu/project/mouse_rostral_brain/DMR/ITSpatial_by_layer/IT-L6/MotifScan.h5adtemp/MA0259.1.meme, N motif total=15334\n"
     ]
    },
    {
     "name": "stderr",
     "output_type": "stream",
     "text": [
      "/home/hanliu/miniconda3/envs/clustering/lib/python3.7/site-packages/ALLCools/dmr/fimo.py:60: FutureWarning: to_msgpack is deprecated and will be removed in a future version.\n",
      "It is recommended to use pyarrow for on-the-wire transmission of pandas objects.\n",
      "  final_df.to_msgpack(output_path, compress='zlib')\n"
     ]
    },
    {
     "name": "stdout",
     "output_type": "stream",
     "text": [
      "/home/hanliu/project/mouse_rostral_brain/DMR/ITSpatial_by_layer/IT-L6/MotifScan.h5adtemp/MA0607.1.meme, N motif total=49298\n"
     ]
    },
    {
     "name": "stderr",
     "output_type": "stream",
     "text": [
      "/home/hanliu/miniconda3/envs/clustering/lib/python3.7/site-packages/ALLCools/dmr/fimo.py:60: FutureWarning: to_msgpack is deprecated and will be removed in a future version.\n",
      "It is recommended to use pyarrow for on-the-wire transmission of pandas objects.\n",
      "  final_df.to_msgpack(output_path, compress='zlib')\n"
     ]
    },
    {
     "name": "stdout",
     "output_type": "stream",
     "text": [
      "/home/hanliu/project/mouse_rostral_brain/DMR/ITSpatial_by_layer/IT-L6/MotifScan.h5adtemp/MA0635.1.meme, N motif total=9163\n"
     ]
    },
    {
     "name": "stderr",
     "output_type": "stream",
     "text": [
      "/home/hanliu/miniconda3/envs/clustering/lib/python3.7/site-packages/ALLCools/dmr/fimo.py:60: FutureWarning: to_msgpack is deprecated and will be removed in a future version.\n",
      "It is recommended to use pyarrow for on-the-wire transmission of pandas objects.\n",
      "  final_df.to_msgpack(output_path, compress='zlib')\n"
     ]
    },
    {
     "name": "stdout",
     "output_type": "stream",
     "text": [
      "/home/hanliu/project/mouse_rostral_brain/DMR/ITSpatial_by_layer/IT-L6/MotifScan.h5adtemp/MA0835.2.meme, N motif total=47788\n"
     ]
    },
    {
     "name": "stderr",
     "output_type": "stream",
     "text": [
      "/home/hanliu/miniconda3/envs/clustering/lib/python3.7/site-packages/ALLCools/dmr/fimo.py:60: FutureWarning: to_msgpack is deprecated and will be removed in a future version.\n",
      "It is recommended to use pyarrow for on-the-wire transmission of pandas objects.\n",
      "  final_df.to_msgpack(output_path, compress='zlib')\n"
     ]
    },
    {
     "name": "stdout",
     "output_type": "stream",
     "text": [
      "/home/hanliu/project/mouse_rostral_brain/DMR/ITSpatial_by_layer/IT-L6/MotifScan.h5adtemp/MA0601.1.meme, N motif total=29511\n"
     ]
    },
    {
     "name": "stderr",
     "output_type": "stream",
     "text": [
      "/home/hanliu/miniconda3/envs/clustering/lib/python3.7/site-packages/ALLCools/dmr/fimo.py:60: FutureWarning: to_msgpack is deprecated and will be removed in a future version.\n",
      "It is recommended to use pyarrow for on-the-wire transmission of pandas objects.\n",
      "  final_df.to_msgpack(output_path, compress='zlib')\n"
     ]
    },
    {
     "name": "stdout",
     "output_type": "stream",
     "text": [
      "/home/hanliu/project/mouse_rostral_brain/DMR/ITSpatial_by_layer/IT-L6/MotifScan.h5adtemp/MA0634.1.meme, N motif total=22477\n"
     ]
    },
    {
     "name": "stderr",
     "output_type": "stream",
     "text": [
      "/home/hanliu/miniconda3/envs/clustering/lib/python3.7/site-packages/ALLCools/dmr/fimo.py:60: FutureWarning: to_msgpack is deprecated and will be removed in a future version.\n",
      "It is recommended to use pyarrow for on-the-wire transmission of pandas objects.\n",
      "  final_df.to_msgpack(output_path, compress='zlib')\n"
     ]
    },
    {
     "name": "stdout",
     "output_type": "stream",
     "text": [
      "/home/hanliu/project/mouse_rostral_brain/DMR/ITSpatial_by_layer/IT-L6/MotifScan.h5adtemp/MA0603.1.meme, N motif total=18715\n"
     ]
    },
    {
     "name": "stderr",
     "output_type": "stream",
     "text": [
      "/home/hanliu/miniconda3/envs/clustering/lib/python3.7/site-packages/ALLCools/dmr/fimo.py:60: FutureWarning: to_msgpack is deprecated and will be removed in a future version.\n",
      "It is recommended to use pyarrow for on-the-wire transmission of pandas objects.\n",
      "  final_df.to_msgpack(output_path, compress='zlib')\n"
     ]
    },
    {
     "name": "stdout",
     "output_type": "stream",
     "text": [
      "/home/hanliu/project/mouse_rostral_brain/DMR/ITSpatial_by_layer/IT-L6/MotifScan.h5adtemp/MA1464.1.meme, N motif total=21858\n"
     ]
    },
    {
     "name": "stderr",
     "output_type": "stream",
     "text": [
      "/home/hanliu/miniconda3/envs/clustering/lib/python3.7/site-packages/ALLCools/dmr/fimo.py:60: FutureWarning: to_msgpack is deprecated and will be removed in a future version.\n",
      "It is recommended to use pyarrow for on-the-wire transmission of pandas objects.\n",
      "  final_df.to_msgpack(output_path, compress='zlib')\n"
     ]
    },
    {
     "name": "stdout",
     "output_type": "stream",
     "text": [
      "/home/hanliu/project/mouse_rostral_brain/DMR/ITSpatial_by_layer/IT-L6/MotifScan.h5adtemp/MA0461.2.meme, N motif total=42068\n"
     ]
    },
    {
     "name": "stderr",
     "output_type": "stream",
     "text": [
      "/home/hanliu/miniconda3/envs/clustering/lib/python3.7/site-packages/ALLCools/dmr/fimo.py:60: FutureWarning: to_msgpack is deprecated and will be removed in a future version.\n",
      "It is recommended to use pyarrow for on-the-wire transmission of pandas objects.\n",
      "  final_df.to_msgpack(output_path, compress='zlib')\n"
     ]
    },
    {
     "name": "stdout",
     "output_type": "stream",
     "text": [
      "/home/hanliu/project/mouse_rostral_brain/DMR/ITSpatial_by_layer/IT-L6/MotifScan.h5adtemp/MA1468.1.meme, N motif total=43924\n"
     ]
    },
    {
     "name": "stderr",
     "output_type": "stream",
     "text": [
      "/home/hanliu/miniconda3/envs/clustering/lib/python3.7/site-packages/ALLCools/dmr/fimo.py:60: FutureWarning: to_msgpack is deprecated and will be removed in a future version.\n",
      "It is recommended to use pyarrow for on-the-wire transmission of pandas objects.\n",
      "  final_df.to_msgpack(output_path, compress='zlib')\n"
     ]
    },
    {
     "name": "stdout",
     "output_type": "stream",
     "text": [
      "/home/hanliu/project/mouse_rostral_brain/DMR/ITSpatial_by_layer/IT-L6/MotifScan.h5adtemp/MA1472.1.meme, N motif total=96231\n"
     ]
    },
    {
     "name": "stderr",
     "output_type": "stream",
     "text": [
      "/home/hanliu/miniconda3/envs/clustering/lib/python3.7/site-packages/ALLCools/dmr/fimo.py:60: FutureWarning: to_msgpack is deprecated and will be removed in a future version.\n",
      "It is recommended to use pyarrow for on-the-wire transmission of pandas objects.\n",
      "  final_df.to_msgpack(output_path, compress='zlib')\n"
     ]
    },
    {
     "name": "stdout",
     "output_type": "stream",
     "text": [
      "/home/hanliu/project/mouse_rostral_brain/DMR/ITSpatial_by_layer/IT-L6/MotifScan.h5adtemp/MA1467.1.meme, N motif total=84185\n"
     ]
    },
    {
     "name": "stderr",
     "output_type": "stream",
     "text": [
      "/home/hanliu/miniconda3/envs/clustering/lib/python3.7/site-packages/ALLCools/dmr/fimo.py:60: FutureWarning: to_msgpack is deprecated and will be removed in a future version.\n",
      "It is recommended to use pyarrow for on-the-wire transmission of pandas objects.\n",
      "  final_df.to_msgpack(output_path, compress='zlib')\n"
     ]
    },
    {
     "name": "stdout",
     "output_type": "stream",
     "text": [
      "/home/hanliu/project/mouse_rostral_brain/DMR/ITSpatial_by_layer/IT-L6/MotifScan.h5adtemp/MA1100.2.meme, N motif total=90074\n"
     ]
    },
    {
     "name": "stderr",
     "output_type": "stream",
     "text": [
      "/home/hanliu/miniconda3/envs/clustering/lib/python3.7/site-packages/ALLCools/dmr/fimo.py:60: FutureWarning: to_msgpack is deprecated and will be removed in a future version.\n",
      "It is recommended to use pyarrow for on-the-wire transmission of pandas objects.\n",
      "  final_df.to_msgpack(output_path, compress='zlib')\n"
     ]
    },
    {
     "name": "stdout",
     "output_type": "stream",
     "text": [
      "/home/hanliu/project/mouse_rostral_brain/DMR/ITSpatial_by_layer/IT-L6/MotifScan.h5adtemp/MA0816.1.meme, N motif total=98719\n"
     ]
    },
    {
     "name": "stderr",
     "output_type": "stream",
     "text": [
      "/home/hanliu/miniconda3/envs/clustering/lib/python3.7/site-packages/ALLCools/dmr/fimo.py:60: FutureWarning: to_msgpack is deprecated and will be removed in a future version.\n",
      "It is recommended to use pyarrow for on-the-wire transmission of pandas objects.\n",
      "  final_df.to_msgpack(output_path, compress='zlib')\n"
     ]
    },
    {
     "name": "stdout",
     "output_type": "stream",
     "text": [
      "/home/hanliu/project/mouse_rostral_brain/DMR/ITSpatial_by_layer/IT-L6/MotifScan.h5adtemp/MA1471.1.meme, N motif total=22273\n"
     ]
    },
    {
     "name": "stderr",
     "output_type": "stream",
     "text": [
      "/home/hanliu/miniconda3/envs/clustering/lib/python3.7/site-packages/ALLCools/dmr/fimo.py:60: FutureWarning: to_msgpack is deprecated and will be removed in a future version.\n",
      "It is recommended to use pyarrow for on-the-wire transmission of pandas objects.\n",
      "  final_df.to_msgpack(output_path, compress='zlib')\n"
     ]
    },
    {
     "name": "stdout",
     "output_type": "stream",
     "text": [
      "/home/hanliu/project/mouse_rostral_brain/DMR/ITSpatial_by_layer/IT-L6/MotifScan.h5adtemp/MA0462.2.meme, N motif total=53056\n"
     ]
    },
    {
     "name": "stderr",
     "output_type": "stream",
     "text": [
      "/home/hanliu/miniconda3/envs/clustering/lib/python3.7/site-packages/ALLCools/dmr/fimo.py:60: FutureWarning: to_msgpack is deprecated and will be removed in a future version.\n",
      "It is recommended to use pyarrow for on-the-wire transmission of pandas objects.\n",
      "  final_df.to_msgpack(output_path, compress='zlib')\n"
     ]
    },
    {
     "name": "stdout",
     "output_type": "stream",
     "text": [
      "/home/hanliu/project/mouse_rostral_brain/DMR/ITSpatial_by_layer/IT-L6/MotifScan.h5adtemp/MA1632.1.meme, N motif total=32604\n"
     ]
    },
    {
     "name": "stderr",
     "output_type": "stream",
     "text": [
      "/home/hanliu/miniconda3/envs/clustering/lib/python3.7/site-packages/ALLCools/dmr/fimo.py:60: FutureWarning: to_msgpack is deprecated and will be removed in a future version.\n",
      "It is recommended to use pyarrow for on-the-wire transmission of pandas objects.\n",
      "  final_df.to_msgpack(output_path, compress='zlib')\n"
     ]
    },
    {
     "name": "stdout",
     "output_type": "stream",
     "text": [
      "/home/hanliu/project/mouse_rostral_brain/DMR/ITSpatial_by_layer/IT-L6/MotifScan.h5adtemp/MA0605.2.meme, N motif total=17373\n"
     ]
    },
    {
     "name": "stderr",
     "output_type": "stream",
     "text": [
      "/home/hanliu/miniconda3/envs/clustering/lib/python3.7/site-packages/ALLCools/dmr/fimo.py:60: FutureWarning: to_msgpack is deprecated and will be removed in a future version.\n",
      "It is recommended to use pyarrow for on-the-wire transmission of pandas objects.\n",
      "  final_df.to_msgpack(output_path, compress='zlib')\n"
     ]
    },
    {
     "name": "stdout",
     "output_type": "stream",
     "text": [
      "/home/hanliu/project/mouse_rostral_brain/DMR/ITSpatial_by_layer/IT-L6/MotifScan.h5adtemp/MA0834.1.meme, N motif total=16826\n"
     ]
    },
    {
     "name": "stderr",
     "output_type": "stream",
     "text": [
      "/home/hanliu/miniconda3/envs/clustering/lib/python3.7/site-packages/ALLCools/dmr/fimo.py:60: FutureWarning: to_msgpack is deprecated and will be removed in a future version.\n",
      "It is recommended to use pyarrow for on-the-wire transmission of pandas objects.\n",
      "  final_df.to_msgpack(output_path, compress='zlib')\n"
     ]
    },
    {
     "name": "stdout",
     "output_type": "stream",
     "text": [
      "/home/hanliu/project/mouse_rostral_brain/DMR/ITSpatial_by_layer/IT-L6/MotifScan.h5adtemp/MA1634.1.meme, N motif total=53418\n"
     ]
    },
    {
     "name": "stderr",
     "output_type": "stream",
     "text": [
      "/home/hanliu/miniconda3/envs/clustering/lib/python3.7/site-packages/ALLCools/dmr/fimo.py:60: FutureWarning: to_msgpack is deprecated and will be removed in a future version.\n",
      "It is recommended to use pyarrow for on-the-wire transmission of pandas objects.\n",
      "  final_df.to_msgpack(output_path, compress='zlib')\n"
     ]
    },
    {
     "name": "stdout",
     "output_type": "stream",
     "text": [
      "/home/hanliu/project/mouse_rostral_brain/DMR/ITSpatial_by_layer/IT-L6/MotifScan.h5adtemp/MA1466.1.meme, N motif total=7051\n"
     ]
    },
    {
     "name": "stderr",
     "output_type": "stream",
     "text": [
      "/home/hanliu/miniconda3/envs/clustering/lib/python3.7/site-packages/ALLCools/dmr/fimo.py:60: FutureWarning: to_msgpack is deprecated and will be removed in a future version.\n",
      "It is recommended to use pyarrow for on-the-wire transmission of pandas objects.\n",
      "  final_df.to_msgpack(output_path, compress='zlib')\n"
     ]
    },
    {
     "name": "stdout",
     "output_type": "stream",
     "text": [
      "/home/hanliu/project/mouse_rostral_brain/DMR/ITSpatial_by_layer/IT-L6/MotifScan.h5adtemp/MA0833.2.meme, N motif total=25768\n"
     ]
    },
    {
     "name": "stderr",
     "output_type": "stream",
     "text": [
      "/home/hanliu/miniconda3/envs/clustering/lib/python3.7/site-packages/ALLCools/dmr/fimo.py:60: FutureWarning: to_msgpack is deprecated and will be removed in a future version.\n",
      "It is recommended to use pyarrow for on-the-wire transmission of pandas objects.\n",
      "  final_df.to_msgpack(output_path, compress='zlib')\n"
     ]
    },
    {
     "name": "stdout",
     "output_type": "stream",
     "text": [
      "/home/hanliu/project/mouse_rostral_brain/DMR/ITSpatial_by_layer/IT-L6/MotifScan.h5adtemp/MA0602.1.meme, N motif total=21159\n"
     ]
    },
    {
     "name": "stderr",
     "output_type": "stream",
     "text": [
      "/home/hanliu/miniconda3/envs/clustering/lib/python3.7/site-packages/ALLCools/dmr/fimo.py:60: FutureWarning: to_msgpack is deprecated and will be removed in a future version.\n",
      "It is recommended to use pyarrow for on-the-wire transmission of pandas objects.\n",
      "  final_df.to_msgpack(output_path, compress='zlib')\n"
     ]
    },
    {
     "name": "stdout",
     "output_type": "stream",
     "text": [
      "/home/hanliu/project/mouse_rostral_brain/DMR/ITSpatial_by_layer/IT-L6/MotifScan.h5adtemp/MA1631.1.meme, N motif total=77724\n"
     ]
    },
    {
     "name": "stderr",
     "output_type": "stream",
     "text": [
      "/home/hanliu/miniconda3/envs/clustering/lib/python3.7/site-packages/ALLCools/dmr/fimo.py:60: FutureWarning: to_msgpack is deprecated and will be removed in a future version.\n",
      "It is recommended to use pyarrow for on-the-wire transmission of pandas objects.\n",
      "  final_df.to_msgpack(output_path, compress='zlib')\n"
     ]
    },
    {
     "name": "stdout",
     "output_type": "stream",
     "text": [
      "/home/hanliu/project/mouse_rostral_brain/DMR/ITSpatial_by_layer/IT-L6/MotifScan.h5adtemp/MA1633.1.meme, N motif total=66632\n"
     ]
    },
    {
     "name": "stderr",
     "output_type": "stream",
     "text": [
      "/home/hanliu/miniconda3/envs/clustering/lib/python3.7/site-packages/ALLCools/dmr/fimo.py:60: FutureWarning: to_msgpack is deprecated and will be removed in a future version.\n",
      "It is recommended to use pyarrow for on-the-wire transmission of pandas objects.\n",
      "  final_df.to_msgpack(output_path, compress='zlib')\n"
     ]
    },
    {
     "name": "stdout",
     "output_type": "stream",
     "text": [
      "/home/hanliu/project/mouse_rostral_brain/DMR/ITSpatial_by_layer/IT-L6/MotifScan.h5adtemp/MA0591.1.meme, N motif total=51918\n"
     ]
    },
    {
     "name": "stderr",
     "output_type": "stream",
     "text": [
      "/home/hanliu/miniconda3/envs/clustering/lib/python3.7/site-packages/ALLCools/dmr/fimo.py:60: FutureWarning: to_msgpack is deprecated and will be removed in a future version.\n",
      "It is recommended to use pyarrow for on-the-wire transmission of pandas objects.\n",
      "  final_df.to_msgpack(output_path, compress='zlib')\n"
     ]
    },
    {
     "name": "stdout",
     "output_type": "stream",
     "text": [
      "/home/hanliu/project/mouse_rostral_brain/DMR/ITSpatial_by_layer/IT-L6/MotifScan.h5adtemp/MA0853.1.meme, N motif total=16389\n"
     ]
    },
    {
     "name": "stderr",
     "output_type": "stream",
     "text": [
      "/home/hanliu/miniconda3/envs/clustering/lib/python3.7/site-packages/ALLCools/dmr/fimo.py:60: FutureWarning: to_msgpack is deprecated and will be removed in a future version.\n",
      "It is recommended to use pyarrow for on-the-wire transmission of pandas objects.\n",
      "  final_df.to_msgpack(output_path, compress='zlib')\n"
     ]
    },
    {
     "name": "stdout",
     "output_type": "stream",
     "text": [
      "/home/hanliu/project/mouse_rostral_brain/DMR/ITSpatial_by_layer/IT-L6/MotifScan.h5adtemp/MA0854.1.meme, N motif total=16837\n"
     ]
    },
    {
     "name": "stderr",
     "output_type": "stream",
     "text": [
      "/home/hanliu/miniconda3/envs/clustering/lib/python3.7/site-packages/ALLCools/dmr/fimo.py:60: FutureWarning: to_msgpack is deprecated and will be removed in a future version.\n",
      "It is recommended to use pyarrow for on-the-wire transmission of pandas objects.\n",
      "  final_df.to_msgpack(output_path, compress='zlib')\n"
     ]
    },
    {
     "name": "stdout",
     "output_type": "stream",
     "text": [
      "/home/hanliu/project/mouse_rostral_brain/DMR/ITSpatial_by_layer/IT-L6/MotifScan.h5adtemp/MA0463.2.meme, N motif total=36380\n"
     ]
    },
    {
     "name": "stderr",
     "output_type": "stream",
     "text": [
      "/home/hanliu/miniconda3/envs/clustering/lib/python3.7/site-packages/ALLCools/dmr/fimo.py:60: FutureWarning: to_msgpack is deprecated and will be removed in a future version.\n",
      "It is recommended to use pyarrow for on-the-wire transmission of pandas objects.\n",
      "  final_df.to_msgpack(output_path, compress='zlib')\n"
     ]
    },
    {
     "name": "stdout",
     "output_type": "stream",
     "text": [
      "/home/hanliu/project/mouse_rostral_brain/DMR/ITSpatial_by_layer/IT-L6/MotifScan.h5adtemp/MA0874.1.meme, N motif total=17083\n"
     ]
    },
    {
     "name": "stderr",
     "output_type": "stream",
     "text": [
      "/home/hanliu/miniconda3/envs/clustering/lib/python3.7/site-packages/ALLCools/dmr/fimo.py:60: FutureWarning: to_msgpack is deprecated and will be removed in a future version.\n",
      "It is recommended to use pyarrow for on-the-wire transmission of pandas objects.\n",
      "  final_df.to_msgpack(output_path, compress='zlib')\n"
     ]
    },
    {
     "name": "stdout",
     "output_type": "stream",
     "text": [
      "/home/hanliu/project/mouse_rostral_brain/DMR/ITSpatial_by_layer/IT-L6/MotifScan.h5adtemp/MA0007.3.meme, N motif total=29675\n"
     ]
    },
    {
     "name": "stderr",
     "output_type": "stream",
     "text": [
      "/home/hanliu/miniconda3/envs/clustering/lib/python3.7/site-packages/ALLCools/dmr/fimo.py:60: FutureWarning: to_msgpack is deprecated and will be removed in a future version.\n",
      "It is recommended to use pyarrow for on-the-wire transmission of pandas objects.\n",
      "  final_df.to_msgpack(output_path, compress='zlib')\n"
     ]
    },
    {
     "name": "stdout",
     "output_type": "stream",
     "text": [
      "/home/hanliu/project/mouse_rostral_brain/DMR/ITSpatial_by_layer/IT-L6/MotifScan.h5adtemp/MA1101.2.meme, N motif total=39798\n"
     ]
    },
    {
     "name": "stderr",
     "output_type": "stream",
     "text": [
      "/home/hanliu/miniconda3/envs/clustering/lib/python3.7/site-packages/ALLCools/dmr/fimo.py:60: FutureWarning: to_msgpack is deprecated and will be removed in a future version.\n",
      "It is recommended to use pyarrow for on-the-wire transmission of pandas objects.\n",
      "  final_df.to_msgpack(output_path, compress='zlib')\n"
     ]
    },
    {
     "name": "stdout",
     "output_type": "stream",
     "text": [
      "/home/hanliu/project/mouse_rostral_brain/DMR/ITSpatial_by_layer/IT-L6/MotifScan.h5adtemp/MA0731.1.meme, N motif total=360\n"
     ]
    },
    {
     "name": "stderr",
     "output_type": "stream",
     "text": [
      "/home/hanliu/miniconda3/envs/clustering/lib/python3.7/site-packages/ALLCools/dmr/fimo.py:60: FutureWarning: to_msgpack is deprecated and will be removed in a future version.\n",
      "It is recommended to use pyarrow for on-the-wire transmission of pandas objects.\n",
      "  final_df.to_msgpack(output_path, compress='zlib')\n"
     ]
    },
    {
     "name": "stdout",
     "output_type": "stream",
     "text": [
      "/home/hanliu/project/mouse_rostral_brain/DMR/ITSpatial_by_layer/IT-L6/MotifScan.h5adtemp/MA1470.1.meme, N motif total=2195\n"
     ]
    },
    {
     "name": "stderr",
     "output_type": "stream",
     "text": [
      "/home/hanliu/miniconda3/envs/clustering/lib/python3.7/site-packages/ALLCools/dmr/fimo.py:60: FutureWarning: to_msgpack is deprecated and will be removed in a future version.\n",
      "It is recommended to use pyarrow for on-the-wire transmission of pandas objects.\n",
      "  final_df.to_msgpack(output_path, compress='zlib')\n"
     ]
    },
    {
     "name": "stdout",
     "output_type": "stream",
     "text": [
      "/home/hanliu/project/mouse_rostral_brain/DMR/ITSpatial_by_layer/IT-L6/MotifScan.h5adtemp/MA0876.1.meme, N motif total=15845\n"
     ]
    },
    {
     "name": "stderr",
     "output_type": "stream",
     "text": [
      "/home/hanliu/miniconda3/envs/clustering/lib/python3.7/site-packages/ALLCools/dmr/fimo.py:60: FutureWarning: to_msgpack is deprecated and will be removed in a future version.\n",
      "It is recommended to use pyarrow for on-the-wire transmission of pandas objects.\n",
      "  final_df.to_msgpack(output_path, compress='zlib')\n"
     ]
    },
    {
     "name": "stdout",
     "output_type": "stream",
     "text": [
      "/home/hanliu/project/mouse_rostral_brain/DMR/ITSpatial_by_layer/IT-L6/MotifScan.h5adtemp/MA0818.1.meme, N motif total=28648\n"
     ]
    },
    {
     "name": "stderr",
     "output_type": "stream",
     "text": [
      "/home/hanliu/miniconda3/envs/clustering/lib/python3.7/site-packages/ALLCools/dmr/fimo.py:60: FutureWarning: to_msgpack is deprecated and will be removed in a future version.\n",
      "It is recommended to use pyarrow for on-the-wire transmission of pandas objects.\n",
      "  final_df.to_msgpack(output_path, compress='zlib')\n"
     ]
    },
    {
     "name": "stdout",
     "output_type": "stream",
     "text": [
      "/home/hanliu/project/mouse_rostral_brain/DMR/ITSpatial_by_layer/IT-L6/MotifScan.h5adtemp/MA1635.1.meme, N motif total=105350\n"
     ]
    },
    {
     "name": "stderr",
     "output_type": "stream",
     "text": [
      "/home/hanliu/miniconda3/envs/clustering/lib/python3.7/site-packages/ALLCools/dmr/fimo.py:60: FutureWarning: to_msgpack is deprecated and will be removed in a future version.\n",
      "It is recommended to use pyarrow for on-the-wire transmission of pandas objects.\n",
      "  final_df.to_msgpack(output_path, compress='zlib')\n"
     ]
    },
    {
     "name": "stdout",
     "output_type": "stream",
     "text": [
      "/home/hanliu/project/mouse_rostral_brain/DMR/ITSpatial_by_layer/IT-L6/MotifScan.h5adtemp/MA0464.2.meme, N motif total=20464\n"
     ]
    },
    {
     "name": "stderr",
     "output_type": "stream",
     "text": [
      "/home/hanliu/miniconda3/envs/clustering/lib/python3.7/site-packages/ALLCools/dmr/fimo.py:60: FutureWarning: to_msgpack is deprecated and will be removed in a future version.\n",
      "It is recommended to use pyarrow for on-the-wire transmission of pandas objects.\n",
      "  final_df.to_msgpack(output_path, compress='zlib')\n"
     ]
    },
    {
     "name": "stdout",
     "output_type": "stream",
     "text": [
      "/home/hanliu/project/mouse_rostral_brain/DMR/ITSpatial_by_layer/IT-L6/MotifScan.h5adtemp/MA0817.1.meme, N motif total=31097\n"
     ]
    },
    {
     "name": "stderr",
     "output_type": "stream",
     "text": [
      "/home/hanliu/miniconda3/envs/clustering/lib/python3.7/site-packages/ALLCools/dmr/fimo.py:60: FutureWarning: to_msgpack is deprecated and will be removed in a future version.\n",
      "It is recommended to use pyarrow for on-the-wire transmission of pandas objects.\n",
      "  final_df.to_msgpack(output_path, compress='zlib')\n"
     ]
    },
    {
     "name": "stdout",
     "output_type": "stream",
     "text": [
      "/home/hanliu/project/mouse_rostral_brain/DMR/ITSpatial_by_layer/IT-L6/MotifScan.h5adtemp/MA0636.1.meme, N motif total=17230\n"
     ]
    },
    {
     "name": "stderr",
     "output_type": "stream",
     "text": [
      "/home/hanliu/miniconda3/envs/clustering/lib/python3.7/site-packages/ALLCools/dmr/fimo.py:60: FutureWarning: to_msgpack is deprecated and will be removed in a future version.\n",
      "It is recommended to use pyarrow for on-the-wire transmission of pandas objects.\n",
      "  final_df.to_msgpack(output_path, compress='zlib')\n"
     ]
    },
    {
     "name": "stdout",
     "output_type": "stream",
     "text": [
      "/home/hanliu/project/mouse_rostral_brain/DMR/ITSpatial_by_layer/IT-L6/MotifScan.h5adtemp/MA0878.2.meme, N motif total=26903\n"
     ]
    },
    {
     "name": "stderr",
     "output_type": "stream",
     "text": [
      "/home/hanliu/miniconda3/envs/clustering/lib/python3.7/site-packages/ALLCools/dmr/fimo.py:60: FutureWarning: to_msgpack is deprecated and will be removed in a future version.\n",
      "It is recommended to use pyarrow for on-the-wire transmission of pandas objects.\n",
      "  final_df.to_msgpack(output_path, compress='zlib')\n"
     ]
    },
    {
     "name": "stdout",
     "output_type": "stream",
     "text": [
      "/home/hanliu/project/mouse_rostral_brain/DMR/ITSpatial_by_layer/IT-L6/MotifScan.h5adtemp/MA0466.2.meme, N motif total=7909\n"
     ]
    },
    {
     "name": "stderr",
     "output_type": "stream",
     "text": [
      "/home/hanliu/miniconda3/envs/clustering/lib/python3.7/site-packages/ALLCools/dmr/fimo.py:60: FutureWarning: to_msgpack is deprecated and will be removed in a future version.\n",
      "It is recommended to use pyarrow for on-the-wire transmission of pandas objects.\n",
      "  final_df.to_msgpack(output_path, compress='zlib')\n"
     ]
    },
    {
     "name": "stdout",
     "output_type": "stream",
     "text": [
      "/home/hanliu/project/mouse_rostral_brain/DMR/ITSpatial_by_layer/IT-L6/MotifScan.h5adtemp/MA0465.2.meme, N motif total=36852\n"
     ]
    },
    {
     "name": "stderr",
     "output_type": "stream",
     "text": [
      "/home/hanliu/miniconda3/envs/clustering/lib/python3.7/site-packages/ALLCools/dmr/fimo.py:60: FutureWarning: to_msgpack is deprecated and will be removed in a future version.\n",
      "It is recommended to use pyarrow for on-the-wire transmission of pandas objects.\n",
      "  final_df.to_msgpack(output_path, compress='zlib')\n"
     ]
    },
    {
     "name": "stdout",
     "output_type": "stream",
     "text": [
      "/home/hanliu/project/mouse_rostral_brain/DMR/ITSpatial_by_layer/IT-L6/MotifScan.h5adtemp/MA1473.1.meme, N motif total=28154\n"
     ]
    },
    {
     "name": "stderr",
     "output_type": "stream",
     "text": [
      "/home/hanliu/miniconda3/envs/clustering/lib/python3.7/site-packages/ALLCools/dmr/fimo.py:60: FutureWarning: to_msgpack is deprecated and will be removed in a future version.\n",
      "It is recommended to use pyarrow for on-the-wire transmission of pandas objects.\n",
      "  final_df.to_msgpack(output_path, compress='zlib')\n"
     ]
    },
    {
     "name": "stdout",
     "output_type": "stream",
     "text": [
      "/home/hanliu/project/mouse_rostral_brain/DMR/ITSpatial_by_layer/IT-L6/MotifScan.h5adtemp/MA0885.1.meme, N motif total=15294\n"
     ]
    },
    {
     "name": "stderr",
     "output_type": "stream",
     "text": [
      "/home/hanliu/miniconda3/envs/clustering/lib/python3.7/site-packages/ALLCools/dmr/fimo.py:60: FutureWarning: to_msgpack is deprecated and will be removed in a future version.\n",
      "It is recommended to use pyarrow for on-the-wire transmission of pandas objects.\n",
      "  final_df.to_msgpack(output_path, compress='zlib')\n"
     ]
    },
    {
     "name": "stdout",
     "output_type": "stream",
     "text": [
      "/home/hanliu/project/mouse_rostral_brain/DMR/ITSpatial_by_layer/IT-L6/MotifScan.h5adtemp/MA0837.1.meme, N motif total=8173\n"
     ]
    },
    {
     "name": "stderr",
     "output_type": "stream",
     "text": [
      "/home/hanliu/miniconda3/envs/clustering/lib/python3.7/site-packages/ALLCools/dmr/fimo.py:60: FutureWarning: to_msgpack is deprecated and will be removed in a future version.\n",
      "It is recommended to use pyarrow for on-the-wire transmission of pandas objects.\n",
      "  final_df.to_msgpack(output_path, compress='zlib')\n"
     ]
    },
    {
     "name": "stdout",
     "output_type": "stream",
     "text": [
      "/home/hanliu/project/mouse_rostral_brain/DMR/ITSpatial_by_layer/IT-L6/MotifScan.h5adtemp/MA0608.1.meme, N motif total=17418\n"
     ]
    },
    {
     "name": "stderr",
     "output_type": "stream",
     "text": [
      "/home/hanliu/miniconda3/envs/clustering/lib/python3.7/site-packages/ALLCools/dmr/fimo.py:60: FutureWarning: to_msgpack is deprecated and will be removed in a future version.\n",
      "It is recommended to use pyarrow for on-the-wire transmission of pandas objects.\n",
      "  final_df.to_msgpack(output_path, compress='zlib')\n"
     ]
    },
    {
     "name": "stdout",
     "output_type": "stream",
     "text": [
      "/home/hanliu/project/mouse_rostral_brain/DMR/ITSpatial_by_layer/IT-L6/MotifScan.h5adtemp/MA0754.1.meme, N motif total=7379\n"
     ]
    },
    {
     "name": "stderr",
     "output_type": "stream",
     "text": [
      "/home/hanliu/miniconda3/envs/clustering/lib/python3.7/site-packages/ALLCools/dmr/fimo.py:60: FutureWarning: to_msgpack is deprecated and will be removed in a future version.\n",
      "It is recommended to use pyarrow for on-the-wire transmission of pandas objects.\n",
      "  final_df.to_msgpack(output_path, compress='zlib')\n"
     ]
    },
    {
     "name": "stdout",
     "output_type": "stream",
     "text": [
      "/home/hanliu/project/mouse_rostral_brain/DMR/ITSpatial_by_layer/IT-L6/MotifScan.h5adtemp/MA0881.1.meme, N motif total=13029\n"
     ]
    },
    {
     "name": "stderr",
     "output_type": "stream",
     "text": [
      "/home/hanliu/miniconda3/envs/clustering/lib/python3.7/site-packages/ALLCools/dmr/fimo.py:60: FutureWarning: to_msgpack is deprecated and will be removed in a future version.\n",
      "It is recommended to use pyarrow for on-the-wire transmission of pandas objects.\n",
      "  final_df.to_msgpack(output_path, compress='zlib')\n"
     ]
    },
    {
     "name": "stdout",
     "output_type": "stream",
     "text": [
      "/home/hanliu/project/mouse_rostral_brain/DMR/ITSpatial_by_layer/IT-L6/MotifScan.h5adtemp/MA0880.1.meme, N motif total=9529\n"
     ]
    },
    {
     "name": "stderr",
     "output_type": "stream",
     "text": [
      "/home/hanliu/miniconda3/envs/clustering/lib/python3.7/site-packages/ALLCools/dmr/fimo.py:60: FutureWarning: to_msgpack is deprecated and will be removed in a future version.\n",
      "It is recommended to use pyarrow for on-the-wire transmission of pandas objects.\n",
      "  final_df.to_msgpack(output_path, compress='zlib')\n"
     ]
    },
    {
     "name": "stdout",
     "output_type": "stream",
     "text": [
      "/home/hanliu/project/mouse_rostral_brain/DMR/ITSpatial_by_layer/IT-L6/MotifScan.h5adtemp/MA0838.1.meme, N motif total=7782\n"
     ]
    },
    {
     "name": "stderr",
     "output_type": "stream",
     "text": [
      "/home/hanliu/miniconda3/envs/clustering/lib/python3.7/site-packages/ALLCools/dmr/fimo.py:60: FutureWarning: to_msgpack is deprecated and will be removed in a future version.\n",
      "It is recommended to use pyarrow for on-the-wire transmission of pandas objects.\n",
      "  final_df.to_msgpack(output_path, compress='zlib')\n"
     ]
    },
    {
     "name": "stdout",
     "output_type": "stream",
     "text": [
      "/home/hanliu/project/mouse_rostral_brain/DMR/ITSpatial_by_layer/IT-L6/MotifScan.h5adtemp/MA1475.1.meme, N motif total=12886\n"
     ]
    },
    {
     "name": "stderr",
     "output_type": "stream",
     "text": [
      "/home/hanliu/miniconda3/envs/clustering/lib/python3.7/site-packages/ALLCools/dmr/fimo.py:60: FutureWarning: to_msgpack is deprecated and will be removed in a future version.\n",
      "It is recommended to use pyarrow for on-the-wire transmission of pandas objects.\n",
      "  final_df.to_msgpack(output_path, compress='zlib')\n"
     ]
    },
    {
     "name": "stdout",
     "output_type": "stream",
     "text": [
      "/home/hanliu/project/mouse_rostral_brain/DMR/ITSpatial_by_layer/IT-L6/MotifScan.h5adtemp/MA0018.4.meme, N motif total=38882\n"
     ]
    },
    {
     "name": "stderr",
     "output_type": "stream",
     "text": [
      "/home/hanliu/miniconda3/envs/clustering/lib/python3.7/site-packages/ALLCools/dmr/fimo.py:60: FutureWarning: to_msgpack is deprecated and will be removed in a future version.\n",
      "It is recommended to use pyarrow for on-the-wire transmission of pandas objects.\n",
      "  final_df.to_msgpack(output_path, compress='zlib')\n"
     ]
    },
    {
     "name": "stdout",
     "output_type": "stream",
     "text": [
      "/home/hanliu/project/mouse_rostral_brain/DMR/ITSpatial_by_layer/IT-L6/MotifScan.h5adtemp/MA0467.1.meme, N motif total=27324\n"
     ]
    },
    {
     "name": "stderr",
     "output_type": "stream",
     "text": [
      "/home/hanliu/miniconda3/envs/clustering/lib/python3.7/site-packages/ALLCools/dmr/fimo.py:60: FutureWarning: to_msgpack is deprecated and will be removed in a future version.\n",
      "It is recommended to use pyarrow for on-the-wire transmission of pandas objects.\n",
      "  final_df.to_msgpack(output_path, compress='zlib')\n"
     ]
    },
    {
     "name": "stdout",
     "output_type": "stream",
     "text": [
      "/home/hanliu/project/mouse_rostral_brain/DMR/ITSpatial_by_layer/IT-L6/MotifScan.h5adtemp/MA0102.4.meme, N motif total=23843\n"
     ]
    },
    {
     "name": "stderr",
     "output_type": "stream",
     "text": [
      "/home/hanliu/miniconda3/envs/clustering/lib/python3.7/site-packages/ALLCools/dmr/fimo.py:60: FutureWarning: to_msgpack is deprecated and will be removed in a future version.\n",
      "It is recommended to use pyarrow for on-the-wire transmission of pandas objects.\n",
      "  final_df.to_msgpack(output_path, compress='zlib')\n"
     ]
    },
    {
     "name": "stdout",
     "output_type": "stream",
     "text": [
      "/home/hanliu/project/mouse_rostral_brain/DMR/ITSpatial_by_layer/IT-L6/MotifScan.h5adtemp/MA1474.1.meme, N motif total=15592\n"
     ]
    },
    {
     "name": "stderr",
     "output_type": "stream",
     "text": [
      "/home/hanliu/miniconda3/envs/clustering/lib/python3.7/site-packages/ALLCools/dmr/fimo.py:60: FutureWarning: to_msgpack is deprecated and will be removed in a future version.\n",
      "It is recommended to use pyarrow for on-the-wire transmission of pandas objects.\n",
      "  final_df.to_msgpack(output_path, compress='zlib')\n"
     ]
    },
    {
     "name": "stdout",
     "output_type": "stream",
     "text": [
      "/home/hanliu/project/mouse_rostral_brain/DMR/ITSpatial_by_layer/IT-L6/MotifScan.h5adtemp/MA0836.2.meme, N motif total=23698\n"
     ]
    },
    {
     "name": "stderr",
     "output_type": "stream",
     "text": [
      "/home/hanliu/miniconda3/envs/clustering/lib/python3.7/site-packages/ALLCools/dmr/fimo.py:60: FutureWarning: to_msgpack is deprecated and will be removed in a future version.\n",
      "It is recommended to use pyarrow for on-the-wire transmission of pandas objects.\n",
      "  final_df.to_msgpack(output_path, compress='zlib')\n"
     ]
    },
    {
     "name": "stdout",
     "output_type": "stream",
     "text": [
      "/home/hanliu/project/mouse_rostral_brain/DMR/ITSpatial_by_layer/IT-L6/MotifScan.h5adtemp/MA0840.1.meme, N motif total=18518\n"
     ]
    },
    {
     "name": "stderr",
     "output_type": "stream",
     "text": [
      "/home/hanliu/miniconda3/envs/clustering/lib/python3.7/site-packages/ALLCools/dmr/fimo.py:60: FutureWarning: to_msgpack is deprecated and will be removed in a future version.\n",
      "It is recommended to use pyarrow for on-the-wire transmission of pandas objects.\n",
      "  final_df.to_msgpack(output_path, compress='zlib')\n"
     ]
    },
    {
     "name": "stdout",
     "output_type": "stream",
     "text": [
      "/home/hanliu/project/mouse_rostral_brain/DMR/ITSpatial_by_layer/IT-L6/MotifScan.h5adtemp/MA0819.1.meme, N motif total=29605\n"
     ]
    },
    {
     "name": "stderr",
     "output_type": "stream",
     "text": [
      "/home/hanliu/miniconda3/envs/clustering/lib/python3.7/site-packages/ALLCools/dmr/fimo.py:60: FutureWarning: to_msgpack is deprecated and will be removed in a future version.\n",
      "It is recommended to use pyarrow for on-the-wire transmission of pandas objects.\n",
      "  final_df.to_msgpack(output_path, compress='zlib')\n"
     ]
    },
    {
     "name": "stdout",
     "output_type": "stream",
     "text": [
      "/home/hanliu/project/mouse_rostral_brain/DMR/ITSpatial_by_layer/IT-L6/MotifScan.h5adtemp/MA1476.1.meme, N motif total=14516\n"
     ]
    },
    {
     "name": "stderr",
     "output_type": "stream",
     "text": [
      "/home/hanliu/miniconda3/envs/clustering/lib/python3.7/site-packages/ALLCools/dmr/fimo.py:60: FutureWarning: to_msgpack is deprecated and will be removed in a future version.\n",
      "It is recommended to use pyarrow for on-the-wire transmission of pandas objects.\n",
      "  final_df.to_msgpack(output_path, compress='zlib')\n"
     ]
    },
    {
     "name": "stdout",
     "output_type": "stream",
     "text": [
      "/home/hanliu/project/mouse_rostral_brain/DMR/ITSpatial_by_layer/IT-L6/MotifScan.h5adtemp/MA0755.1.meme, N motif total=6943\n"
     ]
    },
    {
     "name": "stderr",
     "output_type": "stream",
     "text": [
      "/home/hanliu/miniconda3/envs/clustering/lib/python3.7/site-packages/ALLCools/dmr/fimo.py:60: FutureWarning: to_msgpack is deprecated and will be removed in a future version.\n",
      "It is recommended to use pyarrow for on-the-wire transmission of pandas objects.\n",
      "  final_df.to_msgpack(output_path, compress='zlib')\n"
     ]
    },
    {
     "name": "stdout",
     "output_type": "stream",
     "text": [
      "/home/hanliu/project/mouse_rostral_brain/DMR/ITSpatial_by_layer/IT-L6/MotifScan.h5adtemp/MA0882.1.meme, N motif total=12600\n"
     ]
    },
    {
     "name": "stderr",
     "output_type": "stream",
     "text": [
      "/home/hanliu/miniconda3/envs/clustering/lib/python3.7/site-packages/ALLCools/dmr/fimo.py:60: FutureWarning: to_msgpack is deprecated and will be removed in a future version.\n",
      "It is recommended to use pyarrow for on-the-wire transmission of pandas objects.\n",
      "  final_df.to_msgpack(output_path, compress='zlib')\n"
     ]
    },
    {
     "name": "stdout",
     "output_type": "stream",
     "text": [
      "/home/hanliu/project/mouse_rostral_brain/DMR/ITSpatial_by_layer/IT-L6/MotifScan.h5adtemp/MA0839.1.meme, N motif total=17290\n"
     ]
    },
    {
     "name": "stderr",
     "output_type": "stream",
     "text": [
      "/home/hanliu/miniconda3/envs/clustering/lib/python3.7/site-packages/ALLCools/dmr/fimo.py:60: FutureWarning: to_msgpack is deprecated and will be removed in a future version.\n",
      "It is recommended to use pyarrow for on-the-wire transmission of pandas objects.\n",
      "  final_df.to_msgpack(output_path, compress='zlib')\n"
     ]
    },
    {
     "name": "stdout",
     "output_type": "stream",
     "text": [
      "/home/hanliu/project/mouse_rostral_brain/DMR/ITSpatial_by_layer/IT-L6/MotifScan.h5adtemp/MA1102.2.meme, N motif total=47459\n"
     ]
    },
    {
     "name": "stderr",
     "output_type": "stream",
     "text": [
      "/home/hanliu/miniconda3/envs/clustering/lib/python3.7/site-packages/ALLCools/dmr/fimo.py:60: FutureWarning: to_msgpack is deprecated and will be removed in a future version.\n",
      "It is recommended to use pyarrow for on-the-wire transmission of pandas objects.\n",
      "  final_df.to_msgpack(output_path, compress='zlib')\n"
     ]
    },
    {
     "name": "stdout",
     "output_type": "stream",
     "text": [
      "/home/hanliu/project/mouse_rostral_brain/DMR/ITSpatial_by_layer/IT-L6/MotifScan.h5adtemp/MA1636.1.meme, N motif total=25736\n"
     ]
    },
    {
     "name": "stderr",
     "output_type": "stream",
     "text": [
      "/home/hanliu/miniconda3/envs/clustering/lib/python3.7/site-packages/ALLCools/dmr/fimo.py:60: FutureWarning: to_msgpack is deprecated and will be removed in a future version.\n",
      "It is recommended to use pyarrow for on-the-wire transmission of pandas objects.\n",
      "  final_df.to_msgpack(output_path, compress='zlib')\n"
     ]
    },
    {
     "name": "stdout",
     "output_type": "stream",
     "text": [
      "/home/hanliu/project/mouse_rostral_brain/DMR/ITSpatial_by_layer/IT-L6/MotifScan.h5adtemp/MA0638.1.meme, N motif total=11114\n"
     ]
    },
    {
     "name": "stderr",
     "output_type": "stream",
     "text": [
      "/home/hanliu/miniconda3/envs/clustering/lib/python3.7/site-packages/ALLCools/dmr/fimo.py:60: FutureWarning: to_msgpack is deprecated and will be removed in a future version.\n",
      "It is recommended to use pyarrow for on-the-wire transmission of pandas objects.\n",
      "  final_df.to_msgpack(output_path, compress='zlib')\n"
     ]
    },
    {
     "name": "stdout",
     "output_type": "stream",
     "text": [
      "/home/hanliu/project/mouse_rostral_brain/DMR/ITSpatial_by_layer/IT-L6/MotifScan.h5adtemp/MA0879.1.meme, N motif total=14372\n"
     ]
    },
    {
     "name": "stderr",
     "output_type": "stream",
     "text": [
      "/home/hanliu/miniconda3/envs/clustering/lib/python3.7/site-packages/ALLCools/dmr/fimo.py:60: FutureWarning: to_msgpack is deprecated and will be removed in a future version.\n",
      "It is recommended to use pyarrow for on-the-wire transmission of pandas objects.\n",
      "  final_df.to_msgpack(output_path, compress='zlib')\n"
     ]
    },
    {
     "name": "stdout",
     "output_type": "stream",
     "text": [
      "/home/hanliu/project/mouse_rostral_brain/DMR/ITSpatial_by_layer/IT-L6/MotifScan.h5adtemp/MA0637.1.meme, N motif total=5541\n"
     ]
    },
    {
     "name": "stderr",
     "output_type": "stream",
     "text": [
      "/home/hanliu/miniconda3/envs/clustering/lib/python3.7/site-packages/ALLCools/dmr/fimo.py:60: FutureWarning: to_msgpack is deprecated and will be removed in a future version.\n",
      "It is recommended to use pyarrow for on-the-wire transmission of pandas objects.\n",
      "  final_df.to_msgpack(output_path, compress='zlib')\n"
     ]
    },
    {
     "name": "stdout",
     "output_type": "stream",
     "text": [
      "/home/hanliu/project/mouse_rostral_brain/DMR/ITSpatial_by_layer/IT-L6/MotifScan.h5adtemp/MA0019.1.meme, N motif total=21966\n"
     ]
    },
    {
     "name": "stderr",
     "output_type": "stream",
     "text": [
      "/home/hanliu/miniconda3/envs/clustering/lib/python3.7/site-packages/ALLCools/dmr/fimo.py:60: FutureWarning: to_msgpack is deprecated and will be removed in a future version.\n",
      "It is recommended to use pyarrow for on-the-wire transmission of pandas objects.\n",
      "  final_df.to_msgpack(output_path, compress='zlib')\n"
     ]
    },
    {
     "name": "stdout",
     "output_type": "stream",
     "text": [
      "/home/hanliu/project/mouse_rostral_brain/DMR/ITSpatial_by_layer/IT-L6/MotifScan.h5adtemp/MA0639.1.meme, N motif total=16079\n"
     ]
    },
    {
     "name": "stderr",
     "output_type": "stream",
     "text": [
      "/home/hanliu/miniconda3/envs/clustering/lib/python3.7/site-packages/ALLCools/dmr/fimo.py:60: FutureWarning: to_msgpack is deprecated and will be removed in a future version.\n",
      "It is recommended to use pyarrow for on-the-wire transmission of pandas objects.\n",
      "  final_df.to_msgpack(output_path, compress='zlib')\n"
     ]
    },
    {
     "name": "stdout",
     "output_type": "stream",
     "text": [
      "/home/hanliu/project/mouse_rostral_brain/DMR/ITSpatial_by_layer/IT-L6/MotifScan.h5adtemp/MA0609.2.meme, N motif total=27234\n"
     ]
    },
    {
     "name": "stderr",
     "output_type": "stream",
     "text": [
      "/home/hanliu/miniconda3/envs/clustering/lib/python3.7/site-packages/ALLCools/dmr/fimo.py:60: FutureWarning: to_msgpack is deprecated and will be removed in a future version.\n",
      "It is recommended to use pyarrow for on-the-wire transmission of pandas objects.\n",
      "  final_df.to_msgpack(output_path, compress='zlib')\n"
     ]
    },
    {
     "name": "stdout",
     "output_type": "stream",
     "text": [
      "/home/hanliu/project/mouse_rostral_brain/DMR/ITSpatial_by_layer/IT-L6/MotifScan.h5adtemp/MA0139.1.meme, N motif total=61609\n"
     ]
    },
    {
     "name": "stderr",
     "output_type": "stream",
     "text": [
      "/home/hanliu/miniconda3/envs/clustering/lib/python3.7/site-packages/ALLCools/dmr/fimo.py:60: FutureWarning: to_msgpack is deprecated and will be removed in a future version.\n",
      "It is recommended to use pyarrow for on-the-wire transmission of pandas objects.\n",
      "  final_df.to_msgpack(output_path, compress='zlib')\n"
     ]
    },
    {
     "name": "stdout",
     "output_type": "stream",
     "text": [
      "/home/hanliu/project/mouse_rostral_brain/DMR/ITSpatial_by_layer/IT-L6/MotifScan.h5adtemp/MA1603.1.meme, N motif total=34541\n"
     ]
    },
    {
     "name": "stderr",
     "output_type": "stream",
     "text": [
      "/home/hanliu/miniconda3/envs/clustering/lib/python3.7/site-packages/ALLCools/dmr/fimo.py:60: FutureWarning: to_msgpack is deprecated and will be removed in a future version.\n",
      "It is recommended to use pyarrow for on-the-wire transmission of pandas objects.\n",
      "  final_df.to_msgpack(output_path, compress='zlib')\n"
     ]
    },
    {
     "name": "stdout",
     "output_type": "stream",
     "text": [
      "/home/hanliu/project/mouse_rostral_brain/DMR/ITSpatial_by_layer/IT-L6/MotifScan.h5adtemp/MA0883.1.meme, N motif total=14042\n"
     ]
    },
    {
     "name": "stderr",
     "output_type": "stream",
     "text": [
      "/home/hanliu/miniconda3/envs/clustering/lib/python3.7/site-packages/ALLCools/dmr/fimo.py:60: FutureWarning: to_msgpack is deprecated and will be removed in a future version.\n",
      "It is recommended to use pyarrow for on-the-wire transmission of pandas objects.\n",
      "  final_df.to_msgpack(output_path, compress='zlib')\n"
     ]
    },
    {
     "name": "stdout",
     "output_type": "stream",
     "text": [
      "/home/hanliu/project/mouse_rostral_brain/DMR/ITSpatial_by_layer/IT-L6/MotifScan.h5adtemp/MA0610.1.meme, N motif total=22982\n"
     ]
    },
    {
     "name": "stderr",
     "output_type": "stream",
     "text": [
      "/home/hanliu/miniconda3/envs/clustering/lib/python3.7/site-packages/ALLCools/dmr/fimo.py:60: FutureWarning: to_msgpack is deprecated and will be removed in a future version.\n",
      "It is recommended to use pyarrow for on-the-wire transmission of pandas objects.\n",
      "  final_df.to_msgpack(output_path, compress='zlib')\n"
     ]
    },
    {
     "name": "stdout",
     "output_type": "stream",
     "text": [
      "/home/hanliu/project/mouse_rostral_brain/DMR/ITSpatial_by_layer/IT-L6/MotifScan.h5adtemp/MA1478.1.meme, N motif total=23723\n"
     ]
    },
    {
     "name": "stderr",
     "output_type": "stream",
     "text": [
      "/home/hanliu/miniconda3/envs/clustering/lib/python3.7/site-packages/ALLCools/dmr/fimo.py:60: FutureWarning: to_msgpack is deprecated and will be removed in a future version.\n",
      "It is recommended to use pyarrow for on-the-wire transmission of pandas objects.\n",
      "  final_df.to_msgpack(output_path, compress='zlib')\n"
     ]
    },
    {
     "name": "stdout",
     "output_type": "stream",
     "text": [
      "/home/hanliu/project/mouse_rostral_brain/DMR/ITSpatial_by_layer/IT-L6/MotifScan.h5adtemp/MA1481.1.meme, N motif total=11916\n"
     ]
    },
    {
     "name": "stderr",
     "output_type": "stream",
     "text": [
      "/home/hanliu/miniconda3/envs/clustering/lib/python3.7/site-packages/ALLCools/dmr/fimo.py:60: FutureWarning: to_msgpack is deprecated and will be removed in a future version.\n",
      "It is recommended to use pyarrow for on-the-wire transmission of pandas objects.\n",
      "  final_df.to_msgpack(output_path, compress='zlib')\n"
     ]
    },
    {
     "name": "stdout",
     "output_type": "stream",
     "text": [
      "/home/hanliu/project/mouse_rostral_brain/DMR/ITSpatial_by_layer/IT-L6/MotifScan.h5adtemp/MA0024.3.meme, N motif total=5887\n"
     ]
    },
    {
     "name": "stderr",
     "output_type": "stream",
     "text": [
      "/home/hanliu/miniconda3/envs/clustering/lib/python3.7/site-packages/ALLCools/dmr/fimo.py:60: FutureWarning: to_msgpack is deprecated and will be removed in a future version.\n",
      "It is recommended to use pyarrow for on-the-wire transmission of pandas objects.\n",
      "  final_df.to_msgpack(output_path, compress='zlib')\n"
     ]
    },
    {
     "name": "stdout",
     "output_type": "stream",
     "text": [
      "/home/hanliu/project/mouse_rostral_brain/DMR/ITSpatial_by_layer/IT-L6/MotifScan.h5adtemp/MA1479.1.meme, N motif total=26866\n"
     ]
    },
    {
     "name": "stderr",
     "output_type": "stream",
     "text": [
      "/home/hanliu/miniconda3/envs/clustering/lib/python3.7/site-packages/ALLCools/dmr/fimo.py:60: FutureWarning: to_msgpack is deprecated and will be removed in a future version.\n",
      "It is recommended to use pyarrow for on-the-wire transmission of pandas objects.\n",
      "  final_df.to_msgpack(output_path, compress='zlib')\n"
     ]
    },
    {
     "name": "stdout",
     "output_type": "stream",
     "text": [
      "/home/hanliu/project/mouse_rostral_brain/DMR/ITSpatial_by_layer/IT-L6/MotifScan.h5adtemp/MA0027.2.meme, N motif total=14509\n"
     ]
    },
    {
     "name": "stderr",
     "output_type": "stream",
     "text": [
      "/home/hanliu/miniconda3/envs/clustering/lib/python3.7/site-packages/ALLCools/dmr/fimo.py:60: FutureWarning: to_msgpack is deprecated and will be removed in a future version.\n",
      "It is recommended to use pyarrow for on-the-wire transmission of pandas objects.\n",
      "  final_df.to_msgpack(output_path, compress='zlib')\n"
     ]
    },
    {
     "name": "stdout",
     "output_type": "stream",
     "text": [
      "/home/hanliu/project/mouse_rostral_brain/DMR/ITSpatial_by_layer/IT-L6/MotifScan.h5adtemp/MA0470.2.meme, N motif total=3911\n"
     ]
    },
    {
     "name": "stderr",
     "output_type": "stream",
     "text": [
      "/home/hanliu/miniconda3/envs/clustering/lib/python3.7/site-packages/ALLCools/dmr/fimo.py:60: FutureWarning: to_msgpack is deprecated and will be removed in a future version.\n",
      "It is recommended to use pyarrow for on-the-wire transmission of pandas objects.\n",
      "  final_df.to_msgpack(output_path, compress='zlib')\n"
     ]
    },
    {
     "name": "stdout",
     "output_type": "stream",
     "text": [
      "/home/hanliu/project/mouse_rostral_brain/DMR/ITSpatial_by_layer/IT-L6/MotifScan.h5adtemp/MA0759.1.meme, N motif total=13200\n"
     ]
    },
    {
     "name": "stderr",
     "output_type": "stream",
     "text": [
      "/home/hanliu/miniconda3/envs/clustering/lib/python3.7/site-packages/ALLCools/dmr/fimo.py:60: FutureWarning: to_msgpack is deprecated and will be removed in a future version.\n",
      "It is recommended to use pyarrow for on-the-wire transmission of pandas objects.\n",
      "  final_df.to_msgpack(output_path, compress='zlib')\n"
     ]
    },
    {
     "name": "stdout",
     "output_type": "stream",
     "text": [
      "/home/hanliu/project/mouse_rostral_brain/DMR/ITSpatial_by_layer/IT-L6/MotifScan.h5adtemp/MA0472.2.meme, N motif total=28157\n"
     ]
    },
    {
     "name": "stderr",
     "output_type": "stream",
     "text": [
      "/home/hanliu/miniconda3/envs/clustering/lib/python3.7/site-packages/ALLCools/dmr/fimo.py:60: FutureWarning: to_msgpack is deprecated and will be removed in a future version.\n",
      "It is recommended to use pyarrow for on-the-wire transmission of pandas objects.\n",
      "  final_df.to_msgpack(output_path, compress='zlib')\n"
     ]
    },
    {
     "name": "stdout",
     "output_type": "stream",
     "text": [
      "/home/hanliu/project/mouse_rostral_brain/DMR/ITSpatial_by_layer/IT-L6/MotifScan.h5adtemp/MA0469.3.meme, N motif total=1962\n"
     ]
    },
    {
     "name": "stderr",
     "output_type": "stream",
     "text": [
      "/home/hanliu/miniconda3/envs/clustering/lib/python3.7/site-packages/ALLCools/dmr/fimo.py:60: FutureWarning: to_msgpack is deprecated and will be removed in a future version.\n",
      "It is recommended to use pyarrow for on-the-wire transmission of pandas objects.\n",
      "  final_df.to_msgpack(output_path, compress='zlib')\n"
     ]
    },
    {
     "name": "stdout",
     "output_type": "stream",
     "text": [
      "/home/hanliu/project/mouse_rostral_brain/DMR/ITSpatial_by_layer/IT-L6/MotifScan.h5adtemp/MA0612.2.meme, N motif total=13058\n"
     ]
    },
    {
     "name": "stderr",
     "output_type": "stream",
     "text": [
      "/home/hanliu/miniconda3/envs/clustering/lib/python3.7/site-packages/ALLCools/dmr/fimo.py:60: FutureWarning: to_msgpack is deprecated and will be removed in a future version.\n",
      "It is recommended to use pyarrow for on-the-wire transmission of pandas objects.\n",
      "  final_df.to_msgpack(output_path, compress='zlib')\n"
     ]
    },
    {
     "name": "stdout",
     "output_type": "stream",
     "text": [
      "/home/hanliu/project/mouse_rostral_brain/DMR/ITSpatial_by_layer/IT-L6/MotifScan.h5adtemp/MA0028.2.meme, N motif total=12014\n"
     ]
    },
    {
     "name": "stderr",
     "output_type": "stream",
     "text": [
      "/home/hanliu/miniconda3/envs/clustering/lib/python3.7/site-packages/ALLCools/dmr/fimo.py:60: FutureWarning: to_msgpack is deprecated and will be removed in a future version.\n",
      "It is recommended to use pyarrow for on-the-wire transmission of pandas objects.\n",
      "  final_df.to_msgpack(output_path, compress='zlib')\n"
     ]
    },
    {
     "name": "stdout",
     "output_type": "stream",
     "text": [
      "/home/hanliu/project/mouse_rostral_brain/DMR/ITSpatial_by_layer/IT-L6/MotifScan.h5adtemp/MA0864.2.meme, N motif total=4311\n"
     ]
    },
    {
     "name": "stderr",
     "output_type": "stream",
     "text": [
      "/home/hanliu/miniconda3/envs/clustering/lib/python3.7/site-packages/ALLCools/dmr/fimo.py:60: FutureWarning: to_msgpack is deprecated and will be removed in a future version.\n",
      "It is recommended to use pyarrow for on-the-wire transmission of pandas objects.\n",
      "  final_df.to_msgpack(output_path, compress='zlib')\n"
     ]
    },
    {
     "name": "stdout",
     "output_type": "stream",
     "text": [
      "/home/hanliu/project/mouse_rostral_brain/DMR/ITSpatial_by_layer/IT-L6/MotifScan.h5adtemp/MA0641.1.meme, N motif total=23671\n"
     ]
    },
    {
     "name": "stderr",
     "output_type": "stream",
     "text": [
      "/home/hanliu/miniconda3/envs/clustering/lib/python3.7/site-packages/ALLCools/dmr/fimo.py:60: FutureWarning: to_msgpack is deprecated and will be removed in a future version.\n",
      "It is recommended to use pyarrow for on-the-wire transmission of pandas objects.\n",
      "  final_df.to_msgpack(output_path, compress='zlib')\n"
     ]
    },
    {
     "name": "stdout",
     "output_type": "stream",
     "text": [
      "/home/hanliu/project/mouse_rostral_brain/DMR/ITSpatial_by_layer/IT-L6/MotifScan.h5adtemp/MA0886.1.meme, N motif total=14250\n"
     ]
    },
    {
     "name": "stderr",
     "output_type": "stream",
     "text": [
      "/home/hanliu/miniconda3/envs/clustering/lib/python3.7/site-packages/ALLCools/dmr/fimo.py:60: FutureWarning: to_msgpack is deprecated and will be removed in a future version.\n",
      "It is recommended to use pyarrow for on-the-wire transmission of pandas objects.\n",
      "  final_df.to_msgpack(output_path, compress='zlib')\n"
     ]
    },
    {
     "name": "stdout",
     "output_type": "stream",
     "text": [
      "/home/hanliu/project/mouse_rostral_brain/DMR/ITSpatial_by_layer/IT-L6/MotifScan.h5adtemp/MA0758.1.meme, N motif total=994\n"
     ]
    },
    {
     "name": "stderr",
     "output_type": "stream",
     "text": [
      "/home/hanliu/miniconda3/envs/clustering/lib/python3.7/site-packages/ALLCools/dmr/fimo.py:60: FutureWarning: to_msgpack is deprecated and will be removed in a future version.\n",
      "It is recommended to use pyarrow for on-the-wire transmission of pandas objects.\n",
      "  final_df.to_msgpack(output_path, compress='zlib')\n"
     ]
    },
    {
     "name": "stdout",
     "output_type": "stream",
     "text": [
      "/home/hanliu/project/mouse_rostral_brain/DMR/ITSpatial_by_layer/IT-L6/MotifScan.h5adtemp/MA1637.1.meme, N motif total=66237\n"
     ]
    },
    {
     "name": "stderr",
     "output_type": "stream",
     "text": [
      "/home/hanliu/miniconda3/envs/clustering/lib/python3.7/site-packages/ALLCools/dmr/fimo.py:60: FutureWarning: to_msgpack is deprecated and will be removed in a future version.\n",
      "It is recommended to use pyarrow for on-the-wire transmission of pandas objects.\n",
      "  final_df.to_msgpack(output_path, compress='zlib')\n"
     ]
    },
    {
     "name": "stdout",
     "output_type": "stream",
     "text": [
      "/home/hanliu/project/mouse_rostral_brain/DMR/ITSpatial_by_layer/IT-L6/MotifScan.h5adtemp/MA1483.1.meme, N motif total=20375\n"
     ]
    },
    {
     "name": "stderr",
     "output_type": "stream",
     "text": [
      "/home/hanliu/miniconda3/envs/clustering/lib/python3.7/site-packages/ALLCools/dmr/fimo.py:60: FutureWarning: to_msgpack is deprecated and will be removed in a future version.\n",
      "It is recommended to use pyarrow for on-the-wire transmission of pandas objects.\n",
      "  final_df.to_msgpack(output_path, compress='zlib')\n"
     ]
    },
    {
     "name": "stdout",
     "output_type": "stream",
     "text": [
      "/home/hanliu/project/mouse_rostral_brain/DMR/ITSpatial_by_layer/IT-L6/MotifScan.h5adtemp/MA0865.1.meme, N motif total=14003\n"
     ]
    },
    {
     "name": "stderr",
     "output_type": "stream",
     "text": [
      "/home/hanliu/miniconda3/envs/clustering/lib/python3.7/site-packages/ALLCools/dmr/fimo.py:60: FutureWarning: to_msgpack is deprecated and will be removed in a future version.\n",
      "It is recommended to use pyarrow for on-the-wire transmission of pandas objects.\n",
      "  final_df.to_msgpack(output_path, compress='zlib')\n"
     ]
    },
    {
     "name": "stdout",
     "output_type": "stream",
     "text": [
      "/home/hanliu/project/mouse_rostral_brain/DMR/ITSpatial_by_layer/IT-L6/MotifScan.h5adtemp/MA0471.2.meme, N motif total=89760\n"
     ]
    },
    {
     "name": "stderr",
     "output_type": "stream",
     "text": [
      "/home/hanliu/miniconda3/envs/clustering/lib/python3.7/site-packages/ALLCools/dmr/fimo.py:60: FutureWarning: to_msgpack is deprecated and will be removed in a future version.\n",
      "It is recommended to use pyarrow for on-the-wire transmission of pandas objects.\n",
      "  final_df.to_msgpack(output_path, compress='zlib')\n"
     ]
    },
    {
     "name": "stdout",
     "output_type": "stream",
     "text": [
      "/home/hanliu/project/mouse_rostral_brain/DMR/ITSpatial_by_layer/IT-L6/MotifScan.h5adtemp/MA1604.1.meme, N motif total=67852\n"
     ]
    },
    {
     "name": "stderr",
     "output_type": "stream",
     "text": [
      "/home/hanliu/miniconda3/envs/clustering/lib/python3.7/site-packages/ALLCools/dmr/fimo.py:60: FutureWarning: to_msgpack is deprecated and will be removed in a future version.\n",
      "It is recommended to use pyarrow for on-the-wire transmission of pandas objects.\n",
      "  final_df.to_msgpack(output_path, compress='zlib')\n"
     ]
    },
    {
     "name": "stdout",
     "output_type": "stream",
     "text": [
      "/home/hanliu/project/mouse_rostral_brain/DMR/ITSpatial_by_layer/IT-L6/MotifScan.h5adtemp/MA0642.1.meme, N motif total=12932\n"
     ]
    },
    {
     "name": "stderr",
     "output_type": "stream",
     "text": [
      "/home/hanliu/miniconda3/envs/clustering/lib/python3.7/site-packages/ALLCools/dmr/fimo.py:60: FutureWarning: to_msgpack is deprecated and will be removed in a future version.\n",
      "It is recommended to use pyarrow for on-the-wire transmission of pandas objects.\n",
      "  final_df.to_msgpack(output_path, compress='zlib')\n"
     ]
    },
    {
     "name": "stdout",
     "output_type": "stream",
     "text": [
      "/home/hanliu/project/mouse_rostral_brain/DMR/ITSpatial_by_layer/IT-L6/MotifScan.h5adtemp/MA0598.3.meme, N motif total=84469\n"
     ]
    },
    {
     "name": "stderr",
     "output_type": "stream",
     "text": [
      "/home/hanliu/miniconda3/envs/clustering/lib/python3.7/site-packages/ALLCools/dmr/fimo.py:60: FutureWarning: to_msgpack is deprecated and will be removed in a future version.\n",
      "It is recommended to use pyarrow for on-the-wire transmission of pandas objects.\n",
      "  final_df.to_msgpack(output_path, compress='zlib')\n"
     ]
    },
    {
     "name": "stdout",
     "output_type": "stream",
     "text": [
      "/home/hanliu/project/mouse_rostral_brain/DMR/ITSpatial_by_layer/IT-L6/MotifScan.h5adtemp/MA0136.2.meme, N motif total=36327\n"
     ]
    },
    {
     "name": "stderr",
     "output_type": "stream",
     "text": [
      "/home/hanliu/miniconda3/envs/clustering/lib/python3.7/site-packages/ALLCools/dmr/fimo.py:60: FutureWarning: to_msgpack is deprecated and will be removed in a future version.\n",
      "It is recommended to use pyarrow for on-the-wire transmission of pandas objects.\n",
      "  final_df.to_msgpack(output_path, compress='zlib')\n"
     ]
    },
    {
     "name": "stdout",
     "output_type": "stream",
     "text": [
      "/home/hanliu/project/mouse_rostral_brain/DMR/ITSpatial_by_layer/IT-L6/MotifScan.h5adtemp/MA0154.4.meme, N motif total=82330\n"
     ]
    },
    {
     "name": "stderr",
     "output_type": "stream",
     "text": [
      "/home/hanliu/miniconda3/envs/clustering/lib/python3.7/site-packages/ALLCools/dmr/fimo.py:60: FutureWarning: to_msgpack is deprecated and will be removed in a future version.\n",
      "It is recommended to use pyarrow for on-the-wire transmission of pandas objects.\n",
      "  final_df.to_msgpack(output_path, compress='zlib')\n"
     ]
    },
    {
     "name": "stdout",
     "output_type": "stream",
     "text": [
      "/home/hanliu/project/mouse_rostral_brain/DMR/ITSpatial_by_layer/IT-L6/MotifScan.h5adtemp/MA0760.1.meme, N motif total=19107\n"
     ]
    },
    {
     "name": "stderr",
     "output_type": "stream",
     "text": [
      "/home/hanliu/miniconda3/envs/clustering/lib/python3.7/site-packages/ALLCools/dmr/fimo.py:60: FutureWarning: to_msgpack is deprecated and will be removed in a future version.\n",
      "It is recommended to use pyarrow for on-the-wire transmission of pandas objects.\n",
      "  final_df.to_msgpack(output_path, compress='zlib')\n"
     ]
    },
    {
     "name": "stdout",
     "output_type": "stream",
     "text": [
      "/home/hanliu/project/mouse_rostral_brain/DMR/ITSpatial_by_layer/IT-L6/MotifScan.h5adtemp/MA0733.1.meme, N motif total=67289\n"
     ]
    },
    {
     "name": "stderr",
     "output_type": "stream",
     "text": [
      "/home/hanliu/miniconda3/envs/clustering/lib/python3.7/site-packages/ALLCools/dmr/fimo.py:60: FutureWarning: to_msgpack is deprecated and will be removed in a future version.\n",
      "It is recommended to use pyarrow for on-the-wire transmission of pandas objects.\n",
      "  final_df.to_msgpack(output_path, compress='zlib')\n"
     ]
    },
    {
     "name": "stdout",
     "output_type": "stream",
     "text": [
      "/home/hanliu/project/mouse_rostral_brain/DMR/ITSpatial_by_layer/IT-L6/MotifScan.h5adtemp/MA0162.4.meme, N motif total=256246\n"
     ]
    },
    {
     "name": "stderr",
     "output_type": "stream",
     "text": [
      "/home/hanliu/miniconda3/envs/clustering/lib/python3.7/site-packages/ALLCools/dmr/fimo.py:60: FutureWarning: to_msgpack is deprecated and will be removed in a future version.\n",
      "It is recommended to use pyarrow for on-the-wire transmission of pandas objects.\n",
      "  final_df.to_msgpack(output_path, compress='zlib')\n"
     ]
    },
    {
     "name": "stdout",
     "output_type": "stream",
     "text": [
      "Finish count 100 motifs.\n"
     ]
    },
    {
     "name": "stdout",
     "output_type": "stream",
     "text": [
      "/home/hanliu/project/mouse_rostral_brain/DMR/ITSpatial_by_layer/IT-L6/MotifScan.h5adtemp/MA0076.2.meme, N motif total=35152\n"
     ]
    },
    {
     "name": "stderr",
     "output_type": "stream",
     "text": [
      "/home/hanliu/miniconda3/envs/clustering/lib/python3.7/site-packages/ALLCools/dmr/fimo.py:60: FutureWarning: to_msgpack is deprecated and will be removed in a future version.\n",
      "It is recommended to use pyarrow for on-the-wire transmission of pandas objects.\n",
      "  final_df.to_msgpack(output_path, compress='zlib')\n"
     ]
    },
    {
     "name": "stdout",
     "output_type": "stream",
     "text": [
      "/home/hanliu/project/mouse_rostral_brain/DMR/ITSpatial_by_layer/IT-L6/MotifScan.h5adtemp/MA0473.3.meme, N motif total=92228\n"
     ]
    },
    {
     "name": "stderr",
     "output_type": "stream",
     "text": [
      "/home/hanliu/miniconda3/envs/clustering/lib/python3.7/site-packages/ALLCools/dmr/fimo.py:60: FutureWarning: to_msgpack is deprecated and will be removed in a future version.\n",
      "It is recommended to use pyarrow for on-the-wire transmission of pandas objects.\n",
      "  final_df.to_msgpack(output_path, compress='zlib')\n"
     ]
    },
    {
     "name": "stdout",
     "output_type": "stream",
     "text": [
      "/home/hanliu/project/mouse_rostral_brain/DMR/ITSpatial_by_layer/IT-L6/MotifScan.h5adtemp/MA0474.2.meme, N motif total=17314\n"
     ]
    },
    {
     "name": "stderr",
     "output_type": "stream",
     "text": [
      "/home/hanliu/miniconda3/envs/clustering/lib/python3.7/site-packages/ALLCools/dmr/fimo.py:60: FutureWarning: to_msgpack is deprecated and will be removed in a future version.\n",
      "It is recommended to use pyarrow for on-the-wire transmission of pandas objects.\n",
      "  final_df.to_msgpack(output_path, compress='zlib')\n"
     ]
    },
    {
     "name": "stdout",
     "output_type": "stream",
     "text": [
      "/home/hanliu/project/mouse_rostral_brain/DMR/ITSpatial_by_layer/IT-L6/MotifScan.h5adtemp/MA0640.2.meme, N motif total=102251\n"
     ]
    },
    {
     "name": "stderr",
     "output_type": "stream",
     "text": [
      "/home/hanliu/miniconda3/envs/clustering/lib/python3.7/site-packages/ALLCools/dmr/fimo.py:60: FutureWarning: to_msgpack is deprecated and will be removed in a future version.\n",
      "It is recommended to use pyarrow for on-the-wire transmission of pandas objects.\n",
      "  final_df.to_msgpack(output_path, compress='zlib')\n"
     ]
    },
    {
     "name": "stdout",
     "output_type": "stream",
     "text": [
      "/home/hanliu/project/mouse_rostral_brain/DMR/ITSpatial_by_layer/IT-L6/MotifScan.h5adtemp/MA0592.3.meme, N motif total=44981\n"
     ]
    },
    {
     "name": "stderr",
     "output_type": "stream",
     "text": [
      "/home/hanliu/miniconda3/envs/clustering/lib/python3.7/site-packages/ALLCools/dmr/fimo.py:60: FutureWarning: to_msgpack is deprecated and will be removed in a future version.\n",
      "It is recommended to use pyarrow for on-the-wire transmission of pandas objects.\n",
      "  final_df.to_msgpack(output_path, compress='zlib')\n"
     ]
    },
    {
     "name": "stdout",
     "output_type": "stream",
     "text": [
      "/home/hanliu/project/mouse_rostral_brain/DMR/ITSpatial_by_layer/IT-L6/MotifScan.h5adtemp/MA0732.1.meme, N motif total=43594\n"
     ]
    },
    {
     "name": "stderr",
     "output_type": "stream",
     "text": [
      "/home/hanliu/miniconda3/envs/clustering/lib/python3.7/site-packages/ALLCools/dmr/fimo.py:60: FutureWarning: to_msgpack is deprecated and will be removed in a future version.\n",
      "It is recommended to use pyarrow for on-the-wire transmission of pandas objects.\n",
      "  final_df.to_msgpack(output_path, compress='zlib')\n"
     ]
    },
    {
     "name": "stdout",
     "output_type": "stream",
     "text": [
      "/home/hanliu/project/mouse_rostral_brain/DMR/ITSpatial_by_layer/IT-L6/MotifScan.h5adtemp/MA0800.1.meme, N motif total=37047\n"
     ]
    },
    {
     "name": "stderr",
     "output_type": "stream",
     "text": [
      "/home/hanliu/miniconda3/envs/clustering/lib/python3.7/site-packages/ALLCools/dmr/fimo.py:60: FutureWarning: to_msgpack is deprecated and will be removed in a future version.\n",
      "It is recommended to use pyarrow for on-the-wire transmission of pandas objects.\n",
      "  final_df.to_msgpack(output_path, compress='zlib')\n"
     ]
    },
    {
     "name": "stdout",
     "output_type": "stream",
     "text": [
      "/home/hanliu/project/mouse_rostral_brain/DMR/ITSpatial_by_layer/IT-L6/MotifScan.h5adtemp/MA0258.2.meme, N motif total=59488\n"
     ]
    },
    {
     "name": "stderr",
     "output_type": "stream",
     "text": [
      "/home/hanliu/miniconda3/envs/clustering/lib/python3.7/site-packages/ALLCools/dmr/fimo.py:60: FutureWarning: to_msgpack is deprecated and will be removed in a future version.\n",
      "It is recommended to use pyarrow for on-the-wire transmission of pandas objects.\n",
      "  final_df.to_msgpack(output_path, compress='zlib')\n"
     ]
    },
    {
     "name": "stdout",
     "output_type": "stream",
     "text": [
      "/home/hanliu/project/mouse_rostral_brain/DMR/ITSpatial_by_layer/IT-L6/MotifScan.h5adtemp/MA0141.3.meme, N motif total=35421\n"
     ]
    },
    {
     "name": "stderr",
     "output_type": "stream",
     "text": [
      "/home/hanliu/miniconda3/envs/clustering/lib/python3.7/site-packages/ALLCools/dmr/fimo.py:60: FutureWarning: to_msgpack is deprecated and will be removed in a future version.\n",
      "It is recommended to use pyarrow for on-the-wire transmission of pandas objects.\n",
      "  final_df.to_msgpack(output_path, compress='zlib')\n"
     ]
    },
    {
     "name": "stdout",
     "output_type": "stream",
     "text": [
      "/home/hanliu/project/mouse_rostral_brain/DMR/ITSpatial_by_layer/IT-L6/MotifScan.h5adtemp/MA0112.3.meme, N motif total=5205\n"
     ]
    },
    {
     "name": "stderr",
     "output_type": "stream",
     "text": [
      "/home/hanliu/miniconda3/envs/clustering/lib/python3.7/site-packages/ALLCools/dmr/fimo.py:60: FutureWarning: to_msgpack is deprecated and will be removed in a future version.\n",
      "It is recommended to use pyarrow for on-the-wire transmission of pandas objects.\n",
      "  final_df.to_msgpack(output_path, compress='zlib')\n"
     ]
    },
    {
     "name": "stdout",
     "output_type": "stream",
     "text": [
      "/home/hanliu/project/mouse_rostral_brain/DMR/ITSpatial_by_layer/IT-L6/MotifScan.h5adtemp/MA0644.1.meme, N motif total=15814\n"
     ]
    },
    {
     "name": "stderr",
     "output_type": "stream",
     "text": [
      "/home/hanliu/miniconda3/envs/clustering/lib/python3.7/site-packages/ALLCools/dmr/fimo.py:60: FutureWarning: to_msgpack is deprecated and will be removed in a future version.\n",
      "It is recommended to use pyarrow for on-the-wire transmission of pandas objects.\n",
      "  final_df.to_msgpack(output_path, compress='zlib')\n"
     ]
    },
    {
     "name": "stdout",
     "output_type": "stream",
     "text": [
      "/home/hanliu/project/mouse_rostral_brain/DMR/ITSpatial_by_layer/IT-L6/MotifScan.h5adtemp/MA0643.1.meme, N motif total=31877\n"
     ]
    },
    {
     "name": "stderr",
     "output_type": "stream",
     "text": [
      "/home/hanliu/miniconda3/envs/clustering/lib/python3.7/site-packages/ALLCools/dmr/fimo.py:60: FutureWarning: to_msgpack is deprecated and will be removed in a future version.\n",
      "It is recommended to use pyarrow for on-the-wire transmission of pandas objects.\n",
      "  final_df.to_msgpack(output_path, compress='zlib')\n"
     ]
    },
    {
     "name": "stdout",
     "output_type": "stream",
     "text": [
      "/home/hanliu/project/mouse_rostral_brain/DMR/ITSpatial_by_layer/IT-L6/MotifScan.h5adtemp/MA0098.3.meme, N motif total=20837\n"
     ]
    },
    {
     "name": "stderr",
     "output_type": "stream",
     "text": [
      "/home/hanliu/miniconda3/envs/clustering/lib/python3.7/site-packages/ALLCools/dmr/fimo.py:60: FutureWarning: to_msgpack is deprecated and will be removed in a future version.\n",
      "It is recommended to use pyarrow for on-the-wire transmission of pandas objects.\n",
      "  final_df.to_msgpack(output_path, compress='zlib')\n"
     ]
    },
    {
     "name": "stdout",
     "output_type": "stream",
     "text": [
      "/home/hanliu/project/mouse_rostral_brain/DMR/ITSpatial_by_layer/IT-L6/MotifScan.h5adtemp/MA1484.1.meme, N motif total=21567\n"
     ]
    },
    {
     "name": "stderr",
     "output_type": "stream",
     "text": [
      "/home/hanliu/miniconda3/envs/clustering/lib/python3.7/site-packages/ALLCools/dmr/fimo.py:60: FutureWarning: to_msgpack is deprecated and will be removed in a future version.\n",
      "It is recommended to use pyarrow for on-the-wire transmission of pandas objects.\n",
      "  final_df.to_msgpack(output_path, compress='zlib')\n"
     ]
    },
    {
     "name": "stdout",
     "output_type": "stream",
     "text": [
      "/home/hanliu/project/mouse_rostral_brain/DMR/ITSpatial_by_layer/IT-L6/MotifScan.h5adtemp/MA0762.1.meme, N motif total=24740\n"
     ]
    },
    {
     "name": "stderr",
     "output_type": "stream",
     "text": [
      "/home/hanliu/miniconda3/envs/clustering/lib/python3.7/site-packages/ALLCools/dmr/fimo.py:60: FutureWarning: to_msgpack is deprecated and will be removed in a future version.\n",
      "It is recommended to use pyarrow for on-the-wire transmission of pandas objects.\n",
      "  final_df.to_msgpack(output_path, compress='zlib')\n"
     ]
    },
    {
     "name": "stdout",
     "output_type": "stream",
     "text": [
      "/home/hanliu/project/mouse_rostral_brain/DMR/ITSpatial_by_layer/IT-L6/MotifScan.h5adtemp/MA0763.1.meme, N motif total=13711\n"
     ]
    },
    {
     "name": "stderr",
     "output_type": "stream",
     "text": [
      "/home/hanliu/miniconda3/envs/clustering/lib/python3.7/site-packages/ALLCools/dmr/fimo.py:60: FutureWarning: to_msgpack is deprecated and will be removed in a future version.\n",
      "It is recommended to use pyarrow for on-the-wire transmission of pandas objects.\n",
      "  final_df.to_msgpack(output_path, compress='zlib')\n"
     ]
    },
    {
     "name": "stdout",
     "output_type": "stream",
     "text": [
      "/home/hanliu/project/mouse_rostral_brain/DMR/ITSpatial_by_layer/IT-L6/MotifScan.h5adtemp/MA0761.2.meme, N motif total=93909\n"
     ]
    },
    {
     "name": "stderr",
     "output_type": "stream",
     "text": [
      "/home/hanliu/miniconda3/envs/clustering/lib/python3.7/site-packages/ALLCools/dmr/fimo.py:60: FutureWarning: to_msgpack is deprecated and will be removed in a future version.\n",
      "It is recommended to use pyarrow for on-the-wire transmission of pandas objects.\n",
      "  final_df.to_msgpack(output_path, compress='zlib')\n"
     ]
    },
    {
     "name": "stdout",
     "output_type": "stream",
     "text": [
      "/home/hanliu/project/mouse_rostral_brain/DMR/ITSpatial_by_layer/IT-L6/MotifScan.h5adtemp/MA0888.1.meme, N motif total=13635\n"
     ]
    },
    {
     "name": "stderr",
     "output_type": "stream",
     "text": [
      "/home/hanliu/miniconda3/envs/clustering/lib/python3.7/site-packages/ALLCools/dmr/fimo.py:60: FutureWarning: to_msgpack is deprecated and will be removed in a future version.\n",
      "It is recommended to use pyarrow for on-the-wire transmission of pandas objects.\n",
      "  final_df.to_msgpack(output_path, compress='zlib')\n"
     ]
    },
    {
     "name": "stdout",
     "output_type": "stream",
     "text": [
      "/home/hanliu/project/mouse_rostral_brain/DMR/ITSpatial_by_layer/IT-L6/MotifScan.h5adtemp/MA0765.2.meme, N motif total=29726\n"
     ]
    },
    {
     "name": "stderr",
     "output_type": "stream",
     "text": [
      "/home/hanliu/miniconda3/envs/clustering/lib/python3.7/site-packages/ALLCools/dmr/fimo.py:60: FutureWarning: to_msgpack is deprecated and will be removed in a future version.\n",
      "It is recommended to use pyarrow for on-the-wire transmission of pandas objects.\n",
      "  final_df.to_msgpack(output_path, compress='zlib')\n"
     ]
    },
    {
     "name": "stdout",
     "output_type": "stream",
     "text": [
      "/home/hanliu/project/mouse_rostral_brain/DMR/ITSpatial_by_layer/IT-L6/MotifScan.h5adtemp/MA0764.2.meme, N motif total=131494\n"
     ]
    },
    {
     "name": "stderr",
     "output_type": "stream",
     "text": [
      "/home/hanliu/miniconda3/envs/clustering/lib/python3.7/site-packages/ALLCools/dmr/fimo.py:60: FutureWarning: to_msgpack is deprecated and will be removed in a future version.\n",
      "It is recommended to use pyarrow for on-the-wire transmission of pandas objects.\n",
      "  final_df.to_msgpack(output_path, compress='zlib')\n"
     ]
    },
    {
     "name": "stdout",
     "output_type": "stream",
     "text": [
      "/home/hanliu/project/mouse_rostral_brain/DMR/ITSpatial_by_layer/IT-L6/MotifScan.h5adtemp/MA0887.1.meme, N motif total=14044\n"
     ]
    },
    {
     "name": "stderr",
     "output_type": "stream",
     "text": [
      "/home/hanliu/miniconda3/envs/clustering/lib/python3.7/site-packages/ALLCools/dmr/fimo.py:60: FutureWarning: to_msgpack is deprecated and will be removed in a future version.\n",
      "It is recommended to use pyarrow for on-the-wire transmission of pandas objects.\n",
      "  final_df.to_msgpack(output_path, compress='zlib')\n"
     ]
    },
    {
     "name": "stdout",
     "output_type": "stream",
     "text": [
      "/home/hanliu/project/mouse_rostral_brain/DMR/ITSpatial_by_layer/IT-L6/MotifScan.h5adtemp/MA0099.3.meme, N motif total=48320\n"
     ]
    },
    {
     "name": "stderr",
     "output_type": "stream",
     "text": [
      "/home/hanliu/miniconda3/envs/clustering/lib/python3.7/site-packages/ALLCools/dmr/fimo.py:60: FutureWarning: to_msgpack is deprecated and will be removed in a future version.\n",
      "It is recommended to use pyarrow for on-the-wire transmission of pandas objects.\n",
      "  final_df.to_msgpack(output_path, compress='zlib')\n"
     ]
    },
    {
     "name": "stdout",
     "output_type": "stream",
     "text": [
      "/home/hanliu/project/mouse_rostral_brain/DMR/ITSpatial_by_layer/IT-L6/MotifScan.h5adtemp/MA0156.2.meme, N motif total=13764\n"
     ]
    },
    {
     "name": "stderr",
     "output_type": "stream",
     "text": [
      "/home/hanliu/miniconda3/envs/clustering/lib/python3.7/site-packages/ALLCools/dmr/fimo.py:60: FutureWarning: to_msgpack is deprecated and will be removed in a future version.\n",
      "It is recommended to use pyarrow for on-the-wire transmission of pandas objects.\n",
      "  final_df.to_msgpack(output_path, compress='zlib')\n"
     ]
    },
    {
     "name": "stdout",
     "output_type": "stream",
     "text": [
      "/home/hanliu/project/mouse_rostral_brain/DMR/ITSpatial_by_layer/IT-L6/MotifScan.h5adtemp/MA0645.1.meme, N motif total=29480\n"
     ]
    },
    {
     "name": "stderr",
     "output_type": "stream",
     "text": [
      "/home/hanliu/miniconda3/envs/clustering/lib/python3.7/site-packages/ALLCools/dmr/fimo.py:60: FutureWarning: to_msgpack is deprecated and will be removed in a future version.\n",
      "It is recommended to use pyarrow for on-the-wire transmission of pandas objects.\n",
      "  final_df.to_msgpack(output_path, compress='zlib')\n"
     ]
    },
    {
     "name": "stdout",
     "output_type": "stream",
     "text": [
      "/home/hanliu/project/mouse_rostral_brain/DMR/ITSpatial_by_layer/IT-L6/MotifScan.h5adtemp/MA0476.1.meme, N motif total=58147\n"
     ]
    },
    {
     "name": "stderr",
     "output_type": "stream",
     "text": [
      "/home/hanliu/miniconda3/envs/clustering/lib/python3.7/site-packages/ALLCools/dmr/fimo.py:60: FutureWarning: to_msgpack is deprecated and will be removed in a future version.\n",
      "It is recommended to use pyarrow for on-the-wire transmission of pandas objects.\n",
      "  final_df.to_msgpack(output_path, compress='zlib')\n"
     ]
    },
    {
     "name": "stdout",
     "output_type": "stream",
     "text": [
      "/home/hanliu/project/mouse_rostral_brain/DMR/ITSpatial_by_layer/IT-L6/MotifScan.h5adtemp/MA0475.2.meme, N motif total=16872\n"
     ]
    },
    {
     "name": "stderr",
     "output_type": "stream",
     "text": [
      "/home/hanliu/miniconda3/envs/clustering/lib/python3.7/site-packages/ALLCools/dmr/fimo.py:60: FutureWarning: to_msgpack is deprecated and will be removed in a future version.\n",
      "It is recommended to use pyarrow for on-the-wire transmission of pandas objects.\n",
      "  final_df.to_msgpack(output_path, compress='zlib')\n"
     ]
    },
    {
     "name": "stdout",
     "output_type": "stream",
     "text": [
      "/home/hanliu/project/mouse_rostral_brain/DMR/ITSpatial_by_layer/IT-L6/MotifScan.h5adtemp/MA0820.1.meme, N motif total=50158\n"
     ]
    },
    {
     "name": "stderr",
     "output_type": "stream",
     "text": [
      "/home/hanliu/miniconda3/envs/clustering/lib/python3.7/site-packages/ALLCools/dmr/fimo.py:60: FutureWarning: to_msgpack is deprecated and will be removed in a future version.\n",
      "It is recommended to use pyarrow for on-the-wire transmission of pandas objects.\n",
      "  final_df.to_msgpack(output_path, compress='zlib')\n"
     ]
    },
    {
     "name": "stdout",
     "output_type": "stream",
     "text": [
      "/home/hanliu/project/mouse_rostral_brain/DMR/ITSpatial_by_layer/IT-L6/MotifScan.h5adtemp/MA1134.1.meme, N motif total=52034\n"
     ]
    },
    {
     "name": "stderr",
     "output_type": "stream",
     "text": [
      "/home/hanliu/miniconda3/envs/clustering/lib/python3.7/site-packages/ALLCools/dmr/fimo.py:60: FutureWarning: to_msgpack is deprecated and will be removed in a future version.\n",
      "It is recommended to use pyarrow for on-the-wire transmission of pandas objects.\n",
      "  final_df.to_msgpack(output_path, compress='zlib')\n"
     ]
    },
    {
     "name": "stdout",
     "output_type": "stream",
     "text": [
      "/home/hanliu/project/mouse_rostral_brain/DMR/ITSpatial_by_layer/IT-L6/MotifScan.h5adtemp/MA1127.1.meme, N motif total=19999\n"
     ]
    },
    {
     "name": "stderr",
     "output_type": "stream",
     "text": [
      "/home/hanliu/miniconda3/envs/clustering/lib/python3.7/site-packages/ALLCools/dmr/fimo.py:60: FutureWarning: to_msgpack is deprecated and will be removed in a future version.\n",
      "It is recommended to use pyarrow for on-the-wire transmission of pandas objects.\n",
      "  final_df.to_msgpack(output_path, compress='zlib')\n"
     ]
    },
    {
     "name": "stdout",
     "output_type": "stream",
     "text": [
      "/home/hanliu/project/mouse_rostral_brain/DMR/ITSpatial_by_layer/IT-L6/MotifScan.h5adtemp/MA1136.1.meme, N motif total=17756\n"
     ]
    },
    {
     "name": "stderr",
     "output_type": "stream",
     "text": [
      "/home/hanliu/miniconda3/envs/clustering/lib/python3.7/site-packages/ALLCools/dmr/fimo.py:60: FutureWarning: to_msgpack is deprecated and will be removed in a future version.\n",
      "It is recommended to use pyarrow for on-the-wire transmission of pandas objects.\n",
      "  final_df.to_msgpack(output_path, compress='zlib')\n"
     ]
    },
    {
     "name": "stdout",
     "output_type": "stream",
     "text": [
      "/home/hanliu/project/mouse_rostral_brain/DMR/ITSpatial_by_layer/IT-L6/MotifScan.h5adtemp/MA1135.1.meme, N motif total=52111\n"
     ]
    },
    {
     "name": "stderr",
     "output_type": "stream",
     "text": [
      "/home/hanliu/miniconda3/envs/clustering/lib/python3.7/site-packages/ALLCools/dmr/fimo.py:60: FutureWarning: to_msgpack is deprecated and will be removed in a future version.\n",
      "It is recommended to use pyarrow for on-the-wire transmission of pandas objects.\n",
      "  final_df.to_msgpack(output_path, compress='zlib')\n"
     ]
    },
    {
     "name": "stdout",
     "output_type": "stream",
     "text": [
      "/home/hanliu/project/mouse_rostral_brain/DMR/ITSpatial_by_layer/IT-L6/MotifScan.h5adtemp/MA1485.1.meme, N motif total=55114\n"
     ]
    },
    {
     "name": "stderr",
     "output_type": "stream",
     "text": [
      "/home/hanliu/miniconda3/envs/clustering/lib/python3.7/site-packages/ALLCools/dmr/fimo.py:60: FutureWarning: to_msgpack is deprecated and will be removed in a future version.\n",
      "It is recommended to use pyarrow for on-the-wire transmission of pandas objects.\n",
      "  final_df.to_msgpack(output_path, compress='zlib')\n"
     ]
    },
    {
     "name": "stdout",
     "output_type": "stream",
     "text": [
      "/home/hanliu/project/mouse_rostral_brain/DMR/ITSpatial_by_layer/IT-L6/MotifScan.h5adtemp/MA1143.1.meme, N motif total=13922\n"
     ]
    },
    {
     "name": "stderr",
     "output_type": "stream",
     "text": [
      "/home/hanliu/miniconda3/envs/clustering/lib/python3.7/site-packages/ALLCools/dmr/fimo.py:60: FutureWarning: to_msgpack is deprecated and will be removed in a future version.\n",
      "It is recommended to use pyarrow for on-the-wire transmission of pandas objects.\n",
      "  final_df.to_msgpack(output_path, compress='zlib')\n"
     ]
    },
    {
     "name": "stdout",
     "output_type": "stream",
     "text": [
      "/home/hanliu/project/mouse_rostral_brain/DMR/ITSpatial_by_layer/IT-L6/MotifScan.h5adtemp/MA1141.1.meme, N motif total=43518\n"
     ]
    },
    {
     "name": "stderr",
     "output_type": "stream",
     "text": [
      "/home/hanliu/miniconda3/envs/clustering/lib/python3.7/site-packages/ALLCools/dmr/fimo.py:60: FutureWarning: to_msgpack is deprecated and will be removed in a future version.\n",
      "It is recommended to use pyarrow for on-the-wire transmission of pandas objects.\n",
      "  final_df.to_msgpack(output_path, compress='zlib')\n"
     ]
    },
    {
     "name": "stdout",
     "output_type": "stream",
     "text": [
      "/home/hanliu/project/mouse_rostral_brain/DMR/ITSpatial_by_layer/IT-L6/MotifScan.h5adtemp/MA1129.1.meme, N motif total=18080\n"
     ]
    },
    {
     "name": "stderr",
     "output_type": "stream",
     "text": [
      "/home/hanliu/miniconda3/envs/clustering/lib/python3.7/site-packages/ALLCools/dmr/fimo.py:60: FutureWarning: to_msgpack is deprecated and will be removed in a future version.\n",
      "It is recommended to use pyarrow for on-the-wire transmission of pandas objects.\n",
      "  final_df.to_msgpack(output_path, compress='zlib')\n"
     ]
    },
    {
     "name": "stdout",
     "output_type": "stream",
     "text": [
      "/home/hanliu/project/mouse_rostral_brain/DMR/ITSpatial_by_layer/IT-L6/MotifScan.h5adtemp/MA1130.1.meme, N motif total=47629\n"
     ]
    },
    {
     "name": "stderr",
     "output_type": "stream",
     "text": [
      "/home/hanliu/miniconda3/envs/clustering/lib/python3.7/site-packages/ALLCools/dmr/fimo.py:60: FutureWarning: to_msgpack is deprecated and will be removed in a future version.\n",
      "It is recommended to use pyarrow for on-the-wire transmission of pandas objects.\n",
      "  final_df.to_msgpack(output_path, compress='zlib')\n"
     ]
    },
    {
     "name": "stdout",
     "output_type": "stream",
     "text": [
      "/home/hanliu/project/mouse_rostral_brain/DMR/ITSpatial_by_layer/IT-L6/MotifScan.h5adtemp/MA1142.1.meme, N motif total=44015\n"
     ]
    },
    {
     "name": "stderr",
     "output_type": "stream",
     "text": [
      "/home/hanliu/miniconda3/envs/clustering/lib/python3.7/site-packages/ALLCools/dmr/fimo.py:60: FutureWarning: to_msgpack is deprecated and will be removed in a future version.\n",
      "It is recommended to use pyarrow for on-the-wire transmission of pandas objects.\n",
      "  final_df.to_msgpack(output_path, compress='zlib')\n"
     ]
    },
    {
     "name": "stdout",
     "output_type": "stream",
     "text": [
      "/home/hanliu/project/mouse_rostral_brain/DMR/ITSpatial_by_layer/IT-L6/MotifScan.h5adtemp/MA0478.1.meme, N motif total=65070\n"
     ]
    },
    {
     "name": "stderr",
     "output_type": "stream",
     "text": [
      "/home/hanliu/miniconda3/envs/clustering/lib/python3.7/site-packages/ALLCools/dmr/fimo.py:60: FutureWarning: to_msgpack is deprecated and will be removed in a future version.\n",
      "It is recommended to use pyarrow for on-the-wire transmission of pandas objects.\n",
      "  final_df.to_msgpack(output_path, compress='zlib')\n"
     ]
    },
    {
     "name": "stdout",
     "output_type": "stream",
     "text": [
      "/home/hanliu/project/mouse_rostral_brain/DMR/ITSpatial_by_layer/IT-L6/MotifScan.h5adtemp/MA1131.1.meme, N motif total=23181\n"
     ]
    },
    {
     "name": "stderr",
     "output_type": "stream",
     "text": [
      "/home/hanliu/miniconda3/envs/clustering/lib/python3.7/site-packages/ALLCools/dmr/fimo.py:60: FutureWarning: to_msgpack is deprecated and will be removed in a future version.\n",
      "It is recommended to use pyarrow for on-the-wire transmission of pandas objects.\n",
      "  final_df.to_msgpack(output_path, compress='zlib')\n"
     ]
    },
    {
     "name": "stdout",
     "output_type": "stream",
     "text": [
      "/home/hanliu/project/mouse_rostral_brain/DMR/ITSpatial_by_layer/IT-L6/MotifScan.h5adtemp/MA0477.2.meme, N motif total=57000\n"
     ]
    },
    {
     "name": "stderr",
     "output_type": "stream",
     "text": [
      "/home/hanliu/miniconda3/envs/clustering/lib/python3.7/site-packages/ALLCools/dmr/fimo.py:60: FutureWarning: to_msgpack is deprecated and will be removed in a future version.\n",
      "It is recommended to use pyarrow for on-the-wire transmission of pandas objects.\n",
      "  final_df.to_msgpack(output_path, compress='zlib')\n"
     ]
    },
    {
     "name": "stdout",
     "output_type": "stream",
     "text": [
      "/home/hanliu/project/mouse_rostral_brain/DMR/ITSpatial_by_layer/IT-L6/MotifScan.h5adtemp/MA1128.1.meme, N motif total=42616\n"
     ]
    },
    {
     "name": "stderr",
     "output_type": "stream",
     "text": [
      "/home/hanliu/miniconda3/envs/clustering/lib/python3.7/site-packages/ALLCools/dmr/fimo.py:60: FutureWarning: to_msgpack is deprecated and will be removed in a future version.\n",
      "It is recommended to use pyarrow for on-the-wire transmission of pandas objects.\n",
      "  final_df.to_msgpack(output_path, compress='zlib')\n"
     ]
    },
    {
     "name": "stdout",
     "output_type": "stream",
     "text": [
      "/home/hanliu/project/mouse_rostral_brain/DMR/ITSpatial_by_layer/IT-L6/MotifScan.h5adtemp/MA1138.1.meme, N motif total=50573\n"
     ]
    },
    {
     "name": "stderr",
     "output_type": "stream",
     "text": [
      "/home/hanliu/miniconda3/envs/clustering/lib/python3.7/site-packages/ALLCools/dmr/fimo.py:60: FutureWarning: to_msgpack is deprecated and will be removed in a future version.\n",
      "It is recommended to use pyarrow for on-the-wire transmission of pandas objects.\n",
      "  final_df.to_msgpack(output_path, compress='zlib')\n"
     ]
    },
    {
     "name": "stdout",
     "output_type": "stream",
     "text": [
      "/home/hanliu/project/mouse_rostral_brain/DMR/ITSpatial_by_layer/IT-L6/MotifScan.h5adtemp/MA1137.1.meme, N motif total=47958\n"
     ]
    },
    {
     "name": "stderr",
     "output_type": "stream",
     "text": [
      "/home/hanliu/miniconda3/envs/clustering/lib/python3.7/site-packages/ALLCools/dmr/fimo.py:60: FutureWarning: to_msgpack is deprecated and will be removed in a future version.\n",
      "It is recommended to use pyarrow for on-the-wire transmission of pandas objects.\n",
      "  final_df.to_msgpack(output_path, compress='zlib')\n"
     ]
    },
    {
     "name": "stdout",
     "output_type": "stream",
     "text": [
      "/home/hanliu/project/mouse_rostral_brain/DMR/ITSpatial_by_layer/IT-L6/MotifScan.h5adtemp/MA1139.1.meme, N motif total=20675\n"
     ]
    },
    {
     "name": "stderr",
     "output_type": "stream",
     "text": [
      "/home/hanliu/miniconda3/envs/clustering/lib/python3.7/site-packages/ALLCools/dmr/fimo.py:60: FutureWarning: to_msgpack is deprecated and will be removed in a future version.\n",
      "It is recommended to use pyarrow for on-the-wire transmission of pandas objects.\n",
      "  final_df.to_msgpack(output_path, compress='zlib')\n"
     ]
    },
    {
     "name": "stdout",
     "output_type": "stream",
     "text": [
      "/home/hanliu/project/mouse_rostral_brain/DMR/ITSpatial_by_layer/IT-L6/MotifScan.h5adtemp/MA1126.1.meme, N motif total=21015\n"
     ]
    },
    {
     "name": "stderr",
     "output_type": "stream",
     "text": [
      "/home/hanliu/miniconda3/envs/clustering/lib/python3.7/site-packages/ALLCools/dmr/fimo.py:60: FutureWarning: to_msgpack is deprecated and will be removed in a future version.\n",
      "It is recommended to use pyarrow for on-the-wire transmission of pandas objects.\n",
      "  final_df.to_msgpack(output_path, compress='zlib')\n"
     ]
    },
    {
     "name": "stdout",
     "output_type": "stream",
     "text": [
      "/home/hanliu/project/mouse_rostral_brain/DMR/ITSpatial_by_layer/IT-L6/MotifScan.h5adtemp/MA1144.1.meme, N motif total=51838\n"
     ]
    },
    {
     "name": "stderr",
     "output_type": "stream",
     "text": [
      "/home/hanliu/miniconda3/envs/clustering/lib/python3.7/site-packages/ALLCools/dmr/fimo.py:60: FutureWarning: to_msgpack is deprecated and will be removed in a future version.\n",
      "It is recommended to use pyarrow for on-the-wire transmission of pandas objects.\n",
      "  final_df.to_msgpack(output_path, compress='zlib')\n"
     ]
    },
    {
     "name": "stdout",
     "output_type": "stream",
     "text": [
      "/home/hanliu/project/mouse_rostral_brain/DMR/ITSpatial_by_layer/IT-L6/MotifScan.h5adtemp/MA0149.1.meme, N motif total=28571\n"
     ]
    },
    {
     "name": "stderr",
     "output_type": "stream",
     "text": [
      "/home/hanliu/miniconda3/envs/clustering/lib/python3.7/site-packages/ALLCools/dmr/fimo.py:60: FutureWarning: to_msgpack is deprecated and will be removed in a future version.\n",
      "It is recommended to use pyarrow for on-the-wire transmission of pandas objects.\n",
      "  final_df.to_msgpack(output_path, compress='zlib')\n"
     ]
    },
    {
     "name": "stdout",
     "output_type": "stream",
     "text": [
      "/home/hanliu/project/mouse_rostral_brain/DMR/ITSpatial_by_layer/IT-L6/MotifScan.h5adtemp/MA1683.1.meme, N motif total=32854\n"
     ]
    },
    {
     "name": "stderr",
     "output_type": "stream",
     "text": [
      "/home/hanliu/miniconda3/envs/clustering/lib/python3.7/site-packages/ALLCools/dmr/fimo.py:60: FutureWarning: to_msgpack is deprecated and will be removed in a future version.\n",
      "It is recommended to use pyarrow for on-the-wire transmission of pandas objects.\n",
      "  final_df.to_msgpack(output_path, compress='zlib')\n"
     ]
    },
    {
     "name": "stdout",
     "output_type": "stream",
     "text": [
      "/home/hanliu/project/mouse_rostral_brain/DMR/ITSpatial_by_layer/IT-L6/MotifScan.h5adtemp/MA0047.3.meme, N motif total=37438\n"
     ]
    },
    {
     "name": "stderr",
     "output_type": "stream",
     "text": [
      "/home/hanliu/miniconda3/envs/clustering/lib/python3.7/site-packages/ALLCools/dmr/fimo.py:60: FutureWarning: to_msgpack is deprecated and will be removed in a future version.\n",
      "It is recommended to use pyarrow for on-the-wire transmission of pandas objects.\n",
      "  final_df.to_msgpack(output_path, compress='zlib')\n"
     ]
    },
    {
     "name": "stdout",
     "output_type": "stream",
     "text": [
      "/home/hanliu/project/mouse_rostral_brain/DMR/ITSpatial_by_layer/IT-L6/MotifScan.h5adtemp/MA0148.4.meme, N motif total=38786\n"
     ]
    },
    {
     "name": "stderr",
     "output_type": "stream",
     "text": [
      "/home/hanliu/miniconda3/envs/clustering/lib/python3.7/site-packages/ALLCools/dmr/fimo.py:60: FutureWarning: to_msgpack is deprecated and will be removed in a future version.\n",
      "It is recommended to use pyarrow for on-the-wire transmission of pandas objects.\n",
      "  final_df.to_msgpack(output_path, compress='zlib')\n"
     ]
    },
    {
     "name": "stdout",
     "output_type": "stream",
     "text": [
      "/home/hanliu/project/mouse_rostral_brain/DMR/ITSpatial_by_layer/IT-L6/MotifScan.h5adtemp/MA1145.1.meme, N motif total=21719\n"
     ]
    },
    {
     "name": "stderr",
     "output_type": "stream",
     "text": [
      "/home/hanliu/miniconda3/envs/clustering/lib/python3.7/site-packages/ALLCools/dmr/fimo.py:60: FutureWarning: to_msgpack is deprecated and will be removed in a future version.\n",
      "It is recommended to use pyarrow for on-the-wire transmission of pandas objects.\n",
      "  final_df.to_msgpack(output_path, compress='zlib')\n"
     ]
    },
    {
     "name": "stdout",
     "output_type": "stream",
     "text": [
      "/home/hanliu/project/mouse_rostral_brain/DMR/ITSpatial_by_layer/IT-L6/MotifScan.h5adtemp/MA0845.1.meme, N motif total=50624\n"
     ]
    },
    {
     "name": "stderr",
     "output_type": "stream",
     "text": [
      "/home/hanliu/miniconda3/envs/clustering/lib/python3.7/site-packages/ALLCools/dmr/fimo.py:60: FutureWarning: to_msgpack is deprecated and will be removed in a future version.\n",
      "It is recommended to use pyarrow for on-the-wire transmission of pandas objects.\n",
      "  final_df.to_msgpack(output_path, compress='zlib')\n"
     ]
    },
    {
     "name": "stdout",
     "output_type": "stream",
     "text": [
      "/home/hanliu/project/mouse_rostral_brain/DMR/ITSpatial_by_layer/IT-L6/MotifScan.h5adtemp/MA0032.2.meme, N motif total=55850\n"
     ]
    },
    {
     "name": "stderr",
     "output_type": "stream",
     "text": [
      "/home/hanliu/miniconda3/envs/clustering/lib/python3.7/site-packages/ALLCools/dmr/fimo.py:60: FutureWarning: to_msgpack is deprecated and will be removed in a future version.\n",
      "It is recommended to use pyarrow for on-the-wire transmission of pandas objects.\n",
      "  final_df.to_msgpack(output_path, compress='zlib')\n"
     ]
    },
    {
     "name": "stdout",
     "output_type": "stream",
     "text": [
      "/home/hanliu/project/mouse_rostral_brain/DMR/ITSpatial_by_layer/IT-L6/MotifScan.h5adtemp/MA0846.1.meme, N motif total=71128\n"
     ]
    },
    {
     "name": "stderr",
     "output_type": "stream",
     "text": [
      "/home/hanliu/miniconda3/envs/clustering/lib/python3.7/site-packages/ALLCools/dmr/fimo.py:60: FutureWarning: to_msgpack is deprecated and will be removed in a future version.\n",
      "It is recommended to use pyarrow for on-the-wire transmission of pandas objects.\n",
      "  final_df.to_msgpack(output_path, compress='zlib')\n"
     ]
    },
    {
     "name": "stdout",
     "output_type": "stream",
     "text": [
      "/home/hanliu/project/mouse_rostral_brain/DMR/ITSpatial_by_layer/IT-L6/MotifScan.h5adtemp/MA0031.1.meme, N motif total=22660\n"
     ]
    },
    {
     "name": "stderr",
     "output_type": "stream",
     "text": [
      "/home/hanliu/miniconda3/envs/clustering/lib/python3.7/site-packages/ALLCools/dmr/fimo.py:60: FutureWarning: to_msgpack is deprecated and will be removed in a future version.\n",
      "It is recommended to use pyarrow for on-the-wire transmission of pandas objects.\n",
      "  final_df.to_msgpack(output_path, compress='zlib')\n"
     ]
    },
    {
     "name": "stdout",
     "output_type": "stream",
     "text": [
      "/home/hanliu/project/mouse_rostral_brain/DMR/ITSpatial_by_layer/IT-L6/MotifScan.h5adtemp/MA0042.2.meme, N motif total=22707\n"
     ]
    },
    {
     "name": "stderr",
     "output_type": "stream",
     "text": [
      "/home/hanliu/miniconda3/envs/clustering/lib/python3.7/site-packages/ALLCools/dmr/fimo.py:60: FutureWarning: to_msgpack is deprecated and will be removed in a future version.\n",
      "It is recommended to use pyarrow for on-the-wire transmission of pandas objects.\n",
      "  final_df.to_msgpack(output_path, compress='zlib')\n"
     ]
    },
    {
     "name": "stdout",
     "output_type": "stream",
     "text": [
      "/home/hanliu/project/mouse_rostral_brain/DMR/ITSpatial_by_layer/IT-L6/MotifScan.h5adtemp/MA0614.1.meme, N motif total=26729\n"
     ]
    },
    {
     "name": "stderr",
     "output_type": "stream",
     "text": [
      "/home/hanliu/miniconda3/envs/clustering/lib/python3.7/site-packages/ALLCools/dmr/fimo.py:60: FutureWarning: to_msgpack is deprecated and will be removed in a future version.\n",
      "It is recommended to use pyarrow for on-the-wire transmission of pandas objects.\n",
      "  final_df.to_msgpack(output_path, compress='zlib')\n"
     ]
    },
    {
     "name": "stdout",
     "output_type": "stream",
     "text": [
      "/home/hanliu/project/mouse_rostral_brain/DMR/ITSpatial_by_layer/IT-L6/MotifScan.h5adtemp/MA0613.1.meme, N motif total=28359\n"
     ]
    },
    {
     "name": "stderr",
     "output_type": "stream",
     "text": [
      "/home/hanliu/miniconda3/envs/clustering/lib/python3.7/site-packages/ALLCools/dmr/fimo.py:60: FutureWarning: to_msgpack is deprecated and will be removed in a future version.\n",
      "It is recommended to use pyarrow for on-the-wire transmission of pandas objects.\n",
      "  final_df.to_msgpack(output_path, compress='zlib')\n"
     ]
    },
    {
     "name": "stdout",
     "output_type": "stream",
     "text": [
      "/home/hanliu/project/mouse_rostral_brain/DMR/ITSpatial_by_layer/IT-L6/MotifScan.h5adtemp/MA0033.2.meme, N motif total=22707\n"
     ]
    },
    {
     "name": "stderr",
     "output_type": "stream",
     "text": [
      "/home/hanliu/miniconda3/envs/clustering/lib/python3.7/site-packages/ALLCools/dmr/fimo.py:60: FutureWarning: to_msgpack is deprecated and will be removed in a future version.\n",
      "It is recommended to use pyarrow for on-the-wire transmission of pandas objects.\n",
      "  final_df.to_msgpack(output_path, compress='zlib')\n"
     ]
    },
    {
     "name": "stdout",
     "output_type": "stream",
     "text": [
      "/home/hanliu/project/mouse_rostral_brain/DMR/ITSpatial_by_layer/IT-L6/MotifScan.h5adtemp/MA0847.2.meme, N motif total=53493\n"
     ]
    },
    {
     "name": "stderr",
     "output_type": "stream",
     "text": [
      "/home/hanliu/miniconda3/envs/clustering/lib/python3.7/site-packages/ALLCools/dmr/fimo.py:60: FutureWarning: to_msgpack is deprecated and will be removed in a future version.\n",
      "It is recommended to use pyarrow for on-the-wire transmission of pandas objects.\n",
      "  final_df.to_msgpack(output_path, compress='zlib')\n"
     ]
    },
    {
     "name": "stdout",
     "output_type": "stream",
     "text": [
      "/home/hanliu/project/mouse_rostral_brain/DMR/ITSpatial_by_layer/IT-L6/MotifScan.h5adtemp/MA1606.1.meme, N motif total=38868\n"
     ]
    },
    {
     "name": "stderr",
     "output_type": "stream",
     "text": [
      "/home/hanliu/miniconda3/envs/clustering/lib/python3.7/site-packages/ALLCools/dmr/fimo.py:60: FutureWarning: to_msgpack is deprecated and will be removed in a future version.\n",
      "It is recommended to use pyarrow for on-the-wire transmission of pandas objects.\n",
      "  final_df.to_msgpack(output_path, compress='zlib')\n"
     ]
    },
    {
     "name": "stdout",
     "output_type": "stream",
     "text": [
      "/home/hanliu/project/mouse_rostral_brain/DMR/ITSpatial_by_layer/IT-L6/MotifScan.h5adtemp/MA0041.1.meme, N motif total=90233\n"
     ]
    },
    {
     "name": "stderr",
     "output_type": "stream",
     "text": [
      "/home/hanliu/miniconda3/envs/clustering/lib/python3.7/site-packages/ALLCools/dmr/fimo.py:60: FutureWarning: to_msgpack is deprecated and will be removed in a future version.\n",
      "It is recommended to use pyarrow for on-the-wire transmission of pandas objects.\n",
      "  final_df.to_msgpack(output_path, compress='zlib')\n"
     ]
    },
    {
     "name": "stdout",
     "output_type": "stream",
     "text": [
      "/home/hanliu/project/mouse_rostral_brain/DMR/ITSpatial_by_layer/IT-L6/MotifScan.h5adtemp/MA0848.1.meme, N motif total=22707\n"
     ]
    },
    {
     "name": "stderr",
     "output_type": "stream",
     "text": [
      "/home/hanliu/miniconda3/envs/clustering/lib/python3.7/site-packages/ALLCools/dmr/fimo.py:60: FutureWarning: to_msgpack is deprecated and will be removed in a future version.\n",
      "It is recommended to use pyarrow for on-the-wire transmission of pandas objects.\n",
      "  final_df.to_msgpack(output_path, compress='zlib')\n"
     ]
    },
    {
     "name": "stdout",
     "output_type": "stream",
     "text": [
      "/home/hanliu/project/mouse_rostral_brain/DMR/ITSpatial_by_layer/IT-L6/MotifScan.h5adtemp/MA1489.1.meme, N motif total=5890\n"
     ]
    },
    {
     "name": "stderr",
     "output_type": "stream",
     "text": [
      "/home/hanliu/miniconda3/envs/clustering/lib/python3.7/site-packages/ALLCools/dmr/fimo.py:60: FutureWarning: to_msgpack is deprecated and will be removed in a future version.\n",
      "It is recommended to use pyarrow for on-the-wire transmission of pandas objects.\n",
      "  final_df.to_msgpack(output_path, compress='zlib')\n"
     ]
    },
    {
     "name": "stdout",
     "output_type": "stream",
     "text": [
      "/home/hanliu/project/mouse_rostral_brain/DMR/ITSpatial_by_layer/IT-L6/MotifScan.h5adtemp/MA0850.1.meme, N motif total=22707\n"
     ]
    },
    {
     "name": "stderr",
     "output_type": "stream",
     "text": [
      "/home/hanliu/miniconda3/envs/clustering/lib/python3.7/site-packages/ALLCools/dmr/fimo.py:60: FutureWarning: to_msgpack is deprecated and will be removed in a future version.\n",
      "It is recommended to use pyarrow for on-the-wire transmission of pandas objects.\n",
      "  final_df.to_msgpack(output_path, compress='zlib')\n"
     ]
    },
    {
     "name": "stdout",
     "output_type": "stream",
     "text": [
      "/home/hanliu/project/mouse_rostral_brain/DMR/ITSpatial_by_layer/IT-L6/MotifScan.h5adtemp/MA1487.1.meme, N motif total=53579\n"
     ]
    },
    {
     "name": "stderr",
     "output_type": "stream",
     "text": [
      "/home/hanliu/miniconda3/envs/clustering/lib/python3.7/site-packages/ALLCools/dmr/fimo.py:60: FutureWarning: to_msgpack is deprecated and will be removed in a future version.\n",
      "It is recommended to use pyarrow for on-the-wire transmission of pandas objects.\n",
      "  final_df.to_msgpack(output_path, compress='zlib')\n"
     ]
    },
    {
     "name": "stdout",
     "output_type": "stream",
     "text": [
      "/home/hanliu/project/mouse_rostral_brain/DMR/ITSpatial_by_layer/IT-L6/MotifScan.h5adtemp/MA0849.1.meme, N motif total=22707\n"
     ]
    },
    {
     "name": "stderr",
     "output_type": "stream",
     "text": [
      "/home/hanliu/miniconda3/envs/clustering/lib/python3.7/site-packages/ALLCools/dmr/fimo.py:60: FutureWarning: to_msgpack is deprecated and will be removed in a future version.\n",
      "It is recommended to use pyarrow for on-the-wire transmission of pandas objects.\n",
      "  final_df.to_msgpack(output_path, compress='zlib')\n"
     ]
    },
    {
     "name": "stdout",
     "output_type": "stream",
     "text": [
      "/home/hanliu/project/mouse_rostral_brain/DMR/ITSpatial_by_layer/IT-L6/MotifScan.h5adtemp/MA0479.1.meme, N motif total=34584\n"
     ]
    },
    {
     "name": "stderr",
     "output_type": "stream",
     "text": [
      "/home/hanliu/miniconda3/envs/clustering/lib/python3.7/site-packages/ALLCools/dmr/fimo.py:60: FutureWarning: to_msgpack is deprecated and will be removed in a future version.\n",
      "It is recommended to use pyarrow for on-the-wire transmission of pandas objects.\n",
      "  final_df.to_msgpack(output_path, compress='zlib')\n"
     ]
    },
    {
     "name": "stdout",
     "output_type": "stream",
     "text": [
      "/home/hanliu/project/mouse_rostral_brain/DMR/ITSpatial_by_layer/IT-L6/MotifScan.h5adtemp/MA0030.1.meme, N motif total=29965\n"
     ]
    },
    {
     "name": "stderr",
     "output_type": "stream",
     "text": [
      "/home/hanliu/miniconda3/envs/clustering/lib/python3.7/site-packages/ALLCools/dmr/fimo.py:60: FutureWarning: to_msgpack is deprecated and will be removed in a future version.\n",
      "It is recommended to use pyarrow for on-the-wire transmission of pandas objects.\n",
      "  final_df.to_msgpack(output_path, compress='zlib')\n"
     ]
    },
    {
     "name": "stdout",
     "output_type": "stream",
     "text": [
      "/home/hanliu/project/mouse_rostral_brain/DMR/ITSpatial_by_layer/IT-L6/MotifScan.h5adtemp/MA0157.2.meme, N motif total=26434\n"
     ]
    },
    {
     "name": "stderr",
     "output_type": "stream",
     "text": [
      "/home/hanliu/miniconda3/envs/clustering/lib/python3.7/site-packages/ALLCools/dmr/fimo.py:60: FutureWarning: to_msgpack is deprecated and will be removed in a future version.\n",
      "It is recommended to use pyarrow for on-the-wire transmission of pandas objects.\n",
      "  final_df.to_msgpack(output_path, compress='zlib')\n"
     ]
    },
    {
     "name": "stdout",
     "output_type": "stream",
     "text": [
      "/home/hanliu/project/mouse_rostral_brain/DMR/ITSpatial_by_layer/IT-L6/MotifScan.h5adtemp/MA0037.3.meme, N motif total=20450\n"
     ]
    },
    {
     "name": "stderr",
     "output_type": "stream",
     "text": [
      "/home/hanliu/miniconda3/envs/clustering/lib/python3.7/site-packages/ALLCools/dmr/fimo.py:60: FutureWarning: to_msgpack is deprecated and will be removed in a future version.\n",
      "It is recommended to use pyarrow for on-the-wire transmission of pandas objects.\n",
      "  final_df.to_msgpack(output_path, compress='zlib')\n"
     ]
    },
    {
     "name": "stdout",
     "output_type": "stream",
     "text": [
      "/home/hanliu/project/mouse_rostral_brain/DMR/ITSpatial_by_layer/IT-L6/MotifScan.h5adtemp/MA1103.2.meme, N motif total=34349\n"
     ]
    },
    {
     "name": "stderr",
     "output_type": "stream",
     "text": [
      "/home/hanliu/miniconda3/envs/clustering/lib/python3.7/site-packages/ALLCools/dmr/fimo.py:60: FutureWarning: to_msgpack is deprecated and will be removed in a future version.\n",
      "It is recommended to use pyarrow for on-the-wire transmission of pandas objects.\n",
      "  final_df.to_msgpack(output_path, compress='zlib')\n"
     ]
    },
    {
     "name": "stdout",
     "output_type": "stream",
     "text": [
      "/home/hanliu/project/mouse_rostral_brain/DMR/ITSpatial_by_layer/IT-L6/MotifScan.h5adtemp/MA0852.2.meme, N motif total=34834\n"
     ]
    },
    {
     "name": "stderr",
     "output_type": "stream",
     "text": [
      "/home/hanliu/miniconda3/envs/clustering/lib/python3.7/site-packages/ALLCools/dmr/fimo.py:60: FutureWarning: to_msgpack is deprecated and will be removed in a future version.\n",
      "It is recommended to use pyarrow for on-the-wire transmission of pandas objects.\n",
      "  final_df.to_msgpack(output_path, compress='zlib')\n"
     ]
    },
    {
     "name": "stdout",
     "output_type": "stream",
     "text": [
      "/home/hanliu/project/mouse_rostral_brain/DMR/ITSpatial_by_layer/IT-L6/MotifScan.h5adtemp/MA0480.1.meme, N motif total=55315\n"
     ]
    },
    {
     "name": "stderr",
     "output_type": "stream",
     "text": [
      "/home/hanliu/miniconda3/envs/clustering/lib/python3.7/site-packages/ALLCools/dmr/fimo.py:60: FutureWarning: to_msgpack is deprecated and will be removed in a future version.\n",
      "It is recommended to use pyarrow for on-the-wire transmission of pandas objects.\n",
      "  final_df.to_msgpack(output_path, compress='zlib')\n"
     ]
    },
    {
     "name": "stdout",
     "output_type": "stream",
     "text": [
      "/home/hanliu/project/mouse_rostral_brain/DMR/ITSpatial_by_layer/IT-L6/MotifScan.h5adtemp/MA0481.3.meme, N motif total=36564\n"
     ]
    },
    {
     "name": "stderr",
     "output_type": "stream",
     "text": [
      "/home/hanliu/miniconda3/envs/clustering/lib/python3.7/site-packages/ALLCools/dmr/fimo.py:60: FutureWarning: to_msgpack is deprecated and will be removed in a future version.\n",
      "It is recommended to use pyarrow for on-the-wire transmission of pandas objects.\n",
      "  final_df.to_msgpack(output_path, compress='zlib')\n"
     ]
    },
    {
     "name": "stdout",
     "output_type": "stream",
     "text": [
      "/home/hanliu/project/mouse_rostral_brain/DMR/ITSpatial_by_layer/IT-L6/MotifScan.h5adtemp/MA0593.1.meme, N motif total=52869\n"
     ]
    },
    {
     "name": "stderr",
     "output_type": "stream",
     "text": [
      "/home/hanliu/miniconda3/envs/clustering/lib/python3.7/site-packages/ALLCools/dmr/fimo.py:60: FutureWarning: to_msgpack is deprecated and will be removed in a future version.\n",
      "It is recommended to use pyarrow for on-the-wire transmission of pandas objects.\n",
      "  final_df.to_msgpack(output_path, compress='zlib')\n"
     ]
    },
    {
     "name": "stdout",
     "output_type": "stream",
     "text": [
      "/home/hanliu/project/mouse_rostral_brain/DMR/ITSpatial_by_layer/IT-L6/MotifScan.h5adtemp/MA0040.1.meme, N motif total=35051\n"
     ]
    },
    {
     "name": "stderr",
     "output_type": "stream",
     "text": [
      "/home/hanliu/miniconda3/envs/clustering/lib/python3.7/site-packages/ALLCools/dmr/fimo.py:60: FutureWarning: to_msgpack is deprecated and will be removed in a future version.\n",
      "It is recommended to use pyarrow for on-the-wire transmission of pandas objects.\n",
      "  final_df.to_msgpack(output_path, compress='zlib')\n"
     ]
    },
    {
     "name": "stdout",
     "output_type": "stream",
     "text": [
      "/home/hanliu/project/mouse_rostral_brain/DMR/ITSpatial_by_layer/IT-L6/MotifScan.h5adtemp/MA1607.1.meme, N motif total=43906\n"
     ]
    },
    {
     "name": "stderr",
     "output_type": "stream",
     "text": [
      "/home/hanliu/miniconda3/envs/clustering/lib/python3.7/site-packages/ALLCools/dmr/fimo.py:60: FutureWarning: to_msgpack is deprecated and will be removed in a future version.\n",
      "It is recommended to use pyarrow for on-the-wire transmission of pandas objects.\n",
      "  final_df.to_msgpack(output_path, compress='zlib')\n"
     ]
    },
    {
     "name": "stdout",
     "output_type": "stream",
     "text": [
      "/home/hanliu/project/mouse_rostral_brain/DMR/ITSpatial_by_layer/IT-L6/MotifScan.h5adtemp/MA0035.4.meme, N motif total=22137\n"
     ]
    },
    {
     "name": "stderr",
     "output_type": "stream",
     "text": [
      "/home/hanliu/miniconda3/envs/clustering/lib/python3.7/site-packages/ALLCools/dmr/fimo.py:60: FutureWarning: to_msgpack is deprecated and will be removed in a future version.\n",
      "It is recommended to use pyarrow for on-the-wire transmission of pandas objects.\n",
      "  final_df.to_msgpack(output_path, compress='zlib')\n"
     ]
    },
    {
     "name": "stdout",
     "output_type": "stream",
     "text": [
      "/home/hanliu/project/mouse_rostral_brain/DMR/ITSpatial_by_layer/IT-L6/MotifScan.h5adtemp/MA0889.1.meme, N motif total=13211\n"
     ]
    },
    {
     "name": "stderr",
     "output_type": "stream",
     "text": [
      "/home/hanliu/miniconda3/envs/clustering/lib/python3.7/site-packages/ALLCools/dmr/fimo.py:60: FutureWarning: to_msgpack is deprecated and will be removed in a future version.\n",
      "It is recommended to use pyarrow for on-the-wire transmission of pandas objects.\n",
      "  final_df.to_msgpack(output_path, compress='zlib')\n"
     ]
    },
    {
     "name": "stdout",
     "output_type": "stream",
     "text": [
      "/home/hanliu/project/mouse_rostral_brain/DMR/ITSpatial_by_layer/IT-L6/MotifScan.h5adtemp/MA0036.3.meme, N motif total=26717\n"
     ]
    },
    {
     "name": "stderr",
     "output_type": "stream",
     "text": [
      "/home/hanliu/miniconda3/envs/clustering/lib/python3.7/site-packages/ALLCools/dmr/fimo.py:60: FutureWarning: to_msgpack is deprecated and will be removed in a future version.\n",
      "It is recommended to use pyarrow for on-the-wire transmission of pandas objects.\n",
      "  final_df.to_msgpack(output_path, compress='zlib')\n"
     ]
    },
    {
     "name": "stdout",
     "output_type": "stream",
     "text": [
      "/home/hanliu/project/mouse_rostral_brain/DMR/ITSpatial_by_layer/IT-L6/MotifScan.h5adtemp/MA0482.2.meme, N motif total=32288\n"
     ]
    },
    {
     "name": "stderr",
     "output_type": "stream",
     "text": [
      "/home/hanliu/miniconda3/envs/clustering/lib/python3.7/site-packages/ALLCools/dmr/fimo.py:60: FutureWarning: to_msgpack is deprecated and will be removed in a future version.\n",
      "It is recommended to use pyarrow for on-the-wire transmission of pandas objects.\n",
      "  final_df.to_msgpack(output_path, compress='zlib')\n"
     ]
    },
    {
     "name": "stdout",
     "output_type": "stream",
     "text": [
      "/home/hanliu/project/mouse_rostral_brain/DMR/ITSpatial_by_layer/IT-L6/MotifScan.h5adtemp/MA0766.2.meme, N motif total=20898\n"
     ]
    },
    {
     "name": "stderr",
     "output_type": "stream",
     "text": [
      "/home/hanliu/miniconda3/envs/clustering/lib/python3.7/site-packages/ALLCools/dmr/fimo.py:60: FutureWarning: to_msgpack is deprecated and will be removed in a future version.\n",
      "It is recommended to use pyarrow for on-the-wire transmission of pandas objects.\n",
      "  final_df.to_msgpack(output_path, compress='zlib')\n"
     ]
    },
    {
     "name": "stdout",
     "output_type": "stream",
     "text": [
      "/home/hanliu/project/mouse_rostral_brain/DMR/ITSpatial_by_layer/IT-L6/MotifScan.h5adtemp/MA0851.1.meme, N motif total=54314\n"
     ]
    },
    {
     "name": "stderr",
     "output_type": "stream",
     "text": [
      "/home/hanliu/miniconda3/envs/clustering/lib/python3.7/site-packages/ALLCools/dmr/fimo.py:60: FutureWarning: to_msgpack is deprecated and will be removed in a future version.\n",
      "It is recommended to use pyarrow for on-the-wire transmission of pandas objects.\n",
      "  final_df.to_msgpack(output_path, compress='zlib')\n"
     ]
    },
    {
     "name": "stdout",
     "output_type": "stream",
     "text": [
      "/home/hanliu/project/mouse_rostral_brain/DMR/ITSpatial_by_layer/IT-L6/MotifScan.h5adtemp/MA0890.1.meme, N motif total=14566\n"
     ]
    },
    {
     "name": "stderr",
     "output_type": "stream",
     "text": [
      "/home/hanliu/miniconda3/envs/clustering/lib/python3.7/site-packages/ALLCools/dmr/fimo.py:60: FutureWarning: to_msgpack is deprecated and will be removed in a future version.\n",
      "It is recommended to use pyarrow for on-the-wire transmission of pandas objects.\n",
      "  final_df.to_msgpack(output_path, compress='zlib')\n"
     ]
    },
    {
     "name": "stdout",
     "output_type": "stream",
     "text": [
      "/home/hanliu/project/mouse_rostral_brain/DMR/ITSpatial_by_layer/IT-L6/MotifScan.h5adtemp/MA1104.2.meme, N motif total=30828\n"
     ]
    },
    {
     "name": "stderr",
     "output_type": "stream",
     "text": [
      "/home/hanliu/miniconda3/envs/clustering/lib/python3.7/site-packages/ALLCools/dmr/fimo.py:60: FutureWarning: to_msgpack is deprecated and will be removed in a future version.\n",
      "It is recommended to use pyarrow for on-the-wire transmission of pandas objects.\n",
      "  final_df.to_msgpack(output_path, compress='zlib')\n"
     ]
    },
    {
     "name": "stdout",
     "output_type": "stream",
     "text": [
      "/home/hanliu/project/mouse_rostral_brain/DMR/ITSpatial_by_layer/IT-L6/MotifScan.h5adtemp/MA0646.1.meme, N motif total=24468\n"
     ]
    },
    {
     "name": "stderr",
     "output_type": "stream",
     "text": [
      "/home/hanliu/miniconda3/envs/clustering/lib/python3.7/site-packages/ALLCools/dmr/fimo.py:60: FutureWarning: to_msgpack is deprecated and will be removed in a future version.\n",
      "It is recommended to use pyarrow for on-the-wire transmission of pandas objects.\n",
      "  final_df.to_msgpack(output_path, compress='zlib')\n"
     ]
    },
    {
     "name": "stdout",
     "output_type": "stream",
     "text": [
      "/home/hanliu/project/mouse_rostral_brain/DMR/ITSpatial_by_layer/IT-L6/MotifScan.h5adtemp/MA0062.3.meme, N motif total=92559\n"
     ]
    },
    {
     "name": "stderr",
     "output_type": "stream",
     "text": [
      "/home/hanliu/miniconda3/envs/clustering/lib/python3.7/site-packages/ALLCools/dmr/fimo.py:60: FutureWarning: to_msgpack is deprecated and will be removed in a future version.\n",
      "It is recommended to use pyarrow for on-the-wire transmission of pandas objects.\n",
      "  final_df.to_msgpack(output_path, compress='zlib')\n"
     ]
    },
    {
     "name": "stdout",
     "output_type": "stream",
     "text": [
      "/home/hanliu/project/mouse_rostral_brain/DMR/ITSpatial_by_layer/IT-L6/MotifScan.h5adtemp/MA0767.1.meme, N motif total=21069\n"
     ]
    },
    {
     "name": "stderr",
     "output_type": "stream",
     "text": [
      "/home/hanliu/miniconda3/envs/clustering/lib/python3.7/site-packages/ALLCools/dmr/fimo.py:60: FutureWarning: to_msgpack is deprecated and will be removed in a future version.\n",
      "It is recommended to use pyarrow for on-the-wire transmission of pandas objects.\n",
      "  final_df.to_msgpack(output_path, compress='zlib')\n"
     ]
    },
    {
     "name": "stdout",
     "output_type": "stream",
     "text": [
      "/home/hanliu/project/mouse_rostral_brain/DMR/ITSpatial_by_layer/IT-L6/MotifScan.h5adtemp/MA0140.2.meme, N motif total=28474\n"
     ]
    },
    {
     "name": "stderr",
     "output_type": "stream",
     "text": [
      "/home/hanliu/miniconda3/envs/clustering/lib/python3.7/site-packages/ALLCools/dmr/fimo.py:60: FutureWarning: to_msgpack is deprecated and will be removed in a future version.\n",
      "It is recommended to use pyarrow for on-the-wire transmission of pandas objects.\n",
      "  final_df.to_msgpack(output_path, compress='zlib')\n"
     ]
    },
    {
     "name": "stdout",
     "output_type": "stream",
     "text": [
      "/home/hanliu/project/mouse_rostral_brain/DMR/ITSpatial_by_layer/IT-L6/MotifScan.h5adtemp/MA0483.1.meme, N motif total=56848\n"
     ]
    },
    {
     "name": "stderr",
     "output_type": "stream",
     "text": [
      "/home/hanliu/miniconda3/envs/clustering/lib/python3.7/site-packages/ALLCools/dmr/fimo.py:60: FutureWarning: to_msgpack is deprecated and will be removed in a future version.\n",
      "It is recommended to use pyarrow for on-the-wire transmission of pandas objects.\n",
      "  final_df.to_msgpack(output_path, compress='zlib')\n"
     ]
    },
    {
     "name": "stdout",
     "output_type": "stream",
     "text": [
      "/home/hanliu/project/mouse_rostral_brain/DMR/ITSpatial_by_layer/IT-L6/MotifScan.h5adtemp/MA0038.2.meme, N motif total=34806\n"
     ]
    },
    {
     "name": "stderr",
     "output_type": "stream",
     "text": [
      "/home/hanliu/miniconda3/envs/clustering/lib/python3.7/site-packages/ALLCools/dmr/fimo.py:60: FutureWarning: to_msgpack is deprecated and will be removed in a future version.\n",
      "It is recommended to use pyarrow for on-the-wire transmission of pandas objects.\n",
      "  final_df.to_msgpack(output_path, compress='zlib')\n"
     ]
    },
    {
     "name": "stdout",
     "output_type": "stream",
     "text": [
      "/home/hanliu/project/mouse_rostral_brain/DMR/ITSpatial_by_layer/IT-L6/MotifScan.h5adtemp/MA0734.2.meme, N motif total=53946\n"
     ]
    },
    {
     "name": "stderr",
     "output_type": "stream",
     "text": [
      "/home/hanliu/miniconda3/envs/clustering/lib/python3.7/site-packages/ALLCools/dmr/fimo.py:60: FutureWarning: to_msgpack is deprecated and will be removed in a future version.\n",
      "It is recommended to use pyarrow for on-the-wire transmission of pandas objects.\n",
      "  final_df.to_msgpack(output_path, compress='zlib')\n"
     ]
    },
    {
     "name": "stdout",
     "output_type": "stream",
     "text": [
      "/home/hanliu/project/mouse_rostral_brain/DMR/ITSpatial_by_layer/IT-L6/MotifScan.h5adtemp/MA0862.1.meme, N motif total=3839\n"
     ]
    },
    {
     "name": "stderr",
     "output_type": "stream",
     "text": [
      "/home/hanliu/miniconda3/envs/clustering/lib/python3.7/site-packages/ALLCools/dmr/fimo.py:60: FutureWarning: to_msgpack is deprecated and will be removed in a future version.\n",
      "It is recommended to use pyarrow for on-the-wire transmission of pandas objects.\n",
      "  final_df.to_msgpack(output_path, compress='zlib')\n"
     ]
    },
    {
     "name": "stdout",
     "output_type": "stream",
     "text": [
      "/home/hanliu/project/mouse_rostral_brain/DMR/ITSpatial_by_layer/IT-L6/MotifScan.h5adtemp/MA0893.2.meme, N motif total=17159\n"
     ]
    },
    {
     "name": "stderr",
     "output_type": "stream",
     "text": [
      "/home/hanliu/miniconda3/envs/clustering/lib/python3.7/site-packages/ALLCools/dmr/fimo.py:60: FutureWarning: to_msgpack is deprecated and will be removed in a future version.\n",
      "It is recommended to use pyarrow for on-the-wire transmission of pandas objects.\n",
      "  final_df.to_msgpack(output_path, compress='zlib')\n"
     ]
    },
    {
     "name": "stdout",
     "output_type": "stream",
     "text": [
      "Finish count 200 motifs.\n"
     ]
    },
    {
     "name": "stdout",
     "output_type": "stream",
     "text": [
      "/home/hanliu/project/mouse_rostral_brain/DMR/ITSpatial_by_layer/IT-L6/MotifScan.h5adtemp/MA0736.1.meme, N motif total=36042\n"
     ]
    },
    {
     "name": "stderr",
     "output_type": "stream",
     "text": [
      "/home/hanliu/miniconda3/envs/clustering/lib/python3.7/site-packages/ALLCools/dmr/fimo.py:60: FutureWarning: to_msgpack is deprecated and will be removed in a future version.\n",
      "It is recommended to use pyarrow for on-the-wire transmission of pandas objects.\n",
      "  final_df.to_msgpack(output_path, compress='zlib')\n"
     ]
    },
    {
     "name": "stdout",
     "output_type": "stream",
     "text": [
      "/home/hanliu/project/mouse_rostral_brain/DMR/ITSpatial_by_layer/IT-L6/MotifScan.h5adtemp/MA0735.1.meme, N motif total=226\n"
     ]
    },
    {
     "name": "stderr",
     "output_type": "stream",
     "text": [
      "/home/hanliu/miniconda3/envs/clustering/lib/python3.7/site-packages/ALLCools/dmr/fimo.py:60: FutureWarning: to_msgpack is deprecated and will be removed in a future version.\n",
      "It is recommended to use pyarrow for on-the-wire transmission of pandas objects.\n",
      "  final_df.to_msgpack(output_path, compress='zlib')\n"
     ]
    },
    {
     "name": "stdout",
     "output_type": "stream",
     "text": [
      "/home/hanliu/project/mouse_rostral_brain/DMR/ITSpatial_by_layer/IT-L6/MotifScan.h5adtemp/MA1491.1.meme, N motif total=61496\n"
     ]
    },
    {
     "name": "stderr",
     "output_type": "stream",
     "text": [
      "/home/hanliu/miniconda3/envs/clustering/lib/python3.7/site-packages/ALLCools/dmr/fimo.py:60: FutureWarning: to_msgpack is deprecated and will be removed in a future version.\n",
      "It is recommended to use pyarrow for on-the-wire transmission of pandas objects.\n",
      "  final_df.to_msgpack(output_path, compress='zlib')\n"
     ]
    },
    {
     "name": "stdout",
     "output_type": "stream",
     "text": [
      "/home/hanliu/project/mouse_rostral_brain/DMR/ITSpatial_by_layer/IT-L6/MotifScan.h5adtemp/MA0737.1.meme, N motif total=10786\n"
     ]
    },
    {
     "name": "stderr",
     "output_type": "stream",
     "text": [
      "/home/hanliu/miniconda3/envs/clustering/lib/python3.7/site-packages/ALLCools/dmr/fimo.py:60: FutureWarning: to_msgpack is deprecated and will be removed in a future version.\n",
      "It is recommended to use pyarrow for on-the-wire transmission of pandas objects.\n",
      "  final_df.to_msgpack(output_path, compress='zlib')\n"
     ]
    },
    {
     "name": "stdout",
     "output_type": "stream",
     "text": [
      "/home/hanliu/project/mouse_rostral_brain/DMR/ITSpatial_by_layer/IT-L6/MotifScan.h5adtemp/MA0891.1.meme, N motif total=20498\n"
     ]
    },
    {
     "name": "stderr",
     "output_type": "stream",
     "text": [
      "/home/hanliu/miniconda3/envs/clustering/lib/python3.7/site-packages/ALLCools/dmr/fimo.py:60: FutureWarning: to_msgpack is deprecated and will be removed in a future version.\n",
      "It is recommended to use pyarrow for on-the-wire transmission of pandas objects.\n",
      "  final_df.to_msgpack(output_path, compress='zlib')\n"
     ]
    },
    {
     "name": "stdout",
     "output_type": "stream",
     "text": [
      "/home/hanliu/project/mouse_rostral_brain/DMR/ITSpatial_by_layer/IT-L6/MotifScan.h5adtemp/MA0647.1.meme, N motif total=20743\n"
     ]
    },
    {
     "name": "stderr",
     "output_type": "stream",
     "text": [
      "/home/hanliu/miniconda3/envs/clustering/lib/python3.7/site-packages/ALLCools/dmr/fimo.py:60: FutureWarning: to_msgpack is deprecated and will be removed in a future version.\n",
      "It is recommended to use pyarrow for on-the-wire transmission of pandas objects.\n",
      "  final_df.to_msgpack(output_path, compress='zlib')\n"
     ]
    },
    {
     "name": "stdout",
     "output_type": "stream",
     "text": [
      "/home/hanliu/project/mouse_rostral_brain/DMR/ITSpatial_by_layer/IT-L6/MotifScan.h5adtemp/MA1099.2.meme, N motif total=14526\n"
     ]
    },
    {
     "name": "stderr",
     "output_type": "stream",
     "text": [
      "/home/hanliu/miniconda3/envs/clustering/lib/python3.7/site-packages/ALLCools/dmr/fimo.py:60: FutureWarning: to_msgpack is deprecated and will be removed in a future version.\n",
      "It is recommended to use pyarrow for on-the-wire transmission of pandas objects.\n",
      "  final_df.to_msgpack(output_path, compress='zlib')\n"
     ]
    },
    {
     "name": "stdout",
     "output_type": "stream",
     "text": [
      "/home/hanliu/project/mouse_rostral_brain/DMR/ITSpatial_by_layer/IT-L6/MotifScan.h5adtemp/MA0892.1.meme, N motif total=18819\n"
     ]
    },
    {
     "name": "stderr",
     "output_type": "stream",
     "text": [
      "/home/hanliu/miniconda3/envs/clustering/lib/python3.7/site-packages/ALLCools/dmr/fimo.py:60: FutureWarning: to_msgpack is deprecated and will be removed in a future version.\n",
      "It is recommended to use pyarrow for on-the-wire transmission of pandas objects.\n",
      "  final_df.to_msgpack(output_path, compress='zlib')\n"
     ]
    },
    {
     "name": "stdout",
     "output_type": "stream",
     "text": [
      "/home/hanliu/project/mouse_rostral_brain/DMR/ITSpatial_by_layer/IT-L6/MotifScan.h5adtemp/MA1105.2.meme, N motif total=35099\n"
     ]
    },
    {
     "name": "stderr",
     "output_type": "stream",
     "text": [
      "/home/hanliu/miniconda3/envs/clustering/lib/python3.7/site-packages/ALLCools/dmr/fimo.py:60: FutureWarning: to_msgpack is deprecated and will be removed in a future version.\n",
      "It is recommended to use pyarrow for on-the-wire transmission of pandas objects.\n",
      "  final_df.to_msgpack(output_path, compress='zlib')\n"
     ]
    },
    {
     "name": "stdout",
     "output_type": "stream",
     "text": [
      "/home/hanliu/project/mouse_rostral_brain/DMR/ITSpatial_by_layer/IT-L6/MotifScan.h5adtemp/MA0092.1.meme, N motif total=46123\n"
     ]
    },
    {
     "name": "stderr",
     "output_type": "stream",
     "text": [
      "/home/hanliu/miniconda3/envs/clustering/lib/python3.7/site-packages/ALLCools/dmr/fimo.py:60: FutureWarning: to_msgpack is deprecated and will be removed in a future version.\n",
      "It is recommended to use pyarrow for on-the-wire transmission of pandas objects.\n",
      "  final_df.to_msgpack(output_path, compress='zlib')\n"
     ]
    },
    {
     "name": "stdout",
     "output_type": "stream",
     "text": [
      "/home/hanliu/project/mouse_rostral_brain/DMR/ITSpatial_by_layer/IT-L6/MotifScan.h5adtemp/MA1493.1.meme, N motif total=20100\n"
     ]
    },
    {
     "name": "stderr",
     "output_type": "stream",
     "text": [
      "/home/hanliu/miniconda3/envs/clustering/lib/python3.7/site-packages/ALLCools/dmr/fimo.py:60: FutureWarning: to_msgpack is deprecated and will be removed in a future version.\n",
      "It is recommended to use pyarrow for on-the-wire transmission of pandas objects.\n",
      "  final_df.to_msgpack(output_path, compress='zlib')\n"
     ]
    },
    {
     "name": "stdout",
     "output_type": "stream",
     "text": [
      "/home/hanliu/project/mouse_rostral_brain/DMR/ITSpatial_by_layer/IT-L6/MotifScan.h5adtemp/MA0648.1.meme, N motif total=14224\n"
     ]
    },
    {
     "name": "stderr",
     "output_type": "stream",
     "text": [
      "/home/hanliu/miniconda3/envs/clustering/lib/python3.7/site-packages/ALLCools/dmr/fimo.py:60: FutureWarning: to_msgpack is deprecated and will be removed in a future version.\n",
      "It is recommended to use pyarrow for on-the-wire transmission of pandas objects.\n",
      "  final_df.to_msgpack(output_path, compress='zlib')\n"
     ]
    },
    {
     "name": "stdout",
     "output_type": "stream",
     "text": [
      "/home/hanliu/project/mouse_rostral_brain/DMR/ITSpatial_by_layer/IT-L6/MotifScan.h5adtemp/MA0616.2.meme, N motif total=19246\n"
     ]
    },
    {
     "name": "stderr",
     "output_type": "stream",
     "text": [
      "/home/hanliu/miniconda3/envs/clustering/lib/python3.7/site-packages/ALLCools/dmr/fimo.py:60: FutureWarning: to_msgpack is deprecated and will be removed in a future version.\n",
      "It is recommended to use pyarrow for on-the-wire transmission of pandas objects.\n",
      "  final_df.to_msgpack(output_path, compress='zlib')\n"
     ]
    },
    {
     "name": "stdout",
     "output_type": "stream",
     "text": [
      "/home/hanliu/project/mouse_rostral_brain/DMR/ITSpatial_by_layer/IT-L6/MotifScan.h5adtemp/MA1638.1.meme, N motif total=73117\n"
     ]
    },
    {
     "name": "stderr",
     "output_type": "stream",
     "text": [
      "/home/hanliu/miniconda3/envs/clustering/lib/python3.7/site-packages/ALLCools/dmr/fimo.py:60: FutureWarning: to_msgpack is deprecated and will be removed in a future version.\n",
      "It is recommended to use pyarrow for on-the-wire transmission of pandas objects.\n",
      "  final_df.to_msgpack(output_path, compress='zlib')\n"
     ]
    },
    {
     "name": "stdout",
     "output_type": "stream",
     "text": [
      "/home/hanliu/project/mouse_rostral_brain/DMR/ITSpatial_by_layer/IT-L6/MotifScan.h5adtemp/MA0615.1.meme, N motif total=4083\n"
     ]
    },
    {
     "name": "stderr",
     "output_type": "stream",
     "text": [
      "/home/hanliu/miniconda3/envs/clustering/lib/python3.7/site-packages/ALLCools/dmr/fimo.py:60: FutureWarning: to_msgpack is deprecated and will be removed in a future version.\n",
      "It is recommended to use pyarrow for on-the-wire transmission of pandas objects.\n",
      "  final_df.to_msgpack(output_path, compress='zlib')\n"
     ]
    },
    {
     "name": "stdout",
     "output_type": "stream",
     "text": [
      "/home/hanliu/project/mouse_rostral_brain/DMR/ITSpatial_by_layer/IT-L6/MotifScan.h5adtemp/MA0821.1.meme, N motif total=8917\n"
     ]
    },
    {
     "name": "stderr",
     "output_type": "stream",
     "text": [
      "/home/hanliu/miniconda3/envs/clustering/lib/python3.7/site-packages/ALLCools/dmr/fimo.py:60: FutureWarning: to_msgpack is deprecated and will be removed in a future version.\n",
      "It is recommended to use pyarrow for on-the-wire transmission of pandas objects.\n",
      "  final_df.to_msgpack(output_path, compress='zlib')\n"
     ]
    },
    {
     "name": "stdout",
     "output_type": "stream",
     "text": [
      "/home/hanliu/project/mouse_rostral_brain/DMR/ITSpatial_by_layer/IT-L6/MotifScan.h5adtemp/MA0822.1.meme, N motif total=7144\n"
     ]
    },
    {
     "name": "stderr",
     "output_type": "stream",
     "text": [
      "/home/hanliu/miniconda3/envs/clustering/lib/python3.7/site-packages/ALLCools/dmr/fimo.py:60: FutureWarning: to_msgpack is deprecated and will be removed in a future version.\n",
      "It is recommended to use pyarrow for on-the-wire transmission of pandas objects.\n",
      "  final_df.to_msgpack(output_path, compress='zlib')\n"
     ]
    },
    {
     "name": "stdout",
     "output_type": "stream",
     "text": [
      "/home/hanliu/project/mouse_rostral_brain/DMR/ITSpatial_by_layer/IT-L6/MotifScan.h5adtemp/MA0739.1.meme, N motif total=47027\n"
     ]
    },
    {
     "name": "stderr",
     "output_type": "stream",
     "text": [
      "/home/hanliu/miniconda3/envs/clustering/lib/python3.7/site-packages/ALLCools/dmr/fimo.py:60: FutureWarning: to_msgpack is deprecated and will be removed in a future version.\n",
      "It is recommended to use pyarrow for on-the-wire transmission of pandas objects.\n",
      "  final_df.to_msgpack(output_path, compress='zlib')\n"
     ]
    },
    {
     "name": "stdout",
     "output_type": "stream",
     "text": [
      "/home/hanliu/project/mouse_rostral_brain/DMR/ITSpatial_by_layer/IT-L6/MotifScan.h5adtemp/MA0649.1.meme, N motif total=22075\n"
     ]
    },
    {
     "name": "stderr",
     "output_type": "stream",
     "text": [
      "/home/hanliu/miniconda3/envs/clustering/lib/python3.7/site-packages/ALLCools/dmr/fimo.py:60: FutureWarning: to_msgpack is deprecated and will be removed in a future version.\n",
      "It is recommended to use pyarrow for on-the-wire transmission of pandas objects.\n",
      "  final_df.to_msgpack(output_path, compress='zlib')\n"
     ]
    },
    {
     "name": "stdout",
     "output_type": "stream",
     "text": [
      "/home/hanliu/project/mouse_rostral_brain/DMR/ITSpatial_by_layer/IT-L6/MotifScan.h5adtemp/MA0894.1.meme, N motif total=14799\n"
     ]
    },
    {
     "name": "stderr",
     "output_type": "stream",
     "text": [
      "/home/hanliu/miniconda3/envs/clustering/lib/python3.7/site-packages/ALLCools/dmr/fimo.py:60: FutureWarning: to_msgpack is deprecated and will be removed in a future version.\n",
      "It is recommended to use pyarrow for on-the-wire transmission of pandas objects.\n",
      "  final_df.to_msgpack(output_path, compress='zlib')\n"
     ]
    },
    {
     "name": "stdout",
     "output_type": "stream",
     "text": [
      "/home/hanliu/project/mouse_rostral_brain/DMR/ITSpatial_by_layer/IT-L6/MotifScan.h5adtemp/MA0823.1.meme, N motif total=23012\n"
     ]
    },
    {
     "name": "stderr",
     "output_type": "stream",
     "text": [
      "/home/hanliu/miniconda3/envs/clustering/lib/python3.7/site-packages/ALLCools/dmr/fimo.py:60: FutureWarning: to_msgpack is deprecated and will be removed in a future version.\n",
      "It is recommended to use pyarrow for on-the-wire transmission of pandas objects.\n",
      "  final_df.to_msgpack(output_path, compress='zlib')\n"
     ]
    },
    {
     "name": "stdout",
     "output_type": "stream",
     "text": [
      "/home/hanliu/project/mouse_rostral_brain/DMR/ITSpatial_by_layer/IT-L6/MotifScan.h5adtemp/MA1106.1.meme, N motif total=13259\n"
     ]
    },
    {
     "name": "stderr",
     "output_type": "stream",
     "text": [
      "/home/hanliu/miniconda3/envs/clustering/lib/python3.7/site-packages/ALLCools/dmr/fimo.py:60: FutureWarning: to_msgpack is deprecated and will be removed in a future version.\n",
      "It is recommended to use pyarrow for on-the-wire transmission of pandas objects.\n",
      "  final_df.to_msgpack(output_path, compress='zlib')\n"
     ]
    },
    {
     "name": "stdout",
     "output_type": "stream",
     "text": [
      "/home/hanliu/project/mouse_rostral_brain/DMR/ITSpatial_by_layer/IT-L6/MotifScan.h5adtemp/MA0738.1.meme, N motif total=43256\n"
     ]
    },
    {
     "name": "stderr",
     "output_type": "stream",
     "text": [
      "/home/hanliu/miniconda3/envs/clustering/lib/python3.7/site-packages/ALLCools/dmr/fimo.py:60: FutureWarning: to_msgpack is deprecated and will be removed in a future version.\n",
      "It is recommended to use pyarrow for on-the-wire transmission of pandas objects.\n",
      "  final_df.to_msgpack(output_path, compress='zlib')\n"
     ]
    },
    {
     "name": "stdout",
     "output_type": "stream",
     "text": [
      "/home/hanliu/project/mouse_rostral_brain/DMR/ITSpatial_by_layer/IT-L6/MotifScan.h5adtemp/MA0895.1.meme, N motif total=13513\n"
     ]
    },
    {
     "name": "stderr",
     "output_type": "stream",
     "text": [
      "/home/hanliu/miniconda3/envs/clustering/lib/python3.7/site-packages/ALLCools/dmr/fimo.py:60: FutureWarning: to_msgpack is deprecated and will be removed in a future version.\n",
      "It is recommended to use pyarrow for on-the-wire transmission of pandas objects.\n",
      "  final_df.to_msgpack(output_path, compress='zlib')\n"
     ]
    },
    {
     "name": "stdout",
     "output_type": "stream",
     "text": [
      "/home/hanliu/project/mouse_rostral_brain/DMR/ITSpatial_by_layer/IT-L6/MotifScan.h5adtemp/MA0109.1.meme, N motif total=17790\n"
     ]
    },
    {
     "name": "stderr",
     "output_type": "stream",
     "text": [
      "/home/hanliu/miniconda3/envs/clustering/lib/python3.7/site-packages/ALLCools/dmr/fimo.py:60: FutureWarning: to_msgpack is deprecated and will be removed in a future version.\n",
      "It is recommended to use pyarrow for on-the-wire transmission of pandas objects.\n",
      "  final_df.to_msgpack(output_path, compress='zlib')\n"
     ]
    },
    {
     "name": "stdout",
     "output_type": "stream",
     "text": [
      "/home/hanliu/project/mouse_rostral_brain/DMR/ITSpatial_by_layer/IT-L6/MotifScan.h5adtemp/MA0131.2.meme, N motif total=8941\n"
     ]
    },
    {
     "name": "stderr",
     "output_type": "stream",
     "text": [
      "/home/hanliu/miniconda3/envs/clustering/lib/python3.7/site-packages/ALLCools/dmr/fimo.py:60: FutureWarning: to_msgpack is deprecated and will be removed in a future version.\n",
      "It is recommended to use pyarrow for on-the-wire transmission of pandas objects.\n",
      "  final_df.to_msgpack(output_path, compress='zlib')\n"
     ]
    },
    {
     "name": "stdout",
     "output_type": "stream",
     "text": [
      "/home/hanliu/project/mouse_rostral_brain/DMR/ITSpatial_by_layer/IT-L6/MotifScan.h5adtemp/MA0043.3.meme, N motif total=22122\n"
     ]
    },
    {
     "name": "stderr",
     "output_type": "stream",
     "text": [
      "/home/hanliu/miniconda3/envs/clustering/lib/python3.7/site-packages/ALLCools/dmr/fimo.py:60: FutureWarning: to_msgpack is deprecated and will be removed in a future version.\n",
      "It is recommended to use pyarrow for on-the-wire transmission of pandas objects.\n",
      "  final_df.to_msgpack(output_path, compress='zlib')\n"
     ]
    },
    {
     "name": "stdout",
     "output_type": "stream",
     "text": [
      "/home/hanliu/project/mouse_rostral_brain/DMR/ITSpatial_by_layer/IT-L6/MotifScan.h5adtemp/MA0896.1.meme, N motif total=18689\n"
     ]
    },
    {
     "name": "stderr",
     "output_type": "stream",
     "text": [
      "/home/hanliu/miniconda3/envs/clustering/lib/python3.7/site-packages/ALLCools/dmr/fimo.py:60: FutureWarning: to_msgpack is deprecated and will be removed in a future version.\n",
      "It is recommended to use pyarrow for on-the-wire transmission of pandas objects.\n",
      "  final_df.to_msgpack(output_path, compress='zlib')\n"
     ]
    },
    {
     "name": "stdout",
     "output_type": "stream",
     "text": [
      "/home/hanliu/project/mouse_rostral_brain/DMR/ITSpatial_by_layer/IT-L6/MotifScan.h5adtemp/MA1495.1.meme, N motif total=13058\n"
     ]
    },
    {
     "name": "stderr",
     "output_type": "stream",
     "text": [
      "/home/hanliu/miniconda3/envs/clustering/lib/python3.7/site-packages/ALLCools/dmr/fimo.py:60: FutureWarning: to_msgpack is deprecated and will be removed in a future version.\n",
      "It is recommended to use pyarrow for on-the-wire transmission of pandas objects.\n",
      "  final_df.to_msgpack(output_path, compress='zlib')\n"
     ]
    },
    {
     "name": "stdout",
     "output_type": "stream",
     "text": [
      "/home/hanliu/project/mouse_rostral_brain/DMR/ITSpatial_by_layer/IT-L6/MotifScan.h5adtemp/MA0114.4.meme, N motif total=43595\n"
     ]
    },
    {
     "name": "stderr",
     "output_type": "stream",
     "text": [
      "/home/hanliu/miniconda3/envs/clustering/lib/python3.7/site-packages/ALLCools/dmr/fimo.py:60: FutureWarning: to_msgpack is deprecated and will be removed in a future version.\n",
      "It is recommended to use pyarrow for on-the-wire transmission of pandas objects.\n",
      "  final_df.to_msgpack(output_path, compress='zlib')\n"
     ]
    },
    {
     "name": "stdout",
     "output_type": "stream",
     "text": [
      "/home/hanliu/project/mouse_rostral_brain/DMR/ITSpatial_by_layer/IT-L6/MotifScan.h5adtemp/MA0153.2.meme, N motif total=20687\n"
     ]
    },
    {
     "name": "stderr",
     "output_type": "stream",
     "text": [
      "/home/hanliu/miniconda3/envs/clustering/lib/python3.7/site-packages/ALLCools/dmr/fimo.py:60: FutureWarning: to_msgpack is deprecated and will be removed in a future version.\n",
      "It is recommended to use pyarrow for on-the-wire transmission of pandas objects.\n",
      "  final_df.to_msgpack(output_path, compress='zlib')\n"
     ]
    },
    {
     "name": "stdout",
     "output_type": "stream",
     "text": [
      "/home/hanliu/project/mouse_rostral_brain/DMR/ITSpatial_by_layer/IT-L6/MotifScan.h5adtemp/MA1494.1.meme, N motif total=14574\n"
     ]
    },
    {
     "name": "stderr",
     "output_type": "stream",
     "text": [
      "/home/hanliu/miniconda3/envs/clustering/lib/python3.7/site-packages/ALLCools/dmr/fimo.py:60: FutureWarning: to_msgpack is deprecated and will be removed in a future version.\n",
      "It is recommended to use pyarrow for on-the-wire transmission of pandas objects.\n",
      "  final_df.to_msgpack(output_path, compress='zlib')\n"
     ]
    },
    {
     "name": "stdout",
     "output_type": "stream",
     "text": [
      "/home/hanliu/project/mouse_rostral_brain/DMR/ITSpatial_by_layer/IT-L6/MotifScan.h5adtemp/MA0484.2.meme, N motif total=44148\n"
     ]
    },
    {
     "name": "stderr",
     "output_type": "stream",
     "text": [
      "/home/hanliu/miniconda3/envs/clustering/lib/python3.7/site-packages/ALLCools/dmr/fimo.py:60: FutureWarning: to_msgpack is deprecated and will be removed in a future version.\n",
      "It is recommended to use pyarrow for on-the-wire transmission of pandas objects.\n",
      "  final_df.to_msgpack(output_path, compress='zlib')\n"
     ]
    },
    {
     "name": "stdout",
     "output_type": "stream",
     "text": [
      "/home/hanliu/project/mouse_rostral_brain/DMR/ITSpatial_by_layer/IT-L6/MotifScan.h5adtemp/MA0897.1.meme, N motif total=23807\n"
     ]
    },
    {
     "name": "stderr",
     "output_type": "stream",
     "text": [
      "/home/hanliu/miniconda3/envs/clustering/lib/python3.7/site-packages/ALLCools/dmr/fimo.py:60: FutureWarning: to_msgpack is deprecated and will be removed in a future version.\n",
      "It is recommended to use pyarrow for on-the-wire transmission of pandas objects.\n",
      "  final_df.to_msgpack(output_path, compress='zlib')\n"
     ]
    },
    {
     "name": "stdout",
     "output_type": "stream",
     "text": [
      "/home/hanliu/project/mouse_rostral_brain/DMR/ITSpatial_by_layer/IT-L6/MotifScan.h5adtemp/MA0046.2.meme, N motif total=29886\n"
     ]
    },
    {
     "name": "stderr",
     "output_type": "stream",
     "text": [
      "/home/hanliu/miniconda3/envs/clustering/lib/python3.7/site-packages/ALLCools/dmr/fimo.py:60: FutureWarning: to_msgpack is deprecated and will be removed in a future version.\n",
      "It is recommended to use pyarrow for on-the-wire transmission of pandas objects.\n",
      "  final_df.to_msgpack(output_path, compress='zlib')\n"
     ]
    },
    {
     "name": "stdout",
     "output_type": "stream",
     "text": [
      "/home/hanliu/project/mouse_rostral_brain/DMR/ITSpatial_by_layer/IT-L6/MotifScan.h5adtemp/MA0899.1.meme, N motif total=33341\n"
     ]
    },
    {
     "name": "stderr",
     "output_type": "stream",
     "text": [
      "/home/hanliu/miniconda3/envs/clustering/lib/python3.7/site-packages/ALLCools/dmr/fimo.py:60: FutureWarning: to_msgpack is deprecated and will be removed in a future version.\n",
      "It is recommended to use pyarrow for on-the-wire transmission of pandas objects.\n",
      "  final_df.to_msgpack(output_path, compress='zlib')\n"
     ]
    },
    {
     "name": "stdout",
     "output_type": "stream",
     "text": [
      "/home/hanliu/project/mouse_rostral_brain/DMR/ITSpatial_by_layer/IT-L6/MotifScan.h5adtemp/MA0898.1.meme, N motif total=23052\n"
     ]
    },
    {
     "name": "stderr",
     "output_type": "stream",
     "text": [
      "/home/hanliu/miniconda3/envs/clustering/lib/python3.7/site-packages/ALLCools/dmr/fimo.py:60: FutureWarning: to_msgpack is deprecated and will be removed in a future version.\n",
      "It is recommended to use pyarrow for on-the-wire transmission of pandas objects.\n",
      "  final_df.to_msgpack(output_path, compress='zlib')\n"
     ]
    },
    {
     "name": "stdout",
     "output_type": "stream",
     "text": [
      "/home/hanliu/project/mouse_rostral_brain/DMR/ITSpatial_by_layer/IT-L6/MotifScan.h5adtemp/MA0900.2.meme, N motif total=13058\n"
     ]
    },
    {
     "name": "stderr",
     "output_type": "stream",
     "text": [
      "/home/hanliu/miniconda3/envs/clustering/lib/python3.7/site-packages/ALLCools/dmr/fimo.py:60: FutureWarning: to_msgpack is deprecated and will be removed in a future version.\n",
      "It is recommended to use pyarrow for on-the-wire transmission of pandas objects.\n",
      "  final_df.to_msgpack(output_path, compress='zlib')\n"
     ]
    },
    {
     "name": "stdout",
     "output_type": "stream",
     "text": [
      "/home/hanliu/project/mouse_rostral_brain/DMR/ITSpatial_by_layer/IT-L6/MotifScan.h5adtemp/MA1496.1.meme, N motif total=16552\n"
     ]
    },
    {
     "name": "stderr",
     "output_type": "stream",
     "text": [
      "/home/hanliu/miniconda3/envs/clustering/lib/python3.7/site-packages/ALLCools/dmr/fimo.py:60: FutureWarning: to_msgpack is deprecated and will be removed in a future version.\n",
      "It is recommended to use pyarrow for on-the-wire transmission of pandas objects.\n",
      "  final_df.to_msgpack(output_path, compress='zlib')\n"
     ]
    },
    {
     "name": "stdout",
     "output_type": "stream",
     "text": [
      "/home/hanliu/project/mouse_rostral_brain/DMR/ITSpatial_by_layer/IT-L6/MotifScan.h5adtemp/MA0650.2.meme, N motif total=30580\n"
     ]
    },
    {
     "name": "stderr",
     "output_type": "stream",
     "text": [
      "/home/hanliu/miniconda3/envs/clustering/lib/python3.7/site-packages/ALLCools/dmr/fimo.py:60: FutureWarning: to_msgpack is deprecated and will be removed in a future version.\n",
      "It is recommended to use pyarrow for on-the-wire transmission of pandas objects.\n",
      "  final_df.to_msgpack(output_path, compress='zlib')\n"
     ]
    },
    {
     "name": "stdout",
     "output_type": "stream",
     "text": [
      "/home/hanliu/project/mouse_rostral_brain/DMR/ITSpatial_by_layer/IT-L6/MotifScan.h5adtemp/MA0158.2.meme, N motif total=14734\n"
     ]
    },
    {
     "name": "stderr",
     "output_type": "stream",
     "text": [
      "/home/hanliu/miniconda3/envs/clustering/lib/python3.7/site-packages/ALLCools/dmr/fimo.py:60: FutureWarning: to_msgpack is deprecated and will be removed in a future version.\n",
      "It is recommended to use pyarrow for on-the-wire transmission of pandas objects.\n",
      "  final_df.to_msgpack(output_path, compress='zlib')\n"
     ]
    },
    {
     "name": "stdout",
     "output_type": "stream",
     "text": [
      "/home/hanliu/project/mouse_rostral_brain/DMR/ITSpatial_by_layer/IT-L6/MotifScan.h5adtemp/MA0911.1.meme, N motif total=10870\n"
     ]
    },
    {
     "name": "stderr",
     "output_type": "stream",
     "text": [
      "/home/hanliu/miniconda3/envs/clustering/lib/python3.7/site-packages/ALLCools/dmr/fimo.py:60: FutureWarning: to_msgpack is deprecated and will be removed in a future version.\n",
      "It is recommended to use pyarrow for on-the-wire transmission of pandas objects.\n",
      "  final_df.to_msgpack(output_path, compress='zlib')\n"
     ]
    },
    {
     "name": "stdout",
     "output_type": "stream",
     "text": [
      "/home/hanliu/project/mouse_rostral_brain/DMR/ITSpatial_by_layer/IT-L6/MotifScan.h5adtemp/MA1498.1.meme, N motif total=13608\n"
     ]
    },
    {
     "name": "stderr",
     "output_type": "stream",
     "text": [
      "/home/hanliu/miniconda3/envs/clustering/lib/python3.7/site-packages/ALLCools/dmr/fimo.py:60: FutureWarning: to_msgpack is deprecated and will be removed in a future version.\n",
      "It is recommended to use pyarrow for on-the-wire transmission of pandas objects.\n",
      "  final_df.to_msgpack(output_path, compress='zlib')\n"
     ]
    },
    {
     "name": "stdout",
     "output_type": "stream",
     "text": [
      "/home/hanliu/project/mouse_rostral_brain/DMR/ITSpatial_by_layer/IT-L6/MotifScan.h5adtemp/MA1497.1.meme, N motif total=12858\n"
     ]
    },
    {
     "name": "stderr",
     "output_type": "stream",
     "text": [
      "/home/hanliu/miniconda3/envs/clustering/lib/python3.7/site-packages/ALLCools/dmr/fimo.py:60: FutureWarning: to_msgpack is deprecated and will be removed in a future version.\n",
      "It is recommended to use pyarrow for on-the-wire transmission of pandas objects.\n",
      "  final_df.to_msgpack(output_path, compress='zlib')\n"
     ]
    },
    {
     "name": "stdout",
     "output_type": "stream",
     "text": [
      "/home/hanliu/project/mouse_rostral_brain/DMR/ITSpatial_by_layer/IT-L6/MotifScan.h5adtemp/MA0902.2.meme, N motif total=12580\n"
     ]
    },
    {
     "name": "stderr",
     "output_type": "stream",
     "text": [
      "/home/hanliu/miniconda3/envs/clustering/lib/python3.7/site-packages/ALLCools/dmr/fimo.py:60: FutureWarning: to_msgpack is deprecated and will be removed in a future version.\n",
      "It is recommended to use pyarrow for on-the-wire transmission of pandas objects.\n",
      "  final_df.to_msgpack(output_path, compress='zlib')\n"
     ]
    },
    {
     "name": "stdout",
     "output_type": "stream",
     "text": [
      "/home/hanliu/project/mouse_rostral_brain/DMR/ITSpatial_by_layer/IT-L6/MotifScan.h5adtemp/MA1499.1.meme, N motif total=16447\n"
     ]
    },
    {
     "name": "stderr",
     "output_type": "stream",
     "text": [
      "/home/hanliu/miniconda3/envs/clustering/lib/python3.7/site-packages/ALLCools/dmr/fimo.py:60: FutureWarning: to_msgpack is deprecated and will be removed in a future version.\n",
      "It is recommended to use pyarrow for on-the-wire transmission of pandas objects.\n",
      "  final_df.to_msgpack(output_path, compress='zlib')\n"
     ]
    },
    {
     "name": "stdout",
     "output_type": "stream",
     "text": [
      "/home/hanliu/project/mouse_rostral_brain/DMR/ITSpatial_by_layer/IT-L6/MotifScan.h5adtemp/MA1500.1.meme, N motif total=15234\n"
     ]
    },
    {
     "name": "stderr",
     "output_type": "stream",
     "text": [
      "/home/hanliu/miniconda3/envs/clustering/lib/python3.7/site-packages/ALLCools/dmr/fimo.py:60: FutureWarning: to_msgpack is deprecated and will be removed in a future version.\n",
      "It is recommended to use pyarrow for on-the-wire transmission of pandas objects.\n",
      "  final_df.to_msgpack(output_path, compress='zlib')\n"
     ]
    },
    {
     "name": "stdout",
     "output_type": "stream",
     "text": [
      "/home/hanliu/project/mouse_rostral_brain/DMR/ITSpatial_by_layer/IT-L6/MotifScan.h5adtemp/MA1502.1.meme, N motif total=15061\n"
     ]
    },
    {
     "name": "stderr",
     "output_type": "stream",
     "text": [
      "/home/hanliu/miniconda3/envs/clustering/lib/python3.7/site-packages/ALLCools/dmr/fimo.py:60: FutureWarning: to_msgpack is deprecated and will be removed in a future version.\n",
      "It is recommended to use pyarrow for on-the-wire transmission of pandas objects.\n",
      "  final_df.to_msgpack(output_path, compress='zlib')\n"
     ]
    },
    {
     "name": "stdout",
     "output_type": "stream",
     "text": [
      "/home/hanliu/project/mouse_rostral_brain/DMR/ITSpatial_by_layer/IT-L6/MotifScan.h5adtemp/MA0594.2.meme, N motif total=3017\n"
     ]
    },
    {
     "name": "stderr",
     "output_type": "stream",
     "text": [
      "/home/hanliu/miniconda3/envs/clustering/lib/python3.7/site-packages/ALLCools/dmr/fimo.py:60: FutureWarning: to_msgpack is deprecated and will be removed in a future version.\n",
      "It is recommended to use pyarrow for on-the-wire transmission of pandas objects.\n",
      "  final_df.to_msgpack(output_path, compress='zlib')\n"
     ]
    },
    {
     "name": "stdout",
     "output_type": "stream",
     "text": [
      "/home/hanliu/project/mouse_rostral_brain/DMR/ITSpatial_by_layer/IT-L6/MotifScan.h5adtemp/MA0904.2.meme, N motif total=13058\n"
     ]
    },
    {
     "name": "stderr",
     "output_type": "stream",
     "text": [
      "/home/hanliu/miniconda3/envs/clustering/lib/python3.7/site-packages/ALLCools/dmr/fimo.py:60: FutureWarning: to_msgpack is deprecated and will be removed in a future version.\n",
      "It is recommended to use pyarrow for on-the-wire transmission of pandas objects.\n",
      "  final_df.to_msgpack(output_path, compress='zlib')\n"
     ]
    },
    {
     "name": "stdout",
     "output_type": "stream",
     "text": [
      "/home/hanliu/project/mouse_rostral_brain/DMR/ITSpatial_by_layer/IT-L6/MotifScan.h5adtemp/MA1501.1.meme, N motif total=14115\n"
     ]
    },
    {
     "name": "stderr",
     "output_type": "stream",
     "text": [
      "/home/hanliu/miniconda3/envs/clustering/lib/python3.7/site-packages/ALLCools/dmr/fimo.py:60: FutureWarning: to_msgpack is deprecated and will be removed in a future version.\n",
      "It is recommended to use pyarrow for on-the-wire transmission of pandas objects.\n",
      "  final_df.to_msgpack(output_path, compress='zlib')\n"
     ]
    },
    {
     "name": "stdout",
     "output_type": "stream",
     "text": [
      "/home/hanliu/project/mouse_rostral_brain/DMR/ITSpatial_by_layer/IT-L6/MotifScan.h5adtemp/MA1503.1.meme, N motif total=12419\n"
     ]
    },
    {
     "name": "stderr",
     "output_type": "stream",
     "text": [
      "/home/hanliu/miniconda3/envs/clustering/lib/python3.7/site-packages/ALLCools/dmr/fimo.py:60: FutureWarning: to_msgpack is deprecated and will be removed in a future version.\n",
      "It is recommended to use pyarrow for on-the-wire transmission of pandas objects.\n",
      "  final_df.to_msgpack(output_path, compress='zlib')\n"
     ]
    },
    {
     "name": "stdout",
     "output_type": "stream",
     "text": [
      "/home/hanliu/project/mouse_rostral_brain/DMR/ITSpatial_by_layer/IT-L6/MotifScan.h5adtemp/MA1505.1.meme, N motif total=13277\n"
     ]
    },
    {
     "name": "stderr",
     "output_type": "stream",
     "text": [
      "/home/hanliu/miniconda3/envs/clustering/lib/python3.7/site-packages/ALLCools/dmr/fimo.py:60: FutureWarning: to_msgpack is deprecated and will be removed in a future version.\n",
      "It is recommended to use pyarrow for on-the-wire transmission of pandas objects.\n",
      "  final_df.to_msgpack(output_path, compress='zlib')\n"
     ]
    },
    {
     "name": "stdout",
     "output_type": "stream",
     "text": [
      "/home/hanliu/project/mouse_rostral_brain/DMR/ITSpatial_by_layer/IT-L6/MotifScan.h5adtemp/MA0903.1.meme, N motif total=17969\n"
     ]
    },
    {
     "name": "stderr",
     "output_type": "stream",
     "text": [
      "/home/hanliu/miniconda3/envs/clustering/lib/python3.7/site-packages/ALLCools/dmr/fimo.py:60: FutureWarning: to_msgpack is deprecated and will be removed in a future version.\n",
      "It is recommended to use pyarrow for on-the-wire transmission of pandas objects.\n",
      "  final_df.to_msgpack(output_path, compress='zlib')\n"
     ]
    },
    {
     "name": "stdout",
     "output_type": "stream",
     "text": [
      "/home/hanliu/project/mouse_rostral_brain/DMR/ITSpatial_by_layer/IT-L6/MotifScan.h5adtemp/MA1504.1.meme, N motif total=16447\n"
     ]
    },
    {
     "name": "stderr",
     "output_type": "stream",
     "text": [
      "/home/hanliu/miniconda3/envs/clustering/lib/python3.7/site-packages/ALLCools/dmr/fimo.py:60: FutureWarning: to_msgpack is deprecated and will be removed in a future version.\n",
      "It is recommended to use pyarrow for on-the-wire transmission of pandas objects.\n",
      "  final_df.to_msgpack(output_path, compress='zlib')\n"
     ]
    },
    {
     "name": "stdout",
     "output_type": "stream",
     "text": [
      "/home/hanliu/project/mouse_rostral_brain/DMR/ITSpatial_by_layer/IT-L6/MotifScan.h5adtemp/MA0905.1.meme, N motif total=15839\n"
     ]
    },
    {
     "name": "stderr",
     "output_type": "stream",
     "text": [
      "/home/hanliu/miniconda3/envs/clustering/lib/python3.7/site-packages/ALLCools/dmr/fimo.py:60: FutureWarning: to_msgpack is deprecated and will be removed in a future version.\n",
      "It is recommended to use pyarrow for on-the-wire transmission of pandas objects.\n",
      "  final_df.to_msgpack(output_path, compress='zlib')\n"
     ]
    },
    {
     "name": "stdout",
     "output_type": "stream",
     "text": [
      "/home/hanliu/project/mouse_rostral_brain/DMR/ITSpatial_by_layer/IT-L6/MotifScan.h5adtemp/MA0651.1.meme, N motif total=10241\n"
     ]
    },
    {
     "name": "stderr",
     "output_type": "stream",
     "text": [
      "/home/hanliu/miniconda3/envs/clustering/lib/python3.7/site-packages/ALLCools/dmr/fimo.py:60: FutureWarning: to_msgpack is deprecated and will be removed in a future version.\n",
      "It is recommended to use pyarrow for on-the-wire transmission of pandas objects.\n",
      "  final_df.to_msgpack(output_path, compress='zlib')\n"
     ]
    },
    {
     "name": "stdout",
     "output_type": "stream",
     "text": [
      "/home/hanliu/project/mouse_rostral_brain/DMR/ITSpatial_by_layer/IT-L6/MotifScan.h5adtemp/MA0485.2.meme, N motif total=12102\n"
     ]
    },
    {
     "name": "stderr",
     "output_type": "stream",
     "text": [
      "/home/hanliu/miniconda3/envs/clustering/lib/python3.7/site-packages/ALLCools/dmr/fimo.py:60: FutureWarning: to_msgpack is deprecated and will be removed in a future version.\n",
      "It is recommended to use pyarrow for on-the-wire transmission of pandas objects.\n",
      "  final_df.to_msgpack(output_path, compress='zlib')\n"
     ]
    },
    {
     "name": "stdout",
     "output_type": "stream",
     "text": [
      "/home/hanliu/project/mouse_rostral_brain/DMR/ITSpatial_by_layer/IT-L6/MotifScan.h5adtemp/MA0906.1.meme, N motif total=12388\n"
     ]
    },
    {
     "name": "stderr",
     "output_type": "stream",
     "text": [
      "/home/hanliu/miniconda3/envs/clustering/lib/python3.7/site-packages/ALLCools/dmr/fimo.py:60: FutureWarning: to_msgpack is deprecated and will be removed in a future version.\n",
      "It is recommended to use pyarrow for on-the-wire transmission of pandas objects.\n",
      "  final_df.to_msgpack(output_path, compress='zlib')\n"
     ]
    },
    {
     "name": "stdout",
     "output_type": "stream",
     "text": [
      "/home/hanliu/project/mouse_rostral_brain/DMR/ITSpatial_by_layer/IT-L6/MotifScan.h5adtemp/MA0907.1.meme, N motif total=18520\n"
     ]
    },
    {
     "name": "stderr",
     "output_type": "stream",
     "text": [
      "/home/hanliu/miniconda3/envs/clustering/lib/python3.7/site-packages/ALLCools/dmr/fimo.py:60: FutureWarning: to_msgpack is deprecated and will be removed in a future version.\n",
      "It is recommended to use pyarrow for on-the-wire transmission of pandas objects.\n",
      "  final_df.to_msgpack(output_path, compress='zlib')\n"
     ]
    },
    {
     "name": "stdout",
     "output_type": "stream",
     "text": [
      "/home/hanliu/project/mouse_rostral_brain/DMR/ITSpatial_by_layer/IT-L6/MotifScan.h5adtemp/MA0912.2.meme, N motif total=14906\n"
     ]
    },
    {
     "name": "stderr",
     "output_type": "stream",
     "text": [
      "/home/hanliu/miniconda3/envs/clustering/lib/python3.7/site-packages/ALLCools/dmr/fimo.py:60: FutureWarning: to_msgpack is deprecated and will be removed in a future version.\n",
      "It is recommended to use pyarrow for on-the-wire transmission of pandas objects.\n",
      "  final_df.to_msgpack(output_path, compress='zlib')\n"
     ]
    },
    {
     "name": "stdout",
     "output_type": "stream",
     "text": [
      "/home/hanliu/project/mouse_rostral_brain/DMR/ITSpatial_by_layer/IT-L6/MotifScan.h5adtemp/MA0908.1.meme, N motif total=11267\n"
     ]
    },
    {
     "name": "stderr",
     "output_type": "stream",
     "text": [
      "/home/hanliu/miniconda3/envs/clustering/lib/python3.7/site-packages/ALLCools/dmr/fimo.py:60: FutureWarning: to_msgpack is deprecated and will be removed in a future version.\n",
      "It is recommended to use pyarrow for on-the-wire transmission of pandas objects.\n",
      "  final_df.to_msgpack(output_path, compress='zlib')\n"
     ]
    },
    {
     "name": "stdout",
     "output_type": "stream",
     "text": [
      "/home/hanliu/project/mouse_rostral_brain/DMR/ITSpatial_by_layer/IT-L6/MotifScan.h5adtemp/MA1506.1.meme, N motif total=12530\n"
     ]
    },
    {
     "name": "stderr",
     "output_type": "stream",
     "text": [
      "/home/hanliu/miniconda3/envs/clustering/lib/python3.7/site-packages/ALLCools/dmr/fimo.py:60: FutureWarning: to_msgpack is deprecated and will be removed in a future version.\n",
      "It is recommended to use pyarrow for on-the-wire transmission of pandas objects.\n",
      "  final_df.to_msgpack(output_path, compress='zlib')\n"
     ]
    },
    {
     "name": "stdout",
     "output_type": "stream",
     "text": [
      "/home/hanliu/project/mouse_rostral_brain/DMR/ITSpatial_by_layer/IT-L6/MotifScan.h5adtemp/MA1507.1.meme, N motif total=14020\n"
     ]
    },
    {
     "name": "stderr",
     "output_type": "stream",
     "text": [
      "/home/hanliu/miniconda3/envs/clustering/lib/python3.7/site-packages/ALLCools/dmr/fimo.py:60: FutureWarning: to_msgpack is deprecated and will be removed in a future version.\n",
      "It is recommended to use pyarrow for on-the-wire transmission of pandas objects.\n",
      "  final_df.to_msgpack(output_path, compress='zlib')\n"
     ]
    },
    {
     "name": "stdout",
     "output_type": "stream",
     "text": [
      "/home/hanliu/project/mouse_rostral_brain/DMR/ITSpatial_by_layer/IT-L6/MotifScan.h5adtemp/MA0901.2.meme, N motif total=51800\n"
     ]
    },
    {
     "name": "stderr",
     "output_type": "stream",
     "text": [
      "/home/hanliu/miniconda3/envs/clustering/lib/python3.7/site-packages/ALLCools/dmr/fimo.py:60: FutureWarning: to_msgpack is deprecated and will be removed in a future version.\n",
      "It is recommended to use pyarrow for on-the-wire transmission of pandas objects.\n",
      "  final_df.to_msgpack(output_path, compress='zlib')\n"
     ]
    },
    {
     "name": "stdout",
     "output_type": "stream",
     "text": [
      "/home/hanliu/project/mouse_rostral_brain/DMR/ITSpatial_by_layer/IT-L6/MotifScan.h5adtemp/MA0873.1.meme, N motif total=9506\n"
     ]
    },
    {
     "name": "stderr",
     "output_type": "stream",
     "text": [
      "/home/hanliu/miniconda3/envs/clustering/lib/python3.7/site-packages/ALLCools/dmr/fimo.py:60: FutureWarning: to_msgpack is deprecated and will be removed in a future version.\n",
      "It is recommended to use pyarrow for on-the-wire transmission of pandas objects.\n",
      "  final_df.to_msgpack(output_path, compress='zlib')\n"
     ]
    },
    {
     "name": "stdout",
     "output_type": "stream",
     "text": [
      "/home/hanliu/project/mouse_rostral_brain/DMR/ITSpatial_by_layer/IT-L6/MotifScan.h5adtemp/MA0909.2.meme, N motif total=28149\n"
     ]
    },
    {
     "name": "stderr",
     "output_type": "stream",
     "text": [
      "/home/hanliu/miniconda3/envs/clustering/lib/python3.7/site-packages/ALLCools/dmr/fimo.py:60: FutureWarning: to_msgpack is deprecated and will be removed in a future version.\n",
      "It is recommended to use pyarrow for on-the-wire transmission of pandas objects.\n",
      "  final_df.to_msgpack(output_path, compress='zlib')\n"
     ]
    },
    {
     "name": "stdout",
     "output_type": "stream",
     "text": [
      "/home/hanliu/project/mouse_rostral_brain/DMR/ITSpatial_by_layer/IT-L6/MotifScan.h5adtemp/MA0910.2.meme, N motif total=14567\n"
     ]
    },
    {
     "name": "stderr",
     "output_type": "stream",
     "text": [
      "/home/hanliu/miniconda3/envs/clustering/lib/python3.7/site-packages/ALLCools/dmr/fimo.py:60: FutureWarning: to_msgpack is deprecated and will be removed in a future version.\n",
      "It is recommended to use pyarrow for on-the-wire transmission of pandas objects.\n",
      "  final_df.to_msgpack(output_path, compress='zlib')\n"
     ]
    },
    {
     "name": "stdout",
     "output_type": "stream",
     "text": [
      "/home/hanliu/project/mouse_rostral_brain/DMR/ITSpatial_by_layer/IT-L6/MotifScan.h5adtemp/MA0913.2.meme, N motif total=28187\n"
     ]
    },
    {
     "name": "stderr",
     "output_type": "stream",
     "text": [
      "/home/hanliu/miniconda3/envs/clustering/lib/python3.7/site-packages/ALLCools/dmr/fimo.py:60: FutureWarning: to_msgpack is deprecated and will be removed in a future version.\n",
      "It is recommended to use pyarrow for on-the-wire transmission of pandas objects.\n",
      "  final_df.to_msgpack(output_path, compress='zlib')\n"
     ]
    },
    {
     "name": "stdout",
     "output_type": "stream",
     "text": [
      "/home/hanliu/project/mouse_rostral_brain/DMR/ITSpatial_by_layer/IT-L6/MotifScan.h5adtemp/MA0770.1.meme, N motif total=38072\n"
     ]
    },
    {
     "name": "stderr",
     "output_type": "stream",
     "text": [
      "/home/hanliu/miniconda3/envs/clustering/lib/python3.7/site-packages/ALLCools/dmr/fimo.py:60: FutureWarning: to_msgpack is deprecated and will be removed in a future version.\n",
      "It is recommended to use pyarrow for on-the-wire transmission of pandas objects.\n",
      "  final_df.to_msgpack(output_path, compress='zlib')\n"
     ]
    },
    {
     "name": "stdout",
     "output_type": "stream",
     "text": [
      "/home/hanliu/project/mouse_rostral_brain/DMR/ITSpatial_by_layer/IT-L6/MotifScan.h5adtemp/MA0486.2.meme, N motif total=30994\n"
     ]
    },
    {
     "name": "stderr",
     "output_type": "stream",
     "text": [
      "/home/hanliu/miniconda3/envs/clustering/lib/python3.7/site-packages/ALLCools/dmr/fimo.py:60: FutureWarning: to_msgpack is deprecated and will be removed in a future version.\n",
      "It is recommended to use pyarrow for on-the-wire transmission of pandas objects.\n",
      "  final_df.to_msgpack(output_path, compress='zlib')\n"
     ]
    },
    {
     "name": "stdout",
     "output_type": "stream",
     "text": [
      "/home/hanliu/project/mouse_rostral_brain/DMR/ITSpatial_by_layer/IT-L6/MotifScan.h5adtemp/MA0155.1.meme, N motif total=55224\n"
     ]
    },
    {
     "name": "stderr",
     "output_type": "stream",
     "text": [
      "/home/hanliu/miniconda3/envs/clustering/lib/python3.7/site-packages/ALLCools/dmr/fimo.py:60: FutureWarning: to_msgpack is deprecated and will be removed in a future version.\n",
      "It is recommended to use pyarrow for on-the-wire transmission of pandas objects.\n",
      "  final_df.to_msgpack(output_path, compress='zlib')\n"
     ]
    },
    {
     "name": "stdout",
     "output_type": "stream",
     "text": [
      "/home/hanliu/project/mouse_rostral_brain/DMR/ITSpatial_by_layer/IT-L6/MotifScan.h5adtemp/MA0771.1.meme, N motif total=33005\n"
     ]
    },
    {
     "name": "stderr",
     "output_type": "stream",
     "text": [
      "/home/hanliu/miniconda3/envs/clustering/lib/python3.7/site-packages/ALLCools/dmr/fimo.py:60: FutureWarning: to_msgpack is deprecated and will be removed in a future version.\n",
      "It is recommended to use pyarrow for on-the-wire transmission of pandas objects.\n",
      "  final_df.to_msgpack(output_path, compress='zlib')\n"
     ]
    },
    {
     "name": "stdout",
     "output_type": "stream",
     "text": [
      "/home/hanliu/project/mouse_rostral_brain/DMR/ITSpatial_by_layer/IT-L6/MotifScan.h5adtemp/MA1508.1.meme, N motif total=106079\n"
     ]
    },
    {
     "name": "stderr",
     "output_type": "stream",
     "text": [
      "/home/hanliu/miniconda3/envs/clustering/lib/python3.7/site-packages/ALLCools/dmr/fimo.py:60: FutureWarning: to_msgpack is deprecated and will be removed in a future version.\n",
      "It is recommended to use pyarrow for on-the-wire transmission of pandas objects.\n",
      "  final_df.to_msgpack(output_path, compress='zlib')\n"
     ]
    },
    {
     "name": "stdout",
     "output_type": "stream",
     "text": [
      "/home/hanliu/project/mouse_rostral_brain/DMR/ITSpatial_by_layer/IT-L6/MotifScan.h5adtemp/MA0051.1.meme, N motif total=20642\n"
     ]
    },
    {
     "name": "stderr",
     "output_type": "stream",
     "text": [
      "/home/hanliu/miniconda3/envs/clustering/lib/python3.7/site-packages/ALLCools/dmr/fimo.py:60: FutureWarning: to_msgpack is deprecated and will be removed in a future version.\n",
      "It is recommended to use pyarrow for on-the-wire transmission of pandas objects.\n",
      "  final_df.to_msgpack(output_path, compress='zlib')\n"
     ]
    },
    {
     "name": "stdout",
     "output_type": "stream",
     "text": [
      "/home/hanliu/project/mouse_rostral_brain/DMR/ITSpatial_by_layer/IT-L6/MotifScan.h5adtemp/MA1509.1.meme, N motif total=6752\n"
     ]
    },
    {
     "name": "stderr",
     "output_type": "stream",
     "text": [
      "/home/hanliu/miniconda3/envs/clustering/lib/python3.7/site-packages/ALLCools/dmr/fimo.py:60: FutureWarning: to_msgpack is deprecated and will be removed in a future version.\n",
      "It is recommended to use pyarrow for on-the-wire transmission of pandas objects.\n",
      "  final_df.to_msgpack(output_path, compress='zlib')\n"
     ]
    },
    {
     "name": "stdout",
     "output_type": "stream",
     "text": [
      "/home/hanliu/project/mouse_rostral_brain/DMR/ITSpatial_by_layer/IT-L6/MotifScan.h5adtemp/MA0050.2.meme, N motif total=207896\n"
     ]
    },
    {
     "name": "stderr",
     "output_type": "stream",
     "text": [
      "/home/hanliu/miniconda3/envs/clustering/lib/python3.7/site-packages/ALLCools/dmr/fimo.py:60: FutureWarning: to_msgpack is deprecated and will be removed in a future version.\n",
      "It is recommended to use pyarrow for on-the-wire transmission of pandas objects.\n",
      "  final_df.to_msgpack(output_path, compress='zlib')\n"
     ]
    },
    {
     "name": "stdout",
     "output_type": "stream",
     "text": [
      "/home/hanliu/project/mouse_rostral_brain/DMR/ITSpatial_by_layer/IT-L6/MotifScan.h5adtemp/MA1418.1.meme, N motif total=20627\n"
     ]
    },
    {
     "name": "stderr",
     "output_type": "stream",
     "text": [
      "/home/hanliu/miniconda3/envs/clustering/lib/python3.7/site-packages/ALLCools/dmr/fimo.py:60: FutureWarning: to_msgpack is deprecated and will be removed in a future version.\n",
      "It is recommended to use pyarrow for on-the-wire transmission of pandas objects.\n",
      "  final_df.to_msgpack(output_path, compress='zlib')\n"
     ]
    },
    {
     "name": "stdout",
     "output_type": "stream",
     "text": [
      "/home/hanliu/project/mouse_rostral_brain/DMR/ITSpatial_by_layer/IT-L6/MotifScan.h5adtemp/MA0914.1.meme, N motif total=21147\n"
     ]
    },
    {
     "name": "stderr",
     "output_type": "stream",
     "text": [
      "/home/hanliu/miniconda3/envs/clustering/lib/python3.7/site-packages/ALLCools/dmr/fimo.py:60: FutureWarning: to_msgpack is deprecated and will be removed in a future version.\n",
      "It is recommended to use pyarrow for on-the-wire transmission of pandas objects.\n",
      "  final_df.to_msgpack(output_path, compress='zlib')\n"
     ]
    },
    {
     "name": "stdout",
     "output_type": "stream",
     "text": [
      "/home/hanliu/project/mouse_rostral_brain/DMR/ITSpatial_by_layer/IT-L6/MotifScan.h5adtemp/MA0654.1.meme, N motif total=16771\n"
     ]
    },
    {
     "name": "stderr",
     "output_type": "stream",
     "text": [
      "/home/hanliu/miniconda3/envs/clustering/lib/python3.7/site-packages/ALLCools/dmr/fimo.py:60: FutureWarning: to_msgpack is deprecated and will be removed in a future version.\n",
      "It is recommended to use pyarrow for on-the-wire transmission of pandas objects.\n",
      "  final_df.to_msgpack(output_path, compress='zlib')\n"
     ]
    },
    {
     "name": "stdout",
     "output_type": "stream",
     "text": [
      "/home/hanliu/project/mouse_rostral_brain/DMR/ITSpatial_by_layer/IT-L6/MotifScan.h5adtemp/MA1608.1.meme, N motif total=17410\n"
     ]
    },
    {
     "name": "stderr",
     "output_type": "stream",
     "text": [
      "/home/hanliu/miniconda3/envs/clustering/lib/python3.7/site-packages/ALLCools/dmr/fimo.py:60: FutureWarning: to_msgpack is deprecated and will be removed in a future version.\n",
      "It is recommended to use pyarrow for on-the-wire transmission of pandas objects.\n",
      "  final_df.to_msgpack(output_path, compress='zlib')\n"
     ]
    },
    {
     "name": "stdout",
     "output_type": "stream",
     "text": [
      "/home/hanliu/project/mouse_rostral_brain/DMR/ITSpatial_by_layer/IT-L6/MotifScan.h5adtemp/MA1420.1.meme, N motif total=20708\n"
     ]
    },
    {
     "name": "stderr",
     "output_type": "stream",
     "text": [
      "/home/hanliu/miniconda3/envs/clustering/lib/python3.7/site-packages/ALLCools/dmr/fimo.py:60: FutureWarning: to_msgpack is deprecated and will be removed in a future version.\n",
      "It is recommended to use pyarrow for on-the-wire transmission of pandas objects.\n",
      "  final_df.to_msgpack(output_path, compress='zlib')\n"
     ]
    },
    {
     "name": "stdout",
     "output_type": "stream",
     "text": [
      "/home/hanliu/project/mouse_rostral_brain/DMR/ITSpatial_by_layer/IT-L6/MotifScan.h5adtemp/MA0655.1.meme, N motif total=46272\n"
     ]
    },
    {
     "name": "stderr",
     "output_type": "stream",
     "text": [
      "/home/hanliu/miniconda3/envs/clustering/lib/python3.7/site-packages/ALLCools/dmr/fimo.py:60: FutureWarning: to_msgpack is deprecated and will be removed in a future version.\n",
      "It is recommended to use pyarrow for on-the-wire transmission of pandas objects.\n",
      "  final_df.to_msgpack(output_path, compress='zlib')\n"
     ]
    },
    {
     "name": "stdout",
     "output_type": "stream",
     "text": [
      "/home/hanliu/project/mouse_rostral_brain/DMR/ITSpatial_by_layer/IT-L6/MotifScan.h5adtemp/MA1419.1.meme, N motif total=3405\n"
     ]
    },
    {
     "name": "stderr",
     "output_type": "stream",
     "text": [
      "/home/hanliu/miniconda3/envs/clustering/lib/python3.7/site-packages/ALLCools/dmr/fimo.py:60: FutureWarning: to_msgpack is deprecated and will be removed in a future version.\n",
      "It is recommended to use pyarrow for on-the-wire transmission of pandas objects.\n",
      "  final_df.to_msgpack(output_path, compress='zlib')\n"
     ]
    },
    {
     "name": "stdout",
     "output_type": "stream",
     "text": [
      "/home/hanliu/project/mouse_rostral_brain/DMR/ITSpatial_by_layer/IT-L6/MotifScan.h5adtemp/MA0772.1.meme, N motif total=49796\n"
     ]
    },
    {
     "name": "stderr",
     "output_type": "stream",
     "text": [
      "/home/hanliu/miniconda3/envs/clustering/lib/python3.7/site-packages/ALLCools/dmr/fimo.py:60: FutureWarning: to_msgpack is deprecated and will be removed in a future version.\n",
      "It is recommended to use pyarrow for on-the-wire transmission of pandas objects.\n",
      "  final_df.to_msgpack(output_path, compress='zlib')\n"
     ]
    },
    {
     "name": "stdout",
     "output_type": "stream",
     "text": [
      "/home/hanliu/project/mouse_rostral_brain/DMR/ITSpatial_by_layer/IT-L6/MotifScan.h5adtemp/MA1132.1.meme, N motif total=33801\n"
     ]
    },
    {
     "name": "stderr",
     "output_type": "stream",
     "text": [
      "/home/hanliu/miniconda3/envs/clustering/lib/python3.7/site-packages/ALLCools/dmr/fimo.py:60: FutureWarning: to_msgpack is deprecated and will be removed in a future version.\n",
      "It is recommended to use pyarrow for on-the-wire transmission of pandas objects.\n",
      "  final_df.to_msgpack(output_path, compress='zlib')\n"
     ]
    },
    {
     "name": "stdout",
     "output_type": "stream",
     "text": [
      "/home/hanliu/project/mouse_rostral_brain/DMR/ITSpatial_by_layer/IT-L6/MotifScan.h5adtemp/MA0652.1.meme, N motif total=2898\n"
     ]
    },
    {
     "name": "stderr",
     "output_type": "stream",
     "text": [
      "/home/hanliu/miniconda3/envs/clustering/lib/python3.7/site-packages/ALLCools/dmr/fimo.py:60: FutureWarning: to_msgpack is deprecated and will be removed in a future version.\n",
      "It is recommended to use pyarrow for on-the-wire transmission of pandas objects.\n",
      "  final_df.to_msgpack(output_path, compress='zlib')\n"
     ]
    },
    {
     "name": "stdout",
     "output_type": "stream",
     "text": [
      "/home/hanliu/project/mouse_rostral_brain/DMR/ITSpatial_by_layer/IT-L6/MotifScan.h5adtemp/MA0656.1.meme, N motif total=19849\n"
     ]
    },
    {
     "name": "stderr",
     "output_type": "stream",
     "text": [
      "/home/hanliu/miniconda3/envs/clustering/lib/python3.7/site-packages/ALLCools/dmr/fimo.py:60: FutureWarning: to_msgpack is deprecated and will be removed in a future version.\n",
      "It is recommended to use pyarrow for on-the-wire transmission of pandas objects.\n",
      "  final_df.to_msgpack(output_path, compress='zlib')\n"
     ]
    },
    {
     "name": "stdout",
     "output_type": "stream",
     "text": [
      "/home/hanliu/project/mouse_rostral_brain/DMR/ITSpatial_by_layer/IT-L6/MotifScan.h5adtemp/MA0653.1.meme, N motif total=3257\n"
     ]
    },
    {
     "name": "stderr",
     "output_type": "stream",
     "text": [
      "/home/hanliu/miniconda3/envs/clustering/lib/python3.7/site-packages/ALLCools/dmr/fimo.py:60: FutureWarning: to_msgpack is deprecated and will be removed in a future version.\n",
      "It is recommended to use pyarrow for on-the-wire transmission of pandas objects.\n",
      "  final_df.to_msgpack(output_path, compress='zlib')\n"
     ]
    },
    {
     "name": "stdout",
     "output_type": "stream",
     "text": [
      "/home/hanliu/project/mouse_rostral_brain/DMR/ITSpatial_by_layer/IT-L6/MotifScan.h5adtemp/MA1140.2.meme, N motif total=13233\n"
     ]
    },
    {
     "name": "stderr",
     "output_type": "stream",
     "text": [
      "/home/hanliu/miniconda3/envs/clustering/lib/python3.7/site-packages/ALLCools/dmr/fimo.py:60: FutureWarning: to_msgpack is deprecated and will be removed in a future version.\n",
      "It is recommended to use pyarrow for on-the-wire transmission of pandas objects.\n",
      "  final_df.to_msgpack(output_path, compress='zlib')\n"
     ]
    },
    {
     "name": "stdout",
     "output_type": "stream",
     "text": [
      "/home/hanliu/project/mouse_rostral_brain/DMR/ITSpatial_by_layer/IT-L6/MotifScan.h5adtemp/MA0488.1.meme, N motif total=34428\n"
     ]
    },
    {
     "name": "stderr",
     "output_type": "stream",
     "text": [
      "/home/hanliu/miniconda3/envs/clustering/lib/python3.7/site-packages/ALLCools/dmr/fimo.py:60: FutureWarning: to_msgpack is deprecated and will be removed in a future version.\n",
      "It is recommended to use pyarrow for on-the-wire transmission of pandas objects.\n",
      "  final_df.to_msgpack(output_path, compress='zlib')\n"
     ]
    },
    {
     "name": "stdout",
     "output_type": "stream",
     "text": [
      "/home/hanliu/project/mouse_rostral_brain/DMR/ITSpatial_by_layer/IT-L6/MotifScan.h5adtemp/MA1133.1.meme, N motif total=18913\n"
     ]
    },
    {
     "name": "stderr",
     "output_type": "stream",
     "text": [
      "/home/hanliu/miniconda3/envs/clustering/lib/python3.7/site-packages/ALLCools/dmr/fimo.py:60: FutureWarning: to_msgpack is deprecated and will be removed in a future version.\n",
      "It is recommended to use pyarrow for on-the-wire transmission of pandas objects.\n",
      "  final_df.to_msgpack(output_path, compress='zlib')\n"
     ]
    },
    {
     "name": "stdout",
     "output_type": "stream",
     "text": [
      "/home/hanliu/project/mouse_rostral_brain/DMR/ITSpatial_by_layer/IT-L6/MotifScan.h5adtemp/MA1511.1.meme, N motif total=86354\n"
     ]
    },
    {
     "name": "stderr",
     "output_type": "stream",
     "text": [
      "/home/hanliu/miniconda3/envs/clustering/lib/python3.7/site-packages/ALLCools/dmr/fimo.py:60: FutureWarning: to_msgpack is deprecated and will be removed in a future version.\n",
      "It is recommended to use pyarrow for on-the-wire transmission of pandas objects.\n",
      "  final_df.to_msgpack(output_path, compress='zlib')\n"
     ]
    },
    {
     "name": "stdout",
     "output_type": "stream",
     "text": [
      "/home/hanliu/project/mouse_rostral_brain/DMR/ITSpatial_by_layer/IT-L6/MotifScan.h5adtemp/MA0490.2.meme, N motif total=55914\n"
     ]
    },
    {
     "name": "stderr",
     "output_type": "stream",
     "text": [
      "/home/hanliu/miniconda3/envs/clustering/lib/python3.7/site-packages/ALLCools/dmr/fimo.py:60: FutureWarning: to_msgpack is deprecated and will be removed in a future version.\n",
      "It is recommended to use pyarrow for on-the-wire transmission of pandas objects.\n",
      "  final_df.to_msgpack(output_path, compress='zlib')\n"
     ]
    },
    {
     "name": "stdout",
     "output_type": "stream",
     "text": [
      "/home/hanliu/project/mouse_rostral_brain/DMR/ITSpatial_by_layer/IT-L6/MotifScan.h5adtemp/MA1512.1.meme, N motif total=94376\n"
     ]
    },
    {
     "name": "stderr",
     "output_type": "stream",
     "text": [
      "/home/hanliu/miniconda3/envs/clustering/lib/python3.7/site-packages/ALLCools/dmr/fimo.py:60: FutureWarning: to_msgpack is deprecated and will be removed in a future version.\n",
      "It is recommended to use pyarrow for on-the-wire transmission of pandas objects.\n",
      "  final_df.to_msgpack(output_path, compress='zlib')\n"
     ]
    },
    {
     "name": "stdout",
     "output_type": "stream",
     "text": [
      "/home/hanliu/project/mouse_rostral_brain/DMR/ITSpatial_by_layer/IT-L6/MotifScan.h5adtemp/MA0491.2.meme, N motif total=54911\n"
     ]
    },
    {
     "name": "stderr",
     "output_type": "stream",
     "text": [
      "/home/hanliu/miniconda3/envs/clustering/lib/python3.7/site-packages/ALLCools/dmr/fimo.py:60: FutureWarning: to_msgpack is deprecated and will be removed in a future version.\n",
      "It is recommended to use pyarrow for on-the-wire transmission of pandas objects.\n",
      "  final_df.to_msgpack(output_path, compress='zlib')\n"
     ]
    },
    {
     "name": "stdout",
     "output_type": "stream",
     "text": [
      "/home/hanliu/project/mouse_rostral_brain/DMR/ITSpatial_by_layer/IT-L6/MotifScan.h5adtemp/MA0489.1.meme, N motif total=59126\n"
     ]
    },
    {
     "name": "stderr",
     "output_type": "stream",
     "text": [
      "/home/hanliu/miniconda3/envs/clustering/lib/python3.7/site-packages/ALLCools/dmr/fimo.py:60: FutureWarning: to_msgpack is deprecated and will be removed in a future version.\n",
      "It is recommended to use pyarrow for on-the-wire transmission of pandas objects.\n",
      "  final_df.to_msgpack(output_path, compress='zlib')\n"
     ]
    },
    {
     "name": "stdout",
     "output_type": "stream",
     "text": [
      "/home/hanliu/project/mouse_rostral_brain/DMR/ITSpatial_by_layer/IT-L6/MotifScan.h5adtemp/MA0493.1.meme, N motif total=85700\n"
     ]
    },
    {
     "name": "stderr",
     "output_type": "stream",
     "text": [
      "/home/hanliu/miniconda3/envs/clustering/lib/python3.7/site-packages/ALLCools/dmr/fimo.py:60: FutureWarning: to_msgpack is deprecated and will be removed in a future version.\n",
      "It is recommended to use pyarrow for on-the-wire transmission of pandas objects.\n",
      "  final_df.to_msgpack(output_path, compress='zlib')\n"
     ]
    },
    {
     "name": "stdout",
     "output_type": "stream",
     "text": [
      "/home/hanliu/project/mouse_rostral_brain/DMR/ITSpatial_by_layer/IT-L6/MotifScan.h5adtemp/MA1513.1.meme, N motif total=22022\n"
     ]
    },
    {
     "name": "stderr",
     "output_type": "stream",
     "text": [
      "/home/hanliu/miniconda3/envs/clustering/lib/python3.7/site-packages/ALLCools/dmr/fimo.py:60: FutureWarning: to_msgpack is deprecated and will be removed in a future version.\n",
      "It is recommended to use pyarrow for on-the-wire transmission of pandas objects.\n",
      "  final_df.to_msgpack(output_path, compress='zlib')\n"
     ]
    },
    {
     "name": "stdout",
     "output_type": "stream",
     "text": [
      "/home/hanliu/project/mouse_rostral_brain/DMR/ITSpatial_by_layer/IT-L6/MotifScan.h5adtemp/MA0492.1.meme, N motif total=33386\n"
     ]
    },
    {
     "name": "stderr",
     "output_type": "stream",
     "text": [
      "/home/hanliu/miniconda3/envs/clustering/lib/python3.7/site-packages/ALLCools/dmr/fimo.py:60: FutureWarning: to_msgpack is deprecated and will be removed in a future version.\n",
      "It is recommended to use pyarrow for on-the-wire transmission of pandas objects.\n",
      "  final_df.to_msgpack(output_path, compress='zlib')\n"
     ]
    },
    {
     "name": "stdout",
     "output_type": "stream",
     "text": [
      "/home/hanliu/project/mouse_rostral_brain/DMR/ITSpatial_by_layer/IT-L6/MotifScan.h5adtemp/MA0741.1.meme, N motif total=142850\n"
     ]
    },
    {
     "name": "stderr",
     "output_type": "stream",
     "text": [
      "/home/hanliu/miniconda3/envs/clustering/lib/python3.7/site-packages/ALLCools/dmr/fimo.py:60: FutureWarning: to_msgpack is deprecated and will be removed in a future version.\n",
      "It is recommended to use pyarrow for on-the-wire transmission of pandas objects.\n",
      "  final_df.to_msgpack(output_path, compress='zlib')\n"
     ]
    },
    {
     "name": "stdout",
     "output_type": "stream",
     "text": [
      "/home/hanliu/project/mouse_rostral_brain/DMR/ITSpatial_by_layer/IT-L6/MotifScan.h5adtemp/MA0740.1.meme, N motif total=50192\n"
     ]
    },
    {
     "name": "stderr",
     "output_type": "stream",
     "text": [
      "/home/hanliu/miniconda3/envs/clustering/lib/python3.7/site-packages/ALLCools/dmr/fimo.py:60: FutureWarning: to_msgpack is deprecated and will be removed in a future version.\n",
      "It is recommended to use pyarrow for on-the-wire transmission of pandas objects.\n",
      "  final_df.to_msgpack(output_path, compress='zlib')\n"
     ]
    },
    {
     "name": "stdout",
     "output_type": "stream",
     "text": [
      "Finish count 300 motifs.\n"
     ]
    },
    {
     "name": "stdout",
     "output_type": "stream",
     "text": [
      "/home/hanliu/project/mouse_rostral_brain/DMR/ITSpatial_by_layer/IT-L6/MotifScan.h5adtemp/MA1515.1.meme, N motif total=87681\n"
     ]
    },
    {
     "name": "stderr",
     "output_type": "stream",
     "text": [
      "/home/hanliu/miniconda3/envs/clustering/lib/python3.7/site-packages/ALLCools/dmr/fimo.py:60: FutureWarning: to_msgpack is deprecated and will be removed in a future version.\n",
      "It is recommended to use pyarrow for on-the-wire transmission of pandas objects.\n",
      "  final_df.to_msgpack(output_path, compress='zlib')\n"
     ]
    },
    {
     "name": "stdout",
     "output_type": "stream",
     "text": [
      "/home/hanliu/project/mouse_rostral_brain/DMR/ITSpatial_by_layer/IT-L6/MotifScan.h5adtemp/MA1516.1.meme, N motif total=37822\n"
     ]
    },
    {
     "name": "stderr",
     "output_type": "stream",
     "text": [
      "/home/hanliu/miniconda3/envs/clustering/lib/python3.7/site-packages/ALLCools/dmr/fimo.py:60: FutureWarning: to_msgpack is deprecated and will be removed in a future version.\n",
      "It is recommended to use pyarrow for on-the-wire transmission of pandas objects.\n",
      "  final_df.to_msgpack(output_path, compress='zlib')\n"
     ]
    },
    {
     "name": "stdout",
     "output_type": "stream",
     "text": [
      "/home/hanliu/project/mouse_rostral_brain/DMR/ITSpatial_by_layer/IT-L6/MotifScan.h5adtemp/MA0742.1.meme, N motif total=47084\n"
     ]
    },
    {
     "name": "stderr",
     "output_type": "stream",
     "text": [
      "/home/hanliu/miniconda3/envs/clustering/lib/python3.7/site-packages/ALLCools/dmr/fimo.py:60: FutureWarning: to_msgpack is deprecated and will be removed in a future version.\n",
      "It is recommended to use pyarrow for on-the-wire transmission of pandas objects.\n",
      "  final_df.to_msgpack(output_path, compress='zlib')\n"
     ]
    },
    {
     "name": "stdout",
     "output_type": "stream",
     "text": [
      "/home/hanliu/project/mouse_rostral_brain/DMR/ITSpatial_by_layer/IT-L6/MotifScan.h5adtemp/MA0039.4.meme, N motif total=152157\n"
     ]
    },
    {
     "name": "stderr",
     "output_type": "stream",
     "text": [
      "/home/hanliu/miniconda3/envs/clustering/lib/python3.7/site-packages/ALLCools/dmr/fimo.py:60: FutureWarning: to_msgpack is deprecated and will be removed in a future version.\n",
      "It is recommended to use pyarrow for on-the-wire transmission of pandas objects.\n",
      "  final_df.to_msgpack(output_path, compress='zlib')\n"
     ]
    },
    {
     "name": "stdout",
     "output_type": "stream",
     "text": [
      "/home/hanliu/project/mouse_rostral_brain/DMR/ITSpatial_by_layer/IT-L6/MotifScan.h5adtemp/MA0657.1.meme, N motif total=12463\n"
     ]
    },
    {
     "name": "stderr",
     "output_type": "stream",
     "text": [
      "/home/hanliu/miniconda3/envs/clustering/lib/python3.7/site-packages/ALLCools/dmr/fimo.py:60: FutureWarning: to_msgpack is deprecated and will be removed in a future version.\n",
      "It is recommended to use pyarrow for on-the-wire transmission of pandas objects.\n",
      "  final_df.to_msgpack(output_path, compress='zlib')\n"
     ]
    },
    {
     "name": "stdout",
     "output_type": "stream",
     "text": [
      "/home/hanliu/project/mouse_rostral_brain/DMR/ITSpatial_by_layer/IT-L6/MotifScan.h5adtemp/MA0618.1.meme, N motif total=18480\n"
     ]
    },
    {
     "name": "stderr",
     "output_type": "stream",
     "text": [
      "/home/hanliu/miniconda3/envs/clustering/lib/python3.7/site-packages/ALLCools/dmr/fimo.py:60: FutureWarning: to_msgpack is deprecated and will be removed in a future version.\n",
      "It is recommended to use pyarrow for on-the-wire transmission of pandas objects.\n",
      "  final_df.to_msgpack(output_path, compress='zlib')\n"
     ]
    },
    {
     "name": "stdout",
     "output_type": "stream",
     "text": [
      "/home/hanliu/project/mouse_rostral_brain/DMR/ITSpatial_by_layer/IT-L6/MotifScan.h5adtemp/MA0599.1.meme, N motif total=150832\n"
     ]
    },
    {
     "name": "stderr",
     "output_type": "stream",
     "text": [
      "/home/hanliu/miniconda3/envs/clustering/lib/python3.7/site-packages/ALLCools/dmr/fimo.py:60: FutureWarning: to_msgpack is deprecated and will be removed in a future version.\n",
      "It is recommended to use pyarrow for on-the-wire transmission of pandas objects.\n",
      "  final_df.to_msgpack(output_path, compress='zlib')\n"
     ]
    },
    {
     "name": "stdout",
     "output_type": "stream",
     "text": [
      "/home/hanliu/project/mouse_rostral_brain/DMR/ITSpatial_by_layer/IT-L6/MotifScan.h5adtemp/MA1514.1.meme, N motif total=110969\n"
     ]
    },
    {
     "name": "stderr",
     "output_type": "stream",
     "text": [
      "/home/hanliu/miniconda3/envs/clustering/lib/python3.7/site-packages/ALLCools/dmr/fimo.py:60: FutureWarning: to_msgpack is deprecated and will be removed in a future version.\n",
      "It is recommended to use pyarrow for on-the-wire transmission of pandas objects.\n",
      "  final_df.to_msgpack(output_path, compress='zlib')\n"
     ]
    },
    {
     "name": "stdout",
     "output_type": "stream",
     "text": [
      "/home/hanliu/project/mouse_rostral_brain/DMR/ITSpatial_by_layer/IT-L6/MotifScan.h5adtemp/MA0699.1.meme, N motif total=16483\n"
     ]
    },
    {
     "name": "stderr",
     "output_type": "stream",
     "text": [
      "/home/hanliu/miniconda3/envs/clustering/lib/python3.7/site-packages/ALLCools/dmr/fimo.py:60: FutureWarning: to_msgpack is deprecated and will be removed in a future version.\n",
      "It is recommended to use pyarrow for on-the-wire transmission of pandas objects.\n",
      "  final_df.to_msgpack(output_path, compress='zlib')\n"
     ]
    },
    {
     "name": "stdout",
     "output_type": "stream",
     "text": [
      "/home/hanliu/project/mouse_rostral_brain/DMR/ITSpatial_by_layer/IT-L6/MotifScan.h5adtemp/MA1517.1.meme, N motif total=61223\n"
     ]
    },
    {
     "name": "stderr",
     "output_type": "stream",
     "text": [
      "/home/hanliu/miniconda3/envs/clustering/lib/python3.7/site-packages/ALLCools/dmr/fimo.py:60: FutureWarning: to_msgpack is deprecated and will be removed in a future version.\n",
      "It is recommended to use pyarrow for on-the-wire transmission of pandas objects.\n",
      "  final_df.to_msgpack(output_path, compress='zlib')\n"
     ]
    },
    {
     "name": "stdout",
     "output_type": "stream",
     "text": [
      "/home/hanliu/project/mouse_rostral_brain/DMR/ITSpatial_by_layer/IT-L6/MotifScan.h5adtemp/MA1518.1.meme, N motif total=13541\n"
     ]
    },
    {
     "name": "stderr",
     "output_type": "stream",
     "text": [
      "/home/hanliu/miniconda3/envs/clustering/lib/python3.7/site-packages/ALLCools/dmr/fimo.py:60: FutureWarning: to_msgpack is deprecated and will be removed in a future version.\n",
      "It is recommended to use pyarrow for on-the-wire transmission of pandas objects.\n",
      "  final_df.to_msgpack(output_path, compress='zlib')\n"
     ]
    },
    {
     "name": "stdout",
     "output_type": "stream",
     "text": [
      "/home/hanliu/project/mouse_rostral_brain/DMR/ITSpatial_by_layer/IT-L6/MotifScan.h5adtemp/MA0768.1.meme, N motif total=51042\n"
     ]
    },
    {
     "name": "stderr",
     "output_type": "stream",
     "text": [
      "/home/hanliu/miniconda3/envs/clustering/lib/python3.7/site-packages/ALLCools/dmr/fimo.py:60: FutureWarning: to_msgpack is deprecated and will be removed in a future version.\n",
      "It is recommended to use pyarrow for on-the-wire transmission of pandas objects.\n",
      "  final_df.to_msgpack(output_path, compress='zlib')\n"
     ]
    },
    {
     "name": "stdout",
     "output_type": "stream",
     "text": [
      "/home/hanliu/project/mouse_rostral_brain/DMR/ITSpatial_by_layer/IT-L6/MotifScan.h5adtemp/MA1107.2.meme, N motif total=376756\n"
     ]
    },
    {
     "name": "stderr",
     "output_type": "stream",
     "text": [
      "/home/hanliu/miniconda3/envs/clustering/lib/python3.7/site-packages/ALLCools/dmr/fimo.py:60: FutureWarning: to_msgpack is deprecated and will be removed in a future version.\n",
      "It is recommended to use pyarrow for on-the-wire transmission of pandas objects.\n",
      "  final_df.to_msgpack(output_path, compress='zlib')\n"
     ]
    },
    {
     "name": "stdout",
     "output_type": "stream",
     "text": [
      "/home/hanliu/project/mouse_rostral_brain/DMR/ITSpatial_by_layer/IT-L6/MotifScan.h5adtemp/MA0704.1.meme, N motif total=22764\n"
     ]
    },
    {
     "name": "stderr",
     "output_type": "stream",
     "text": [
      "/home/hanliu/miniconda3/envs/clustering/lib/python3.7/site-packages/ALLCools/dmr/fimo.py:60: FutureWarning: to_msgpack is deprecated and will be removed in a future version.\n",
      "It is recommended to use pyarrow for on-the-wire transmission of pandas objects.\n",
      "  final_df.to_msgpack(output_path, compress='zlib')\n"
     ]
    },
    {
     "name": "stdout",
     "output_type": "stream",
     "text": [
      "/home/hanliu/project/mouse_rostral_brain/DMR/ITSpatial_by_layer/IT-L6/MotifScan.h5adtemp/MA1519.1.meme, N motif total=17416\n"
     ]
    },
    {
     "name": "stderr",
     "output_type": "stream",
     "text": [
      "/home/hanliu/miniconda3/envs/clustering/lib/python3.7/site-packages/ALLCools/dmr/fimo.py:60: FutureWarning: to_msgpack is deprecated and will be removed in a future version.\n",
      "It is recommended to use pyarrow for on-the-wire transmission of pandas objects.\n",
      "  final_df.to_msgpack(output_path, compress='zlib')\n"
     ]
    },
    {
     "name": "stdout",
     "output_type": "stream",
     "text": [
      "/home/hanliu/project/mouse_rostral_brain/DMR/ITSpatial_by_layer/IT-L6/MotifScan.h5adtemp/MA0705.1.meme, N motif total=15929\n"
     ]
    },
    {
     "name": "stderr",
     "output_type": "stream",
     "text": [
      "/home/hanliu/miniconda3/envs/clustering/lib/python3.7/site-packages/ALLCools/dmr/fimo.py:60: FutureWarning: to_msgpack is deprecated and will be removed in a future version.\n",
      "It is recommended to use pyarrow for on-the-wire transmission of pandas objects.\n",
      "  final_df.to_msgpack(output_path, compress='zlib')\n"
     ]
    },
    {
     "name": "stdout",
     "output_type": "stream",
     "text": [
      "/home/hanliu/project/mouse_rostral_brain/DMR/ITSpatial_by_layer/IT-L6/MotifScan.h5adtemp/MA0700.2.meme, N motif total=18619\n"
     ]
    },
    {
     "name": "stderr",
     "output_type": "stream",
     "text": [
      "/home/hanliu/miniconda3/envs/clustering/lib/python3.7/site-packages/ALLCools/dmr/fimo.py:60: FutureWarning: to_msgpack is deprecated and will be removed in a future version.\n",
      "It is recommended to use pyarrow for on-the-wire transmission of pandas objects.\n",
      "  final_df.to_msgpack(output_path, compress='zlib')\n"
     ]
    },
    {
     "name": "stdout",
     "output_type": "stream",
     "text": [
      "/home/hanliu/project/mouse_rostral_brain/DMR/ITSpatial_by_layer/IT-L6/MotifScan.h5adtemp/MA0701.2.meme, N motif total=16771\n"
     ]
    },
    {
     "name": "stderr",
     "output_type": "stream",
     "text": [
      "/home/hanliu/miniconda3/envs/clustering/lib/python3.7/site-packages/ALLCools/dmr/fimo.py:60: FutureWarning: to_msgpack is deprecated and will be removed in a future version.\n",
      "It is recommended to use pyarrow for on-the-wire transmission of pandas objects.\n",
      "  final_df.to_msgpack(output_path, compress='zlib')\n"
     ]
    },
    {
     "name": "stdout",
     "output_type": "stream",
     "text": [
      "/home/hanliu/project/mouse_rostral_brain/DMR/ITSpatial_by_layer/IT-L6/MotifScan.h5adtemp/MA0658.1.meme, N motif total=17325\n"
     ]
    },
    {
     "name": "stderr",
     "output_type": "stream",
     "text": [
      "/home/hanliu/miniconda3/envs/clustering/lib/python3.7/site-packages/ALLCools/dmr/fimo.py:60: FutureWarning: to_msgpack is deprecated and will be removed in a future version.\n",
      "It is recommended to use pyarrow for on-the-wire transmission of pandas objects.\n",
      "  final_df.to_msgpack(output_path, compress='zlib')\n"
     ]
    },
    {
     "name": "stdout",
     "output_type": "stream",
     "text": [
      "/home/hanliu/project/mouse_rostral_brain/DMR/ITSpatial_by_layer/IT-L6/MotifScan.h5adtemp/MA0702.2.meme, N motif total=18810\n"
     ]
    },
    {
     "name": "stderr",
     "output_type": "stream",
     "text": [
      "/home/hanliu/miniconda3/envs/clustering/lib/python3.7/site-packages/ALLCools/dmr/fimo.py:60: FutureWarning: to_msgpack is deprecated and will be removed in a future version.\n",
      "It is recommended to use pyarrow for on-the-wire transmission of pandas objects.\n",
      "  final_df.to_msgpack(output_path, compress='zlib')\n"
     ]
    },
    {
     "name": "stdout",
     "output_type": "stream",
     "text": [
      "/home/hanliu/project/mouse_rostral_brain/DMR/ITSpatial_by_layer/IT-L6/MotifScan.h5adtemp/MA0619.1.meme, N motif total=43498\n"
     ]
    },
    {
     "name": "stderr",
     "output_type": "stream",
     "text": [
      "/home/hanliu/miniconda3/envs/clustering/lib/python3.7/site-packages/ALLCools/dmr/fimo.py:60: FutureWarning: to_msgpack is deprecated and will be removed in a future version.\n",
      "It is recommended to use pyarrow for on-the-wire transmission of pandas objects.\n",
      "  final_df.to_msgpack(output_path, compress='zlib')\n"
     ]
    },
    {
     "name": "stdout",
     "output_type": "stream",
     "text": [
      "/home/hanliu/project/mouse_rostral_brain/DMR/ITSpatial_by_layer/IT-L6/MotifScan.h5adtemp/MA0135.1.meme, N motif total=34583\n"
     ]
    },
    {
     "name": "stderr",
     "output_type": "stream",
     "text": [
      "/home/hanliu/miniconda3/envs/clustering/lib/python3.7/site-packages/ALLCools/dmr/fimo.py:60: FutureWarning: to_msgpack is deprecated and will be removed in a future version.\n",
      "It is recommended to use pyarrow for on-the-wire transmission of pandas objects.\n",
      "  final_df.to_msgpack(output_path, compress='zlib')\n"
     ]
    },
    {
     "name": "stdout",
     "output_type": "stream",
     "text": [
      "/home/hanliu/project/mouse_rostral_brain/DMR/ITSpatial_by_layer/IT-L6/MotifScan.h5adtemp/MA0703.2.meme, N motif total=28028\n"
     ]
    },
    {
     "name": "stderr",
     "output_type": "stream",
     "text": [
      "/home/hanliu/miniconda3/envs/clustering/lib/python3.7/site-packages/ALLCools/dmr/fimo.py:60: FutureWarning: to_msgpack is deprecated and will be removed in a future version.\n",
      "It is recommended to use pyarrow for on-the-wire transmission of pandas objects.\n",
      "  final_df.to_msgpack(output_path, compress='zlib')\n"
     ]
    },
    {
     "name": "stdout",
     "output_type": "stream",
     "text": [
      "/home/hanliu/project/mouse_rostral_brain/DMR/ITSpatial_by_layer/IT-L6/MotifScan.h5adtemp/MA0117.2.meme, N motif total=37001\n"
     ]
    },
    {
     "name": "stderr",
     "output_type": "stream",
     "text": [
      "/home/hanliu/miniconda3/envs/clustering/lib/python3.7/site-packages/ALLCools/dmr/fimo.py:60: FutureWarning: to_msgpack is deprecated and will be removed in a future version.\n",
      "It is recommended to use pyarrow for on-the-wire transmission of pandas objects.\n",
      "  final_df.to_msgpack(output_path, compress='zlib')\n"
     ]
    },
    {
     "name": "stdout",
     "output_type": "stream",
     "text": [
      "/home/hanliu/project/mouse_rostral_brain/DMR/ITSpatial_by_layer/IT-L6/MotifScan.h5adtemp/MA1521.1.meme, N motif total=50489\n"
     ]
    },
    {
     "name": "stderr",
     "output_type": "stream",
     "text": [
      "/home/hanliu/miniconda3/envs/clustering/lib/python3.7/site-packages/ALLCools/dmr/fimo.py:60: FutureWarning: to_msgpack is deprecated and will be removed in a future version.\n",
      "It is recommended to use pyarrow for on-the-wire transmission of pandas objects.\n",
      "  final_df.to_msgpack(output_path, compress='zlib')\n"
     ]
    },
    {
     "name": "stdout",
     "output_type": "stream",
     "text": [
      "/home/hanliu/project/mouse_rostral_brain/DMR/ITSpatial_by_layer/IT-L6/MotifScan.h5adtemp/MA0058.3.meme, N motif total=26629\n"
     ]
    },
    {
     "name": "stderr",
     "output_type": "stream",
     "text": [
      "/home/hanliu/miniconda3/envs/clustering/lib/python3.7/site-packages/ALLCools/dmr/fimo.py:60: FutureWarning: to_msgpack is deprecated and will be removed in a future version.\n",
      "It is recommended to use pyarrow for on-the-wire transmission of pandas objects.\n",
      "  final_df.to_msgpack(output_path, compress='zlib')\n"
     ]
    },
    {
     "name": "stdout",
     "output_type": "stream",
     "text": [
      "/home/hanliu/project/mouse_rostral_brain/DMR/ITSpatial_by_layer/IT-L6/MotifScan.h5adtemp/MA1520.1.meme, N motif total=48945\n"
     ]
    },
    {
     "name": "stderr",
     "output_type": "stream",
     "text": [
      "/home/hanliu/miniconda3/envs/clustering/lib/python3.7/site-packages/ALLCools/dmr/fimo.py:60: FutureWarning: to_msgpack is deprecated and will be removed in a future version.\n",
      "It is recommended to use pyarrow for on-the-wire transmission of pandas objects.\n",
      "  final_df.to_msgpack(output_path, compress='zlib')\n"
     ]
    },
    {
     "name": "stdout",
     "output_type": "stream",
     "text": [
      "/home/hanliu/project/mouse_rostral_brain/DMR/ITSpatial_by_layer/IT-L6/MotifScan.h5adtemp/MA0501.1.meme, N motif total=45568\n"
     ]
    },
    {
     "name": "stderr",
     "output_type": "stream",
     "text": [
      "/home/hanliu/miniconda3/envs/clustering/lib/python3.7/site-packages/ALLCools/dmr/fimo.py:60: FutureWarning: to_msgpack is deprecated and will be removed in a future version.\n",
      "It is recommended to use pyarrow for on-the-wire transmission of pandas objects.\n",
      "  final_df.to_msgpack(output_path, compress='zlib')\n"
     ]
    },
    {
     "name": "stdout",
     "output_type": "stream",
     "text": [
      "/home/hanliu/project/mouse_rostral_brain/DMR/ITSpatial_by_layer/IT-L6/MotifScan.h5adtemp/MA0059.1.meme, N motif total=35676\n"
     ]
    },
    {
     "name": "stderr",
     "output_type": "stream",
     "text": [
      "/home/hanliu/miniconda3/envs/clustering/lib/python3.7/site-packages/ALLCools/dmr/fimo.py:60: FutureWarning: to_msgpack is deprecated and will be removed in a future version.\n",
      "It is recommended to use pyarrow for on-the-wire transmission of pandas objects.\n",
      "  final_df.to_msgpack(output_path, compress='zlib')\n"
     ]
    },
    {
     "name": "stdout",
     "output_type": "stream",
     "text": [
      "/home/hanliu/project/mouse_rostral_brain/DMR/ITSpatial_by_layer/IT-L6/MotifScan.h5adtemp/MA0498.2.meme, N motif total=26375\n"
     ]
    },
    {
     "name": "stderr",
     "output_type": "stream",
     "text": [
      "/home/hanliu/miniconda3/envs/clustering/lib/python3.7/site-packages/ALLCools/dmr/fimo.py:60: FutureWarning: to_msgpack is deprecated and will be removed in a future version.\n",
      "It is recommended to use pyarrow for on-the-wire transmission of pandas objects.\n",
      "  final_df.to_msgpack(output_path, compress='zlib')\n"
     ]
    },
    {
     "name": "stdout",
     "output_type": "stream",
     "text": [
      "/home/hanliu/project/mouse_rostral_brain/DMR/ITSpatial_by_layer/IT-L6/MotifScan.h5adtemp/MA1522.1.meme, N motif total=72414\n"
     ]
    },
    {
     "name": "stderr",
     "output_type": "stream",
     "text": [
      "/home/hanliu/miniconda3/envs/clustering/lib/python3.7/site-packages/ALLCools/dmr/fimo.py:60: FutureWarning: to_msgpack is deprecated and will be removed in a future version.\n",
      "It is recommended to use pyarrow for on-the-wire transmission of pandas objects.\n",
      "  final_df.to_msgpack(output_path, compress='zlib')\n"
     ]
    },
    {
     "name": "stdout",
     "output_type": "stream",
     "text": [
      "/home/hanliu/project/mouse_rostral_brain/DMR/ITSpatial_by_layer/IT-L6/MotifScan.h5adtemp/MA0774.1.meme, N motif total=55209\n"
     ]
    },
    {
     "name": "stderr",
     "output_type": "stream",
     "text": [
      "/home/hanliu/miniconda3/envs/clustering/lib/python3.7/site-packages/ALLCools/dmr/fimo.py:60: FutureWarning: to_msgpack is deprecated and will be removed in a future version.\n",
      "It is recommended to use pyarrow for on-the-wire transmission of pandas objects.\n",
      "  final_df.to_msgpack(output_path, compress='zlib')\n"
     ]
    },
    {
     "name": "stdout",
     "output_type": "stream",
     "text": [
      "/home/hanliu/project/mouse_rostral_brain/DMR/ITSpatial_by_layer/IT-L6/MotifScan.h5adtemp/MA0659.2.meme, N motif total=48599\n"
     ]
    },
    {
     "name": "stderr",
     "output_type": "stream",
     "text": [
      "/home/hanliu/miniconda3/envs/clustering/lib/python3.7/site-packages/ALLCools/dmr/fimo.py:60: FutureWarning: to_msgpack is deprecated and will be removed in a future version.\n",
      "It is recommended to use pyarrow for on-the-wire transmission of pandas objects.\n",
      "  final_df.to_msgpack(output_path, compress='zlib')\n"
     ]
    },
    {
     "name": "stdout",
     "output_type": "stream",
     "text": [
      "/home/hanliu/project/mouse_rostral_brain/DMR/ITSpatial_by_layer/IT-L6/MotifScan.h5adtemp/MA0660.1.meme, N motif total=32434\n"
     ]
    },
    {
     "name": "stderr",
     "output_type": "stream",
     "text": [
      "/home/hanliu/miniconda3/envs/clustering/lib/python3.7/site-packages/ALLCools/dmr/fimo.py:60: FutureWarning: to_msgpack is deprecated and will be removed in a future version.\n",
      "It is recommended to use pyarrow for on-the-wire transmission of pandas objects.\n",
      "  final_df.to_msgpack(output_path, compress='zlib')\n"
     ]
    },
    {
     "name": "stdout",
     "output_type": "stream",
     "text": [
      "/home/hanliu/project/mouse_rostral_brain/DMR/ITSpatial_by_layer/IT-L6/MotifScan.h5adtemp/MA0775.1.meme, N motif total=44875\n"
     ]
    },
    {
     "name": "stderr",
     "output_type": "stream",
     "text": [
      "/home/hanliu/miniconda3/envs/clustering/lib/python3.7/site-packages/ALLCools/dmr/fimo.py:60: FutureWarning: to_msgpack is deprecated and will be removed in a future version.\n",
      "It is recommended to use pyarrow for on-the-wire transmission of pandas objects.\n",
      "  final_df.to_msgpack(output_path, compress='zlib')\n"
     ]
    },
    {
     "name": "stdout",
     "output_type": "stream",
     "text": [
      "/home/hanliu/project/mouse_rostral_brain/DMR/ITSpatial_by_layer/IT-L6/MotifScan.h5adtemp/MA0496.3.meme, N motif total=71930\n"
     ]
    },
    {
     "name": "stderr",
     "output_type": "stream",
     "text": [
      "/home/hanliu/miniconda3/envs/clustering/lib/python3.7/site-packages/ALLCools/dmr/fimo.py:60: FutureWarning: to_msgpack is deprecated and will be removed in a future version.\n",
      "It is recommended to use pyarrow for on-the-wire transmission of pandas objects.\n",
      "  final_df.to_msgpack(output_path, compress='zlib')\n"
     ]
    },
    {
     "name": "stdout",
     "output_type": "stream",
     "text": [
      "/home/hanliu/project/mouse_rostral_brain/DMR/ITSpatial_by_layer/IT-L6/MotifScan.h5adtemp/MA0495.3.meme, N motif total=45527\n"
     ]
    },
    {
     "name": "stderr",
     "output_type": "stream",
     "text": [
      "/home/hanliu/miniconda3/envs/clustering/lib/python3.7/site-packages/ALLCools/dmr/fimo.py:60: FutureWarning: to_msgpack is deprecated and will be removed in a future version.\n",
      "It is recommended to use pyarrow for on-the-wire transmission of pandas objects.\n",
      "  final_df.to_msgpack(output_path, compress='zlib')\n"
     ]
    },
    {
     "name": "stdout",
     "output_type": "stream",
     "text": [
      "/home/hanliu/project/mouse_rostral_brain/DMR/ITSpatial_by_layer/IT-L6/MotifScan.h5adtemp/MA0029.1.meme, N motif total=34962\n"
     ]
    },
    {
     "name": "stderr",
     "output_type": "stream",
     "text": [
      "/home/hanliu/miniconda3/envs/clustering/lib/python3.7/site-packages/ALLCools/dmr/fimo.py:60: FutureWarning: to_msgpack is deprecated and will be removed in a future version.\n",
      "It is recommended to use pyarrow for on-the-wire transmission of pandas objects.\n",
      "  final_df.to_msgpack(output_path, compress='zlib')\n"
     ]
    },
    {
     "name": "stdout",
     "output_type": "stream",
     "text": [
      "/home/hanliu/project/mouse_rostral_brain/DMR/ITSpatial_by_layer/IT-L6/MotifScan.h5adtemp/MA0801.1.meme, N motif total=32637\n"
     ]
    },
    {
     "name": "stderr",
     "output_type": "stream",
     "text": [
      "/home/hanliu/miniconda3/envs/clustering/lib/python3.7/site-packages/ALLCools/dmr/fimo.py:60: FutureWarning: to_msgpack is deprecated and will be removed in a future version.\n",
      "It is recommended to use pyarrow for on-the-wire transmission of pandas objects.\n",
      "  final_df.to_msgpack(output_path, compress='zlib')\n"
     ]
    },
    {
     "name": "stdout",
     "output_type": "stream",
     "text": [
      "/home/hanliu/project/mouse_rostral_brain/DMR/ITSpatial_by_layer/IT-L6/MotifScan.h5adtemp/MA0773.1.meme, N motif total=38722\n"
     ]
    },
    {
     "name": "stderr",
     "output_type": "stream",
     "text": [
      "/home/hanliu/miniconda3/envs/clustering/lib/python3.7/site-packages/ALLCools/dmr/fimo.py:60: FutureWarning: to_msgpack is deprecated and will be removed in a future version.\n",
      "It is recommended to use pyarrow for on-the-wire transmission of pandas objects.\n",
      "  final_df.to_msgpack(output_path, compress='zlib')\n"
     ]
    },
    {
     "name": "stdout",
     "output_type": "stream",
     "text": [
      "/home/hanliu/project/mouse_rostral_brain/DMR/ITSpatial_by_layer/IT-L6/MotifScan.h5adtemp/MA0052.4.meme, N motif total=71723\n"
     ]
    },
    {
     "name": "stderr",
     "output_type": "stream",
     "text": [
      "/home/hanliu/miniconda3/envs/clustering/lib/python3.7/site-packages/ALLCools/dmr/fimo.py:60: FutureWarning: to_msgpack is deprecated and will be removed in a future version.\n",
      "It is recommended to use pyarrow for on-the-wire transmission of pandas objects.\n",
      "  final_df.to_msgpack(output_path, compress='zlib')\n"
     ]
    },
    {
     "name": "stdout",
     "output_type": "stream",
     "text": [
      "/home/hanliu/project/mouse_rostral_brain/DMR/ITSpatial_by_layer/IT-L6/MotifScan.h5adtemp/MA0706.1.meme, N motif total=17680\n"
     ]
    },
    {
     "name": "stderr",
     "output_type": "stream",
     "text": [
      "/home/hanliu/miniconda3/envs/clustering/lib/python3.7/site-packages/ALLCools/dmr/fimo.py:60: FutureWarning: to_msgpack is deprecated and will be removed in a future version.\n",
      "It is recommended to use pyarrow for on-the-wire transmission of pandas objects.\n",
      "  final_df.to_msgpack(output_path, compress='zlib')\n"
     ]
    },
    {
     "name": "stdout",
     "output_type": "stream",
     "text": [
      "/home/hanliu/project/mouse_rostral_brain/DMR/ITSpatial_by_layer/IT-L6/MotifScan.h5adtemp/MA0661.1.meme, N motif total=15955\n"
     ]
    },
    {
     "name": "stderr",
     "output_type": "stream",
     "text": [
      "/home/hanliu/miniconda3/envs/clustering/lib/python3.7/site-packages/ALLCools/dmr/fimo.py:60: FutureWarning: to_msgpack is deprecated and will be removed in a future version.\n",
      "It is recommended to use pyarrow for on-the-wire transmission of pandas objects.\n",
      "  final_df.to_msgpack(output_path, compress='zlib')\n"
     ]
    },
    {
     "name": "stdout",
     "output_type": "stream",
     "text": [
      "/home/hanliu/project/mouse_rostral_brain/DMR/ITSpatial_by_layer/IT-L6/MotifScan.h5adtemp/MA1639.1.meme, N motif total=28702\n"
     ]
    },
    {
     "name": "stderr",
     "output_type": "stream",
     "text": [
      "/home/hanliu/miniconda3/envs/clustering/lib/python3.7/site-packages/ALLCools/dmr/fimo.py:60: FutureWarning: to_msgpack is deprecated and will be removed in a future version.\n",
      "It is recommended to use pyarrow for on-the-wire transmission of pandas objects.\n",
      "  final_df.to_msgpack(output_path, compress='zlib')\n"
     ]
    },
    {
     "name": "stdout",
     "output_type": "stream",
     "text": [
      "/home/hanliu/project/mouse_rostral_brain/DMR/ITSpatial_by_layer/IT-L6/MotifScan.h5adtemp/MA0497.1.meme, N motif total=72244\n"
     ]
    },
    {
     "name": "stderr",
     "output_type": "stream",
     "text": [
      "/home/hanliu/miniconda3/envs/clustering/lib/python3.7/site-packages/ALLCools/dmr/fimo.py:60: FutureWarning: to_msgpack is deprecated and will be removed in a future version.\n",
      "It is recommended to use pyarrow for on-the-wire transmission of pandas objects.\n",
      "  final_df.to_msgpack(output_path, compress='zlib')\n"
     ]
    },
    {
     "name": "stdout",
     "output_type": "stream",
     "text": [
      "/home/hanliu/project/mouse_rostral_brain/DMR/ITSpatial_by_layer/IT-L6/MotifScan.h5adtemp/MA1640.1.meme, N motif total=30989\n"
     ]
    },
    {
     "name": "stderr",
     "output_type": "stream",
     "text": [
      "/home/hanliu/miniconda3/envs/clustering/lib/python3.7/site-packages/ALLCools/dmr/fimo.py:60: FutureWarning: to_msgpack is deprecated and will be removed in a future version.\n",
      "It is recommended to use pyarrow for on-the-wire transmission of pandas objects.\n",
      "  final_df.to_msgpack(output_path, compress='zlib')\n"
     ]
    },
    {
     "name": "stdout",
     "output_type": "stream",
     "text": [
      "/home/hanliu/project/mouse_rostral_brain/DMR/ITSpatial_by_layer/IT-L6/MotifScan.h5adtemp/MA0662.1.meme, N motif total=19469\n"
     ]
    },
    {
     "name": "stderr",
     "output_type": "stream",
     "text": [
      "/home/hanliu/miniconda3/envs/clustering/lib/python3.7/site-packages/ALLCools/dmr/fimo.py:60: FutureWarning: to_msgpack is deprecated and will be removed in a future version.\n",
      "It is recommended to use pyarrow for on-the-wire transmission of pandas objects.\n",
      "  final_df.to_msgpack(output_path, compress='zlib')\n"
     ]
    },
    {
     "name": "stdout",
     "output_type": "stream",
     "text": [
      "/home/hanliu/project/mouse_rostral_brain/DMR/ITSpatial_by_layer/IT-L6/MotifScan.h5adtemp/MA0622.1.meme, N motif total=24758\n"
     ]
    },
    {
     "name": "stderr",
     "output_type": "stream",
     "text": [
      "/home/hanliu/miniconda3/envs/clustering/lib/python3.7/site-packages/ALLCools/dmr/fimo.py:60: FutureWarning: to_msgpack is deprecated and will be removed in a future version.\n",
      "It is recommended to use pyarrow for on-the-wire transmission of pandas objects.\n",
      "  final_df.to_msgpack(output_path, compress='zlib')\n"
     ]
    },
    {
     "name": "stdout",
     "output_type": "stream",
     "text": [
      "/home/hanliu/project/mouse_rostral_brain/DMR/ITSpatial_by_layer/IT-L6/MotifScan.h5adtemp/MA0663.1.meme, N motif total=16121\n"
     ]
    },
    {
     "name": "stderr",
     "output_type": "stream",
     "text": [
      "/home/hanliu/miniconda3/envs/clustering/lib/python3.7/site-packages/ALLCools/dmr/fimo.py:60: FutureWarning: to_msgpack is deprecated and will be removed in a future version.\n",
      "It is recommended to use pyarrow for on-the-wire transmission of pandas objects.\n",
      "  final_df.to_msgpack(output_path, compress='zlib')\n"
     ]
    },
    {
     "name": "stdout",
     "output_type": "stream",
     "text": [
      "/home/hanliu/project/mouse_rostral_brain/DMR/ITSpatial_by_layer/IT-L6/MotifScan.h5adtemp/MA0620.3.meme, N motif total=33104\n"
     ]
    },
    {
     "name": "stderr",
     "output_type": "stream",
     "text": [
      "/home/hanliu/miniconda3/envs/clustering/lib/python3.7/site-packages/ALLCools/dmr/fimo.py:60: FutureWarning: to_msgpack is deprecated and will be removed in a future version.\n",
      "It is recommended to use pyarrow for on-the-wire transmission of pandas objects.\n",
      "  final_df.to_msgpack(output_path, compress='zlib')\n"
     ]
    },
    {
     "name": "stdout",
     "output_type": "stream",
     "text": [
      "/home/hanliu/project/mouse_rostral_brain/DMR/ITSpatial_by_layer/IT-L6/MotifScan.h5adtemp/MA0664.1.meme, N motif total=19940\n"
     ]
    },
    {
     "name": "stderr",
     "output_type": "stream",
     "text": [
      "/home/hanliu/miniconda3/envs/clustering/lib/python3.7/site-packages/ALLCools/dmr/fimo.py:60: FutureWarning: to_msgpack is deprecated and will be removed in a future version.\n",
      "It is recommended to use pyarrow for on-the-wire transmission of pandas objects.\n",
      "  final_df.to_msgpack(output_path, compress='zlib')\n"
     ]
    },
    {
     "name": "stdout",
     "output_type": "stream",
     "text": [
      "/home/hanliu/project/mouse_rostral_brain/DMR/ITSpatial_by_layer/IT-L6/MotifScan.h5adtemp/MA0825.1.meme, N motif total=24933\n"
     ]
    },
    {
     "name": "stderr",
     "output_type": "stream",
     "text": [
      "/home/hanliu/miniconda3/envs/clustering/lib/python3.7/site-packages/ALLCools/dmr/fimo.py:60: FutureWarning: to_msgpack is deprecated and will be removed in a future version.\n",
      "It is recommended to use pyarrow for on-the-wire transmission of pandas objects.\n",
      "  final_df.to_msgpack(output_path, compress='zlib')\n"
     ]
    },
    {
     "name": "stdout",
     "output_type": "stream",
     "text": [
      "/home/hanliu/project/mouse_rostral_brain/DMR/ITSpatial_by_layer/IT-L6/MotifScan.h5adtemp/MA0707.1.meme, N motif total=24643\n"
     ]
    },
    {
     "name": "stderr",
     "output_type": "stream",
     "text": [
      "/home/hanliu/miniconda3/envs/clustering/lib/python3.7/site-packages/ALLCools/dmr/fimo.py:60: FutureWarning: to_msgpack is deprecated and will be removed in a future version.\n",
      "It is recommended to use pyarrow for on-the-wire transmission of pandas objects.\n",
      "  final_df.to_msgpack(output_path, compress='zlib')\n"
     ]
    },
    {
     "name": "stdout",
     "output_type": "stream",
     "text": [
      "/home/hanliu/project/mouse_rostral_brain/DMR/ITSpatial_by_layer/IT-L6/MotifScan.h5adtemp/MA1523.1.meme, N motif total=43711\n"
     ]
    },
    {
     "name": "stderr",
     "output_type": "stream",
     "text": [
      "/home/hanliu/miniconda3/envs/clustering/lib/python3.7/site-packages/ALLCools/dmr/fimo.py:60: FutureWarning: to_msgpack is deprecated and will be removed in a future version.\n",
      "It is recommended to use pyarrow for on-the-wire transmission of pandas objects.\n",
      "  final_df.to_msgpack(output_path, compress='zlib')\n"
     ]
    },
    {
     "name": "stdout",
     "output_type": "stream",
     "text": [
      "/home/hanliu/project/mouse_rostral_brain/DMR/ITSpatial_by_layer/IT-L6/MotifScan.h5adtemp/MA0708.1.meme, N motif total=16305\n"
     ]
    },
    {
     "name": "stderr",
     "output_type": "stream",
     "text": [
      "/home/hanliu/miniconda3/envs/clustering/lib/python3.7/site-packages/ALLCools/dmr/fimo.py:60: FutureWarning: to_msgpack is deprecated and will be removed in a future version.\n",
      "It is recommended to use pyarrow for on-the-wire transmission of pandas objects.\n",
      "  final_df.to_msgpack(output_path, compress='zlib')\n"
     ]
    },
    {
     "name": "stdout",
     "output_type": "stream",
     "text": [
      "/home/hanliu/project/mouse_rostral_brain/DMR/ITSpatial_by_layer/IT-L6/MotifScan.h5adtemp/MA0709.1.meme, N motif total=16305\n"
     ]
    },
    {
     "name": "stderr",
     "output_type": "stream",
     "text": [
      "/home/hanliu/miniconda3/envs/clustering/lib/python3.7/site-packages/ALLCools/dmr/fimo.py:60: FutureWarning: to_msgpack is deprecated and will be removed in a future version.\n",
      "It is recommended to use pyarrow for on-the-wire transmission of pandas objects.\n",
      "  final_df.to_msgpack(output_path, compress='zlib')\n"
     ]
    },
    {
     "name": "stdout",
     "output_type": "stream",
     "text": [
      "/home/hanliu/project/mouse_rostral_brain/DMR/ITSpatial_by_layer/IT-L6/MotifScan.h5adtemp/MA0666.1.meme, N motif total=14742\n"
     ]
    },
    {
     "name": "stderr",
     "output_type": "stream",
     "text": [
      "/home/hanliu/miniconda3/envs/clustering/lib/python3.7/site-packages/ALLCools/dmr/fimo.py:60: FutureWarning: to_msgpack is deprecated and will be removed in a future version.\n",
      "It is recommended to use pyarrow for on-the-wire transmission of pandas objects.\n",
      "  final_df.to_msgpack(output_path, compress='zlib')\n"
     ]
    },
    {
     "name": "stdout",
     "output_type": "stream",
     "text": [
      "/home/hanliu/project/mouse_rostral_brain/DMR/ITSpatial_by_layer/IT-L6/MotifScan.h5adtemp/MA0665.1.meme, N motif total=63600\n"
     ]
    },
    {
     "name": "stderr",
     "output_type": "stream",
     "text": [
      "/home/hanliu/miniconda3/envs/clustering/lib/python3.7/site-packages/ALLCools/dmr/fimo.py:60: FutureWarning: to_msgpack is deprecated and will be removed in a future version.\n",
      "It is recommended to use pyarrow for on-the-wire transmission of pandas objects.\n",
      "  final_df.to_msgpack(output_path, compress='zlib')\n"
     ]
    },
    {
     "name": "stdout",
     "output_type": "stream",
     "text": [
      "/home/hanliu/project/mouse_rostral_brain/DMR/ITSpatial_by_layer/IT-L6/MotifScan.h5adtemp/MA1524.1.meme, N motif total=38329\n"
     ]
    },
    {
     "name": "stderr",
     "output_type": "stream",
     "text": [
      "/home/hanliu/miniconda3/envs/clustering/lib/python3.7/site-packages/ALLCools/dmr/fimo.py:60: FutureWarning: to_msgpack is deprecated and will be removed in a future version.\n",
      "It is recommended to use pyarrow for on-the-wire transmission of pandas objects.\n",
      "  final_df.to_msgpack(output_path, compress='zlib')\n"
     ]
    },
    {
     "name": "stdout",
     "output_type": "stream",
     "text": [
      "/home/hanliu/project/mouse_rostral_brain/DMR/ITSpatial_by_layer/IT-L6/MotifScan.h5adtemp/MA0100.3.meme, N motif total=35611\n"
     ]
    },
    {
     "name": "stderr",
     "output_type": "stream",
     "text": [
      "/home/hanliu/miniconda3/envs/clustering/lib/python3.7/site-packages/ALLCools/dmr/fimo.py:60: FutureWarning: to_msgpack is deprecated and will be removed in a future version.\n",
      "It is recommended to use pyarrow for on-the-wire transmission of pandas objects.\n",
      "  final_df.to_msgpack(output_path, compress='zlib')\n"
     ]
    },
    {
     "name": "stdout",
     "output_type": "stream",
     "text": [
      "/home/hanliu/project/mouse_rostral_brain/DMR/ITSpatial_by_layer/IT-L6/MotifScan.h5adtemp/MA0863.1.meme, N motif total=18415\n"
     ]
    },
    {
     "name": "stderr",
     "output_type": "stream",
     "text": [
      "/home/hanliu/miniconda3/envs/clustering/lib/python3.7/site-packages/ALLCools/dmr/fimo.py:60: FutureWarning: to_msgpack is deprecated and will be removed in a future version.\n",
      "It is recommended to use pyarrow for on-the-wire transmission of pandas objects.\n",
      "  final_df.to_msgpack(output_path, compress='zlib')\n"
     ]
    },
    {
     "name": "stdout",
     "output_type": "stream",
     "text": [
      "/home/hanliu/project/mouse_rostral_brain/DMR/ITSpatial_by_layer/IT-L6/MotifScan.h5adtemp/MA1108.2.meme, N motif total=66892\n"
     ]
    },
    {
     "name": "stderr",
     "output_type": "stream",
     "text": [
      "/home/hanliu/miniconda3/envs/clustering/lib/python3.7/site-packages/ALLCools/dmr/fimo.py:60: FutureWarning: to_msgpack is deprecated and will be removed in a future version.\n",
      "It is recommended to use pyarrow for on-the-wire transmission of pandas objects.\n",
      "  final_df.to_msgpack(output_path, compress='zlib')\n"
     ]
    },
    {
     "name": "stdout",
     "output_type": "stream",
     "text": [
      "/home/hanliu/project/mouse_rostral_brain/DMR/ITSpatial_by_layer/IT-L6/MotifScan.h5adtemp/MA0776.1.meme, N motif total=7085\n"
     ]
    },
    {
     "name": "stderr",
     "output_type": "stream",
     "text": [
      "/home/hanliu/miniconda3/envs/clustering/lib/python3.7/site-packages/ALLCools/dmr/fimo.py:60: FutureWarning: to_msgpack is deprecated and will be removed in a future version.\n",
      "It is recommended to use pyarrow for on-the-wire transmission of pandas objects.\n",
      "  final_df.to_msgpack(output_path, compress='zlib')\n"
     ]
    },
    {
     "name": "stdout",
     "output_type": "stream",
     "text": [
      "/home/hanliu/project/mouse_rostral_brain/DMR/ITSpatial_by_layer/IT-L6/MotifScan.h5adtemp/MA0667.1.meme, N motif total=49069\n"
     ]
    },
    {
     "name": "stderr",
     "output_type": "stream",
     "text": [
      "/home/hanliu/miniconda3/envs/clustering/lib/python3.7/site-packages/ALLCools/dmr/fimo.py:60: FutureWarning: to_msgpack is deprecated and will be removed in a future version.\n",
      "It is recommended to use pyarrow for on-the-wire transmission of pandas objects.\n",
      "  final_df.to_msgpack(output_path, compress='zlib')\n"
     ]
    },
    {
     "name": "stdout",
     "output_type": "stream",
     "text": [
      "/home/hanliu/project/mouse_rostral_brain/DMR/ITSpatial_by_layer/IT-L6/MotifScan.h5adtemp/MA0147.3.meme, N motif total=33645\n"
     ]
    },
    {
     "name": "stderr",
     "output_type": "stream",
     "text": [
      "/home/hanliu/miniconda3/envs/clustering/lib/python3.7/site-packages/ALLCools/dmr/fimo.py:60: FutureWarning: to_msgpack is deprecated and will be removed in a future version.\n",
      "It is recommended to use pyarrow for on-the-wire transmission of pandas objects.\n",
      "  final_df.to_msgpack(output_path, compress='zlib')\n"
     ]
    },
    {
     "name": "stdout",
     "output_type": "stream",
     "text": [
      "/home/hanliu/project/mouse_rostral_brain/DMR/ITSpatial_by_layer/IT-L6/MotifScan.h5adtemp/MA0104.4.meme, N motif total=34484\n"
     ]
    },
    {
     "name": "stderr",
     "output_type": "stream",
     "text": [
      "/home/hanliu/miniconda3/envs/clustering/lib/python3.7/site-packages/ALLCools/dmr/fimo.py:60: FutureWarning: to_msgpack is deprecated and will be removed in a future version.\n",
      "It is recommended to use pyarrow for on-the-wire transmission of pandas objects.\n",
      "  final_df.to_msgpack(output_path, compress='zlib')\n"
     ]
    },
    {
     "name": "stdout",
     "output_type": "stream",
     "text": [
      "/home/hanliu/project/mouse_rostral_brain/DMR/ITSpatial_by_layer/IT-L6/MotifScan.h5adtemp/MA1641.1.meme, N motif total=96854\n"
     ]
    },
    {
     "name": "stderr",
     "output_type": "stream",
     "text": [
      "/home/hanliu/miniconda3/envs/clustering/lib/python3.7/site-packages/ALLCools/dmr/fimo.py:60: FutureWarning: to_msgpack is deprecated and will be removed in a future version.\n",
      "It is recommended to use pyarrow for on-the-wire transmission of pandas objects.\n",
      "  final_df.to_msgpack(output_path, compress='zlib')\n"
     ]
    },
    {
     "name": "stdout",
     "output_type": "stream",
     "text": [
      "/home/hanliu/project/mouse_rostral_brain/DMR/ITSpatial_by_layer/IT-L6/MotifScan.h5adtemp/MA0057.1.meme, N motif total=60007\n"
     ]
    },
    {
     "name": "stderr",
     "output_type": "stream",
     "text": [
      "/home/hanliu/miniconda3/envs/clustering/lib/python3.7/site-packages/ALLCools/dmr/fimo.py:60: FutureWarning: to_msgpack is deprecated and will be removed in a future version.\n",
      "It is recommended to use pyarrow for on-the-wire transmission of pandas objects.\n",
      "  final_df.to_msgpack(output_path, compress='zlib')\n"
     ]
    },
    {
     "name": "stdout",
     "output_type": "stream",
     "text": [
      "/home/hanliu/project/mouse_rostral_brain/DMR/ITSpatial_by_layer/IT-L6/MotifScan.h5adtemp/MA0500.2.meme, N motif total=97202\n"
     ]
    },
    {
     "name": "stderr",
     "output_type": "stream",
     "text": [
      "/home/hanliu/miniconda3/envs/clustering/lib/python3.7/site-packages/ALLCools/dmr/fimo.py:60: FutureWarning: to_msgpack is deprecated and will be removed in a future version.\n",
      "It is recommended to use pyarrow for on-the-wire transmission of pandas objects.\n",
      "  final_df.to_msgpack(output_path, compress='zlib')\n"
     ]
    },
    {
     "name": "stdout",
     "output_type": "stream",
     "text": [
      "/home/hanliu/project/mouse_rostral_brain/DMR/ITSpatial_by_layer/IT-L6/MotifScan.h5adtemp/MA0777.1.meme, N motif total=6905\n"
     ]
    },
    {
     "name": "stderr",
     "output_type": "stream",
     "text": [
      "/home/hanliu/miniconda3/envs/clustering/lib/python3.7/site-packages/ALLCools/dmr/fimo.py:60: FutureWarning: to_msgpack is deprecated and will be removed in a future version.\n",
      "It is recommended to use pyarrow for on-the-wire transmission of pandas objects.\n",
      "  final_df.to_msgpack(output_path, compress='zlib')\n"
     ]
    },
    {
     "name": "stdout",
     "output_type": "stream",
     "text": [
      "/home/hanliu/project/mouse_rostral_brain/DMR/ITSpatial_by_layer/IT-L6/MotifScan.h5adtemp/MA0152.1.meme, N motif total=49331\n"
     ]
    },
    {
     "name": "stderr",
     "output_type": "stream",
     "text": [
      "/home/hanliu/miniconda3/envs/clustering/lib/python3.7/site-packages/ALLCools/dmr/fimo.py:60: FutureWarning: to_msgpack is deprecated and will be removed in a future version.\n",
      "It is recommended to use pyarrow for on-the-wire transmission of pandas objects.\n",
      "  final_df.to_msgpack(output_path, compress='zlib')\n"
     ]
    },
    {
     "name": "stdout",
     "output_type": "stream",
     "text": [
      "/home/hanliu/project/mouse_rostral_brain/DMR/ITSpatial_by_layer/IT-L6/MotifScan.h5adtemp/MA0606.1.meme, N motif total=56345\n"
     ]
    },
    {
     "name": "stderr",
     "output_type": "stream",
     "text": [
      "/home/hanliu/miniconda3/envs/clustering/lib/python3.7/site-packages/ALLCools/dmr/fimo.py:60: FutureWarning: to_msgpack is deprecated and will be removed in a future version.\n",
      "It is recommended to use pyarrow for on-the-wire transmission of pandas objects.\n",
      "  final_df.to_msgpack(output_path, compress='zlib')\n"
     ]
    },
    {
     "name": "stdout",
     "output_type": "stream",
     "text": [
      "/home/hanliu/project/mouse_rostral_brain/DMR/ITSpatial_by_layer/IT-L6/MotifScan.h5adtemp/MA0499.2.meme, N motif total=68715\n"
     ]
    },
    {
     "name": "stderr",
     "output_type": "stream",
     "text": [
      "/home/hanliu/miniconda3/envs/clustering/lib/python3.7/site-packages/ALLCools/dmr/fimo.py:60: FutureWarning: to_msgpack is deprecated and will be removed in a future version.\n",
      "It is recommended to use pyarrow for on-the-wire transmission of pandas objects.\n",
      "  final_df.to_msgpack(output_path, compress='zlib')\n"
     ]
    },
    {
     "name": "stdout",
     "output_type": "stream",
     "text": [
      "/home/hanliu/project/mouse_rostral_brain/DMR/ITSpatial_by_layer/IT-L6/MotifScan.h5adtemp/MA0668.1.meme, N motif total=31911\n"
     ]
    },
    {
     "name": "stderr",
     "output_type": "stream",
     "text": [
      "/home/hanliu/miniconda3/envs/clustering/lib/python3.7/site-packages/ALLCools/dmr/fimo.py:60: FutureWarning: to_msgpack is deprecated and will be removed in a future version.\n",
      "It is recommended to use pyarrow for on-the-wire transmission of pandas objects.\n",
      "  final_df.to_msgpack(output_path, compress='zlib')\n"
     ]
    },
    {
     "name": "stdout",
     "output_type": "stream",
     "text": [
      "/home/hanliu/project/mouse_rostral_brain/DMR/ITSpatial_by_layer/IT-L6/MotifScan.h5adtemp/MA0623.2.meme, N motif total=34862\n"
     ]
    },
    {
     "name": "stderr",
     "output_type": "stream",
     "text": [
      "/home/hanliu/miniconda3/envs/clustering/lib/python3.7/site-packages/ALLCools/dmr/fimo.py:60: FutureWarning: to_msgpack is deprecated and will be removed in a future version.\n",
      "It is recommended to use pyarrow for on-the-wire transmission of pandas objects.\n",
      "  final_df.to_msgpack(output_path, compress='zlib')\n"
     ]
    },
    {
     "name": "stdout",
     "output_type": "stream",
     "text": [
      "/home/hanliu/project/mouse_rostral_brain/DMR/ITSpatial_by_layer/IT-L6/MotifScan.h5adtemp/MA0624.1.meme, N motif total=41841\n"
     ]
    },
    {
     "name": "stderr",
     "output_type": "stream",
     "text": [
      "/home/hanliu/miniconda3/envs/clustering/lib/python3.7/site-packages/ALLCools/dmr/fimo.py:60: FutureWarning: to_msgpack is deprecated and will be removed in a future version.\n",
      "It is recommended to use pyarrow for on-the-wire transmission of pandas objects.\n",
      "  final_df.to_msgpack(output_path, compress='zlib')\n"
     ]
    },
    {
     "name": "stdout",
     "output_type": "stream",
     "text": [
      "/home/hanliu/project/mouse_rostral_brain/DMR/ITSpatial_by_layer/IT-L6/MotifScan.h5adtemp/MA0669.1.meme, N motif total=45858\n"
     ]
    },
    {
     "name": "stderr",
     "output_type": "stream",
     "text": [
      "/home/hanliu/miniconda3/envs/clustering/lib/python3.7/site-packages/ALLCools/dmr/fimo.py:60: FutureWarning: to_msgpack is deprecated and will be removed in a future version.\n",
      "It is recommended to use pyarrow for on-the-wire transmission of pandas objects.\n",
      "  final_df.to_msgpack(output_path, compress='zlib')\n"
     ]
    },
    {
     "name": "stdout",
     "output_type": "stream",
     "text": [
      "/home/hanliu/project/mouse_rostral_brain/DMR/ITSpatial_by_layer/IT-L6/MotifScan.h5adtemp/MA0056.2.meme, N motif total=42820\n"
     ]
    },
    {
     "name": "stderr",
     "output_type": "stream",
     "text": [
      "/home/hanliu/miniconda3/envs/clustering/lib/python3.7/site-packages/ALLCools/dmr/fimo.py:60: FutureWarning: to_msgpack is deprecated and will be removed in a future version.\n",
      "It is recommended to use pyarrow for on-the-wire transmission of pandas objects.\n",
      "  final_df.to_msgpack(output_path, compress='zlib')\n"
     ]
    },
    {
     "name": "stdout",
     "output_type": "stream",
     "text": [
      "/home/hanliu/project/mouse_rostral_brain/DMR/ITSpatial_by_layer/IT-L6/MotifScan.h5adtemp/MA1525.1.meme, N motif total=39312\n"
     ]
    },
    {
     "name": "stderr",
     "output_type": "stream",
     "text": [
      "/home/hanliu/miniconda3/envs/clustering/lib/python3.7/site-packages/ALLCools/dmr/fimo.py:60: FutureWarning: to_msgpack is deprecated and will be removed in a future version.\n",
      "It is recommended to use pyarrow for on-the-wire transmission of pandas objects.\n",
      "  final_df.to_msgpack(output_path, compress='zlib')\n"
     ]
    },
    {
     "name": "stdout",
     "output_type": "stream",
     "text": [
      "/home/hanliu/project/mouse_rostral_brain/DMR/ITSpatial_by_layer/IT-L6/MotifScan.h5adtemp/MA1109.1.meme, N motif total=81911\n"
     ]
    },
    {
     "name": "stderr",
     "output_type": "stream",
     "text": [
      "/home/hanliu/miniconda3/envs/clustering/lib/python3.7/site-packages/ALLCools/dmr/fimo.py:60: FutureWarning: to_msgpack is deprecated and will be removed in a future version.\n",
      "It is recommended to use pyarrow for on-the-wire transmission of pandas objects.\n",
      "  final_df.to_msgpack(output_path, compress='zlib')\n"
     ]
    },
    {
     "name": "stdout",
     "output_type": "stream",
     "text": [
      "/home/hanliu/project/mouse_rostral_brain/DMR/ITSpatial_by_layer/IT-L6/MotifScan.h5adtemp/MA1642.1.meme, N motif total=73265\n"
     ]
    },
    {
     "name": "stderr",
     "output_type": "stream",
     "text": [
      "/home/hanliu/miniconda3/envs/clustering/lib/python3.7/site-packages/ALLCools/dmr/fimo.py:60: FutureWarning: to_msgpack is deprecated and will be removed in a future version.\n",
      "It is recommended to use pyarrow for on-the-wire transmission of pandas objects.\n",
      "  final_df.to_msgpack(output_path, compress='zlib')\n"
     ]
    },
    {
     "name": "stdout",
     "output_type": "stream",
     "text": [
      "/home/hanliu/project/mouse_rostral_brain/DMR/ITSpatial_by_layer/IT-L6/MotifScan.h5adtemp/MA0625.1.meme, N motif total=41521\n"
     ]
    },
    {
     "name": "stderr",
     "output_type": "stream",
     "text": [
      "/home/hanliu/miniconda3/envs/clustering/lib/python3.7/site-packages/ALLCools/dmr/fimo.py:60: FutureWarning: to_msgpack is deprecated and will be removed in a future version.\n",
      "It is recommended to use pyarrow for on-the-wire transmission of pandas objects.\n",
      "  final_df.to_msgpack(output_path, compress='zlib')\n"
     ]
    },
    {
     "name": "stdout",
     "output_type": "stream",
     "text": [
      "/home/hanliu/project/mouse_rostral_brain/DMR/ITSpatial_by_layer/IT-L6/MotifScan.h5adtemp/MA0841.1.meme, N motif total=31573\n"
     ]
    },
    {
     "name": "stderr",
     "output_type": "stream",
     "text": [
      "/home/hanliu/miniconda3/envs/clustering/lib/python3.7/site-packages/ALLCools/dmr/fimo.py:60: FutureWarning: to_msgpack is deprecated and will be removed in a future version.\n",
      "It is recommended to use pyarrow for on-the-wire transmission of pandas objects.\n",
      "  final_df.to_msgpack(output_path, compress='zlib')\n"
     ]
    },
    {
     "name": "stdout",
     "output_type": "stream",
     "text": [
      "/home/hanliu/project/mouse_rostral_brain/DMR/ITSpatial_by_layer/IT-L6/MotifScan.h5adtemp/MA0670.1.meme, N motif total=44573\n"
     ]
    },
    {
     "name": "stderr",
     "output_type": "stream",
     "text": [
      "/home/hanliu/miniconda3/envs/clustering/lib/python3.7/site-packages/ALLCools/dmr/fimo.py:60: FutureWarning: to_msgpack is deprecated and will be removed in a future version.\n",
      "It is recommended to use pyarrow for on-the-wire transmission of pandas objects.\n",
      "  final_df.to_msgpack(output_path, compress='zlib')\n"
     ]
    },
    {
     "name": "stdout",
     "output_type": "stream",
     "text": [
      "/home/hanliu/project/mouse_rostral_brain/DMR/ITSpatial_by_layer/IT-L6/MotifScan.h5adtemp/MA0161.2.meme, N motif total=53568\n"
     ]
    },
    {
     "name": "stderr",
     "output_type": "stream",
     "text": [
      "/home/hanliu/miniconda3/envs/clustering/lib/python3.7/site-packages/ALLCools/dmr/fimo.py:60: FutureWarning: to_msgpack is deprecated and will be removed in a future version.\n",
      "It is recommended to use pyarrow for on-the-wire transmission of pandas objects.\n",
      "  final_df.to_msgpack(output_path, compress='zlib')\n"
     ]
    },
    {
     "name": "stdout",
     "output_type": "stream",
     "text": [
      "/home/hanliu/project/mouse_rostral_brain/DMR/ITSpatial_by_layer/IT-L6/MotifScan.h5adtemp/MA0150.2.meme, N motif total=47107\n"
     ]
    },
    {
     "name": "stderr",
     "output_type": "stream",
     "text": [
      "/home/hanliu/miniconda3/envs/clustering/lib/python3.7/site-packages/ALLCools/dmr/fimo.py:60: FutureWarning: to_msgpack is deprecated and will be removed in a future version.\n",
      "It is recommended to use pyarrow for on-the-wire transmission of pandas objects.\n",
      "  final_df.to_msgpack(output_path, compress='zlib')\n"
     ]
    },
    {
     "name": "stdout",
     "output_type": "stream",
     "text": [
      "/home/hanliu/project/mouse_rostral_brain/DMR/ITSpatial_by_layer/IT-L6/MotifScan.h5adtemp/MA0089.2.meme, N motif total=50431\n"
     ]
    },
    {
     "name": "stderr",
     "output_type": "stream",
     "text": [
      "/home/hanliu/miniconda3/envs/clustering/lib/python3.7/site-packages/ALLCools/dmr/fimo.py:60: FutureWarning: to_msgpack is deprecated and will be removed in a future version.\n",
      "It is recommended to use pyarrow for on-the-wire transmission of pandas objects.\n",
      "  final_df.to_msgpack(output_path, compress='zlib')\n"
     ]
    },
    {
     "name": "stdout",
     "output_type": "stream",
     "text": [
      "/home/hanliu/project/mouse_rostral_brain/DMR/ITSpatial_by_layer/IT-L6/MotifScan.h5adtemp/MA0119.1.meme, N motif total=36862\n"
     ]
    },
    {
     "name": "stderr",
     "output_type": "stream",
     "text": [
      "/home/hanliu/miniconda3/envs/clustering/lib/python3.7/site-packages/ALLCools/dmr/fimo.py:60: FutureWarning: to_msgpack is deprecated and will be removed in a future version.\n",
      "It is recommended to use pyarrow for on-the-wire transmission of pandas objects.\n",
      "  final_df.to_msgpack(output_path, compress='zlib')\n"
     ]
    },
    {
     "name": "stdout",
     "output_type": "stream",
     "text": [
      "/home/hanliu/project/mouse_rostral_brain/DMR/ITSpatial_by_layer/IT-L6/MotifScan.h5adtemp/MA0671.1.meme, N motif total=48128\n"
     ]
    },
    {
     "name": "stderr",
     "output_type": "stream",
     "text": [
      "/home/hanliu/miniconda3/envs/clustering/lib/python3.7/site-packages/ALLCools/dmr/fimo.py:60: FutureWarning: to_msgpack is deprecated and will be removed in a future version.\n",
      "It is recommended to use pyarrow for on-the-wire transmission of pandas objects.\n",
      "  final_df.to_msgpack(output_path, compress='zlib')\n"
     ]
    },
    {
     "name": "stdout",
     "output_type": "stream",
     "text": [
      "/home/hanliu/project/mouse_rostral_brain/DMR/ITSpatial_by_layer/IT-L6/MotifScan.h5adtemp/MA0025.2.meme, N motif total=25042\n"
     ]
    },
    {
     "name": "stderr",
     "output_type": "stream",
     "text": [
      "/home/hanliu/miniconda3/envs/clustering/lib/python3.7/site-packages/ALLCools/dmr/fimo.py:60: FutureWarning: to_msgpack is deprecated and will be removed in a future version.\n",
      "It is recommended to use pyarrow for on-the-wire transmission of pandas objects.\n",
      "  final_df.to_msgpack(output_path, compress='zlib')\n"
     ]
    },
    {
     "name": "stdout",
     "output_type": "stream",
     "text": [
      "/home/hanliu/project/mouse_rostral_brain/DMR/ITSpatial_by_layer/IT-L6/MotifScan.h5adtemp/MA1643.1.meme, N motif total=88676\n"
     ]
    },
    {
     "name": "stderr",
     "output_type": "stream",
     "text": [
      "/home/hanliu/miniconda3/envs/clustering/lib/python3.7/site-packages/ALLCools/dmr/fimo.py:60: FutureWarning: to_msgpack is deprecated and will be removed in a future version.\n",
      "It is recommended to use pyarrow for on-the-wire transmission of pandas objects.\n",
      "  final_df.to_msgpack(output_path, compress='zlib')\n"
     ]
    },
    {
     "name": "stdout",
     "output_type": "stream",
     "text": [
      "/home/hanliu/project/mouse_rostral_brain/DMR/ITSpatial_by_layer/IT-L6/MotifScan.h5adtemp/MA1527.1.meme, N motif total=25270\n"
     ]
    },
    {
     "name": "stderr",
     "output_type": "stream",
     "text": [
      "/home/hanliu/miniconda3/envs/clustering/lib/python3.7/site-packages/ALLCools/dmr/fimo.py:60: FutureWarning: to_msgpack is deprecated and will be removed in a future version.\n",
      "It is recommended to use pyarrow for on-the-wire transmission of pandas objects.\n",
      "  final_df.to_msgpack(output_path, compress='zlib')\n"
     ]
    },
    {
     "name": "stdout",
     "output_type": "stream",
     "text": [
      "/home/hanliu/project/mouse_rostral_brain/DMR/ITSpatial_by_layer/IT-L6/MotifScan.h5adtemp/MA0060.3.meme, N motif total=24980\n"
     ]
    },
    {
     "name": "stderr",
     "output_type": "stream",
     "text": [
      "/home/hanliu/miniconda3/envs/clustering/lib/python3.7/site-packages/ALLCools/dmr/fimo.py:60: FutureWarning: to_msgpack is deprecated and will be removed in a future version.\n",
      "It is recommended to use pyarrow for on-the-wire transmission of pandas objects.\n",
      "  final_df.to_msgpack(output_path, compress='zlib')\n"
     ]
    },
    {
     "name": "stdout",
     "output_type": "stream",
     "text": [
      "/home/hanliu/project/mouse_rostral_brain/DMR/ITSpatial_by_layer/IT-L6/MotifScan.h5adtemp/MA0502.2.meme, N motif total=33087\n"
     ]
    },
    {
     "name": "stderr",
     "output_type": "stream",
     "text": [
      "/home/hanliu/miniconda3/envs/clustering/lib/python3.7/site-packages/ALLCools/dmr/fimo.py:60: FutureWarning: to_msgpack is deprecated and will be removed in a future version.\n",
      "It is recommended to use pyarrow for on-the-wire transmission of pandas objects.\n",
      "  final_df.to_msgpack(output_path, compress='zlib')\n"
     ]
    },
    {
     "name": "stdout",
     "output_type": "stream",
     "text": [
      "/home/hanliu/project/mouse_rostral_brain/DMR/ITSpatial_by_layer/IT-L6/MotifScan.h5adtemp/MA0778.1.meme, N motif total=32561\n"
     ]
    },
    {
     "name": "stdout",
     "output_type": "stream",
     "text": [
      "/home/hanliu/project/mouse_rostral_brain/DMR/ITSpatial_by_layer/IT-L6/MotifScan.h5adtemp/MA1644.1.meme, N motif total=27096\n"
     ]
    },
    {
     "name": "stderr",
     "output_type": "stream",
     "text": [
      "/home/hanliu/miniconda3/envs/clustering/lib/python3.7/site-packages/ALLCools/dmr/fimo.py:60: FutureWarning: to_msgpack is deprecated and will be removed in a future version.\n",
      "It is recommended to use pyarrow for on-the-wire transmission of pandas objects.\n",
      "  final_df.to_msgpack(output_path, compress='zlib')\n"
     ]
    },
    {
     "name": "stderr",
     "output_type": "stream",
     "text": [
      "/home/hanliu/miniconda3/envs/clustering/lib/python3.7/site-packages/ALLCools/dmr/fimo.py:60: FutureWarning: to_msgpack is deprecated and will be removed in a future version.\n",
      "It is recommended to use pyarrow for on-the-wire transmission of pandas objects.\n",
      "  final_df.to_msgpack(output_path, compress='zlib')\n"
     ]
    },
    {
     "name": "stdout",
     "output_type": "stream",
     "text": [
      "/home/hanliu/project/mouse_rostral_brain/DMR/ITSpatial_by_layer/IT-L6/MotifScan.h5adtemp/MA0105.4.meme, N motif total=8577\n"
     ]
    },
    {
     "name": "stderr",
     "output_type": "stream",
     "text": [
      "/home/hanliu/miniconda3/envs/clustering/lib/python3.7/site-packages/ALLCools/dmr/fimo.py:60: FutureWarning: to_msgpack is deprecated and will be removed in a future version.\n",
      "It is recommended to use pyarrow for on-the-wire transmission of pandas objects.\n",
      "  final_df.to_msgpack(output_path, compress='zlib')\n"
     ]
    },
    {
     "name": "stdout",
     "output_type": "stream",
     "text": [
      "/home/hanliu/project/mouse_rostral_brain/DMR/ITSpatial_by_layer/IT-L6/MotifScan.h5adtemp/MA0048.2.meme, N motif total=82700\n"
     ]
    },
    {
     "name": "stderr",
     "output_type": "stream",
     "text": [
      "/home/hanliu/miniconda3/envs/clustering/lib/python3.7/site-packages/ALLCools/dmr/fimo.py:60: FutureWarning: to_msgpack is deprecated and will be removed in a future version.\n",
      "It is recommended to use pyarrow for on-the-wire transmission of pandas objects.\n",
      "  final_df.to_msgpack(output_path, compress='zlib')\n"
     ]
    },
    {
     "name": "stdout",
     "output_type": "stream",
     "text": [
      "Finish count 400 motifs.\n"
     ]
    },
    {
     "name": "stdout",
     "output_type": "stream",
     "text": [
      "/home/hanliu/project/mouse_rostral_brain/DMR/ITSpatial_by_layer/IT-L6/MotifScan.h5adtemp/MA1528.1.meme, N motif total=68945\n"
     ]
    },
    {
     "name": "stderr",
     "output_type": "stream",
     "text": [
      "/home/hanliu/miniconda3/envs/clustering/lib/python3.7/site-packages/ALLCools/dmr/fimo.py:60: FutureWarning: to_msgpack is deprecated and will be removed in a future version.\n",
      "It is recommended to use pyarrow for on-the-wire transmission of pandas objects.\n",
      "  final_df.to_msgpack(output_path, compress='zlib')\n"
     ]
    },
    {
     "name": "stdout",
     "output_type": "stream",
     "text": [
      "/home/hanliu/project/mouse_rostral_brain/DMR/ITSpatial_by_layer/IT-L6/MotifScan.h5adtemp/MA0672.1.meme, N motif total=34418\n"
     ]
    },
    {
     "name": "stderr",
     "output_type": "stream",
     "text": [
      "/home/hanliu/miniconda3/envs/clustering/lib/python3.7/site-packages/ALLCools/dmr/fimo.py:60: FutureWarning: to_msgpack is deprecated and will be removed in a future version.\n",
      "It is recommended to use pyarrow for on-the-wire transmission of pandas objects.\n",
      "  final_df.to_msgpack(output_path, compress='zlib')\n"
     ]
    },
    {
     "name": "stdout",
     "output_type": "stream",
     "text": [
      "/home/hanliu/project/mouse_rostral_brain/DMR/ITSpatial_by_layer/IT-L6/MotifScan.h5adtemp/MA1645.1.meme, N motif total=48377\n"
     ]
    },
    {
     "name": "stderr",
     "output_type": "stream",
     "text": [
      "/home/hanliu/miniconda3/envs/clustering/lib/python3.7/site-packages/ALLCools/dmr/fimo.py:60: FutureWarning: to_msgpack is deprecated and will be removed in a future version.\n",
      "It is recommended to use pyarrow for on-the-wire transmission of pandas objects.\n",
      "  final_df.to_msgpack(output_path, compress='zlib')\n"
     ]
    },
    {
     "name": "stdout",
     "output_type": "stream",
     "text": [
      "/home/hanliu/project/mouse_rostral_brain/DMR/ITSpatial_by_layer/IT-L6/MotifScan.h5adtemp/MA0063.2.meme, N motif total=31141\n"
     ]
    },
    {
     "name": "stderr",
     "output_type": "stream",
     "text": [
      "/home/hanliu/miniconda3/envs/clustering/lib/python3.7/site-packages/ALLCools/dmr/fimo.py:60: FutureWarning: to_msgpack is deprecated and will be removed in a future version.\n",
      "It is recommended to use pyarrow for on-the-wire transmission of pandas objects.\n",
      "  final_df.to_msgpack(output_path, compress='zlib')\n"
     ]
    },
    {
     "name": "stdout",
     "output_type": "stream",
     "text": [
      "/home/hanliu/project/mouse_rostral_brain/DMR/ITSpatial_by_layer/IT-L6/MotifScan.h5adtemp/MA0673.1.meme, N motif total=31091\n"
     ]
    },
    {
     "name": "stderr",
     "output_type": "stream",
     "text": [
      "/home/hanliu/miniconda3/envs/clustering/lib/python3.7/site-packages/ALLCools/dmr/fimo.py:60: FutureWarning: to_msgpack is deprecated and will be removed in a future version.\n",
      "It is recommended to use pyarrow for on-the-wire transmission of pandas objects.\n",
      "  final_df.to_msgpack(output_path, compress='zlib')\n"
     ]
    },
    {
     "name": "stdout",
     "output_type": "stream",
     "text": [
      "/home/hanliu/project/mouse_rostral_brain/DMR/ITSpatial_by_layer/IT-L6/MotifScan.h5adtemp/MA0674.1.meme, N motif total=21381\n"
     ]
    },
    {
     "name": "stderr",
     "output_type": "stream",
     "text": [
      "/home/hanliu/miniconda3/envs/clustering/lib/python3.7/site-packages/ALLCools/dmr/fimo.py:60: FutureWarning: to_msgpack is deprecated and will be removed in a future version.\n",
      "It is recommended to use pyarrow for on-the-wire transmission of pandas objects.\n",
      "  final_df.to_msgpack(output_path, compress='zlib')\n"
     ]
    },
    {
     "name": "stdout",
     "output_type": "stream",
     "text": [
      "/home/hanliu/project/mouse_rostral_brain/DMR/ITSpatial_by_layer/IT-L6/MotifScan.h5adtemp/MA0125.1.meme, N motif total=13964\n"
     ]
    },
    {
     "name": "stderr",
     "output_type": "stream",
     "text": [
      "/home/hanliu/miniconda3/envs/clustering/lib/python3.7/site-packages/ALLCools/dmr/fimo.py:60: FutureWarning: to_msgpack is deprecated and will be removed in a future version.\n",
      "It is recommended to use pyarrow for on-the-wire transmission of pandas objects.\n",
      "  final_df.to_msgpack(output_path, compress='zlib')\n"
     ]
    },
    {
     "name": "stdout",
     "output_type": "stream",
     "text": [
      "/home/hanliu/project/mouse_rostral_brain/DMR/ITSpatial_by_layer/IT-L6/MotifScan.h5adtemp/MA0124.2.meme, N motif total=25836\n"
     ]
    },
    {
     "name": "stderr",
     "output_type": "stream",
     "text": [
      "/home/hanliu/miniconda3/envs/clustering/lib/python3.7/site-packages/ALLCools/dmr/fimo.py:60: FutureWarning: to_msgpack is deprecated and will be removed in a future version.\n",
      "It is recommended to use pyarrow for on-the-wire transmission of pandas objects.\n",
      "  final_df.to_msgpack(output_path, compress='zlib')\n"
     ]
    },
    {
     "name": "stdout",
     "output_type": "stream",
     "text": [
      "/home/hanliu/project/mouse_rostral_brain/DMR/ITSpatial_by_layer/IT-L6/MotifScan.h5adtemp/MA0675.1.meme, N motif total=21546\n"
     ]
    },
    {
     "name": "stderr",
     "output_type": "stream",
     "text": [
      "/home/hanliu/miniconda3/envs/clustering/lib/python3.7/site-packages/ALLCools/dmr/fimo.py:60: FutureWarning: to_msgpack is deprecated and will be removed in a future version.\n",
      "It is recommended to use pyarrow for on-the-wire transmission of pandas objects.\n",
      "  final_df.to_msgpack(output_path, compress='zlib')\n"
     ]
    },
    {
     "name": "stdout",
     "output_type": "stream",
     "text": [
      "/home/hanliu/project/mouse_rostral_brain/DMR/ITSpatial_by_layer/IT-L6/MotifScan.h5adtemp/MA1529.1.meme, N motif total=66181\n"
     ]
    },
    {
     "name": "stderr",
     "output_type": "stream",
     "text": [
      "/home/hanliu/miniconda3/envs/clustering/lib/python3.7/site-packages/ALLCools/dmr/fimo.py:60: FutureWarning: to_msgpack is deprecated and will be removed in a future version.\n",
      "It is recommended to use pyarrow for on-the-wire transmission of pandas objects.\n",
      "  final_df.to_msgpack(output_path, compress='zlib')\n"
     ]
    },
    {
     "name": "stdout",
     "output_type": "stream",
     "text": [
      "/home/hanliu/project/mouse_rostral_brain/DMR/ITSpatial_by_layer/IT-L6/MotifScan.h5adtemp/MA0503.1.meme, N motif total=54593\n"
     ]
    },
    {
     "name": "stderr",
     "output_type": "stream",
     "text": [
      "/home/hanliu/miniconda3/envs/clustering/lib/python3.7/site-packages/ALLCools/dmr/fimo.py:60: FutureWarning: to_msgpack is deprecated and will be removed in a future version.\n",
      "It is recommended to use pyarrow for on-the-wire transmission of pandas objects.\n",
      "  final_df.to_msgpack(output_path, compress='zlib')\n"
     ]
    },
    {
     "name": "stdout",
     "output_type": "stream",
     "text": [
      "/home/hanliu/project/mouse_rostral_brain/DMR/ITSpatial_by_layer/IT-L6/MotifScan.h5adtemp/MA1530.1.meme, N motif total=19274\n"
     ]
    },
    {
     "name": "stderr",
     "output_type": "stream",
     "text": [
      "/home/hanliu/miniconda3/envs/clustering/lib/python3.7/site-packages/ALLCools/dmr/fimo.py:60: FutureWarning: to_msgpack is deprecated and will be removed in a future version.\n",
      "It is recommended to use pyarrow for on-the-wire transmission of pandas objects.\n",
      "  final_df.to_msgpack(output_path, compress='zlib')\n"
     ]
    },
    {
     "name": "stdout",
     "output_type": "stream",
     "text": [
      "/home/hanliu/project/mouse_rostral_brain/DMR/ITSpatial_by_layer/IT-L6/MotifScan.h5adtemp/MA0122.3.meme, N motif total=27319\n"
     ]
    },
    {
     "name": "stderr",
     "output_type": "stream",
     "text": [
      "/home/hanliu/miniconda3/envs/clustering/lib/python3.7/site-packages/ALLCools/dmr/fimo.py:60: FutureWarning: to_msgpack is deprecated and will be removed in a future version.\n",
      "It is recommended to use pyarrow for on-the-wire transmission of pandas objects.\n",
      "  final_df.to_msgpack(output_path, compress='zlib')\n"
     ]
    },
    {
     "name": "stdout",
     "output_type": "stream",
     "text": [
      "/home/hanliu/project/mouse_rostral_brain/DMR/ITSpatial_by_layer/IT-L6/MotifScan.h5adtemp/MA0710.1.meme, N motif total=18722\n"
     ]
    },
    {
     "name": "stderr",
     "output_type": "stream",
     "text": [
      "/home/hanliu/miniconda3/envs/clustering/lib/python3.7/site-packages/ALLCools/dmr/fimo.py:60: FutureWarning: to_msgpack is deprecated and will be removed in a future version.\n",
      "It is recommended to use pyarrow for on-the-wire transmission of pandas objects.\n",
      "  final_df.to_msgpack(output_path, compress='zlib')\n"
     ]
    },
    {
     "name": "stdout",
     "output_type": "stream",
     "text": [
      "/home/hanliu/project/mouse_rostral_brain/DMR/ITSpatial_by_layer/IT-L6/MotifScan.h5adtemp/MA0626.1.meme, N motif total=28081\n"
     ]
    },
    {
     "name": "stderr",
     "output_type": "stream",
     "text": [
      "/home/hanliu/miniconda3/envs/clustering/lib/python3.7/site-packages/ALLCools/dmr/fimo.py:60: FutureWarning: to_msgpack is deprecated and will be removed in a future version.\n",
      "It is recommended to use pyarrow for on-the-wire transmission of pandas objects.\n",
      "  final_df.to_msgpack(output_path, compress='zlib')\n"
     ]
    },
    {
     "name": "stdout",
     "output_type": "stream",
     "text": [
      "/home/hanliu/project/mouse_rostral_brain/DMR/ITSpatial_by_layer/IT-L6/MotifScan.h5adtemp/MA1534.1.meme, N motif total=28161\n"
     ]
    },
    {
     "name": "stderr",
     "output_type": "stream",
     "text": [
      "/home/hanliu/miniconda3/envs/clustering/lib/python3.7/site-packages/ALLCools/dmr/fimo.py:60: FutureWarning: to_msgpack is deprecated and will be removed in a future version.\n",
      "It is recommended to use pyarrow for on-the-wire transmission of pandas objects.\n",
      "  final_df.to_msgpack(output_path, compress='zlib')\n"
     ]
    },
    {
     "name": "stdout",
     "output_type": "stream",
     "text": [
      "/home/hanliu/project/mouse_rostral_brain/DMR/ITSpatial_by_layer/IT-L6/MotifScan.h5adtemp/MA1110.1.meme, N motif total=25783\n"
     ]
    },
    {
     "name": "stderr",
     "output_type": "stream",
     "text": [
      "/home/hanliu/miniconda3/envs/clustering/lib/python3.7/site-packages/ALLCools/dmr/fimo.py:60: FutureWarning: to_msgpack is deprecated and will be removed in a future version.\n",
      "It is recommended to use pyarrow for on-the-wire transmission of pandas objects.\n",
      "  final_df.to_msgpack(output_path, compress='zlib')\n"
     ]
    },
    {
     "name": "stdout",
     "output_type": "stream",
     "text": [
      "/home/hanliu/project/mouse_rostral_brain/DMR/ITSpatial_by_layer/IT-L6/MotifScan.h5adtemp/MA1535.1.meme, N motif total=37237\n"
     ]
    },
    {
     "name": "stderr",
     "output_type": "stream",
     "text": [
      "/home/hanliu/miniconda3/envs/clustering/lib/python3.7/site-packages/ALLCools/dmr/fimo.py:60: FutureWarning: to_msgpack is deprecated and will be removed in a future version.\n",
      "It is recommended to use pyarrow for on-the-wire transmission of pandas objects.\n",
      "  final_df.to_msgpack(output_path, compress='zlib')\n"
     ]
    },
    {
     "name": "stdout",
     "output_type": "stream",
     "text": [
      "/home/hanliu/project/mouse_rostral_brain/DMR/ITSpatial_by_layer/IT-L6/MotifScan.h5adtemp/MA1536.1.meme, N motif total=22653\n"
     ]
    },
    {
     "name": "stderr",
     "output_type": "stream",
     "text": [
      "/home/hanliu/miniconda3/envs/clustering/lib/python3.7/site-packages/ALLCools/dmr/fimo.py:60: FutureWarning: to_msgpack is deprecated and will be removed in a future version.\n",
      "It is recommended to use pyarrow for on-the-wire transmission of pandas objects.\n",
      "  final_df.to_msgpack(output_path, compress='zlib')\n"
     ]
    },
    {
     "name": "stdout",
     "output_type": "stream",
     "text": [
      "/home/hanliu/project/mouse_rostral_brain/DMR/ITSpatial_by_layer/IT-L6/MotifScan.h5adtemp/MA0164.1.meme, N motif total=25113\n"
     ]
    },
    {
     "name": "stderr",
     "output_type": "stream",
     "text": [
      "/home/hanliu/miniconda3/envs/clustering/lib/python3.7/site-packages/ALLCools/dmr/fimo.py:60: FutureWarning: to_msgpack is deprecated and will be removed in a future version.\n",
      "It is recommended to use pyarrow for on-the-wire transmission of pandas objects.\n",
      "  final_df.to_msgpack(output_path, compress='zlib')\n"
     ]
    },
    {
     "name": "stdout",
     "output_type": "stream",
     "text": [
      "/home/hanliu/project/mouse_rostral_brain/DMR/ITSpatial_by_layer/IT-L6/MotifScan.h5adtemp/MA1531.1.meme, N motif total=24973\n"
     ]
    },
    {
     "name": "stderr",
     "output_type": "stream",
     "text": [
      "/home/hanliu/miniconda3/envs/clustering/lib/python3.7/site-packages/ALLCools/dmr/fimo.py:60: FutureWarning: to_msgpack is deprecated and will be removed in a future version.\n",
      "It is recommended to use pyarrow for on-the-wire transmission of pandas objects.\n",
      "  final_df.to_msgpack(output_path, compress='zlib')\n"
     ]
    },
    {
     "name": "stdout",
     "output_type": "stream",
     "text": [
      "/home/hanliu/project/mouse_rostral_brain/DMR/ITSpatial_by_layer/IT-L6/MotifScan.h5adtemp/MA1532.1.meme, N motif total=33506\n"
     ]
    },
    {
     "name": "stderr",
     "output_type": "stream",
     "text": [
      "/home/hanliu/miniconda3/envs/clustering/lib/python3.7/site-packages/ALLCools/dmr/fimo.py:60: FutureWarning: to_msgpack is deprecated and will be removed in a future version.\n",
      "It is recommended to use pyarrow for on-the-wire transmission of pandas objects.\n",
      "  final_df.to_msgpack(output_path, compress='zlib')\n"
     ]
    },
    {
     "name": "stdout",
     "output_type": "stream",
     "text": [
      "/home/hanliu/project/mouse_rostral_brain/DMR/ITSpatial_by_layer/IT-L6/MotifScan.h5adtemp/MA1146.1.meme, N motif total=22428\n"
     ]
    },
    {
     "name": "stderr",
     "output_type": "stream",
     "text": [
      "/home/hanliu/miniconda3/envs/clustering/lib/python3.7/site-packages/ALLCools/dmr/fimo.py:60: FutureWarning: to_msgpack is deprecated and will be removed in a future version.\n",
      "It is recommended to use pyarrow for on-the-wire transmission of pandas objects.\n",
      "  final_df.to_msgpack(output_path, compress='zlib')\n"
     ]
    },
    {
     "name": "stdout",
     "output_type": "stream",
     "text": [
      "/home/hanliu/project/mouse_rostral_brain/DMR/ITSpatial_by_layer/IT-L6/MotifScan.h5adtemp/MA0115.1.meme, N motif total=2040\n"
     ]
    },
    {
     "name": "stderr",
     "output_type": "stream",
     "text": [
      "/home/hanliu/miniconda3/envs/clustering/lib/python3.7/site-packages/ALLCools/dmr/fimo.py:60: FutureWarning: to_msgpack is deprecated and will be removed in a future version.\n",
      "It is recommended to use pyarrow for on-the-wire transmission of pandas objects.\n",
      "  final_df.to_msgpack(output_path, compress='zlib')\n"
     ]
    },
    {
     "name": "stdout",
     "output_type": "stream",
     "text": [
      "/home/hanliu/project/mouse_rostral_brain/DMR/ITSpatial_by_layer/IT-L6/MotifScan.h5adtemp/MA0676.1.meme, N motif total=36983\n"
     ]
    },
    {
     "name": "stderr",
     "output_type": "stream",
     "text": [
      "/home/hanliu/miniconda3/envs/clustering/lib/python3.7/site-packages/ALLCools/dmr/fimo.py:60: FutureWarning: to_msgpack is deprecated and will be removed in a future version.\n",
      "It is recommended to use pyarrow for on-the-wire transmission of pandas objects.\n",
      "  final_df.to_msgpack(output_path, compress='zlib')\n"
     ]
    },
    {
     "name": "stdout",
     "output_type": "stream",
     "text": [
      "/home/hanliu/project/mouse_rostral_brain/DMR/ITSpatial_by_layer/IT-L6/MotifScan.h5adtemp/MA0504.1.meme, N motif total=71955\n"
     ]
    },
    {
     "name": "stderr",
     "output_type": "stream",
     "text": [
      "/home/hanliu/miniconda3/envs/clustering/lib/python3.7/site-packages/ALLCools/dmr/fimo.py:60: FutureWarning: to_msgpack is deprecated and will be removed in a future version.\n",
      "It is recommended to use pyarrow for on-the-wire transmission of pandas objects.\n",
      "  final_df.to_msgpack(output_path, compress='zlib')\n"
     ]
    },
    {
     "name": "stdout",
     "output_type": "stream",
     "text": [
      "/home/hanliu/project/mouse_rostral_brain/DMR/ITSpatial_by_layer/IT-L6/MotifScan.h5adtemp/MA1533.1.meme, N motif total=22203\n"
     ]
    },
    {
     "name": "stderr",
     "output_type": "stream",
     "text": [
      "/home/hanliu/miniconda3/envs/clustering/lib/python3.7/site-packages/ALLCools/dmr/fimo.py:60: FutureWarning: to_msgpack is deprecated and will be removed in a future version.\n",
      "It is recommended to use pyarrow for on-the-wire transmission of pandas objects.\n",
      "  final_df.to_msgpack(output_path, compress='zlib')\n"
     ]
    },
    {
     "name": "stdout",
     "output_type": "stream",
     "text": [
      "/home/hanliu/project/mouse_rostral_brain/DMR/ITSpatial_by_layer/IT-L6/MotifScan.h5adtemp/MA0017.2.meme, N motif total=39967\n"
     ]
    },
    {
     "name": "stderr",
     "output_type": "stream",
     "text": [
      "/home/hanliu/miniconda3/envs/clustering/lib/python3.7/site-packages/ALLCools/dmr/fimo.py:60: FutureWarning: to_msgpack is deprecated and will be removed in a future version.\n",
      "It is recommended to use pyarrow for on-the-wire transmission of pandas objects.\n",
      "  final_df.to_msgpack(output_path, compress='zlib')\n"
     ]
    },
    {
     "name": "stdout",
     "output_type": "stream",
     "text": [
      "/home/hanliu/project/mouse_rostral_brain/DMR/ITSpatial_by_layer/IT-L6/MotifScan.h5adtemp/MA0494.1.meme, N motif total=35560\n"
     ]
    },
    {
     "name": "stderr",
     "output_type": "stream",
     "text": [
      "/home/hanliu/miniconda3/envs/clustering/lib/python3.7/site-packages/ALLCools/dmr/fimo.py:60: FutureWarning: to_msgpack is deprecated and will be removed in a future version.\n",
      "It is recommended to use pyarrow for on-the-wire transmission of pandas objects.\n",
      "  final_df.to_msgpack(output_path, compress='zlib')\n"
     ]
    },
    {
     "name": "stdout",
     "output_type": "stream",
     "text": [
      "/home/hanliu/project/mouse_rostral_brain/DMR/ITSpatial_by_layer/IT-L6/MotifScan.h5adtemp/MA1537.1.meme, N motif total=28822\n"
     ]
    },
    {
     "name": "stderr",
     "output_type": "stream",
     "text": [
      "/home/hanliu/miniconda3/envs/clustering/lib/python3.7/site-packages/ALLCools/dmr/fimo.py:60: FutureWarning: to_msgpack is deprecated and will be removed in a future version.\n",
      "It is recommended to use pyarrow for on-the-wire transmission of pandas objects.\n",
      "  final_df.to_msgpack(output_path, compress='zlib')\n"
     ]
    },
    {
     "name": "stdout",
     "output_type": "stream",
     "text": [
      "/home/hanliu/project/mouse_rostral_brain/DMR/ITSpatial_by_layer/IT-L6/MotifScan.h5adtemp/MA1111.1.meme, N motif total=36039\n"
     ]
    },
    {
     "name": "stderr",
     "output_type": "stream",
     "text": [
      "/home/hanliu/miniconda3/envs/clustering/lib/python3.7/site-packages/ALLCools/dmr/fimo.py:60: FutureWarning: to_msgpack is deprecated and will be removed in a future version.\n",
      "It is recommended to use pyarrow for on-the-wire transmission of pandas objects.\n",
      "  final_df.to_msgpack(output_path, compress='zlib')\n"
     ]
    },
    {
     "name": "stdout",
     "output_type": "stream",
     "text": [
      "/home/hanliu/project/mouse_rostral_brain/DMR/ITSpatial_by_layer/IT-L6/MotifScan.h5adtemp/MA1538.1.meme, N motif total=24865\n"
     ]
    },
    {
     "name": "stderr",
     "output_type": "stream",
     "text": [
      "/home/hanliu/miniconda3/envs/clustering/lib/python3.7/site-packages/ALLCools/dmr/fimo.py:60: FutureWarning: to_msgpack is deprecated and will be removed in a future version.\n",
      "It is recommended to use pyarrow for on-the-wire transmission of pandas objects.\n",
      "  final_df.to_msgpack(output_path, compress='zlib')\n"
     ]
    },
    {
     "name": "stdout",
     "output_type": "stream",
     "text": [
      "/home/hanliu/project/mouse_rostral_brain/DMR/ITSpatial_by_layer/IT-L6/MotifScan.h5adtemp/MA0160.1.meme, N motif total=35597\n"
     ]
    },
    {
     "name": "stderr",
     "output_type": "stream",
     "text": [
      "/home/hanliu/miniconda3/envs/clustering/lib/python3.7/site-packages/ALLCools/dmr/fimo.py:60: FutureWarning: to_msgpack is deprecated and will be removed in a future version.\n",
      "It is recommended to use pyarrow for on-the-wire transmission of pandas objects.\n",
      "  final_df.to_msgpack(output_path, compress='zlib')\n"
     ]
    },
    {
     "name": "stdout",
     "output_type": "stream",
     "text": [
      "/home/hanliu/project/mouse_rostral_brain/DMR/ITSpatial_by_layer/IT-L6/MotifScan.h5adtemp/MA0677.1.meme, N motif total=39658\n"
     ]
    },
    {
     "name": "stderr",
     "output_type": "stream",
     "text": [
      "/home/hanliu/miniconda3/envs/clustering/lib/python3.7/site-packages/ALLCools/dmr/fimo.py:60: FutureWarning: to_msgpack is deprecated and will be removed in a future version.\n",
      "It is recommended to use pyarrow for on-the-wire transmission of pandas objects.\n",
      "  final_df.to_msgpack(output_path, compress='zlib')\n"
     ]
    },
    {
     "name": "stdout",
     "output_type": "stream",
     "text": [
      "/home/hanliu/project/mouse_rostral_brain/DMR/ITSpatial_by_layer/IT-L6/MotifScan.h5adtemp/MA1112.2.meme, N motif total=47808\n"
     ]
    },
    {
     "name": "stderr",
     "output_type": "stream",
     "text": [
      "/home/hanliu/miniconda3/envs/clustering/lib/python3.7/site-packages/ALLCools/dmr/fimo.py:60: FutureWarning: to_msgpack is deprecated and will be removed in a future version.\n",
      "It is recommended to use pyarrow for on-the-wire transmission of pandas objects.\n",
      "  final_df.to_msgpack(output_path, compress='zlib')\n"
     ]
    },
    {
     "name": "stdout",
     "output_type": "stream",
     "text": [
      "/home/hanliu/project/mouse_rostral_brain/DMR/ITSpatial_by_layer/IT-L6/MotifScan.h5adtemp/MA0728.1.meme, N motif total=4535\n"
     ]
    },
    {
     "name": "stderr",
     "output_type": "stream",
     "text": [
      "/home/hanliu/miniconda3/envs/clustering/lib/python3.7/site-packages/ALLCools/dmr/fimo.py:60: FutureWarning: to_msgpack is deprecated and will be removed in a future version.\n",
      "It is recommended to use pyarrow for on-the-wire transmission of pandas objects.\n",
      "  final_df.to_msgpack(output_path, compress='zlib')\n"
     ]
    },
    {
     "name": "stdout",
     "output_type": "stream",
     "text": [
      "/home/hanliu/project/mouse_rostral_brain/DMR/ITSpatial_by_layer/IT-L6/MotifScan.h5adtemp/MA1540.1.meme, N motif total=43444\n"
     ]
    },
    {
     "name": "stderr",
     "output_type": "stream",
     "text": [
      "/home/hanliu/miniconda3/envs/clustering/lib/python3.7/site-packages/ALLCools/dmr/fimo.py:60: FutureWarning: to_msgpack is deprecated and will be removed in a future version.\n",
      "It is recommended to use pyarrow for on-the-wire transmission of pandas objects.\n",
      "  final_df.to_msgpack(output_path, compress='zlib')\n"
     ]
    },
    {
     "name": "stdout",
     "output_type": "stream",
     "text": [
      "/home/hanliu/project/mouse_rostral_brain/DMR/ITSpatial_by_layer/IT-L6/MotifScan.h5adtemp/MA1539.1.meme, N motif total=16045\n"
     ]
    },
    {
     "name": "stderr",
     "output_type": "stream",
     "text": [
      "/home/hanliu/miniconda3/envs/clustering/lib/python3.7/site-packages/ALLCools/dmr/fimo.py:60: FutureWarning: to_msgpack is deprecated and will be removed in a future version.\n",
      "It is recommended to use pyarrow for on-the-wire transmission of pandas objects.\n",
      "  final_df.to_msgpack(output_path, compress='zlib')\n"
     ]
    },
    {
     "name": "stdout",
     "output_type": "stream",
     "text": [
      "/home/hanliu/project/mouse_rostral_brain/DMR/ITSpatial_by_layer/IT-L6/MotifScan.h5adtemp/MA0113.3.meme, N motif total=19299\n"
     ]
    },
    {
     "name": "stderr",
     "output_type": "stream",
     "text": [
      "/home/hanliu/miniconda3/envs/clustering/lib/python3.7/site-packages/ALLCools/dmr/fimo.py:60: FutureWarning: to_msgpack is deprecated and will be removed in a future version.\n",
      "It is recommended to use pyarrow for on-the-wire transmission of pandas objects.\n",
      "  final_df.to_msgpack(output_path, compress='zlib')\n"
     ]
    },
    {
     "name": "stdout",
     "output_type": "stream",
     "text": [
      "/home/hanliu/project/mouse_rostral_brain/DMR/ITSpatial_by_layer/IT-L6/MotifScan.h5adtemp/MA0727.1.meme, N motif total=18178\n"
     ]
    },
    {
     "name": "stderr",
     "output_type": "stream",
     "text": [
      "/home/hanliu/miniconda3/envs/clustering/lib/python3.7/site-packages/ALLCools/dmr/fimo.py:60: FutureWarning: to_msgpack is deprecated and will be removed in a future version.\n",
      "It is recommended to use pyarrow for on-the-wire transmission of pandas objects.\n",
      "  final_df.to_msgpack(output_path, compress='zlib')\n"
     ]
    },
    {
     "name": "stdout",
     "output_type": "stream",
     "text": [
      "/home/hanliu/project/mouse_rostral_brain/DMR/ITSpatial_by_layer/IT-L6/MotifScan.h5adtemp/MA0505.1.meme, N motif total=66306\n"
     ]
    },
    {
     "name": "stderr",
     "output_type": "stream",
     "text": [
      "/home/hanliu/miniconda3/envs/clustering/lib/python3.7/site-packages/ALLCools/dmr/fimo.py:60: FutureWarning: to_msgpack is deprecated and will be removed in a future version.\n",
      "It is recommended to use pyarrow for on-the-wire transmission of pandas objects.\n",
      "  final_df.to_msgpack(output_path, compress='zlib')\n"
     ]
    },
    {
     "name": "stdout",
     "output_type": "stream",
     "text": [
      "/home/hanliu/project/mouse_rostral_brain/DMR/ITSpatial_by_layer/IT-L6/MotifScan.h5adtemp/MA1147.1.meme, N motif total=20835\n"
     ]
    },
    {
     "name": "stderr",
     "output_type": "stream",
     "text": [
      "/home/hanliu/miniconda3/envs/clustering/lib/python3.7/site-packages/ALLCools/dmr/fimo.py:60: FutureWarning: to_msgpack is deprecated and will be removed in a future version.\n",
      "It is recommended to use pyarrow for on-the-wire transmission of pandas objects.\n",
      "  final_df.to_msgpack(output_path, compress='zlib')\n"
     ]
    },
    {
     "name": "stdout",
     "output_type": "stream",
     "text": [
      "/home/hanliu/project/mouse_rostral_brain/DMR/ITSpatial_by_layer/IT-L6/MotifScan.h5adtemp/MA0506.1.meme, N motif total=22133\n"
     ]
    },
    {
     "name": "stderr",
     "output_type": "stream",
     "text": [
      "/home/hanliu/miniconda3/envs/clustering/lib/python3.7/site-packages/ALLCools/dmr/fimo.py:60: FutureWarning: to_msgpack is deprecated and will be removed in a future version.\n",
      "It is recommended to use pyarrow for on-the-wire transmission of pandas objects.\n",
      "  final_df.to_msgpack(output_path, compress='zlib')\n"
     ]
    },
    {
     "name": "stdout",
     "output_type": "stream",
     "text": [
      "/home/hanliu/project/mouse_rostral_brain/DMR/ITSpatial_by_layer/IT-L6/MotifScan.h5adtemp/MA0826.1.meme, N motif total=34069\n"
     ]
    },
    {
     "name": "stderr",
     "output_type": "stream",
     "text": [
      "/home/hanliu/miniconda3/envs/clustering/lib/python3.7/site-packages/ALLCools/dmr/fimo.py:60: FutureWarning: to_msgpack is deprecated and will be removed in a future version.\n",
      "It is recommended to use pyarrow for on-the-wire transmission of pandas objects.\n",
      "  final_df.to_msgpack(output_path, compress='zlib')\n"
     ]
    },
    {
     "name": "stdout",
     "output_type": "stream",
     "text": [
      "/home/hanliu/project/mouse_rostral_brain/DMR/ITSpatial_by_layer/IT-L6/MotifScan.h5adtemp/MA0678.1.meme, N motif total=32028\n"
     ]
    },
    {
     "name": "stderr",
     "output_type": "stream",
     "text": [
      "/home/hanliu/miniconda3/envs/clustering/lib/python3.7/site-packages/ALLCools/dmr/fimo.py:60: FutureWarning: to_msgpack is deprecated and will be removed in a future version.\n",
      "It is recommended to use pyarrow for on-the-wire transmission of pandas objects.\n",
      "  final_df.to_msgpack(output_path, compress='zlib')\n"
     ]
    },
    {
     "name": "stdout",
     "output_type": "stream",
     "text": [
      "/home/hanliu/project/mouse_rostral_brain/DMR/ITSpatial_by_layer/IT-L6/MotifScan.h5adtemp/MA0827.1.meme, N motif total=34746\n"
     ]
    },
    {
     "name": "stderr",
     "output_type": "stream",
     "text": [
      "/home/hanliu/miniconda3/envs/clustering/lib/python3.7/site-packages/ALLCools/dmr/fimo.py:60: FutureWarning: to_msgpack is deprecated and will be removed in a future version.\n",
      "It is recommended to use pyarrow for on-the-wire transmission of pandas objects.\n",
      "  final_df.to_msgpack(output_path, compress='zlib')\n"
     ]
    },
    {
     "name": "stdout",
     "output_type": "stream",
     "text": [
      "/home/hanliu/project/mouse_rostral_brain/DMR/ITSpatial_by_layer/IT-L6/MotifScan.h5adtemp/MA1541.1.meme, N motif total=39576\n"
     ]
    },
    {
     "name": "stderr",
     "output_type": "stream",
     "text": [
      "/home/hanliu/miniconda3/envs/clustering/lib/python3.7/site-packages/ALLCools/dmr/fimo.py:60: FutureWarning: to_msgpack is deprecated and will be removed in a future version.\n",
      "It is recommended to use pyarrow for on-the-wire transmission of pandas objects.\n",
      "  final_df.to_msgpack(output_path, compress='zlib')\n"
     ]
    },
    {
     "name": "stdout",
     "output_type": "stream",
     "text": [
      "/home/hanliu/project/mouse_rostral_brain/DMR/ITSpatial_by_layer/IT-L6/MotifScan.h5adtemp/MA0842.2.meme, N motif total=31524\n"
     ]
    },
    {
     "name": "stderr",
     "output_type": "stream",
     "text": [
      "/home/hanliu/miniconda3/envs/clustering/lib/python3.7/site-packages/ALLCools/dmr/fimo.py:60: FutureWarning: to_msgpack is deprecated and will be removed in a future version.\n",
      "It is recommended to use pyarrow for on-the-wire transmission of pandas objects.\n",
      "  final_df.to_msgpack(output_path, compress='zlib')\n"
     ]
    },
    {
     "name": "stdout",
     "output_type": "stream",
     "text": [
      "/home/hanliu/project/mouse_rostral_brain/DMR/ITSpatial_by_layer/IT-L6/MotifScan.h5adtemp/MA1542.1.meme, N motif total=27349\n"
     ]
    },
    {
     "name": "stderr",
     "output_type": "stream",
     "text": [
      "/home/hanliu/miniconda3/envs/clustering/lib/python3.7/site-packages/ALLCools/dmr/fimo.py:60: FutureWarning: to_msgpack is deprecated and will be removed in a future version.\n",
      "It is recommended to use pyarrow for on-the-wire transmission of pandas objects.\n",
      "  final_df.to_msgpack(output_path, compress='zlib')\n"
     ]
    },
    {
     "name": "stdout",
     "output_type": "stream",
     "text": [
      "/home/hanliu/project/mouse_rostral_brain/DMR/ITSpatial_by_layer/IT-L6/MotifScan.h5adtemp/MA0711.1.meme, N motif total=14059\n"
     ]
    },
    {
     "name": "stderr",
     "output_type": "stream",
     "text": [
      "/home/hanliu/miniconda3/envs/clustering/lib/python3.7/site-packages/ALLCools/dmr/fimo.py:60: FutureWarning: to_msgpack is deprecated and will be removed in a future version.\n",
      "It is recommended to use pyarrow for on-the-wire transmission of pandas objects.\n",
      "  final_df.to_msgpack(output_path, compress='zlib')\n"
     ]
    },
    {
     "name": "stdout",
     "output_type": "stream",
     "text": [
      "/home/hanliu/project/mouse_rostral_brain/DMR/ITSpatial_by_layer/IT-L6/MotifScan.h5adtemp/MA1646.1.meme, N motif total=80276\n"
     ]
    },
    {
     "name": "stderr",
     "output_type": "stream",
     "text": [
      "/home/hanliu/miniconda3/envs/clustering/lib/python3.7/site-packages/ALLCools/dmr/fimo.py:60: FutureWarning: to_msgpack is deprecated and will be removed in a future version.\n",
      "It is recommended to use pyarrow for on-the-wire transmission of pandas objects.\n",
      "  final_df.to_msgpack(output_path, compress='zlib')\n"
     ]
    },
    {
     "name": "stdout",
     "output_type": "stream",
     "text": [
      "/home/hanliu/project/mouse_rostral_brain/DMR/ITSpatial_by_layer/IT-L6/MotifScan.h5adtemp/MA0756.1.meme, N motif total=17750\n"
     ]
    },
    {
     "name": "stderr",
     "output_type": "stream",
     "text": [
      "/home/hanliu/miniconda3/envs/clustering/lib/python3.7/site-packages/ALLCools/dmr/fimo.py:60: FutureWarning: to_msgpack is deprecated and will be removed in a future version.\n",
      "It is recommended to use pyarrow for on-the-wire transmission of pandas objects.\n",
      "  final_df.to_msgpack(output_path, compress='zlib')\n"
     ]
    },
    {
     "name": "stdout",
     "output_type": "stream",
     "text": [
      "/home/hanliu/project/mouse_rostral_brain/DMR/ITSpatial_by_layer/IT-L6/MotifScan.h5adtemp/MA0757.1.meme, N motif total=32158\n"
     ]
    },
    {
     "name": "stderr",
     "output_type": "stream",
     "text": [
      "/home/hanliu/miniconda3/envs/clustering/lib/python3.7/site-packages/ALLCools/dmr/fimo.py:60: FutureWarning: to_msgpack is deprecated and will be removed in a future version.\n",
      "It is recommended to use pyarrow for on-the-wire transmission of pandas objects.\n",
      "  final_df.to_msgpack(output_path, compress='zlib')\n"
     ]
    },
    {
     "name": "stdout",
     "output_type": "stream",
     "text": [
      "/home/hanliu/project/mouse_rostral_brain/DMR/ITSpatial_by_layer/IT-L6/MotifScan.h5adtemp/MA0679.2.meme, N motif total=41567\n"
     ]
    },
    {
     "name": "stderr",
     "output_type": "stream",
     "text": [
      "/home/hanliu/miniconda3/envs/clustering/lib/python3.7/site-packages/ALLCools/dmr/fimo.py:60: FutureWarning: to_msgpack is deprecated and will be removed in a future version.\n",
      "It is recommended to use pyarrow for on-the-wire transmission of pandas objects.\n",
      "  final_df.to_msgpack(output_path, compress='zlib')\n"
     ]
    },
    {
     "name": "stdout",
     "output_type": "stream",
     "text": [
      "/home/hanliu/project/mouse_rostral_brain/DMR/ITSpatial_by_layer/IT-L6/MotifScan.h5adtemp/MA0067.1.meme, N motif total=9273\n"
     ]
    },
    {
     "name": "stderr",
     "output_type": "stream",
     "text": [
      "/home/hanliu/miniconda3/envs/clustering/lib/python3.7/site-packages/ALLCools/dmr/fimo.py:60: FutureWarning: to_msgpack is deprecated and will be removed in a future version.\n",
      "It is recommended to use pyarrow for on-the-wire transmission of pandas objects.\n",
      "  final_df.to_msgpack(output_path, compress='zlib')\n"
     ]
    },
    {
     "name": "stdout",
     "output_type": "stream",
     "text": [
      "/home/hanliu/project/mouse_rostral_brain/DMR/ITSpatial_by_layer/IT-L6/MotifScan.h5adtemp/MA0712.2.meme, N motif total=28887\n"
     ]
    },
    {
     "name": "stderr",
     "output_type": "stream",
     "text": [
      "/home/hanliu/miniconda3/envs/clustering/lib/python3.7/site-packages/ALLCools/dmr/fimo.py:60: FutureWarning: to_msgpack is deprecated and will be removed in a future version.\n",
      "It is recommended to use pyarrow for on-the-wire transmission of pandas objects.\n",
      "  final_df.to_msgpack(output_path, compress='zlib')\n"
     ]
    },
    {
     "name": "stdout",
     "output_type": "stream",
     "text": [
      "/home/hanliu/project/mouse_rostral_brain/DMR/ITSpatial_by_layer/IT-L6/MotifScan.h5adtemp/MA1544.1.meme, N motif total=3997\n"
     ]
    },
    {
     "name": "stderr",
     "output_type": "stream",
     "text": [
      "/home/hanliu/miniconda3/envs/clustering/lib/python3.7/site-packages/ALLCools/dmr/fimo.py:60: FutureWarning: to_msgpack is deprecated and will be removed in a future version.\n",
      "It is recommended to use pyarrow for on-the-wire transmission of pandas objects.\n",
      "  final_df.to_msgpack(output_path, compress='zlib')\n"
     ]
    },
    {
     "name": "stdout",
     "output_type": "stream",
     "text": [
      "/home/hanliu/project/mouse_rostral_brain/DMR/ITSpatial_by_layer/IT-L6/MotifScan.h5adtemp/MA0780.1.meme, N motif total=17476\n"
     ]
    },
    {
     "name": "stderr",
     "output_type": "stream",
     "text": [
      "/home/hanliu/miniconda3/envs/clustering/lib/python3.7/site-packages/ALLCools/dmr/fimo.py:60: FutureWarning: to_msgpack is deprecated and will be removed in a future version.\n",
      "It is recommended to use pyarrow for on-the-wire transmission of pandas objects.\n",
      "  final_df.to_msgpack(output_path, compress='zlib')\n"
     ]
    },
    {
     "name": "stdout",
     "output_type": "stream",
     "text": [
      "/home/hanliu/project/mouse_rostral_brain/DMR/ITSpatial_by_layer/IT-L6/MotifScan.h5adtemp/MA0068.2.meme, N motif total=11762\n"
     ]
    },
    {
     "name": "stderr",
     "output_type": "stream",
     "text": [
      "/home/hanliu/miniconda3/envs/clustering/lib/python3.7/site-packages/ALLCools/dmr/fimo.py:60: FutureWarning: to_msgpack is deprecated and will be removed in a future version.\n",
      "It is recommended to use pyarrow for on-the-wire transmission of pandas objects.\n",
      "  final_df.to_msgpack(output_path, compress='zlib')\n"
     ]
    },
    {
     "name": "stdout",
     "output_type": "stream",
     "text": [
      "/home/hanliu/project/mouse_rostral_brain/DMR/ITSpatial_by_layer/IT-L6/MotifScan.h5adtemp/MA1545.1.meme, N motif total=3887\n"
     ]
    },
    {
     "name": "stderr",
     "output_type": "stream",
     "text": [
      "/home/hanliu/miniconda3/envs/clustering/lib/python3.7/site-packages/ALLCools/dmr/fimo.py:60: FutureWarning: to_msgpack is deprecated and will be removed in a future version.\n",
      "It is recommended to use pyarrow for on-the-wire transmission of pandas objects.\n",
      "  final_df.to_msgpack(output_path, compress='zlib')\n"
     ]
    },
    {
     "name": "stdout",
     "output_type": "stream",
     "text": [
      "/home/hanliu/project/mouse_rostral_brain/DMR/ITSpatial_by_layer/IT-L6/MotifScan.h5adtemp/MA0680.1.meme, N motif total=16772\n"
     ]
    },
    {
     "name": "stderr",
     "output_type": "stream",
     "text": [
      "/home/hanliu/miniconda3/envs/clustering/lib/python3.7/site-packages/ALLCools/dmr/fimo.py:60: FutureWarning: to_msgpack is deprecated and will be removed in a future version.\n",
      "It is recommended to use pyarrow for on-the-wire transmission of pandas objects.\n",
      "  final_df.to_msgpack(output_path, compress='zlib')\n"
     ]
    },
    {
     "name": "stdout",
     "output_type": "stream",
     "text": [
      "/home/hanliu/project/mouse_rostral_brain/DMR/ITSpatial_by_layer/IT-L6/MotifScan.h5adtemp/MA0014.3.meme, N motif total=15943\n"
     ]
    },
    {
     "name": "stderr",
     "output_type": "stream",
     "text": [
      "/home/hanliu/miniconda3/envs/clustering/lib/python3.7/site-packages/ALLCools/dmr/fimo.py:60: FutureWarning: to_msgpack is deprecated and will be removed in a future version.\n",
      "It is recommended to use pyarrow for on-the-wire transmission of pandas objects.\n",
      "  final_df.to_msgpack(output_path, compress='zlib')\n"
     ]
    },
    {
     "name": "stdout",
     "output_type": "stream",
     "text": [
      "/home/hanliu/project/mouse_rostral_brain/DMR/ITSpatial_by_layer/IT-L6/MotifScan.h5adtemp/MA0069.1.meme, N motif total=18207\n"
     ]
    },
    {
     "name": "stderr",
     "output_type": "stream",
     "text": [
      "/home/hanliu/miniconda3/envs/clustering/lib/python3.7/site-packages/ALLCools/dmr/fimo.py:60: FutureWarning: to_msgpack is deprecated and will be removed in a future version.\n",
      "It is recommended to use pyarrow for on-the-wire transmission of pandas objects.\n",
      "  final_df.to_msgpack(output_path, compress='zlib')\n"
     ]
    },
    {
     "name": "stdout",
     "output_type": "stream",
     "text": [
      "/home/hanliu/project/mouse_rostral_brain/DMR/ITSpatial_by_layer/IT-L6/MotifScan.h5adtemp/MA1546.1.meme, N motif total=10451\n"
     ]
    },
    {
     "name": "stderr",
     "output_type": "stream",
     "text": [
      "/home/hanliu/miniconda3/envs/clustering/lib/python3.7/site-packages/ALLCools/dmr/fimo.py:60: FutureWarning: to_msgpack is deprecated and will be removed in a future version.\n",
      "It is recommended to use pyarrow for on-the-wire transmission of pandas objects.\n",
      "  final_df.to_msgpack(output_path, compress='zlib')\n"
     ]
    },
    {
     "name": "stdout",
     "output_type": "stream",
     "text": [
      "/home/hanliu/project/mouse_rostral_brain/DMR/ITSpatial_by_layer/IT-L6/MotifScan.h5adtemp/MA0779.1.meme, N motif total=8551\n"
     ]
    },
    {
     "name": "stderr",
     "output_type": "stream",
     "text": [
      "/home/hanliu/miniconda3/envs/clustering/lib/python3.7/site-packages/ALLCools/dmr/fimo.py:60: FutureWarning: to_msgpack is deprecated and will be removed in a future version.\n",
      "It is recommended to use pyarrow for on-the-wire transmission of pandas objects.\n",
      "  final_df.to_msgpack(output_path, compress='zlib')\n"
     ]
    },
    {
     "name": "stdout",
     "output_type": "stream",
     "text": [
      "/home/hanliu/project/mouse_rostral_brain/DMR/ITSpatial_by_layer/IT-L6/MotifScan.h5adtemp/MA0132.2.meme, N motif total=14355\n"
     ]
    },
    {
     "name": "stderr",
     "output_type": "stream",
     "text": [
      "/home/hanliu/miniconda3/envs/clustering/lib/python3.7/site-packages/ALLCools/dmr/fimo.py:60: FutureWarning: to_msgpack is deprecated and will be removed in a future version.\n",
      "It is recommended to use pyarrow for on-the-wire transmission of pandas objects.\n",
      "  final_df.to_msgpack(output_path, compress='zlib')\n"
     ]
    },
    {
     "name": "stdout",
     "output_type": "stream",
     "text": [
      "/home/hanliu/project/mouse_rostral_brain/DMR/ITSpatial_by_layer/IT-L6/MotifScan.h5adtemp/MA0070.1.meme, N motif total=25810\n"
     ]
    },
    {
     "name": "stderr",
     "output_type": "stream",
     "text": [
      "/home/hanliu/miniconda3/envs/clustering/lib/python3.7/site-packages/ALLCools/dmr/fimo.py:60: FutureWarning: to_msgpack is deprecated and will be removed in a future version.\n",
      "It is recommended to use pyarrow for on-the-wire transmission of pandas objects.\n",
      "  final_df.to_msgpack(output_path, compress='zlib')\n"
     ]
    },
    {
     "name": "stdout",
     "output_type": "stream",
     "text": [
      "/home/hanliu/project/mouse_rostral_brain/DMR/ITSpatial_by_layer/IT-L6/MotifScan.h5adtemp/MA0781.1.meme, N motif total=2174\n"
     ]
    },
    {
     "name": "stderr",
     "output_type": "stream",
     "text": [
      "/home/hanliu/miniconda3/envs/clustering/lib/python3.7/site-packages/ALLCools/dmr/fimo.py:60: FutureWarning: to_msgpack is deprecated and will be removed in a future version.\n",
      "It is recommended to use pyarrow for on-the-wire transmission of pandas objects.\n",
      "  final_df.to_msgpack(output_path, compress='zlib')\n"
     ]
    },
    {
     "name": "stdout",
     "output_type": "stream",
     "text": [
      "/home/hanliu/project/mouse_rostral_brain/DMR/ITSpatial_by_layer/IT-L6/MotifScan.h5adtemp/MA1113.2.meme, N motif total=29748\n"
     ]
    },
    {
     "name": "stderr",
     "output_type": "stream",
     "text": [
      "/home/hanliu/miniconda3/envs/clustering/lib/python3.7/site-packages/ALLCools/dmr/fimo.py:60: FutureWarning: to_msgpack is deprecated and will be removed in a future version.\n",
      "It is recommended to use pyarrow for on-the-wire transmission of pandas objects.\n",
      "  final_df.to_msgpack(output_path, compress='zlib')\n"
     ]
    },
    {
     "name": "stdout",
     "output_type": "stream",
     "text": [
      "/home/hanliu/project/mouse_rostral_brain/DMR/ITSpatial_by_layer/IT-L6/MotifScan.h5adtemp/MA0682.2.meme, N motif total=23399\n"
     ]
    },
    {
     "name": "stderr",
     "output_type": "stream",
     "text": [
      "/home/hanliu/miniconda3/envs/clustering/lib/python3.7/site-packages/ALLCools/dmr/fimo.py:60: FutureWarning: to_msgpack is deprecated and will be removed in a future version.\n",
      "It is recommended to use pyarrow for on-the-wire transmission of pandas objects.\n",
      "  final_df.to_msgpack(output_path, compress='zlib')\n"
     ]
    },
    {
     "name": "stdout",
     "output_type": "stream",
     "text": [
      "/home/hanliu/project/mouse_rostral_brain/DMR/ITSpatial_by_layer/IT-L6/MotifScan.h5adtemp/MA0713.1.meme, N motif total=23593\n"
     ]
    },
    {
     "name": "stderr",
     "output_type": "stream",
     "text": [
      "/home/hanliu/miniconda3/envs/clustering/lib/python3.7/site-packages/ALLCools/dmr/fimo.py:60: FutureWarning: to_msgpack is deprecated and will be removed in a future version.\n",
      "It is recommended to use pyarrow for on-the-wire transmission of pandas objects.\n",
      "  final_df.to_msgpack(output_path, compress='zlib')\n"
     ]
    },
    {
     "name": "stdout",
     "output_type": "stream",
     "text": [
      "/home/hanliu/project/mouse_rostral_brain/DMR/ITSpatial_by_layer/IT-L6/MotifScan.h5adtemp/MA1547.1.meme, N motif total=23019\n"
     ]
    },
    {
     "name": "stderr",
     "output_type": "stream",
     "text": [
      "/home/hanliu/miniconda3/envs/clustering/lib/python3.7/site-packages/ALLCools/dmr/fimo.py:60: FutureWarning: to_msgpack is deprecated and will be removed in a future version.\n",
      "It is recommended to use pyarrow for on-the-wire transmission of pandas objects.\n",
      "  final_df.to_msgpack(output_path, compress='zlib')\n"
     ]
    },
    {
     "name": "stdout",
     "output_type": "stream",
     "text": [
      "/home/hanliu/project/mouse_rostral_brain/DMR/ITSpatial_by_layer/IT-L6/MotifScan.h5adtemp/MA1114.1.meme, N motif total=69510\n"
     ]
    },
    {
     "name": "stderr",
     "output_type": "stream",
     "text": [
      "/home/hanliu/miniconda3/envs/clustering/lib/python3.7/site-packages/ALLCools/dmr/fimo.py:60: FutureWarning: to_msgpack is deprecated and will be removed in a future version.\n",
      "It is recommended to use pyarrow for on-the-wire transmission of pandas objects.\n",
      "  final_df.to_msgpack(output_path, compress='zlib')\n"
     ]
    },
    {
     "name": "stdout",
     "output_type": "stream",
     "text": [
      "/home/hanliu/project/mouse_rostral_brain/DMR/ITSpatial_by_layer/IT-L6/MotifScan.h5adtemp/MA0714.1.meme, N motif total=22058\n"
     ]
    },
    {
     "name": "stderr",
     "output_type": "stream",
     "text": [
      "/home/hanliu/miniconda3/envs/clustering/lib/python3.7/site-packages/ALLCools/dmr/fimo.py:60: FutureWarning: to_msgpack is deprecated and will be removed in a future version.\n",
      "It is recommended to use pyarrow for on-the-wire transmission of pandas objects.\n",
      "  final_df.to_msgpack(output_path, compress='zlib')\n"
     ]
    },
    {
     "name": "stdout",
     "output_type": "stream",
     "text": [
      "/home/hanliu/project/mouse_rostral_brain/DMR/ITSpatial_by_layer/IT-L6/MotifScan.h5adtemp/MA0681.2.meme, N motif total=47568\n"
     ]
    },
    {
     "name": "stderr",
     "output_type": "stream",
     "text": [
      "/home/hanliu/miniconda3/envs/clustering/lib/python3.7/site-packages/ALLCools/dmr/fimo.py:60: FutureWarning: to_msgpack is deprecated and will be removed in a future version.\n",
      "It is recommended to use pyarrow for on-the-wire transmission of pandas objects.\n",
      "  final_df.to_msgpack(output_path, compress='zlib')\n"
     ]
    },
    {
     "name": "stdout",
     "output_type": "stream",
     "text": [
      "/home/hanliu/project/mouse_rostral_brain/DMR/ITSpatial_by_layer/IT-L6/MotifScan.h5adtemp/MA1548.1.meme, N motif total=34534\n"
     ]
    },
    {
     "name": "stderr",
     "output_type": "stream",
     "text": [
      "/home/hanliu/miniconda3/envs/clustering/lib/python3.7/site-packages/ALLCools/dmr/fimo.py:60: FutureWarning: to_msgpack is deprecated and will be removed in a future version.\n",
      "It is recommended to use pyarrow for on-the-wire transmission of pandas objects.\n",
      "  final_df.to_msgpack(output_path, compress='zlib')\n"
     ]
    },
    {
     "name": "stdout",
     "output_type": "stream",
     "text": [
      "/home/hanliu/project/mouse_rostral_brain/DMR/ITSpatial_by_layer/IT-L6/MotifScan.h5adtemp/MA0783.1.meme, N motif total=22678\n"
     ]
    },
    {
     "name": "stderr",
     "output_type": "stream",
     "text": [
      "/home/hanliu/miniconda3/envs/clustering/lib/python3.7/site-packages/ALLCools/dmr/fimo.py:60: FutureWarning: to_msgpack is deprecated and will be removed in a future version.\n",
      "It is recommended to use pyarrow for on-the-wire transmission of pandas objects.\n",
      "  final_df.to_msgpack(output_path, compress='zlib')\n"
     ]
    },
    {
     "name": "stdout",
     "output_type": "stream",
     "text": [
      "/home/hanliu/project/mouse_rostral_brain/DMR/ITSpatial_by_layer/IT-L6/MotifScan.h5adtemp/MA0163.1.meme, N motif total=51999\n"
     ]
    },
    {
     "name": "stderr",
     "output_type": "stream",
     "text": [
      "/home/hanliu/miniconda3/envs/clustering/lib/python3.7/site-packages/ALLCools/dmr/fimo.py:60: FutureWarning: to_msgpack is deprecated and will be removed in a future version.\n",
      "It is recommended to use pyarrow for on-the-wire transmission of pandas objects.\n",
      "  final_df.to_msgpack(output_path, compress='zlib')\n"
     ]
    },
    {
     "name": "stdout",
     "output_type": "stream",
     "text": [
      "/home/hanliu/project/mouse_rostral_brain/DMR/ITSpatial_by_layer/IT-L6/MotifScan.h5adtemp/MA0782.2.meme, N motif total=58548\n"
     ]
    },
    {
     "name": "stderr",
     "output_type": "stream",
     "text": [
      "/home/hanliu/miniconda3/envs/clustering/lib/python3.7/site-packages/ALLCools/dmr/fimo.py:60: FutureWarning: to_msgpack is deprecated and will be removed in a future version.\n",
      "It is recommended to use pyarrow for on-the-wire transmission of pandas objects.\n",
      "  final_df.to_msgpack(output_path, compress='zlib')\n"
     ]
    },
    {
     "name": "stdout",
     "output_type": "stream",
     "text": [
      "/home/hanliu/project/mouse_rostral_brain/DMR/ITSpatial_by_layer/IT-L6/MotifScan.h5adtemp/MA1615.1.meme, N motif total=66014\n"
     ]
    },
    {
     "name": "stderr",
     "output_type": "stream",
     "text": [
      "/home/hanliu/miniconda3/envs/clustering/lib/python3.7/site-packages/ALLCools/dmr/fimo.py:60: FutureWarning: to_msgpack is deprecated and will be removed in a future version.\n",
      "It is recommended to use pyarrow for on-the-wire transmission of pandas objects.\n",
      "  final_df.to_msgpack(output_path, compress='zlib')\n"
     ]
    },
    {
     "name": "stdout",
     "output_type": "stream",
     "text": [
      "/home/hanliu/project/mouse_rostral_brain/DMR/ITSpatial_by_layer/IT-L6/MotifScan.h5adtemp/MA0785.1.meme, N motif total=39522\n"
     ]
    },
    {
     "name": "stderr",
     "output_type": "stream",
     "text": [
      "/home/hanliu/miniconda3/envs/clustering/lib/python3.7/site-packages/ALLCools/dmr/fimo.py:60: FutureWarning: to_msgpack is deprecated and will be removed in a future version.\n",
      "It is recommended to use pyarrow for on-the-wire transmission of pandas objects.\n",
      "  final_df.to_msgpack(output_path, compress='zlib')\n"
     ]
    },
    {
     "name": "stdout",
     "output_type": "stream",
     "text": [
      "/home/hanliu/project/mouse_rostral_brain/DMR/ITSpatial_by_layer/IT-L6/MotifScan.h5adtemp/MA0789.1.meme, N motif total=38508\n"
     ]
    },
    {
     "name": "stderr",
     "output_type": "stream",
     "text": [
      "/home/hanliu/miniconda3/envs/clustering/lib/python3.7/site-packages/ALLCools/dmr/fimo.py:60: FutureWarning: to_msgpack is deprecated and will be removed in a future version.\n",
      "It is recommended to use pyarrow for on-the-wire transmission of pandas objects.\n",
      "  final_df.to_msgpack(output_path, compress='zlib')\n"
     ]
    },
    {
     "name": "stdout",
     "output_type": "stream",
     "text": [
      "/home/hanliu/project/mouse_rostral_brain/DMR/ITSpatial_by_layer/IT-L6/MotifScan.h5adtemp/MA0627.2.meme, N motif total=51806\n"
     ]
    },
    {
     "name": "stderr",
     "output_type": "stream",
     "text": [
      "/home/hanliu/miniconda3/envs/clustering/lib/python3.7/site-packages/ALLCools/dmr/fimo.py:60: FutureWarning: to_msgpack is deprecated and will be removed in a future version.\n",
      "It is recommended to use pyarrow for on-the-wire transmission of pandas objects.\n",
      "  final_df.to_msgpack(output_path, compress='zlib')\n"
     ]
    },
    {
     "name": "stdout",
     "output_type": "stream",
     "text": [
      "/home/hanliu/project/mouse_rostral_brain/DMR/ITSpatial_by_layer/IT-L6/MotifScan.h5adtemp/MA0784.1.meme, N motif total=41947\n"
     ]
    },
    {
     "name": "stderr",
     "output_type": "stream",
     "text": [
      "/home/hanliu/miniconda3/envs/clustering/lib/python3.7/site-packages/ALLCools/dmr/fimo.py:60: FutureWarning: to_msgpack is deprecated and will be removed in a future version.\n",
      "It is recommended to use pyarrow for on-the-wire transmission of pandas objects.\n",
      "  final_df.to_msgpack(output_path, compress='zlib')\n"
     ]
    },
    {
     "name": "stdout",
     "output_type": "stream",
     "text": [
      "/home/hanliu/project/mouse_rostral_brain/DMR/ITSpatial_by_layer/IT-L6/MotifScan.h5adtemp/MA0507.1.meme, N motif total=55053\n"
     ]
    },
    {
     "name": "stderr",
     "output_type": "stream",
     "text": [
      "/home/hanliu/miniconda3/envs/clustering/lib/python3.7/site-packages/ALLCools/dmr/fimo.py:60: FutureWarning: to_msgpack is deprecated and will be removed in a future version.\n",
      "It is recommended to use pyarrow for on-the-wire transmission of pandas objects.\n",
      "  final_df.to_msgpack(output_path, compress='zlib')\n"
     ]
    },
    {
     "name": "stdout",
     "output_type": "stream",
     "text": [
      "/home/hanliu/project/mouse_rostral_brain/DMR/ITSpatial_by_layer/IT-L6/MotifScan.h5adtemp/MA0786.1.meme, N motif total=45178\n"
     ]
    },
    {
     "name": "stderr",
     "output_type": "stream",
     "text": [
      "/home/hanliu/miniconda3/envs/clustering/lib/python3.7/site-packages/ALLCools/dmr/fimo.py:60: FutureWarning: to_msgpack is deprecated and will be removed in a future version.\n",
      "It is recommended to use pyarrow for on-the-wire transmission of pandas objects.\n",
      "  final_df.to_msgpack(output_path, compress='zlib')\n"
     ]
    },
    {
     "name": "stdout",
     "output_type": "stream",
     "text": [
      "/home/hanliu/project/mouse_rostral_brain/DMR/ITSpatial_by_layer/IT-L6/MotifScan.h5adtemp/MA0787.1.meme, N motif total=41554\n"
     ]
    },
    {
     "name": "stderr",
     "output_type": "stream",
     "text": [
      "/home/hanliu/miniconda3/envs/clustering/lib/python3.7/site-packages/ALLCools/dmr/fimo.py:60: FutureWarning: to_msgpack is deprecated and will be removed in a future version.\n",
      "It is recommended to use pyarrow for on-the-wire transmission of pandas objects.\n",
      "  final_df.to_msgpack(output_path, compress='zlib')\n"
     ]
    },
    {
     "name": "stdout",
     "output_type": "stream",
     "text": [
      "/home/hanliu/project/mouse_rostral_brain/DMR/ITSpatial_by_layer/IT-L6/MotifScan.h5adtemp/MA0788.1.meme, N motif total=41890\n"
     ]
    },
    {
     "name": "stderr",
     "output_type": "stream",
     "text": [
      "/home/hanliu/miniconda3/envs/clustering/lib/python3.7/site-packages/ALLCools/dmr/fimo.py:60: FutureWarning: to_msgpack is deprecated and will be removed in a future version.\n",
      "It is recommended to use pyarrow for on-the-wire transmission of pandas objects.\n",
      "  final_df.to_msgpack(output_path, compress='zlib')\n"
     ]
    },
    {
     "name": "stdout",
     "output_type": "stream",
     "text": [
      "/home/hanliu/project/mouse_rostral_brain/DMR/ITSpatial_by_layer/IT-L6/MotifScan.h5adtemp/MA0628.1.meme, N motif total=18092\n"
     ]
    },
    {
     "name": "stderr",
     "output_type": "stream",
     "text": [
      "/home/hanliu/miniconda3/envs/clustering/lib/python3.7/site-packages/ALLCools/dmr/fimo.py:60: FutureWarning: to_msgpack is deprecated and will be removed in a future version.\n",
      "It is recommended to use pyarrow for on-the-wire transmission of pandas objects.\n",
      "  final_df.to_msgpack(output_path, compress='zlib')\n"
     ]
    },
    {
     "name": "stdout",
     "output_type": "stream",
     "text": [
      "/home/hanliu/project/mouse_rostral_brain/DMR/ITSpatial_by_layer/IT-L6/MotifScan.h5adtemp/MA0790.1.meme, N motif total=38786\n"
     ]
    },
    {
     "name": "stderr",
     "output_type": "stream",
     "text": [
      "/home/hanliu/miniconda3/envs/clustering/lib/python3.7/site-packages/ALLCools/dmr/fimo.py:60: FutureWarning: to_msgpack is deprecated and will be removed in a future version.\n",
      "It is recommended to use pyarrow for on-the-wire transmission of pandas objects.\n",
      "  final_df.to_msgpack(output_path, compress='zlib')\n"
     ]
    },
    {
     "name": "stdout",
     "output_type": "stream",
     "text": [
      "/home/hanliu/project/mouse_rostral_brain/DMR/ITSpatial_by_layer/IT-L6/MotifScan.h5adtemp/MA0793.1.meme, N motif total=22796\n"
     ]
    },
    {
     "name": "stderr",
     "output_type": "stream",
     "text": [
      "/home/hanliu/miniconda3/envs/clustering/lib/python3.7/site-packages/ALLCools/dmr/fimo.py:60: FutureWarning: to_msgpack is deprecated and will be removed in a future version.\n",
      "It is recommended to use pyarrow for on-the-wire transmission of pandas objects.\n",
      "  final_df.to_msgpack(output_path, compress='zlib')\n"
     ]
    },
    {
     "name": "stdout",
     "output_type": "stream",
     "text": [
      "/home/hanliu/project/mouse_rostral_brain/DMR/ITSpatial_by_layer/IT-L6/MotifScan.h5adtemp/MA1549.1.meme, N motif total=23723\n"
     ]
    },
    {
     "name": "stderr",
     "output_type": "stream",
     "text": [
      "/home/hanliu/miniconda3/envs/clustering/lib/python3.7/site-packages/ALLCools/dmr/fimo.py:60: FutureWarning: to_msgpack is deprecated and will be removed in a future version.\n",
      "It is recommended to use pyarrow for on-the-wire transmission of pandas objects.\n",
      "  final_df.to_msgpack(output_path, compress='zlib')\n"
     ]
    },
    {
     "name": "stdout",
     "output_type": "stream",
     "text": [
      "/home/hanliu/project/mouse_rostral_brain/DMR/ITSpatial_by_layer/IT-L6/MotifScan.h5adtemp/MA1115.1.meme, N motif total=49592\n"
     ]
    },
    {
     "name": "stderr",
     "output_type": "stream",
     "text": [
      "/home/hanliu/miniconda3/envs/clustering/lib/python3.7/site-packages/ALLCools/dmr/fimo.py:60: FutureWarning: to_msgpack is deprecated and will be removed in a future version.\n",
      "It is recommended to use pyarrow for on-the-wire transmission of pandas objects.\n",
      "  final_df.to_msgpack(output_path, compress='zlib')\n"
     ]
    },
    {
     "name": "stdout",
     "output_type": "stream",
     "text": [
      "/home/hanliu/project/mouse_rostral_brain/DMR/ITSpatial_by_layer/IT-L6/MotifScan.h5adtemp/MA0683.1.meme, N motif total=33701\n"
     ]
    },
    {
     "name": "stderr",
     "output_type": "stream",
     "text": [
      "/home/hanliu/miniconda3/envs/clustering/lib/python3.7/site-packages/ALLCools/dmr/fimo.py:60: FutureWarning: to_msgpack is deprecated and will be removed in a future version.\n",
      "It is recommended to use pyarrow for on-the-wire transmission of pandas objects.\n",
      "  final_df.to_msgpack(output_path, compress='zlib')\n"
     ]
    },
    {
     "name": "stdout",
     "output_type": "stream",
     "text": [
      "/home/hanliu/project/mouse_rostral_brain/DMR/ITSpatial_by_layer/IT-L6/MotifScan.h5adtemp/MA0142.1.meme, N motif total=51473\n"
     ]
    },
    {
     "name": "stderr",
     "output_type": "stream",
     "text": [
      "/home/hanliu/miniconda3/envs/clustering/lib/python3.7/site-packages/ALLCools/dmr/fimo.py:60: FutureWarning: to_msgpack is deprecated and will be removed in a future version.\n",
      "It is recommended to use pyarrow for on-the-wire transmission of pandas objects.\n",
      "  final_df.to_msgpack(output_path, compress='zlib')\n"
     ]
    },
    {
     "name": "stdout",
     "output_type": "stream",
     "text": [
      "/home/hanliu/project/mouse_rostral_brain/DMR/ITSpatial_by_layer/IT-L6/MotifScan.h5adtemp/MA0791.1.meme, N motif total=35903\n"
     ]
    },
    {
     "name": "stderr",
     "output_type": "stream",
     "text": [
      "/home/hanliu/miniconda3/envs/clustering/lib/python3.7/site-packages/ALLCools/dmr/fimo.py:60: FutureWarning: to_msgpack is deprecated and will be removed in a future version.\n",
      "It is recommended to use pyarrow for on-the-wire transmission of pandas objects.\n",
      "  final_df.to_msgpack(output_path, compress='zlib')\n"
     ]
    },
    {
     "name": "stdout",
     "output_type": "stream",
     "text": [
      "/home/hanliu/project/mouse_rostral_brain/DMR/ITSpatial_by_layer/IT-L6/MotifScan.h5adtemp/MA0716.1.meme, N motif total=16771\n"
     ]
    },
    {
     "name": "stderr",
     "output_type": "stream",
     "text": [
      "/home/hanliu/miniconda3/envs/clustering/lib/python3.7/site-packages/ALLCools/dmr/fimo.py:60: FutureWarning: to_msgpack is deprecated and will be removed in a future version.\n",
      "It is recommended to use pyarrow for on-the-wire transmission of pandas objects.\n",
      "  final_df.to_msgpack(output_path, compress='zlib')\n"
     ]
    },
    {
     "name": "stdout",
     "output_type": "stream",
     "text": [
      "/home/hanliu/project/mouse_rostral_brain/DMR/ITSpatial_by_layer/IT-L6/MotifScan.h5adtemp/MA0715.1.meme, N motif total=31114\n"
     ]
    },
    {
     "name": "stderr",
     "output_type": "stream",
     "text": [
      "/home/hanliu/miniconda3/envs/clustering/lib/python3.7/site-packages/ALLCools/dmr/fimo.py:60: FutureWarning: to_msgpack is deprecated and will be removed in a future version.\n",
      "It is recommended to use pyarrow for on-the-wire transmission of pandas objects.\n",
      "  final_df.to_msgpack(output_path, compress='zlib')\n"
     ]
    },
    {
     "name": "stdout",
     "output_type": "stream",
     "text": [
      "/home/hanliu/project/mouse_rostral_brain/DMR/ITSpatial_by_layer/IT-L6/MotifScan.h5adtemp/MA0075.3.meme, N motif total=17659\n"
     ]
    },
    {
     "name": "stderr",
     "output_type": "stream",
     "text": [
      "/home/hanliu/miniconda3/envs/clustering/lib/python3.7/site-packages/ALLCools/dmr/fimo.py:60: FutureWarning: to_msgpack is deprecated and will be removed in a future version.\n",
      "It is recommended to use pyarrow for on-the-wire transmission of pandas objects.\n",
      "  final_df.to_msgpack(output_path, compress='zlib')\n"
     ]
    },
    {
     "name": "stdout",
     "output_type": "stream",
     "text": [
      "/home/hanliu/project/mouse_rostral_brain/DMR/ITSpatial_by_layer/IT-L6/MotifScan.h5adtemp/MA1550.1.meme, N motif total=26189\n"
     ]
    },
    {
     "name": "stderr",
     "output_type": "stream",
     "text": [
      "/home/hanliu/miniconda3/envs/clustering/lib/python3.7/site-packages/ALLCools/dmr/fimo.py:60: FutureWarning: to_msgpack is deprecated and will be removed in a future version.\n",
      "It is recommended to use pyarrow for on-the-wire transmission of pandas objects.\n",
      "  final_df.to_msgpack(output_path, compress='zlib')\n"
     ]
    },
    {
     "name": "stdout",
     "output_type": "stream",
     "text": [
      "/home/hanliu/project/mouse_rostral_brain/DMR/ITSpatial_by_layer/IT-L6/MotifScan.h5adtemp/MA0508.3.meme, N motif total=174833\n"
     ]
    },
    {
     "name": "stderr",
     "output_type": "stream",
     "text": [
      "/home/hanliu/miniconda3/envs/clustering/lib/python3.7/site-packages/ALLCools/dmr/fimo.py:60: FutureWarning: to_msgpack is deprecated and will be removed in a future version.\n",
      "It is recommended to use pyarrow for on-the-wire transmission of pandas objects.\n",
      "  final_df.to_msgpack(output_path, compress='zlib')\n"
     ]
    },
    {
     "name": "stdout",
     "output_type": "stream",
     "text": [
      "Finish count 500 motifs.\n"
     ]
    },
    {
     "name": "stdout",
     "output_type": "stream",
     "text": [
      "/home/hanliu/project/mouse_rostral_brain/DMR/ITSpatial_by_layer/IT-L6/MotifScan.h5adtemp/MA0794.1.meme, N motif total=17127\n"
     ]
    },
    {
     "name": "stderr",
     "output_type": "stream",
     "text": [
      "/home/hanliu/miniconda3/envs/clustering/lib/python3.7/site-packages/ALLCools/dmr/fimo.py:60: FutureWarning: to_msgpack is deprecated and will be removed in a future version.\n",
      "It is recommended to use pyarrow for on-the-wire transmission of pandas objects.\n",
      "  final_df.to_msgpack(output_path, compress='zlib')\n"
     ]
    },
    {
     "name": "stdout",
     "output_type": "stream",
     "text": [
      "/home/hanliu/project/mouse_rostral_brain/DMR/ITSpatial_by_layer/IT-L6/MotifScan.h5adtemp/MA1647.1.meme, N motif total=63091\n"
     ]
    },
    {
     "name": "stderr",
     "output_type": "stream",
     "text": [
      "/home/hanliu/miniconda3/envs/clustering/lib/python3.7/site-packages/ALLCools/dmr/fimo.py:60: FutureWarning: to_msgpack is deprecated and will be removed in a future version.\n",
      "It is recommended to use pyarrow for on-the-wire transmission of pandas objects.\n",
      "  final_df.to_msgpack(output_path, compress='zlib')\n"
     ]
    },
    {
     "name": "stdout",
     "output_type": "stream",
     "text": [
      "/home/hanliu/project/mouse_rostral_brain/DMR/ITSpatial_by_layer/IT-L6/MotifScan.h5adtemp/MA1616.1.meme, N motif total=56382\n"
     ]
    },
    {
     "name": "stderr",
     "output_type": "stream",
     "text": [
      "/home/hanliu/miniconda3/envs/clustering/lib/python3.7/site-packages/ALLCools/dmr/fimo.py:60: FutureWarning: to_msgpack is deprecated and will be removed in a future version.\n",
      "It is recommended to use pyarrow for on-the-wire transmission of pandas objects.\n",
      "  final_df.to_msgpack(output_path, compress='zlib')\n"
     ]
    },
    {
     "name": "stdout",
     "output_type": "stream",
     "text": [
      "/home/hanliu/project/mouse_rostral_brain/DMR/ITSpatial_by_layer/IT-L6/MotifScan.h5adtemp/MA1148.1.meme, N motif total=40086\n"
     ]
    },
    {
     "name": "stderr",
     "output_type": "stream",
     "text": [
      "/home/hanliu/miniconda3/envs/clustering/lib/python3.7/site-packages/ALLCools/dmr/fimo.py:60: FutureWarning: to_msgpack is deprecated and will be removed in a future version.\n",
      "It is recommended to use pyarrow for on-the-wire transmission of pandas objects.\n",
      "  final_df.to_msgpack(output_path, compress='zlib')\n"
     ]
    },
    {
     "name": "stdout",
     "output_type": "stream",
     "text": [
      "/home/hanliu/project/mouse_rostral_brain/DMR/ITSpatial_by_layer/IT-L6/MotifScan.h5adtemp/MA0065.2.meme, N motif total=81137\n"
     ]
    },
    {
     "name": "stderr",
     "output_type": "stream",
     "text": [
      "/home/hanliu/miniconda3/envs/clustering/lib/python3.7/site-packages/ALLCools/dmr/fimo.py:60: FutureWarning: to_msgpack is deprecated and will be removed in a future version.\n",
      "It is recommended to use pyarrow for on-the-wire transmission of pandas objects.\n",
      "  final_df.to_msgpack(output_path, compress='zlib')\n"
     ]
    },
    {
     "name": "stdout",
     "output_type": "stream",
     "text": [
      "/home/hanliu/project/mouse_rostral_brain/DMR/ITSpatial_by_layer/IT-L6/MotifScan.h5adtemp/MA0066.1.meme, N motif total=37435\n"
     ]
    },
    {
     "name": "stderr",
     "output_type": "stream",
     "text": [
      "/home/hanliu/miniconda3/envs/clustering/lib/python3.7/site-packages/ALLCools/dmr/fimo.py:60: FutureWarning: to_msgpack is deprecated and will be removed in a future version.\n",
      "It is recommended to use pyarrow for on-the-wire transmission of pandas objects.\n",
      "  final_df.to_msgpack(output_path, compress='zlib')\n"
     ]
    },
    {
     "name": "stdout",
     "output_type": "stream",
     "text": [
      "/home/hanliu/project/mouse_rostral_brain/DMR/ITSpatial_by_layer/IT-L6/MotifScan.h5adtemp/MA1619.1.meme, N motif total=95688\n"
     ]
    },
    {
     "name": "stderr",
     "output_type": "stream",
     "text": [
      "/home/hanliu/miniconda3/envs/clustering/lib/python3.7/site-packages/ALLCools/dmr/fimo.py:60: FutureWarning: to_msgpack is deprecated and will be removed in a future version.\n",
      "It is recommended to use pyarrow for on-the-wire transmission of pandas objects.\n",
      "  final_df.to_msgpack(output_path, compress='zlib')\n"
     ]
    },
    {
     "name": "stdout",
     "output_type": "stream",
     "text": [
      "/home/hanliu/project/mouse_rostral_brain/DMR/ITSpatial_by_layer/IT-L6/MotifScan.h5adtemp/MA1618.1.meme, N motif total=71813\n"
     ]
    },
    {
     "name": "stderr",
     "output_type": "stream",
     "text": [
      "/home/hanliu/miniconda3/envs/clustering/lib/python3.7/site-packages/ALLCools/dmr/fimo.py:60: FutureWarning: to_msgpack is deprecated and will be removed in a future version.\n",
      "It is recommended to use pyarrow for on-the-wire transmission of pandas objects.\n",
      "  final_df.to_msgpack(output_path, compress='zlib')\n"
     ]
    },
    {
     "name": "stdout",
     "output_type": "stream",
     "text": [
      "/home/hanliu/project/mouse_rostral_brain/DMR/ITSpatial_by_layer/IT-L6/MotifScan.h5adtemp/MA1620.1.meme, N motif total=55366\n"
     ]
    },
    {
     "name": "stderr",
     "output_type": "stream",
     "text": [
      "/home/hanliu/miniconda3/envs/clustering/lib/python3.7/site-packages/ALLCools/dmr/fimo.py:60: FutureWarning: to_msgpack is deprecated and will be removed in a future version.\n",
      "It is recommended to use pyarrow for on-the-wire transmission of pandas objects.\n",
      "  final_df.to_msgpack(output_path, compress='zlib')\n"
     ]
    },
    {
     "name": "stdout",
     "output_type": "stream",
     "text": [
      "/home/hanliu/project/mouse_rostral_brain/DMR/ITSpatial_by_layer/IT-L6/MotifScan.h5adtemp/MA0159.1.meme, N motif total=38985\n"
     ]
    },
    {
     "name": "stderr",
     "output_type": "stream",
     "text": [
      "/home/hanliu/miniconda3/envs/clustering/lib/python3.7/site-packages/ALLCools/dmr/fimo.py:60: FutureWarning: to_msgpack is deprecated and will be removed in a future version.\n",
      "It is recommended to use pyarrow for on-the-wire transmission of pandas objects.\n",
      "  final_df.to_msgpack(output_path, compress='zlib')\n"
     ]
    },
    {
     "name": "stdout",
     "output_type": "stream",
     "text": [
      "/home/hanliu/project/mouse_rostral_brain/DMR/ITSpatial_by_layer/IT-L6/MotifScan.h5adtemp/MA0857.1.meme, N motif total=2538\n"
     ]
    },
    {
     "name": "stderr",
     "output_type": "stream",
     "text": [
      "/home/hanliu/miniconda3/envs/clustering/lib/python3.7/site-packages/ALLCools/dmr/fimo.py:60: FutureWarning: to_msgpack is deprecated and will be removed in a future version.\n",
      "It is recommended to use pyarrow for on-the-wire transmission of pandas objects.\n",
      "  final_df.to_msgpack(output_path, compress='zlib')\n"
     ]
    },
    {
     "name": "stdout",
     "output_type": "stream",
     "text": [
      "/home/hanliu/project/mouse_rostral_brain/DMR/ITSpatial_by_layer/IT-L6/MotifScan.h5adtemp/MA0730.1.meme, N motif total=10805\n"
     ]
    },
    {
     "name": "stderr",
     "output_type": "stream",
     "text": [
      "/home/hanliu/miniconda3/envs/clustering/lib/python3.7/site-packages/ALLCools/dmr/fimo.py:60: FutureWarning: to_msgpack is deprecated and will be removed in a future version.\n",
      "It is recommended to use pyarrow for on-the-wire transmission of pandas objects.\n",
      "  final_df.to_msgpack(output_path, compress='zlib')\n"
     ]
    },
    {
     "name": "stdout",
     "output_type": "stream",
     "text": [
      "/home/hanliu/project/mouse_rostral_brain/DMR/ITSpatial_by_layer/IT-L6/MotifScan.h5adtemp/MA0729.1.meme, N motif total=1243\n"
     ]
    },
    {
     "name": "stderr",
     "output_type": "stream",
     "text": [
      "/home/hanliu/miniconda3/envs/clustering/lib/python3.7/site-packages/ALLCools/dmr/fimo.py:60: FutureWarning: to_msgpack is deprecated and will be removed in a future version.\n",
      "It is recommended to use pyarrow for on-the-wire transmission of pandas objects.\n",
      "  final_df.to_msgpack(output_path, compress='zlib')\n"
     ]
    },
    {
     "name": "stdout",
     "output_type": "stream",
     "text": [
      "/home/hanliu/project/mouse_rostral_brain/DMR/ITSpatial_by_layer/IT-L6/MotifScan.h5adtemp/MA1552.1.meme, N motif total=20624\n"
     ]
    },
    {
     "name": "stderr",
     "output_type": "stream",
     "text": [
      "/home/hanliu/miniconda3/envs/clustering/lib/python3.7/site-packages/ALLCools/dmr/fimo.py:60: FutureWarning: to_msgpack is deprecated and will be removed in a future version.\n",
      "It is recommended to use pyarrow for on-the-wire transmission of pandas objects.\n",
      "  final_df.to_msgpack(output_path, compress='zlib')\n"
     ]
    },
    {
     "name": "stdout",
     "output_type": "stream",
     "text": [
      "/home/hanliu/project/mouse_rostral_brain/DMR/ITSpatial_by_layer/IT-L6/MotifScan.h5adtemp/MA1149.1.meme, N motif total=37701\n"
     ]
    },
    {
     "name": "stderr",
     "output_type": "stream",
     "text": [
      "/home/hanliu/miniconda3/envs/clustering/lib/python3.7/site-packages/ALLCools/dmr/fimo.py:60: FutureWarning: to_msgpack is deprecated and will be removed in a future version.\n",
      "It is recommended to use pyarrow for on-the-wire transmission of pandas objects.\n",
      "  final_df.to_msgpack(output_path, compress='zlib')\n"
     ]
    },
    {
     "name": "stdout",
     "output_type": "stream",
     "text": [
      "/home/hanliu/project/mouse_rostral_brain/DMR/ITSpatial_by_layer/IT-L6/MotifScan.h5adtemp/MA0718.1.meme, N motif total=16073\n"
     ]
    },
    {
     "name": "stderr",
     "output_type": "stream",
     "text": [
      "/home/hanliu/miniconda3/envs/clustering/lib/python3.7/site-packages/ALLCools/dmr/fimo.py:60: FutureWarning: to_msgpack is deprecated and will be removed in a future version.\n",
      "It is recommended to use pyarrow for on-the-wire transmission of pandas objects.\n",
      "  final_df.to_msgpack(output_path, compress='zlib')\n"
     ]
    },
    {
     "name": "stdout",
     "output_type": "stream",
     "text": [
      "/home/hanliu/project/mouse_rostral_brain/DMR/ITSpatial_by_layer/IT-L6/MotifScan.h5adtemp/MA1116.1.meme, N motif total=86862\n"
     ]
    },
    {
     "name": "stderr",
     "output_type": "stream",
     "text": [
      "/home/hanliu/miniconda3/envs/clustering/lib/python3.7/site-packages/ALLCools/dmr/fimo.py:60: FutureWarning: to_msgpack is deprecated and will be removed in a future version.\n",
      "It is recommended to use pyarrow for on-the-wire transmission of pandas objects.\n",
      "  final_df.to_msgpack(output_path, compress='zlib')\n"
     ]
    },
    {
     "name": "stdout",
     "output_type": "stream",
     "text": [
      "/home/hanliu/project/mouse_rostral_brain/DMR/ITSpatial_by_layer/IT-L6/MotifScan.h5adtemp/MA0101.1.meme, N motif total=33617\n"
     ]
    },
    {
     "name": "stderr",
     "output_type": "stream",
     "text": [
      "/home/hanliu/miniconda3/envs/clustering/lib/python3.7/site-packages/ALLCools/dmr/fimo.py:60: FutureWarning: to_msgpack is deprecated and will be removed in a future version.\n",
      "It is recommended to use pyarrow for on-the-wire transmission of pandas objects.\n",
      "  final_df.to_msgpack(output_path, compress='zlib')\n"
     ]
    },
    {
     "name": "stdout",
     "output_type": "stream",
     "text": [
      "/home/hanliu/project/mouse_rostral_brain/DMR/ITSpatial_by_layer/IT-L6/MotifScan.h5adtemp/MA0858.1.meme, N motif total=2780\n"
     ]
    },
    {
     "name": "stderr",
     "output_type": "stream",
     "text": [
      "/home/hanliu/miniconda3/envs/clustering/lib/python3.7/site-packages/ALLCools/dmr/fimo.py:60: FutureWarning: to_msgpack is deprecated and will be removed in a future version.\n",
      "It is recommended to use pyarrow for on-the-wire transmission of pandas objects.\n",
      "  final_df.to_msgpack(output_path, compress='zlib')\n"
     ]
    },
    {
     "name": "stdout",
     "output_type": "stream",
     "text": [
      "/home/hanliu/project/mouse_rostral_brain/DMR/ITSpatial_by_layer/IT-L6/MotifScan.h5adtemp/MA0107.1.meme, N motif total=43151\n"
     ]
    },
    {
     "name": "stderr",
     "output_type": "stream",
     "text": [
      "/home/hanliu/miniconda3/envs/clustering/lib/python3.7/site-packages/ALLCools/dmr/fimo.py:60: FutureWarning: to_msgpack is deprecated and will be removed in a future version.\n",
      "It is recommended to use pyarrow for on-the-wire transmission of pandas objects.\n",
      "  final_df.to_msgpack(output_path, compress='zlib')\n"
     ]
    },
    {
     "name": "stdout",
     "output_type": "stream",
     "text": [
      "/home/hanliu/project/mouse_rostral_brain/DMR/ITSpatial_by_layer/IT-L6/MotifScan.h5adtemp/MA0859.1.meme, N motif total=3786\n"
     ]
    },
    {
     "name": "stderr",
     "output_type": "stream",
     "text": [
      "/home/hanliu/miniconda3/envs/clustering/lib/python3.7/site-packages/ALLCools/dmr/fimo.py:60: FutureWarning: to_msgpack is deprecated and will be removed in a future version.\n",
      "It is recommended to use pyarrow for on-the-wire transmission of pandas objects.\n",
      "  final_df.to_msgpack(output_path, compress='zlib')\n"
     ]
    },
    {
     "name": "stdout",
     "output_type": "stream",
     "text": [
      "/home/hanliu/project/mouse_rostral_brain/DMR/ITSpatial_by_layer/IT-L6/MotifScan.h5adtemp/MA1553.1.meme, N motif total=23060\n"
     ]
    },
    {
     "name": "stderr",
     "output_type": "stream",
     "text": [
      "/home/hanliu/miniconda3/envs/clustering/lib/python3.7/site-packages/ALLCools/dmr/fimo.py:60: FutureWarning: to_msgpack is deprecated and will be removed in a future version.\n",
      "It is recommended to use pyarrow for on-the-wire transmission of pandas objects.\n",
      "  final_df.to_msgpack(output_path, compress='zlib')\n"
     ]
    },
    {
     "name": "stdout",
     "output_type": "stream",
     "text": [
      "/home/hanliu/project/mouse_rostral_brain/DMR/ITSpatial_by_layer/IT-L6/MotifScan.h5adtemp/MA0860.1.meme, N motif total=2193\n"
     ]
    },
    {
     "name": "stderr",
     "output_type": "stream",
     "text": [
      "/home/hanliu/miniconda3/envs/clustering/lib/python3.7/site-packages/ALLCools/dmr/fimo.py:60: FutureWarning: to_msgpack is deprecated and will be removed in a future version.\n",
      "It is recommended to use pyarrow for on-the-wire transmission of pandas objects.\n",
      "  final_df.to_msgpack(output_path, compress='zlib')\n"
     ]
    },
    {
     "name": "stdout",
     "output_type": "stream",
     "text": [
      "/home/hanliu/project/mouse_rostral_brain/DMR/ITSpatial_by_layer/IT-L6/MotifScan.h5adtemp/MA1117.1.meme, N motif total=33615\n"
     ]
    },
    {
     "name": "stderr",
     "output_type": "stream",
     "text": [
      "/home/hanliu/miniconda3/envs/clustering/lib/python3.7/site-packages/ALLCools/dmr/fimo.py:60: FutureWarning: to_msgpack is deprecated and will be removed in a future version.\n",
      "It is recommended to use pyarrow for on-the-wire transmission of pandas objects.\n",
      "  final_df.to_msgpack(output_path, compress='zlib')\n"
     ]
    },
    {
     "name": "stdout",
     "output_type": "stream",
     "text": [
      "/home/hanliu/project/mouse_rostral_brain/DMR/ITSpatial_by_layer/IT-L6/MotifScan.h5adtemp/MA1621.1.meme, N motif total=56218\n"
     ]
    },
    {
     "name": "stderr",
     "output_type": "stream",
     "text": [
      "/home/hanliu/miniconda3/envs/clustering/lib/python3.7/site-packages/ALLCools/dmr/fimo.py:60: FutureWarning: to_msgpack is deprecated and will be removed in a future version.\n",
      "It is recommended to use pyarrow for on-the-wire transmission of pandas objects.\n",
      "  final_df.to_msgpack(output_path, compress='zlib')\n"
     ]
    },
    {
     "name": "stdout",
     "output_type": "stream",
     "text": [
      "/home/hanliu/project/mouse_rostral_brain/DMR/ITSpatial_by_layer/IT-L6/MotifScan.h5adtemp/MA1554.1.meme, N motif total=21256\n"
     ]
    },
    {
     "name": "stderr",
     "output_type": "stream",
     "text": [
      "/home/hanliu/miniconda3/envs/clustering/lib/python3.7/site-packages/ALLCools/dmr/fimo.py:60: FutureWarning: to_msgpack is deprecated and will be removed in a future version.\n",
      "It is recommended to use pyarrow for on-the-wire transmission of pandas objects.\n",
      "  final_df.to_msgpack(output_path, compress='zlib')\n"
     ]
    },
    {
     "name": "stdout",
     "output_type": "stream",
     "text": [
      "/home/hanliu/project/mouse_rostral_brain/DMR/ITSpatial_by_layer/IT-L6/MotifScan.h5adtemp/MA0509.2.meme, N motif total=43302\n"
     ]
    },
    {
     "name": "stderr",
     "output_type": "stream",
     "text": [
      "/home/hanliu/miniconda3/envs/clustering/lib/python3.7/site-packages/ALLCools/dmr/fimo.py:60: FutureWarning: to_msgpack is deprecated and will be removed in a future version.\n",
      "It is recommended to use pyarrow for on-the-wire transmission of pandas objects.\n",
      "  final_df.to_msgpack(output_path, compress='zlib')\n"
     ]
    },
    {
     "name": "stdout",
     "output_type": "stream",
     "text": [
      "/home/hanliu/project/mouse_rostral_brain/DMR/ITSpatial_by_layer/IT-L6/MotifScan.h5adtemp/MA0071.1.meme, N motif total=32742\n"
     ]
    },
    {
     "name": "stderr",
     "output_type": "stream",
     "text": [
      "/home/hanliu/miniconda3/envs/clustering/lib/python3.7/site-packages/ALLCools/dmr/fimo.py:60: FutureWarning: to_msgpack is deprecated and will be removed in a future version.\n",
      "It is recommended to use pyarrow for on-the-wire transmission of pandas objects.\n",
      "  final_df.to_msgpack(output_path, compress='zlib')\n"
     ]
    },
    {
     "name": "stdout",
     "output_type": "stream",
     "text": [
      "/home/hanliu/project/mouse_rostral_brain/DMR/ITSpatial_by_layer/IT-L6/MotifScan.h5adtemp/MA0600.2.meme, N motif total=27676\n"
     ]
    },
    {
     "name": "stderr",
     "output_type": "stream",
     "text": [
      "/home/hanliu/miniconda3/envs/clustering/lib/python3.7/site-packages/ALLCools/dmr/fimo.py:60: FutureWarning: to_msgpack is deprecated and will be removed in a future version.\n",
      "It is recommended to use pyarrow for on-the-wire transmission of pandas objects.\n",
      "  final_df.to_msgpack(output_path, compress='zlib')\n"
     ]
    },
    {
     "name": "stdout",
     "output_type": "stream",
     "text": [
      "/home/hanliu/project/mouse_rostral_brain/DMR/ITSpatial_by_layer/IT-L6/MotifScan.h5adtemp/MA0798.2.meme, N motif total=44746\n"
     ]
    },
    {
     "name": "stderr",
     "output_type": "stream",
     "text": [
      "/home/hanliu/miniconda3/envs/clustering/lib/python3.7/site-packages/ALLCools/dmr/fimo.py:60: FutureWarning: to_msgpack is deprecated and will be removed in a future version.\n",
      "It is recommended to use pyarrow for on-the-wire transmission of pandas objects.\n",
      "  final_df.to_msgpack(output_path, compress='zlib')\n"
     ]
    },
    {
     "name": "stdout",
     "output_type": "stream",
     "text": [
      "/home/hanliu/project/mouse_rostral_brain/DMR/ITSpatial_by_layer/IT-L6/MotifScan.h5adtemp/MA0510.2.meme, N motif total=34709\n"
     ]
    },
    {
     "name": "stderr",
     "output_type": "stream",
     "text": [
      "/home/hanliu/miniconda3/envs/clustering/lib/python3.7/site-packages/ALLCools/dmr/fimo.py:60: FutureWarning: to_msgpack is deprecated and will be removed in a future version.\n",
      "It is recommended to use pyarrow for on-the-wire transmission of pandas objects.\n",
      "  final_df.to_msgpack(output_path, compress='zlib')\n"
     ]
    },
    {
     "name": "stdout",
     "output_type": "stream",
     "text": [
      "/home/hanliu/project/mouse_rostral_brain/DMR/ITSpatial_by_layer/IT-L6/MotifScan.h5adtemp/MA0799.1.meme, N motif total=35793\n"
     ]
    },
    {
     "name": "stderr",
     "output_type": "stream",
     "text": [
      "/home/hanliu/miniconda3/envs/clustering/lib/python3.7/site-packages/ALLCools/dmr/fimo.py:60: FutureWarning: to_msgpack is deprecated and will be removed in a future version.\n",
      "It is recommended to use pyarrow for on-the-wire transmission of pandas objects.\n",
      "  final_df.to_msgpack(output_path, compress='zlib')\n"
     ]
    },
    {
     "name": "stdout",
     "output_type": "stream",
     "text": [
      "/home/hanliu/project/mouse_rostral_brain/DMR/ITSpatial_by_layer/IT-L6/MotifScan.h5adtemp/MA0511.2.meme, N motif total=17902\n"
     ]
    },
    {
     "name": "stderr",
     "output_type": "stream",
     "text": [
      "/home/hanliu/miniconda3/envs/clustering/lib/python3.7/site-packages/ALLCools/dmr/fimo.py:60: FutureWarning: to_msgpack is deprecated and will be removed in a future version.\n",
      "It is recommended to use pyarrow for on-the-wire transmission of pandas objects.\n",
      "  final_df.to_msgpack(output_path, compress='zlib')\n"
     ]
    },
    {
     "name": "stdout",
     "output_type": "stream",
     "text": [
      "/home/hanliu/project/mouse_rostral_brain/DMR/ITSpatial_by_layer/IT-L6/MotifScan.h5adtemp/MA1150.1.meme, N motif total=26786\n"
     ]
    },
    {
     "name": "stderr",
     "output_type": "stream",
     "text": [
      "/home/hanliu/miniconda3/envs/clustering/lib/python3.7/site-packages/ALLCools/dmr/fimo.py:60: FutureWarning: to_msgpack is deprecated and will be removed in a future version.\n",
      "It is recommended to use pyarrow for on-the-wire transmission of pandas objects.\n",
      "  final_df.to_msgpack(output_path, compress='zlib')\n"
     ]
    },
    {
     "name": "stdout",
     "output_type": "stream",
     "text": [
      "/home/hanliu/project/mouse_rostral_brain/DMR/ITSpatial_by_layer/IT-L6/MotifScan.h5adtemp/MA0138.2.meme, N motif total=29970\n"
     ]
    },
    {
     "name": "stderr",
     "output_type": "stream",
     "text": [
      "/home/hanliu/miniconda3/envs/clustering/lib/python3.7/site-packages/ALLCools/dmr/fimo.py:60: FutureWarning: to_msgpack is deprecated and will be removed in a future version.\n",
      "It is recommended to use pyarrow for on-the-wire transmission of pandas objects.\n",
      "  final_df.to_msgpack(output_path, compress='zlib')\n"
     ]
    },
    {
     "name": "stdout",
     "output_type": "stream",
     "text": [
      "/home/hanliu/project/mouse_rostral_brain/DMR/ITSpatial_by_layer/IT-L6/MotifScan.h5adtemp/MA1151.1.meme, N motif total=25718\n"
     ]
    },
    {
     "name": "stderr",
     "output_type": "stream",
     "text": [
      "/home/hanliu/miniconda3/envs/clustering/lib/python3.7/site-packages/ALLCools/dmr/fimo.py:60: FutureWarning: to_msgpack is deprecated and will be removed in a future version.\n",
      "It is recommended to use pyarrow for on-the-wire transmission of pandas objects.\n",
      "  final_df.to_msgpack(output_path, compress='zlib')\n"
     ]
    },
    {
     "name": "stdout",
     "output_type": "stream",
     "text": [
      "/home/hanliu/project/mouse_rostral_brain/DMR/ITSpatial_by_layer/IT-L6/MotifScan.h5adtemp/MA0072.1.meme, N motif total=26905\n"
     ]
    },
    {
     "name": "stderr",
     "output_type": "stream",
     "text": [
      "/home/hanliu/miniconda3/envs/clustering/lib/python3.7/site-packages/ALLCools/dmr/fimo.py:60: FutureWarning: to_msgpack is deprecated and will be removed in a future version.\n",
      "It is recommended to use pyarrow for on-the-wire transmission of pandas objects.\n",
      "  final_df.to_msgpack(output_path, compress='zlib')\n"
     ]
    },
    {
     "name": "stdout",
     "output_type": "stream",
     "text": [
      "/home/hanliu/project/mouse_rostral_brain/DMR/ITSpatial_by_layer/IT-L6/MotifScan.h5adtemp/MA0002.2.meme, N motif total=70811\n"
     ]
    },
    {
     "name": "stderr",
     "output_type": "stream",
     "text": [
      "/home/hanliu/miniconda3/envs/clustering/lib/python3.7/site-packages/ALLCools/dmr/fimo.py:60: FutureWarning: to_msgpack is deprecated and will be removed in a future version.\n",
      "It is recommended to use pyarrow for on-the-wire transmission of pandas objects.\n",
      "  final_df.to_msgpack(output_path, compress='zlib')\n"
     ]
    },
    {
     "name": "stdout",
     "output_type": "stream",
     "text": [
      "/home/hanliu/project/mouse_rostral_brain/DMR/ITSpatial_by_layer/IT-L6/MotifScan.h5adtemp/MA0629.1.meme, N motif total=20337\n"
     ]
    },
    {
     "name": "stderr",
     "output_type": "stream",
     "text": [
      "/home/hanliu/miniconda3/envs/clustering/lib/python3.7/site-packages/ALLCools/dmr/fimo.py:60: FutureWarning: to_msgpack is deprecated and will be removed in a future version.\n",
      "It is recommended to use pyarrow for on-the-wire transmission of pandas objects.\n",
      "  final_df.to_msgpack(output_path, compress='zlib')\n"
     ]
    },
    {
     "name": "stdout",
     "output_type": "stream",
     "text": [
      "/home/hanliu/project/mouse_rostral_brain/DMR/ITSpatial_by_layer/IT-L6/MotifScan.h5adtemp/MA0684.2.meme, N motif total=37374\n"
     ]
    },
    {
     "name": "stderr",
     "output_type": "stream",
     "text": [
      "/home/hanliu/miniconda3/envs/clustering/lib/python3.7/site-packages/ALLCools/dmr/fimo.py:60: FutureWarning: to_msgpack is deprecated and will be removed in a future version.\n",
      "It is recommended to use pyarrow for on-the-wire transmission of pandas objects.\n",
      "  final_df.to_msgpack(output_path, compress='zlib')\n"
     ]
    },
    {
     "name": "stdout",
     "output_type": "stream",
     "text": [
      "/home/hanliu/project/mouse_rostral_brain/DMR/ITSpatial_by_layer/IT-L6/MotifScan.h5adtemp/MA0512.2.meme, N motif total=11462\n"
     ]
    },
    {
     "name": "stderr",
     "output_type": "stream",
     "text": [
      "/home/hanliu/miniconda3/envs/clustering/lib/python3.7/site-packages/ALLCools/dmr/fimo.py:60: FutureWarning: to_msgpack is deprecated and will be removed in a future version.\n",
      "It is recommended to use pyarrow for on-the-wire transmission of pandas objects.\n",
      "  final_df.to_msgpack(output_path, compress='zlib')\n"
     ]
    },
    {
     "name": "stdout",
     "output_type": "stream",
     "text": [
      "/home/hanliu/project/mouse_rostral_brain/DMR/ITSpatial_by_layer/IT-L6/MotifScan.h5adtemp/MA1555.1.meme, N motif total=22617\n"
     ]
    },
    {
     "name": "stderr",
     "output_type": "stream",
     "text": [
      "/home/hanliu/miniconda3/envs/clustering/lib/python3.7/site-packages/ALLCools/dmr/fimo.py:60: FutureWarning: to_msgpack is deprecated and will be removed in a future version.\n",
      "It is recommended to use pyarrow for on-the-wire transmission of pandas objects.\n",
      "  final_df.to_msgpack(output_path, compress='zlib')\n"
     ]
    },
    {
     "name": "stdout",
     "output_type": "stream",
     "text": [
      "/home/hanliu/project/mouse_rostral_brain/DMR/ITSpatial_by_layer/IT-L6/MotifScan.h5adtemp/MA0855.1.meme, N motif total=7224\n"
     ]
    },
    {
     "name": "stderr",
     "output_type": "stream",
     "text": [
      "/home/hanliu/miniconda3/envs/clustering/lib/python3.7/site-packages/ALLCools/dmr/fimo.py:60: FutureWarning: to_msgpack is deprecated and will be removed in a future version.\n",
      "It is recommended to use pyarrow for on-the-wire transmission of pandas objects.\n",
      "  final_df.to_msgpack(output_path, compress='zlib')\n"
     ]
    },
    {
     "name": "stdout",
     "output_type": "stream",
     "text": [
      "/home/hanliu/project/mouse_rostral_brain/DMR/ITSpatial_by_layer/IT-L6/MotifScan.h5adtemp/MA0074.1.meme, N motif total=13710\n"
     ]
    },
    {
     "name": "stderr",
     "output_type": "stream",
     "text": [
      "/home/hanliu/miniconda3/envs/clustering/lib/python3.7/site-packages/ALLCools/dmr/fimo.py:60: FutureWarning: to_msgpack is deprecated and will be removed in a future version.\n",
      "It is recommended to use pyarrow for on-the-wire transmission of pandas objects.\n",
      "  final_df.to_msgpack(output_path, compress='zlib')\n"
     ]
    },
    {
     "name": "stdout",
     "output_type": "stream",
     "text": [
      "/home/hanliu/project/mouse_rostral_brain/DMR/ITSpatial_by_layer/IT-L6/MotifScan.h5adtemp/MA0856.1.meme, N motif total=8783\n"
     ]
    },
    {
     "name": "stderr",
     "output_type": "stream",
     "text": [
      "/home/hanliu/miniconda3/envs/clustering/lib/python3.7/site-packages/ALLCools/dmr/fimo.py:60: FutureWarning: to_msgpack is deprecated and will be removed in a future version.\n",
      "It is recommended to use pyarrow for on-the-wire transmission of pandas objects.\n",
      "  final_df.to_msgpack(output_path, compress='zlib')\n"
     ]
    },
    {
     "name": "stdout",
     "output_type": "stream",
     "text": [
      "/home/hanliu/project/mouse_rostral_brain/DMR/ITSpatial_by_layer/IT-L6/MotifScan.h5adtemp/MA0630.1.meme, N motif total=16771\n"
     ]
    },
    {
     "name": "stderr",
     "output_type": "stream",
     "text": [
      "/home/hanliu/miniconda3/envs/clustering/lib/python3.7/site-packages/ALLCools/dmr/fimo.py:60: FutureWarning: to_msgpack is deprecated and will be removed in a future version.\n",
      "It is recommended to use pyarrow for on-the-wire transmission of pandas objects.\n",
      "  final_df.to_msgpack(output_path, compress='zlib')\n"
     ]
    },
    {
     "name": "stdout",
     "output_type": "stream",
     "text": [
      "/home/hanliu/project/mouse_rostral_brain/DMR/ITSpatial_by_layer/IT-L6/MotifScan.h5adtemp/MA0073.1.meme, N motif total=271598\n"
     ]
    },
    {
     "name": "stderr",
     "output_type": "stream",
     "text": [
      "/home/hanliu/miniconda3/envs/clustering/lib/python3.7/site-packages/ALLCools/dmr/fimo.py:60: FutureWarning: to_msgpack is deprecated and will be removed in a future version.\n",
      "It is recommended to use pyarrow for on-the-wire transmission of pandas objects.\n",
      "  final_df.to_msgpack(output_path, compress='zlib')\n"
     ]
    },
    {
     "name": "stdout",
     "output_type": "stream",
     "text": [
      "/home/hanliu/project/mouse_rostral_brain/DMR/ITSpatial_by_layer/IT-L6/MotifScan.h5adtemp/MA1556.1.meme, N motif total=23854\n"
     ]
    },
    {
     "name": "stderr",
     "output_type": "stream",
     "text": [
      "/home/hanliu/miniconda3/envs/clustering/lib/python3.7/site-packages/ALLCools/dmr/fimo.py:60: FutureWarning: to_msgpack is deprecated and will be removed in a future version.\n",
      "It is recommended to use pyarrow for on-the-wire transmission of pandas objects.\n",
      "  final_df.to_msgpack(output_path, compress='zlib')\n"
     ]
    },
    {
     "name": "stdout",
     "output_type": "stream",
     "text": [
      "/home/hanliu/project/mouse_rostral_brain/DMR/ITSpatial_by_layer/IT-L6/MotifScan.h5adtemp/MA0720.1.meme, N motif total=16771\n"
     ]
    },
    {
     "name": "stderr",
     "output_type": "stream",
     "text": [
      "/home/hanliu/miniconda3/envs/clustering/lib/python3.7/site-packages/ALLCools/dmr/fimo.py:60: FutureWarning: to_msgpack is deprecated and will be removed in a future version.\n",
      "It is recommended to use pyarrow for on-the-wire transmission of pandas objects.\n",
      "  final_df.to_msgpack(output_path, compress='zlib')\n"
     ]
    },
    {
     "name": "stdout",
     "output_type": "stream",
     "text": [
      "/home/hanliu/project/mouse_rostral_brain/DMR/ITSpatial_by_layer/IT-L6/MotifScan.h5adtemp/MA0744.2.meme, N motif total=35357\n"
     ]
    },
    {
     "name": "stderr",
     "output_type": "stream",
     "text": [
      "/home/hanliu/miniconda3/envs/clustering/lib/python3.7/site-packages/ALLCools/dmr/fimo.py:60: FutureWarning: to_msgpack is deprecated and will be removed in a future version.\n",
      "It is recommended to use pyarrow for on-the-wire transmission of pandas objects.\n",
      "  final_df.to_msgpack(output_path, compress='zlib')\n"
     ]
    },
    {
     "name": "stdout",
     "output_type": "stream",
     "text": [
      "/home/hanliu/project/mouse_rostral_brain/DMR/ITSpatial_by_layer/IT-L6/MotifScan.h5adtemp/MA0743.2.meme, N motif total=33641\n"
     ]
    },
    {
     "name": "stderr",
     "output_type": "stream",
     "text": [
      "/home/hanliu/miniconda3/envs/clustering/lib/python3.7/site-packages/ALLCools/dmr/fimo.py:60: FutureWarning: to_msgpack is deprecated and will be removed in a future version.\n",
      "It is recommended to use pyarrow for on-the-wire transmission of pandas objects.\n",
      "  final_df.to_msgpack(output_path, compress='zlib')\n"
     ]
    },
    {
     "name": "stdout",
     "output_type": "stream",
     "text": [
      "/home/hanliu/project/mouse_rostral_brain/DMR/ITSpatial_by_layer/IT-L6/MotifScan.h5adtemp/MA1153.1.meme, N motif total=30000\n"
     ]
    },
    {
     "name": "stderr",
     "output_type": "stream",
     "text": [
      "/home/hanliu/miniconda3/envs/clustering/lib/python3.7/site-packages/ALLCools/dmr/fimo.py:60: FutureWarning: to_msgpack is deprecated and will be removed in a future version.\n",
      "It is recommended to use pyarrow for on-the-wire transmission of pandas objects.\n",
      "  final_df.to_msgpack(output_path, compress='zlib')\n"
     ]
    },
    {
     "name": "stdout",
     "output_type": "stream",
     "text": [
      "/home/hanliu/project/mouse_rostral_brain/DMR/ITSpatial_by_layer/IT-L6/MotifScan.h5adtemp/MA1118.1.meme, N motif total=29377\n"
     ]
    },
    {
     "name": "stderr",
     "output_type": "stream",
     "text": [
      "/home/hanliu/miniconda3/envs/clustering/lib/python3.7/site-packages/ALLCools/dmr/fimo.py:60: FutureWarning: to_msgpack is deprecated and will be removed in a future version.\n",
      "It is recommended to use pyarrow for on-the-wire transmission of pandas objects.\n",
      "  final_df.to_msgpack(output_path, compress='zlib')\n"
     ]
    },
    {
     "name": "stdout",
     "output_type": "stream",
     "text": [
      "/home/hanliu/project/mouse_rostral_brain/DMR/ITSpatial_by_layer/IT-L6/MotifScan.h5adtemp/MA1557.1.meme, N motif total=17394\n"
     ]
    },
    {
     "name": "stderr",
     "output_type": "stream",
     "text": [
      "/home/hanliu/miniconda3/envs/clustering/lib/python3.7/site-packages/ALLCools/dmr/fimo.py:60: FutureWarning: to_msgpack is deprecated and will be removed in a future version.\n",
      "It is recommended to use pyarrow for on-the-wire transmission of pandas objects.\n",
      "  final_df.to_msgpack(output_path, compress='zlib')\n"
     ]
    },
    {
     "name": "stdout",
     "output_type": "stream",
     "text": [
      "/home/hanliu/project/mouse_rostral_brain/DMR/ITSpatial_by_layer/IT-L6/MotifScan.h5adtemp/MA0795.1.meme, N motif total=22433\n"
     ]
    },
    {
     "name": "stderr",
     "output_type": "stream",
     "text": [
      "/home/hanliu/miniconda3/envs/clustering/lib/python3.7/site-packages/ALLCools/dmr/fimo.py:60: FutureWarning: to_msgpack is deprecated and will be removed in a future version.\n",
      "It is recommended to use pyarrow for on-the-wire transmission of pandas objects.\n",
      "  final_df.to_msgpack(output_path, compress='zlib')\n"
     ]
    },
    {
     "name": "stdout",
     "output_type": "stream",
     "text": [
      "/home/hanliu/project/mouse_rostral_brain/DMR/ITSpatial_by_layer/IT-L6/MotifScan.h5adtemp/MA1558.1.meme, N motif total=49881\n"
     ]
    },
    {
     "name": "stderr",
     "output_type": "stream",
     "text": [
      "/home/hanliu/miniconda3/envs/clustering/lib/python3.7/site-packages/ALLCools/dmr/fimo.py:60: FutureWarning: to_msgpack is deprecated and will be removed in a future version.\n",
      "It is recommended to use pyarrow for on-the-wire transmission of pandas objects.\n",
      "  final_df.to_msgpack(output_path, compress='zlib')\n"
     ]
    },
    {
     "name": "stdout",
     "output_type": "stream",
     "text": [
      "/home/hanliu/project/mouse_rostral_brain/DMR/ITSpatial_by_layer/IT-L6/MotifScan.h5adtemp/MA1622.1.meme, N motif total=60944\n"
     ]
    },
    {
     "name": "stderr",
     "output_type": "stream",
     "text": [
      "/home/hanliu/miniconda3/envs/clustering/lib/python3.7/site-packages/ALLCools/dmr/fimo.py:60: FutureWarning: to_msgpack is deprecated and will be removed in a future version.\n",
      "It is recommended to use pyarrow for on-the-wire transmission of pandas objects.\n",
      "  final_df.to_msgpack(output_path, compress='zlib')\n"
     ]
    },
    {
     "name": "stdout",
     "output_type": "stream",
     "text": [
      "/home/hanliu/project/mouse_rostral_brain/DMR/ITSpatial_by_layer/IT-L6/MotifScan.h5adtemp/MA1119.1.meme, N motif total=39318\n"
     ]
    },
    {
     "name": "stderr",
     "output_type": "stream",
     "text": [
      "/home/hanliu/miniconda3/envs/clustering/lib/python3.7/site-packages/ALLCools/dmr/fimo.py:60: FutureWarning: to_msgpack is deprecated and will be removed in a future version.\n",
      "It is recommended to use pyarrow for on-the-wire transmission of pandas objects.\n",
      "  final_df.to_msgpack(output_path, compress='zlib')\n"
     ]
    },
    {
     "name": "stdout",
     "output_type": "stream",
     "text": [
      "/home/hanliu/project/mouse_rostral_brain/DMR/ITSpatial_by_layer/IT-L6/MotifScan.h5adtemp/MA0513.1.meme, N motif total=86543\n"
     ]
    },
    {
     "name": "stderr",
     "output_type": "stream",
     "text": [
      "/home/hanliu/miniconda3/envs/clustering/lib/python3.7/site-packages/ALLCools/dmr/fimo.py:60: FutureWarning: to_msgpack is deprecated and will be removed in a future version.\n",
      "It is recommended to use pyarrow for on-the-wire transmission of pandas objects.\n",
      "  final_df.to_msgpack(output_path, compress='zlib')\n"
     ]
    },
    {
     "name": "stdout",
     "output_type": "stream",
     "text": [
      "/home/hanliu/project/mouse_rostral_brain/DMR/ITSpatial_by_layer/IT-L6/MotifScan.h5adtemp/MA1560.1.meme, N motif total=22737\n"
     ]
    },
    {
     "name": "stderr",
     "output_type": "stream",
     "text": [
      "/home/hanliu/miniconda3/envs/clustering/lib/python3.7/site-packages/ALLCools/dmr/fimo.py:60: FutureWarning: to_msgpack is deprecated and will be removed in a future version.\n",
      "It is recommended to use pyarrow for on-the-wire transmission of pandas objects.\n",
      "  final_df.to_msgpack(output_path, compress='zlib')\n"
     ]
    },
    {
     "name": "stdout",
     "output_type": "stream",
     "text": [
      "/home/hanliu/project/mouse_rostral_brain/DMR/ITSpatial_by_layer/IT-L6/MotifScan.h5adtemp/MA0745.2.meme, N motif total=50968\n"
     ]
    },
    {
     "name": "stderr",
     "output_type": "stream",
     "text": [
      "/home/hanliu/miniconda3/envs/clustering/lib/python3.7/site-packages/ALLCools/dmr/fimo.py:60: FutureWarning: to_msgpack is deprecated and will be removed in a future version.\n",
      "It is recommended to use pyarrow for on-the-wire transmission of pandas objects.\n",
      "  final_df.to_msgpack(output_path, compress='zlib')\n"
     ]
    },
    {
     "name": "stdout",
     "output_type": "stream",
     "text": [
      "/home/hanliu/project/mouse_rostral_brain/DMR/ITSpatial_by_layer/IT-L6/MotifScan.h5adtemp/MA1559.1.meme, N motif total=50147\n"
     ]
    },
    {
     "name": "stderr",
     "output_type": "stream",
     "text": [
      "/home/hanliu/miniconda3/envs/clustering/lib/python3.7/site-packages/ALLCools/dmr/fimo.py:60: FutureWarning: to_msgpack is deprecated and will be removed in a future version.\n",
      "It is recommended to use pyarrow for on-the-wire transmission of pandas objects.\n",
      "  final_df.to_msgpack(output_path, compress='zlib')\n"
     ]
    },
    {
     "name": "stdout",
     "output_type": "stream",
     "text": [
      "/home/hanliu/project/mouse_rostral_brain/DMR/ITSpatial_by_layer/IT-L6/MotifScan.h5adtemp/MA0631.1.meme, N motif total=16680\n"
     ]
    },
    {
     "name": "stderr",
     "output_type": "stream",
     "text": [
      "/home/hanliu/miniconda3/envs/clustering/lib/python3.7/site-packages/ALLCools/dmr/fimo.py:60: FutureWarning: to_msgpack is deprecated and will be removed in a future version.\n",
      "It is recommended to use pyarrow for on-the-wire transmission of pandas objects.\n",
      "  final_df.to_msgpack(output_path, compress='zlib')\n"
     ]
    },
    {
     "name": "stdout",
     "output_type": "stream",
     "text": [
      "/home/hanliu/project/mouse_rostral_brain/DMR/ITSpatial_by_layer/IT-L6/MotifScan.h5adtemp/MA0870.1.meme, N motif total=9799\n"
     ]
    },
    {
     "name": "stderr",
     "output_type": "stream",
     "text": [
      "/home/hanliu/miniconda3/envs/clustering/lib/python3.7/site-packages/ALLCools/dmr/fimo.py:60: FutureWarning: to_msgpack is deprecated and will be removed in a future version.\n",
      "It is recommended to use pyarrow for on-the-wire transmission of pandas objects.\n",
      "  final_df.to_msgpack(output_path, compress='zlib')\n"
     ]
    },
    {
     "name": "stdout",
     "output_type": "stream",
     "text": [
      "/home/hanliu/project/mouse_rostral_brain/DMR/ITSpatial_by_layer/IT-L6/MotifScan.h5adtemp/MA0442.2.meme, N motif total=59189\n"
     ]
    },
    {
     "name": "stderr",
     "output_type": "stream",
     "text": [
      "/home/hanliu/miniconda3/envs/clustering/lib/python3.7/site-packages/ALLCools/dmr/fimo.py:60: FutureWarning: to_msgpack is deprecated and will be removed in a future version.\n",
      "It is recommended to use pyarrow for on-the-wire transmission of pandas objects.\n",
      "  final_df.to_msgpack(output_path, compress='zlib')\n"
     ]
    },
    {
     "name": "stdout",
     "output_type": "stream",
     "text": [
      "/home/hanliu/project/mouse_rostral_brain/DMR/ITSpatial_by_layer/IT-L6/MotifScan.h5adtemp/MA1561.1.meme, N motif total=15686\n"
     ]
    },
    {
     "name": "stderr",
     "output_type": "stream",
     "text": [
      "/home/hanliu/miniconda3/envs/clustering/lib/python3.7/site-packages/ALLCools/dmr/fimo.py:60: FutureWarning: to_msgpack is deprecated and will be removed in a future version.\n",
      "It is recommended to use pyarrow for on-the-wire transmission of pandas objects.\n",
      "  final_df.to_msgpack(output_path, compress='zlib')\n"
     ]
    },
    {
     "name": "stdout",
     "output_type": "stream",
     "text": [
      "/home/hanliu/project/mouse_rostral_brain/DMR/ITSpatial_by_layer/IT-L6/MotifScan.h5adtemp/MA1563.1.meme, N motif total=20776\n"
     ]
    },
    {
     "name": "stderr",
     "output_type": "stream",
     "text": [
      "/home/hanliu/miniconda3/envs/clustering/lib/python3.7/site-packages/ALLCools/dmr/fimo.py:60: FutureWarning: to_msgpack is deprecated and will be removed in a future version.\n",
      "It is recommended to use pyarrow for on-the-wire transmission of pandas objects.\n",
      "  final_df.to_msgpack(output_path, compress='zlib')\n"
     ]
    },
    {
     "name": "stdout",
     "output_type": "stream",
     "text": [
      "/home/hanliu/project/mouse_rostral_brain/DMR/ITSpatial_by_layer/IT-L6/MotifScan.h5adtemp/MA1562.1.meme, N motif total=16684\n"
     ]
    },
    {
     "name": "stderr",
     "output_type": "stream",
     "text": [
      "/home/hanliu/miniconda3/envs/clustering/lib/python3.7/site-packages/ALLCools/dmr/fimo.py:60: FutureWarning: to_msgpack is deprecated and will be removed in a future version.\n",
      "It is recommended to use pyarrow for on-the-wire transmission of pandas objects.\n",
      "  final_df.to_msgpack(output_path, compress='zlib')\n"
     ]
    },
    {
     "name": "stdout",
     "output_type": "stream",
     "text": [
      "/home/hanliu/project/mouse_rostral_brain/DMR/ITSpatial_by_layer/IT-L6/MotifScan.h5adtemp/MA0078.1.meme, N motif total=29507\n"
     ]
    },
    {
     "name": "stderr",
     "output_type": "stream",
     "text": [
      "/home/hanliu/miniconda3/envs/clustering/lib/python3.7/site-packages/ALLCools/dmr/fimo.py:60: FutureWarning: to_msgpack is deprecated and will be removed in a future version.\n",
      "It is recommended to use pyarrow for on-the-wire transmission of pandas objects.\n",
      "  final_df.to_msgpack(output_path, compress='zlib')\n"
     ]
    },
    {
     "name": "stdout",
     "output_type": "stream",
     "text": [
      "Motif MA0087.1 Sox5 do not have any match under current settings.\n"
     ]
    },
    {
     "name": "stdout",
     "output_type": "stream",
     "text": [
      "/home/hanliu/project/mouse_rostral_brain/DMR/ITSpatial_by_layer/IT-L6/MotifScan.h5adtemp/MA1120.1.meme, N motif total=30991\n"
     ]
    },
    {
     "name": "stderr",
     "output_type": "stream",
     "text": [
      "/home/hanliu/miniconda3/envs/clustering/lib/python3.7/site-packages/ALLCools/dmr/fimo.py:60: FutureWarning: to_msgpack is deprecated and will be removed in a future version.\n",
      "It is recommended to use pyarrow for on-the-wire transmission of pandas objects.\n",
      "  final_df.to_msgpack(output_path, compress='zlib')\n"
     ]
    },
    {
     "name": "stdout",
     "output_type": "stream",
     "text": [
      "/home/hanliu/project/mouse_rostral_brain/DMR/ITSpatial_by_layer/IT-L6/MotifScan.h5adtemp/MA0869.1.meme, N motif total=537\n"
     ]
    },
    {
     "name": "stderr",
     "output_type": "stream",
     "text": [
      "/home/hanliu/miniconda3/envs/clustering/lib/python3.7/site-packages/ALLCools/dmr/fimo.py:60: FutureWarning: to_msgpack is deprecated and will be removed in a future version.\n",
      "It is recommended to use pyarrow for on-the-wire transmission of pandas objects.\n",
      "  final_df.to_msgpack(output_path, compress='zlib')\n"
     ]
    },
    {
     "name": "stdout",
     "output_type": "stream",
     "text": [
      "/home/hanliu/project/mouse_rostral_brain/DMR/ITSpatial_by_layer/IT-L6/MotifScan.h5adtemp/MA0143.4.meme, N motif total=32144\n"
     ]
    },
    {
     "name": "stderr",
     "output_type": "stream",
     "text": [
      "/home/hanliu/miniconda3/envs/clustering/lib/python3.7/site-packages/ALLCools/dmr/fimo.py:60: FutureWarning: to_msgpack is deprecated and will be removed in a future version.\n",
      "It is recommended to use pyarrow for on-the-wire transmission of pandas objects.\n",
      "  final_df.to_msgpack(output_path, compress='zlib')\n"
     ]
    },
    {
     "name": "stdout",
     "output_type": "stream",
     "text": [
      "/home/hanliu/project/mouse_rostral_brain/DMR/ITSpatial_by_layer/IT-L6/MotifScan.h5adtemp/MA1152.1.meme, N motif total=52693\n"
     ]
    },
    {
     "name": "stderr",
     "output_type": "stream",
     "text": [
      "/home/hanliu/miniconda3/envs/clustering/lib/python3.7/site-packages/ALLCools/dmr/fimo.py:60: FutureWarning: to_msgpack is deprecated and will be removed in a future version.\n",
      "It is recommended to use pyarrow for on-the-wire transmission of pandas objects.\n",
      "  final_df.to_msgpack(output_path, compress='zlib')\n"
     ]
    },
    {
     "name": "stdout",
     "output_type": "stream",
     "text": [
      "/home/hanliu/project/mouse_rostral_brain/DMR/ITSpatial_by_layer/IT-L6/MotifScan.h5adtemp/MA0867.2.meme, N motif total=49503\n"
     ]
    },
    {
     "name": "stderr",
     "output_type": "stream",
     "text": [
      "/home/hanliu/miniconda3/envs/clustering/lib/python3.7/site-packages/ALLCools/dmr/fimo.py:60: FutureWarning: to_msgpack is deprecated and will be removed in a future version.\n",
      "It is recommended to use pyarrow for on-the-wire transmission of pandas objects.\n",
      "  final_df.to_msgpack(output_path, compress='zlib')\n"
     ]
    },
    {
     "name": "stdout",
     "output_type": "stream",
     "text": [
      "/home/hanliu/project/mouse_rostral_brain/DMR/ITSpatial_by_layer/IT-L6/MotifScan.h5adtemp/MA0077.1.meme, N motif total=21883\n"
     ]
    },
    {
     "name": "stderr",
     "output_type": "stream",
     "text": [
      "/home/hanliu/miniconda3/envs/clustering/lib/python3.7/site-packages/ALLCools/dmr/fimo.py:60: FutureWarning: to_msgpack is deprecated and will be removed in a future version.\n",
      "It is recommended to use pyarrow for on-the-wire transmission of pandas objects.\n",
      "  final_df.to_msgpack(output_path, compress='zlib')\n"
     ]
    },
    {
     "name": "stdout",
     "output_type": "stream",
     "text": [
      "/home/hanliu/project/mouse_rostral_brain/DMR/ITSpatial_by_layer/IT-L6/MotifScan.h5adtemp/MA0514.1.meme, N motif total=87472\n"
     ]
    },
    {
     "name": "stderr",
     "output_type": "stream",
     "text": [
      "/home/hanliu/miniconda3/envs/clustering/lib/python3.7/site-packages/ALLCools/dmr/fimo.py:60: FutureWarning: to_msgpack is deprecated and will be removed in a future version.\n",
      "It is recommended to use pyarrow for on-the-wire transmission of pandas objects.\n",
      "  final_df.to_msgpack(output_path, compress='zlib')\n"
     ]
    },
    {
     "name": "stdout",
     "output_type": "stream",
     "text": [
      "/home/hanliu/project/mouse_rostral_brain/DMR/ITSpatial_by_layer/IT-L6/MotifScan.h5adtemp/MA0868.2.meme, N motif total=26630\n"
     ]
    },
    {
     "name": "stderr",
     "output_type": "stream",
     "text": [
      "/home/hanliu/miniconda3/envs/clustering/lib/python3.7/site-packages/ALLCools/dmr/fimo.py:60: FutureWarning: to_msgpack is deprecated and will be removed in a future version.\n",
      "It is recommended to use pyarrow for on-the-wire transmission of pandas objects.\n",
      "  final_df.to_msgpack(output_path, compress='zlib')\n"
     ]
    },
    {
     "name": "stdout",
     "output_type": "stream",
     "text": [
      "/home/hanliu/project/mouse_rostral_brain/DMR/ITSpatial_by_layer/IT-L6/MotifScan.h5adtemp/MA0515.1.meme, N motif total=52031\n"
     ]
    },
    {
     "name": "stderr",
     "output_type": "stream",
     "text": [
      "/home/hanliu/miniconda3/envs/clustering/lib/python3.7/site-packages/ALLCools/dmr/fimo.py:60: FutureWarning: to_msgpack is deprecated and will be removed in a future version.\n",
      "It is recommended to use pyarrow for on-the-wire transmission of pandas objects.\n",
      "  final_df.to_msgpack(output_path, compress='zlib')\n"
     ]
    },
    {
     "name": "stdout",
     "output_type": "stream",
     "text": [
      "/home/hanliu/project/mouse_rostral_brain/DMR/ITSpatial_by_layer/IT-L6/MotifScan.h5adtemp/MA0866.1.meme, N motif total=6120\n"
     ]
    },
    {
     "name": "stderr",
     "output_type": "stream",
     "text": [
      "/home/hanliu/miniconda3/envs/clustering/lib/python3.7/site-packages/ALLCools/dmr/fimo.py:60: FutureWarning: to_msgpack is deprecated and will be removed in a future version.\n",
      "It is recommended to use pyarrow for on-the-wire transmission of pandas objects.\n",
      "  final_df.to_msgpack(output_path, compress='zlib')\n"
     ]
    },
    {
     "name": "stdout",
     "output_type": "stream",
     "text": [
      "/home/hanliu/project/mouse_rostral_brain/DMR/ITSpatial_by_layer/IT-L6/MotifScan.h5adtemp/MA0746.2.meme, N motif total=86591\n"
     ]
    },
    {
     "name": "stderr",
     "output_type": "stream",
     "text": [
      "/home/hanliu/miniconda3/envs/clustering/lib/python3.7/site-packages/ALLCools/dmr/fimo.py:60: FutureWarning: to_msgpack is deprecated and will be removed in a future version.\n",
      "It is recommended to use pyarrow for on-the-wire transmission of pandas objects.\n",
      "  final_df.to_msgpack(output_path, compress='zlib')\n"
     ]
    },
    {
     "name": "stdout",
     "output_type": "stream",
     "text": [
      "/home/hanliu/project/mouse_rostral_brain/DMR/ITSpatial_by_layer/IT-L6/MotifScan.h5adtemp/MA0685.1.meme, N motif total=25505\n"
     ]
    },
    {
     "name": "stderr",
     "output_type": "stream",
     "text": [
      "/home/hanliu/miniconda3/envs/clustering/lib/python3.7/site-packages/ALLCools/dmr/fimo.py:60: FutureWarning: to_msgpack is deprecated and will be removed in a future version.\n",
      "It is recommended to use pyarrow for on-the-wire transmission of pandas objects.\n",
      "  final_df.to_msgpack(output_path, compress='zlib')\n"
     ]
    },
    {
     "name": "stdout",
     "output_type": "stream",
     "text": [
      "/home/hanliu/project/mouse_rostral_brain/DMR/ITSpatial_by_layer/IT-L6/MotifScan.h5adtemp/MA0747.1.meme, N motif total=132962\n"
     ]
    },
    {
     "name": "stderr",
     "output_type": "stream",
     "text": [
      "/home/hanliu/miniconda3/envs/clustering/lib/python3.7/site-packages/ALLCools/dmr/fimo.py:60: FutureWarning: to_msgpack is deprecated and will be removed in a future version.\n",
      "It is recommended to use pyarrow for on-the-wire transmission of pandas objects.\n",
      "  final_df.to_msgpack(output_path, compress='zlib')\n"
     ]
    },
    {
     "name": "stdout",
     "output_type": "stream",
     "text": [
      "/home/hanliu/project/mouse_rostral_brain/DMR/ITSpatial_by_layer/IT-L6/MotifScan.h5adtemp/MA0079.4.meme, N motif total=31193\n"
     ]
    },
    {
     "name": "stderr",
     "output_type": "stream",
     "text": [
      "/home/hanliu/miniconda3/envs/clustering/lib/python3.7/site-packages/ALLCools/dmr/fimo.py:60: FutureWarning: to_msgpack is deprecated and will be removed in a future version.\n",
      "It is recommended to use pyarrow for on-the-wire transmission of pandas objects.\n",
      "  final_df.to_msgpack(output_path, compress='zlib')\n"
     ]
    },
    {
     "name": "stdout",
     "output_type": "stream",
     "text": [
      "/home/hanliu/project/mouse_rostral_brain/DMR/ITSpatial_by_layer/IT-L6/MotifScan.h5adtemp/MA0686.1.meme, N motif total=13781\n"
     ]
    },
    {
     "name": "stderr",
     "output_type": "stream",
     "text": [
      "/home/hanliu/miniconda3/envs/clustering/lib/python3.7/site-packages/ALLCools/dmr/fimo.py:60: FutureWarning: to_msgpack is deprecated and will be removed in a future version.\n",
      "It is recommended to use pyarrow for on-the-wire transmission of pandas objects.\n",
      "  final_df.to_msgpack(output_path, compress='zlib')\n"
     ]
    },
    {
     "name": "stdout",
     "output_type": "stream",
     "text": [
      "/home/hanliu/project/mouse_rostral_brain/DMR/ITSpatial_by_layer/IT-L6/MotifScan.h5adtemp/MA1564.1.meme, N motif total=115701\n"
     ]
    },
    {
     "name": "stderr",
     "output_type": "stream",
     "text": [
      "/home/hanliu/miniconda3/envs/clustering/lib/python3.7/site-packages/ALLCools/dmr/fimo.py:60: FutureWarning: to_msgpack is deprecated and will be removed in a future version.\n",
      "It is recommended to use pyarrow for on-the-wire transmission of pandas objects.\n",
      "  final_df.to_msgpack(output_path, compress='zlib')\n"
     ]
    },
    {
     "name": "stdout",
     "output_type": "stream",
     "text": [
      "/home/hanliu/project/mouse_rostral_brain/DMR/ITSpatial_by_layer/IT-L6/MotifScan.h5adtemp/MA0516.2.meme, N motif total=126472\n"
     ]
    },
    {
     "name": "stderr",
     "output_type": "stream",
     "text": [
      "/home/hanliu/miniconda3/envs/clustering/lib/python3.7/site-packages/ALLCools/dmr/fimo.py:60: FutureWarning: to_msgpack is deprecated and will be removed in a future version.\n",
      "It is recommended to use pyarrow for on-the-wire transmission of pandas objects.\n",
      "  final_df.to_msgpack(output_path, compress='zlib')\n"
     ]
    },
    {
     "name": "stdout",
     "output_type": "stream",
     "text": [
      "/home/hanliu/project/mouse_rostral_brain/DMR/ITSpatial_by_layer/IT-L6/MotifScan.h5adtemp/MA0111.1.meme, N motif total=36267\n"
     ]
    },
    {
     "name": "stderr",
     "output_type": "stream",
     "text": [
      "/home/hanliu/miniconda3/envs/clustering/lib/python3.7/site-packages/ALLCools/dmr/fimo.py:60: FutureWarning: to_msgpack is deprecated and will be removed in a future version.\n",
      "It is recommended to use pyarrow for on-the-wire transmission of pandas objects.\n",
      "  final_df.to_msgpack(output_path, compress='zlib')\n"
     ]
    },
    {
     "name": "stdout",
     "output_type": "stream",
     "text": [
      "/home/hanliu/project/mouse_rostral_brain/DMR/ITSpatial_by_layer/IT-L6/MotifScan.h5adtemp/MA0687.1.meme, N motif total=50043\n"
     ]
    },
    {
     "name": "stderr",
     "output_type": "stream",
     "text": [
      "/home/hanliu/miniconda3/envs/clustering/lib/python3.7/site-packages/ALLCools/dmr/fimo.py:60: FutureWarning: to_msgpack is deprecated and will be removed in a future version.\n",
      "It is recommended to use pyarrow for on-the-wire transmission of pandas objects.\n",
      "  final_df.to_msgpack(output_path, compress='zlib')\n"
     ]
    },
    {
     "name": "stdout",
     "output_type": "stream",
     "text": [
      "/home/hanliu/project/mouse_rostral_brain/DMR/ITSpatial_by_layer/IT-L6/MotifScan.h5adtemp/MA0595.1.meme, N motif total=34976\n"
     ]
    },
    {
     "name": "stderr",
     "output_type": "stream",
     "text": [
      "/home/hanliu/miniconda3/envs/clustering/lib/python3.7/site-packages/ALLCools/dmr/fimo.py:60: FutureWarning: to_msgpack is deprecated and will be removed in a future version.\n",
      "It is recommended to use pyarrow for on-the-wire transmission of pandas objects.\n",
      "  final_df.to_msgpack(output_path, compress='zlib')\n"
     ]
    },
    {
     "name": "stdout",
     "output_type": "stream",
     "text": [
      "/home/hanliu/project/mouse_rostral_brain/DMR/ITSpatial_by_layer/IT-L6/MotifScan.h5adtemp/MA0596.1.meme, N motif total=36921\n"
     ]
    },
    {
     "name": "stderr",
     "output_type": "stream",
     "text": [
      "/home/hanliu/miniconda3/envs/clustering/lib/python3.7/site-packages/ALLCools/dmr/fimo.py:60: FutureWarning: to_msgpack is deprecated and will be removed in a future version.\n",
      "It is recommended to use pyarrow for on-the-wire transmission of pandas objects.\n",
      "  final_df.to_msgpack(output_path, compress='zlib')\n"
     ]
    },
    {
     "name": "stdout",
     "output_type": "stream",
     "text": [
      "/home/hanliu/project/mouse_rostral_brain/DMR/ITSpatial_by_layer/IT-L6/MotifScan.h5adtemp/MA0081.2.meme, N motif total=119019\n"
     ]
    },
    {
     "name": "stderr",
     "output_type": "stream",
     "text": [
      "/home/hanliu/miniconda3/envs/clustering/lib/python3.7/site-packages/ALLCools/dmr/fimo.py:60: FutureWarning: to_msgpack is deprecated and will be removed in a future version.\n",
      "It is recommended to use pyarrow for on-the-wire transmission of pandas objects.\n",
      "  final_df.to_msgpack(output_path, compress='zlib')\n"
     ]
    },
    {
     "name": "stdout",
     "output_type": "stream",
     "text": [
      "/home/hanliu/project/mouse_rostral_brain/DMR/ITSpatial_by_layer/IT-L6/MotifScan.h5adtemp/MA0828.1.meme, N motif total=19159\n"
     ]
    },
    {
     "name": "stderr",
     "output_type": "stream",
     "text": [
      "/home/hanliu/miniconda3/envs/clustering/lib/python3.7/site-packages/ALLCools/dmr/fimo.py:60: FutureWarning: to_msgpack is deprecated and will be removed in a future version.\n",
      "It is recommended to use pyarrow for on-the-wire transmission of pandas objects.\n",
      "  final_df.to_msgpack(output_path, compress='zlib')\n"
     ]
    },
    {
     "name": "stdout",
     "output_type": "stream",
     "text": [
      "/home/hanliu/project/mouse_rostral_brain/DMR/ITSpatial_by_layer/IT-L6/MotifScan.h5adtemp/MA0084.1.meme, N motif total=25983\n"
     ]
    },
    {
     "name": "stderr",
     "output_type": "stream",
     "text": [
      "/home/hanliu/miniconda3/envs/clustering/lib/python3.7/site-packages/ALLCools/dmr/fimo.py:60: FutureWarning: to_msgpack is deprecated and will be removed in a future version.\n",
      "It is recommended to use pyarrow for on-the-wire transmission of pandas objects.\n",
      "  final_df.to_msgpack(output_path, compress='zlib')\n"
     ]
    },
    {
     "name": "stdout",
     "output_type": "stream",
     "text": [
      "/home/hanliu/project/mouse_rostral_brain/DMR/ITSpatial_by_layer/IT-L6/MotifScan.h5adtemp/MA0829.2.meme, N motif total=29830\n"
     ]
    },
    {
     "name": "stderr",
     "output_type": "stream",
     "text": [
      "/home/hanliu/miniconda3/envs/clustering/lib/python3.7/site-packages/ALLCools/dmr/fimo.py:60: FutureWarning: to_msgpack is deprecated and will be removed in a future version.\n",
      "It is recommended to use pyarrow for on-the-wire transmission of pandas objects.\n",
      "  final_df.to_msgpack(output_path, compress='zlib')\n"
     ]
    },
    {
     "name": "stdout",
     "output_type": "stream",
     "text": [
      "/home/hanliu/project/mouse_rostral_brain/DMR/ITSpatial_by_layer/IT-L6/MotifScan.h5adtemp/MA0080.5.meme, N motif total=166285\n"
     ]
    },
    {
     "name": "stderr",
     "output_type": "stream",
     "text": [
      "/home/hanliu/miniconda3/envs/clustering/lib/python3.7/site-packages/ALLCools/dmr/fimo.py:60: FutureWarning: to_msgpack is deprecated and will be removed in a future version.\n",
      "It is recommended to use pyarrow for on-the-wire transmission of pandas objects.\n",
      "  final_df.to_msgpack(output_path, compress='zlib')\n"
     ]
    },
    {
     "name": "stdout",
     "output_type": "stream",
     "text": [
      "/home/hanliu/project/mouse_rostral_brain/DMR/ITSpatial_by_layer/IT-L6/MotifScan.h5adtemp/MA0137.3.meme, N motif total=61528\n"
     ]
    },
    {
     "name": "stderr",
     "output_type": "stream",
     "text": [
      "/home/hanliu/miniconda3/envs/clustering/lib/python3.7/site-packages/ALLCools/dmr/fimo.py:60: FutureWarning: to_msgpack is deprecated and will be removed in a future version.\n",
      "It is recommended to use pyarrow for on-the-wire transmission of pandas objects.\n",
      "  final_df.to_msgpack(output_path, compress='zlib')\n"
     ]
    },
    {
     "name": "stdout",
     "output_type": "stream",
     "text": [
      "/home/hanliu/project/mouse_rostral_brain/DMR/ITSpatial_by_layer/IT-L6/MotifScan.h5adtemp/MA0144.2.meme, N motif total=77161\n"
     ]
    },
    {
     "name": "stderr",
     "output_type": "stream",
     "text": [
      "/home/hanliu/miniconda3/envs/clustering/lib/python3.7/site-packages/ALLCools/dmr/fimo.py:60: FutureWarning: to_msgpack is deprecated and will be removed in a future version.\n",
      "It is recommended to use pyarrow for on-the-wire transmission of pandas objects.\n",
      "  final_df.to_msgpack(output_path, compress='zlib')\n"
     ]
    },
    {
     "name": "stdout",
     "output_type": "stream",
     "text": [
      "/home/hanliu/project/mouse_rostral_brain/DMR/ITSpatial_by_layer/IT-L6/MotifScan.h5adtemp/MA0083.3.meme, N motif total=9925\n"
     ]
    },
    {
     "name": "stderr",
     "output_type": "stream",
     "text": [
      "/home/hanliu/miniconda3/envs/clustering/lib/python3.7/site-packages/ALLCools/dmr/fimo.py:60: FutureWarning: to_msgpack is deprecated and will be removed in a future version.\n",
      "It is recommended to use pyarrow for on-the-wire transmission of pandas objects.\n",
      "  final_df.to_msgpack(output_path, compress='zlib')\n"
     ]
    },
    {
     "name": "stdout",
     "output_type": "stream",
     "text": [
      "/home/hanliu/project/mouse_rostral_brain/DMR/ITSpatial_by_layer/IT-L6/MotifScan.h5adtemp/MA0518.1.meme, N motif total=68279\n"
     ]
    },
    {
     "name": "stderr",
     "output_type": "stream",
     "text": [
      "/home/hanliu/miniconda3/envs/clustering/lib/python3.7/site-packages/ALLCools/dmr/fimo.py:60: FutureWarning: to_msgpack is deprecated and will be removed in a future version.\n",
      "It is recommended to use pyarrow for on-the-wire transmission of pandas objects.\n",
      "  final_df.to_msgpack(output_path, compress='zlib')\n"
     ]
    },
    {
     "name": "stdout",
     "output_type": "stream",
     "text": [
      "/home/hanliu/project/mouse_rostral_brain/DMR/ITSpatial_by_layer/IT-L6/MotifScan.h5adtemp/MA0519.1.meme, N motif total=68672\n"
     ]
    },
    {
     "name": "stderr",
     "output_type": "stream",
     "text": [
      "/home/hanliu/miniconda3/envs/clustering/lib/python3.7/site-packages/ALLCools/dmr/fimo.py:60: FutureWarning: to_msgpack is deprecated and will be removed in a future version.\n",
      "It is recommended to use pyarrow for on-the-wire transmission of pandas objects.\n",
      "  final_df.to_msgpack(output_path, compress='zlib')\n"
     ]
    },
    {
     "name": "stdout",
     "output_type": "stream",
     "text": [
      "/home/hanliu/project/mouse_rostral_brain/DMR/ITSpatial_by_layer/IT-L6/MotifScan.h5adtemp/MA0805.1.meme, N motif total=34866\n"
     ]
    },
    {
     "name": "stderr",
     "output_type": "stream",
     "text": [
      "/home/hanliu/miniconda3/envs/clustering/lib/python3.7/site-packages/ALLCools/dmr/fimo.py:60: FutureWarning: to_msgpack is deprecated and will be removed in a future version.\n",
      "It is recommended to use pyarrow for on-the-wire transmission of pandas objects.\n",
      "  final_df.to_msgpack(output_path, compress='zlib')\n"
     ]
    },
    {
     "name": "stdout",
     "output_type": "stream",
     "text": [
      "Finish count 600 motifs.\n"
     ]
    },
    {
     "name": "stdout",
     "output_type": "stream",
     "text": [
      "/home/hanliu/project/mouse_rostral_brain/DMR/ITSpatial_by_layer/IT-L6/MotifScan.h5adtemp/MA0517.1.meme, N motif total=97244\n"
     ]
    },
    {
     "name": "stderr",
     "output_type": "stream",
     "text": [
      "/home/hanliu/miniconda3/envs/clustering/lib/python3.7/site-packages/ALLCools/dmr/fimo.py:60: FutureWarning: to_msgpack is deprecated and will be removed in a future version.\n",
      "It is recommended to use pyarrow for on-the-wire transmission of pandas objects.\n",
      "  final_df.to_msgpack(output_path, compress='zlib')\n"
     ]
    },
    {
     "name": "stdout",
     "output_type": "stream",
     "text": [
      "/home/hanliu/project/mouse_rostral_brain/DMR/ITSpatial_by_layer/IT-L6/MotifScan.h5adtemp/MA0803.1.meme, N motif total=35774\n"
     ]
    },
    {
     "name": "stderr",
     "output_type": "stream",
     "text": [
      "/home/hanliu/miniconda3/envs/clustering/lib/python3.7/site-packages/ALLCools/dmr/fimo.py:60: FutureWarning: to_msgpack is deprecated and will be removed in a future version.\n",
      "It is recommended to use pyarrow for on-the-wire transmission of pandas objects.\n",
      "  final_df.to_msgpack(output_path, compress='zlib')\n"
     ]
    },
    {
     "name": "stdout",
     "output_type": "stream",
     "text": [
      "/home/hanliu/project/mouse_rostral_brain/DMR/ITSpatial_by_layer/IT-L6/MotifScan.h5adtemp/MA1624.1.meme, N motif total=61306\n"
     ]
    },
    {
     "name": "stderr",
     "output_type": "stream",
     "text": [
      "/home/hanliu/miniconda3/envs/clustering/lib/python3.7/site-packages/ALLCools/dmr/fimo.py:60: FutureWarning: to_msgpack is deprecated and will be removed in a future version.\n",
      "It is recommended to use pyarrow for on-the-wire transmission of pandas objects.\n",
      "  final_df.to_msgpack(output_path, compress='zlib')\n"
     ]
    },
    {
     "name": "stdout",
     "output_type": "stream",
     "text": [
      "/home/hanliu/project/mouse_rostral_brain/DMR/ITSpatial_by_layer/IT-L6/MotifScan.h5adtemp/MA1623.1.meme, N motif total=133713\n"
     ]
    },
    {
     "name": "stderr",
     "output_type": "stream",
     "text": [
      "/home/hanliu/miniconda3/envs/clustering/lib/python3.7/site-packages/ALLCools/dmr/fimo.py:60: FutureWarning: to_msgpack is deprecated and will be removed in a future version.\n",
      "It is recommended to use pyarrow for on-the-wire transmission of pandas objects.\n",
      "  final_df.to_msgpack(output_path, compress='zlib')\n"
     ]
    },
    {
     "name": "stdout",
     "output_type": "stream",
     "text": [
      "/home/hanliu/project/mouse_rostral_brain/DMR/ITSpatial_by_layer/IT-L6/MotifScan.h5adtemp/MA0802.1.meme, N motif total=38426\n"
     ]
    },
    {
     "name": "stderr",
     "output_type": "stream",
     "text": [
      "/home/hanliu/miniconda3/envs/clustering/lib/python3.7/site-packages/ALLCools/dmr/fimo.py:60: FutureWarning: to_msgpack is deprecated and will be removed in a future version.\n",
      "It is recommended to use pyarrow for on-the-wire transmission of pandas objects.\n",
      "  final_df.to_msgpack(output_path, compress='zlib')\n"
     ]
    },
    {
     "name": "stdout",
     "output_type": "stream",
     "text": [
      "/home/hanliu/project/mouse_rostral_brain/DMR/ITSpatial_by_layer/IT-L6/MotifScan.h5adtemp/MA1625.1.meme, N motif total=76092\n"
     ]
    },
    {
     "name": "stderr",
     "output_type": "stream",
     "text": [
      "/home/hanliu/miniconda3/envs/clustering/lib/python3.7/site-packages/ALLCools/dmr/fimo.py:60: FutureWarning: to_msgpack is deprecated and will be removed in a future version.\n",
      "It is recommended to use pyarrow for on-the-wire transmission of pandas objects.\n",
      "  final_df.to_msgpack(output_path, compress='zlib')\n"
     ]
    },
    {
     "name": "stdout",
     "output_type": "stream",
     "text": [
      "/home/hanliu/project/mouse_rostral_brain/DMR/ITSpatial_by_layer/IT-L6/MotifScan.h5adtemp/MA0091.1.meme, N motif total=60146\n"
     ]
    },
    {
     "name": "stderr",
     "output_type": "stream",
     "text": [
      "/home/hanliu/miniconda3/envs/clustering/lib/python3.7/site-packages/ALLCools/dmr/fimo.py:60: FutureWarning: to_msgpack is deprecated and will be removed in a future version.\n",
      "It is recommended to use pyarrow for on-the-wire transmission of pandas objects.\n",
      "  final_df.to_msgpack(output_path, compress='zlib')\n"
     ]
    },
    {
     "name": "stdout",
     "output_type": "stream",
     "text": [
      "/home/hanliu/project/mouse_rostral_brain/DMR/ITSpatial_by_layer/IT-L6/MotifScan.h5adtemp/MA1565.1.meme, N motif total=57614\n"
     ]
    },
    {
     "name": "stderr",
     "output_type": "stream",
     "text": [
      "/home/hanliu/miniconda3/envs/clustering/lib/python3.7/site-packages/ALLCools/dmr/fimo.py:60: FutureWarning: to_msgpack is deprecated and will be removed in a future version.\n",
      "It is recommended to use pyarrow for on-the-wire transmission of pandas objects.\n",
      "  final_df.to_msgpack(output_path, compress='zlib')\n"
     ]
    },
    {
     "name": "stdout",
     "output_type": "stream",
     "text": [
      "/home/hanliu/project/mouse_rostral_brain/DMR/ITSpatial_by_layer/IT-L6/MotifScan.h5adtemp/MA0520.1.meme, N motif total=58109\n"
     ]
    },
    {
     "name": "stderr",
     "output_type": "stream",
     "text": [
      "/home/hanliu/miniconda3/envs/clustering/lib/python3.7/site-packages/ALLCools/dmr/fimo.py:60: FutureWarning: to_msgpack is deprecated and will be removed in a future version.\n",
      "It is recommended to use pyarrow for on-the-wire transmission of pandas objects.\n",
      "  final_df.to_msgpack(output_path, compress='zlib')\n"
     ]
    },
    {
     "name": "stdout",
     "output_type": "stream",
     "text": [
      "/home/hanliu/project/mouse_rostral_brain/DMR/ITSpatial_by_layer/IT-L6/MotifScan.h5adtemp/MA0688.1.meme, N motif total=37730\n"
     ]
    },
    {
     "name": "stderr",
     "output_type": "stream",
     "text": [
      "/home/hanliu/miniconda3/envs/clustering/lib/python3.7/site-packages/ALLCools/dmr/fimo.py:60: FutureWarning: to_msgpack is deprecated and will be removed in a future version.\n",
      "It is recommended to use pyarrow for on-the-wire transmission of pandas objects.\n",
      "  final_df.to_msgpack(output_path, compress='zlib')\n"
     ]
    },
    {
     "name": "stdout",
     "output_type": "stream",
     "text": [
      "/home/hanliu/project/mouse_rostral_brain/DMR/ITSpatial_by_layer/IT-L6/MotifScan.h5adtemp/MA0807.1.meme, N motif total=45165\n"
     ]
    },
    {
     "name": "stderr",
     "output_type": "stream",
     "text": [
      "/home/hanliu/miniconda3/envs/clustering/lib/python3.7/site-packages/ALLCools/dmr/fimo.py:60: FutureWarning: to_msgpack is deprecated and will be removed in a future version.\n",
      "It is recommended to use pyarrow for on-the-wire transmission of pandas objects.\n",
      "  final_df.to_msgpack(output_path, compress='zlib')\n"
     ]
    },
    {
     "name": "stdout",
     "output_type": "stream",
     "text": [
      "/home/hanliu/project/mouse_rostral_brain/DMR/ITSpatial_by_layer/IT-L6/MotifScan.h5adtemp/MA0806.1.meme, N motif total=34866\n"
     ]
    },
    {
     "name": "stderr",
     "output_type": "stream",
     "text": [
      "/home/hanliu/miniconda3/envs/clustering/lib/python3.7/site-packages/ALLCools/dmr/fimo.py:60: FutureWarning: to_msgpack is deprecated and will be removed in a future version.\n",
      "It is recommended to use pyarrow for on-the-wire transmission of pandas objects.\n",
      "  final_df.to_msgpack(output_path, compress='zlib')\n"
     ]
    },
    {
     "name": "stdout",
     "output_type": "stream",
     "text": [
      "/home/hanliu/project/mouse_rostral_brain/DMR/ITSpatial_by_layer/IT-L6/MotifScan.h5adtemp/MA0690.1.meme, N motif total=38596\n"
     ]
    },
    {
     "name": "stderr",
     "output_type": "stream",
     "text": [
      "/home/hanliu/miniconda3/envs/clustering/lib/python3.7/site-packages/ALLCools/dmr/fimo.py:60: FutureWarning: to_msgpack is deprecated and will be removed in a future version.\n",
      "It is recommended to use pyarrow for on-the-wire transmission of pandas objects.\n",
      "  final_df.to_msgpack(output_path, compress='zlib')\n"
     ]
    },
    {
     "name": "stdout",
     "output_type": "stream",
     "text": [
      "/home/hanliu/project/mouse_rostral_brain/DMR/ITSpatial_by_layer/IT-L6/MotifScan.h5adtemp/MA0108.2.meme, N motif total=21784\n"
     ]
    },
    {
     "name": "stderr",
     "output_type": "stream",
     "text": [
      "/home/hanliu/miniconda3/envs/clustering/lib/python3.7/site-packages/ALLCools/dmr/fimo.py:60: FutureWarning: to_msgpack is deprecated and will be removed in a future version.\n",
      "It is recommended to use pyarrow for on-the-wire transmission of pandas objects.\n",
      "  final_df.to_msgpack(output_path, compress='zlib')\n"
     ]
    },
    {
     "name": "stdout",
     "output_type": "stream",
     "text": [
      "/home/hanliu/project/mouse_rostral_brain/DMR/ITSpatial_by_layer/IT-L6/MotifScan.h5adtemp/MA0689.1.meme, N motif total=40474\n"
     ]
    },
    {
     "name": "stderr",
     "output_type": "stream",
     "text": [
      "/home/hanliu/miniconda3/envs/clustering/lib/python3.7/site-packages/ALLCools/dmr/fimo.py:60: FutureWarning: to_msgpack is deprecated and will be removed in a future version.\n",
      "It is recommended to use pyarrow for on-the-wire transmission of pandas objects.\n",
      "  final_df.to_msgpack(output_path, compress='zlib')\n"
     ]
    },
    {
     "name": "stdout",
     "output_type": "stream",
     "text": [
      "/home/hanliu/project/mouse_rostral_brain/DMR/ITSpatial_by_layer/IT-L6/MotifScan.h5adtemp/MA1566.1.meme, N motif total=43032\n"
     ]
    },
    {
     "name": "stderr",
     "output_type": "stream",
     "text": [
      "/home/hanliu/miniconda3/envs/clustering/lib/python3.7/site-packages/ALLCools/dmr/fimo.py:60: FutureWarning: to_msgpack is deprecated and will be removed in a future version.\n",
      "It is recommended to use pyarrow for on-the-wire transmission of pandas objects.\n",
      "  final_df.to_msgpack(output_path, compress='zlib')\n"
     ]
    },
    {
     "name": "stdout",
     "output_type": "stream",
     "text": [
      "/home/hanliu/project/mouse_rostral_brain/DMR/ITSpatial_by_layer/IT-L6/MotifScan.h5adtemp/MA1567.1.meme, N motif total=36865\n"
     ]
    },
    {
     "name": "stderr",
     "output_type": "stream",
     "text": [
      "/home/hanliu/miniconda3/envs/clustering/lib/python3.7/site-packages/ALLCools/dmr/fimo.py:60: FutureWarning: to_msgpack is deprecated and will be removed in a future version.\n",
      "It is recommended to use pyarrow for on-the-wire transmission of pandas objects.\n",
      "  final_df.to_msgpack(output_path, compress='zlib')\n"
     ]
    },
    {
     "name": "stdout",
     "output_type": "stream",
     "text": [
      "/home/hanliu/project/mouse_rostral_brain/DMR/ITSpatial_by_layer/IT-L6/MotifScan.h5adtemp/MA0804.1.meme, N motif total=27542\n"
     ]
    },
    {
     "name": "stderr",
     "output_type": "stream",
     "text": [
      "/home/hanliu/miniconda3/envs/clustering/lib/python3.7/site-packages/ALLCools/dmr/fimo.py:60: FutureWarning: to_msgpack is deprecated and will be removed in a future version.\n",
      "It is recommended to use pyarrow for on-the-wire transmission of pandas objects.\n",
      "  final_df.to_msgpack(output_path, compress='zlib')\n"
     ]
    },
    {
     "name": "stdout",
     "output_type": "stream",
     "text": [
      "/home/hanliu/project/mouse_rostral_brain/DMR/ITSpatial_by_layer/IT-L6/MotifScan.h5adtemp/MA0521.1.meme, N motif total=90565\n"
     ]
    },
    {
     "name": "stderr",
     "output_type": "stream",
     "text": [
      "/home/hanliu/miniconda3/envs/clustering/lib/python3.7/site-packages/ALLCools/dmr/fimo.py:60: FutureWarning: to_msgpack is deprecated and will be removed in a future version.\n",
      "It is recommended to use pyarrow for on-the-wire transmission of pandas objects.\n",
      "  final_df.to_msgpack(output_path, compress='zlib')\n"
     ]
    },
    {
     "name": "stdout",
     "output_type": "stream",
     "text": [
      "/home/hanliu/project/mouse_rostral_brain/DMR/ITSpatial_by_layer/IT-L6/MotifScan.h5adtemp/MA1648.1.meme, N motif total=53343\n"
     ]
    },
    {
     "name": "stderr",
     "output_type": "stream",
     "text": [
      "/home/hanliu/miniconda3/envs/clustering/lib/python3.7/site-packages/ALLCools/dmr/fimo.py:60: FutureWarning: to_msgpack is deprecated and will be removed in a future version.\n",
      "It is recommended to use pyarrow for on-the-wire transmission of pandas objects.\n",
      "  final_df.to_msgpack(output_path, compress='zlib')\n"
     ]
    },
    {
     "name": "stdout",
     "output_type": "stream",
     "text": [
      "/home/hanliu/project/mouse_rostral_brain/DMR/ITSpatial_by_layer/IT-L6/MotifScan.h5adtemp/MA1568.1.meme, N motif total=36219\n"
     ]
    },
    {
     "name": "stderr",
     "output_type": "stream",
     "text": [
      "/home/hanliu/miniconda3/envs/clustering/lib/python3.7/site-packages/ALLCools/dmr/fimo.py:60: FutureWarning: to_msgpack is deprecated and will be removed in a future version.\n",
      "It is recommended to use pyarrow for on-the-wire transmission of pandas objects.\n",
      "  final_df.to_msgpack(output_path, compress='zlib')\n"
     ]
    },
    {
     "name": "stdout",
     "output_type": "stream",
     "text": [
      "/home/hanliu/project/mouse_rostral_brain/DMR/ITSpatial_by_layer/IT-L6/MotifScan.h5adtemp/MA0522.3.meme, N motif total=47894\n"
     ]
    },
    {
     "name": "stderr",
     "output_type": "stream",
     "text": [
      "/home/hanliu/miniconda3/envs/clustering/lib/python3.7/site-packages/ALLCools/dmr/fimo.py:60: FutureWarning: to_msgpack is deprecated and will be removed in a future version.\n",
      "It is recommended to use pyarrow for on-the-wire transmission of pandas objects.\n",
      "  final_df.to_msgpack(output_path, compress='zlib')\n"
     ]
    },
    {
     "name": "stdout",
     "output_type": "stream",
     "text": [
      "/home/hanliu/project/mouse_rostral_brain/DMR/ITSpatial_by_layer/IT-L6/MotifScan.h5adtemp/MA0009.2.meme, N motif total=33293\n"
     ]
    },
    {
     "name": "stderr",
     "output_type": "stream",
     "text": [
      "/home/hanliu/miniconda3/envs/clustering/lib/python3.7/site-packages/ALLCools/dmr/fimo.py:60: FutureWarning: to_msgpack is deprecated and will be removed in a future version.\n",
      "It is recommended to use pyarrow for on-the-wire transmission of pandas objects.\n",
      "  final_df.to_msgpack(output_path, compress='zlib')\n"
     ]
    },
    {
     "name": "stdout",
     "output_type": "stream",
     "text": [
      "/home/hanliu/project/mouse_rostral_brain/DMR/ITSpatial_by_layer/IT-L6/MotifScan.h5adtemp/MA0832.1.meme, N motif total=43977\n"
     ]
    },
    {
     "name": "stderr",
     "output_type": "stream",
     "text": [
      "/home/hanliu/miniconda3/envs/clustering/lib/python3.7/site-packages/ALLCools/dmr/fimo.py:60: FutureWarning: to_msgpack is deprecated and will be removed in a future version.\n",
      "It is recommended to use pyarrow for on-the-wire transmission of pandas objects.\n",
      "  final_df.to_msgpack(output_path, compress='zlib')\n"
     ]
    },
    {
     "name": "stdout",
     "output_type": "stream",
     "text": [
      "/home/hanliu/project/mouse_rostral_brain/DMR/ITSpatial_by_layer/IT-L6/MotifScan.h5adtemp/MA0769.2.meme, N motif total=42744\n"
     ]
    },
    {
     "name": "stderr",
     "output_type": "stream",
     "text": [
      "/home/hanliu/miniconda3/envs/clustering/lib/python3.7/site-packages/ALLCools/dmr/fimo.py:60: FutureWarning: to_msgpack is deprecated and will be removed in a future version.\n",
      "It is recommended to use pyarrow for on-the-wire transmission of pandas objects.\n",
      "  final_df.to_msgpack(output_path, compress='zlib')\n"
     ]
    },
    {
     "name": "stdout",
     "output_type": "stream",
     "text": [
      "/home/hanliu/project/mouse_rostral_brain/DMR/ITSpatial_by_layer/IT-L6/MotifScan.h5adtemp/MA0830.2.meme, N motif total=63025\n"
     ]
    },
    {
     "name": "stderr",
     "output_type": "stream",
     "text": [
      "/home/hanliu/miniconda3/envs/clustering/lib/python3.7/site-packages/ALLCools/dmr/fimo.py:60: FutureWarning: to_msgpack is deprecated and will be removed in a future version.\n",
      "It is recommended to use pyarrow for on-the-wire transmission of pandas objects.\n",
      "  final_df.to_msgpack(output_path, compress='zlib')\n"
     ]
    },
    {
     "name": "stdout",
     "output_type": "stream",
     "text": [
      "/home/hanliu/project/mouse_rostral_brain/DMR/ITSpatial_by_layer/IT-L6/MotifScan.h5adtemp/MA0808.1.meme, N motif total=31048\n"
     ]
    },
    {
     "name": "stderr",
     "output_type": "stream",
     "text": [
      "/home/hanliu/miniconda3/envs/clustering/lib/python3.7/site-packages/ALLCools/dmr/fimo.py:60: FutureWarning: to_msgpack is deprecated and will be removed in a future version.\n",
      "It is recommended to use pyarrow for on-the-wire transmission of pandas objects.\n",
      "  final_df.to_msgpack(output_path, compress='zlib')\n"
     ]
    },
    {
     "name": "stdout",
     "output_type": "stream",
     "text": [
      "/home/hanliu/project/mouse_rostral_brain/DMR/ITSpatial_by_layer/IT-L6/MotifScan.h5adtemp/MA0632.2.meme, N motif total=16480\n"
     ]
    },
    {
     "name": "stderr",
     "output_type": "stream",
     "text": [
      "/home/hanliu/miniconda3/envs/clustering/lib/python3.7/site-packages/ALLCools/dmr/fimo.py:60: FutureWarning: to_msgpack is deprecated and will be removed in a future version.\n",
      "It is recommended to use pyarrow for on-the-wire transmission of pandas objects.\n",
      "  final_df.to_msgpack(output_path, compress='zlib')\n"
     ]
    },
    {
     "name": "stdout",
     "output_type": "stream",
     "text": [
      "/home/hanliu/project/mouse_rostral_brain/DMR/ITSpatial_by_layer/IT-L6/MotifScan.h5adtemp/MA1421.1.meme, N motif total=49387\n"
     ]
    },
    {
     "name": "stderr",
     "output_type": "stream",
     "text": [
      "/home/hanliu/miniconda3/envs/clustering/lib/python3.7/site-packages/ALLCools/dmr/fimo.py:60: FutureWarning: to_msgpack is deprecated and will be removed in a future version.\n",
      "It is recommended to use pyarrow for on-the-wire transmission of pandas objects.\n",
      "  final_df.to_msgpack(output_path, compress='zlib')\n"
     ]
    },
    {
     "name": "stdout",
     "output_type": "stream",
     "text": [
      "/home/hanliu/project/mouse_rostral_brain/DMR/ITSpatial_by_layer/IT-L6/MotifScan.h5adtemp/MA0090.3.meme, N motif total=45252\n"
     ]
    },
    {
     "name": "stderr",
     "output_type": "stream",
     "text": [
      "/home/hanliu/miniconda3/envs/clustering/lib/python3.7/site-packages/ALLCools/dmr/fimo.py:60: FutureWarning: to_msgpack is deprecated and will be removed in a future version.\n",
      "It is recommended to use pyarrow for on-the-wire transmission of pandas objects.\n",
      "  final_df.to_msgpack(output_path, compress='zlib')\n"
     ]
    },
    {
     "name": "stdout",
     "output_type": "stream",
     "text": [
      "/home/hanliu/project/mouse_rostral_brain/DMR/ITSpatial_by_layer/IT-L6/MotifScan.h5adtemp/MA0523.1.meme, N motif total=52338\n"
     ]
    },
    {
     "name": "stderr",
     "output_type": "stream",
     "text": [
      "/home/hanliu/miniconda3/envs/clustering/lib/python3.7/site-packages/ALLCools/dmr/fimo.py:60: FutureWarning: to_msgpack is deprecated and will be removed in a future version.\n",
      "It is recommended to use pyarrow for on-the-wire transmission of pandas objects.\n",
      "  final_df.to_msgpack(output_path, compress='zlib')\n"
     ]
    },
    {
     "name": "stdout",
     "output_type": "stream",
     "text": [
      "/home/hanliu/project/mouse_rostral_brain/DMR/ITSpatial_by_layer/IT-L6/MotifScan.h5adtemp/MA1121.1.meme, N motif total=41528\n"
     ]
    },
    {
     "name": "stderr",
     "output_type": "stream",
     "text": [
      "/home/hanliu/miniconda3/envs/clustering/lib/python3.7/site-packages/ALLCools/dmr/fimo.py:60: FutureWarning: to_msgpack is deprecated and will be removed in a future version.\n",
      "It is recommended to use pyarrow for on-the-wire transmission of pandas objects.\n",
      "  final_df.to_msgpack(output_path, compress='zlib')\n"
     ]
    },
    {
     "name": "stdout",
     "output_type": "stream",
     "text": [
      "/home/hanliu/project/mouse_rostral_brain/DMR/ITSpatial_by_layer/IT-L6/MotifScan.h5adtemp/MA0843.1.meme, N motif total=14348\n"
     ]
    },
    {
     "name": "stderr",
     "output_type": "stream",
     "text": [
      "/home/hanliu/miniconda3/envs/clustering/lib/python3.7/site-packages/ALLCools/dmr/fimo.py:60: FutureWarning: to_msgpack is deprecated and will be removed in a future version.\n",
      "It is recommended to use pyarrow for on-the-wire transmission of pandas objects.\n",
      "  final_df.to_msgpack(output_path, compress='zlib')\n"
     ]
    },
    {
     "name": "stdout",
     "output_type": "stream",
     "text": [
      "/home/hanliu/project/mouse_rostral_brain/DMR/ITSpatial_by_layer/IT-L6/MotifScan.h5adtemp/MA0809.2.meme, N motif total=49050\n"
     ]
    },
    {
     "name": "stderr",
     "output_type": "stream",
     "text": [
      "/home/hanliu/miniconda3/envs/clustering/lib/python3.7/site-packages/ALLCools/dmr/fimo.py:60: FutureWarning: to_msgpack is deprecated and will be removed in a future version.\n",
      "It is recommended to use pyarrow for on-the-wire transmission of pandas objects.\n",
      "  final_df.to_msgpack(output_path, compress='zlib')\n"
     ]
    },
    {
     "name": "stdout",
     "output_type": "stream",
     "text": [
      "/home/hanliu/project/mouse_rostral_brain/DMR/ITSpatial_by_layer/IT-L6/MotifScan.h5adtemp/MA0812.1.meme, N motif total=43645\n"
     ]
    },
    {
     "name": "stderr",
     "output_type": "stream",
     "text": [
      "/home/hanliu/miniconda3/envs/clustering/lib/python3.7/site-packages/ALLCools/dmr/fimo.py:60: FutureWarning: to_msgpack is deprecated and will be removed in a future version.\n",
      "It is recommended to use pyarrow for on-the-wire transmission of pandas objects.\n",
      "  final_df.to_msgpack(output_path, compress='zlib')\n"
     ]
    },
    {
     "name": "stdout",
     "output_type": "stream",
     "text": [
      "/home/hanliu/project/mouse_rostral_brain/DMR/ITSpatial_by_layer/IT-L6/MotifScan.h5adtemp/MA0810.1.meme, N motif total=46492\n"
     ]
    },
    {
     "name": "stderr",
     "output_type": "stream",
     "text": [
      "/home/hanliu/miniconda3/envs/clustering/lib/python3.7/site-packages/ALLCools/dmr/fimo.py:60: FutureWarning: to_msgpack is deprecated and will be removed in a future version.\n",
      "It is recommended to use pyarrow for on-the-wire transmission of pandas objects.\n",
      "  final_df.to_msgpack(output_path, compress='zlib')\n"
     ]
    },
    {
     "name": "stdout",
     "output_type": "stream",
     "text": [
      "/home/hanliu/project/mouse_rostral_brain/DMR/ITSpatial_by_layer/IT-L6/MotifScan.h5adtemp/MA0872.1.meme, N motif total=45868\n"
     ]
    },
    {
     "name": "stderr",
     "output_type": "stream",
     "text": [
      "/home/hanliu/miniconda3/envs/clustering/lib/python3.7/site-packages/ALLCools/dmr/fimo.py:60: FutureWarning: to_msgpack is deprecated and will be removed in a future version.\n",
      "It is recommended to use pyarrow for on-the-wire transmission of pandas objects.\n",
      "  final_df.to_msgpack(output_path, compress='zlib')\n"
     ]
    },
    {
     "name": "stdout",
     "output_type": "stream",
     "text": [
      "/home/hanliu/project/mouse_rostral_brain/DMR/ITSpatial_by_layer/IT-L6/MotifScan.h5adtemp/MA0003.4.meme, N motif total=68623\n"
     ]
    },
    {
     "name": "stderr",
     "output_type": "stream",
     "text": [
      "/home/hanliu/miniconda3/envs/clustering/lib/python3.7/site-packages/ALLCools/dmr/fimo.py:60: FutureWarning: to_msgpack is deprecated and will be removed in a future version.\n",
      "It is recommended to use pyarrow for on-the-wire transmission of pandas objects.\n",
      "  final_df.to_msgpack(output_path, compress='zlib')\n"
     ]
    },
    {
     "name": "stdout",
     "output_type": "stream",
     "text": [
      "/home/hanliu/project/mouse_rostral_brain/DMR/ITSpatial_by_layer/IT-L6/MotifScan.h5adtemp/MA1569.1.meme, N motif total=45356\n"
     ]
    },
    {
     "name": "stderr",
     "output_type": "stream",
     "text": [
      "/home/hanliu/miniconda3/envs/clustering/lib/python3.7/site-packages/ALLCools/dmr/fimo.py:60: FutureWarning: to_msgpack is deprecated and will be removed in a future version.\n",
      "It is recommended to use pyarrow for on-the-wire transmission of pandas objects.\n",
      "  final_df.to_msgpack(output_path, compress='zlib')\n"
     ]
    },
    {
     "name": "stdout",
     "output_type": "stream",
     "text": [
      "/home/hanliu/project/mouse_rostral_brain/DMR/ITSpatial_by_layer/IT-L6/MotifScan.h5adtemp/MA0811.1.meme, N motif total=47925\n"
     ]
    },
    {
     "name": "stderr",
     "output_type": "stream",
     "text": [
      "/home/hanliu/miniconda3/envs/clustering/lib/python3.7/site-packages/ALLCools/dmr/fimo.py:60: FutureWarning: to_msgpack is deprecated and will be removed in a future version.\n",
      "It is recommended to use pyarrow for on-the-wire transmission of pandas objects.\n",
      "  final_df.to_msgpack(output_path, compress='zlib')\n"
     ]
    },
    {
     "name": "stdout",
     "output_type": "stream",
     "text": [
      "/home/hanliu/project/mouse_rostral_brain/DMR/ITSpatial_by_layer/IT-L6/MotifScan.h5adtemp/MA0831.2.meme, N motif total=15402\n"
     ]
    },
    {
     "name": "stderr",
     "output_type": "stream",
     "text": [
      "/home/hanliu/miniconda3/envs/clustering/lib/python3.7/site-packages/ALLCools/dmr/fimo.py:60: FutureWarning: to_msgpack is deprecated and will be removed in a future version.\n",
      "It is recommended to use pyarrow for on-the-wire transmission of pandas objects.\n",
      "  final_df.to_msgpack(output_path, compress='zlib')\n"
     ]
    },
    {
     "name": "stdout",
     "output_type": "stream",
     "text": [
      "/home/hanliu/project/mouse_rostral_brain/DMR/ITSpatial_by_layer/IT-L6/MotifScan.h5adtemp/MA0524.2.meme, N motif total=49026\n"
     ]
    },
    {
     "name": "stderr",
     "output_type": "stream",
     "text": [
      "/home/hanliu/miniconda3/envs/clustering/lib/python3.7/site-packages/ALLCools/dmr/fimo.py:60: FutureWarning: to_msgpack is deprecated and will be removed in a future version.\n",
      "It is recommended to use pyarrow for on-the-wire transmission of pandas objects.\n",
      "  final_df.to_msgpack(output_path, compress='zlib')\n"
     ]
    },
    {
     "name": "stdout",
     "output_type": "stream",
     "text": [
      "/home/hanliu/project/mouse_rostral_brain/DMR/ITSpatial_by_layer/IT-L6/MotifScan.h5adtemp/MA0691.1.meme, N motif total=73284\n"
     ]
    },
    {
     "name": "stderr",
     "output_type": "stream",
     "text": [
      "/home/hanliu/miniconda3/envs/clustering/lib/python3.7/site-packages/ALLCools/dmr/fimo.py:60: FutureWarning: to_msgpack is deprecated and will be removed in a future version.\n",
      "It is recommended to use pyarrow for on-the-wire transmission of pandas objects.\n",
      "  final_df.to_msgpack(output_path, compress='zlib')\n"
     ]
    },
    {
     "name": "stdout",
     "output_type": "stream",
     "text": [
      "/home/hanliu/project/mouse_rostral_brain/DMR/ITSpatial_by_layer/IT-L6/MotifScan.h5adtemp/MA0813.1.meme, N motif total=46792\n"
     ]
    },
    {
     "name": "stderr",
     "output_type": "stream",
     "text": [
      "/home/hanliu/miniconda3/envs/clustering/lib/python3.7/site-packages/ALLCools/dmr/fimo.py:60: FutureWarning: to_msgpack is deprecated and will be removed in a future version.\n",
      "It is recommended to use pyarrow for on-the-wire transmission of pandas objects.\n",
      "  final_df.to_msgpack(output_path, compress='zlib')\n"
     ]
    },
    {
     "name": "stdout",
     "output_type": "stream",
     "text": [
      "/home/hanliu/project/mouse_rostral_brain/DMR/ITSpatial_by_layer/IT-L6/MotifScan.h5adtemp/MA1570.1.meme, N motif total=42839\n"
     ]
    },
    {
     "name": "stderr",
     "output_type": "stream",
     "text": [
      "/home/hanliu/miniconda3/envs/clustering/lib/python3.7/site-packages/ALLCools/dmr/fimo.py:60: FutureWarning: to_msgpack is deprecated and will be removed in a future version.\n",
      "It is recommended to use pyarrow for on-the-wire transmission of pandas objects.\n",
      "  final_df.to_msgpack(output_path, compress='zlib')\n"
     ]
    },
    {
     "name": "stdout",
     "output_type": "stream",
     "text": [
      "/home/hanliu/project/mouse_rostral_brain/DMR/ITSpatial_by_layer/IT-L6/MotifScan.h5adtemp/MA0815.1.meme, N motif total=45555\n"
     ]
    },
    {
     "name": "stderr",
     "output_type": "stream",
     "text": [
      "/home/hanliu/miniconda3/envs/clustering/lib/python3.7/site-packages/ALLCools/dmr/fimo.py:60: FutureWarning: to_msgpack is deprecated and will be removed in a future version.\n",
      "It is recommended to use pyarrow for on-the-wire transmission of pandas objects.\n",
      "  final_df.to_msgpack(output_path, compress='zlib')\n"
     ]
    },
    {
     "name": "stdout",
     "output_type": "stream",
     "text": [
      "/home/hanliu/project/mouse_rostral_brain/DMR/ITSpatial_by_layer/IT-L6/MotifScan.h5adtemp/MA0814.2.meme, N motif total=58814\n"
     ]
    },
    {
     "name": "stderr",
     "output_type": "stream",
     "text": [
      "/home/hanliu/miniconda3/envs/clustering/lib/python3.7/site-packages/ALLCools/dmr/fimo.py:60: FutureWarning: to_msgpack is deprecated and will be removed in a future version.\n",
      "It is recommended to use pyarrow for on-the-wire transmission of pandas objects.\n",
      "  final_df.to_msgpack(output_path, compress='zlib')\n"
     ]
    },
    {
     "name": "stdout",
     "output_type": "stream",
     "text": [
      "/home/hanliu/project/mouse_rostral_brain/DMR/ITSpatial_by_layer/IT-L6/MotifScan.h5adtemp/MA0692.1.meme, N motif total=31871\n"
     ]
    },
    {
     "name": "stderr",
     "output_type": "stream",
     "text": [
      "/home/hanliu/miniconda3/envs/clustering/lib/python3.7/site-packages/ALLCools/dmr/fimo.py:60: FutureWarning: to_msgpack is deprecated and will be removed in a future version.\n",
      "It is recommended to use pyarrow for on-the-wire transmission of pandas objects.\n",
      "  final_df.to_msgpack(output_path, compress='zlib')\n"
     ]
    },
    {
     "name": "stdout",
     "output_type": "stream",
     "text": [
      "/home/hanliu/project/mouse_rostral_brain/DMR/ITSpatial_by_layer/IT-L6/MotifScan.h5adtemp/MA0871.2.meme, N motif total=24044\n"
     ]
    },
    {
     "name": "stderr",
     "output_type": "stream",
     "text": [
      "/home/hanliu/miniconda3/envs/clustering/lib/python3.7/site-packages/ALLCools/dmr/fimo.py:60: FutureWarning: to_msgpack is deprecated and will be removed in a future version.\n",
      "It is recommended to use pyarrow for on-the-wire transmission of pandas objects.\n",
      "  final_df.to_msgpack(output_path, compress='zlib')\n"
     ]
    },
    {
     "name": "stdout",
     "output_type": "stream",
     "text": [
      "/home/hanliu/project/mouse_rostral_brain/DMR/ITSpatial_by_layer/IT-L6/MotifScan.h5adtemp/MA0145.3.meme, N motif total=15254\n"
     ]
    },
    {
     "name": "stderr",
     "output_type": "stream",
     "text": [
      "/home/hanliu/miniconda3/envs/clustering/lib/python3.7/site-packages/ALLCools/dmr/fimo.py:60: FutureWarning: to_msgpack is deprecated and will be removed in a future version.\n",
      "It is recommended to use pyarrow for on-the-wire transmission of pandas objects.\n",
      "  final_df.to_msgpack(output_path, compress='zlib')\n"
     ]
    },
    {
     "name": "stdout",
     "output_type": "stream",
     "text": [
      "/home/hanliu/project/mouse_rostral_brain/DMR/ITSpatial_by_layer/IT-L6/MotifScan.h5adtemp/MA0597.1.meme, N motif total=47281\n"
     ]
    },
    {
     "name": "stderr",
     "output_type": "stream",
     "text": [
      "/home/hanliu/miniconda3/envs/clustering/lib/python3.7/site-packages/ALLCools/dmr/fimo.py:60: FutureWarning: to_msgpack is deprecated and will be removed in a future version.\n",
      "It is recommended to use pyarrow for on-the-wire transmission of pandas objects.\n",
      "  final_df.to_msgpack(output_path, compress='zlib')\n"
     ]
    },
    {
     "name": "stdout",
     "output_type": "stream",
     "text": [
      "/home/hanliu/project/mouse_rostral_brain/DMR/ITSpatial_by_layer/IT-L6/MotifScan.h5adtemp/MA1122.1.meme, N motif total=17358\n"
     ]
    },
    {
     "name": "stderr",
     "output_type": "stream",
     "text": [
      "/home/hanliu/miniconda3/envs/clustering/lib/python3.7/site-packages/ALLCools/dmr/fimo.py:60: FutureWarning: to_msgpack is deprecated and will be removed in a future version.\n",
      "It is recommended to use pyarrow for on-the-wire transmission of pandas objects.\n",
      "  final_df.to_msgpack(output_path, compress='zlib')\n"
     ]
    },
    {
     "name": "stdout",
     "output_type": "stream",
     "text": [
      "/home/hanliu/project/mouse_rostral_brain/DMR/ITSpatial_by_layer/IT-L6/MotifScan.h5adtemp/MA0796.1.meme, N motif total=8693\n"
     ]
    },
    {
     "name": "stderr",
     "output_type": "stream",
     "text": [
      "/home/hanliu/miniconda3/envs/clustering/lib/python3.7/site-packages/ALLCools/dmr/fimo.py:60: FutureWarning: to_msgpack is deprecated and will be removed in a future version.\n",
      "It is recommended to use pyarrow for on-the-wire transmission of pandas objects.\n",
      "  final_df.to_msgpack(output_path, compress='zlib')\n"
     ]
    },
    {
     "name": "stdout",
     "output_type": "stream",
     "text": [
      "/home/hanliu/project/mouse_rostral_brain/DMR/ITSpatial_by_layer/IT-L6/MotifScan.h5adtemp/MA0797.1.meme, N motif total=55850\n"
     ]
    },
    {
     "name": "stderr",
     "output_type": "stream",
     "text": [
      "/home/hanliu/miniconda3/envs/clustering/lib/python3.7/site-packages/ALLCools/dmr/fimo.py:60: FutureWarning: to_msgpack is deprecated and will be removed in a future version.\n",
      "It is recommended to use pyarrow for on-the-wire transmission of pandas objects.\n",
      "  final_df.to_msgpack(output_path, compress='zlib')\n"
     ]
    },
    {
     "name": "stdout",
     "output_type": "stream",
     "text": [
      "/home/hanliu/project/mouse_rostral_brain/DMR/ITSpatial_by_layer/IT-L6/MotifScan.h5adtemp/MA1571.1.meme, N motif total=50895\n"
     ]
    },
    {
     "name": "stderr",
     "output_type": "stream",
     "text": [
      "/home/hanliu/miniconda3/envs/clustering/lib/python3.7/site-packages/ALLCools/dmr/fimo.py:60: FutureWarning: to_msgpack is deprecated and will be removed in a future version.\n",
      "It is recommended to use pyarrow for on-the-wire transmission of pandas objects.\n",
      "  final_df.to_msgpack(output_path, compress='zlib')\n"
     ]
    },
    {
     "name": "stdout",
     "output_type": "stream",
     "text": [
      "/home/hanliu/project/mouse_rostral_brain/DMR/ITSpatial_by_layer/IT-L6/MotifScan.h5adtemp/MA1577.1.meme, N motif total=12097\n"
     ]
    },
    {
     "name": "stderr",
     "output_type": "stream",
     "text": [
      "/home/hanliu/miniconda3/envs/clustering/lib/python3.7/site-packages/ALLCools/dmr/fimo.py:60: FutureWarning: to_msgpack is deprecated and will be removed in a future version.\n",
      "It is recommended to use pyarrow for on-the-wire transmission of pandas objects.\n",
      "  final_df.to_msgpack(output_path, compress='zlib')\n"
     ]
    },
    {
     "name": "stdout",
     "output_type": "stream",
     "text": [
      "/home/hanliu/project/mouse_rostral_brain/DMR/ITSpatial_by_layer/IT-L6/MotifScan.h5adtemp/MA1574.1.meme, N motif total=38844\n"
     ]
    },
    {
     "name": "stderr",
     "output_type": "stream",
     "text": [
      "/home/hanliu/miniconda3/envs/clustering/lib/python3.7/site-packages/ALLCools/dmr/fimo.py:60: FutureWarning: to_msgpack is deprecated and will be removed in a future version.\n",
      "It is recommended to use pyarrow for on-the-wire transmission of pandas objects.\n",
      "  final_df.to_msgpack(output_path, compress='zlib')\n"
     ]
    },
    {
     "name": "stdout",
     "output_type": "stream",
     "text": [
      "/home/hanliu/project/mouse_rostral_brain/DMR/ITSpatial_by_layer/IT-L6/MotifScan.h5adtemp/MA1573.1.meme, N motif total=23111\n"
     ]
    },
    {
     "name": "stderr",
     "output_type": "stream",
     "text": [
      "/home/hanliu/miniconda3/envs/clustering/lib/python3.7/site-packages/ALLCools/dmr/fimo.py:60: FutureWarning: to_msgpack is deprecated and will be removed in a future version.\n",
      "It is recommended to use pyarrow for on-the-wire transmission of pandas objects.\n",
      "  final_df.to_msgpack(output_path, compress='zlib')\n"
     ]
    },
    {
     "name": "stdout",
     "output_type": "stream",
     "text": [
      "/home/hanliu/project/mouse_rostral_brain/DMR/ITSpatial_by_layer/IT-L6/MotifScan.h5adtemp/MA0633.1.meme, N motif total=47180\n"
     ]
    },
    {
     "name": "stderr",
     "output_type": "stream",
     "text": [
      "/home/hanliu/miniconda3/envs/clustering/lib/python3.7/site-packages/ALLCools/dmr/fimo.py:60: FutureWarning: to_msgpack is deprecated and will be removed in a future version.\n",
      "It is recommended to use pyarrow for on-the-wire transmission of pandas objects.\n",
      "  final_df.to_msgpack(output_path, compress='zlib')\n"
     ]
    },
    {
     "name": "stdout",
     "output_type": "stream",
     "text": [
      "/home/hanliu/project/mouse_rostral_brain/DMR/ITSpatial_by_layer/IT-L6/MotifScan.h5adtemp/MA0721.1.meme, N motif total=16771\n"
     ]
    },
    {
     "name": "stderr",
     "output_type": "stream",
     "text": [
      "/home/hanliu/miniconda3/envs/clustering/lib/python3.7/site-packages/ALLCools/dmr/fimo.py:60: FutureWarning: to_msgpack is deprecated and will be removed in a future version.\n",
      "It is recommended to use pyarrow for on-the-wire transmission of pandas objects.\n",
      "  final_df.to_msgpack(output_path, compress='zlib')\n"
     ]
    },
    {
     "name": "stdout",
     "output_type": "stream",
     "text": [
      "/home/hanliu/project/mouse_rostral_brain/DMR/ITSpatial_by_layer/IT-L6/MotifScan.h5adtemp/MA1575.1.meme, N motif total=33477\n"
     ]
    },
    {
     "name": "stderr",
     "output_type": "stream",
     "text": [
      "/home/hanliu/miniconda3/envs/clustering/lib/python3.7/site-packages/ALLCools/dmr/fimo.py:60: FutureWarning: to_msgpack is deprecated and will be removed in a future version.\n",
      "It is recommended to use pyarrow for on-the-wire transmission of pandas objects.\n",
      "  final_df.to_msgpack(output_path, compress='zlib')\n"
     ]
    },
    {
     "name": "stdout",
     "output_type": "stream",
     "text": [
      "/home/hanliu/project/mouse_rostral_brain/DMR/ITSpatial_by_layer/IT-L6/MotifScan.h5adtemp/MA1123.2.meme, N motif total=64995\n"
     ]
    },
    {
     "name": "stderr",
     "output_type": "stream",
     "text": [
      "/home/hanliu/miniconda3/envs/clustering/lib/python3.7/site-packages/ALLCools/dmr/fimo.py:60: FutureWarning: to_msgpack is deprecated and will be removed in a future version.\n",
      "It is recommended to use pyarrow for on-the-wire transmission of pandas objects.\n",
      "  final_df.to_msgpack(output_path, compress='zlib')\n"
     ]
    },
    {
     "name": "stdout",
     "output_type": "stream",
     "text": [
      "/home/hanliu/project/mouse_rostral_brain/DMR/ITSpatial_by_layer/IT-L6/MotifScan.h5adtemp/MA0722.1.meme, N motif total=16668\n"
     ]
    },
    {
     "name": "stderr",
     "output_type": "stream",
     "text": [
      "/home/hanliu/miniconda3/envs/clustering/lib/python3.7/site-packages/ALLCools/dmr/fimo.py:60: FutureWarning: to_msgpack is deprecated and will be removed in a future version.\n",
      "It is recommended to use pyarrow for on-the-wire transmission of pandas objects.\n",
      "  final_df.to_msgpack(output_path, compress='zlib')\n"
     ]
    },
    {
     "name": "stdout",
     "output_type": "stream",
     "text": [
      "/home/hanliu/project/mouse_rostral_brain/DMR/ITSpatial_by_layer/IT-L6/MotifScan.h5adtemp/MA0525.2.meme, N motif total=2740\n"
     ]
    },
    {
     "name": "stderr",
     "output_type": "stream",
     "text": [
      "/home/hanliu/miniconda3/envs/clustering/lib/python3.7/site-packages/ALLCools/dmr/fimo.py:60: FutureWarning: to_msgpack is deprecated and will be removed in a future version.\n",
      "It is recommended to use pyarrow for on-the-wire transmission of pandas objects.\n",
      "  final_df.to_msgpack(output_path, compress='zlib')\n"
     ]
    },
    {
     "name": "stdout",
     "output_type": "stream",
     "text": [
      "/home/hanliu/project/mouse_rostral_brain/DMR/ITSpatial_by_layer/IT-L6/MotifScan.h5adtemp/MA0693.2.meme, N motif total=37039\n"
     ]
    },
    {
     "name": "stderr",
     "output_type": "stream",
     "text": [
      "/home/hanliu/miniconda3/envs/clustering/lib/python3.7/site-packages/ALLCools/dmr/fimo.py:60: FutureWarning: to_msgpack is deprecated and will be removed in a future version.\n",
      "It is recommended to use pyarrow for on-the-wire transmission of pandas objects.\n",
      "  final_df.to_msgpack(output_path, compress='zlib')\n"
     ]
    },
    {
     "name": "stdout",
     "output_type": "stream",
     "text": [
      "/home/hanliu/project/mouse_rostral_brain/DMR/ITSpatial_by_layer/IT-L6/MotifScan.h5adtemp/MA0723.1.meme, N motif total=14906\n"
     ]
    },
    {
     "name": "stderr",
     "output_type": "stream",
     "text": [
      "/home/hanliu/miniconda3/envs/clustering/lib/python3.7/site-packages/ALLCools/dmr/fimo.py:60: FutureWarning: to_msgpack is deprecated and will be removed in a future version.\n",
      "It is recommended to use pyarrow for on-the-wire transmission of pandas objects.\n",
      "  final_df.to_msgpack(output_path, compress='zlib')\n"
     ]
    },
    {
     "name": "stdout",
     "output_type": "stream",
     "text": [
      "/home/hanliu/project/mouse_rostral_brain/DMR/ITSpatial_by_layer/IT-L6/MotifScan.h5adtemp/MA1576.1.meme, N motif total=23536\n"
     ]
    },
    {
     "name": "stdout",
     "output_type": "stream",
     "text": [
      "/home/hanliu/project/mouse_rostral_brain/DMR/ITSpatial_by_layer/IT-L6/MotifScan.h5adtemp/MA0106.3.meme, N motif total=30789\n"
     ]
    },
    {
     "name": "stderr",
     "output_type": "stream",
     "text": [
      "/home/hanliu/miniconda3/envs/clustering/lib/python3.7/site-packages/ALLCools/dmr/fimo.py:60: FutureWarning: to_msgpack is deprecated and will be removed in a future version.\n",
      "It is recommended to use pyarrow for on-the-wire transmission of pandas objects.\n",
      "  final_df.to_msgpack(output_path, compress='zlib')\n"
     ]
    },
    {
     "name": "stderr",
     "output_type": "stream",
     "text": [
      "/home/hanliu/miniconda3/envs/clustering/lib/python3.7/site-packages/ALLCools/dmr/fimo.py:60: FutureWarning: to_msgpack is deprecated and will be removed in a future version.\n",
      "It is recommended to use pyarrow for on-the-wire transmission of pandas objects.\n",
      "  final_df.to_msgpack(output_path, compress='zlib')\n"
     ]
    },
    {
     "name": "stdout",
     "output_type": "stream",
     "text": [
      "/home/hanliu/project/mouse_rostral_brain/DMR/ITSpatial_by_layer/IT-L6/MotifScan.h5adtemp/MA0093.3.meme, N motif total=41948\n"
     ]
    },
    {
     "name": "stderr",
     "output_type": "stream",
     "text": [
      "/home/hanliu/miniconda3/envs/clustering/lib/python3.7/site-packages/ALLCools/dmr/fimo.py:60: FutureWarning: to_msgpack is deprecated and will be removed in a future version.\n",
      "It is recommended to use pyarrow for on-the-wire transmission of pandas objects.\n",
      "  final_df.to_msgpack(output_path, compress='zlib')\n"
     ]
    },
    {
     "name": "stdout",
     "output_type": "stream",
     "text": [
      "/home/hanliu/project/mouse_rostral_brain/DMR/ITSpatial_by_layer/IT-L6/MotifScan.h5adtemp/MA0861.1.meme, N motif total=32429\n"
     ]
    },
    {
     "name": "stderr",
     "output_type": "stream",
     "text": [
      "/home/hanliu/miniconda3/envs/clustering/lib/python3.7/site-packages/ALLCools/dmr/fimo.py:60: FutureWarning: to_msgpack is deprecated and will be removed in a future version.\n",
      "It is recommended to use pyarrow for on-the-wire transmission of pandas objects.\n",
      "  final_df.to_msgpack(output_path, compress='zlib')\n"
     ]
    },
    {
     "name": "stdout",
     "output_type": "stream",
     "text": [
      "/home/hanliu/project/mouse_rostral_brain/DMR/ITSpatial_by_layer/IT-L6/MotifScan.h5adtemp/MA0526.3.meme, N motif total=40980\n"
     ]
    },
    {
     "name": "stderr",
     "output_type": "stream",
     "text": [
      "/home/hanliu/miniconda3/envs/clustering/lib/python3.7/site-packages/ALLCools/dmr/fimo.py:60: FutureWarning: to_msgpack is deprecated and will be removed in a future version.\n",
      "It is recommended to use pyarrow for on-the-wire transmission of pandas objects.\n",
      "  final_df.to_msgpack(output_path, compress='zlib')\n"
     ]
    },
    {
     "name": "stdout",
     "output_type": "stream",
     "text": [
      "/home/hanliu/project/mouse_rostral_brain/DMR/ITSpatial_by_layer/IT-L6/MotifScan.h5adtemp/MA0726.1.meme, N motif total=17659\n"
     ]
    },
    {
     "name": "stderr",
     "output_type": "stream",
     "text": [
      "/home/hanliu/miniconda3/envs/clustering/lib/python3.7/site-packages/ALLCools/dmr/fimo.py:60: FutureWarning: to_msgpack is deprecated and will be removed in a future version.\n",
      "It is recommended to use pyarrow for on-the-wire transmission of pandas objects.\n",
      "  final_df.to_msgpack(output_path, compress='zlib')\n"
     ]
    },
    {
     "name": "stdout",
     "output_type": "stream",
     "text": [
      "/home/hanliu/project/mouse_rostral_brain/DMR/ITSpatial_by_layer/IT-L6/MotifScan.h5adtemp/MA0725.1.meme, N motif total=17659\n"
     ]
    },
    {
     "name": "stderr",
     "output_type": "stream",
     "text": [
      "/home/hanliu/miniconda3/envs/clustering/lib/python3.7/site-packages/ALLCools/dmr/fimo.py:60: FutureWarning: to_msgpack is deprecated and will be removed in a future version.\n",
      "It is recommended to use pyarrow for on-the-wire transmission of pandas objects.\n",
      "  final_df.to_msgpack(output_path, compress='zlib')\n"
     ]
    },
    {
     "name": "stdout",
     "output_type": "stream",
     "text": [
      "/home/hanliu/project/mouse_rostral_brain/DMR/ITSpatial_by_layer/IT-L6/MotifScan.h5adtemp/MA1578.1.meme, N motif total=83261\n"
     ]
    },
    {
     "name": "stderr",
     "output_type": "stream",
     "text": [
      "/home/hanliu/miniconda3/envs/clustering/lib/python3.7/site-packages/ALLCools/dmr/fimo.py:60: FutureWarning: to_msgpack is deprecated and will be removed in a future version.\n",
      "It is recommended to use pyarrow for on-the-wire transmission of pandas objects.\n",
      "  final_df.to_msgpack(output_path, compress='zlib')\n"
     ]
    },
    {
     "name": "stdout",
     "output_type": "stream",
     "text": [
      "/home/hanliu/project/mouse_rostral_brain/DMR/ITSpatial_by_layer/IT-L6/MotifScan.h5adtemp/MA0748.2.meme, N motif total=12168\n"
     ]
    },
    {
     "name": "stderr",
     "output_type": "stream",
     "text": [
      "/home/hanliu/miniconda3/envs/clustering/lib/python3.7/site-packages/ALLCools/dmr/fimo.py:60: FutureWarning: to_msgpack is deprecated and will be removed in a future version.\n",
      "It is recommended to use pyarrow for on-the-wire transmission of pandas objects.\n",
      "  final_df.to_msgpack(output_path, compress='zlib')\n"
     ]
    },
    {
     "name": "stdout",
     "output_type": "stream",
     "text": [
      "/home/hanliu/project/mouse_rostral_brain/DMR/ITSpatial_by_layer/IT-L6/MotifScan.h5adtemp/MA1649.1.meme, N motif total=50050\n"
     ]
    },
    {
     "name": "stderr",
     "output_type": "stream",
     "text": [
      "/home/hanliu/miniconda3/envs/clustering/lib/python3.7/site-packages/ALLCools/dmr/fimo.py:60: FutureWarning: to_msgpack is deprecated and will be removed in a future version.\n",
      "It is recommended to use pyarrow for on-the-wire transmission of pandas objects.\n",
      "  final_df.to_msgpack(output_path, compress='zlib')\n"
     ]
    },
    {
     "name": "stdout",
     "output_type": "stream",
     "text": [
      "/home/hanliu/project/mouse_rostral_brain/DMR/ITSpatial_by_layer/IT-L6/MotifScan.h5adtemp/MA1650.1.meme, N motif total=17717\n"
     ]
    },
    {
     "name": "stderr",
     "output_type": "stream",
     "text": [
      "/home/hanliu/miniconda3/envs/clustering/lib/python3.7/site-packages/ALLCools/dmr/fimo.py:60: FutureWarning: to_msgpack is deprecated and will be removed in a future version.\n",
      "It is recommended to use pyarrow for on-the-wire transmission of pandas objects.\n",
      "  final_df.to_msgpack(output_path, compress='zlib')\n"
     ]
    },
    {
     "name": "stdout",
     "output_type": "stream",
     "text": [
      "/home/hanliu/project/mouse_rostral_brain/DMR/ITSpatial_by_layer/IT-L6/MotifScan.h5adtemp/MA0095.2.meme, N motif total=47768\n"
     ]
    },
    {
     "name": "stderr",
     "output_type": "stream",
     "text": [
      "/home/hanliu/miniconda3/envs/clustering/lib/python3.7/site-packages/ALLCools/dmr/fimo.py:60: FutureWarning: to_msgpack is deprecated and will be removed in a future version.\n",
      "It is recommended to use pyarrow for on-the-wire transmission of pandas objects.\n",
      "  final_df.to_msgpack(output_path, compress='zlib')\n"
     ]
    },
    {
     "name": "stdout",
     "output_type": "stream",
     "text": [
      "/home/hanliu/project/mouse_rostral_brain/DMR/ITSpatial_by_layer/IT-L6/MotifScan.h5adtemp/MA0844.1.meme, N motif total=9877\n"
     ]
    },
    {
     "name": "stderr",
     "output_type": "stream",
     "text": [
      "/home/hanliu/miniconda3/envs/clustering/lib/python3.7/site-packages/ALLCools/dmr/fimo.py:60: FutureWarning: to_msgpack is deprecated and will be removed in a future version.\n",
      "It is recommended to use pyarrow for on-the-wire transmission of pandas objects.\n",
      "  final_df.to_msgpack(output_path, compress='zlib')\n"
     ]
    },
    {
     "name": "stdout",
     "output_type": "stream",
     "text": [
      "/home/hanliu/project/mouse_rostral_brain/DMR/ITSpatial_by_layer/IT-L6/MotifScan.h5adtemp/MA1580.1.meme, N motif total=26456\n"
     ]
    },
    {
     "name": "stderr",
     "output_type": "stream",
     "text": [
      "/home/hanliu/miniconda3/envs/clustering/lib/python3.7/site-packages/ALLCools/dmr/fimo.py:60: FutureWarning: to_msgpack is deprecated and will be removed in a future version.\n",
      "It is recommended to use pyarrow for on-the-wire transmission of pandas objects.\n",
      "  final_df.to_msgpack(output_path, compress='zlib')\n"
     ]
    },
    {
     "name": "stdout",
     "output_type": "stream",
     "text": [
      "/home/hanliu/project/mouse_rostral_brain/DMR/ITSpatial_by_layer/IT-L6/MotifScan.h5adtemp/MA1627.1.meme, N motif total=165601\n"
     ]
    },
    {
     "name": "stderr",
     "output_type": "stream",
     "text": [
      "/home/hanliu/miniconda3/envs/clustering/lib/python3.7/site-packages/ALLCools/dmr/fimo.py:60: FutureWarning: to_msgpack is deprecated and will be removed in a future version.\n",
      "It is recommended to use pyarrow for on-the-wire transmission of pandas objects.\n",
      "  final_df.to_msgpack(output_path, compress='zlib')\n"
     ]
    },
    {
     "name": "stdout",
     "output_type": "stream",
     "text": [
      "/home/hanliu/project/mouse_rostral_brain/DMR/ITSpatial_by_layer/IT-L6/MotifScan.h5adtemp/MA0698.1.meme, N motif total=64002\n"
     ]
    },
    {
     "name": "stderr",
     "output_type": "stream",
     "text": [
      "/home/hanliu/miniconda3/envs/clustering/lib/python3.7/site-packages/ALLCools/dmr/fimo.py:60: FutureWarning: to_msgpack is deprecated and will be removed in a future version.\n",
      "It is recommended to use pyarrow for on-the-wire transmission of pandas objects.\n",
      "  final_df.to_msgpack(output_path, compress='zlib')\n"
     ]
    },
    {
     "name": "stdout",
     "output_type": "stream",
     "text": [
      "/home/hanliu/project/mouse_rostral_brain/DMR/ITSpatial_by_layer/IT-L6/MotifScan.h5adtemp/MA0694.1.meme, N motif total=27720\n"
     ]
    },
    {
     "name": "stderr",
     "output_type": "stream",
     "text": [
      "/home/hanliu/miniconda3/envs/clustering/lib/python3.7/site-packages/ALLCools/dmr/fimo.py:60: FutureWarning: to_msgpack is deprecated and will be removed in a future version.\n",
      "It is recommended to use pyarrow for on-the-wire transmission of pandas objects.\n",
      "  final_df.to_msgpack(output_path, compress='zlib')\n"
     ]
    },
    {
     "name": "stdout",
     "output_type": "stream",
     "text": [
      "/home/hanliu/project/mouse_rostral_brain/DMR/ITSpatial_by_layer/IT-L6/MotifScan.h5adtemp/MA1581.1.meme, N motif total=53794\n"
     ]
    },
    {
     "name": "stderr",
     "output_type": "stream",
     "text": [
      "/home/hanliu/miniconda3/envs/clustering/lib/python3.7/site-packages/ALLCools/dmr/fimo.py:60: FutureWarning: to_msgpack is deprecated and will be removed in a future version.\n",
      "It is recommended to use pyarrow for on-the-wire transmission of pandas objects.\n",
      "  final_df.to_msgpack(output_path, compress='zlib')\n"
     ]
    },
    {
     "name": "stdout",
     "output_type": "stream",
     "text": [
      "/home/hanliu/project/mouse_rostral_brain/DMR/ITSpatial_by_layer/IT-L6/MotifScan.h5adtemp/MA1579.1.meme, N motif total=70530\n"
     ]
    },
    {
     "name": "stderr",
     "output_type": "stream",
     "text": [
      "/home/hanliu/miniconda3/envs/clustering/lib/python3.7/site-packages/ALLCools/dmr/fimo.py:60: FutureWarning: to_msgpack is deprecated and will be removed in a future version.\n",
      "It is recommended to use pyarrow for on-the-wire transmission of pandas objects.\n",
      "  final_df.to_msgpack(output_path, compress='zlib')\n"
     ]
    },
    {
     "name": "stdout",
     "output_type": "stream",
     "text": [
      "/home/hanliu/project/mouse_rostral_brain/DMR/ITSpatial_by_layer/IT-L6/MotifScan.h5adtemp/MA0527.1.meme, N motif total=5550\n"
     ]
    },
    {
     "name": "stderr",
     "output_type": "stream",
     "text": [
      "/home/hanliu/miniconda3/envs/clustering/lib/python3.7/site-packages/ALLCools/dmr/fimo.py:60: FutureWarning: to_msgpack is deprecated and will be removed in a future version.\n",
      "It is recommended to use pyarrow for on-the-wire transmission of pandas objects.\n",
      "  final_df.to_msgpack(output_path, compress='zlib')\n"
     ]
    },
    {
     "name": "stdout",
     "output_type": "stream",
     "text": [
      "/home/hanliu/project/mouse_rostral_brain/DMR/ITSpatial_by_layer/IT-L6/MotifScan.h5adtemp/MA0695.1.meme, N motif total=33810\n"
     ]
    },
    {
     "name": "stderr",
     "output_type": "stream",
     "text": [
      "/home/hanliu/miniconda3/envs/clustering/lib/python3.7/site-packages/ALLCools/dmr/fimo.py:60: FutureWarning: to_msgpack is deprecated and will be removed in a future version.\n",
      "It is recommended to use pyarrow for on-the-wire transmission of pandas objects.\n",
      "  final_df.to_msgpack(output_path, compress='zlib')\n"
     ]
    },
    {
     "name": "stdout",
     "output_type": "stream",
     "text": [
      "/home/hanliu/project/mouse_rostral_brain/DMR/ITSpatial_by_layer/IT-L6/MotifScan.h5adtemp/MA0103.3.meme, N motif total=59311\n"
     ]
    },
    {
     "name": "stderr",
     "output_type": "stream",
     "text": [
      "/home/hanliu/miniconda3/envs/clustering/lib/python3.7/site-packages/ALLCools/dmr/fimo.py:60: FutureWarning: to_msgpack is deprecated and will be removed in a future version.\n",
      "It is recommended to use pyarrow for on-the-wire transmission of pandas objects.\n",
      "  final_df.to_msgpack(output_path, compress='zlib')\n"
     ]
    },
    {
     "name": "stdout",
     "output_type": "stream",
     "text": [
      "/home/hanliu/project/mouse_rostral_brain/DMR/ITSpatial_by_layer/IT-L6/MotifScan.h5adtemp/MA1628.1.meme, N motif total=60521\n"
     ]
    },
    {
     "name": "stderr",
     "output_type": "stream",
     "text": [
      "/home/hanliu/miniconda3/envs/clustering/lib/python3.7/site-packages/ALLCools/dmr/fimo.py:60: FutureWarning: to_msgpack is deprecated and will be removed in a future version.\n",
      "It is recommended to use pyarrow for on-the-wire transmission of pandas objects.\n",
      "  final_df.to_msgpack(output_path, compress='zlib')\n"
     ]
    },
    {
     "name": "stdout",
     "output_type": "stream",
     "text": [
      "/home/hanliu/project/mouse_rostral_brain/DMR/ITSpatial_by_layer/IT-L6/MotifScan.h5adtemp/MA0750.2.meme, N motif total=39224\n"
     ]
    },
    {
     "name": "stderr",
     "output_type": "stream",
     "text": [
      "/home/hanliu/miniconda3/envs/clustering/lib/python3.7/site-packages/ALLCools/dmr/fimo.py:60: FutureWarning: to_msgpack is deprecated and will be removed in a future version.\n",
      "It is recommended to use pyarrow for on-the-wire transmission of pandas objects.\n",
      "  final_df.to_msgpack(output_path, compress='zlib')\n"
     ]
    },
    {
     "name": "stdout",
     "output_type": "stream",
     "text": [
      "/home/hanliu/project/mouse_rostral_brain/DMR/ITSpatial_by_layer/IT-L6/MotifScan.h5adtemp/MA1583.1.meme, N motif total=8060\n"
     ]
    },
    {
     "name": "stderr",
     "output_type": "stream",
     "text": [
      "/home/hanliu/miniconda3/envs/clustering/lib/python3.7/site-packages/ALLCools/dmr/fimo.py:60: FutureWarning: to_msgpack is deprecated and will be removed in a future version.\n",
      "It is recommended to use pyarrow for on-the-wire transmission of pandas objects.\n",
      "  final_df.to_msgpack(output_path, compress='zlib')\n"
     ]
    },
    {
     "name": "stdout",
     "output_type": "stream",
     "text": [
      "/home/hanliu/project/mouse_rostral_brain/DMR/ITSpatial_by_layer/IT-L6/MotifScan.h5adtemp/MA0696.1.meme, N motif total=29682\n"
     ]
    },
    {
     "name": "stderr",
     "output_type": "stream",
     "text": [
      "/home/hanliu/miniconda3/envs/clustering/lib/python3.7/site-packages/ALLCools/dmr/fimo.py:60: FutureWarning: to_msgpack is deprecated and will be removed in a future version.\n",
      "It is recommended to use pyarrow for on-the-wire transmission of pandas objects.\n",
      "  final_df.to_msgpack(output_path, compress='zlib')\n"
     ]
    },
    {
     "name": "stdout",
     "output_type": "stream",
     "text": [
      "/home/hanliu/project/mouse_rostral_brain/DMR/ITSpatial_by_layer/IT-L6/MotifScan.h5adtemp/MA0146.2.meme, N motif total=55113\n"
     ]
    },
    {
     "name": "stderr",
     "output_type": "stream",
     "text": [
      "/home/hanliu/miniconda3/envs/clustering/lib/python3.7/site-packages/ALLCools/dmr/fimo.py:60: FutureWarning: to_msgpack is deprecated and will be removed in a future version.\n",
      "It is recommended to use pyarrow for on-the-wire transmission of pandas objects.\n",
      "  final_df.to_msgpack(output_path, compress='zlib')\n"
     ]
    },
    {
     "name": "stdout",
     "output_type": "stream",
     "text": [
      "/home/hanliu/project/mouse_rostral_brain/DMR/ITSpatial_by_layer/IT-L6/MotifScan.h5adtemp/MA1629.1.meme, N motif total=93287\n"
     ]
    },
    {
     "name": "stderr",
     "output_type": "stream",
     "text": [
      "/home/hanliu/miniconda3/envs/clustering/lib/python3.7/site-packages/ALLCools/dmr/fimo.py:60: FutureWarning: to_msgpack is deprecated and will be removed in a future version.\n",
      "It is recommended to use pyarrow for on-the-wire transmission of pandas objects.\n",
      "  final_df.to_msgpack(output_path, compress='zlib')\n"
     ]
    },
    {
     "name": "stdout",
     "output_type": "stream",
     "text": [
      "/home/hanliu/project/mouse_rostral_brain/DMR/ITSpatial_by_layer/IT-L6/MotifScan.h5adtemp/MA1651.1.meme, N motif total=49737\n"
     ]
    },
    {
     "name": "stderr",
     "output_type": "stream",
     "text": [
      "/home/hanliu/miniconda3/envs/clustering/lib/python3.7/site-packages/ALLCools/dmr/fimo.py:60: FutureWarning: to_msgpack is deprecated and will be removed in a future version.\n",
      "It is recommended to use pyarrow for on-the-wire transmission of pandas objects.\n",
      "  final_df.to_msgpack(output_path, compress='zlib')\n"
     ]
    },
    {
     "name": "stdout",
     "output_type": "stream",
     "text": [
      "/home/hanliu/project/mouse_rostral_brain/DMR/ITSpatial_by_layer/IT-L6/MotifScan.h5adtemp/MA0697.1.meme, N motif total=38943\n"
     ]
    },
    {
     "name": "stderr",
     "output_type": "stream",
     "text": [
      "/home/hanliu/miniconda3/envs/clustering/lib/python3.7/site-packages/ALLCools/dmr/fimo.py:60: FutureWarning: to_msgpack is deprecated and will be removed in a future version.\n",
      "It is recommended to use pyarrow for on-the-wire transmission of pandas objects.\n",
      "  final_df.to_msgpack(output_path, compress='zlib')\n"
     ]
    },
    {
     "name": "stdout",
     "output_type": "stream",
     "text": [
      "/home/hanliu/project/mouse_rostral_brain/DMR/ITSpatial_by_layer/IT-L6/MotifScan.h5adtemp/MA0751.1.meme, N motif total=35929\n"
     ]
    },
    {
     "name": "stderr",
     "output_type": "stream",
     "text": [
      "/home/hanliu/miniconda3/envs/clustering/lib/python3.7/site-packages/ALLCools/dmr/fimo.py:60: FutureWarning: to_msgpack is deprecated and will be removed in a future version.\n",
      "It is recommended to use pyarrow for on-the-wire transmission of pandas objects.\n",
      "  final_df.to_msgpack(output_path, compress='zlib')\n"
     ]
    },
    {
     "name": "stdout",
     "output_type": "stream",
     "text": [
      "/home/hanliu/project/mouse_rostral_brain/DMR/ITSpatial_by_layer/IT-L6/MotifScan.h5adtemp/MA1585.1.meme, N motif total=22927\n"
     ]
    },
    {
     "name": "stderr",
     "output_type": "stream",
     "text": [
      "/home/hanliu/miniconda3/envs/clustering/lib/python3.7/site-packages/ALLCools/dmr/fimo.py:60: FutureWarning: to_msgpack is deprecated and will be removed in a future version.\n",
      "It is recommended to use pyarrow for on-the-wire transmission of pandas objects.\n",
      "  final_df.to_msgpack(output_path, compress='zlib')\n"
     ]
    },
    {
     "name": "stdout",
     "output_type": "stream",
     "text": [
      "Motif MA0130.1 ZNF354C do not have any match under current settings.\n",
      "Finish count 700 motifs.\n"
     ]
    },
    {
     "name": "stdout",
     "output_type": "stream",
     "text": [
      "/home/hanliu/project/mouse_rostral_brain/DMR/ITSpatial_by_layer/IT-L6/MotifScan.h5adtemp/MA1584.1.meme, N motif total=21843\n"
     ]
    },
    {
     "name": "stderr",
     "output_type": "stream",
     "text": [
      "/home/hanliu/miniconda3/envs/clustering/lib/python3.7/site-packages/ALLCools/dmr/fimo.py:60: FutureWarning: to_msgpack is deprecated and will be removed in a future version.\n",
      "It is recommended to use pyarrow for on-the-wire transmission of pandas objects.\n",
      "  final_df.to_msgpack(output_path, compress='zlib')\n"
     ]
    },
    {
     "name": "stdout",
     "output_type": "stream",
     "text": [
      "/home/hanliu/project/mouse_rostral_brain/DMR/ITSpatial_by_layer/IT-L6/MotifScan.h5adtemp/MA1652.1.meme, N motif total=108856\n"
     ]
    },
    {
     "name": "stderr",
     "output_type": "stream",
     "text": [
      "/home/hanliu/miniconda3/envs/clustering/lib/python3.7/site-packages/ALLCools/dmr/fimo.py:60: FutureWarning: to_msgpack is deprecated and will be removed in a future version.\n",
      "It is recommended to use pyarrow for on-the-wire transmission of pandas objects.\n",
      "  final_df.to_msgpack(output_path, compress='zlib')\n"
     ]
    },
    {
     "name": "stdout",
     "output_type": "stream",
     "text": [
      "/home/hanliu/project/mouse_rostral_brain/DMR/ITSpatial_by_layer/IT-L6/MotifScan.h5adtemp/MA0088.2.meme, N motif total=11981\n"
     ]
    },
    {
     "name": "stderr",
     "output_type": "stream",
     "text": [
      "/home/hanliu/miniconda3/envs/clustering/lib/python3.7/site-packages/ALLCools/dmr/fimo.py:60: FutureWarning: to_msgpack is deprecated and will be removed in a future version.\n",
      "It is recommended to use pyarrow for on-the-wire transmission of pandas objects.\n",
      "  final_df.to_msgpack(output_path, compress='zlib')\n"
     ]
    },
    {
     "name": "stdout",
     "output_type": "stream",
     "text": [
      "/home/hanliu/project/mouse_rostral_brain/DMR/ITSpatial_by_layer/IT-L6/MotifScan.h5adtemp/MA1593.1.meme, N motif total=70034\n"
     ]
    },
    {
     "name": "stderr",
     "output_type": "stream",
     "text": [
      "/home/hanliu/miniconda3/envs/clustering/lib/python3.7/site-packages/ALLCools/dmr/fimo.py:60: FutureWarning: to_msgpack is deprecated and will be removed in a future version.\n",
      "It is recommended to use pyarrow for on-the-wire transmission of pandas objects.\n",
      "  final_df.to_msgpack(output_path, compress='zlib')\n"
     ]
    },
    {
     "name": "stdout",
     "output_type": "stream",
     "text": [
      "/home/hanliu/project/mouse_rostral_brain/DMR/ITSpatial_by_layer/IT-L6/MotifScan.h5adtemp/MA0528.2.meme, N motif total=146316\n"
     ]
    },
    {
     "name": "stderr",
     "output_type": "stream",
     "text": [
      "/home/hanliu/miniconda3/envs/clustering/lib/python3.7/site-packages/ALLCools/dmr/fimo.py:60: FutureWarning: to_msgpack is deprecated and will be removed in a future version.\n",
      "It is recommended to use pyarrow for on-the-wire transmission of pandas objects.\n",
      "  final_df.to_msgpack(output_path, compress='zlib')\n"
     ]
    },
    {
     "name": "stdout",
     "output_type": "stream",
     "text": [
      "/home/hanliu/project/mouse_rostral_brain/DMR/ITSpatial_by_layer/IT-L6/MotifScan.h5adtemp/MA1653.1.meme, N motif total=175213\n"
     ]
    },
    {
     "name": "stderr",
     "output_type": "stream",
     "text": [
      "/home/hanliu/miniconda3/envs/clustering/lib/python3.7/site-packages/ALLCools/dmr/fimo.py:60: FutureWarning: to_msgpack is deprecated and will be removed in a future version.\n",
      "It is recommended to use pyarrow for on-the-wire transmission of pandas objects.\n",
      "  final_df.to_msgpack(output_path, compress='zlib')\n"
     ]
    },
    {
     "name": "stdout",
     "output_type": "stream",
     "text": [
      "/home/hanliu/project/mouse_rostral_brain/DMR/ITSpatial_by_layer/IT-L6/MotifScan.h5adtemp/MA1630.1.meme, N motif total=89203\n"
     ]
    },
    {
     "name": "stderr",
     "output_type": "stream",
     "text": [
      "/home/hanliu/miniconda3/envs/clustering/lib/python3.7/site-packages/ALLCools/dmr/fimo.py:60: FutureWarning: to_msgpack is deprecated and will be removed in a future version.\n",
      "It is recommended to use pyarrow for on-the-wire transmission of pandas objects.\n",
      "  final_df.to_msgpack(output_path, compress='zlib')\n"
     ]
    },
    {
     "name": "stdout",
     "output_type": "stream",
     "text": [
      "/home/hanliu/project/mouse_rostral_brain/DMR/ITSpatial_by_layer/IT-L6/MotifScan.h5adtemp/MA1124.1.meme, N motif total=53193\n"
     ]
    },
    {
     "name": "stderr",
     "output_type": "stream",
     "text": [
      "/home/hanliu/miniconda3/envs/clustering/lib/python3.7/site-packages/ALLCools/dmr/fimo.py:60: FutureWarning: to_msgpack is deprecated and will be removed in a future version.\n",
      "It is recommended to use pyarrow for on-the-wire transmission of pandas objects.\n",
      "  final_df.to_msgpack(output_path, compress='zlib')\n"
     ]
    },
    {
     "name": "stdout",
     "output_type": "stream",
     "text": [
      "/home/hanliu/project/mouse_rostral_brain/DMR/ITSpatial_by_layer/IT-L6/MotifScan.h5adtemp/MA1592.1.meme, N motif total=43329\n"
     ]
    },
    {
     "name": "stderr",
     "output_type": "stream",
     "text": [
      "/home/hanliu/miniconda3/envs/clustering/lib/python3.7/site-packages/ALLCools/dmr/fimo.py:60: FutureWarning: to_msgpack is deprecated and will be removed in a future version.\n",
      "It is recommended to use pyarrow for on-the-wire transmission of pandas objects.\n",
      "  final_df.to_msgpack(output_path, compress='zlib')\n"
     ]
    },
    {
     "name": "stdout",
     "output_type": "stream",
     "text": [
      "/home/hanliu/project/mouse_rostral_brain/DMR/ITSpatial_by_layer/IT-L6/MotifScan.h5adtemp/MA1655.1.meme, N motif total=54957\n"
     ]
    },
    {
     "name": "stderr",
     "output_type": "stream",
     "text": [
      "/home/hanliu/miniconda3/envs/clustering/lib/python3.7/site-packages/ALLCools/dmr/fimo.py:60: FutureWarning: to_msgpack is deprecated and will be removed in a future version.\n",
      "It is recommended to use pyarrow for on-the-wire transmission of pandas objects.\n",
      "  final_df.to_msgpack(output_path, compress='zlib')\n"
     ]
    },
    {
     "name": "stdout",
     "output_type": "stream",
     "text": [
      "/home/hanliu/project/mouse_rostral_brain/DMR/ITSpatial_by_layer/IT-L6/MotifScan.h5adtemp/MA1125.1.meme, N motif total=354991\n"
     ]
    },
    {
     "name": "stderr",
     "output_type": "stream",
     "text": [
      "/home/hanliu/miniconda3/envs/clustering/lib/python3.7/site-packages/ALLCools/dmr/fimo.py:60: FutureWarning: to_msgpack is deprecated and will be removed in a future version.\n",
      "It is recommended to use pyarrow for on-the-wire transmission of pandas objects.\n",
      "  final_df.to_msgpack(output_path, compress='zlib')\n"
     ]
    },
    {
     "name": "stdout",
     "output_type": "stream",
     "text": [
      "/home/hanliu/project/mouse_rostral_brain/DMR/ITSpatial_by_layer/IT-L6/MotifScan.h5adtemp/MA0752.1.meme, N motif total=2259\n"
     ]
    },
    {
     "name": "stderr",
     "output_type": "stream",
     "text": [
      "/home/hanliu/miniconda3/envs/clustering/lib/python3.7/site-packages/ALLCools/dmr/fimo.py:60: FutureWarning: to_msgpack is deprecated and will be removed in a future version.\n",
      "It is recommended to use pyarrow for on-the-wire transmission of pandas objects.\n",
      "  final_df.to_msgpack(output_path, compress='zlib')\n"
     ]
    },
    {
     "name": "stdout",
     "output_type": "stream",
     "text": [
      "/home/hanliu/project/mouse_rostral_brain/DMR/ITSpatial_by_layer/IT-L6/MotifScan.h5adtemp/MA1154.1.meme, N motif total=22151\n"
     ]
    },
    {
     "name": "stderr",
     "output_type": "stream",
     "text": [
      "/home/hanliu/miniconda3/envs/clustering/lib/python3.7/site-packages/ALLCools/dmr/fimo.py:60: FutureWarning: to_msgpack is deprecated and will be removed in a future version.\n",
      "It is recommended to use pyarrow for on-the-wire transmission of pandas objects.\n",
      "  final_df.to_msgpack(output_path, compress='zlib')\n"
     ]
    },
    {
     "name": "stdout",
     "output_type": "stream",
     "text": [
      "/home/hanliu/project/mouse_rostral_brain/DMR/ITSpatial_by_layer/IT-L6/MotifScan.h5adtemp/MA0116.1.meme, N motif total=27789\n"
     ]
    },
    {
     "name": "stderr",
     "output_type": "stream",
     "text": [
      "/home/hanliu/miniconda3/envs/clustering/lib/python3.7/site-packages/ALLCools/dmr/fimo.py:60: FutureWarning: to_msgpack is deprecated and will be removed in a future version.\n",
      "It is recommended to use pyarrow for on-the-wire transmission of pandas objects.\n",
      "  final_df.to_msgpack(output_path, compress='zlib')\n"
     ]
    },
    {
     "name": "stdout",
     "output_type": "stream",
     "text": [
      "/home/hanliu/project/mouse_rostral_brain/DMR/ITSpatial_by_layer/IT-L6/MotifScan.h5adtemp/MA1657.1.meme, N motif total=29295\n"
     ]
    },
    {
     "name": "stderr",
     "output_type": "stream",
     "text": [
      "/home/hanliu/miniconda3/envs/clustering/lib/python3.7/site-packages/ALLCools/dmr/fimo.py:60: FutureWarning: to_msgpack is deprecated and will be removed in a future version.\n",
      "It is recommended to use pyarrow for on-the-wire transmission of pandas objects.\n",
      "  final_df.to_msgpack(output_path, compress='zlib')\n"
     ]
    },
    {
     "name": "stdout",
     "output_type": "stream",
     "text": [
      "/home/hanliu/project/mouse_rostral_brain/DMR/ITSpatial_by_layer/IT-L6/MotifScan.h5adtemp/MA1594.1.meme, N motif total=11541\n"
     ]
    },
    {
     "name": "stderr",
     "output_type": "stream",
     "text": [
      "/home/hanliu/miniconda3/envs/clustering/lib/python3.7/site-packages/ALLCools/dmr/fimo.py:60: FutureWarning: to_msgpack is deprecated and will be removed in a future version.\n",
      "It is recommended to use pyarrow for on-the-wire transmission of pandas objects.\n",
      "  final_df.to_msgpack(output_path, compress='zlib')\n"
     ]
    },
    {
     "name": "stdout",
     "output_type": "stream",
     "text": [
      "/home/hanliu/project/mouse_rostral_brain/DMR/ITSpatial_by_layer/IT-L6/MotifScan.h5adtemp/MA1656.1.meme, N motif total=56134\n"
     ]
    },
    {
     "name": "stderr",
     "output_type": "stream",
     "text": [
      "/home/hanliu/miniconda3/envs/clustering/lib/python3.7/site-packages/ALLCools/dmr/fimo.py:60: FutureWarning: to_msgpack is deprecated and will be removed in a future version.\n",
      "It is recommended to use pyarrow for on-the-wire transmission of pandas objects.\n",
      "  final_df.to_msgpack(output_path, compress='zlib')\n"
     ]
    },
    {
     "name": "stdout",
     "output_type": "stream",
     "text": [
      "/home/hanliu/project/mouse_rostral_brain/DMR/ITSpatial_by_layer/IT-L6/MotifScan.h5adtemp/MA1602.1.meme, N motif total=20923\n"
     ]
    },
    {
     "name": "stderr",
     "output_type": "stream",
     "text": [
      "/home/hanliu/miniconda3/envs/clustering/lib/python3.7/site-packages/ALLCools/dmr/fimo.py:60: FutureWarning: to_msgpack is deprecated and will be removed in a future version.\n",
      "It is recommended to use pyarrow for on-the-wire transmission of pandas objects.\n",
      "  final_df.to_msgpack(output_path, compress='zlib')\n"
     ]
    },
    {
     "name": "stdout",
     "output_type": "stream",
     "text": [
      "/home/hanliu/project/mouse_rostral_brain/DMR/ITSpatial_by_layer/IT-L6/MotifScan.h5adtemp/MA0753.2.meme, N motif total=245417\n"
     ]
    },
    {
     "name": "stderr",
     "output_type": "stream",
     "text": [
      "/home/hanliu/miniconda3/envs/clustering/lib/python3.7/site-packages/ALLCools/dmr/fimo.py:60: FutureWarning: to_msgpack is deprecated and will be removed in a future version.\n",
      "It is recommended to use pyarrow for on-the-wire transmission of pandas objects.\n",
      "  final_df.to_msgpack(output_path, compress='zlib')\n"
     ]
    },
    {
     "name": "stderr",
     "output_type": "stream",
     "text": [
      "/home/hanliu/miniconda3/envs/clustering/lib/python3.7/site-packages/ALLCools/dmr/fimo.py:108: FutureWarning: to_msgpack is deprecated and will be removed in a future version.\n",
      "It is recommended to use pyarrow for on-the-wire transmission of pandas objects.\n",
      "  lookup_table.to_msgpack(output_dir / f'LOOKUP_TABLE.msg')\n"
     ]
    }
   ],
   "source": [
    "scan_motif_over_bed(\n",
    "    bed_path=bed_path,\n",
    "    motif_file=motif_file_path,\n",
    "    genome_fasta=genome_fasta_path,\n",
    "    output_dir =str(output_path) + \"temp\",\n",
    "    chrom_size_path=chrom_size_path,\n",
    "    cpu=40, \n",
    "    use_region_name=True,\n",
    "    sort_mem_gbs=10\n",
    ")"
   ]
  },
  {
   "cell_type": "markdown",
   "metadata": {
    "papermill": {
     "duration": 0.279699,
     "end_time": "2020-01-12T05:19:05.383513",
     "exception": false,
     "start_time": "2020-01-12T05:19:05.103814",
     "status": "completed"
    },
    "tags": []
   },
   "source": [
    "## Aggregate motif hits"
   ]
  },
  {
   "cell_type": "code",
   "execution_count": 7,
   "metadata": {
    "ExecuteTime": {
     "end_time": "2020-01-11T06:26:28.669360Z",
     "start_time": "2020-01-11T06:26:28.662712Z"
    },
    "papermill": {
     "duration": 0.28765,
     "end_time": "2020-01-12T05:19:05.949347",
     "exception": false,
     "start_time": "2020-01-12T05:19:05.661697",
     "status": "completed"
    },
    "tags": []
   },
   "outputs": [],
   "source": [
    "temp_dir = pathlib.Path(str(output_path) + \"temp\")\n",
    "results_path = list(temp_dir.glob('*bed.msg'))"
   ]
  },
  {
   "cell_type": "code",
   "execution_count": 8,
   "metadata": {
    "ExecuteTime": {
     "end_time": "2020-01-11T06:20:07.873952Z",
     "start_time": "2020-01-11T06:19:40.044246Z"
    },
    "papermill": {
     "duration": 33.475347,
     "end_time": "2020-01-12T05:19:39.704949",
     "exception": false,
     "start_time": "2020-01-12T05:19:06.229602",
     "status": "completed"
    },
    "tags": []
   },
   "outputs": [
    {
     "name": "stderr",
     "output_type": "stream",
     "text": [
      "/home/hanliu/miniconda3/envs/clustering/lib/python3.7/site-packages/IPython/core/interactiveshell.py:3326: FutureWarning: The read_msgpack is deprecated and will be removed in a future version.\n",
      "It is recommended to use pyarrow for on-the-wire transmission of pandas objects.\n",
      "  exec(code_obj, self.user_global_ns, self.user_ns)\n"
     ]
    },
    {
     "name": "stdout",
     "output_type": "stream",
     "text": [
      "100\n"
     ]
    },
    {
     "name": "stdout",
     "output_type": "stream",
     "text": [
      "200\n"
     ]
    },
    {
     "name": "stdout",
     "output_type": "stream",
     "text": [
      "300\n"
     ]
    },
    {
     "name": "stdout",
     "output_type": "stream",
     "text": [
      "400\n"
     ]
    },
    {
     "name": "stdout",
     "output_type": "stream",
     "text": [
      "500\n"
     ]
    },
    {
     "name": "stdout",
     "output_type": "stream",
     "text": [
      "600\n"
     ]
    },
    {
     "name": "stdout",
     "output_type": "stream",
     "text": [
      "700\n"
     ]
    },
    {
     "name": "stderr",
     "output_type": "stream",
     "text": [
      "... storing 'chrom' as categorical\n"
     ]
    }
   ],
   "source": [
    "rows = []\n",
    "cols = []\n",
    "datas = []\n",
    "motif_ids = []\n",
    "n = 0\n",
    "for i, path in enumerate(results_path):\n",
    "    n += 1\n",
    "    if n % 100 == 0:\n",
    "        print(n)\n",
    "    df = pd.read_msgpack(path)\n",
    "    motif_id = path.name[:-8]\n",
    "    motif_ids.append(motif_id)\n",
    "    \n",
    "    dmr_max_scores = df.groupby('sequence_name')['score'].max()\n",
    "    dmr_max_scores.index = dmr_max_scores.index.map(lambda i: i.split('_')[1]).astype(int)\n",
    "    dmr_max_scores.sort_index(inplace=True)\n",
    "    row = dmr_max_scores.index.values\n",
    "    col = (np.ones_like(row) * i).astype(int)\n",
    "    data = dmr_max_scores.values        \n",
    "    rows.append(row)\n",
    "    cols.append(col)\n",
    "    datas.append(data)\n",
    "rows = np.concatenate(rows)\n",
    "cols = np.concatenate(cols)\n",
    "datas = np.concatenate(datas)\n",
    "\n",
    "hits = csr_matrix((datas, (rows, cols)),\n",
    "                  shape=(dmr_bed.shape[0], len(motif_ids)))\n",
    "\n",
    "dmr_hits = anndata.AnnData(X=hits,\n",
    "                           obs=dmr_bed,\n",
    "                           var=pd.DataFrame([], index=motif_ids))\n",
    "\n",
    "dmr_hits.write_h5ad(output_path)"
   ]
  },
  {
   "cell_type": "code",
   "execution_count": 9,
   "metadata": {
    "ExecuteTime": {
     "end_time": "2020-01-11T06:20:21.528210Z",
     "start_time": "2020-01-11T06:20:21.524900Z"
    },
    "papermill": {
     "duration": 0.302878,
     "end_time": "2020-01-12T05:19:40.289695",
     "exception": false,
     "start_time": "2020-01-12T05:19:39.986817",
     "status": "completed"
    },
    "tags": []
   },
   "outputs": [
    {
     "data": {
      "text/plain": [
       "AnnData object with n_obs × n_vars = 299359 × 719 \n",
       "    obs: 'chrom', 'start', 'end'"
      ]
     },
     "execution_count": 9,
     "metadata": {},
     "output_type": "execute_result"
    }
   ],
   "source": [
    "dmr_hits"
   ]
  },
  {
   "cell_type": "code",
   "execution_count": 10,
   "metadata": {
    "ExecuteTime": {
     "end_time": "2020-01-11T06:21:22.263596Z",
     "start_time": "2020-01-11T06:21:22.083041Z"
    },
    "papermill": {
     "duration": 0.522814,
     "end_time": "2020-01-12T05:19:41.211066",
     "exception": false,
     "start_time": "2020-01-12T05:19:40.688252",
     "status": "completed"
    },
    "tags": []
   },
   "outputs": [],
   "source": [
    "motif_hits_portion = ((dmr_hits.X > 0).sum(axis=0) / dmr_hits.X.shape[0]).A1"
   ]
  },
  {
   "cell_type": "code",
   "execution_count": 11,
   "metadata": {
    "ExecuteTime": {
     "end_time": "2020-01-11T06:21:28.111692Z",
     "start_time": "2020-01-11T06:21:27.960190Z"
    },
    "papermill": {
     "duration": 0.4267,
     "end_time": "2020-01-12T05:19:41.921930",
     "exception": false,
     "start_time": "2020-01-12T05:19:41.495230",
     "status": "completed"
    },
    "tags": []
   },
   "outputs": [
    {
     "data": {
      "text/plain": [
       "<matplotlib.axes._subplots.AxesSubplot at 0x7f08001f6320>"
      ]
     },
     "execution_count": 11,
     "metadata": {},
     "output_type": "execute_result"
    },
    {
     "data": {
      "image/png": "[encoded data removed]",
      "text/plain": [
       "<Figure size 432x288 with 1 Axes>"
      ]
     },
     "metadata": {
      "needs_background": "light"
     },
     "output_type": "display_data"
    }
   ],
   "source": [
    "sns.distplot(motif_hits_portion)"
   ]
  },
  {
   "cell_type": "markdown",
   "metadata": {
    "papermill": {
     "duration": 0.281487,
     "end_time": "2020-01-12T05:19:42.498787",
     "exception": false,
     "start_time": "2020-01-12T05:19:42.217300",
     "status": "completed"
    },
    "tags": []
   },
   "source": [
    "## Delete temp dir"
   ]
  },
  {
   "cell_type": "code",
   "execution_count": 12,
   "metadata": {
    "ExecuteTime": {
     "end_time": "2020-01-11T06:26:33.954958Z",
     "start_time": "2020-01-11T06:26:33.715562Z"
    },
    "papermill": {
     "duration": 0.596765,
     "end_time": "2020-01-12T05:19:43.375366",
     "exception": false,
     "start_time": "2020-01-12T05:19:42.778601",
     "status": "completed"
    },
    "tags": []
   },
   "outputs": [
    {
     "data": {
      "text/plain": [
       "CompletedProcess(args=['rm', '-rf', '/home/hanliu/project/mouse_rostral_brain/DMR/ITSpatial_by_layer/IT-L6/MotifScan.h5adtemp'], returncode=0)"
      ]
     },
     "execution_count": 12,
     "metadata": {},
     "output_type": "execute_result"
    }
   ],
   "source": [
    "subprocess.run(['rm', '-rf', str(temp_dir)])"
   ]
  },
  {
   "cell_type": "code",
   "execution_count": null,
   "metadata": {
    "papermill": {
     "duration": 0.283941,
     "end_time": "2020-01-12T05:19:43.943311",
     "exception": false,
     "start_time": "2020-01-12T05:19:43.659370",
     "status": "completed"
    },
    "tags": []
   },
   "outputs": [],
   "source": []
  }
 ],
 "metadata": {
  "celltoolbar": "Tags",
  "hide_input": false,
  "kernelspec": {
   "display_name": "Python 3",
   "language": "python",
   "name": "python3"
  },
  "language_info": {
   "codemirror_mode": {
    "name": "ipython",
    "version": 3
   },
   "file_extension": ".py",
   "mimetype": "text/x-python",
   "name": "python",
   "nbconvert_exporter": "python",
   "pygments_lexer": "ipython3",
   "version": "3.7.3"
  },
  "papermill": {
   "duration": 488.840446,
   "end_time": "2020-01-12T05:19:44.835209",
   "environment_variables": {},
   "exception": null,
   "input_path": "2.MotifScan.ipynb",
   "output_path": "/home/hanliu/project/mouse_rostral_brain/DMR/ITSpatial_by_layer/IT-L6/Recipe/2.MotifScan.ipynb",
   "parameters": {
    "bed_path": "/home/hanliu/project/mouse_rostral_brain/DMR/ITSpatial_by_layer/IT-L6/TotalDMR.nofilter.bed",
    "chrom_size_path": "/home/hanliu/ref/mouse/genome/mm10.main.chrom.sizes",
    "genome_fasta_path": "/home/hanliu/ref/mouse/genome/fasta/raw/mm10.fa",
    "motif_file_path": "/home/hanliu/ref/MEME/selected_motifs_sets/JASPAR2020_CORE_vertebrates_non-redundant_pfms.has_mouse_id.meme"
   },
   "start_time": "2020-01-12T05:11:35.994763",
   "version": "1.0.1"
  },
  "toc": {
   "base_numbering": 1,
   "nav_menu": {},
   "number_sections": true,
   "sideBar": true,
   "skip_h1_title": true,
   "title_cell": "Table of Contents",
   "title_sidebar": "Contents",
   "toc_cell": false,
   "toc_position": {},
   "toc_section_display": true,
   "toc_window_display": true
  }
 },
 "nbformat": 4,
 "nbformat_minor": 2
}