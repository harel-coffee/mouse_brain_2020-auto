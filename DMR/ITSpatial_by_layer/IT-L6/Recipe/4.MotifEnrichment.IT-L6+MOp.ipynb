{
 "cells": [
  {
   "cell_type": "markdown",
   "metadata": {
    "papermill": {
     "duration": 0.0095,
     "end_time": "2020-01-14T06:48:46.565542",
     "exception": false,
     "start_time": "2020-01-14T06:48:46.556042",
     "status": "completed"
    },
    "tags": []
   },
   "source": [
    "# Motif Enrichment\n",
    "- The motif hits matrix save the max loglikelyhood score of a motif in that DMR\n",
    "- Before run the motif enrichment, I filter the scores for each motif using cutoff defined by\n",
    "    - `np.quantile(motif_score[motif_score > 0]) * mask_quantile_to99`\n",
    "- This filter will remove hits with low score, which is likely to be false positive\n",
    "- Its likely boosting the significance of real enrichment"
   ]
  },
  {
   "cell_type": "code",
   "execution_count": 1,
   "metadata": {
    "ExecuteTime": {
     "end_time": "2020-01-17T05:01:40.867105Z",
     "start_time": "2020-01-17T05:01:40.102610Z"
    },
    "papermill": {
     "duration": 0.677349,
     "end_time": "2020-01-14T06:48:47.253245",
     "exception": false,
     "start_time": "2020-01-14T06:48:46.575896",
     "status": "completed"
    },
    "tags": []
   },
   "outputs": [],
   "source": [
    "from concurrent.futures import ProcessPoolExecutor, as_completed\n",
    "import anndata\n",
    "import matplotlib.pyplot as plt\n",
    "import numpy as np\n",
    "import pandas as pd\n",
    "import pybedtools\n",
    "import scipy.stats as stats\n",
    "import seaborn as sns\n",
    "from scipy.sparse import csr_matrix\n",
    "from statsmodels.stats.multitest import multipletests\n",
    "import pathlib"
   ]
  },
  {
   "cell_type": "code",
   "execution_count": 2,
   "metadata": {
    "ExecuteTime": {
     "end_time": "2020-01-17T05:01:40.871782Z",
     "start_time": "2020-01-17T05:01:40.869025Z"
    },
    "papermill": {
     "duration": 0.015324,
     "end_time": "2020-01-14T06:48:47.278880",
     "exception": false,
     "start_time": "2020-01-14T06:48:47.263556",
     "status": "completed"
    },
    "tags": [
     "parameters"
    ]
   },
   "outputs": [],
   "source": [
    "mask_quantile_to99 = 0.9\n",
    "or_cutoff = 1.5\n",
    "neg_lgp_cutoff = 10\n",
    "group = 'IT-L23+ACA'\n",
    "\n",
    "motif_hits_path = '/home/hanliu/project/mouse_rostral_brain/DMR/ITSpatial_by_layer/IT-L23/MotifScan.h5ad'\n",
    "dmr_hits_path = f'/home/hanliu/project/mouse_rostral_brain/DMR/ITSpatial_by_layer/IT-L23/HypoDMR/{group}.DMS1.bed'\n",
    "output_dir = '/home/hanliu/project/mouse_rostral_brain/DMR/ITSpatial_by_layer/IT-L23/MotifEnrichment'\n"
   ]
  },
  {
   "cell_type": "code",
   "execution_count": 3,
   "metadata": {
    "ExecuteTime": {
     "end_time": "2020-01-17T05:01:40.875416Z",
     "start_time": "2020-01-17T05:01:40.873104Z"
    },
    "papermill": {
     "duration": 0.014192,
     "end_time": "2020-01-14T06:48:47.302125",
     "exception": false,
     "start_time": "2020-01-14T06:48:47.287933",
     "status": "completed"
    },
    "tags": [
     "injected-parameters"
    ]
   },
   "outputs": [],
   "source": [
    "# Parameters\n",
    "mask_quantile_to99 = 0.9\n",
    "or_cutoff = 1.5\n",
    "neg_lgp_cutoff = 10\n",
    "group = \"IT-L6+MOp\"\n",
    "motif_hits_path = \"/home/hanliu/project/mouse_rostral_brain/DMR/ITSpatial_by_layer/IT-L6/MotifScan.h5ad\"\n",
    "dmr_hits_path = \"/home/hanliu/project/mouse_rostral_brain/DMR/ITSpatial_by_layer/IT-L6/HypoDMR/IT-L6+MOp.DMS1.bed\"\n",
    "output_dir = \"/home/hanliu/project/mouse_rostral_brain/DMR/ITSpatial_by_layer/IT-L6/MotifEnrichment\"\n"
   ]
  },
  {
   "cell_type": "code",
   "execution_count": 4,
   "metadata": {
    "ExecuteTime": {
     "end_time": "2020-01-17T05:01:40.878799Z",
     "start_time": "2020-01-17T05:01:40.876673Z"
    },
    "papermill": {
     "duration": 0.013791,
     "end_time": "2020-01-14T06:48:47.324865",
     "exception": false,
     "start_time": "2020-01-14T06:48:47.311074",
     "status": "completed"
    },
    "tags": []
   },
   "outputs": [],
   "source": [
    "output_dir = pathlib.Path(output_dir)\n",
    "output_dir.mkdir(exist_ok=True)"
   ]
  },
  {
   "cell_type": "markdown",
   "metadata": {
    "papermill": {
     "duration": 0.00914,
     "end_time": "2020-01-14T06:48:47.342895",
     "exception": false,
     "start_time": "2020-01-14T06:48:47.333755",
     "status": "completed"
    },
    "tags": []
   },
   "source": [
    "## DMR hits"
   ]
  },
  {
   "cell_type": "code",
   "execution_count": 5,
   "metadata": {
    "ExecuteTime": {
     "end_time": "2020-01-17T05:01:40.930926Z",
     "start_time": "2020-01-17T05:01:40.879968Z"
    },
    "papermill": {
     "duration": 0.093148,
     "end_time": "2020-01-14T06:48:47.444989",
     "exception": false,
     "start_time": "2020-01-14T06:48:47.351841",
     "status": "completed"
    },
    "tags": []
   },
   "outputs": [
    {
     "data": {
      "text/html": [
       "<div>\n",
       "<style scoped>\n",
       "    .dataframe tbody tr th:only-of-type {\n",
       "        vertical-align: middle;\n",
       "    }\n",
       "\n",
       "    .dataframe tbody tr th {\n",
       "        vertical-align: top;\n",
       "    }\n",
       "\n",
       "    .dataframe thead th {\n",
       "        text-align: right;\n",
       "    }\n",
       "</style>\n",
       "<table border=\"1\" class=\"dataframe\">\n",
       "  <thead>\n",
       "    <tr style=\"text-align: right;\">\n",
       "      <th></th>\n",
       "      <th>0</th>\n",
       "      <th>1</th>\n",
       "      <th>2</th>\n",
       "    </tr>\n",
       "    <tr>\n",
       "      <th>3</th>\n",
       "      <th></th>\n",
       "      <th></th>\n",
       "      <th></th>\n",
       "    </tr>\n",
       "  </thead>\n",
       "  <tbody>\n",
       "    <tr>\n",
       "      <th>DGm3c_6</th>\n",
       "      <td>chr1</td>\n",
       "      <td>3211017</td>\n",
       "      <td>3211017</td>\n",
       "    </tr>\n",
       "    <tr>\n",
       "      <th>DGm3c_7</th>\n",
       "      <td>chr1</td>\n",
       "      <td>3211269</td>\n",
       "      <td>3211290</td>\n",
       "    </tr>\n",
       "    <tr>\n",
       "      <th>DGm3c_16</th>\n",
       "      <td>chr1</td>\n",
       "      <td>3309555</td>\n",
       "      <td>3309555</td>\n",
       "    </tr>\n",
       "    <tr>\n",
       "      <th>DGm3c_18</th>\n",
       "      <td>chr1</td>\n",
       "      <td>3327526</td>\n",
       "      <td>3327550</td>\n",
       "    </tr>\n",
       "    <tr>\n",
       "      <th>DGm3c_20</th>\n",
       "      <td>chr1</td>\n",
       "      <td>3332265</td>\n",
       "      <td>3332265</td>\n",
       "    </tr>\n",
       "  </tbody>\n",
       "</table>\n",
       "</div>"
      ],
      "text/plain": [
       "             0        1        2\n",
       "3                               \n",
       "DGm3c_6   chr1  3211017  3211017\n",
       "DGm3c_7   chr1  3211269  3211290\n",
       "DGm3c_16  chr1  3309555  3309555\n",
       "DGm3c_18  chr1  3327526  3327550\n",
       "DGm3c_20  chr1  3332265  3332265"
      ]
     },
     "execution_count": 5,
     "metadata": {},
     "output_type": "execute_result"
    }
   ],
   "source": [
    "dmr_bed_df = pd.read_csv(dmr_hits_path, sep='\\t', header=None, index_col=3)\n",
    "dmr_bed_df.head()"
   ]
  },
  {
   "cell_type": "code",
   "execution_count": 6,
   "metadata": {
    "ExecuteTime": {
     "end_time": "2020-01-17T05:01:42.352175Z",
     "start_time": "2020-01-17T05:01:40.932210Z"
    },
    "papermill": {
     "duration": 1.243342,
     "end_time": "2020-01-14T06:48:48.698421",
     "exception": false,
     "start_time": "2020-01-14T06:48:47.455079",
     "status": "completed"
    },
    "tags": []
   },
   "outputs": [
    {
     "data": {
      "text/plain": [
       "AnnData object with n_obs × n_vars = 46683 × 719 \n",
       "    obs: 'chrom', 'start', 'end'"
      ]
     },
     "execution_count": 6,
     "metadata": {},
     "output_type": "execute_result"
    }
   ],
   "source": [
    "motif_hits = anndata.read_h5ad(motif_hits_path)\n",
    "motif_hits = motif_hits[dmr_bed_df.index, :].copy()\n",
    "motif_ids = motif_hits.var_names\n",
    "motif_hits.X = motif_hits.X.todense()\n",
    "motif_hits"
   ]
  },
  {
   "cell_type": "code",
   "execution_count": 7,
   "metadata": {
    "ExecuteTime": {
     "end_time": "2020-01-17T05:01:43.009908Z",
     "start_time": "2020-01-17T05:01:42.354482Z"
    },
    "papermill": {
     "duration": 0.980815,
     "end_time": "2020-01-14T06:48:49.689479",
     "exception": false,
     "start_time": "2020-01-14T06:48:48.708664",
     "status": "completed"
    },
    "tags": []
   },
   "outputs": [],
   "source": [
    "# mask small motif scores\n",
    "motif_cutoff = pd.Series(np.apply_along_axis(lambda i: np.quantile(i[i>0], 0.99) * mask_quantile_to99, \n",
    "                                             0, motif_hits.X),\n",
    "                         index=motif_hits.var_names)\n",
    "# only keep value larger than the cutoff for each motif\n",
    "motif_hits.X = np.multiply(motif_hits.X, (motif_hits.X > motif_cutoff.values[None, :]))"
   ]
  },
  {
   "cell_type": "markdown",
   "metadata": {
    "papermill": {
     "duration": 0.009453,
     "end_time": "2020-01-14T06:48:49.709124",
     "exception": false,
     "start_time": "2020-01-14T06:48:49.699671",
     "status": "completed"
    },
    "tags": []
   },
   "source": [
    "## Background Hits"
   ]
  },
  {
   "cell_type": "code",
   "execution_count": 8,
   "metadata": {
    "ExecuteTime": {
     "end_time": "2020-01-17T05:01:44.286397Z",
     "start_time": "2020-01-17T05:01:43.011566Z"
    },
    "papermill": {
     "duration": 1.146593,
     "end_time": "2020-01-14T06:48:50.865427",
     "exception": false,
     "start_time": "2020-01-14T06:48:49.718834",
     "status": "completed"
    },
    "tags": []
   },
   "outputs": [],
   "source": [
    "background_motif_hits = anndata.read_h5ad(\n",
    "    '/home/hanliu/project/mouse_rostral_brain/DMR/BackgroundDMR/MotifScan.h5ad'\n",
    ")"
   ]
  },
  {
   "cell_type": "code",
   "execution_count": 9,
   "metadata": {
    "ExecuteTime": {
     "end_time": "2020-01-17T05:01:45.379250Z",
     "start_time": "2020-01-17T05:01:44.288150Z"
    },
    "papermill": {
     "duration": 1.139432,
     "end_time": "2020-01-14T06:48:52.015420",
     "exception": false,
     "start_time": "2020-01-14T06:48:50.875988",
     "status": "completed"
    },
    "tags": []
   },
   "outputs": [],
   "source": [
    "dmr_bed = pybedtools.BedTool().from_dataframe(dmr_bed_df)\n",
    "bg_bed = pybedtools.BedTool().from_dataframe(\n",
    "    background_motif_hits.obs.reset_index().iloc[:, [1, 2, 3, 0]])"
   ]
  },
  {
   "cell_type": "code",
   "execution_count": 10,
   "metadata": {
    "ExecuteTime": {
     "end_time": "2020-01-17T05:01:47.126609Z",
     "start_time": "2020-01-17T05:01:45.380839Z"
    },
    "papermill": {
     "duration": 1.554934,
     "end_time": "2020-01-14T06:48:53.580606",
     "exception": false,
     "start_time": "2020-01-14T06:48:52.025672",
     "status": "completed"
    },
    "tags": []
   },
   "outputs": [],
   "source": [
    "# exclude background that overlap with DMR\n",
    "bg_no_overlap = bg_bed.intersect(dmr_bed, v=True)\n",
    "use_bg = bg_no_overlap.to_dataframe().iloc[:, -1].values\n",
    "background_motif_hits = background_motif_hits[use_bg, :]\n",
    "\n",
    "# make sure col in same order\n",
    "background_motif_hits = background_motif_hits[:, motif_ids].copy()"
   ]
  },
  {
   "cell_type": "code",
   "execution_count": 11,
   "metadata": {
    "ExecuteTime": {
     "end_time": "2020-01-17T05:01:49.411919Z",
     "start_time": "2020-01-17T05:01:47.128350Z"
    },
    "papermill": {
     "duration": 2.115189,
     "end_time": "2020-01-14T06:48:55.706116",
     "exception": false,
     "start_time": "2020-01-14T06:48:53.590927",
     "status": "completed"
    },
    "tags": []
   },
   "outputs": [],
   "source": [
    "judge_matrix = csr_matrix(background_motif_hits.X > motif_cutoff.values[None, :])\n",
    "background_motif_hits.X = background_motif_hits.X.multiply(judge_matrix)"
   ]
  },
  {
   "cell_type": "code",
   "execution_count": 12,
   "metadata": {
    "ExecuteTime": {
     "end_time": "2020-01-17T05:01:49.420288Z",
     "start_time": "2020-01-17T05:01:49.414668Z"
    },
    "papermill": {
     "duration": 0.017299,
     "end_time": "2020-01-14T06:48:55.733873",
     "exception": false,
     "start_time": "2020-01-14T06:48:55.716574",
     "status": "completed"
    },
    "tags": []
   },
   "outputs": [
    {
     "data": {
      "text/plain": [
       "AnnData object with n_obs × n_vars = 336850 × 719 \n",
       "    obs: 'chrom', 'start', 'end'"
      ]
     },
     "execution_count": 12,
     "metadata": {},
     "output_type": "execute_result"
    }
   ],
   "source": [
    "background_motif_hits"
   ]
  },
  {
   "cell_type": "markdown",
   "metadata": {
    "papermill": {
     "duration": 0.009864,
     "end_time": "2020-01-14T06:48:55.753642",
     "exception": false,
     "start_time": "2020-01-14T06:48:55.743778",
     "status": "completed"
    },
    "tags": []
   },
   "source": [
    "## Motif hits contingency table"
   ]
  },
  {
   "cell_type": "code",
   "execution_count": 13,
   "metadata": {
    "ExecuteTime": {
     "end_time": "2020-01-17T05:01:49.689077Z",
     "start_time": "2020-01-17T05:01:49.421887Z"
    },
    "papermill": {
     "duration": 0.248256,
     "end_time": "2020-01-14T06:48:56.011932",
     "exception": false,
     "start_time": "2020-01-14T06:48:55.763676",
     "status": "completed"
    },
    "tags": []
   },
   "outputs": [],
   "source": [
    "# calculate motif occurence, not considering hits here\n",
    "pos = (motif_hits.X > 0).sum(axis=0)\n",
    "pos_total = motif_hits.shape[0]\n",
    "\n",
    "neg = (background_motif_hits.X > 0).sum(axis=0)\n",
    "neg_total = background_motif_hits.shape[0]"
   ]
  },
  {
   "cell_type": "code",
   "execution_count": 14,
   "metadata": {
    "ExecuteTime": {
     "end_time": "2020-01-17T05:01:49.694926Z",
     "start_time": "2020-01-17T05:01:49.690780Z"
    },
    "papermill": {
     "duration": 0.059856,
     "end_time": "2020-01-14T06:48:56.082717",
     "exception": false,
     "start_time": "2020-01-14T06:48:56.022861",
     "status": "completed"
    },
    "scrolled": true,
    "tags": []
   },
   "outputs": [],
   "source": [
    "tables = {}\n",
    "for motif, _pos, _neg in zip(motif_ids, pos.A1, neg.A1):\n",
    "    table = [[_pos, pos_total - _pos], [_neg, neg_total - _neg]]\n",
    "    tables[motif] = table"
   ]
  },
  {
   "cell_type": "code",
   "execution_count": 15,
   "metadata": {
    "ExecuteTime": {
     "end_time": "2020-01-17T05:01:50.505715Z",
     "start_time": "2020-01-17T05:01:49.696429Z"
    },
    "papermill": {
     "duration": 0.822968,
     "end_time": "2020-01-14T06:48:56.915695",
     "exception": false,
     "start_time": "2020-01-14T06:48:56.092727",
     "status": "completed"
    },
    "tags": []
   },
   "outputs": [],
   "source": [
    "results = {}\n",
    "with ProcessPoolExecutor(20) as executor:\n",
    "    fs = {}\n",
    "    for motif, t in tables.items():\n",
    "        f = executor.submit(stats.fisher_exact, t, alternative='greater')\n",
    "        fs[f] = motif\n",
    "\n",
    "    for f in as_completed(fs):\n",
    "        motif = fs[f]\n",
    "        odds, p = f.result()\n",
    "        results[motif] = {'oddsratio': odds, 'p_value': p}\n",
    "motif_enrich_df = pd.DataFrame(results).T\n",
    "\n",
    "_, p, _, _ = multipletests(motif_enrich_df['p_value'], method='fdr_bh')\n",
    "motif_enrich_df['adj_p'] = p\n",
    "\n",
    "motif_enrich_df['-lgp'] = -np.log10(motif_enrich_df['adj_p']).replace(\n",
    "    -np.inf, -300)\n",
    "\n",
    "records = {}\n",
    "for motif, t in tables.items():\n",
    "    tp, tn = t[0]\n",
    "    fp, fn = t[1]\n",
    "    tp_rate = tp / pos_total\n",
    "    fp_rate = fp / neg_total\n",
    "    records[motif] = dict(tp=tp,\n",
    "                          tn=tn,\n",
    "                          fp=fp,\n",
    "                          fn=fn,\n",
    "                          tp_rate=tp_rate,\n",
    "                          fp_rate=fp_rate)\n",
    "counts = pd.DataFrame(records).T\n",
    "motif_enrich_df = pd.concat([motif_enrich_df, counts], axis=1, sort=True)"
   ]
  },
  {
   "cell_type": "code",
   "execution_count": 16,
   "metadata": {
    "ExecuteTime": {
     "end_time": "2020-01-17T05:01:50.510410Z",
     "start_time": "2020-01-17T05:01:50.507505Z"
    },
    "papermill": {
     "duration": 0.015432,
     "end_time": "2020-01-14T06:48:56.942707",
     "exception": false,
     "start_time": "2020-01-14T06:48:56.927275",
     "status": "completed"
    },
    "tags": []
   },
   "outputs": [],
   "source": [
    "motif_enrich_df['Group'] = group"
   ]
  },
  {
   "cell_type": "code",
   "execution_count": 17,
   "metadata": {
    "ExecuteTime": {
     "end_time": "2020-01-17T05:01:50.517430Z",
     "start_time": "2020-01-17T05:01:50.511664Z"
    },
    "papermill": {
     "duration": 0.018159,
     "end_time": "2020-01-14T06:48:56.970778",
     "exception": false,
     "start_time": "2020-01-14T06:48:56.952619",
     "status": "completed"
    },
    "tags": []
   },
   "outputs": [
    {
     "data": {
      "text/plain": [
       "16"
      ]
     },
     "execution_count": 17,
     "metadata": {},
     "output_type": "execute_result"
    }
   ],
   "source": [
    "# final filter\n",
    "filtered_motif_df = motif_enrich_df[(motif_enrich_df['oddsratio'] > or_cutoff)\n",
    "                                    &\n",
    "                                    (motif_enrich_df['-lgp'] > neg_lgp_cutoff)]\n",
    "filtered_motif_df.shape[0]"
   ]
  },
  {
   "cell_type": "code",
   "execution_count": 18,
   "metadata": {
    "ExecuteTime": {
     "end_time": "2020-01-17T05:01:50.523381Z",
     "start_time": "2020-01-17T05:01:50.518745Z"
    },
    "papermill": {
     "duration": 0.016801,
     "end_time": "2020-01-14T06:48:56.997325",
     "exception": false,
     "start_time": "2020-01-14T06:48:56.980524",
     "status": "completed"
    },
    "tags": []
   },
   "outputs": [
    {
     "name": "stderr",
     "output_type": "stream",
     "text": [
      "/home/hanliu/miniconda3/envs/clustering/lib/python3.7/site-packages/ipykernel_launcher.py:1: FutureWarning: to_msgpack is deprecated and will be removed in a future version.\n",
      "It is recommended to use pyarrow for on-the-wire transmission of pandas objects.\n",
      "  \"\"\"Entry point for launching an IPython kernel.\n"
     ]
    }
   ],
   "source": [
    "motif_enrich_df.to_msgpack(output_dir / f'{group}.motif_enrichment.msg')"
   ]
  },
  {
   "cell_type": "code",
   "execution_count": 19,
   "metadata": {
    "ExecuteTime": {
     "end_time": "2020-01-17T05:01:50.533437Z",
     "start_time": "2020-01-17T05:01:50.524648Z"
    },
    "papermill": {
     "duration": 0.020417,
     "end_time": "2020-01-14T06:48:57.027690",
     "exception": false,
     "start_time": "2020-01-14T06:48:57.007273",
     "status": "completed"
    },
    "tags": []
   },
   "outputs": [],
   "source": [
    "pybedtools.cleanup()"
   ]
  },
  {
   "cell_type": "code",
   "execution_count": 20,
   "metadata": {
    "ExecuteTime": {
     "end_time": "2020-01-17T05:01:50.550116Z",
     "start_time": "2020-01-17T05:01:50.534691Z"
    },
    "papermill": {
     "duration": 0.02945,
     "end_time": "2020-01-14T06:48:57.068040",
     "exception": false,
     "start_time": "2020-01-14T06:48:57.038590",
     "status": "completed"
    },
    "tags": []
   },
   "outputs": [
    {
     "data": {
      "text/html": [
       "<div>\n",
       "<style scoped>\n",
       "    .dataframe tbody tr th:only-of-type {\n",
       "        vertical-align: middle;\n",
       "    }\n",
       "\n",
       "    .dataframe tbody tr th {\n",
       "        vertical-align: top;\n",
       "    }\n",
       "\n",
       "    .dataframe thead th {\n",
       "        text-align: right;\n",
       "    }\n",
       "</style>\n",
       "<table border=\"1\" class=\"dataframe\">\n",
       "  <thead>\n",
       "    <tr style=\"text-align: right;\">\n",
       "      <th></th>\n",
       "      <th>oddsratio</th>\n",
       "      <th>p_value</th>\n",
       "      <th>adj_p</th>\n",
       "      <th>-lgp</th>\n",
       "      <th>tp</th>\n",
       "      <th>tn</th>\n",
       "      <th>fp</th>\n",
       "      <th>fn</th>\n",
       "      <th>tp_rate</th>\n",
       "      <th>fp_rate</th>\n",
       "      <th>Group</th>\n",
       "    </tr>\n",
       "  </thead>\n",
       "  <tbody>\n",
       "    <tr>\n",
       "      <th>MA0019.1</th>\n",
       "      <td>1.979697</td>\n",
       "      <td>2.126741e-24</td>\n",
       "      <td>1.390116e-22</td>\n",
       "      <td>21.856949</td>\n",
       "      <td>324.0</td>\n",
       "      <td>46359.0</td>\n",
       "      <td>1185.0</td>\n",
       "      <td>335665.0</td>\n",
       "      <td>0.006940</td>\n",
       "      <td>0.003518</td>\n",
       "      <td>IT-L6+MOp</td>\n",
       "    </tr>\n",
       "    <tr>\n",
       "      <th>MA0461.2</th>\n",
       "      <td>1.686136</td>\n",
       "      <td>1.639494e-31</td>\n",
       "      <td>1.473496e-29</td>\n",
       "      <td>28.831651</td>\n",
       "      <td>691.0</td>\n",
       "      <td>45992.0</td>\n",
       "      <td>2975.0</td>\n",
       "      <td>333875.0</td>\n",
       "      <td>0.014802</td>\n",
       "      <td>0.008832</td>\n",
       "      <td>IT-L6+MOp</td>\n",
       "    </tr>\n",
       "    <tr>\n",
       "      <th>MA0507.1</th>\n",
       "      <td>1.868246</td>\n",
       "      <td>4.582629e-48</td>\n",
       "      <td>8.237275e-46</td>\n",
       "      <td>45.084216</td>\n",
       "      <td>782.0</td>\n",
       "      <td>45901.0</td>\n",
       "      <td>3044.0</td>\n",
       "      <td>333806.0</td>\n",
       "      <td>0.016751</td>\n",
       "      <td>0.009037</td>\n",
       "      <td>IT-L6+MOp</td>\n",
       "    </tr>\n",
       "    <tr>\n",
       "      <th>MA0607.1</th>\n",
       "      <td>1.610895</td>\n",
       "      <td>1.472888e-92</td>\n",
       "      <td>1.059006e-89</td>\n",
       "      <td>88.975101</td>\n",
       "      <td>2580.0</td>\n",
       "      <td>44103.0</td>\n",
       "      <td>11804.0</td>\n",
       "      <td>325046.0</td>\n",
       "      <td>0.055266</td>\n",
       "      <td>0.035042</td>\n",
       "      <td>IT-L6+MOp</td>\n",
       "    </tr>\n",
       "    <tr>\n",
       "      <th>MA0623.2</th>\n",
       "      <td>1.735381</td>\n",
       "      <td>2.819074e-20</td>\n",
       "      <td>1.351276e-18</td>\n",
       "      <td>17.869256</td>\n",
       "      <td>388.0</td>\n",
       "      <td>46295.0</td>\n",
       "      <td>1619.0</td>\n",
       "      <td>335231.0</td>\n",
       "      <td>0.008311</td>\n",
       "      <td>0.004806</td>\n",
       "      <td>IT-L6+MOp</td>\n",
       "    </tr>\n",
       "    <tr>\n",
       "      <th>MA0669.1</th>\n",
       "      <td>1.704020</td>\n",
       "      <td>1.098712e-16</td>\n",
       "      <td>4.388745e-15</td>\n",
       "      <td>14.357660</td>\n",
       "      <td>332.0</td>\n",
       "      <td>46351.0</td>\n",
       "      <td>1410.0</td>\n",
       "      <td>335440.0</td>\n",
       "      <td>0.007112</td>\n",
       "      <td>0.004186</td>\n",
       "      <td>IT-L6+MOp</td>\n",
       "    </tr>\n",
       "    <tr>\n",
       "      <th>MA0782.2</th>\n",
       "      <td>1.598916</td>\n",
       "      <td>1.253770e-15</td>\n",
       "      <td>4.507302e-14</td>\n",
       "      <td>13.346083</td>\n",
       "      <td>389.0</td>\n",
       "      <td>46294.0</td>\n",
       "      <td>1761.0</td>\n",
       "      <td>335089.0</td>\n",
       "      <td>0.008333</td>\n",
       "      <td>0.005228</td>\n",
       "      <td>IT-L6+MOp</td>\n",
       "    </tr>\n",
       "    <tr>\n",
       "      <th>MA0785.1</th>\n",
       "      <td>1.671974</td>\n",
       "      <td>6.430942e-19</td>\n",
       "      <td>2.889905e-17</td>\n",
       "      <td>16.539116</td>\n",
       "      <td>408.0</td>\n",
       "      <td>46275.0</td>\n",
       "      <td>1767.0</td>\n",
       "      <td>335083.0</td>\n",
       "      <td>0.008740</td>\n",
       "      <td>0.005246</td>\n",
       "      <td>IT-L6+MOp</td>\n",
       "    </tr>\n",
       "    <tr>\n",
       "      <th>MA0788.1</th>\n",
       "      <td>1.604008</td>\n",
       "      <td>6.983541e-13</td>\n",
       "      <td>1.931218e-11</td>\n",
       "      <td>10.714169</td>\n",
       "      <td>308.0</td>\n",
       "      <td>46375.0</td>\n",
       "      <td>1389.0</td>\n",
       "      <td>335461.0</td>\n",
       "      <td>0.006598</td>\n",
       "      <td>0.004123</td>\n",
       "      <td>IT-L6+MOp</td>\n",
       "    </tr>\n",
       "    <tr>\n",
       "      <th>MA0818.1</th>\n",
       "      <td>1.638382</td>\n",
       "      <td>5.687173e-25</td>\n",
       "      <td>4.089077e-23</td>\n",
       "      <td>22.388375</td>\n",
       "      <td>596.0</td>\n",
       "      <td>46087.0</td>\n",
       "      <td>2638.0</td>\n",
       "      <td>334212.0</td>\n",
       "      <td>0.012767</td>\n",
       "      <td>0.007831</td>\n",
       "      <td>IT-L6+MOp</td>\n",
       "    </tr>\n",
       "    <tr>\n",
       "      <th>MA0826.1</th>\n",
       "      <td>1.741539</td>\n",
       "      <td>4.345693e-14</td>\n",
       "      <td>1.358501e-12</td>\n",
       "      <td>11.866940</td>\n",
       "      <td>255.0</td>\n",
       "      <td>46428.0</td>\n",
       "      <td>1059.0</td>\n",
       "      <td>335791.0</td>\n",
       "      <td>0.005462</td>\n",
       "      <td>0.003144</td>\n",
       "      <td>IT-L6+MOp</td>\n",
       "    </tr>\n",
       "    <tr>\n",
       "      <th>MA0827.1</th>\n",
       "      <td>1.652441</td>\n",
       "      <td>6.210132e-18</td>\n",
       "      <td>2.626520e-16</td>\n",
       "      <td>15.580619</td>\n",
       "      <td>401.0</td>\n",
       "      <td>46282.0</td>\n",
       "      <td>1757.0</td>\n",
       "      <td>335093.0</td>\n",
       "      <td>0.008590</td>\n",
       "      <td>0.005216</td>\n",
       "      <td>IT-L6+MOp</td>\n",
       "    </tr>\n",
       "    <tr>\n",
       "      <th>MA1114.1</th>\n",
       "      <td>1.510873</td>\n",
       "      <td>1.032226e-13</td>\n",
       "      <td>3.092378e-12</td>\n",
       "      <td>11.509707</td>\n",
       "      <td>425.0</td>\n",
       "      <td>46258.0</td>\n",
       "      <td>2036.0</td>\n",
       "      <td>334814.0</td>\n",
       "      <td>0.009104</td>\n",
       "      <td>0.006044</td>\n",
       "      <td>IT-L6+MOp</td>\n",
       "    </tr>\n",
       "    <tr>\n",
       "      <th>MA1115.1</th>\n",
       "      <td>1.613824</td>\n",
       "      <td>3.816072e-58</td>\n",
       "      <td>9.145852e-56</td>\n",
       "      <td>55.038776</td>\n",
       "      <td>1562.0</td>\n",
       "      <td>45121.0</td>\n",
       "      <td>7074.0</td>\n",
       "      <td>329776.0</td>\n",
       "      <td>0.033460</td>\n",
       "      <td>0.021000</td>\n",
       "      <td>IT-L6+MOp</td>\n",
       "    </tr>\n",
       "    <tr>\n",
       "      <th>MA1468.1</th>\n",
       "      <td>1.643128</td>\n",
       "      <td>5.176502e-28</td>\n",
       "      <td>4.135450e-26</td>\n",
       "      <td>25.383477</td>\n",
       "      <td>668.0</td>\n",
       "      <td>46015.0</td>\n",
       "      <td>2950.0</td>\n",
       "      <td>333900.0</td>\n",
       "      <td>0.014309</td>\n",
       "      <td>0.008758</td>\n",
       "      <td>IT-L6+MOp</td>\n",
       "    </tr>\n",
       "    <tr>\n",
       "      <th>MA1514.1</th>\n",
       "      <td>1.680927</td>\n",
       "      <td>1.438614e-23</td>\n",
       "      <td>8.619694e-22</td>\n",
       "      <td>21.064508</td>\n",
       "      <td>510.0</td>\n",
       "      <td>46173.0</td>\n",
       "      <td>2199.0</td>\n",
       "      <td>334651.0</td>\n",
       "      <td>0.010925</td>\n",
       "      <td>0.006528</td>\n",
       "      <td>IT-L6+MOp</td>\n",
       "    </tr>\n",
       "  </tbody>\n",
       "</table>\n",
       "</div>"
      ],
      "text/plain": [
       "          oddsratio       p_value         adj_p       -lgp      tp       tn  \\\n",
       "MA0019.1   1.979697  2.126741e-24  1.390116e-22  21.856949   324.0  46359.0   \n",
       "MA0461.2   1.686136  1.639494e-31  1.473496e-29  28.831651   691.0  45992.0   \n",
       "MA0507.1   1.868246  4.582629e-48  8.237275e-46  45.084216   782.0  45901.0   \n",
       "MA0607.1   1.610895  1.472888e-92  1.059006e-89  88.975101  2580.0  44103.0   \n",
       "MA0623.2   1.735381  2.819074e-20  1.351276e-18  17.869256   388.0  46295.0   \n",
       "MA0669.1   1.704020  1.098712e-16  4.388745e-15  14.357660   332.0  46351.0   \n",
       "MA0782.2   1.598916  1.253770e-15  4.507302e-14  13.346083   389.0  46294.0   \n",
       "MA0785.1   1.671974  6.430942e-19  2.889905e-17  16.539116   408.0  46275.0   \n",
       "MA0788.1   1.604008  6.983541e-13  1.931218e-11  10.714169   308.0  46375.0   \n",
       "MA0818.1   1.638382  5.687173e-25  4.089077e-23  22.388375   596.0  46087.0   \n",
       "MA0826.1   1.741539  4.345693e-14  1.358501e-12  11.866940   255.0  46428.0   \n",
       "MA0827.1   1.652441  6.210132e-18  2.626520e-16  15.580619   401.0  46282.0   \n",
       "MA1114.1   1.510873  1.032226e-13  3.092378e-12  11.509707   425.0  46258.0   \n",
       "MA1115.1   1.613824  3.816072e-58  9.145852e-56  55.038776  1562.0  45121.0   \n",
       "MA1468.1   1.643128  5.176502e-28  4.135450e-26  25.383477   668.0  46015.0   \n",
       "MA1514.1   1.680927  1.438614e-23  8.619694e-22  21.064508   510.0  46173.0   \n",
       "\n",
       "               fp        fn   tp_rate   fp_rate      Group  \n",
       "MA0019.1   1185.0  335665.0  0.006940  0.003518  IT-L6+MOp  \n",
       "MA0461.2   2975.0  333875.0  0.014802  0.008832  IT-L6+MOp  \n",
       "MA0507.1   3044.0  333806.0  0.016751  0.009037  IT-L6+MOp  \n",
       "MA0607.1  11804.0  325046.0  0.055266  0.035042  IT-L6+MOp  \n",
       "MA0623.2   1619.0  335231.0  0.008311  0.004806  IT-L6+MOp  \n",
       "MA0669.1   1410.0  335440.0  0.007112  0.004186  IT-L6+MOp  \n",
       "MA0782.2   1761.0  335089.0  0.008333  0.005228  IT-L6+MOp  \n",
       "MA0785.1   1767.0  335083.0  0.008740  0.005246  IT-L6+MOp  \n",
       "MA0788.1   1389.0  335461.0  0.006598  0.004123  IT-L6+MOp  \n",
       "MA0818.1   2638.0  334212.0  0.012767  0.007831  IT-L6+MOp  \n",
       "MA0826.1   1059.0  335791.0  0.005462  0.003144  IT-L6+MOp  \n",
       "MA0827.1   1757.0  335093.0  0.008590  0.005216  IT-L6+MOp  \n",
       "MA1114.1   2036.0  334814.0  0.009104  0.006044  IT-L6+MOp  \n",
       "MA1115.1   7074.0  329776.0  0.033460  0.021000  IT-L6+MOp  \n",
       "MA1468.1   2950.0  333900.0  0.014309  0.008758  IT-L6+MOp  \n",
       "MA1514.1   2199.0  334651.0  0.010925  0.006528  IT-L6+MOp  "
      ]
     },
     "execution_count": 20,
     "metadata": {},
     "output_type": "execute_result"
    }
   ],
   "source": [
    "filtered_motif_df"
   ]
  },
  {
   "cell_type": "code",
   "execution_count": null,
   "metadata": {
    "papermill": {
     "duration": 0.010485,
     "end_time": "2020-01-14T06:48:57.089054",
     "exception": false,
     "start_time": "2020-01-14T06:48:57.078569",
     "status": "completed"
    },
    "tags": []
   },
   "outputs": [],
   "source": []
  }
 ],
 "metadata": {
  "hide_input": false,
  "kernelspec": {
   "display_name": "Python 3",
   "language": "python",
   "name": "python3"
  },
  "language_info": {
   "codemirror_mode": {
    "name": "ipython",
    "version": 3
   },
   "file_extension": ".py",
   "mimetype": "text/x-python",
   "name": "python",
   "nbconvert_exporter": "python",
   "pygments_lexer": "ipython3",
   "version": "3.7.3"
  },
  "papermill": {
   "duration": 11.921103,
   "end_time": "2020-01-14T06:48:57.606404",
   "environment_variables": {},
   "exception": null,
   "input_path": "4.MotifEnrichment.ipynb",
   "output_path": "/home/hanliu/project/mouse_rostral_brain/DMR/ITSpatial_by_layer/IT-L6/Recipe/4.MotifEnrichment.IT-L6+MOp.ipynb",
   "parameters": {
    "dmr_hits_path": "/home/hanliu/project/mouse_rostral_brain/DMR/ITSpatial_by_layer/IT-L6/HypoDMR/IT-L6+MOp.DMS1.bed",
    "group": "IT-L6+MOp",
    "mask_quantile_to99": 0.9,
    "motif_hits_path": "/home/hanliu/project/mouse_rostral_brain/DMR/ITSpatial_by_layer/IT-L6/MotifScan.h5ad",
    "neg_lgp_cutoff": 10,
    "or_cutoff": 1.5,
    "output_dir": "/home/hanliu/project/mouse_rostral_brain/DMR/ITSpatial_by_layer/IT-L6/MotifEnrichment"
   },
   "start_time": "2020-01-14T06:48:45.685301",
   "version": "1.0.1"
  },
  "toc": {
   "base_numbering": 1,
   "nav_menu": {},
   "number_sections": true,
   "sideBar": true,
   "skip_h1_title": true,
   "title_cell": "Table of Contents",
   "title_sidebar": "Contents",
   "toc_cell": false,
   "toc_position": {},
   "toc_section_display": true,
   "toc_window_display": true
  }
 },
 "nbformat": 4,
 "nbformat_minor": 2
}
