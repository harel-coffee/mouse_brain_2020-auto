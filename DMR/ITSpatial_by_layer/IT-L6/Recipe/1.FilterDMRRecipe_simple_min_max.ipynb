{
 "cells": [
  {
   "cell_type": "code",
   "execution_count": 1,
   "metadata": {
    "ExecuteTime": {
     "end_time": "2020-01-17T05:00:01.260959Z",
     "start_time": "2020-01-17T05:00:00.801516Z"
    },
    "papermill": {
     "duration": 0.448166,
     "end_time": "2020-01-12T05:11:27.041031",
     "exception": false,
     "start_time": "2020-01-12T05:11:26.592865",
     "status": "completed"
    },
    "tags": []
   },
   "outputs": [],
   "source": [
    "import pathlib\n",
    "import numpy as np\n",
    "import pandas as pd\n",
    "from scipy.sparse import csr_matrix\n",
    "import anndata\n",
    "from pybedtools import BedTool"
   ]
  },
  {
   "cell_type": "markdown",
   "metadata": {
    "ExecuteTime": {
     "end_time": "2020-01-10T03:41:10.279754Z",
     "start_time": "2020-01-10T03:41:10.259634Z"
    },
    "papermill": {
     "duration": 0.008986,
     "end_time": "2020-01-12T05:11:27.060485",
     "exception": false,
     "start_time": "2020-01-12T05:11:27.051499",
     "status": "completed"
    },
    "tags": []
   },
   "source": [
    "## Parameter"
   ]
  },
  {
   "cell_type": "code",
   "execution_count": 2,
   "metadata": {
    "ExecuteTime": {
     "end_time": "2020-01-17T05:00:01.266129Z",
     "start_time": "2020-01-17T05:00:01.263314Z"
    },
    "papermill": {
     "duration": 0.014894,
     "end_time": "2020-01-12T05:11:27.084582",
     "exception": false,
     "start_time": "2020-01-12T05:11:27.069688",
     "status": "completed"
    },
    "tags": [
     "parameters"
    ]
   },
   "outputs": [],
   "source": [
    "dmr_path = '/home/hanliu/project/mouse_rostral_brain/DMR/DGmCHGroup/DMR/axis-mch_rms_results_collapsed.tsv'\n",
    "dmr_prefix = 'DGmCH'\n",
    "\n",
    "black_list_path = '/home/hanliu/ref/blacklist/mm10-blacklist.v2.bed.gz'\n",
    "delta_cutoff=0.3\n",
    "dms_cutoff = 1"
   ]
  },
  {
   "cell_type": "code",
   "execution_count": 3,
   "metadata": {
    "ExecuteTime": {
     "end_time": "2020-01-17T05:00:01.269720Z",
     "start_time": "2020-01-17T05:00:01.267427Z"
    },
    "papermill": {
     "duration": 0.014214,
     "end_time": "2020-01-12T05:11:27.107700",
     "exception": false,
     "start_time": "2020-01-12T05:11:27.093486",
     "status": "completed"
    },
    "tags": [
     "injected-parameters"
    ]
   },
   "outputs": [],
   "source": [
    "# Parameters\n",
    "dmr_path = \"/home/hanliu/project/mouse_rostral_brain/DMR/ITSpatial_by_layer/IT-L6/IT-L6_rms_results_collapsed.tsv\"\n",
    "dmr_prefix = \"DGm3c\"\n",
    "black_list_path = \"/home/hanliu/ref/blacklist/mm10-blacklist.v2.bed.gz\"\n",
    "delta_cutoff = 0.4\n",
    "dms_cutoff = 1\n"
   ]
  },
  {
   "cell_type": "markdown",
   "metadata": {
    "papermill": {
     "duration": 0.008753,
     "end_time": "2020-01-12T05:11:27.125302",
     "exception": false,
     "start_time": "2020-01-12T05:11:27.116549",
     "status": "completed"
    },
    "tags": []
   },
   "source": [
    "## Read DMR"
   ]
  },
  {
   "cell_type": "code",
   "execution_count": 4,
   "metadata": {
    "ExecuteTime": {
     "end_time": "2020-01-17T05:00:01.977732Z",
     "start_time": "2020-01-17T05:00:01.271070Z"
    },
    "papermill": {
     "duration": 0.58602,
     "end_time": "2020-01-12T05:11:27.720237",
     "exception": false,
     "start_time": "2020-01-12T05:11:27.134217",
     "status": "completed"
    },
    "scrolled": true,
    "tags": []
   },
   "outputs": [
    {
     "name": "stdout",
     "output_type": "stream",
     "text": [
      "299359 dmr before filter\n"
     ]
    }
   ],
   "source": [
    "# get column and n_sample\n",
    "dmr_column = pd.read_csv(dmr_path, sep='\\t', nrows=0).columns\n",
    "n_sample = dmr_column.size - 6\n",
    "dmr_column = dmr_column.map(lambda i: i[18:] if 'methylation_level_' in i else i)\n",
    "samples = dmr_column[6:]\n",
    "\n",
    "dmr_region_infos = []\n",
    "mc_rates = []\n",
    "hypo_sig_dict = {sample: [] for sample in samples}\n",
    "hyper_sig_dict = {sample: [] for sample in samples}\n",
    "\n",
    "dmr_df = pd.read_csv(dmr_path, sep='\\t', skiprows=1, names=dmr_column)\n",
    "print(dmr_df.shape[0], 'dmr before filter')\n",
    "dmr_df.index = dmr_df.index.map(lambda i: f'{dmr_prefix}_{i}')\n",
    "\n",
    "# save raw info\n",
    "dmr_bed = dmr_df.iloc[:, :4].copy()\n",
    "mc_rate = dmr_df.iloc[:, 6:].copy()"
   ]
  },
  {
   "cell_type": "markdown",
   "metadata": {
    "papermill": {
     "duration": 0.009445,
     "end_time": "2020-01-12T05:11:27.739693",
     "exception": false,
     "start_time": "2020-01-12T05:11:27.730248",
     "status": "completed"
    },
    "tags": []
   },
   "source": [
    "## Save unfiltered dmr info"
   ]
  },
  {
   "cell_type": "code",
   "execution_count": 5,
   "metadata": {
    "ExecuteTime": {
     "end_time": "2020-01-17T05:00:02.530457Z",
     "start_time": "2020-01-17T05:00:01.979321Z"
    },
    "papermill": {
     "duration": 0.521616,
     "end_time": "2020-01-12T05:11:28.271365",
     "exception": false,
     "start_time": "2020-01-12T05:11:27.749749",
     "status": "completed"
    },
    "tags": []
   },
   "outputs": [],
   "source": [
    "with pd.HDFStore(pathlib.Path(dmr_path).parent / 'DMRInfo.h5') as hdf:\n",
    "    hdf['Rate'] = mc_rate\n",
    "    hdf['Bed'] = dmr_bed"
   ]
  },
  {
   "cell_type": "code",
   "execution_count": 6,
   "metadata": {
    "ExecuteTime": {
     "end_time": "2020-01-17T05:00:03.356373Z",
     "start_time": "2020-01-17T05:00:02.532408Z"
    },
    "papermill": {
     "duration": 0.804041,
     "end_time": "2020-01-12T05:11:29.085464",
     "exception": false,
     "start_time": "2020-01-12T05:11:28.281423",
     "status": "completed"
    },
    "tags": []
   },
   "outputs": [],
   "source": [
    "dmr_bed.reset_index().iloc[:, [1, 2, 3, 0]].to_csv(pathlib.Path(dmr_path).parent / 'TotalDMR.nofilter.bed', \n",
    "                                                   index=None, header=None, sep='\\t')"
   ]
  },
  {
   "cell_type": "markdown",
   "metadata": {
    "papermill": {
     "duration": 0.009412,
     "end_time": "2020-01-12T05:11:29.104933",
     "exception": false,
     "start_time": "2020-01-12T05:11:29.095521",
     "status": "completed"
    },
    "tags": []
   },
   "source": [
    "## Filter DMR"
   ]
  },
  {
   "cell_type": "code",
   "execution_count": 7,
   "metadata": {
    "ExecuteTime": {
     "end_time": "2020-01-17T05:00:03.428328Z",
     "start_time": "2020-01-17T05:00:03.358767Z"
    },
    "papermill": {
     "duration": 0.081317,
     "end_time": "2020-01-12T05:11:29.196011",
     "exception": false,
     "start_time": "2020-01-12T05:11:29.114694",
     "status": "completed"
    },
    "tags": []
   },
   "outputs": [
    {
     "name": "stdout",
     "output_type": "stream",
     "text": [
      "123558 dmr pass delta filter\n"
     ]
    }
   ],
   "source": [
    "# filter by delta\n",
    "delta_judge = (mc_rate.max(axis=1) - mc_rate.min(axis=1)) > delta_cutoff\n",
    "delta_index = mc_rate.index[delta_judge]\n",
    "\n",
    "print(delta_index.size, 'dmr pass delta filter')"
   ]
  },
  {
   "cell_type": "code",
   "execution_count": 8,
   "metadata": {
    "ExecuteTime": {
     "end_time": "2020-01-17T05:00:04.918149Z",
     "start_time": "2020-01-17T05:00:03.430061Z"
    },
    "papermill": {
     "duration": 1.464433,
     "end_time": "2020-01-12T05:11:30.670945",
     "exception": false,
     "start_time": "2020-01-12T05:11:29.206512",
     "status": "completed"
    },
    "tags": []
   },
   "outputs": [
    {
     "name": "stdout",
     "output_type": "stream",
     "text": [
      "296166 dmr pass blacklist filter\n"
     ]
    }
   ],
   "source": [
    "# filter by blacklist\n",
    "black_list = pd.read_csv(black_list_path, sep='\\t', header=None)\n",
    "black_list = BedTool.from_dataframe(black_list)\n",
    "\n",
    "_dmr_bed = BedTool.from_dataframe(dmr_bed.reset_index().iloc[:, [1,2,3,0]])\n",
    "filtered_dmr_bed = _dmr_bed.intersect(black_list, v=True).to_dataframe().set_index('name')\n",
    "\n",
    "white_index = filtered_dmr_bed.index\n",
    "\n",
    "print(white_index.size, 'dmr pass blacklist filter')"
   ]
  },
  {
   "cell_type": "code",
   "execution_count": 9,
   "metadata": {
    "ExecuteTime": {
     "end_time": "2020-01-17T05:00:05.199604Z",
     "start_time": "2020-01-17T05:00:04.919967Z"
    },
    "papermill": {
     "duration": 0.335654,
     "end_time": "2020-01-12T05:11:31.016975",
     "exception": false,
     "start_time": "2020-01-12T05:11:30.681321",
     "status": "completed"
    },
    "tags": []
   },
   "outputs": [
    {
     "name": "stdout",
     "output_type": "stream",
     "text": [
      "122250 dmr after filter\n"
     ]
    },
    {
     "data": {
      "text/html": [
       "<div>\n",
       "<style scoped>\n",
       "    .dataframe tbody tr th:only-of-type {\n",
       "        vertical-align: middle;\n",
       "    }\n",
       "\n",
       "    .dataframe tbody tr th {\n",
       "        vertical-align: top;\n",
       "    }\n",
       "\n",
       "    .dataframe thead th {\n",
       "        text-align: right;\n",
       "    }\n",
       "</style>\n",
       "<table border=\"1\" class=\"dataframe\">\n",
       "  <thead>\n",
       "    <tr style=\"text-align: right;\">\n",
       "      <th></th>\n",
       "      <th>#chr</th>\n",
       "      <th>start</th>\n",
       "      <th>end</th>\n",
       "      <th>number_of_dms</th>\n",
       "      <th>hypermethylated_samples</th>\n",
       "      <th>hypomethylated_samples</th>\n",
       "      <th>IT-L6+AI</th>\n",
       "      <th>IT-L6+ACA</th>\n",
       "      <th>IT-L6+PFC</th>\n",
       "      <th>IT-L6+SSp</th>\n",
       "      <th>IT-L6+SSs</th>\n",
       "      <th>IT-L6+MOs</th>\n",
       "      <th>IT-L6+MOp</th>\n",
       "    </tr>\n",
       "  </thead>\n",
       "  <tbody>\n",
       "    <tr>\n",
       "      <th>DGm3c_6</th>\n",
       "      <td>chr1</td>\n",
       "      <td>3211017</td>\n",
       "      <td>3211017</td>\n",
       "      <td>1</td>\n",
       "      <td>IT-L6+ACA,IT-L6+PFC</td>\n",
       "      <td>IT-L6+MOp</td>\n",
       "      <td>0.529412</td>\n",
       "      <td>0.953846</td>\n",
       "      <td>0.904762</td>\n",
       "      <td>0.714286</td>\n",
       "      <td>0.514706</td>\n",
       "      <td>0.581818</td>\n",
       "      <td>0.439252</td>\n",
       "    </tr>\n",
       "    <tr>\n",
       "      <th>DGm3c_7</th>\n",
       "      <td>chr1</td>\n",
       "      <td>3211269</td>\n",
       "      <td>3211290</td>\n",
       "      <td>2</td>\n",
       "      <td>IT-L6+ACA,IT-L6+PFC</td>\n",
       "      <td>IT-L6+MOp</td>\n",
       "      <td>0.696970</td>\n",
       "      <td>0.953846</td>\n",
       "      <td>0.865248</td>\n",
       "      <td>0.671795</td>\n",
       "      <td>0.582677</td>\n",
       "      <td>0.584071</td>\n",
       "      <td>0.500000</td>\n",
       "    </tr>\n",
       "    <tr>\n",
       "      <th>DGm3c_8</th>\n",
       "      <td>chr1</td>\n",
       "      <td>3217169</td>\n",
       "      <td>3217169</td>\n",
       "      <td>1</td>\n",
       "      <td>IT-L6+SSp,IT-L6+SSs</td>\n",
       "      <td>IT-L6+ACA,IT-L6+PFC,IT-L6+MOs</td>\n",
       "      <td>0.142857</td>\n",
       "      <td>0.102564</td>\n",
       "      <td>0.032258</td>\n",
       "      <td>0.394231</td>\n",
       "      <td>0.447368</td>\n",
       "      <td>0.047619</td>\n",
       "      <td>0.267327</td>\n",
       "    </tr>\n",
       "    <tr>\n",
       "      <th>DGm3c_9</th>\n",
       "      <td>chr1</td>\n",
       "      <td>3217542</td>\n",
       "      <td>3217542</td>\n",
       "      <td>1</td>\n",
       "      <td>IT-L6+SSp</td>\n",
       "      <td>IT-L6+ACA,IT-L6+PFC</td>\n",
       "      <td>0.352941</td>\n",
       "      <td>0.054545</td>\n",
       "      <td>0.020833</td>\n",
       "      <td>0.454545</td>\n",
       "      <td>0.341463</td>\n",
       "      <td>0.310345</td>\n",
       "      <td>0.396825</td>\n",
       "    </tr>\n",
       "    <tr>\n",
       "      <th>DGm3c_13</th>\n",
       "      <td>chr1</td>\n",
       "      <td>3297316</td>\n",
       "      <td>3297413</td>\n",
       "      <td>2</td>\n",
       "      <td>IT-L6+SSp</td>\n",
       "      <td>IT-L6+ACA,IT-L6+PFC</td>\n",
       "      <td>0.405405</td>\n",
       "      <td>0.215190</td>\n",
       "      <td>0.126316</td>\n",
       "      <td>0.610169</td>\n",
       "      <td>0.444444</td>\n",
       "      <td>0.185185</td>\n",
       "      <td>0.343511</td>\n",
       "    </tr>\n",
       "  </tbody>\n",
       "</table>\n",
       "</div>"
      ],
      "text/plain": [
       "          #chr    start      end  number_of_dms hypermethylated_samples  \\\n",
       "DGm3c_6   chr1  3211017  3211017              1     IT-L6+ACA,IT-L6+PFC   \n",
       "DGm3c_7   chr1  3211269  3211290              2     IT-L6+ACA,IT-L6+PFC   \n",
       "DGm3c_8   chr1  3217169  3217169              1     IT-L6+SSp,IT-L6+SSs   \n",
       "DGm3c_9   chr1  3217542  3217542              1               IT-L6+SSp   \n",
       "DGm3c_13  chr1  3297316  3297413              2               IT-L6+SSp   \n",
       "\n",
       "                 hypomethylated_samples  IT-L6+AI  IT-L6+ACA  IT-L6+PFC  \\\n",
       "DGm3c_6                       IT-L6+MOp  0.529412   0.953846   0.904762   \n",
       "DGm3c_7                       IT-L6+MOp  0.696970   0.953846   0.865248   \n",
       "DGm3c_8   IT-L6+ACA,IT-L6+PFC,IT-L6+MOs  0.142857   0.102564   0.032258   \n",
       "DGm3c_9             IT-L6+ACA,IT-L6+PFC  0.352941   0.054545   0.020833   \n",
       "DGm3c_13            IT-L6+ACA,IT-L6+PFC  0.405405   0.215190   0.126316   \n",
       "\n",
       "          IT-L6+SSp  IT-L6+SSs  IT-L6+MOs  IT-L6+MOp  \n",
       "DGm3c_6    0.714286   0.514706   0.581818   0.439252  \n",
       "DGm3c_7    0.671795   0.582677   0.584071   0.500000  \n",
       "DGm3c_8    0.394231   0.447368   0.047619   0.267327  \n",
       "DGm3c_9    0.454545   0.341463   0.310345   0.396825  \n",
       "DGm3c_13   0.610169   0.444444   0.185185   0.343511  "
      ]
     },
     "execution_count": 9,
     "metadata": {},
     "output_type": "execute_result"
    }
   ],
   "source": [
    "dmr_df = dmr_df.loc[delta_index & white_index]\n",
    "dmr_df = dmr_df[dmr_df['number_of_dms'] >= dms_cutoff]\n",
    "print(dmr_df.shape[0], 'dmr after filter')\n",
    "dmr_df.head()"
   ]
  },
  {
   "cell_type": "markdown",
   "metadata": {
    "papermill": {
     "duration": 0.010195,
     "end_time": "2020-01-12T05:11:31.038072",
     "exception": false,
     "start_time": "2020-01-12T05:11:31.027877",
     "status": "completed"
    },
    "tags": []
   },
   "source": [
    "## Assign DMR to each sample"
   ]
  },
  {
   "cell_type": "code",
   "execution_count": 10,
   "metadata": {
    "ExecuteTime": {
     "end_time": "2020-01-17T05:00:05.541440Z",
     "start_time": "2020-01-17T05:00:05.201073Z"
    },
    "papermill": {
     "duration": 0.643844,
     "end_time": "2020-01-12T05:11:31.692060",
     "exception": false,
     "start_time": "2020-01-12T05:11:31.048216",
     "status": "completed"
    },
    "tags": []
   },
   "outputs": [
    {
     "name": "stdout",
     "output_type": "stream",
     "text": [
      "IT-L6+AI\tHypoDMR \t5454\n",
      "IT-L6+AI\tHyperDMR\t10514\n",
      "IT-L6+ACA\tHypoDMR \t18044\n",
      "IT-L6+ACA\tHyperDMR\t38713\n",
      "IT-L6+PFC\tHypoDMR \t20363\n",
      "IT-L6+PFC\tHyperDMR\t57294\n",
      "IT-L6+SSp\tHypoDMR \t28297\n",
      "IT-L6+SSp\tHyperDMR\t26048\n",
      "IT-L6+SSs\tHypoDMR \t15714\n",
      "IT-L6+SSs\tHyperDMR\t22193\n",
      "IT-L6+MOs\tHypoDMR \t27037\n",
      "IT-L6+MOs\tHyperDMR\t4438\n",
      "IT-L6+MOp\tHypoDMR \t46683\n",
      "IT-L6+MOp\tHyperDMR\t4564\n"
     ]
    }
   ],
   "source": [
    "# parse results\n",
    "for sample in samples:\n",
    "    # here saved a list of np.array\n",
    "    hypo_index = dmr_df[dmr_df['hypomethylated_samples'].fillna('').apply(lambda i: sample in i)].index\n",
    "    hyper_index = dmr_df[dmr_df['hypermethylated_samples'].fillna('').apply(lambda i: sample in i)].index\n",
    "    hypo_sig_dict[sample] = hypo_index\n",
    "    hyper_sig_dict[sample] = hyper_index\n",
    "    print(sample, 'HypoDMR ', hypo_index.size, sep='\\t')\n",
    "    print(sample, 'HyperDMR', hyper_index.size, sep='\\t')\n"
   ]
  },
  {
   "cell_type": "code",
   "execution_count": 11,
   "metadata": {
    "ExecuteTime": {
     "end_time": "2020-01-17T05:00:05.875895Z",
     "start_time": "2020-01-17T05:00:05.543167Z"
    },
    "papermill": {
     "duration": 0.210274,
     "end_time": "2020-01-12T05:11:31.914380",
     "exception": false,
     "start_time": "2020-01-12T05:11:31.704106",
     "status": "completed"
    },
    "tags": []
   },
   "outputs": [
    {
     "name": "stderr",
     "output_type": "stream",
     "text": [
      "/home/hanliu/miniconda3/envs/clustering/lib/python3.7/site-packages/tables/path.py:157: NaturalNameWarning: object name is not a valid Python identifier: 'IT-L6+AI'; it does not match the pattern ``^[a-zA-Z_][a-zA-Z0-9_]*$``; you will not be able to use natural naming to access this object; using ``getattr()`` will still work, though\n",
      "  check_attribute_name(name)\n",
      "/home/hanliu/miniconda3/envs/clustering/lib/python3.7/site-packages/tables/path.py:157: NaturalNameWarning: object name is not a valid Python identifier: 'IT-L6+ACA'; it does not match the pattern ``^[a-zA-Z_][a-zA-Z0-9_]*$``; you will not be able to use natural naming to access this object; using ``getattr()`` will still work, though\n",
      "  check_attribute_name(name)\n",
      "/home/hanliu/miniconda3/envs/clustering/lib/python3.7/site-packages/tables/path.py:157: NaturalNameWarning: object name is not a valid Python identifier: 'IT-L6+PFC'; it does not match the pattern ``^[a-zA-Z_][a-zA-Z0-9_]*$``; you will not be able to use natural naming to access this object; using ``getattr()`` will still work, though\n",
      "  check_attribute_name(name)\n",
      "/home/hanliu/miniconda3/envs/clustering/lib/python3.7/site-packages/tables/path.py:157: NaturalNameWarning: object name is not a valid Python identifier: 'IT-L6+SSp'; it does not match the pattern ``^[a-zA-Z_][a-zA-Z0-9_]*$``; you will not be able to use natural naming to access this object; using ``getattr()`` will still work, though\n",
      "  check_attribute_name(name)\n",
      "/home/hanliu/miniconda3/envs/clustering/lib/python3.7/site-packages/tables/path.py:157: NaturalNameWarning: object name is not a valid Python identifier: 'IT-L6+SSs'; it does not match the pattern ``^[a-zA-Z_][a-zA-Z0-9_]*$``; you will not be able to use natural naming to access this object; using ``getattr()`` will still work, though\n",
      "  check_attribute_name(name)\n",
      "/home/hanliu/miniconda3/envs/clustering/lib/python3.7/site-packages/tables/path.py:157: NaturalNameWarning: object name is not a valid Python identifier: 'IT-L6+MOs'; it does not match the pattern ``^[a-zA-Z_][a-zA-Z0-9_]*$``; you will not be able to use natural naming to access this object; using ``getattr()`` will still work, though\n",
      "  check_attribute_name(name)\n",
      "/home/hanliu/miniconda3/envs/clustering/lib/python3.7/site-packages/tables/path.py:157: NaturalNameWarning: object name is not a valid Python identifier: 'IT-L6+MOp'; it does not match the pattern ``^[a-zA-Z_][a-zA-Z0-9_]*$``; you will not be able to use natural naming to access this object; using ``getattr()`` will still work, though\n",
      "  check_attribute_name(name)\n"
     ]
    }
   ],
   "source": [
    "with pd.HDFStore(pathlib.Path(dmr_path).parent / 'DMRInfo.h5') as hdf:\n",
    "    for sample, hypo_index in hypo_sig_dict.items():\n",
    "        hdf[f'HypoDMR/{sample}'] = pd.Series(hypo_index)\n",
    "    for sample, hyper_index in hyper_sig_dict.items():\n",
    "        hdf[f'HyperDMR/{sample}'] = pd.Series(hyper_index)"
   ]
  },
  {
   "cell_type": "markdown",
   "metadata": {
    "papermill": {
     "duration": 0.011579,
     "end_time": "2020-01-12T05:11:31.938244",
     "exception": false,
     "start_time": "2020-01-12T05:11:31.926665",
     "status": "completed"
    },
    "scrolled": true,
    "tags": []
   },
   "source": [
    "## Dump DMR bed"
   ]
  },
  {
   "cell_type": "code",
   "execution_count": 12,
   "metadata": {
    "ExecuteTime": {
     "end_time": "2020-01-17T05:00:06.511107Z",
     "start_time": "2020-01-17T05:00:05.877534Z"
    },
    "papermill": {
     "duration": 1.067049,
     "end_time": "2020-01-12T05:11:33.017214",
     "exception": false,
     "start_time": "2020-01-12T05:11:31.950165",
     "status": "completed"
    },
    "tags": []
   },
   "outputs": [],
   "source": [
    "hypo_dir = pathlib.Path(dmr_path).parent / 'HypoDMR'\n",
    "hypo_dir.mkdir(exist_ok=True)\n",
    "for sample, hypo_index in hypo_sig_dict.items():\n",
    "    _bed = dmr_bed.loc[hypo_index].reset_index().iloc[:, [1, 2, 3, 0]].to_csv(\n",
    "        hypo_dir / f'{sample}.DMS{dms_cutoff}.bed', sep='\\t', index=None, header=None)"
   ]
  },
  {
   "cell_type": "code",
   "execution_count": 13,
   "metadata": {
    "ExecuteTime": {
     "end_time": "2020-01-17T05:00:07.107695Z",
     "start_time": "2020-01-17T05:00:06.512609Z"
    },
    "papermill": {
     "duration": 1.01242,
     "end_time": "2020-01-12T05:11:34.042583",
     "exception": false,
     "start_time": "2020-01-12T05:11:33.030163",
     "status": "completed"
    },
    "tags": []
   },
   "outputs": [],
   "source": [
    "hyper_dir = pathlib.Path(dmr_path).parent / 'HyperDMR'\n",
    "hyper_dir.mkdir(exist_ok=True)\n",
    "for sample, hyper_index in hyper_sig_dict.items():\n",
    "    _bed = dmr_bed.loc[hyper_index].reset_index().iloc[:, [1, 2, 3, 0]].to_csv(\n",
    "        hyper_dir / f'{sample}.DMS{dms_cutoff}.bed', sep='\\t', index=None, header=None)"
   ]
  },
  {
   "cell_type": "markdown",
   "metadata": {
    "papermill": {
     "duration": 0.011352,
     "end_time": "2020-01-12T05:11:34.066123",
     "exception": false,
     "start_time": "2020-01-12T05:11:34.054771",
     "status": "completed"
    },
    "tags": []
   },
   "source": [
    "## DMR hits matrix"
   ]
  },
  {
   "cell_type": "code",
   "execution_count": 14,
   "metadata": {
    "ExecuteTime": {
     "end_time": "2020-01-17T05:00:07.758944Z",
     "start_time": "2020-01-17T05:00:07.109147Z"
    },
    "papermill": {
     "duration": 0.688713,
     "end_time": "2020-01-12T05:11:34.766364",
     "exception": false,
     "start_time": "2020-01-12T05:11:34.077651",
     "status": "completed"
    },
    "tags": []
   },
   "outputs": [
    {
     "name": "stderr",
     "output_type": "stream",
     "text": [
      "... storing '#chr' as categorical\n"
     ]
    }
   ],
   "source": [
    "sig_dict = hypo_sig_dict\n",
    "\n",
    "rows = []\n",
    "cols = []\n",
    "datas = []\n",
    "for i, (sample, dmr_index) in enumerate(sig_dict.items()):\n",
    "    col = dmr_index.map(lambda i: i.split('_')[1]).astype(int).values\n",
    "    row = (np.ones_like(col) * i).astype(int)\n",
    "    data = np.ones_like(col)\n",
    "    rows.append(row)\n",
    "    cols.append(col)\n",
    "    datas.append(data)\n",
    "datas = np.concatenate(datas)\n",
    "cols = np.concatenate(cols)\n",
    "rows = np.concatenate(rows)\n",
    "hits = csr_matrix((datas, (rows, cols)),\n",
    "                  shape=(mc_rate.shape[1], dmr_bed.shape[0]))\n",
    "\n",
    "# obs is DMR, var is sample, because all analysis is dmr focused\n",
    "dmr_hits = anndata.AnnData(X=hits.T,\n",
    "                           obs=dmr_bed,\n",
    "                           var=pd.DataFrame([], index=mc_rate.columns))\n",
    "\n",
    "dmr_hits.write_h5ad(hypo_dir / 'TotalHits.h5ad')\n"
   ]
  },
  {
   "cell_type": "code",
   "execution_count": 15,
   "metadata": {
    "ExecuteTime": {
     "end_time": "2020-01-17T05:00:08.436469Z",
     "start_time": "2020-01-17T05:00:07.760500Z"
    },
    "papermill": {
     "duration": 0.67057,
     "end_time": "2020-01-12T05:11:35.449275",
     "exception": false,
     "start_time": "2020-01-12T05:11:34.778705",
     "status": "completed"
    },
    "tags": []
   },
   "outputs": [
    {
     "name": "stderr",
     "output_type": "stream",
     "text": [
      "... storing '#chr' as categorical\n"
     ]
    }
   ],
   "source": [
    "sig_dict = hyper_sig_dict\n",
    "\n",
    "rows = []\n",
    "cols = []\n",
    "datas = []\n",
    "for i, (sample, dmr_index) in enumerate(sig_dict.items()):\n",
    "    col = dmr_index.map(lambda i: i.split('_')[1]).astype(int).values\n",
    "    row = (np.ones_like(col) * i).astype(int)\n",
    "    data = np.ones_like(col)\n",
    "    rows.append(row)\n",
    "    cols.append(col)\n",
    "    datas.append(data)\n",
    "datas = np.concatenate(datas)\n",
    "cols = np.concatenate(cols)\n",
    "rows = np.concatenate(rows)\n",
    "hits = csr_matrix((datas, (rows, cols)),\n",
    "                  shape=(mc_rate.shape[1], dmr_bed.shape[0]))\n",
    "\n",
    "# obs is DMR, var is sample, because all analysis is dmr focused\n",
    "dmr_hits = anndata.AnnData(X=hits.T,\n",
    "                           obs=dmr_bed,\n",
    "                           var=pd.DataFrame([], index=mc_rate.columns))\n",
    "\n",
    "dmr_hits.write_h5ad(hyper_dir / 'TotalHits.h5ad')"
   ]
  },
  {
   "cell_type": "code",
   "execution_count": null,
   "metadata": {
    "papermill": {
     "duration": 0.011981,
     "end_time": "2020-01-12T05:11:35.473879",
     "exception": false,
     "start_time": "2020-01-12T05:11:35.461898",
     "status": "completed"
    },
    "tags": []
   },
   "outputs": [],
   "source": []
  },
  {
   "cell_type": "code",
   "execution_count": null,
   "metadata": {
    "papermill": {
     "duration": 0.011857,
     "end_time": "2020-01-12T05:11:35.497583",
     "exception": false,
     "start_time": "2020-01-12T05:11:35.485726",
     "status": "completed"
    },
    "tags": []
   },
   "outputs": [],
   "source": []
  },
  {
   "cell_type": "code",
   "execution_count": null,
   "metadata": {
    "papermill": {
     "duration": 0.011713,
     "end_time": "2020-01-12T05:11:35.521030",
     "exception": false,
     "start_time": "2020-01-12T05:11:35.509317",
     "status": "completed"
    },
    "tags": []
   },
   "outputs": [],
   "source": []
  }
 ],
 "metadata": {
  "hide_input": false,
  "kernelspec": {
   "display_name": "Python 3",
   "language": "python",
   "name": "python3"
  },
  "language_info": {
   "codemirror_mode": {
    "name": "ipython",
    "version": 3
   },
   "file_extension": ".py",
   "mimetype": "text/x-python",
   "name": "python",
   "nbconvert_exporter": "python",
   "pygments_lexer": "ipython3",
   "version": "3.7.3"
  },
  "papermill": {
   "duration": 10.21589,
   "end_time": "2020-01-12T05:11:35.939820",
   "environment_variables": {},
   "exception": null,
   "input_path": "1.FilterDMRRecipe_simple_min_max.ipynb",
   "output_path": "/home/hanliu/project/mouse_rostral_brain/DMR/ITSpatial_by_layer/IT-L6/Recipe/1.FilterDMRRecipe_simple_min_max.ipynb",
   "parameters": {
    "black_list_path": "/home/hanliu/ref/blacklist/mm10-blacklist.v2.bed.gz",
    "delta_cutoff": 0.3,
    "dmr_path": "/home/hanliu/project/mouse_rostral_brain/DMR/ITSpatial_by_layer/IT-L6/IT-L6_rms_results_collapsed.tsv",
    "dmr_prefix": "DGm3c",
    "dms_cutoff": 1
   },
   "start_time": "2020-01-12T05:11:25.723930",
   "version": "1.0.1"
  },
  "toc": {
   "base_numbering": 1,
   "nav_menu": {},
   "number_sections": true,
   "sideBar": true,
   "skip_h1_title": true,
   "title_cell": "Table of Contents",
   "title_sidebar": "Contents",
   "toc_cell": false,
   "toc_position": {},
   "toc_section_display": true,
   "toc_window_display": true
  }
 },
 "nbformat": 4,
 "nbformat_minor": 2
}
