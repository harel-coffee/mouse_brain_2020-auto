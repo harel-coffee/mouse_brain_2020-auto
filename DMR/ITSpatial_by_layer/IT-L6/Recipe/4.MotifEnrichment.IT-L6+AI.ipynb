{
 "cells": [
  {
   "cell_type": "markdown",
   "metadata": {
    "papermill": {
     "duration": 0.009515,
     "end_time": "2020-01-14T06:48:36.097066",
     "exception": false,
     "start_time": "2020-01-14T06:48:36.087551",
     "status": "completed"
    },
    "tags": []
   },
   "source": [
    "# Motif Enrichment\n",
    "- The motif hits matrix save the max loglikelyhood score of a motif in that DMR\n",
    "- Before run the motif enrichment, I filter the scores for each motif using cutoff defined by\n",
    "    - `np.quantile(motif_score[motif_score > 0]) * mask_quantile_to99`\n",
    "- This filter will remove hits with low score, which is likely to be false positive\n",
    "- Its likely boosting the significance of real enrichment"
   ]
  },
  {
   "cell_type": "code",
   "execution_count": 1,
   "metadata": {
    "ExecuteTime": {
     "end_time": "2020-01-17T05:01:38.039553Z",
     "start_time": "2020-01-17T05:01:37.346116Z"
    },
    "papermill": {
     "duration": 0.674565,
     "end_time": "2020-01-14T06:48:36.781910",
     "exception": false,
     "start_time": "2020-01-14T06:48:36.107345",
     "status": "completed"
    },
    "tags": []
   },
   "outputs": [],
   "source": [
    "from concurrent.futures import ProcessPoolExecutor, as_completed\n",
    "import anndata\n",
    "import matplotlib.pyplot as plt\n",
    "import numpy as np\n",
    "import pandas as pd\n",
    "import pybedtools\n",
    "import scipy.stats as stats\n",
    "import seaborn as sns\n",
    "from scipy.sparse import csr_matrix\n",
    "from statsmodels.stats.multitest import multipletests\n",
    "import pathlib"
   ]
  },
  {
   "cell_type": "code",
   "execution_count": 2,
   "metadata": {
    "ExecuteTime": {
     "end_time": "2020-01-17T05:01:38.044105Z",
     "start_time": "2020-01-17T05:01:38.041325Z"
    },
    "papermill": {
     "duration": 0.0155,
     "end_time": "2020-01-14T06:48:36.807922",
     "exception": false,
     "start_time": "2020-01-14T06:48:36.792422",
     "status": "completed"
    },
    "tags": [
     "parameters"
    ]
   },
   "outputs": [],
   "source": [
    "mask_quantile_to99 = 0.9\n",
    "or_cutoff = 1.5\n",
    "neg_lgp_cutoff = 10\n",
    "group = 'IT-L23+ACA'\n",
    "\n",
    "motif_hits_path = '/home/hanliu/project/mouse_rostral_brain/DMR/ITSpatial_by_layer/IT-L23/MotifScan.h5ad'\n",
    "dmr_hits_path = f'/home/hanliu/project/mouse_rostral_brain/DMR/ITSpatial_by_layer/IT-L23/HypoDMR/{group}.DMS1.bed'\n",
    "output_dir = '/home/hanliu/project/mouse_rostral_brain/DMR/ITSpatial_by_layer/IT-L23/MotifEnrichment'\n"
   ]
  },
  {
   "cell_type": "code",
   "execution_count": 3,
   "metadata": {
    "ExecuteTime": {
     "end_time": "2020-01-17T05:01:38.047767Z",
     "start_time": "2020-01-17T05:01:38.045418Z"
    },
    "papermill": {
     "duration": 0.01448,
     "end_time": "2020-01-14T06:48:36.831578",
     "exception": false,
     "start_time": "2020-01-14T06:48:36.817098",
     "status": "completed"
    },
    "tags": [
     "injected-parameters"
    ]
   },
   "outputs": [],
   "source": [
    "# Parameters\n",
    "mask_quantile_to99 = 0.9\n",
    "or_cutoff = 1.5\n",
    "neg_lgp_cutoff = 10\n",
    "group = \"IT-L6+AI\"\n",
    "motif_hits_path = \"/home/hanliu/project/mouse_rostral_brain/DMR/ITSpatial_by_layer/IT-L6/MotifScan.h5ad\"\n",
    "dmr_hits_path = \"/home/hanliu/project/mouse_rostral_brain/DMR/ITSpatial_by_layer/IT-L6/HypoDMR/IT-L6+AI.DMS1.bed\"\n",
    "output_dir = \"/home/hanliu/project/mouse_rostral_brain/DMR/ITSpatial_by_layer/IT-L6/MotifEnrichment\"\n"
   ]
  },
  {
   "cell_type": "code",
   "execution_count": 4,
   "metadata": {
    "ExecuteTime": {
     "end_time": "2020-01-17T05:01:38.051017Z",
     "start_time": "2020-01-17T05:01:38.048931Z"
    },
    "papermill": {
     "duration": 0.014198,
     "end_time": "2020-01-14T06:48:36.854992",
     "exception": false,
     "start_time": "2020-01-14T06:48:36.840794",
     "status": "completed"
    },
    "tags": []
   },
   "outputs": [],
   "source": [
    "output_dir = pathlib.Path(output_dir)\n",
    "output_dir.mkdir(exist_ok=True)"
   ]
  },
  {
   "cell_type": "markdown",
   "metadata": {
    "papermill": {
     "duration": 0.009319,
     "end_time": "2020-01-14T06:48:36.873532",
     "exception": false,
     "start_time": "2020-01-14T06:48:36.864213",
     "status": "completed"
    },
    "tags": []
   },
   "source": [
    "## DMR hits"
   ]
  },
  {
   "cell_type": "code",
   "execution_count": 5,
   "metadata": {
    "ExecuteTime": {
     "end_time": "2020-01-17T05:01:38.068929Z",
     "start_time": "2020-01-17T05:01:38.052136Z"
    },
    "papermill": {
     "duration": 0.032321,
     "end_time": "2020-01-14T06:48:36.915354",
     "exception": false,
     "start_time": "2020-01-14T06:48:36.883033",
     "status": "completed"
    },
    "tags": []
   },
   "outputs": [
    {
     "data": {
      "text/html": [
       "<div>\n",
       "<style scoped>\n",
       "    .dataframe tbody tr th:only-of-type {\n",
       "        vertical-align: middle;\n",
       "    }\n",
       "\n",
       "    .dataframe tbody tr th {\n",
       "        vertical-align: top;\n",
       "    }\n",
       "\n",
       "    .dataframe thead th {\n",
       "        text-align: right;\n",
       "    }\n",
       "</style>\n",
       "<table border=\"1\" class=\"dataframe\">\n",
       "  <thead>\n",
       "    <tr style=\"text-align: right;\">\n",
       "      <th></th>\n",
       "      <th>0</th>\n",
       "      <th>1</th>\n",
       "      <th>2</th>\n",
       "    </tr>\n",
       "    <tr>\n",
       "      <th>3</th>\n",
       "      <th></th>\n",
       "      <th></th>\n",
       "      <th></th>\n",
       "    </tr>\n",
       "  </thead>\n",
       "  <tbody>\n",
       "    <tr>\n",
       "      <th>DGm3c_58</th>\n",
       "      <td>chr1</td>\n",
       "      <td>3643488</td>\n",
       "      <td>3643488</td>\n",
       "    </tr>\n",
       "    <tr>\n",
       "      <th>DGm3c_68</th>\n",
       "      <td>chr1</td>\n",
       "      <td>3773801</td>\n",
       "      <td>3773801</td>\n",
       "    </tr>\n",
       "    <tr>\n",
       "      <th>DGm3c_82</th>\n",
       "      <td>chr1</td>\n",
       "      <td>3993552</td>\n",
       "      <td>3993566</td>\n",
       "    </tr>\n",
       "    <tr>\n",
       "      <th>DGm3c_133</th>\n",
       "      <td>chr1</td>\n",
       "      <td>4926747</td>\n",
       "      <td>4926815</td>\n",
       "    </tr>\n",
       "    <tr>\n",
       "      <th>DGm3c_156</th>\n",
       "      <td>chr1</td>\n",
       "      <td>5223832</td>\n",
       "      <td>5223832</td>\n",
       "    </tr>\n",
       "  </tbody>\n",
       "</table>\n",
       "</div>"
      ],
      "text/plain": [
       "              0        1        2\n",
       "3                                \n",
       "DGm3c_58   chr1  3643488  3643488\n",
       "DGm3c_68   chr1  3773801  3773801\n",
       "DGm3c_82   chr1  3993552  3993566\n",
       "DGm3c_133  chr1  4926747  4926815\n",
       "DGm3c_156  chr1  5223832  5223832"
      ]
     },
     "execution_count": 5,
     "metadata": {},
     "output_type": "execute_result"
    }
   ],
   "source": [
    "dmr_bed_df = pd.read_csv(dmr_hits_path, sep='\\t', header=None, index_col=3)\n",
    "dmr_bed_df.head()"
   ]
  },
  {
   "cell_type": "code",
   "execution_count": 6,
   "metadata": {
    "ExecuteTime": {
     "end_time": "2020-01-17T05:01:39.144065Z",
     "start_time": "2020-01-17T05:01:38.070016Z"
    },
    "papermill": {
     "duration": 1.01173,
     "end_time": "2020-01-14T06:48:37.937699",
     "exception": false,
     "start_time": "2020-01-14T06:48:36.925969",
     "status": "completed"
    },
    "tags": []
   },
   "outputs": [
    {
     "data": {
      "text/plain": [
       "AnnData object with n_obs × n_vars = 5454 × 719 \n",
       "    obs: 'chrom', 'start', 'end'"
      ]
     },
     "execution_count": 6,
     "metadata": {},
     "output_type": "execute_result"
    }
   ],
   "source": [
    "motif_hits = anndata.read_h5ad(motif_hits_path)\n",
    "motif_hits = motif_hits[dmr_bed_df.index, :].copy()\n",
    "motif_ids = motif_hits.var_names\n",
    "motif_hits.X = motif_hits.X.todense()\n",
    "motif_hits"
   ]
  },
  {
   "cell_type": "code",
   "execution_count": 7,
   "metadata": {
    "ExecuteTime": {
     "end_time": "2020-01-17T05:01:39.295487Z",
     "start_time": "2020-01-17T05:01:39.146711Z"
    },
    "papermill": {
     "duration": 0.169567,
     "end_time": "2020-01-14T06:48:38.116649",
     "exception": false,
     "start_time": "2020-01-14T06:48:37.947082",
     "status": "completed"
    },
    "tags": []
   },
   "outputs": [],
   "source": [
    "# mask small motif scores\n",
    "motif_cutoff = pd.Series(np.apply_along_axis(lambda i: np.quantile(i[i>0], 0.99) * mask_quantile_to99, \n",
    "                                             0, motif_hits.X),\n",
    "                         index=motif_hits.var_names)\n",
    "# only keep value larger than the cutoff for each motif\n",
    "motif_hits.X = np.multiply(motif_hits.X, (motif_hits.X > motif_cutoff.values[None, :]))"
   ]
  },
  {
   "cell_type": "markdown",
   "metadata": {
    "papermill": {
     "duration": 0.009644,
     "end_time": "2020-01-14T06:48:38.136821",
     "exception": false,
     "start_time": "2020-01-14T06:48:38.127177",
     "status": "completed"
    },
    "tags": []
   },
   "source": [
    "## Background Hits"
   ]
  },
  {
   "cell_type": "code",
   "execution_count": 8,
   "metadata": {
    "ExecuteTime": {
     "end_time": "2020-01-17T05:01:40.686800Z",
     "start_time": "2020-01-17T05:01:39.297337Z"
    },
    "papermill": {
     "duration": 1.165623,
     "end_time": "2020-01-14T06:48:39.312298",
     "exception": false,
     "start_time": "2020-01-14T06:48:38.146675",
     "status": "completed"
    },
    "tags": []
   },
   "outputs": [],
   "source": [
    "background_motif_hits = anndata.read_h5ad(\n",
    "    '/home/hanliu/project/mouse_rostral_brain/DMR/BackgroundDMR/MotifScan.h5ad'\n",
    ")"
   ]
  },
  {
   "cell_type": "code",
   "execution_count": 9,
   "metadata": {
    "ExecuteTime": {
     "end_time": "2020-01-17T05:01:41.713032Z",
     "start_time": "2020-01-17T05:01:40.688535Z"
    },
    "papermill": {
     "duration": 0.925277,
     "end_time": "2020-01-14T06:48:40.247903",
     "exception": false,
     "start_time": "2020-01-14T06:48:39.322626",
     "status": "completed"
    },
    "tags": []
   },
   "outputs": [],
   "source": [
    "dmr_bed = pybedtools.BedTool().from_dataframe(dmr_bed_df)\n",
    "bg_bed = pybedtools.BedTool().from_dataframe(\n",
    "    background_motif_hits.obs.reset_index().iloc[:, [1, 2, 3, 0]])"
   ]
  },
  {
   "cell_type": "code",
   "execution_count": 10,
   "metadata": {
    "ExecuteTime": {
     "end_time": "2020-01-17T05:01:43.396617Z",
     "start_time": "2020-01-17T05:01:41.714762Z"
    },
    "papermill": {
     "duration": 1.473197,
     "end_time": "2020-01-14T06:48:41.731805",
     "exception": false,
     "start_time": "2020-01-14T06:48:40.258608",
     "status": "completed"
    },
    "tags": []
   },
   "outputs": [],
   "source": [
    "# exclude background that overlap with DMR\n",
    "bg_no_overlap = bg_bed.intersect(dmr_bed, v=True)\n",
    "use_bg = bg_no_overlap.to_dataframe().iloc[:, -1].values\n",
    "background_motif_hits = background_motif_hits[use_bg, :]\n",
    "\n",
    "# make sure col in same order\n",
    "background_motif_hits = background_motif_hits[:, motif_ids].copy()"
   ]
  },
  {
   "cell_type": "code",
   "execution_count": 11,
   "metadata": {
    "ExecuteTime": {
     "end_time": "2020-01-17T05:01:45.893979Z",
     "start_time": "2020-01-17T05:01:43.398338Z"
    },
    "papermill": {
     "duration": 2.207424,
     "end_time": "2020-01-14T06:48:43.949660",
     "exception": false,
     "start_time": "2020-01-14T06:48:41.742236",
     "status": "completed"
    },
    "tags": []
   },
   "outputs": [],
   "source": [
    "judge_matrix = csr_matrix(background_motif_hits.X > motif_cutoff.values[None, :])\n",
    "background_motif_hits.X = background_motif_hits.X.multiply(judge_matrix)"
   ]
  },
  {
   "cell_type": "code",
   "execution_count": 12,
   "metadata": {
    "ExecuteTime": {
     "end_time": "2020-01-17T05:01:45.903354Z",
     "start_time": "2020-01-17T05:01:45.897189Z"
    },
    "papermill": {
     "duration": 0.017552,
     "end_time": "2020-01-14T06:48:43.977833",
     "exception": false,
     "start_time": "2020-01-14T06:48:43.960281",
     "status": "completed"
    },
    "tags": []
   },
   "outputs": [
    {
     "data": {
      "text/plain": [
       "AnnData object with n_obs × n_vars = 345437 × 719 \n",
       "    obs: 'chrom', 'start', 'end'"
      ]
     },
     "execution_count": 12,
     "metadata": {},
     "output_type": "execute_result"
    }
   ],
   "source": [
    "background_motif_hits"
   ]
  },
  {
   "cell_type": "markdown",
   "metadata": {
    "papermill": {
     "duration": 0.009555,
     "end_time": "2020-01-14T06:48:43.996953",
     "exception": false,
     "start_time": "2020-01-14T06:48:43.987398",
     "status": "completed"
    },
    "tags": []
   },
   "source": [
    "## Motif hits contingency table"
   ]
  },
  {
   "cell_type": "code",
   "execution_count": 13,
   "metadata": {
    "ExecuteTime": {
     "end_time": "2020-01-17T05:01:46.139384Z",
     "start_time": "2020-01-17T05:01:45.904922Z"
    },
    "papermill": {
     "duration": 0.16785,
     "end_time": "2020-01-14T06:48:44.174386",
     "exception": false,
     "start_time": "2020-01-14T06:48:44.006536",
     "status": "completed"
    },
    "tags": []
   },
   "outputs": [],
   "source": [
    "# calculate motif occurence, not considering hits here\n",
    "pos = (motif_hits.X > 0).sum(axis=0)\n",
    "pos_total = motif_hits.shape[0]\n",
    "\n",
    "neg = (background_motif_hits.X > 0).sum(axis=0)\n",
    "neg_total = background_motif_hits.shape[0]"
   ]
  },
  {
   "cell_type": "code",
   "execution_count": 14,
   "metadata": {
    "ExecuteTime": {
     "end_time": "2020-01-17T05:01:46.145729Z",
     "start_time": "2020-01-17T05:01:46.141468Z"
    },
    "papermill": {
     "duration": 0.062523,
     "end_time": "2020-01-14T06:48:44.247393",
     "exception": false,
     "start_time": "2020-01-14T06:48:44.184870",
     "status": "completed"
    },
    "scrolled": true,
    "tags": []
   },
   "outputs": [],
   "source": [
    "tables = {}\n",
    "for motif, _pos, _neg in zip(motif_ids, pos.A1, neg.A1):\n",
    "    table = [[_pos, pos_total - _pos], [_neg, neg_total - _neg]]\n",
    "    tables[motif] = table"
   ]
  },
  {
   "cell_type": "code",
   "execution_count": 15,
   "metadata": {
    "ExecuteTime": {
     "end_time": "2020-01-17T05:01:46.830542Z",
     "start_time": "2020-01-17T05:01:46.147289Z"
    },
    "papermill": {
     "duration": 0.691389,
     "end_time": "2020-01-14T06:48:44.948489",
     "exception": false,
     "start_time": "2020-01-14T06:48:44.257100",
     "status": "completed"
    },
    "tags": []
   },
   "outputs": [],
   "source": [
    "results = {}\n",
    "with ProcessPoolExecutor(20) as executor:\n",
    "    fs = {}\n",
    "    for motif, t in tables.items():\n",
    "        f = executor.submit(stats.fisher_exact, t, alternative='greater')\n",
    "        fs[f] = motif\n",
    "\n",
    "    for f in as_completed(fs):\n",
    "        motif = fs[f]\n",
    "        odds, p = f.result()\n",
    "        results[motif] = {'oddsratio': odds, 'p_value': p}\n",
    "motif_enrich_df = pd.DataFrame(results).T\n",
    "\n",
    "_, p, _, _ = multipletests(motif_enrich_df['p_value'], method='fdr_bh')\n",
    "motif_enrich_df['adj_p'] = p\n",
    "\n",
    "motif_enrich_df['-lgp'] = -np.log10(motif_enrich_df['adj_p']).replace(\n",
    "    -np.inf, -300)\n",
    "\n",
    "records = {}\n",
    "for motif, t in tables.items():\n",
    "    tp, tn = t[0]\n",
    "    fp, fn = t[1]\n",
    "    tp_rate = tp / pos_total\n",
    "    fp_rate = fp / neg_total\n",
    "    records[motif] = dict(tp=tp,\n",
    "                          tn=tn,\n",
    "                          fp=fp,\n",
    "                          fn=fn,\n",
    "                          tp_rate=tp_rate,\n",
    "                          fp_rate=fp_rate)\n",
    "counts = pd.DataFrame(records).T\n",
    "motif_enrich_df = pd.concat([motif_enrich_df, counts], axis=1, sort=True)"
   ]
  },
  {
   "cell_type": "code",
   "execution_count": 16,
   "metadata": {
    "ExecuteTime": {
     "end_time": "2020-01-17T05:01:46.835398Z",
     "start_time": "2020-01-17T05:01:46.832380Z"
    },
    "papermill": {
     "duration": 0.0157,
     "end_time": "2020-01-14T06:48:44.975063",
     "exception": false,
     "start_time": "2020-01-14T06:48:44.959363",
     "status": "completed"
    },
    "tags": []
   },
   "outputs": [],
   "source": [
    "motif_enrich_df['Group'] = group"
   ]
  },
  {
   "cell_type": "code",
   "execution_count": 17,
   "metadata": {
    "ExecuteTime": {
     "end_time": "2020-01-17T05:01:46.842610Z",
     "start_time": "2020-01-17T05:01:46.836785Z"
    },
    "papermill": {
     "duration": 0.017908,
     "end_time": "2020-01-14T06:48:45.002530",
     "exception": false,
     "start_time": "2020-01-14T06:48:44.984622",
     "status": "completed"
    },
    "tags": []
   },
   "outputs": [
    {
     "data": {
      "text/plain": [
       "13"
      ]
     },
     "execution_count": 17,
     "metadata": {},
     "output_type": "execute_result"
    }
   ],
   "source": [
    "# final filter\n",
    "filtered_motif_df = motif_enrich_df[(motif_enrich_df['oddsratio'] > or_cutoff)\n",
    "                                    &\n",
    "                                    (motif_enrich_df['-lgp'] > neg_lgp_cutoff)]\n",
    "filtered_motif_df.shape[0]"
   ]
  },
  {
   "cell_type": "code",
   "execution_count": 18,
   "metadata": {
    "ExecuteTime": {
     "end_time": "2020-01-17T05:01:46.848627Z",
     "start_time": "2020-01-17T05:01:46.843935Z"
    },
    "papermill": {
     "duration": 0.017177,
     "end_time": "2020-01-14T06:48:45.029437",
     "exception": false,
     "start_time": "2020-01-14T06:48:45.012260",
     "status": "completed"
    },
    "tags": []
   },
   "outputs": [
    {
     "name": "stderr",
     "output_type": "stream",
     "text": [
      "/home/hanliu/miniconda3/envs/clustering/lib/python3.7/site-packages/ipykernel_launcher.py:1: FutureWarning: to_msgpack is deprecated and will be removed in a future version.\n",
      "It is recommended to use pyarrow for on-the-wire transmission of pandas objects.\n",
      "  \"\"\"Entry point for launching an IPython kernel.\n"
     ]
    }
   ],
   "source": [
    "motif_enrich_df.to_msgpack(output_dir / f'{group}.motif_enrichment.msg')"
   ]
  },
  {
   "cell_type": "code",
   "execution_count": 19,
   "metadata": {
    "ExecuteTime": {
     "end_time": "2020-01-17T05:01:46.857598Z",
     "start_time": "2020-01-17T05:01:46.850007Z"
    },
    "papermill": {
     "duration": 0.020219,
     "end_time": "2020-01-14T06:48:45.060104",
     "exception": false,
     "start_time": "2020-01-14T06:48:45.039885",
     "status": "completed"
    },
    "tags": []
   },
   "outputs": [],
   "source": [
    "pybedtools.cleanup()"
   ]
  },
  {
   "cell_type": "code",
   "execution_count": 20,
   "metadata": {
    "ExecuteTime": {
     "end_time": "2020-01-17T05:01:46.873073Z",
     "start_time": "2020-01-17T05:01:46.858993Z"
    },
    "papermill": {
     "duration": 0.02672,
     "end_time": "2020-01-14T06:48:45.097656",
     "exception": false,
     "start_time": "2020-01-14T06:48:45.070936",
     "status": "completed"
    },
    "tags": []
   },
   "outputs": [
    {
     "data": {
      "text/html": [
       "<div>\n",
       "<style scoped>\n",
       "    .dataframe tbody tr th:only-of-type {\n",
       "        vertical-align: middle;\n",
       "    }\n",
       "\n",
       "    .dataframe tbody tr th {\n",
       "        vertical-align: top;\n",
       "    }\n",
       "\n",
       "    .dataframe thead th {\n",
       "        text-align: right;\n",
       "    }\n",
       "</style>\n",
       "<table border=\"1\" class=\"dataframe\">\n",
       "  <thead>\n",
       "    <tr style=\"text-align: right;\">\n",
       "      <th></th>\n",
       "      <th>oddsratio</th>\n",
       "      <th>p_value</th>\n",
       "      <th>adj_p</th>\n",
       "      <th>-lgp</th>\n",
       "      <th>tp</th>\n",
       "      <th>tn</th>\n",
       "      <th>fp</th>\n",
       "      <th>fn</th>\n",
       "      <th>tp_rate</th>\n",
       "      <th>fp_rate</th>\n",
       "      <th>Group</th>\n",
       "    </tr>\n",
       "  </thead>\n",
       "  <tbody>\n",
       "    <tr>\n",
       "      <th>MA0461.2</th>\n",
       "      <td>2.264094</td>\n",
       "      <td>1.254632e-13</td>\n",
       "      <td>6.443433e-12</td>\n",
       "      <td>11.190883</td>\n",
       "      <td>108.0</td>\n",
       "      <td>5346.0</td>\n",
       "      <td>3055.0</td>\n",
       "      <td>342382.0</td>\n",
       "      <td>0.019802</td>\n",
       "      <td>0.008844</td>\n",
       "      <td>IT-L6+AI</td>\n",
       "    </tr>\n",
       "    <tr>\n",
       "      <th>MA0509.2</th>\n",
       "      <td>5.170378</td>\n",
       "      <td>1.601781e-27</td>\n",
       "      <td>1.151680e-24</td>\n",
       "      <td>23.938668</td>\n",
       "      <td>73.0</td>\n",
       "      <td>5381.0</td>\n",
       "      <td>904.0</td>\n",
       "      <td>344533.0</td>\n",
       "      <td>0.013385</td>\n",
       "      <td>0.002617</td>\n",
       "      <td>IT-L6+AI</td>\n",
       "    </tr>\n",
       "    <tr>\n",
       "      <th>MA0510.2</th>\n",
       "      <td>4.977330</td>\n",
       "      <td>2.349934e-15</td>\n",
       "      <td>2.816005e-13</td>\n",
       "      <td>12.550367</td>\n",
       "      <td>40.0</td>\n",
       "      <td>5414.0</td>\n",
       "      <td>512.0</td>\n",
       "      <td>344925.0</td>\n",
       "      <td>0.007334</td>\n",
       "      <td>0.001482</td>\n",
       "      <td>IT-L6+AI</td>\n",
       "    </tr>\n",
       "    <tr>\n",
       "      <th>MA0600.2</th>\n",
       "      <td>5.432366</td>\n",
       "      <td>4.835074e-15</td>\n",
       "      <td>4.966311e-13</td>\n",
       "      <td>12.303966</td>\n",
       "      <td>36.0</td>\n",
       "      <td>5418.0</td>\n",
       "      <td>422.0</td>\n",
       "      <td>345015.0</td>\n",
       "      <td>0.006601</td>\n",
       "      <td>0.001222</td>\n",
       "      <td>IT-L6+AI</td>\n",
       "    </tr>\n",
       "    <tr>\n",
       "      <th>MA0607.1</th>\n",
       "      <td>1.884905</td>\n",
       "      <td>1.731638e-25</td>\n",
       "      <td>6.225240e-23</td>\n",
       "      <td>22.205844</td>\n",
       "      <td>350.0</td>\n",
       "      <td>5104.0</td>\n",
       "      <td>12126.0</td>\n",
       "      <td>333311.0</td>\n",
       "      <td>0.064173</td>\n",
       "      <td>0.035103</td>\n",
       "      <td>IT-L6+AI</td>\n",
       "    </tr>\n",
       "    <tr>\n",
       "      <th>MA0619.1</th>\n",
       "      <td>1.513068</td>\n",
       "      <td>3.061003e-23</td>\n",
       "      <td>7.336204e-21</td>\n",
       "      <td>20.134529</td>\n",
       "      <td>741.0</td>\n",
       "      <td>4713.0</td>\n",
       "      <td>32516.0</td>\n",
       "      <td>312921.0</td>\n",
       "      <td>0.135864</td>\n",
       "      <td>0.094130</td>\n",
       "      <td>IT-L6+AI</td>\n",
       "    </tr>\n",
       "    <tr>\n",
       "      <th>MA0633.1</th>\n",
       "      <td>2.176152</td>\n",
       "      <td>1.252603e-13</td>\n",
       "      <td>6.443433e-12</td>\n",
       "      <td>11.190883</td>\n",
       "      <td>118.0</td>\n",
       "      <td>5336.0</td>\n",
       "      <td>3475.0</td>\n",
       "      <td>341962.0</td>\n",
       "      <td>0.021635</td>\n",
       "      <td>0.010060</td>\n",
       "      <td>IT-L6+AI</td>\n",
       "    </tr>\n",
       "    <tr>\n",
       "      <th>MA0668.1</th>\n",
       "      <td>2.852345</td>\n",
       "      <td>8.745795e-14</td>\n",
       "      <td>5.240189e-12</td>\n",
       "      <td>11.280653</td>\n",
       "      <td>71.0</td>\n",
       "      <td>5383.0</td>\n",
       "      <td>1590.0</td>\n",
       "      <td>343847.0</td>\n",
       "      <td>0.013018</td>\n",
       "      <td>0.004603</td>\n",
       "      <td>IT-L6+AI</td>\n",
       "    </tr>\n",
       "    <tr>\n",
       "      <th>MA0798.2</th>\n",
       "      <td>4.747792</td>\n",
       "      <td>1.432265e-21</td>\n",
       "      <td>2.574496e-19</td>\n",
       "      <td>18.589308</td>\n",
       "      <td>61.0</td>\n",
       "      <td>5393.0</td>\n",
       "      <td>821.0</td>\n",
       "      <td>344616.0</td>\n",
       "      <td>0.011184</td>\n",
       "      <td>0.002377</td>\n",
       "      <td>IT-L6+AI</td>\n",
       "    </tr>\n",
       "    <tr>\n",
       "      <th>MA0799.1</th>\n",
       "      <td>5.216866</td>\n",
       "      <td>8.938033e-18</td>\n",
       "      <td>1.285289e-15</td>\n",
       "      <td>14.890999</td>\n",
       "      <td>45.0</td>\n",
       "      <td>5409.0</td>\n",
       "      <td>550.0</td>\n",
       "      <td>344887.0</td>\n",
       "      <td>0.008251</td>\n",
       "      <td>0.001592</td>\n",
       "      <td>IT-L6+AI</td>\n",
       "    </tr>\n",
       "    <tr>\n",
       "      <th>MA0818.1</th>\n",
       "      <td>2.390625</td>\n",
       "      <td>3.416058e-14</td>\n",
       "      <td>2.456145e-12</td>\n",
       "      <td>11.609746</td>\n",
       "      <td>101.0</td>\n",
       "      <td>5353.0</td>\n",
       "      <td>2705.0</td>\n",
       "      <td>342732.0</td>\n",
       "      <td>0.018519</td>\n",
       "      <td>0.007831</td>\n",
       "      <td>IT-L6+AI</td>\n",
       "    </tr>\n",
       "    <tr>\n",
       "      <th>MA1468.1</th>\n",
       "      <td>2.348456</td>\n",
       "      <td>6.227087e-15</td>\n",
       "      <td>5.596595e-13</td>\n",
       "      <td>12.252076</td>\n",
       "      <td>111.0</td>\n",
       "      <td>5343.0</td>\n",
       "      <td>3029.0</td>\n",
       "      <td>342408.0</td>\n",
       "      <td>0.020352</td>\n",
       "      <td>0.008769</td>\n",
       "      <td>IT-L6+AI</td>\n",
       "    </tr>\n",
       "    <tr>\n",
       "      <th>MA1570.1</th>\n",
       "      <td>1.765583</td>\n",
       "      <td>1.195361e-14</td>\n",
       "      <td>9.549608e-13</td>\n",
       "      <td>12.020014</td>\n",
       "      <td>228.0</td>\n",
       "      <td>5226.0</td>\n",
       "      <td>8330.0</td>\n",
       "      <td>337107.0</td>\n",
       "      <td>0.041804</td>\n",
       "      <td>0.024114</td>\n",
       "      <td>IT-L6+AI</td>\n",
       "    </tr>\n",
       "  </tbody>\n",
       "</table>\n",
       "</div>"
      ],
      "text/plain": [
       "          oddsratio       p_value         adj_p       -lgp     tp      tn  \\\n",
       "MA0461.2   2.264094  1.254632e-13  6.443433e-12  11.190883  108.0  5346.0   \n",
       "MA0509.2   5.170378  1.601781e-27  1.151680e-24  23.938668   73.0  5381.0   \n",
       "MA0510.2   4.977330  2.349934e-15  2.816005e-13  12.550367   40.0  5414.0   \n",
       "MA0600.2   5.432366  4.835074e-15  4.966311e-13  12.303966   36.0  5418.0   \n",
       "MA0607.1   1.884905  1.731638e-25  6.225240e-23  22.205844  350.0  5104.0   \n",
       "MA0619.1   1.513068  3.061003e-23  7.336204e-21  20.134529  741.0  4713.0   \n",
       "MA0633.1   2.176152  1.252603e-13  6.443433e-12  11.190883  118.0  5336.0   \n",
       "MA0668.1   2.852345  8.745795e-14  5.240189e-12  11.280653   71.0  5383.0   \n",
       "MA0798.2   4.747792  1.432265e-21  2.574496e-19  18.589308   61.0  5393.0   \n",
       "MA0799.1   5.216866  8.938033e-18  1.285289e-15  14.890999   45.0  5409.0   \n",
       "MA0818.1   2.390625  3.416058e-14  2.456145e-12  11.609746  101.0  5353.0   \n",
       "MA1468.1   2.348456  6.227087e-15  5.596595e-13  12.252076  111.0  5343.0   \n",
       "MA1570.1   1.765583  1.195361e-14  9.549608e-13  12.020014  228.0  5226.0   \n",
       "\n",
       "               fp        fn   tp_rate   fp_rate     Group  \n",
       "MA0461.2   3055.0  342382.0  0.019802  0.008844  IT-L6+AI  \n",
       "MA0509.2    904.0  344533.0  0.013385  0.002617  IT-L6+AI  \n",
       "MA0510.2    512.0  344925.0  0.007334  0.001482  IT-L6+AI  \n",
       "MA0600.2    422.0  345015.0  0.006601  0.001222  IT-L6+AI  \n",
       "MA0607.1  12126.0  333311.0  0.064173  0.035103  IT-L6+AI  \n",
       "MA0619.1  32516.0  312921.0  0.135864  0.094130  IT-L6+AI  \n",
       "MA0633.1   3475.0  341962.0  0.021635  0.010060  IT-L6+AI  \n",
       "MA0668.1   1590.0  343847.0  0.013018  0.004603  IT-L6+AI  \n",
       "MA0798.2    821.0  344616.0  0.011184  0.002377  IT-L6+AI  \n",
       "MA0799.1    550.0  344887.0  0.008251  0.001592  IT-L6+AI  \n",
       "MA0818.1   2705.0  342732.0  0.018519  0.007831  IT-L6+AI  \n",
       "MA1468.1   3029.0  342408.0  0.020352  0.008769  IT-L6+AI  \n",
       "MA1570.1   8330.0  337107.0  0.041804  0.024114  IT-L6+AI  "
      ]
     },
     "execution_count": 20,
     "metadata": {},
     "output_type": "execute_result"
    }
   ],
   "source": [
    "filtered_motif_df"
   ]
  },
  {
   "cell_type": "code",
   "execution_count": null,
   "metadata": {
    "papermill": {
     "duration": 0.010299,
     "end_time": "2020-01-14T06:48:45.118330",
     "exception": false,
     "start_time": "2020-01-14T06:48:45.108031",
     "status": "completed"
    },
    "tags": []
   },
   "outputs": [],
   "source": []
  }
 ],
 "metadata": {
  "hide_input": false,
  "kernelspec": {
   "display_name": "Python 3",
   "language": "python",
   "name": "python3"
  },
  "language_info": {
   "codemirror_mode": {
    "name": "ipython",
    "version": 3
   },
   "file_extension": ".py",
   "mimetype": "text/x-python",
   "name": "python",
   "nbconvert_exporter": "python",
   "pygments_lexer": "ipython3",
   "version": "3.7.3"
  },
  "papermill": {
   "duration": 10.420183,
   "end_time": "2020-01-14T06:48:45.635898",
   "environment_variables": {},
   "exception": null,
   "input_path": "4.MotifEnrichment.ipynb",
   "output_path": "/home/hanliu/project/mouse_rostral_brain/DMR/ITSpatial_by_layer/IT-L6/Recipe/4.MotifEnrichment.IT-L6+AI.ipynb",
   "parameters": {
    "dmr_hits_path": "/home/hanliu/project/mouse_rostral_brain/DMR/ITSpatial_by_layer/IT-L6/HypoDMR/IT-L6+AI.DMS1.bed",
    "group": "IT-L6+AI",
    "mask_quantile_to99": 0.9,
    "motif_hits_path": "/home/hanliu/project/mouse_rostral_brain/DMR/ITSpatial_by_layer/IT-L6/MotifScan.h5ad",
    "neg_lgp_cutoff": 10,
    "or_cutoff": 1.5,
    "output_dir": "/home/hanliu/project/mouse_rostral_brain/DMR/ITSpatial_by_layer/IT-L6/MotifEnrichment"
   },
   "start_time": "2020-01-14T06:48:35.215715",
   "version": "1.0.1"
  },
  "toc": {
   "base_numbering": 1,
   "nav_menu": {},
   "number_sections": true,
   "sideBar": true,
   "skip_h1_title": true,
   "title_cell": "Table of Contents",
   "title_sidebar": "Contents",
   "toc_cell": false,
   "toc_position": {},
   "toc_section_display": true,
   "toc_window_display": true
  }
 },
 "nbformat": 4,
 "nbformat_minor": 2
}
