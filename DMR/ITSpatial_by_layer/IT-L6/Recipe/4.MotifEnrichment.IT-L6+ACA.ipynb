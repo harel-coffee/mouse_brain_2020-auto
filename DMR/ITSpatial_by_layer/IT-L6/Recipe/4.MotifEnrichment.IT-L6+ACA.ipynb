{
 "cells": [
  {
   "cell_type": "markdown",
   "metadata": {
    "papermill": {
     "duration": 0.009653,
     "end_time": "2020-01-14T06:48:24.786991",
     "exception": false,
     "start_time": "2020-01-14T06:48:24.777338",
     "status": "completed"
    },
    "tags": []
   },
   "source": [
    "# Motif Enrichment\n",
    "- The motif hits matrix save the max loglikelyhood score of a motif in that DMR\n",
    "- Before run the motif enrichment, I filter the scores for each motif using cutoff defined by\n",
    "    - `np.quantile(motif_score[motif_score > 0]) * mask_quantile_to99`\n",
    "- This filter will remove hits with low score, which is likely to be false positive\n",
    "- Its likely boosting the significance of real enrichment"
   ]
  },
  {
   "cell_type": "code",
   "execution_count": 1,
   "metadata": {
    "ExecuteTime": {
     "end_time": "2020-01-17T05:01:35.247387Z",
     "start_time": "2020-01-17T05:01:34.560843Z"
    },
    "papermill": {
     "duration": 0.717646,
     "end_time": "2020-01-14T06:48:25.515485",
     "exception": false,
     "start_time": "2020-01-14T06:48:24.797839",
     "status": "completed"
    },
    "tags": []
   },
   "outputs": [],
   "source": [
    "from concurrent.futures import ProcessPoolExecutor, as_completed\n",
    "import anndata\n",
    "import matplotlib.pyplot as plt\n",
    "import numpy as np\n",
    "import pandas as pd\n",
    "import pybedtools\n",
    "import scipy.stats as stats\n",
    "import seaborn as sns\n",
    "from scipy.sparse import csr_matrix\n",
    "from statsmodels.stats.multitest import multipletests\n",
    "import pathlib"
   ]
  },
  {
   "cell_type": "code",
   "execution_count": 2,
   "metadata": {
    "ExecuteTime": {
     "end_time": "2020-01-17T05:01:35.251800Z",
     "start_time": "2020-01-17T05:01:35.249114Z"
    },
    "papermill": {
     "duration": 0.015754,
     "end_time": "2020-01-14T06:48:25.541712",
     "exception": false,
     "start_time": "2020-01-14T06:48:25.525958",
     "status": "completed"
    },
    "tags": [
     "parameters"
    ]
   },
   "outputs": [],
   "source": [
    "mask_quantile_to99 = 0.9\n",
    "or_cutoff = 1.5\n",
    "neg_lgp_cutoff = 10\n",
    "group = 'IT-L23+ACA'\n",
    "\n",
    "motif_hits_path = '/home/hanliu/project/mouse_rostral_brain/DMR/ITSpatial_by_layer/IT-L23/MotifScan.h5ad'\n",
    "dmr_hits_path = f'/home/hanliu/project/mouse_rostral_brain/DMR/ITSpatial_by_layer/IT-L23/HypoDMR/{group}.DMS1.bed'\n",
    "output_dir = '/home/hanliu/project/mouse_rostral_brain/DMR/ITSpatial_by_layer/IT-L23/MotifEnrichment'\n"
   ]
  },
  {
   "cell_type": "code",
   "execution_count": 3,
   "metadata": {
    "ExecuteTime": {
     "end_time": "2020-01-17T05:01:35.255506Z",
     "start_time": "2020-01-17T05:01:35.253078Z"
    },
    "papermill": {
     "duration": 0.015009,
     "end_time": "2020-01-14T06:48:25.566194",
     "exception": false,
     "start_time": "2020-01-14T06:48:25.551185",
     "status": "completed"
    },
    "tags": [
     "injected-parameters"
    ]
   },
   "outputs": [],
   "source": [
    "# Parameters\n",
    "mask_quantile_to99 = 0.9\n",
    "or_cutoff = 1.5\n",
    "neg_lgp_cutoff = 10\n",
    "group = \"IT-L6+ACA\"\n",
    "motif_hits_path = \"/home/hanliu/project/mouse_rostral_brain/DMR/ITSpatial_by_layer/IT-L6/MotifScan.h5ad\"\n",
    "dmr_hits_path = \"/home/hanliu/project/mouse_rostral_brain/DMR/ITSpatial_by_layer/IT-L6/HypoDMR/IT-L6+ACA.DMS1.bed\"\n",
    "output_dir = \"/home/hanliu/project/mouse_rostral_brain/DMR/ITSpatial_by_layer/IT-L6/MotifEnrichment\"\n"
   ]
  },
  {
   "cell_type": "code",
   "execution_count": 4,
   "metadata": {
    "ExecuteTime": {
     "end_time": "2020-01-17T05:01:35.258965Z",
     "start_time": "2020-01-17T05:01:35.256782Z"
    },
    "papermill": {
     "duration": 0.014319,
     "end_time": "2020-01-14T06:48:25.590099",
     "exception": false,
     "start_time": "2020-01-14T06:48:25.575780",
     "status": "completed"
    },
    "tags": []
   },
   "outputs": [],
   "source": [
    "output_dir = pathlib.Path(output_dir)\n",
    "output_dir.mkdir(exist_ok=True)"
   ]
  },
  {
   "cell_type": "markdown",
   "metadata": {
    "papermill": {
     "duration": 0.009458,
     "end_time": "2020-01-14T06:48:25.609010",
     "exception": false,
     "start_time": "2020-01-14T06:48:25.599552",
     "status": "completed"
    },
    "tags": []
   },
   "source": [
    "## DMR hits"
   ]
  },
  {
   "cell_type": "code",
   "execution_count": 5,
   "metadata": {
    "ExecuteTime": {
     "end_time": "2020-01-17T05:01:35.286738Z",
     "start_time": "2020-01-17T05:01:35.260678Z"
    },
    "papermill": {
     "duration": 0.051803,
     "end_time": "2020-01-14T06:48:25.670459",
     "exception": false,
     "start_time": "2020-01-14T06:48:25.618656",
     "status": "completed"
    },
    "tags": []
   },
   "outputs": [
    {
     "data": {
      "text/html": [
       "<div>\n",
       "<style scoped>\n",
       "    .dataframe tbody tr th:only-of-type {\n",
       "        vertical-align: middle;\n",
       "    }\n",
       "\n",
       "    .dataframe tbody tr th {\n",
       "        vertical-align: top;\n",
       "    }\n",
       "\n",
       "    .dataframe thead th {\n",
       "        text-align: right;\n",
       "    }\n",
       "</style>\n",
       "<table border=\"1\" class=\"dataframe\">\n",
       "  <thead>\n",
       "    <tr style=\"text-align: right;\">\n",
       "      <th></th>\n",
       "      <th>0</th>\n",
       "      <th>1</th>\n",
       "      <th>2</th>\n",
       "    </tr>\n",
       "    <tr>\n",
       "      <th>3</th>\n",
       "      <th></th>\n",
       "      <th></th>\n",
       "      <th></th>\n",
       "    </tr>\n",
       "  </thead>\n",
       "  <tbody>\n",
       "    <tr>\n",
       "      <th>DGm3c_8</th>\n",
       "      <td>chr1</td>\n",
       "      <td>3217169</td>\n",
       "      <td>3217169</td>\n",
       "    </tr>\n",
       "    <tr>\n",
       "      <th>DGm3c_9</th>\n",
       "      <td>chr1</td>\n",
       "      <td>3217542</td>\n",
       "      <td>3217542</td>\n",
       "    </tr>\n",
       "    <tr>\n",
       "      <th>DGm3c_13</th>\n",
       "      <td>chr1</td>\n",
       "      <td>3297316</td>\n",
       "      <td>3297413</td>\n",
       "    </tr>\n",
       "    <tr>\n",
       "      <th>DGm3c_14</th>\n",
       "      <td>chr1</td>\n",
       "      <td>3299623</td>\n",
       "      <td>3299623</td>\n",
       "    </tr>\n",
       "    <tr>\n",
       "      <th>DGm3c_26</th>\n",
       "      <td>chr1</td>\n",
       "      <td>3379131</td>\n",
       "      <td>3379167</td>\n",
       "    </tr>\n",
       "  </tbody>\n",
       "</table>\n",
       "</div>"
      ],
      "text/plain": [
       "             0        1        2\n",
       "3                               \n",
       "DGm3c_8   chr1  3217169  3217169\n",
       "DGm3c_9   chr1  3217542  3217542\n",
       "DGm3c_13  chr1  3297316  3297413\n",
       "DGm3c_14  chr1  3299623  3299623\n",
       "DGm3c_26  chr1  3379131  3379167"
      ]
     },
     "execution_count": 5,
     "metadata": {},
     "output_type": "execute_result"
    }
   ],
   "source": [
    "dmr_bed_df = pd.read_csv(dmr_hits_path, sep='\\t', header=None, index_col=3)\n",
    "dmr_bed_df.head()"
   ]
  },
  {
   "cell_type": "code",
   "execution_count": 6,
   "metadata": {
    "ExecuteTime": {
     "end_time": "2020-01-17T05:01:36.588390Z",
     "start_time": "2020-01-17T05:01:35.288093Z"
    },
    "papermill": {
     "duration": 1.218825,
     "end_time": "2020-01-14T06:48:26.899839",
     "exception": false,
     "start_time": "2020-01-14T06:48:25.681014",
     "status": "completed"
    },
    "tags": []
   },
   "outputs": [
    {
     "data": {
      "text/plain": [
       "AnnData object with n_obs × n_vars = 18044 × 719 \n",
       "    obs: 'chrom', 'start', 'end'"
      ]
     },
     "execution_count": 6,
     "metadata": {},
     "output_type": "execute_result"
    }
   ],
   "source": [
    "motif_hits = anndata.read_h5ad(motif_hits_path)\n",
    "motif_hits = motif_hits[dmr_bed_df.index, :].copy()\n",
    "motif_ids = motif_hits.var_names\n",
    "motif_hits.X = motif_hits.X.todense()\n",
    "motif_hits"
   ]
  },
  {
   "cell_type": "code",
   "execution_count": 7,
   "metadata": {
    "ExecuteTime": {
     "end_time": "2020-01-17T05:01:36.916571Z",
     "start_time": "2020-01-17T05:01:36.589918Z"
    },
    "papermill": {
     "duration": 0.464803,
     "end_time": "2020-01-14T06:48:27.374184",
     "exception": false,
     "start_time": "2020-01-14T06:48:26.909381",
     "status": "completed"
    },
    "tags": []
   },
   "outputs": [],
   "source": [
    "# mask small motif scores\n",
    "motif_cutoff = pd.Series(np.apply_along_axis(lambda i: np.quantile(i[i>0], 0.99) * mask_quantile_to99, \n",
    "                                             0, motif_hits.X),\n",
    "                         index=motif_hits.var_names)\n",
    "# only keep value larger than the cutoff for each motif\n",
    "motif_hits.X = np.multiply(motif_hits.X, (motif_hits.X > motif_cutoff.values[None, :]))"
   ]
  },
  {
   "cell_type": "markdown",
   "metadata": {
    "papermill": {
     "duration": 0.009595,
     "end_time": "2020-01-14T06:48:27.394010",
     "exception": false,
     "start_time": "2020-01-14T06:48:27.384415",
     "status": "completed"
    },
    "tags": []
   },
   "source": [
    "## Background Hits"
   ]
  },
  {
   "cell_type": "code",
   "execution_count": 8,
   "metadata": {
    "ExecuteTime": {
     "end_time": "2020-01-17T05:01:38.265020Z",
     "start_time": "2020-01-17T05:01:36.918245Z"
    },
    "papermill": {
     "duration": 1.167006,
     "end_time": "2020-01-14T06:48:28.570552",
     "exception": false,
     "start_time": "2020-01-14T06:48:27.403546",
     "status": "completed"
    },
    "tags": []
   },
   "outputs": [],
   "source": [
    "background_motif_hits = anndata.read_h5ad(\n",
    "    '/home/hanliu/project/mouse_rostral_brain/DMR/BackgroundDMR/MotifScan.h5ad'\n",
    ")"
   ]
  },
  {
   "cell_type": "code",
   "execution_count": 9,
   "metadata": {
    "ExecuteTime": {
     "end_time": "2020-01-17T05:01:39.317414Z",
     "start_time": "2020-01-17T05:01:38.266727Z"
    },
    "papermill": {
     "duration": 0.984878,
     "end_time": "2020-01-14T06:48:29.565640",
     "exception": false,
     "start_time": "2020-01-14T06:48:28.580762",
     "status": "completed"
    },
    "tags": []
   },
   "outputs": [],
   "source": [
    "dmr_bed = pybedtools.BedTool().from_dataframe(dmr_bed_df)\n",
    "bg_bed = pybedtools.BedTool().from_dataframe(\n",
    "    background_motif_hits.obs.reset_index().iloc[:, [1, 2, 3, 0]])"
   ]
  },
  {
   "cell_type": "code",
   "execution_count": 10,
   "metadata": {
    "ExecuteTime": {
     "end_time": "2020-01-17T05:01:40.993421Z",
     "start_time": "2020-01-17T05:01:39.318932Z"
    },
    "papermill": {
     "duration": 1.50859,
     "end_time": "2020-01-14T06:48:31.084445",
     "exception": false,
     "start_time": "2020-01-14T06:48:29.575855",
     "status": "completed"
    },
    "tags": []
   },
   "outputs": [],
   "source": [
    "# exclude background that overlap with DMR\n",
    "bg_no_overlap = bg_bed.intersect(dmr_bed, v=True)\n",
    "use_bg = bg_no_overlap.to_dataframe().iloc[:, -1].values\n",
    "background_motif_hits = background_motif_hits[use_bg, :]\n",
    "\n",
    "# make sure col in same order\n",
    "background_motif_hits = background_motif_hits[:, motif_ids].copy()"
   ]
  },
  {
   "cell_type": "code",
   "execution_count": 11,
   "metadata": {
    "ExecuteTime": {
     "end_time": "2020-01-17T05:01:43.586763Z",
     "start_time": "2020-01-17T05:01:40.995646Z"
    },
    "papermill": {
     "duration": 2.210562,
     "end_time": "2020-01-14T06:48:33.305289",
     "exception": false,
     "start_time": "2020-01-14T06:48:31.094727",
     "status": "completed"
    },
    "tags": []
   },
   "outputs": [],
   "source": [
    "judge_matrix = csr_matrix(background_motif_hits.X > motif_cutoff.values[None, :])\n",
    "background_motif_hits.X = background_motif_hits.X.multiply(judge_matrix)"
   ]
  },
  {
   "cell_type": "code",
   "execution_count": 12,
   "metadata": {
    "ExecuteTime": {
     "end_time": "2020-01-17T05:01:43.595981Z",
     "start_time": "2020-01-17T05:01:43.589383Z"
    },
    "papermill": {
     "duration": 0.017781,
     "end_time": "2020-01-14T06:48:33.333472",
     "exception": false,
     "start_time": "2020-01-14T06:48:33.315691",
     "status": "completed"
    },
    "tags": []
   },
   "outputs": [
    {
     "data": {
      "text/plain": [
       "AnnData object with n_obs × n_vars = 343359 × 719 \n",
       "    obs: 'chrom', 'start', 'end'"
      ]
     },
     "execution_count": 12,
     "metadata": {},
     "output_type": "execute_result"
    }
   ],
   "source": [
    "background_motif_hits"
   ]
  },
  {
   "cell_type": "markdown",
   "metadata": {
    "papermill": {
     "duration": 0.009533,
     "end_time": "2020-01-14T06:48:33.352699",
     "exception": false,
     "start_time": "2020-01-14T06:48:33.343166",
     "status": "completed"
    },
    "tags": []
   },
   "source": [
    "## Motif hits contingency table"
   ]
  },
  {
   "cell_type": "code",
   "execution_count": 13,
   "metadata": {
    "ExecuteTime": {
     "end_time": "2020-01-17T05:01:43.840041Z",
     "start_time": "2020-01-17T05:01:43.597922Z"
    },
    "papermill": {
     "duration": 0.182515,
     "end_time": "2020-01-14T06:48:33.544804",
     "exception": false,
     "start_time": "2020-01-14T06:48:33.362289",
     "status": "completed"
    },
    "tags": []
   },
   "outputs": [],
   "source": [
    "# calculate motif occurence, not considering hits here\n",
    "pos = (motif_hits.X > 0).sum(axis=0)\n",
    "pos_total = motif_hits.shape[0]\n",
    "\n",
    "neg = (background_motif_hits.X > 0).sum(axis=0)\n",
    "neg_total = background_motif_hits.shape[0]"
   ]
  },
  {
   "cell_type": "code",
   "execution_count": 14,
   "metadata": {
    "ExecuteTime": {
     "end_time": "2020-01-17T05:01:43.847881Z",
     "start_time": "2020-01-17T05:01:43.841962Z"
    },
    "papermill": {
     "duration": 0.062701,
     "end_time": "2020-01-14T06:48:33.617910",
     "exception": false,
     "start_time": "2020-01-14T06:48:33.555209",
     "status": "completed"
    },
    "scrolled": true,
    "tags": []
   },
   "outputs": [],
   "source": [
    "tables = {}\n",
    "for motif, _pos, _neg in zip(motif_ids, pos.A1, neg.A1):\n",
    "    table = [[_pos, pos_total - _pos], [_neg, neg_total - _neg]]\n",
    "    tables[motif] = table"
   ]
  },
  {
   "cell_type": "code",
   "execution_count": 15,
   "metadata": {
    "ExecuteTime": {
     "end_time": "2020-01-17T05:01:44.409410Z",
     "start_time": "2020-01-17T05:01:43.850605Z"
    },
    "papermill": {
     "duration": 0.838102,
     "end_time": "2020-01-14T06:48:34.465860",
     "exception": false,
     "start_time": "2020-01-14T06:48:33.627758",
     "status": "completed"
    },
    "tags": []
   },
   "outputs": [],
   "source": [
    "results = {}\n",
    "with ProcessPoolExecutor(20) as executor:\n",
    "    fs = {}\n",
    "    for motif, t in tables.items():\n",
    "        f = executor.submit(stats.fisher_exact, t, alternative='greater')\n",
    "        fs[f] = motif\n",
    "\n",
    "    for f in as_completed(fs):\n",
    "        motif = fs[f]\n",
    "        odds, p = f.result()\n",
    "        results[motif] = {'oddsratio': odds, 'p_value': p}\n",
    "motif_enrich_df = pd.DataFrame(results).T\n",
    "\n",
    "_, p, _, _ = multipletests(motif_enrich_df['p_value'], method='fdr_bh')\n",
    "motif_enrich_df['adj_p'] = p\n",
    "\n",
    "motif_enrich_df['-lgp'] = -np.log10(motif_enrich_df['adj_p']).replace(\n",
    "    -np.inf, -300)\n",
    "\n",
    "records = {}\n",
    "for motif, t in tables.items():\n",
    "    tp, tn = t[0]\n",
    "    fp, fn = t[1]\n",
    "    tp_rate = tp / pos_total\n",
    "    fp_rate = fp / neg_total\n",
    "    records[motif] = dict(tp=tp,\n",
    "                          tn=tn,\n",
    "                          fp=fp,\n",
    "                          fn=fn,\n",
    "                          tp_rate=tp_rate,\n",
    "                          fp_rate=fp_rate)\n",
    "counts = pd.DataFrame(records).T\n",
    "motif_enrich_df = pd.concat([motif_enrich_df, counts], axis=1, sort=True)"
   ]
  },
  {
   "cell_type": "code",
   "execution_count": 16,
   "metadata": {
    "ExecuteTime": {
     "end_time": "2020-01-17T05:01:44.415414Z",
     "start_time": "2020-01-17T05:01:44.412281Z"
    },
    "papermill": {
     "duration": 0.016643,
     "end_time": "2020-01-14T06:48:34.493640",
     "exception": false,
     "start_time": "2020-01-14T06:48:34.476997",
     "status": "completed"
    },
    "tags": []
   },
   "outputs": [],
   "source": [
    "motif_enrich_df['Group'] = group"
   ]
  },
  {
   "cell_type": "code",
   "execution_count": 17,
   "metadata": {
    "ExecuteTime": {
     "end_time": "2020-01-17T05:01:44.423216Z",
     "start_time": "2020-01-17T05:01:44.417120Z"
    },
    "papermill": {
     "duration": 0.018991,
     "end_time": "2020-01-14T06:48:34.522808",
     "exception": false,
     "start_time": "2020-01-14T06:48:34.503817",
     "status": "completed"
    },
    "tags": []
   },
   "outputs": [
    {
     "data": {
      "text/plain": [
       "19"
      ]
     },
     "execution_count": 17,
     "metadata": {},
     "output_type": "execute_result"
    }
   ],
   "source": [
    "# final filter\n",
    "filtered_motif_df = motif_enrich_df[(motif_enrich_df['oddsratio'] > or_cutoff)\n",
    "                                    &\n",
    "                                    (motif_enrich_df['-lgp'] > neg_lgp_cutoff)]\n",
    "filtered_motif_df.shape[0]"
   ]
  },
  {
   "cell_type": "code",
   "execution_count": 18,
   "metadata": {
    "ExecuteTime": {
     "end_time": "2020-01-17T05:01:44.429292Z",
     "start_time": "2020-01-17T05:01:44.424572Z"
    },
    "papermill": {
     "duration": 0.017968,
     "end_time": "2020-01-14T06:48:34.550959",
     "exception": false,
     "start_time": "2020-01-14T06:48:34.532991",
     "status": "completed"
    },
    "tags": []
   },
   "outputs": [
    {
     "name": "stderr",
     "output_type": "stream",
     "text": [
      "/home/hanliu/miniconda3/envs/clustering/lib/python3.7/site-packages/ipykernel_launcher.py:1: FutureWarning: to_msgpack is deprecated and will be removed in a future version.\n",
      "It is recommended to use pyarrow for on-the-wire transmission of pandas objects.\n",
      "  \"\"\"Entry point for launching an IPython kernel.\n"
     ]
    }
   ],
   "source": [
    "motif_enrich_df.to_msgpack(output_dir / f'{group}.motif_enrichment.msg')"
   ]
  },
  {
   "cell_type": "code",
   "execution_count": 19,
   "metadata": {
    "ExecuteTime": {
     "end_time": "2020-01-17T05:01:44.437972Z",
     "start_time": "2020-01-17T05:01:44.430737Z"
    },
    "papermill": {
     "duration": 0.02149,
     "end_time": "2020-01-14T06:48:34.583133",
     "exception": false,
     "start_time": "2020-01-14T06:48:34.561643",
     "status": "completed"
    },
    "tags": []
   },
   "outputs": [],
   "source": [
    "pybedtools.cleanup()"
   ]
  },
  {
   "cell_type": "code",
   "execution_count": 20,
   "metadata": {
    "ExecuteTime": {
     "end_time": "2020-01-17T05:01:44.455918Z",
     "start_time": "2020-01-17T05:01:44.439408Z"
    },
    "papermill": {
     "duration": 0.028919,
     "end_time": "2020-01-14T06:48:34.623520",
     "exception": false,
     "start_time": "2020-01-14T06:48:34.594601",
     "status": "completed"
    },
    "tags": []
   },
   "outputs": [
    {
     "data": {
      "text/html": [
       "<div>\n",
       "<style scoped>\n",
       "    .dataframe tbody tr th:only-of-type {\n",
       "        vertical-align: middle;\n",
       "    }\n",
       "\n",
       "    .dataframe tbody tr th {\n",
       "        vertical-align: top;\n",
       "    }\n",
       "\n",
       "    .dataframe thead th {\n",
       "        text-align: right;\n",
       "    }\n",
       "</style>\n",
       "<table border=\"1\" class=\"dataframe\">\n",
       "  <thead>\n",
       "    <tr style=\"text-align: right;\">\n",
       "      <th></th>\n",
       "      <th>oddsratio</th>\n",
       "      <th>p_value</th>\n",
       "      <th>adj_p</th>\n",
       "      <th>-lgp</th>\n",
       "      <th>tp</th>\n",
       "      <th>tn</th>\n",
       "      <th>fp</th>\n",
       "      <th>fn</th>\n",
       "      <th>tp_rate</th>\n",
       "      <th>fp_rate</th>\n",
       "      <th>Group</th>\n",
       "    </tr>\n",
       "  </thead>\n",
       "  <tbody>\n",
       "    <tr>\n",
       "      <th>MA0091.1</th>\n",
       "      <td>2.389022</td>\n",
       "      <td>4.902368e-37</td>\n",
       "      <td>1.855159e-35</td>\n",
       "      <td>34.731619</td>\n",
       "      <td>301.0</td>\n",
       "      <td>17743.0</td>\n",
       "      <td>2421.0</td>\n",
       "      <td>340938.0</td>\n",
       "      <td>0.016681</td>\n",
       "      <td>0.007051</td>\n",
       "      <td>IT-L6+ACA</td>\n",
       "    </tr>\n",
       "    <tr>\n",
       "      <th>MA0461.2</th>\n",
       "      <td>4.354092</td>\n",
       "      <td>4.143463e-186</td>\n",
       "      <td>5.958300e-184</td>\n",
       "      <td>183.224878</td>\n",
       "      <td>671.0</td>\n",
       "      <td>17373.0</td>\n",
       "      <td>3019.0</td>\n",
       "      <td>340340.0</td>\n",
       "      <td>0.037187</td>\n",
       "      <td>0.008793</td>\n",
       "      <td>IT-L6+ACA</td>\n",
       "    </tr>\n",
       "    <tr>\n",
       "      <th>MA0607.1</th>\n",
       "      <td>2.886348</td>\n",
       "      <td>1.206247e-267</td>\n",
       "      <td>8.672916e-265</td>\n",
       "      <td>264.061835</td>\n",
       "      <td>1704.0</td>\n",
       "      <td>16340.0</td>\n",
       "      <td>11973.0</td>\n",
       "      <td>331386.0</td>\n",
       "      <td>0.094436</td>\n",
       "      <td>0.034870</td>\n",
       "      <td>IT-L6+ACA</td>\n",
       "    </tr>\n",
       "    <tr>\n",
       "      <th>MA0623.2</th>\n",
       "      <td>4.072444</td>\n",
       "      <td>1.446241e-134</td>\n",
       "      <td>1.155386e-132</td>\n",
       "      <td>131.937273</td>\n",
       "      <td>518.0</td>\n",
       "      <td>17526.0</td>\n",
       "      <td>2474.0</td>\n",
       "      <td>340885.0</td>\n",
       "      <td>0.028708</td>\n",
       "      <td>0.007205</td>\n",
       "      <td>IT-L6+ACA</td>\n",
       "    </tr>\n",
       "    <tr>\n",
       "      <th>MA0633.1</th>\n",
       "      <td>3.701913</td>\n",
       "      <td>5.922002e-150</td>\n",
       "      <td>6.082742e-148</td>\n",
       "      <td>147.215901</td>\n",
       "      <td>649.0</td>\n",
       "      <td>17395.0</td>\n",
       "      <td>3426.0</td>\n",
       "      <td>339933.0</td>\n",
       "      <td>0.035968</td>\n",
       "      <td>0.009978</td>\n",
       "      <td>IT-L6+ACA</td>\n",
       "    </tr>\n",
       "    <tr>\n",
       "      <th>MA0668.1</th>\n",
       "      <td>4.693477</td>\n",
       "      <td>5.517716e-116</td>\n",
       "      <td>3.306031e-114</td>\n",
       "      <td>113.480693</td>\n",
       "      <td>382.0</td>\n",
       "      <td>17662.0</td>\n",
       "      <td>1575.0</td>\n",
       "      <td>341784.0</td>\n",
       "      <td>0.021170</td>\n",
       "      <td>0.004587</td>\n",
       "      <td>IT-L6+ACA</td>\n",
       "    </tr>\n",
       "    <tr>\n",
       "      <th>MA0669.1</th>\n",
       "      <td>3.761464</td>\n",
       "      <td>6.439006e-68</td>\n",
       "      <td>2.893528e-66</td>\n",
       "      <td>65.538572</td>\n",
       "      <td>281.0</td>\n",
       "      <td>17763.0</td>\n",
       "      <td>1438.0</td>\n",
       "      <td>341921.0</td>\n",
       "      <td>0.015573</td>\n",
       "      <td>0.004188</td>\n",
       "      <td>IT-L6+ACA</td>\n",
       "    </tr>\n",
       "    <tr>\n",
       "      <th>MA0678.1</th>\n",
       "      <td>5.876581</td>\n",
       "      <td>1.234420e-118</td>\n",
       "      <td>8.875481e-117</td>\n",
       "      <td>116.051808</td>\n",
       "      <td>318.0</td>\n",
       "      <td>17726.0</td>\n",
       "      <td>1045.0</td>\n",
       "      <td>342314.0</td>\n",
       "      <td>0.017624</td>\n",
       "      <td>0.003043</td>\n",
       "      <td>IT-L6+ACA</td>\n",
       "    </tr>\n",
       "    <tr>\n",
       "      <th>MA0817.1</th>\n",
       "      <td>5.294064</td>\n",
       "      <td>1.744440e-75</td>\n",
       "      <td>8.361681e-74</td>\n",
       "      <td>73.077706</td>\n",
       "      <td>219.0</td>\n",
       "      <td>17825.0</td>\n",
       "      <td>795.0</td>\n",
       "      <td>342564.0</td>\n",
       "      <td>0.012137</td>\n",
       "      <td>0.002315</td>\n",
       "      <td>IT-L6+ACA</td>\n",
       "    </tr>\n",
       "    <tr>\n",
       "      <th>MA0818.1</th>\n",
       "      <td>4.655408</td>\n",
       "      <td>1.332927e-188</td>\n",
       "      <td>2.395936e-186</td>\n",
       "      <td>185.620525</td>\n",
       "      <td>634.0</td>\n",
       "      <td>17410.0</td>\n",
       "      <td>2665.0</td>\n",
       "      <td>340694.0</td>\n",
       "      <td>0.035136</td>\n",
       "      <td>0.007762</td>\n",
       "      <td>IT-L6+ACA</td>\n",
       "    </tr>\n",
       "    <tr>\n",
       "      <th>MA0826.1</th>\n",
       "      <td>5.746456</td>\n",
       "      <td>8.173946e-117</td>\n",
       "      <td>5.342788e-115</td>\n",
       "      <td>114.272232</td>\n",
       "      <td>319.0</td>\n",
       "      <td>17725.0</td>\n",
       "      <td>1072.0</td>\n",
       "      <td>342287.0</td>\n",
       "      <td>0.017679</td>\n",
       "      <td>0.003122</td>\n",
       "      <td>IT-L6+ACA</td>\n",
       "    </tr>\n",
       "    <tr>\n",
       "      <th>MA0827.1</th>\n",
       "      <td>5.082113</td>\n",
       "      <td>2.993842e-151</td>\n",
       "      <td>3.587621e-149</td>\n",
       "      <td>148.445193</td>\n",
       "      <td>464.0</td>\n",
       "      <td>17580.0</td>\n",
       "      <td>1774.0</td>\n",
       "      <td>341585.0</td>\n",
       "      <td>0.025715</td>\n",
       "      <td>0.005167</td>\n",
       "      <td>IT-L6+ACA</td>\n",
       "    </tr>\n",
       "    <tr>\n",
       "      <th>MA1109.1</th>\n",
       "      <td>2.837624</td>\n",
       "      <td>2.797537e-139</td>\n",
       "      <td>2.514287e-137</td>\n",
       "      <td>136.599585</td>\n",
       "      <td>882.0</td>\n",
       "      <td>17162.0</td>\n",
       "      <td>6108.0</td>\n",
       "      <td>337251.0</td>\n",
       "      <td>0.048881</td>\n",
       "      <td>0.017789</td>\n",
       "      <td>IT-L6+ACA</td>\n",
       "    </tr>\n",
       "    <tr>\n",
       "      <th>MA1468.1</th>\n",
       "      <td>4.417963</td>\n",
       "      <td>4.552890e-190</td>\n",
       "      <td>1.091176e-187</td>\n",
       "      <td>186.962105</td>\n",
       "      <td>675.0</td>\n",
       "      <td>17369.0</td>\n",
       "      <td>2994.0</td>\n",
       "      <td>340365.0</td>\n",
       "      <td>0.037409</td>\n",
       "      <td>0.008720</td>\n",
       "      <td>IT-L6+ACA</td>\n",
       "    </tr>\n",
       "    <tr>\n",
       "      <th>MA1524.1</th>\n",
       "      <td>2.092695</td>\n",
       "      <td>1.599089e-45</td>\n",
       "      <td>6.763204e-44</td>\n",
       "      <td>43.169848</td>\n",
       "      <td>502.0</td>\n",
       "      <td>17542.0</td>\n",
       "      <td>4632.0</td>\n",
       "      <td>338727.0</td>\n",
       "      <td>0.027821</td>\n",
       "      <td>0.013490</td>\n",
       "      <td>IT-L6+ACA</td>\n",
       "    </tr>\n",
       "    <tr>\n",
       "      <th>MA1568.1</th>\n",
       "      <td>4.821239</td>\n",
       "      <td>3.950507e-44</td>\n",
       "      <td>1.578008e-42</td>\n",
       "      <td>41.801891</td>\n",
       "      <td>137.0</td>\n",
       "      <td>17907.0</td>\n",
       "      <td>544.0</td>\n",
       "      <td>342815.0</td>\n",
       "      <td>0.007593</td>\n",
       "      <td>0.001584</td>\n",
       "      <td>IT-L6+ACA</td>\n",
       "    </tr>\n",
       "    <tr>\n",
       "      <th>MA1570.1</th>\n",
       "      <td>2.410040</td>\n",
       "      <td>1.860360e-105</td>\n",
       "      <td>1.028922e-103</td>\n",
       "      <td>102.987618</td>\n",
       "      <td>890.0</td>\n",
       "      <td>17154.0</td>\n",
       "      <td>7236.0</td>\n",
       "      <td>336123.0</td>\n",
       "      <td>0.049324</td>\n",
       "      <td>0.021074</td>\n",
       "      <td>IT-L6+ACA</td>\n",
       "    </tr>\n",
       "    <tr>\n",
       "      <th>MA1638.1</th>\n",
       "      <td>1.699143</td>\n",
       "      <td>4.080275e-104</td>\n",
       "      <td>2.095513e-102</td>\n",
       "      <td>101.678710</td>\n",
       "      <td>2315.0</td>\n",
       "      <td>15729.0</td>\n",
       "      <td>27371.0</td>\n",
       "      <td>315988.0</td>\n",
       "      <td>0.128297</td>\n",
       "      <td>0.079715</td>\n",
       "      <td>IT-L6+ACA</td>\n",
       "    </tr>\n",
       "    <tr>\n",
       "      <th>MA1642.1</th>\n",
       "      <td>2.765981</td>\n",
       "      <td>3.697882e-223</td>\n",
       "      <td>1.329389e-220</td>\n",
       "      <td>219.876348</td>\n",
       "      <td>1512.0</td>\n",
       "      <td>16532.0</td>\n",
       "      <td>10990.0</td>\n",
       "      <td>332369.0</td>\n",
       "      <td>0.083795</td>\n",
       "      <td>0.032007</td>\n",
       "      <td>IT-L6+ACA</td>\n",
       "    </tr>\n",
       "  </tbody>\n",
       "</table>\n",
       "</div>"
      ],
      "text/plain": [
       "          oddsratio        p_value          adj_p        -lgp      tp  \\\n",
       "MA0091.1   2.389022   4.902368e-37   1.855159e-35   34.731619   301.0   \n",
       "MA0461.2   4.354092  4.143463e-186  5.958300e-184  183.224878   671.0   \n",
       "MA0607.1   2.886348  1.206247e-267  8.672916e-265  264.061835  1704.0   \n",
       "MA0623.2   4.072444  1.446241e-134  1.155386e-132  131.937273   518.0   \n",
       "MA0633.1   3.701913  5.922002e-150  6.082742e-148  147.215901   649.0   \n",
       "MA0668.1   4.693477  5.517716e-116  3.306031e-114  113.480693   382.0   \n",
       "MA0669.1   3.761464   6.439006e-68   2.893528e-66   65.538572   281.0   \n",
       "MA0678.1   5.876581  1.234420e-118  8.875481e-117  116.051808   318.0   \n",
       "MA0817.1   5.294064   1.744440e-75   8.361681e-74   73.077706   219.0   \n",
       "MA0818.1   4.655408  1.332927e-188  2.395936e-186  185.620525   634.0   \n",
       "MA0826.1   5.746456  8.173946e-117  5.342788e-115  114.272232   319.0   \n",
       "MA0827.1   5.082113  2.993842e-151  3.587621e-149  148.445193   464.0   \n",
       "MA1109.1   2.837624  2.797537e-139  2.514287e-137  136.599585   882.0   \n",
       "MA1468.1   4.417963  4.552890e-190  1.091176e-187  186.962105   675.0   \n",
       "MA1524.1   2.092695   1.599089e-45   6.763204e-44   43.169848   502.0   \n",
       "MA1568.1   4.821239   3.950507e-44   1.578008e-42   41.801891   137.0   \n",
       "MA1570.1   2.410040  1.860360e-105  1.028922e-103  102.987618   890.0   \n",
       "MA1638.1   1.699143  4.080275e-104  2.095513e-102  101.678710  2315.0   \n",
       "MA1642.1   2.765981  3.697882e-223  1.329389e-220  219.876348  1512.0   \n",
       "\n",
       "               tn       fp        fn   tp_rate   fp_rate      Group  \n",
       "MA0091.1  17743.0   2421.0  340938.0  0.016681  0.007051  IT-L6+ACA  \n",
       "MA0461.2  17373.0   3019.0  340340.0  0.037187  0.008793  IT-L6+ACA  \n",
       "MA0607.1  16340.0  11973.0  331386.0  0.094436  0.034870  IT-L6+ACA  \n",
       "MA0623.2  17526.0   2474.0  340885.0  0.028708  0.007205  IT-L6+ACA  \n",
       "MA0633.1  17395.0   3426.0  339933.0  0.035968  0.009978  IT-L6+ACA  \n",
       "MA0668.1  17662.0   1575.0  341784.0  0.021170  0.004587  IT-L6+ACA  \n",
       "MA0669.1  17763.0   1438.0  341921.0  0.015573  0.004188  IT-L6+ACA  \n",
       "MA0678.1  17726.0   1045.0  342314.0  0.017624  0.003043  IT-L6+ACA  \n",
       "MA0817.1  17825.0    795.0  342564.0  0.012137  0.002315  IT-L6+ACA  \n",
       "MA0818.1  17410.0   2665.0  340694.0  0.035136  0.007762  IT-L6+ACA  \n",
       "MA0826.1  17725.0   1072.0  342287.0  0.017679  0.003122  IT-L6+ACA  \n",
       "MA0827.1  17580.0   1774.0  341585.0  0.025715  0.005167  IT-L6+ACA  \n",
       "MA1109.1  17162.0   6108.0  337251.0  0.048881  0.017789  IT-L6+ACA  \n",
       "MA1468.1  17369.0   2994.0  340365.0  0.037409  0.008720  IT-L6+ACA  \n",
       "MA1524.1  17542.0   4632.0  338727.0  0.027821  0.013490  IT-L6+ACA  \n",
       "MA1568.1  17907.0    544.0  342815.0  0.007593  0.001584  IT-L6+ACA  \n",
       "MA1570.1  17154.0   7236.0  336123.0  0.049324  0.021074  IT-L6+ACA  \n",
       "MA1638.1  15729.0  27371.0  315988.0  0.128297  0.079715  IT-L6+ACA  \n",
       "MA1642.1  16532.0  10990.0  332369.0  0.083795  0.032007  IT-L6+ACA  "
      ]
     },
     "execution_count": 20,
     "metadata": {},
     "output_type": "execute_result"
    }
   ],
   "source": [
    "filtered_motif_df"
   ]
  },
  {
   "cell_type": "code",
   "execution_count": null,
   "metadata": {
    "papermill": {
     "duration": 0.011299,
     "end_time": "2020-01-14T06:48:34.646215",
     "exception": false,
     "start_time": "2020-01-14T06:48:34.634916",
     "status": "completed"
    },
    "tags": []
   },
   "outputs": [],
   "source": []
  }
 ],
 "metadata": {
  "hide_input": false,
  "kernelspec": {
   "display_name": "Python 3",
   "language": "python",
   "name": "python3"
  },
  "language_info": {
   "codemirror_mode": {
    "name": "ipython",
    "version": 3
   },
   "file_extension": ".py",
   "mimetype": "text/x-python",
   "name": "python",
   "nbconvert_exporter": "python",
   "pygments_lexer": "ipython3",
   "version": "3.7.3"
  },
  "papermill": {
   "duration": 11.25901,
   "end_time": "2020-01-14T06:48:35.165345",
   "environment_variables": {},
   "exception": null,
   "input_path": "4.MotifEnrichment.ipynb",
   "output_path": "/home/hanliu/project/mouse_rostral_brain/DMR/ITSpatial_by_layer/IT-L6/Recipe/4.MotifEnrichment.IT-L6+ACA.ipynb",
   "parameters": {
    "dmr_hits_path": "/home/hanliu/project/mouse_rostral_brain/DMR/ITSpatial_by_layer/IT-L6/HypoDMR/IT-L6+ACA.DMS1.bed",
    "group": "IT-L6+ACA",
    "mask_quantile_to99": 0.9,
    "motif_hits_path": "/home/hanliu/project/mouse_rostral_brain/DMR/ITSpatial_by_layer/IT-L6/MotifScan.h5ad",
    "neg_lgp_cutoff": 10,
    "or_cutoff": 1.5,
    "output_dir": "/home/hanliu/project/mouse_rostral_brain/DMR/ITSpatial_by_layer/IT-L6/MotifEnrichment"
   },
   "start_time": "2020-01-14T06:48:23.906335",
   "version": "1.0.1"
  },
  "toc": {
   "base_numbering": 1,
   "nav_menu": {},
   "number_sections": true,
   "sideBar": true,
   "skip_h1_title": true,
   "title_cell": "Table of Contents",
   "title_sidebar": "Contents",
   "toc_cell": false,
   "toc_position": {},
   "toc_section_display": true,
   "toc_window_display": true
  }
 },
 "nbformat": 4,
 "nbformat_minor": 2
}
