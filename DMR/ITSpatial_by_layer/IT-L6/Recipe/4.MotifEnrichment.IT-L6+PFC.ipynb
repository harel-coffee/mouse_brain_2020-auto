{
 "cells": [
  {
   "cell_type": "markdown",
   "metadata": {
    "papermill": {
     "duration": 0.00974,
     "end_time": "2020-01-14T06:49:09.571699",
     "exception": false,
     "start_time": "2020-01-14T06:49:09.561959",
     "status": "completed"
    },
    "tags": []
   },
   "source": [
    "# Motif Enrichment\n",
    "- The motif hits matrix save the max loglikelyhood score of a motif in that DMR\n",
    "- Before run the motif enrichment, I filter the scores for each motif using cutoff defined by\n",
    "    - `np.quantile(motif_score[motif_score > 0]) * mask_quantile_to99`\n",
    "- This filter will remove hits with low score, which is likely to be false positive\n",
    "- Its likely boosting the significance of real enrichment"
   ]
  },
  {
   "cell_type": "code",
   "execution_count": 1,
   "metadata": {
    "ExecuteTime": {
     "end_time": "2020-01-17T05:01:47.556098Z",
     "start_time": "2020-01-17T05:01:46.848191Z"
    },
    "papermill": {
     "duration": 0.704382,
     "end_time": "2020-01-14T06:49:10.286834",
     "exception": false,
     "start_time": "2020-01-14T06:49:09.582452",
     "status": "completed"
    },
    "tags": []
   },
   "outputs": [],
   "source": [
    "from concurrent.futures import ProcessPoolExecutor, as_completed\n",
    "import anndata\n",
    "import matplotlib.pyplot as plt\n",
    "import numpy as np\n",
    "import pandas as pd\n",
    "import pybedtools\n",
    "import scipy.stats as stats\n",
    "import seaborn as sns\n",
    "from scipy.sparse import csr_matrix\n",
    "from statsmodels.stats.multitest import multipletests\n",
    "import pathlib"
   ]
  },
  {
   "cell_type": "code",
   "execution_count": 2,
   "metadata": {
    "ExecuteTime": {
     "end_time": "2020-01-17T05:01:47.561307Z",
     "start_time": "2020-01-17T05:01:47.558389Z"
    },
    "papermill": {
     "duration": 0.015736,
     "end_time": "2020-01-14T06:49:10.313042",
     "exception": false,
     "start_time": "2020-01-14T06:49:10.297306",
     "status": "completed"
    },
    "tags": [
     "parameters"
    ]
   },
   "outputs": [],
   "source": [
    "mask_quantile_to99 = 0.9\n",
    "or_cutoff = 1.5\n",
    "neg_lgp_cutoff = 10\n",
    "group = 'IT-L23+ACA'\n",
    "\n",
    "motif_hits_path = '/home/hanliu/project/mouse_rostral_brain/DMR/ITSpatial_by_layer/IT-L23/MotifScan.h5ad'\n",
    "dmr_hits_path = f'/home/hanliu/project/mouse_rostral_brain/DMR/ITSpatial_by_layer/IT-L23/HypoDMR/{group}.DMS1.bed'\n",
    "output_dir = '/home/hanliu/project/mouse_rostral_brain/DMR/ITSpatial_by_layer/IT-L23/MotifEnrichment'\n"
   ]
  },
  {
   "cell_type": "code",
   "execution_count": 3,
   "metadata": {
    "ExecuteTime": {
     "end_time": "2020-01-17T05:01:47.565230Z",
     "start_time": "2020-01-17T05:01:47.562778Z"
    },
    "papermill": {
     "duration": 0.014773,
     "end_time": "2020-01-14T06:49:10.337618",
     "exception": false,
     "start_time": "2020-01-14T06:49:10.322845",
     "status": "completed"
    },
    "tags": [
     "injected-parameters"
    ]
   },
   "outputs": [],
   "source": [
    "# Parameters\n",
    "mask_quantile_to99 = 0.9\n",
    "or_cutoff = 1.5\n",
    "neg_lgp_cutoff = 10\n",
    "group = \"IT-L6+PFC\"\n",
    "motif_hits_path = \"/home/hanliu/project/mouse_rostral_brain/DMR/ITSpatial_by_layer/IT-L6/MotifScan.h5ad\"\n",
    "dmr_hits_path = \"/home/hanliu/project/mouse_rostral_brain/DMR/ITSpatial_by_layer/IT-L6/HypoDMR/IT-L6+PFC.DMS1.bed\"\n",
    "output_dir = \"/home/hanliu/project/mouse_rostral_brain/DMR/ITSpatial_by_layer/IT-L6/MotifEnrichment\"\n"
   ]
  },
  {
   "cell_type": "code",
   "execution_count": 4,
   "metadata": {
    "ExecuteTime": {
     "end_time": "2020-01-17T05:01:47.568790Z",
     "start_time": "2020-01-17T05:01:47.566572Z"
    },
    "papermill": {
     "duration": 0.014601,
     "end_time": "2020-01-14T06:49:10.361734",
     "exception": false,
     "start_time": "2020-01-14T06:49:10.347133",
     "status": "completed"
    },
    "tags": []
   },
   "outputs": [],
   "source": [
    "output_dir = pathlib.Path(output_dir)\n",
    "output_dir.mkdir(exist_ok=True)"
   ]
  },
  {
   "cell_type": "markdown",
   "metadata": {
    "papermill": {
     "duration": 0.009371,
     "end_time": "2020-01-14T06:49:10.380756",
     "exception": false,
     "start_time": "2020-01-14T06:49:10.371385",
     "status": "completed"
    },
    "tags": []
   },
   "source": [
    "## DMR hits"
   ]
  },
  {
   "cell_type": "code",
   "execution_count": 5,
   "metadata": {
    "ExecuteTime": {
     "end_time": "2020-01-17T05:01:47.599788Z",
     "start_time": "2020-01-17T05:01:47.570107Z"
    },
    "papermill": {
     "duration": 0.05437,
     "end_time": "2020-01-14T06:49:10.444680",
     "exception": false,
     "start_time": "2020-01-14T06:49:10.390310",
     "status": "completed"
    },
    "tags": []
   },
   "outputs": [
    {
     "data": {
      "text/html": [
       "<div>\n",
       "<style scoped>\n",
       "    .dataframe tbody tr th:only-of-type {\n",
       "        vertical-align: middle;\n",
       "    }\n",
       "\n",
       "    .dataframe tbody tr th {\n",
       "        vertical-align: top;\n",
       "    }\n",
       "\n",
       "    .dataframe thead th {\n",
       "        text-align: right;\n",
       "    }\n",
       "</style>\n",
       "<table border=\"1\" class=\"dataframe\">\n",
       "  <thead>\n",
       "    <tr style=\"text-align: right;\">\n",
       "      <th></th>\n",
       "      <th>0</th>\n",
       "      <th>1</th>\n",
       "      <th>2</th>\n",
       "    </tr>\n",
       "    <tr>\n",
       "      <th>3</th>\n",
       "      <th></th>\n",
       "      <th></th>\n",
       "      <th></th>\n",
       "    </tr>\n",
       "  </thead>\n",
       "  <tbody>\n",
       "    <tr>\n",
       "      <th>DGm3c_8</th>\n",
       "      <td>chr1</td>\n",
       "      <td>3217169</td>\n",
       "      <td>3217169</td>\n",
       "    </tr>\n",
       "    <tr>\n",
       "      <th>DGm3c_9</th>\n",
       "      <td>chr1</td>\n",
       "      <td>3217542</td>\n",
       "      <td>3217542</td>\n",
       "    </tr>\n",
       "    <tr>\n",
       "      <th>DGm3c_13</th>\n",
       "      <td>chr1</td>\n",
       "      <td>3297316</td>\n",
       "      <td>3297413</td>\n",
       "    </tr>\n",
       "    <tr>\n",
       "      <th>DGm3c_17</th>\n",
       "      <td>chr1</td>\n",
       "      <td>3324541</td>\n",
       "      <td>3324586</td>\n",
       "    </tr>\n",
       "    <tr>\n",
       "      <th>DGm3c_22</th>\n",
       "      <td>chr1</td>\n",
       "      <td>3361059</td>\n",
       "      <td>3361196</td>\n",
       "    </tr>\n",
       "  </tbody>\n",
       "</table>\n",
       "</div>"
      ],
      "text/plain": [
       "             0        1        2\n",
       "3                               \n",
       "DGm3c_8   chr1  3217169  3217169\n",
       "DGm3c_9   chr1  3217542  3217542\n",
       "DGm3c_13  chr1  3297316  3297413\n",
       "DGm3c_17  chr1  3324541  3324586\n",
       "DGm3c_22  chr1  3361059  3361196"
      ]
     },
     "execution_count": 5,
     "metadata": {},
     "output_type": "execute_result"
    }
   ],
   "source": [
    "dmr_bed_df = pd.read_csv(dmr_hits_path, sep='\\t', header=None, index_col=3)\n",
    "dmr_bed_df.head()"
   ]
  },
  {
   "cell_type": "code",
   "execution_count": 6,
   "metadata": {
    "ExecuteTime": {
     "end_time": "2020-01-17T05:01:48.692063Z",
     "start_time": "2020-01-17T05:01:47.601972Z"
    },
    "papermill": {
     "duration": 1.079077,
     "end_time": "2020-01-14T06:49:11.534613",
     "exception": false,
     "start_time": "2020-01-14T06:49:10.455536",
     "status": "completed"
    },
    "tags": []
   },
   "outputs": [
    {
     "data": {
      "text/plain": [
       "AnnData object with n_obs × n_vars = 20363 × 719 \n",
       "    obs: 'chrom', 'start', 'end'"
      ]
     },
     "execution_count": 6,
     "metadata": {},
     "output_type": "execute_result"
    }
   ],
   "source": [
    "motif_hits = anndata.read_h5ad(motif_hits_path)\n",
    "motif_hits = motif_hits[dmr_bed_df.index, :].copy()\n",
    "motif_ids = motif_hits.var_names\n",
    "motif_hits.X = motif_hits.X.todense()\n",
    "motif_hits"
   ]
  },
  {
   "cell_type": "code",
   "execution_count": 7,
   "metadata": {
    "ExecuteTime": {
     "end_time": "2020-01-17T05:01:49.005699Z",
     "start_time": "2020-01-17T05:01:48.694234Z"
    },
    "papermill": {
     "duration": 0.507692,
     "end_time": "2020-01-14T06:49:12.053706",
     "exception": false,
     "start_time": "2020-01-14T06:49:11.546014",
     "status": "completed"
    },
    "tags": []
   },
   "outputs": [],
   "source": [
    "# mask small motif scores\n",
    "motif_cutoff = pd.Series(np.apply_along_axis(lambda i: np.quantile(i[i>0], 0.99) * mask_quantile_to99, \n",
    "                                             0, motif_hits.X),\n",
    "                         index=motif_hits.var_names)\n",
    "# only keep value larger than the cutoff for each motif\n",
    "motif_hits.X = np.multiply(motif_hits.X, (motif_hits.X > motif_cutoff.values[None, :]))"
   ]
  },
  {
   "cell_type": "markdown",
   "metadata": {
    "papermill": {
     "duration": 0.010046,
     "end_time": "2020-01-14T06:49:12.075087",
     "exception": false,
     "start_time": "2020-01-14T06:49:12.065041",
     "status": "completed"
    },
    "tags": []
   },
   "source": [
    "## Background Hits"
   ]
  },
  {
   "cell_type": "code",
   "execution_count": 8,
   "metadata": {
    "ExecuteTime": {
     "end_time": "2020-01-17T05:01:50.277676Z",
     "start_time": "2020-01-17T05:01:49.007330Z"
    },
    "papermill": {
     "duration": 1.11627,
     "end_time": "2020-01-14T06:49:13.200928",
     "exception": false,
     "start_time": "2020-01-14T06:49:12.084658",
     "status": "completed"
    },
    "tags": []
   },
   "outputs": [],
   "source": [
    "background_motif_hits = anndata.read_h5ad(\n",
    "    '/home/hanliu/project/mouse_rostral_brain/DMR/BackgroundDMR/MotifScan.h5ad'\n",
    ")"
   ]
  },
  {
   "cell_type": "code",
   "execution_count": 9,
   "metadata": {
    "ExecuteTime": {
     "end_time": "2020-01-17T05:01:51.297705Z",
     "start_time": "2020-01-17T05:01:50.279269Z"
    },
    "papermill": {
     "duration": 1.013462,
     "end_time": "2020-01-14T06:49:14.225301",
     "exception": false,
     "start_time": "2020-01-14T06:49:13.211839",
     "status": "completed"
    },
    "tags": []
   },
   "outputs": [],
   "source": [
    "dmr_bed = pybedtools.BedTool().from_dataframe(dmr_bed_df)\n",
    "bg_bed = pybedtools.BedTool().from_dataframe(\n",
    "    background_motif_hits.obs.reset_index().iloc[:, [1, 2, 3, 0]])"
   ]
  },
  {
   "cell_type": "code",
   "execution_count": 10,
   "metadata": {
    "ExecuteTime": {
     "end_time": "2020-01-17T05:01:52.857878Z",
     "start_time": "2020-01-17T05:01:51.299467Z"
    },
    "papermill": {
     "duration": 1.519035,
     "end_time": "2020-01-14T06:49:15.755878",
     "exception": false,
     "start_time": "2020-01-14T06:49:14.236843",
     "status": "completed"
    },
    "tags": []
   },
   "outputs": [],
   "source": [
    "# exclude background that overlap with DMR\n",
    "bg_no_overlap = bg_bed.intersect(dmr_bed, v=True)\n",
    "use_bg = bg_no_overlap.to_dataframe().iloc[:, -1].values\n",
    "background_motif_hits = background_motif_hits[use_bg, :]\n",
    "\n",
    "# make sure col in same order\n",
    "background_motif_hits = background_motif_hits[:, motif_ids].copy()"
   ]
  },
  {
   "cell_type": "code",
   "execution_count": 11,
   "metadata": {
    "ExecuteTime": {
     "end_time": "2020-01-17T05:01:55.303745Z",
     "start_time": "2020-01-17T05:01:52.859798Z"
    },
    "papermill": {
     "duration": 2.213613,
     "end_time": "2020-01-14T06:49:17.980409",
     "exception": false,
     "start_time": "2020-01-14T06:49:15.766796",
     "status": "completed"
    },
    "tags": []
   },
   "outputs": [],
   "source": [
    "judge_matrix = csr_matrix(background_motif_hits.X > motif_cutoff.values[None, :])\n",
    "background_motif_hits.X = background_motif_hits.X.multiply(judge_matrix)"
   ]
  },
  {
   "cell_type": "code",
   "execution_count": 12,
   "metadata": {
    "ExecuteTime": {
     "end_time": "2020-01-17T05:01:55.379731Z",
     "start_time": "2020-01-17T05:01:55.374030Z"
    },
    "papermill": {
     "duration": 0.017218,
     "end_time": "2020-01-14T06:49:18.008609",
     "exception": false,
     "start_time": "2020-01-14T06:49:17.991391",
     "status": "completed"
    },
    "tags": []
   },
   "outputs": [
    {
     "data": {
      "text/plain": [
       "AnnData object with n_obs × n_vars = 343002 × 719 \n",
       "    obs: 'chrom', 'start', 'end'"
      ]
     },
     "execution_count": 12,
     "metadata": {},
     "output_type": "execute_result"
    }
   ],
   "source": [
    "background_motif_hits"
   ]
  },
  {
   "cell_type": "markdown",
   "metadata": {
    "papermill": {
     "duration": 0.010122,
     "end_time": "2020-01-14T06:49:18.028937",
     "exception": false,
     "start_time": "2020-01-14T06:49:18.018815",
     "status": "completed"
    },
    "tags": []
   },
   "source": [
    "## Motif hits contingency table"
   ]
  },
  {
   "cell_type": "code",
   "execution_count": 13,
   "metadata": {
    "ExecuteTime": {
     "end_time": "2020-01-17T05:01:55.567008Z",
     "start_time": "2020-01-17T05:01:55.381151Z"
    },
    "papermill": {
     "duration": 0.189477,
     "end_time": "2020-01-14T06:49:18.228447",
     "exception": false,
     "start_time": "2020-01-14T06:49:18.038970",
     "status": "completed"
    },
    "tags": []
   },
   "outputs": [],
   "source": [
    "# calculate motif occurence, not considering hits here\n",
    "pos = (motif_hits.X > 0).sum(axis=0)\n",
    "pos_total = motif_hits.shape[0]\n",
    "\n",
    "neg = (background_motif_hits.X > 0).sum(axis=0)\n",
    "neg_total = background_motif_hits.shape[0]"
   ]
  },
  {
   "cell_type": "code",
   "execution_count": 14,
   "metadata": {
    "ExecuteTime": {
     "end_time": "2020-01-17T05:01:55.573224Z",
     "start_time": "2020-01-17T05:01:55.568581Z"
    },
    "papermill": {
     "duration": 0.063905,
     "end_time": "2020-01-14T06:49:18.303445",
     "exception": false,
     "start_time": "2020-01-14T06:49:18.239540",
     "status": "completed"
    },
    "scrolled": true,
    "tags": []
   },
   "outputs": [],
   "source": [
    "tables = {}\n",
    "for motif, _pos, _neg in zip(motif_ids, pos.A1, neg.A1):\n",
    "    table = [[_pos, pos_total - _pos], [_neg, neg_total - _neg]]\n",
    "    tables[motif] = table"
   ]
  },
  {
   "cell_type": "code",
   "execution_count": 15,
   "metadata": {
    "ExecuteTime": {
     "end_time": "2020-01-17T05:01:56.049806Z",
     "start_time": "2020-01-17T05:01:55.574591Z"
    },
    "papermill": {
     "duration": 0.693229,
     "end_time": "2020-01-14T06:49:19.006898",
     "exception": false,
     "start_time": "2020-01-14T06:49:18.313669",
     "status": "completed"
    },
    "tags": []
   },
   "outputs": [],
   "source": [
    "results = {}\n",
    "with ProcessPoolExecutor(20) as executor:\n",
    "    fs = {}\n",
    "    for motif, t in tables.items():\n",
    "        f = executor.submit(stats.fisher_exact, t, alternative='greater')\n",
    "        fs[f] = motif\n",
    "\n",
    "    for f in as_completed(fs):\n",
    "        motif = fs[f]\n",
    "        odds, p = f.result()\n",
    "        results[motif] = {'oddsratio': odds, 'p_value': p}\n",
    "motif_enrich_df = pd.DataFrame(results).T\n",
    "\n",
    "_, p, _, _ = multipletests(motif_enrich_df['p_value'], method='fdr_bh')\n",
    "motif_enrich_df['adj_p'] = p\n",
    "\n",
    "motif_enrich_df['-lgp'] = -np.log10(motif_enrich_df['adj_p']).replace(\n",
    "    -np.inf, -300)\n",
    "\n",
    "records = {}\n",
    "for motif, t in tables.items():\n",
    "    tp, tn = t[0]\n",
    "    fp, fn = t[1]\n",
    "    tp_rate = tp / pos_total\n",
    "    fp_rate = fp / neg_total\n",
    "    records[motif] = dict(tp=tp,\n",
    "                          tn=tn,\n",
    "                          fp=fp,\n",
    "                          fn=fn,\n",
    "                          tp_rate=tp_rate,\n",
    "                          fp_rate=fp_rate)\n",
    "counts = pd.DataFrame(records).T\n",
    "motif_enrich_df = pd.concat([motif_enrich_df, counts], axis=1, sort=True)"
   ]
  },
  {
   "cell_type": "code",
   "execution_count": 16,
   "metadata": {
    "ExecuteTime": {
     "end_time": "2020-01-17T05:01:56.054660Z",
     "start_time": "2020-01-17T05:01:56.051519Z"
    },
    "papermill": {
     "duration": 0.016508,
     "end_time": "2020-01-14T06:49:19.034743",
     "exception": false,
     "start_time": "2020-01-14T06:49:19.018235",
     "status": "completed"
    },
    "tags": []
   },
   "outputs": [],
   "source": [
    "motif_enrich_df['Group'] = group"
   ]
  },
  {
   "cell_type": "code",
   "execution_count": 17,
   "metadata": {
    "ExecuteTime": {
     "end_time": "2020-01-17T05:01:56.062123Z",
     "start_time": "2020-01-17T05:01:56.056098Z"
    },
    "papermill": {
     "duration": 0.019186,
     "end_time": "2020-01-14T06:49:19.064123",
     "exception": false,
     "start_time": "2020-01-14T06:49:19.044937",
     "status": "completed"
    },
    "tags": []
   },
   "outputs": [
    {
     "data": {
      "text/plain": [
       "32"
      ]
     },
     "execution_count": 17,
     "metadata": {},
     "output_type": "execute_result"
    }
   ],
   "source": [
    "# final filter\n",
    "filtered_motif_df = motif_enrich_df[(motif_enrich_df['oddsratio'] > or_cutoff)\n",
    "                                    &\n",
    "                                    (motif_enrich_df['-lgp'] > neg_lgp_cutoff)]\n",
    "filtered_motif_df.shape[0]"
   ]
  },
  {
   "cell_type": "code",
   "execution_count": 18,
   "metadata": {
    "ExecuteTime": {
     "end_time": "2020-01-17T05:01:56.067545Z",
     "start_time": "2020-01-17T05:01:56.063389Z"
    },
    "papermill": {
     "duration": 0.017153,
     "end_time": "2020-01-14T06:49:19.091558",
     "exception": false,
     "start_time": "2020-01-14T06:49:19.074405",
     "status": "completed"
    },
    "tags": []
   },
   "outputs": [
    {
     "name": "stderr",
     "output_type": "stream",
     "text": [
      "/home/hanliu/miniconda3/envs/clustering/lib/python3.7/site-packages/ipykernel_launcher.py:1: FutureWarning: to_msgpack is deprecated and will be removed in a future version.\n",
      "It is recommended to use pyarrow for on-the-wire transmission of pandas objects.\n",
      "  \"\"\"Entry point for launching an IPython kernel.\n"
     ]
    }
   ],
   "source": [
    "motif_enrich_df.to_msgpack(output_dir / f'{group}.motif_enrichment.msg')"
   ]
  },
  {
   "cell_type": "code",
   "execution_count": 19,
   "metadata": {
    "ExecuteTime": {
     "end_time": "2020-01-17T05:01:56.076930Z",
     "start_time": "2020-01-17T05:01:56.068791Z"
    },
    "papermill": {
     "duration": 0.021373,
     "end_time": "2020-01-14T06:49:19.123607",
     "exception": false,
     "start_time": "2020-01-14T06:49:19.102234",
     "status": "completed"
    },
    "tags": []
   },
   "outputs": [],
   "source": [
    "pybedtools.cleanup()"
   ]
  },
  {
   "cell_type": "code",
   "execution_count": 20,
   "metadata": {
    "ExecuteTime": {
     "end_time": "2020-01-17T05:01:56.097997Z",
     "start_time": "2020-01-17T05:01:56.078179Z"
    },
    "papermill": {
     "duration": 0.03356,
     "end_time": "2020-01-14T06:49:19.168610",
     "exception": false,
     "start_time": "2020-01-14T06:49:19.135050",
     "status": "completed"
    },
    "tags": []
   },
   "outputs": [
    {
     "data": {
      "text/html": [
       "<div>\n",
       "<style scoped>\n",
       "    .dataframe tbody tr th:only-of-type {\n",
       "        vertical-align: middle;\n",
       "    }\n",
       "\n",
       "    .dataframe tbody tr th {\n",
       "        vertical-align: top;\n",
       "    }\n",
       "\n",
       "    .dataframe thead th {\n",
       "        text-align: right;\n",
       "    }\n",
       "</style>\n",
       "<table border=\"1\" class=\"dataframe\">\n",
       "  <thead>\n",
       "    <tr style=\"text-align: right;\">\n",
       "      <th></th>\n",
       "      <th>oddsratio</th>\n",
       "      <th>p_value</th>\n",
       "      <th>adj_p</th>\n",
       "      <th>-lgp</th>\n",
       "      <th>tp</th>\n",
       "      <th>tn</th>\n",
       "      <th>fp</th>\n",
       "      <th>fn</th>\n",
       "      <th>tp_rate</th>\n",
       "      <th>fp_rate</th>\n",
       "      <th>Group</th>\n",
       "    </tr>\n",
       "  </thead>\n",
       "  <tbody>\n",
       "    <tr>\n",
       "      <th>MA0040.1</th>\n",
       "      <td>1.632701</td>\n",
       "      <td>3.035810e-19</td>\n",
       "      <td>6.236421e-18</td>\n",
       "      <td>17.205065</td>\n",
       "      <td>420.0</td>\n",
       "      <td>19943.0</td>\n",
       "      <td>4368.0</td>\n",
       "      <td>338634.0</td>\n",
       "      <td>0.020626</td>\n",
       "      <td>0.012735</td>\n",
       "      <td>IT-L6+PFC</td>\n",
       "    </tr>\n",
       "    <tr>\n",
       "      <th>MA0052.4</th>\n",
       "      <td>1.740122</td>\n",
       "      <td>8.630985e-23</td>\n",
       "      <td>1.880509e-21</td>\n",
       "      <td>20.725725</td>\n",
       "      <td>404.0</td>\n",
       "      <td>19959.0</td>\n",
       "      <td>3944.0</td>\n",
       "      <td>339058.0</td>\n",
       "      <td>0.019840</td>\n",
       "      <td>0.011498</td>\n",
       "      <td>IT-L6+PFC</td>\n",
       "    </tr>\n",
       "    <tr>\n",
       "      <th>MA0084.1</th>\n",
       "      <td>1.569345</td>\n",
       "      <td>4.402062e-39</td>\n",
       "      <td>1.172253e-37</td>\n",
       "      <td>36.930979</td>\n",
       "      <td>1077.0</td>\n",
       "      <td>19286.0</td>\n",
       "      <td>11786.0</td>\n",
       "      <td>331216.0</td>\n",
       "      <td>0.052890</td>\n",
       "      <td>0.034361</td>\n",
       "      <td>IT-L6+PFC</td>\n",
       "    </tr>\n",
       "    <tr>\n",
       "      <th>MA0091.1</th>\n",
       "      <td>2.763316</td>\n",
       "      <td>4.448148e-60</td>\n",
       "      <td>1.453736e-58</td>\n",
       "      <td>57.837515</td>\n",
       "      <td>387.0</td>\n",
       "      <td>19976.0</td>\n",
       "      <td>2388.0</td>\n",
       "      <td>340614.0</td>\n",
       "      <td>0.019005</td>\n",
       "      <td>0.006962</td>\n",
       "      <td>IT-L6+PFC</td>\n",
       "    </tr>\n",
       "    <tr>\n",
       "      <th>MA0461.2</th>\n",
       "      <td>4.618911</td>\n",
       "      <td>7.127208e-233</td>\n",
       "      <td>1.281116e-230</td>\n",
       "      <td>229.892412</td>\n",
       "      <td>801.0</td>\n",
       "      <td>19562.0</td>\n",
       "      <td>3014.0</td>\n",
       "      <td>339988.0</td>\n",
       "      <td>0.039336</td>\n",
       "      <td>0.008787</td>\n",
       "      <td>IT-L6+PFC</td>\n",
       "    </tr>\n",
       "    <tr>\n",
       "      <th>MA0497.1</th>\n",
       "      <td>1.730629</td>\n",
       "      <td>4.054950e-23</td>\n",
       "      <td>9.404867e-22</td>\n",
       "      <td>21.026647</td>\n",
       "      <td>418.0</td>\n",
       "      <td>19945.0</td>\n",
       "      <td>4104.0</td>\n",
       "      <td>338898.0</td>\n",
       "      <td>0.020527</td>\n",
       "      <td>0.011965</td>\n",
       "      <td>IT-L6+PFC</td>\n",
       "    </tr>\n",
       "    <tr>\n",
       "      <th>MA0509.2</th>\n",
       "      <td>4.247460</td>\n",
       "      <td>8.466360e-70</td>\n",
       "      <td>3.381841e-68</td>\n",
       "      <td>67.470847</td>\n",
       "      <td>254.0</td>\n",
       "      <td>20109.0</td>\n",
       "      <td>1017.0</td>\n",
       "      <td>341985.0</td>\n",
       "      <td>0.012474</td>\n",
       "      <td>0.002965</td>\n",
       "      <td>IT-L6+PFC</td>\n",
       "    </tr>\n",
       "    <tr>\n",
       "      <th>MA0510.2</th>\n",
       "      <td>4.250527</td>\n",
       "      <td>4.934695e-23</td>\n",
       "      <td>1.108764e-21</td>\n",
       "      <td>20.955161</td>\n",
       "      <td>79.0</td>\n",
       "      <td>20284.0</td>\n",
       "      <td>314.0</td>\n",
       "      <td>342688.0</td>\n",
       "      <td>0.003880</td>\n",
       "      <td>0.000915</td>\n",
       "      <td>IT-L6+PFC</td>\n",
       "    </tr>\n",
       "    <tr>\n",
       "      <th>MA0600.2</th>\n",
       "      <td>3.733658</td>\n",
       "      <td>2.570968e-17</td>\n",
       "      <td>4.996016e-16</td>\n",
       "      <td>15.301376</td>\n",
       "      <td>67.0</td>\n",
       "      <td>20296.0</td>\n",
       "      <td>303.0</td>\n",
       "      <td>342699.0</td>\n",
       "      <td>0.003290</td>\n",
       "      <td>0.000883</td>\n",
       "      <td>IT-L6+PFC</td>\n",
       "    </tr>\n",
       "    <tr>\n",
       "      <th>MA0607.1</th>\n",
       "      <td>2.788436</td>\n",
       "      <td>6.788551e-275</td>\n",
       "      <td>4.880968e-272</td>\n",
       "      <td>271.311494</td>\n",
       "      <td>1866.0</td>\n",
       "      <td>18497.0</td>\n",
       "      <td>11976.0</td>\n",
       "      <td>331026.0</td>\n",
       "      <td>0.091637</td>\n",
       "      <td>0.034915</td>\n",
       "      <td>IT-L6+PFC</td>\n",
       "    </tr>\n",
       "    <tr>\n",
       "      <th>MA0619.1</th>\n",
       "      <td>1.753366</td>\n",
       "      <td>1.721073e-151</td>\n",
       "      <td>1.374946e-149</td>\n",
       "      <td>148.861714</td>\n",
       "      <td>3137.0</td>\n",
       "      <td>17226.0</td>\n",
       "      <td>32273.0</td>\n",
       "      <td>310729.0</td>\n",
       "      <td>0.154054</td>\n",
       "      <td>0.094090</td>\n",
       "      <td>IT-L6+PFC</td>\n",
       "    </tr>\n",
       "    <tr>\n",
       "      <th>MA0623.2</th>\n",
       "      <td>4.093404</td>\n",
       "      <td>3.256343e-151</td>\n",
       "      <td>2.341311e-149</td>\n",
       "      <td>148.630541</td>\n",
       "      <td>586.0</td>\n",
       "      <td>19777.0</td>\n",
       "      <td>2465.0</td>\n",
       "      <td>340537.0</td>\n",
       "      <td>0.028778</td>\n",
       "      <td>0.007187</td>\n",
       "      <td>IT-L6+PFC</td>\n",
       "    </tr>\n",
       "    <tr>\n",
       "      <th>MA0625.1</th>\n",
       "      <td>1.574102</td>\n",
       "      <td>4.110674e-39</td>\n",
       "      <td>1.136760e-37</td>\n",
       "      <td>36.944331</td>\n",
       "      <td>1064.0</td>\n",
       "      <td>19299.0</td>\n",
       "      <td>11607.0</td>\n",
       "      <td>331395.0</td>\n",
       "      <td>0.052252</td>\n",
       "      <td>0.033839</td>\n",
       "      <td>IT-L6+PFC</td>\n",
       "    </tr>\n",
       "    <tr>\n",
       "      <th>MA0633.1</th>\n",
       "      <td>3.663389</td>\n",
       "      <td>9.956230e-164</td>\n",
       "      <td>8.948162e-162</td>\n",
       "      <td>161.048266</td>\n",
       "      <td>726.0</td>\n",
       "      <td>19637.0</td>\n",
       "      <td>3427.0</td>\n",
       "      <td>339575.0</td>\n",
       "      <td>0.035653</td>\n",
       "      <td>0.009991</td>\n",
       "      <td>IT-L6+PFC</td>\n",
       "    </tr>\n",
       "    <tr>\n",
       "      <th>MA0668.1</th>\n",
       "      <td>5.100344</td>\n",
       "      <td>3.717391e-150</td>\n",
       "      <td>2.429822e-148</td>\n",
       "      <td>147.614426</td>\n",
       "      <td>464.0</td>\n",
       "      <td>19899.0</td>\n",
       "      <td>1561.0</td>\n",
       "      <td>341441.0</td>\n",
       "      <td>0.022786</td>\n",
       "      <td>0.004551</td>\n",
       "      <td>IT-L6+PFC</td>\n",
       "    </tr>\n",
       "    <tr>\n",
       "      <th>MA0669.1</th>\n",
       "      <td>4.044621</td>\n",
       "      <td>7.418675e-88</td>\n",
       "      <td>3.137663e-86</td>\n",
       "      <td>85.503394</td>\n",
       "      <td>340.0</td>\n",
       "      <td>20023.0</td>\n",
       "      <td>1434.0</td>\n",
       "      <td>341568.0</td>\n",
       "      <td>0.016697</td>\n",
       "      <td>0.004181</td>\n",
       "      <td>IT-L6+PFC</td>\n",
       "    </tr>\n",
       "    <tr>\n",
       "      <th>MA0678.1</th>\n",
       "      <td>6.749965</td>\n",
       "      <td>1.554013e-167</td>\n",
       "      <td>1.596193e-165</td>\n",
       "      <td>164.796915</td>\n",
       "      <td>410.0</td>\n",
       "      <td>19953.0</td>\n",
       "      <td>1041.0</td>\n",
       "      <td>341961.0</td>\n",
       "      <td>0.020135</td>\n",
       "      <td>0.003035</td>\n",
       "      <td>IT-L6+PFC</td>\n",
       "    </tr>\n",
       "    <tr>\n",
       "      <th>MA0798.2</th>\n",
       "      <td>4.358644</td>\n",
       "      <td>9.227981e-64</td>\n",
       "      <td>3.317459e-62</td>\n",
       "      <td>61.479194</td>\n",
       "      <td>225.0</td>\n",
       "      <td>20138.0</td>\n",
       "      <td>877.0</td>\n",
       "      <td>342125.0</td>\n",
       "      <td>0.011049</td>\n",
       "      <td>0.002557</td>\n",
       "      <td>IT-L6+PFC</td>\n",
       "    </tr>\n",
       "    <tr>\n",
       "      <th>MA0799.1</th>\n",
       "      <td>3.994785</td>\n",
       "      <td>1.118638e-32</td>\n",
       "      <td>2.773450e-31</td>\n",
       "      <td>30.556980</td>\n",
       "      <td>123.0</td>\n",
       "      <td>20240.0</td>\n",
       "      <td>521.0</td>\n",
       "      <td>342481.0</td>\n",
       "      <td>0.006040</td>\n",
       "      <td>0.001519</td>\n",
       "      <td>IT-L6+PFC</td>\n",
       "    </tr>\n",
       "    <tr>\n",
       "      <th>MA0817.1</th>\n",
       "      <td>6.024166</td>\n",
       "      <td>1.234277e-105</td>\n",
       "      <td>5.916299e-104</td>\n",
       "      <td>103.227950</td>\n",
       "      <td>280.0</td>\n",
       "      <td>20083.0</td>\n",
       "      <td>792.0</td>\n",
       "      <td>342210.0</td>\n",
       "      <td>0.013750</td>\n",
       "      <td>0.002309</td>\n",
       "      <td>IT-L6+PFC</td>\n",
       "    </tr>\n",
       "    <tr>\n",
       "      <th>MA0818.1</th>\n",
       "      <td>5.034896</td>\n",
       "      <td>3.046821e-243</td>\n",
       "      <td>1.095332e-240</td>\n",
       "      <td>239.960454</td>\n",
       "      <td>769.0</td>\n",
       "      <td>19594.0</td>\n",
       "      <td>2653.0</td>\n",
       "      <td>340349.0</td>\n",
       "      <td>0.037765</td>\n",
       "      <td>0.007735</td>\n",
       "      <td>IT-L6+PFC</td>\n",
       "    </tr>\n",
       "    <tr>\n",
       "      <th>MA0826.1</th>\n",
       "      <td>6.098016</td>\n",
       "      <td>1.434167e-144</td>\n",
       "      <td>8.593049e-143</td>\n",
       "      <td>142.065853</td>\n",
       "      <td>382.0</td>\n",
       "      <td>19981.0</td>\n",
       "      <td>1072.0</td>\n",
       "      <td>341930.0</td>\n",
       "      <td>0.018760</td>\n",
       "      <td>0.003125</td>\n",
       "      <td>IT-L6+PFC</td>\n",
       "    </tr>\n",
       "    <tr>\n",
       "      <th>MA0827.1</th>\n",
       "      <td>5.662164</td>\n",
       "      <td>3.319095e-205</td>\n",
       "      <td>4.772859e-203</td>\n",
       "      <td>202.321221</td>\n",
       "      <td>581.0</td>\n",
       "      <td>19782.0</td>\n",
       "      <td>1770.0</td>\n",
       "      <td>341232.0</td>\n",
       "      <td>0.028532</td>\n",
       "      <td>0.005160</td>\n",
       "      <td>IT-L6+PFC</td>\n",
       "    </tr>\n",
       "    <tr>\n",
       "      <th>MA1109.1</th>\n",
       "      <td>2.546652</td>\n",
       "      <td>2.888050e-118</td>\n",
       "      <td>1.483220e-116</td>\n",
       "      <td>115.828794</td>\n",
       "      <td>906.0</td>\n",
       "      <td>19457.0</td>\n",
       "      <td>6159.0</td>\n",
       "      <td>336843.0</td>\n",
       "      <td>0.044492</td>\n",
       "      <td>0.017956</td>\n",
       "      <td>IT-L6+PFC</td>\n",
       "    </tr>\n",
       "    <tr>\n",
       "      <th>MA1468.1</th>\n",
       "      <td>4.679733</td>\n",
       "      <td>3.238147e-236</td>\n",
       "      <td>7.760759e-234</td>\n",
       "      <td>233.110096</td>\n",
       "      <td>802.0</td>\n",
       "      <td>19561.0</td>\n",
       "      <td>2979.0</td>\n",
       "      <td>340023.0</td>\n",
       "      <td>0.039385</td>\n",
       "      <td>0.008685</td>\n",
       "      <td>IT-L6+PFC</td>\n",
       "    </tr>\n",
       "    <tr>\n",
       "      <th>MA1478.1</th>\n",
       "      <td>1.802855</td>\n",
       "      <td>1.351324e-14</td>\n",
       "      <td>2.491286e-13</td>\n",
       "      <td>12.603576</td>\n",
       "      <td>219.0</td>\n",
       "      <td>20144.0</td>\n",
       "      <td>2056.0</td>\n",
       "      <td>340946.0</td>\n",
       "      <td>0.010755</td>\n",
       "      <td>0.005994</td>\n",
       "      <td>IT-L6+PFC</td>\n",
       "    </tr>\n",
       "    <tr>\n",
       "      <th>MA1479.1</th>\n",
       "      <td>1.958754</td>\n",
       "      <td>3.717145e-12</td>\n",
       "      <td>6.518604e-11</td>\n",
       "      <td>10.185845</td>\n",
       "      <td>140.0</td>\n",
       "      <td>20223.0</td>\n",
       "      <td>1208.0</td>\n",
       "      <td>341794.0</td>\n",
       "      <td>0.006875</td>\n",
       "      <td>0.003522</td>\n",
       "      <td>IT-L6+PFC</td>\n",
       "    </tr>\n",
       "    <tr>\n",
       "      <th>MA1524.1</th>\n",
       "      <td>2.329032</td>\n",
       "      <td>1.778868e-53</td>\n",
       "      <td>5.329192e-52</td>\n",
       "      <td>51.273339</td>\n",
       "      <td>471.0</td>\n",
       "      <td>19892.0</td>\n",
       "      <td>3452.0</td>\n",
       "      <td>339550.0</td>\n",
       "      <td>0.023130</td>\n",
       "      <td>0.010064</td>\n",
       "      <td>IT-L6+PFC</td>\n",
       "    </tr>\n",
       "    <tr>\n",
       "      <th>MA1568.1</th>\n",
       "      <td>5.568782</td>\n",
       "      <td>3.223635e-67</td>\n",
       "      <td>1.219891e-65</td>\n",
       "      <td>64.913679</td>\n",
       "      <td>188.0</td>\n",
       "      <td>20175.0</td>\n",
       "      <td>573.0</td>\n",
       "      <td>342429.0</td>\n",
       "      <td>0.009232</td>\n",
       "      <td>0.001671</td>\n",
       "      <td>IT-L6+PFC</td>\n",
       "    </tr>\n",
       "    <tr>\n",
       "      <th>MA1570.1</th>\n",
       "      <td>2.524514</td>\n",
       "      <td>6.503795e-134</td>\n",
       "      <td>3.597099e-132</td>\n",
       "      <td>131.444048</td>\n",
       "      <td>1049.0</td>\n",
       "      <td>19314.0</td>\n",
       "      <td>7224.0</td>\n",
       "      <td>335778.0</td>\n",
       "      <td>0.051515</td>\n",
       "      <td>0.021061</td>\n",
       "      <td>IT-L6+PFC</td>\n",
       "    </tr>\n",
       "    <tr>\n",
       "      <th>MA1638.1</th>\n",
       "      <td>1.610469</td>\n",
       "      <td>7.007208e-92</td>\n",
       "      <td>3.148864e-90</td>\n",
       "      <td>89.501846</td>\n",
       "      <td>2491.0</td>\n",
       "      <td>17872.0</td>\n",
       "      <td>27321.0</td>\n",
       "      <td>315681.0</td>\n",
       "      <td>0.122330</td>\n",
       "      <td>0.079653</td>\n",
       "      <td>IT-L6+PFC</td>\n",
       "    </tr>\n",
       "    <tr>\n",
       "      <th>MA1642.1</th>\n",
       "      <td>2.501469</td>\n",
       "      <td>3.013814e-189</td>\n",
       "      <td>3.611554e-187</td>\n",
       "      <td>186.442306</td>\n",
       "      <td>1537.0</td>\n",
       "      <td>18826.0</td>\n",
       "      <td>10841.0</td>\n",
       "      <td>332161.0</td>\n",
       "      <td>0.075480</td>\n",
       "      <td>0.031606</td>\n",
       "      <td>IT-L6+PFC</td>\n",
       "    </tr>\n",
       "  </tbody>\n",
       "</table>\n",
       "</div>"
      ],
      "text/plain": [
       "          oddsratio        p_value          adj_p        -lgp      tp  \\\n",
       "MA0040.1   1.632701   3.035810e-19   6.236421e-18   17.205065   420.0   \n",
       "MA0052.4   1.740122   8.630985e-23   1.880509e-21   20.725725   404.0   \n",
       "MA0084.1   1.569345   4.402062e-39   1.172253e-37   36.930979  1077.0   \n",
       "MA0091.1   2.763316   4.448148e-60   1.453736e-58   57.837515   387.0   \n",
       "MA0461.2   4.618911  7.127208e-233  1.281116e-230  229.892412   801.0   \n",
       "MA0497.1   1.730629   4.054950e-23   9.404867e-22   21.026647   418.0   \n",
       "MA0509.2   4.247460   8.466360e-70   3.381841e-68   67.470847   254.0   \n",
       "MA0510.2   4.250527   4.934695e-23   1.108764e-21   20.955161    79.0   \n",
       "MA0600.2   3.733658   2.570968e-17   4.996016e-16   15.301376    67.0   \n",
       "MA0607.1   2.788436  6.788551e-275  4.880968e-272  271.311494  1866.0   \n",
       "MA0619.1   1.753366  1.721073e-151  1.374946e-149  148.861714  3137.0   \n",
       "MA0623.2   4.093404  3.256343e-151  2.341311e-149  148.630541   586.0   \n",
       "MA0625.1   1.574102   4.110674e-39   1.136760e-37   36.944331  1064.0   \n",
       "MA0633.1   3.663389  9.956230e-164  8.948162e-162  161.048266   726.0   \n",
       "MA0668.1   5.100344  3.717391e-150  2.429822e-148  147.614426   464.0   \n",
       "MA0669.1   4.044621   7.418675e-88   3.137663e-86   85.503394   340.0   \n",
       "MA0678.1   6.749965  1.554013e-167  1.596193e-165  164.796915   410.0   \n",
       "MA0798.2   4.358644   9.227981e-64   3.317459e-62   61.479194   225.0   \n",
       "MA0799.1   3.994785   1.118638e-32   2.773450e-31   30.556980   123.0   \n",
       "MA0817.1   6.024166  1.234277e-105  5.916299e-104  103.227950   280.0   \n",
       "MA0818.1   5.034896  3.046821e-243  1.095332e-240  239.960454   769.0   \n",
       "MA0826.1   6.098016  1.434167e-144  8.593049e-143  142.065853   382.0   \n",
       "MA0827.1   5.662164  3.319095e-205  4.772859e-203  202.321221   581.0   \n",
       "MA1109.1   2.546652  2.888050e-118  1.483220e-116  115.828794   906.0   \n",
       "MA1468.1   4.679733  3.238147e-236  7.760759e-234  233.110096   802.0   \n",
       "MA1478.1   1.802855   1.351324e-14   2.491286e-13   12.603576   219.0   \n",
       "MA1479.1   1.958754   3.717145e-12   6.518604e-11   10.185845   140.0   \n",
       "MA1524.1   2.329032   1.778868e-53   5.329192e-52   51.273339   471.0   \n",
       "MA1568.1   5.568782   3.223635e-67   1.219891e-65   64.913679   188.0   \n",
       "MA1570.1   2.524514  6.503795e-134  3.597099e-132  131.444048  1049.0   \n",
       "MA1638.1   1.610469   7.007208e-92   3.148864e-90   89.501846  2491.0   \n",
       "MA1642.1   2.501469  3.013814e-189  3.611554e-187  186.442306  1537.0   \n",
       "\n",
       "               tn       fp        fn   tp_rate   fp_rate      Group  \n",
       "MA0040.1  19943.0   4368.0  338634.0  0.020626  0.012735  IT-L6+PFC  \n",
       "MA0052.4  19959.0   3944.0  339058.0  0.019840  0.011498  IT-L6+PFC  \n",
       "MA0084.1  19286.0  11786.0  331216.0  0.052890  0.034361  IT-L6+PFC  \n",
       "MA0091.1  19976.0   2388.0  340614.0  0.019005  0.006962  IT-L6+PFC  \n",
       "MA0461.2  19562.0   3014.0  339988.0  0.039336  0.008787  IT-L6+PFC  \n",
       "MA0497.1  19945.0   4104.0  338898.0  0.020527  0.011965  IT-L6+PFC  \n",
       "MA0509.2  20109.0   1017.0  341985.0  0.012474  0.002965  IT-L6+PFC  \n",
       "MA0510.2  20284.0    314.0  342688.0  0.003880  0.000915  IT-L6+PFC  \n",
       "MA0600.2  20296.0    303.0  342699.0  0.003290  0.000883  IT-L6+PFC  \n",
       "MA0607.1  18497.0  11976.0  331026.0  0.091637  0.034915  IT-L6+PFC  \n",
       "MA0619.1  17226.0  32273.0  310729.0  0.154054  0.094090  IT-L6+PFC  \n",
       "MA0623.2  19777.0   2465.0  340537.0  0.028778  0.007187  IT-L6+PFC  \n",
       "MA0625.1  19299.0  11607.0  331395.0  0.052252  0.033839  IT-L6+PFC  \n",
       "MA0633.1  19637.0   3427.0  339575.0  0.035653  0.009991  IT-L6+PFC  \n",
       "MA0668.1  19899.0   1561.0  341441.0  0.022786  0.004551  IT-L6+PFC  \n",
       "MA0669.1  20023.0   1434.0  341568.0  0.016697  0.004181  IT-L6+PFC  \n",
       "MA0678.1  19953.0   1041.0  341961.0  0.020135  0.003035  IT-L6+PFC  \n",
       "MA0798.2  20138.0    877.0  342125.0  0.011049  0.002557  IT-L6+PFC  \n",
       "MA0799.1  20240.0    521.0  342481.0  0.006040  0.001519  IT-L6+PFC  \n",
       "MA0817.1  20083.0    792.0  342210.0  0.013750  0.002309  IT-L6+PFC  \n",
       "MA0818.1  19594.0   2653.0  340349.0  0.037765  0.007735  IT-L6+PFC  \n",
       "MA0826.1  19981.0   1072.0  341930.0  0.018760  0.003125  IT-L6+PFC  \n",
       "MA0827.1  19782.0   1770.0  341232.0  0.028532  0.005160  IT-L6+PFC  \n",
       "MA1109.1  19457.0   6159.0  336843.0  0.044492  0.017956  IT-L6+PFC  \n",
       "MA1468.1  19561.0   2979.0  340023.0  0.039385  0.008685  IT-L6+PFC  \n",
       "MA1478.1  20144.0   2056.0  340946.0  0.010755  0.005994  IT-L6+PFC  \n",
       "MA1479.1  20223.0   1208.0  341794.0  0.006875  0.003522  IT-L6+PFC  \n",
       "MA1524.1  19892.0   3452.0  339550.0  0.023130  0.010064  IT-L6+PFC  \n",
       "MA1568.1  20175.0    573.0  342429.0  0.009232  0.001671  IT-L6+PFC  \n",
       "MA1570.1  19314.0   7224.0  335778.0  0.051515  0.021061  IT-L6+PFC  \n",
       "MA1638.1  17872.0  27321.0  315681.0  0.122330  0.079653  IT-L6+PFC  \n",
       "MA1642.1  18826.0  10841.0  332161.0  0.075480  0.031606  IT-L6+PFC  "
      ]
     },
     "execution_count": 20,
     "metadata": {},
     "output_type": "execute_result"
    }
   ],
   "source": [
    "filtered_motif_df"
   ]
  },
  {
   "cell_type": "code",
   "execution_count": null,
   "metadata": {
    "papermill": {
     "duration": 0.011169,
     "end_time": "2020-01-14T06:49:19.190689",
     "exception": false,
     "start_time": "2020-01-14T06:49:19.179520",
     "status": "completed"
    },
    "tags": []
   },
   "outputs": [],
   "source": []
  }
 ],
 "metadata": {
  "hide_input": false,
  "kernelspec": {
   "display_name": "Python 3",
   "language": "python",
   "name": "python3"
  },
  "language_info": {
   "codemirror_mode": {
    "name": "ipython",
    "version": 3
   },
   "file_extension": ".py",
   "mimetype": "text/x-python",
   "name": "python",
   "nbconvert_exporter": "python",
   "pygments_lexer": "ipython3",
   "version": "3.7.3"
  },
  "papermill": {
   "duration": 10.925476,
   "end_time": "2020-01-14T06:49:19.608597",
   "environment_variables": {},
   "exception": null,
   "input_path": "4.MotifEnrichment.ipynb",
   "output_path": "/home/hanliu/project/mouse_rostral_brain/DMR/ITSpatial_by_layer/IT-L6/Recipe/4.MotifEnrichment.IT-L6+PFC.ipynb",
   "parameters": {
    "dmr_hits_path": "/home/hanliu/project/mouse_rostral_brain/DMR/ITSpatial_by_layer/IT-L6/HypoDMR/IT-L6+PFC.DMS1.bed",
    "group": "IT-L6+PFC",
    "mask_quantile_to99": 0.9,
    "motif_hits_path": "/home/hanliu/project/mouse_rostral_brain/DMR/ITSpatial_by_layer/IT-L6/MotifScan.h5ad",
    "neg_lgp_cutoff": 10,
    "or_cutoff": 1.5,
    "output_dir": "/home/hanliu/project/mouse_rostral_brain/DMR/ITSpatial_by_layer/IT-L6/MotifEnrichment"
   },
   "start_time": "2020-01-14T06:49:08.683121",
   "version": "1.0.1"
  },
  "toc": {
   "base_numbering": 1,
   "nav_menu": {},
   "number_sections": true,
   "sideBar": true,
   "skip_h1_title": true,
   "title_cell": "Table of Contents",
   "title_sidebar": "Contents",
   "toc_cell": false,
   "toc_position": {},
   "toc_section_display": true,
   "toc_window_display": true
  }
 },
 "nbformat": 4,
 "nbformat_minor": 2
}
