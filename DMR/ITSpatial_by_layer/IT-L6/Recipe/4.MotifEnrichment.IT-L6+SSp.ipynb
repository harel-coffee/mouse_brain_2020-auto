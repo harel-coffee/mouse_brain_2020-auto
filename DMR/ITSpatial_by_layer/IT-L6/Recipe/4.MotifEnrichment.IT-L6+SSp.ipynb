{
 "cells": [
  {
   "cell_type": "markdown",
   "metadata": {
    "papermill": {
     "duration": 0.009535,
     "end_time": "2020-01-14T06:49:20.540324",
     "exception": false,
     "start_time": "2020-01-14T06:49:20.530789",
     "status": "completed"
    },
    "tags": []
   },
   "source": [
    "# Motif Enrichment\n",
    "- The motif hits matrix save the max loglikelyhood score of a motif in that DMR\n",
    "- Before run the motif enrichment, I filter the scores for each motif using cutoff defined by\n",
    "    - `np.quantile(motif_score[motif_score > 0]) * mask_quantile_to99`\n",
    "- This filter will remove hits with low score, which is likely to be false positive\n",
    "- Its likely boosting the significance of real enrichment"
   ]
  },
  {
   "cell_type": "code",
   "execution_count": 1,
   "metadata": {
    "ExecuteTime": {
     "end_time": "2020-01-17T05:01:51.011654Z",
     "start_time": "2020-01-17T05:01:50.293545Z"
    },
    "papermill": {
     "duration": 0.716912,
     "end_time": "2020-01-14T06:49:21.268394",
     "exception": false,
     "start_time": "2020-01-14T06:49:20.551482",
     "status": "completed"
    },
    "tags": []
   },
   "outputs": [],
   "source": [
    "from concurrent.futures import ProcessPoolExecutor, as_completed\n",
    "import anndata\n",
    "import matplotlib.pyplot as plt\n",
    "import numpy as np\n",
    "import pandas as pd\n",
    "import pybedtools\n",
    "import scipy.stats as stats\n",
    "import seaborn as sns\n",
    "from scipy.sparse import csr_matrix\n",
    "from statsmodels.stats.multitest import multipletests\n",
    "import pathlib"
   ]
  },
  {
   "cell_type": "code",
   "execution_count": 2,
   "metadata": {
    "ExecuteTime": {
     "end_time": "2020-01-17T05:01:51.016464Z",
     "start_time": "2020-01-17T05:01:51.013698Z"
    },
    "papermill": {
     "duration": 0.015182,
     "end_time": "2020-01-14T06:49:21.293799",
     "exception": false,
     "start_time": "2020-01-14T06:49:21.278617",
     "status": "completed"
    },
    "tags": [
     "parameters"
    ]
   },
   "outputs": [],
   "source": [
    "mask_quantile_to99 = 0.9\n",
    "or_cutoff = 1.5\n",
    "neg_lgp_cutoff = 10\n",
    "group = 'IT-L23+ACA'\n",
    "\n",
    "motif_hits_path = '/home/hanliu/project/mouse_rostral_brain/DMR/ITSpatial_by_layer/IT-L23/MotifScan.h5ad'\n",
    "dmr_hits_path = f'/home/hanliu/project/mouse_rostral_brain/DMR/ITSpatial_by_layer/IT-L23/HypoDMR/{group}.DMS1.bed'\n",
    "output_dir = '/home/hanliu/project/mouse_rostral_brain/DMR/ITSpatial_by_layer/IT-L23/MotifEnrichment'\n"
   ]
  },
  {
   "cell_type": "code",
   "execution_count": 3,
   "metadata": {
    "ExecuteTime": {
     "end_time": "2020-01-17T05:01:51.020390Z",
     "start_time": "2020-01-17T05:01:51.017908Z"
    },
    "papermill": {
     "duration": 0.014066,
     "end_time": "2020-01-14T06:49:21.316928",
     "exception": false,
     "start_time": "2020-01-14T06:49:21.302862",
     "status": "completed"
    },
    "tags": [
     "injected-parameters"
    ]
   },
   "outputs": [],
   "source": [
    "# Parameters\n",
    "mask_quantile_to99 = 0.9\n",
    "or_cutoff = 1.5\n",
    "neg_lgp_cutoff = 10\n",
    "group = \"IT-L6+SSp\"\n",
    "motif_hits_path = \"/home/hanliu/project/mouse_rostral_brain/DMR/ITSpatial_by_layer/IT-L6/MotifScan.h5ad\"\n",
    "dmr_hits_path = \"/home/hanliu/project/mouse_rostral_brain/DMR/ITSpatial_by_layer/IT-L6/HypoDMR/IT-L6+SSp.DMS1.bed\"\n",
    "output_dir = \"/home/hanliu/project/mouse_rostral_brain/DMR/ITSpatial_by_layer/IT-L6/MotifEnrichment\"\n"
   ]
  },
  {
   "cell_type": "code",
   "execution_count": 4,
   "metadata": {
    "ExecuteTime": {
     "end_time": "2020-01-17T05:01:51.023984Z",
     "start_time": "2020-01-17T05:01:51.021706Z"
    },
    "papermill": {
     "duration": 0.014593,
     "end_time": "2020-01-14T06:49:21.340857",
     "exception": false,
     "start_time": "2020-01-14T06:49:21.326264",
     "status": "completed"
    },
    "tags": []
   },
   "outputs": [],
   "source": [
    "output_dir = pathlib.Path(output_dir)\n",
    "output_dir.mkdir(exist_ok=True)"
   ]
  },
  {
   "cell_type": "markdown",
   "metadata": {
    "papermill": {
     "duration": 0.009164,
     "end_time": "2020-01-14T06:49:21.359317",
     "exception": false,
     "start_time": "2020-01-14T06:49:21.350153",
     "status": "completed"
    },
    "tags": []
   },
   "source": [
    "## DMR hits"
   ]
  },
  {
   "cell_type": "code",
   "execution_count": 5,
   "metadata": {
    "ExecuteTime": {
     "end_time": "2020-01-17T05:01:51.062012Z",
     "start_time": "2020-01-17T05:01:51.025272Z"
    },
    "papermill": {
     "duration": 0.072517,
     "end_time": "2020-01-14T06:49:21.441407",
     "exception": false,
     "start_time": "2020-01-14T06:49:21.368890",
     "status": "completed"
    },
    "tags": []
   },
   "outputs": [
    {
     "data": {
      "text/html": [
       "<div>\n",
       "<style scoped>\n",
       "    .dataframe tbody tr th:only-of-type {\n",
       "        vertical-align: middle;\n",
       "    }\n",
       "\n",
       "    .dataframe tbody tr th {\n",
       "        vertical-align: top;\n",
       "    }\n",
       "\n",
       "    .dataframe thead th {\n",
       "        text-align: right;\n",
       "    }\n",
       "</style>\n",
       "<table border=\"1\" class=\"dataframe\">\n",
       "  <thead>\n",
       "    <tr style=\"text-align: right;\">\n",
       "      <th></th>\n",
       "      <th>0</th>\n",
       "      <th>1</th>\n",
       "      <th>2</th>\n",
       "    </tr>\n",
       "    <tr>\n",
       "      <th>3</th>\n",
       "      <th></th>\n",
       "      <th></th>\n",
       "      <th></th>\n",
       "    </tr>\n",
       "  </thead>\n",
       "  <tbody>\n",
       "    <tr>\n",
       "      <th>DGm3c_73</th>\n",
       "      <td>chr1</td>\n",
       "      <td>3897960</td>\n",
       "      <td>3897960</td>\n",
       "    </tr>\n",
       "    <tr>\n",
       "      <th>DGm3c_115</th>\n",
       "      <td>chr1</td>\n",
       "      <td>4703241</td>\n",
       "      <td>4703810</td>\n",
       "    </tr>\n",
       "    <tr>\n",
       "      <th>DGm3c_119</th>\n",
       "      <td>chr1</td>\n",
       "      <td>4775402</td>\n",
       "      <td>4775561</td>\n",
       "    </tr>\n",
       "    <tr>\n",
       "      <th>DGm3c_158</th>\n",
       "      <td>chr1</td>\n",
       "      <td>5230960</td>\n",
       "      <td>5230976</td>\n",
       "    </tr>\n",
       "    <tr>\n",
       "      <th>DGm3c_159</th>\n",
       "      <td>chr1</td>\n",
       "      <td>5243285</td>\n",
       "      <td>5243285</td>\n",
       "    </tr>\n",
       "  </tbody>\n",
       "</table>\n",
       "</div>"
      ],
      "text/plain": [
       "              0        1        2\n",
       "3                                \n",
       "DGm3c_73   chr1  3897960  3897960\n",
       "DGm3c_115  chr1  4703241  4703810\n",
       "DGm3c_119  chr1  4775402  4775561\n",
       "DGm3c_158  chr1  5230960  5230976\n",
       "DGm3c_159  chr1  5243285  5243285"
      ]
     },
     "execution_count": 5,
     "metadata": {},
     "output_type": "execute_result"
    }
   ],
   "source": [
    "dmr_bed_df = pd.read_csv(dmr_hits_path, sep='\\t', header=None, index_col=3)\n",
    "dmr_bed_df.head()"
   ]
  },
  {
   "cell_type": "code",
   "execution_count": 6,
   "metadata": {
    "ExecuteTime": {
     "end_time": "2020-01-17T05:01:52.215147Z",
     "start_time": "2020-01-17T05:01:51.063965Z"
    },
    "papermill": {
     "duration": 1.147036,
     "end_time": "2020-01-14T06:49:22.599201",
     "exception": false,
     "start_time": "2020-01-14T06:49:21.452165",
     "status": "completed"
    },
    "tags": []
   },
   "outputs": [
    {
     "data": {
      "text/plain": [
       "AnnData object with n_obs × n_vars = 28297 × 719 \n",
       "    obs: 'chrom', 'start', 'end'"
      ]
     },
     "execution_count": 6,
     "metadata": {},
     "output_type": "execute_result"
    }
   ],
   "source": [
    "motif_hits = anndata.read_h5ad(motif_hits_path)\n",
    "motif_hits = motif_hits[dmr_bed_df.index, :].copy()\n",
    "motif_ids = motif_hits.var_names\n",
    "motif_hits.X = motif_hits.X.todense()\n",
    "motif_hits"
   ]
  },
  {
   "cell_type": "code",
   "execution_count": 7,
   "metadata": {
    "ExecuteTime": {
     "end_time": "2020-01-17T05:01:52.640312Z",
     "start_time": "2020-01-17T05:01:52.217048Z"
    },
    "papermill": {
     "duration": 0.692699,
     "end_time": "2020-01-14T06:49:23.303133",
     "exception": false,
     "start_time": "2020-01-14T06:49:22.610434",
     "status": "completed"
    },
    "tags": []
   },
   "outputs": [],
   "source": [
    "# mask small motif scores\n",
    "motif_cutoff = pd.Series(np.apply_along_axis(lambda i: np.quantile(i[i>0], 0.99) * mask_quantile_to99, \n",
    "                                             0, motif_hits.X),\n",
    "                         index=motif_hits.var_names)\n",
    "# only keep value larger than the cutoff for each motif\n",
    "motif_hits.X = np.multiply(motif_hits.X, (motif_hits.X > motif_cutoff.values[None, :]))"
   ]
  },
  {
   "cell_type": "markdown",
   "metadata": {
    "papermill": {
     "duration": 0.009906,
     "end_time": "2020-01-14T06:49:23.323957",
     "exception": false,
     "start_time": "2020-01-14T06:49:23.314051",
     "status": "completed"
    },
    "tags": []
   },
   "source": [
    "## Background Hits"
   ]
  },
  {
   "cell_type": "code",
   "execution_count": 8,
   "metadata": {
    "ExecuteTime": {
     "end_time": "2020-01-17T05:01:53.981726Z",
     "start_time": "2020-01-17T05:01:52.641915Z"
    },
    "papermill": {
     "duration": 1.119703,
     "end_time": "2020-01-14T06:49:24.453322",
     "exception": false,
     "start_time": "2020-01-14T06:49:23.333619",
     "status": "completed"
    },
    "tags": []
   },
   "outputs": [],
   "source": [
    "background_motif_hits = anndata.read_h5ad(\n",
    "    '/home/hanliu/project/mouse_rostral_brain/DMR/BackgroundDMR/MotifScan.h5ad'\n",
    ")"
   ]
  },
  {
   "cell_type": "code",
   "execution_count": 9,
   "metadata": {
    "ExecuteTime": {
     "end_time": "2020-01-17T05:01:54.999604Z",
     "start_time": "2020-01-17T05:01:53.983374Z"
    },
    "papermill": {
     "duration": 1.08742,
     "end_time": "2020-01-14T06:49:25.551686",
     "exception": false,
     "start_time": "2020-01-14T06:49:24.464266",
     "status": "completed"
    },
    "tags": []
   },
   "outputs": [],
   "source": [
    "dmr_bed = pybedtools.BedTool().from_dataframe(dmr_bed_df)\n",
    "bg_bed = pybedtools.BedTool().from_dataframe(\n",
    "    background_motif_hits.obs.reset_index().iloc[:, [1, 2, 3, 0]])"
   ]
  },
  {
   "cell_type": "code",
   "execution_count": 10,
   "metadata": {
    "ExecuteTime": {
     "end_time": "2020-01-17T05:01:56.672463Z",
     "start_time": "2020-01-17T05:01:55.001245Z"
    },
    "papermill": {
     "duration": 1.515518,
     "end_time": "2020-01-14T06:49:27.078136",
     "exception": false,
     "start_time": "2020-01-14T06:49:25.562618",
     "status": "completed"
    },
    "tags": []
   },
   "outputs": [],
   "source": [
    "# exclude background that overlap with DMR\n",
    "bg_no_overlap = bg_bed.intersect(dmr_bed, v=True)\n",
    "use_bg = bg_no_overlap.to_dataframe().iloc[:, -1].values\n",
    "background_motif_hits = background_motif_hits[use_bg, :]\n",
    "\n",
    "# make sure col in same order\n",
    "background_motif_hits = background_motif_hits[:, motif_ids].copy()"
   ]
  },
  {
   "cell_type": "code",
   "execution_count": 11,
   "metadata": {
    "ExecuteTime": {
     "end_time": "2020-01-17T05:01:58.875654Z",
     "start_time": "2020-01-17T05:01:56.674350Z"
    },
    "papermill": {
     "duration": 2.158562,
     "end_time": "2020-01-14T06:49:29.247625",
     "exception": false,
     "start_time": "2020-01-14T06:49:27.089063",
     "status": "completed"
    },
    "tags": []
   },
   "outputs": [],
   "source": [
    "judge_matrix = csr_matrix(background_motif_hits.X > motif_cutoff.values[None, :])\n",
    "background_motif_hits.X = background_motif_hits.X.multiply(judge_matrix)"
   ]
  },
  {
   "cell_type": "code",
   "execution_count": 12,
   "metadata": {
    "ExecuteTime": {
     "end_time": "2020-01-17T05:01:58.955694Z",
     "start_time": "2020-01-17T05:01:58.951574Z"
    },
    "papermill": {
     "duration": 0.016852,
     "end_time": "2020-01-14T06:49:29.275565",
     "exception": false,
     "start_time": "2020-01-14T06:49:29.258713",
     "status": "completed"
    },
    "tags": []
   },
   "outputs": [
    {
     "data": {
      "text/plain": [
       "AnnData object with n_obs × n_vars = 339929 × 719 \n",
       "    obs: 'chrom', 'start', 'end'"
      ]
     },
     "execution_count": 12,
     "metadata": {},
     "output_type": "execute_result"
    }
   ],
   "source": [
    "background_motif_hits"
   ]
  },
  {
   "cell_type": "markdown",
   "metadata": {
    "papermill": {
     "duration": 0.010145,
     "end_time": "2020-01-14T06:49:29.295904",
     "exception": false,
     "start_time": "2020-01-14T06:49:29.285759",
     "status": "completed"
    },
    "tags": []
   },
   "source": [
    "## Motif hits contingency table"
   ]
  },
  {
   "cell_type": "code",
   "execution_count": 13,
   "metadata": {
    "ExecuteTime": {
     "end_time": "2020-01-17T05:01:59.136774Z",
     "start_time": "2020-01-17T05:01:58.957024Z"
    },
    "papermill": {
     "duration": 0.217881,
     "end_time": "2020-01-14T06:49:29.523884",
     "exception": false,
     "start_time": "2020-01-14T06:49:29.306003",
     "status": "completed"
    },
    "tags": []
   },
   "outputs": [],
   "source": [
    "# calculate motif occurence, not considering hits here\n",
    "pos = (motif_hits.X > 0).sum(axis=0)\n",
    "pos_total = motif_hits.shape[0]\n",
    "\n",
    "neg = (background_motif_hits.X > 0).sum(axis=0)\n",
    "neg_total = background_motif_hits.shape[0]"
   ]
  },
  {
   "cell_type": "code",
   "execution_count": 14,
   "metadata": {
    "ExecuteTime": {
     "end_time": "2020-01-17T05:01:59.142544Z",
     "start_time": "2020-01-17T05:01:59.138306Z"
    },
    "papermill": {
     "duration": 0.064845,
     "end_time": "2020-01-14T06:49:29.599893",
     "exception": false,
     "start_time": "2020-01-14T06:49:29.535048",
     "status": "completed"
    },
    "scrolled": true,
    "tags": []
   },
   "outputs": [],
   "source": [
    "tables = {}\n",
    "for motif, _pos, _neg in zip(motif_ids, pos.A1, neg.A1):\n",
    "    table = [[_pos, pos_total - _pos], [_neg, neg_total - _neg]]\n",
    "    tables[motif] = table"
   ]
  },
  {
   "cell_type": "code",
   "execution_count": 15,
   "metadata": {
    "ExecuteTime": {
     "end_time": "2020-01-17T05:01:59.564975Z",
     "start_time": "2020-01-17T05:01:59.144025Z"
    },
    "papermill": {
     "duration": 0.75602,
     "end_time": "2020-01-14T06:49:30.366096",
     "exception": false,
     "start_time": "2020-01-14T06:49:29.610076",
     "status": "completed"
    },
    "tags": []
   },
   "outputs": [],
   "source": [
    "results = {}\n",
    "with ProcessPoolExecutor(20) as executor:\n",
    "    fs = {}\n",
    "    for motif, t in tables.items():\n",
    "        f = executor.submit(stats.fisher_exact, t, alternative='greater')\n",
    "        fs[f] = motif\n",
    "\n",
    "    for f in as_completed(fs):\n",
    "        motif = fs[f]\n",
    "        odds, p = f.result()\n",
    "        results[motif] = {'oddsratio': odds, 'p_value': p}\n",
    "motif_enrich_df = pd.DataFrame(results).T\n",
    "\n",
    "_, p, _, _ = multipletests(motif_enrich_df['p_value'], method='fdr_bh')\n",
    "motif_enrich_df['adj_p'] = p\n",
    "\n",
    "motif_enrich_df['-lgp'] = -np.log10(motif_enrich_df['adj_p']).replace(\n",
    "    -np.inf, -300)\n",
    "\n",
    "records = {}\n",
    "for motif, t in tables.items():\n",
    "    tp, tn = t[0]\n",
    "    fp, fn = t[1]\n",
    "    tp_rate = tp / pos_total\n",
    "    fp_rate = fp / neg_total\n",
    "    records[motif] = dict(tp=tp,\n",
    "                          tn=tn,\n",
    "                          fp=fp,\n",
    "                          fn=fn,\n",
    "                          tp_rate=tp_rate,\n",
    "                          fp_rate=fp_rate)\n",
    "counts = pd.DataFrame(records).T\n",
    "motif_enrich_df = pd.concat([motif_enrich_df, counts], axis=1, sort=True)"
   ]
  },
  {
   "cell_type": "code",
   "execution_count": 16,
   "metadata": {
    "ExecuteTime": {
     "end_time": "2020-01-17T05:01:59.569489Z",
     "start_time": "2020-01-17T05:01:59.566676Z"
    },
    "papermill": {
     "duration": 0.015982,
     "end_time": "2020-01-14T06:49:30.393799",
     "exception": false,
     "start_time": "2020-01-14T06:49:30.377817",
     "status": "completed"
    },
    "tags": []
   },
   "outputs": [],
   "source": [
    "motif_enrich_df['Group'] = group"
   ]
  },
  {
   "cell_type": "code",
   "execution_count": 17,
   "metadata": {
    "ExecuteTime": {
     "end_time": "2020-01-17T05:01:59.576144Z",
     "start_time": "2020-01-17T05:01:59.570785Z"
    },
    "papermill": {
     "duration": 0.018477,
     "end_time": "2020-01-14T06:49:30.422208",
     "exception": false,
     "start_time": "2020-01-14T06:49:30.403731",
     "status": "completed"
    },
    "tags": []
   },
   "outputs": [
    {
     "data": {
      "text/plain": [
       "6"
      ]
     },
     "execution_count": 17,
     "metadata": {},
     "output_type": "execute_result"
    }
   ],
   "source": [
    "# final filter\n",
    "filtered_motif_df = motif_enrich_df[(motif_enrich_df['oddsratio'] > or_cutoff)\n",
    "                                    &\n",
    "                                    (motif_enrich_df['-lgp'] > neg_lgp_cutoff)]\n",
    "filtered_motif_df.shape[0]"
   ]
  },
  {
   "cell_type": "code",
   "execution_count": 18,
   "metadata": {
    "ExecuteTime": {
     "end_time": "2020-01-17T05:01:59.581405Z",
     "start_time": "2020-01-17T05:01:59.577382Z"
    },
    "papermill": {
     "duration": 0.017427,
     "end_time": "2020-01-14T06:49:30.449684",
     "exception": false,
     "start_time": "2020-01-14T06:49:30.432257",
     "status": "completed"
    },
    "tags": []
   },
   "outputs": [
    {
     "name": "stderr",
     "output_type": "stream",
     "text": [
      "/home/hanliu/miniconda3/envs/clustering/lib/python3.7/site-packages/ipykernel_launcher.py:1: FutureWarning: to_msgpack is deprecated and will be removed in a future version.\n",
      "It is recommended to use pyarrow for on-the-wire transmission of pandas objects.\n",
      "  \"\"\"Entry point for launching an IPython kernel.\n"
     ]
    }
   ],
   "source": [
    "motif_enrich_df.to_msgpack(output_dir / f'{group}.motif_enrichment.msg')"
   ]
  },
  {
   "cell_type": "code",
   "execution_count": 19,
   "metadata": {
    "ExecuteTime": {
     "end_time": "2020-01-17T05:01:59.590677Z",
     "start_time": "2020-01-17T05:01:59.582749Z"
    },
    "papermill": {
     "duration": 0.020555,
     "end_time": "2020-01-14T06:49:30.480304",
     "exception": false,
     "start_time": "2020-01-14T06:49:30.459749",
     "status": "completed"
    },
    "tags": []
   },
   "outputs": [],
   "source": [
    "pybedtools.cleanup()"
   ]
  },
  {
   "cell_type": "code",
   "execution_count": 20,
   "metadata": {
    "ExecuteTime": {
     "end_time": "2020-01-17T05:01:59.603487Z",
     "start_time": "2020-01-17T05:01:59.592788Z"
    },
    "papermill": {
     "duration": 0.024989,
     "end_time": "2020-01-14T06:49:30.516602",
     "exception": false,
     "start_time": "2020-01-14T06:49:30.491613",
     "status": "completed"
    },
    "tags": []
   },
   "outputs": [
    {
     "data": {
      "text/html": [
       "<div>\n",
       "<style scoped>\n",
       "    .dataframe tbody tr th:only-of-type {\n",
       "        vertical-align: middle;\n",
       "    }\n",
       "\n",
       "    .dataframe tbody tr th {\n",
       "        vertical-align: top;\n",
       "    }\n",
       "\n",
       "    .dataframe thead th {\n",
       "        text-align: right;\n",
       "    }\n",
       "</style>\n",
       "<table border=\"1\" class=\"dataframe\">\n",
       "  <thead>\n",
       "    <tr style=\"text-align: right;\">\n",
       "      <th></th>\n",
       "      <th>oddsratio</th>\n",
       "      <th>p_value</th>\n",
       "      <th>adj_p</th>\n",
       "      <th>-lgp</th>\n",
       "      <th>tp</th>\n",
       "      <th>tn</th>\n",
       "      <th>fp</th>\n",
       "      <th>fn</th>\n",
       "      <th>tp_rate</th>\n",
       "      <th>fp_rate</th>\n",
       "      <th>Group</th>\n",
       "    </tr>\n",
       "  </thead>\n",
       "  <tbody>\n",
       "    <tr>\n",
       "      <th>MA0019.1</th>\n",
       "      <td>3.943619</td>\n",
       "      <td>4.853153e-108</td>\n",
       "      <td>3.489417e-105</td>\n",
       "      <td>104.457247</td>\n",
       "      <td>448.0</td>\n",
       "      <td>27849.0</td>\n",
       "      <td>1381.0</td>\n",
       "      <td>338548.0</td>\n",
       "      <td>0.015832</td>\n",
       "      <td>0.004063</td>\n",
       "      <td>IT-L6+SSp</td>\n",
       "    </tr>\n",
       "    <tr>\n",
       "      <th>MA0056.2</th>\n",
       "      <td>1.831721</td>\n",
       "      <td>1.913907e-48</td>\n",
       "      <td>4.586998e-46</td>\n",
       "      <td>45.338471</td>\n",
       "      <td>792.0</td>\n",
       "      <td>27505.0</td>\n",
       "      <td>5261.0</td>\n",
       "      <td>334668.0</td>\n",
       "      <td>0.027989</td>\n",
       "      <td>0.015477</td>\n",
       "      <td>IT-L6+SSp</td>\n",
       "    </tr>\n",
       "    <tr>\n",
       "      <th>MA0068.2</th>\n",
       "      <td>2.412174</td>\n",
       "      <td>1.344517e-57</td>\n",
       "      <td>4.833540e-55</td>\n",
       "      <td>54.315735</td>\n",
       "      <td>487.0</td>\n",
       "      <td>27810.0</td>\n",
       "      <td>2450.0</td>\n",
       "      <td>337479.0</td>\n",
       "      <td>0.017210</td>\n",
       "      <td>0.007207</td>\n",
       "      <td>IT-L6+SSp</td>\n",
       "    </tr>\n",
       "    <tr>\n",
       "      <th>MA0072.1</th>\n",
       "      <td>1.890704</td>\n",
       "      <td>1.431504e-14</td>\n",
       "      <td>9.356829e-13</td>\n",
       "      <td>12.028871</td>\n",
       "      <td>195.0</td>\n",
       "      <td>28102.0</td>\n",
       "      <td>1243.0</td>\n",
       "      <td>338686.0</td>\n",
       "      <td>0.006891</td>\n",
       "      <td>0.003657</td>\n",
       "      <td>IT-L6+SSp</td>\n",
       "    </tr>\n",
       "    <tr>\n",
       "      <th>MA0507.1</th>\n",
       "      <td>1.596049</td>\n",
       "      <td>1.763500e-16</td>\n",
       "      <td>1.584946e-14</td>\n",
       "      <td>13.799986</td>\n",
       "      <td>394.0</td>\n",
       "      <td>27903.0</td>\n",
       "      <td>2981.0</td>\n",
       "      <td>336948.0</td>\n",
       "      <td>0.013924</td>\n",
       "      <td>0.008769</td>\n",
       "      <td>IT-L6+SSp</td>\n",
       "    </tr>\n",
       "    <tr>\n",
       "      <th>MA0752.1</th>\n",
       "      <td>4.760166</td>\n",
       "      <td>4.212146e-22</td>\n",
       "      <td>6.057066e-20</td>\n",
       "      <td>19.217738</td>\n",
       "      <td>70.0</td>\n",
       "      <td>28227.0</td>\n",
       "      <td>177.0</td>\n",
       "      <td>339752.0</td>\n",
       "      <td>0.002474</td>\n",
       "      <td>0.000521</td>\n",
       "      <td>IT-L6+SSp</td>\n",
       "    </tr>\n",
       "  </tbody>\n",
       "</table>\n",
       "</div>"
      ],
      "text/plain": [
       "          oddsratio        p_value          adj_p        -lgp     tp       tn  \\\n",
       "MA0019.1   3.943619  4.853153e-108  3.489417e-105  104.457247  448.0  27849.0   \n",
       "MA0056.2   1.831721   1.913907e-48   4.586998e-46   45.338471  792.0  27505.0   \n",
       "MA0068.2   2.412174   1.344517e-57   4.833540e-55   54.315735  487.0  27810.0   \n",
       "MA0072.1   1.890704   1.431504e-14   9.356829e-13   12.028871  195.0  28102.0   \n",
       "MA0507.1   1.596049   1.763500e-16   1.584946e-14   13.799986  394.0  27903.0   \n",
       "MA0752.1   4.760166   4.212146e-22   6.057066e-20   19.217738   70.0  28227.0   \n",
       "\n",
       "              fp        fn   tp_rate   fp_rate      Group  \n",
       "MA0019.1  1381.0  338548.0  0.015832  0.004063  IT-L6+SSp  \n",
       "MA0056.2  5261.0  334668.0  0.027989  0.015477  IT-L6+SSp  \n",
       "MA0068.2  2450.0  337479.0  0.017210  0.007207  IT-L6+SSp  \n",
       "MA0072.1  1243.0  338686.0  0.006891  0.003657  IT-L6+SSp  \n",
       "MA0507.1  2981.0  336948.0  0.013924  0.008769  IT-L6+SSp  \n",
       "MA0752.1   177.0  339752.0  0.002474  0.000521  IT-L6+SSp  "
      ]
     },
     "execution_count": 20,
     "metadata": {},
     "output_type": "execute_result"
    }
   ],
   "source": [
    "filtered_motif_df"
   ]
  },
  {
   "cell_type": "code",
   "execution_count": null,
   "metadata": {
    "papermill": {
     "duration": 0.010709,
     "end_time": "2020-01-14T06:49:30.537677",
     "exception": false,
     "start_time": "2020-01-14T06:49:30.526968",
     "status": "completed"
    },
    "tags": []
   },
   "outputs": [],
   "source": []
  }
 ],
 "metadata": {
  "hide_input": false,
  "kernelspec": {
   "display_name": "Python 3",
   "language": "python",
   "name": "python3"
  },
  "language_info": {
   "codemirror_mode": {
    "name": "ipython",
    "version": 3
   },
   "file_extension": ".py",
   "mimetype": "text/x-python",
   "name": "python",
   "nbconvert_exporter": "python",
   "pygments_lexer": "ipython3",
   "version": "3.7.3"
  },
  "papermill": {
   "duration": 11.295719,
   "end_time": "2020-01-14T06:49:30.954727",
   "environment_variables": {},
   "exception": null,
   "input_path": "4.MotifEnrichment.ipynb",
   "output_path": "/home/hanliu/project/mouse_rostral_brain/DMR/ITSpatial_by_layer/IT-L6/Recipe/4.MotifEnrichment.IT-L6+SSp.ipynb",
   "parameters": {
    "dmr_hits_path": "/home/hanliu/project/mouse_rostral_brain/DMR/ITSpatial_by_layer/IT-L6/HypoDMR/IT-L6+SSp.DMS1.bed",
    "group": "IT-L6+SSp",
    "mask_quantile_to99": 0.9,
    "motif_hits_path": "/home/hanliu/project/mouse_rostral_brain/DMR/ITSpatial_by_layer/IT-L6/MotifScan.h5ad",
    "neg_lgp_cutoff": 10,
    "or_cutoff": 1.5,
    "output_dir": "/home/hanliu/project/mouse_rostral_brain/DMR/ITSpatial_by_layer/IT-L6/MotifEnrichment"
   },
   "start_time": "2020-01-14T06:49:19.659008",
   "version": "1.0.1"
  },
  "toc": {
   "base_numbering": 1,
   "nav_menu": {},
   "number_sections": true,
   "sideBar": true,
   "skip_h1_title": true,
   "title_cell": "Table of Contents",
   "title_sidebar": "Contents",
   "toc_cell": false,
   "toc_position": {},
   "toc_section_display": true,
   "toc_window_display": true
  }
 },
 "nbformat": 4,
 "nbformat_minor": 2
}
