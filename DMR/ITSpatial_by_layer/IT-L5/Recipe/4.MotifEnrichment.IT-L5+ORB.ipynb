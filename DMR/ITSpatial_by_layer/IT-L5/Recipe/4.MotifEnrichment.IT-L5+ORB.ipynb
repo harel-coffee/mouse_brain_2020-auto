{
 "cells": [
  {
   "cell_type": "markdown",
   "metadata": {
    "papermill": {
     "duration": 0.009493,
     "end_time": "2020-01-14T06:46:51.008151",
     "exception": false,
     "start_time": "2020-01-14T06:46:50.998658",
     "status": "completed"
    },
    "tags": []
   },
   "source": [
    "# Motif Enrichment\n",
    "- The motif hits matrix save the max loglikelyhood score of a motif in that DMR\n",
    "- Before run the motif enrichment, I filter the scores for each motif using cutoff defined by\n",
    "    - `np.quantile(motif_score[motif_score > 0]) * mask_quantile_to99`\n",
    "- This filter will remove hits with low score, which is likely to be false positive\n",
    "- Its likely boosting the significance of real enrichment"
   ]
  },
  {
   "cell_type": "code",
   "execution_count": 1,
   "metadata": {
    "ExecuteTime": {
     "end_time": "2020-01-17T04:52:20.160690Z",
     "start_time": "2020-01-17T04:52:19.419435Z"
    },
    "papermill": {
     "duration": 0.729899,
     "end_time": "2020-01-14T06:46:51.748838",
     "exception": false,
     "start_time": "2020-01-14T06:46:51.018939",
     "status": "completed"
    },
    "tags": []
   },
   "outputs": [],
   "source": [
    "from concurrent.futures import ProcessPoolExecutor, as_completed\n",
    "import anndata\n",
    "import matplotlib.pyplot as plt\n",
    "import numpy as np\n",
    "import pandas as pd\n",
    "import pybedtools\n",
    "import scipy.stats as stats\n",
    "import seaborn as sns\n",
    "from scipy.sparse import csr_matrix\n",
    "from statsmodels.stats.multitest import multipletests\n",
    "import pathlib"
   ]
  },
  {
   "cell_type": "code",
   "execution_count": 2,
   "metadata": {
    "ExecuteTime": {
     "end_time": "2020-01-17T04:52:20.165261Z",
     "start_time": "2020-01-17T04:52:20.162511Z"
    },
    "papermill": {
     "duration": 0.015507,
     "end_time": "2020-01-14T06:46:51.774972",
     "exception": false,
     "start_time": "2020-01-14T06:46:51.759465",
     "status": "completed"
    },
    "tags": [
     "parameters"
    ]
   },
   "outputs": [],
   "source": [
    "mask_quantile_to99 = 0.9\n",
    "or_cutoff = 1.5\n",
    "neg_lgp_cutoff = 10\n",
    "group = 'IT-L23+ACA'\n",
    "\n",
    "motif_hits_path = '/home/hanliu/project/mouse_rostral_brain/DMR/ITSpatial_by_layer/IT-L23/MotifScan.h5ad'\n",
    "dmr_hits_path = f'/home/hanliu/project/mouse_rostral_brain/DMR/ITSpatial_by_layer/IT-L23/HypoDMR/{group}.DMS1.bed'\n",
    "output_dir = '/home/hanliu/project/mouse_rostral_brain/DMR/ITSpatial_by_layer/IT-L23/MotifEnrichment'\n"
   ]
  },
  {
   "cell_type": "code",
   "execution_count": 3,
   "metadata": {
    "ExecuteTime": {
     "end_time": "2020-01-17T04:52:20.169012Z",
     "start_time": "2020-01-17T04:52:20.166606Z"
    },
    "papermill": {
     "duration": 0.014642,
     "end_time": "2020-01-14T06:46:51.798858",
     "exception": false,
     "start_time": "2020-01-14T06:46:51.784216",
     "status": "completed"
    },
    "tags": [
     "injected-parameters"
    ]
   },
   "outputs": [],
   "source": [
    "# Parameters\n",
    "mask_quantile_to99 = 0.9\n",
    "or_cutoff = 1.5\n",
    "neg_lgp_cutoff = 10\n",
    "group = \"IT-L5+ORB\"\n",
    "motif_hits_path = \"/home/hanliu/project/mouse_rostral_brain/DMR/ITSpatial_by_layer/IT-L5/MotifScan.h5ad\"\n",
    "dmr_hits_path = \"/home/hanliu/project/mouse_rostral_brain/DMR/ITSpatial_by_layer/IT-L5/HypoDMR/IT-L5+ORB.DMS1.bed\"\n",
    "output_dir = \"/home/hanliu/project/mouse_rostral_brain/DMR/ITSpatial_by_layer/IT-L5/MotifEnrichment\"\n"
   ]
  },
  {
   "cell_type": "code",
   "execution_count": 4,
   "metadata": {
    "ExecuteTime": {
     "end_time": "2020-01-17T04:52:20.172783Z",
     "start_time": "2020-01-17T04:52:20.170537Z"
    },
    "papermill": {
     "duration": 0.014882,
     "end_time": "2020-01-14T06:46:51.822878",
     "exception": false,
     "start_time": "2020-01-14T06:46:51.807996",
     "status": "completed"
    },
    "tags": []
   },
   "outputs": [],
   "source": [
    "output_dir = pathlib.Path(output_dir)\n",
    "output_dir.mkdir(exist_ok=True)"
   ]
  },
  {
   "cell_type": "markdown",
   "metadata": {
    "papermill": {
     "duration": 0.009146,
     "end_time": "2020-01-14T06:46:51.841171",
     "exception": false,
     "start_time": "2020-01-14T06:46:51.832025",
     "status": "completed"
    },
    "tags": []
   },
   "source": [
    "## DMR hits"
   ]
  },
  {
   "cell_type": "code",
   "execution_count": 5,
   "metadata": {
    "ExecuteTime": {
     "end_time": "2020-01-17T04:52:20.195804Z",
     "start_time": "2020-01-17T04:52:20.174173Z"
    },
    "papermill": {
     "duration": 0.035836,
     "end_time": "2020-01-14T06:46:51.886420",
     "exception": false,
     "start_time": "2020-01-14T06:46:51.850584",
     "status": "completed"
    },
    "tags": []
   },
   "outputs": [
    {
     "data": {
      "text/html": [
       "<div>\n",
       "<style scoped>\n",
       "    .dataframe tbody tr th:only-of-type {\n",
       "        vertical-align: middle;\n",
       "    }\n",
       "\n",
       "    .dataframe tbody tr th {\n",
       "        vertical-align: top;\n",
       "    }\n",
       "\n",
       "    .dataframe thead th {\n",
       "        text-align: right;\n",
       "    }\n",
       "</style>\n",
       "<table border=\"1\" class=\"dataframe\">\n",
       "  <thead>\n",
       "    <tr style=\"text-align: right;\">\n",
       "      <th></th>\n",
       "      <th>0</th>\n",
       "      <th>1</th>\n",
       "      <th>2</th>\n",
       "    </tr>\n",
       "    <tr>\n",
       "      <th>3</th>\n",
       "      <th></th>\n",
       "      <th></th>\n",
       "      <th></th>\n",
       "    </tr>\n",
       "  </thead>\n",
       "  <tbody>\n",
       "    <tr>\n",
       "      <th>DGm3c_29</th>\n",
       "      <td>chr1</td>\n",
       "      <td>3265693</td>\n",
       "      <td>3265693</td>\n",
       "    </tr>\n",
       "    <tr>\n",
       "      <th>DGm3c_82</th>\n",
       "      <td>chr1</td>\n",
       "      <td>3477115</td>\n",
       "      <td>3477311</td>\n",
       "    </tr>\n",
       "    <tr>\n",
       "      <th>DGm3c_106</th>\n",
       "      <td>chr1</td>\n",
       "      <td>3588523</td>\n",
       "      <td>3588523</td>\n",
       "    </tr>\n",
       "    <tr>\n",
       "      <th>DGm3c_115</th>\n",
       "      <td>chr1</td>\n",
       "      <td>3640716</td>\n",
       "      <td>3640716</td>\n",
       "    </tr>\n",
       "    <tr>\n",
       "      <th>DGm3c_168</th>\n",
       "      <td>chr1</td>\n",
       "      <td>3980409</td>\n",
       "      <td>3980616</td>\n",
       "    </tr>\n",
       "  </tbody>\n",
       "</table>\n",
       "</div>"
      ],
      "text/plain": [
       "              0        1        2\n",
       "3                                \n",
       "DGm3c_29   chr1  3265693  3265693\n",
       "DGm3c_82   chr1  3477115  3477311\n",
       "DGm3c_106  chr1  3588523  3588523\n",
       "DGm3c_115  chr1  3640716  3640716\n",
       "DGm3c_168  chr1  3980409  3980616"
      ]
     },
     "execution_count": 5,
     "metadata": {},
     "output_type": "execute_result"
    }
   ],
   "source": [
    "dmr_bed_df = pd.read_csv(dmr_hits_path, sep='\\t', header=None, index_col=3)\n",
    "dmr_bed_df.head()"
   ]
  },
  {
   "cell_type": "code",
   "execution_count": 6,
   "metadata": {
    "ExecuteTime": {
     "end_time": "2020-01-17T04:52:22.325735Z",
     "start_time": "2020-01-17T04:52:20.197127Z"
    },
    "papermill": {
     "duration": 1.867941,
     "end_time": "2020-01-14T06:46:53.764907",
     "exception": false,
     "start_time": "2020-01-14T06:46:51.896966",
     "status": "completed"
    },
    "tags": []
   },
   "outputs": [
    {
     "data": {
      "text/plain": [
       "AnnData object with n_obs × n_vars = 9100 × 719 \n",
       "    obs: 'chrom', 'start', 'end'"
      ]
     },
     "execution_count": 6,
     "metadata": {},
     "output_type": "execute_result"
    }
   ],
   "source": [
    "motif_hits = anndata.read_h5ad(motif_hits_path)\n",
    "motif_hits = motif_hits[dmr_bed_df.index, :].copy()\n",
    "motif_ids = motif_hits.var_names\n",
    "motif_hits.X = motif_hits.X.todense()\n",
    "motif_hits"
   ]
  },
  {
   "cell_type": "code",
   "execution_count": 7,
   "metadata": {
    "ExecuteTime": {
     "end_time": "2020-01-17T04:52:22.520261Z",
     "start_time": "2020-01-17T04:52:22.328004Z"
    },
    "papermill": {
     "duration": 0.241462,
     "end_time": "2020-01-14T06:46:54.016505",
     "exception": false,
     "start_time": "2020-01-14T06:46:53.775043",
     "status": "completed"
    },
    "tags": []
   },
   "outputs": [],
   "source": [
    "# mask small motif scores\n",
    "motif_cutoff = pd.Series(np.apply_along_axis(lambda i: np.quantile(i[i>0], 0.99) * mask_quantile_to99, \n",
    "                                             0, motif_hits.X),\n",
    "                         index=motif_hits.var_names)\n",
    "# only keep value larger than the cutoff for each motif\n",
    "motif_hits.X = np.multiply(motif_hits.X, (motif_hits.X > motif_cutoff.values[None, :]))"
   ]
  },
  {
   "cell_type": "markdown",
   "metadata": {
    "papermill": {
     "duration": 0.010033,
     "end_time": "2020-01-14T06:46:54.037687",
     "exception": false,
     "start_time": "2020-01-14T06:46:54.027654",
     "status": "completed"
    },
    "tags": []
   },
   "source": [
    "## Background Hits"
   ]
  },
  {
   "cell_type": "code",
   "execution_count": 8,
   "metadata": {
    "ExecuteTime": {
     "end_time": "2020-01-17T04:52:23.796408Z",
     "start_time": "2020-01-17T04:52:22.522089Z"
    },
    "papermill": {
     "duration": 1.12806,
     "end_time": "2020-01-14T06:46:55.175787",
     "exception": false,
     "start_time": "2020-01-14T06:46:54.047727",
     "status": "completed"
    },
    "tags": []
   },
   "outputs": [],
   "source": [
    "background_motif_hits = anndata.read_h5ad(\n",
    "    '/home/hanliu/project/mouse_rostral_brain/DMR/BackgroundDMR/MotifScan.h5ad'\n",
    ")"
   ]
  },
  {
   "cell_type": "code",
   "execution_count": 9,
   "metadata": {
    "ExecuteTime": {
     "end_time": "2020-01-17T04:52:24.949388Z",
     "start_time": "2020-01-17T04:52:23.797827Z"
    },
    "papermill": {
     "duration": 0.996983,
     "end_time": "2020-01-14T06:46:56.183915",
     "exception": false,
     "start_time": "2020-01-14T06:46:55.186932",
     "status": "completed"
    },
    "tags": []
   },
   "outputs": [],
   "source": [
    "dmr_bed = pybedtools.BedTool().from_dataframe(dmr_bed_df)\n",
    "bg_bed = pybedtools.BedTool().from_dataframe(\n",
    "    background_motif_hits.obs.reset_index().iloc[:, [1, 2, 3, 0]])"
   ]
  },
  {
   "cell_type": "code",
   "execution_count": 10,
   "metadata": {
    "ExecuteTime": {
     "end_time": "2020-01-17T04:52:26.666820Z",
     "start_time": "2020-01-17T04:52:24.952784Z"
    },
    "papermill": {
     "duration": 1.514568,
     "end_time": "2020-01-14T06:46:57.709622",
     "exception": false,
     "start_time": "2020-01-14T06:46:56.195054",
     "status": "completed"
    },
    "tags": []
   },
   "outputs": [],
   "source": [
    "# exclude background that overlap with DMR\n",
    "bg_no_overlap = bg_bed.intersect(dmr_bed, v=True)\n",
    "use_bg = bg_no_overlap.to_dataframe().iloc[:, -1].values\n",
    "background_motif_hits = background_motif_hits[use_bg, :]\n",
    "\n",
    "# make sure col in same order\n",
    "background_motif_hits = background_motif_hits[:, motif_ids].copy()"
   ]
  },
  {
   "cell_type": "code",
   "execution_count": 11,
   "metadata": {
    "ExecuteTime": {
     "end_time": "2020-01-17T04:52:29.325037Z",
     "start_time": "2020-01-17T04:52:26.668783Z"
    },
    "papermill": {
     "duration": 2.254281,
     "end_time": "2020-01-14T06:46:59.974753",
     "exception": false,
     "start_time": "2020-01-14T06:46:57.720472",
     "status": "completed"
    },
    "tags": []
   },
   "outputs": [],
   "source": [
    "judge_matrix = csr_matrix(background_motif_hits.X > motif_cutoff.values[None, :])\n",
    "background_motif_hits.X = background_motif_hits.X.multiply(judge_matrix)"
   ]
  },
  {
   "cell_type": "code",
   "execution_count": 12,
   "metadata": {
    "ExecuteTime": {
     "end_time": "2020-01-17T04:52:29.332146Z",
     "start_time": "2020-01-17T04:52:29.327268Z"
    },
    "papermill": {
     "duration": 0.017528,
     "end_time": "2020-01-14T06:47:00.003251",
     "exception": false,
     "start_time": "2020-01-14T06:46:59.985723",
     "status": "completed"
    },
    "tags": []
   },
   "outputs": [
    {
     "data": {
      "text/plain": [
       "AnnData object with n_obs × n_vars = 344821 × 719 \n",
       "    obs: 'chrom', 'start', 'end'"
      ]
     },
     "execution_count": 12,
     "metadata": {},
     "output_type": "execute_result"
    }
   ],
   "source": [
    "background_motif_hits"
   ]
  },
  {
   "cell_type": "markdown",
   "metadata": {
    "papermill": {
     "duration": 0.0099,
     "end_time": "2020-01-14T06:47:00.023041",
     "exception": false,
     "start_time": "2020-01-14T06:47:00.013141",
     "status": "completed"
    },
    "tags": []
   },
   "source": [
    "## Motif hits contingency table"
   ]
  },
  {
   "cell_type": "code",
   "execution_count": 13,
   "metadata": {
    "ExecuteTime": {
     "end_time": "2020-01-17T04:52:29.563953Z",
     "start_time": "2020-01-17T04:52:29.333836Z"
    },
    "papermill": {
     "duration": 0.175172,
     "end_time": "2020-01-14T06:47:00.208210",
     "exception": false,
     "start_time": "2020-01-14T06:47:00.033038",
     "status": "completed"
    },
    "tags": []
   },
   "outputs": [],
   "source": [
    "# calculate motif occurence, not considering hits here\n",
    "pos = (motif_hits.X > 0).sum(axis=0)\n",
    "pos_total = motif_hits.shape[0]\n",
    "\n",
    "neg = (background_motif_hits.X > 0).sum(axis=0)\n",
    "neg_total = background_motif_hits.shape[0]"
   ]
  },
  {
   "cell_type": "code",
   "execution_count": 14,
   "metadata": {
    "ExecuteTime": {
     "end_time": "2020-01-17T04:52:29.570603Z",
     "start_time": "2020-01-17T04:52:29.565713Z"
    },
    "papermill": {
     "duration": 0.064137,
     "end_time": "2020-01-14T06:47:00.283555",
     "exception": false,
     "start_time": "2020-01-14T06:47:00.219418",
     "status": "completed"
    },
    "scrolled": true,
    "tags": []
   },
   "outputs": [],
   "source": [
    "tables = {}\n",
    "for motif, _pos, _neg in zip(motif_ids, pos.A1, neg.A1):\n",
    "    table = [[_pos, pos_total - _pos], [_neg, neg_total - _neg]]\n",
    "    tables[motif] = table"
   ]
  },
  {
   "cell_type": "code",
   "execution_count": 15,
   "metadata": {
    "ExecuteTime": {
     "end_time": "2020-01-17T04:52:30.237420Z",
     "start_time": "2020-01-17T04:52:29.572182Z"
    },
    "papermill": {
     "duration": 0.775867,
     "end_time": "2020-01-14T06:47:01.069401",
     "exception": false,
     "start_time": "2020-01-14T06:47:00.293534",
     "status": "completed"
    },
    "tags": []
   },
   "outputs": [],
   "source": [
    "results = {}\n",
    "with ProcessPoolExecutor(20) as executor:\n",
    "    fs = {}\n",
    "    for motif, t in tables.items():\n",
    "        f = executor.submit(stats.fisher_exact, t, alternative='greater')\n",
    "        fs[f] = motif\n",
    "\n",
    "    for f in as_completed(fs):\n",
    "        motif = fs[f]\n",
    "        odds, p = f.result()\n",
    "        results[motif] = {'oddsratio': odds, 'p_value': p}\n",
    "motif_enrich_df = pd.DataFrame(results).T\n",
    "\n",
    "_, p, _, _ = multipletests(motif_enrich_df['p_value'], method='fdr_bh')\n",
    "motif_enrich_df['adj_p'] = p\n",
    "\n",
    "motif_enrich_df['-lgp'] = -np.log10(motif_enrich_df['adj_p']).replace(\n",
    "    -np.inf, -300)\n",
    "\n",
    "records = {}\n",
    "for motif, t in tables.items():\n",
    "    tp, tn = t[0]\n",
    "    fp, fn = t[1]\n",
    "    tp_rate = tp / pos_total\n",
    "    fp_rate = fp / neg_total\n",
    "    records[motif] = dict(tp=tp,\n",
    "                          tn=tn,\n",
    "                          fp=fp,\n",
    "                          fn=fn,\n",
    "                          tp_rate=tp_rate,\n",
    "                          fp_rate=fp_rate)\n",
    "counts = pd.DataFrame(records).T\n",
    "motif_enrich_df = pd.concat([motif_enrich_df, counts], axis=1, sort=True)"
   ]
  },
  {
   "cell_type": "code",
   "execution_count": 16,
   "metadata": {
    "ExecuteTime": {
     "end_time": "2020-01-17T04:52:30.242461Z",
     "start_time": "2020-01-17T04:52:30.239308Z"
    },
    "papermill": {
     "duration": 0.015979,
     "end_time": "2020-01-14T06:47:01.096854",
     "exception": false,
     "start_time": "2020-01-14T06:47:01.080875",
     "status": "completed"
    },
    "tags": []
   },
   "outputs": [],
   "source": [
    "motif_enrich_df['Group'] = group"
   ]
  },
  {
   "cell_type": "code",
   "execution_count": 17,
   "metadata": {
    "ExecuteTime": {
     "end_time": "2020-01-17T04:52:30.250262Z",
     "start_time": "2020-01-17T04:52:30.243939Z"
    },
    "papermill": {
     "duration": 0.018111,
     "end_time": "2020-01-14T06:47:01.124556",
     "exception": false,
     "start_time": "2020-01-14T06:47:01.106445",
     "status": "completed"
    },
    "tags": []
   },
   "outputs": [
    {
     "data": {
      "text/plain": [
       "26"
      ]
     },
     "execution_count": 17,
     "metadata": {},
     "output_type": "execute_result"
    }
   ],
   "source": [
    "# final filter\n",
    "filtered_motif_df = motif_enrich_df[(motif_enrich_df['oddsratio'] > or_cutoff)\n",
    "                                    &\n",
    "                                    (motif_enrich_df['-lgp'] > neg_lgp_cutoff)]\n",
    "filtered_motif_df.shape[0]"
   ]
  },
  {
   "cell_type": "code",
   "execution_count": 18,
   "metadata": {
    "ExecuteTime": {
     "end_time": "2020-01-17T04:52:30.256353Z",
     "start_time": "2020-01-17T04:52:30.251528Z"
    },
    "papermill": {
     "duration": 0.017191,
     "end_time": "2020-01-14T06:47:01.151531",
     "exception": false,
     "start_time": "2020-01-14T06:47:01.134340",
     "status": "completed"
    },
    "tags": []
   },
   "outputs": [
    {
     "name": "stderr",
     "output_type": "stream",
     "text": [
      "/home/hanliu/miniconda3/envs/clustering/lib/python3.7/site-packages/ipykernel_launcher.py:1: FutureWarning: to_msgpack is deprecated and will be removed in a future version.\n",
      "It is recommended to use pyarrow for on-the-wire transmission of pandas objects.\n",
      "  \"\"\"Entry point for launching an IPython kernel.\n"
     ]
    }
   ],
   "source": [
    "motif_enrich_df.to_msgpack(output_dir / f'{group}.motif_enrichment.msg')"
   ]
  },
  {
   "cell_type": "code",
   "execution_count": 19,
   "metadata": {
    "ExecuteTime": {
     "end_time": "2020-01-17T04:52:30.266216Z",
     "start_time": "2020-01-17T04:52:30.257719Z"
    },
    "papermill": {
     "duration": 0.020894,
     "end_time": "2020-01-14T06:47:01.182419",
     "exception": false,
     "start_time": "2020-01-14T06:47:01.161525",
     "status": "completed"
    },
    "tags": []
   },
   "outputs": [],
   "source": [
    "pybedtools.cleanup()"
   ]
  },
  {
   "cell_type": "code",
   "execution_count": 20,
   "metadata": {
    "ExecuteTime": {
     "end_time": "2020-01-17T04:52:30.286135Z",
     "start_time": "2020-01-17T04:52:30.267520Z"
    },
    "papermill": {
     "duration": 0.033044,
     "end_time": "2020-01-14T06:47:01.226899",
     "exception": false,
     "start_time": "2020-01-14T06:47:01.193855",
     "status": "completed"
    },
    "tags": []
   },
   "outputs": [
    {
     "data": {
      "text/html": [
       "<div>\n",
       "<style scoped>\n",
       "    .dataframe tbody tr th:only-of-type {\n",
       "        vertical-align: middle;\n",
       "    }\n",
       "\n",
       "    .dataframe tbody tr th {\n",
       "        vertical-align: top;\n",
       "    }\n",
       "\n",
       "    .dataframe thead th {\n",
       "        text-align: right;\n",
       "    }\n",
       "</style>\n",
       "<table border=\"1\" class=\"dataframe\">\n",
       "  <thead>\n",
       "    <tr style=\"text-align: right;\">\n",
       "      <th></th>\n",
       "      <th>oddsratio</th>\n",
       "      <th>p_value</th>\n",
       "      <th>adj_p</th>\n",
       "      <th>-lgp</th>\n",
       "      <th>tp</th>\n",
       "      <th>tn</th>\n",
       "      <th>fp</th>\n",
       "      <th>fn</th>\n",
       "      <th>tp_rate</th>\n",
       "      <th>fp_rate</th>\n",
       "      <th>Group</th>\n",
       "    </tr>\n",
       "  </thead>\n",
       "  <tbody>\n",
       "    <tr>\n",
       "      <th>MA0052.4</th>\n",
       "      <td>2.434923</td>\n",
       "      <td>3.592528e-23</td>\n",
       "      <td>1.435015e-21</td>\n",
       "      <td>20.843144</td>\n",
       "      <td>170.0</td>\n",
       "      <td>8930.0</td>\n",
       "      <td>2675.0</td>\n",
       "      <td>342146.0</td>\n",
       "      <td>0.018681</td>\n",
       "      <td>0.007758</td>\n",
       "      <td>IT-L5+ORB</td>\n",
       "    </tr>\n",
       "    <tr>\n",
       "      <th>MA0091.1</th>\n",
       "      <td>3.929799</td>\n",
       "      <td>3.923555e-70</td>\n",
       "      <td>7.052590e-68</td>\n",
       "      <td>67.151651</td>\n",
       "      <td>266.0</td>\n",
       "      <td>8834.0</td>\n",
       "      <td>2622.0</td>\n",
       "      <td>342199.0</td>\n",
       "      <td>0.029231</td>\n",
       "      <td>0.007604</td>\n",
       "      <td>IT-L5+ORB</td>\n",
       "    </tr>\n",
       "    <tr>\n",
       "      <th>MA0461.2</th>\n",
       "      <td>2.881616</td>\n",
       "      <td>3.330582e-40</td>\n",
       "      <td>2.176989e-38</td>\n",
       "      <td>37.662144</td>\n",
       "      <td>228.0</td>\n",
       "      <td>8872.0</td>\n",
       "      <td>3048.0</td>\n",
       "      <td>341773.0</td>\n",
       "      <td>0.025055</td>\n",
       "      <td>0.008839</td>\n",
       "      <td>IT-L5+ORB</td>\n",
       "    </tr>\n",
       "    <tr>\n",
       "      <th>MA0497.1</th>\n",
       "      <td>2.628959</td>\n",
       "      <td>2.864622e-22</td>\n",
       "      <td>1.084033e-20</td>\n",
       "      <td>19.964957</td>\n",
       "      <td>141.0</td>\n",
       "      <td>8959.0</td>\n",
       "      <td>2052.0</td>\n",
       "      <td>342769.0</td>\n",
       "      <td>0.015495</td>\n",
       "      <td>0.005951</td>\n",
       "      <td>IT-L5+ORB</td>\n",
       "    </tr>\n",
       "    <tr>\n",
       "      <th>MA0509.2</th>\n",
       "      <td>2.862724</td>\n",
       "      <td>6.646411e-17</td>\n",
       "      <td>2.172168e-15</td>\n",
       "      <td>14.663107</td>\n",
       "      <td>90.0</td>\n",
       "      <td>9010.0</td>\n",
       "      <td>1199.0</td>\n",
       "      <td>343622.0</td>\n",
       "      <td>0.009890</td>\n",
       "      <td>0.003477</td>\n",
       "      <td>IT-L5+ORB</td>\n",
       "    </tr>\n",
       "    <tr>\n",
       "      <th>MA0607.1</th>\n",
       "      <td>2.499743</td>\n",
       "      <td>1.289065e-97</td>\n",
       "      <td>4.634187e-95</td>\n",
       "      <td>94.334026</td>\n",
       "      <td>756.0</td>\n",
       "      <td>8344.0</td>\n",
       "      <td>12061.0</td>\n",
       "      <td>332760.0</td>\n",
       "      <td>0.083077</td>\n",
       "      <td>0.034978</td>\n",
       "      <td>IT-L5+ORB</td>\n",
       "    </tr>\n",
       "    <tr>\n",
       "      <th>MA0619.1</th>\n",
       "      <td>1.744019</td>\n",
       "      <td>6.562367e-70</td>\n",
       "      <td>9.436684e-68</td>\n",
       "      <td>67.025181</td>\n",
       "      <td>1396.0</td>\n",
       "      <td>7704.0</td>\n",
       "      <td>32455.0</td>\n",
       "      <td>312366.0</td>\n",
       "      <td>0.153407</td>\n",
       "      <td>0.094121</td>\n",
       "      <td>IT-L5+ORB</td>\n",
       "    </tr>\n",
       "    <tr>\n",
       "      <th>MA0623.2</th>\n",
       "      <td>2.671892</td>\n",
       "      <td>1.363666e-27</td>\n",
       "      <td>5.767505e-26</td>\n",
       "      <td>25.239012</td>\n",
       "      <td>173.0</td>\n",
       "      <td>8927.0</td>\n",
       "      <td>2483.0</td>\n",
       "      <td>342338.0</td>\n",
       "      <td>0.019011</td>\n",
       "      <td>0.007201</td>\n",
       "      <td>IT-L5+ORB</td>\n",
       "    </tr>\n",
       "    <tr>\n",
       "      <th>MA0633.1</th>\n",
       "      <td>2.866451</td>\n",
       "      <td>1.219669e-44</td>\n",
       "      <td>9.743804e-43</td>\n",
       "      <td>42.011271</td>\n",
       "      <td>257.0</td>\n",
       "      <td>8843.0</td>\n",
       "      <td>3461.0</td>\n",
       "      <td>341360.0</td>\n",
       "      <td>0.028242</td>\n",
       "      <td>0.010037</td>\n",
       "      <td>IT-L5+ORB</td>\n",
       "    </tr>\n",
       "    <tr>\n",
       "      <th>MA0668.1</th>\n",
       "      <td>3.253672</td>\n",
       "      <td>1.898270e-32</td>\n",
       "      <td>9.748972e-31</td>\n",
       "      <td>30.011041</td>\n",
       "      <td>151.0</td>\n",
       "      <td>8949.0</td>\n",
       "      <td>1779.0</td>\n",
       "      <td>343042.0</td>\n",
       "      <td>0.016593</td>\n",
       "      <td>0.005159</td>\n",
       "      <td>IT-L5+ORB</td>\n",
       "    </tr>\n",
       "    <tr>\n",
       "      <th>MA0669.1</th>\n",
       "      <td>2.680075</td>\n",
       "      <td>5.544206e-17</td>\n",
       "      <td>1.898230e-15</td>\n",
       "      <td>14.721651</td>\n",
       "      <td>101.0</td>\n",
       "      <td>8999.0</td>\n",
       "      <td>1438.0</td>\n",
       "      <td>343383.0</td>\n",
       "      <td>0.011099</td>\n",
       "      <td>0.004170</td>\n",
       "      <td>IT-L5+ORB</td>\n",
       "    </tr>\n",
       "    <tr>\n",
       "      <th>MA0678.1</th>\n",
       "      <td>3.335898</td>\n",
       "      <td>2.177016e-21</td>\n",
       "      <td>7.826373e-20</td>\n",
       "      <td>19.106439</td>\n",
       "      <td>93.0</td>\n",
       "      <td>9007.0</td>\n",
       "      <td>1064.0</td>\n",
       "      <td>343757.0</td>\n",
       "      <td>0.010220</td>\n",
       "      <td>0.003086</td>\n",
       "      <td>IT-L5+ORB</td>\n",
       "    </tr>\n",
       "    <tr>\n",
       "      <th>MA0798.2</th>\n",
       "      <td>2.814037</td>\n",
       "      <td>5.159913e-15</td>\n",
       "      <td>1.426915e-13</td>\n",
       "      <td>12.845602</td>\n",
       "      <td>81.0</td>\n",
       "      <td>9019.0</td>\n",
       "      <td>1097.0</td>\n",
       "      <td>343724.0</td>\n",
       "      <td>0.008901</td>\n",
       "      <td>0.003181</td>\n",
       "      <td>IT-L5+ORB</td>\n",
       "    </tr>\n",
       "    <tr>\n",
       "      <th>MA0818.1</th>\n",
       "      <td>2.956050</td>\n",
       "      <td>3.820543e-38</td>\n",
       "      <td>2.289142e-36</td>\n",
       "      <td>35.640327</td>\n",
       "      <td>207.0</td>\n",
       "      <td>8893.0</td>\n",
       "      <td>2694.0</td>\n",
       "      <td>342127.0</td>\n",
       "      <td>0.022747</td>\n",
       "      <td>0.007813</td>\n",
       "      <td>IT-L5+ORB</td>\n",
       "    </tr>\n",
       "    <tr>\n",
       "      <th>MA0826.1</th>\n",
       "      <td>2.832167</td>\n",
       "      <td>3.739089e-15</td>\n",
       "      <td>1.075362e-13</td>\n",
       "      <td>12.968445</td>\n",
       "      <td>81.0</td>\n",
       "      <td>9019.0</td>\n",
       "      <td>1090.0</td>\n",
       "      <td>343731.0</td>\n",
       "      <td>0.008901</td>\n",
       "      <td>0.003161</td>\n",
       "      <td>IT-L5+ORB</td>\n",
       "    </tr>\n",
       "    <tr>\n",
       "      <th>MA0827.1</th>\n",
       "      <td>3.082235</td>\n",
       "      <td>4.976388e-29</td>\n",
       "      <td>2.236265e-27</td>\n",
       "      <td>26.650477</td>\n",
       "      <td>145.0</td>\n",
       "      <td>8955.0</td>\n",
       "      <td>1802.0</td>\n",
       "      <td>343019.0</td>\n",
       "      <td>0.015934</td>\n",
       "      <td>0.005226</td>\n",
       "      <td>IT-L5+ORB</td>\n",
       "    </tr>\n",
       "    <tr>\n",
       "      <th>MA1109.1</th>\n",
       "      <td>2.431090</td>\n",
       "      <td>1.085913e-54</td>\n",
       "      <td>1.115388e-52</td>\n",
       "      <td>51.952574</td>\n",
       "      <td>430.0</td>\n",
       "      <td>8670.0</td>\n",
       "      <td>6894.0</td>\n",
       "      <td>337927.0</td>\n",
       "      <td>0.047253</td>\n",
       "      <td>0.019993</td>\n",
       "      <td>IT-L5+ORB</td>\n",
       "    </tr>\n",
       "    <tr>\n",
       "      <th>MA1115.1</th>\n",
       "      <td>1.669148</td>\n",
       "      <td>2.038900e-16</td>\n",
       "      <td>6.373779e-15</td>\n",
       "      <td>14.195603</td>\n",
       "      <td>316.0</td>\n",
       "      <td>8784.0</td>\n",
       "      <td>7275.0</td>\n",
       "      <td>337546.0</td>\n",
       "      <td>0.034725</td>\n",
       "      <td>0.021098</td>\n",
       "      <td>IT-L5+ORB</td>\n",
       "    </tr>\n",
       "    <tr>\n",
       "      <th>MA1123.2</th>\n",
       "      <td>1.832013</td>\n",
       "      <td>1.065954e-30</td>\n",
       "      <td>5.109471e-29</td>\n",
       "      <td>28.291624</td>\n",
       "      <td>466.0</td>\n",
       "      <td>8634.0</td>\n",
       "      <td>9868.0</td>\n",
       "      <td>334953.0</td>\n",
       "      <td>0.051209</td>\n",
       "      <td>0.028618</td>\n",
       "      <td>IT-L5+ORB</td>\n",
       "    </tr>\n",
       "    <tr>\n",
       "      <th>MA1468.1</th>\n",
       "      <td>2.950796</td>\n",
       "      <td>3.506579e-42</td>\n",
       "      <td>2.521230e-40</td>\n",
       "      <td>39.598388</td>\n",
       "      <td>231.0</td>\n",
       "      <td>8869.0</td>\n",
       "      <td>3017.0</td>\n",
       "      <td>341804.0</td>\n",
       "      <td>0.025385</td>\n",
       "      <td>0.008749</td>\n",
       "      <td>IT-L5+ORB</td>\n",
       "    </tr>\n",
       "    <tr>\n",
       "      <th>MA1472.1</th>\n",
       "      <td>1.576167</td>\n",
       "      <td>1.513373e-35</td>\n",
       "      <td>8.370116e-34</td>\n",
       "      <td>33.077269</td>\n",
       "      <td>964.0</td>\n",
       "      <td>8136.0</td>\n",
       "      <td>24109.0</td>\n",
       "      <td>320712.0</td>\n",
       "      <td>0.105934</td>\n",
       "      <td>0.069917</td>\n",
       "      <td>IT-L5+ORB</td>\n",
       "    </tr>\n",
       "    <tr>\n",
       "      <th>MA1570.1</th>\n",
       "      <td>2.236375</td>\n",
       "      <td>4.200725e-45</td>\n",
       "      <td>3.775402e-43</td>\n",
       "      <td>42.423037</td>\n",
       "      <td>418.0</td>\n",
       "      <td>8682.0</td>\n",
       "      <td>7267.0</td>\n",
       "      <td>337554.0</td>\n",
       "      <td>0.045934</td>\n",
       "      <td>0.021075</td>\n",
       "      <td>IT-L5+ORB</td>\n",
       "    </tr>\n",
       "    <tr>\n",
       "      <th>MA1618.1</th>\n",
       "      <td>2.630533</td>\n",
       "      <td>2.203290e-57</td>\n",
       "      <td>2.640276e-55</td>\n",
       "      <td>54.578351</td>\n",
       "      <td>389.0</td>\n",
       "      <td>8711.0</td>\n",
       "      <td>5756.0</td>\n",
       "      <td>339065.0</td>\n",
       "      <td>0.042747</td>\n",
       "      <td>0.016693</td>\n",
       "      <td>IT-L5+ORB</td>\n",
       "    </tr>\n",
       "    <tr>\n",
       "      <th>MA1638.1</th>\n",
       "      <td>2.132987</td>\n",
       "      <td>1.603566e-123</td>\n",
       "      <td>1.152964e-120</td>\n",
       "      <td>119.938184</td>\n",
       "      <td>1419.0</td>\n",
       "      <td>7681.0</td>\n",
       "      <td>27485.0</td>\n",
       "      <td>317336.0</td>\n",
       "      <td>0.155934</td>\n",
       "      <td>0.079708</td>\n",
       "      <td>IT-L5+ORB</td>\n",
       "    </tr>\n",
       "    <tr>\n",
       "      <th>MA1641.1</th>\n",
       "      <td>1.625061</td>\n",
       "      <td>5.752109e-14</td>\n",
       "      <td>1.477059e-12</td>\n",
       "      <td>11.830602</td>\n",
       "      <td>290.0</td>\n",
       "      <td>8810.0</td>\n",
       "      <td>6846.0</td>\n",
       "      <td>337975.0</td>\n",
       "      <td>0.031868</td>\n",
       "      <td>0.019854</td>\n",
       "      <td>IT-L5+ORB</td>\n",
       "    </tr>\n",
       "    <tr>\n",
       "      <th>MA1642.1</th>\n",
       "      <td>2.446783</td>\n",
       "      <td>2.117580e-90</td>\n",
       "      <td>5.075133e-88</td>\n",
       "      <td>87.294553</td>\n",
       "      <td>727.0</td>\n",
       "      <td>8373.0</td>\n",
       "      <td>11817.0</td>\n",
       "      <td>333004.0</td>\n",
       "      <td>0.079890</td>\n",
       "      <td>0.034270</td>\n",
       "      <td>IT-L5+ORB</td>\n",
       "    </tr>\n",
       "  </tbody>\n",
       "</table>\n",
       "</div>"
      ],
      "text/plain": [
       "          oddsratio        p_value          adj_p        -lgp      tp      tn  \\\n",
       "MA0052.4   2.434923   3.592528e-23   1.435015e-21   20.843144   170.0  8930.0   \n",
       "MA0091.1   3.929799   3.923555e-70   7.052590e-68   67.151651   266.0  8834.0   \n",
       "MA0461.2   2.881616   3.330582e-40   2.176989e-38   37.662144   228.0  8872.0   \n",
       "MA0497.1   2.628959   2.864622e-22   1.084033e-20   19.964957   141.0  8959.0   \n",
       "MA0509.2   2.862724   6.646411e-17   2.172168e-15   14.663107    90.0  9010.0   \n",
       "MA0607.1   2.499743   1.289065e-97   4.634187e-95   94.334026   756.0  8344.0   \n",
       "MA0619.1   1.744019   6.562367e-70   9.436684e-68   67.025181  1396.0  7704.0   \n",
       "MA0623.2   2.671892   1.363666e-27   5.767505e-26   25.239012   173.0  8927.0   \n",
       "MA0633.1   2.866451   1.219669e-44   9.743804e-43   42.011271   257.0  8843.0   \n",
       "MA0668.1   3.253672   1.898270e-32   9.748972e-31   30.011041   151.0  8949.0   \n",
       "MA0669.1   2.680075   5.544206e-17   1.898230e-15   14.721651   101.0  8999.0   \n",
       "MA0678.1   3.335898   2.177016e-21   7.826373e-20   19.106439    93.0  9007.0   \n",
       "MA0798.2   2.814037   5.159913e-15   1.426915e-13   12.845602    81.0  9019.0   \n",
       "MA0818.1   2.956050   3.820543e-38   2.289142e-36   35.640327   207.0  8893.0   \n",
       "MA0826.1   2.832167   3.739089e-15   1.075362e-13   12.968445    81.0  9019.0   \n",
       "MA0827.1   3.082235   4.976388e-29   2.236265e-27   26.650477   145.0  8955.0   \n",
       "MA1109.1   2.431090   1.085913e-54   1.115388e-52   51.952574   430.0  8670.0   \n",
       "MA1115.1   1.669148   2.038900e-16   6.373779e-15   14.195603   316.0  8784.0   \n",
       "MA1123.2   1.832013   1.065954e-30   5.109471e-29   28.291624   466.0  8634.0   \n",
       "MA1468.1   2.950796   3.506579e-42   2.521230e-40   39.598388   231.0  8869.0   \n",
       "MA1472.1   1.576167   1.513373e-35   8.370116e-34   33.077269   964.0  8136.0   \n",
       "MA1570.1   2.236375   4.200725e-45   3.775402e-43   42.423037   418.0  8682.0   \n",
       "MA1618.1   2.630533   2.203290e-57   2.640276e-55   54.578351   389.0  8711.0   \n",
       "MA1638.1   2.132987  1.603566e-123  1.152964e-120  119.938184  1419.0  7681.0   \n",
       "MA1641.1   1.625061   5.752109e-14   1.477059e-12   11.830602   290.0  8810.0   \n",
       "MA1642.1   2.446783   2.117580e-90   5.075133e-88   87.294553   727.0  8373.0   \n",
       "\n",
       "               fp        fn   tp_rate   fp_rate      Group  \n",
       "MA0052.4   2675.0  342146.0  0.018681  0.007758  IT-L5+ORB  \n",
       "MA0091.1   2622.0  342199.0  0.029231  0.007604  IT-L5+ORB  \n",
       "MA0461.2   3048.0  341773.0  0.025055  0.008839  IT-L5+ORB  \n",
       "MA0497.1   2052.0  342769.0  0.015495  0.005951  IT-L5+ORB  \n",
       "MA0509.2   1199.0  343622.0  0.009890  0.003477  IT-L5+ORB  \n",
       "MA0607.1  12061.0  332760.0  0.083077  0.034978  IT-L5+ORB  \n",
       "MA0619.1  32455.0  312366.0  0.153407  0.094121  IT-L5+ORB  \n",
       "MA0623.2   2483.0  342338.0  0.019011  0.007201  IT-L5+ORB  \n",
       "MA0633.1   3461.0  341360.0  0.028242  0.010037  IT-L5+ORB  \n",
       "MA0668.1   1779.0  343042.0  0.016593  0.005159  IT-L5+ORB  \n",
       "MA0669.1   1438.0  343383.0  0.011099  0.004170  IT-L5+ORB  \n",
       "MA0678.1   1064.0  343757.0  0.010220  0.003086  IT-L5+ORB  \n",
       "MA0798.2   1097.0  343724.0  0.008901  0.003181  IT-L5+ORB  \n",
       "MA0818.1   2694.0  342127.0  0.022747  0.007813  IT-L5+ORB  \n",
       "MA0826.1   1090.0  343731.0  0.008901  0.003161  IT-L5+ORB  \n",
       "MA0827.1   1802.0  343019.0  0.015934  0.005226  IT-L5+ORB  \n",
       "MA1109.1   6894.0  337927.0  0.047253  0.019993  IT-L5+ORB  \n",
       "MA1115.1   7275.0  337546.0  0.034725  0.021098  IT-L5+ORB  \n",
       "MA1123.2   9868.0  334953.0  0.051209  0.028618  IT-L5+ORB  \n",
       "MA1468.1   3017.0  341804.0  0.025385  0.008749  IT-L5+ORB  \n",
       "MA1472.1  24109.0  320712.0  0.105934  0.069917  IT-L5+ORB  \n",
       "MA1570.1   7267.0  337554.0  0.045934  0.021075  IT-L5+ORB  \n",
       "MA1618.1   5756.0  339065.0  0.042747  0.016693  IT-L5+ORB  \n",
       "MA1638.1  27485.0  317336.0  0.155934  0.079708  IT-L5+ORB  \n",
       "MA1641.1   6846.0  337975.0  0.031868  0.019854  IT-L5+ORB  \n",
       "MA1642.1  11817.0  333004.0  0.079890  0.034270  IT-L5+ORB  "
      ]
     },
     "execution_count": 20,
     "metadata": {},
     "output_type": "execute_result"
    }
   ],
   "source": [
    "filtered_motif_df"
   ]
  },
  {
   "cell_type": "code",
   "execution_count": null,
   "metadata": {
    "papermill": {
     "duration": 0.011217,
     "end_time": "2020-01-14T06:47:01.248774",
     "exception": false,
     "start_time": "2020-01-14T06:47:01.237557",
     "status": "completed"
    },
    "tags": []
   },
   "outputs": [],
   "source": []
  }
 ],
 "metadata": {
  "hide_input": false,
  "kernelspec": {
   "display_name": "Python 3",
   "language": "python",
   "name": "python3"
  },
  "language_info": {
   "codemirror_mode": {
    "name": "ipython",
    "version": 3
   },
   "file_extension": ".py",
   "mimetype": "text/x-python",
   "name": "python",
   "nbconvert_exporter": "python",
   "pygments_lexer": "ipython3",
   "version": "3.7.3"
  },
  "papermill": {
   "duration": 11.538085,
   "end_time": "2020-01-14T06:47:01.666655",
   "environment_variables": {},
   "exception": null,
   "input_path": "4.MotifEnrichment.ipynb",
   "output_path": "/home/hanliu/project/mouse_rostral_brain/DMR/ITSpatial_by_layer/IT-L6/Recipe/4.MotifEnrichment.IT-L5+ORB.ipynb",
   "parameters": {
    "dmr_hits_path": "/home/hanliu/project/mouse_rostral_brain/DMR/ITSpatial_by_layer/IT-L5/HypoDMR/IT-L5+ORB.DMS1.bed",
    "group": "IT-L5+ORB",
    "mask_quantile_to99": 0.9,
    "motif_hits_path": "/home/hanliu/project/mouse_rostral_brain/DMR/ITSpatial_by_layer/IT-L5/MotifScan.h5ad",
    "neg_lgp_cutoff": 10,
    "or_cutoff": 1.5,
    "output_dir": "/home/hanliu/project/mouse_rostral_brain/DMR/ITSpatial_by_layer/IT-L5/MotifEnrichment"
   },
   "start_time": "2020-01-14T06:46:50.128570",
   "version": "1.0.1"
  },
  "toc": {
   "base_numbering": 1,
   "nav_menu": {},
   "number_sections": true,
   "sideBar": true,
   "skip_h1_title": true,
   "title_cell": "Table of Contents",
   "title_sidebar": "Contents",
   "toc_cell": false,
   "toc_position": {},
   "toc_section_display": true,
   "toc_window_display": true
  }
 },
 "nbformat": 4,
 "nbformat_minor": 2
}
