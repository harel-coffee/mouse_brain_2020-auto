{
 "cells": [
  {
   "cell_type": "markdown",
   "metadata": {
    "papermill": {
     "duration": 0.010292,
     "end_time": "2020-01-14T06:47:02.601710",
     "exception": false,
     "start_time": "2020-01-14T06:47:02.591418",
     "status": "completed"
    },
    "tags": []
   },
   "source": [
    "# Motif Enrichment\n",
    "- The motif hits matrix save the max loglikelyhood score of a motif in that DMR\n",
    "- Before run the motif enrichment, I filter the scores for each motif using cutoff defined by\n",
    "    - `np.quantile(motif_score[motif_score > 0]) * mask_quantile_to99`\n",
    "- This filter will remove hits with low score, which is likely to be false positive\n",
    "- Its likely boosting the significance of real enrichment"
   ]
  },
  {
   "cell_type": "code",
   "execution_count": 1,
   "metadata": {
    "ExecuteTime": {
     "end_time": "2020-01-17T04:52:22.985162Z",
     "start_time": "2020-01-17T04:52:22.287449Z"
    },
    "papermill": {
     "duration": 0.720431,
     "end_time": "2020-01-14T06:47:03.333298",
     "exception": false,
     "start_time": "2020-01-14T06:47:02.612867",
     "status": "completed"
    },
    "tags": []
   },
   "outputs": [],
   "source": [
    "from concurrent.futures import ProcessPoolExecutor, as_completed\n",
    "import anndata\n",
    "import matplotlib.pyplot as plt\n",
    "import numpy as np\n",
    "import pandas as pd\n",
    "import pybedtools\n",
    "import scipy.stats as stats\n",
    "import seaborn as sns\n",
    "from scipy.sparse import csr_matrix\n",
    "from statsmodels.stats.multitest import multipletests\n",
    "import pathlib"
   ]
  },
  {
   "cell_type": "code",
   "execution_count": 2,
   "metadata": {
    "ExecuteTime": {
     "end_time": "2020-01-17T04:52:22.989692Z",
     "start_time": "2020-01-17T04:52:22.987008Z"
    },
    "papermill": {
     "duration": 0.015711,
     "end_time": "2020-01-14T06:47:03.359596",
     "exception": false,
     "start_time": "2020-01-14T06:47:03.343885",
     "status": "completed"
    },
    "tags": [
     "parameters"
    ]
   },
   "outputs": [],
   "source": [
    "mask_quantile_to99 = 0.9\n",
    "or_cutoff = 1.5\n",
    "neg_lgp_cutoff = 10\n",
    "group = 'IT-L23+ACA'\n",
    "\n",
    "motif_hits_path = '/home/hanliu/project/mouse_rostral_brain/DMR/ITSpatial_by_layer/IT-L23/MotifScan.h5ad'\n",
    "dmr_hits_path = f'/home/hanliu/project/mouse_rostral_brain/DMR/ITSpatial_by_layer/IT-L23/HypoDMR/{group}.DMS1.bed'\n",
    "output_dir = '/home/hanliu/project/mouse_rostral_brain/DMR/ITSpatial_by_layer/IT-L23/MotifEnrichment'\n"
   ]
  },
  {
   "cell_type": "code",
   "execution_count": 3,
   "metadata": {
    "ExecuteTime": {
     "end_time": "2020-01-17T04:52:22.993354Z",
     "start_time": "2020-01-17T04:52:22.991079Z"
    },
    "papermill": {
     "duration": 0.014689,
     "end_time": "2020-01-14T06:47:03.383658",
     "exception": false,
     "start_time": "2020-01-14T06:47:03.368969",
     "status": "completed"
    },
    "tags": [
     "injected-parameters"
    ]
   },
   "outputs": [],
   "source": [
    "# Parameters\n",
    "mask_quantile_to99 = 0.9\n",
    "or_cutoff = 1.5\n",
    "neg_lgp_cutoff = 10\n",
    "group = \"IT-L5+PFC\"\n",
    "motif_hits_path = \"/home/hanliu/project/mouse_rostral_brain/DMR/ITSpatial_by_layer/IT-L5/MotifScan.h5ad\"\n",
    "dmr_hits_path = \"/home/hanliu/project/mouse_rostral_brain/DMR/ITSpatial_by_layer/IT-L5/HypoDMR/IT-L5+PFC.DMS1.bed\"\n",
    "output_dir = \"/home/hanliu/project/mouse_rostral_brain/DMR/ITSpatial_by_layer/IT-L5/MotifEnrichment\"\n"
   ]
  },
  {
   "cell_type": "code",
   "execution_count": 4,
   "metadata": {
    "ExecuteTime": {
     "end_time": "2020-01-17T04:52:22.996750Z",
     "start_time": "2020-01-17T04:52:22.994486Z"
    },
    "papermill": {
     "duration": 0.01466,
     "end_time": "2020-01-14T06:47:03.407499",
     "exception": false,
     "start_time": "2020-01-14T06:47:03.392839",
     "status": "completed"
    },
    "tags": []
   },
   "outputs": [],
   "source": [
    "output_dir = pathlib.Path(output_dir)\n",
    "output_dir.mkdir(exist_ok=True)"
   ]
  },
  {
   "cell_type": "markdown",
   "metadata": {
    "papermill": {
     "duration": 0.009198,
     "end_time": "2020-01-14T06:47:03.425874",
     "exception": false,
     "start_time": "2020-01-14T06:47:03.416676",
     "status": "completed"
    },
    "tags": []
   },
   "source": [
    "## DMR hits"
   ]
  },
  {
   "cell_type": "code",
   "execution_count": 5,
   "metadata": {
    "ExecuteTime": {
     "end_time": "2020-01-17T04:52:23.035067Z",
     "start_time": "2020-01-17T04:52:22.997981Z"
    },
    "papermill": {
     "duration": 0.068946,
     "end_time": "2020-01-14T06:47:03.504061",
     "exception": false,
     "start_time": "2020-01-14T06:47:03.435115",
     "status": "completed"
    },
    "tags": []
   },
   "outputs": [
    {
     "data": {
      "text/html": [
       "<div>\n",
       "<style scoped>\n",
       "    .dataframe tbody tr th:only-of-type {\n",
       "        vertical-align: middle;\n",
       "    }\n",
       "\n",
       "    .dataframe tbody tr th {\n",
       "        vertical-align: top;\n",
       "    }\n",
       "\n",
       "    .dataframe thead th {\n",
       "        text-align: right;\n",
       "    }\n",
       "</style>\n",
       "<table border=\"1\" class=\"dataframe\">\n",
       "  <thead>\n",
       "    <tr style=\"text-align: right;\">\n",
       "      <th></th>\n",
       "      <th>0</th>\n",
       "      <th>1</th>\n",
       "      <th>2</th>\n",
       "    </tr>\n",
       "    <tr>\n",
       "      <th>3</th>\n",
       "      <th></th>\n",
       "      <th></th>\n",
       "      <th></th>\n",
       "    </tr>\n",
       "  </thead>\n",
       "  <tbody>\n",
       "    <tr>\n",
       "      <th>DGm3c_9</th>\n",
       "      <td>chr1</td>\n",
       "      <td>3114936</td>\n",
       "      <td>3115276</td>\n",
       "    </tr>\n",
       "    <tr>\n",
       "      <th>DGm3c_20</th>\n",
       "      <td>chr1</td>\n",
       "      <td>3213139</td>\n",
       "      <td>3213139</td>\n",
       "    </tr>\n",
       "    <tr>\n",
       "      <th>DGm3c_42</th>\n",
       "      <td>chr1</td>\n",
       "      <td>3346654</td>\n",
       "      <td>3346654</td>\n",
       "    </tr>\n",
       "    <tr>\n",
       "      <th>DGm3c_44</th>\n",
       "      <td>chr1</td>\n",
       "      <td>3361071</td>\n",
       "      <td>3361196</td>\n",
       "    </tr>\n",
       "    <tr>\n",
       "      <th>DGm3c_88</th>\n",
       "      <td>chr1</td>\n",
       "      <td>3511411</td>\n",
       "      <td>3511411</td>\n",
       "    </tr>\n",
       "  </tbody>\n",
       "</table>\n",
       "</div>"
      ],
      "text/plain": [
       "             0        1        2\n",
       "3                               \n",
       "DGm3c_9   chr1  3114936  3115276\n",
       "DGm3c_20  chr1  3213139  3213139\n",
       "DGm3c_42  chr1  3346654  3346654\n",
       "DGm3c_44  chr1  3361071  3361196\n",
       "DGm3c_88  chr1  3511411  3511411"
      ]
     },
     "execution_count": 5,
     "metadata": {},
     "output_type": "execute_result"
    }
   ],
   "source": [
    "dmr_bed_df = pd.read_csv(dmr_hits_path, sep='\\t', header=None, index_col=3)\n",
    "dmr_bed_df.head()"
   ]
  },
  {
   "cell_type": "code",
   "execution_count": 6,
   "metadata": {
    "ExecuteTime": {
     "end_time": "2020-01-17T04:52:25.209849Z",
     "start_time": "2020-01-17T04:52:23.036227Z"
    },
    "papermill": {
     "duration": 2.006967,
     "end_time": "2020-01-14T06:47:05.521702",
     "exception": false,
     "start_time": "2020-01-14T06:47:03.514735",
     "status": "completed"
    },
    "tags": []
   },
   "outputs": [
    {
     "data": {
      "text/plain": [
       "AnnData object with n_obs × n_vars = 30794 × 719 \n",
       "    obs: 'chrom', 'start', 'end'"
      ]
     },
     "execution_count": 6,
     "metadata": {},
     "output_type": "execute_result"
    }
   ],
   "source": [
    "motif_hits = anndata.read_h5ad(motif_hits_path)\n",
    "motif_hits = motif_hits[dmr_bed_df.index, :].copy()\n",
    "motif_ids = motif_hits.var_names\n",
    "motif_hits.X = motif_hits.X.todense()\n",
    "motif_hits"
   ]
  },
  {
   "cell_type": "code",
   "execution_count": 7,
   "metadata": {
    "ExecuteTime": {
     "end_time": "2020-01-17T04:52:25.686235Z",
     "start_time": "2020-01-17T04:52:25.211849Z"
    },
    "papermill": {
     "duration": 0.667665,
     "end_time": "2020-01-14T06:47:06.200066",
     "exception": false,
     "start_time": "2020-01-14T06:47:05.532401",
     "status": "completed"
    },
    "tags": []
   },
   "outputs": [],
   "source": [
    "# mask small motif scores\n",
    "motif_cutoff = pd.Series(np.apply_along_axis(lambda i: np.quantile(i[i>0], 0.99) * mask_quantile_to99, \n",
    "                                             0, motif_hits.X),\n",
    "                         index=motif_hits.var_names)\n",
    "# only keep value larger than the cutoff for each motif\n",
    "motif_hits.X = np.multiply(motif_hits.X, (motif_hits.X > motif_cutoff.values[None, :]))"
   ]
  },
  {
   "cell_type": "markdown",
   "metadata": {
    "papermill": {
     "duration": 0.010143,
     "end_time": "2020-01-14T06:47:06.221500",
     "exception": false,
     "start_time": "2020-01-14T06:47:06.211357",
     "status": "completed"
    },
    "tags": []
   },
   "source": [
    "## Background Hits"
   ]
  },
  {
   "cell_type": "code",
   "execution_count": 8,
   "metadata": {
    "ExecuteTime": {
     "end_time": "2020-01-17T04:52:26.931580Z",
     "start_time": "2020-01-17T04:52:25.687801Z"
    },
    "papermill": {
     "duration": 1.117512,
     "end_time": "2020-01-14T06:47:07.348961",
     "exception": false,
     "start_time": "2020-01-14T06:47:06.231449",
     "status": "completed"
    },
    "tags": []
   },
   "outputs": [],
   "source": [
    "background_motif_hits = anndata.read_h5ad(\n",
    "    '/home/hanliu/project/mouse_rostral_brain/DMR/BackgroundDMR/MotifScan.h5ad'\n",
    ")"
   ]
  },
  {
   "cell_type": "code",
   "execution_count": 9,
   "metadata": {
    "ExecuteTime": {
     "end_time": "2020-01-17T04:52:28.147277Z",
     "start_time": "2020-01-17T04:52:26.933822Z"
    },
    "papermill": {
     "duration": 1.02944,
     "end_time": "2020-01-14T06:47:08.389612",
     "exception": false,
     "start_time": "2020-01-14T06:47:07.360172",
     "status": "completed"
    },
    "tags": []
   },
   "outputs": [],
   "source": [
    "dmr_bed = pybedtools.BedTool().from_dataframe(dmr_bed_df)\n",
    "bg_bed = pybedtools.BedTool().from_dataframe(\n",
    "    background_motif_hits.obs.reset_index().iloc[:, [1, 2, 3, 0]])"
   ]
  },
  {
   "cell_type": "code",
   "execution_count": 10,
   "metadata": {
    "ExecuteTime": {
     "end_time": "2020-01-17T04:52:29.878369Z",
     "start_time": "2020-01-17T04:52:28.149077Z"
    },
    "papermill": {
     "duration": 1.530851,
     "end_time": "2020-01-14T06:47:09.931807",
     "exception": false,
     "start_time": "2020-01-14T06:47:08.400956",
     "status": "completed"
    },
    "tags": []
   },
   "outputs": [],
   "source": [
    "# exclude background that overlap with DMR\n",
    "bg_no_overlap = bg_bed.intersect(dmr_bed, v=True)\n",
    "use_bg = bg_no_overlap.to_dataframe().iloc[:, -1].values\n",
    "background_motif_hits = background_motif_hits[use_bg, :]\n",
    "\n",
    "# make sure col in same order\n",
    "background_motif_hits = background_motif_hits[:, motif_ids].copy()"
   ]
  },
  {
   "cell_type": "code",
   "execution_count": 11,
   "metadata": {
    "ExecuteTime": {
     "end_time": "2020-01-17T04:52:32.182083Z",
     "start_time": "2020-01-17T04:52:29.880166Z"
    },
    "papermill": {
     "duration": 2.193515,
     "end_time": "2020-01-14T06:47:12.136595",
     "exception": false,
     "start_time": "2020-01-14T06:47:09.943080",
     "status": "completed"
    },
    "tags": []
   },
   "outputs": [],
   "source": [
    "judge_matrix = csr_matrix(background_motif_hits.X > motif_cutoff.values[None, :])\n",
    "background_motif_hits.X = background_motif_hits.X.multiply(judge_matrix)"
   ]
  },
  {
   "cell_type": "code",
   "execution_count": 12,
   "metadata": {
    "ExecuteTime": {
     "end_time": "2020-01-17T04:52:32.187747Z",
     "start_time": "2020-01-17T04:52:32.183941Z"
    },
    "papermill": {
     "duration": 0.017041,
     "end_time": "2020-01-14T06:47:12.164548",
     "exception": false,
     "start_time": "2020-01-14T06:47:12.147507",
     "status": "completed"
    },
    "tags": []
   },
   "outputs": [
    {
     "data": {
      "text/plain": [
       "AnnData object with n_obs × n_vars = 341586 × 719 \n",
       "    obs: 'chrom', 'start', 'end'"
      ]
     },
     "execution_count": 12,
     "metadata": {},
     "output_type": "execute_result"
    }
   ],
   "source": [
    "background_motif_hits"
   ]
  },
  {
   "cell_type": "markdown",
   "metadata": {
    "papermill": {
     "duration": 0.009884,
     "end_time": "2020-01-14T06:47:12.184362",
     "exception": false,
     "start_time": "2020-01-14T06:47:12.174478",
     "status": "completed"
    },
    "tags": []
   },
   "source": [
    "## Motif hits contingency table"
   ]
  },
  {
   "cell_type": "code",
   "execution_count": 13,
   "metadata": {
    "ExecuteTime": {
     "end_time": "2020-01-17T04:52:32.434972Z",
     "start_time": "2020-01-17T04:52:32.188927Z"
    },
    "papermill": {
     "duration": 0.223607,
     "end_time": "2020-01-14T06:47:12.418128",
     "exception": false,
     "start_time": "2020-01-14T06:47:12.194521",
     "status": "completed"
    },
    "tags": []
   },
   "outputs": [],
   "source": [
    "# calculate motif occurence, not considering hits here\n",
    "pos = (motif_hits.X > 0).sum(axis=0)\n",
    "pos_total = motif_hits.shape[0]\n",
    "\n",
    "neg = (background_motif_hits.X > 0).sum(axis=0)\n",
    "neg_total = background_motif_hits.shape[0]"
   ]
  },
  {
   "cell_type": "code",
   "execution_count": 14,
   "metadata": {
    "ExecuteTime": {
     "end_time": "2020-01-17T04:52:32.440620Z",
     "start_time": "2020-01-17T04:52:32.436361Z"
    },
    "papermill": {
     "duration": 0.063891,
     "end_time": "2020-01-14T06:47:12.493250",
     "exception": false,
     "start_time": "2020-01-14T06:47:12.429359",
     "status": "completed"
    },
    "scrolled": true,
    "tags": []
   },
   "outputs": [],
   "source": [
    "tables = {}\n",
    "for motif, _pos, _neg in zip(motif_ids, pos.A1, neg.A1):\n",
    "    table = [[_pos, pos_total - _pos], [_neg, neg_total - _neg]]\n",
    "    tables[motif] = table"
   ]
  },
  {
   "cell_type": "code",
   "execution_count": 15,
   "metadata": {
    "ExecuteTime": {
     "end_time": "2020-01-17T04:52:33.067894Z",
     "start_time": "2020-01-17T04:52:32.442054Z"
    },
    "papermill": {
     "duration": 0.872701,
     "end_time": "2020-01-14T06:47:13.376403",
     "exception": false,
     "start_time": "2020-01-14T06:47:12.503702",
     "status": "completed"
    },
    "tags": []
   },
   "outputs": [],
   "source": [
    "results = {}\n",
    "with ProcessPoolExecutor(20) as executor:\n",
    "    fs = {}\n",
    "    for motif, t in tables.items():\n",
    "        f = executor.submit(stats.fisher_exact, t, alternative='greater')\n",
    "        fs[f] = motif\n",
    "\n",
    "    for f in as_completed(fs):\n",
    "        motif = fs[f]\n",
    "        odds, p = f.result()\n",
    "        results[motif] = {'oddsratio': odds, 'p_value': p}\n",
    "motif_enrich_df = pd.DataFrame(results).T\n",
    "\n",
    "_, p, _, _ = multipletests(motif_enrich_df['p_value'], method='fdr_bh')\n",
    "motif_enrich_df['adj_p'] = p\n",
    "\n",
    "motif_enrich_df['-lgp'] = -np.log10(motif_enrich_df['adj_p']).replace(\n",
    "    -np.inf, -300)\n",
    "\n",
    "records = {}\n",
    "for motif, t in tables.items():\n",
    "    tp, tn = t[0]\n",
    "    fp, fn = t[1]\n",
    "    tp_rate = tp / pos_total\n",
    "    fp_rate = fp / neg_total\n",
    "    records[motif] = dict(tp=tp,\n",
    "                          tn=tn,\n",
    "                          fp=fp,\n",
    "                          fn=fn,\n",
    "                          tp_rate=tp_rate,\n",
    "                          fp_rate=fp_rate)\n",
    "counts = pd.DataFrame(records).T\n",
    "motif_enrich_df = pd.concat([motif_enrich_df, counts], axis=1, sort=True)"
   ]
  },
  {
   "cell_type": "code",
   "execution_count": 16,
   "metadata": {
    "ExecuteTime": {
     "end_time": "2020-01-17T04:52:33.072360Z",
     "start_time": "2020-01-17T04:52:33.069543Z"
    },
    "papermill": {
     "duration": 0.016402,
     "end_time": "2020-01-14T06:47:13.403893",
     "exception": false,
     "start_time": "2020-01-14T06:47:13.387491",
     "status": "completed"
    },
    "tags": []
   },
   "outputs": [],
   "source": [
    "motif_enrich_df['Group'] = group"
   ]
  },
  {
   "cell_type": "code",
   "execution_count": 17,
   "metadata": {
    "ExecuteTime": {
     "end_time": "2020-01-17T04:52:33.079099Z",
     "start_time": "2020-01-17T04:52:33.073649Z"
    },
    "papermill": {
     "duration": 0.018521,
     "end_time": "2020-01-14T06:47:13.432422",
     "exception": false,
     "start_time": "2020-01-14T06:47:13.413901",
     "status": "completed"
    },
    "tags": []
   },
   "outputs": [
    {
     "data": {
      "text/plain": [
       "33"
      ]
     },
     "execution_count": 17,
     "metadata": {},
     "output_type": "execute_result"
    }
   ],
   "source": [
    "# final filter\n",
    "filtered_motif_df = motif_enrich_df[(motif_enrich_df['oddsratio'] > or_cutoff)\n",
    "                                    &\n",
    "                                    (motif_enrich_df['-lgp'] > neg_lgp_cutoff)]\n",
    "filtered_motif_df.shape[0]"
   ]
  },
  {
   "cell_type": "code",
   "execution_count": 18,
   "metadata": {
    "ExecuteTime": {
     "end_time": "2020-01-17T04:52:33.084291Z",
     "start_time": "2020-01-17T04:52:33.080283Z"
    },
    "papermill": {
     "duration": 0.016896,
     "end_time": "2020-01-14T06:47:13.459392",
     "exception": false,
     "start_time": "2020-01-14T06:47:13.442496",
     "status": "completed"
    },
    "tags": []
   },
   "outputs": [
    {
     "name": "stderr",
     "output_type": "stream",
     "text": [
      "/home/hanliu/miniconda3/envs/clustering/lib/python3.7/site-packages/ipykernel_launcher.py:1: FutureWarning: to_msgpack is deprecated and will be removed in a future version.\n",
      "It is recommended to use pyarrow for on-the-wire transmission of pandas objects.\n",
      "  \"\"\"Entry point for launching an IPython kernel.\n"
     ]
    }
   ],
   "source": [
    "motif_enrich_df.to_msgpack(output_dir / f'{group}.motif_enrichment.msg')"
   ]
  },
  {
   "cell_type": "code",
   "execution_count": 19,
   "metadata": {
    "ExecuteTime": {
     "end_time": "2020-01-17T04:52:33.093683Z",
     "start_time": "2020-01-17T04:52:33.085550Z"
    },
    "papermill": {
     "duration": 0.021888,
     "end_time": "2020-01-14T06:47:13.491974",
     "exception": false,
     "start_time": "2020-01-14T06:47:13.470086",
     "status": "completed"
    },
    "tags": []
   },
   "outputs": [],
   "source": [
    "pybedtools.cleanup()"
   ]
  },
  {
   "cell_type": "code",
   "execution_count": 20,
   "metadata": {
    "ExecuteTime": {
     "end_time": "2020-01-17T04:52:33.114452Z",
     "start_time": "2020-01-17T04:52:33.094919Z"
    },
    "papermill": {
     "duration": 0.032376,
     "end_time": "2020-01-14T06:47:13.535768",
     "exception": false,
     "start_time": "2020-01-14T06:47:13.503392",
     "status": "completed"
    },
    "tags": []
   },
   "outputs": [
    {
     "data": {
      "text/html": [
       "<div>\n",
       "<style scoped>\n",
       "    .dataframe tbody tr th:only-of-type {\n",
       "        vertical-align: middle;\n",
       "    }\n",
       "\n",
       "    .dataframe tbody tr th {\n",
       "        vertical-align: top;\n",
       "    }\n",
       "\n",
       "    .dataframe thead th {\n",
       "        text-align: right;\n",
       "    }\n",
       "</style>\n",
       "<table border=\"1\" class=\"dataframe\">\n",
       "  <thead>\n",
       "    <tr style=\"text-align: right;\">\n",
       "      <th></th>\n",
       "      <th>oddsratio</th>\n",
       "      <th>p_value</th>\n",
       "      <th>adj_p</th>\n",
       "      <th>-lgp</th>\n",
       "      <th>tp</th>\n",
       "      <th>tn</th>\n",
       "      <th>fp</th>\n",
       "      <th>fn</th>\n",
       "      <th>tp_rate</th>\n",
       "      <th>fp_rate</th>\n",
       "      <th>Group</th>\n",
       "    </tr>\n",
       "  </thead>\n",
       "  <tbody>\n",
       "    <tr>\n",
       "      <th>MA0040.1</th>\n",
       "      <td>1.526166</td>\n",
       "      <td>4.918133e-20</td>\n",
       "      <td>8.419374e-19</td>\n",
       "      <td>18.074720</td>\n",
       "      <td>596.0</td>\n",
       "      <td>30198.0</td>\n",
       "      <td>4361.0</td>\n",
       "      <td>337225.0</td>\n",
       "      <td>0.019354</td>\n",
       "      <td>0.012767</td>\n",
       "      <td>IT-L5+PFC</td>\n",
       "    </tr>\n",
       "    <tr>\n",
       "      <th>MA0052.4</th>\n",
       "      <td>1.861253</td>\n",
       "      <td>1.529195e-42</td>\n",
       "      <td>3.664971e-41</td>\n",
       "      <td>40.435929</td>\n",
       "      <td>662.0</td>\n",
       "      <td>30132.0</td>\n",
       "      <td>3985.0</td>\n",
       "      <td>337601.0</td>\n",
       "      <td>0.021498</td>\n",
       "      <td>0.011666</td>\n",
       "      <td>IT-L5+PFC</td>\n",
       "    </tr>\n",
       "    <tr>\n",
       "      <th>MA0091.1</th>\n",
       "      <td>1.896543</td>\n",
       "      <td>1.579422e-30</td>\n",
       "      <td>3.154458e-29</td>\n",
       "      <td>28.501075</td>\n",
       "      <td>440.0</td>\n",
       "      <td>30354.0</td>\n",
       "      <td>2591.0</td>\n",
       "      <td>338995.0</td>\n",
       "      <td>0.014288</td>\n",
       "      <td>0.007585</td>\n",
       "      <td>IT-L5+PFC</td>\n",
       "    </tr>\n",
       "    <tr>\n",
       "      <th>MA0461.2</th>\n",
       "      <td>3.645391</td>\n",
       "      <td>7.725061e-206</td>\n",
       "      <td>1.851440e-203</td>\n",
       "      <td>202.732490</td>\n",
       "      <td>961.0</td>\n",
       "      <td>29833.0</td>\n",
       "      <td>2992.0</td>\n",
       "      <td>338594.0</td>\n",
       "      <td>0.031207</td>\n",
       "      <td>0.008759</td>\n",
       "      <td>IT-L5+PFC</td>\n",
       "    </tr>\n",
       "    <tr>\n",
       "      <th>MA0497.1</th>\n",
       "      <td>1.861758</td>\n",
       "      <td>1.557313e-45</td>\n",
       "      <td>3.998957e-44</td>\n",
       "      <td>43.398053</td>\n",
       "      <td>711.0</td>\n",
       "      <td>30083.0</td>\n",
       "      <td>4282.0</td>\n",
       "      <td>337304.0</td>\n",
       "      <td>0.023089</td>\n",
       "      <td>0.012536</td>\n",
       "      <td>IT-L5+PFC</td>\n",
       "    </tr>\n",
       "    <tr>\n",
       "      <th>MA0509.2</th>\n",
       "      <td>6.115162</td>\n",
       "      <td>1.529668e-167</td>\n",
       "      <td>1.571188e-165</td>\n",
       "      <td>164.803772</td>\n",
       "      <td>467.0</td>\n",
       "      <td>30327.0</td>\n",
       "      <td>858.0</td>\n",
       "      <td>340728.0</td>\n",
       "      <td>0.015165</td>\n",
       "      <td>0.002512</td>\n",
       "      <td>IT-L5+PFC</td>\n",
       "    </tr>\n",
       "    <tr>\n",
       "      <th>MA0510.2</th>\n",
       "      <td>5.793383</td>\n",
       "      <td>6.028402e-50</td>\n",
       "      <td>1.667085e-48</td>\n",
       "      <td>47.778042</td>\n",
       "      <td>141.0</td>\n",
       "      <td>30653.0</td>\n",
       "      <td>271.0</td>\n",
       "      <td>341315.0</td>\n",
       "      <td>0.004579</td>\n",
       "      <td>0.000793</td>\n",
       "      <td>IT-L5+PFC</td>\n",
       "    </tr>\n",
       "    <tr>\n",
       "      <th>MA0600.2</th>\n",
       "      <td>5.565731</td>\n",
       "      <td>4.450631e-45</td>\n",
       "      <td>1.103450e-43</td>\n",
       "      <td>42.957248</td>\n",
       "      <td>131.0</td>\n",
       "      <td>30663.0</td>\n",
       "      <td>262.0</td>\n",
       "      <td>341324.0</td>\n",
       "      <td>0.004254</td>\n",
       "      <td>0.000767</td>\n",
       "      <td>IT-L5+PFC</td>\n",
       "    </tr>\n",
       "    <tr>\n",
       "      <th>MA0602.1</th>\n",
       "      <td>1.629894</td>\n",
       "      <td>2.055586e-15</td>\n",
       "      <td>3.016258e-14</td>\n",
       "      <td>13.520531</td>\n",
       "      <td>339.0</td>\n",
       "      <td>30455.0</td>\n",
       "      <td>2317.0</td>\n",
       "      <td>339269.0</td>\n",
       "      <td>0.011009</td>\n",
       "      <td>0.006783</td>\n",
       "      <td>IT-L5+PFC</td>\n",
       "    </tr>\n",
       "    <tr>\n",
       "      <th>MA0607.1</th>\n",
       "      <td>2.350348</td>\n",
       "      <td>6.701954e-252</td>\n",
       "      <td>2.409353e-249</td>\n",
       "      <td>248.618100</td>\n",
       "      <td>2412.0</td>\n",
       "      <td>28382.0</td>\n",
       "      <td>11920.0</td>\n",
       "      <td>329666.0</td>\n",
       "      <td>0.078327</td>\n",
       "      <td>0.034896</td>\n",
       "      <td>IT-L5+PFC</td>\n",
       "    </tr>\n",
       "    <tr>\n",
       "      <th>MA0610.1</th>\n",
       "      <td>1.709864</td>\n",
       "      <td>5.887269e-14</td>\n",
       "      <td>7.986691e-13</td>\n",
       "      <td>12.097633</td>\n",
       "      <td>255.0</td>\n",
       "      <td>30539.0</td>\n",
       "      <td>1660.0</td>\n",
       "      <td>339926.0</td>\n",
       "      <td>0.008281</td>\n",
       "      <td>0.004860</td>\n",
       "      <td>IT-L5+PFC</td>\n",
       "    </tr>\n",
       "    <tr>\n",
       "      <th>MA0619.1</th>\n",
       "      <td>1.819935</td>\n",
       "      <td>2.432828e-254</td>\n",
       "      <td>1.749203e-251</td>\n",
       "      <td>250.757160</td>\n",
       "      <td>4883.0</td>\n",
       "      <td>25911.0</td>\n",
       "      <td>32052.0</td>\n",
       "      <td>309534.0</td>\n",
       "      <td>0.158570</td>\n",
       "      <td>0.093833</td>\n",
       "      <td>IT-L5+PFC</td>\n",
       "    </tr>\n",
       "    <tr>\n",
       "      <th>MA0623.2</th>\n",
       "      <td>3.404617</td>\n",
       "      <td>1.321965e-146</td>\n",
       "      <td>1.188116e-144</td>\n",
       "      <td>143.925141</td>\n",
       "      <td>741.0</td>\n",
       "      <td>30053.0</td>\n",
       "      <td>2456.0</td>\n",
       "      <td>339130.0</td>\n",
       "      <td>0.024063</td>\n",
       "      <td>0.007190</td>\n",
       "      <td>IT-L5+PFC</td>\n",
       "    </tr>\n",
       "    <tr>\n",
       "      <th>MA0625.1</th>\n",
       "      <td>1.557484</td>\n",
       "      <td>1.639630e-53</td>\n",
       "      <td>4.715577e-52</td>\n",
       "      <td>51.326465</td>\n",
       "      <td>1594.0</td>\n",
       "      <td>29200.0</td>\n",
       "      <td>11567.0</td>\n",
       "      <td>330019.0</td>\n",
       "      <td>0.051763</td>\n",
       "      <td>0.033863</td>\n",
       "      <td>IT-L5+PFC</td>\n",
       "    </tr>\n",
       "    <tr>\n",
       "      <th>MA0633.1</th>\n",
       "      <td>2.942898</td>\n",
       "      <td>8.155251e-143</td>\n",
       "      <td>5.863625e-141</td>\n",
       "      <td>140.231834</td>\n",
       "      <td>889.0</td>\n",
       "      <td>29905.0</td>\n",
       "      <td>3416.0</td>\n",
       "      <td>338170.0</td>\n",
       "      <td>0.028869</td>\n",
       "      <td>0.010000</td>\n",
       "      <td>IT-L5+PFC</td>\n",
       "    </tr>\n",
       "    <tr>\n",
       "      <th>MA0668.1</th>\n",
       "      <td>3.547338</td>\n",
       "      <td>2.949148e-115</td>\n",
       "      <td>1.631106e-113</td>\n",
       "      <td>112.787518</td>\n",
       "      <td>549.0</td>\n",
       "      <td>30245.0</td>\n",
       "      <td>1739.0</td>\n",
       "      <td>339847.0</td>\n",
       "      <td>0.017828</td>\n",
       "      <td>0.005091</td>\n",
       "      <td>IT-L5+PFC</td>\n",
       "    </tr>\n",
       "    <tr>\n",
       "      <th>MA0669.1</th>\n",
       "      <td>3.094569</td>\n",
       "      <td>1.281804e-69</td>\n",
       "      <td>4.388652e-68</td>\n",
       "      <td>67.357669</td>\n",
       "      <td>393.0</td>\n",
       "      <td>30401.0</td>\n",
       "      <td>1421.0</td>\n",
       "      <td>340165.0</td>\n",
       "      <td>0.012762</td>\n",
       "      <td>0.004160</td>\n",
       "      <td>IT-L5+PFC</td>\n",
       "    </tr>\n",
       "    <tr>\n",
       "      <th>MA0678.1</th>\n",
       "      <td>5.054512</td>\n",
       "      <td>2.724707e-142</td>\n",
       "      <td>1.780967e-140</td>\n",
       "      <td>139.749344</td>\n",
       "      <td>465.0</td>\n",
       "      <td>30329.0</td>\n",
       "      <td>1033.0</td>\n",
       "      <td>340553.0</td>\n",
       "      <td>0.015100</td>\n",
       "      <td>0.003024</td>\n",
       "      <td>IT-L5+PFC</td>\n",
       "    </tr>\n",
       "    <tr>\n",
       "      <th>MA0798.2</th>\n",
       "      <td>5.989918</td>\n",
       "      <td>2.313552e-144</td>\n",
       "      <td>1.848271e-142</td>\n",
       "      <td>141.733234</td>\n",
       "      <td>408.0</td>\n",
       "      <td>30386.0</td>\n",
       "      <td>764.0</td>\n",
       "      <td>340822.0</td>\n",
       "      <td>0.013249</td>\n",
       "      <td>0.002237</td>\n",
       "      <td>IT-L5+PFC</td>\n",
       "    </tr>\n",
       "    <tr>\n",
       "      <th>MA0799.1</th>\n",
       "      <td>5.772781</td>\n",
       "      <td>2.062308e-84</td>\n",
       "      <td>8.722350e-83</td>\n",
       "      <td>82.059367</td>\n",
       "      <td>243.0</td>\n",
       "      <td>30551.0</td>\n",
       "      <td>470.0</td>\n",
       "      <td>341116.0</td>\n",
       "      <td>0.007891</td>\n",
       "      <td>0.001376</td>\n",
       "      <td>IT-L5+PFC</td>\n",
       "    </tr>\n",
       "    <tr>\n",
       "      <th>MA0817.1</th>\n",
       "      <td>4.793609</td>\n",
       "      <td>3.436093e-99</td>\n",
       "      <td>1.647034e-97</td>\n",
       "      <td>96.783297</td>\n",
       "      <td>338.0</td>\n",
       "      <td>30456.0</td>\n",
       "      <td>789.0</td>\n",
       "      <td>340797.0</td>\n",
       "      <td>0.010976</td>\n",
       "      <td>0.002310</td>\n",
       "      <td>IT-L5+PFC</td>\n",
       "    </tr>\n",
       "    <tr>\n",
       "      <th>MA0818.1</th>\n",
       "      <td>3.853497</td>\n",
       "      <td>4.769172e-205</td>\n",
       "      <td>8.572588e-203</td>\n",
       "      <td>202.066888</td>\n",
       "      <td>895.0</td>\n",
       "      <td>29899.0</td>\n",
       "      <td>2633.0</td>\n",
       "      <td>338953.0</td>\n",
       "      <td>0.029064</td>\n",
       "      <td>0.007708</td>\n",
       "      <td>IT-L5+PFC</td>\n",
       "    </tr>\n",
       "    <tr>\n",
       "      <th>MA0826.1</th>\n",
       "      <td>4.821420</td>\n",
       "      <td>8.065712e-135</td>\n",
       "      <td>4.832706e-133</td>\n",
       "      <td>132.315810</td>\n",
       "      <td>460.0</td>\n",
       "      <td>30334.0</td>\n",
       "      <td>1071.0</td>\n",
       "      <td>340515.0</td>\n",
       "      <td>0.014938</td>\n",
       "      <td>0.003135</td>\n",
       "      <td>IT-L5+PFC</td>\n",
       "    </tr>\n",
       "    <tr>\n",
       "      <th>MA0827.1</th>\n",
       "      <td>4.325692</td>\n",
       "      <td>1.928238e-175</td>\n",
       "      <td>2.310671e-173</td>\n",
       "      <td>172.636262</td>\n",
       "      <td>671.0</td>\n",
       "      <td>30123.0</td>\n",
       "      <td>1750.0</td>\n",
       "      <td>339836.0</td>\n",
       "      <td>0.021790</td>\n",
       "      <td>0.005123</td>\n",
       "      <td>IT-L5+PFC</td>\n",
       "    </tr>\n",
       "    <tr>\n",
       "      <th>MA0901.2</th>\n",
       "      <td>1.729873</td>\n",
       "      <td>1.175265e-17</td>\n",
       "      <td>1.797905e-16</td>\n",
       "      <td>15.745233</td>\n",
       "      <td>320.0</td>\n",
       "      <td>30474.0</td>\n",
       "      <td>2061.0</td>\n",
       "      <td>339525.0</td>\n",
       "      <td>0.010392</td>\n",
       "      <td>0.006034</td>\n",
       "      <td>IT-L5+PFC</td>\n",
       "    </tr>\n",
       "    <tr>\n",
       "      <th>MA1109.1</th>\n",
       "      <td>1.781576</td>\n",
       "      <td>8.742828e-59</td>\n",
       "      <td>2.857315e-57</td>\n",
       "      <td>56.544042</td>\n",
       "      <td>1067.0</td>\n",
       "      <td>29727.0</td>\n",
       "      <td>6746.0</td>\n",
       "      <td>334840.0</td>\n",
       "      <td>0.034650</td>\n",
       "      <td>0.019749</td>\n",
       "      <td>IT-L5+PFC</td>\n",
       "    </tr>\n",
       "    <tr>\n",
       "      <th>MA1468.1</th>\n",
       "      <td>3.644108</td>\n",
       "      <td>1.887755e-203</td>\n",
       "      <td>2.714592e-201</td>\n",
       "      <td>200.566295</td>\n",
       "      <td>950.0</td>\n",
       "      <td>29844.0</td>\n",
       "      <td>2958.0</td>\n",
       "      <td>338628.0</td>\n",
       "      <td>0.030850</td>\n",
       "      <td>0.008660</td>\n",
       "      <td>IT-L5+PFC</td>\n",
       "    </tr>\n",
       "    <tr>\n",
       "      <th>MA1478.1</th>\n",
       "      <td>1.603540</td>\n",
       "      <td>5.127238e-16</td>\n",
       "      <td>7.680175e-15</td>\n",
       "      <td>14.114629</td>\n",
       "      <td>377.0</td>\n",
       "      <td>30417.0</td>\n",
       "      <td>2620.0</td>\n",
       "      <td>338966.0</td>\n",
       "      <td>0.012243</td>\n",
       "      <td>0.007670</td>\n",
       "      <td>IT-L5+PFC</td>\n",
       "    </tr>\n",
       "    <tr>\n",
       "      <th>MA1479.1</th>\n",
       "      <td>1.987093</td>\n",
       "      <td>7.502923e-18</td>\n",
       "      <td>1.172739e-16</td>\n",
       "      <td>15.930798</td>\n",
       "      <td>216.0</td>\n",
       "      <td>30578.0</td>\n",
       "      <td>1210.0</td>\n",
       "      <td>340376.0</td>\n",
       "      <td>0.007014</td>\n",
       "      <td>0.003542</td>\n",
       "      <td>IT-L5+PFC</td>\n",
       "    </tr>\n",
       "    <tr>\n",
       "      <th>MA1524.1</th>\n",
       "      <td>1.843141</td>\n",
       "      <td>3.381231e-48</td>\n",
       "      <td>9.004092e-47</td>\n",
       "      <td>46.045560</td>\n",
       "      <td>778.0</td>\n",
       "      <td>30016.0</td>\n",
       "      <td>4737.0</td>\n",
       "      <td>336849.0</td>\n",
       "      <td>0.025265</td>\n",
       "      <td>0.013868</td>\n",
       "      <td>IT-L5+PFC</td>\n",
       "    </tr>\n",
       "    <tr>\n",
       "      <th>MA1568.1</th>\n",
       "      <td>3.875406</td>\n",
       "      <td>5.635286e-55</td>\n",
       "      <td>1.688238e-53</td>\n",
       "      <td>52.772566</td>\n",
       "      <td>230.0</td>\n",
       "      <td>30564.0</td>\n",
       "      <td>662.0</td>\n",
       "      <td>340924.0</td>\n",
       "      <td>0.007469</td>\n",
       "      <td>0.001938</td>\n",
       "      <td>IT-L5+PFC</td>\n",
       "    </tr>\n",
       "    <tr>\n",
       "      <th>MA1570.1</th>\n",
       "      <td>2.030858</td>\n",
       "      <td>2.879593e-100</td>\n",
       "      <td>1.478877e-98</td>\n",
       "      <td>97.830068</td>\n",
       "      <td>1287.0</td>\n",
       "      <td>29507.0</td>\n",
       "      <td>7182.0</td>\n",
       "      <td>334404.0</td>\n",
       "      <td>0.041794</td>\n",
       "      <td>0.021025</td>\n",
       "      <td>IT-L5+PFC</td>\n",
       "    </tr>\n",
       "    <tr>\n",
       "      <th>MA1642.1</th>\n",
       "      <td>1.766158</td>\n",
       "      <td>5.071699e-99</td>\n",
       "      <td>2.279095e-97</td>\n",
       "      <td>96.642238</td>\n",
       "      <td>1912.0</td>\n",
       "      <td>28882.0</td>\n",
       "      <td>12341.0</td>\n",
       "      <td>329245.0</td>\n",
       "      <td>0.062090</td>\n",
       "      <td>0.036129</td>\n",
       "      <td>IT-L5+PFC</td>\n",
       "    </tr>\n",
       "  </tbody>\n",
       "</table>\n",
       "</div>"
      ],
      "text/plain": [
       "          oddsratio        p_value          adj_p        -lgp      tp  \\\n",
       "MA0040.1   1.526166   4.918133e-20   8.419374e-19   18.074720   596.0   \n",
       "MA0052.4   1.861253   1.529195e-42   3.664971e-41   40.435929   662.0   \n",
       "MA0091.1   1.896543   1.579422e-30   3.154458e-29   28.501075   440.0   \n",
       "MA0461.2   3.645391  7.725061e-206  1.851440e-203  202.732490   961.0   \n",
       "MA0497.1   1.861758   1.557313e-45   3.998957e-44   43.398053   711.0   \n",
       "MA0509.2   6.115162  1.529668e-167  1.571188e-165  164.803772   467.0   \n",
       "MA0510.2   5.793383   6.028402e-50   1.667085e-48   47.778042   141.0   \n",
       "MA0600.2   5.565731   4.450631e-45   1.103450e-43   42.957248   131.0   \n",
       "MA0602.1   1.629894   2.055586e-15   3.016258e-14   13.520531   339.0   \n",
       "MA0607.1   2.350348  6.701954e-252  2.409353e-249  248.618100  2412.0   \n",
       "MA0610.1   1.709864   5.887269e-14   7.986691e-13   12.097633   255.0   \n",
       "MA0619.1   1.819935  2.432828e-254  1.749203e-251  250.757160  4883.0   \n",
       "MA0623.2   3.404617  1.321965e-146  1.188116e-144  143.925141   741.0   \n",
       "MA0625.1   1.557484   1.639630e-53   4.715577e-52   51.326465  1594.0   \n",
       "MA0633.1   2.942898  8.155251e-143  5.863625e-141  140.231834   889.0   \n",
       "MA0668.1   3.547338  2.949148e-115  1.631106e-113  112.787518   549.0   \n",
       "MA0669.1   3.094569   1.281804e-69   4.388652e-68   67.357669   393.0   \n",
       "MA0678.1   5.054512  2.724707e-142  1.780967e-140  139.749344   465.0   \n",
       "MA0798.2   5.989918  2.313552e-144  1.848271e-142  141.733234   408.0   \n",
       "MA0799.1   5.772781   2.062308e-84   8.722350e-83   82.059367   243.0   \n",
       "MA0817.1   4.793609   3.436093e-99   1.647034e-97   96.783297   338.0   \n",
       "MA0818.1   3.853497  4.769172e-205  8.572588e-203  202.066888   895.0   \n",
       "MA0826.1   4.821420  8.065712e-135  4.832706e-133  132.315810   460.0   \n",
       "MA0827.1   4.325692  1.928238e-175  2.310671e-173  172.636262   671.0   \n",
       "MA0901.2   1.729873   1.175265e-17   1.797905e-16   15.745233   320.0   \n",
       "MA1109.1   1.781576   8.742828e-59   2.857315e-57   56.544042  1067.0   \n",
       "MA1468.1   3.644108  1.887755e-203  2.714592e-201  200.566295   950.0   \n",
       "MA1478.1   1.603540   5.127238e-16   7.680175e-15   14.114629   377.0   \n",
       "MA1479.1   1.987093   7.502923e-18   1.172739e-16   15.930798   216.0   \n",
       "MA1524.1   1.843141   3.381231e-48   9.004092e-47   46.045560   778.0   \n",
       "MA1568.1   3.875406   5.635286e-55   1.688238e-53   52.772566   230.0   \n",
       "MA1570.1   2.030858  2.879593e-100   1.478877e-98   97.830068  1287.0   \n",
       "MA1642.1   1.766158   5.071699e-99   2.279095e-97   96.642238  1912.0   \n",
       "\n",
       "               tn       fp        fn   tp_rate   fp_rate      Group  \n",
       "MA0040.1  30198.0   4361.0  337225.0  0.019354  0.012767  IT-L5+PFC  \n",
       "MA0052.4  30132.0   3985.0  337601.0  0.021498  0.011666  IT-L5+PFC  \n",
       "MA0091.1  30354.0   2591.0  338995.0  0.014288  0.007585  IT-L5+PFC  \n",
       "MA0461.2  29833.0   2992.0  338594.0  0.031207  0.008759  IT-L5+PFC  \n",
       "MA0497.1  30083.0   4282.0  337304.0  0.023089  0.012536  IT-L5+PFC  \n",
       "MA0509.2  30327.0    858.0  340728.0  0.015165  0.002512  IT-L5+PFC  \n",
       "MA0510.2  30653.0    271.0  341315.0  0.004579  0.000793  IT-L5+PFC  \n",
       "MA0600.2  30663.0    262.0  341324.0  0.004254  0.000767  IT-L5+PFC  \n",
       "MA0602.1  30455.0   2317.0  339269.0  0.011009  0.006783  IT-L5+PFC  \n",
       "MA0607.1  28382.0  11920.0  329666.0  0.078327  0.034896  IT-L5+PFC  \n",
       "MA0610.1  30539.0   1660.0  339926.0  0.008281  0.004860  IT-L5+PFC  \n",
       "MA0619.1  25911.0  32052.0  309534.0  0.158570  0.093833  IT-L5+PFC  \n",
       "MA0623.2  30053.0   2456.0  339130.0  0.024063  0.007190  IT-L5+PFC  \n",
       "MA0625.1  29200.0  11567.0  330019.0  0.051763  0.033863  IT-L5+PFC  \n",
       "MA0633.1  29905.0   3416.0  338170.0  0.028869  0.010000  IT-L5+PFC  \n",
       "MA0668.1  30245.0   1739.0  339847.0  0.017828  0.005091  IT-L5+PFC  \n",
       "MA0669.1  30401.0   1421.0  340165.0  0.012762  0.004160  IT-L5+PFC  \n",
       "MA0678.1  30329.0   1033.0  340553.0  0.015100  0.003024  IT-L5+PFC  \n",
       "MA0798.2  30386.0    764.0  340822.0  0.013249  0.002237  IT-L5+PFC  \n",
       "MA0799.1  30551.0    470.0  341116.0  0.007891  0.001376  IT-L5+PFC  \n",
       "MA0817.1  30456.0    789.0  340797.0  0.010976  0.002310  IT-L5+PFC  \n",
       "MA0818.1  29899.0   2633.0  338953.0  0.029064  0.007708  IT-L5+PFC  \n",
       "MA0826.1  30334.0   1071.0  340515.0  0.014938  0.003135  IT-L5+PFC  \n",
       "MA0827.1  30123.0   1750.0  339836.0  0.021790  0.005123  IT-L5+PFC  \n",
       "MA0901.2  30474.0   2061.0  339525.0  0.010392  0.006034  IT-L5+PFC  \n",
       "MA1109.1  29727.0   6746.0  334840.0  0.034650  0.019749  IT-L5+PFC  \n",
       "MA1468.1  29844.0   2958.0  338628.0  0.030850  0.008660  IT-L5+PFC  \n",
       "MA1478.1  30417.0   2620.0  338966.0  0.012243  0.007670  IT-L5+PFC  \n",
       "MA1479.1  30578.0   1210.0  340376.0  0.007014  0.003542  IT-L5+PFC  \n",
       "MA1524.1  30016.0   4737.0  336849.0  0.025265  0.013868  IT-L5+PFC  \n",
       "MA1568.1  30564.0    662.0  340924.0  0.007469  0.001938  IT-L5+PFC  \n",
       "MA1570.1  29507.0   7182.0  334404.0  0.041794  0.021025  IT-L5+PFC  \n",
       "MA1642.1  28882.0  12341.0  329245.0  0.062090  0.036129  IT-L5+PFC  "
      ]
     },
     "execution_count": 20,
     "metadata": {},
     "output_type": "execute_result"
    }
   ],
   "source": [
    "filtered_motif_df"
   ]
  },
  {
   "cell_type": "code",
   "execution_count": null,
   "metadata": {
    "papermill": {
     "duration": 0.011462,
     "end_time": "2020-01-14T06:47:13.558180",
     "exception": false,
     "start_time": "2020-01-14T06:47:13.546718",
     "status": "completed"
    },
    "tags": []
   },
   "outputs": [],
   "source": []
  }
 ],
 "metadata": {
  "hide_input": false,
  "kernelspec": {
   "display_name": "Python 3",
   "language": "python",
   "name": "python3"
  },
  "language_info": {
   "codemirror_mode": {
    "name": "ipython",
    "version": 3
   },
   "file_extension": ".py",
   "mimetype": "text/x-python",
   "name": "python",
   "nbconvert_exporter": "python",
   "pygments_lexer": "ipython3",
   "version": "3.7.3"
  },
  "papermill": {
   "duration": 12.359952,
   "end_time": "2020-01-14T06:47:14.075947",
   "environment_variables": {},
   "exception": null,
   "input_path": "4.MotifEnrichment.ipynb",
   "output_path": "/home/hanliu/project/mouse_rostral_brain/DMR/ITSpatial_by_layer/IT-L6/Recipe/4.MotifEnrichment.IT-L5+PFC.ipynb",
   "parameters": {
    "dmr_hits_path": "/home/hanliu/project/mouse_rostral_brain/DMR/ITSpatial_by_layer/IT-L5/HypoDMR/IT-L5+PFC.DMS1.bed",
    "group": "IT-L5+PFC",
    "mask_quantile_to99": 0.9,
    "motif_hits_path": "/home/hanliu/project/mouse_rostral_brain/DMR/ITSpatial_by_layer/IT-L5/MotifScan.h5ad",
    "neg_lgp_cutoff": 10,
    "or_cutoff": 1.5,
    "output_dir": "/home/hanliu/project/mouse_rostral_brain/DMR/ITSpatial_by_layer/IT-L5/MotifEnrichment"
   },
   "start_time": "2020-01-14T06:47:01.715995",
   "version": "1.0.1"
  },
  "toc": {
   "base_numbering": 1,
   "nav_menu": {},
   "number_sections": true,
   "sideBar": true,
   "skip_h1_title": true,
   "title_cell": "Table of Contents",
   "title_sidebar": "Contents",
   "toc_cell": false,
   "toc_position": {},
   "toc_section_display": true,
   "toc_window_display": true
  }
 },
 "nbformat": 4,
 "nbformat_minor": 2
}
