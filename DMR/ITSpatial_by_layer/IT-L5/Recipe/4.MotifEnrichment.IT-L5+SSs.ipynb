{
 "cells": [
  {
   "cell_type": "markdown",
   "metadata": {
    "papermill": {
     "duration": 0.009751,
     "end_time": "2020-01-14T06:47:28.697688",
     "exception": false,
     "start_time": "2020-01-14T06:47:28.687937",
     "status": "completed"
    },
    "tags": []
   },
   "source": [
    "# Motif Enrichment\n",
    "- The motif hits matrix save the max loglikelyhood score of a motif in that DMR\n",
    "- Before run the motif enrichment, I filter the scores for each motif using cutoff defined by\n",
    "    - `np.quantile(motif_score[motif_score > 0]) * mask_quantile_to99`\n",
    "- This filter will remove hits with low score, which is likely to be false positive\n",
    "- Its likely boosting the significance of real enrichment"
   ]
  },
  {
   "cell_type": "code",
   "execution_count": 1,
   "metadata": {
    "ExecuteTime": {
     "end_time": "2020-01-17T04:52:30.107840Z",
     "start_time": "2020-01-17T04:52:29.364555Z"
    },
    "papermill": {
     "duration": 0.677072,
     "end_time": "2020-01-14T06:47:29.385442",
     "exception": false,
     "start_time": "2020-01-14T06:47:28.708370",
     "status": "completed"
    },
    "tags": []
   },
   "outputs": [],
   "source": [
    "from concurrent.futures import ProcessPoolExecutor, as_completed\n",
    "import anndata\n",
    "import matplotlib.pyplot as plt\n",
    "import numpy as np\n",
    "import pandas as pd\n",
    "import pybedtools\n",
    "import scipy.stats as stats\n",
    "import seaborn as sns\n",
    "from scipy.sparse import csr_matrix\n",
    "from statsmodels.stats.multitest import multipletests\n",
    "import pathlib"
   ]
  },
  {
   "cell_type": "code",
   "execution_count": 2,
   "metadata": {
    "ExecuteTime": {
     "end_time": "2020-01-17T04:52:30.112577Z",
     "start_time": "2020-01-17T04:52:30.109768Z"
    },
    "papermill": {
     "duration": 0.015518,
     "end_time": "2020-01-14T06:47:29.410989",
     "exception": false,
     "start_time": "2020-01-14T06:47:29.395471",
     "status": "completed"
    },
    "tags": [
     "parameters"
    ]
   },
   "outputs": [],
   "source": [
    "mask_quantile_to99 = 0.9\n",
    "or_cutoff = 1.5\n",
    "neg_lgp_cutoff = 10\n",
    "group = 'IT-L23+ACA'\n",
    "\n",
    "motif_hits_path = '/home/hanliu/project/mouse_rostral_brain/DMR/ITSpatial_by_layer/IT-L23/MotifScan.h5ad'\n",
    "dmr_hits_path = f'/home/hanliu/project/mouse_rostral_brain/DMR/ITSpatial_by_layer/IT-L23/HypoDMR/{group}.DMS1.bed'\n",
    "output_dir = '/home/hanliu/project/mouse_rostral_brain/DMR/ITSpatial_by_layer/IT-L23/MotifEnrichment'\n"
   ]
  },
  {
   "cell_type": "code",
   "execution_count": 3,
   "metadata": {
    "ExecuteTime": {
     "end_time": "2020-01-17T04:52:30.116407Z",
     "start_time": "2020-01-17T04:52:30.113938Z"
    },
    "papermill": {
     "duration": 0.014877,
     "end_time": "2020-01-14T06:47:29.435126",
     "exception": false,
     "start_time": "2020-01-14T06:47:29.420249",
     "status": "completed"
    },
    "tags": [
     "injected-parameters"
    ]
   },
   "outputs": [],
   "source": [
    "# Parameters\n",
    "mask_quantile_to99 = 0.9\n",
    "or_cutoff = 1.5\n",
    "neg_lgp_cutoff = 10\n",
    "group = \"IT-L5+SSs\"\n",
    "motif_hits_path = \"/home/hanliu/project/mouse_rostral_brain/DMR/ITSpatial_by_layer/IT-L5/MotifScan.h5ad\"\n",
    "dmr_hits_path = \"/home/hanliu/project/mouse_rostral_brain/DMR/ITSpatial_by_layer/IT-L5/HypoDMR/IT-L5+SSs.DMS1.bed\"\n",
    "output_dir = \"/home/hanliu/project/mouse_rostral_brain/DMR/ITSpatial_by_layer/IT-L5/MotifEnrichment\"\n"
   ]
  },
  {
   "cell_type": "code",
   "execution_count": 4,
   "metadata": {
    "ExecuteTime": {
     "end_time": "2020-01-17T04:52:30.119785Z",
     "start_time": "2020-01-17T04:52:30.117627Z"
    },
    "papermill": {
     "duration": 0.014306,
     "end_time": "2020-01-14T06:47:29.458554",
     "exception": false,
     "start_time": "2020-01-14T06:47:29.444248",
     "status": "completed"
    },
    "tags": []
   },
   "outputs": [],
   "source": [
    "output_dir = pathlib.Path(output_dir)\n",
    "output_dir.mkdir(exist_ok=True)"
   ]
  },
  {
   "cell_type": "markdown",
   "metadata": {
    "papermill": {
     "duration": 0.009232,
     "end_time": "2020-01-14T06:47:29.476936",
     "exception": false,
     "start_time": "2020-01-14T06:47:29.467704",
     "status": "completed"
    },
    "tags": []
   },
   "source": [
    "## DMR hits"
   ]
  },
  {
   "cell_type": "code",
   "execution_count": 5,
   "metadata": {
    "ExecuteTime": {
     "end_time": "2020-01-17T04:52:30.167176Z",
     "start_time": "2020-01-17T04:52:30.121028Z"
    },
    "papermill": {
     "duration": 0.071708,
     "end_time": "2020-01-14T06:47:29.558000",
     "exception": false,
     "start_time": "2020-01-14T06:47:29.486292",
     "status": "completed"
    },
    "tags": []
   },
   "outputs": [
    {
     "data": {
      "text/html": [
       "<div>\n",
       "<style scoped>\n",
       "    .dataframe tbody tr th:only-of-type {\n",
       "        vertical-align: middle;\n",
       "    }\n",
       "\n",
       "    .dataframe tbody tr th {\n",
       "        vertical-align: top;\n",
       "    }\n",
       "\n",
       "    .dataframe thead th {\n",
       "        text-align: right;\n",
       "    }\n",
       "</style>\n",
       "<table border=\"1\" class=\"dataframe\">\n",
       "  <thead>\n",
       "    <tr style=\"text-align: right;\">\n",
       "      <th></th>\n",
       "      <th>0</th>\n",
       "      <th>1</th>\n",
       "      <th>2</th>\n",
       "    </tr>\n",
       "    <tr>\n",
       "      <th>3</th>\n",
       "      <th></th>\n",
       "      <th></th>\n",
       "      <th></th>\n",
       "    </tr>\n",
       "  </thead>\n",
       "  <tbody>\n",
       "    <tr>\n",
       "      <th>DGm3c_51</th>\n",
       "      <td>chr1</td>\n",
       "      <td>3377607</td>\n",
       "      <td>3377607</td>\n",
       "    </tr>\n",
       "    <tr>\n",
       "      <th>DGm3c_60</th>\n",
       "      <td>chr1</td>\n",
       "      <td>3390794</td>\n",
       "      <td>3390944</td>\n",
       "    </tr>\n",
       "    <tr>\n",
       "      <th>DGm3c_79</th>\n",
       "      <td>chr1</td>\n",
       "      <td>3468022</td>\n",
       "      <td>3468177</td>\n",
       "    </tr>\n",
       "    <tr>\n",
       "      <th>DGm3c_91</th>\n",
       "      <td>chr1</td>\n",
       "      <td>3526406</td>\n",
       "      <td>3526406</td>\n",
       "    </tr>\n",
       "    <tr>\n",
       "      <th>DGm3c_95</th>\n",
       "      <td>chr1</td>\n",
       "      <td>3533459</td>\n",
       "      <td>3533540</td>\n",
       "    </tr>\n",
       "  </tbody>\n",
       "</table>\n",
       "</div>"
      ],
      "text/plain": [
       "             0        1        2\n",
       "3                               \n",
       "DGm3c_51  chr1  3377607  3377607\n",
       "DGm3c_60  chr1  3390794  3390944\n",
       "DGm3c_79  chr1  3468022  3468177\n",
       "DGm3c_91  chr1  3526406  3526406\n",
       "DGm3c_95  chr1  3533459  3533540"
      ]
     },
     "execution_count": 5,
     "metadata": {},
     "output_type": "execute_result"
    }
   ],
   "source": [
    "dmr_bed_df = pd.read_csv(dmr_hits_path, sep='\\t', header=None, index_col=3)\n",
    "dmr_bed_df.head()"
   ]
  },
  {
   "cell_type": "code",
   "execution_count": 6,
   "metadata": {
    "ExecuteTime": {
     "end_time": "2020-01-17T04:52:32.261710Z",
     "start_time": "2020-01-17T04:52:30.168466Z"
    },
    "papermill": {
     "duration": 1.972826,
     "end_time": "2020-01-14T06:47:31.541209",
     "exception": false,
     "start_time": "2020-01-14T06:47:29.568383",
     "status": "completed"
    },
    "tags": []
   },
   "outputs": [
    {
     "data": {
      "text/plain": [
       "AnnData object with n_obs × n_vars = 37760 × 719 \n",
       "    obs: 'chrom', 'start', 'end'"
      ]
     },
     "execution_count": 6,
     "metadata": {},
     "output_type": "execute_result"
    }
   ],
   "source": [
    "motif_hits = anndata.read_h5ad(motif_hits_path)\n",
    "motif_hits = motif_hits[dmr_bed_df.index, :].copy()\n",
    "motif_ids = motif_hits.var_names\n",
    "motif_hits.X = motif_hits.X.todense()\n",
    "motif_hits"
   ]
  },
  {
   "cell_type": "code",
   "execution_count": 7,
   "metadata": {
    "ExecuteTime": {
     "end_time": "2020-01-17T04:52:32.786319Z",
     "start_time": "2020-01-17T04:52:32.264515Z"
    },
    "papermill": {
     "duration": 0.720221,
     "end_time": "2020-01-14T06:47:32.271725",
     "exception": false,
     "start_time": "2020-01-14T06:47:31.551504",
     "status": "completed"
    },
    "tags": []
   },
   "outputs": [],
   "source": [
    "# mask small motif scores\n",
    "motif_cutoff = pd.Series(np.apply_along_axis(lambda i: np.quantile(i[i>0], 0.99) * mask_quantile_to99, \n",
    "                                             0, motif_hits.X),\n",
    "                         index=motif_hits.var_names)\n",
    "# only keep value larger than the cutoff for each motif\n",
    "motif_hits.X = np.multiply(motif_hits.X, (motif_hits.X > motif_cutoff.values[None, :]))"
   ]
  },
  {
   "cell_type": "markdown",
   "metadata": {
    "papermill": {
     "duration": 0.009594,
     "end_time": "2020-01-14T06:47:32.291970",
     "exception": false,
     "start_time": "2020-01-14T06:47:32.282376",
     "status": "completed"
    },
    "tags": []
   },
   "source": [
    "## Background Hits"
   ]
  },
  {
   "cell_type": "code",
   "execution_count": 8,
   "metadata": {
    "ExecuteTime": {
     "end_time": "2020-01-17T04:52:33.977915Z",
     "start_time": "2020-01-17T04:52:32.788602Z"
    },
    "papermill": {
     "duration": 1.121744,
     "end_time": "2020-01-14T06:47:33.423360",
     "exception": false,
     "start_time": "2020-01-14T06:47:32.301616",
     "status": "completed"
    },
    "tags": []
   },
   "outputs": [],
   "source": [
    "background_motif_hits = anndata.read_h5ad(\n",
    "    '/home/hanliu/project/mouse_rostral_brain/DMR/BackgroundDMR/MotifScan.h5ad'\n",
    ")"
   ]
  },
  {
   "cell_type": "code",
   "execution_count": 9,
   "metadata": {
    "ExecuteTime": {
     "end_time": "2020-01-17T04:52:35.040324Z",
     "start_time": "2020-01-17T04:52:33.979744Z"
    },
    "papermill": {
     "duration": 1.039154,
     "end_time": "2020-01-14T06:47:34.473273",
     "exception": false,
     "start_time": "2020-01-14T06:47:33.434119",
     "status": "completed"
    },
    "tags": []
   },
   "outputs": [],
   "source": [
    "dmr_bed = pybedtools.BedTool().from_dataframe(dmr_bed_df)\n",
    "bg_bed = pybedtools.BedTool().from_dataframe(\n",
    "    background_motif_hits.obs.reset_index().iloc[:, [1, 2, 3, 0]])"
   ]
  },
  {
   "cell_type": "code",
   "execution_count": 10,
   "metadata": {
    "ExecuteTime": {
     "end_time": "2020-01-17T04:52:36.598849Z",
     "start_time": "2020-01-17T04:52:35.042003Z"
    },
    "papermill": {
     "duration": 1.582393,
     "end_time": "2020-01-14T06:47:36.066518",
     "exception": false,
     "start_time": "2020-01-14T06:47:34.484125",
     "status": "completed"
    },
    "tags": []
   },
   "outputs": [],
   "source": [
    "# exclude background that overlap with DMR\n",
    "bg_no_overlap = bg_bed.intersect(dmr_bed, v=True)\n",
    "use_bg = bg_no_overlap.to_dataframe().iloc[:, -1].values\n",
    "background_motif_hits = background_motif_hits[use_bg, :]\n",
    "\n",
    "# make sure col in same order\n",
    "background_motif_hits = background_motif_hits[:, motif_ids].copy()"
   ]
  },
  {
   "cell_type": "code",
   "execution_count": 11,
   "metadata": {
    "ExecuteTime": {
     "end_time": "2020-01-17T04:52:38.879507Z",
     "start_time": "2020-01-17T04:52:36.600879Z"
    },
    "papermill": {
     "duration": 2.244208,
     "end_time": "2020-01-14T06:47:38.322268",
     "exception": false,
     "start_time": "2020-01-14T06:47:36.078060",
     "status": "completed"
    },
    "tags": []
   },
   "outputs": [],
   "source": [
    "judge_matrix = csr_matrix(background_motif_hits.X > motif_cutoff.values[None, :])\n",
    "background_motif_hits.X = background_motif_hits.X.multiply(judge_matrix)"
   ]
  },
  {
   "cell_type": "code",
   "execution_count": 12,
   "metadata": {
    "ExecuteTime": {
     "end_time": "2020-01-17T04:52:38.885623Z",
     "start_time": "2020-01-17T04:52:38.881544Z"
    },
    "papermill": {
     "duration": 0.017294,
     "end_time": "2020-01-14T06:47:38.350479",
     "exception": false,
     "start_time": "2020-01-14T06:47:38.333185",
     "status": "completed"
    },
    "tags": []
   },
   "outputs": [
    {
     "data": {
      "text/plain": [
       "AnnData object with n_obs × n_vars = 337186 × 719 \n",
       "    obs: 'chrom', 'start', 'end'"
      ]
     },
     "execution_count": 12,
     "metadata": {},
     "output_type": "execute_result"
    }
   ],
   "source": [
    "background_motif_hits"
   ]
  },
  {
   "cell_type": "markdown",
   "metadata": {
    "papermill": {
     "duration": 0.010081,
     "end_time": "2020-01-14T06:47:38.370731",
     "exception": false,
     "start_time": "2020-01-14T06:47:38.360650",
     "status": "completed"
    },
    "tags": []
   },
   "source": [
    "## Motif hits contingency table"
   ]
  },
  {
   "cell_type": "code",
   "execution_count": 13,
   "metadata": {
    "ExecuteTime": {
     "end_time": "2020-01-17T04:52:39.138110Z",
     "start_time": "2020-01-17T04:52:38.886960Z"
    },
    "papermill": {
     "duration": 0.222185,
     "end_time": "2020-01-14T06:47:38.603075",
     "exception": false,
     "start_time": "2020-01-14T06:47:38.380890",
     "status": "completed"
    },
    "tags": []
   },
   "outputs": [],
   "source": [
    "# calculate motif occurence, not considering hits here\n",
    "pos = (motif_hits.X > 0).sum(axis=0)\n",
    "pos_total = motif_hits.shape[0]\n",
    "\n",
    "neg = (background_motif_hits.X > 0).sum(axis=0)\n",
    "neg_total = background_motif_hits.shape[0]"
   ]
  },
  {
   "cell_type": "code",
   "execution_count": 14,
   "metadata": {
    "ExecuteTime": {
     "end_time": "2020-01-17T04:52:39.143925Z",
     "start_time": "2020-01-17T04:52:39.139538Z"
    },
    "papermill": {
     "duration": 0.075498,
     "end_time": "2020-01-14T06:47:38.688978",
     "exception": false,
     "start_time": "2020-01-14T06:47:38.613480",
     "status": "completed"
    },
    "scrolled": true,
    "tags": []
   },
   "outputs": [],
   "source": [
    "tables = {}\n",
    "for motif, _pos, _neg in zip(motif_ids, pos.A1, neg.A1):\n",
    "    table = [[_pos, pos_total - _pos], [_neg, neg_total - _neg]]\n",
    "    tables[motif] = table"
   ]
  },
  {
   "cell_type": "code",
   "execution_count": 15,
   "metadata": {
    "ExecuteTime": {
     "end_time": "2020-01-17T04:52:39.784021Z",
     "start_time": "2020-01-17T04:52:39.145385Z"
    },
    "papermill": {
     "duration": 0.881124,
     "end_time": "2020-01-14T06:47:39.579835",
     "exception": false,
     "start_time": "2020-01-14T06:47:38.698711",
     "status": "completed"
    },
    "tags": []
   },
   "outputs": [
    {
     "name": "stderr",
     "output_type": "stream",
     "text": [
      "/home/hanliu/miniconda3/envs/clustering/lib/python3.7/site-packages/pandas/core/series.py:853: RuntimeWarning: divide by zero encountered in log10\n",
      "  result = getattr(ufunc, method)(*inputs, **kwargs)\n"
     ]
    }
   ],
   "source": [
    "results = {}\n",
    "with ProcessPoolExecutor(20) as executor:\n",
    "    fs = {}\n",
    "    for motif, t in tables.items():\n",
    "        f = executor.submit(stats.fisher_exact, t, alternative='greater')\n",
    "        fs[f] = motif\n",
    "\n",
    "    for f in as_completed(fs):\n",
    "        motif = fs[f]\n",
    "        odds, p = f.result()\n",
    "        results[motif] = {'oddsratio': odds, 'p_value': p}\n",
    "motif_enrich_df = pd.DataFrame(results).T\n",
    "\n",
    "_, p, _, _ = multipletests(motif_enrich_df['p_value'], method='fdr_bh')\n",
    "motif_enrich_df['adj_p'] = p\n",
    "\n",
    "motif_enrich_df['-lgp'] = -np.log10(motif_enrich_df['adj_p']).replace(\n",
    "    -np.inf, -300)\n",
    "\n",
    "records = {}\n",
    "for motif, t in tables.items():\n",
    "    tp, tn = t[0]\n",
    "    fp, fn = t[1]\n",
    "    tp_rate = tp / pos_total\n",
    "    fp_rate = fp / neg_total\n",
    "    records[motif] = dict(tp=tp,\n",
    "                          tn=tn,\n",
    "                          fp=fp,\n",
    "                          fn=fn,\n",
    "                          tp_rate=tp_rate,\n",
    "                          fp_rate=fp_rate)\n",
    "counts = pd.DataFrame(records).T\n",
    "motif_enrich_df = pd.concat([motif_enrich_df, counts], axis=1, sort=True)"
   ]
  },
  {
   "cell_type": "code",
   "execution_count": 16,
   "metadata": {
    "ExecuteTime": {
     "end_time": "2020-01-17T04:52:39.788132Z",
     "start_time": "2020-01-17T04:52:39.785439Z"
    },
    "papermill": {
     "duration": 0.016244,
     "end_time": "2020-01-14T06:47:39.607962",
     "exception": false,
     "start_time": "2020-01-14T06:47:39.591718",
     "status": "completed"
    },
    "tags": []
   },
   "outputs": [],
   "source": [
    "motif_enrich_df['Group'] = group"
   ]
  },
  {
   "cell_type": "code",
   "execution_count": 17,
   "metadata": {
    "ExecuteTime": {
     "end_time": "2020-01-17T04:52:39.794569Z",
     "start_time": "2020-01-17T04:52:39.789355Z"
    },
    "papermill": {
     "duration": 0.018447,
     "end_time": "2020-01-14T06:47:39.636195",
     "exception": false,
     "start_time": "2020-01-14T06:47:39.617748",
     "status": "completed"
    },
    "tags": []
   },
   "outputs": [
    {
     "data": {
      "text/plain": [
       "23"
      ]
     },
     "execution_count": 17,
     "metadata": {},
     "output_type": "execute_result"
    }
   ],
   "source": [
    "# final filter\n",
    "filtered_motif_df = motif_enrich_df[(motif_enrich_df['oddsratio'] > or_cutoff)\n",
    "                                    &\n",
    "                                    (motif_enrich_df['-lgp'] > neg_lgp_cutoff)]\n",
    "filtered_motif_df.shape[0]"
   ]
  },
  {
   "cell_type": "code",
   "execution_count": 18,
   "metadata": {
    "ExecuteTime": {
     "end_time": "2020-01-17T04:52:39.799172Z",
     "start_time": "2020-01-17T04:52:39.795658Z"
    },
    "papermill": {
     "duration": 0.016985,
     "end_time": "2020-01-14T06:47:39.663389",
     "exception": false,
     "start_time": "2020-01-14T06:47:39.646404",
     "status": "completed"
    },
    "tags": []
   },
   "outputs": [
    {
     "name": "stderr",
     "output_type": "stream",
     "text": [
      "/home/hanliu/miniconda3/envs/clustering/lib/python3.7/site-packages/ipykernel_launcher.py:1: FutureWarning: to_msgpack is deprecated and will be removed in a future version.\n",
      "It is recommended to use pyarrow for on-the-wire transmission of pandas objects.\n",
      "  \"\"\"Entry point for launching an IPython kernel.\n"
     ]
    }
   ],
   "source": [
    "motif_enrich_df.to_msgpack(output_dir / f'{group}.motif_enrichment.msg')"
   ]
  },
  {
   "cell_type": "code",
   "execution_count": 19,
   "metadata": {
    "ExecuteTime": {
     "end_time": "2020-01-17T04:52:39.808508Z",
     "start_time": "2020-01-17T04:52:39.800329Z"
    },
    "papermill": {
     "duration": 0.022267,
     "end_time": "2020-01-14T06:47:39.696243",
     "exception": false,
     "start_time": "2020-01-14T06:47:39.673976",
     "status": "completed"
    },
    "tags": []
   },
   "outputs": [],
   "source": [
    "pybedtools.cleanup()"
   ]
  },
  {
   "cell_type": "code",
   "execution_count": 20,
   "metadata": {
    "ExecuteTime": {
     "end_time": "2020-01-17T04:52:39.825662Z",
     "start_time": "2020-01-17T04:52:39.809640Z"
    },
    "papermill": {
     "duration": 0.02966,
     "end_time": "2020-01-14T06:47:39.737211",
     "exception": false,
     "start_time": "2020-01-14T06:47:39.707551",
     "status": "completed"
    },
    "tags": []
   },
   "outputs": [
    {
     "data": {
      "text/html": [
       "<div>\n",
       "<style scoped>\n",
       "    .dataframe tbody tr th:only-of-type {\n",
       "        vertical-align: middle;\n",
       "    }\n",
       "\n",
       "    .dataframe tbody tr th {\n",
       "        vertical-align: top;\n",
       "    }\n",
       "\n",
       "    .dataframe thead th {\n",
       "        text-align: right;\n",
       "    }\n",
       "</style>\n",
       "<table border=\"1\" class=\"dataframe\">\n",
       "  <thead>\n",
       "    <tr style=\"text-align: right;\">\n",
       "      <th></th>\n",
       "      <th>oddsratio</th>\n",
       "      <th>p_value</th>\n",
       "      <th>adj_p</th>\n",
       "      <th>-lgp</th>\n",
       "      <th>tp</th>\n",
       "      <th>tn</th>\n",
       "      <th>fp</th>\n",
       "      <th>fn</th>\n",
       "      <th>tp_rate</th>\n",
       "      <th>fp_rate</th>\n",
       "      <th>Group</th>\n",
       "    </tr>\n",
       "  </thead>\n",
       "  <tbody>\n",
       "    <tr>\n",
       "      <th>MA0072.1</th>\n",
       "      <td>6.028997</td>\n",
       "      <td>2.727137e-231</td>\n",
       "      <td>6.536039e-229</td>\n",
       "      <td>228.184685</td>\n",
       "      <td>679.0</td>\n",
       "      <td>37081.0</td>\n",
       "      <td>1021.0</td>\n",
       "      <td>336165.0</td>\n",
       "      <td>0.017982</td>\n",
       "      <td>0.003028</td>\n",
       "      <td>IT-L5+SSs</td>\n",
       "    </tr>\n",
       "    <tr>\n",
       "      <th>MA0091.1</th>\n",
       "      <td>1.559036</td>\n",
       "      <td>1.766793e-18</td>\n",
       "      <td>4.885863e-17</td>\n",
       "      <td>16.311059</td>\n",
       "      <td>507.0</td>\n",
       "      <td>37253.0</td>\n",
       "      <td>2918.0</td>\n",
       "      <td>334268.0</td>\n",
       "      <td>0.013427</td>\n",
       "      <td>0.008654</td>\n",
       "      <td>IT-L5+SSs</td>\n",
       "    </tr>\n",
       "    <tr>\n",
       "      <th>MA0461.2</th>\n",
       "      <td>1.728383</td>\n",
       "      <td>2.966275e-29</td>\n",
       "      <td>1.523394e-27</td>\n",
       "      <td>26.817188</td>\n",
       "      <td>571.0</td>\n",
       "      <td>37189.0</td>\n",
       "      <td>2969.0</td>\n",
       "      <td>334217.0</td>\n",
       "      <td>0.015122</td>\n",
       "      <td>0.008805</td>\n",
       "      <td>IT-L5+SSs</td>\n",
       "    </tr>\n",
       "    <tr>\n",
       "      <th>MA0497.1</th>\n",
       "      <td>1.528664</td>\n",
       "      <td>4.922899e-15</td>\n",
       "      <td>1.264130e-13</td>\n",
       "      <td>12.898208</td>\n",
       "      <td>437.0</td>\n",
       "      <td>37323.0</td>\n",
       "      <td>2563.0</td>\n",
       "      <td>334623.0</td>\n",
       "      <td>0.011573</td>\n",
       "      <td>0.007601</td>\n",
       "      <td>IT-L5+SSs</td>\n",
       "    </tr>\n",
       "    <tr>\n",
       "      <th>MA0507.1</th>\n",
       "      <td>1.820944</td>\n",
       "      <td>6.692924e-33</td>\n",
       "      <td>3.701702e-31</td>\n",
       "      <td>30.431599</td>\n",
       "      <td>549.0</td>\n",
       "      <td>37211.0</td>\n",
       "      <td>2710.0</td>\n",
       "      <td>334476.0</td>\n",
       "      <td>0.014539</td>\n",
       "      <td>0.008037</td>\n",
       "      <td>IT-L5+SSs</td>\n",
       "    </tr>\n",
       "    <tr>\n",
       "      <th>MA0607.1</th>\n",
       "      <td>1.867209</td>\n",
       "      <td>5.297504e-142</td>\n",
       "      <td>7.617810e-140</td>\n",
       "      <td>139.118170</td>\n",
       "      <td>2389.0</td>\n",
       "      <td>35371.0</td>\n",
       "      <td>11771.0</td>\n",
       "      <td>325415.0</td>\n",
       "      <td>0.063268</td>\n",
       "      <td>0.034910</td>\n",
       "      <td>IT-L5+SSs</td>\n",
       "    </tr>\n",
       "    <tr>\n",
       "      <th>MA0623.2</th>\n",
       "      <td>1.803654</td>\n",
       "      <td>1.753647e-28</td>\n",
       "      <td>8.405813e-27</td>\n",
       "      <td>26.075420</td>\n",
       "      <td>484.0</td>\n",
       "      <td>37276.0</td>\n",
       "      <td>2410.0</td>\n",
       "      <td>334776.0</td>\n",
       "      <td>0.012818</td>\n",
       "      <td>0.007147</td>\n",
       "      <td>IT-L5+SSs</td>\n",
       "    </tr>\n",
       "    <tr>\n",
       "      <th>MA0633.1</th>\n",
       "      <td>1.858977</td>\n",
       "      <td>1.516516e-43</td>\n",
       "      <td>1.362969e-41</td>\n",
       "      <td>40.865514</td>\n",
       "      <td>696.0</td>\n",
       "      <td>37064.0</td>\n",
       "      <td>3372.0</td>\n",
       "      <td>333814.0</td>\n",
       "      <td>0.018432</td>\n",
       "      <td>0.010000</td>\n",
       "      <td>IT-L5+SSs</td>\n",
       "    </tr>\n",
       "    <tr>\n",
       "      <th>MA0639.1</th>\n",
       "      <td>1.599893</td>\n",
       "      <td>3.779009e-12</td>\n",
       "      <td>7.763164e-11</td>\n",
       "      <td>10.109961</td>\n",
       "      <td>283.0</td>\n",
       "      <td>37477.0</td>\n",
       "      <td>1584.0</td>\n",
       "      <td>335602.0</td>\n",
       "      <td>0.007495</td>\n",
       "      <td>0.004698</td>\n",
       "      <td>IT-L5+SSs</td>\n",
       "    </tr>\n",
       "    <tr>\n",
       "      <th>MA0665.1</th>\n",
       "      <td>1.638262</td>\n",
       "      <td>3.312425e-12</td>\n",
       "      <td>7.004804e-11</td>\n",
       "      <td>10.154604</td>\n",
       "      <td>260.0</td>\n",
       "      <td>37500.0</td>\n",
       "      <td>1421.0</td>\n",
       "      <td>335765.0</td>\n",
       "      <td>0.006886</td>\n",
       "      <td>0.004214</td>\n",
       "      <td>IT-L5+SSs</td>\n",
       "    </tr>\n",
       "    <tr>\n",
       "      <th>MA0667.1</th>\n",
       "      <td>1.533434</td>\n",
       "      <td>4.699914e-12</td>\n",
       "      <td>9.386772e-11</td>\n",
       "      <td>10.027484</td>\n",
       "      <td>334.0</td>\n",
       "      <td>37426.0</td>\n",
       "      <td>1951.0</td>\n",
       "      <td>335235.0</td>\n",
       "      <td>0.008845</td>\n",
       "      <td>0.005786</td>\n",
       "      <td>IT-L5+SSs</td>\n",
       "    </tr>\n",
       "    <tr>\n",
       "      <th>MA0668.1</th>\n",
       "      <td>1.787020</td>\n",
       "      <td>1.907464e-20</td>\n",
       "      <td>6.233939e-19</td>\n",
       "      <td>18.205237</td>\n",
       "      <td>347.0</td>\n",
       "      <td>37413.0</td>\n",
       "      <td>1741.0</td>\n",
       "      <td>335445.0</td>\n",
       "      <td>0.009190</td>\n",
       "      <td>0.005163</td>\n",
       "      <td>IT-L5+SSs</td>\n",
       "    </tr>\n",
       "    <tr>\n",
       "      <th>MA0669.1</th>\n",
       "      <td>1.844726</td>\n",
       "      <td>7.712817e-19</td>\n",
       "      <td>2.310631e-17</td>\n",
       "      <td>16.636269</td>\n",
       "      <td>288.0</td>\n",
       "      <td>37472.0</td>\n",
       "      <td>1399.0</td>\n",
       "      <td>335787.0</td>\n",
       "      <td>0.007627</td>\n",
       "      <td>0.004149</td>\n",
       "      <td>IT-L5+SSs</td>\n",
       "    </tr>\n",
       "    <tr>\n",
       "      <th>MA0678.1</th>\n",
       "      <td>1.627499</td>\n",
       "      <td>2.898510e-14</td>\n",
       "      <td>7.186306e-13</td>\n",
       "      <td>12.143494</td>\n",
       "      <td>319.0</td>\n",
       "      <td>37441.0</td>\n",
       "      <td>1756.0</td>\n",
       "      <td>335430.0</td>\n",
       "      <td>0.008448</td>\n",
       "      <td>0.005208</td>\n",
       "      <td>IT-L5+SSs</td>\n",
       "    </tr>\n",
       "    <tr>\n",
       "      <th>MA0785.1</th>\n",
       "      <td>1.605824</td>\n",
       "      <td>2.037179e-13</td>\n",
       "      <td>4.724942e-12</td>\n",
       "      <td>11.325604</td>\n",
       "      <td>313.0</td>\n",
       "      <td>37447.0</td>\n",
       "      <td>1746.0</td>\n",
       "      <td>335440.0</td>\n",
       "      <td>0.008289</td>\n",
       "      <td>0.005178</td>\n",
       "      <td>IT-L5+SSs</td>\n",
       "    </tr>\n",
       "    <tr>\n",
       "      <th>MA0818.1</th>\n",
       "      <td>1.689508</td>\n",
       "      <td>7.803231e-24</td>\n",
       "      <td>2.805261e-22</td>\n",
       "      <td>21.552027</td>\n",
       "      <td>494.0</td>\n",
       "      <td>37266.0</td>\n",
       "      <td>2625.0</td>\n",
       "      <td>334561.0</td>\n",
       "      <td>0.013083</td>\n",
       "      <td>0.007785</td>\n",
       "      <td>IT-L5+SSs</td>\n",
       "    </tr>\n",
       "    <tr>\n",
       "      <th>MA0827.1</th>\n",
       "      <td>1.722189</td>\n",
       "      <td>8.739543e-20</td>\n",
       "      <td>2.732057e-18</td>\n",
       "      <td>17.563510</td>\n",
       "      <td>377.0</td>\n",
       "      <td>37383.0</td>\n",
       "      <td>1963.0</td>\n",
       "      <td>335223.0</td>\n",
       "      <td>0.009984</td>\n",
       "      <td>0.005822</td>\n",
       "      <td>IT-L5+SSs</td>\n",
       "    </tr>\n",
       "    <tr>\n",
       "      <th>MA1109.1</th>\n",
       "      <td>1.866222</td>\n",
       "      <td>2.973693e-76</td>\n",
       "      <td>3.054408e-74</td>\n",
       "      <td>73.515073</td>\n",
       "      <td>1242.0</td>\n",
       "      <td>36518.0</td>\n",
       "      <td>6035.0</td>\n",
       "      <td>331151.0</td>\n",
       "      <td>0.032892</td>\n",
       "      <td>0.017898</td>\n",
       "      <td>IT-L5+SSs</td>\n",
       "    </tr>\n",
       "    <tr>\n",
       "      <th>MA1150.1</th>\n",
       "      <td>3.506619</td>\n",
       "      <td>0.000000e+00</td>\n",
       "      <td>0.000000e+00</td>\n",
       "      <td>300.000000</td>\n",
       "      <td>1798.0</td>\n",
       "      <td>35962.0</td>\n",
       "      <td>4740.0</td>\n",
       "      <td>332446.0</td>\n",
       "      <td>0.047617</td>\n",
       "      <td>0.014058</td>\n",
       "      <td>IT-L5+SSs</td>\n",
       "    </tr>\n",
       "    <tr>\n",
       "      <th>MA1151.1</th>\n",
       "      <td>5.509863</td>\n",
       "      <td>0.000000e+00</td>\n",
       "      <td>0.000000e+00</td>\n",
       "      <td>300.000000</td>\n",
       "      <td>1975.0</td>\n",
       "      <td>35785.0</td>\n",
       "      <td>3344.0</td>\n",
       "      <td>333842.0</td>\n",
       "      <td>0.052304</td>\n",
       "      <td>0.009917</td>\n",
       "      <td>IT-L5+SSs</td>\n",
       "    </tr>\n",
       "    <tr>\n",
       "      <th>MA1468.1</th>\n",
       "      <td>1.704076</td>\n",
       "      <td>2.143853e-27</td>\n",
       "      <td>9.067237e-26</td>\n",
       "      <td>25.042525</td>\n",
       "      <td>558.0</td>\n",
       "      <td>37202.0</td>\n",
       "      <td>2942.0</td>\n",
       "      <td>334244.0</td>\n",
       "      <td>0.014778</td>\n",
       "      <td>0.008725</td>\n",
       "      <td>IT-L5+SSs</td>\n",
       "    </tr>\n",
       "    <tr>\n",
       "      <th>MA1638.1</th>\n",
       "      <td>1.547727</td>\n",
       "      <td>1.084452e-156</td>\n",
       "      <td>1.949302e-154</td>\n",
       "      <td>153.710121</td>\n",
       "      <td>5436.0</td>\n",
       "      <td>32324.0</td>\n",
       "      <td>33047.0</td>\n",
       "      <td>304139.0</td>\n",
       "      <td>0.143962</td>\n",
       "      <td>0.098008</td>\n",
       "      <td>IT-L5+SSs</td>\n",
       "    </tr>\n",
       "    <tr>\n",
       "      <th>MA1642.1</th>\n",
       "      <td>1.792525</td>\n",
       "      <td>3.770671e-112</td>\n",
       "      <td>4.518521e-110</td>\n",
       "      <td>109.345004</td>\n",
       "      <td>2112.0</td>\n",
       "      <td>35648.0</td>\n",
       "      <td>10788.0</td>\n",
       "      <td>326398.0</td>\n",
       "      <td>0.055932</td>\n",
       "      <td>0.031994</td>\n",
       "      <td>IT-L5+SSs</td>\n",
       "    </tr>\n",
       "  </tbody>\n",
       "</table>\n",
       "</div>"
      ],
      "text/plain": [
       "          oddsratio        p_value          adj_p        -lgp      tp  \\\n",
       "MA0072.1   6.028997  2.727137e-231  6.536039e-229  228.184685   679.0   \n",
       "MA0091.1   1.559036   1.766793e-18   4.885863e-17   16.311059   507.0   \n",
       "MA0461.2   1.728383   2.966275e-29   1.523394e-27   26.817188   571.0   \n",
       "MA0497.1   1.528664   4.922899e-15   1.264130e-13   12.898208   437.0   \n",
       "MA0507.1   1.820944   6.692924e-33   3.701702e-31   30.431599   549.0   \n",
       "MA0607.1   1.867209  5.297504e-142  7.617810e-140  139.118170  2389.0   \n",
       "MA0623.2   1.803654   1.753647e-28   8.405813e-27   26.075420   484.0   \n",
       "MA0633.1   1.858977   1.516516e-43   1.362969e-41   40.865514   696.0   \n",
       "MA0639.1   1.599893   3.779009e-12   7.763164e-11   10.109961   283.0   \n",
       "MA0665.1   1.638262   3.312425e-12   7.004804e-11   10.154604   260.0   \n",
       "MA0667.1   1.533434   4.699914e-12   9.386772e-11   10.027484   334.0   \n",
       "MA0668.1   1.787020   1.907464e-20   6.233939e-19   18.205237   347.0   \n",
       "MA0669.1   1.844726   7.712817e-19   2.310631e-17   16.636269   288.0   \n",
       "MA0678.1   1.627499   2.898510e-14   7.186306e-13   12.143494   319.0   \n",
       "MA0785.1   1.605824   2.037179e-13   4.724942e-12   11.325604   313.0   \n",
       "MA0818.1   1.689508   7.803231e-24   2.805261e-22   21.552027   494.0   \n",
       "MA0827.1   1.722189   8.739543e-20   2.732057e-18   17.563510   377.0   \n",
       "MA1109.1   1.866222   2.973693e-76   3.054408e-74   73.515073  1242.0   \n",
       "MA1150.1   3.506619   0.000000e+00   0.000000e+00  300.000000  1798.0   \n",
       "MA1151.1   5.509863   0.000000e+00   0.000000e+00  300.000000  1975.0   \n",
       "MA1468.1   1.704076   2.143853e-27   9.067237e-26   25.042525   558.0   \n",
       "MA1638.1   1.547727  1.084452e-156  1.949302e-154  153.710121  5436.0   \n",
       "MA1642.1   1.792525  3.770671e-112  4.518521e-110  109.345004  2112.0   \n",
       "\n",
       "               tn       fp        fn   tp_rate   fp_rate      Group  \n",
       "MA0072.1  37081.0   1021.0  336165.0  0.017982  0.003028  IT-L5+SSs  \n",
       "MA0091.1  37253.0   2918.0  334268.0  0.013427  0.008654  IT-L5+SSs  \n",
       "MA0461.2  37189.0   2969.0  334217.0  0.015122  0.008805  IT-L5+SSs  \n",
       "MA0497.1  37323.0   2563.0  334623.0  0.011573  0.007601  IT-L5+SSs  \n",
       "MA0507.1  37211.0   2710.0  334476.0  0.014539  0.008037  IT-L5+SSs  \n",
       "MA0607.1  35371.0  11771.0  325415.0  0.063268  0.034910  IT-L5+SSs  \n",
       "MA0623.2  37276.0   2410.0  334776.0  0.012818  0.007147  IT-L5+SSs  \n",
       "MA0633.1  37064.0   3372.0  333814.0  0.018432  0.010000  IT-L5+SSs  \n",
       "MA0639.1  37477.0   1584.0  335602.0  0.007495  0.004698  IT-L5+SSs  \n",
       "MA0665.1  37500.0   1421.0  335765.0  0.006886  0.004214  IT-L5+SSs  \n",
       "MA0667.1  37426.0   1951.0  335235.0  0.008845  0.005786  IT-L5+SSs  \n",
       "MA0668.1  37413.0   1741.0  335445.0  0.009190  0.005163  IT-L5+SSs  \n",
       "MA0669.1  37472.0   1399.0  335787.0  0.007627  0.004149  IT-L5+SSs  \n",
       "MA0678.1  37441.0   1756.0  335430.0  0.008448  0.005208  IT-L5+SSs  \n",
       "MA0785.1  37447.0   1746.0  335440.0  0.008289  0.005178  IT-L5+SSs  \n",
       "MA0818.1  37266.0   2625.0  334561.0  0.013083  0.007785  IT-L5+SSs  \n",
       "MA0827.1  37383.0   1963.0  335223.0  0.009984  0.005822  IT-L5+SSs  \n",
       "MA1109.1  36518.0   6035.0  331151.0  0.032892  0.017898  IT-L5+SSs  \n",
       "MA1150.1  35962.0   4740.0  332446.0  0.047617  0.014058  IT-L5+SSs  \n",
       "MA1151.1  35785.0   3344.0  333842.0  0.052304  0.009917  IT-L5+SSs  \n",
       "MA1468.1  37202.0   2942.0  334244.0  0.014778  0.008725  IT-L5+SSs  \n",
       "MA1638.1  32324.0  33047.0  304139.0  0.143962  0.098008  IT-L5+SSs  \n",
       "MA1642.1  35648.0  10788.0  326398.0  0.055932  0.031994  IT-L5+SSs  "
      ]
     },
     "execution_count": 20,
     "metadata": {},
     "output_type": "execute_result"
    }
   ],
   "source": [
    "filtered_motif_df"
   ]
  },
  {
   "cell_type": "code",
   "execution_count": null,
   "metadata": {
    "papermill": {
     "duration": 0.010783,
     "end_time": "2020-01-14T06:47:39.758775",
     "exception": false,
     "start_time": "2020-01-14T06:47:39.747992",
     "status": "completed"
    },
    "tags": []
   },
   "outputs": [],
   "source": []
  }
 ],
 "metadata": {
  "hide_input": false,
  "kernelspec": {
   "display_name": "Python 3",
   "language": "python",
   "name": "python3"
  },
  "language_info": {
   "codemirror_mode": {
    "name": "ipython",
    "version": 3
   },
   "file_extension": ".py",
   "mimetype": "text/x-python",
   "name": "python",
   "nbconvert_exporter": "python",
   "pygments_lexer": "ipython3",
   "version": "3.7.3"
  },
  "papermill": {
   "duration": 12.467994,
   "end_time": "2020-01-14T06:47:40.276206",
   "environment_variables": {},
   "exception": null,
   "input_path": "4.MotifEnrichment.ipynb",
   "output_path": "/home/hanliu/project/mouse_rostral_brain/DMR/ITSpatial_by_layer/IT-L6/Recipe/4.MotifEnrichment.IT-L5+SSs.ipynb",
   "parameters": {
    "dmr_hits_path": "/home/hanliu/project/mouse_rostral_brain/DMR/ITSpatial_by_layer/IT-L5/HypoDMR/IT-L5+SSs.DMS1.bed",
    "group": "IT-L5+SSs",
    "mask_quantile_to99": 0.9,
    "motif_hits_path": "/home/hanliu/project/mouse_rostral_brain/DMR/ITSpatial_by_layer/IT-L5/MotifScan.h5ad",
    "neg_lgp_cutoff": 10,
    "or_cutoff": 1.5,
    "output_dir": "/home/hanliu/project/mouse_rostral_brain/DMR/ITSpatial_by_layer/IT-L5/MotifEnrichment"
   },
   "start_time": "2020-01-14T06:47:27.808212",
   "version": "1.0.1"
  },
  "toc": {
   "base_numbering": 1,
   "nav_menu": {},
   "number_sections": true,
   "sideBar": true,
   "skip_h1_title": true,
   "title_cell": "Table of Contents",
   "title_sidebar": "Contents",
   "toc_cell": false,
   "toc_position": {},
   "toc_section_display": true,
   "toc_window_display": true
  }
 },
 "nbformat": 4,
 "nbformat_minor": 2
}
