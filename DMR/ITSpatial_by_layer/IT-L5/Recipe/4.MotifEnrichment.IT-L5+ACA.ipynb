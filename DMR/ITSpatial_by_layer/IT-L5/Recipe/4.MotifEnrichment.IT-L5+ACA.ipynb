{
 "cells": [
  {
   "cell_type": "markdown",
   "metadata": {
    "papermill": {
     "duration": 0.009595,
     "end_time": "2020-01-14T06:45:59.292489",
     "exception": false,
     "start_time": "2020-01-14T06:45:59.282894",
     "status": "completed"
    },
    "tags": []
   },
   "source": [
    "# Motif Enrichment\n",
    "- The motif hits matrix save the max loglikelyhood score of a motif in that DMR\n",
    "- Before run the motif enrichment, I filter the scores for each motif using cutoff defined by\n",
    "    - `np.quantile(motif_score[motif_score > 0]) * mask_quantile_to99`\n",
    "- This filter will remove hits with low score, which is likely to be false positive\n",
    "- Its likely boosting the significance of real enrichment"
   ]
  },
  {
   "cell_type": "code",
   "execution_count": 1,
   "metadata": {
    "ExecuteTime": {
     "end_time": "2020-01-17T04:52:06.585559Z",
     "start_time": "2020-01-17T04:52:05.853247Z"
    },
    "papermill": {
     "duration": 0.719192,
     "end_time": "2020-01-14T06:46:00.021977",
     "exception": false,
     "start_time": "2020-01-14T06:45:59.302785",
     "status": "completed"
    },
    "tags": []
   },
   "outputs": [],
   "source": [
    "from concurrent.futures import ProcessPoolExecutor, as_completed\n",
    "import anndata\n",
    "import matplotlib.pyplot as plt\n",
    "import numpy as np\n",
    "import pandas as pd\n",
    "import pybedtools\n",
    "import scipy.stats as stats\n",
    "import seaborn as sns\n",
    "from scipy.sparse import csr_matrix\n",
    "from statsmodels.stats.multitest import multipletests\n",
    "import pathlib"
   ]
  },
  {
   "cell_type": "code",
   "execution_count": 2,
   "metadata": {
    "ExecuteTime": {
     "end_time": "2020-01-17T04:52:06.590441Z",
     "start_time": "2020-01-17T04:52:06.587594Z"
    },
    "papermill": {
     "duration": 0.015148,
     "end_time": "2020-01-14T06:46:00.047170",
     "exception": false,
     "start_time": "2020-01-14T06:46:00.032022",
     "status": "completed"
    },
    "tags": [
     "parameters"
    ]
   },
   "outputs": [],
   "source": [
    "mask_quantile_to99 = 0.9\n",
    "or_cutoff = 1.5\n",
    "neg_lgp_cutoff = 10\n",
    "group = 'IT-L23+ACA'\n",
    "\n",
    "motif_hits_path = '/home/hanliu/project/mouse_rostral_brain/DMR/ITSpatial_by_layer/IT-L23/MotifScan.h5ad'\n",
    "dmr_hits_path = f'/home/hanliu/project/mouse_rostral_brain/DMR/ITSpatial_by_layer/IT-L23/HypoDMR/{group}.DMS1.bed'\n",
    "output_dir = '/home/hanliu/project/mouse_rostral_brain/DMR/ITSpatial_by_layer/IT-L23/MotifEnrichment'\n"
   ]
  },
  {
   "cell_type": "code",
   "execution_count": 3,
   "metadata": {
    "ExecuteTime": {
     "end_time": "2020-01-17T04:52:06.594063Z",
     "start_time": "2020-01-17T04:52:06.591713Z"
    },
    "papermill": {
     "duration": 0.013967,
     "end_time": "2020-01-14T06:46:00.070084",
     "exception": false,
     "start_time": "2020-01-14T06:46:00.056117",
     "status": "completed"
    },
    "tags": [
     "injected-parameters"
    ]
   },
   "outputs": [],
   "source": [
    "# Parameters\n",
    "mask_quantile_to99 = 0.9\n",
    "or_cutoff = 1.5\n",
    "neg_lgp_cutoff = 10\n",
    "group = \"IT-L5+ACA\"\n",
    "motif_hits_path = \"/home/hanliu/project/mouse_rostral_brain/DMR/ITSpatial_by_layer/IT-L5/MotifScan.h5ad\"\n",
    "dmr_hits_path = \"/home/hanliu/project/mouse_rostral_brain/DMR/ITSpatial_by_layer/IT-L5/HypoDMR/IT-L5+ACA.DMS1.bed\"\n",
    "output_dir = \"/home/hanliu/project/mouse_rostral_brain/DMR/ITSpatial_by_layer/IT-L5/MotifEnrichment\"\n"
   ]
  },
  {
   "cell_type": "code",
   "execution_count": 4,
   "metadata": {
    "ExecuteTime": {
     "end_time": "2020-01-17T04:52:06.597426Z",
     "start_time": "2020-01-17T04:52:06.595310Z"
    },
    "papermill": {
     "duration": 0.013964,
     "end_time": "2020-01-14T06:46:00.092876",
     "exception": false,
     "start_time": "2020-01-14T06:46:00.078912",
     "status": "completed"
    },
    "tags": []
   },
   "outputs": [],
   "source": [
    "output_dir = pathlib.Path(output_dir)\n",
    "output_dir.mkdir(exist_ok=True)"
   ]
  },
  {
   "cell_type": "markdown",
   "metadata": {
    "papermill": {
     "duration": 0.008956,
     "end_time": "2020-01-14T06:46:00.110635",
     "exception": false,
     "start_time": "2020-01-14T06:46:00.101679",
     "status": "completed"
    },
    "tags": []
   },
   "source": [
    "## DMR hits"
   ]
  },
  {
   "cell_type": "code",
   "execution_count": 5,
   "metadata": {
    "ExecuteTime": {
     "end_time": "2020-01-17T04:52:06.634060Z",
     "start_time": "2020-01-17T04:52:06.599239Z"
    },
    "papermill": {
     "duration": 0.068888,
     "end_time": "2020-01-14T06:46:00.188507",
     "exception": false,
     "start_time": "2020-01-14T06:46:00.119619",
     "status": "completed"
    },
    "tags": []
   },
   "outputs": [
    {
     "data": {
      "text/html": [
       "<div>\n",
       "<style scoped>\n",
       "    .dataframe tbody tr th:only-of-type {\n",
       "        vertical-align: middle;\n",
       "    }\n",
       "\n",
       "    .dataframe tbody tr th {\n",
       "        vertical-align: top;\n",
       "    }\n",
       "\n",
       "    .dataframe thead th {\n",
       "        text-align: right;\n",
       "    }\n",
       "</style>\n",
       "<table border=\"1\" class=\"dataframe\">\n",
       "  <thead>\n",
       "    <tr style=\"text-align: right;\">\n",
       "      <th></th>\n",
       "      <th>0</th>\n",
       "      <th>1</th>\n",
       "      <th>2</th>\n",
       "    </tr>\n",
       "    <tr>\n",
       "      <th>3</th>\n",
       "      <th></th>\n",
       "      <th></th>\n",
       "      <th></th>\n",
       "    </tr>\n",
       "  </thead>\n",
       "  <tbody>\n",
       "    <tr>\n",
       "      <th>DGm3c_124</th>\n",
       "      <td>chr1</td>\n",
       "      <td>3716698</td>\n",
       "      <td>3716782</td>\n",
       "    </tr>\n",
       "    <tr>\n",
       "      <th>DGm3c_152</th>\n",
       "      <td>chr1</td>\n",
       "      <td>3909910</td>\n",
       "      <td>3909910</td>\n",
       "    </tr>\n",
       "    <tr>\n",
       "      <th>DGm3c_153</th>\n",
       "      <td>chr1</td>\n",
       "      <td>3910302</td>\n",
       "      <td>3910302</td>\n",
       "    </tr>\n",
       "    <tr>\n",
       "      <th>DGm3c_188</th>\n",
       "      <td>chr1</td>\n",
       "      <td>4187338</td>\n",
       "      <td>4187338</td>\n",
       "    </tr>\n",
       "    <tr>\n",
       "      <th>DGm3c_201</th>\n",
       "      <td>chr1</td>\n",
       "      <td>4330477</td>\n",
       "      <td>4330503</td>\n",
       "    </tr>\n",
       "  </tbody>\n",
       "</table>\n",
       "</div>"
      ],
      "text/plain": [
       "              0        1        2\n",
       "3                                \n",
       "DGm3c_124  chr1  3716698  3716782\n",
       "DGm3c_152  chr1  3909910  3909910\n",
       "DGm3c_153  chr1  3910302  3910302\n",
       "DGm3c_188  chr1  4187338  4187338\n",
       "DGm3c_201  chr1  4330477  4330503"
      ]
     },
     "execution_count": 5,
     "metadata": {},
     "output_type": "execute_result"
    }
   ],
   "source": [
    "dmr_bed_df = pd.read_csv(dmr_hits_path, sep='\\t', header=None, index_col=3)\n",
    "dmr_bed_df.head()"
   ]
  },
  {
   "cell_type": "code",
   "execution_count": 6,
   "metadata": {
    "ExecuteTime": {
     "end_time": "2020-01-17T04:52:09.104665Z",
     "start_time": "2020-01-17T04:52:06.635668Z"
    },
    "papermill": {
     "duration": 2.155922,
     "end_time": "2020-01-14T06:46:02.354385",
     "exception": false,
     "start_time": "2020-01-14T06:46:00.198463",
     "status": "completed"
    },
    "tags": []
   },
   "outputs": [
    {
     "data": {
      "text/plain": [
       "AnnData object with n_obs × n_vars = 29877 × 719 \n",
       "    obs: 'chrom', 'start', 'end'"
      ]
     },
     "execution_count": 6,
     "metadata": {},
     "output_type": "execute_result"
    }
   ],
   "source": [
    "motif_hits = anndata.read_h5ad(motif_hits_path)\n",
    "motif_hits = motif_hits[dmr_bed_df.index, :].copy()\n",
    "motif_ids = motif_hits.var_names\n",
    "motif_hits.X = motif_hits.X.todense()\n",
    "motif_hits"
   ]
  },
  {
   "cell_type": "code",
   "execution_count": 7,
   "metadata": {
    "ExecuteTime": {
     "end_time": "2020-01-17T04:52:09.539791Z",
     "start_time": "2020-01-17T04:52:09.105990Z"
    },
    "papermill": {
     "duration": 0.677187,
     "end_time": "2020-01-14T06:46:03.041870",
     "exception": false,
     "start_time": "2020-01-14T06:46:02.364683",
     "status": "completed"
    },
    "tags": []
   },
   "outputs": [],
   "source": [
    "# mask small motif scores\n",
    "motif_cutoff = pd.Series(np.apply_along_axis(lambda i: np.quantile(i[i>0], 0.99) * mask_quantile_to99, \n",
    "                                             0, motif_hits.X),\n",
    "                         index=motif_hits.var_names)\n",
    "# only keep value larger than the cutoff for each motif\n",
    "motif_hits.X = np.multiply(motif_hits.X, (motif_hits.X > motif_cutoff.values[None, :]))"
   ]
  },
  {
   "cell_type": "markdown",
   "metadata": {
    "papermill": {
     "duration": 0.009703,
     "end_time": "2020-01-14T06:46:03.062377",
     "exception": false,
     "start_time": "2020-01-14T06:46:03.052674",
     "status": "completed"
    },
    "tags": []
   },
   "source": [
    "## Background Hits"
   ]
  },
  {
   "cell_type": "code",
   "execution_count": 8,
   "metadata": {
    "ExecuteTime": {
     "end_time": "2020-01-17T04:52:11.311620Z",
     "start_time": "2020-01-17T04:52:09.541803Z"
    },
    "papermill": {
     "duration": 1.136519,
     "end_time": "2020-01-14T06:46:04.208402",
     "exception": false,
     "start_time": "2020-01-14T06:46:03.071883",
     "status": "completed"
    },
    "tags": []
   },
   "outputs": [],
   "source": [
    "background_motif_hits = anndata.read_h5ad(\n",
    "    '/home/hanliu/project/mouse_rostral_brain/DMR/BackgroundDMR/MotifScan.h5ad'\n",
    ")"
   ]
  },
  {
   "cell_type": "code",
   "execution_count": 9,
   "metadata": {
    "ExecuteTime": {
     "end_time": "2020-01-17T04:52:12.450102Z",
     "start_time": "2020-01-17T04:52:11.313176Z"
    },
    "papermill": {
     "duration": 1.087433,
     "end_time": "2020-01-14T06:46:05.306413",
     "exception": false,
     "start_time": "2020-01-14T06:46:04.218980",
     "status": "completed"
    },
    "tags": []
   },
   "outputs": [],
   "source": [
    "dmr_bed = pybedtools.BedTool().from_dataframe(dmr_bed_df)\n",
    "bg_bed = pybedtools.BedTool().from_dataframe(\n",
    "    background_motif_hits.obs.reset_index().iloc[:, [1, 2, 3, 0]])"
   ]
  },
  {
   "cell_type": "code",
   "execution_count": 10,
   "metadata": {
    "ExecuteTime": {
     "end_time": "2020-01-17T04:52:14.191981Z",
     "start_time": "2020-01-17T04:52:12.451648Z"
    },
    "papermill": {
     "duration": 1.531658,
     "end_time": "2020-01-14T06:46:06.848628",
     "exception": false,
     "start_time": "2020-01-14T06:46:05.316970",
     "status": "completed"
    },
    "tags": []
   },
   "outputs": [],
   "source": [
    "# exclude background that overlap with DMR\n",
    "bg_no_overlap = bg_bed.intersect(dmr_bed, v=True)\n",
    "use_bg = bg_no_overlap.to_dataframe().iloc[:, -1].values\n",
    "background_motif_hits = background_motif_hits[use_bg, :]\n",
    "\n",
    "# make sure col in same order\n",
    "background_motif_hits = background_motif_hits[:, motif_ids].copy()"
   ]
  },
  {
   "cell_type": "code",
   "execution_count": 11,
   "metadata": {
    "ExecuteTime": {
     "end_time": "2020-01-17T04:52:16.836034Z",
     "start_time": "2020-01-17T04:52:14.194355Z"
    },
    "papermill": {
     "duration": 2.17191,
     "end_time": "2020-01-14T06:46:09.031002",
     "exception": false,
     "start_time": "2020-01-14T06:46:06.859092",
     "status": "completed"
    },
    "tags": []
   },
   "outputs": [],
   "source": [
    "judge_matrix = csr_matrix(background_motif_hits.X > motif_cutoff.values[None, :])\n",
    "background_motif_hits.X = background_motif_hits.X.multiply(judge_matrix)"
   ]
  },
  {
   "cell_type": "code",
   "execution_count": 12,
   "metadata": {
    "ExecuteTime": {
     "end_time": "2020-01-17T04:52:16.841548Z",
     "start_time": "2020-01-17T04:52:16.837808Z"
    },
    "papermill": {
     "duration": 0.016821,
     "end_time": "2020-01-14T06:46:09.058667",
     "exception": false,
     "start_time": "2020-01-14T06:46:09.041846",
     "status": "completed"
    },
    "tags": []
   },
   "outputs": [
    {
     "data": {
      "text/plain": [
       "AnnData object with n_obs × n_vars = 341512 × 719 \n",
       "    obs: 'chrom', 'start', 'end'"
      ]
     },
     "execution_count": 12,
     "metadata": {},
     "output_type": "execute_result"
    }
   ],
   "source": [
    "background_motif_hits"
   ]
  },
  {
   "cell_type": "markdown",
   "metadata": {
    "papermill": {
     "duration": 0.009435,
     "end_time": "2020-01-14T06:46:09.077668",
     "exception": false,
     "start_time": "2020-01-14T06:46:09.068233",
     "status": "completed"
    },
    "tags": []
   },
   "source": [
    "## Motif hits contingency table"
   ]
  },
  {
   "cell_type": "code",
   "execution_count": 13,
   "metadata": {
    "ExecuteTime": {
     "end_time": "2020-01-17T04:52:17.208682Z",
     "start_time": "2020-01-17T04:52:16.842899Z"
    },
    "papermill": {
     "duration": 0.220825,
     "end_time": "2020-01-14T06:46:09.308103",
     "exception": false,
     "start_time": "2020-01-14T06:46:09.087278",
     "status": "completed"
    },
    "tags": []
   },
   "outputs": [],
   "source": [
    "# calculate motif occurence, not considering hits here\n",
    "pos = (motif_hits.X > 0).sum(axis=0)\n",
    "pos_total = motif_hits.shape[0]\n",
    "\n",
    "neg = (background_motif_hits.X > 0).sum(axis=0)\n",
    "neg_total = background_motif_hits.shape[0]"
   ]
  },
  {
   "cell_type": "code",
   "execution_count": 14,
   "metadata": {
    "ExecuteTime": {
     "end_time": "2020-01-17T04:52:17.215323Z",
     "start_time": "2020-01-17T04:52:17.210447Z"
    },
    "papermill": {
     "duration": 0.061926,
     "end_time": "2020-01-14T06:46:09.380477",
     "exception": false,
     "start_time": "2020-01-14T06:46:09.318551",
     "status": "completed"
    },
    "scrolled": true,
    "tags": []
   },
   "outputs": [],
   "source": [
    "tables = {}\n",
    "for motif, _pos, _neg in zip(motif_ids, pos.A1, neg.A1):\n",
    "    table = [[_pos, pos_total - _pos], [_neg, neg_total - _neg]]\n",
    "    tables[motif] = table"
   ]
  },
  {
   "cell_type": "code",
   "execution_count": 15,
   "metadata": {
    "ExecuteTime": {
     "end_time": "2020-01-17T04:52:17.727205Z",
     "start_time": "2020-01-17T04:52:17.216769Z"
    },
    "papermill": {
     "duration": 0.834025,
     "end_time": "2020-01-14T06:46:10.224131",
     "exception": false,
     "start_time": "2020-01-14T06:46:09.390106",
     "status": "completed"
    },
    "tags": []
   },
   "outputs": [],
   "source": [
    "results = {}\n",
    "with ProcessPoolExecutor(20) as executor:\n",
    "    fs = {}\n",
    "    for motif, t in tables.items():\n",
    "        f = executor.submit(stats.fisher_exact, t, alternative='greater')\n",
    "        fs[f] = motif\n",
    "\n",
    "    for f in as_completed(fs):\n",
    "        motif = fs[f]\n",
    "        odds, p = f.result()\n",
    "        results[motif] = {'oddsratio': odds, 'p_value': p}\n",
    "motif_enrich_df = pd.DataFrame(results).T\n",
    "\n",
    "_, p, _, _ = multipletests(motif_enrich_df['p_value'], method='fdr_bh')\n",
    "motif_enrich_df['adj_p'] = p\n",
    "\n",
    "motif_enrich_df['-lgp'] = -np.log10(motif_enrich_df['adj_p']).replace(\n",
    "    -np.inf, -300)\n",
    "\n",
    "records = {}\n",
    "for motif, t in tables.items():\n",
    "    tp, tn = t[0]\n",
    "    fp, fn = t[1]\n",
    "    tp_rate = tp / pos_total\n",
    "    fp_rate = fp / neg_total\n",
    "    records[motif] = dict(tp=tp,\n",
    "                          tn=tn,\n",
    "                          fp=fp,\n",
    "                          fn=fn,\n",
    "                          tp_rate=tp_rate,\n",
    "                          fp_rate=fp_rate)\n",
    "counts = pd.DataFrame(records).T\n",
    "motif_enrich_df = pd.concat([motif_enrich_df, counts], axis=1, sort=True)"
   ]
  },
  {
   "cell_type": "code",
   "execution_count": 16,
   "metadata": {
    "ExecuteTime": {
     "end_time": "2020-01-17T04:52:17.732723Z",
     "start_time": "2020-01-17T04:52:17.729861Z"
    },
    "papermill": {
     "duration": 0.015774,
     "end_time": "2020-01-14T06:46:10.250963",
     "exception": false,
     "start_time": "2020-01-14T06:46:10.235189",
     "status": "completed"
    },
    "tags": []
   },
   "outputs": [],
   "source": [
    "motif_enrich_df['Group'] = group"
   ]
  },
  {
   "cell_type": "code",
   "execution_count": 17,
   "metadata": {
    "ExecuteTime": {
     "end_time": "2020-01-17T04:52:17.739719Z",
     "start_time": "2020-01-17T04:52:17.734220Z"
    },
    "papermill": {
     "duration": 0.017776,
     "end_time": "2020-01-14T06:46:10.278649",
     "exception": false,
     "start_time": "2020-01-14T06:46:10.260873",
     "status": "completed"
    },
    "tags": []
   },
   "outputs": [
    {
     "data": {
      "text/plain": [
       "24"
      ]
     },
     "execution_count": 17,
     "metadata": {},
     "output_type": "execute_result"
    }
   ],
   "source": [
    "# final filter\n",
    "filtered_motif_df = motif_enrich_df[(motif_enrich_df['oddsratio'] > or_cutoff)\n",
    "                                    &\n",
    "                                    (motif_enrich_df['-lgp'] > neg_lgp_cutoff)]\n",
    "filtered_motif_df.shape[0]"
   ]
  },
  {
   "cell_type": "code",
   "execution_count": 18,
   "metadata": {
    "ExecuteTime": {
     "end_time": "2020-01-17T04:52:17.756610Z",
     "start_time": "2020-01-17T04:52:17.740924Z"
    },
    "papermill": {
     "duration": 0.016997,
     "end_time": "2020-01-14T06:46:10.305758",
     "exception": false,
     "start_time": "2020-01-14T06:46:10.288761",
     "status": "completed"
    },
    "tags": []
   },
   "outputs": [
    {
     "name": "stderr",
     "output_type": "stream",
     "text": [
      "/home/hanliu/miniconda3/envs/clustering/lib/python3.7/site-packages/ipykernel_launcher.py:1: FutureWarning: to_msgpack is deprecated and will be removed in a future version.\n",
      "It is recommended to use pyarrow for on-the-wire transmission of pandas objects.\n",
      "  \"\"\"Entry point for launching an IPython kernel.\n"
     ]
    }
   ],
   "source": [
    "motif_enrich_df.to_msgpack(output_dir / f'{group}.motif_enrichment.msg')"
   ]
  },
  {
   "cell_type": "code",
   "execution_count": 19,
   "metadata": {
    "ExecuteTime": {
     "end_time": "2020-01-17T04:52:17.765527Z",
     "start_time": "2020-01-17T04:52:17.757941Z"
    },
    "papermill": {
     "duration": 0.02097,
     "end_time": "2020-01-14T06:46:10.337114",
     "exception": false,
     "start_time": "2020-01-14T06:46:10.316144",
     "status": "completed"
    },
    "tags": []
   },
   "outputs": [],
   "source": [
    "pybedtools.cleanup()"
   ]
  },
  {
   "cell_type": "code",
   "execution_count": 20,
   "metadata": {
    "ExecuteTime": {
     "end_time": "2020-01-17T04:52:17.783210Z",
     "start_time": "2020-01-17T04:52:17.766818Z"
    },
    "papermill": {
     "duration": 0.030004,
     "end_time": "2020-01-14T06:46:10.378059",
     "exception": false,
     "start_time": "2020-01-14T06:46:10.348055",
     "status": "completed"
    },
    "tags": []
   },
   "outputs": [
    {
     "data": {
      "text/html": [
       "<div>\n",
       "<style scoped>\n",
       "    .dataframe tbody tr th:only-of-type {\n",
       "        vertical-align: middle;\n",
       "    }\n",
       "\n",
       "    .dataframe tbody tr th {\n",
       "        vertical-align: top;\n",
       "    }\n",
       "\n",
       "    .dataframe thead th {\n",
       "        text-align: right;\n",
       "    }\n",
       "</style>\n",
       "<table border=\"1\" class=\"dataframe\">\n",
       "  <thead>\n",
       "    <tr style=\"text-align: right;\">\n",
       "      <th></th>\n",
       "      <th>oddsratio</th>\n",
       "      <th>p_value</th>\n",
       "      <th>adj_p</th>\n",
       "      <th>-lgp</th>\n",
       "      <th>tp</th>\n",
       "      <th>tn</th>\n",
       "      <th>fp</th>\n",
       "      <th>fn</th>\n",
       "      <th>tp_rate</th>\n",
       "      <th>fp_rate</th>\n",
       "      <th>Group</th>\n",
       "    </tr>\n",
       "  </thead>\n",
       "  <tbody>\n",
       "    <tr>\n",
       "      <th>MA0025.2</th>\n",
       "      <td>1.881150</td>\n",
       "      <td>1.084278e-28</td>\n",
       "      <td>3.897981e-27</td>\n",
       "      <td>26.409160</td>\n",
       "      <td>420.0</td>\n",
       "      <td>29457.0</td>\n",
       "      <td>2569.0</td>\n",
       "      <td>338943.0</td>\n",
       "      <td>0.014058</td>\n",
       "      <td>0.007522</td>\n",
       "      <td>IT-L5+ACA</td>\n",
       "    </tr>\n",
       "    <tr>\n",
       "      <th>MA0461.2</th>\n",
       "      <td>2.307154</td>\n",
       "      <td>1.951403e-64</td>\n",
       "      <td>2.806117e-62</td>\n",
       "      <td>61.551894</td>\n",
       "      <td>602.0</td>\n",
       "      <td>29275.0</td>\n",
       "      <td>3017.0</td>\n",
       "      <td>338495.0</td>\n",
       "      <td>0.020149</td>\n",
       "      <td>0.008834</td>\n",
       "      <td>IT-L5+ACA</td>\n",
       "    </tr>\n",
       "    <tr>\n",
       "      <th>MA0507.1</th>\n",
       "      <td>1.729759</td>\n",
       "      <td>3.651330e-25</td>\n",
       "      <td>1.050123e-23</td>\n",
       "      <td>22.978760</td>\n",
       "      <td>472.0</td>\n",
       "      <td>29405.0</td>\n",
       "      <td>3140.0</td>\n",
       "      <td>338372.0</td>\n",
       "      <td>0.015798</td>\n",
       "      <td>0.009194</td>\n",
       "      <td>IT-L5+ACA</td>\n",
       "    </tr>\n",
       "    <tr>\n",
       "      <th>MA0607.1</th>\n",
       "      <td>1.981936</td>\n",
       "      <td>4.446985e-144</td>\n",
       "      <td>3.197382e-141</td>\n",
       "      <td>140.495205</td>\n",
       "      <td>2009.0</td>\n",
       "      <td>27868.0</td>\n",
       "      <td>11986.0</td>\n",
       "      <td>329526.0</td>\n",
       "      <td>0.067242</td>\n",
       "      <td>0.035097</td>\n",
       "      <td>IT-L5+ACA</td>\n",
       "    </tr>\n",
       "    <tr>\n",
       "      <th>MA0623.2</th>\n",
       "      <td>2.198695</td>\n",
       "      <td>6.628016e-46</td>\n",
       "      <td>3.403960e-44</td>\n",
       "      <td>43.468016</td>\n",
       "      <td>468.0</td>\n",
       "      <td>29409.0</td>\n",
       "      <td>2454.0</td>\n",
       "      <td>339058.0</td>\n",
       "      <td>0.015664</td>\n",
       "      <td>0.007186</td>\n",
       "      <td>IT-L5+ACA</td>\n",
       "    </tr>\n",
       "    <tr>\n",
       "      <th>MA0633.1</th>\n",
       "      <td>2.168848</td>\n",
       "      <td>2.082737e-60</td>\n",
       "      <td>2.495813e-58</td>\n",
       "      <td>57.602788</td>\n",
       "      <td>644.0</td>\n",
       "      <td>29233.0</td>\n",
       "      <td>3434.0</td>\n",
       "      <td>338078.0</td>\n",
       "      <td>0.021555</td>\n",
       "      <td>0.010055</td>\n",
       "      <td>IT-L5+ACA</td>\n",
       "    </tr>\n",
       "    <tr>\n",
       "      <th>MA0639.1</th>\n",
       "      <td>2.096804</td>\n",
       "      <td>1.294645e-26</td>\n",
       "      <td>4.047172e-25</td>\n",
       "      <td>24.392848</td>\n",
       "      <td>292.0</td>\n",
       "      <td>29585.0</td>\n",
       "      <td>1600.0</td>\n",
       "      <td>339912.0</td>\n",
       "      <td>0.009773</td>\n",
       "      <td>0.004685</td>\n",
       "      <td>IT-L5+ACA</td>\n",
       "    </tr>\n",
       "    <tr>\n",
       "      <th>MA0668.1</th>\n",
       "      <td>2.565686</td>\n",
       "      <td>6.261193e-52</td>\n",
       "      <td>5.627247e-50</td>\n",
       "      <td>49.249704</td>\n",
       "      <td>391.0</td>\n",
       "      <td>29486.0</td>\n",
       "      <td>1756.0</td>\n",
       "      <td>339756.0</td>\n",
       "      <td>0.013087</td>\n",
       "      <td>0.005142</td>\n",
       "      <td>IT-L5+ACA</td>\n",
       "    </tr>\n",
       "    <tr>\n",
       "      <th>MA0669.1</th>\n",
       "      <td>1.816916</td>\n",
       "      <td>5.563727e-15</td>\n",
       "      <td>9.524570e-14</td>\n",
       "      <td>13.021155</td>\n",
       "      <td>227.0</td>\n",
       "      <td>29650.0</td>\n",
       "      <td>1433.0</td>\n",
       "      <td>340079.0</td>\n",
       "      <td>0.007598</td>\n",
       "      <td>0.004196</td>\n",
       "      <td>IT-L5+ACA</td>\n",
       "    </tr>\n",
       "    <tr>\n",
       "      <th>MA0678.1</th>\n",
       "      <td>3.018496</td>\n",
       "      <td>1.118780e-47</td>\n",
       "      <td>8.044025e-46</td>\n",
       "      <td>45.094527</td>\n",
       "      <td>274.0</td>\n",
       "      <td>29603.0</td>\n",
       "      <td>1044.0</td>\n",
       "      <td>340468.0</td>\n",
       "      <td>0.009171</td>\n",
       "      <td>0.003057</td>\n",
       "      <td>IT-L5+ACA</td>\n",
       "    </tr>\n",
       "    <tr>\n",
       "      <th>MA0688.1</th>\n",
       "      <td>1.781557</td>\n",
       "      <td>1.158282e-21</td>\n",
       "      <td>2.523651e-20</td>\n",
       "      <td>19.597971</td>\n",
       "      <td>364.0</td>\n",
       "      <td>29513.0</td>\n",
       "      <td>2348.0</td>\n",
       "      <td>339164.0</td>\n",
       "      <td>0.012183</td>\n",
       "      <td>0.006875</td>\n",
       "      <td>IT-L5+ACA</td>\n",
       "    </tr>\n",
       "    <tr>\n",
       "      <th>MA0689.1</th>\n",
       "      <td>1.907807</td>\n",
       "      <td>3.258273e-12</td>\n",
       "      <td>4.984464e-11</td>\n",
       "      <td>10.302381</td>\n",
       "      <td>156.0</td>\n",
       "      <td>29721.0</td>\n",
       "      <td>937.0</td>\n",
       "      <td>340575.0</td>\n",
       "      <td>0.005221</td>\n",
       "      <td>0.002744</td>\n",
       "      <td>IT-L5+ACA</td>\n",
       "    </tr>\n",
       "    <tr>\n",
       "      <th>MA0690.1</th>\n",
       "      <td>1.930903</td>\n",
       "      <td>5.320062e-17</td>\n",
       "      <td>9.808012e-16</td>\n",
       "      <td>15.008419</td>\n",
       "      <td>220.0</td>\n",
       "      <td>29657.0</td>\n",
       "      <td>1307.0</td>\n",
       "      <td>340205.0</td>\n",
       "      <td>0.007364</td>\n",
       "      <td>0.003827</td>\n",
       "      <td>IT-L5+ACA</td>\n",
       "    </tr>\n",
       "    <tr>\n",
       "      <th>MA0800.1</th>\n",
       "      <td>2.004697</td>\n",
       "      <td>6.516548e-22</td>\n",
       "      <td>1.464187e-20</td>\n",
       "      <td>19.834404</td>\n",
       "      <td>264.0</td>\n",
       "      <td>29613.0</td>\n",
       "      <td>1512.0</td>\n",
       "      <td>340000.0</td>\n",
       "      <td>0.008836</td>\n",
       "      <td>0.004427</td>\n",
       "      <td>IT-L5+ACA</td>\n",
       "    </tr>\n",
       "    <tr>\n",
       "      <th>MA0802.1</th>\n",
       "      <td>1.883970</td>\n",
       "      <td>1.747045e-17</td>\n",
       "      <td>3.305592e-16</td>\n",
       "      <td>15.480751</td>\n",
       "      <td>243.0</td>\n",
       "      <td>29634.0</td>\n",
       "      <td>1480.0</td>\n",
       "      <td>340032.0</td>\n",
       "      <td>0.008133</td>\n",
       "      <td>0.004334</td>\n",
       "      <td>IT-L5+ACA</td>\n",
       "    </tr>\n",
       "    <tr>\n",
       "      <th>MA0817.1</th>\n",
       "      <td>2.540853</td>\n",
       "      <td>1.338943e-25</td>\n",
       "      <td>4.011249e-24</td>\n",
       "      <td>23.396720</td>\n",
       "      <td>188.0</td>\n",
       "      <td>29689.0</td>\n",
       "      <td>849.0</td>\n",
       "      <td>340663.0</td>\n",
       "      <td>0.006292</td>\n",
       "      <td>0.002486</td>\n",
       "      <td>IT-L5+ACA</td>\n",
       "    </tr>\n",
       "    <tr>\n",
       "      <th>MA0818.1</th>\n",
       "      <td>2.481765</td>\n",
       "      <td>1.645016e-70</td>\n",
       "      <td>3.942555e-68</td>\n",
       "      <td>67.404222</td>\n",
       "      <td>572.0</td>\n",
       "      <td>29305.0</td>\n",
       "      <td>2665.0</td>\n",
       "      <td>338847.0</td>\n",
       "      <td>0.019145</td>\n",
       "      <td>0.007804</td>\n",
       "      <td>IT-L5+ACA</td>\n",
       "    </tr>\n",
       "    <tr>\n",
       "      <th>MA0826.1</th>\n",
       "      <td>2.963578</td>\n",
       "      <td>6.370722e-47</td>\n",
       "      <td>3.817124e-45</td>\n",
       "      <td>44.418264</td>\n",
       "      <td>277.0</td>\n",
       "      <td>29600.0</td>\n",
       "      <td>1075.0</td>\n",
       "      <td>340437.0</td>\n",
       "      <td>0.009271</td>\n",
       "      <td>0.003148</td>\n",
       "      <td>IT-L5+ACA</td>\n",
       "    </tr>\n",
       "    <tr>\n",
       "      <th>MA0827.1</th>\n",
       "      <td>2.646055</td>\n",
       "      <td>3.962123e-57</td>\n",
       "      <td>4.069667e-55</td>\n",
       "      <td>54.390441</td>\n",
       "      <td>409.0</td>\n",
       "      <td>29468.0</td>\n",
       "      <td>1782.0</td>\n",
       "      <td>339730.0</td>\n",
       "      <td>0.013689</td>\n",
       "      <td>0.005218</td>\n",
       "      <td>IT-L5+ACA</td>\n",
       "    </tr>\n",
       "    <tr>\n",
       "      <th>MA0843.1</th>\n",
       "      <td>2.027876</td>\n",
       "      <td>1.989348e-14</td>\n",
       "      <td>3.326375e-13</td>\n",
       "      <td>12.478029</td>\n",
       "      <td>161.0</td>\n",
       "      <td>29716.0</td>\n",
       "      <td>910.0</td>\n",
       "      <td>340602.0</td>\n",
       "      <td>0.005389</td>\n",
       "      <td>0.002665</td>\n",
       "      <td>IT-L5+ACA</td>\n",
       "    </tr>\n",
       "    <tr>\n",
       "      <th>MA1109.1</th>\n",
       "      <td>1.527703</td>\n",
       "      <td>8.571991e-28</td>\n",
       "      <td>2.934886e-26</td>\n",
       "      <td>25.532409</td>\n",
       "      <td>850.0</td>\n",
       "      <td>29027.0</td>\n",
       "      <td>6423.0</td>\n",
       "      <td>335089.0</td>\n",
       "      <td>0.028450</td>\n",
       "      <td>0.018808</td>\n",
       "      <td>IT-L5+ACA</td>\n",
       "    </tr>\n",
       "    <tr>\n",
       "      <th>MA1468.1</th>\n",
       "      <td>2.382653</td>\n",
       "      <td>3.675038e-70</td>\n",
       "      <td>6.605881e-68</td>\n",
       "      <td>67.180069</td>\n",
       "      <td>616.0</td>\n",
       "      <td>29261.0</td>\n",
       "      <td>2991.0</td>\n",
       "      <td>338521.0</td>\n",
       "      <td>0.020618</td>\n",
       "      <td>0.008758</td>\n",
       "      <td>IT-L5+ACA</td>\n",
       "    </tr>\n",
       "    <tr>\n",
       "      <th>MA1568.1</th>\n",
       "      <td>3.121192</td>\n",
       "      <td>9.506669e-32</td>\n",
       "      <td>4.272059e-30</td>\n",
       "      <td>29.369363</td>\n",
       "      <td>170.0</td>\n",
       "      <td>29707.0</td>\n",
       "      <td>625.0</td>\n",
       "      <td>340887.0</td>\n",
       "      <td>0.005690</td>\n",
       "      <td>0.001830</td>\n",
       "      <td>IT-L5+ACA</td>\n",
       "    </tr>\n",
       "    <tr>\n",
       "      <th>MA1642.1</th>\n",
       "      <td>1.536977</td>\n",
       "      <td>4.388904e-47</td>\n",
       "      <td>2.868747e-45</td>\n",
       "      <td>44.542308</td>\n",
       "      <td>1469.0</td>\n",
       "      <td>28408.0</td>\n",
       "      <td>11116.0</td>\n",
       "      <td>330396.0</td>\n",
       "      <td>0.049168</td>\n",
       "      <td>0.032549</td>\n",
       "      <td>IT-L5+ACA</td>\n",
       "    </tr>\n",
       "  </tbody>\n",
       "</table>\n",
       "</div>"
      ],
      "text/plain": [
       "          oddsratio        p_value          adj_p        -lgp      tp  \\\n",
       "MA0025.2   1.881150   1.084278e-28   3.897981e-27   26.409160   420.0   \n",
       "MA0461.2   2.307154   1.951403e-64   2.806117e-62   61.551894   602.0   \n",
       "MA0507.1   1.729759   3.651330e-25   1.050123e-23   22.978760   472.0   \n",
       "MA0607.1   1.981936  4.446985e-144  3.197382e-141  140.495205  2009.0   \n",
       "MA0623.2   2.198695   6.628016e-46   3.403960e-44   43.468016   468.0   \n",
       "MA0633.1   2.168848   2.082737e-60   2.495813e-58   57.602788   644.0   \n",
       "MA0639.1   2.096804   1.294645e-26   4.047172e-25   24.392848   292.0   \n",
       "MA0668.1   2.565686   6.261193e-52   5.627247e-50   49.249704   391.0   \n",
       "MA0669.1   1.816916   5.563727e-15   9.524570e-14   13.021155   227.0   \n",
       "MA0678.1   3.018496   1.118780e-47   8.044025e-46   45.094527   274.0   \n",
       "MA0688.1   1.781557   1.158282e-21   2.523651e-20   19.597971   364.0   \n",
       "MA0689.1   1.907807   3.258273e-12   4.984464e-11   10.302381   156.0   \n",
       "MA0690.1   1.930903   5.320062e-17   9.808012e-16   15.008419   220.0   \n",
       "MA0800.1   2.004697   6.516548e-22   1.464187e-20   19.834404   264.0   \n",
       "MA0802.1   1.883970   1.747045e-17   3.305592e-16   15.480751   243.0   \n",
       "MA0817.1   2.540853   1.338943e-25   4.011249e-24   23.396720   188.0   \n",
       "MA0818.1   2.481765   1.645016e-70   3.942555e-68   67.404222   572.0   \n",
       "MA0826.1   2.963578   6.370722e-47   3.817124e-45   44.418264   277.0   \n",
       "MA0827.1   2.646055   3.962123e-57   4.069667e-55   54.390441   409.0   \n",
       "MA0843.1   2.027876   1.989348e-14   3.326375e-13   12.478029   161.0   \n",
       "MA1109.1   1.527703   8.571991e-28   2.934886e-26   25.532409   850.0   \n",
       "MA1468.1   2.382653   3.675038e-70   6.605881e-68   67.180069   616.0   \n",
       "MA1568.1   3.121192   9.506669e-32   4.272059e-30   29.369363   170.0   \n",
       "MA1642.1   1.536977   4.388904e-47   2.868747e-45   44.542308  1469.0   \n",
       "\n",
       "               tn       fp        fn   tp_rate   fp_rate      Group  \n",
       "MA0025.2  29457.0   2569.0  338943.0  0.014058  0.007522  IT-L5+ACA  \n",
       "MA0461.2  29275.0   3017.0  338495.0  0.020149  0.008834  IT-L5+ACA  \n",
       "MA0507.1  29405.0   3140.0  338372.0  0.015798  0.009194  IT-L5+ACA  \n",
       "MA0607.1  27868.0  11986.0  329526.0  0.067242  0.035097  IT-L5+ACA  \n",
       "MA0623.2  29409.0   2454.0  339058.0  0.015664  0.007186  IT-L5+ACA  \n",
       "MA0633.1  29233.0   3434.0  338078.0  0.021555  0.010055  IT-L5+ACA  \n",
       "MA0639.1  29585.0   1600.0  339912.0  0.009773  0.004685  IT-L5+ACA  \n",
       "MA0668.1  29486.0   1756.0  339756.0  0.013087  0.005142  IT-L5+ACA  \n",
       "MA0669.1  29650.0   1433.0  340079.0  0.007598  0.004196  IT-L5+ACA  \n",
       "MA0678.1  29603.0   1044.0  340468.0  0.009171  0.003057  IT-L5+ACA  \n",
       "MA0688.1  29513.0   2348.0  339164.0  0.012183  0.006875  IT-L5+ACA  \n",
       "MA0689.1  29721.0    937.0  340575.0  0.005221  0.002744  IT-L5+ACA  \n",
       "MA0690.1  29657.0   1307.0  340205.0  0.007364  0.003827  IT-L5+ACA  \n",
       "MA0800.1  29613.0   1512.0  340000.0  0.008836  0.004427  IT-L5+ACA  \n",
       "MA0802.1  29634.0   1480.0  340032.0  0.008133  0.004334  IT-L5+ACA  \n",
       "MA0817.1  29689.0    849.0  340663.0  0.006292  0.002486  IT-L5+ACA  \n",
       "MA0818.1  29305.0   2665.0  338847.0  0.019145  0.007804  IT-L5+ACA  \n",
       "MA0826.1  29600.0   1075.0  340437.0  0.009271  0.003148  IT-L5+ACA  \n",
       "MA0827.1  29468.0   1782.0  339730.0  0.013689  0.005218  IT-L5+ACA  \n",
       "MA0843.1  29716.0    910.0  340602.0  0.005389  0.002665  IT-L5+ACA  \n",
       "MA1109.1  29027.0   6423.0  335089.0  0.028450  0.018808  IT-L5+ACA  \n",
       "MA1468.1  29261.0   2991.0  338521.0  0.020618  0.008758  IT-L5+ACA  \n",
       "MA1568.1  29707.0    625.0  340887.0  0.005690  0.001830  IT-L5+ACA  \n",
       "MA1642.1  28408.0  11116.0  330396.0  0.049168  0.032549  IT-L5+ACA  "
      ]
     },
     "execution_count": 20,
     "metadata": {},
     "output_type": "execute_result"
    }
   ],
   "source": [
    "filtered_motif_df"
   ]
  },
  {
   "cell_type": "code",
   "execution_count": null,
   "metadata": {
    "papermill": {
     "duration": 0.010441,
     "end_time": "2020-01-14T06:46:10.399053",
     "exception": false,
     "start_time": "2020-01-14T06:46:10.388612",
     "status": "completed"
    },
    "tags": []
   },
   "outputs": [],
   "source": []
  }
 ],
 "metadata": {
  "hide_input": false,
  "kernelspec": {
   "display_name": "Python 3",
   "language": "python",
   "name": "python3"
  },
  "language_info": {
   "codemirror_mode": {
    "name": "ipython",
    "version": 3
   },
   "file_extension": ".py",
   "mimetype": "text/x-python",
   "name": "python",
   "nbconvert_exporter": "python",
   "pygments_lexer": "ipython3",
   "version": "3.7.3"
  },
  "papermill": {
   "duration": 12.402071,
   "end_time": "2020-01-14T06:46:10.816102",
   "environment_variables": {},
   "exception": null,
   "input_path": "4.MotifEnrichment.ipynb",
   "output_path": "/home/hanliu/project/mouse_rostral_brain/DMR/ITSpatial_by_layer/IT-L6/Recipe/4.MotifEnrichment.IT-L5+ACA.ipynb",
   "parameters": {
    "dmr_hits_path": "/home/hanliu/project/mouse_rostral_brain/DMR/ITSpatial_by_layer/IT-L5/HypoDMR/IT-L5+ACA.DMS1.bed",
    "group": "IT-L5+ACA",
    "mask_quantile_to99": 0.9,
    "motif_hits_path": "/home/hanliu/project/mouse_rostral_brain/DMR/ITSpatial_by_layer/IT-L5/MotifScan.h5ad",
    "neg_lgp_cutoff": 10,
    "or_cutoff": 1.5,
    "output_dir": "/home/hanliu/project/mouse_rostral_brain/DMR/ITSpatial_by_layer/IT-L5/MotifEnrichment"
   },
   "start_time": "2020-01-14T06:45:58.414031",
   "version": "1.0.1"
  },
  "toc": {
   "base_numbering": 1,
   "nav_menu": {},
   "number_sections": true,
   "sideBar": true,
   "skip_h1_title": true,
   "title_cell": "Table of Contents",
   "title_sidebar": "Contents",
   "toc_cell": false,
   "toc_position": {},
   "toc_section_display": true,
   "toc_window_display": true
  }
 },
 "nbformat": 4,
 "nbformat_minor": 2
}
