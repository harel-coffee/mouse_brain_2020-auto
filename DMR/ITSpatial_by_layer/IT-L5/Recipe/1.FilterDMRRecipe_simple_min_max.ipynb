{
 "cells": [
  {
   "cell_type": "code",
   "execution_count": 1,
   "metadata": {
    "ExecuteTime": {
     "end_time": "2020-01-17T04:51:41.863004Z",
     "start_time": "2020-01-17T04:51:41.390199Z"
    },
    "papermill": {
     "duration": 0.458809,
     "end_time": "2020-01-12T04:28:36.643243",
     "exception": false,
     "start_time": "2020-01-12T04:28:36.184434",
     "status": "completed"
    },
    "tags": []
   },
   "outputs": [],
   "source": [
    "import pathlib\n",
    "import numpy as np\n",
    "import pandas as pd\n",
    "from scipy.sparse import csr_matrix\n",
    "import anndata\n",
    "from pybedtools import BedTool"
   ]
  },
  {
   "cell_type": "markdown",
   "metadata": {
    "ExecuteTime": {
     "end_time": "2020-01-10T03:41:10.279754Z",
     "start_time": "2020-01-10T03:41:10.259634Z"
    },
    "papermill": {
     "duration": 0.008807,
     "end_time": "2020-01-12T04:28:36.661861",
     "exception": false,
     "start_time": "2020-01-12T04:28:36.653054",
     "status": "completed"
    },
    "tags": []
   },
   "source": [
    "## Parameter"
   ]
  },
  {
   "cell_type": "code",
   "execution_count": 2,
   "metadata": {
    "ExecuteTime": {
     "end_time": "2020-01-17T04:51:41.867530Z",
     "start_time": "2020-01-17T04:51:41.864951Z"
    },
    "papermill": {
     "duration": 0.014577,
     "end_time": "2020-01-12T04:28:36.685123",
     "exception": false,
     "start_time": "2020-01-12T04:28:36.670546",
     "status": "completed"
    },
    "tags": [
     "parameters"
    ]
   },
   "outputs": [],
   "source": [
    "dmr_path = '/home/hanliu/project/mouse_rostral_brain/DMR/DGmCHGroup/DMR/axis-mch_rms_results_collapsed.tsv'\n",
    "dmr_prefix = 'DGmCH'\n",
    "\n",
    "black_list_path = '/home/hanliu/ref/blacklist/mm10-blacklist.v2.bed.gz'\n",
    "delta_cutoff=0.3\n",
    "dms_cutoff = 1"
   ]
  },
  {
   "cell_type": "code",
   "execution_count": 3,
   "metadata": {
    "ExecuteTime": {
     "end_time": "2020-01-17T04:51:41.870908Z",
     "start_time": "2020-01-17T04:51:41.868797Z"
    },
    "papermill": {
     "duration": 0.013586,
     "end_time": "2020-01-12T04:28:36.707235",
     "exception": false,
     "start_time": "2020-01-12T04:28:36.693649",
     "status": "completed"
    },
    "tags": [
     "injected-parameters"
    ]
   },
   "outputs": [],
   "source": [
    "# Parameters\n",
    "dmr_path = \"/home/hanliu/project/mouse_rostral_brain/DMR/ITSpatial_by_layer/IT-L5/IT-L5_rms_results_collapsed.tsv\"\n",
    "dmr_prefix = \"DGm3c\"\n",
    "black_list_path = \"/home/hanliu/ref/blacklist/mm10-blacklist.v2.bed.gz\"\n",
    "delta_cutoff = 0.4\n",
    "dms_cutoff = 1\n"
   ]
  },
  {
   "cell_type": "markdown",
   "metadata": {
    "papermill": {
     "duration": 0.00854,
     "end_time": "2020-01-12T04:28:36.724428",
     "exception": false,
     "start_time": "2020-01-12T04:28:36.715888",
     "status": "completed"
    },
    "tags": []
   },
   "source": [
    "## Read DMR"
   ]
  },
  {
   "cell_type": "code",
   "execution_count": 4,
   "metadata": {
    "ExecuteTime": {
     "end_time": "2020-01-17T04:51:43.225101Z",
     "start_time": "2020-01-17T04:51:41.872106Z"
    },
    "papermill": {
     "duration": 1.317589,
     "end_time": "2020-01-12T04:28:38.050580",
     "exception": false,
     "start_time": "2020-01-12T04:28:36.732991",
     "status": "completed"
    },
    "scrolled": true,
    "tags": []
   },
   "outputs": [
    {
     "name": "stdout",
     "output_type": "stream",
     "text": [
      "552735 dmr before filter\n"
     ]
    }
   ],
   "source": [
    "# get column and n_sample\n",
    "dmr_column = pd.read_csv(dmr_path, sep='\\t', nrows=0).columns\n",
    "n_sample = dmr_column.size - 6\n",
    "dmr_column = dmr_column.map(lambda i: i[18:] if 'methylation_level_' in i else i)\n",
    "samples = dmr_column[6:]\n",
    "\n",
    "dmr_region_infos = []\n",
    "mc_rates = []\n",
    "hypo_sig_dict = {sample: [] for sample in samples}\n",
    "hyper_sig_dict = {sample: [] for sample in samples}\n",
    "\n",
    "dmr_df = pd.read_csv(dmr_path, sep='\\t', skiprows=1, names=dmr_column)\n",
    "print(dmr_df.shape[0], 'dmr before filter')\n",
    "dmr_df.index = dmr_df.index.map(lambda i: f'{dmr_prefix}_{i}')\n",
    "\n",
    "# save raw info\n",
    "dmr_bed = dmr_df.iloc[:, :4].copy()\n",
    "mc_rate = dmr_df.iloc[:, 6:].copy()"
   ]
  },
  {
   "cell_type": "markdown",
   "metadata": {
    "papermill": {
     "duration": 0.009183,
     "end_time": "2020-01-12T04:28:38.069323",
     "exception": false,
     "start_time": "2020-01-12T04:28:38.060140",
     "status": "completed"
    },
    "tags": []
   },
   "source": [
    "## Save unfiltered dmr info"
   ]
  },
  {
   "cell_type": "code",
   "execution_count": 5,
   "metadata": {
    "ExecuteTime": {
     "end_time": "2020-01-17T04:51:44.090121Z",
     "start_time": "2020-01-17T04:51:43.226802Z"
    },
    "papermill": {
     "duration": 0.853599,
     "end_time": "2020-01-12T04:28:38.932064",
     "exception": false,
     "start_time": "2020-01-12T04:28:38.078465",
     "status": "completed"
    },
    "tags": []
   },
   "outputs": [],
   "source": [
    "with pd.HDFStore(pathlib.Path(dmr_path).parent / 'DMRInfo.h5') as hdf:\n",
    "    hdf['Rate'] = mc_rate\n",
    "    hdf['Bed'] = dmr_bed"
   ]
  },
  {
   "cell_type": "code",
   "execution_count": 6,
   "metadata": {
    "ExecuteTime": {
     "end_time": "2020-01-17T04:51:45.592524Z",
     "start_time": "2020-01-17T04:51:44.092505Z"
    },
    "papermill": {
     "duration": 1.490046,
     "end_time": "2020-01-12T04:28:40.431657",
     "exception": false,
     "start_time": "2020-01-12T04:28:38.941611",
     "status": "completed"
    },
    "tags": []
   },
   "outputs": [],
   "source": [
    "dmr_bed.reset_index().iloc[:, [1, 2, 3, 0]].to_csv(pathlib.Path(dmr_path).parent / 'TotalDMR.nofilter.bed', \n",
    "                                                   index=None, header=None, sep='\\t')"
   ]
  },
  {
   "cell_type": "markdown",
   "metadata": {
    "papermill": {
     "duration": 0.008878,
     "end_time": "2020-01-12T04:28:40.450114",
     "exception": false,
     "start_time": "2020-01-12T04:28:40.441236",
     "status": "completed"
    },
    "tags": []
   },
   "source": [
    "## Filter DMR"
   ]
  },
  {
   "cell_type": "code",
   "execution_count": 7,
   "metadata": {
    "ExecuteTime": {
     "end_time": "2020-01-17T04:51:45.775925Z",
     "start_time": "2020-01-17T04:51:45.594143Z"
    },
    "papermill": {
     "duration": 0.196097,
     "end_time": "2020-01-12T04:28:40.655045",
     "exception": false,
     "start_time": "2020-01-12T04:28:40.458948",
     "status": "completed"
    },
    "tags": []
   },
   "outputs": [
    {
     "name": "stdout",
     "output_type": "stream",
     "text": [
      "207109 dmr pass delta filter\n"
     ]
    }
   ],
   "source": [
    "# filter by delta\n",
    "delta_judge = (mc_rate.max(axis=1) - mc_rate.min(axis=1)) > delta_cutoff\n",
    "delta_index = mc_rate.index[delta_judge]\n",
    "\n",
    "print(delta_index.size, 'dmr pass delta filter')"
   ]
  },
  {
   "cell_type": "code",
   "execution_count": 8,
   "metadata": {
    "ExecuteTime": {
     "end_time": "2020-01-17T04:51:48.681626Z",
     "start_time": "2020-01-17T04:51:45.777301Z"
    },
    "papermill": {
     "duration": 2.719658,
     "end_time": "2020-01-12T04:28:43.384517",
     "exception": false,
     "start_time": "2020-01-12T04:28:40.664859",
     "status": "completed"
    },
    "tags": []
   },
   "outputs": [
    {
     "name": "stdout",
     "output_type": "stream",
     "text": [
      "546728 dmr pass blacklist filter\n"
     ]
    }
   ],
   "source": [
    "# filter by blacklist\n",
    "black_list = pd.read_csv(black_list_path, sep='\\t', header=None)\n",
    "black_list = BedTool.from_dataframe(black_list)\n",
    "\n",
    "_dmr_bed = BedTool.from_dataframe(dmr_bed.reset_index().iloc[:, [1,2,3,0]])\n",
    "filtered_dmr_bed = _dmr_bed.intersect(black_list, v=True).to_dataframe().set_index('name')\n",
    "\n",
    "white_index = filtered_dmr_bed.index\n",
    "\n",
    "print(white_index.size, 'dmr pass blacklist filter')"
   ]
  },
  {
   "cell_type": "code",
   "execution_count": 9,
   "metadata": {
    "ExecuteTime": {
     "end_time": "2020-01-17T04:51:49.304505Z",
     "start_time": "2020-01-17T04:51:48.683724Z"
    },
    "papermill": {
     "duration": 0.77438,
     "end_time": "2020-01-12T04:28:44.169135",
     "exception": false,
     "start_time": "2020-01-12T04:28:43.394755",
     "status": "completed"
    },
    "tags": []
   },
   "outputs": [
    {
     "name": "stdout",
     "output_type": "stream",
     "text": [
      "204828 dmr after filter\n"
     ]
    },
    {
     "data": {
      "text/html": [
       "<div>\n",
       "<style scoped>\n",
       "    .dataframe tbody tr th:only-of-type {\n",
       "        vertical-align: middle;\n",
       "    }\n",
       "\n",
       "    .dataframe tbody tr th {\n",
       "        vertical-align: top;\n",
       "    }\n",
       "\n",
       "    .dataframe thead th {\n",
       "        text-align: right;\n",
       "    }\n",
       "</style>\n",
       "<table border=\"1\" class=\"dataframe\">\n",
       "  <thead>\n",
       "    <tr style=\"text-align: right;\">\n",
       "      <th></th>\n",
       "      <th>#chr</th>\n",
       "      <th>start</th>\n",
       "      <th>end</th>\n",
       "      <th>number_of_dms</th>\n",
       "      <th>hypermethylated_samples</th>\n",
       "      <th>hypomethylated_samples</th>\n",
       "      <th>IT-L5+SSp</th>\n",
       "      <th>IT-L5+PFC</th>\n",
       "      <th>IT-L5+AI</th>\n",
       "      <th>IT-L5+MOs</th>\n",
       "      <th>IT-L5+MOp</th>\n",
       "      <th>IT-L5+ORB</th>\n",
       "      <th>IT-L5+SSs</th>\n",
       "      <th>IT-L5+ACA</th>\n",
       "    </tr>\n",
       "  </thead>\n",
       "  <tbody>\n",
       "    <tr>\n",
       "      <th>DGm3c_0</th>\n",
       "      <td>chr1</td>\n",
       "      <td>3003641</td>\n",
       "      <td>3003641</td>\n",
       "      <td>1</td>\n",
       "      <td>NaN</td>\n",
       "      <td>NaN</td>\n",
       "      <td>0.608696</td>\n",
       "      <td>0.222222</td>\n",
       "      <td>0.600000</td>\n",
       "      <td>0.225806</td>\n",
       "      <td>0.166667</td>\n",
       "      <td>NaN</td>\n",
       "      <td>0.571429</td>\n",
       "      <td>0.372549</td>\n",
       "    </tr>\n",
       "    <tr>\n",
       "      <th>DGm3c_5</th>\n",
       "      <td>chr1</td>\n",
       "      <td>3095658</td>\n",
       "      <td>3095658</td>\n",
       "      <td>1</td>\n",
       "      <td>IT-L5+PFC,IT-L5+AI</td>\n",
       "      <td>IT-L5+MOp</td>\n",
       "      <td>0.342105</td>\n",
       "      <td>0.710145</td>\n",
       "      <td>0.818182</td>\n",
       "      <td>0.365854</td>\n",
       "      <td>0.250000</td>\n",
       "      <td>0.600000</td>\n",
       "      <td>0.392857</td>\n",
       "      <td>0.511905</td>\n",
       "    </tr>\n",
       "    <tr>\n",
       "      <th>DGm3c_7</th>\n",
       "      <td>chr1</td>\n",
       "      <td>3108226</td>\n",
       "      <td>3108226</td>\n",
       "      <td>1</td>\n",
       "      <td>IT-L5+PFC,IT-L5+AI</td>\n",
       "      <td>IT-L5+SSp</td>\n",
       "      <td>0.050000</td>\n",
       "      <td>0.396825</td>\n",
       "      <td>0.523810</td>\n",
       "      <td>0.150000</td>\n",
       "      <td>0.070423</td>\n",
       "      <td>0.241379</td>\n",
       "      <td>0.085714</td>\n",
       "      <td>0.184615</td>\n",
       "    </tr>\n",
       "    <tr>\n",
       "      <th>DGm3c_9</th>\n",
       "      <td>chr1</td>\n",
       "      <td>3114936</td>\n",
       "      <td>3115276</td>\n",
       "      <td>4</td>\n",
       "      <td>IT-L5+SSp,IT-L5+ACA,IT-L5+MOp</td>\n",
       "      <td>IT-L5+PFC,IT-L5+MOs,IT-L5+AI</td>\n",
       "      <td>0.870588</td>\n",
       "      <td>0.544776</td>\n",
       "      <td>0.413793</td>\n",
       "      <td>0.560000</td>\n",
       "      <td>0.773529</td>\n",
       "      <td>0.593220</td>\n",
       "      <td>0.761062</td>\n",
       "      <td>0.741667</td>\n",
       "    </tr>\n",
       "    <tr>\n",
       "      <th>DGm3c_10</th>\n",
       "      <td>chr1</td>\n",
       "      <td>3121820</td>\n",
       "      <td>3121820</td>\n",
       "      <td>1</td>\n",
       "      <td>IT-L5+PFC,IT-L5+ACA</td>\n",
       "      <td>IT-L5+SSp</td>\n",
       "      <td>0.257143</td>\n",
       "      <td>0.672727</td>\n",
       "      <td>0.480000</td>\n",
       "      <td>0.464286</td>\n",
       "      <td>0.348485</td>\n",
       "      <td>0.423077</td>\n",
       "      <td>0.260870</td>\n",
       "      <td>0.637500</td>\n",
       "    </tr>\n",
       "  </tbody>\n",
       "</table>\n",
       "</div>"
      ],
      "text/plain": [
       "          #chr    start      end  number_of_dms  \\\n",
       "DGm3c_0   chr1  3003641  3003641              1   \n",
       "DGm3c_5   chr1  3095658  3095658              1   \n",
       "DGm3c_7   chr1  3108226  3108226              1   \n",
       "DGm3c_9   chr1  3114936  3115276              4   \n",
       "DGm3c_10  chr1  3121820  3121820              1   \n",
       "\n",
       "                hypermethylated_samples        hypomethylated_samples  \\\n",
       "DGm3c_0                             NaN                           NaN   \n",
       "DGm3c_5              IT-L5+PFC,IT-L5+AI                     IT-L5+MOp   \n",
       "DGm3c_7              IT-L5+PFC,IT-L5+AI                     IT-L5+SSp   \n",
       "DGm3c_9   IT-L5+SSp,IT-L5+ACA,IT-L5+MOp  IT-L5+PFC,IT-L5+MOs,IT-L5+AI   \n",
       "DGm3c_10            IT-L5+PFC,IT-L5+ACA                     IT-L5+SSp   \n",
       "\n",
       "          IT-L5+SSp  IT-L5+PFC  IT-L5+AI  IT-L5+MOs  IT-L5+MOp  IT-L5+ORB  \\\n",
       "DGm3c_0    0.608696   0.222222  0.600000   0.225806   0.166667        NaN   \n",
       "DGm3c_5    0.342105   0.710145  0.818182   0.365854   0.250000   0.600000   \n",
       "DGm3c_7    0.050000   0.396825  0.523810   0.150000   0.070423   0.241379   \n",
       "DGm3c_9    0.870588   0.544776  0.413793   0.560000   0.773529   0.593220   \n",
       "DGm3c_10   0.257143   0.672727  0.480000   0.464286   0.348485   0.423077   \n",
       "\n",
       "          IT-L5+SSs  IT-L5+ACA  \n",
       "DGm3c_0    0.571429   0.372549  \n",
       "DGm3c_5    0.392857   0.511905  \n",
       "DGm3c_7    0.085714   0.184615  \n",
       "DGm3c_9    0.761062   0.741667  \n",
       "DGm3c_10   0.260870   0.637500  "
      ]
     },
     "execution_count": 9,
     "metadata": {},
     "output_type": "execute_result"
    }
   ],
   "source": [
    "dmr_df = dmr_df.loc[delta_index & white_index]\n",
    "dmr_df = dmr_df[dmr_df['number_of_dms'] >= dms_cutoff]\n",
    "print(dmr_df.shape[0], 'dmr after filter')\n",
    "dmr_df.head()"
   ]
  },
  {
   "cell_type": "markdown",
   "metadata": {
    "papermill": {
     "duration": 0.009798,
     "end_time": "2020-01-12T04:28:44.189476",
     "exception": false,
     "start_time": "2020-01-12T04:28:44.179678",
     "status": "completed"
    },
    "tags": []
   },
   "source": [
    "## Assign DMR to each sample"
   ]
  },
  {
   "cell_type": "code",
   "execution_count": 10,
   "metadata": {
    "ExecuteTime": {
     "end_time": "2020-01-17T04:51:50.163234Z",
     "start_time": "2020-01-17T04:51:49.305992Z"
    },
    "papermill": {
     "duration": 1.309077,
     "end_time": "2020-01-12T04:28:45.508342",
     "exception": false,
     "start_time": "2020-01-12T04:28:44.199265",
     "status": "completed"
    },
    "tags": []
   },
   "outputs": [
    {
     "name": "stdout",
     "output_type": "stream",
     "text": [
      "IT-L5+SSp\tHypoDMR \t68184\n",
      "IT-L5+SSp\tHyperDMR\t41504\n",
      "IT-L5+PFC\tHypoDMR \t30794\n",
      "IT-L5+PFC\tHyperDMR\t86126\n",
      "IT-L5+AI\tHypoDMR \t33931\n",
      "IT-L5+AI\tHyperDMR\t36573\n",
      "IT-L5+MOs\tHypoDMR \t51106\n",
      "IT-L5+MOs\tHyperDMR\t13727\n",
      "IT-L5+MOp\tHypoDMR \t63615\n",
      "IT-L5+MOp\tHyperDMR\t9278\n",
      "IT-L5+ORB\tHypoDMR \t9100\n",
      "IT-L5+ORB\tHyperDMR\t16944\n",
      "IT-L5+SSs\tHypoDMR \t37760\n",
      "IT-L5+SSs\tHyperDMR\t18470\n",
      "IT-L5+ACA\tHypoDMR \t29877\n",
      "IT-L5+ACA\tHyperDMR\t93582\n"
     ]
    }
   ],
   "source": [
    "# parse results\n",
    "for sample in samples:\n",
    "    # here saved a list of np.array\n",
    "    hypo_index = dmr_df[dmr_df['hypomethylated_samples'].fillna('').apply(lambda i: sample in i)].index\n",
    "    hyper_index = dmr_df[dmr_df['hypermethylated_samples'].fillna('').apply(lambda i: sample in i)].index\n",
    "    hypo_sig_dict[sample] = hypo_index\n",
    "    hyper_sig_dict[sample] = hyper_index\n",
    "    print(sample, 'HypoDMR ', hypo_index.size, sep='\\t')\n",
    "    print(sample, 'HyperDMR', hyper_index.size, sep='\\t')\n"
   ]
  },
  {
   "cell_type": "code",
   "execution_count": 11,
   "metadata": {
    "ExecuteTime": {
     "end_time": "2020-01-17T04:51:50.632676Z",
     "start_time": "2020-01-17T04:51:50.165279Z"
    },
    "papermill": {
     "duration": 0.462025,
     "end_time": "2020-01-12T04:28:45.982029",
     "exception": false,
     "start_time": "2020-01-12T04:28:45.520004",
     "status": "completed"
    },
    "tags": []
   },
   "outputs": [
    {
     "name": "stderr",
     "output_type": "stream",
     "text": [
      "/home/hanliu/miniconda3/envs/clustering/lib/python3.7/site-packages/tables/path.py:157: NaturalNameWarning: object name is not a valid Python identifier: 'IT-L5+SSp'; it does not match the pattern ``^[a-zA-Z_][a-zA-Z0-9_]*$``; you will not be able to use natural naming to access this object; using ``getattr()`` will still work, though\n",
      "  check_attribute_name(name)\n",
      "/home/hanliu/miniconda3/envs/clustering/lib/python3.7/site-packages/tables/path.py:157: NaturalNameWarning: object name is not a valid Python identifier: 'IT-L5+PFC'; it does not match the pattern ``^[a-zA-Z_][a-zA-Z0-9_]*$``; you will not be able to use natural naming to access this object; using ``getattr()`` will still work, though\n",
      "  check_attribute_name(name)\n",
      "/home/hanliu/miniconda3/envs/clustering/lib/python3.7/site-packages/tables/path.py:157: NaturalNameWarning: object name is not a valid Python identifier: 'IT-L5+AI'; it does not match the pattern ``^[a-zA-Z_][a-zA-Z0-9_]*$``; you will not be able to use natural naming to access this object; using ``getattr()`` will still work, though\n",
      "  check_attribute_name(name)\n",
      "/home/hanliu/miniconda3/envs/clustering/lib/python3.7/site-packages/tables/path.py:157: NaturalNameWarning: object name is not a valid Python identifier: 'IT-L5+MOs'; it does not match the pattern ``^[a-zA-Z_][a-zA-Z0-9_]*$``; you will not be able to use natural naming to access this object; using ``getattr()`` will still work, though\n",
      "  check_attribute_name(name)\n",
      "/home/hanliu/miniconda3/envs/clustering/lib/python3.7/site-packages/tables/path.py:157: NaturalNameWarning: object name is not a valid Python identifier: 'IT-L5+MOp'; it does not match the pattern ``^[a-zA-Z_][a-zA-Z0-9_]*$``; you will not be able to use natural naming to access this object; using ``getattr()`` will still work, though\n",
      "  check_attribute_name(name)\n",
      "/home/hanliu/miniconda3/envs/clustering/lib/python3.7/site-packages/tables/path.py:157: NaturalNameWarning: object name is not a valid Python identifier: 'IT-L5+ORB'; it does not match the pattern ``^[a-zA-Z_][a-zA-Z0-9_]*$``; you will not be able to use natural naming to access this object; using ``getattr()`` will still work, though\n",
      "  check_attribute_name(name)\n",
      "/home/hanliu/miniconda3/envs/clustering/lib/python3.7/site-packages/tables/path.py:157: NaturalNameWarning: object name is not a valid Python identifier: 'IT-L5+SSs'; it does not match the pattern ``^[a-zA-Z_][a-zA-Z0-9_]*$``; you will not be able to use natural naming to access this object; using ``getattr()`` will still work, though\n",
      "  check_attribute_name(name)\n",
      "/home/hanliu/miniconda3/envs/clustering/lib/python3.7/site-packages/tables/path.py:157: NaturalNameWarning: object name is not a valid Python identifier: 'IT-L5+ACA'; it does not match the pattern ``^[a-zA-Z_][a-zA-Z0-9_]*$``; you will not be able to use natural naming to access this object; using ``getattr()`` will still work, though\n",
      "  check_attribute_name(name)\n"
     ]
    }
   ],
   "source": [
    "with pd.HDFStore(pathlib.Path(dmr_path).parent / 'DMRInfo.h5') as hdf:\n",
    "    for sample, hypo_index in hypo_sig_dict.items():\n",
    "        hdf[f'HypoDMR/{sample}'] = pd.Series(hypo_index)\n",
    "    for sample, hyper_index in hyper_sig_dict.items():\n",
    "        hdf[f'HyperDMR/{sample}'] = pd.Series(hyper_index)"
   ]
  },
  {
   "cell_type": "markdown",
   "metadata": {
    "papermill": {
     "duration": 0.0109,
     "end_time": "2020-01-12T04:28:46.004590",
     "exception": false,
     "start_time": "2020-01-12T04:28:45.993690",
     "status": "completed"
    },
    "scrolled": true,
    "tags": []
   },
   "source": [
    "## Dump DMR bed"
   ]
  },
  {
   "cell_type": "code",
   "execution_count": 12,
   "metadata": {
    "ExecuteTime": {
     "end_time": "2020-01-17T04:51:52.248637Z",
     "start_time": "2020-01-17T04:51:50.634059Z"
    },
    "papermill": {
     "duration": 2.323461,
     "end_time": "2020-01-12T04:28:48.339335",
     "exception": false,
     "start_time": "2020-01-12T04:28:46.015874",
     "status": "completed"
    },
    "tags": []
   },
   "outputs": [],
   "source": [
    "hypo_dir = pathlib.Path(dmr_path).parent / 'HypoDMR'\n",
    "hypo_dir.mkdir(exist_ok=True)\n",
    "for sample, hypo_index in hypo_sig_dict.items():\n",
    "    _bed = dmr_bed.loc[hypo_index].reset_index().iloc[:, [1, 2, 3, 0]].to_csv(\n",
    "        hypo_dir / f'{sample}.DMS{dms_cutoff}.bed', sep='\\t', index=None, header=None)"
   ]
  },
  {
   "cell_type": "code",
   "execution_count": 13,
   "metadata": {
    "ExecuteTime": {
     "end_time": "2020-01-17T04:51:53.622624Z",
     "start_time": "2020-01-17T04:51:52.251505Z"
    },
    "papermill": {
     "duration": 2.143685,
     "end_time": "2020-01-12T04:28:50.495072",
     "exception": false,
     "start_time": "2020-01-12T04:28:48.351387",
     "status": "completed"
    },
    "tags": []
   },
   "outputs": [],
   "source": [
    "hyper_dir = pathlib.Path(dmr_path).parent / 'HyperDMR'\n",
    "hyper_dir.mkdir(exist_ok=True)\n",
    "for sample, hyper_index in hyper_sig_dict.items():\n",
    "    _bed = dmr_bed.loc[hyper_index].reset_index().iloc[:, [1, 2, 3, 0]].to_csv(\n",
    "        hyper_dir / f'{sample}.DMS{dms_cutoff}.bed', sep='\\t', index=None, header=None)"
   ]
  },
  {
   "cell_type": "markdown",
   "metadata": {
    "papermill": {
     "duration": 0.011247,
     "end_time": "2020-01-12T04:28:50.518141",
     "exception": false,
     "start_time": "2020-01-12T04:28:50.506894",
     "status": "completed"
    },
    "tags": []
   },
   "source": [
    "## DMR hits matrix"
   ]
  },
  {
   "cell_type": "code",
   "execution_count": 14,
   "metadata": {
    "ExecuteTime": {
     "end_time": "2020-01-17T04:51:54.976313Z",
     "start_time": "2020-01-17T04:51:53.624106Z"
    },
    "papermill": {
     "duration": 1.36339,
     "end_time": "2020-01-12T04:28:51.892408",
     "exception": false,
     "start_time": "2020-01-12T04:28:50.529018",
     "status": "completed"
    },
    "tags": []
   },
   "outputs": [
    {
     "name": "stderr",
     "output_type": "stream",
     "text": [
      "... storing '#chr' as categorical\n"
     ]
    }
   ],
   "source": [
    "sig_dict = hypo_sig_dict\n",
    "\n",
    "rows = []\n",
    "cols = []\n",
    "datas = []\n",
    "for i, (sample, dmr_index) in enumerate(sig_dict.items()):\n",
    "    col = dmr_index.map(lambda i: i.split('_')[1]).astype(int).values\n",
    "    row = (np.ones_like(col) * i).astype(int)\n",
    "    data = np.ones_like(col)\n",
    "    rows.append(row)\n",
    "    cols.append(col)\n",
    "    datas.append(data)\n",
    "datas = np.concatenate(datas)\n",
    "cols = np.concatenate(cols)\n",
    "rows = np.concatenate(rows)\n",
    "hits = csr_matrix((datas, (rows, cols)),\n",
    "                  shape=(mc_rate.shape[1], dmr_bed.shape[0]))\n",
    "\n",
    "# obs is DMR, var is sample, because all analysis is dmr focused\n",
    "dmr_hits = anndata.AnnData(X=hits.T,\n",
    "                           obs=dmr_bed,\n",
    "                           var=pd.DataFrame([], index=mc_rate.columns))\n",
    "\n",
    "dmr_hits.write_h5ad(hypo_dir / 'TotalHits.h5ad')\n"
   ]
  },
  {
   "cell_type": "code",
   "execution_count": 15,
   "metadata": {
    "ExecuteTime": {
     "end_time": "2020-01-17T04:51:56.271121Z",
     "start_time": "2020-01-17T04:51:54.977741Z"
    },
    "papermill": {
     "duration": 1.309625,
     "end_time": "2020-01-12T04:28:53.214145",
     "exception": false,
     "start_time": "2020-01-12T04:28:51.904520",
     "status": "completed"
    },
    "tags": []
   },
   "outputs": [
    {
     "name": "stderr",
     "output_type": "stream",
     "text": [
      "... storing '#chr' as categorical\n"
     ]
    }
   ],
   "source": [
    "sig_dict = hyper_sig_dict\n",
    "\n",
    "rows = []\n",
    "cols = []\n",
    "datas = []\n",
    "for i, (sample, dmr_index) in enumerate(sig_dict.items()):\n",
    "    col = dmr_index.map(lambda i: i.split('_')[1]).astype(int).values\n",
    "    row = (np.ones_like(col) * i).astype(int)\n",
    "    data = np.ones_like(col)\n",
    "    rows.append(row)\n",
    "    cols.append(col)\n",
    "    datas.append(data)\n",
    "datas = np.concatenate(datas)\n",
    "cols = np.concatenate(cols)\n",
    "rows = np.concatenate(rows)\n",
    "hits = csr_matrix((datas, (rows, cols)),\n",
    "                  shape=(mc_rate.shape[1], dmr_bed.shape[0]))\n",
    "\n",
    "# obs is DMR, var is sample, because all analysis is dmr focused\n",
    "dmr_hits = anndata.AnnData(X=hits.T,\n",
    "                           obs=dmr_bed,\n",
    "                           var=pd.DataFrame([], index=mc_rate.columns))\n",
    "\n",
    "dmr_hits.write_h5ad(hyper_dir / 'TotalHits.h5ad')"
   ]
  },
  {
   "cell_type": "code",
   "execution_count": null,
   "metadata": {
    "papermill": {
     "duration": 0.011795,
     "end_time": "2020-01-12T04:28:53.238346",
     "exception": false,
     "start_time": "2020-01-12T04:28:53.226551",
     "status": "completed"
    },
    "tags": []
   },
   "outputs": [],
   "source": []
  },
  {
   "cell_type": "code",
   "execution_count": null,
   "metadata": {
    "papermill": {
     "duration": 0.011443,
     "end_time": "2020-01-12T04:28:53.261540",
     "exception": false,
     "start_time": "2020-01-12T04:28:53.250097",
     "status": "completed"
    },
    "tags": []
   },
   "outputs": [],
   "source": []
  },
  {
   "cell_type": "code",
   "execution_count": null,
   "metadata": {
    "papermill": {
     "duration": 0.011431,
     "end_time": "2020-01-12T04:28:53.284434",
     "exception": false,
     "start_time": "2020-01-12T04:28:53.273003",
     "status": "completed"
    },
    "tags": []
   },
   "outputs": [],
   "source": []
  }
 ],
 "metadata": {
  "hide_input": false,
  "kernelspec": {
   "display_name": "Python 3",
   "language": "python",
   "name": "python3"
  },
  "language_info": {
   "codemirror_mode": {
    "name": "ipython",
    "version": 3
   },
   "file_extension": ".py",
   "mimetype": "text/x-python",
   "name": "python",
   "nbconvert_exporter": "python",
   "pygments_lexer": "ipython3",
   "version": "3.7.3"
  },
  "papermill": {
   "duration": 18.395864,
   "end_time": "2020-01-12T04:28:53.703066",
   "environment_variables": {},
   "exception": null,
   "input_path": "1.FilterDMRRecipe_simple_min_max.ipynb",
   "output_path": "/home/hanliu/project/mouse_rostral_brain/DMR/ITSpatial_by_layer/IT-L5/Recipe/1.FilterDMRRecipe_simple_min_max.ipynb",
   "parameters": {
    "black_list_path": "/home/hanliu/ref/blacklist/mm10-blacklist.v2.bed.gz",
    "delta_cutoff": 0.3,
    "dmr_path": "/home/hanliu/project/mouse_rostral_brain/DMR/ITSpatial_by_layer/IT-L5/IT-L5_rms_results_collapsed.tsv",
    "dmr_prefix": "DGm3c",
    "dms_cutoff": 1
   },
   "start_time": "2020-01-12T04:28:35.307202",
   "version": "1.0.1"
  },
  "toc": {
   "base_numbering": 1,
   "nav_menu": {},
   "number_sections": true,
   "sideBar": true,
   "skip_h1_title": true,
   "title_cell": "Table of Contents",
   "title_sidebar": "Contents",
   "toc_cell": false,
   "toc_position": {},
   "toc_section_display": true,
   "toc_window_display": true
  }
 },
 "nbformat": 4,
 "nbformat_minor": 2
}
