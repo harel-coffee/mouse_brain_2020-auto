{
 "cells": [
  {
   "cell_type": "markdown",
   "metadata": {
    "papermill": {
     "duration": 0.009665,
     "end_time": "2020-01-14T06:47:14.997255",
     "exception": false,
     "start_time": "2020-01-14T06:47:14.987590",
     "status": "completed"
    },
    "tags": []
   },
   "source": [
    "# Motif Enrichment\n",
    "- The motif hits matrix save the max loglikelyhood score of a motif in that DMR\n",
    "- Before run the motif enrichment, I filter the scores for each motif using cutoff defined by\n",
    "    - `np.quantile(motif_score[motif_score > 0]) * mask_quantile_to99`\n",
    "- This filter will remove hits with low score, which is likely to be false positive\n",
    "- Its likely boosting the significance of real enrichment"
   ]
  },
  {
   "cell_type": "code",
   "execution_count": 1,
   "metadata": {
    "ExecuteTime": {
     "end_time": "2020-01-17T04:52:26.551044Z",
     "start_time": "2020-01-17T04:52:25.791746Z"
    },
    "papermill": {
     "duration": 0.67553,
     "end_time": "2020-01-14T06:47:15.683326",
     "exception": false,
     "start_time": "2020-01-14T06:47:15.007796",
     "status": "completed"
    },
    "tags": []
   },
   "outputs": [],
   "source": [
    "from concurrent.futures import ProcessPoolExecutor, as_completed\n",
    "import anndata\n",
    "import matplotlib.pyplot as plt\n",
    "import numpy as np\n",
    "import pandas as pd\n",
    "import pybedtools\n",
    "import scipy.stats as stats\n",
    "import seaborn as sns\n",
    "from scipy.sparse import csr_matrix\n",
    "from statsmodels.stats.multitest import multipletests\n",
    "import pathlib"
   ]
  },
  {
   "cell_type": "code",
   "execution_count": 2,
   "metadata": {
    "ExecuteTime": {
     "end_time": "2020-01-17T04:52:26.556114Z",
     "start_time": "2020-01-17T04:52:26.553220Z"
    },
    "papermill": {
     "duration": 0.015474,
     "end_time": "2020-01-14T06:47:15.708874",
     "exception": false,
     "start_time": "2020-01-14T06:47:15.693400",
     "status": "completed"
    },
    "tags": [
     "parameters"
    ]
   },
   "outputs": [],
   "source": [
    "mask_quantile_to99 = 0.9\n",
    "or_cutoff = 1.5\n",
    "neg_lgp_cutoff = 10\n",
    "group = 'IT-L23+ACA'\n",
    "\n",
    "motif_hits_path = '/home/hanliu/project/mouse_rostral_brain/DMR/ITSpatial_by_layer/IT-L23/MotifScan.h5ad'\n",
    "dmr_hits_path = f'/home/hanliu/project/mouse_rostral_brain/DMR/ITSpatial_by_layer/IT-L23/HypoDMR/{group}.DMS1.bed'\n",
    "output_dir = '/home/hanliu/project/mouse_rostral_brain/DMR/ITSpatial_by_layer/IT-L23/MotifEnrichment'\n"
   ]
  },
  {
   "cell_type": "code",
   "execution_count": 3,
   "metadata": {
    "ExecuteTime": {
     "end_time": "2020-01-17T04:52:26.559954Z",
     "start_time": "2020-01-17T04:52:26.557513Z"
    },
    "papermill": {
     "duration": 0.014501,
     "end_time": "2020-01-14T06:47:15.732577",
     "exception": false,
     "start_time": "2020-01-14T06:47:15.718076",
     "status": "completed"
    },
    "tags": [
     "injected-parameters"
    ]
   },
   "outputs": [],
   "source": [
    "# Parameters\n",
    "mask_quantile_to99 = 0.9\n",
    "or_cutoff = 1.5\n",
    "neg_lgp_cutoff = 10\n",
    "group = \"IT-L5+SSp\"\n",
    "motif_hits_path = \"/home/hanliu/project/mouse_rostral_brain/DMR/ITSpatial_by_layer/IT-L5/MotifScan.h5ad\"\n",
    "dmr_hits_path = \"/home/hanliu/project/mouse_rostral_brain/DMR/ITSpatial_by_layer/IT-L5/HypoDMR/IT-L5+SSp.DMS1.bed\"\n",
    "output_dir = \"/home/hanliu/project/mouse_rostral_brain/DMR/ITSpatial_by_layer/IT-L5/MotifEnrichment\"\n"
   ]
  },
  {
   "cell_type": "code",
   "execution_count": 4,
   "metadata": {
    "ExecuteTime": {
     "end_time": "2020-01-17T04:52:26.563590Z",
     "start_time": "2020-01-17T04:52:26.561295Z"
    },
    "papermill": {
     "duration": 0.014219,
     "end_time": "2020-01-14T06:47:15.755940",
     "exception": false,
     "start_time": "2020-01-14T06:47:15.741721",
     "status": "completed"
    },
    "tags": []
   },
   "outputs": [],
   "source": [
    "output_dir = pathlib.Path(output_dir)\n",
    "output_dir.mkdir(exist_ok=True)"
   ]
  },
  {
   "cell_type": "markdown",
   "metadata": {
    "papermill": {
     "duration": 0.009211,
     "end_time": "2020-01-14T06:47:15.774707",
     "exception": false,
     "start_time": "2020-01-14T06:47:15.765496",
     "status": "completed"
    },
    "tags": []
   },
   "source": [
    "## DMR hits"
   ]
  },
  {
   "cell_type": "code",
   "execution_count": 5,
   "metadata": {
    "ExecuteTime": {
     "end_time": "2020-01-17T04:52:26.636756Z",
     "start_time": "2020-01-17T04:52:26.564869Z"
    },
    "papermill": {
     "duration": 0.128996,
     "end_time": "2020-01-14T06:47:15.912939",
     "exception": false,
     "start_time": "2020-01-14T06:47:15.783943",
     "status": "completed"
    },
    "tags": []
   },
   "outputs": [
    {
     "data": {
      "text/html": [
       "<div>\n",
       "<style scoped>\n",
       "    .dataframe tbody tr th:only-of-type {\n",
       "        vertical-align: middle;\n",
       "    }\n",
       "\n",
       "    .dataframe tbody tr th {\n",
       "        vertical-align: top;\n",
       "    }\n",
       "\n",
       "    .dataframe thead th {\n",
       "        text-align: right;\n",
       "    }\n",
       "</style>\n",
       "<table border=\"1\" class=\"dataframe\">\n",
       "  <thead>\n",
       "    <tr style=\"text-align: right;\">\n",
       "      <th></th>\n",
       "      <th>0</th>\n",
       "      <th>1</th>\n",
       "      <th>2</th>\n",
       "    </tr>\n",
       "    <tr>\n",
       "      <th>3</th>\n",
       "      <th></th>\n",
       "      <th></th>\n",
       "      <th></th>\n",
       "    </tr>\n",
       "  </thead>\n",
       "  <tbody>\n",
       "    <tr>\n",
       "      <th>DGm3c_7</th>\n",
       "      <td>chr1</td>\n",
       "      <td>3108226</td>\n",
       "      <td>3108226</td>\n",
       "    </tr>\n",
       "    <tr>\n",
       "      <th>DGm3c_10</th>\n",
       "      <td>chr1</td>\n",
       "      <td>3121820</td>\n",
       "      <td>3121820</td>\n",
       "    </tr>\n",
       "    <tr>\n",
       "      <th>DGm3c_41</th>\n",
       "      <td>chr1</td>\n",
       "      <td>3343767</td>\n",
       "      <td>3343786</td>\n",
       "    </tr>\n",
       "    <tr>\n",
       "      <th>DGm3c_51</th>\n",
       "      <td>chr1</td>\n",
       "      <td>3377607</td>\n",
       "      <td>3377607</td>\n",
       "    </tr>\n",
       "    <tr>\n",
       "      <th>DGm3c_75</th>\n",
       "      <td>chr1</td>\n",
       "      <td>3451824</td>\n",
       "      <td>3451824</td>\n",
       "    </tr>\n",
       "  </tbody>\n",
       "</table>\n",
       "</div>"
      ],
      "text/plain": [
       "             0        1        2\n",
       "3                               \n",
       "DGm3c_7   chr1  3108226  3108226\n",
       "DGm3c_10  chr1  3121820  3121820\n",
       "DGm3c_41  chr1  3343767  3343786\n",
       "DGm3c_51  chr1  3377607  3377607\n",
       "DGm3c_75  chr1  3451824  3451824"
      ]
     },
     "execution_count": 5,
     "metadata": {},
     "output_type": "execute_result"
    }
   ],
   "source": [
    "dmr_bed_df = pd.read_csv(dmr_hits_path, sep='\\t', header=None, index_col=3)\n",
    "dmr_bed_df.head()"
   ]
  },
  {
   "cell_type": "code",
   "execution_count": 6,
   "metadata": {
    "ExecuteTime": {
     "end_time": "2020-01-17T04:52:28.912033Z",
     "start_time": "2020-01-17T04:52:26.638208Z"
    },
    "papermill": {
     "duration": 2.254822,
     "end_time": "2020-01-14T06:47:18.178489",
     "exception": false,
     "start_time": "2020-01-14T06:47:15.923667",
     "status": "completed"
    },
    "tags": []
   },
   "outputs": [
    {
     "data": {
      "text/plain": [
       "AnnData object with n_obs × n_vars = 68184 × 719 \n",
       "    obs: 'chrom', 'start', 'end'"
      ]
     },
     "execution_count": 6,
     "metadata": {},
     "output_type": "execute_result"
    }
   ],
   "source": [
    "motif_hits = anndata.read_h5ad(motif_hits_path)\n",
    "motif_hits = motif_hits[dmr_bed_df.index, :].copy()\n",
    "motif_ids = motif_hits.var_names\n",
    "motif_hits.X = motif_hits.X.todense()\n",
    "motif_hits"
   ]
  },
  {
   "cell_type": "code",
   "execution_count": 7,
   "metadata": {
    "ExecuteTime": {
     "end_time": "2020-01-17T04:52:29.863087Z",
     "start_time": "2020-01-17T04:52:28.914605Z"
    },
    "papermill": {
     "duration": 1.403613,
     "end_time": "2020-01-14T06:47:19.593116",
     "exception": false,
     "start_time": "2020-01-14T06:47:18.189503",
     "status": "completed"
    },
    "tags": []
   },
   "outputs": [],
   "source": [
    "# mask small motif scores\n",
    "motif_cutoff = pd.Series(np.apply_along_axis(lambda i: np.quantile(i[i>0], 0.99) * mask_quantile_to99, \n",
    "                                             0, motif_hits.X),\n",
    "                         index=motif_hits.var_names)\n",
    "# only keep value larger than the cutoff for each motif\n",
    "motif_hits.X = np.multiply(motif_hits.X, (motif_hits.X > motif_cutoff.values[None, :]))"
   ]
  },
  {
   "cell_type": "markdown",
   "metadata": {
    "papermill": {
     "duration": 0.010076,
     "end_time": "2020-01-14T06:47:19.614225",
     "exception": false,
     "start_time": "2020-01-14T06:47:19.604149",
     "status": "completed"
    },
    "tags": []
   },
   "source": [
    "## Background Hits"
   ]
  },
  {
   "cell_type": "code",
   "execution_count": 8,
   "metadata": {
    "ExecuteTime": {
     "end_time": "2020-01-17T04:52:31.136773Z",
     "start_time": "2020-01-17T04:52:29.865369Z"
    },
    "papermill": {
     "duration": 1.106818,
     "end_time": "2020-01-14T06:47:20.731076",
     "exception": false,
     "start_time": "2020-01-14T06:47:19.624258",
     "status": "completed"
    },
    "tags": []
   },
   "outputs": [],
   "source": [
    "background_motif_hits = anndata.read_h5ad(\n",
    "    '/home/hanliu/project/mouse_rostral_brain/DMR/BackgroundDMR/MotifScan.h5ad'\n",
    ")"
   ]
  },
  {
   "cell_type": "code",
   "execution_count": 9,
   "metadata": {
    "ExecuteTime": {
     "end_time": "2020-01-17T04:52:32.301946Z",
     "start_time": "2020-01-17T04:52:31.138489Z"
    },
    "papermill": {
     "duration": 1.172624,
     "end_time": "2020-01-14T06:47:21.914702",
     "exception": false,
     "start_time": "2020-01-14T06:47:20.742078",
     "status": "completed"
    },
    "tags": []
   },
   "outputs": [],
   "source": [
    "dmr_bed = pybedtools.BedTool().from_dataframe(dmr_bed_df)\n",
    "bg_bed = pybedtools.BedTool().from_dataframe(\n",
    "    background_motif_hits.obs.reset_index().iloc[:, [1, 2, 3, 0]])"
   ]
  },
  {
   "cell_type": "code",
   "execution_count": 10,
   "metadata": {
    "ExecuteTime": {
     "end_time": "2020-01-17T04:52:33.967756Z",
     "start_time": "2020-01-17T04:52:32.303576Z"
    },
    "papermill": {
     "duration": 1.645594,
     "end_time": "2020-01-14T06:47:23.571576",
     "exception": false,
     "start_time": "2020-01-14T06:47:21.925982",
     "status": "completed"
    },
    "tags": []
   },
   "outputs": [],
   "source": [
    "# exclude background that overlap with DMR\n",
    "bg_no_overlap = bg_bed.intersect(dmr_bed, v=True)\n",
    "use_bg = bg_no_overlap.to_dataframe().iloc[:, -1].values\n",
    "background_motif_hits = background_motif_hits[use_bg, :]\n",
    "\n",
    "# make sure col in same order\n",
    "background_motif_hits = background_motif_hits[:, motif_ids].copy()"
   ]
  },
  {
   "cell_type": "code",
   "execution_count": 11,
   "metadata": {
    "ExecuteTime": {
     "end_time": "2020-01-17T04:52:36.237878Z",
     "start_time": "2020-01-17T04:52:33.969926Z"
    },
    "papermill": {
     "duration": 2.04125,
     "end_time": "2020-01-14T06:47:25.623651",
     "exception": false,
     "start_time": "2020-01-14T06:47:23.582401",
     "status": "completed"
    },
    "tags": []
   },
   "outputs": [],
   "source": [
    "judge_matrix = csr_matrix(background_motif_hits.X > motif_cutoff.values[None, :])\n",
    "background_motif_hits.X = background_motif_hits.X.multiply(judge_matrix)"
   ]
  },
  {
   "cell_type": "code",
   "execution_count": 12,
   "metadata": {
    "ExecuteTime": {
     "end_time": "2020-01-17T04:52:36.244703Z",
     "start_time": "2020-01-17T04:52:36.240371Z"
    },
    "papermill": {
     "duration": 0.01802,
     "end_time": "2020-01-14T06:47:25.652110",
     "exception": false,
     "start_time": "2020-01-14T06:47:25.634090",
     "status": "completed"
    },
    "tags": []
   },
   "outputs": [
    {
     "data": {
      "text/plain": [
       "AnnData object with n_obs × n_vars = 331152 × 719 \n",
       "    obs: 'chrom', 'start', 'end'"
      ]
     },
     "execution_count": 12,
     "metadata": {},
     "output_type": "execute_result"
    }
   ],
   "source": [
    "background_motif_hits"
   ]
  },
  {
   "cell_type": "markdown",
   "metadata": {
    "papermill": {
     "duration": 0.009484,
     "end_time": "2020-01-14T06:47:25.671219",
     "exception": false,
     "start_time": "2020-01-14T06:47:25.661735",
     "status": "completed"
    },
    "tags": []
   },
   "source": [
    "## Motif hits contingency table"
   ]
  },
  {
   "cell_type": "code",
   "execution_count": 13,
   "metadata": {
    "ExecuteTime": {
     "end_time": "2020-01-17T04:52:36.511852Z",
     "start_time": "2020-01-17T04:52:36.246115Z"
    },
    "papermill": {
     "duration": 0.305025,
     "end_time": "2020-01-14T06:47:25.986093",
     "exception": false,
     "start_time": "2020-01-14T06:47:25.681068",
     "status": "completed"
    },
    "tags": []
   },
   "outputs": [],
   "source": [
    "# calculate motif occurence, not considering hits here\n",
    "pos = (motif_hits.X > 0).sum(axis=0)\n",
    "pos_total = motif_hits.shape[0]\n",
    "\n",
    "neg = (background_motif_hits.X > 0).sum(axis=0)\n",
    "neg_total = background_motif_hits.shape[0]"
   ]
  },
  {
   "cell_type": "code",
   "execution_count": 14,
   "metadata": {
    "ExecuteTime": {
     "end_time": "2020-01-17T04:52:36.518500Z",
     "start_time": "2020-01-17T04:52:36.513763Z"
    },
    "papermill": {
     "duration": 0.062828,
     "end_time": "2020-01-14T06:47:26.059402",
     "exception": false,
     "start_time": "2020-01-14T06:47:25.996574",
     "status": "completed"
    },
    "scrolled": true,
    "tags": []
   },
   "outputs": [],
   "source": [
    "tables = {}\n",
    "for motif, _pos, _neg in zip(motif_ids, pos.A1, neg.A1):\n",
    "    table = [[_pos, pos_total - _pos], [_neg, neg_total - _neg]]\n",
    "    tables[motif] = table"
   ]
  },
  {
   "cell_type": "code",
   "execution_count": 15,
   "metadata": {
    "ExecuteTime": {
     "end_time": "2020-01-17T04:52:37.189351Z",
     "start_time": "2020-01-17T04:52:36.520141Z"
    },
    "papermill": {
     "duration": 0.989807,
     "end_time": "2020-01-14T06:47:27.058841",
     "exception": false,
     "start_time": "2020-01-14T06:47:26.069034",
     "status": "completed"
    },
    "tags": []
   },
   "outputs": [
    {
     "name": "stderr",
     "output_type": "stream",
     "text": [
      "/home/hanliu/miniconda3/envs/clustering/lib/python3.7/site-packages/pandas/core/series.py:853: RuntimeWarning: divide by zero encountered in log10\n",
      "  result = getattr(ufunc, method)(*inputs, **kwargs)\n"
     ]
    }
   ],
   "source": [
    "results = {}\n",
    "with ProcessPoolExecutor(20) as executor:\n",
    "    fs = {}\n",
    "    for motif, t in tables.items():\n",
    "        f = executor.submit(stats.fisher_exact, t, alternative='greater')\n",
    "        fs[f] = motif\n",
    "\n",
    "    for f in as_completed(fs):\n",
    "        motif = fs[f]\n",
    "        odds, p = f.result()\n",
    "        results[motif] = {'oddsratio': odds, 'p_value': p}\n",
    "motif_enrich_df = pd.DataFrame(results).T\n",
    "\n",
    "_, p, _, _ = multipletests(motif_enrich_df['p_value'], method='fdr_bh')\n",
    "motif_enrich_df['adj_p'] = p\n",
    "\n",
    "motif_enrich_df['-lgp'] = -np.log10(motif_enrich_df['adj_p']).replace(\n",
    "    -np.inf, -300)\n",
    "\n",
    "records = {}\n",
    "for motif, t in tables.items():\n",
    "    tp, tn = t[0]\n",
    "    fp, fn = t[1]\n",
    "    tp_rate = tp / pos_total\n",
    "    fp_rate = fp / neg_total\n",
    "    records[motif] = dict(tp=tp,\n",
    "                          tn=tn,\n",
    "                          fp=fp,\n",
    "                          fn=fn,\n",
    "                          tp_rate=tp_rate,\n",
    "                          fp_rate=fp_rate)\n",
    "counts = pd.DataFrame(records).T\n",
    "motif_enrich_df = pd.concat([motif_enrich_df, counts], axis=1, sort=True)"
   ]
  },
  {
   "cell_type": "code",
   "execution_count": 16,
   "metadata": {
    "ExecuteTime": {
     "end_time": "2020-01-17T04:52:37.194476Z",
     "start_time": "2020-01-17T04:52:37.191388Z"
    },
    "papermill": {
     "duration": 0.01612,
     "end_time": "2020-01-14T06:47:27.086214",
     "exception": false,
     "start_time": "2020-01-14T06:47:27.070094",
     "status": "completed"
    },
    "tags": []
   },
   "outputs": [],
   "source": [
    "motif_enrich_df['Group'] = group"
   ]
  },
  {
   "cell_type": "code",
   "execution_count": 17,
   "metadata": {
    "ExecuteTime": {
     "end_time": "2020-01-17T04:52:37.202196Z",
     "start_time": "2020-01-17T04:52:37.196051Z"
    },
    "papermill": {
     "duration": 0.018719,
     "end_time": "2020-01-14T06:47:27.115109",
     "exception": false,
     "start_time": "2020-01-14T06:47:27.096390",
     "status": "completed"
    },
    "tags": []
   },
   "outputs": [
    {
     "data": {
      "text/plain": [
       "31"
      ]
     },
     "execution_count": 17,
     "metadata": {},
     "output_type": "execute_result"
    }
   ],
   "source": [
    "# final filter\n",
    "filtered_motif_df = motif_enrich_df[(motif_enrich_df['oddsratio'] > or_cutoff)\n",
    "                                    &\n",
    "                                    (motif_enrich_df['-lgp'] > neg_lgp_cutoff)]\n",
    "filtered_motif_df.shape[0]"
   ]
  },
  {
   "cell_type": "code",
   "execution_count": 18,
   "metadata": {
    "ExecuteTime": {
     "end_time": "2020-01-17T04:52:37.208162Z",
     "start_time": "2020-01-17T04:52:37.203650Z"
    },
    "papermill": {
     "duration": 0.016982,
     "end_time": "2020-01-14T06:47:27.142410",
     "exception": false,
     "start_time": "2020-01-14T06:47:27.125428",
     "status": "completed"
    },
    "tags": []
   },
   "outputs": [
    {
     "name": "stderr",
     "output_type": "stream",
     "text": [
      "/home/hanliu/miniconda3/envs/clustering/lib/python3.7/site-packages/ipykernel_launcher.py:1: FutureWarning: to_msgpack is deprecated and will be removed in a future version.\n",
      "It is recommended to use pyarrow for on-the-wire transmission of pandas objects.\n",
      "  \"\"\"Entry point for launching an IPython kernel.\n"
     ]
    }
   ],
   "source": [
    "motif_enrich_df.to_msgpack(output_dir / f'{group}.motif_enrichment.msg')"
   ]
  },
  {
   "cell_type": "code",
   "execution_count": 19,
   "metadata": {
    "ExecuteTime": {
     "end_time": "2020-01-17T04:52:37.217335Z",
     "start_time": "2020-01-17T04:52:37.209605Z"
    },
    "papermill": {
     "duration": 0.022344,
     "end_time": "2020-01-14T06:47:27.175259",
     "exception": false,
     "start_time": "2020-01-14T06:47:27.152915",
     "status": "completed"
    },
    "tags": []
   },
   "outputs": [],
   "source": [
    "pybedtools.cleanup()"
   ]
  },
  {
   "cell_type": "code",
   "execution_count": 20,
   "metadata": {
    "ExecuteTime": {
     "end_time": "2020-01-17T04:52:37.236563Z",
     "start_time": "2020-01-17T04:52:37.218721Z"
    },
    "papermill": {
     "duration": 0.031283,
     "end_time": "2020-01-14T06:47:27.217520",
     "exception": false,
     "start_time": "2020-01-14T06:47:27.186237",
     "status": "completed"
    },
    "tags": []
   },
   "outputs": [
    {
     "data": {
      "text/html": [
       "<div>\n",
       "<style scoped>\n",
       "    .dataframe tbody tr th:only-of-type {\n",
       "        vertical-align: middle;\n",
       "    }\n",
       "\n",
       "    .dataframe tbody tr th {\n",
       "        vertical-align: top;\n",
       "    }\n",
       "\n",
       "    .dataframe thead th {\n",
       "        text-align: right;\n",
       "    }\n",
       "</style>\n",
       "<table border=\"1\" class=\"dataframe\">\n",
       "  <thead>\n",
       "    <tr style=\"text-align: right;\">\n",
       "      <th></th>\n",
       "      <th>oddsratio</th>\n",
       "      <th>p_value</th>\n",
       "      <th>adj_p</th>\n",
       "      <th>-lgp</th>\n",
       "      <th>tp</th>\n",
       "      <th>tn</th>\n",
       "      <th>fp</th>\n",
       "      <th>fn</th>\n",
       "      <th>tp_rate</th>\n",
       "      <th>fp_rate</th>\n",
       "      <th>Group</th>\n",
       "    </tr>\n",
       "  </thead>\n",
       "  <tbody>\n",
       "    <tr>\n",
       "      <th>MA0019.1</th>\n",
       "      <td>1.967807</td>\n",
       "      <td>6.463063e-39</td>\n",
       "      <td>2.733496e-37</td>\n",
       "      <td>36.563282</td>\n",
       "      <td>581.0</td>\n",
       "      <td>67603.0</td>\n",
       "      <td>1440.0</td>\n",
       "      <td>329712.0</td>\n",
       "      <td>0.008521</td>\n",
       "      <td>0.004348</td>\n",
       "      <td>IT-L5+SSp</td>\n",
       "    </tr>\n",
       "    <tr>\n",
       "      <th>MA0025.2</th>\n",
       "      <td>1.548036</td>\n",
       "      <td>5.443138e-24</td>\n",
       "      <td>1.262457e-22</td>\n",
       "      <td>21.898783</td>\n",
       "      <td>761.0</td>\n",
       "      <td>67423.0</td>\n",
       "      <td>2397.0</td>\n",
       "      <td>328755.0</td>\n",
       "      <td>0.011161</td>\n",
       "      <td>0.007238</td>\n",
       "      <td>IT-L5+SSp</td>\n",
       "    </tr>\n",
       "    <tr>\n",
       "      <th>MA0043.3</th>\n",
       "      <td>1.524943</td>\n",
       "      <td>5.447818e-12</td>\n",
       "      <td>5.934820e-11</td>\n",
       "      <td>10.226592</td>\n",
       "      <td>372.0</td>\n",
       "      <td>67812.0</td>\n",
       "      <td>1187.0</td>\n",
       "      <td>329965.0</td>\n",
       "      <td>0.005456</td>\n",
       "      <td>0.003584</td>\n",
       "      <td>IT-L5+SSp</td>\n",
       "    </tr>\n",
       "    <tr>\n",
       "      <th>MA0068.2</th>\n",
       "      <td>1.510865</td>\n",
       "      <td>2.761194e-21</td>\n",
       "      <td>4.963247e-20</td>\n",
       "      <td>19.304234</td>\n",
       "      <td>742.0</td>\n",
       "      <td>67442.0</td>\n",
       "      <td>2394.0</td>\n",
       "      <td>328758.0</td>\n",
       "      <td>0.010882</td>\n",
       "      <td>0.007229</td>\n",
       "      <td>IT-L5+SSp</td>\n",
       "    </tr>\n",
       "    <tr>\n",
       "      <th>MA0072.1</th>\n",
       "      <td>4.726540</td>\n",
       "      <td>9.154748e-240</td>\n",
       "      <td>2.194088e-237</td>\n",
       "      <td>236.658746</td>\n",
       "      <td>989.0</td>\n",
       "      <td>67195.0</td>\n",
       "      <td>1028.0</td>\n",
       "      <td>330124.0</td>\n",
       "      <td>0.014505</td>\n",
       "      <td>0.003104</td>\n",
       "      <td>IT-L5+SSp</td>\n",
       "    </tr>\n",
       "    <tr>\n",
       "      <th>MA0461.2</th>\n",
       "      <td>1.659379</td>\n",
       "      <td>8.677504e-40</td>\n",
       "      <td>3.899453e-38</td>\n",
       "      <td>37.408996</td>\n",
       "      <td>1000.0</td>\n",
       "      <td>67184.0</td>\n",
       "      <td>2944.0</td>\n",
       "      <td>328208.0</td>\n",
       "      <td>0.014666</td>\n",
       "      <td>0.008890</td>\n",
       "      <td>IT-L5+SSp</td>\n",
       "    </tr>\n",
       "    <tr>\n",
       "      <th>MA0507.1</th>\n",
       "      <td>2.102455</td>\n",
       "      <td>7.154867e-88</td>\n",
       "      <td>6.430437e-86</td>\n",
       "      <td>85.191760</td>\n",
       "      <td>1155.0</td>\n",
       "      <td>67029.0</td>\n",
       "      <td>2692.0</td>\n",
       "      <td>328460.0</td>\n",
       "      <td>0.016939</td>\n",
       "      <td>0.008129</td>\n",
       "      <td>IT-L5+SSp</td>\n",
       "    </tr>\n",
       "    <tr>\n",
       "      <th>MA0607.1</th>\n",
       "      <td>1.762326</td>\n",
       "      <td>1.459521e-185</td>\n",
       "      <td>2.623488e-183</td>\n",
       "      <td>182.581121</td>\n",
       "      <td>4098.0</td>\n",
       "      <td>64086.0</td>\n",
       "      <td>11595.0</td>\n",
       "      <td>319557.0</td>\n",
       "      <td>0.060102</td>\n",
       "      <td>0.035014</td>\n",
       "      <td>IT-L5+SSp</td>\n",
       "    </tr>\n",
       "    <tr>\n",
       "      <th>MA0623.2</th>\n",
       "      <td>1.733492</td>\n",
       "      <td>5.573994e-27</td>\n",
       "      <td>1.541424e-25</td>\n",
       "      <td>24.812078</td>\n",
       "      <td>568.0</td>\n",
       "      <td>67616.0</td>\n",
       "      <td>1597.0</td>\n",
       "      <td>329555.0</td>\n",
       "      <td>0.008330</td>\n",
       "      <td>0.004823</td>\n",
       "      <td>IT-L5+SSp</td>\n",
       "    </tr>\n",
       "    <tr>\n",
       "      <th>MA0627.2</th>\n",
       "      <td>1.703695</td>\n",
       "      <td>1.029766e-31</td>\n",
       "      <td>3.219139e-30</td>\n",
       "      <td>29.492260</td>\n",
       "      <td>716.0</td>\n",
       "      <td>67468.0</td>\n",
       "      <td>2050.0</td>\n",
       "      <td>329102.0</td>\n",
       "      <td>0.010501</td>\n",
       "      <td>0.006191</td>\n",
       "      <td>IT-L5+SSp</td>\n",
       "    </tr>\n",
       "    <tr>\n",
       "      <th>MA0633.1</th>\n",
       "      <td>1.627423</td>\n",
       "      <td>5.812917e-46</td>\n",
       "      <td>3.482906e-44</td>\n",
       "      <td>43.458058</td>\n",
       "      <td>1252.0</td>\n",
       "      <td>66932.0</td>\n",
       "      <td>3763.0</td>\n",
       "      <td>327389.0</td>\n",
       "      <td>0.018362</td>\n",
       "      <td>0.011363</td>\n",
       "      <td>IT-L5+SSp</td>\n",
       "    </tr>\n",
       "    <tr>\n",
       "      <th>MA0639.1</th>\n",
       "      <td>1.749861</td>\n",
       "      <td>4.060514e-27</td>\n",
       "      <td>1.167804e-25</td>\n",
       "      <td>24.932630</td>\n",
       "      <td>554.0</td>\n",
       "      <td>67630.0</td>\n",
       "      <td>1543.0</td>\n",
       "      <td>329609.0</td>\n",
       "      <td>0.008125</td>\n",
       "      <td>0.004659</td>\n",
       "      <td>IT-L5+SSp</td>\n",
       "    </tr>\n",
       "    <tr>\n",
       "      <th>MA0668.1</th>\n",
       "      <td>1.553892</td>\n",
       "      <td>3.938620e-18</td>\n",
       "      <td>6.156234e-17</td>\n",
       "      <td>16.210685</td>\n",
       "      <td>550.0</td>\n",
       "      <td>67634.0</td>\n",
       "      <td>1724.0</td>\n",
       "      <td>329428.0</td>\n",
       "      <td>0.008066</td>\n",
       "      <td>0.005206</td>\n",
       "      <td>IT-L5+SSp</td>\n",
       "    </tr>\n",
       "    <tr>\n",
       "      <th>MA0669.1</th>\n",
       "      <td>1.727225</td>\n",
       "      <td>2.743322e-23</td>\n",
       "      <td>5.635568e-22</td>\n",
       "      <td>21.249062</td>\n",
       "      <td>490.0</td>\n",
       "      <td>67694.0</td>\n",
       "      <td>1382.0</td>\n",
       "      <td>329770.0</td>\n",
       "      <td>0.007186</td>\n",
       "      <td>0.004173</td>\n",
       "      <td>IT-L5+SSp</td>\n",
       "    </tr>\n",
       "    <tr>\n",
       "      <th>MA0678.1</th>\n",
       "      <td>1.630673</td>\n",
       "      <td>2.044565e-16</td>\n",
       "      <td>3.062588e-15</td>\n",
       "      <td>14.513911</td>\n",
       "      <td>407.0</td>\n",
       "      <td>67777.0</td>\n",
       "      <td>1215.0</td>\n",
       "      <td>329937.0</td>\n",
       "      <td>0.005969</td>\n",
       "      <td>0.003669</td>\n",
       "      <td>IT-L5+SSp</td>\n",
       "    </tr>\n",
       "    <tr>\n",
       "      <th>MA0784.1</th>\n",
       "      <td>1.980627</td>\n",
       "      <td>1.464502e-23</td>\n",
       "      <td>3.190839e-22</td>\n",
       "      <td>21.496095</td>\n",
       "      <td>334.0</td>\n",
       "      <td>67850.0</td>\n",
       "      <td>821.0</td>\n",
       "      <td>330331.0</td>\n",
       "      <td>0.004899</td>\n",
       "      <td>0.002479</td>\n",
       "      <td>IT-L5+SSp</td>\n",
       "    </tr>\n",
       "    <tr>\n",
       "      <th>MA0785.1</th>\n",
       "      <td>1.958596</td>\n",
       "      <td>4.259495e-45</td>\n",
       "      <td>2.355829e-43</td>\n",
       "      <td>42.627856</td>\n",
       "      <td>687.0</td>\n",
       "      <td>67497.0</td>\n",
       "      <td>1712.0</td>\n",
       "      <td>329440.0</td>\n",
       "      <td>0.010076</td>\n",
       "      <td>0.005170</td>\n",
       "      <td>IT-L5+SSp</td>\n",
       "    </tr>\n",
       "    <tr>\n",
       "      <th>MA0786.1</th>\n",
       "      <td>1.765335</td>\n",
       "      <td>2.663460e-34</td>\n",
       "      <td>9.575139e-33</td>\n",
       "      <td>32.018855</td>\n",
       "      <td>693.0</td>\n",
       "      <td>67491.0</td>\n",
       "      <td>1915.0</td>\n",
       "      <td>329237.0</td>\n",
       "      <td>0.010164</td>\n",
       "      <td>0.005783</td>\n",
       "      <td>IT-L5+SSp</td>\n",
       "    </tr>\n",
       "    <tr>\n",
       "      <th>MA0787.1</th>\n",
       "      <td>1.760961</td>\n",
       "      <td>1.172296e-26</td>\n",
       "      <td>3.121782e-25</td>\n",
       "      <td>24.505597</td>\n",
       "      <td>533.0</td>\n",
       "      <td>67651.0</td>\n",
       "      <td>1475.0</td>\n",
       "      <td>329677.0</td>\n",
       "      <td>0.007817</td>\n",
       "      <td>0.004454</td>\n",
       "      <td>IT-L5+SSp</td>\n",
       "    </tr>\n",
       "    <tr>\n",
       "      <th>MA0788.1</th>\n",
       "      <td>1.904857</td>\n",
       "      <td>6.953242e-34</td>\n",
       "      <td>2.380658e-32</td>\n",
       "      <td>31.623303</td>\n",
       "      <td>547.0</td>\n",
       "      <td>67637.0</td>\n",
       "      <td>1400.0</td>\n",
       "      <td>329752.0</td>\n",
       "      <td>0.008022</td>\n",
       "      <td>0.004228</td>\n",
       "      <td>IT-L5+SSp</td>\n",
       "    </tr>\n",
       "    <tr>\n",
       "      <th>MA0789.1</th>\n",
       "      <td>1.535461</td>\n",
       "      <td>1.102966e-37</td>\n",
       "      <td>4.405735e-36</td>\n",
       "      <td>35.355982</td>\n",
       "      <td>1283.0</td>\n",
       "      <td>66901.0</td>\n",
       "      <td>4085.0</td>\n",
       "      <td>327067.0</td>\n",
       "      <td>0.018817</td>\n",
       "      <td>0.012336</td>\n",
       "      <td>IT-L5+SSp</td>\n",
       "    </tr>\n",
       "    <tr>\n",
       "      <th>MA0818.1</th>\n",
       "      <td>1.597805</td>\n",
       "      <td>5.111929e-30</td>\n",
       "      <td>1.531449e-28</td>\n",
       "      <td>27.814898</td>\n",
       "      <td>853.0</td>\n",
       "      <td>67331.0</td>\n",
       "      <td>2605.0</td>\n",
       "      <td>328547.0</td>\n",
       "      <td>0.012510</td>\n",
       "      <td>0.007866</td>\n",
       "      <td>IT-L5+SSp</td>\n",
       "    </tr>\n",
       "    <tr>\n",
       "      <th>MA0826.1</th>\n",
       "      <td>1.591407</td>\n",
       "      <td>3.794322e-13</td>\n",
       "      <td>4.546862e-12</td>\n",
       "      <td>11.342288</td>\n",
       "      <td>347.0</td>\n",
       "      <td>67837.0</td>\n",
       "      <td>1061.0</td>\n",
       "      <td>330091.0</td>\n",
       "      <td>0.005089</td>\n",
       "      <td>0.003204</td>\n",
       "      <td>IT-L5+SSp</td>\n",
       "    </tr>\n",
       "    <tr>\n",
       "      <th>MA0827.1</th>\n",
       "      <td>1.594809</td>\n",
       "      <td>6.069798e-23</td>\n",
       "      <td>1.179509e-21</td>\n",
       "      <td>20.928299</td>\n",
       "      <td>642.0</td>\n",
       "      <td>67542.0</td>\n",
       "      <td>1962.0</td>\n",
       "      <td>329190.0</td>\n",
       "      <td>0.009416</td>\n",
       "      <td>0.005925</td>\n",
       "      <td>IT-L5+SSp</td>\n",
       "    </tr>\n",
       "    <tr>\n",
       "      <th>MA0843.1</th>\n",
       "      <td>1.658605</td>\n",
       "      <td>2.973274e-13</td>\n",
       "      <td>3.623363e-12</td>\n",
       "      <td>11.440888</td>\n",
       "      <td>300.0</td>\n",
       "      <td>67884.0</td>\n",
       "      <td>880.0</td>\n",
       "      <td>330272.0</td>\n",
       "      <td>0.004400</td>\n",
       "      <td>0.002657</td>\n",
       "      <td>IT-L5+SSp</td>\n",
       "    </tr>\n",
       "    <tr>\n",
       "      <th>MA1109.1</th>\n",
       "      <td>1.658439</td>\n",
       "      <td>6.040400e-77</td>\n",
       "      <td>4.825608e-75</td>\n",
       "      <td>74.316448</td>\n",
       "      <td>2008.0</td>\n",
       "      <td>66176.0</td>\n",
       "      <td>5950.0</td>\n",
       "      <td>325202.0</td>\n",
       "      <td>0.029450</td>\n",
       "      <td>0.017968</td>\n",
       "      <td>IT-L5+SSp</td>\n",
       "    </tr>\n",
       "    <tr>\n",
       "      <th>MA1115.1</th>\n",
       "      <td>1.684683</td>\n",
       "      <td>2.771775e-93</td>\n",
       "      <td>2.847009e-91</td>\n",
       "      <td>90.545611</td>\n",
       "      <td>2322.0</td>\n",
       "      <td>65862.0</td>\n",
       "      <td>6788.0</td>\n",
       "      <td>324364.0</td>\n",
       "      <td>0.034055</td>\n",
       "      <td>0.020498</td>\n",
       "      <td>IT-L5+SSp</td>\n",
       "    </tr>\n",
       "    <tr>\n",
       "      <th>MA1150.1</th>\n",
       "      <td>2.797144</td>\n",
       "      <td>0.000000e+00</td>\n",
       "      <td>0.000000e+00</td>\n",
       "      <td>300.000000</td>\n",
       "      <td>2966.0</td>\n",
       "      <td>65218.0</td>\n",
       "      <td>5298.0</td>\n",
       "      <td>325854.0</td>\n",
       "      <td>0.043500</td>\n",
       "      <td>0.015999</td>\n",
       "      <td>IT-L5+SSp</td>\n",
       "    </tr>\n",
       "    <tr>\n",
       "      <th>MA1151.1</th>\n",
       "      <td>4.251375</td>\n",
       "      <td>0.000000e+00</td>\n",
       "      <td>0.000000e+00</td>\n",
       "      <td>300.000000</td>\n",
       "      <td>2752.0</td>\n",
       "      <td>65432.0</td>\n",
       "      <td>3244.0</td>\n",
       "      <td>327908.0</td>\n",
       "      <td>0.040361</td>\n",
       "      <td>0.009796</td>\n",
       "      <td>IT-L5+SSp</td>\n",
       "    </tr>\n",
       "    <tr>\n",
       "      <th>MA1468.1</th>\n",
       "      <td>1.601241</td>\n",
       "      <td>1.212086e-33</td>\n",
       "      <td>3.961318e-32</td>\n",
       "      <td>31.402160</td>\n",
       "      <td>956.0</td>\n",
       "      <td>67228.0</td>\n",
       "      <td>2915.0</td>\n",
       "      <td>328237.0</td>\n",
       "      <td>0.014021</td>\n",
       "      <td>0.008803</td>\n",
       "      <td>IT-L5+SSp</td>\n",
       "    </tr>\n",
       "    <tr>\n",
       "      <th>MA1642.1</th>\n",
       "      <td>1.563523</td>\n",
       "      <td>6.564181e-100</td>\n",
       "      <td>7.866077e-98</td>\n",
       "      <td>97.104242</td>\n",
       "      <td>3338.0</td>\n",
       "      <td>64846.0</td>\n",
       "      <td>10555.0</td>\n",
       "      <td>320597.0</td>\n",
       "      <td>0.048956</td>\n",
       "      <td>0.031874</td>\n",
       "      <td>IT-L5+SSp</td>\n",
       "    </tr>\n",
       "  </tbody>\n",
       "</table>\n",
       "</div>"
      ],
      "text/plain": [
       "          oddsratio        p_value          adj_p        -lgp      tp  \\\n",
       "MA0019.1   1.967807   6.463063e-39   2.733496e-37   36.563282   581.0   \n",
       "MA0025.2   1.548036   5.443138e-24   1.262457e-22   21.898783   761.0   \n",
       "MA0043.3   1.524943   5.447818e-12   5.934820e-11   10.226592   372.0   \n",
       "MA0068.2   1.510865   2.761194e-21   4.963247e-20   19.304234   742.0   \n",
       "MA0072.1   4.726540  9.154748e-240  2.194088e-237  236.658746   989.0   \n",
       "MA0461.2   1.659379   8.677504e-40   3.899453e-38   37.408996  1000.0   \n",
       "MA0507.1   2.102455   7.154867e-88   6.430437e-86   85.191760  1155.0   \n",
       "MA0607.1   1.762326  1.459521e-185  2.623488e-183  182.581121  4098.0   \n",
       "MA0623.2   1.733492   5.573994e-27   1.541424e-25   24.812078   568.0   \n",
       "MA0627.2   1.703695   1.029766e-31   3.219139e-30   29.492260   716.0   \n",
       "MA0633.1   1.627423   5.812917e-46   3.482906e-44   43.458058  1252.0   \n",
       "MA0639.1   1.749861   4.060514e-27   1.167804e-25   24.932630   554.0   \n",
       "MA0668.1   1.553892   3.938620e-18   6.156234e-17   16.210685   550.0   \n",
       "MA0669.1   1.727225   2.743322e-23   5.635568e-22   21.249062   490.0   \n",
       "MA0678.1   1.630673   2.044565e-16   3.062588e-15   14.513911   407.0   \n",
       "MA0784.1   1.980627   1.464502e-23   3.190839e-22   21.496095   334.0   \n",
       "MA0785.1   1.958596   4.259495e-45   2.355829e-43   42.627856   687.0   \n",
       "MA0786.1   1.765335   2.663460e-34   9.575139e-33   32.018855   693.0   \n",
       "MA0787.1   1.760961   1.172296e-26   3.121782e-25   24.505597   533.0   \n",
       "MA0788.1   1.904857   6.953242e-34   2.380658e-32   31.623303   547.0   \n",
       "MA0789.1   1.535461   1.102966e-37   4.405735e-36   35.355982  1283.0   \n",
       "MA0818.1   1.597805   5.111929e-30   1.531449e-28   27.814898   853.0   \n",
       "MA0826.1   1.591407   3.794322e-13   4.546862e-12   11.342288   347.0   \n",
       "MA0827.1   1.594809   6.069798e-23   1.179509e-21   20.928299   642.0   \n",
       "MA0843.1   1.658605   2.973274e-13   3.623363e-12   11.440888   300.0   \n",
       "MA1109.1   1.658439   6.040400e-77   4.825608e-75   74.316448  2008.0   \n",
       "MA1115.1   1.684683   2.771775e-93   2.847009e-91   90.545611  2322.0   \n",
       "MA1150.1   2.797144   0.000000e+00   0.000000e+00  300.000000  2966.0   \n",
       "MA1151.1   4.251375   0.000000e+00   0.000000e+00  300.000000  2752.0   \n",
       "MA1468.1   1.601241   1.212086e-33   3.961318e-32   31.402160   956.0   \n",
       "MA1642.1   1.563523  6.564181e-100   7.866077e-98   97.104242  3338.0   \n",
       "\n",
       "               tn       fp        fn   tp_rate   fp_rate      Group  \n",
       "MA0019.1  67603.0   1440.0  329712.0  0.008521  0.004348  IT-L5+SSp  \n",
       "MA0025.2  67423.0   2397.0  328755.0  0.011161  0.007238  IT-L5+SSp  \n",
       "MA0043.3  67812.0   1187.0  329965.0  0.005456  0.003584  IT-L5+SSp  \n",
       "MA0068.2  67442.0   2394.0  328758.0  0.010882  0.007229  IT-L5+SSp  \n",
       "MA0072.1  67195.0   1028.0  330124.0  0.014505  0.003104  IT-L5+SSp  \n",
       "MA0461.2  67184.0   2944.0  328208.0  0.014666  0.008890  IT-L5+SSp  \n",
       "MA0507.1  67029.0   2692.0  328460.0  0.016939  0.008129  IT-L5+SSp  \n",
       "MA0607.1  64086.0  11595.0  319557.0  0.060102  0.035014  IT-L5+SSp  \n",
       "MA0623.2  67616.0   1597.0  329555.0  0.008330  0.004823  IT-L5+SSp  \n",
       "MA0627.2  67468.0   2050.0  329102.0  0.010501  0.006191  IT-L5+SSp  \n",
       "MA0633.1  66932.0   3763.0  327389.0  0.018362  0.011363  IT-L5+SSp  \n",
       "MA0639.1  67630.0   1543.0  329609.0  0.008125  0.004659  IT-L5+SSp  \n",
       "MA0668.1  67634.0   1724.0  329428.0  0.008066  0.005206  IT-L5+SSp  \n",
       "MA0669.1  67694.0   1382.0  329770.0  0.007186  0.004173  IT-L5+SSp  \n",
       "MA0678.1  67777.0   1215.0  329937.0  0.005969  0.003669  IT-L5+SSp  \n",
       "MA0784.1  67850.0    821.0  330331.0  0.004899  0.002479  IT-L5+SSp  \n",
       "MA0785.1  67497.0   1712.0  329440.0  0.010076  0.005170  IT-L5+SSp  \n",
       "MA0786.1  67491.0   1915.0  329237.0  0.010164  0.005783  IT-L5+SSp  \n",
       "MA0787.1  67651.0   1475.0  329677.0  0.007817  0.004454  IT-L5+SSp  \n",
       "MA0788.1  67637.0   1400.0  329752.0  0.008022  0.004228  IT-L5+SSp  \n",
       "MA0789.1  66901.0   4085.0  327067.0  0.018817  0.012336  IT-L5+SSp  \n",
       "MA0818.1  67331.0   2605.0  328547.0  0.012510  0.007866  IT-L5+SSp  \n",
       "MA0826.1  67837.0   1061.0  330091.0  0.005089  0.003204  IT-L5+SSp  \n",
       "MA0827.1  67542.0   1962.0  329190.0  0.009416  0.005925  IT-L5+SSp  \n",
       "MA0843.1  67884.0    880.0  330272.0  0.004400  0.002657  IT-L5+SSp  \n",
       "MA1109.1  66176.0   5950.0  325202.0  0.029450  0.017968  IT-L5+SSp  \n",
       "MA1115.1  65862.0   6788.0  324364.0  0.034055  0.020498  IT-L5+SSp  \n",
       "MA1150.1  65218.0   5298.0  325854.0  0.043500  0.015999  IT-L5+SSp  \n",
       "MA1151.1  65432.0   3244.0  327908.0  0.040361  0.009796  IT-L5+SSp  \n",
       "MA1468.1  67228.0   2915.0  328237.0  0.014021  0.008803  IT-L5+SSp  \n",
       "MA1642.1  64846.0  10555.0  320597.0  0.048956  0.031874  IT-L5+SSp  "
      ]
     },
     "execution_count": 20,
     "metadata": {},
     "output_type": "execute_result"
    }
   ],
   "source": [
    "filtered_motif_df"
   ]
  },
  {
   "cell_type": "code",
   "execution_count": null,
   "metadata": {
    "papermill": {
     "duration": 0.011204,
     "end_time": "2020-01-14T06:47:27.239860",
     "exception": false,
     "start_time": "2020-01-14T06:47:27.228656",
     "status": "completed"
    },
    "tags": []
   },
   "outputs": [],
   "source": []
  }
 ],
 "metadata": {
  "hide_input": false,
  "kernelspec": {
   "display_name": "Python 3",
   "language": "python",
   "name": "python3"
  },
  "language_info": {
   "codemirror_mode": {
    "name": "ipython",
    "version": 3
   },
   "file_extension": ".py",
   "mimetype": "text/x-python",
   "name": "python",
   "nbconvert_exporter": "python",
   "pygments_lexer": "ipython3",
   "version": "3.7.3"
  },
  "papermill": {
   "duration": 13.633679,
   "end_time": "2020-01-14T06:47:27.758424",
   "environment_variables": {},
   "exception": null,
   "input_path": "4.MotifEnrichment.ipynb",
   "output_path": "/home/hanliu/project/mouse_rostral_brain/DMR/ITSpatial_by_layer/IT-L6/Recipe/4.MotifEnrichment.IT-L5+SSp.ipynb",
   "parameters": {
    "dmr_hits_path": "/home/hanliu/project/mouse_rostral_brain/DMR/ITSpatial_by_layer/IT-L5/HypoDMR/IT-L5+SSp.DMS1.bed",
    "group": "IT-L5+SSp",
    "mask_quantile_to99": 0.9,
    "motif_hits_path": "/home/hanliu/project/mouse_rostral_brain/DMR/ITSpatial_by_layer/IT-L5/MotifScan.h5ad",
    "neg_lgp_cutoff": 10,
    "or_cutoff": 1.5,
    "output_dir": "/home/hanliu/project/mouse_rostral_brain/DMR/ITSpatial_by_layer/IT-L5/MotifEnrichment"
   },
   "start_time": "2020-01-14T06:47:14.124745",
   "version": "1.0.1"
  },
  "toc": {
   "base_numbering": 1,
   "nav_menu": {},
   "number_sections": true,
   "sideBar": true,
   "skip_h1_title": true,
   "title_cell": "Table of Contents",
   "title_sidebar": "Contents",
   "toc_cell": false,
   "toc_position": {},
   "toc_section_display": true,
   "toc_window_display": true
  }
 },
 "nbformat": 4,
 "nbformat_minor": 2
}
