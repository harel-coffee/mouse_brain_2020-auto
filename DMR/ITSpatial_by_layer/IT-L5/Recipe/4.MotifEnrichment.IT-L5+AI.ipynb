{
 "cells": [
  {
   "cell_type": "markdown",
   "metadata": {
    "papermill": {
     "duration": 0.00998,
     "end_time": "2020-01-14T06:46:11.743873",
     "exception": false,
     "start_time": "2020-01-14T06:46:11.733893",
     "status": "completed"
    },
    "tags": []
   },
   "source": [
    "# Motif Enrichment\n",
    "- The motif hits matrix save the max loglikelyhood score of a motif in that DMR\n",
    "- Before run the motif enrichment, I filter the scores for each motif using cutoff defined by\n",
    "    - `np.quantile(motif_score[motif_score > 0]) * mask_quantile_to99`\n",
    "- This filter will remove hits with low score, which is likely to be false positive\n",
    "- Its likely boosting the significance of real enrichment"
   ]
  },
  {
   "cell_type": "code",
   "execution_count": 1,
   "metadata": {
    "ExecuteTime": {
     "end_time": "2020-01-17T04:52:09.700283Z",
     "start_time": "2020-01-17T04:52:08.996452Z"
    },
    "papermill": {
     "duration": 0.679225,
     "end_time": "2020-01-14T06:46:12.433978",
     "exception": false,
     "start_time": "2020-01-14T06:46:11.754753",
     "status": "completed"
    },
    "tags": []
   },
   "outputs": [],
   "source": [
    "from concurrent.futures import ProcessPoolExecutor, as_completed\n",
    "import anndata\n",
    "import matplotlib.pyplot as plt\n",
    "import numpy as np\n",
    "import pandas as pd\n",
    "import pybedtools\n",
    "import scipy.stats as stats\n",
    "import seaborn as sns\n",
    "from scipy.sparse import csr_matrix\n",
    "from statsmodels.stats.multitest import multipletests\n",
    "import pathlib"
   ]
  },
  {
   "cell_type": "code",
   "execution_count": 2,
   "metadata": {
    "ExecuteTime": {
     "end_time": "2020-01-17T04:52:09.704918Z",
     "start_time": "2020-01-17T04:52:09.702152Z"
    },
    "papermill": {
     "duration": 0.015599,
     "end_time": "2020-01-14T06:46:12.459891",
     "exception": false,
     "start_time": "2020-01-14T06:46:12.444292",
     "status": "completed"
    },
    "tags": [
     "parameters"
    ]
   },
   "outputs": [],
   "source": [
    "mask_quantile_to99 = 0.9\n",
    "or_cutoff = 1.5\n",
    "neg_lgp_cutoff = 10\n",
    "group = 'IT-L23+ACA'\n",
    "\n",
    "motif_hits_path = '/home/hanliu/project/mouse_rostral_brain/DMR/ITSpatial_by_layer/IT-L23/MotifScan.h5ad'\n",
    "dmr_hits_path = f'/home/hanliu/project/mouse_rostral_brain/DMR/ITSpatial_by_layer/IT-L23/HypoDMR/{group}.DMS1.bed'\n",
    "output_dir = '/home/hanliu/project/mouse_rostral_brain/DMR/ITSpatial_by_layer/IT-L23/MotifEnrichment'\n"
   ]
  },
  {
   "cell_type": "code",
   "execution_count": 3,
   "metadata": {
    "ExecuteTime": {
     "end_time": "2020-01-17T04:52:10.336715Z",
     "start_time": "2020-01-17T04:52:09.706130Z"
    },
    "papermill": {
     "duration": 0.01404,
     "end_time": "2020-01-14T06:46:12.482939",
     "exception": false,
     "start_time": "2020-01-14T06:46:12.468899",
     "status": "completed"
    },
    "tags": [
     "injected-parameters"
    ]
   },
   "outputs": [],
   "source": [
    "# Parameters\n",
    "mask_quantile_to99 = 0.9\n",
    "or_cutoff = 1.5\n",
    "neg_lgp_cutoff = 10\n",
    "group = \"IT-L5+AI\"\n",
    "motif_hits_path = \"/home/hanliu/project/mouse_rostral_brain/DMR/ITSpatial_by_layer/IT-L5/MotifScan.h5ad\"\n",
    "dmr_hits_path = \"/home/hanliu/project/mouse_rostral_brain/DMR/ITSpatial_by_layer/IT-L5/HypoDMR/IT-L5+AI.DMS1.bed\"\n",
    "output_dir = \"/home/hanliu/project/mouse_rostral_brain/DMR/ITSpatial_by_layer/IT-L5/MotifEnrichment\"\n"
   ]
  },
  {
   "cell_type": "code",
   "execution_count": 4,
   "metadata": {
    "ExecuteTime": {
     "end_time": "2020-01-17T04:52:10.340204Z",
     "start_time": "2020-01-17T04:52:10.338012Z"
    },
    "papermill": {
     "duration": 0.014529,
     "end_time": "2020-01-14T06:46:12.506804",
     "exception": false,
     "start_time": "2020-01-14T06:46:12.492275",
     "status": "completed"
    },
    "tags": []
   },
   "outputs": [],
   "source": [
    "output_dir = pathlib.Path(output_dir)\n",
    "output_dir.mkdir(exist_ok=True)"
   ]
  },
  {
   "cell_type": "markdown",
   "metadata": {
    "papermill": {
     "duration": 0.009128,
     "end_time": "2020-01-14T06:46:12.525205",
     "exception": false,
     "start_time": "2020-01-14T06:46:12.516077",
     "status": "completed"
    },
    "tags": []
   },
   "source": [
    "## DMR hits"
   ]
  },
  {
   "cell_type": "code",
   "execution_count": 5,
   "metadata": {
    "ExecuteTime": {
     "end_time": "2020-01-17T04:52:10.380029Z",
     "start_time": "2020-01-17T04:52:10.341421Z"
    },
    "papermill": {
     "duration": 0.063054,
     "end_time": "2020-01-14T06:46:12.597507",
     "exception": false,
     "start_time": "2020-01-14T06:46:12.534453",
     "status": "completed"
    },
    "tags": []
   },
   "outputs": [
    {
     "data": {
      "text/html": [
       "<div>\n",
       "<style scoped>\n",
       "    .dataframe tbody tr th:only-of-type {\n",
       "        vertical-align: middle;\n",
       "    }\n",
       "\n",
       "    .dataframe tbody tr th {\n",
       "        vertical-align: top;\n",
       "    }\n",
       "\n",
       "    .dataframe thead th {\n",
       "        text-align: right;\n",
       "    }\n",
       "</style>\n",
       "<table border=\"1\" class=\"dataframe\">\n",
       "  <thead>\n",
       "    <tr style=\"text-align: right;\">\n",
       "      <th></th>\n",
       "      <th>0</th>\n",
       "      <th>1</th>\n",
       "      <th>2</th>\n",
       "    </tr>\n",
       "    <tr>\n",
       "      <th>3</th>\n",
       "      <th></th>\n",
       "      <th></th>\n",
       "      <th></th>\n",
       "    </tr>\n",
       "  </thead>\n",
       "  <tbody>\n",
       "    <tr>\n",
       "      <th>DGm3c_9</th>\n",
       "      <td>chr1</td>\n",
       "      <td>3114936</td>\n",
       "      <td>3115276</td>\n",
       "    </tr>\n",
       "    <tr>\n",
       "      <th>DGm3c_18</th>\n",
       "      <td>chr1</td>\n",
       "      <td>3211017</td>\n",
       "      <td>3211017</td>\n",
       "    </tr>\n",
       "    <tr>\n",
       "      <th>DGm3c_20</th>\n",
       "      <td>chr1</td>\n",
       "      <td>3213139</td>\n",
       "      <td>3213139</td>\n",
       "    </tr>\n",
       "    <tr>\n",
       "      <th>DGm3c_21</th>\n",
       "      <td>chr1</td>\n",
       "      <td>3214603</td>\n",
       "      <td>3214603</td>\n",
       "    </tr>\n",
       "    <tr>\n",
       "      <th>DGm3c_31</th>\n",
       "      <td>chr1</td>\n",
       "      <td>3269697</td>\n",
       "      <td>3269697</td>\n",
       "    </tr>\n",
       "  </tbody>\n",
       "</table>\n",
       "</div>"
      ],
      "text/plain": [
       "             0        1        2\n",
       "3                               \n",
       "DGm3c_9   chr1  3114936  3115276\n",
       "DGm3c_18  chr1  3211017  3211017\n",
       "DGm3c_20  chr1  3213139  3213139\n",
       "DGm3c_21  chr1  3214603  3214603\n",
       "DGm3c_31  chr1  3269697  3269697"
      ]
     },
     "execution_count": 5,
     "metadata": {},
     "output_type": "execute_result"
    }
   ],
   "source": [
    "dmr_bed_df = pd.read_csv(dmr_hits_path, sep='\\t', header=None, index_col=3)\n",
    "dmr_bed_df.head()"
   ]
  },
  {
   "cell_type": "code",
   "execution_count": 6,
   "metadata": {
    "ExecuteTime": {
     "end_time": "2020-01-17T04:52:12.535327Z",
     "start_time": "2020-01-17T04:52:10.381297Z"
    },
    "papermill": {
     "duration": 1.975285,
     "end_time": "2020-01-14T06:46:14.583395",
     "exception": false,
     "start_time": "2020-01-14T06:46:12.608110",
     "status": "completed"
    },
    "tags": []
   },
   "outputs": [
    {
     "data": {
      "text/plain": [
       "AnnData object with n_obs × n_vars = 33931 × 719 \n",
       "    obs: 'chrom', 'start', 'end'"
      ]
     },
     "execution_count": 6,
     "metadata": {},
     "output_type": "execute_result"
    }
   ],
   "source": [
    "motif_hits = anndata.read_h5ad(motif_hits_path)\n",
    "motif_hits = motif_hits[dmr_bed_df.index, :].copy()\n",
    "motif_ids = motif_hits.var_names\n",
    "motif_hits.X = motif_hits.X.todense()\n",
    "motif_hits"
   ]
  },
  {
   "cell_type": "code",
   "execution_count": 7,
   "metadata": {
    "ExecuteTime": {
     "end_time": "2020-01-17T04:52:13.055416Z",
     "start_time": "2020-01-17T04:52:12.537756Z"
    },
    "papermill": {
     "duration": 0.621469,
     "end_time": "2020-01-14T06:46:15.215877",
     "exception": false,
     "start_time": "2020-01-14T06:46:14.594408",
     "status": "completed"
    },
    "tags": []
   },
   "outputs": [],
   "source": [
    "# mask small motif scores\n",
    "motif_cutoff = pd.Series(np.apply_along_axis(lambda i: np.quantile(i[i>0], 0.99) * mask_quantile_to99, \n",
    "                                             0, motif_hits.X),\n",
    "                         index=motif_hits.var_names)\n",
    "# only keep value larger than the cutoff for each motif\n",
    "motif_hits.X = np.multiply(motif_hits.X, (motif_hits.X > motif_cutoff.values[None, :]))"
   ]
  },
  {
   "cell_type": "markdown",
   "metadata": {
    "papermill": {
     "duration": 0.009737,
     "end_time": "2020-01-14T06:46:15.236699",
     "exception": false,
     "start_time": "2020-01-14T06:46:15.226962",
     "status": "completed"
    },
    "tags": []
   },
   "source": [
    "## Background Hits"
   ]
  },
  {
   "cell_type": "code",
   "execution_count": 8,
   "metadata": {
    "ExecuteTime": {
     "end_time": "2020-01-17T04:52:14.417370Z",
     "start_time": "2020-01-17T04:52:13.057398Z"
    },
    "papermill": {
     "duration": 1.12929,
     "end_time": "2020-01-14T06:46:16.375563",
     "exception": false,
     "start_time": "2020-01-14T06:46:15.246273",
     "status": "completed"
    },
    "tags": []
   },
   "outputs": [],
   "source": [
    "background_motif_hits = anndata.read_h5ad(\n",
    "    '/home/hanliu/project/mouse_rostral_brain/DMR/BackgroundDMR/MotifScan.h5ad'\n",
    ")"
   ]
  },
  {
   "cell_type": "code",
   "execution_count": 9,
   "metadata": {
    "ExecuteTime": {
     "end_time": "2020-01-17T04:52:15.585465Z",
     "start_time": "2020-01-17T04:52:14.419245Z"
    },
    "papermill": {
     "duration": 1.015375,
     "end_time": "2020-01-14T06:46:17.402242",
     "exception": false,
     "start_time": "2020-01-14T06:46:16.386867",
     "status": "completed"
    },
    "tags": []
   },
   "outputs": [],
   "source": [
    "dmr_bed = pybedtools.BedTool().from_dataframe(dmr_bed_df)\n",
    "bg_bed = pybedtools.BedTool().from_dataframe(\n",
    "    background_motif_hits.obs.reset_index().iloc[:, [1, 2, 3, 0]])"
   ]
  },
  {
   "cell_type": "code",
   "execution_count": 10,
   "metadata": {
    "ExecuteTime": {
     "end_time": "2020-01-17T04:52:17.308568Z",
     "start_time": "2020-01-17T04:52:15.587076Z"
    },
    "papermill": {
     "duration": 1.565678,
     "end_time": "2020-01-14T06:46:18.978863",
     "exception": false,
     "start_time": "2020-01-14T06:46:17.413185",
     "status": "completed"
    },
    "tags": []
   },
   "outputs": [],
   "source": [
    "# exclude background that overlap with DMR\n",
    "bg_no_overlap = bg_bed.intersect(dmr_bed, v=True)\n",
    "use_bg = bg_no_overlap.to_dataframe().iloc[:, -1].values\n",
    "background_motif_hits = background_motif_hits[use_bg, :]\n",
    "\n",
    "# make sure col in same order\n",
    "background_motif_hits = background_motif_hits[:, motif_ids].copy()"
   ]
  },
  {
   "cell_type": "code",
   "execution_count": 11,
   "metadata": {
    "ExecuteTime": {
     "end_time": "2020-01-17T04:52:19.812313Z",
     "start_time": "2020-01-17T04:52:17.310305Z"
    },
    "papermill": {
     "duration": 2.17204,
     "end_time": "2020-01-14T06:46:21.161399",
     "exception": false,
     "start_time": "2020-01-14T06:46:18.989359",
     "status": "completed"
    },
    "tags": []
   },
   "outputs": [],
   "source": [
    "judge_matrix = csr_matrix(background_motif_hits.X > motif_cutoff.values[None, :])\n",
    "background_motif_hits.X = background_motif_hits.X.multiply(judge_matrix)"
   ]
  },
  {
   "cell_type": "code",
   "execution_count": 12,
   "metadata": {
    "ExecuteTime": {
     "end_time": "2020-01-17T04:52:19.818006Z",
     "start_time": "2020-01-17T04:52:19.814154Z"
    },
    "papermill": {
     "duration": 0.017959,
     "end_time": "2020-01-14T06:46:21.190005",
     "exception": false,
     "start_time": "2020-01-14T06:46:21.172046",
     "status": "completed"
    },
    "tags": []
   },
   "outputs": [
    {
     "data": {
      "text/plain": [
       "AnnData object with n_obs × n_vars = 339454 × 719 \n",
       "    obs: 'chrom', 'start', 'end'"
      ]
     },
     "execution_count": 12,
     "metadata": {},
     "output_type": "execute_result"
    }
   ],
   "source": [
    "background_motif_hits"
   ]
  },
  {
   "cell_type": "markdown",
   "metadata": {
    "papermill": {
     "duration": 0.009959,
     "end_time": "2020-01-14T06:46:21.210091",
     "exception": false,
     "start_time": "2020-01-14T06:46:21.200132",
     "status": "completed"
    },
    "tags": []
   },
   "source": [
    "## Motif hits contingency table"
   ]
  },
  {
   "cell_type": "code",
   "execution_count": 13,
   "metadata": {
    "ExecuteTime": {
     "end_time": "2020-01-17T04:52:20.087506Z",
     "start_time": "2020-01-17T04:52:19.819386Z"
    },
    "papermill": {
     "duration": 0.222393,
     "end_time": "2020-01-14T06:46:21.442633",
     "exception": false,
     "start_time": "2020-01-14T06:46:21.220240",
     "status": "completed"
    },
    "tags": []
   },
   "outputs": [],
   "source": [
    "# calculate motif occurence, not considering hits here\n",
    "pos = (motif_hits.X > 0).sum(axis=0)\n",
    "pos_total = motif_hits.shape[0]\n",
    "\n",
    "neg = (background_motif_hits.X > 0).sum(axis=0)\n",
    "neg_total = background_motif_hits.shape[0]"
   ]
  },
  {
   "cell_type": "code",
   "execution_count": 14,
   "metadata": {
    "ExecuteTime": {
     "end_time": "2020-01-17T04:52:20.093665Z",
     "start_time": "2020-01-17T04:52:20.088933Z"
    },
    "papermill": {
     "duration": 0.064952,
     "end_time": "2020-01-14T06:46:21.518373",
     "exception": false,
     "start_time": "2020-01-14T06:46:21.453421",
     "status": "completed"
    },
    "scrolled": true,
    "tags": []
   },
   "outputs": [],
   "source": [
    "tables = {}\n",
    "for motif, _pos, _neg in zip(motif_ids, pos.A1, neg.A1):\n",
    "    table = [[_pos, pos_total - _pos], [_neg, neg_total - _neg]]\n",
    "    tables[motif] = table"
   ]
  },
  {
   "cell_type": "code",
   "execution_count": 15,
   "metadata": {
    "ExecuteTime": {
     "end_time": "2020-01-17T04:52:20.661466Z",
     "start_time": "2020-01-17T04:52:20.095186Z"
    },
    "papermill": {
     "duration": 0.987417,
     "end_time": "2020-01-14T06:46:22.515991",
     "exception": false,
     "start_time": "2020-01-14T06:46:21.528574",
     "status": "completed"
    },
    "tags": []
   },
   "outputs": [],
   "source": [
    "results = {}\n",
    "with ProcessPoolExecutor(20) as executor:\n",
    "    fs = {}\n",
    "    for motif, t in tables.items():\n",
    "        f = executor.submit(stats.fisher_exact, t, alternative='greater')\n",
    "        fs[f] = motif\n",
    "\n",
    "    for f in as_completed(fs):\n",
    "        motif = fs[f]\n",
    "        odds, p = f.result()\n",
    "        results[motif] = {'oddsratio': odds, 'p_value': p}\n",
    "motif_enrich_df = pd.DataFrame(results).T\n",
    "\n",
    "_, p, _, _ = multipletests(motif_enrich_df['p_value'], method='fdr_bh')\n",
    "motif_enrich_df['adj_p'] = p\n",
    "\n",
    "motif_enrich_df['-lgp'] = -np.log10(motif_enrich_df['adj_p']).replace(\n",
    "    -np.inf, -300)\n",
    "\n",
    "records = {}\n",
    "for motif, t in tables.items():\n",
    "    tp, tn = t[0]\n",
    "    fp, fn = t[1]\n",
    "    tp_rate = tp / pos_total\n",
    "    fp_rate = fp / neg_total\n",
    "    records[motif] = dict(tp=tp,\n",
    "                          tn=tn,\n",
    "                          fp=fp,\n",
    "                          fn=fn,\n",
    "                          tp_rate=tp_rate,\n",
    "                          fp_rate=fp_rate)\n",
    "counts = pd.DataFrame(records).T\n",
    "motif_enrich_df = pd.concat([motif_enrich_df, counts], axis=1, sort=True)"
   ]
  },
  {
   "cell_type": "code",
   "execution_count": 16,
   "metadata": {
    "ExecuteTime": {
     "end_time": "2020-01-17T04:52:20.665840Z",
     "start_time": "2020-01-17T04:52:20.663062Z"
    },
    "papermill": {
     "duration": 0.016175,
     "end_time": "2020-01-14T06:46:22.543297",
     "exception": false,
     "start_time": "2020-01-14T06:46:22.527122",
     "status": "completed"
    },
    "tags": []
   },
   "outputs": [],
   "source": [
    "motif_enrich_df['Group'] = group"
   ]
  },
  {
   "cell_type": "code",
   "execution_count": 17,
   "metadata": {
    "ExecuteTime": {
     "end_time": "2020-01-17T04:52:20.672368Z",
     "start_time": "2020-01-17T04:52:20.667078Z"
    },
    "papermill": {
     "duration": 0.018493,
     "end_time": "2020-01-14T06:46:22.571913",
     "exception": false,
     "start_time": "2020-01-14T06:46:22.553420",
     "status": "completed"
    },
    "tags": []
   },
   "outputs": [
    {
     "data": {
      "text/plain": [
       "42"
      ]
     },
     "execution_count": 17,
     "metadata": {},
     "output_type": "execute_result"
    }
   ],
   "source": [
    "# final filter\n",
    "filtered_motif_df = motif_enrich_df[(motif_enrich_df['oddsratio'] > or_cutoff)\n",
    "                                    &\n",
    "                                    (motif_enrich_df['-lgp'] > neg_lgp_cutoff)]\n",
    "filtered_motif_df.shape[0]"
   ]
  },
  {
   "cell_type": "code",
   "execution_count": 18,
   "metadata": {
    "ExecuteTime": {
     "end_time": "2020-01-17T04:52:20.677264Z",
     "start_time": "2020-01-17T04:52:20.673496Z"
    },
    "papermill": {
     "duration": 0.017268,
     "end_time": "2020-01-14T06:46:22.599192",
     "exception": false,
     "start_time": "2020-01-14T06:46:22.581924",
     "status": "completed"
    },
    "tags": []
   },
   "outputs": [
    {
     "name": "stderr",
     "output_type": "stream",
     "text": [
      "/home/hanliu/miniconda3/envs/clustering/lib/python3.7/site-packages/ipykernel_launcher.py:1: FutureWarning: to_msgpack is deprecated and will be removed in a future version.\n",
      "It is recommended to use pyarrow for on-the-wire transmission of pandas objects.\n",
      "  \"\"\"Entry point for launching an IPython kernel.\n"
     ]
    }
   ],
   "source": [
    "motif_enrich_df.to_msgpack(output_dir / f'{group}.motif_enrichment.msg')"
   ]
  },
  {
   "cell_type": "code",
   "execution_count": 19,
   "metadata": {
    "ExecuteTime": {
     "end_time": "2020-01-17T04:52:20.685333Z",
     "start_time": "2020-01-17T04:52:20.678446Z"
    },
    "papermill": {
     "duration": 0.021387,
     "end_time": "2020-01-14T06:46:22.630723",
     "exception": false,
     "start_time": "2020-01-14T06:46:22.609336",
     "status": "completed"
    },
    "tags": []
   },
   "outputs": [],
   "source": [
    "pybedtools.cleanup()"
   ]
  },
  {
   "cell_type": "code",
   "execution_count": 20,
   "metadata": {
    "ExecuteTime": {
     "end_time": "2020-01-17T04:52:20.708529Z",
     "start_time": "2020-01-17T04:52:20.686543Z"
    },
    "papermill": {
     "duration": 0.034946,
     "end_time": "2020-01-14T06:46:22.676548",
     "exception": false,
     "start_time": "2020-01-14T06:46:22.641602",
     "status": "completed"
    },
    "tags": []
   },
   "outputs": [
    {
     "data": {
      "text/html": [
       "<div>\n",
       "<style scoped>\n",
       "    .dataframe tbody tr th:only-of-type {\n",
       "        vertical-align: middle;\n",
       "    }\n",
       "\n",
       "    .dataframe tbody tr th {\n",
       "        vertical-align: top;\n",
       "    }\n",
       "\n",
       "    .dataframe thead th {\n",
       "        text-align: right;\n",
       "    }\n",
       "</style>\n",
       "<table border=\"1\" class=\"dataframe\">\n",
       "  <thead>\n",
       "    <tr style=\"text-align: right;\">\n",
       "      <th></th>\n",
       "      <th>oddsratio</th>\n",
       "      <th>p_value</th>\n",
       "      <th>adj_p</th>\n",
       "      <th>-lgp</th>\n",
       "      <th>tp</th>\n",
       "      <th>tn</th>\n",
       "      <th>fp</th>\n",
       "      <th>fn</th>\n",
       "      <th>tp_rate</th>\n",
       "      <th>fp_rate</th>\n",
       "      <th>Group</th>\n",
       "    </tr>\n",
       "  </thead>\n",
       "  <tbody>\n",
       "    <tr>\n",
       "      <th>MA0052.4</th>\n",
       "      <td>3.072571</td>\n",
       "      <td>2.343033e-122</td>\n",
       "      <td>1.295877e-120</td>\n",
       "      <td>119.887436</td>\n",
       "      <td>719.0</td>\n",
       "      <td>33212.0</td>\n",
       "      <td>2375.0</td>\n",
       "      <td>337079.0</td>\n",
       "      <td>0.021190</td>\n",
       "      <td>0.006997</td>\n",
       "      <td>IT-L5+AI</td>\n",
       "    </tr>\n",
       "    <tr>\n",
       "      <th>MA0091.1</th>\n",
       "      <td>2.390767</td>\n",
       "      <td>1.300614e-67</td>\n",
       "      <td>3.463486e-66</td>\n",
       "      <td>65.460487</td>\n",
       "      <td>597.0</td>\n",
       "      <td>33334.0</td>\n",
       "      <td>2524.0</td>\n",
       "      <td>336930.0</td>\n",
       "      <td>0.017595</td>\n",
       "      <td>0.007435</td>\n",
       "      <td>IT-L5+AI</td>\n",
       "    </tr>\n",
       "    <tr>\n",
       "      <th>MA0461.2</th>\n",
       "      <td>3.274182</td>\n",
       "      <td>5.074017e-176</td>\n",
       "      <td>1.216073e-173</td>\n",
       "      <td>172.915040</td>\n",
       "      <td>954.0</td>\n",
       "      <td>32977.0</td>\n",
       "      <td>2973.0</td>\n",
       "      <td>336481.0</td>\n",
       "      <td>0.028116</td>\n",
       "      <td>0.008758</td>\n",
       "      <td>IT-L5+AI</td>\n",
       "    </tr>\n",
       "    <tr>\n",
       "      <th>MA0497.1</th>\n",
       "      <td>3.185405</td>\n",
       "      <td>1.833178e-146</td>\n",
       "      <td>1.882936e-144</td>\n",
       "      <td>143.725165</td>\n",
       "      <td>821.0</td>\n",
       "      <td>33110.0</td>\n",
       "      <td>2622.0</td>\n",
       "      <td>336832.0</td>\n",
       "      <td>0.024196</td>\n",
       "      <td>0.007724</td>\n",
       "      <td>IT-L5+AI</td>\n",
       "    </tr>\n",
       "    <tr>\n",
       "      <th>MA0509.2</th>\n",
       "      <td>4.836696</td>\n",
       "      <td>3.781457e-126</td>\n",
       "      <td>2.471698e-124</td>\n",
       "      <td>123.607005</td>\n",
       "      <td>435.0</td>\n",
       "      <td>33496.0</td>\n",
       "      <td>909.0</td>\n",
       "      <td>338545.0</td>\n",
       "      <td>0.012820</td>\n",
       "      <td>0.002678</td>\n",
       "      <td>IT-L5+AI</td>\n",
       "    </tr>\n",
       "    <tr>\n",
       "      <th>MA0510.2</th>\n",
       "      <td>4.178169</td>\n",
       "      <td>1.514663e-34</td>\n",
       "      <td>3.300129e-33</td>\n",
       "      <td>32.481469</td>\n",
       "      <td>132.0</td>\n",
       "      <td>33799.0</td>\n",
       "      <td>317.0</td>\n",
       "      <td>339137.0</td>\n",
       "      <td>0.003890</td>\n",
       "      <td>0.000934</td>\n",
       "      <td>IT-L5+AI</td>\n",
       "    </tr>\n",
       "    <tr>\n",
       "      <th>MA0600.2</th>\n",
       "      <td>4.282289</td>\n",
       "      <td>6.474926e-36</td>\n",
       "      <td>1.454835e-34</td>\n",
       "      <td>33.837186</td>\n",
       "      <td>134.0</td>\n",
       "      <td>33797.0</td>\n",
       "      <td>314.0</td>\n",
       "      <td>339140.0</td>\n",
       "      <td>0.003949</td>\n",
       "      <td>0.000925</td>\n",
       "      <td>IT-L5+AI</td>\n",
       "    </tr>\n",
       "    <tr>\n",
       "      <th>MA0601.1</th>\n",
       "      <td>1.570433</td>\n",
       "      <td>1.073051e-26</td>\n",
       "      <td>2.143121e-25</td>\n",
       "      <td>24.668953</td>\n",
       "      <td>730.0</td>\n",
       "      <td>33201.0</td>\n",
       "      <td>4687.0</td>\n",
       "      <td>334767.0</td>\n",
       "      <td>0.021514</td>\n",
       "      <td>0.013807</td>\n",
       "      <td>IT-L5+AI</td>\n",
       "    </tr>\n",
       "    <tr>\n",
       "      <th>MA0602.1</th>\n",
       "      <td>1.662876</td>\n",
       "      <td>8.428756e-18</td>\n",
       "      <td>1.236791e-16</td>\n",
       "      <td>15.907704</td>\n",
       "      <td>374.0</td>\n",
       "      <td>33557.0</td>\n",
       "      <td>2260.0</td>\n",
       "      <td>337194.0</td>\n",
       "      <td>0.011022</td>\n",
       "      <td>0.006658</td>\n",
       "      <td>IT-L5+AI</td>\n",
       "    </tr>\n",
       "    <tr>\n",
       "      <th>MA0606.1</th>\n",
       "      <td>1.515267</td>\n",
       "      <td>2.306918e-68</td>\n",
       "      <td>6.379516e-67</td>\n",
       "      <td>66.195212</td>\n",
       "      <td>2372.0</td>\n",
       "      <td>31559.0</td>\n",
       "      <td>16042.0</td>\n",
       "      <td>323412.0</td>\n",
       "      <td>0.069907</td>\n",
       "      <td>0.047258</td>\n",
       "      <td>IT-L5+AI</td>\n",
       "    </tr>\n",
       "    <tr>\n",
       "      <th>MA0607.1</th>\n",
       "      <td>2.254308</td>\n",
       "      <td>1.544573e-242</td>\n",
       "      <td>5.552741e-240</td>\n",
       "      <td>239.255493</td>\n",
       "      <td>2558.0</td>\n",
       "      <td>31373.0</td>\n",
       "      <td>11849.0</td>\n",
       "      <td>327605.0</td>\n",
       "      <td>0.075388</td>\n",
       "      <td>0.034906</td>\n",
       "      <td>IT-L5+AI</td>\n",
       "    </tr>\n",
       "    <tr>\n",
       "      <th>MA0610.1</th>\n",
       "      <td>1.874264</td>\n",
       "      <td>4.097762e-21</td>\n",
       "      <td>6.404980e-20</td>\n",
       "      <td>19.193482</td>\n",
       "      <td>308.0</td>\n",
       "      <td>33623.0</td>\n",
       "      <td>1651.0</td>\n",
       "      <td>337803.0</td>\n",
       "      <td>0.009077</td>\n",
       "      <td>0.004864</td>\n",
       "      <td>IT-L5+AI</td>\n",
       "    </tr>\n",
       "    <tr>\n",
       "      <th>MA0619.1</th>\n",
       "      <td>1.877155</td>\n",
       "      <td>9.041344e-311</td>\n",
       "      <td>6.500726e-308</td>\n",
       "      <td>307.187038</td>\n",
       "      <td>5524.0</td>\n",
       "      <td>28407.0</td>\n",
       "      <td>31864.0</td>\n",
       "      <td>307590.0</td>\n",
       "      <td>0.162801</td>\n",
       "      <td>0.093868</td>\n",
       "      <td>IT-L5+AI</td>\n",
       "    </tr>\n",
       "    <tr>\n",
       "      <th>MA0623.2</th>\n",
       "      <td>3.173068</td>\n",
       "      <td>8.936445e-135</td>\n",
       "      <td>6.425304e-133</td>\n",
       "      <td>132.192106</td>\n",
       "      <td>758.0</td>\n",
       "      <td>33173.0</td>\n",
       "      <td>2427.0</td>\n",
       "      <td>337027.0</td>\n",
       "      <td>0.022339</td>\n",
       "      <td>0.007150</td>\n",
       "      <td>IT-L5+AI</td>\n",
       "    </tr>\n",
       "    <tr>\n",
       "      <th>MA0624.1</th>\n",
       "      <td>1.509330</td>\n",
       "      <td>2.004334e-99</td>\n",
       "      <td>8.477152e-98</td>\n",
       "      <td>97.071750</td>\n",
       "      <td>3661.0</td>\n",
       "      <td>30270.0</td>\n",
       "      <td>25183.0</td>\n",
       "      <td>314271.0</td>\n",
       "      <td>0.107895</td>\n",
       "      <td>0.074187</td>\n",
       "      <td>IT-L5+AI</td>\n",
       "    </tr>\n",
       "    <tr>\n",
       "      <th>MA0625.1</th>\n",
       "      <td>1.622116</td>\n",
       "      <td>2.468990e-70</td>\n",
       "      <td>7.100816e-69</td>\n",
       "      <td>68.148692</td>\n",
       "      <td>1819.0</td>\n",
       "      <td>32112.0</td>\n",
       "      <td>11454.0</td>\n",
       "      <td>328000.0</td>\n",
       "      <td>0.053609</td>\n",
       "      <td>0.033742</td>\n",
       "      <td>IT-L5+AI</td>\n",
       "    </tr>\n",
       "    <tr>\n",
       "      <th>MA0633.1</th>\n",
       "      <td>2.962496</td>\n",
       "      <td>4.106104e-157</td>\n",
       "      <td>4.920481e-155</td>\n",
       "      <td>154.307992</td>\n",
       "      <td>982.0</td>\n",
       "      <td>32949.0</td>\n",
       "      <td>3381.0</td>\n",
       "      <td>336073.0</td>\n",
       "      <td>0.028941</td>\n",
       "      <td>0.009960</td>\n",
       "      <td>IT-L5+AI</td>\n",
       "    </tr>\n",
       "    <tr>\n",
       "      <th>MA0660.1</th>\n",
       "      <td>2.364663</td>\n",
       "      <td>2.622892e-29</td>\n",
       "      <td>5.388169e-28</td>\n",
       "      <td>27.268559</td>\n",
       "      <td>253.0</td>\n",
       "      <td>33678.0</td>\n",
       "      <td>1075.0</td>\n",
       "      <td>338379.0</td>\n",
       "      <td>0.007456</td>\n",
       "      <td>0.003167</td>\n",
       "      <td>IT-L5+AI</td>\n",
       "    </tr>\n",
       "    <tr>\n",
       "      <th>MA0668.1</th>\n",
       "      <td>3.452841</td>\n",
       "      <td>1.544447e-105</td>\n",
       "      <td>6.940361e-104</td>\n",
       "      <td>103.158618</td>\n",
       "      <td>526.0</td>\n",
       "      <td>33405.0</td>\n",
       "      <td>1541.0</td>\n",
       "      <td>337913.0</td>\n",
       "      <td>0.015502</td>\n",
       "      <td>0.004540</td>\n",
       "      <td>IT-L5+AI</td>\n",
       "    </tr>\n",
       "    <tr>\n",
       "      <th>MA0669.1</th>\n",
       "      <td>3.038864</td>\n",
       "      <td>2.655373e-72</td>\n",
       "      <td>7.955056e-71</td>\n",
       "      <td>70.099357</td>\n",
       "      <td>425.0</td>\n",
       "      <td>33506.0</td>\n",
       "      <td>1411.0</td>\n",
       "      <td>338043.0</td>\n",
       "      <td>0.012525</td>\n",
       "      <td>0.004157</td>\n",
       "      <td>IT-L5+AI</td>\n",
       "    </tr>\n",
       "    <tr>\n",
       "      <th>MA0678.1</th>\n",
       "      <td>3.920305</td>\n",
       "      <td>2.237886e-94</td>\n",
       "      <td>8.468631e-93</td>\n",
       "      <td>92.072187</td>\n",
       "      <td>402.0</td>\n",
       "      <td>33529.0</td>\n",
       "      <td>1035.0</td>\n",
       "      <td>338419.0</td>\n",
       "      <td>0.011848</td>\n",
       "      <td>0.003049</td>\n",
       "      <td>IT-L5+AI</td>\n",
       "    </tr>\n",
       "    <tr>\n",
       "      <th>MA0681.2</th>\n",
       "      <td>1.981018</td>\n",
       "      <td>2.372500e-22</td>\n",
       "      <td>3.790728e-21</td>\n",
       "      <td>20.421277</td>\n",
       "      <td>282.0</td>\n",
       "      <td>33649.0</td>\n",
       "      <td>1430.0</td>\n",
       "      <td>338024.0</td>\n",
       "      <td>0.008311</td>\n",
       "      <td>0.004213</td>\n",
       "      <td>IT-L5+AI</td>\n",
       "    </tr>\n",
       "    <tr>\n",
       "      <th>MA0713.1</th>\n",
       "      <td>1.830454</td>\n",
       "      <td>9.550856e-14</td>\n",
       "      <td>1.226262e-12</td>\n",
       "      <td>11.911417</td>\n",
       "      <td>204.0</td>\n",
       "      <td>33727.0</td>\n",
       "      <td>1118.0</td>\n",
       "      <td>338336.0</td>\n",
       "      <td>0.006012</td>\n",
       "      <td>0.003294</td>\n",
       "      <td>IT-L5+AI</td>\n",
       "    </tr>\n",
       "    <tr>\n",
       "      <th>MA0773.1</th>\n",
       "      <td>2.277239</td>\n",
       "      <td>1.133271e-24</td>\n",
       "      <td>1.940052e-23</td>\n",
       "      <td>22.712187</td>\n",
       "      <td>227.0</td>\n",
       "      <td>33704.0</td>\n",
       "      <td>1001.0</td>\n",
       "      <td>338453.0</td>\n",
       "      <td>0.006690</td>\n",
       "      <td>0.002949</td>\n",
       "      <td>IT-L5+AI</td>\n",
       "    </tr>\n",
       "    <tr>\n",
       "      <th>MA0798.2</th>\n",
       "      <td>4.839956</td>\n",
       "      <td>5.696198e-120</td>\n",
       "      <td>2.925405e-118</td>\n",
       "      <td>117.533814</td>\n",
       "      <td>413.0</td>\n",
       "      <td>33518.0</td>\n",
       "      <td>862.0</td>\n",
       "      <td>338592.0</td>\n",
       "      <td>0.012172</td>\n",
       "      <td>0.002539</td>\n",
       "      <td>IT-L5+AI</td>\n",
       "    </tr>\n",
       "    <tr>\n",
       "      <th>MA0799.1</th>\n",
       "      <td>4.628247</td>\n",
       "      <td>2.624646e-65</td>\n",
       "      <td>6.739717e-64</td>\n",
       "      <td>63.171358</td>\n",
       "      <td>231.0</td>\n",
       "      <td>33700.0</td>\n",
       "      <td>502.0</td>\n",
       "      <td>338952.0</td>\n",
       "      <td>0.006808</td>\n",
       "      <td>0.001479</td>\n",
       "      <td>IT-L5+AI</td>\n",
       "    </tr>\n",
       "    <tr>\n",
       "      <th>MA0817.1</th>\n",
       "      <td>3.789341</td>\n",
       "      <td>4.349071e-87</td>\n",
       "      <td>1.563491e-85</td>\n",
       "      <td>84.805905</td>\n",
       "      <td>385.0</td>\n",
       "      <td>33546.0</td>\n",
       "      <td>1025.0</td>\n",
       "      <td>338429.0</td>\n",
       "      <td>0.011347</td>\n",
       "      <td>0.003020</td>\n",
       "      <td>IT-L5+AI</td>\n",
       "    </tr>\n",
       "    <tr>\n",
       "      <th>MA0818.1</th>\n",
       "      <td>3.294114</td>\n",
       "      <td>3.393502e-158</td>\n",
       "      <td>4.879855e-156</td>\n",
       "      <td>155.311593</td>\n",
       "      <td>848.0</td>\n",
       "      <td>33083.0</td>\n",
       "      <td>2621.0</td>\n",
       "      <td>336833.0</td>\n",
       "      <td>0.024992</td>\n",
       "      <td>0.007721</td>\n",
       "      <td>IT-L5+AI</td>\n",
       "    </tr>\n",
       "    <tr>\n",
       "      <th>MA0826.1</th>\n",
       "      <td>3.671872</td>\n",
       "      <td>1.350522e-84</td>\n",
       "      <td>4.413751e-83</td>\n",
       "      <td>82.355192</td>\n",
       "      <td>388.0</td>\n",
       "      <td>33543.0</td>\n",
       "      <td>1066.0</td>\n",
       "      <td>338388.0</td>\n",
       "      <td>0.011435</td>\n",
       "      <td>0.003140</td>\n",
       "      <td>IT-L5+AI</td>\n",
       "    </tr>\n",
       "    <tr>\n",
       "      <th>MA0827.1</th>\n",
       "      <td>3.659554</td>\n",
       "      <td>5.953646e-135</td>\n",
       "      <td>4.756302e-133</td>\n",
       "      <td>132.322731</td>\n",
       "      <td>629.0</td>\n",
       "      <td>33302.0</td>\n",
       "      <td>1743.0</td>\n",
       "      <td>337711.0</td>\n",
       "      <td>0.018538</td>\n",
       "      <td>0.005135</td>\n",
       "      <td>IT-L5+AI</td>\n",
       "    </tr>\n",
       "    <tr>\n",
       "      <th>MA0901.2</th>\n",
       "      <td>1.715171</td>\n",
       "      <td>3.394144e-18</td>\n",
       "      <td>5.192319e-17</td>\n",
       "      <td>16.284639</td>\n",
       "      <td>344.0</td>\n",
       "      <td>33587.0</td>\n",
       "      <td>2015.0</td>\n",
       "      <td>337439.0</td>\n",
       "      <td>0.010138</td>\n",
       "      <td>0.005936</td>\n",
       "      <td>IT-L5+AI</td>\n",
       "    </tr>\n",
       "    <tr>\n",
       "      <th>MA1109.1</th>\n",
       "      <td>2.069641</td>\n",
       "      <td>2.992927e-99</td>\n",
       "      <td>1.195508e-97</td>\n",
       "      <td>96.922448</td>\n",
       "      <td>1225.0</td>\n",
       "      <td>32706.0</td>\n",
       "      <td>6034.0</td>\n",
       "      <td>333420.0</td>\n",
       "      <td>0.036103</td>\n",
       "      <td>0.017776</td>\n",
       "      <td>IT-L5+AI</td>\n",
       "    </tr>\n",
       "    <tr>\n",
       "      <th>MA1468.1</th>\n",
       "      <td>3.226960</td>\n",
       "      <td>1.561659e-168</td>\n",
       "      <td>2.807083e-166</td>\n",
       "      <td>165.551745</td>\n",
       "      <td>931.0</td>\n",
       "      <td>33000.0</td>\n",
       "      <td>2942.0</td>\n",
       "      <td>336512.0</td>\n",
       "      <td>0.027438</td>\n",
       "      <td>0.008667</td>\n",
       "      <td>IT-L5+AI</td>\n",
       "    </tr>\n",
       "    <tr>\n",
       "      <th>MA1478.1</th>\n",
       "      <td>1.544030</td>\n",
       "      <td>1.437034e-14</td>\n",
       "      <td>1.949486e-13</td>\n",
       "      <td>12.710080</td>\n",
       "      <td>399.0</td>\n",
       "      <td>33532.0</td>\n",
       "      <td>2596.0</td>\n",
       "      <td>336858.0</td>\n",
       "      <td>0.011759</td>\n",
       "      <td>0.007648</td>\n",
       "      <td>IT-L5+AI</td>\n",
       "    </tr>\n",
       "    <tr>\n",
       "      <th>MA1479.1</th>\n",
       "      <td>1.921749</td>\n",
       "      <td>3.305425e-17</td>\n",
       "      <td>4.660001e-16</td>\n",
       "      <td>15.331614</td>\n",
       "      <td>229.0</td>\n",
       "      <td>33702.0</td>\n",
       "      <td>1196.0</td>\n",
       "      <td>338258.0</td>\n",
       "      <td>0.006749</td>\n",
       "      <td>0.003523</td>\n",
       "      <td>IT-L5+AI</td>\n",
       "    </tr>\n",
       "    <tr>\n",
       "      <th>MA1524.1</th>\n",
       "      <td>1.820481</td>\n",
       "      <td>7.713345e-46</td>\n",
       "      <td>1.788998e-44</td>\n",
       "      <td>43.747390</td>\n",
       "      <td>773.0</td>\n",
       "      <td>33158.0</td>\n",
       "      <td>4292.0</td>\n",
       "      <td>335162.0</td>\n",
       "      <td>0.022782</td>\n",
       "      <td>0.012644</td>\n",
       "      <td>IT-L5+AI</td>\n",
       "    </tr>\n",
       "    <tr>\n",
       "      <th>MA1525.1</th>\n",
       "      <td>1.524224</td>\n",
       "      <td>6.428828e-58</td>\n",
       "      <td>1.593906e-56</td>\n",
       "      <td>55.797537</td>\n",
       "      <td>1926.0</td>\n",
       "      <td>32005.0</td>\n",
       "      <td>12893.0</td>\n",
       "      <td>326561.0</td>\n",
       "      <td>0.056762</td>\n",
       "      <td>0.037982</td>\n",
       "      <td>IT-L5+AI</td>\n",
       "    </tr>\n",
       "    <tr>\n",
       "      <th>MA1568.1</th>\n",
       "      <td>3.648163</td>\n",
       "      <td>2.472425e-52</td>\n",
       "      <td>5.925578e-51</td>\n",
       "      <td>50.227269</td>\n",
       "      <td>238.0</td>\n",
       "      <td>33693.0</td>\n",
       "      <td>656.0</td>\n",
       "      <td>338798.0</td>\n",
       "      <td>0.007014</td>\n",
       "      <td>0.001933</td>\n",
       "      <td>IT-L5+AI</td>\n",
       "    </tr>\n",
       "    <tr>\n",
       "      <th>MA1570.1</th>\n",
       "      <td>2.111357</td>\n",
       "      <td>1.738675e-123</td>\n",
       "      <td>1.041756e-121</td>\n",
       "      <td>120.982234</td>\n",
       "      <td>1466.0</td>\n",
       "      <td>32465.0</td>\n",
       "      <td>7108.0</td>\n",
       "      <td>332346.0</td>\n",
       "      <td>0.043205</td>\n",
       "      <td>0.020940</td>\n",
       "      <td>IT-L5+AI</td>\n",
       "    </tr>\n",
       "    <tr>\n",
       "      <th>MA1638.1</th>\n",
       "      <td>1.531754</td>\n",
       "      <td>9.236794e-114</td>\n",
       "      <td>4.427503e-112</td>\n",
       "      <td>111.353841</td>\n",
       "      <td>3962.0</td>\n",
       "      <td>29969.0</td>\n",
       "      <td>26970.0</td>\n",
       "      <td>312484.0</td>\n",
       "      <td>0.116766</td>\n",
       "      <td>0.079451</td>\n",
       "      <td>IT-L5+AI</td>\n",
       "    </tr>\n",
       "    <tr>\n",
       "      <th>MA1642.1</th>\n",
       "      <td>1.936872</td>\n",
       "      <td>1.512939e-136</td>\n",
       "      <td>1.359754e-134</td>\n",
       "      <td>133.866540</td>\n",
       "      <td>2041.0</td>\n",
       "      <td>31890.0</td>\n",
       "      <td>10858.0</td>\n",
       "      <td>328596.0</td>\n",
       "      <td>0.060151</td>\n",
       "      <td>0.031987</td>\n",
       "      <td>IT-L5+AI</td>\n",
       "    </tr>\n",
       "    <tr>\n",
       "      <th>MA1643.1</th>\n",
       "      <td>1.814775</td>\n",
       "      <td>2.863988e-13</td>\n",
       "      <td>3.550357e-12</td>\n",
       "      <td>11.449728</td>\n",
       "      <td>201.0</td>\n",
       "      <td>33730.0</td>\n",
       "      <td>1111.0</td>\n",
       "      <td>338343.0</td>\n",
       "      <td>0.005924</td>\n",
       "      <td>0.003273</td>\n",
       "      <td>IT-L5+AI</td>\n",
       "    </tr>\n",
       "  </tbody>\n",
       "</table>\n",
       "</div>"
      ],
      "text/plain": [
       "          oddsratio        p_value          adj_p        -lgp      tp  \\\n",
       "MA0052.4   3.072571  2.343033e-122  1.295877e-120  119.887436   719.0   \n",
       "MA0091.1   2.390767   1.300614e-67   3.463486e-66   65.460487   597.0   \n",
       "MA0461.2   3.274182  5.074017e-176  1.216073e-173  172.915040   954.0   \n",
       "MA0497.1   3.185405  1.833178e-146  1.882936e-144  143.725165   821.0   \n",
       "MA0509.2   4.836696  3.781457e-126  2.471698e-124  123.607005   435.0   \n",
       "MA0510.2   4.178169   1.514663e-34   3.300129e-33   32.481469   132.0   \n",
       "MA0600.2   4.282289   6.474926e-36   1.454835e-34   33.837186   134.0   \n",
       "MA0601.1   1.570433   1.073051e-26   2.143121e-25   24.668953   730.0   \n",
       "MA0602.1   1.662876   8.428756e-18   1.236791e-16   15.907704   374.0   \n",
       "MA0606.1   1.515267   2.306918e-68   6.379516e-67   66.195212  2372.0   \n",
       "MA0607.1   2.254308  1.544573e-242  5.552741e-240  239.255493  2558.0   \n",
       "MA0610.1   1.874264   4.097762e-21   6.404980e-20   19.193482   308.0   \n",
       "MA0619.1   1.877155  9.041344e-311  6.500726e-308  307.187038  5524.0   \n",
       "MA0623.2   3.173068  8.936445e-135  6.425304e-133  132.192106   758.0   \n",
       "MA0624.1   1.509330   2.004334e-99   8.477152e-98   97.071750  3661.0   \n",
       "MA0625.1   1.622116   2.468990e-70   7.100816e-69   68.148692  1819.0   \n",
       "MA0633.1   2.962496  4.106104e-157  4.920481e-155  154.307992   982.0   \n",
       "MA0660.1   2.364663   2.622892e-29   5.388169e-28   27.268559   253.0   \n",
       "MA0668.1   3.452841  1.544447e-105  6.940361e-104  103.158618   526.0   \n",
       "MA0669.1   3.038864   2.655373e-72   7.955056e-71   70.099357   425.0   \n",
       "MA0678.1   3.920305   2.237886e-94   8.468631e-93   92.072187   402.0   \n",
       "MA0681.2   1.981018   2.372500e-22   3.790728e-21   20.421277   282.0   \n",
       "MA0713.1   1.830454   9.550856e-14   1.226262e-12   11.911417   204.0   \n",
       "MA0773.1   2.277239   1.133271e-24   1.940052e-23   22.712187   227.0   \n",
       "MA0798.2   4.839956  5.696198e-120  2.925405e-118  117.533814   413.0   \n",
       "MA0799.1   4.628247   2.624646e-65   6.739717e-64   63.171358   231.0   \n",
       "MA0817.1   3.789341   4.349071e-87   1.563491e-85   84.805905   385.0   \n",
       "MA0818.1   3.294114  3.393502e-158  4.879855e-156  155.311593   848.0   \n",
       "MA0826.1   3.671872   1.350522e-84   4.413751e-83   82.355192   388.0   \n",
       "MA0827.1   3.659554  5.953646e-135  4.756302e-133  132.322731   629.0   \n",
       "MA0901.2   1.715171   3.394144e-18   5.192319e-17   16.284639   344.0   \n",
       "MA1109.1   2.069641   2.992927e-99   1.195508e-97   96.922448  1225.0   \n",
       "MA1468.1   3.226960  1.561659e-168  2.807083e-166  165.551745   931.0   \n",
       "MA1478.1   1.544030   1.437034e-14   1.949486e-13   12.710080   399.0   \n",
       "MA1479.1   1.921749   3.305425e-17   4.660001e-16   15.331614   229.0   \n",
       "MA1524.1   1.820481   7.713345e-46   1.788998e-44   43.747390   773.0   \n",
       "MA1525.1   1.524224   6.428828e-58   1.593906e-56   55.797537  1926.0   \n",
       "MA1568.1   3.648163   2.472425e-52   5.925578e-51   50.227269   238.0   \n",
       "MA1570.1   2.111357  1.738675e-123  1.041756e-121  120.982234  1466.0   \n",
       "MA1638.1   1.531754  9.236794e-114  4.427503e-112  111.353841  3962.0   \n",
       "MA1642.1   1.936872  1.512939e-136  1.359754e-134  133.866540  2041.0   \n",
       "MA1643.1   1.814775   2.863988e-13   3.550357e-12   11.449728   201.0   \n",
       "\n",
       "               tn       fp        fn   tp_rate   fp_rate     Group  \n",
       "MA0052.4  33212.0   2375.0  337079.0  0.021190  0.006997  IT-L5+AI  \n",
       "MA0091.1  33334.0   2524.0  336930.0  0.017595  0.007435  IT-L5+AI  \n",
       "MA0461.2  32977.0   2973.0  336481.0  0.028116  0.008758  IT-L5+AI  \n",
       "MA0497.1  33110.0   2622.0  336832.0  0.024196  0.007724  IT-L5+AI  \n",
       "MA0509.2  33496.0    909.0  338545.0  0.012820  0.002678  IT-L5+AI  \n",
       "MA0510.2  33799.0    317.0  339137.0  0.003890  0.000934  IT-L5+AI  \n",
       "MA0600.2  33797.0    314.0  339140.0  0.003949  0.000925  IT-L5+AI  \n",
       "MA0601.1  33201.0   4687.0  334767.0  0.021514  0.013807  IT-L5+AI  \n",
       "MA0602.1  33557.0   2260.0  337194.0  0.011022  0.006658  IT-L5+AI  \n",
       "MA0606.1  31559.0  16042.0  323412.0  0.069907  0.047258  IT-L5+AI  \n",
       "MA0607.1  31373.0  11849.0  327605.0  0.075388  0.034906  IT-L5+AI  \n",
       "MA0610.1  33623.0   1651.0  337803.0  0.009077  0.004864  IT-L5+AI  \n",
       "MA0619.1  28407.0  31864.0  307590.0  0.162801  0.093868  IT-L5+AI  \n",
       "MA0623.2  33173.0   2427.0  337027.0  0.022339  0.007150  IT-L5+AI  \n",
       "MA0624.1  30270.0  25183.0  314271.0  0.107895  0.074187  IT-L5+AI  \n",
       "MA0625.1  32112.0  11454.0  328000.0  0.053609  0.033742  IT-L5+AI  \n",
       "MA0633.1  32949.0   3381.0  336073.0  0.028941  0.009960  IT-L5+AI  \n",
       "MA0660.1  33678.0   1075.0  338379.0  0.007456  0.003167  IT-L5+AI  \n",
       "MA0668.1  33405.0   1541.0  337913.0  0.015502  0.004540  IT-L5+AI  \n",
       "MA0669.1  33506.0   1411.0  338043.0  0.012525  0.004157  IT-L5+AI  \n",
       "MA0678.1  33529.0   1035.0  338419.0  0.011848  0.003049  IT-L5+AI  \n",
       "MA0681.2  33649.0   1430.0  338024.0  0.008311  0.004213  IT-L5+AI  \n",
       "MA0713.1  33727.0   1118.0  338336.0  0.006012  0.003294  IT-L5+AI  \n",
       "MA0773.1  33704.0   1001.0  338453.0  0.006690  0.002949  IT-L5+AI  \n",
       "MA0798.2  33518.0    862.0  338592.0  0.012172  0.002539  IT-L5+AI  \n",
       "MA0799.1  33700.0    502.0  338952.0  0.006808  0.001479  IT-L5+AI  \n",
       "MA0817.1  33546.0   1025.0  338429.0  0.011347  0.003020  IT-L5+AI  \n",
       "MA0818.1  33083.0   2621.0  336833.0  0.024992  0.007721  IT-L5+AI  \n",
       "MA0826.1  33543.0   1066.0  338388.0  0.011435  0.003140  IT-L5+AI  \n",
       "MA0827.1  33302.0   1743.0  337711.0  0.018538  0.005135  IT-L5+AI  \n",
       "MA0901.2  33587.0   2015.0  337439.0  0.010138  0.005936  IT-L5+AI  \n",
       "MA1109.1  32706.0   6034.0  333420.0  0.036103  0.017776  IT-L5+AI  \n",
       "MA1468.1  33000.0   2942.0  336512.0  0.027438  0.008667  IT-L5+AI  \n",
       "MA1478.1  33532.0   2596.0  336858.0  0.011759  0.007648  IT-L5+AI  \n",
       "MA1479.1  33702.0   1196.0  338258.0  0.006749  0.003523  IT-L5+AI  \n",
       "MA1524.1  33158.0   4292.0  335162.0  0.022782  0.012644  IT-L5+AI  \n",
       "MA1525.1  32005.0  12893.0  326561.0  0.056762  0.037982  IT-L5+AI  \n",
       "MA1568.1  33693.0    656.0  338798.0  0.007014  0.001933  IT-L5+AI  \n",
       "MA1570.1  32465.0   7108.0  332346.0  0.043205  0.020940  IT-L5+AI  \n",
       "MA1638.1  29969.0  26970.0  312484.0  0.116766  0.079451  IT-L5+AI  \n",
       "MA1642.1  31890.0  10858.0  328596.0  0.060151  0.031987  IT-L5+AI  \n",
       "MA1643.1  33730.0   1111.0  338343.0  0.005924  0.003273  IT-L5+AI  "
      ]
     },
     "execution_count": 20,
     "metadata": {},
     "output_type": "execute_result"
    }
   ],
   "source": [
    "filtered_motif_df"
   ]
  },
  {
   "cell_type": "code",
   "execution_count": null,
   "metadata": {
    "papermill": {
     "duration": 0.011371,
     "end_time": "2020-01-14T06:46:22.698670",
     "exception": false,
     "start_time": "2020-01-14T06:46:22.687299",
     "status": "completed"
    },
    "tags": []
   },
   "outputs": [],
   "source": []
  }
 ],
 "metadata": {
  "hide_input": false,
  "kernelspec": {
   "display_name": "Python 3",
   "language": "python",
   "name": "python3"
  },
  "language_info": {
   "codemirror_mode": {
    "name": "ipython",
    "version": 3
   },
   "file_extension": ".py",
   "mimetype": "text/x-python",
   "name": "python",
   "nbconvert_exporter": "python",
   "pygments_lexer": "ipython3",
   "version": "3.7.3"
  },
  "papermill": {
   "duration": 12.251962,
   "end_time": "2020-01-14T06:46:23.116790",
   "environment_variables": {},
   "exception": null,
   "input_path": "4.MotifEnrichment.ipynb",
   "output_path": "/home/hanliu/project/mouse_rostral_brain/DMR/ITSpatial_by_layer/IT-L6/Recipe/4.MotifEnrichment.IT-L5+AI.ipynb",
   "parameters": {
    "dmr_hits_path": "/home/hanliu/project/mouse_rostral_brain/DMR/ITSpatial_by_layer/IT-L5/HypoDMR/IT-L5+AI.DMS1.bed",
    "group": "IT-L5+AI",
    "mask_quantile_to99": 0.9,
    "motif_hits_path": "/home/hanliu/project/mouse_rostral_brain/DMR/ITSpatial_by_layer/IT-L5/MotifScan.h5ad",
    "neg_lgp_cutoff": 10,
    "or_cutoff": 1.5,
    "output_dir": "/home/hanliu/project/mouse_rostral_brain/DMR/ITSpatial_by_layer/IT-L5/MotifEnrichment"
   },
   "start_time": "2020-01-14T06:46:10.864828",
   "version": "1.0.1"
  },
  "toc": {
   "base_numbering": 1,
   "nav_menu": {},
   "number_sections": true,
   "sideBar": true,
   "skip_h1_title": true,
   "title_cell": "Table of Contents",
   "title_sidebar": "Contents",
   "toc_cell": false,
   "toc_position": {},
   "toc_section_display": true,
   "toc_window_display": true
  }
 },
 "nbformat": 4,
 "nbformat_minor": 2
}
