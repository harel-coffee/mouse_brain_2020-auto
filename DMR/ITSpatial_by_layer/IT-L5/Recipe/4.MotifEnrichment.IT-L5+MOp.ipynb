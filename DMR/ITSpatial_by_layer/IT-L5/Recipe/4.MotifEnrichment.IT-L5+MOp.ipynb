{
 "cells": [
  {
   "cell_type": "markdown",
   "metadata": {
    "papermill": {
     "duration": 0.009676,
     "end_time": "2020-01-14T06:46:24.039311",
     "exception": false,
     "start_time": "2020-01-14T06:46:24.029635",
     "status": "completed"
    },
    "tags": []
   },
   "source": [
    "# Motif Enrichment\n",
    "- The motif hits matrix save the max loglikelyhood score of a motif in that DMR\n",
    "- Before run the motif enrichment, I filter the scores for each motif using cutoff defined by\n",
    "    - `np.quantile(motif_score[motif_score > 0]) * mask_quantile_to99`\n",
    "- This filter will remove hits with low score, which is likely to be false positive\n",
    "- Its likely boosting the significance of real enrichment"
   ]
  },
  {
   "cell_type": "code",
   "execution_count": 1,
   "metadata": {
    "ExecuteTime": {
     "end_time": "2020-01-17T04:52:13.386633Z",
     "start_time": "2020-01-17T04:52:12.628229Z"
    },
    "papermill": {
     "duration": 0.691955,
     "end_time": "2020-01-14T06:46:24.741969",
     "exception": false,
     "start_time": "2020-01-14T06:46:24.050014",
     "status": "completed"
    },
    "tags": []
   },
   "outputs": [],
   "source": [
    "from concurrent.futures import ProcessPoolExecutor, as_completed\n",
    "import anndata\n",
    "import matplotlib.pyplot as plt\n",
    "import numpy as np\n",
    "import pandas as pd\n",
    "import pybedtools\n",
    "import scipy.stats as stats\n",
    "import seaborn as sns\n",
    "from scipy.sparse import csr_matrix\n",
    "from statsmodels.stats.multitest import multipletests\n",
    "import pathlib"
   ]
  },
  {
   "cell_type": "code",
   "execution_count": 2,
   "metadata": {
    "ExecuteTime": {
     "end_time": "2020-01-17T04:52:13.391117Z",
     "start_time": "2020-01-17T04:52:13.388470Z"
    },
    "papermill": {
     "duration": 0.015326,
     "end_time": "2020-01-14T06:46:24.767751",
     "exception": false,
     "start_time": "2020-01-14T06:46:24.752425",
     "status": "completed"
    },
    "tags": [
     "parameters"
    ]
   },
   "outputs": [],
   "source": [
    "mask_quantile_to99 = 0.9\n",
    "or_cutoff = 1.5\n",
    "neg_lgp_cutoff = 10\n",
    "group = 'IT-L23+ACA'\n",
    "\n",
    "motif_hits_path = '/home/hanliu/project/mouse_rostral_brain/DMR/ITSpatial_by_layer/IT-L23/MotifScan.h5ad'\n",
    "dmr_hits_path = f'/home/hanliu/project/mouse_rostral_brain/DMR/ITSpatial_by_layer/IT-L23/HypoDMR/{group}.DMS1.bed'\n",
    "output_dir = '/home/hanliu/project/mouse_rostral_brain/DMR/ITSpatial_by_layer/IT-L23/MotifEnrichment'\n"
   ]
  },
  {
   "cell_type": "code",
   "execution_count": 3,
   "metadata": {
    "ExecuteTime": {
     "end_time": "2020-01-17T04:52:13.394684Z",
     "start_time": "2020-01-17T04:52:13.392444Z"
    },
    "papermill": {
     "duration": 0.014028,
     "end_time": "2020-01-14T06:46:24.790715",
     "exception": false,
     "start_time": "2020-01-14T06:46:24.776687",
     "status": "completed"
    },
    "tags": [
     "injected-parameters"
    ]
   },
   "outputs": [],
   "source": [
    "# Parameters\n",
    "mask_quantile_to99 = 0.9\n",
    "or_cutoff = 1.5\n",
    "neg_lgp_cutoff = 10\n",
    "group = \"IT-L5+MOp\"\n",
    "motif_hits_path = \"/home/hanliu/project/mouse_rostral_brain/DMR/ITSpatial_by_layer/IT-L5/MotifScan.h5ad\"\n",
    "dmr_hits_path = \"/home/hanliu/project/mouse_rostral_brain/DMR/ITSpatial_by_layer/IT-L5/HypoDMR/IT-L5+MOp.DMS1.bed\"\n",
    "output_dir = \"/home/hanliu/project/mouse_rostral_brain/DMR/ITSpatial_by_layer/IT-L5/MotifEnrichment\"\n"
   ]
  },
  {
   "cell_type": "code",
   "execution_count": 4,
   "metadata": {
    "ExecuteTime": {
     "end_time": "2020-01-17T04:52:13.398050Z",
     "start_time": "2020-01-17T04:52:13.395938Z"
    },
    "papermill": {
     "duration": 0.013834,
     "end_time": "2020-01-14T06:46:24.813433",
     "exception": false,
     "start_time": "2020-01-14T06:46:24.799599",
     "status": "completed"
    },
    "tags": []
   },
   "outputs": [],
   "source": [
    "output_dir = pathlib.Path(output_dir)\n",
    "output_dir.mkdir(exist_ok=True)"
   ]
  },
  {
   "cell_type": "markdown",
   "metadata": {
    "papermill": {
     "duration": 0.008927,
     "end_time": "2020-01-14T06:46:24.831380",
     "exception": false,
     "start_time": "2020-01-14T06:46:24.822453",
     "status": "completed"
    },
    "tags": []
   },
   "source": [
    "## DMR hits"
   ]
  },
  {
   "cell_type": "code",
   "execution_count": 5,
   "metadata": {
    "ExecuteTime": {
     "end_time": "2020-01-17T04:52:13.468729Z",
     "start_time": "2020-01-17T04:52:13.399252Z"
    },
    "papermill": {
     "duration": 0.125945,
     "end_time": "2020-01-14T06:46:24.966218",
     "exception": false,
     "start_time": "2020-01-14T06:46:24.840273",
     "status": "completed"
    },
    "tags": []
   },
   "outputs": [
    {
     "data": {
      "text/html": [
       "<div>\n",
       "<style scoped>\n",
       "    .dataframe tbody tr th:only-of-type {\n",
       "        vertical-align: middle;\n",
       "    }\n",
       "\n",
       "    .dataframe tbody tr th {\n",
       "        vertical-align: top;\n",
       "    }\n",
       "\n",
       "    .dataframe thead th {\n",
       "        text-align: right;\n",
       "    }\n",
       "</style>\n",
       "<table border=\"1\" class=\"dataframe\">\n",
       "  <thead>\n",
       "    <tr style=\"text-align: right;\">\n",
       "      <th></th>\n",
       "      <th>0</th>\n",
       "      <th>1</th>\n",
       "      <th>2</th>\n",
       "    </tr>\n",
       "    <tr>\n",
       "      <th>3</th>\n",
       "      <th></th>\n",
       "      <th></th>\n",
       "      <th></th>\n",
       "    </tr>\n",
       "  </thead>\n",
       "  <tbody>\n",
       "    <tr>\n",
       "      <th>DGm3c_5</th>\n",
       "      <td>chr1</td>\n",
       "      <td>3095658</td>\n",
       "      <td>3095658</td>\n",
       "    </tr>\n",
       "    <tr>\n",
       "      <th>DGm3c_11</th>\n",
       "      <td>chr1</td>\n",
       "      <td>3130148</td>\n",
       "      <td>3130148</td>\n",
       "    </tr>\n",
       "    <tr>\n",
       "      <th>DGm3c_15</th>\n",
       "      <td>chr1</td>\n",
       "      <td>3196972</td>\n",
       "      <td>3196972</td>\n",
       "    </tr>\n",
       "    <tr>\n",
       "      <th>DGm3c_18</th>\n",
       "      <td>chr1</td>\n",
       "      <td>3211017</td>\n",
       "      <td>3211017</td>\n",
       "    </tr>\n",
       "    <tr>\n",
       "      <th>DGm3c_19</th>\n",
       "      <td>chr1</td>\n",
       "      <td>3211269</td>\n",
       "      <td>3211290</td>\n",
       "    </tr>\n",
       "  </tbody>\n",
       "</table>\n",
       "</div>"
      ],
      "text/plain": [
       "             0        1        2\n",
       "3                               \n",
       "DGm3c_5   chr1  3095658  3095658\n",
       "DGm3c_11  chr1  3130148  3130148\n",
       "DGm3c_15  chr1  3196972  3196972\n",
       "DGm3c_18  chr1  3211017  3211017\n",
       "DGm3c_19  chr1  3211269  3211290"
      ]
     },
     "execution_count": 5,
     "metadata": {},
     "output_type": "execute_result"
    }
   ],
   "source": [
    "dmr_bed_df = pd.read_csv(dmr_hits_path, sep='\\t', header=None, index_col=3)\n",
    "dmr_bed_df.head()"
   ]
  },
  {
   "cell_type": "code",
   "execution_count": 6,
   "metadata": {
    "ExecuteTime": {
     "end_time": "2020-01-17T04:52:15.788226Z",
     "start_time": "2020-01-17T04:52:13.469917Z"
    },
    "papermill": {
     "duration": 2.200307,
     "end_time": "2020-01-14T06:46:27.177092",
     "exception": false,
     "start_time": "2020-01-14T06:46:24.976785",
     "status": "completed"
    },
    "tags": []
   },
   "outputs": [
    {
     "data": {
      "text/plain": [
       "AnnData object with n_obs × n_vars = 63615 × 719 \n",
       "    obs: 'chrom', 'start', 'end'"
      ]
     },
     "execution_count": 6,
     "metadata": {},
     "output_type": "execute_result"
    }
   ],
   "source": [
    "motif_hits = anndata.read_h5ad(motif_hits_path)\n",
    "motif_hits = motif_hits[dmr_bed_df.index, :].copy()\n",
    "motif_ids = motif_hits.var_names\n",
    "motif_hits.X = motif_hits.X.todense()\n",
    "motif_hits"
   ]
  },
  {
   "cell_type": "code",
   "execution_count": 7,
   "metadata": {
    "ExecuteTime": {
     "end_time": "2020-01-17T04:52:16.575242Z",
     "start_time": "2020-01-17T04:52:15.790475Z"
    },
    "papermill": {
     "duration": 1.377122,
     "end_time": "2020-01-14T06:46:28.564584",
     "exception": false,
     "start_time": "2020-01-14T06:46:27.187462",
     "status": "completed"
    },
    "tags": []
   },
   "outputs": [],
   "source": [
    "# mask small motif scores\n",
    "motif_cutoff = pd.Series(np.apply_along_axis(lambda i: np.quantile(i[i>0], 0.99) * mask_quantile_to99, \n",
    "                                             0, motif_hits.X),\n",
    "                         index=motif_hits.var_names)\n",
    "# only keep value larger than the cutoff for each motif\n",
    "motif_hits.X = np.multiply(motif_hits.X, (motif_hits.X > motif_cutoff.values[None, :]))"
   ]
  },
  {
   "cell_type": "markdown",
   "metadata": {
    "papermill": {
     "duration": 0.009592,
     "end_time": "2020-01-14T06:46:28.584759",
     "exception": false,
     "start_time": "2020-01-14T06:46:28.575167",
     "status": "completed"
    },
    "tags": []
   },
   "source": [
    "## Background Hits"
   ]
  },
  {
   "cell_type": "code",
   "execution_count": 8,
   "metadata": {
    "ExecuteTime": {
     "end_time": "2020-01-17T04:52:17.877297Z",
     "start_time": "2020-01-17T04:52:16.577115Z"
    },
    "papermill": {
     "duration": 1.130948,
     "end_time": "2020-01-14T06:46:29.725248",
     "exception": false,
     "start_time": "2020-01-14T06:46:28.594300",
     "status": "completed"
    },
    "tags": []
   },
   "outputs": [],
   "source": [
    "background_motif_hits = anndata.read_h5ad(\n",
    "    '/home/hanliu/project/mouse_rostral_brain/DMR/BackgroundDMR/MotifScan.h5ad'\n",
    ")"
   ]
  },
  {
   "cell_type": "code",
   "execution_count": 9,
   "metadata": {
    "ExecuteTime": {
     "end_time": "2020-01-17T04:52:19.135747Z",
     "start_time": "2020-01-17T04:52:17.880372Z"
    },
    "papermill": {
     "duration": 1.162126,
     "end_time": "2020-01-14T06:46:30.897556",
     "exception": false,
     "start_time": "2020-01-14T06:46:29.735430",
     "status": "completed"
    },
    "tags": []
   },
   "outputs": [],
   "source": [
    "dmr_bed = pybedtools.BedTool().from_dataframe(dmr_bed_df)\n",
    "bg_bed = pybedtools.BedTool().from_dataframe(\n",
    "    background_motif_hits.obs.reset_index().iloc[:, [1, 2, 3, 0]])"
   ]
  },
  {
   "cell_type": "code",
   "execution_count": 10,
   "metadata": {
    "ExecuteTime": {
     "end_time": "2020-01-17T04:52:20.851247Z",
     "start_time": "2020-01-17T04:52:19.137381Z"
    },
    "papermill": {
     "duration": 1.587688,
     "end_time": "2020-01-14T06:46:32.495497",
     "exception": false,
     "start_time": "2020-01-14T06:46:30.907809",
     "status": "completed"
    },
    "tags": []
   },
   "outputs": [],
   "source": [
    "# exclude background that overlap with DMR\n",
    "bg_no_overlap = bg_bed.intersect(dmr_bed, v=True)\n",
    "use_bg = bg_no_overlap.to_dataframe().iloc[:, -1].values\n",
    "background_motif_hits = background_motif_hits[use_bg, :]\n",
    "\n",
    "# make sure col in same order\n",
    "background_motif_hits = background_motif_hits[:, motif_ids].copy()"
   ]
  },
  {
   "cell_type": "code",
   "execution_count": 11,
   "metadata": {
    "ExecuteTime": {
     "end_time": "2020-01-17T04:52:23.161303Z",
     "start_time": "2020-01-17T04:52:20.853690Z"
    },
    "papermill": {
     "duration": 2.055228,
     "end_time": "2020-01-14T06:46:34.561143",
     "exception": false,
     "start_time": "2020-01-14T06:46:32.505915",
     "status": "completed"
    },
    "tags": []
   },
   "outputs": [],
   "source": [
    "judge_matrix = csr_matrix(background_motif_hits.X > motif_cutoff.values[None, :])\n",
    "background_motif_hits.X = background_motif_hits.X.multiply(judge_matrix)"
   ]
  },
  {
   "cell_type": "code",
   "execution_count": 12,
   "metadata": {
    "ExecuteTime": {
     "end_time": "2020-01-17T04:52:23.167970Z",
     "start_time": "2020-01-17T04:52:23.163054Z"
    },
    "papermill": {
     "duration": 0.017169,
     "end_time": "2020-01-14T06:46:34.589115",
     "exception": false,
     "start_time": "2020-01-14T06:46:34.571946",
     "status": "completed"
    },
    "tags": []
   },
   "outputs": [
    {
     "data": {
      "text/plain": [
       "AnnData object with n_obs × n_vars = 333433 × 719 \n",
       "    obs: 'chrom', 'start', 'end'"
      ]
     },
     "execution_count": 12,
     "metadata": {},
     "output_type": "execute_result"
    }
   ],
   "source": [
    "background_motif_hits"
   ]
  },
  {
   "cell_type": "markdown",
   "metadata": {
    "papermill": {
     "duration": 0.009977,
     "end_time": "2020-01-14T06:46:34.609035",
     "exception": false,
     "start_time": "2020-01-14T06:46:34.599058",
     "status": "completed"
    },
    "tags": []
   },
   "source": [
    "## Motif hits contingency table"
   ]
  },
  {
   "cell_type": "code",
   "execution_count": 13,
   "metadata": {
    "ExecuteTime": {
     "end_time": "2020-01-17T04:52:23.444620Z",
     "start_time": "2020-01-17T04:52:23.169661Z"
    },
    "papermill": {
     "duration": 0.292984,
     "end_time": "2020-01-14T06:46:34.912198",
     "exception": false,
     "start_time": "2020-01-14T06:46:34.619214",
     "status": "completed"
    },
    "tags": []
   },
   "outputs": [],
   "source": [
    "# calculate motif occurence, not considering hits here\n",
    "pos = (motif_hits.X > 0).sum(axis=0)\n",
    "pos_total = motif_hits.shape[0]\n",
    "\n",
    "neg = (background_motif_hits.X > 0).sum(axis=0)\n",
    "neg_total = background_motif_hits.shape[0]"
   ]
  },
  {
   "cell_type": "code",
   "execution_count": 14,
   "metadata": {
    "ExecuteTime": {
     "end_time": "2020-01-17T04:52:23.450714Z",
     "start_time": "2020-01-17T04:52:23.446267Z"
    },
    "papermill": {
     "duration": 0.058715,
     "end_time": "2020-01-14T06:46:34.981713",
     "exception": false,
     "start_time": "2020-01-14T06:46:34.922998",
     "status": "completed"
    },
    "scrolled": true,
    "tags": []
   },
   "outputs": [],
   "source": [
    "tables = {}\n",
    "for motif, _pos, _neg in zip(motif_ids, pos.A1, neg.A1):\n",
    "    table = [[_pos, pos_total - _pos], [_neg, neg_total - _neg]]\n",
    "    tables[motif] = table"
   ]
  },
  {
   "cell_type": "code",
   "execution_count": 15,
   "metadata": {
    "ExecuteTime": {
     "end_time": "2020-01-17T04:52:24.483890Z",
     "start_time": "2020-01-17T04:52:23.452165Z"
    },
    "papermill": {
     "duration": 0.991644,
     "end_time": "2020-01-14T06:46:35.983421",
     "exception": false,
     "start_time": "2020-01-14T06:46:34.991777",
     "status": "completed"
    },
    "tags": []
   },
   "outputs": [],
   "source": [
    "results = {}\n",
    "with ProcessPoolExecutor(20) as executor:\n",
    "    fs = {}\n",
    "    for motif, t in tables.items():\n",
    "        f = executor.submit(stats.fisher_exact, t, alternative='greater')\n",
    "        fs[f] = motif\n",
    "\n",
    "    for f in as_completed(fs):\n",
    "        motif = fs[f]\n",
    "        odds, p = f.result()\n",
    "        results[motif] = {'oddsratio': odds, 'p_value': p}\n",
    "motif_enrich_df = pd.DataFrame(results).T\n",
    "\n",
    "_, p, _, _ = multipletests(motif_enrich_df['p_value'], method='fdr_bh')\n",
    "motif_enrich_df['adj_p'] = p\n",
    "\n",
    "motif_enrich_df['-lgp'] = -np.log10(motif_enrich_df['adj_p']).replace(\n",
    "    -np.inf, -300)\n",
    "\n",
    "records = {}\n",
    "for motif, t in tables.items():\n",
    "    tp, tn = t[0]\n",
    "    fp, fn = t[1]\n",
    "    tp_rate = tp / pos_total\n",
    "    fp_rate = fp / neg_total\n",
    "    records[motif] = dict(tp=tp,\n",
    "                          tn=tn,\n",
    "                          fp=fp,\n",
    "                          fn=fn,\n",
    "                          tp_rate=tp_rate,\n",
    "                          fp_rate=fp_rate)\n",
    "counts = pd.DataFrame(records).T\n",
    "motif_enrich_df = pd.concat([motif_enrich_df, counts], axis=1, sort=True)"
   ]
  },
  {
   "cell_type": "code",
   "execution_count": 16,
   "metadata": {
    "ExecuteTime": {
     "end_time": "2020-01-17T04:52:24.488458Z",
     "start_time": "2020-01-17T04:52:24.485623Z"
    },
    "papermill": {
     "duration": 0.01621,
     "end_time": "2020-01-14T06:46:36.010653",
     "exception": false,
     "start_time": "2020-01-14T06:46:35.994443",
     "status": "completed"
    },
    "tags": []
   },
   "outputs": [],
   "source": [
    "motif_enrich_df['Group'] = group"
   ]
  },
  {
   "cell_type": "code",
   "execution_count": 17,
   "metadata": {
    "ExecuteTime": {
     "end_time": "2020-01-17T04:52:24.495354Z",
     "start_time": "2020-01-17T04:52:24.489916Z"
    },
    "papermill": {
     "duration": 0.017925,
     "end_time": "2020-01-14T06:46:36.038596",
     "exception": false,
     "start_time": "2020-01-14T06:46:36.020671",
     "status": "completed"
    },
    "tags": []
   },
   "outputs": [
    {
     "data": {
      "text/plain": [
       "38"
      ]
     },
     "execution_count": 17,
     "metadata": {},
     "output_type": "execute_result"
    }
   ],
   "source": [
    "# final filter\n",
    "filtered_motif_df = motif_enrich_df[(motif_enrich_df['oddsratio'] > or_cutoff)\n",
    "                                    &\n",
    "                                    (motif_enrich_df['-lgp'] > neg_lgp_cutoff)]\n",
    "filtered_motif_df.shape[0]"
   ]
  },
  {
   "cell_type": "code",
   "execution_count": 18,
   "metadata": {
    "ExecuteTime": {
     "end_time": "2020-01-17T04:52:24.500975Z",
     "start_time": "2020-01-17T04:52:24.496636Z"
    },
    "papermill": {
     "duration": 0.016457,
     "end_time": "2020-01-14T06:46:36.065134",
     "exception": false,
     "start_time": "2020-01-14T06:46:36.048677",
     "status": "completed"
    },
    "tags": []
   },
   "outputs": [
    {
     "name": "stderr",
     "output_type": "stream",
     "text": [
      "/home/hanliu/miniconda3/envs/clustering/lib/python3.7/site-packages/ipykernel_launcher.py:1: FutureWarning: to_msgpack is deprecated and will be removed in a future version.\n",
      "It is recommended to use pyarrow for on-the-wire transmission of pandas objects.\n",
      "  \"\"\"Entry point for launching an IPython kernel.\n"
     ]
    }
   ],
   "source": [
    "motif_enrich_df.to_msgpack(output_dir / f'{group}.motif_enrichment.msg')"
   ]
  },
  {
   "cell_type": "code",
   "execution_count": 19,
   "metadata": {
    "ExecuteTime": {
     "end_time": "2020-01-17T04:52:24.509696Z",
     "start_time": "2020-01-17T04:52:24.502263Z"
    },
    "papermill": {
     "duration": 0.020801,
     "end_time": "2020-01-14T06:46:36.096208",
     "exception": false,
     "start_time": "2020-01-14T06:46:36.075407",
     "status": "completed"
    },
    "tags": []
   },
   "outputs": [],
   "source": [
    "pybedtools.cleanup()"
   ]
  },
  {
   "cell_type": "code",
   "execution_count": 20,
   "metadata": {
    "ExecuteTime": {
     "end_time": "2020-01-17T04:52:24.531945Z",
     "start_time": "2020-01-17T04:52:24.510907Z"
    },
    "papermill": {
     "duration": 0.032146,
     "end_time": "2020-01-14T06:46:36.139891",
     "exception": false,
     "start_time": "2020-01-14T06:46:36.107745",
     "status": "completed"
    },
    "tags": []
   },
   "outputs": [
    {
     "data": {
      "text/html": [
       "<div>\n",
       "<style scoped>\n",
       "    .dataframe tbody tr th:only-of-type {\n",
       "        vertical-align: middle;\n",
       "    }\n",
       "\n",
       "    .dataframe tbody tr th {\n",
       "        vertical-align: top;\n",
       "    }\n",
       "\n",
       "    .dataframe thead th {\n",
       "        text-align: right;\n",
       "    }\n",
       "</style>\n",
       "<table border=\"1\" class=\"dataframe\">\n",
       "  <thead>\n",
       "    <tr style=\"text-align: right;\">\n",
       "      <th></th>\n",
       "      <th>oddsratio</th>\n",
       "      <th>p_value</th>\n",
       "      <th>adj_p</th>\n",
       "      <th>-lgp</th>\n",
       "      <th>tp</th>\n",
       "      <th>tn</th>\n",
       "      <th>fp</th>\n",
       "      <th>fn</th>\n",
       "      <th>tp_rate</th>\n",
       "      <th>fp_rate</th>\n",
       "      <th>Group</th>\n",
       "    </tr>\n",
       "  </thead>\n",
       "  <tbody>\n",
       "    <tr>\n",
       "      <th>MA0019.1</th>\n",
       "      <td>1.503935</td>\n",
       "      <td>1.287582e-12</td>\n",
       "      <td>1.322531e-11</td>\n",
       "      <td>10.878594</td>\n",
       "      <td>414.0</td>\n",
       "      <td>63201.0</td>\n",
       "      <td>1446.0</td>\n",
       "      <td>331987.0</td>\n",
       "      <td>0.006508</td>\n",
       "      <td>0.004337</td>\n",
       "      <td>IT-L5+MOp</td>\n",
       "    </tr>\n",
       "    <tr>\n",
       "      <th>MA0072.1</th>\n",
       "      <td>3.067093</td>\n",
       "      <td>2.745981e-95</td>\n",
       "      <td>1.794873e-93</td>\n",
       "      <td>92.745966</td>\n",
       "      <td>622.0</td>\n",
       "      <td>62993.0</td>\n",
       "      <td>1070.0</td>\n",
       "      <td>332363.0</td>\n",
       "      <td>0.009778</td>\n",
       "      <td>0.003209</td>\n",
       "      <td>IT-L5+MOp</td>\n",
       "    </tr>\n",
       "    <tr>\n",
       "      <th>MA0091.1</th>\n",
       "      <td>1.635329</td>\n",
       "      <td>1.278804e-31</td>\n",
       "      <td>2.627030e-30</td>\n",
       "      <td>29.580535</td>\n",
       "      <td>814.0</td>\n",
       "      <td>62801.0</td>\n",
       "      <td>2622.0</td>\n",
       "      <td>330811.0</td>\n",
       "      <td>0.012796</td>\n",
       "      <td>0.007864</td>\n",
       "      <td>IT-L5+MOp</td>\n",
       "    </tr>\n",
       "    <tr>\n",
       "      <th>MA0461.2</th>\n",
       "      <td>2.215089</td>\n",
       "      <td>7.073372e-106</td>\n",
       "      <td>5.085754e-104</td>\n",
       "      <td>103.293645</td>\n",
       "      <td>1226.0</td>\n",
       "      <td>62389.0</td>\n",
       "      <td>2932.0</td>\n",
       "      <td>330501.0</td>\n",
       "      <td>0.019272</td>\n",
       "      <td>0.008793</td>\n",
       "      <td>IT-L5+MOp</td>\n",
       "    </tr>\n",
       "    <tr>\n",
       "      <th>MA0497.1</th>\n",
       "      <td>1.518373</td>\n",
       "      <td>3.888024e-25</td>\n",
       "      <td>6.818267e-24</td>\n",
       "      <td>23.166326</td>\n",
       "      <td>859.0</td>\n",
       "      <td>62756.0</td>\n",
       "      <td>2979.0</td>\n",
       "      <td>330454.0</td>\n",
       "      <td>0.013503</td>\n",
       "      <td>0.008934</td>\n",
       "      <td>IT-L5+MOp</td>\n",
       "    </tr>\n",
       "    <tr>\n",
       "      <th>MA0507.1</th>\n",
       "      <td>2.572918</td>\n",
       "      <td>4.211451e-148</td>\n",
       "      <td>4.325762e-146</td>\n",
       "      <td>145.363937</td>\n",
       "      <td>1291.0</td>\n",
       "      <td>62324.0</td>\n",
       "      <td>2663.0</td>\n",
       "      <td>330770.0</td>\n",
       "      <td>0.020294</td>\n",
       "      <td>0.007987</td>\n",
       "      <td>IT-L5+MOp</td>\n",
       "    </tr>\n",
       "    <tr>\n",
       "      <th>MA0607.1</th>\n",
       "      <td>2.078725</td>\n",
       "      <td>7.670060e-317</td>\n",
       "      <td>5.514773e-314</td>\n",
       "      <td>313.258472</td>\n",
       "      <td>4426.0</td>\n",
       "      <td>59189.0</td>\n",
       "      <td>11578.0</td>\n",
       "      <td>321855.0</td>\n",
       "      <td>0.069575</td>\n",
       "      <td>0.034724</td>\n",
       "      <td>IT-L5+MOp</td>\n",
       "    </tr>\n",
       "    <tr>\n",
       "      <th>MA0623.2</th>\n",
       "      <td>2.287168</td>\n",
       "      <td>1.479278e-64</td>\n",
       "      <td>5.908895e-63</td>\n",
       "      <td>62.228494</td>\n",
       "      <td>687.0</td>\n",
       "      <td>62928.0</td>\n",
       "      <td>1584.0</td>\n",
       "      <td>331849.0</td>\n",
       "      <td>0.010799</td>\n",
       "      <td>0.004751</td>\n",
       "      <td>IT-L5+MOp</td>\n",
       "    </tr>\n",
       "    <tr>\n",
       "      <th>MA0627.2</th>\n",
       "      <td>2.033132</td>\n",
       "      <td>1.658762e-57</td>\n",
       "      <td>5.679283e-56</td>\n",
       "      <td>55.245706</td>\n",
       "      <td>794.0</td>\n",
       "      <td>62821.0</td>\n",
       "      <td>2060.0</td>\n",
       "      <td>331373.0</td>\n",
       "      <td>0.012481</td>\n",
       "      <td>0.006178</td>\n",
       "      <td>IT-L5+MOp</td>\n",
       "    </tr>\n",
       "    <tr>\n",
       "      <th>MA0633.1</th>\n",
       "      <td>2.273751</td>\n",
       "      <td>2.011796e-129</td>\n",
       "      <td>1.607202e-127</td>\n",
       "      <td>126.793930</td>\n",
       "      <td>1426.0</td>\n",
       "      <td>62189.0</td>\n",
       "      <td>3329.0</td>\n",
       "      <td>330104.0</td>\n",
       "      <td>0.022416</td>\n",
       "      <td>0.009984</td>\n",
       "      <td>IT-L5+MOp</td>\n",
       "    </tr>\n",
       "    <tr>\n",
       "      <th>MA0668.1</th>\n",
       "      <td>2.216308</td>\n",
       "      <td>2.806759e-63</td>\n",
       "      <td>1.062137e-61</td>\n",
       "      <td>60.973820</td>\n",
       "      <td>719.0</td>\n",
       "      <td>62896.0</td>\n",
       "      <td>1711.0</td>\n",
       "      <td>331722.0</td>\n",
       "      <td>0.011302</td>\n",
       "      <td>0.005131</td>\n",
       "      <td>IT-L5+MOp</td>\n",
       "    </tr>\n",
       "    <tr>\n",
       "      <th>MA0669.1</th>\n",
       "      <td>2.302278</td>\n",
       "      <td>2.559941e-57</td>\n",
       "      <td>8.366354e-56</td>\n",
       "      <td>55.077464</td>\n",
       "      <td>599.0</td>\n",
       "      <td>63016.0</td>\n",
       "      <td>1371.0</td>\n",
       "      <td>332062.0</td>\n",
       "      <td>0.009416</td>\n",
       "      <td>0.004112</td>\n",
       "      <td>IT-L5+MOp</td>\n",
       "    </tr>\n",
       "    <tr>\n",
       "      <th>MA0678.1</th>\n",
       "      <td>2.232464</td>\n",
       "      <td>3.740348e-40</td>\n",
       "      <td>9.273483e-39</td>\n",
       "      <td>38.032757</td>\n",
       "      <td>440.0</td>\n",
       "      <td>63175.0</td>\n",
       "      <td>1037.0</td>\n",
       "      <td>332396.0</td>\n",
       "      <td>0.006917</td>\n",
       "      <td>0.003110</td>\n",
       "      <td>IT-L5+MOp</td>\n",
       "    </tr>\n",
       "    <tr>\n",
       "      <th>MA0689.1</th>\n",
       "      <td>1.696790</td>\n",
       "      <td>3.550994e-14</td>\n",
       "      <td>3.810693e-13</td>\n",
       "      <td>12.418996</td>\n",
       "      <td>295.0</td>\n",
       "      <td>63320.0</td>\n",
       "      <td>913.0</td>\n",
       "      <td>332520.0</td>\n",
       "      <td>0.004637</td>\n",
       "      <td>0.002738</td>\n",
       "      <td>IT-L5+MOp</td>\n",
       "    </tr>\n",
       "    <tr>\n",
       "      <th>MA0690.1</th>\n",
       "      <td>1.527696</td>\n",
       "      <td>3.674452e-12</td>\n",
       "      <td>3.669349e-11</td>\n",
       "      <td>10.435411</td>\n",
       "      <td>370.0</td>\n",
       "      <td>63245.0</td>\n",
       "      <td>1272.0</td>\n",
       "      <td>332161.0</td>\n",
       "      <td>0.005816</td>\n",
       "      <td>0.003815</td>\n",
       "      <td>IT-L5+MOp</td>\n",
       "    </tr>\n",
       "    <tr>\n",
       "      <th>MA0752.1</th>\n",
       "      <td>4.452349</td>\n",
       "      <td>1.268275e-35</td>\n",
       "      <td>3.039633e-34</td>\n",
       "      <td>33.517179</td>\n",
       "      <td>145.0</td>\n",
       "      <td>63470.0</td>\n",
       "      <td>171.0</td>\n",
       "      <td>333262.0</td>\n",
       "      <td>0.002279</td>\n",
       "      <td>0.000513</td>\n",
       "      <td>IT-L5+MOp</td>\n",
       "    </tr>\n",
       "    <tr>\n",
       "      <th>MA0784.1</th>\n",
       "      <td>2.199896</td>\n",
       "      <td>9.691196e-32</td>\n",
       "      <td>2.049403e-30</td>\n",
       "      <td>29.688373</td>\n",
       "      <td>354.0</td>\n",
       "      <td>63261.0</td>\n",
       "      <td>846.0</td>\n",
       "      <td>332587.0</td>\n",
       "      <td>0.005565</td>\n",
       "      <td>0.002537</td>\n",
       "      <td>IT-L5+MOp</td>\n",
       "    </tr>\n",
       "    <tr>\n",
       "      <th>MA0785.1</th>\n",
       "      <td>2.313659</td>\n",
       "      <td>2.468524e-72</td>\n",
       "      <td>1.044040e-70</td>\n",
       "      <td>69.981283</td>\n",
       "      <td>755.0</td>\n",
       "      <td>62860.0</td>\n",
       "      <td>1722.0</td>\n",
       "      <td>331711.0</td>\n",
       "      <td>0.011868</td>\n",
       "      <td>0.005164</td>\n",
       "      <td>IT-L5+MOp</td>\n",
       "    </tr>\n",
       "    <tr>\n",
       "      <th>MA0786.1</th>\n",
       "      <td>2.130571</td>\n",
       "      <td>2.331235e-62</td>\n",
       "      <td>8.380790e-61</td>\n",
       "      <td>60.076715</td>\n",
       "      <td>773.0</td>\n",
       "      <td>62842.0</td>\n",
       "      <td>1914.0</td>\n",
       "      <td>331519.0</td>\n",
       "      <td>0.012151</td>\n",
       "      <td>0.005740</td>\n",
       "      <td>IT-L5+MOp</td>\n",
       "    </tr>\n",
       "    <tr>\n",
       "      <th>MA0787.1</th>\n",
       "      <td>2.191630</td>\n",
       "      <td>2.746513e-53</td>\n",
       "      <td>8.228096e-52</td>\n",
       "      <td>51.084701</td>\n",
       "      <td>616.0</td>\n",
       "      <td>62999.0</td>\n",
       "      <td>1481.0</td>\n",
       "      <td>331952.0</td>\n",
       "      <td>0.009683</td>\n",
       "      <td>0.004442</td>\n",
       "      <td>IT-L5+MOp</td>\n",
       "    </tr>\n",
       "    <tr>\n",
       "      <th>MA0788.1</th>\n",
       "      <td>2.278306</td>\n",
       "      <td>3.336211e-50</td>\n",
       "      <td>9.225906e-49</td>\n",
       "      <td>48.034991</td>\n",
       "      <td>533.0</td>\n",
       "      <td>63082.0</td>\n",
       "      <td>1232.0</td>\n",
       "      <td>332201.0</td>\n",
       "      <td>0.008379</td>\n",
       "      <td>0.003695</td>\n",
       "      <td>IT-L5+MOp</td>\n",
       "    </tr>\n",
       "    <tr>\n",
       "      <th>MA0789.1</th>\n",
       "      <td>1.869556</td>\n",
       "      <td>1.174728e-82</td>\n",
       "      <td>5.630861e-81</td>\n",
       "      <td>80.249425</td>\n",
       "      <td>1448.0</td>\n",
       "      <td>62167.0</td>\n",
       "      <td>4103.0</td>\n",
       "      <td>329330.0</td>\n",
       "      <td>0.022762</td>\n",
       "      <td>0.012305</td>\n",
       "      <td>IT-L5+MOp</td>\n",
       "    </tr>\n",
       "    <tr>\n",
       "      <th>MA0790.1</th>\n",
       "      <td>1.672710</td>\n",
       "      <td>8.096429e-17</td>\n",
       "      <td>1.078025e-15</td>\n",
       "      <td>14.967371</td>\n",
       "      <td>376.0</td>\n",
       "      <td>63239.0</td>\n",
       "      <td>1181.0</td>\n",
       "      <td>332252.0</td>\n",
       "      <td>0.005911</td>\n",
       "      <td>0.003542</td>\n",
       "      <td>IT-L5+MOp</td>\n",
       "    </tr>\n",
       "    <tr>\n",
       "      <th>MA0791.1</th>\n",
       "      <td>1.853857</td>\n",
       "      <td>2.367881e-16</td>\n",
       "      <td>2.745978e-15</td>\n",
       "      <td>14.561303</td>\n",
       "      <td>263.0</td>\n",
       "      <td>63352.0</td>\n",
       "      <td>745.0</td>\n",
       "      <td>332688.0</td>\n",
       "      <td>0.004134</td>\n",
       "      <td>0.002234</td>\n",
       "      <td>IT-L5+MOp</td>\n",
       "    </tr>\n",
       "    <tr>\n",
       "      <th>MA0797.1</th>\n",
       "      <td>1.857718</td>\n",
       "      <td>6.245293e-15</td>\n",
       "      <td>6.803584e-14</td>\n",
       "      <td>13.167262</td>\n",
       "      <td>236.0</td>\n",
       "      <td>63379.0</td>\n",
       "      <td>667.0</td>\n",
       "      <td>332766.0</td>\n",
       "      <td>0.003710</td>\n",
       "      <td>0.002000</td>\n",
       "      <td>IT-L5+MOp</td>\n",
       "    </tr>\n",
       "    <tr>\n",
       "      <th>MA0817.1</th>\n",
       "      <td>2.082894</td>\n",
       "      <td>4.116121e-33</td>\n",
       "      <td>9.248409e-32</td>\n",
       "      <td>31.033933</td>\n",
       "      <td>419.0</td>\n",
       "      <td>63196.0</td>\n",
       "      <td>1058.0</td>\n",
       "      <td>332375.0</td>\n",
       "      <td>0.006586</td>\n",
       "      <td>0.003173</td>\n",
       "      <td>IT-L5+MOp</td>\n",
       "    </tr>\n",
       "    <tr>\n",
       "      <th>MA0818.1</th>\n",
       "      <td>2.175459</td>\n",
       "      <td>1.534099e-89</td>\n",
       "      <td>7.878692e-88</td>\n",
       "      <td>87.103546</td>\n",
       "      <td>1073.0</td>\n",
       "      <td>62542.0</td>\n",
       "      <td>2609.0</td>\n",
       "      <td>330824.0</td>\n",
       "      <td>0.016867</td>\n",
       "      <td>0.007825</td>\n",
       "      <td>IT-L5+MOp</td>\n",
       "    </tr>\n",
       "    <tr>\n",
       "      <th>MA0826.1</th>\n",
       "      <td>2.062246</td>\n",
       "      <td>2.604199e-32</td>\n",
       "      <td>5.673998e-31</td>\n",
       "      <td>30.246111</td>\n",
       "      <td>418.0</td>\n",
       "      <td>63197.0</td>\n",
       "      <td>1066.0</td>\n",
       "      <td>332367.0</td>\n",
       "      <td>0.006571</td>\n",
       "      <td>0.003197</td>\n",
       "      <td>IT-L5+MOp</td>\n",
       "    </tr>\n",
       "    <tr>\n",
       "      <th>MA0827.1</th>\n",
       "      <td>2.122173</td>\n",
       "      <td>1.643323e-56</td>\n",
       "      <td>5.137170e-55</td>\n",
       "      <td>54.289276</td>\n",
       "      <td>704.0</td>\n",
       "      <td>62911.0</td>\n",
       "      <td>1749.0</td>\n",
       "      <td>331684.0</td>\n",
       "      <td>0.011067</td>\n",
       "      <td>0.005245</td>\n",
       "      <td>IT-L5+MOp</td>\n",
       "    </tr>\n",
       "    <tr>\n",
       "      <th>MA1109.1</th>\n",
       "      <td>1.938231</td>\n",
       "      <td>3.592802e-133</td>\n",
       "      <td>3.229031e-131</td>\n",
       "      <td>130.490928</td>\n",
       "      <td>2149.0</td>\n",
       "      <td>61466.0</td>\n",
       "      <td>5908.0</td>\n",
       "      <td>327525.0</td>\n",
       "      <td>0.033781</td>\n",
       "      <td>0.017719</td>\n",
       "      <td>IT-L5+MOp</td>\n",
       "    </tr>\n",
       "    <tr>\n",
       "      <th>MA1115.1</th>\n",
       "      <td>2.008460</td>\n",
       "      <td>3.659647e-173</td>\n",
       "      <td>5.262573e-171</td>\n",
       "      <td>170.278802</td>\n",
       "      <td>2569.0</td>\n",
       "      <td>61046.0</td>\n",
       "      <td>6843.0</td>\n",
       "      <td>326590.0</td>\n",
       "      <td>0.040384</td>\n",
       "      <td>0.020523</td>\n",
       "      <td>IT-L5+MOp</td>\n",
       "    </tr>\n",
       "    <tr>\n",
       "      <th>MA1150.1</th>\n",
       "      <td>1.877116</td>\n",
       "      <td>7.098774e-94</td>\n",
       "      <td>3.926168e-92</td>\n",
       "      <td>91.406031</td>\n",
       "      <td>1634.0</td>\n",
       "      <td>61981.0</td>\n",
       "      <td>4618.0</td>\n",
       "      <td>328815.0</td>\n",
       "      <td>0.025686</td>\n",
       "      <td>0.013850</td>\n",
       "      <td>IT-L5+MOp</td>\n",
       "    </tr>\n",
       "    <tr>\n",
       "      <th>MA1151.1</th>\n",
       "      <td>2.729070</td>\n",
       "      <td>3.949337e-216</td>\n",
       "      <td>1.419787e-213</td>\n",
       "      <td>212.847777</td>\n",
       "      <td>1719.0</td>\n",
       "      <td>61896.0</td>\n",
       "      <td>3359.0</td>\n",
       "      <td>330074.0</td>\n",
       "      <td>0.027022</td>\n",
       "      <td>0.010074</td>\n",
       "      <td>IT-L5+MOp</td>\n",
       "    </tr>\n",
       "    <tr>\n",
       "      <th>MA1468.1</th>\n",
       "      <td>2.142561</td>\n",
       "      <td>3.421800e-95</td>\n",
       "      <td>2.050228e-93</td>\n",
       "      <td>92.688198</td>\n",
       "      <td>1183.0</td>\n",
       "      <td>62432.0</td>\n",
       "      <td>2923.0</td>\n",
       "      <td>330510.0</td>\n",
       "      <td>0.018596</td>\n",
       "      <td>0.008766</td>\n",
       "      <td>IT-L5+MOp</td>\n",
       "    </tr>\n",
       "    <tr>\n",
       "      <th>MA1568.1</th>\n",
       "      <td>2.131952</td>\n",
       "      <td>1.367415e-26</td>\n",
       "      <td>2.520953e-25</td>\n",
       "      <td>24.598435</td>\n",
       "      <td>314.0</td>\n",
       "      <td>63301.0</td>\n",
       "      <td>774.0</td>\n",
       "      <td>332659.0</td>\n",
       "      <td>0.004936</td>\n",
       "      <td>0.002321</td>\n",
       "      <td>IT-L5+MOp</td>\n",
       "    </tr>\n",
       "    <tr>\n",
       "      <th>MA1570.1</th>\n",
       "      <td>1.575749</td>\n",
       "      <td>7.046429e-76</td>\n",
       "      <td>3.166489e-74</td>\n",
       "      <td>73.499422</td>\n",
       "      <td>2384.0</td>\n",
       "      <td>61231.0</td>\n",
       "      <td>8040.0</td>\n",
       "      <td>325393.0</td>\n",
       "      <td>0.037475</td>\n",
       "      <td>0.024113</td>\n",
       "      <td>IT-L5+MOp</td>\n",
       "    </tr>\n",
       "    <tr>\n",
       "      <th>MA1571.1</th>\n",
       "      <td>1.638363</td>\n",
       "      <td>9.361424e-12</td>\n",
       "      <td>9.095762e-11</td>\n",
       "      <td>10.041161</td>\n",
       "      <td>269.0</td>\n",
       "      <td>63346.0</td>\n",
       "      <td>862.0</td>\n",
       "      <td>332571.0</td>\n",
       "      <td>0.004229</td>\n",
       "      <td>0.002585</td>\n",
       "      <td>IT-L5+MOp</td>\n",
       "    </tr>\n",
       "    <tr>\n",
       "      <th>MA1642.1</th>\n",
       "      <td>1.807353</td>\n",
       "      <td>1.285778e-177</td>\n",
       "      <td>2.311186e-175</td>\n",
       "      <td>174.636165</td>\n",
       "      <td>3562.0</td>\n",
       "      <td>60053.0</td>\n",
       "      <td>10595.0</td>\n",
       "      <td>322838.0</td>\n",
       "      <td>0.055993</td>\n",
       "      <td>0.031775</td>\n",
       "      <td>IT-L5+MOp</td>\n",
       "    </tr>\n",
       "  </tbody>\n",
       "</table>\n",
       "</div>"
      ],
      "text/plain": [
       "          oddsratio        p_value          adj_p        -lgp      tp  \\\n",
       "MA0019.1   1.503935   1.287582e-12   1.322531e-11   10.878594   414.0   \n",
       "MA0072.1   3.067093   2.745981e-95   1.794873e-93   92.745966   622.0   \n",
       "MA0091.1   1.635329   1.278804e-31   2.627030e-30   29.580535   814.0   \n",
       "MA0461.2   2.215089  7.073372e-106  5.085754e-104  103.293645  1226.0   \n",
       "MA0497.1   1.518373   3.888024e-25   6.818267e-24   23.166326   859.0   \n",
       "MA0507.1   2.572918  4.211451e-148  4.325762e-146  145.363937  1291.0   \n",
       "MA0607.1   2.078725  7.670060e-317  5.514773e-314  313.258472  4426.0   \n",
       "MA0623.2   2.287168   1.479278e-64   5.908895e-63   62.228494   687.0   \n",
       "MA0627.2   2.033132   1.658762e-57   5.679283e-56   55.245706   794.0   \n",
       "MA0633.1   2.273751  2.011796e-129  1.607202e-127  126.793930  1426.0   \n",
       "MA0668.1   2.216308   2.806759e-63   1.062137e-61   60.973820   719.0   \n",
       "MA0669.1   2.302278   2.559941e-57   8.366354e-56   55.077464   599.0   \n",
       "MA0678.1   2.232464   3.740348e-40   9.273483e-39   38.032757   440.0   \n",
       "MA0689.1   1.696790   3.550994e-14   3.810693e-13   12.418996   295.0   \n",
       "MA0690.1   1.527696   3.674452e-12   3.669349e-11   10.435411   370.0   \n",
       "MA0752.1   4.452349   1.268275e-35   3.039633e-34   33.517179   145.0   \n",
       "MA0784.1   2.199896   9.691196e-32   2.049403e-30   29.688373   354.0   \n",
       "MA0785.1   2.313659   2.468524e-72   1.044040e-70   69.981283   755.0   \n",
       "MA0786.1   2.130571   2.331235e-62   8.380790e-61   60.076715   773.0   \n",
       "MA0787.1   2.191630   2.746513e-53   8.228096e-52   51.084701   616.0   \n",
       "MA0788.1   2.278306   3.336211e-50   9.225906e-49   48.034991   533.0   \n",
       "MA0789.1   1.869556   1.174728e-82   5.630861e-81   80.249425  1448.0   \n",
       "MA0790.1   1.672710   8.096429e-17   1.078025e-15   14.967371   376.0   \n",
       "MA0791.1   1.853857   2.367881e-16   2.745978e-15   14.561303   263.0   \n",
       "MA0797.1   1.857718   6.245293e-15   6.803584e-14   13.167262   236.0   \n",
       "MA0817.1   2.082894   4.116121e-33   9.248409e-32   31.033933   419.0   \n",
       "MA0818.1   2.175459   1.534099e-89   7.878692e-88   87.103546  1073.0   \n",
       "MA0826.1   2.062246   2.604199e-32   5.673998e-31   30.246111   418.0   \n",
       "MA0827.1   2.122173   1.643323e-56   5.137170e-55   54.289276   704.0   \n",
       "MA1109.1   1.938231  3.592802e-133  3.229031e-131  130.490928  2149.0   \n",
       "MA1115.1   2.008460  3.659647e-173  5.262573e-171  170.278802  2569.0   \n",
       "MA1150.1   1.877116   7.098774e-94   3.926168e-92   91.406031  1634.0   \n",
       "MA1151.1   2.729070  3.949337e-216  1.419787e-213  212.847777  1719.0   \n",
       "MA1468.1   2.142561   3.421800e-95   2.050228e-93   92.688198  1183.0   \n",
       "MA1568.1   2.131952   1.367415e-26   2.520953e-25   24.598435   314.0   \n",
       "MA1570.1   1.575749   7.046429e-76   3.166489e-74   73.499422  2384.0   \n",
       "MA1571.1   1.638363   9.361424e-12   9.095762e-11   10.041161   269.0   \n",
       "MA1642.1   1.807353  1.285778e-177  2.311186e-175  174.636165  3562.0   \n",
       "\n",
       "               tn       fp        fn   tp_rate   fp_rate      Group  \n",
       "MA0019.1  63201.0   1446.0  331987.0  0.006508  0.004337  IT-L5+MOp  \n",
       "MA0072.1  62993.0   1070.0  332363.0  0.009778  0.003209  IT-L5+MOp  \n",
       "MA0091.1  62801.0   2622.0  330811.0  0.012796  0.007864  IT-L5+MOp  \n",
       "MA0461.2  62389.0   2932.0  330501.0  0.019272  0.008793  IT-L5+MOp  \n",
       "MA0497.1  62756.0   2979.0  330454.0  0.013503  0.008934  IT-L5+MOp  \n",
       "MA0507.1  62324.0   2663.0  330770.0  0.020294  0.007987  IT-L5+MOp  \n",
       "MA0607.1  59189.0  11578.0  321855.0  0.069575  0.034724  IT-L5+MOp  \n",
       "MA0623.2  62928.0   1584.0  331849.0  0.010799  0.004751  IT-L5+MOp  \n",
       "MA0627.2  62821.0   2060.0  331373.0  0.012481  0.006178  IT-L5+MOp  \n",
       "MA0633.1  62189.0   3329.0  330104.0  0.022416  0.009984  IT-L5+MOp  \n",
       "MA0668.1  62896.0   1711.0  331722.0  0.011302  0.005131  IT-L5+MOp  \n",
       "MA0669.1  63016.0   1371.0  332062.0  0.009416  0.004112  IT-L5+MOp  \n",
       "MA0678.1  63175.0   1037.0  332396.0  0.006917  0.003110  IT-L5+MOp  \n",
       "MA0689.1  63320.0    913.0  332520.0  0.004637  0.002738  IT-L5+MOp  \n",
       "MA0690.1  63245.0   1272.0  332161.0  0.005816  0.003815  IT-L5+MOp  \n",
       "MA0752.1  63470.0    171.0  333262.0  0.002279  0.000513  IT-L5+MOp  \n",
       "MA0784.1  63261.0    846.0  332587.0  0.005565  0.002537  IT-L5+MOp  \n",
       "MA0785.1  62860.0   1722.0  331711.0  0.011868  0.005164  IT-L5+MOp  \n",
       "MA0786.1  62842.0   1914.0  331519.0  0.012151  0.005740  IT-L5+MOp  \n",
       "MA0787.1  62999.0   1481.0  331952.0  0.009683  0.004442  IT-L5+MOp  \n",
       "MA0788.1  63082.0   1232.0  332201.0  0.008379  0.003695  IT-L5+MOp  \n",
       "MA0789.1  62167.0   4103.0  329330.0  0.022762  0.012305  IT-L5+MOp  \n",
       "MA0790.1  63239.0   1181.0  332252.0  0.005911  0.003542  IT-L5+MOp  \n",
       "MA0791.1  63352.0    745.0  332688.0  0.004134  0.002234  IT-L5+MOp  \n",
       "MA0797.1  63379.0    667.0  332766.0  0.003710  0.002000  IT-L5+MOp  \n",
       "MA0817.1  63196.0   1058.0  332375.0  0.006586  0.003173  IT-L5+MOp  \n",
       "MA0818.1  62542.0   2609.0  330824.0  0.016867  0.007825  IT-L5+MOp  \n",
       "MA0826.1  63197.0   1066.0  332367.0  0.006571  0.003197  IT-L5+MOp  \n",
       "MA0827.1  62911.0   1749.0  331684.0  0.011067  0.005245  IT-L5+MOp  \n",
       "MA1109.1  61466.0   5908.0  327525.0  0.033781  0.017719  IT-L5+MOp  \n",
       "MA1115.1  61046.0   6843.0  326590.0  0.040384  0.020523  IT-L5+MOp  \n",
       "MA1150.1  61981.0   4618.0  328815.0  0.025686  0.013850  IT-L5+MOp  \n",
       "MA1151.1  61896.0   3359.0  330074.0  0.027022  0.010074  IT-L5+MOp  \n",
       "MA1468.1  62432.0   2923.0  330510.0  0.018596  0.008766  IT-L5+MOp  \n",
       "MA1568.1  63301.0    774.0  332659.0  0.004936  0.002321  IT-L5+MOp  \n",
       "MA1570.1  61231.0   8040.0  325393.0  0.037475  0.024113  IT-L5+MOp  \n",
       "MA1571.1  63346.0    862.0  332571.0  0.004229  0.002585  IT-L5+MOp  \n",
       "MA1642.1  60053.0  10595.0  322838.0  0.055993  0.031775  IT-L5+MOp  "
      ]
     },
     "execution_count": 20,
     "metadata": {},
     "output_type": "execute_result"
    }
   ],
   "source": [
    "filtered_motif_df"
   ]
  },
  {
   "cell_type": "code",
   "execution_count": null,
   "metadata": {
    "papermill": {
     "duration": 0.010765,
     "end_time": "2020-01-14T06:46:36.161555",
     "exception": false,
     "start_time": "2020-01-14T06:46:36.150790",
     "status": "completed"
    },
    "tags": []
   },
   "outputs": [],
   "source": []
  }
 ],
 "metadata": {
  "hide_input": false,
  "kernelspec": {
   "display_name": "Python 3",
   "language": "python",
   "name": "python3"
  },
  "language_info": {
   "codemirror_mode": {
    "name": "ipython",
    "version": 3
   },
   "file_extension": ".py",
   "mimetype": "text/x-python",
   "name": "python",
   "nbconvert_exporter": "python",
   "pygments_lexer": "ipython3",
   "version": "3.7.3"
  },
  "papermill": {
   "duration": 13.512961,
   "end_time": "2020-01-14T06:46:36.679453",
   "environment_variables": {},
   "exception": null,
   "input_path": "4.MotifEnrichment.ipynb",
   "output_path": "/home/hanliu/project/mouse_rostral_brain/DMR/ITSpatial_by_layer/IT-L6/Recipe/4.MotifEnrichment.IT-L5+MOp.ipynb",
   "parameters": {
    "dmr_hits_path": "/home/hanliu/project/mouse_rostral_brain/DMR/ITSpatial_by_layer/IT-L5/HypoDMR/IT-L5+MOp.DMS1.bed",
    "group": "IT-L5+MOp",
    "mask_quantile_to99": 0.9,
    "motif_hits_path": "/home/hanliu/project/mouse_rostral_brain/DMR/ITSpatial_by_layer/IT-L5/MotifScan.h5ad",
    "neg_lgp_cutoff": 10,
    "or_cutoff": 1.5,
    "output_dir": "/home/hanliu/project/mouse_rostral_brain/DMR/ITSpatial_by_layer/IT-L5/MotifEnrichment"
   },
   "start_time": "2020-01-14T06:46:23.166492",
   "version": "1.0.1"
  },
  "toc": {
   "base_numbering": 1,
   "nav_menu": {},
   "number_sections": true,
   "sideBar": true,
   "skip_h1_title": true,
   "title_cell": "Table of Contents",
   "title_sidebar": "Contents",
   "toc_cell": false,
   "toc_position": {},
   "toc_section_display": true,
   "toc_window_display": true
  }
 },
 "nbformat": 4,
 "nbformat_minor": 2
}
