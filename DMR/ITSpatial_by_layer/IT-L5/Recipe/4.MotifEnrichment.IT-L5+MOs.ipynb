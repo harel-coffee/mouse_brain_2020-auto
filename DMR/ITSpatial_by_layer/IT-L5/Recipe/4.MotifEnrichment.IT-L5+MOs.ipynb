{
 "cells": [
  {
   "cell_type": "markdown",
   "metadata": {
    "papermill": {
     "duration": 0.00957,
     "end_time": "2020-01-14T06:46:37.599626",
     "exception": false,
     "start_time": "2020-01-14T06:46:37.590056",
     "status": "completed"
    },
    "tags": []
   },
   "source": [
    "# Motif Enrichment\n",
    "- The motif hits matrix save the max loglikelyhood score of a motif in that DMR\n",
    "- Before run the motif enrichment, I filter the scores for each motif using cutoff defined by\n",
    "    - `np.quantile(motif_score[motif_score > 0]) * mask_quantile_to99`\n",
    "- This filter will remove hits with low score, which is likely to be false positive\n",
    "- Its likely boosting the significance of real enrichment"
   ]
  },
  {
   "cell_type": "code",
   "execution_count": 1,
   "metadata": {
    "ExecuteTime": {
     "end_time": "2020-01-17T04:52:16.450500Z",
     "start_time": "2020-01-17T04:52:15.716554Z"
    },
    "papermill": {
     "duration": 0.690769,
     "end_time": "2020-01-14T06:46:38.301281",
     "exception": false,
     "start_time": "2020-01-14T06:46:37.610512",
     "status": "completed"
    },
    "tags": []
   },
   "outputs": [],
   "source": [
    "from concurrent.futures import ProcessPoolExecutor, as_completed\n",
    "import anndata\n",
    "import matplotlib.pyplot as plt\n",
    "import numpy as np\n",
    "import pandas as pd\n",
    "import pybedtools\n",
    "import scipy.stats as stats\n",
    "import seaborn as sns\n",
    "from scipy.sparse import csr_matrix\n",
    "from statsmodels.stats.multitest import multipletests\n",
    "import pathlib"
   ]
  },
  {
   "cell_type": "code",
   "execution_count": 2,
   "metadata": {
    "ExecuteTime": {
     "end_time": "2020-01-17T04:52:16.455166Z",
     "start_time": "2020-01-17T04:52:16.452395Z"
    },
    "papermill": {
     "duration": 0.015546,
     "end_time": "2020-01-14T06:46:38.327222",
     "exception": false,
     "start_time": "2020-01-14T06:46:38.311676",
     "status": "completed"
    },
    "tags": [
     "parameters"
    ]
   },
   "outputs": [],
   "source": [
    "mask_quantile_to99 = 0.9\n",
    "or_cutoff = 1.5\n",
    "neg_lgp_cutoff = 10\n",
    "group = 'IT-L23+ACA'\n",
    "\n",
    "motif_hits_path = '/home/hanliu/project/mouse_rostral_brain/DMR/ITSpatial_by_layer/IT-L23/MotifScan.h5ad'\n",
    "dmr_hits_path = f'/home/hanliu/project/mouse_rostral_brain/DMR/ITSpatial_by_layer/IT-L23/HypoDMR/{group}.DMS1.bed'\n",
    "output_dir = '/home/hanliu/project/mouse_rostral_brain/DMR/ITSpatial_by_layer/IT-L23/MotifEnrichment'\n"
   ]
  },
  {
   "cell_type": "code",
   "execution_count": 3,
   "metadata": {
    "ExecuteTime": {
     "end_time": "2020-01-17T04:52:16.458907Z",
     "start_time": "2020-01-17T04:52:16.456493Z"
    },
    "papermill": {
     "duration": 0.014675,
     "end_time": "2020-01-14T06:46:38.351295",
     "exception": false,
     "start_time": "2020-01-14T06:46:38.336620",
     "status": "completed"
    },
    "tags": [
     "injected-parameters"
    ]
   },
   "outputs": [],
   "source": [
    "# Parameters\n",
    "mask_quantile_to99 = 0.9\n",
    "or_cutoff = 1.5\n",
    "neg_lgp_cutoff = 10\n",
    "group = \"IT-L5+MOs\"\n",
    "motif_hits_path = \"/home/hanliu/project/mouse_rostral_brain/DMR/ITSpatial_by_layer/IT-L5/MotifScan.h5ad\"\n",
    "dmr_hits_path = \"/home/hanliu/project/mouse_rostral_brain/DMR/ITSpatial_by_layer/IT-L5/HypoDMR/IT-L5+MOs.DMS1.bed\"\n",
    "output_dir = \"/home/hanliu/project/mouse_rostral_brain/DMR/ITSpatial_by_layer/IT-L5/MotifEnrichment\"\n"
   ]
  },
  {
   "cell_type": "code",
   "execution_count": 4,
   "metadata": {
    "ExecuteTime": {
     "end_time": "2020-01-17T04:52:16.462382Z",
     "start_time": "2020-01-17T04:52:16.460175Z"
    },
    "papermill": {
     "duration": 0.015762,
     "end_time": "2020-01-14T06:46:38.376407",
     "exception": false,
     "start_time": "2020-01-14T06:46:38.360645",
     "status": "completed"
    },
    "tags": []
   },
   "outputs": [],
   "source": [
    "output_dir = pathlib.Path(output_dir)\n",
    "output_dir.mkdir(exist_ok=True)"
   ]
  },
  {
   "cell_type": "markdown",
   "metadata": {
    "papermill": {
     "duration": 0.009241,
     "end_time": "2020-01-14T06:46:38.395045",
     "exception": false,
     "start_time": "2020-01-14T06:46:38.385804",
     "status": "completed"
    },
    "tags": []
   },
   "source": [
    "## DMR hits"
   ]
  },
  {
   "cell_type": "code",
   "execution_count": 5,
   "metadata": {
    "ExecuteTime": {
     "end_time": "2020-01-17T04:52:16.524216Z",
     "start_time": "2020-01-17T04:52:16.463608Z"
    },
    "papermill": {
     "duration": 0.118172,
     "end_time": "2020-01-14T06:46:38.522702",
     "exception": false,
     "start_time": "2020-01-14T06:46:38.404530",
     "status": "completed"
    },
    "tags": []
   },
   "outputs": [
    {
     "data": {
      "text/html": [
       "<div>\n",
       "<style scoped>\n",
       "    .dataframe tbody tr th:only-of-type {\n",
       "        vertical-align: middle;\n",
       "    }\n",
       "\n",
       "    .dataframe tbody tr th {\n",
       "        vertical-align: top;\n",
       "    }\n",
       "\n",
       "    .dataframe thead th {\n",
       "        text-align: right;\n",
       "    }\n",
       "</style>\n",
       "<table border=\"1\" class=\"dataframe\">\n",
       "  <thead>\n",
       "    <tr style=\"text-align: right;\">\n",
       "      <th></th>\n",
       "      <th>0</th>\n",
       "      <th>1</th>\n",
       "      <th>2</th>\n",
       "    </tr>\n",
       "    <tr>\n",
       "      <th>3</th>\n",
       "      <th></th>\n",
       "      <th></th>\n",
       "      <th></th>\n",
       "    </tr>\n",
       "  </thead>\n",
       "  <tbody>\n",
       "    <tr>\n",
       "      <th>DGm3c_9</th>\n",
       "      <td>chr1</td>\n",
       "      <td>3114936</td>\n",
       "      <td>3115276</td>\n",
       "    </tr>\n",
       "    <tr>\n",
       "      <th>DGm3c_17</th>\n",
       "      <td>chr1</td>\n",
       "      <td>3204862</td>\n",
       "      <td>3204862</td>\n",
       "    </tr>\n",
       "    <tr>\n",
       "      <th>DGm3c_19</th>\n",
       "      <td>chr1</td>\n",
       "      <td>3211269</td>\n",
       "      <td>3211290</td>\n",
       "    </tr>\n",
       "    <tr>\n",
       "      <th>DGm3c_29</th>\n",
       "      <td>chr1</td>\n",
       "      <td>3265693</td>\n",
       "      <td>3265693</td>\n",
       "    </tr>\n",
       "    <tr>\n",
       "      <th>DGm3c_38</th>\n",
       "      <td>chr1</td>\n",
       "      <td>3324541</td>\n",
       "      <td>3324541</td>\n",
       "    </tr>\n",
       "  </tbody>\n",
       "</table>\n",
       "</div>"
      ],
      "text/plain": [
       "             0        1        2\n",
       "3                               \n",
       "DGm3c_9   chr1  3114936  3115276\n",
       "DGm3c_17  chr1  3204862  3204862\n",
       "DGm3c_19  chr1  3211269  3211290\n",
       "DGm3c_29  chr1  3265693  3265693\n",
       "DGm3c_38  chr1  3324541  3324541"
      ]
     },
     "execution_count": 5,
     "metadata": {},
     "output_type": "execute_result"
    }
   ],
   "source": [
    "dmr_bed_df = pd.read_csv(dmr_hits_path, sep='\\t', header=None, index_col=3)\n",
    "dmr_bed_df.head()"
   ]
  },
  {
   "cell_type": "code",
   "execution_count": 6,
   "metadata": {
    "ExecuteTime": {
     "end_time": "2020-01-17T04:52:18.764029Z",
     "start_time": "2020-01-17T04:52:16.525475Z"
    },
    "papermill": {
     "duration": 2.195639,
     "end_time": "2020-01-14T06:46:40.728963",
     "exception": false,
     "start_time": "2020-01-14T06:46:38.533324",
     "status": "completed"
    },
    "tags": []
   },
   "outputs": [
    {
     "data": {
      "text/plain": [
       "AnnData object with n_obs × n_vars = 51106 × 719 \n",
       "    obs: 'chrom', 'start', 'end'"
      ]
     },
     "execution_count": 6,
     "metadata": {},
     "output_type": "execute_result"
    }
   ],
   "source": [
    "motif_hits = anndata.read_h5ad(motif_hits_path)\n",
    "motif_hits = motif_hits[dmr_bed_df.index, :].copy()\n",
    "motif_ids = motif_hits.var_names\n",
    "motif_hits.X = motif_hits.X.todense()\n",
    "motif_hits"
   ]
  },
  {
   "cell_type": "code",
   "execution_count": 7,
   "metadata": {
    "ExecuteTime": {
     "end_time": "2020-01-17T04:52:19.491696Z",
     "start_time": "2020-01-17T04:52:18.769333Z"
    },
    "papermill": {
     "duration": 1.212938,
     "end_time": "2020-01-14T06:46:41.953235",
     "exception": false,
     "start_time": "2020-01-14T06:46:40.740297",
     "status": "completed"
    },
    "tags": []
   },
   "outputs": [],
   "source": [
    "# mask small motif scores\n",
    "motif_cutoff = pd.Series(np.apply_along_axis(lambda i: np.quantile(i[i>0], 0.99) * mask_quantile_to99, \n",
    "                                             0, motif_hits.X),\n",
    "                         index=motif_hits.var_names)\n",
    "# only keep value larger than the cutoff for each motif\n",
    "motif_hits.X = np.multiply(motif_hits.X, (motif_hits.X > motif_cutoff.values[None, :]))"
   ]
  },
  {
   "cell_type": "markdown",
   "metadata": {
    "papermill": {
     "duration": 0.009615,
     "end_time": "2020-01-14T06:46:41.973207",
     "exception": false,
     "start_time": "2020-01-14T06:46:41.963592",
     "status": "completed"
    },
    "tags": []
   },
   "source": [
    "## Background Hits"
   ]
  },
  {
   "cell_type": "code",
   "execution_count": 8,
   "metadata": {
    "ExecuteTime": {
     "end_time": "2020-01-17T04:52:20.751538Z",
     "start_time": "2020-01-17T04:52:19.493560Z"
    },
    "papermill": {
     "duration": 1.166552,
     "end_time": "2020-01-14T06:46:43.149378",
     "exception": false,
     "start_time": "2020-01-14T06:46:41.982826",
     "status": "completed"
    },
    "tags": []
   },
   "outputs": [],
   "source": [
    "background_motif_hits = anndata.read_h5ad(\n",
    "    '/home/hanliu/project/mouse_rostral_brain/DMR/BackgroundDMR/MotifScan.h5ad'\n",
    ")"
   ]
  },
  {
   "cell_type": "code",
   "execution_count": 9,
   "metadata": {
    "ExecuteTime": {
     "end_time": "2020-01-17T04:52:22.017422Z",
     "start_time": "2020-01-17T04:52:20.753030Z"
    },
    "papermill": {
     "duration": 1.146796,
     "end_time": "2020-01-14T06:46:44.306416",
     "exception": false,
     "start_time": "2020-01-14T06:46:43.159620",
     "status": "completed"
    },
    "tags": []
   },
   "outputs": [],
   "source": [
    "dmr_bed = pybedtools.BedTool().from_dataframe(dmr_bed_df)\n",
    "bg_bed = pybedtools.BedTool().from_dataframe(\n",
    "    background_motif_hits.obs.reset_index().iloc[:, [1, 2, 3, 0]])"
   ]
  },
  {
   "cell_type": "code",
   "execution_count": 10,
   "metadata": {
    "ExecuteTime": {
     "end_time": "2020-01-17T04:52:23.739023Z",
     "start_time": "2020-01-17T04:52:22.019088Z"
    },
    "papermill": {
     "duration": 1.609099,
     "end_time": "2020-01-14T06:46:45.925915",
     "exception": false,
     "start_time": "2020-01-14T06:46:44.316816",
     "status": "completed"
    },
    "tags": []
   },
   "outputs": [],
   "source": [
    "# exclude background that overlap with DMR\n",
    "bg_no_overlap = bg_bed.intersect(dmr_bed, v=True)\n",
    "use_bg = bg_no_overlap.to_dataframe().iloc[:, -1].values\n",
    "background_motif_hits = background_motif_hits[use_bg, :]\n",
    "\n",
    "# make sure col in same order\n",
    "background_motif_hits = background_motif_hits[:, motif_ids].copy()"
   ]
  },
  {
   "cell_type": "code",
   "execution_count": 11,
   "metadata": {
    "ExecuteTime": {
     "end_time": "2020-01-17T04:52:26.163468Z",
     "start_time": "2020-01-17T04:52:23.741010Z"
    },
    "papermill": {
     "duration": 2.075092,
     "end_time": "2020-01-14T06:46:48.011168",
     "exception": false,
     "start_time": "2020-01-14T06:46:45.936076",
     "status": "completed"
    },
    "tags": []
   },
   "outputs": [],
   "source": [
    "judge_matrix = csr_matrix(background_motif_hits.X > motif_cutoff.values[None, :])\n",
    "background_motif_hits.X = background_motif_hits.X.multiply(judge_matrix)"
   ]
  },
  {
   "cell_type": "code",
   "execution_count": 12,
   "metadata": {
    "ExecuteTime": {
     "end_time": "2020-01-17T04:52:26.170900Z",
     "start_time": "2020-01-17T04:52:26.166061Z"
    },
    "papermill": {
     "duration": 0.016887,
     "end_time": "2020-01-14T06:46:48.038672",
     "exception": false,
     "start_time": "2020-01-14T06:46:48.021785",
     "status": "completed"
    },
    "tags": []
   },
   "outputs": [
    {
     "data": {
      "text/plain": [
       "AnnData object with n_obs × n_vars = 336988 × 719 \n",
       "    obs: 'chrom', 'start', 'end'"
      ]
     },
     "execution_count": 12,
     "metadata": {},
     "output_type": "execute_result"
    }
   ],
   "source": [
    "background_motif_hits"
   ]
  },
  {
   "cell_type": "markdown",
   "metadata": {
    "papermill": {
     "duration": 0.009563,
     "end_time": "2020-01-14T06:46:48.057840",
     "exception": false,
     "start_time": "2020-01-14T06:46:48.048277",
     "status": "completed"
    },
    "tags": []
   },
   "source": [
    "## Motif hits contingency table"
   ]
  },
  {
   "cell_type": "code",
   "execution_count": 13,
   "metadata": {
    "ExecuteTime": {
     "end_time": "2020-01-17T04:52:26.474204Z",
     "start_time": "2020-01-17T04:52:26.172195Z"
    },
    "papermill": {
     "duration": 0.279752,
     "end_time": "2020-01-14T06:46:48.347279",
     "exception": false,
     "start_time": "2020-01-14T06:46:48.067527",
     "status": "completed"
    },
    "tags": []
   },
   "outputs": [],
   "source": [
    "# calculate motif occurence, not considering hits here\n",
    "pos = (motif_hits.X > 0).sum(axis=0)\n",
    "pos_total = motif_hits.shape[0]\n",
    "\n",
    "neg = (background_motif_hits.X > 0).sum(axis=0)\n",
    "neg_total = background_motif_hits.shape[0]"
   ]
  },
  {
   "cell_type": "code",
   "execution_count": 14,
   "metadata": {
    "ExecuteTime": {
     "end_time": "2020-01-17T04:52:26.479968Z",
     "start_time": "2020-01-17T04:52:26.475584Z"
    },
    "papermill": {
     "duration": 0.05961,
     "end_time": "2020-01-14T06:46:48.417295",
     "exception": false,
     "start_time": "2020-01-14T06:46:48.357685",
     "status": "completed"
    },
    "scrolled": true,
    "tags": []
   },
   "outputs": [],
   "source": [
    "tables = {}\n",
    "for motif, _pos, _neg in zip(motif_ids, pos.A1, neg.A1):\n",
    "    table = [[_pos, pos_total - _pos], [_neg, neg_total - _neg]]\n",
    "    tables[motif] = table"
   ]
  },
  {
   "cell_type": "code",
   "execution_count": 15,
   "metadata": {
    "ExecuteTime": {
     "end_time": "2020-01-17T04:52:27.213602Z",
     "start_time": "2020-01-17T04:52:26.481510Z"
    },
    "papermill": {
     "duration": 0.957182,
     "end_time": "2020-01-14T06:46:49.383983",
     "exception": false,
     "start_time": "2020-01-14T06:46:48.426801",
     "status": "completed"
    },
    "tags": []
   },
   "outputs": [
    {
     "name": "stderr",
     "output_type": "stream",
     "text": [
      "/home/hanliu/miniconda3/envs/clustering/lib/python3.7/site-packages/pandas/core/series.py:853: RuntimeWarning: divide by zero encountered in log10\n",
      "  result = getattr(ufunc, method)(*inputs, **kwargs)\n"
     ]
    }
   ],
   "source": [
    "results = {}\n",
    "with ProcessPoolExecutor(20) as executor:\n",
    "    fs = {}\n",
    "    for motif, t in tables.items():\n",
    "        f = executor.submit(stats.fisher_exact, t, alternative='greater')\n",
    "        fs[f] = motif\n",
    "\n",
    "    for f in as_completed(fs):\n",
    "        motif = fs[f]\n",
    "        odds, p = f.result()\n",
    "        results[motif] = {'oddsratio': odds, 'p_value': p}\n",
    "motif_enrich_df = pd.DataFrame(results).T\n",
    "\n",
    "_, p, _, _ = multipletests(motif_enrich_df['p_value'], method='fdr_bh')\n",
    "motif_enrich_df['adj_p'] = p\n",
    "\n",
    "motif_enrich_df['-lgp'] = -np.log10(motif_enrich_df['adj_p']).replace(\n",
    "    -np.inf, -300)\n",
    "\n",
    "records = {}\n",
    "for motif, t in tables.items():\n",
    "    tp, tn = t[0]\n",
    "    fp, fn = t[1]\n",
    "    tp_rate = tp / pos_total\n",
    "    fp_rate = fp / neg_total\n",
    "    records[motif] = dict(tp=tp,\n",
    "                          tn=tn,\n",
    "                          fp=fp,\n",
    "                          fn=fn,\n",
    "                          tp_rate=tp_rate,\n",
    "                          fp_rate=fp_rate)\n",
    "counts = pd.DataFrame(records).T\n",
    "motif_enrich_df = pd.concat([motif_enrich_df, counts], axis=1, sort=True)"
   ]
  },
  {
   "cell_type": "code",
   "execution_count": 16,
   "metadata": {
    "ExecuteTime": {
     "end_time": "2020-01-17T04:52:27.217881Z",
     "start_time": "2020-01-17T04:52:27.215174Z"
    },
    "papermill": {
     "duration": 0.015904,
     "end_time": "2020-01-14T06:46:49.411110",
     "exception": false,
     "start_time": "2020-01-14T06:46:49.395206",
     "status": "completed"
    },
    "tags": []
   },
   "outputs": [],
   "source": [
    "motif_enrich_df['Group'] = group"
   ]
  },
  {
   "cell_type": "code",
   "execution_count": 17,
   "metadata": {
    "ExecuteTime": {
     "end_time": "2020-01-17T04:52:27.352064Z",
     "start_time": "2020-01-17T04:52:27.219024Z"
    },
    "papermill": {
     "duration": 0.018075,
     "end_time": "2020-01-14T06:46:49.438935",
     "exception": false,
     "start_time": "2020-01-14T06:46:49.420860",
     "status": "completed"
    },
    "tags": []
   },
   "outputs": [
    {
     "data": {
      "text/plain": [
       "37"
      ]
     },
     "execution_count": 17,
     "metadata": {},
     "output_type": "execute_result"
    }
   ],
   "source": [
    "# final filter\n",
    "filtered_motif_df = motif_enrich_df[(motif_enrich_df['oddsratio'] > or_cutoff)\n",
    "                                    &\n",
    "                                    (motif_enrich_df['-lgp'] > neg_lgp_cutoff)]\n",
    "filtered_motif_df.shape[0]"
   ]
  },
  {
   "cell_type": "code",
   "execution_count": 18,
   "metadata": {
    "ExecuteTime": {
     "end_time": "2020-01-17T04:52:27.357027Z",
     "start_time": "2020-01-17T04:52:27.353241Z"
    },
    "papermill": {
     "duration": 0.016526,
     "end_time": "2020-01-14T06:46:49.465623",
     "exception": false,
     "start_time": "2020-01-14T06:46:49.449097",
     "status": "completed"
    },
    "tags": []
   },
   "outputs": [
    {
     "name": "stderr",
     "output_type": "stream",
     "text": [
      "/home/hanliu/miniconda3/envs/clustering/lib/python3.7/site-packages/ipykernel_launcher.py:1: FutureWarning: to_msgpack is deprecated and will be removed in a future version.\n",
      "It is recommended to use pyarrow for on-the-wire transmission of pandas objects.\n",
      "  \"\"\"Entry point for launching an IPython kernel.\n"
     ]
    }
   ],
   "source": [
    "motif_enrich_df.to_msgpack(output_dir / f'{group}.motif_enrichment.msg')"
   ]
  },
  {
   "cell_type": "code",
   "execution_count": 19,
   "metadata": {
    "ExecuteTime": {
     "end_time": "2020-01-17T04:52:27.366206Z",
     "start_time": "2020-01-17T04:52:27.358246Z"
    },
    "papermill": {
     "duration": 0.020601,
     "end_time": "2020-01-14T06:46:49.496331",
     "exception": false,
     "start_time": "2020-01-14T06:46:49.475730",
     "status": "completed"
    },
    "tags": []
   },
   "outputs": [],
   "source": [
    "pybedtools.cleanup()"
   ]
  },
  {
   "cell_type": "code",
   "execution_count": 20,
   "metadata": {
    "ExecuteTime": {
     "end_time": "2020-01-17T04:52:27.387690Z",
     "start_time": "2020-01-17T04:52:27.367360Z"
    },
    "papermill": {
     "duration": 0.032628,
     "end_time": "2020-01-14T06:46:49.540000",
     "exception": false,
     "start_time": "2020-01-14T06:46:49.507372",
     "status": "completed"
    },
    "tags": []
   },
   "outputs": [
    {
     "data": {
      "text/html": [
       "<div>\n",
       "<style scoped>\n",
       "    .dataframe tbody tr th:only-of-type {\n",
       "        vertical-align: middle;\n",
       "    }\n",
       "\n",
       "    .dataframe tbody tr th {\n",
       "        vertical-align: top;\n",
       "    }\n",
       "\n",
       "    .dataframe thead th {\n",
       "        text-align: right;\n",
       "    }\n",
       "</style>\n",
       "<table border=\"1\" class=\"dataframe\">\n",
       "  <thead>\n",
       "    <tr style=\"text-align: right;\">\n",
       "      <th></th>\n",
       "      <th>oddsratio</th>\n",
       "      <th>p_value</th>\n",
       "      <th>adj_p</th>\n",
       "      <th>-lgp</th>\n",
       "      <th>tp</th>\n",
       "      <th>tn</th>\n",
       "      <th>fp</th>\n",
       "      <th>fn</th>\n",
       "      <th>tp_rate</th>\n",
       "      <th>fp_rate</th>\n",
       "      <th>Group</th>\n",
       "    </tr>\n",
       "  </thead>\n",
       "  <tbody>\n",
       "    <tr>\n",
       "      <th>MA0052.4</th>\n",
       "      <td>1.614087</td>\n",
       "      <td>1.338333e-31</td>\n",
       "      <td>2.672949e-30</td>\n",
       "      <td>29.573009</td>\n",
       "      <td>824.0</td>\n",
       "      <td>50282.0</td>\n",
       "      <td>3387.0</td>\n",
       "      <td>333601.0</td>\n",
       "      <td>0.016123</td>\n",
       "      <td>0.010051</td>\n",
       "      <td>IT-L5+MOs</td>\n",
       "    </tr>\n",
       "    <tr>\n",
       "      <th>MA0091.1</th>\n",
       "      <td>2.092100</td>\n",
       "      <td>7.514314e-64</td>\n",
       "      <td>2.251163e-62</td>\n",
       "      <td>61.647593</td>\n",
       "      <td>794.0</td>\n",
       "      <td>50312.0</td>\n",
       "      <td>2523.0</td>\n",
       "      <td>334465.0</td>\n",
       "      <td>0.015536</td>\n",
       "      <td>0.007487</td>\n",
       "      <td>IT-L5+MOs</td>\n",
       "    </tr>\n",
       "    <tr>\n",
       "      <th>MA0461.2</th>\n",
       "      <td>3.422786</td>\n",
       "      <td>1.174188e-272</td>\n",
       "      <td>2.814137e-270</td>\n",
       "      <td>269.550655</td>\n",
       "      <td>1498.0</td>\n",
       "      <td>49608.0</td>\n",
       "      <td>2947.0</td>\n",
       "      <td>334041.0</td>\n",
       "      <td>0.029312</td>\n",
       "      <td>0.008745</td>\n",
       "      <td>IT-L5+MOs</td>\n",
       "    </tr>\n",
       "    <tr>\n",
       "      <th>MA0497.1</th>\n",
       "      <td>1.732889</td>\n",
       "      <td>5.275665e-46</td>\n",
       "      <td>1.264401e-44</td>\n",
       "      <td>43.898115</td>\n",
       "      <td>954.0</td>\n",
       "      <td>50152.0</td>\n",
       "      <td>3659.0</td>\n",
       "      <td>333329.0</td>\n",
       "      <td>0.018667</td>\n",
       "      <td>0.010858</td>\n",
       "      <td>IT-L5+MOs</td>\n",
       "    </tr>\n",
       "    <tr>\n",
       "      <th>MA0507.1</th>\n",
       "      <td>1.882066</td>\n",
       "      <td>5.125801e-53</td>\n",
       "      <td>1.417481e-51</td>\n",
       "      <td>50.848483</td>\n",
       "      <td>860.0</td>\n",
       "      <td>50246.0</td>\n",
       "      <td>3037.0</td>\n",
       "      <td>333951.0</td>\n",
       "      <td>0.016828</td>\n",
       "      <td>0.009012</td>\n",
       "      <td>IT-L5+MOs</td>\n",
       "    </tr>\n",
       "    <tr>\n",
       "      <th>MA0509.2</th>\n",
       "      <td>3.009666</td>\n",
       "      <td>3.867801e-73</td>\n",
       "      <td>1.324262e-71</td>\n",
       "      <td>70.878026</td>\n",
       "      <td>465.0</td>\n",
       "      <td>50641.0</td>\n",
       "      <td>1025.0</td>\n",
       "      <td>335963.0</td>\n",
       "      <td>0.009099</td>\n",
       "      <td>0.003042</td>\n",
       "      <td>IT-L5+MOs</td>\n",
       "    </tr>\n",
       "    <tr>\n",
       "      <th>MA0510.2</th>\n",
       "      <td>2.513116</td>\n",
       "      <td>8.267233e-19</td>\n",
       "      <td>1.042832e-17</td>\n",
       "      <td>16.981786</td>\n",
       "      <td>148.0</td>\n",
       "      <td>50958.0</td>\n",
       "      <td>389.0</td>\n",
       "      <td>336599.0</td>\n",
       "      <td>0.002896</td>\n",
       "      <td>0.001154</td>\n",
       "      <td>IT-L5+MOs</td>\n",
       "    </tr>\n",
       "    <tr>\n",
       "      <th>MA0600.2</th>\n",
       "      <td>2.630660</td>\n",
       "      <td>4.138889e-19</td>\n",
       "      <td>5.314038e-18</td>\n",
       "      <td>17.274575</td>\n",
       "      <td>139.0</td>\n",
       "      <td>50967.0</td>\n",
       "      <td>349.0</td>\n",
       "      <td>336639.0</td>\n",
       "      <td>0.002720</td>\n",
       "      <td>0.001036</td>\n",
       "      <td>IT-L5+MOs</td>\n",
       "    </tr>\n",
       "    <tr>\n",
       "      <th>MA0607.1</th>\n",
       "      <td>2.411300</td>\n",
       "      <td>0.000000e+00</td>\n",
       "      <td>0.000000e+00</td>\n",
       "      <td>300.000000</td>\n",
       "      <td>4082.0</td>\n",
       "      <td>47024.0</td>\n",
       "      <td>11710.0</td>\n",
       "      <td>325278.0</td>\n",
       "      <td>0.079873</td>\n",
       "      <td>0.034749</td>\n",
       "      <td>IT-L5+MOs</td>\n",
       "    </tr>\n",
       "    <tr>\n",
       "      <th>MA0619.1</th>\n",
       "      <td>1.699312</td>\n",
       "      <td>1.332147e-300</td>\n",
       "      <td>4.789067e-298</td>\n",
       "      <td>297.319749</td>\n",
       "      <td>7647.0</td>\n",
       "      <td>43459.0</td>\n",
       "      <td>31620.0</td>\n",
       "      <td>305368.0</td>\n",
       "      <td>0.149630</td>\n",
       "      <td>0.093831</td>\n",
       "      <td>IT-L5+MOs</td>\n",
       "    </tr>\n",
       "    <tr>\n",
       "      <th>MA0623.2</th>\n",
       "      <td>3.194094</td>\n",
       "      <td>1.879151e-129</td>\n",
       "      <td>9.007399e-128</td>\n",
       "      <td>127.045401</td>\n",
       "      <td>768.0</td>\n",
       "      <td>50338.0</td>\n",
       "      <td>1602.0</td>\n",
       "      <td>335386.0</td>\n",
       "      <td>0.015028</td>\n",
       "      <td>0.004754</td>\n",
       "      <td>IT-L5+MOs</td>\n",
       "    </tr>\n",
       "    <tr>\n",
       "      <th>MA0627.2</th>\n",
       "      <td>1.685479</td>\n",
       "      <td>2.615249e-25</td>\n",
       "      <td>3.760728e-24</td>\n",
       "      <td>23.424728</td>\n",
       "      <td>553.0</td>\n",
       "      <td>50553.0</td>\n",
       "      <td>2173.0</td>\n",
       "      <td>334815.0</td>\n",
       "      <td>0.010821</td>\n",
       "      <td>0.006448</td>\n",
       "      <td>IT-L5+MOs</td>\n",
       "    </tr>\n",
       "    <tr>\n",
       "      <th>MA0633.1</th>\n",
       "      <td>2.963927</td>\n",
       "      <td>3.031085e-221</td>\n",
       "      <td>3.113357e-219</td>\n",
       "      <td>218.506771</td>\n",
       "      <td>1480.0</td>\n",
       "      <td>49626.0</td>\n",
       "      <td>3357.0</td>\n",
       "      <td>333631.0</td>\n",
       "      <td>0.028959</td>\n",
       "      <td>0.009962</td>\n",
       "      <td>IT-L5+MOs</td>\n",
       "    </tr>\n",
       "    <tr>\n",
       "      <th>MA0668.1</th>\n",
       "      <td>3.579471</td>\n",
       "      <td>6.173191e-160</td>\n",
       "      <td>4.438524e-158</td>\n",
       "      <td>157.352761</td>\n",
       "      <td>822.0</td>\n",
       "      <td>50284.0</td>\n",
       "      <td>1532.0</td>\n",
       "      <td>335456.0</td>\n",
       "      <td>0.016084</td>\n",
       "      <td>0.004546</td>\n",
       "      <td>IT-L5+MOs</td>\n",
       "    </tr>\n",
       "    <tr>\n",
       "      <th>MA0669.1</th>\n",
       "      <td>3.250801</td>\n",
       "      <td>2.505639e-117</td>\n",
       "      <td>1.125972e-115</td>\n",
       "      <td>114.948473</td>\n",
       "      <td>678.0</td>\n",
       "      <td>50428.0</td>\n",
       "      <td>1388.0</td>\n",
       "      <td>335600.0</td>\n",
       "      <td>0.013267</td>\n",
       "      <td>0.004119</td>\n",
       "      <td>IT-L5+MOs</td>\n",
       "    </tr>\n",
       "    <tr>\n",
       "      <th>MA0678.1</th>\n",
       "      <td>4.133971</td>\n",
       "      <td>1.475538e-148</td>\n",
       "      <td>8.840931e-147</td>\n",
       "      <td>146.053502</td>\n",
       "      <td>647.0</td>\n",
       "      <td>50459.0</td>\n",
       "      <td>1042.0</td>\n",
       "      <td>335946.0</td>\n",
       "      <td>0.012660</td>\n",
       "      <td>0.003092</td>\n",
       "      <td>IT-L5+MOs</td>\n",
       "    </tr>\n",
       "    <tr>\n",
       "      <th>MA0785.1</th>\n",
       "      <td>1.909125</td>\n",
       "      <td>4.327194e-33</td>\n",
       "      <td>8.889294e-32</td>\n",
       "      <td>31.051133</td>\n",
       "      <td>502.0</td>\n",
       "      <td>50604.0</td>\n",
       "      <td>1742.0</td>\n",
       "      <td>335246.0</td>\n",
       "      <td>0.009823</td>\n",
       "      <td>0.005169</td>\n",
       "      <td>IT-L5+MOs</td>\n",
       "    </tr>\n",
       "    <tr>\n",
       "      <th>MA0786.1</th>\n",
       "      <td>1.650527</td>\n",
       "      <td>2.857067e-25</td>\n",
       "      <td>4.027904e-24</td>\n",
       "      <td>23.394921</td>\n",
       "      <td>595.0</td>\n",
       "      <td>50511.0</td>\n",
       "      <td>2388.0</td>\n",
       "      <td>334600.0</td>\n",
       "      <td>0.011642</td>\n",
       "      <td>0.007086</td>\n",
       "      <td>IT-L5+MOs</td>\n",
       "    </tr>\n",
       "    <tr>\n",
       "      <th>MA0787.1</th>\n",
       "      <td>1.720339</td>\n",
       "      <td>9.526697e-22</td>\n",
       "      <td>1.292395e-20</td>\n",
       "      <td>19.888605</td>\n",
       "      <td>437.0</td>\n",
       "      <td>50669.0</td>\n",
       "      <td>1681.0</td>\n",
       "      <td>335307.0</td>\n",
       "      <td>0.008551</td>\n",
       "      <td>0.004988</td>\n",
       "      <td>IT-L5+MOs</td>\n",
       "    </tr>\n",
       "    <tr>\n",
       "      <th>MA0788.1</th>\n",
       "      <td>1.976865</td>\n",
       "      <td>1.293335e-30</td>\n",
       "      <td>2.324770e-29</td>\n",
       "      <td>28.633620</td>\n",
       "      <td>421.0</td>\n",
       "      <td>50685.0</td>\n",
       "      <td>1410.0</td>\n",
       "      <td>335578.0</td>\n",
       "      <td>0.008238</td>\n",
       "      <td>0.004184</td>\n",
       "      <td>IT-L5+MOs</td>\n",
       "    </tr>\n",
       "    <tr>\n",
       "      <th>MA0789.1</th>\n",
       "      <td>1.582865</td>\n",
       "      <td>6.441563e-35</td>\n",
       "      <td>1.403480e-33</td>\n",
       "      <td>32.852794</td>\n",
       "      <td>991.0</td>\n",
       "      <td>50115.0</td>\n",
       "      <td>4158.0</td>\n",
       "      <td>332830.0</td>\n",
       "      <td>0.019391</td>\n",
       "      <td>0.012339</td>\n",
       "      <td>IT-L5+MOs</td>\n",
       "    </tr>\n",
       "    <tr>\n",
       "      <th>MA0790.1</th>\n",
       "      <td>1.556003</td>\n",
       "      <td>1.862766e-12</td>\n",
       "      <td>1.860179e-11</td>\n",
       "      <td>10.730445</td>\n",
       "      <td>339.0</td>\n",
       "      <td>50767.0</td>\n",
       "      <td>1440.0</td>\n",
       "      <td>335548.0</td>\n",
       "      <td>0.006633</td>\n",
       "      <td>0.004273</td>\n",
       "      <td>IT-L5+MOs</td>\n",
       "    </tr>\n",
       "    <tr>\n",
       "      <th>MA0798.2</th>\n",
       "      <td>3.095430</td>\n",
       "      <td>3.540379e-67</td>\n",
       "      <td>1.157060e-65</td>\n",
       "      <td>64.936644</td>\n",
       "      <td>409.0</td>\n",
       "      <td>50697.0</td>\n",
       "      <td>876.0</td>\n",
       "      <td>336112.0</td>\n",
       "      <td>0.008003</td>\n",
       "      <td>0.002599</td>\n",
       "      <td>IT-L5+MOs</td>\n",
       "    </tr>\n",
       "    <tr>\n",
       "      <th>MA0799.1</th>\n",
       "      <td>2.668943</td>\n",
       "      <td>6.995753e-30</td>\n",
       "      <td>1.226816e-28</td>\n",
       "      <td>27.911221</td>\n",
       "      <td>220.0</td>\n",
       "      <td>50886.0</td>\n",
       "      <td>545.0</td>\n",
       "      <td>336443.0</td>\n",
       "      <td>0.004305</td>\n",
       "      <td>0.001617</td>\n",
       "      <td>IT-L5+MOs</td>\n",
       "    </tr>\n",
       "    <tr>\n",
       "      <th>MA0817.1</th>\n",
       "      <td>4.092549</td>\n",
       "      <td>4.943765e-109</td>\n",
       "      <td>2.090922e-107</td>\n",
       "      <td>106.679662</td>\n",
       "      <td>477.0</td>\n",
       "      <td>50629.0</td>\n",
       "      <td>774.0</td>\n",
       "      <td>336214.0</td>\n",
       "      <td>0.009334</td>\n",
       "      <td>0.002297</td>\n",
       "      <td>IT-L5+MOs</td>\n",
       "    </tr>\n",
       "    <tr>\n",
       "      <th>MA0818.1</th>\n",
       "      <td>3.396643</td>\n",
       "      <td>1.856351e-237</td>\n",
       "      <td>2.224527e-235</td>\n",
       "      <td>234.652762</td>\n",
       "      <td>1314.0</td>\n",
       "      <td>49792.0</td>\n",
       "      <td>2598.0</td>\n",
       "      <td>334390.0</td>\n",
       "      <td>0.025711</td>\n",
       "      <td>0.007709</td>\n",
       "      <td>IT-L5+MOs</td>\n",
       "    </tr>\n",
       "    <tr>\n",
       "      <th>MA0826.1</th>\n",
       "      <td>3.902541</td>\n",
       "      <td>8.422969e-135</td>\n",
       "      <td>4.325796e-133</td>\n",
       "      <td>132.363934</td>\n",
       "      <td>624.0</td>\n",
       "      <td>50482.0</td>\n",
       "      <td>1064.0</td>\n",
       "      <td>335924.0</td>\n",
       "      <td>0.012210</td>\n",
       "      <td>0.003157</td>\n",
       "      <td>IT-L5+MOs</td>\n",
       "    </tr>\n",
       "    <tr>\n",
       "      <th>MA0827.1</th>\n",
       "      <td>3.740386</td>\n",
       "      <td>2.361837e-199</td>\n",
       "      <td>2.122701e-197</td>\n",
       "      <td>196.673111</td>\n",
       "      <td>976.0</td>\n",
       "      <td>50130.0</td>\n",
       "      <td>1745.0</td>\n",
       "      <td>335243.0</td>\n",
       "      <td>0.019098</td>\n",
       "      <td>0.005178</td>\n",
       "      <td>IT-L5+MOs</td>\n",
       "    </tr>\n",
       "    <tr>\n",
       "      <th>MA1109.1</th>\n",
       "      <td>2.198508</td>\n",
       "      <td>8.845378e-168</td>\n",
       "      <td>7.066474e-166</td>\n",
       "      <td>165.150797</td>\n",
       "      <td>1928.0</td>\n",
       "      <td>49178.0</td>\n",
       "      <td>5904.0</td>\n",
       "      <td>331084.0</td>\n",
       "      <td>0.037726</td>\n",
       "      <td>0.017520</td>\n",
       "      <td>IT-L5+MOs</td>\n",
       "    </tr>\n",
       "    <tr>\n",
       "      <th>MA1115.1</th>\n",
       "      <td>1.709907</td>\n",
       "      <td>5.295549e-81</td>\n",
       "      <td>2.003947e-79</td>\n",
       "      <td>78.698114</td>\n",
       "      <td>1812.0</td>\n",
       "      <td>49294.0</td>\n",
       "      <td>7092.0</td>\n",
       "      <td>329896.0</td>\n",
       "      <td>0.035456</td>\n",
       "      <td>0.021045</td>\n",
       "      <td>IT-L5+MOs</td>\n",
       "    </tr>\n",
       "    <tr>\n",
       "      <th>MA1468.1</th>\n",
       "      <td>3.269360</td>\n",
       "      <td>2.804628e-243</td>\n",
       "      <td>4.033055e-241</td>\n",
       "      <td>240.394366</td>\n",
       "      <td>1417.0</td>\n",
       "      <td>49689.0</td>\n",
       "      <td>2914.0</td>\n",
       "      <td>334074.0</td>\n",
       "      <td>0.027727</td>\n",
       "      <td>0.008647</td>\n",
       "      <td>IT-L5+MOs</td>\n",
       "    </tr>\n",
       "    <tr>\n",
       "      <th>MA1479.1</th>\n",
       "      <td>1.716131</td>\n",
       "      <td>6.784286e-16</td>\n",
       "      <td>7.867584e-15</td>\n",
       "      <td>14.104159</td>\n",
       "      <td>311.0</td>\n",
       "      <td>50795.0</td>\n",
       "      <td>1198.0</td>\n",
       "      <td>335790.0</td>\n",
       "      <td>0.006085</td>\n",
       "      <td>0.003555</td>\n",
       "      <td>IT-L5+MOs</td>\n",
       "    </tr>\n",
       "    <tr>\n",
       "      <th>MA1524.1</th>\n",
       "      <td>1.678952</td>\n",
       "      <td>1.041248e-50</td>\n",
       "      <td>2.772804e-49</td>\n",
       "      <td>48.557081</td>\n",
       "      <td>1179.0</td>\n",
       "      <td>49927.0</td>\n",
       "      <td>4674.0</td>\n",
       "      <td>332314.0</td>\n",
       "      <td>0.023070</td>\n",
       "      <td>0.013870</td>\n",
       "      <td>IT-L5+MOs</td>\n",
       "    </tr>\n",
       "    <tr>\n",
       "      <th>MA1568.1</th>\n",
       "      <td>3.681191</td>\n",
       "      <td>3.652536e-78</td>\n",
       "      <td>1.313087e-76</td>\n",
       "      <td>75.881707</td>\n",
       "      <td>382.0</td>\n",
       "      <td>50724.0</td>\n",
       "      <td>688.0</td>\n",
       "      <td>336300.0</td>\n",
       "      <td>0.007475</td>\n",
       "      <td>0.002042</td>\n",
       "      <td>IT-L5+MOs</td>\n",
       "    </tr>\n",
       "    <tr>\n",
       "      <th>MA1570.1</th>\n",
       "      <td>1.956299</td>\n",
       "      <td>1.264106e-135</td>\n",
       "      <td>6.991477e-134</td>\n",
       "      <td>133.155431</td>\n",
       "      <td>2060.0</td>\n",
       "      <td>49046.0</td>\n",
       "      <td>7083.0</td>\n",
       "      <td>329905.0</td>\n",
       "      <td>0.040308</td>\n",
       "      <td>0.021019</td>\n",
       "      <td>IT-L5+MOs</td>\n",
       "    </tr>\n",
       "    <tr>\n",
       "      <th>MA1638.1</th>\n",
       "      <td>1.521065</td>\n",
       "      <td>1.263010e-155</td>\n",
       "      <td>8.255490e-154</td>\n",
       "      <td>153.083257</td>\n",
       "      <td>5910.0</td>\n",
       "      <td>45196.0</td>\n",
       "      <td>26677.0</td>\n",
       "      <td>310311.0</td>\n",
       "      <td>0.115642</td>\n",
       "      <td>0.079163</td>\n",
       "      <td>IT-L5+MOs</td>\n",
       "    </tr>\n",
       "    <tr>\n",
       "      <th>MA1642.1</th>\n",
       "      <td>2.120760</td>\n",
       "      <td>1.692499e-263</td>\n",
       "      <td>3.042266e-261</td>\n",
       "      <td>260.516803</td>\n",
       "      <td>3357.0</td>\n",
       "      <td>47749.0</td>\n",
       "      <td>10813.0</td>\n",
       "      <td>326175.0</td>\n",
       "      <td>0.065687</td>\n",
       "      <td>0.032087</td>\n",
       "      <td>IT-L5+MOs</td>\n",
       "    </tr>\n",
       "  </tbody>\n",
       "</table>\n",
       "</div>"
      ],
      "text/plain": [
       "          oddsratio        p_value          adj_p        -lgp      tp  \\\n",
       "MA0052.4   1.614087   1.338333e-31   2.672949e-30   29.573009   824.0   \n",
       "MA0091.1   2.092100   7.514314e-64   2.251163e-62   61.647593   794.0   \n",
       "MA0461.2   3.422786  1.174188e-272  2.814137e-270  269.550655  1498.0   \n",
       "MA0497.1   1.732889   5.275665e-46   1.264401e-44   43.898115   954.0   \n",
       "MA0507.1   1.882066   5.125801e-53   1.417481e-51   50.848483   860.0   \n",
       "MA0509.2   3.009666   3.867801e-73   1.324262e-71   70.878026   465.0   \n",
       "MA0510.2   2.513116   8.267233e-19   1.042832e-17   16.981786   148.0   \n",
       "MA0600.2   2.630660   4.138889e-19   5.314038e-18   17.274575   139.0   \n",
       "MA0607.1   2.411300   0.000000e+00   0.000000e+00  300.000000  4082.0   \n",
       "MA0619.1   1.699312  1.332147e-300  4.789067e-298  297.319749  7647.0   \n",
       "MA0623.2   3.194094  1.879151e-129  9.007399e-128  127.045401   768.0   \n",
       "MA0627.2   1.685479   2.615249e-25   3.760728e-24   23.424728   553.0   \n",
       "MA0633.1   2.963927  3.031085e-221  3.113357e-219  218.506771  1480.0   \n",
       "MA0668.1   3.579471  6.173191e-160  4.438524e-158  157.352761   822.0   \n",
       "MA0669.1   3.250801  2.505639e-117  1.125972e-115  114.948473   678.0   \n",
       "MA0678.1   4.133971  1.475538e-148  8.840931e-147  146.053502   647.0   \n",
       "MA0785.1   1.909125   4.327194e-33   8.889294e-32   31.051133   502.0   \n",
       "MA0786.1   1.650527   2.857067e-25   4.027904e-24   23.394921   595.0   \n",
       "MA0787.1   1.720339   9.526697e-22   1.292395e-20   19.888605   437.0   \n",
       "MA0788.1   1.976865   1.293335e-30   2.324770e-29   28.633620   421.0   \n",
       "MA0789.1   1.582865   6.441563e-35   1.403480e-33   32.852794   991.0   \n",
       "MA0790.1   1.556003   1.862766e-12   1.860179e-11   10.730445   339.0   \n",
       "MA0798.2   3.095430   3.540379e-67   1.157060e-65   64.936644   409.0   \n",
       "MA0799.1   2.668943   6.995753e-30   1.226816e-28   27.911221   220.0   \n",
       "MA0817.1   4.092549  4.943765e-109  2.090922e-107  106.679662   477.0   \n",
       "MA0818.1   3.396643  1.856351e-237  2.224527e-235  234.652762  1314.0   \n",
       "MA0826.1   3.902541  8.422969e-135  4.325796e-133  132.363934   624.0   \n",
       "MA0827.1   3.740386  2.361837e-199  2.122701e-197  196.673111   976.0   \n",
       "MA1109.1   2.198508  8.845378e-168  7.066474e-166  165.150797  1928.0   \n",
       "MA1115.1   1.709907   5.295549e-81   2.003947e-79   78.698114  1812.0   \n",
       "MA1468.1   3.269360  2.804628e-243  4.033055e-241  240.394366  1417.0   \n",
       "MA1479.1   1.716131   6.784286e-16   7.867584e-15   14.104159   311.0   \n",
       "MA1524.1   1.678952   1.041248e-50   2.772804e-49   48.557081  1179.0   \n",
       "MA1568.1   3.681191   3.652536e-78   1.313087e-76   75.881707   382.0   \n",
       "MA1570.1   1.956299  1.264106e-135  6.991477e-134  133.155431  2060.0   \n",
       "MA1638.1   1.521065  1.263010e-155  8.255490e-154  153.083257  5910.0   \n",
       "MA1642.1   2.120760  1.692499e-263  3.042266e-261  260.516803  3357.0   \n",
       "\n",
       "               tn       fp        fn   tp_rate   fp_rate      Group  \n",
       "MA0052.4  50282.0   3387.0  333601.0  0.016123  0.010051  IT-L5+MOs  \n",
       "MA0091.1  50312.0   2523.0  334465.0  0.015536  0.007487  IT-L5+MOs  \n",
       "MA0461.2  49608.0   2947.0  334041.0  0.029312  0.008745  IT-L5+MOs  \n",
       "MA0497.1  50152.0   3659.0  333329.0  0.018667  0.010858  IT-L5+MOs  \n",
       "MA0507.1  50246.0   3037.0  333951.0  0.016828  0.009012  IT-L5+MOs  \n",
       "MA0509.2  50641.0   1025.0  335963.0  0.009099  0.003042  IT-L5+MOs  \n",
       "MA0510.2  50958.0    389.0  336599.0  0.002896  0.001154  IT-L5+MOs  \n",
       "MA0600.2  50967.0    349.0  336639.0  0.002720  0.001036  IT-L5+MOs  \n",
       "MA0607.1  47024.0  11710.0  325278.0  0.079873  0.034749  IT-L5+MOs  \n",
       "MA0619.1  43459.0  31620.0  305368.0  0.149630  0.093831  IT-L5+MOs  \n",
       "MA0623.2  50338.0   1602.0  335386.0  0.015028  0.004754  IT-L5+MOs  \n",
       "MA0627.2  50553.0   2173.0  334815.0  0.010821  0.006448  IT-L5+MOs  \n",
       "MA0633.1  49626.0   3357.0  333631.0  0.028959  0.009962  IT-L5+MOs  \n",
       "MA0668.1  50284.0   1532.0  335456.0  0.016084  0.004546  IT-L5+MOs  \n",
       "MA0669.1  50428.0   1388.0  335600.0  0.013267  0.004119  IT-L5+MOs  \n",
       "MA0678.1  50459.0   1042.0  335946.0  0.012660  0.003092  IT-L5+MOs  \n",
       "MA0785.1  50604.0   1742.0  335246.0  0.009823  0.005169  IT-L5+MOs  \n",
       "MA0786.1  50511.0   2388.0  334600.0  0.011642  0.007086  IT-L5+MOs  \n",
       "MA0787.1  50669.0   1681.0  335307.0  0.008551  0.004988  IT-L5+MOs  \n",
       "MA0788.1  50685.0   1410.0  335578.0  0.008238  0.004184  IT-L5+MOs  \n",
       "MA0789.1  50115.0   4158.0  332830.0  0.019391  0.012339  IT-L5+MOs  \n",
       "MA0790.1  50767.0   1440.0  335548.0  0.006633  0.004273  IT-L5+MOs  \n",
       "MA0798.2  50697.0    876.0  336112.0  0.008003  0.002599  IT-L5+MOs  \n",
       "MA0799.1  50886.0    545.0  336443.0  0.004305  0.001617  IT-L5+MOs  \n",
       "MA0817.1  50629.0    774.0  336214.0  0.009334  0.002297  IT-L5+MOs  \n",
       "MA0818.1  49792.0   2598.0  334390.0  0.025711  0.007709  IT-L5+MOs  \n",
       "MA0826.1  50482.0   1064.0  335924.0  0.012210  0.003157  IT-L5+MOs  \n",
       "MA0827.1  50130.0   1745.0  335243.0  0.019098  0.005178  IT-L5+MOs  \n",
       "MA1109.1  49178.0   5904.0  331084.0  0.037726  0.017520  IT-L5+MOs  \n",
       "MA1115.1  49294.0   7092.0  329896.0  0.035456  0.021045  IT-L5+MOs  \n",
       "MA1468.1  49689.0   2914.0  334074.0  0.027727  0.008647  IT-L5+MOs  \n",
       "MA1479.1  50795.0   1198.0  335790.0  0.006085  0.003555  IT-L5+MOs  \n",
       "MA1524.1  49927.0   4674.0  332314.0  0.023070  0.013870  IT-L5+MOs  \n",
       "MA1568.1  50724.0    688.0  336300.0  0.007475  0.002042  IT-L5+MOs  \n",
       "MA1570.1  49046.0   7083.0  329905.0  0.040308  0.021019  IT-L5+MOs  \n",
       "MA1638.1  45196.0  26677.0  310311.0  0.115642  0.079163  IT-L5+MOs  \n",
       "MA1642.1  47749.0  10813.0  326175.0  0.065687  0.032087  IT-L5+MOs  "
      ]
     },
     "execution_count": 20,
     "metadata": {},
     "output_type": "execute_result"
    }
   ],
   "source": [
    "filtered_motif_df"
   ]
  },
  {
   "cell_type": "code",
   "execution_count": null,
   "metadata": {
    "papermill": {
     "duration": 0.010731,
     "end_time": "2020-01-14T06:46:49.561640",
     "exception": false,
     "start_time": "2020-01-14T06:46:49.550909",
     "status": "completed"
    },
    "tags": []
   },
   "outputs": [],
   "source": []
  }
 ],
 "metadata": {
  "hide_input": false,
  "kernelspec": {
   "display_name": "Python 3",
   "language": "python",
   "name": "python3"
  },
  "language_info": {
   "codemirror_mode": {
    "name": "ipython",
    "version": 3
   },
   "file_extension": ".py",
   "mimetype": "text/x-python",
   "name": "python",
   "nbconvert_exporter": "python",
   "pygments_lexer": "ipython3",
   "version": "3.7.3"
  },
  "papermill": {
   "duration": 13.351026,
   "end_time": "2020-01-14T06:46:50.079437",
   "environment_variables": {},
   "exception": null,
   "input_path": "4.MotifEnrichment.ipynb",
   "output_path": "/home/hanliu/project/mouse_rostral_brain/DMR/ITSpatial_by_layer/IT-L6/Recipe/4.MotifEnrichment.IT-L5+MOs.ipynb",
   "parameters": {
    "dmr_hits_path": "/home/hanliu/project/mouse_rostral_brain/DMR/ITSpatial_by_layer/IT-L5/HypoDMR/IT-L5+MOs.DMS1.bed",
    "group": "IT-L5+MOs",
    "mask_quantile_to99": 0.9,
    "motif_hits_path": "/home/hanliu/project/mouse_rostral_brain/DMR/ITSpatial_by_layer/IT-L5/MotifScan.h5ad",
    "neg_lgp_cutoff": 10,
    "or_cutoff": 1.5,
    "output_dir": "/home/hanliu/project/mouse_rostral_brain/DMR/ITSpatial_by_layer/IT-L5/MotifEnrichment"
   },
   "start_time": "2020-01-14T06:46:36.728411",
   "version": "1.0.1"
  },
  "toc": {
   "base_numbering": 1,
   "nav_menu": {},
   "number_sections": true,
   "sideBar": true,
   "skip_h1_title": true,
   "title_cell": "Table of Contents",
   "title_sidebar": "Contents",
   "toc_cell": false,
   "toc_position": {},
   "toc_section_display": true,
   "toc_window_display": true
  }
 },
 "nbformat": 4,
 "nbformat_minor": 2
}
