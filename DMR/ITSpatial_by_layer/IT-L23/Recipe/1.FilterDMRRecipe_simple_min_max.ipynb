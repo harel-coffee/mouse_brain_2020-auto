{
 "cells": [
  {
   "cell_type": "code",
   "execution_count": 1,
   "metadata": {
    "ExecuteTime": {
     "end_time": "2020-01-16T05:26:57.257794Z",
     "start_time": "2020-01-16T05:26:56.818796Z"
    },
    "papermill": {
     "duration": 0.455198,
     "end_time": "2020-01-12T04:46:56.700481",
     "exception": false,
     "start_time": "2020-01-12T04:46:56.245283",
     "status": "completed"
    },
    "tags": []
   },
   "outputs": [],
   "source": [
    "import pathlib\n",
    "import numpy as np\n",
    "import pandas as pd\n",
    "from scipy.sparse import csr_matrix\n",
    "import anndata\n",
    "from pybedtools import BedTool"
   ]
  },
  {
   "cell_type": "markdown",
   "metadata": {
    "ExecuteTime": {
     "end_time": "2020-01-10T03:41:10.279754Z",
     "start_time": "2020-01-10T03:41:10.259634Z"
    },
    "papermill": {
     "duration": 0.009634,
     "end_time": "2020-01-12T04:46:56.720858",
     "exception": false,
     "start_time": "2020-01-12T04:46:56.711224",
     "status": "completed"
    },
    "tags": []
   },
   "source": [
    "## Parameter"
   ]
  },
  {
   "cell_type": "code",
   "execution_count": 2,
   "metadata": {
    "ExecuteTime": {
     "end_time": "2020-01-16T05:26:57.262526Z",
     "start_time": "2020-01-16T05:26:57.259814Z"
    },
    "papermill": {
     "duration": 0.014431,
     "end_time": "2020-01-12T04:46:56.744328",
     "exception": false,
     "start_time": "2020-01-12T04:46:56.729897",
     "status": "completed"
    },
    "tags": [
     "parameters"
    ]
   },
   "outputs": [],
   "source": [
    "dmr_path = '/home/hanliu/project/mouse_rostral_brain/DMR/DGmCHGroup/DMR/axis-mch_rms_results_collapsed.tsv'\n",
    "dmr_prefix = 'DGmCH'\n",
    "\n",
    "black_list_path = '/home/hanliu/ref/blacklist/mm10-blacklist.v2.bed.gz'\n",
    "delta_cutoff=0.3\n",
    "dms_cutoff = 1"
   ]
  },
  {
   "cell_type": "code",
   "execution_count": 3,
   "metadata": {
    "ExecuteTime": {
     "end_time": "2020-01-16T05:26:57.266039Z",
     "start_time": "2020-01-16T05:26:57.263832Z"
    },
    "papermill": {
     "duration": 0.01435,
     "end_time": "2020-01-12T04:46:56.767939",
     "exception": false,
     "start_time": "2020-01-12T04:46:56.753589",
     "status": "completed"
    },
    "tags": [
     "injected-parameters"
    ]
   },
   "outputs": [],
   "source": [
    "# Parameters\n",
    "dmr_path = \"/home/hanliu/project/mouse_rostral_brain/DMR/ITSpatial_by_layer/IT-L23/IT-L23_rms_results_collapsed.tsv\"\n",
    "dmr_prefix = \"DGm3c\"\n",
    "black_list_path = \"/home/hanliu/ref/blacklist/mm10-blacklist.v2.bed.gz\"\n",
    "delta_cutoff = 0.4\n",
    "dms_cutoff = 1\n"
   ]
  },
  {
   "cell_type": "markdown",
   "metadata": {
    "papermill": {
     "duration": 0.009105,
     "end_time": "2020-01-12T04:46:56.786181",
     "exception": false,
     "start_time": "2020-01-12T04:46:56.777076",
     "status": "completed"
    },
    "tags": []
   },
   "source": [
    "## Read DMR"
   ]
  },
  {
   "cell_type": "code",
   "execution_count": 4,
   "metadata": {
    "ExecuteTime": {
     "end_time": "2020-01-16T05:26:58.800183Z",
     "start_time": "2020-01-16T05:26:57.268018Z"
    },
    "papermill": {
     "duration": 1.533635,
     "end_time": "2020-01-12T04:46:58.329004",
     "exception": false,
     "start_time": "2020-01-12T04:46:56.795369",
     "status": "completed"
    },
    "scrolled": true,
    "tags": []
   },
   "outputs": [
    {
     "name": "stdout",
     "output_type": "stream",
     "text": [
      "722150 dmr before filter\n"
     ]
    }
   ],
   "source": [
    "# get column and n_sample\n",
    "dmr_column = pd.read_csv(dmr_path, sep='\\t', nrows=0).columns\n",
    "n_sample = dmr_column.size - 6\n",
    "dmr_column = dmr_column.map(lambda i: i[18:] if 'methylation_level_' in i else i)\n",
    "samples = dmr_column[6:]\n",
    "\n",
    "dmr_region_infos = []\n",
    "mc_rates = []\n",
    "hypo_sig_dict = {sample: [] for sample in samples}\n",
    "hyper_sig_dict = {sample: [] for sample in samples}\n",
    "\n",
    "dmr_df = pd.read_csv(dmr_path, sep='\\t', skiprows=1, names=dmr_column)\n",
    "print(dmr_df.shape[0], 'dmr before filter')\n",
    "dmr_df.index = dmr_df.index.map(lambda i: f'{dmr_prefix}_{i}')\n",
    "\n",
    "# save raw info\n",
    "dmr_bed = dmr_df.iloc[:, :4].copy()\n",
    "mc_rate = dmr_df.iloc[:, 6:].copy()"
   ]
  },
  {
   "cell_type": "markdown",
   "metadata": {
    "papermill": {
     "duration": 0.009467,
     "end_time": "2020-01-12T04:46:58.348702",
     "exception": false,
     "start_time": "2020-01-12T04:46:58.339235",
     "status": "completed"
    },
    "tags": []
   },
   "source": [
    "## Save unfiltered dmr info"
   ]
  },
  {
   "cell_type": "code",
   "execution_count": 5,
   "metadata": {
    "ExecuteTime": {
     "end_time": "2020-01-16T05:26:59.762265Z",
     "start_time": "2020-01-16T05:26:58.802387Z"
    },
    "papermill": {
     "duration": 0.974702,
     "end_time": "2020-01-12T04:46:59.332695",
     "exception": false,
     "start_time": "2020-01-12T04:46:58.357993",
     "status": "completed"
    },
    "tags": []
   },
   "outputs": [],
   "source": [
    "with pd.HDFStore(pathlib.Path(dmr_path).parent / 'DMRInfo.h5') as hdf:\n",
    "    hdf['Rate'] = mc_rate\n",
    "    hdf['Bed'] = dmr_bed"
   ]
  },
  {
   "cell_type": "code",
   "execution_count": 6,
   "metadata": {
    "ExecuteTime": {
     "end_time": "2020-01-16T05:27:01.734563Z",
     "start_time": "2020-01-16T05:26:59.763946Z"
    },
    "papermill": {
     "duration": 1.962092,
     "end_time": "2020-01-12T04:47:01.305412",
     "exception": false,
     "start_time": "2020-01-12T04:46:59.343320",
     "status": "completed"
    },
    "tags": []
   },
   "outputs": [],
   "source": [
    "dmr_bed.reset_index().iloc[:, [1, 2, 3, 0]].to_csv(pathlib.Path(dmr_path).parent / 'TotalDMR.nofilter.bed', \n",
    "                                                   index=None, header=None, sep='\\t')"
   ]
  },
  {
   "cell_type": "markdown",
   "metadata": {
    "papermill": {
     "duration": 0.009421,
     "end_time": "2020-01-12T04:47:01.324866",
     "exception": false,
     "start_time": "2020-01-12T04:47:01.315445",
     "status": "completed"
    },
    "tags": []
   },
   "source": [
    "## Filter DMR"
   ]
  },
  {
   "cell_type": "code",
   "execution_count": 7,
   "metadata": {
    "ExecuteTime": {
     "end_time": "2020-01-16T05:27:01.960812Z",
     "start_time": "2020-01-16T05:27:01.736094Z"
    },
    "papermill": {
     "duration": 0.234354,
     "end_time": "2020-01-12T04:47:01.568563",
     "exception": false,
     "start_time": "2020-01-12T04:47:01.334209",
     "status": "completed"
    },
    "tags": []
   },
   "outputs": [
    {
     "name": "stdout",
     "output_type": "stream",
     "text": [
      "206834 dmr pass delta filter\n"
     ]
    }
   ],
   "source": [
    "# filter by delta\n",
    "delta_judge = (mc_rate.max(axis=1) - mc_rate.min(axis=1)) > delta_cutoff\n",
    "delta_index = mc_rate.index[delta_judge]\n",
    "\n",
    "print(delta_index.size, 'dmr pass delta filter')"
   ]
  },
  {
   "cell_type": "code",
   "execution_count": 8,
   "metadata": {
    "ExecuteTime": {
     "end_time": "2020-01-16T05:27:05.497510Z",
     "start_time": "2020-01-16T05:27:01.962341Z"
    },
    "papermill": {
     "duration": 3.630503,
     "end_time": "2020-01-12T04:47:05.209547",
     "exception": false,
     "start_time": "2020-01-12T04:47:01.579044",
     "status": "completed"
    },
    "tags": []
   },
   "outputs": [
    {
     "name": "stdout",
     "output_type": "stream",
     "text": [
      "714083 dmr pass blacklist filter\n"
     ]
    }
   ],
   "source": [
    "# filter by blacklist\n",
    "black_list = pd.read_csv(black_list_path, sep='\\t', header=None)\n",
    "black_list = BedTool.from_dataframe(black_list)\n",
    "\n",
    "_dmr_bed = BedTool.from_dataframe(dmr_bed.reset_index().iloc[:, [1,2,3,0]])\n",
    "filtered_dmr_bed = _dmr_bed.intersect(black_list, v=True).to_dataframe().set_index('name')\n",
    "\n",
    "white_index = filtered_dmr_bed.index\n",
    "\n",
    "print(white_index.size, 'dmr pass blacklist filter')"
   ]
  },
  {
   "cell_type": "code",
   "execution_count": 9,
   "metadata": {
    "ExecuteTime": {
     "end_time": "2020-01-16T05:27:06.210214Z",
     "start_time": "2020-01-16T05:27:05.499591Z"
    },
    "papermill": {
     "duration": 1.027872,
     "end_time": "2020-01-12T04:47:06.248584",
     "exception": false,
     "start_time": "2020-01-12T04:47:05.220712",
     "status": "completed"
    },
    "tags": []
   },
   "outputs": [
    {
     "name": "stdout",
     "output_type": "stream",
     "text": [
      "204546 dmr after filter\n"
     ]
    },
    {
     "data": {
      "text/html": [
       "<div>\n",
       "<style scoped>\n",
       "    .dataframe tbody tr th:only-of-type {\n",
       "        vertical-align: middle;\n",
       "    }\n",
       "\n",
       "    .dataframe tbody tr th {\n",
       "        vertical-align: top;\n",
       "    }\n",
       "\n",
       "    .dataframe thead th {\n",
       "        text-align: right;\n",
       "    }\n",
       "</style>\n",
       "<table border=\"1\" class=\"dataframe\">\n",
       "  <thead>\n",
       "    <tr style=\"text-align: right;\">\n",
       "      <th></th>\n",
       "      <th>#chr</th>\n",
       "      <th>start</th>\n",
       "      <th>end</th>\n",
       "      <th>number_of_dms</th>\n",
       "      <th>hypermethylated_samples</th>\n",
       "      <th>hypomethylated_samples</th>\n",
       "      <th>IT-L23+ACA</th>\n",
       "      <th>IT-L23+AI</th>\n",
       "      <th>IT-L23+MOp</th>\n",
       "      <th>IT-L23+ORB</th>\n",
       "      <th>IT-L23+PFC</th>\n",
       "      <th>IT-L23+SSp</th>\n",
       "      <th>IT-L23+MOs</th>\n",
       "      <th>IT-L23+SSs</th>\n",
       "    </tr>\n",
       "  </thead>\n",
       "  <tbody>\n",
       "    <tr>\n",
       "      <th>DGm3c_0</th>\n",
       "      <td>chr1</td>\n",
       "      <td>3013472</td>\n",
       "      <td>3013520</td>\n",
       "      <td>2</td>\n",
       "      <td>NaN</td>\n",
       "      <td>IT-L23+SSs</td>\n",
       "      <td>0.834951</td>\n",
       "      <td>0.681818</td>\n",
       "      <td>0.692308</td>\n",
       "      <td>0.625000</td>\n",
       "      <td>0.827160</td>\n",
       "      <td>0.580000</td>\n",
       "      <td>0.763158</td>\n",
       "      <td>0.426667</td>\n",
       "    </tr>\n",
       "    <tr>\n",
       "      <th>DGm3c_3</th>\n",
       "      <td>chr1</td>\n",
       "      <td>3057752</td>\n",
       "      <td>3057873</td>\n",
       "      <td>3</td>\n",
       "      <td>IT-L23+AI,IT-L23+PFC,IT-L23+MOs</td>\n",
       "      <td>IT-L23+ACA,IT-L23+SSp</td>\n",
       "      <td>0.490291</td>\n",
       "      <td>0.900000</td>\n",
       "      <td>0.809045</td>\n",
       "      <td>0.838462</td>\n",
       "      <td>0.854430</td>\n",
       "      <td>0.606635</td>\n",
       "      <td>0.789773</td>\n",
       "      <td>0.669118</td>\n",
       "    </tr>\n",
       "    <tr>\n",
       "      <th>DGm3c_13</th>\n",
       "      <td>chr1</td>\n",
       "      <td>3117711</td>\n",
       "      <td>3117711</td>\n",
       "      <td>1</td>\n",
       "      <td>IT-L23+AI,IT-L23+MOp</td>\n",
       "      <td>IT-L23+ACA</td>\n",
       "      <td>0.100000</td>\n",
       "      <td>0.600000</td>\n",
       "      <td>0.500000</td>\n",
       "      <td>0.219512</td>\n",
       "      <td>0.308642</td>\n",
       "      <td>0.400000</td>\n",
       "      <td>0.312500</td>\n",
       "      <td>0.315789</td>\n",
       "    </tr>\n",
       "    <tr>\n",
       "      <th>DGm3c_18</th>\n",
       "      <td>chr1</td>\n",
       "      <td>3146250</td>\n",
       "      <td>3146250</td>\n",
       "      <td>1</td>\n",
       "      <td>IT-L23+ORB,IT-L23+MOs</td>\n",
       "      <td>IT-L23+SSp</td>\n",
       "      <td>0.400000</td>\n",
       "      <td>0.576923</td>\n",
       "      <td>0.509434</td>\n",
       "      <td>0.701754</td>\n",
       "      <td>0.675676</td>\n",
       "      <td>0.267857</td>\n",
       "      <td>0.725490</td>\n",
       "      <td>0.346939</td>\n",
       "    </tr>\n",
       "    <tr>\n",
       "      <th>DGm3c_24</th>\n",
       "      <td>chr1</td>\n",
       "      <td>3211017</td>\n",
       "      <td>3211017</td>\n",
       "      <td>1</td>\n",
       "      <td>IT-L23+ACA,IT-L23+ORB,IT-L23+PFC</td>\n",
       "      <td>IT-L23+MOp,IT-L23+SSs</td>\n",
       "      <td>0.812500</td>\n",
       "      <td>0.523810</td>\n",
       "      <td>0.310680</td>\n",
       "      <td>0.721649</td>\n",
       "      <td>0.806122</td>\n",
       "      <td>0.428571</td>\n",
       "      <td>0.469027</td>\n",
       "      <td>0.259259</td>\n",
       "    </tr>\n",
       "  </tbody>\n",
       "</table>\n",
       "</div>"
      ],
      "text/plain": [
       "          #chr    start      end  number_of_dms  \\\n",
       "DGm3c_0   chr1  3013472  3013520              2   \n",
       "DGm3c_3   chr1  3057752  3057873              3   \n",
       "DGm3c_13  chr1  3117711  3117711              1   \n",
       "DGm3c_18  chr1  3146250  3146250              1   \n",
       "DGm3c_24  chr1  3211017  3211017              1   \n",
       "\n",
       "                   hypermethylated_samples hypomethylated_samples  IT-L23+ACA  \\\n",
       "DGm3c_0                                NaN             IT-L23+SSs    0.834951   \n",
       "DGm3c_3    IT-L23+AI,IT-L23+PFC,IT-L23+MOs  IT-L23+ACA,IT-L23+SSp    0.490291   \n",
       "DGm3c_13              IT-L23+AI,IT-L23+MOp             IT-L23+ACA    0.100000   \n",
       "DGm3c_18             IT-L23+ORB,IT-L23+MOs             IT-L23+SSp    0.400000   \n",
       "DGm3c_24  IT-L23+ACA,IT-L23+ORB,IT-L23+PFC  IT-L23+MOp,IT-L23+SSs    0.812500   \n",
       "\n",
       "          IT-L23+AI  IT-L23+MOp  IT-L23+ORB  IT-L23+PFC  IT-L23+SSp  \\\n",
       "DGm3c_0    0.681818    0.692308    0.625000    0.827160    0.580000   \n",
       "DGm3c_3    0.900000    0.809045    0.838462    0.854430    0.606635   \n",
       "DGm3c_13   0.600000    0.500000    0.219512    0.308642    0.400000   \n",
       "DGm3c_18   0.576923    0.509434    0.701754    0.675676    0.267857   \n",
       "DGm3c_24   0.523810    0.310680    0.721649    0.806122    0.428571   \n",
       "\n",
       "          IT-L23+MOs  IT-L23+SSs  \n",
       "DGm3c_0     0.763158    0.426667  \n",
       "DGm3c_3     0.789773    0.669118  \n",
       "DGm3c_13    0.312500    0.315789  \n",
       "DGm3c_18    0.725490    0.346939  \n",
       "DGm3c_24    0.469027    0.259259  "
      ]
     },
     "execution_count": 9,
     "metadata": {},
     "output_type": "execute_result"
    }
   ],
   "source": [
    "dmr_df = dmr_df.loc[delta_index & white_index]\n",
    "dmr_df = dmr_df[dmr_df['number_of_dms'] >= dms_cutoff]\n",
    "print(dmr_df.shape[0], 'dmr after filter')\n",
    "dmr_df.head()"
   ]
  },
  {
   "cell_type": "markdown",
   "metadata": {
    "papermill": {
     "duration": 0.010906,
     "end_time": "2020-01-12T04:47:06.271152",
     "exception": false,
     "start_time": "2020-01-12T04:47:06.260246",
     "status": "completed"
    },
    "tags": []
   },
   "source": [
    "## Assign DMR to each sample"
   ]
  },
  {
   "cell_type": "code",
   "execution_count": 10,
   "metadata": {
    "ExecuteTime": {
     "end_time": "2020-01-16T05:27:06.896603Z",
     "start_time": "2020-01-16T05:27:06.211635Z"
    },
    "papermill": {
     "duration": 1.504386,
     "end_time": "2020-01-12T04:47:07.786194",
     "exception": false,
     "start_time": "2020-01-12T04:47:06.281808",
     "status": "completed"
    },
    "tags": []
   },
   "outputs": [
    {
     "name": "stdout",
     "output_type": "stream",
     "text": [
      "IT-L23+ACA\tHypoDMR \t35039\n",
      "IT-L23+ACA\tHyperDMR\t77100\n",
      "IT-L23+AI\tHypoDMR \t13424\n",
      "IT-L23+AI\tHyperDMR\t42417\n",
      "IT-L23+MOp\tHypoDMR \t84014\n",
      "IT-L23+MOp\tHyperDMR\t18367\n",
      "IT-L23+ORB\tHypoDMR \t19403\n",
      "IT-L23+ORB\tHyperDMR\t77535\n",
      "IT-L23+PFC\tHypoDMR \t32824\n",
      "IT-L23+PFC\tHyperDMR\t113935\n",
      "IT-L23+SSp\tHypoDMR \t89139\n",
      "IT-L23+SSp\tHyperDMR\t28923\n",
      "IT-L23+MOs\tHypoDMR \t46288\n",
      "IT-L23+MOs\tHyperDMR\t14027\n",
      "IT-L23+SSs\tHypoDMR \t83211\n",
      "IT-L23+SSs\tHyperDMR\t25592\n"
     ]
    }
   ],
   "source": [
    "# parse results\n",
    "for sample in samples:\n",
    "    # here saved a list of np.array\n",
    "    hypo_index = dmr_df[dmr_df['hypomethylated_samples'].fillna('').apply(lambda i: sample in i)].index\n",
    "    hyper_index = dmr_df[dmr_df['hypermethylated_samples'].fillna('').apply(lambda i: sample in i)].index\n",
    "    hypo_sig_dict[sample] = hypo_index\n",
    "    hyper_sig_dict[sample] = hyper_index\n",
    "    print(sample, 'HypoDMR ', hypo_index.size, sep='\\t')\n",
    "    print(sample, 'HyperDMR', hyper_index.size, sep='\\t')\n"
   ]
  },
  {
   "cell_type": "code",
   "execution_count": 11,
   "metadata": {
    "ExecuteTime": {
     "end_time": "2020-01-16T05:27:07.210690Z",
     "start_time": "2020-01-16T05:27:06.898328Z"
    },
    "papermill": {
     "duration": 0.553172,
     "end_time": "2020-01-12T04:47:08.351885",
     "exception": false,
     "start_time": "2020-01-12T04:47:07.798713",
     "status": "completed"
    },
    "tags": []
   },
   "outputs": [
    {
     "name": "stderr",
     "output_type": "stream",
     "text": [
      "/home/hanliu/miniconda3/envs/clustering/lib/python3.7/site-packages/tables/path.py:157: NaturalNameWarning: object name is not a valid Python identifier: 'IT-L23+ACA'; it does not match the pattern ``^[a-zA-Z_][a-zA-Z0-9_]*$``; you will not be able to use natural naming to access this object; using ``getattr()`` will still work, though\n",
      "  check_attribute_name(name)\n",
      "/home/hanliu/miniconda3/envs/clustering/lib/python3.7/site-packages/tables/path.py:157: NaturalNameWarning: object name is not a valid Python identifier: 'IT-L23+AI'; it does not match the pattern ``^[a-zA-Z_][a-zA-Z0-9_]*$``; you will not be able to use natural naming to access this object; using ``getattr()`` will still work, though\n",
      "  check_attribute_name(name)\n",
      "/home/hanliu/miniconda3/envs/clustering/lib/python3.7/site-packages/tables/path.py:157: NaturalNameWarning: object name is not a valid Python identifier: 'IT-L23+MOp'; it does not match the pattern ``^[a-zA-Z_][a-zA-Z0-9_]*$``; you will not be able to use natural naming to access this object; using ``getattr()`` will still work, though\n",
      "  check_attribute_name(name)\n",
      "/home/hanliu/miniconda3/envs/clustering/lib/python3.7/site-packages/tables/path.py:157: NaturalNameWarning: object name is not a valid Python identifier: 'IT-L23+ORB'; it does not match the pattern ``^[a-zA-Z_][a-zA-Z0-9_]*$``; you will not be able to use natural naming to access this object; using ``getattr()`` will still work, though\n",
      "  check_attribute_name(name)\n",
      "/home/hanliu/miniconda3/envs/clustering/lib/python3.7/site-packages/tables/path.py:157: NaturalNameWarning: object name is not a valid Python identifier: 'IT-L23+PFC'; it does not match the pattern ``^[a-zA-Z_][a-zA-Z0-9_]*$``; you will not be able to use natural naming to access this object; using ``getattr()`` will still work, though\n",
      "  check_attribute_name(name)\n",
      "/home/hanliu/miniconda3/envs/clustering/lib/python3.7/site-packages/tables/path.py:157: NaturalNameWarning: object name is not a valid Python identifier: 'IT-L23+SSp'; it does not match the pattern ``^[a-zA-Z_][a-zA-Z0-9_]*$``; you will not be able to use natural naming to access this object; using ``getattr()`` will still work, though\n",
      "  check_attribute_name(name)\n",
      "/home/hanliu/miniconda3/envs/clustering/lib/python3.7/site-packages/tables/path.py:157: NaturalNameWarning: object name is not a valid Python identifier: 'IT-L23+MOs'; it does not match the pattern ``^[a-zA-Z_][a-zA-Z0-9_]*$``; you will not be able to use natural naming to access this object; using ``getattr()`` will still work, though\n",
      "  check_attribute_name(name)\n",
      "/home/hanliu/miniconda3/envs/clustering/lib/python3.7/site-packages/tables/path.py:157: NaturalNameWarning: object name is not a valid Python identifier: 'IT-L23+SSs'; it does not match the pattern ``^[a-zA-Z_][a-zA-Z0-9_]*$``; you will not be able to use natural naming to access this object; using ``getattr()`` will still work, though\n",
      "  check_attribute_name(name)\n"
     ]
    }
   ],
   "source": [
    "with pd.HDFStore(pathlib.Path(dmr_path).parent / 'DMRInfo.h5') as hdf:\n",
    "    for sample, hypo_index in hypo_sig_dict.items():\n",
    "        hdf[f'HypoDMR/{sample}'] = pd.Series(hypo_index)\n",
    "    for sample, hyper_index in hyper_sig_dict.items():\n",
    "        hdf[f'HyperDMR/{sample}'] = pd.Series(hyper_index)"
   ]
  },
  {
   "cell_type": "markdown",
   "metadata": {
    "papermill": {
     "duration": 0.012272,
     "end_time": "2020-01-12T04:47:08.377211",
     "exception": false,
     "start_time": "2020-01-12T04:47:08.364939",
     "status": "completed"
    },
    "scrolled": true,
    "tags": []
   },
   "source": [
    "## Dump DMR bed"
   ]
  },
  {
   "cell_type": "code",
   "execution_count": 12,
   "metadata": {
    "ExecuteTime": {
     "end_time": "2020-01-16T05:27:08.877178Z",
     "start_time": "2020-01-16T05:27:07.212797Z"
    },
    "papermill": {
     "duration": 3.165799,
     "end_time": "2020-01-12T04:47:11.554781",
     "exception": false,
     "start_time": "2020-01-12T04:47:08.388982",
     "status": "completed"
    },
    "tags": []
   },
   "outputs": [],
   "source": [
    "hypo_dir = pathlib.Path(dmr_path).parent / 'HypoDMR'\n",
    "hypo_dir.mkdir(exist_ok=True)\n",
    "for sample, hypo_index in hypo_sig_dict.items():\n",
    "    _bed = dmr_bed.loc[hypo_index].reset_index().iloc[:, [1, 2, 3, 0]].to_csv(\n",
    "        hypo_dir / f'{sample}.DMS{dms_cutoff}.bed', sep='\\t', index=None, header=None)"
   ]
  },
  {
   "cell_type": "code",
   "execution_count": 13,
   "metadata": {
    "ExecuteTime": {
     "end_time": "2020-01-16T05:27:10.372110Z",
     "start_time": "2020-01-16T05:27:08.878945Z"
    },
    "papermill": {
     "duration": 2.989519,
     "end_time": "2020-01-12T04:47:14.557329",
     "exception": false,
     "start_time": "2020-01-12T04:47:11.567810",
     "status": "completed"
    },
    "tags": []
   },
   "outputs": [],
   "source": [
    "hyper_dir = pathlib.Path(dmr_path).parent / 'HyperDMR'\n",
    "hyper_dir.mkdir(exist_ok=True)\n",
    "for sample, hyper_index in hyper_sig_dict.items():\n",
    "    _bed = dmr_bed.loc[hyper_index].reset_index().iloc[:, [1, 2, 3, 0]].to_csv(\n",
    "        hyper_dir / f'{sample}.DMS{dms_cutoff}.bed', sep='\\t', index=None, header=None)"
   ]
  },
  {
   "cell_type": "markdown",
   "metadata": {
    "papermill": {
     "duration": 0.012293,
     "end_time": "2020-01-12T04:47:14.582700",
     "exception": false,
     "start_time": "2020-01-12T04:47:14.570407",
     "status": "completed"
    },
    "tags": []
   },
   "source": [
    "## DMR hits matrix"
   ]
  },
  {
   "cell_type": "code",
   "execution_count": 14,
   "metadata": {
    "ExecuteTime": {
     "end_time": "2020-01-16T05:27:11.996700Z",
     "start_time": "2020-01-16T05:27:10.373761Z"
    },
    "papermill": {
     "duration": 1.83359,
     "end_time": "2020-01-12T04:47:16.428019",
     "exception": false,
     "start_time": "2020-01-12T04:47:14.594429",
     "status": "completed"
    },
    "tags": []
   },
   "outputs": [
    {
     "name": "stderr",
     "output_type": "stream",
     "text": [
      "... storing '#chr' as categorical\n"
     ]
    }
   ],
   "source": [
    "sig_dict = hypo_sig_dict\n",
    "\n",
    "rows = []\n",
    "cols = []\n",
    "datas = []\n",
    "for i, (sample, dmr_index) in enumerate(sig_dict.items()):\n",
    "    col = dmr_index.map(lambda i: i.split('_')[1]).astype(int).values\n",
    "    row = (np.ones_like(col) * i).astype(int)\n",
    "    data = np.ones_like(col)\n",
    "    rows.append(row)\n",
    "    cols.append(col)\n",
    "    datas.append(data)\n",
    "datas = np.concatenate(datas)\n",
    "cols = np.concatenate(cols)\n",
    "rows = np.concatenate(rows)\n",
    "hits = csr_matrix((datas, (rows, cols)),\n",
    "                  shape=(mc_rate.shape[1], dmr_bed.shape[0]))\n",
    "\n",
    "# obs is DMR, var is sample, because all analysis is dmr focused\n",
    "dmr_hits = anndata.AnnData(X=hits.T,\n",
    "                           obs=dmr_bed,\n",
    "                           var=pd.DataFrame([], index=mc_rate.columns))\n",
    "\n",
    "dmr_hits.write_h5ad(hypo_dir / 'TotalHits.h5ad')\n"
   ]
  },
  {
   "cell_type": "code",
   "execution_count": 15,
   "metadata": {
    "ExecuteTime": {
     "end_time": "2020-01-16T05:27:13.609970Z",
     "start_time": "2020-01-16T05:27:11.998622Z"
    },
    "papermill": {
     "duration": 1.749748,
     "end_time": "2020-01-12T04:47:18.191060",
     "exception": false,
     "start_time": "2020-01-12T04:47:16.441312",
     "status": "completed"
    },
    "tags": []
   },
   "outputs": [
    {
     "name": "stderr",
     "output_type": "stream",
     "text": [
      "... storing '#chr' as categorical\n"
     ]
    }
   ],
   "source": [
    "sig_dict = hyper_sig_dict\n",
    "\n",
    "rows = []\n",
    "cols = []\n",
    "datas = []\n",
    "for i, (sample, dmr_index) in enumerate(sig_dict.items()):\n",
    "    col = dmr_index.map(lambda i: i.split('_')[1]).astype(int).values\n",
    "    row = (np.ones_like(col) * i).astype(int)\n",
    "    data = np.ones_like(col)\n",
    "    rows.append(row)\n",
    "    cols.append(col)\n",
    "    datas.append(data)\n",
    "datas = np.concatenate(datas)\n",
    "cols = np.concatenate(cols)\n",
    "rows = np.concatenate(rows)\n",
    "hits = csr_matrix((datas, (rows, cols)),\n",
    "                  shape=(mc_rate.shape[1], dmr_bed.shape[0]))\n",
    "\n",
    "# obs is DMR, var is sample, because all analysis is dmr focused\n",
    "dmr_hits = anndata.AnnData(X=hits.T,\n",
    "                           obs=dmr_bed,\n",
    "                           var=pd.DataFrame([], index=mc_rate.columns))\n",
    "\n",
    "dmr_hits.write_h5ad(hyper_dir / 'TotalHits.h5ad')"
   ]
  },
  {
   "cell_type": "code",
   "execution_count": null,
   "metadata": {
    "papermill": {
     "duration": 0.012653,
     "end_time": "2020-01-12T04:47:18.217026",
     "exception": false,
     "start_time": "2020-01-12T04:47:18.204373",
     "status": "completed"
    },
    "tags": []
   },
   "outputs": [],
   "source": []
  },
  {
   "cell_type": "code",
   "execution_count": null,
   "metadata": {
    "papermill": {
     "duration": 0.011366,
     "end_time": "2020-01-12T04:47:18.240626",
     "exception": false,
     "start_time": "2020-01-12T04:47:18.229260",
     "status": "completed"
    },
    "tags": []
   },
   "outputs": [],
   "source": []
  },
  {
   "cell_type": "code",
   "execution_count": null,
   "metadata": {
    "papermill": {
     "duration": 0.011346,
     "end_time": "2020-01-12T04:47:18.263601",
     "exception": false,
     "start_time": "2020-01-12T04:47:18.252255",
     "status": "completed"
    },
    "tags": []
   },
   "outputs": [],
   "source": []
  }
 ],
 "metadata": {
  "hide_input": false,
  "kernelspec": {
   "display_name": "Python 3",
   "language": "python",
   "name": "python3"
  },
  "language_info": {
   "codemirror_mode": {
    "name": "ipython",
    "version": 3
   },
   "file_extension": ".py",
   "mimetype": "text/x-python",
   "name": "python",
   "nbconvert_exporter": "python",
   "pygments_lexer": "ipython3",
   "version": "3.7.3"
  },
  "papermill": {
   "duration": 23.412679,
   "end_time": "2020-01-12T04:47:18.781954",
   "environment_variables": {},
   "exception": null,
   "input_path": "1.FilterDMRRecipe_simple_min_max.ipynb",
   "output_path": "/home/hanliu/project/mouse_rostral_brain/DMR/ITSpatial_by_layer/IT-L23/Recipe/1.FilterDMRRecipe_simple_min_max.ipynb",
   "parameters": {
    "black_list_path": "/home/hanliu/ref/blacklist/mm10-blacklist.v2.bed.gz",
    "delta_cutoff": 0.3,
    "dmr_path": "/home/hanliu/project/mouse_rostral_brain/DMR/ITSpatial_by_layer/IT-L23/IT-L23_rms_results_collapsed.tsv",
    "dmr_prefix": "DGm3c",
    "dms_cutoff": 1
   },
   "start_time": "2020-01-12T04:46:55.369275",
   "version": "1.0.1"
  },
  "toc": {
   "base_numbering": 1,
   "nav_menu": {},
   "number_sections": true,
   "sideBar": true,
   "skip_h1_title": true,
   "title_cell": "Table of Contents",
   "title_sidebar": "Contents",
   "toc_cell": false,
   "toc_position": {},
   "toc_section_display": true,
   "toc_window_display": true
  }
 },
 "nbformat": 4,
 "nbformat_minor": 2
}
