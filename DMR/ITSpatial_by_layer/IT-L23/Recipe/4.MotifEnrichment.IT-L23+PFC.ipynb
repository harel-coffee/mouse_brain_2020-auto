{
 "cells": [
  {
   "cell_type": "markdown",
   "metadata": {
    "papermill": {
     "duration": 0.009663,
     "end_time": "2020-01-14T06:44:26.590612",
     "exception": false,
     "start_time": "2020-01-14T06:44:26.580949",
     "status": "completed"
    },
    "tags": []
   },
   "source": [
    "# Motif Enrichment\n",
    "- The motif hits matrix save the max loglikelyhood score of a motif in that DMR\n",
    "- Before run the motif enrichment, I filter the scores for each motif using cutoff defined by\n",
    "    - `np.quantile(motif_score[motif_score > 0]) * mask_quantile_to99`\n",
    "- This filter will remove hits with low score, which is likely to be false positive\n",
    "- Its likely boosting the significance of real enrichment"
   ]
  },
  {
   "cell_type": "code",
   "execution_count": 1,
   "metadata": {
    "ExecuteTime": {
     "end_time": "2020-01-16T05:27:38.668287Z",
     "start_time": "2020-01-16T05:27:37.948066Z"
    },
    "papermill": {
     "duration": 0.666584,
     "end_time": "2020-01-14T06:44:27.267976",
     "exception": false,
     "start_time": "2020-01-14T06:44:26.601392",
     "status": "completed"
    },
    "tags": []
   },
   "outputs": [],
   "source": [
    "from concurrent.futures import ProcessPoolExecutor, as_completed\n",
    "import anndata\n",
    "import matplotlib.pyplot as plt\n",
    "import numpy as np\n",
    "import pandas as pd\n",
    "import pybedtools\n",
    "import scipy.stats as stats\n",
    "import seaborn as sns\n",
    "from scipy.sparse import csr_matrix\n",
    "from statsmodels.stats.multitest import multipletests\n",
    "import pathlib"
   ]
  },
  {
   "cell_type": "code",
   "execution_count": 2,
   "metadata": {
    "ExecuteTime": {
     "end_time": "2020-01-16T05:27:38.672799Z",
     "start_time": "2020-01-16T05:27:38.670150Z"
    },
    "papermill": {
     "duration": 0.015547,
     "end_time": "2020-01-14T06:44:27.294143",
     "exception": false,
     "start_time": "2020-01-14T06:44:27.278596",
     "status": "completed"
    },
    "tags": [
     "parameters"
    ]
   },
   "outputs": [],
   "source": [
    "mask_quantile_to99 = 0.9\n",
    "or_cutoff = 1.5\n",
    "neg_lgp_cutoff = 10\n",
    "group = 'IT-L23+ACA'\n",
    "\n",
    "motif_hits_path = '/home/hanliu/project/mouse_rostral_brain/DMR/ITSpatial_by_layer/IT-L23/MotifScan.h5ad'\n",
    "dmr_hits_path = f'/home/hanliu/project/mouse_rostral_brain/DMR/ITSpatial_by_layer/IT-L23/HypoDMR/{group}.DMS1.bed'\n",
    "output_dir = '/home/hanliu/project/mouse_rostral_brain/DMR/ITSpatial_by_layer/IT-L23/MotifEnrichment'\n"
   ]
  },
  {
   "cell_type": "code",
   "execution_count": 3,
   "metadata": {
    "ExecuteTime": {
     "end_time": "2020-01-16T05:27:38.676551Z",
     "start_time": "2020-01-16T05:27:38.674206Z"
    },
    "papermill": {
     "duration": 0.014456,
     "end_time": "2020-01-14T06:44:27.318031",
     "exception": false,
     "start_time": "2020-01-14T06:44:27.303575",
     "status": "completed"
    },
    "tags": [
     "injected-parameters"
    ]
   },
   "outputs": [],
   "source": [
    "# Parameters\n",
    "mask_quantile_to99 = 0.9\n",
    "or_cutoff = 1.5\n",
    "neg_lgp_cutoff = 10\n",
    "group = \"IT-L23+PFC\"\n",
    "motif_hits_path = \"/home/hanliu/project/mouse_rostral_brain/DMR/ITSpatial_by_layer/IT-L23/MotifScan.h5ad\"\n",
    "dmr_hits_path = \"/home/hanliu/project/mouse_rostral_brain/DMR/ITSpatial_by_layer/IT-L23/HypoDMR/IT-L23+PFC.DMS1.bed\"\n",
    "output_dir = \"/home/hanliu/project/mouse_rostral_brain/DMR/ITSpatial_by_layer/IT-L23/MotifEnrichment\"\n"
   ]
  },
  {
   "cell_type": "code",
   "execution_count": 4,
   "metadata": {
    "ExecuteTime": {
     "end_time": "2020-01-16T05:27:38.679885Z",
     "start_time": "2020-01-16T05:27:38.677730Z"
    },
    "papermill": {
     "duration": 0.014472,
     "end_time": "2020-01-14T06:44:27.341985",
     "exception": false,
     "start_time": "2020-01-14T06:44:27.327513",
     "status": "completed"
    },
    "tags": []
   },
   "outputs": [],
   "source": [
    "output_dir = pathlib.Path(output_dir)\n",
    "output_dir.mkdir(exist_ok=True)"
   ]
  },
  {
   "cell_type": "markdown",
   "metadata": {
    "papermill": {
     "duration": 0.009191,
     "end_time": "2020-01-14T06:44:27.360540",
     "exception": false,
     "start_time": "2020-01-14T06:44:27.351349",
     "status": "completed"
    },
    "tags": []
   },
   "source": [
    "## DMR hits"
   ]
  },
  {
   "cell_type": "code",
   "execution_count": 5,
   "metadata": {
    "ExecuteTime": {
     "end_time": "2020-01-16T05:27:38.719590Z",
     "start_time": "2020-01-16T05:27:38.681050Z"
    },
    "papermill": {
     "duration": 0.07928,
     "end_time": "2020-01-14T06:44:27.449252",
     "exception": false,
     "start_time": "2020-01-14T06:44:27.369972",
     "status": "completed"
    },
    "tags": []
   },
   "outputs": [
    {
     "data": {
      "text/html": [
       "<div>\n",
       "<style scoped>\n",
       "    .dataframe tbody tr th:only-of-type {\n",
       "        vertical-align: middle;\n",
       "    }\n",
       "\n",
       "    .dataframe tbody tr th {\n",
       "        vertical-align: top;\n",
       "    }\n",
       "\n",
       "    .dataframe thead th {\n",
       "        text-align: right;\n",
       "    }\n",
       "</style>\n",
       "<table border=\"1\" class=\"dataframe\">\n",
       "  <thead>\n",
       "    <tr style=\"text-align: right;\">\n",
       "      <th></th>\n",
       "      <th>0</th>\n",
       "      <th>1</th>\n",
       "      <th>2</th>\n",
       "    </tr>\n",
       "    <tr>\n",
       "      <th>3</th>\n",
       "      <th></th>\n",
       "      <th></th>\n",
       "      <th></th>\n",
       "    </tr>\n",
       "  </thead>\n",
       "  <tbody>\n",
       "    <tr>\n",
       "      <th>DGm3c_40</th>\n",
       "      <td>chr1</td>\n",
       "      <td>3273196</td>\n",
       "      <td>3273196</td>\n",
       "    </tr>\n",
       "    <tr>\n",
       "      <th>DGm3c_43</th>\n",
       "      <td>chr1</td>\n",
       "      <td>3297316</td>\n",
       "      <td>3297413</td>\n",
       "    </tr>\n",
       "    <tr>\n",
       "      <th>DGm3c_49</th>\n",
       "      <td>chr1</td>\n",
       "      <td>3322440</td>\n",
       "      <td>3322583</td>\n",
       "    </tr>\n",
       "    <tr>\n",
       "      <th>DGm3c_54</th>\n",
       "      <td>chr1</td>\n",
       "      <td>3346654</td>\n",
       "      <td>3346654</td>\n",
       "    </tr>\n",
       "    <tr>\n",
       "      <th>DGm3c_56</th>\n",
       "      <td>chr1</td>\n",
       "      <td>3361059</td>\n",
       "      <td>3361196</td>\n",
       "    </tr>\n",
       "  </tbody>\n",
       "</table>\n",
       "</div>"
      ],
      "text/plain": [
       "             0        1        2\n",
       "3                               \n",
       "DGm3c_40  chr1  3273196  3273196\n",
       "DGm3c_43  chr1  3297316  3297413\n",
       "DGm3c_49  chr1  3322440  3322583\n",
       "DGm3c_54  chr1  3346654  3346654\n",
       "DGm3c_56  chr1  3361059  3361196"
      ]
     },
     "execution_count": 5,
     "metadata": {},
     "output_type": "execute_result"
    }
   ],
   "source": [
    "dmr_bed_df = pd.read_csv(dmr_hits_path, sep='\\t', header=None, index_col=3)\n",
    "dmr_bed_df.head()"
   ]
  },
  {
   "cell_type": "code",
   "execution_count": 6,
   "metadata": {
    "ExecuteTime": {
     "end_time": "2020-01-16T05:27:41.242179Z",
     "start_time": "2020-01-16T05:27:38.720822Z"
    },
    "papermill": {
     "duration": 2.60123,
     "end_time": "2020-01-14T06:44:30.061174",
     "exception": false,
     "start_time": "2020-01-14T06:44:27.459944",
     "status": "completed"
    },
    "tags": []
   },
   "outputs": [
    {
     "data": {
      "text/plain": [
       "AnnData object with n_obs × n_vars = 32824 × 719 \n",
       "    obs: 'chrom', 'start', 'end'"
      ]
     },
     "execution_count": 6,
     "metadata": {},
     "output_type": "execute_result"
    }
   ],
   "source": [
    "motif_hits = anndata.read_h5ad(motif_hits_path)\n",
    "motif_hits = motif_hits[dmr_bed_df.index, :].copy()\n",
    "motif_ids = motif_hits.var_names\n",
    "motif_hits.X = motif_hits.X.todense()\n",
    "motif_hits"
   ]
  },
  {
   "cell_type": "code",
   "execution_count": 7,
   "metadata": {
    "ExecuteTime": {
     "end_time": "2020-01-16T05:27:41.752925Z",
     "start_time": "2020-01-16T05:27:41.244320Z"
    },
    "papermill": {
     "duration": 0.816637,
     "end_time": "2020-01-14T06:44:30.888864",
     "exception": false,
     "start_time": "2020-01-14T06:44:30.072227",
     "status": "completed"
    },
    "tags": []
   },
   "outputs": [],
   "source": [
    "# mask small motif scores\n",
    "motif_cutoff = pd.Series(np.apply_along_axis(lambda i: np.quantile(i[i>0], 0.99) * mask_quantile_to99, \n",
    "                                             0, motif_hits.X),\n",
    "                         index=motif_hits.var_names)\n",
    "# only keep value larger than the cutoff for each motif\n",
    "motif_hits.X = np.multiply(motif_hits.X, (motif_hits.X > motif_cutoff.values[None, :]))"
   ]
  },
  {
   "cell_type": "markdown",
   "metadata": {
    "papermill": {
     "duration": 0.009667,
     "end_time": "2020-01-14T06:44:30.909864",
     "exception": false,
     "start_time": "2020-01-14T06:44:30.900197",
     "status": "completed"
    },
    "tags": []
   },
   "source": [
    "## Background Hits"
   ]
  },
  {
   "cell_type": "code",
   "execution_count": 8,
   "metadata": {
    "ExecuteTime": {
     "end_time": "2020-01-16T05:27:42.990967Z",
     "start_time": "2020-01-16T05:27:41.754643Z"
    },
    "papermill": {
     "duration": 1.117352,
     "end_time": "2020-01-14T06:44:32.036787",
     "exception": false,
     "start_time": "2020-01-14T06:44:30.919435",
     "status": "completed"
    },
    "tags": []
   },
   "outputs": [],
   "source": [
    "background_motif_hits = anndata.read_h5ad(\n",
    "    '/home/hanliu/project/mouse_rostral_brain/DMR/BackgroundDMR/MotifScan.h5ad'\n",
    ")"
   ]
  },
  {
   "cell_type": "code",
   "execution_count": 9,
   "metadata": {
    "ExecuteTime": {
     "end_time": "2020-01-16T05:27:44.043689Z",
     "start_time": "2020-01-16T05:27:42.992733Z"
    },
    "papermill": {
     "duration": 1.053477,
     "end_time": "2020-01-14T06:44:33.101169",
     "exception": false,
     "start_time": "2020-01-14T06:44:32.047692",
     "status": "completed"
    },
    "tags": []
   },
   "outputs": [],
   "source": [
    "dmr_bed = pybedtools.BedTool().from_dataframe(dmr_bed_df)\n",
    "bg_bed = pybedtools.BedTool().from_dataframe(\n",
    "    background_motif_hits.obs.reset_index().iloc[:, [1, 2, 3, 0]])"
   ]
  },
  {
   "cell_type": "code",
   "execution_count": 10,
   "metadata": {
    "ExecuteTime": {
     "end_time": "2020-01-16T05:27:45.606563Z",
     "start_time": "2020-01-16T05:27:44.045117Z"
    },
    "papermill": {
     "duration": 1.557017,
     "end_time": "2020-01-14T06:44:34.669523",
     "exception": false,
     "start_time": "2020-01-14T06:44:33.112506",
     "status": "completed"
    },
    "tags": []
   },
   "outputs": [],
   "source": [
    "# exclude background that overlap with DMR\n",
    "bg_no_overlap = bg_bed.intersect(dmr_bed, v=True)\n",
    "use_bg = bg_no_overlap.to_dataframe().iloc[:, -1].values\n",
    "background_motif_hits = background_motif_hits[use_bg, :]\n",
    "\n",
    "# make sure col in same order\n",
    "background_motif_hits = background_motif_hits[:, motif_ids].copy()"
   ]
  },
  {
   "cell_type": "code",
   "execution_count": 11,
   "metadata": {
    "ExecuteTime": {
     "end_time": "2020-01-16T05:27:48.016774Z",
     "start_time": "2020-01-16T05:27:45.608258Z"
    },
    "papermill": {
     "duration": 2.156306,
     "end_time": "2020-01-14T06:44:36.836748",
     "exception": false,
     "start_time": "2020-01-14T06:44:34.680442",
     "status": "completed"
    },
    "tags": []
   },
   "outputs": [],
   "source": [
    "judge_matrix = csr_matrix(background_motif_hits.X > motif_cutoff.values[None, :])\n",
    "background_motif_hits.X = background_motif_hits.X.multiply(judge_matrix)"
   ]
  },
  {
   "cell_type": "code",
   "execution_count": 12,
   "metadata": {
    "ExecuteTime": {
     "end_time": "2020-01-16T05:27:48.022046Z",
     "start_time": "2020-01-16T05:27:48.018483Z"
    },
    "papermill": {
     "duration": 0.017052,
     "end_time": "2020-01-14T06:44:36.865213",
     "exception": false,
     "start_time": "2020-01-14T06:44:36.848161",
     "status": "completed"
    },
    "tags": []
   },
   "outputs": [
    {
     "data": {
      "text/plain": [
       "AnnData object with n_obs × n_vars = 341847 × 719 \n",
       "    obs: 'chrom', 'start', 'end'"
      ]
     },
     "execution_count": 12,
     "metadata": {},
     "output_type": "execute_result"
    }
   ],
   "source": [
    "background_motif_hits"
   ]
  },
  {
   "cell_type": "markdown",
   "metadata": {
    "papermill": {
     "duration": 0.010128,
     "end_time": "2020-01-14T06:44:36.885665",
     "exception": false,
     "start_time": "2020-01-14T06:44:36.875537",
     "status": "completed"
    },
    "tags": []
   },
   "source": [
    "## Motif hits contingency table"
   ]
  },
  {
   "cell_type": "code",
   "execution_count": 13,
   "metadata": {
    "ExecuteTime": {
     "end_time": "2020-01-16T05:27:48.248886Z",
     "start_time": "2020-01-16T05:27:48.023413Z"
    },
    "papermill": {
     "duration": 0.282083,
     "end_time": "2020-01-14T06:44:37.177961",
     "exception": false,
     "start_time": "2020-01-14T06:44:36.895878",
     "status": "completed"
    },
    "tags": []
   },
   "outputs": [],
   "source": [
    "# calculate motif occurence, not considering hits here\n",
    "pos = (motif_hits.X > 0).sum(axis=0)\n",
    "pos_total = motif_hits.shape[0]\n",
    "\n",
    "neg = (background_motif_hits.X > 0).sum(axis=0)\n",
    "neg_total = background_motif_hits.shape[0]"
   ]
  },
  {
   "cell_type": "code",
   "execution_count": 14,
   "metadata": {
    "ExecuteTime": {
     "end_time": "2020-01-16T05:27:48.254300Z",
     "start_time": "2020-01-16T05:27:48.250380Z"
    },
    "papermill": {
     "duration": 0.062052,
     "end_time": "2020-01-14T06:44:37.251516",
     "exception": false,
     "start_time": "2020-01-14T06:44:37.189464",
     "status": "completed"
    },
    "scrolled": true,
    "tags": []
   },
   "outputs": [],
   "source": [
    "tables = {}\n",
    "for motif, _pos, _neg in zip(motif_ids, pos.A1, neg.A1):\n",
    "    table = [[_pos, pos_total - _pos], [_neg, neg_total - _neg]]\n",
    "    tables[motif] = table"
   ]
  },
  {
   "cell_type": "code",
   "execution_count": 15,
   "metadata": {
    "ExecuteTime": {
     "end_time": "2020-01-16T05:27:48.882392Z",
     "start_time": "2020-01-16T05:27:48.255824Z"
    },
    "papermill": {
     "duration": 0.986727,
     "end_time": "2020-01-14T06:44:38.248467",
     "exception": false,
     "start_time": "2020-01-14T06:44:37.261740",
     "status": "completed"
    },
    "tags": []
   },
   "outputs": [
    {
     "name": "stderr",
     "output_type": "stream",
     "text": [
      "/home/hanliu/miniconda3/envs/clustering/lib/python3.7/site-packages/pandas/core/series.py:853: RuntimeWarning: divide by zero encountered in log10\n",
      "  result = getattr(ufunc, method)(*inputs, **kwargs)\n"
     ]
    }
   ],
   "source": [
    "results = {}\n",
    "with ProcessPoolExecutor(20) as executor:\n",
    "    fs = {}\n",
    "    for motif, t in tables.items():\n",
    "        f = executor.submit(stats.fisher_exact, t, alternative='greater')\n",
    "        fs[f] = motif\n",
    "\n",
    "    for f in as_completed(fs):\n",
    "        motif = fs[f]\n",
    "        odds, p = f.result()\n",
    "        results[motif] = {'oddsratio': odds, 'p_value': p}\n",
    "motif_enrich_df = pd.DataFrame(results).T\n",
    "\n",
    "_, p, _, _ = multipletests(motif_enrich_df['p_value'], method='fdr_bh')\n",
    "motif_enrich_df['adj_p'] = p\n",
    "\n",
    "motif_enrich_df['-lgp'] = -np.log10(motif_enrich_df['adj_p']).replace(\n",
    "    -np.inf, -300)\n",
    "\n",
    "records = {}\n",
    "for motif, t in tables.items():\n",
    "    tp, tn = t[0]\n",
    "    fp, fn = t[1]\n",
    "    tp_rate = tp / pos_total\n",
    "    fp_rate = fp / neg_total\n",
    "    records[motif] = dict(tp=tp,\n",
    "                          tn=tn,\n",
    "                          fp=fp,\n",
    "                          fn=fn,\n",
    "                          tp_rate=tp_rate,\n",
    "                          fp_rate=fp_rate)\n",
    "counts = pd.DataFrame(records).T\n",
    "motif_enrich_df = pd.concat([motif_enrich_df, counts], axis=1, sort=True)"
   ]
  },
  {
   "cell_type": "code",
   "execution_count": 16,
   "metadata": {
    "ExecuteTime": {
     "end_time": "2020-01-16T05:27:48.886332Z",
     "start_time": "2020-01-16T05:27:48.883770Z"
    },
    "papermill": {
     "duration": 0.015965,
     "end_time": "2020-01-14T06:44:38.275961",
     "exception": false,
     "start_time": "2020-01-14T06:44:38.259996",
     "status": "completed"
    },
    "tags": []
   },
   "outputs": [],
   "source": [
    "motif_enrich_df['Group'] = group"
   ]
  },
  {
   "cell_type": "code",
   "execution_count": 17,
   "metadata": {
    "ExecuteTime": {
     "end_time": "2020-01-16T05:27:49.221741Z",
     "start_time": "2020-01-16T05:27:48.887480Z"
    },
    "papermill": {
     "duration": 0.019027,
     "end_time": "2020-01-14T06:44:38.305415",
     "exception": false,
     "start_time": "2020-01-14T06:44:38.286388",
     "status": "completed"
    },
    "tags": []
   },
   "outputs": [
    {
     "data": {
      "text/plain": [
       "44"
      ]
     },
     "execution_count": 17,
     "metadata": {},
     "output_type": "execute_result"
    }
   ],
   "source": [
    "# final filter\n",
    "filtered_motif_df = motif_enrich_df[(motif_enrich_df['oddsratio'] > or_cutoff)\n",
    "                                    &\n",
    "                                    (motif_enrich_df['-lgp'] > neg_lgp_cutoff)]\n",
    "filtered_motif_df.shape[0]"
   ]
  },
  {
   "cell_type": "code",
   "execution_count": 18,
   "metadata": {
    "ExecuteTime": {
     "end_time": "2020-01-16T05:27:49.226465Z",
     "start_time": "2020-01-16T05:27:49.222947Z"
    },
    "papermill": {
     "duration": 0.017073,
     "end_time": "2020-01-14T06:44:38.332525",
     "exception": false,
     "start_time": "2020-01-14T06:44:38.315452",
     "status": "completed"
    },
    "tags": []
   },
   "outputs": [
    {
     "name": "stderr",
     "output_type": "stream",
     "text": [
      "/home/hanliu/miniconda3/envs/clustering/lib/python3.7/site-packages/ipykernel_launcher.py:1: FutureWarning: to_msgpack is deprecated and will be removed in a future version.\n",
      "It is recommended to use pyarrow for on-the-wire transmission of pandas objects.\n",
      "  \"\"\"Entry point for launching an IPython kernel.\n"
     ]
    }
   ],
   "source": [
    "motif_enrich_df.to_msgpack(output_dir / f'{group}.motif_enrichment.msg')"
   ]
  },
  {
   "cell_type": "code",
   "execution_count": 19,
   "metadata": {
    "ExecuteTime": {
     "end_time": "2020-01-16T05:27:49.235456Z",
     "start_time": "2020-01-16T05:27:49.227589Z"
    },
    "papermill": {
     "duration": 0.021266,
     "end_time": "2020-01-14T06:44:38.364371",
     "exception": false,
     "start_time": "2020-01-14T06:44:38.343105",
     "status": "completed"
    },
    "tags": []
   },
   "outputs": [],
   "source": [
    "pybedtools.cleanup()"
   ]
  },
  {
   "cell_type": "code",
   "execution_count": 20,
   "metadata": {
    "ExecuteTime": {
     "end_time": "2020-01-16T05:27:49.258826Z",
     "start_time": "2020-01-16T05:27:49.236616Z"
    },
    "papermill": {
     "duration": 0.0339,
     "end_time": "2020-01-14T06:44:38.409674",
     "exception": false,
     "start_time": "2020-01-14T06:44:38.375774",
     "status": "completed"
    },
    "tags": []
   },
   "outputs": [
    {
     "data": {
      "text/html": [
       "<div>\n",
       "<style scoped>\n",
       "    .dataframe tbody tr th:only-of-type {\n",
       "        vertical-align: middle;\n",
       "    }\n",
       "\n",
       "    .dataframe tbody tr th {\n",
       "        vertical-align: top;\n",
       "    }\n",
       "\n",
       "    .dataframe thead th {\n",
       "        text-align: right;\n",
       "    }\n",
       "</style>\n",
       "<table border=\"1\" class=\"dataframe\">\n",
       "  <thead>\n",
       "    <tr style=\"text-align: right;\">\n",
       "      <th></th>\n",
       "      <th>oddsratio</th>\n",
       "      <th>p_value</th>\n",
       "      <th>adj_p</th>\n",
       "      <th>-lgp</th>\n",
       "      <th>tp</th>\n",
       "      <th>tn</th>\n",
       "      <th>fp</th>\n",
       "      <th>fn</th>\n",
       "      <th>tp_rate</th>\n",
       "      <th>fp_rate</th>\n",
       "      <th>Group</th>\n",
       "    </tr>\n",
       "  </thead>\n",
       "  <tbody>\n",
       "    <tr>\n",
       "      <th>MA0025.2</th>\n",
       "      <td>1.569116</td>\n",
       "      <td>1.001571e-14</td>\n",
       "      <td>1.384865e-13</td>\n",
       "      <td>12.858593</td>\n",
       "      <td>376.0</td>\n",
       "      <td>32448.0</td>\n",
       "      <td>2506.0</td>\n",
       "      <td>339341.0</td>\n",
       "      <td>0.011455</td>\n",
       "      <td>0.007331</td>\n",
       "      <td>IT-L23+PFC</td>\n",
       "    </tr>\n",
       "    <tr>\n",
       "      <th>MA0040.1</th>\n",
       "      <td>1.648646</td>\n",
       "      <td>1.133622e-15</td>\n",
       "      <td>1.598185e-14</td>\n",
       "      <td>13.796373</td>\n",
       "      <td>333.0</td>\n",
       "      <td>32491.0</td>\n",
       "      <td>2112.0</td>\n",
       "      <td>339735.0</td>\n",
       "      <td>0.010145</td>\n",
       "      <td>0.006178</td>\n",
       "      <td>IT-L23+PFC</td>\n",
       "    </tr>\n",
       "    <tr>\n",
       "      <th>MA0077.1</th>\n",
       "      <td>1.543987</td>\n",
       "      <td>3.626435e-28</td>\n",
       "      <td>6.861597e-27</td>\n",
       "      <td>26.163575</td>\n",
       "      <td>829.0</td>\n",
       "      <td>31995.0</td>\n",
       "      <td>5642.0</td>\n",
       "      <td>336205.0</td>\n",
       "      <td>0.025256</td>\n",
       "      <td>0.016504</td>\n",
       "      <td>IT-L23+PFC</td>\n",
       "    </tr>\n",
       "    <tr>\n",
       "      <th>MA0084.1</th>\n",
       "      <td>1.691084</td>\n",
       "      <td>2.458045e-83</td>\n",
       "      <td>7.684061e-82</td>\n",
       "      <td>81.114409</td>\n",
       "      <td>1857.0</td>\n",
       "      <td>30967.0</td>\n",
       "      <td>11707.0</td>\n",
       "      <td>330140.0</td>\n",
       "      <td>0.056574</td>\n",
       "      <td>0.034246</td>\n",
       "      <td>IT-L23+PFC</td>\n",
       "    </tr>\n",
       "    <tr>\n",
       "      <th>MA0091.1</th>\n",
       "      <td>2.592453</td>\n",
       "      <td>5.569674e-77</td>\n",
       "      <td>1.668581e-75</td>\n",
       "      <td>74.777653</td>\n",
       "      <td>584.0</td>\n",
       "      <td>32240.0</td>\n",
       "      <td>2372.0</td>\n",
       "      <td>339475.0</td>\n",
       "      <td>0.017792</td>\n",
       "      <td>0.006939</td>\n",
       "      <td>IT-L23+PFC</td>\n",
       "    </tr>\n",
       "    <tr>\n",
       "      <th>MA0142.1</th>\n",
       "      <td>1.700212</td>\n",
       "      <td>1.190245e-13</td>\n",
       "      <td>1.614691e-12</td>\n",
       "      <td>11.791911</td>\n",
       "      <td>255.0</td>\n",
       "      <td>32569.0</td>\n",
       "      <td>1567.0</td>\n",
       "      <td>340280.0</td>\n",
       "      <td>0.007769</td>\n",
       "      <td>0.004584</td>\n",
       "      <td>IT-L23+PFC</td>\n",
       "    </tr>\n",
       "    <tr>\n",
       "      <th>MA0143.4</th>\n",
       "      <td>1.566034</td>\n",
       "      <td>6.630342e-65</td>\n",
       "      <td>1.833545e-63</td>\n",
       "      <td>62.736709</td>\n",
       "      <td>1925.0</td>\n",
       "      <td>30899.0</td>\n",
       "      <td>13079.0</td>\n",
       "      <td>328768.0</td>\n",
       "      <td>0.058646</td>\n",
       "      <td>0.038260</td>\n",
       "      <td>IT-L23+PFC</td>\n",
       "    </tr>\n",
       "    <tr>\n",
       "      <th>MA0461.2</th>\n",
       "      <td>4.347206</td>\n",
       "      <td>4.866961e-312</td>\n",
       "      <td>6.998690e-310</td>\n",
       "      <td>309.154983</td>\n",
       "      <td>1211.0</td>\n",
       "      <td>31613.0</td>\n",
       "      <td>2986.0</td>\n",
       "      <td>338861.0</td>\n",
       "      <td>0.036894</td>\n",
       "      <td>0.008735</td>\n",
       "      <td>IT-L23+PFC</td>\n",
       "    </tr>\n",
       "    <tr>\n",
       "      <th>MA0507.1</th>\n",
       "      <td>1.685453</td>\n",
       "      <td>1.135028e-27</td>\n",
       "      <td>2.092525e-26</td>\n",
       "      <td>25.679329</td>\n",
       "      <td>577.0</td>\n",
       "      <td>32247.0</td>\n",
       "      <td>3591.0</td>\n",
       "      <td>338256.0</td>\n",
       "      <td>0.017579</td>\n",
       "      <td>0.010505</td>\n",
       "      <td>IT-L23+PFC</td>\n",
       "    </tr>\n",
       "    <tr>\n",
       "      <th>MA0509.2</th>\n",
       "      <td>3.179318</td>\n",
       "      <td>4.434794e-63</td>\n",
       "      <td>1.138792e-61</td>\n",
       "      <td>60.943556</td>\n",
       "      <td>344.0</td>\n",
       "      <td>32480.0</td>\n",
       "      <td>1135.0</td>\n",
       "      <td>340712.0</td>\n",
       "      <td>0.010480</td>\n",
       "      <td>0.003320</td>\n",
       "      <td>IT-L23+PFC</td>\n",
       "    </tr>\n",
       "    <tr>\n",
       "      <th>MA0606.1</th>\n",
       "      <td>1.506445</td>\n",
       "      <td>1.099264e-64</td>\n",
       "      <td>2.927299e-63</td>\n",
       "      <td>62.533533</td>\n",
       "      <td>2291.0</td>\n",
       "      <td>30533.0</td>\n",
       "      <td>16219.0</td>\n",
       "      <td>325628.0</td>\n",
       "      <td>0.069796</td>\n",
       "      <td>0.047445</td>\n",
       "      <td>IT-L23+PFC</td>\n",
       "    </tr>\n",
       "    <tr>\n",
       "      <th>MA0607.1</th>\n",
       "      <td>3.038775</td>\n",
       "      <td>0.000000e+00</td>\n",
       "      <td>0.000000e+00</td>\n",
       "      <td>300.000000</td>\n",
       "      <td>3236.0</td>\n",
       "      <td>29588.0</td>\n",
       "      <td>11876.0</td>\n",
       "      <td>329971.0</td>\n",
       "      <td>0.098586</td>\n",
       "      <td>0.034741</td>\n",
       "      <td>IT-L23+PFC</td>\n",
       "    </tr>\n",
       "    <tr>\n",
       "      <th>MA0610.1</th>\n",
       "      <td>1.961537</td>\n",
       "      <td>3.481606e-24</td>\n",
       "      <td>6.105549e-23</td>\n",
       "      <td>22.214275</td>\n",
       "      <td>314.0</td>\n",
       "      <td>32510.0</td>\n",
       "      <td>1675.0</td>\n",
       "      <td>340172.0</td>\n",
       "      <td>0.009566</td>\n",
       "      <td>0.004900</td>\n",
       "      <td>IT-L23+PFC</td>\n",
       "    </tr>\n",
       "    <tr>\n",
       "      <th>MA0619.1</th>\n",
       "      <td>1.836339</td>\n",
       "      <td>1.587374e-278</td>\n",
       "      <td>1.426652e-276</td>\n",
       "      <td>275.845682</td>\n",
       "      <td>5245.0</td>\n",
       "      <td>27579.0</td>\n",
       "      <td>32081.0</td>\n",
       "      <td>309766.0</td>\n",
       "      <td>0.159792</td>\n",
       "      <td>0.093846</td>\n",
       "      <td>IT-L23+PFC</td>\n",
       "    </tr>\n",
       "    <tr>\n",
       "      <th>MA0623.2</th>\n",
       "      <td>3.887645</td>\n",
       "      <td>1.184748e-204</td>\n",
       "      <td>7.098617e-203</td>\n",
       "      <td>202.148826</td>\n",
       "      <td>891.0</td>\n",
       "      <td>31933.0</td>\n",
       "      <td>2436.0</td>\n",
       "      <td>339411.0</td>\n",
       "      <td>0.027145</td>\n",
       "      <td>0.007126</td>\n",
       "      <td>IT-L23+PFC</td>\n",
       "    </tr>\n",
       "    <tr>\n",
       "      <th>MA0625.1</th>\n",
       "      <td>1.533527</td>\n",
       "      <td>1.936482e-52</td>\n",
       "      <td>4.641101e-51</td>\n",
       "      <td>50.333379</td>\n",
       "      <td>1677.0</td>\n",
       "      <td>31147.0</td>\n",
       "      <td>11595.0</td>\n",
       "      <td>330252.0</td>\n",
       "      <td>0.051091</td>\n",
       "      <td>0.033919</td>\n",
       "      <td>IT-L23+PFC</td>\n",
       "    </tr>\n",
       "    <tr>\n",
       "      <th>MA0627.2</th>\n",
       "      <td>1.632026</td>\n",
       "      <td>1.110859e-15</td>\n",
       "      <td>1.597415e-14</td>\n",
       "      <td>13.796582</td>\n",
       "      <td>346.0</td>\n",
       "      <td>32478.0</td>\n",
       "      <td>2217.0</td>\n",
       "      <td>339630.0</td>\n",
       "      <td>0.010541</td>\n",
       "      <td>0.006485</td>\n",
       "      <td>IT-L23+PFC</td>\n",
       "    </tr>\n",
       "    <tr>\n",
       "      <th>MA0633.1</th>\n",
       "      <td>4.083611</td>\n",
       "      <td>2.246857e-309</td>\n",
       "      <td>2.692484e-307</td>\n",
       "      <td>306.569847</td>\n",
       "      <td>1285.0</td>\n",
       "      <td>31539.0</td>\n",
       "      <td>3377.0</td>\n",
       "      <td>338470.0</td>\n",
       "      <td>0.039148</td>\n",
       "      <td>0.009879</td>\n",
       "      <td>IT-L23+PFC</td>\n",
       "    </tr>\n",
       "    <tr>\n",
       "      <th>MA0668.1</th>\n",
       "      <td>4.947283</td>\n",
       "      <td>5.380374e-238</td>\n",
       "      <td>4.298321e-236</td>\n",
       "      <td>235.366701</td>\n",
       "      <td>808.0</td>\n",
       "      <td>32016.0</td>\n",
       "      <td>1735.0</td>\n",
       "      <td>340112.0</td>\n",
       "      <td>0.024616</td>\n",
       "      <td>0.005075</td>\n",
       "      <td>IT-L23+PFC</td>\n",
       "    </tr>\n",
       "    <tr>\n",
       "      <th>MA0669.1</th>\n",
       "      <td>3.742344</td>\n",
       "      <td>1.520867e-111</td>\n",
       "      <td>6.075019e-110</td>\n",
       "      <td>109.216452</td>\n",
       "      <td>501.0</td>\n",
       "      <td>32323.0</td>\n",
       "      <td>1410.0</td>\n",
       "      <td>340437.0</td>\n",
       "      <td>0.015263</td>\n",
       "      <td>0.004125</td>\n",
       "      <td>IT-L23+PFC</td>\n",
       "    </tr>\n",
       "    <tr>\n",
       "      <th>MA0678.1</th>\n",
       "      <td>6.120696</td>\n",
       "      <td>8.987699e-211</td>\n",
       "      <td>5.874687e-209</td>\n",
       "      <td>208.231015</td>\n",
       "      <td>595.0</td>\n",
       "      <td>32229.0</td>\n",
       "      <td>1028.0</td>\n",
       "      <td>340819.0</td>\n",
       "      <td>0.018127</td>\n",
       "      <td>0.003007</td>\n",
       "      <td>IT-L23+PFC</td>\n",
       "    </tr>\n",
       "    <tr>\n",
       "      <th>MA0785.1</th>\n",
       "      <td>1.695107</td>\n",
       "      <td>7.445741e-21</td>\n",
       "      <td>1.189664e-19</td>\n",
       "      <td>18.924576</td>\n",
       "      <td>415.0</td>\n",
       "      <td>32409.0</td>\n",
       "      <td>2563.0</td>\n",
       "      <td>339284.0</td>\n",
       "      <td>0.012643</td>\n",
       "      <td>0.007498</td>\n",
       "      <td>IT-L23+PFC</td>\n",
       "    </tr>\n",
       "    <tr>\n",
       "      <th>MA0786.1</th>\n",
       "      <td>1.684199</td>\n",
       "      <td>4.023836e-22</td>\n",
       "      <td>6.728228e-21</td>\n",
       "      <td>20.172099</td>\n",
       "      <td>453.0</td>\n",
       "      <td>32371.0</td>\n",
       "      <td>2817.0</td>\n",
       "      <td>339030.0</td>\n",
       "      <td>0.013801</td>\n",
       "      <td>0.008241</td>\n",
       "      <td>IT-L23+PFC</td>\n",
       "    </tr>\n",
       "    <tr>\n",
       "      <th>MA0788.1</th>\n",
       "      <td>1.847410</td>\n",
       "      <td>6.011499e-21</td>\n",
       "      <td>9.823336e-20</td>\n",
       "      <td>19.007741</td>\n",
       "      <td>317.0</td>\n",
       "      <td>32507.0</td>\n",
       "      <td>1795.0</td>\n",
       "      <td>340052.0</td>\n",
       "      <td>0.009658</td>\n",
       "      <td>0.005251</td>\n",
       "      <td>IT-L23+PFC</td>\n",
       "    </tr>\n",
       "    <tr>\n",
       "      <th>MA0798.2</th>\n",
       "      <td>3.115609</td>\n",
       "      <td>2.076749e-52</td>\n",
       "      <td>4.816719e-51</td>\n",
       "      <td>50.317249</td>\n",
       "      <td>292.0</td>\n",
       "      <td>32532.0</td>\n",
       "      <td>982.0</td>\n",
       "      <td>340865.0</td>\n",
       "      <td>0.008896</td>\n",
       "      <td>0.002873</td>\n",
       "      <td>IT-L23+PFC</td>\n",
       "    </tr>\n",
       "    <tr>\n",
       "      <th>MA0799.1</th>\n",
       "      <td>2.272652</td>\n",
       "      <td>9.887557e-18</td>\n",
       "      <td>1.481074e-16</td>\n",
       "      <td>15.829423</td>\n",
       "      <td>158.0</td>\n",
       "      <td>32666.0</td>\n",
       "      <td>726.0</td>\n",
       "      <td>341121.0</td>\n",
       "      <td>0.004814</td>\n",
       "      <td>0.002124</td>\n",
       "      <td>IT-L23+PFC</td>\n",
       "    </tr>\n",
       "    <tr>\n",
       "      <th>MA0817.1</th>\n",
       "      <td>4.952361</td>\n",
       "      <td>1.582727e-116</td>\n",
       "      <td>6.694003e-115</td>\n",
       "      <td>114.174314</td>\n",
       "      <td>390.0</td>\n",
       "      <td>32434.0</td>\n",
       "      <td>828.0</td>\n",
       "      <td>341019.0</td>\n",
       "      <td>0.011882</td>\n",
       "      <td>0.002422</td>\n",
       "      <td>IT-L23+PFC</td>\n",
       "    </tr>\n",
       "    <tr>\n",
       "      <th>MA0818.1</th>\n",
       "      <td>4.647577</td>\n",
       "      <td>7.008108e-316</td>\n",
       "      <td>1.259707e-313</td>\n",
       "      <td>312.899730</td>\n",
       "      <td>1145.0</td>\n",
       "      <td>31679.0</td>\n",
       "      <td>2638.0</td>\n",
       "      <td>339209.0</td>\n",
       "      <td>0.034883</td>\n",
       "      <td>0.007717</td>\n",
       "      <td>IT-L23+PFC</td>\n",
       "    </tr>\n",
       "    <tr>\n",
       "      <th>MA0826.1</th>\n",
       "      <td>5.402706</td>\n",
       "      <td>2.182616e-174</td>\n",
       "      <td>1.120929e-172</td>\n",
       "      <td>171.950422</td>\n",
       "      <td>544.0</td>\n",
       "      <td>32280.0</td>\n",
       "      <td>1063.0</td>\n",
       "      <td>340784.0</td>\n",
       "      <td>0.016573</td>\n",
       "      <td>0.003110</td>\n",
       "      <td>IT-L23+PFC</td>\n",
       "    </tr>\n",
       "    <tr>\n",
       "      <th>MA0827.1</th>\n",
       "      <td>5.400723</td>\n",
       "      <td>1.186301e-282</td>\n",
       "      <td>1.218501e-280</td>\n",
       "      <td>279.914174</td>\n",
       "      <td>889.0</td>\n",
       "      <td>31935.0</td>\n",
       "      <td>1753.0</td>\n",
       "      <td>340094.0</td>\n",
       "      <td>0.027084</td>\n",
       "      <td>0.005128</td>\n",
       "      <td>IT-L23+PFC</td>\n",
       "    </tr>\n",
       "    <tr>\n",
       "      <th>MA0868.2</th>\n",
       "      <td>1.695972</td>\n",
       "      <td>2.407446e-23</td>\n",
       "      <td>4.121319e-22</td>\n",
       "      <td>21.384964</td>\n",
       "      <td>469.0</td>\n",
       "      <td>32355.0</td>\n",
       "      <td>2897.0</td>\n",
       "      <td>338950.0</td>\n",
       "      <td>0.014288</td>\n",
       "      <td>0.008475</td>\n",
       "      <td>IT-L23+PFC</td>\n",
       "    </tr>\n",
       "    <tr>\n",
       "      <th>MA0901.2</th>\n",
       "      <td>1.729684</td>\n",
       "      <td>1.944471e-18</td>\n",
       "      <td>3.039293e-17</td>\n",
       "      <td>16.517227</td>\n",
       "      <td>338.0</td>\n",
       "      <td>32486.0</td>\n",
       "      <td>2044.0</td>\n",
       "      <td>339803.0</td>\n",
       "      <td>0.010297</td>\n",
       "      <td>0.005979</td>\n",
       "      <td>IT-L23+PFC</td>\n",
       "    </tr>\n",
       "    <tr>\n",
       "      <th>MA1109.1</th>\n",
       "      <td>2.747579</td>\n",
       "      <td>2.690013e-212</td>\n",
       "      <td>1.934119e-210</td>\n",
       "      <td>209.713517</td>\n",
       "      <td>1506.0</td>\n",
       "      <td>31318.0</td>\n",
       "      <td>5880.0</td>\n",
       "      <td>335967.0</td>\n",
       "      <td>0.045881</td>\n",
       "      <td>0.017201</td>\n",
       "      <td>IT-L23+PFC</td>\n",
       "    </tr>\n",
       "    <tr>\n",
       "      <th>MA1115.1</th>\n",
       "      <td>1.607395</td>\n",
       "      <td>8.120390e-42</td>\n",
       "      <td>1.717224e-40</td>\n",
       "      <td>39.765173</td>\n",
       "      <td>1076.0</td>\n",
       "      <td>31748.0</td>\n",
       "      <td>7059.0</td>\n",
       "      <td>334788.0</td>\n",
       "      <td>0.032781</td>\n",
       "      <td>0.020650</td>\n",
       "      <td>IT-L23+PFC</td>\n",
       "    </tr>\n",
       "    <tr>\n",
       "      <th>MA1152.1</th>\n",
       "      <td>1.644355</td>\n",
       "      <td>1.176245e-106</td>\n",
       "      <td>4.451160e-105</td>\n",
       "      <td>104.351527</td>\n",
       "      <td>2696.0</td>\n",
       "      <td>30128.0</td>\n",
       "      <td>17643.0</td>\n",
       "      <td>324204.0</td>\n",
       "      <td>0.082135</td>\n",
       "      <td>0.051611</td>\n",
       "      <td>IT-L23+PFC</td>\n",
       "    </tr>\n",
       "    <tr>\n",
       "      <th>MA1468.1</th>\n",
       "      <td>4.436916</td>\n",
       "      <td>9.683687e-322</td>\n",
       "      <td>2.320873e-319</td>\n",
       "      <td>318.634349</td>\n",
       "      <td>1223.0</td>\n",
       "      <td>31601.0</td>\n",
       "      <td>2956.0</td>\n",
       "      <td>338891.0</td>\n",
       "      <td>0.037259</td>\n",
       "      <td>0.008647</td>\n",
       "      <td>IT-L23+PFC</td>\n",
       "    </tr>\n",
       "    <tr>\n",
       "      <th>MA1478.1</th>\n",
       "      <td>1.926391</td>\n",
       "      <td>9.868609e-31</td>\n",
       "      <td>1.917711e-29</td>\n",
       "      <td>28.717217</td>\n",
       "      <td>427.0</td>\n",
       "      <td>32397.0</td>\n",
       "      <td>2323.0</td>\n",
       "      <td>339524.0</td>\n",
       "      <td>0.013009</td>\n",
       "      <td>0.006795</td>\n",
       "      <td>IT-L23+PFC</td>\n",
       "    </tr>\n",
       "    <tr>\n",
       "      <th>MA1479.1</th>\n",
       "      <td>2.177500</td>\n",
       "      <td>1.390320e-24</td>\n",
       "      <td>2.499101e-23</td>\n",
       "      <td>22.602216</td>\n",
       "      <td>248.0</td>\n",
       "      <td>32576.0</td>\n",
       "      <td>1191.0</td>\n",
       "      <td>340656.0</td>\n",
       "      <td>0.007555</td>\n",
       "      <td>0.003484</td>\n",
       "      <td>IT-L23+PFC</td>\n",
       "    </tr>\n",
       "    <tr>\n",
       "      <th>MA1524.1</th>\n",
       "      <td>2.388518</td>\n",
       "      <td>1.392671e-118</td>\n",
       "      <td>6.258317e-117</td>\n",
       "      <td>116.203542</td>\n",
       "      <td>1067.0</td>\n",
       "      <td>31757.0</td>\n",
       "      <td>4742.0</td>\n",
       "      <td>337105.0</td>\n",
       "      <td>0.032507</td>\n",
       "      <td>0.013872</td>\n",
       "      <td>IT-L23+PFC</td>\n",
       "    </tr>\n",
       "    <tr>\n",
       "      <th>MA1562.1</th>\n",
       "      <td>1.598625</td>\n",
       "      <td>7.643728e-13</td>\n",
       "      <td>1.017748e-11</td>\n",
       "      <td>10.992360</td>\n",
       "      <td>298.0</td>\n",
       "      <td>32526.0</td>\n",
       "      <td>1948.0</td>\n",
       "      <td>339899.0</td>\n",
       "      <td>0.009079</td>\n",
       "      <td>0.005698</td>\n",
       "      <td>IT-L23+PFC</td>\n",
       "    </tr>\n",
       "    <tr>\n",
       "      <th>MA1568.1</th>\n",
       "      <td>5.871396</td>\n",
       "      <td>1.876113e-104</td>\n",
       "      <td>6.744625e-103</td>\n",
       "      <td>102.171042</td>\n",
       "      <td>301.0</td>\n",
       "      <td>32523.0</td>\n",
       "      <td>538.0</td>\n",
       "      <td>341309.0</td>\n",
       "      <td>0.009170</td>\n",
       "      <td>0.001574</td>\n",
       "      <td>IT-L23+PFC</td>\n",
       "    </tr>\n",
       "    <tr>\n",
       "      <th>MA1570.1</th>\n",
       "      <td>2.342570</td>\n",
       "      <td>1.084136e-165</td>\n",
       "      <td>5.196627e-164</td>\n",
       "      <td>163.284278</td>\n",
       "      <td>1572.0</td>\n",
       "      <td>31252.0</td>\n",
       "      <td>7186.0</td>\n",
       "      <td>334661.0</td>\n",
       "      <td>0.047892</td>\n",
       "      <td>0.021021</td>\n",
       "      <td>IT-L23+PFC</td>\n",
       "    </tr>\n",
       "    <tr>\n",
       "      <th>MA1638.1</th>\n",
       "      <td>1.697132</td>\n",
       "      <td>7.700262e-178</td>\n",
       "      <td>4.258837e-176</td>\n",
       "      <td>175.370709</td>\n",
       "      <td>4196.0</td>\n",
       "      <td>28628.0</td>\n",
       "      <td>27176.0</td>\n",
       "      <td>314671.0</td>\n",
       "      <td>0.127833</td>\n",
       "      <td>0.079498</td>\n",
       "      <td>IT-L23+PFC</td>\n",
       "    </tr>\n",
       "    <tr>\n",
       "      <th>MA1642.1</th>\n",
       "      <td>2.735921</td>\n",
       "      <td>0.000000e+00</td>\n",
       "      <td>0.000000e+00</td>\n",
       "      <td>300.000000</td>\n",
       "      <td>2516.0</td>\n",
       "      <td>30308.0</td>\n",
       "      <td>10067.0</td>\n",
       "      <td>331780.0</td>\n",
       "      <td>0.076651</td>\n",
       "      <td>0.029449</td>\n",
       "      <td>IT-L23+PFC</td>\n",
       "    </tr>\n",
       "  </tbody>\n",
       "</table>\n",
       "</div>"
      ],
      "text/plain": [
       "          oddsratio        p_value          adj_p        -lgp      tp  \\\n",
       "MA0025.2   1.569116   1.001571e-14   1.384865e-13   12.858593   376.0   \n",
       "MA0040.1   1.648646   1.133622e-15   1.598185e-14   13.796373   333.0   \n",
       "MA0077.1   1.543987   3.626435e-28   6.861597e-27   26.163575   829.0   \n",
       "MA0084.1   1.691084   2.458045e-83   7.684061e-82   81.114409  1857.0   \n",
       "MA0091.1   2.592453   5.569674e-77   1.668581e-75   74.777653   584.0   \n",
       "MA0142.1   1.700212   1.190245e-13   1.614691e-12   11.791911   255.0   \n",
       "MA0143.4   1.566034   6.630342e-65   1.833545e-63   62.736709  1925.0   \n",
       "MA0461.2   4.347206  4.866961e-312  6.998690e-310  309.154983  1211.0   \n",
       "MA0507.1   1.685453   1.135028e-27   2.092525e-26   25.679329   577.0   \n",
       "MA0509.2   3.179318   4.434794e-63   1.138792e-61   60.943556   344.0   \n",
       "MA0606.1   1.506445   1.099264e-64   2.927299e-63   62.533533  2291.0   \n",
       "MA0607.1   3.038775   0.000000e+00   0.000000e+00  300.000000  3236.0   \n",
       "MA0610.1   1.961537   3.481606e-24   6.105549e-23   22.214275   314.0   \n",
       "MA0619.1   1.836339  1.587374e-278  1.426652e-276  275.845682  5245.0   \n",
       "MA0623.2   3.887645  1.184748e-204  7.098617e-203  202.148826   891.0   \n",
       "MA0625.1   1.533527   1.936482e-52   4.641101e-51   50.333379  1677.0   \n",
       "MA0627.2   1.632026   1.110859e-15   1.597415e-14   13.796582   346.0   \n",
       "MA0633.1   4.083611  2.246857e-309  2.692484e-307  306.569847  1285.0   \n",
       "MA0668.1   4.947283  5.380374e-238  4.298321e-236  235.366701   808.0   \n",
       "MA0669.1   3.742344  1.520867e-111  6.075019e-110  109.216452   501.0   \n",
       "MA0678.1   6.120696  8.987699e-211  5.874687e-209  208.231015   595.0   \n",
       "MA0785.1   1.695107   7.445741e-21   1.189664e-19   18.924576   415.0   \n",
       "MA0786.1   1.684199   4.023836e-22   6.728228e-21   20.172099   453.0   \n",
       "MA0788.1   1.847410   6.011499e-21   9.823336e-20   19.007741   317.0   \n",
       "MA0798.2   3.115609   2.076749e-52   4.816719e-51   50.317249   292.0   \n",
       "MA0799.1   2.272652   9.887557e-18   1.481074e-16   15.829423   158.0   \n",
       "MA0817.1   4.952361  1.582727e-116  6.694003e-115  114.174314   390.0   \n",
       "MA0818.1   4.647577  7.008108e-316  1.259707e-313  312.899730  1145.0   \n",
       "MA0826.1   5.402706  2.182616e-174  1.120929e-172  171.950422   544.0   \n",
       "MA0827.1   5.400723  1.186301e-282  1.218501e-280  279.914174   889.0   \n",
       "MA0868.2   1.695972   2.407446e-23   4.121319e-22   21.384964   469.0   \n",
       "MA0901.2   1.729684   1.944471e-18   3.039293e-17   16.517227   338.0   \n",
       "MA1109.1   2.747579  2.690013e-212  1.934119e-210  209.713517  1506.0   \n",
       "MA1115.1   1.607395   8.120390e-42   1.717224e-40   39.765173  1076.0   \n",
       "MA1152.1   1.644355  1.176245e-106  4.451160e-105  104.351527  2696.0   \n",
       "MA1468.1   4.436916  9.683687e-322  2.320873e-319  318.634349  1223.0   \n",
       "MA1478.1   1.926391   9.868609e-31   1.917711e-29   28.717217   427.0   \n",
       "MA1479.1   2.177500   1.390320e-24   2.499101e-23   22.602216   248.0   \n",
       "MA1524.1   2.388518  1.392671e-118  6.258317e-117  116.203542  1067.0   \n",
       "MA1562.1   1.598625   7.643728e-13   1.017748e-11   10.992360   298.0   \n",
       "MA1568.1   5.871396  1.876113e-104  6.744625e-103  102.171042   301.0   \n",
       "MA1570.1   2.342570  1.084136e-165  5.196627e-164  163.284278  1572.0   \n",
       "MA1638.1   1.697132  7.700262e-178  4.258837e-176  175.370709  4196.0   \n",
       "MA1642.1   2.735921   0.000000e+00   0.000000e+00  300.000000  2516.0   \n",
       "\n",
       "               tn       fp        fn   tp_rate   fp_rate       Group  \n",
       "MA0025.2  32448.0   2506.0  339341.0  0.011455  0.007331  IT-L23+PFC  \n",
       "MA0040.1  32491.0   2112.0  339735.0  0.010145  0.006178  IT-L23+PFC  \n",
       "MA0077.1  31995.0   5642.0  336205.0  0.025256  0.016504  IT-L23+PFC  \n",
       "MA0084.1  30967.0  11707.0  330140.0  0.056574  0.034246  IT-L23+PFC  \n",
       "MA0091.1  32240.0   2372.0  339475.0  0.017792  0.006939  IT-L23+PFC  \n",
       "MA0142.1  32569.0   1567.0  340280.0  0.007769  0.004584  IT-L23+PFC  \n",
       "MA0143.4  30899.0  13079.0  328768.0  0.058646  0.038260  IT-L23+PFC  \n",
       "MA0461.2  31613.0   2986.0  338861.0  0.036894  0.008735  IT-L23+PFC  \n",
       "MA0507.1  32247.0   3591.0  338256.0  0.017579  0.010505  IT-L23+PFC  \n",
       "MA0509.2  32480.0   1135.0  340712.0  0.010480  0.003320  IT-L23+PFC  \n",
       "MA0606.1  30533.0  16219.0  325628.0  0.069796  0.047445  IT-L23+PFC  \n",
       "MA0607.1  29588.0  11876.0  329971.0  0.098586  0.034741  IT-L23+PFC  \n",
       "MA0610.1  32510.0   1675.0  340172.0  0.009566  0.004900  IT-L23+PFC  \n",
       "MA0619.1  27579.0  32081.0  309766.0  0.159792  0.093846  IT-L23+PFC  \n",
       "MA0623.2  31933.0   2436.0  339411.0  0.027145  0.007126  IT-L23+PFC  \n",
       "MA0625.1  31147.0  11595.0  330252.0  0.051091  0.033919  IT-L23+PFC  \n",
       "MA0627.2  32478.0   2217.0  339630.0  0.010541  0.006485  IT-L23+PFC  \n",
       "MA0633.1  31539.0   3377.0  338470.0  0.039148  0.009879  IT-L23+PFC  \n",
       "MA0668.1  32016.0   1735.0  340112.0  0.024616  0.005075  IT-L23+PFC  \n",
       "MA0669.1  32323.0   1410.0  340437.0  0.015263  0.004125  IT-L23+PFC  \n",
       "MA0678.1  32229.0   1028.0  340819.0  0.018127  0.003007  IT-L23+PFC  \n",
       "MA0785.1  32409.0   2563.0  339284.0  0.012643  0.007498  IT-L23+PFC  \n",
       "MA0786.1  32371.0   2817.0  339030.0  0.013801  0.008241  IT-L23+PFC  \n",
       "MA0788.1  32507.0   1795.0  340052.0  0.009658  0.005251  IT-L23+PFC  \n",
       "MA0798.2  32532.0    982.0  340865.0  0.008896  0.002873  IT-L23+PFC  \n",
       "MA0799.1  32666.0    726.0  341121.0  0.004814  0.002124  IT-L23+PFC  \n",
       "MA0817.1  32434.0    828.0  341019.0  0.011882  0.002422  IT-L23+PFC  \n",
       "MA0818.1  31679.0   2638.0  339209.0  0.034883  0.007717  IT-L23+PFC  \n",
       "MA0826.1  32280.0   1063.0  340784.0  0.016573  0.003110  IT-L23+PFC  \n",
       "MA0827.1  31935.0   1753.0  340094.0  0.027084  0.005128  IT-L23+PFC  \n",
       "MA0868.2  32355.0   2897.0  338950.0  0.014288  0.008475  IT-L23+PFC  \n",
       "MA0901.2  32486.0   2044.0  339803.0  0.010297  0.005979  IT-L23+PFC  \n",
       "MA1109.1  31318.0   5880.0  335967.0  0.045881  0.017201  IT-L23+PFC  \n",
       "MA1115.1  31748.0   7059.0  334788.0  0.032781  0.020650  IT-L23+PFC  \n",
       "MA1152.1  30128.0  17643.0  324204.0  0.082135  0.051611  IT-L23+PFC  \n",
       "MA1468.1  31601.0   2956.0  338891.0  0.037259  0.008647  IT-L23+PFC  \n",
       "MA1478.1  32397.0   2323.0  339524.0  0.013009  0.006795  IT-L23+PFC  \n",
       "MA1479.1  32576.0   1191.0  340656.0  0.007555  0.003484  IT-L23+PFC  \n",
       "MA1524.1  31757.0   4742.0  337105.0  0.032507  0.013872  IT-L23+PFC  \n",
       "MA1562.1  32526.0   1948.0  339899.0  0.009079  0.005698  IT-L23+PFC  \n",
       "MA1568.1  32523.0    538.0  341309.0  0.009170  0.001574  IT-L23+PFC  \n",
       "MA1570.1  31252.0   7186.0  334661.0  0.047892  0.021021  IT-L23+PFC  \n",
       "MA1638.1  28628.0  27176.0  314671.0  0.127833  0.079498  IT-L23+PFC  \n",
       "MA1642.1  30308.0  10067.0  331780.0  0.076651  0.029449  IT-L23+PFC  "
      ]
     },
     "execution_count": 20,
     "metadata": {},
     "output_type": "execute_result"
    }
   ],
   "source": [
    "filtered_motif_df"
   ]
  },
  {
   "cell_type": "code",
   "execution_count": null,
   "metadata": {
    "papermill": {
     "duration": 0.011117,
     "end_time": "2020-01-14T06:44:38.431822",
     "exception": false,
     "start_time": "2020-01-14T06:44:38.420705",
     "status": "completed"
    },
    "tags": []
   },
   "outputs": [],
   "source": []
  }
 ],
 "metadata": {
  "hide_input": false,
  "kernelspec": {
   "display_name": "Python 3",
   "language": "python",
   "name": "python3"
  },
  "language_info": {
   "codemirror_mode": {
    "name": "ipython",
    "version": 3
   },
   "file_extension": ".py",
   "mimetype": "text/x-python",
   "name": "python",
   "nbconvert_exporter": "python",
   "pygments_lexer": "ipython3",
   "version": "3.7.3"
  },
  "papermill": {
   "duration": 13.140948,
   "end_time": "2020-01-14T06:44:38.850128",
   "environment_variables": {},
   "exception": null,
   "input_path": "4.MotifEnrichment.ipynb",
   "output_path": "/home/hanliu/project/mouse_rostral_brain/DMR/ITSpatial_by_layer/IT-L6/Recipe/4.MotifEnrichment.IT-L23+PFC.ipynb",
   "parameters": {
    "dmr_hits_path": "/home/hanliu/project/mouse_rostral_brain/DMR/ITSpatial_by_layer/IT-L23/HypoDMR/IT-L23+PFC.DMS1.bed",
    "group": "IT-L23+PFC",
    "mask_quantile_to99": 0.9,
    "motif_hits_path": "/home/hanliu/project/mouse_rostral_brain/DMR/ITSpatial_by_layer/IT-L23/MotifScan.h5ad",
    "neg_lgp_cutoff": 10,
    "or_cutoff": 1.5,
    "output_dir": "/home/hanliu/project/mouse_rostral_brain/DMR/ITSpatial_by_layer/IT-L23/MotifEnrichment"
   },
   "start_time": "2020-01-14T06:44:25.709180",
   "version": "1.0.1"
  },
  "toc": {
   "base_numbering": 1,
   "nav_menu": {},
   "number_sections": true,
   "sideBar": true,
   "skip_h1_title": true,
   "title_cell": "Table of Contents",
   "title_sidebar": "Contents",
   "toc_cell": false,
   "toc_position": {},
   "toc_section_display": true,
   "toc_window_display": true
  }
 },
 "nbformat": 4,
 "nbformat_minor": 2
}
