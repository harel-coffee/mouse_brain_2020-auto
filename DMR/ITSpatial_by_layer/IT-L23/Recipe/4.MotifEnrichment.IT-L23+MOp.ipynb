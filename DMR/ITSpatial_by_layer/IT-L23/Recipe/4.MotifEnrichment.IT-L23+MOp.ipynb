{
 "cells": [
  {
   "cell_type": "markdown",
   "metadata": {
    "papermill": {
     "duration": 0.009875,
     "end_time": "2020-01-14T06:43:44.206444",
     "exception": false,
     "start_time": "2020-01-14T06:43:44.196569",
     "status": "completed"
    },
    "tags": []
   },
   "source": [
    "# Motif Enrichment\n",
    "- The motif hits matrix save the max loglikelyhood score of a motif in that DMR\n",
    "- Before run the motif enrichment, I filter the scores for each motif using cutoff defined by\n",
    "    - `np.quantile(motif_score[motif_score > 0]) * mask_quantile_to99`\n",
    "- This filter will remove hits with low score, which is likely to be false positive\n",
    "- Its likely boosting the significance of real enrichment"
   ]
  },
  {
   "cell_type": "code",
   "execution_count": 1,
   "metadata": {
    "ExecuteTime": {
     "end_time": "2020-01-16T05:27:28.674832Z",
     "start_time": "2020-01-16T05:27:27.950272Z"
    },
    "papermill": {
     "duration": 0.676049,
     "end_time": "2020-01-14T06:43:44.893050",
     "exception": false,
     "start_time": "2020-01-14T06:43:44.217001",
     "status": "completed"
    },
    "tags": []
   },
   "outputs": [],
   "source": [
    "from concurrent.futures import ProcessPoolExecutor, as_completed\n",
    "import anndata\n",
    "import matplotlib.pyplot as plt\n",
    "import numpy as np\n",
    "import pandas as pd\n",
    "import pybedtools\n",
    "import scipy.stats as stats\n",
    "import seaborn as sns\n",
    "from scipy.sparse import csr_matrix\n",
    "from statsmodels.stats.multitest import multipletests\n",
    "import pathlib"
   ]
  },
  {
   "cell_type": "code",
   "execution_count": 2,
   "metadata": {
    "ExecuteTime": {
     "end_time": "2020-01-16T05:27:28.679877Z",
     "start_time": "2020-01-16T05:27:28.676894Z"
    },
    "papermill": {
     "duration": 0.015342,
     "end_time": "2020-01-14T06:43:44.918688",
     "exception": false,
     "start_time": "2020-01-14T06:43:44.903346",
     "status": "completed"
    },
    "tags": [
     "parameters"
    ]
   },
   "outputs": [],
   "source": [
    "mask_quantile_to99 = 0.9\n",
    "or_cutoff = 1.5\n",
    "neg_lgp_cutoff = 10\n",
    "group = 'IT-L23+ACA'\n",
    "\n",
    "motif_hits_path = '/home/hanliu/project/mouse_rostral_brain/DMR/ITSpatial_by_layer/IT-L23/MotifScan.h5ad'\n",
    "dmr_hits_path = f'/home/hanliu/project/mouse_rostral_brain/DMR/ITSpatial_by_layer/IT-L23/HypoDMR/{group}.DMS1.bed'\n",
    "output_dir = '/home/hanliu/project/mouse_rostral_brain/DMR/ITSpatial_by_layer/IT-L23/MotifEnrichment'\n"
   ]
  },
  {
   "cell_type": "code",
   "execution_count": 3,
   "metadata": {
    "ExecuteTime": {
     "end_time": "2020-01-16T05:27:28.683439Z",
     "start_time": "2020-01-16T05:27:28.681085Z"
    },
    "papermill": {
     "duration": 0.01466,
     "end_time": "2020-01-14T06:43:44.942616",
     "exception": false,
     "start_time": "2020-01-14T06:43:44.927956",
     "status": "completed"
    },
    "tags": [
     "injected-parameters"
    ]
   },
   "outputs": [],
   "source": [
    "# Parameters\n",
    "mask_quantile_to99 = 0.9\n",
    "or_cutoff = 1.5\n",
    "neg_lgp_cutoff = 10\n",
    "group = \"IT-L23+MOp\"\n",
    "motif_hits_path = \"/home/hanliu/project/mouse_rostral_brain/DMR/ITSpatial_by_layer/IT-L23/MotifScan.h5ad\"\n",
    "dmr_hits_path = \"/home/hanliu/project/mouse_rostral_brain/DMR/ITSpatial_by_layer/IT-L23/HypoDMR/IT-L23+MOp.DMS1.bed\"\n",
    "output_dir = \"/home/hanliu/project/mouse_rostral_brain/DMR/ITSpatial_by_layer/IT-L23/MotifEnrichment\"\n"
   ]
  },
  {
   "cell_type": "code",
   "execution_count": 4,
   "metadata": {
    "ExecuteTime": {
     "end_time": "2020-01-16T05:27:28.686849Z",
     "start_time": "2020-01-16T05:27:28.684632Z"
    },
    "papermill": {
     "duration": 0.014231,
     "end_time": "2020-01-14T06:43:44.966115",
     "exception": false,
     "start_time": "2020-01-14T06:43:44.951884",
     "status": "completed"
    },
    "tags": []
   },
   "outputs": [],
   "source": [
    "output_dir = pathlib.Path(output_dir)\n",
    "output_dir.mkdir(exist_ok=True)"
   ]
  },
  {
   "cell_type": "markdown",
   "metadata": {
    "papermill": {
     "duration": 0.009112,
     "end_time": "2020-01-14T06:43:44.984388",
     "exception": false,
     "start_time": "2020-01-14T06:43:44.975276",
     "status": "completed"
    },
    "tags": []
   },
   "source": [
    "## DMR hits"
   ]
  },
  {
   "cell_type": "code",
   "execution_count": 5,
   "metadata": {
    "ExecuteTime": {
     "end_time": "2020-01-16T05:27:28.768961Z",
     "start_time": "2020-01-16T05:27:28.688053Z"
    },
    "papermill": {
     "duration": 0.153254,
     "end_time": "2020-01-14T06:43:45.147030",
     "exception": false,
     "start_time": "2020-01-14T06:43:44.993776",
     "status": "completed"
    },
    "tags": []
   },
   "outputs": [
    {
     "data": {
      "text/html": [
       "<div>\n",
       "<style scoped>\n",
       "    .dataframe tbody tr th:only-of-type {\n",
       "        vertical-align: middle;\n",
       "    }\n",
       "\n",
       "    .dataframe tbody tr th {\n",
       "        vertical-align: top;\n",
       "    }\n",
       "\n",
       "    .dataframe thead th {\n",
       "        text-align: right;\n",
       "    }\n",
       "</style>\n",
       "<table border=\"1\" class=\"dataframe\">\n",
       "  <thead>\n",
       "    <tr style=\"text-align: right;\">\n",
       "      <th></th>\n",
       "      <th>0</th>\n",
       "      <th>1</th>\n",
       "      <th>2</th>\n",
       "    </tr>\n",
       "    <tr>\n",
       "      <th>3</th>\n",
       "      <th></th>\n",
       "      <th></th>\n",
       "      <th></th>\n",
       "    </tr>\n",
       "  </thead>\n",
       "  <tbody>\n",
       "    <tr>\n",
       "      <th>DGm3c_24</th>\n",
       "      <td>chr1</td>\n",
       "      <td>3211017</td>\n",
       "      <td>3211017</td>\n",
       "    </tr>\n",
       "    <tr>\n",
       "      <th>DGm3c_41</th>\n",
       "      <td>chr1</td>\n",
       "      <td>3293051</td>\n",
       "      <td>3293092</td>\n",
       "    </tr>\n",
       "    <tr>\n",
       "      <th>DGm3c_42</th>\n",
       "      <td>chr1</td>\n",
       "      <td>3293393</td>\n",
       "      <td>3293393</td>\n",
       "    </tr>\n",
       "    <tr>\n",
       "      <th>DGm3c_95</th>\n",
       "      <td>chr1</td>\n",
       "      <td>3456136</td>\n",
       "      <td>3456136</td>\n",
       "    </tr>\n",
       "    <tr>\n",
       "      <th>DGm3c_101</th>\n",
       "      <td>chr1</td>\n",
       "      <td>3488468</td>\n",
       "      <td>3488468</td>\n",
       "    </tr>\n",
       "  </tbody>\n",
       "</table>\n",
       "</div>"
      ],
      "text/plain": [
       "              0        1        2\n",
       "3                                \n",
       "DGm3c_24   chr1  3211017  3211017\n",
       "DGm3c_41   chr1  3293051  3293092\n",
       "DGm3c_42   chr1  3293393  3293393\n",
       "DGm3c_95   chr1  3456136  3456136\n",
       "DGm3c_101  chr1  3488468  3488468"
      ]
     },
     "execution_count": 5,
     "metadata": {},
     "output_type": "execute_result"
    }
   ],
   "source": [
    "dmr_bed_df = pd.read_csv(dmr_hits_path, sep='\\t', header=None, index_col=3)\n",
    "dmr_bed_df.head()"
   ]
  },
  {
   "cell_type": "code",
   "execution_count": 6,
   "metadata": {
    "ExecuteTime": {
     "end_time": "2020-01-16T05:27:31.739576Z",
     "start_time": "2020-01-16T05:27:28.770261Z"
    },
    "papermill": {
     "duration": 2.918075,
     "end_time": "2020-01-14T06:43:48.075809",
     "exception": false,
     "start_time": "2020-01-14T06:43:45.157734",
     "status": "completed"
    },
    "tags": []
   },
   "outputs": [
    {
     "data": {
      "text/plain": [
       "AnnData object with n_obs × n_vars = 84014 × 719 \n",
       "    obs: 'chrom', 'start', 'end'"
      ]
     },
     "execution_count": 6,
     "metadata": {},
     "output_type": "execute_result"
    }
   ],
   "source": [
    "motif_hits = anndata.read_h5ad(motif_hits_path)\n",
    "motif_hits = motif_hits[dmr_bed_df.index, :].copy()\n",
    "motif_ids = motif_hits.var_names\n",
    "motif_hits.X = motif_hits.X.todense()\n",
    "motif_hits"
   ]
  },
  {
   "cell_type": "code",
   "execution_count": 7,
   "metadata": {
    "ExecuteTime": {
     "end_time": "2020-01-16T05:27:32.739097Z",
     "start_time": "2020-01-16T05:27:31.742399Z"
    },
    "papermill": {
     "duration": 1.848532,
     "end_time": "2020-01-14T06:43:49.935281",
     "exception": false,
     "start_time": "2020-01-14T06:43:48.086749",
     "status": "completed"
    },
    "tags": []
   },
   "outputs": [],
   "source": [
    "# mask small motif scores\n",
    "motif_cutoff = pd.Series(np.apply_along_axis(lambda i: np.quantile(i[i>0], 0.99) * mask_quantile_to99, \n",
    "                                             0, motif_hits.X),\n",
    "                         index=motif_hits.var_names)\n",
    "# only keep value larger than the cutoff for each motif\n",
    "motif_hits.X = np.multiply(motif_hits.X, (motif_hits.X > motif_cutoff.values[None, :]))"
   ]
  },
  {
   "cell_type": "markdown",
   "metadata": {
    "papermill": {
     "duration": 0.009916,
     "end_time": "2020-01-14T06:43:49.956317",
     "exception": false,
     "start_time": "2020-01-14T06:43:49.946401",
     "status": "completed"
    },
    "tags": []
   },
   "source": [
    "## Background Hits"
   ]
  },
  {
   "cell_type": "code",
   "execution_count": 8,
   "metadata": {
    "ExecuteTime": {
     "end_time": "2020-01-16T05:27:34.053173Z",
     "start_time": "2020-01-16T05:27:32.740913Z"
    },
    "papermill": {
     "duration": 1.154395,
     "end_time": "2020-01-14T06:43:51.120871",
     "exception": false,
     "start_time": "2020-01-14T06:43:49.966476",
     "status": "completed"
    },
    "tags": []
   },
   "outputs": [],
   "source": [
    "background_motif_hits = anndata.read_h5ad(\n",
    "    '/home/hanliu/project/mouse_rostral_brain/DMR/BackgroundDMR/MotifScan.h5ad'\n",
    ")"
   ]
  },
  {
   "cell_type": "code",
   "execution_count": 9,
   "metadata": {
    "ExecuteTime": {
     "end_time": "2020-01-16T05:27:35.365538Z",
     "start_time": "2020-01-16T05:27:34.054830Z"
    },
    "papermill": {
     "duration": 1.237405,
     "end_time": "2020-01-14T06:43:52.369603",
     "exception": false,
     "start_time": "2020-01-14T06:43:51.132198",
     "status": "completed"
    },
    "tags": []
   },
   "outputs": [],
   "source": [
    "dmr_bed = pybedtools.BedTool().from_dataframe(dmr_bed_df)\n",
    "bg_bed = pybedtools.BedTool().from_dataframe(\n",
    "    background_motif_hits.obs.reset_index().iloc[:, [1, 2, 3, 0]])"
   ]
  },
  {
   "cell_type": "code",
   "execution_count": 10,
   "metadata": {
    "ExecuteTime": {
     "end_time": "2020-01-16T05:27:37.011576Z",
     "start_time": "2020-01-16T05:27:35.367152Z"
    },
    "papermill": {
     "duration": 1.614213,
     "end_time": "2020-01-14T06:43:53.994938",
     "exception": false,
     "start_time": "2020-01-14T06:43:52.380725",
     "status": "completed"
    },
    "tags": []
   },
   "outputs": [],
   "source": [
    "# exclude background that overlap with DMR\n",
    "bg_no_overlap = bg_bed.intersect(dmr_bed, v=True)\n",
    "use_bg = bg_no_overlap.to_dataframe().iloc[:, -1].values\n",
    "background_motif_hits = background_motif_hits[use_bg, :]\n",
    "\n",
    "# make sure col in same order\n",
    "background_motif_hits = background_motif_hits[:, motif_ids].copy()"
   ]
  },
  {
   "cell_type": "code",
   "execution_count": 11,
   "metadata": {
    "ExecuteTime": {
     "end_time": "2020-01-16T05:27:39.318521Z",
     "start_time": "2020-01-16T05:27:37.014385Z"
    },
    "papermill": {
     "duration": 2.012992,
     "end_time": "2020-01-14T06:43:56.018870",
     "exception": false,
     "start_time": "2020-01-14T06:43:54.005878",
     "status": "completed"
    },
    "tags": []
   },
   "outputs": [],
   "source": [
    "judge_matrix = csr_matrix(background_motif_hits.X > motif_cutoff.values[None, :])\n",
    "background_motif_hits.X = background_motif_hits.X.multiply(judge_matrix)"
   ]
  },
  {
   "cell_type": "code",
   "execution_count": 12,
   "metadata": {
    "ExecuteTime": {
     "end_time": "2020-01-16T05:27:39.324593Z",
     "start_time": "2020-01-16T05:27:39.320263Z"
    },
    "papermill": {
     "duration": 0.016577,
     "end_time": "2020-01-14T06:43:56.046454",
     "exception": false,
     "start_time": "2020-01-14T06:43:56.029877",
     "status": "completed"
    },
    "tags": []
   },
   "outputs": [
    {
     "data": {
      "text/plain": [
       "AnnData object with n_obs × n_vars = 330525 × 719 \n",
       "    obs: 'chrom', 'start', 'end'"
      ]
     },
     "execution_count": 12,
     "metadata": {},
     "output_type": "execute_result"
    }
   ],
   "source": [
    "background_motif_hits"
   ]
  },
  {
   "cell_type": "markdown",
   "metadata": {
    "papermill": {
     "duration": 0.009959,
     "end_time": "2020-01-14T06:43:56.066572",
     "exception": false,
     "start_time": "2020-01-14T06:43:56.056613",
     "status": "completed"
    },
    "tags": []
   },
   "source": [
    "## Motif hits contingency table"
   ]
  },
  {
   "cell_type": "code",
   "execution_count": 13,
   "metadata": {
    "ExecuteTime": {
     "end_time": "2020-01-16T05:27:39.806473Z",
     "start_time": "2020-01-16T05:27:39.325855Z"
    },
    "papermill": {
     "duration": 0.455029,
     "end_time": "2020-01-14T06:43:56.531531",
     "exception": false,
     "start_time": "2020-01-14T06:43:56.076502",
     "status": "completed"
    },
    "tags": []
   },
   "outputs": [],
   "source": [
    "# calculate motif occurence, not considering hits here\n",
    "pos = (motif_hits.X > 0).sum(axis=0)\n",
    "pos_total = motif_hits.shape[0]\n",
    "\n",
    "neg = (background_motif_hits.X > 0).sum(axis=0)\n",
    "neg_total = background_motif_hits.shape[0]"
   ]
  },
  {
   "cell_type": "code",
   "execution_count": 14,
   "metadata": {
    "ExecuteTime": {
     "end_time": "2020-01-16T05:27:39.812010Z",
     "start_time": "2020-01-16T05:27:39.807904Z"
    },
    "papermill": {
     "duration": 0.058514,
     "end_time": "2020-01-14T06:43:56.601395",
     "exception": false,
     "start_time": "2020-01-14T06:43:56.542881",
     "status": "completed"
    },
    "scrolled": true,
    "tags": []
   },
   "outputs": [],
   "source": [
    "tables = {}\n",
    "for motif, _pos, _neg in zip(motif_ids, pos.A1, neg.A1):\n",
    "    table = [[_pos, pos_total - _pos], [_neg, neg_total - _neg]]\n",
    "    tables[motif] = table"
   ]
  },
  {
   "cell_type": "code",
   "execution_count": 15,
   "metadata": {
    "ExecuteTime": {
     "end_time": "2020-01-16T05:27:40.600960Z",
     "start_time": "2020-01-16T05:27:39.813267Z"
    },
    "papermill": {
     "duration": 1.13954,
     "end_time": "2020-01-14T06:43:57.751340",
     "exception": false,
     "start_time": "2020-01-14T06:43:56.611800",
     "status": "completed"
    },
    "tags": []
   },
   "outputs": [],
   "source": [
    "results = {}\n",
    "with ProcessPoolExecutor(20) as executor:\n",
    "    fs = {}\n",
    "    for motif, t in tables.items():\n",
    "        f = executor.submit(stats.fisher_exact, t, alternative='greater')\n",
    "        fs[f] = motif\n",
    "\n",
    "    for f in as_completed(fs):\n",
    "        motif = fs[f]\n",
    "        odds, p = f.result()\n",
    "        results[motif] = {'oddsratio': odds, 'p_value': p}\n",
    "motif_enrich_df = pd.DataFrame(results).T\n",
    "\n",
    "_, p, _, _ = multipletests(motif_enrich_df['p_value'], method='fdr_bh')\n",
    "motif_enrich_df['adj_p'] = p\n",
    "\n",
    "motif_enrich_df['-lgp'] = -np.log10(motif_enrich_df['adj_p']).replace(\n",
    "    -np.inf, -300)\n",
    "\n",
    "records = {}\n",
    "for motif, t in tables.items():\n",
    "    tp, tn = t[0]\n",
    "    fp, fn = t[1]\n",
    "    tp_rate = tp / pos_total\n",
    "    fp_rate = fp / neg_total\n",
    "    records[motif] = dict(tp=tp,\n",
    "                          tn=tn,\n",
    "                          fp=fp,\n",
    "                          fn=fn,\n",
    "                          tp_rate=tp_rate,\n",
    "                          fp_rate=fp_rate)\n",
    "counts = pd.DataFrame(records).T\n",
    "motif_enrich_df = pd.concat([motif_enrich_df, counts], axis=1, sort=True)"
   ]
  },
  {
   "cell_type": "code",
   "execution_count": 16,
   "metadata": {
    "ExecuteTime": {
     "end_time": "2020-01-16T05:27:40.605405Z",
     "start_time": "2020-01-16T05:27:40.602524Z"
    },
    "papermill": {
     "duration": 0.015997,
     "end_time": "2020-01-14T06:43:57.779012",
     "exception": false,
     "start_time": "2020-01-14T06:43:57.763015",
     "status": "completed"
    },
    "tags": []
   },
   "outputs": [],
   "source": [
    "motif_enrich_df['Group'] = group"
   ]
  },
  {
   "cell_type": "code",
   "execution_count": 17,
   "metadata": {
    "ExecuteTime": {
     "end_time": "2020-01-16T05:27:40.612534Z",
     "start_time": "2020-01-16T05:27:40.606745Z"
    },
    "papermill": {
     "duration": 0.018335,
     "end_time": "2020-01-14T06:43:57.806851",
     "exception": false,
     "start_time": "2020-01-14T06:43:57.788516",
     "status": "completed"
    },
    "tags": []
   },
   "outputs": [
    {
     "data": {
      "text/plain": [
       "35"
      ]
     },
     "execution_count": 17,
     "metadata": {},
     "output_type": "execute_result"
    }
   ],
   "source": [
    "# final filter\n",
    "filtered_motif_df = motif_enrich_df[(motif_enrich_df['oddsratio'] > or_cutoff)\n",
    "                                    &\n",
    "                                    (motif_enrich_df['-lgp'] > neg_lgp_cutoff)]\n",
    "filtered_motif_df.shape[0]"
   ]
  },
  {
   "cell_type": "code",
   "execution_count": 18,
   "metadata": {
    "ExecuteTime": {
     "end_time": "2020-01-16T05:27:40.618187Z",
     "start_time": "2020-01-16T05:27:40.613717Z"
    },
    "papermill": {
     "duration": 0.017294,
     "end_time": "2020-01-14T06:43:57.834092",
     "exception": false,
     "start_time": "2020-01-14T06:43:57.816798",
     "status": "completed"
    },
    "tags": []
   },
   "outputs": [
    {
     "name": "stderr",
     "output_type": "stream",
     "text": [
      "/home/hanliu/miniconda3/envs/clustering/lib/python3.7/site-packages/ipykernel_launcher.py:1: FutureWarning: to_msgpack is deprecated and will be removed in a future version.\n",
      "It is recommended to use pyarrow for on-the-wire transmission of pandas objects.\n",
      "  \"\"\"Entry point for launching an IPython kernel.\n"
     ]
    }
   ],
   "source": [
    "motif_enrich_df.to_msgpack(output_dir / f'{group}.motif_enrichment.msg')"
   ]
  },
  {
   "cell_type": "code",
   "execution_count": 19,
   "metadata": {
    "ExecuteTime": {
     "end_time": "2020-01-16T05:27:40.628420Z",
     "start_time": "2020-01-16T05:27:40.619410Z"
    },
    "papermill": {
     "duration": 0.021276,
     "end_time": "2020-01-14T06:43:57.865421",
     "exception": false,
     "start_time": "2020-01-14T06:43:57.844145",
     "status": "completed"
    },
    "tags": []
   },
   "outputs": [],
   "source": [
    "pybedtools.cleanup()"
   ]
  },
  {
   "cell_type": "code",
   "execution_count": 20,
   "metadata": {
    "ExecuteTime": {
     "end_time": "2020-01-16T05:27:40.651342Z",
     "start_time": "2020-01-16T05:27:40.629614Z"
    },
    "papermill": {
     "duration": 0.031902,
     "end_time": "2020-01-14T06:43:57.908250",
     "exception": false,
     "start_time": "2020-01-14T06:43:57.876348",
     "status": "completed"
    },
    "tags": []
   },
   "outputs": [
    {
     "data": {
      "text/html": [
       "<div>\n",
       "<style scoped>\n",
       "    .dataframe tbody tr th:only-of-type {\n",
       "        vertical-align: middle;\n",
       "    }\n",
       "\n",
       "    .dataframe tbody tr th {\n",
       "        vertical-align: top;\n",
       "    }\n",
       "\n",
       "    .dataframe thead th {\n",
       "        text-align: right;\n",
       "    }\n",
       "</style>\n",
       "<table border=\"1\" class=\"dataframe\">\n",
       "  <thead>\n",
       "    <tr style=\"text-align: right;\">\n",
       "      <th></th>\n",
       "      <th>oddsratio</th>\n",
       "      <th>p_value</th>\n",
       "      <th>adj_p</th>\n",
       "      <th>-lgp</th>\n",
       "      <th>tp</th>\n",
       "      <th>tn</th>\n",
       "      <th>fp</th>\n",
       "      <th>fn</th>\n",
       "      <th>tp_rate</th>\n",
       "      <th>fp_rate</th>\n",
       "      <th>Group</th>\n",
       "    </tr>\n",
       "  </thead>\n",
       "  <tbody>\n",
       "    <tr>\n",
       "      <th>MA0089.2</th>\n",
       "      <td>1.735943</td>\n",
       "      <td>2.087392e-17</td>\n",
       "      <td>1.613801e-16</td>\n",
       "      <td>15.792150</td>\n",
       "      <td>366.0</td>\n",
       "      <td>83648.0</td>\n",
       "      <td>831.0</td>\n",
       "      <td>329694.0</td>\n",
       "      <td>0.004356</td>\n",
       "      <td>0.002514</td>\n",
       "      <td>IT-L23+MOp</td>\n",
       "    </tr>\n",
       "    <tr>\n",
       "      <th>MA0462.2</th>\n",
       "      <td>1.829064</td>\n",
       "      <td>7.694038e-200</td>\n",
       "      <td>1.383003e-197</td>\n",
       "      <td>196.859177</td>\n",
       "      <td>4095.0</td>\n",
       "      <td>79919.0</td>\n",
       "      <td>9007.0</td>\n",
       "      <td>321518.0</td>\n",
       "      <td>0.048742</td>\n",
       "      <td>0.027251</td>\n",
       "      <td>IT-L23+MOp</td>\n",
       "    </tr>\n",
       "    <tr>\n",
       "      <th>MA0476.1</th>\n",
       "      <td>1.775969</td>\n",
       "      <td>2.887312e-209</td>\n",
       "      <td>1.037989e-206</td>\n",
       "      <td>205.983807</td>\n",
       "      <td>4714.0</td>\n",
       "      <td>79300.0</td>\n",
       "      <td>10705.0</td>\n",
       "      <td>319820.0</td>\n",
       "      <td>0.056110</td>\n",
       "      <td>0.032388</td>\n",
       "      <td>IT-L23+MOp</td>\n",
       "    </tr>\n",
       "    <tr>\n",
       "      <th>MA0477.2</th>\n",
       "      <td>1.594278</td>\n",
       "      <td>2.026453e-57</td>\n",
       "      <td>4.415211e-56</td>\n",
       "      <td>55.355049</td>\n",
       "      <td>1789.0</td>\n",
       "      <td>82225.0</td>\n",
       "      <td>4450.0</td>\n",
       "      <td>326075.0</td>\n",
       "      <td>0.021294</td>\n",
       "      <td>0.013463</td>\n",
       "      <td>IT-L23+MOp</td>\n",
       "    </tr>\n",
       "    <tr>\n",
       "      <th>MA0489.1</th>\n",
       "      <td>1.668865</td>\n",
       "      <td>3.294873e-70</td>\n",
       "      <td>8.774125e-69</td>\n",
       "      <td>68.056796</td>\n",
       "      <td>1860.0</td>\n",
       "      <td>82154.0</td>\n",
       "      <td>4424.0</td>\n",
       "      <td>326101.0</td>\n",
       "      <td>0.022139</td>\n",
       "      <td>0.013385</td>\n",
       "      <td>IT-L23+MOp</td>\n",
       "    </tr>\n",
       "    <tr>\n",
       "      <th>MA0490.2</th>\n",
       "      <td>1.736109</td>\n",
       "      <td>5.394113e-47</td>\n",
       "      <td>1.020623e-45</td>\n",
       "      <td>44.991135</td>\n",
       "      <td>1067.0</td>\n",
       "      <td>82947.0</td>\n",
       "      <td>2431.0</td>\n",
       "      <td>328094.0</td>\n",
       "      <td>0.012700</td>\n",
       "      <td>0.007355</td>\n",
       "      <td>IT-L23+MOp</td>\n",
       "    </tr>\n",
       "    <tr>\n",
       "      <th>MA0491.2</th>\n",
       "      <td>1.694777</td>\n",
       "      <td>6.711444e-56</td>\n",
       "      <td>1.419273e-54</td>\n",
       "      <td>53.847934</td>\n",
       "      <td>1388.0</td>\n",
       "      <td>82626.0</td>\n",
       "      <td>3244.0</td>\n",
       "      <td>327281.0</td>\n",
       "      <td>0.016521</td>\n",
       "      <td>0.009815</td>\n",
       "      <td>IT-L23+MOp</td>\n",
       "    </tr>\n",
       "    <tr>\n",
       "      <th>MA0501.1</th>\n",
       "      <td>1.784730</td>\n",
       "      <td>2.568831e-18</td>\n",
       "      <td>2.029659e-17</td>\n",
       "      <td>16.692577</td>\n",
       "      <td>355.0</td>\n",
       "      <td>83659.0</td>\n",
       "      <td>784.0</td>\n",
       "      <td>329741.0</td>\n",
       "      <td>0.004225</td>\n",
       "      <td>0.002372</td>\n",
       "      <td>IT-L23+MOp</td>\n",
       "    </tr>\n",
       "    <tr>\n",
       "      <th>MA0507.1</th>\n",
       "      <td>1.924772</td>\n",
       "      <td>7.369403e-85</td>\n",
       "      <td>2.523143e-83</td>\n",
       "      <td>82.598058</td>\n",
       "      <td>1456.0</td>\n",
       "      <td>82558.0</td>\n",
       "      <td>3001.0</td>\n",
       "      <td>327524.0</td>\n",
       "      <td>0.017330</td>\n",
       "      <td>0.009079</td>\n",
       "      <td>IT-L23+MOp</td>\n",
       "    </tr>\n",
       "    <tr>\n",
       "      <th>MA0591.1</th>\n",
       "      <td>1.670363</td>\n",
       "      <td>1.753358e-16</td>\n",
       "      <td>1.313192e-15</td>\n",
       "      <td>14.881672</td>\n",
       "      <td>392.0</td>\n",
       "      <td>83622.0</td>\n",
       "      <td>925.0</td>\n",
       "      <td>329600.0</td>\n",
       "      <td>0.004666</td>\n",
       "      <td>0.002799</td>\n",
       "      <td>IT-L23+MOp</td>\n",
       "    </tr>\n",
       "    <tr>\n",
       "      <th>MA0619.1</th>\n",
       "      <td>1.527293</td>\n",
       "      <td>3.565031e-273</td>\n",
       "      <td>2.563258e-270</td>\n",
       "      <td>269.591208</td>\n",
       "      <td>11465.0</td>\n",
       "      <td>72549.0</td>\n",
       "      <td>30993.0</td>\n",
       "      <td>299532.0</td>\n",
       "      <td>0.136465</td>\n",
       "      <td>0.093769</td>\n",
       "      <td>IT-L23+MOp</td>\n",
       "    </tr>\n",
       "    <tr>\n",
       "      <th>MA0627.2</th>\n",
       "      <td>1.538131</td>\n",
       "      <td>3.015247e-24</td>\n",
       "      <td>3.053469e-23</td>\n",
       "      <td>22.515207</td>\n",
       "      <td>826.0</td>\n",
       "      <td>83188.0</td>\n",
       "      <td>2120.0</td>\n",
       "      <td>328405.0</td>\n",
       "      <td>0.009832</td>\n",
       "      <td>0.006414</td>\n",
       "      <td>IT-L23+MOp</td>\n",
       "    </tr>\n",
       "    <tr>\n",
       "      <th>MA0655.1</th>\n",
       "      <td>1.725816</td>\n",
       "      <td>3.257709e-46</td>\n",
       "      <td>5.855731e-45</td>\n",
       "      <td>44.232419</td>\n",
       "      <td>1069.0</td>\n",
       "      <td>82945.0</td>\n",
       "      <td>2450.0</td>\n",
       "      <td>328075.0</td>\n",
       "      <td>0.012724</td>\n",
       "      <td>0.007412</td>\n",
       "      <td>IT-L23+MOp</td>\n",
       "    </tr>\n",
       "    <tr>\n",
       "      <th>MA0784.1</th>\n",
       "      <td>1.641333</td>\n",
       "      <td>3.293442e-17</td>\n",
       "      <td>2.519133e-16</td>\n",
       "      <td>15.598749</td>\n",
       "      <td>438.0</td>\n",
       "      <td>83576.0</td>\n",
       "      <td>1052.0</td>\n",
       "      <td>329473.0</td>\n",
       "      <td>0.005213</td>\n",
       "      <td>0.003183</td>\n",
       "      <td>IT-L23+MOp</td>\n",
       "    </tr>\n",
       "    <tr>\n",
       "      <th>MA0785.1</th>\n",
       "      <td>1.710342</td>\n",
       "      <td>5.826071e-32</td>\n",
       "      <td>7.349026e-31</td>\n",
       "      <td>30.133770</td>\n",
       "      <td>745.0</td>\n",
       "      <td>83269.0</td>\n",
       "      <td>1720.0</td>\n",
       "      <td>328805.0</td>\n",
       "      <td>0.008868</td>\n",
       "      <td>0.005204</td>\n",
       "      <td>IT-L23+MOp</td>\n",
       "    </tr>\n",
       "    <tr>\n",
       "      <th>MA0786.1</th>\n",
       "      <td>1.573681</td>\n",
       "      <td>1.104945e-29</td>\n",
       "      <td>1.241337e-28</td>\n",
       "      <td>27.906110</td>\n",
       "      <td>935.0</td>\n",
       "      <td>83079.0</td>\n",
       "      <td>2347.0</td>\n",
       "      <td>328178.0</td>\n",
       "      <td>0.011129</td>\n",
       "      <td>0.007101</td>\n",
       "      <td>IT-L23+MOp</td>\n",
       "    </tr>\n",
       "    <tr>\n",
       "      <th>MA0787.1</th>\n",
       "      <td>1.599954</td>\n",
       "      <td>4.323009e-23</td>\n",
       "      <td>3.955484e-22</td>\n",
       "      <td>21.402800</td>\n",
       "      <td>667.0</td>\n",
       "      <td>83347.0</td>\n",
       "      <td>1645.0</td>\n",
       "      <td>328880.0</td>\n",
       "      <td>0.007939</td>\n",
       "      <td>0.004977</td>\n",
       "      <td>IT-L23+MOp</td>\n",
       "    </tr>\n",
       "    <tr>\n",
       "      <th>MA0788.1</th>\n",
       "      <td>1.819932</td>\n",
       "      <td>2.410066e-37</td>\n",
       "      <td>3.686889e-36</td>\n",
       "      <td>35.433340</td>\n",
       "      <td>723.0</td>\n",
       "      <td>83291.0</td>\n",
       "      <td>1569.0</td>\n",
       "      <td>328956.0</td>\n",
       "      <td>0.008606</td>\n",
       "      <td>0.004747</td>\n",
       "      <td>IT-L23+MOp</td>\n",
       "    </tr>\n",
       "    <tr>\n",
       "      <th>MA0789.1</th>\n",
       "      <td>1.512929</td>\n",
       "      <td>6.918919e-41</td>\n",
       "      <td>1.156908e-39</td>\n",
       "      <td>38.936701</td>\n",
       "      <td>1558.0</td>\n",
       "      <td>82456.0</td>\n",
       "      <td>4077.0</td>\n",
       "      <td>326448.0</td>\n",
       "      <td>0.018545</td>\n",
       "      <td>0.012335</td>\n",
       "      <td>IT-L23+MOp</td>\n",
       "    </tr>\n",
       "    <tr>\n",
       "      <th>MA0835.2</th>\n",
       "      <td>1.776752</td>\n",
       "      <td>4.493128e-126</td>\n",
       "      <td>4.038199e-124</td>\n",
       "      <td>123.393812</td>\n",
       "      <td>2773.0</td>\n",
       "      <td>81241.0</td>\n",
       "      <td>6230.0</td>\n",
       "      <td>324295.0</td>\n",
       "      <td>0.033006</td>\n",
       "      <td>0.018849</td>\n",
       "      <td>IT-L23+MOp</td>\n",
       "    </tr>\n",
       "    <tr>\n",
       "      <th>MA0841.1</th>\n",
       "      <td>1.614648</td>\n",
       "      <td>5.774594e-20</td>\n",
       "      <td>4.827829e-19</td>\n",
       "      <td>18.316248</td>\n",
       "      <td>549.0</td>\n",
       "      <td>83465.0</td>\n",
       "      <td>1341.0</td>\n",
       "      <td>329184.0</td>\n",
       "      <td>0.006535</td>\n",
       "      <td>0.004057</td>\n",
       "      <td>IT-L23+MOp</td>\n",
       "    </tr>\n",
       "    <tr>\n",
       "      <th>MA1101.2</th>\n",
       "      <td>1.740866</td>\n",
       "      <td>4.698422e-14</td>\n",
       "      <td>3.378165e-13</td>\n",
       "      <td>12.471319</td>\n",
       "      <td>285.0</td>\n",
       "      <td>83729.0</td>\n",
       "      <td>645.0</td>\n",
       "      <td>329880.0</td>\n",
       "      <td>0.003392</td>\n",
       "      <td>0.001951</td>\n",
       "      <td>IT-L23+MOp</td>\n",
       "    </tr>\n",
       "    <tr>\n",
       "      <th>MA1115.1</th>\n",
       "      <td>1.757393</td>\n",
       "      <td>2.005299e-132</td>\n",
       "      <td>2.312200e-130</td>\n",
       "      <td>129.635975</td>\n",
       "      <td>3023.0</td>\n",
       "      <td>80991.0</td>\n",
       "      <td>6874.0</td>\n",
       "      <td>323651.0</td>\n",
       "      <td>0.035982</td>\n",
       "      <td>0.020797</td>\n",
       "      <td>IT-L23+MOp</td>\n",
       "    </tr>\n",
       "    <tr>\n",
       "      <th>MA1128.1</th>\n",
       "      <td>1.549232</td>\n",
       "      <td>1.532200e-57</td>\n",
       "      <td>3.442661e-56</td>\n",
       "      <td>55.463106</td>\n",
       "      <td>2017.0</td>\n",
       "      <td>81997.0</td>\n",
       "      <td>5166.0</td>\n",
       "      <td>325359.0</td>\n",
       "      <td>0.024008</td>\n",
       "      <td>0.015630</td>\n",
       "      <td>IT-L23+MOp</td>\n",
       "    </tr>\n",
       "    <tr>\n",
       "      <th>MA1130.1</th>\n",
       "      <td>1.591104</td>\n",
       "      <td>1.718361e-75</td>\n",
       "      <td>4.942007e-74</td>\n",
       "      <td>73.306097</td>\n",
       "      <td>2404.0</td>\n",
       "      <td>81610.0</td>\n",
       "      <td>6008.0</td>\n",
       "      <td>324517.0</td>\n",
       "      <td>0.028614</td>\n",
       "      <td>0.018177</td>\n",
       "      <td>IT-L23+MOp</td>\n",
       "    </tr>\n",
       "    <tr>\n",
       "      <th>MA1132.1</th>\n",
       "      <td>1.727195</td>\n",
       "      <td>9.530234e-66</td>\n",
       "      <td>2.284079e-64</td>\n",
       "      <td>63.641289</td>\n",
       "      <td>1543.0</td>\n",
       "      <td>82471.0</td>\n",
       "      <td>3542.0</td>\n",
       "      <td>326983.0</td>\n",
       "      <td>0.018366</td>\n",
       "      <td>0.010716</td>\n",
       "      <td>IT-L23+MOp</td>\n",
       "    </tr>\n",
       "    <tr>\n",
       "      <th>MA1134.1</th>\n",
       "      <td>1.544050</td>\n",
       "      <td>2.512422e-46</td>\n",
       "      <td>4.631876e-45</td>\n",
       "      <td>44.334243</td>\n",
       "      <td>1627.0</td>\n",
       "      <td>82387.0</td>\n",
       "      <td>4174.0</td>\n",
       "      <td>326351.0</td>\n",
       "      <td>0.019366</td>\n",
       "      <td>0.012628</td>\n",
       "      <td>IT-L23+MOp</td>\n",
       "    </tr>\n",
       "    <tr>\n",
       "      <th>MA1137.1</th>\n",
       "      <td>1.653012</td>\n",
       "      <td>9.916741e-76</td>\n",
       "      <td>2.970890e-74</td>\n",
       "      <td>73.527113</td>\n",
       "      <td>2084.0</td>\n",
       "      <td>81930.0</td>\n",
       "      <td>5009.0</td>\n",
       "      <td>325516.0</td>\n",
       "      <td>0.024805</td>\n",
       "      <td>0.015155</td>\n",
       "      <td>IT-L23+MOp</td>\n",
       "    </tr>\n",
       "    <tr>\n",
       "      <th>MA1138.1</th>\n",
       "      <td>1.610039</td>\n",
       "      <td>3.231695e-55</td>\n",
       "      <td>6.638826e-54</td>\n",
       "      <td>53.177909</td>\n",
       "      <td>1652.0</td>\n",
       "      <td>82362.0</td>\n",
       "      <td>4067.0</td>\n",
       "      <td>326458.0</td>\n",
       "      <td>0.019663</td>\n",
       "      <td>0.012305</td>\n",
       "      <td>IT-L23+MOp</td>\n",
       "    </tr>\n",
       "    <tr>\n",
       "      <th>MA1142.1</th>\n",
       "      <td>1.574624</td>\n",
       "      <td>1.810484e-82</td>\n",
       "      <td>5.916990e-81</td>\n",
       "      <td>80.227899</td>\n",
       "      <td>2752.0</td>\n",
       "      <td>81262.0</td>\n",
       "      <td>6959.0</td>\n",
       "      <td>323566.0</td>\n",
       "      <td>0.032756</td>\n",
       "      <td>0.021054</td>\n",
       "      <td>IT-L23+MOp</td>\n",
       "    </tr>\n",
       "    <tr>\n",
       "      <th>MA1144.1</th>\n",
       "      <td>1.655801</td>\n",
       "      <td>1.185999e-40</td>\n",
       "      <td>1.938030e-39</td>\n",
       "      <td>38.712640</td>\n",
       "      <td>1077.0</td>\n",
       "      <td>82937.0</td>\n",
       "      <td>2572.0</td>\n",
       "      <td>327953.0</td>\n",
       "      <td>0.012819</td>\n",
       "      <td>0.007782</td>\n",
       "      <td>IT-L23+MOp</td>\n",
       "    </tr>\n",
       "    <tr>\n",
       "      <th>MA1514.1</th>\n",
       "      <td>1.657653</td>\n",
       "      <td>3.715930e-31</td>\n",
       "      <td>4.452922e-30</td>\n",
       "      <td>29.351355</td>\n",
       "      <td>808.0</td>\n",
       "      <td>83206.0</td>\n",
       "      <td>1925.0</td>\n",
       "      <td>328600.0</td>\n",
       "      <td>0.009617</td>\n",
       "      <td>0.005824</td>\n",
       "      <td>IT-L23+MOp</td>\n",
       "    </tr>\n",
       "    <tr>\n",
       "      <th>MA1622.1</th>\n",
       "      <td>1.648530</td>\n",
       "      <td>6.211003e-146</td>\n",
       "      <td>8.931422e-144</td>\n",
       "      <td>143.049079</td>\n",
       "      <td>4185.0</td>\n",
       "      <td>79829.0</td>\n",
       "      <td>10187.0</td>\n",
       "      <td>320338.0</td>\n",
       "      <td>0.049813</td>\n",
       "      <td>0.030821</td>\n",
       "      <td>IT-L23+MOp</td>\n",
       "    </tr>\n",
       "    <tr>\n",
       "      <th>MA1633.1</th>\n",
       "      <td>1.554937</td>\n",
       "      <td>1.655531e-21</td>\n",
       "      <td>1.451618e-20</td>\n",
       "      <td>19.838148</td>\n",
       "      <td>692.0</td>\n",
       "      <td>83322.0</td>\n",
       "      <td>1756.0</td>\n",
       "      <td>328769.0</td>\n",
       "      <td>0.008237</td>\n",
       "      <td>0.005313</td>\n",
       "      <td>IT-L23+MOp</td>\n",
       "    </tr>\n",
       "    <tr>\n",
       "      <th>MA1634.1</th>\n",
       "      <td>1.809147</td>\n",
       "      <td>1.959092e-203</td>\n",
       "      <td>4.695290e-201</td>\n",
       "      <td>200.328338</td>\n",
       "      <td>4315.0</td>\n",
       "      <td>79699.0</td>\n",
       "      <td>9604.0</td>\n",
       "      <td>320921.0</td>\n",
       "      <td>0.051360</td>\n",
       "      <td>0.029057</td>\n",
       "      <td>IT-L23+MOp</td>\n",
       "    </tr>\n",
       "  </tbody>\n",
       "</table>\n",
       "</div>"
      ],
      "text/plain": [
       "          oddsratio        p_value          adj_p        -lgp       tp  \\\n",
       "MA0089.2   1.735943   2.087392e-17   1.613801e-16   15.792150    366.0   \n",
       "MA0462.2   1.829064  7.694038e-200  1.383003e-197  196.859177   4095.0   \n",
       "MA0476.1   1.775969  2.887312e-209  1.037989e-206  205.983807   4714.0   \n",
       "MA0477.2   1.594278   2.026453e-57   4.415211e-56   55.355049   1789.0   \n",
       "MA0489.1   1.668865   3.294873e-70   8.774125e-69   68.056796   1860.0   \n",
       "MA0490.2   1.736109   5.394113e-47   1.020623e-45   44.991135   1067.0   \n",
       "MA0491.2   1.694777   6.711444e-56   1.419273e-54   53.847934   1388.0   \n",
       "MA0501.1   1.784730   2.568831e-18   2.029659e-17   16.692577    355.0   \n",
       "MA0507.1   1.924772   7.369403e-85   2.523143e-83   82.598058   1456.0   \n",
       "MA0591.1   1.670363   1.753358e-16   1.313192e-15   14.881672    392.0   \n",
       "MA0619.1   1.527293  3.565031e-273  2.563258e-270  269.591208  11465.0   \n",
       "MA0627.2   1.538131   3.015247e-24   3.053469e-23   22.515207    826.0   \n",
       "MA0655.1   1.725816   3.257709e-46   5.855731e-45   44.232419   1069.0   \n",
       "MA0784.1   1.641333   3.293442e-17   2.519133e-16   15.598749    438.0   \n",
       "MA0785.1   1.710342   5.826071e-32   7.349026e-31   30.133770    745.0   \n",
       "MA0786.1   1.573681   1.104945e-29   1.241337e-28   27.906110    935.0   \n",
       "MA0787.1   1.599954   4.323009e-23   3.955484e-22   21.402800    667.0   \n",
       "MA0788.1   1.819932   2.410066e-37   3.686889e-36   35.433340    723.0   \n",
       "MA0789.1   1.512929   6.918919e-41   1.156908e-39   38.936701   1558.0   \n",
       "MA0835.2   1.776752  4.493128e-126  4.038199e-124  123.393812   2773.0   \n",
       "MA0841.1   1.614648   5.774594e-20   4.827829e-19   18.316248    549.0   \n",
       "MA1101.2   1.740866   4.698422e-14   3.378165e-13   12.471319    285.0   \n",
       "MA1115.1   1.757393  2.005299e-132  2.312200e-130  129.635975   3023.0   \n",
       "MA1128.1   1.549232   1.532200e-57   3.442661e-56   55.463106   2017.0   \n",
       "MA1130.1   1.591104   1.718361e-75   4.942007e-74   73.306097   2404.0   \n",
       "MA1132.1   1.727195   9.530234e-66   2.284079e-64   63.641289   1543.0   \n",
       "MA1134.1   1.544050   2.512422e-46   4.631876e-45   44.334243   1627.0   \n",
       "MA1137.1   1.653012   9.916741e-76   2.970890e-74   73.527113   2084.0   \n",
       "MA1138.1   1.610039   3.231695e-55   6.638826e-54   53.177909   1652.0   \n",
       "MA1142.1   1.574624   1.810484e-82   5.916990e-81   80.227899   2752.0   \n",
       "MA1144.1   1.655801   1.185999e-40   1.938030e-39   38.712640   1077.0   \n",
       "MA1514.1   1.657653   3.715930e-31   4.452922e-30   29.351355    808.0   \n",
       "MA1622.1   1.648530  6.211003e-146  8.931422e-144  143.049079   4185.0   \n",
       "MA1633.1   1.554937   1.655531e-21   1.451618e-20   19.838148    692.0   \n",
       "MA1634.1   1.809147  1.959092e-203  4.695290e-201  200.328338   4315.0   \n",
       "\n",
       "               tn       fp        fn   tp_rate   fp_rate       Group  \n",
       "MA0089.2  83648.0    831.0  329694.0  0.004356  0.002514  IT-L23+MOp  \n",
       "MA0462.2  79919.0   9007.0  321518.0  0.048742  0.027251  IT-L23+MOp  \n",
       "MA0476.1  79300.0  10705.0  319820.0  0.056110  0.032388  IT-L23+MOp  \n",
       "MA0477.2  82225.0   4450.0  326075.0  0.021294  0.013463  IT-L23+MOp  \n",
       "MA0489.1  82154.0   4424.0  326101.0  0.022139  0.013385  IT-L23+MOp  \n",
       "MA0490.2  82947.0   2431.0  328094.0  0.012700  0.007355  IT-L23+MOp  \n",
       "MA0491.2  82626.0   3244.0  327281.0  0.016521  0.009815  IT-L23+MOp  \n",
       "MA0501.1  83659.0    784.0  329741.0  0.004225  0.002372  IT-L23+MOp  \n",
       "MA0507.1  82558.0   3001.0  327524.0  0.017330  0.009079  IT-L23+MOp  \n",
       "MA0591.1  83622.0    925.0  329600.0  0.004666  0.002799  IT-L23+MOp  \n",
       "MA0619.1  72549.0  30993.0  299532.0  0.136465  0.093769  IT-L23+MOp  \n",
       "MA0627.2  83188.0   2120.0  328405.0  0.009832  0.006414  IT-L23+MOp  \n",
       "MA0655.1  82945.0   2450.0  328075.0  0.012724  0.007412  IT-L23+MOp  \n",
       "MA0784.1  83576.0   1052.0  329473.0  0.005213  0.003183  IT-L23+MOp  \n",
       "MA0785.1  83269.0   1720.0  328805.0  0.008868  0.005204  IT-L23+MOp  \n",
       "MA0786.1  83079.0   2347.0  328178.0  0.011129  0.007101  IT-L23+MOp  \n",
       "MA0787.1  83347.0   1645.0  328880.0  0.007939  0.004977  IT-L23+MOp  \n",
       "MA0788.1  83291.0   1569.0  328956.0  0.008606  0.004747  IT-L23+MOp  \n",
       "MA0789.1  82456.0   4077.0  326448.0  0.018545  0.012335  IT-L23+MOp  \n",
       "MA0835.2  81241.0   6230.0  324295.0  0.033006  0.018849  IT-L23+MOp  \n",
       "MA0841.1  83465.0   1341.0  329184.0  0.006535  0.004057  IT-L23+MOp  \n",
       "MA1101.2  83729.0    645.0  329880.0  0.003392  0.001951  IT-L23+MOp  \n",
       "MA1115.1  80991.0   6874.0  323651.0  0.035982  0.020797  IT-L23+MOp  \n",
       "MA1128.1  81997.0   5166.0  325359.0  0.024008  0.015630  IT-L23+MOp  \n",
       "MA1130.1  81610.0   6008.0  324517.0  0.028614  0.018177  IT-L23+MOp  \n",
       "MA1132.1  82471.0   3542.0  326983.0  0.018366  0.010716  IT-L23+MOp  \n",
       "MA1134.1  82387.0   4174.0  326351.0  0.019366  0.012628  IT-L23+MOp  \n",
       "MA1137.1  81930.0   5009.0  325516.0  0.024805  0.015155  IT-L23+MOp  \n",
       "MA1138.1  82362.0   4067.0  326458.0  0.019663  0.012305  IT-L23+MOp  \n",
       "MA1142.1  81262.0   6959.0  323566.0  0.032756  0.021054  IT-L23+MOp  \n",
       "MA1144.1  82937.0   2572.0  327953.0  0.012819  0.007782  IT-L23+MOp  \n",
       "MA1514.1  83206.0   1925.0  328600.0  0.009617  0.005824  IT-L23+MOp  \n",
       "MA1622.1  79829.0  10187.0  320338.0  0.049813  0.030821  IT-L23+MOp  \n",
       "MA1633.1  83322.0   1756.0  328769.0  0.008237  0.005313  IT-L23+MOp  \n",
       "MA1634.1  79699.0   9604.0  320921.0  0.051360  0.029057  IT-L23+MOp  "
      ]
     },
     "execution_count": 20,
     "metadata": {},
     "output_type": "execute_result"
    }
   ],
   "source": [
    "filtered_motif_df"
   ]
  },
  {
   "cell_type": "code",
   "execution_count": null,
   "metadata": {
    "papermill": {
     "duration": 0.010492,
     "end_time": "2020-01-14T06:43:57.929757",
     "exception": false,
     "start_time": "2020-01-14T06:43:57.919265",
     "status": "completed"
    },
    "tags": []
   },
   "outputs": [],
   "source": []
  }
 ],
 "metadata": {
  "hide_input": false,
  "kernelspec": {
   "display_name": "Python 3",
   "language": "python",
   "name": "python3"
  },
  "language_info": {
   "codemirror_mode": {
    "name": "ipython",
    "version": 3
   },
   "file_extension": ".py",
   "mimetype": "text/x-python",
   "name": "python",
   "nbconvert_exporter": "python",
   "pygments_lexer": "ipython3",
   "version": "3.7.3"
  },
  "papermill": {
   "duration": 15.115196,
   "end_time": "2020-01-14T06:43:58.447971",
   "environment_variables": {},
   "exception": null,
   "input_path": "4.MotifEnrichment.ipynb",
   "output_path": "/home/hanliu/project/mouse_rostral_brain/DMR/ITSpatial_by_layer/IT-L6/Recipe/4.MotifEnrichment.IT-L23+MOp.ipynb",
   "parameters": {
    "dmr_hits_path": "/home/hanliu/project/mouse_rostral_brain/DMR/ITSpatial_by_layer/IT-L23/HypoDMR/IT-L23+MOp.DMS1.bed",
    "group": "IT-L23+MOp",
    "mask_quantile_to99": 0.9,
    "motif_hits_path": "/home/hanliu/project/mouse_rostral_brain/DMR/ITSpatial_by_layer/IT-L23/MotifScan.h5ad",
    "neg_lgp_cutoff": 10,
    "or_cutoff": 1.5,
    "output_dir": "/home/hanliu/project/mouse_rostral_brain/DMR/ITSpatial_by_layer/IT-L23/MotifEnrichment"
   },
   "start_time": "2020-01-14T06:43:43.332775",
   "version": "1.0.1"
  },
  "toc": {
   "base_numbering": 1,
   "nav_menu": {},
   "number_sections": true,
   "sideBar": true,
   "skip_h1_title": true,
   "title_cell": "Table of Contents",
   "title_sidebar": "Contents",
   "toc_cell": false,
   "toc_position": {},
   "toc_section_display": true,
   "toc_window_display": true
  }
 },
 "nbformat": 4,
 "nbformat_minor": 2
}
