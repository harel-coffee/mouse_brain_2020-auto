{
 "cells": [
  {
   "cell_type": "markdown",
   "metadata": {
    "papermill": {
     "duration": 0.00956,
     "end_time": "2020-01-14T06:43:59.367406",
     "exception": false,
     "start_time": "2020-01-14T06:43:59.357846",
     "status": "completed"
    },
    "tags": []
   },
   "source": [
    "# Motif Enrichment\n",
    "- The motif hits matrix save the max loglikelyhood score of a motif in that DMR\n",
    "- Before run the motif enrichment, I filter the scores for each motif using cutoff defined by\n",
    "    - `np.quantile(motif_score[motif_score > 0]) * mask_quantile_to99`\n",
    "- This filter will remove hits with low score, which is likely to be false positive\n",
    "- Its likely boosting the significance of real enrichment"
   ]
  },
  {
   "cell_type": "code",
   "execution_count": 1,
   "metadata": {
    "ExecuteTime": {
     "end_time": "2020-01-16T05:27:31.813209Z",
     "start_time": "2020-01-16T05:27:31.086011Z"
    },
    "papermill": {
     "duration": 0.664467,
     "end_time": "2020-01-14T06:44:00.042325",
     "exception": false,
     "start_time": "2020-01-14T06:43:59.377858",
     "status": "completed"
    },
    "tags": []
   },
   "outputs": [],
   "source": [
    "from concurrent.futures import ProcessPoolExecutor, as_completed\n",
    "import anndata\n",
    "import matplotlib.pyplot as plt\n",
    "import numpy as np\n",
    "import pandas as pd\n",
    "import pybedtools\n",
    "import scipy.stats as stats\n",
    "import seaborn as sns\n",
    "from scipy.sparse import csr_matrix\n",
    "from statsmodels.stats.multitest import multipletests\n",
    "import pathlib"
   ]
  },
  {
   "cell_type": "code",
   "execution_count": 2,
   "metadata": {
    "ExecuteTime": {
     "end_time": "2020-01-16T05:27:31.818382Z",
     "start_time": "2020-01-16T05:27:31.815259Z"
    },
    "papermill": {
     "duration": 0.015642,
     "end_time": "2020-01-14T06:44:00.068109",
     "exception": false,
     "start_time": "2020-01-14T06:44:00.052467",
     "status": "completed"
    },
    "tags": [
     "parameters"
    ]
   },
   "outputs": [],
   "source": [
    "mask_quantile_to99 = 0.9\n",
    "or_cutoff = 1.5\n",
    "neg_lgp_cutoff = 10\n",
    "group = 'IT-L23+ACA'\n",
    "\n",
    "motif_hits_path = '/home/hanliu/project/mouse_rostral_brain/DMR/ITSpatial_by_layer/IT-L23/MotifScan.h5ad'\n",
    "dmr_hits_path = f'/home/hanliu/project/mouse_rostral_brain/DMR/ITSpatial_by_layer/IT-L23/HypoDMR/{group}.DMS1.bed'\n",
    "output_dir = '/home/hanliu/project/mouse_rostral_brain/DMR/ITSpatial_by_layer/IT-L23/MotifEnrichment'\n"
   ]
  },
  {
   "cell_type": "code",
   "execution_count": 3,
   "metadata": {
    "ExecuteTime": {
     "end_time": "2020-01-16T05:27:31.824139Z",
     "start_time": "2020-01-16T05:27:31.820417Z"
    },
    "papermill": {
     "duration": 0.014701,
     "end_time": "2020-01-14T06:44:00.092002",
     "exception": false,
     "start_time": "2020-01-14T06:44:00.077301",
     "status": "completed"
    },
    "tags": [
     "injected-parameters"
    ]
   },
   "outputs": [],
   "source": [
    "# Parameters\n",
    "mask_quantile_to99 = 0.9\n",
    "or_cutoff = 1.5\n",
    "neg_lgp_cutoff = 10\n",
    "group = \"IT-L23+MOs\"\n",
    "motif_hits_path = \"/home/hanliu/project/mouse_rostral_brain/DMR/ITSpatial_by_layer/IT-L23/MotifScan.h5ad\"\n",
    "dmr_hits_path = \"/home/hanliu/project/mouse_rostral_brain/DMR/ITSpatial_by_layer/IT-L23/HypoDMR/IT-L23+MOs.DMS1.bed\"\n",
    "output_dir = \"/home/hanliu/project/mouse_rostral_brain/DMR/ITSpatial_by_layer/IT-L23/MotifEnrichment\"\n"
   ]
  },
  {
   "cell_type": "code",
   "execution_count": 4,
   "metadata": {
    "ExecuteTime": {
     "end_time": "2020-01-16T05:27:31.830020Z",
     "start_time": "2020-01-16T05:27:31.826321Z"
    },
    "papermill": {
     "duration": 0.014225,
     "end_time": "2020-01-14T06:44:00.115434",
     "exception": false,
     "start_time": "2020-01-14T06:44:00.101209",
     "status": "completed"
    },
    "tags": []
   },
   "outputs": [],
   "source": [
    "output_dir = pathlib.Path(output_dir)\n",
    "output_dir.mkdir(exist_ok=True)"
   ]
  },
  {
   "cell_type": "markdown",
   "metadata": {
    "papermill": {
     "duration": 0.009154,
     "end_time": "2020-01-14T06:44:00.133800",
     "exception": false,
     "start_time": "2020-01-14T06:44:00.124646",
     "status": "completed"
    },
    "tags": []
   },
   "source": [
    "## DMR hits"
   ]
  },
  {
   "cell_type": "code",
   "execution_count": 5,
   "metadata": {
    "ExecuteTime": {
     "end_time": "2020-01-16T05:27:31.900551Z",
     "start_time": "2020-01-16T05:27:31.832104Z"
    },
    "papermill": {
     "duration": 0.11419,
     "end_time": "2020-01-14T06:44:00.257187",
     "exception": false,
     "start_time": "2020-01-14T06:44:00.142997",
     "status": "completed"
    },
    "tags": []
   },
   "outputs": [
    {
     "data": {
      "text/html": [
       "<div>\n",
       "<style scoped>\n",
       "    .dataframe tbody tr th:only-of-type {\n",
       "        vertical-align: middle;\n",
       "    }\n",
       "\n",
       "    .dataframe tbody tr th {\n",
       "        vertical-align: top;\n",
       "    }\n",
       "\n",
       "    .dataframe thead th {\n",
       "        text-align: right;\n",
       "    }\n",
       "</style>\n",
       "<table border=\"1\" class=\"dataframe\">\n",
       "  <thead>\n",
       "    <tr style=\"text-align: right;\">\n",
       "      <th></th>\n",
       "      <th>0</th>\n",
       "      <th>1</th>\n",
       "      <th>2</th>\n",
       "    </tr>\n",
       "    <tr>\n",
       "      <th>3</th>\n",
       "      <th></th>\n",
       "      <th></th>\n",
       "      <th></th>\n",
       "    </tr>\n",
       "  </thead>\n",
       "  <tbody>\n",
       "    <tr>\n",
       "      <th>DGm3c_34</th>\n",
       "      <td>chr1</td>\n",
       "      <td>3237224</td>\n",
       "      <td>3237224</td>\n",
       "    </tr>\n",
       "    <tr>\n",
       "      <th>DGm3c_43</th>\n",
       "      <td>chr1</td>\n",
       "      <td>3297316</td>\n",
       "      <td>3297413</td>\n",
       "    </tr>\n",
       "    <tr>\n",
       "      <th>DGm3c_55</th>\n",
       "      <td>chr1</td>\n",
       "      <td>3360680</td>\n",
       "      <td>3360680</td>\n",
       "    </tr>\n",
       "    <tr>\n",
       "      <th>DGm3c_101</th>\n",
       "      <td>chr1</td>\n",
       "      <td>3488468</td>\n",
       "      <td>3488468</td>\n",
       "    </tr>\n",
       "    <tr>\n",
       "      <th>DGm3c_132</th>\n",
       "      <td>chr1</td>\n",
       "      <td>3646772</td>\n",
       "      <td>3646772</td>\n",
       "    </tr>\n",
       "  </tbody>\n",
       "</table>\n",
       "</div>"
      ],
      "text/plain": [
       "              0        1        2\n",
       "3                                \n",
       "DGm3c_34   chr1  3237224  3237224\n",
       "DGm3c_43   chr1  3297316  3297413\n",
       "DGm3c_55   chr1  3360680  3360680\n",
       "DGm3c_101  chr1  3488468  3488468\n",
       "DGm3c_132  chr1  3646772  3646772"
      ]
     },
     "execution_count": 5,
     "metadata": {},
     "output_type": "execute_result"
    }
   ],
   "source": [
    "dmr_bed_df = pd.read_csv(dmr_hits_path, sep='\\t', header=None, index_col=3)\n",
    "dmr_bed_df.head()"
   ]
  },
  {
   "cell_type": "code",
   "execution_count": 6,
   "metadata": {
    "ExecuteTime": {
     "end_time": "2020-01-16T05:27:34.670213Z",
     "start_time": "2020-01-16T05:27:31.901760Z"
    },
    "papermill": {
     "duration": 2.763876,
     "end_time": "2020-01-14T06:44:03.032145",
     "exception": false,
     "start_time": "2020-01-14T06:44:00.268269",
     "status": "completed"
    },
    "tags": []
   },
   "outputs": [
    {
     "data": {
      "text/plain": [
       "AnnData object with n_obs × n_vars = 46288 × 719 \n",
       "    obs: 'chrom', 'start', 'end'"
      ]
     },
     "execution_count": 6,
     "metadata": {},
     "output_type": "execute_result"
    }
   ],
   "source": [
    "motif_hits = anndata.read_h5ad(motif_hits_path)\n",
    "motif_hits = motif_hits[dmr_bed_df.index, :].copy()\n",
    "motif_ids = motif_hits.var_names\n",
    "motif_hits.X = motif_hits.X.todense()\n",
    "motif_hits"
   ]
  },
  {
   "cell_type": "code",
   "execution_count": 7,
   "metadata": {
    "ExecuteTime": {
     "end_time": "2020-01-16T05:27:35.282831Z",
     "start_time": "2020-01-16T05:27:34.672578Z"
    },
    "papermill": {
     "duration": 1.160932,
     "end_time": "2020-01-14T06:44:04.204021",
     "exception": false,
     "start_time": "2020-01-14T06:44:03.043089",
     "status": "completed"
    },
    "tags": []
   },
   "outputs": [],
   "source": [
    "# mask small motif scores\n",
    "motif_cutoff = pd.Series(np.apply_along_axis(lambda i: np.quantile(i[i>0], 0.99) * mask_quantile_to99, \n",
    "                                             0, motif_hits.X),\n",
    "                         index=motif_hits.var_names)\n",
    "# only keep value larger than the cutoff for each motif\n",
    "motif_hits.X = np.multiply(motif_hits.X, (motif_hits.X > motif_cutoff.values[None, :]))"
   ]
  },
  {
   "cell_type": "markdown",
   "metadata": {
    "papermill": {
     "duration": 0.009724,
     "end_time": "2020-01-14T06:44:04.224721",
     "exception": false,
     "start_time": "2020-01-14T06:44:04.214997",
     "status": "completed"
    },
    "tags": []
   },
   "source": [
    "## Background Hits"
   ]
  },
  {
   "cell_type": "code",
   "execution_count": 8,
   "metadata": {
    "ExecuteTime": {
     "end_time": "2020-01-16T05:27:36.531745Z",
     "start_time": "2020-01-16T05:27:35.284781Z"
    },
    "papermill": {
     "duration": 1.132076,
     "end_time": "2020-01-14T06:44:05.366627",
     "exception": false,
     "start_time": "2020-01-14T06:44:04.234551",
     "status": "completed"
    },
    "tags": []
   },
   "outputs": [],
   "source": [
    "background_motif_hits = anndata.read_h5ad(\n",
    "    '/home/hanliu/project/mouse_rostral_brain/DMR/BackgroundDMR/MotifScan.h5ad'\n",
    ")"
   ]
  },
  {
   "cell_type": "code",
   "execution_count": 9,
   "metadata": {
    "ExecuteTime": {
     "end_time": "2020-01-16T05:27:37.808431Z",
     "start_time": "2020-01-16T05:27:36.533707Z"
    },
    "papermill": {
     "duration": 1.133285,
     "end_time": "2020-01-14T06:44:06.510756",
     "exception": false,
     "start_time": "2020-01-14T06:44:05.377471",
     "status": "completed"
    },
    "tags": []
   },
   "outputs": [],
   "source": [
    "dmr_bed = pybedtools.BedTool().from_dataframe(dmr_bed_df)\n",
    "bg_bed = pybedtools.BedTool().from_dataframe(\n",
    "    background_motif_hits.obs.reset_index().iloc[:, [1, 2, 3, 0]])"
   ]
  },
  {
   "cell_type": "code",
   "execution_count": 10,
   "metadata": {
    "ExecuteTime": {
     "end_time": "2020-01-16T05:27:39.486770Z",
     "start_time": "2020-01-16T05:27:37.810130Z"
    },
    "papermill": {
     "duration": 1.587477,
     "end_time": "2020-01-14T06:44:08.109306",
     "exception": false,
     "start_time": "2020-01-14T06:44:06.521829",
     "status": "completed"
    },
    "tags": []
   },
   "outputs": [],
   "source": [
    "# exclude background that overlap with DMR\n",
    "bg_no_overlap = bg_bed.intersect(dmr_bed, v=True)\n",
    "use_bg = bg_no_overlap.to_dataframe().iloc[:, -1].values\n",
    "background_motif_hits = background_motif_hits[use_bg, :]\n",
    "\n",
    "# make sure col in same order\n",
    "background_motif_hits = background_motif_hits[:, motif_ids].copy()"
   ]
  },
  {
   "cell_type": "code",
   "execution_count": 11,
   "metadata": {
    "ExecuteTime": {
     "end_time": "2020-01-16T05:27:41.925161Z",
     "start_time": "2020-01-16T05:27:39.488855Z"
    },
    "papermill": {
     "duration": 2.071867,
     "end_time": "2020-01-14T06:44:10.192334",
     "exception": false,
     "start_time": "2020-01-14T06:44:08.120467",
     "status": "completed"
    },
    "tags": []
   },
   "outputs": [],
   "source": [
    "judge_matrix = csr_matrix(background_motif_hits.X > motif_cutoff.values[None, :])\n",
    "background_motif_hits.X = background_motif_hits.X.multiply(judge_matrix)"
   ]
  },
  {
   "cell_type": "code",
   "execution_count": 12,
   "metadata": {
    "ExecuteTime": {
     "end_time": "2020-01-16T05:27:41.932572Z",
     "start_time": "2020-01-16T05:27:41.927547Z"
    },
    "papermill": {
     "duration": 0.016778,
     "end_time": "2020-01-14T06:44:10.220245",
     "exception": false,
     "start_time": "2020-01-14T06:44:10.203467",
     "status": "completed"
    },
    "tags": []
   },
   "outputs": [
    {
     "data": {
      "text/plain": [
       "AnnData object with n_obs × n_vars = 337798 × 719 \n",
       "    obs: 'chrom', 'start', 'end'"
      ]
     },
     "execution_count": 12,
     "metadata": {},
     "output_type": "execute_result"
    }
   ],
   "source": [
    "background_motif_hits"
   ]
  },
  {
   "cell_type": "markdown",
   "metadata": {
    "papermill": {
     "duration": 0.010064,
     "end_time": "2020-01-14T06:44:10.240428",
     "exception": false,
     "start_time": "2020-01-14T06:44:10.230364",
     "status": "completed"
    },
    "tags": []
   },
   "source": [
    "## Motif hits contingency table"
   ]
  },
  {
   "cell_type": "code",
   "execution_count": 13,
   "metadata": {
    "ExecuteTime": {
     "end_time": "2020-01-16T05:27:42.183634Z",
     "start_time": "2020-01-16T05:27:41.934199Z"
    },
    "papermill": {
     "duration": 0.339356,
     "end_time": "2020-01-14T06:44:10.589910",
     "exception": false,
     "start_time": "2020-01-14T06:44:10.250554",
     "status": "completed"
    },
    "tags": []
   },
   "outputs": [],
   "source": [
    "# calculate motif occurence, not considering hits here\n",
    "pos = (motif_hits.X > 0).sum(axis=0)\n",
    "pos_total = motif_hits.shape[0]\n",
    "\n",
    "neg = (background_motif_hits.X > 0).sum(axis=0)\n",
    "neg_total = background_motif_hits.shape[0]"
   ]
  },
  {
   "cell_type": "code",
   "execution_count": 14,
   "metadata": {
    "ExecuteTime": {
     "end_time": "2020-01-16T05:27:42.190123Z",
     "start_time": "2020-01-16T05:27:42.185425Z"
    },
    "papermill": {
     "duration": 0.061836,
     "end_time": "2020-01-14T06:44:10.662965",
     "exception": false,
     "start_time": "2020-01-14T06:44:10.601129",
     "status": "completed"
    },
    "scrolled": true,
    "tags": []
   },
   "outputs": [],
   "source": [
    "tables = {}\n",
    "for motif, _pos, _neg in zip(motif_ids, pos.A1, neg.A1):\n",
    "    table = [[_pos, pos_total - _pos], [_neg, neg_total - _neg]]\n",
    "    tables[motif] = table"
   ]
  },
  {
   "cell_type": "code",
   "execution_count": 15,
   "metadata": {
    "ExecuteTime": {
     "end_time": "2020-01-16T05:27:42.929575Z",
     "start_time": "2020-01-16T05:27:42.191732Z"
    },
    "papermill": {
     "duration": 1.026062,
     "end_time": "2020-01-14T06:44:11.699583",
     "exception": false,
     "start_time": "2020-01-14T06:44:10.673521",
     "status": "completed"
    },
    "tags": []
   },
   "outputs": [],
   "source": [
    "results = {}\n",
    "with ProcessPoolExecutor(20) as executor:\n",
    "    fs = {}\n",
    "    for motif, t in tables.items():\n",
    "        f = executor.submit(stats.fisher_exact, t, alternative='greater')\n",
    "        fs[f] = motif\n",
    "\n",
    "    for f in as_completed(fs):\n",
    "        motif = fs[f]\n",
    "        odds, p = f.result()\n",
    "        results[motif] = {'oddsratio': odds, 'p_value': p}\n",
    "motif_enrich_df = pd.DataFrame(results).T\n",
    "\n",
    "_, p, _, _ = multipletests(motif_enrich_df['p_value'], method='fdr_bh')\n",
    "motif_enrich_df['adj_p'] = p\n",
    "\n",
    "motif_enrich_df['-lgp'] = -np.log10(motif_enrich_df['adj_p']).replace(\n",
    "    -np.inf, -300)\n",
    "\n",
    "records = {}\n",
    "for motif, t in tables.items():\n",
    "    tp, tn = t[0]\n",
    "    fp, fn = t[1]\n",
    "    tp_rate = tp / pos_total\n",
    "    fp_rate = fp / neg_total\n",
    "    records[motif] = dict(tp=tp,\n",
    "                          tn=tn,\n",
    "                          fp=fp,\n",
    "                          fn=fn,\n",
    "                          tp_rate=tp_rate,\n",
    "                          fp_rate=fp_rate)\n",
    "counts = pd.DataFrame(records).T\n",
    "motif_enrich_df = pd.concat([motif_enrich_df, counts], axis=1, sort=True)"
   ]
  },
  {
   "cell_type": "code",
   "execution_count": 16,
   "metadata": {
    "ExecuteTime": {
     "end_time": "2020-01-16T05:27:42.934472Z",
     "start_time": "2020-01-16T05:27:42.931334Z"
    },
    "papermill": {
     "duration": 0.016036,
     "end_time": "2020-01-14T06:44:11.726896",
     "exception": false,
     "start_time": "2020-01-14T06:44:11.710860",
     "status": "completed"
    },
    "tags": []
   },
   "outputs": [],
   "source": [
    "motif_enrich_df['Group'] = group"
   ]
  },
  {
   "cell_type": "code",
   "execution_count": 17,
   "metadata": {
    "ExecuteTime": {
     "end_time": "2020-01-16T05:27:42.941573Z",
     "start_time": "2020-01-16T05:27:42.935867Z"
    },
    "papermill": {
     "duration": 0.018614,
     "end_time": "2020-01-14T06:44:11.755438",
     "exception": false,
     "start_time": "2020-01-14T06:44:11.736824",
     "status": "completed"
    },
    "tags": []
   },
   "outputs": [
    {
     "data": {
      "text/plain": [
       "21"
      ]
     },
     "execution_count": 17,
     "metadata": {},
     "output_type": "execute_result"
    }
   ],
   "source": [
    "# final filter\n",
    "filtered_motif_df = motif_enrich_df[(motif_enrich_df['oddsratio'] > or_cutoff)\n",
    "                                    &\n",
    "                                    (motif_enrich_df['-lgp'] > neg_lgp_cutoff)]\n",
    "filtered_motif_df.shape[0]"
   ]
  },
  {
   "cell_type": "code",
   "execution_count": 18,
   "metadata": {
    "ExecuteTime": {
     "end_time": "2020-01-16T05:27:42.946891Z",
     "start_time": "2020-01-16T05:27:42.942757Z"
    },
    "papermill": {
     "duration": 0.016968,
     "end_time": "2020-01-14T06:44:11.782680",
     "exception": false,
     "start_time": "2020-01-14T06:44:11.765712",
     "status": "completed"
    },
    "tags": []
   },
   "outputs": [
    {
     "name": "stderr",
     "output_type": "stream",
     "text": [
      "/home/hanliu/miniconda3/envs/clustering/lib/python3.7/site-packages/ipykernel_launcher.py:1: FutureWarning: to_msgpack is deprecated and will be removed in a future version.\n",
      "It is recommended to use pyarrow for on-the-wire transmission of pandas objects.\n",
      "  \"\"\"Entry point for launching an IPython kernel.\n"
     ]
    }
   ],
   "source": [
    "motif_enrich_df.to_msgpack(output_dir / f'{group}.motif_enrichment.msg')"
   ]
  },
  {
   "cell_type": "code",
   "execution_count": 19,
   "metadata": {
    "ExecuteTime": {
     "end_time": "2020-01-16T05:27:42.956980Z",
     "start_time": "2020-01-16T05:27:42.948191Z"
    },
    "papermill": {
     "duration": 0.02174,
     "end_time": "2020-01-14T06:44:11.814566",
     "exception": false,
     "start_time": "2020-01-14T06:44:11.792826",
     "status": "completed"
    },
    "tags": []
   },
   "outputs": [],
   "source": [
    "pybedtools.cleanup()"
   ]
  },
  {
   "cell_type": "code",
   "execution_count": 20,
   "metadata": {
    "ExecuteTime": {
     "end_time": "2020-01-16T05:27:42.974792Z",
     "start_time": "2020-01-16T05:27:42.958274Z"
    },
    "papermill": {
     "duration": 0.030733,
     "end_time": "2020-01-14T06:44:11.856346",
     "exception": false,
     "start_time": "2020-01-14T06:44:11.825613",
     "status": "completed"
    },
    "tags": []
   },
   "outputs": [
    {
     "data": {
      "text/html": [
       "<div>\n",
       "<style scoped>\n",
       "    .dataframe tbody tr th:only-of-type {\n",
       "        vertical-align: middle;\n",
       "    }\n",
       "\n",
       "    .dataframe tbody tr th {\n",
       "        vertical-align: top;\n",
       "    }\n",
       "\n",
       "    .dataframe thead th {\n",
       "        text-align: right;\n",
       "    }\n",
       "</style>\n",
       "<table border=\"1\" class=\"dataframe\">\n",
       "  <thead>\n",
       "    <tr style=\"text-align: right;\">\n",
       "      <th></th>\n",
       "      <th>oddsratio</th>\n",
       "      <th>p_value</th>\n",
       "      <th>adj_p</th>\n",
       "      <th>-lgp</th>\n",
       "      <th>tp</th>\n",
       "      <th>tn</th>\n",
       "      <th>fp</th>\n",
       "      <th>fn</th>\n",
       "      <th>tp_rate</th>\n",
       "      <th>fp_rate</th>\n",
       "      <th>Group</th>\n",
       "    </tr>\n",
       "  </thead>\n",
       "  <tbody>\n",
       "    <tr>\n",
       "      <th>MA0461.2</th>\n",
       "      <td>2.133484</td>\n",
       "      <td>2.825294e-73</td>\n",
       "      <td>2.901981e-71</td>\n",
       "      <td>70.537305</td>\n",
       "      <td>862.0</td>\n",
       "      <td>45426.0</td>\n",
       "      <td>2978.0</td>\n",
       "      <td>334820.0</td>\n",
       "      <td>0.018623</td>\n",
       "      <td>0.008816</td>\n",
       "      <td>IT-L23+MOs</td>\n",
       "    </tr>\n",
       "    <tr>\n",
       "      <th>MA0498.2</th>\n",
       "      <td>1.602599</td>\n",
       "      <td>1.891821e-185</td>\n",
       "      <td>6.801096e-183</td>\n",
       "      <td>182.167421</td>\n",
       "      <td>5617.0</td>\n",
       "      <td>40671.0</td>\n",
       "      <td>26801.0</td>\n",
       "      <td>310997.0</td>\n",
       "      <td>0.121349</td>\n",
       "      <td>0.079340</td>\n",
       "      <td>IT-L23+MOs</td>\n",
       "    </tr>\n",
       "    <tr>\n",
       "      <th>MA0507.1</th>\n",
       "      <td>1.678698</td>\n",
       "      <td>5.506868e-34</td>\n",
       "      <td>1.277238e-32</td>\n",
       "      <td>31.893728</td>\n",
       "      <td>760.0</td>\n",
       "      <td>45528.0</td>\n",
       "      <td>3326.0</td>\n",
       "      <td>334472.0</td>\n",
       "      <td>0.016419</td>\n",
       "      <td>0.009846</td>\n",
       "      <td>IT-L23+MOs</td>\n",
       "    </tr>\n",
       "    <tr>\n",
       "      <th>MA0607.1</th>\n",
       "      <td>1.758407</td>\n",
       "      <td>1.923351e-134</td>\n",
       "      <td>4.609632e-132</td>\n",
       "      <td>131.336334</td>\n",
       "      <td>2779.0</td>\n",
       "      <td>43509.0</td>\n",
       "      <td>11840.0</td>\n",
       "      <td>325958.0</td>\n",
       "      <td>0.060037</td>\n",
       "      <td>0.035051</td>\n",
       "      <td>IT-L23+MOs</td>\n",
       "    </tr>\n",
       "    <tr>\n",
       "      <th>MA0619.1</th>\n",
       "      <td>1.575222</td>\n",
       "      <td>2.670786e-196</td>\n",
       "      <td>1.920295e-193</td>\n",
       "      <td>192.716632</td>\n",
       "      <td>6479.0</td>\n",
       "      <td>39809.0</td>\n",
       "      <td>31633.0</td>\n",
       "      <td>306165.0</td>\n",
       "      <td>0.139971</td>\n",
       "      <td>0.093645</td>\n",
       "      <td>IT-L23+MOs</td>\n",
       "    </tr>\n",
       "    <tr>\n",
       "      <th>MA0623.2</th>\n",
       "      <td>2.120482</td>\n",
       "      <td>5.979941e-59</td>\n",
       "      <td>3.908707e-57</td>\n",
       "      <td>56.407967</td>\n",
       "      <td>697.0</td>\n",
       "      <td>45591.0</td>\n",
       "      <td>2418.0</td>\n",
       "      <td>335380.0</td>\n",
       "      <td>0.015058</td>\n",
       "      <td>0.007158</td>\n",
       "      <td>IT-L23+MOs</td>\n",
       "    </tr>\n",
       "    <tr>\n",
       "      <th>MA0633.1</th>\n",
       "      <td>1.752825</td>\n",
       "      <td>3.365615e-41</td>\n",
       "      <td>1.273620e-39</td>\n",
       "      <td>38.894960</td>\n",
       "      <td>806.0</td>\n",
       "      <td>45482.0</td>\n",
       "      <td>3381.0</td>\n",
       "      <td>334417.0</td>\n",
       "      <td>0.017413</td>\n",
       "      <td>0.010009</td>\n",
       "      <td>IT-L23+MOs</td>\n",
       "    </tr>\n",
       "    <tr>\n",
       "      <th>MA0668.1</th>\n",
       "      <td>2.147961</td>\n",
       "      <td>5.243244e-45</td>\n",
       "      <td>2.513262e-43</td>\n",
       "      <td>42.599762</td>\n",
       "      <td>510.0</td>\n",
       "      <td>45778.0</td>\n",
       "      <td>1743.0</td>\n",
       "      <td>336055.0</td>\n",
       "      <td>0.011018</td>\n",
       "      <td>0.005160</td>\n",
       "      <td>IT-L23+MOs</td>\n",
       "    </tr>\n",
       "    <tr>\n",
       "      <th>MA0669.1</th>\n",
       "      <td>2.021532</td>\n",
       "      <td>2.845941e-30</td>\n",
       "      <td>5.683976e-29</td>\n",
       "      <td>28.245348</td>\n",
       "      <td>387.0</td>\n",
       "      <td>45901.0</td>\n",
       "      <td>1403.0</td>\n",
       "      <td>336395.0</td>\n",
       "      <td>0.008361</td>\n",
       "      <td>0.004153</td>\n",
       "      <td>IT-L23+MOs</td>\n",
       "    </tr>\n",
       "    <tr>\n",
       "      <th>MA0678.1</th>\n",
       "      <td>2.372703</td>\n",
       "      <td>3.374037e-37</td>\n",
       "      <td>8.664046e-36</td>\n",
       "      <td>35.062279</td>\n",
       "      <td>338.0</td>\n",
       "      <td>45950.0</td>\n",
       "      <td>1044.0</td>\n",
       "      <td>336754.0</td>\n",
       "      <td>0.007302</td>\n",
       "      <td>0.003091</td>\n",
       "      <td>IT-L23+MOs</td>\n",
       "    </tr>\n",
       "    <tr>\n",
       "      <th>MA0782.2</th>\n",
       "      <td>1.634365</td>\n",
       "      <td>3.961017e-18</td>\n",
       "      <td>6.059513e-17</td>\n",
       "      <td>16.217562</td>\n",
       "      <td>422.0</td>\n",
       "      <td>45866.0</td>\n",
       "      <td>1891.0</td>\n",
       "      <td>335907.0</td>\n",
       "      <td>0.009117</td>\n",
       "      <td>0.005598</td>\n",
       "      <td>IT-L23+MOs</td>\n",
       "    </tr>\n",
       "    <tr>\n",
       "      <th>MA0785.1</th>\n",
       "      <td>1.591059</td>\n",
       "      <td>7.265444e-21</td>\n",
       "      <td>1.187240e-19</td>\n",
       "      <td>18.925462</td>\n",
       "      <td>547.0</td>\n",
       "      <td>45741.0</td>\n",
       "      <td>2520.0</td>\n",
       "      <td>335278.0</td>\n",
       "      <td>0.011817</td>\n",
       "      <td>0.007460</td>\n",
       "      <td>IT-L23+MOs</td>\n",
       "    </tr>\n",
       "    <tr>\n",
       "      <th>MA0817.1</th>\n",
       "      <td>2.213790</td>\n",
       "      <td>4.604455e-30</td>\n",
       "      <td>8.947577e-29</td>\n",
       "      <td>28.048295</td>\n",
       "      <td>311.0</td>\n",
       "      <td>45977.0</td>\n",
       "      <td>1029.0</td>\n",
       "      <td>336769.0</td>\n",
       "      <td>0.006719</td>\n",
       "      <td>0.003046</td>\n",
       "      <td>IT-L23+MOs</td>\n",
       "    </tr>\n",
       "    <tr>\n",
       "      <th>MA0818.1</th>\n",
       "      <td>2.117615</td>\n",
       "      <td>1.081265e-63</td>\n",
       "      <td>8.638104e-62</td>\n",
       "      <td>61.063582</td>\n",
       "      <td>758.0</td>\n",
       "      <td>45530.0</td>\n",
       "      <td>2635.0</td>\n",
       "      <td>335163.0</td>\n",
       "      <td>0.016376</td>\n",
       "      <td>0.007801</td>\n",
       "      <td>IT-L23+MOs</td>\n",
       "    </tr>\n",
       "    <tr>\n",
       "      <th>MA0826.1</th>\n",
       "      <td>2.228760</td>\n",
       "      <td>1.146778e-31</td>\n",
       "      <td>2.498586e-30</td>\n",
       "      <td>29.602306</td>\n",
       "      <td>324.0</td>\n",
       "      <td>45964.0</td>\n",
       "      <td>1065.0</td>\n",
       "      <td>336733.0</td>\n",
       "      <td>0.007000</td>\n",
       "      <td>0.003153</td>\n",
       "      <td>IT-L23+MOs</td>\n",
       "    </tr>\n",
       "    <tr>\n",
       "      <th>MA0827.1</th>\n",
       "      <td>2.262499</td>\n",
       "      <td>2.901287e-53</td>\n",
       "      <td>1.604635e-51</td>\n",
       "      <td>50.794624</td>\n",
       "      <td>543.0</td>\n",
       "      <td>45745.0</td>\n",
       "      <td>1763.0</td>\n",
       "      <td>336035.0</td>\n",
       "      <td>0.011731</td>\n",
       "      <td>0.005219</td>\n",
       "      <td>IT-L23+MOs</td>\n",
       "    </tr>\n",
       "    <tr>\n",
       "      <th>MA1109.1</th>\n",
       "      <td>1.709929</td>\n",
       "      <td>1.010931e-66</td>\n",
       "      <td>9.085744e-65</td>\n",
       "      <td>64.041639</td>\n",
       "      <td>1458.0</td>\n",
       "      <td>44830.0</td>\n",
       "      <td>6305.0</td>\n",
       "      <td>331493.0</td>\n",
       "      <td>0.031498</td>\n",
       "      <td>0.018665</td>\n",
       "      <td>IT-L23+MOs</td>\n",
       "    </tr>\n",
       "    <tr>\n",
       "      <th>MA1115.1</th>\n",
       "      <td>1.597399</td>\n",
       "      <td>5.447978e-55</td>\n",
       "      <td>3.264247e-53</td>\n",
       "      <td>52.486217</td>\n",
       "      <td>1531.0</td>\n",
       "      <td>44757.0</td>\n",
       "      <td>7082.0</td>\n",
       "      <td>330716.0</td>\n",
       "      <td>0.033076</td>\n",
       "      <td>0.020965</td>\n",
       "      <td>IT-L23+MOs</td>\n",
       "    </tr>\n",
       "    <tr>\n",
       "      <th>MA1468.1</th>\n",
       "      <td>2.173335</td>\n",
       "      <td>9.651040e-77</td>\n",
       "      <td>1.156516e-74</td>\n",
       "      <td>73.936848</td>\n",
       "      <td>867.0</td>\n",
       "      <td>45421.0</td>\n",
       "      <td>2941.0</td>\n",
       "      <td>334857.0</td>\n",
       "      <td>0.018731</td>\n",
       "      <td>0.008706</td>\n",
       "      <td>IT-L23+MOs</td>\n",
       "    </tr>\n",
       "    <tr>\n",
       "      <th>MA1568.1</th>\n",
       "      <td>2.210364</td>\n",
       "      <td>2.229350e-23</td>\n",
       "      <td>3.816435e-22</td>\n",
       "      <td>21.418342</td>\n",
       "      <td>238.0</td>\n",
       "      <td>46050.0</td>\n",
       "      <td>788.0</td>\n",
       "      <td>337010.0</td>\n",
       "      <td>0.005142</td>\n",
       "      <td>0.002333</td>\n",
       "      <td>IT-L23+MOs</td>\n",
       "    </tr>\n",
       "    <tr>\n",
       "      <th>MA1642.1</th>\n",
       "      <td>1.600324</td>\n",
       "      <td>5.488357e-82</td>\n",
       "      <td>7.892258e-80</td>\n",
       "      <td>79.102799</td>\n",
       "      <td>2325.0</td>\n",
       "      <td>43963.0</td>\n",
       "      <td>10806.0</td>\n",
       "      <td>326992.0</td>\n",
       "      <td>0.050229</td>\n",
       "      <td>0.031990</td>\n",
       "      <td>IT-L23+MOs</td>\n",
       "    </tr>\n",
       "  </tbody>\n",
       "</table>\n",
       "</div>"
      ],
      "text/plain": [
       "          oddsratio        p_value          adj_p        -lgp      tp  \\\n",
       "MA0461.2   2.133484   2.825294e-73   2.901981e-71   70.537305   862.0   \n",
       "MA0498.2   1.602599  1.891821e-185  6.801096e-183  182.167421  5617.0   \n",
       "MA0507.1   1.678698   5.506868e-34   1.277238e-32   31.893728   760.0   \n",
       "MA0607.1   1.758407  1.923351e-134  4.609632e-132  131.336334  2779.0   \n",
       "MA0619.1   1.575222  2.670786e-196  1.920295e-193  192.716632  6479.0   \n",
       "MA0623.2   2.120482   5.979941e-59   3.908707e-57   56.407967   697.0   \n",
       "MA0633.1   1.752825   3.365615e-41   1.273620e-39   38.894960   806.0   \n",
       "MA0668.1   2.147961   5.243244e-45   2.513262e-43   42.599762   510.0   \n",
       "MA0669.1   2.021532   2.845941e-30   5.683976e-29   28.245348   387.0   \n",
       "MA0678.1   2.372703   3.374037e-37   8.664046e-36   35.062279   338.0   \n",
       "MA0782.2   1.634365   3.961017e-18   6.059513e-17   16.217562   422.0   \n",
       "MA0785.1   1.591059   7.265444e-21   1.187240e-19   18.925462   547.0   \n",
       "MA0817.1   2.213790   4.604455e-30   8.947577e-29   28.048295   311.0   \n",
       "MA0818.1   2.117615   1.081265e-63   8.638104e-62   61.063582   758.0   \n",
       "MA0826.1   2.228760   1.146778e-31   2.498586e-30   29.602306   324.0   \n",
       "MA0827.1   2.262499   2.901287e-53   1.604635e-51   50.794624   543.0   \n",
       "MA1109.1   1.709929   1.010931e-66   9.085744e-65   64.041639  1458.0   \n",
       "MA1115.1   1.597399   5.447978e-55   3.264247e-53   52.486217  1531.0   \n",
       "MA1468.1   2.173335   9.651040e-77   1.156516e-74   73.936848   867.0   \n",
       "MA1568.1   2.210364   2.229350e-23   3.816435e-22   21.418342   238.0   \n",
       "MA1642.1   1.600324   5.488357e-82   7.892258e-80   79.102799  2325.0   \n",
       "\n",
       "               tn       fp        fn   tp_rate   fp_rate       Group  \n",
       "MA0461.2  45426.0   2978.0  334820.0  0.018623  0.008816  IT-L23+MOs  \n",
       "MA0498.2  40671.0  26801.0  310997.0  0.121349  0.079340  IT-L23+MOs  \n",
       "MA0507.1  45528.0   3326.0  334472.0  0.016419  0.009846  IT-L23+MOs  \n",
       "MA0607.1  43509.0  11840.0  325958.0  0.060037  0.035051  IT-L23+MOs  \n",
       "MA0619.1  39809.0  31633.0  306165.0  0.139971  0.093645  IT-L23+MOs  \n",
       "MA0623.2  45591.0   2418.0  335380.0  0.015058  0.007158  IT-L23+MOs  \n",
       "MA0633.1  45482.0   3381.0  334417.0  0.017413  0.010009  IT-L23+MOs  \n",
       "MA0668.1  45778.0   1743.0  336055.0  0.011018  0.005160  IT-L23+MOs  \n",
       "MA0669.1  45901.0   1403.0  336395.0  0.008361  0.004153  IT-L23+MOs  \n",
       "MA0678.1  45950.0   1044.0  336754.0  0.007302  0.003091  IT-L23+MOs  \n",
       "MA0782.2  45866.0   1891.0  335907.0  0.009117  0.005598  IT-L23+MOs  \n",
       "MA0785.1  45741.0   2520.0  335278.0  0.011817  0.007460  IT-L23+MOs  \n",
       "MA0817.1  45977.0   1029.0  336769.0  0.006719  0.003046  IT-L23+MOs  \n",
       "MA0818.1  45530.0   2635.0  335163.0  0.016376  0.007801  IT-L23+MOs  \n",
       "MA0826.1  45964.0   1065.0  336733.0  0.007000  0.003153  IT-L23+MOs  \n",
       "MA0827.1  45745.0   1763.0  336035.0  0.011731  0.005219  IT-L23+MOs  \n",
       "MA1109.1  44830.0   6305.0  331493.0  0.031498  0.018665  IT-L23+MOs  \n",
       "MA1115.1  44757.0   7082.0  330716.0  0.033076  0.020965  IT-L23+MOs  \n",
       "MA1468.1  45421.0   2941.0  334857.0  0.018731  0.008706  IT-L23+MOs  \n",
       "MA1568.1  46050.0    788.0  337010.0  0.005142  0.002333  IT-L23+MOs  \n",
       "MA1642.1  43963.0  10806.0  326992.0  0.050229  0.031990  IT-L23+MOs  "
      ]
     },
     "execution_count": 20,
     "metadata": {},
     "output_type": "execute_result"
    }
   ],
   "source": [
    "filtered_motif_df"
   ]
  },
  {
   "cell_type": "code",
   "execution_count": null,
   "metadata": {
    "papermill": {
     "duration": 0.010671,
     "end_time": "2020-01-14T06:44:11.877755",
     "exception": false,
     "start_time": "2020-01-14T06:44:11.867084",
     "status": "completed"
    },
    "tags": []
   },
   "outputs": [],
   "source": []
  }
 ],
 "metadata": {
  "hide_input": false,
  "kernelspec": {
   "display_name": "Python 3",
   "language": "python",
   "name": "python3"
  },
  "language_info": {
   "codemirror_mode": {
    "name": "ipython",
    "version": 3
   },
   "file_extension": ".py",
   "mimetype": "text/x-python",
   "name": "python",
   "nbconvert_exporter": "python",
   "pygments_lexer": "ipython3",
   "version": "3.7.3"
  },
  "papermill": {
   "duration": 13.999184,
   "end_time": "2020-01-14T06:44:12.496235",
   "environment_variables": {},
   "exception": null,
   "input_path": "4.MotifEnrichment.ipynb",
   "output_path": "/home/hanliu/project/mouse_rostral_brain/DMR/ITSpatial_by_layer/IT-L6/Recipe/4.MotifEnrichment.IT-L23+MOs.ipynb",
   "parameters": {
    "dmr_hits_path": "/home/hanliu/project/mouse_rostral_brain/DMR/ITSpatial_by_layer/IT-L23/HypoDMR/IT-L23+MOs.DMS1.bed",
    "group": "IT-L23+MOs",
    "mask_quantile_to99": 0.9,
    "motif_hits_path": "/home/hanliu/project/mouse_rostral_brain/DMR/ITSpatial_by_layer/IT-L23/MotifScan.h5ad",
    "neg_lgp_cutoff": 10,
    "or_cutoff": 1.5,
    "output_dir": "/home/hanliu/project/mouse_rostral_brain/DMR/ITSpatial_by_layer/IT-L23/MotifEnrichment"
   },
   "start_time": "2020-01-14T06:43:58.497051",
   "version": "1.0.1"
  },
  "toc": {
   "base_numbering": 1,
   "nav_menu": {},
   "number_sections": true,
   "sideBar": true,
   "skip_h1_title": true,
   "title_cell": "Table of Contents",
   "title_sidebar": "Contents",
   "toc_cell": false,
   "toc_position": {},
   "toc_section_display": true,
   "toc_window_display": true
  }
 },
 "nbformat": 4,
 "nbformat_minor": 2
}
