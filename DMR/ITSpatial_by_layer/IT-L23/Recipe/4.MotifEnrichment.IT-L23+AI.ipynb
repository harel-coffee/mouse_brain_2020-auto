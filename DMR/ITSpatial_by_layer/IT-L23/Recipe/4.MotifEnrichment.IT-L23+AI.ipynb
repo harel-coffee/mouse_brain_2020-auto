{
 "cells": [
  {
   "cell_type": "markdown",
   "metadata": {
    "papermill": {
     "duration": 0.009705,
     "end_time": "2020-01-14T06:43:31.875195",
     "exception": false,
     "start_time": "2020-01-14T06:43:31.865490",
     "status": "completed"
    },
    "tags": []
   },
   "source": [
    "# Motif Enrichment\n",
    "- The motif hits matrix save the max loglikelyhood score of a motif in that DMR\n",
    "- Before run the motif enrichment, I filter the scores for each motif using cutoff defined by\n",
    "    - `np.quantile(motif_score[motif_score > 0]) * mask_quantile_to99`\n",
    "- This filter will remove hits with low score, which is likely to be false positive\n",
    "- Its likely boosting the significance of real enrichment"
   ]
  },
  {
   "cell_type": "code",
   "execution_count": 1,
   "metadata": {
    "ExecuteTime": {
     "end_time": "2020-01-16T05:27:25.113914Z",
     "start_time": "2020-01-16T05:27:24.433234Z"
    },
    "papermill": {
     "duration": 0.678892,
     "end_time": "2020-01-14T06:43:32.564660",
     "exception": false,
     "start_time": "2020-01-14T06:43:31.885768",
     "status": "completed"
    },
    "tags": []
   },
   "outputs": [],
   "source": [
    "from concurrent.futures import ProcessPoolExecutor, as_completed\n",
    "import anndata\n",
    "import matplotlib.pyplot as plt\n",
    "import numpy as np\n",
    "import pandas as pd\n",
    "import pybedtools\n",
    "import scipy.stats as stats\n",
    "import seaborn as sns\n",
    "from scipy.sparse import csr_matrix\n",
    "from statsmodels.stats.multitest import multipletests\n",
    "import pathlib"
   ]
  },
  {
   "cell_type": "code",
   "execution_count": 2,
   "metadata": {
    "ExecuteTime": {
     "end_time": "2020-01-16T05:27:25.118448Z",
     "start_time": "2020-01-16T05:27:25.115702Z"
    },
    "papermill": {
     "duration": 0.015765,
     "end_time": "2020-01-14T06:43:32.590887",
     "exception": false,
     "start_time": "2020-01-14T06:43:32.575122",
     "status": "completed"
    },
    "tags": [
     "parameters"
    ]
   },
   "outputs": [],
   "source": [
    "mask_quantile_to99 = 0.9\n",
    "or_cutoff = 1.5\n",
    "neg_lgp_cutoff = 10\n",
    "group = 'IT-L23+ACA'\n",
    "\n",
    "motif_hits_path = '/home/hanliu/project/mouse_rostral_brain/DMR/ITSpatial_by_layer/IT-L23/MotifScan.h5ad'\n",
    "dmr_hits_path = f'/home/hanliu/project/mouse_rostral_brain/DMR/ITSpatial_by_layer/IT-L23/HypoDMR/{group}.DMS1.bed'\n",
    "output_dir = '/home/hanliu/project/mouse_rostral_brain/DMR/ITSpatial_by_layer/IT-L23/MotifEnrichment'\n"
   ]
  },
  {
   "cell_type": "code",
   "execution_count": 3,
   "metadata": {
    "ExecuteTime": {
     "end_time": "2020-01-16T05:27:25.122225Z",
     "start_time": "2020-01-16T05:27:25.119808Z"
    },
    "papermill": {
     "duration": 0.014056,
     "end_time": "2020-01-14T06:43:32.614222",
     "exception": false,
     "start_time": "2020-01-14T06:43:32.600166",
     "status": "completed"
    },
    "tags": [
     "injected-parameters"
    ]
   },
   "outputs": [],
   "source": [
    "# Parameters\n",
    "mask_quantile_to99 = 0.9\n",
    "or_cutoff = 1.5\n",
    "neg_lgp_cutoff = 10\n",
    "group = \"IT-L23+AI\"\n",
    "motif_hits_path = \"/home/hanliu/project/mouse_rostral_brain/DMR/ITSpatial_by_layer/IT-L23/MotifScan.h5ad\"\n",
    "dmr_hits_path = \"/home/hanliu/project/mouse_rostral_brain/DMR/ITSpatial_by_layer/IT-L23/HypoDMR/IT-L23+AI.DMS1.bed\"\n",
    "output_dir = \"/home/hanliu/project/mouse_rostral_brain/DMR/ITSpatial_by_layer/IT-L23/MotifEnrichment\"\n"
   ]
  },
  {
   "cell_type": "code",
   "execution_count": 4,
   "metadata": {
    "ExecuteTime": {
     "end_time": "2020-01-16T05:27:25.125822Z",
     "start_time": "2020-01-16T05:27:25.123536Z"
    },
    "papermill": {
     "duration": 0.013966,
     "end_time": "2020-01-14T06:43:32.637578",
     "exception": false,
     "start_time": "2020-01-14T06:43:32.623612",
     "status": "completed"
    },
    "tags": []
   },
   "outputs": [],
   "source": [
    "output_dir = pathlib.Path(output_dir)\n",
    "output_dir.mkdir(exist_ok=True)"
   ]
  },
  {
   "cell_type": "markdown",
   "metadata": {
    "papermill": {
     "duration": 0.00881,
     "end_time": "2020-01-14T06:43:32.655363",
     "exception": false,
     "start_time": "2020-01-14T06:43:32.646553",
     "status": "completed"
    },
    "tags": []
   },
   "source": [
    "## DMR hits"
   ]
  },
  {
   "cell_type": "code",
   "execution_count": 5,
   "metadata": {
    "ExecuteTime": {
     "end_time": "2020-01-16T05:27:25.150362Z",
     "start_time": "2020-01-16T05:27:25.127107Z"
    },
    "papermill": {
     "duration": 0.044396,
     "end_time": "2020-01-14T06:43:32.708595",
     "exception": false,
     "start_time": "2020-01-14T06:43:32.664199",
     "status": "completed"
    },
    "tags": []
   },
   "outputs": [
    {
     "data": {
      "text/html": [
       "<div>\n",
       "<style scoped>\n",
       "    .dataframe tbody tr th:only-of-type {\n",
       "        vertical-align: middle;\n",
       "    }\n",
       "\n",
       "    .dataframe tbody tr th {\n",
       "        vertical-align: top;\n",
       "    }\n",
       "\n",
       "    .dataframe thead th {\n",
       "        text-align: right;\n",
       "    }\n",
       "</style>\n",
       "<table border=\"1\" class=\"dataframe\">\n",
       "  <thead>\n",
       "    <tr style=\"text-align: right;\">\n",
       "      <th></th>\n",
       "      <th>0</th>\n",
       "      <th>1</th>\n",
       "      <th>2</th>\n",
       "    </tr>\n",
       "    <tr>\n",
       "      <th>3</th>\n",
       "      <th></th>\n",
       "      <th></th>\n",
       "      <th></th>\n",
       "    </tr>\n",
       "  </thead>\n",
       "  <tbody>\n",
       "    <tr>\n",
       "      <th>DGm3c_55</th>\n",
       "      <td>chr1</td>\n",
       "      <td>3360680</td>\n",
       "      <td>3360680</td>\n",
       "    </tr>\n",
       "    <tr>\n",
       "      <th>DGm3c_56</th>\n",
       "      <td>chr1</td>\n",
       "      <td>3361059</td>\n",
       "      <td>3361196</td>\n",
       "    </tr>\n",
       "    <tr>\n",
       "      <th>DGm3c_111</th>\n",
       "      <td>chr1</td>\n",
       "      <td>3541639</td>\n",
       "      <td>3541703</td>\n",
       "    </tr>\n",
       "    <tr>\n",
       "      <th>DGm3c_116</th>\n",
       "      <td>chr1</td>\n",
       "      <td>3577091</td>\n",
       "      <td>3577091</td>\n",
       "    </tr>\n",
       "    <tr>\n",
       "      <th>DGm3c_154</th>\n",
       "      <td>chr1</td>\n",
       "      <td>3833520</td>\n",
       "      <td>3833520</td>\n",
       "    </tr>\n",
       "  </tbody>\n",
       "</table>\n",
       "</div>"
      ],
      "text/plain": [
       "              0        1        2\n",
       "3                                \n",
       "DGm3c_55   chr1  3360680  3360680\n",
       "DGm3c_56   chr1  3361059  3361196\n",
       "DGm3c_111  chr1  3541639  3541703\n",
       "DGm3c_116  chr1  3577091  3577091\n",
       "DGm3c_154  chr1  3833520  3833520"
      ]
     },
     "execution_count": 5,
     "metadata": {},
     "output_type": "execute_result"
    }
   ],
   "source": [
    "dmr_bed_df = pd.read_csv(dmr_hits_path, sep='\\t', header=None, index_col=3)\n",
    "dmr_bed_df.head()"
   ]
  },
  {
   "cell_type": "code",
   "execution_count": 6,
   "metadata": {
    "ExecuteTime": {
     "end_time": "2020-01-16T05:27:27.754913Z",
     "start_time": "2020-01-16T05:27:25.152142Z"
    },
    "papermill": {
     "duration": 2.480409,
     "end_time": "2020-01-14T06:43:35.199060",
     "exception": false,
     "start_time": "2020-01-14T06:43:32.718651",
     "status": "completed"
    },
    "tags": []
   },
   "outputs": [
    {
     "data": {
      "text/plain": [
       "AnnData object with n_obs × n_vars = 13424 × 719 \n",
       "    obs: 'chrom', 'start', 'end'"
      ]
     },
     "execution_count": 6,
     "metadata": {},
     "output_type": "execute_result"
    }
   ],
   "source": [
    "motif_hits = anndata.read_h5ad(motif_hits_path)\n",
    "motif_hits = motif_hits[dmr_bed_df.index, :].copy()\n",
    "motif_ids = motif_hits.var_names\n",
    "motif_hits.X = motif_hits.X.todense()\n",
    "motif_hits"
   ]
  },
  {
   "cell_type": "code",
   "execution_count": 7,
   "metadata": {
    "ExecuteTime": {
     "end_time": "2020-01-16T05:27:27.992445Z",
     "start_time": "2020-01-16T05:27:27.756628Z"
    },
    "papermill": {
     "duration": 0.358799,
     "end_time": "2020-01-14T06:43:35.567371",
     "exception": false,
     "start_time": "2020-01-14T06:43:35.208572",
     "status": "completed"
    },
    "tags": []
   },
   "outputs": [],
   "source": [
    "# mask small motif scores\n",
    "motif_cutoff = pd.Series(np.apply_along_axis(lambda i: np.quantile(i[i>0], 0.99) * mask_quantile_to99, \n",
    "                                             0, motif_hits.X),\n",
    "                         index=motif_hits.var_names)\n",
    "# only keep value larger than the cutoff for each motif\n",
    "motif_hits.X = np.multiply(motif_hits.X, (motif_hits.X > motif_cutoff.values[None, :]))"
   ]
  },
  {
   "cell_type": "markdown",
   "metadata": {
    "papermill": {
     "duration": 0.009764,
     "end_time": "2020-01-14T06:43:35.587818",
     "exception": false,
     "start_time": "2020-01-14T06:43:35.578054",
     "status": "completed"
    },
    "tags": []
   },
   "source": [
    "## Background Hits"
   ]
  },
  {
   "cell_type": "code",
   "execution_count": 8,
   "metadata": {
    "ExecuteTime": {
     "end_time": "2020-01-16T05:27:29.193755Z",
     "start_time": "2020-01-16T05:27:27.993826Z"
    },
    "papermill": {
     "duration": 1.14467,
     "end_time": "2020-01-14T06:43:36.742004",
     "exception": false,
     "start_time": "2020-01-14T06:43:35.597334",
     "status": "completed"
    },
    "tags": []
   },
   "outputs": [],
   "source": [
    "background_motif_hits = anndata.read_h5ad(\n",
    "    '/home/hanliu/project/mouse_rostral_brain/DMR/BackgroundDMR/MotifScan.h5ad'\n",
    ")"
   ]
  },
  {
   "cell_type": "code",
   "execution_count": 9,
   "metadata": {
    "ExecuteTime": {
     "end_time": "2020-01-16T05:27:30.244913Z",
     "start_time": "2020-01-16T05:27:29.195237Z"
    },
    "papermill": {
     "duration": 0.965601,
     "end_time": "2020-01-14T06:43:37.718094",
     "exception": false,
     "start_time": "2020-01-14T06:43:36.752493",
     "status": "completed"
    },
    "tags": []
   },
   "outputs": [],
   "source": [
    "dmr_bed = pybedtools.BedTool().from_dataframe(dmr_bed_df)\n",
    "bg_bed = pybedtools.BedTool().from_dataframe(\n",
    "    background_motif_hits.obs.reset_index().iloc[:, [1, 2, 3, 0]])"
   ]
  },
  {
   "cell_type": "code",
   "execution_count": 10,
   "metadata": {
    "ExecuteTime": {
     "end_time": "2020-01-16T05:27:31.931275Z",
     "start_time": "2020-01-16T05:27:30.246233Z"
    },
    "papermill": {
     "duration": 1.56304,
     "end_time": "2020-01-14T06:43:39.291639",
     "exception": false,
     "start_time": "2020-01-14T06:43:37.728599",
     "status": "completed"
    },
    "tags": []
   },
   "outputs": [],
   "source": [
    "# exclude background that overlap with DMR\n",
    "bg_no_overlap = bg_bed.intersect(dmr_bed, v=True)\n",
    "use_bg = bg_no_overlap.to_dataframe().iloc[:, -1].values\n",
    "background_motif_hits = background_motif_hits[use_bg, :]\n",
    "\n",
    "# make sure col in same order\n",
    "background_motif_hits = background_motif_hits[:, motif_ids].copy()"
   ]
  },
  {
   "cell_type": "code",
   "execution_count": 11,
   "metadata": {
    "ExecuteTime": {
     "end_time": "2020-01-16T05:27:34.403634Z",
     "start_time": "2020-01-16T05:27:31.932885Z"
    },
    "papermill": {
     "duration": 2.193529,
     "end_time": "2020-01-14T06:43:41.495506",
     "exception": false,
     "start_time": "2020-01-14T06:43:39.301977",
     "status": "completed"
    },
    "tags": []
   },
   "outputs": [],
   "source": [
    "judge_matrix = csr_matrix(background_motif_hits.X > motif_cutoff.values[None, :])\n",
    "background_motif_hits.X = background_motif_hits.X.multiply(judge_matrix)"
   ]
  },
  {
   "cell_type": "code",
   "execution_count": 12,
   "metadata": {
    "ExecuteTime": {
     "end_time": "2020-01-16T05:27:34.408185Z",
     "start_time": "2020-01-16T05:27:34.404976Z"
    },
    "papermill": {
     "duration": 0.016733,
     "end_time": "2020-01-14T06:43:41.523150",
     "exception": false,
     "start_time": "2020-01-14T06:43:41.506417",
     "status": "completed"
    },
    "tags": []
   },
   "outputs": [
    {
     "data": {
      "text/plain": [
       "AnnData object with n_obs × n_vars = 343986 × 719 \n",
       "    obs: 'chrom', 'start', 'end'"
      ]
     },
     "execution_count": 12,
     "metadata": {},
     "output_type": "execute_result"
    }
   ],
   "source": [
    "background_motif_hits"
   ]
  },
  {
   "cell_type": "markdown",
   "metadata": {
    "papermill": {
     "duration": 0.009458,
     "end_time": "2020-01-14T06:43:41.542166",
     "exception": false,
     "start_time": "2020-01-14T06:43:41.532708",
     "status": "completed"
    },
    "tags": []
   },
   "source": [
    "## Motif hits contingency table"
   ]
  },
  {
   "cell_type": "code",
   "execution_count": 13,
   "metadata": {
    "ExecuteTime": {
     "end_time": "2020-01-16T05:27:34.591921Z",
     "start_time": "2020-01-16T05:27:34.409422Z"
    },
    "papermill": {
     "duration": 0.172522,
     "end_time": "2020-01-14T06:43:41.724287",
     "exception": false,
     "start_time": "2020-01-14T06:43:41.551765",
     "status": "completed"
    },
    "tags": []
   },
   "outputs": [],
   "source": [
    "# calculate motif occurence, not considering hits here\n",
    "pos = (motif_hits.X > 0).sum(axis=0)\n",
    "pos_total = motif_hits.shape[0]\n",
    "\n",
    "neg = (background_motif_hits.X > 0).sum(axis=0)\n",
    "neg_total = background_motif_hits.shape[0]"
   ]
  },
  {
   "cell_type": "code",
   "execution_count": 14,
   "metadata": {
    "ExecuteTime": {
     "end_time": "2020-01-16T05:27:34.599136Z",
     "start_time": "2020-01-16T05:27:34.593278Z"
    },
    "papermill": {
     "duration": 0.06305,
     "end_time": "2020-01-14T06:43:41.797692",
     "exception": false,
     "start_time": "2020-01-14T06:43:41.734642",
     "status": "completed"
    },
    "scrolled": true,
    "tags": []
   },
   "outputs": [],
   "source": [
    "tables = {}\n",
    "for motif, _pos, _neg in zip(motif_ids, pos.A1, neg.A1):\n",
    "    table = [[_pos, pos_total - _pos], [_neg, neg_total - _neg]]\n",
    "    tables[motif] = table"
   ]
  },
  {
   "cell_type": "code",
   "execution_count": 15,
   "metadata": {
    "ExecuteTime": {
     "end_time": "2020-01-16T05:27:35.119085Z",
     "start_time": "2020-01-16T05:27:34.600516Z"
    },
    "papermill": {
     "duration": 0.884311,
     "end_time": "2020-01-14T06:43:42.691577",
     "exception": false,
     "start_time": "2020-01-14T06:43:41.807266",
     "status": "completed"
    },
    "tags": []
   },
   "outputs": [],
   "source": [
    "results = {}\n",
    "with ProcessPoolExecutor(20) as executor:\n",
    "    fs = {}\n",
    "    for motif, t in tables.items():\n",
    "        f = executor.submit(stats.fisher_exact, t, alternative='greater')\n",
    "        fs[f] = motif\n",
    "\n",
    "    for f in as_completed(fs):\n",
    "        motif = fs[f]\n",
    "        odds, p = f.result()\n",
    "        results[motif] = {'oddsratio': odds, 'p_value': p}\n",
    "motif_enrich_df = pd.DataFrame(results).T\n",
    "\n",
    "_, p, _, _ = multipletests(motif_enrich_df['p_value'], method='fdr_bh')\n",
    "motif_enrich_df['adj_p'] = p\n",
    "\n",
    "motif_enrich_df['-lgp'] = -np.log10(motif_enrich_df['adj_p']).replace(\n",
    "    -np.inf, -300)\n",
    "\n",
    "records = {}\n",
    "for motif, t in tables.items():\n",
    "    tp, tn = t[0]\n",
    "    fp, fn = t[1]\n",
    "    tp_rate = tp / pos_total\n",
    "    fp_rate = fp / neg_total\n",
    "    records[motif] = dict(tp=tp,\n",
    "                          tn=tn,\n",
    "                          fp=fp,\n",
    "                          fn=fn,\n",
    "                          tp_rate=tp_rate,\n",
    "                          fp_rate=fp_rate)\n",
    "counts = pd.DataFrame(records).T\n",
    "motif_enrich_df = pd.concat([motif_enrich_df, counts], axis=1, sort=True)"
   ]
  },
  {
   "cell_type": "code",
   "execution_count": 16,
   "metadata": {
    "ExecuteTime": {
     "end_time": "2020-01-16T05:27:35.123948Z",
     "start_time": "2020-01-16T05:27:35.120879Z"
    },
    "papermill": {
     "duration": 0.015991,
     "end_time": "2020-01-14T06:43:42.718687",
     "exception": false,
     "start_time": "2020-01-14T06:43:42.702696",
     "status": "completed"
    },
    "tags": []
   },
   "outputs": [],
   "source": [
    "motif_enrich_df['Group'] = group"
   ]
  },
  {
   "cell_type": "code",
   "execution_count": 17,
   "metadata": {
    "ExecuteTime": {
     "end_time": "2020-01-16T05:27:35.130778Z",
     "start_time": "2020-01-16T05:27:35.125315Z"
    },
    "papermill": {
     "duration": 0.017882,
     "end_time": "2020-01-14T06:43:42.746440",
     "exception": false,
     "start_time": "2020-01-14T06:43:42.728558",
     "status": "completed"
    },
    "tags": []
   },
   "outputs": [
    {
     "data": {
      "text/plain": [
       "29"
      ]
     },
     "execution_count": 17,
     "metadata": {},
     "output_type": "execute_result"
    }
   ],
   "source": [
    "# final filter\n",
    "filtered_motif_df = motif_enrich_df[(motif_enrich_df['oddsratio'] > or_cutoff)\n",
    "                                    &\n",
    "                                    (motif_enrich_df['-lgp'] > neg_lgp_cutoff)]\n",
    "filtered_motif_df.shape[0]"
   ]
  },
  {
   "cell_type": "code",
   "execution_count": 18,
   "metadata": {
    "ExecuteTime": {
     "end_time": "2020-01-16T05:27:35.135738Z",
     "start_time": "2020-01-16T05:27:35.131946Z"
    },
    "papermill": {
     "duration": 0.016725,
     "end_time": "2020-01-14T06:43:42.772859",
     "exception": false,
     "start_time": "2020-01-14T06:43:42.756134",
     "status": "completed"
    },
    "tags": []
   },
   "outputs": [
    {
     "name": "stderr",
     "output_type": "stream",
     "text": [
      "/home/hanliu/miniconda3/envs/clustering/lib/python3.7/site-packages/ipykernel_launcher.py:1: FutureWarning: to_msgpack is deprecated and will be removed in a future version.\n",
      "It is recommended to use pyarrow for on-the-wire transmission of pandas objects.\n",
      "  \"\"\"Entry point for launching an IPython kernel.\n"
     ]
    }
   ],
   "source": [
    "motif_enrich_df.to_msgpack(output_dir / f'{group}.motif_enrichment.msg')"
   ]
  },
  {
   "cell_type": "code",
   "execution_count": 19,
   "metadata": {
    "ExecuteTime": {
     "end_time": "2020-01-16T05:27:35.144329Z",
     "start_time": "2020-01-16T05:27:35.136900Z"
    },
    "papermill": {
     "duration": 0.020363,
     "end_time": "2020-01-14T06:43:42.803267",
     "exception": false,
     "start_time": "2020-01-14T06:43:42.782904",
     "status": "completed"
    },
    "tags": []
   },
   "outputs": [],
   "source": [
    "pybedtools.cleanup()"
   ]
  },
  {
   "cell_type": "code",
   "execution_count": 20,
   "metadata": {
    "ExecuteTime": {
     "end_time": "2020-01-16T05:27:35.163424Z",
     "start_time": "2020-01-16T05:27:35.145477Z"
    },
    "papermill": {
     "duration": 0.031286,
     "end_time": "2020-01-14T06:43:42.845347",
     "exception": false,
     "start_time": "2020-01-14T06:43:42.814061",
     "status": "completed"
    },
    "tags": []
   },
   "outputs": [
    {
     "data": {
      "text/html": [
       "<div>\n",
       "<style scoped>\n",
       "    .dataframe tbody tr th:only-of-type {\n",
       "        vertical-align: middle;\n",
       "    }\n",
       "\n",
       "    .dataframe tbody tr th {\n",
       "        vertical-align: top;\n",
       "    }\n",
       "\n",
       "    .dataframe thead th {\n",
       "        text-align: right;\n",
       "    }\n",
       "</style>\n",
       "<table border=\"1\" class=\"dataframe\">\n",
       "  <thead>\n",
       "    <tr style=\"text-align: right;\">\n",
       "      <th></th>\n",
       "      <th>oddsratio</th>\n",
       "      <th>p_value</th>\n",
       "      <th>adj_p</th>\n",
       "      <th>-lgp</th>\n",
       "      <th>tp</th>\n",
       "      <th>tn</th>\n",
       "      <th>fp</th>\n",
       "      <th>fn</th>\n",
       "      <th>tp_rate</th>\n",
       "      <th>fp_rate</th>\n",
       "      <th>Group</th>\n",
       "    </tr>\n",
       "  </thead>\n",
       "  <tbody>\n",
       "    <tr>\n",
       "      <th>MA0052.4</th>\n",
       "      <td>1.958958</td>\n",
       "      <td>2.199583e-20</td>\n",
       "      <td>6.082694e-19</td>\n",
       "      <td>18.215904</td>\n",
       "      <td>246.0</td>\n",
       "      <td>13178.0</td>\n",
       "      <td>3247.0</td>\n",
       "      <td>340739.0</td>\n",
       "      <td>0.018325</td>\n",
       "      <td>0.009439</td>\n",
       "      <td>IT-L23+AI</td>\n",
       "    </tr>\n",
       "    <tr>\n",
       "      <th>MA0091.1</th>\n",
       "      <td>1.908920</td>\n",
       "      <td>2.745148e-14</td>\n",
       "      <td>6.168005e-13</td>\n",
       "      <td>12.209855</td>\n",
       "      <td>177.0</td>\n",
       "      <td>13247.0</td>\n",
       "      <td>2391.0</td>\n",
       "      <td>341595.0</td>\n",
       "      <td>0.013185</td>\n",
       "      <td>0.006951</td>\n",
       "      <td>IT-L23+AI</td>\n",
       "    </tr>\n",
       "    <tr>\n",
       "      <th>MA0461.2</th>\n",
       "      <td>2.748821</td>\n",
       "      <td>8.195528e-51</td>\n",
       "      <td>1.178517e-48</td>\n",
       "      <td>47.928664</td>\n",
       "      <td>320.0</td>\n",
       "      <td>13104.0</td>\n",
       "      <td>3029.0</td>\n",
       "      <td>340957.0</td>\n",
       "      <td>0.023838</td>\n",
       "      <td>0.008806</td>\n",
       "      <td>IT-L23+AI</td>\n",
       "    </tr>\n",
       "    <tr>\n",
       "      <th>MA0497.1</th>\n",
       "      <td>1.934584</td>\n",
       "      <td>3.790986e-22</td>\n",
       "      <td>1.135716e-20</td>\n",
       "      <td>19.944730</td>\n",
       "      <td>279.0</td>\n",
       "      <td>13145.0</td>\n",
       "      <td>3733.0</td>\n",
       "      <td>340253.0</td>\n",
       "      <td>0.020784</td>\n",
       "      <td>0.010852</td>\n",
       "      <td>IT-L23+AI</td>\n",
       "    </tr>\n",
       "    <tr>\n",
       "      <th>MA0509.2</th>\n",
       "      <td>3.782704</td>\n",
       "      <td>9.268399e-50</td>\n",
       "      <td>9.519969e-48</td>\n",
       "      <td>47.021364</td>\n",
       "      <td>198.0</td>\n",
       "      <td>13226.0</td>\n",
       "      <td>1356.0</td>\n",
       "      <td>342630.0</td>\n",
       "      <td>0.014750</td>\n",
       "      <td>0.003942</td>\n",
       "      <td>IT-L23+AI</td>\n",
       "    </tr>\n",
       "    <tr>\n",
       "      <th>MA0601.1</th>\n",
       "      <td>1.785538</td>\n",
       "      <td>3.236836e-15</td>\n",
       "      <td>7.507371e-14</td>\n",
       "      <td>13.124512</td>\n",
       "      <td>232.0</td>\n",
       "      <td>13192.0</td>\n",
       "      <td>3355.0</td>\n",
       "      <td>340631.0</td>\n",
       "      <td>0.017282</td>\n",
       "      <td>0.009753</td>\n",
       "      <td>IT-L23+AI</td>\n",
       "    </tr>\n",
       "    <tr>\n",
       "      <th>MA0607.1</th>\n",
       "      <td>2.019404</td>\n",
       "      <td>5.786533e-74</td>\n",
       "      <td>1.386839e-71</td>\n",
       "      <td>70.857974</td>\n",
       "      <td>916.0</td>\n",
       "      <td>12508.0</td>\n",
       "      <td>12038.0</td>\n",
       "      <td>331948.0</td>\n",
       "      <td>0.068236</td>\n",
       "      <td>0.034996</td>\n",
       "      <td>IT-L23+AI</td>\n",
       "    </tr>\n",
       "    <tr>\n",
       "      <th>MA0619.1</th>\n",
       "      <td>1.831503</td>\n",
       "      <td>1.640911e-121</td>\n",
       "      <td>1.179815e-118</td>\n",
       "      <td>117.928186</td>\n",
       "      <td>2144.0</td>\n",
       "      <td>11280.0</td>\n",
       "      <td>32342.0</td>\n",
       "      <td>311644.0</td>\n",
       "      <td>0.159714</td>\n",
       "      <td>0.094021</td>\n",
       "      <td>IT-L23+AI</td>\n",
       "    </tr>\n",
       "    <tr>\n",
       "      <th>MA0623.2</th>\n",
       "      <td>2.573531</td>\n",
       "      <td>2.177274e-35</td>\n",
       "      <td>9.784124e-34</td>\n",
       "      <td>33.009478</td>\n",
       "      <td>245.0</td>\n",
       "      <td>13179.0</td>\n",
       "      <td>2467.0</td>\n",
       "      <td>341519.0</td>\n",
       "      <td>0.018251</td>\n",
       "      <td>0.007172</td>\n",
       "      <td>IT-L23+AI</td>\n",
       "    </tr>\n",
       "    <tr>\n",
       "      <th>MA0633.1</th>\n",
       "      <td>2.613728</td>\n",
       "      <td>2.522528e-50</td>\n",
       "      <td>3.022830e-48</td>\n",
       "      <td>47.519586</td>\n",
       "      <td>346.0</td>\n",
       "      <td>13078.0</td>\n",
       "      <td>3447.0</td>\n",
       "      <td>340539.0</td>\n",
       "      <td>0.025775</td>\n",
       "      <td>0.010021</td>\n",
       "      <td>IT-L23+AI</td>\n",
       "    </tr>\n",
       "    <tr>\n",
       "      <th>MA0668.1</th>\n",
       "      <td>3.200524</td>\n",
       "      <td>9.047356e-40</td>\n",
       "      <td>5.420874e-38</td>\n",
       "      <td>37.265931</td>\n",
       "      <td>195.0</td>\n",
       "      <td>13229.0</td>\n",
       "      <td>1577.0</td>\n",
       "      <td>342409.0</td>\n",
       "      <td>0.014526</td>\n",
       "      <td>0.004584</td>\n",
       "      <td>IT-L23+AI</td>\n",
       "    </tr>\n",
       "    <tr>\n",
       "      <th>MA0669.1</th>\n",
       "      <td>2.617600</td>\n",
       "      <td>2.217014e-22</td>\n",
       "      <td>7.245605e-21</td>\n",
       "      <td>20.139925</td>\n",
       "      <td>145.0</td>\n",
       "      <td>13279.0</td>\n",
       "      <td>1429.0</td>\n",
       "      <td>342557.0</td>\n",
       "      <td>0.010802</td>\n",
       "      <td>0.004154</td>\n",
       "      <td>IT-L23+AI</td>\n",
       "    </tr>\n",
       "    <tr>\n",
       "      <th>MA0678.1</th>\n",
       "      <td>3.765404</td>\n",
       "      <td>1.008236e-38</td>\n",
       "      <td>5.178013e-37</td>\n",
       "      <td>36.285837</td>\n",
       "      <td>153.0</td>\n",
       "      <td>13271.0</td>\n",
       "      <td>1050.0</td>\n",
       "      <td>342936.0</td>\n",
       "      <td>0.011397</td>\n",
       "      <td>0.003052</td>\n",
       "      <td>IT-L23+AI</td>\n",
       "    </tr>\n",
       "    <tr>\n",
       "      <th>MA0703.2</th>\n",
       "      <td>1.626161</td>\n",
       "      <td>5.271076e-12</td>\n",
       "      <td>8.813729e-11</td>\n",
       "      <td>10.054840</td>\n",
       "      <td>244.0</td>\n",
       "      <td>13180.0</td>\n",
       "      <td>3872.0</td>\n",
       "      <td>340114.0</td>\n",
       "      <td>0.018176</td>\n",
       "      <td>0.011256</td>\n",
       "      <td>IT-L23+AI</td>\n",
       "    </tr>\n",
       "    <tr>\n",
       "      <th>MA0785.1</th>\n",
       "      <td>1.792550</td>\n",
       "      <td>2.758200e-12</td>\n",
       "      <td>4.721775e-11</td>\n",
       "      <td>10.325895</td>\n",
       "      <td>179.0</td>\n",
       "      <td>13245.0</td>\n",
       "      <td>2574.0</td>\n",
       "      <td>341412.0</td>\n",
       "      <td>0.013334</td>\n",
       "      <td>0.007483</td>\n",
       "      <td>IT-L23+AI</td>\n",
       "    </tr>\n",
       "    <tr>\n",
       "      <th>MA0798.2</th>\n",
       "      <td>3.532968</td>\n",
       "      <td>8.562686e-35</td>\n",
       "      <td>3.621512e-33</td>\n",
       "      <td>32.441110</td>\n",
       "      <td>148.0</td>\n",
       "      <td>13276.0</td>\n",
       "      <td>1082.0</td>\n",
       "      <td>342904.0</td>\n",
       "      <td>0.011025</td>\n",
       "      <td>0.003145</td>\n",
       "      <td>IT-L23+AI</td>\n",
       "    </tr>\n",
       "    <tr>\n",
       "      <th>MA0799.1</th>\n",
       "      <td>2.914706</td>\n",
       "      <td>9.625937e-17</td>\n",
       "      <td>2.471803e-15</td>\n",
       "      <td>14.606986</td>\n",
       "      <td>88.0</td>\n",
       "      <td>13336.0</td>\n",
       "      <td>777.0</td>\n",
       "      <td>343209.0</td>\n",
       "      <td>0.006555</td>\n",
       "      <td>0.002259</td>\n",
       "      <td>IT-L23+AI</td>\n",
       "    </tr>\n",
       "    <tr>\n",
       "      <th>MA0817.1</th>\n",
       "      <td>3.272564</td>\n",
       "      <td>3.743703e-22</td>\n",
       "      <td>1.135716e-20</td>\n",
       "      <td>19.944730</td>\n",
       "      <td>101.0</td>\n",
       "      <td>13323.0</td>\n",
       "      <td>795.0</td>\n",
       "      <td>343191.0</td>\n",
       "      <td>0.007524</td>\n",
       "      <td>0.002311</td>\n",
       "      <td>IT-L23+AI</td>\n",
       "    </tr>\n",
       "    <tr>\n",
       "      <th>MA0818.1</th>\n",
       "      <td>2.800574</td>\n",
       "      <td>2.296947e-47</td>\n",
       "      <td>1.835006e-45</td>\n",
       "      <td>44.736363</td>\n",
       "      <td>288.0</td>\n",
       "      <td>13136.0</td>\n",
       "      <td>2672.0</td>\n",
       "      <td>341314.0</td>\n",
       "      <td>0.021454</td>\n",
       "      <td>0.007768</td>\n",
       "      <td>IT-L23+AI</td>\n",
       "    </tr>\n",
       "    <tr>\n",
       "      <th>MA0826.1</th>\n",
       "      <td>3.252626</td>\n",
       "      <td>5.914081e-29</td>\n",
       "      <td>2.362347e-27</td>\n",
       "      <td>26.626656</td>\n",
       "      <td>136.0</td>\n",
       "      <td>13288.0</td>\n",
       "      <td>1079.0</td>\n",
       "      <td>342907.0</td>\n",
       "      <td>0.010131</td>\n",
       "      <td>0.003137</td>\n",
       "      <td>IT-L23+AI</td>\n",
       "    </tr>\n",
       "    <tr>\n",
       "      <th>MA0827.1</th>\n",
       "      <td>3.149913</td>\n",
       "      <td>4.627096e-43</td>\n",
       "      <td>3.326882e-41</td>\n",
       "      <td>40.477963</td>\n",
       "      <td>217.0</td>\n",
       "      <td>13207.0</td>\n",
       "      <td>1785.0</td>\n",
       "      <td>342201.0</td>\n",
       "      <td>0.016165</td>\n",
       "      <td>0.005189</td>\n",
       "      <td>IT-L23+AI</td>\n",
       "    </tr>\n",
       "    <tr>\n",
       "      <th>MA1109.1</th>\n",
       "      <td>2.286957</td>\n",
       "      <td>9.960359e-58</td>\n",
       "      <td>1.790374e-55</td>\n",
       "      <td>54.747056</td>\n",
       "      <td>521.0</td>\n",
       "      <td>12903.0</td>\n",
       "      <td>5968.0</td>\n",
       "      <td>338018.0</td>\n",
       "      <td>0.038811</td>\n",
       "      <td>0.017350</td>\n",
       "      <td>IT-L23+AI</td>\n",
       "    </tr>\n",
       "    <tr>\n",
       "      <th>MA1115.1</th>\n",
       "      <td>1.690712</td>\n",
       "      <td>7.527865e-24</td>\n",
       "      <td>2.706267e-22</td>\n",
       "      <td>21.567629</td>\n",
       "      <td>462.0</td>\n",
       "      <td>12962.0</td>\n",
       "      <td>7102.0</td>\n",
       "      <td>336884.0</td>\n",
       "      <td>0.034416</td>\n",
       "      <td>0.020646</td>\n",
       "      <td>IT-L23+AI</td>\n",
       "    </tr>\n",
       "    <tr>\n",
       "      <th>MA1468.1</th>\n",
       "      <td>2.693179</td>\n",
       "      <td>1.092192e-47</td>\n",
       "      <td>9.816077e-46</td>\n",
       "      <td>45.008062</td>\n",
       "      <td>310.0</td>\n",
       "      <td>13114.0</td>\n",
       "      <td>2993.0</td>\n",
       "      <td>340993.0</td>\n",
       "      <td>0.023093</td>\n",
       "      <td>0.008701</td>\n",
       "      <td>IT-L23+AI</td>\n",
       "    </tr>\n",
       "    <tr>\n",
       "      <th>MA1524.1</th>\n",
       "      <td>1.897371</td>\n",
       "      <td>7.137322e-24</td>\n",
       "      <td>2.700913e-22</td>\n",
       "      <td>21.568489</td>\n",
       "      <td>320.0</td>\n",
       "      <td>13104.0</td>\n",
       "      <td>4371.0</td>\n",
       "      <td>339615.0</td>\n",
       "      <td>0.023838</td>\n",
       "      <td>0.012707</td>\n",
       "      <td>IT-L23+AI</td>\n",
       "    </tr>\n",
       "    <tr>\n",
       "      <th>MA1528.1</th>\n",
       "      <td>2.121350</td>\n",
       "      <td>1.243839e-13</td>\n",
       "      <td>2.555201e-12</td>\n",
       "      <td>11.592575</td>\n",
       "      <td>128.0</td>\n",
       "      <td>13296.0</td>\n",
       "      <td>1554.0</td>\n",
       "      <td>342432.0</td>\n",
       "      <td>0.009535</td>\n",
       "      <td>0.004518</td>\n",
       "      <td>IT-L23+AI</td>\n",
       "    </tr>\n",
       "    <tr>\n",
       "      <th>MA1568.1</th>\n",
       "      <td>2.935058</td>\n",
       "      <td>1.065927e-15</td>\n",
       "      <td>2.554671e-14</td>\n",
       "      <td>13.592665</td>\n",
       "      <td>81.0</td>\n",
       "      <td>13343.0</td>\n",
       "      <td>710.0</td>\n",
       "      <td>343276.0</td>\n",
       "      <td>0.006034</td>\n",
       "      <td>0.002064</td>\n",
       "      <td>IT-L23+AI</td>\n",
       "    </tr>\n",
       "    <tr>\n",
       "      <th>MA1570.1</th>\n",
       "      <td>1.899505</td>\n",
       "      <td>8.955855e-38</td>\n",
       "      <td>4.292840e-36</td>\n",
       "      <td>35.367255</td>\n",
       "      <td>526.0</td>\n",
       "      <td>12898.0</td>\n",
       "      <td>7230.0</td>\n",
       "      <td>336756.0</td>\n",
       "      <td>0.039184</td>\n",
       "      <td>0.021018</td>\n",
       "      <td>IT-L23+AI</td>\n",
       "    </tr>\n",
       "    <tr>\n",
       "      <th>MA1642.1</th>\n",
       "      <td>2.205421</td>\n",
       "      <td>7.552198e-99</td>\n",
       "      <td>2.715015e-96</td>\n",
       "      <td>95.566228</td>\n",
       "      <td>1003.0</td>\n",
       "      <td>12421.0</td>\n",
       "      <td>12150.0</td>\n",
       "      <td>331836.0</td>\n",
       "      <td>0.074717</td>\n",
       "      <td>0.035321</td>\n",
       "      <td>IT-L23+AI</td>\n",
       "    </tr>\n",
       "  </tbody>\n",
       "</table>\n",
       "</div>"
      ],
      "text/plain": [
       "          oddsratio        p_value          adj_p        -lgp      tp  \\\n",
       "MA0052.4   1.958958   2.199583e-20   6.082694e-19   18.215904   246.0   \n",
       "MA0091.1   1.908920   2.745148e-14   6.168005e-13   12.209855   177.0   \n",
       "MA0461.2   2.748821   8.195528e-51   1.178517e-48   47.928664   320.0   \n",
       "MA0497.1   1.934584   3.790986e-22   1.135716e-20   19.944730   279.0   \n",
       "MA0509.2   3.782704   9.268399e-50   9.519969e-48   47.021364   198.0   \n",
       "MA0601.1   1.785538   3.236836e-15   7.507371e-14   13.124512   232.0   \n",
       "MA0607.1   2.019404   5.786533e-74   1.386839e-71   70.857974   916.0   \n",
       "MA0619.1   1.831503  1.640911e-121  1.179815e-118  117.928186  2144.0   \n",
       "MA0623.2   2.573531   2.177274e-35   9.784124e-34   33.009478   245.0   \n",
       "MA0633.1   2.613728   2.522528e-50   3.022830e-48   47.519586   346.0   \n",
       "MA0668.1   3.200524   9.047356e-40   5.420874e-38   37.265931   195.0   \n",
       "MA0669.1   2.617600   2.217014e-22   7.245605e-21   20.139925   145.0   \n",
       "MA0678.1   3.765404   1.008236e-38   5.178013e-37   36.285837   153.0   \n",
       "MA0703.2   1.626161   5.271076e-12   8.813729e-11   10.054840   244.0   \n",
       "MA0785.1   1.792550   2.758200e-12   4.721775e-11   10.325895   179.0   \n",
       "MA0798.2   3.532968   8.562686e-35   3.621512e-33   32.441110   148.0   \n",
       "MA0799.1   2.914706   9.625937e-17   2.471803e-15   14.606986    88.0   \n",
       "MA0817.1   3.272564   3.743703e-22   1.135716e-20   19.944730   101.0   \n",
       "MA0818.1   2.800574   2.296947e-47   1.835006e-45   44.736363   288.0   \n",
       "MA0826.1   3.252626   5.914081e-29   2.362347e-27   26.626656   136.0   \n",
       "MA0827.1   3.149913   4.627096e-43   3.326882e-41   40.477963   217.0   \n",
       "MA1109.1   2.286957   9.960359e-58   1.790374e-55   54.747056   521.0   \n",
       "MA1115.1   1.690712   7.527865e-24   2.706267e-22   21.567629   462.0   \n",
       "MA1468.1   2.693179   1.092192e-47   9.816077e-46   45.008062   310.0   \n",
       "MA1524.1   1.897371   7.137322e-24   2.700913e-22   21.568489   320.0   \n",
       "MA1528.1   2.121350   1.243839e-13   2.555201e-12   11.592575   128.0   \n",
       "MA1568.1   2.935058   1.065927e-15   2.554671e-14   13.592665    81.0   \n",
       "MA1570.1   1.899505   8.955855e-38   4.292840e-36   35.367255   526.0   \n",
       "MA1642.1   2.205421   7.552198e-99   2.715015e-96   95.566228  1003.0   \n",
       "\n",
       "               tn       fp        fn   tp_rate   fp_rate      Group  \n",
       "MA0052.4  13178.0   3247.0  340739.0  0.018325  0.009439  IT-L23+AI  \n",
       "MA0091.1  13247.0   2391.0  341595.0  0.013185  0.006951  IT-L23+AI  \n",
       "MA0461.2  13104.0   3029.0  340957.0  0.023838  0.008806  IT-L23+AI  \n",
       "MA0497.1  13145.0   3733.0  340253.0  0.020784  0.010852  IT-L23+AI  \n",
       "MA0509.2  13226.0   1356.0  342630.0  0.014750  0.003942  IT-L23+AI  \n",
       "MA0601.1  13192.0   3355.0  340631.0  0.017282  0.009753  IT-L23+AI  \n",
       "MA0607.1  12508.0  12038.0  331948.0  0.068236  0.034996  IT-L23+AI  \n",
       "MA0619.1  11280.0  32342.0  311644.0  0.159714  0.094021  IT-L23+AI  \n",
       "MA0623.2  13179.0   2467.0  341519.0  0.018251  0.007172  IT-L23+AI  \n",
       "MA0633.1  13078.0   3447.0  340539.0  0.025775  0.010021  IT-L23+AI  \n",
       "MA0668.1  13229.0   1577.0  342409.0  0.014526  0.004584  IT-L23+AI  \n",
       "MA0669.1  13279.0   1429.0  342557.0  0.010802  0.004154  IT-L23+AI  \n",
       "MA0678.1  13271.0   1050.0  342936.0  0.011397  0.003052  IT-L23+AI  \n",
       "MA0703.2  13180.0   3872.0  340114.0  0.018176  0.011256  IT-L23+AI  \n",
       "MA0785.1  13245.0   2574.0  341412.0  0.013334  0.007483  IT-L23+AI  \n",
       "MA0798.2  13276.0   1082.0  342904.0  0.011025  0.003145  IT-L23+AI  \n",
       "MA0799.1  13336.0    777.0  343209.0  0.006555  0.002259  IT-L23+AI  \n",
       "MA0817.1  13323.0    795.0  343191.0  0.007524  0.002311  IT-L23+AI  \n",
       "MA0818.1  13136.0   2672.0  341314.0  0.021454  0.007768  IT-L23+AI  \n",
       "MA0826.1  13288.0   1079.0  342907.0  0.010131  0.003137  IT-L23+AI  \n",
       "MA0827.1  13207.0   1785.0  342201.0  0.016165  0.005189  IT-L23+AI  \n",
       "MA1109.1  12903.0   5968.0  338018.0  0.038811  0.017350  IT-L23+AI  \n",
       "MA1115.1  12962.0   7102.0  336884.0  0.034416  0.020646  IT-L23+AI  \n",
       "MA1468.1  13114.0   2993.0  340993.0  0.023093  0.008701  IT-L23+AI  \n",
       "MA1524.1  13104.0   4371.0  339615.0  0.023838  0.012707  IT-L23+AI  \n",
       "MA1528.1  13296.0   1554.0  342432.0  0.009535  0.004518  IT-L23+AI  \n",
       "MA1568.1  13343.0    710.0  343276.0  0.006034  0.002064  IT-L23+AI  \n",
       "MA1570.1  12898.0   7230.0  336756.0  0.039184  0.021018  IT-L23+AI  \n",
       "MA1642.1  12421.0  12150.0  331836.0  0.074717  0.035321  IT-L23+AI  "
      ]
     },
     "execution_count": 20,
     "metadata": {},
     "output_type": "execute_result"
    }
   ],
   "source": [
    "filtered_motif_df"
   ]
  },
  {
   "cell_type": "code",
   "execution_count": null,
   "metadata": {
    "papermill": {
     "duration": 0.010581,
     "end_time": "2020-01-14T06:43:42.866514",
     "exception": false,
     "start_time": "2020-01-14T06:43:42.855933",
     "status": "completed"
    },
    "tags": []
   },
   "outputs": [],
   "source": []
  }
 ],
 "metadata": {
  "hide_input": false,
  "kernelspec": {
   "display_name": "Python 3",
   "language": "python",
   "name": "python3"
  },
  "language_info": {
   "codemirror_mode": {
    "name": "ipython",
    "version": 3
   },
   "file_extension": ".py",
   "mimetype": "text/x-python",
   "name": "python",
   "nbconvert_exporter": "python",
   "pygments_lexer": "ipython3",
   "version": "3.7.3"
  },
  "papermill": {
   "duration": 12.296668,
   "end_time": "2020-01-14T06:43:43.283657",
   "environment_variables": {},
   "exception": null,
   "input_path": "4.MotifEnrichment.ipynb",
   "output_path": "/home/hanliu/project/mouse_rostral_brain/DMR/ITSpatial_by_layer/IT-L6/Recipe/4.MotifEnrichment.IT-L23+AI.ipynb",
   "parameters": {
    "dmr_hits_path": "/home/hanliu/project/mouse_rostral_brain/DMR/ITSpatial_by_layer/IT-L23/HypoDMR/IT-L23+AI.DMS1.bed",
    "group": "IT-L23+AI",
    "mask_quantile_to99": 0.9,
    "motif_hits_path": "/home/hanliu/project/mouse_rostral_brain/DMR/ITSpatial_by_layer/IT-L23/MotifScan.h5ad",
    "neg_lgp_cutoff": 10,
    "or_cutoff": 1.5,
    "output_dir": "/home/hanliu/project/mouse_rostral_brain/DMR/ITSpatial_by_layer/IT-L23/MotifEnrichment"
   },
   "start_time": "2020-01-14T06:43:30.986989",
   "version": "1.0.1"
  },
  "toc": {
   "base_numbering": 1,
   "nav_menu": {},
   "number_sections": true,
   "sideBar": true,
   "skip_h1_title": true,
   "title_cell": "Table of Contents",
   "title_sidebar": "Contents",
   "toc_cell": false,
   "toc_position": {},
   "toc_section_display": true,
   "toc_window_display": true
  }
 },
 "nbformat": 4,
 "nbformat_minor": 2
}
