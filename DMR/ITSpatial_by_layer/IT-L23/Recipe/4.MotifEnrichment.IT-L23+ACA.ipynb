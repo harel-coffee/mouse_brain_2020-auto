{
 "cells": [
  {
   "cell_type": "markdown",
   "metadata": {
    "papermill": {
     "duration": 0.009649,
     "end_time": "2020-01-14T06:43:18.619000",
     "exception": false,
     "start_time": "2020-01-14T06:43:18.609351",
     "status": "completed"
    },
    "tags": []
   },
   "source": [
    "# Motif Enrichment\n",
    "- The motif hits matrix save the max loglikelyhood score of a motif in that DMR\n",
    "- Before run the motif enrichment, I filter the scores for each motif using cutoff defined by\n",
    "    - `np.quantile(motif_score[motif_score > 0]) * mask_quantile_to99`\n",
    "- This filter will remove hits with low score, which is likely to be false positive\n",
    "- Its likely boosting the significance of real enrichment"
   ]
  },
  {
   "cell_type": "code",
   "execution_count": 1,
   "metadata": {
    "ExecuteTime": {
     "end_time": "2020-01-16T05:27:21.525069Z",
     "start_time": "2020-01-16T05:27:20.838277Z"
    },
    "papermill": {
     "duration": 0.668579,
     "end_time": "2020-01-14T06:43:19.298089",
     "exception": false,
     "start_time": "2020-01-14T06:43:18.629510",
     "status": "completed"
    },
    "tags": []
   },
   "outputs": [],
   "source": [
    "from concurrent.futures import ProcessPoolExecutor, as_completed\n",
    "import anndata\n",
    "import matplotlib.pyplot as plt\n",
    "import numpy as np\n",
    "import pandas as pd\n",
    "import pybedtools\n",
    "import scipy.stats as stats\n",
    "import seaborn as sns\n",
    "from scipy.sparse import csr_matrix\n",
    "from statsmodels.stats.multitest import multipletests\n",
    "import pathlib"
   ]
  },
  {
   "cell_type": "code",
   "execution_count": 2,
   "metadata": {
    "ExecuteTime": {
     "end_time": "2020-01-16T05:27:21.529630Z",
     "start_time": "2020-01-16T05:27:21.526916Z"
    },
    "papermill": {
     "duration": 0.01579,
     "end_time": "2020-01-14T06:43:19.324231",
     "exception": false,
     "start_time": "2020-01-14T06:43:19.308441",
     "status": "completed"
    },
    "tags": [
     "parameters"
    ]
   },
   "outputs": [],
   "source": [
    "mask_quantile_to99 = 0.9\n",
    "or_cutoff = 1.5\n",
    "neg_lgp_cutoff = 10\n",
    "group = 'IT-L23+ACA'\n",
    "\n",
    "motif_hits_path = '/home/hanliu/project/mouse_rostral_brain/DMR/ITSpatial_by_layer/IT-L23/MotifScan.h5ad'\n",
    "dmr_hits_path = f'/home/hanliu/project/mouse_rostral_brain/DMR/ITSpatial_by_layer/IT-L23/HypoDMR/{group}.DMS1.bed'\n",
    "output_dir = '/home/hanliu/project/mouse_rostral_brain/DMR/ITSpatial_by_layer/IT-L23/MotifEnrichment'\n"
   ]
  },
  {
   "cell_type": "code",
   "execution_count": 3,
   "metadata": {
    "ExecuteTime": {
     "end_time": "2020-01-16T05:27:21.533276Z",
     "start_time": "2020-01-16T05:27:21.530875Z"
    },
    "papermill": {
     "duration": 0.014973,
     "end_time": "2020-01-14T06:43:19.348660",
     "exception": false,
     "start_time": "2020-01-14T06:43:19.333687",
     "status": "completed"
    },
    "tags": [
     "injected-parameters"
    ]
   },
   "outputs": [],
   "source": [
    "# Parameters\n",
    "mask_quantile_to99 = 0.9\n",
    "or_cutoff = 1.5\n",
    "neg_lgp_cutoff = 10\n",
    "group = \"IT-L23+ACA\"\n",
    "motif_hits_path = \"/home/hanliu/project/mouse_rostral_brain/DMR/ITSpatial_by_layer/IT-L23/MotifScan.h5ad\"\n",
    "dmr_hits_path = \"/home/hanliu/project/mouse_rostral_brain/DMR/ITSpatial_by_layer/IT-L23/HypoDMR/IT-L23+ACA.DMS1.bed\"\n",
    "output_dir = \"/home/hanliu/project/mouse_rostral_brain/DMR/ITSpatial_by_layer/IT-L23/MotifEnrichment\"\n"
   ]
  },
  {
   "cell_type": "code",
   "execution_count": 4,
   "metadata": {
    "ExecuteTime": {
     "end_time": "2020-01-16T05:27:21.536453Z",
     "start_time": "2020-01-16T05:27:21.534397Z"
    },
    "papermill": {
     "duration": 0.014078,
     "end_time": "2020-01-14T06:43:19.372181",
     "exception": false,
     "start_time": "2020-01-14T06:43:19.358103",
     "status": "completed"
    },
    "tags": []
   },
   "outputs": [],
   "source": [
    "output_dir = pathlib.Path(output_dir)\n",
    "output_dir.mkdir(exist_ok=True)"
   ]
  },
  {
   "cell_type": "markdown",
   "metadata": {
    "papermill": {
     "duration": 0.009345,
     "end_time": "2020-01-14T06:43:19.390825",
     "exception": false,
     "start_time": "2020-01-14T06:43:19.381480",
     "status": "completed"
    },
    "tags": []
   },
   "source": [
    "## DMR hits"
   ]
  },
  {
   "cell_type": "code",
   "execution_count": 5,
   "metadata": {
    "ExecuteTime": {
     "end_time": "2020-01-16T05:27:21.576755Z",
     "start_time": "2020-01-16T05:27:21.537577Z"
    },
    "papermill": {
     "duration": 0.080755,
     "end_time": "2020-01-14T06:43:19.480729",
     "exception": false,
     "start_time": "2020-01-14T06:43:19.399974",
     "status": "completed"
    },
    "tags": []
   },
   "outputs": [
    {
     "data": {
      "text/html": [
       "<div>\n",
       "<style scoped>\n",
       "    .dataframe tbody tr th:only-of-type {\n",
       "        vertical-align: middle;\n",
       "    }\n",
       "\n",
       "    .dataframe tbody tr th {\n",
       "        vertical-align: top;\n",
       "    }\n",
       "\n",
       "    .dataframe thead th {\n",
       "        text-align: right;\n",
       "    }\n",
       "</style>\n",
       "<table border=\"1\" class=\"dataframe\">\n",
       "  <thead>\n",
       "    <tr style=\"text-align: right;\">\n",
       "      <th></th>\n",
       "      <th>0</th>\n",
       "      <th>1</th>\n",
       "      <th>2</th>\n",
       "    </tr>\n",
       "    <tr>\n",
       "      <th>3</th>\n",
       "      <th></th>\n",
       "      <th></th>\n",
       "      <th></th>\n",
       "    </tr>\n",
       "  </thead>\n",
       "  <tbody>\n",
       "    <tr>\n",
       "      <th>DGm3c_3</th>\n",
       "      <td>chr1</td>\n",
       "      <td>3057752</td>\n",
       "      <td>3057873</td>\n",
       "    </tr>\n",
       "    <tr>\n",
       "      <th>DGm3c_13</th>\n",
       "      <td>chr1</td>\n",
       "      <td>3117711</td>\n",
       "      <td>3117711</td>\n",
       "    </tr>\n",
       "    <tr>\n",
       "      <th>DGm3c_40</th>\n",
       "      <td>chr1</td>\n",
       "      <td>3273196</td>\n",
       "      <td>3273196</td>\n",
       "    </tr>\n",
       "    <tr>\n",
       "      <th>DGm3c_43</th>\n",
       "      <td>chr1</td>\n",
       "      <td>3297316</td>\n",
       "      <td>3297413</td>\n",
       "    </tr>\n",
       "    <tr>\n",
       "      <th>DGm3c_49</th>\n",
       "      <td>chr1</td>\n",
       "      <td>3322440</td>\n",
       "      <td>3322583</td>\n",
       "    </tr>\n",
       "  </tbody>\n",
       "</table>\n",
       "</div>"
      ],
      "text/plain": [
       "             0        1        2\n",
       "3                               \n",
       "DGm3c_3   chr1  3057752  3057873\n",
       "DGm3c_13  chr1  3117711  3117711\n",
       "DGm3c_40  chr1  3273196  3273196\n",
       "DGm3c_43  chr1  3297316  3297413\n",
       "DGm3c_49  chr1  3322440  3322583"
      ]
     },
     "execution_count": 5,
     "metadata": {},
     "output_type": "execute_result"
    }
   ],
   "source": [
    "dmr_bed_df = pd.read_csv(dmr_hits_path, sep='\\t', header=None, index_col=3)\n",
    "dmr_bed_df.head()"
   ]
  },
  {
   "cell_type": "code",
   "execution_count": 6,
   "metadata": {
    "ExecuteTime": {
     "end_time": "2020-01-16T05:27:24.241858Z",
     "start_time": "2020-01-16T05:27:21.578511Z"
    },
    "papermill": {
     "duration": 2.620155,
     "end_time": "2020-01-14T06:43:22.111819",
     "exception": false,
     "start_time": "2020-01-14T06:43:19.491664",
     "status": "completed"
    },
    "tags": []
   },
   "outputs": [
    {
     "data": {
      "text/plain": [
       "AnnData object with n_obs × n_vars = 35039 × 719 \n",
       "    obs: 'chrom', 'start', 'end'"
      ]
     },
     "execution_count": 6,
     "metadata": {},
     "output_type": "execute_result"
    }
   ],
   "source": [
    "motif_hits = anndata.read_h5ad(motif_hits_path)\n",
    "motif_hits = motif_hits[dmr_bed_df.index, :].copy()\n",
    "motif_ids = motif_hits.var_names\n",
    "motif_hits.X = motif_hits.X.todense()\n",
    "motif_hits"
   ]
  },
  {
   "cell_type": "code",
   "execution_count": 7,
   "metadata": {
    "ExecuteTime": {
     "end_time": "2020-01-16T05:27:24.752936Z",
     "start_time": "2020-01-16T05:27:24.243738Z"
    },
    "papermill": {
     "duration": 0.863853,
     "end_time": "2020-01-14T06:43:22.986828",
     "exception": false,
     "start_time": "2020-01-14T06:43:22.122975",
     "status": "completed"
    },
    "tags": []
   },
   "outputs": [],
   "source": [
    "# mask small motif scores\n",
    "motif_cutoff = pd.Series(np.apply_along_axis(lambda i: np.quantile(i[i>0], 0.99) * mask_quantile_to99, \n",
    "                                             0, motif_hits.X),\n",
    "                         index=motif_hits.var_names)\n",
    "# only keep value larger than the cutoff for each motif\n",
    "motif_hits.X = np.multiply(motif_hits.X, (motif_hits.X > motif_cutoff.values[None, :]))"
   ]
  },
  {
   "cell_type": "markdown",
   "metadata": {
    "papermill": {
     "duration": 0.009938,
     "end_time": "2020-01-14T06:43:23.007807",
     "exception": false,
     "start_time": "2020-01-14T06:43:22.997869",
     "status": "completed"
    },
    "tags": []
   },
   "source": [
    "## Background Hits"
   ]
  },
  {
   "cell_type": "code",
   "execution_count": 8,
   "metadata": {
    "ExecuteTime": {
     "end_time": "2020-01-16T05:27:25.964122Z",
     "start_time": "2020-01-16T05:27:24.754654Z"
    },
    "papermill": {
     "duration": 1.117756,
     "end_time": "2020-01-14T06:43:24.135049",
     "exception": false,
     "start_time": "2020-01-14T06:43:23.017293",
     "status": "completed"
    },
    "tags": []
   },
   "outputs": [],
   "source": [
    "background_motif_hits = anndata.read_h5ad(\n",
    "    '/home/hanliu/project/mouse_rostral_brain/DMR/BackgroundDMR/MotifScan.h5ad'\n",
    ")"
   ]
  },
  {
   "cell_type": "code",
   "execution_count": 9,
   "metadata": {
    "ExecuteTime": {
     "end_time": "2020-01-16T05:27:26.969820Z",
     "start_time": "2020-01-16T05:27:25.966297Z"
    },
    "papermill": {
     "duration": 1.065421,
     "end_time": "2020-01-14T06:43:25.211661",
     "exception": false,
     "start_time": "2020-01-14T06:43:24.146240",
     "status": "completed"
    },
    "tags": []
   },
   "outputs": [],
   "source": [
    "dmr_bed = pybedtools.BedTool().from_dataframe(dmr_bed_df)\n",
    "bg_bed = pybedtools.BedTool().from_dataframe(\n",
    "    background_motif_hits.obs.reset_index().iloc[:, [1, 2, 3, 0]])"
   ]
  },
  {
   "cell_type": "code",
   "execution_count": 10,
   "metadata": {
    "ExecuteTime": {
     "end_time": "2020-01-16T05:27:28.721014Z",
     "start_time": "2020-01-16T05:27:26.971615Z"
    },
    "papermill": {
     "duration": 1.558106,
     "end_time": "2020-01-14T06:43:26.780721",
     "exception": false,
     "start_time": "2020-01-14T06:43:25.222615",
     "status": "completed"
    },
    "tags": []
   },
   "outputs": [],
   "source": [
    "# exclude background that overlap with DMR\n",
    "bg_no_overlap = bg_bed.intersect(dmr_bed, v=True)\n",
    "use_bg = bg_no_overlap.to_dataframe().iloc[:, -1].values\n",
    "background_motif_hits = background_motif_hits[use_bg, :]\n",
    "\n",
    "# make sure col in same order\n",
    "background_motif_hits = background_motif_hits[:, motif_ids].copy()"
   ]
  },
  {
   "cell_type": "code",
   "execution_count": 11,
   "metadata": {
    "ExecuteTime": {
     "end_time": "2020-01-16T05:27:31.148071Z",
     "start_time": "2020-01-16T05:27:28.723560Z"
    },
    "papermill": {
     "duration": 2.135771,
     "end_time": "2020-01-14T06:43:28.927854",
     "exception": false,
     "start_time": "2020-01-14T06:43:26.792083",
     "status": "completed"
    },
    "tags": []
   },
   "outputs": [],
   "source": [
    "judge_matrix = csr_matrix(background_motif_hits.X > motif_cutoff.values[None, :])\n",
    "background_motif_hits.X = background_motif_hits.X.multiply(judge_matrix)"
   ]
  },
  {
   "cell_type": "code",
   "execution_count": 12,
   "metadata": {
    "ExecuteTime": {
     "end_time": "2020-01-16T05:27:31.234070Z",
     "start_time": "2020-01-16T05:27:31.226966Z"
    },
    "papermill": {
     "duration": 0.017043,
     "end_time": "2020-01-14T06:43:28.956558",
     "exception": false,
     "start_time": "2020-01-14T06:43:28.939515",
     "status": "completed"
    },
    "tags": []
   },
   "outputs": [
    {
     "data": {
      "text/plain": [
       "AnnData object with n_obs × n_vars = 340989 × 719 \n",
       "    obs: 'chrom', 'start', 'end'"
      ]
     },
     "execution_count": 12,
     "metadata": {},
     "output_type": "execute_result"
    }
   ],
   "source": [
    "background_motif_hits"
   ]
  },
  {
   "cell_type": "markdown",
   "metadata": {
    "papermill": {
     "duration": 0.010149,
     "end_time": "2020-01-14T06:43:28.977023",
     "exception": false,
     "start_time": "2020-01-14T06:43:28.966874",
     "status": "completed"
    },
    "tags": []
   },
   "source": [
    "## Motif hits contingency table"
   ]
  },
  {
   "cell_type": "code",
   "execution_count": 13,
   "metadata": {
    "ExecuteTime": {
     "end_time": "2020-01-16T05:27:31.448348Z",
     "start_time": "2020-01-16T05:27:31.235598Z"
    },
    "papermill": {
     "duration": 0.289732,
     "end_time": "2020-01-14T06:43:29.277021",
     "exception": false,
     "start_time": "2020-01-14T06:43:28.987289",
     "status": "completed"
    },
    "tags": []
   },
   "outputs": [],
   "source": [
    "# calculate motif occurence, not considering hits here\n",
    "pos = (motif_hits.X > 0).sum(axis=0)\n",
    "pos_total = motif_hits.shape[0]\n",
    "\n",
    "neg = (background_motif_hits.X > 0).sum(axis=0)\n",
    "neg_total = background_motif_hits.shape[0]"
   ]
  },
  {
   "cell_type": "code",
   "execution_count": 14,
   "metadata": {
    "ExecuteTime": {
     "end_time": "2020-01-16T05:27:31.456900Z",
     "start_time": "2020-01-16T05:27:31.450456Z"
    },
    "papermill": {
     "duration": 0.062278,
     "end_time": "2020-01-14T06:43:29.351258",
     "exception": false,
     "start_time": "2020-01-14T06:43:29.288980",
     "status": "completed"
    },
    "scrolled": true,
    "tags": []
   },
   "outputs": [],
   "source": [
    "tables = {}\n",
    "for motif, _pos, _neg in zip(motif_ids, pos.A1, neg.A1):\n",
    "    table = [[_pos, pos_total - _pos], [_neg, neg_total - _neg]]\n",
    "    tables[motif] = table"
   ]
  },
  {
   "cell_type": "code",
   "execution_count": 15,
   "metadata": {
    "ExecuteTime": {
     "end_time": "2020-01-16T05:27:32.026606Z",
     "start_time": "2020-01-16T05:27:31.458781Z"
    },
    "papermill": {
     "duration": 0.963783,
     "end_time": "2020-01-14T06:43:30.325566",
     "exception": false,
     "start_time": "2020-01-14T06:43:29.361783",
     "status": "completed"
    },
    "tags": []
   },
   "outputs": [
    {
     "name": "stderr",
     "output_type": "stream",
     "text": [
      "/home/hanliu/miniconda3/envs/clustering/lib/python3.7/site-packages/pandas/core/series.py:853: RuntimeWarning: divide by zero encountered in log10\n",
      "  result = getattr(ufunc, method)(*inputs, **kwargs)\n"
     ]
    }
   ],
   "source": [
    "results = {}\n",
    "with ProcessPoolExecutor(20) as executor:\n",
    "    fs = {}\n",
    "    for motif, t in tables.items():\n",
    "        f = executor.submit(stats.fisher_exact, t, alternative='greater')\n",
    "        fs[f] = motif\n",
    "\n",
    "    for f in as_completed(fs):\n",
    "        motif = fs[f]\n",
    "        odds, p = f.result()\n",
    "        results[motif] = {'oddsratio': odds, 'p_value': p}\n",
    "motif_enrich_df = pd.DataFrame(results).T\n",
    "\n",
    "_, p, _, _ = multipletests(motif_enrich_df['p_value'], method='fdr_bh')\n",
    "motif_enrich_df['adj_p'] = p\n",
    "\n",
    "motif_enrich_df['-lgp'] = -np.log10(motif_enrich_df['adj_p']).replace(\n",
    "    -np.inf, -300)\n",
    "\n",
    "records = {}\n",
    "for motif, t in tables.items():\n",
    "    tp, tn = t[0]\n",
    "    fp, fn = t[1]\n",
    "    tp_rate = tp / pos_total\n",
    "    fp_rate = fp / neg_total\n",
    "    records[motif] = dict(tp=tp,\n",
    "                          tn=tn,\n",
    "                          fp=fp,\n",
    "                          fn=fn,\n",
    "                          tp_rate=tp_rate,\n",
    "                          fp_rate=fp_rate)\n",
    "counts = pd.DataFrame(records).T\n",
    "motif_enrich_df = pd.concat([motif_enrich_df, counts], axis=1, sort=True)"
   ]
  },
  {
   "cell_type": "code",
   "execution_count": 16,
   "metadata": {
    "ExecuteTime": {
     "end_time": "2020-01-16T05:27:32.032035Z",
     "start_time": "2020-01-16T05:27:32.028628Z"
    },
    "papermill": {
     "duration": 0.017071,
     "end_time": "2020-01-14T06:43:30.354232",
     "exception": false,
     "start_time": "2020-01-14T06:43:30.337161",
     "status": "completed"
    },
    "tags": []
   },
   "outputs": [],
   "source": [
    "motif_enrich_df['Group'] = group"
   ]
  },
  {
   "cell_type": "code",
   "execution_count": 17,
   "metadata": {
    "ExecuteTime": {
     "end_time": "2020-01-16T05:27:32.040051Z",
     "start_time": "2020-01-16T05:27:32.033592Z"
    },
    "papermill": {
     "duration": 0.022511,
     "end_time": "2020-01-14T06:43:30.387428",
     "exception": false,
     "start_time": "2020-01-14T06:43:30.364917",
     "status": "completed"
    },
    "tags": []
   },
   "outputs": [
    {
     "data": {
      "text/plain": [
       "28"
      ]
     },
     "execution_count": 17,
     "metadata": {},
     "output_type": "execute_result"
    }
   ],
   "source": [
    "# final filter\n",
    "filtered_motif_df = motif_enrich_df[(motif_enrich_df['oddsratio'] > or_cutoff)\n",
    "                                    &\n",
    "                                    (motif_enrich_df['-lgp'] > neg_lgp_cutoff)]\n",
    "filtered_motif_df.shape[0]"
   ]
  },
  {
   "cell_type": "code",
   "execution_count": 18,
   "metadata": {
    "ExecuteTime": {
     "end_time": "2020-01-16T05:27:32.046228Z",
     "start_time": "2020-01-16T05:27:32.041503Z"
    },
    "papermill": {
     "duration": 0.017431,
     "end_time": "2020-01-14T06:43:30.415305",
     "exception": false,
     "start_time": "2020-01-14T06:43:30.397874",
     "status": "completed"
    },
    "tags": []
   },
   "outputs": [
    {
     "name": "stderr",
     "output_type": "stream",
     "text": [
      "/home/hanliu/miniconda3/envs/clustering/lib/python3.7/site-packages/ipykernel_launcher.py:1: FutureWarning: to_msgpack is deprecated and will be removed in a future version.\n",
      "It is recommended to use pyarrow for on-the-wire transmission of pandas objects.\n",
      "  \"\"\"Entry point for launching an IPython kernel.\n"
     ]
    }
   ],
   "source": [
    "motif_enrich_df.to_msgpack(output_dir / f'{group}.motif_enrichment.msg')"
   ]
  },
  {
   "cell_type": "code",
   "execution_count": 19,
   "metadata": {
    "ExecuteTime": {
     "end_time": "2020-01-16T05:27:32.056696Z",
     "start_time": "2020-01-16T05:27:32.047764Z"
    },
    "papermill": {
     "duration": 0.021478,
     "end_time": "2020-01-14T06:43:30.447619",
     "exception": false,
     "start_time": "2020-01-14T06:43:30.426141",
     "status": "completed"
    },
    "tags": []
   },
   "outputs": [],
   "source": [
    "pybedtools.cleanup()"
   ]
  },
  {
   "cell_type": "code",
   "execution_count": 20,
   "metadata": {
    "ExecuteTime": {
     "end_time": "2020-01-16T05:27:32.077524Z",
     "start_time": "2020-01-16T05:27:32.058174Z"
    },
    "papermill": {
     "duration": 0.032747,
     "end_time": "2020-01-14T06:43:30.492366",
     "exception": false,
     "start_time": "2020-01-14T06:43:30.459619",
     "status": "completed"
    },
    "tags": []
   },
   "outputs": [
    {
     "data": {
      "text/html": [
       "<div>\n",
       "<style scoped>\n",
       "    .dataframe tbody tr th:only-of-type {\n",
       "        vertical-align: middle;\n",
       "    }\n",
       "\n",
       "    .dataframe tbody tr th {\n",
       "        vertical-align: top;\n",
       "    }\n",
       "\n",
       "    .dataframe thead th {\n",
       "        text-align: right;\n",
       "    }\n",
       "</style>\n",
       "<table border=\"1\" class=\"dataframe\">\n",
       "  <thead>\n",
       "    <tr style=\"text-align: right;\">\n",
       "      <th></th>\n",
       "      <th>oddsratio</th>\n",
       "      <th>p_value</th>\n",
       "      <th>adj_p</th>\n",
       "      <th>-lgp</th>\n",
       "      <th>tp</th>\n",
       "      <th>tn</th>\n",
       "      <th>fp</th>\n",
       "      <th>fn</th>\n",
       "      <th>tp_rate</th>\n",
       "      <th>fp_rate</th>\n",
       "      <th>Group</th>\n",
       "    </tr>\n",
       "  </thead>\n",
       "  <tbody>\n",
       "    <tr>\n",
       "      <th>MA0091.1</th>\n",
       "      <td>1.963527</td>\n",
       "      <td>1.877983e-35</td>\n",
       "      <td>4.091728e-34</td>\n",
       "      <td>33.388093</td>\n",
       "      <td>476.0</td>\n",
       "      <td>34563.0</td>\n",
       "      <td>2375.0</td>\n",
       "      <td>338614.0</td>\n",
       "      <td>0.013585</td>\n",
       "      <td>0.006965</td>\n",
       "      <td>IT-L23+ACA</td>\n",
       "    </tr>\n",
       "    <tr>\n",
       "      <th>MA0095.2</th>\n",
       "      <td>1.594264</td>\n",
       "      <td>6.416671e-12</td>\n",
       "      <td>9.415483e-11</td>\n",
       "      <td>10.026157</td>\n",
       "      <td>278.0</td>\n",
       "      <td>34761.0</td>\n",
       "      <td>1702.0</td>\n",
       "      <td>339287.0</td>\n",
       "      <td>0.007934</td>\n",
       "      <td>0.004991</td>\n",
       "      <td>IT-L23+ACA</td>\n",
       "    </tr>\n",
       "    <tr>\n",
       "      <th>MA0143.4</th>\n",
       "      <td>1.648813</td>\n",
       "      <td>2.614224e-87</td>\n",
       "      <td>1.105663e-85</td>\n",
       "      <td>84.956377</td>\n",
       "      <td>2156.0</td>\n",
       "      <td>32883.0</td>\n",
       "      <td>13041.0</td>\n",
       "      <td>327948.0</td>\n",
       "      <td>0.061531</td>\n",
       "      <td>0.038245</td>\n",
       "      <td>IT-L23+ACA</td>\n",
       "    </tr>\n",
       "    <tr>\n",
       "      <th>MA0461.2</th>\n",
       "      <td>3.712647</td>\n",
       "      <td>7.506707e-239</td>\n",
       "      <td>1.349331e-236</td>\n",
       "      <td>235.869882</td>\n",
       "      <td>1112.0</td>\n",
       "      <td>33927.0</td>\n",
       "      <td>2984.0</td>\n",
       "      <td>338005.0</td>\n",
       "      <td>0.031736</td>\n",
       "      <td>0.008751</td>\n",
       "      <td>IT-L23+ACA</td>\n",
       "    </tr>\n",
       "    <tr>\n",
       "      <th>MA0507.1</th>\n",
       "      <td>1.555035</td>\n",
       "      <td>1.717301e-20</td>\n",
       "      <td>3.086849e-19</td>\n",
       "      <td>18.510485</td>\n",
       "      <td>570.0</td>\n",
       "      <td>34469.0</td>\n",
       "      <td>3588.0</td>\n",
       "      <td>337401.0</td>\n",
       "      <td>0.016268</td>\n",
       "      <td>0.010522</td>\n",
       "      <td>IT-L23+ACA</td>\n",
       "    </tr>\n",
       "    <tr>\n",
       "      <th>MA0607.1</th>\n",
       "      <td>2.744364</td>\n",
       "      <td>0.000000e+00</td>\n",
       "      <td>0.000000e+00</td>\n",
       "      <td>300.000000</td>\n",
       "      <td>3157.0</td>\n",
       "      <td>31882.0</td>\n",
       "      <td>11875.0</td>\n",
       "      <td>329114.0</td>\n",
       "      <td>0.090100</td>\n",
       "      <td>0.034825</td>\n",
       "      <td>IT-L23+ACA</td>\n",
       "    </tr>\n",
       "    <tr>\n",
       "      <th>MA0619.1</th>\n",
       "      <td>1.551563</td>\n",
       "      <td>1.114389e-143</td>\n",
       "      <td>7.284055e-142</td>\n",
       "      <td>141.137627</td>\n",
       "      <td>4857.0</td>\n",
       "      <td>30182.0</td>\n",
       "      <td>32043.0</td>\n",
       "      <td>308946.0</td>\n",
       "      <td>0.138617</td>\n",
       "      <td>0.093971</td>\n",
       "      <td>IT-L23+ACA</td>\n",
       "    </tr>\n",
       "    <tr>\n",
       "      <th>MA0623.2</th>\n",
       "      <td>3.394161</td>\n",
       "      <td>1.042289e-161</td>\n",
       "      <td>7.494058e-160</td>\n",
       "      <td>159.125283</td>\n",
       "      <td>836.0</td>\n",
       "      <td>34203.0</td>\n",
       "      <td>2438.0</td>\n",
       "      <td>338551.0</td>\n",
       "      <td>0.023859</td>\n",
       "      <td>0.007150</td>\n",
       "      <td>IT-L23+ACA</td>\n",
       "    </tr>\n",
       "    <tr>\n",
       "      <th>MA0633.1</th>\n",
       "      <td>3.400680</td>\n",
       "      <td>5.048292e-223</td>\n",
       "      <td>7.259443e-221</td>\n",
       "      <td>220.139097</td>\n",
       "      <td>1159.0</td>\n",
       "      <td>33880.0</td>\n",
       "      <td>3396.0</td>\n",
       "      <td>337593.0</td>\n",
       "      <td>0.033077</td>\n",
       "      <td>0.009959</td>\n",
       "      <td>IT-L23+ACA</td>\n",
       "    </tr>\n",
       "    <tr>\n",
       "      <th>MA0668.1</th>\n",
       "      <td>4.431635</td>\n",
       "      <td>7.491126e-183</td>\n",
       "      <td>6.732649e-181</td>\n",
       "      <td>180.171814</td>\n",
       "      <td>695.0</td>\n",
       "      <td>34344.0</td>\n",
       "      <td>1550.0</td>\n",
       "      <td>339439.0</td>\n",
       "      <td>0.019835</td>\n",
       "      <td>0.004546</td>\n",
       "      <td>IT-L23+ACA</td>\n",
       "    </tr>\n",
       "    <tr>\n",
       "      <th>MA0669.1</th>\n",
       "      <td>3.057249</td>\n",
       "      <td>1.730787e-75</td>\n",
       "      <td>6.222179e-74</td>\n",
       "      <td>73.206057</td>\n",
       "      <td>442.0</td>\n",
       "      <td>34597.0</td>\n",
       "      <td>1419.0</td>\n",
       "      <td>339570.0</td>\n",
       "      <td>0.012615</td>\n",
       "      <td>0.004161</td>\n",
       "      <td>IT-L23+ACA</td>\n",
       "    </tr>\n",
       "    <tr>\n",
       "      <th>MA0678.1</th>\n",
       "      <td>5.166957</td>\n",
       "      <td>2.937626e-164</td>\n",
       "      <td>2.346837e-162</td>\n",
       "      <td>161.629517</td>\n",
       "      <td>538.0</td>\n",
       "      <td>34501.0</td>\n",
       "      <td>1026.0</td>\n",
       "      <td>339963.0</td>\n",
       "      <td>0.015354</td>\n",
       "      <td>0.003009</td>\n",
       "      <td>IT-L23+ACA</td>\n",
       "    </tr>\n",
       "    <tr>\n",
       "      <th>MA0785.1</th>\n",
       "      <td>1.626476</td>\n",
       "      <td>1.169983e-18</td>\n",
       "      <td>2.002899e-17</td>\n",
       "      <td>16.698341</td>\n",
       "      <td>429.0</td>\n",
       "      <td>34610.0</td>\n",
       "      <td>2579.0</td>\n",
       "      <td>338410.0</td>\n",
       "      <td>0.012244</td>\n",
       "      <td>0.007563</td>\n",
       "      <td>IT-L23+ACA</td>\n",
       "    </tr>\n",
       "    <tr>\n",
       "      <th>MA0817.1</th>\n",
       "      <td>4.182784</td>\n",
       "      <td>4.647481e-89</td>\n",
       "      <td>2.227693e-87</td>\n",
       "      <td>86.652145</td>\n",
       "      <td>354.0</td>\n",
       "      <td>34685.0</td>\n",
       "      <td>830.0</td>\n",
       "      <td>340159.0</td>\n",
       "      <td>0.010103</td>\n",
       "      <td>0.002434</td>\n",
       "      <td>IT-L23+ACA</td>\n",
       "    </tr>\n",
       "    <tr>\n",
       "      <th>MA0818.1</th>\n",
       "      <td>3.989502</td>\n",
       "      <td>7.123713e-247</td>\n",
       "      <td>1.707317e-244</td>\n",
       "      <td>243.767686</td>\n",
       "      <td>1057.0</td>\n",
       "      <td>33982.0</td>\n",
       "      <td>2638.0</td>\n",
       "      <td>338351.0</td>\n",
       "      <td>0.030166</td>\n",
       "      <td>0.007736</td>\n",
       "      <td>IT-L23+ACA</td>\n",
       "    </tr>\n",
       "    <tr>\n",
       "      <th>MA0826.1</th>\n",
       "      <td>4.712304</td>\n",
       "      <td>3.443524e-142</td>\n",
       "      <td>2.063245e-140</td>\n",
       "      <td>139.685449</td>\n",
       "      <td>506.0</td>\n",
       "      <td>34533.0</td>\n",
       "      <td>1057.0</td>\n",
       "      <td>339932.0</td>\n",
       "      <td>0.014441</td>\n",
       "      <td>0.003100</td>\n",
       "      <td>IT-L23+ACA</td>\n",
       "    </tr>\n",
       "    <tr>\n",
       "      <th>MA0827.1</th>\n",
       "      <td>4.551970</td>\n",
       "      <td>2.094460e-216</td>\n",
       "      <td>2.509861e-214</td>\n",
       "      <td>213.600350</td>\n",
       "      <td>803.0</td>\n",
       "      <td>34236.0</td>\n",
       "      <td>1748.0</td>\n",
       "      <td>339241.0</td>\n",
       "      <td>0.022917</td>\n",
       "      <td>0.005126</td>\n",
       "      <td>IT-L23+ACA</td>\n",
       "    </tr>\n",
       "    <tr>\n",
       "      <th>MA0868.2</th>\n",
       "      <td>1.623199</td>\n",
       "      <td>1.681983e-20</td>\n",
       "      <td>3.086849e-19</td>\n",
       "      <td>18.510485</td>\n",
       "      <td>480.0</td>\n",
       "      <td>34559.0</td>\n",
       "      <td>2893.0</td>\n",
       "      <td>338096.0</td>\n",
       "      <td>0.013699</td>\n",
       "      <td>0.008484</td>\n",
       "      <td>IT-L23+ACA</td>\n",
       "    </tr>\n",
       "    <tr>\n",
       "      <th>MA1109.1</th>\n",
       "      <td>2.115841</td>\n",
       "      <td>8.165702e-115</td>\n",
       "      <td>4.516261e-113</td>\n",
       "      <td>112.345221</td>\n",
       "      <td>1355.0</td>\n",
       "      <td>33684.0</td>\n",
       "      <td>6362.0</td>\n",
       "      <td>334627.0</td>\n",
       "      <td>0.038671</td>\n",
       "      <td>0.018657</td>\n",
       "      <td>IT-L23+ACA</td>\n",
       "    </tr>\n",
       "    <tr>\n",
       "      <th>MA1152.1</th>\n",
       "      <td>1.548779</td>\n",
       "      <td>4.480977e-85</td>\n",
       "      <td>1.789901e-83</td>\n",
       "      <td>82.747171</td>\n",
       "      <td>2724.0</td>\n",
       "      <td>32315.0</td>\n",
       "      <td>17601.0</td>\n",
       "      <td>323388.0</td>\n",
       "      <td>0.077742</td>\n",
       "      <td>0.051618</td>\n",
       "      <td>IT-L23+ACA</td>\n",
       "    </tr>\n",
       "    <tr>\n",
       "      <th>MA1468.1</th>\n",
       "      <td>3.806034</td>\n",
       "      <td>1.314178e-249</td>\n",
       "      <td>4.724471e-247</td>\n",
       "      <td>246.325647</td>\n",
       "      <td>1129.0</td>\n",
       "      <td>33910.0</td>\n",
       "      <td>2957.0</td>\n",
       "      <td>338032.0</td>\n",
       "      <td>0.032221</td>\n",
       "      <td>0.008672</td>\n",
       "      <td>IT-L23+ACA</td>\n",
       "    </tr>\n",
       "    <tr>\n",
       "      <th>MA1478.1</th>\n",
       "      <td>1.641173</td>\n",
       "      <td>1.785651e-19</td>\n",
       "      <td>3.131422e-18</td>\n",
       "      <td>17.504258</td>\n",
       "      <td>435.0</td>\n",
       "      <td>34604.0</td>\n",
       "      <td>2592.0</td>\n",
       "      <td>338397.0</td>\n",
       "      <td>0.012415</td>\n",
       "      <td>0.007601</td>\n",
       "      <td>IT-L23+ACA</td>\n",
       "    </tr>\n",
       "    <tr>\n",
       "      <th>MA1479.1</th>\n",
       "      <td>1.709428</td>\n",
       "      <td>4.360434e-12</td>\n",
       "      <td>6.531567e-11</td>\n",
       "      <td>10.184983</td>\n",
       "      <td>219.0</td>\n",
       "      <td>34820.0</td>\n",
       "      <td>1250.0</td>\n",
       "      <td>339739.0</td>\n",
       "      <td>0.006250</td>\n",
       "      <td>0.003666</td>\n",
       "      <td>IT-L23+ACA</td>\n",
       "    </tr>\n",
       "    <tr>\n",
       "      <th>MA1524.1</th>\n",
       "      <td>2.018848</td>\n",
       "      <td>1.941117e-71</td>\n",
       "      <td>6.646014e-70</td>\n",
       "      <td>69.177439</td>\n",
       "      <td>927.0</td>\n",
       "      <td>34112.0</td>\n",
       "      <td>4529.0</td>\n",
       "      <td>336460.0</td>\n",
       "      <td>0.026456</td>\n",
       "      <td>0.013282</td>\n",
       "      <td>IT-L23+ACA</td>\n",
       "    </tr>\n",
       "    <tr>\n",
       "      <th>MA1562.1</th>\n",
       "      <td>1.552694</td>\n",
       "      <td>5.575486e-13</td>\n",
       "      <td>8.714727e-12</td>\n",
       "      <td>11.059746</td>\n",
       "      <td>342.0</td>\n",
       "      <td>34697.0</td>\n",
       "      <td>2151.0</td>\n",
       "      <td>338838.0</td>\n",
       "      <td>0.009761</td>\n",
       "      <td>0.006308</td>\n",
       "      <td>IT-L23+ACA</td>\n",
       "    </tr>\n",
       "    <tr>\n",
       "      <th>MA1568.1</th>\n",
       "      <td>5.043377</td>\n",
       "      <td>2.419513e-83</td>\n",
       "      <td>9.155946e-82</td>\n",
       "      <td>81.038297</td>\n",
       "      <td>275.0</td>\n",
       "      <td>34764.0</td>\n",
       "      <td>534.0</td>\n",
       "      <td>340455.0</td>\n",
       "      <td>0.007848</td>\n",
       "      <td>0.001566</td>\n",
       "      <td>IT-L23+ACA</td>\n",
       "    </tr>\n",
       "    <tr>\n",
       "      <th>MA1570.1</th>\n",
       "      <td>2.031259</td>\n",
       "      <td>8.137620e-113</td>\n",
       "      <td>4.179249e-111</td>\n",
       "      <td>110.378902</td>\n",
       "      <td>1472.0</td>\n",
       "      <td>33567.0</td>\n",
       "      <td>7206.0</td>\n",
       "      <td>333783.0</td>\n",
       "      <td>0.042010</td>\n",
       "      <td>0.021133</td>\n",
       "      <td>IT-L23+ACA</td>\n",
       "    </tr>\n",
       "    <tr>\n",
       "      <th>MA1642.1</th>\n",
       "      <td>2.162243</td>\n",
       "      <td>1.747890e-200</td>\n",
       "      <td>1.795333e-198</td>\n",
       "      <td>197.745855</td>\n",
       "      <td>2308.0</td>\n",
       "      <td>32731.0</td>\n",
       "      <td>10769.0</td>\n",
       "      <td>330220.0</td>\n",
       "      <td>0.065869</td>\n",
       "      <td>0.031582</td>\n",
       "      <td>IT-L23+ACA</td>\n",
       "    </tr>\n",
       "  </tbody>\n",
       "</table>\n",
       "</div>"
      ],
      "text/plain": [
       "          oddsratio        p_value          adj_p        -lgp      tp  \\\n",
       "MA0091.1   1.963527   1.877983e-35   4.091728e-34   33.388093   476.0   \n",
       "MA0095.2   1.594264   6.416671e-12   9.415483e-11   10.026157   278.0   \n",
       "MA0143.4   1.648813   2.614224e-87   1.105663e-85   84.956377  2156.0   \n",
       "MA0461.2   3.712647  7.506707e-239  1.349331e-236  235.869882  1112.0   \n",
       "MA0507.1   1.555035   1.717301e-20   3.086849e-19   18.510485   570.0   \n",
       "MA0607.1   2.744364   0.000000e+00   0.000000e+00  300.000000  3157.0   \n",
       "MA0619.1   1.551563  1.114389e-143  7.284055e-142  141.137627  4857.0   \n",
       "MA0623.2   3.394161  1.042289e-161  7.494058e-160  159.125283   836.0   \n",
       "MA0633.1   3.400680  5.048292e-223  7.259443e-221  220.139097  1159.0   \n",
       "MA0668.1   4.431635  7.491126e-183  6.732649e-181  180.171814   695.0   \n",
       "MA0669.1   3.057249   1.730787e-75   6.222179e-74   73.206057   442.0   \n",
       "MA0678.1   5.166957  2.937626e-164  2.346837e-162  161.629517   538.0   \n",
       "MA0785.1   1.626476   1.169983e-18   2.002899e-17   16.698341   429.0   \n",
       "MA0817.1   4.182784   4.647481e-89   2.227693e-87   86.652145   354.0   \n",
       "MA0818.1   3.989502  7.123713e-247  1.707317e-244  243.767686  1057.0   \n",
       "MA0826.1   4.712304  3.443524e-142  2.063245e-140  139.685449   506.0   \n",
       "MA0827.1   4.551970  2.094460e-216  2.509861e-214  213.600350   803.0   \n",
       "MA0868.2   1.623199   1.681983e-20   3.086849e-19   18.510485   480.0   \n",
       "MA1109.1   2.115841  8.165702e-115  4.516261e-113  112.345221  1355.0   \n",
       "MA1152.1   1.548779   4.480977e-85   1.789901e-83   82.747171  2724.0   \n",
       "MA1468.1   3.806034  1.314178e-249  4.724471e-247  246.325647  1129.0   \n",
       "MA1478.1   1.641173   1.785651e-19   3.131422e-18   17.504258   435.0   \n",
       "MA1479.1   1.709428   4.360434e-12   6.531567e-11   10.184983   219.0   \n",
       "MA1524.1   2.018848   1.941117e-71   6.646014e-70   69.177439   927.0   \n",
       "MA1562.1   1.552694   5.575486e-13   8.714727e-12   11.059746   342.0   \n",
       "MA1568.1   5.043377   2.419513e-83   9.155946e-82   81.038297   275.0   \n",
       "MA1570.1   2.031259  8.137620e-113  4.179249e-111  110.378902  1472.0   \n",
       "MA1642.1   2.162243  1.747890e-200  1.795333e-198  197.745855  2308.0   \n",
       "\n",
       "               tn       fp        fn   tp_rate   fp_rate       Group  \n",
       "MA0091.1  34563.0   2375.0  338614.0  0.013585  0.006965  IT-L23+ACA  \n",
       "MA0095.2  34761.0   1702.0  339287.0  0.007934  0.004991  IT-L23+ACA  \n",
       "MA0143.4  32883.0  13041.0  327948.0  0.061531  0.038245  IT-L23+ACA  \n",
       "MA0461.2  33927.0   2984.0  338005.0  0.031736  0.008751  IT-L23+ACA  \n",
       "MA0507.1  34469.0   3588.0  337401.0  0.016268  0.010522  IT-L23+ACA  \n",
       "MA0607.1  31882.0  11875.0  329114.0  0.090100  0.034825  IT-L23+ACA  \n",
       "MA0619.1  30182.0  32043.0  308946.0  0.138617  0.093971  IT-L23+ACA  \n",
       "MA0623.2  34203.0   2438.0  338551.0  0.023859  0.007150  IT-L23+ACA  \n",
       "MA0633.1  33880.0   3396.0  337593.0  0.033077  0.009959  IT-L23+ACA  \n",
       "MA0668.1  34344.0   1550.0  339439.0  0.019835  0.004546  IT-L23+ACA  \n",
       "MA0669.1  34597.0   1419.0  339570.0  0.012615  0.004161  IT-L23+ACA  \n",
       "MA0678.1  34501.0   1026.0  339963.0  0.015354  0.003009  IT-L23+ACA  \n",
       "MA0785.1  34610.0   2579.0  338410.0  0.012244  0.007563  IT-L23+ACA  \n",
       "MA0817.1  34685.0    830.0  340159.0  0.010103  0.002434  IT-L23+ACA  \n",
       "MA0818.1  33982.0   2638.0  338351.0  0.030166  0.007736  IT-L23+ACA  \n",
       "MA0826.1  34533.0   1057.0  339932.0  0.014441  0.003100  IT-L23+ACA  \n",
       "MA0827.1  34236.0   1748.0  339241.0  0.022917  0.005126  IT-L23+ACA  \n",
       "MA0868.2  34559.0   2893.0  338096.0  0.013699  0.008484  IT-L23+ACA  \n",
       "MA1109.1  33684.0   6362.0  334627.0  0.038671  0.018657  IT-L23+ACA  \n",
       "MA1152.1  32315.0  17601.0  323388.0  0.077742  0.051618  IT-L23+ACA  \n",
       "MA1468.1  33910.0   2957.0  338032.0  0.032221  0.008672  IT-L23+ACA  \n",
       "MA1478.1  34604.0   2592.0  338397.0  0.012415  0.007601  IT-L23+ACA  \n",
       "MA1479.1  34820.0   1250.0  339739.0  0.006250  0.003666  IT-L23+ACA  \n",
       "MA1524.1  34112.0   4529.0  336460.0  0.026456  0.013282  IT-L23+ACA  \n",
       "MA1562.1  34697.0   2151.0  338838.0  0.009761  0.006308  IT-L23+ACA  \n",
       "MA1568.1  34764.0    534.0  340455.0  0.007848  0.001566  IT-L23+ACA  \n",
       "MA1570.1  33567.0   7206.0  333783.0  0.042010  0.021133  IT-L23+ACA  \n",
       "MA1642.1  32731.0  10769.0  330220.0  0.065869  0.031582  IT-L23+ACA  "
      ]
     },
     "execution_count": 20,
     "metadata": {},
     "output_type": "execute_result"
    }
   ],
   "source": [
    "filtered_motif_df"
   ]
  },
  {
   "cell_type": "code",
   "execution_count": null,
   "metadata": {
    "papermill": {
     "duration": 0.011591,
     "end_time": "2020-01-14T06:43:30.517496",
     "exception": false,
     "start_time": "2020-01-14T06:43:30.505905",
     "status": "completed"
    },
    "tags": []
   },
   "outputs": [],
   "source": []
  }
 ],
 "metadata": {
  "hide_input": false,
  "kernelspec": {
   "display_name": "Python 3",
   "language": "python",
   "name": "python3"
  },
  "language_info": {
   "codemirror_mode": {
    "name": "ipython",
    "version": 3
   },
   "file_extension": ".py",
   "mimetype": "text/x-python",
   "name": "python",
   "nbconvert_exporter": "python",
   "pygments_lexer": "ipython3",
   "version": "3.7.3"
  },
  "papermill": {
   "duration": 13.211616,
   "end_time": "2020-01-14T06:43:30.935034",
   "environment_variables": {},
   "exception": null,
   "input_path": "4.MotifEnrichment.ipynb",
   "output_path": "/home/hanliu/project/mouse_rostral_brain/DMR/ITSpatial_by_layer/IT-L6/Recipe/4.MotifEnrichment.IT-L23+ACA.ipynb",
   "parameters": {
    "dmr_hits_path": "/home/hanliu/project/mouse_rostral_brain/DMR/ITSpatial_by_layer/IT-L23/HypoDMR/IT-L23+ACA.DMS1.bed",
    "group": "IT-L23+ACA",
    "mask_quantile_to99": 0.9,
    "motif_hits_path": "/home/hanliu/project/mouse_rostral_brain/DMR/ITSpatial_by_layer/IT-L23/MotifScan.h5ad",
    "neg_lgp_cutoff": 10,
    "or_cutoff": 1.5,
    "output_dir": "/home/hanliu/project/mouse_rostral_brain/DMR/ITSpatial_by_layer/IT-L23/MotifEnrichment"
   },
   "start_time": "2020-01-14T06:43:17.723418",
   "version": "1.0.1"
  },
  "toc": {
   "base_numbering": 1,
   "nav_menu": {},
   "number_sections": true,
   "sideBar": true,
   "skip_h1_title": true,
   "title_cell": "Table of Contents",
   "title_sidebar": "Contents",
   "toc_cell": false,
   "toc_position": {},
   "toc_section_display": true,
   "toc_window_display": true
  }
 },
 "nbformat": 4,
 "nbformat_minor": 2
}
