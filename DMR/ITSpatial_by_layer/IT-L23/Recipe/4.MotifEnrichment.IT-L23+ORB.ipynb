{
 "cells": [
  {
   "cell_type": "markdown",
   "metadata": {
    "papermill": {
     "duration": 0.009546,
     "end_time": "2020-01-14T06:44:13.427745",
     "exception": false,
     "start_time": "2020-01-14T06:44:13.418199",
     "status": "completed"
    },
    "tags": []
   },
   "source": [
    "# Motif Enrichment\n",
    "- The motif hits matrix save the max loglikelyhood score of a motif in that DMR\n",
    "- Before run the motif enrichment, I filter the scores for each motif using cutoff defined by\n",
    "    - `np.quantile(motif_score[motif_score > 0]) * mask_quantile_to99`\n",
    "- This filter will remove hits with low score, which is likely to be false positive\n",
    "- Its likely boosting the significance of real enrichment"
   ]
  },
  {
   "cell_type": "code",
   "execution_count": 1,
   "metadata": {
    "ExecuteTime": {
     "end_time": "2020-01-16T05:27:35.052319Z",
     "start_time": "2020-01-16T05:27:34.308049Z"
    },
    "papermill": {
     "duration": 0.671792,
     "end_time": "2020-01-14T06:44:14.110015",
     "exception": false,
     "start_time": "2020-01-14T06:44:13.438223",
     "status": "completed"
    },
    "tags": []
   },
   "outputs": [],
   "source": [
    "from concurrent.futures import ProcessPoolExecutor, as_completed\n",
    "import anndata\n",
    "import matplotlib.pyplot as plt\n",
    "import numpy as np\n",
    "import pandas as pd\n",
    "import pybedtools\n",
    "import scipy.stats as stats\n",
    "import seaborn as sns\n",
    "from scipy.sparse import csr_matrix\n",
    "from statsmodels.stats.multitest import multipletests\n",
    "import pathlib"
   ]
  },
  {
   "cell_type": "code",
   "execution_count": 2,
   "metadata": {
    "ExecuteTime": {
     "end_time": "2020-01-16T05:27:35.058328Z",
     "start_time": "2020-01-16T05:27:35.054794Z"
    },
    "papermill": {
     "duration": 0.015516,
     "end_time": "2020-01-14T06:44:14.136164",
     "exception": false,
     "start_time": "2020-01-14T06:44:14.120648",
     "status": "completed"
    },
    "tags": [
     "parameters"
    ]
   },
   "outputs": [],
   "source": [
    "mask_quantile_to99 = 0.9\n",
    "or_cutoff = 1.5\n",
    "neg_lgp_cutoff = 10\n",
    "group = 'IT-L23+ACA'\n",
    "\n",
    "motif_hits_path = '/home/hanliu/project/mouse_rostral_brain/DMR/ITSpatial_by_layer/IT-L23/MotifScan.h5ad'\n",
    "dmr_hits_path = f'/home/hanliu/project/mouse_rostral_brain/DMR/ITSpatial_by_layer/IT-L23/HypoDMR/{group}.DMS1.bed'\n",
    "output_dir = '/home/hanliu/project/mouse_rostral_brain/DMR/ITSpatial_by_layer/IT-L23/MotifEnrichment'\n"
   ]
  },
  {
   "cell_type": "code",
   "execution_count": 3,
   "metadata": {
    "ExecuteTime": {
     "end_time": "2020-01-16T05:27:35.063239Z",
     "start_time": "2020-01-16T05:27:35.060318Z"
    },
    "papermill": {
     "duration": 0.01487,
     "end_time": "2020-01-14T06:44:14.160317",
     "exception": false,
     "start_time": "2020-01-14T06:44:14.145447",
     "status": "completed"
    },
    "tags": [
     "injected-parameters"
    ]
   },
   "outputs": [],
   "source": [
    "# Parameters\n",
    "mask_quantile_to99 = 0.9\n",
    "or_cutoff = 1.5\n",
    "neg_lgp_cutoff = 10\n",
    "group = \"IT-L23+ORB\"\n",
    "motif_hits_path = \"/home/hanliu/project/mouse_rostral_brain/DMR/ITSpatial_by_layer/IT-L23/MotifScan.h5ad\"\n",
    "dmr_hits_path = \"/home/hanliu/project/mouse_rostral_brain/DMR/ITSpatial_by_layer/IT-L23/HypoDMR/IT-L23+ORB.DMS1.bed\"\n",
    "output_dir = \"/home/hanliu/project/mouse_rostral_brain/DMR/ITSpatial_by_layer/IT-L23/MotifEnrichment\"\n"
   ]
  },
  {
   "cell_type": "code",
   "execution_count": 4,
   "metadata": {
    "ExecuteTime": {
     "end_time": "2020-01-16T05:27:35.067985Z",
     "start_time": "2020-01-16T05:27:35.065168Z"
    },
    "papermill": {
     "duration": 0.015181,
     "end_time": "2020-01-14T06:44:14.184839",
     "exception": false,
     "start_time": "2020-01-14T06:44:14.169658",
     "status": "completed"
    },
    "tags": []
   },
   "outputs": [],
   "source": [
    "output_dir = pathlib.Path(output_dir)\n",
    "output_dir.mkdir(exist_ok=True)"
   ]
  },
  {
   "cell_type": "markdown",
   "metadata": {
    "papermill": {
     "duration": 0.009222,
     "end_time": "2020-01-14T06:44:14.203014",
     "exception": false,
     "start_time": "2020-01-14T06:44:14.193792",
     "status": "completed"
    },
    "tags": []
   },
   "source": [
    "## DMR hits"
   ]
  },
  {
   "cell_type": "code",
   "execution_count": 5,
   "metadata": {
    "ExecuteTime": {
     "end_time": "2020-01-16T05:27:35.098556Z",
     "start_time": "2020-01-16T05:27:35.069727Z"
    },
    "papermill": {
     "duration": 0.06133,
     "end_time": "2020-01-14T06:44:14.273659",
     "exception": false,
     "start_time": "2020-01-14T06:44:14.212329",
     "status": "completed"
    },
    "tags": []
   },
   "outputs": [
    {
     "data": {
      "text/html": [
       "<div>\n",
       "<style scoped>\n",
       "    .dataframe tbody tr th:only-of-type {\n",
       "        vertical-align: middle;\n",
       "    }\n",
       "\n",
       "    .dataframe tbody tr th {\n",
       "        vertical-align: top;\n",
       "    }\n",
       "\n",
       "    .dataframe thead th {\n",
       "        text-align: right;\n",
       "    }\n",
       "</style>\n",
       "<table border=\"1\" class=\"dataframe\">\n",
       "  <thead>\n",
       "    <tr style=\"text-align: right;\">\n",
       "      <th></th>\n",
       "      <th>0</th>\n",
       "      <th>1</th>\n",
       "      <th>2</th>\n",
       "    </tr>\n",
       "    <tr>\n",
       "      <th>3</th>\n",
       "      <th></th>\n",
       "      <th></th>\n",
       "      <th></th>\n",
       "    </tr>\n",
       "  </thead>\n",
       "  <tbody>\n",
       "    <tr>\n",
       "      <th>DGm3c_49</th>\n",
       "      <td>chr1</td>\n",
       "      <td>3322440</td>\n",
       "      <td>3322583</td>\n",
       "    </tr>\n",
       "    <tr>\n",
       "      <th>DGm3c_54</th>\n",
       "      <td>chr1</td>\n",
       "      <td>3346654</td>\n",
       "      <td>3346654</td>\n",
       "    </tr>\n",
       "    <tr>\n",
       "      <th>DGm3c_56</th>\n",
       "      <td>chr1</td>\n",
       "      <td>3361059</td>\n",
       "      <td>3361196</td>\n",
       "    </tr>\n",
       "    <tr>\n",
       "      <th>DGm3c_58</th>\n",
       "      <td>chr1</td>\n",
       "      <td>3366922</td>\n",
       "      <td>3367136</td>\n",
       "    </tr>\n",
       "    <tr>\n",
       "      <th>DGm3c_61</th>\n",
       "      <td>chr1</td>\n",
       "      <td>3369879</td>\n",
       "      <td>3369974</td>\n",
       "    </tr>\n",
       "  </tbody>\n",
       "</table>\n",
       "</div>"
      ],
      "text/plain": [
       "             0        1        2\n",
       "3                               \n",
       "DGm3c_49  chr1  3322440  3322583\n",
       "DGm3c_54  chr1  3346654  3346654\n",
       "DGm3c_56  chr1  3361059  3361196\n",
       "DGm3c_58  chr1  3366922  3367136\n",
       "DGm3c_61  chr1  3369879  3369974"
      ]
     },
     "execution_count": 5,
     "metadata": {},
     "output_type": "execute_result"
    }
   ],
   "source": [
    "dmr_bed_df = pd.read_csv(dmr_hits_path, sep='\\t', header=None, index_col=3)\n",
    "dmr_bed_df.head()"
   ]
  },
  {
   "cell_type": "code",
   "execution_count": 6,
   "metadata": {
    "ExecuteTime": {
     "end_time": "2020-01-16T05:27:37.776840Z",
     "start_time": "2020-01-16T05:27:35.100382Z"
    },
    "papermill": {
     "duration": 2.527098,
     "end_time": "2020-01-14T06:44:16.811184",
     "exception": false,
     "start_time": "2020-01-14T06:44:14.284086",
     "status": "completed"
    },
    "tags": []
   },
   "outputs": [
    {
     "data": {
      "text/plain": [
       "AnnData object with n_obs × n_vars = 19403 × 719 \n",
       "    obs: 'chrom', 'start', 'end'"
      ]
     },
     "execution_count": 6,
     "metadata": {},
     "output_type": "execute_result"
    }
   ],
   "source": [
    "motif_hits = anndata.read_h5ad(motif_hits_path)\n",
    "motif_hits = motif_hits[dmr_bed_df.index, :].copy()\n",
    "motif_ids = motif_hits.var_names\n",
    "motif_hits.X = motif_hits.X.todense()\n",
    "motif_hits"
   ]
  },
  {
   "cell_type": "code",
   "execution_count": 7,
   "metadata": {
    "ExecuteTime": {
     "end_time": "2020-01-16T05:27:38.119707Z",
     "start_time": "2020-01-16T05:27:37.779601Z"
    },
    "papermill": {
     "duration": 0.603315,
     "end_time": "2020-01-14T06:44:17.425697",
     "exception": false,
     "start_time": "2020-01-14T06:44:16.822382",
     "status": "completed"
    },
    "tags": []
   },
   "outputs": [],
   "source": [
    "# mask small motif scores\n",
    "motif_cutoff = pd.Series(np.apply_along_axis(lambda i: np.quantile(i[i>0], 0.99) * mask_quantile_to99, \n",
    "                                             0, motif_hits.X),\n",
    "                         index=motif_hits.var_names)\n",
    "# only keep value larger than the cutoff for each motif\n",
    "motif_hits.X = np.multiply(motif_hits.X, (motif_hits.X > motif_cutoff.values[None, :]))"
   ]
  },
  {
   "cell_type": "markdown",
   "metadata": {
    "papermill": {
     "duration": 0.009986,
     "end_time": "2020-01-14T06:44:17.446714",
     "exception": false,
     "start_time": "2020-01-14T06:44:17.436728",
     "status": "completed"
    },
    "tags": []
   },
   "source": [
    "## Background Hits"
   ]
  },
  {
   "cell_type": "code",
   "execution_count": 8,
   "metadata": {
    "ExecuteTime": {
     "end_time": "2020-01-16T05:27:39.343263Z",
     "start_time": "2020-01-16T05:27:38.121934Z"
    },
    "papermill": {
     "duration": 1.103269,
     "end_time": "2020-01-14T06:44:18.559531",
     "exception": false,
     "start_time": "2020-01-14T06:44:17.456262",
     "status": "completed"
    },
    "tags": []
   },
   "outputs": [],
   "source": [
    "background_motif_hits = anndata.read_h5ad(\n",
    "    '/home/hanliu/project/mouse_rostral_brain/DMR/BackgroundDMR/MotifScan.h5ad'\n",
    ")"
   ]
  },
  {
   "cell_type": "code",
   "execution_count": 9,
   "metadata": {
    "ExecuteTime": {
     "end_time": "2020-01-16T05:27:40.398689Z",
     "start_time": "2020-01-16T05:27:39.345049Z"
    },
    "papermill": {
     "duration": 1.02146,
     "end_time": "2020-01-14T06:44:19.591925",
     "exception": false,
     "start_time": "2020-01-14T06:44:18.570465",
     "status": "completed"
    },
    "tags": []
   },
   "outputs": [],
   "source": [
    "dmr_bed = pybedtools.BedTool().from_dataframe(dmr_bed_df)\n",
    "bg_bed = pybedtools.BedTool().from_dataframe(\n",
    "    background_motif_hits.obs.reset_index().iloc[:, [1, 2, 3, 0]])"
   ]
  },
  {
   "cell_type": "code",
   "execution_count": 10,
   "metadata": {
    "ExecuteTime": {
     "end_time": "2020-01-16T05:27:42.058801Z",
     "start_time": "2020-01-16T05:27:40.400558Z"
    },
    "papermill": {
     "duration": 1.749057,
     "end_time": "2020-01-14T06:44:21.352007",
     "exception": false,
     "start_time": "2020-01-14T06:44:19.602950",
     "status": "completed"
    },
    "tags": []
   },
   "outputs": [],
   "source": [
    "# exclude background that overlap with DMR\n",
    "bg_no_overlap = bg_bed.intersect(dmr_bed, v=True)\n",
    "use_bg = bg_no_overlap.to_dataframe().iloc[:, -1].values\n",
    "background_motif_hits = background_motif_hits[use_bg, :]\n",
    "\n",
    "# make sure col in same order\n",
    "background_motif_hits = background_motif_hits[:, motif_ids].copy()"
   ]
  },
  {
   "cell_type": "code",
   "execution_count": 11,
   "metadata": {
    "ExecuteTime": {
     "end_time": "2020-01-16T05:27:44.372336Z",
     "start_time": "2020-01-16T05:27:42.060899Z"
    },
    "papermill": {
     "duration": 2.180793,
     "end_time": "2020-01-14T06:44:23.543229",
     "exception": false,
     "start_time": "2020-01-14T06:44:21.362436",
     "status": "completed"
    },
    "tags": []
   },
   "outputs": [],
   "source": [
    "judge_matrix = csr_matrix(background_motif_hits.X > motif_cutoff.values[None, :])\n",
    "background_motif_hits.X = background_motif_hits.X.multiply(judge_matrix)"
   ]
  },
  {
   "cell_type": "code",
   "execution_count": 12,
   "metadata": {
    "ExecuteTime": {
     "end_time": "2020-01-16T05:27:44.377608Z",
     "start_time": "2020-01-16T05:27:44.373989Z"
    },
    "papermill": {
     "duration": 0.017076,
     "end_time": "2020-01-14T06:44:23.570729",
     "exception": false,
     "start_time": "2020-01-14T06:44:23.553653",
     "status": "completed"
    },
    "tags": []
   },
   "outputs": [
    {
     "data": {
      "text/plain": [
       "AnnData object with n_obs × n_vars = 343069 × 719 \n",
       "    obs: 'chrom', 'start', 'end'"
      ]
     },
     "execution_count": 12,
     "metadata": {},
     "output_type": "execute_result"
    }
   ],
   "source": [
    "background_motif_hits"
   ]
  },
  {
   "cell_type": "markdown",
   "metadata": {
    "papermill": {
     "duration": 0.009623,
     "end_time": "2020-01-14T06:44:23.589878",
     "exception": false,
     "start_time": "2020-01-14T06:44:23.580255",
     "status": "completed"
    },
    "tags": []
   },
   "source": [
    "## Motif hits contingency table"
   ]
  },
  {
   "cell_type": "code",
   "execution_count": 13,
   "metadata": {
    "ExecuteTime": {
     "end_time": "2020-01-16T05:27:44.598379Z",
     "start_time": "2020-01-16T05:27:44.378837Z"
    },
    "papermill": {
     "duration": 0.211868,
     "end_time": "2020-01-14T06:44:23.811826",
     "exception": false,
     "start_time": "2020-01-14T06:44:23.599958",
     "status": "completed"
    },
    "tags": []
   },
   "outputs": [],
   "source": [
    "# calculate motif occurence, not considering hits here\n",
    "pos = (motif_hits.X > 0).sum(axis=0)\n",
    "pos_total = motif_hits.shape[0]\n",
    "\n",
    "neg = (background_motif_hits.X > 0).sum(axis=0)\n",
    "neg_total = background_motif_hits.shape[0]"
   ]
  },
  {
   "cell_type": "code",
   "execution_count": 14,
   "metadata": {
    "ExecuteTime": {
     "end_time": "2020-01-16T05:27:44.606540Z",
     "start_time": "2020-01-16T05:27:44.601293Z"
    },
    "papermill": {
     "duration": 0.064582,
     "end_time": "2020-01-14T06:44:23.886785",
     "exception": false,
     "start_time": "2020-01-14T06:44:23.822203",
     "status": "completed"
    },
    "scrolled": true,
    "tags": []
   },
   "outputs": [],
   "source": [
    "tables = {}\n",
    "for motif, _pos, _neg in zip(motif_ids, pos.A1, neg.A1):\n",
    "    table = [[_pos, pos_total - _pos], [_neg, neg_total - _neg]]\n",
    "    tables[motif] = table"
   ]
  },
  {
   "cell_type": "code",
   "execution_count": 15,
   "metadata": {
    "ExecuteTime": {
     "end_time": "2020-01-16T05:27:45.278515Z",
     "start_time": "2020-01-16T05:27:44.607953Z"
    },
    "papermill": {
     "duration": 1.055461,
     "end_time": "2020-01-14T06:44:24.952514",
     "exception": false,
     "start_time": "2020-01-14T06:44:23.897053",
     "status": "completed"
    },
    "tags": []
   },
   "outputs": [],
   "source": [
    "results = {}\n",
    "with ProcessPoolExecutor(20) as executor:\n",
    "    fs = {}\n",
    "    for motif, t in tables.items():\n",
    "        f = executor.submit(stats.fisher_exact, t, alternative='greater')\n",
    "        fs[f] = motif\n",
    "\n",
    "    for f in as_completed(fs):\n",
    "        motif = fs[f]\n",
    "        odds, p = f.result()\n",
    "        results[motif] = {'oddsratio': odds, 'p_value': p}\n",
    "motif_enrich_df = pd.DataFrame(results).T\n",
    "\n",
    "_, p, _, _ = multipletests(motif_enrich_df['p_value'], method='fdr_bh')\n",
    "motif_enrich_df['adj_p'] = p\n",
    "\n",
    "motif_enrich_df['-lgp'] = -np.log10(motif_enrich_df['adj_p']).replace(\n",
    "    -np.inf, -300)\n",
    "\n",
    "records = {}\n",
    "for motif, t in tables.items():\n",
    "    tp, tn = t[0]\n",
    "    fp, fn = t[1]\n",
    "    tp_rate = tp / pos_total\n",
    "    fp_rate = fp / neg_total\n",
    "    records[motif] = dict(tp=tp,\n",
    "                          tn=tn,\n",
    "                          fp=fp,\n",
    "                          fn=fn,\n",
    "                          tp_rate=tp_rate,\n",
    "                          fp_rate=fp_rate)\n",
    "counts = pd.DataFrame(records).T\n",
    "motif_enrich_df = pd.concat([motif_enrich_df, counts], axis=1, sort=True)"
   ]
  },
  {
   "cell_type": "code",
   "execution_count": 16,
   "metadata": {
    "ExecuteTime": {
     "end_time": "2020-01-16T05:27:45.283602Z",
     "start_time": "2020-01-16T05:27:45.280418Z"
    },
    "papermill": {
     "duration": 0.016643,
     "end_time": "2020-01-14T06:44:24.980382",
     "exception": false,
     "start_time": "2020-01-14T06:44:24.963739",
     "status": "completed"
    },
    "tags": []
   },
   "outputs": [],
   "source": [
    "motif_enrich_df['Group'] = group"
   ]
  },
  {
   "cell_type": "code",
   "execution_count": 17,
   "metadata": {
    "ExecuteTime": {
     "end_time": "2020-01-16T05:27:45.291130Z",
     "start_time": "2020-01-16T05:27:45.285069Z"
    },
    "papermill": {
     "duration": 0.019062,
     "end_time": "2020-01-14T06:44:25.009811",
     "exception": false,
     "start_time": "2020-01-14T06:44:24.990749",
     "status": "completed"
    },
    "tags": []
   },
   "outputs": [
    {
     "data": {
      "text/plain": [
       "40"
      ]
     },
     "execution_count": 17,
     "metadata": {},
     "output_type": "execute_result"
    }
   ],
   "source": [
    "# final filter\n",
    "filtered_motif_df = motif_enrich_df[(motif_enrich_df['oddsratio'] > or_cutoff)\n",
    "                                    &\n",
    "                                    (motif_enrich_df['-lgp'] > neg_lgp_cutoff)]\n",
    "filtered_motif_df.shape[0]"
   ]
  },
  {
   "cell_type": "code",
   "execution_count": 18,
   "metadata": {
    "ExecuteTime": {
     "end_time": "2020-01-16T05:27:45.297107Z",
     "start_time": "2020-01-16T05:27:45.292380Z"
    },
    "papermill": {
     "duration": 0.017072,
     "end_time": "2020-01-14T06:44:25.037052",
     "exception": false,
     "start_time": "2020-01-14T06:44:25.019980",
     "status": "completed"
    },
    "tags": []
   },
   "outputs": [
    {
     "name": "stderr",
     "output_type": "stream",
     "text": [
      "/home/hanliu/miniconda3/envs/clustering/lib/python3.7/site-packages/ipykernel_launcher.py:1: FutureWarning: to_msgpack is deprecated and will be removed in a future version.\n",
      "It is recommended to use pyarrow for on-the-wire transmission of pandas objects.\n",
      "  \"\"\"Entry point for launching an IPython kernel.\n"
     ]
    }
   ],
   "source": [
    "motif_enrich_df.to_msgpack(output_dir / f'{group}.motif_enrichment.msg')"
   ]
  },
  {
   "cell_type": "code",
   "execution_count": 19,
   "metadata": {
    "ExecuteTime": {
     "end_time": "2020-01-16T05:27:45.305966Z",
     "start_time": "2020-01-16T05:27:45.298455Z"
    },
    "papermill": {
     "duration": 0.022118,
     "end_time": "2020-01-14T06:44:25.069758",
     "exception": false,
     "start_time": "2020-01-14T06:44:25.047640",
     "status": "completed"
    },
    "tags": []
   },
   "outputs": [],
   "source": [
    "pybedtools.cleanup()"
   ]
  },
  {
   "cell_type": "code",
   "execution_count": 20,
   "metadata": {
    "ExecuteTime": {
     "end_time": "2020-01-16T05:27:45.329049Z",
     "start_time": "2020-01-16T05:27:45.307311Z"
    },
    "papermill": {
     "duration": 0.036365,
     "end_time": "2020-01-14T06:44:25.117389",
     "exception": false,
     "start_time": "2020-01-14T06:44:25.081024",
     "status": "completed"
    },
    "tags": []
   },
   "outputs": [
    {
     "data": {
      "text/html": [
       "<div>\n",
       "<style scoped>\n",
       "    .dataframe tbody tr th:only-of-type {\n",
       "        vertical-align: middle;\n",
       "    }\n",
       "\n",
       "    .dataframe tbody tr th {\n",
       "        vertical-align: top;\n",
       "    }\n",
       "\n",
       "    .dataframe thead th {\n",
       "        text-align: right;\n",
       "    }\n",
       "</style>\n",
       "<table border=\"1\" class=\"dataframe\">\n",
       "  <thead>\n",
       "    <tr style=\"text-align: right;\">\n",
       "      <th></th>\n",
       "      <th>oddsratio</th>\n",
       "      <th>p_value</th>\n",
       "      <th>adj_p</th>\n",
       "      <th>-lgp</th>\n",
       "      <th>tp</th>\n",
       "      <th>tn</th>\n",
       "      <th>fp</th>\n",
       "      <th>fn</th>\n",
       "      <th>tp_rate</th>\n",
       "      <th>fp_rate</th>\n",
       "      <th>Group</th>\n",
       "    </tr>\n",
       "  </thead>\n",
       "  <tbody>\n",
       "    <tr>\n",
       "      <th>MA0091.1</th>\n",
       "      <td>4.102662</td>\n",
       "      <td>6.551730e-152</td>\n",
       "      <td>1.177674e-149</td>\n",
       "      <td>148.928975</td>\n",
       "      <td>585.0</td>\n",
       "      <td>18818.0</td>\n",
       "      <td>2580.0</td>\n",
       "      <td>340489.0</td>\n",
       "      <td>0.030150</td>\n",
       "      <td>0.007520</td>\n",
       "      <td>IT-L23+ORB</td>\n",
       "    </tr>\n",
       "    <tr>\n",
       "      <th>MA0461.2</th>\n",
       "      <td>3.409063</td>\n",
       "      <td>1.291913e-118</td>\n",
       "      <td>8.444412e-117</td>\n",
       "      <td>116.073431</td>\n",
       "      <td>570.0</td>\n",
       "      <td>18833.0</td>\n",
       "      <td>3019.0</td>\n",
       "      <td>340050.0</td>\n",
       "      <td>0.029377</td>\n",
       "      <td>0.008800</td>\n",
       "      <td>IT-L23+ORB</td>\n",
       "    </tr>\n",
       "    <tr>\n",
       "      <th>MA0507.1</th>\n",
       "      <td>2.137453</td>\n",
       "      <td>2.270353e-32</td>\n",
       "      <td>5.829943e-31</td>\n",
       "      <td>30.234336</td>\n",
       "      <td>333.0</td>\n",
       "      <td>19070.0</td>\n",
       "      <td>2780.0</td>\n",
       "      <td>340289.0</td>\n",
       "      <td>0.017162</td>\n",
       "      <td>0.008103</td>\n",
       "      <td>IT-L23+ORB</td>\n",
       "    </tr>\n",
       "    <tr>\n",
       "      <th>MA0509.2</th>\n",
       "      <td>2.004945</td>\n",
       "      <td>7.467796e-16</td>\n",
       "      <td>1.095785e-14</td>\n",
       "      <td>13.960275</td>\n",
       "      <td>178.0</td>\n",
       "      <td>19225.0</td>\n",
       "      <td>1577.0</td>\n",
       "      <td>341492.0</td>\n",
       "      <td>0.009174</td>\n",
       "      <td>0.004597</td>\n",
       "      <td>IT-L23+ORB</td>\n",
       "    </tr>\n",
       "    <tr>\n",
       "      <th>MA0607.1</th>\n",
       "      <td>2.632387</td>\n",
       "      <td>1.203241e-226</td>\n",
       "      <td>4.325651e-224</td>\n",
       "      <td>223.363948</td>\n",
       "      <td>1685.0</td>\n",
       "      <td>17718.0</td>\n",
       "      <td>11962.0</td>\n",
       "      <td>331107.0</td>\n",
       "      <td>0.086842</td>\n",
       "      <td>0.034868</td>\n",
       "      <td>IT-L23+ORB</td>\n",
       "    </tr>\n",
       "    <tr>\n",
       "      <th>MA0619.1</th>\n",
       "      <td>1.690465</td>\n",
       "      <td>1.202332e-124</td>\n",
       "      <td>1.080596e-122</td>\n",
       "      <td>121.966337</td>\n",
       "      <td>2895.0</td>\n",
       "      <td>16508.0</td>\n",
       "      <td>32245.0</td>\n",
       "      <td>310824.0</td>\n",
       "      <td>0.149204</td>\n",
       "      <td>0.093990</td>\n",
       "      <td>IT-L23+ORB</td>\n",
       "    </tr>\n",
       "    <tr>\n",
       "      <th>MA0623.2</th>\n",
       "      <td>3.004959</td>\n",
       "      <td>1.283996e-72</td>\n",
       "      <td>5.128850e-71</td>\n",
       "      <td>70.289980</td>\n",
       "      <td>411.0</td>\n",
       "      <td>18992.0</td>\n",
       "      <td>2453.0</td>\n",
       "      <td>340616.0</td>\n",
       "      <td>0.021182</td>\n",
       "      <td>0.007150</td>\n",
       "      <td>IT-L23+ORB</td>\n",
       "    </tr>\n",
       "    <tr>\n",
       "      <th>MA0627.2</th>\n",
       "      <td>2.063639</td>\n",
       "      <td>4.593030e-23</td>\n",
       "      <td>8.690495e-22</td>\n",
       "      <td>21.060955</td>\n",
       "      <td>251.0</td>\n",
       "      <td>19152.0</td>\n",
       "      <td>2165.0</td>\n",
       "      <td>340904.0</td>\n",
       "      <td>0.012936</td>\n",
       "      <td>0.006311</td>\n",
       "      <td>IT-L23+ORB</td>\n",
       "    </tr>\n",
       "    <tr>\n",
       "      <th>MA0633.1</th>\n",
       "      <td>3.126104</td>\n",
       "      <td>7.200452e-110</td>\n",
       "      <td>4.314271e-108</td>\n",
       "      <td>107.365093</td>\n",
       "      <td>595.0</td>\n",
       "      <td>18808.0</td>\n",
       "      <td>3437.0</td>\n",
       "      <td>339632.0</td>\n",
       "      <td>0.030665</td>\n",
       "      <td>0.010018</td>\n",
       "      <td>IT-L23+ORB</td>\n",
       "    </tr>\n",
       "    <tr>\n",
       "      <th>MA0665.1</th>\n",
       "      <td>2.195457</td>\n",
       "      <td>1.914231e-19</td>\n",
       "      <td>3.356908e-18</td>\n",
       "      <td>17.474061</td>\n",
       "      <td>180.0</td>\n",
       "      <td>19223.0</td>\n",
       "      <td>1457.0</td>\n",
       "      <td>341612.0</td>\n",
       "      <td>0.009277</td>\n",
       "      <td>0.004247</td>\n",
       "      <td>IT-L23+ORB</td>\n",
       "    </tr>\n",
       "    <tr>\n",
       "      <th>MA0667.1</th>\n",
       "      <td>1.986747</td>\n",
       "      <td>6.545743e-19</td>\n",
       "      <td>1.120569e-17</td>\n",
       "      <td>16.950561</td>\n",
       "      <td>222.0</td>\n",
       "      <td>19181.0</td>\n",
       "      <td>1987.0</td>\n",
       "      <td>341082.0</td>\n",
       "      <td>0.011442</td>\n",
       "      <td>0.005792</td>\n",
       "      <td>IT-L23+ORB</td>\n",
       "    </tr>\n",
       "    <tr>\n",
       "      <th>MA0668.1</th>\n",
       "      <td>3.824030</td>\n",
       "      <td>4.901224e-91</td>\n",
       "      <td>2.349320e-89</td>\n",
       "      <td>88.629058</td>\n",
       "      <td>375.0</td>\n",
       "      <td>19028.0</td>\n",
       "      <td>1759.0</td>\n",
       "      <td>341310.0</td>\n",
       "      <td>0.019327</td>\n",
       "      <td>0.005127</td>\n",
       "      <td>IT-L23+ORB</td>\n",
       "    </tr>\n",
       "    <tr>\n",
       "      <th>MA0669.1</th>\n",
       "      <td>2.916076</td>\n",
       "      <td>2.236389e-40</td>\n",
       "      <td>6.699848e-39</td>\n",
       "      <td>38.173935</td>\n",
       "      <td>233.0</td>\n",
       "      <td>19170.0</td>\n",
       "      <td>1424.0</td>\n",
       "      <td>341645.0</td>\n",
       "      <td>0.012008</td>\n",
       "      <td>0.004151</td>\n",
       "      <td>IT-L23+ORB</td>\n",
       "    </tr>\n",
       "    <tr>\n",
       "      <th>MA0678.1</th>\n",
       "      <td>4.755761</td>\n",
       "      <td>2.750225e-86</td>\n",
       "      <td>1.235882e-84</td>\n",
       "      <td>83.908023</td>\n",
       "      <td>280.0</td>\n",
       "      <td>19123.0</td>\n",
       "      <td>1053.0</td>\n",
       "      <td>342016.0</td>\n",
       "      <td>0.014431</td>\n",
       "      <td>0.003069</td>\n",
       "      <td>IT-L23+ORB</td>\n",
       "    </tr>\n",
       "    <tr>\n",
       "      <th>MA0698.1</th>\n",
       "      <td>1.869464</td>\n",
       "      <td>5.716386e-26</td>\n",
       "      <td>1.208847e-24</td>\n",
       "      <td>23.917628</td>\n",
       "      <td>372.0</td>\n",
       "      <td>19031.0</td>\n",
       "      <td>3550.0</td>\n",
       "      <td>339519.0</td>\n",
       "      <td>0.019172</td>\n",
       "      <td>0.010348</td>\n",
       "      <td>IT-L23+ORB</td>\n",
       "    </tr>\n",
       "    <tr>\n",
       "      <th>MA0785.1</th>\n",
       "      <td>2.151452</td>\n",
       "      <td>8.319632e-31</td>\n",
       "      <td>2.062695e-29</td>\n",
       "      <td>28.685565</td>\n",
       "      <td>311.0</td>\n",
       "      <td>19092.0</td>\n",
       "      <td>2578.0</td>\n",
       "      <td>340491.0</td>\n",
       "      <td>0.016028</td>\n",
       "      <td>0.007515</td>\n",
       "      <td>IT-L23+ORB</td>\n",
       "    </tr>\n",
       "    <tr>\n",
       "      <th>MA0786.1</th>\n",
       "      <td>2.051009</td>\n",
       "      <td>7.507522e-29</td>\n",
       "      <td>1.799303e-27</td>\n",
       "      <td>26.744896</td>\n",
       "      <td>325.0</td>\n",
       "      <td>19078.0</td>\n",
       "      <td>2826.0</td>\n",
       "      <td>340243.0</td>\n",
       "      <td>0.016750</td>\n",
       "      <td>0.008237</td>\n",
       "      <td>IT-L23+ORB</td>\n",
       "    </tr>\n",
       "    <tr>\n",
       "      <th>MA0787.1</th>\n",
       "      <td>1.986791</td>\n",
       "      <td>1.318576e-17</td>\n",
       "      <td>2.017141e-16</td>\n",
       "      <td>15.695264</td>\n",
       "      <td>205.0</td>\n",
       "      <td>19198.0</td>\n",
       "      <td>1834.0</td>\n",
       "      <td>341235.0</td>\n",
       "      <td>0.010565</td>\n",
       "      <td>0.005346</td>\n",
       "      <td>IT-L23+ORB</td>\n",
       "    </tr>\n",
       "    <tr>\n",
       "      <th>MA0788.1</th>\n",
       "      <td>2.269832</td>\n",
       "      <td>1.206281e-24</td>\n",
       "      <td>2.344098e-23</td>\n",
       "      <td>22.630024</td>\n",
       "      <td>217.0</td>\n",
       "      <td>19186.0</td>\n",
       "      <td>1701.0</td>\n",
       "      <td>341368.0</td>\n",
       "      <td>0.011184</td>\n",
       "      <td>0.004958</td>\n",
       "      <td>IT-L23+ORB</td>\n",
       "    </tr>\n",
       "    <tr>\n",
       "      <th>MA0789.1</th>\n",
       "      <td>1.820882</td>\n",
       "      <td>5.937504e-28</td>\n",
       "      <td>1.377118e-26</td>\n",
       "      <td>25.861029</td>\n",
       "      <td>436.0</td>\n",
       "      <td>18967.0</td>\n",
       "      <td>4277.0</td>\n",
       "      <td>338792.0</td>\n",
       "      <td>0.022471</td>\n",
       "      <td>0.012467</td>\n",
       "      <td>IT-L23+ORB</td>\n",
       "    </tr>\n",
       "    <tr>\n",
       "      <th>MA0816.1</th>\n",
       "      <td>1.600774</td>\n",
       "      <td>1.329652e-19</td>\n",
       "      <td>2.390049e-18</td>\n",
       "      <td>17.621593</td>\n",
       "      <td>462.0</td>\n",
       "      <td>18941.0</td>\n",
       "      <td>5149.0</td>\n",
       "      <td>337920.0</td>\n",
       "      <td>0.023811</td>\n",
       "      <td>0.015009</td>\n",
       "      <td>IT-L23+ORB</td>\n",
       "    </tr>\n",
       "    <tr>\n",
       "      <th>MA0817.1</th>\n",
       "      <td>4.329015</td>\n",
       "      <td>7.499980e-58</td>\n",
       "      <td>2.567850e-56</td>\n",
       "      <td>55.590430</td>\n",
       "      <td>204.0</td>\n",
       "      <td>19199.0</td>\n",
       "      <td>840.0</td>\n",
       "      <td>342229.0</td>\n",
       "      <td>0.010514</td>\n",
       "      <td>0.002448</td>\n",
       "      <td>IT-L23+ORB</td>\n",
       "    </tr>\n",
       "    <tr>\n",
       "      <th>MA0818.1</th>\n",
       "      <td>3.843789</td>\n",
       "      <td>1.278858e-136</td>\n",
       "      <td>1.532499e-134</td>\n",
       "      <td>133.814600</td>\n",
       "      <td>566.0</td>\n",
       "      <td>18837.0</td>\n",
       "      <td>2661.0</td>\n",
       "      <td>340408.0</td>\n",
       "      <td>0.029171</td>\n",
       "      <td>0.007756</td>\n",
       "      <td>IT-L23+ORB</td>\n",
       "    </tr>\n",
       "    <tr>\n",
       "      <th>MA0826.1</th>\n",
       "      <td>4.540019</td>\n",
       "      <td>1.856500e-80</td>\n",
       "      <td>7.851901e-79</td>\n",
       "      <td>78.105025</td>\n",
       "      <td>273.0</td>\n",
       "      <td>19130.0</td>\n",
       "      <td>1075.0</td>\n",
       "      <td>341994.0</td>\n",
       "      <td>0.014070</td>\n",
       "      <td>0.003133</td>\n",
       "      <td>IT-L23+ORB</td>\n",
       "    </tr>\n",
       "    <tr>\n",
       "      <th>MA0827.1</th>\n",
       "      <td>4.365647</td>\n",
       "      <td>1.476182e-120</td>\n",
       "      <td>1.061375e-118</td>\n",
       "      <td>117.974131</td>\n",
       "      <td>431.0</td>\n",
       "      <td>18972.0</td>\n",
       "      <td>1776.0</td>\n",
       "      <td>341293.0</td>\n",
       "      <td>0.022213</td>\n",
       "      <td>0.005177</td>\n",
       "      <td>IT-L23+ORB</td>\n",
       "    </tr>\n",
       "    <tr>\n",
       "      <th>MA0832.1</th>\n",
       "      <td>2.961124</td>\n",
       "      <td>9.107477e-26</td>\n",
       "      <td>1.870936e-24</td>\n",
       "      <td>23.727941</td>\n",
       "      <td>141.0</td>\n",
       "      <td>19262.0</td>\n",
       "      <td>846.0</td>\n",
       "      <td>342223.0</td>\n",
       "      <td>0.007267</td>\n",
       "      <td>0.002466</td>\n",
       "      <td>IT-L23+ORB</td>\n",
       "    </tr>\n",
       "    <tr>\n",
       "      <th>MA1109.1</th>\n",
       "      <td>2.025367</td>\n",
       "      <td>3.832256e-59</td>\n",
       "      <td>1.377696e-57</td>\n",
       "      <td>56.860847</td>\n",
       "      <td>722.0</td>\n",
       "      <td>18681.0</td>\n",
       "      <td>6424.0</td>\n",
       "      <td>336645.0</td>\n",
       "      <td>0.037211</td>\n",
       "      <td>0.018725</td>\n",
       "      <td>IT-L23+ORB</td>\n",
       "    </tr>\n",
       "    <tr>\n",
       "      <th>MA1115.1</th>\n",
       "      <td>2.045350</td>\n",
       "      <td>3.905889e-68</td>\n",
       "      <td>1.478071e-66</td>\n",
       "      <td>65.830305</td>\n",
       "      <td>818.0</td>\n",
       "      <td>18585.0</td>\n",
       "      <td>7227.0</td>\n",
       "      <td>335842.0</td>\n",
       "      <td>0.042158</td>\n",
       "      <td>0.021066</td>\n",
       "      <td>IT-L23+ORB</td>\n",
       "    </tr>\n",
       "    <tr>\n",
       "      <th>MA1123.2</th>\n",
       "      <td>2.122879</td>\n",
       "      <td>2.161394e-101</td>\n",
       "      <td>1.195417e-99</td>\n",
       "      <td>98.922481</td>\n",
       "      <td>1136.0</td>\n",
       "      <td>18267.0</td>\n",
       "      <td>9764.0</td>\n",
       "      <td>333305.0</td>\n",
       "      <td>0.058548</td>\n",
       "      <td>0.028461</td>\n",
       "      <td>IT-L23+ORB</td>\n",
       "    </tr>\n",
       "    <tr>\n",
       "      <th>MA1467.1</th>\n",
       "      <td>1.633246</td>\n",
       "      <td>5.652189e-13</td>\n",
       "      <td>7.667781e-12</td>\n",
       "      <td>11.115330</td>\n",
       "      <td>267.0</td>\n",
       "      <td>19136.0</td>\n",
       "      <td>2906.0</td>\n",
       "      <td>340163.0</td>\n",
       "      <td>0.013761</td>\n",
       "      <td>0.008471</td>\n",
       "      <td>IT-L23+ORB</td>\n",
       "    </tr>\n",
       "    <tr>\n",
       "      <th>MA1468.1</th>\n",
       "      <td>3.636637</td>\n",
       "      <td>4.393573e-135</td>\n",
       "      <td>4.512827e-133</td>\n",
       "      <td>132.345551</td>\n",
       "      <td>599.0</td>\n",
       "      <td>18804.0</td>\n",
       "      <td>2979.0</td>\n",
       "      <td>340090.0</td>\n",
       "      <td>0.030872</td>\n",
       "      <td>0.008683</td>\n",
       "      <td>IT-L23+ORB</td>\n",
       "    </tr>\n",
       "    <tr>\n",
       "      <th>MA1472.1</th>\n",
       "      <td>1.790008</td>\n",
       "      <td>1.142539e-122</td>\n",
       "      <td>9.127618e-121</td>\n",
       "      <td>120.039643</td>\n",
       "      <td>2292.0</td>\n",
       "      <td>17111.0</td>\n",
       "      <td>23885.0</td>\n",
       "      <td>319184.0</td>\n",
       "      <td>0.118126</td>\n",
       "      <td>0.069622</td>\n",
       "      <td>IT-L23+ORB</td>\n",
       "    </tr>\n",
       "    <tr>\n",
       "      <th>MA1524.1</th>\n",
       "      <td>1.720755</td>\n",
       "      <td>6.210053e-25</td>\n",
       "      <td>1.240286e-23</td>\n",
       "      <td>22.906478</td>\n",
       "      <td>462.0</td>\n",
       "      <td>18941.0</td>\n",
       "      <td>4795.0</td>\n",
       "      <td>338274.0</td>\n",
       "      <td>0.023811</td>\n",
       "      <td>0.013977</td>\n",
       "      <td>IT-L23+ORB</td>\n",
       "    </tr>\n",
       "    <tr>\n",
       "      <th>MA1568.1</th>\n",
       "      <td>4.363341</td>\n",
       "      <td>2.845856e-39</td>\n",
       "      <td>8.184682e-38</td>\n",
       "      <td>37.086998</td>\n",
       "      <td>135.0</td>\n",
       "      <td>19268.0</td>\n",
       "      <td>550.0</td>\n",
       "      <td>342519.0</td>\n",
       "      <td>0.006958</td>\n",
       "      <td>0.001603</td>\n",
       "      <td>IT-L23+ORB</td>\n",
       "    </tr>\n",
       "    <tr>\n",
       "      <th>MA1570.1</th>\n",
       "      <td>2.647766</td>\n",
       "      <td>2.800493e-145</td>\n",
       "      <td>4.027108e-143</td>\n",
       "      <td>142.395007</td>\n",
       "      <td>1043.0</td>\n",
       "      <td>18360.0</td>\n",
       "      <td>7206.0</td>\n",
       "      <td>335863.0</td>\n",
       "      <td>0.053755</td>\n",
       "      <td>0.021005</td>\n",
       "      <td>IT-L23+ORB</td>\n",
       "    </tr>\n",
       "    <tr>\n",
       "      <th>MA1618.1</th>\n",
       "      <td>3.407702</td>\n",
       "      <td>4.850546e-206</td>\n",
       "      <td>1.162514e-203</td>\n",
       "      <td>202.934602</td>\n",
       "      <td>1009.0</td>\n",
       "      <td>18394.0</td>\n",
       "      <td>5435.0</td>\n",
       "      <td>337634.0</td>\n",
       "      <td>0.052002</td>\n",
       "      <td>0.015842</td>\n",
       "      <td>IT-L23+ORB</td>\n",
       "    </tr>\n",
       "    <tr>\n",
       "      <th>MA1619.1</th>\n",
       "      <td>1.949653</td>\n",
       "      <td>4.517046e-52</td>\n",
       "      <td>1.476253e-50</td>\n",
       "      <td>49.830839</td>\n",
       "      <td>698.0</td>\n",
       "      <td>18705.0</td>\n",
       "      <td>6443.0</td>\n",
       "      <td>336626.0</td>\n",
       "      <td>0.035974</td>\n",
       "      <td>0.018780</td>\n",
       "      <td>IT-L23+ORB</td>\n",
       "    </tr>\n",
       "    <tr>\n",
       "      <th>MA1638.1</th>\n",
       "      <td>2.063442</td>\n",
       "      <td>3.103994e-266</td>\n",
       "      <td>2.231772e-263</td>\n",
       "      <td>262.651350</td>\n",
       "      <td>3545.0</td>\n",
       "      <td>15858.0</td>\n",
       "      <td>33534.0</td>\n",
       "      <td>309535.0</td>\n",
       "      <td>0.182704</td>\n",
       "      <td>0.097747</td>\n",
       "      <td>IT-L23+ORB</td>\n",
       "    </tr>\n",
       "    <tr>\n",
       "      <th>MA1641.1</th>\n",
       "      <td>1.952537</td>\n",
       "      <td>8.878932e-52</td>\n",
       "      <td>2.775631e-50</td>\n",
       "      <td>49.556638</td>\n",
       "      <td>691.0</td>\n",
       "      <td>18712.0</td>\n",
       "      <td>6368.0</td>\n",
       "      <td>336701.0</td>\n",
       "      <td>0.035613</td>\n",
       "      <td>0.018562</td>\n",
       "      <td>IT-L23+ORB</td>\n",
       "    </tr>\n",
       "    <tr>\n",
       "      <th>MA1642.1</th>\n",
       "      <td>2.015550</td>\n",
       "      <td>3.104273e-96</td>\n",
       "      <td>1.594266e-94</td>\n",
       "      <td>93.797439</td>\n",
       "      <td>1227.0</td>\n",
       "      <td>18176.0</td>\n",
       "      <td>11118.0</td>\n",
       "      <td>331951.0</td>\n",
       "      <td>0.063238</td>\n",
       "      <td>0.032407</td>\n",
       "      <td>IT-L23+ORB</td>\n",
       "    </tr>\n",
       "  </tbody>\n",
       "</table>\n",
       "</div>"
      ],
      "text/plain": [
       "          oddsratio        p_value          adj_p        -lgp      tp  \\\n",
       "MA0091.1   4.102662  6.551730e-152  1.177674e-149  148.928975   585.0   \n",
       "MA0461.2   3.409063  1.291913e-118  8.444412e-117  116.073431   570.0   \n",
       "MA0507.1   2.137453   2.270353e-32   5.829943e-31   30.234336   333.0   \n",
       "MA0509.2   2.004945   7.467796e-16   1.095785e-14   13.960275   178.0   \n",
       "MA0607.1   2.632387  1.203241e-226  4.325651e-224  223.363948  1685.0   \n",
       "MA0619.1   1.690465  1.202332e-124  1.080596e-122  121.966337  2895.0   \n",
       "MA0623.2   3.004959   1.283996e-72   5.128850e-71   70.289980   411.0   \n",
       "MA0627.2   2.063639   4.593030e-23   8.690495e-22   21.060955   251.0   \n",
       "MA0633.1   3.126104  7.200452e-110  4.314271e-108  107.365093   595.0   \n",
       "MA0665.1   2.195457   1.914231e-19   3.356908e-18   17.474061   180.0   \n",
       "MA0667.1   1.986747   6.545743e-19   1.120569e-17   16.950561   222.0   \n",
       "MA0668.1   3.824030   4.901224e-91   2.349320e-89   88.629058   375.0   \n",
       "MA0669.1   2.916076   2.236389e-40   6.699848e-39   38.173935   233.0   \n",
       "MA0678.1   4.755761   2.750225e-86   1.235882e-84   83.908023   280.0   \n",
       "MA0698.1   1.869464   5.716386e-26   1.208847e-24   23.917628   372.0   \n",
       "MA0785.1   2.151452   8.319632e-31   2.062695e-29   28.685565   311.0   \n",
       "MA0786.1   2.051009   7.507522e-29   1.799303e-27   26.744896   325.0   \n",
       "MA0787.1   1.986791   1.318576e-17   2.017141e-16   15.695264   205.0   \n",
       "MA0788.1   2.269832   1.206281e-24   2.344098e-23   22.630024   217.0   \n",
       "MA0789.1   1.820882   5.937504e-28   1.377118e-26   25.861029   436.0   \n",
       "MA0816.1   1.600774   1.329652e-19   2.390049e-18   17.621593   462.0   \n",
       "MA0817.1   4.329015   7.499980e-58   2.567850e-56   55.590430   204.0   \n",
       "MA0818.1   3.843789  1.278858e-136  1.532499e-134  133.814600   566.0   \n",
       "MA0826.1   4.540019   1.856500e-80   7.851901e-79   78.105025   273.0   \n",
       "MA0827.1   4.365647  1.476182e-120  1.061375e-118  117.974131   431.0   \n",
       "MA0832.1   2.961124   9.107477e-26   1.870936e-24   23.727941   141.0   \n",
       "MA1109.1   2.025367   3.832256e-59   1.377696e-57   56.860847   722.0   \n",
       "MA1115.1   2.045350   3.905889e-68   1.478071e-66   65.830305   818.0   \n",
       "MA1123.2   2.122879  2.161394e-101   1.195417e-99   98.922481  1136.0   \n",
       "MA1467.1   1.633246   5.652189e-13   7.667781e-12   11.115330   267.0   \n",
       "MA1468.1   3.636637  4.393573e-135  4.512827e-133  132.345551   599.0   \n",
       "MA1472.1   1.790008  1.142539e-122  9.127618e-121  120.039643  2292.0   \n",
       "MA1524.1   1.720755   6.210053e-25   1.240286e-23   22.906478   462.0   \n",
       "MA1568.1   4.363341   2.845856e-39   8.184682e-38   37.086998   135.0   \n",
       "MA1570.1   2.647766  2.800493e-145  4.027108e-143  142.395007  1043.0   \n",
       "MA1618.1   3.407702  4.850546e-206  1.162514e-203  202.934602  1009.0   \n",
       "MA1619.1   1.949653   4.517046e-52   1.476253e-50   49.830839   698.0   \n",
       "MA1638.1   2.063442  3.103994e-266  2.231772e-263  262.651350  3545.0   \n",
       "MA1641.1   1.952537   8.878932e-52   2.775631e-50   49.556638   691.0   \n",
       "MA1642.1   2.015550   3.104273e-96   1.594266e-94   93.797439  1227.0   \n",
       "\n",
       "               tn       fp        fn   tp_rate   fp_rate       Group  \n",
       "MA0091.1  18818.0   2580.0  340489.0  0.030150  0.007520  IT-L23+ORB  \n",
       "MA0461.2  18833.0   3019.0  340050.0  0.029377  0.008800  IT-L23+ORB  \n",
       "MA0507.1  19070.0   2780.0  340289.0  0.017162  0.008103  IT-L23+ORB  \n",
       "MA0509.2  19225.0   1577.0  341492.0  0.009174  0.004597  IT-L23+ORB  \n",
       "MA0607.1  17718.0  11962.0  331107.0  0.086842  0.034868  IT-L23+ORB  \n",
       "MA0619.1  16508.0  32245.0  310824.0  0.149204  0.093990  IT-L23+ORB  \n",
       "MA0623.2  18992.0   2453.0  340616.0  0.021182  0.007150  IT-L23+ORB  \n",
       "MA0627.2  19152.0   2165.0  340904.0  0.012936  0.006311  IT-L23+ORB  \n",
       "MA0633.1  18808.0   3437.0  339632.0  0.030665  0.010018  IT-L23+ORB  \n",
       "MA0665.1  19223.0   1457.0  341612.0  0.009277  0.004247  IT-L23+ORB  \n",
       "MA0667.1  19181.0   1987.0  341082.0  0.011442  0.005792  IT-L23+ORB  \n",
       "MA0668.1  19028.0   1759.0  341310.0  0.019327  0.005127  IT-L23+ORB  \n",
       "MA0669.1  19170.0   1424.0  341645.0  0.012008  0.004151  IT-L23+ORB  \n",
       "MA0678.1  19123.0   1053.0  342016.0  0.014431  0.003069  IT-L23+ORB  \n",
       "MA0698.1  19031.0   3550.0  339519.0  0.019172  0.010348  IT-L23+ORB  \n",
       "MA0785.1  19092.0   2578.0  340491.0  0.016028  0.007515  IT-L23+ORB  \n",
       "MA0786.1  19078.0   2826.0  340243.0  0.016750  0.008237  IT-L23+ORB  \n",
       "MA0787.1  19198.0   1834.0  341235.0  0.010565  0.005346  IT-L23+ORB  \n",
       "MA0788.1  19186.0   1701.0  341368.0  0.011184  0.004958  IT-L23+ORB  \n",
       "MA0789.1  18967.0   4277.0  338792.0  0.022471  0.012467  IT-L23+ORB  \n",
       "MA0816.1  18941.0   5149.0  337920.0  0.023811  0.015009  IT-L23+ORB  \n",
       "MA0817.1  19199.0    840.0  342229.0  0.010514  0.002448  IT-L23+ORB  \n",
       "MA0818.1  18837.0   2661.0  340408.0  0.029171  0.007756  IT-L23+ORB  \n",
       "MA0826.1  19130.0   1075.0  341994.0  0.014070  0.003133  IT-L23+ORB  \n",
       "MA0827.1  18972.0   1776.0  341293.0  0.022213  0.005177  IT-L23+ORB  \n",
       "MA0832.1  19262.0    846.0  342223.0  0.007267  0.002466  IT-L23+ORB  \n",
       "MA1109.1  18681.0   6424.0  336645.0  0.037211  0.018725  IT-L23+ORB  \n",
       "MA1115.1  18585.0   7227.0  335842.0  0.042158  0.021066  IT-L23+ORB  \n",
       "MA1123.2  18267.0   9764.0  333305.0  0.058548  0.028461  IT-L23+ORB  \n",
       "MA1467.1  19136.0   2906.0  340163.0  0.013761  0.008471  IT-L23+ORB  \n",
       "MA1468.1  18804.0   2979.0  340090.0  0.030872  0.008683  IT-L23+ORB  \n",
       "MA1472.1  17111.0  23885.0  319184.0  0.118126  0.069622  IT-L23+ORB  \n",
       "MA1524.1  18941.0   4795.0  338274.0  0.023811  0.013977  IT-L23+ORB  \n",
       "MA1568.1  19268.0    550.0  342519.0  0.006958  0.001603  IT-L23+ORB  \n",
       "MA1570.1  18360.0   7206.0  335863.0  0.053755  0.021005  IT-L23+ORB  \n",
       "MA1618.1  18394.0   5435.0  337634.0  0.052002  0.015842  IT-L23+ORB  \n",
       "MA1619.1  18705.0   6443.0  336626.0  0.035974  0.018780  IT-L23+ORB  \n",
       "MA1638.1  15858.0  33534.0  309535.0  0.182704  0.097747  IT-L23+ORB  \n",
       "MA1641.1  18712.0   6368.0  336701.0  0.035613  0.018562  IT-L23+ORB  \n",
       "MA1642.1  18176.0  11118.0  331951.0  0.063238  0.032407  IT-L23+ORB  "
      ]
     },
     "execution_count": 20,
     "metadata": {},
     "output_type": "execute_result"
    }
   ],
   "source": [
    "filtered_motif_df"
   ]
  },
  {
   "cell_type": "code",
   "execution_count": null,
   "metadata": {
    "papermill": {
     "duration": 0.011387,
     "end_time": "2020-01-14T06:44:25.140546",
     "exception": false,
     "start_time": "2020-01-14T06:44:25.129159",
     "status": "completed"
    },
    "tags": []
   },
   "outputs": [],
   "source": []
  }
 ],
 "metadata": {
  "hide_input": false,
  "kernelspec": {
   "display_name": "Python 3",
   "language": "python",
   "name": "python3"
  },
  "language_info": {
   "codemirror_mode": {
    "name": "ipython",
    "version": 3
   },
   "file_extension": ".py",
   "mimetype": "text/x-python",
   "name": "python",
   "nbconvert_exporter": "python",
   "pygments_lexer": "ipython3",
   "version": "3.7.3"
  },
  "papermill": {
   "duration": 13.114472,
   "end_time": "2020-01-14T06:44:25.659517",
   "environment_variables": {},
   "exception": null,
   "input_path": "4.MotifEnrichment.ipynb",
   "output_path": "/home/hanliu/project/mouse_rostral_brain/DMR/ITSpatial_by_layer/IT-L6/Recipe/4.MotifEnrichment.IT-L23+ORB.ipynb",
   "parameters": {
    "dmr_hits_path": "/home/hanliu/project/mouse_rostral_brain/DMR/ITSpatial_by_layer/IT-L23/HypoDMR/IT-L23+ORB.DMS1.bed",
    "group": "IT-L23+ORB",
    "mask_quantile_to99": 0.9,
    "motif_hits_path": "/home/hanliu/project/mouse_rostral_brain/DMR/ITSpatial_by_layer/IT-L23/MotifScan.h5ad",
    "neg_lgp_cutoff": 10,
    "or_cutoff": 1.5,
    "output_dir": "/home/hanliu/project/mouse_rostral_brain/DMR/ITSpatial_by_layer/IT-L23/MotifEnrichment"
   },
   "start_time": "2020-01-14T06:44:12.545045",
   "version": "1.0.1"
  },
  "toc": {
   "base_numbering": 1,
   "nav_menu": {},
   "number_sections": true,
   "sideBar": true,
   "skip_h1_title": true,
   "title_cell": "Table of Contents",
   "title_sidebar": "Contents",
   "toc_cell": false,
   "toc_position": {},
   "toc_section_display": true,
   "toc_window_display": true
  }
 },
 "nbformat": 4,
 "nbformat_minor": 2
}
