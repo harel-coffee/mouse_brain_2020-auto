{
 "cells": [
  {
   "cell_type": "code",
   "execution_count": 1,
   "metadata": {},
   "outputs": [],
   "source": [
    "import pandas as pd\n",
    "import numpy as np\n",
    "import pathlib"
   ]
  },
  {
   "cell_type": "code",
   "execution_count": 2,
   "metadata": {},
   "outputs": [],
   "source": [
    "def __judge_row(row, skip_n, hypo_delta, hyper_delta):\n",
    "    # filter hypo- hyper- sample with additional delta cutoff\n",
    "    \n",
    "    mc_rate = row[2:]\n",
    "    robust_mean = mc_rate.sort_values()[skip_n:-skip_n].mean()  # 2 for the hypo hyper sample col\n",
    "    hyper_samples, hypo_samples = row[:2]  # methylpy: hyper is col 4, hypo is col 5\n",
    "        \n",
    "    # hyper- hypo- still need to be significant\n",
    "    true_hypo_sample = mc_rate.index[(robust_mean - mc_rate) > hypo_delta] & hypo_samples\n",
    "    true_hyper_sample = mc_rate.index[(mc_rate - robust_mean) > hyper_delta] & hyper_samples\n",
    "    \n",
    "    return true_hypo_sample, true_hyper_sample\n",
    "\n",
    "\n",
    "def __process_chunk(chunk, skip_n, hypo_delta, hyper_delta):\n",
    "    # change str to index\n",
    "    chunk.iloc[:, 4:6] = chunk.iloc[:, 4:6].fillna('').applymap(lambda i: pd.Index(i.split(',')))\n",
    "    mc_info = chunk.iloc[:, 4:]\n",
    "    \n",
    "    # separate columns\n",
    "    result = mc_info.apply(lambda i: __judge_row(\n",
    "    i, skip_n=skip_n, hypo_delta=hypo_delta, hyper_delta=hyper_delta), axis=1)    \n",
    "    return result"
   ]
  },
  {
   "cell_type": "code",
   "execution_count": 3,
   "metadata": {},
   "outputs": [],
   "source": [
    "dmr_path = '/home/hanliu/project/mouse_rostral_brain/DMR/MajorType/MajorType_rms_results_collapsed.tsv'"
   ]
  },
  {
   "cell_type": "code",
   "execution_count": 4,
   "metadata": {},
   "outputs": [],
   "source": [
    "quantile = 0.2\n",
    "hypo_delta = 0.3\n",
    "hyper_delta = 0.1"
   ]
  },
  {
   "cell_type": "code",
   "execution_count": 8,
   "metadata": {},
   "outputs": [],
   "source": [
    "# get column and n_sample\n",
    "dmr_column = pd.read_csv(dmr_path, sep='\\t', nrows=0).columns\n",
    "n_sample = dmr_column.size - 6\n",
    "dmr_column = dmr_column.map(lambda i: i[18:] if 'methylation_level_' in i else i)\n",
    "samples = dmr_column[6:]\n",
    "# calculate skip_n\n",
    "skip_n = int(max(1, n_sample * quantile))\n",
    "if n_sample - skip_n * 2 < 4:\n",
    "    skip_n = 0\n"
   ]
  },
  {
   "cell_type": "code",
   "execution_count": null,
   "metadata": {
    "scrolled": true
   },
   "outputs": [
    {
     "name": "stdout",
     "output_type": "stream",
     "text": [
      "1\n"
     ]
    }
   ],
   "source": [
    "dmr_region_infos = []\n",
    "mc_rates = []\n",
    "hypo_sig_dict = {sample: [] for sample in samples}\n",
    "hyper_sig_dict = {sample: [] for sample in samples}\n",
    "\n",
    "n = 0\n",
    "for chunk in pd.read_csv(dmr_path, sep='\\t', chunksize=1000000, skiprows=1, names=dmr_column):\n",
    "    n += 1\n",
    "    print(n)\n",
    "    \n",
    "    # save basic info\n",
    "    dmr_region_info = chunk.iloc[:, :4]\n",
    "    mc_rate = chunk.iloc[:, 6:]\n",
    "    mc_rates.append(mc_rate)\n",
    "    dmr_region_infos.append(dmr_region_info)\n",
    "    \n",
    "    # judge sig sample with delta\n",
    "    result = __process_chunk(chunk, skip_n=skip_n, hypo_delta=hypo_delta, hyper_delta=hyper_delta)\n",
    "    # parse results\n",
    "    hypo = result.apply(lambda i: i[0])\n",
    "    hyper = result.apply(lambda i: i[1])\n",
    "    for sample in samples:\n",
    "        # here saved a list of np.array\n",
    "        hypo_sig_dict[sample].append(hypo.index[hypo.apply(lambda i: sample in i)].values) \n",
    "        hyper_sig_dict[sample].append(hyper.index[hyper.apply(lambda i: sample in i)].values) \n",
    "\n",
    "# here saved a pd.Index for easy selecting dmr belong to sample\n",
    "hypo_sig_dict = {k: pd.Index(np.concatenate(v)) for k, v in hypo_sig_dict.items()}\n",
    "hyper_sig_dict = {k: pd.Index(np.concatenate(v)) for k, v in hyper_sig_dict.items()}\n",
    "\n",
    "# total dmr region and rate info\n",
    "total_dmr_region_info = pd.concat(dmr_region_infos)\n",
    "total_mc_rate = pd.concat(mc_rates)\n",
    "\n",
    "with pd.HDFStore('MajorType.DMR.h5', 'a') as hdf:\n",
    "    hdf['Rate'] = total_mc_rate\n",
    "    hdf['Bed'] = total_dmr_region_info\n",
    "    \n",
    "    for sample, hypo_index in hypo_sig_dict.items():\n",
    "        hdf[f'HypoDMR/{sample}'] = pd.Series(hypo_index)\n",
    "    for sample, hyper_index in hyper_sig_dict.items():\n",
    "        hdf[f'HyperDMR/{sample}'] = pd.Series(hyper_index)"
   ]
  },
  {
   "cell_type": "markdown",
   "metadata": {},
   "source": [
    "## Dump DMR"
   ]
  },
  {
   "cell_type": "code",
   "execution_count": 5,
   "metadata": {},
   "outputs": [],
   "source": [
    "dms_cutoff = 1"
   ]
  },
  {
   "cell_type": "code",
   "execution_count": 6,
   "metadata": {},
   "outputs": [],
   "source": [
    "hypo_dir = pathlib.Path('HypoBed')\n",
    "hypo_dir.mkdir(exist_ok=True)\n",
    "\n",
    "hyper_dir = pathlib.Path('HyperBed')\n",
    "hyper_dir.mkdir(exist_ok=True)"
   ]
  },
  {
   "cell_type": "code",
   "execution_count": 9,
   "metadata": {},
   "outputs": [],
   "source": [
    "hypo_index_dict = {}\n",
    "hyper_index_dict = {}\n",
    "\n",
    "with pd.HDFStore('MajorType.DMR.h5') as hdf:\n",
    "    dmr_bed = hdf['Bed']\n",
    "    for sample in samples:\n",
    "        hypo_index_dict[sample] = hdf[f'HypoDMR/{sample}']\n",
    "        hyper_index_dict[sample] = hdf[f'HyperDMR/{sample}']"
   ]
  },
  {
   "cell_type": "code",
   "execution_count": 10,
   "metadata": {},
   "outputs": [
    {
     "name": "stderr",
     "output_type": "stream",
     "text": [
      "/home/hanliu/miniconda3/envs/clustering/lib/python3.7/site-packages/ipykernel_launcher.py:5: UserWarning: Boolean Series key will be reindexed to match DataFrame index.\n",
      "  \"\"\"\n",
      "/home/hanliu/miniconda3/envs/clustering/lib/python3.7/site-packages/ipykernel_launcher.py:7: UserWarning: Boolean Series key will be reindexed to match DataFrame index.\n",
      "  import sys\n"
     ]
    },
    {
     "name": "stdout",
     "output_type": "stream",
     "text": [
      "IT-L23 287531 133827\n",
      "ASC 225133 351537\n",
      "DG-po 222168 13961\n",
      "EC 557680 61204\n",
      "PAL-Inh 5919 711369\n",
      "IT-L6 246852 227029\n",
      "LSX-Inh 80176 554844\n",
      "IG-CA2 389300 124794\n",
      "OLF-Exc 164180 220695\n",
      "Unc5c 179383 75965\n",
      "MGC 674356 369491\n",
      "OLF 87791 224821\n",
      "NP-L6 77080 639091\n",
      "L6b 119475 523210\n",
      "Gfra1 287492 5023\n",
      "CT-L6 228623 313953\n",
      "ODC 254194 354838\n",
      "VLMC-Pia 397393 147872\n",
      "IT-L4 327129 129858\n",
      "Foxp2 96231 373261\n",
      "MSN-D2 169580 402523\n",
      "ANP 230357 123521\n",
      "CGE-Vip 79417 454002\n",
      "Chd7 61978 234761\n",
      "CA3-St18 328161 106834\n",
      "CGE-Lamp5 253206 240993\n",
      "D1L-PAL 98521 341287\n",
      "OPC 368619 228459\n",
      "MGE-Pvalb 128885 543579\n",
      "EP 185907 182131\n",
      "PC 958587 88367\n",
      "PT-L5 261820 259780\n",
      "MGE-Sst 64006 580597\n",
      "CLA 239452 275393\n",
      "D1L-Fstl4 138892 382145\n",
      "CA1 330653 67215\n",
      "VLMC 369718 250618\n",
      "CA3 368749 123398\n",
      "IT-L5 292052 199178\n",
      "MSN-D1 206516 428474\n",
      "DG 387400 117673\n"
     ]
    }
   ],
   "source": [
    "for sample in samples:\n",
    "    hypo_index = hypo_index_dict[sample].values\n",
    "    hyper_index = hyper_index_dict[sample].values\n",
    "\n",
    "    hypo_bed = dmr_bed.loc[hypo_index][dmr_bed['number_of_dms'] >= dms_cutoff]\n",
    "    hyper_bed = dmr_bed.loc[hyper_index][\n",
    "        dmr_bed['number_of_dms'] >= dms_cutoff]\n",
    "\n",
    "    # ADD INDEX TO DMR\n",
    "    hypo_bed.index = hypo_bed.index.map(lambda i: f'Major_{i}')\n",
    "    hypo_bed.reset_index(drop=False, inplace=True)\n",
    "\n",
    "    hyper_bed.index = hyper_bed.index.map(lambda i: f'Major_{i}')\n",
    "    hyper_bed.reset_index(drop=False, inplace=True)\n",
    "\n",
    "    hypo_bed.iloc[:, [1, 2, 3, 0]].to_csv(\n",
    "        hypo_dir / f'{sample}.HypoDMR.DMS{dms_cutoff}.bed',\n",
    "        header=None,\n",
    "        index=None,\n",
    "        sep='\\t')\n",
    "    hyper_bed.iloc[:, [1, 2, 3, 0]].to_csv(\n",
    "        hyper_dir / f'{sample}.HyperDMR.DMS{dms_cutoff}.bed',\n",
    "        header=None,\n",
    "        index=None,\n",
    "        sep='\\t')\n",
    "    print(sample, hypo_bed.shape[0], hyper_bed.shape[0])"
   ]
  },
  {
   "cell_type": "code",
   "execution_count": 11,
   "metadata": {},
   "outputs": [],
   "source": [
    "with pd.HDFStore('MajorType.DMR.h5') as hdf:\n",
    "    dmr_bed = hdf['Bed']\n",
    "dmr_bed.index = dmr_bed.index.map(lambda i: f'Major_{i}')\n",
    "dmr_bed.reset_index(drop=False, inplace=True)"
   ]
  },
  {
   "cell_type": "code",
   "execution_count": 10,
   "metadata": {},
   "outputs": [],
   "source": [
    "dmr_bed.iloc[:, [1, 2, 3, 0]].to_csv('MajorDMR.total.bed', sep='\\t', index=None, header=None)"
   ]
  },
  {
   "cell_type": "code",
   "execution_count": null,
   "metadata": {},
   "outputs": [],
   "source": []
  },
  {
   "cell_type": "code",
   "execution_count": null,
   "metadata": {},
   "outputs": [],
   "source": []
  }
 ],
 "metadata": {
  "hide_input": false,
  "kernelspec": {
   "display_name": "Python 3",
   "language": "python",
   "name": "python3"
  },
  "language_info": {
   "codemirror_mode": {
    "name": "ipython",
    "version": 3
   },
   "file_extension": ".py",
   "mimetype": "text/x-python",
   "name": "python",
   "nbconvert_exporter": "python",
   "pygments_lexer": "ipython3",
   "version": "3.7.3"
  },
  "toc": {
   "base_numbering": 1,
   "nav_menu": {},
   "number_sections": true,
   "sideBar": true,
   "skip_h1_title": true,
   "title_cell": "Table of Contents",
   "title_sidebar": "Contents",
   "toc_cell": false,
   "toc_position": {},
   "toc_section_display": true,
   "toc_window_display": true
  }
 },
 "nbformat": 4,
 "nbformat_minor": 2
}
