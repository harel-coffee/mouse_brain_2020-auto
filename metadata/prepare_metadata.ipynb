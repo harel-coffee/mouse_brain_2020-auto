{
 "cells": [
  {
   "cell_type": "markdown",
   "metadata": {
    "toc": true
   },
   "source": [
    "<h1>Table of Contents<span class=\"tocSkip\"></span></h1>\n",
    "<div class=\"toc\"><ul class=\"toc-item\"><li><span><a href=\"#Raw-cell-meta,-before-QC\" data-toc-modified-id=\"Raw-cell-meta,-before-QC-1\"><span class=\"toc-item-num\">1&nbsp;&nbsp;</span>Raw cell meta, before QC</a></span></li><li><span><a href=\"#MCDS\" data-toc-modified-id=\"MCDS-2\"><span class=\"toc-item-num\">2&nbsp;&nbsp;</span>MCDS</a></span></li></ul></div>"
   ]
  },
  {
   "cell_type": "code",
   "execution_count": 1,
   "metadata": {
    "ExecuteTime": {
     "end_time": "2019-09-17T23:41:42.604258Z",
     "start_time": "2019-09-17T23:41:42.229338Z"
    }
   },
   "outputs": [],
   "source": [
    "import pandas as pd\n",
    "import seaborn as sns"
   ]
  },
  {
   "cell_type": "markdown",
   "metadata": {},
   "source": [
    "## Raw cell meta, before QC"
   ]
  },
  {
   "cell_type": "code",
   "execution_count": 2,
   "metadata": {
    "ExecuteTime": {
     "end_time": "2019-09-08T20:14:46.054651Z",
     "start_time": "2019-09-08T20:14:45.858579Z"
    },
    "deletable": false,
    "editable": false,
    "run_control": {
     "frozen": true
    }
   },
   "outputs": [
    {
     "name": "stderr",
     "output_type": "stream",
     "text": [
      "/home/hanliu/miniconda3/envs/clustering/lib/python3.7/site-packages/IPython/core/interactiveshell.py:3326: FutureWarning: The read_msgpack is deprecated and will be removed in a future version.\n",
      "It is recommended to use pyarrow for on-the-wire transmission of pandas objects.\n",
      "  exec(code_obj, self.user_global_ns, self.user_ns)\n"
     ]
    }
   ],
   "source": [
    "cell_meta = pd.read_msgpack('/home/hanliu/project/cemba/metainfo/CURRENT_CELL_137848_2019-09-03.msg')"
   ]
  },
  {
   "cell_type": "code",
   "execution_count": 3,
   "metadata": {
    "ExecuteTime": {
     "end_time": "2019-09-08T20:14:48.372011Z",
     "start_time": "2019-09-08T20:14:48.300628Z"
    },
    "deletable": false,
    "editable": false,
    "run_control": {
     "frozen": true
    }
   },
   "outputs": [],
   "source": [
    "with open('PAPER_REGION.txt') as f:\n",
    "    paper_regions = [l.strip() for l in f.readlines()]\n",
    "cell_meta = cell_meta[cell_meta['Region'].isin(paper_regions)].copy()"
   ]
  },
  {
   "cell_type": "code",
   "execution_count": 4,
   "metadata": {
    "ExecuteTime": {
     "end_time": "2019-09-08T20:14:48.380782Z",
     "start_time": "2019-09-08T20:14:48.373501Z"
    },
    "deletable": false,
    "editable": false,
    "run_control": {
     "frozen": true
    }
   },
   "outputs": [
    {
     "name": "stdout",
     "output_type": "stream",
     "text": [
      "45 regions\n",
      "122687 cells\n"
     ]
    }
   ],
   "source": [
    "print(cell_meta['Region'].unique().size, 'regions')\n",
    "print(cell_meta.shape[0], 'cells')"
   ]
  },
  {
   "cell_type": "code",
   "execution_count": 5,
   "metadata": {
    "ExecuteTime": {
     "end_time": "2019-09-08T20:14:56.029618Z",
     "start_time": "2019-09-08T20:14:55.972622Z"
    },
    "deletable": false,
    "editable": false,
    "run_control": {
     "frozen": true
    },
    "scrolled": true
   },
   "outputs": [],
   "source": [
    "for col in cell_meta.columns:\n",
    "    #print(col)\n",
    "    assert cell_meta[col].isna().sum() == 0\n",
    "assert cell_meta.index.duplicated().sum() == 0"
   ]
  },
  {
   "cell_type": "code",
   "execution_count": 6,
   "metadata": {
    "ExecuteTime": {
     "end_time": "2019-09-08T20:15:04.096265Z",
     "start_time": "2019-09-08T20:14:58.392422Z"
    },
    "deletable": false,
    "editable": false,
    "run_control": {
     "frozen": true
    }
   },
   "outputs": [
    {
     "name": "stderr",
     "output_type": "stream",
     "text": [
      "/home/hanliu/miniconda3/envs/clustering/lib/python3.7/site-packages/ipykernel_launcher.py:1: FutureWarning: to_msgpack is deprecated and will be removed in a future version.\n",
      "It is recommended to use pyarrow for on-the-wire transmission of pandas objects.\n",
      "  \"\"\"Entry point for launching an IPython kernel.\n"
     ]
    }
   ],
   "source": [
    "cell_meta.to_msgpack(f'CellMeta.{cell_meta.shape[0]}.Raw.msg')\n",
    "cell_meta.to_csv(f'CellMeta.{cell_meta.shape[0]}.Raw.csv.gz')"
   ]
  },
  {
   "cell_type": "markdown",
   "metadata": {},
   "source": [
    "## MCDS"
   ]
  },
  {
   "cell_type": "code",
   "execution_count": 2,
   "metadata": {
    "ExecuteTime": {
     "end_time": "2019-09-17T23:41:44.895641Z",
     "start_time": "2019-09-17T23:41:44.625016Z"
    }
   },
   "outputs": [
    {
     "name": "stderr",
     "output_type": "stream",
     "text": [
      "/home/hanliu/miniconda3/envs/clustering/lib/python3.7/site-packages/IPython/core/interactiveshell.py:3326: FutureWarning: The read_msgpack is deprecated and will be removed in a future version.\n",
      "It is recommended to use pyarrow for on-the-wire transmission of pandas objects.\n",
      "  exec(code_obj, self.user_global_ns, self.user_ns)\n"
     ]
    }
   ],
   "source": [
    "cell_meta = pd.read_msgpack('CellMeta.122687.Raw.msg')"
   ]
  },
  {
   "cell_type": "code",
   "execution_count": 3,
   "metadata": {
    "ExecuteTime": {
     "end_time": "2019-09-17T23:41:46.727868Z",
     "start_time": "2019-09-17T23:41:46.722595Z"
    }
   },
   "outputs": [
    {
     "data": {
      "text/plain": [
       "Index(['AllcPath', 'CCC_Rate', 'CG_Rate', 'CG_RateAdj', 'CH_Rate',\n",
       "       'CH_RateAdj', 'FinalReads', 'InputReads', 'MappedReads', 'Region',\n",
       "       'index_name', 'uid', 'BamFilteringRate', 'MappingRate', 'Pos96',\n",
       "       'Plate', 'Col96', 'Row96', 'Col384', 'Row384', 'FACS_Date', 'Slice'],\n",
       "      dtype='object')"
      ]
     },
     "execution_count": 3,
     "metadata": {},
     "output_type": "execute_result"
    }
   ],
   "source": [
    "cell_meta.columns"
   ]
  },
  {
   "cell_type": "code",
   "execution_count": 4,
   "metadata": {
    "ExecuteTime": {
     "end_time": "2019-09-17T23:41:46.960622Z",
     "start_time": "2019-09-17T23:41:46.920732Z"
    }
   },
   "outputs": [
    {
     "data": {
      "text/plain": [
       "4B     2881\n",
       "1B     2839\n",
       "5H     2708\n",
       "2E     2698\n",
       "11F    2687\n",
       "3A     2676\n",
       "6A     2676\n",
       "8E     2673\n",
       "6B     2664\n",
       "1C     2649\n",
       "5G     2641\n",
       "9J     2611\n",
       "5E     2604\n",
       "4F     2602\n",
       "11E    2589\n",
       "6D     2584\n",
       "2A     2567\n",
       "4D     2539\n",
       "8B     2537\n",
       "3E     2530\n",
       "9H     2509\n",
       "6C     2507\n",
       "4A     2492\n",
       "3B     2480\n",
       "5A     2475\n",
       "3C     2473\n",
       "1A     2468\n",
       "2D     2467\n",
       "10F    2463\n",
       "2B     2460\n",
       "5C     2454\n",
       "3D     2409\n",
       "8J     2373\n",
       "5D     2373\n",
       "5J     2349\n",
       "5F     2305\n",
       "2C     2214\n",
       "3F     2197\n",
       "7B     2167\n",
       "4H     2122\n",
       "4C     2055\n",
       "5B     2053\n",
       "4G     1978\n",
       "4E     1764\n",
       "10E    1732\n",
       "Name: Region, dtype: int64"
      ]
     },
     "execution_count": 4,
     "metadata": {},
     "output_type": "execute_result"
    }
   ],
   "source": [
    "cell_meta[cell_meta['FinalReads'] > 500000]['Region'].value_counts()"
   ]
  },
  {
   "cell_type": "code",
   "execution_count": 5,
   "metadata": {
    "ExecuteTime": {
     "end_time": "2019-09-17T23:41:57.494009Z",
     "start_time": "2019-09-17T23:41:57.443637Z"
    }
   },
   "outputs": [
    {
     "data": {
      "text/html": [
       "<div>\n",
       "<style scoped>\n",
       "    .dataframe tbody tr th:only-of-type {\n",
       "        vertical-align: middle;\n",
       "    }\n",
       "\n",
       "    .dataframe tbody tr th {\n",
       "        vertical-align: top;\n",
       "    }\n",
       "\n",
       "    .dataframe thead th {\n",
       "        text-align: right;\n",
       "    }\n",
       "</style>\n",
       "<table border=\"1\" class=\"dataframe\">\n",
       "  <thead>\n",
       "    <tr style=\"text-align: right;\">\n",
       "      <th></th>\n",
       "      <th>AllcPath</th>\n",
       "      <th>CCC_Rate</th>\n",
       "      <th>CG_Rate</th>\n",
       "      <th>CG_RateAdj</th>\n",
       "      <th>CH_Rate</th>\n",
       "      <th>CH_RateAdj</th>\n",
       "      <th>FinalReads</th>\n",
       "      <th>InputReads</th>\n",
       "      <th>MappedReads</th>\n",
       "      <th>Region</th>\n",
       "      <th>...</th>\n",
       "      <th>BamFilteringRate</th>\n",
       "      <th>MappingRate</th>\n",
       "      <th>Pos96</th>\n",
       "      <th>Plate</th>\n",
       "      <th>Col96</th>\n",
       "      <th>Row96</th>\n",
       "      <th>Col384</th>\n",
       "      <th>Row384</th>\n",
       "      <th>FACS_Date</th>\n",
       "      <th>Slice</th>\n",
       "    </tr>\n",
       "    <tr>\n",
       "      <th>cell</th>\n",
       "      <th></th>\n",
       "      <th></th>\n",
       "      <th></th>\n",
       "      <th></th>\n",
       "      <th></th>\n",
       "      <th></th>\n",
       "      <th></th>\n",
       "      <th></th>\n",
       "      <th></th>\n",
       "      <th></th>\n",
       "      <th></th>\n",
       "      <th></th>\n",
       "      <th></th>\n",
       "      <th></th>\n",
       "      <th></th>\n",
       "      <th></th>\n",
       "      <th></th>\n",
       "      <th></th>\n",
       "      <th></th>\n",
       "      <th></th>\n",
       "      <th></th>\n",
       "    </tr>\n",
       "  </thead>\n",
       "  <tbody>\n",
       "    <tr>\n",
       "      <th>10E_M_0</th>\n",
       "      <td>/gale/raidix/rdx-4/mapping/10E/CEMBA190625-10E...</td>\n",
       "      <td>0.008198</td>\n",
       "      <td>0.822633</td>\n",
       "      <td>0.821166</td>\n",
       "      <td>0.041640</td>\n",
       "      <td>0.033718</td>\n",
       "      <td>1626504.0</td>\n",
       "      <td>4407752</td>\n",
       "      <td>2892347.0</td>\n",
       "      <td>10E</td>\n",
       "      <td>...</td>\n",
       "      <td>0.562347</td>\n",
       "      <td>0.656195</td>\n",
       "      <td>A1</td>\n",
       "      <td>CEMBA190625-10E-1</td>\n",
       "      <td>0</td>\n",
       "      <td>0</td>\n",
       "      <td>0</td>\n",
       "      <td>0</td>\n",
       "      <td>190625</td>\n",
       "      <td>10</td>\n",
       "    </tr>\n",
       "    <tr>\n",
       "      <th>10E_M_1</th>\n",
       "      <td>/gale/raidix/rdx-4/mapping/10E/CEMBA190625-10E...</td>\n",
       "      <td>0.006019</td>\n",
       "      <td>0.743035</td>\n",
       "      <td>0.741479</td>\n",
       "      <td>0.024127</td>\n",
       "      <td>0.018218</td>\n",
       "      <td>2009998.0</td>\n",
       "      <td>5524084</td>\n",
       "      <td>3657352.0</td>\n",
       "      <td>10E</td>\n",
       "      <td>...</td>\n",
       "      <td>0.549577</td>\n",
       "      <td>0.662074</td>\n",
       "      <td>A1</td>\n",
       "      <td>CEMBA190625-10E-1</td>\n",
       "      <td>0</td>\n",
       "      <td>0</td>\n",
       "      <td>0</td>\n",
       "      <td>1</td>\n",
       "      <td>190625</td>\n",
       "      <td>10</td>\n",
       "    </tr>\n",
       "    <tr>\n",
       "      <th>10E_M_10</th>\n",
       "      <td>/gale/raidix/rdx-4/mapping/10E/CEMBA190625-10E...</td>\n",
       "      <td>0.006569</td>\n",
       "      <td>0.750172</td>\n",
       "      <td>0.748520</td>\n",
       "      <td>0.027665</td>\n",
       "      <td>0.021235</td>\n",
       "      <td>1383636.0</td>\n",
       "      <td>3455260</td>\n",
       "      <td>2172987.0</td>\n",
       "      <td>10E</td>\n",
       "      <td>...</td>\n",
       "      <td>0.636744</td>\n",
       "      <td>0.628892</td>\n",
       "      <td>A10</td>\n",
       "      <td>CEMBA190625-10E-1</td>\n",
       "      <td>9</td>\n",
       "      <td>0</td>\n",
       "      <td>19</td>\n",
       "      <td>0</td>\n",
       "      <td>190625</td>\n",
       "      <td>10</td>\n",
       "    </tr>\n",
       "    <tr>\n",
       "      <th>10E_M_100</th>\n",
       "      <td>/gale/raidix/rdx-4/mapping/10E/CEMBA190625-10E...</td>\n",
       "      <td>0.005984</td>\n",
       "      <td>0.750825</td>\n",
       "      <td>0.749325</td>\n",
       "      <td>0.024424</td>\n",
       "      <td>0.018551</td>\n",
       "      <td>377115.0</td>\n",
       "      <td>1088368</td>\n",
       "      <td>703698.0</td>\n",
       "      <td>10E</td>\n",
       "      <td>...</td>\n",
       "      <td>0.535905</td>\n",
       "      <td>0.646563</td>\n",
       "      <td>B10</td>\n",
       "      <td>CEMBA190625-10E-1</td>\n",
       "      <td>9</td>\n",
       "      <td>1</td>\n",
       "      <td>18</td>\n",
       "      <td>2</td>\n",
       "      <td>190625</td>\n",
       "      <td>10</td>\n",
       "    </tr>\n",
       "    <tr>\n",
       "      <th>10E_M_1000</th>\n",
       "      <td>/gale/raidix/rdx-4/mapping/10E/CEMBA190625-10E...</td>\n",
       "      <td>0.000000</td>\n",
       "      <td>0.666667</td>\n",
       "      <td>0.666667</td>\n",
       "      <td>0.012780</td>\n",
       "      <td>0.012780</td>\n",
       "      <td>26.0</td>\n",
       "      <td>115216</td>\n",
       "      <td>58.0</td>\n",
       "      <td>10E</td>\n",
       "      <td>...</td>\n",
       "      <td>0.448276</td>\n",
       "      <td>0.000503</td>\n",
       "      <td>C5</td>\n",
       "      <td>CEMBA190625-10E-4</td>\n",
       "      <td>4</td>\n",
       "      <td>2</td>\n",
       "      <td>9</td>\n",
       "      <td>5</td>\n",
       "      <td>190625</td>\n",
       "      <td>10</td>\n",
       "    </tr>\n",
       "  </tbody>\n",
       "</table>\n",
       "<p>5 rows × 22 columns</p>\n",
       "</div>"
      ],
      "text/plain": [
       "                                                     AllcPath  CCC_Rate  \\\n",
       "cell                                                                      \n",
       "10E_M_0     /gale/raidix/rdx-4/mapping/10E/CEMBA190625-10E...  0.008198   \n",
       "10E_M_1     /gale/raidix/rdx-4/mapping/10E/CEMBA190625-10E...  0.006019   \n",
       "10E_M_10    /gale/raidix/rdx-4/mapping/10E/CEMBA190625-10E...  0.006569   \n",
       "10E_M_100   /gale/raidix/rdx-4/mapping/10E/CEMBA190625-10E...  0.005984   \n",
       "10E_M_1000  /gale/raidix/rdx-4/mapping/10E/CEMBA190625-10E...  0.000000   \n",
       "\n",
       "             CG_Rate  CG_RateAdj   CH_Rate  CH_RateAdj  FinalReads  \\\n",
       "cell                                                                 \n",
       "10E_M_0     0.822633    0.821166  0.041640    0.033718   1626504.0   \n",
       "10E_M_1     0.743035    0.741479  0.024127    0.018218   2009998.0   \n",
       "10E_M_10    0.750172    0.748520  0.027665    0.021235   1383636.0   \n",
       "10E_M_100   0.750825    0.749325  0.024424    0.018551    377115.0   \n",
       "10E_M_1000  0.666667    0.666667  0.012780    0.012780        26.0   \n",
       "\n",
       "            InputReads  MappedReads Region  ... BamFilteringRate MappingRate  \\\n",
       "cell                                        ...                                \n",
       "10E_M_0        4407752    2892347.0    10E  ...         0.562347    0.656195   \n",
       "10E_M_1        5524084    3657352.0    10E  ...         0.549577    0.662074   \n",
       "10E_M_10       3455260    2172987.0    10E  ...         0.636744    0.628892   \n",
       "10E_M_100      1088368     703698.0    10E  ...         0.535905    0.646563   \n",
       "10E_M_1000      115216         58.0    10E  ...         0.448276    0.000503   \n",
       "\n",
       "            Pos96              Plate Col96 Row96  Col384  Row384  FACS_Date  \\\n",
       "cell                                                                          \n",
       "10E_M_0        A1  CEMBA190625-10E-1     0     0       0       0     190625   \n",
       "10E_M_1        A1  CEMBA190625-10E-1     0     0       0       1     190625   \n",
       "10E_M_10      A10  CEMBA190625-10E-1     9     0      19       0     190625   \n",
       "10E_M_100     B10  CEMBA190625-10E-1     9     1      18       2     190625   \n",
       "10E_M_1000     C5  CEMBA190625-10E-4     4     2       9       5     190625   \n",
       "\n",
       "            Slice  \n",
       "cell               \n",
       "10E_M_0        10  \n",
       "10E_M_1        10  \n",
       "10E_M_10       10  \n",
       "10E_M_100      10  \n",
       "10E_M_1000     10  \n",
       "\n",
       "[5 rows x 22 columns]"
      ]
     },
     "execution_count": 5,
     "metadata": {},
     "output_type": "execute_result"
    }
   ],
   "source": [
    "cell_meta.head()"
   ]
  },
  {
   "cell_type": "code",
   "execution_count": null,
   "metadata": {},
   "outputs": [],
   "source": []
  }
 ],
 "metadata": {
  "hide_input": false,
  "kernelspec": {
   "display_name": "Python 3",
   "language": "python",
   "name": "python3"
  },
  "language_info": {
   "codemirror_mode": {
    "name": "ipython",
    "version": 3
   },
   "file_extension": ".py",
   "mimetype": "text/x-python",
   "name": "python",
   "nbconvert_exporter": "python",
   "pygments_lexer": "ipython3",
   "version": "3.7.3"
  },
  "toc": {
   "base_numbering": 1,
   "nav_menu": {},
   "number_sections": true,
   "sideBar": true,
   "skip_h1_title": true,
   "title_cell": "Table of Contents",
   "title_sidebar": "Contents",
   "toc_cell": true,
   "toc_position": {},
   "toc_section_display": true,
   "toc_window_display": true
  }
 },
 "nbformat": 4,
 "nbformat_minor": 2
}
