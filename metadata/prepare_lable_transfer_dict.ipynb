{
 "cells": [
  {
   "cell_type": "code",
   "execution_count": 1,
   "metadata": {
    "ExecuteTime": {
     "end_time": "2020-02-08T01:32:01.475632Z",
     "start_time": "2020-02-08T01:32:01.338584Z"
    }
   },
   "outputs": [],
   "source": [
    "import pandas as pd\n",
    "import json"
   ]
  },
  {
   "cell_type": "code",
   "execution_count": 2,
   "metadata": {
    "ExecuteTime": {
     "end_time": "2020-02-08T01:32:02.727901Z",
     "start_time": "2020-02-08T01:32:02.722856Z"
    }
   },
   "outputs": [],
   "source": [
    "integration_table = pd.read_csv('label_transfer_between_modality/CrossModalityIntegration.tsv', sep='\\t')\n",
    "integration_table.columns = ['CellClass', 'MajorType', 'SubType', 'AIBS_RNA', 'ATAC']"
   ]
  },
  {
   "cell_type": "markdown",
   "metadata": {},
   "source": [
    "## RNA Cluster level map"
   ]
  },
  {
   "cell_type": "code",
   "execution_count": 3,
   "metadata": {
    "ExecuteTime": {
     "end_time": "2020-02-08T01:32:03.775073Z",
     "start_time": "2020-02-08T01:32:03.709576Z"
    }
   },
   "outputs": [
    {
     "name": "stderr",
     "output_type": "stream",
     "text": [
      "/home/hanliu/miniconda3/envs/clustering/lib/python3.7/site-packages/IPython/core/interactiveshell.py:3326: FutureWarning: The read_msgpack is deprecated and will be removed in a future version.\n",
      "It is recommended to use pyarrow for on-the-wire transmission of pandas objects.\n",
      "  exec(code_obj, self.user_global_ns, self.user_ns)\n"
     ]
    }
   ],
   "source": [
    "rna_data = pd.read_msgpack('/home/hanliu/project/allen/mouse_scrna/raw/Cortex_HPF/Cortex_HPF.74967.cell_tidy_data.msg')"
   ]
  },
  {
   "cell_type": "code",
   "execution_count": 4,
   "metadata": {
    "ExecuteTime": {
     "end_time": "2020-02-08T01:32:04.282665Z",
     "start_time": "2020-02-08T01:32:04.246105Z"
    }
   },
   "outputs": [],
   "source": [
    "rna_map_to_subtype_list = {}\n",
    "\n",
    "d = rna_data.groupby('CellClass')['SubType'].apply(lambda i: i.unique().tolist()).to_dict()\n",
    "rna_map_to_subtype_list.update(d)\n",
    "\n",
    "d = rna_data.groupby('MajorType')['SubType'].apply(lambda i: i.unique().tolist()).to_dict()\n",
    "rna_map_to_subtype_list.update(d)\n",
    "\n",
    "d = {i: [i] for i in rna_data['SubType'].unique()}\n",
    "rna_map_to_subtype_list.update(d)\n",
    "\n",
    "rna_map_to_subtype_list[''] = []"
   ]
  },
  {
   "cell_type": "markdown",
   "metadata": {},
   "source": [
    "## mC Cluster to AIBS RNA (HPF & Cortex Only)\n",
    "\n",
    "- Key name is different methylation level\n",
    "- Value names is all at subtype level"
   ]
  },
  {
   "cell_type": "code",
   "execution_count": 5,
   "metadata": {
    "ExecuteTime": {
     "end_time": "2020-02-08T01:32:07.758126Z",
     "start_time": "2020-02-08T01:32:07.754630Z"
    }
   },
   "outputs": [],
   "source": [
    "def get_cluster_map(cluster_col):\n",
    "    cluster_map = integration_table.groupby(cluster_col).apply(lambda i: ','.join(\n",
    "        i['AIBS_RNA'].dropna().unique()).split(',')).to_dict()\n",
    "    \n",
    "    final_map = {}\n",
    "    for k, v in cluster_map.items():\n",
    "        tl = []\n",
    "        for c in v:\n",
    "            tl += rna_map_to_subtype_list[c]\n",
    "        final_map[k] = tl\n",
    "    \n",
    "    return final_map"
   ]
  },
  {
   "cell_type": "code",
   "execution_count": 6,
   "metadata": {
    "ExecuteTime": {
     "end_time": "2020-02-08T01:32:07.961024Z",
     "start_time": "2020-02-08T01:32:07.953717Z"
    },
    "scrolled": false
   },
   "outputs": [
    {
     "name": "stdout",
     "output_type": "stream",
     "text": [
      "Exc 142\n",
      "Inh 87\n",
      "NonN 15\n"
     ]
    }
   ],
   "source": [
    "cluster_col = 'CellClass'\n",
    "\n",
    "cluster_map = get_cluster_map(cluster_col)\n",
    "\n",
    "with open(f'label_transfer_between_modality/mC-RNA.{cluster_col}.json', 'w') as f:\n",
    "    json.dump(cluster_map, f)\n",
    "\n",
    "for k, v in cluster_map.items():\n",
    "    print(k, len(v))"
   ]
  },
  {
   "cell_type": "code",
   "execution_count": 7,
   "metadata": {
    "ExecuteTime": {
     "end_time": "2020-02-08T01:32:08.181208Z",
     "start_time": "2020-02-08T01:32:08.155145Z"
    },
    "scrolled": false
   },
   "outputs": [
    {
     "name": "stdout",
     "output_type": "stream",
     "text": [
      "ANP 0\n",
      "ASC 1\n",
      "CA1 15\n",
      "CA3 4\n",
      "CA3-St18 2\n",
      "CGE-Lamp5 8\n",
      "CGE-Vip 33\n",
      "CLA 7\n",
      "CT-L6 17\n",
      "Chd7 0\n",
      "D1L-Fstl4 0\n",
      "D1L-PAL 0\n",
      "DG 3\n",
      "DG-po 1\n",
      "EC 2\n",
      "EP 0\n",
      "Foxp2 0\n",
      "Gfra1 2\n",
      "IG-CA2 2\n",
      "IT-L23 13\n",
      "IT-L4 4\n",
      "IT-L5 30\n",
      "IT-L6 10\n",
      "L6b 11\n",
      "LSX-Inh 0\n",
      "MGC 1\n",
      "MGE-Pvalb 8\n",
      "MGE-Sst 33\n",
      "MSN-D1 0\n",
      "MSN-D2 0\n",
      "NP-L6 6\n",
      "ODC 3\n",
      "OLF 0\n",
      "OLF-Exc 0\n",
      "OPC 3\n",
      "PAL-Inh 0\n",
      "PC 1\n",
      "PT-L5 15\n",
      "Unc5c 5\n",
      "VLMC 3\n",
      "VLMC-Pia 1\n"
     ]
    }
   ],
   "source": [
    "cluster_col = 'MajorType'\n",
    "\n",
    "cluster_map = get_cluster_map(cluster_col)\n",
    "\n",
    "with open(f'label_transfer_between_modality/mC-RNA.{cluster_col}.json', 'w') as f:\n",
    "    json.dump(cluster_map, f)\n",
    "for k, v in cluster_map.items():\n",
    "    print(k, len(v))"
   ]
  },
  {
   "cell_type": "code",
   "execution_count": 8,
   "metadata": {
    "ExecuteTime": {
     "end_time": "2020-02-08T01:32:08.452732Z",
     "start_time": "2020-02-08T01:32:08.368198Z"
    }
   },
   "outputs": [
    {
     "name": "stdout",
     "output_type": "stream",
     "text": [
      "ANP anp-dg 0\n",
      "ANP anp-olf-cnu 0\n",
      "ASC cortex-olf 1\n",
      "ASC mid 1\n",
      "ASC str-hpf 1\n",
      "CA1 Ak5 3\n",
      "CA1 Chrm3 4\n",
      "CA1 Kif26a 2\n",
      "CA1 Lingo2 0\n",
      "CA1 Ptprg 6\n",
      "CA3 Cadm2 3\n",
      "CA3 Efnb2 1\n",
      "CA3-St18 Epha5 2\n",
      "CA3-St18 Nuak1 2\n",
      "CA3-St18 Tead1 2\n",
      "CGE-Lamp5 Dock5 1\n",
      "CGE-Lamp5 Grid1 2\n",
      "CGE-Lamp5 Grk5 1\n",
      "CGE-Lamp5 Nrxn3 1\n",
      "CGE-Lamp5 Sorcs1 3\n",
      "CGE-Vip Ccser1 4\n",
      "CGE-Vip Clstn2 2\n",
      "CGE-Vip Fstl4 4\n",
      "CGE-Vip Galnt17 4\n",
      "CGE-Vip Grm8 3\n",
      "CGE-Vip Ntng1 2\n",
      "CGE-Vip Ptprm 10\n",
      "CGE-Vip Robo1 4\n",
      "CLA Bcl11a 7\n",
      "CLA Cdh8 7\n",
      "CLA Nrp2 7\n",
      "CT-L6 Hcrtr2 17\n",
      "CT-L6 Il1rap 17\n",
      "CT-L6 Map4 17\n",
      "CT-L6 Megf9 17\n",
      "Chd7 Kcnc2 0\n",
      "Chd7 Megf11 0\n",
      "Chd7 Trpc7 0\n",
      "D1L-Fstl4 Cadm1 0\n",
      "D1L-Fstl4 Crim1 0\n",
      "D1L-Fstl4 Grm3 0\n",
      "D1L-Fstl4 Sipa1l2 0\n",
      "D1L-Fstl4 Trps1 0\n",
      "D1L-PAL Flrt2 0\n",
      "D1L-PAL Plcxd3 0\n",
      "DG dg-all 3\n",
      "DG-po Bcl11a 1\n",
      "DG-po Calb2 1\n",
      "DG-po Kctd8 1\n",
      "EC Abhd2 2\n",
      "EC Sema3g 2\n",
      "EP Adcy8 0\n",
      "EP Rgs8 0\n",
      "EP Tspan5 0\n",
      "Foxp2 Dchs2 0\n",
      "Foxp2 Homer2 0\n",
      "Foxp2 Inpp4b 0\n",
      "Foxp2 Trpc7 0\n",
      "Gfra1 Gfra1 2\n",
      "IG-CA2 Chrm3 1\n",
      "IG-CA2 Peak1 1\n",
      "IG-CA2 Xpr1 1\n",
      "IT-L23 Cux1 13\n",
      "IT-L23 Foxp1 13\n",
      "IT-L23 Ptprt 13\n",
      "IT-L23 Tenm2 13\n",
      "IT-L4 Astn2 4\n",
      "IT-L4 Shc3 4\n",
      "IT-L5 Cdh8 30\n",
      "IT-L5 Etv1 30\n",
      "IT-L5 Grik3 30\n",
      "IT-L6 Cadps2 10\n",
      "IT-L6 Fstl4 10\n",
      "IT-L6 Man1c1 10\n",
      "IT-L6 Oxr1 10\n",
      "L6b Adcy8 11\n",
      "L6b Kcnk2 11\n",
      "L6b Nrp2 11\n",
      "L6b Pkhd1 11\n",
      "LSX-Inh Cacna1i 0\n",
      "LSX-Inh Dock10 0\n",
      "LSX-Inh Enox1 0\n",
      "LSX-Inh Foxp2 0\n",
      "LSX-Inh Lats2 0\n",
      "LSX-Inh Nxph1 0\n",
      "LSX-Inh Zeb2 0\n",
      "MGC mgc-all 1\n",
      "MGE-Pvalb Cacna1i 1\n",
      "MGE-Pvalb Cnih3 2\n",
      "MGE-Pvalb Entpd3 0\n",
      "MGE-Pvalb Gfra2 1\n",
      "MGE-Pvalb Ptprk 2\n",
      "MGE-Pvalb Sema5a 1\n",
      "MGE-Pvalb Thsd7a 1\n",
      "MGE-Sst Bmper 0\n",
      "MGE-Sst Chodl 2\n",
      "MGE-Sst Dock4 7\n",
      "MGE-Sst Etv1 1\n",
      "MGE-Sst Frmd6 3\n",
      "MGE-Sst Kcnip4 4\n",
      "MGE-Sst Ptpre 6\n",
      "MGE-Sst Rerg 2\n",
      "MGE-Sst Rxra 6\n",
      "MGE-Sst Ubtd1 6\n",
      "MGE-Sst Unc5b 2\n",
      "MSN-D1 Hrh1 0\n",
      "MSN-D1 Khdrbs3 0\n",
      "MSN-D1 Ntn1 0\n",
      "MSN-D1 Plxnc1 0\n",
      "MSN-D2 Casz1 0\n",
      "MSN-D2 Col14a1 0\n",
      "MSN-D2 Nrp2 0\n",
      "MSN-D2 Slc24a2 0\n",
      "NP-L6 Boc 6\n",
      "NP-L6 Cntnap4 6\n",
      "NP-L6 Cntnap5a 6\n",
      "NP-L6 Cyp7b1 6\n",
      "NP-L6 Kcnab1 6\n",
      "NP-L6 Olfml2b 6\n",
      "ODC odc-large 3\n",
      "ODC odc-small 3\n",
      "OLF Gabbr2 0\n",
      "OLF Kcnd3 0\n",
      "OLF Mapk10 0\n",
      "OLF Pag1 0\n",
      "OLF Trpc4 0\n",
      "OLF Xkr6 0\n",
      "OLF-Exc Bmpr1b 0\n",
      "OLF-Exc Cdh9 0\n",
      "OLF-Exc Cux2 0\n",
      "OLF-Exc Lrrtm3 0\n",
      "OLF-Exc Pld5 0\n",
      "OLF-Exc Rmst 0\n",
      "OLF-Exc Sgcd 0\n",
      "OLF-Exc Unc13c 0\n",
      "OPC opc-large 1\n",
      "OPC opc-small 2\n",
      "PAL-Inh Chat 0\n",
      "PAL-Inh Deptor 0\n",
      "PAL-Inh Igdcc3 0\n",
      "PAL-Inh Meis1 0\n",
      "PAL-Inh Meis2 0\n",
      "PAL-Inh Onecut2 0\n",
      "PAL-Inh Ptprd 0\n",
      "PAL-Inh Rarb 0\n",
      "PAL-Inh Tcf7l2 0\n",
      "PAL-Inh Tmem178 0\n",
      "PC pc-all 1\n",
      "PT-L5 Abca12 15\n",
      "PT-L5 Astn2 15\n",
      "PT-L5 Kcnh1 15\n",
      "PT-L5 Nectin1 15\n",
      "PT-L5 Plcb4 15\n",
      "PT-L5 Ptprt 15\n",
      "PT-L5 Tenm2 15\n",
      "PT-L5 Tmtc2 15\n",
      "PT-L5 Unc5b 15\n",
      "Unc5c Unc5c 5\n",
      "VLMC Col4a1 3\n",
      "VLMC Mapk4 3\n",
      "VLMC-Pia vlmc-pia-all 1\n"
     ]
    }
   ],
   "source": [
    "cluster_col = 'SubType'\n",
    "\n",
    "cluster_map = get_cluster_map(cluster_col)\n",
    "\n",
    "with open(f'label_transfer_between_modality/mC-RNA.{cluster_col}.json', 'w') as f:\n",
    "    json.dump(cluster_map, f)\n",
    "for k, v in cluster_map.items():\n",
    "    print(k, len(v))"
   ]
  },
  {
   "cell_type": "markdown",
   "metadata": {},
   "source": [
    "## mC Cluster to ATAC"
   ]
  },
  {
   "cell_type": "code",
   "execution_count": 9,
   "metadata": {
    "ExecuteTime": {
     "end_time": "2020-02-08T01:32:08.946220Z",
     "start_time": "2020-02-08T01:32:08.940024Z"
    }
   },
   "outputs": [],
   "source": [
    "def get_cluster_map(cluster_col):\n",
    "    cluster_map = integration_table.groupby(cluster_col).apply(lambda i: ','.join(\n",
    "        i['ATAC'].dropna().unique()).split(',')).to_dict()\n",
    "    cluster_map = {k: [i for i in v if i != ''] for k, v in cluster_map.items()}\n",
    "    return cluster_map"
   ]
  },
  {
   "cell_type": "code",
   "execution_count": 10,
   "metadata": {
    "ExecuteTime": {
     "end_time": "2020-02-08T01:32:13.198922Z",
     "start_time": "2020-02-08T01:32:13.190682Z"
    }
   },
   "outputs": [
    {
     "name": "stdout",
     "output_type": "stream",
     "text": [
      "Exc 30\n",
      "Inh 41\n",
      "NonN 21\n"
     ]
    }
   ],
   "source": [
    "cluster_col = 'CellClass'\n",
    "\n",
    "cluster_map = get_cluster_map(cluster_col)\n",
    "\n",
    "with open(f'label_transfer_between_modality/mC-ATAC.{cluster_col}.json', 'w') as f:\n",
    "    json.dump(cluster_map, f)\n",
    "\n",
    "for k, v in cluster_map.items():\n",
    "    print(k, len(v))"
   ]
  },
  {
   "cell_type": "code",
   "execution_count": 11,
   "metadata": {
    "ExecuteTime": {
     "end_time": "2020-02-08T01:32:13.715271Z",
     "start_time": "2020-02-08T01:32:13.690517Z"
    }
   },
   "outputs": [
    {
     "name": "stdout",
     "output_type": "stream",
     "text": [
      "ANP 4\n",
      "ASC 3\n",
      "CA1 5\n",
      "CA3 1\n",
      "CA3-St18 1\n",
      "CGE-Lamp5 3\n",
      "CGE-Vip 3\n",
      "CLA 1\n",
      "CT-L6 3\n",
      "Chd7 2\n",
      "D1L-Fstl4 3\n",
      "D1L-PAL 1\n",
      "DG 1\n",
      "DG-po 2\n",
      "EC 1\n",
      "EP 1\n",
      "Foxp2 1\n",
      "Gfra1 1\n",
      "IG-CA2 2\n",
      "IT-L23 1\n",
      "IT-L4 1\n",
      "IT-L5 1\n",
      "IT-L6 1\n",
      "L6b 1\n",
      "LSX-Inh 1\n",
      "MGC 1\n",
      "MGE-Pvalb 5\n",
      "MGE-Sst 6\n",
      "MSN-D1 1\n",
      "MSN-D2 1\n",
      "NP-L6 3\n",
      "ODC 3\n",
      "OLF 8\n",
      "OLF-Exc 5\n",
      "OPC 2\n",
      "PAL-Inh 6\n",
      "PC 1\n",
      "PT-L5 2\n",
      "Unc5c 1\n",
      "VLMC 4\n",
      "VLMC-Pia 2\n"
     ]
    }
   ],
   "source": [
    "cluster_col = 'MajorType'\n",
    "\n",
    "cluster_map = get_cluster_map(cluster_col)\n",
    "\n",
    "with open(f'label_transfer_between_modality/mC-ATAC.{cluster_col}.json', 'w') as f:\n",
    "    json.dump(cluster_map, f)\n",
    "\n",
    "for k, v in cluster_map.items():\n",
    "    print(k, len(v))"
   ]
  },
  {
   "cell_type": "code",
   "execution_count": 12,
   "metadata": {
    "ExecuteTime": {
     "end_time": "2020-02-08T01:32:13.860327Z",
     "start_time": "2020-02-08T01:32:13.780932Z"
    },
    "scrolled": true
   },
   "outputs": [
    {
     "name": "stdout",
     "output_type": "stream",
     "text": [
      "ANP anp-dg 2\n",
      "ANP anp-olf-cnu 2\n",
      "ASC cortex-olf 3\n",
      "ASC mid 3\n",
      "ASC str-hpf 3\n",
      "CA1 Ak5 1\n",
      "CA1 Chrm3 1\n",
      "CA1 Kif26a 1\n",
      "CA1 Lingo2 2\n",
      "CA1 Ptprg 1\n",
      "CA3 Cadm2 1\n",
      "CA3 Efnb2 1\n",
      "CA3-St18 Epha5 1\n",
      "CA3-St18 Nuak1 1\n",
      "CA3-St18 Tead1 1\n",
      "CGE-Lamp5 Dock5 2\n",
      "CGE-Lamp5 Grid1 2\n",
      "CGE-Lamp5 Grk5 2\n",
      "CGE-Lamp5 Nrxn3 1\n",
      "CGE-Lamp5 Sorcs1 1\n",
      "CGE-Vip Ccser1 1\n",
      "CGE-Vip Clstn2 1\n",
      "CGE-Vip Fstl4 1\n",
      "CGE-Vip Galnt17 1\n",
      "CGE-Vip Grm8 1\n",
      "CGE-Vip Ntng1 1\n",
      "CGE-Vip Ptprm 1\n",
      "CGE-Vip Robo1 1\n",
      "CLA Bcl11a 1\n",
      "CLA Cdh8 1\n",
      "CLA Nrp2 1\n",
      "CT-L6 Hcrtr2 1\n",
      "CT-L6 Il1rap 1\n",
      "CT-L6 Map4 1\n",
      "CT-L6 Megf9 2\n",
      "Chd7 Kcnc2 1\n",
      "Chd7 Megf11 1\n",
      "Chd7 Trpc7 1\n",
      "D1L-Fstl4 Cadm1 2\n",
      "D1L-Fstl4 Crim1 2\n",
      "D1L-Fstl4 Grm3 2\n",
      "D1L-Fstl4 Sipa1l2 1\n",
      "D1L-Fstl4 Trps1 1\n",
      "D1L-PAL Flrt2 1\n",
      "D1L-PAL Plcxd3 1\n",
      "DG dg-all 1\n",
      "DG-po Bcl11a 1\n",
      "DG-po Calb2 1\n",
      "DG-po Kctd8 1\n",
      "EC Abhd2 1\n",
      "EC Sema3g 1\n",
      "EP Adcy8 1\n",
      "EP Rgs8 1\n",
      "EP Tspan5 1\n",
      "Foxp2 Dchs2 1\n",
      "Foxp2 Homer2 1\n",
      "Foxp2 Inpp4b 1\n",
      "Foxp2 Trpc7 1\n",
      "Gfra1 Gfra1 1\n",
      "IG-CA2 Chrm3 1\n",
      "IG-CA2 Peak1 1\n",
      "IG-CA2 Xpr1 1\n",
      "IT-L23 Cux1 1\n",
      "IT-L23 Foxp1 1\n",
      "IT-L23 Ptprt 1\n",
      "IT-L23 Tenm2 1\n",
      "IT-L4 Astn2 1\n",
      "IT-L4 Shc3 1\n",
      "IT-L5 Cdh8 1\n",
      "IT-L5 Etv1 1\n",
      "IT-L5 Grik3 1\n",
      "IT-L6 Cadps2 1\n",
      "IT-L6 Fstl4 1\n",
      "IT-L6 Man1c1 1\n",
      "IT-L6 Oxr1 1\n",
      "L6b Adcy8 1\n",
      "L6b Kcnk2 1\n",
      "L6b Nrp2 1\n",
      "L6b Pkhd1 1\n",
      "LSX-Inh Cacna1i 1\n",
      "LSX-Inh Dock10 1\n",
      "LSX-Inh Enox1 1\n",
      "LSX-Inh Foxp2 1\n",
      "LSX-Inh Lats2 1\n",
      "LSX-Inh Nxph1 1\n",
      "LSX-Inh Zeb2 1\n",
      "MGC mgc-all 1\n",
      "MGE-Pvalb Cacna1i 2\n",
      "MGE-Pvalb Cnih3 1\n",
      "MGE-Pvalb Entpd3 1\n",
      "MGE-Pvalb Gfra2 1\n",
      "MGE-Pvalb Ptprk 1\n",
      "MGE-Pvalb Sema5a 2\n",
      "MGE-Pvalb Thsd7a 2\n",
      "MGE-Sst Bmper 1\n",
      "MGE-Sst Chodl 1\n",
      "MGE-Sst Dock4 1\n",
      "MGE-Sst Etv1 1\n",
      "MGE-Sst Frmd6 1\n",
      "MGE-Sst Kcnip4 1\n",
      "MGE-Sst Ptpre 1\n",
      "MGE-Sst Rerg 1\n",
      "MGE-Sst Rxra 1\n",
      "MGE-Sst Ubtd1 1\n",
      "MGE-Sst Unc5b 1\n",
      "MSN-D1 Hrh1 1\n",
      "MSN-D1 Khdrbs3 1\n",
      "MSN-D1 Ntn1 1\n",
      "MSN-D1 Plxnc1 1\n",
      "MSN-D2 Casz1 1\n",
      "MSN-D2 Col14a1 1\n",
      "MSN-D2 Nrp2 1\n",
      "MSN-D2 Slc24a2 1\n",
      "NP-L6 Boc 2\n",
      "NP-L6 Cntnap4 1\n",
      "NP-L6 Cntnap5a 2\n",
      "NP-L6 Cyp7b1 2\n",
      "NP-L6 Kcnab1 2\n",
      "NP-L6 Olfml2b 2\n",
      "ODC odc-large 3\n",
      "ODC odc-small 3\n",
      "OLF Gabbr2 2\n",
      "OLF Kcnd3 1\n",
      "OLF Mapk10 1\n",
      "OLF Pag1 1\n",
      "OLF Trpc4 1\n",
      "OLF Xkr6 3\n",
      "OLF-Exc Bmpr1b 1\n",
      "OLF-Exc Cdh9 1\n",
      "OLF-Exc Cux2 1\n",
      "OLF-Exc Lrrtm3 1\n",
      "OLF-Exc Pld5 1\n",
      "OLF-Exc Rmst 1\n",
      "OLF-Exc Sgcd 1\n",
      "OLF-Exc Unc13c 1\n",
      "OPC opc-large 2\n",
      "OPC opc-small 2\n",
      "PAL-Inh Chat 1\n",
      "PAL-Inh Deptor 4\n",
      "PAL-Inh Igdcc3 1\n",
      "PAL-Inh Meis1 1\n",
      "PAL-Inh Meis2 1\n",
      "PAL-Inh Onecut2 1\n",
      "PAL-Inh Ptprd 1\n",
      "PAL-Inh Rarb 1\n",
      "PAL-Inh Tcf7l2 1\n",
      "PAL-Inh Tmem178 1\n",
      "PC pc-all 1\n",
      "PT-L5 Abca12 1\n",
      "PT-L5 Astn2 1\n",
      "PT-L5 Kcnh1 1\n",
      "PT-L5 Nectin1 1\n",
      "PT-L5 Plcb4 1\n",
      "PT-L5 Ptprt 1\n",
      "PT-L5 Tenm2 1\n",
      "PT-L5 Tmtc2 1\n",
      "PT-L5 Unc5b 1\n",
      "Unc5c Unc5c 1\n",
      "VLMC Col4a1 1\n",
      "VLMC Mapk4 3\n",
      "VLMC-Pia vlmc-pia-all 2\n"
     ]
    }
   ],
   "source": [
    "cluster_col = 'SubType'\n",
    "\n",
    "cluster_map = get_cluster_map(cluster_col)\n",
    "\n",
    "with open(f'label_transfer_between_modality/mC-ATAC.{cluster_col}.json', 'w') as f:\n",
    "    json.dump(cluster_map, f)\n",
    "\n",
    "for k, v in cluster_map.items():\n",
    "    print(k, len(v))"
   ]
  },
  {
   "cell_type": "code",
   "execution_count": null,
   "metadata": {},
   "outputs": [],
   "source": []
  },
  {
   "cell_type": "code",
   "execution_count": null,
   "metadata": {},
   "outputs": [],
   "source": []
  },
  {
   "cell_type": "code",
   "execution_count": null,
   "metadata": {},
   "outputs": [],
   "source": []
  },
  {
   "cell_type": "code",
   "execution_count": null,
   "metadata": {},
   "outputs": [],
   "source": []
  },
  {
   "cell_type": "code",
   "execution_count": null,
   "metadata": {},
   "outputs": [],
   "source": []
  },
  {
   "cell_type": "code",
   "execution_count": null,
   "metadata": {},
   "outputs": [],
   "source": []
  },
  {
   "cell_type": "code",
   "execution_count": null,
   "metadata": {},
   "outputs": [],
   "source": []
  },
  {
   "cell_type": "code",
   "execution_count": null,
   "metadata": {},
   "outputs": [],
   "source": []
  },
  {
   "cell_type": "code",
   "execution_count": null,
   "metadata": {},
   "outputs": [],
   "source": []
  },
  {
   "cell_type": "code",
   "execution_count": null,
   "metadata": {},
   "outputs": [],
   "source": []
  }
 ],
 "metadata": {
  "hide_input": false,
  "kernelspec": {
   "display_name": "Python 3",
   "language": "python",
   "name": "python3"
  },
  "language_info": {
   "codemirror_mode": {
    "name": "ipython",
    "version": 3
   },
   "file_extension": ".py",
   "mimetype": "text/x-python",
   "name": "python",
   "nbconvert_exporter": "python",
   "pygments_lexer": "ipython3",
   "version": "3.7.3"
  },
  "toc": {
   "base_numbering": 1,
   "nav_menu": {},
   "number_sections": true,
   "sideBar": true,
   "skip_h1_title": true,
   "title_cell": "Table of Contents",
   "title_sidebar": "Contents",
   "toc_cell": false,
   "toc_position": {},
   "toc_section_display": true,
   "toc_window_display": true
  }
 },
 "nbformat": 4,
 "nbformat_minor": 2
}
