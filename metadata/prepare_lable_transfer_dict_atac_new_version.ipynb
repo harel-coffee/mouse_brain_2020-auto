{
 "cells": [
  {
   "cell_type": "code",
   "execution_count": 1,
   "metadata": {
    "ExecuteTime": {
     "end_time": "2020-02-08T01:31:48.126945Z",
     "start_time": "2020-02-08T01:31:47.981827Z"
    }
   },
   "outputs": [],
   "source": [
    "import pandas as pd\n",
    "import json"
   ]
  },
  {
   "cell_type": "code",
   "execution_count": 2,
   "metadata": {
    "ExecuteTime": {
     "end_time": "2020-02-08T01:31:48.133772Z",
     "start_time": "2020-02-08T01:31:48.128578Z"
    }
   },
   "outputs": [],
   "source": [
    "integration_table = pd.read_csv('label_transfer_to_atac_new_version/IntegrationTable.to_ATAC_new.txt', sep='\\t')\n",
    "integration_table.columns = ['CellClass', 'MajorType', 'SubType', 'AIBS_RNA', 'ATAC']"
   ]
  },
  {
   "cell_type": "markdown",
   "metadata": {},
   "source": [
    "## RNA Cluster level map"
   ]
  },
  {
   "cell_type": "code",
   "execution_count": 3,
   "metadata": {
    "ExecuteTime": {
     "end_time": "2020-02-08T01:31:48.137393Z",
     "start_time": "2020-02-08T01:31:48.135662Z"
    }
   },
   "outputs": [],
   "source": [
    "# rna_data = pd.read_msgpack('/home/hanliu/project/allen/mouse_scrna/raw/Cortex_HPF/Cortex_HPF.74967.cell_tidy_data.msg')\n"
   ]
  },
  {
   "cell_type": "code",
   "execution_count": 4,
   "metadata": {
    "ExecuteTime": {
     "end_time": "2020-02-08T01:31:48.140407Z",
     "start_time": "2020-02-08T01:31:48.138691Z"
    }
   },
   "outputs": [],
   "source": [
    "# rna_map_to_subtype_list = {}\n",
    "# \n",
    "# d = rna_data.groupby('CellClass')['SubType'].apply(lambda i: i.unique().tolist()).to_dict()\n",
    "# rna_map_to_subtype_list.update(d)\n",
    "# \n",
    "# d = rna_data.groupby('MajorType')['SubType'].apply(lambda i: i.unique().tolist()).to_dict()\n",
    "# rna_map_to_subtype_list.update(d)\n",
    "# \n",
    "# d = {i: [i] for i in rna_data['SubType'].unique()}\n",
    "# rna_map_to_subtype_list.update(d)\n",
    "# \n",
    "# rna_map_to_subtype_list[''] = []"
   ]
  },
  {
   "cell_type": "markdown",
   "metadata": {},
   "source": [
    "## mC Cluster to AIBS RNA (HPF & Cortex Only)\n",
    "\n",
    "- Key name is different methylation level\n",
    "- Value names is all at subtype level"
   ]
  },
  {
   "cell_type": "code",
   "execution_count": 5,
   "metadata": {
    "ExecuteTime": {
     "end_time": "2020-02-08T01:31:48.143662Z",
     "start_time": "2020-02-08T01:31:48.141739Z"
    }
   },
   "outputs": [],
   "source": [
    "# def get_cluster_map(cluster_col):\n",
    "#     cluster_map = integration_table.groupby(cluster_col).apply(lambda i: ','.join(\n",
    "#         i['AIBS_RNA'].dropna().unique()).split(',')).to_dict()\n",
    "#     \n",
    "#     final_map = {}\n",
    "#     for k, v in cluster_map.items():\n",
    "#         tl = []\n",
    "#         for c in v:\n",
    "#             tl += rna_map_to_subtype_list[c]\n",
    "#         final_map[k] = tl\n",
    "#     \n",
    "#     return final_map"
   ]
  },
  {
   "cell_type": "code",
   "execution_count": 6,
   "metadata": {
    "ExecuteTime": {
     "end_time": "2020-02-08T01:31:48.147196Z",
     "start_time": "2020-02-08T01:31:48.145463Z"
    },
    "scrolled": false
   },
   "outputs": [],
   "source": [
    "# cluster_col = 'CellClass'\n",
    "# \n",
    "# cluster_map = get_cluster_map(cluster_col)\n",
    "# \n",
    "# with open(f'label_transfer_to_atac_new_version/mC-RNA.{cluster_col}.json', 'w') as f:\n",
    "#     json.dump(cluster_map, f)\n",
    "# \n",
    "# for k, v in cluster_map.items():\n",
    "#     print(k, len(v))"
   ]
  },
  {
   "cell_type": "code",
   "execution_count": 7,
   "metadata": {
    "ExecuteTime": {
     "end_time": "2020-02-08T01:31:48.150232Z",
     "start_time": "2020-02-08T01:31:48.148461Z"
    },
    "scrolled": false
   },
   "outputs": [],
   "source": [
    "# cluster_col = 'MajorType'\n",
    "# \n",
    "# cluster_map = get_cluster_map(cluster_col)\n",
    "# \n",
    "# with open(f'label_transfer_between_modality/mC-RNA.{cluster_col}.json', 'w') as f:\n",
    "#     json.dump(cluster_map, f)\n",
    "# for k, v in cluster_map.items():\n",
    "#     print(k, len(v))"
   ]
  },
  {
   "cell_type": "code",
   "execution_count": 8,
   "metadata": {
    "ExecuteTime": {
     "end_time": "2020-02-08T01:31:48.153298Z",
     "start_time": "2020-02-08T01:31:48.151465Z"
    }
   },
   "outputs": [],
   "source": [
    "# cluster_col = 'SubType'\n",
    "# \n",
    "# cluster_map = get_cluster_map(cluster_col)\n",
    "# \n",
    "# with open(f'label_transfer_between_modality/mC-RNA.{cluster_col}.json', 'w') as f:\n",
    "#     json.dump(cluster_map, f)\n",
    "# for k, v in cluster_map.items():\n",
    "#     print(k, len(v))"
   ]
  },
  {
   "cell_type": "markdown",
   "metadata": {},
   "source": [
    "## mC Cluster to ATAC"
   ]
  },
  {
   "cell_type": "code",
   "execution_count": 9,
   "metadata": {
    "ExecuteTime": {
     "end_time": "2020-02-08T01:31:48.157985Z",
     "start_time": "2020-02-08T01:31:48.154507Z"
    }
   },
   "outputs": [],
   "source": [
    "def get_cluster_map(cluster_col):\n",
    "    cluster_map = integration_table.groupby(cluster_col).apply(lambda i: ','.join(\n",
    "        i['ATAC'].dropna().unique()).split(',')).to_dict()\n",
    "    cluster_map = {k: [i for i in v if i != ''] for k, v in cluster_map.items()}\n",
    "    return cluster_map"
   ]
  },
  {
   "cell_type": "code",
   "execution_count": 10,
   "metadata": {
    "ExecuteTime": {
     "end_time": "2020-02-08T01:31:48.167360Z",
     "start_time": "2020-02-08T01:31:48.159233Z"
    }
   },
   "outputs": [
    {
     "name": "stdout",
     "output_type": "stream",
     "text": [
      "Exc 92\n",
      "Inh 101\n",
      "NonN 36\n"
     ]
    }
   ],
   "source": [
    "cluster_col = 'CellClass'\n",
    "\n",
    "cluster_map = get_cluster_map(cluster_col)\n",
    "\n",
    "with open(f'label_transfer_to_atac_new_version/mC-ATAC.{cluster_col}.json', 'w') as f:\n",
    "    json.dump(cluster_map, f)\n",
    "\n",
    "for k, v in cluster_map.items():\n",
    "    print(k, len(v))"
   ]
  },
  {
   "cell_type": "code",
   "execution_count": 11,
   "metadata": {
    "ExecuteTime": {
     "end_time": "2020-02-08T01:31:48.195213Z",
     "start_time": "2020-02-08T01:31:48.168631Z"
    }
   },
   "outputs": [
    {
     "name": "stdout",
     "output_type": "stream",
     "text": [
      "ANP 4\n",
      "ASC 13\n",
      "CA1 8\n",
      "CA3 2\n",
      "CA3-St18 1\n",
      "CGE-Lamp5 3\n",
      "CGE-Vip 4\n",
      "CLA 3\n",
      "CT-L6 11\n",
      "Chd7 2\n",
      "D1L-Fstl4 8\n",
      "D1L-PAL 1\n",
      "DG 1\n",
      "DG-po 2\n",
      "EC 1\n",
      "EP 1\n",
      "Foxp2 5\n",
      "Gfra1 1\n",
      "IG-CA2 2\n",
      "IT-L23 5\n",
      "IT-L4 3\n",
      "IT-L5 6\n",
      "IT-L6 5\n",
      "L6b 8\n",
      "LSX-Inh 10\n",
      "MGC 2\n",
      "MGE-Pvalb 5\n",
      "MGE-Sst 12\n",
      "MSN-D1 9\n",
      "MSN-D2 11\n",
      "NP-L6 6\n",
      "ODC 6\n",
      "OLF 10\n",
      "OLF-Exc 15\n",
      "OPC 4\n",
      "PAL-Inh 30\n",
      "PC 1\n",
      "PT-L5 15\n",
      "Unc5c 1\n",
      "VLMC 3\n",
      "VLMC-Pia 2\n"
     ]
    }
   ],
   "source": [
    "cluster_col = 'MajorType'\n",
    "\n",
    "cluster_map = get_cluster_map(cluster_col)\n",
    "\n",
    "with open(f'label_transfer_to_atac_new_version/mC-ATAC.{cluster_col}.json', 'w') as f:\n",
    "    json.dump(cluster_map, f)\n",
    "\n",
    "for k, v in cluster_map.items():\n",
    "    print(k, len(v))"
   ]
  },
  {
   "cell_type": "code",
   "execution_count": 12,
   "metadata": {
    "ExecuteTime": {
     "end_time": "2020-02-08T01:31:48.282754Z",
     "start_time": "2020-02-08T01:31:48.196493Z"
    },
    "scrolled": false
   },
   "outputs": [
    {
     "name": "stdout",
     "output_type": "stream",
     "text": [
      "ANP anp-dg 4\n",
      "ANP anp-olf-cnu 4\n",
      "ASC cortex-olf 3\n",
      "ASC mid 3\n",
      "ASC str-hpf 7\n",
      "CA1 Ak5 1\n",
      "CA1 Chrm3 1\n",
      "CA1 Kif26a 2\n",
      "CA1 Lingo2 3\n",
      "CA1 Ptprg 1\n",
      "CA3 Cadm2 1\n",
      "CA3 Efnb2 1\n",
      "CA3-St18 Epha5 1\n",
      "CA3-St18 Nuak1 1\n",
      "CA3-St18 Tead1 1\n",
      "CGE-Lamp5 Dock5 2\n",
      "CGE-Lamp5 Grid1 2\n",
      "CGE-Lamp5 Grk5 2\n",
      "CGE-Lamp5 Nrxn3 1\n",
      "CGE-Lamp5 Sorcs1 1\n",
      "CGE-Vip Ccser1 3\n",
      "CGE-Vip Clstn2 3\n",
      "CGE-Vip Fstl4 3\n",
      "CGE-Vip Galnt17 3\n",
      "CGE-Vip Grm8 3\n",
      "CGE-Vip Ntng1 1\n",
      "CGE-Vip Ptprm 1\n",
      "CGE-Vip Robo1 1\n",
      "CLA Bcl11a 1\n",
      "CLA Cdh8 1\n",
      "CLA Nrp2 1\n",
      "CT-L6 Hcrtr2 1\n",
      "CT-L6 Il1rap 5\n",
      "CT-L6 Map4 1\n",
      "CT-L6 Megf9 5\n",
      "Chd7 Kcnc2 2\n",
      "Chd7 Megf11 2\n",
      "Chd7 Trpc7 2\n",
      "D1L-Fstl4 Cadm1 4\n",
      "D1L-Fstl4 Crim1 3\n",
      "D1L-Fstl4 Grm3 3\n",
      "D1L-Fstl4 Sipa1l2 1\n",
      "D1L-Fstl4 Trps1 3\n",
      "D1L-PAL Flrt2 1\n",
      "D1L-PAL Plcxd3 1\n",
      "DG dg-all 1\n",
      "DG-po Bcl11a 1\n",
      "DG-po Calb2 1\n",
      "DG-po Kctd8 1\n",
      "EC Abhd2 1\n",
      "EC Sema3g 1\n",
      "EP Adcy8 1\n",
      "EP Rgs8 1\n",
      "EP Tspan5 1\n",
      "Foxp2 Dchs2 2\n",
      "Foxp2 Homer2 3\n",
      "Foxp2 Inpp4b 3\n",
      "Foxp2 Trpc7 2\n",
      "Gfra1 Gfra1 1\n",
      "IG-CA2 Chrm3 1\n",
      "IG-CA2 Peak1 1\n",
      "IG-CA2 Xpr1 1\n",
      "IT-L23 Cux1 2\n",
      "IT-L23 Foxp1 2\n",
      "IT-L23 Ptprt 1\n",
      "IT-L23 Tenm2 1\n",
      "IT-L4 Astn2 2\n",
      "IT-L4 Shc3 1\n",
      "IT-L5 Cdh8 2\n",
      "IT-L5 Etv1 3\n",
      "IT-L5 Grik3 1\n",
      "IT-L6 Cadps2 1\n",
      "IT-L6 Fstl4 1\n",
      "IT-L6 Man1c1 3\n",
      "IT-L6 Oxr1 1\n",
      "L6b Adcy8 4\n",
      "L6b Kcnk2 4\n",
      "L6b Nrp2 2\n",
      "L6b Pkhd1 2\n",
      "LSX-Inh Cacna1i 2\n",
      "LSX-Inh Dock10 8\n",
      "LSX-Inh Enox1 8\n",
      "LSX-Inh Foxp2 8\n",
      "LSX-Inh Lats2 8\n",
      "LSX-Inh Nxph1 8\n",
      "LSX-Inh Zeb2 8\n",
      "MGC mgc-all 2\n",
      "MGE-Pvalb Cacna1i 2\n",
      "MGE-Pvalb Cnih3 1\n",
      "MGE-Pvalb Entpd3 1\n",
      "MGE-Pvalb Gfra2 1\n",
      "MGE-Pvalb Ptprk 1\n",
      "MGE-Pvalb Sema5a 2\n",
      "MGE-Pvalb Thsd7a 2\n",
      "MGE-Sst Bmper 1\n",
      "MGE-Sst Chodl 2\n",
      "MGE-Sst Dock4 1\n",
      "MGE-Sst Etv1 1\n",
      "MGE-Sst Frmd6 4\n",
      "MGE-Sst Kcnip4 2\n",
      "MGE-Sst Ptpre 2\n",
      "MGE-Sst Rerg 4\n",
      "MGE-Sst Rxra 2\n",
      "MGE-Sst Ubtd1 2\n",
      "MGE-Sst Unc5b 2\n",
      "MSN-D1 Hrh1 3\n",
      "MSN-D1 Khdrbs3 2\n",
      "MSN-D1 Ntn1 2\n",
      "MSN-D1 Plxnc1 2\n",
      "MSN-D2 Casz1 1\n",
      "MSN-D2 Col14a1 1\n",
      "MSN-D2 Nrp2 4\n",
      "MSN-D2 Slc24a2 6\n",
      "NP-L6 Boc 3\n",
      "NP-L6 Cntnap4 3\n",
      "NP-L6 Cntnap5a 3\n",
      "NP-L6 Cyp7b1 3\n",
      "NP-L6 Kcnab1 3\n",
      "NP-L6 Olfml2b 3\n",
      "ODC odc-large 4\n",
      "ODC odc-small 2\n",
      "OLF Gabbr2 8\n",
      "OLF Kcnd3 2\n",
      "OLF Mapk10 8\n",
      "OLF Pag1 8\n",
      "OLF Trpc4 2\n",
      "OLF Xkr6 8\n",
      "OLF-Exc Bmpr1b 4\n",
      "OLF-Exc Cdh9 1\n",
      "OLF-Exc Cux2 1\n",
      "OLF-Exc Lrrtm3 1\n",
      "OLF-Exc Pld5 1\n",
      "OLF-Exc Rmst 5\n",
      "OLF-Exc Sgcd 1\n",
      "OLF-Exc Unc13c 2\n",
      "OPC opc-large 2\n",
      "OPC opc-small 2\n",
      "PAL-Inh Chat 1\n",
      "PAL-Inh Deptor 8\n",
      "PAL-Inh Igdcc3 3\n",
      "PAL-Inh Meis1 7\n",
      "PAL-Inh Meis2 9\n",
      "PAL-Inh Onecut2 7\n",
      "PAL-Inh Ptprd 3\n",
      "PAL-Inh Rarb 2\n",
      "PAL-Inh Tcf7l2 7\n",
      "PAL-Inh Tmem178 3\n",
      "PC pc-all 1\n",
      "PT-L5 Abca12 2\n",
      "PT-L5 Astn2 5\n",
      "PT-L5 Kcnh1 1\n",
      "PT-L5 Nectin1 3\n",
      "PT-L5 Plcb4 4\n",
      "PT-L5 Ptprt 4\n",
      "PT-L5 Tenm2 4\n",
      "PT-L5 Tmtc2 3\n",
      "PT-L5 Unc5b 2\n",
      "Unc5c Unc5c 1\n",
      "VLMC Col4a1 3\n",
      "VLMC Mapk4 3\n",
      "VLMC-Pia vlmc-pia-all 2\n"
     ]
    }
   ],
   "source": [
    "cluster_col = 'SubType'\n",
    "\n",
    "cluster_map = get_cluster_map(cluster_col)\n",
    "\n",
    "with open(f'label_transfer_to_atac_new_version/mC-ATAC.{cluster_col}.json', 'w') as f:\n",
    "    json.dump(cluster_map, f)\n",
    "\n",
    "for k, v in cluster_map.items():\n",
    "    print(k, len(v))"
   ]
  },
  {
   "cell_type": "code",
   "execution_count": null,
   "metadata": {},
   "outputs": [],
   "source": []
  }
 ],
 "metadata": {
  "hide_input": false,
  "kernelspec": {
   "display_name": "Python 3",
   "language": "python",
   "name": "python3"
  },
  "language_info": {
   "codemirror_mode": {
    "name": "ipython",
    "version": 3
   },
   "file_extension": ".py",
   "mimetype": "text/x-python",
   "name": "python",
   "nbconvert_exporter": "python",
   "pygments_lexer": "ipython3",
   "version": "3.7.3"
  },
  "toc": {
   "base_numbering": 1,
   "nav_menu": {},
   "number_sections": true,
   "sideBar": true,
   "skip_h1_title": true,
   "title_cell": "Table of Contents",
   "title_sidebar": "Contents",
   "toc_cell": false,
   "toc_position": {},
   "toc_section_display": true,
   "toc_window_display": true
  }
 },
 "nbformat": 4,
 "nbformat_minor": 2
}
