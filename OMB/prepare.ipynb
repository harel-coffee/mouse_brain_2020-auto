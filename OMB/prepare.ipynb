{
 "cells": [
  {
   "cell_type": "code",
   "execution_count": 69,
   "metadata": {
    "ExecuteTime": {
     "end_time": "2020-03-12T07:46:39.952182Z",
     "start_time": "2020-03-12T07:46:39.949949Z"
    }
   },
   "outputs": [],
   "source": [
    "import pandas as pd\n",
    "import msgpack\n",
    "import numpy as np"
   ]
  },
  {
   "cell_type": "code",
   "execution_count": 2,
   "metadata": {
    "ExecuteTime": {
     "end_time": "2020-03-12T07:24:04.636843Z",
     "start_time": "2020-03-12T07:24:04.116688Z"
    }
   },
   "outputs": [
    {
     "name": "stderr",
     "output_type": "stream",
     "text": [
      "/home/hanliu/miniconda3/envs/clustering/lib/python3.7/site-packages/IPython/core/interactiveshell.py:3326: FutureWarning: The read_msgpack is deprecated and will be removed in a future version.\n",
      "It is recommended to use pyarrow for on-the-wire transmission of pandas objects.\n",
      "  exec(code_obj, self.user_global_ns, self.user_ns)\n"
     ]
    }
   ],
   "source": [
    "cell_tidy_data = pd.read_msgpack(\n",
    "    '/home/hanliu/project/mouse_rostral_brain/study/ClusteringSummary/Summary/TotalClusteringResults.msg'\n",
    ")"
   ]
  },
  {
   "cell_type": "code",
   "execution_count": 3,
   "metadata": {
    "ExecuteTime": {
     "end_time": "2020-03-12T07:24:04.647991Z",
     "start_time": "2020-03-12T07:24:04.639123Z"
    }
   },
   "outputs": [
    {
     "data": {
      "text/plain": [
       "Index(['AllcPath', 'CCC_Rate', 'CG_Rate', 'CG_RateAdj', 'CH_Rate',\n",
       "       'CH_RateAdj', 'FinalReads', 'InputReads', 'MappedReads', 'Region',\n",
       "       'index_name', 'uid', 'BamFilteringRate', 'MappingRate', 'Pos96',\n",
       "       'Plate', 'Col96', 'Row96', 'Col384', 'Row384', 'FACS_Date', 'Slice',\n",
       "       'CellClass', 'l1-umap_0', 'l1-umap_1', 'l1-tsne_0', 'l1-tsne_1',\n",
       "       'MajorType', 'l2-umap_0', 'l2-umap_1', 'l2-tsne_0', 'l2-tsne_1',\n",
       "       'SubType', 'l3-umap_0', 'l3-umap_1', 'l3-tsne_0', 'l3-tsne_1',\n",
       "       'L1CellClass', 'class_tsne_0', 'class_tsne_1', 'class_umap_0',\n",
       "       'class_umap_1', 'Order', 'RegionName', 'MajorRegion', 'SubRegion',\n",
       "       'DetailRegion', 'PotentialOverlap (MMB)', 'Anterior (CCF coords)',\n",
       "       'Posterior (CCF coords)', 'MajorRegionColor', 'SubRegionColor',\n",
       "       'DissectionRegionColor', 'Replicate'],\n",
       "      dtype='object')"
      ]
     },
     "execution_count": 3,
     "metadata": {},
     "output_type": "execute_result"
    }
   ],
   "source": [
    "cell_tidy_data.columns"
   ]
  },
  {
   "cell_type": "markdown",
   "metadata": {},
   "source": [
    "## Coords"
   ]
  },
  {
   "cell_type": "code",
   "execution_count": 4,
   "metadata": {
    "ExecuteTime": {
     "end_time": "2020-03-12T07:24:04.652562Z",
     "start_time": "2020-03-12T07:24:04.650114Z"
    }
   },
   "outputs": [],
   "source": [
    "use_cols = [\n",
    "    'l1-umap_0', 'l1-umap_1', 'l1-tsne_0', 'l1-tsne_1', 'l3-umap_0',\n",
    "    'l3-umap_1', 'l3-tsne_0', 'l3-tsne_1', 'class_tsne_0', 'class_tsne_1',\n",
    "    'class_umap_0', 'class_umap_1'\n",
    "]"
   ]
  },
  {
   "cell_type": "code",
   "execution_count": 5,
   "metadata": {
    "ExecuteTime": {
     "end_time": "2020-03-12T07:24:04.942182Z",
     "start_time": "2020-03-12T07:24:04.656842Z"
    }
   },
   "outputs": [],
   "source": [
    "cell_tidy_data[use_cols].to_hdf('Coords.HDF', key='data')"
   ]
  },
  {
   "cell_type": "markdown",
   "metadata": {},
   "source": [
    "## Categorical Data"
   ]
  },
  {
   "cell_type": "code",
   "execution_count": 6,
   "metadata": {
    "ExecuteTime": {
     "end_time": "2020-03-12T07:24:04.947689Z",
     "start_time": "2020-03-12T07:24:04.944613Z"
    }
   },
   "outputs": [],
   "source": [
    "use_cols = [\n",
    "    'RegionName', 'MajorRegion', 'SubRegion', 'Region', 'Slice', 'CellClass',\n",
    "    'MajorType', 'SubType', 'Replicate', 'Pos96', 'Plate', 'Col96', 'Row96',\n",
    "    'Col384', 'Row384', 'FACS_Date'\n",
    "]"
   ]
  },
  {
   "cell_type": "code",
   "execution_count": 7,
   "metadata": {
    "ExecuteTime": {
     "end_time": "2020-03-12T07:24:05.534279Z",
     "start_time": "2020-03-12T07:24:04.950117Z"
    }
   },
   "outputs": [],
   "source": [
    "cell_tidy_data[use_cols].to_hdf('Category.HDF', key='data')\n"
   ]
  },
  {
   "cell_type": "markdown",
   "metadata": {},
   "source": [
    "## Palette for categorical Data"
   ]
  },
  {
   "cell_type": "code",
   "execution_count": 8,
   "metadata": {
    "ExecuteTime": {
     "end_time": "2020-03-12T07:24:05.562022Z",
     "start_time": "2020-03-12T07:24:05.536471Z"
    }
   },
   "outputs": [],
   "source": [
    "region_palette = pd.read_csv('/home/hanliu/project/mouse_rostral_brain/metadata/palette/dissection_region.palette.csv',\n",
    "                                header=None, index_col=0, squeeze=True).to_dict()\n",
    "sub_region_palette = pd.read_csv('/home/hanliu/project/mouse_rostral_brain/metadata/palette/sub_region.palette.csv',\n",
    "                                header=None, index_col=0, squeeze=True).to_dict()\n",
    "major_region_palette = pd.read_csv('/home/hanliu/project/mouse_rostral_brain/metadata/palette/major_region.palette.csv',\n",
    "                                header=None, index_col=0, squeeze=True).to_dict()\n",
    "\n",
    "cell_class_palette = pd.read_csv('/home/hanliu/project/mouse_rostral_brain/metadata/palette/cell_class.palette.csv',\n",
    "                                header=None, index_col=0, squeeze=True).to_dict()\n",
    "major_type_palette = pd.read_csv('/home/hanliu/project/mouse_rostral_brain/metadata/palette/major_type.palette.csv',\n",
    "                                header=None, index_col=0, squeeze=True).to_dict()\n",
    "sub_type_palette = pd.read_csv('/home/hanliu/project/mouse_rostral_brain/metadata/palette/sub_type.palette.csv',\n",
    "                                header=None, index_col=0, squeeze=True).to_dict()"
   ]
  },
  {
   "cell_type": "code",
   "execution_count": 9,
   "metadata": {
    "ExecuteTime": {
     "end_time": "2020-03-12T07:24:05.566911Z",
     "start_time": "2020-03-12T07:24:05.563406Z"
    }
   },
   "outputs": [],
   "source": [
    "palette = {\n",
    "    'Region': region_palette,\n",
    "    'SubRegion': sub_region_palette,\n",
    "    'MajorRegion': major_region_palette,\n",
    "    'SubType': sub_type_palette,\n",
    "    'MajorType': major_type_palette,\n",
    "    'CellClass': cell_class_palette,\n",
    "}"
   ]
  },
  {
   "cell_type": "code",
   "execution_count": 10,
   "metadata": {
    "ExecuteTime": {
     "end_time": "2020-03-12T07:24:05.575149Z",
     "start_time": "2020-03-12T07:24:05.568928Z"
    }
   },
   "outputs": [],
   "source": [
    "def write_msg(obj, path):\n",
    "    with open(path, 'wb') as f:\n",
    "        msgpack.pack(obj, f)\n",
    "        \n",
    "def read_msg(path):\n",
    "    with open(path, 'rb') as f:\n",
    "        obj = msgpack.unpackb(f.read(), raw=False)\n",
    "    return obj\n",
    "\n",
    "write_msg(palette, 'Palette.msg')\n",
    "palette = read_msg('Palette.msg')"
   ]
  },
  {
   "cell_type": "markdown",
   "metadata": {},
   "source": [
    "## Continuous Data"
   ]
  },
  {
   "cell_type": "code",
   "execution_count": 11,
   "metadata": {
    "ExecuteTime": {
     "end_time": "2020-03-12T07:24:05.580173Z",
     "start_time": "2020-03-12T07:24:05.577552Z"
    }
   },
   "outputs": [],
   "source": [
    "use_cols = [\n",
    "    'CCC_Rate', 'CG_Rate', 'CG_RateAdj', 'CH_Rate', 'CH_RateAdj', 'FinalReads',\n",
    "    'InputReads', 'MappedReads', 'BamFilteringRate', 'MappingRate'\n",
    "]"
   ]
  },
  {
   "cell_type": "code",
   "execution_count": 12,
   "metadata": {
    "ExecuteTime": {
     "end_time": "2020-03-12T07:24:05.681906Z",
     "start_time": "2020-03-12T07:24:05.581414Z"
    }
   },
   "outputs": [],
   "source": [
    "cell_tidy_data[use_cols].to_hdf('Continuous.HDF', key='data')"
   ]
  },
  {
   "cell_type": "markdown",
   "metadata": {},
   "source": [
    "## Genes"
   ]
  },
  {
   "cell_type": "code",
   "execution_count": 13,
   "metadata": {
    "ExecuteTime": {
     "end_time": "2020-03-12T07:28:17.270858Z",
     "start_time": "2020-03-12T07:28:16.575006Z"
    }
   },
   "outputs": [
    {
     "name": "stderr",
     "output_type": "stream",
     "text": [
      "/home/hanliu/miniconda3/envs/clustering/lib/python3.7/site-packages/IPython/core/interactiveshell.py:3326: FutureWarning: The read_msgpack is deprecated and will be removed in a future version.\n",
      "It is recommended to use pyarrow for on-the-wire transmission of pandas objects.\n",
      "  exec(code_obj, self.user_global_ns, self.user_ns)\n"
     ]
    }
   ],
   "source": [
    "total_markers = pd.read_msgpack(\n",
    "    '/home/hanliu/project/mouse_rostral_brain/study/ClusterMethylMarker/TotalPairwiseMarker.msg'\n",
    ")"
   ]
  },
  {
   "cell_type": "code",
   "execution_count": 26,
   "metadata": {
    "ExecuteTime": {
     "end_time": "2020-03-12T07:31:09.574899Z",
     "start_time": "2020-03-12T07:31:09.040913Z"
    }
   },
   "outputs": [],
   "source": [
    "def bad_name(name):\n",
    "    if name.startswith('Gm') or name.endswith('Rik'):\n",
    "        return False\n",
    "    elif name[:2] == name[:2].upper():\n",
    "        return False\n",
    "    else:\n",
    "        return True\n",
    "\n",
    "total_markers = total_markers[total_markers['gene_name'].apply(bad_name)].copy()\n",
    "marker_counts = total_markers['gene_id'].value_counts()\n"
   ]
  },
  {
   "cell_type": "code",
   "execution_count": 87,
   "metadata": {
    "ExecuteTime": {
     "end_time": "2020-03-12T07:53:44.458521Z",
     "start_time": "2020-03-12T07:53:44.454382Z"
    }
   },
   "outputs": [
    {
     "data": {
      "text/plain": [
       "48"
      ]
     },
     "execution_count": 87,
     "metadata": {},
     "output_type": "execute_result"
    }
   ],
   "source": [
    "use_gene = marker_counts[marker_counts > 290]\n",
    "use_gene.size"
   ]
  },
  {
   "cell_type": "code",
   "execution_count": null,
   "metadata": {},
   "outputs": [],
   "source": []
  },
  {
   "cell_type": "code",
   "execution_count": 49,
   "metadata": {
    "ExecuteTime": {
     "end_time": "2020-03-12T07:34:00.356645Z",
     "start_time": "2020-03-12T07:33:58.275845Z"
    }
   },
   "outputs": [
    {
     "name": "stderr",
     "output_type": "stream",
     "text": [
      "/home/hanliu/miniconda3/envs/clustering/lib/python3.7/site-packages/ipykernel_launcher.py:3: FutureWarning: In xarray version 0.15 the default behaviour of `open_mfdataset`\n",
      "will change. To retain the existing behavior, pass\n",
      "combine='nested'. To use future default behavior, pass\n",
      "combine='by_coords'. See\n",
      "http://xarray.pydata.org/en/stable/combining.html#combining-multi\n",
      "\n",
      "  This is separate from the ipykernel package so we can avoid doing imports until\n",
      "/home/hanliu/miniconda3/envs/clustering/lib/python3.7/site-packages/xarray/backends/api.py:941: FutureWarning: The datasets supplied do not have global dimension coordinates. In\n",
      "future, to continue concatenating without supplying dimension\n",
      "coordinates, please use the new `combine_nested` function (or the\n",
      "`combine='nested'` option to open_mfdataset.\n",
      "  from_openmfds=True,\n"
     ]
    }
   ],
   "source": [
    "import xarray as xr\n",
    "mcds = xr.open_mfdataset(\n",
    "    '/home/hanliu/project/mouse_rostral_brain/study/Level1-CellClass/ALL_manual/Adata/Select*mcds'\n",
    ")\n",
    "\n",
    "mcds = mcds.sel(gene=use_gene.index)\n",
    "gene_da = mcds['gene_da']\n",
    "del gene_da.coords['strand_type']\n",
    "del gene_da.coords['gene_chrom']\n",
    "del gene_da.coords['gene_start']\n",
    "del gene_da.coords['gene_end']\n",
    "\n",
    "gene_da.load()"
   ]
  },
  {
   "cell_type": "code",
   "execution_count": 56,
   "metadata": {
    "ExecuteTime": {
     "end_time": "2020-03-12T07:37:22.504804Z",
     "start_time": "2020-03-12T07:35:22.505981Z"
    }
   },
   "outputs": [
    {
     "data": {
      "text/html": [
       "<pre>&lt;xarray.DataArray &#x27;gene_da&#x27; (cell: 104340, gene: 2218, mc_type: 2)&gt;\n",
       "array([[[1.05173148, 1.08491898],\n",
       "        [1.0722611 , 3.28236253],\n",
       "        [0.88197009, 0.71610103],\n",
       "        ...,\n",
       "        [0.99754248, 1.7850414 ],\n",
       "        [1.13355753, 1.58089273],\n",
       "        [1.12043904, 1.08206878]],\n",
       "\n",
       "       [[1.03470126, 0.82921033],\n",
       "        [0.89876767, 3.87834622],\n",
       "        [0.8401846 , 0.67370888],\n",
       "        ...,\n",
       "        [0.99434967, 1.71258443],\n",
       "        [1.12350512, 2.1621864 ],\n",
       "        [0.7672191 , 1.41146594]],\n",
       "\n",
       "       [[1.1187993 , 1.19232311],\n",
       "        [0.94911137, 2.92377214],\n",
       "        [1.06936168, 2.38446341],\n",
       "        ...,\n",
       "        [0.75821802, 1.64602621],\n",
       "        [1.05960533, 1.79535649],\n",
       "        [0.58293855, 1.16297842]],\n",
       "\n",
       "       ...,\n",
       "\n",
       "       [[1.25350341, 2.22102616],\n",
       "        [1.0879591 , 2.60903002],\n",
       "        [1.09847558, 2.19168549],\n",
       "        ...,\n",
       "        [1.12777934, 1.54845497],\n",
       "        [0.83712115, 0.79640036],\n",
       "        [0.73382716, 0.72690188]],\n",
       "\n",
       "       [[1.16092603, 4.05867241],\n",
       "        [0.98917632, 1.66794574],\n",
       "        [1.06471964, 2.16087908],\n",
       "        ...,\n",
       "        [0.74241076, 0.90913075],\n",
       "        [1.05667357, 1.08655254],\n",
       "        [0.79014789, 1.48345981]],\n",
       "\n",
       "       [[1.08169307, 1.30917933],\n",
       "        [1.10854119, 0.98909117],\n",
       "        [1.07833036, 1.08031449],\n",
       "        ...,\n",
       "        [0.62802927, 0.91756429],\n",
       "        [0.91595007, 0.51985276],\n",
       "        [1.2488717 , 0.92608237]]])\n",
       "Coordinates:\n",
       "  * mc_type  (mc_type) object &#x27;CGN&#x27; &#x27;CHN&#x27;\n",
       "  * gene     (gene) object &#x27;ENSMUSG00000035620.15&#x27; ... &#x27;ENSMUSG00000026018.12&#x27;\n",
       "  * cell     (cell) object &#x27;1A_M_0&#x27; &#x27;1A_M_1&#x27; ... &#x27;8J_M_1291&#x27; &#x27;8J_M_1292&#x27;</pre>"
      ],
      "text/plain": [
       "<xarray.DataArray 'gene_da' (cell: 104340, gene: 2218, mc_type: 2)>\n",
       "array([[[1.05173148, 1.08491898],\n",
       "        [1.0722611 , 3.28236253],\n",
       "        [0.88197009, 0.71610103],\n",
       "        ...,\n",
       "        [0.99754248, 1.7850414 ],\n",
       "        [1.13355753, 1.58089273],\n",
       "        [1.12043904, 1.08206878]],\n",
       "\n",
       "       [[1.03470126, 0.82921033],\n",
       "        [0.89876767, 3.87834622],\n",
       "        [0.8401846 , 0.67370888],\n",
       "        ...,\n",
       "        [0.99434967, 1.71258443],\n",
       "        [1.12350512, 2.1621864 ],\n",
       "        [0.7672191 , 1.41146594]],\n",
       "\n",
       "       [[1.1187993 , 1.19232311],\n",
       "        [0.94911137, 2.92377214],\n",
       "        [1.06936168, 2.38446341],\n",
       "        ...,\n",
       "        [0.75821802, 1.64602621],\n",
       "        [1.05960533, 1.79535649],\n",
       "        [0.58293855, 1.16297842]],\n",
       "\n",
       "       ...,\n",
       "\n",
       "       [[1.25350341, 2.22102616],\n",
       "        [1.0879591 , 2.60903002],\n",
       "        [1.09847558, 2.19168549],\n",
       "        ...,\n",
       "        [1.12777934, 1.54845497],\n",
       "        [0.83712115, 0.79640036],\n",
       "        [0.73382716, 0.72690188]],\n",
       "\n",
       "       [[1.16092603, 4.05867241],\n",
       "        [0.98917632, 1.66794574],\n",
       "        [1.06471964, 2.16087908],\n",
       "        ...,\n",
       "        [0.74241076, 0.90913075],\n",
       "        [1.05667357, 1.08655254],\n",
       "        [0.79014789, 1.48345981]],\n",
       "\n",
       "       [[1.08169307, 1.30917933],\n",
       "        [1.10854119, 0.98909117],\n",
       "        [1.07833036, 1.08031449],\n",
       "        ...,\n",
       "        [0.62802927, 0.91756429],\n",
       "        [0.91595007, 0.51985276],\n",
       "        [1.2488717 , 0.92608237]]])\n",
       "Coordinates:\n",
       "  * mc_type  (mc_type) object 'CGN' 'CHN'\n",
       "  * gene     (gene) object 'ENSMUSG00000035620.15' ... 'ENSMUSG00000026018.12'\n",
       "  * cell     (cell) object '1A_M_0' '1A_M_1' ... '8J_M_1291' '8J_M_1292'"
      ]
     },
     "execution_count": 56,
     "metadata": {},
     "output_type": "execute_result"
    }
   ],
   "source": []
  },
  {
   "cell_type": "code",
   "execution_count": 57,
   "metadata": {
    "ExecuteTime": {
     "end_time": "2020-03-12T07:37:44.932554Z",
     "start_time": "2020-03-12T07:37:40.393130Z"
    }
   },
   "outputs": [],
   "source": [
    "gene_da.to_netcdf('Gene.mcds')"
   ]
  },
  {
   "cell_type": "code",
   "execution_count": 88,
   "metadata": {
    "ExecuteTime": {
     "end_time": "2020-03-12T07:53:50.586520Z",
     "start_time": "2020-03-12T07:53:49.357839Z"
    }
   },
   "outputs": [],
   "source": [
    "gene_da.sel(gene=use_gene.index).astype('float32').to_netcdf('Gene.small.mcds')"
   ]
  },
  {
   "cell_type": "code",
   "execution_count": null,
   "metadata": {},
   "outputs": [],
   "source": []
  },
  {
   "cell_type": "code",
   "execution_count": null,
   "metadata": {},
   "outputs": [],
   "source": []
  }
 ],
 "metadata": {
  "hide_input": false,
  "kernelspec": {
   "display_name": "Python 3",
   "language": "python",
   "name": "python3"
  },
  "language_info": {
   "codemirror_mode": {
    "name": "ipython",
    "version": 3
   },
   "file_extension": ".py",
   "mimetype": "text/x-python",
   "name": "python",
   "nbconvert_exporter": "python",
   "pygments_lexer": "ipython3",
   "version": "3.7.3"
  },
  "toc": {
   "base_numbering": 1,
   "nav_menu": {},
   "number_sections": true,
   "sideBar": true,
   "skip_h1_title": true,
   "title_cell": "Table of Contents",
   "title_sidebar": "Contents",
   "toc_cell": false,
   "toc_position": {},
   "toc_section_display": true,
   "toc_window_display": true
  }
 },
 "nbformat": 4,
 "nbformat_minor": 2
}
