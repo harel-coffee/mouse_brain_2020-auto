{
 "cells": [
  {
   "cell_type": "code",
   "execution_count": 1,
   "metadata": {
    "ExecuteTime": {
     "end_time": "2020-01-05T20:09:07.379201Z",
     "start_time": "2020-01-05T20:09:07.240972Z"
    }
   },
   "outputs": [],
   "source": [
    "import pandas as pd"
   ]
  },
  {
   "cell_type": "markdown",
   "metadata": {},
   "source": [
    "## Parameter"
   ]
  },
  {
   "cell_type": "code",
   "execution_count": 2,
   "metadata": {
    "ExecuteTime": {
     "end_time": "2020-01-05T20:09:12.290352Z",
     "start_time": "2020-01-05T20:09:12.288080Z"
    }
   },
   "outputs": [],
   "source": [
    "corr_cutoff = 0.35\n",
    "distance_cutoff = 500000"
   ]
  },
  {
   "cell_type": "code",
   "execution_count": 3,
   "metadata": {
    "ExecuteTime": {
     "end_time": "2020-01-05T20:09:21.013767Z",
     "start_time": "2020-01-05T20:09:17.140512Z"
    }
   },
   "outputs": [
    {
     "name": "stderr",
     "output_type": "stream",
     "text": [
      "/home/hanliu/miniconda3/envs/clustering/lib/python3.7/site-packages/IPython/core/interactiveshell.py:3326: FutureWarning: The read_msgpack is deprecated and will be removed in a future version.\n",
      "It is recommended to use pyarrow for on-the-wire transmission of pandas objects.\n",
      "  exec(code_obj, self.user_global_ns, self.user_ns)\n"
     ]
    }
   ],
   "source": [
    "total_corr = pd.read_msgpack('/home/hanliu/project/mouse_rostral_brain/study/DMRGeneCorr/TotalGeneDMRCorrLoop.0.3.msg')"
   ]
  },
  {
   "cell_type": "code",
   "execution_count": 4,
   "metadata": {
    "ExecuteTime": {
     "end_time": "2020-01-05T20:09:24.079890Z",
     "start_time": "2020-01-05T20:09:23.319247Z"
    }
   },
   "outputs": [],
   "source": [
    "use_gene = pd.read_csv('related_dmgs.txt', index_col=0, header=None).index\n",
    "use_dmr = pd.read_csv('related_dmrs.txt', index_col=0, header=None).index"
   ]
  },
  {
   "cell_type": "code",
   "execution_count": 7,
   "metadata": {
    "ExecuteTime": {
     "end_time": "2020-01-05T20:09:34.145489Z",
     "start_time": "2020-01-05T20:09:32.748561Z"
    }
   },
   "outputs": [],
   "source": [
    "use_corr = total_corr[total_corr['DMR'].isin(use_dmr) & \n",
    "           total_corr['Gene'].isin(use_gene) & \n",
    "           (total_corr['DMR_to_gene_dist'].abs() < distance_cutoff)]"
   ]
  },
  {
   "cell_type": "code",
   "execution_count": 8,
   "metadata": {
    "ExecuteTime": {
     "end_time": "2020-01-05T20:09:35.398244Z",
     "start_time": "2020-01-05T20:09:34.764037Z"
    }
   },
   "outputs": [
    {
     "name": "stderr",
     "output_type": "stream",
     "text": [
      "/home/hanliu/miniconda3/envs/clustering/lib/python3.7/site-packages/ipykernel_launcher.py:1: FutureWarning: to_msgpack is deprecated and will be removed in a future version.\n",
      "It is recommended to use pyarrow for on-the-wire transmission of pandas objects.\n",
      "  \"\"\"Entry point for launching an IPython kernel.\n"
     ]
    }
   ],
   "source": [
    "use_corr.to_msgpack('RelatedCorr.msg')"
   ]
  },
  {
   "cell_type": "code",
   "execution_count": 9,
   "metadata": {
    "ExecuteTime": {
     "end_time": "2020-01-05T20:09:39.533965Z",
     "start_time": "2020-01-05T20:09:39.529403Z"
    }
   },
   "outputs": [
    {
     "data": {
      "text/plain": [
       "(687816, 5)"
      ]
     },
     "execution_count": 9,
     "metadata": {},
     "output_type": "execute_result"
    }
   ],
   "source": [
    "use_corr.shape"
   ]
  },
  {
   "cell_type": "code",
   "execution_count": 10,
   "metadata": {
    "ExecuteTime": {
     "end_time": "2020-01-05T20:09:42.879910Z",
     "start_time": "2020-01-05T20:09:42.870404Z"
    }
   },
   "outputs": [
    {
     "data": {
      "text/html": [
       "<div>\n",
       "<style scoped>\n",
       "    .dataframe tbody tr th:only-of-type {\n",
       "        vertical-align: middle;\n",
       "    }\n",
       "\n",
       "    .dataframe tbody tr th {\n",
       "        vertical-align: top;\n",
       "    }\n",
       "\n",
       "    .dataframe thead th {\n",
       "        text-align: right;\n",
       "    }\n",
       "</style>\n",
       "<table border=\"1\" class=\"dataframe\">\n",
       "  <thead>\n",
       "    <tr style=\"text-align: right;\">\n",
       "      <th></th>\n",
       "      <th>DMR</th>\n",
       "      <th>Gene</th>\n",
       "      <th>Corr</th>\n",
       "      <th>chrom</th>\n",
       "      <th>DMR_to_gene_dist</th>\n",
       "    </tr>\n",
       "  </thead>\n",
       "  <tbody>\n",
       "    <tr>\n",
       "      <th>1</th>\n",
       "      <td>Subchr1_79</td>\n",
       "      <td>ENSMUSG00000089699.1</td>\n",
       "      <td>0.314964</td>\n",
       "      <td>chr1</td>\n",
       "      <td>-405545.0</td>\n",
       "    </tr>\n",
       "    <tr>\n",
       "      <th>71</th>\n",
       "      <td>Subchr1_176</td>\n",
       "      <td>ENSMUSG00000104017.1</td>\n",
       "      <td>0.512181</td>\n",
       "      <td>chr1</td>\n",
       "      <td>-258484.0</td>\n",
       "    </tr>\n",
       "    <tr>\n",
       "      <th>73</th>\n",
       "      <td>Subchr1_176</td>\n",
       "      <td>ENSMUSG00000089699.1</td>\n",
       "      <td>0.508618</td>\n",
       "      <td>chr1</td>\n",
       "      <td>-347283.0</td>\n",
       "    </tr>\n",
       "    <tr>\n",
       "      <th>74</th>\n",
       "      <td>Subchr1_176</td>\n",
       "      <td>ENSMUSG00000103201.1</td>\n",
       "      <td>0.489546</td>\n",
       "      <td>chr1</td>\n",
       "      <td>-395203.0</td>\n",
       "    </tr>\n",
       "    <tr>\n",
       "      <th>141</th>\n",
       "      <td>Subchr1_246</td>\n",
       "      <td>ENSMUSG00000104017.1</td>\n",
       "      <td>0.377231</td>\n",
       "      <td>chr1</td>\n",
       "      <td>-211770.5</td>\n",
       "    </tr>\n",
       "  </tbody>\n",
       "</table>\n",
       "</div>"
      ],
      "text/plain": [
       "             DMR                  Gene      Corr chrom  DMR_to_gene_dist\n",
       "1     Subchr1_79  ENSMUSG00000089699.1  0.314964  chr1         -405545.0\n",
       "71   Subchr1_176  ENSMUSG00000104017.1  0.512181  chr1         -258484.0\n",
       "73   Subchr1_176  ENSMUSG00000089699.1  0.508618  chr1         -347283.0\n",
       "74   Subchr1_176  ENSMUSG00000103201.1  0.489546  chr1         -395203.0\n",
       "141  Subchr1_246  ENSMUSG00000104017.1  0.377231  chr1         -211770.5"
      ]
     },
     "execution_count": 10,
     "metadata": {},
     "output_type": "execute_result"
    }
   ],
   "source": [
    "use_corr.head()"
   ]
  },
  {
   "cell_type": "code",
   "execution_count": null,
   "metadata": {},
   "outputs": [],
   "source": []
  },
  {
   "cell_type": "code",
   "execution_count": null,
   "metadata": {},
   "outputs": [],
   "source": []
  },
  {
   "cell_type": "code",
   "execution_count": null,
   "metadata": {},
   "outputs": [],
   "source": []
  },
  {
   "cell_type": "code",
   "execution_count": null,
   "metadata": {},
   "outputs": [],
   "source": []
  },
  {
   "cell_type": "code",
   "execution_count": null,
   "metadata": {},
   "outputs": [],
   "source": []
  }
 ],
 "metadata": {
  "hide_input": false,
  "kernelspec": {
   "display_name": "Python 3",
   "language": "python",
   "name": "python3"
  },
  "language_info": {
   "codemirror_mode": {
    "name": "ipython",
    "version": 3
   },
   "file_extension": ".py",
   "mimetype": "text/x-python",
   "name": "python",
   "nbconvert_exporter": "python",
   "pygments_lexer": "ipython3",
   "version": "3.7.3"
  },
  "toc": {
   "base_numbering": 1,
   "nav_menu": {},
   "number_sections": true,
   "sideBar": true,
   "skip_h1_title": true,
   "title_cell": "Table of Contents",
   "title_sidebar": "Contents",
   "toc_cell": false,
   "toc_position": {},
   "toc_section_display": true,
   "toc_window_display": true
  }
 },
 "nbformat": 4,
 "nbformat_minor": 2
}
