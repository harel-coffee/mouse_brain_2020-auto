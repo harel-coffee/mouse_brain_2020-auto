{
 "cells": [
  {
   "cell_type": "code",
   "execution_count": 1,
   "metadata": {
    "ExecuteTime": {
     "end_time": "2020-01-05T01:23:59.409110Z",
     "start_time": "2020-01-05T01:23:59.032677Z"
    }
   },
   "outputs": [],
   "source": [
    "import pandas as pd\n",
    "import numpy as np\n",
    "import pathlib\n",
    "import seaborn as sns\n",
    "import matplotlib.pyplot as plt"
   ]
  },
  {
   "cell_type": "markdown",
   "metadata": {},
   "source": [
    "## Parameters"
   ]
  },
  {
   "cell_type": "code",
   "execution_count": 2,
   "metadata": {
    "ExecuteTime": {
     "end_time": "2020-01-05T01:23:59.414359Z",
     "start_time": "2020-01-05T01:23:59.411053Z"
    }
   },
   "outputs": [],
   "source": [
    "use_clusters = [\n",
    "    'CA1_Ak5', 'CA1_Chrm3', 'CA1_Kif26a', 'CA1_Ptprg',\n",
    "    'CA3_Cadm2', 'CA3_Efnb2', 'CA3-St18_Epha5', 'CA3-St18_Nuak1',\n",
    "    'CA3-St18_Tead1', 'DG_dg-all', 'DG-po_Bcl11a', 'DG-po_Calb2',\n",
    "    'DG-po_Kctd8', 'Gfra1_Gfra1', 'IG-CA2_Chrm3', 'IG-CA2_Peak1', 'IG-CA2_Xpr1'\n",
    "]\n",
    "# 'CA1_Lingo2' not include, because it co-cluster with RHP, probably an incomplete cluster\n",
    "\n",
    "oddsratio_cutoff = 1.2\n",
    "lgp_cutoff = 8\n",
    "\n",
    "expressed_cutoff = 0.05\n",
    "expressed_portion = 0.2"
   ]
  },
  {
   "cell_type": "markdown",
   "metadata": {},
   "source": [
    "## Total Motif Enrichment"
   ]
  },
  {
   "cell_type": "code",
   "execution_count": 3,
   "metadata": {
    "ExecuteTime": {
     "end_time": "2020-01-05T01:24:00.137183Z",
     "start_time": "2020-01-05T01:24:00.080279Z"
    }
   },
   "outputs": [
    {
     "name": "stderr",
     "output_type": "stream",
     "text": [
      "/home/hanliu/miniconda3/envs/clustering/lib/python3.7/site-packages/IPython/core/interactiveshell.py:3326: FutureWarning: The read_msgpack is deprecated and will be removed in a future version.\n",
      "It is recommended to use pyarrow for on-the-wire transmission of pandas objects.\n",
      "  exec(code_obj, self.user_global_ns, self.user_ns)\n"
     ]
    }
   ],
   "source": [
    "enriched_motif = pd.read_msgpack(\n",
    "    '/home/hanliu/project/mouse_rostral_brain/study/ManualMotifEnrichment/SubType.total_enrichment.msg'\n",
    ")\n",
    "enriched_motif = enriched_motif[enriched_motif['SubType'].isin(use_clusters)]\n",
    "enriched_motif = enriched_motif[\n",
    "    (enriched_motif['-lgp'] >= lgp_cutoff) & \n",
    "    (enriched_motif['oddsratio'] >= oddsratio_cutoff) &\n",
    "    (enriched_motif['DMRType'] == 'Hypo')]"
   ]
  },
  {
   "cell_type": "markdown",
   "metadata": {},
   "source": [
    "## RNA CPM"
   ]
  },
  {
   "cell_type": "code",
   "execution_count": 4,
   "metadata": {
    "ExecuteTime": {
     "end_time": "2020-01-05T01:24:00.878558Z",
     "start_time": "2020-01-05T01:24:00.765820Z"
    }
   },
   "outputs": [],
   "source": [
    "cluster_cpm = pd.read_msgpack('/home/hanliu/project/mouse_rostral_brain/study/mCClusterRNACPM/SubType.CPM.msg')\n",
    "cluster_cpm.index = cluster_cpm.index.map(lambda i: i if i != 'Zfp191' else 'Zfp24')\n",
    "cluster_cpm.columns = cluster_cpm.columns.map(lambda i: i.replace(' ', '_'))"
   ]
  },
  {
   "cell_type": "code",
   "execution_count": 5,
   "metadata": {
    "ExecuteTime": {
     "end_time": "2020-01-05T01:24:01.255430Z",
     "start_time": "2020-01-05T01:24:01.075706Z"
    }
   },
   "outputs": [
    {
     "data": {
      "image/png": "[encoded data removed]",
      "text/plain": [
       "<Figure size 432x288 with 1 Axes>"
      ]
     },
     "metadata": {
      "needs_background": "light"
     },
     "output_type": "display_data"
    }
   ],
   "source": [
    "gene_set = set()\n",
    "for gs in enriched_motif['gene_names']:\n",
    "    for g in gs.split(','):\n",
    "        gene_set.add(g)\n",
    "tf_genes = pd.Index(gene_set)\n",
    "\n",
    "for g in tf_genes:\n",
    "    if g not in cluster_cpm.index:\n",
    "        print(g)\n",
    "tf_cpm = cluster_cpm.loc[tf_genes, use_clusters]\n",
    "assert tf_cpm.isna().sum().sum() == 0\n",
    "\n",
    "a = tf_cpm.values.flat\n",
    "sns.distplot(np.log1p(a[a > expressed_cutoff]), kde=False, bins=30)\n",
    "expressed_tf_cpm_judge = tf_cpm > expressed_cutoff"
   ]
  },
  {
   "cell_type": "markdown",
   "metadata": {},
   "source": [
    "## RNA exp Portion"
   ]
  },
  {
   "cell_type": "code",
   "execution_count": 6,
   "metadata": {
    "ExecuteTime": {
     "end_time": "2020-01-05T01:24:02.354088Z",
     "start_time": "2020-01-05T01:24:02.175024Z"
    }
   },
   "outputs": [],
   "source": [
    "cluster_exp_portion = pd.read_msgpack('/home/hanliu/project/mouse_rostral_brain/study/mCClusterRNACPM/SubType.exp_portion.msg')\n",
    "cluster_exp_portion.index = cluster_exp_portion.index.map(lambda i: i if i != 'Zfp191' else 'Zfp24')\n",
    "cluster_exp_portion.columns = cluster_exp_portion.columns.map(lambda i: i.replace(' ', '_'))\n"
   ]
  },
  {
   "cell_type": "code",
   "execution_count": 7,
   "metadata": {
    "ExecuteTime": {
     "end_time": "2020-01-05T01:24:02.807840Z",
     "start_time": "2020-01-05T01:24:02.630318Z"
    }
   },
   "outputs": [
    {
     "data": {
      "image/png": "[encoded data removed]",
      "text/plain": [
       "<Figure size 432x288 with 1 Axes>"
      ]
     },
     "metadata": {
      "needs_background": "light"
     },
     "output_type": "display_data"
    }
   ],
   "source": [
    "tf_exp_portion = cluster_exp_portion.loc[tf_genes, use_clusters]\n",
    "assert tf_exp_portion.isna().sum().sum() == 0\n",
    "\n",
    "a = tf_exp_portion.values.flat\n",
    "sns.distplot(np.log1p(a[a > expressed_cutoff]), kde=False, bins=30)\n",
    "expressed_tf_portion_judge = tf_exp_portion > expressed_portion"
   ]
  },
  {
   "cell_type": "code",
   "execution_count": 9,
   "metadata": {
    "ExecuteTime": {
     "end_time": "2020-01-05T01:24:36.316310Z",
     "start_time": "2020-01-05T01:24:36.313056Z"
    }
   },
   "outputs": [],
   "source": [
    "rna_total_judge = pd.DataFrame(\n",
    "    np.all([expressed_tf_cpm_judge.values, expressed_tf_portion_judge.values],\n",
    "           axis=0),\n",
    "    index=expressed_tf_cpm_judge.index,\n",
    "    columns=expressed_tf_cpm_judge.columns)"
   ]
  },
  {
   "cell_type": "code",
   "execution_count": 12,
   "metadata": {
    "ExecuteTime": {
     "end_time": "2020-01-05T01:24:52.249725Z",
     "start_time": "2020-01-05T01:24:52.245810Z"
    }
   },
   "outputs": [
    {
     "data": {
      "text/plain": [
       "951"
      ]
     },
     "execution_count": 12,
     "metadata": {},
     "output_type": "execute_result"
    }
   ],
   "source": [
    "rna_total_judge.sum().sum()"
   ]
  },
  {
   "cell_type": "markdown",
   "metadata": {},
   "source": [
    "## Final Enrichment "
   ]
  },
  {
   "cell_type": "code",
   "execution_count": 18,
   "metadata": {
    "ExecuteTime": {
     "end_time": "2020-01-05T01:26:38.106751Z",
     "start_time": "2020-01-05T01:26:38.103626Z"
    }
   },
   "outputs": [],
   "source": [
    "def judge(cluster, gene):\n",
    "    judges = []\n",
    "    for g in gene.split(','):\n",
    "        judges.append(rna_total_judge.loc[g, cluster])\n",
    "    return any(judges)"
   ]
  },
  {
   "cell_type": "code",
   "execution_count": 29,
   "metadata": {
    "ExecuteTime": {
     "end_time": "2020-01-05T01:28:44.391922Z",
     "start_time": "2020-01-05T01:28:44.353367Z"
    }
   },
   "outputs": [],
   "source": [
    "enriched_motif = enriched_motif[enriched_motif.apply(lambda i: judge(i['SubType'], i['gene_names']), axis=1)]"
   ]
  },
  {
   "cell_type": "code",
   "execution_count": 40,
   "metadata": {
    "ExecuteTime": {
     "end_time": "2020-01-05T02:22:11.485905Z",
     "start_time": "2020-01-05T02:22:10.329907Z"
    }
   },
   "outputs": [
    {
     "data": {
      "text/plain": [
       "<seaborn.matrix.ClusterGrid at 0x7f675b9b60b8>"
      ]
     },
     "execution_count": 40,
     "metadata": {},
     "output_type": "execute_result"
    },
    {
     "data": {
      "image/png": "[encoded data removed]",
      "text/plain": [
       "<Figure size 2160x360 with 4 Axes>"
      ]
     },
     "metadata": {
      "needs_background": "light"
     },
     "output_type": "display_data"
    }
   ],
   "source": [
    "sns.clustermap(enriched_motif.groupby(['SubType', 'gene_names'])['oddsratio'].max().unstack().fillna(1),\n",
    "              figsize=(30, 5))"
   ]
  },
  {
   "cell_type": "code",
   "execution_count": 43,
   "metadata": {
    "ExecuteTime": {
     "end_time": "2020-01-05T02:24:46.985196Z",
     "start_time": "2020-01-05T02:24:46.980467Z"
    }
   },
   "outputs": [
    {
     "data": {
      "text/plain": [
       "31"
      ]
     },
     "execution_count": 43,
     "metadata": {},
     "output_type": "execute_result"
    }
   ],
   "source": [
    "enriched_motif['motif_group'].value_counts().size"
   ]
  },
  {
   "cell_type": "code",
   "execution_count": 45,
   "metadata": {
    "ExecuteTime": {
     "end_time": "2020-01-05T03:09:27.148593Z",
     "start_time": "2020-01-05T03:09:27.144106Z"
    }
   },
   "outputs": [
    {
     "name": "stderr",
     "output_type": "stream",
     "text": [
      "/home/hanliu/miniconda3/envs/clustering/lib/python3.7/site-packages/ipykernel_launcher.py:1: FutureWarning: to_msgpack is deprecated and will be removed in a future version.\n",
      "It is recommended to use pyarrow for on-the-wire transmission of pandas objects.\n",
      "  \"\"\"Entry point for launching an IPython kernel.\n"
     ]
    }
   ],
   "source": [
    "enriched_motif.to_msgpack('MotifEnrichment.rna_filtered.msg')"
   ]
  },
  {
   "cell_type": "code",
   "execution_count": null,
   "metadata": {},
   "outputs": [],
   "source": []
  }
 ],
 "metadata": {
  "hide_input": false,
  "kernelspec": {
   "display_name": "Python 3",
   "language": "python",
   "name": "python3"
  },
  "language_info": {
   "codemirror_mode": {
    "name": "ipython",
    "version": 3
   },
   "file_extension": ".py",
   "mimetype": "text/x-python",
   "name": "python",
   "nbconvert_exporter": "python",
   "pygments_lexer": "ipython3",
   "version": "3.7.3"
  },
  "toc": {
   "base_numbering": 1,
   "nav_menu": {},
   "number_sections": true,
   "sideBar": true,
   "skip_h1_title": true,
   "title_cell": "Table of Contents",
   "title_sidebar": "Contents",
   "toc_cell": false,
   "toc_position": {},
   "toc_section_display": true,
   "toc_window_display": true
  }
 },
 "nbformat": 4,
 "nbformat_minor": 2
}
