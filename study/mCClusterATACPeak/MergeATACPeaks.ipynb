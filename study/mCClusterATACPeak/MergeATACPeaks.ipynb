{
 "cells": [
  {
   "cell_type": "code",
   "execution_count": 1,
   "metadata": {
    "ExecuteTime": {
     "end_time": "2020-02-08T01:44:27.217875Z",
     "start_time": "2020-02-08T01:44:26.834982Z"
    }
   },
   "outputs": [],
   "source": [
    "import pandas as pd\n",
    "import json\n",
    "import pybedtools\n",
    "import pathlib\n",
    "import subprocess"
   ]
  },
  {
   "cell_type": "code",
   "execution_count": 2,
   "metadata": {
    "ExecuteTime": {
     "end_time": "2020-02-08T01:44:27.588280Z",
     "start_time": "2020-02-08T01:44:27.220182Z"
    }
   },
   "outputs": [
    {
     "name": "stderr",
     "output_type": "stream",
     "text": [
      "/home/hanliu/miniconda3/envs/clustering/lib/python3.7/site-packages/IPython/core/interactiveshell.py:3326: FutureWarning: The read_msgpack is deprecated and will be removed in a future version.\n",
      "It is recommended to use pyarrow for on-the-wire transmission of pandas objects.\n",
      "  exec(code_obj, self.user_global_ns, self.user_ns)\n"
     ]
    }
   ],
   "source": [
    "cell_tidy_data = pd.read_msgpack(\n",
    "    '/home/hanliu/project/mouse_rostral_brain/study/ClusteringSummary/Summary/TotalClusteringResults.msg'\n",
    ")"
   ]
  },
  {
   "cell_type": "code",
   "execution_count": 3,
   "metadata": {
    "ExecuteTime": {
     "end_time": "2020-02-08T01:44:28.093338Z",
     "start_time": "2020-02-08T01:44:28.088685Z"
    }
   },
   "outputs": [],
   "source": [
    "with open(\n",
    "        '/home/hanliu/project/mouse_rostral_brain/metadata/label_transfer_between_modality/mC-ATAC.CellClass.json'\n",
    ") as f:\n",
    "    cell_class_to_atac = json.load(f)\n",
    "\n",
    "with open(\n",
    "        '/home/hanliu/project/mouse_rostral_brain/metadata/label_transfer_between_modality/mC-ATAC.MajorType.json'\n",
    ") as f:\n",
    "    major_type_to_atac = json.load(f)\n",
    "\n",
    "with open(\n",
    "        '/home/hanliu/project/mouse_rostral_brain/metadata/label_transfer_between_modality/mC-ATAC.SubType.json'\n",
    ") as f:\n",
    "    sub_type_to_atac = json.load(f)"
   ]
  },
  {
   "cell_type": "code",
   "execution_count": 4,
   "metadata": {
    "ExecuteTime": {
     "end_time": "2020-02-08T01:44:29.267827Z",
     "start_time": "2020-02-08T01:44:29.263407Z"
    }
   },
   "outputs": [],
   "source": [
    "atac_peak_dir = pathlib.Path('/home/hanliu/project/mouse_rostral_brain/ATAC/peak/')\n",
    "atac_paths = {'.'.join(path.name.split('.')[:-3]): path for path in atac_peak_dir.glob('*bed')}"
   ]
  },
  {
   "cell_type": "code",
   "execution_count": 5,
   "metadata": {
    "ExecuteTime": {
     "end_time": "2020-02-08T01:44:50.161149Z",
     "start_time": "2020-02-08T01:44:30.249372Z"
    }
   },
   "outputs": [],
   "source": [
    "outdir = 'CellClass'\n",
    "\n",
    "for cluster, atac_cluster_list in cell_class_to_atac.items():\n",
    "    atac_files = [str(atac_paths[c]) for c in atac_cluster_list]\n",
    "    atac_file_str = ' '.join(atac_files)\n",
    "    subprocess.run(f'cat {atac_file_str} > {outdir}/{cluster}.peak.bed',\n",
    "                   shell=True)\n",
    "    subprocess.run(\n",
    "        f'sort --parallel=20 -S 50G -k 1,1 -k2,2n {outdir}/{cluster}.peak.bed > {outdir}/{cluster}.sorted.bed',\n",
    "        shell=True)\n",
    "    subprocess.run(\n",
    "        f'bedtools merge -i {outdir}/{cluster}.sorted.bed > {outdir}/{cluster}.sorted.peak.bed',\n",
    "        shell=True)\n",
    "    subprocess.run(\n",
    "        f'rm -f {outdir}/{cluster}.sorted.bed {outdir}/{cluster}.peak.bed',\n",
    "        shell=True)"
   ]
  },
  {
   "cell_type": "code",
   "execution_count": 6,
   "metadata": {
    "ExecuteTime": {
     "end_time": "2019-12-12T05:23:15.996615Z",
     "start_time": "2019-12-12T05:22:34.060769Z"
    }
   },
   "outputs": [],
   "source": [
    "outdir = 'MajorType'\n",
    "\n",
    "for cluster, atac_cluster_list in major_type_to_atac.items():\n",
    "    atac_files = [str(atac_paths[c]) for c in atac_cluster_list]\n",
    "    if len(atac_files) == 0:\n",
    "        continue\n",
    "    atac_file_str = ' '.join(atac_files)\n",
    "    subprocess.run(f'cat {atac_file_str} > {outdir}/{cluster}.peak.bed',\n",
    "                   shell=True)\n",
    "    subprocess.run(\n",
    "        f'sort --parallel=20 -S 50G -k 1,1 -k2,2n {outdir}/{cluster}.peak.bed > {outdir}/{cluster}.sorted.bed',\n",
    "        shell=True)\n",
    "    subprocess.run(\n",
    "        f'bedtools merge -i {outdir}/{cluster}.sorted.bed > {outdir}/{cluster}.sorted.peak.bed',\n",
    "        shell=True)\n",
    "    subprocess.run(\n",
    "        f'rm -f {outdir}/{cluster}.sorted.bed {outdir}/{cluster}.peak.bed',\n",
    "        shell=True)"
   ]
  },
  {
   "cell_type": "code",
   "execution_count": 9,
   "metadata": {
    "ExecuteTime": {
     "end_time": "2019-12-12T05:26:44.565192Z",
     "start_time": "2019-12-12T05:24:39.193426Z"
    }
   },
   "outputs": [],
   "source": [
    "outdir = 'SubType'\n",
    "\n",
    "for cluster, atac_cluster_list in sub_type_to_atac.items():\n",
    "    cluster = cluster.replace(' ', '_')\n",
    "    atac_files = [str(atac_paths[c]) for c in atac_cluster_list]\n",
    "    if len(atac_files) == 0:\n",
    "        continue\n",
    "    atac_file_str = ' '.join(atac_files)\n",
    "    subprocess.run(f'cat {atac_file_str} > {outdir}/{cluster}.peak.bed',\n",
    "                   shell=True, check=True)\n",
    "    subprocess.run(\n",
    "        f'sort --parallel=20 -S 50G -k 1,1 -k2,2n {outdir}/{cluster}.peak.bed > {outdir}/{cluster}.sorted.bed',\n",
    "        shell=True, check=True)\n",
    "    subprocess.run(\n",
    "        f'bedtools merge -i {outdir}/{cluster}.sorted.bed > {outdir}/{cluster}.sorted.peak.bed',\n",
    "        shell=True, check=True)\n",
    "    subprocess.run(\n",
    "        f'rm -f {outdir}/{cluster}.sorted.bed {outdir}/{cluster}.peak.bed',\n",
    "        shell=True, check=True)"
   ]
  },
  {
   "cell_type": "code",
   "execution_count": null,
   "metadata": {},
   "outputs": [],
   "source": []
  },
  {
   "cell_type": "code",
   "execution_count": null,
   "metadata": {},
   "outputs": [],
   "source": []
  },
  {
   "cell_type": "code",
   "execution_count": null,
   "metadata": {},
   "outputs": [],
   "source": []
  },
  {
   "cell_type": "code",
   "execution_count": null,
   "metadata": {},
   "outputs": [],
   "source": []
  },
  {
   "cell_type": "code",
   "execution_count": null,
   "metadata": {},
   "outputs": [],
   "source": []
  },
  {
   "cell_type": "code",
   "execution_count": null,
   "metadata": {},
   "outputs": [],
   "source": []
  },
  {
   "cell_type": "code",
   "execution_count": null,
   "metadata": {},
   "outputs": [],
   "source": []
  },
  {
   "cell_type": "code",
   "execution_count": null,
   "metadata": {},
   "outputs": [],
   "source": []
  }
 ],
 "metadata": {
  "hide_input": false,
  "kernelspec": {
   "display_name": "Python 3",
   "language": "python",
   "name": "python3"
  },
  "language_info": {
   "codemirror_mode": {
    "name": "ipython",
    "version": 3
   },
   "file_extension": ".py",
   "mimetype": "text/x-python",
   "name": "python",
   "nbconvert_exporter": "python",
   "pygments_lexer": "ipython3",
   "version": "3.7.3"
  },
  "toc": {
   "base_numbering": 1,
   "nav_menu": {},
   "number_sections": true,
   "sideBar": true,
   "skip_h1_title": true,
   "title_cell": "Table of Contents",
   "title_sidebar": "Contents",
   "toc_cell": false,
   "toc_position": {},
   "toc_section_display": true,
   "toc_window_display": true
  }
 },
 "nbformat": 4,
 "nbformat_minor": 2
}
