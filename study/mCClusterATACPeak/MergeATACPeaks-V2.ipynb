{
 "cells": [
  {
   "cell_type": "code",
   "execution_count": 1,
   "metadata": {
    "ExecuteTime": {
     "end_time": "2020-02-08T01:33:28.044139Z",
     "start_time": "2020-02-08T01:33:27.674773Z"
    }
   },
   "outputs": [],
   "source": [
    "import pandas as pd\n",
    "import json\n",
    "import pybedtools\n",
    "import pathlib\n",
    "import subprocess"
   ]
  },
  {
   "cell_type": "code",
   "execution_count": 2,
   "metadata": {
    "ExecuteTime": {
     "end_time": "2020-02-08T01:33:28.844717Z",
     "start_time": "2020-02-08T01:33:28.488963Z"
    }
   },
   "outputs": [
    {
     "name": "stderr",
     "output_type": "stream",
     "text": [
      "/home/hanliu/miniconda3/envs/clustering/lib/python3.7/site-packages/IPython/core/interactiveshell.py:3326: FutureWarning: The read_msgpack is deprecated and will be removed in a future version.\n",
      "It is recommended to use pyarrow for on-the-wire transmission of pandas objects.\n",
      "  exec(code_obj, self.user_global_ns, self.user_ns)\n"
     ]
    }
   ],
   "source": [
    "cell_tidy_data = pd.read_msgpack(\n",
    "    '/home/hanliu/project/mouse_rostral_brain/study/ClusteringSummary/Summary/TotalClusteringResults.msg'\n",
    ")"
   ]
  },
  {
   "cell_type": "code",
   "execution_count": 3,
   "metadata": {
    "ExecuteTime": {
     "end_time": "2020-02-08T01:33:41.884095Z",
     "start_time": "2020-02-08T01:33:41.880379Z"
    }
   },
   "outputs": [],
   "source": [
    "with open(\n",
    "        '/home/hanliu/project/mouse_rostral_brain/metadata/label_transfer_to_atac_new_version/mC-ATAC.CellClass.json'\n",
    ") as f:\n",
    "    cell_class_to_atac = json.load(f)\n",
    "\n",
    "with open(\n",
    "        '/home/hanliu/project/mouse_rostral_brain/metadata/label_transfer_to_atac_new_version/mC-ATAC.MajorType.json'\n",
    ") as f:\n",
    "    major_type_to_atac = json.load(f)\n",
    "\n",
    "with open(\n",
    "        '/home/hanliu/project/mouse_rostral_brain/metadata/label_transfer_to_atac_new_version/mC-ATAC.SubType.json'\n",
    ") as f:\n",
    "    sub_type_to_atac = json.load(f)"
   ]
  },
  {
   "cell_type": "code",
   "execution_count": 12,
   "metadata": {
    "ExecuteTime": {
     "end_time": "2020-02-08T01:42:10.713366Z",
     "start_time": "2020-02-08T01:42:10.709415Z"
    }
   },
   "outputs": [],
   "source": [
    "atac_peak_dir = pathlib.Path('/home/hanliu/project/mouse_rostral_brain/ATAC/New/SubType/bed/')\n",
    "atac_paths = {'.'.join(path.name.split('.')[:3]): path for path in atac_peak_dir.glob('*bed')}"
   ]
  },
  {
   "cell_type": "code",
   "execution_count": 15,
   "metadata": {
    "ExecuteTime": {
     "end_time": "2020-02-08T01:46:34.757351Z",
     "start_time": "2020-02-08T01:45:16.878194Z"
    }
   },
   "outputs": [],
   "source": [
    "outdir = 'v2/CellClass/'\n",
    "pathlib.Path(outdir).mkdir(exist_ok=True)\n",
    "\n",
    "for cluster, atac_cluster_list in cell_class_to_atac.items():\n",
    "    atac_files = [str(atac_paths[c]) for c in atac_cluster_list]\n",
    "    atac_file_str = ' '.join(atac_files)\n",
    "    subprocess.run(f'cat {atac_file_str} > {outdir}/{cluster}.peak.bed',\n",
    "                   shell=True)\n",
    "    subprocess.run(\n",
    "        f'sort --parallel=20 -S 50G -k 1,1 -k2,2n {outdir}/{cluster}.peak.bed > {outdir}/{cluster}.sorted.bed',\n",
    "        shell=True)\n",
    "    subprocess.run(\n",
    "        f'bedtools merge -i {outdir}/{cluster}.sorted.bed > {outdir}/{cluster}.sorted.peak.bed',\n",
    "        shell=True)\n",
    "    subprocess.run(\n",
    "        f'rm -f {outdir}/{cluster}.sorted.bed {outdir}/{cluster}.peak.bed',\n",
    "        shell=True)"
   ]
  },
  {
   "cell_type": "code",
   "execution_count": 16,
   "metadata": {
    "ExecuteTime": {
     "end_time": "2020-02-08T01:48:15.101937Z",
     "start_time": "2020-02-08T01:46:34.759408Z"
    }
   },
   "outputs": [],
   "source": [
    "outdir = 'v2/MajorType/'\n",
    "pathlib.Path(outdir).mkdir(exist_ok=True)\n",
    "\n",
    "for cluster, atac_cluster_list in major_type_to_atac.items():\n",
    "    atac_files = [str(atac_paths[c]) for c in atac_cluster_list]\n",
    "    if len(atac_files) == 0:\n",
    "        continue\n",
    "    atac_file_str = ' '.join(atac_files)\n",
    "    subprocess.run(f'cat {atac_file_str} > {outdir}/{cluster}.peak.bed',\n",
    "                   shell=True)\n",
    "    subprocess.run(\n",
    "        f'sort --parallel=20 -S 50G -k 1,1 -k2,2n {outdir}/{cluster}.peak.bed > {outdir}/{cluster}.sorted.bed',\n",
    "        shell=True)\n",
    "    subprocess.run(\n",
    "        f'bedtools merge -i {outdir}/{cluster}.sorted.bed > {outdir}/{cluster}.sorted.peak.bed',\n",
    "        shell=True)\n",
    "    subprocess.run(\n",
    "        f'rm -f {outdir}/{cluster}.sorted.bed {outdir}/{cluster}.peak.bed',\n",
    "        shell=True)"
   ]
  },
  {
   "cell_type": "code",
   "execution_count": 17,
   "metadata": {
    "ExecuteTime": {
     "end_time": "2020-02-08T01:52:11.583252Z",
     "start_time": "2020-02-08T01:48:15.104449Z"
    }
   },
   "outputs": [],
   "source": [
    "outdir = 'v2/SubType/'\n",
    "pathlib.Path(outdir).mkdir(exist_ok=True)\n",
    "\n",
    "for cluster, atac_cluster_list in sub_type_to_atac.items():\n",
    "    cluster = cluster.replace(' ', '_')\n",
    "    atac_files = [str(atac_paths[c]) for c in atac_cluster_list]\n",
    "    if len(atac_files) == 0:\n",
    "        continue\n",
    "    atac_file_str = ' '.join(atac_files)\n",
    "    subprocess.run(f'cat {atac_file_str} > {outdir}/{cluster}.peak.bed',\n",
    "                   shell=True, check=True)\n",
    "    subprocess.run(\n",
    "        f'sort --parallel=20 -S 50G -k 1,1 -k2,2n {outdir}/{cluster}.peak.bed > {outdir}/{cluster}.sorted.bed',\n",
    "        shell=True, check=True)\n",
    "    subprocess.run(\n",
    "        f'bedtools merge -i {outdir}/{cluster}.sorted.bed > {outdir}/{cluster}.sorted.peak.bed',\n",
    "        shell=True, check=True)\n",
    "    subprocess.run(\n",
    "        f'rm -f {outdir}/{cluster}.sorted.bed {outdir}/{cluster}.peak.bed',\n",
    "        shell=True, check=True)"
   ]
  },
  {
   "cell_type": "code",
   "execution_count": null,
   "metadata": {},
   "outputs": [],
   "source": []
  },
  {
   "cell_type": "code",
   "execution_count": null,
   "metadata": {},
   "outputs": [],
   "source": []
  },
  {
   "cell_type": "code",
   "execution_count": null,
   "metadata": {},
   "outputs": [],
   "source": []
  },
  {
   "cell_type": "code",
   "execution_count": null,
   "metadata": {},
   "outputs": [],
   "source": []
  },
  {
   "cell_type": "code",
   "execution_count": null,
   "metadata": {},
   "outputs": [],
   "source": []
  },
  {
   "cell_type": "code",
   "execution_count": null,
   "metadata": {},
   "outputs": [],
   "source": []
  },
  {
   "cell_type": "code",
   "execution_count": null,
   "metadata": {},
   "outputs": [],
   "source": []
  },
  {
   "cell_type": "code",
   "execution_count": null,
   "metadata": {},
   "outputs": [],
   "source": []
  }
 ],
 "metadata": {
  "hide_input": false,
  "kernelspec": {
   "display_name": "Python 3",
   "language": "python",
   "name": "python3"
  },
  "language_info": {
   "codemirror_mode": {
    "name": "ipython",
    "version": 3
   },
   "file_extension": ".py",
   "mimetype": "text/x-python",
   "name": "python",
   "nbconvert_exporter": "python",
   "pygments_lexer": "ipython3",
   "version": "3.7.3"
  },
  "toc": {
   "base_numbering": 1,
   "nav_menu": {},
   "number_sections": true,
   "sideBar": true,
   "skip_h1_title": true,
   "title_cell": "Table of Contents",
   "title_sidebar": "Contents",
   "toc_cell": false,
   "toc_position": {},
   "toc_section_display": true,
   "toc_window_display": true
  }
 },
 "nbformat": 4,
 "nbformat_minor": 2
}
