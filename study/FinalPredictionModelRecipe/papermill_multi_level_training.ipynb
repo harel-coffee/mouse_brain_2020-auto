{
 "cells": [
  {
   "cell_type": "code",
   "execution_count": 1,
   "metadata": {
    "ExecuteTime": {
     "end_time": "2019-12-10T04:21:36.412297Z",
     "start_time": "2019-12-10T04:21:35.855627Z"
    }
   },
   "outputs": [],
   "source": [
    "from papermill import execute_notebook\n",
    "import pandas as pd\n",
    "import pathlib\n",
    "import anndata"
   ]
  },
  {
   "cell_type": "markdown",
   "metadata": {},
   "source": [
    "## Parameters"
   ]
  },
  {
   "cell_type": "code",
   "execution_count": 2,
   "metadata": {
    "ExecuteTime": {
     "end_time": "2019-12-10T04:21:36.420655Z",
     "start_time": "2019-12-10T04:21:36.414142Z"
    }
   },
   "outputs": [],
   "source": [
    "cell_tidy_data_path = '/home/hanliu/project/mouse_rostral_brain/study/ClusteringSummary/Summary/TotalClusteringResults.msg'\n",
    "template_dir_path = '/home/hanliu/project/mouse_rostral_brain/study/FinalPredictionModelRecipe/'\n",
    "output_dir = '/home/hanliu/project/mouse_rostral_brain/study/FinalPredictionModelRecipe/NeuronPrediction/'\n",
    "\n",
    "cluster_levels = ['CellClass', 'MajorType', 'SubType']\n",
    "downsample_large_cluster_to = 5000\n",
    "\n",
    "# prepare features\n",
    "mcds_path_list = list(\n",
    "    pathlib.Path('/home/hanliu/project/mouse_rostral_brain/dataset/').glob(\n",
    "        '*mcds'))\n",
    "mcds_path_list = [str(i) for i in mcds_path_list]\n",
    "\n",
    "exclude_chromosome = ['chrM', 'chrY']\n",
    "exclude_cluster_str = ['Outlier', 'NonN']\n",
    "black_list_path = '/home/hanliu/project/mouse_rostral_brain/misc/mm10-blacklist.v2.bed.gz'\n",
    "clustering_feature = 'chrom100k'\n",
    "min_feature_cov = 500\n",
    "max_feature_cov = 3000\n",
    "mc_type = 'CHN'\n",
    "\n",
    "# pairwise marker identify\n",
    "min_cluster_cell_number = 10\n",
    "adj_p_cutoff = 1e-3\n",
    "log2fc_cutoff = 0.5\n",
    "top_n = 25\n",
    "marker_cpu = 10  # memory intensive but fast, don't use too much\n",
    "\n",
    "# RFECV and final model\n",
    "test_portion = 0.1\n",
    "random_seed = 0\n",
    "n_estimators = 100\n",
    "n_estimators_final = 500\n",
    "training_cpu = 30\n",
    "cv_splits = 5\n",
    "cluster_order_path = None"
   ]
  },
  {
   "cell_type": "code",
   "execution_count": 3,
   "metadata": {
    "ExecuteTime": {
     "end_time": "2019-12-10T04:21:36.424395Z",
     "start_time": "2019-12-10T04:21:36.422066Z"
    }
   },
   "outputs": [],
   "source": [
    "template_dir = pathlib.Path(template_dir_path)\n",
    "output_dir = pathlib.Path(output_dir)\n",
    "output_dir.mkdir(exist_ok=True)"
   ]
  },
  {
   "cell_type": "markdown",
   "metadata": {},
   "source": [
    "## Load tidy data"
   ]
  },
  {
   "cell_type": "code",
   "execution_count": 4,
   "metadata": {
    "ExecuteTime": {
     "end_time": "2019-12-10T04:21:36.804960Z",
     "start_time": "2019-12-10T04:21:36.425677Z"
    }
   },
   "outputs": [
    {
     "name": "stderr",
     "output_type": "stream",
     "text": [
      "/home/hanliu/miniconda3/envs/clustering/lib/python3.7/site-packages/IPython/core/interactiveshell.py:3326: FutureWarning: The read_msgpack is deprecated and will be removed in a future version.\n",
      "It is recommended to use pyarrow for on-the-wire transmission of pandas objects.\n",
      "  exec(code_obj, self.user_global_ns, self.user_ns)\n"
     ]
    }
   ],
   "source": [
    "cell_tidy_data = pd.read_msgpack(cell_tidy_data_path)\n",
    "cluster_table = cell_tidy_data[cluster_levels].copy()"
   ]
  },
  {
   "cell_type": "code",
   "execution_count": 5,
   "metadata": {
    "ExecuteTime": {
     "end_time": "2019-12-10T04:21:37.183769Z",
     "start_time": "2019-12-10T04:21:36.806465Z"
    }
   },
   "outputs": [],
   "source": [
    "use_cells = cluster_table.applymap(lambda i: sum(\n",
    "    [j in i for j in exclude_cluster_str])).sum(axis=1) == 0\n",
    "\n",
    "cell_tidy_data = cell_tidy_data[use_cells].copy()\n",
    "cluster_table = cluster_table[use_cells].copy()"
   ]
  },
  {
   "cell_type": "markdown",
   "metadata": {},
   "source": [
    "## Train one level"
   ]
  },
  {
   "cell_type": "code",
   "execution_count": 6,
   "metadata": {
    "ExecuteTime": {
     "end_time": "2019-12-10T04:21:37.191394Z",
     "start_time": "2019-12-10T04:21:37.185835Z"
    }
   },
   "outputs": [],
   "source": [
    "def one_level_training(cell_tidy_data_path, cluster_col, output_dir):\n",
    "    # prepare_cell_feature_matrix\n",
    "    params = dict(cell_tidy_data_path=cell_tidy_data_path,\n",
    "                  cluster_col=cluster_col,\n",
    "                  dask_distribute=True,\n",
    "                  in_memory=False,\n",
    "                  mcds_path_list=mcds_path_list,\n",
    "                  exclude_chromosome=exclude_chromosome,\n",
    "                  black_list_path=black_list_path,\n",
    "                  clustering_feature=clustering_feature,\n",
    "                  min_feature_cov=min_feature_cov,\n",
    "                  max_feature_cov=max_feature_cov,\n",
    "                  mc_type=mc_type)\n",
    "\n",
    "    input_path = template_dir / 'prepare_cell_feature_matrix.ipynb'\n",
    "    output_path = output_dir / 'prepare_cell_feature_matrix.ipynb'\n",
    "\n",
    "    execute_notebook(str(input_path),\n",
    "                     str(output_path),\n",
    "                     parameters=params,\n",
    "                     engine_name=None,\n",
    "                     prepare_only=False,\n",
    "                     kernel_name=None,\n",
    "                     progress_bar=True,\n",
    "                     log_output=False,\n",
    "                     start_timeout=60,\n",
    "                     report_mode=False,\n",
    "                     cwd=str(output_dir))\n",
    "\n",
    "    # pairwise_marker_selection.ipynb\n",
    "    params = dict(cluster_col=cluster_col,\n",
    "                  min_cluster_cell_number=min_cluster_cell_number,\n",
    "                  exclude_str=exclude_cluster_str,\n",
    "                  adj_p_cutoff=adj_p_cutoff,\n",
    "                  log2fc_cutoff=log2fc_cutoff,\n",
    "                  top_n=top_n,\n",
    "                  cpu=marker_cpu)\n",
    "\n",
    "    input_path = template_dir / 'pairwise_marker_selection.ipynb'\n",
    "    output_path = output_dir / 'pairwise_marker_selection.ipynb'\n",
    "\n",
    "    execute_notebook(str(input_path),\n",
    "                     str(output_path),\n",
    "                     parameters=params,\n",
    "                     engine_name=None,\n",
    "                     prepare_only=False,\n",
    "                     kernel_name=None,\n",
    "                     progress_bar=True,\n",
    "                     log_output=False,\n",
    "                     start_timeout=60,\n",
    "                     report_mode=False,\n",
    "                     cwd=str(output_dir))\n",
    "    \n",
    "    adata = anndata.read_h5ad(output_dir / 'Markers/cluster_markers.h5ad')\n",
    "    if adata.shape[1] == 0:\n",
    "        with open(output_dir / 'finish_flag', 'w') as f:\n",
    "            f.write('OMG')\n",
    "        print('No marker found, skip model training')\n",
    "        return\n",
    "\n",
    "    # RFECV\n",
    "    params = dict(cluster_col=cluster_col,\n",
    "                  test_portion=test_portion,\n",
    "                  random_seed=random_seed,\n",
    "                  n_estimators=n_estimators,\n",
    "                  n_estimators_final=n_estimators_final,\n",
    "                  n_jobs=training_cpu,\n",
    "                  n_splits=cv_splits,\n",
    "                  cluster_order_path=cluster_order_path)\n",
    "\n",
    "    input_path = template_dir / 'RFECV.ipynb'\n",
    "    output_path = output_dir / 'RFECV.ipynb'\n",
    "\n",
    "    execute_notebook(str(input_path),\n",
    "                     str(output_path),\n",
    "                     parameters=params,\n",
    "                     engine_name=None,\n",
    "                     prepare_only=False,\n",
    "                     kernel_name=None,\n",
    "                     progress_bar=True,\n",
    "                     log_output=False,\n",
    "                     start_timeout=60,\n",
    "                     report_mode=False,\n",
    "                     cwd=str(output_dir))\n",
    "    return"
   ]
  },
  {
   "cell_type": "markdown",
   "metadata": {},
   "source": [
    "## First level"
   ]
  },
  {
   "cell_type": "code",
   "execution_count": 7,
   "metadata": {
    "ExecuteTime": {
     "end_time": "2019-12-10T04:21:37.195364Z",
     "start_time": "2019-12-10T04:21:37.192772Z"
    }
   },
   "outputs": [],
   "source": [
    "def downsample(sub_df):\n",
    "    if sub_df.shape[0] > downsample_large_cluster_to:\n",
    "        sub_df = sub_df.sample(downsample_large_cluster_to,\n",
    "                               random_state=random_seed)\n",
    "    return pd.Series(sub_df.index)"
   ]
  },
  {
   "cell_type": "code",
   "execution_count": 8,
   "metadata": {
    "ExecuteTime": {
     "end_time": "2019-12-10T04:21:37.901891Z",
     "start_time": "2019-12-10T04:21:37.196568Z"
    }
   },
   "outputs": [
    {
     "name": "stderr",
     "output_type": "stream",
     "text": [
      "/home/hanliu/miniconda3/envs/clustering/lib/python3.7/site-packages/ipykernel_launcher.py:9: FutureWarning: to_msgpack is deprecated and will be removed in a future version.\n",
      "It is recommended to use pyarrow for on-the-wire transmission of pandas objects.\n",
      "  if __name__ == '__main__':\n"
     ]
    }
   ],
   "source": [
    "cluster_col = cluster_levels[0]\n",
    "\n",
    "# first level\n",
    "total_cells = pd.Index(\n",
    "    cluster_table.groupby(cluster_col).apply(downsample).values.flat)\n",
    "this_output_dir = output_dir / cluster_col\n",
    "this_output_dir.mkdir(exist_ok=True)\n",
    "cell_tidy_data.reindex(total_cells).to_msgpack(this_output_dir /\n",
    "                                               'cell_tidy_data.msg')\n",
    "\n",
    "cell_tidy_data_path = str(this_output_dir / 'cell_tidy_data.msg')"
   ]
  },
  {
   "cell_type": "code",
   "execution_count": 9,
   "metadata": {
    "deletable": false,
    "editable": false,
    "run_control": {
     "frozen": true
    }
   },
   "outputs": [],
   "source": [
    "if not (this_output_dir / 'finish_flag').exists():\n",
    "    one_level_training(cell_tidy_data_path, cluster_col, this_output_dir)"
   ]
  },
  {
   "cell_type": "markdown",
   "metadata": {},
   "source": [
    "## Other levels"
   ]
  },
  {
   "cell_type": "code",
   "execution_count": 9,
   "metadata": {
    "ExecuteTime": {
     "end_time": "2019-12-10T04:49:30.266767Z",
     "start_time": "2019-12-10T04:21:37.903695Z"
    }
   },
   "outputs": [
    {
     "name": "stderr",
     "output_type": "stream",
     "text": [
      "/home/hanliu/miniconda3/envs/clustering/lib/python3.7/site-packages/ipykernel_launcher.py:11: FutureWarning: to_msgpack is deprecated and will be removed in a future version.\n",
      "It is recommended to use pyarrow for on-the-wire transmission of pandas objects.\n",
      "  # This is added back by InteractiveShellApp.init_path()\n"
     ]
    },
    {
     "name": "stdout",
     "output_type": "stream",
     "text": [
      "MajorType CA1_MajorType 1\n",
      "MajorType CA3_MajorType 1\n",
      "MajorType CA3-St18_MajorType 1\n",
      "MajorType CGE-Lamp5_MajorType 1\n",
      "MajorType CGE-Vip_MajorType 1\n",
      "MajorType CLA_MajorType 1\n",
      "MajorType CT-L6_MajorType 1\n",
      "MajorType Chd7_MajorType 1\n",
      "MajorType D1L-Fstl4_MajorType 1\n",
      "MajorType D1L-PAL_MajorType 1\n",
      "MajorType DG_MajorType 1\n",
      "MajorType DG-po_MajorType 1\n",
      "MajorType EP_MajorType 1\n",
      "MajorType Foxp2_MajorType 1\n",
      "MajorType Gfra1_MajorType 1\n",
      "MajorType IG-CA2_MajorType 1\n",
      "MajorType IT-L23_MajorType 1\n",
      "MajorType IT-L4_MajorType 1\n",
      "MajorType IT-L5_MajorType 1\n",
      "MajorType IT-L6_MajorType 1\n",
      "MajorType L6b_MajorType 1\n",
      "MajorType LSX-Inh_MajorType 1\n",
      "MajorType MGE-Pvalb_MajorType 1\n",
      "MajorType MGE-Sst_MajorType 1\n",
      "MajorType MSN-D1_MajorType 1\n",
      "MajorType MSN-D2_MajorType 1\n",
      "MajorType NP-L6_MajorType 1\n",
      "MajorType OLF_MajorType 1\n",
      "MajorType OLF-Exc_MajorType 1\n",
      "MajorType PAL-Inh_MajorType 1\n",
      "MajorType PT-L5_MajorType 1\n",
      "MajorType Unc5c_MajorType 1\n",
      "SubType CA1_SubType 5\n"
     ]
    },
    {
     "data": {
      "application/vnd.jupyter.widget-view+json": {
       "model_id": "eca150394c824b8d862f11cc94ceb0d7",
       "version_major": 2,
       "version_minor": 0
      },
      "text/plain": [
       "HBox(children=(IntProgress(value=0, max=52), HTML(value='')))"
      ]
     },
     "metadata": {},
     "output_type": "display_data"
    },
    {
     "name": "stdout",
     "output_type": "stream",
     "text": [
      "\n",
      "SubType CA3_SubType 2\n"
     ]
    },
    {
     "data": {
      "application/vnd.jupyter.widget-view+json": {
       "model_id": "913aed37e6ab4cacbcc500a6118ba199",
       "version_major": 2,
       "version_minor": 0
      },
      "text/plain": [
       "HBox(children=(IntProgress(value=0, max=52), HTML(value='')))"
      ]
     },
     "metadata": {},
     "output_type": "display_data"
    },
    {
     "name": "stdout",
     "output_type": "stream",
     "text": [
      "\n",
      "SubType CA3-St18_SubType 3\n"
     ]
    },
    {
     "data": {
      "application/vnd.jupyter.widget-view+json": {
       "model_id": "d5ebfd1fcf8e4761baa8333c457bc29b",
       "version_major": 2,
       "version_minor": 0
      },
      "text/plain": [
       "HBox(children=(IntProgress(value=0, max=52), HTML(value='')))"
      ]
     },
     "metadata": {},
     "output_type": "display_data"
    },
    {
     "name": "stdout",
     "output_type": "stream",
     "text": [
      "\n",
      "SubType CGE-Lamp5_SubType 5\n"
     ]
    },
    {
     "data": {
      "application/vnd.jupyter.widget-view+json": {
       "model_id": "dadf0ef5882146d98b675f0fbf6902f4",
       "version_major": 2,
       "version_minor": 0
      },
      "text/plain": [
       "HBox(children=(IntProgress(value=0, max=52), HTML(value='')))"
      ]
     },
     "metadata": {},
     "output_type": "display_data"
    },
    {
     "name": "stdout",
     "output_type": "stream",
     "text": [
      "\n",
      "SubType CGE-Vip_SubType 8\n"
     ]
    },
    {
     "data": {
      "application/vnd.jupyter.widget-view+json": {
       "model_id": "cdf5524c03c242509c4c45d170b3ebaf",
       "version_major": 2,
       "version_minor": 0
      },
      "text/plain": [
       "HBox(children=(IntProgress(value=0, max=52), HTML(value='')))"
      ]
     },
     "metadata": {},
     "output_type": "display_data"
    },
    {
     "name": "stdout",
     "output_type": "stream",
     "text": [
      "\n",
      "SubType CLA_SubType 3\n"
     ]
    },
    {
     "data": {
      "application/vnd.jupyter.widget-view+json": {
       "model_id": "2554df92cac544958cc41adfc6ccfaf8",
       "version_major": 2,
       "version_minor": 0
      },
      "text/plain": [
       "HBox(children=(IntProgress(value=0, max=52), HTML(value='')))"
      ]
     },
     "metadata": {},
     "output_type": "display_data"
    },
    {
     "name": "stdout",
     "output_type": "stream",
     "text": [
      "\n",
      "SubType CT-L6_SubType 4\n"
     ]
    },
    {
     "data": {
      "application/vnd.jupyter.widget-view+json": {
       "model_id": "d07a10630ffc48a88d6769e60de591f7",
       "version_major": 2,
       "version_minor": 0
      },
      "text/plain": [
       "HBox(children=(IntProgress(value=0, max=52), HTML(value='')))"
      ]
     },
     "metadata": {},
     "output_type": "display_data"
    },
    {
     "name": "stdout",
     "output_type": "stream",
     "text": [
      "\n",
      "SubType Chd7_SubType 3\n"
     ]
    },
    {
     "data": {
      "application/vnd.jupyter.widget-view+json": {
       "model_id": "075327e1cbb7498e9fdd56e40c4ebd53",
       "version_major": 2,
       "version_minor": 0
      },
      "text/plain": [
       "HBox(children=(IntProgress(value=0, max=52), HTML(value='')))"
      ]
     },
     "metadata": {},
     "output_type": "display_data"
    },
    {
     "name": "stdout",
     "output_type": "stream",
     "text": [
      "\n",
      "SubType D1L-Fstl4_SubType 5\n"
     ]
    },
    {
     "data": {
      "application/vnd.jupyter.widget-view+json": {
       "model_id": "42876706d6f443fab4d8f00aea9d3801",
       "version_major": 2,
       "version_minor": 0
      },
      "text/plain": [
       "HBox(children=(IntProgress(value=0, max=52), HTML(value='')))"
      ]
     },
     "metadata": {},
     "output_type": "display_data"
    },
    {
     "name": "stdout",
     "output_type": "stream",
     "text": [
      "\n",
      "SubType D1L-PAL_SubType 2\n"
     ]
    },
    {
     "data": {
      "application/vnd.jupyter.widget-view+json": {
       "model_id": "2ed7f39fab114514b2c7393d9e4e89bf",
       "version_major": 2,
       "version_minor": 0
      },
      "text/plain": [
       "HBox(children=(IntProgress(value=0, max=52), HTML(value='')))"
      ]
     },
     "metadata": {},
     "output_type": "display_data"
    },
    {
     "name": "stdout",
     "output_type": "stream",
     "text": [
      "\n",
      "SubType DG_SubType 1\n",
      "SubType DG-po_SubType 3\n"
     ]
    },
    {
     "data": {
      "application/vnd.jupyter.widget-view+json": {
       "model_id": "3cbf480df0ca49a98126ae4c8a1f894a",
       "version_major": 2,
       "version_minor": 0
      },
      "text/plain": [
       "HBox(children=(IntProgress(value=0, max=52), HTML(value='')))"
      ]
     },
     "metadata": {},
     "output_type": "display_data"
    },
    {
     "name": "stdout",
     "output_type": "stream",
     "text": [
      "\n",
      "SubType EP_SubType 3\n"
     ]
    },
    {
     "data": {
      "application/vnd.jupyter.widget-view+json": {
       "model_id": "957889e7ece34e14876e5dcc89b197fb",
       "version_major": 2,
       "version_minor": 0
      },
      "text/plain": [
       "HBox(children=(IntProgress(value=0, max=52), HTML(value='')))"
      ]
     },
     "metadata": {},
     "output_type": "display_data"
    },
    {
     "name": "stdout",
     "output_type": "stream",
     "text": [
      "\n",
      "SubType Foxp2_SubType 4\n"
     ]
    },
    {
     "data": {
      "application/vnd.jupyter.widget-view+json": {
       "model_id": "9126ed8f793246b19103d1ceeb1d9e45",
       "version_major": 2,
       "version_minor": 0
      },
      "text/plain": [
       "HBox(children=(IntProgress(value=0, max=52), HTML(value='')))"
      ]
     },
     "metadata": {},
     "output_type": "display_data"
    },
    {
     "name": "stdout",
     "output_type": "stream",
     "text": [
      "\n",
      "SubType Gfra1_SubType 1\n",
      "SubType IG-CA2_SubType 3\n"
     ]
    },
    {
     "data": {
      "application/vnd.jupyter.widget-view+json": {
       "model_id": "5161d628f2b8484cb9156df067eafac8",
       "version_major": 2,
       "version_minor": 0
      },
      "text/plain": [
       "HBox(children=(IntProgress(value=0, max=52), HTML(value='')))"
      ]
     },
     "metadata": {},
     "output_type": "display_data"
    },
    {
     "name": "stdout",
     "output_type": "stream",
     "text": [
      "\n",
      "SubType IT-L23_SubType 4\n"
     ]
    },
    {
     "data": {
      "application/vnd.jupyter.widget-view+json": {
       "model_id": "82a3d9f3be5b4e6baade40cfa9e0b4c9",
       "version_major": 2,
       "version_minor": 0
      },
      "text/plain": [
       "HBox(children=(IntProgress(value=0, max=52), HTML(value='')))"
      ]
     },
     "metadata": {},
     "output_type": "display_data"
    },
    {
     "name": "stdout",
     "output_type": "stream",
     "text": [
      "\n",
      "SubType IT-L4_SubType 2\n"
     ]
    },
    {
     "data": {
      "application/vnd.jupyter.widget-view+json": {
       "model_id": "5027d4d0284f4186b8789122aa11db31",
       "version_major": 2,
       "version_minor": 0
      },
      "text/plain": [
       "HBox(children=(IntProgress(value=0, max=52), HTML(value='')))"
      ]
     },
     "metadata": {},
     "output_type": "display_data"
    },
    {
     "name": "stdout",
     "output_type": "stream",
     "text": [
      "\n",
      "SubType IT-L5_SubType 3\n"
     ]
    },
    {
     "data": {
      "application/vnd.jupyter.widget-view+json": {
       "model_id": "4639a11af3d44fde91392dbce279c13b",
       "version_major": 2,
       "version_minor": 0
      },
      "text/plain": [
       "HBox(children=(IntProgress(value=0, max=52), HTML(value='')))"
      ]
     },
     "metadata": {},
     "output_type": "display_data"
    },
    {
     "name": "stdout",
     "output_type": "stream",
     "text": [
      "\n",
      "SubType IT-L6_SubType 4\n"
     ]
    },
    {
     "data": {
      "application/vnd.jupyter.widget-view+json": {
       "model_id": "9fae6f19e51f4be99cae465c9af62b5b",
       "version_major": 2,
       "version_minor": 0
      },
      "text/plain": [
       "HBox(children=(IntProgress(value=0, max=52), HTML(value='')))"
      ]
     },
     "metadata": {},
     "output_type": "display_data"
    },
    {
     "name": "stdout",
     "output_type": "stream",
     "text": [
      "\n",
      "SubType L6b_SubType 4\n"
     ]
    },
    {
     "data": {
      "application/vnd.jupyter.widget-view+json": {
       "model_id": "80a29566415544ae950b21244a8279af",
       "version_major": 2,
       "version_minor": 0
      },
      "text/plain": [
       "HBox(children=(IntProgress(value=0, max=52), HTML(value='')))"
      ]
     },
     "metadata": {},
     "output_type": "display_data"
    },
    {
     "name": "stdout",
     "output_type": "stream",
     "text": [
      "\n",
      "SubType LSX-Inh_SubType 7\n"
     ]
    },
    {
     "data": {
      "application/vnd.jupyter.widget-view+json": {
       "model_id": "7dff38ec6d8c41618682fb4dd15237db",
       "version_major": 2,
       "version_minor": 0
      },
      "text/plain": [
       "HBox(children=(IntProgress(value=0, max=52), HTML(value='')))"
      ]
     },
     "metadata": {},
     "output_type": "display_data"
    },
    {
     "name": "stdout",
     "output_type": "stream",
     "text": [
      "\n",
      "SubType MGE-Pvalb_SubType 7\n"
     ]
    },
    {
     "data": {
      "application/vnd.jupyter.widget-view+json": {
       "model_id": "00cc990c36db4dea8a03063d3f50e425",
       "version_major": 2,
       "version_minor": 0
      },
      "text/plain": [
       "HBox(children=(IntProgress(value=0, max=52), HTML(value='')))"
      ]
     },
     "metadata": {},
     "output_type": "display_data"
    },
    {
     "name": "stdout",
     "output_type": "stream",
     "text": [
      "\n",
      "SubType MGE-Sst_SubType 11\n"
     ]
    },
    {
     "data": {
      "application/vnd.jupyter.widget-view+json": {
       "model_id": "86000363fbbe45b5bc9fd84c79f467a7",
       "version_major": 2,
       "version_minor": 0
      },
      "text/plain": [
       "HBox(children=(IntProgress(value=0, max=52), HTML(value='')))"
      ]
     },
     "metadata": {},
     "output_type": "display_data"
    },
    {
     "name": "stdout",
     "output_type": "stream",
     "text": [
      "\n",
      "SubType MSN-D1_SubType 4\n"
     ]
    },
    {
     "data": {
      "application/vnd.jupyter.widget-view+json": {
       "model_id": "d3d88964b7114385bf0b560648de4f2e",
       "version_major": 2,
       "version_minor": 0
      },
      "text/plain": [
       "HBox(children=(IntProgress(value=0, max=52), HTML(value='')))"
      ]
     },
     "metadata": {},
     "output_type": "display_data"
    },
    {
     "name": "stdout",
     "output_type": "stream",
     "text": [
      "\n",
      "SubType MSN-D2_SubType 4\n"
     ]
    },
    {
     "data": {
      "application/vnd.jupyter.widget-view+json": {
       "model_id": "ed0ddc69ef1f4dfaae190acb371556aa",
       "version_major": 2,
       "version_minor": 0
      },
      "text/plain": [
       "HBox(children=(IntProgress(value=0, max=52), HTML(value='')))"
      ]
     },
     "metadata": {},
     "output_type": "display_data"
    },
    {
     "name": "stdout",
     "output_type": "stream",
     "text": [
      "\n",
      "SubType NP-L6_SubType 6\n"
     ]
    },
    {
     "data": {
      "application/vnd.jupyter.widget-view+json": {
       "model_id": "7d1ce814a3ba450384ab5aac345715e3",
       "version_major": 2,
       "version_minor": 0
      },
      "text/plain": [
       "HBox(children=(IntProgress(value=0, max=52), HTML(value='')))"
      ]
     },
     "metadata": {},
     "output_type": "display_data"
    },
    {
     "name": "stdout",
     "output_type": "stream",
     "text": [
      "\n",
      "SubType OLF_SubType 6\n"
     ]
    },
    {
     "data": {
      "application/vnd.jupyter.widget-view+json": {
       "model_id": "b433e3a5adfb41438a82ec1599c27902",
       "version_major": 2,
       "version_minor": 0
      },
      "text/plain": [
       "HBox(children=(IntProgress(value=0, max=52), HTML(value='')))"
      ]
     },
     "metadata": {},
     "output_type": "display_data"
    },
    {
     "name": "stdout",
     "output_type": "stream",
     "text": [
      "\n",
      "SubType OLF-Exc_SubType 8\n"
     ]
    },
    {
     "data": {
      "application/vnd.jupyter.widget-view+json": {
       "model_id": "1e776e9ff89c4abbb173c960dc8eb7e9",
       "version_major": 2,
       "version_minor": 0
      },
      "text/plain": [
       "HBox(children=(IntProgress(value=0, max=52), HTML(value='')))"
      ]
     },
     "metadata": {},
     "output_type": "display_data"
    },
    {
     "name": "stdout",
     "output_type": "stream",
     "text": [
      "\n",
      "SubType PAL-Inh_SubType 10\n"
     ]
    },
    {
     "data": {
      "application/vnd.jupyter.widget-view+json": {
       "model_id": "ddf8afb5ac864fbd92a309d1197f110d",
       "version_major": 2,
       "version_minor": 0
      },
      "text/plain": [
       "HBox(children=(IntProgress(value=0, max=52), HTML(value='')))"
      ]
     },
     "metadata": {},
     "output_type": "display_data"
    },
    {
     "name": "stdout",
     "output_type": "stream",
     "text": [
      "\n",
      "SubType PT-L5_SubType 9\n"
     ]
    },
    {
     "data": {
      "application/vnd.jupyter.widget-view+json": {
       "model_id": "5c04e84da1b44405bd49f166f6dd539e",
       "version_major": 2,
       "version_minor": 0
      },
      "text/plain": [
       "HBox(children=(IntProgress(value=0, max=52), HTML(value='')))"
      ]
     },
     "metadata": {},
     "output_type": "display_data"
    },
    {
     "name": "stdout",
     "output_type": "stream",
     "text": [
      "\n",
      "SubType Unc5c_SubType 1\n"
     ]
    }
   ],
   "source": [
    "for i, cluster_col in enumerate(cluster_levels[1:]):\n",
    "    previous_level = cluster_levels[i]\n",
    "    for previous_cluster, sub_df in cluster_table.groupby(previous_level):\n",
    "        total_cells = pd.Index(\n",
    "            sub_df.groupby(cluster_col).apply(downsample).values.flat)\n",
    "\n",
    "        this_output_dir = output_dir / cluster_col / f'{previous_cluster}_{cluster_col}'\n",
    "        this_output_dir.mkdir(exist_ok=True, parents=True)\n",
    "\n",
    "        selected_cells = cell_tidy_data.reindex(total_cells)\n",
    "        selected_cells.to_msgpack(this_output_dir / 'cell_tidy_data.msg')\n",
    "        cell_tidy_data_path = str(this_output_dir / 'cell_tidy_data.msg')\n",
    "\n",
    "        print(cluster_col, this_output_dir.name,\n",
    "              selected_cells[cluster_col].value_counts().size)\n",
    "        if selected_cells[cluster_col].value_counts().size == 1:\n",
    "            # no sub cluster at next level, skip\n",
    "            continue\n",
    "        if not (this_output_dir / 'finish_flag').exists():\n",
    "            one_level_training(cell_tidy_data_path, cluster_col,\n",
    "                               this_output_dir)\n"
   ]
  },
  {
   "cell_type": "code",
   "execution_count": null,
   "metadata": {},
   "outputs": [],
   "source": []
  },
  {
   "cell_type": "code",
   "execution_count": null,
   "metadata": {},
   "outputs": [],
   "source": []
  },
  {
   "cell_type": "code",
   "execution_count": null,
   "metadata": {},
   "outputs": [],
   "source": []
  }
 ],
 "metadata": {
  "hide_input": false,
  "kernelspec": {
   "display_name": "Python 3",
   "language": "python",
   "name": "python3"
  },
  "language_info": {
   "codemirror_mode": {
    "name": "ipython",
    "version": 3
   },
   "file_extension": ".py",
   "mimetype": "text/x-python",
   "name": "python",
   "nbconvert_exporter": "python",
   "pygments_lexer": "ipython3",
   "version": "3.7.3"
  },
  "toc": {
   "base_numbering": 1,
   "nav_menu": {},
   "number_sections": true,
   "sideBar": true,
   "skip_h1_title": true,
   "title_cell": "Table of Contents",
   "title_sidebar": "Contents",
   "toc_cell": false,
   "toc_position": {},
   "toc_section_display": true,
   "toc_window_display": true
  }
 },
 "nbformat": 4,
 "nbformat_minor": 2
}
