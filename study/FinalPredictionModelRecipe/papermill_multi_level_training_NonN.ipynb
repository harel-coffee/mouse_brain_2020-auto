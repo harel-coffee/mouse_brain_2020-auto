{
 "cells": [
  {
   "cell_type": "code",
   "execution_count": 2,
   "metadata": {
    "ExecuteTime": {
     "end_time": "2019-12-11T23:46:13.507092Z",
     "start_time": "2019-12-11T23:46:12.936531Z"
    }
   },
   "outputs": [],
   "source": [
    "from papermill import execute_notebook\n",
    "import pandas as pd\n",
    "import pathlib\n",
    "import anndata"
   ]
  },
  {
   "cell_type": "markdown",
   "metadata": {},
   "source": [
    "## Parameters"
   ]
  },
  {
   "cell_type": "code",
   "execution_count": 3,
   "metadata": {
    "ExecuteTime": {
     "end_time": "2019-12-11T23:46:13.863129Z",
     "start_time": "2019-12-11T23:46:13.856279Z"
    }
   },
   "outputs": [],
   "source": [
    "cell_tidy_data_path = '/home/hanliu/project/mouse_rostral_brain/study/ClusteringSummary/Summary/TotalClusteringResults.msg'\n",
    "template_dir_path = '/home/hanliu/project/mouse_rostral_brain/study/FinalPredictionModelRecipe/'\n",
    "output_dir = '/home/hanliu/project/mouse_rostral_brain/study/FinalPredictionModelRecipe/NeuronPrediction/'\n",
    "\n",
    "cluster_levels = ['CellClass', 'MajorType', 'SubType']\n",
    "downsample_large_cluster_to = 5000\n",
    "\n",
    "# prepare features\n",
    "mcds_path_list = list(\n",
    "    pathlib.Path('/home/hanliu/project/mouse_rostral_brain/dataset/').glob(\n",
    "        '*mcds'))\n",
    "mcds_path_list = [str(i) for i in mcds_path_list]\n",
    "\n",
    "exclude_chromosome = ['chrM', 'chrY']\n",
    "exclude_cluster_str = ['Outlier', 'Exc', 'Inh']\n",
    "black_list_path = '/home/hanliu/project/mouse_rostral_brain/misc/mm10-blacklist.v2.bed.gz'\n",
    "clustering_feature = 'chrom100k'\n",
    "min_feature_cov = 30\n",
    "max_feature_cov = 300\n",
    "mc_type = 'CGN'\n",
    "\n",
    "# pairwise marker identify\n",
    "min_cluster_cell_number = 10\n",
    "adj_p_cutoff = 1e-3\n",
    "log2fc_cutoff = 0.5\n",
    "top_n = 25\n",
    "marker_cpu = 10  # memory intensive but fast, don't use too much\n",
    "\n",
    "# RFECV and final model\n",
    "test_portion = 0.1\n",
    "random_seed = 0\n",
    "n_estimators = 100\n",
    "n_estimators_final = 500\n",
    "training_cpu = 30\n",
    "cv_splits = 5\n",
    "cluster_order_path = None"
   ]
  },
  {
   "cell_type": "code",
   "execution_count": 4,
   "metadata": {
    "ExecuteTime": {
     "end_time": "2019-12-11T23:46:14.411707Z",
     "start_time": "2019-12-11T23:46:14.409243Z"
    }
   },
   "outputs": [],
   "source": [
    "template_dir = pathlib.Path(template_dir_path)\n",
    "output_dir = pathlib.Path(output_dir)\n",
    "output_dir.mkdir(exist_ok=True)"
   ]
  },
  {
   "cell_type": "markdown",
   "metadata": {},
   "source": [
    "## Load tidy data"
   ]
  },
  {
   "cell_type": "code",
   "execution_count": 5,
   "metadata": {
    "ExecuteTime": {
     "end_time": "2019-12-11T23:46:16.608359Z",
     "start_time": "2019-12-11T23:46:16.222229Z"
    }
   },
   "outputs": [
    {
     "name": "stderr",
     "output_type": "stream",
     "text": [
      "/home/hanliu/miniconda3/envs/clustering/lib/python3.7/site-packages/IPython/core/interactiveshell.py:3326: FutureWarning: The read_msgpack is deprecated and will be removed in a future version.\n",
      "It is recommended to use pyarrow for on-the-wire transmission of pandas objects.\n",
      "  exec(code_obj, self.user_global_ns, self.user_ns)\n"
     ]
    }
   ],
   "source": [
    "cell_tidy_data = pd.read_msgpack(cell_tidy_data_path)\n",
    "cluster_table = cell_tidy_data[cluster_levels].copy()"
   ]
  },
  {
   "cell_type": "code",
   "execution_count": 6,
   "metadata": {
    "ExecuteTime": {
     "end_time": "2019-12-11T23:46:17.830878Z",
     "start_time": "2019-12-11T23:46:17.442579Z"
    }
   },
   "outputs": [],
   "source": [
    "use_cells = cluster_table.applymap(lambda i: sum(\n",
    "    [j in i for j in exclude_cluster_str])).sum(axis=1) == 0\n",
    "\n",
    "cell_tidy_data = cell_tidy_data[use_cells].copy()\n",
    "cluster_table = cluster_table[use_cells].copy()"
   ]
  },
  {
   "cell_type": "markdown",
   "metadata": {},
   "source": [
    "## Train one level"
   ]
  },
  {
   "cell_type": "code",
   "execution_count": 12,
   "metadata": {
    "ExecuteTime": {
     "end_time": "2019-12-12T00:02:31.480098Z",
     "start_time": "2019-12-12T00:02:31.471083Z"
    }
   },
   "outputs": [],
   "source": [
    "def one_level_training(cell_tidy_data_path, cluster_col, output_dir):\n",
    "    # prepare_cell_feature_matrix\n",
    "    params = dict(cell_tidy_data_path=cell_tidy_data_path,\n",
    "                  cluster_col=cluster_col,\n",
    "                  dask_distribute=True,\n",
    "                  in_memory=False,\n",
    "                  mcds_path_list=mcds_path_list,\n",
    "                  exclude_chromosome=exclude_chromosome,\n",
    "                  black_list_path=black_list_path,\n",
    "                  clustering_feature=clustering_feature,\n",
    "                  min_feature_cov=min_feature_cov,\n",
    "                  max_feature_cov=max_feature_cov,\n",
    "                  mc_type=mc_type)\n",
    "\n",
    "    input_path = template_dir / 'prepare_cell_feature_matrix.ipynb'\n",
    "    output_path = output_dir / 'prepare_cell_feature_matrix.ipynb'\n",
    "\n",
    "    execute_notebook(str(input_path),\n",
    "                     str(output_path),\n",
    "                     parameters=params,\n",
    "                     engine_name=None,\n",
    "                     prepare_only=True,\n",
    "                     kernel_name=None,\n",
    "                     progress_bar=True,\n",
    "                     log_output=False,\n",
    "                     start_timeout=60,\n",
    "                     report_mode=False,\n",
    "                     cwd=str(output_dir))\n",
    "\n",
    "    # pairwise_marker_selection.ipynb\n",
    "    params = dict(cluster_col=cluster_col,\n",
    "                  min_cluster_cell_number=min_cluster_cell_number,\n",
    "                  exclude_str=exclude_cluster_str,\n",
    "                  adj_p_cutoff=adj_p_cutoff,\n",
    "                  log2fc_cutoff=log2fc_cutoff,\n",
    "                  top_n=top_n,\n",
    "                  cpu=marker_cpu)\n",
    "\n",
    "    input_path = template_dir / 'pairwise_marker_selection.ipynb'\n",
    "    output_path = output_dir / 'pairwise_marker_selection.ipynb'\n",
    "\n",
    "    execute_notebook(str(input_path),\n",
    "                     str(output_path),\n",
    "                     parameters=params,\n",
    "                     engine_name=None,\n",
    "                     prepare_only=True,\n",
    "                     kernel_name=None,\n",
    "                     progress_bar=True,\n",
    "                     log_output=False,\n",
    "                     start_timeout=60,\n",
    "                     report_mode=False,\n",
    "                     cwd=str(output_dir))\n",
    "    \n",
    "    adata = anndata.read_h5ad(output_dir / 'Markers/cluster_markers.h5ad')\n",
    "    if adata.shape[1] == 0:\n",
    "        with open(output_dir / 'finish_flag', 'w') as f:\n",
    "            f.write('OMG')\n",
    "        print('No marker found, skip model training')\n",
    "        return\n",
    "\n",
    "    # RFECV\n",
    "    params = dict(cluster_col=cluster_col,\n",
    "                  test_portion=test_portion,\n",
    "                  random_seed=random_seed,\n",
    "                  n_estimators=n_estimators,\n",
    "                  n_estimators_final=n_estimators_final,\n",
    "                  n_jobs=training_cpu,\n",
    "                  n_splits=cv_splits,\n",
    "                  cluster_order_path=cluster_order_path)\n",
    "\n",
    "    input_path = template_dir / 'RFECV.ipynb'\n",
    "    output_path = output_dir / 'RFECV.ipynb'\n",
    "\n",
    "    execute_notebook(str(input_path),\n",
    "                     str(output_path),\n",
    "                     parameters=params,\n",
    "                     engine_name=None,\n",
    "                     prepare_only=True,\n",
    "                     kernel_name=None,\n",
    "                     progress_bar=True,\n",
    "                     log_output=False,\n",
    "                     start_timeout=60,\n",
    "                     report_mode=False,\n",
    "                     cwd=str(output_dir))\n",
    "    return"
   ]
  },
  {
   "cell_type": "markdown",
   "metadata": {},
   "source": [
    "## First level"
   ]
  },
  {
   "cell_type": "code",
   "execution_count": 13,
   "metadata": {
    "ExecuteTime": {
     "end_time": "2019-12-12T00:02:32.097802Z",
     "start_time": "2019-12-12T00:02:32.094518Z"
    }
   },
   "outputs": [],
   "source": [
    "def downsample(sub_df):\n",
    "    if sub_df.shape[0] > downsample_large_cluster_to:\n",
    "        sub_df = sub_df.sample(downsample_large_cluster_to,\n",
    "                               random_state=random_seed)\n",
    "    return pd.Series(sub_df.index)"
   ]
  },
  {
   "cell_type": "code",
   "execution_count": 14,
   "metadata": {
    "ExecuteTime": {
     "end_time": "2019-12-12T00:02:32.415225Z",
     "start_time": "2019-12-12T00:02:32.324242Z"
    }
   },
   "outputs": [
    {
     "name": "stderr",
     "output_type": "stream",
     "text": [
      "/home/hanliu/miniconda3/envs/clustering/lib/python3.7/site-packages/ipykernel_launcher.py:9: FutureWarning: to_msgpack is deprecated and will be removed in a future version.\n",
      "It is recommended to use pyarrow for on-the-wire transmission of pandas objects.\n",
      "  if __name__ == '__main__':\n"
     ]
    }
   ],
   "source": [
    "cluster_col = 'SubType'\n",
    "\n",
    "# first level\n",
    "total_cells = pd.Index(\n",
    "    cluster_table.groupby(cluster_col).apply(downsample).values.flat)\n",
    "this_output_dir = output_dir / 'NonNeuronPrediction'\n",
    "this_output_dir.mkdir(exist_ok=True)\n",
    "cell_tidy_data.reindex(total_cells).to_msgpack(this_output_dir /\n",
    "                                               'cell_tidy_data.msg')\n",
    "\n",
    "cell_tidy_data_path = str(this_output_dir / 'cell_tidy_data.msg')"
   ]
  },
  {
   "cell_type": "code",
   "execution_count": 15,
   "metadata": {
    "ExecuteTime": {
     "end_time": "2019-12-12T00:02:33.125585Z",
     "start_time": "2019-12-12T00:02:32.814277Z"
    }
   },
   "outputs": [],
   "source": [
    "if not (this_output_dir / 'finish_flag').exists():\n",
    "    one_level_training(cell_tidy_data_path, cluster_col, this_output_dir)"
   ]
  },
  {
   "cell_type": "code",
   "execution_count": null,
   "metadata": {},
   "outputs": [],
   "source": []
  },
  {
   "cell_type": "code",
   "execution_count": null,
   "metadata": {},
   "outputs": [],
   "source": []
  }
 ],
 "metadata": {
  "hide_input": false,
  "kernelspec": {
   "display_name": "Python 3",
   "language": "python",
   "name": "python3"
  },
  "language_info": {
   "codemirror_mode": {
    "name": "ipython",
    "version": 3
   },
   "file_extension": ".py",
   "mimetype": "text/x-python",
   "name": "python",
   "nbconvert_exporter": "python",
   "pygments_lexer": "ipython3",
   "version": "3.7.3"
  },
  "toc": {
   "base_numbering": 1,
   "nav_menu": {},
   "number_sections": true,
   "sideBar": true,
   "skip_h1_title": true,
   "title_cell": "Table of Contents",
   "title_sidebar": "Contents",
   "toc_cell": false,
   "toc_position": {},
   "toc_section_display": true,
   "toc_window_display": true
  }
 },
 "nbformat": 4,
 "nbformat_minor": 2
}
