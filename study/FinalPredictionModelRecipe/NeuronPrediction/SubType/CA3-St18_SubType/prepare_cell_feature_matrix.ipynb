{
 "cells": [
  {
   "cell_type": "markdown",
   "metadata": {
    "papermill": {
     "duration": 0.011912,
     "end_time": "2019-11-24T01:19:33.567918",
     "exception": false,
     "start_time": "2019-11-24T01:19:33.556006",
     "status": "completed"
    },
    "tags": []
   },
   "source": [
    "# Prepare"
   ]
  },
  {
   "cell_type": "code",
   "execution_count": 1,
   "metadata": {
    "papermill": {
     "duration": 2.3279,
     "end_time": "2019-11-24T01:19:35.907981",
     "exception": false,
     "start_time": "2019-11-24T01:19:33.580081",
     "status": "completed"
    },
    "tags": []
   },
   "outputs": [
    {
     "name": "stderr",
     "output_type": "stream",
     "text": [
      "/home/hanliu/miniconda3/envs/clustering/lib/python3.7/site-packages/xarray/core/merge.py:18: FutureWarning: The Panel class is removed from pandas. Accessing it from the top-level namespace will also be removed in the next version\n",
      "  PANDAS_TYPES = (pd.Series, pd.DataFrame, pd.Panel)\n",
      "/home/hanliu/miniconda3/envs/clustering/lib/python3.7/site-packages/xarray/core/dataarray.py:1829: FutureWarning: The Panel class is removed from pandas. Accessing it from the top-level namespace will also be removed in the next version\n",
      "  'DataArray', pd.Series, pd.DataFrame, pd.Panel]:\n"
     ]
    }
   ],
   "source": [
    "import pathlib\n",
    "import warnings\n",
    "\n",
    "import anndata\n",
    "import matplotlib.pyplot as plt\n",
    "import numpy as np\n",
    "import pandas as pd\n",
    "import scanpy as sc\n",
    "import seaborn as sns\n",
    "from ALLCools.mcds.MCDS import MCDS\n",
    "from cemba_data.plot import cutoff_vs_cell_remain\n",
    "from pybedtools import BedTool"
   ]
  },
  {
   "cell_type": "markdown",
   "metadata": {
    "papermill": {
     "duration": 0.011516,
     "end_time": "2019-11-24T01:19:35.931788",
     "exception": false,
     "start_time": "2019-11-24T01:19:35.920272",
     "status": "completed"
    },
    "tags": []
   },
   "source": [
    "## Parameters"
   ]
  },
  {
   "cell_type": "code",
   "execution_count": 2,
   "metadata": {
    "papermill": {
     "duration": 0.018863,
     "end_time": "2019-11-24T01:19:35.961779",
     "exception": false,
     "start_time": "2019-11-24T01:19:35.942916",
     "status": "completed"
    },
    "tags": [
     "parameters"
    ]
   },
   "outputs": [],
   "source": [
    "cell_tidy_data_path = 'test_cell_tidy_data.msg'\n",
    "cluster_col = 'SubType'\n",
    "clustering_feature = 'chrom100k'\n",
    "dask_distribute = True\n",
    "in_memory = False\n",
    "mcds_path_list = list(\n",
    "    pathlib.Path('/home/hanliu/project/mouse_rostral_brain/dataset/').glob(\n",
    "        '*mcds'))\n",
    "exclude_chromosome = ['chrM', 'chrY']\n",
    "black_list_path = '/home/hanliu/project/mouse_rostral_brain/misc/mm10-blacklist.v2.bed.gz'\n",
    "min_feature_cov = 400\n",
    "max_feature_cov = 3000\n",
    "mc_type = 'CHN'"
   ]
  },
  {
   "cell_type": "code",
   "execution_count": 3,
   "metadata": {
    "papermill": {
     "duration": 0.021134,
     "end_time": "2019-11-24T01:19:35.993961",
     "exception": false,
     "start_time": "2019-11-24T01:19:35.972827",
     "status": "completed"
    },
    "tags": [
     "injected-parameters"
    ]
   },
   "outputs": [],
   "source": [
    "# Parameters\n",
    "cell_tidy_data_path = \"/home/hanliu/project/mouse_rostral_brain/study/FinalPredictionModelRecipe/NeuronPrediction/SubType/CA3-St18_SubType/cell_tidy_data.msg\"\n",
    "cluster_col = \"SubType\"\n",
    "dask_distribute = True\n",
    "in_memory = False\n",
    "mcds_path_list = [\"/home/hanliu/project/mouse_rostral_brain/dataset/4H-180806.mcds\", \"/home/hanliu/project/mouse_rostral_brain/dataset/11E-190214.mcds\", \"/home/hanliu/project/mouse_rostral_brain/dataset/5A-190205.mcds\", \"/home/hanliu/project/mouse_rostral_brain/dataset/11E-190305.mcds\", \"/home/hanliu/project/mouse_rostral_brain/dataset/4H-180911.mcds\", \"/home/hanliu/project/mouse_rostral_brain/dataset/11F-190214.mcds\", \"/home/hanliu/project/mouse_rostral_brain/dataset/5A-190307.mcds\", \"/home/hanliu/project/mouse_rostral_brain/dataset/11F-190305.mcds\", \"/home/hanliu/project/mouse_rostral_brain/dataset/5B-180514.mcds\", \"/home/hanliu/project/mouse_rostral_brain/dataset/1A-180226.mcds\", \"/home/hanliu/project/mouse_rostral_brain/dataset/5B-180529.mcds\", \"/home/hanliu/project/mouse_rostral_brain/dataset/1A-180227.mcds\", \"/home/hanliu/project/mouse_rostral_brain/dataset/5F-181218.mcds\", \"/home/hanliu/project/mouse_rostral_brain/dataset/1B-180119.mcds\", \"/home/hanliu/project/mouse_rostral_brain/dataset/5F-181220.mcds\", \"/home/hanliu/project/mouse_rostral_brain/dataset/1B-180213.mcds\", \"/home/hanliu/project/mouse_rostral_brain/dataset/5G-181008.mcds\", \"/home/hanliu/project/mouse_rostral_brain/dataset/1C-180208.mcds\", \"/home/hanliu/project/mouse_rostral_brain/dataset/5G-181009.mcds\", \"/home/hanliu/project/mouse_rostral_brain/dataset/1C-180212.mcds\", \"/home/hanliu/project/mouse_rostral_brain/dataset/5H-181015.mcds\", \"/home/hanliu/project/mouse_rostral_brain/dataset/2A-180122.mcds\", \"/home/hanliu/project/mouse_rostral_brain/dataset/5H-181016.mcds\", \"/home/hanliu/project/mouse_rostral_brain/dataset/2A-180123.mcds\", \"/home/hanliu/project/mouse_rostral_brain/dataset/5J-180904.mcds\", \"/home/hanliu/project/mouse_rostral_brain/dataset/2B-180305.mcds\", \"/home/hanliu/project/mouse_rostral_brain/dataset/5J-180910.mcds\", \"/home/hanliu/project/mouse_rostral_brain/dataset/2B-180306.mcds\", \"/home/hanliu/project/mouse_rostral_brain/dataset/5J-190207.mcds\", \"/home/hanliu/project/mouse_rostral_brain/dataset/2C-180409.mcds\", \"/home/hanliu/project/mouse_rostral_brain/dataset/6A-190108.mcds\", \"/home/hanliu/project/mouse_rostral_brain/dataset/2C-180410.mcds\", \"/home/hanliu/project/mouse_rostral_brain/dataset/6A-190117.mcds\", \"/home/hanliu/project/mouse_rostral_brain/dataset/2D-180313.mcds\", \"/home/hanliu/project/mouse_rostral_brain/dataset/6B-181022.mcds\", \"/home/hanliu/project/mouse_rostral_brain/dataset/2D-180319.mcds\", \"/home/hanliu/project/mouse_rostral_brain/dataset/6B-181023.mcds\", \"/home/hanliu/project/mouse_rostral_brain/dataset/2D-180403.mcds\", \"/home/hanliu/project/mouse_rostral_brain/dataset/6C-190122.mcds\", \"/home/hanliu/project/mouse_rostral_brain/dataset/2E-180220.mcds\", \"/home/hanliu/project/mouse_rostral_brain/dataset/6C-190124.mcds\", \"/home/hanliu/project/mouse_rostral_brain/dataset/2E-180222.mcds\", \"/home/hanliu/project/mouse_rostral_brain/dataset/6D-190131.mcds\", \"/home/hanliu/project/mouse_rostral_brain/dataset/3A-180129.mcds\", \"/home/hanliu/project/mouse_rostral_brain/dataset/6D-190205.mcds\", \"/home/hanliu/project/mouse_rostral_brain/dataset/3A-180130.mcds\", \"/home/hanliu/project/mouse_rostral_brain/dataset/7B-180423.mcds\", \"/home/hanliu/project/mouse_rostral_brain/dataset/3B-180312.mcds\", \"/home/hanliu/project/mouse_rostral_brain/dataset/7B-180424.mcds\", \"/home/hanliu/project/mouse_rostral_brain/dataset/3B-180501.mcds\", \"/home/hanliu/project/mouse_rostral_brain/dataset/8B-180426.mcds\", \"/home/hanliu/project/mouse_rostral_brain/dataset/3C-171206.mcds\", \"/home/hanliu/project/mouse_rostral_brain/dataset/8B-180430.mcds\", \"/home/hanliu/project/mouse_rostral_brain/dataset/3C-171207.mcds\", \"/home/hanliu/project/mouse_rostral_brain/dataset/9H-190212.mcds\", \"/home/hanliu/project/mouse_rostral_brain/dataset/3D-180412.mcds\", \"/home/hanliu/project/mouse_rostral_brain/dataset/9H-190219.mcds\", \"/home/hanliu/project/mouse_rostral_brain/dataset/3D-180416.mcds\", \"/home/hanliu/project/mouse_rostral_brain/dataset/9J-190212.mcds\", \"/home/hanliu/project/mouse_rostral_brain/dataset/3E-180320.mcds\", \"/home/hanliu/project/mouse_rostral_brain/dataset/9J-190219.mcds\", \"/home/hanliu/project/mouse_rostral_brain/dataset/3E-180326.mcds\", \"/home/hanliu/project/mouse_rostral_brain/dataset/11B-190314.mcds\", \"/home/hanliu/project/mouse_rostral_brain/dataset/3F-180109.mcds\", \"/home/hanliu/project/mouse_rostral_brain/dataset/11B-190325.mcds\", \"/home/hanliu/project/mouse_rostral_brain/dataset/3F-180405.mcds\", \"/home/hanliu/project/mouse_rostral_brain/dataset/12B-190314.mcds\", \"/home/hanliu/project/mouse_rostral_brain/dataset/4A-180205.mcds\", \"/home/hanliu/project/mouse_rostral_brain/dataset/12B-190325.mcds\", \"/home/hanliu/project/mouse_rostral_brain/dataset/4A-180206.mcds\", \"/home/hanliu/project/mouse_rostral_brain/dataset/9B-190326.mcds\", \"/home/hanliu/project/mouse_rostral_brain/dataset/4B-171212.mcds\", \"/home/hanliu/project/mouse_rostral_brain/dataset/9B-190404.mcds\", \"/home/hanliu/project/mouse_rostral_brain/dataset/4B-171213.mcds\", \"/home/hanliu/project/mouse_rostral_brain/dataset/9D-190326.mcds\", \"/home/hanliu/project/mouse_rostral_brain/dataset/4B-180104.mcds\", \"/home/hanliu/project/mouse_rostral_brain/dataset/9D-190404.mcds\", \"/home/hanliu/project/mouse_rostral_brain/dataset/4C-180417.mcds\", \"/home/hanliu/project/mouse_rostral_brain/dataset/10E-190625.mcds\", \"/home/hanliu/project/mouse_rostral_brain/dataset/4C-180419.mcds\", \"/home/hanliu/project/mouse_rostral_brain/dataset/10E-190627.mcds\", \"/home/hanliu/project/mouse_rostral_brain/dataset/4D-171214.mcds\", \"/home/hanliu/project/mouse_rostral_brain/dataset/10F-190625.mcds\", \"/home/hanliu/project/mouse_rostral_brain/dataset/4D-171219.mcds\", \"/home/hanliu/project/mouse_rostral_brain/dataset/10F-190627.mcds\", \"/home/hanliu/project/mouse_rostral_brain/dataset/4E-180110.mcds\", \"/home/hanliu/project/mouse_rostral_brain/dataset/10G-190423.mcds\", \"/home/hanliu/project/mouse_rostral_brain/dataset/4E-180111.mcds\", \"/home/hanliu/project/mouse_rostral_brain/dataset/10G-190523.mcds\", \"/home/hanliu/project/mouse_rostral_brain/dataset/4F-180329.mcds\", \"/home/hanliu/project/mouse_rostral_brain/dataset/8E-190711.mcds\", \"/home/hanliu/project/mouse_rostral_brain/dataset/4F-180402.mcds\", \"/home/hanliu/project/mouse_rostral_brain/dataset/8E-190716.mcds\", \"/home/hanliu/project/mouse_rostral_brain/dataset/4G-180917.mcds\", \"/home/hanliu/project/mouse_rostral_brain/dataset/8J-190711.mcds\", \"/home/hanliu/project/mouse_rostral_brain/dataset/4G-181204.mcds\", \"/home/hanliu/project/mouse_rostral_brain/dataset/8J-190716.mcds\", \"/home/hanliu/project/mouse_rostral_brain/dataset/4H-180724.mcds\", \"/home/hanliu/project/mouse_rostral_brain/dataset/5C-181002.mcds\", \"/home/hanliu/project/mouse_rostral_brain/dataset/10A-190423.mcds\", \"/home/hanliu/project/mouse_rostral_brain/dataset/5C-181210.mcds\", \"/home/hanliu/project/mouse_rostral_brain/dataset/10A-190525.mcds\", \"/home/hanliu/project/mouse_rostral_brain/dataset/5D-180605.mcds\", \"/home/hanliu/project/mouse_rostral_brain/dataset/10C-190411.mcds\", \"/home/hanliu/project/mouse_rostral_brain/dataset/5D-180612.mcds\", \"/home/hanliu/project/mouse_rostral_brain/dataset/10C-190418.mcds\", \"/home/hanliu/project/mouse_rostral_brain/dataset/5E-180925.mcds\", \"/home/hanliu/project/mouse_rostral_brain/dataset/11C-190530.mcds\", \"/home/hanliu/project/mouse_rostral_brain/dataset/5E-181206.mcds\", \"/home/hanliu/project/mouse_rostral_brain/dataset/11C-190620.mcds\", \"/home/hanliu/project/mouse_rostral_brain/dataset/7G-190702.mcds\", \"/home/hanliu/project/mouse_rostral_brain/dataset/7G-190709.mcds\", \"/home/hanliu/project/mouse_rostral_brain/dataset/8F-190718.mcds\", \"/home/hanliu/project/mouse_rostral_brain/dataset/8F-190723.mcds\", \"/home/hanliu/project/mouse_rostral_brain/dataset/9A-190702.mcds\", \"/home/hanliu/project/mouse_rostral_brain/dataset/9A-190709.mcds\", \"/home/hanliu/project/mouse_rostral_brain/dataset/9C-190530.mcds\", \"/home/hanliu/project/mouse_rostral_brain/dataset/9C-190620.mcds\"]\n",
    "exclude_chromosome = [\"chrM\", \"chrY\"]\n",
    "black_list_path = \"/home/hanliu/project/mouse_rostral_brain/misc/mm10-blacklist.v2.bed.gz\"\n",
    "clustering_feature = \"chrom100k\"\n",
    "min_feature_cov = 500\n",
    "max_feature_cov = 3000\n",
    "mc_type = \"CHN\"\n"
   ]
  },
  {
   "cell_type": "markdown",
   "metadata": {
    "papermill": {
     "duration": 0.010781,
     "end_time": "2019-11-24T01:19:36.015584",
     "exception": false,
     "start_time": "2019-11-24T01:19:36.004803",
     "status": "completed"
    },
    "tags": []
   },
   "source": [
    "### Stable parameters"
   ]
  },
  {
   "cell_type": "code",
   "execution_count": 4,
   "metadata": {
    "papermill": {
     "duration": 0.016366,
     "end_time": "2019-11-24T01:19:36.043584",
     "exception": false,
     "start_time": "2019-11-24T01:19:36.027218",
     "status": "completed"
    },
    "tags": []
   },
   "outputs": [],
   "source": [
    "output_dir = 'Adata'\n",
    "output_dir = pathlib.Path(output_dir)\n",
    "output_dir.mkdir(exist_ok=True)"
   ]
  },
  {
   "cell_type": "markdown",
   "metadata": {
    "papermill": {
     "duration": 0.010973,
     "end_time": "2019-11-24T01:19:36.065474",
     "exception": false,
     "start_time": "2019-11-24T01:19:36.054501",
     "status": "completed"
    },
    "tags": []
   },
   "source": [
    "## Load Data"
   ]
  },
  {
   "cell_type": "code",
   "execution_count": 5,
   "metadata": {
    "papermill": {
     "duration": 0.723328,
     "end_time": "2019-11-24T01:19:36.799617",
     "exception": false,
     "start_time": "2019-11-24T01:19:36.076289",
     "status": "completed"
    },
    "tags": []
   },
   "outputs": [],
   "source": [
    "if dask_distribute:\n",
    "    from dask.distributed import Client\n",
    "    client = Client(dashboard_address=':5555')"
   ]
  },
  {
   "cell_type": "markdown",
   "metadata": {
    "papermill": {
     "duration": 0.012116,
     "end_time": "2019-11-24T01:19:36.824670",
     "exception": false,
     "start_time": "2019-11-24T01:19:36.812554",
     "status": "completed"
    },
    "tags": []
   },
   "source": [
    "### Clustering results"
   ]
  },
  {
   "cell_type": "code",
   "execution_count": 6,
   "metadata": {
    "papermill": {
     "duration": 0.022385,
     "end_time": "2019-11-24T01:19:36.858643",
     "exception": false,
     "start_time": "2019-11-24T01:19:36.836258",
     "status": "completed"
    },
    "tags": []
   },
   "outputs": [
    {
     "name": "stderr",
     "output_type": "stream",
     "text": [
      "/home/hanliu/miniconda3/envs/clustering/lib/python3.7/site-packages/IPython/core/interactiveshell.py:3326: FutureWarning: The read_msgpack is deprecated and will be removed in a future version.\n",
      "It is recommended to use pyarrow for on-the-wire transmission of pandas objects.\n",
      "  exec(code_obj, self.user_global_ns, self.user_ns)\n"
     ]
    }
   ],
   "source": [
    "cell_tidy_data = pd.read_msgpack(cell_tidy_data_path)"
   ]
  },
  {
   "cell_type": "markdown",
   "metadata": {
    "papermill": {
     "duration": 0.011786,
     "end_time": "2019-11-24T01:19:36.882179",
     "exception": false,
     "start_time": "2019-11-24T01:19:36.870393",
     "status": "completed"
    },
    "tags": []
   },
   "source": [
    "### Raw Count Matrix (before filter)"
   ]
  },
  {
   "cell_type": "code",
   "execution_count": 7,
   "metadata": {
    "papermill": {
     "duration": 41.066166,
     "end_time": "2019-11-24T01:20:17.960419",
     "exception": false,
     "start_time": "2019-11-24T01:19:36.894253",
     "status": "completed"
    },
    "tags": []
   },
   "outputs": [],
   "source": [
    "with warnings.catch_warnings():\n",
    "    warnings.simplefilter('ignore')\n",
    "    mcds = MCDS.open(mcds_path_list,\n",
    "                     use_cells=cell_tidy_data.index,\n",
    "                     chunks={'cell': 1000})\n",
    "if in_memory:\n",
    "    mcds.load()"
   ]
  },
  {
   "cell_type": "code",
   "execution_count": 8,
   "metadata": {
    "papermill": {
     "duration": 0.033429,
     "end_time": "2019-11-24T01:20:18.007338",
     "exception": false,
     "start_time": "2019-11-24T01:20:17.973909",
     "status": "completed"
    },
    "tags": []
   },
   "outputs": [
    {
     "data": {
      "text/plain": [
       "<xarray.MCDS>\n",
       "Dimensions:              (cell: 408, chrom100k: 27269, count_type: 2, gene: 55487, mc_type: 2)\n",
       "Coordinates:\n",
       "  * mc_type              (mc_type) object 'CGN' 'CHN'\n",
       "  * gene                 (gene) object 'ENSMUSG00000102693.1' ... 'ENSMUSG00000064372.1'\n",
       "  * count_type           (count_type) object 'mc' 'cov'\n",
       "    strand_type          <U4 'both'\n",
       "    gene_chrom           (gene) object dask.array<shape=(55487,), chunksize=(55487,)>\n",
       "    gene_start           (gene) int64 dask.array<shape=(55487,), chunksize=(55487,)>\n",
       "    gene_end             (gene) int64 dask.array<shape=(55487,), chunksize=(55487,)>\n",
       "  * cell                 (cell) object '10E_M_2245' '10E_M_2368' ... '9H_M_941'\n",
       "  * chrom100k            (chrom100k) int64 0 1 2 3 4 ... 27265 27266 27267 27268\n",
       "    chrom100k_chrom      (chrom100k) object dask.array<shape=(27269,), chunksize=(27269,)>\n",
       "    chrom100k_bin_start  (chrom100k) int64 dask.array<shape=(27269,), chunksize=(27269,)>\n",
       "    chrom100k_bin_end    (chrom100k) int64 dask.array<shape=(27269,), chunksize=(27269,)>\n",
       "Data variables:\n",
       "    gene_da              (cell, gene, mc_type, count_type) uint16 dask.array<shape=(408, 55487, 2, 2), chunksize=(408, 55487, 2, 2)>\n",
       "    chrom100k_da         (cell, chrom100k, mc_type, count_type) uint16 dask.array<shape=(408, 27269, 2, 2), chunksize=(408, 27269, 2, 2)>"
      ]
     },
     "execution_count": 8,
     "metadata": {},
     "output_type": "execute_result"
    }
   ],
   "source": [
    "mcds"
   ]
  },
  {
   "cell_type": "markdown",
   "metadata": {
    "papermill": {
     "duration": 0.011981,
     "end_time": "2019-11-24T01:20:18.031180",
     "exception": false,
     "start_time": "2019-11-24T01:20:18.019199",
     "status": "completed"
    },
    "tags": []
   },
   "source": [
    "## Filter Feature\n",
    "\n",
    "### Remove some chromosome"
   ]
  },
  {
   "cell_type": "code",
   "execution_count": 9,
   "metadata": {
    "papermill": {
     "duration": 0.227212,
     "end_time": "2019-11-24T01:20:18.270504",
     "exception": false,
     "start_time": "2019-11-24T01:20:18.043292",
     "status": "completed"
    },
    "tags": []
   },
   "outputs": [],
   "source": [
    "mcds = mcds.sel(\n",
    "    {clustering_feature: ~mcds.coords[f'{clustering_feature}_chrom'].isin(exclude_chromosome)})"
   ]
  },
  {
   "cell_type": "markdown",
   "metadata": {
    "papermill": {
     "duration": 0.012823,
     "end_time": "2019-11-24T01:20:18.297060",
     "exception": false,
     "start_time": "2019-11-24T01:20:18.284237",
     "status": "completed"
    },
    "tags": []
   },
   "source": [
    "### Remove blacklist"
   ]
  },
  {
   "cell_type": "code",
   "execution_count": 10,
   "metadata": {
    "papermill": {
     "duration": 1.900166,
     "end_time": "2019-11-24T01:20:20.209609",
     "exception": false,
     "start_time": "2019-11-24T01:20:18.309443",
     "status": "completed"
    },
    "tags": []
   },
   "outputs": [
    {
     "name": "stderr",
     "output_type": "stream",
     "text": [
      "/home/hanliu/miniconda3/envs/clustering/lib/python3.7/site-packages/xarray/core/dataarray.py:1849: FutureWarning: The Panel class is removed from pandas. Accessing it from the top-level namespace will also be removed in the next version\n",
      "  3: pd.Panel}\n",
      "/home/hanliu/miniconda3/envs/clustering/lib/python3.7/site-packages/xarray/core/dataarray.py:1849: FutureWarning: The Panel class is removed from pandas. Accessing it from the top-level namespace will also be removed in the next version\n",
      "  3: pd.Panel}\n",
      "/home/hanliu/miniconda3/envs/clustering/lib/python3.7/site-packages/xarray/core/dataarray.py:1849: FutureWarning: The Panel class is removed from pandas. Accessing it from the top-level namespace will also be removed in the next version\n",
      "  3: pd.Panel}\n"
     ]
    }
   ],
   "source": [
    "spetial_char = '_bin' if clustering_feature.startswith('chrom') else ''\n",
    "\n",
    "\n",
    "feature_bed_df = pd.DataFrame([\n",
    "    mcds.coords[f'{clustering_feature}_chrom'].to_pandas(),\n",
    "    mcds.coords[f'{clustering_feature}{spetial_char}_start'].to_pandas(),\n",
    "    mcds.coords[f'{clustering_feature}{spetial_char}_end'].to_pandas()\n",
    "],\n",
    "                              index=['chrom', 'start', 'end'],\n",
    "                              columns=mcds.get_index(clustering_feature)).T\n",
    "feature_bed = BedTool.from_dataframe(feature_bed_df)"
   ]
  },
  {
   "cell_type": "code",
   "execution_count": 11,
   "metadata": {
    "papermill": {
     "duration": 0.180338,
     "end_time": "2019-11-24T01:20:20.404044",
     "exception": false,
     "start_time": "2019-11-24T01:20:20.223706",
     "status": "completed"
    },
    "tags": []
   },
   "outputs": [],
   "source": [
    "black_list_bed = BedTool(black_list_path)\n",
    "black_feature = feature_bed.intersect(black_list_bed, f=0.2, wa=True)\n",
    "black_feature_index = black_feature.to_dataframe().set_index(\n",
    "    ['chrom', 'start', 'end']).index\n",
    "black_feature_id = pd.Index(feature_bed_df.reset_index()\\\n",
    "                       .set_index(['chrom', 'start', 'end'])\\\n",
    "                       .loc[black_feature_index][clustering_feature])"
   ]
  },
  {
   "cell_type": "code",
   "execution_count": 12,
   "metadata": {
    "papermill": {
     "duration": 0.029964,
     "end_time": "2019-11-24T01:20:20.447682",
     "exception": false,
     "start_time": "2019-11-24T01:20:20.417718",
     "status": "completed"
    },
    "tags": []
   },
   "outputs": [],
   "source": [
    "mcds = mcds.sel({clustering_feature: ~mcds.get_index(clustering_feature).isin(black_feature_id)})"
   ]
  },
  {
   "cell_type": "markdown",
   "metadata": {
    "papermill": {
     "duration": 0.012124,
     "end_time": "2019-11-24T01:20:20.472190",
     "exception": false,
     "start_time": "2019-11-24T01:20:20.460066",
     "status": "completed"
    },
    "tags": []
   },
   "source": [
    "### Remove by mean cov"
   ]
  },
  {
   "cell_type": "code",
   "execution_count": 13,
   "metadata": {
    "papermill": {
     "duration": 0.01734,
     "end_time": "2019-11-24T01:20:20.501764",
     "exception": false,
     "start_time": "2019-11-24T01:20:20.484424",
     "status": "completed"
    },
    "tags": []
   },
   "outputs": [],
   "source": [
    "# # only calculate CHN\n",
    "# fig, axes = cutoff_vs_cell_remain(mcds[f'{clustering_feature}_da']\\\n",
    "#                                   .sel(count_type='cov', mc_type='CHN')\\\n",
    "#                                   .mean(axis=0)\\\n",
    "#                                   .load())"
   ]
  },
  {
   "cell_type": "code",
   "execution_count": 14,
   "metadata": {
    "papermill": {
     "duration": 2.784621,
     "end_time": "2019-11-24T01:20:23.298557",
     "exception": false,
     "start_time": "2019-11-24T01:20:20.513936",
     "status": "completed"
    },
    "tags": []
   },
   "outputs": [
    {
     "name": "stdout",
     "output_type": "stream",
     "text": [
      "Filter chrom100k by [500, 3000], filter rate 0.99. 24037 features remained.\n"
     ]
    }
   ],
   "source": [
    "before = mcds.coords[clustering_feature].size\n",
    "mcds = mcds.filter_region_cov(dim=clustering_feature,\n",
    "                              da=f'{clustering_feature}_da',\n",
    "                              mc_type=mc_type,\n",
    "                              min_cov=min_feature_cov,\n",
    "                              max_cov=max_feature_cov)\n",
    "after = mcds.coords[clustering_feature].size\n",
    "print(\n",
    "    f'Filter {clustering_feature} by [{min_feature_cov}, {max_feature_cov}], '\n",
    "    f'filter rate {(after / before):.2f}. {after} features remained.')"
   ]
  },
  {
   "cell_type": "code",
   "execution_count": 15,
   "metadata": {
    "papermill": {
     "duration": 0.032196,
     "end_time": "2019-11-24T01:20:23.345030",
     "exception": false,
     "start_time": "2019-11-24T01:20:23.312834",
     "status": "completed"
    },
    "tags": []
   },
   "outputs": [
    {
     "data": {
      "text/plain": [
       "<xarray.MCDS>\n",
       "Dimensions:              (cell: 408, chrom100k: 24037, count_type: 2, gene: 55487, mc_type: 2)\n",
       "Coordinates:\n",
       "  * mc_type              (mc_type) object 'CGN' 'CHN'\n",
       "  * gene                 (gene) object 'ENSMUSG00000102693.1' ... 'ENSMUSG00000064372.1'\n",
       "  * count_type           (count_type) object 'mc' 'cov'\n",
       "    strand_type          <U4 'both'\n",
       "    gene_chrom           (gene) object dask.array<shape=(55487,), chunksize=(55487,)>\n",
       "    gene_start           (gene) int64 dask.array<shape=(55487,), chunksize=(55487,)>\n",
       "    gene_end             (gene) int64 dask.array<shape=(55487,), chunksize=(55487,)>\n",
       "  * cell                 (cell) object '10E_M_2245' '10E_M_2368' ... '9H_M_941'\n",
       "  * chrom100k            (chrom100k) int64 30 31 32 33 ... 26335 26336 26337\n",
       "    chrom100k_chrom      (chrom100k) object dask.array<shape=(24037,), chunksize=(24037,)>\n",
       "    chrom100k_bin_start  (chrom100k) int64 dask.array<shape=(24037,), chunksize=(24037,)>\n",
       "    chrom100k_bin_end    (chrom100k) int64 dask.array<shape=(24037,), chunksize=(24037,)>\n",
       "Data variables:\n",
       "    gene_da              (cell, gene, mc_type, count_type) uint16 dask.array<shape=(408, 55487, 2, 2), chunksize=(408, 55487, 2, 2)>\n",
       "    chrom100k_da         (cell, chrom100k, mc_type, count_type) uint16 dask.array<shape=(408, 24037, 2, 2), chunksize=(408, 24037, 2, 2)>"
      ]
     },
     "execution_count": 15,
     "metadata": {},
     "output_type": "execute_result"
    }
   ],
   "source": [
    "mcds"
   ]
  },
  {
   "cell_type": "markdown",
   "metadata": {
    "papermill": {
     "duration": 0.013076,
     "end_time": "2019-11-24T01:20:23.371174",
     "exception": false,
     "start_time": "2019-11-24T01:20:23.358098",
     "status": "completed"
    },
    "tags": []
   },
   "source": [
    "## Add rate"
   ]
  },
  {
   "cell_type": "code",
   "execution_count": 16,
   "metadata": {
    "papermill": {
     "duration": 0.047809,
     "end_time": "2019-11-24T01:20:23.432002",
     "exception": false,
     "start_time": "2019-11-24T01:20:23.384193",
     "status": "completed"
    },
    "tags": []
   },
   "outputs": [],
   "source": [
    "mcds.add_mc_rate(dim=clustering_feature, da=f'{clustering_feature}_da')"
   ]
  },
  {
   "cell_type": "code",
   "execution_count": 17,
   "metadata": {
    "papermill": {
     "duration": 4.119209,
     "end_time": "2019-11-24T01:20:27.564717",
     "exception": false,
     "start_time": "2019-11-24T01:20:23.445508",
     "status": "completed"
    },
    "tags": []
   },
   "outputs": [],
   "source": [
    "data = mcds[f'{clustering_feature}_da_rate'].sel(mc_type=mc_type).values"
   ]
  },
  {
   "cell_type": "markdown",
   "metadata": {
    "papermill": {
     "duration": 0.013788,
     "end_time": "2019-11-24T01:20:27.593267",
     "exception": false,
     "start_time": "2019-11-24T01:20:27.579479",
     "status": "completed"
    },
    "tags": []
   },
   "source": [
    "## Make Adata"
   ]
  },
  {
   "cell_type": "code",
   "execution_count": 18,
   "metadata": {
    "papermill": {
     "duration": 0.075085,
     "end_time": "2019-11-24T01:20:27.681862",
     "exception": false,
     "start_time": "2019-11-24T01:20:27.606777",
     "status": "completed"
    },
    "tags": []
   },
   "outputs": [
    {
     "name": "stderr",
     "output_type": "stream",
     "text": [
      "Transforming to str index.\n"
     ]
    }
   ],
   "source": [
    "adata = anndata.AnnData(X=data,\n",
    "                        obs=cell_tidy_data.reindex(mcds.get_index('cell')),\n",
    "                        var=feature_bed_df.reindex(\n",
    "                            mcds.get_index(clustering_feature)))"
   ]
  },
  {
   "cell_type": "code",
   "execution_count": 19,
   "metadata": {
    "papermill": {
     "duration": 0.023562,
     "end_time": "2019-11-24T01:20:27.720056",
     "exception": false,
     "start_time": "2019-11-24T01:20:27.696494",
     "status": "completed"
    },
    "tags": []
   },
   "outputs": [
    {
     "data": {
      "text/plain": [
       "AnnData object with n_obs × n_vars = 408 × 24037 \n",
       "    obs: 'AllcPath', 'CCC_Rate', 'CG_Rate', 'CG_RateAdj', 'CH_Rate', 'CH_RateAdj', 'FinalReads', 'InputReads', 'MappedReads', 'Region', 'index_name', 'uid', 'BamFilteringRate', 'MappingRate', 'Pos96', 'Plate', 'Col96', 'Row96', 'Col384', 'Row384', 'FACS_Date', 'Slice', 'MajorRegion', 'SubRegion', 'CellClass', 'l1-umap_0', 'l1-umap_1', 'l1-tsne_0', 'l1-tsne_1', 'MajorType', 'l2-umap_0', 'l2-umap_1', 'l2-tsne_0', 'l2-tsne_1', 'SubType', 'l3-umap_0', 'l3-umap_1', 'l3-tsne_0', 'l3-tsne_1', 'L1CellClass', 'class_tsne_0', 'class_tsne_1', 'class_umap_0', 'class_umap_1', 'Order', 'RegionName', 'DetailRegion', 'PotentialOverlap (MMB)', 'Anterior (CCF coords)', 'Posterior (CCF coords)', 'MajorRegionColor', 'SubRegionColor', 'DissectionRegionColor'\n",
       "    var: 'chrom', 'start', 'end'"
      ]
     },
     "execution_count": 19,
     "metadata": {},
     "output_type": "execute_result"
    }
   ],
   "source": [
    "adata"
   ]
  },
  {
   "cell_type": "code",
   "execution_count": 20,
   "metadata": {
    "papermill": {
     "duration": 0.310498,
     "end_time": "2019-11-24T01:20:28.044123",
     "exception": false,
     "start_time": "2019-11-24T01:20:27.733625",
     "status": "completed"
    },
    "tags": []
   },
   "outputs": [
    {
     "name": "stderr",
     "output_type": "stream",
     "text": [
      "... storing 'Region' as categorical\n"
     ]
    },
    {
     "name": "stderr",
     "output_type": "stream",
     "text": [
      "... storing 'index_name' as categorical\n"
     ]
    },
    {
     "name": "stderr",
     "output_type": "stream",
     "text": [
      "... storing 'uid' as categorical\n"
     ]
    },
    {
     "name": "stderr",
     "output_type": "stream",
     "text": [
      "... storing 'Pos96' as categorical\n"
     ]
    },
    {
     "name": "stderr",
     "output_type": "stream",
     "text": [
      "... storing 'Plate' as categorical\n"
     ]
    },
    {
     "name": "stderr",
     "output_type": "stream",
     "text": [
      "... storing 'MajorRegion' as categorical\n"
     ]
    },
    {
     "name": "stderr",
     "output_type": "stream",
     "text": [
      "... storing 'SubRegion' as categorical\n"
     ]
    },
    {
     "name": "stderr",
     "output_type": "stream",
     "text": [
      "... storing 'CellClass' as categorical\n"
     ]
    },
    {
     "name": "stderr",
     "output_type": "stream",
     "text": [
      "... storing 'MajorType' as categorical\n"
     ]
    },
    {
     "name": "stderr",
     "output_type": "stream",
     "text": [
      "... storing 'SubType' as categorical\n"
     ]
    },
    {
     "name": "stderr",
     "output_type": "stream",
     "text": [
      "... storing 'L1CellClass' as categorical\n"
     ]
    },
    {
     "name": "stderr",
     "output_type": "stream",
     "text": [
      "... storing 'RegionName' as categorical\n"
     ]
    },
    {
     "name": "stderr",
     "output_type": "stream",
     "text": [
      "... storing 'DetailRegion' as categorical\n"
     ]
    },
    {
     "name": "stderr",
     "output_type": "stream",
     "text": [
      "... storing 'PotentialOverlap (MMB)' as categorical\n"
     ]
    },
    {
     "name": "stderr",
     "output_type": "stream",
     "text": [
      "... storing 'MajorRegionColor' as categorical\n"
     ]
    },
    {
     "name": "stderr",
     "output_type": "stream",
     "text": [
      "... storing 'SubRegionColor' as categorical\n"
     ]
    },
    {
     "name": "stderr",
     "output_type": "stream",
     "text": [
      "... storing 'DissectionRegionColor' as categorical\n"
     ]
    },
    {
     "name": "stderr",
     "output_type": "stream",
     "text": [
      "... storing 'chrom' as categorical\n"
     ]
    },
    {
     "name": "stderr",
     "output_type": "stream",
     "text": [
      "... storing 'start' as categorical\n"
     ]
    },
    {
     "name": "stderr",
     "output_type": "stream",
     "text": [
      "... storing 'end' as categorical\n"
     ]
    }
   ],
   "source": [
    "adata.write_h5ad(output_dir / 'cell_by_feature.cov_filter.rate.h5ad')"
   ]
  },
  {
   "cell_type": "code",
   "execution_count": null,
   "metadata": {
    "papermill": {
     "duration": 0.017654,
     "end_time": "2019-11-24T01:20:28.080254",
     "exception": false,
     "start_time": "2019-11-24T01:20:28.062600",
     "status": "completed"
    },
    "tags": []
   },
   "outputs": [],
   "source": []
  },
  {
   "cell_type": "code",
   "execution_count": null,
   "metadata": {
    "papermill": {
     "duration": 0.017292,
     "end_time": "2019-11-24T01:20:28.114816",
     "exception": false,
     "start_time": "2019-11-24T01:20:28.097524",
     "status": "completed"
    },
    "tags": []
   },
   "outputs": [],
   "source": []
  }
 ],
 "metadata": {
  "hide_input": false,
  "kernelspec": {
   "display_name": "Python 3",
   "language": "python",
   "name": "python3"
  },
  "language_info": {
   "codemirror_mode": {
    "name": "ipython",
    "version": 3
   },
   "file_extension": ".py",
   "mimetype": "text/x-python",
   "name": "python",
   "nbconvert_exporter": "python",
   "pygments_lexer": "ipython3",
   "version": "3.7.3"
  },
  "papermill": {
   "duration": 57.681036,
   "end_time": "2019-11-24T01:20:30.346144",
   "environment_variables": {},
   "exception": null,
   "input_path": "/home/hanliu/project/mouse_rostral_brain/study/FinalPredictionModelRecipe/prepare_cell_feature_matrix.ipynb",
   "output_path": "/home/hanliu/project/mouse_rostral_brain/study/FinalPredictionModelRecipe/NeuronPrediction/SubType/CA3-St18_SubType/prepare_cell_feature_matrix.ipynb",
   "parameters": {
    "black_list_path": "/home/hanliu/project/mouse_rostral_brain/misc/mm10-blacklist.v2.bed.gz",
    "cell_tidy_data_path": "/home/hanliu/project/mouse_rostral_brain/study/FinalPredictionModelRecipe/NeuronPrediction/SubType/CA3-St18_SubType/cell_tidy_data.msg",
    "cluster_col": "SubType",
    "clustering_feature": "chrom100k",
    "dask_distribute": true,
    "exclude_chromosome": [
     "chrM",
     "chrY"
    ],
    "in_memory": false,
    "max_feature_cov": 3000,
    "mc_type": "CHN",
    "mcds_path_list": [
     "/home/hanliu/project/mouse_rostral_brain/dataset/4H-180806.mcds",
     "/home/hanliu/project/mouse_rostral_brain/dataset/11E-190214.mcds",
     "/home/hanliu/project/mouse_rostral_brain/dataset/5A-190205.mcds",
     "/home/hanliu/project/mouse_rostral_brain/dataset/11E-190305.mcds",
     "/home/hanliu/project/mouse_rostral_brain/dataset/4H-180911.mcds",
     "/home/hanliu/project/mouse_rostral_brain/dataset/11F-190214.mcds",
     "/home/hanliu/project/mouse_rostral_brain/dataset/5A-190307.mcds",
     "/home/hanliu/project/mouse_rostral_brain/dataset/11F-190305.mcds",
     "/home/hanliu/project/mouse_rostral_brain/dataset/5B-180514.mcds",
     "/home/hanliu/project/mouse_rostral_brain/dataset/1A-180226.mcds",
     "/home/hanliu/project/mouse_rostral_brain/dataset/5B-180529.mcds",
     "/home/hanliu/project/mouse_rostral_brain/dataset/1A-180227.mcds",
     "/home/hanliu/project/mouse_rostral_brain/dataset/5F-181218.mcds",
     "/home/hanliu/project/mouse_rostral_brain/dataset/1B-180119.mcds",
     "/home/hanliu/project/mouse_rostral_brain/dataset/5F-181220.mcds",
     "/home/hanliu/project/mouse_rostral_brain/dataset/1B-180213.mcds",
     "/home/hanliu/project/mouse_rostral_brain/dataset/5G-181008.mcds",
     "/home/hanliu/project/mouse_rostral_brain/dataset/1C-180208.mcds",
     "/home/hanliu/project/mouse_rostral_brain/dataset/5G-181009.mcds",
     "/home/hanliu/project/mouse_rostral_brain/dataset/1C-180212.mcds",
     "/home/hanliu/project/mouse_rostral_brain/dataset/5H-181015.mcds",
     "/home/hanliu/project/mouse_rostral_brain/dataset/2A-180122.mcds",
     "/home/hanliu/project/mouse_rostral_brain/dataset/5H-181016.mcds",
     "/home/hanliu/project/mouse_rostral_brain/dataset/2A-180123.mcds",
     "/home/hanliu/project/mouse_rostral_brain/dataset/5J-180904.mcds",
     "/home/hanliu/project/mouse_rostral_brain/dataset/2B-180305.mcds",
     "/home/hanliu/project/mouse_rostral_brain/dataset/5J-180910.mcds",
     "/home/hanliu/project/mouse_rostral_brain/dataset/2B-180306.mcds",
     "/home/hanliu/project/mouse_rostral_brain/dataset/5J-190207.mcds",
     "/home/hanliu/project/mouse_rostral_brain/dataset/2C-180409.mcds",
     "/home/hanliu/project/mouse_rostral_brain/dataset/6A-190108.mcds",
     "/home/hanliu/project/mouse_rostral_brain/dataset/2C-180410.mcds",
     "/home/hanliu/project/mouse_rostral_brain/dataset/6A-190117.mcds",
     "/home/hanliu/project/mouse_rostral_brain/dataset/2D-180313.mcds",
     "/home/hanliu/project/mouse_rostral_brain/dataset/6B-181022.mcds",
     "/home/hanliu/project/mouse_rostral_brain/dataset/2D-180319.mcds",
     "/home/hanliu/project/mouse_rostral_brain/dataset/6B-181023.mcds",
     "/home/hanliu/project/mouse_rostral_brain/dataset/2D-180403.mcds",
     "/home/hanliu/project/mouse_rostral_brain/dataset/6C-190122.mcds",
     "/home/hanliu/project/mouse_rostral_brain/dataset/2E-180220.mcds",
     "/home/hanliu/project/mouse_rostral_brain/dataset/6C-190124.mcds",
     "/home/hanliu/project/mouse_rostral_brain/dataset/2E-180222.mcds",
     "/home/hanliu/project/mouse_rostral_brain/dataset/6D-190131.mcds",
     "/home/hanliu/project/mouse_rostral_brain/dataset/3A-180129.mcds",
     "/home/hanliu/project/mouse_rostral_brain/dataset/6D-190205.mcds",
     "/home/hanliu/project/mouse_rostral_brain/dataset/3A-180130.mcds",
     "/home/hanliu/project/mouse_rostral_brain/dataset/7B-180423.mcds",
     "/home/hanliu/project/mouse_rostral_brain/dataset/3B-180312.mcds",
     "/home/hanliu/project/mouse_rostral_brain/dataset/7B-180424.mcds",
     "/home/hanliu/project/mouse_rostral_brain/dataset/3B-180501.mcds",
     "/home/hanliu/project/mouse_rostral_brain/dataset/8B-180426.mcds",
     "/home/hanliu/project/mouse_rostral_brain/dataset/3C-171206.mcds",
     "/home/hanliu/project/mouse_rostral_brain/dataset/8B-180430.mcds",
     "/home/hanliu/project/mouse_rostral_brain/dataset/3C-171207.mcds",
     "/home/hanliu/project/mouse_rostral_brain/dataset/9H-190212.mcds",
     "/home/hanliu/project/mouse_rostral_brain/dataset/3D-180412.mcds",
     "/home/hanliu/project/mouse_rostral_brain/dataset/9H-190219.mcds",
     "/home/hanliu/project/mouse_rostral_brain/dataset/3D-180416.mcds",
     "/home/hanliu/project/mouse_rostral_brain/dataset/9J-190212.mcds",
     "/home/hanliu/project/mouse_rostral_brain/dataset/3E-180320.mcds",
     "/home/hanliu/project/mouse_rostral_brain/dataset/9J-190219.mcds",
     "/home/hanliu/project/mouse_rostral_brain/dataset/3E-180326.mcds",
     "/home/hanliu/project/mouse_rostral_brain/dataset/11B-190314.mcds",
     "/home/hanliu/project/mouse_rostral_brain/dataset/3F-180109.mcds",
     "/home/hanliu/project/mouse_rostral_brain/dataset/11B-190325.mcds",
     "/home/hanliu/project/mouse_rostral_brain/dataset/3F-180405.mcds",
     "/home/hanliu/project/mouse_rostral_brain/dataset/12B-190314.mcds",
     "/home/hanliu/project/mouse_rostral_brain/dataset/4A-180205.mcds",
     "/home/hanliu/project/mouse_rostral_brain/dataset/12B-190325.mcds",
     "/home/hanliu/project/mouse_rostral_brain/dataset/4A-180206.mcds",
     "/home/hanliu/project/mouse_rostral_brain/dataset/9B-190326.mcds",
     "/home/hanliu/project/mouse_rostral_brain/dataset/4B-171212.mcds",
     "/home/hanliu/project/mouse_rostral_brain/dataset/9B-190404.mcds",
     "/home/hanliu/project/mouse_rostral_brain/dataset/4B-171213.mcds",
     "/home/hanliu/project/mouse_rostral_brain/dataset/9D-190326.mcds",
     "/home/hanliu/project/mouse_rostral_brain/dataset/4B-180104.mcds",
     "/home/hanliu/project/mouse_rostral_brain/dataset/9D-190404.mcds",
     "/home/hanliu/project/mouse_rostral_brain/dataset/4C-180417.mcds",
     "/home/hanliu/project/mouse_rostral_brain/dataset/10E-190625.mcds",
     "/home/hanliu/project/mouse_rostral_brain/dataset/4C-180419.mcds",
     "/home/hanliu/project/mouse_rostral_brain/dataset/10E-190627.mcds",
     "/home/hanliu/project/mouse_rostral_brain/dataset/4D-171214.mcds",
     "/home/hanliu/project/mouse_rostral_brain/dataset/10F-190625.mcds",
     "/home/hanliu/project/mouse_rostral_brain/dataset/4D-171219.mcds",
     "/home/hanliu/project/mouse_rostral_brain/dataset/10F-190627.mcds",
     "/home/hanliu/project/mouse_rostral_brain/dataset/4E-180110.mcds",
     "/home/hanliu/project/mouse_rostral_brain/dataset/10G-190423.mcds",
     "/home/hanliu/project/mouse_rostral_brain/dataset/4E-180111.mcds",
     "/home/hanliu/project/mouse_rostral_brain/dataset/10G-190523.mcds",
     "/home/hanliu/project/mouse_rostral_brain/dataset/4F-180329.mcds",
     "/home/hanliu/project/mouse_rostral_brain/dataset/8E-190711.mcds",
     "/home/hanliu/project/mouse_rostral_brain/dataset/4F-180402.mcds",
     "/home/hanliu/project/mouse_rostral_brain/dataset/8E-190716.mcds",
     "/home/hanliu/project/mouse_rostral_brain/dataset/4G-180917.mcds",
     "/home/hanliu/project/mouse_rostral_brain/dataset/8J-190711.mcds",
     "/home/hanliu/project/mouse_rostral_brain/dataset/4G-181204.mcds",
     "/home/hanliu/project/mouse_rostral_brain/dataset/8J-190716.mcds",
     "/home/hanliu/project/mouse_rostral_brain/dataset/4H-180724.mcds",
     "/home/hanliu/project/mouse_rostral_brain/dataset/5C-181002.mcds",
     "/home/hanliu/project/mouse_rostral_brain/dataset/10A-190423.mcds",
     "/home/hanliu/project/mouse_rostral_brain/dataset/5C-181210.mcds",
     "/home/hanliu/project/mouse_rostral_brain/dataset/10A-190525.mcds",
     "/home/hanliu/project/mouse_rostral_brain/dataset/5D-180605.mcds",
     "/home/hanliu/project/mouse_rostral_brain/dataset/10C-190411.mcds",
     "/home/hanliu/project/mouse_rostral_brain/dataset/5D-180612.mcds",
     "/home/hanliu/project/mouse_rostral_brain/dataset/10C-190418.mcds",
     "/home/hanliu/project/mouse_rostral_brain/dataset/5E-180925.mcds",
     "/home/hanliu/project/mouse_rostral_brain/dataset/11C-190530.mcds",
     "/home/hanliu/project/mouse_rostral_brain/dataset/5E-181206.mcds",
     "/home/hanliu/project/mouse_rostral_brain/dataset/11C-190620.mcds",
     "/home/hanliu/project/mouse_rostral_brain/dataset/7G-190702.mcds",
     "/home/hanliu/project/mouse_rostral_brain/dataset/7G-190709.mcds",
     "/home/hanliu/project/mouse_rostral_brain/dataset/8F-190718.mcds",
     "/home/hanliu/project/mouse_rostral_brain/dataset/8F-190723.mcds",
     "/home/hanliu/project/mouse_rostral_brain/dataset/9A-190702.mcds",
     "/home/hanliu/project/mouse_rostral_brain/dataset/9A-190709.mcds",
     "/home/hanliu/project/mouse_rostral_brain/dataset/9C-190530.mcds",
     "/home/hanliu/project/mouse_rostral_brain/dataset/9C-190620.mcds"
    ],
    "min_feature_cov": 500
   },
   "start_time": "2019-11-24T01:19:32.665108",
   "version": "1.0.1"
  },
  "toc": {
   "base_numbering": 1,
   "nav_menu": {},
   "number_sections": true,
   "sideBar": true,
   "skip_h1_title": true,
   "title_cell": "Table of Contents",
   "title_sidebar": "Contents",
   "toc_cell": false,
   "toc_position": {},
   "toc_section_display": true,
   "toc_window_display": true
  }
 },
 "nbformat": 4,
 "nbformat_minor": 2
}