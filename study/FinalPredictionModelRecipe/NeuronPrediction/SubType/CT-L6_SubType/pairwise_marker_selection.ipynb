{
 "cells": [
  {
   "cell_type": "markdown",
   "metadata": {
    "papermill": {
     "duration": 0.010234,
     "end_time": "2019-11-24T01:30:17.962731",
     "exception": false,
     "start_time": "2019-11-24T01:30:17.952497",
     "status": "completed"
    },
    "tags": []
   },
   "source": [
    "## Marker Selection"
   ]
  },
  {
   "cell_type": "code",
   "execution_count": 1,
   "metadata": {
    "ExecuteTime": {
     "end_time": "2019-11-24T20:42:38.974797Z",
     "start_time": "2019-11-24T20:42:37.101105Z"
    },
    "papermill": {
     "duration": 1.937486,
     "end_time": "2019-11-24T01:30:19.910654",
     "exception": false,
     "start_time": "2019-11-24T01:30:17.973168",
     "status": "completed"
    },
    "tags": []
   },
   "outputs": [],
   "source": [
    "from concurrent.futures import ProcessPoolExecutor, as_completed\n",
    "from itertools import combinations\n",
    "\n",
    "import anndata\n",
    "import matplotlib.pyplot as plt\n",
    "import pandas as pd\n",
    "import scanpy as sc\n",
    "import seaborn as sns\n",
    "import pathlib\n",
    "from cemba_data.tools.hdf5.anndata import rank_features_groups"
   ]
  },
  {
   "cell_type": "markdown",
   "metadata": {
    "papermill": {
     "duration": 0.009417,
     "end_time": "2019-11-24T01:30:19.930434",
     "exception": false,
     "start_time": "2019-11-24T01:30:19.921017",
     "status": "completed"
    },
    "tags": []
   },
   "source": [
    "## Parameter"
   ]
  },
  {
   "cell_type": "code",
   "execution_count": 2,
   "metadata": {
    "ExecuteTime": {
     "end_time": "2019-11-24T20:42:38.979457Z",
     "start_time": "2019-11-24T20:42:38.976543Z"
    },
    "papermill": {
     "duration": 0.015152,
     "end_time": "2019-11-24T01:30:19.954679",
     "exception": false,
     "start_time": "2019-11-24T01:30:19.939527",
     "status": "completed"
    },
    "tags": [
     "parameters"
    ]
   },
   "outputs": [],
   "source": [
    "cluster_col = 'SubType'\n",
    "min_cluster_cell_number = 10\n",
    "exclude_str = ['Outlier']\n",
    "adj_p_cutoff = 1e-5\n",
    "log2fc_cutoff = 1\n",
    "top_n = 10\n",
    "cpu = 10"
   ]
  },
  {
   "cell_type": "code",
   "execution_count": 4,
   "metadata": {
    "ExecuteTime": {
     "end_time": "2019-11-24T20:42:42.396363Z",
     "start_time": "2019-11-24T20:42:42.393868Z"
    },
    "papermill": {
     "duration": 0.014807,
     "end_time": "2019-11-24T01:30:19.978419",
     "exception": false,
     "start_time": "2019-11-24T01:30:19.963612",
     "status": "completed"
    },
    "tags": [
     "injected-parameters"
    ]
   },
   "outputs": [],
   "source": [
    "# Parameters\n",
    "cluster_col = \"SubType\"\n",
    "min_cluster_cell_number = 10\n",
    "exclude_str = [\"Outlier\", \"NonN\"]\n",
    "adj_p_cutoff = 1e-03\n",
    "log2fc_cutoff = 0.5\n",
    "top_n = 20\n",
    "cpu = 10\n"
   ]
  },
  {
   "cell_type": "markdown",
   "metadata": {
    "papermill": {
     "duration": 0.008968,
     "end_time": "2019-11-24T01:30:19.996334",
     "exception": false,
     "start_time": "2019-11-24T01:30:19.987366",
     "status": "completed"
    },
    "tags": []
   },
   "source": [
    "### Stable Parameter"
   ]
  },
  {
   "cell_type": "code",
   "execution_count": 5,
   "metadata": {
    "ExecuteTime": {
     "end_time": "2019-11-24T20:42:42.814517Z",
     "start_time": "2019-11-24T20:42:42.811777Z"
    },
    "papermill": {
     "duration": 0.014545,
     "end_time": "2019-11-24T01:30:20.019855",
     "exception": false,
     "start_time": "2019-11-24T01:30:20.005310",
     "status": "completed"
    },
    "tags": []
   },
   "outputs": [],
   "source": [
    "adata_path = 'Adata/cell_by_feature.cov_filter.rate.h5ad'\n",
    "max_test_cell_population = 1000\n",
    "random_seed = 0\n",
    "chunk_size=200\n",
    "output_dir = 'Markers'\n",
    "output_dir = pathlib.Path(output_dir)\n",
    "output_dir.mkdir(exist_ok=True)"
   ]
  },
  {
   "cell_type": "markdown",
   "metadata": {
    "papermill": {
     "duration": 0.009219,
     "end_time": "2019-11-24T01:30:20.039144",
     "exception": false,
     "start_time": "2019-11-24T01:30:20.029925",
     "status": "completed"
    },
    "tags": []
   },
   "source": [
    "## Load Data"
   ]
  },
  {
   "cell_type": "code",
   "execution_count": 6,
   "metadata": {
    "ExecuteTime": {
     "end_time": "2019-11-24T20:42:45.213294Z",
     "start_time": "2019-11-24T20:42:43.503246Z"
    },
    "papermill": {
     "duration": 1.360718,
     "end_time": "2019-11-24T01:30:21.408849",
     "exception": false,
     "start_time": "2019-11-24T01:30:20.048131",
     "status": "completed"
    },
    "tags": []
   },
   "outputs": [
    {
     "data": {
      "text/plain": [
       "AnnData object with n_obs × n_vars = 8716 × 24026 \n",
       "    obs: 'AllcPath', 'CCC_Rate', 'CG_Rate', 'CG_RateAdj', 'CH_Rate', 'CH_RateAdj', 'FinalReads', 'InputReads', 'MappedReads', 'Region', 'index_name', 'uid', 'BamFilteringRate', 'MappingRate', 'Pos96', 'Plate', 'Col96', 'Row96', 'Col384', 'Row384', 'FACS_Date', 'Slice', 'MajorRegion', 'SubRegion', 'CellClass', 'l1-umap_0', 'l1-umap_1', 'l1-tsne_0', 'l1-tsne_1', 'MajorType', 'l2-umap_0', 'l2-umap_1', 'l2-tsne_0', 'l2-tsne_1', 'SubType', 'l3-umap_0', 'l3-umap_1', 'l3-tsne_0', 'l3-tsne_1', 'L1CellClass', 'class_tsne_0', 'class_tsne_1', 'class_umap_0', 'class_umap_1', 'Order', 'RegionName', 'DetailRegion', 'PotentialOverlap (MMB)', 'Anterior (CCF coords)', 'Posterior (CCF coords)', 'MajorRegionColor', 'SubRegionColor', 'DissectionRegionColor'\n",
       "    var: 'chrom', 'start', 'end'"
      ]
     },
     "execution_count": 6,
     "metadata": {},
     "output_type": "execute_result"
    }
   ],
   "source": [
    "adata = anndata.read_h5ad(adata_path)\n",
    "adata"
   ]
  },
  {
   "cell_type": "code",
   "execution_count": 7,
   "metadata": {
    "ExecuteTime": {
     "end_time": "2019-11-24T20:42:45.225006Z",
     "start_time": "2019-11-24T20:42:45.214710Z"
    },
    "papermill": {
     "duration": 0.022188,
     "end_time": "2019-11-24T01:30:21.440978",
     "exception": false,
     "start_time": "2019-11-24T01:30:21.418790",
     "status": "completed"
    },
    "tags": []
   },
   "outputs": [
    {
     "name": "stdout",
     "output_type": "stream",
     "text": [
      "4 pass filter.\n",
      "6 pairwise comparison to test.\n"
     ]
    }
   ],
   "source": [
    "cluster_series = adata.obs[cluster_col].astype(str)\n",
    "cluster_counts = cluster_series.value_counts()\n",
    "def check_cluster(cluster, count):\n",
    "    if count < min_cluster_cell_number:\n",
    "        return False\n",
    "    for exclude in exclude_str:\n",
    "        if exclude in cluster:\n",
    "            return False\n",
    "    return True\n",
    "\n",
    "unique_clusters = [cluster for cluster, count in cluster_counts.items() if check_cluster(cluster, count)]\n",
    "cluster_pairs = list(combinations(unique_clusters, 2))\n",
    "\n",
    "print(len(unique_clusters), 'pass filter.')\n",
    "print(len(cluster_pairs), 'pairwise comparison to test.')"
   ]
  },
  {
   "cell_type": "code",
   "execution_count": 8,
   "metadata": {
    "ExecuteTime": {
     "end_time": "2019-11-24T20:42:45.777772Z",
     "start_time": "2019-11-24T20:42:45.226335Z"
    },
    "papermill": {
     "duration": 0.572607,
     "end_time": "2019-11-24T01:30:22.023034",
     "exception": false,
     "start_time": "2019-11-24T01:30:21.450427",
     "status": "completed"
    },
    "tags": []
   },
   "outputs": [],
   "source": [
    "# filter adata as well\n",
    "adata = adata[adata.obs[cluster_col].isin(unique_clusters), :]"
   ]
  },
  {
   "cell_type": "markdown",
   "metadata": {
    "papermill": {
     "duration": 0.00963,
     "end_time": "2019-11-24T01:30:22.043019",
     "exception": false,
     "start_time": "2019-11-24T01:30:22.033389",
     "status": "completed"
    },
    "tags": []
   },
   "source": [
    "## Pairwise test"
   ]
  },
  {
   "cell_type": "code",
   "execution_count": 9,
   "metadata": {
    "ExecuteTime": {
     "end_time": "2019-11-24T20:42:45.787523Z",
     "start_time": "2019-11-24T20:42:45.779327Z"
    },
    "papermill": {
     "duration": 0.019847,
     "end_time": "2019-11-24T01:30:22.072482",
     "exception": false,
     "start_time": "2019-11-24T01:30:22.052635",
     "status": "completed"
    },
    "tags": []
   },
   "outputs": [],
   "source": [
    "def get_sig_features(rank_gene_dict):\n",
    "    pvals_adj = pd.DataFrame(rank_gene_dict['pvals_adj'])\n",
    "    names = pd.DataFrame(rank_gene_dict['names'])\n",
    "    logfoldchanges = pd.DataFrame(rank_gene_dict['logfoldchanges'])\n",
    "    gene_set = set(\n",
    "        names.where((pvals_adj < adj_p_cutoff)\n",
    "                    & (logfoldchanges.abs() > log2fc_cutoff)).values.flat)\n",
    "    return gene_set\n",
    "\n",
    "\n",
    "def pairwise_tests(adata_path, pairs):\n",
    "    adata = anndata.read_h5ad(adata_path)\n",
    "    total_markers = set()\n",
    "    pair_marker_count = {}\n",
    "    for pair in pairs:\n",
    "        cluster_a, cluster_b = pair\n",
    "        cluster_a_cells = cluster_series[cluster_series == cluster_a]\n",
    "        if cluster_a_cells.size > max_test_cell_population:\n",
    "            cluster_a_cells = cluster_a_cells.sample(max_test_cell_population,\n",
    "                                                     random_state=random_seed)\n",
    "        cluster_a_cells = cluster_a_cells.index\n",
    "    \n",
    "        cluster_b_cells = cluster_series[cluster_series == cluster_b]\n",
    "        if cluster_b_cells.size > max_test_cell_population:\n",
    "            cluster_b_cells = cluster_b_cells.sample(max_test_cell_population,\n",
    "                                                     random_state=random_seed)\n",
    "        cluster_b_cells = cluster_b_cells.index\n",
    "        cells = cluster_a_cells | cluster_b_cells\n",
    "        \n",
    "        pair_adata = adata[cells, :].copy()\n",
    "        pair_adata.obs['cluster'] = pair_adata.obs[cluster_col].astype(str).astype('category')\n",
    "        \n",
    "        rank_features_groups(pair_adata, groupby='cluster', n_genes=top_n)\n",
    "        gene_set = get_sig_features(pair_adata.uns['rank_genes_groups'])\n",
    "        # drop na\n",
    "        gene_set = set([i for i in gene_set if isinstance(i, str)])\n",
    "        \n",
    "        total_markers.update(gene_set)\n",
    "        pair_marker_count[pair] = len(gene_set)\n",
    "    return total_markers, pair_marker_count"
   ]
  },
  {
   "cell_type": "code",
   "execution_count": 10,
   "metadata": {
    "ExecuteTime": {
     "end_time": "2019-11-24T20:42:52.967730Z",
     "start_time": "2019-11-24T20:42:45.788924Z"
    },
    "papermill": {
     "duration": 7.457165,
     "end_time": "2019-11-24T01:30:29.539344",
     "exception": false,
     "start_time": "2019-11-24T01:30:22.082179",
     "status": "completed"
    },
    "scrolled": true,
    "tags": []
   },
   "outputs": [],
   "source": [
    "total_markers = set()\n",
    "pair_marker_counts = {}\n",
    "with ProcessPoolExecutor(cpu) as executor:\n",
    "    futures = []\n",
    "    for chunk_start in range(0, len(cluster_pairs), chunk_size):\n",
    "        pair_chunk = cluster_pairs[chunk_start:chunk_start+chunk_size]\n",
    "        future = executor.submit(pairwise_tests, adata_path, pair_chunk)\n",
    "        futures.append(future)\n",
    "        \n",
    "    for future in as_completed(futures):\n",
    "        genes, pair_marker_count = future.result()\n",
    "        total_markers.update(genes)\n",
    "        pair_marker_counts.update(pair_marker_count)"
   ]
  },
  {
   "cell_type": "markdown",
   "metadata": {
    "papermill": {
     "duration": 0.01013,
     "end_time": "2019-11-24T01:30:29.561471",
     "exception": false,
     "start_time": "2019-11-24T01:30:29.551341",
     "status": "completed"
    },
    "tags": []
   },
   "source": [
    "## Save results"
   ]
  },
  {
   "cell_type": "code",
   "execution_count": 11,
   "metadata": {
    "ExecuteTime": {
     "end_time": "2019-11-24T20:42:52.975905Z",
     "start_time": "2019-11-24T20:42:52.971085Z"
    },
    "papermill": {
     "duration": 0.01595,
     "end_time": "2019-11-24T01:30:29.586768",
     "exception": false,
     "start_time": "2019-11-24T01:30:29.570818",
     "status": "completed"
    },
    "tags": []
   },
   "outputs": [],
   "source": [
    "total_markers = set([i for i in total_markers if isinstance(i, str)])\n",
    "with open('Markers/cluster_markers.txt', 'w') as f:\n",
    "    f.write('\\n'.join(total_markers))"
   ]
  },
  {
   "cell_type": "code",
   "execution_count": 12,
   "metadata": {
    "ExecuteTime": {
     "end_time": "2019-11-24T20:42:52.988421Z",
     "start_time": "2019-11-24T20:42:52.977456Z"
    },
    "papermill": {
     "duration": 0.020931,
     "end_time": "2019-11-24T01:30:29.617315",
     "exception": false,
     "start_time": "2019-11-24T01:30:29.596384",
     "status": "completed"
    },
    "tags": []
   },
   "outputs": [],
   "source": [
    "pair_marker_counts = pd.Series(pair_marker_counts)\n",
    "marker_counts = pair_marker_counts.reset_index()\n",
    "marker_counts.columns = ['ClusterA', 'ClusterB', 'GeneCount']\n",
    "marker_counts.to_csv('Markers/cluster_pair_marker_counts.csv', index=None)"
   ]
  },
  {
   "cell_type": "code",
   "execution_count": 13,
   "metadata": {
    "ExecuteTime": {
     "end_time": "2019-11-24T20:42:52.999215Z",
     "start_time": "2019-11-24T20:42:52.989648Z"
    },
    "papermill": {
     "duration": 0.021495,
     "end_time": "2019-11-24T01:30:29.648156",
     "exception": false,
     "start_time": "2019-11-24T01:30:29.626661",
     "status": "completed"
    },
    "tags": []
   },
   "outputs": [
    {
     "data": {
      "text/html": [
       "<div>\n",
       "<style scoped>\n",
       "    .dataframe tbody tr th:only-of-type {\n",
       "        vertical-align: middle;\n",
       "    }\n",
       "\n",
       "    .dataframe tbody tr th {\n",
       "        vertical-align: top;\n",
       "    }\n",
       "\n",
       "    .dataframe thead th {\n",
       "        text-align: right;\n",
       "    }\n",
       "</style>\n",
       "<table border=\"1\" class=\"dataframe\">\n",
       "  <thead>\n",
       "    <tr style=\"text-align: right;\">\n",
       "      <th></th>\n",
       "      <th>ClusterA</th>\n",
       "      <th>ClusterB</th>\n",
       "      <th>GeneCount</th>\n",
       "    </tr>\n",
       "  </thead>\n",
       "  <tbody>\n",
       "  </tbody>\n",
       "</table>\n",
       "</div>"
      ],
      "text/plain": [
       "Empty DataFrame\n",
       "Columns: [ClusterA, ClusterB, GeneCount]\n",
       "Index: []"
      ]
     },
     "execution_count": 13,
     "metadata": {},
     "output_type": "execute_result"
    }
   ],
   "source": [
    "marker_counts[marker_counts['GeneCount'] < 3]"
   ]
  },
  {
   "cell_type": "code",
   "execution_count": 14,
   "metadata": {
    "ExecuteTime": {
     "end_time": "2019-11-24T20:42:53.501829Z",
     "start_time": "2019-11-24T20:42:53.000366Z"
    },
    "papermill": {
     "duration": 0.478628,
     "end_time": "2019-11-24T01:30:30.137239",
     "exception": false,
     "start_time": "2019-11-24T01:30:29.658611",
     "status": "completed"
    },
    "tags": []
   },
   "outputs": [],
   "source": [
    "marker_adata = adata[:, list(total_markers)]\n",
    "marker_adata.write_h5ad('Markers/cluster_markers.h5ad')"
   ]
  },
  {
   "cell_type": "code",
   "execution_count": 15,
   "metadata": {
    "ExecuteTime": {
     "end_time": "2019-11-24T20:42:53.506117Z",
     "start_time": "2019-11-24T20:42:53.503150Z"
    },
    "papermill": {
     "duration": 0.016027,
     "end_time": "2019-11-24T01:30:30.162975",
     "exception": false,
     "start_time": "2019-11-24T01:30:30.146948",
     "status": "completed"
    },
    "tags": []
   },
   "outputs": [
    {
     "data": {
      "text/plain": [
       "AnnData object with n_obs × n_vars = 8716 × 89 \n",
       "    obs: 'AllcPath', 'CCC_Rate', 'CG_Rate', 'CG_RateAdj', 'CH_Rate', 'CH_RateAdj', 'FinalReads', 'InputReads', 'MappedReads', 'Region', 'index_name', 'uid', 'BamFilteringRate', 'MappingRate', 'Pos96', 'Plate', 'Col96', 'Row96', 'Col384', 'Row384', 'FACS_Date', 'Slice', 'MajorRegion', 'SubRegion', 'CellClass', 'l1-umap_0', 'l1-umap_1', 'l1-tsne_0', 'l1-tsne_1', 'MajorType', 'l2-umap_0', 'l2-umap_1', 'l2-tsne_0', 'l2-tsne_1', 'SubType', 'l3-umap_0', 'l3-umap_1', 'l3-tsne_0', 'l3-tsne_1', 'L1CellClass', 'class_tsne_0', 'class_tsne_1', 'class_umap_0', 'class_umap_1', 'Order', 'RegionName', 'DetailRegion', 'PotentialOverlap (MMB)', 'Anterior (CCF coords)', 'Posterior (CCF coords)', 'MajorRegionColor', 'SubRegionColor', 'DissectionRegionColor'\n",
       "    var: 'chrom', 'start', 'end'"
      ]
     },
     "execution_count": 15,
     "metadata": {},
     "output_type": "execute_result"
    }
   ],
   "source": [
    "marker_adata"
   ]
  },
  {
   "cell_type": "code",
   "execution_count": null,
   "metadata": {
    "papermill": {
     "duration": 0.01008,
     "end_time": "2019-11-24T01:30:30.184038",
     "exception": false,
     "start_time": "2019-11-24T01:30:30.173958",
     "status": "completed"
    },
    "tags": []
   },
   "outputs": [],
   "source": []
  },
  {
   "cell_type": "code",
   "execution_count": null,
   "metadata": {
    "papermill": {
     "duration": 0.009729,
     "end_time": "2019-11-24T01:30:30.203673",
     "exception": false,
     "start_time": "2019-11-24T01:30:30.193944",
     "status": "completed"
    },
    "tags": []
   },
   "outputs": [],
   "source": []
  },
  {
   "cell_type": "code",
   "execution_count": null,
   "metadata": {
    "papermill": {
     "duration": 0.009741,
     "end_time": "2019-11-24T01:30:30.223248",
     "exception": false,
     "start_time": "2019-11-24T01:30:30.213507",
     "status": "completed"
    },
    "tags": []
   },
   "outputs": [],
   "source": []
  },
  {
   "cell_type": "code",
   "execution_count": null,
   "metadata": {
    "papermill": {
     "duration": 0.009728,
     "end_time": "2019-11-24T01:30:30.242949",
     "exception": false,
     "start_time": "2019-11-24T01:30:30.233221",
     "status": "completed"
    },
    "tags": []
   },
   "outputs": [],
   "source": []
  },
  {
   "cell_type": "code",
   "execution_count": null,
   "metadata": {
    "papermill": {
     "duration": 0.009683,
     "end_time": "2019-11-24T01:30:30.262440",
     "exception": false,
     "start_time": "2019-11-24T01:30:30.252757",
     "status": "completed"
    },
    "tags": []
   },
   "outputs": [],
   "source": []
  },
  {
   "cell_type": "code",
   "execution_count": null,
   "metadata": {
    "papermill": {
     "duration": 0.009797,
     "end_time": "2019-11-24T01:30:30.282218",
     "exception": false,
     "start_time": "2019-11-24T01:30:30.272421",
     "status": "completed"
    },
    "tags": []
   },
   "outputs": [],
   "source": []
  }
 ],
 "metadata": {
  "hide_input": false,
  "kernelspec": {
   "display_name": "Python 3",
   "language": "python",
   "name": "python3"
  },
  "language_info": {
   "codemirror_mode": {
    "name": "ipython",
    "version": 3
   },
   "file_extension": ".py",
   "mimetype": "text/x-python",
   "name": "python",
   "nbconvert_exporter": "python",
   "pygments_lexer": "ipython3",
   "version": "3.7.3"
  },
  "papermill": {
   "duration": 14.042211,
   "end_time": "2019-11-24T01:30:31.099978",
   "environment_variables": {},
   "exception": null,
   "input_path": "/home/hanliu/project/mouse_rostral_brain/study/FinalPredictionModelRecipe/pairwise_marker_selection.ipynb",
   "output_path": "/home/hanliu/project/mouse_rostral_brain/study/FinalPredictionModelRecipe/NeuronPrediction/SubType/CT-L6_SubType/pairwise_marker_selection.ipynb",
   "parameters": {
    "adj_p_cutoff": 1e-05,
    "cluster_col": "SubType",
    "cpu": 10,
    "exclude_str": [
     "Outlier",
     "NonN"
    ],
    "log2fc_cutoff": 1,
    "min_cluster_cell_number": 10,
    "top_n": 20
   },
   "start_time": "2019-11-24T01:30:17.057767",
   "version": "1.0.1"
  },
  "toc": {
   "base_numbering": 1,
   "nav_menu": {},
   "number_sections": true,
   "sideBar": true,
   "skip_h1_title": true,
   "title_cell": "Table of Contents",
   "title_sidebar": "Contents",
   "toc_cell": false,
   "toc_position": {},
   "toc_section_display": true,
   "toc_window_display": true
  }
 },
 "nbformat": 4,
 "nbformat_minor": 2
}
