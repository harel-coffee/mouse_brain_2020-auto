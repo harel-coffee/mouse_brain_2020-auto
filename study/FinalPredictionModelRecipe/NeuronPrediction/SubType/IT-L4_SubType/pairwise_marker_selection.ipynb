{
 "cells": [
  {
   "cell_type": "markdown",
   "metadata": {
    "papermill": {
     "duration": 0.010884,
     "end_time": "2019-11-24T04:23:56.043643",
     "exception": false,
     "start_time": "2019-11-24T04:23:56.032759",
     "status": "completed"
    },
    "tags": []
   },
   "source": [
    "## Marker Selection"
   ]
  },
  {
   "cell_type": "code",
   "execution_count": 1,
   "metadata": {
    "ExecuteTime": {
     "end_time": "2019-11-24T20:40:05.748375Z",
     "start_time": "2019-11-24T20:40:03.854727Z"
    },
    "papermill": {
     "duration": 2.091018,
     "end_time": "2019-11-24T04:23:58.146124",
     "exception": false,
     "start_time": "2019-11-24T04:23:56.055106",
     "status": "completed"
    },
    "tags": []
   },
   "outputs": [],
   "source": [
    "from concurrent.futures import ProcessPoolExecutor, as_completed\n",
    "from itertools import combinations\n",
    "\n",
    "import anndata\n",
    "import matplotlib.pyplot as plt\n",
    "import pandas as pd\n",
    "import scanpy as sc\n",
    "import seaborn as sns\n",
    "import pathlib\n",
    "from cemba_data.tools.hdf5.anndata import rank_features_groups"
   ]
  },
  {
   "cell_type": "markdown",
   "metadata": {
    "papermill": {
     "duration": 0.010354,
     "end_time": "2019-11-24T04:23:58.167996",
     "exception": false,
     "start_time": "2019-11-24T04:23:58.157642",
     "status": "completed"
    },
    "tags": []
   },
   "source": [
    "## Parameter"
   ]
  },
  {
   "cell_type": "code",
   "execution_count": 2,
   "metadata": {
    "ExecuteTime": {
     "end_time": "2019-11-24T20:40:05.753166Z",
     "start_time": "2019-11-24T20:40:05.750191Z"
    },
    "papermill": {
     "duration": 0.016291,
     "end_time": "2019-11-24T04:23:58.194578",
     "exception": false,
     "start_time": "2019-11-24T04:23:58.178287",
     "status": "completed"
    },
    "tags": [
     "parameters"
    ]
   },
   "outputs": [],
   "source": [
    "cluster_col = 'SubType'\n",
    "min_cluster_cell_number = 10\n",
    "exclude_str = ['Outlier']\n",
    "adj_p_cutoff = 1e-5\n",
    "log2fc_cutoff = 1\n",
    "top_n = 10\n",
    "cpu = 10"
   ]
  },
  {
   "cell_type": "code",
   "execution_count": 13,
   "metadata": {
    "ExecuteTime": {
     "end_time": "2019-11-24T20:40:27.924604Z",
     "start_time": "2019-11-24T20:40:27.921741Z"
    },
    "papermill": {
     "duration": 0.015731,
     "end_time": "2019-11-24T04:23:58.220351",
     "exception": false,
     "start_time": "2019-11-24T04:23:58.204620",
     "status": "completed"
    },
    "tags": [
     "injected-parameters"
    ]
   },
   "outputs": [],
   "source": [
    "# Parameters\n",
    "cluster_col = \"SubType\"\n",
    "min_cluster_cell_number = 10\n",
    "exclude_str = [\"Outlier\", \"NonN\"]\n",
    "adj_p_cutoff = 1e-03\n",
    "log2fc_cutoff = 0.5\n",
    "top_n = 20\n",
    "cpu = 10\n"
   ]
  },
  {
   "cell_type": "markdown",
   "metadata": {
    "papermill": {
     "duration": 0.009949,
     "end_time": "2019-11-24T04:23:58.240519",
     "exception": false,
     "start_time": "2019-11-24T04:23:58.230570",
     "status": "completed"
    },
    "tags": []
   },
   "source": [
    "### Stable Parameter"
   ]
  },
  {
   "cell_type": "code",
   "execution_count": 14,
   "metadata": {
    "ExecuteTime": {
     "end_time": "2019-11-24T20:40:28.629723Z",
     "start_time": "2019-11-24T20:40:28.626803Z"
    },
    "papermill": {
     "duration": 0.016154,
     "end_time": "2019-11-24T04:23:58.266800",
     "exception": false,
     "start_time": "2019-11-24T04:23:58.250646",
     "status": "completed"
    },
    "tags": []
   },
   "outputs": [],
   "source": [
    "adata_path = 'Adata/cell_by_feature.cov_filter.rate.h5ad'\n",
    "max_test_cell_population = 1000\n",
    "random_seed = 0\n",
    "chunk_size=200\n",
    "output_dir = 'Markers'\n",
    "output_dir = pathlib.Path(output_dir)\n",
    "output_dir.mkdir(exist_ok=True)"
   ]
  },
  {
   "cell_type": "markdown",
   "metadata": {
    "papermill": {
     "duration": 0.010349,
     "end_time": "2019-11-24T04:23:58.288493",
     "exception": false,
     "start_time": "2019-11-24T04:23:58.278144",
     "status": "completed"
    },
    "tags": []
   },
   "source": [
    "## Load Data"
   ]
  },
  {
   "cell_type": "code",
   "execution_count": 15,
   "metadata": {
    "ExecuteTime": {
     "end_time": "2019-11-24T20:40:29.843879Z",
     "start_time": "2019-11-24T20:40:29.159848Z"
    },
    "papermill": {
     "duration": 0.772802,
     "end_time": "2019-11-24T04:23:59.071513",
     "exception": false,
     "start_time": "2019-11-24T04:23:58.298711",
     "status": "completed"
    },
    "tags": []
   },
   "outputs": [
    {
     "data": {
      "text/plain": [
       "AnnData object with n_obs × n_vars = 4347 × 24034 \n",
       "    obs: 'AllcPath', 'CCC_Rate', 'CG_Rate', 'CG_RateAdj', 'CH_Rate', 'CH_RateAdj', 'FinalReads', 'InputReads', 'MappedReads', 'Region', 'index_name', 'uid', 'BamFilteringRate', 'MappingRate', 'Pos96', 'Plate', 'Col96', 'Row96', 'Col384', 'Row384', 'FACS_Date', 'Slice', 'CellClass', 'l1-umap_0', 'l1-umap_1', 'l1-tsne_0', 'l1-tsne_1', 'MajorType', 'l2-umap_0', 'l2-umap_1', 'l2-tsne_0', 'l2-tsne_1', 'SubType', 'l3-umap_0', 'l3-umap_1', 'l3-tsne_0', 'l3-tsne_1', 'L1CellClass', 'class_tsne_0', 'class_tsne_1', 'class_umap_0', 'class_umap_1', 'Order', 'RegionName', 'MajorRegion', 'SubRegion', 'DetailRegion', 'PotentialOverlap (MMB)', 'Anterior (CCF coords)', 'Posterior (CCF coords)', 'MajorRegionColor', 'SubRegionColor', 'DissectionRegionColor'\n",
       "    var: 'chrom', 'start', 'end'"
      ]
     },
     "execution_count": 15,
     "metadata": {},
     "output_type": "execute_result"
    }
   ],
   "source": [
    "adata = anndata.read_h5ad(adata_path)\n",
    "adata"
   ]
  },
  {
   "cell_type": "code",
   "execution_count": 16,
   "metadata": {
    "ExecuteTime": {
     "end_time": "2019-11-24T20:40:29.853218Z",
     "start_time": "2019-11-24T20:40:29.845555Z"
    },
    "papermill": {
     "duration": 0.023291,
     "end_time": "2019-11-24T04:23:59.106721",
     "exception": false,
     "start_time": "2019-11-24T04:23:59.083430",
     "status": "completed"
    },
    "tags": []
   },
   "outputs": [
    {
     "name": "stdout",
     "output_type": "stream",
     "text": [
      "2 pass filter.\n",
      "1 pairwise comparison to test.\n"
     ]
    }
   ],
   "source": [
    "cluster_series = adata.obs[cluster_col].astype(str)\n",
    "cluster_counts = cluster_series.value_counts()\n",
    "def check_cluster(cluster, count):\n",
    "    if count < min_cluster_cell_number:\n",
    "        return False\n",
    "    for exclude in exclude_str:\n",
    "        if exclude in cluster:\n",
    "            return False\n",
    "    return True\n",
    "\n",
    "unique_clusters = [cluster for cluster, count in cluster_counts.items() if check_cluster(cluster, count)]\n",
    "cluster_pairs = list(combinations(unique_clusters, 2))\n",
    "\n",
    "print(len(unique_clusters), 'pass filter.')\n",
    "print(len(cluster_pairs), 'pairwise comparison to test.')"
   ]
  },
  {
   "cell_type": "code",
   "execution_count": 17,
   "metadata": {
    "ExecuteTime": {
     "end_time": "2019-11-24T20:40:30.133433Z",
     "start_time": "2019-11-24T20:40:29.854684Z"
    },
    "papermill": {
     "duration": 0.313231,
     "end_time": "2019-11-24T04:23:59.430871",
     "exception": false,
     "start_time": "2019-11-24T04:23:59.117640",
     "status": "completed"
    },
    "tags": []
   },
   "outputs": [],
   "source": [
    "# filter adata as well\n",
    "adata = adata[adata.obs[cluster_col].isin(unique_clusters), :]"
   ]
  },
  {
   "cell_type": "markdown",
   "metadata": {
    "papermill": {
     "duration": 0.011011,
     "end_time": "2019-11-24T04:23:59.453909",
     "exception": false,
     "start_time": "2019-11-24T04:23:59.442898",
     "status": "completed"
    },
    "tags": []
   },
   "source": [
    "## Pairwise test"
   ]
  },
  {
   "cell_type": "code",
   "execution_count": 18,
   "metadata": {
    "ExecuteTime": {
     "end_time": "2019-11-24T20:40:30.802484Z",
     "start_time": "2019-11-24T20:40:30.794694Z"
    },
    "papermill": {
     "duration": 0.022064,
     "end_time": "2019-11-24T04:23:59.486768",
     "exception": false,
     "start_time": "2019-11-24T04:23:59.464704",
     "status": "completed"
    },
    "tags": []
   },
   "outputs": [],
   "source": [
    "def get_sig_features(rank_gene_dict):\n",
    "    pvals_adj = pd.DataFrame(rank_gene_dict['pvals_adj'])\n",
    "    names = pd.DataFrame(rank_gene_dict['names'])\n",
    "    logfoldchanges = pd.DataFrame(rank_gene_dict['logfoldchanges'])\n",
    "    gene_set = set(\n",
    "        names.where((pvals_adj < adj_p_cutoff)\n",
    "                    & (logfoldchanges.abs() > log2fc_cutoff)).values.flat)\n",
    "    return gene_set\n",
    "\n",
    "\n",
    "def pairwise_tests(adata_path, pairs):\n",
    "    adata = anndata.read_h5ad(adata_path)\n",
    "    total_markers = set()\n",
    "    pair_marker_count = {}\n",
    "    for pair in pairs:\n",
    "        cluster_a, cluster_b = pair\n",
    "        cluster_a_cells = cluster_series[cluster_series == cluster_a]\n",
    "        if cluster_a_cells.size > max_test_cell_population:\n",
    "            cluster_a_cells = cluster_a_cells.sample(max_test_cell_population,\n",
    "                                                     random_state=random_seed)\n",
    "        cluster_a_cells = cluster_a_cells.index\n",
    "    \n",
    "        cluster_b_cells = cluster_series[cluster_series == cluster_b]\n",
    "        if cluster_b_cells.size > max_test_cell_population:\n",
    "            cluster_b_cells = cluster_b_cells.sample(max_test_cell_population,\n",
    "                                                     random_state=random_seed)\n",
    "        cluster_b_cells = cluster_b_cells.index\n",
    "        cells = cluster_a_cells | cluster_b_cells\n",
    "        \n",
    "        pair_adata = adata[cells, :].copy()\n",
    "        pair_adata.obs['cluster'] = pair_adata.obs[cluster_col].astype(str).astype('category')\n",
    "        \n",
    "        rank_features_groups(pair_adata, groupby='cluster', n_genes=top_n)\n",
    "        gene_set = get_sig_features(pair_adata.uns['rank_genes_groups'])\n",
    "        # drop na\n",
    "        gene_set = set([i for i in gene_set if isinstance(i, str)])\n",
    "        \n",
    "        total_markers.update(gene_set)\n",
    "        pair_marker_count[pair] = len(gene_set)\n",
    "    return total_markers, pair_marker_count"
   ]
  },
  {
   "cell_type": "code",
   "execution_count": 19,
   "metadata": {
    "ExecuteTime": {
     "end_time": "2019-11-24T20:40:33.253961Z",
     "start_time": "2019-11-24T20:40:31.274618Z"
    },
    "papermill": {
     "duration": 2.087436,
     "end_time": "2019-11-24T04:24:01.585027",
     "exception": false,
     "start_time": "2019-11-24T04:23:59.497591",
     "status": "completed"
    },
    "scrolled": true,
    "tags": []
   },
   "outputs": [],
   "source": [
    "total_markers = set()\n",
    "pair_marker_counts = {}\n",
    "with ProcessPoolExecutor(cpu) as executor:\n",
    "    futures = []\n",
    "    for chunk_start in range(0, len(cluster_pairs), chunk_size):\n",
    "        pair_chunk = cluster_pairs[chunk_start:chunk_start+chunk_size]\n",
    "        future = executor.submit(pairwise_tests, adata_path, pair_chunk)\n",
    "        futures.append(future)\n",
    "        \n",
    "    for future in as_completed(futures):\n",
    "        genes, pair_marker_count = future.result()\n",
    "        total_markers.update(genes)\n",
    "        pair_marker_counts.update(pair_marker_count)"
   ]
  },
  {
   "cell_type": "markdown",
   "metadata": {
    "papermill": {
     "duration": 0.011487,
     "end_time": "2019-11-24T04:24:01.609457",
     "exception": false,
     "start_time": "2019-11-24T04:24:01.597970",
     "status": "completed"
    },
    "tags": []
   },
   "source": [
    "## Save results"
   ]
  },
  {
   "cell_type": "code",
   "execution_count": 20,
   "metadata": {
    "ExecuteTime": {
     "end_time": "2019-11-24T20:40:33.259704Z",
     "start_time": "2019-11-24T20:40:33.256123Z"
    },
    "papermill": {
     "duration": 0.017164,
     "end_time": "2019-11-24T04:24:01.637490",
     "exception": false,
     "start_time": "2019-11-24T04:24:01.620326",
     "status": "completed"
    },
    "tags": []
   },
   "outputs": [],
   "source": [
    "total_markers = set([i for i in total_markers if isinstance(i, str)])\n",
    "with open('Markers/cluster_markers.txt', 'w') as f:\n",
    "    f.write('\\n'.join(total_markers))"
   ]
  },
  {
   "cell_type": "code",
   "execution_count": 21,
   "metadata": {
    "ExecuteTime": {
     "end_time": "2019-11-24T20:40:33.269136Z",
     "start_time": "2019-11-24T20:40:33.261256Z"
    },
    "papermill": {
     "duration": 0.022458,
     "end_time": "2019-11-24T04:24:01.670270",
     "exception": false,
     "start_time": "2019-11-24T04:24:01.647812",
     "status": "completed"
    },
    "tags": []
   },
   "outputs": [],
   "source": [
    "pair_marker_counts = pd.Series(pair_marker_counts)\n",
    "marker_counts = pair_marker_counts.reset_index()\n",
    "marker_counts.columns = ['ClusterA', 'ClusterB', 'GeneCount']\n",
    "marker_counts.to_csv('Markers/cluster_pair_marker_counts.csv', index=None)"
   ]
  },
  {
   "cell_type": "code",
   "execution_count": 22,
   "metadata": {
    "ExecuteTime": {
     "end_time": "2019-11-24T20:40:33.276978Z",
     "start_time": "2019-11-24T20:40:33.270536Z"
    },
    "papermill": {
     "duration": 0.023384,
     "end_time": "2019-11-24T04:24:01.704210",
     "exception": false,
     "start_time": "2019-11-24T04:24:01.680826",
     "status": "completed"
    },
    "tags": []
   },
   "outputs": [
    {
     "data": {
      "text/html": [
       "<div>\n",
       "<style scoped>\n",
       "    .dataframe tbody tr th:only-of-type {\n",
       "        vertical-align: middle;\n",
       "    }\n",
       "\n",
       "    .dataframe tbody tr th {\n",
       "        vertical-align: top;\n",
       "    }\n",
       "\n",
       "    .dataframe thead th {\n",
       "        text-align: right;\n",
       "    }\n",
       "</style>\n",
       "<table border=\"1\" class=\"dataframe\">\n",
       "  <thead>\n",
       "    <tr style=\"text-align: right;\">\n",
       "      <th></th>\n",
       "      <th>ClusterA</th>\n",
       "      <th>ClusterB</th>\n",
       "      <th>GeneCount</th>\n",
       "    </tr>\n",
       "  </thead>\n",
       "  <tbody>\n",
       "  </tbody>\n",
       "</table>\n",
       "</div>"
      ],
      "text/plain": [
       "Empty DataFrame\n",
       "Columns: [ClusterA, ClusterB, GeneCount]\n",
       "Index: []"
      ]
     },
     "execution_count": 22,
     "metadata": {},
     "output_type": "execute_result"
    }
   ],
   "source": [
    "marker_counts[marker_counts['GeneCount'] < 3]"
   ]
  },
  {
   "cell_type": "code",
   "execution_count": 23,
   "metadata": {
    "ExecuteTime": {
     "end_time": "2019-11-24T20:40:34.735176Z",
     "start_time": "2019-11-24T20:40:34.451338Z"
    },
    "papermill": {
     "duration": 0.285267,
     "end_time": "2019-11-24T04:24:02.001917",
     "exception": false,
     "start_time": "2019-11-24T04:24:01.716650",
     "status": "completed"
    },
    "tags": []
   },
   "outputs": [],
   "source": [
    "marker_adata = adata[:, list(total_markers)]\n",
    "marker_adata.write_h5ad('Markers/cluster_markers.h5ad')"
   ]
  },
  {
   "cell_type": "code",
   "execution_count": 24,
   "metadata": {
    "ExecuteTime": {
     "end_time": "2019-11-24T20:40:35.229488Z",
     "start_time": "2019-11-24T20:40:35.226348Z"
    },
    "papermill": {
     "duration": 0.018028,
     "end_time": "2019-11-24T04:24:02.036983",
     "exception": false,
     "start_time": "2019-11-24T04:24:02.018955",
     "status": "completed"
    },
    "tags": []
   },
   "outputs": [
    {
     "data": {
      "text/plain": [
       "AnnData object with n_obs × n_vars = 4347 × 30 \n",
       "    obs: 'AllcPath', 'CCC_Rate', 'CG_Rate', 'CG_RateAdj', 'CH_Rate', 'CH_RateAdj', 'FinalReads', 'InputReads', 'MappedReads', 'Region', 'index_name', 'uid', 'BamFilteringRate', 'MappingRate', 'Pos96', 'Plate', 'Col96', 'Row96', 'Col384', 'Row384', 'FACS_Date', 'Slice', 'CellClass', 'l1-umap_0', 'l1-umap_1', 'l1-tsne_0', 'l1-tsne_1', 'MajorType', 'l2-umap_0', 'l2-umap_1', 'l2-tsne_0', 'l2-tsne_1', 'SubType', 'l3-umap_0', 'l3-umap_1', 'l3-tsne_0', 'l3-tsne_1', 'L1CellClass', 'class_tsne_0', 'class_tsne_1', 'class_umap_0', 'class_umap_1', 'Order', 'RegionName', 'MajorRegion', 'SubRegion', 'DetailRegion', 'PotentialOverlap (MMB)', 'Anterior (CCF coords)', 'Posterior (CCF coords)', 'MajorRegionColor', 'SubRegionColor', 'DissectionRegionColor'\n",
       "    var: 'chrom', 'start', 'end'"
      ]
     },
     "execution_count": 24,
     "metadata": {},
     "output_type": "execute_result"
    }
   ],
   "source": [
    "marker_adata"
   ]
  },
  {
   "cell_type": "code",
   "execution_count": null,
   "metadata": {
    "papermill": {
     "duration": 0.011263,
     "end_time": "2019-11-24T04:24:02.061353",
     "exception": false,
     "start_time": "2019-11-24T04:24:02.050090",
     "status": "completed"
    },
    "tags": []
   },
   "outputs": [],
   "source": []
  },
  {
   "cell_type": "code",
   "execution_count": null,
   "metadata": {
    "papermill": {
     "duration": 0.010826,
     "end_time": "2019-11-24T04:24:02.083325",
     "exception": false,
     "start_time": "2019-11-24T04:24:02.072499",
     "status": "completed"
    },
    "tags": []
   },
   "outputs": [],
   "source": []
  },
  {
   "cell_type": "code",
   "execution_count": null,
   "metadata": {
    "papermill": {
     "duration": 0.010918,
     "end_time": "2019-11-24T04:24:02.107404",
     "exception": false,
     "start_time": "2019-11-24T04:24:02.096486",
     "status": "completed"
    },
    "tags": []
   },
   "outputs": [],
   "source": []
  },
  {
   "cell_type": "code",
   "execution_count": null,
   "metadata": {
    "papermill": {
     "duration": 0.010889,
     "end_time": "2019-11-24T04:24:02.129402",
     "exception": false,
     "start_time": "2019-11-24T04:24:02.118513",
     "status": "completed"
    },
    "tags": []
   },
   "outputs": [],
   "source": []
  },
  {
   "cell_type": "code",
   "execution_count": null,
   "metadata": {
    "papermill": {
     "duration": 0.010753,
     "end_time": "2019-11-24T04:24:02.151048",
     "exception": false,
     "start_time": "2019-11-24T04:24:02.140295",
     "status": "completed"
    },
    "tags": []
   },
   "outputs": [],
   "source": []
  },
  {
   "cell_type": "code",
   "execution_count": null,
   "metadata": {
    "papermill": {
     "duration": 0.011087,
     "end_time": "2019-11-24T04:24:02.174417",
     "exception": false,
     "start_time": "2019-11-24T04:24:02.163330",
     "status": "completed"
    },
    "tags": []
   },
   "outputs": [],
   "source": []
  }
 ],
 "metadata": {
  "hide_input": false,
  "kernelspec": {
   "display_name": "Python 3",
   "language": "python",
   "name": "python3"
  },
  "language_info": {
   "codemirror_mode": {
    "name": "ipython",
    "version": 3
   },
   "file_extension": ".py",
   "mimetype": "text/x-python",
   "name": "python",
   "nbconvert_exporter": "python",
   "pygments_lexer": "ipython3",
   "version": "3.7.3"
  },
  "papermill": {
   "duration": 7.819547,
   "end_time": "2019-11-24T04:24:02.894248",
   "environment_variables": {},
   "exception": null,
   "input_path": "/home/hanliu/project/mouse_rostral_brain/study/FinalPredictionModelRecipe/pairwise_marker_selection.ipynb",
   "output_path": "/home/hanliu/project/mouse_rostral_brain/study/FinalPredictionModelRecipe/NeuronPrediction/SubType/IT-L4_SubType/pairwise_marker_selection.ipynb",
   "parameters": {
    "adj_p_cutoff": 1e-05,
    "cluster_col": "SubType",
    "cpu": 10,
    "exclude_str": [
     "Outlier",
     "NonN"
    ],
    "log2fc_cutoff": 1,
    "min_cluster_cell_number": 10,
    "top_n": 20
   },
   "start_time": "2019-11-24T04:23:55.074701",
   "version": "1.0.1"
  },
  "toc": {
   "base_numbering": 1,
   "nav_menu": {},
   "number_sections": true,
   "sideBar": true,
   "skip_h1_title": true,
   "title_cell": "Table of Contents",
   "title_sidebar": "Contents",
   "toc_cell": false,
   "toc_position": {},
   "toc_section_display": true,
   "toc_window_display": true
  }
 },
 "nbformat": 4,
 "nbformat_minor": 2
}
