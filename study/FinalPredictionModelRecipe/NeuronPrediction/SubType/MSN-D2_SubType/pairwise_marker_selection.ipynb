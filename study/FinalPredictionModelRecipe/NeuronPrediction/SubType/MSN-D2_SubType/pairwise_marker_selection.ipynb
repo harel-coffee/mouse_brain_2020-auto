{
 "cells": [
  {
   "cell_type": "markdown",
   "metadata": {
    "papermill": {
     "duration": 0.010055,
     "end_time": "2019-11-24T04:44:36.236712",
     "exception": false,
     "start_time": "2019-11-24T04:44:36.226657",
     "status": "completed"
    },
    "tags": []
   },
   "source": [
    "## Marker Selection"
   ]
  },
  {
   "cell_type": "code",
   "execution_count": 1,
   "metadata": {
    "ExecuteTime": {
     "end_time": "2019-11-23T22:59:43.804942Z",
     "start_time": "2019-11-23T22:59:41.850684Z"
    },
    "papermill": {
     "duration": 1.963786,
     "end_time": "2019-11-24T04:44:38.210963",
     "exception": false,
     "start_time": "2019-11-24T04:44:36.247177",
     "status": "completed"
    },
    "tags": []
   },
   "outputs": [],
   "source": [
    "from concurrent.futures import ProcessPoolExecutor, as_completed\n",
    "from itertools import combinations\n",
    "\n",
    "import anndata\n",
    "import matplotlib.pyplot as plt\n",
    "import pandas as pd\n",
    "import scanpy as sc\n",
    "import seaborn as sns\n",
    "import pathlib\n",
    "from cemba_data.tools.hdf5.anndata import rank_features_groups"
   ]
  },
  {
   "cell_type": "markdown",
   "metadata": {
    "papermill": {
     "duration": 0.00928,
     "end_time": "2019-11-24T04:44:38.230561",
     "exception": false,
     "start_time": "2019-11-24T04:44:38.221281",
     "status": "completed"
    },
    "tags": []
   },
   "source": [
    "## Parameter"
   ]
  },
  {
   "cell_type": "code",
   "execution_count": 2,
   "metadata": {
    "ExecuteTime": {
     "end_time": "2019-11-23T22:59:43.809304Z",
     "start_time": "2019-11-23T22:59:43.806661Z"
    },
    "papermill": {
     "duration": 0.014859,
     "end_time": "2019-11-24T04:44:38.254853",
     "exception": false,
     "start_time": "2019-11-24T04:44:38.239994",
     "status": "completed"
    },
    "tags": [
     "parameters"
    ]
   },
   "outputs": [],
   "source": [
    "cluster_col = 'SubType'\n",
    "min_cluster_cell_number = 10\n",
    "exclude_str = ['Outlier']\n",
    "adj_p_cutoff = 1e-5\n",
    "log2fc_cutoff = 1\n",
    "top_n = 10\n",
    "cpu = 10"
   ]
  },
  {
   "cell_type": "code",
   "execution_count": 3,
   "metadata": {
    "papermill": {
     "duration": 0.014526,
     "end_time": "2019-11-24T04:44:38.278271",
     "exception": false,
     "start_time": "2019-11-24T04:44:38.263745",
     "status": "completed"
    },
    "tags": [
     "injected-parameters"
    ]
   },
   "outputs": [],
   "source": [
    "# Parameters\n",
    "cluster_col = \"SubType\"\n",
    "min_cluster_cell_number = 10\n",
    "exclude_str = [\"Outlier\", \"NonN\"]\n",
    "adj_p_cutoff = 1e-05\n",
    "log2fc_cutoff = 1\n",
    "top_n = 20\n",
    "cpu = 10\n"
   ]
  },
  {
   "cell_type": "markdown",
   "metadata": {
    "papermill": {
     "duration": 0.008875,
     "end_time": "2019-11-24T04:44:38.296665",
     "exception": false,
     "start_time": "2019-11-24T04:44:38.287790",
     "status": "completed"
    },
    "tags": []
   },
   "source": [
    "### Stable Parameter"
   ]
  },
  {
   "cell_type": "code",
   "execution_count": 4,
   "metadata": {
    "ExecuteTime": {
     "end_time": "2019-11-23T22:59:45.757547Z",
     "start_time": "2019-11-23T22:59:45.754550Z"
    },
    "papermill": {
     "duration": 0.014314,
     "end_time": "2019-11-24T04:44:38.320096",
     "exception": false,
     "start_time": "2019-11-24T04:44:38.305782",
     "status": "completed"
    },
    "tags": []
   },
   "outputs": [],
   "source": [
    "adata_path = 'Adata/cell_by_feature.cov_filter.rate.h5ad'\n",
    "max_test_cell_population = 1000\n",
    "random_seed = 0\n",
    "chunk_size=200\n",
    "output_dir = 'Markers'\n",
    "output_dir = pathlib.Path(output_dir)\n",
    "output_dir.mkdir(exist_ok=True)"
   ]
  },
  {
   "cell_type": "markdown",
   "metadata": {
    "papermill": {
     "duration": 0.009375,
     "end_time": "2019-11-24T04:44:38.339235",
     "exception": false,
     "start_time": "2019-11-24T04:44:38.329860",
     "status": "completed"
    },
    "tags": []
   },
   "source": [
    "## Load Data"
   ]
  },
  {
   "cell_type": "code",
   "execution_count": 5,
   "metadata": {
    "ExecuteTime": {
     "end_time": "2019-11-23T23:00:57.991747Z",
     "start_time": "2019-11-23T23:00:57.838846Z"
    },
    "papermill": {
     "duration": 0.582203,
     "end_time": "2019-11-24T04:44:38.930775",
     "exception": false,
     "start_time": "2019-11-24T04:44:38.348572",
     "status": "completed"
    },
    "tags": []
   },
   "outputs": [
    {
     "data": {
      "text/plain": [
       "AnnData object with n_obs × n_vars = 3340 × 23993 \n",
       "    obs: 'AllcPath', 'CCC_Rate', 'CG_Rate', 'CG_RateAdj', 'CH_Rate', 'CH_RateAdj', 'FinalReads', 'InputReads', 'MappedReads', 'Region', 'index_name', 'uid', 'BamFilteringRate', 'MappingRate', 'Pos96', 'Plate', 'Col96', 'Row96', 'Col384', 'Row384', 'FACS_Date', 'Slice', 'CellClass', 'l1-umap_0', 'l1-umap_1', 'l1-tsne_0', 'l1-tsne_1', 'MajorType', 'l2-umap_0', 'l2-umap_1', 'l2-tsne_0', 'l2-tsne_1', 'SubType', 'l3-umap_0', 'l3-umap_1', 'l3-tsne_0', 'l3-tsne_1', 'L1CellClass', 'class_tsne_0', 'class_tsne_1', 'class_umap_0', 'class_umap_1', 'Order', 'RegionName', 'MajorRegion', 'SubRegion', 'DetailRegion', 'PotentialOverlap (MMB)', 'Anterior (CCF coords)', 'Posterior (CCF coords)', 'MajorRegionColor', 'SubRegionColor', 'DissectionRegionColor'\n",
       "    var: 'chrom', 'start', 'end'"
      ]
     },
     "execution_count": 5,
     "metadata": {},
     "output_type": "execute_result"
    }
   ],
   "source": [
    "adata = anndata.read_h5ad(adata_path)\n",
    "adata"
   ]
  },
  {
   "cell_type": "code",
   "execution_count": 6,
   "metadata": {
    "ExecuteTime": {
     "end_time": "2019-11-23T22:59:48.524615Z",
     "start_time": "2019-11-23T22:59:48.517267Z"
    },
    "papermill": {
     "duration": 0.021853,
     "end_time": "2019-11-24T04:44:38.962872",
     "exception": false,
     "start_time": "2019-11-24T04:44:38.941019",
     "status": "completed"
    },
    "tags": []
   },
   "outputs": [
    {
     "name": "stdout",
     "output_type": "stream",
     "text": [
      "4 pass filter.\n",
      "6 pairwise comparison to test.\n"
     ]
    }
   ],
   "source": [
    "cluster_series = adata.obs[cluster_col].astype(str)\n",
    "cluster_counts = cluster_series.value_counts()\n",
    "def check_cluster(cluster, count):\n",
    "    if count < min_cluster_cell_number:\n",
    "        return False\n",
    "    for exclude in exclude_str:\n",
    "        if exclude in cluster:\n",
    "            return False\n",
    "    return True\n",
    "\n",
    "unique_clusters = [cluster for cluster, count in cluster_counts.items() if check_cluster(cluster, count)]\n",
    "cluster_pairs = list(combinations(unique_clusters, 2))\n",
    "\n",
    "print(len(unique_clusters), 'pass filter.')\n",
    "print(len(cluster_pairs), 'pairwise comparison to test.')"
   ]
  },
  {
   "cell_type": "code",
   "execution_count": 7,
   "metadata": {
    "ExecuteTime": {
     "end_time": "2019-11-23T22:59:49.242535Z",
     "start_time": "2019-11-23T22:59:49.214260Z"
    },
    "papermill": {
     "duration": 0.23387,
     "end_time": "2019-11-24T04:44:39.206122",
     "exception": false,
     "start_time": "2019-11-24T04:44:38.972252",
     "status": "completed"
    },
    "tags": []
   },
   "outputs": [],
   "source": [
    "# filter adata as well\n",
    "adata = adata[adata.obs[cluster_col].isin(unique_clusters), :]"
   ]
  },
  {
   "cell_type": "markdown",
   "metadata": {
    "papermill": {
     "duration": 0.009508,
     "end_time": "2019-11-24T04:44:39.225853",
     "exception": false,
     "start_time": "2019-11-24T04:44:39.216345",
     "status": "completed"
    },
    "tags": []
   },
   "source": [
    "## Pairwise test"
   ]
  },
  {
   "cell_type": "code",
   "execution_count": 8,
   "metadata": {
    "ExecuteTime": {
     "end_time": "2019-11-23T22:59:50.230903Z",
     "start_time": "2019-11-23T22:59:50.223428Z"
    },
    "papermill": {
     "duration": 0.020016,
     "end_time": "2019-11-24T04:44:39.255490",
     "exception": false,
     "start_time": "2019-11-24T04:44:39.235474",
     "status": "completed"
    },
    "tags": []
   },
   "outputs": [],
   "source": [
    "def get_sig_features(rank_gene_dict):\n",
    "    pvals_adj = pd.DataFrame(rank_gene_dict['pvals_adj'])\n",
    "    names = pd.DataFrame(rank_gene_dict['names'])\n",
    "    logfoldchanges = pd.DataFrame(rank_gene_dict['logfoldchanges'])\n",
    "    gene_set = set(\n",
    "        names.where((pvals_adj < adj_p_cutoff)\n",
    "                    & (logfoldchanges.abs() > log2fc_cutoff)).values.flat)\n",
    "    return gene_set\n",
    "\n",
    "\n",
    "def pairwise_tests(adata_path, pairs):\n",
    "    adata = anndata.read_h5ad(adata_path)\n",
    "    total_markers = set()\n",
    "    pair_marker_count = {}\n",
    "    for pair in pairs:\n",
    "        cluster_a, cluster_b = pair\n",
    "        cluster_a_cells = cluster_series[cluster_series == cluster_a]\n",
    "        if cluster_a_cells.size > max_test_cell_population:\n",
    "            cluster_a_cells = cluster_a_cells.sample(max_test_cell_population,\n",
    "                                                     random_state=random_seed)\n",
    "        cluster_a_cells = cluster_a_cells.index\n",
    "    \n",
    "        cluster_b_cells = cluster_series[cluster_series == cluster_b]\n",
    "        if cluster_b_cells.size > max_test_cell_population:\n",
    "            cluster_b_cells = cluster_b_cells.sample(max_test_cell_population,\n",
    "                                                     random_state=random_seed)\n",
    "        cluster_b_cells = cluster_b_cells.index\n",
    "        cells = cluster_a_cells | cluster_b_cells\n",
    "        \n",
    "        pair_adata = adata[cells, :].copy()\n",
    "        pair_adata.obs['cluster'] = pair_adata.obs[cluster_col].astype(str).astype('category')\n",
    "        \n",
    "        rank_features_groups(pair_adata, groupby='cluster', n_genes=top_n)\n",
    "        gene_set = get_sig_features(pair_adata.uns['rank_genes_groups'])\n",
    "        # drop na\n",
    "        gene_set = set([i for i in gene_set if isinstance(i, str)])\n",
    "        \n",
    "        total_markers.update(gene_set)\n",
    "        pair_marker_count[pair] = len(gene_set)\n",
    "    return total_markers, pair_marker_count"
   ]
  },
  {
   "cell_type": "code",
   "execution_count": 9,
   "metadata": {
    "ExecuteTime": {
     "end_time": "2019-11-23T22:59:59.262501Z",
     "start_time": "2019-11-23T22:59:50.870409Z"
    },
    "papermill": {
     "duration": 4.462172,
     "end_time": "2019-11-24T04:44:43.727098",
     "exception": false,
     "start_time": "2019-11-24T04:44:39.264926",
     "status": "completed"
    },
    "scrolled": true,
    "tags": []
   },
   "outputs": [],
   "source": [
    "total_markers = set()\n",
    "pair_marker_counts = {}\n",
    "with ProcessPoolExecutor(cpu) as executor:\n",
    "    futures = []\n",
    "    for chunk_start in range(0, len(cluster_pairs), chunk_size):\n",
    "        pair_chunk = cluster_pairs[chunk_start:chunk_start+chunk_size]\n",
    "        future = executor.submit(pairwise_tests, adata_path, pair_chunk)\n",
    "        futures.append(future)\n",
    "        \n",
    "    for future in as_completed(futures):\n",
    "        genes, pair_marker_count = future.result()\n",
    "        total_markers.update(genes)\n",
    "        pair_marker_counts.update(pair_marker_count)"
   ]
  },
  {
   "cell_type": "markdown",
   "metadata": {
    "papermill": {
     "duration": 0.010029,
     "end_time": "2019-11-24T04:44:43.749474",
     "exception": false,
     "start_time": "2019-11-24T04:44:43.739445",
     "status": "completed"
    },
    "tags": []
   },
   "source": [
    "## Save results"
   ]
  },
  {
   "cell_type": "code",
   "execution_count": 10,
   "metadata": {
    "ExecuteTime": {
     "end_time": "2019-11-23T22:59:59.268329Z",
     "start_time": "2019-11-23T22:59:59.264572Z"
    },
    "papermill": {
     "duration": 0.015863,
     "end_time": "2019-11-24T04:44:43.774953",
     "exception": false,
     "start_time": "2019-11-24T04:44:43.759090",
     "status": "completed"
    },
    "tags": []
   },
   "outputs": [],
   "source": [
    "total_markers = set([i for i in total_markers if isinstance(i, str)])\n",
    "with open('Markers/cluster_markers.txt', 'w') as f:\n",
    "    f.write('\\n'.join(total_markers))"
   ]
  },
  {
   "cell_type": "code",
   "execution_count": 11,
   "metadata": {
    "ExecuteTime": {
     "end_time": "2019-11-23T22:59:59.280857Z",
     "start_time": "2019-11-23T22:59:59.269910Z"
    },
    "papermill": {
     "duration": 0.020787,
     "end_time": "2019-11-24T04:44:43.805082",
     "exception": false,
     "start_time": "2019-11-24T04:44:43.784295",
     "status": "completed"
    },
    "tags": []
   },
   "outputs": [],
   "source": [
    "pair_marker_counts = pd.Series(pair_marker_counts)\n",
    "marker_counts = pair_marker_counts.reset_index()\n",
    "marker_counts.columns = ['ClusterA', 'ClusterB', 'GeneCount']\n",
    "marker_counts.to_csv('Markers/cluster_pair_marker_counts.csv', index=None)"
   ]
  },
  {
   "cell_type": "code",
   "execution_count": 12,
   "metadata": {
    "ExecuteTime": {
     "end_time": "2019-11-23T22:59:59.293193Z",
     "start_time": "2019-11-23T22:59:59.282176Z"
    },
    "papermill": {
     "duration": 0.020131,
     "end_time": "2019-11-24T04:44:43.834657",
     "exception": false,
     "start_time": "2019-11-24T04:44:43.814526",
     "status": "completed"
    },
    "tags": []
   },
   "outputs": [
    {
     "data": {
      "text/html": [
       "<div>\n",
       "<style scoped>\n",
       "    .dataframe tbody tr th:only-of-type {\n",
       "        vertical-align: middle;\n",
       "    }\n",
       "\n",
       "    .dataframe tbody tr th {\n",
       "        vertical-align: top;\n",
       "    }\n",
       "\n",
       "    .dataframe thead th {\n",
       "        text-align: right;\n",
       "    }\n",
       "</style>\n",
       "<table border=\"1\" class=\"dataframe\">\n",
       "  <thead>\n",
       "    <tr style=\"text-align: right;\">\n",
       "      <th></th>\n",
       "      <th>ClusterA</th>\n",
       "      <th>ClusterB</th>\n",
       "      <th>GeneCount</th>\n",
       "    </tr>\n",
       "  </thead>\n",
       "  <tbody>\n",
       "  </tbody>\n",
       "</table>\n",
       "</div>"
      ],
      "text/plain": [
       "Empty DataFrame\n",
       "Columns: [ClusterA, ClusterB, GeneCount]\n",
       "Index: []"
      ]
     },
     "execution_count": 12,
     "metadata": {},
     "output_type": "execute_result"
    }
   ],
   "source": [
    "marker_counts[marker_counts['GeneCount'] < 3]"
   ]
  },
  {
   "cell_type": "code",
   "execution_count": 13,
   "metadata": {
    "ExecuteTime": {
     "end_time": "2019-11-23T22:59:59.450339Z",
     "start_time": "2019-11-23T22:59:59.294399Z"
    },
    "papermill": {
     "duration": 0.217633,
     "end_time": "2019-11-24T04:44:44.062694",
     "exception": false,
     "start_time": "2019-11-24T04:44:43.845061",
     "status": "completed"
    },
    "tags": []
   },
   "outputs": [],
   "source": [
    "marker_adata = adata[:, list(total_markers)]\n",
    "marker_adata.write_h5ad('Markers/cluster_markers.h5ad')"
   ]
  },
  {
   "cell_type": "code",
   "execution_count": 14,
   "metadata": {
    "ExecuteTime": {
     "end_time": "2019-11-23T23:00:00.225184Z",
     "start_time": "2019-11-23T23:00:00.221996Z"
    },
    "papermill": {
     "duration": 0.015912,
     "end_time": "2019-11-24T04:44:44.088210",
     "exception": false,
     "start_time": "2019-11-24T04:44:44.072298",
     "status": "completed"
    },
    "tags": []
   },
   "outputs": [
    {
     "data": {
      "text/plain": [
       "AnnData object with n_obs × n_vars = 3340 × 69 \n",
       "    obs: 'AllcPath', 'CCC_Rate', 'CG_Rate', 'CG_RateAdj', 'CH_Rate', 'CH_RateAdj', 'FinalReads', 'InputReads', 'MappedReads', 'Region', 'index_name', 'uid', 'BamFilteringRate', 'MappingRate', 'Pos96', 'Plate', 'Col96', 'Row96', 'Col384', 'Row384', 'FACS_Date', 'Slice', 'CellClass', 'l1-umap_0', 'l1-umap_1', 'l1-tsne_0', 'l1-tsne_1', 'MajorType', 'l2-umap_0', 'l2-umap_1', 'l2-tsne_0', 'l2-tsne_1', 'SubType', 'l3-umap_0', 'l3-umap_1', 'l3-tsne_0', 'l3-tsne_1', 'L1CellClass', 'class_tsne_0', 'class_tsne_1', 'class_umap_0', 'class_umap_1', 'Order', 'RegionName', 'MajorRegion', 'SubRegion', 'DetailRegion', 'PotentialOverlap (MMB)', 'Anterior (CCF coords)', 'Posterior (CCF coords)', 'MajorRegionColor', 'SubRegionColor', 'DissectionRegionColor'\n",
       "    var: 'chrom', 'start', 'end'"
      ]
     },
     "execution_count": 14,
     "metadata": {},
     "output_type": "execute_result"
    }
   ],
   "source": [
    "marker_adata"
   ]
  },
  {
   "cell_type": "code",
   "execution_count": null,
   "metadata": {
    "papermill": {
     "duration": 0.010119,
     "end_time": "2019-11-24T04:44:44.109135",
     "exception": false,
     "start_time": "2019-11-24T04:44:44.099016",
     "status": "completed"
    },
    "tags": []
   },
   "outputs": [],
   "source": []
  },
  {
   "cell_type": "code",
   "execution_count": null,
   "metadata": {
    "papermill": {
     "duration": 0.009828,
     "end_time": "2019-11-24T04:44:44.129148",
     "exception": false,
     "start_time": "2019-11-24T04:44:44.119320",
     "status": "completed"
    },
    "tags": []
   },
   "outputs": [],
   "source": []
  },
  {
   "cell_type": "code",
   "execution_count": null,
   "metadata": {
    "papermill": {
     "duration": 0.009742,
     "end_time": "2019-11-24T04:44:44.148827",
     "exception": false,
     "start_time": "2019-11-24T04:44:44.139085",
     "status": "completed"
    },
    "tags": []
   },
   "outputs": [],
   "source": []
  },
  {
   "cell_type": "code",
   "execution_count": null,
   "metadata": {
    "papermill": {
     "duration": 0.010011,
     "end_time": "2019-11-24T04:44:44.168986",
     "exception": false,
     "start_time": "2019-11-24T04:44:44.158975",
     "status": "completed"
    },
    "tags": []
   },
   "outputs": [],
   "source": []
  },
  {
   "cell_type": "code",
   "execution_count": null,
   "metadata": {
    "papermill": {
     "duration": 0.009935,
     "end_time": "2019-11-24T04:44:44.188765",
     "exception": false,
     "start_time": "2019-11-24T04:44:44.178830",
     "status": "completed"
    },
    "tags": []
   },
   "outputs": [],
   "source": []
  },
  {
   "cell_type": "code",
   "execution_count": null,
   "metadata": {
    "papermill": {
     "duration": 0.010164,
     "end_time": "2019-11-24T04:44:44.209785",
     "exception": false,
     "start_time": "2019-11-24T04:44:44.199621",
     "status": "completed"
    },
    "tags": []
   },
   "outputs": [],
   "source": []
  }
 ],
 "metadata": {
  "hide_input": false,
  "kernelspec": {
   "display_name": "Python 3",
   "language": "python",
   "name": "python3"
  },
  "language_info": {
   "codemirror_mode": {
    "name": "ipython",
    "version": 3
   },
   "file_extension": ".py",
   "mimetype": "text/x-python",
   "name": "python",
   "nbconvert_exporter": "python",
   "pygments_lexer": "ipython3",
   "version": "3.7.3"
  },
  "papermill": {
   "duration": 9.502654,
   "end_time": "2019-11-24T04:44:44.827661",
   "environment_variables": {},
   "exception": null,
   "input_path": "/home/hanliu/project/mouse_rostral_brain/study/FinalPredictionModelRecipe/pairwise_marker_selection.ipynb",
   "output_path": "/home/hanliu/project/mouse_rostral_brain/study/FinalPredictionModelRecipe/NeuronPrediction/SubType/MSN-D2_SubType/pairwise_marker_selection.ipynb",
   "parameters": {
    "adj_p_cutoff": 1e-05,
    "cluster_col": "SubType",
    "cpu": 10,
    "exclude_str": [
     "Outlier",
     "NonN"
    ],
    "log2fc_cutoff": 1,
    "min_cluster_cell_number": 10,
    "top_n": 20
   },
   "start_time": "2019-11-24T04:44:35.325007",
   "version": "1.0.1"
  },
  "toc": {
   "base_numbering": 1,
   "nav_menu": {},
   "number_sections": true,
   "sideBar": true,
   "skip_h1_title": true,
   "title_cell": "Table of Contents",
   "title_sidebar": "Contents",
   "toc_cell": false,
   "toc_position": {},
   "toc_section_display": true,
   "toc_window_display": true
  }
 },
 "nbformat": 4,
 "nbformat_minor": 2
}