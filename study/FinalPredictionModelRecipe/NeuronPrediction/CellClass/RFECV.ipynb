{
 "cells": [
  {
   "cell_type": "markdown",
   "metadata": {
    "papermill": {
     "duration": 0.017294,
     "end_time": "2019-11-24T00:16:03.698460",
     "exception": false,
     "start_time": "2019-11-24T00:16:03.681166",
     "status": "completed"
    },
    "tags": []
   },
   "source": [
    "# RFECV multi-class prediction"
   ]
  },
  {
   "cell_type": "code",
   "execution_count": 1,
   "metadata": {
    "ExecuteTime": {
     "end_time": "2019-11-23T21:28:14.658806Z",
     "start_time": "2019-11-23T21:28:14.655432Z"
    },
    "papermill": {
     "duration": 0.653426,
     "end_time": "2019-11-24T00:16:04.368853",
     "exception": false,
     "start_time": "2019-11-24T00:16:03.715427",
     "status": "completed"
    },
    "tags": []
   },
   "outputs": [],
   "source": [
    "import pathlib\n",
    "\n",
    "import anndata\n",
    "import joblib\n",
    "import matplotlib.pyplot as plt\n",
    "import numpy as np\n",
    "import pandas as pd\n",
    "import seaborn as sns\n",
    "from imblearn.ensemble import BalancedRandomForestClassifier\n",
    "from sklearn.decomposition import PCA\n",
    "from sklearn.feature_selection import RFECV\n",
    "from sklearn.metrics import (balanced_accuracy_score, confusion_matrix,\n",
    "                             fbeta_score, make_scorer)\n",
    "from sklearn.model_selection import StratifiedKFold"
   ]
  },
  {
   "cell_type": "markdown",
   "metadata": {
    "papermill": {
     "duration": 0.016368,
     "end_time": "2019-11-24T00:16:04.402684",
     "exception": false,
     "start_time": "2019-11-24T00:16:04.386316",
     "status": "completed"
    },
    "tags": []
   },
   "source": [
    "## Parameters"
   ]
  },
  {
   "cell_type": "code",
   "execution_count": 2,
   "metadata": {
    "ExecuteTime": {
     "end_time": "2019-11-23T22:21:12.648247Z",
     "start_time": "2019-11-23T22:21:12.645291Z"
    },
    "papermill": {
     "duration": 0.022251,
     "end_time": "2019-11-24T00:16:04.440874",
     "exception": false,
     "start_time": "2019-11-24T00:16:04.418623",
     "status": "completed"
    },
    "tags": [
     "parameters"
    ]
   },
   "outputs": [],
   "source": [
    "cluster_col = 'SubType'\n",
    "test_portion = 0.1\n",
    "random_seed = 0\n",
    "n_estimators = 100\n",
    "n_estimators_final = 500\n",
    "n_jobs = 30\n",
    "n_splits = 5\n",
    "cluster_order_path = None"
   ]
  },
  {
   "cell_type": "code",
   "execution_count": 3,
   "metadata": {
    "papermill": {
     "duration": 0.0225,
     "end_time": "2019-11-24T00:16:04.479095",
     "exception": false,
     "start_time": "2019-11-24T00:16:04.456595",
     "status": "completed"
    },
    "tags": [
     "injected-parameters"
    ]
   },
   "outputs": [],
   "source": [
    "# Parameters\n",
    "cluster_col = \"CellClass\"\n",
    "test_portion = 0.1\n",
    "random_seed = 0\n",
    "n_estimators = 100\n",
    "n_estimators_final = 500\n",
    "n_jobs = 30\n",
    "n_splits = 5\n",
    "cluster_order_path = None\n"
   ]
  },
  {
   "cell_type": "code",
   "execution_count": 4,
   "metadata": {
    "ExecuteTime": {
     "end_time": "2019-11-23T21:28:20.090076Z",
     "start_time": "2019-11-23T21:28:20.087435Z"
    },
    "papermill": {
     "duration": 0.022633,
     "end_time": "2019-11-24T00:16:04.520689",
     "exception": false,
     "start_time": "2019-11-24T00:16:04.498056",
     "status": "completed"
    },
    "tags": []
   },
   "outputs": [],
   "source": [
    "output_dir = 'Model'\n",
    "output_dir = pathlib.Path(output_dir)\n",
    "output_dir.mkdir(exist_ok=True)"
   ]
  },
  {
   "cell_type": "markdown",
   "metadata": {
    "papermill": {
     "duration": 0.015727,
     "end_time": "2019-11-24T00:16:04.552686",
     "exception": false,
     "start_time": "2019-11-24T00:16:04.536959",
     "status": "completed"
    },
    "tags": []
   },
   "source": [
    "## Load Marker Adata"
   ]
  },
  {
   "cell_type": "code",
   "execution_count": 5,
   "metadata": {
    "ExecuteTime": {
     "end_time": "2019-11-23T21:27:08.112614Z",
     "start_time": "2019-11-23T21:27:07.109192Z"
    },
    "papermill": {
     "duration": 0.254615,
     "end_time": "2019-11-24T00:16:04.823380",
     "exception": false,
     "start_time": "2019-11-24T00:16:04.568765",
     "status": "completed"
    },
    "tags": []
   },
   "outputs": [],
   "source": [
    "adata = anndata.read_h5ad('Markers/cluster_markers.h5ad')"
   ]
  },
  {
   "cell_type": "code",
   "execution_count": 6,
   "metadata": {
    "ExecuteTime": {
     "end_time": "2019-11-23T21:27:08.513423Z",
     "start_time": "2019-11-23T21:27:08.508517Z"
    },
    "papermill": {
     "duration": 0.024901,
     "end_time": "2019-11-24T00:16:04.865428",
     "exception": false,
     "start_time": "2019-11-24T00:16:04.840527",
     "status": "completed"
    },
    "tags": []
   },
   "outputs": [
    {
     "data": {
      "text/plain": [
       "AnnData object with n_obs × n_vars = 10000 × 17 \n",
       "    obs: 'AllcPath', 'CCC_Rate', 'CG_Rate', 'CG_RateAdj', 'CH_Rate', 'CH_RateAdj', 'FinalReads', 'InputReads', 'MappedReads', 'Region', 'index_name', 'uid', 'BamFilteringRate', 'MappingRate', 'Pos96', 'Plate', 'Col96', 'Row96', 'Col384', 'Row384', 'FACS_Date', 'Slice', 'MajorRegion', 'SubRegion', 'CellClass', 'l1-umap_0', 'l1-umap_1', 'l1-tsne_0', 'l1-tsne_1', 'MajorType', 'l2-umap_0', 'l2-umap_1', 'l2-tsne_0', 'l2-tsne_1', 'SubType', 'l3-umap_0', 'l3-umap_1', 'l3-tsne_0', 'l3-tsne_1', 'L1CellClass', 'class_tsne_0', 'class_tsne_1', 'class_umap_0', 'class_umap_1', 'Order', 'RegionName', 'DetailRegion', 'PotentialOverlap (MMB)', 'Anterior (CCF coords)', 'Posterior (CCF coords)', 'MajorRegionColor', 'SubRegionColor', 'DissectionRegionColor'\n",
       "    var: 'chrom', 'start', 'end'"
      ]
     },
     "execution_count": 6,
     "metadata": {},
     "output_type": "execute_result"
    }
   ],
   "source": [
    "adata"
   ]
  },
  {
   "cell_type": "markdown",
   "metadata": {
    "ExecuteTime": {
     "end_time": "2019-11-23T21:27:08.804237Z",
     "start_time": "2019-11-23T21:27:08.802602Z"
    },
    "papermill": {
     "duration": 0.01621,
     "end_time": "2019-11-24T00:16:04.897583",
     "exception": false,
     "start_time": "2019-11-24T00:16:04.881373",
     "status": "completed"
    },
    "tags": []
   },
   "source": [
    "## Cluster Order"
   ]
  },
  {
   "cell_type": "code",
   "execution_count": 7,
   "metadata": {
    "papermill": {
     "duration": 0.022838,
     "end_time": "2019-11-24T00:16:04.936572",
     "exception": false,
     "start_time": "2019-11-24T00:16:04.913734",
     "status": "completed"
    },
    "tags": []
   },
   "outputs": [],
   "source": [
    "if cluster_order_path is not None:\n",
    "    cluster_order = pd.read_csv(cluster_order_path, header=None, index_col=0).index\n",
    "else:\n",
    "    cluster_order = sorted(adata.obs[cluster_col].unique())"
   ]
  },
  {
   "cell_type": "markdown",
   "metadata": {
    "papermill": {
     "duration": 0.016752,
     "end_time": "2019-11-24T00:16:04.970390",
     "exception": false,
     "start_time": "2019-11-24T00:16:04.953638",
     "status": "completed"
    },
    "tags": []
   },
   "source": [
    "## Supervise training"
   ]
  },
  {
   "cell_type": "code",
   "execution_count": 8,
   "metadata": {
    "ExecuteTime": {
     "end_time": "2019-11-23T21:27:14.861510Z",
     "start_time": "2019-11-23T21:27:14.859291Z"
    },
    "papermill": {
     "duration": 0.021232,
     "end_time": "2019-11-24T00:16:05.007806",
     "exception": false,
     "start_time": "2019-11-24T00:16:04.986574",
     "status": "completed"
    },
    "tags": []
   },
   "outputs": [],
   "source": [
    "n_cell = adata.shape[0]\n",
    "n_test = int(n_cell * test_portion)"
   ]
  },
  {
   "cell_type": "code",
   "execution_count": 9,
   "metadata": {
    "ExecuteTime": {
     "end_time": "2019-11-23T21:27:17.059089Z",
     "start_time": "2019-11-23T21:27:17.045948Z"
    },
    "papermill": {
     "duration": 0.027241,
     "end_time": "2019-11-24T00:16:05.051382",
     "exception": false,
     "start_time": "2019-11-24T00:16:05.024141",
     "status": "completed"
    },
    "tags": []
   },
   "outputs": [],
   "source": [
    "# separate test and train\n",
    "test_cells = adata.obs.sample(n_test, random_state=random_seed).index\n",
    "test_judge = adata.obs_names.isin(test_cells)\n",
    "train_judge = ~adata.obs_names.isin(test_cells)"
   ]
  },
  {
   "cell_type": "code",
   "execution_count": 10,
   "metadata": {
    "ExecuteTime": {
     "end_time": "2019-11-23T21:27:19.294562Z",
     "start_time": "2019-11-23T21:27:19.020469Z"
    },
    "papermill": {
     "duration": 0.046123,
     "end_time": "2019-11-24T00:16:05.114610",
     "exception": false,
     "start_time": "2019-11-24T00:16:05.068487",
     "status": "completed"
    },
    "tags": []
   },
   "outputs": [],
   "source": [
    "test_df = pd.DataFrame(adata[test_judge, :].X,\n",
    "                       index=adata.obs_names[test_judge],\n",
    "                       columns=adata.var_names)\n",
    "test_label = adata.obs.loc[test_judge, cluster_col]\n",
    "\n",
    "train_df = pd.DataFrame(adata[train_judge, :].X,\n",
    "                        index=adata.obs_names[train_judge],\n",
    "                        columns=adata.var_names)\n",
    "train_label = adata.obs.loc[train_judge, cluster_col]"
   ]
  },
  {
   "cell_type": "markdown",
   "metadata": {
    "papermill": {
     "duration": 0.016114,
     "end_time": "2019-11-24T00:16:05.147174",
     "exception": false,
     "start_time": "2019-11-24T00:16:05.131060",
     "status": "completed"
    },
    "tags": []
   },
   "source": [
    "## Training"
   ]
  },
  {
   "cell_type": "code",
   "execution_count": 11,
   "metadata": {
    "papermill": {
     "duration": 0.023753,
     "end_time": "2019-11-24T00:16:05.187127",
     "exception": false,
     "start_time": "2019-11-24T00:16:05.163374",
     "status": "completed"
    },
    "tags": []
   },
   "outputs": [],
   "source": [
    "estimator = BalancedRandomForestClassifier(n_estimators=n_estimators,\n",
    "                                           criterion='gini',\n",
    "                                           max_depth=None,\n",
    "                                           min_samples_split=2,\n",
    "                                           min_samples_leaf=2,\n",
    "                                           min_weight_fraction_leaf=0.0,\n",
    "                                           max_features='auto',\n",
    "                                           max_leaf_nodes=None,\n",
    "                                           min_impurity_decrease=0.0,\n",
    "                                           bootstrap=True,\n",
    "                                           oob_score=False,\n",
    "                                           sampling_strategy='auto',\n",
    "                                           replacement=False,\n",
    "                                           n_jobs=n_jobs,\n",
    "                                           random_state=random_seed,\n",
    "                                           verbose=3,\n",
    "                                           warm_start=False,\n",
    "                                           class_weight=None)\n",
    "\n",
    "cv = StratifiedKFold(n_splits=n_splits, shuffle=True, random_state=random_seed)\n",
    "\n",
    "# TODO change to balanced accuracy score\n",
    "scoring = make_scorer(balanced_accuracy_score)\n",
    "\n",
    "clf = RFECV(estimator,\n",
    "            step=3,\n",
    "            min_features_to_select=1,\n",
    "            cv=cv,\n",
    "            scoring=scoring,\n",
    "            verbose=3,\n",
    "            n_jobs=10)"
   ]
  },
  {
   "cell_type": "code",
   "execution_count": 12,
   "metadata": {
    "papermill": {
     "duration": 8.252302,
     "end_time": "2019-11-24T00:16:13.456438",
     "exception": false,
     "start_time": "2019-11-24T00:16:05.204136",
     "status": "completed"
    },
    "tags": []
   },
   "outputs": [
    {
     "name": "stdout",
     "output_type": "stream",
     "text": [
      "Fitting estimator with 17 features.\n",
      "building tree 5 of 100\n",
      "building tree 6 of 100\n",
      "building tree 3 of 100\n",
      "building tree 14 of 100\n",
      "building tree 12 of 100\n",
      "building tree 4 of 100\n",
      "building tree 11 of 100\n",
      "building tree 15 of 100\n",
      "building tree 1 of 100\n",
      "building tree 2 of 100\n",
      "building tree 9 of 100\n",
      "building tree 7 of 100\n",
      "building tree 13 of 100\n",
      "building tree 17 of 100\n",
      "building tree 24 of 100\n",
      "building tree 18 of 100\n",
      "building tree 20 of 100\n",
      "building tree 16 of 100\n",
      "building tree 19 of 100\n",
      "building tree 22 of 100\n",
      "building tree 26 of 100\n",
      "building tree 25 of 100\n",
      "building tree 8 of 100\n",
      "building tree 10 of 100\n",
      "building tree 21 of 100\n",
      "building tree 29 of 100\n",
      "building tree 23 of 100\n",
      "building tree 27 of 100\n",
      "building tree 30 of 100\n",
      "building tree 28 of 100\n",
      "building tree 31 of 100\n"
     ]
    },
    {
     "name": "stderr",
     "output_type": "stream",
     "text": [
      "[Parallel(n_jobs=30)]: Using backend ThreadingBackend with 30 concurrent workers.\n"
     ]
    },
    {
     "name": "stdout",
     "output_type": "stream",
     "text": [
      "building tree 33 of 100\n",
      "building tree 40 of 100\n",
      "building tree 32 of 100\n",
      "building tree 34 of 100\n",
      "building tree 36 of 100\n",
      "building tree 38 of 100\n",
      "building tree 42 of 100building tree 37 of 100\n",
      "building tree 35 of 100\n",
      "building tree 39 of 100building tree 46 of 100\n",
      "building tree 45 of 100\n",
      "\n",
      "\n",
      "building tree 48 of 100\n",
      "building tree 43 of 100\n",
      "building tree 51 of 100\n",
      "building tree 41 of 100\n",
      "building tree 53 of 100\n",
      "building tree 44 of 100\n",
      "building tree 50 of 100building tree 52 of 100\n",
      "\n",
      "building tree 47 of 100building tree 49 of 100\n",
      "\n",
      "building tree 59 of 100building tree 57 of 100\n",
      "\n",
      "building tree 56 of 100\n",
      "building tree 54 of 100building tree 55 of 100\n",
      "\n",
      "building tree 58 of 100\n",
      "building tree 60 of 100\n",
      "building tree 61 of 100\n",
      "building tree 62 of 100\n",
      "building tree 63 of 100\n",
      "building tree 65 of 100building tree 64 of 100\n",
      "\n",
      "building tree 66 of 100\n",
      "building tree 68 of 100\n",
      "building tree 67 of 100\n",
      "building tree 72 of 100building tree 69 of 100\n",
      "\n",
      "building tree 71 of 100building tree 70 of 100\n",
      "building tree 74 of 100\n",
      "\n",
      "building tree 81 of 100building tree 75 of 100\n",
      "\n",
      "building tree 73 of 100\n",
      "building tree 80 of 100building tree 79 of 100\n",
      "\n",
      "building tree 78 of 100\n",
      "building tree 90 of 100\n",
      "building tree 77 of 100building tree 84 of 100\n",
      "\n",
      "building tree 76 of 100\n",
      "building tree 83 of 100\n",
      "building tree 86 of 100building tree 92 of 100building tree 82 of 100\n",
      "building tree 85 of 100\n",
      "\n",
      "\n",
      "building tree 87 of 100\n",
      "building tree 88 of 100\n",
      "building tree 89 of 100\n",
      "building tree 91 of 100\n",
      "building tree 93 of 100\n",
      "building tree 94 of 100\n"
     ]
    },
    {
     "name": "stdout",
     "output_type": "stream",
     "text": [
      "building tree 95 of 100\n",
      "building tree 96 of 100\n",
      "building tree 97 of 100\n",
      "building tree 98 of 100\n",
      "building tree 100 of 100\n",
      "building tree 99 of 100\n"
     ]
    },
    {
     "name": "stderr",
     "output_type": "stream",
     "text": [
      "[Parallel(n_jobs=30)]: Done  75 out of 100 | elapsed:    0.4s remaining:    0.1s\n",
      "[Parallel(n_jobs=30)]: Done 100 out of 100 | elapsed:    0.4s finished\n"
     ]
    },
    {
     "name": "stderr",
     "output_type": "stream",
     "text": [
      "[Parallel(n_jobs=30)]: Using backend ThreadingBackend with 30 concurrent workers.\n"
     ]
    },
    {
     "name": "stdout",
     "output_type": "stream",
     "text": [
      "building tree 2 of 100\n",
      "building tree 5 of 100\n",
      "building tree 4 of 100\n",
      "building tree 17 of 100\n",
      "building tree 6 of 100\n",
      "building tree 16 of 100\n",
      "building tree 1 of 100\n",
      "building tree 21 of 100\n",
      "building tree 7 of 100\n",
      "building tree 3 of 100\n",
      "building tree 9 of 100\n",
      "building tree 11 of 100\n",
      "building tree 14 of 100\n",
      "building tree 15 of 100\n",
      "building tree 12 of 100\n",
      "building tree 13 of 100\n",
      "building tree 24 of 100\n",
      "building tree 18 of 100\n",
      "building tree 10 of 100\n",
      "building tree 8 of 100\n",
      "building tree 20 of 100\n",
      "building tree 22 of 100\n",
      "building tree 25 of 100\n",
      "building tree 23 of 100\n",
      "building tree 26 of 100\n",
      "building tree 19 of 100\n",
      "building tree 27 of 100\n",
      "building tree 30 of 100\n",
      "building tree 28 of 100\n",
      "building tree 29 of 100\n",
      "building tree 31 of 100\n",
      "building tree 32 of 100\n",
      "building tree 33 of 100\n",
      "building tree 34 of 100building tree 39 of 100building tree 36 of 100\n",
      "building tree 35 of 100\n",
      "\n",
      "\n",
      "building tree 41 of 100\n",
      "building tree 38 of 100\n",
      "building tree 37 of 100\n",
      "building tree 43 of 100building tree 46 of 100\n",
      "\n",
      "building tree 49 of 100building tree 40 of 100building tree 45 of 100\n",
      "\n",
      "\n",
      "building tree 48 of 100building tree 42 of 100building tree 50 of 100building tree 54 of 100\n",
      "\n",
      "\n",
      "\n",
      "building tree 44 of 100building tree 56 of 100\n",
      "\n",
      "building tree 55 of 100building tree 53 of 100building tree 47 of 100\n",
      "building tree 51 of 100\n",
      "building tree 59 of 100\n",
      "\n",
      "\n",
      "building tree 60 of 100\n",
      "building tree 52 of 100\n",
      "building tree 58 of 100\n",
      "building tree 57 of 100\n",
      "building tree 62 of 100\n",
      "building tree 61 of 100\n"
     ]
    },
    {
     "name": "stdout",
     "output_type": "stream",
     "text": [
      "building tree 63 of 100\n",
      "building tree 65 of 100building tree 64 of 100\n",
      "\n",
      "building tree 66 of 100\n",
      "building tree 67 of 100\n",
      "building tree 68 of 100\n",
      "building tree 69 of 100\n",
      "building tree 71 of 100\n",
      "building tree 73 of 100\n",
      "building tree 74 of 100building tree 78 of 100\n",
      "\n",
      "building tree 72 of 100building tree 86 of 100\n",
      "building tree 76 of 100building tree 77 of 100building tree 79 of 100\n",
      "\n",
      "building tree 70 of 100\n",
      "\n",
      "building tree 75 of 100building tree 80 of 100\n",
      "building tree 87 of 100\n",
      "\n",
      "building tree 82 of 100building tree 88 of 100building tree 83 of 100\n",
      "\n",
      "building tree 84 of 100building tree 85 of 100building tree 91 of 100\n",
      "\n",
      "\n",
      "\n",
      "building tree 81 of 100\n",
      "\n",
      "building tree 90 of 100\n",
      "building tree 89 of 100\n",
      "building tree 92 of 100\n",
      "building tree 93 of 100\n",
      "building tree 94 of 100\n",
      "building tree 95 of 100\n",
      "building tree 97 of 100\n",
      "building tree 96 of 100\n",
      "building tree 98 of 100\n",
      "building tree 100 of 100\n",
      "building tree 99 of 100\n"
     ]
    },
    {
     "name": "stderr",
     "output_type": "stream",
     "text": [
      "[Parallel(n_jobs=30)]: Done  75 out of 100 | elapsed:    0.4s remaining:    0.1s\n",
      "[Parallel(n_jobs=30)]: Done 100 out of 100 | elapsed:    0.4s finished\n",
      "[Parallel(n_jobs=30)]: Using backend ThreadingBackend with 30 concurrent workers.\n"
     ]
    },
    {
     "name": "stdout",
     "output_type": "stream",
     "text": [
      "building tree 1 of 100\n",
      "building tree 2 of 100\n",
      "building tree 7 of 100\n",
      "building tree 4 of 100\n",
      "building tree 3 of 100\n",
      "building tree 13 of 100\n",
      "building tree 5 of 100\n",
      "building tree 8 of 100\n",
      "building tree 19 of 100\n",
      "building tree 21 of 100\n",
      "building tree 6 of 100\n",
      "building tree 18 of 100building tree 23 of 100\n",
      "building tree 10 of 100\n",
      "building tree 9 of 100\n",
      "building tree 15 of 100\n",
      "building tree 11 of 100\n",
      "\n",
      "building tree 20 of 100\n",
      "building tree 16 of 100\n",
      "building tree 17 of 100\n",
      "building tree 14 of 100\n",
      "building tree 22 of 100\n",
      "building tree 26 of 100\n",
      "building tree 12 of 100\n",
      "building tree 24 of 100\n",
      "building tree 25 of 100\n",
      "building tree 28 of 100building tree 27 of 100\n",
      "\n",
      "building tree 29 of 100\n",
      "building tree 30 of 100\n",
      "building tree 32 of 100\n",
      "building tree 33 of 100\n",
      "building tree 34 of 100\n",
      "building tree 35 of 100\n",
      "building tree 31 of 100\n",
      "building tree 37 of 100\n",
      "building tree 40 of 100\n",
      "building tree 44 of 100\n",
      "building tree 56 of 100\n",
      "building tree 50 of 100\n",
      "building tree 42 of 100building tree 38 of 100\n",
      "\n",
      "building tree 41 of 100\n",
      "building tree 60 of 100building tree 51 of 100building tree 58 of 100\n",
      "building tree 52 of 100\n",
      "\n",
      "building tree 36 of 100building tree 46 of 100building tree 45 of 100building tree 54 of 100\n",
      "\n",
      "\n",
      "\n",
      "building tree 48 of 100\n",
      "building tree 43 of 100\n",
      "building tree 55 of 100\n",
      "\n",
      "building tree 47 of 100\n",
      "building tree 59 of 100building tree 49 of 100\n",
      "building tree 39 of 100\n",
      "\n",
      "building tree 53 of 100\n",
      "building tree 57 of 100\n",
      "building tree 61 of 100\n"
     ]
    },
    {
     "name": "stdout",
     "output_type": "stream",
     "text": [
      "building tree 62 of 100\n",
      "building tree 64 of 100\n",
      "building tree 63 of 100\n",
      "building tree 65 of 100\n",
      "building tree 67 of 100\n",
      "building tree 66 of 100\n",
      "building tree 68 of 100\n",
      "building tree 69 of 100\n",
      "building tree 70 of 100building tree 75 of 100\n",
      "building tree 78 of 100\n",
      "\n",
      "building tree 80 of 100\n",
      "building tree 74 of 100\n",
      "building tree 81 of 100building tree 73 of 100\n",
      "\n",
      "building tree 77 of 100building tree 71 of 100\n",
      "\n",
      "building tree 72 of 100building tree 84 of 100\n",
      "\n",
      "building tree 76 of 100building tree 82 of 100\n",
      "\n",
      "building tree 87 of 100building tree 85 of 100building tree 83 of 100\n",
      "\n",
      "\n",
      "building tree 79 of 100building tree 89 of 100\n",
      "building tree 88 of 100\n",
      "\n",
      "building tree 90 of 100\n",
      "building tree 91 of 100building tree 86 of 100\n",
      "\n",
      "building tree 92 of 100\n",
      "building tree 93 of 100\n",
      "building tree 94 of 100\n",
      "building tree 96 of 100\n",
      "building tree 95 of 100\n",
      "building tree 97 of 100building tree 98 of 100\n",
      "\n",
      "building tree 99 of 100\n",
      "building tree 100 of 100\n"
     ]
    },
    {
     "name": "stderr",
     "output_type": "stream",
     "text": [
      "[Parallel(n_jobs=30)]: Done  75 out of 100 | elapsed:    0.4s remaining:    0.1s\n",
      "[Parallel(n_jobs=30)]: Done 100 out of 100 | elapsed:    0.4s finished\n"
     ]
    },
    {
     "data": {
      "text/plain": [
       "['Model/RFECV.lib']"
      ]
     },
     "execution_count": 12,
     "metadata": {},
     "output_type": "execute_result"
    }
   ],
   "source": [
    "clf.fit(train_df, train_label)\n",
    "joblib.dump(clf, 'Model/RFECV.lib')"
   ]
  },
  {
   "cell_type": "markdown",
   "metadata": {
    "ExecuteTime": {
     "end_time": "2019-11-23T21:29:50.484775Z",
     "start_time": "2019-11-23T21:29:50.140636Z"
    },
    "papermill": {
     "duration": 0.018568,
     "end_time": "2019-11-24T00:16:13.495008",
     "exception": false,
     "start_time": "2019-11-24T00:16:13.476440",
     "status": "completed"
    },
    "tags": []
   },
   "source": [
    "## Featurs"
   ]
  },
  {
   "cell_type": "code",
   "execution_count": 13,
   "metadata": {
    "ExecuteTime": {
     "end_time": "2019-11-23T21:30:02.951407Z",
     "start_time": "2019-11-23T21:30:02.840181Z"
    },
    "papermill": {
     "duration": 0.360206,
     "end_time": "2019-11-24T00:16:13.874867",
     "exception": false,
     "start_time": "2019-11-24T00:16:13.514661",
     "status": "completed"
    },
    "tags": []
   },
   "outputs": [
    {
     "data": {
      "text/plain": [
       "[<matplotlib.lines.Line2D at 0x7fe10f38b4e0>]"
      ]
     },
     "execution_count": 13,
     "metadata": {},
     "output_type": "execute_result"
    },
    {
     "data": {
      "image/png": "[encoded data removed]",
      "text/plain": [
       "<Figure size 432x288 with 1 Axes>"
      ]
     },
     "metadata": {
      "needs_background": "light"
     },
     "output_type": "display_data"
    }
   ],
   "source": [
    "plt.plot(clf.grid_scores_)"
   ]
  },
  {
   "cell_type": "code",
   "execution_count": 14,
   "metadata": {
    "ExecuteTime": {
     "end_time": "2019-11-23T21:30:36.811791Z",
     "start_time": "2019-11-23T21:30:36.808770Z"
    },
    "papermill": {
     "duration": 0.026253,
     "end_time": "2019-11-24T00:16:13.921136",
     "exception": false,
     "start_time": "2019-11-24T00:16:13.894883",
     "status": "completed"
    },
    "scrolled": true,
    "tags": []
   },
   "outputs": [
    {
     "name": "stdout",
     "output_type": "stream",
     "text": [
      "14 features selected by RFECV\n"
     ]
    }
   ],
   "source": [
    "feature_to_use = train_df.columns[clf.support_]\n",
    "print(feature_to_use.size, 'features selected by RFECV')"
   ]
  },
  {
   "cell_type": "markdown",
   "metadata": {
    "papermill": {
     "duration": 0.0199,
     "end_time": "2019-11-24T00:16:13.962367",
     "exception": false,
     "start_time": "2019-11-24T00:16:13.942467",
     "status": "completed"
    },
    "tags": []
   },
   "source": [
    "## Testing"
   ]
  },
  {
   "cell_type": "code",
   "execution_count": 15,
   "metadata": {
    "ExecuteTime": {
     "end_time": "2019-11-23T21:31:11.604865Z",
     "start_time": "2019-11-23T21:31:11.324525Z"
    },
    "papermill": {
     "duration": 0.238062,
     "end_time": "2019-11-24T00:16:14.220140",
     "exception": false,
     "start_time": "2019-11-24T00:16:13.982078",
     "status": "completed"
    },
    "tags": []
   },
   "outputs": [
    {
     "name": "stderr",
     "output_type": "stream",
     "text": [
      "[Parallel(n_jobs=30)]: Using backend ThreadingBackend with 30 concurrent workers.\n",
      "[Parallel(n_jobs=30)]: Done  75 out of 100 | elapsed:    0.0s remaining:    0.0s\n",
      "[Parallel(n_jobs=30)]: Done 100 out of 100 | elapsed:    0.0s finished\n",
      "[Parallel(n_jobs=30)]: Using backend ThreadingBackend with 30 concurrent workers.\n",
      "[Parallel(n_jobs=30)]: Done  75 out of 100 | elapsed:    0.0s remaining:    0.0s\n",
      "[Parallel(n_jobs=30)]: Done 100 out of 100 | elapsed:    0.0s finished\n"
     ]
    }
   ],
   "source": [
    "# final pred\n",
    "pred_label = clf.predict(test_df)\n",
    "\n",
    "# final pred proba\n",
    "pred_proba = clf.predict_proba(test_df)\n",
    "pred_proba = pd.DataFrame(pred_proba, index=test_df.index, columns=clf.classes_)\n",
    "pred_proba = pred_proba[cluster_order].copy()"
   ]
  },
  {
   "cell_type": "code",
   "execution_count": 16,
   "metadata": {
    "ExecuteTime": {
     "end_time": "2019-11-23T21:50:13.154103Z",
     "start_time": "2019-11-23T21:50:13.142301Z"
    },
    "papermill": {
     "duration": 0.030264,
     "end_time": "2019-11-24T00:16:14.271117",
     "exception": false,
     "start_time": "2019-11-24T00:16:14.240853",
     "status": "completed"
    },
    "tags": []
   },
   "outputs": [
    {
     "data": {
      "text/plain": [
       "0.9979981983785406"
      ]
     },
     "execution_count": 16,
     "metadata": {},
     "output_type": "execute_result"
    }
   ],
   "source": [
    "balanced_accuracy_score(test_label, pred_label)"
   ]
  },
  {
   "cell_type": "markdown",
   "metadata": {
    "papermill": {
     "duration": 0.019543,
     "end_time": "2019-11-24T00:16:14.310110",
     "exception": false,
     "start_time": "2019-11-24T00:16:14.290567",
     "status": "completed"
    },
    "tags": []
   },
   "source": [
    "## Confusion matrix"
   ]
  },
  {
   "cell_type": "code",
   "execution_count": 17,
   "metadata": {
    "ExecuteTime": {
     "end_time": "2019-11-23T21:33:07.362427Z",
     "start_time": "2019-11-23T21:33:07.349992Z"
    },
    "papermill": {
     "duration": 0.032954,
     "end_time": "2019-11-24T00:16:14.363423",
     "exception": false,
     "start_time": "2019-11-24T00:16:14.330469",
     "status": "completed"
    },
    "tags": []
   },
   "outputs": [],
   "source": [
    "cfm = confusion_matrix(test_label, pred_label, labels=cluster_order)\n",
    "cfm = pd.DataFrame(cfm, index=cluster_order, columns=cluster_order)\n",
    "\n",
    "cfm_ratio = cfm / cfm.sum(axis=1)[:, None]"
   ]
  },
  {
   "cell_type": "code",
   "execution_count": 18,
   "metadata": {
    "ExecuteTime": {
     "end_time": "2019-11-23T21:33:23.238011Z",
     "start_time": "2019-11-23T21:33:21.346089Z"
    },
    "papermill": {
     "duration": 0.339928,
     "end_time": "2019-11-24T00:16:14.723904",
     "exception": false,
     "start_time": "2019-11-24T00:16:14.383976",
     "status": "completed"
    },
    "tags": []
   },
   "outputs": [
    {
     "data": {
      "text/plain": [
       "[(0, 2)]"
      ]
     },
     "execution_count": 18,
     "metadata": {},
     "output_type": "execute_result"
    },
    {
     "data": {
      "image/png": "[encoded data removed]",
      "text/plain": [
       "<Figure size 1440x1440 with 1 Axes>"
      ]
     },
     "metadata": {
      "needs_background": "light"
     },
     "output_type": "display_data"
    }
   ],
   "source": [
    "fig, ax = plt.subplots(figsize=(20, 20))\n",
    "sns.heatmap(cfm_ratio, cbar=None, vmin=0, vmax=0.9, cmap='viridis')\n",
    "ax.set(ylim=(0, cfm_ratio.shape[0]))"
   ]
  },
  {
   "cell_type": "code",
   "execution_count": 19,
   "metadata": {
    "ExecuteTime": {
     "end_time": "2019-11-23T21:35:53.389394Z",
     "start_time": "2019-11-23T21:35:53.383838Z"
    },
    "papermill": {
     "duration": 0.030181,
     "end_time": "2019-11-24T00:16:14.775188",
     "exception": false,
     "start_time": "2019-11-24T00:16:14.745007",
     "status": "completed"
    },
    "tags": []
   },
   "outputs": [],
   "source": [
    "cluster_order_map = {c: i for i, c in enumerate(cluster_order)}\n",
    "test_orders = pred_proba.index.map(adata.obs[cluster_col]).map(cluster_order_map)\n",
    "sort_pred_proba = pred_proba.iloc[test_orders.argsort(), :]"
   ]
  },
  {
   "cell_type": "code",
   "execution_count": 20,
   "metadata": {
    "ExecuteTime": {
     "end_time": "2019-11-23T21:38:51.123979Z",
     "start_time": "2019-11-23T21:38:48.948233Z"
    },
    "papermill": {
     "duration": 1.212725,
     "end_time": "2019-11-24T00:16:16.008827",
     "exception": false,
     "start_time": "2019-11-24T00:16:14.796102",
     "status": "completed"
    },
    "tags": []
   },
   "outputs": [
    {
     "data": {
      "text/plain": [
       "<matplotlib.axes._subplots.AxesSubplot at 0x7fe113927b38>"
      ]
     },
     "execution_count": 20,
     "metadata": {},
     "output_type": "execute_result"
    },
    {
     "data": {
      "image/png": "[encoded data removed]",
      "text/plain": [
       "<Figure size 720x1440 with 1 Axes>"
      ]
     },
     "metadata": {
      "needs_background": "light"
     },
     "output_type": "display_data"
    }
   ],
   "source": [
    "fig, ax = plt.subplots(figsize=(10, 20))\n",
    "sns.heatmap(sort_pred_proba, ax=ax, cbar=None)"
   ]
  },
  {
   "cell_type": "code",
   "execution_count": 21,
   "metadata": {
    "ExecuteTime": {
     "end_time": "2019-11-23T21:40:48.316851Z",
     "start_time": "2019-11-23T21:40:48.144663Z"
    },
    "papermill": {
     "duration": 0.247367,
     "end_time": "2019-11-24T00:16:16.278889",
     "exception": false,
     "start_time": "2019-11-24T00:16:16.031522",
     "status": "completed"
    },
    "tags": []
   },
   "outputs": [
    {
     "data": {
      "text/plain": [
       "<matplotlib.axes._subplots.AxesSubplot at 0x7fe10f646f28>"
      ]
     },
     "execution_count": 21,
     "metadata": {},
     "output_type": "execute_result"
    },
    {
     "data": {
      "image/png": "[encoded data removed]",
      "text/plain": [
       "<Figure size 432x288 with 1 Axes>"
      ]
     },
     "metadata": {
      "needs_background": "light"
     },
     "output_type": "display_data"
    }
   ],
   "source": [
    "max_proba = []\n",
    "for cell, cluster in sort_pred_proba.idxmax(axis=1).iteritems():\n",
    "    max_proba.append(sort_pred_proba.at[cell, cluster])\n",
    "sns.distplot(max_proba)"
   ]
  },
  {
   "cell_type": "markdown",
   "metadata": {
    "papermill": {
     "duration": 0.023626,
     "end_time": "2019-11-24T00:16:16.326698",
     "exception": false,
     "start_time": "2019-11-24T00:16:16.303072",
     "status": "completed"
    },
    "tags": []
   },
   "source": [
    "## Train final model with RFECV selected feature"
   ]
  },
  {
   "cell_type": "code",
   "execution_count": 22,
   "metadata": {
    "ExecuteTime": {
     "end_time": "2019-11-23T21:45:20.292901Z",
     "start_time": "2019-11-23T21:45:19.814447Z"
    },
    "papermill": {
     "duration": 0.030116,
     "end_time": "2019-11-24T00:16:16.379988",
     "exception": false,
     "start_time": "2019-11-24T00:16:16.349872",
     "status": "completed"
    },
    "tags": []
   },
   "outputs": [],
   "source": [
    "selected_train_df = train_df.loc[:, feature_to_use]\n",
    "selected_test_df = test_df.loc[:, feature_to_use]"
   ]
  },
  {
   "cell_type": "code",
   "execution_count": 23,
   "metadata": {
    "ExecuteTime": {
     "end_time": "2019-11-23T21:45:21.924900Z",
     "start_time": "2019-11-23T21:45:21.920840Z"
    },
    "papermill": {
     "duration": 0.030784,
     "end_time": "2019-11-24T00:16:16.434514",
     "exception": false,
     "start_time": "2019-11-24T00:16:16.403730",
     "status": "completed"
    },
    "tags": []
   },
   "outputs": [],
   "source": [
    "# final estimator with larger trees\n",
    "final_estimator = BalancedRandomForestClassifier(n_estimators=n_estimators_final,\n",
    "                                                 criterion='gini',\n",
    "                                                 max_depth=None,\n",
    "                                                 min_samples_split=2,\n",
    "                                                 min_samples_leaf=2,\n",
    "                                                 min_weight_fraction_leaf=0.0,\n",
    "                                                 max_features='auto',\n",
    "                                                 max_leaf_nodes=None,\n",
    "                                                 min_impurity_decrease=0.0,\n",
    "                                                 bootstrap=True,\n",
    "                                                 oob_score=False,\n",
    "                                                 sampling_strategy='auto',\n",
    "                                                 replacement=False,\n",
    "                                                 n_jobs=n_jobs,\n",
    "                                                 random_state=random_seed,\n",
    "                                                 verbose=3,\n",
    "                                                 warm_start=False,\n",
    "                                                 class_weight=None)"
   ]
  },
  {
   "cell_type": "code",
   "execution_count": 24,
   "metadata": {
    "ExecuteTime": {
     "end_time": "2019-11-23T21:45:50.194648Z",
     "start_time": "2019-11-23T21:45:23.319307Z"
    },
    "papermill": {
     "duration": 3.051111,
     "end_time": "2019-11-24T00:16:19.508885",
     "exception": false,
     "start_time": "2019-11-24T00:16:16.457774",
     "status": "completed"
    },
    "tags": []
   },
   "outputs": [
    {
     "name": "stderr",
     "output_type": "stream",
     "text": [
      "[Parallel(n_jobs=30)]: Using backend ThreadingBackend with 30 concurrent workers.\n"
     ]
    },
    {
     "name": "stdout",
     "output_type": "stream",
     "text": [
      "building tree 2 of 500\n",
      "building tree 10 of 500\n",
      "building tree 5 of 500\n",
      "building tree 11 of 500\n",
      "building tree 1 of 500\n",
      "building tree 14 of 500\n",
      "building tree 9 of 500\n",
      "building tree 4 of 500\n",
      "building tree 3 of 500\n",
      "building tree 21 of 500building tree 12 of 500\n",
      "building tree 20 of 500\n",
      "\n",
      "building tree 8 of 500\n",
      "building tree 7 of 500\n",
      "building tree 13 of 500\n",
      "building tree 6 of 500\n",
      "building tree 16 of 500\n",
      "building tree 15 of 500\n",
      "building tree 17 of 500\n",
      "building tree 18 of 500\n",
      "building tree 22 of 500\n",
      "building tree 24 of 500\n",
      "building tree 19 of 500\n",
      "building tree 26 of 500building tree 28 of 500\n",
      "\n",
      "building tree 27 of 500\n",
      "building tree 25 of 500\n",
      "building tree 30 of 500\n",
      "building tree 29 of 500building tree 23 of 500\n",
      "\n",
      "building tree 32 of 500\n",
      "building tree 31 of 500\n",
      "building tree 33 of 500\n",
      "building tree 35 of 500\n",
      "building tree 34 of 500\n",
      "building tree 38 of 500\n",
      "building tree 36 of 500\n",
      "building tree 37 of 500\n",
      "building tree 43 of 500\n",
      "building tree 40 of 500\n",
      "building tree 47 of 500\n",
      "building tree 44 of 500building tree 46 of 500\n",
      "\n",
      "building tree 42 of 500building tree 54 of 500\n",
      "building tree 41 of 500\n",
      "building tree 55 of 500\n",
      "building tree 51 of 500building tree 49 of 500\n",
      "building tree 56 of 500building tree 52 of 500\n",
      "\n",
      "\n",
      "\n",
      "building tree 45 of 500building tree 53 of 500\n",
      "\n",
      "building tree 39 of 500building tree 57 of 500building tree 60 of 500\n",
      "building tree 50 of 500\n",
      "\n",
      "\n",
      "building tree 58 of 500\n",
      "building tree 59 of 500\n",
      "building tree 48 of 500\n",
      "building tree 61 of 500\n"
     ]
    },
    {
     "name": "stdout",
     "output_type": "stream",
     "text": [
      "building tree 62 of 500\n",
      "building tree 63 of 500\n",
      "building tree 64 of 500\n",
      "building tree 65 of 500\n",
      "building tree 66 of 500\n",
      "building tree 67 of 500\n",
      "building tree 68 of 500\n",
      "building tree 69 of 500\n",
      "building tree 72 of 500\n",
      "building tree 73 of 500\n",
      "building tree 70 of 500\n",
      "building tree 74 of 500\n",
      "building tree 75 of 500\n",
      "building tree 80 of 500\n",
      "building tree 71 of 500\n",
      "building tree 76 of 500\n",
      "building tree 81 of 500\n",
      "building tree 85 of 500\n",
      "building tree 84 of 500building tree 79 of 500\n",
      "building tree 82 of 500\n",
      "building tree 86 of 500building tree 78 of 500\n",
      "\n",
      "\n",
      "building tree 90 of 500\n",
      "building tree 77 of 500\n",
      "building tree 87 of 500\n",
      "building tree 89 of 500building tree 93 of 500\n",
      "building tree 88 of 500\n",
      "building tree 83 of 500\n",
      "building tree 91 of 500\n",
      "\n",
      "building tree 92 of 500\n",
      "building tree 94 of 500\n",
      "building tree 95 of 500\n",
      "building tree 96 of 500building tree 97 of 500\n",
      "\n",
      "building tree 98 of 500\n",
      "building tree 99 of 500\n",
      "building tree 100 of 500\n",
      "building tree 101 of 500\n",
      "building tree 102 of 500\n",
      "building tree 107 of 500building tree 103 of 500\n",
      "\n",
      "building tree 105 of 500\n",
      "building tree 104 of 500building tree 109 of 500\n",
      "\n"
     ]
    },
    {
     "name": "stderr",
     "output_type": "stream",
     "text": [
      "[Parallel(n_jobs=30)]: Done  68 tasks      | elapsed:    0.4s\n"
     ]
    },
    {
     "name": "stdout",
     "output_type": "stream",
     "text": [
      "building tree 113 of 500building tree 110 of 500\n",
      "building tree 106 of 500building tree 116 of 500\n",
      "\n",
      "\n",
      "building tree 108 of 500building tree 114 of 500\n",
      "\n",
      "building tree 120 of 500\n",
      "building tree 117 of 500\n",
      "building tree 119 of 500building tree 115 of 500\n",
      "\n",
      "building tree 112 of 500\n",
      "building tree 111 of 500\n",
      "building tree 118 of 500\n",
      "building tree 122 of 500building tree 121 of 500\n",
      "\n",
      "building tree 123 of 500\n",
      "building tree 127 of 500\n",
      "building tree 126 of 500\n",
      "building tree 124 of 500\n",
      "building tree 125 of 500\n",
      "building tree 128 of 500\n",
      "building tree 129 of 500\n",
      "building tree 130 of 500\n",
      "building tree 131 of 500\n",
      "building tree 132 of 500\n",
      "building tree 134 of 500\n",
      "building tree 136 of 500\n",
      "building tree 133 of 500\n",
      "building tree 135 of 500\n",
      "building tree 138 of 500\n",
      "building tree 137 of 500\n",
      "building tree 141 of 500\n",
      "building tree 140 of 500\n",
      "building tree 145 of 500\n",
      "building tree 144 of 500\n",
      "building tree 139 of 500\n",
      "building tree 149 of 500\n",
      "building tree 143 of 500building tree 150 of 500building tree 142 of 500\n",
      "\n",
      "\n",
      "building tree 152 of 500\n",
      "building tree 148 of 500\n",
      "building tree 154 of 500\n",
      "building tree 147 of 500\n",
      "building tree 146 of 500building tree 153 of 500\n",
      "\n",
      "building tree 151 of 500\n",
      "building tree 157 of 500\n",
      "building tree 156 of 500\n",
      "building tree 155 of 500\n",
      "building tree 159 of 500building tree 160 of 500\n",
      "building tree 158 of 500\n",
      "\n",
      "building tree 161 of 500\n"
     ]
    },
    {
     "name": "stdout",
     "output_type": "stream",
     "text": [
      "building tree 163 of 500\n",
      "building tree 162 of 500\n",
      "building tree 164 of 500\n",
      "building tree 165 of 500building tree 167 of 500\n",
      "\n",
      "building tree 166 of 500\n",
      "building tree 169 of 500\n",
      "building tree 170 of 500\n",
      "building tree 171 of 500building tree 175 of 500building tree 168 of 500\n",
      "\n",
      "\n",
      "building tree 174 of 500\n",
      "building tree 179 of 500\n",
      "building tree 173 of 500\n",
      "building tree 176 of 500\n",
      "building tree 177 of 500\n",
      "building tree 180 of 500\n",
      "building tree 178 of 500building tree 172 of 500\n",
      "building tree 182 of 500\n",
      "\n",
      "building tree 181 of 500\n",
      "building tree 185 of 500building tree 184 of 500building tree 183 of 500\n",
      "\n",
      "building tree 186 of 500\n",
      "\n",
      "building tree 187 of 500\n",
      "building tree 188 of 500\n",
      "building tree 189 of 500\n",
      "building tree 191 of 500\n",
      "building tree 190 of 500\n",
      "building tree 192 of 500\n",
      "building tree 193 of 500\n",
      "building tree 194 of 500\n",
      "building tree 195 of 500\n",
      "building tree 196 of 500\n",
      "building tree 203 of 500\n",
      "building tree 197 of 500\n",
      "building tree 199 of 500\n",
      "building tree 200 of 500\n",
      "building tree 201 of 500\n",
      "building tree 202 of 500\n",
      "building tree 206 of 500\n",
      "building tree 205 of 500building tree 198 of 500\n",
      "building tree 209 of 500building tree 207 of 500\n",
      "\n",
      "\n",
      "building tree 208 of 500\n",
      "building tree 213 of 500building tree 211 of 500\n",
      "\n",
      "building tree 210 of 500building tree 204 of 500\n",
      "\n",
      "building tree 216 of 500\n",
      "building tree 212 of 500building tree 214 of 500\n",
      "\n",
      "building tree 215 of 500\n",
      "building tree 217 of 500\n",
      "building tree 218 of 500\n"
     ]
    },
    {
     "name": "stdout",
     "output_type": "stream",
     "text": [
      "building tree 219 of 500\n",
      "building tree 220 of 500\n",
      "building tree 221 of 500\n",
      "building tree 222 of 500\n",
      "building tree 227 of 500building tree 225 of 500building tree 224 of 500\n",
      "\n",
      "\n",
      "building tree 226 of 500\n",
      "building tree 223 of 500\n",
      "building tree 228 of 500\n",
      "building tree 229 of 500\n",
      "building tree 230 of 500\n",
      "building tree 235 of 500\n",
      "building tree 232 of 500building tree 240 of 500\n",
      "building tree 239 of 500\n",
      "building tree 233 of 500\n",
      "\n",
      "building tree 242 of 500\n",
      "building tree 236 of 500\n",
      "building tree 234 of 500building tree 246 of 500\n",
      "\n",
      "building tree 238 of 500building tree 237 of 500building tree 241 of 500\n",
      "\n",
      "\n",
      "building tree 244 of 500\n",
      "building tree 243 of 500\n",
      "building tree 231 of 500\n",
      "building tree 248 of 500\n",
      "building tree 247 of 500building tree 245 of 500\n",
      "\n",
      "building tree 249 of 500\n",
      "building tree 250 of 500\n",
      "building tree 251 of 500\n",
      "building tree 254 of 500\n",
      "building tree 253 of 500building tree 252 of 500\n",
      "\n",
      "building tree 255 of 500\n",
      "building tree 257 of 500\n",
      "building tree 256 of 500\n",
      "building tree 259 of 500\n",
      "building tree 258 of 500\n",
      "building tree 263 of 500building tree 260 of 500\n",
      "\n",
      "building tree 268 of 500\n",
      "building tree 271 of 500building tree 266 of 500\n",
      "\n",
      "building tree 262 of 500\n",
      "building tree 261 of 500\n",
      "building tree 264 of 500building tree 269 of 500\n",
      "\n",
      "building tree 270 of 500\n",
      "building tree 265 of 500\n",
      "building tree 272 of 500"
     ]
    },
    {
     "name": "stderr",
     "output_type": "stream",
     "text": [
      "[Parallel(n_jobs=30)]: Done 228 tasks      | elapsed:    1.0s\n"
     ]
    },
    {
     "name": "stdout",
     "output_type": "stream",
     "text": [
      "\n",
      "building tree 275 of 500\n",
      "building tree 267 of 500\n",
      "building tree 274 of 500\n",
      "building tree 276 of 500\n",
      "building tree 273 of 500\n",
      "building tree 278 of 500building tree 277 of 500\n",
      "building tree 280 of 500\n",
      "\n",
      "building tree 282 of 500\n",
      "building tree 279 of 500\n",
      "building tree 281 of 500\n",
      "building tree 283 of 500\n",
      "building tree 286 of 500\n",
      "building tree 284 of 500\n",
      "building tree 287 of 500\n",
      "building tree 285 of 500\n",
      "building tree 289 of 500\n",
      "building tree 292 of 500building tree 288 of 500\n",
      "\n",
      "building tree 290 of 500building tree 291 of 500\n",
      "\n",
      "building tree 299 of 500\n",
      "building tree 300 of 500\n",
      "building tree 296 of 500building tree 293 of 500\n",
      "\n",
      "building tree 298 of 500building tree 294 of 500\n",
      "\n",
      "building tree 302 of 500building tree 295 of 500building tree 301 of 500\n",
      "\n",
      "\n",
      "building tree 297 of 500\n",
      "building tree 304 of 500\n",
      "building tree 303 of 500\n",
      "building tree 307 of 500\n",
      "building tree 306 of 500building tree 305 of 500\n",
      "\n",
      "building tree 308 of 500\n",
      "building tree 309 of 500\n",
      "building tree 312 of 500\n",
      "building tree 311 of 500\n",
      "building tree 310 of 500\n",
      "building tree 313 of 500\n",
      "building tree 314 of 500\n",
      "building tree 317 of 500\n",
      "building tree 315 of 500\n",
      "building tree 316 of 500\n",
      "building tree 318 of 500\n",
      "building tree 320 of 500\n",
      "building tree 321 of 500\n",
      "building tree 319 of 500\n"
     ]
    },
    {
     "name": "stdout",
     "output_type": "stream",
     "text": [
      "building tree 326 of 500building tree 323 of 500\n",
      "building tree 328 of 500\n",
      "\n",
      "building tree 325 of 500building tree 322 of 500\n",
      "building tree 329 of 500\n",
      "\n",
      "building tree 327 of 500\n",
      "building tree 324 of 500\n",
      "building tree 330 of 500\n",
      "building tree 331 of 500\n",
      "building tree 335 of 500\n",
      "building tree 332 of 500building tree 333 of 500\n",
      "\n",
      "building tree 336 of 500\n",
      "building tree 334 of 500\n",
      "building tree 339 of 500building tree 338 of 500\n",
      "building tree 340 of 500\n",
      "\n",
      "building tree 343 of 500building tree 337 of 500\n",
      "\n",
      "building tree 342 of 500\n",
      "building tree 341 of 500\n",
      "building tree 344 of 500\n",
      "building tree 345 of 500\n",
      "building tree 346 of 500\n",
      "building tree 347 of 500\n",
      "building tree 348 of 500\n",
      "building tree 350 of 500\n",
      "building tree 351 of 500\n",
      "building tree 349 of 500\n",
      "building tree 354 of 500\n",
      "building tree 356 of 500\n",
      "building tree 355 of 500building tree 359 of 500\n",
      "building tree 352 of 500\n",
      "\n",
      "building tree 353 of 500\n",
      "building tree 357 of 500\n",
      "building tree 358 of 500building tree 361 of 500\n",
      "\n",
      "building tree 362 of 500\n",
      "building tree 364 of 500building tree 360 of 500\n",
      "\n",
      "building tree 363 of 500\n",
      "building tree 365 of 500\n",
      "building tree 366 of 500\n",
      "building tree 367 of 500\n",
      "building tree 370 of 500\n",
      "building tree 369 of 500building tree 368 of 500\n",
      "\n",
      "building tree 374 of 500\n",
      "building tree 376 of 500building tree 372 of 500\n",
      "building tree 375 of 500\n",
      "\n",
      "building tree 371 of 500\n",
      "building tree 373 of 500\n",
      "building tree 377 of 500\n",
      "building tree 378 of 500\n"
     ]
    },
    {
     "name": "stdout",
     "output_type": "stream",
     "text": [
      "building tree 379 of 500\n",
      "building tree 382 of 500\n",
      "building tree 380 of 500\n",
      "building tree 381 of 500\n",
      "building tree 384 of 500\n",
      "building tree 383 of 500\n",
      "building tree 385 of 500\n",
      "building tree 386 of 500\n",
      "building tree 387 of 500\n",
      "building tree 388 of 500\n",
      "building tree 391 of 500\n",
      "building tree 392 of 500\n",
      "building tree 389 of 500\n",
      "building tree 390 of 500\n",
      "building tree 393 of 500\n",
      "building tree 395 of 500building tree 394 of 500\n",
      "\n",
      "building tree 398 of 500building tree 396 of 500\n",
      "\n",
      "building tree 399 of 500\n",
      "building tree 397 of 500\n",
      "building tree 401 of 500\n",
      "building tree 400 of 500\n",
      "building tree 403 of 500\n",
      "building tree 402 of 500\n",
      "building tree 404 of 500\n",
      "building tree 406 of 500\n",
      "building tree 405 of 500building tree 407 of 500\n",
      "\n",
      "building tree 408 of 500\n",
      "building tree 412 of 500building tree 409 of 500\n",
      "building tree 413 of 500\n",
      "building tree 410 of 500\n",
      "\n",
      "building tree 416 of 500building tree 411 of 500\n",
      "\n",
      "building tree 414 of 500\n",
      "building tree 415 of 500\n",
      "building tree 418 of 500\n",
      "building tree 417 of 500\n",
      "building tree 420 of 500\n",
      "building tree 421 of 500\n",
      "building tree 419 of 500\n",
      "building tree 423 of 500\n",
      "building tree 422 of 500\n",
      "building tree 429 of 500\n",
      "building tree 425 of 500building tree 427 of 500\n",
      "\n",
      "building tree 424 of 500\n"
     ]
    },
    {
     "name": "stdout",
     "output_type": "stream",
     "text": [
      "building tree 428 of 500\n",
      "building tree 430 of 500\n",
      "building tree 433 of 500\n",
      "building tree 432 of 500\n",
      "building tree 431 of 500\n",
      "building tree 426 of 500building tree 436 of 500\n",
      "\n",
      "building tree 435 of 500\n",
      "building tree 434 of 500building tree 439 of 500\n",
      "building tree 443 of 500\n",
      "\n",
      "building tree 438 of 500\n",
      "building tree 437 of 500\n",
      "building tree 442 of 500building tree 440 of 500\n",
      "building tree 441 of 500\n",
      "\n",
      "building tree 447 of 500\n",
      "building tree 449 of 500\n",
      "building tree 448 of 500building tree 445 of 500\n",
      "\n",
      "building tree 450 of 500\n",
      "building tree 446 of 500building tree 451 of 500\n",
      "building tree 444 of 500\n",
      "\n",
      "building tree 453 of 500\n",
      "building tree 452 of 500\n",
      "building tree 455 of 500\n",
      "building tree 456 of 500\n",
      "building tree 454 of 500\n",
      "building tree 457 of 500\n",
      "building tree 458 of 500building tree 462 of 500\n",
      "building tree 460 of 500\n",
      "\n",
      "building tree 461 of 500\n",
      "building tree 459 of 500\n",
      "building tree 463 of 500\n",
      "building tree 464 of 500\n",
      "building tree 465 of 500\n",
      "building tree 468 of 500\n",
      "building tree 467 of 500\n",
      "building tree 466 of 500\n",
      "building tree 469 of 500\n",
      "building tree 471 of 500building tree 470 of 500\n",
      "\n",
      "building tree 473 of 500building tree 476 of 500\n",
      "\n",
      "building tree 474 of 500building tree 478 of 500\n",
      "\n",
      "building tree 477 of 500\n",
      "building tree 472 of 500building tree 480 of 500\n",
      "\n",
      "building tree 475 of 500\n",
      "building tree 479 of 500\n",
      "building tree 481 of 500\n",
      "building tree 482 of 500"
     ]
    },
    {
     "name": "stdout",
     "output_type": "stream",
     "text": [
      "\n",
      "building tree 484 of 500building tree 483 of 500\n",
      "\n",
      "building tree 487 of 500\n",
      "building tree 485 of 500\n",
      "building tree 486 of 500\n",
      "building tree 488 of 500\n",
      "building tree 490 of 500building tree 489 of 500\n",
      "\n",
      "building tree 492 of 500\n",
      "building tree 493 of 500\n",
      "building tree 491 of 500\n",
      "building tree 494 of 500\n",
      "building tree 495 of 500\n",
      "building tree 496 of 500\n",
      "building tree 497 of 500\n",
      "building tree 499 of 500\n",
      "building tree 498 of 500\n",
      "building tree 500 of 500\n"
     ]
    },
    {
     "name": "stderr",
     "output_type": "stream",
     "text": [
      "[Parallel(n_jobs=30)]: Done 500 out of 500 | elapsed:    2.0s finished\n"
     ]
    },
    {
     "data": {
      "text/plain": [
       "['Model/FinalClassifier.lib']"
      ]
     },
     "execution_count": 24,
     "metadata": {},
     "output_type": "execute_result"
    }
   ],
   "source": [
    "final_estimator.fit(selected_train_df, train_label)\n",
    "joblib.dump(final_estimator, 'Model/FinalClassifier.lib')"
   ]
  },
  {
   "cell_type": "markdown",
   "metadata": {
    "papermill": {
     "duration": 0.026876,
     "end_time": "2019-11-24T00:16:19.564658",
     "exception": false,
     "start_time": "2019-11-24T00:16:19.537782",
     "status": "completed"
    },
    "tags": []
   },
   "source": [
    "## Final Pred"
   ]
  },
  {
   "cell_type": "code",
   "execution_count": 25,
   "metadata": {
    "ExecuteTime": {
     "end_time": "2019-11-23T21:48:05.764745Z",
     "start_time": "2019-11-23T21:48:04.736744Z"
    },
    "papermill": {
     "duration": 0.34463,
     "end_time": "2019-11-24T00:16:19.935274",
     "exception": false,
     "start_time": "2019-11-24T00:16:19.590644",
     "status": "completed"
    },
    "tags": []
   },
   "outputs": [
    {
     "name": "stderr",
     "output_type": "stream",
     "text": [
      "[Parallel(n_jobs=30)]: Using backend ThreadingBackend with 30 concurrent workers.\n",
      "[Parallel(n_jobs=30)]: Done  68 tasks      | elapsed:    0.0s\n",
      "[Parallel(n_jobs=30)]: Done 228 tasks      | elapsed:    0.1s\n",
      "[Parallel(n_jobs=30)]: Done 500 out of 500 | elapsed:    0.1s finished\n"
     ]
    },
    {
     "name": "stderr",
     "output_type": "stream",
     "text": [
      "[Parallel(n_jobs=30)]: Using backend ThreadingBackend with 30 concurrent workers.\n",
      "[Parallel(n_jobs=30)]: Done  68 tasks      | elapsed:    0.0s\n",
      "[Parallel(n_jobs=30)]: Done 228 tasks      | elapsed:    0.1s\n",
      "[Parallel(n_jobs=30)]: Done 500 out of 500 | elapsed:    0.1s finished\n"
     ]
    }
   ],
   "source": [
    "final_pred_label = final_estimator.predict(selected_test_df)\n",
    "\n",
    "final_pred_proba = final_estimator.predict_proba(selected_test_df)\n",
    "final_pred_proba = pd.DataFrame(final_pred_proba, index=test_df.index, columns=clf.classes_)\n",
    "final_pred_proba = final_pred_proba[cluster_order].copy()"
   ]
  },
  {
   "cell_type": "code",
   "execution_count": 26,
   "metadata": {
    "ExecuteTime": {
     "end_time": "2019-11-23T21:49:52.761533Z",
     "start_time": "2019-11-23T21:49:52.750148Z"
    },
    "papermill": {
     "duration": 0.037522,
     "end_time": "2019-11-24T00:16:20.001984",
     "exception": false,
     "start_time": "2019-11-24T00:16:19.964462",
     "status": "completed"
    },
    "tags": []
   },
   "outputs": [
    {
     "data": {
      "text/plain": [
       "0.9979981983785406"
      ]
     },
     "execution_count": 26,
     "metadata": {},
     "output_type": "execute_result"
    }
   ],
   "source": [
    "balanced_accuracy_score(test_label, final_pred_label)"
   ]
  },
  {
   "cell_type": "markdown",
   "metadata": {
    "papermill": {
     "duration": 0.027248,
     "end_time": "2019-11-24T00:16:20.056791",
     "exception": false,
     "start_time": "2019-11-24T00:16:20.029543",
     "status": "completed"
    },
    "tags": []
   },
   "source": [
    "## Final evaluate"
   ]
  },
  {
   "cell_type": "code",
   "execution_count": 27,
   "metadata": {
    "ExecuteTime": {
     "end_time": "2019-11-23T21:46:27.295729Z",
     "start_time": "2019-11-23T21:46:27.279245Z"
    },
    "papermill": {
     "duration": 0.037466,
     "end_time": "2019-11-24T00:16:20.122630",
     "exception": false,
     "start_time": "2019-11-24T00:16:20.085164",
     "status": "completed"
    },
    "tags": []
   },
   "outputs": [],
   "source": [
    "cfm = confusion_matrix(test_label, final_pred_label, labels=cluster_order)\n",
    "cfm = pd.DataFrame(cfm, index=cluster_order, columns=cluster_order)\n",
    "\n",
    "cfm_ratio = cfm / cfm.sum(axis=1)[:, None]"
   ]
  },
  {
   "cell_type": "code",
   "execution_count": 28,
   "metadata": {
    "ExecuteTime": {
     "end_time": "2019-11-23T21:46:36.399747Z",
     "start_time": "2019-11-23T21:46:34.484456Z"
    },
    "papermill": {
     "duration": 0.239055,
     "end_time": "2019-11-24T00:16:20.388896",
     "exception": false,
     "start_time": "2019-11-24T00:16:20.149841",
     "status": "completed"
    },
    "tags": []
   },
   "outputs": [
    {
     "data": {
      "text/plain": [
       "[(0, 2)]"
      ]
     },
     "execution_count": 28,
     "metadata": {},
     "output_type": "execute_result"
    },
    {
     "data": {
      "image/png": "[encoded data removed]",
      "text/plain": [
       "<Figure size 1440x1440 with 1 Axes>"
      ]
     },
     "metadata": {
      "needs_background": "light"
     },
     "output_type": "display_data"
    }
   ],
   "source": [
    "fig, ax = plt.subplots(figsize=(20, 20))\n",
    "sns.heatmap(cfm_ratio, cbar=None, vmin=0, vmax=0.9, cmap='viridis')\n",
    "ax.set(ylim=(0, cfm_ratio.shape[0]))"
   ]
  },
  {
   "cell_type": "code",
   "execution_count": 29,
   "metadata": {
    "ExecuteTime": {
     "end_time": "2019-11-23T21:48:07.610816Z",
     "start_time": "2019-11-23T21:48:07.604327Z"
    },
    "papermill": {
     "duration": 0.037703,
     "end_time": "2019-11-24T00:16:20.454616",
     "exception": false,
     "start_time": "2019-11-24T00:16:20.416913",
     "status": "completed"
    },
    "tags": []
   },
   "outputs": [],
   "source": [
    "cluster_order_map = {c: i for i, c in enumerate(cluster_order)}\n",
    "test_orders = final_pred_proba.index.map(adata.obs[cluster_col]).map(cluster_order_map)\n",
    "sort_pred_proba = final_pred_proba.iloc[test_orders.argsort(), :]"
   ]
  },
  {
   "cell_type": "code",
   "execution_count": 30,
   "metadata": {
    "ExecuteTime": {
     "end_time": "2019-11-23T21:48:09.505614Z",
     "start_time": "2019-11-23T21:48:07.788531Z"
    },
    "papermill": {
     "duration": 1.198768,
     "end_time": "2019-11-24T00:16:21.680874",
     "exception": false,
     "start_time": "2019-11-24T00:16:20.482106",
     "status": "completed"
    },
    "tags": []
   },
   "outputs": [
    {
     "data": {
      "text/plain": [
       "<matplotlib.axes._subplots.AxesSubplot at 0x7fe108894b00>"
      ]
     },
     "execution_count": 30,
     "metadata": {},
     "output_type": "execute_result"
    },
    {
     "data": {
      "image/png": "[encoded data removed]",
      "text/plain": [
       "<Figure size 720x1440 with 1 Axes>"
      ]
     },
     "metadata": {
      "needs_background": "light"
     },
     "output_type": "display_data"
    }
   ],
   "source": [
    "fig, ax = plt.subplots(figsize=(10, 20))\n",
    "sns.heatmap(sort_pred_proba, ax=ax, cbar=None)"
   ]
  },
  {
   "cell_type": "code",
   "execution_count": 31,
   "metadata": {
    "ExecuteTime": {
     "end_time": "2019-11-23T21:55:10.850373Z",
     "start_time": "2019-11-23T21:55:10.668177Z"
    },
    "papermill": {
     "duration": 0.244337,
     "end_time": "2019-11-24T00:16:21.956077",
     "exception": false,
     "start_time": "2019-11-24T00:16:21.711740",
     "status": "completed"
    },
    "tags": []
   },
   "outputs": [
    {
     "data": {
      "text/plain": [
       "<matplotlib.axes._subplots.AxesSubplot at 0x7fe108cf9438>"
      ]
     },
     "execution_count": 31,
     "metadata": {},
     "output_type": "execute_result"
    },
    {
     "data": {
      "image/png": "[encoded data removed]",
      "text/plain": [
       "<Figure size 432x288 with 1 Axes>"
      ]
     },
     "metadata": {
      "needs_background": "light"
     },
     "output_type": "display_data"
    }
   ],
   "source": [
    "max_proba = []\n",
    "for cell, cluster in sort_pred_proba.idxmax(axis=1).iteritems():\n",
    "    max_proba.append(sort_pred_proba.at[cell, cluster])\n",
    "sns.distplot(max_proba)"
   ]
  },
  {
   "cell_type": "code",
   "execution_count": 32,
   "metadata": {
    "ExecuteTime": {
     "end_time": "2019-11-23T23:45:33.847339Z",
     "start_time": "2019-11-23T23:45:33.844675Z"
    },
    "papermill": {
     "duration": 0.035609,
     "end_time": "2019-11-24T00:16:22.022520",
     "exception": false,
     "start_time": "2019-11-24T00:16:21.986911",
     "status": "completed"
    },
    "tags": []
   },
   "outputs": [],
   "source": [
    "with open('finish_flag', 'w') as f:\n",
    "    f.write('Oh yeah')"
   ]
  },
  {
   "cell_type": "code",
   "execution_count": null,
   "metadata": {
    "papermill": {
     "duration": 0.029421,
     "end_time": "2019-11-24T00:16:22.082109",
     "exception": false,
     "start_time": "2019-11-24T00:16:22.052688",
     "status": "completed"
    },
    "tags": []
   },
   "outputs": [],
   "source": []
  }
 ],
 "metadata": {
  "hide_input": false,
  "kernelspec": {
   "display_name": "Python 3",
   "language": "python",
   "name": "python3"
  },
  "language_info": {
   "codemirror_mode": {
    "name": "ipython",
    "version": 3
   },
   "file_extension": ".py",
   "mimetype": "text/x-python",
   "name": "python",
   "nbconvert_exporter": "python",
   "pygments_lexer": "ipython3",
   "version": "3.7.3"
  },
  "papermill": {
   "duration": 20.043824,
   "end_time": "2019-11-24T00:16:22.818642",
   "environment_variables": {},
   "exception": null,
   "input_path": "/home/hanliu/project/mouse_rostral_brain/study/FinalPredictionModelRecipe/RFECV.ipynb",
   "output_path": "/home/hanliu/project/mouse_rostral_brain/study/FinalPredictionModelRecipe/NeuronPrediction/CellClass/RFECV.ipynb",
   "parameters": {
    "cluster_col": "CellClass",
    "cluster_order_path": null,
    "n_estimators": 100,
    "n_estimators_final": 500,
    "n_jobs": 30,
    "n_splits": 5,
    "random_seed": 0,
    "test_portion": 0.1
   },
   "start_time": "2019-11-24T00:16:02.774818",
   "version": "1.0.1"
  },
  "toc": {
   "base_numbering": 1,
   "nav_menu": {},
   "number_sections": true,
   "sideBar": true,
   "skip_h1_title": true,
   "title_cell": "Table of Contents",
   "title_sidebar": "Contents",
   "toc_cell": false,
   "toc_position": {},
   "toc_section_display": true,
   "toc_window_display": true
  }
 },
 "nbformat": 4,
 "nbformat_minor": 2
}