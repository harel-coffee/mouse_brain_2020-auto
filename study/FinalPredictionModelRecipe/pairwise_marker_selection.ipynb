{
 "cells": [
  {
   "cell_type": "markdown",
   "metadata": {},
   "source": [
    "## Marker Selection"
   ]
  },
  {
   "cell_type": "code",
   "execution_count": 2,
   "metadata": {
    "ExecuteTime": {
     "end_time": "2019-11-23T22:59:43.804942Z",
     "start_time": "2019-11-23T22:59:41.850684Z"
    }
   },
   "outputs": [],
   "source": [
    "from concurrent.futures import ProcessPoolExecutor, as_completed\n",
    "from itertools import combinations\n",
    "\n",
    "import anndata\n",
    "import matplotlib.pyplot as plt\n",
    "import pandas as pd\n",
    "import scanpy as sc\n",
    "import seaborn as sns\n",
    "import pathlib\n",
    "from cemba_data.tools.hdf5.anndata import rank_features_groups"
   ]
  },
  {
   "cell_type": "markdown",
   "metadata": {},
   "source": [
    "## Parameter"
   ]
  },
  {
   "cell_type": "code",
   "execution_count": 3,
   "metadata": {
    "ExecuteTime": {
     "end_time": "2019-11-23T22:59:43.809304Z",
     "start_time": "2019-11-23T22:59:43.806661Z"
    },
    "tags": [
     "parameters"
    ]
   },
   "outputs": [],
   "source": [
    "cluster_col = 'SubType'\n",
    "min_cluster_cell_number = 10\n",
    "exclude_str = ['Outlier']\n",
    "adj_p_cutoff = 1e-5\n",
    "log2fc_cutoff = 1\n",
    "top_n = 10\n",
    "cpu = 10"
   ]
  },
  {
   "cell_type": "markdown",
   "metadata": {},
   "source": [
    "### Stable Parameter"
   ]
  },
  {
   "cell_type": "code",
   "execution_count": 4,
   "metadata": {
    "ExecuteTime": {
     "end_time": "2019-11-23T22:59:45.757547Z",
     "start_time": "2019-11-23T22:59:45.754550Z"
    }
   },
   "outputs": [],
   "source": [
    "adata_path = 'Adata/cell_by_feature.cov_filter.rate.h5ad'\n",
    "max_test_cell_population = 1000\n",
    "random_seed = 0\n",
    "chunk_size=200\n",
    "output_dir = 'Markers'\n",
    "output_dir = pathlib.Path(output_dir)\n",
    "output_dir.mkdir(exist_ok=True)"
   ]
  },
  {
   "cell_type": "markdown",
   "metadata": {},
   "source": [
    "## Load Data"
   ]
  },
  {
   "cell_type": "code",
   "execution_count": 17,
   "metadata": {
    "ExecuteTime": {
     "end_time": "2019-11-23T23:00:57.991747Z",
     "start_time": "2019-11-23T23:00:57.838846Z"
    }
   },
   "outputs": [
    {
     "data": {
      "text/plain": [
       "AnnData object with n_obs × n_vars = 1000 × 9419 \n",
       "    obs: 'AllcPath', 'CCC_Rate', 'CG_Rate', 'CG_RateAdj', 'CH_Rate', 'CH_RateAdj', 'FinalReads', 'InputReads', 'MappedReads', 'Region', 'index_name', 'uid', 'BamFilteringRate', 'MappingRate', 'Pos96', 'Plate', 'Col96', 'Row96', 'Col384', 'Row384', 'FACS_Date', 'Slice', 'MajorRegion', 'SubRegion', 'CellClass', 'l1-umap_0', 'l1-umap_1', 'l1-tsne_0', 'l1-tsne_1', 'MajorType', 'l2-umap_0', 'l2-umap_1', 'l2-tsne_0', 'l2-tsne_1', 'SubType', 'l3-umap_0', 'l3-umap_1', 'l3-tsne_0', 'l3-tsne_1', 'L1CellClass', 'class_tsne_0', 'class_tsne_1', 'class_umap_0', 'class_umap_1', 'Order', 'RegionName', 'DetailRegion', 'PotentialOverlap (MMB)', 'Anterior (CCF coords)', 'Posterior (CCF coords)', 'MajorRegionColor', 'SubRegionColor', 'DissectionRegionColor'\n",
       "    var: 'chrom', 'start', 'end'"
      ]
     },
     "execution_count": 17,
     "metadata": {},
     "output_type": "execute_result"
    }
   ],
   "source": [
    "adata = anndata.read_h5ad(adata_path)\n",
    "adata"
   ]
  },
  {
   "cell_type": "code",
   "execution_count": 6,
   "metadata": {
    "ExecuteTime": {
     "end_time": "2019-11-23T22:59:48.524615Z",
     "start_time": "2019-11-23T22:59:48.517267Z"
    }
   },
   "outputs": [
    {
     "name": "stdout",
     "output_type": "stream",
     "text": [
      "35 pass filter.\n",
      "595 pairwise comparison to test.\n"
     ]
    }
   ],
   "source": [
    "cluster_series = adata.obs[cluster_col].astype(str)\n",
    "cluster_counts = cluster_series.value_counts()\n",
    "def check_cluster(cluster, count):\n",
    "    if count < min_cluster_cell_number:\n",
    "        return False\n",
    "    for exclude in exclude_str:\n",
    "        if exclude in cluster:\n",
    "            return False\n",
    "    return True\n",
    "\n",
    "unique_clusters = [cluster for cluster, count in cluster_counts.items() if check_cluster(cluster, count)]\n",
    "cluster_pairs = list(combinations(unique_clusters, 2))\n",
    "\n",
    "print(len(unique_clusters), 'pass filter.')\n",
    "print(len(cluster_pairs), 'pairwise comparison to test.')"
   ]
  },
  {
   "cell_type": "code",
   "execution_count": 7,
   "metadata": {
    "ExecuteTime": {
     "end_time": "2019-11-23T22:59:49.242535Z",
     "start_time": "2019-11-23T22:59:49.214260Z"
    }
   },
   "outputs": [],
   "source": [
    "# filter adata as well\n",
    "adata = adata[adata.obs[cluster_col].isin(unique_clusters), :]"
   ]
  },
  {
   "cell_type": "markdown",
   "metadata": {},
   "source": [
    "## Pairwise test"
   ]
  },
  {
   "cell_type": "code",
   "execution_count": 8,
   "metadata": {
    "ExecuteTime": {
     "end_time": "2019-11-23T22:59:50.230903Z",
     "start_time": "2019-11-23T22:59:50.223428Z"
    }
   },
   "outputs": [],
   "source": [
    "def get_sig_features(rank_gene_dict):\n",
    "    pvals_adj = pd.DataFrame(rank_gene_dict['pvals_adj'])\n",
    "    names = pd.DataFrame(rank_gene_dict['names'])\n",
    "    logfoldchanges = pd.DataFrame(rank_gene_dict['logfoldchanges'])\n",
    "    gene_set = set(\n",
    "        names.where((pvals_adj < adj_p_cutoff)\n",
    "                    & (logfoldchanges.abs() > log2fc_cutoff)).values.flat)\n",
    "    return gene_set\n",
    "\n",
    "\n",
    "def pairwise_tests(adata_path, pairs):\n",
    "    adata = anndata.read_h5ad(adata_path)\n",
    "    total_markers = set()\n",
    "    pair_marker_count = {}\n",
    "    for pair in pairs:\n",
    "        cluster_a, cluster_b = pair\n",
    "        cluster_a_cells = cluster_series[cluster_series == cluster_a]\n",
    "        if cluster_a_cells.size > max_test_cell_population:\n",
    "            cluster_a_cells = cluster_a_cells.sample(max_test_cell_population,\n",
    "                                                     random_state=random_seed)\n",
    "        cluster_a_cells = cluster_a_cells.index\n",
    "    \n",
    "        cluster_b_cells = cluster_series[cluster_series == cluster_b]\n",
    "        if cluster_b_cells.size > max_test_cell_population:\n",
    "            cluster_b_cells = cluster_b_cells.sample(max_test_cell_population,\n",
    "                                                     random_state=random_seed)\n",
    "        cluster_b_cells = cluster_b_cells.index\n",
    "        cells = cluster_a_cells | cluster_b_cells\n",
    "        \n",
    "        pair_adata = adata[cells, :].copy()\n",
    "        pair_adata.obs['cluster'] = pair_adata.obs[cluster_col].astype(str).astype('category')\n",
    "        \n",
    "        rank_features_groups(pair_adata, groupby='cluster', n_genes=top_n)\n",
    "        gene_set = get_sig_features(pair_adata.uns['rank_genes_groups'])\n",
    "        # drop na\n",
    "        gene_set = set([i for i in gene_set if isinstance(i, str)])\n",
    "        \n",
    "        total_markers.update(gene_set)\n",
    "        pair_marker_count[pair] = len(gene_set)\n",
    "    return total_markers, pair_marker_count"
   ]
  },
  {
   "cell_type": "code",
   "execution_count": 9,
   "metadata": {
    "ExecuteTime": {
     "end_time": "2019-11-23T22:59:59.262501Z",
     "start_time": "2019-11-23T22:59:50.870409Z"
    },
    "scrolled": true
   },
   "outputs": [],
   "source": [
    "total_markers = set()\n",
    "pair_marker_counts = {}\n",
    "with ProcessPoolExecutor(cpu) as executor:\n",
    "    futures = []\n",
    "    for chunk_start in range(0, len(cluster_pairs), chunk_size):\n",
    "        pair_chunk = cluster_pairs[chunk_start:chunk_start+chunk_size]\n",
    "        future = executor.submit(pairwise_tests, adata_path, pair_chunk)\n",
    "        futures.append(future)\n",
    "        \n",
    "    for future in as_completed(futures):\n",
    "        genes, pair_marker_count = future.result()\n",
    "        total_markers.update(genes)\n",
    "        pair_marker_counts.update(pair_marker_count)"
   ]
  },
  {
   "cell_type": "markdown",
   "metadata": {},
   "source": [
    "## Save results"
   ]
  },
  {
   "cell_type": "code",
   "execution_count": 10,
   "metadata": {
    "ExecuteTime": {
     "end_time": "2019-11-23T22:59:59.268329Z",
     "start_time": "2019-11-23T22:59:59.264572Z"
    }
   },
   "outputs": [],
   "source": [
    "total_markers = set([i for i in total_markers if isinstance(i, str)])\n",
    "with open('Markers/cluster_markers.txt', 'w') as f:\n",
    "    f.write('\\n'.join(total_markers))"
   ]
  },
  {
   "cell_type": "code",
   "execution_count": 11,
   "metadata": {
    "ExecuteTime": {
     "end_time": "2019-11-23T22:59:59.280857Z",
     "start_time": "2019-11-23T22:59:59.269910Z"
    }
   },
   "outputs": [],
   "source": [
    "pair_marker_counts = pd.Series(pair_marker_counts)\n",
    "marker_counts = pair_marker_counts.reset_index()\n",
    "marker_counts.columns = ['ClusterA', 'ClusterB', 'GeneCount']\n",
    "marker_counts.to_csv('Markers/cluster_pair_marker_counts.csv', index=None)"
   ]
  },
  {
   "cell_type": "code",
   "execution_count": 12,
   "metadata": {
    "ExecuteTime": {
     "end_time": "2019-11-23T22:59:59.293193Z",
     "start_time": "2019-11-23T22:59:59.282176Z"
    }
   },
   "outputs": [
    {
     "data": {
      "text/html": [
       "<div>\n",
       "<style scoped>\n",
       "    .dataframe tbody tr th:only-of-type {\n",
       "        vertical-align: middle;\n",
       "    }\n",
       "\n",
       "    .dataframe tbody tr th {\n",
       "        vertical-align: top;\n",
       "    }\n",
       "\n",
       "    .dataframe thead th {\n",
       "        text-align: right;\n",
       "    }\n",
       "</style>\n",
       "<table border=\"1\" class=\"dataframe\">\n",
       "  <thead>\n",
       "    <tr style=\"text-align: right;\">\n",
       "      <th></th>\n",
       "      <th>ClusterA</th>\n",
       "      <th>ClusterB</th>\n",
       "      <th>GeneCount</th>\n",
       "    </tr>\n",
       "  </thead>\n",
       "  <tbody>\n",
       "    <tr>\n",
       "      <th>2</th>\n",
       "      <td>D1L-Fstl4 Crim1</td>\n",
       "      <td>D1L-Fstl4 Trps1</td>\n",
       "      <td>0</td>\n",
       "    </tr>\n",
       "    <tr>\n",
       "      <th>11</th>\n",
       "      <td>LSX-Inh Cacna1i</td>\n",
       "      <td>LSX-Inh Dock10</td>\n",
       "      <td>0</td>\n",
       "    </tr>\n",
       "    <tr>\n",
       "      <th>16</th>\n",
       "      <td>LSX-Inh Cacna1i</td>\n",
       "      <td>Foxp2 Homer2</td>\n",
       "      <td>2</td>\n",
       "    </tr>\n",
       "    <tr>\n",
       "      <th>19</th>\n",
       "      <td>LSX-Inh Cacna1i</td>\n",
       "      <td>PAL-Inh Igdcc3</td>\n",
       "      <td>2</td>\n",
       "    </tr>\n",
       "    <tr>\n",
       "      <th>49</th>\n",
       "      <td>MSN-D1 Khdrbs3</td>\n",
       "      <td>MSN-D1 Ntn1</td>\n",
       "      <td>1</td>\n",
       "    </tr>\n",
       "    <tr>\n",
       "      <th>50</th>\n",
       "      <td>MSN-D1 Khdrbs3</td>\n",
       "      <td>MSN-D1 Kctd3</td>\n",
       "      <td>1</td>\n",
       "    </tr>\n",
       "    <tr>\n",
       "      <th>56</th>\n",
       "      <td>MSN-D1 Khdrbs3</td>\n",
       "      <td>D1L-Fstl4 Trps1</td>\n",
       "      <td>2</td>\n",
       "    </tr>\n",
       "    <tr>\n",
       "      <th>67</th>\n",
       "      <td>Foxp2 Inpp4b</td>\n",
       "      <td>Foxp2 Homer2</td>\n",
       "      <td>0</td>\n",
       "    </tr>\n",
       "    <tr>\n",
       "      <th>76</th>\n",
       "      <td>MGE-Pvalb Sema5a</td>\n",
       "      <td>MGE-Pvalb Thsd7a</td>\n",
       "      <td>0</td>\n",
       "    </tr>\n",
       "    <tr>\n",
       "      <th>78</th>\n",
       "      <td>MGE-Pvalb Sema5a</td>\n",
       "      <td>MGE-Pvalb Cnih3</td>\n",
       "      <td>1</td>\n",
       "    </tr>\n",
       "    <tr>\n",
       "      <th>90</th>\n",
       "      <td>MGE-Pvalb Gfra2</td>\n",
       "      <td>MGE-Pvalb Thsd7a</td>\n",
       "      <td>0</td>\n",
       "    </tr>\n",
       "    <tr>\n",
       "      <th>92</th>\n",
       "      <td>MGE-Pvalb Gfra2</td>\n",
       "      <td>MGE-Pvalb Cnih3</td>\n",
       "      <td>0</td>\n",
       "    </tr>\n",
       "    <tr>\n",
       "      <th>105</th>\n",
       "      <td>MGE-Pvalb Thsd7a</td>\n",
       "      <td>MGE-Pvalb Cnih3</td>\n",
       "      <td>0</td>\n",
       "    </tr>\n",
       "    <tr>\n",
       "      <th>123</th>\n",
       "      <td>LSX-Inh Dock10</td>\n",
       "      <td>LSX-Inh Enox1</td>\n",
       "      <td>0</td>\n",
       "    </tr>\n",
       "    <tr>\n",
       "      <th>124</th>\n",
       "      <td>LSX-Inh Dock10</td>\n",
       "      <td>PAL-Inh Igdcc3</td>\n",
       "      <td>0</td>\n",
       "    </tr>\n",
       "    <tr>\n",
       "      <th>140</th>\n",
       "      <td>MSN-D2 Nrp2</td>\n",
       "      <td>MSN-D1 Ntn1</td>\n",
       "      <td>1</td>\n",
       "    </tr>\n",
       "    <tr>\n",
       "      <th>144</th>\n",
       "      <td>MSN-D2 Nrp2</td>\n",
       "      <td>LSX-Inh Enox1</td>\n",
       "      <td>2</td>\n",
       "    </tr>\n",
       "    <tr>\n",
       "      <th>147</th>\n",
       "      <td>MSN-D2 Nrp2</td>\n",
       "      <td>D1L-Fstl4 Trps1</td>\n",
       "      <td>1</td>\n",
       "    </tr>\n",
       "    <tr>\n",
       "      <th>150</th>\n",
       "      <td>MSN-D1 Ntn1</td>\n",
       "      <td>MSN-D1 Kctd3</td>\n",
       "      <td>0</td>\n",
       "    </tr>\n",
       "    <tr>\n",
       "      <th>156</th>\n",
       "      <td>MSN-D1 Ntn1</td>\n",
       "      <td>D1L-Fstl4 Trps1</td>\n",
       "      <td>0</td>\n",
       "    </tr>\n",
       "    <tr>\n",
       "      <th>164</th>\n",
       "      <td>MSN-D1 Kctd3</td>\n",
       "      <td>D1L-Fstl4 Trps1</td>\n",
       "      <td>0</td>\n",
       "    </tr>\n",
       "    <tr>\n",
       "      <th>185</th>\n",
       "      <td>PAL-Inh Igdcc3</td>\n",
       "      <td>MGE-Sst Ubtd1</td>\n",
       "      <td>2</td>\n",
       "    </tr>\n",
       "    <tr>\n",
       "      <th>187</th>\n",
       "      <td>PAL-Inh Igdcc3</td>\n",
       "      <td>Unc5c Unc5c</td>\n",
       "      <td>2</td>\n",
       "    </tr>\n",
       "    <tr>\n",
       "      <th>194</th>\n",
       "      <td>Unc5c Unc5c</td>\n",
       "      <td>CGE-Lamp5 Dock5</td>\n",
       "      <td>1</td>\n",
       "    </tr>\n",
       "    <tr>\n",
       "      <th>218</th>\n",
       "      <td>MSN-D1 Plxnc1</td>\n",
       "      <td>D1L-Fstl4 Crim1</td>\n",
       "      <td>0</td>\n",
       "    </tr>\n",
       "    <tr>\n",
       "      <th>229</th>\n",
       "      <td>MSN-D1 Plxnc1</td>\n",
       "      <td>MSN-D1 Ntn1</td>\n",
       "      <td>0</td>\n",
       "    </tr>\n",
       "    <tr>\n",
       "      <th>230</th>\n",
       "      <td>MSN-D1 Plxnc1</td>\n",
       "      <td>MSN-D1 Kctd3</td>\n",
       "      <td>0</td>\n",
       "    </tr>\n",
       "    <tr>\n",
       "      <th>260</th>\n",
       "      <td>PAL-Inh Tmem178</td>\n",
       "      <td>PAL-Inh Igdcc3</td>\n",
       "      <td>2</td>\n",
       "    </tr>\n",
       "    <tr>\n",
       "      <th>289</th>\n",
       "      <td>CGE-Lamp5 Grk5</td>\n",
       "      <td>CGE-Lamp5 Dock5</td>\n",
       "      <td>0</td>\n",
       "    </tr>\n",
       "    <tr>\n",
       "      <th>301</th>\n",
       "      <td>LSX-Inh Nxph1</td>\n",
       "      <td>LSX-Inh Dock10</td>\n",
       "      <td>0</td>\n",
       "    </tr>\n",
       "    <tr>\n",
       "      <th>348</th>\n",
       "      <td>MSN-D2 Col14a1</td>\n",
       "      <td>MSN-D2 Nrp2</td>\n",
       "      <td>0</td>\n",
       "    </tr>\n",
       "    <tr>\n",
       "      <th>366</th>\n",
       "      <td>MGE-Pvalb Entpd3</td>\n",
       "      <td>MGE-Pvalb Thsd7a</td>\n",
       "      <td>1</td>\n",
       "    </tr>\n",
       "    <tr>\n",
       "      <th>406</th>\n",
       "      <td>MSN-D2 Slc24a2</td>\n",
       "      <td>MSN-D2 Col14a1</td>\n",
       "      <td>1</td>\n",
       "    </tr>\n",
       "    <tr>\n",
       "      <th>418</th>\n",
       "      <td>MSN-D2 Slc24a2</td>\n",
       "      <td>MSN-D2 Nrp2</td>\n",
       "      <td>2</td>\n",
       "    </tr>\n",
       "    <tr>\n",
       "      <th>457</th>\n",
       "      <td>PAL-Inh Meis2</td>\n",
       "      <td>PAL-Inh Igdcc3</td>\n",
       "      <td>2</td>\n",
       "    </tr>\n",
       "    <tr>\n",
       "      <th>556</th>\n",
       "      <td>MSN-D1 Hrh1</td>\n",
       "      <td>MSN-D1 Plxnc1</td>\n",
       "      <td>0</td>\n",
       "    </tr>\n",
       "    <tr>\n",
       "      <th>575</th>\n",
       "      <td>MSN-D1 Hrh1</td>\n",
       "      <td>MSN-D1 Kctd3</td>\n",
       "      <td>0</td>\n",
       "    </tr>\n",
       "  </tbody>\n",
       "</table>\n",
       "</div>"
      ],
      "text/plain": [
       "             ClusterA          ClusterB  GeneCount\n",
       "2     D1L-Fstl4 Crim1   D1L-Fstl4 Trps1          0\n",
       "11    LSX-Inh Cacna1i    LSX-Inh Dock10          0\n",
       "16    LSX-Inh Cacna1i      Foxp2 Homer2          2\n",
       "19    LSX-Inh Cacna1i    PAL-Inh Igdcc3          2\n",
       "49     MSN-D1 Khdrbs3       MSN-D1 Ntn1          1\n",
       "50     MSN-D1 Khdrbs3      MSN-D1 Kctd3          1\n",
       "56     MSN-D1 Khdrbs3   D1L-Fstl4 Trps1          2\n",
       "67       Foxp2 Inpp4b      Foxp2 Homer2          0\n",
       "76   MGE-Pvalb Sema5a  MGE-Pvalb Thsd7a          0\n",
       "78   MGE-Pvalb Sema5a   MGE-Pvalb Cnih3          1\n",
       "90    MGE-Pvalb Gfra2  MGE-Pvalb Thsd7a          0\n",
       "92    MGE-Pvalb Gfra2   MGE-Pvalb Cnih3          0\n",
       "105  MGE-Pvalb Thsd7a   MGE-Pvalb Cnih3          0\n",
       "123    LSX-Inh Dock10     LSX-Inh Enox1          0\n",
       "124    LSX-Inh Dock10    PAL-Inh Igdcc3          0\n",
       "140       MSN-D2 Nrp2       MSN-D1 Ntn1          1\n",
       "144       MSN-D2 Nrp2     LSX-Inh Enox1          2\n",
       "147       MSN-D2 Nrp2   D1L-Fstl4 Trps1          1\n",
       "150       MSN-D1 Ntn1      MSN-D1 Kctd3          0\n",
       "156       MSN-D1 Ntn1   D1L-Fstl4 Trps1          0\n",
       "164      MSN-D1 Kctd3   D1L-Fstl4 Trps1          0\n",
       "185    PAL-Inh Igdcc3     MGE-Sst Ubtd1          2\n",
       "187    PAL-Inh Igdcc3       Unc5c Unc5c          2\n",
       "194       Unc5c Unc5c   CGE-Lamp5 Dock5          1\n",
       "218     MSN-D1 Plxnc1   D1L-Fstl4 Crim1          0\n",
       "229     MSN-D1 Plxnc1       MSN-D1 Ntn1          0\n",
       "230     MSN-D1 Plxnc1      MSN-D1 Kctd3          0\n",
       "260   PAL-Inh Tmem178    PAL-Inh Igdcc3          2\n",
       "289    CGE-Lamp5 Grk5   CGE-Lamp5 Dock5          0\n",
       "301     LSX-Inh Nxph1    LSX-Inh Dock10          0\n",
       "348    MSN-D2 Col14a1       MSN-D2 Nrp2          0\n",
       "366  MGE-Pvalb Entpd3  MGE-Pvalb Thsd7a          1\n",
       "406    MSN-D2 Slc24a2    MSN-D2 Col14a1          1\n",
       "418    MSN-D2 Slc24a2       MSN-D2 Nrp2          2\n",
       "457     PAL-Inh Meis2    PAL-Inh Igdcc3          2\n",
       "556       MSN-D1 Hrh1     MSN-D1 Plxnc1          0\n",
       "575       MSN-D1 Hrh1      MSN-D1 Kctd3          0"
      ]
     },
     "execution_count": 12,
     "metadata": {},
     "output_type": "execute_result"
    }
   ],
   "source": [
    "marker_counts[marker_counts['GeneCount'] < 3]"
   ]
  },
  {
   "cell_type": "code",
   "execution_count": 13,
   "metadata": {
    "ExecuteTime": {
     "end_time": "2019-11-23T22:59:59.450339Z",
     "start_time": "2019-11-23T22:59:59.294399Z"
    }
   },
   "outputs": [],
   "source": [
    "marker_adata = adata[:, list(total_markers)]\n",
    "marker_adata.write_h5ad('Markers/cluster_markers.h5ad')"
   ]
  },
  {
   "cell_type": "code",
   "execution_count": 14,
   "metadata": {
    "ExecuteTime": {
     "end_time": "2019-11-23T23:00:00.225184Z",
     "start_time": "2019-11-23T23:00:00.221996Z"
    }
   },
   "outputs": [
    {
     "data": {
      "text/plain": [
       "AnnData object with n_obs × n_vars = 745 × 823 \n",
       "    obs: 'AllcPath', 'CCC_Rate', 'CG_Rate', 'CG_RateAdj', 'CH_Rate', 'CH_RateAdj', 'FinalReads', 'InputReads', 'MappedReads', 'Region', 'index_name', 'uid', 'BamFilteringRate', 'MappingRate', 'Pos96', 'Plate', 'Col96', 'Row96', 'Col384', 'Row384', 'FACS_Date', 'Slice', 'MajorRegion', 'SubRegion', 'CellClass', 'l1-umap_0', 'l1-umap_1', 'l1-tsne_0', 'l1-tsne_1', 'MajorType', 'l2-umap_0', 'l2-umap_1', 'l2-tsne_0', 'l2-tsne_1', 'SubType', 'l3-umap_0', 'l3-umap_1', 'l3-tsne_0', 'l3-tsne_1', 'L1CellClass', 'class_tsne_0', 'class_tsne_1', 'class_umap_0', 'class_umap_1', 'Order', 'RegionName', 'DetailRegion', 'PotentialOverlap (MMB)', 'Anterior (CCF coords)', 'Posterior (CCF coords)', 'MajorRegionColor', 'SubRegionColor', 'DissectionRegionColor'\n",
       "    var: 'chrom', 'start', 'end'"
      ]
     },
     "execution_count": 14,
     "metadata": {},
     "output_type": "execute_result"
    }
   ],
   "source": [
    "marker_adata"
   ]
  },
  {
   "cell_type": "code",
   "execution_count": null,
   "metadata": {},
   "outputs": [],
   "source": []
  },
  {
   "cell_type": "code",
   "execution_count": null,
   "metadata": {},
   "outputs": [],
   "source": []
  },
  {
   "cell_type": "code",
   "execution_count": null,
   "metadata": {},
   "outputs": [],
   "source": []
  },
  {
   "cell_type": "code",
   "execution_count": null,
   "metadata": {},
   "outputs": [],
   "source": []
  },
  {
   "cell_type": "code",
   "execution_count": null,
   "metadata": {},
   "outputs": [],
   "source": []
  },
  {
   "cell_type": "code",
   "execution_count": null,
   "metadata": {},
   "outputs": [],
   "source": []
  }
 ],
 "metadata": {
  "hide_input": false,
  "kernelspec": {
   "display_name": "Python 3",
   "language": "python",
   "name": "python3"
  },
  "language_info": {
   "codemirror_mode": {
    "name": "ipython",
    "version": 3
   },
   "file_extension": ".py",
   "mimetype": "text/x-python",
   "name": "python",
   "nbconvert_exporter": "python",
   "pygments_lexer": "ipython3",
   "version": "3.7.3"
  },
  "toc": {
   "base_numbering": 1,
   "nav_menu": {},
   "number_sections": true,
   "sideBar": true,
   "skip_h1_title": true,
   "title_cell": "Table of Contents",
   "title_sidebar": "Contents",
   "toc_cell": false,
   "toc_position": {},
   "toc_section_display": true,
   "toc_window_display": true
  }
 },
 "nbformat": 4,
 "nbformat_minor": 2
}
