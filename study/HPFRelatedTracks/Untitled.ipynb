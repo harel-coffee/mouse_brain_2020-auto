{
 "cells": [
  {
   "cell_type": "code",
   "execution_count": 1,
   "metadata": {
    "ExecuteTime": {
     "end_time": "2020-03-03T22:09:39.085909Z",
     "start_time": "2020-03-03T22:09:38.803228Z"
    }
   },
   "outputs": [],
   "source": [
    "import pandas as pd\n",
    "import pathlib"
   ]
  },
  {
   "cell_type": "code",
   "execution_count": 39,
   "metadata": {
    "ExecuteTime": {
     "end_time": "2020-03-03T22:23:07.692782Z",
     "start_time": "2020-03-03T22:23:07.306770Z"
    }
   },
   "outputs": [
    {
     "name": "stderr",
     "output_type": "stream",
     "text": [
      "/home/hanliu/miniconda3/envs/clustering/lib/python3.7/site-packages/IPython/core/interactiveshell.py:3326: FutureWarning: The read_msgpack is deprecated and will be removed in a future version.\n",
      "It is recommended to use pyarrow for on-the-wire transmission of pandas objects.\n",
      "  exec(code_obj, self.user_global_ns, self.user_ns)\n"
     ]
    }
   ],
   "source": [
    "cell_tidy_data = pd.read_msgpack(\n",
    "    '/home/hanliu/project/mouse_rostral_brain/study/ClusteringSummary/Summary/TotalClusteringResults.msg'\n",
    ")\n",
    "cell_tidy_data = cell_tidy_data[cell_tidy_data['SubType'].apply(lambda i: 'Outlier' not in i)]"
   ]
  },
  {
   "cell_type": "code",
   "execution_count": 40,
   "metadata": {
    "ExecuteTime": {
     "end_time": "2020-03-03T22:23:08.277687Z",
     "start_time": "2020-03-03T22:23:08.256409Z"
    }
   },
   "outputs": [
    {
     "data": {
      "text/plain": [
       "DG dg-all          6179\n",
       "CA1 Chrm3          2765\n",
       "CA3 Cadm2          2284\n",
       "ODC odc-large       618\n",
       "CA1 Ptprg           564\n",
       "CA1 Ak5             419\n",
       "IG-CA2 Chrm3        367\n",
       "ASC str-hpf         319\n",
       "IG-CA2 Peak1        224\n",
       "MGE-Sst Rxra        220\n",
       "CA3-St18 Tead1      220\n",
       "ODC odc-small       194\n",
       "Unc5c Unc5c         164\n",
       "MGC mgc-all         154\n",
       "CGE-Vip Ptprm       150\n",
       "MGE-Sst Ptpre       147\n",
       "CA3 Efnb2           139\n",
       "CA1 Kif26a          133\n",
       "NP-L6 Cntnap4       131\n",
       "ANP anp-dg          120\n",
       "OPC opc-large       120\n",
       "Gfra1 Gfra1         109\n",
       "CA3-St18 Epha5      107\n",
       "CA3-St18 Nuak1       81\n",
       "CGE-Vip Ntng1        63\n",
       "DG-po Bcl11a         55\n",
       "DG-po Calb2          51\n",
       "CA1 Lingo2           51\n",
       "ASC mid              44\n",
       "MGE-Pvalb Gfra2      42\n",
       "DG-po Kctd8          39\n",
       "VLMC Col4a1          39\n",
       "OLF Xkr6             38\n",
       "CT-L6 Megf9          33\n",
       "CT-L6 Il1rap         33\n",
       "LSX-Inh Lats2        28\n",
       "MGE-Sst Unc5b        27\n",
       "CGE-Vip Grm8         25\n",
       "VLMC Mapk4           25\n",
       "EC Abhd2             24\n",
       "PC pc-all            22\n",
       "CGE-Lamp5 Grk5       20\n",
       "CGE-Vip Ccser1       20\n",
       "CGE-Lamp5 Dock5      19\n",
       "PAL-Inh Meis2        17\n",
       "CGE-Lamp5 Grid1      13\n",
       "CGE-Vip Robo1        12\n",
       "NP-L6 Olfml2b        11\n",
       "Name: SubType, dtype: int64"
      ]
     },
     "execution_count": 40,
     "metadata": {},
     "output_type": "execute_result"
    }
   ],
   "source": [
    "min_hpf_cell = 10\n",
    "\n",
    "hpf_subtype_count = cell_tidy_data[cell_tidy_data['MajorRegion'] == 'HPF']['SubType'].value_counts()\n",
    "related_subtypes = hpf_subtype_count[hpf_subtype_count > min_hpf_cell].index\n",
    "hpf_subtype_count[hpf_subtype_count > min_hpf_cell]"
   ]
  },
  {
   "cell_type": "code",
   "execution_count": 73,
   "metadata": {
    "ExecuteTime": {
     "end_time": "2020-03-03T23:34:57.076622Z",
     "start_time": "2020-03-03T23:34:57.046857Z"
    }
   },
   "outputs": [
    {
     "data": {
      "text/plain": [
       "SubType\n",
       "ANP anp-dg        0.991736\n",
       "ASC str-hpf       0.296744\n",
       "CA1 Ak5           1.000000\n",
       "CA1 Chrm3         1.000000\n",
       "CA1 Kif26a        1.000000\n",
       "CA1 Lingo2        0.944444\n",
       "CA1 Ptprg         0.992958\n",
       "CA3 Cadm2         1.000000\n",
       "CA3 Efnb2         1.000000\n",
       "CA3-St18 Epha5    1.000000\n",
       "CA3-St18 Nuak1    1.000000\n",
       "CA3-St18 Tead1    1.000000\n",
       "CGE-Vip Ccser1    0.111111\n",
       "CGE-Vip Grm8      0.242718\n",
       "CGE-Vip Ntng1     0.969231\n",
       "CGE-Vip Ptprm     0.356295\n",
       "DG dg-all         1.000000\n",
       "DG-po Bcl11a      1.000000\n",
       "DG-po Calb2       1.000000\n",
       "DG-po Kctd8       1.000000\n",
       "EC Abhd2          0.289157\n",
       "EC Sema3g         0.333333\n",
       "Gfra1 Gfra1       0.990909\n",
       "IG-CA2 Chrm3      0.994580\n",
       "IG-CA2 Peak1      1.000000\n",
       "LSX-Inh Lats2     0.294737\n",
       "MGC mgc-all       0.180539\n",
       "MGE-Sst Ptpre     0.967105\n",
       "MGE-Sst Rxra      0.982143\n",
       "MGE-Sst Unc5b     0.210938\n",
       "NP-L6 Cntnap4     0.897260\n",
       "ODC odc-large     0.278881\n",
       "ODC odc-small     0.224018\n",
       "OLF Xkr6          0.826087\n",
       "OPC opc-large     0.174419\n",
       "OPC opc-small     0.112360\n",
       "PC pc-all         0.129412\n",
       "Unc5c Unc5c       0.748858\n",
       "VLMC Col4a1       0.222857\n",
       "VLMC Mapk4        0.102459\n",
       "Name: HPF, dtype: float64"
      ]
     },
     "execution_count": 73,
     "metadata": {},
     "output_type": "execute_result"
    }
   ],
   "source": [
    "counts = cell_tidy_data.groupby('MajorRegion')['SubType'].value_counts().unstack().T\n",
    "rates = (counts / counts.sum(axis=1)[:, None])['HPF']\n",
    "\n",
    "rates[rates > 0.1].sort_values().sort_index()"
   ]
  },
  {
   "cell_type": "markdown",
   "metadata": {
    "ExecuteTime": {
     "end_time": "2020-03-03T22:19:04.149985Z",
     "start_time": "2020-03-03T22:19:04.147038Z"
    }
   },
   "source": [
    "## mCH mCG Tracks"
   ]
  },
  {
   "cell_type": "code",
   "execution_count": 41,
   "metadata": {
    "ExecuteTime": {
     "end_time": "2020-03-03T22:23:09.483410Z",
     "start_time": "2020-03-03T22:23:09.481011Z"
    }
   },
   "outputs": [],
   "source": [
    "mc_bw_dir = pathlib.Path('/home/hanliu/ddn/hanliu/mouse_rostral_brain/MultiLevelCluster/BW/SubType/')\n",
    "\n",
    "cg_bw_paths = pd.Series({p.name.split('.')[1].replace('_', ' '):str(p) for p in mc_bw_dir.glob('*CG*rate*bw')})\n",
    "ch_bw_paths = pd.Series({p.name.split('.')[1].replace('_', ' '):str(p) for p in mc_bw_dir.glob('*CH*rate*bw')})"
   ]
  },
  {
   "cell_type": "markdown",
   "metadata": {
    "ExecuteTime": {
     "end_time": "2020-03-03T22:23:09.754987Z",
     "start_time": "2020-03-03T22:23:09.745535Z"
    }
   },
   "source": [
    "## ATAC Tracks"
   ]
  },
  {
   "cell_type": "code",
   "execution_count": 50,
   "metadata": {
    "ExecuteTime": {
     "end_time": "2020-03-03T22:46:00.751930Z",
     "start_time": "2020-03-03T22:46:00.747322Z"
    }
   },
   "outputs": [],
   "source": [
    "atac_bw_dir = pathlib.Path('/home/hanliu/project/mouse_rostral_brain/ATAC/remerge/mCSubType/')\n",
    "atac_bw_paths = pd.Series({p.name.split('.')[0].replace('_', ' '):str(p) for p in atac_bw_dir.glob('*bw')})"
   ]
  },
  {
   "cell_type": "markdown",
   "metadata": {},
   "source": [
    "## Reptile Peaks"
   ]
  },
  {
   "cell_type": "code",
   "execution_count": 54,
   "metadata": {
    "ExecuteTime": {
     "end_time": "2020-03-03T22:48:45.223654Z",
     "start_time": "2020-03-03T22:48:45.218711Z"
    }
   },
   "outputs": [],
   "source": [
    "reptile_dir = pathlib.Path(\n",
    "    '/home/hanliu/project/mouse_rostral_brain/REPTILE/result/filtered_bed/')\n",
    "\n",
    "reptile_paths = pd.Series({\n",
    "    p.name.split('.')[0].replace('_', ' '): str(p)\n",
    "    for p in reptile_dir.glob('*.filtered_enhancer_dmr.bed')\n",
    "})"
   ]
  },
  {
   "cell_type": "code",
   "execution_count": 55,
   "metadata": {
    "ExecuteTime": {
     "end_time": "2020-03-03T22:48:45.396967Z",
     "start_time": "2020-03-03T22:48:45.393114Z"
    }
   },
   "outputs": [
    {
     "data": {
      "text/plain": [
       "CA3 Efnb2            /home/hanliu/project/mouse_rostral_brain/REPTI...\n",
       "D1L-Fstl4 Sipa1l2    /home/hanliu/project/mouse_rostral_brain/REPTI...\n",
       "ANP anp-dg           /home/hanliu/project/mouse_rostral_brain/REPTI...\n",
       "D1L-Fstl4 Trps1      /home/hanliu/project/mouse_rostral_brain/REPTI...\n",
       "ANP anp-olf-cnu      /home/hanliu/project/mouse_rostral_brain/REPTI...\n",
       "                                           ...                        \n",
       "OLF Mapk10           /home/hanliu/project/mouse_rostral_brain/REPTI...\n",
       "OLF Pag1             /home/hanliu/project/mouse_rostral_brain/REPTI...\n",
       "OLF Trpc4            /home/hanliu/project/mouse_rostral_brain/REPTI...\n",
       "OLF Xkr6             /home/hanliu/project/mouse_rostral_brain/REPTI...\n",
       "OPC opc-large        /home/hanliu/project/mouse_rostral_brain/REPTI...\n",
       "Length: 161, dtype: object"
      ]
     },
     "execution_count": 55,
     "metadata": {},
     "output_type": "execute_result"
    }
   ],
   "source": [
    "reptile_paths"
   ]
  },
  {
   "cell_type": "code",
   "execution_count": null,
   "metadata": {},
   "outputs": [],
   "source": []
  },
  {
   "cell_type": "code",
   "execution_count": null,
   "metadata": {},
   "outputs": [],
   "source": []
  },
  {
   "cell_type": "code",
   "execution_count": null,
   "metadata": {},
   "outputs": [],
   "source": []
  },
  {
   "cell_type": "code",
   "execution_count": null,
   "metadata": {},
   "outputs": [],
   "source": []
  },
  {
   "cell_type": "code",
   "execution_count": null,
   "metadata": {},
   "outputs": [],
   "source": []
  },
  {
   "cell_type": "code",
   "execution_count": null,
   "metadata": {},
   "outputs": [],
   "source": []
  }
 ],
 "metadata": {
  "hide_input": false,
  "kernelspec": {
   "display_name": "Python 3",
   "language": "python",
   "name": "python3"
  },
  "language_info": {
   "codemirror_mode": {
    "name": "ipython",
    "version": 3
   },
   "file_extension": ".py",
   "mimetype": "text/x-python",
   "name": "python",
   "nbconvert_exporter": "python",
   "pygments_lexer": "ipython3",
   "version": "3.7.3"
  },
  "toc": {
   "base_numbering": 1,
   "nav_menu": {},
   "number_sections": true,
   "sideBar": true,
   "skip_h1_title": true,
   "title_cell": "Table of Contents",
   "title_sidebar": "Contents",
   "toc_cell": false,
   "toc_position": {},
   "toc_section_display": true,
   "toc_window_display": true
  }
 },
 "nbformat": 4,
 "nbformat_minor": 2
}
