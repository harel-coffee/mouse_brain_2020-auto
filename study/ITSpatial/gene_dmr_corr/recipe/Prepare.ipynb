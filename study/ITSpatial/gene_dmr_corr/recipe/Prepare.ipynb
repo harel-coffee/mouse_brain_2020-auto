{
 "cells": [
  {
   "cell_type": "code",
   "execution_count": 13,
   "metadata": {
    "ExecuteTime": {
     "end_time": "2020-01-13T00:45:21.753007Z",
     "start_time": "2020-01-13T00:45:20.634331Z"
    }
   },
   "outputs": [
    {
     "name": "stderr",
     "output_type": "stream",
     "text": [
      "/home/hanliu/miniconda3/envs/clustering/lib/python3.7/site-packages/xarray/core/merge.py:18: FutureWarning: The Panel class is removed from pandas. Accessing it from the top-level namespace will also be removed in the next version\n",
      "  PANDAS_TYPES = (pd.Series, pd.DataFrame, pd.Panel)\n",
      "/home/hanliu/miniconda3/envs/clustering/lib/python3.7/site-packages/xarray/core/dataarray.py:1829: FutureWarning: The Panel class is removed from pandas. Accessing it from the top-level namespace will also be removed in the next version\n",
      "  'DataArray', pd.Series, pd.DataFrame, pd.Panel]:\n"
     ]
    }
   ],
   "source": [
    "import pandas as pd\n",
    "import numpy as np\n",
    "from scipy.stats import spearmanr\n",
    "import anndata\n",
    "import xarray as xr\n",
    "import pybedtools\n",
    "import json\n",
    "from scipy.sparse import csr_matrix, save_npz\n",
    "import pathlib\n",
    "# pybedtools.cleanup(remove_all=True)"
   ]
  },
  {
   "cell_type": "code",
   "execution_count": 14,
   "metadata": {
    "ExecuteTime": {
     "end_time": "2020-01-13T00:45:21.757359Z",
     "start_time": "2020-01-13T00:45:21.754925Z"
    }
   },
   "outputs": [],
   "source": [
    "output_dir = '/home/hanliu/project/mouse_rostral_brain/study/ITSpatial/gene_dmr_corr'\n",
    "output_dir = pathlib.Path(output_dir)"
   ]
  },
  {
   "cell_type": "markdown",
   "metadata": {},
   "source": [
    "## DMR mCG\n",
    "\n",
    "### Fillna"
   ]
  },
  {
   "cell_type": "code",
   "execution_count": 4,
   "metadata": {
    "ExecuteTime": {
     "end_time": "2020-01-13T00:10:05.266671Z",
     "start_time": "2020-01-13T00:10:02.781413Z"
    }
   },
   "outputs": [],
   "source": [
    "with pd.HDFStore('/home/hanliu/project/mouse_rostral_brain/DMR/ITSpatial/DMRInfo.h5') as hdf:\n",
    "    dmr_rate = hdf['Rate']\n",
    "    dmr_bed = hdf['Bed']"
   ]
  },
  {
   "cell_type": "code",
   "execution_count": 5,
   "metadata": {
    "ExecuteTime": {
     "end_time": "2020-01-13T00:14:14.165541Z",
     "start_time": "2020-01-13T00:10:09.092144Z"
    }
   },
   "outputs": [],
   "source": [
    "dmr_median = dmr_rate.median(axis=1)\n",
    "no_na_rate = dmr_rate.T.fillna(dmr_median).T"
   ]
  },
  {
   "cell_type": "markdown",
   "metadata": {
    "deletable": false,
    "editable": false,
    "run_control": {
     "frozen": true
    }
   },
   "source": [
    "### Save each chromosom"
   ]
  },
  {
   "cell_type": "code",
   "execution_count": 10,
   "metadata": {
    "ExecuteTime": {
     "end_time": "2020-01-13T00:15:09.893354Z",
     "start_time": "2020-01-13T00:15:09.890914Z"
    }
   },
   "outputs": [],
   "source": [
    "dmr_rate_dir = output_dir / 'DMRRate'\n",
    "dmr_rate_dir.mkdir(exist_ok=True)"
   ]
  },
  {
   "cell_type": "code",
   "execution_count": 11,
   "metadata": {
    "ExecuteTime": {
     "end_time": "2020-01-13T00:15:16.284683Z",
     "start_time": "2020-01-13T00:15:14.722033Z"
    }
   },
   "outputs": [
    {
     "name": "stdout",
     "output_type": "stream",
     "text": [
      "chr1\n",
      "chr10\n",
      "chr11\n"
     ]
    },
    {
     "name": "stderr",
     "output_type": "stream",
     "text": [
      "/home/hanliu/miniconda3/envs/clustering/lib/python3.7/site-packages/ipykernel_launcher.py:6: FutureWarning: to_msgpack is deprecated and will be removed in a future version.\n",
      "It is recommended to use pyarrow for on-the-wire transmission of pandas objects.\n",
      "  \n"
     ]
    },
    {
     "name": "stdout",
     "output_type": "stream",
     "text": [
      "chr12\n",
      "chr13\n",
      "chr14\n",
      "chr15\n",
      "chr16\n",
      "chr17\n",
      "chr18\n",
      "chr19\n",
      "chr2\n",
      "chr3\n",
      "chr4\n",
      "chr5\n",
      "chr6\n",
      "chr7\n",
      "chr8\n",
      "chr9\n",
      "chrM\n",
      "chrX\n",
      "chrY\n"
     ]
    }
   ],
   "source": [
    "chrs = dmr_bed['#chr'].copy()\n",
    "chrs.index = no_na_rate.index\n",
    "\n",
    "for chrom, sub_df in no_na_rate.groupby(chrs):\n",
    "    print(chrom)\n",
    "    sub_df.to_msgpack(dmr_rate_dir / f'SubDMR_rate_no_na.{chrom}.msg')"
   ]
  },
  {
   "cell_type": "markdown",
   "metadata": {},
   "source": [
    "## Gene mCH\n",
    "\n",
    "### Save each gene rate chrom"
   ]
  },
  {
   "cell_type": "code",
   "execution_count": 13,
   "metadata": {
    "ExecuteTime": {
     "end_time": "2020-01-13T00:16:19.273652Z",
     "start_time": "2020-01-13T00:16:19.253358Z"
    }
   },
   "outputs": [],
   "source": [
    "gene_rate_df = pd.read_msgpack(\n",
    "    '/home/hanliu/project/mouse_rostral_brain/study/ITSpatial/DMG Analysis/ITSpatialPairwiseDEG/ClusterMean.genes.msg'\n",
    ").T"
   ]
  },
  {
   "cell_type": "code",
   "execution_count": 14,
   "metadata": {
    "ExecuteTime": {
     "end_time": "2020-01-13T00:16:19.480209Z",
     "start_time": "2020-01-13T00:16:19.476074Z"
    },
    "scrolled": false
   },
   "outputs": [
    {
     "data": {
      "text/plain": [
       "(50231, 27)"
      ]
     },
     "execution_count": 14,
     "metadata": {},
     "output_type": "execute_result"
    }
   ],
   "source": [
    "gene_rate_df.shape"
   ]
  },
  {
   "cell_type": "markdown",
   "metadata": {},
   "source": [
    "## Cluster Pairwise DMG"
   ]
  },
  {
   "cell_type": "code",
   "execution_count": 15,
   "metadata": {
    "ExecuteTime": {
     "end_time": "2020-01-13T00:16:51.599360Z",
     "start_time": "2020-01-13T00:16:51.580583Z"
    }
   },
   "outputs": [],
   "source": [
    "total_dmg = pd.read_csv(\n",
    "    '/home/hanliu/project/mouse_rostral_brain/study/ITSpatial/DMG Analysis/ITSpatialPairwiseDEG/TotalGeneID.txt',\n",
    "    index_col=0, header=None\n",
    ").index"
   ]
  },
  {
   "cell_type": "code",
   "execution_count": 16,
   "metadata": {
    "ExecuteTime": {
     "end_time": "2020-01-13T00:17:09.034287Z",
     "start_time": "2020-01-13T00:17:09.032393Z"
    }
   },
   "outputs": [],
   "source": [
    "# gene_rate_df = gene_rate_df.loc[total_dmg]"
   ]
  },
  {
   "cell_type": "code",
   "execution_count": 17,
   "metadata": {
    "ExecuteTime": {
     "end_time": "2020-01-13T00:17:18.092185Z",
     "start_time": "2020-01-13T00:17:10.729398Z"
    }
   },
   "outputs": [],
   "source": [
    "gene_rate_median = gene_rate_df.median(axis=1)\n",
    "no_na_rate = gene_rate_df.T.fillna(gene_rate_median).T\n",
    "no_na_rate.dropna(how='any', inplace=True)\n",
    "assert no_na_rate.isna().sum().sum() == 0"
   ]
  },
  {
   "cell_type": "code",
   "execution_count": 18,
   "metadata": {
    "ExecuteTime": {
     "end_time": "2020-01-13T00:17:21.986336Z",
     "start_time": "2020-01-13T00:17:21.982817Z"
    }
   },
   "outputs": [
    {
     "data": {
      "text/plain": [
       "(50231, 27)"
      ]
     },
     "execution_count": 18,
     "metadata": {},
     "output_type": "execute_result"
    }
   ],
   "source": [
    "no_na_rate.shape"
   ]
  },
  {
   "cell_type": "code",
   "execution_count": null,
   "metadata": {},
   "outputs": [],
   "source": [
    "gene_meta = pd.read_csv(\n",
    "    '/home/hanliu/ref/mouse/gencode/vm22/gencode.vM22.annotation.gene.flat.tsv.gz',\n",
    "    index_col='gene_id',\n",
    "    sep='\\t')\n",
    "gene_meta.index.name = 'gene'\n",
    "gene_name_to_id = {v: k for k, v in gene_meta['gene_name'].iteritems()}\n",
    "gene_idbase_to_id = {i.split('.')[0]: i for i in gene_meta.index}\n",
    "\n",
    "gene_meta = gene_meta.reindex(no_na_rate.index)"
   ]
  },
  {
   "cell_type": "code",
   "execution_count": 21,
   "metadata": {
    "ExecuteTime": {
     "end_time": "2020-01-13T00:18:04.665346Z",
     "start_time": "2020-01-13T00:18:04.663015Z"
    }
   },
   "outputs": [],
   "source": [
    "gene_rate_dir = output_dir / 'GeneRate'\n",
    "gene_rate_dir.mkdir(exist_ok=True)"
   ]
  },
  {
   "cell_type": "code",
   "execution_count": 22,
   "metadata": {
    "ExecuteTime": {
     "end_time": "2020-01-13T00:18:05.009364Z",
     "start_time": "2020-01-13T00:18:04.966076Z"
    }
   },
   "outputs": [
    {
     "name": "stdout",
     "output_type": "stream",
     "text": [
      "chr1\n",
      "chr10\n",
      "chr11\n",
      "chr12\n",
      "chr13\n",
      "chr14\n",
      "chr15\n",
      "chr16\n",
      "chr17\n",
      "chr18\n",
      "chr19\n",
      "chr2\n",
      "chr3\n",
      "chr4\n",
      "chr5\n",
      "chr6\n",
      "chr7\n",
      "chr8\n",
      "chr9\n",
      "chrM\n",
      "chrX\n",
      "chrY\n"
     ]
    },
    {
     "name": "stderr",
     "output_type": "stream",
     "text": [
      "/home/hanliu/miniconda3/envs/clustering/lib/python3.7/site-packages/ipykernel_launcher.py:3: FutureWarning: to_msgpack is deprecated and will be removed in a future version.\n",
      "It is recommended to use pyarrow for on-the-wire transmission of pandas objects.\n",
      "  This is separate from the ipykernel package so we can avoid doing imports until\n"
     ]
    }
   ],
   "source": [
    "for chrom, sub_df in no_na_rate.groupby(gene_meta['chrom']):\n",
    "    print(chrom)\n",
    "    sub_df.to_msgpack(gene_rate_dir / f'gene_rate_no_na.{chrom}.msg')"
   ]
  },
  {
   "cell_type": "markdown",
   "metadata": {},
   "source": [
    "## DMR Gene Distance"
   ]
  },
  {
   "cell_type": "code",
   "execution_count": 6,
   "metadata": {
    "ExecuteTime": {
     "end_time": "2020-01-13T00:19:34.542152Z",
     "start_time": "2020-01-13T00:19:34.540134Z"
    }
   },
   "outputs": [],
   "source": [
    "distance_cutoff = 1000000\n",
    "output_dir = 'DMR_gene_1M_mask'"
   ]
  },
  {
   "cell_type": "code",
   "execution_count": 4,
   "metadata": {
    "ExecuteTime": {
     "end_time": "2020-01-13T00:19:28.542270Z",
     "start_time": "2020-01-13T00:19:27.181226Z"
    }
   },
   "outputs": [],
   "source": [
    "with pd.HDFStore('/home/hanliu/project/mouse_rostral_brain/DMR/ITSpatial/DMRInfo.h5') as hdf:\n",
    "    dmr_bed = hdf['Bed']"
   ]
  },
  {
   "cell_type": "code",
   "execution_count": 9,
   "metadata": {
    "ExecuteTime": {
     "end_time": "2020-01-13T00:20:52.933684Z",
     "start_time": "2020-01-13T00:20:52.703258Z"
    }
   },
   "outputs": [],
   "source": [
    "gene_meta = pd.read_csv(\n",
    "    '/home/hanliu/ref/mouse/gencode/vm22/gencode.vM22.annotation.gene.flat.tsv.gz',\n",
    "    index_col='gene_id',\n",
    "    sep='\\t')\n",
    "gene_meta.index.name = 'gene'\n",
    "gene_name_to_id = {v: k for k, v in gene_meta['gene_name'].iteritems()}\n",
    "gene_idbase_to_id = {i.split('.')[0]: i for i in gene_meta.index}"
   ]
  },
  {
   "cell_type": "code",
   "execution_count": 10,
   "metadata": {
    "ExecuteTime": {
     "end_time": "2020-01-13T00:20:54.017662Z",
     "start_time": "2020-01-13T00:20:54.014825Z"
    }
   },
   "outputs": [],
   "source": [
    "def split_row(string):\n",
    "    dmrs = tuple(map(int, [i.split('_')[-1] for i in string.split(',')]))\n",
    "    return dmrs"
   ]
  },
  {
   "cell_type": "code",
   "execution_count": 14,
   "metadata": {
    "ExecuteTime": {
     "end_time": "2020-01-13T00:22:35.837550Z",
     "start_time": "2020-01-13T00:22:35.835219Z"
    }
   },
   "outputs": [],
   "source": [
    "mask_dir = output_dir / 'GeneDMRDistanceMask'\n",
    "mask_dir.mkdir(exist_ok=True)"
   ]
  },
  {
   "cell_type": "code",
   "execution_count": 44,
   "metadata": {
    "ExecuteTime": {
     "end_time": "2020-01-13T00:34:20.181763Z",
     "start_time": "2020-01-13T00:33:17.531620Z"
    },
    "scrolled": false
   },
   "outputs": [
    {
     "name": "stdout",
     "output_type": "stream",
     "text": [
      "chr1\n",
      "chr10\n",
      "chr11\n",
      "chr12\n",
      "chr13\n",
      "chr14\n",
      "chr15\n",
      "chr16\n",
      "chr17\n",
      "chr18\n",
      "chr19\n",
      "chr2\n",
      "chr3\n",
      "chr4\n",
      "chr5\n",
      "chr6\n",
      "chr7\n",
      "chr8\n",
      "chr9\n",
      "chrM\n",
      "chrX\n",
      "chrY\n"
     ]
    }
   ],
   "source": [
    "for chrom in dmr_bed['#chr'].unique():\n",
    "    print(chrom)\n",
    "    if chrom in ['chrY', 'chrM']:\n",
    "        continue\n",
    "    this_dmr = dmr_bed[dmr_bed['#chr'] == chrom].sort_values(\n",
    "        'start').iloc[:, :3].copy()\n",
    "    # change dmr_bed index into number, so each chrom start from 0\n",
    "    dmr_int_dict = {d: i for i, d in enumerate(this_dmr.index)}\n",
    "    this_dmr.index = this_dmr.index.map(dmr_int_dict)\n",
    "    this_dmr = this_dmr.reset_index().iloc[:, [1, 2, 3, 0]]\n",
    "\n",
    "    this_gene = gene_meta[gene_meta['chrom'] == chrom].sort_values(\n",
    "        'start').loc[:, ['chrom', 'start', 'end']]\n",
    "    gene_int_dict = {g: i for i, g in enumerate(this_gene.index)}\n",
    "    this_gene = this_gene.reset_index().iloc[:, [1, 2, 3, 0]]\n",
    "\n",
    "    _gene_bed = pybedtools.BedTool.from_dataframe(this_gene)\n",
    "    _dmr_bed = pybedtools.BedTool.from_dataframe(this_dmr)\n",
    "\n",
    "    mapped = _gene_bed.slop(\n",
    "        b=distance_cutoff,\n",
    "        g='/home/hanliu/ref/mouse/genome/mm10.main.chrom.sizes').map(\n",
    "            _dmr_bed, c=4, o='collapse')\n",
    "    df = mapped.to_dataframe()\n",
    "    df = df[df['score'] != '.'].copy()\n",
    "    df['gene_int'] = df['name'].map(gene_int_dict)\n",
    "    df['dmr_ids'] = df['score'].apply(split_row)\n",
    "\n",
    "    row_records = []\n",
    "    col_records = []\n",
    "    data_records = []\n",
    "    for _, row in df.iterrows():\n",
    "        gene_int = row['gene_int']\n",
    "        dmr_ids = row['dmr_ids']\n",
    "        _col = np.array(dmr_ids)\n",
    "        col_records.append(_col)\n",
    "        data_records.append(np.ones_like(_col))\n",
    "        row_records.append((np.ones_like(_col) * gene_int).astype(np.int64))\n",
    "\n",
    "    row_records = np.concatenate(row_records)\n",
    "    col_records = np.concatenate(col_records)\n",
    "    data_records = np.concatenate(data_records)\n",
    "    final_mat = csr_matrix((data_records, (row_records, col_records)),\n",
    "                           shape=(this_gene.shape[0], this_dmr.shape[0]))\n",
    "\n",
    "    final_adata = anndata.AnnData(\n",
    "        X=final_mat,\n",
    "        var=pd.DataFrame([],\n",
    "                         index=pd.Series(dmr_int_dict).sort_values().index),\n",
    "        obs=pd.DataFrame([],\n",
    "                         index=pd.Series(gene_int_dict).sort_values().index))\n",
    "    final_adata.write_h5ad(mask_dir / f'{chrom}.h5ad')\n"
   ]
  },
  {
   "cell_type": "markdown",
   "metadata": {},
   "source": [
    "## Calculate global mCH mCG"
   ]
  },
  {
   "cell_type": "code",
   "execution_count": 15,
   "metadata": {
    "ExecuteTime": {
     "end_time": "2020-01-13T00:45:29.288474Z",
     "start_time": "2020-01-13T00:45:29.286235Z"
    }
   },
   "outputs": [],
   "source": [
    "import pandas as pd"
   ]
  },
  {
   "cell_type": "code",
   "execution_count": 16,
   "metadata": {
    "ExecuteTime": {
     "end_time": "2020-01-13T00:45:29.900255Z",
     "start_time": "2020-01-13T00:45:29.485212Z"
    }
   },
   "outputs": [
    {
     "name": "stderr",
     "output_type": "stream",
     "text": [
      "/home/hanliu/miniconda3/envs/clustering/lib/python3.7/site-packages/IPython/core/interactiveshell.py:3326: FutureWarning: The read_msgpack is deprecated and will be removed in a future version.\n",
      "It is recommended to use pyarrow for on-the-wire transmission of pandas objects.\n",
      "  exec(code_obj, self.user_global_ns, self.user_ns)\n"
     ]
    }
   ],
   "source": [
    "cell_tidy_data = pd.read_msgpack(\n",
    "    '/home/hanliu/project/mouse_rostral_brain/study/ClusteringSummary/Summary/TotalClusteringResults.msg'\n",
    ")\n",
    "group_design = pd.read_csv('/home/hanliu/project/mouse_rostral_brain/study/ITSpatial/Group Design/ITSpatial.cell_group_design.csv',\n",
    "                           index_col=0)\n"
   ]
  },
  {
   "cell_type": "code",
   "execution_count": 17,
   "metadata": {
    "ExecuteTime": {
     "end_time": "2020-01-13T00:45:30.158177Z",
     "start_time": "2020-01-13T00:45:30.065091Z"
    }
   },
   "outputs": [],
   "source": [
    "cell_tidy_data['ITSpatial'] = group_design['ITSpatial']\n",
    "\n",
    "median_cg = cell_tidy_data.groupby('ITSpatial')['CG_RateAdj'].median()\n",
    "median_ch = cell_tidy_data.groupby('ITSpatial')['CH_RateAdj'].median()\n",
    "median_cg.to_csv(output_dir / 'ClusterGlobalmCG.csv', header=False)\n",
    "median_ch.to_csv(output_dir / 'ClusterGlobalmCH.csv', header=False)"
   ]
  },
  {
   "cell_type": "code",
   "execution_count": null,
   "metadata": {},
   "outputs": [],
   "source": []
  },
  {
   "cell_type": "code",
   "execution_count": null,
   "metadata": {},
   "outputs": [],
   "source": []
  }
 ],
 "metadata": {
  "hide_input": false,
  "kernelspec": {
   "display_name": "Python 3",
   "language": "python",
   "name": "python3"
  },
  "language_info": {
   "codemirror_mode": {
    "name": "ipython",
    "version": 3
   },
   "file_extension": ".py",
   "mimetype": "text/x-python",
   "name": "python",
   "nbconvert_exporter": "python",
   "pygments_lexer": "ipython3",
   "version": "3.7.3"
  },
  "toc": {
   "base_numbering": 1,
   "nav_menu": {},
   "number_sections": true,
   "sideBar": true,
   "skip_h1_title": true,
   "title_cell": "Table of Contents",
   "title_sidebar": "Contents",
   "toc_cell": false,
   "toc_position": {},
   "toc_section_display": true,
   "toc_window_display": true
  }
 },
 "nbformat": 4,
 "nbformat_minor": 2
}
