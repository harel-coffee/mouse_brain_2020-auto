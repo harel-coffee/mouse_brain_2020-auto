{
 "cells": [
  {
   "cell_type": "code",
   "execution_count": 1,
   "metadata": {
    "ExecuteTime": {
     "end_time": "2020-01-13T01:05:18.361381Z",
     "start_time": "2020-01-13T01:05:17.850500Z"
    }
   },
   "outputs": [],
   "source": [
    "from papermill import execute_notebook\n",
    "import pandas as pd\n",
    "import pathlib"
   ]
  },
  {
   "cell_type": "code",
   "execution_count": null,
   "metadata": {
    "ExecuteTime": {
     "start_time": "2020-01-13T01:05:18.888Z"
    },
    "scrolled": true
   },
   "outputs": [
    {
     "name": "stdout",
     "output_type": "stream",
     "text": [
      "chr1\n"
     ]
    },
    {
     "data": {
      "application/vnd.jupyter.widget-view+json": {
       "model_id": "c9ea68e53fde468082e827c5305ba2bc",
       "version_major": 2,
       "version_minor": 0
      },
      "text/plain": [
       "HBox(children=(IntProgress(value=0, max=40), HTML(value='')))"
      ]
     },
     "metadata": {},
     "output_type": "display_data"
    },
    {
     "name": "stdout",
     "output_type": "stream",
     "text": [
      "\n",
      "chr2\n"
     ]
    },
    {
     "data": {
      "application/vnd.jupyter.widget-view+json": {
       "model_id": "71aaa56d9cb24cad964c60d1a2f91600",
       "version_major": 2,
       "version_minor": 0
      },
      "text/plain": [
       "HBox(children=(IntProgress(value=0, max=40), HTML(value='')))"
      ]
     },
     "metadata": {},
     "output_type": "display_data"
    },
    {
     "name": "stdout",
     "output_type": "stream",
     "text": [
      "\n",
      "chr3\n"
     ]
    },
    {
     "data": {
      "application/vnd.jupyter.widget-view+json": {
       "model_id": "1918aac1ca8645839ad9cc033534838e",
       "version_major": 2,
       "version_minor": 0
      },
      "text/plain": [
       "HBox(children=(IntProgress(value=0, max=40), HTML(value='')))"
      ]
     },
     "metadata": {},
     "output_type": "display_data"
    }
   ],
   "source": [
    "# 145 neuronal subtypes\n",
    "params = dict(\n",
    "    chunk_size=1000,\n",
    "    cpu=40,\n",
    "    mask_dir=\n",
    "    '/home/hanliu/project/mouse_rostral_brain/study/ITSpatial/gene_dmr_corr/GeneDMRDistanceMask/',\n",
    "    dmr_rate_dir=\n",
    "    '/home/hanliu/project/mouse_rostral_brain/study/ITSpatial/gene_dmr_corr/DMRRate/',\n",
    "    gene_rate_dir=\n",
    "    '/home/hanliu/project/mouse_rostral_brain/study/ITSpatial/gene_dmr_corr/GeneRate/',\n",
    "    output_dir=\n",
    "    '/home/hanliu/project/mouse_rostral_brain/study/ITSpatial/gene_dmr_corr/',\n",
    "    # generate null\n",
    "    dmr_sample=5000,\n",
    "    repeat=200,\n",
    "    # sig corr\n",
    "    neg_logp_cutoff=3)\n",
    "\n",
    "output_dir = '/home/hanliu/project/mouse_rostral_brain/study/ITSpatial/gene_dmr_corr/Corr'\n",
    "pathlib.Path(output_dir).mkdir(exist_ok=True)\n",
    "\n",
    "chroms = [\n",
    "    'chr1', 'chr2', 'chr3', 'chr4', 'chr5', 'chr6', 'chr7', 'chr8', 'chr9',\n",
    "    'chr10', 'chr11', 'chr12', 'chr13', 'chr14', 'chr15', 'chr16', 'chr17',\n",
    "    'chr18', 'chr19', 'chrX'\n",
    "]\n",
    "\n",
    "for chrom in chroms:\n",
    "    print(chrom)\n",
    "    params.update(chrom=chrom)\n",
    "    input_path = f'SingleChromCorr.ipynb'\n",
    "    output_path = f'{output_dir}/SingleChromCorr.{chrom}.ipynb'\n",
    "\n",
    "    #if pathlib.Path(f'MaskedResult/{chrom}.h5ad').exists():\n",
    "    #    continue\n",
    "    execute_notebook(str(input_path),\n",
    "                     str(output_path),\n",
    "                     parameters=params,\n",
    "                     engine_name=None,\n",
    "                     prepare_only=False,\n",
    "                     kernel_name=None,\n",
    "                     progress_bar=True,\n",
    "                     log_output=False,\n",
    "                     start_timeout=60,\n",
    "                     report_mode=False,\n",
    "                     cwd=output_dir)"
   ]
  },
  {
   "cell_type": "code",
   "execution_count": null,
   "metadata": {},
   "outputs": [],
   "source": []
  },
  {
   "cell_type": "code",
   "execution_count": null,
   "metadata": {},
   "outputs": [],
   "source": []
  },
  {
   "cell_type": "code",
   "execution_count": null,
   "metadata": {},
   "outputs": [],
   "source": []
  },
  {
   "cell_type": "code",
   "execution_count": null,
   "metadata": {},
   "outputs": [],
   "source": []
  },
  {
   "cell_type": "code",
   "execution_count": null,
   "metadata": {},
   "outputs": [],
   "source": []
  },
  {
   "cell_type": "code",
   "execution_count": null,
   "metadata": {},
   "outputs": [],
   "source": []
  },
  {
   "cell_type": "code",
   "execution_count": null,
   "metadata": {},
   "outputs": [],
   "source": []
  },
  {
   "cell_type": "code",
   "execution_count": null,
   "metadata": {},
   "outputs": [],
   "source": []
  },
  {
   "cell_type": "code",
   "execution_count": null,
   "metadata": {},
   "outputs": [],
   "source": []
  },
  {
   "cell_type": "code",
   "execution_count": null,
   "metadata": {},
   "outputs": [],
   "source": []
  },
  {
   "cell_type": "code",
   "execution_count": null,
   "metadata": {},
   "outputs": [],
   "source": []
  },
  {
   "cell_type": "code",
   "execution_count": null,
   "metadata": {},
   "outputs": [],
   "source": []
  },
  {
   "cell_type": "code",
   "execution_count": null,
   "metadata": {},
   "outputs": [],
   "source": []
  },
  {
   "cell_type": "code",
   "execution_count": null,
   "metadata": {},
   "outputs": [],
   "source": []
  }
 ],
 "metadata": {
  "hide_input": false,
  "kernelspec": {
   "display_name": "Python 3",
   "language": "python",
   "name": "python3"
  },
  "language_info": {
   "codemirror_mode": {
    "name": "ipython",
    "version": 3
   },
   "file_extension": ".py",
   "mimetype": "text/x-python",
   "name": "python",
   "nbconvert_exporter": "python",
   "pygments_lexer": "ipython3",
   "version": "3.7.3"
  },
  "toc": {
   "base_numbering": 1,
   "nav_menu": {},
   "number_sections": true,
   "sideBar": true,
   "skip_h1_title": true,
   "title_cell": "Table of Contents",
   "title_sidebar": "Contents",
   "toc_cell": false,
   "toc_position": {},
   "toc_section_display": true,
   "toc_window_display": true
  }
 },
 "nbformat": 4,
 "nbformat_minor": 2
}
