{
 "cells": [
  {
   "cell_type": "markdown",
   "metadata": {},
   "source": [
    "# Layer Specific Gene GO"
   ]
  },
  {
   "cell_type": "code",
   "execution_count": 1,
   "metadata": {
    "ExecuteTime": {
     "end_time": "2020-01-14T21:41:58.588312Z",
     "start_time": "2020-01-14T21:41:58.184267Z"
    }
   },
   "outputs": [],
   "source": [
    "import joblib\n",
    "import pandas as pd\n",
    "import pathlib\n",
    "from goatools.base import download_go_basic_obo\n",
    "from goatools.base import download_ncbi_associations\n",
    "from goatools.obo_parser import GODag\n",
    "from goatools.anno.genetogo_reader import Gene2GoReader\n",
    "from goatools.test_data.genes_NCBI_10090_ProteinCoding import GENEID2NT as GeneID2nt_mus\n",
    "from goatools.goea.go_enrichment_ns import GOEnrichmentStudyNS\n",
    "from goatools.godag_plot import plot_gos, plot_results, plot_goid2goobj"
   ]
  },
  {
   "cell_type": "markdown",
   "metadata": {},
   "source": [
    "## Load marker gene lists"
   ]
  },
  {
   "cell_type": "code",
   "execution_count": 2,
   "metadata": {
    "ExecuteTime": {
     "end_time": "2020-01-14T21:41:58.592212Z",
     "start_time": "2020-01-14T21:41:58.589887Z"
    }
   },
   "outputs": [],
   "source": [
    "layer = 'IT-L6'\n",
    "output_dir = pathlib.Path(layer)\n",
    "output_dir.mkdir(exist_ok=True)"
   ]
  },
  {
   "cell_type": "code",
   "execution_count": 3,
   "metadata": {
    "ExecuteTime": {
     "end_time": "2020-01-14T21:41:59.220142Z",
     "start_time": "2020-01-14T21:41:59.011266Z"
    }
   },
   "outputs": [],
   "source": [
    "gene_meta = pd.read_csv('/home/hanliu/ref/mouse/gencode/vm22/gencode.vM22.annotation.gene.flat.tsv.gz',\n",
    "                        sep='\\t', index_col='gene_id')"
   ]
  },
  {
   "cell_type": "code",
   "execution_count": 4,
   "metadata": {
    "ExecuteTime": {
     "end_time": "2020-01-14T21:41:59.320964Z",
     "start_time": "2020-01-14T21:41:59.304070Z"
    }
   },
   "outputs": [
    {
     "name": "stdout",
     "output_type": "stream",
     "text": [
      "SSp 13\n",
      "ACA 20\n",
      "PFC 27\n",
      "SSs 14\n",
      "MOp 15\n",
      "MOs 22\n",
      "AI 11\n"
     ]
    }
   ],
   "source": [
    "layer_markers = joblib.load(f'../region_hypo_genes.{layer}.obj')\n",
    "layer_markers_names = {k: [gene_meta.at[g, 'gene_name'] for g in v] for k, v in layer_markers.items()}\n",
    "gene_id_base_to_name = {g.split('.')[0]: gene_meta.loc[g, 'gene_name'] for v in layer_markers.values() for g in v}\n",
    "for k, v in layer_markers.items():\n",
    "    print(k, len(v))"
   ]
  },
  {
   "cell_type": "code",
   "execution_count": 5,
   "metadata": {
    "ExecuteTime": {
     "end_time": "2020-01-14T21:41:59.768910Z",
     "start_time": "2020-01-14T21:41:59.647252Z"
    }
   },
   "outputs": [],
   "source": [
    "ensembl_id_to_ncbi = pd.read_csv(\n",
    "    '/home/hanliu/ref/ncbi/gene2ensembl.mouse.tsv.gz', sep='\\t',\n",
    "    index_col=2)['GeneID'].to_dict()\n",
    "ncbi_to_ensembl_id = {v:k for k, v in ensembl_id_to_ncbi.items()}"
   ]
  },
  {
   "cell_type": "code",
   "execution_count": 6,
   "metadata": {
    "ExecuteTime": {
     "end_time": "2020-01-14T21:42:00.084225Z",
     "start_time": "2020-01-14T21:42:00.079694Z"
    }
   },
   "outputs": [
    {
     "name": "stdout",
     "output_type": "stream",
     "text": [
      "SSp 13\n",
      "ACA 20\n",
      "PFC 25\n",
      "SSs 13\n",
      "MOp 14\n",
      "MOs 22\n",
      "AI 11\n"
     ]
    }
   ],
   "source": [
    "# convert ensembl id to entrez id, some missing id is usually low conf gene\n",
    "layer_markers_ncbi = {}\n",
    "for k, v in layer_markers.items():\n",
    "    v = [ensembl_id_to_ncbi[i.split('.')[0]] for i in v if i.split('.')[0] in ensembl_id_to_ncbi]\n",
    "    layer_markers_ncbi[k] = v\n",
    "    print(k, len(v))"
   ]
  },
  {
   "cell_type": "markdown",
   "metadata": {
    "ExecuteTime": {
     "end_time": "2020-01-14T18:26:03.449200Z",
     "start_time": "2020-01-14T18:26:03.447353Z"
    }
   },
   "source": [
    "## Setup GO"
   ]
  },
  {
   "cell_type": "code",
   "execution_count": 7,
   "metadata": {
    "ExecuteTime": {
     "end_time": "2020-01-14T21:42:06.668592Z",
     "start_time": "2020-01-14T21:42:00.755479Z"
    }
   },
   "outputs": [
    {
     "name": "stdout",
     "output_type": "stream",
     "text": [
      "  EXISTS: go-basic.obo\n",
      "  EXISTS: gene2go\n",
      "go-basic.obo: fmt(1.2) rel(2020-01-01) 47,337 GO Terms\n",
      "HMS:0:00:04.293774 367,364 annotations READ: gene2go \n",
      "1 taxids stored: 10090\n",
      "BP 17,860 annotated mouse genes\n",
      "CC 18,826 annotated mouse genes\n",
      "MF 16,723 annotated mouse genes\n"
     ]
    }
   ],
   "source": [
    "obo_fname = download_go_basic_obo()\n",
    "fin_gene2go = download_ncbi_associations()\n",
    "obodag = GODag(\"go-basic.obo\")\n",
    "\n",
    "# Read NCBI's gene2go. Store annotations in a list of namedtuples\n",
    "objanno = Gene2GoReader(fin_gene2go, taxids=[10090])\n",
    "# Get namespace2association where:\n",
    "#    namespace is:\n",
    "#        BP: biological_process               \n",
    "#        MF: molecular_function\n",
    "#        CC: cellular_component\n",
    "#    assocation is a dict:\n",
    "#        key: NCBI GeneID\n",
    "#        value: A set of GO IDs associated with that gene\n",
    "ns2assoc = objanno.get_ns2assc()\n",
    "\n",
    "for nspc, id2gos in ns2assoc.items():\n",
    "    print(\"{NS} {N:,} annotated mouse genes\".format(NS=nspc, N=len(id2gos)))"
   ]
  },
  {
   "cell_type": "code",
   "execution_count": 8,
   "metadata": {
    "ExecuteTime": {
     "end_time": "2020-01-14T21:42:07.042546Z",
     "start_time": "2020-01-14T21:42:06.670057Z"
    }
   },
   "outputs": [
    {
     "name": "stdout",
     "output_type": "stream",
     "text": [
      "\n",
      "Load BP Gene Ontology Analysis ...\n",
      "fisher module not installed.  Falling back on scipy.stats.fisher_exact\n",
      " 60% 16,821 of 28,212 population items found in association\n",
      "\n",
      "Load CC Gene Ontology Analysis ...\n",
      "fisher module not installed.  Falling back on scipy.stats.fisher_exact\n",
      " 64% 18,172 of 28,212 population items found in association\n",
      "\n",
      "Load MF Gene Ontology Analysis ...\n",
      "fisher module not installed.  Falling back on scipy.stats.fisher_exact\n",
      " 58% 16,337 of 28,212 population items found in association\n"
     ]
    }
   ],
   "source": [
    "goeaobj = GOEnrichmentStudyNS(\n",
    "        GeneID2nt_mus.keys(), # List of mouse protein-coding genes\n",
    "        ns2assoc, # geneid/GO associations\n",
    "        obodag, # Ontologies\n",
    "        propagate_counts = False,\n",
    "        alpha = 0.05, # default significance cut-off\n",
    "        methods = ['fdr_bh']) # defult multipletest correction method"
   ]
  },
  {
   "cell_type": "code",
   "execution_count": 9,
   "metadata": {
    "ExecuteTime": {
     "end_time": "2020-01-14T21:42:07.048735Z",
     "start_time": "2020-01-14T21:42:07.044075Z"
    }
   },
   "outputs": [
    {
     "data": {
      "text/plain": [
       "71"
      ]
     },
     "execution_count": 9,
     "metadata": {},
     "output_type": "execute_result"
    }
   ],
   "source": [
    "# combine all the genes\n",
    "genes = list(set(sum(layer_markers_ncbi.values(), [])))\n",
    "len(genes)"
   ]
  },
  {
   "cell_type": "code",
   "execution_count": 10,
   "metadata": {
    "ExecuteTime": {
     "end_time": "2020-01-14T21:42:14.770337Z",
     "start_time": "2020-01-14T21:42:07.050752Z"
    },
    "hide_input": true,
    "scrolled": true
   },
   "outputs": [
    {
     "name": "stdout",
     "output_type": "stream",
     "text": [
      "\n",
      "Run BP Gene Ontology Analysis: current study set of 71 IDs ...\n",
      " 91%     61 of     67 study items found in association\n",
      " 94%     67 of     71 study items found in population(28212)\n",
      "Calculating 12,254 uncorrected p-values using fisher_scipy_stats\n",
      "  12,254 GO terms are associated with 16,821 of 28,212 population items\n",
      "     564 GO terms are associated with     61 of     71 study items\n",
      "  METHOD fdr_bh:\n",
      "       1 GO terms found significant (< 0.05=alpha) (  1 enriched +   0 purified): statsmodels fdr_bh\n",
      "       6 study items associated with significant GO IDs (enriched)\n",
      "       0 study items associated with significant GO IDs (purified)\n",
      "\n",
      "Run CC Gene Ontology Analysis: current study set of 71 IDs ...\n",
      "100%     67 of     67 study items found in association\n",
      " 94%     67 of     71 study items found in population(28212)\n",
      "Calculating 1,724 uncorrected p-values using fisher_scipy_stats\n",
      "   1,724 GO terms are associated with 18,172 of 28,212 population items\n",
      "     126 GO terms are associated with     67 of     71 study items\n",
      "  METHOD fdr_bh:\n",
      "      14 GO terms found significant (< 0.05=alpha) ( 14 enriched +   0 purified): statsmodels fdr_bh\n",
      "      46 study items associated with significant GO IDs (enriched)\n",
      "       0 study items associated with significant GO IDs (purified)\n",
      "\n",
      "Run MF Gene Ontology Analysis: current study set of 71 IDs ...\n",
      " 84%     56 of     67 study items found in association\n",
      " 94%     67 of     71 study items found in population(28212)\n",
      "Calculating 4,146 uncorrected p-values using fisher_scipy_stats\n",
      "   4,146 GO terms are associated with 16,337 of 28,212 population items\n",
      "     155 GO terms are associated with     56 of     71 study items\n",
      "  METHOD fdr_bh:\n",
      "       5 GO terms found significant (< 0.05=alpha) (  5 enriched +   0 purified): statsmodels fdr_bh\n",
      "      33 study items associated with significant GO IDs (enriched)\n",
      "       0 study items associated with significant GO IDs (purified)\n",
      "     20 items WROTE: IT-L6.GO.tsv\n",
      "    1 usr   5 GOs  WROTE: IT-L6.GOBP.png\n",
      "   14 usr  35 GOs  WROTE: IT-L6.GOCC.png\n",
      "    5 usr  21 GOs  WROTE: IT-L6.GOMF.png\n"
     ]
    }
   ],
   "source": [
    "\n",
    "goea_results_all = goeaobj.run_study(genes)\n",
    "goea_results_sig = [r for r in goea_results_all if r.p_fdr_bh < 0.05]\n",
    "goeaobj.wr_tsv(str(f\"{layer}.GO.tsv\"), goea_results_sig)\n",
    "plot_results(layer + \".GO{NS}.png\", goea_results_sig)\n",
    "\n",
    "# add more gene info\n",
    "sig_go_df = pd.read_csv(f\"{layer}.GO.tsv\", sep='\\t', index_col=0)\n",
    "\n",
    "sig_go_df['study_items'] = sig_go_df['study_items'].fillna('')\n",
    "sig_go_df['gene_ids'] = sig_go_df['study_items'].apply(lambda i: ','.join(\n",
    "    [ncbi_to_ensembl_id[int(g)] for g in i.split(',') if g != '']))\n",
    "sig_go_df['gene_names'] = sig_go_df['gene_ids'].apply(lambda i: ','.join(\n",
    "    [gene_id_base_to_name[g] for g in i.split(',') if g != '']))\n",
    "sig_go_df.to_csv(f\"{layer}.GO.tsv\", sep='\\t')"
   ]
  },
  {
   "cell_type": "code",
   "execution_count": null,
   "metadata": {
    "scrolled": true
   },
   "outputs": [],
   "source": []
  },
  {
   "cell_type": "code",
   "execution_count": null,
   "metadata": {},
   "outputs": [],
   "source": []
  },
  {
   "cell_type": "code",
   "execution_count": null,
   "metadata": {},
   "outputs": [],
   "source": []
  },
  {
   "cell_type": "code",
   "execution_count": null,
   "metadata": {},
   "outputs": [],
   "source": []
  },
  {
   "cell_type": "code",
   "execution_count": null,
   "metadata": {},
   "outputs": [],
   "source": []
  }
 ],
 "metadata": {
  "hide_input": false,
  "kernelspec": {
   "display_name": "Python 3",
   "language": "python",
   "name": "python3"
  },
  "language_info": {
   "codemirror_mode": {
    "name": "ipython",
    "version": 3
   },
   "file_extension": ".py",
   "mimetype": "text/x-python",
   "name": "python",
   "nbconvert_exporter": "python",
   "pygments_lexer": "ipython3",
   "version": "3.7.3"
  },
  "toc": {
   "base_numbering": 1,
   "nav_menu": {},
   "number_sections": true,
   "sideBar": true,
   "skip_h1_title": true,
   "title_cell": "Table of Contents",
   "title_sidebar": "Contents",
   "toc_cell": false,
   "toc_position": {},
   "toc_section_display": true,
   "toc_window_display": true
  }
 },
 "nbformat": 4,
 "nbformat_minor": 2
}
