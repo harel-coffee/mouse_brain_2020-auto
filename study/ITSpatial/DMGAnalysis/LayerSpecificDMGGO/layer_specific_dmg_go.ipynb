{
 "cells": [
  {
   "cell_type": "markdown",
   "metadata": {},
   "source": [
    "# Layer Specific Gene GO"
   ]
  },
  {
   "cell_type": "code",
   "execution_count": 1,
   "metadata": {
    "ExecuteTime": {
     "end_time": "2020-01-14T19:06:17.480797Z",
     "start_time": "2020-01-14T19:06:17.087751Z"
    }
   },
   "outputs": [],
   "source": [
    "import joblib\n",
    "import pandas as pd\n",
    "from goatools.base import download_go_basic_obo\n",
    "from goatools.base import download_ncbi_associations\n",
    "from goatools.obo_parser import GODag\n",
    "from goatools.anno.genetogo_reader import Gene2GoReader\n",
    "from goatools.test_data.genes_NCBI_10090_ProteinCoding import GENEID2NT as GeneID2nt_mus\n",
    "from goatools.goea.go_enrichment_ns import GOEnrichmentStudyNS\n",
    "from goatools.godag_plot import plot_gos, plot_results, plot_goid2goobj"
   ]
  },
  {
   "cell_type": "markdown",
   "metadata": {},
   "source": [
    "## Load marker gene lists"
   ]
  },
  {
   "cell_type": "code",
   "execution_count": 2,
   "metadata": {
    "ExecuteTime": {
     "end_time": "2020-01-14T19:06:17.681565Z",
     "start_time": "2020-01-14T19:06:17.482968Z"
    }
   },
   "outputs": [],
   "source": [
    "gene_meta = pd.read_csv('/home/hanliu/ref/mouse/gencode/vm22/gencode.vM22.annotation.gene.flat.tsv.gz',\n",
    "                        sep='\\t', index_col='gene_id')"
   ]
  },
  {
   "cell_type": "code",
   "execution_count": 3,
   "metadata": {
    "ExecuteTime": {
     "end_time": "2020-01-14T19:06:17.712932Z",
     "start_time": "2020-01-14T19:06:17.682907Z"
    }
   },
   "outputs": [
    {
     "name": "stdout",
     "output_type": "stream",
     "text": [
      "IT-L5 355\n",
      "IT-L23 448\n",
      "IT-L4 222\n",
      "IT-L6 308\n"
     ]
    }
   ],
   "source": [
    "layer_markers = joblib.load('../layer_hypo_genes.obj')\n",
    "layer_markers_names = {k: [gene_meta.at[g, 'gene_name'] for g in v] for k, v in layer_markers.items()}\n",
    "gene_id_base_to_name = {g.split('.')[0]: gene_meta.loc[g, 'gene_name'] for v in layer_markers.values() for g in v}\n",
    "for k, v in layer_markers.items():\n",
    "    print(k, len(v))"
   ]
  },
  {
   "cell_type": "code",
   "execution_count": 4,
   "metadata": {
    "ExecuteTime": {
     "end_time": "2020-01-14T19:06:17.831051Z",
     "start_time": "2020-01-14T19:06:17.714251Z"
    }
   },
   "outputs": [],
   "source": [
    "ensembl_id_to_ncbi = pd.read_csv(\n",
    "    '/home/hanliu/ref/ncbi/gene2ensembl.mouse.tsv.gz', sep='\\t',\n",
    "    index_col=2)['GeneID'].to_dict()\n",
    "ncbi_to_ensembl_id = {v:k for k, v in ensembl_id_to_ncbi.items()}"
   ]
  },
  {
   "cell_type": "code",
   "execution_count": 5,
   "metadata": {
    "ExecuteTime": {
     "end_time": "2020-01-14T19:06:17.837216Z",
     "start_time": "2020-01-14T19:06:17.832465Z"
    }
   },
   "outputs": [
    {
     "name": "stdout",
     "output_type": "stream",
     "text": [
      "IT-L5 310\n",
      "IT-L23 390\n",
      "IT-L4 196\n",
      "IT-L6 274\n"
     ]
    }
   ],
   "source": [
    "# convert ensembl id to entrez id, some missing id is usually low conf gene\n",
    "layer_markers_ncbi = {}\n",
    "for k, v in layer_markers.items():\n",
    "    v = [ensembl_id_to_ncbi[i.split('.')[0]] for i in v if i.split('.')[0] in ensembl_id_to_ncbi]\n",
    "    layer_markers_ncbi[k] = v\n",
    "    print(k, len(v))"
   ]
  },
  {
   "cell_type": "markdown",
   "metadata": {
    "ExecuteTime": {
     "end_time": "2020-01-14T18:26:03.449200Z",
     "start_time": "2020-01-14T18:26:03.447353Z"
    }
   },
   "source": [
    "## Setup GO"
   ]
  },
  {
   "cell_type": "code",
   "execution_count": 6,
   "metadata": {
    "ExecuteTime": {
     "end_time": "2020-01-14T19:06:23.483441Z",
     "start_time": "2020-01-14T19:06:17.838449Z"
    }
   },
   "outputs": [
    {
     "name": "stdout",
     "output_type": "stream",
     "text": [
      "  EXISTS: go-basic.obo\n",
      "  EXISTS: gene2go\n",
      "go-basic.obo: fmt(1.2) rel(2020-01-01) 47,337 GO Terms\n",
      "HMS:0:00:04.050274 367,364 annotations READ: gene2go \n",
      "1 taxids stored: 10090\n",
      "MF 16,723 annotated mouse genes\n",
      "CC 18,826 annotated mouse genes\n",
      "BP 17,860 annotated mouse genes\n"
     ]
    }
   ],
   "source": [
    "obo_fname = download_go_basic_obo()\n",
    "fin_gene2go = download_ncbi_associations()\n",
    "obodag = GODag(\"go-basic.obo\")\n",
    "\n",
    "# Read NCBI's gene2go. Store annotations in a list of namedtuples\n",
    "objanno = Gene2GoReader(fin_gene2go, taxids=[10090])\n",
    "# Get namespace2association where:\n",
    "#    namespace is:\n",
    "#        BP: biological_process               \n",
    "#        MF: molecular_function\n",
    "#        CC: cellular_component\n",
    "#    assocation is a dict:\n",
    "#        key: NCBI GeneID\n",
    "#        value: A set of GO IDs associated with that gene\n",
    "ns2assoc = objanno.get_ns2assc()\n",
    "\n",
    "for nspc, id2gos in ns2assoc.items():\n",
    "    print(\"{NS} {N:,} annotated mouse genes\".format(NS=nspc, N=len(id2gos)))"
   ]
  },
  {
   "cell_type": "code",
   "execution_count": 7,
   "metadata": {
    "ExecuteTime": {
     "end_time": "2020-01-14T19:06:23.851685Z",
     "start_time": "2020-01-14T19:06:23.486132Z"
    }
   },
   "outputs": [
    {
     "name": "stdout",
     "output_type": "stream",
     "text": [
      "\n",
      "Load BP Gene Ontology Analysis ...\n",
      "fisher module not installed.  Falling back on scipy.stats.fisher_exact\n",
      " 60% 16,821 of 28,212 population items found in association\n",
      "\n",
      "Load CC Gene Ontology Analysis ...\n",
      "fisher module not installed.  Falling back on scipy.stats.fisher_exact\n",
      " 64% 18,172 of 28,212 population items found in association\n",
      "\n",
      "Load MF Gene Ontology Analysis ...\n",
      "fisher module not installed.  Falling back on scipy.stats.fisher_exact\n",
      " 58% 16,337 of 28,212 population items found in association\n"
     ]
    }
   ],
   "source": [
    "goeaobj = GOEnrichmentStudyNS(\n",
    "        GeneID2nt_mus.keys(), # List of mouse protein-coding genes\n",
    "        ns2assoc, # geneid/GO associations\n",
    "        obodag, # Ontologies\n",
    "        propagate_counts = False,\n",
    "        alpha = 0.05, # default significance cut-off\n",
    "        methods = ['fdr_bh']) # defult multipletest correction method"
   ]
  },
  {
   "cell_type": "code",
   "execution_count": 9,
   "metadata": {
    "ExecuteTime": {
     "end_time": "2020-01-14T19:07:51.725836Z",
     "start_time": "2020-01-14T19:07:12.147299Z"
    },
    "scrolled": true
   },
   "outputs": [
    {
     "name": "stdout",
     "output_type": "stream",
     "text": [
      "IT-L5 310\n",
      "\n",
      "Run BP Gene Ontology Analysis: current study set of 310 IDs ...\n",
      " 91%    268 of    294 study items found in association\n",
      " 95%    294 of    310 study items found in population(28212)\n",
      "Calculating 12,254 uncorrected p-values using fisher_scipy_stats\n",
      "  12,254 GO terms are associated with 16,821 of 28,212 population items\n",
      "   1,445 GO terms are associated with    268 of    310 study items\n",
      "  METHOD fdr_bh:\n",
      "      13 GO terms found significant (< 0.05=alpha) ( 13 enriched +   0 purified): statsmodels fdr_bh\n",
      "     112 study items associated with significant GO IDs (enriched)\n",
      "       0 study items associated with significant GO IDs (purified)\n",
      "\n",
      "Run CC Gene Ontology Analysis: current study set of 310 IDs ...\n",
      " 94%    276 of    294 study items found in association\n",
      " 95%    294 of    310 study items found in population(28212)\n",
      "Calculating 1,724 uncorrected p-values using fisher_scipy_stats\n",
      "   1,724 GO terms are associated with 18,172 of 28,212 population items\n",
      "     295 GO terms are associated with    276 of    310 study items\n",
      "  METHOD fdr_bh:\n",
      "      32 GO terms found significant (< 0.05=alpha) ( 32 enriched +   0 purified): statsmodels fdr_bh\n",
      "     267 study items associated with significant GO IDs (enriched)\n",
      "       0 study items associated with significant GO IDs (purified)\n",
      "\n",
      "Run MF Gene Ontology Analysis: current study set of 310 IDs ...\n",
      " 88%    258 of    294 study items found in association\n",
      " 95%    294 of    310 study items found in population(28212)\n",
      "Calculating 4,146 uncorrected p-values using fisher_scipy_stats\n",
      "   4,146 GO terms are associated with 16,337 of 28,212 population items\n",
      "     451 GO terms are associated with    258 of    310 study items\n",
      "  METHOD fdr_bh:\n",
      "      20 GO terms found significant (< 0.05=alpha) ( 19 enriched +   1 purified): statsmodels fdr_bh\n",
      "     179 study items associated with significant GO IDs (enriched)\n",
      "       0 study items associated with significant GO IDs (purified)\n",
      "     65 items WROTE: IT-L5.GO.tsv\n",
      "   13 usr 127 GOs  WROTE: IT-L5.GOBP.png\n",
      "   32 usr  69 GOs  WROTE: IT-L5.GOCC.png\n",
      "   20 usr  76 GOs  WROTE: IT-L5.GOMF.png\n",
      "IT-L23 390\n",
      "\n",
      "Run BP Gene Ontology Analysis: current study set of 390 IDs ...\n",
      " 89%    323 of    363 study items found in association\n",
      " 93%    363 of    390 study items found in population(28212)\n",
      "Calculating 12,254 uncorrected p-values using fisher_scipy_stats\n",
      "  12,254 GO terms are associated with 16,821 of 28,212 population items\n",
      "   1,781 GO terms are associated with    323 of    390 study items\n",
      "  METHOD fdr_bh:\n",
      "      22 GO terms found significant (< 0.05=alpha) ( 21 enriched +   1 purified): statsmodels fdr_bh\n",
      "     147 study items associated with significant GO IDs (enriched)\n",
      "       1 study items associated with significant GO IDs (purified)\n",
      "\n",
      "Run CC Gene Ontology Analysis: current study set of 390 IDs ...\n",
      " 94%    340 of    363 study items found in association\n",
      " 93%    363 of    390 study items found in population(28212)\n",
      "Calculating 1,724 uncorrected p-values using fisher_scipy_stats\n",
      "   1,724 GO terms are associated with 18,172 of 28,212 population items\n",
      "     349 GO terms are associated with    340 of    390 study items\n",
      "  METHOD fdr_bh:\n",
      "      46 GO terms found significant (< 0.05=alpha) ( 46 enriched +   0 purified): statsmodels fdr_bh\n",
      "     312 study items associated with significant GO IDs (enriched)\n",
      "       0 study items associated with significant GO IDs (purified)\n",
      "\n",
      "Run MF Gene Ontology Analysis: current study set of 390 IDs ...\n",
      " 84%    305 of    363 study items found in association\n",
      " 93%    363 of    390 study items found in population(28212)\n",
      "Calculating 4,146 uncorrected p-values using fisher_scipy_stats\n",
      "   4,146 GO terms are associated with 16,337 of 28,212 population items\n",
      "     549 GO terms are associated with    305 of    390 study items\n",
      "  METHOD fdr_bh:\n",
      "      24 GO terms found significant (< 0.05=alpha) ( 23 enriched +   1 purified): statsmodels fdr_bh\n",
      "     234 study items associated with significant GO IDs (enriched)\n",
      "       0 study items associated with significant GO IDs (purified)\n",
      "     92 items WROTE: IT-L23.GO.tsv\n",
      "   22 usr 144 GOs  WROTE: IT-L23.GOBP.png\n",
      "   46 usr  78 GOs  WROTE: IT-L23.GOCC.png\n",
      "   24 usr  69 GOs  WROTE: IT-L23.GOMF.png\n",
      "IT-L4 196\n",
      "\n",
      "Run BP Gene Ontology Analysis: current study set of 196 IDs ...\n",
      " 91%    172 of    188 study items found in association\n",
      " 96%    188 of    196 study items found in population(28212)\n",
      "Calculating 12,254 uncorrected p-values using fisher_scipy_stats\n",
      "  12,254 GO terms are associated with 16,821 of 28,212 population items\n",
      "   1,021 GO terms are associated with    172 of    196 study items\n",
      "  METHOD fdr_bh:\n",
      "       6 GO terms found significant (< 0.05=alpha) (  6 enriched +   0 purified): statsmodels fdr_bh\n",
      "      30 study items associated with significant GO IDs (enriched)\n",
      "       0 study items associated with significant GO IDs (purified)\n",
      "\n",
      "Run CC Gene Ontology Analysis: current study set of 196 IDs ...\n",
      " 94%    176 of    188 study items found in association\n",
      " 96%    188 of    196 study items found in population(28212)\n",
      "Calculating 1,724 uncorrected p-values using fisher_scipy_stats\n",
      "   1,724 GO terms are associated with 18,172 of 28,212 population items\n",
      "     221 GO terms are associated with    176 of    196 study items\n",
      "  METHOD fdr_bh:\n",
      "      17 GO terms found significant (< 0.05=alpha) ( 17 enriched +   0 purified): statsmodels fdr_bh\n",
      "     147 study items associated with significant GO IDs (enriched)\n",
      "       0 study items associated with significant GO IDs (purified)\n",
      "\n",
      "Run MF Gene Ontology Analysis: current study set of 196 IDs ...\n",
      " 84%    158 of    188 study items found in association\n",
      " 96%    188 of    196 study items found in population(28212)\n",
      "Calculating 4,146 uncorrected p-values using fisher_scipy_stats\n",
      "   4,146 GO terms are associated with 16,337 of 28,212 population items\n",
      "     323 GO terms are associated with    158 of    196 study items\n",
      "  METHOD fdr_bh:\n",
      "       2 GO terms found significant (< 0.05=alpha) (  2 enriched +   0 purified): statsmodels fdr_bh\n",
      "      72 study items associated with significant GO IDs (enriched)\n",
      "       0 study items associated with significant GO IDs (purified)\n",
      "     25 items WROTE: IT-L4.GO.tsv\n",
      "    6 usr  22 GOs  WROTE: IT-L4.GOBP.png\n",
      "   17 usr  38 GOs  WROTE: IT-L4.GOCC.png\n",
      "    2 usr   4 GOs  WROTE: IT-L4.GOMF.png\n",
      "IT-L6 274\n",
      "\n",
      "Run BP Gene Ontology Analysis: current study set of 274 IDs ...\n",
      " 94%    248 of    265 study items found in association\n",
      " 97%    265 of    274 study items found in population(28212)\n",
      "Calculating 12,254 uncorrected p-values using fisher_scipy_stats\n",
      "  12,254 GO terms are associated with 16,821 of 28,212 population items\n",
      "   1,526 GO terms are associated with    248 of    274 study items\n",
      "  METHOD fdr_bh:\n",
      "       7 GO terms found significant (< 0.05=alpha) (  7 enriched +   0 purified): statsmodels fdr_bh\n",
      "      66 study items associated with significant GO IDs (enriched)\n",
      "       0 study items associated with significant GO IDs (purified)\n",
      "\n",
      "Run CC Gene Ontology Analysis: current study set of 274 IDs ...\n",
      " 97%    257 of    265 study items found in association\n",
      " 97%    265 of    274 study items found in population(28212)\n",
      "Calculating 1,724 uncorrected p-values using fisher_scipy_stats\n",
      "   1,724 GO terms are associated with 18,172 of 28,212 population items\n",
      "     289 GO terms are associated with    257 of    274 study items\n",
      "  METHOD fdr_bh:\n",
      "      38 GO terms found significant (< 0.05=alpha) ( 38 enriched +   0 purified): statsmodels fdr_bh\n",
      "     239 study items associated with significant GO IDs (enriched)\n",
      "       0 study items associated with significant GO IDs (purified)\n",
      "\n",
      "Run MF Gene Ontology Analysis: current study set of 274 IDs ...\n",
      " 91%    242 of    265 study items found in association\n",
      " 97%    265 of    274 study items found in population(28212)\n",
      "Calculating 4,146 uncorrected p-values using fisher_scipy_stats\n",
      "   4,146 GO terms are associated with 16,337 of 28,212 population items\n",
      "     510 GO terms are associated with    242 of    274 study items\n",
      "  METHOD fdr_bh:\n",
      "       6 GO terms found significant (< 0.05=alpha) (  5 enriched +   1 purified): statsmodels fdr_bh\n",
      "     143 study items associated with significant GO IDs (enriched)\n",
      "       0 study items associated with significant GO IDs (purified)\n",
      "     51 items WROTE: IT-L6.GO.tsv\n",
      "    7 usr  40 GOs  WROTE: IT-L6.GOBP.png\n"
     ]
    },
    {
     "name": "stdout",
     "output_type": "stream",
     "text": [
      "   38 usr  74 GOs  WROTE: IT-L6.GOCC.png\n",
      "    6 usr  19 GOs  WROTE: IT-L6.GOMF.png\n"
     ]
    }
   ],
   "source": [
    "# 'p_' means \"pvalue\". 'fdr_bh' is the multipletest method we are currently using.\n",
    "for layer, genes in layer_markers_ncbi.items():\n",
    "    print(layer, len(genes))\n",
    "    goea_results_all = goeaobj.run_study(genes)\n",
    "    goea_results_sig = [r for r in goea_results_all if r.p_fdr_bh < 0.05]\n",
    "    goeaobj.wr_tsv(f\"{layer}.GO.tsv\", goea_results_sig)\n",
    "    plot_results(layer + \".GO{NS}.png\", goea_results_sig)\n",
    "\n",
    "    # add more gene info\n",
    "    sig_go_df = pd.read_csv(f\"{layer}.GO.tsv\", sep='\\t', index_col=0)\n",
    "    sig_go_df['study_items'] = sig_go_df['study_items'].fillna('')\n",
    "    sig_go_df['gene_ids'] = sig_go_df['study_items'].apply(lambda i: ','.join(\n",
    "        [ncbi_to_ensembl_id[int(g)] for g in i.split(',') if g != '']))\n",
    "    sig_go_df['gene_names'] = sig_go_df['gene_ids'].apply(lambda i: ','.join(\n",
    "        [gene_id_base_to_name[g] for g in i.split(',') if g != '']))\n",
    "    sig_go_df.to_csv(f\"{layer}.GO.tsv\", sep='\\t')"
   ]
  },
  {
   "cell_type": "code",
   "execution_count": null,
   "metadata": {},
   "outputs": [],
   "source": []
  },
  {
   "cell_type": "code",
   "execution_count": null,
   "metadata": {},
   "outputs": [],
   "source": []
  },
  {
   "cell_type": "code",
   "execution_count": null,
   "metadata": {},
   "outputs": [],
   "source": []
  },
  {
   "cell_type": "code",
   "execution_count": null,
   "metadata": {},
   "outputs": [],
   "source": []
  },
  {
   "cell_type": "code",
   "execution_count": null,
   "metadata": {},
   "outputs": [],
   "source": []
  }
 ],
 "metadata": {
  "hide_input": false,
  "kernelspec": {
   "display_name": "Python 3",
   "language": "python",
   "name": "python3"
  },
  "language_info": {
   "codemirror_mode": {
    "name": "ipython",
    "version": 3
   },
   "file_extension": ".py",
   "mimetype": "text/x-python",
   "name": "python",
   "nbconvert_exporter": "python",
   "pygments_lexer": "ipython3",
   "version": "3.7.3"
  },
  "toc": {
   "base_numbering": 1,
   "nav_menu": {},
   "number_sections": true,
   "sideBar": true,
   "skip_h1_title": true,
   "title_cell": "Table of Contents",
   "title_sidebar": "Contents",
   "toc_cell": false,
   "toc_position": {},
   "toc_section_display": true,
   "toc_window_display": true
  }
 },
 "nbformat": 4,
 "nbformat_minor": 2
}
