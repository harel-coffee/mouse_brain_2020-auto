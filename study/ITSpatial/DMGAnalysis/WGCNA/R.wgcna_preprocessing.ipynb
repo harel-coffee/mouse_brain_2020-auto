{
 "cells": [
  {
   "cell_type": "code",
   "execution_count": 1,
   "metadata": {},
   "outputs": [
    {
     "data": {
      "text/html": [
       "'/home/hanliu/project/mouse_rostral_brain/study/ITSpatial/DMGAnalysis/WGCNA'"
      ],
      "text/latex": [
       "'/home/hanliu/project/mouse\\_rostral\\_brain/study/ITSpatial/DMGAnalysis/WGCNA'"
      ],
      "text/markdown": [
       "'/home/hanliu/project/mouse_rostral_brain/study/ITSpatial/DMGAnalysis/WGCNA'"
      ],
      "text/plain": [
       "[1] \"/home/hanliu/project/mouse_rostral_brain/study/ITSpatial/DMGAnalysis/WGCNA\""
      ]
     },
     "metadata": {},
     "output_type": "display_data"
    },
    {
     "name": "stderr",
     "output_type": "stream",
     "text": [
      "Loading required package: dynamicTreeCut\n",
      "\n",
      "Loading required package: fastcluster\n",
      "\n",
      "\n",
      "Attaching package: ‘fastcluster’\n",
      "\n",
      "\n",
      "The following object is masked from ‘package:stats’:\n",
      "\n",
      "    hclust\n",
      "\n",
      "\n",
      "\n",
      "\n",
      "\n",
      "Attaching package: ‘WGCNA’\n",
      "\n",
      "\n",
      "The following object is masked from ‘package:stats’:\n",
      "\n",
      "    cor\n",
      "\n",
      "\n"
     ]
    },
    {
     "data": {
      "text/html": [
       "<ol class=list-inline>\n",
       "\t<li>4219</li>\n",
       "\t<li>27</li>\n",
       "</ol>\n"
      ],
      "text/latex": [
       "\\begin{enumerate*}\n",
       "\\item 4219\n",
       "\\item 27\n",
       "\\end{enumerate*}\n"
      ],
      "text/markdown": [
       "1. 4219\n",
       "2. 27\n",
       "\n",
       "\n"
      ],
      "text/plain": [
       "[1] 4219   27"
      ]
     },
     "metadata": {},
     "output_type": "display_data"
    },
    {
     "data": {
      "text/html": [
       "<ol class=list-inline>\n",
       "\t<li>'IT.L23.ACA'</li>\n",
       "\t<li>'IT.L23.AI'</li>\n",
       "\t<li>'IT.L23.MOp'</li>\n",
       "\t<li>'IT.L23.MOs'</li>\n",
       "\t<li>'IT.L23.ORB'</li>\n",
       "\t<li>'IT.L23.PFC'</li>\n",
       "\t<li>'IT.L23.SSp'</li>\n",
       "\t<li>'IT.L23.SSs'</li>\n",
       "\t<li>'IT.L4.MOp'</li>\n",
       "\t<li>'IT.L4.MOs'</li>\n",
       "\t<li>'IT.L4.SSp'</li>\n",
       "\t<li>'IT.L4.SSs'</li>\n",
       "\t<li>'IT.L5.ACA'</li>\n",
       "\t<li>'IT.L5.AI'</li>\n",
       "\t<li>'IT.L5.MOp'</li>\n",
       "\t<li>'IT.L5.MOs'</li>\n",
       "\t<li>'IT.L5.ORB'</li>\n",
       "\t<li>'IT.L5.PFC'</li>\n",
       "\t<li>'IT.L5.SSp'</li>\n",
       "\t<li>'IT.L5.SSs'</li>\n",
       "\t<li>'IT.L6.ACA'</li>\n",
       "\t<li>'IT.L6.AI'</li>\n",
       "\t<li>'IT.L6.MOp'</li>\n",
       "\t<li>'IT.L6.MOs'</li>\n",
       "\t<li>'IT.L6.PFC'</li>\n",
       "\t<li>'IT.L6.SSp'</li>\n",
       "\t<li>'IT.L6.SSs'</li>\n",
       "</ol>\n"
      ],
      "text/latex": [
       "\\begin{enumerate*}\n",
       "\\item 'IT.L23.ACA'\n",
       "\\item 'IT.L23.AI'\n",
       "\\item 'IT.L23.MOp'\n",
       "\\item 'IT.L23.MOs'\n",
       "\\item 'IT.L23.ORB'\n",
       "\\item 'IT.L23.PFC'\n",
       "\\item 'IT.L23.SSp'\n",
       "\\item 'IT.L23.SSs'\n",
       "\\item 'IT.L4.MOp'\n",
       "\\item 'IT.L4.MOs'\n",
       "\\item 'IT.L4.SSp'\n",
       "\\item 'IT.L4.SSs'\n",
       "\\item 'IT.L5.ACA'\n",
       "\\item 'IT.L5.AI'\n",
       "\\item 'IT.L5.MOp'\n",
       "\\item 'IT.L5.MOs'\n",
       "\\item 'IT.L5.ORB'\n",
       "\\item 'IT.L5.PFC'\n",
       "\\item 'IT.L5.SSp'\n",
       "\\item 'IT.L5.SSs'\n",
       "\\item 'IT.L6.ACA'\n",
       "\\item 'IT.L6.AI'\n",
       "\\item 'IT.L6.MOp'\n",
       "\\item 'IT.L6.MOs'\n",
       "\\item 'IT.L6.PFC'\n",
       "\\item 'IT.L6.SSp'\n",
       "\\item 'IT.L6.SSs'\n",
       "\\end{enumerate*}\n"
      ],
      "text/markdown": [
       "1. 'IT.L23.ACA'\n",
       "2. 'IT.L23.AI'\n",
       "3. 'IT.L23.MOp'\n",
       "4. 'IT.L23.MOs'\n",
       "5. 'IT.L23.ORB'\n",
       "6. 'IT.L23.PFC'\n",
       "7. 'IT.L23.SSp'\n",
       "8. 'IT.L23.SSs'\n",
       "9. 'IT.L4.MOp'\n",
       "10. 'IT.L4.MOs'\n",
       "11. 'IT.L4.SSp'\n",
       "12. 'IT.L4.SSs'\n",
       "13. 'IT.L5.ACA'\n",
       "14. 'IT.L5.AI'\n",
       "15. 'IT.L5.MOp'\n",
       "16. 'IT.L5.MOs'\n",
       "17. 'IT.L5.ORB'\n",
       "18. 'IT.L5.PFC'\n",
       "19. 'IT.L5.SSp'\n",
       "20. 'IT.L5.SSs'\n",
       "21. 'IT.L6.ACA'\n",
       "22. 'IT.L6.AI'\n",
       "23. 'IT.L6.MOp'\n",
       "24. 'IT.L6.MOs'\n",
       "25. 'IT.L6.PFC'\n",
       "26. 'IT.L6.SSp'\n",
       "27. 'IT.L6.SSs'\n",
       "\n",
       "\n"
      ],
      "text/plain": [
       " [1] \"IT.L23.ACA\" \"IT.L23.AI\"  \"IT.L23.MOp\" \"IT.L23.MOs\" \"IT.L23.ORB\"\n",
       " [6] \"IT.L23.PFC\" \"IT.L23.SSp\" \"IT.L23.SSs\" \"IT.L4.MOp\"  \"IT.L4.MOs\" \n",
       "[11] \"IT.L4.SSp\"  \"IT.L4.SSs\"  \"IT.L5.ACA\"  \"IT.L5.AI\"   \"IT.L5.MOp\" \n",
       "[16] \"IT.L5.MOs\"  \"IT.L5.ORB\"  \"IT.L5.PFC\"  \"IT.L5.SSp\"  \"IT.L5.SSs\" \n",
       "[21] \"IT.L6.ACA\"  \"IT.L6.AI\"   \"IT.L6.MOp\"  \"IT.L6.MOs\"  \"IT.L6.PFC\" \n",
       "[26] \"IT.L6.SSp\"  \"IT.L6.SSs\" "
      ]
     },
     "metadata": {},
     "output_type": "display_data"
    }
   ],
   "source": [
    "# Display the current working directory\n",
    "getwd();\n",
    "# If necessary, change the path below to the directory where the data files are stored.\n",
    "# \".\" means current directory. On Windows use a forward slash / instead of the usual \\.\n",
    "workingDir = \".\";\n",
    "setwd(workingDir);\n",
    "# Load the WGCNA package\n",
    "library(WGCNA);\n",
    "# The following setting is important, do not omit.\n",
    "options(stringsAsFactors = FALSE);\n",
    "#Read in the female liver data set\n",
    "geneData = read.csv(\"TotalPairwiseMarkerGene.regress_out_layer.csv\", stringsAsFactors = FALSE, row.names = 1, header= TRUE);\n",
    "# Take a quick look at what is in the data set:\n",
    "dim(geneData);\n",
    "names(geneData);"
   ]
  },
  {
   "cell_type": "code",
   "execution_count": 2,
   "metadata": {},
   "outputs": [
    {
     "data": {
      "text/html": [
       "<table>\n",
       "<caption>A matrix: 6 × 4219 of type dbl</caption>\n",
       "<thead>\n",
       "\t<tr><th></th><th scope=col>ENSMUSG00000054863.9</th><th scope=col>ENSMUSG00000056427.10</th><th scope=col>ENSMUSG00000042757.16</th><th scope=col>ENSMUSG00000028519.16</th><th scope=col>ENSMUSG00000052942.13</th><th scope=col>ENSMUSG00000039372.5</th><th scope=col>ENSMUSG00000045095.16</th><th scope=col>ENSMUSG00000039621.13</th><th scope=col>ENSMUSG00000033306.15</th><th scope=col>ENSMUSG00000061578.8</th><th scope=col>⋯</th><th scope=col>ENSMUSG00000099543.1</th><th scope=col>ENSMUSG00000041890.17</th><th scope=col>ENSMUSG00000026637.13</th><th scope=col>ENSMUSG00000070287.3</th><th scope=col>ENSMUSG00000023009.14</th><th scope=col>ENSMUSG00000101755.1</th><th scope=col>ENSMUSG00000109095.1</th><th scope=col>ENSMUSG00000009214.9</th><th scope=col>ENSMUSG00000031853.5</th><th scope=col>ENSMUSG00000021794.16</th></tr>\n",
       "</thead>\n",
       "<tbody>\n",
       "\t<tr><th scope=row>IT.L23.ACA</th><td> 0.5702551</td><td> 0.41303518</td><td> 0.2836025</td><td> 0.1580626</td><td> 2.603081</td><td> 0.2148497</td><td> 0.20273833</td><td> 0.4086469</td><td> 1.6524881</td><td>-0.25293964</td><td>⋯</td><td> 0.006587061</td><td> 1.6143305</td><td>-0.0464618</td><td>-0.52652350</td><td> 0.5609217</td><td>-0.2326880</td><td> 1.7939174</td><td> 0.39548215</td><td>-0.6237836</td><td> 0.9423235</td></tr>\n",
       "\t<tr><th scope=row>IT.L23.AI</th><td> 0.6501530</td><td> 0.04034719</td><td>-0.2560692</td><td>-0.7260596</td><td>-1.222091</td><td>-0.1551833</td><td>-0.47925508</td><td>-0.2427647</td><td> 0.5702715</td><td>-0.05564165</td><td>⋯</td><td>-1.004952100</td><td>-0.3706961</td><td>-0.2785842</td><td>-0.44369042</td><td>-0.1163820</td><td>-0.1188867</td><td>-1.0588695</td><td>-1.73777760</td><td> 0.7366625</td><td>-0.4929363</td></tr>\n",
       "\t<tr><th scope=row>IT.L23.MOp</th><td>-0.8357884</td><td>-1.10337110</td><td>-0.6725073</td><td>-0.5107365</td><td>-1.642984</td><td>-0.3335454</td><td>-0.47305474</td><td>-0.8352704</td><td>-1.2964956</td><td>-0.16821378</td><td>⋯</td><td>-0.080548085</td><td>-0.6309077</td><td> 0.0401339</td><td>-0.06674244</td><td>-0.3403688</td><td> 0.1677686</td><td>-1.4879045</td><td>-0.10985829</td><td> 0.3162126</td><td>-0.2519738</td></tr>\n",
       "\t<tr><th scope=row>IT.L23.MOs</th><td>-0.5294699</td><td> 0.08076332</td><td>-0.6673665</td><td>-1.1297227</td><td>-1.062751</td><td>-0.3205158</td><td>-0.30619450</td><td>-0.5625730</td><td> 1.0073875</td><td>-0.91552335</td><td>⋯</td><td>-0.098140980</td><td>-0.3039812</td><td> 0.2874918</td><td> 0.97826284</td><td>-0.2556140</td><td> 1.1949407</td><td>-0.6752679</td><td> 0.10479614</td><td> 0.4133674</td><td>-0.4042858</td></tr>\n",
       "\t<tr><th scope=row>IT.L23.ORB</th><td> 0.8576981</td><td> 2.07925460</td><td> 2.0548136</td><td> 1.1547818</td><td> 1.082231</td><td> 0.7995511</td><td>-0.65648466</td><td> 1.8192505</td><td> 0.1054463</td><td> 1.25138440</td><td>⋯</td><td>-0.027596993</td><td> 0.9744580</td><td> 0.2421339</td><td>-0.44206595</td><td> 1.0494055</td><td>-0.3561383</td><td> 1.3223157</td><td> 0.01125392</td><td>-0.9586010</td><td>-0.4663590</td></tr>\n",
       "\t<tr><th scope=row>IT.L23.PFC</th><td> 0.8126617</td><td> 0.85656560</td><td> 0.3614350</td><td>-0.1820796</td><td> 1.621971</td><td>-0.2961611</td><td> 0.03239949</td><td> 0.9459282</td><td> 1.5817232</td><td>-0.48452115</td><td>⋯</td><td>-0.413414780</td><td> 1.3721752</td><td>-0.4034471</td><td>-0.10495172</td><td> 0.6475152</td><td>-0.3879295</td><td> 1.0547817</td><td>-0.88850330</td><td>-0.2776411</td><td> 0.3167568</td></tr>\n",
       "</tbody>\n",
       "</table>\n"
      ],
      "text/latex": [
       "A matrix: 6 × 4219 of type dbl\n",
       "\\begin{tabular}{r|lllllllllllllllllllll}\n",
       "  & ENSMUSG00000054863.9 & ENSMUSG00000056427.10 & ENSMUSG00000042757.16 & ENSMUSG00000028519.16 & ENSMUSG00000052942.13 & ENSMUSG00000039372.5 & ENSMUSG00000045095.16 & ENSMUSG00000039621.13 & ENSMUSG00000033306.15 & ENSMUSG00000061578.8 & ⋯ & ENSMUSG00000099543.1 & ENSMUSG00000041890.17 & ENSMUSG00000026637.13 & ENSMUSG00000070287.3 & ENSMUSG00000023009.14 & ENSMUSG00000101755.1 & ENSMUSG00000109095.1 & ENSMUSG00000009214.9 & ENSMUSG00000031853.5 & ENSMUSG00000021794.16\\\\\n",
       "\\hline\n",
       "\tIT.L23.ACA &  0.5702551 &  0.41303518 &  0.2836025 &  0.1580626 &  2.603081 &  0.2148497 &  0.20273833 &  0.4086469 &  1.6524881 & -0.25293964 & ⋯ &  0.006587061 &  1.6143305 & -0.0464618 & -0.52652350 &  0.5609217 & -0.2326880 &  1.7939174 &  0.39548215 & -0.6237836 &  0.9423235\\\\\n",
       "\tIT.L23.AI &  0.6501530 &  0.04034719 & -0.2560692 & -0.7260596 & -1.222091 & -0.1551833 & -0.47925508 & -0.2427647 &  0.5702715 & -0.05564165 & ⋯ & -1.004952100 & -0.3706961 & -0.2785842 & -0.44369042 & -0.1163820 & -0.1188867 & -1.0588695 & -1.73777760 &  0.7366625 & -0.4929363\\\\\n",
       "\tIT.L23.MOp & -0.8357884 & -1.10337110 & -0.6725073 & -0.5107365 & -1.642984 & -0.3335454 & -0.47305474 & -0.8352704 & -1.2964956 & -0.16821378 & ⋯ & -0.080548085 & -0.6309077 &  0.0401339 & -0.06674244 & -0.3403688 &  0.1677686 & -1.4879045 & -0.10985829 &  0.3162126 & -0.2519738\\\\\n",
       "\tIT.L23.MOs & -0.5294699 &  0.08076332 & -0.6673665 & -1.1297227 & -1.062751 & -0.3205158 & -0.30619450 & -0.5625730 &  1.0073875 & -0.91552335 & ⋯ & -0.098140980 & -0.3039812 &  0.2874918 &  0.97826284 & -0.2556140 &  1.1949407 & -0.6752679 &  0.10479614 &  0.4133674 & -0.4042858\\\\\n",
       "\tIT.L23.ORB &  0.8576981 &  2.07925460 &  2.0548136 &  1.1547818 &  1.082231 &  0.7995511 & -0.65648466 &  1.8192505 &  0.1054463 &  1.25138440 & ⋯ & -0.027596993 &  0.9744580 &  0.2421339 & -0.44206595 &  1.0494055 & -0.3561383 &  1.3223157 &  0.01125392 & -0.9586010 & -0.4663590\\\\\n",
       "\tIT.L23.PFC &  0.8126617 &  0.85656560 &  0.3614350 & -0.1820796 &  1.621971 & -0.2961611 &  0.03239949 &  0.9459282 &  1.5817232 & -0.48452115 & ⋯ & -0.413414780 &  1.3721752 & -0.4034471 & -0.10495172 &  0.6475152 & -0.3879295 &  1.0547817 & -0.88850330 & -0.2776411 &  0.3167568\\\\\n",
       "\\end{tabular}\n"
      ],
      "text/markdown": [
       "\n",
       "A matrix: 6 × 4219 of type dbl\n",
       "\n",
       "| <!--/--> | ENSMUSG00000054863.9 | ENSMUSG00000056427.10 | ENSMUSG00000042757.16 | ENSMUSG00000028519.16 | ENSMUSG00000052942.13 | ENSMUSG00000039372.5 | ENSMUSG00000045095.16 | ENSMUSG00000039621.13 | ENSMUSG00000033306.15 | ENSMUSG00000061578.8 | ⋯ | ENSMUSG00000099543.1 | ENSMUSG00000041890.17 | ENSMUSG00000026637.13 | ENSMUSG00000070287.3 | ENSMUSG00000023009.14 | ENSMUSG00000101755.1 | ENSMUSG00000109095.1 | ENSMUSG00000009214.9 | ENSMUSG00000031853.5 | ENSMUSG00000021794.16 |\n",
       "|---|---|---|---|---|---|---|---|---|---|---|---|---|---|---|---|---|---|---|---|---|---|\n",
       "| IT.L23.ACA |  0.5702551 |  0.41303518 |  0.2836025 |  0.1580626 |  2.603081 |  0.2148497 |  0.20273833 |  0.4086469 |  1.6524881 | -0.25293964 | ⋯ |  0.006587061 |  1.6143305 | -0.0464618 | -0.52652350 |  0.5609217 | -0.2326880 |  1.7939174 |  0.39548215 | -0.6237836 |  0.9423235 |\n",
       "| IT.L23.AI |  0.6501530 |  0.04034719 | -0.2560692 | -0.7260596 | -1.222091 | -0.1551833 | -0.47925508 | -0.2427647 |  0.5702715 | -0.05564165 | ⋯ | -1.004952100 | -0.3706961 | -0.2785842 | -0.44369042 | -0.1163820 | -0.1188867 | -1.0588695 | -1.73777760 |  0.7366625 | -0.4929363 |\n",
       "| IT.L23.MOp | -0.8357884 | -1.10337110 | -0.6725073 | -0.5107365 | -1.642984 | -0.3335454 | -0.47305474 | -0.8352704 | -1.2964956 | -0.16821378 | ⋯ | -0.080548085 | -0.6309077 |  0.0401339 | -0.06674244 | -0.3403688 |  0.1677686 | -1.4879045 | -0.10985829 |  0.3162126 | -0.2519738 |\n",
       "| IT.L23.MOs | -0.5294699 |  0.08076332 | -0.6673665 | -1.1297227 | -1.062751 | -0.3205158 | -0.30619450 | -0.5625730 |  1.0073875 | -0.91552335 | ⋯ | -0.098140980 | -0.3039812 |  0.2874918 |  0.97826284 | -0.2556140 |  1.1949407 | -0.6752679 |  0.10479614 |  0.4133674 | -0.4042858 |\n",
       "| IT.L23.ORB |  0.8576981 |  2.07925460 |  2.0548136 |  1.1547818 |  1.082231 |  0.7995511 | -0.65648466 |  1.8192505 |  0.1054463 |  1.25138440 | ⋯ | -0.027596993 |  0.9744580 |  0.2421339 | -0.44206595 |  1.0494055 | -0.3561383 |  1.3223157 |  0.01125392 | -0.9586010 | -0.4663590 |\n",
       "| IT.L23.PFC |  0.8126617 |  0.85656560 |  0.3614350 | -0.1820796 |  1.621971 | -0.2961611 |  0.03239949 |  0.9459282 |  1.5817232 | -0.48452115 | ⋯ | -0.413414780 |  1.3721752 | -0.4034471 | -0.10495172 |  0.6475152 | -0.3879295 |  1.0547817 | -0.88850330 | -0.2776411 |  0.3167568 |\n",
       "\n"
      ],
      "text/plain": [
       "           ENSMUSG00000054863.9 ENSMUSG00000056427.10 ENSMUSG00000042757.16\n",
       "IT.L23.ACA  0.5702551            0.41303518            0.2836025           \n",
       "IT.L23.AI   0.6501530            0.04034719           -0.2560692           \n",
       "IT.L23.MOp -0.8357884           -1.10337110           -0.6725073           \n",
       "IT.L23.MOs -0.5294699            0.08076332           -0.6673665           \n",
       "IT.L23.ORB  0.8576981            2.07925460            2.0548136           \n",
       "IT.L23.PFC  0.8126617            0.85656560            0.3614350           \n",
       "           ENSMUSG00000028519.16 ENSMUSG00000052942.13 ENSMUSG00000039372.5\n",
       "IT.L23.ACA  0.1580626             2.603081              0.2148497          \n",
       "IT.L23.AI  -0.7260596            -1.222091             -0.1551833          \n",
       "IT.L23.MOp -0.5107365            -1.642984             -0.3335454          \n",
       "IT.L23.MOs -1.1297227            -1.062751             -0.3205158          \n",
       "IT.L23.ORB  1.1547818             1.082231              0.7995511          \n",
       "IT.L23.PFC -0.1820796             1.621971             -0.2961611          \n",
       "           ENSMUSG00000045095.16 ENSMUSG00000039621.13 ENSMUSG00000033306.15\n",
       "IT.L23.ACA  0.20273833            0.4086469             1.6524881           \n",
       "IT.L23.AI  -0.47925508           -0.2427647             0.5702715           \n",
       "IT.L23.MOp -0.47305474           -0.8352704            -1.2964956           \n",
       "IT.L23.MOs -0.30619450           -0.5625730             1.0073875           \n",
       "IT.L23.ORB -0.65648466            1.8192505             0.1054463           \n",
       "IT.L23.PFC  0.03239949            0.9459282             1.5817232           \n",
       "           ENSMUSG00000061578.8 ⋯ ENSMUSG00000099543.1 ENSMUSG00000041890.17\n",
       "IT.L23.ACA -0.25293964          ⋯  0.006587061          1.6143305           \n",
       "IT.L23.AI  -0.05564165          ⋯ -1.004952100         -0.3706961           \n",
       "IT.L23.MOp -0.16821378          ⋯ -0.080548085         -0.6309077           \n",
       "IT.L23.MOs -0.91552335          ⋯ -0.098140980         -0.3039812           \n",
       "IT.L23.ORB  1.25138440          ⋯ -0.027596993          0.9744580           \n",
       "IT.L23.PFC -0.48452115          ⋯ -0.413414780          1.3721752           \n",
       "           ENSMUSG00000026637.13 ENSMUSG00000070287.3 ENSMUSG00000023009.14\n",
       "IT.L23.ACA -0.0464618            -0.52652350           0.5609217           \n",
       "IT.L23.AI  -0.2785842            -0.44369042          -0.1163820           \n",
       "IT.L23.MOp  0.0401339            -0.06674244          -0.3403688           \n",
       "IT.L23.MOs  0.2874918             0.97826284          -0.2556140           \n",
       "IT.L23.ORB  0.2421339            -0.44206595           1.0494055           \n",
       "IT.L23.PFC -0.4034471            -0.10495172           0.6475152           \n",
       "           ENSMUSG00000101755.1 ENSMUSG00000109095.1 ENSMUSG00000009214.9\n",
       "IT.L23.ACA -0.2326880            1.7939174            0.39548215         \n",
       "IT.L23.AI  -0.1188867           -1.0588695           -1.73777760         \n",
       "IT.L23.MOp  0.1677686           -1.4879045           -0.10985829         \n",
       "IT.L23.MOs  1.1949407           -0.6752679            0.10479614         \n",
       "IT.L23.ORB -0.3561383            1.3223157            0.01125392         \n",
       "IT.L23.PFC -0.3879295            1.0547817           -0.88850330         \n",
       "           ENSMUSG00000031853.5 ENSMUSG00000021794.16\n",
       "IT.L23.ACA -0.6237836            0.9423235           \n",
       "IT.L23.AI   0.7366625           -0.4929363           \n",
       "IT.L23.MOp  0.3162126           -0.2519738           \n",
       "IT.L23.MOs  0.4133674           -0.4042858           \n",
       "IT.L23.ORB -0.9586010           -0.4663590           \n",
       "IT.L23.PFC -0.2776411            0.3167568           "
      ]
     },
     "metadata": {},
     "output_type": "display_data"
    }
   ],
   "source": [
    "datExpr0 = t(geneData)\n",
    "head(datExpr0)"
   ]
  },
  {
   "cell_type": "code",
   "execution_count": 3,
   "metadata": {},
   "outputs": [
    {
     "name": "stdout",
     "output_type": "stream",
     "text": [
      " Flagging genes and samples with too many missing values...\n",
      "  ..step 1\n"
     ]
    },
    {
     "data": {
      "text/html": [
       "TRUE"
      ],
      "text/latex": [
       "TRUE"
      ],
      "text/markdown": [
       "TRUE"
      ],
      "text/plain": [
       "[1] TRUE"
      ]
     },
     "metadata": {},
     "output_type": "display_data"
    }
   ],
   "source": [
    "gsg = goodSamplesGenes(datExpr0, verbose = 3);\n",
    "gsg$allOK"
   ]
  },
  {
   "cell_type": "code",
   "execution_count": 4,
   "metadata": {},
   "outputs": [
    {
     "data": {
      "text/plain": [
       "clust\n",
       " 0 \n",
       "27 "
      ]
     },
     "metadata": {},
     "output_type": "display_data"
    },
    {
     "data": {
      "image/png": "[encoded data removed]",
      "text/plain": [
       "Plot with title “Sample clustering to detect outliers”"
      ]
     },
     "metadata": {
      "image/png": {
       "height": 420,
       "width": 420
      },
      "text/plain": {
       "height": 420,
       "width": 420
      }
     },
     "output_type": "display_data"
    }
   ],
   "source": [
    "sampleTree = hclust(dist(datExpr0), method = \"average\");\n",
    "# Plot the sample tree: Open a graphic output window of size 12 by 9 inches\n",
    "# The user should change the dimensions if the window is too large or too small.\n",
    "par(cex = 0.6);\n",
    "par(mar = c(0,4,2,0))\n",
    "plot(sampleTree, main = \"Sample clustering to detect outliers\", sub=\"\", xlab=\"\", cex.lab = 1.5,\n",
    "cex.axis = 1.5, cex.main = 2)\n",
    "\n",
    "\n",
    "# Plot a line to show the cut\n",
    "abline(h = 15, col = \"red\");\n",
    "# Determine cluster under the line\n",
    "clust = cutreeStatic(sampleTree, cutHeight = 15, minSize = 10)\n",
    "table(clust)\n",
    "datExpr <- datExpr0"
   ]
  },
  {
   "cell_type": "code",
   "execution_count": 5,
   "metadata": {},
   "outputs": [],
   "source": [
    "save(datExpr, file = \"WGCNA.dataInput.RData\")"
   ]
  },
  {
   "cell_type": "code",
   "execution_count": null,
   "metadata": {},
   "outputs": [],
   "source": []
  },
  {
   "cell_type": "code",
   "execution_count": null,
   "metadata": {},
   "outputs": [],
   "source": []
  },
  {
   "cell_type": "code",
   "execution_count": null,
   "metadata": {},
   "outputs": [],
   "source": []
  },
  {
   "cell_type": "code",
   "execution_count": null,
   "metadata": {},
   "outputs": [],
   "source": []
  },
  {
   "cell_type": "code",
   "execution_count": null,
   "metadata": {},
   "outputs": [],
   "source": []
  }
 ],
 "metadata": {
  "kernelspec": {
   "display_name": "R",
   "language": "R",
   "name": "ir"
  },
  "language_info": {
   "codemirror_mode": "r",
   "file_extension": ".r",
   "mimetype": "text/x-r-source",
   "name": "R",
   "pygments_lexer": "r",
   "version": "3.6.2"
  }
 },
 "nbformat": 4,
 "nbformat_minor": 4
}
