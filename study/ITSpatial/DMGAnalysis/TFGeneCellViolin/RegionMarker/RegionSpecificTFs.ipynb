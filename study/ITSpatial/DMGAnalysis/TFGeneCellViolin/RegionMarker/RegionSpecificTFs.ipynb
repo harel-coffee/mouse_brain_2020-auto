{
 "cells": [
  {
   "cell_type": "code",
   "execution_count": 1,
   "metadata": {
    "ExecuteTime": {
     "end_time": "2020-01-16T04:37:39.608848Z",
     "start_time": "2020-01-16T04:37:39.052608Z"
    }
   },
   "outputs": [
    {
     "name": "stderr",
     "output_type": "stream",
     "text": [
      "/home/hanliu/miniconda3/envs/clustering/lib/python3.7/site-packages/xarray/core/merge.py:18: FutureWarning: The Panel class is removed from pandas. Accessing it from the top-level namespace will also be removed in the next version\n",
      "  PANDAS_TYPES = (pd.Series, pd.DataFrame, pd.Panel)\n",
      "/home/hanliu/miniconda3/envs/clustering/lib/python3.7/site-packages/xarray/core/dataarray.py:1829: FutureWarning: The Panel class is removed from pandas. Accessing it from the top-level namespace will also be removed in the next version\n",
      "  'DataArray', pd.Series, pd.DataFrame, pd.Panel]:\n"
     ]
    }
   ],
   "source": [
    "import matplotlib.pyplot as plt\n",
    "import seaborn as sns\n",
    "import xarray as xr\n",
    "import pandas as pd"
   ]
  },
  {
   "cell_type": "code",
   "execution_count": 3,
   "metadata": {
    "ExecuteTime": {
     "end_time": "2020-01-16T04:38:02.131729Z",
     "start_time": "2020-01-16T04:38:02.122969Z"
    }
   },
   "outputs": [],
   "source": [
    "from matplotlib import rc\n",
    "\n",
    "labelsize = 6\n",
    "linewidth = 0.6\n",
    "rc('lines', linewidth=linewidth)\n",
    "rc('axes', labelsize=labelsize, linewidth=linewidth)\n",
    "rc('xtick', labelsize=labelsize)\n",
    "rc('ytick', labelsize=labelsize)\n",
    "rc('xtick.major', width=linewidth)\n",
    "rc('ytick.major', width=linewidth)\n",
    "rc('xtick.minor', width=linewidth-0.2)\n",
    "rc('ytick.minor', width=linewidth-0.2)\n",
    "rc('patch', linewidth=linewidth)\n",
    "\n",
    "major_type_palette = pd.read_csv('/home/hanliu/project/mouse_rostral_brain/metadata/palette/major_type.palette.csv',\n",
    "                                header=None, index_col=0, squeeze=True).to_dict()\n",
    "sub_region_palette = pd.read_csv('/home/hanliu/project/mouse_rostral_brain/metadata/palette/sub_region.palette.csv',\n",
    "                                header=None, index_col=0, squeeze=True).to_dict()\n"
   ]
  },
  {
   "cell_type": "code",
   "execution_count": 4,
   "metadata": {
    "ExecuteTime": {
     "end_time": "2020-01-16T04:38:08.866027Z",
     "start_time": "2020-01-16T04:38:08.413574Z"
    }
   },
   "outputs": [
    {
     "name": "stderr",
     "output_type": "stream",
     "text": [
      "/home/hanliu/miniconda3/envs/clustering/lib/python3.7/site-packages/IPython/core/interactiveshell.py:3326: FutureWarning: The read_msgpack is deprecated and will be removed in a future version.\n",
      "It is recommended to use pyarrow for on-the-wire transmission of pandas objects.\n",
      "  exec(code_obj, self.user_global_ns, self.user_ns)\n"
     ]
    }
   ],
   "source": [
    "cell_meta = pd.read_csv(\n",
    "    '/home/hanliu/project/mouse_rostral_brain/study/ITSpatial/GroupDesign/ITSpatial.cell_group_design.csv',\n",
    "    index_col=0\n",
    ")\n",
    "cell_tidy_data = pd.read_msgpack(\n",
    "    '/home/hanliu/project/mouse_rostral_brain/study/ClusteringSummary/Summary/TotalClusteringResults.msg'\n",
    ").loc[cell_meta.index]\n",
    "cell_tidy_data['ITSpatial'] = cell_meta['ITSpatial']\n"
   ]
  },
  {
   "cell_type": "code",
   "execution_count": 16,
   "metadata": {
    "ExecuteTime": {
     "end_time": "2020-01-16T00:44:45.512240Z",
     "start_time": "2020-01-16T00:44:43.862533Z"
    },
    "deletable": false,
    "editable": false,
    "run_control": {
     "frozen": true
    }
   },
   "outputs": [
    {
     "name": "stderr",
     "output_type": "stream",
     "text": [
      "/home/hanliu/miniconda3/envs/clustering/lib/python3.7/site-packages/xarray/backends/api.py:783: FutureWarning: In xarray version 0.13 `auto_combine` will be deprecated.\n",
      "  coords=coords)\n",
      "/home/hanliu/miniconda3/envs/clustering/lib/python3.7/site-packages/xarray/backends/api.py:783: FutureWarning: The datasets supplied do not have global dimension coordinates. In\n",
      "future, to continue concatenating without supplying dimension\n",
      "coordinates, please use the new `combine_nested` function (or the\n",
      "`combine='nested'` option to open_mfdataset.\n",
      "  coords=coords)\n",
      "/home/hanliu/miniconda3/envs/clustering/lib/python3.7/site-packages/xarray/core/indexing.py:1201: PerformanceWarning: Slicing with an out-of-order index is generating 731 times more chunks\n",
      "  return self.array[key]\n"
     ]
    }
   ],
   "source": [
    "mcds = xarray.open_mfdataset(\n",
    "    '/home/hanliu/project/mouse_rostral_brain/study/Level1-CellClass/ALL_manual/Adata/GeneWithSlop2kb.gene_da_rate.*.mcds'\n",
    ")\n",
    "mcds = mcds.sel(mc_type='CHN', cell=cell_meta.index)\n",
    "mcds = mcds.chunk({'cell': 50000})\n",
    "mcds = mcds['gene_da']\n",
    "mcds.astype(np.float32).to_netcdf('TEMP.nc')\n",
    "\n"
   ]
  },
  {
   "cell_type": "code",
   "execution_count": 5,
   "metadata": {
    "ExecuteTime": {
     "end_time": "2020-01-16T04:38:26.307703Z",
     "start_time": "2020-01-16T04:38:26.238590Z"
    }
   },
   "outputs": [],
   "source": [
    "mcds = xr.open_dataarray('../LayerMarker/TEMP.nc')\n",
    "def get_gene(gene_name):\n",
    "    return mcds.sel(gene=gene_name_to_id[gene_name]).to_pandas()"
   ]
  },
  {
   "cell_type": "code",
   "execution_count": 6,
   "metadata": {
    "ExecuteTime": {
     "end_time": "2020-01-16T04:38:28.080398Z",
     "start_time": "2020-01-16T04:38:27.882010Z"
    }
   },
   "outputs": [],
   "source": [
    "gene_meta = pd.read_csv('/home/hanliu/ref/mouse/gencode/vm22/gencode.vM22.annotation.gene.flat.tsv.gz',\n",
    "                        sep='\\t', index_col='gene_id')\n",
    "gene_name_to_id = {v:k for k, v in gene_meta['gene_name'].iteritems()}"
   ]
  },
  {
   "cell_type": "code",
   "execution_count": 38,
   "metadata": {
    "ExecuteTime": {
     "end_time": "2020-01-16T05:29:54.145609Z",
     "start_time": "2020-01-16T05:29:53.630740Z"
    }
   },
   "outputs": [
    {
     "data": {
      "image/png": "[encoded data removed]",
      "text/plain": [
       "<Figure size 300x240 with 1 Axes>"
      ]
     },
     "metadata": {
      "needs_background": "light"
     },
     "output_type": "display_data"
    }
   ],
   "source": [
    "gene = 'Rfx1'\n",
    "layer = 'IT-L23'\n",
    "\n",
    "region_order = ['ORB', 'PFC', 'ACA', 'AI', 'MOs', 'MOp', 'SSp', 'SSs']\n",
    "\n",
    "fig, ax = plt.subplots(figsize=(1, 0.8), dpi=300)\n",
    "_data = cell_tidy_data[cell_tidy_data['MajorType'] == layer][['SubRegion']].copy()\n",
    "_data['gene'] = get_gene(gene)\n",
    "sns.violinplot(ax=ax, data=_data, x='SubRegion', y='gene', scale='width', gridsize=300,\n",
    "               palette=sub_region_palette,\n",
    "               order=region_order)\n",
    "ax.set_ylim(0, 2)\n",
    "ax.set(xticks=[], ylabel='', xlabel='')\n",
    "# ax.set_title(gene, fontsize=labelsize)\n",
    "sns.despine(ax=ax, offset=4, bottom=True)\n",
    "# fig.savefig(f'{gene}.{layer}.pdf', bbox_inches='tight')"
   ]
  },
  {
   "cell_type": "code",
   "execution_count": null,
   "metadata": {},
   "outputs": [],
   "source": []
  },
  {
   "cell_type": "code",
   "execution_count": null,
   "metadata": {},
   "outputs": [],
   "source": []
  },
  {
   "cell_type": "code",
   "execution_count": null,
   "metadata": {},
   "outputs": [],
   "source": []
  },
  {
   "cell_type": "code",
   "execution_count": null,
   "metadata": {},
   "outputs": [],
   "source": []
  },
  {
   "cell_type": "code",
   "execution_count": null,
   "metadata": {},
   "outputs": [],
   "source": []
  },
  {
   "cell_type": "code",
   "execution_count": null,
   "metadata": {},
   "outputs": [],
   "source": []
  },
  {
   "cell_type": "code",
   "execution_count": null,
   "metadata": {},
   "outputs": [],
   "source": []
  },
  {
   "cell_type": "code",
   "execution_count": null,
   "metadata": {},
   "outputs": [],
   "source": []
  },
  {
   "cell_type": "code",
   "execution_count": null,
   "metadata": {},
   "outputs": [],
   "source": []
  },
  {
   "cell_type": "code",
   "execution_count": null,
   "metadata": {},
   "outputs": [],
   "source": []
  }
 ],
 "metadata": {
  "hide_input": false,
  "kernelspec": {
   "display_name": "Python 3",
   "language": "python",
   "name": "python3"
  },
  "language_info": {
   "codemirror_mode": {
    "name": "ipython",
    "version": 3
   },
   "file_extension": ".py",
   "mimetype": "text/x-python",
   "name": "python",
   "nbconvert_exporter": "python",
   "pygments_lexer": "ipython3",
   "version": "3.7.3"
  },
  "toc": {
   "base_numbering": 1,
   "nav_menu": {},
   "number_sections": true,
   "sideBar": true,
   "skip_h1_title": true,
   "title_cell": "Table of Contents",
   "title_sidebar": "Contents",
   "toc_cell": false,
   "toc_position": {},
   "toc_section_display": true,
   "toc_window_display": true
  }
 },
 "nbformat": 4,
 "nbformat_minor": 2
}
