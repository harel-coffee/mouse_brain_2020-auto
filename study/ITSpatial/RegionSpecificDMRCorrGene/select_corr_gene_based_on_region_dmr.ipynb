{
 "cells": [
  {
   "cell_type": "code",
   "execution_count": 106,
   "metadata": {
    "ExecuteTime": {
     "end_time": "2020-01-18T04:05:21.589213Z",
     "start_time": "2020-01-18T04:05:21.586626Z"
    }
   },
   "outputs": [],
   "source": [
    "import pandas as pd\n",
    "import pybedtools\n",
    "import pathlib\n",
    "import anndata\n",
    "import seaborn as sns\n",
    "import matplotlib.pyplot as plt\n",
    "import joblib"
   ]
  },
  {
   "cell_type": "code",
   "execution_count": 5,
   "metadata": {
    "ExecuteTime": {
     "end_time": "2020-01-18T00:35:21.598258Z",
     "start_time": "2020-01-18T00:35:21.595441Z"
    }
   },
   "outputs": [],
   "source": [
    "region_dmr_dir = pathlib.Path('ITSpatialDMR_overlap_region_specific_dmr')\n",
    "dmr_list = list(region_dmr_dir.glob('*.bed'))\n",
    "\n",
    "gene_corr_dir = pathlib.Path(\n",
    "    '/home/hanliu/project/mouse_rostral_brain/study/ITSpatial/gene_dmr_corr/Corr/'\n",
    ")\n",
    "corr_adata_list = list(gene_corr_dir.glob('*h5ad'))\n",
    "adata_list = [anndata.read_h5ad(p) for p in corr_adata_list]"
   ]
  },
  {
   "cell_type": "code",
   "execution_count": 91,
   "metadata": {
    "ExecuteTime": {
     "end_time": "2020-01-18T01:00:06.155694Z",
     "start_time": "2020-01-18T01:00:06.152287Z"
    }
   },
   "outputs": [],
   "source": [
    "region_markers = joblib.load(\n",
    "    '/home/hanliu/project/mouse_rostral_brain/study/ITSpatial/DMGAnalysis/region_hypo_genes.IT-L23.obj'\n",
    ")"
   ]
  },
  {
   "cell_type": "code",
   "execution_count": 60,
   "metadata": {
    "ExecuteTime": {
     "end_time": "2020-01-18T00:48:13.627587Z",
     "start_time": "2020-01-18T00:46:53.673318Z"
    }
   },
   "outputs": [
    {
     "name": "stdout",
     "output_type": "stream",
     "text": [
      "IT-L23+ACA 42423\n",
      "IT-L23+AI 15777\n",
      "IT-L23+MOp 98802\n",
      "IT-L23+ORB 23678\n",
      "IT-L23+PFC 38838\n",
      "IT-L23+SSp 104134\n",
      "IT-L23+MOs 55983\n",
      "IT-L23+SSs 96864\n"
     ]
    }
   ],
   "source": [
    "records = []\n",
    "for bed_path in dmr_list:\n",
    "    dmr_df = pd.read_csv(bed_path, header=None, index_col=3, sep='\\t')\n",
    "    group = bed_path.name.split('.')[0]\n",
    "    print(group, dmr_df.shape[0])\n",
    "    for adata in adata_list:\n",
    "        _this_adata = adata[adata.obs_names & dmr_df.index, :].copy()\n",
    "        _this_loops = pd.DataFrame(_this_adata.X.todense(), \n",
    "                                   index=_this_adata.obs_names, \n",
    "                                   columns=_this_adata.var_names).unstack()\n",
    "        _this_loops = _this_loops[_this_loops > 0].copy()\n",
    "        _this_loops.index.names = ['gene', 'dmr']\n",
    "        _this_loops.name = 'corr'\n",
    "        _this_loops = _this_loops.reset_index()\n",
    "        _this_loops['group'] = group\n",
    "        records.append(_this_loops)\n",
    "total_df = pd.concat(records)\n",
    "del records"
   ]
  },
  {
   "cell_type": "code",
   "execution_count": 81,
   "metadata": {
    "ExecuteTime": {
     "end_time": "2020-01-18T00:57:33.328985Z",
     "start_time": "2020-01-18T00:57:33.326649Z"
    }
   },
   "outputs": [],
   "source": [
    "corr_cutoff = 0.65\n",
    "min_dmr_cutoff = 15"
   ]
  },
  {
   "cell_type": "code",
   "execution_count": 100,
   "metadata": {
    "ExecuteTime": {
     "end_time": "2020-01-18T01:01:02.998764Z",
     "start_time": "2020-01-18T01:01:02.868233Z"
    }
   },
   "outputs": [],
   "source": [
    "for group, sub_df in total_df.groupby('group'):\n",
    "    group_region_marker = set(region_markers[group.split('+')[1]])\n",
    "    \n",
    "    sub_df = sub_df[sub_df['corr'] > corr_cutoff]\n",
    "    gene_dmr_counts = sub_df['gene'].value_counts()\n",
    "    gene_dmr_counts = gene_dmr_counts[gene_dmr_counts > min_dmr_cutoff].index\n",
    "    sub_df = sub_df[sub_df['gene'].isin(gene_dmr_counts)]\n",
    "    corr_gene_set = set(sub_df.gene.unique())\n",
    "    break"
   ]
  },
  {
   "cell_type": "code",
   "execution_count": 102,
   "metadata": {
    "ExecuteTime": {
     "end_time": "2020-01-18T01:01:07.884489Z",
     "start_time": "2020-01-18T01:01:07.881617Z"
    }
   },
   "outputs": [
    {
     "data": {
      "text/plain": [
       "68"
      ]
     },
     "execution_count": 102,
     "metadata": {},
     "output_type": "execute_result"
    }
   ],
   "source": [
    "len(group_region_marker)"
   ]
  },
  {
   "cell_type": "code",
   "execution_count": 103,
   "metadata": {
    "ExecuteTime": {
     "end_time": "2020-01-18T01:01:12.441967Z",
     "start_time": "2020-01-18T01:01:12.439045Z"
    }
   },
   "outputs": [
    {
     "data": {
      "text/plain": [
       "459"
      ]
     },
     "execution_count": 103,
     "metadata": {},
     "output_type": "execute_result"
    }
   ],
   "source": [
    "len(corr_gene_set)"
   ]
  },
  {
   "cell_type": "code",
   "execution_count": 108,
   "metadata": {
    "ExecuteTime": {
     "end_time": "2020-01-18T04:06:01.825195Z",
     "start_time": "2020-01-18T04:06:01.637213Z"
    }
   },
   "outputs": [],
   "source": [
    "gene_meta = pd.read_csv('/home/hanliu/ref/mouse/gencode/vm22/gencode.vM22.annotation.gene.flat.tsv.gz',\n",
    "                        sep='\\t', index_col='gene_id')"
   ]
  },
  {
   "cell_type": "code",
   "execution_count": 118,
   "metadata": {
    "ExecuteTime": {
     "end_time": "2020-01-18T04:21:26.498811Z",
     "start_time": "2020-01-18T04:21:26.492933Z"
    }
   },
   "outputs": [
    {
     "data": {
      "text/plain": [
       "gene_id\n",
       "ENSMUSG00000036510.17             Cdh8\n",
       "ENSMUSG00000104093.1     A330015K06Rik\n",
       "ENSMUSG00000115529.1     9630013A20Rik\n",
       "ENSMUSG00000039706.11             Ldb2\n",
       "ENSMUSG00000028266.17             Lmo4\n",
       "ENSMUSG00000032452.12           Clstn2\n",
       "ENSMUSG00000094296.1           Gm21798\n",
       "ENSMUSG00000035357.16           Pdzrn3\n",
       "ENSMUSG00000030199.16             Etv6\n",
       "ENSMUSG00000103779.1           Gm36931\n",
       "ENSMUSG00000104894.4           Gm43507\n",
       "ENSMUSG00000108238.1           Gm43984\n",
       "ENSMUSG00000006586.15          Runx1t1\n",
       "ENSMUSG00000048078.16            Tenm4\n",
       "ENSMUSG00000105511.1           Gm33758\n",
       "ENSMUSG00000027784.10            Ppm1l\n",
       "ENSMUSG00000097695.1           Gm26905\n",
       "ENSMUSG00000092134.1           Gm17089\n",
       "ENSMUSG00000049336.16            Tenm2\n",
       "ENSMUSG00000021217.7             Tshz3\n",
       "ENSMUSG00000085456.2           Gm15398\n",
       "ENSMUSG00000085792.2           Gm15414\n",
       "ENSMUSG00000022376.8             Adcy8\n",
       "ENSMUSG00000061013.6               Mkx\n",
       "ENSMUSG00000034312.14           Iqsec1\n",
       "ENSMUSG00000027210.20            Meis2\n",
       "ENSMUSG00000001911.16             Nfix\n",
       "ENSMUSG00000032076.19            Cadm1\n",
       "ENSMUSG00000089819.1           Gm15679\n",
       "ENSMUSG00000090116.1           Gm15680\n",
       "ENSMUSG00000050271.12            Prag1\n",
       "ENSMUSG00000086375.1           Gm12127\n",
       "ENSMUSG00000003746.16            Man1a\n",
       "ENSMUSG00000027827.16           Kcnab1\n",
       "ENSMUSG00000035566.7            Pcdh17\n",
       "ENSMUSG00000029778.12        Adcyap1r1\n",
       "ENSMUSG00000031608.13           Galnt7\n",
       "ENSMUSG00000105279.1            Gm6260\n",
       "ENSMUSG00000037138.17             Aff3\n",
       "Name: gene_name, dtype: object"
      ]
     },
     "execution_count": 118,
     "metadata": {},
     "output_type": "execute_result"
    }
   ],
   "source": [
    "gene_meta.loc[group_region_marker & corr_gene_set]['gene_name']"
   ]
  },
  {
   "cell_type": "code",
   "execution_count": null,
   "metadata": {},
   "outputs": [],
   "source": []
  },
  {
   "cell_type": "code",
   "execution_count": null,
   "metadata": {},
   "outputs": [],
   "source": []
  }
 ],
 "metadata": {
  "hide_input": false,
  "kernelspec": {
   "display_name": "Python 3",
   "language": "python",
   "name": "python3"
  },
  "language_info": {
   "codemirror_mode": {
    "name": "ipython",
    "version": 3
   },
   "file_extension": ".py",
   "mimetype": "text/x-python",
   "name": "python",
   "nbconvert_exporter": "python",
   "pygments_lexer": "ipython3",
   "version": "3.7.3"
  },
  "toc": {
   "base_numbering": 1,
   "nav_menu": {},
   "number_sections": true,
   "sideBar": true,
   "skip_h1_title": true,
   "title_cell": "Table of Contents",
   "title_sidebar": "Contents",
   "toc_cell": false,
   "toc_position": {},
   "toc_section_display": true,
   "toc_window_display": true
  }
 },
 "nbformat": 4,
 "nbformat_minor": 2
}
