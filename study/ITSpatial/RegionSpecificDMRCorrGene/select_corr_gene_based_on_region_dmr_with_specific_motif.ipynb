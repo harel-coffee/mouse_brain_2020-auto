{
 "cells": [
  {
   "cell_type": "code",
   "execution_count": 1,
   "metadata": {
    "ExecuteTime": {
     "end_time": "2020-01-18T05:27:17.281529Z",
     "start_time": "2020-01-18T05:27:16.600765Z"
    }
   },
   "outputs": [],
   "source": [
    "import pandas as pd\n",
    "import pybedtools\n",
    "import pathlib\n",
    "import anndata\n",
    "import seaborn as sns\n",
    "import matplotlib.pyplot as plt\n",
    "import joblib\n",
    "import numpy as np"
   ]
  },
  {
   "cell_type": "code",
   "execution_count": 2,
   "metadata": {
    "ExecuteTime": {
     "end_time": "2020-01-18T05:27:21.321416Z",
     "start_time": "2020-01-18T05:27:18.914780Z"
    }
   },
   "outputs": [],
   "source": [
    "region_dmr_dir = pathlib.Path('ITSpatialDMR_overlap_region_specific_dmr')\n",
    "dmr_list = list(region_dmr_dir.glob('*.bed'))\n",
    "\n",
    "gene_corr_dir = pathlib.Path(\n",
    "    '/home/hanliu/project/mouse_rostral_brain/study/ITSpatial/gene_dmr_corr/Corr/'\n",
    ")\n",
    "corr_adata_list = list(gene_corr_dir.glob('*h5ad'))\n",
    "adata_list = [anndata.read_h5ad(p) for p in corr_adata_list]"
   ]
  },
  {
   "cell_type": "markdown",
   "metadata": {},
   "source": [
    "## Get DMR with certain TF motif hits"
   ]
  },
  {
   "cell_type": "code",
   "execution_count": 3,
   "metadata": {
    "ExecuteTime": {
     "end_time": "2020-01-18T05:27:27.414711Z",
     "start_time": "2020-01-18T05:27:22.184302Z"
    }
   },
   "outputs": [],
   "source": [
    "motif_hits = anndata.read_h5ad('/home/hanliu/project/mouse_rostral_brain/DMR/ITSpatial/MotifScan.h5ad')"
   ]
  },
  {
   "cell_type": "code",
   "execution_count": 4,
   "metadata": {
    "ExecuteTime": {
     "end_time": "2020-01-18T05:27:27.671356Z",
     "start_time": "2020-01-18T05:27:27.416946Z"
    }
   },
   "outputs": [],
   "source": [
    "motif_meta_with_cluster = pd.read_csv(\n",
    "    '/home/hanliu/project/mouse_rostral_brain/study/MotifClustering/JASPAR2020_CORE_vertebrates_non-redundant.mouse_genes.with_motif_group.199.csv',\n",
    "    index_col='motif_uid'\n",
    ")\n",
    "tf_class = pd.read_csv('/home/hanliu/ref/TFGene/TFClass/TFClass.with_mouse_gene_id.csv')\n",
    "tf_class.head()\n",
    "level = 'Family'\n",
    "gene_to_tf_class = {}\n",
    "for _, row in tf_class.iterrows():\n",
    "    if isinstance(row['EnsemblID'], float):\n",
    "        continue\n",
    "    for g in row['EnsemblID'].split(','):\n",
    "        gene_to_tf_class[g] = row[level]\n",
    "motif_meta_with_cluster['motif_class'] = motif_meta_with_cluster['gene_ids'].map(\n",
    "    lambda i: gene_to_tf_class[i.split('.')[0]] if i.split('.')[0] in gene_to_tf_class else '')\n",
    "\n",
    "level = 'SubFamily'\n",
    "gene_to_tf_class = {}\n",
    "for _, row in tf_class.iterrows():\n",
    "    if isinstance(row['EnsemblID'], float):\n",
    "        continue\n",
    "    for g in row['EnsemblID'].split(','):\n",
    "        gene_to_tf_class[g] = row[level]\n",
    "motif_meta_with_cluster['motif_class_sub'] = motif_meta_with_cluster['gene_ids'].map(\n",
    "    lambda i: gene_to_tf_class[i.split('.')[0]] if i.split('.')[0] in gene_to_tf_class else '')"
   ]
  },
  {
   "cell_type": "code",
   "execution_count": 76,
   "metadata": {
    "ExecuteTime": {
     "end_time": "2020-01-18T05:49:55.304216Z",
     "start_time": "2020-01-18T05:49:55.300893Z"
    }
   },
   "outputs": [],
   "source": [
    "motif_classes = ['MyoD-ASC-related']\n",
    "\n",
    "motif_of_interest = motif_meta_with_cluster[motif_meta_with_cluster['motif_class'].isin(motif_classes)].index"
   ]
  },
  {
   "cell_type": "code",
   "execution_count": 77,
   "metadata": {
    "ExecuteTime": {
     "end_time": "2020-01-18T05:49:57.542439Z",
     "start_time": "2020-01-18T05:49:56.665138Z"
    }
   },
   "outputs": [],
   "source": [
    "use_hits = motif_hits[:, motif_of_interest].copy()\n",
    "use_hits.X = use_hits.X.todense()"
   ]
  },
  {
   "cell_type": "code",
   "execution_count": 78,
   "metadata": {
    "ExecuteTime": {
     "end_time": "2020-01-18T05:49:57.660782Z",
     "start_time": "2020-01-18T05:49:57.543979Z"
    }
   },
   "outputs": [],
   "source": [
    "# mask small motif scores\n",
    "mask_quantile_to99 = 0.9\n",
    "\n",
    "motif_cutoff = pd.Series(np.apply_along_axis(lambda i: np.quantile(i[i>0], 0.99) * mask_quantile_to99, \n",
    "                                             0, use_hits.X),\n",
    "                         index=use_hits.var_names)\n",
    "# only keep value larger than the cutoff for each motif\n",
    "use_hits.X = np.multiply(use_hits.X, (use_hits.X > motif_cutoff.values[None, :]))"
   ]
  },
  {
   "cell_type": "code",
   "execution_count": 79,
   "metadata": {
    "ExecuteTime": {
     "end_time": "2020-01-18T05:49:57.701171Z",
     "start_time": "2020-01-18T05:49:57.662403Z"
    }
   },
   "outputs": [],
   "source": [
    "hits = pd.Series(use_hits.X.sum(axis=1).A1 > 0, index=use_hits.obs_names)"
   ]
  },
  {
   "cell_type": "code",
   "execution_count": 80,
   "metadata": {
    "ExecuteTime": {
     "end_time": "2020-01-18T05:49:57.714447Z",
     "start_time": "2020-01-18T05:49:57.702446Z"
    }
   },
   "outputs": [],
   "source": [
    "hits_dmr = hits[hits].index"
   ]
  },
  {
   "cell_type": "code",
   "execution_count": 81,
   "metadata": {
    "ExecuteTime": {
     "end_time": "2020-01-18T05:49:57.724584Z",
     "start_time": "2020-01-18T05:49:57.715590Z"
    }
   },
   "outputs": [
    {
     "data": {
      "text/plain": [
       "Index(['ITSpatial_31', 'ITSpatial_43', 'ITSpatial_164', 'ITSpatial_215',\n",
       "       'ITSpatial_304', 'ITSpatial_309', 'ITSpatial_310', 'ITSpatial_315',\n",
       "       'ITSpatial_430', 'ITSpatial_438',\n",
       "       ...\n",
       "       'ITSpatial_1588093', 'ITSpatial_1588172', 'ITSpatial_1588183',\n",
       "       'ITSpatial_1588184', 'ITSpatial_1588186', 'ITSpatial_1588206',\n",
       "       'ITSpatial_1588288', 'ITSpatial_1588300', 'ITSpatial_1588329',\n",
       "       'ITSpatial_1588388'],\n",
       "      dtype='object', name='index', length=103264)"
      ]
     },
     "execution_count": 81,
     "metadata": {},
     "output_type": "execute_result"
    }
   ],
   "source": [
    "hits_dmr"
   ]
  },
  {
   "cell_type": "code",
   "execution_count": 82,
   "metadata": {
    "ExecuteTime": {
     "end_time": "2020-01-18T05:49:59.190706Z",
     "start_time": "2020-01-18T05:49:59.146238Z"
    }
   },
   "outputs": [
    {
     "data": {
      "text/plain": [
       "array([32244, 22330, 16575, 23243,  7670, 16411, 35396])"
      ]
     },
     "execution_count": 82,
     "metadata": {},
     "output_type": "execute_result"
    }
   ],
   "source": [
    "(use_hits.X > 0).sum(axis=0).A1"
   ]
  },
  {
   "cell_type": "markdown",
   "metadata": {},
   "source": [
    "## Intersect with markers"
   ]
  },
  {
   "cell_type": "code",
   "execution_count": 67,
   "metadata": {
    "ExecuteTime": {
     "end_time": "2020-01-18T05:42:05.856499Z",
     "start_time": "2020-01-18T05:42:05.853025Z"
    }
   },
   "outputs": [],
   "source": [
    "region_markers = joblib.load(\n",
    "    '/home/hanliu/project/mouse_rostral_brain/study/ITSpatial/DMGAnalysis/region_hypo_genes.IT-L23.obj'\n",
    ")"
   ]
  },
  {
   "cell_type": "code",
   "execution_count": 68,
   "metadata": {
    "ExecuteTime": {
     "end_time": "2020-01-18T05:43:17.290970Z",
     "start_time": "2020-01-18T05:42:07.095535Z"
    }
   },
   "outputs": [
    {
     "name": "stdout",
     "output_type": "stream",
     "text": [
      "IT-L23+ACA 42423\n",
      "IT-L23+AI 15777\n",
      "IT-L23+MOp 98802\n",
      "IT-L23+ORB 23678\n",
      "IT-L23+PFC 38838\n",
      "IT-L23+SSp 104134\n",
      "IT-L23+MOs 55983\n",
      "IT-L23+SSs 96864\n"
     ]
    }
   ],
   "source": [
    "records = []\n",
    "for bed_path in dmr_list:\n",
    "    dmr_df = pd.read_csv(bed_path, header=None, index_col=3, sep='\\t')\n",
    "    group = bed_path.name.split('.')[0]\n",
    "    print(group, dmr_df.shape[0])\n",
    "    for adata in adata_list:\n",
    "        _this_adata = adata[adata.obs_names & dmr_df.index, :].copy()\n",
    "        _this_loops = pd.DataFrame(_this_adata.X.todense(), \n",
    "                                   index=_this_adata.obs_names, \n",
    "                                   columns=_this_adata.var_names).unstack()\n",
    "        _this_loops = _this_loops[_this_loops > 0].copy()\n",
    "        _this_loops.index.names = ['gene', 'dmr']\n",
    "        _this_loops.name = 'corr'\n",
    "        _this_loops = _this_loops.reset_index()\n",
    "        _this_loops['group'] = group\n",
    "        records.append(_this_loops)\n",
    "total_df = pd.concat(records)\n",
    "del records"
   ]
  },
  {
   "cell_type": "code",
   "execution_count": 88,
   "metadata": {
    "ExecuteTime": {
     "end_time": "2020-01-18T05:50:50.296651Z",
     "start_time": "2020-01-18T05:50:50.294539Z"
    }
   },
   "outputs": [],
   "source": [
    "corr_cutoff = 0.4\n",
    "min_dmr_cutoff = 2"
   ]
  },
  {
   "cell_type": "code",
   "execution_count": 89,
   "metadata": {
    "ExecuteTime": {
     "end_time": "2020-01-18T05:50:52.014564Z",
     "start_time": "2020-01-18T05:50:51.561730Z"
    }
   },
   "outputs": [
    {
     "name": "stdout",
     "output_type": "stream",
     "text": [
      "IT-L23+ACA 68 368 24\n",
      "IT-L23+AI 56 131 9\n",
      "IT-L23+MOp 67 1715 35\n",
      "IT-L23+MOs 44 658 16\n",
      "IT-L23+ORB 69 409 9\n",
      "IT-L23+PFC 90 391 23\n",
      "IT-L23+SSp 83 1811 43\n",
      "IT-L23+SSs 72 1554 39\n"
     ]
    }
   ],
   "source": [
    "for group, sub_df in total_df.groupby('group'):\n",
    "    group_region_marker = set(region_markers[group.split('+')[1]])\n",
    "    \n",
    "    sub_df = sub_df[(sub_df['corr'] > corr_cutoff) & sub_df['dmr'].isin(hits_dmr)].copy()\n",
    "    gene_dmr_counts = sub_df['gene'].value_counts()\n",
    "    gene_dmr_counts = gene_dmr_counts[gene_dmr_counts > min_dmr_cutoff].index\n",
    "    sub_df = sub_df[sub_df['gene'].isin(gene_dmr_counts)]\n",
    "\n",
    "    corr_gene_set = set(sub_df.gene.unique())\n",
    "    print(group, \n",
    "          len(group_region_marker), \n",
    "          len(corr_gene_set), \n",
    "          len(group_region_marker & corr_gene_set))"
   ]
  },
  {
   "cell_type": "code",
   "execution_count": null,
   "metadata": {},
   "outputs": [],
   "source": []
  },
  {
   "cell_type": "code",
   "execution_count": 22,
   "metadata": {
    "ExecuteTime": {
     "end_time": "2020-01-18T05:31:17.444355Z",
     "start_time": "2020-01-18T05:31:17.261835Z"
    }
   },
   "outputs": [],
   "source": [
    "gene_meta = pd.read_csv('/home/hanliu/ref/mouse/gencode/vm22/gencode.vM22.annotation.gene.flat.tsv.gz',\n",
    "                        sep='\\t', index_col='gene_id')"
   ]
  },
  {
   "cell_type": "code",
   "execution_count": 23,
   "metadata": {
    "ExecuteTime": {
     "end_time": "2020-01-18T05:31:17.875953Z",
     "start_time": "2020-01-18T05:31:17.862080Z"
    }
   },
   "outputs": [
    {
     "data": {
      "text/plain": [
       "gene_id\n",
       "ENSMUSG00000036510.17             Cdh8\n",
       "ENSMUSG00000085456.2           Gm15398\n",
       "ENSMUSG00000030199.16             Etv6\n",
       "ENSMUSG00000003746.16            Man1a\n",
       "ENSMUSG00000022376.8             Adcy8\n",
       "ENSMUSG00000032076.19            Cadm1\n",
       "ENSMUSG00000000247.11             Lhx2\n",
       "ENSMUSG00000034312.14           Iqsec1\n",
       "ENSMUSG00000105511.1           Gm33758\n",
       "ENSMUSG00000042671.12             Rgs8\n",
       "ENSMUSG00000085792.2           Gm15414\n",
       "ENSMUSG00000048078.16            Tenm4\n",
       "ENSMUSG00000097695.1           Gm26905\n",
       "ENSMUSG00000035357.16           Pdzrn3\n",
       "ENSMUSG00000050271.12            Prag1\n",
       "ENSMUSG00000049336.16            Tenm2\n",
       "ENSMUSG00000103779.1           Gm36931\n",
       "ENSMUSG00000032452.12           Clstn2\n",
       "ENSMUSG00000105279.1            Gm6260\n",
       "ENSMUSG00000031608.13           Galnt7\n",
       "ENSMUSG00000027273.13           Snap25\n",
       "ENSMUSG00000034275.18           Igsf9b\n",
       "ENSMUSG00000040943.12             Tet2\n",
       "ENSMUSG00000027210.20            Meis2\n",
       "ENSMUSG00000031990.15             Jam3\n",
       "ENSMUSG00000001911.16             Nfix\n",
       "ENSMUSG00000029778.12        Adcyap1r1\n",
       "ENSMUSG00000094296.1           Gm21798\n",
       "ENSMUSG00000021217.7             Tshz3\n",
       "ENSMUSG00000006586.15          Runx1t1\n",
       "ENSMUSG00000039706.11             Ldb2\n",
       "ENSMUSG00000045053.2             Kcng3\n",
       "ENSMUSG00000089819.1           Gm15679\n",
       "ENSMUSG00000035566.7            Pcdh17\n",
       "ENSMUSG00000084085.2           Gm16140\n",
       "ENSMUSG00000086375.1           Gm12127\n",
       "ENSMUSG00000021366.8            Hivep1\n",
       "ENSMUSG00000090116.1           Gm15680\n",
       "ENSMUSG00000115529.1     9630013A20Rik\n",
       "ENSMUSG00000104894.4           Gm43507\n",
       "ENSMUSG00000028266.17             Lmo4\n",
       "ENSMUSG00000108238.1           Gm43984\n",
       "ENSMUSG00000002881.14             Nab1\n",
       "ENSMUSG00000030772.6              Dkk3\n",
       "ENSMUSG00000061013.6               Mkx\n",
       "ENSMUSG00000092134.1           Gm17089\n",
       "ENSMUSG00000104093.1     A330015K06Rik\n",
       "ENSMUSG00000037138.17             Aff3\n",
       "ENSMUSG00000027784.10            Ppm1l\n",
       "ENSMUSG00000027827.16           Kcnab1\n",
       "ENSMUSG00000037279.13            Ovol2\n",
       "Name: gene_name, dtype: object"
      ]
     },
     "execution_count": 23,
     "metadata": {},
     "output_type": "execute_result"
    }
   ],
   "source": [
    "gene_meta.loc[group_region_marker & corr_gene_set]['gene_name']"
   ]
  },
  {
   "cell_type": "code",
   "execution_count": 107,
   "metadata": {
    "ExecuteTime": {
     "end_time": "2020-01-18T05:56:52.082427Z",
     "start_time": "2020-01-18T05:56:52.077146Z"
    }
   },
   "outputs": [],
   "source": [
    "motif_class_order = [\n",
    "    # 'More than 3 adjacent zinc fingers',\n",
    "    'MyoD-ASC-related',\n",
    "    'RFX',\n",
    "    'POU',\n",
    "    'PD+HD',\n",
    "    'Paired-related HD',\n",
    "    'HOX',\n",
    "    'HD-LIM',\n",
    "    'NK',\n",
    "    # 'DMRT',\n",
    "    'Thyroid hormone receptor-related factors',\n",
    "    'Regulators of differentiation',\n",
    "    'bHLH-ZIP',\n",
    "    'Tal-related',\n",
    "    'SMAD',\n",
    "    'Jun-related',\n",
    "    'Fos-related',\n",
    "    'B-ATF-related',\n",
    "    'CEBP-related',\n",
    "]\n",
    "\n",
    "tf_genes = []\n",
    "for motif_id, gs in motif_meta_with_cluster[\n",
    "        motif_meta_with_cluster['motif_class'].isin(\n",
    "            motif_class_order)]['gene_ids'].items():\n",
    "    for g in gs.split(','):\n",
    "        tf_genes.append(g)\n",
    "tf_genes = set(tf_genes)"
   ]
  },
  {
   "cell_type": "code",
   "execution_count": 112,
   "metadata": {
    "ExecuteTime": {
     "end_time": "2020-01-18T05:57:44.055420Z",
     "start_time": "2020-01-18T05:57:44.040757Z"
    }
   },
   "outputs": [
    {
     "name": "stdout",
     "output_type": "stream",
     "text": [
      "MOs ['Lhx2']\n",
      "SSp ['Lhx2', 'Jdp2', 'Emx1', 'Barx2']\n",
      "ACA ['Lhx2']\n",
      "MOp ['Lhx2', 'Emx1']\n",
      "SSs ['Lhx2', 'Jdp2', 'Emx1', 'Barx2']\n",
      "PFC []\n",
      "ORB []\n",
      "AI []\n"
     ]
    }
   ],
   "source": [
    "for group, markers in region_markers.items():\n",
    "    print(group, gene_meta.loc[tf_genes & markers, 'gene_name'].tolist())\n",
    "    "
   ]
  },
  {
   "cell_type": "code",
   "execution_count": 115,
   "metadata": {
    "ExecuteTime": {
     "end_time": "2020-01-18T05:58:15.594927Z",
     "start_time": "2020-01-18T05:58:15.586799Z"
    }
   },
   "outputs": [
    {
     "data": {
      "text/html": [
       "<div>\n",
       "<style scoped>\n",
       "    .dataframe tbody tr th:only-of-type {\n",
       "        vertical-align: middle;\n",
       "    }\n",
       "\n",
       "    .dataframe tbody tr th {\n",
       "        vertical-align: top;\n",
       "    }\n",
       "\n",
       "    .dataframe thead th {\n",
       "        text-align: right;\n",
       "    }\n",
       "</style>\n",
       "<table border=\"1\" class=\"dataframe\">\n",
       "  <thead>\n",
       "    <tr style=\"text-align: right;\">\n",
       "      <th></th>\n",
       "      <th>motif_name</th>\n",
       "      <th>motif_genes</th>\n",
       "      <th>gene_ids</th>\n",
       "      <th>gene_names</th>\n",
       "      <th>motif_group</th>\n",
       "      <th>motif_class</th>\n",
       "      <th>motif_class_sub</th>\n",
       "    </tr>\n",
       "    <tr>\n",
       "      <th>motif_uid</th>\n",
       "      <th></th>\n",
       "      <th></th>\n",
       "      <th></th>\n",
       "      <th></th>\n",
       "      <th></th>\n",
       "      <th></th>\n",
       "      <th></th>\n",
       "    </tr>\n",
       "  </thead>\n",
       "  <tbody>\n",
       "    <tr>\n",
       "      <th>MA0700.2</th>\n",
       "      <td>LHX2</td>\n",
       "      <td>LHX2</td>\n",
       "      <td>ENSMUSG00000000247.11</td>\n",
       "      <td>Lhx2</td>\n",
       "      <td>MotifGroup3</td>\n",
       "      <td>HD-LIM</td>\n",
       "      <td>LHX2-like</td>\n",
       "    </tr>\n",
       "  </tbody>\n",
       "</table>\n",
       "</div>"
      ],
      "text/plain": [
       "          motif_name motif_genes               gene_ids gene_names  \\\n",
       "motif_uid                                                            \n",
       "MA0700.2        LHX2        LHX2  ENSMUSG00000000247.11       Lhx2   \n",
       "\n",
       "           motif_group motif_class motif_class_sub  \n",
       "motif_uid                                           \n",
       "MA0700.2   MotifGroup3      HD-LIM       LHX2-like  "
      ]
     },
     "execution_count": 115,
     "metadata": {},
     "output_type": "execute_result"
    }
   ],
   "source": [
    "motif_meta_with_cluster[motif_meta_with_cluster['gene_names'] == 'Lhx2']"
   ]
  },
  {
   "cell_type": "code",
   "execution_count": null,
   "metadata": {},
   "outputs": [],
   "source": []
  },
  {
   "cell_type": "code",
   "execution_count": null,
   "metadata": {},
   "outputs": [],
   "source": []
  }
 ],
 "metadata": {
  "hide_input": false,
  "kernelspec": {
   "display_name": "Python 3",
   "language": "python",
   "name": "python3"
  },
  "language_info": {
   "codemirror_mode": {
    "name": "ipython",
    "version": 3
   },
   "file_extension": ".py",
   "mimetype": "text/x-python",
   "name": "python",
   "nbconvert_exporter": "python",
   "pygments_lexer": "ipython3",
   "version": "3.7.3"
  },
  "toc": {
   "base_numbering": 1,
   "nav_menu": {},
   "number_sections": true,
   "sideBar": true,
   "skip_h1_title": true,
   "title_cell": "Table of Contents",
   "title_sidebar": "Contents",
   "toc_cell": false,
   "toc_position": {},
   "toc_section_display": true,
   "toc_window_display": true
  }
 },
 "nbformat": 4,
 "nbformat_minor": 2
}
