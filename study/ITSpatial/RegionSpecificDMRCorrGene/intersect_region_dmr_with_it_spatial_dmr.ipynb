{
 "cells": [
  {
   "cell_type": "code",
   "execution_count": 3,
   "metadata": {
    "ExecuteTime": {
     "end_time": "2020-01-18T00:27:53.637076Z",
     "start_time": "2020-01-18T00:27:53.634933Z"
    }
   },
   "outputs": [],
   "source": [
    "import pandas as pd\n",
    "import pybedtools\n",
    "import pathlib"
   ]
  },
  {
   "cell_type": "code",
   "execution_count": 15,
   "metadata": {
    "ExecuteTime": {
     "end_time": "2020-01-18T00:31:00.618897Z",
     "start_time": "2020-01-18T00:31:00.615756Z"
    }
   },
   "outputs": [],
   "source": [
    "region_dmr_dir = pathlib.Path(\n",
    "    '/home/hanliu/project/mouse_rostral_brain/study/ITSpatial/DMRAnalysis/RegionSpecificDMR/IT-L23/HypoDMR/'\n",
    ")\n",
    "dmr_list = list(region_dmr_dir.glob('*DMS1.bed'))\n",
    "it_spatial_dmr_path = '/home/hanliu/project/mouse_rostral_brain/DMR/ITSpatial/TotalDMR.nofilter.bed'\n",
    "chrom_size = '/home/hanliu/ref/mouse/genome/mm10.main.chrom.sizes'"
   ]
  },
  {
   "cell_type": "code",
   "execution_count": 20,
   "metadata": {
    "ExecuteTime": {
     "end_time": "2020-01-18T00:32:22.566459Z",
     "start_time": "2020-01-18T00:32:22.563143Z"
    }
   },
   "outputs": [],
   "source": [
    "output_dir = 'ITSpatialDMR_overlap_region_specific_dmr'\n",
    "output_dir = pathlib.Path(output_dir)\n",
    "output_dir.mkdir(exist_ok=True)"
   ]
  },
  {
   "cell_type": "code",
   "execution_count": 25,
   "metadata": {
    "ExecuteTime": {
     "end_time": "2020-01-18T00:34:00.009453Z",
     "start_time": "2020-01-18T00:33:31.992535Z"
    }
   },
   "outputs": [
    {
     "name": "stdout",
     "output_type": "stream",
     "text": [
      "IT-L23+ACA.DMS1.bed 35006 35039\n",
      "IT-L23+AI.DMS1.bed 13407 13424\n",
      "IT-L23+MOp.DMS1.bed 83974 84014\n",
      "IT-L23+ORB.DMS1.bed 19385 19403\n",
      "IT-L23+PFC.DMS1.bed 32787 32824\n",
      "IT-L23+SSp.DMS1.bed 89076 89139\n",
      "IT-L23+MOs.DMS1.bed 46260 46288\n",
      "IT-L23+SSs.DMS1.bed 83136 83211\n"
     ]
    }
   ],
   "source": [
    "total_bed = pybedtools.BedTool(str(it_spatial_dmr_path))\n",
    "for path in dmr_list:\n",
    "    bed = pybedtools.BedTool(str(path)).slop(b=250, g=chrom_size)\n",
    "    it_spatial_overlap = total_bed.intersect(bed, wa=True, u=True)\n",
    "    this_overlap = bed.intersect(total_bed, wa=True, u=True)\n",
    "    it_spatial_overlap.saveas(output_dir / (path.name[:-3] + 'ITSpatial.bed'))\n",
    "    print(path.name, this_overlap.count(), bed.count())"
   ]
  },
  {
   "cell_type": "code",
   "execution_count": null,
   "metadata": {},
   "outputs": [],
   "source": []
  },
  {
   "cell_type": "code",
   "execution_count": null,
   "metadata": {},
   "outputs": [],
   "source": []
  },
  {
   "cell_type": "code",
   "execution_count": null,
   "metadata": {},
   "outputs": [],
   "source": []
  },
  {
   "cell_type": "code",
   "execution_count": null,
   "metadata": {},
   "outputs": [],
   "source": []
  }
 ],
 "metadata": {
  "hide_input": false,
  "kernelspec": {
   "display_name": "Python 3",
   "language": "python",
   "name": "python3"
  },
  "language_info": {
   "codemirror_mode": {
    "name": "ipython",
    "version": 3
   },
   "file_extension": ".py",
   "mimetype": "text/x-python",
   "name": "python",
   "nbconvert_exporter": "python",
   "pygments_lexer": "ipython3",
   "version": "3.7.3"
  },
  "toc": {
   "base_numbering": 1,
   "nav_menu": {},
   "number_sections": true,
   "sideBar": true,
   "skip_h1_title": true,
   "title_cell": "Table of Contents",
   "title_sidebar": "Contents",
   "toc_cell": false,
   "toc_position": {},
   "toc_section_display": true,
   "toc_window_display": true
  }
 },
 "nbformat": 4,
 "nbformat_minor": 2
}
