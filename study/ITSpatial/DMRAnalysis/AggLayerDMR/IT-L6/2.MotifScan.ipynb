{
 "cells": [
  {
   "cell_type": "code",
   "execution_count": 1,
   "metadata": {
    "ExecuteTime": {
     "end_time": "2020-01-11T06:26:26.262114Z",
     "start_time": "2020-01-11T06:26:26.259563Z"
    },
    "papermill": {
     "duration": 1.056977,
     "end_time": "2020-01-14T06:08:19.453003",
     "exception": false,
     "start_time": "2020-01-14T06:08:18.396026",
     "status": "completed"
    },
    "tags": []
   },
   "outputs": [],
   "source": [
    "from ALLCools.dmr.fimo import scan_motif_over_bed\n",
    "import pandas as pd\n",
    "import numpy as np\n",
    "import seaborn as sns\n",
    "import pathlib\n",
    "import anndata\n",
    "import subprocess\n",
    "from scipy.sparse import csr_matrix"
   ]
  },
  {
   "cell_type": "code",
   "execution_count": 2,
   "metadata": {
    "ExecuteTime": {
     "end_time": "2020-01-11T06:26:26.434524Z",
     "start_time": "2020-01-11T06:26:26.432502Z"
    },
    "papermill": {
     "duration": 0.012266,
     "end_time": "2020-01-14T06:08:19.473324",
     "exception": false,
     "start_time": "2020-01-14T06:08:19.461058",
     "status": "completed"
    },
    "tags": [
     "parameters"
    ]
   },
   "outputs": [],
   "source": [
    "bed_path = '/home/hanliu/project/mouse_rostral_brain/DMR/DGmCHGroup/DMR/TotalDMR.nofilter.bed'\n",
    "motif_file_path = '/home/hanliu/ref/MEME/selected_motifs_sets/JASPAR2020_CORE_vertebrates_non-redundant_pfms.has_mouse_id.meme'\n",
    "genome_fasta_path = '/home/hanliu/ref/mouse/genome/fasta/raw/mm10.fa'\n",
    "chrom_size_path = '/home/hanliu/ref/mouse/genome/mm10.main.chrom.sizes'"
   ]
  },
  {
   "cell_type": "code",
   "execution_count": 3,
   "metadata": {
    "papermill": {
     "duration": 0.011446,
     "end_time": "2020-01-14T06:08:19.491079",
     "exception": false,
     "start_time": "2020-01-14T06:08:19.479633",
     "status": "completed"
    },
    "tags": [
     "injected-parameters"
    ]
   },
   "outputs": [],
   "source": [
    "# Parameters\n",
    "bed_path = \"/home/hanliu/project/mouse_rostral_brain/study/ITSpatial/DMRAnalysis/AggLayerDMR/IT-L6/IT-L6.total.bed\"\n",
    "motif_file_path = \"/home/hanliu/ref/MEME/selected_motifs_sets/JASPAR2020_CORE_vertebrates_non-redundant_pfms.has_mouse_id.meme\"\n",
    "genome_fasta_path = \"/home/hanliu/ref/mouse/genome/fasta/raw/mm10.fa\"\n",
    "chrom_size_path = \"/home/hanliu/ref/mouse/genome/mm10.main.chrom.sizes\"\n"
   ]
  },
  {
   "cell_type": "code",
   "execution_count": 4,
   "metadata": {
    "ExecuteTime": {
     "end_time": "2020-01-11T06:26:26.789884Z",
     "start_time": "2020-01-11T06:26:26.592466Z"
    },
    "papermill": {
     "duration": 0.192498,
     "end_time": "2020-01-14T06:08:19.689846",
     "exception": false,
     "start_time": "2020-01-14T06:08:19.497348",
     "status": "completed"
    },
    "tags": []
   },
   "outputs": [
    {
     "data": {
      "text/html": [
       "<div>\n",
       "<style scoped>\n",
       "    .dataframe tbody tr th:only-of-type {\n",
       "        vertical-align: middle;\n",
       "    }\n",
       "\n",
       "    .dataframe tbody tr th {\n",
       "        vertical-align: top;\n",
       "    }\n",
       "\n",
       "    .dataframe thead th {\n",
       "        text-align: right;\n",
       "    }\n",
       "</style>\n",
       "<table border=\"1\" class=\"dataframe\">\n",
       "  <thead>\n",
       "    <tr style=\"text-align: right;\">\n",
       "      <th></th>\n",
       "      <th>chrom</th>\n",
       "      <th>start</th>\n",
       "      <th>end</th>\n",
       "    </tr>\n",
       "    <tr>\n",
       "      <th>name</th>\n",
       "      <th></th>\n",
       "      <th></th>\n",
       "      <th></th>\n",
       "    </tr>\n",
       "  </thead>\n",
       "  <tbody>\n",
       "    <tr>\n",
       "      <th>IT-L6_0</th>\n",
       "      <td>chr1</td>\n",
       "      <td>3067000</td>\n",
       "      <td>3067002</td>\n",
       "    </tr>\n",
       "    <tr>\n",
       "      <th>IT-L6_1</th>\n",
       "      <td>chr1</td>\n",
       "      <td>3094121</td>\n",
       "      <td>3094121</td>\n",
       "    </tr>\n",
       "    <tr>\n",
       "      <th>IT-L6_2</th>\n",
       "      <td>chr1</td>\n",
       "      <td>3113766</td>\n",
       "      <td>3113890</td>\n",
       "    </tr>\n",
       "    <tr>\n",
       "      <th>IT-L6_3</th>\n",
       "      <td>chr1</td>\n",
       "      <td>3121819</td>\n",
       "      <td>3121821</td>\n",
       "    </tr>\n",
       "    <tr>\n",
       "      <th>IT-L6_4</th>\n",
       "      <td>chr1</td>\n",
       "      <td>3144003</td>\n",
       "      <td>3144003</td>\n",
       "    </tr>\n",
       "  </tbody>\n",
       "</table>\n",
       "</div>"
      ],
      "text/plain": [
       "        chrom    start      end\n",
       "name                           \n",
       "IT-L6_0  chr1  3067000  3067002\n",
       "IT-L6_1  chr1  3094121  3094121\n",
       "IT-L6_2  chr1  3113766  3113890\n",
       "IT-L6_3  chr1  3121819  3121821\n",
       "IT-L6_4  chr1  3144003  3144003"
      ]
     },
     "execution_count": 4,
     "metadata": {},
     "output_type": "execute_result"
    }
   ],
   "source": [
    "dmr_bed = pd.read_csv(bed_path, sep='\\t', index_col=3, header=None, names=['chrom', 'start', 'end', 'name'])\n",
    "dmr_bed.head()"
   ]
  },
  {
   "cell_type": "code",
   "execution_count": 5,
   "metadata": {
    "ExecuteTime": {
     "end_time": "2020-01-11T06:26:27.226115Z",
     "start_time": "2020-01-11T06:26:27.223813Z"
    },
    "papermill": {
     "duration": 0.01182,
     "end_time": "2020-01-14T06:08:19.709123",
     "exception": false,
     "start_time": "2020-01-14T06:08:19.697303",
     "status": "completed"
    },
    "tags": []
   },
   "outputs": [],
   "source": [
    "output_path = pathlib.Path(bed_path).parent / 'MotifScan.h5ad'"
   ]
  },
  {
   "cell_type": "markdown",
   "metadata": {
    "papermill": {
     "duration": 0.006545,
     "end_time": "2020-01-14T06:08:19.722090",
     "exception": false,
     "start_time": "2020-01-14T06:08:19.715545",
     "status": "completed"
    },
    "tags": []
   },
   "source": [
    "## Scan motif"
   ]
  },
  {
   "cell_type": "code",
   "execution_count": 6,
   "metadata": {
    "papermill": {
     "duration": 312.169358,
     "end_time": "2020-01-14T06:13:31.897809",
     "exception": false,
     "start_time": "2020-01-14T06:08:19.728451",
     "status": "completed"
    },
    "tags": []
   },
   "outputs": [
    {
     "name": "stdout",
     "output_type": "stream",
     "text": [
      "724 motifs to count.\n"
     ]
    },
    {
     "name": "stdout",
     "output_type": "stream",
     "text": [
      "Motif MA0006.1 Ahr::Arnt do not have any match under current settings.\n"
     ]
    },
    {
     "name": "stdout",
     "output_type": "stream",
     "text": [
      "/home/hanliu/project/mouse_rostral_brain/study/ITSpatial/DMRAnalysis/AggLayerDMR/IT-L6/MotifScan.h5adtemp/MA0875.1.meme, N motif total=9724\n"
     ]
    },
    {
     "name": "stderr",
     "output_type": "stream",
     "text": [
      "/home/hanliu/miniconda3/envs/clustering/lib/python3.7/site-packages/ALLCools/dmr/fimo.py:60: FutureWarning: to_msgpack is deprecated and will be removed in a future version.\n",
      "It is recommended to use pyarrow for on-the-wire transmission of pandas objects.\n",
      "  final_df.to_msgpack(output_path, compress='zlib')\n"
     ]
    },
    {
     "name": "stdout",
     "output_type": "stream",
     "text": [
      "Motif MA0004.1 Arnt do not have any match under current settings.\n"
     ]
    },
    {
     "name": "stdout",
     "output_type": "stream",
     "text": [
      "Motif MA0151.1 Arid3a do not have any match under current settings.\n"
     ]
    },
    {
     "name": "stdout",
     "output_type": "stream",
     "text": [
      "/home/hanliu/project/mouse_rostral_brain/study/ITSpatial/DMRAnalysis/AggLayerDMR/IT-L6/MotifScan.h5adtemp/MA0877.2.meme, N motif total=3394\n"
     ]
    },
    {
     "name": "stderr",
     "output_type": "stream",
     "text": [
      "/home/hanliu/miniconda3/envs/clustering/lib/python3.7/site-packages/ALLCools/dmr/fimo.py:60: FutureWarning: to_msgpack is deprecated and will be removed in a future version.\n",
      "It is recommended to use pyarrow for on-the-wire transmission of pandas objects.\n",
      "  final_df.to_msgpack(output_path, compress='zlib')\n"
     ]
    },
    {
     "name": "stdout",
     "output_type": "stream",
     "text": [
      "/home/hanliu/project/mouse_rostral_brain/study/ITSpatial/DMRAnalysis/AggLayerDMR/IT-L6/MotifScan.h5adtemp/MA0604.1.meme, N motif total=5959\n"
     ]
    },
    {
     "name": "stderr",
     "output_type": "stream",
     "text": [
      "/home/hanliu/miniconda3/envs/clustering/lib/python3.7/site-packages/ALLCools/dmr/fimo.py:60: FutureWarning: to_msgpack is deprecated and will be removed in a future version.\n",
      "It is recommended to use pyarrow for on-the-wire transmission of pandas objects.\n",
      "  final_df.to_msgpack(output_path, compress='zlib')\n"
     ]
    },
    {
     "name": "stdout",
     "output_type": "stream",
     "text": [
      "/home/hanliu/project/mouse_rostral_brain/study/ITSpatial/DMRAnalysis/AggLayerDMR/IT-L6/MotifScan.h5adtemp/MA0259.1.meme, N motif total=10688\n"
     ]
    },
    {
     "name": "stderr",
     "output_type": "stream",
     "text": [
      "/home/hanliu/miniconda3/envs/clustering/lib/python3.7/site-packages/ALLCools/dmr/fimo.py:60: FutureWarning: to_msgpack is deprecated and will be removed in a future version.\n",
      "It is recommended to use pyarrow for on-the-wire transmission of pandas objects.\n",
      "  final_df.to_msgpack(output_path, compress='zlib')\n"
     ]
    },
    {
     "name": "stdout",
     "output_type": "stream",
     "text": [
      "/home/hanliu/project/mouse_rostral_brain/study/ITSpatial/DMRAnalysis/AggLayerDMR/IT-L6/MotifScan.h5adtemp/MA0607.1.meme, N motif total=36652\n"
     ]
    },
    {
     "name": "stderr",
     "output_type": "stream",
     "text": [
      "/home/hanliu/miniconda3/envs/clustering/lib/python3.7/site-packages/ALLCools/dmr/fimo.py:60: FutureWarning: to_msgpack is deprecated and will be removed in a future version.\n",
      "It is recommended to use pyarrow for on-the-wire transmission of pandas objects.\n",
      "  final_df.to_msgpack(output_path, compress='zlib')\n"
     ]
    },
    {
     "name": "stdout",
     "output_type": "stream",
     "text": [
      "/home/hanliu/project/mouse_rostral_brain/study/ITSpatial/DMRAnalysis/AggLayerDMR/IT-L6/MotifScan.h5adtemp/MA0603.1.meme, N motif total=14097\n"
     ]
    },
    {
     "name": "stderr",
     "output_type": "stream",
     "text": [
      "/home/hanliu/miniconda3/envs/clustering/lib/python3.7/site-packages/ALLCools/dmr/fimo.py:60: FutureWarning: to_msgpack is deprecated and will be removed in a future version.\n",
      "It is recommended to use pyarrow for on-the-wire transmission of pandas objects.\n",
      "  final_df.to_msgpack(output_path, compress='zlib')\n"
     ]
    },
    {
     "name": "stdout",
     "output_type": "stream",
     "text": [
      "/home/hanliu/project/mouse_rostral_brain/study/ITSpatial/DMRAnalysis/AggLayerDMR/IT-L6/MotifScan.h5adtemp/MA0635.1.meme, N motif total=6525\n"
     ]
    },
    {
     "name": "stderr",
     "output_type": "stream",
     "text": [
      "/home/hanliu/miniconda3/envs/clustering/lib/python3.7/site-packages/ALLCools/dmr/fimo.py:60: FutureWarning: to_msgpack is deprecated and will be removed in a future version.\n",
      "It is recommended to use pyarrow for on-the-wire transmission of pandas objects.\n",
      "  final_df.to_msgpack(output_path, compress='zlib')\n"
     ]
    },
    {
     "name": "stdout",
     "output_type": "stream",
     "text": [
      "/home/hanliu/project/mouse_rostral_brain/study/ITSpatial/DMRAnalysis/AggLayerDMR/IT-L6/MotifScan.h5adtemp/MA0601.1.meme, N motif total=19625\n"
     ]
    },
    {
     "name": "stderr",
     "output_type": "stream",
     "text": [
      "/home/hanliu/miniconda3/envs/clustering/lib/python3.7/site-packages/ALLCools/dmr/fimo.py:60: FutureWarning: to_msgpack is deprecated and will be removed in a future version.\n",
      "It is recommended to use pyarrow for on-the-wire transmission of pandas objects.\n",
      "  final_df.to_msgpack(output_path, compress='zlib')\n"
     ]
    },
    {
     "name": "stdout",
     "output_type": "stream",
     "text": [
      "/home/hanliu/project/mouse_rostral_brain/study/ITSpatial/DMRAnalysis/AggLayerDMR/IT-L6/MotifScan.h5adtemp/MA0835.2.meme, N motif total=53501\n"
     ]
    },
    {
     "name": "stderr",
     "output_type": "stream",
     "text": [
      "/home/hanliu/miniconda3/envs/clustering/lib/python3.7/site-packages/ALLCools/dmr/fimo.py:60: FutureWarning: to_msgpack is deprecated and will be removed in a future version.\n",
      "It is recommended to use pyarrow for on-the-wire transmission of pandas objects.\n",
      "  final_df.to_msgpack(output_path, compress='zlib')\n"
     ]
    },
    {
     "name": "stdout",
     "output_type": "stream",
     "text": [
      "/home/hanliu/project/mouse_rostral_brain/study/ITSpatial/DMRAnalysis/AggLayerDMR/IT-L6/MotifScan.h5adtemp/MA1472.1.meme, N motif total=69627\n"
     ]
    },
    {
     "name": "stderr",
     "output_type": "stream",
     "text": [
      "/home/hanliu/miniconda3/envs/clustering/lib/python3.7/site-packages/ALLCools/dmr/fimo.py:60: FutureWarning: to_msgpack is deprecated and will be removed in a future version.\n",
      "It is recommended to use pyarrow for on-the-wire transmission of pandas objects.\n",
      "  final_df.to_msgpack(output_path, compress='zlib')\n"
     ]
    },
    {
     "name": "stdout",
     "output_type": "stream",
     "text": [
      "/home/hanliu/project/mouse_rostral_brain/study/ITSpatial/DMRAnalysis/AggLayerDMR/IT-L6/MotifScan.h5adtemp/MA0461.2.meme, N motif total=32800\n"
     ]
    },
    {
     "name": "stderr",
     "output_type": "stream",
     "text": [
      "/home/hanliu/miniconda3/envs/clustering/lib/python3.7/site-packages/ALLCools/dmr/fimo.py:60: FutureWarning: to_msgpack is deprecated and will be removed in a future version.\n",
      "It is recommended to use pyarrow for on-the-wire transmission of pandas objects.\n",
      "  final_df.to_msgpack(output_path, compress='zlib')\n"
     ]
    },
    {
     "name": "stdout",
     "output_type": "stream",
     "text": [
      "/home/hanliu/project/mouse_rostral_brain/study/ITSpatial/DMRAnalysis/AggLayerDMR/IT-L6/MotifScan.h5adtemp/MA1634.1.meme, N motif total=61551\n"
     ]
    },
    {
     "name": "stderr",
     "output_type": "stream",
     "text": [
      "/home/hanliu/miniconda3/envs/clustering/lib/python3.7/site-packages/ALLCools/dmr/fimo.py:60: FutureWarning: to_msgpack is deprecated and will be removed in a future version.\n",
      "It is recommended to use pyarrow for on-the-wire transmission of pandas objects.\n",
      "  final_df.to_msgpack(output_path, compress='zlib')\n"
     ]
    },
    {
     "name": "stdout",
     "output_type": "stream",
     "text": [
      "/home/hanliu/project/mouse_rostral_brain/study/ITSpatial/DMRAnalysis/AggLayerDMR/IT-L6/MotifScan.h5adtemp/MA1468.1.meme, N motif total=34144\n"
     ]
    },
    {
     "name": "stderr",
     "output_type": "stream",
     "text": [
      "/home/hanliu/miniconda3/envs/clustering/lib/python3.7/site-packages/ALLCools/dmr/fimo.py:60: FutureWarning: to_msgpack is deprecated and will be removed in a future version.\n",
      "It is recommended to use pyarrow for on-the-wire transmission of pandas objects.\n",
      "  final_df.to_msgpack(output_path, compress='zlib')\n"
     ]
    },
    {
     "name": "stdout",
     "output_type": "stream",
     "text": [
      "/home/hanliu/project/mouse_rostral_brain/study/ITSpatial/DMRAnalysis/AggLayerDMR/IT-L6/MotifScan.h5adtemp/MA0462.2.meme, N motif total=60942\n"
     ]
    },
    {
     "name": "stderr",
     "output_type": "stream",
     "text": [
      "/home/hanliu/miniconda3/envs/clustering/lib/python3.7/site-packages/ALLCools/dmr/fimo.py:60: FutureWarning: to_msgpack is deprecated and will be removed in a future version.\n",
      "It is recommended to use pyarrow for on-the-wire transmission of pandas objects.\n",
      "  final_df.to_msgpack(output_path, compress='zlib')\n"
     ]
    },
    {
     "name": "stdout",
     "output_type": "stream",
     "text": [
      "/home/hanliu/project/mouse_rostral_brain/study/ITSpatial/DMRAnalysis/AggLayerDMR/IT-L6/MotifScan.h5adtemp/MA1464.1.meme, N motif total=16405\n"
     ]
    },
    {
     "name": "stderr",
     "output_type": "stream",
     "text": [
      "/home/hanliu/miniconda3/envs/clustering/lib/python3.7/site-packages/ALLCools/dmr/fimo.py:60: FutureWarning: to_msgpack is deprecated and will be removed in a future version.\n",
      "It is recommended to use pyarrow for on-the-wire transmission of pandas objects.\n",
      "  final_df.to_msgpack(output_path, compress='zlib')\n"
     ]
    },
    {
     "name": "stdout",
     "output_type": "stream",
     "text": [
      "/home/hanliu/project/mouse_rostral_brain/study/ITSpatial/DMRAnalysis/AggLayerDMR/IT-L6/MotifScan.h5adtemp/MA0634.1.meme, N motif total=13572\n"
     ]
    },
    {
     "name": "stderr",
     "output_type": "stream",
     "text": [
      "/home/hanliu/miniconda3/envs/clustering/lib/python3.7/site-packages/ALLCools/dmr/fimo.py:60: FutureWarning: to_msgpack is deprecated and will be removed in a future version.\n",
      "It is recommended to use pyarrow for on-the-wire transmission of pandas objects.\n",
      "  final_df.to_msgpack(output_path, compress='zlib')\n"
     ]
    },
    {
     "name": "stdout",
     "output_type": "stream",
     "text": [
      "/home/hanliu/project/mouse_rostral_brain/study/ITSpatial/DMRAnalysis/AggLayerDMR/IT-L6/MotifScan.h5adtemp/MA1471.1.meme, N motif total=15680\n"
     ]
    },
    {
     "name": "stderr",
     "output_type": "stream",
     "text": [
      "/home/hanliu/miniconda3/envs/clustering/lib/python3.7/site-packages/ALLCools/dmr/fimo.py:60: FutureWarning: to_msgpack is deprecated and will be removed in a future version.\n",
      "It is recommended to use pyarrow for on-the-wire transmission of pandas objects.\n",
      "  final_df.to_msgpack(output_path, compress='zlib')\n"
     ]
    },
    {
     "name": "stdout",
     "output_type": "stream",
     "text": [
      "/home/hanliu/project/mouse_rostral_brain/study/ITSpatial/DMRAnalysis/AggLayerDMR/IT-L6/MotifScan.h5adtemp/MA0605.2.meme, N motif total=14862\n"
     ]
    },
    {
     "name": "stderr",
     "output_type": "stream",
     "text": [
      "/home/hanliu/miniconda3/envs/clustering/lib/python3.7/site-packages/ALLCools/dmr/fimo.py:60: FutureWarning: to_msgpack is deprecated and will be removed in a future version.\n",
      "It is recommended to use pyarrow for on-the-wire transmission of pandas objects.\n",
      "  final_df.to_msgpack(output_path, compress='zlib')\n"
     ]
    },
    {
     "name": "stdout",
     "output_type": "stream",
     "text": [
      "/home/hanliu/project/mouse_rostral_brain/study/ITSpatial/DMRAnalysis/AggLayerDMR/IT-L6/MotifScan.h5adtemp/MA1100.2.meme, N motif total=62641\n"
     ]
    },
    {
     "name": "stderr",
     "output_type": "stream",
     "text": [
      "/home/hanliu/miniconda3/envs/clustering/lib/python3.7/site-packages/ALLCools/dmr/fimo.py:60: FutureWarning: to_msgpack is deprecated and will be removed in a future version.\n",
      "It is recommended to use pyarrow for on-the-wire transmission of pandas objects.\n",
      "  final_df.to_msgpack(output_path, compress='zlib')\n"
     ]
    },
    {
     "name": "stdout",
     "output_type": "stream",
     "text": [
      "/home/hanliu/project/mouse_rostral_brain/study/ITSpatial/DMRAnalysis/AggLayerDMR/IT-L6/MotifScan.h5adtemp/MA0816.1.meme, N motif total=70242\n"
     ]
    },
    {
     "name": "stderr",
     "output_type": "stream",
     "text": [
      "/home/hanliu/miniconda3/envs/clustering/lib/python3.7/site-packages/ALLCools/dmr/fimo.py:60: FutureWarning: to_msgpack is deprecated and will be removed in a future version.\n",
      "It is recommended to use pyarrow for on-the-wire transmission of pandas objects.\n",
      "  final_df.to_msgpack(output_path, compress='zlib')\n"
     ]
    },
    {
     "name": "stdout",
     "output_type": "stream",
     "text": [
      "/home/hanliu/project/mouse_rostral_brain/study/ITSpatial/DMRAnalysis/AggLayerDMR/IT-L6/MotifScan.h5adtemp/MA1466.1.meme, N motif total=5215\n"
     ]
    },
    {
     "name": "stderr",
     "output_type": "stream",
     "text": [
      "/home/hanliu/miniconda3/envs/clustering/lib/python3.7/site-packages/ALLCools/dmr/fimo.py:60: FutureWarning: to_msgpack is deprecated and will be removed in a future version.\n",
      "It is recommended to use pyarrow for on-the-wire transmission of pandas objects.\n",
      "  final_df.to_msgpack(output_path, compress='zlib')\n"
     ]
    },
    {
     "name": "stdout",
     "output_type": "stream",
     "text": [
      "/home/hanliu/project/mouse_rostral_brain/study/ITSpatial/DMRAnalysis/AggLayerDMR/IT-L6/MotifScan.h5adtemp/MA1467.1.meme, N motif total=62006\n"
     ]
    },
    {
     "name": "stderr",
     "output_type": "stream",
     "text": [
      "/home/hanliu/miniconda3/envs/clustering/lib/python3.7/site-packages/ALLCools/dmr/fimo.py:60: FutureWarning: to_msgpack is deprecated and will be removed in a future version.\n",
      "It is recommended to use pyarrow for on-the-wire transmission of pandas objects.\n",
      "  final_df.to_msgpack(output_path, compress='zlib')\n"
     ]
    },
    {
     "name": "stdout",
     "output_type": "stream",
     "text": [
      "/home/hanliu/project/mouse_rostral_brain/study/ITSpatial/DMRAnalysis/AggLayerDMR/IT-L6/MotifScan.h5adtemp/MA1631.1.meme, N motif total=50579\n"
     ]
    },
    {
     "name": "stderr",
     "output_type": "stream",
     "text": [
      "/home/hanliu/miniconda3/envs/clustering/lib/python3.7/site-packages/ALLCools/dmr/fimo.py:60: FutureWarning: to_msgpack is deprecated and will be removed in a future version.\n",
      "It is recommended to use pyarrow for on-the-wire transmission of pandas objects.\n",
      "  final_df.to_msgpack(output_path, compress='zlib')\n"
     ]
    },
    {
     "name": "stdout",
     "output_type": "stream",
     "text": [
      "/home/hanliu/project/mouse_rostral_brain/study/ITSpatial/DMRAnalysis/AggLayerDMR/IT-L6/MotifScan.h5adtemp/MA0602.1.meme, N motif total=16218\n"
     ]
    },
    {
     "name": "stderr",
     "output_type": "stream",
     "text": [
      "/home/hanliu/miniconda3/envs/clustering/lib/python3.7/site-packages/ALLCools/dmr/fimo.py:60: FutureWarning: to_msgpack is deprecated and will be removed in a future version.\n",
      "It is recommended to use pyarrow for on-the-wire transmission of pandas objects.\n",
      "  final_df.to_msgpack(output_path, compress='zlib')\n"
     ]
    },
    {
     "name": "stdout",
     "output_type": "stream",
     "text": [
      "/home/hanliu/project/mouse_rostral_brain/study/ITSpatial/DMRAnalysis/AggLayerDMR/IT-L6/MotifScan.h5adtemp/MA1632.1.meme, N motif total=25878\n"
     ]
    },
    {
     "name": "stderr",
     "output_type": "stream",
     "text": [
      "/home/hanliu/miniconda3/envs/clustering/lib/python3.7/site-packages/ALLCools/dmr/fimo.py:60: FutureWarning: to_msgpack is deprecated and will be removed in a future version.\n",
      "It is recommended to use pyarrow for on-the-wire transmission of pandas objects.\n",
      "  final_df.to_msgpack(output_path, compress='zlib')\n"
     ]
    },
    {
     "name": "stdout",
     "output_type": "stream",
     "text": [
      "/home/hanliu/project/mouse_rostral_brain/study/ITSpatial/DMRAnalysis/AggLayerDMR/IT-L6/MotifScan.h5adtemp/MA0463.2.meme, N motif total=26166\n"
     ]
    },
    {
     "name": "stderr",
     "output_type": "stream",
     "text": [
      "/home/hanliu/miniconda3/envs/clustering/lib/python3.7/site-packages/ALLCools/dmr/fimo.py:60: FutureWarning: to_msgpack is deprecated and will be removed in a future version.\n",
      "It is recommended to use pyarrow for on-the-wire transmission of pandas objects.\n",
      "  final_df.to_msgpack(output_path, compress='zlib')\n"
     ]
    },
    {
     "name": "stdout",
     "output_type": "stream",
     "text": [
      "/home/hanliu/project/mouse_rostral_brain/study/ITSpatial/DMRAnalysis/AggLayerDMR/IT-L6/MotifScan.h5adtemp/MA0833.2.meme, N motif total=19624\n"
     ]
    },
    {
     "name": "stderr",
     "output_type": "stream",
     "text": [
      "/home/hanliu/miniconda3/envs/clustering/lib/python3.7/site-packages/ALLCools/dmr/fimo.py:60: FutureWarning: to_msgpack is deprecated and will be removed in a future version.\n",
      "It is recommended to use pyarrow for on-the-wire transmission of pandas objects.\n",
      "  final_df.to_msgpack(output_path, compress='zlib')\n"
     ]
    },
    {
     "name": "stdout",
     "output_type": "stream",
     "text": [
      "/home/hanliu/project/mouse_rostral_brain/study/ITSpatial/DMRAnalysis/AggLayerDMR/IT-L6/MotifScan.h5adtemp/MA1633.1.meme, N motif total=64383\n"
     ]
    },
    {
     "name": "stderr",
     "output_type": "stream",
     "text": [
      "/home/hanliu/miniconda3/envs/clustering/lib/python3.7/site-packages/ALLCools/dmr/fimo.py:60: FutureWarning: to_msgpack is deprecated and will be removed in a future version.\n",
      "It is recommended to use pyarrow for on-the-wire transmission of pandas objects.\n",
      "  final_df.to_msgpack(output_path, compress='zlib')\n"
     ]
    },
    {
     "name": "stdout",
     "output_type": "stream",
     "text": [
      "/home/hanliu/project/mouse_rostral_brain/study/ITSpatial/DMRAnalysis/AggLayerDMR/IT-L6/MotifScan.h5adtemp/MA0731.1.meme, N motif total=258\n"
     ]
    },
    {
     "name": "stderr",
     "output_type": "stream",
     "text": [
      "/home/hanliu/miniconda3/envs/clustering/lib/python3.7/site-packages/ALLCools/dmr/fimo.py:60: FutureWarning: to_msgpack is deprecated and will be removed in a future version.\n",
      "It is recommended to use pyarrow for on-the-wire transmission of pandas objects.\n",
      "  final_df.to_msgpack(output_path, compress='zlib')\n"
     ]
    },
    {
     "name": "stdout",
     "output_type": "stream",
     "text": [
      "/home/hanliu/project/mouse_rostral_brain/study/ITSpatial/DMRAnalysis/AggLayerDMR/IT-L6/MotifScan.h5adtemp/MA0007.3.meme, N motif total=20771\n"
     ]
    },
    {
     "name": "stderr",
     "output_type": "stream",
     "text": [
      "/home/hanliu/miniconda3/envs/clustering/lib/python3.7/site-packages/ALLCools/dmr/fimo.py:60: FutureWarning: to_msgpack is deprecated and will be removed in a future version.\n",
      "It is recommended to use pyarrow for on-the-wire transmission of pandas objects.\n",
      "  final_df.to_msgpack(output_path, compress='zlib')\n"
     ]
    },
    {
     "name": "stdout",
     "output_type": "stream",
     "text": [
      "/home/hanliu/project/mouse_rostral_brain/study/ITSpatial/DMRAnalysis/AggLayerDMR/IT-L6/MotifScan.h5adtemp/MA0591.1.meme, N motif total=43872\n"
     ]
    },
    {
     "name": "stderr",
     "output_type": "stream",
     "text": [
      "/home/hanliu/miniconda3/envs/clustering/lib/python3.7/site-packages/ALLCools/dmr/fimo.py:60: FutureWarning: to_msgpack is deprecated and will be removed in a future version.\n",
      "It is recommended to use pyarrow for on-the-wire transmission of pandas objects.\n",
      "  final_df.to_msgpack(output_path, compress='zlib')\n"
     ]
    },
    {
     "name": "stdout",
     "output_type": "stream",
     "text": [
      "/home/hanliu/project/mouse_rostral_brain/study/ITSpatial/DMRAnalysis/AggLayerDMR/IT-L6/MotifScan.h5adtemp/MA0834.1.meme, N motif total=14085\n"
     ]
    },
    {
     "name": "stderr",
     "output_type": "stream",
     "text": [
      "/home/hanliu/miniconda3/envs/clustering/lib/python3.7/site-packages/ALLCools/dmr/fimo.py:60: FutureWarning: to_msgpack is deprecated and will be removed in a future version.\n",
      "It is recommended to use pyarrow for on-the-wire transmission of pandas objects.\n",
      "  final_df.to_msgpack(output_path, compress='zlib')\n"
     ]
    },
    {
     "name": "stdout",
     "output_type": "stream",
     "text": [
      "/home/hanliu/project/mouse_rostral_brain/study/ITSpatial/DMRAnalysis/AggLayerDMR/IT-L6/MotifScan.h5adtemp/MA0853.1.meme, N motif total=9473\n"
     ]
    },
    {
     "name": "stderr",
     "output_type": "stream",
     "text": [
      "/home/hanliu/miniconda3/envs/clustering/lib/python3.7/site-packages/ALLCools/dmr/fimo.py:60: FutureWarning: to_msgpack is deprecated and will be removed in a future version.\n",
      "It is recommended to use pyarrow for on-the-wire transmission of pandas objects.\n",
      "  final_df.to_msgpack(output_path, compress='zlib')\n"
     ]
    },
    {
     "name": "stdout",
     "output_type": "stream",
     "text": [
      "/home/hanliu/project/mouse_rostral_brain/study/ITSpatial/DMRAnalysis/AggLayerDMR/IT-L6/MotifScan.h5adtemp/MA0854.1.meme, N motif total=9922\n"
     ]
    },
    {
     "name": "stderr",
     "output_type": "stream",
     "text": [
      "/home/hanliu/miniconda3/envs/clustering/lib/python3.7/site-packages/ALLCools/dmr/fimo.py:60: FutureWarning: to_msgpack is deprecated and will be removed in a future version.\n",
      "It is recommended to use pyarrow for on-the-wire transmission of pandas objects.\n",
      "  final_df.to_msgpack(output_path, compress='zlib')\n"
     ]
    },
    {
     "name": "stdout",
     "output_type": "stream",
     "text": [
      "/home/hanliu/project/mouse_rostral_brain/study/ITSpatial/DMRAnalysis/AggLayerDMR/IT-L6/MotifScan.h5adtemp/MA1101.2.meme, N motif total=46154\n"
     ]
    },
    {
     "name": "stderr",
     "output_type": "stream",
     "text": [
      "/home/hanliu/miniconda3/envs/clustering/lib/python3.7/site-packages/ALLCools/dmr/fimo.py:60: FutureWarning: to_msgpack is deprecated and will be removed in a future version.\n",
      "It is recommended to use pyarrow for on-the-wire transmission of pandas objects.\n",
      "  final_df.to_msgpack(output_path, compress='zlib')\n"
     ]
    },
    {
     "name": "stdout",
     "output_type": "stream",
     "text": [
      "/home/hanliu/project/mouse_rostral_brain/study/ITSpatial/DMRAnalysis/AggLayerDMR/IT-L6/MotifScan.h5adtemp/MA1470.1.meme, N motif total=1707\n"
     ]
    },
    {
     "name": "stderr",
     "output_type": "stream",
     "text": [
      "/home/hanliu/miniconda3/envs/clustering/lib/python3.7/site-packages/ALLCools/dmr/fimo.py:60: FutureWarning: to_msgpack is deprecated and will be removed in a future version.\n",
      "It is recommended to use pyarrow for on-the-wire transmission of pandas objects.\n",
      "  final_df.to_msgpack(output_path, compress='zlib')\n"
     ]
    },
    {
     "name": "stdout",
     "output_type": "stream",
     "text": [
      "/home/hanliu/project/mouse_rostral_brain/study/ITSpatial/DMRAnalysis/AggLayerDMR/IT-L6/MotifScan.h5adtemp/MA0874.1.meme, N motif total=10456\n"
     ]
    },
    {
     "name": "stderr",
     "output_type": "stream",
     "text": [
      "/home/hanliu/miniconda3/envs/clustering/lib/python3.7/site-packages/ALLCools/dmr/fimo.py:60: FutureWarning: to_msgpack is deprecated and will be removed in a future version.\n",
      "It is recommended to use pyarrow for on-the-wire transmission of pandas objects.\n",
      "  final_df.to_msgpack(output_path, compress='zlib')\n"
     ]
    },
    {
     "name": "stdout",
     "output_type": "stream",
     "text": [
      "/home/hanliu/project/mouse_rostral_brain/study/ITSpatial/DMRAnalysis/AggLayerDMR/IT-L6/MotifScan.h5adtemp/MA0876.1.meme, N motif total=10575\n"
     ]
    },
    {
     "name": "stderr",
     "output_type": "stream",
     "text": [
      "/home/hanliu/miniconda3/envs/clustering/lib/python3.7/site-packages/ALLCools/dmr/fimo.py:60: FutureWarning: to_msgpack is deprecated and will be removed in a future version.\n",
      "It is recommended to use pyarrow for on-the-wire transmission of pandas objects.\n",
      "  final_df.to_msgpack(output_path, compress='zlib')\n"
     ]
    },
    {
     "name": "stdout",
     "output_type": "stream",
     "text": [
      "/home/hanliu/project/mouse_rostral_brain/study/ITSpatial/DMRAnalysis/AggLayerDMR/IT-L6/MotifScan.h5adtemp/MA0818.1.meme, N motif total=23063\n"
     ]
    },
    {
     "name": "stderr",
     "output_type": "stream",
     "text": [
      "/home/hanliu/miniconda3/envs/clustering/lib/python3.7/site-packages/ALLCools/dmr/fimo.py:60: FutureWarning: to_msgpack is deprecated and will be removed in a future version.\n",
      "It is recommended to use pyarrow for on-the-wire transmission of pandas objects.\n",
      "  final_df.to_msgpack(output_path, compress='zlib')\n"
     ]
    },
    {
     "name": "stdout",
     "output_type": "stream",
     "text": [
      "/home/hanliu/project/mouse_rostral_brain/study/ITSpatial/DMRAnalysis/AggLayerDMR/IT-L6/MotifScan.h5adtemp/MA1635.1.meme, N motif total=74782\n"
     ]
    },
    {
     "name": "stderr",
     "output_type": "stream",
     "text": [
      "/home/hanliu/miniconda3/envs/clustering/lib/python3.7/site-packages/ALLCools/dmr/fimo.py:60: FutureWarning: to_msgpack is deprecated and will be removed in a future version.\n",
      "It is recommended to use pyarrow for on-the-wire transmission of pandas objects.\n",
      "  final_df.to_msgpack(output_path, compress='zlib')\n"
     ]
    },
    {
     "name": "stdout",
     "output_type": "stream",
     "text": [
      "/home/hanliu/project/mouse_rostral_brain/study/ITSpatial/DMRAnalysis/AggLayerDMR/IT-L6/MotifScan.h5adtemp/MA0636.1.meme, N motif total=13201\n"
     ]
    },
    {
     "name": "stderr",
     "output_type": "stream",
     "text": [
      "/home/hanliu/miniconda3/envs/clustering/lib/python3.7/site-packages/ALLCools/dmr/fimo.py:60: FutureWarning: to_msgpack is deprecated and will be removed in a future version.\n",
      "It is recommended to use pyarrow for on-the-wire transmission of pandas objects.\n",
      "  final_df.to_msgpack(output_path, compress='zlib')\n"
     ]
    },
    {
     "name": "stdout",
     "output_type": "stream",
     "text": [
      "/home/hanliu/project/mouse_rostral_brain/study/ITSpatial/DMRAnalysis/AggLayerDMR/IT-L6/MotifScan.h5adtemp/MA0464.2.meme, N motif total=15534\n"
     ]
    },
    {
     "name": "stderr",
     "output_type": "stream",
     "text": [
      "/home/hanliu/miniconda3/envs/clustering/lib/python3.7/site-packages/ALLCools/dmr/fimo.py:60: FutureWarning: to_msgpack is deprecated and will be removed in a future version.\n",
      "It is recommended to use pyarrow for on-the-wire transmission of pandas objects.\n",
      "  final_df.to_msgpack(output_path, compress='zlib')\n"
     ]
    },
    {
     "name": "stdout",
     "output_type": "stream",
     "text": [
      "/home/hanliu/project/mouse_rostral_brain/study/ITSpatial/DMRAnalysis/AggLayerDMR/IT-L6/MotifScan.h5adtemp/MA0878.2.meme, N motif total=19576\n"
     ]
    },
    {
     "name": "stderr",
     "output_type": "stream",
     "text": [
      "/home/hanliu/miniconda3/envs/clustering/lib/python3.7/site-packages/ALLCools/dmr/fimo.py:60: FutureWarning: to_msgpack is deprecated and will be removed in a future version.\n",
      "It is recommended to use pyarrow for on-the-wire transmission of pandas objects.\n",
      "  final_df.to_msgpack(output_path, compress='zlib')\n"
     ]
    },
    {
     "name": "stdout",
     "output_type": "stream",
     "text": [
      "/home/hanliu/project/mouse_rostral_brain/study/ITSpatial/DMRAnalysis/AggLayerDMR/IT-L6/MotifScan.h5adtemp/MA0817.1.meme, N motif total=25153\n"
     ]
    },
    {
     "name": "stderr",
     "output_type": "stream",
     "text": [
      "/home/hanliu/miniconda3/envs/clustering/lib/python3.7/site-packages/ALLCools/dmr/fimo.py:60: FutureWarning: to_msgpack is deprecated and will be removed in a future version.\n",
      "It is recommended to use pyarrow for on-the-wire transmission of pandas objects.\n",
      "  final_df.to_msgpack(output_path, compress='zlib')\n"
     ]
    },
    {
     "name": "stdout",
     "output_type": "stream",
     "text": [
      "/home/hanliu/project/mouse_rostral_brain/study/ITSpatial/DMRAnalysis/AggLayerDMR/IT-L6/MotifScan.h5adtemp/MA0466.2.meme, N motif total=5709\n"
     ]
    },
    {
     "name": "stderr",
     "output_type": "stream",
     "text": [
      "/home/hanliu/miniconda3/envs/clustering/lib/python3.7/site-packages/ALLCools/dmr/fimo.py:60: FutureWarning: to_msgpack is deprecated and will be removed in a future version.\n",
      "It is recommended to use pyarrow for on-the-wire transmission of pandas objects.\n",
      "  final_df.to_msgpack(output_path, compress='zlib')\n"
     ]
    },
    {
     "name": "stdout",
     "output_type": "stream",
     "text": [
      "/home/hanliu/project/mouse_rostral_brain/study/ITSpatial/DMRAnalysis/AggLayerDMR/IT-L6/MotifScan.h5adtemp/MA1473.1.meme, N motif total=20470\n"
     ]
    },
    {
     "name": "stderr",
     "output_type": "stream",
     "text": [
      "/home/hanliu/miniconda3/envs/clustering/lib/python3.7/site-packages/ALLCools/dmr/fimo.py:60: FutureWarning: to_msgpack is deprecated and will be removed in a future version.\n",
      "It is recommended to use pyarrow for on-the-wire transmission of pandas objects.\n",
      "  final_df.to_msgpack(output_path, compress='zlib')\n"
     ]
    },
    {
     "name": "stdout",
     "output_type": "stream",
     "text": [
      "/home/hanliu/project/mouse_rostral_brain/study/ITSpatial/DMRAnalysis/AggLayerDMR/IT-L6/MotifScan.h5adtemp/MA0465.2.meme, N motif total=27026\n"
     ]
    },
    {
     "name": "stderr",
     "output_type": "stream",
     "text": [
      "/home/hanliu/miniconda3/envs/clustering/lib/python3.7/site-packages/ALLCools/dmr/fimo.py:60: FutureWarning: to_msgpack is deprecated and will be removed in a future version.\n",
      "It is recommended to use pyarrow for on-the-wire transmission of pandas objects.\n",
      "  final_df.to_msgpack(output_path, compress='zlib')\n"
     ]
    },
    {
     "name": "stdout",
     "output_type": "stream",
     "text": [
      "/home/hanliu/project/mouse_rostral_brain/study/ITSpatial/DMRAnalysis/AggLayerDMR/IT-L6/MotifScan.h5adtemp/MA0837.1.meme, N motif total=5914\n"
     ]
    },
    {
     "name": "stderr",
     "output_type": "stream",
     "text": [
      "/home/hanliu/miniconda3/envs/clustering/lib/python3.7/site-packages/ALLCools/dmr/fimo.py:60: FutureWarning: to_msgpack is deprecated and will be removed in a future version.\n",
      "It is recommended to use pyarrow for on-the-wire transmission of pandas objects.\n",
      "  final_df.to_msgpack(output_path, compress='zlib')\n"
     ]
    },
    {
     "name": "stdout",
     "output_type": "stream",
     "text": [
      "/home/hanliu/project/mouse_rostral_brain/study/ITSpatial/DMRAnalysis/AggLayerDMR/IT-L6/MotifScan.h5adtemp/MA0102.4.meme, N motif total=17559\n"
     ]
    },
    {
     "name": "stderr",
     "output_type": "stream",
     "text": [
      "/home/hanliu/miniconda3/envs/clustering/lib/python3.7/site-packages/ALLCools/dmr/fimo.py:60: FutureWarning: to_msgpack is deprecated and will be removed in a future version.\n",
      "It is recommended to use pyarrow for on-the-wire transmission of pandas objects.\n",
      "  final_df.to_msgpack(output_path, compress='zlib')\n"
     ]
    },
    {
     "name": "stdout",
     "output_type": "stream",
     "text": [
      "/home/hanliu/project/mouse_rostral_brain/study/ITSpatial/DMRAnalysis/AggLayerDMR/IT-L6/MotifScan.h5adtemp/MA0608.1.meme, N motif total=12377\n"
     ]
    },
    {
     "name": "stderr",
     "output_type": "stream",
     "text": [
      "/home/hanliu/miniconda3/envs/clustering/lib/python3.7/site-packages/ALLCools/dmr/fimo.py:60: FutureWarning: to_msgpack is deprecated and will be removed in a future version.\n",
      "It is recommended to use pyarrow for on-the-wire transmission of pandas objects.\n",
      "  final_df.to_msgpack(output_path, compress='zlib')\n"
     ]
    },
    {
     "name": "stdout",
     "output_type": "stream",
     "text": [
      "/home/hanliu/project/mouse_rostral_brain/study/ITSpatial/DMRAnalysis/AggLayerDMR/IT-L6/MotifScan.h5adtemp/MA0836.2.meme, N motif total=17446\n"
     ]
    },
    {
     "name": "stderr",
     "output_type": "stream",
     "text": [
      "/home/hanliu/miniconda3/envs/clustering/lib/python3.7/site-packages/ALLCools/dmr/fimo.py:60: FutureWarning: to_msgpack is deprecated and will be removed in a future version.\n",
      "It is recommended to use pyarrow for on-the-wire transmission of pandas objects.\n",
      "  final_df.to_msgpack(output_path, compress='zlib')\n"
     ]
    },
    {
     "name": "stdout",
     "output_type": "stream",
     "text": [
      "/home/hanliu/project/mouse_rostral_brain/study/ITSpatial/DMRAnalysis/AggLayerDMR/IT-L6/MotifScan.h5adtemp/MA0838.1.meme, N motif total=5680\n"
     ]
    },
    {
     "name": "stderr",
     "output_type": "stream",
     "text": [
      "/home/hanliu/miniconda3/envs/clustering/lib/python3.7/site-packages/ALLCools/dmr/fimo.py:60: FutureWarning: to_msgpack is deprecated and will be removed in a future version.\n",
      "It is recommended to use pyarrow for on-the-wire transmission of pandas objects.\n",
      "  final_df.to_msgpack(output_path, compress='zlib')\n"
     ]
    },
    {
     "name": "stdout",
     "output_type": "stream",
     "text": [
      "/home/hanliu/project/mouse_rostral_brain/study/ITSpatial/DMRAnalysis/AggLayerDMR/IT-L6/MotifScan.h5adtemp/MA0819.1.meme, N motif total=22028\n"
     ]
    },
    {
     "name": "stderr",
     "output_type": "stream",
     "text": [
      "/home/hanliu/miniconda3/envs/clustering/lib/python3.7/site-packages/ALLCools/dmr/fimo.py:60: FutureWarning: to_msgpack is deprecated and will be removed in a future version.\n",
      "It is recommended to use pyarrow for on-the-wire transmission of pandas objects.\n",
      "  final_df.to_msgpack(output_path, compress='zlib')\n"
     ]
    },
    {
     "name": "stdout",
     "output_type": "stream",
     "text": [
      "/home/hanliu/project/mouse_rostral_brain/study/ITSpatial/DMRAnalysis/AggLayerDMR/IT-L6/MotifScan.h5adtemp/MA0754.1.meme, N motif total=6697\n"
     ]
    },
    {
     "name": "stderr",
     "output_type": "stream",
     "text": [
      "/home/hanliu/miniconda3/envs/clustering/lib/python3.7/site-packages/ALLCools/dmr/fimo.py:60: FutureWarning: to_msgpack is deprecated and will be removed in a future version.\n",
      "It is recommended to use pyarrow for on-the-wire transmission of pandas objects.\n",
      "  final_df.to_msgpack(output_path, compress='zlib')\n"
     ]
    },
    {
     "name": "stdout",
     "output_type": "stream",
     "text": [
      "/home/hanliu/project/mouse_rostral_brain/study/ITSpatial/DMRAnalysis/AggLayerDMR/IT-L6/MotifScan.h5adtemp/MA0467.1.meme, N motif total=20372\n"
     ]
    },
    {
     "name": "stderr",
     "output_type": "stream",
     "text": [
      "/home/hanliu/miniconda3/envs/clustering/lib/python3.7/site-packages/ALLCools/dmr/fimo.py:60: FutureWarning: to_msgpack is deprecated and will be removed in a future version.\n",
      "It is recommended to use pyarrow for on-the-wire transmission of pandas objects.\n",
      "  final_df.to_msgpack(output_path, compress='zlib')\n"
     ]
    },
    {
     "name": "stdout",
     "output_type": "stream",
     "text": [
      "/home/hanliu/project/mouse_rostral_brain/study/ITSpatial/DMRAnalysis/AggLayerDMR/IT-L6/MotifScan.h5adtemp/MA0885.1.meme, N motif total=9826\n"
     ]
    },
    {
     "name": "stderr",
     "output_type": "stream",
     "text": [
      "/home/hanliu/miniconda3/envs/clustering/lib/python3.7/site-packages/ALLCools/dmr/fimo.py:60: FutureWarning: to_msgpack is deprecated and will be removed in a future version.\n",
      "It is recommended to use pyarrow for on-the-wire transmission of pandas objects.\n",
      "  final_df.to_msgpack(output_path, compress='zlib')\n"
     ]
    },
    {
     "name": "stdout",
     "output_type": "stream",
     "text": [
      "/home/hanliu/project/mouse_rostral_brain/study/ITSpatial/DMRAnalysis/AggLayerDMR/IT-L6/MotifScan.h5adtemp/MA0881.1.meme, N motif total=8611\n"
     ]
    },
    {
     "name": "stderr",
     "output_type": "stream",
     "text": [
      "/home/hanliu/miniconda3/envs/clustering/lib/python3.7/site-packages/ALLCools/dmr/fimo.py:60: FutureWarning: to_msgpack is deprecated and will be removed in a future version.\n",
      "It is recommended to use pyarrow for on-the-wire transmission of pandas objects.\n",
      "  final_df.to_msgpack(output_path, compress='zlib')\n"
     ]
    },
    {
     "name": "stdout",
     "output_type": "stream",
     "text": [
      "/home/hanliu/project/mouse_rostral_brain/study/ITSpatial/DMRAnalysis/AggLayerDMR/IT-L6/MotifScan.h5adtemp/MA0882.1.meme, N motif total=8110\n"
     ]
    },
    {
     "name": "stderr",
     "output_type": "stream",
     "text": [
      "/home/hanliu/miniconda3/envs/clustering/lib/python3.7/site-packages/ALLCools/dmr/fimo.py:60: FutureWarning: to_msgpack is deprecated and will be removed in a future version.\n",
      "It is recommended to use pyarrow for on-the-wire transmission of pandas objects.\n",
      "  final_df.to_msgpack(output_path, compress='zlib')\n"
     ]
    },
    {
     "name": "stdout",
     "output_type": "stream",
     "text": [
      "/home/hanliu/project/mouse_rostral_brain/study/ITSpatial/DMRAnalysis/AggLayerDMR/IT-L6/MotifScan.h5adtemp/MA1475.1.meme, N motif total=10114\n"
     ]
    },
    {
     "name": "stderr",
     "output_type": "stream",
     "text": [
      "/home/hanliu/miniconda3/envs/clustering/lib/python3.7/site-packages/ALLCools/dmr/fimo.py:60: FutureWarning: to_msgpack is deprecated and will be removed in a future version.\n",
      "It is recommended to use pyarrow for on-the-wire transmission of pandas objects.\n",
      "  final_df.to_msgpack(output_path, compress='zlib')\n"
     ]
    },
    {
     "name": "stdout",
     "output_type": "stream",
     "text": [
      "/home/hanliu/project/mouse_rostral_brain/study/ITSpatial/DMRAnalysis/AggLayerDMR/IT-L6/MotifScan.h5adtemp/MA1476.1.meme, N motif total=9309\n"
     ]
    },
    {
     "name": "stderr",
     "output_type": "stream",
     "text": [
      "/home/hanliu/miniconda3/envs/clustering/lib/python3.7/site-packages/ALLCools/dmr/fimo.py:60: FutureWarning: to_msgpack is deprecated and will be removed in a future version.\n",
      "It is recommended to use pyarrow for on-the-wire transmission of pandas objects.\n",
      "  final_df.to_msgpack(output_path, compress='zlib')\n"
     ]
    },
    {
     "name": "stdout",
     "output_type": "stream",
     "text": [
      "/home/hanliu/project/mouse_rostral_brain/study/ITSpatial/DMRAnalysis/AggLayerDMR/IT-L6/MotifScan.h5adtemp/MA0018.4.meme, N motif total=31678\n"
     ]
    },
    {
     "name": "stderr",
     "output_type": "stream",
     "text": [
      "/home/hanliu/miniconda3/envs/clustering/lib/python3.7/site-packages/ALLCools/dmr/fimo.py:60: FutureWarning: to_msgpack is deprecated and will be removed in a future version.\n",
      "It is recommended to use pyarrow for on-the-wire transmission of pandas objects.\n",
      "  final_df.to_msgpack(output_path, compress='zlib')\n"
     ]
    },
    {
     "name": "stdout",
     "output_type": "stream",
     "text": [
      "/home/hanliu/project/mouse_rostral_brain/study/ITSpatial/DMRAnalysis/AggLayerDMR/IT-L6/MotifScan.h5adtemp/MA0880.1.meme, N motif total=6306\n"
     ]
    },
    {
     "name": "stderr",
     "output_type": "stream",
     "text": [
      "/home/hanliu/miniconda3/envs/clustering/lib/python3.7/site-packages/ALLCools/dmr/fimo.py:60: FutureWarning: to_msgpack is deprecated and will be removed in a future version.\n",
      "It is recommended to use pyarrow for on-the-wire transmission of pandas objects.\n",
      "  final_df.to_msgpack(output_path, compress='zlib')\n"
     ]
    },
    {
     "name": "stdout",
     "output_type": "stream",
     "text": [
      "/home/hanliu/project/mouse_rostral_brain/study/ITSpatial/DMRAnalysis/AggLayerDMR/IT-L6/MotifScan.h5adtemp/MA1474.1.meme, N motif total=11170\n"
     ]
    },
    {
     "name": "stderr",
     "output_type": "stream",
     "text": [
      "/home/hanliu/miniconda3/envs/clustering/lib/python3.7/site-packages/ALLCools/dmr/fimo.py:60: FutureWarning: to_msgpack is deprecated and will be removed in a future version.\n",
      "It is recommended to use pyarrow for on-the-wire transmission of pandas objects.\n",
      "  final_df.to_msgpack(output_path, compress='zlib')\n"
     ]
    },
    {
     "name": "stdout",
     "output_type": "stream",
     "text": [
      "/home/hanliu/project/mouse_rostral_brain/study/ITSpatial/DMRAnalysis/AggLayerDMR/IT-L6/MotifScan.h5adtemp/MA0637.1.meme, N motif total=3589\n"
     ]
    },
    {
     "name": "stderr",
     "output_type": "stream",
     "text": [
      "/home/hanliu/miniconda3/envs/clustering/lib/python3.7/site-packages/ALLCools/dmr/fimo.py:60: FutureWarning: to_msgpack is deprecated and will be removed in a future version.\n",
      "It is recommended to use pyarrow for on-the-wire transmission of pandas objects.\n",
      "  final_df.to_msgpack(output_path, compress='zlib')\n"
     ]
    },
    {
     "name": "stdout",
     "output_type": "stream",
     "text": [
      "/home/hanliu/project/mouse_rostral_brain/study/ITSpatial/DMRAnalysis/AggLayerDMR/IT-L6/MotifScan.h5adtemp/MA0879.1.meme, N motif total=8508\n"
     ]
    },
    {
     "name": "stderr",
     "output_type": "stream",
     "text": [
      "/home/hanliu/miniconda3/envs/clustering/lib/python3.7/site-packages/ALLCools/dmr/fimo.py:60: FutureWarning: to_msgpack is deprecated and will be removed in a future version.\n",
      "It is recommended to use pyarrow for on-the-wire transmission of pandas objects.\n",
      "  final_df.to_msgpack(output_path, compress='zlib')\n"
     ]
    },
    {
     "name": "stdout",
     "output_type": "stream",
     "text": [
      "/home/hanliu/project/mouse_rostral_brain/study/ITSpatial/DMRAnalysis/AggLayerDMR/IT-L6/MotifScan.h5adtemp/MA0638.1.meme, N motif total=8278\n"
     ]
    },
    {
     "name": "stderr",
     "output_type": "stream",
     "text": [
      "/home/hanliu/miniconda3/envs/clustering/lib/python3.7/site-packages/ALLCools/dmr/fimo.py:60: FutureWarning: to_msgpack is deprecated and will be removed in a future version.\n",
      "It is recommended to use pyarrow for on-the-wire transmission of pandas objects.\n",
      "  final_df.to_msgpack(output_path, compress='zlib')\n"
     ]
    },
    {
     "name": "stdout",
     "output_type": "stream",
     "text": [
      "/home/hanliu/project/mouse_rostral_brain/study/ITSpatial/DMRAnalysis/AggLayerDMR/IT-L6/MotifScan.h5adtemp/MA0839.1.meme, N motif total=12743\n"
     ]
    },
    {
     "name": "stderr",
     "output_type": "stream",
     "text": [
      "/home/hanliu/miniconda3/envs/clustering/lib/python3.7/site-packages/ALLCools/dmr/fimo.py:60: FutureWarning: to_msgpack is deprecated and will be removed in a future version.\n",
      "It is recommended to use pyarrow for on-the-wire transmission of pandas objects.\n",
      "  final_df.to_msgpack(output_path, compress='zlib')\n"
     ]
    },
    {
     "name": "stdout",
     "output_type": "stream",
     "text": [
      "/home/hanliu/project/mouse_rostral_brain/study/ITSpatial/DMRAnalysis/AggLayerDMR/IT-L6/MotifScan.h5adtemp/MA0755.1.meme, N motif total=6273\n"
     ]
    },
    {
     "name": "stderr",
     "output_type": "stream",
     "text": [
      "/home/hanliu/miniconda3/envs/clustering/lib/python3.7/site-packages/ALLCools/dmr/fimo.py:60: FutureWarning: to_msgpack is deprecated and will be removed in a future version.\n",
      "It is recommended to use pyarrow for on-the-wire transmission of pandas objects.\n",
      "  final_df.to_msgpack(output_path, compress='zlib')\n"
     ]
    },
    {
     "name": "stdout",
     "output_type": "stream",
     "text": [
      "/home/hanliu/project/mouse_rostral_brain/study/ITSpatial/DMRAnalysis/AggLayerDMR/IT-L6/MotifScan.h5adtemp/MA0840.1.meme, N motif total=15480\n"
     ]
    },
    {
     "name": "stderr",
     "output_type": "stream",
     "text": [
      "/home/hanliu/miniconda3/envs/clustering/lib/python3.7/site-packages/ALLCools/dmr/fimo.py:60: FutureWarning: to_msgpack is deprecated and will be removed in a future version.\n",
      "It is recommended to use pyarrow for on-the-wire transmission of pandas objects.\n",
      "  final_df.to_msgpack(output_path, compress='zlib')\n"
     ]
    },
    {
     "name": "stdout",
     "output_type": "stream",
     "text": [
      "/home/hanliu/project/mouse_rostral_brain/study/ITSpatial/DMRAnalysis/AggLayerDMR/IT-L6/MotifScan.h5adtemp/MA1636.1.meme, N motif total=19401\n"
     ]
    },
    {
     "name": "stderr",
     "output_type": "stream",
     "text": [
      "/home/hanliu/miniconda3/envs/clustering/lib/python3.7/site-packages/ALLCools/dmr/fimo.py:60: FutureWarning: to_msgpack is deprecated and will be removed in a future version.\n",
      "It is recommended to use pyarrow for on-the-wire transmission of pandas objects.\n",
      "  final_df.to_msgpack(output_path, compress='zlib')\n"
     ]
    },
    {
     "name": "stdout",
     "output_type": "stream",
     "text": [
      "/home/hanliu/project/mouse_rostral_brain/study/ITSpatial/DMRAnalysis/AggLayerDMR/IT-L6/MotifScan.h5adtemp/MA1102.2.meme, N motif total=30962\n"
     ]
    },
    {
     "name": "stderr",
     "output_type": "stream",
     "text": [
      "/home/hanliu/miniconda3/envs/clustering/lib/python3.7/site-packages/ALLCools/dmr/fimo.py:60: FutureWarning: to_msgpack is deprecated and will be removed in a future version.\n",
      "It is recommended to use pyarrow for on-the-wire transmission of pandas objects.\n",
      "  final_df.to_msgpack(output_path, compress='zlib')\n"
     ]
    },
    {
     "name": "stdout",
     "output_type": "stream",
     "text": [
      "/home/hanliu/project/mouse_rostral_brain/study/ITSpatial/DMRAnalysis/AggLayerDMR/IT-L6/MotifScan.h5adtemp/MA0639.1.meme, N motif total=11985\n"
     ]
    },
    {
     "name": "stderr",
     "output_type": "stream",
     "text": [
      "/home/hanliu/miniconda3/envs/clustering/lib/python3.7/site-packages/ALLCools/dmr/fimo.py:60: FutureWarning: to_msgpack is deprecated and will be removed in a future version.\n",
      "It is recommended to use pyarrow for on-the-wire transmission of pandas objects.\n",
      "  final_df.to_msgpack(output_path, compress='zlib')\n"
     ]
    },
    {
     "name": "stdout",
     "output_type": "stream",
     "text": [
      "/home/hanliu/project/mouse_rostral_brain/study/ITSpatial/DMRAnalysis/AggLayerDMR/IT-L6/MotifScan.h5adtemp/MA0019.1.meme, N motif total=17052\n"
     ]
    },
    {
     "name": "stderr",
     "output_type": "stream",
     "text": [
      "/home/hanliu/miniconda3/envs/clustering/lib/python3.7/site-packages/ALLCools/dmr/fimo.py:60: FutureWarning: to_msgpack is deprecated and will be removed in a future version.\n",
      "It is recommended to use pyarrow for on-the-wire transmission of pandas objects.\n",
      "  final_df.to_msgpack(output_path, compress='zlib')\n"
     ]
    },
    {
     "name": "stdout",
     "output_type": "stream",
     "text": [
      "/home/hanliu/project/mouse_rostral_brain/study/ITSpatial/DMRAnalysis/AggLayerDMR/IT-L6/MotifScan.h5adtemp/MA0609.2.meme, N motif total=21393\n"
     ]
    },
    {
     "name": "stderr",
     "output_type": "stream",
     "text": [
      "/home/hanliu/miniconda3/envs/clustering/lib/python3.7/site-packages/ALLCools/dmr/fimo.py:60: FutureWarning: to_msgpack is deprecated and will be removed in a future version.\n",
      "It is recommended to use pyarrow for on-the-wire transmission of pandas objects.\n",
      "  final_df.to_msgpack(output_path, compress='zlib')\n"
     ]
    },
    {
     "name": "stdout",
     "output_type": "stream",
     "text": [
      "/home/hanliu/project/mouse_rostral_brain/study/ITSpatial/DMRAnalysis/AggLayerDMR/IT-L6/MotifScan.h5adtemp/MA0139.1.meme, N motif total=42604\n"
     ]
    },
    {
     "name": "stderr",
     "output_type": "stream",
     "text": [
      "/home/hanliu/miniconda3/envs/clustering/lib/python3.7/site-packages/ALLCools/dmr/fimo.py:60: FutureWarning: to_msgpack is deprecated and will be removed in a future version.\n",
      "It is recommended to use pyarrow for on-the-wire transmission of pandas objects.\n",
      "  final_df.to_msgpack(output_path, compress='zlib')\n"
     ]
    },
    {
     "name": "stdout",
     "output_type": "stream",
     "text": [
      "/home/hanliu/project/mouse_rostral_brain/study/ITSpatial/DMRAnalysis/AggLayerDMR/IT-L6/MotifScan.h5adtemp/MA0883.1.meme, N motif total=10393\n"
     ]
    },
    {
     "name": "stderr",
     "output_type": "stream",
     "text": [
      "/home/hanliu/miniconda3/envs/clustering/lib/python3.7/site-packages/ALLCools/dmr/fimo.py:60: FutureWarning: to_msgpack is deprecated and will be removed in a future version.\n",
      "It is recommended to use pyarrow for on-the-wire transmission of pandas objects.\n",
      "  final_df.to_msgpack(output_path, compress='zlib')\n"
     ]
    },
    {
     "name": "stdout",
     "output_type": "stream",
     "text": [
      "/home/hanliu/project/mouse_rostral_brain/study/ITSpatial/DMRAnalysis/AggLayerDMR/IT-L6/MotifScan.h5adtemp/MA1603.1.meme, N motif total=25423\n"
     ]
    },
    {
     "name": "stderr",
     "output_type": "stream",
     "text": [
      "/home/hanliu/miniconda3/envs/clustering/lib/python3.7/site-packages/ALLCools/dmr/fimo.py:60: FutureWarning: to_msgpack is deprecated and will be removed in a future version.\n",
      "It is recommended to use pyarrow for on-the-wire transmission of pandas objects.\n",
      "  final_df.to_msgpack(output_path, compress='zlib')\n"
     ]
    },
    {
     "name": "stdout",
     "output_type": "stream",
     "text": [
      "/home/hanliu/project/mouse_rostral_brain/study/ITSpatial/DMRAnalysis/AggLayerDMR/IT-L6/MotifScan.h5adtemp/MA0610.1.meme, N motif total=17646\n"
     ]
    },
    {
     "name": "stderr",
     "output_type": "stream",
     "text": [
      "/home/hanliu/miniconda3/envs/clustering/lib/python3.7/site-packages/ALLCools/dmr/fimo.py:60: FutureWarning: to_msgpack is deprecated and will be removed in a future version.\n",
      "It is recommended to use pyarrow for on-the-wire transmission of pandas objects.\n",
      "  final_df.to_msgpack(output_path, compress='zlib')\n"
     ]
    },
    {
     "name": "stdout",
     "output_type": "stream",
     "text": [
      "/home/hanliu/project/mouse_rostral_brain/study/ITSpatial/DMRAnalysis/AggLayerDMR/IT-L6/MotifScan.h5adtemp/MA1481.1.meme, N motif total=7136\n"
     ]
    },
    {
     "name": "stderr",
     "output_type": "stream",
     "text": [
      "/home/hanliu/miniconda3/envs/clustering/lib/python3.7/site-packages/ALLCools/dmr/fimo.py:60: FutureWarning: to_msgpack is deprecated and will be removed in a future version.\n",
      "It is recommended to use pyarrow for on-the-wire transmission of pandas objects.\n",
      "  final_df.to_msgpack(output_path, compress='zlib')\n"
     ]
    },
    {
     "name": "stdout",
     "output_type": "stream",
     "text": [
      "/home/hanliu/project/mouse_rostral_brain/study/ITSpatial/DMRAnalysis/AggLayerDMR/IT-L6/MotifScan.h5adtemp/MA1478.1.meme, N motif total=17578\n"
     ]
    },
    {
     "name": "stderr",
     "output_type": "stream",
     "text": [
      "/home/hanliu/miniconda3/envs/clustering/lib/python3.7/site-packages/ALLCools/dmr/fimo.py:60: FutureWarning: to_msgpack is deprecated and will be removed in a future version.\n",
      "It is recommended to use pyarrow for on-the-wire transmission of pandas objects.\n",
      "  final_df.to_msgpack(output_path, compress='zlib')\n"
     ]
    },
    {
     "name": "stdout",
     "output_type": "stream",
     "text": [
      "/home/hanliu/project/mouse_rostral_brain/study/ITSpatial/DMRAnalysis/AggLayerDMR/IT-L6/MotifScan.h5adtemp/MA0024.3.meme, N motif total=3843\n"
     ]
    },
    {
     "name": "stderr",
     "output_type": "stream",
     "text": [
      "/home/hanliu/miniconda3/envs/clustering/lib/python3.7/site-packages/ALLCools/dmr/fimo.py:60: FutureWarning: to_msgpack is deprecated and will be removed in a future version.\n",
      "It is recommended to use pyarrow for on-the-wire transmission of pandas objects.\n",
      "  final_df.to_msgpack(output_path, compress='zlib')\n"
     ]
    },
    {
     "name": "stdout",
     "output_type": "stream",
     "text": [
      "/home/hanliu/project/mouse_rostral_brain/study/ITSpatial/DMRAnalysis/AggLayerDMR/IT-L6/MotifScan.h5adtemp/MA1479.1.meme, N motif total=20524\n"
     ]
    },
    {
     "name": "stderr",
     "output_type": "stream",
     "text": [
      "/home/hanliu/miniconda3/envs/clustering/lib/python3.7/site-packages/ALLCools/dmr/fimo.py:60: FutureWarning: to_msgpack is deprecated and will be removed in a future version.\n",
      "It is recommended to use pyarrow for on-the-wire transmission of pandas objects.\n",
      "  final_df.to_msgpack(output_path, compress='zlib')\n"
     ]
    },
    {
     "name": "stdout",
     "output_type": "stream",
     "text": [
      "/home/hanliu/project/mouse_rostral_brain/study/ITSpatial/DMRAnalysis/AggLayerDMR/IT-L6/MotifScan.h5adtemp/MA0470.2.meme, N motif total=2551\n"
     ]
    },
    {
     "name": "stderr",
     "output_type": "stream",
     "text": [
      "/home/hanliu/miniconda3/envs/clustering/lib/python3.7/site-packages/ALLCools/dmr/fimo.py:60: FutureWarning: to_msgpack is deprecated and will be removed in a future version.\n",
      "It is recommended to use pyarrow for on-the-wire transmission of pandas objects.\n",
      "  final_df.to_msgpack(output_path, compress='zlib')\n"
     ]
    },
    {
     "name": "stdout",
     "output_type": "stream",
     "text": [
      "/home/hanliu/project/mouse_rostral_brain/study/ITSpatial/DMRAnalysis/AggLayerDMR/IT-L6/MotifScan.h5adtemp/MA0864.2.meme, N motif total=2834\n"
     ]
    },
    {
     "name": "stderr",
     "output_type": "stream",
     "text": [
      "/home/hanliu/miniconda3/envs/clustering/lib/python3.7/site-packages/ALLCools/dmr/fimo.py:60: FutureWarning: to_msgpack is deprecated and will be removed in a future version.\n",
      "It is recommended to use pyarrow for on-the-wire transmission of pandas objects.\n",
      "  final_df.to_msgpack(output_path, compress='zlib')\n"
     ]
    },
    {
     "name": "stdout",
     "output_type": "stream",
     "text": [
      "/home/hanliu/project/mouse_rostral_brain/study/ITSpatial/DMRAnalysis/AggLayerDMR/IT-L6/MotifScan.h5adtemp/MA0612.2.meme, N motif total=7414\n"
     ]
    },
    {
     "name": "stderr",
     "output_type": "stream",
     "text": [
      "/home/hanliu/miniconda3/envs/clustering/lib/python3.7/site-packages/ALLCools/dmr/fimo.py:60: FutureWarning: to_msgpack is deprecated and will be removed in a future version.\n",
      "It is recommended to use pyarrow for on-the-wire transmission of pandas objects.\n",
      "  final_df.to_msgpack(output_path, compress='zlib')\n"
     ]
    },
    {
     "name": "stdout",
     "output_type": "stream",
     "text": [
      "/home/hanliu/project/mouse_rostral_brain/study/ITSpatial/DMRAnalysis/AggLayerDMR/IT-L6/MotifScan.h5adtemp/MA0471.2.meme, N motif total=62761\n"
     ]
    },
    {
     "name": "stderr",
     "output_type": "stream",
     "text": [
      "/home/hanliu/miniconda3/envs/clustering/lib/python3.7/site-packages/ALLCools/dmr/fimo.py:60: FutureWarning: to_msgpack is deprecated and will be removed in a future version.\n",
      "It is recommended to use pyarrow for on-the-wire transmission of pandas objects.\n",
      "  final_df.to_msgpack(output_path, compress='zlib')\n"
     ]
    },
    {
     "name": "stdout",
     "output_type": "stream",
     "text": [
      "/home/hanliu/project/mouse_rostral_brain/study/ITSpatial/DMRAnalysis/AggLayerDMR/IT-L6/MotifScan.h5adtemp/MA0027.2.meme, N motif total=8734\n"
     ]
    },
    {
     "name": "stderr",
     "output_type": "stream",
     "text": [
      "/home/hanliu/miniconda3/envs/clustering/lib/python3.7/site-packages/ALLCools/dmr/fimo.py:60: FutureWarning: to_msgpack is deprecated and will be removed in a future version.\n",
      "It is recommended to use pyarrow for on-the-wire transmission of pandas objects.\n",
      "  final_df.to_msgpack(output_path, compress='zlib')\n"
     ]
    },
    {
     "name": "stdout",
     "output_type": "stream",
     "text": [
      "/home/hanliu/project/mouse_rostral_brain/study/ITSpatial/DMRAnalysis/AggLayerDMR/IT-L6/MotifScan.h5adtemp/MA0865.1.meme, N motif total=9978\n"
     ]
    },
    {
     "name": "stderr",
     "output_type": "stream",
     "text": [
      "/home/hanliu/miniconda3/envs/clustering/lib/python3.7/site-packages/ALLCools/dmr/fimo.py:60: FutureWarning: to_msgpack is deprecated and will be removed in a future version.\n",
      "It is recommended to use pyarrow for on-the-wire transmission of pandas objects.\n",
      "  final_df.to_msgpack(output_path, compress='zlib')\n"
     ]
    },
    {
     "name": "stdout",
     "output_type": "stream",
     "text": [
      "/home/hanliu/project/mouse_rostral_brain/study/ITSpatial/DMRAnalysis/AggLayerDMR/IT-L6/MotifScan.h5adtemp/MA0472.2.meme, N motif total=17966\n"
     ]
    },
    {
     "name": "stderr",
     "output_type": "stream",
     "text": [
      "/home/hanliu/miniconda3/envs/clustering/lib/python3.7/site-packages/ALLCools/dmr/fimo.py:60: FutureWarning: to_msgpack is deprecated and will be removed in a future version.\n",
      "It is recommended to use pyarrow for on-the-wire transmission of pandas objects.\n",
      "  final_df.to_msgpack(output_path, compress='zlib')\n"
     ]
    },
    {
     "name": "stdout",
     "output_type": "stream",
     "text": [
      "/home/hanliu/project/mouse_rostral_brain/study/ITSpatial/DMRAnalysis/AggLayerDMR/IT-L6/MotifScan.h5adtemp/MA0469.3.meme, N motif total=1235\n"
     ]
    },
    {
     "name": "stderr",
     "output_type": "stream",
     "text": [
      "/home/hanliu/miniconda3/envs/clustering/lib/python3.7/site-packages/ALLCools/dmr/fimo.py:60: FutureWarning: to_msgpack is deprecated and will be removed in a future version.\n",
      "It is recommended to use pyarrow for on-the-wire transmission of pandas objects.\n",
      "  final_df.to_msgpack(output_path, compress='zlib')\n"
     ]
    },
    {
     "name": "stdout",
     "output_type": "stream",
     "text": [
      "/home/hanliu/project/mouse_rostral_brain/study/ITSpatial/DMRAnalysis/AggLayerDMR/IT-L6/MotifScan.h5adtemp/MA0758.1.meme, N motif total=687\n"
     ]
    },
    {
     "name": "stderr",
     "output_type": "stream",
     "text": [
      "/home/hanliu/miniconda3/envs/clustering/lib/python3.7/site-packages/ALLCools/dmr/fimo.py:60: FutureWarning: to_msgpack is deprecated and will be removed in a future version.\n",
      "It is recommended to use pyarrow for on-the-wire transmission of pandas objects.\n",
      "  final_df.to_msgpack(output_path, compress='zlib')\n"
     ]
    },
    {
     "name": "stdout",
     "output_type": "stream",
     "text": [
      "/home/hanliu/project/mouse_rostral_brain/study/ITSpatial/DMRAnalysis/AggLayerDMR/IT-L6/MotifScan.h5adtemp/MA0759.1.meme, N motif total=8843\n"
     ]
    },
    {
     "name": "stderr",
     "output_type": "stream",
     "text": [
      "/home/hanliu/miniconda3/envs/clustering/lib/python3.7/site-packages/ALLCools/dmr/fimo.py:60: FutureWarning: to_msgpack is deprecated and will be removed in a future version.\n",
      "It is recommended to use pyarrow for on-the-wire transmission of pandas objects.\n",
      "  final_df.to_msgpack(output_path, compress='zlib')\n"
     ]
    },
    {
     "name": "stdout",
     "output_type": "stream",
     "text": [
      "/home/hanliu/project/mouse_rostral_brain/study/ITSpatial/DMRAnalysis/AggLayerDMR/IT-L6/MotifScan.h5adtemp/MA1637.1.meme, N motif total=46131\n"
     ]
    },
    {
     "name": "stderr",
     "output_type": "stream",
     "text": [
      "/home/hanliu/miniconda3/envs/clustering/lib/python3.7/site-packages/ALLCools/dmr/fimo.py:60: FutureWarning: to_msgpack is deprecated and will be removed in a future version.\n",
      "It is recommended to use pyarrow for on-the-wire transmission of pandas objects.\n",
      "  final_df.to_msgpack(output_path, compress='zlib')\n"
     ]
    },
    {
     "name": "stdout",
     "output_type": "stream",
     "text": [
      "/home/hanliu/project/mouse_rostral_brain/study/ITSpatial/DMRAnalysis/AggLayerDMR/IT-L6/MotifScan.h5adtemp/MA0641.1.meme, N motif total=16225\n"
     ]
    },
    {
     "name": "stderr",
     "output_type": "stream",
     "text": [
      "/home/hanliu/miniconda3/envs/clustering/lib/python3.7/site-packages/ALLCools/dmr/fimo.py:60: FutureWarning: to_msgpack is deprecated and will be removed in a future version.\n",
      "It is recommended to use pyarrow for on-the-wire transmission of pandas objects.\n",
      "  final_df.to_msgpack(output_path, compress='zlib')\n"
     ]
    },
    {
     "name": "stdout",
     "output_type": "stream",
     "text": [
      "/home/hanliu/project/mouse_rostral_brain/study/ITSpatial/DMRAnalysis/AggLayerDMR/IT-L6/MotifScan.h5adtemp/MA0028.2.meme, N motif total=7969\n"
     ]
    },
    {
     "name": "stdout",
     "output_type": "stream",
     "text": [
      "/home/hanliu/project/mouse_rostral_brain/study/ITSpatial/DMRAnalysis/AggLayerDMR/IT-L6/MotifScan.h5adtemp/MA0760.1.meme, N motif total=13296\n"
     ]
    },
    {
     "name": "stderr",
     "output_type": "stream",
     "text": [
      "/home/hanliu/miniconda3/envs/clustering/lib/python3.7/site-packages/ALLCools/dmr/fimo.py:60: FutureWarning: to_msgpack is deprecated and will be removed in a future version.\n",
      "It is recommended to use pyarrow for on-the-wire transmission of pandas objects.\n",
      "  final_df.to_msgpack(output_path, compress='zlib')\n"
     ]
    },
    {
     "name": "stderr",
     "output_type": "stream",
     "text": [
      "/home/hanliu/miniconda3/envs/clustering/lib/python3.7/site-packages/ALLCools/dmr/fimo.py:60: FutureWarning: to_msgpack is deprecated and will be removed in a future version.\n",
      "It is recommended to use pyarrow for on-the-wire transmission of pandas objects.\n",
      "  final_df.to_msgpack(output_path, compress='zlib')\n"
     ]
    },
    {
     "name": "stdout",
     "output_type": "stream",
     "text": [
      "/home/hanliu/project/mouse_rostral_brain/study/ITSpatial/DMRAnalysis/AggLayerDMR/IT-L6/MotifScan.h5adtemp/MA0642.1.meme, N motif total=8261\n"
     ]
    },
    {
     "name": "stderr",
     "output_type": "stream",
     "text": [
      "/home/hanliu/miniconda3/envs/clustering/lib/python3.7/site-packages/ALLCools/dmr/fimo.py:60: FutureWarning: to_msgpack is deprecated and will be removed in a future version.\n",
      "It is recommended to use pyarrow for on-the-wire transmission of pandas objects.\n",
      "  final_df.to_msgpack(output_path, compress='zlib')\n"
     ]
    },
    {
     "name": "stdout",
     "output_type": "stream",
     "text": [
      "/home/hanliu/project/mouse_rostral_brain/study/ITSpatial/DMRAnalysis/AggLayerDMR/IT-L6/MotifScan.h5adtemp/MA1483.1.meme, N motif total=13660\n"
     ]
    },
    {
     "name": "stderr",
     "output_type": "stream",
     "text": [
      "/home/hanliu/miniconda3/envs/clustering/lib/python3.7/site-packages/ALLCools/dmr/fimo.py:60: FutureWarning: to_msgpack is deprecated and will be removed in a future version.\n",
      "It is recommended to use pyarrow for on-the-wire transmission of pandas objects.\n",
      "  final_df.to_msgpack(output_path, compress='zlib')\n"
     ]
    },
    {
     "name": "stdout",
     "output_type": "stream",
     "text": [
      "/home/hanliu/project/mouse_rostral_brain/study/ITSpatial/DMRAnalysis/AggLayerDMR/IT-L6/MotifScan.h5adtemp/MA1604.1.meme, N motif total=47491\n"
     ]
    },
    {
     "name": "stderr",
     "output_type": "stream",
     "text": [
      "/home/hanliu/miniconda3/envs/clustering/lib/python3.7/site-packages/ALLCools/dmr/fimo.py:60: FutureWarning: to_msgpack is deprecated and will be removed in a future version.\n",
      "It is recommended to use pyarrow for on-the-wire transmission of pandas objects.\n",
      "  final_df.to_msgpack(output_path, compress='zlib')\n"
     ]
    },
    {
     "name": "stdout",
     "output_type": "stream",
     "text": [
      "/home/hanliu/project/mouse_rostral_brain/study/ITSpatial/DMRAnalysis/AggLayerDMR/IT-L6/MotifScan.h5adtemp/MA0886.1.meme, N motif total=8044\n"
     ]
    },
    {
     "name": "stderr",
     "output_type": "stream",
     "text": [
      "/home/hanliu/miniconda3/envs/clustering/lib/python3.7/site-packages/ALLCools/dmr/fimo.py:60: FutureWarning: to_msgpack is deprecated and will be removed in a future version.\n",
      "It is recommended to use pyarrow for on-the-wire transmission of pandas objects.\n",
      "  final_df.to_msgpack(output_path, compress='zlib')\n"
     ]
    },
    {
     "name": "stdout",
     "output_type": "stream",
     "text": [
      "/home/hanliu/project/mouse_rostral_brain/study/ITSpatial/DMRAnalysis/AggLayerDMR/IT-L6/MotifScan.h5adtemp/MA0076.2.meme, N motif total=23556\n"
     ]
    },
    {
     "name": "stderr",
     "output_type": "stream",
     "text": [
      "/home/hanliu/miniconda3/envs/clustering/lib/python3.7/site-packages/ALLCools/dmr/fimo.py:60: FutureWarning: to_msgpack is deprecated and will be removed in a future version.\n",
      "It is recommended to use pyarrow for on-the-wire transmission of pandas objects.\n",
      "  final_df.to_msgpack(output_path, compress='zlib')\n"
     ]
    },
    {
     "name": "stdout",
     "output_type": "stream",
     "text": [
      "/home/hanliu/project/mouse_rostral_brain/study/ITSpatial/DMRAnalysis/AggLayerDMR/IT-L6/MotifScan.h5adtemp/MA0136.2.meme, N motif total=24734\n"
     ]
    },
    {
     "name": "stderr",
     "output_type": "stream",
     "text": [
      "/home/hanliu/miniconda3/envs/clustering/lib/python3.7/site-packages/ALLCools/dmr/fimo.py:60: FutureWarning: to_msgpack is deprecated and will be removed in a future version.\n",
      "It is recommended to use pyarrow for on-the-wire transmission of pandas objects.\n",
      "  final_df.to_msgpack(output_path, compress='zlib')\n"
     ]
    },
    {
     "name": "stdout",
     "output_type": "stream",
     "text": [
      "Finish count 100 motifs.\n"
     ]
    },
    {
     "name": "stdout",
     "output_type": "stream",
     "text": [
      "/home/hanliu/project/mouse_rostral_brain/study/ITSpatial/DMRAnalysis/AggLayerDMR/IT-L6/MotifScan.h5adtemp/MA0154.4.meme, N motif total=57136\n"
     ]
    },
    {
     "name": "stderr",
     "output_type": "stream",
     "text": [
      "/home/hanliu/miniconda3/envs/clustering/lib/python3.7/site-packages/ALLCools/dmr/fimo.py:60: FutureWarning: to_msgpack is deprecated and will be removed in a future version.\n",
      "It is recommended to use pyarrow for on-the-wire transmission of pandas objects.\n",
      "  final_df.to_msgpack(output_path, compress='zlib')\n"
     ]
    },
    {
     "name": "stdout",
     "output_type": "stream",
     "text": [
      "/home/hanliu/project/mouse_rostral_brain/study/ITSpatial/DMRAnalysis/AggLayerDMR/IT-L6/MotifScan.h5adtemp/MA0732.1.meme, N motif total=28408\n"
     ]
    },
    {
     "name": "stderr",
     "output_type": "stream",
     "text": [
      "/home/hanliu/miniconda3/envs/clustering/lib/python3.7/site-packages/ALLCools/dmr/fimo.py:60: FutureWarning: to_msgpack is deprecated and will be removed in a future version.\n",
      "It is recommended to use pyarrow for on-the-wire transmission of pandas objects.\n",
      "  final_df.to_msgpack(output_path, compress='zlib')\n"
     ]
    },
    {
     "name": "stdout",
     "output_type": "stream",
     "text": [
      "/home/hanliu/project/mouse_rostral_brain/study/ITSpatial/DMRAnalysis/AggLayerDMR/IT-L6/MotifScan.h5adtemp/MA0474.2.meme, N motif total=11826\n"
     ]
    },
    {
     "name": "stderr",
     "output_type": "stream",
     "text": [
      "/home/hanliu/miniconda3/envs/clustering/lib/python3.7/site-packages/ALLCools/dmr/fimo.py:60: FutureWarning: to_msgpack is deprecated and will be removed in a future version.\n",
      "It is recommended to use pyarrow for on-the-wire transmission of pandas objects.\n",
      "  final_df.to_msgpack(output_path, compress='zlib')\n"
     ]
    },
    {
     "name": "stdout",
     "output_type": "stream",
     "text": [
      "/home/hanliu/project/mouse_rostral_brain/study/ITSpatial/DMRAnalysis/AggLayerDMR/IT-L6/MotifScan.h5adtemp/MA0473.3.meme, N motif total=64662\n"
     ]
    },
    {
     "name": "stderr",
     "output_type": "stream",
     "text": [
      "/home/hanliu/miniconda3/envs/clustering/lib/python3.7/site-packages/ALLCools/dmr/fimo.py:60: FutureWarning: to_msgpack is deprecated and will be removed in a future version.\n",
      "It is recommended to use pyarrow for on-the-wire transmission of pandas objects.\n",
      "  final_df.to_msgpack(output_path, compress='zlib')\n"
     ]
    },
    {
     "name": "stdout",
     "output_type": "stream",
     "text": [
      "/home/hanliu/project/mouse_rostral_brain/study/ITSpatial/DMRAnalysis/AggLayerDMR/IT-L6/MotifScan.h5adtemp/MA0162.4.meme, N motif total=220129\n"
     ]
    },
    {
     "name": "stderr",
     "output_type": "stream",
     "text": [
      "/home/hanliu/miniconda3/envs/clustering/lib/python3.7/site-packages/ALLCools/dmr/fimo.py:60: FutureWarning: to_msgpack is deprecated and will be removed in a future version.\n",
      "It is recommended to use pyarrow for on-the-wire transmission of pandas objects.\n",
      "  final_df.to_msgpack(output_path, compress='zlib')\n"
     ]
    },
    {
     "name": "stdout",
     "output_type": "stream",
     "text": [
      "/home/hanliu/project/mouse_rostral_brain/study/ITSpatial/DMRAnalysis/AggLayerDMR/IT-L6/MotifScan.h5adtemp/MA0640.2.meme, N motif total=71062\n"
     ]
    },
    {
     "name": "stderr",
     "output_type": "stream",
     "text": [
      "/home/hanliu/miniconda3/envs/clustering/lib/python3.7/site-packages/ALLCools/dmr/fimo.py:60: FutureWarning: to_msgpack is deprecated and will be removed in a future version.\n",
      "It is recommended to use pyarrow for on-the-wire transmission of pandas objects.\n",
      "  final_df.to_msgpack(output_path, compress='zlib')\n"
     ]
    },
    {
     "name": "stdout",
     "output_type": "stream",
     "text": [
      "/home/hanliu/project/mouse_rostral_brain/study/ITSpatial/DMRAnalysis/AggLayerDMR/IT-L6/MotifScan.h5adtemp/MA0800.1.meme, N motif total=30300\n"
     ]
    },
    {
     "name": "stderr",
     "output_type": "stream",
     "text": [
      "/home/hanliu/miniconda3/envs/clustering/lib/python3.7/site-packages/ALLCools/dmr/fimo.py:60: FutureWarning: to_msgpack is deprecated and will be removed in a future version.\n",
      "It is recommended to use pyarrow for on-the-wire transmission of pandas objects.\n",
      "  final_df.to_msgpack(output_path, compress='zlib')\n"
     ]
    },
    {
     "name": "stdout",
     "output_type": "stream",
     "text": [
      "/home/hanliu/project/mouse_rostral_brain/study/ITSpatial/DMRAnalysis/AggLayerDMR/IT-L6/MotifScan.h5adtemp/MA0598.3.meme, N motif total=58849\n"
     ]
    },
    {
     "name": "stderr",
     "output_type": "stream",
     "text": [
      "/home/hanliu/miniconda3/envs/clustering/lib/python3.7/site-packages/ALLCools/dmr/fimo.py:60: FutureWarning: to_msgpack is deprecated and will be removed in a future version.\n",
      "It is recommended to use pyarrow for on-the-wire transmission of pandas objects.\n",
      "  final_df.to_msgpack(output_path, compress='zlib')\n"
     ]
    },
    {
     "name": "stdout",
     "output_type": "stream",
     "text": [
      "/home/hanliu/project/mouse_rostral_brain/study/ITSpatial/DMRAnalysis/AggLayerDMR/IT-L6/MotifScan.h5adtemp/MA0733.1.meme, N motif total=45885\n"
     ]
    },
    {
     "name": "stderr",
     "output_type": "stream",
     "text": [
      "/home/hanliu/miniconda3/envs/clustering/lib/python3.7/site-packages/ALLCools/dmr/fimo.py:60: FutureWarning: to_msgpack is deprecated and will be removed in a future version.\n",
      "It is recommended to use pyarrow for on-the-wire transmission of pandas objects.\n",
      "  final_df.to_msgpack(output_path, compress='zlib')\n"
     ]
    },
    {
     "name": "stdout",
     "output_type": "stream",
     "text": [
      "/home/hanliu/project/mouse_rostral_brain/study/ITSpatial/DMRAnalysis/AggLayerDMR/IT-L6/MotifScan.h5adtemp/MA0141.3.meme, N motif total=26591\n"
     ]
    },
    {
     "name": "stderr",
     "output_type": "stream",
     "text": [
      "/home/hanliu/miniconda3/envs/clustering/lib/python3.7/site-packages/ALLCools/dmr/fimo.py:60: FutureWarning: to_msgpack is deprecated and will be removed in a future version.\n",
      "It is recommended to use pyarrow for on-the-wire transmission of pandas objects.\n",
      "  final_df.to_msgpack(output_path, compress='zlib')\n"
     ]
    },
    {
     "name": "stdout",
     "output_type": "stream",
     "text": [
      "/home/hanliu/project/mouse_rostral_brain/study/ITSpatial/DMRAnalysis/AggLayerDMR/IT-L6/MotifScan.h5adtemp/MA0644.1.meme, N motif total=9425\n"
     ]
    },
    {
     "name": "stderr",
     "output_type": "stream",
     "text": [
      "/home/hanliu/miniconda3/envs/clustering/lib/python3.7/site-packages/ALLCools/dmr/fimo.py:60: FutureWarning: to_msgpack is deprecated and will be removed in a future version.\n",
      "It is recommended to use pyarrow for on-the-wire transmission of pandas objects.\n",
      "  final_df.to_msgpack(output_path, compress='zlib')\n"
     ]
    },
    {
     "name": "stdout",
     "output_type": "stream",
     "text": [
      "/home/hanliu/project/mouse_rostral_brain/study/ITSpatial/DMRAnalysis/AggLayerDMR/IT-L6/MotifScan.h5adtemp/MA0643.1.meme, N motif total=24241\n"
     ]
    },
    {
     "name": "stderr",
     "output_type": "stream",
     "text": [
      "/home/hanliu/miniconda3/envs/clustering/lib/python3.7/site-packages/ALLCools/dmr/fimo.py:60: FutureWarning: to_msgpack is deprecated and will be removed in a future version.\n",
      "It is recommended to use pyarrow for on-the-wire transmission of pandas objects.\n",
      "  final_df.to_msgpack(output_path, compress='zlib')\n"
     ]
    },
    {
     "name": "stdout",
     "output_type": "stream",
     "text": [
      "/home/hanliu/project/mouse_rostral_brain/study/ITSpatial/DMRAnalysis/AggLayerDMR/IT-L6/MotifScan.h5adtemp/MA0592.3.meme, N motif total=33673\n"
     ]
    },
    {
     "name": "stderr",
     "output_type": "stream",
     "text": [
      "/home/hanliu/miniconda3/envs/clustering/lib/python3.7/site-packages/ALLCools/dmr/fimo.py:60: FutureWarning: to_msgpack is deprecated and will be removed in a future version.\n",
      "It is recommended to use pyarrow for on-the-wire transmission of pandas objects.\n",
      "  final_df.to_msgpack(output_path, compress='zlib')\n"
     ]
    },
    {
     "name": "stdout",
     "output_type": "stream",
     "text": [
      "/home/hanliu/project/mouse_rostral_brain/study/ITSpatial/DMRAnalysis/AggLayerDMR/IT-L6/MotifScan.h5adtemp/MA0258.2.meme, N motif total=42581\n"
     ]
    },
    {
     "name": "stderr",
     "output_type": "stream",
     "text": [
      "/home/hanliu/miniconda3/envs/clustering/lib/python3.7/site-packages/ALLCools/dmr/fimo.py:60: FutureWarning: to_msgpack is deprecated and will be removed in a future version.\n",
      "It is recommended to use pyarrow for on-the-wire transmission of pandas objects.\n",
      "  final_df.to_msgpack(output_path, compress='zlib')\n"
     ]
    },
    {
     "name": "stdout",
     "output_type": "stream",
     "text": [
      "/home/hanliu/project/mouse_rostral_brain/study/ITSpatial/DMRAnalysis/AggLayerDMR/IT-L6/MotifScan.h5adtemp/MA0112.3.meme, N motif total=3738\n"
     ]
    },
    {
     "name": "stderr",
     "output_type": "stream",
     "text": [
      "/home/hanliu/miniconda3/envs/clustering/lib/python3.7/site-packages/ALLCools/dmr/fimo.py:60: FutureWarning: to_msgpack is deprecated and will be removed in a future version.\n",
      "It is recommended to use pyarrow for on-the-wire transmission of pandas objects.\n",
      "  final_df.to_msgpack(output_path, compress='zlib')\n"
     ]
    },
    {
     "name": "stdout",
     "output_type": "stream",
     "text": [
      "/home/hanliu/project/mouse_rostral_brain/study/ITSpatial/DMRAnalysis/AggLayerDMR/IT-L6/MotifScan.h5adtemp/MA1484.1.meme, N motif total=14585\n"
     ]
    },
    {
     "name": "stderr",
     "output_type": "stream",
     "text": [
      "/home/hanliu/miniconda3/envs/clustering/lib/python3.7/site-packages/ALLCools/dmr/fimo.py:60: FutureWarning: to_msgpack is deprecated and will be removed in a future version.\n",
      "It is recommended to use pyarrow for on-the-wire transmission of pandas objects.\n",
      "  final_df.to_msgpack(output_path, compress='zlib')\n"
     ]
    },
    {
     "name": "stdout",
     "output_type": "stream",
     "text": [
      "/home/hanliu/project/mouse_rostral_brain/study/ITSpatial/DMRAnalysis/AggLayerDMR/IT-L6/MotifScan.h5adtemp/MA0098.3.meme, N motif total=14189\n"
     ]
    },
    {
     "name": "stderr",
     "output_type": "stream",
     "text": [
      "/home/hanliu/miniconda3/envs/clustering/lib/python3.7/site-packages/ALLCools/dmr/fimo.py:60: FutureWarning: to_msgpack is deprecated and will be removed in a future version.\n",
      "It is recommended to use pyarrow for on-the-wire transmission of pandas objects.\n",
      "  final_df.to_msgpack(output_path, compress='zlib')\n"
     ]
    },
    {
     "name": "stdout",
     "output_type": "stream",
     "text": [
      "/home/hanliu/project/mouse_rostral_brain/study/ITSpatial/DMRAnalysis/AggLayerDMR/IT-L6/MotifScan.h5adtemp/MA0762.1.meme, N motif total=16986\n"
     ]
    },
    {
     "name": "stderr",
     "output_type": "stream",
     "text": [
      "/home/hanliu/miniconda3/envs/clustering/lib/python3.7/site-packages/ALLCools/dmr/fimo.py:60: FutureWarning: to_msgpack is deprecated and will be removed in a future version.\n",
      "It is recommended to use pyarrow for on-the-wire transmission of pandas objects.\n",
      "  final_df.to_msgpack(output_path, compress='zlib')\n"
     ]
    },
    {
     "name": "stdout",
     "output_type": "stream",
     "text": [
      "/home/hanliu/project/mouse_rostral_brain/study/ITSpatial/DMRAnalysis/AggLayerDMR/IT-L6/MotifScan.h5adtemp/MA0763.1.meme, N motif total=9473\n"
     ]
    },
    {
     "name": "stderr",
     "output_type": "stream",
     "text": [
      "/home/hanliu/miniconda3/envs/clustering/lib/python3.7/site-packages/ALLCools/dmr/fimo.py:60: FutureWarning: to_msgpack is deprecated and will be removed in a future version.\n",
      "It is recommended to use pyarrow for on-the-wire transmission of pandas objects.\n",
      "  final_df.to_msgpack(output_path, compress='zlib')\n"
     ]
    },
    {
     "name": "stdout",
     "output_type": "stream",
     "text": [
      "/home/hanliu/project/mouse_rostral_brain/study/ITSpatial/DMRAnalysis/AggLayerDMR/IT-L6/MotifScan.h5adtemp/MA0761.2.meme, N motif total=66370\n"
     ]
    },
    {
     "name": "stderr",
     "output_type": "stream",
     "text": [
      "/home/hanliu/miniconda3/envs/clustering/lib/python3.7/site-packages/ALLCools/dmr/fimo.py:60: FutureWarning: to_msgpack is deprecated and will be removed in a future version.\n",
      "It is recommended to use pyarrow for on-the-wire transmission of pandas objects.\n",
      "  final_df.to_msgpack(output_path, compress='zlib')\n"
     ]
    },
    {
     "name": "stdout",
     "output_type": "stream",
     "text": [
      "/home/hanliu/project/mouse_rostral_brain/study/ITSpatial/DMRAnalysis/AggLayerDMR/IT-L6/MotifScan.h5adtemp/MA0645.1.meme, N motif total=19896\n"
     ]
    },
    {
     "name": "stderr",
     "output_type": "stream",
     "text": [
      "/home/hanliu/miniconda3/envs/clustering/lib/python3.7/site-packages/ALLCools/dmr/fimo.py:60: FutureWarning: to_msgpack is deprecated and will be removed in a future version.\n",
      "It is recommended to use pyarrow for on-the-wire transmission of pandas objects.\n",
      "  final_df.to_msgpack(output_path, compress='zlib')\n"
     ]
    },
    {
     "name": "stdout",
     "output_type": "stream",
     "text": [
      "/home/hanliu/project/mouse_rostral_brain/study/ITSpatial/DMRAnalysis/AggLayerDMR/IT-L6/MotifScan.h5adtemp/MA0887.1.meme, N motif total=8250\n"
     ]
    },
    {
     "name": "stderr",
     "output_type": "stream",
     "text": [
      "/home/hanliu/miniconda3/envs/clustering/lib/python3.7/site-packages/ALLCools/dmr/fimo.py:60: FutureWarning: to_msgpack is deprecated and will be removed in a future version.\n",
      "It is recommended to use pyarrow for on-the-wire transmission of pandas objects.\n",
      "  final_df.to_msgpack(output_path, compress='zlib')\n"
     ]
    },
    {
     "name": "stdout",
     "output_type": "stream",
     "text": [
      "/home/hanliu/project/mouse_rostral_brain/study/ITSpatial/DMRAnalysis/AggLayerDMR/IT-L6/MotifScan.h5adtemp/MA0765.2.meme, N motif total=20166\n"
     ]
    },
    {
     "name": "stderr",
     "output_type": "stream",
     "text": [
      "/home/hanliu/miniconda3/envs/clustering/lib/python3.7/site-packages/ALLCools/dmr/fimo.py:60: FutureWarning: to_msgpack is deprecated and will be removed in a future version.\n",
      "It is recommended to use pyarrow for on-the-wire transmission of pandas objects.\n",
      "  final_df.to_msgpack(output_path, compress='zlib')\n"
     ]
    },
    {
     "name": "stdout",
     "output_type": "stream",
     "text": [
      "/home/hanliu/project/mouse_rostral_brain/study/ITSpatial/DMRAnalysis/AggLayerDMR/IT-L6/MotifScan.h5adtemp/MA0156.2.meme, N motif total=9368\n"
     ]
    },
    {
     "name": "stderr",
     "output_type": "stream",
     "text": [
      "/home/hanliu/miniconda3/envs/clustering/lib/python3.7/site-packages/ALLCools/dmr/fimo.py:60: FutureWarning: to_msgpack is deprecated and will be removed in a future version.\n",
      "It is recommended to use pyarrow for on-the-wire transmission of pandas objects.\n",
      "  final_df.to_msgpack(output_path, compress='zlib')\n"
     ]
    },
    {
     "name": "stdout",
     "output_type": "stream",
     "text": [
      "/home/hanliu/project/mouse_rostral_brain/study/ITSpatial/DMRAnalysis/AggLayerDMR/IT-L6/MotifScan.h5adtemp/MA0888.1.meme, N motif total=7950\n"
     ]
    },
    {
     "name": "stderr",
     "output_type": "stream",
     "text": [
      "/home/hanliu/miniconda3/envs/clustering/lib/python3.7/site-packages/ALLCools/dmr/fimo.py:60: FutureWarning: to_msgpack is deprecated and will be removed in a future version.\n",
      "It is recommended to use pyarrow for on-the-wire transmission of pandas objects.\n",
      "  final_df.to_msgpack(output_path, compress='zlib')\n"
     ]
    },
    {
     "name": "stdout",
     "output_type": "stream",
     "text": [
      "/home/hanliu/project/mouse_rostral_brain/study/ITSpatial/DMRAnalysis/AggLayerDMR/IT-L6/MotifScan.h5adtemp/MA0764.2.meme, N motif total=90563\n"
     ]
    },
    {
     "name": "stderr",
     "output_type": "stream",
     "text": [
      "/home/hanliu/miniconda3/envs/clustering/lib/python3.7/site-packages/ALLCools/dmr/fimo.py:60: FutureWarning: to_msgpack is deprecated and will be removed in a future version.\n",
      "It is recommended to use pyarrow for on-the-wire transmission of pandas objects.\n",
      "  final_df.to_msgpack(output_path, compress='zlib')\n"
     ]
    },
    {
     "name": "stdout",
     "output_type": "stream",
     "text": [
      "/home/hanliu/project/mouse_rostral_brain/study/ITSpatial/DMRAnalysis/AggLayerDMR/IT-L6/MotifScan.h5adtemp/MA0820.1.meme, N motif total=33150\n"
     ]
    },
    {
     "name": "stderr",
     "output_type": "stream",
     "text": [
      "/home/hanliu/miniconda3/envs/clustering/lib/python3.7/site-packages/ALLCools/dmr/fimo.py:60: FutureWarning: to_msgpack is deprecated and will be removed in a future version.\n",
      "It is recommended to use pyarrow for on-the-wire transmission of pandas objects.\n",
      "  final_df.to_msgpack(output_path, compress='zlib')\n"
     ]
    },
    {
     "name": "stdout",
     "output_type": "stream",
     "text": [
      "/home/hanliu/project/mouse_rostral_brain/study/ITSpatial/DMRAnalysis/AggLayerDMR/IT-L6/MotifScan.h5adtemp/MA0475.2.meme, N motif total=11442\n"
     ]
    },
    {
     "name": "stderr",
     "output_type": "stream",
     "text": [
      "/home/hanliu/miniconda3/envs/clustering/lib/python3.7/site-packages/ALLCools/dmr/fimo.py:60: FutureWarning: to_msgpack is deprecated and will be removed in a future version.\n",
      "It is recommended to use pyarrow for on-the-wire transmission of pandas objects.\n",
      "  final_df.to_msgpack(output_path, compress='zlib')\n"
     ]
    },
    {
     "name": "stdout",
     "output_type": "stream",
     "text": [
      "/home/hanliu/project/mouse_rostral_brain/study/ITSpatial/DMRAnalysis/AggLayerDMR/IT-L6/MotifScan.h5adtemp/MA0476.1.meme, N motif total=68379\n"
     ]
    },
    {
     "name": "stderr",
     "output_type": "stream",
     "text": [
      "/home/hanliu/miniconda3/envs/clustering/lib/python3.7/site-packages/ALLCools/dmr/fimo.py:60: FutureWarning: to_msgpack is deprecated and will be removed in a future version.\n",
      "It is recommended to use pyarrow for on-the-wire transmission of pandas objects.\n",
      "  final_df.to_msgpack(output_path, compress='zlib')\n"
     ]
    },
    {
     "name": "stdout",
     "output_type": "stream",
     "text": [
      "/home/hanliu/project/mouse_rostral_brain/study/ITSpatial/DMRAnalysis/AggLayerDMR/IT-L6/MotifScan.h5adtemp/MA1485.1.meme, N motif total=39171\n"
     ]
    },
    {
     "name": "stderr",
     "output_type": "stream",
     "text": [
      "/home/hanliu/miniconda3/envs/clustering/lib/python3.7/site-packages/ALLCools/dmr/fimo.py:60: FutureWarning: to_msgpack is deprecated and will be removed in a future version.\n",
      "It is recommended to use pyarrow for on-the-wire transmission of pandas objects.\n",
      "  final_df.to_msgpack(output_path, compress='zlib')\n"
     ]
    },
    {
     "name": "stdout",
     "output_type": "stream",
     "text": [
      "/home/hanliu/project/mouse_rostral_brain/study/ITSpatial/DMRAnalysis/AggLayerDMR/IT-L6/MotifScan.h5adtemp/MA0099.3.meme, N motif total=57349\n"
     ]
    },
    {
     "name": "stderr",
     "output_type": "stream",
     "text": [
      "/home/hanliu/miniconda3/envs/clustering/lib/python3.7/site-packages/ALLCools/dmr/fimo.py:60: FutureWarning: to_msgpack is deprecated and will be removed in a future version.\n",
      "It is recommended to use pyarrow for on-the-wire transmission of pandas objects.\n",
      "  final_df.to_msgpack(output_path, compress='zlib')\n"
     ]
    },
    {
     "name": "stdout",
     "output_type": "stream",
     "text": [
      "/home/hanliu/project/mouse_rostral_brain/study/ITSpatial/DMRAnalysis/AggLayerDMR/IT-L6/MotifScan.h5adtemp/MA1135.1.meme, N motif total=62484\n"
     ]
    },
    {
     "name": "stderr",
     "output_type": "stream",
     "text": [
      "/home/hanliu/miniconda3/envs/clustering/lib/python3.7/site-packages/ALLCools/dmr/fimo.py:60: FutureWarning: to_msgpack is deprecated and will be removed in a future version.\n",
      "It is recommended to use pyarrow for on-the-wire transmission of pandas objects.\n",
      "  final_df.to_msgpack(output_path, compress='zlib')\n"
     ]
    },
    {
     "name": "stdout",
     "output_type": "stream",
     "text": [
      "/home/hanliu/project/mouse_rostral_brain/study/ITSpatial/DMRAnalysis/AggLayerDMR/IT-L6/MotifScan.h5adtemp/MA1134.1.meme, N motif total=62923\n"
     ]
    },
    {
     "name": "stderr",
     "output_type": "stream",
     "text": [
      "/home/hanliu/miniconda3/envs/clustering/lib/python3.7/site-packages/ALLCools/dmr/fimo.py:60: FutureWarning: to_msgpack is deprecated and will be removed in a future version.\n",
      "It is recommended to use pyarrow for on-the-wire transmission of pandas objects.\n",
      "  final_df.to_msgpack(output_path, compress='zlib')\n"
     ]
    },
    {
     "name": "stdout",
     "output_type": "stream",
     "text": [
      "/home/hanliu/project/mouse_rostral_brain/study/ITSpatial/DMRAnalysis/AggLayerDMR/IT-L6/MotifScan.h5adtemp/MA1136.1.meme, N motif total=14710\n"
     ]
    },
    {
     "name": "stderr",
     "output_type": "stream",
     "text": [
      "/home/hanliu/miniconda3/envs/clustering/lib/python3.7/site-packages/ALLCools/dmr/fimo.py:60: FutureWarning: to_msgpack is deprecated and will be removed in a future version.\n",
      "It is recommended to use pyarrow for on-the-wire transmission of pandas objects.\n",
      "  final_df.to_msgpack(output_path, compress='zlib')\n"
     ]
    },
    {
     "name": "stdout",
     "output_type": "stream",
     "text": [
      "/home/hanliu/project/mouse_rostral_brain/study/ITSpatial/DMRAnalysis/AggLayerDMR/IT-L6/MotifScan.h5adtemp/MA1129.1.meme, N motif total=15058\n"
     ]
    },
    {
     "name": "stderr",
     "output_type": "stream",
     "text": [
      "/home/hanliu/miniconda3/envs/clustering/lib/python3.7/site-packages/ALLCools/dmr/fimo.py:60: FutureWarning: to_msgpack is deprecated and will be removed in a future version.\n",
      "It is recommended to use pyarrow for on-the-wire transmission of pandas objects.\n",
      "  final_df.to_msgpack(output_path, compress='zlib')\n"
     ]
    },
    {
     "name": "stdout",
     "output_type": "stream",
     "text": [
      "/home/hanliu/project/mouse_rostral_brain/study/ITSpatial/DMRAnalysis/AggLayerDMR/IT-L6/MotifScan.h5adtemp/MA1127.1.meme, N motif total=16681\n"
     ]
    },
    {
     "name": "stderr",
     "output_type": "stream",
     "text": [
      "/home/hanliu/miniconda3/envs/clustering/lib/python3.7/site-packages/ALLCools/dmr/fimo.py:60: FutureWarning: to_msgpack is deprecated and will be removed in a future version.\n",
      "It is recommended to use pyarrow for on-the-wire transmission of pandas objects.\n",
      "  final_df.to_msgpack(output_path, compress='zlib')\n"
     ]
    },
    {
     "name": "stdout",
     "output_type": "stream",
     "text": [
      "/home/hanliu/project/mouse_rostral_brain/study/ITSpatial/DMRAnalysis/AggLayerDMR/IT-L6/MotifScan.h5adtemp/MA1142.1.meme, N motif total=52270\n"
     ]
    },
    {
     "name": "stderr",
     "output_type": "stream",
     "text": [
      "/home/hanliu/miniconda3/envs/clustering/lib/python3.7/site-packages/ALLCools/dmr/fimo.py:60: FutureWarning: to_msgpack is deprecated and will be removed in a future version.\n",
      "It is recommended to use pyarrow for on-the-wire transmission of pandas objects.\n",
      "  final_df.to_msgpack(output_path, compress='zlib')\n"
     ]
    },
    {
     "name": "stdout",
     "output_type": "stream",
     "text": [
      "/home/hanliu/project/mouse_rostral_brain/study/ITSpatial/DMRAnalysis/AggLayerDMR/IT-L6/MotifScan.h5adtemp/MA1141.1.meme, N motif total=51110\n"
     ]
    },
    {
     "name": "stderr",
     "output_type": "stream",
     "text": [
      "/home/hanliu/miniconda3/envs/clustering/lib/python3.7/site-packages/ALLCools/dmr/fimo.py:60: FutureWarning: to_msgpack is deprecated and will be removed in a future version.\n",
      "It is recommended to use pyarrow for on-the-wire transmission of pandas objects.\n",
      "  final_df.to_msgpack(output_path, compress='zlib')\n"
     ]
    },
    {
     "name": "stdout",
     "output_type": "stream",
     "text": [
      "/home/hanliu/project/mouse_rostral_brain/study/ITSpatial/DMRAnalysis/AggLayerDMR/IT-L6/MotifScan.h5adtemp/MA1128.1.meme, N motif total=49940\n"
     ]
    },
    {
     "name": "stderr",
     "output_type": "stream",
     "text": [
      "/home/hanliu/miniconda3/envs/clustering/lib/python3.7/site-packages/ALLCools/dmr/fimo.py:60: FutureWarning: to_msgpack is deprecated and will be removed in a future version.\n",
      "It is recommended to use pyarrow for on-the-wire transmission of pandas objects.\n",
      "  final_df.to_msgpack(output_path, compress='zlib')\n"
     ]
    },
    {
     "name": "stdout",
     "output_type": "stream",
     "text": [
      "/home/hanliu/project/mouse_rostral_brain/study/ITSpatial/DMRAnalysis/AggLayerDMR/IT-L6/MotifScan.h5adtemp/MA1137.1.meme, N motif total=57473\n"
     ]
    },
    {
     "name": "stderr",
     "output_type": "stream",
     "text": [
      "/home/hanliu/miniconda3/envs/clustering/lib/python3.7/site-packages/ALLCools/dmr/fimo.py:60: FutureWarning: to_msgpack is deprecated and will be removed in a future version.\n",
      "It is recommended to use pyarrow for on-the-wire transmission of pandas objects.\n",
      "  final_df.to_msgpack(output_path, compress='zlib')\n"
     ]
    },
    {
     "name": "stdout",
     "output_type": "stream",
     "text": [
      "/home/hanliu/project/mouse_rostral_brain/study/ITSpatial/DMRAnalysis/AggLayerDMR/IT-L6/MotifScan.h5adtemp/MA1143.1.meme, N motif total=11687\n"
     ]
    },
    {
     "name": "stderr",
     "output_type": "stream",
     "text": [
      "/home/hanliu/miniconda3/envs/clustering/lib/python3.7/site-packages/ALLCools/dmr/fimo.py:60: FutureWarning: to_msgpack is deprecated and will be removed in a future version.\n",
      "It is recommended to use pyarrow for on-the-wire transmission of pandas objects.\n",
      "  final_df.to_msgpack(output_path, compress='zlib')\n"
     ]
    },
    {
     "name": "stdout",
     "output_type": "stream",
     "text": [
      "/home/hanliu/project/mouse_rostral_brain/study/ITSpatial/DMRAnalysis/AggLayerDMR/IT-L6/MotifScan.h5adtemp/MA0477.2.meme, N motif total=68068\n"
     ]
    },
    {
     "name": "stderr",
     "output_type": "stream",
     "text": [
      "/home/hanliu/miniconda3/envs/clustering/lib/python3.7/site-packages/ALLCools/dmr/fimo.py:60: FutureWarning: to_msgpack is deprecated and will be removed in a future version.\n",
      "It is recommended to use pyarrow for on-the-wire transmission of pandas objects.\n",
      "  final_df.to_msgpack(output_path, compress='zlib')\n"
     ]
    },
    {
     "name": "stdout",
     "output_type": "stream",
     "text": [
      "/home/hanliu/project/mouse_rostral_brain/study/ITSpatial/DMRAnalysis/AggLayerDMR/IT-L6/MotifScan.h5adtemp/MA1126.1.meme, N motif total=17028\n"
     ]
    },
    {
     "name": "stderr",
     "output_type": "stream",
     "text": [
      "/home/hanliu/miniconda3/envs/clustering/lib/python3.7/site-packages/ALLCools/dmr/fimo.py:60: FutureWarning: to_msgpack is deprecated and will be removed in a future version.\n",
      "It is recommended to use pyarrow for on-the-wire transmission of pandas objects.\n",
      "  final_df.to_msgpack(output_path, compress='zlib')\n"
     ]
    },
    {
     "name": "stdout",
     "output_type": "stream",
     "text": [
      "/home/hanliu/project/mouse_rostral_brain/study/ITSpatial/DMRAnalysis/AggLayerDMR/IT-L6/MotifScan.h5adtemp/MA0478.1.meme, N motif total=69899\n"
     ]
    },
    {
     "name": "stderr",
     "output_type": "stream",
     "text": [
      "/home/hanliu/miniconda3/envs/clustering/lib/python3.7/site-packages/ALLCools/dmr/fimo.py:60: FutureWarning: to_msgpack is deprecated and will be removed in a future version.\n",
      "It is recommended to use pyarrow for on-the-wire transmission of pandas objects.\n",
      "  final_df.to_msgpack(output_path, compress='zlib')\n"
     ]
    },
    {
     "name": "stdout",
     "output_type": "stream",
     "text": [
      "/home/hanliu/project/mouse_rostral_brain/study/ITSpatial/DMRAnalysis/AggLayerDMR/IT-L6/MotifScan.h5adtemp/MA1138.1.meme, N motif total=60851\n"
     ]
    },
    {
     "name": "stderr",
     "output_type": "stream",
     "text": [
      "/home/hanliu/miniconda3/envs/clustering/lib/python3.7/site-packages/ALLCools/dmr/fimo.py:60: FutureWarning: to_msgpack is deprecated and will be removed in a future version.\n",
      "It is recommended to use pyarrow for on-the-wire transmission of pandas objects.\n",
      "  final_df.to_msgpack(output_path, compress='zlib')\n"
     ]
    },
    {
     "name": "stdout",
     "output_type": "stream",
     "text": [
      "/home/hanliu/project/mouse_rostral_brain/study/ITSpatial/DMRAnalysis/AggLayerDMR/IT-L6/MotifScan.h5adtemp/MA1131.1.meme, N motif total=18905\n"
     ]
    },
    {
     "name": "stderr",
     "output_type": "stream",
     "text": [
      "/home/hanliu/miniconda3/envs/clustering/lib/python3.7/site-packages/ALLCools/dmr/fimo.py:60: FutureWarning: to_msgpack is deprecated and will be removed in a future version.\n",
      "It is recommended to use pyarrow for on-the-wire transmission of pandas objects.\n",
      "  final_df.to_msgpack(output_path, compress='zlib')\n"
     ]
    },
    {
     "name": "stdout",
     "output_type": "stream",
     "text": [
      "/home/hanliu/project/mouse_rostral_brain/study/ITSpatial/DMRAnalysis/AggLayerDMR/IT-L6/MotifScan.h5adtemp/MA1144.1.meme, N motif total=62430\n"
     ]
    },
    {
     "name": "stderr",
     "output_type": "stream",
     "text": [
      "/home/hanliu/miniconda3/envs/clustering/lib/python3.7/site-packages/ALLCools/dmr/fimo.py:60: FutureWarning: to_msgpack is deprecated and will be removed in a future version.\n",
      "It is recommended to use pyarrow for on-the-wire transmission of pandas objects.\n",
      "  final_df.to_msgpack(output_path, compress='zlib')\n"
     ]
    },
    {
     "name": "stdout",
     "output_type": "stream",
     "text": [
      "/home/hanliu/project/mouse_rostral_brain/study/ITSpatial/DMRAnalysis/AggLayerDMR/IT-L6/MotifScan.h5adtemp/MA1130.1.meme, N motif total=56762\n"
     ]
    },
    {
     "name": "stderr",
     "output_type": "stream",
     "text": [
      "/home/hanliu/miniconda3/envs/clustering/lib/python3.7/site-packages/ALLCools/dmr/fimo.py:60: FutureWarning: to_msgpack is deprecated and will be removed in a future version.\n",
      "It is recommended to use pyarrow for on-the-wire transmission of pandas objects.\n",
      "  final_df.to_msgpack(output_path, compress='zlib')\n"
     ]
    },
    {
     "name": "stdout",
     "output_type": "stream",
     "text": [
      "/home/hanliu/project/mouse_rostral_brain/study/ITSpatial/DMRAnalysis/AggLayerDMR/IT-L6/MotifScan.h5adtemp/MA1139.1.meme, N motif total=17339\n"
     ]
    },
    {
     "name": "stderr",
     "output_type": "stream",
     "text": [
      "/home/hanliu/miniconda3/envs/clustering/lib/python3.7/site-packages/ALLCools/dmr/fimo.py:60: FutureWarning: to_msgpack is deprecated and will be removed in a future version.\n",
      "It is recommended to use pyarrow for on-the-wire transmission of pandas objects.\n",
      "  final_df.to_msgpack(output_path, compress='zlib')\n"
     ]
    },
    {
     "name": "stdout",
     "output_type": "stream",
     "text": [
      "/home/hanliu/project/mouse_rostral_brain/study/ITSpatial/DMRAnalysis/AggLayerDMR/IT-L6/MotifScan.h5adtemp/MA0149.1.meme, N motif total=20846\n"
     ]
    },
    {
     "name": "stderr",
     "output_type": "stream",
     "text": [
      "/home/hanliu/miniconda3/envs/clustering/lib/python3.7/site-packages/ALLCools/dmr/fimo.py:60: FutureWarning: to_msgpack is deprecated and will be removed in a future version.\n",
      "It is recommended to use pyarrow for on-the-wire transmission of pandas objects.\n",
      "  final_df.to_msgpack(output_path, compress='zlib')\n"
     ]
    },
    {
     "name": "stdout",
     "output_type": "stream",
     "text": [
      "/home/hanliu/project/mouse_rostral_brain/study/ITSpatial/DMRAnalysis/AggLayerDMR/IT-L6/MotifScan.h5adtemp/MA0047.3.meme, N motif total=28831\n"
     ]
    },
    {
     "name": "stderr",
     "output_type": "stream",
     "text": [
      "/home/hanliu/miniconda3/envs/clustering/lib/python3.7/site-packages/ALLCools/dmr/fimo.py:60: FutureWarning: to_msgpack is deprecated and will be removed in a future version.\n",
      "It is recommended to use pyarrow for on-the-wire transmission of pandas objects.\n",
      "  final_df.to_msgpack(output_path, compress='zlib')\n"
     ]
    },
    {
     "name": "stdout",
     "output_type": "stream",
     "text": [
      "/home/hanliu/project/mouse_rostral_brain/study/ITSpatial/DMRAnalysis/AggLayerDMR/IT-L6/MotifScan.h5adtemp/MA0148.4.meme, N motif total=30143\n"
     ]
    },
    {
     "name": "stderr",
     "output_type": "stream",
     "text": [
      "/home/hanliu/miniconda3/envs/clustering/lib/python3.7/site-packages/ALLCools/dmr/fimo.py:60: FutureWarning: to_msgpack is deprecated and will be removed in a future version.\n",
      "It is recommended to use pyarrow for on-the-wire transmission of pandas objects.\n",
      "  final_df.to_msgpack(output_path, compress='zlib')\n"
     ]
    },
    {
     "name": "stdout",
     "output_type": "stream",
     "text": [
      "/home/hanliu/project/mouse_rostral_brain/study/ITSpatial/DMRAnalysis/AggLayerDMR/IT-L6/MotifScan.h5adtemp/MA1683.1.meme, N motif total=25267\n"
     ]
    },
    {
     "name": "stderr",
     "output_type": "stream",
     "text": [
      "/home/hanliu/miniconda3/envs/clustering/lib/python3.7/site-packages/ALLCools/dmr/fimo.py:60: FutureWarning: to_msgpack is deprecated and will be removed in a future version.\n",
      "It is recommended to use pyarrow for on-the-wire transmission of pandas objects.\n",
      "  final_df.to_msgpack(output_path, compress='zlib')\n"
     ]
    },
    {
     "name": "stdout",
     "output_type": "stream",
     "text": [
      "/home/hanliu/project/mouse_rostral_brain/study/ITSpatial/DMRAnalysis/AggLayerDMR/IT-L6/MotifScan.h5adtemp/MA0845.1.meme, N motif total=39370\n"
     ]
    },
    {
     "name": "stderr",
     "output_type": "stream",
     "text": [
      "/home/hanliu/miniconda3/envs/clustering/lib/python3.7/site-packages/ALLCools/dmr/fimo.py:60: FutureWarning: to_msgpack is deprecated and will be removed in a future version.\n",
      "It is recommended to use pyarrow for on-the-wire transmission of pandas objects.\n",
      "  final_df.to_msgpack(output_path, compress='zlib')\n"
     ]
    },
    {
     "name": "stdout",
     "output_type": "stream",
     "text": [
      "/home/hanliu/project/mouse_rostral_brain/study/ITSpatial/DMRAnalysis/AggLayerDMR/IT-L6/MotifScan.h5adtemp/MA1145.1.meme, N motif total=17872\n"
     ]
    },
    {
     "name": "stderr",
     "output_type": "stream",
     "text": [
      "/home/hanliu/miniconda3/envs/clustering/lib/python3.7/site-packages/ALLCools/dmr/fimo.py:60: FutureWarning: to_msgpack is deprecated and will be removed in a future version.\n",
      "It is recommended to use pyarrow for on-the-wire transmission of pandas objects.\n",
      "  final_df.to_msgpack(output_path, compress='zlib')\n"
     ]
    },
    {
     "name": "stdout",
     "output_type": "stream",
     "text": [
      "/home/hanliu/project/mouse_rostral_brain/study/ITSpatial/DMRAnalysis/AggLayerDMR/IT-L6/MotifScan.h5adtemp/MA0031.1.meme, N motif total=17618\n"
     ]
    },
    {
     "name": "stderr",
     "output_type": "stream",
     "text": [
      "/home/hanliu/miniconda3/envs/clustering/lib/python3.7/site-packages/ALLCools/dmr/fimo.py:60: FutureWarning: to_msgpack is deprecated and will be removed in a future version.\n",
      "It is recommended to use pyarrow for on-the-wire transmission of pandas objects.\n",
      "  final_df.to_msgpack(output_path, compress='zlib')\n"
     ]
    },
    {
     "name": "stdout",
     "output_type": "stream",
     "text": [
      "/home/hanliu/project/mouse_rostral_brain/study/ITSpatial/DMRAnalysis/AggLayerDMR/IT-L6/MotifScan.h5adtemp/MA0032.2.meme, N motif total=42326\n"
     ]
    },
    {
     "name": "stderr",
     "output_type": "stream",
     "text": [
      "/home/hanliu/miniconda3/envs/clustering/lib/python3.7/site-packages/ALLCools/dmr/fimo.py:60: FutureWarning: to_msgpack is deprecated and will be removed in a future version.\n",
      "It is recommended to use pyarrow for on-the-wire transmission of pandas objects.\n",
      "  final_df.to_msgpack(output_path, compress='zlib')\n"
     ]
    },
    {
     "name": "stdout",
     "output_type": "stream",
     "text": [
      "/home/hanliu/project/mouse_rostral_brain/study/ITSpatial/DMRAnalysis/AggLayerDMR/IT-L6/MotifScan.h5adtemp/MA0846.1.meme, N motif total=53692\n"
     ]
    },
    {
     "name": "stderr",
     "output_type": "stream",
     "text": [
      "/home/hanliu/miniconda3/envs/clustering/lib/python3.7/site-packages/ALLCools/dmr/fimo.py:60: FutureWarning: to_msgpack is deprecated and will be removed in a future version.\n",
      "It is recommended to use pyarrow for on-the-wire transmission of pandas objects.\n",
      "  final_df.to_msgpack(output_path, compress='zlib')\n"
     ]
    },
    {
     "name": "stdout",
     "output_type": "stream",
     "text": [
      "/home/hanliu/project/mouse_rostral_brain/study/ITSpatial/DMRAnalysis/AggLayerDMR/IT-L6/MotifScan.h5adtemp/MA0042.2.meme, N motif total=17650\n"
     ]
    },
    {
     "name": "stderr",
     "output_type": "stream",
     "text": [
      "/home/hanliu/miniconda3/envs/clustering/lib/python3.7/site-packages/ALLCools/dmr/fimo.py:60: FutureWarning: to_msgpack is deprecated and will be removed in a future version.\n",
      "It is recommended to use pyarrow for on-the-wire transmission of pandas objects.\n",
      "  final_df.to_msgpack(output_path, compress='zlib')\n"
     ]
    },
    {
     "name": "stdout",
     "output_type": "stream",
     "text": [
      "/home/hanliu/project/mouse_rostral_brain/study/ITSpatial/DMRAnalysis/AggLayerDMR/IT-L6/MotifScan.h5adtemp/MA0613.1.meme, N motif total=22069\n"
     ]
    },
    {
     "name": "stderr",
     "output_type": "stream",
     "text": [
      "/home/hanliu/miniconda3/envs/clustering/lib/python3.7/site-packages/ALLCools/dmr/fimo.py:60: FutureWarning: to_msgpack is deprecated and will be removed in a future version.\n",
      "It is recommended to use pyarrow for on-the-wire transmission of pandas objects.\n",
      "  final_df.to_msgpack(output_path, compress='zlib')\n"
     ]
    },
    {
     "name": "stdout",
     "output_type": "stream",
     "text": [
      "/home/hanliu/project/mouse_rostral_brain/study/ITSpatial/DMRAnalysis/AggLayerDMR/IT-L6/MotifScan.h5adtemp/MA0041.1.meme, N motif total=67976\n"
     ]
    },
    {
     "name": "stderr",
     "output_type": "stream",
     "text": [
      "/home/hanliu/miniconda3/envs/clustering/lib/python3.7/site-packages/ALLCools/dmr/fimo.py:60: FutureWarning: to_msgpack is deprecated and will be removed in a future version.\n",
      "It is recommended to use pyarrow for on-the-wire transmission of pandas objects.\n",
      "  final_df.to_msgpack(output_path, compress='zlib')\n"
     ]
    },
    {
     "name": "stdout",
     "output_type": "stream",
     "text": [
      "/home/hanliu/project/mouse_rostral_brain/study/ITSpatial/DMRAnalysis/AggLayerDMR/IT-L6/MotifScan.h5adtemp/MA0614.1.meme, N motif total=20940\n"
     ]
    },
    {
     "name": "stderr",
     "output_type": "stream",
     "text": [
      "/home/hanliu/miniconda3/envs/clustering/lib/python3.7/site-packages/ALLCools/dmr/fimo.py:60: FutureWarning: to_msgpack is deprecated and will be removed in a future version.\n",
      "It is recommended to use pyarrow for on-the-wire transmission of pandas objects.\n",
      "  final_df.to_msgpack(output_path, compress='zlib')\n"
     ]
    },
    {
     "name": "stdout",
     "output_type": "stream",
     "text": [
      "/home/hanliu/project/mouse_rostral_brain/study/ITSpatial/DMRAnalysis/AggLayerDMR/IT-L6/MotifScan.h5adtemp/MA1606.1.meme, N motif total=29779\n"
     ]
    },
    {
     "name": "stderr",
     "output_type": "stream",
     "text": [
      "/home/hanliu/miniconda3/envs/clustering/lib/python3.7/site-packages/ALLCools/dmr/fimo.py:60: FutureWarning: to_msgpack is deprecated and will be removed in a future version.\n",
      "It is recommended to use pyarrow for on-the-wire transmission of pandas objects.\n",
      "  final_df.to_msgpack(output_path, compress='zlib')\n"
     ]
    },
    {
     "name": "stdout",
     "output_type": "stream",
     "text": [
      "/home/hanliu/project/mouse_rostral_brain/study/ITSpatial/DMRAnalysis/AggLayerDMR/IT-L6/MotifScan.h5adtemp/MA0847.2.meme, N motif total=40379\n"
     ]
    },
    {
     "name": "stderr",
     "output_type": "stream",
     "text": [
      "/home/hanliu/miniconda3/envs/clustering/lib/python3.7/site-packages/ALLCools/dmr/fimo.py:60: FutureWarning: to_msgpack is deprecated and will be removed in a future version.\n",
      "It is recommended to use pyarrow for on-the-wire transmission of pandas objects.\n",
      "  final_df.to_msgpack(output_path, compress='zlib')\n"
     ]
    },
    {
     "name": "stdout",
     "output_type": "stream",
     "text": [
      "/home/hanliu/project/mouse_rostral_brain/study/ITSpatial/DMRAnalysis/AggLayerDMR/IT-L6/MotifScan.h5adtemp/MA0033.2.meme, N motif total=17650\n"
     ]
    },
    {
     "name": "stderr",
     "output_type": "stream",
     "text": [
      "/home/hanliu/miniconda3/envs/clustering/lib/python3.7/site-packages/ALLCools/dmr/fimo.py:60: FutureWarning: to_msgpack is deprecated and will be removed in a future version.\n",
      "It is recommended to use pyarrow for on-the-wire transmission of pandas objects.\n",
      "  final_df.to_msgpack(output_path, compress='zlib')\n"
     ]
    },
    {
     "name": "stdout",
     "output_type": "stream",
     "text": [
      "/home/hanliu/project/mouse_rostral_brain/study/ITSpatial/DMRAnalysis/AggLayerDMR/IT-L6/MotifScan.h5adtemp/MA0479.1.meme, N motif total=26212\n"
     ]
    },
    {
     "name": "stderr",
     "output_type": "stream",
     "text": [
      "/home/hanliu/miniconda3/envs/clustering/lib/python3.7/site-packages/ALLCools/dmr/fimo.py:60: FutureWarning: to_msgpack is deprecated and will be removed in a future version.\n",
      "It is recommended to use pyarrow for on-the-wire transmission of pandas objects.\n",
      "  final_df.to_msgpack(output_path, compress='zlib')\n"
     ]
    },
    {
     "name": "stdout",
     "output_type": "stream",
     "text": [
      "/home/hanliu/project/mouse_rostral_brain/study/ITSpatial/DMRAnalysis/AggLayerDMR/IT-L6/MotifScan.h5adtemp/MA0848.1.meme, N motif total=17650\n"
     ]
    },
    {
     "name": "stderr",
     "output_type": "stream",
     "text": [
      "/home/hanliu/miniconda3/envs/clustering/lib/python3.7/site-packages/ALLCools/dmr/fimo.py:60: FutureWarning: to_msgpack is deprecated and will be removed in a future version.\n",
      "It is recommended to use pyarrow for on-the-wire transmission of pandas objects.\n",
      "  final_df.to_msgpack(output_path, compress='zlib')\n"
     ]
    },
    {
     "name": "stdout",
     "output_type": "stream",
     "text": [
      "/home/hanliu/project/mouse_rostral_brain/study/ITSpatial/DMRAnalysis/AggLayerDMR/IT-L6/MotifScan.h5adtemp/MA1489.1.meme, N motif total=4532\n"
     ]
    },
    {
     "name": "stderr",
     "output_type": "stream",
     "text": [
      "/home/hanliu/miniconda3/envs/clustering/lib/python3.7/site-packages/ALLCools/dmr/fimo.py:60: FutureWarning: to_msgpack is deprecated and will be removed in a future version.\n",
      "It is recommended to use pyarrow for on-the-wire transmission of pandas objects.\n",
      "  final_df.to_msgpack(output_path, compress='zlib')\n"
     ]
    },
    {
     "name": "stdout",
     "output_type": "stream",
     "text": [
      "/home/hanliu/project/mouse_rostral_brain/study/ITSpatial/DMRAnalysis/AggLayerDMR/IT-L6/MotifScan.h5adtemp/MA0157.2.meme, N motif total=20686\n"
     ]
    },
    {
     "name": "stderr",
     "output_type": "stream",
     "text": [
      "/home/hanliu/miniconda3/envs/clustering/lib/python3.7/site-packages/ALLCools/dmr/fimo.py:60: FutureWarning: to_msgpack is deprecated and will be removed in a future version.\n",
      "It is recommended to use pyarrow for on-the-wire transmission of pandas objects.\n",
      "  final_df.to_msgpack(output_path, compress='zlib')\n"
     ]
    },
    {
     "name": "stdout",
     "output_type": "stream",
     "text": [
      "/home/hanliu/project/mouse_rostral_brain/study/ITSpatial/DMRAnalysis/AggLayerDMR/IT-L6/MotifScan.h5adtemp/MA1103.2.meme, N motif total=26693\n"
     ]
    },
    {
     "name": "stderr",
     "output_type": "stream",
     "text": [
      "/home/hanliu/miniconda3/envs/clustering/lib/python3.7/site-packages/ALLCools/dmr/fimo.py:60: FutureWarning: to_msgpack is deprecated and will be removed in a future version.\n",
      "It is recommended to use pyarrow for on-the-wire transmission of pandas objects.\n",
      "  final_df.to_msgpack(output_path, compress='zlib')\n"
     ]
    },
    {
     "name": "stdout",
     "output_type": "stream",
     "text": [
      "/home/hanliu/project/mouse_rostral_brain/study/ITSpatial/DMRAnalysis/AggLayerDMR/IT-L6/MotifScan.h5adtemp/MA0030.1.meme, N motif total=23148\n"
     ]
    },
    {
     "name": "stderr",
     "output_type": "stream",
     "text": [
      "/home/hanliu/miniconda3/envs/clustering/lib/python3.7/site-packages/ALLCools/dmr/fimo.py:60: FutureWarning: to_msgpack is deprecated and will be removed in a future version.\n",
      "It is recommended to use pyarrow for on-the-wire transmission of pandas objects.\n",
      "  final_df.to_msgpack(output_path, compress='zlib')\n"
     ]
    },
    {
     "name": "stdout",
     "output_type": "stream",
     "text": [
      "/home/hanliu/project/mouse_rostral_brain/study/ITSpatial/DMRAnalysis/AggLayerDMR/IT-L6/MotifScan.h5adtemp/MA0849.1.meme, N motif total=17650\n"
     ]
    },
    {
     "name": "stderr",
     "output_type": "stream",
     "text": [
      "/home/hanliu/miniconda3/envs/clustering/lib/python3.7/site-packages/ALLCools/dmr/fimo.py:60: FutureWarning: to_msgpack is deprecated and will be removed in a future version.\n",
      "It is recommended to use pyarrow for on-the-wire transmission of pandas objects.\n",
      "  final_df.to_msgpack(output_path, compress='zlib')\n"
     ]
    },
    {
     "name": "stdout",
     "output_type": "stream",
     "text": [
      "/home/hanliu/project/mouse_rostral_brain/study/ITSpatial/DMRAnalysis/AggLayerDMR/IT-L6/MotifScan.h5adtemp/MA0850.1.meme, N motif total=17650\n"
     ]
    },
    {
     "name": "stderr",
     "output_type": "stream",
     "text": [
      "/home/hanliu/miniconda3/envs/clustering/lib/python3.7/site-packages/ALLCools/dmr/fimo.py:60: FutureWarning: to_msgpack is deprecated and will be removed in a future version.\n",
      "It is recommended to use pyarrow for on-the-wire transmission of pandas objects.\n",
      "  final_df.to_msgpack(output_path, compress='zlib')\n"
     ]
    },
    {
     "name": "stdout",
     "output_type": "stream",
     "text": [
      "/home/hanliu/project/mouse_rostral_brain/study/ITSpatial/DMRAnalysis/AggLayerDMR/IT-L6/MotifScan.h5adtemp/MA1487.1.meme, N motif total=41014\n"
     ]
    },
    {
     "name": "stderr",
     "output_type": "stream",
     "text": [
      "/home/hanliu/miniconda3/envs/clustering/lib/python3.7/site-packages/ALLCools/dmr/fimo.py:60: FutureWarning: to_msgpack is deprecated and will be removed in a future version.\n",
      "It is recommended to use pyarrow for on-the-wire transmission of pandas objects.\n",
      "  final_df.to_msgpack(output_path, compress='zlib')\n"
     ]
    },
    {
     "name": "stdout",
     "output_type": "stream",
     "text": [
      "/home/hanliu/project/mouse_rostral_brain/study/ITSpatial/DMRAnalysis/AggLayerDMR/IT-L6/MotifScan.h5adtemp/MA0037.3.meme, N motif total=15192\n"
     ]
    },
    {
     "name": "stderr",
     "output_type": "stream",
     "text": [
      "/home/hanliu/miniconda3/envs/clustering/lib/python3.7/site-packages/ALLCools/dmr/fimo.py:60: FutureWarning: to_msgpack is deprecated and will be removed in a future version.\n",
      "It is recommended to use pyarrow for on-the-wire transmission of pandas objects.\n",
      "  final_df.to_msgpack(output_path, compress='zlib')\n"
     ]
    },
    {
     "name": "stdout",
     "output_type": "stream",
     "text": [
      "/home/hanliu/project/mouse_rostral_brain/study/ITSpatial/DMRAnalysis/AggLayerDMR/IT-L6/MotifScan.h5adtemp/MA0852.2.meme, N motif total=26648\n"
     ]
    },
    {
     "name": "stderr",
     "output_type": "stream",
     "text": [
      "/home/hanliu/miniconda3/envs/clustering/lib/python3.7/site-packages/ALLCools/dmr/fimo.py:60: FutureWarning: to_msgpack is deprecated and will be removed in a future version.\n",
      "It is recommended to use pyarrow for on-the-wire transmission of pandas objects.\n",
      "  final_df.to_msgpack(output_path, compress='zlib')\n"
     ]
    },
    {
     "name": "stdout",
     "output_type": "stream",
     "text": [
      "/home/hanliu/project/mouse_rostral_brain/study/ITSpatial/DMRAnalysis/AggLayerDMR/IT-L6/MotifScan.h5adtemp/MA0481.3.meme, N motif total=27884\n"
     ]
    },
    {
     "name": "stdout",
     "output_type": "stream",
     "text": [
      "/home/hanliu/project/mouse_rostral_brain/study/ITSpatial/DMRAnalysis/AggLayerDMR/IT-L6/MotifScan.h5adtemp/MA0040.1.meme, N motif total=26483\n"
     ]
    },
    {
     "name": "stderr",
     "output_type": "stream",
     "text": [
      "/home/hanliu/miniconda3/envs/clustering/lib/python3.7/site-packages/ALLCools/dmr/fimo.py:60: FutureWarning: to_msgpack is deprecated and will be removed in a future version.\n",
      "It is recommended to use pyarrow for on-the-wire transmission of pandas objects.\n",
      "  final_df.to_msgpack(output_path, compress='zlib')\n"
     ]
    },
    {
     "name": "stderr",
     "output_type": "stream",
     "text": [
      "/home/hanliu/miniconda3/envs/clustering/lib/python3.7/site-packages/ALLCools/dmr/fimo.py:60: FutureWarning: to_msgpack is deprecated and will be removed in a future version.\n",
      "It is recommended to use pyarrow for on-the-wire transmission of pandas objects.\n",
      "  final_df.to_msgpack(output_path, compress='zlib')\n"
     ]
    },
    {
     "name": "stdout",
     "output_type": "stream",
     "text": [
      "/home/hanliu/project/mouse_rostral_brain/study/ITSpatial/DMRAnalysis/AggLayerDMR/IT-L6/MotifScan.h5adtemp/MA0480.1.meme, N motif total=41348\n"
     ]
    },
    {
     "name": "stderr",
     "output_type": "stream",
     "text": [
      "/home/hanliu/miniconda3/envs/clustering/lib/python3.7/site-packages/ALLCools/dmr/fimo.py:60: FutureWarning: to_msgpack is deprecated and will be removed in a future version.\n",
      "It is recommended to use pyarrow for on-the-wire transmission of pandas objects.\n",
      "  final_df.to_msgpack(output_path, compress='zlib')\n"
     ]
    },
    {
     "name": "stdout",
     "output_type": "stream",
     "text": [
      "/home/hanliu/project/mouse_rostral_brain/study/ITSpatial/DMRAnalysis/AggLayerDMR/IT-L6/MotifScan.h5adtemp/MA0851.1.meme, N motif total=41127\n"
     ]
    },
    {
     "name": "stderr",
     "output_type": "stream",
     "text": [
      "/home/hanliu/miniconda3/envs/clustering/lib/python3.7/site-packages/ALLCools/dmr/fimo.py:60: FutureWarning: to_msgpack is deprecated and will be removed in a future version.\n",
      "It is recommended to use pyarrow for on-the-wire transmission of pandas objects.\n",
      "  final_df.to_msgpack(output_path, compress='zlib')\n"
     ]
    },
    {
     "name": "stdout",
     "output_type": "stream",
     "text": [
      "/home/hanliu/project/mouse_rostral_brain/study/ITSpatial/DMRAnalysis/AggLayerDMR/IT-L6/MotifScan.h5adtemp/MA0035.4.meme, N motif total=16597\n"
     ]
    },
    {
     "name": "stderr",
     "output_type": "stream",
     "text": [
      "/home/hanliu/miniconda3/envs/clustering/lib/python3.7/site-packages/ALLCools/dmr/fimo.py:60: FutureWarning: to_msgpack is deprecated and will be removed in a future version.\n",
      "It is recommended to use pyarrow for on-the-wire transmission of pandas objects.\n",
      "  final_df.to_msgpack(output_path, compress='zlib')\n"
     ]
    },
    {
     "name": "stdout",
     "output_type": "stream",
     "text": [
      "/home/hanliu/project/mouse_rostral_brain/study/ITSpatial/DMRAnalysis/AggLayerDMR/IT-L6/MotifScan.h5adtemp/MA1607.1.meme, N motif total=33198\n"
     ]
    },
    {
     "name": "stderr",
     "output_type": "stream",
     "text": [
      "/home/hanliu/miniconda3/envs/clustering/lib/python3.7/site-packages/ALLCools/dmr/fimo.py:60: FutureWarning: to_msgpack is deprecated and will be removed in a future version.\n",
      "It is recommended to use pyarrow for on-the-wire transmission of pandas objects.\n",
      "  final_df.to_msgpack(output_path, compress='zlib')\n"
     ]
    },
    {
     "name": "stdout",
     "output_type": "stream",
     "text": [
      "/home/hanliu/project/mouse_rostral_brain/study/ITSpatial/DMRAnalysis/AggLayerDMR/IT-L6/MotifScan.h5adtemp/MA0593.1.meme, N motif total=39666\n"
     ]
    },
    {
     "name": "stderr",
     "output_type": "stream",
     "text": [
      "/home/hanliu/miniconda3/envs/clustering/lib/python3.7/site-packages/ALLCools/dmr/fimo.py:60: FutureWarning: to_msgpack is deprecated and will be removed in a future version.\n",
      "It is recommended to use pyarrow for on-the-wire transmission of pandas objects.\n",
      "  final_df.to_msgpack(output_path, compress='zlib')\n"
     ]
    },
    {
     "name": "stdout",
     "output_type": "stream",
     "text": [
      "/home/hanliu/project/mouse_rostral_brain/study/ITSpatial/DMRAnalysis/AggLayerDMR/IT-L6/MotifScan.h5adtemp/MA0889.1.meme, N motif total=7865\n"
     ]
    },
    {
     "name": "stderr",
     "output_type": "stream",
     "text": [
      "/home/hanliu/miniconda3/envs/clustering/lib/python3.7/site-packages/ALLCools/dmr/fimo.py:60: FutureWarning: to_msgpack is deprecated and will be removed in a future version.\n",
      "It is recommended to use pyarrow for on-the-wire transmission of pandas objects.\n",
      "  final_df.to_msgpack(output_path, compress='zlib')\n"
     ]
    },
    {
     "name": "stdout",
     "output_type": "stream",
     "text": [
      "/home/hanliu/project/mouse_rostral_brain/study/ITSpatial/DMRAnalysis/AggLayerDMR/IT-L6/MotifScan.h5adtemp/MA0766.2.meme, N motif total=15611\n"
     ]
    },
    {
     "name": "stderr",
     "output_type": "stream",
     "text": [
      "/home/hanliu/miniconda3/envs/clustering/lib/python3.7/site-packages/ALLCools/dmr/fimo.py:60: FutureWarning: to_msgpack is deprecated and will be removed in a future version.\n",
      "It is recommended to use pyarrow for on-the-wire transmission of pandas objects.\n",
      "  final_df.to_msgpack(output_path, compress='zlib')\n"
     ]
    },
    {
     "name": "stdout",
     "output_type": "stream",
     "text": [
      "/home/hanliu/project/mouse_rostral_brain/study/ITSpatial/DMRAnalysis/AggLayerDMR/IT-L6/MotifScan.h5adtemp/MA0036.3.meme, N motif total=20687\n"
     ]
    },
    {
     "name": "stderr",
     "output_type": "stream",
     "text": [
      "/home/hanliu/miniconda3/envs/clustering/lib/python3.7/site-packages/ALLCools/dmr/fimo.py:60: FutureWarning: to_msgpack is deprecated and will be removed in a future version.\n",
      "It is recommended to use pyarrow for on-the-wire transmission of pandas objects.\n",
      "  final_df.to_msgpack(output_path, compress='zlib')\n"
     ]
    },
    {
     "name": "stdout",
     "output_type": "stream",
     "text": [
      "/home/hanliu/project/mouse_rostral_brain/study/ITSpatial/DMRAnalysis/AggLayerDMR/IT-L6/MotifScan.h5adtemp/MA0482.2.meme, N motif total=23691\n"
     ]
    },
    {
     "name": "stderr",
     "output_type": "stream",
     "text": [
      "/home/hanliu/miniconda3/envs/clustering/lib/python3.7/site-packages/ALLCools/dmr/fimo.py:60: FutureWarning: to_msgpack is deprecated and will be removed in a future version.\n",
      "It is recommended to use pyarrow for on-the-wire transmission of pandas objects.\n",
      "  final_df.to_msgpack(output_path, compress='zlib')\n"
     ]
    },
    {
     "name": "stdout",
     "output_type": "stream",
     "text": [
      "/home/hanliu/project/mouse_rostral_brain/study/ITSpatial/DMRAnalysis/AggLayerDMR/IT-L6/MotifScan.h5adtemp/MA0890.1.meme, N motif total=8834\n"
     ]
    },
    {
     "name": "stderr",
     "output_type": "stream",
     "text": [
      "/home/hanliu/miniconda3/envs/clustering/lib/python3.7/site-packages/ALLCools/dmr/fimo.py:60: FutureWarning: to_msgpack is deprecated and will be removed in a future version.\n",
      "It is recommended to use pyarrow for on-the-wire transmission of pandas objects.\n",
      "  final_df.to_msgpack(output_path, compress='zlib')\n"
     ]
    },
    {
     "name": "stdout",
     "output_type": "stream",
     "text": [
      "/home/hanliu/project/mouse_rostral_brain/study/ITSpatial/DMRAnalysis/AggLayerDMR/IT-L6/MotifScan.h5adtemp/MA0767.1.meme, N motif total=14878\n"
     ]
    },
    {
     "name": "stderr",
     "output_type": "stream",
     "text": [
      "/home/hanliu/miniconda3/envs/clustering/lib/python3.7/site-packages/ALLCools/dmr/fimo.py:60: FutureWarning: to_msgpack is deprecated and will be removed in a future version.\n",
      "It is recommended to use pyarrow for on-the-wire transmission of pandas objects.\n",
      "  final_df.to_msgpack(output_path, compress='zlib')\n"
     ]
    },
    {
     "name": "stdout",
     "output_type": "stream",
     "text": [
      "/home/hanliu/project/mouse_rostral_brain/study/ITSpatial/DMRAnalysis/AggLayerDMR/IT-L6/MotifScan.h5adtemp/MA1104.2.meme, N motif total=23685\n"
     ]
    },
    {
     "name": "stderr",
     "output_type": "stream",
     "text": [
      "/home/hanliu/miniconda3/envs/clustering/lib/python3.7/site-packages/ALLCools/dmr/fimo.py:60: FutureWarning: to_msgpack is deprecated and will be removed in a future version.\n",
      "It is recommended to use pyarrow for on-the-wire transmission of pandas objects.\n",
      "  final_df.to_msgpack(output_path, compress='zlib')\n"
     ]
    },
    {
     "name": "stdout",
     "output_type": "stream",
     "text": [
      "/home/hanliu/project/mouse_rostral_brain/study/ITSpatial/DMRAnalysis/AggLayerDMR/IT-L6/MotifScan.h5adtemp/MA0646.1.meme, N motif total=17702\n"
     ]
    },
    {
     "name": "stderr",
     "output_type": "stream",
     "text": [
      "/home/hanliu/miniconda3/envs/clustering/lib/python3.7/site-packages/ALLCools/dmr/fimo.py:60: FutureWarning: to_msgpack is deprecated and will be removed in a future version.\n",
      "It is recommended to use pyarrow for on-the-wire transmission of pandas objects.\n",
      "  final_df.to_msgpack(output_path, compress='zlib')\n"
     ]
    },
    {
     "name": "stdout",
     "output_type": "stream",
     "text": [
      "/home/hanliu/project/mouse_rostral_brain/study/ITSpatial/DMRAnalysis/AggLayerDMR/IT-L6/MotifScan.h5adtemp/MA0062.3.meme, N motif total=65304\n"
     ]
    },
    {
     "name": "stderr",
     "output_type": "stream",
     "text": [
      "/home/hanliu/miniconda3/envs/clustering/lib/python3.7/site-packages/ALLCools/dmr/fimo.py:60: FutureWarning: to_msgpack is deprecated and will be removed in a future version.\n",
      "It is recommended to use pyarrow for on-the-wire transmission of pandas objects.\n",
      "  final_df.to_msgpack(output_path, compress='zlib')\n"
     ]
    },
    {
     "name": "stdout",
     "output_type": "stream",
     "text": [
      "/home/hanliu/project/mouse_rostral_brain/study/ITSpatial/DMRAnalysis/AggLayerDMR/IT-L6/MotifScan.h5adtemp/MA0038.2.meme, N motif total=26484\n"
     ]
    },
    {
     "name": "stderr",
     "output_type": "stream",
     "text": [
      "/home/hanliu/miniconda3/envs/clustering/lib/python3.7/site-packages/ALLCools/dmr/fimo.py:60: FutureWarning: to_msgpack is deprecated and will be removed in a future version.\n",
      "It is recommended to use pyarrow for on-the-wire transmission of pandas objects.\n",
      "  final_df.to_msgpack(output_path, compress='zlib')\n"
     ]
    },
    {
     "name": "stdout",
     "output_type": "stream",
     "text": [
      "/home/hanliu/project/mouse_rostral_brain/study/ITSpatial/DMRAnalysis/AggLayerDMR/IT-L6/MotifScan.h5adtemp/MA0483.1.meme, N motif total=42960\n"
     ]
    },
    {
     "name": "stderr",
     "output_type": "stream",
     "text": [
      "/home/hanliu/miniconda3/envs/clustering/lib/python3.7/site-packages/ALLCools/dmr/fimo.py:60: FutureWarning: to_msgpack is deprecated and will be removed in a future version.\n",
      "It is recommended to use pyarrow for on-the-wire transmission of pandas objects.\n",
      "  final_df.to_msgpack(output_path, compress='zlib')\n"
     ]
    },
    {
     "name": "stdout",
     "output_type": "stream",
     "text": [
      "/home/hanliu/project/mouse_rostral_brain/study/ITSpatial/DMRAnalysis/AggLayerDMR/IT-L6/MotifScan.h5adtemp/MA0140.2.meme, N motif total=21429\n"
     ]
    },
    {
     "name": "stderr",
     "output_type": "stream",
     "text": [
      "/home/hanliu/miniconda3/envs/clustering/lib/python3.7/site-packages/ALLCools/dmr/fimo.py:60: FutureWarning: to_msgpack is deprecated and will be removed in a future version.\n",
      "It is recommended to use pyarrow for on-the-wire transmission of pandas objects.\n",
      "  final_df.to_msgpack(output_path, compress='zlib')\n"
     ]
    },
    {
     "name": "stdout",
     "output_type": "stream",
     "text": [
      "/home/hanliu/project/mouse_rostral_brain/study/ITSpatial/DMRAnalysis/AggLayerDMR/IT-L6/MotifScan.h5adtemp/MA0734.2.meme, N motif total=36755\n"
     ]
    },
    {
     "name": "stderr",
     "output_type": "stream",
     "text": [
      "/home/hanliu/miniconda3/envs/clustering/lib/python3.7/site-packages/ALLCools/dmr/fimo.py:60: FutureWarning: to_msgpack is deprecated and will be removed in a future version.\n",
      "It is recommended to use pyarrow for on-the-wire transmission of pandas objects.\n",
      "  final_df.to_msgpack(output_path, compress='zlib')\n"
     ]
    },
    {
     "name": "stdout",
     "output_type": "stream",
     "text": [
      "/home/hanliu/project/mouse_rostral_brain/study/ITSpatial/DMRAnalysis/AggLayerDMR/IT-L6/MotifScan.h5adtemp/MA0862.1.meme, N motif total=2739\n"
     ]
    },
    {
     "name": "stderr",
     "output_type": "stream",
     "text": [
      "/home/hanliu/miniconda3/envs/clustering/lib/python3.7/site-packages/ALLCools/dmr/fimo.py:60: FutureWarning: to_msgpack is deprecated and will be removed in a future version.\n",
      "It is recommended to use pyarrow for on-the-wire transmission of pandas objects.\n",
      "  final_df.to_msgpack(output_path, compress='zlib')\n"
     ]
    },
    {
     "name": "stdout",
     "output_type": "stream",
     "text": [
      "/home/hanliu/project/mouse_rostral_brain/study/ITSpatial/DMRAnalysis/AggLayerDMR/IT-L6/MotifScan.h5adtemp/MA0893.2.meme, N motif total=10312\n"
     ]
    },
    {
     "name": "stdout",
     "output_type": "stream",
     "text": [
      "/home/hanliu/project/mouse_rostral_brain/study/ITSpatial/DMRAnalysis/AggLayerDMR/IT-L6/MotifScan.h5adtemp/MA1491.1.meme, N motif total=41895\n"
     ]
    },
    {
     "name": "stderr",
     "output_type": "stream",
     "text": [
      "/home/hanliu/miniconda3/envs/clustering/lib/python3.7/site-packages/ALLCools/dmr/fimo.py:60: FutureWarning: to_msgpack is deprecated and will be removed in a future version.\n",
      "It is recommended to use pyarrow for on-the-wire transmission of pandas objects.\n",
      "  final_df.to_msgpack(output_path, compress='zlib')\n"
     ]
    },
    {
     "name": "stderr",
     "output_type": "stream",
     "text": [
      "/home/hanliu/miniconda3/envs/clustering/lib/python3.7/site-packages/ALLCools/dmr/fimo.py:60: FutureWarning: to_msgpack is deprecated and will be removed in a future version.\n",
      "It is recommended to use pyarrow for on-the-wire transmission of pandas objects.\n",
      "  final_df.to_msgpack(output_path, compress='zlib')\n"
     ]
    },
    {
     "name": "stdout",
     "output_type": "stream",
     "text": [
      "Finish count 200 motifs.\n"
     ]
    },
    {
     "name": "stdout",
     "output_type": "stream",
     "text": [
      "/home/hanliu/project/mouse_rostral_brain/study/ITSpatial/DMRAnalysis/AggLayerDMR/IT-L6/MotifScan.h5adtemp/MA0736.1.meme, N motif total=25100\n"
     ]
    },
    {
     "name": "stderr",
     "output_type": "stream",
     "text": [
      "/home/hanliu/miniconda3/envs/clustering/lib/python3.7/site-packages/ALLCools/dmr/fimo.py:60: FutureWarning: to_msgpack is deprecated and will be removed in a future version.\n",
      "It is recommended to use pyarrow for on-the-wire transmission of pandas objects.\n",
      "  final_df.to_msgpack(output_path, compress='zlib')\n"
     ]
    },
    {
     "name": "stdout",
     "output_type": "stream",
     "text": [
      "/home/hanliu/project/mouse_rostral_brain/study/ITSpatial/DMRAnalysis/AggLayerDMR/IT-L6/MotifScan.h5adtemp/MA0737.1.meme, N motif total=7552\n"
     ]
    },
    {
     "name": "stderr",
     "output_type": "stream",
     "text": [
      "/home/hanliu/miniconda3/envs/clustering/lib/python3.7/site-packages/ALLCools/dmr/fimo.py:60: FutureWarning: to_msgpack is deprecated and will be removed in a future version.\n",
      "It is recommended to use pyarrow for on-the-wire transmission of pandas objects.\n",
      "  final_df.to_msgpack(output_path, compress='zlib')\n"
     ]
    },
    {
     "name": "stdout",
     "output_type": "stream",
     "text": [
      "/home/hanliu/project/mouse_rostral_brain/study/ITSpatial/DMRAnalysis/AggLayerDMR/IT-L6/MotifScan.h5adtemp/MA0648.1.meme, N motif total=10806\n"
     ]
    },
    {
     "name": "stderr",
     "output_type": "stream",
     "text": [
      "/home/hanliu/miniconda3/envs/clustering/lib/python3.7/site-packages/ALLCools/dmr/fimo.py:60: FutureWarning: to_msgpack is deprecated and will be removed in a future version.\n",
      "It is recommended to use pyarrow for on-the-wire transmission of pandas objects.\n",
      "  final_df.to_msgpack(output_path, compress='zlib')\n"
     ]
    },
    {
     "name": "stdout",
     "output_type": "stream",
     "text": [
      "/home/hanliu/project/mouse_rostral_brain/study/ITSpatial/DMRAnalysis/AggLayerDMR/IT-L6/MotifScan.h5adtemp/MA0735.1.meme, N motif total=165\n"
     ]
    },
    {
     "name": "stderr",
     "output_type": "stream",
     "text": [
      "/home/hanliu/miniconda3/envs/clustering/lib/python3.7/site-packages/ALLCools/dmr/fimo.py:60: FutureWarning: to_msgpack is deprecated and will be removed in a future version.\n",
      "It is recommended to use pyarrow for on-the-wire transmission of pandas objects.\n",
      "  final_df.to_msgpack(output_path, compress='zlib')\n"
     ]
    },
    {
     "name": "stdout",
     "output_type": "stream",
     "text": [
      "/home/hanliu/project/mouse_rostral_brain/study/ITSpatial/DMRAnalysis/AggLayerDMR/IT-L6/MotifScan.h5adtemp/MA1105.2.meme, N motif total=24721\n"
     ]
    },
    {
     "name": "stdout",
     "output_type": "stream",
     "text": [
      "/home/hanliu/project/mouse_rostral_brain/study/ITSpatial/DMRAnalysis/AggLayerDMR/IT-L6/MotifScan.h5adtemp/MA0647.1.meme, N motif total=14636\n"
     ]
    },
    {
     "name": "stderr",
     "output_type": "stream",
     "text": [
      "/home/hanliu/miniconda3/envs/clustering/lib/python3.7/site-packages/ALLCools/dmr/fimo.py:60: FutureWarning: to_msgpack is deprecated and will be removed in a future version.\n",
      "It is recommended to use pyarrow for on-the-wire transmission of pandas objects.\n",
      "  final_df.to_msgpack(output_path, compress='zlib')\n"
     ]
    },
    {
     "name": "stderr",
     "output_type": "stream",
     "text": [
      "/home/hanliu/miniconda3/envs/clustering/lib/python3.7/site-packages/ALLCools/dmr/fimo.py:60: FutureWarning: to_msgpack is deprecated and will be removed in a future version.\n",
      "It is recommended to use pyarrow for on-the-wire transmission of pandas objects.\n",
      "  final_df.to_msgpack(output_path, compress='zlib')\n"
     ]
    },
    {
     "name": "stdout",
     "output_type": "stream",
     "text": [
      "/home/hanliu/project/mouse_rostral_brain/study/ITSpatial/DMRAnalysis/AggLayerDMR/IT-L6/MotifScan.h5adtemp/MA0891.1.meme, N motif total=15574\n"
     ]
    },
    {
     "name": "stderr",
     "output_type": "stream",
     "text": [
      "/home/hanliu/miniconda3/envs/clustering/lib/python3.7/site-packages/ALLCools/dmr/fimo.py:60: FutureWarning: to_msgpack is deprecated and will be removed in a future version.\n",
      "It is recommended to use pyarrow for on-the-wire transmission of pandas objects.\n",
      "  final_df.to_msgpack(output_path, compress='zlib')\n"
     ]
    },
    {
     "name": "stdout",
     "output_type": "stream",
     "text": [
      "/home/hanliu/project/mouse_rostral_brain/study/ITSpatial/DMRAnalysis/AggLayerDMR/IT-L6/MotifScan.h5adtemp/MA0615.1.meme, N motif total=2756\n"
     ]
    },
    {
     "name": "stderr",
     "output_type": "stream",
     "text": [
      "/home/hanliu/miniconda3/envs/clustering/lib/python3.7/site-packages/ALLCools/dmr/fimo.py:60: FutureWarning: to_msgpack is deprecated and will be removed in a future version.\n",
      "It is recommended to use pyarrow for on-the-wire transmission of pandas objects.\n",
      "  final_df.to_msgpack(output_path, compress='zlib')\n"
     ]
    },
    {
     "name": "stdout",
     "output_type": "stream",
     "text": [
      "/home/hanliu/project/mouse_rostral_brain/study/ITSpatial/DMRAnalysis/AggLayerDMR/IT-L6/MotifScan.h5adtemp/MA0892.1.meme, N motif total=11157\n"
     ]
    },
    {
     "name": "stderr",
     "output_type": "stream",
     "text": [
      "/home/hanliu/miniconda3/envs/clustering/lib/python3.7/site-packages/ALLCools/dmr/fimo.py:60: FutureWarning: to_msgpack is deprecated and will be removed in a future version.\n",
      "It is recommended to use pyarrow for on-the-wire transmission of pandas objects.\n",
      "  final_df.to_msgpack(output_path, compress='zlib')\n"
     ]
    },
    {
     "name": "stdout",
     "output_type": "stream",
     "text": [
      "/home/hanliu/project/mouse_rostral_brain/study/ITSpatial/DMRAnalysis/AggLayerDMR/IT-L6/MotifScan.h5adtemp/MA1638.1.meme, N motif total=52710\n"
     ]
    },
    {
     "name": "stderr",
     "output_type": "stream",
     "text": [
      "/home/hanliu/miniconda3/envs/clustering/lib/python3.7/site-packages/ALLCools/dmr/fimo.py:60: FutureWarning: to_msgpack is deprecated and will be removed in a future version.\n",
      "It is recommended to use pyarrow for on-the-wire transmission of pandas objects.\n",
      "  final_df.to_msgpack(output_path, compress='zlib')\n"
     ]
    },
    {
     "name": "stdout",
     "output_type": "stream",
     "text": [
      "/home/hanliu/project/mouse_rostral_brain/study/ITSpatial/DMRAnalysis/AggLayerDMR/IT-L6/MotifScan.h5adtemp/MA0092.1.meme, N motif total=35548\n"
     ]
    },
    {
     "name": "stderr",
     "output_type": "stream",
     "text": [
      "/home/hanliu/miniconda3/envs/clustering/lib/python3.7/site-packages/ALLCools/dmr/fimo.py:60: FutureWarning: to_msgpack is deprecated and will be removed in a future version.\n",
      "It is recommended to use pyarrow for on-the-wire transmission of pandas objects.\n",
      "  final_df.to_msgpack(output_path, compress='zlib')\n"
     ]
    },
    {
     "name": "stdout",
     "output_type": "stream",
     "text": [
      "/home/hanliu/project/mouse_rostral_brain/study/ITSpatial/DMRAnalysis/AggLayerDMR/IT-L6/MotifScan.h5adtemp/MA1099.2.meme, N motif total=10256\n"
     ]
    },
    {
     "name": "stderr",
     "output_type": "stream",
     "text": [
      "/home/hanliu/miniconda3/envs/clustering/lib/python3.7/site-packages/ALLCools/dmr/fimo.py:60: FutureWarning: to_msgpack is deprecated and will be removed in a future version.\n",
      "It is recommended to use pyarrow for on-the-wire transmission of pandas objects.\n",
      "  final_df.to_msgpack(output_path, compress='zlib')\n"
     ]
    },
    {
     "name": "stdout",
     "output_type": "stream",
     "text": [
      "/home/hanliu/project/mouse_rostral_brain/study/ITSpatial/DMRAnalysis/AggLayerDMR/IT-L6/MotifScan.h5adtemp/MA1493.1.meme, N motif total=14631\n"
     ]
    },
    {
     "name": "stderr",
     "output_type": "stream",
     "text": [
      "/home/hanliu/miniconda3/envs/clustering/lib/python3.7/site-packages/ALLCools/dmr/fimo.py:60: FutureWarning: to_msgpack is deprecated and will be removed in a future version.\n",
      "It is recommended to use pyarrow for on-the-wire transmission of pandas objects.\n",
      "  final_df.to_msgpack(output_path, compress='zlib')\n"
     ]
    },
    {
     "name": "stdout",
     "output_type": "stream",
     "text": [
      "/home/hanliu/project/mouse_rostral_brain/study/ITSpatial/DMRAnalysis/AggLayerDMR/IT-L6/MotifScan.h5adtemp/MA0616.2.meme, N motif total=14110\n"
     ]
    },
    {
     "name": "stderr",
     "output_type": "stream",
     "text": [
      "/home/hanliu/miniconda3/envs/clustering/lib/python3.7/site-packages/ALLCools/dmr/fimo.py:60: FutureWarning: to_msgpack is deprecated and will be removed in a future version.\n",
      "It is recommended to use pyarrow for on-the-wire transmission of pandas objects.\n",
      "  final_df.to_msgpack(output_path, compress='zlib')\n"
     ]
    },
    {
     "name": "stdout",
     "output_type": "stream",
     "text": [
      "/home/hanliu/project/mouse_rostral_brain/study/ITSpatial/DMRAnalysis/AggLayerDMR/IT-L6/MotifScan.h5adtemp/MA0894.1.meme, N motif total=8724\n"
     ]
    },
    {
     "name": "stderr",
     "output_type": "stream",
     "text": [
      "/home/hanliu/miniconda3/envs/clustering/lib/python3.7/site-packages/ALLCools/dmr/fimo.py:60: FutureWarning: to_msgpack is deprecated and will be removed in a future version.\n",
      "It is recommended to use pyarrow for on-the-wire transmission of pandas objects.\n",
      "  final_df.to_msgpack(output_path, compress='zlib')\n"
     ]
    },
    {
     "name": "stdout",
     "output_type": "stream",
     "text": [
      "/home/hanliu/project/mouse_rostral_brain/study/ITSpatial/DMRAnalysis/AggLayerDMR/IT-L6/MotifScan.h5adtemp/MA0821.1.meme, N motif total=6840\n"
     ]
    },
    {
     "name": "stderr",
     "output_type": "stream",
     "text": [
      "/home/hanliu/miniconda3/envs/clustering/lib/python3.7/site-packages/ALLCools/dmr/fimo.py:60: FutureWarning: to_msgpack is deprecated and will be removed in a future version.\n",
      "It is recommended to use pyarrow for on-the-wire transmission of pandas objects.\n",
      "  final_df.to_msgpack(output_path, compress='zlib')\n"
     ]
    },
    {
     "name": "stdout",
     "output_type": "stream",
     "text": [
      "/home/hanliu/project/mouse_rostral_brain/study/ITSpatial/DMRAnalysis/AggLayerDMR/IT-L6/MotifScan.h5adtemp/MA0739.1.meme, N motif total=34865\n"
     ]
    },
    {
     "name": "stderr",
     "output_type": "stream",
     "text": [
      "/home/hanliu/miniconda3/envs/clustering/lib/python3.7/site-packages/ALLCools/dmr/fimo.py:60: FutureWarning: to_msgpack is deprecated and will be removed in a future version.\n",
      "It is recommended to use pyarrow for on-the-wire transmission of pandas objects.\n",
      "  final_df.to_msgpack(output_path, compress='zlib')\n"
     ]
    },
    {
     "name": "stdout",
     "output_type": "stream",
     "text": [
      "/home/hanliu/project/mouse_rostral_brain/study/ITSpatial/DMRAnalysis/AggLayerDMR/IT-L6/MotifScan.h5adtemp/MA0738.1.meme, N motif total=30210\n"
     ]
    },
    {
     "name": "stderr",
     "output_type": "stream",
     "text": [
      "/home/hanliu/miniconda3/envs/clustering/lib/python3.7/site-packages/ALLCools/dmr/fimo.py:60: FutureWarning: to_msgpack is deprecated and will be removed in a future version.\n",
      "It is recommended to use pyarrow for on-the-wire transmission of pandas objects.\n",
      "  final_df.to_msgpack(output_path, compress='zlib')\n"
     ]
    },
    {
     "name": "stdout",
     "output_type": "stream",
     "text": [
      "/home/hanliu/project/mouse_rostral_brain/study/ITSpatial/DMRAnalysis/AggLayerDMR/IT-L6/MotifScan.h5adtemp/MA0822.1.meme, N motif total=5446\n"
     ]
    },
    {
     "name": "stderr",
     "output_type": "stream",
     "text": [
      "/home/hanliu/miniconda3/envs/clustering/lib/python3.7/site-packages/ALLCools/dmr/fimo.py:60: FutureWarning: to_msgpack is deprecated and will be removed in a future version.\n",
      "It is recommended to use pyarrow for on-the-wire transmission of pandas objects.\n",
      "  final_df.to_msgpack(output_path, compress='zlib')\n"
     ]
    },
    {
     "name": "stdout",
     "output_type": "stream",
     "text": [
      "/home/hanliu/project/mouse_rostral_brain/study/ITSpatial/DMRAnalysis/AggLayerDMR/IT-L6/MotifScan.h5adtemp/MA0649.1.meme, N motif total=15981\n"
     ]
    },
    {
     "name": "stderr",
     "output_type": "stream",
     "text": [
      "/home/hanliu/miniconda3/envs/clustering/lib/python3.7/site-packages/ALLCools/dmr/fimo.py:60: FutureWarning: to_msgpack is deprecated and will be removed in a future version.\n",
      "It is recommended to use pyarrow for on-the-wire transmission of pandas objects.\n",
      "  final_df.to_msgpack(output_path, compress='zlib')\n"
     ]
    },
    {
     "name": "stdout",
     "output_type": "stream",
     "text": [
      "/home/hanliu/project/mouse_rostral_brain/study/ITSpatial/DMRAnalysis/AggLayerDMR/IT-L6/MotifScan.h5adtemp/MA0823.1.meme, N motif total=16642\n"
     ]
    },
    {
     "name": "stderr",
     "output_type": "stream",
     "text": [
      "/home/hanliu/miniconda3/envs/clustering/lib/python3.7/site-packages/ALLCools/dmr/fimo.py:60: FutureWarning: to_msgpack is deprecated and will be removed in a future version.\n",
      "It is recommended to use pyarrow for on-the-wire transmission of pandas objects.\n",
      "  final_df.to_msgpack(output_path, compress='zlib')\n"
     ]
    },
    {
     "name": "stdout",
     "output_type": "stream",
     "text": [
      "/home/hanliu/project/mouse_rostral_brain/study/ITSpatial/DMRAnalysis/AggLayerDMR/IT-L6/MotifScan.h5adtemp/MA1106.1.meme, N motif total=9313\n"
     ]
    },
    {
     "name": "stderr",
     "output_type": "stream",
     "text": [
      "/home/hanliu/miniconda3/envs/clustering/lib/python3.7/site-packages/ALLCools/dmr/fimo.py:60: FutureWarning: to_msgpack is deprecated and will be removed in a future version.\n",
      "It is recommended to use pyarrow for on-the-wire transmission of pandas objects.\n",
      "  final_df.to_msgpack(output_path, compress='zlib')\n"
     ]
    },
    {
     "name": "stdout",
     "output_type": "stream",
     "text": [
      "/home/hanliu/project/mouse_rostral_brain/study/ITSpatial/DMRAnalysis/AggLayerDMR/IT-L6/MotifScan.h5adtemp/MA0895.1.meme, N motif total=9373\n"
     ]
    },
    {
     "name": "stderr",
     "output_type": "stream",
     "text": [
      "/home/hanliu/miniconda3/envs/clustering/lib/python3.7/site-packages/ALLCools/dmr/fimo.py:60: FutureWarning: to_msgpack is deprecated and will be removed in a future version.\n",
      "It is recommended to use pyarrow for on-the-wire transmission of pandas objects.\n",
      "  final_df.to_msgpack(output_path, compress='zlib')\n"
     ]
    },
    {
     "name": "stdout",
     "output_type": "stream",
     "text": [
      "/home/hanliu/project/mouse_rostral_brain/study/ITSpatial/DMRAnalysis/AggLayerDMR/IT-L6/MotifScan.h5adtemp/MA0109.1.meme, N motif total=13368\n"
     ]
    },
    {
     "name": "stderr",
     "output_type": "stream",
     "text": [
      "/home/hanliu/miniconda3/envs/clustering/lib/python3.7/site-packages/ALLCools/dmr/fimo.py:60: FutureWarning: to_msgpack is deprecated and will be removed in a future version.\n",
      "It is recommended to use pyarrow for on-the-wire transmission of pandas objects.\n",
      "  final_df.to_msgpack(output_path, compress='zlib')\n"
     ]
    },
    {
     "name": "stdout",
     "output_type": "stream",
     "text": [
      "/home/hanliu/project/mouse_rostral_brain/study/ITSpatial/DMRAnalysis/AggLayerDMR/IT-L6/MotifScan.h5adtemp/MA0131.2.meme, N motif total=5641\n"
     ]
    },
    {
     "name": "stderr",
     "output_type": "stream",
     "text": [
      "/home/hanliu/miniconda3/envs/clustering/lib/python3.7/site-packages/ALLCools/dmr/fimo.py:60: FutureWarning: to_msgpack is deprecated and will be removed in a future version.\n",
      "It is recommended to use pyarrow for on-the-wire transmission of pandas objects.\n",
      "  final_df.to_msgpack(output_path, compress='zlib')\n"
     ]
    },
    {
     "name": "stdout",
     "output_type": "stream",
     "text": [
      "/home/hanliu/project/mouse_rostral_brain/study/ITSpatial/DMRAnalysis/AggLayerDMR/IT-L6/MotifScan.h5adtemp/MA0043.3.meme, N motif total=15660\n"
     ]
    },
    {
     "name": "stderr",
     "output_type": "stream",
     "text": [
      "/home/hanliu/miniconda3/envs/clustering/lib/python3.7/site-packages/ALLCools/dmr/fimo.py:60: FutureWarning: to_msgpack is deprecated and will be removed in a future version.\n",
      "It is recommended to use pyarrow for on-the-wire transmission of pandas objects.\n",
      "  final_df.to_msgpack(output_path, compress='zlib')\n"
     ]
    },
    {
     "name": "stdout",
     "output_type": "stream",
     "text": [
      "/home/hanliu/project/mouse_rostral_brain/study/ITSpatial/DMRAnalysis/AggLayerDMR/IT-L6/MotifScan.h5adtemp/MA1495.1.meme, N motif total=7414\n"
     ]
    },
    {
     "name": "stderr",
     "output_type": "stream",
     "text": [
      "/home/hanliu/miniconda3/envs/clustering/lib/python3.7/site-packages/ALLCools/dmr/fimo.py:60: FutureWarning: to_msgpack is deprecated and will be removed in a future version.\n",
      "It is recommended to use pyarrow for on-the-wire transmission of pandas objects.\n",
      "  final_df.to_msgpack(output_path, compress='zlib')\n"
     ]
    },
    {
     "name": "stdout",
     "output_type": "stream",
     "text": [
      "/home/hanliu/project/mouse_rostral_brain/study/ITSpatial/DMRAnalysis/AggLayerDMR/IT-L6/MotifScan.h5adtemp/MA0153.2.meme, N motif total=15071\n"
     ]
    },
    {
     "name": "stderr",
     "output_type": "stream",
     "text": [
      "/home/hanliu/miniconda3/envs/clustering/lib/python3.7/site-packages/ALLCools/dmr/fimo.py:60: FutureWarning: to_msgpack is deprecated and will be removed in a future version.\n",
      "It is recommended to use pyarrow for on-the-wire transmission of pandas objects.\n",
      "  final_df.to_msgpack(output_path, compress='zlib')\n"
     ]
    },
    {
     "name": "stdout",
     "output_type": "stream",
     "text": [
      "/home/hanliu/project/mouse_rostral_brain/study/ITSpatial/DMRAnalysis/AggLayerDMR/IT-L6/MotifScan.h5adtemp/MA0114.4.meme, N motif total=31669\n"
     ]
    },
    {
     "name": "stderr",
     "output_type": "stream",
     "text": [
      "/home/hanliu/miniconda3/envs/clustering/lib/python3.7/site-packages/ALLCools/dmr/fimo.py:60: FutureWarning: to_msgpack is deprecated and will be removed in a future version.\n",
      "It is recommended to use pyarrow for on-the-wire transmission of pandas objects.\n",
      "  final_df.to_msgpack(output_path, compress='zlib')\n"
     ]
    },
    {
     "name": "stdout",
     "output_type": "stream",
     "text": [
      "/home/hanliu/project/mouse_rostral_brain/study/ITSpatial/DMRAnalysis/AggLayerDMR/IT-L6/MotifScan.h5adtemp/MA0046.2.meme, N motif total=22048\n"
     ]
    },
    {
     "name": "stderr",
     "output_type": "stream",
     "text": [
      "/home/hanliu/miniconda3/envs/clustering/lib/python3.7/site-packages/ALLCools/dmr/fimo.py:60: FutureWarning: to_msgpack is deprecated and will be removed in a future version.\n",
      "It is recommended to use pyarrow for on-the-wire transmission of pandas objects.\n",
      "  final_df.to_msgpack(output_path, compress='zlib')\n"
     ]
    },
    {
     "name": "stdout",
     "output_type": "stream",
     "text": [
      "/home/hanliu/project/mouse_rostral_brain/study/ITSpatial/DMRAnalysis/AggLayerDMR/IT-L6/MotifScan.h5adtemp/MA0896.1.meme, N motif total=13637\n"
     ]
    },
    {
     "name": "stderr",
     "output_type": "stream",
     "text": [
      "/home/hanliu/miniconda3/envs/clustering/lib/python3.7/site-packages/ALLCools/dmr/fimo.py:60: FutureWarning: to_msgpack is deprecated and will be removed in a future version.\n",
      "It is recommended to use pyarrow for on-the-wire transmission of pandas objects.\n",
      "  final_df.to_msgpack(output_path, compress='zlib')\n"
     ]
    },
    {
     "name": "stdout",
     "output_type": "stream",
     "text": [
      "/home/hanliu/project/mouse_rostral_brain/study/ITSpatial/DMRAnalysis/AggLayerDMR/IT-L6/MotifScan.h5adtemp/MA0898.1.meme, N motif total=16890\n"
     ]
    },
    {
     "name": "stderr",
     "output_type": "stream",
     "text": [
      "/home/hanliu/miniconda3/envs/clustering/lib/python3.7/site-packages/ALLCools/dmr/fimo.py:60: FutureWarning: to_msgpack is deprecated and will be removed in a future version.\n",
      "It is recommended to use pyarrow for on-the-wire transmission of pandas objects.\n",
      "  final_df.to_msgpack(output_path, compress='zlib')\n"
     ]
    },
    {
     "name": "stdout",
     "output_type": "stream",
     "text": [
      "/home/hanliu/project/mouse_rostral_brain/study/ITSpatial/DMRAnalysis/AggLayerDMR/IT-L6/MotifScan.h5adtemp/MA0897.1.meme, N motif total=18405\n"
     ]
    },
    {
     "name": "stderr",
     "output_type": "stream",
     "text": [
      "/home/hanliu/miniconda3/envs/clustering/lib/python3.7/site-packages/ALLCools/dmr/fimo.py:60: FutureWarning: to_msgpack is deprecated and will be removed in a future version.\n",
      "It is recommended to use pyarrow for on-the-wire transmission of pandas objects.\n",
      "  final_df.to_msgpack(output_path, compress='zlib')\n"
     ]
    },
    {
     "name": "stdout",
     "output_type": "stream",
     "text": [
      "/home/hanliu/project/mouse_rostral_brain/study/ITSpatial/DMRAnalysis/AggLayerDMR/IT-L6/MotifScan.h5adtemp/MA0899.1.meme, N motif total=23484\n"
     ]
    },
    {
     "name": "stderr",
     "output_type": "stream",
     "text": [
      "/home/hanliu/miniconda3/envs/clustering/lib/python3.7/site-packages/ALLCools/dmr/fimo.py:60: FutureWarning: to_msgpack is deprecated and will be removed in a future version.\n",
      "It is recommended to use pyarrow for on-the-wire transmission of pandas objects.\n",
      "  final_df.to_msgpack(output_path, compress='zlib')\n"
     ]
    },
    {
     "name": "stdout",
     "output_type": "stream",
     "text": [
      "/home/hanliu/project/mouse_rostral_brain/study/ITSpatial/DMRAnalysis/AggLayerDMR/IT-L6/MotifScan.h5adtemp/MA0484.2.meme, N motif total=32071\n"
     ]
    },
    {
     "name": "stdout",
     "output_type": "stream",
     "text": [
      "/home/hanliu/project/mouse_rostral_brain/study/ITSpatial/DMRAnalysis/AggLayerDMR/IT-L6/MotifScan.h5adtemp/MA1494.1.meme, N motif total=11137\n"
     ]
    },
    {
     "name": "stderr",
     "output_type": "stream",
     "text": [
      "/home/hanliu/miniconda3/envs/clustering/lib/python3.7/site-packages/ALLCools/dmr/fimo.py:60: FutureWarning: to_msgpack is deprecated and will be removed in a future version.\n",
      "It is recommended to use pyarrow for on-the-wire transmission of pandas objects.\n",
      "  final_df.to_msgpack(output_path, compress='zlib')\n"
     ]
    },
    {
     "name": "stderr",
     "output_type": "stream",
     "text": [
      "/home/hanliu/miniconda3/envs/clustering/lib/python3.7/site-packages/ALLCools/dmr/fimo.py:60: FutureWarning: to_msgpack is deprecated and will be removed in a future version.\n",
      "It is recommended to use pyarrow for on-the-wire transmission of pandas objects.\n",
      "  final_df.to_msgpack(output_path, compress='zlib')\n"
     ]
    },
    {
     "name": "stdout",
     "output_type": "stream",
     "text": [
      "/home/hanliu/project/mouse_rostral_brain/study/ITSpatial/DMRAnalysis/AggLayerDMR/IT-L6/MotifScan.h5adtemp/MA0900.2.meme, N motif total=7414\n"
     ]
    },
    {
     "name": "stderr",
     "output_type": "stream",
     "text": [
      "/home/hanliu/miniconda3/envs/clustering/lib/python3.7/site-packages/ALLCools/dmr/fimo.py:60: FutureWarning: to_msgpack is deprecated and will be removed in a future version.\n",
      "It is recommended to use pyarrow for on-the-wire transmission of pandas objects.\n",
      "  final_df.to_msgpack(output_path, compress='zlib')\n"
     ]
    },
    {
     "name": "stdout",
     "output_type": "stream",
     "text": [
      "/home/hanliu/project/mouse_rostral_brain/study/ITSpatial/DMRAnalysis/AggLayerDMR/IT-L6/MotifScan.h5adtemp/MA1496.1.meme, N motif total=11501\n"
     ]
    },
    {
     "name": "stderr",
     "output_type": "stream",
     "text": [
      "/home/hanliu/miniconda3/envs/clustering/lib/python3.7/site-packages/ALLCools/dmr/fimo.py:60: FutureWarning: to_msgpack is deprecated and will be removed in a future version.\n",
      "It is recommended to use pyarrow for on-the-wire transmission of pandas objects.\n",
      "  final_df.to_msgpack(output_path, compress='zlib')\n"
     ]
    },
    {
     "name": "stdout",
     "output_type": "stream",
     "text": [
      "/home/hanliu/project/mouse_rostral_brain/study/ITSpatial/DMRAnalysis/AggLayerDMR/IT-L6/MotifScan.h5adtemp/MA0650.2.meme, N motif total=22302\n"
     ]
    },
    {
     "name": "stderr",
     "output_type": "stream",
     "text": [
      "/home/hanliu/miniconda3/envs/clustering/lib/python3.7/site-packages/ALLCools/dmr/fimo.py:60: FutureWarning: to_msgpack is deprecated and will be removed in a future version.\n",
      "It is recommended to use pyarrow for on-the-wire transmission of pandas objects.\n",
      "  final_df.to_msgpack(output_path, compress='zlib')\n"
     ]
    },
    {
     "name": "stdout",
     "output_type": "stream",
     "text": [
      "/home/hanliu/project/mouse_rostral_brain/study/ITSpatial/DMRAnalysis/AggLayerDMR/IT-L6/MotifScan.h5adtemp/MA0911.1.meme, N motif total=7808\n"
     ]
    },
    {
     "name": "stderr",
     "output_type": "stream",
     "text": [
      "/home/hanliu/miniconda3/envs/clustering/lib/python3.7/site-packages/ALLCools/dmr/fimo.py:60: FutureWarning: to_msgpack is deprecated and will be removed in a future version.\n",
      "It is recommended to use pyarrow for on-the-wire transmission of pandas objects.\n",
      "  final_df.to_msgpack(output_path, compress='zlib')\n"
     ]
    },
    {
     "name": "stdout",
     "output_type": "stream",
     "text": [
      "/home/hanliu/project/mouse_rostral_brain/study/ITSpatial/DMRAnalysis/AggLayerDMR/IT-L6/MotifScan.h5adtemp/MA0902.2.meme, N motif total=7208\n"
     ]
    },
    {
     "name": "stderr",
     "output_type": "stream",
     "text": [
      "/home/hanliu/miniconda3/envs/clustering/lib/python3.7/site-packages/ALLCools/dmr/fimo.py:60: FutureWarning: to_msgpack is deprecated and will be removed in a future version.\n",
      "It is recommended to use pyarrow for on-the-wire transmission of pandas objects.\n",
      "  final_df.to_msgpack(output_path, compress='zlib')\n"
     ]
    },
    {
     "name": "stdout",
     "output_type": "stream",
     "text": [
      "/home/hanliu/project/mouse_rostral_brain/study/ITSpatial/DMRAnalysis/AggLayerDMR/IT-L6/MotifScan.h5adtemp/MA1499.1.meme, N motif total=11398\n"
     ]
    },
    {
     "name": "stderr",
     "output_type": "stream",
     "text": [
      "/home/hanliu/miniconda3/envs/clustering/lib/python3.7/site-packages/ALLCools/dmr/fimo.py:60: FutureWarning: to_msgpack is deprecated and will be removed in a future version.\n",
      "It is recommended to use pyarrow for on-the-wire transmission of pandas objects.\n",
      "  final_df.to_msgpack(output_path, compress='zlib')\n"
     ]
    },
    {
     "name": "stdout",
     "output_type": "stream",
     "text": [
      "/home/hanliu/project/mouse_rostral_brain/study/ITSpatial/DMRAnalysis/AggLayerDMR/IT-L6/MotifScan.h5adtemp/MA0158.2.meme, N motif total=9720\n"
     ]
    },
    {
     "name": "stderr",
     "output_type": "stream",
     "text": [
      "/home/hanliu/miniconda3/envs/clustering/lib/python3.7/site-packages/ALLCools/dmr/fimo.py:60: FutureWarning: to_msgpack is deprecated and will be removed in a future version.\n",
      "It is recommended to use pyarrow for on-the-wire transmission of pandas objects.\n",
      "  final_df.to_msgpack(output_path, compress='zlib')\n"
     ]
    },
    {
     "name": "stdout",
     "output_type": "stream",
     "text": [
      "/home/hanliu/project/mouse_rostral_brain/study/ITSpatial/DMRAnalysis/AggLayerDMR/IT-L6/MotifScan.h5adtemp/MA1497.1.meme, N motif total=7912\n"
     ]
    },
    {
     "name": "stderr",
     "output_type": "stream",
     "text": [
      "/home/hanliu/miniconda3/envs/clustering/lib/python3.7/site-packages/ALLCools/dmr/fimo.py:60: FutureWarning: to_msgpack is deprecated and will be removed in a future version.\n",
      "It is recommended to use pyarrow for on-the-wire transmission of pandas objects.\n",
      "  final_df.to_msgpack(output_path, compress='zlib')\n"
     ]
    },
    {
     "name": "stdout",
     "output_type": "stream",
     "text": [
      "/home/hanliu/project/mouse_rostral_brain/study/ITSpatial/DMRAnalysis/AggLayerDMR/IT-L6/MotifScan.h5adtemp/MA1498.1.meme, N motif total=9068\n"
     ]
    },
    {
     "name": "stderr",
     "output_type": "stream",
     "text": [
      "/home/hanliu/miniconda3/envs/clustering/lib/python3.7/site-packages/ALLCools/dmr/fimo.py:60: FutureWarning: to_msgpack is deprecated and will be removed in a future version.\n",
      "It is recommended to use pyarrow for on-the-wire transmission of pandas objects.\n",
      "  final_df.to_msgpack(output_path, compress='zlib')\n"
     ]
    },
    {
     "name": "stdout",
     "output_type": "stream",
     "text": [
      "/home/hanliu/project/mouse_rostral_brain/study/ITSpatial/DMRAnalysis/AggLayerDMR/IT-L6/MotifScan.h5adtemp/MA1500.1.meme, N motif total=9634\n"
     ]
    },
    {
     "name": "stderr",
     "output_type": "stream",
     "text": [
      "/home/hanliu/miniconda3/envs/clustering/lib/python3.7/site-packages/ALLCools/dmr/fimo.py:60: FutureWarning: to_msgpack is deprecated and will be removed in a future version.\n",
      "It is recommended to use pyarrow for on-the-wire transmission of pandas objects.\n",
      "  final_df.to_msgpack(output_path, compress='zlib')\n"
     ]
    },
    {
     "name": "stdout",
     "output_type": "stream",
     "text": [
      "/home/hanliu/project/mouse_rostral_brain/study/ITSpatial/DMRAnalysis/AggLayerDMR/IT-L6/MotifScan.h5adtemp/MA0903.1.meme, N motif total=10696\n"
     ]
    },
    {
     "name": "stderr",
     "output_type": "stream",
     "text": [
      "/home/hanliu/miniconda3/envs/clustering/lib/python3.7/site-packages/ALLCools/dmr/fimo.py:60: FutureWarning: to_msgpack is deprecated and will be removed in a future version.\n",
      "It is recommended to use pyarrow for on-the-wire transmission of pandas objects.\n",
      "  final_df.to_msgpack(output_path, compress='zlib')\n"
     ]
    },
    {
     "name": "stdout",
     "output_type": "stream",
     "text": [
      "/home/hanliu/project/mouse_rostral_brain/study/ITSpatial/DMRAnalysis/AggLayerDMR/IT-L6/MotifScan.h5adtemp/MA0904.2.meme, N motif total=7414\n"
     ]
    },
    {
     "name": "stderr",
     "output_type": "stream",
     "text": [
      "/home/hanliu/miniconda3/envs/clustering/lib/python3.7/site-packages/ALLCools/dmr/fimo.py:60: FutureWarning: to_msgpack is deprecated and will be removed in a future version.\n",
      "It is recommended to use pyarrow for on-the-wire transmission of pandas objects.\n",
      "  final_df.to_msgpack(output_path, compress='zlib')\n"
     ]
    },
    {
     "name": "stdout",
     "output_type": "stream",
     "text": [
      "/home/hanliu/project/mouse_rostral_brain/study/ITSpatial/DMRAnalysis/AggLayerDMR/IT-L6/MotifScan.h5adtemp/MA1502.1.meme, N motif total=9927\n"
     ]
    },
    {
     "name": "stderr",
     "output_type": "stream",
     "text": [
      "/home/hanliu/miniconda3/envs/clustering/lib/python3.7/site-packages/ALLCools/dmr/fimo.py:60: FutureWarning: to_msgpack is deprecated and will be removed in a future version.\n",
      "It is recommended to use pyarrow for on-the-wire transmission of pandas objects.\n",
      "  final_df.to_msgpack(output_path, compress='zlib')\n"
     ]
    },
    {
     "name": "stdout",
     "output_type": "stream",
     "text": [
      "/home/hanliu/project/mouse_rostral_brain/study/ITSpatial/DMRAnalysis/AggLayerDMR/IT-L6/MotifScan.h5adtemp/MA0594.2.meme, N motif total=2115\n"
     ]
    },
    {
     "name": "stderr",
     "output_type": "stream",
     "text": [
      "/home/hanliu/miniconda3/envs/clustering/lib/python3.7/site-packages/ALLCools/dmr/fimo.py:60: FutureWarning: to_msgpack is deprecated and will be removed in a future version.\n",
      "It is recommended to use pyarrow for on-the-wire transmission of pandas objects.\n",
      "  final_df.to_msgpack(output_path, compress='zlib')\n"
     ]
    },
    {
     "name": "stdout",
     "output_type": "stream",
     "text": [
      "/home/hanliu/project/mouse_rostral_brain/study/ITSpatial/DMRAnalysis/AggLayerDMR/IT-L6/MotifScan.h5adtemp/MA1501.1.meme, N motif total=8648\n"
     ]
    },
    {
     "name": "stderr",
     "output_type": "stream",
     "text": [
      "/home/hanliu/miniconda3/envs/clustering/lib/python3.7/site-packages/ALLCools/dmr/fimo.py:60: FutureWarning: to_msgpack is deprecated and will be removed in a future version.\n",
      "It is recommended to use pyarrow for on-the-wire transmission of pandas objects.\n",
      "  final_df.to_msgpack(output_path, compress='zlib')\n"
     ]
    },
    {
     "name": "stdout",
     "output_type": "stream",
     "text": [
      "/home/hanliu/project/mouse_rostral_brain/study/ITSpatial/DMRAnalysis/AggLayerDMR/IT-L6/MotifScan.h5adtemp/MA1503.1.meme, N motif total=9133\n"
     ]
    },
    {
     "name": "stderr",
     "output_type": "stream",
     "text": [
      "/home/hanliu/miniconda3/envs/clustering/lib/python3.7/site-packages/ALLCools/dmr/fimo.py:60: FutureWarning: to_msgpack is deprecated and will be removed in a future version.\n",
      "It is recommended to use pyarrow for on-the-wire transmission of pandas objects.\n",
      "  final_df.to_msgpack(output_path, compress='zlib')\n"
     ]
    },
    {
     "name": "stdout",
     "output_type": "stream",
     "text": [
      "/home/hanliu/project/mouse_rostral_brain/study/ITSpatial/DMRAnalysis/AggLayerDMR/IT-L6/MotifScan.h5adtemp/MA1505.1.meme, N motif total=8414\n"
     ]
    },
    {
     "name": "stderr",
     "output_type": "stream",
     "text": [
      "/home/hanliu/miniconda3/envs/clustering/lib/python3.7/site-packages/ALLCools/dmr/fimo.py:60: FutureWarning: to_msgpack is deprecated and will be removed in a future version.\n",
      "It is recommended to use pyarrow for on-the-wire transmission of pandas objects.\n",
      "  final_df.to_msgpack(output_path, compress='zlib')\n"
     ]
    },
    {
     "name": "stdout",
     "output_type": "stream",
     "text": [
      "/home/hanliu/project/mouse_rostral_brain/study/ITSpatial/DMRAnalysis/AggLayerDMR/IT-L6/MotifScan.h5adtemp/MA0901.2.meme, N motif total=37916\n"
     ]
    },
    {
     "name": "stderr",
     "output_type": "stream",
     "text": [
      "/home/hanliu/miniconda3/envs/clustering/lib/python3.7/site-packages/ALLCools/dmr/fimo.py:60: FutureWarning: to_msgpack is deprecated and will be removed in a future version.\n",
      "It is recommended to use pyarrow for on-the-wire transmission of pandas objects.\n",
      "  final_df.to_msgpack(output_path, compress='zlib')\n"
     ]
    },
    {
     "name": "stdout",
     "output_type": "stream",
     "text": [
      "/home/hanliu/project/mouse_rostral_brain/study/ITSpatial/DMRAnalysis/AggLayerDMR/IT-L6/MotifScan.h5adtemp/MA1504.1.meme, N motif total=11398\n"
     ]
    },
    {
     "name": "stderr",
     "output_type": "stream",
     "text": [
      "/home/hanliu/miniconda3/envs/clustering/lib/python3.7/site-packages/ALLCools/dmr/fimo.py:60: FutureWarning: to_msgpack is deprecated and will be removed in a future version.\n",
      "It is recommended to use pyarrow for on-the-wire transmission of pandas objects.\n",
      "  final_df.to_msgpack(output_path, compress='zlib')\n"
     ]
    },
    {
     "name": "stdout",
     "output_type": "stream",
     "text": [
      "/home/hanliu/project/mouse_rostral_brain/study/ITSpatial/DMRAnalysis/AggLayerDMR/IT-L6/MotifScan.h5adtemp/MA0905.1.meme, N motif total=11574\n"
     ]
    },
    {
     "name": "stderr",
     "output_type": "stream",
     "text": [
      "/home/hanliu/miniconda3/envs/clustering/lib/python3.7/site-packages/ALLCools/dmr/fimo.py:60: FutureWarning: to_msgpack is deprecated and will be removed in a future version.\n",
      "It is recommended to use pyarrow for on-the-wire transmission of pandas objects.\n",
      "  final_df.to_msgpack(output_path, compress='zlib')\n"
     ]
    },
    {
     "name": "stdout",
     "output_type": "stream",
     "text": [
      "/home/hanliu/project/mouse_rostral_brain/study/ITSpatial/DMRAnalysis/AggLayerDMR/IT-L6/MotifScan.h5adtemp/MA0912.2.meme, N motif total=8951\n"
     ]
    },
    {
     "name": "stderr",
     "output_type": "stream",
     "text": [
      "/home/hanliu/miniconda3/envs/clustering/lib/python3.7/site-packages/ALLCools/dmr/fimo.py:60: FutureWarning: to_msgpack is deprecated and will be removed in a future version.\n",
      "It is recommended to use pyarrow for on-the-wire transmission of pandas objects.\n",
      "  final_df.to_msgpack(output_path, compress='zlib')\n"
     ]
    },
    {
     "name": "stdout",
     "output_type": "stream",
     "text": [
      "/home/hanliu/project/mouse_rostral_brain/study/ITSpatial/DMRAnalysis/AggLayerDMR/IT-L6/MotifScan.h5adtemp/MA0651.1.meme, N motif total=7375\n"
     ]
    },
    {
     "name": "stderr",
     "output_type": "stream",
     "text": [
      "/home/hanliu/miniconda3/envs/clustering/lib/python3.7/site-packages/ALLCools/dmr/fimo.py:60: FutureWarning: to_msgpack is deprecated and will be removed in a future version.\n",
      "It is recommended to use pyarrow for on-the-wire transmission of pandas objects.\n",
      "  final_df.to_msgpack(output_path, compress='zlib')\n"
     ]
    },
    {
     "name": "stdout",
     "output_type": "stream",
     "text": [
      "/home/hanliu/project/mouse_rostral_brain/study/ITSpatial/DMRAnalysis/AggLayerDMR/IT-L6/MotifScan.h5adtemp/MA1507.1.meme, N motif total=9295\n"
     ]
    },
    {
     "name": "stderr",
     "output_type": "stream",
     "text": [
      "/home/hanliu/miniconda3/envs/clustering/lib/python3.7/site-packages/ALLCools/dmr/fimo.py:60: FutureWarning: to_msgpack is deprecated and will be removed in a future version.\n",
      "It is recommended to use pyarrow for on-the-wire transmission of pandas objects.\n",
      "  final_df.to_msgpack(output_path, compress='zlib')\n"
     ]
    },
    {
     "name": "stdout",
     "output_type": "stream",
     "text": [
      "/home/hanliu/project/mouse_rostral_brain/study/ITSpatial/DMRAnalysis/AggLayerDMR/IT-L6/MotifScan.h5adtemp/MA0906.1.meme, N motif total=9026\n"
     ]
    },
    {
     "name": "stderr",
     "output_type": "stream",
     "text": [
      "/home/hanliu/miniconda3/envs/clustering/lib/python3.7/site-packages/ALLCools/dmr/fimo.py:60: FutureWarning: to_msgpack is deprecated and will be removed in a future version.\n",
      "It is recommended to use pyarrow for on-the-wire transmission of pandas objects.\n",
      "  final_df.to_msgpack(output_path, compress='zlib')\n"
     ]
    },
    {
     "name": "stdout",
     "output_type": "stream",
     "text": [
      "/home/hanliu/project/mouse_rostral_brain/study/ITSpatial/DMRAnalysis/AggLayerDMR/IT-L6/MotifScan.h5adtemp/MA0907.1.meme, N motif total=13191\n"
     ]
    },
    {
     "name": "stderr",
     "output_type": "stream",
     "text": [
      "/home/hanliu/miniconda3/envs/clustering/lib/python3.7/site-packages/ALLCools/dmr/fimo.py:60: FutureWarning: to_msgpack is deprecated and will be removed in a future version.\n",
      "It is recommended to use pyarrow for on-the-wire transmission of pandas objects.\n",
      "  final_df.to_msgpack(output_path, compress='zlib')\n"
     ]
    },
    {
     "name": "stdout",
     "output_type": "stream",
     "text": [
      "/home/hanliu/project/mouse_rostral_brain/study/ITSpatial/DMRAnalysis/AggLayerDMR/IT-L6/MotifScan.h5adtemp/MA1506.1.meme, N motif total=9181\n"
     ]
    },
    {
     "name": "stderr",
     "output_type": "stream",
     "text": [
      "/home/hanliu/miniconda3/envs/clustering/lib/python3.7/site-packages/ALLCools/dmr/fimo.py:60: FutureWarning: to_msgpack is deprecated and will be removed in a future version.\n",
      "It is recommended to use pyarrow for on-the-wire transmission of pandas objects.\n",
      "  final_df.to_msgpack(output_path, compress='zlib')\n"
     ]
    },
    {
     "name": "stdout",
     "output_type": "stream",
     "text": [
      "/home/hanliu/project/mouse_rostral_brain/study/ITSpatial/DMRAnalysis/AggLayerDMR/IT-L6/MotifScan.h5adtemp/MA0485.2.meme, N motif total=8933\n"
     ]
    },
    {
     "name": "stderr",
     "output_type": "stream",
     "text": [
      "/home/hanliu/miniconda3/envs/clustering/lib/python3.7/site-packages/ALLCools/dmr/fimo.py:60: FutureWarning: to_msgpack is deprecated and will be removed in a future version.\n",
      "It is recommended to use pyarrow for on-the-wire transmission of pandas objects.\n",
      "  final_df.to_msgpack(output_path, compress='zlib')\n"
     ]
    },
    {
     "name": "stdout",
     "output_type": "stream",
     "text": [
      "/home/hanliu/project/mouse_rostral_brain/study/ITSpatial/DMRAnalysis/AggLayerDMR/IT-L6/MotifScan.h5adtemp/MA0908.1.meme, N motif total=8225\n"
     ]
    },
    {
     "name": "stderr",
     "output_type": "stream",
     "text": [
      "/home/hanliu/miniconda3/envs/clustering/lib/python3.7/site-packages/ALLCools/dmr/fimo.py:60: FutureWarning: to_msgpack is deprecated and will be removed in a future version.\n",
      "It is recommended to use pyarrow for on-the-wire transmission of pandas objects.\n",
      "  final_df.to_msgpack(output_path, compress='zlib')\n"
     ]
    },
    {
     "name": "stdout",
     "output_type": "stream",
     "text": [
      "/home/hanliu/project/mouse_rostral_brain/study/ITSpatial/DMRAnalysis/AggLayerDMR/IT-L6/MotifScan.h5adtemp/MA0873.1.meme, N motif total=6863\n"
     ]
    },
    {
     "name": "stderr",
     "output_type": "stream",
     "text": [
      "/home/hanliu/miniconda3/envs/clustering/lib/python3.7/site-packages/ALLCools/dmr/fimo.py:60: FutureWarning: to_msgpack is deprecated and will be removed in a future version.\n",
      "It is recommended to use pyarrow for on-the-wire transmission of pandas objects.\n",
      "  final_df.to_msgpack(output_path, compress='zlib')\n"
     ]
    },
    {
     "name": "stdout",
     "output_type": "stream",
     "text": [
      "/home/hanliu/project/mouse_rostral_brain/study/ITSpatial/DMRAnalysis/AggLayerDMR/IT-L6/MotifScan.h5adtemp/MA0909.2.meme, N motif total=20805\n"
     ]
    },
    {
     "name": "stderr",
     "output_type": "stream",
     "text": [
      "/home/hanliu/miniconda3/envs/clustering/lib/python3.7/site-packages/ALLCools/dmr/fimo.py:60: FutureWarning: to_msgpack is deprecated and will be removed in a future version.\n",
      "It is recommended to use pyarrow for on-the-wire transmission of pandas objects.\n",
      "  final_df.to_msgpack(output_path, compress='zlib')\n"
     ]
    },
    {
     "name": "stdout",
     "output_type": "stream",
     "text": [
      "/home/hanliu/project/mouse_rostral_brain/study/ITSpatial/DMRAnalysis/AggLayerDMR/IT-L6/MotifScan.h5adtemp/MA0910.2.meme, N motif total=9959\n"
     ]
    },
    {
     "name": "stderr",
     "output_type": "stream",
     "text": [
      "/home/hanliu/miniconda3/envs/clustering/lib/python3.7/site-packages/ALLCools/dmr/fimo.py:60: FutureWarning: to_msgpack is deprecated and will be removed in a future version.\n",
      "It is recommended to use pyarrow for on-the-wire transmission of pandas objects.\n",
      "  final_df.to_msgpack(output_path, compress='zlib')\n"
     ]
    },
    {
     "name": "stdout",
     "output_type": "stream",
     "text": [
      "/home/hanliu/project/mouse_rostral_brain/study/ITSpatial/DMRAnalysis/AggLayerDMR/IT-L6/MotifScan.h5adtemp/MA0913.2.meme, N motif total=19820\n"
     ]
    },
    {
     "name": "stderr",
     "output_type": "stream",
     "text": [
      "/home/hanliu/miniconda3/envs/clustering/lib/python3.7/site-packages/ALLCools/dmr/fimo.py:60: FutureWarning: to_msgpack is deprecated and will be removed in a future version.\n",
      "It is recommended to use pyarrow for on-the-wire transmission of pandas objects.\n",
      "  final_df.to_msgpack(output_path, compress='zlib')\n"
     ]
    },
    {
     "name": "stdout",
     "output_type": "stream",
     "text": [
      "/home/hanliu/project/mouse_rostral_brain/study/ITSpatial/DMRAnalysis/AggLayerDMR/IT-L6/MotifScan.h5adtemp/MA0770.1.meme, N motif total=28238\n"
     ]
    },
    {
     "name": "stderr",
     "output_type": "stream",
     "text": [
      "/home/hanliu/miniconda3/envs/clustering/lib/python3.7/site-packages/ALLCools/dmr/fimo.py:60: FutureWarning: to_msgpack is deprecated and will be removed in a future version.\n",
      "It is recommended to use pyarrow for on-the-wire transmission of pandas objects.\n",
      "  final_df.to_msgpack(output_path, compress='zlib')\n"
     ]
    },
    {
     "name": "stdout",
     "output_type": "stream",
     "text": [
      "/home/hanliu/project/mouse_rostral_brain/study/ITSpatial/DMRAnalysis/AggLayerDMR/IT-L6/MotifScan.h5adtemp/MA0486.2.meme, N motif total=22726\n"
     ]
    },
    {
     "name": "stderr",
     "output_type": "stream",
     "text": [
      "/home/hanliu/miniconda3/envs/clustering/lib/python3.7/site-packages/ALLCools/dmr/fimo.py:60: FutureWarning: to_msgpack is deprecated and will be removed in a future version.\n",
      "It is recommended to use pyarrow for on-the-wire transmission of pandas objects.\n",
      "  final_df.to_msgpack(output_path, compress='zlib')\n"
     ]
    },
    {
     "name": "stdout",
     "output_type": "stream",
     "text": [
      "/home/hanliu/project/mouse_rostral_brain/study/ITSpatial/DMRAnalysis/AggLayerDMR/IT-L6/MotifScan.h5adtemp/MA0771.1.meme, N motif total=24260\n"
     ]
    },
    {
     "name": "stderr",
     "output_type": "stream",
     "text": [
      "/home/hanliu/miniconda3/envs/clustering/lib/python3.7/site-packages/ALLCools/dmr/fimo.py:60: FutureWarning: to_msgpack is deprecated and will be removed in a future version.\n",
      "It is recommended to use pyarrow for on-the-wire transmission of pandas objects.\n",
      "  final_df.to_msgpack(output_path, compress='zlib')\n"
     ]
    },
    {
     "name": "stdout",
     "output_type": "stream",
     "text": [
      "/home/hanliu/project/mouse_rostral_brain/study/ITSpatial/DMRAnalysis/AggLayerDMR/IT-L6/MotifScan.h5adtemp/MA1508.1.meme, N motif total=73755\n"
     ]
    },
    {
     "name": "stderr",
     "output_type": "stream",
     "text": [
      "/home/hanliu/miniconda3/envs/clustering/lib/python3.7/site-packages/ALLCools/dmr/fimo.py:60: FutureWarning: to_msgpack is deprecated and will be removed in a future version.\n",
      "It is recommended to use pyarrow for on-the-wire transmission of pandas objects.\n",
      "  final_df.to_msgpack(output_path, compress='zlib')\n"
     ]
    },
    {
     "name": "stdout",
     "output_type": "stream",
     "text": [
      "/home/hanliu/project/mouse_rostral_brain/study/ITSpatial/DMRAnalysis/AggLayerDMR/IT-L6/MotifScan.h5adtemp/MA0155.1.meme, N motif total=38089\n"
     ]
    },
    {
     "name": "stderr",
     "output_type": "stream",
     "text": [
      "/home/hanliu/miniconda3/envs/clustering/lib/python3.7/site-packages/ALLCools/dmr/fimo.py:60: FutureWarning: to_msgpack is deprecated and will be removed in a future version.\n",
      "It is recommended to use pyarrow for on-the-wire transmission of pandas objects.\n",
      "  final_df.to_msgpack(output_path, compress='zlib')\n"
     ]
    },
    {
     "name": "stdout",
     "output_type": "stream",
     "text": [
      "/home/hanliu/project/mouse_rostral_brain/study/ITSpatial/DMRAnalysis/AggLayerDMR/IT-L6/MotifScan.h5adtemp/MA0051.1.meme, N motif total=14483\n"
     ]
    },
    {
     "name": "stderr",
     "output_type": "stream",
     "text": [
      "/home/hanliu/miniconda3/envs/clustering/lib/python3.7/site-packages/ALLCools/dmr/fimo.py:60: FutureWarning: to_msgpack is deprecated and will be removed in a future version.\n",
      "It is recommended to use pyarrow for on-the-wire transmission of pandas objects.\n",
      "  final_df.to_msgpack(output_path, compress='zlib')\n"
     ]
    },
    {
     "name": "stdout",
     "output_type": "stream",
     "text": [
      "/home/hanliu/project/mouse_rostral_brain/study/ITSpatial/DMRAnalysis/AggLayerDMR/IT-L6/MotifScan.h5adtemp/MA1509.1.meme, N motif total=5032\n"
     ]
    },
    {
     "name": "stderr",
     "output_type": "stream",
     "text": [
      "/home/hanliu/miniconda3/envs/clustering/lib/python3.7/site-packages/ALLCools/dmr/fimo.py:60: FutureWarning: to_msgpack is deprecated and will be removed in a future version.\n",
      "It is recommended to use pyarrow for on-the-wire transmission of pandas objects.\n",
      "  final_df.to_msgpack(output_path, compress='zlib')\n"
     ]
    },
    {
     "name": "stdout",
     "output_type": "stream",
     "text": [
      "/home/hanliu/project/mouse_rostral_brain/study/ITSpatial/DMRAnalysis/AggLayerDMR/IT-L6/MotifScan.h5adtemp/MA1418.1.meme, N motif total=14072\n"
     ]
    },
    {
     "name": "stderr",
     "output_type": "stream",
     "text": [
      "/home/hanliu/miniconda3/envs/clustering/lib/python3.7/site-packages/ALLCools/dmr/fimo.py:60: FutureWarning: to_msgpack is deprecated and will be removed in a future version.\n",
      "It is recommended to use pyarrow for on-the-wire transmission of pandas objects.\n",
      "  final_df.to_msgpack(output_path, compress='zlib')\n"
     ]
    },
    {
     "name": "stdout",
     "output_type": "stream",
     "text": [
      "/home/hanliu/project/mouse_rostral_brain/study/ITSpatial/DMRAnalysis/AggLayerDMR/IT-L6/MotifScan.h5adtemp/MA0654.1.meme, N motif total=9846\n"
     ]
    },
    {
     "name": "stderr",
     "output_type": "stream",
     "text": [
      "/home/hanliu/miniconda3/envs/clustering/lib/python3.7/site-packages/ALLCools/dmr/fimo.py:60: FutureWarning: to_msgpack is deprecated and will be removed in a future version.\n",
      "It is recommended to use pyarrow for on-the-wire transmission of pandas objects.\n",
      "  final_df.to_msgpack(output_path, compress='zlib')\n"
     ]
    },
    {
     "name": "stdout",
     "output_type": "stream",
     "text": [
      "/home/hanliu/project/mouse_rostral_brain/study/ITSpatial/DMRAnalysis/AggLayerDMR/IT-L6/MotifScan.h5adtemp/MA0050.2.meme, N motif total=146076\n"
     ]
    },
    {
     "name": "stderr",
     "output_type": "stream",
     "text": [
      "/home/hanliu/miniconda3/envs/clustering/lib/python3.7/site-packages/ALLCools/dmr/fimo.py:60: FutureWarning: to_msgpack is deprecated and will be removed in a future version.\n",
      "It is recommended to use pyarrow for on-the-wire transmission of pandas objects.\n",
      "  final_df.to_msgpack(output_path, compress='zlib')\n"
     ]
    },
    {
     "name": "stdout",
     "output_type": "stream",
     "text": [
      "/home/hanliu/project/mouse_rostral_brain/study/ITSpatial/DMRAnalysis/AggLayerDMR/IT-L6/MotifScan.h5adtemp/MA0914.1.meme, N motif total=14580\n"
     ]
    },
    {
     "name": "stderr",
     "output_type": "stream",
     "text": [
      "/home/hanliu/miniconda3/envs/clustering/lib/python3.7/site-packages/ALLCools/dmr/fimo.py:60: FutureWarning: to_msgpack is deprecated and will be removed in a future version.\n",
      "It is recommended to use pyarrow for on-the-wire transmission of pandas objects.\n",
      "  final_df.to_msgpack(output_path, compress='zlib')\n"
     ]
    },
    {
     "name": "stdout",
     "output_type": "stream",
     "text": [
      "/home/hanliu/project/mouse_rostral_brain/study/ITSpatial/DMRAnalysis/AggLayerDMR/IT-L6/MotifScan.h5adtemp/MA1608.1.meme, N motif total=11998\n"
     ]
    },
    {
     "name": "stderr",
     "output_type": "stream",
     "text": [
      "/home/hanliu/miniconda3/envs/clustering/lib/python3.7/site-packages/ALLCools/dmr/fimo.py:60: FutureWarning: to_msgpack is deprecated and will be removed in a future version.\n",
      "It is recommended to use pyarrow for on-the-wire transmission of pandas objects.\n",
      "  final_df.to_msgpack(output_path, compress='zlib')\n"
     ]
    },
    {
     "name": "stdout",
     "output_type": "stream",
     "text": [
      "/home/hanliu/project/mouse_rostral_brain/study/ITSpatial/DMRAnalysis/AggLayerDMR/IT-L6/MotifScan.h5adtemp/MA1419.1.meme, N motif total=2600\n"
     ]
    },
    {
     "name": "stderr",
     "output_type": "stream",
     "text": [
      "/home/hanliu/miniconda3/envs/clustering/lib/python3.7/site-packages/ALLCools/dmr/fimo.py:60: FutureWarning: to_msgpack is deprecated and will be removed in a future version.\n",
      "It is recommended to use pyarrow for on-the-wire transmission of pandas objects.\n",
      "  final_df.to_msgpack(output_path, compress='zlib')\n"
     ]
    },
    {
     "name": "stdout",
     "output_type": "stream",
     "text": [
      "/home/hanliu/project/mouse_rostral_brain/study/ITSpatial/DMRAnalysis/AggLayerDMR/IT-L6/MotifScan.h5adtemp/MA0655.1.meme, N motif total=53915\n"
     ]
    },
    {
     "name": "stderr",
     "output_type": "stream",
     "text": [
      "/home/hanliu/miniconda3/envs/clustering/lib/python3.7/site-packages/ALLCools/dmr/fimo.py:60: FutureWarning: to_msgpack is deprecated and will be removed in a future version.\n",
      "It is recommended to use pyarrow for on-the-wire transmission of pandas objects.\n",
      "  final_df.to_msgpack(output_path, compress='zlib')\n"
     ]
    },
    {
     "name": "stdout",
     "output_type": "stream",
     "text": [
      "/home/hanliu/project/mouse_rostral_brain/study/ITSpatial/DMRAnalysis/AggLayerDMR/IT-L6/MotifScan.h5adtemp/MA1420.1.meme, N motif total=15529\n"
     ]
    },
    {
     "name": "stderr",
     "output_type": "stream",
     "text": [
      "/home/hanliu/miniconda3/envs/clustering/lib/python3.7/site-packages/ALLCools/dmr/fimo.py:60: FutureWarning: to_msgpack is deprecated and will be removed in a future version.\n",
      "It is recommended to use pyarrow for on-the-wire transmission of pandas objects.\n",
      "  final_df.to_msgpack(output_path, compress='zlib')\n"
     ]
    },
    {
     "name": "stdout",
     "output_type": "stream",
     "text": [
      "/home/hanliu/project/mouse_rostral_brain/study/ITSpatial/DMRAnalysis/AggLayerDMR/IT-L6/MotifScan.h5adtemp/MA0652.1.meme, N motif total=2055\n"
     ]
    },
    {
     "name": "stderr",
     "output_type": "stream",
     "text": [
      "/home/hanliu/miniconda3/envs/clustering/lib/python3.7/site-packages/ALLCools/dmr/fimo.py:60: FutureWarning: to_msgpack is deprecated and will be removed in a future version.\n",
      "It is recommended to use pyarrow for on-the-wire transmission of pandas objects.\n",
      "  final_df.to_msgpack(output_path, compress='zlib')\n"
     ]
    },
    {
     "name": "stdout",
     "output_type": "stream",
     "text": [
      "/home/hanliu/project/mouse_rostral_brain/study/ITSpatial/DMRAnalysis/AggLayerDMR/IT-L6/MotifScan.h5adtemp/MA0656.1.meme, N motif total=16768\n"
     ]
    },
    {
     "name": "stderr",
     "output_type": "stream",
     "text": [
      "/home/hanliu/miniconda3/envs/clustering/lib/python3.7/site-packages/ALLCools/dmr/fimo.py:60: FutureWarning: to_msgpack is deprecated and will be removed in a future version.\n",
      "It is recommended to use pyarrow for on-the-wire transmission of pandas objects.\n",
      "  final_df.to_msgpack(output_path, compress='zlib')\n"
     ]
    },
    {
     "name": "stdout",
     "output_type": "stream",
     "text": [
      "/home/hanliu/project/mouse_rostral_brain/study/ITSpatial/DMRAnalysis/AggLayerDMR/IT-L6/MotifScan.h5adtemp/MA1132.1.meme, N motif total=38755\n"
     ]
    },
    {
     "name": "stderr",
     "output_type": "stream",
     "text": [
      "/home/hanliu/miniconda3/envs/clustering/lib/python3.7/site-packages/ALLCools/dmr/fimo.py:60: FutureWarning: to_msgpack is deprecated and will be removed in a future version.\n",
      "It is recommended to use pyarrow for on-the-wire transmission of pandas objects.\n",
      "  final_df.to_msgpack(output_path, compress='zlib')\n"
     ]
    },
    {
     "name": "stdout",
     "output_type": "stream",
     "text": [
      "/home/hanliu/project/mouse_rostral_brain/study/ITSpatial/DMRAnalysis/AggLayerDMR/IT-L6/MotifScan.h5adtemp/MA0772.1.meme, N motif total=35627\n"
     ]
    },
    {
     "name": "stderr",
     "output_type": "stream",
     "text": [
      "/home/hanliu/miniconda3/envs/clustering/lib/python3.7/site-packages/ALLCools/dmr/fimo.py:60: FutureWarning: to_msgpack is deprecated and will be removed in a future version.\n",
      "It is recommended to use pyarrow for on-the-wire transmission of pandas objects.\n",
      "  final_df.to_msgpack(output_path, compress='zlib')\n"
     ]
    },
    {
     "name": "stdout",
     "output_type": "stream",
     "text": [
      "/home/hanliu/project/mouse_rostral_brain/study/ITSpatial/DMRAnalysis/AggLayerDMR/IT-L6/MotifScan.h5adtemp/MA1133.1.meme, N motif total=15358\n"
     ]
    },
    {
     "name": "stderr",
     "output_type": "stream",
     "text": [
      "/home/hanliu/miniconda3/envs/clustering/lib/python3.7/site-packages/ALLCools/dmr/fimo.py:60: FutureWarning: to_msgpack is deprecated and will be removed in a future version.\n",
      "It is recommended to use pyarrow for on-the-wire transmission of pandas objects.\n",
      "  final_df.to_msgpack(output_path, compress='zlib')\n"
     ]
    },
    {
     "name": "stdout",
     "output_type": "stream",
     "text": [
      "/home/hanliu/project/mouse_rostral_brain/study/ITSpatial/DMRAnalysis/AggLayerDMR/IT-L6/MotifScan.h5adtemp/MA0653.1.meme, N motif total=2393\n"
     ]
    },
    {
     "name": "stderr",
     "output_type": "stream",
     "text": [
      "/home/hanliu/miniconda3/envs/clustering/lib/python3.7/site-packages/ALLCools/dmr/fimo.py:60: FutureWarning: to_msgpack is deprecated and will be removed in a future version.\n",
      "It is recommended to use pyarrow for on-the-wire transmission of pandas objects.\n",
      "  final_df.to_msgpack(output_path, compress='zlib')\n"
     ]
    },
    {
     "name": "stdout",
     "output_type": "stream",
     "text": [
      "/home/hanliu/project/mouse_rostral_brain/study/ITSpatial/DMRAnalysis/AggLayerDMR/IT-L6/MotifScan.h5adtemp/MA0488.1.meme, N motif total=26975\n"
     ]
    },
    {
     "name": "stderr",
     "output_type": "stream",
     "text": [
      "/home/hanliu/miniconda3/envs/clustering/lib/python3.7/site-packages/ALLCools/dmr/fimo.py:60: FutureWarning: to_msgpack is deprecated and will be removed in a future version.\n",
      "It is recommended to use pyarrow for on-the-wire transmission of pandas objects.\n",
      "  final_df.to_msgpack(output_path, compress='zlib')\n"
     ]
    },
    {
     "name": "stdout",
     "output_type": "stream",
     "text": [
      "/home/hanliu/project/mouse_rostral_brain/study/ITSpatial/DMRAnalysis/AggLayerDMR/IT-L6/MotifScan.h5adtemp/MA0493.1.meme, N motif total=62608\n"
     ]
    },
    {
     "name": "stderr",
     "output_type": "stream",
     "text": [
      "/home/hanliu/miniconda3/envs/clustering/lib/python3.7/site-packages/ALLCools/dmr/fimo.py:60: FutureWarning: to_msgpack is deprecated and will be removed in a future version.\n",
      "It is recommended to use pyarrow for on-the-wire transmission of pandas objects.\n",
      "  final_df.to_msgpack(output_path, compress='zlib')\n"
     ]
    },
    {
     "name": "stdout",
     "output_type": "stream",
     "text": [
      "/home/hanliu/project/mouse_rostral_brain/study/ITSpatial/DMRAnalysis/AggLayerDMR/IT-L6/MotifScan.h5adtemp/MA1140.2.meme, N motif total=10534\n"
     ]
    },
    {
     "name": "stderr",
     "output_type": "stream",
     "text": [
      "/home/hanliu/miniconda3/envs/clustering/lib/python3.7/site-packages/ALLCools/dmr/fimo.py:60: FutureWarning: to_msgpack is deprecated and will be removed in a future version.\n",
      "It is recommended to use pyarrow for on-the-wire transmission of pandas objects.\n",
      "  final_df.to_msgpack(output_path, compress='zlib')\n"
     ]
    },
    {
     "name": "stdout",
     "output_type": "stream",
     "text": [
      "/home/hanliu/project/mouse_rostral_brain/study/ITSpatial/DMRAnalysis/AggLayerDMR/IT-L6/MotifScan.h5adtemp/MA0489.1.meme, N motif total=68987\n"
     ]
    },
    {
     "name": "stderr",
     "output_type": "stream",
     "text": [
      "/home/hanliu/miniconda3/envs/clustering/lib/python3.7/site-packages/ALLCools/dmr/fimo.py:60: FutureWarning: to_msgpack is deprecated and will be removed in a future version.\n",
      "It is recommended to use pyarrow for on-the-wire transmission of pandas objects.\n",
      "  final_df.to_msgpack(output_path, compress='zlib')\n"
     ]
    },
    {
     "name": "stdout",
     "output_type": "stream",
     "text": [
      "/home/hanliu/project/mouse_rostral_brain/study/ITSpatial/DMRAnalysis/AggLayerDMR/IT-L6/MotifScan.h5adtemp/MA0491.2.meme, N motif total=65849\n"
     ]
    },
    {
     "name": "stderr",
     "output_type": "stream",
     "text": [
      "/home/hanliu/miniconda3/envs/clustering/lib/python3.7/site-packages/ALLCools/dmr/fimo.py:60: FutureWarning: to_msgpack is deprecated and will be removed in a future version.\n",
      "It is recommended to use pyarrow for on-the-wire transmission of pandas objects.\n",
      "  final_df.to_msgpack(output_path, compress='zlib')\n"
     ]
    },
    {
     "name": "stdout",
     "output_type": "stream",
     "text": [
      "/home/hanliu/project/mouse_rostral_brain/study/ITSpatial/DMRAnalysis/AggLayerDMR/IT-L6/MotifScan.h5adtemp/MA1512.1.meme, N motif total=65358\n"
     ]
    },
    {
     "name": "stderr",
     "output_type": "stream",
     "text": [
      "/home/hanliu/miniconda3/envs/clustering/lib/python3.7/site-packages/ALLCools/dmr/fimo.py:60: FutureWarning: to_msgpack is deprecated and will be removed in a future version.\n",
      "It is recommended to use pyarrow for on-the-wire transmission of pandas objects.\n",
      "  final_df.to_msgpack(output_path, compress='zlib')\n"
     ]
    },
    {
     "name": "stdout",
     "output_type": "stream",
     "text": [
      "/home/hanliu/project/mouse_rostral_brain/study/ITSpatial/DMRAnalysis/AggLayerDMR/IT-L6/MotifScan.h5adtemp/MA0490.2.meme, N motif total=66345\n"
     ]
    },
    {
     "name": "stderr",
     "output_type": "stream",
     "text": [
      "/home/hanliu/miniconda3/envs/clustering/lib/python3.7/site-packages/ALLCools/dmr/fimo.py:60: FutureWarning: to_msgpack is deprecated and will be removed in a future version.\n",
      "It is recommended to use pyarrow for on-the-wire transmission of pandas objects.\n",
      "  final_df.to_msgpack(output_path, compress='zlib')\n"
     ]
    },
    {
     "name": "stdout",
     "output_type": "stream",
     "text": [
      "/home/hanliu/project/mouse_rostral_brain/study/ITSpatial/DMRAnalysis/AggLayerDMR/IT-L6/MotifScan.h5adtemp/MA1511.1.meme, N motif total=61253\n"
     ]
    },
    {
     "name": "stderr",
     "output_type": "stream",
     "text": [
      "/home/hanliu/miniconda3/envs/clustering/lib/python3.7/site-packages/ALLCools/dmr/fimo.py:60: FutureWarning: to_msgpack is deprecated and will be removed in a future version.\n",
      "It is recommended to use pyarrow for on-the-wire transmission of pandas objects.\n",
      "  final_df.to_msgpack(output_path, compress='zlib')\n"
     ]
    },
    {
     "name": "stdout",
     "output_type": "stream",
     "text": [
      "/home/hanliu/project/mouse_rostral_brain/study/ITSpatial/DMRAnalysis/AggLayerDMR/IT-L6/MotifScan.h5adtemp/MA1513.1.meme, N motif total=13482\n"
     ]
    },
    {
     "name": "stderr",
     "output_type": "stream",
     "text": [
      "/home/hanliu/miniconda3/envs/clustering/lib/python3.7/site-packages/ALLCools/dmr/fimo.py:60: FutureWarning: to_msgpack is deprecated and will be removed in a future version.\n",
      "It is recommended to use pyarrow for on-the-wire transmission of pandas objects.\n",
      "  final_df.to_msgpack(output_path, compress='zlib')\n"
     ]
    },
    {
     "name": "stdout",
     "output_type": "stream",
     "text": [
      "/home/hanliu/project/mouse_rostral_brain/study/ITSpatial/DMRAnalysis/AggLayerDMR/IT-L6/MotifScan.h5adtemp/MA0741.1.meme, N motif total=101352\n"
     ]
    },
    {
     "name": "stderr",
     "output_type": "stream",
     "text": [
      "/home/hanliu/miniconda3/envs/clustering/lib/python3.7/site-packages/ALLCools/dmr/fimo.py:60: FutureWarning: to_msgpack is deprecated and will be removed in a future version.\n",
      "It is recommended to use pyarrow for on-the-wire transmission of pandas objects.\n",
      "  final_df.to_msgpack(output_path, compress='zlib')\n"
     ]
    },
    {
     "name": "stdout",
     "output_type": "stream",
     "text": [
      "/home/hanliu/project/mouse_rostral_brain/study/ITSpatial/DMRAnalysis/AggLayerDMR/IT-L6/MotifScan.h5adtemp/MA1515.1.meme, N motif total=62311\n"
     ]
    },
    {
     "name": "stderr",
     "output_type": "stream",
     "text": [
      "/home/hanliu/miniconda3/envs/clustering/lib/python3.7/site-packages/ALLCools/dmr/fimo.py:60: FutureWarning: to_msgpack is deprecated and will be removed in a future version.\n",
      "It is recommended to use pyarrow for on-the-wire transmission of pandas objects.\n",
      "  final_df.to_msgpack(output_path, compress='zlib')\n"
     ]
    },
    {
     "name": "stdout",
     "output_type": "stream",
     "text": [
      "/home/hanliu/project/mouse_rostral_brain/study/ITSpatial/DMRAnalysis/AggLayerDMR/IT-L6/MotifScan.h5adtemp/MA0492.1.meme, N motif total=26916\n"
     ]
    },
    {
     "name": "stderr",
     "output_type": "stream",
     "text": [
      "/home/hanliu/miniconda3/envs/clustering/lib/python3.7/site-packages/ALLCools/dmr/fimo.py:60: FutureWarning: to_msgpack is deprecated and will be removed in a future version.\n",
      "It is recommended to use pyarrow for on-the-wire transmission of pandas objects.\n",
      "  final_df.to_msgpack(output_path, compress='zlib')\n"
     ]
    },
    {
     "name": "stdout",
     "output_type": "stream",
     "text": [
      "/home/hanliu/project/mouse_rostral_brain/study/ITSpatial/DMRAnalysis/AggLayerDMR/IT-L6/MotifScan.h5adtemp/MA0742.1.meme, N motif total=34309\n"
     ]
    },
    {
     "name": "stderr",
     "output_type": "stream",
     "text": [
      "/home/hanliu/miniconda3/envs/clustering/lib/python3.7/site-packages/ALLCools/dmr/fimo.py:60: FutureWarning: to_msgpack is deprecated and will be removed in a future version.\n",
      "It is recommended to use pyarrow for on-the-wire transmission of pandas objects.\n",
      "  final_df.to_msgpack(output_path, compress='zlib')\n"
     ]
    },
    {
     "name": "stdout",
     "output_type": "stream",
     "text": [
      "Finish count 300 motifs.\n"
     ]
    },
    {
     "name": "stdout",
     "output_type": "stream",
     "text": [
      "/home/hanliu/project/mouse_rostral_brain/study/ITSpatial/DMRAnalysis/AggLayerDMR/IT-L6/MotifScan.h5adtemp/MA1516.1.meme, N motif total=26517\n"
     ]
    },
    {
     "name": "stderr",
     "output_type": "stream",
     "text": [
      "/home/hanliu/miniconda3/envs/clustering/lib/python3.7/site-packages/ALLCools/dmr/fimo.py:60: FutureWarning: to_msgpack is deprecated and will be removed in a future version.\n",
      "It is recommended to use pyarrow for on-the-wire transmission of pandas objects.\n",
      "  final_df.to_msgpack(output_path, compress='zlib')\n"
     ]
    },
    {
     "name": "stdout",
     "output_type": "stream",
     "text": [
      "/home/hanliu/project/mouse_rostral_brain/study/ITSpatial/DMRAnalysis/AggLayerDMR/IT-L6/MotifScan.h5adtemp/MA0740.1.meme, N motif total=34692\n"
     ]
    },
    {
     "name": "stderr",
     "output_type": "stream",
     "text": [
      "/home/hanliu/miniconda3/envs/clustering/lib/python3.7/site-packages/ALLCools/dmr/fimo.py:60: FutureWarning: to_msgpack is deprecated and will be removed in a future version.\n",
      "It is recommended to use pyarrow for on-the-wire transmission of pandas objects.\n",
      "  final_df.to_msgpack(output_path, compress='zlib')\n"
     ]
    },
    {
     "name": "stdout",
     "output_type": "stream",
     "text": [
      "/home/hanliu/project/mouse_rostral_brain/study/ITSpatial/DMRAnalysis/AggLayerDMR/IT-L6/MotifScan.h5adtemp/MA0039.4.meme, N motif total=106944\n"
     ]
    },
    {
     "name": "stderr",
     "output_type": "stream",
     "text": [
      "/home/hanliu/miniconda3/envs/clustering/lib/python3.7/site-packages/ALLCools/dmr/fimo.py:60: FutureWarning: to_msgpack is deprecated and will be removed in a future version.\n",
      "It is recommended to use pyarrow for on-the-wire transmission of pandas objects.\n",
      "  final_df.to_msgpack(output_path, compress='zlib')\n"
     ]
    },
    {
     "name": "stdout",
     "output_type": "stream",
     "text": [
      "/home/hanliu/project/mouse_rostral_brain/study/ITSpatial/DMRAnalysis/AggLayerDMR/IT-L6/MotifScan.h5adtemp/MA0657.1.meme, N motif total=8814\n"
     ]
    },
    {
     "name": "stderr",
     "output_type": "stream",
     "text": [
      "/home/hanliu/miniconda3/envs/clustering/lib/python3.7/site-packages/ALLCools/dmr/fimo.py:60: FutureWarning: to_msgpack is deprecated and will be removed in a future version.\n",
      "It is recommended to use pyarrow for on-the-wire transmission of pandas objects.\n",
      "  final_df.to_msgpack(output_path, compress='zlib')\n"
     ]
    },
    {
     "name": "stdout",
     "output_type": "stream",
     "text": [
      "/home/hanliu/project/mouse_rostral_brain/study/ITSpatial/DMRAnalysis/AggLayerDMR/IT-L6/MotifScan.h5adtemp/MA1514.1.meme, N motif total=79245\n"
     ]
    },
    {
     "name": "stderr",
     "output_type": "stream",
     "text": [
      "/home/hanliu/miniconda3/envs/clustering/lib/python3.7/site-packages/ALLCools/dmr/fimo.py:60: FutureWarning: to_msgpack is deprecated and will be removed in a future version.\n",
      "It is recommended to use pyarrow for on-the-wire transmission of pandas objects.\n",
      "  final_df.to_msgpack(output_path, compress='zlib')\n"
     ]
    },
    {
     "name": "stdout",
     "output_type": "stream",
     "text": [
      "/home/hanliu/project/mouse_rostral_brain/study/ITSpatial/DMRAnalysis/AggLayerDMR/IT-L6/MotifScan.h5adtemp/MA0618.1.meme, N motif total=11085\n"
     ]
    },
    {
     "name": "stderr",
     "output_type": "stream",
     "text": [
      "/home/hanliu/miniconda3/envs/clustering/lib/python3.7/site-packages/ALLCools/dmr/fimo.py:60: FutureWarning: to_msgpack is deprecated and will be removed in a future version.\n",
      "It is recommended to use pyarrow for on-the-wire transmission of pandas objects.\n",
      "  final_df.to_msgpack(output_path, compress='zlib')\n"
     ]
    },
    {
     "name": "stdout",
     "output_type": "stream",
     "text": [
      "/home/hanliu/project/mouse_rostral_brain/study/ITSpatial/DMRAnalysis/AggLayerDMR/IT-L6/MotifScan.h5adtemp/MA1517.1.meme, N motif total=44633\n"
     ]
    },
    {
     "name": "stderr",
     "output_type": "stream",
     "text": [
      "/home/hanliu/miniconda3/envs/clustering/lib/python3.7/site-packages/ALLCools/dmr/fimo.py:60: FutureWarning: to_msgpack is deprecated and will be removed in a future version.\n",
      "It is recommended to use pyarrow for on-the-wire transmission of pandas objects.\n",
      "  final_df.to_msgpack(output_path, compress='zlib')\n"
     ]
    },
    {
     "name": "stdout",
     "output_type": "stream",
     "text": [
      "/home/hanliu/project/mouse_rostral_brain/study/ITSpatial/DMRAnalysis/AggLayerDMR/IT-L6/MotifScan.h5adtemp/MA0599.1.meme, N motif total=107903\n"
     ]
    },
    {
     "name": "stderr",
     "output_type": "stream",
     "text": [
      "/home/hanliu/miniconda3/envs/clustering/lib/python3.7/site-packages/ALLCools/dmr/fimo.py:60: FutureWarning: to_msgpack is deprecated and will be removed in a future version.\n",
      "It is recommended to use pyarrow for on-the-wire transmission of pandas objects.\n",
      "  final_df.to_msgpack(output_path, compress='zlib')\n"
     ]
    },
    {
     "name": "stdout",
     "output_type": "stream",
     "text": [
      "/home/hanliu/project/mouse_rostral_brain/study/ITSpatial/DMRAnalysis/AggLayerDMR/IT-L6/MotifScan.h5adtemp/MA0699.1.meme, N motif total=9800\n"
     ]
    },
    {
     "name": "stderr",
     "output_type": "stream",
     "text": [
      "/home/hanliu/miniconda3/envs/clustering/lib/python3.7/site-packages/ALLCools/dmr/fimo.py:60: FutureWarning: to_msgpack is deprecated and will be removed in a future version.\n",
      "It is recommended to use pyarrow for on-the-wire transmission of pandas objects.\n",
      "  final_df.to_msgpack(output_path, compress='zlib')\n"
     ]
    },
    {
     "name": "stdout",
     "output_type": "stream",
     "text": [
      "/home/hanliu/project/mouse_rostral_brain/study/ITSpatial/DMRAnalysis/AggLayerDMR/IT-L6/MotifScan.h5adtemp/MA1518.1.meme, N motif total=8696\n"
     ]
    },
    {
     "name": "stderr",
     "output_type": "stream",
     "text": [
      "/home/hanliu/miniconda3/envs/clustering/lib/python3.7/site-packages/ALLCools/dmr/fimo.py:60: FutureWarning: to_msgpack is deprecated and will be removed in a future version.\n",
      "It is recommended to use pyarrow for on-the-wire transmission of pandas objects.\n",
      "  final_df.to_msgpack(output_path, compress='zlib')\n"
     ]
    },
    {
     "name": "stdout",
     "output_type": "stream",
     "text": [
      "/home/hanliu/project/mouse_rostral_brain/study/ITSpatial/DMRAnalysis/AggLayerDMR/IT-L6/MotifScan.h5adtemp/MA0768.1.meme, N motif total=38575\n"
     ]
    },
    {
     "name": "stderr",
     "output_type": "stream",
     "text": [
      "/home/hanliu/miniconda3/envs/clustering/lib/python3.7/site-packages/ALLCools/dmr/fimo.py:60: FutureWarning: to_msgpack is deprecated and will be removed in a future version.\n",
      "It is recommended to use pyarrow for on-the-wire transmission of pandas objects.\n",
      "  final_df.to_msgpack(output_path, compress='zlib')\n"
     ]
    },
    {
     "name": "stdout",
     "output_type": "stream",
     "text": [
      "/home/hanliu/project/mouse_rostral_brain/study/ITSpatial/DMRAnalysis/AggLayerDMR/IT-L6/MotifScan.h5adtemp/MA1107.2.meme, N motif total=323650\n"
     ]
    },
    {
     "name": "stderr",
     "output_type": "stream",
     "text": [
      "/home/hanliu/miniconda3/envs/clustering/lib/python3.7/site-packages/ALLCools/dmr/fimo.py:60: FutureWarning: to_msgpack is deprecated and will be removed in a future version.\n",
      "It is recommended to use pyarrow for on-the-wire transmission of pandas objects.\n",
      "  final_df.to_msgpack(output_path, compress='zlib')\n"
     ]
    },
    {
     "name": "stdout",
     "output_type": "stream",
     "text": [
      "/home/hanliu/project/mouse_rostral_brain/study/ITSpatial/DMRAnalysis/AggLayerDMR/IT-L6/MotifScan.h5adtemp/MA0704.1.meme, N motif total=13544\n"
     ]
    },
    {
     "name": "stderr",
     "output_type": "stream",
     "text": [
      "/home/hanliu/miniconda3/envs/clustering/lib/python3.7/site-packages/ALLCools/dmr/fimo.py:60: FutureWarning: to_msgpack is deprecated and will be removed in a future version.\n",
      "It is recommended to use pyarrow for on-the-wire transmission of pandas objects.\n",
      "  final_df.to_msgpack(output_path, compress='zlib')\n"
     ]
    },
    {
     "name": "stdout",
     "output_type": "stream",
     "text": [
      "/home/hanliu/project/mouse_rostral_brain/study/ITSpatial/DMRAnalysis/AggLayerDMR/IT-L6/MotifScan.h5adtemp/MA1519.1.meme, N motif total=10320\n"
     ]
    },
    {
     "name": "stderr",
     "output_type": "stream",
     "text": [
      "/home/hanliu/miniconda3/envs/clustering/lib/python3.7/site-packages/ALLCools/dmr/fimo.py:60: FutureWarning: to_msgpack is deprecated and will be removed in a future version.\n",
      "It is recommended to use pyarrow for on-the-wire transmission of pandas objects.\n",
      "  final_df.to_msgpack(output_path, compress='zlib')\n"
     ]
    },
    {
     "name": "stdout",
     "output_type": "stream",
     "text": [
      "/home/hanliu/project/mouse_rostral_brain/study/ITSpatial/DMRAnalysis/AggLayerDMR/IT-L6/MotifScan.h5adtemp/MA0700.2.meme, N motif total=12176\n"
     ]
    },
    {
     "name": "stderr",
     "output_type": "stream",
     "text": [
      "/home/hanliu/miniconda3/envs/clustering/lib/python3.7/site-packages/ALLCools/dmr/fimo.py:60: FutureWarning: to_msgpack is deprecated and will be removed in a future version.\n",
      "It is recommended to use pyarrow for on-the-wire transmission of pandas objects.\n",
      "  final_df.to_msgpack(output_path, compress='zlib')\n"
     ]
    },
    {
     "name": "stdout",
     "output_type": "stream",
     "text": [
      "/home/hanliu/project/mouse_rostral_brain/study/ITSpatial/DMRAnalysis/AggLayerDMR/IT-L6/MotifScan.h5adtemp/MA0705.1.meme, N motif total=9285\n"
     ]
    },
    {
     "name": "stderr",
     "output_type": "stream",
     "text": [
      "/home/hanliu/miniconda3/envs/clustering/lib/python3.7/site-packages/ALLCools/dmr/fimo.py:60: FutureWarning: to_msgpack is deprecated and will be removed in a future version.\n",
      "It is recommended to use pyarrow for on-the-wire transmission of pandas objects.\n",
      "  final_df.to_msgpack(output_path, compress='zlib')\n"
     ]
    },
    {
     "name": "stdout",
     "output_type": "stream",
     "text": [
      "/home/hanliu/project/mouse_rostral_brain/study/ITSpatial/DMRAnalysis/AggLayerDMR/IT-L6/MotifScan.h5adtemp/MA0702.2.meme, N motif total=11466\n"
     ]
    },
    {
     "name": "stderr",
     "output_type": "stream",
     "text": [
      "/home/hanliu/miniconda3/envs/clustering/lib/python3.7/site-packages/ALLCools/dmr/fimo.py:60: FutureWarning: to_msgpack is deprecated and will be removed in a future version.\n",
      "It is recommended to use pyarrow for on-the-wire transmission of pandas objects.\n",
      "  final_df.to_msgpack(output_path, compress='zlib')\n"
     ]
    },
    {
     "name": "stdout",
     "output_type": "stream",
     "text": [
      "/home/hanliu/project/mouse_rostral_brain/study/ITSpatial/DMRAnalysis/AggLayerDMR/IT-L6/MotifScan.h5adtemp/MA0135.1.meme, N motif total=23093\n"
     ]
    },
    {
     "name": "stderr",
     "output_type": "stream",
     "text": [
      "/home/hanliu/miniconda3/envs/clustering/lib/python3.7/site-packages/ALLCools/dmr/fimo.py:60: FutureWarning: to_msgpack is deprecated and will be removed in a future version.\n",
      "It is recommended to use pyarrow for on-the-wire transmission of pandas objects.\n",
      "  final_df.to_msgpack(output_path, compress='zlib')\n"
     ]
    },
    {
     "name": "stdout",
     "output_type": "stream",
     "text": [
      "/home/hanliu/project/mouse_rostral_brain/study/ITSpatial/DMRAnalysis/AggLayerDMR/IT-L6/MotifScan.h5adtemp/MA0701.2.meme, N motif total=9846\n"
     ]
    },
    {
     "name": "stderr",
     "output_type": "stream",
     "text": [
      "/home/hanliu/miniconda3/envs/clustering/lib/python3.7/site-packages/ALLCools/dmr/fimo.py:60: FutureWarning: to_msgpack is deprecated and will be removed in a future version.\n",
      "It is recommended to use pyarrow for on-the-wire transmission of pandas objects.\n",
      "  final_df.to_msgpack(output_path, compress='zlib')\n"
     ]
    },
    {
     "name": "stdout",
     "output_type": "stream",
     "text": [
      "/home/hanliu/project/mouse_rostral_brain/study/ITSpatial/DMRAnalysis/AggLayerDMR/IT-L6/MotifScan.h5adtemp/MA0619.1.meme, N motif total=30123\n"
     ]
    },
    {
     "name": "stderr",
     "output_type": "stream",
     "text": [
      "/home/hanliu/miniconda3/envs/clustering/lib/python3.7/site-packages/ALLCools/dmr/fimo.py:60: FutureWarning: to_msgpack is deprecated and will be removed in a future version.\n",
      "It is recommended to use pyarrow for on-the-wire transmission of pandas objects.\n",
      "  final_df.to_msgpack(output_path, compress='zlib')\n"
     ]
    },
    {
     "name": "stdout",
     "output_type": "stream",
     "text": [
      "/home/hanliu/project/mouse_rostral_brain/study/ITSpatial/DMRAnalysis/AggLayerDMR/IT-L6/MotifScan.h5adtemp/MA0658.1.meme, N motif total=10185\n"
     ]
    },
    {
     "name": "stderr",
     "output_type": "stream",
     "text": [
      "/home/hanliu/miniconda3/envs/clustering/lib/python3.7/site-packages/ALLCools/dmr/fimo.py:60: FutureWarning: to_msgpack is deprecated and will be removed in a future version.\n",
      "It is recommended to use pyarrow for on-the-wire transmission of pandas objects.\n",
      "  final_df.to_msgpack(output_path, compress='zlib')\n"
     ]
    },
    {
     "name": "stdout",
     "output_type": "stream",
     "text": [
      "/home/hanliu/project/mouse_rostral_brain/study/ITSpatial/DMRAnalysis/AggLayerDMR/IT-L6/MotifScan.h5adtemp/MA0703.2.meme, N motif total=17308\n"
     ]
    },
    {
     "name": "stderr",
     "output_type": "stream",
     "text": [
      "/home/hanliu/miniconda3/envs/clustering/lib/python3.7/site-packages/ALLCools/dmr/fimo.py:60: FutureWarning: to_msgpack is deprecated and will be removed in a future version.\n",
      "It is recommended to use pyarrow for on-the-wire transmission of pandas objects.\n",
      "  final_df.to_msgpack(output_path, compress='zlib')\n"
     ]
    },
    {
     "name": "stdout",
     "output_type": "stream",
     "text": [
      "/home/hanliu/project/mouse_rostral_brain/study/ITSpatial/DMRAnalysis/AggLayerDMR/IT-L6/MotifScan.h5adtemp/MA0117.2.meme, N motif total=28545\n"
     ]
    },
    {
     "name": "stderr",
     "output_type": "stream",
     "text": [
      "/home/hanliu/miniconda3/envs/clustering/lib/python3.7/site-packages/ALLCools/dmr/fimo.py:60: FutureWarning: to_msgpack is deprecated and will be removed in a future version.\n",
      "It is recommended to use pyarrow for on-the-wire transmission of pandas objects.\n",
      "  final_df.to_msgpack(output_path, compress='zlib')\n"
     ]
    },
    {
     "name": "stdout",
     "output_type": "stream",
     "text": [
      "/home/hanliu/project/mouse_rostral_brain/study/ITSpatial/DMRAnalysis/AggLayerDMR/IT-L6/MotifScan.h5adtemp/MA1521.1.meme, N motif total=38484\n"
     ]
    },
    {
     "name": "stderr",
     "output_type": "stream",
     "text": [
      "/home/hanliu/miniconda3/envs/clustering/lib/python3.7/site-packages/ALLCools/dmr/fimo.py:60: FutureWarning: to_msgpack is deprecated and will be removed in a future version.\n",
      "It is recommended to use pyarrow for on-the-wire transmission of pandas objects.\n",
      "  final_df.to_msgpack(output_path, compress='zlib')\n"
     ]
    },
    {
     "name": "stdout",
     "output_type": "stream",
     "text": [
      "/home/hanliu/project/mouse_rostral_brain/study/ITSpatial/DMRAnalysis/AggLayerDMR/IT-L6/MotifScan.h5adtemp/MA1520.1.meme, N motif total=37363\n"
     ]
    },
    {
     "name": "stderr",
     "output_type": "stream",
     "text": [
      "/home/hanliu/miniconda3/envs/clustering/lib/python3.7/site-packages/ALLCools/dmr/fimo.py:60: FutureWarning: to_msgpack is deprecated and will be removed in a future version.\n",
      "It is recommended to use pyarrow for on-the-wire transmission of pandas objects.\n",
      "  final_df.to_msgpack(output_path, compress='zlib')\n"
     ]
    },
    {
     "name": "stdout",
     "output_type": "stream",
     "text": [
      "/home/hanliu/project/mouse_rostral_brain/study/ITSpatial/DMRAnalysis/AggLayerDMR/IT-L6/MotifScan.h5adtemp/MA0498.2.meme, N motif total=20607\n"
     ]
    },
    {
     "name": "stderr",
     "output_type": "stream",
     "text": [
      "/home/hanliu/miniconda3/envs/clustering/lib/python3.7/site-packages/ALLCools/dmr/fimo.py:60: FutureWarning: to_msgpack is deprecated and will be removed in a future version.\n",
      "It is recommended to use pyarrow for on-the-wire transmission of pandas objects.\n",
      "  final_df.to_msgpack(output_path, compress='zlib')\n"
     ]
    },
    {
     "name": "stdout",
     "output_type": "stream",
     "text": [
      "/home/hanliu/project/mouse_rostral_brain/study/ITSpatial/DMRAnalysis/AggLayerDMR/IT-L6/MotifScan.h5adtemp/MA0058.3.meme, N motif total=19089\n"
     ]
    },
    {
     "name": "stderr",
     "output_type": "stream",
     "text": [
      "/home/hanliu/miniconda3/envs/clustering/lib/python3.7/site-packages/ALLCools/dmr/fimo.py:60: FutureWarning: to_msgpack is deprecated and will be removed in a future version.\n",
      "It is recommended to use pyarrow for on-the-wire transmission of pandas objects.\n",
      "  final_df.to_msgpack(output_path, compress='zlib')\n"
     ]
    },
    {
     "name": "stdout",
     "output_type": "stream",
     "text": [
      "/home/hanliu/project/mouse_rostral_brain/study/ITSpatial/DMRAnalysis/AggLayerDMR/IT-L6/MotifScan.h5adtemp/MA0501.1.meme, N motif total=42693\n"
     ]
    },
    {
     "name": "stderr",
     "output_type": "stream",
     "text": [
      "/home/hanliu/miniconda3/envs/clustering/lib/python3.7/site-packages/ALLCools/dmr/fimo.py:60: FutureWarning: to_msgpack is deprecated and will be removed in a future version.\n",
      "It is recommended to use pyarrow for on-the-wire transmission of pandas objects.\n",
      "  final_df.to_msgpack(output_path, compress='zlib')\n"
     ]
    },
    {
     "name": "stdout",
     "output_type": "stream",
     "text": [
      "/home/hanliu/project/mouse_rostral_brain/study/ITSpatial/DMRAnalysis/AggLayerDMR/IT-L6/MotifScan.h5adtemp/MA0059.1.meme, N motif total=25901\n"
     ]
    },
    {
     "name": "stderr",
     "output_type": "stream",
     "text": [
      "/home/hanliu/miniconda3/envs/clustering/lib/python3.7/site-packages/ALLCools/dmr/fimo.py:60: FutureWarning: to_msgpack is deprecated and will be removed in a future version.\n",
      "It is recommended to use pyarrow for on-the-wire transmission of pandas objects.\n",
      "  final_df.to_msgpack(output_path, compress='zlib')\n"
     ]
    },
    {
     "name": "stdout",
     "output_type": "stream",
     "text": [
      "/home/hanliu/project/mouse_rostral_brain/study/ITSpatial/DMRAnalysis/AggLayerDMR/IT-L6/MotifScan.h5adtemp/MA0495.3.meme, N motif total=35062\n"
     ]
    },
    {
     "name": "stderr",
     "output_type": "stream",
     "text": [
      "/home/hanliu/miniconda3/envs/clustering/lib/python3.7/site-packages/ALLCools/dmr/fimo.py:60: FutureWarning: to_msgpack is deprecated and will be removed in a future version.\n",
      "It is recommended to use pyarrow for on-the-wire transmission of pandas objects.\n",
      "  final_df.to_msgpack(output_path, compress='zlib')\n"
     ]
    },
    {
     "name": "stdout",
     "output_type": "stream",
     "text": [
      "/home/hanliu/project/mouse_rostral_brain/study/ITSpatial/DMRAnalysis/AggLayerDMR/IT-L6/MotifScan.h5adtemp/MA0659.2.meme, N motif total=37964\n"
     ]
    },
    {
     "name": "stderr",
     "output_type": "stream",
     "text": [
      "/home/hanliu/miniconda3/envs/clustering/lib/python3.7/site-packages/ALLCools/dmr/fimo.py:60: FutureWarning: to_msgpack is deprecated and will be removed in a future version.\n",
      "It is recommended to use pyarrow for on-the-wire transmission of pandas objects.\n",
      "  final_df.to_msgpack(output_path, compress='zlib')\n"
     ]
    },
    {
     "name": "stdout",
     "output_type": "stream",
     "text": [
      "/home/hanliu/project/mouse_rostral_brain/study/ITSpatial/DMRAnalysis/AggLayerDMR/IT-L6/MotifScan.h5adtemp/MA0774.1.meme, N motif total=42476\n"
     ]
    },
    {
     "name": "stderr",
     "output_type": "stream",
     "text": [
      "/home/hanliu/miniconda3/envs/clustering/lib/python3.7/site-packages/ALLCools/dmr/fimo.py:60: FutureWarning: to_msgpack is deprecated and will be removed in a future version.\n",
      "It is recommended to use pyarrow for on-the-wire transmission of pandas objects.\n",
      "  final_df.to_msgpack(output_path, compress='zlib')\n"
     ]
    },
    {
     "name": "stdout",
     "output_type": "stream",
     "text": [
      "/home/hanliu/project/mouse_rostral_brain/study/ITSpatial/DMRAnalysis/AggLayerDMR/IT-L6/MotifScan.h5adtemp/MA1522.1.meme, N motif total=50412\n"
     ]
    },
    {
     "name": "stderr",
     "output_type": "stream",
     "text": [
      "/home/hanliu/miniconda3/envs/clustering/lib/python3.7/site-packages/ALLCools/dmr/fimo.py:60: FutureWarning: to_msgpack is deprecated and will be removed in a future version.\n",
      "It is recommended to use pyarrow for on-the-wire transmission of pandas objects.\n",
      "  final_df.to_msgpack(output_path, compress='zlib')\n"
     ]
    },
    {
     "name": "stdout",
     "output_type": "stream",
     "text": [
      "/home/hanliu/project/mouse_rostral_brain/study/ITSpatial/DMRAnalysis/AggLayerDMR/IT-L6/MotifScan.h5adtemp/MA0660.1.meme, N motif total=22177\n"
     ]
    },
    {
     "name": "stderr",
     "output_type": "stream",
     "text": [
      "/home/hanliu/miniconda3/envs/clustering/lib/python3.7/site-packages/ALLCools/dmr/fimo.py:60: FutureWarning: to_msgpack is deprecated and will be removed in a future version.\n",
      "It is recommended to use pyarrow for on-the-wire transmission of pandas objects.\n",
      "  final_df.to_msgpack(output_path, compress='zlib')\n"
     ]
    },
    {
     "name": "stdout",
     "output_type": "stream",
     "text": [
      "/home/hanliu/project/mouse_rostral_brain/study/ITSpatial/DMRAnalysis/AggLayerDMR/IT-L6/MotifScan.h5adtemp/MA0775.1.meme, N motif total=34678\n"
     ]
    },
    {
     "name": "stderr",
     "output_type": "stream",
     "text": [
      "/home/hanliu/miniconda3/envs/clustering/lib/python3.7/site-packages/ALLCools/dmr/fimo.py:60: FutureWarning: to_msgpack is deprecated and will be removed in a future version.\n",
      "It is recommended to use pyarrow for on-the-wire transmission of pandas objects.\n",
      "  final_df.to_msgpack(output_path, compress='zlib')\n"
     ]
    },
    {
     "name": "stdout",
     "output_type": "stream",
     "text": [
      "/home/hanliu/project/mouse_rostral_brain/study/ITSpatial/DMRAnalysis/AggLayerDMR/IT-L6/MotifScan.h5adtemp/MA0029.1.meme, N motif total=25522\n"
     ]
    },
    {
     "name": "stderr",
     "output_type": "stream",
     "text": [
      "/home/hanliu/miniconda3/envs/clustering/lib/python3.7/site-packages/ALLCools/dmr/fimo.py:60: FutureWarning: to_msgpack is deprecated and will be removed in a future version.\n",
      "It is recommended to use pyarrow for on-the-wire transmission of pandas objects.\n",
      "  final_df.to_msgpack(output_path, compress='zlib')\n"
     ]
    },
    {
     "name": "stdout",
     "output_type": "stream",
     "text": [
      "/home/hanliu/project/mouse_rostral_brain/study/ITSpatial/DMRAnalysis/AggLayerDMR/IT-L6/MotifScan.h5adtemp/MA0661.1.meme, N motif total=9250\n"
     ]
    },
    {
     "name": "stderr",
     "output_type": "stream",
     "text": [
      "/home/hanliu/miniconda3/envs/clustering/lib/python3.7/site-packages/ALLCools/dmr/fimo.py:60: FutureWarning: to_msgpack is deprecated and will be removed in a future version.\n",
      "It is recommended to use pyarrow for on-the-wire transmission of pandas objects.\n",
      "  final_df.to_msgpack(output_path, compress='zlib')\n"
     ]
    },
    {
     "name": "stdout",
     "output_type": "stream",
     "text": [
      "/home/hanliu/project/mouse_rostral_brain/study/ITSpatial/DMRAnalysis/AggLayerDMR/IT-L6/MotifScan.h5adtemp/MA0496.3.meme, N motif total=65939\n"
     ]
    },
    {
     "name": "stderr",
     "output_type": "stream",
     "text": [
      "/home/hanliu/miniconda3/envs/clustering/lib/python3.7/site-packages/ALLCools/dmr/fimo.py:60: FutureWarning: to_msgpack is deprecated and will be removed in a future version.\n",
      "It is recommended to use pyarrow for on-the-wire transmission of pandas objects.\n",
      "  final_df.to_msgpack(output_path, compress='zlib')\n"
     ]
    },
    {
     "name": "stdout",
     "output_type": "stream",
     "text": [
      "/home/hanliu/project/mouse_rostral_brain/study/ITSpatial/DMRAnalysis/AggLayerDMR/IT-L6/MotifScan.h5adtemp/MA0706.1.meme, N motif total=10792\n"
     ]
    },
    {
     "name": "stderr",
     "output_type": "stream",
     "text": [
      "/home/hanliu/miniconda3/envs/clustering/lib/python3.7/site-packages/ALLCools/dmr/fimo.py:60: FutureWarning: to_msgpack is deprecated and will be removed in a future version.\n",
      "It is recommended to use pyarrow for on-the-wire transmission of pandas objects.\n",
      "  final_df.to_msgpack(output_path, compress='zlib')\n"
     ]
    },
    {
     "name": "stdout",
     "output_type": "stream",
     "text": [
      "/home/hanliu/project/mouse_rostral_brain/study/ITSpatial/DMRAnalysis/AggLayerDMR/IT-L6/MotifScan.h5adtemp/MA0773.1.meme, N motif total=26540\n"
     ]
    },
    {
     "name": "stderr",
     "output_type": "stream",
     "text": [
      "/home/hanliu/miniconda3/envs/clustering/lib/python3.7/site-packages/ALLCools/dmr/fimo.py:60: FutureWarning: to_msgpack is deprecated and will be removed in a future version.\n",
      "It is recommended to use pyarrow for on-the-wire transmission of pandas objects.\n",
      "  final_df.to_msgpack(output_path, compress='zlib')\n"
     ]
    },
    {
     "name": "stdout",
     "output_type": "stream",
     "text": [
      "/home/hanliu/project/mouse_rostral_brain/study/ITSpatial/DMRAnalysis/AggLayerDMR/IT-L6/MotifScan.h5adtemp/MA0801.1.meme, N motif total=25641\n"
     ]
    },
    {
     "name": "stderr",
     "output_type": "stream",
     "text": [
      "/home/hanliu/miniconda3/envs/clustering/lib/python3.7/site-packages/ALLCools/dmr/fimo.py:60: FutureWarning: to_msgpack is deprecated and will be removed in a future version.\n",
      "It is recommended to use pyarrow for on-the-wire transmission of pandas objects.\n",
      "  final_df.to_msgpack(output_path, compress='zlib')\n"
     ]
    },
    {
     "name": "stdout",
     "output_type": "stream",
     "text": [
      "/home/hanliu/project/mouse_rostral_brain/study/ITSpatial/DMRAnalysis/AggLayerDMR/IT-L6/MotifScan.h5adtemp/MA1639.1.meme, N motif total=23416\n"
     ]
    },
    {
     "name": "stderr",
     "output_type": "stream",
     "text": [
      "/home/hanliu/miniconda3/envs/clustering/lib/python3.7/site-packages/ALLCools/dmr/fimo.py:60: FutureWarning: to_msgpack is deprecated and will be removed in a future version.\n",
      "It is recommended to use pyarrow for on-the-wire transmission of pandas objects.\n",
      "  final_df.to_msgpack(output_path, compress='zlib')\n"
     ]
    },
    {
     "name": "stdout",
     "output_type": "stream",
     "text": [
      "/home/hanliu/project/mouse_rostral_brain/study/ITSpatial/DMRAnalysis/AggLayerDMR/IT-L6/MotifScan.h5adtemp/MA0052.4.meme, N motif total=48146\n"
     ]
    },
    {
     "name": "stderr",
     "output_type": "stream",
     "text": [
      "/home/hanliu/miniconda3/envs/clustering/lib/python3.7/site-packages/ALLCools/dmr/fimo.py:60: FutureWarning: to_msgpack is deprecated and will be removed in a future version.\n",
      "It is recommended to use pyarrow for on-the-wire transmission of pandas objects.\n",
      "  final_df.to_msgpack(output_path, compress='zlib')\n"
     ]
    },
    {
     "name": "stdout",
     "output_type": "stream",
     "text": [
      "/home/hanliu/project/mouse_rostral_brain/study/ITSpatial/DMRAnalysis/AggLayerDMR/IT-L6/MotifScan.h5adtemp/MA0497.1.meme, N motif total=48208\n"
     ]
    },
    {
     "name": "stderr",
     "output_type": "stream",
     "text": [
      "/home/hanliu/miniconda3/envs/clustering/lib/python3.7/site-packages/ALLCools/dmr/fimo.py:60: FutureWarning: to_msgpack is deprecated and will be removed in a future version.\n",
      "It is recommended to use pyarrow for on-the-wire transmission of pandas objects.\n",
      "  final_df.to_msgpack(output_path, compress='zlib')\n"
     ]
    },
    {
     "name": "stdout",
     "output_type": "stream",
     "text": [
      "/home/hanliu/project/mouse_rostral_brain/study/ITSpatial/DMRAnalysis/AggLayerDMR/IT-L6/MotifScan.h5adtemp/MA0662.1.meme, N motif total=11422\n"
     ]
    },
    {
     "name": "stderr",
     "output_type": "stream",
     "text": [
      "/home/hanliu/miniconda3/envs/clustering/lib/python3.7/site-packages/ALLCools/dmr/fimo.py:60: FutureWarning: to_msgpack is deprecated and will be removed in a future version.\n",
      "It is recommended to use pyarrow for on-the-wire transmission of pandas objects.\n",
      "  final_df.to_msgpack(output_path, compress='zlib')\n"
     ]
    },
    {
     "name": "stdout",
     "output_type": "stream",
     "text": [
      "/home/hanliu/project/mouse_rostral_brain/study/ITSpatial/DMRAnalysis/AggLayerDMR/IT-L6/MotifScan.h5adtemp/MA0622.1.meme, N motif total=17735\n"
     ]
    },
    {
     "name": "stderr",
     "output_type": "stream",
     "text": [
      "/home/hanliu/miniconda3/envs/clustering/lib/python3.7/site-packages/ALLCools/dmr/fimo.py:60: FutureWarning: to_msgpack is deprecated and will be removed in a future version.\n",
      "It is recommended to use pyarrow for on-the-wire transmission of pandas objects.\n",
      "  final_df.to_msgpack(output_path, compress='zlib')\n"
     ]
    },
    {
     "name": "stdout",
     "output_type": "stream",
     "text": [
      "/home/hanliu/project/mouse_rostral_brain/study/ITSpatial/DMRAnalysis/AggLayerDMR/IT-L6/MotifScan.h5adtemp/MA1640.1.meme, N motif total=23822\n"
     ]
    },
    {
     "name": "stderr",
     "output_type": "stream",
     "text": [
      "/home/hanliu/miniconda3/envs/clustering/lib/python3.7/site-packages/ALLCools/dmr/fimo.py:60: FutureWarning: to_msgpack is deprecated and will be removed in a future version.\n",
      "It is recommended to use pyarrow for on-the-wire transmission of pandas objects.\n",
      "  final_df.to_msgpack(output_path, compress='zlib')\n"
     ]
    },
    {
     "name": "stdout",
     "output_type": "stream",
     "text": [
      "/home/hanliu/project/mouse_rostral_brain/study/ITSpatial/DMRAnalysis/AggLayerDMR/IT-L6/MotifScan.h5adtemp/MA0663.1.meme, N motif total=11877\n"
     ]
    },
    {
     "name": "stderr",
     "output_type": "stream",
     "text": [
      "/home/hanliu/miniconda3/envs/clustering/lib/python3.7/site-packages/ALLCools/dmr/fimo.py:60: FutureWarning: to_msgpack is deprecated and will be removed in a future version.\n",
      "It is recommended to use pyarrow for on-the-wire transmission of pandas objects.\n",
      "  final_df.to_msgpack(output_path, compress='zlib')\n"
     ]
    },
    {
     "name": "stdout",
     "output_type": "stream",
     "text": [
      "/home/hanliu/project/mouse_rostral_brain/study/ITSpatial/DMRAnalysis/AggLayerDMR/IT-L6/MotifScan.h5adtemp/MA0664.1.meme, N motif total=15073\n"
     ]
    },
    {
     "name": "stderr",
     "output_type": "stream",
     "text": [
      "/home/hanliu/miniconda3/envs/clustering/lib/python3.7/site-packages/ALLCools/dmr/fimo.py:60: FutureWarning: to_msgpack is deprecated and will be removed in a future version.\n",
      "It is recommended to use pyarrow for on-the-wire transmission of pandas objects.\n",
      "  final_df.to_msgpack(output_path, compress='zlib')\n"
     ]
    },
    {
     "name": "stdout",
     "output_type": "stream",
     "text": [
      "/home/hanliu/project/mouse_rostral_brain/study/ITSpatial/DMRAnalysis/AggLayerDMR/IT-L6/MotifScan.h5adtemp/MA0620.3.meme, N motif total=26432\n"
     ]
    },
    {
     "name": "stderr",
     "output_type": "stream",
     "text": [
      "/home/hanliu/miniconda3/envs/clustering/lib/python3.7/site-packages/ALLCools/dmr/fimo.py:60: FutureWarning: to_msgpack is deprecated and will be removed in a future version.\n",
      "It is recommended to use pyarrow for on-the-wire transmission of pandas objects.\n",
      "  final_df.to_msgpack(output_path, compress='zlib')\n"
     ]
    },
    {
     "name": "stdout",
     "output_type": "stream",
     "text": [
      "/home/hanliu/project/mouse_rostral_brain/study/ITSpatial/DMRAnalysis/AggLayerDMR/IT-L6/MotifScan.h5adtemp/MA0707.1.meme, N motif total=15229\n"
     ]
    },
    {
     "name": "stderr",
     "output_type": "stream",
     "text": [
      "/home/hanliu/miniconda3/envs/clustering/lib/python3.7/site-packages/ALLCools/dmr/fimo.py:60: FutureWarning: to_msgpack is deprecated and will be removed in a future version.\n",
      "It is recommended to use pyarrow for on-the-wire transmission of pandas objects.\n",
      "  final_df.to_msgpack(output_path, compress='zlib')\n"
     ]
    },
    {
     "name": "stdout",
     "output_type": "stream",
     "text": [
      "/home/hanliu/project/mouse_rostral_brain/study/ITSpatial/DMRAnalysis/AggLayerDMR/IT-L6/MotifScan.h5adtemp/MA0825.1.meme, N motif total=17979\n"
     ]
    },
    {
     "name": "stderr",
     "output_type": "stream",
     "text": [
      "/home/hanliu/miniconda3/envs/clustering/lib/python3.7/site-packages/ALLCools/dmr/fimo.py:60: FutureWarning: to_msgpack is deprecated and will be removed in a future version.\n",
      "It is recommended to use pyarrow for on-the-wire transmission of pandas objects.\n",
      "  final_df.to_msgpack(output_path, compress='zlib')\n"
     ]
    },
    {
     "name": "stdout",
     "output_type": "stream",
     "text": [
      "/home/hanliu/project/mouse_rostral_brain/study/ITSpatial/DMRAnalysis/AggLayerDMR/IT-L6/MotifScan.h5adtemp/MA1523.1.meme, N motif total=32035\n"
     ]
    },
    {
     "name": "stderr",
     "output_type": "stream",
     "text": [
      "/home/hanliu/miniconda3/envs/clustering/lib/python3.7/site-packages/ALLCools/dmr/fimo.py:60: FutureWarning: to_msgpack is deprecated and will be removed in a future version.\n",
      "It is recommended to use pyarrow for on-the-wire transmission of pandas objects.\n",
      "  final_df.to_msgpack(output_path, compress='zlib')\n"
     ]
    },
    {
     "name": "stdout",
     "output_type": "stream",
     "text": [
      "/home/hanliu/project/mouse_rostral_brain/study/ITSpatial/DMRAnalysis/AggLayerDMR/IT-L6/MotifScan.h5adtemp/MA0666.1.meme, N motif total=9577\n"
     ]
    },
    {
     "name": "stderr",
     "output_type": "stream",
     "text": [
      "/home/hanliu/miniconda3/envs/clustering/lib/python3.7/site-packages/ALLCools/dmr/fimo.py:60: FutureWarning: to_msgpack is deprecated and will be removed in a future version.\n",
      "It is recommended to use pyarrow for on-the-wire transmission of pandas objects.\n",
      "  final_df.to_msgpack(output_path, compress='zlib')\n"
     ]
    },
    {
     "name": "stdout",
     "output_type": "stream",
     "text": [
      "/home/hanliu/project/mouse_rostral_brain/study/ITSpatial/DMRAnalysis/AggLayerDMR/IT-L6/MotifScan.h5adtemp/MA0665.1.meme, N motif total=45360\n"
     ]
    },
    {
     "name": "stderr",
     "output_type": "stream",
     "text": [
      "/home/hanliu/miniconda3/envs/clustering/lib/python3.7/site-packages/ALLCools/dmr/fimo.py:60: FutureWarning: to_msgpack is deprecated and will be removed in a future version.\n",
      "It is recommended to use pyarrow for on-the-wire transmission of pandas objects.\n",
      "  final_df.to_msgpack(output_path, compress='zlib')\n"
     ]
    },
    {
     "name": "stdout",
     "output_type": "stream",
     "text": [
      "/home/hanliu/project/mouse_rostral_brain/study/ITSpatial/DMRAnalysis/AggLayerDMR/IT-L6/MotifScan.h5adtemp/MA0708.1.meme, N motif total=10342\n"
     ]
    },
    {
     "name": "stderr",
     "output_type": "stream",
     "text": [
      "/home/hanliu/miniconda3/envs/clustering/lib/python3.7/site-packages/ALLCools/dmr/fimo.py:60: FutureWarning: to_msgpack is deprecated and will be removed in a future version.\n",
      "It is recommended to use pyarrow for on-the-wire transmission of pandas objects.\n",
      "  final_df.to_msgpack(output_path, compress='zlib')\n"
     ]
    },
    {
     "name": "stdout",
     "output_type": "stream",
     "text": [
      "/home/hanliu/project/mouse_rostral_brain/study/ITSpatial/DMRAnalysis/AggLayerDMR/IT-L6/MotifScan.h5adtemp/MA1524.1.meme, N motif total=28480\n"
     ]
    },
    {
     "name": "stderr",
     "output_type": "stream",
     "text": [
      "/home/hanliu/miniconda3/envs/clustering/lib/python3.7/site-packages/ALLCools/dmr/fimo.py:60: FutureWarning: to_msgpack is deprecated and will be removed in a future version.\n",
      "It is recommended to use pyarrow for on-the-wire transmission of pandas objects.\n",
      "  final_df.to_msgpack(output_path, compress='zlib')\n"
     ]
    },
    {
     "name": "stdout",
     "output_type": "stream",
     "text": [
      "/home/hanliu/project/mouse_rostral_brain/study/ITSpatial/DMRAnalysis/AggLayerDMR/IT-L6/MotifScan.h5adtemp/MA0709.1.meme, N motif total=10342\n"
     ]
    },
    {
     "name": "stderr",
     "output_type": "stream",
     "text": [
      "/home/hanliu/miniconda3/envs/clustering/lib/python3.7/site-packages/ALLCools/dmr/fimo.py:60: FutureWarning: to_msgpack is deprecated and will be removed in a future version.\n",
      "It is recommended to use pyarrow for on-the-wire transmission of pandas objects.\n",
      "  final_df.to_msgpack(output_path, compress='zlib')\n"
     ]
    },
    {
     "name": "stdout",
     "output_type": "stream",
     "text": [
      "/home/hanliu/project/mouse_rostral_brain/study/ITSpatial/DMRAnalysis/AggLayerDMR/IT-L6/MotifScan.h5adtemp/MA1108.2.meme, N motif total=51094\n"
     ]
    },
    {
     "name": "stderr",
     "output_type": "stream",
     "text": [
      "/home/hanliu/miniconda3/envs/clustering/lib/python3.7/site-packages/ALLCools/dmr/fimo.py:60: FutureWarning: to_msgpack is deprecated and will be removed in a future version.\n",
      "It is recommended to use pyarrow for on-the-wire transmission of pandas objects.\n",
      "  final_df.to_msgpack(output_path, compress='zlib')\n"
     ]
    },
    {
     "name": "stdout",
     "output_type": "stream",
     "text": [
      "/home/hanliu/project/mouse_rostral_brain/study/ITSpatial/DMRAnalysis/AggLayerDMR/IT-L6/MotifScan.h5adtemp/MA0100.3.meme, N motif total=26755\n"
     ]
    },
    {
     "name": "stderr",
     "output_type": "stream",
     "text": [
      "/home/hanliu/miniconda3/envs/clustering/lib/python3.7/site-packages/ALLCools/dmr/fimo.py:60: FutureWarning: to_msgpack is deprecated and will be removed in a future version.\n",
      "It is recommended to use pyarrow for on-the-wire transmission of pandas objects.\n",
      "  final_df.to_msgpack(output_path, compress='zlib')\n"
     ]
    },
    {
     "name": "stdout",
     "output_type": "stream",
     "text": [
      "/home/hanliu/project/mouse_rostral_brain/study/ITSpatial/DMRAnalysis/AggLayerDMR/IT-L6/MotifScan.h5adtemp/MA0863.1.meme, N motif total=12647\n"
     ]
    },
    {
     "name": "stderr",
     "output_type": "stream",
     "text": [
      "/home/hanliu/miniconda3/envs/clustering/lib/python3.7/site-packages/ALLCools/dmr/fimo.py:60: FutureWarning: to_msgpack is deprecated and will be removed in a future version.\n",
      "It is recommended to use pyarrow for on-the-wire transmission of pandas objects.\n",
      "  final_df.to_msgpack(output_path, compress='zlib')\n"
     ]
    },
    {
     "name": "stdout",
     "output_type": "stream",
     "text": [
      "/home/hanliu/project/mouse_rostral_brain/study/ITSpatial/DMRAnalysis/AggLayerDMR/IT-L6/MotifScan.h5adtemp/MA0776.1.meme, N motif total=5040\n"
     ]
    },
    {
     "name": "stderr",
     "output_type": "stream",
     "text": [
      "/home/hanliu/miniconda3/envs/clustering/lib/python3.7/site-packages/ALLCools/dmr/fimo.py:60: FutureWarning: to_msgpack is deprecated and will be removed in a future version.\n",
      "It is recommended to use pyarrow for on-the-wire transmission of pandas objects.\n",
      "  final_df.to_msgpack(output_path, compress='zlib')\n"
     ]
    },
    {
     "name": "stdout",
     "output_type": "stream",
     "text": [
      "/home/hanliu/project/mouse_rostral_brain/study/ITSpatial/DMRAnalysis/AggLayerDMR/IT-L6/MotifScan.h5adtemp/MA0152.1.meme, N motif total=35740\n"
     ]
    },
    {
     "name": "stderr",
     "output_type": "stream",
     "text": [
      "/home/hanliu/miniconda3/envs/clustering/lib/python3.7/site-packages/ALLCools/dmr/fimo.py:60: FutureWarning: to_msgpack is deprecated and will be removed in a future version.\n",
      "It is recommended to use pyarrow for on-the-wire transmission of pandas objects.\n",
      "  final_df.to_msgpack(output_path, compress='zlib')\n"
     ]
    },
    {
     "name": "stdout",
     "output_type": "stream",
     "text": [
      "/home/hanliu/project/mouse_rostral_brain/study/ITSpatial/DMRAnalysis/AggLayerDMR/IT-L6/MotifScan.h5adtemp/MA0777.1.meme, N motif total=4988\n"
     ]
    },
    {
     "name": "stderr",
     "output_type": "stream",
     "text": [
      "/home/hanliu/miniconda3/envs/clustering/lib/python3.7/site-packages/ALLCools/dmr/fimo.py:60: FutureWarning: to_msgpack is deprecated and will be removed in a future version.\n",
      "It is recommended to use pyarrow for on-the-wire transmission of pandas objects.\n",
      "  final_df.to_msgpack(output_path, compress='zlib')\n"
     ]
    },
    {
     "name": "stdout",
     "output_type": "stream",
     "text": [
      "/home/hanliu/project/mouse_rostral_brain/study/ITSpatial/DMRAnalysis/AggLayerDMR/IT-L6/MotifScan.h5adtemp/MA0147.3.meme, N motif total=23066\n"
     ]
    },
    {
     "name": "stderr",
     "output_type": "stream",
     "text": [
      "/home/hanliu/miniconda3/envs/clustering/lib/python3.7/site-packages/ALLCools/dmr/fimo.py:60: FutureWarning: to_msgpack is deprecated and will be removed in a future version.\n",
      "It is recommended to use pyarrow for on-the-wire transmission of pandas objects.\n",
      "  final_df.to_msgpack(output_path, compress='zlib')\n"
     ]
    },
    {
     "name": "stdout",
     "output_type": "stream",
     "text": [
      "/home/hanliu/project/mouse_rostral_brain/study/ITSpatial/DMRAnalysis/AggLayerDMR/IT-L6/MotifScan.h5adtemp/MA0104.4.meme, N motif total=23344\n"
     ]
    },
    {
     "name": "stderr",
     "output_type": "stream",
     "text": [
      "/home/hanliu/miniconda3/envs/clustering/lib/python3.7/site-packages/ALLCools/dmr/fimo.py:60: FutureWarning: to_msgpack is deprecated and will be removed in a future version.\n",
      "It is recommended to use pyarrow for on-the-wire transmission of pandas objects.\n",
      "  final_df.to_msgpack(output_path, compress='zlib')\n"
     ]
    },
    {
     "name": "stdout",
     "output_type": "stream",
     "text": [
      "/home/hanliu/project/mouse_rostral_brain/study/ITSpatial/DMRAnalysis/AggLayerDMR/IT-L6/MotifScan.h5adtemp/MA0057.1.meme, N motif total=42721\n"
     ]
    },
    {
     "name": "stderr",
     "output_type": "stream",
     "text": [
      "/home/hanliu/miniconda3/envs/clustering/lib/python3.7/site-packages/ALLCools/dmr/fimo.py:60: FutureWarning: to_msgpack is deprecated and will be removed in a future version.\n",
      "It is recommended to use pyarrow for on-the-wire transmission of pandas objects.\n",
      "  final_df.to_msgpack(output_path, compress='zlib')\n"
     ]
    },
    {
     "name": "stdout",
     "output_type": "stream",
     "text": [
      "/home/hanliu/project/mouse_rostral_brain/study/ITSpatial/DMRAnalysis/AggLayerDMR/IT-L6/MotifScan.h5adtemp/MA0667.1.meme, N motif total=36007\n"
     ]
    },
    {
     "name": "stderr",
     "output_type": "stream",
     "text": [
      "/home/hanliu/miniconda3/envs/clustering/lib/python3.7/site-packages/ALLCools/dmr/fimo.py:60: FutureWarning: to_msgpack is deprecated and will be removed in a future version.\n",
      "It is recommended to use pyarrow for on-the-wire transmission of pandas objects.\n",
      "  final_df.to_msgpack(output_path, compress='zlib')\n"
     ]
    },
    {
     "name": "stdout",
     "output_type": "stream",
     "text": [
      "/home/hanliu/project/mouse_rostral_brain/study/ITSpatial/DMRAnalysis/AggLayerDMR/IT-L6/MotifScan.h5adtemp/MA0623.2.meme, N motif total=27752\n"
     ]
    },
    {
     "name": "stderr",
     "output_type": "stream",
     "text": [
      "/home/hanliu/miniconda3/envs/clustering/lib/python3.7/site-packages/ALLCools/dmr/fimo.py:60: FutureWarning: to_msgpack is deprecated and will be removed in a future version.\n",
      "It is recommended to use pyarrow for on-the-wire transmission of pandas objects.\n",
      "  final_df.to_msgpack(output_path, compress='zlib')\n"
     ]
    },
    {
     "name": "stdout",
     "output_type": "stream",
     "text": [
      "/home/hanliu/project/mouse_rostral_brain/study/ITSpatial/DMRAnalysis/AggLayerDMR/IT-L6/MotifScan.h5adtemp/MA0668.1.meme, N motif total=25339\n"
     ]
    },
    {
     "name": "stderr",
     "output_type": "stream",
     "text": [
      "/home/hanliu/miniconda3/envs/clustering/lib/python3.7/site-packages/ALLCools/dmr/fimo.py:60: FutureWarning: to_msgpack is deprecated and will be removed in a future version.\n",
      "It is recommended to use pyarrow for on-the-wire transmission of pandas objects.\n",
      "  final_df.to_msgpack(output_path, compress='zlib')\n"
     ]
    },
    {
     "name": "stdout",
     "output_type": "stream",
     "text": [
      "/home/hanliu/project/mouse_rostral_brain/study/ITSpatial/DMRAnalysis/AggLayerDMR/IT-L6/MotifScan.h5adtemp/MA0669.1.meme, N motif total=35204\n"
     ]
    },
    {
     "name": "stderr",
     "output_type": "stream",
     "text": [
      "/home/hanliu/miniconda3/envs/clustering/lib/python3.7/site-packages/ALLCools/dmr/fimo.py:60: FutureWarning: to_msgpack is deprecated and will be removed in a future version.\n",
      "It is recommended to use pyarrow for on-the-wire transmission of pandas objects.\n",
      "  final_df.to_msgpack(output_path, compress='zlib')\n"
     ]
    },
    {
     "name": "stdout",
     "output_type": "stream",
     "text": [
      "/home/hanliu/project/mouse_rostral_brain/study/ITSpatial/DMRAnalysis/AggLayerDMR/IT-L6/MotifScan.h5adtemp/MA1641.1.meme, N motif total=70392\n"
     ]
    },
    {
     "name": "stderr",
     "output_type": "stream",
     "text": [
      "/home/hanliu/miniconda3/envs/clustering/lib/python3.7/site-packages/ALLCools/dmr/fimo.py:60: FutureWarning: to_msgpack is deprecated and will be removed in a future version.\n",
      "It is recommended to use pyarrow for on-the-wire transmission of pandas objects.\n",
      "  final_df.to_msgpack(output_path, compress='zlib')\n"
     ]
    },
    {
     "name": "stdout",
     "output_type": "stream",
     "text": [
      "/home/hanliu/project/mouse_rostral_brain/study/ITSpatial/DMRAnalysis/AggLayerDMR/IT-L6/MotifScan.h5adtemp/MA0056.2.meme, N motif total=31921\n"
     ]
    },
    {
     "name": "stderr",
     "output_type": "stream",
     "text": [
      "/home/hanliu/miniconda3/envs/clustering/lib/python3.7/site-packages/ALLCools/dmr/fimo.py:60: FutureWarning: to_msgpack is deprecated and will be removed in a future version.\n",
      "It is recommended to use pyarrow for on-the-wire transmission of pandas objects.\n",
      "  final_df.to_msgpack(output_path, compress='zlib')\n"
     ]
    },
    {
     "name": "stdout",
     "output_type": "stream",
     "text": [
      "/home/hanliu/project/mouse_rostral_brain/study/ITSpatial/DMRAnalysis/AggLayerDMR/IT-L6/MotifScan.h5adtemp/MA0500.2.meme, N motif total=69410\n"
     ]
    },
    {
     "name": "stderr",
     "output_type": "stream",
     "text": [
      "/home/hanliu/miniconda3/envs/clustering/lib/python3.7/site-packages/ALLCools/dmr/fimo.py:60: FutureWarning: to_msgpack is deprecated and will be removed in a future version.\n",
      "It is recommended to use pyarrow for on-the-wire transmission of pandas objects.\n",
      "  final_df.to_msgpack(output_path, compress='zlib')\n"
     ]
    },
    {
     "name": "stdout",
     "output_type": "stream",
     "text": [
      "/home/hanliu/project/mouse_rostral_brain/study/ITSpatial/DMRAnalysis/AggLayerDMR/IT-L6/MotifScan.h5adtemp/MA0606.1.meme, N motif total=39897\n"
     ]
    },
    {
     "name": "stderr",
     "output_type": "stream",
     "text": [
      "/home/hanliu/miniconda3/envs/clustering/lib/python3.7/site-packages/ALLCools/dmr/fimo.py:60: FutureWarning: to_msgpack is deprecated and will be removed in a future version.\n",
      "It is recommended to use pyarrow for on-the-wire transmission of pandas objects.\n",
      "  final_df.to_msgpack(output_path, compress='zlib')\n"
     ]
    },
    {
     "name": "stdout",
     "output_type": "stream",
     "text": [
      "/home/hanliu/project/mouse_rostral_brain/study/ITSpatial/DMRAnalysis/AggLayerDMR/IT-L6/MotifScan.h5adtemp/MA0499.2.meme, N motif total=47041\n"
     ]
    },
    {
     "name": "stderr",
     "output_type": "stream",
     "text": [
      "/home/hanliu/miniconda3/envs/clustering/lib/python3.7/site-packages/ALLCools/dmr/fimo.py:60: FutureWarning: to_msgpack is deprecated and will be removed in a future version.\n",
      "It is recommended to use pyarrow for on-the-wire transmission of pandas objects.\n",
      "  final_df.to_msgpack(output_path, compress='zlib')\n"
     ]
    },
    {
     "name": "stdout",
     "output_type": "stream",
     "text": [
      "/home/hanliu/project/mouse_rostral_brain/study/ITSpatial/DMRAnalysis/AggLayerDMR/IT-L6/MotifScan.h5adtemp/MA1525.1.meme, N motif total=27667\n"
     ]
    },
    {
     "name": "stderr",
     "output_type": "stream",
     "text": [
      "/home/hanliu/miniconda3/envs/clustering/lib/python3.7/site-packages/ALLCools/dmr/fimo.py:60: FutureWarning: to_msgpack is deprecated and will be removed in a future version.\n",
      "It is recommended to use pyarrow for on-the-wire transmission of pandas objects.\n",
      "  final_df.to_msgpack(output_path, compress='zlib')\n"
     ]
    },
    {
     "name": "stdout",
     "output_type": "stream",
     "text": [
      "/home/hanliu/project/mouse_rostral_brain/study/ITSpatial/DMRAnalysis/AggLayerDMR/IT-L6/MotifScan.h5adtemp/MA0624.1.meme, N motif total=30460\n"
     ]
    },
    {
     "name": "stderr",
     "output_type": "stream",
     "text": [
      "/home/hanliu/miniconda3/envs/clustering/lib/python3.7/site-packages/ALLCools/dmr/fimo.py:60: FutureWarning: to_msgpack is deprecated and will be removed in a future version.\n",
      "It is recommended to use pyarrow for on-the-wire transmission of pandas objects.\n",
      "  final_df.to_msgpack(output_path, compress='zlib')\n"
     ]
    },
    {
     "name": "stdout",
     "output_type": "stream",
     "text": [
      "/home/hanliu/project/mouse_rostral_brain/study/ITSpatial/DMRAnalysis/AggLayerDMR/IT-L6/MotifScan.h5adtemp/MA0625.1.meme, N motif total=30334\n"
     ]
    },
    {
     "name": "stderr",
     "output_type": "stream",
     "text": [
      "/home/hanliu/miniconda3/envs/clustering/lib/python3.7/site-packages/ALLCools/dmr/fimo.py:60: FutureWarning: to_msgpack is deprecated and will be removed in a future version.\n",
      "It is recommended to use pyarrow for on-the-wire transmission of pandas objects.\n",
      "  final_df.to_msgpack(output_path, compress='zlib')\n"
     ]
    },
    {
     "name": "stdout",
     "output_type": "stream",
     "text": [
      "/home/hanliu/project/mouse_rostral_brain/study/ITSpatial/DMRAnalysis/AggLayerDMR/IT-L6/MotifScan.h5adtemp/MA1109.1.meme, N motif total=56897\n"
     ]
    },
    {
     "name": "stderr",
     "output_type": "stream",
     "text": [
      "/home/hanliu/miniconda3/envs/clustering/lib/python3.7/site-packages/ALLCools/dmr/fimo.py:60: FutureWarning: to_msgpack is deprecated and will be removed in a future version.\n",
      "It is recommended to use pyarrow for on-the-wire transmission of pandas objects.\n",
      "  final_df.to_msgpack(output_path, compress='zlib')\n"
     ]
    },
    {
     "name": "stdout",
     "output_type": "stream",
     "text": [
      "/home/hanliu/project/mouse_rostral_brain/study/ITSpatial/DMRAnalysis/AggLayerDMR/IT-L6/MotifScan.h5adtemp/MA1642.1.meme, N motif total=52271\n"
     ]
    },
    {
     "name": "stderr",
     "output_type": "stream",
     "text": [
      "/home/hanliu/miniconda3/envs/clustering/lib/python3.7/site-packages/ALLCools/dmr/fimo.py:60: FutureWarning: to_msgpack is deprecated and will be removed in a future version.\n",
      "It is recommended to use pyarrow for on-the-wire transmission of pandas objects.\n",
      "  final_df.to_msgpack(output_path, compress='zlib')\n"
     ]
    },
    {
     "name": "stdout",
     "output_type": "stream",
     "text": [
      "/home/hanliu/project/mouse_rostral_brain/study/ITSpatial/DMRAnalysis/AggLayerDMR/IT-L6/MotifScan.h5adtemp/MA0670.1.meme, N motif total=37661\n"
     ]
    },
    {
     "name": "stderr",
     "output_type": "stream",
     "text": [
      "/home/hanliu/miniconda3/envs/clustering/lib/python3.7/site-packages/ALLCools/dmr/fimo.py:60: FutureWarning: to_msgpack is deprecated and will be removed in a future version.\n",
      "It is recommended to use pyarrow for on-the-wire transmission of pandas objects.\n",
      "  final_df.to_msgpack(output_path, compress='zlib')\n"
     ]
    },
    {
     "name": "stdout",
     "output_type": "stream",
     "text": [
      "/home/hanliu/project/mouse_rostral_brain/study/ITSpatial/DMRAnalysis/AggLayerDMR/IT-L6/MotifScan.h5adtemp/MA0841.1.meme, N motif total=36818\n"
     ]
    },
    {
     "name": "stderr",
     "output_type": "stream",
     "text": [
      "/home/hanliu/miniconda3/envs/clustering/lib/python3.7/site-packages/ALLCools/dmr/fimo.py:60: FutureWarning: to_msgpack is deprecated and will be removed in a future version.\n",
      "It is recommended to use pyarrow for on-the-wire transmission of pandas objects.\n",
      "  final_df.to_msgpack(output_path, compress='zlib')\n"
     ]
    },
    {
     "name": "stdout",
     "output_type": "stream",
     "text": [
      "/home/hanliu/project/mouse_rostral_brain/study/ITSpatial/DMRAnalysis/AggLayerDMR/IT-L6/MotifScan.h5adtemp/MA0089.2.meme, N motif total=47450\n"
     ]
    },
    {
     "name": "stderr",
     "output_type": "stream",
     "text": [
      "/home/hanliu/miniconda3/envs/clustering/lib/python3.7/site-packages/ALLCools/dmr/fimo.py:60: FutureWarning: to_msgpack is deprecated and will be removed in a future version.\n",
      "It is recommended to use pyarrow for on-the-wire transmission of pandas objects.\n",
      "  final_df.to_msgpack(output_path, compress='zlib')\n"
     ]
    },
    {
     "name": "stdout",
     "output_type": "stream",
     "text": [
      "/home/hanliu/project/mouse_rostral_brain/study/ITSpatial/DMRAnalysis/AggLayerDMR/IT-L6/MotifScan.h5adtemp/MA0150.2.meme, N motif total=41784\n"
     ]
    },
    {
     "name": "stderr",
     "output_type": "stream",
     "text": [
      "/home/hanliu/miniconda3/envs/clustering/lib/python3.7/site-packages/ALLCools/dmr/fimo.py:60: FutureWarning: to_msgpack is deprecated and will be removed in a future version.\n",
      "It is recommended to use pyarrow for on-the-wire transmission of pandas objects.\n",
      "  final_df.to_msgpack(output_path, compress='zlib')\n"
     ]
    },
    {
     "name": "stdout",
     "output_type": "stream",
     "text": [
      "/home/hanliu/project/mouse_rostral_brain/study/ITSpatial/DMRAnalysis/AggLayerDMR/IT-L6/MotifScan.h5adtemp/MA0161.2.meme, N motif total=42532\n"
     ]
    },
    {
     "name": "stderr",
     "output_type": "stream",
     "text": [
      "/home/hanliu/miniconda3/envs/clustering/lib/python3.7/site-packages/ALLCools/dmr/fimo.py:60: FutureWarning: to_msgpack is deprecated and will be removed in a future version.\n",
      "It is recommended to use pyarrow for on-the-wire transmission of pandas objects.\n",
      "  final_df.to_msgpack(output_path, compress='zlib')\n"
     ]
    },
    {
     "name": "stdout",
     "output_type": "stream",
     "text": [
      "/home/hanliu/project/mouse_rostral_brain/study/ITSpatial/DMRAnalysis/AggLayerDMR/IT-L6/MotifScan.h5adtemp/MA0119.1.meme, N motif total=27116\n"
     ]
    },
    {
     "name": "stderr",
     "output_type": "stream",
     "text": [
      "/home/hanliu/miniconda3/envs/clustering/lib/python3.7/site-packages/ALLCools/dmr/fimo.py:60: FutureWarning: to_msgpack is deprecated and will be removed in a future version.\n",
      "It is recommended to use pyarrow for on-the-wire transmission of pandas objects.\n",
      "  final_df.to_msgpack(output_path, compress='zlib')\n"
     ]
    },
    {
     "name": "stdout",
     "output_type": "stream",
     "text": [
      "/home/hanliu/project/mouse_rostral_brain/study/ITSpatial/DMRAnalysis/AggLayerDMR/IT-L6/MotifScan.h5adtemp/MA0671.1.meme, N motif total=39196\n"
     ]
    },
    {
     "name": "stderr",
     "output_type": "stream",
     "text": [
      "/home/hanliu/miniconda3/envs/clustering/lib/python3.7/site-packages/ALLCools/dmr/fimo.py:60: FutureWarning: to_msgpack is deprecated and will be removed in a future version.\n",
      "It is recommended to use pyarrow for on-the-wire transmission of pandas objects.\n",
      "  final_df.to_msgpack(output_path, compress='zlib')\n"
     ]
    },
    {
     "name": "stdout",
     "output_type": "stream",
     "text": [
      "/home/hanliu/project/mouse_rostral_brain/study/ITSpatial/DMRAnalysis/AggLayerDMR/IT-L6/MotifScan.h5adtemp/MA0025.2.meme, N motif total=17786\n"
     ]
    },
    {
     "name": "stderr",
     "output_type": "stream",
     "text": [
      "/home/hanliu/miniconda3/envs/clustering/lib/python3.7/site-packages/ALLCools/dmr/fimo.py:60: FutureWarning: to_msgpack is deprecated and will be removed in a future version.\n",
      "It is recommended to use pyarrow for on-the-wire transmission of pandas objects.\n",
      "  final_df.to_msgpack(output_path, compress='zlib')\n"
     ]
    },
    {
     "name": "stdout",
     "output_type": "stream",
     "text": [
      "/home/hanliu/project/mouse_rostral_brain/study/ITSpatial/DMRAnalysis/AggLayerDMR/IT-L6/MotifScan.h5adtemp/MA1643.1.meme, N motif total=64374\n"
     ]
    },
    {
     "name": "stderr",
     "output_type": "stream",
     "text": [
      "/home/hanliu/miniconda3/envs/clustering/lib/python3.7/site-packages/ALLCools/dmr/fimo.py:60: FutureWarning: to_msgpack is deprecated and will be removed in a future version.\n",
      "It is recommended to use pyarrow for on-the-wire transmission of pandas objects.\n",
      "  final_df.to_msgpack(output_path, compress='zlib')\n"
     ]
    },
    {
     "name": "stdout",
     "output_type": "stream",
     "text": [
      "/home/hanliu/project/mouse_rostral_brain/study/ITSpatial/DMRAnalysis/AggLayerDMR/IT-L6/MotifScan.h5adtemp/MA0060.3.meme, N motif total=19045\n"
     ]
    },
    {
     "name": "stderr",
     "output_type": "stream",
     "text": [
      "/home/hanliu/miniconda3/envs/clustering/lib/python3.7/site-packages/ALLCools/dmr/fimo.py:60: FutureWarning: to_msgpack is deprecated and will be removed in a future version.\n",
      "It is recommended to use pyarrow for on-the-wire transmission of pandas objects.\n",
      "  final_df.to_msgpack(output_path, compress='zlib')\n"
     ]
    },
    {
     "name": "stdout",
     "output_type": "stream",
     "text": [
      "/home/hanliu/project/mouse_rostral_brain/study/ITSpatial/DMRAnalysis/AggLayerDMR/IT-L6/MotifScan.h5adtemp/MA1527.1.meme, N motif total=18187\n"
     ]
    },
    {
     "name": "stderr",
     "output_type": "stream",
     "text": [
      "/home/hanliu/miniconda3/envs/clustering/lib/python3.7/site-packages/ALLCools/dmr/fimo.py:60: FutureWarning: to_msgpack is deprecated and will be removed in a future version.\n",
      "It is recommended to use pyarrow for on-the-wire transmission of pandas objects.\n",
      "  final_df.to_msgpack(output_path, compress='zlib')\n"
     ]
    },
    {
     "name": "stdout",
     "output_type": "stream",
     "text": [
      "/home/hanliu/project/mouse_rostral_brain/study/ITSpatial/DMRAnalysis/AggLayerDMR/IT-L6/MotifScan.h5adtemp/MA1644.1.meme, N motif total=20973\n"
     ]
    },
    {
     "name": "stderr",
     "output_type": "stream",
     "text": [
      "/home/hanliu/miniconda3/envs/clustering/lib/python3.7/site-packages/ALLCools/dmr/fimo.py:60: FutureWarning: to_msgpack is deprecated and will be removed in a future version.\n",
      "It is recommended to use pyarrow for on-the-wire transmission of pandas objects.\n",
      "  final_df.to_msgpack(output_path, compress='zlib')\n"
     ]
    },
    {
     "name": "stdout",
     "output_type": "stream",
     "text": [
      "/home/hanliu/project/mouse_rostral_brain/study/ITSpatial/DMRAnalysis/AggLayerDMR/IT-L6/MotifScan.h5adtemp/MA0105.4.meme, N motif total=5882\n"
     ]
    },
    {
     "name": "stderr",
     "output_type": "stream",
     "text": [
      "/home/hanliu/miniconda3/envs/clustering/lib/python3.7/site-packages/ALLCools/dmr/fimo.py:60: FutureWarning: to_msgpack is deprecated and will be removed in a future version.\n",
      "It is recommended to use pyarrow for on-the-wire transmission of pandas objects.\n",
      "  final_df.to_msgpack(output_path, compress='zlib')\n"
     ]
    },
    {
     "name": "stdout",
     "output_type": "stream",
     "text": [
      "/home/hanliu/project/mouse_rostral_brain/study/ITSpatial/DMRAnalysis/AggLayerDMR/IT-L6/MotifScan.h5adtemp/MA0502.2.meme, N motif total=24249\n"
     ]
    },
    {
     "name": "stderr",
     "output_type": "stream",
     "text": [
      "/home/hanliu/miniconda3/envs/clustering/lib/python3.7/site-packages/ALLCools/dmr/fimo.py:60: FutureWarning: to_msgpack is deprecated and will be removed in a future version.\n",
      "It is recommended to use pyarrow for on-the-wire transmission of pandas objects.\n",
      "  final_df.to_msgpack(output_path, compress='zlib')\n"
     ]
    },
    {
     "name": "stdout",
     "output_type": "stream",
     "text": [
      "/home/hanliu/project/mouse_rostral_brain/study/ITSpatial/DMRAnalysis/AggLayerDMR/IT-L6/MotifScan.h5adtemp/MA0778.1.meme, N motif total=22097\n"
     ]
    },
    {
     "name": "stderr",
     "output_type": "stream",
     "text": [
      "/home/hanliu/miniconda3/envs/clustering/lib/python3.7/site-packages/ALLCools/dmr/fimo.py:60: FutureWarning: to_msgpack is deprecated and will be removed in a future version.\n",
      "It is recommended to use pyarrow for on-the-wire transmission of pandas objects.\n",
      "  final_df.to_msgpack(output_path, compress='zlib')\n"
     ]
    },
    {
     "name": "stdout",
     "output_type": "stream",
     "text": [
      "/home/hanliu/project/mouse_rostral_brain/study/ITSpatial/DMRAnalysis/AggLayerDMR/IT-L6/MotifScan.h5adtemp/MA0048.2.meme, N motif total=58628\n"
     ]
    },
    {
     "name": "stderr",
     "output_type": "stream",
     "text": [
      "/home/hanliu/miniconda3/envs/clustering/lib/python3.7/site-packages/ALLCools/dmr/fimo.py:60: FutureWarning: to_msgpack is deprecated and will be removed in a future version.\n",
      "It is recommended to use pyarrow for on-the-wire transmission of pandas objects.\n",
      "  final_df.to_msgpack(output_path, compress='zlib')\n"
     ]
    },
    {
     "name": "stdout",
     "output_type": "stream",
     "text": [
      "Finish count 400 motifs.\n"
     ]
    },
    {
     "name": "stdout",
     "output_type": "stream",
     "text": [
      "/home/hanliu/project/mouse_rostral_brain/study/ITSpatial/DMRAnalysis/AggLayerDMR/IT-L6/MotifScan.h5adtemp/MA1528.1.meme, N motif total=50122\n"
     ]
    },
    {
     "name": "stderr",
     "output_type": "stream",
     "text": [
      "/home/hanliu/miniconda3/envs/clustering/lib/python3.7/site-packages/ALLCools/dmr/fimo.py:60: FutureWarning: to_msgpack is deprecated and will be removed in a future version.\n",
      "It is recommended to use pyarrow for on-the-wire transmission of pandas objects.\n",
      "  final_df.to_msgpack(output_path, compress='zlib')\n"
     ]
    },
    {
     "name": "stdout",
     "output_type": "stream",
     "text": [
      "/home/hanliu/project/mouse_rostral_brain/study/ITSpatial/DMRAnalysis/AggLayerDMR/IT-L6/MotifScan.h5adtemp/MA0672.1.meme, N motif total=25141\n"
     ]
    },
    {
     "name": "stderr",
     "output_type": "stream",
     "text": [
      "/home/hanliu/miniconda3/envs/clustering/lib/python3.7/site-packages/ALLCools/dmr/fimo.py:60: FutureWarning: to_msgpack is deprecated and will be removed in a future version.\n",
      "It is recommended to use pyarrow for on-the-wire transmission of pandas objects.\n",
      "  final_df.to_msgpack(output_path, compress='zlib')\n"
     ]
    },
    {
     "name": "stdout",
     "output_type": "stream",
     "text": [
      "/home/hanliu/project/mouse_rostral_brain/study/ITSpatial/DMRAnalysis/AggLayerDMR/IT-L6/MotifScan.h5adtemp/MA0063.2.meme, N motif total=23157\n"
     ]
    },
    {
     "name": "stderr",
     "output_type": "stream",
     "text": [
      "/home/hanliu/miniconda3/envs/clustering/lib/python3.7/site-packages/ALLCools/dmr/fimo.py:60: FutureWarning: to_msgpack is deprecated and will be removed in a future version.\n",
      "It is recommended to use pyarrow for on-the-wire transmission of pandas objects.\n",
      "  final_df.to_msgpack(output_path, compress='zlib')\n"
     ]
    },
    {
     "name": "stdout",
     "output_type": "stream",
     "text": [
      "/home/hanliu/project/mouse_rostral_brain/study/ITSpatial/DMRAnalysis/AggLayerDMR/IT-L6/MotifScan.h5adtemp/MA1645.1.meme, N motif total=34688\n"
     ]
    },
    {
     "name": "stderr",
     "output_type": "stream",
     "text": [
      "/home/hanliu/miniconda3/envs/clustering/lib/python3.7/site-packages/ALLCools/dmr/fimo.py:60: FutureWarning: to_msgpack is deprecated and will be removed in a future version.\n",
      "It is recommended to use pyarrow for on-the-wire transmission of pandas objects.\n",
      "  final_df.to_msgpack(output_path, compress='zlib')\n"
     ]
    },
    {
     "name": "stdout",
     "output_type": "stream",
     "text": [
      "/home/hanliu/project/mouse_rostral_brain/study/ITSpatial/DMRAnalysis/AggLayerDMR/IT-L6/MotifScan.h5adtemp/MA0675.1.meme, N motif total=13102\n"
     ]
    },
    {
     "name": "stderr",
     "output_type": "stream",
     "text": [
      "/home/hanliu/miniconda3/envs/clustering/lib/python3.7/site-packages/ALLCools/dmr/fimo.py:60: FutureWarning: to_msgpack is deprecated and will be removed in a future version.\n",
      "It is recommended to use pyarrow for on-the-wire transmission of pandas objects.\n",
      "  final_df.to_msgpack(output_path, compress='zlib')\n"
     ]
    },
    {
     "name": "stdout",
     "output_type": "stream",
     "text": [
      "/home/hanliu/project/mouse_rostral_brain/study/ITSpatial/DMRAnalysis/AggLayerDMR/IT-L6/MotifScan.h5adtemp/MA0674.1.meme, N motif total=13171\n"
     ]
    },
    {
     "name": "stderr",
     "output_type": "stream",
     "text": [
      "/home/hanliu/miniconda3/envs/clustering/lib/python3.7/site-packages/ALLCools/dmr/fimo.py:60: FutureWarning: to_msgpack is deprecated and will be removed in a future version.\n",
      "It is recommended to use pyarrow for on-the-wire transmission of pandas objects.\n",
      "  final_df.to_msgpack(output_path, compress='zlib')\n"
     ]
    },
    {
     "name": "stdout",
     "output_type": "stream",
     "text": [
      "/home/hanliu/project/mouse_rostral_brain/study/ITSpatial/DMRAnalysis/AggLayerDMR/IT-L6/MotifScan.h5adtemp/MA1529.1.meme, N motif total=45808\n"
     ]
    },
    {
     "name": "stderr",
     "output_type": "stream",
     "text": [
      "/home/hanliu/miniconda3/envs/clustering/lib/python3.7/site-packages/ALLCools/dmr/fimo.py:60: FutureWarning: to_msgpack is deprecated and will be removed in a future version.\n",
      "It is recommended to use pyarrow for on-the-wire transmission of pandas objects.\n",
      "  final_df.to_msgpack(output_path, compress='zlib')\n"
     ]
    },
    {
     "name": "stdout",
     "output_type": "stream",
     "text": [
      "/home/hanliu/project/mouse_rostral_brain/study/ITSpatial/DMRAnalysis/AggLayerDMR/IT-L6/MotifScan.h5adtemp/MA0125.1.meme, N motif total=9061\n"
     ]
    },
    {
     "name": "stderr",
     "output_type": "stream",
     "text": [
      "/home/hanliu/miniconda3/envs/clustering/lib/python3.7/site-packages/ALLCools/dmr/fimo.py:60: FutureWarning: to_msgpack is deprecated and will be removed in a future version.\n",
      "It is recommended to use pyarrow for on-the-wire transmission of pandas objects.\n",
      "  final_df.to_msgpack(output_path, compress='zlib')\n"
     ]
    },
    {
     "name": "stdout",
     "output_type": "stream",
     "text": [
      "/home/hanliu/project/mouse_rostral_brain/study/ITSpatial/DMRAnalysis/AggLayerDMR/IT-L6/MotifScan.h5adtemp/MA0124.2.meme, N motif total=18393\n"
     ]
    },
    {
     "name": "stderr",
     "output_type": "stream",
     "text": [
      "/home/hanliu/miniconda3/envs/clustering/lib/python3.7/site-packages/ALLCools/dmr/fimo.py:60: FutureWarning: to_msgpack is deprecated and will be removed in a future version.\n",
      "It is recommended to use pyarrow for on-the-wire transmission of pandas objects.\n",
      "  final_df.to_msgpack(output_path, compress='zlib')\n"
     ]
    },
    {
     "name": "stdout",
     "output_type": "stream",
     "text": [
      "/home/hanliu/project/mouse_rostral_brain/study/ITSpatial/DMRAnalysis/AggLayerDMR/IT-L6/MotifScan.h5adtemp/MA0673.1.meme, N motif total=22917\n"
     ]
    },
    {
     "name": "stderr",
     "output_type": "stream",
     "text": [
      "/home/hanliu/miniconda3/envs/clustering/lib/python3.7/site-packages/ALLCools/dmr/fimo.py:60: FutureWarning: to_msgpack is deprecated and will be removed in a future version.\n",
      "It is recommended to use pyarrow for on-the-wire transmission of pandas objects.\n",
      "  final_df.to_msgpack(output_path, compress='zlib')\n"
     ]
    },
    {
     "name": "stdout",
     "output_type": "stream",
     "text": [
      "/home/hanliu/project/mouse_rostral_brain/study/ITSpatial/DMRAnalysis/AggLayerDMR/IT-L6/MotifScan.h5adtemp/MA1530.1.meme, N motif total=12847\n"
     ]
    },
    {
     "name": "stderr",
     "output_type": "stream",
     "text": [
      "/home/hanliu/miniconda3/envs/clustering/lib/python3.7/site-packages/ALLCools/dmr/fimo.py:60: FutureWarning: to_msgpack is deprecated and will be removed in a future version.\n",
      "It is recommended to use pyarrow for on-the-wire transmission of pandas objects.\n",
      "  final_df.to_msgpack(output_path, compress='zlib')\n"
     ]
    },
    {
     "name": "stdout",
     "output_type": "stream",
     "text": [
      "/home/hanliu/project/mouse_rostral_brain/study/ITSpatial/DMRAnalysis/AggLayerDMR/IT-L6/MotifScan.h5adtemp/MA0710.1.meme, N motif total=10541\n"
     ]
    },
    {
     "name": "stderr",
     "output_type": "stream",
     "text": [
      "/home/hanliu/miniconda3/envs/clustering/lib/python3.7/site-packages/ALLCools/dmr/fimo.py:60: FutureWarning: to_msgpack is deprecated and will be removed in a future version.\n",
      "It is recommended to use pyarrow for on-the-wire transmission of pandas objects.\n",
      "  final_df.to_msgpack(output_path, compress='zlib')\n"
     ]
    },
    {
     "name": "stdout",
     "output_type": "stream",
     "text": [
      "/home/hanliu/project/mouse_rostral_brain/study/ITSpatial/DMRAnalysis/AggLayerDMR/IT-L6/MotifScan.h5adtemp/MA0626.1.meme, N motif total=19900\n"
     ]
    },
    {
     "name": "stderr",
     "output_type": "stream",
     "text": [
      "/home/hanliu/miniconda3/envs/clustering/lib/python3.7/site-packages/ALLCools/dmr/fimo.py:60: FutureWarning: to_msgpack is deprecated and will be removed in a future version.\n",
      "It is recommended to use pyarrow for on-the-wire transmission of pandas objects.\n",
      "  final_df.to_msgpack(output_path, compress='zlib')\n"
     ]
    },
    {
     "name": "stdout",
     "output_type": "stream",
     "text": [
      "/home/hanliu/project/mouse_rostral_brain/study/ITSpatial/DMRAnalysis/AggLayerDMR/IT-L6/MotifScan.h5adtemp/MA0503.1.meme, N motif total=40157\n"
     ]
    },
    {
     "name": "stderr",
     "output_type": "stream",
     "text": [
      "/home/hanliu/miniconda3/envs/clustering/lib/python3.7/site-packages/ALLCools/dmr/fimo.py:60: FutureWarning: to_msgpack is deprecated and will be removed in a future version.\n",
      "It is recommended to use pyarrow for on-the-wire transmission of pandas objects.\n",
      "  final_df.to_msgpack(output_path, compress='zlib')\n"
     ]
    },
    {
     "name": "stdout",
     "output_type": "stream",
     "text": [
      "/home/hanliu/project/mouse_rostral_brain/study/ITSpatial/DMRAnalysis/AggLayerDMR/IT-L6/MotifScan.h5adtemp/MA0122.3.meme, N motif total=19957\n"
     ]
    },
    {
     "name": "stderr",
     "output_type": "stream",
     "text": [
      "/home/hanliu/miniconda3/envs/clustering/lib/python3.7/site-packages/ALLCools/dmr/fimo.py:60: FutureWarning: to_msgpack is deprecated and will be removed in a future version.\n",
      "It is recommended to use pyarrow for on-the-wire transmission of pandas objects.\n",
      "  final_df.to_msgpack(output_path, compress='zlib')\n"
     ]
    },
    {
     "name": "stdout",
     "output_type": "stream",
     "text": [
      "/home/hanliu/project/mouse_rostral_brain/study/ITSpatial/DMRAnalysis/AggLayerDMR/IT-L6/MotifScan.h5adtemp/MA0164.1.meme, N motif total=18799\n"
     ]
    },
    {
     "name": "stderr",
     "output_type": "stream",
     "text": [
      "/home/hanliu/miniconda3/envs/clustering/lib/python3.7/site-packages/ALLCools/dmr/fimo.py:60: FutureWarning: to_msgpack is deprecated and will be removed in a future version.\n",
      "It is recommended to use pyarrow for on-the-wire transmission of pandas objects.\n",
      "  final_df.to_msgpack(output_path, compress='zlib')\n"
     ]
    },
    {
     "name": "stdout",
     "output_type": "stream",
     "text": [
      "/home/hanliu/project/mouse_rostral_brain/study/ITSpatial/DMRAnalysis/AggLayerDMR/IT-L6/MotifScan.h5adtemp/MA1110.1.meme, N motif total=17925\n"
     ]
    },
    {
     "name": "stderr",
     "output_type": "stream",
     "text": [
      "/home/hanliu/miniconda3/envs/clustering/lib/python3.7/site-packages/ALLCools/dmr/fimo.py:60: FutureWarning: to_msgpack is deprecated and will be removed in a future version.\n",
      "It is recommended to use pyarrow for on-the-wire transmission of pandas objects.\n",
      "  final_df.to_msgpack(output_path, compress='zlib')\n"
     ]
    },
    {
     "name": "stdout",
     "output_type": "stream",
     "text": [
      "/home/hanliu/project/mouse_rostral_brain/study/ITSpatial/DMRAnalysis/AggLayerDMR/IT-L6/MotifScan.h5adtemp/MA1534.1.meme, N motif total=21875\n"
     ]
    },
    {
     "name": "stderr",
     "output_type": "stream",
     "text": [
      "/home/hanliu/miniconda3/envs/clustering/lib/python3.7/site-packages/ALLCools/dmr/fimo.py:60: FutureWarning: to_msgpack is deprecated and will be removed in a future version.\n",
      "It is recommended to use pyarrow for on-the-wire transmission of pandas objects.\n",
      "  final_df.to_msgpack(output_path, compress='zlib')\n"
     ]
    },
    {
     "name": "stdout",
     "output_type": "stream",
     "text": [
      "/home/hanliu/project/mouse_rostral_brain/study/ITSpatial/DMRAnalysis/AggLayerDMR/IT-L6/MotifScan.h5adtemp/MA1532.1.meme, N motif total=24303\n"
     ]
    },
    {
     "name": "stderr",
     "output_type": "stream",
     "text": [
      "/home/hanliu/miniconda3/envs/clustering/lib/python3.7/site-packages/ALLCools/dmr/fimo.py:60: FutureWarning: to_msgpack is deprecated and will be removed in a future version.\n",
      "It is recommended to use pyarrow for on-the-wire transmission of pandas objects.\n",
      "  final_df.to_msgpack(output_path, compress='zlib')\n"
     ]
    },
    {
     "name": "stdout",
     "output_type": "stream",
     "text": [
      "/home/hanliu/project/mouse_rostral_brain/study/ITSpatial/DMRAnalysis/AggLayerDMR/IT-L6/MotifScan.h5adtemp/MA1536.1.meme, N motif total=16077\n"
     ]
    },
    {
     "name": "stderr",
     "output_type": "stream",
     "text": [
      "/home/hanliu/miniconda3/envs/clustering/lib/python3.7/site-packages/ALLCools/dmr/fimo.py:60: FutureWarning: to_msgpack is deprecated and will be removed in a future version.\n",
      "It is recommended to use pyarrow for on-the-wire transmission of pandas objects.\n",
      "  final_df.to_msgpack(output_path, compress='zlib')\n"
     ]
    },
    {
     "name": "stdout",
     "output_type": "stream",
     "text": [
      "/home/hanliu/project/mouse_rostral_brain/study/ITSpatial/DMRAnalysis/AggLayerDMR/IT-L6/MotifScan.h5adtemp/MA1531.1.meme, N motif total=17824\n"
     ]
    },
    {
     "name": "stderr",
     "output_type": "stream",
     "text": [
      "/home/hanliu/miniconda3/envs/clustering/lib/python3.7/site-packages/ALLCools/dmr/fimo.py:60: FutureWarning: to_msgpack is deprecated and will be removed in a future version.\n",
      "It is recommended to use pyarrow for on-the-wire transmission of pandas objects.\n",
      "  final_df.to_msgpack(output_path, compress='zlib')\n"
     ]
    },
    {
     "name": "stdout",
     "output_type": "stream",
     "text": [
      "/home/hanliu/project/mouse_rostral_brain/study/ITSpatial/DMRAnalysis/AggLayerDMR/IT-L6/MotifScan.h5adtemp/MA0676.1.meme, N motif total=28602\n"
     ]
    },
    {
     "name": "stderr",
     "output_type": "stream",
     "text": [
      "/home/hanliu/miniconda3/envs/clustering/lib/python3.7/site-packages/ALLCools/dmr/fimo.py:60: FutureWarning: to_msgpack is deprecated and will be removed in a future version.\n",
      "It is recommended to use pyarrow for on-the-wire transmission of pandas objects.\n",
      "  final_df.to_msgpack(output_path, compress='zlib')\n"
     ]
    },
    {
     "name": "stdout",
     "output_type": "stream",
     "text": [
      "/home/hanliu/project/mouse_rostral_brain/study/ITSpatial/DMRAnalysis/AggLayerDMR/IT-L6/MotifScan.h5adtemp/MA1535.1.meme, N motif total=26152\n"
     ]
    },
    {
     "name": "stderr",
     "output_type": "stream",
     "text": [
      "/home/hanliu/miniconda3/envs/clustering/lib/python3.7/site-packages/ALLCools/dmr/fimo.py:60: FutureWarning: to_msgpack is deprecated and will be removed in a future version.\n",
      "It is recommended to use pyarrow for on-the-wire transmission of pandas objects.\n",
      "  final_df.to_msgpack(output_path, compress='zlib')\n"
     ]
    },
    {
     "name": "stdout",
     "output_type": "stream",
     "text": [
      "/home/hanliu/project/mouse_rostral_brain/study/ITSpatial/DMRAnalysis/AggLayerDMR/IT-L6/MotifScan.h5adtemp/MA1146.1.meme, N motif total=15933\n"
     ]
    },
    {
     "name": "stderr",
     "output_type": "stream",
     "text": [
      "/home/hanliu/miniconda3/envs/clustering/lib/python3.7/site-packages/ALLCools/dmr/fimo.py:60: FutureWarning: to_msgpack is deprecated and will be removed in a future version.\n",
      "It is recommended to use pyarrow for on-the-wire transmission of pandas objects.\n",
      "  final_df.to_msgpack(output_path, compress='zlib')\n"
     ]
    },
    {
     "name": "stdout",
     "output_type": "stream",
     "text": [
      "/home/hanliu/project/mouse_rostral_brain/study/ITSpatial/DMRAnalysis/AggLayerDMR/IT-L6/MotifScan.h5adtemp/MA0115.1.meme, N motif total=1602\n"
     ]
    },
    {
     "name": "stderr",
     "output_type": "stream",
     "text": [
      "/home/hanliu/miniconda3/envs/clustering/lib/python3.7/site-packages/ALLCools/dmr/fimo.py:60: FutureWarning: to_msgpack is deprecated and will be removed in a future version.\n",
      "It is recommended to use pyarrow for on-the-wire transmission of pandas objects.\n",
      "  final_df.to_msgpack(output_path, compress='zlib')\n"
     ]
    },
    {
     "name": "stdout",
     "output_type": "stream",
     "text": [
      "/home/hanliu/project/mouse_rostral_brain/study/ITSpatial/DMRAnalysis/AggLayerDMR/IT-L6/MotifScan.h5adtemp/MA0494.1.meme, N motif total=25456\n"
     ]
    },
    {
     "name": "stderr",
     "output_type": "stream",
     "text": [
      "/home/hanliu/miniconda3/envs/clustering/lib/python3.7/site-packages/ALLCools/dmr/fimo.py:60: FutureWarning: to_msgpack is deprecated and will be removed in a future version.\n",
      "It is recommended to use pyarrow for on-the-wire transmission of pandas objects.\n",
      "  final_df.to_msgpack(output_path, compress='zlib')\n"
     ]
    },
    {
     "name": "stdout",
     "output_type": "stream",
     "text": [
      "/home/hanliu/project/mouse_rostral_brain/study/ITSpatial/DMRAnalysis/AggLayerDMR/IT-L6/MotifScan.h5adtemp/MA1533.1.meme, N motif total=15236\n"
     ]
    },
    {
     "name": "stderr",
     "output_type": "stream",
     "text": [
      "/home/hanliu/miniconda3/envs/clustering/lib/python3.7/site-packages/ALLCools/dmr/fimo.py:60: FutureWarning: to_msgpack is deprecated and will be removed in a future version.\n",
      "It is recommended to use pyarrow for on-the-wire transmission of pandas objects.\n",
      "  final_df.to_msgpack(output_path, compress='zlib')\n"
     ]
    },
    {
     "name": "stdout",
     "output_type": "stream",
     "text": [
      "/home/hanliu/project/mouse_rostral_brain/study/ITSpatial/DMRAnalysis/AggLayerDMR/IT-L6/MotifScan.h5adtemp/MA0504.1.meme, N motif total=51884\n"
     ]
    },
    {
     "name": "stderr",
     "output_type": "stream",
     "text": [
      "/home/hanliu/miniconda3/envs/clustering/lib/python3.7/site-packages/ALLCools/dmr/fimo.py:60: FutureWarning: to_msgpack is deprecated and will be removed in a future version.\n",
      "It is recommended to use pyarrow for on-the-wire transmission of pandas objects.\n",
      "  final_df.to_msgpack(output_path, compress='zlib')\n"
     ]
    },
    {
     "name": "stdout",
     "output_type": "stream",
     "text": [
      "/home/hanliu/project/mouse_rostral_brain/study/ITSpatial/DMRAnalysis/AggLayerDMR/IT-L6/MotifScan.h5adtemp/MA0017.2.meme, N motif total=29866\n"
     ]
    },
    {
     "name": "stderr",
     "output_type": "stream",
     "text": [
      "/home/hanliu/miniconda3/envs/clustering/lib/python3.7/site-packages/ALLCools/dmr/fimo.py:60: FutureWarning: to_msgpack is deprecated and will be removed in a future version.\n",
      "It is recommended to use pyarrow for on-the-wire transmission of pandas objects.\n",
      "  final_df.to_msgpack(output_path, compress='zlib')\n"
     ]
    },
    {
     "name": "stdout",
     "output_type": "stream",
     "text": [
      "/home/hanliu/project/mouse_rostral_brain/study/ITSpatial/DMRAnalysis/AggLayerDMR/IT-L6/MotifScan.h5adtemp/MA1111.1.meme, N motif total=28380\n"
     ]
    },
    {
     "name": "stderr",
     "output_type": "stream",
     "text": [
      "/home/hanliu/miniconda3/envs/clustering/lib/python3.7/site-packages/ALLCools/dmr/fimo.py:60: FutureWarning: to_msgpack is deprecated and will be removed in a future version.\n",
      "It is recommended to use pyarrow for on-the-wire transmission of pandas objects.\n",
      "  final_df.to_msgpack(output_path, compress='zlib')\n"
     ]
    },
    {
     "name": "stdout",
     "output_type": "stream",
     "text": [
      "/home/hanliu/project/mouse_rostral_brain/study/ITSpatial/DMRAnalysis/AggLayerDMR/IT-L6/MotifScan.h5adtemp/MA1537.1.meme, N motif total=21578\n"
     ]
    },
    {
     "name": "stderr",
     "output_type": "stream",
     "text": [
      "/home/hanliu/miniconda3/envs/clustering/lib/python3.7/site-packages/ALLCools/dmr/fimo.py:60: FutureWarning: to_msgpack is deprecated and will be removed in a future version.\n",
      "It is recommended to use pyarrow for on-the-wire transmission of pandas objects.\n",
      "  final_df.to_msgpack(output_path, compress='zlib')\n"
     ]
    },
    {
     "name": "stdout",
     "output_type": "stream",
     "text": [
      "/home/hanliu/project/mouse_rostral_brain/study/ITSpatial/DMRAnalysis/AggLayerDMR/IT-L6/MotifScan.h5adtemp/MA0160.1.meme, N motif total=27426\n"
     ]
    },
    {
     "name": "stderr",
     "output_type": "stream",
     "text": [
      "/home/hanliu/miniconda3/envs/clustering/lib/python3.7/site-packages/ALLCools/dmr/fimo.py:60: FutureWarning: to_msgpack is deprecated and will be removed in a future version.\n",
      "It is recommended to use pyarrow for on-the-wire transmission of pandas objects.\n",
      "  final_df.to_msgpack(output_path, compress='zlib')\n"
     ]
    },
    {
     "name": "stdout",
     "output_type": "stream",
     "text": [
      "/home/hanliu/project/mouse_rostral_brain/study/ITSpatial/DMRAnalysis/AggLayerDMR/IT-L6/MotifScan.h5adtemp/MA1538.1.meme, N motif total=17962\n"
     ]
    },
    {
     "name": "stderr",
     "output_type": "stream",
     "text": [
      "/home/hanliu/miniconda3/envs/clustering/lib/python3.7/site-packages/ALLCools/dmr/fimo.py:60: FutureWarning: to_msgpack is deprecated and will be removed in a future version.\n",
      "It is recommended to use pyarrow for on-the-wire transmission of pandas objects.\n",
      "  final_df.to_msgpack(output_path, compress='zlib')\n"
     ]
    },
    {
     "name": "stdout",
     "output_type": "stream",
     "text": [
      "/home/hanliu/project/mouse_rostral_brain/study/ITSpatial/DMRAnalysis/AggLayerDMR/IT-L6/MotifScan.h5adtemp/MA0677.1.meme, N motif total=30199\n"
     ]
    },
    {
     "name": "stderr",
     "output_type": "stream",
     "text": [
      "/home/hanliu/miniconda3/envs/clustering/lib/python3.7/site-packages/ALLCools/dmr/fimo.py:60: FutureWarning: to_msgpack is deprecated and will be removed in a future version.\n",
      "It is recommended to use pyarrow for on-the-wire transmission of pandas objects.\n",
      "  final_df.to_msgpack(output_path, compress='zlib')\n"
     ]
    },
    {
     "name": "stdout",
     "output_type": "stream",
     "text": [
      "/home/hanliu/project/mouse_rostral_brain/study/ITSpatial/DMRAnalysis/AggLayerDMR/IT-L6/MotifScan.h5adtemp/MA1112.2.meme, N motif total=41805\n"
     ]
    },
    {
     "name": "stderr",
     "output_type": "stream",
     "text": [
      "/home/hanliu/miniconda3/envs/clustering/lib/python3.7/site-packages/ALLCools/dmr/fimo.py:60: FutureWarning: to_msgpack is deprecated and will be removed in a future version.\n",
      "It is recommended to use pyarrow for on-the-wire transmission of pandas objects.\n",
      "  final_df.to_msgpack(output_path, compress='zlib')\n"
     ]
    },
    {
     "name": "stdout",
     "output_type": "stream",
     "text": [
      "/home/hanliu/project/mouse_rostral_brain/study/ITSpatial/DMRAnalysis/AggLayerDMR/IT-L6/MotifScan.h5adtemp/MA1539.1.meme, N motif total=11236\n"
     ]
    },
    {
     "name": "stderr",
     "output_type": "stream",
     "text": [
      "/home/hanliu/miniconda3/envs/clustering/lib/python3.7/site-packages/ALLCools/dmr/fimo.py:60: FutureWarning: to_msgpack is deprecated and will be removed in a future version.\n",
      "It is recommended to use pyarrow for on-the-wire transmission of pandas objects.\n",
      "  final_df.to_msgpack(output_path, compress='zlib')\n"
     ]
    },
    {
     "name": "stdout",
     "output_type": "stream",
     "text": [
      "/home/hanliu/project/mouse_rostral_brain/study/ITSpatial/DMRAnalysis/AggLayerDMR/IT-L6/MotifScan.h5adtemp/MA0728.1.meme, N motif total=3535\n"
     ]
    },
    {
     "name": "stderr",
     "output_type": "stream",
     "text": [
      "/home/hanliu/miniconda3/envs/clustering/lib/python3.7/site-packages/ALLCools/dmr/fimo.py:60: FutureWarning: to_msgpack is deprecated and will be removed in a future version.\n",
      "It is recommended to use pyarrow for on-the-wire transmission of pandas objects.\n",
      "  final_df.to_msgpack(output_path, compress='zlib')\n"
     ]
    },
    {
     "name": "stdout",
     "output_type": "stream",
     "text": [
      "/home/hanliu/project/mouse_rostral_brain/study/ITSpatial/DMRAnalysis/AggLayerDMR/IT-L6/MotifScan.h5adtemp/MA1540.1.meme, N motif total=31598\n"
     ]
    },
    {
     "name": "stderr",
     "output_type": "stream",
     "text": [
      "/home/hanliu/miniconda3/envs/clustering/lib/python3.7/site-packages/ALLCools/dmr/fimo.py:60: FutureWarning: to_msgpack is deprecated and will be removed in a future version.\n",
      "It is recommended to use pyarrow for on-the-wire transmission of pandas objects.\n",
      "  final_df.to_msgpack(output_path, compress='zlib')\n"
     ]
    },
    {
     "name": "stdout",
     "output_type": "stream",
     "text": [
      "/home/hanliu/project/mouse_rostral_brain/study/ITSpatial/DMRAnalysis/AggLayerDMR/IT-L6/MotifScan.h5adtemp/MA1147.1.meme, N motif total=14577\n"
     ]
    },
    {
     "name": "stderr",
     "output_type": "stream",
     "text": [
      "/home/hanliu/miniconda3/envs/clustering/lib/python3.7/site-packages/ALLCools/dmr/fimo.py:60: FutureWarning: to_msgpack is deprecated and will be removed in a future version.\n",
      "It is recommended to use pyarrow for on-the-wire transmission of pandas objects.\n",
      "  final_df.to_msgpack(output_path, compress='zlib')\n"
     ]
    },
    {
     "name": "stdout",
     "output_type": "stream",
     "text": [
      "/home/hanliu/project/mouse_rostral_brain/study/ITSpatial/DMRAnalysis/AggLayerDMR/IT-L6/MotifScan.h5adtemp/MA0113.3.meme, N motif total=13383\n"
     ]
    },
    {
     "name": "stderr",
     "output_type": "stream",
     "text": [
      "/home/hanliu/miniconda3/envs/clustering/lib/python3.7/site-packages/ALLCools/dmr/fimo.py:60: FutureWarning: to_msgpack is deprecated and will be removed in a future version.\n",
      "It is recommended to use pyarrow for on-the-wire transmission of pandas objects.\n",
      "  final_df.to_msgpack(output_path, compress='zlib')\n"
     ]
    },
    {
     "name": "stdout",
     "output_type": "stream",
     "text": [
      "/home/hanliu/project/mouse_rostral_brain/study/ITSpatial/DMRAnalysis/AggLayerDMR/IT-L6/MotifScan.h5adtemp/MA0727.1.meme, N motif total=12622\n"
     ]
    },
    {
     "name": "stderr",
     "output_type": "stream",
     "text": [
      "/home/hanliu/miniconda3/envs/clustering/lib/python3.7/site-packages/ALLCools/dmr/fimo.py:60: FutureWarning: to_msgpack is deprecated and will be removed in a future version.\n",
      "It is recommended to use pyarrow for on-the-wire transmission of pandas objects.\n",
      "  final_df.to_msgpack(output_path, compress='zlib')\n"
     ]
    },
    {
     "name": "stdout",
     "output_type": "stream",
     "text": [
      "/home/hanliu/project/mouse_rostral_brain/study/ITSpatial/DMRAnalysis/AggLayerDMR/IT-L6/MotifScan.h5adtemp/MA0678.1.meme, N motif total=25538\n"
     ]
    },
    {
     "name": "stderr",
     "output_type": "stream",
     "text": [
      "/home/hanliu/miniconda3/envs/clustering/lib/python3.7/site-packages/ALLCools/dmr/fimo.py:60: FutureWarning: to_msgpack is deprecated and will be removed in a future version.\n",
      "It is recommended to use pyarrow for on-the-wire transmission of pandas objects.\n",
      "  final_df.to_msgpack(output_path, compress='zlib')\n"
     ]
    },
    {
     "name": "stdout",
     "output_type": "stream",
     "text": [
      "/home/hanliu/project/mouse_rostral_brain/study/ITSpatial/DMRAnalysis/AggLayerDMR/IT-L6/MotifScan.h5adtemp/MA0506.1.meme, N motif total=14817\n"
     ]
    },
    {
     "name": "stderr",
     "output_type": "stream",
     "text": [
      "/home/hanliu/miniconda3/envs/clustering/lib/python3.7/site-packages/ALLCools/dmr/fimo.py:60: FutureWarning: to_msgpack is deprecated and will be removed in a future version.\n",
      "It is recommended to use pyarrow for on-the-wire transmission of pandas objects.\n",
      "  final_df.to_msgpack(output_path, compress='zlib')\n"
     ]
    },
    {
     "name": "stdout",
     "output_type": "stream",
     "text": [
      "/home/hanliu/project/mouse_rostral_brain/study/ITSpatial/DMRAnalysis/AggLayerDMR/IT-L6/MotifScan.h5adtemp/MA0827.1.meme, N motif total=27124\n"
     ]
    },
    {
     "name": "stderr",
     "output_type": "stream",
     "text": [
      "/home/hanliu/miniconda3/envs/clustering/lib/python3.7/site-packages/ALLCools/dmr/fimo.py:60: FutureWarning: to_msgpack is deprecated and will be removed in a future version.\n",
      "It is recommended to use pyarrow for on-the-wire transmission of pandas objects.\n",
      "  final_df.to_msgpack(output_path, compress='zlib')\n"
     ]
    },
    {
     "name": "stdout",
     "output_type": "stream",
     "text": [
      "/home/hanliu/project/mouse_rostral_brain/study/ITSpatial/DMRAnalysis/AggLayerDMR/IT-L6/MotifScan.h5adtemp/MA0826.1.meme, N motif total=27106\n"
     ]
    },
    {
     "name": "stderr",
     "output_type": "stream",
     "text": [
      "/home/hanliu/miniconda3/envs/clustering/lib/python3.7/site-packages/ALLCools/dmr/fimo.py:60: FutureWarning: to_msgpack is deprecated and will be removed in a future version.\n",
      "It is recommended to use pyarrow for on-the-wire transmission of pandas objects.\n",
      "  final_df.to_msgpack(output_path, compress='zlib')\n"
     ]
    },
    {
     "name": "stdout",
     "output_type": "stream",
     "text": [
      "/home/hanliu/project/mouse_rostral_brain/study/ITSpatial/DMRAnalysis/AggLayerDMR/IT-L6/MotifScan.h5adtemp/MA0711.1.meme, N motif total=10629\n"
     ]
    },
    {
     "name": "stderr",
     "output_type": "stream",
     "text": [
      "/home/hanliu/miniconda3/envs/clustering/lib/python3.7/site-packages/ALLCools/dmr/fimo.py:60: FutureWarning: to_msgpack is deprecated and will be removed in a future version.\n",
      "It is recommended to use pyarrow for on-the-wire transmission of pandas objects.\n",
      "  final_df.to_msgpack(output_path, compress='zlib')\n"
     ]
    },
    {
     "name": "stdout",
     "output_type": "stream",
     "text": [
      "/home/hanliu/project/mouse_rostral_brain/study/ITSpatial/DMRAnalysis/AggLayerDMR/IT-L6/MotifScan.h5adtemp/MA0505.1.meme, N motif total=48108\n"
     ]
    },
    {
     "name": "stderr",
     "output_type": "stream",
     "text": [
      "/home/hanliu/miniconda3/envs/clustering/lib/python3.7/site-packages/ALLCools/dmr/fimo.py:60: FutureWarning: to_msgpack is deprecated and will be removed in a future version.\n",
      "It is recommended to use pyarrow for on-the-wire transmission of pandas objects.\n",
      "  final_df.to_msgpack(output_path, compress='zlib')\n"
     ]
    },
    {
     "name": "stdout",
     "output_type": "stream",
     "text": [
      "/home/hanliu/project/mouse_rostral_brain/study/ITSpatial/DMRAnalysis/AggLayerDMR/IT-L6/MotifScan.h5adtemp/MA1542.1.meme, N motif total=19852\n"
     ]
    },
    {
     "name": "stderr",
     "output_type": "stream",
     "text": [
      "/home/hanliu/miniconda3/envs/clustering/lib/python3.7/site-packages/ALLCools/dmr/fimo.py:60: FutureWarning: to_msgpack is deprecated and will be removed in a future version.\n",
      "It is recommended to use pyarrow for on-the-wire transmission of pandas objects.\n",
      "  final_df.to_msgpack(output_path, compress='zlib')\n"
     ]
    },
    {
     "name": "stdout",
     "output_type": "stream",
     "text": [
      "/home/hanliu/project/mouse_rostral_brain/study/ITSpatial/DMRAnalysis/AggLayerDMR/IT-L6/MotifScan.h5adtemp/MA1541.1.meme, N motif total=29578\n"
     ]
    },
    {
     "name": "stderr",
     "output_type": "stream",
     "text": [
      "/home/hanliu/miniconda3/envs/clustering/lib/python3.7/site-packages/ALLCools/dmr/fimo.py:60: FutureWarning: to_msgpack is deprecated and will be removed in a future version.\n",
      "It is recommended to use pyarrow for on-the-wire transmission of pandas objects.\n",
      "  final_df.to_msgpack(output_path, compress='zlib')\n"
     ]
    },
    {
     "name": "stdout",
     "output_type": "stream",
     "text": [
      "/home/hanliu/project/mouse_rostral_brain/study/ITSpatial/DMRAnalysis/AggLayerDMR/IT-L6/MotifScan.h5adtemp/MA0842.2.meme, N motif total=24302\n"
     ]
    },
    {
     "name": "stderr",
     "output_type": "stream",
     "text": [
      "/home/hanliu/miniconda3/envs/clustering/lib/python3.7/site-packages/ALLCools/dmr/fimo.py:60: FutureWarning: to_msgpack is deprecated and will be removed in a future version.\n",
      "It is recommended to use pyarrow for on-the-wire transmission of pandas objects.\n",
      "  final_df.to_msgpack(output_path, compress='zlib')\n"
     ]
    },
    {
     "name": "stdout",
     "output_type": "stream",
     "text": [
      "/home/hanliu/project/mouse_rostral_brain/study/ITSpatial/DMRAnalysis/AggLayerDMR/IT-L6/MotifScan.h5adtemp/MA0067.1.meme, N motif total=6999\n"
     ]
    },
    {
     "name": "stderr",
     "output_type": "stream",
     "text": [
      "/home/hanliu/miniconda3/envs/clustering/lib/python3.7/site-packages/ALLCools/dmr/fimo.py:60: FutureWarning: to_msgpack is deprecated and will be removed in a future version.\n",
      "It is recommended to use pyarrow for on-the-wire transmission of pandas objects.\n",
      "  final_df.to_msgpack(output_path, compress='zlib')\n"
     ]
    },
    {
     "name": "stdout",
     "output_type": "stream",
     "text": [
      "/home/hanliu/project/mouse_rostral_brain/study/ITSpatial/DMRAnalysis/AggLayerDMR/IT-L6/MotifScan.h5adtemp/MA0068.2.meme, N motif total=8016\n"
     ]
    },
    {
     "name": "stderr",
     "output_type": "stream",
     "text": [
      "/home/hanliu/miniconda3/envs/clustering/lib/python3.7/site-packages/ALLCools/dmr/fimo.py:60: FutureWarning: to_msgpack is deprecated and will be removed in a future version.\n",
      "It is recommended to use pyarrow for on-the-wire transmission of pandas objects.\n",
      "  final_df.to_msgpack(output_path, compress='zlib')\n"
     ]
    },
    {
     "name": "stdout",
     "output_type": "stream",
     "text": [
      "/home/hanliu/project/mouse_rostral_brain/study/ITSpatial/DMRAnalysis/AggLayerDMR/IT-L6/MotifScan.h5adtemp/MA1646.1.meme, N motif total=58598\n"
     ]
    },
    {
     "name": "stderr",
     "output_type": "stream",
     "text": [
      "/home/hanliu/miniconda3/envs/clustering/lib/python3.7/site-packages/ALLCools/dmr/fimo.py:60: FutureWarning: to_msgpack is deprecated and will be removed in a future version.\n",
      "It is recommended to use pyarrow for on-the-wire transmission of pandas objects.\n",
      "  final_df.to_msgpack(output_path, compress='zlib')\n"
     ]
    },
    {
     "name": "stdout",
     "output_type": "stream",
     "text": [
      "/home/hanliu/project/mouse_rostral_brain/study/ITSpatial/DMRAnalysis/AggLayerDMR/IT-L6/MotifScan.h5adtemp/MA0679.2.meme, N motif total=34762\n"
     ]
    },
    {
     "name": "stderr",
     "output_type": "stream",
     "text": [
      "/home/hanliu/miniconda3/envs/clustering/lib/python3.7/site-packages/ALLCools/dmr/fimo.py:60: FutureWarning: to_msgpack is deprecated and will be removed in a future version.\n",
      "It is recommended to use pyarrow for on-the-wire transmission of pandas objects.\n",
      "  final_df.to_msgpack(output_path, compress='zlib')\n"
     ]
    },
    {
     "name": "stdout",
     "output_type": "stream",
     "text": [
      "/home/hanliu/project/mouse_rostral_brain/study/ITSpatial/DMRAnalysis/AggLayerDMR/IT-L6/MotifScan.h5adtemp/MA0757.1.meme, N motif total=26454\n"
     ]
    },
    {
     "name": "stderr",
     "output_type": "stream",
     "text": [
      "/home/hanliu/miniconda3/envs/clustering/lib/python3.7/site-packages/ALLCools/dmr/fimo.py:60: FutureWarning: to_msgpack is deprecated and will be removed in a future version.\n",
      "It is recommended to use pyarrow for on-the-wire transmission of pandas objects.\n",
      "  final_df.to_msgpack(output_path, compress='zlib')\n"
     ]
    },
    {
     "name": "stdout",
     "output_type": "stream",
     "text": [
      "/home/hanliu/project/mouse_rostral_brain/study/ITSpatial/DMRAnalysis/AggLayerDMR/IT-L6/MotifScan.h5adtemp/MA0712.2.meme, N motif total=22209\n"
     ]
    },
    {
     "name": "stderr",
     "output_type": "stream",
     "text": [
      "/home/hanliu/miniconda3/envs/clustering/lib/python3.7/site-packages/ALLCools/dmr/fimo.py:60: FutureWarning: to_msgpack is deprecated and will be removed in a future version.\n",
      "It is recommended to use pyarrow for on-the-wire transmission of pandas objects.\n",
      "  final_df.to_msgpack(output_path, compress='zlib')\n"
     ]
    },
    {
     "name": "stdout",
     "output_type": "stream",
     "text": [
      "/home/hanliu/project/mouse_rostral_brain/study/ITSpatial/DMRAnalysis/AggLayerDMR/IT-L6/MotifScan.h5adtemp/MA0756.1.meme, N motif total=15274\n"
     ]
    },
    {
     "name": "stderr",
     "output_type": "stream",
     "text": [
      "/home/hanliu/miniconda3/envs/clustering/lib/python3.7/site-packages/ALLCools/dmr/fimo.py:60: FutureWarning: to_msgpack is deprecated and will be removed in a future version.\n",
      "It is recommended to use pyarrow for on-the-wire transmission of pandas objects.\n",
      "  final_df.to_msgpack(output_path, compress='zlib')\n"
     ]
    },
    {
     "name": "stdout",
     "output_type": "stream",
     "text": [
      "/home/hanliu/project/mouse_rostral_brain/study/ITSpatial/DMRAnalysis/AggLayerDMR/IT-L6/MotifScan.h5adtemp/MA1545.1.meme, N motif total=2658\n"
     ]
    },
    {
     "name": "stderr",
     "output_type": "stream",
     "text": [
      "/home/hanliu/miniconda3/envs/clustering/lib/python3.7/site-packages/ALLCools/dmr/fimo.py:60: FutureWarning: to_msgpack is deprecated and will be removed in a future version.\n",
      "It is recommended to use pyarrow for on-the-wire transmission of pandas objects.\n",
      "  final_df.to_msgpack(output_path, compress='zlib')\n"
     ]
    },
    {
     "name": "stdout",
     "output_type": "stream",
     "text": [
      "/home/hanliu/project/mouse_rostral_brain/study/ITSpatial/DMRAnalysis/AggLayerDMR/IT-L6/MotifScan.h5adtemp/MA0780.1.meme, N motif total=12593\n"
     ]
    },
    {
     "name": "stderr",
     "output_type": "stream",
     "text": [
      "/home/hanliu/miniconda3/envs/clustering/lib/python3.7/site-packages/ALLCools/dmr/fimo.py:60: FutureWarning: to_msgpack is deprecated and will be removed in a future version.\n",
      "It is recommended to use pyarrow for on-the-wire transmission of pandas objects.\n",
      "  final_df.to_msgpack(output_path, compress='zlib')\n"
     ]
    },
    {
     "name": "stdout",
     "output_type": "stream",
     "text": [
      "/home/hanliu/project/mouse_rostral_brain/study/ITSpatial/DMRAnalysis/AggLayerDMR/IT-L6/MotifScan.h5adtemp/MA1544.1.meme, N motif total=2717\n"
     ]
    },
    {
     "name": "stderr",
     "output_type": "stream",
     "text": [
      "/home/hanliu/miniconda3/envs/clustering/lib/python3.7/site-packages/ALLCools/dmr/fimo.py:60: FutureWarning: to_msgpack is deprecated and will be removed in a future version.\n",
      "It is recommended to use pyarrow for on-the-wire transmission of pandas objects.\n",
      "  final_df.to_msgpack(output_path, compress='zlib')\n"
     ]
    },
    {
     "name": "stdout",
     "output_type": "stream",
     "text": [
      "/home/hanliu/project/mouse_rostral_brain/study/ITSpatial/DMRAnalysis/AggLayerDMR/IT-L6/MotifScan.h5adtemp/MA0014.3.meme, N motif total=11444\n"
     ]
    },
    {
     "name": "stderr",
     "output_type": "stream",
     "text": [
      "/home/hanliu/miniconda3/envs/clustering/lib/python3.7/site-packages/ALLCools/dmr/fimo.py:60: FutureWarning: to_msgpack is deprecated and will be removed in a future version.\n",
      "It is recommended to use pyarrow for on-the-wire transmission of pandas objects.\n",
      "  final_df.to_msgpack(output_path, compress='zlib')\n"
     ]
    },
    {
     "name": "stdout",
     "output_type": "stream",
     "text": [
      "/home/hanliu/project/mouse_rostral_brain/study/ITSpatial/DMRAnalysis/AggLayerDMR/IT-L6/MotifScan.h5adtemp/MA0680.1.meme, N motif total=12380\n"
     ]
    },
    {
     "name": "stderr",
     "output_type": "stream",
     "text": [
      "/home/hanliu/miniconda3/envs/clustering/lib/python3.7/site-packages/ALLCools/dmr/fimo.py:60: FutureWarning: to_msgpack is deprecated and will be removed in a future version.\n",
      "It is recommended to use pyarrow for on-the-wire transmission of pandas objects.\n",
      "  final_df.to_msgpack(output_path, compress='zlib')\n"
     ]
    },
    {
     "name": "stdout",
     "output_type": "stream",
     "text": [
      "/home/hanliu/project/mouse_rostral_brain/study/ITSpatial/DMRAnalysis/AggLayerDMR/IT-L6/MotifScan.h5adtemp/MA0779.1.meme, N motif total=6238\n"
     ]
    },
    {
     "name": "stderr",
     "output_type": "stream",
     "text": [
      "/home/hanliu/miniconda3/envs/clustering/lib/python3.7/site-packages/ALLCools/dmr/fimo.py:60: FutureWarning: to_msgpack is deprecated and will be removed in a future version.\n",
      "It is recommended to use pyarrow for on-the-wire transmission of pandas objects.\n",
      "  final_df.to_msgpack(output_path, compress='zlib')\n"
     ]
    },
    {
     "name": "stdout",
     "output_type": "stream",
     "text": [
      "/home/hanliu/project/mouse_rostral_brain/study/ITSpatial/DMRAnalysis/AggLayerDMR/IT-L6/MotifScan.h5adtemp/MA0069.1.meme, N motif total=13485\n"
     ]
    },
    {
     "name": "stderr",
     "output_type": "stream",
     "text": [
      "/home/hanliu/miniconda3/envs/clustering/lib/python3.7/site-packages/ALLCools/dmr/fimo.py:60: FutureWarning: to_msgpack is deprecated and will be removed in a future version.\n",
      "It is recommended to use pyarrow for on-the-wire transmission of pandas objects.\n",
      "  final_df.to_msgpack(output_path, compress='zlib')\n"
     ]
    },
    {
     "name": "stdout",
     "output_type": "stream",
     "text": [
      "/home/hanliu/project/mouse_rostral_brain/study/ITSpatial/DMRAnalysis/AggLayerDMR/IT-L6/MotifScan.h5adtemp/MA1546.1.meme, N motif total=7396\n"
     ]
    },
    {
     "name": "stderr",
     "output_type": "stream",
     "text": [
      "/home/hanliu/miniconda3/envs/clustering/lib/python3.7/site-packages/ALLCools/dmr/fimo.py:60: FutureWarning: to_msgpack is deprecated and will be removed in a future version.\n",
      "It is recommended to use pyarrow for on-the-wire transmission of pandas objects.\n",
      "  final_df.to_msgpack(output_path, compress='zlib')\n"
     ]
    },
    {
     "name": "stdout",
     "output_type": "stream",
     "text": [
      "/home/hanliu/project/mouse_rostral_brain/study/ITSpatial/DMRAnalysis/AggLayerDMR/IT-L6/MotifScan.h5adtemp/MA0070.1.meme, N motif total=20934\n"
     ]
    },
    {
     "name": "stderr",
     "output_type": "stream",
     "text": [
      "/home/hanliu/miniconda3/envs/clustering/lib/python3.7/site-packages/ALLCools/dmr/fimo.py:60: FutureWarning: to_msgpack is deprecated and will be removed in a future version.\n",
      "It is recommended to use pyarrow for on-the-wire transmission of pandas objects.\n",
      "  final_df.to_msgpack(output_path, compress='zlib')\n"
     ]
    },
    {
     "name": "stdout",
     "output_type": "stream",
     "text": [
      "/home/hanliu/project/mouse_rostral_brain/study/ITSpatial/DMRAnalysis/AggLayerDMR/IT-L6/MotifScan.h5adtemp/MA0132.2.meme, N motif total=8358\n"
     ]
    },
    {
     "name": "stderr",
     "output_type": "stream",
     "text": [
      "/home/hanliu/miniconda3/envs/clustering/lib/python3.7/site-packages/ALLCools/dmr/fimo.py:60: FutureWarning: to_msgpack is deprecated and will be removed in a future version.\n",
      "It is recommended to use pyarrow for on-the-wire transmission of pandas objects.\n",
      "  final_df.to_msgpack(output_path, compress='zlib')\n"
     ]
    },
    {
     "name": "stdout",
     "output_type": "stream",
     "text": [
      "/home/hanliu/project/mouse_rostral_brain/study/ITSpatial/DMRAnalysis/AggLayerDMR/IT-L6/MotifScan.h5adtemp/MA1113.2.meme, N motif total=22429\n"
     ]
    },
    {
     "name": "stderr",
     "output_type": "stream",
     "text": [
      "/home/hanliu/miniconda3/envs/clustering/lib/python3.7/site-packages/ALLCools/dmr/fimo.py:60: FutureWarning: to_msgpack is deprecated and will be removed in a future version.\n",
      "It is recommended to use pyarrow for on-the-wire transmission of pandas objects.\n",
      "  final_df.to_msgpack(output_path, compress='zlib')\n"
     ]
    },
    {
     "name": "stdout",
     "output_type": "stream",
     "text": [
      "/home/hanliu/project/mouse_rostral_brain/study/ITSpatial/DMRAnalysis/AggLayerDMR/IT-L6/MotifScan.h5adtemp/MA0781.1.meme, N motif total=1620\n"
     ]
    },
    {
     "name": "stderr",
     "output_type": "stream",
     "text": [
      "/home/hanliu/miniconda3/envs/clustering/lib/python3.7/site-packages/ALLCools/dmr/fimo.py:60: FutureWarning: to_msgpack is deprecated and will be removed in a future version.\n",
      "It is recommended to use pyarrow for on-the-wire transmission of pandas objects.\n",
      "  final_df.to_msgpack(output_path, compress='zlib')\n"
     ]
    },
    {
     "name": "stdout",
     "output_type": "stream",
     "text": [
      "/home/hanliu/project/mouse_rostral_brain/study/ITSpatial/DMRAnalysis/AggLayerDMR/IT-L6/MotifScan.h5adtemp/MA0682.2.meme, N motif total=17937\n"
     ]
    },
    {
     "name": "stderr",
     "output_type": "stream",
     "text": [
      "/home/hanliu/miniconda3/envs/clustering/lib/python3.7/site-packages/ALLCools/dmr/fimo.py:60: FutureWarning: to_msgpack is deprecated and will be removed in a future version.\n",
      "It is recommended to use pyarrow for on-the-wire transmission of pandas objects.\n",
      "  final_df.to_msgpack(output_path, compress='zlib')\n"
     ]
    },
    {
     "name": "stdout",
     "output_type": "stream",
     "text": [
      "/home/hanliu/project/mouse_rostral_brain/study/ITSpatial/DMRAnalysis/AggLayerDMR/IT-L6/MotifScan.h5adtemp/MA0713.1.meme, N motif total=15675\n"
     ]
    },
    {
     "name": "stderr",
     "output_type": "stream",
     "text": [
      "/home/hanliu/miniconda3/envs/clustering/lib/python3.7/site-packages/ALLCools/dmr/fimo.py:60: FutureWarning: to_msgpack is deprecated and will be removed in a future version.\n",
      "It is recommended to use pyarrow for on-the-wire transmission of pandas objects.\n",
      "  final_df.to_msgpack(output_path, compress='zlib')\n"
     ]
    },
    {
     "name": "stdout",
     "output_type": "stream",
     "text": [
      "/home/hanliu/project/mouse_rostral_brain/study/ITSpatial/DMRAnalysis/AggLayerDMR/IT-L6/MotifScan.h5adtemp/MA1114.1.meme, N motif total=54185\n"
     ]
    },
    {
     "name": "stderr",
     "output_type": "stream",
     "text": [
      "/home/hanliu/miniconda3/envs/clustering/lib/python3.7/site-packages/ALLCools/dmr/fimo.py:60: FutureWarning: to_msgpack is deprecated and will be removed in a future version.\n",
      "It is recommended to use pyarrow for on-the-wire transmission of pandas objects.\n",
      "  final_df.to_msgpack(output_path, compress='zlib')\n"
     ]
    },
    {
     "name": "stdout",
     "output_type": "stream",
     "text": [
      "/home/hanliu/project/mouse_rostral_brain/study/ITSpatial/DMRAnalysis/AggLayerDMR/IT-L6/MotifScan.h5adtemp/MA1547.1.meme, N motif total=17699\n"
     ]
    },
    {
     "name": "stderr",
     "output_type": "stream",
     "text": [
      "/home/hanliu/miniconda3/envs/clustering/lib/python3.7/site-packages/ALLCools/dmr/fimo.py:60: FutureWarning: to_msgpack is deprecated and will be removed in a future version.\n",
      "It is recommended to use pyarrow for on-the-wire transmission of pandas objects.\n",
      "  final_df.to_msgpack(output_path, compress='zlib')\n"
     ]
    },
    {
     "name": "stdout",
     "output_type": "stream",
     "text": [
      "/home/hanliu/project/mouse_rostral_brain/study/ITSpatial/DMRAnalysis/AggLayerDMR/IT-L6/MotifScan.h5adtemp/MA0714.1.meme, N motif total=16687\n"
     ]
    },
    {
     "name": "stderr",
     "output_type": "stream",
     "text": [
      "/home/hanliu/miniconda3/envs/clustering/lib/python3.7/site-packages/ALLCools/dmr/fimo.py:60: FutureWarning: to_msgpack is deprecated and will be removed in a future version.\n",
      "It is recommended to use pyarrow for on-the-wire transmission of pandas objects.\n",
      "  final_df.to_msgpack(output_path, compress='zlib')\n"
     ]
    },
    {
     "name": "stdout",
     "output_type": "stream",
     "text": [
      "/home/hanliu/project/mouse_rostral_brain/study/ITSpatial/DMRAnalysis/AggLayerDMR/IT-L6/MotifScan.h5adtemp/MA0681.2.meme, N motif total=33804\n"
     ]
    },
    {
     "name": "stderr",
     "output_type": "stream",
     "text": [
      "/home/hanliu/miniconda3/envs/clustering/lib/python3.7/site-packages/ALLCools/dmr/fimo.py:60: FutureWarning: to_msgpack is deprecated and will be removed in a future version.\n",
      "It is recommended to use pyarrow for on-the-wire transmission of pandas objects.\n",
      "  final_df.to_msgpack(output_path, compress='zlib')\n"
     ]
    },
    {
     "name": "stdout",
     "output_type": "stream",
     "text": [
      "/home/hanliu/project/mouse_rostral_brain/study/ITSpatial/DMRAnalysis/AggLayerDMR/IT-L6/MotifScan.h5adtemp/MA0783.1.meme, N motif total=17879\n"
     ]
    },
    {
     "name": "stderr",
     "output_type": "stream",
     "text": [
      "/home/hanliu/miniconda3/envs/clustering/lib/python3.7/site-packages/ALLCools/dmr/fimo.py:60: FutureWarning: to_msgpack is deprecated and will be removed in a future version.\n",
      "It is recommended to use pyarrow for on-the-wire transmission of pandas objects.\n",
      "  final_df.to_msgpack(output_path, compress='zlib')\n"
     ]
    },
    {
     "name": "stdout",
     "output_type": "stream",
     "text": [
      "/home/hanliu/project/mouse_rostral_brain/study/ITSpatial/DMRAnalysis/AggLayerDMR/IT-L6/MotifScan.h5adtemp/MA1548.1.meme, N motif total=23007\n"
     ]
    },
    {
     "name": "stderr",
     "output_type": "stream",
     "text": [
      "/home/hanliu/miniconda3/envs/clustering/lib/python3.7/site-packages/ALLCools/dmr/fimo.py:60: FutureWarning: to_msgpack is deprecated and will be removed in a future version.\n",
      "It is recommended to use pyarrow for on-the-wire transmission of pandas objects.\n",
      "  final_df.to_msgpack(output_path, compress='zlib')\n"
     ]
    },
    {
     "name": "stdout",
     "output_type": "stream",
     "text": [
      "/home/hanliu/project/mouse_rostral_brain/study/ITSpatial/DMRAnalysis/AggLayerDMR/IT-L6/MotifScan.h5adtemp/MA0782.2.meme, N motif total=46305\n"
     ]
    },
    {
     "name": "stderr",
     "output_type": "stream",
     "text": [
      "/home/hanliu/miniconda3/envs/clustering/lib/python3.7/site-packages/ALLCools/dmr/fimo.py:60: FutureWarning: to_msgpack is deprecated and will be removed in a future version.\n",
      "It is recommended to use pyarrow for on-the-wire transmission of pandas objects.\n",
      "  final_df.to_msgpack(output_path, compress='zlib')\n"
     ]
    },
    {
     "name": "stdout",
     "output_type": "stream",
     "text": [
      "/home/hanliu/project/mouse_rostral_brain/study/ITSpatial/DMRAnalysis/AggLayerDMR/IT-L6/MotifScan.h5adtemp/MA1615.1.meme, N motif total=44307\n"
     ]
    },
    {
     "name": "stderr",
     "output_type": "stream",
     "text": [
      "/home/hanliu/miniconda3/envs/clustering/lib/python3.7/site-packages/ALLCools/dmr/fimo.py:60: FutureWarning: to_msgpack is deprecated and will be removed in a future version.\n",
      "It is recommended to use pyarrow for on-the-wire transmission of pandas objects.\n",
      "  final_df.to_msgpack(output_path, compress='zlib')\n"
     ]
    },
    {
     "name": "stdout",
     "output_type": "stream",
     "text": [
      "/home/hanliu/project/mouse_rostral_brain/study/ITSpatial/DMRAnalysis/AggLayerDMR/IT-L6/MotifScan.h5adtemp/MA0163.1.meme, N motif total=36167\n"
     ]
    },
    {
     "name": "stderr",
     "output_type": "stream",
     "text": [
      "/home/hanliu/miniconda3/envs/clustering/lib/python3.7/site-packages/ALLCools/dmr/fimo.py:60: FutureWarning: to_msgpack is deprecated and will be removed in a future version.\n",
      "It is recommended to use pyarrow for on-the-wire transmission of pandas objects.\n",
      "  final_df.to_msgpack(output_path, compress='zlib')\n"
     ]
    },
    {
     "name": "stdout",
     "output_type": "stream",
     "text": [
      "/home/hanliu/project/mouse_rostral_brain/study/ITSpatial/DMRAnalysis/AggLayerDMR/IT-L6/MotifScan.h5adtemp/MA0787.1.meme, N motif total=25563\n"
     ]
    },
    {
     "name": "stderr",
     "output_type": "stream",
     "text": [
      "/home/hanliu/miniconda3/envs/clustering/lib/python3.7/site-packages/ALLCools/dmr/fimo.py:60: FutureWarning: to_msgpack is deprecated and will be removed in a future version.\n",
      "It is recommended to use pyarrow for on-the-wire transmission of pandas objects.\n",
      "  final_df.to_msgpack(output_path, compress='zlib')\n"
     ]
    },
    {
     "name": "stdout",
     "output_type": "stream",
     "text": [
      "/home/hanliu/project/mouse_rostral_brain/study/ITSpatial/DMRAnalysis/AggLayerDMR/IT-L6/MotifScan.h5adtemp/MA0785.1.meme, N motif total=24478\n"
     ]
    },
    {
     "name": "stderr",
     "output_type": "stream",
     "text": [
      "/home/hanliu/miniconda3/envs/clustering/lib/python3.7/site-packages/ALLCools/dmr/fimo.py:60: FutureWarning: to_msgpack is deprecated and will be removed in a future version.\n",
      "It is recommended to use pyarrow for on-the-wire transmission of pandas objects.\n",
      "  final_df.to_msgpack(output_path, compress='zlib')\n"
     ]
    },
    {
     "name": "stdout",
     "output_type": "stream",
     "text": [
      "/home/hanliu/project/mouse_rostral_brain/study/ITSpatial/DMRAnalysis/AggLayerDMR/IT-L6/MotifScan.h5adtemp/MA0789.1.meme, N motif total=23910\n"
     ]
    },
    {
     "name": "stderr",
     "output_type": "stream",
     "text": [
      "/home/hanliu/miniconda3/envs/clustering/lib/python3.7/site-packages/ALLCools/dmr/fimo.py:60: FutureWarning: to_msgpack is deprecated and will be removed in a future version.\n",
      "It is recommended to use pyarrow for on-the-wire transmission of pandas objects.\n",
      "  final_df.to_msgpack(output_path, compress='zlib')\n"
     ]
    },
    {
     "name": "stdout",
     "output_type": "stream",
     "text": [
      "/home/hanliu/project/mouse_rostral_brain/study/ITSpatial/DMRAnalysis/AggLayerDMR/IT-L6/MotifScan.h5adtemp/MA0784.1.meme, N motif total=25980\n"
     ]
    },
    {
     "name": "stderr",
     "output_type": "stream",
     "text": [
      "/home/hanliu/miniconda3/envs/clustering/lib/python3.7/site-packages/ALLCools/dmr/fimo.py:60: FutureWarning: to_msgpack is deprecated and will be removed in a future version.\n",
      "It is recommended to use pyarrow for on-the-wire transmission of pandas objects.\n",
      "  final_df.to_msgpack(output_path, compress='zlib')\n"
     ]
    },
    {
     "name": "stdout",
     "output_type": "stream",
     "text": [
      "/home/hanliu/project/mouse_rostral_brain/study/ITSpatial/DMRAnalysis/AggLayerDMR/IT-L6/MotifScan.h5adtemp/MA0786.1.meme, N motif total=28242\n"
     ]
    },
    {
     "name": "stderr",
     "output_type": "stream",
     "text": [
      "/home/hanliu/miniconda3/envs/clustering/lib/python3.7/site-packages/ALLCools/dmr/fimo.py:60: FutureWarning: to_msgpack is deprecated and will be removed in a future version.\n",
      "It is recommended to use pyarrow for on-the-wire transmission of pandas objects.\n",
      "  final_df.to_msgpack(output_path, compress='zlib')\n"
     ]
    },
    {
     "name": "stdout",
     "output_type": "stream",
     "text": [
      "/home/hanliu/project/mouse_rostral_brain/study/ITSpatial/DMRAnalysis/AggLayerDMR/IT-L6/MotifScan.h5adtemp/MA0507.1.meme, N motif total=36537\n"
     ]
    },
    {
     "name": "stderr",
     "output_type": "stream",
     "text": [
      "/home/hanliu/miniconda3/envs/clustering/lib/python3.7/site-packages/ALLCools/dmr/fimo.py:60: FutureWarning: to_msgpack is deprecated and will be removed in a future version.\n",
      "It is recommended to use pyarrow for on-the-wire transmission of pandas objects.\n",
      "  final_df.to_msgpack(output_path, compress='zlib')\n"
     ]
    },
    {
     "name": "stdout",
     "output_type": "stream",
     "text": [
      "/home/hanliu/project/mouse_rostral_brain/study/ITSpatial/DMRAnalysis/AggLayerDMR/IT-L6/MotifScan.h5adtemp/MA0627.2.meme, N motif total=34655\n"
     ]
    },
    {
     "name": "stderr",
     "output_type": "stream",
     "text": [
      "/home/hanliu/miniconda3/envs/clustering/lib/python3.7/site-packages/ALLCools/dmr/fimo.py:60: FutureWarning: to_msgpack is deprecated and will be removed in a future version.\n",
      "It is recommended to use pyarrow for on-the-wire transmission of pandas objects.\n",
      "  final_df.to_msgpack(output_path, compress='zlib')\n"
     ]
    },
    {
     "name": "stdout",
     "output_type": "stream",
     "text": [
      "/home/hanliu/project/mouse_rostral_brain/study/ITSpatial/DMRAnalysis/AggLayerDMR/IT-L6/MotifScan.h5adtemp/MA0788.1.meme, N motif total=27196\n"
     ]
    },
    {
     "name": "stderr",
     "output_type": "stream",
     "text": [
      "/home/hanliu/miniconda3/envs/clustering/lib/python3.7/site-packages/ALLCools/dmr/fimo.py:60: FutureWarning: to_msgpack is deprecated and will be removed in a future version.\n",
      "It is recommended to use pyarrow for on-the-wire transmission of pandas objects.\n",
      "  final_df.to_msgpack(output_path, compress='zlib')\n"
     ]
    },
    {
     "name": "stdout",
     "output_type": "stream",
     "text": [
      "/home/hanliu/project/mouse_rostral_brain/study/ITSpatial/DMRAnalysis/AggLayerDMR/IT-L6/MotifScan.h5adtemp/MA0628.1.meme, N motif total=10892\n"
     ]
    },
    {
     "name": "stderr",
     "output_type": "stream",
     "text": [
      "/home/hanliu/miniconda3/envs/clustering/lib/python3.7/site-packages/ALLCools/dmr/fimo.py:60: FutureWarning: to_msgpack is deprecated and will be removed in a future version.\n",
      "It is recommended to use pyarrow for on-the-wire transmission of pandas objects.\n",
      "  final_df.to_msgpack(output_path, compress='zlib')\n"
     ]
    },
    {
     "name": "stdout",
     "output_type": "stream",
     "text": [
      "/home/hanliu/project/mouse_rostral_brain/study/ITSpatial/DMRAnalysis/AggLayerDMR/IT-L6/MotifScan.h5adtemp/MA1115.1.meme, N motif total=32525\n"
     ]
    },
    {
     "name": "stderr",
     "output_type": "stream",
     "text": [
      "/home/hanliu/miniconda3/envs/clustering/lib/python3.7/site-packages/ALLCools/dmr/fimo.py:60: FutureWarning: to_msgpack is deprecated and will be removed in a future version.\n",
      "It is recommended to use pyarrow for on-the-wire transmission of pandas objects.\n",
      "  final_df.to_msgpack(output_path, compress='zlib')\n"
     ]
    },
    {
     "name": "stdout",
     "output_type": "stream",
     "text": [
      "/home/hanliu/project/mouse_rostral_brain/study/ITSpatial/DMRAnalysis/AggLayerDMR/IT-L6/MotifScan.h5adtemp/MA1549.1.meme, N motif total=15487\n"
     ]
    },
    {
     "name": "stderr",
     "output_type": "stream",
     "text": [
      "/home/hanliu/miniconda3/envs/clustering/lib/python3.7/site-packages/ALLCools/dmr/fimo.py:60: FutureWarning: to_msgpack is deprecated and will be removed in a future version.\n",
      "It is recommended to use pyarrow for on-the-wire transmission of pandas objects.\n",
      "  final_df.to_msgpack(output_path, compress='zlib')\n"
     ]
    },
    {
     "name": "stdout",
     "output_type": "stream",
     "text": [
      "/home/hanliu/project/mouse_rostral_brain/study/ITSpatial/DMRAnalysis/AggLayerDMR/IT-L6/MotifScan.h5adtemp/MA0793.1.meme, N motif total=14065\n"
     ]
    },
    {
     "name": "stderr",
     "output_type": "stream",
     "text": [
      "/home/hanliu/miniconda3/envs/clustering/lib/python3.7/site-packages/ALLCools/dmr/fimo.py:60: FutureWarning: to_msgpack is deprecated and will be removed in a future version.\n",
      "It is recommended to use pyarrow for on-the-wire transmission of pandas objects.\n",
      "  final_df.to_msgpack(output_path, compress='zlib')\n"
     ]
    },
    {
     "name": "stdout",
     "output_type": "stream",
     "text": [
      "/home/hanliu/project/mouse_rostral_brain/study/ITSpatial/DMRAnalysis/AggLayerDMR/IT-L6/MotifScan.h5adtemp/MA0790.1.meme, N motif total=26209\n"
     ]
    },
    {
     "name": "stderr",
     "output_type": "stream",
     "text": [
      "/home/hanliu/miniconda3/envs/clustering/lib/python3.7/site-packages/ALLCools/dmr/fimo.py:60: FutureWarning: to_msgpack is deprecated and will be removed in a future version.\n",
      "It is recommended to use pyarrow for on-the-wire transmission of pandas objects.\n",
      "  final_df.to_msgpack(output_path, compress='zlib')\n"
     ]
    },
    {
     "name": "stdout",
     "output_type": "stream",
     "text": [
      "/home/hanliu/project/mouse_rostral_brain/study/ITSpatial/DMRAnalysis/AggLayerDMR/IT-L6/MotifScan.h5adtemp/MA0791.1.meme, N motif total=24189\n"
     ]
    },
    {
     "name": "stderr",
     "output_type": "stream",
     "text": [
      "/home/hanliu/miniconda3/envs/clustering/lib/python3.7/site-packages/ALLCools/dmr/fimo.py:60: FutureWarning: to_msgpack is deprecated and will be removed in a future version.\n",
      "It is recommended to use pyarrow for on-the-wire transmission of pandas objects.\n",
      "  final_df.to_msgpack(output_path, compress='zlib')\n"
     ]
    },
    {
     "name": "stdout",
     "output_type": "stream",
     "text": [
      "/home/hanliu/project/mouse_rostral_brain/study/ITSpatial/DMRAnalysis/AggLayerDMR/IT-L6/MotifScan.h5adtemp/MA0683.1.meme, N motif total=22809\n"
     ]
    },
    {
     "name": "stderr",
     "output_type": "stream",
     "text": [
      "/home/hanliu/miniconda3/envs/clustering/lib/python3.7/site-packages/ALLCools/dmr/fimo.py:60: FutureWarning: to_msgpack is deprecated and will be removed in a future version.\n",
      "It is recommended to use pyarrow for on-the-wire transmission of pandas objects.\n",
      "  final_df.to_msgpack(output_path, compress='zlib')\n"
     ]
    },
    {
     "name": "stdout",
     "output_type": "stream",
     "text": [
      "/home/hanliu/project/mouse_rostral_brain/study/ITSpatial/DMRAnalysis/AggLayerDMR/IT-L6/MotifScan.h5adtemp/MA0075.3.meme, N motif total=10130\n"
     ]
    },
    {
     "name": "stderr",
     "output_type": "stream",
     "text": [
      "/home/hanliu/miniconda3/envs/clustering/lib/python3.7/site-packages/ALLCools/dmr/fimo.py:60: FutureWarning: to_msgpack is deprecated and will be removed in a future version.\n",
      "It is recommended to use pyarrow for on-the-wire transmission of pandas objects.\n",
      "  final_df.to_msgpack(output_path, compress='zlib')\n"
     ]
    },
    {
     "name": "stdout",
     "output_type": "stream",
     "text": [
      "/home/hanliu/project/mouse_rostral_brain/study/ITSpatial/DMRAnalysis/AggLayerDMR/IT-L6/MotifScan.h5adtemp/MA0142.1.meme, N motif total=36387\n"
     ]
    },
    {
     "name": "stderr",
     "output_type": "stream",
     "text": [
      "/home/hanliu/miniconda3/envs/clustering/lib/python3.7/site-packages/ALLCools/dmr/fimo.py:60: FutureWarning: to_msgpack is deprecated and will be removed in a future version.\n",
      "It is recommended to use pyarrow for on-the-wire transmission of pandas objects.\n",
      "  final_df.to_msgpack(output_path, compress='zlib')\n"
     ]
    },
    {
     "name": "stdout",
     "output_type": "stream",
     "text": [
      "/home/hanliu/project/mouse_rostral_brain/study/ITSpatial/DMRAnalysis/AggLayerDMR/IT-L6/MotifScan.h5adtemp/MA0508.3.meme, N motif total=139941\n"
     ]
    },
    {
     "name": "stderr",
     "output_type": "stream",
     "text": [
      "/home/hanliu/miniconda3/envs/clustering/lib/python3.7/site-packages/ALLCools/dmr/fimo.py:60: FutureWarning: to_msgpack is deprecated and will be removed in a future version.\n",
      "It is recommended to use pyarrow for on-the-wire transmission of pandas objects.\n",
      "  final_df.to_msgpack(output_path, compress='zlib')\n"
     ]
    },
    {
     "name": "stdout",
     "output_type": "stream",
     "text": [
      "/home/hanliu/project/mouse_rostral_brain/study/ITSpatial/DMRAnalysis/AggLayerDMR/IT-L6/MotifScan.h5adtemp/MA1550.1.meme, N motif total=19885\n"
     ]
    },
    {
     "name": "stderr",
     "output_type": "stream",
     "text": [
      "/home/hanliu/miniconda3/envs/clustering/lib/python3.7/site-packages/ALLCools/dmr/fimo.py:60: FutureWarning: to_msgpack is deprecated and will be removed in a future version.\n",
      "It is recommended to use pyarrow for on-the-wire transmission of pandas objects.\n",
      "  final_df.to_msgpack(output_path, compress='zlib')\n"
     ]
    },
    {
     "name": "stdout",
     "output_type": "stream",
     "text": [
      "/home/hanliu/project/mouse_rostral_brain/study/ITSpatial/DMRAnalysis/AggLayerDMR/IT-L6/MotifScan.h5adtemp/MA0716.1.meme, N motif total=9846\n"
     ]
    },
    {
     "name": "stderr",
     "output_type": "stream",
     "text": [
      "/home/hanliu/miniconda3/envs/clustering/lib/python3.7/site-packages/ALLCools/dmr/fimo.py:60: FutureWarning: to_msgpack is deprecated and will be removed in a future version.\n",
      "It is recommended to use pyarrow for on-the-wire transmission of pandas objects.\n",
      "  final_df.to_msgpack(output_path, compress='zlib')\n"
     ]
    },
    {
     "name": "stdout",
     "output_type": "stream",
     "text": [
      "Finish count 500 motifs.\n"
     ]
    },
    {
     "name": "stdout",
     "output_type": "stream",
     "text": [
      "/home/hanliu/project/mouse_rostral_brain/study/ITSpatial/DMRAnalysis/AggLayerDMR/IT-L6/MotifScan.h5adtemp/MA0065.2.meme, N motif total=58210\n"
     ]
    },
    {
     "name": "stderr",
     "output_type": "stream",
     "text": [
      "/home/hanliu/miniconda3/envs/clustering/lib/python3.7/site-packages/ALLCools/dmr/fimo.py:60: FutureWarning: to_msgpack is deprecated and will be removed in a future version.\n",
      "It is recommended to use pyarrow for on-the-wire transmission of pandas objects.\n",
      "  final_df.to_msgpack(output_path, compress='zlib')\n"
     ]
    },
    {
     "name": "stdout",
     "output_type": "stream",
     "text": [
      "/home/hanliu/project/mouse_rostral_brain/study/ITSpatial/DMRAnalysis/AggLayerDMR/IT-L6/MotifScan.h5adtemp/MA0715.1.meme, N motif total=20593\n"
     ]
    },
    {
     "name": "stderr",
     "output_type": "stream",
     "text": [
      "/home/hanliu/miniconda3/envs/clustering/lib/python3.7/site-packages/ALLCools/dmr/fimo.py:60: FutureWarning: to_msgpack is deprecated and will be removed in a future version.\n",
      "It is recommended to use pyarrow for on-the-wire transmission of pandas objects.\n",
      "  final_df.to_msgpack(output_path, compress='zlib')\n"
     ]
    },
    {
     "name": "stdout",
     "output_type": "stream",
     "text": [
      "/home/hanliu/project/mouse_rostral_brain/study/ITSpatial/DMRAnalysis/AggLayerDMR/IT-L6/MotifScan.h5adtemp/MA1647.1.meme, N motif total=45865\n"
     ]
    },
    {
     "name": "stderr",
     "output_type": "stream",
     "text": [
      "/home/hanliu/miniconda3/envs/clustering/lib/python3.7/site-packages/ALLCools/dmr/fimo.py:60: FutureWarning: to_msgpack is deprecated and will be removed in a future version.\n",
      "It is recommended to use pyarrow for on-the-wire transmission of pandas objects.\n",
      "  final_df.to_msgpack(output_path, compress='zlib')\n"
     ]
    },
    {
     "name": "stdout",
     "output_type": "stream",
     "text": [
      "/home/hanliu/project/mouse_rostral_brain/study/ITSpatial/DMRAnalysis/AggLayerDMR/IT-L6/MotifScan.h5adtemp/MA0794.1.meme, N motif total=12616\n"
     ]
    },
    {
     "name": "stderr",
     "output_type": "stream",
     "text": [
      "/home/hanliu/miniconda3/envs/clustering/lib/python3.7/site-packages/ALLCools/dmr/fimo.py:60: FutureWarning: to_msgpack is deprecated and will be removed in a future version.\n",
      "It is recommended to use pyarrow for on-the-wire transmission of pandas objects.\n",
      "  final_df.to_msgpack(output_path, compress='zlib')\n"
     ]
    },
    {
     "name": "stdout",
     "output_type": "stream",
     "text": [
      "/home/hanliu/project/mouse_rostral_brain/study/ITSpatial/DMRAnalysis/AggLayerDMR/IT-L6/MotifScan.h5adtemp/MA1148.1.meme, N motif total=29203\n"
     ]
    },
    {
     "name": "stderr",
     "output_type": "stream",
     "text": [
      "/home/hanliu/miniconda3/envs/clustering/lib/python3.7/site-packages/ALLCools/dmr/fimo.py:60: FutureWarning: to_msgpack is deprecated and will be removed in a future version.\n",
      "It is recommended to use pyarrow for on-the-wire transmission of pandas objects.\n",
      "  final_df.to_msgpack(output_path, compress='zlib')\n"
     ]
    },
    {
     "name": "stdout",
     "output_type": "stream",
     "text": [
      "/home/hanliu/project/mouse_rostral_brain/study/ITSpatial/DMRAnalysis/AggLayerDMR/IT-L6/MotifScan.h5adtemp/MA1616.1.meme, N motif total=39555\n"
     ]
    },
    {
     "name": "stderr",
     "output_type": "stream",
     "text": [
      "/home/hanliu/miniconda3/envs/clustering/lib/python3.7/site-packages/ALLCools/dmr/fimo.py:60: FutureWarning: to_msgpack is deprecated and will be removed in a future version.\n",
      "It is recommended to use pyarrow for on-the-wire transmission of pandas objects.\n",
      "  final_df.to_msgpack(output_path, compress='zlib')\n"
     ]
    },
    {
     "name": "stdout",
     "output_type": "stream",
     "text": [
      "/home/hanliu/project/mouse_rostral_brain/study/ITSpatial/DMRAnalysis/AggLayerDMR/IT-L6/MotifScan.h5adtemp/MA0066.1.meme, N motif total=26569\n"
     ]
    },
    {
     "name": "stderr",
     "output_type": "stream",
     "text": [
      "/home/hanliu/miniconda3/envs/clustering/lib/python3.7/site-packages/ALLCools/dmr/fimo.py:60: FutureWarning: to_msgpack is deprecated and will be removed in a future version.\n",
      "It is recommended to use pyarrow for on-the-wire transmission of pandas objects.\n",
      "  final_df.to_msgpack(output_path, compress='zlib')\n"
     ]
    },
    {
     "name": "stdout",
     "output_type": "stream",
     "text": [
      "/home/hanliu/project/mouse_rostral_brain/study/ITSpatial/DMRAnalysis/AggLayerDMR/IT-L6/MotifScan.h5adtemp/MA1618.1.meme, N motif total=52829\n"
     ]
    },
    {
     "name": "stderr",
     "output_type": "stream",
     "text": [
      "/home/hanliu/miniconda3/envs/clustering/lib/python3.7/site-packages/ALLCools/dmr/fimo.py:60: FutureWarning: to_msgpack is deprecated and will be removed in a future version.\n",
      "It is recommended to use pyarrow for on-the-wire transmission of pandas objects.\n",
      "  final_df.to_msgpack(output_path, compress='zlib')\n"
     ]
    },
    {
     "name": "stdout",
     "output_type": "stream",
     "text": [
      "/home/hanliu/project/mouse_rostral_brain/study/ITSpatial/DMRAnalysis/AggLayerDMR/IT-L6/MotifScan.h5adtemp/MA1619.1.meme, N motif total=69592\n"
     ]
    },
    {
     "name": "stderr",
     "output_type": "stream",
     "text": [
      "/home/hanliu/miniconda3/envs/clustering/lib/python3.7/site-packages/ALLCools/dmr/fimo.py:60: FutureWarning: to_msgpack is deprecated and will be removed in a future version.\n",
      "It is recommended to use pyarrow for on-the-wire transmission of pandas objects.\n",
      "  final_df.to_msgpack(output_path, compress='zlib')\n"
     ]
    },
    {
     "name": "stdout",
     "output_type": "stream",
     "text": [
      "/home/hanliu/project/mouse_rostral_brain/study/ITSpatial/DMRAnalysis/AggLayerDMR/IT-L6/MotifScan.h5adtemp/MA1620.1.meme, N motif total=37070\n"
     ]
    },
    {
     "name": "stderr",
     "output_type": "stream",
     "text": [
      "/home/hanliu/miniconda3/envs/clustering/lib/python3.7/site-packages/ALLCools/dmr/fimo.py:60: FutureWarning: to_msgpack is deprecated and will be removed in a future version.\n",
      "It is recommended to use pyarrow for on-the-wire transmission of pandas objects.\n",
      "  final_df.to_msgpack(output_path, compress='zlib')\n"
     ]
    },
    {
     "name": "stdout",
     "output_type": "stream",
     "text": [
      "/home/hanliu/project/mouse_rostral_brain/study/ITSpatial/DMRAnalysis/AggLayerDMR/IT-L6/MotifScan.h5adtemp/MA0159.1.meme, N motif total=28028\n"
     ]
    },
    {
     "name": "stderr",
     "output_type": "stream",
     "text": [
      "/home/hanliu/miniconda3/envs/clustering/lib/python3.7/site-packages/ALLCools/dmr/fimo.py:60: FutureWarning: to_msgpack is deprecated and will be removed in a future version.\n",
      "It is recommended to use pyarrow for on-the-wire transmission of pandas objects.\n",
      "  final_df.to_msgpack(output_path, compress='zlib')\n"
     ]
    },
    {
     "name": "stdout",
     "output_type": "stream",
     "text": [
      "/home/hanliu/project/mouse_rostral_brain/study/ITSpatial/DMRAnalysis/AggLayerDMR/IT-L6/MotifScan.h5adtemp/MA0729.1.meme, N motif total=944\n"
     ]
    },
    {
     "name": "stderr",
     "output_type": "stream",
     "text": [
      "/home/hanliu/miniconda3/envs/clustering/lib/python3.7/site-packages/ALLCools/dmr/fimo.py:60: FutureWarning: to_msgpack is deprecated and will be removed in a future version.\n",
      "It is recommended to use pyarrow for on-the-wire transmission of pandas objects.\n",
      "  final_df.to_msgpack(output_path, compress='zlib')\n"
     ]
    },
    {
     "name": "stdout",
     "output_type": "stream",
     "text": [
      "/home/hanliu/project/mouse_rostral_brain/study/ITSpatial/DMRAnalysis/AggLayerDMR/IT-L6/MotifScan.h5adtemp/MA0730.1.meme, N motif total=7803\n"
     ]
    },
    {
     "name": "stderr",
     "output_type": "stream",
     "text": [
      "/home/hanliu/miniconda3/envs/clustering/lib/python3.7/site-packages/ALLCools/dmr/fimo.py:60: FutureWarning: to_msgpack is deprecated and will be removed in a future version.\n",
      "It is recommended to use pyarrow for on-the-wire transmission of pandas objects.\n",
      "  final_df.to_msgpack(output_path, compress='zlib')\n"
     ]
    },
    {
     "name": "stdout",
     "output_type": "stream",
     "text": [
      "/home/hanliu/project/mouse_rostral_brain/study/ITSpatial/DMRAnalysis/AggLayerDMR/IT-L6/MotifScan.h5adtemp/MA0857.1.meme, N motif total=1824\n"
     ]
    },
    {
     "name": "stderr",
     "output_type": "stream",
     "text": [
      "/home/hanliu/miniconda3/envs/clustering/lib/python3.7/site-packages/ALLCools/dmr/fimo.py:60: FutureWarning: to_msgpack is deprecated and will be removed in a future version.\n",
      "It is recommended to use pyarrow for on-the-wire transmission of pandas objects.\n",
      "  final_df.to_msgpack(output_path, compress='zlib')\n"
     ]
    },
    {
     "name": "stdout",
     "output_type": "stream",
     "text": [
      "/home/hanliu/project/mouse_rostral_brain/study/ITSpatial/DMRAnalysis/AggLayerDMR/IT-L6/MotifScan.h5adtemp/MA1149.1.meme, N motif total=27013\n"
     ]
    },
    {
     "name": "stderr",
     "output_type": "stream",
     "text": [
      "/home/hanliu/miniconda3/envs/clustering/lib/python3.7/site-packages/ALLCools/dmr/fimo.py:60: FutureWarning: to_msgpack is deprecated and will be removed in a future version.\n",
      "It is recommended to use pyarrow for on-the-wire transmission of pandas objects.\n",
      "  final_df.to_msgpack(output_path, compress='zlib')\n"
     ]
    },
    {
     "name": "stdout",
     "output_type": "stream",
     "text": [
      "/home/hanliu/project/mouse_rostral_brain/study/ITSpatial/DMRAnalysis/AggLayerDMR/IT-L6/MotifScan.h5adtemp/MA1552.1.meme, N motif total=15064\n"
     ]
    },
    {
     "name": "stderr",
     "output_type": "stream",
     "text": [
      "/home/hanliu/miniconda3/envs/clustering/lib/python3.7/site-packages/ALLCools/dmr/fimo.py:60: FutureWarning: to_msgpack is deprecated and will be removed in a future version.\n",
      "It is recommended to use pyarrow for on-the-wire transmission of pandas objects.\n",
      "  final_df.to_msgpack(output_path, compress='zlib')\n"
     ]
    },
    {
     "name": "stdout",
     "output_type": "stream",
     "text": [
      "/home/hanliu/project/mouse_rostral_brain/study/ITSpatial/DMRAnalysis/AggLayerDMR/IT-L6/MotifScan.h5adtemp/MA0718.1.meme, N motif total=9656\n"
     ]
    },
    {
     "name": "stderr",
     "output_type": "stream",
     "text": [
      "/home/hanliu/miniconda3/envs/clustering/lib/python3.7/site-packages/ALLCools/dmr/fimo.py:60: FutureWarning: to_msgpack is deprecated and will be removed in a future version.\n",
      "It is recommended to use pyarrow for on-the-wire transmission of pandas objects.\n",
      "  final_df.to_msgpack(output_path, compress='zlib')\n"
     ]
    },
    {
     "name": "stdout",
     "output_type": "stream",
     "text": [
      "/home/hanliu/project/mouse_rostral_brain/study/ITSpatial/DMRAnalysis/AggLayerDMR/IT-L6/MotifScan.h5adtemp/MA1116.1.meme, N motif total=61730\n"
     ]
    },
    {
     "name": "stderr",
     "output_type": "stream",
     "text": [
      "/home/hanliu/miniconda3/envs/clustering/lib/python3.7/site-packages/ALLCools/dmr/fimo.py:60: FutureWarning: to_msgpack is deprecated and will be removed in a future version.\n",
      "It is recommended to use pyarrow for on-the-wire transmission of pandas objects.\n",
      "  final_df.to_msgpack(output_path, compress='zlib')\n"
     ]
    },
    {
     "name": "stdout",
     "output_type": "stream",
     "text": [
      "/home/hanliu/project/mouse_rostral_brain/study/ITSpatial/DMRAnalysis/AggLayerDMR/IT-L6/MotifScan.h5adtemp/MA0858.1.meme, N motif total=2111\n"
     ]
    },
    {
     "name": "stderr",
     "output_type": "stream",
     "text": [
      "/home/hanliu/miniconda3/envs/clustering/lib/python3.7/site-packages/ALLCools/dmr/fimo.py:60: FutureWarning: to_msgpack is deprecated and will be removed in a future version.\n",
      "It is recommended to use pyarrow for on-the-wire transmission of pandas objects.\n",
      "  final_df.to_msgpack(output_path, compress='zlib')\n"
     ]
    },
    {
     "name": "stdout",
     "output_type": "stream",
     "text": [
      "/home/hanliu/project/mouse_rostral_brain/study/ITSpatial/DMRAnalysis/AggLayerDMR/IT-L6/MotifScan.h5adtemp/MA0107.1.meme, N motif total=30124\n"
     ]
    },
    {
     "name": "stderr",
     "output_type": "stream",
     "text": [
      "/home/hanliu/miniconda3/envs/clustering/lib/python3.7/site-packages/ALLCools/dmr/fimo.py:60: FutureWarning: to_msgpack is deprecated and will be removed in a future version.\n",
      "It is recommended to use pyarrow for on-the-wire transmission of pandas objects.\n",
      "  final_df.to_msgpack(output_path, compress='zlib')\n"
     ]
    },
    {
     "name": "stdout",
     "output_type": "stream",
     "text": [
      "/home/hanliu/project/mouse_rostral_brain/study/ITSpatial/DMRAnalysis/AggLayerDMR/IT-L6/MotifScan.h5adtemp/MA0859.1.meme, N motif total=2831\n"
     ]
    },
    {
     "name": "stderr",
     "output_type": "stream",
     "text": [
      "/home/hanliu/miniconda3/envs/clustering/lib/python3.7/site-packages/ALLCools/dmr/fimo.py:60: FutureWarning: to_msgpack is deprecated and will be removed in a future version.\n",
      "It is recommended to use pyarrow for on-the-wire transmission of pandas objects.\n",
      "  final_df.to_msgpack(output_path, compress='zlib')\n"
     ]
    },
    {
     "name": "stdout",
     "output_type": "stream",
     "text": [
      "/home/hanliu/project/mouse_rostral_brain/study/ITSpatial/DMRAnalysis/AggLayerDMR/IT-L6/MotifScan.h5adtemp/MA0101.1.meme, N motif total=23398\n"
     ]
    },
    {
     "name": "stderr",
     "output_type": "stream",
     "text": [
      "/home/hanliu/miniconda3/envs/clustering/lib/python3.7/site-packages/ALLCools/dmr/fimo.py:60: FutureWarning: to_msgpack is deprecated and will be removed in a future version.\n",
      "It is recommended to use pyarrow for on-the-wire transmission of pandas objects.\n",
      "  final_df.to_msgpack(output_path, compress='zlib')\n"
     ]
    },
    {
     "name": "stdout",
     "output_type": "stream",
     "text": [
      "/home/hanliu/project/mouse_rostral_brain/study/ITSpatial/DMRAnalysis/AggLayerDMR/IT-L6/MotifScan.h5adtemp/MA1117.1.meme, N motif total=23098\n"
     ]
    },
    {
     "name": "stderr",
     "output_type": "stream",
     "text": [
      "/home/hanliu/miniconda3/envs/clustering/lib/python3.7/site-packages/ALLCools/dmr/fimo.py:60: FutureWarning: to_msgpack is deprecated and will be removed in a future version.\n",
      "It is recommended to use pyarrow for on-the-wire transmission of pandas objects.\n",
      "  final_df.to_msgpack(output_path, compress='zlib')\n"
     ]
    },
    {
     "name": "stdout",
     "output_type": "stream",
     "text": [
      "/home/hanliu/project/mouse_rostral_brain/study/ITSpatial/DMRAnalysis/AggLayerDMR/IT-L6/MotifScan.h5adtemp/MA1553.1.meme, N motif total=16824\n"
     ]
    },
    {
     "name": "stderr",
     "output_type": "stream",
     "text": [
      "/home/hanliu/miniconda3/envs/clustering/lib/python3.7/site-packages/ALLCools/dmr/fimo.py:60: FutureWarning: to_msgpack is deprecated and will be removed in a future version.\n",
      "It is recommended to use pyarrow for on-the-wire transmission of pandas objects.\n",
      "  final_df.to_msgpack(output_path, compress='zlib')\n"
     ]
    },
    {
     "name": "stdout",
     "output_type": "stream",
     "text": [
      "/home/hanliu/project/mouse_rostral_brain/study/ITSpatial/DMRAnalysis/AggLayerDMR/IT-L6/MotifScan.h5adtemp/MA1621.1.meme, N motif total=36558\n"
     ]
    },
    {
     "name": "stderr",
     "output_type": "stream",
     "text": [
      "/home/hanliu/miniconda3/envs/clustering/lib/python3.7/site-packages/ALLCools/dmr/fimo.py:60: FutureWarning: to_msgpack is deprecated and will be removed in a future version.\n",
      "It is recommended to use pyarrow for on-the-wire transmission of pandas objects.\n",
      "  final_df.to_msgpack(output_path, compress='zlib')\n"
     ]
    },
    {
     "name": "stdout",
     "output_type": "stream",
     "text": [
      "/home/hanliu/project/mouse_rostral_brain/study/ITSpatial/DMRAnalysis/AggLayerDMR/IT-L6/MotifScan.h5adtemp/MA0860.1.meme, N motif total=1659\n"
     ]
    },
    {
     "name": "stderr",
     "output_type": "stream",
     "text": [
      "/home/hanliu/miniconda3/envs/clustering/lib/python3.7/site-packages/ALLCools/dmr/fimo.py:60: FutureWarning: to_msgpack is deprecated and will be removed in a future version.\n",
      "It is recommended to use pyarrow for on-the-wire transmission of pandas objects.\n",
      "  final_df.to_msgpack(output_path, compress='zlib')\n"
     ]
    },
    {
     "name": "stdout",
     "output_type": "stream",
     "text": [
      "/home/hanliu/project/mouse_rostral_brain/study/ITSpatial/DMRAnalysis/AggLayerDMR/IT-L6/MotifScan.h5adtemp/MA0509.2.meme, N motif total=30599\n"
     ]
    },
    {
     "name": "stderr",
     "output_type": "stream",
     "text": [
      "/home/hanliu/miniconda3/envs/clustering/lib/python3.7/site-packages/ALLCools/dmr/fimo.py:60: FutureWarning: to_msgpack is deprecated and will be removed in a future version.\n",
      "It is recommended to use pyarrow for on-the-wire transmission of pandas objects.\n",
      "  final_df.to_msgpack(output_path, compress='zlib')\n"
     ]
    },
    {
     "name": "stdout",
     "output_type": "stream",
     "text": [
      "/home/hanliu/project/mouse_rostral_brain/study/ITSpatial/DMRAnalysis/AggLayerDMR/IT-L6/MotifScan.h5adtemp/MA1554.1.meme, N motif total=15192\n"
     ]
    },
    {
     "name": "stderr",
     "output_type": "stream",
     "text": [
      "/home/hanliu/miniconda3/envs/clustering/lib/python3.7/site-packages/ALLCools/dmr/fimo.py:60: FutureWarning: to_msgpack is deprecated and will be removed in a future version.\n",
      "It is recommended to use pyarrow for on-the-wire transmission of pandas objects.\n",
      "  final_df.to_msgpack(output_path, compress='zlib')\n"
     ]
    },
    {
     "name": "stdout",
     "output_type": "stream",
     "text": [
      "/home/hanliu/project/mouse_rostral_brain/study/ITSpatial/DMRAnalysis/AggLayerDMR/IT-L6/MotifScan.h5adtemp/MA0071.1.meme, N motif total=22145\n"
     ]
    },
    {
     "name": "stderr",
     "output_type": "stream",
     "text": [
      "/home/hanliu/miniconda3/envs/clustering/lib/python3.7/site-packages/ALLCools/dmr/fimo.py:60: FutureWarning: to_msgpack is deprecated and will be removed in a future version.\n",
      "It is recommended to use pyarrow for on-the-wire transmission of pandas objects.\n",
      "  final_df.to_msgpack(output_path, compress='zlib')\n"
     ]
    },
    {
     "name": "stdout",
     "output_type": "stream",
     "text": [
      "/home/hanliu/project/mouse_rostral_brain/study/ITSpatial/DMRAnalysis/AggLayerDMR/IT-L6/MotifScan.h5adtemp/MA0798.2.meme, N motif total=31554\n"
     ]
    },
    {
     "name": "stderr",
     "output_type": "stream",
     "text": [
      "/home/hanliu/miniconda3/envs/clustering/lib/python3.7/site-packages/ALLCools/dmr/fimo.py:60: FutureWarning: to_msgpack is deprecated and will be removed in a future version.\n",
      "It is recommended to use pyarrow for on-the-wire transmission of pandas objects.\n",
      "  final_df.to_msgpack(output_path, compress='zlib')\n"
     ]
    },
    {
     "name": "stdout",
     "output_type": "stream",
     "text": [
      "/home/hanliu/project/mouse_rostral_brain/study/ITSpatial/DMRAnalysis/AggLayerDMR/IT-L6/MotifScan.h5adtemp/MA0600.2.meme, N motif total=19283\n"
     ]
    },
    {
     "name": "stderr",
     "output_type": "stream",
     "text": [
      "/home/hanliu/miniconda3/envs/clustering/lib/python3.7/site-packages/ALLCools/dmr/fimo.py:60: FutureWarning: to_msgpack is deprecated and will be removed in a future version.\n",
      "It is recommended to use pyarrow for on-the-wire transmission of pandas objects.\n",
      "  final_df.to_msgpack(output_path, compress='zlib')\n"
     ]
    },
    {
     "name": "stdout",
     "output_type": "stream",
     "text": [
      "/home/hanliu/project/mouse_rostral_brain/study/ITSpatial/DMRAnalysis/AggLayerDMR/IT-L6/MotifScan.h5adtemp/MA0511.2.meme, N motif total=12788\n"
     ]
    },
    {
     "name": "stderr",
     "output_type": "stream",
     "text": [
      "/home/hanliu/miniconda3/envs/clustering/lib/python3.7/site-packages/ALLCools/dmr/fimo.py:60: FutureWarning: to_msgpack is deprecated and will be removed in a future version.\n",
      "It is recommended to use pyarrow for on-the-wire transmission of pandas objects.\n",
      "  final_df.to_msgpack(output_path, compress='zlib')\n"
     ]
    },
    {
     "name": "stdout",
     "output_type": "stream",
     "text": [
      "/home/hanliu/project/mouse_rostral_brain/study/ITSpatial/DMRAnalysis/AggLayerDMR/IT-L6/MotifScan.h5adtemp/MA1150.1.meme, N motif total=15587\n"
     ]
    },
    {
     "name": "stderr",
     "output_type": "stream",
     "text": [
      "/home/hanliu/miniconda3/envs/clustering/lib/python3.7/site-packages/ALLCools/dmr/fimo.py:60: FutureWarning: to_msgpack is deprecated and will be removed in a future version.\n",
      "It is recommended to use pyarrow for on-the-wire transmission of pandas objects.\n",
      "  final_df.to_msgpack(output_path, compress='zlib')\n"
     ]
    },
    {
     "name": "stdout",
     "output_type": "stream",
     "text": [
      "/home/hanliu/project/mouse_rostral_brain/study/ITSpatial/DMRAnalysis/AggLayerDMR/IT-L6/MotifScan.h5adtemp/MA0510.2.meme, N motif total=24194\n"
     ]
    },
    {
     "name": "stderr",
     "output_type": "stream",
     "text": [
      "/home/hanliu/miniconda3/envs/clustering/lib/python3.7/site-packages/ALLCools/dmr/fimo.py:60: FutureWarning: to_msgpack is deprecated and will be removed in a future version.\n",
      "It is recommended to use pyarrow for on-the-wire transmission of pandas objects.\n",
      "  final_df.to_msgpack(output_path, compress='zlib')\n"
     ]
    },
    {
     "name": "stdout",
     "output_type": "stream",
     "text": [
      "/home/hanliu/project/mouse_rostral_brain/study/ITSpatial/DMRAnalysis/AggLayerDMR/IT-L6/MotifScan.h5adtemp/MA0799.1.meme, N motif total=25233\n"
     ]
    },
    {
     "name": "stderr",
     "output_type": "stream",
     "text": [
      "/home/hanliu/miniconda3/envs/clustering/lib/python3.7/site-packages/ALLCools/dmr/fimo.py:60: FutureWarning: to_msgpack is deprecated and will be removed in a future version.\n",
      "It is recommended to use pyarrow for on-the-wire transmission of pandas objects.\n",
      "  final_df.to_msgpack(output_path, compress='zlib')\n"
     ]
    },
    {
     "name": "stdout",
     "output_type": "stream",
     "text": [
      "/home/hanliu/project/mouse_rostral_brain/study/ITSpatial/DMRAnalysis/AggLayerDMR/IT-L6/MotifScan.h5adtemp/MA1151.1.meme, N motif total=13614\n"
     ]
    },
    {
     "name": "stderr",
     "output_type": "stream",
     "text": [
      "/home/hanliu/miniconda3/envs/clustering/lib/python3.7/site-packages/ALLCools/dmr/fimo.py:60: FutureWarning: to_msgpack is deprecated and will be removed in a future version.\n",
      "It is recommended to use pyarrow for on-the-wire transmission of pandas objects.\n",
      "  final_df.to_msgpack(output_path, compress='zlib')\n"
     ]
    },
    {
     "name": "stdout",
     "output_type": "stream",
     "text": [
      "/home/hanliu/project/mouse_rostral_brain/study/ITSpatial/DMRAnalysis/AggLayerDMR/IT-L6/MotifScan.h5adtemp/MA0138.2.meme, N motif total=20775\n"
     ]
    },
    {
     "name": "stderr",
     "output_type": "stream",
     "text": [
      "/home/hanliu/miniconda3/envs/clustering/lib/python3.7/site-packages/ALLCools/dmr/fimo.py:60: FutureWarning: to_msgpack is deprecated and will be removed in a future version.\n",
      "It is recommended to use pyarrow for on-the-wire transmission of pandas objects.\n",
      "  final_df.to_msgpack(output_path, compress='zlib')\n"
     ]
    },
    {
     "name": "stdout",
     "output_type": "stream",
     "text": [
      "/home/hanliu/project/mouse_rostral_brain/study/ITSpatial/DMRAnalysis/AggLayerDMR/IT-L6/MotifScan.h5adtemp/MA0072.1.meme, N motif total=16554\n"
     ]
    },
    {
     "name": "stderr",
     "output_type": "stream",
     "text": [
      "/home/hanliu/miniconda3/envs/clustering/lib/python3.7/site-packages/ALLCools/dmr/fimo.py:60: FutureWarning: to_msgpack is deprecated and will be removed in a future version.\n",
      "It is recommended to use pyarrow for on-the-wire transmission of pandas objects.\n",
      "  final_df.to_msgpack(output_path, compress='zlib')\n"
     ]
    },
    {
     "name": "stdout",
     "output_type": "stream",
     "text": [
      "/home/hanliu/project/mouse_rostral_brain/study/ITSpatial/DMRAnalysis/AggLayerDMR/IT-L6/MotifScan.h5adtemp/MA0629.1.meme, N motif total=14788\n"
     ]
    },
    {
     "name": "stderr",
     "output_type": "stream",
     "text": [
      "/home/hanliu/miniconda3/envs/clustering/lib/python3.7/site-packages/ALLCools/dmr/fimo.py:60: FutureWarning: to_msgpack is deprecated and will be removed in a future version.\n",
      "It is recommended to use pyarrow for on-the-wire transmission of pandas objects.\n",
      "  final_df.to_msgpack(output_path, compress='zlib')\n"
     ]
    },
    {
     "name": "stdout",
     "output_type": "stream",
     "text": [
      "/home/hanliu/project/mouse_rostral_brain/study/ITSpatial/DMRAnalysis/AggLayerDMR/IT-L6/MotifScan.h5adtemp/MA0002.2.meme, N motif total=51350\n"
     ]
    },
    {
     "name": "stderr",
     "output_type": "stream",
     "text": [
      "/home/hanliu/miniconda3/envs/clustering/lib/python3.7/site-packages/ALLCools/dmr/fimo.py:60: FutureWarning: to_msgpack is deprecated and will be removed in a future version.\n",
      "It is recommended to use pyarrow for on-the-wire transmission of pandas objects.\n",
      "  final_df.to_msgpack(output_path, compress='zlib')\n"
     ]
    },
    {
     "name": "stdout",
     "output_type": "stream",
     "text": [
      "/home/hanliu/project/mouse_rostral_brain/study/ITSpatial/DMRAnalysis/AggLayerDMR/IT-L6/MotifScan.h5adtemp/MA0684.2.meme, N motif total=27317\n"
     ]
    },
    {
     "name": "stderr",
     "output_type": "stream",
     "text": [
      "/home/hanliu/miniconda3/envs/clustering/lib/python3.7/site-packages/ALLCools/dmr/fimo.py:60: FutureWarning: to_msgpack is deprecated and will be removed in a future version.\n",
      "It is recommended to use pyarrow for on-the-wire transmission of pandas objects.\n",
      "  final_df.to_msgpack(output_path, compress='zlib')\n"
     ]
    },
    {
     "name": "stdout",
     "output_type": "stream",
     "text": [
      "/home/hanliu/project/mouse_rostral_brain/study/ITSpatial/DMRAnalysis/AggLayerDMR/IT-L6/MotifScan.h5adtemp/MA0512.2.meme, N motif total=8811\n"
     ]
    },
    {
     "name": "stderr",
     "output_type": "stream",
     "text": [
      "/home/hanliu/miniconda3/envs/clustering/lib/python3.7/site-packages/ALLCools/dmr/fimo.py:60: FutureWarning: to_msgpack is deprecated and will be removed in a future version.\n",
      "It is recommended to use pyarrow for on-the-wire transmission of pandas objects.\n",
      "  final_df.to_msgpack(output_path, compress='zlib')\n"
     ]
    },
    {
     "name": "stdout",
     "output_type": "stream",
     "text": [
      "/home/hanliu/project/mouse_rostral_brain/study/ITSpatial/DMRAnalysis/AggLayerDMR/IT-L6/MotifScan.h5adtemp/MA0074.1.meme, N motif total=10056\n"
     ]
    },
    {
     "name": "stderr",
     "output_type": "stream",
     "text": [
      "/home/hanliu/miniconda3/envs/clustering/lib/python3.7/site-packages/ALLCools/dmr/fimo.py:60: FutureWarning: to_msgpack is deprecated and will be removed in a future version.\n",
      "It is recommended to use pyarrow for on-the-wire transmission of pandas objects.\n",
      "  final_df.to_msgpack(output_path, compress='zlib')\n"
     ]
    },
    {
     "name": "stdout",
     "output_type": "stream",
     "text": [
      "/home/hanliu/project/mouse_rostral_brain/study/ITSpatial/DMRAnalysis/AggLayerDMR/IT-L6/MotifScan.h5adtemp/MA1555.1.meme, N motif total=16625\n"
     ]
    },
    {
     "name": "stderr",
     "output_type": "stream",
     "text": [
      "/home/hanliu/miniconda3/envs/clustering/lib/python3.7/site-packages/ALLCools/dmr/fimo.py:60: FutureWarning: to_msgpack is deprecated and will be removed in a future version.\n",
      "It is recommended to use pyarrow for on-the-wire transmission of pandas objects.\n",
      "  final_df.to_msgpack(output_path, compress='zlib')\n"
     ]
    },
    {
     "name": "stdout",
     "output_type": "stream",
     "text": [
      "/home/hanliu/project/mouse_rostral_brain/study/ITSpatial/DMRAnalysis/AggLayerDMR/IT-L6/MotifScan.h5adtemp/MA0855.1.meme, N motif total=5578\n"
     ]
    },
    {
     "name": "stderr",
     "output_type": "stream",
     "text": [
      "/home/hanliu/miniconda3/envs/clustering/lib/python3.7/site-packages/ALLCools/dmr/fimo.py:60: FutureWarning: to_msgpack is deprecated and will be removed in a future version.\n",
      "It is recommended to use pyarrow for on-the-wire transmission of pandas objects.\n",
      "  final_df.to_msgpack(output_path, compress='zlib')\n"
     ]
    },
    {
     "name": "stdout",
     "output_type": "stream",
     "text": [
      "/home/hanliu/project/mouse_rostral_brain/study/ITSpatial/DMRAnalysis/AggLayerDMR/IT-L6/MotifScan.h5adtemp/MA1556.1.meme, N motif total=17266\n"
     ]
    },
    {
     "name": "stderr",
     "output_type": "stream",
     "text": [
      "/home/hanliu/miniconda3/envs/clustering/lib/python3.7/site-packages/ALLCools/dmr/fimo.py:60: FutureWarning: to_msgpack is deprecated and will be removed in a future version.\n",
      "It is recommended to use pyarrow for on-the-wire transmission of pandas objects.\n",
      "  final_df.to_msgpack(output_path, compress='zlib')\n"
     ]
    },
    {
     "name": "stdout",
     "output_type": "stream",
     "text": [
      "/home/hanliu/project/mouse_rostral_brain/study/ITSpatial/DMRAnalysis/AggLayerDMR/IT-L6/MotifScan.h5adtemp/MA0856.1.meme, N motif total=6707\n"
     ]
    },
    {
     "name": "stderr",
     "output_type": "stream",
     "text": [
      "/home/hanliu/miniconda3/envs/clustering/lib/python3.7/site-packages/ALLCools/dmr/fimo.py:60: FutureWarning: to_msgpack is deprecated and will be removed in a future version.\n",
      "It is recommended to use pyarrow for on-the-wire transmission of pandas objects.\n",
      "  final_df.to_msgpack(output_path, compress='zlib')\n"
     ]
    },
    {
     "name": "stdout",
     "output_type": "stream",
     "text": [
      "/home/hanliu/project/mouse_rostral_brain/study/ITSpatial/DMRAnalysis/AggLayerDMR/IT-L6/MotifScan.h5adtemp/MA0630.1.meme, N motif total=9846\n"
     ]
    },
    {
     "name": "stderr",
     "output_type": "stream",
     "text": [
      "/home/hanliu/miniconda3/envs/clustering/lib/python3.7/site-packages/ALLCools/dmr/fimo.py:60: FutureWarning: to_msgpack is deprecated and will be removed in a future version.\n",
      "It is recommended to use pyarrow for on-the-wire transmission of pandas objects.\n",
      "  final_df.to_msgpack(output_path, compress='zlib')\n"
     ]
    },
    {
     "name": "stdout",
     "output_type": "stream",
     "text": [
      "/home/hanliu/project/mouse_rostral_brain/study/ITSpatial/DMRAnalysis/AggLayerDMR/IT-L6/MotifScan.h5adtemp/MA0743.2.meme, N motif total=23919\n"
     ]
    },
    {
     "name": "stderr",
     "output_type": "stream",
     "text": [
      "/home/hanliu/miniconda3/envs/clustering/lib/python3.7/site-packages/ALLCools/dmr/fimo.py:60: FutureWarning: to_msgpack is deprecated and will be removed in a future version.\n",
      "It is recommended to use pyarrow for on-the-wire transmission of pandas objects.\n",
      "  final_df.to_msgpack(output_path, compress='zlib')\n"
     ]
    },
    {
     "name": "stdout",
     "output_type": "stream",
     "text": [
      "/home/hanliu/project/mouse_rostral_brain/study/ITSpatial/DMRAnalysis/AggLayerDMR/IT-L6/MotifScan.h5adtemp/MA0073.1.meme, N motif total=236207\n"
     ]
    },
    {
     "name": "stderr",
     "output_type": "stream",
     "text": [
      "/home/hanliu/miniconda3/envs/clustering/lib/python3.7/site-packages/ALLCools/dmr/fimo.py:60: FutureWarning: to_msgpack is deprecated and will be removed in a future version.\n",
      "It is recommended to use pyarrow for on-the-wire transmission of pandas objects.\n",
      "  final_df.to_msgpack(output_path, compress='zlib')\n"
     ]
    },
    {
     "name": "stdout",
     "output_type": "stream",
     "text": [
      "/home/hanliu/project/mouse_rostral_brain/study/ITSpatial/DMRAnalysis/AggLayerDMR/IT-L6/MotifScan.h5adtemp/MA0744.2.meme, N motif total=25269\n"
     ]
    },
    {
     "name": "stderr",
     "output_type": "stream",
     "text": [
      "/home/hanliu/miniconda3/envs/clustering/lib/python3.7/site-packages/ALLCools/dmr/fimo.py:60: FutureWarning: to_msgpack is deprecated and will be removed in a future version.\n",
      "It is recommended to use pyarrow for on-the-wire transmission of pandas objects.\n",
      "  final_df.to_msgpack(output_path, compress='zlib')\n"
     ]
    },
    {
     "name": "stdout",
     "output_type": "stream",
     "text": [
      "/home/hanliu/project/mouse_rostral_brain/study/ITSpatial/DMRAnalysis/AggLayerDMR/IT-L6/MotifScan.h5adtemp/MA0720.1.meme, N motif total=9846\n"
     ]
    },
    {
     "name": "stderr",
     "output_type": "stream",
     "text": [
      "/home/hanliu/miniconda3/envs/clustering/lib/python3.7/site-packages/ALLCools/dmr/fimo.py:60: FutureWarning: to_msgpack is deprecated and will be removed in a future version.\n",
      "It is recommended to use pyarrow for on-the-wire transmission of pandas objects.\n",
      "  final_df.to_msgpack(output_path, compress='zlib')\n"
     ]
    },
    {
     "name": "stdout",
     "output_type": "stream",
     "text": [
      "/home/hanliu/project/mouse_rostral_brain/study/ITSpatial/DMRAnalysis/AggLayerDMR/IT-L6/MotifScan.h5adtemp/MA1118.1.meme, N motif total=21670\n"
     ]
    },
    {
     "name": "stderr",
     "output_type": "stream",
     "text": [
      "/home/hanliu/miniconda3/envs/clustering/lib/python3.7/site-packages/ALLCools/dmr/fimo.py:60: FutureWarning: to_msgpack is deprecated and will be removed in a future version.\n",
      "It is recommended to use pyarrow for on-the-wire transmission of pandas objects.\n",
      "  final_df.to_msgpack(output_path, compress='zlib')\n"
     ]
    },
    {
     "name": "stdout",
     "output_type": "stream",
     "text": [
      "/home/hanliu/project/mouse_rostral_brain/study/ITSpatial/DMRAnalysis/AggLayerDMR/IT-L6/MotifScan.h5adtemp/MA1153.1.meme, N motif total=22187\n"
     ]
    },
    {
     "name": "stderr",
     "output_type": "stream",
     "text": [
      "/home/hanliu/miniconda3/envs/clustering/lib/python3.7/site-packages/ALLCools/dmr/fimo.py:60: FutureWarning: to_msgpack is deprecated and will be removed in a future version.\n",
      "It is recommended to use pyarrow for on-the-wire transmission of pandas objects.\n",
      "  final_df.to_msgpack(output_path, compress='zlib')\n"
     ]
    },
    {
     "name": "stdout",
     "output_type": "stream",
     "text": [
      "/home/hanliu/project/mouse_rostral_brain/study/ITSpatial/DMRAnalysis/AggLayerDMR/IT-L6/MotifScan.h5adtemp/MA0795.1.meme, N motif total=16061\n"
     ]
    },
    {
     "name": "stderr",
     "output_type": "stream",
     "text": [
      "/home/hanliu/miniconda3/envs/clustering/lib/python3.7/site-packages/ALLCools/dmr/fimo.py:60: FutureWarning: to_msgpack is deprecated and will be removed in a future version.\n",
      "It is recommended to use pyarrow for on-the-wire transmission of pandas objects.\n",
      "  final_df.to_msgpack(output_path, compress='zlib')\n"
     ]
    },
    {
     "name": "stdout",
     "output_type": "stream",
     "text": [
      "/home/hanliu/project/mouse_rostral_brain/study/ITSpatial/DMRAnalysis/AggLayerDMR/IT-L6/MotifScan.h5adtemp/MA1119.1.meme, N motif total=29642\n"
     ]
    },
    {
     "name": "stderr",
     "output_type": "stream",
     "text": [
      "/home/hanliu/miniconda3/envs/clustering/lib/python3.7/site-packages/ALLCools/dmr/fimo.py:60: FutureWarning: to_msgpack is deprecated and will be removed in a future version.\n",
      "It is recommended to use pyarrow for on-the-wire transmission of pandas objects.\n",
      "  final_df.to_msgpack(output_path, compress='zlib')\n"
     ]
    },
    {
     "name": "stdout",
     "output_type": "stream",
     "text": [
      "/home/hanliu/project/mouse_rostral_brain/study/ITSpatial/DMRAnalysis/AggLayerDMR/IT-L6/MotifScan.h5adtemp/MA1558.1.meme, N motif total=31805\n"
     ]
    },
    {
     "name": "stderr",
     "output_type": "stream",
     "text": [
      "/home/hanliu/miniconda3/envs/clustering/lib/python3.7/site-packages/ALLCools/dmr/fimo.py:60: FutureWarning: to_msgpack is deprecated and will be removed in a future version.\n",
      "It is recommended to use pyarrow for on-the-wire transmission of pandas objects.\n",
      "  final_df.to_msgpack(output_path, compress='zlib')\n"
     ]
    },
    {
     "name": "stdout",
     "output_type": "stream",
     "text": [
      "/home/hanliu/project/mouse_rostral_brain/study/ITSpatial/DMRAnalysis/AggLayerDMR/IT-L6/MotifScan.h5adtemp/MA0513.1.meme, N motif total=65642\n"
     ]
    },
    {
     "name": "stderr",
     "output_type": "stream",
     "text": [
      "/home/hanliu/miniconda3/envs/clustering/lib/python3.7/site-packages/ALLCools/dmr/fimo.py:60: FutureWarning: to_msgpack is deprecated and will be removed in a future version.\n",
      "It is recommended to use pyarrow for on-the-wire transmission of pandas objects.\n",
      "  final_df.to_msgpack(output_path, compress='zlib')\n"
     ]
    },
    {
     "name": "stdout",
     "output_type": "stream",
     "text": [
      "/home/hanliu/project/mouse_rostral_brain/study/ITSpatial/DMRAnalysis/AggLayerDMR/IT-L6/MotifScan.h5adtemp/MA1557.1.meme, N motif total=12411\n"
     ]
    },
    {
     "name": "stderr",
     "output_type": "stream",
     "text": [
      "/home/hanliu/miniconda3/envs/clustering/lib/python3.7/site-packages/ALLCools/dmr/fimo.py:60: FutureWarning: to_msgpack is deprecated and will be removed in a future version.\n",
      "It is recommended to use pyarrow for on-the-wire transmission of pandas objects.\n",
      "  final_df.to_msgpack(output_path, compress='zlib')\n"
     ]
    },
    {
     "name": "stdout",
     "output_type": "stream",
     "text": [
      "/home/hanliu/project/mouse_rostral_brain/study/ITSpatial/DMRAnalysis/AggLayerDMR/IT-L6/MotifScan.h5adtemp/MA1559.1.meme, N motif total=32216\n"
     ]
    },
    {
     "name": "stderr",
     "output_type": "stream",
     "text": [
      "/home/hanliu/miniconda3/envs/clustering/lib/python3.7/site-packages/ALLCools/dmr/fimo.py:60: FutureWarning: to_msgpack is deprecated and will be removed in a future version.\n",
      "It is recommended to use pyarrow for on-the-wire transmission of pandas objects.\n",
      "  final_df.to_msgpack(output_path, compress='zlib')\n"
     ]
    },
    {
     "name": "stdout",
     "output_type": "stream",
     "text": [
      "/home/hanliu/project/mouse_rostral_brain/study/ITSpatial/DMRAnalysis/AggLayerDMR/IT-L6/MotifScan.h5adtemp/MA1622.1.meme, N motif total=71867\n"
     ]
    },
    {
     "name": "stderr",
     "output_type": "stream",
     "text": [
      "/home/hanliu/miniconda3/envs/clustering/lib/python3.7/site-packages/ALLCools/dmr/fimo.py:60: FutureWarning: to_msgpack is deprecated and will be removed in a future version.\n",
      "It is recommended to use pyarrow for on-the-wire transmission of pandas objects.\n",
      "  final_df.to_msgpack(output_path, compress='zlib')\n"
     ]
    },
    {
     "name": "stdout",
     "output_type": "stream",
     "text": [
      "/home/hanliu/project/mouse_rostral_brain/study/ITSpatial/DMRAnalysis/AggLayerDMR/IT-L6/MotifScan.h5adtemp/MA0745.2.meme, N motif total=32588\n"
     ]
    },
    {
     "name": "stderr",
     "output_type": "stream",
     "text": [
      "/home/hanliu/miniconda3/envs/clustering/lib/python3.7/site-packages/ALLCools/dmr/fimo.py:60: FutureWarning: to_msgpack is deprecated and will be removed in a future version.\n",
      "It is recommended to use pyarrow for on-the-wire transmission of pandas objects.\n",
      "  final_df.to_msgpack(output_path, compress='zlib')\n"
     ]
    },
    {
     "name": "stdout",
     "output_type": "stream",
     "text": [
      "/home/hanliu/project/mouse_rostral_brain/study/ITSpatial/DMRAnalysis/AggLayerDMR/IT-L6/MotifScan.h5adtemp/MA1560.1.meme, N motif total=16629\n"
     ]
    },
    {
     "name": "stderr",
     "output_type": "stream",
     "text": [
      "/home/hanliu/miniconda3/envs/clustering/lib/python3.7/site-packages/ALLCools/dmr/fimo.py:60: FutureWarning: to_msgpack is deprecated and will be removed in a future version.\n",
      "It is recommended to use pyarrow for on-the-wire transmission of pandas objects.\n",
      "  final_df.to_msgpack(output_path, compress='zlib')\n"
     ]
    },
    {
     "name": "stdout",
     "output_type": "stream",
     "text": [
      "/home/hanliu/project/mouse_rostral_brain/study/ITSpatial/DMRAnalysis/AggLayerDMR/IT-L6/MotifScan.h5adtemp/MA0631.1.meme, N motif total=13025\n"
     ]
    },
    {
     "name": "stderr",
     "output_type": "stream",
     "text": [
      "/home/hanliu/miniconda3/envs/clustering/lib/python3.7/site-packages/ALLCools/dmr/fimo.py:60: FutureWarning: to_msgpack is deprecated and will be removed in a future version.\n",
      "It is recommended to use pyarrow for on-the-wire transmission of pandas objects.\n",
      "  final_df.to_msgpack(output_path, compress='zlib')\n"
     ]
    },
    {
     "name": "stdout",
     "output_type": "stream",
     "text": [
      "/home/hanliu/project/mouse_rostral_brain/study/ITSpatial/DMRAnalysis/AggLayerDMR/IT-L6/MotifScan.h5adtemp/MA1561.1.meme, N motif total=10933\n"
     ]
    },
    {
     "name": "stderr",
     "output_type": "stream",
     "text": [
      "/home/hanliu/miniconda3/envs/clustering/lib/python3.7/site-packages/ALLCools/dmr/fimo.py:60: FutureWarning: to_msgpack is deprecated and will be removed in a future version.\n",
      "It is recommended to use pyarrow for on-the-wire transmission of pandas objects.\n",
      "  final_df.to_msgpack(output_path, compress='zlib')\n"
     ]
    },
    {
     "name": "stdout",
     "output_type": "stream",
     "text": [
      "/home/hanliu/project/mouse_rostral_brain/study/ITSpatial/DMRAnalysis/AggLayerDMR/IT-L6/MotifScan.h5adtemp/MA0442.2.meme, N motif total=39357\n"
     ]
    },
    {
     "name": "stderr",
     "output_type": "stream",
     "text": [
      "/home/hanliu/miniconda3/envs/clustering/lib/python3.7/site-packages/ALLCools/dmr/fimo.py:60: FutureWarning: to_msgpack is deprecated and will be removed in a future version.\n",
      "It is recommended to use pyarrow for on-the-wire transmission of pandas objects.\n",
      "  final_df.to_msgpack(output_path, compress='zlib')\n"
     ]
    },
    {
     "name": "stdout",
     "output_type": "stream",
     "text": [
      "/home/hanliu/project/mouse_rostral_brain/study/ITSpatial/DMRAnalysis/AggLayerDMR/IT-L6/MotifScan.h5adtemp/MA1562.1.meme, N motif total=11099\n"
     ]
    },
    {
     "name": "stderr",
     "output_type": "stream",
     "text": [
      "/home/hanliu/miniconda3/envs/clustering/lib/python3.7/site-packages/ALLCools/dmr/fimo.py:60: FutureWarning: to_msgpack is deprecated and will be removed in a future version.\n",
      "It is recommended to use pyarrow for on-the-wire transmission of pandas objects.\n",
      "  final_df.to_msgpack(output_path, compress='zlib')\n"
     ]
    },
    {
     "name": "stdout",
     "output_type": "stream",
     "text": [
      "/home/hanliu/project/mouse_rostral_brain/study/ITSpatial/DMRAnalysis/AggLayerDMR/IT-L6/MotifScan.h5adtemp/MA0870.1.meme, N motif total=7372\n"
     ]
    },
    {
     "name": "stderr",
     "output_type": "stream",
     "text": [
      "/home/hanliu/miniconda3/envs/clustering/lib/python3.7/site-packages/ALLCools/dmr/fimo.py:60: FutureWarning: to_msgpack is deprecated and will be removed in a future version.\n",
      "It is recommended to use pyarrow for on-the-wire transmission of pandas objects.\n",
      "  final_df.to_msgpack(output_path, compress='zlib')\n"
     ]
    },
    {
     "name": "stdout",
     "output_type": "stream",
     "text": [
      "/home/hanliu/project/mouse_rostral_brain/study/ITSpatial/DMRAnalysis/AggLayerDMR/IT-L6/MotifScan.h5adtemp/MA1563.1.meme, N motif total=13773\n"
     ]
    },
    {
     "name": "stderr",
     "output_type": "stream",
     "text": [
      "/home/hanliu/miniconda3/envs/clustering/lib/python3.7/site-packages/ALLCools/dmr/fimo.py:60: FutureWarning: to_msgpack is deprecated and will be removed in a future version.\n",
      "It is recommended to use pyarrow for on-the-wire transmission of pandas objects.\n",
      "  final_df.to_msgpack(output_path, compress='zlib')\n"
     ]
    },
    {
     "name": "stdout",
     "output_type": "stream",
     "text": [
      "/home/hanliu/project/mouse_rostral_brain/study/ITSpatial/DMRAnalysis/AggLayerDMR/IT-L6/MotifScan.h5adtemp/MA1152.1.meme, N motif total=35294\n"
     ]
    },
    {
     "name": "stderr",
     "output_type": "stream",
     "text": [
      "/home/hanliu/miniconda3/envs/clustering/lib/python3.7/site-packages/ALLCools/dmr/fimo.py:60: FutureWarning: to_msgpack is deprecated and will be removed in a future version.\n",
      "It is recommended to use pyarrow for on-the-wire transmission of pandas objects.\n",
      "  final_df.to_msgpack(output_path, compress='zlib')\n"
     ]
    },
    {
     "name": "stdout",
     "output_type": "stream",
     "text": [
      "Motif MA0087.1 Sox5 do not have any match under current settings.\n"
     ]
    },
    {
     "name": "stdout",
     "output_type": "stream",
     "text": [
      "/home/hanliu/project/mouse_rostral_brain/study/ITSpatial/DMRAnalysis/AggLayerDMR/IT-L6/MotifScan.h5adtemp/MA1120.1.meme, N motif total=20390\n"
     ]
    },
    {
     "name": "stderr",
     "output_type": "stream",
     "text": [
      "/home/hanliu/miniconda3/envs/clustering/lib/python3.7/site-packages/ALLCools/dmr/fimo.py:60: FutureWarning: to_msgpack is deprecated and will be removed in a future version.\n",
      "It is recommended to use pyarrow for on-the-wire transmission of pandas objects.\n",
      "  final_df.to_msgpack(output_path, compress='zlib')\n"
     ]
    },
    {
     "name": "stdout",
     "output_type": "stream",
     "text": [
      "/home/hanliu/project/mouse_rostral_brain/study/ITSpatial/DMRAnalysis/AggLayerDMR/IT-L6/MotifScan.h5adtemp/MA0078.1.meme, N motif total=20083\n"
     ]
    },
    {
     "name": "stderr",
     "output_type": "stream",
     "text": [
      "/home/hanliu/miniconda3/envs/clustering/lib/python3.7/site-packages/ALLCools/dmr/fimo.py:60: FutureWarning: to_msgpack is deprecated and will be removed in a future version.\n",
      "It is recommended to use pyarrow for on-the-wire transmission of pandas objects.\n",
      "  final_df.to_msgpack(output_path, compress='zlib')\n"
     ]
    },
    {
     "name": "stdout",
     "output_type": "stream",
     "text": [
      "/home/hanliu/project/mouse_rostral_brain/study/ITSpatial/DMRAnalysis/AggLayerDMR/IT-L6/MotifScan.h5adtemp/MA0869.1.meme, N motif total=379\n"
     ]
    },
    {
     "name": "stderr",
     "output_type": "stream",
     "text": [
      "/home/hanliu/miniconda3/envs/clustering/lib/python3.7/site-packages/ALLCools/dmr/fimo.py:60: FutureWarning: to_msgpack is deprecated and will be removed in a future version.\n",
      "It is recommended to use pyarrow for on-the-wire transmission of pandas objects.\n",
      "  final_df.to_msgpack(output_path, compress='zlib')\n"
     ]
    },
    {
     "name": "stdout",
     "output_type": "stream",
     "text": [
      "/home/hanliu/project/mouse_rostral_brain/study/ITSpatial/DMRAnalysis/AggLayerDMR/IT-L6/MotifScan.h5adtemp/MA0143.4.meme, N motif total=21398\n"
     ]
    },
    {
     "name": "stderr",
     "output_type": "stream",
     "text": [
      "/home/hanliu/miniconda3/envs/clustering/lib/python3.7/site-packages/ALLCools/dmr/fimo.py:60: FutureWarning: to_msgpack is deprecated and will be removed in a future version.\n",
      "It is recommended to use pyarrow for on-the-wire transmission of pandas objects.\n",
      "  final_df.to_msgpack(output_path, compress='zlib')\n"
     ]
    },
    {
     "name": "stdout",
     "output_type": "stream",
     "text": [
      "/home/hanliu/project/mouse_rostral_brain/study/ITSpatial/DMRAnalysis/AggLayerDMR/IT-L6/MotifScan.h5adtemp/MA0867.2.meme, N motif total=31921\n"
     ]
    },
    {
     "name": "stderr",
     "output_type": "stream",
     "text": [
      "/home/hanliu/miniconda3/envs/clustering/lib/python3.7/site-packages/ALLCools/dmr/fimo.py:60: FutureWarning: to_msgpack is deprecated and will be removed in a future version.\n",
      "It is recommended to use pyarrow for on-the-wire transmission of pandas objects.\n",
      "  final_df.to_msgpack(output_path, compress='zlib')\n"
     ]
    },
    {
     "name": "stdout",
     "output_type": "stream",
     "text": [
      "/home/hanliu/project/mouse_rostral_brain/study/ITSpatial/DMRAnalysis/AggLayerDMR/IT-L6/MotifScan.h5adtemp/MA0514.1.meme, N motif total=59039\n"
     ]
    },
    {
     "name": "stdout",
     "output_type": "stream",
     "text": [
      "/home/hanliu/project/mouse_rostral_brain/study/ITSpatial/DMRAnalysis/AggLayerDMR/IT-L6/MotifScan.h5adtemp/MA0868.2.meme, N motif total=16932\n"
     ]
    },
    {
     "name": "stderr",
     "output_type": "stream",
     "text": [
      "/home/hanliu/miniconda3/envs/clustering/lib/python3.7/site-packages/ALLCools/dmr/fimo.py:60: FutureWarning: to_msgpack is deprecated and will be removed in a future version.\n",
      "It is recommended to use pyarrow for on-the-wire transmission of pandas objects.\n",
      "  final_df.to_msgpack(output_path, compress='zlib')\n"
     ]
    },
    {
     "name": "stderr",
     "output_type": "stream",
     "text": [
      "/home/hanliu/miniconda3/envs/clustering/lib/python3.7/site-packages/ALLCools/dmr/fimo.py:60: FutureWarning: to_msgpack is deprecated and will be removed in a future version.\n",
      "It is recommended to use pyarrow for on-the-wire transmission of pandas objects.\n",
      "  final_df.to_msgpack(output_path, compress='zlib')\n"
     ]
    },
    {
     "name": "stdout",
     "output_type": "stream",
     "text": [
      "/home/hanliu/project/mouse_rostral_brain/study/ITSpatial/DMRAnalysis/AggLayerDMR/IT-L6/MotifScan.h5adtemp/MA0515.1.meme, N motif total=33651\n"
     ]
    },
    {
     "name": "stderr",
     "output_type": "stream",
     "text": [
      "/home/hanliu/miniconda3/envs/clustering/lib/python3.7/site-packages/ALLCools/dmr/fimo.py:60: FutureWarning: to_msgpack is deprecated and will be removed in a future version.\n",
      "It is recommended to use pyarrow for on-the-wire transmission of pandas objects.\n",
      "  final_df.to_msgpack(output_path, compress='zlib')\n"
     ]
    },
    {
     "name": "stdout",
     "output_type": "stream",
     "text": [
      "/home/hanliu/project/mouse_rostral_brain/study/ITSpatial/DMRAnalysis/AggLayerDMR/IT-L6/MotifScan.h5adtemp/MA0077.1.meme, N motif total=14697\n"
     ]
    },
    {
     "name": "stderr",
     "output_type": "stream",
     "text": [
      "/home/hanliu/miniconda3/envs/clustering/lib/python3.7/site-packages/ALLCools/dmr/fimo.py:60: FutureWarning: to_msgpack is deprecated and will be removed in a future version.\n",
      "It is recommended to use pyarrow for on-the-wire transmission of pandas objects.\n",
      "  final_df.to_msgpack(output_path, compress='zlib')\n"
     ]
    },
    {
     "name": "stdout",
     "output_type": "stream",
     "text": [
      "/home/hanliu/project/mouse_rostral_brain/study/ITSpatial/DMRAnalysis/AggLayerDMR/IT-L6/MotifScan.h5adtemp/MA0866.1.meme, N motif total=4404\n"
     ]
    },
    {
     "name": "stderr",
     "output_type": "stream",
     "text": [
      "/home/hanliu/miniconda3/envs/clustering/lib/python3.7/site-packages/ALLCools/dmr/fimo.py:60: FutureWarning: to_msgpack is deprecated and will be removed in a future version.\n",
      "It is recommended to use pyarrow for on-the-wire transmission of pandas objects.\n",
      "  final_df.to_msgpack(output_path, compress='zlib')\n"
     ]
    },
    {
     "name": "stdout",
     "output_type": "stream",
     "text": [
      "/home/hanliu/project/mouse_rostral_brain/study/ITSpatial/DMRAnalysis/AggLayerDMR/IT-L6/MotifScan.h5adtemp/MA0079.4.meme, N motif total=21918\n"
     ]
    },
    {
     "name": "stderr",
     "output_type": "stream",
     "text": [
      "/home/hanliu/miniconda3/envs/clustering/lib/python3.7/site-packages/ALLCools/dmr/fimo.py:60: FutureWarning: to_msgpack is deprecated and will be removed in a future version.\n",
      "It is recommended to use pyarrow for on-the-wire transmission of pandas objects.\n",
      "  final_df.to_msgpack(output_path, compress='zlib')\n"
     ]
    },
    {
     "name": "stdout",
     "output_type": "stream",
     "text": [
      "/home/hanliu/project/mouse_rostral_brain/study/ITSpatial/DMRAnalysis/AggLayerDMR/IT-L6/MotifScan.h5adtemp/MA0746.2.meme, N motif total=60564\n"
     ]
    },
    {
     "name": "stderr",
     "output_type": "stream",
     "text": [
      "/home/hanliu/miniconda3/envs/clustering/lib/python3.7/site-packages/ALLCools/dmr/fimo.py:60: FutureWarning: to_msgpack is deprecated and will be removed in a future version.\n",
      "It is recommended to use pyarrow for on-the-wire transmission of pandas objects.\n",
      "  final_df.to_msgpack(output_path, compress='zlib')\n"
     ]
    },
    {
     "name": "stdout",
     "output_type": "stream",
     "text": [
      "/home/hanliu/project/mouse_rostral_brain/study/ITSpatial/DMRAnalysis/AggLayerDMR/IT-L6/MotifScan.h5adtemp/MA0747.1.meme, N motif total=95304\n"
     ]
    },
    {
     "name": "stderr",
     "output_type": "stream",
     "text": [
      "/home/hanliu/miniconda3/envs/clustering/lib/python3.7/site-packages/ALLCools/dmr/fimo.py:60: FutureWarning: to_msgpack is deprecated and will be removed in a future version.\n",
      "It is recommended to use pyarrow for on-the-wire transmission of pandas objects.\n",
      "  final_df.to_msgpack(output_path, compress='zlib')\n"
     ]
    },
    {
     "name": "stdout",
     "output_type": "stream",
     "text": [
      "/home/hanliu/project/mouse_rostral_brain/study/ITSpatial/DMRAnalysis/AggLayerDMR/IT-L6/MotifScan.h5adtemp/MA0516.2.meme, N motif total=90499\n"
     ]
    },
    {
     "name": "stderr",
     "output_type": "stream",
     "text": [
      "/home/hanliu/miniconda3/envs/clustering/lib/python3.7/site-packages/ALLCools/dmr/fimo.py:60: FutureWarning: to_msgpack is deprecated and will be removed in a future version.\n",
      "It is recommended to use pyarrow for on-the-wire transmission of pandas objects.\n",
      "  final_df.to_msgpack(output_path, compress='zlib')\n"
     ]
    },
    {
     "name": "stdout",
     "output_type": "stream",
     "text": [
      "/home/hanliu/project/mouse_rostral_brain/study/ITSpatial/DMRAnalysis/AggLayerDMR/IT-L6/MotifScan.h5adtemp/MA0686.1.meme, N motif total=9427\n"
     ]
    },
    {
     "name": "stderr",
     "output_type": "stream",
     "text": [
      "/home/hanliu/miniconda3/envs/clustering/lib/python3.7/site-packages/ALLCools/dmr/fimo.py:60: FutureWarning: to_msgpack is deprecated and will be removed in a future version.\n",
      "It is recommended to use pyarrow for on-the-wire transmission of pandas objects.\n",
      "  final_df.to_msgpack(output_path, compress='zlib')\n"
     ]
    },
    {
     "name": "stdout",
     "output_type": "stream",
     "text": [
      "/home/hanliu/project/mouse_rostral_brain/study/ITSpatial/DMRAnalysis/AggLayerDMR/IT-L6/MotifScan.h5adtemp/MA1564.1.meme, N motif total=81498\n"
     ]
    },
    {
     "name": "stderr",
     "output_type": "stream",
     "text": [
      "/home/hanliu/miniconda3/envs/clustering/lib/python3.7/site-packages/ALLCools/dmr/fimo.py:60: FutureWarning: to_msgpack is deprecated and will be removed in a future version.\n",
      "It is recommended to use pyarrow for on-the-wire transmission of pandas objects.\n",
      "  final_df.to_msgpack(output_path, compress='zlib')\n"
     ]
    },
    {
     "name": "stdout",
     "output_type": "stream",
     "text": [
      "/home/hanliu/project/mouse_rostral_brain/study/ITSpatial/DMRAnalysis/AggLayerDMR/IT-L6/MotifScan.h5adtemp/MA0685.1.meme, N motif total=17816\n"
     ]
    },
    {
     "name": "stderr",
     "output_type": "stream",
     "text": [
      "/home/hanliu/miniconda3/envs/clustering/lib/python3.7/site-packages/ALLCools/dmr/fimo.py:60: FutureWarning: to_msgpack is deprecated and will be removed in a future version.\n",
      "It is recommended to use pyarrow for on-the-wire transmission of pandas objects.\n",
      "  final_df.to_msgpack(output_path, compress='zlib')\n"
     ]
    },
    {
     "name": "stdout",
     "output_type": "stream",
     "text": [
      "/home/hanliu/project/mouse_rostral_brain/study/ITSpatial/DMRAnalysis/AggLayerDMR/IT-L6/MotifScan.h5adtemp/MA0111.1.meme, N motif total=25730\n"
     ]
    },
    {
     "name": "stderr",
     "output_type": "stream",
     "text": [
      "/home/hanliu/miniconda3/envs/clustering/lib/python3.7/site-packages/ALLCools/dmr/fimo.py:60: FutureWarning: to_msgpack is deprecated and will be removed in a future version.\n",
      "It is recommended to use pyarrow for on-the-wire transmission of pandas objects.\n",
      "  final_df.to_msgpack(output_path, compress='zlib')\n"
     ]
    },
    {
     "name": "stdout",
     "output_type": "stream",
     "text": [
      "/home/hanliu/project/mouse_rostral_brain/study/ITSpatial/DMRAnalysis/AggLayerDMR/IT-L6/MotifScan.h5adtemp/MA0687.1.meme, N motif total=34367\n"
     ]
    },
    {
     "name": "stderr",
     "output_type": "stream",
     "text": [
      "/home/hanliu/miniconda3/envs/clustering/lib/python3.7/site-packages/ALLCools/dmr/fimo.py:60: FutureWarning: to_msgpack is deprecated and will be removed in a future version.\n",
      "It is recommended to use pyarrow for on-the-wire transmission of pandas objects.\n",
      "  final_df.to_msgpack(output_path, compress='zlib')\n"
     ]
    },
    {
     "name": "stdout",
     "output_type": "stream",
     "text": [
      "/home/hanliu/project/mouse_rostral_brain/study/ITSpatial/DMRAnalysis/AggLayerDMR/IT-L6/MotifScan.h5adtemp/MA0595.1.meme, N motif total=26530\n"
     ]
    },
    {
     "name": "stderr",
     "output_type": "stream",
     "text": [
      "/home/hanliu/miniconda3/envs/clustering/lib/python3.7/site-packages/ALLCools/dmr/fimo.py:60: FutureWarning: to_msgpack is deprecated and will be removed in a future version.\n",
      "It is recommended to use pyarrow for on-the-wire transmission of pandas objects.\n",
      "  final_df.to_msgpack(output_path, compress='zlib')\n"
     ]
    },
    {
     "name": "stdout",
     "output_type": "stream",
     "text": [
      "/home/hanliu/project/mouse_rostral_brain/study/ITSpatial/DMRAnalysis/AggLayerDMR/IT-L6/MotifScan.h5adtemp/MA0596.1.meme, N motif total=28342\n"
     ]
    },
    {
     "name": "stderr",
     "output_type": "stream",
     "text": [
      "/home/hanliu/miniconda3/envs/clustering/lib/python3.7/site-packages/ALLCools/dmr/fimo.py:60: FutureWarning: to_msgpack is deprecated and will be removed in a future version.\n",
      "It is recommended to use pyarrow for on-the-wire transmission of pandas objects.\n",
      "  final_df.to_msgpack(output_path, compress='zlib')\n"
     ]
    },
    {
     "name": "stdout",
     "output_type": "stream",
     "text": [
      "/home/hanliu/project/mouse_rostral_brain/study/ITSpatial/DMRAnalysis/AggLayerDMR/IT-L6/MotifScan.h5adtemp/MA0828.1.meme, N motif total=14793\n"
     ]
    },
    {
     "name": "stderr",
     "output_type": "stream",
     "text": [
      "/home/hanliu/miniconda3/envs/clustering/lib/python3.7/site-packages/ALLCools/dmr/fimo.py:60: FutureWarning: to_msgpack is deprecated and will be removed in a future version.\n",
      "It is recommended to use pyarrow for on-the-wire transmission of pandas objects.\n",
      "  final_df.to_msgpack(output_path, compress='zlib')\n"
     ]
    },
    {
     "name": "stdout",
     "output_type": "stream",
     "text": [
      "/home/hanliu/project/mouse_rostral_brain/study/ITSpatial/DMRAnalysis/AggLayerDMR/IT-L6/MotifScan.h5adtemp/MA0084.1.meme, N motif total=18167\n"
     ]
    },
    {
     "name": "stderr",
     "output_type": "stream",
     "text": [
      "/home/hanliu/miniconda3/envs/clustering/lib/python3.7/site-packages/ALLCools/dmr/fimo.py:60: FutureWarning: to_msgpack is deprecated and will be removed in a future version.\n",
      "It is recommended to use pyarrow for on-the-wire transmission of pandas objects.\n",
      "  final_df.to_msgpack(output_path, compress='zlib')\n"
     ]
    },
    {
     "name": "stdout",
     "output_type": "stream",
     "text": [
      "/home/hanliu/project/mouse_rostral_brain/study/ITSpatial/DMRAnalysis/AggLayerDMR/IT-L6/MotifScan.h5adtemp/MA0829.2.meme, N motif total=22931\n"
     ]
    },
    {
     "name": "stderr",
     "output_type": "stream",
     "text": [
      "/home/hanliu/miniconda3/envs/clustering/lib/python3.7/site-packages/ALLCools/dmr/fimo.py:60: FutureWarning: to_msgpack is deprecated and will be removed in a future version.\n",
      "It is recommended to use pyarrow for on-the-wire transmission of pandas objects.\n",
      "  final_df.to_msgpack(output_path, compress='zlib')\n"
     ]
    },
    {
     "name": "stdout",
     "output_type": "stream",
     "text": [
      "/home/hanliu/project/mouse_rostral_brain/study/ITSpatial/DMRAnalysis/AggLayerDMR/IT-L6/MotifScan.h5adtemp/MA0081.2.meme, N motif total=84713\n"
     ]
    },
    {
     "name": "stderr",
     "output_type": "stream",
     "text": [
      "/home/hanliu/miniconda3/envs/clustering/lib/python3.7/site-packages/ALLCools/dmr/fimo.py:60: FutureWarning: to_msgpack is deprecated and will be removed in a future version.\n",
      "It is recommended to use pyarrow for on-the-wire transmission of pandas objects.\n",
      "  final_df.to_msgpack(output_path, compress='zlib')\n"
     ]
    },
    {
     "name": "stdout",
     "output_type": "stream",
     "text": [
      "/home/hanliu/project/mouse_rostral_brain/study/ITSpatial/DMRAnalysis/AggLayerDMR/IT-L6/MotifScan.h5adtemp/MA0080.5.meme, N motif total=117193\n"
     ]
    },
    {
     "name": "stderr",
     "output_type": "stream",
     "text": [
      "/home/hanliu/miniconda3/envs/clustering/lib/python3.7/site-packages/ALLCools/dmr/fimo.py:60: FutureWarning: to_msgpack is deprecated and will be removed in a future version.\n",
      "It is recommended to use pyarrow for on-the-wire transmission of pandas objects.\n",
      "  final_df.to_msgpack(output_path, compress='zlib')\n"
     ]
    },
    {
     "name": "stdout",
     "output_type": "stream",
     "text": [
      "/home/hanliu/project/mouse_rostral_brain/study/ITSpatial/DMRAnalysis/AggLayerDMR/IT-L6/MotifScan.h5adtemp/MA0137.3.meme, N motif total=44238\n"
     ]
    },
    {
     "name": "stderr",
     "output_type": "stream",
     "text": [
      "/home/hanliu/miniconda3/envs/clustering/lib/python3.7/site-packages/ALLCools/dmr/fimo.py:60: FutureWarning: to_msgpack is deprecated and will be removed in a future version.\n",
      "It is recommended to use pyarrow for on-the-wire transmission of pandas objects.\n",
      "  final_df.to_msgpack(output_path, compress='zlib')\n"
     ]
    },
    {
     "name": "stdout",
     "output_type": "stream",
     "text": [
      "/home/hanliu/project/mouse_rostral_brain/study/ITSpatial/DMRAnalysis/AggLayerDMR/IT-L6/MotifScan.h5adtemp/MA0144.2.meme, N motif total=55444\n"
     ]
    },
    {
     "name": "stderr",
     "output_type": "stream",
     "text": [
      "/home/hanliu/miniconda3/envs/clustering/lib/python3.7/site-packages/ALLCools/dmr/fimo.py:60: FutureWarning: to_msgpack is deprecated and will be removed in a future version.\n",
      "It is recommended to use pyarrow for on-the-wire transmission of pandas objects.\n",
      "  final_df.to_msgpack(output_path, compress='zlib')\n"
     ]
    },
    {
     "name": "stdout",
     "output_type": "stream",
     "text": [
      "/home/hanliu/project/mouse_rostral_brain/study/ITSpatial/DMRAnalysis/AggLayerDMR/IT-L6/MotifScan.h5adtemp/MA1624.1.meme, N motif total=43824\n"
     ]
    },
    {
     "name": "stderr",
     "output_type": "stream",
     "text": [
      "/home/hanliu/miniconda3/envs/clustering/lib/python3.7/site-packages/ALLCools/dmr/fimo.py:60: FutureWarning: to_msgpack is deprecated and will be removed in a future version.\n",
      "It is recommended to use pyarrow for on-the-wire transmission of pandas objects.\n",
      "  final_df.to_msgpack(output_path, compress='zlib')\n"
     ]
    },
    {
     "name": "stdout",
     "output_type": "stream",
     "text": [
      "/home/hanliu/project/mouse_rostral_brain/study/ITSpatial/DMRAnalysis/AggLayerDMR/IT-L6/MotifScan.h5adtemp/MA0083.3.meme, N motif total=7196\n"
     ]
    },
    {
     "name": "stderr",
     "output_type": "stream",
     "text": [
      "/home/hanliu/miniconda3/envs/clustering/lib/python3.7/site-packages/ALLCools/dmr/fimo.py:60: FutureWarning: to_msgpack is deprecated and will be removed in a future version.\n",
      "It is recommended to use pyarrow for on-the-wire transmission of pandas objects.\n",
      "  final_df.to_msgpack(output_path, compress='zlib')\n"
     ]
    },
    {
     "name": "stdout",
     "output_type": "stream",
     "text": [
      "Finish count 600 motifs.\n"
     ]
    },
    {
     "name": "stdout",
     "output_type": "stream",
     "text": [
      "/home/hanliu/project/mouse_rostral_brain/study/ITSpatial/DMRAnalysis/AggLayerDMR/IT-L6/MotifScan.h5adtemp/MA0805.1.meme, N motif total=27629\n"
     ]
    },
    {
     "name": "stderr",
     "output_type": "stream",
     "text": [
      "/home/hanliu/miniconda3/envs/clustering/lib/python3.7/site-packages/ALLCools/dmr/fimo.py:60: FutureWarning: to_msgpack is deprecated and will be removed in a future version.\n",
      "It is recommended to use pyarrow for on-the-wire transmission of pandas objects.\n",
      "  final_df.to_msgpack(output_path, compress='zlib')\n"
     ]
    },
    {
     "name": "stdout",
     "output_type": "stream",
     "text": [
      "/home/hanliu/project/mouse_rostral_brain/study/ITSpatial/DMRAnalysis/AggLayerDMR/IT-L6/MotifScan.h5adtemp/MA0803.1.meme, N motif total=25922\n"
     ]
    },
    {
     "name": "stderr",
     "output_type": "stream",
     "text": [
      "/home/hanliu/miniconda3/envs/clustering/lib/python3.7/site-packages/ALLCools/dmr/fimo.py:60: FutureWarning: to_msgpack is deprecated and will be removed in a future version.\n",
      "It is recommended to use pyarrow for on-the-wire transmission of pandas objects.\n",
      "  final_df.to_msgpack(output_path, compress='zlib')\n"
     ]
    },
    {
     "name": "stdout",
     "output_type": "stream",
     "text": [
      "/home/hanliu/project/mouse_rostral_brain/study/ITSpatial/DMRAnalysis/AggLayerDMR/IT-L6/MotifScan.h5adtemp/MA0518.1.meme, N motif total=49124\n"
     ]
    },
    {
     "name": "stderr",
     "output_type": "stream",
     "text": [
      "/home/hanliu/miniconda3/envs/clustering/lib/python3.7/site-packages/ALLCools/dmr/fimo.py:60: FutureWarning: to_msgpack is deprecated and will be removed in a future version.\n",
      "It is recommended to use pyarrow for on-the-wire transmission of pandas objects.\n",
      "  final_df.to_msgpack(output_path, compress='zlib')\n"
     ]
    },
    {
     "name": "stdout",
     "output_type": "stream",
     "text": [
      "/home/hanliu/project/mouse_rostral_brain/study/ITSpatial/DMRAnalysis/AggLayerDMR/IT-L6/MotifScan.h5adtemp/MA0519.1.meme, N motif total=48992\n"
     ]
    },
    {
     "name": "stderr",
     "output_type": "stream",
     "text": [
      "/home/hanliu/miniconda3/envs/clustering/lib/python3.7/site-packages/ALLCools/dmr/fimo.py:60: FutureWarning: to_msgpack is deprecated and will be removed in a future version.\n",
      "It is recommended to use pyarrow for on-the-wire transmission of pandas objects.\n",
      "  final_df.to_msgpack(output_path, compress='zlib')\n"
     ]
    },
    {
     "name": "stdout",
     "output_type": "stream",
     "text": [
      "/home/hanliu/project/mouse_rostral_brain/study/ITSpatial/DMRAnalysis/AggLayerDMR/IT-L6/MotifScan.h5adtemp/MA0517.1.meme, N motif total=68471\n"
     ]
    },
    {
     "name": "stderr",
     "output_type": "stream",
     "text": [
      "/home/hanliu/miniconda3/envs/clustering/lib/python3.7/site-packages/ALLCools/dmr/fimo.py:60: FutureWarning: to_msgpack is deprecated and will be removed in a future version.\n",
      "It is recommended to use pyarrow for on-the-wire transmission of pandas objects.\n",
      "  final_df.to_msgpack(output_path, compress='zlib')\n"
     ]
    },
    {
     "name": "stdout",
     "output_type": "stream",
     "text": [
      "/home/hanliu/project/mouse_rostral_brain/study/ITSpatial/DMRAnalysis/AggLayerDMR/IT-L6/MotifScan.h5adtemp/MA1623.1.meme, N motif total=95545\n"
     ]
    },
    {
     "name": "stderr",
     "output_type": "stream",
     "text": [
      "/home/hanliu/miniconda3/envs/clustering/lib/python3.7/site-packages/ALLCools/dmr/fimo.py:60: FutureWarning: to_msgpack is deprecated and will be removed in a future version.\n",
      "It is recommended to use pyarrow for on-the-wire transmission of pandas objects.\n",
      "  final_df.to_msgpack(output_path, compress='zlib')\n"
     ]
    },
    {
     "name": "stdout",
     "output_type": "stream",
     "text": [
      "/home/hanliu/project/mouse_rostral_brain/study/ITSpatial/DMRAnalysis/AggLayerDMR/IT-L6/MotifScan.h5adtemp/MA0802.1.meme, N motif total=30804\n"
     ]
    },
    {
     "name": "stderr",
     "output_type": "stream",
     "text": [
      "/home/hanliu/miniconda3/envs/clustering/lib/python3.7/site-packages/ALLCools/dmr/fimo.py:60: FutureWarning: to_msgpack is deprecated and will be removed in a future version.\n",
      "It is recommended to use pyarrow for on-the-wire transmission of pandas objects.\n",
      "  final_df.to_msgpack(output_path, compress='zlib')\n"
     ]
    },
    {
     "name": "stdout",
     "output_type": "stream",
     "text": [
      "/home/hanliu/project/mouse_rostral_brain/study/ITSpatial/DMRAnalysis/AggLayerDMR/IT-L6/MotifScan.h5adtemp/MA0091.1.meme, N motif total=44005\n"
     ]
    },
    {
     "name": "stderr",
     "output_type": "stream",
     "text": [
      "/home/hanliu/miniconda3/envs/clustering/lib/python3.7/site-packages/ALLCools/dmr/fimo.py:60: FutureWarning: to_msgpack is deprecated and will be removed in a future version.\n",
      "It is recommended to use pyarrow for on-the-wire transmission of pandas objects.\n",
      "  final_df.to_msgpack(output_path, compress='zlib')\n"
     ]
    },
    {
     "name": "stdout",
     "output_type": "stream",
     "text": [
      "/home/hanliu/project/mouse_rostral_brain/study/ITSpatial/DMRAnalysis/AggLayerDMR/IT-L6/MotifScan.h5adtemp/MA1565.1.meme, N motif total=43156\n"
     ]
    },
    {
     "name": "stderr",
     "output_type": "stream",
     "text": [
      "/home/hanliu/miniconda3/envs/clustering/lib/python3.7/site-packages/ALLCools/dmr/fimo.py:60: FutureWarning: to_msgpack is deprecated and will be removed in a future version.\n",
      "It is recommended to use pyarrow for on-the-wire transmission of pandas objects.\n",
      "  final_df.to_msgpack(output_path, compress='zlib')\n"
     ]
    },
    {
     "name": "stdout",
     "output_type": "stream",
     "text": [
      "/home/hanliu/project/mouse_rostral_brain/study/ITSpatial/DMRAnalysis/AggLayerDMR/IT-L6/MotifScan.h5adtemp/MA0806.1.meme, N motif total=27629\n"
     ]
    },
    {
     "name": "stderr",
     "output_type": "stream",
     "text": [
      "/home/hanliu/miniconda3/envs/clustering/lib/python3.7/site-packages/ALLCools/dmr/fimo.py:60: FutureWarning: to_msgpack is deprecated and will be removed in a future version.\n",
      "It is recommended to use pyarrow for on-the-wire transmission of pandas objects.\n",
      "  final_df.to_msgpack(output_path, compress='zlib')\n"
     ]
    },
    {
     "name": "stdout",
     "output_type": "stream",
     "text": [
      "/home/hanliu/project/mouse_rostral_brain/study/ITSpatial/DMRAnalysis/AggLayerDMR/IT-L6/MotifScan.h5adtemp/MA0108.2.meme, N motif total=15159\n"
     ]
    },
    {
     "name": "stderr",
     "output_type": "stream",
     "text": [
      "/home/hanliu/miniconda3/envs/clustering/lib/python3.7/site-packages/ALLCools/dmr/fimo.py:60: FutureWarning: to_msgpack is deprecated and will be removed in a future version.\n",
      "It is recommended to use pyarrow for on-the-wire transmission of pandas objects.\n",
      "  final_df.to_msgpack(output_path, compress='zlib')\n"
     ]
    },
    {
     "name": "stdout",
     "output_type": "stream",
     "text": [
      "/home/hanliu/project/mouse_rostral_brain/study/ITSpatial/DMRAnalysis/AggLayerDMR/IT-L6/MotifScan.h5adtemp/MA0807.1.meme, N motif total=33297\n"
     ]
    },
    {
     "name": "stderr",
     "output_type": "stream",
     "text": [
      "/home/hanliu/miniconda3/envs/clustering/lib/python3.7/site-packages/ALLCools/dmr/fimo.py:60: FutureWarning: to_msgpack is deprecated and will be removed in a future version.\n",
      "It is recommended to use pyarrow for on-the-wire transmission of pandas objects.\n",
      "  final_df.to_msgpack(output_path, compress='zlib')\n"
     ]
    },
    {
     "name": "stdout",
     "output_type": "stream",
     "text": [
      "/home/hanliu/project/mouse_rostral_brain/study/ITSpatial/DMRAnalysis/AggLayerDMR/IT-L6/MotifScan.h5adtemp/MA0689.1.meme, N motif total=32282\n"
     ]
    },
    {
     "name": "stderr",
     "output_type": "stream",
     "text": [
      "/home/hanliu/miniconda3/envs/clustering/lib/python3.7/site-packages/ALLCools/dmr/fimo.py:60: FutureWarning: to_msgpack is deprecated and will be removed in a future version.\n",
      "It is recommended to use pyarrow for on-the-wire transmission of pandas objects.\n",
      "  final_df.to_msgpack(output_path, compress='zlib')\n"
     ]
    },
    {
     "name": "stdout",
     "output_type": "stream",
     "text": [
      "/home/hanliu/project/mouse_rostral_brain/study/ITSpatial/DMRAnalysis/AggLayerDMR/IT-L6/MotifScan.h5adtemp/MA1566.1.meme, N motif total=31884\n"
     ]
    },
    {
     "name": "stderr",
     "output_type": "stream",
     "text": [
      "/home/hanliu/miniconda3/envs/clustering/lib/python3.7/site-packages/ALLCools/dmr/fimo.py:60: FutureWarning: to_msgpack is deprecated and will be removed in a future version.\n",
      "It is recommended to use pyarrow for on-the-wire transmission of pandas objects.\n",
      "  final_df.to_msgpack(output_path, compress='zlib')\n"
     ]
    },
    {
     "name": "stdout",
     "output_type": "stream",
     "text": [
      "/home/hanliu/project/mouse_rostral_brain/study/ITSpatial/DMRAnalysis/AggLayerDMR/IT-L6/MotifScan.h5adtemp/MA0520.1.meme, N motif total=42456\n"
     ]
    },
    {
     "name": "stderr",
     "output_type": "stream",
     "text": [
      "/home/hanliu/miniconda3/envs/clustering/lib/python3.7/site-packages/ALLCools/dmr/fimo.py:60: FutureWarning: to_msgpack is deprecated and will be removed in a future version.\n",
      "It is recommended to use pyarrow for on-the-wire transmission of pandas objects.\n",
      "  final_df.to_msgpack(output_path, compress='zlib')\n"
     ]
    },
    {
     "name": "stdout",
     "output_type": "stream",
     "text": [
      "/home/hanliu/project/mouse_rostral_brain/study/ITSpatial/DMRAnalysis/AggLayerDMR/IT-L6/MotifScan.h5adtemp/MA1625.1.meme, N motif total=54884\n"
     ]
    },
    {
     "name": "stderr",
     "output_type": "stream",
     "text": [
      "/home/hanliu/miniconda3/envs/clustering/lib/python3.7/site-packages/ALLCools/dmr/fimo.py:60: FutureWarning: to_msgpack is deprecated and will be removed in a future version.\n",
      "It is recommended to use pyarrow for on-the-wire transmission of pandas objects.\n",
      "  final_df.to_msgpack(output_path, compress='zlib')\n"
     ]
    },
    {
     "name": "stdout",
     "output_type": "stream",
     "text": [
      "/home/hanliu/project/mouse_rostral_brain/study/ITSpatial/DMRAnalysis/AggLayerDMR/IT-L6/MotifScan.h5adtemp/MA0688.1.meme, N motif total=30036\n"
     ]
    },
    {
     "name": "stderr",
     "output_type": "stream",
     "text": [
      "/home/hanliu/miniconda3/envs/clustering/lib/python3.7/site-packages/ALLCools/dmr/fimo.py:60: FutureWarning: to_msgpack is deprecated and will be removed in a future version.\n",
      "It is recommended to use pyarrow for on-the-wire transmission of pandas objects.\n",
      "  final_df.to_msgpack(output_path, compress='zlib')\n"
     ]
    },
    {
     "name": "stdout",
     "output_type": "stream",
     "text": [
      "/home/hanliu/project/mouse_rostral_brain/study/ITSpatial/DMRAnalysis/AggLayerDMR/IT-L6/MotifScan.h5adtemp/MA0690.1.meme, N motif total=31521\n"
     ]
    },
    {
     "name": "stderr",
     "output_type": "stream",
     "text": [
      "/home/hanliu/miniconda3/envs/clustering/lib/python3.7/site-packages/ALLCools/dmr/fimo.py:60: FutureWarning: to_msgpack is deprecated and will be removed in a future version.\n",
      "It is recommended to use pyarrow for on-the-wire transmission of pandas objects.\n",
      "  final_df.to_msgpack(output_path, compress='zlib')\n"
     ]
    },
    {
     "name": "stdout",
     "output_type": "stream",
     "text": [
      "/home/hanliu/project/mouse_rostral_brain/study/ITSpatial/DMRAnalysis/AggLayerDMR/IT-L6/MotifScan.h5adtemp/MA1567.1.meme, N motif total=28156\n"
     ]
    },
    {
     "name": "stderr",
     "output_type": "stream",
     "text": [
      "/home/hanliu/miniconda3/envs/clustering/lib/python3.7/site-packages/ALLCools/dmr/fimo.py:60: FutureWarning: to_msgpack is deprecated and will be removed in a future version.\n",
      "It is recommended to use pyarrow for on-the-wire transmission of pandas objects.\n",
      "  final_df.to_msgpack(output_path, compress='zlib')\n"
     ]
    },
    {
     "name": "stdout",
     "output_type": "stream",
     "text": [
      "/home/hanliu/project/mouse_rostral_brain/study/ITSpatial/DMRAnalysis/AggLayerDMR/IT-L6/MotifScan.h5adtemp/MA0804.1.meme, N motif total=22614\n"
     ]
    },
    {
     "name": "stderr",
     "output_type": "stream",
     "text": [
      "/home/hanliu/miniconda3/envs/clustering/lib/python3.7/site-packages/ALLCools/dmr/fimo.py:60: FutureWarning: to_msgpack is deprecated and will be removed in a future version.\n",
      "It is recommended to use pyarrow for on-the-wire transmission of pandas objects.\n",
      "  final_df.to_msgpack(output_path, compress='zlib')\n"
     ]
    },
    {
     "name": "stdout",
     "output_type": "stream",
     "text": [
      "/home/hanliu/project/mouse_rostral_brain/study/ITSpatial/DMRAnalysis/AggLayerDMR/IT-L6/MotifScan.h5adtemp/MA0009.2.meme, N motif total=27408\n"
     ]
    },
    {
     "name": "stderr",
     "output_type": "stream",
     "text": [
      "/home/hanliu/miniconda3/envs/clustering/lib/python3.7/site-packages/ALLCools/dmr/fimo.py:60: FutureWarning: to_msgpack is deprecated and will be removed in a future version.\n",
      "It is recommended to use pyarrow for on-the-wire transmission of pandas objects.\n",
      "  final_df.to_msgpack(output_path, compress='zlib')\n"
     ]
    },
    {
     "name": "stdout",
     "output_type": "stream",
     "text": [
      "/home/hanliu/project/mouse_rostral_brain/study/ITSpatial/DMRAnalysis/AggLayerDMR/IT-L6/MotifScan.h5adtemp/MA1648.1.meme, N motif total=33955\n"
     ]
    },
    {
     "name": "stderr",
     "output_type": "stream",
     "text": [
      "/home/hanliu/miniconda3/envs/clustering/lib/python3.7/site-packages/ALLCools/dmr/fimo.py:60: FutureWarning: to_msgpack is deprecated and will be removed in a future version.\n",
      "It is recommended to use pyarrow for on-the-wire transmission of pandas objects.\n",
      "  final_df.to_msgpack(output_path, compress='zlib')\n"
     ]
    },
    {
     "name": "stdout",
     "output_type": "stream",
     "text": [
      "/home/hanliu/project/mouse_rostral_brain/study/ITSpatial/DMRAnalysis/AggLayerDMR/IT-L6/MotifScan.h5adtemp/MA0521.1.meme, N motif total=63834\n"
     ]
    },
    {
     "name": "stderr",
     "output_type": "stream",
     "text": [
      "/home/hanliu/miniconda3/envs/clustering/lib/python3.7/site-packages/ALLCools/dmr/fimo.py:60: FutureWarning: to_msgpack is deprecated and will be removed in a future version.\n",
      "It is recommended to use pyarrow for on-the-wire transmission of pandas objects.\n",
      "  final_df.to_msgpack(output_path, compress='zlib')\n"
     ]
    },
    {
     "name": "stdout",
     "output_type": "stream",
     "text": [
      "/home/hanliu/project/mouse_rostral_brain/study/ITSpatial/DMRAnalysis/AggLayerDMR/IT-L6/MotifScan.h5adtemp/MA0832.1.meme, N motif total=31757\n"
     ]
    },
    {
     "name": "stderr",
     "output_type": "stream",
     "text": [
      "/home/hanliu/miniconda3/envs/clustering/lib/python3.7/site-packages/ALLCools/dmr/fimo.py:60: FutureWarning: to_msgpack is deprecated and will be removed in a future version.\n",
      "It is recommended to use pyarrow for on-the-wire transmission of pandas objects.\n",
      "  final_df.to_msgpack(output_path, compress='zlib')\n"
     ]
    },
    {
     "name": "stdout",
     "output_type": "stream",
     "text": [
      "/home/hanliu/project/mouse_rostral_brain/study/ITSpatial/DMRAnalysis/AggLayerDMR/IT-L6/MotifScan.h5adtemp/MA1568.1.meme, N motif total=28021\n"
     ]
    },
    {
     "name": "stderr",
     "output_type": "stream",
     "text": [
      "/home/hanliu/miniconda3/envs/clustering/lib/python3.7/site-packages/ALLCools/dmr/fimo.py:60: FutureWarning: to_msgpack is deprecated and will be removed in a future version.\n",
      "It is recommended to use pyarrow for on-the-wire transmission of pandas objects.\n",
      "  final_df.to_msgpack(output_path, compress='zlib')\n"
     ]
    },
    {
     "name": "stdout",
     "output_type": "stream",
     "text": [
      "/home/hanliu/project/mouse_rostral_brain/study/ITSpatial/DMRAnalysis/AggLayerDMR/IT-L6/MotifScan.h5adtemp/MA0522.3.meme, N motif total=30501\n"
     ]
    },
    {
     "name": "stderr",
     "output_type": "stream",
     "text": [
      "/home/hanliu/miniconda3/envs/clustering/lib/python3.7/site-packages/ALLCools/dmr/fimo.py:60: FutureWarning: to_msgpack is deprecated and will be removed in a future version.\n",
      "It is recommended to use pyarrow for on-the-wire transmission of pandas objects.\n",
      "  final_df.to_msgpack(output_path, compress='zlib')\n"
     ]
    },
    {
     "name": "stdout",
     "output_type": "stream",
     "text": [
      "/home/hanliu/project/mouse_rostral_brain/study/ITSpatial/DMRAnalysis/AggLayerDMR/IT-L6/MotifScan.h5adtemp/MA0830.2.meme, N motif total=40099\n"
     ]
    },
    {
     "name": "stderr",
     "output_type": "stream",
     "text": [
      "/home/hanliu/miniconda3/envs/clustering/lib/python3.7/site-packages/ALLCools/dmr/fimo.py:60: FutureWarning: to_msgpack is deprecated and will be removed in a future version.\n",
      "It is recommended to use pyarrow for on-the-wire transmission of pandas objects.\n",
      "  final_df.to_msgpack(output_path, compress='zlib')\n"
     ]
    },
    {
     "name": "stdout",
     "output_type": "stream",
     "text": [
      "/home/hanliu/project/mouse_rostral_brain/study/ITSpatial/DMRAnalysis/AggLayerDMR/IT-L6/MotifScan.h5adtemp/MA0769.2.meme, N motif total=32568\n"
     ]
    },
    {
     "name": "stderr",
     "output_type": "stream",
     "text": [
      "/home/hanliu/miniconda3/envs/clustering/lib/python3.7/site-packages/ALLCools/dmr/fimo.py:60: FutureWarning: to_msgpack is deprecated and will be removed in a future version.\n",
      "It is recommended to use pyarrow for on-the-wire transmission of pandas objects.\n",
      "  final_df.to_msgpack(output_path, compress='zlib')\n"
     ]
    },
    {
     "name": "stdout",
     "output_type": "stream",
     "text": [
      "/home/hanliu/project/mouse_rostral_brain/study/ITSpatial/DMRAnalysis/AggLayerDMR/IT-L6/MotifScan.h5adtemp/MA0632.2.meme, N motif total=12394\n"
     ]
    },
    {
     "name": "stderr",
     "output_type": "stream",
     "text": [
      "/home/hanliu/miniconda3/envs/clustering/lib/python3.7/site-packages/ALLCools/dmr/fimo.py:60: FutureWarning: to_msgpack is deprecated and will be removed in a future version.\n",
      "It is recommended to use pyarrow for on-the-wire transmission of pandas objects.\n",
      "  final_df.to_msgpack(output_path, compress='zlib')\n"
     ]
    },
    {
     "name": "stdout",
     "output_type": "stream",
     "text": [
      "/home/hanliu/project/mouse_rostral_brain/study/ITSpatial/DMRAnalysis/AggLayerDMR/IT-L6/MotifScan.h5adtemp/MA0808.1.meme, N motif total=22693\n"
     ]
    },
    {
     "name": "stderr",
     "output_type": "stream",
     "text": [
      "/home/hanliu/miniconda3/envs/clustering/lib/python3.7/site-packages/ALLCools/dmr/fimo.py:60: FutureWarning: to_msgpack is deprecated and will be removed in a future version.\n",
      "It is recommended to use pyarrow for on-the-wire transmission of pandas objects.\n",
      "  final_df.to_msgpack(output_path, compress='zlib')\n"
     ]
    },
    {
     "name": "stdout",
     "output_type": "stream",
     "text": [
      "/home/hanliu/project/mouse_rostral_brain/study/ITSpatial/DMRAnalysis/AggLayerDMR/IT-L6/MotifScan.h5adtemp/MA1421.1.meme, N motif total=37491\n"
     ]
    },
    {
     "name": "stderr",
     "output_type": "stream",
     "text": [
      "/home/hanliu/miniconda3/envs/clustering/lib/python3.7/site-packages/ALLCools/dmr/fimo.py:60: FutureWarning: to_msgpack is deprecated and will be removed in a future version.\n",
      "It is recommended to use pyarrow for on-the-wire transmission of pandas objects.\n",
      "  final_df.to_msgpack(output_path, compress='zlib')\n"
     ]
    },
    {
     "name": "stdout",
     "output_type": "stream",
     "text": [
      "/home/hanliu/project/mouse_rostral_brain/study/ITSpatial/DMRAnalysis/AggLayerDMR/IT-L6/MotifScan.h5adtemp/MA0090.3.meme, N motif total=33734\n"
     ]
    },
    {
     "name": "stderr",
     "output_type": "stream",
     "text": [
      "/home/hanliu/miniconda3/envs/clustering/lib/python3.7/site-packages/ALLCools/dmr/fimo.py:60: FutureWarning: to_msgpack is deprecated and will be removed in a future version.\n",
      "It is recommended to use pyarrow for on-the-wire transmission of pandas objects.\n",
      "  final_df.to_msgpack(output_path, compress='zlib')\n"
     ]
    },
    {
     "name": "stdout",
     "output_type": "stream",
     "text": [
      "/home/hanliu/project/mouse_rostral_brain/study/ITSpatial/DMRAnalysis/AggLayerDMR/IT-L6/MotifScan.h5adtemp/MA1121.1.meme, N motif total=30287\n"
     ]
    },
    {
     "name": "stderr",
     "output_type": "stream",
     "text": [
      "/home/hanliu/miniconda3/envs/clustering/lib/python3.7/site-packages/ALLCools/dmr/fimo.py:60: FutureWarning: to_msgpack is deprecated and will be removed in a future version.\n",
      "It is recommended to use pyarrow for on-the-wire transmission of pandas objects.\n",
      "  final_df.to_msgpack(output_path, compress='zlib')\n"
     ]
    },
    {
     "name": "stdout",
     "output_type": "stream",
     "text": [
      "/home/hanliu/project/mouse_rostral_brain/study/ITSpatial/DMRAnalysis/AggLayerDMR/IT-L6/MotifScan.h5adtemp/MA0523.1.meme, N motif total=38913\n"
     ]
    },
    {
     "name": "stderr",
     "output_type": "stream",
     "text": [
      "/home/hanliu/miniconda3/envs/clustering/lib/python3.7/site-packages/ALLCools/dmr/fimo.py:60: FutureWarning: to_msgpack is deprecated and will be removed in a future version.\n",
      "It is recommended to use pyarrow for on-the-wire transmission of pandas objects.\n",
      "  final_df.to_msgpack(output_path, compress='zlib')\n"
     ]
    },
    {
     "name": "stdout",
     "output_type": "stream",
     "text": [
      "/home/hanliu/project/mouse_rostral_brain/study/ITSpatial/DMRAnalysis/AggLayerDMR/IT-L6/MotifScan.h5adtemp/MA0809.2.meme, N motif total=37292\n"
     ]
    },
    {
     "name": "stderr",
     "output_type": "stream",
     "text": [
      "/home/hanliu/miniconda3/envs/clustering/lib/python3.7/site-packages/ALLCools/dmr/fimo.py:60: FutureWarning: to_msgpack is deprecated and will be removed in a future version.\n",
      "It is recommended to use pyarrow for on-the-wire transmission of pandas objects.\n",
      "  final_df.to_msgpack(output_path, compress='zlib')\n"
     ]
    },
    {
     "name": "stdout",
     "output_type": "stream",
     "text": [
      "/home/hanliu/project/mouse_rostral_brain/study/ITSpatial/DMRAnalysis/AggLayerDMR/IT-L6/MotifScan.h5adtemp/MA0843.1.meme, N motif total=10608\n"
     ]
    },
    {
     "name": "stderr",
     "output_type": "stream",
     "text": [
      "/home/hanliu/miniconda3/envs/clustering/lib/python3.7/site-packages/ALLCools/dmr/fimo.py:60: FutureWarning: to_msgpack is deprecated and will be removed in a future version.\n",
      "It is recommended to use pyarrow for on-the-wire transmission of pandas objects.\n",
      "  final_df.to_msgpack(output_path, compress='zlib')\n"
     ]
    },
    {
     "name": "stdout",
     "output_type": "stream",
     "text": [
      "/home/hanliu/project/mouse_rostral_brain/study/ITSpatial/DMRAnalysis/AggLayerDMR/IT-L6/MotifScan.h5adtemp/MA0810.1.meme, N motif total=31131\n"
     ]
    },
    {
     "name": "stderr",
     "output_type": "stream",
     "text": [
      "/home/hanliu/miniconda3/envs/clustering/lib/python3.7/site-packages/ALLCools/dmr/fimo.py:60: FutureWarning: to_msgpack is deprecated and will be removed in a future version.\n",
      "It is recommended to use pyarrow for on-the-wire transmission of pandas objects.\n",
      "  final_df.to_msgpack(output_path, compress='zlib')\n"
     ]
    },
    {
     "name": "stdout",
     "output_type": "stream",
     "text": [
      "/home/hanliu/project/mouse_rostral_brain/study/ITSpatial/DMRAnalysis/AggLayerDMR/IT-L6/MotifScan.h5adtemp/MA0003.4.meme, N motif total=47555\n"
     ]
    },
    {
     "name": "stderr",
     "output_type": "stream",
     "text": [
      "/home/hanliu/miniconda3/envs/clustering/lib/python3.7/site-packages/ALLCools/dmr/fimo.py:60: FutureWarning: to_msgpack is deprecated and will be removed in a future version.\n",
      "It is recommended to use pyarrow for on-the-wire transmission of pandas objects.\n",
      "  final_df.to_msgpack(output_path, compress='zlib')\n"
     ]
    },
    {
     "name": "stdout",
     "output_type": "stream",
     "text": [
      "/home/hanliu/project/mouse_rostral_brain/study/ITSpatial/DMRAnalysis/AggLayerDMR/IT-L6/MotifScan.h5adtemp/MA0812.1.meme, N motif total=29307\n"
     ]
    },
    {
     "name": "stderr",
     "output_type": "stream",
     "text": [
      "/home/hanliu/miniconda3/envs/clustering/lib/python3.7/site-packages/ALLCools/dmr/fimo.py:60: FutureWarning: to_msgpack is deprecated and will be removed in a future version.\n",
      "It is recommended to use pyarrow for on-the-wire transmission of pandas objects.\n",
      "  final_df.to_msgpack(output_path, compress='zlib')\n"
     ]
    },
    {
     "name": "stdout",
     "output_type": "stream",
     "text": [
      "/home/hanliu/project/mouse_rostral_brain/study/ITSpatial/DMRAnalysis/AggLayerDMR/IT-L6/MotifScan.h5adtemp/MA0872.1.meme, N motif total=30702\n"
     ]
    },
    {
     "name": "stderr",
     "output_type": "stream",
     "text": [
      "/home/hanliu/miniconda3/envs/clustering/lib/python3.7/site-packages/ALLCools/dmr/fimo.py:60: FutureWarning: to_msgpack is deprecated and will be removed in a future version.\n",
      "It is recommended to use pyarrow for on-the-wire transmission of pandas objects.\n",
      "  final_df.to_msgpack(output_path, compress='zlib')\n"
     ]
    },
    {
     "name": "stdout",
     "output_type": "stream",
     "text": [
      "/home/hanliu/project/mouse_rostral_brain/study/ITSpatial/DMRAnalysis/AggLayerDMR/IT-L6/MotifScan.h5adtemp/MA0811.1.meme, N motif total=32414\n"
     ]
    },
    {
     "name": "stderr",
     "output_type": "stream",
     "text": [
      "/home/hanliu/miniconda3/envs/clustering/lib/python3.7/site-packages/ALLCools/dmr/fimo.py:60: FutureWarning: to_msgpack is deprecated and will be removed in a future version.\n",
      "It is recommended to use pyarrow for on-the-wire transmission of pandas objects.\n",
      "  final_df.to_msgpack(output_path, compress='zlib')\n"
     ]
    },
    {
     "name": "stdout",
     "output_type": "stream",
     "text": [
      "/home/hanliu/project/mouse_rostral_brain/study/ITSpatial/DMRAnalysis/AggLayerDMR/IT-L6/MotifScan.h5adtemp/MA0524.2.meme, N motif total=33114\n"
     ]
    },
    {
     "name": "stderr",
     "output_type": "stream",
     "text": [
      "/home/hanliu/miniconda3/envs/clustering/lib/python3.7/site-packages/ALLCools/dmr/fimo.py:60: FutureWarning: to_msgpack is deprecated and will be removed in a future version.\n",
      "It is recommended to use pyarrow for on-the-wire transmission of pandas objects.\n",
      "  final_df.to_msgpack(output_path, compress='zlib')\n"
     ]
    },
    {
     "name": "stdout",
     "output_type": "stream",
     "text": [
      "/home/hanliu/project/mouse_rostral_brain/study/ITSpatial/DMRAnalysis/AggLayerDMR/IT-L6/MotifScan.h5adtemp/MA1569.1.meme, N motif total=30015\n"
     ]
    },
    {
     "name": "stderr",
     "output_type": "stream",
     "text": [
      "/home/hanliu/miniconda3/envs/clustering/lib/python3.7/site-packages/ALLCools/dmr/fimo.py:60: FutureWarning: to_msgpack is deprecated and will be removed in a future version.\n",
      "It is recommended to use pyarrow for on-the-wire transmission of pandas objects.\n",
      "  final_df.to_msgpack(output_path, compress='zlib')\n"
     ]
    },
    {
     "name": "stdout",
     "output_type": "stream",
     "text": [
      "/home/hanliu/project/mouse_rostral_brain/study/ITSpatial/DMRAnalysis/AggLayerDMR/IT-L6/MotifScan.h5adtemp/MA0831.2.meme, N motif total=11968\n"
     ]
    },
    {
     "name": "stderr",
     "output_type": "stream",
     "text": [
      "/home/hanliu/miniconda3/envs/clustering/lib/python3.7/site-packages/ALLCools/dmr/fimo.py:60: FutureWarning: to_msgpack is deprecated and will be removed in a future version.\n",
      "It is recommended to use pyarrow for on-the-wire transmission of pandas objects.\n",
      "  final_df.to_msgpack(output_path, compress='zlib')\n"
     ]
    },
    {
     "name": "stdout",
     "output_type": "stream",
     "text": [
      "/home/hanliu/project/mouse_rostral_brain/study/ITSpatial/DMRAnalysis/AggLayerDMR/IT-L6/MotifScan.h5adtemp/MA1570.1.meme, N motif total=33716\n"
     ]
    },
    {
     "name": "stderr",
     "output_type": "stream",
     "text": [
      "/home/hanliu/miniconda3/envs/clustering/lib/python3.7/site-packages/ALLCools/dmr/fimo.py:60: FutureWarning: to_msgpack is deprecated and will be removed in a future version.\n",
      "It is recommended to use pyarrow for on-the-wire transmission of pandas objects.\n",
      "  final_df.to_msgpack(output_path, compress='zlib')\n"
     ]
    },
    {
     "name": "stdout",
     "output_type": "stream",
     "text": [
      "/home/hanliu/project/mouse_rostral_brain/study/ITSpatial/DMRAnalysis/AggLayerDMR/IT-L6/MotifScan.h5adtemp/MA0145.3.meme, N motif total=10637\n"
     ]
    },
    {
     "name": "stderr",
     "output_type": "stream",
     "text": [
      "/home/hanliu/miniconda3/envs/clustering/lib/python3.7/site-packages/ALLCools/dmr/fimo.py:60: FutureWarning: to_msgpack is deprecated and will be removed in a future version.\n",
      "It is recommended to use pyarrow for on-the-wire transmission of pandas objects.\n",
      "  final_df.to_msgpack(output_path, compress='zlib')\n"
     ]
    },
    {
     "name": "stdout",
     "output_type": "stream",
     "text": [
      "/home/hanliu/project/mouse_rostral_brain/study/ITSpatial/DMRAnalysis/AggLayerDMR/IT-L6/MotifScan.h5adtemp/MA0691.1.meme, N motif total=54939\n"
     ]
    },
    {
     "name": "stderr",
     "output_type": "stream",
     "text": [
      "/home/hanliu/miniconda3/envs/clustering/lib/python3.7/site-packages/ALLCools/dmr/fimo.py:60: FutureWarning: to_msgpack is deprecated and will be removed in a future version.\n",
      "It is recommended to use pyarrow for on-the-wire transmission of pandas objects.\n",
      "  final_df.to_msgpack(output_path, compress='zlib')\n"
     ]
    },
    {
     "name": "stdout",
     "output_type": "stream",
     "text": [
      "/home/hanliu/project/mouse_rostral_brain/study/ITSpatial/DMRAnalysis/AggLayerDMR/IT-L6/MotifScan.h5adtemp/MA0813.1.meme, N motif total=31881\n"
     ]
    },
    {
     "name": "stderr",
     "output_type": "stream",
     "text": [
      "/home/hanliu/miniconda3/envs/clustering/lib/python3.7/site-packages/ALLCools/dmr/fimo.py:60: FutureWarning: to_msgpack is deprecated and will be removed in a future version.\n",
      "It is recommended to use pyarrow for on-the-wire transmission of pandas objects.\n",
      "  final_df.to_msgpack(output_path, compress='zlib')\n"
     ]
    },
    {
     "name": "stdout",
     "output_type": "stream",
     "text": [
      "/home/hanliu/project/mouse_rostral_brain/study/ITSpatial/DMRAnalysis/AggLayerDMR/IT-L6/MotifScan.h5adtemp/MA0871.2.meme, N motif total=18021\n"
     ]
    },
    {
     "name": "stderr",
     "output_type": "stream",
     "text": [
      "/home/hanliu/miniconda3/envs/clustering/lib/python3.7/site-packages/ALLCools/dmr/fimo.py:60: FutureWarning: to_msgpack is deprecated and will be removed in a future version.\n",
      "It is recommended to use pyarrow for on-the-wire transmission of pandas objects.\n",
      "  final_df.to_msgpack(output_path, compress='zlib')\n"
     ]
    },
    {
     "name": "stdout",
     "output_type": "stream",
     "text": [
      "/home/hanliu/project/mouse_rostral_brain/study/ITSpatial/DMRAnalysis/AggLayerDMR/IT-L6/MotifScan.h5adtemp/MA0814.2.meme, N motif total=40199\n"
     ]
    },
    {
     "name": "stderr",
     "output_type": "stream",
     "text": [
      "/home/hanliu/miniconda3/envs/clustering/lib/python3.7/site-packages/ALLCools/dmr/fimo.py:60: FutureWarning: to_msgpack is deprecated and will be removed in a future version.\n",
      "It is recommended to use pyarrow for on-the-wire transmission of pandas objects.\n",
      "  final_df.to_msgpack(output_path, compress='zlib')\n"
     ]
    },
    {
     "name": "stdout",
     "output_type": "stream",
     "text": [
      "/home/hanliu/project/mouse_rostral_brain/study/ITSpatial/DMRAnalysis/AggLayerDMR/IT-L6/MotifScan.h5adtemp/MA0815.1.meme, N motif total=30777\n"
     ]
    },
    {
     "name": "stderr",
     "output_type": "stream",
     "text": [
      "/home/hanliu/miniconda3/envs/clustering/lib/python3.7/site-packages/ALLCools/dmr/fimo.py:60: FutureWarning: to_msgpack is deprecated and will be removed in a future version.\n",
      "It is recommended to use pyarrow for on-the-wire transmission of pandas objects.\n",
      "  final_df.to_msgpack(output_path, compress='zlib')\n"
     ]
    },
    {
     "name": "stdout",
     "output_type": "stream",
     "text": [
      "/home/hanliu/project/mouse_rostral_brain/study/ITSpatial/DMRAnalysis/AggLayerDMR/IT-L6/MotifScan.h5adtemp/MA1122.1.meme, N motif total=10770\n"
     ]
    },
    {
     "name": "stderr",
     "output_type": "stream",
     "text": [
      "/home/hanliu/miniconda3/envs/clustering/lib/python3.7/site-packages/ALLCools/dmr/fimo.py:60: FutureWarning: to_msgpack is deprecated and will be removed in a future version.\n",
      "It is recommended to use pyarrow for on-the-wire transmission of pandas objects.\n",
      "  final_df.to_msgpack(output_path, compress='zlib')\n"
     ]
    },
    {
     "name": "stdout",
     "output_type": "stream",
     "text": [
      "/home/hanliu/project/mouse_rostral_brain/study/ITSpatial/DMRAnalysis/AggLayerDMR/IT-L6/MotifScan.h5adtemp/MA0692.1.meme, N motif total=24904\n"
     ]
    },
    {
     "name": "stderr",
     "output_type": "stream",
     "text": [
      "/home/hanliu/miniconda3/envs/clustering/lib/python3.7/site-packages/ALLCools/dmr/fimo.py:60: FutureWarning: to_msgpack is deprecated and will be removed in a future version.\n",
      "It is recommended to use pyarrow for on-the-wire transmission of pandas objects.\n",
      "  final_df.to_msgpack(output_path, compress='zlib')\n"
     ]
    },
    {
     "name": "stdout",
     "output_type": "stream",
     "text": [
      "/home/hanliu/project/mouse_rostral_brain/study/ITSpatial/DMRAnalysis/AggLayerDMR/IT-L6/MotifScan.h5adtemp/MA0597.1.meme, N motif total=32125\n"
     ]
    },
    {
     "name": "stderr",
     "output_type": "stream",
     "text": [
      "/home/hanliu/miniconda3/envs/clustering/lib/python3.7/site-packages/ALLCools/dmr/fimo.py:60: FutureWarning: to_msgpack is deprecated and will be removed in a future version.\n",
      "It is recommended to use pyarrow for on-the-wire transmission of pandas objects.\n",
      "  final_df.to_msgpack(output_path, compress='zlib')\n"
     ]
    },
    {
     "name": "stdout",
     "output_type": "stream",
     "text": [
      "/home/hanliu/project/mouse_rostral_brain/study/ITSpatial/DMRAnalysis/AggLayerDMR/IT-L6/MotifScan.h5adtemp/MA0796.1.meme, N motif total=6729\n"
     ]
    },
    {
     "name": "stderr",
     "output_type": "stream",
     "text": [
      "/home/hanliu/miniconda3/envs/clustering/lib/python3.7/site-packages/ALLCools/dmr/fimo.py:60: FutureWarning: to_msgpack is deprecated and will be removed in a future version.\n",
      "It is recommended to use pyarrow for on-the-wire transmission of pandas objects.\n",
      "  final_df.to_msgpack(output_path, compress='zlib')\n"
     ]
    },
    {
     "name": "stdout",
     "output_type": "stream",
     "text": [
      "/home/hanliu/project/mouse_rostral_brain/study/ITSpatial/DMRAnalysis/AggLayerDMR/IT-L6/MotifScan.h5adtemp/MA0797.1.meme, N motif total=43728\n"
     ]
    },
    {
     "name": "stderr",
     "output_type": "stream",
     "text": [
      "/home/hanliu/miniconda3/envs/clustering/lib/python3.7/site-packages/ALLCools/dmr/fimo.py:60: FutureWarning: to_msgpack is deprecated and will be removed in a future version.\n",
      "It is recommended to use pyarrow for on-the-wire transmission of pandas objects.\n",
      "  final_df.to_msgpack(output_path, compress='zlib')\n"
     ]
    },
    {
     "name": "stdout",
     "output_type": "stream",
     "text": [
      "/home/hanliu/project/mouse_rostral_brain/study/ITSpatial/DMRAnalysis/AggLayerDMR/IT-L6/MotifScan.h5adtemp/MA1571.1.meme, N motif total=39646\n"
     ]
    },
    {
     "name": "stderr",
     "output_type": "stream",
     "text": [
      "/home/hanliu/miniconda3/envs/clustering/lib/python3.7/site-packages/ALLCools/dmr/fimo.py:60: FutureWarning: to_msgpack is deprecated and will be removed in a future version.\n",
      "It is recommended to use pyarrow for on-the-wire transmission of pandas objects.\n",
      "  final_df.to_msgpack(output_path, compress='zlib')\n"
     ]
    },
    {
     "name": "stdout",
     "output_type": "stream",
     "text": [
      "/home/hanliu/project/mouse_rostral_brain/study/ITSpatial/DMRAnalysis/AggLayerDMR/IT-L6/MotifScan.h5adtemp/MA1574.1.meme, N motif total=28709\n"
     ]
    },
    {
     "name": "stderr",
     "output_type": "stream",
     "text": [
      "/home/hanliu/miniconda3/envs/clustering/lib/python3.7/site-packages/ALLCools/dmr/fimo.py:60: FutureWarning: to_msgpack is deprecated and will be removed in a future version.\n",
      "It is recommended to use pyarrow for on-the-wire transmission of pandas objects.\n",
      "  final_df.to_msgpack(output_path, compress='zlib')\n"
     ]
    },
    {
     "name": "stdout",
     "output_type": "stream",
     "text": [
      "/home/hanliu/project/mouse_rostral_brain/study/ITSpatial/DMRAnalysis/AggLayerDMR/IT-L6/MotifScan.h5adtemp/MA1577.1.meme, N motif total=7365\n"
     ]
    },
    {
     "name": "stderr",
     "output_type": "stream",
     "text": [
      "/home/hanliu/miniconda3/envs/clustering/lib/python3.7/site-packages/ALLCools/dmr/fimo.py:60: FutureWarning: to_msgpack is deprecated and will be removed in a future version.\n",
      "It is recommended to use pyarrow for on-the-wire transmission of pandas objects.\n",
      "  final_df.to_msgpack(output_path, compress='zlib')\n"
     ]
    },
    {
     "name": "stdout",
     "output_type": "stream",
     "text": [
      "/home/hanliu/project/mouse_rostral_brain/study/ITSpatial/DMRAnalysis/AggLayerDMR/IT-L6/MotifScan.h5adtemp/MA1573.1.meme, N motif total=17270\n"
     ]
    },
    {
     "name": "stderr",
     "output_type": "stream",
     "text": [
      "/home/hanliu/miniconda3/envs/clustering/lib/python3.7/site-packages/ALLCools/dmr/fimo.py:60: FutureWarning: to_msgpack is deprecated and will be removed in a future version.\n",
      "It is recommended to use pyarrow for on-the-wire transmission of pandas objects.\n",
      "  final_df.to_msgpack(output_path, compress='zlib')\n"
     ]
    },
    {
     "name": "stdout",
     "output_type": "stream",
     "text": [
      "/home/hanliu/project/mouse_rostral_brain/study/ITSpatial/DMRAnalysis/AggLayerDMR/IT-L6/MotifScan.h5adtemp/MA0721.1.meme, N motif total=9846\n"
     ]
    },
    {
     "name": "stderr",
     "output_type": "stream",
     "text": [
      "/home/hanliu/miniconda3/envs/clustering/lib/python3.7/site-packages/ALLCools/dmr/fimo.py:60: FutureWarning: to_msgpack is deprecated and will be removed in a future version.\n",
      "It is recommended to use pyarrow for on-the-wire transmission of pandas objects.\n",
      "  final_df.to_msgpack(output_path, compress='zlib')\n"
     ]
    },
    {
     "name": "stdout",
     "output_type": "stream",
     "text": [
      "/home/hanliu/project/mouse_rostral_brain/study/ITSpatial/DMRAnalysis/AggLayerDMR/IT-L6/MotifScan.h5adtemp/MA1575.1.meme, N motif total=22070\n"
     ]
    },
    {
     "name": "stderr",
     "output_type": "stream",
     "text": [
      "/home/hanliu/miniconda3/envs/clustering/lib/python3.7/site-packages/ALLCools/dmr/fimo.py:60: FutureWarning: to_msgpack is deprecated and will be removed in a future version.\n",
      "It is recommended to use pyarrow for on-the-wire transmission of pandas objects.\n",
      "  final_df.to_msgpack(output_path, compress='zlib')\n"
     ]
    },
    {
     "name": "stdout",
     "output_type": "stream",
     "text": [
      "/home/hanliu/project/mouse_rostral_brain/study/ITSpatial/DMRAnalysis/AggLayerDMR/IT-L6/MotifScan.h5adtemp/MA0722.1.meme, N motif total=9734\n"
     ]
    },
    {
     "name": "stderr",
     "output_type": "stream",
     "text": [
      "/home/hanliu/miniconda3/envs/clustering/lib/python3.7/site-packages/ALLCools/dmr/fimo.py:60: FutureWarning: to_msgpack is deprecated and will be removed in a future version.\n",
      "It is recommended to use pyarrow for on-the-wire transmission of pandas objects.\n",
      "  final_df.to_msgpack(output_path, compress='zlib')\n"
     ]
    },
    {
     "name": "stdout",
     "output_type": "stream",
     "text": [
      "/home/hanliu/project/mouse_rostral_brain/study/ITSpatial/DMRAnalysis/AggLayerDMR/IT-L6/MotifScan.h5adtemp/MA0633.1.meme, N motif total=37460\n"
     ]
    },
    {
     "name": "stderr",
     "output_type": "stream",
     "text": [
      "/home/hanliu/miniconda3/envs/clustering/lib/python3.7/site-packages/ALLCools/dmr/fimo.py:60: FutureWarning: to_msgpack is deprecated and will be removed in a future version.\n",
      "It is recommended to use pyarrow for on-the-wire transmission of pandas objects.\n",
      "  final_df.to_msgpack(output_path, compress='zlib')\n"
     ]
    },
    {
     "name": "stdout",
     "output_type": "stream",
     "text": [
      "/home/hanliu/project/mouse_rostral_brain/study/ITSpatial/DMRAnalysis/AggLayerDMR/IT-L6/MotifScan.h5adtemp/MA1123.2.meme, N motif total=49344\n"
     ]
    },
    {
     "name": "stderr",
     "output_type": "stream",
     "text": [
      "/home/hanliu/miniconda3/envs/clustering/lib/python3.7/site-packages/ALLCools/dmr/fimo.py:60: FutureWarning: to_msgpack is deprecated and will be removed in a future version.\n",
      "It is recommended to use pyarrow for on-the-wire transmission of pandas objects.\n",
      "  final_df.to_msgpack(output_path, compress='zlib')\n"
     ]
    },
    {
     "name": "stdout",
     "output_type": "stream",
     "text": [
      "/home/hanliu/project/mouse_rostral_brain/study/ITSpatial/DMRAnalysis/AggLayerDMR/IT-L6/MotifScan.h5adtemp/MA1576.1.meme, N motif total=17658\n"
     ]
    },
    {
     "name": "stderr",
     "output_type": "stream",
     "text": [
      "/home/hanliu/miniconda3/envs/clustering/lib/python3.7/site-packages/ALLCools/dmr/fimo.py:60: FutureWarning: to_msgpack is deprecated and will be removed in a future version.\n",
      "It is recommended to use pyarrow for on-the-wire transmission of pandas objects.\n",
      "  final_df.to_msgpack(output_path, compress='zlib')\n"
     ]
    },
    {
     "name": "stdout",
     "output_type": "stream",
     "text": [
      "/home/hanliu/project/mouse_rostral_brain/study/ITSpatial/DMRAnalysis/AggLayerDMR/IT-L6/MotifScan.h5adtemp/MA0723.1.meme, N motif total=8951\n"
     ]
    },
    {
     "name": "stderr",
     "output_type": "stream",
     "text": [
      "/home/hanliu/miniconda3/envs/clustering/lib/python3.7/site-packages/ALLCools/dmr/fimo.py:60: FutureWarning: to_msgpack is deprecated and will be removed in a future version.\n",
      "It is recommended to use pyarrow for on-the-wire transmission of pandas objects.\n",
      "  final_df.to_msgpack(output_path, compress='zlib')\n"
     ]
    },
    {
     "name": "stdout",
     "output_type": "stream",
     "text": [
      "/home/hanliu/project/mouse_rostral_brain/study/ITSpatial/DMRAnalysis/AggLayerDMR/IT-L6/MotifScan.h5adtemp/MA0106.3.meme, N motif total=23491\n"
     ]
    },
    {
     "name": "stderr",
     "output_type": "stream",
     "text": [
      "/home/hanliu/miniconda3/envs/clustering/lib/python3.7/site-packages/ALLCools/dmr/fimo.py:60: FutureWarning: to_msgpack is deprecated and will be removed in a future version.\n",
      "It is recommended to use pyarrow for on-the-wire transmission of pandas objects.\n",
      "  final_df.to_msgpack(output_path, compress='zlib')\n"
     ]
    },
    {
     "name": "stdout",
     "output_type": "stream",
     "text": [
      "/home/hanliu/project/mouse_rostral_brain/study/ITSpatial/DMRAnalysis/AggLayerDMR/IT-L6/MotifScan.h5adtemp/MA0525.2.meme, N motif total=2057\n"
     ]
    },
    {
     "name": "stderr",
     "output_type": "stream",
     "text": [
      "/home/hanliu/miniconda3/envs/clustering/lib/python3.7/site-packages/ALLCools/dmr/fimo.py:60: FutureWarning: to_msgpack is deprecated and will be removed in a future version.\n",
      "It is recommended to use pyarrow for on-the-wire transmission of pandas objects.\n",
      "  final_df.to_msgpack(output_path, compress='zlib')\n"
     ]
    },
    {
     "name": "stdout",
     "output_type": "stream",
     "text": [
      "/home/hanliu/project/mouse_rostral_brain/study/ITSpatial/DMRAnalysis/AggLayerDMR/IT-L6/MotifScan.h5adtemp/MA0725.1.meme, N motif total=10130\n"
     ]
    },
    {
     "name": "stderr",
     "output_type": "stream",
     "text": [
      "/home/hanliu/miniconda3/envs/clustering/lib/python3.7/site-packages/ALLCools/dmr/fimo.py:60: FutureWarning: to_msgpack is deprecated and will be removed in a future version.\n",
      "It is recommended to use pyarrow for on-the-wire transmission of pandas objects.\n",
      "  final_df.to_msgpack(output_path, compress='zlib')\n"
     ]
    },
    {
     "name": "stdout",
     "output_type": "stream",
     "text": [
      "/home/hanliu/project/mouse_rostral_brain/study/ITSpatial/DMRAnalysis/AggLayerDMR/IT-L6/MotifScan.h5adtemp/MA0093.3.meme, N motif total=32550\n"
     ]
    },
    {
     "name": "stderr",
     "output_type": "stream",
     "text": [
      "/home/hanliu/miniconda3/envs/clustering/lib/python3.7/site-packages/ALLCools/dmr/fimo.py:60: FutureWarning: to_msgpack is deprecated and will be removed in a future version.\n",
      "It is recommended to use pyarrow for on-the-wire transmission of pandas objects.\n",
      "  final_df.to_msgpack(output_path, compress='zlib')\n"
     ]
    },
    {
     "name": "stdout",
     "output_type": "stream",
     "text": [
      "/home/hanliu/project/mouse_rostral_brain/study/ITSpatial/DMRAnalysis/AggLayerDMR/IT-L6/MotifScan.h5adtemp/MA0693.2.meme, N motif total=28549\n"
     ]
    },
    {
     "name": "stderr",
     "output_type": "stream",
     "text": [
      "/home/hanliu/miniconda3/envs/clustering/lib/python3.7/site-packages/ALLCools/dmr/fimo.py:60: FutureWarning: to_msgpack is deprecated and will be removed in a future version.\n",
      "It is recommended to use pyarrow for on-the-wire transmission of pandas objects.\n",
      "  final_df.to_msgpack(output_path, compress='zlib')\n"
     ]
    },
    {
     "name": "stdout",
     "output_type": "stream",
     "text": [
      "/home/hanliu/project/mouse_rostral_brain/study/ITSpatial/DMRAnalysis/AggLayerDMR/IT-L6/MotifScan.h5adtemp/MA0861.1.meme, N motif total=24663\n"
     ]
    },
    {
     "name": "stderr",
     "output_type": "stream",
     "text": [
      "/home/hanliu/miniconda3/envs/clustering/lib/python3.7/site-packages/ALLCools/dmr/fimo.py:60: FutureWarning: to_msgpack is deprecated and will be removed in a future version.\n",
      "It is recommended to use pyarrow for on-the-wire transmission of pandas objects.\n",
      "  final_df.to_msgpack(output_path, compress='zlib')\n"
     ]
    },
    {
     "name": "stdout",
     "output_type": "stream",
     "text": [
      "/home/hanliu/project/mouse_rostral_brain/study/ITSpatial/DMRAnalysis/AggLayerDMR/IT-L6/MotifScan.h5adtemp/MA0526.3.meme, N motif total=31795\n"
     ]
    },
    {
     "name": "stderr",
     "output_type": "stream",
     "text": [
      "/home/hanliu/miniconda3/envs/clustering/lib/python3.7/site-packages/ALLCools/dmr/fimo.py:60: FutureWarning: to_msgpack is deprecated and will be removed in a future version.\n",
      "It is recommended to use pyarrow for on-the-wire transmission of pandas objects.\n",
      "  final_df.to_msgpack(output_path, compress='zlib')\n"
     ]
    },
    {
     "name": "stdout",
     "output_type": "stream",
     "text": [
      "/home/hanliu/project/mouse_rostral_brain/study/ITSpatial/DMRAnalysis/AggLayerDMR/IT-L6/MotifScan.h5adtemp/MA0726.1.meme, N motif total=10130\n"
     ]
    },
    {
     "name": "stderr",
     "output_type": "stream",
     "text": [
      "/home/hanliu/miniconda3/envs/clustering/lib/python3.7/site-packages/ALLCools/dmr/fimo.py:60: FutureWarning: to_msgpack is deprecated and will be removed in a future version.\n",
      "It is recommended to use pyarrow for on-the-wire transmission of pandas objects.\n",
      "  final_df.to_msgpack(output_path, compress='zlib')\n"
     ]
    },
    {
     "name": "stdout",
     "output_type": "stream",
     "text": [
      "/home/hanliu/project/mouse_rostral_brain/study/ITSpatial/DMRAnalysis/AggLayerDMR/IT-L6/MotifScan.h5adtemp/MA1578.1.meme, N motif total=61508\n"
     ]
    },
    {
     "name": "stderr",
     "output_type": "stream",
     "text": [
      "/home/hanliu/miniconda3/envs/clustering/lib/python3.7/site-packages/ALLCools/dmr/fimo.py:60: FutureWarning: to_msgpack is deprecated and will be removed in a future version.\n",
      "It is recommended to use pyarrow for on-the-wire transmission of pandas objects.\n",
      "  final_df.to_msgpack(output_path, compress='zlib')\n"
     ]
    },
    {
     "name": "stdout",
     "output_type": "stream",
     "text": [
      "/home/hanliu/project/mouse_rostral_brain/study/ITSpatial/DMRAnalysis/AggLayerDMR/IT-L6/MotifScan.h5adtemp/MA0748.2.meme, N motif total=7950\n"
     ]
    },
    {
     "name": "stderr",
     "output_type": "stream",
     "text": [
      "/home/hanliu/miniconda3/envs/clustering/lib/python3.7/site-packages/ALLCools/dmr/fimo.py:60: FutureWarning: to_msgpack is deprecated and will be removed in a future version.\n",
      "It is recommended to use pyarrow for on-the-wire transmission of pandas objects.\n",
      "  final_df.to_msgpack(output_path, compress='zlib')\n"
     ]
    },
    {
     "name": "stdout",
     "output_type": "stream",
     "text": [
      "/home/hanliu/project/mouse_rostral_brain/study/ITSpatial/DMRAnalysis/AggLayerDMR/IT-L6/MotifScan.h5adtemp/MA0095.2.meme, N motif total=35562\n"
     ]
    },
    {
     "name": "stderr",
     "output_type": "stream",
     "text": [
      "/home/hanliu/miniconda3/envs/clustering/lib/python3.7/site-packages/ALLCools/dmr/fimo.py:60: FutureWarning: to_msgpack is deprecated and will be removed in a future version.\n",
      "It is recommended to use pyarrow for on-the-wire transmission of pandas objects.\n",
      "  final_df.to_msgpack(output_path, compress='zlib')\n"
     ]
    },
    {
     "name": "stdout",
     "output_type": "stream",
     "text": [
      "/home/hanliu/project/mouse_rostral_brain/study/ITSpatial/DMRAnalysis/AggLayerDMR/IT-L6/MotifScan.h5adtemp/MA1580.1.meme, N motif total=19488\n"
     ]
    },
    {
     "name": "stderr",
     "output_type": "stream",
     "text": [
      "/home/hanliu/miniconda3/envs/clustering/lib/python3.7/site-packages/ALLCools/dmr/fimo.py:60: FutureWarning: to_msgpack is deprecated and will be removed in a future version.\n",
      "It is recommended to use pyarrow for on-the-wire transmission of pandas objects.\n",
      "  final_df.to_msgpack(output_path, compress='zlib')\n"
     ]
    },
    {
     "name": "stdout",
     "output_type": "stream",
     "text": [
      "/home/hanliu/project/mouse_rostral_brain/study/ITSpatial/DMRAnalysis/AggLayerDMR/IT-L6/MotifScan.h5adtemp/MA1649.1.meme, N motif total=36352\n"
     ]
    },
    {
     "name": "stderr",
     "output_type": "stream",
     "text": [
      "/home/hanliu/miniconda3/envs/clustering/lib/python3.7/site-packages/ALLCools/dmr/fimo.py:60: FutureWarning: to_msgpack is deprecated and will be removed in a future version.\n",
      "It is recommended to use pyarrow for on-the-wire transmission of pandas objects.\n",
      "  final_df.to_msgpack(output_path, compress='zlib')\n"
     ]
    },
    {
     "name": "stdout",
     "output_type": "stream",
     "text": [
      "/home/hanliu/project/mouse_rostral_brain/study/ITSpatial/DMRAnalysis/AggLayerDMR/IT-L6/MotifScan.h5adtemp/MA1650.1.meme, N motif total=11208\n"
     ]
    },
    {
     "name": "stderr",
     "output_type": "stream",
     "text": [
      "/home/hanliu/miniconda3/envs/clustering/lib/python3.7/site-packages/ALLCools/dmr/fimo.py:60: FutureWarning: to_msgpack is deprecated and will be removed in a future version.\n",
      "It is recommended to use pyarrow for on-the-wire transmission of pandas objects.\n",
      "  final_df.to_msgpack(output_path, compress='zlib')\n"
     ]
    },
    {
     "name": "stdout",
     "output_type": "stream",
     "text": [
      "/home/hanliu/project/mouse_rostral_brain/study/ITSpatial/DMRAnalysis/AggLayerDMR/IT-L6/MotifScan.h5adtemp/MA1627.1.meme, N motif total=113057\n"
     ]
    },
    {
     "name": "stderr",
     "output_type": "stream",
     "text": [
      "/home/hanliu/miniconda3/envs/clustering/lib/python3.7/site-packages/ALLCools/dmr/fimo.py:60: FutureWarning: to_msgpack is deprecated and will be removed in a future version.\n",
      "It is recommended to use pyarrow for on-the-wire transmission of pandas objects.\n",
      "  final_df.to_msgpack(output_path, compress='zlib')\n"
     ]
    },
    {
     "name": "stdout",
     "output_type": "stream",
     "text": [
      "/home/hanliu/project/mouse_rostral_brain/study/ITSpatial/DMRAnalysis/AggLayerDMR/IT-L6/MotifScan.h5adtemp/MA0844.1.meme, N motif total=7345\n"
     ]
    },
    {
     "name": "stderr",
     "output_type": "stream",
     "text": [
      "/home/hanliu/miniconda3/envs/clustering/lib/python3.7/site-packages/ALLCools/dmr/fimo.py:60: FutureWarning: to_msgpack is deprecated and will be removed in a future version.\n",
      "It is recommended to use pyarrow for on-the-wire transmission of pandas objects.\n",
      "  final_df.to_msgpack(output_path, compress='zlib')\n"
     ]
    },
    {
     "name": "stdout",
     "output_type": "stream",
     "text": [
      "/home/hanliu/project/mouse_rostral_brain/study/ITSpatial/DMRAnalysis/AggLayerDMR/IT-L6/MotifScan.h5adtemp/MA0694.1.meme, N motif total=19277\n"
     ]
    },
    {
     "name": "stderr",
     "output_type": "stream",
     "text": [
      "/home/hanliu/miniconda3/envs/clustering/lib/python3.7/site-packages/ALLCools/dmr/fimo.py:60: FutureWarning: to_msgpack is deprecated and will be removed in a future version.\n",
      "It is recommended to use pyarrow for on-the-wire transmission of pandas objects.\n",
      "  final_df.to_msgpack(output_path, compress='zlib')\n"
     ]
    },
    {
     "name": "stdout",
     "output_type": "stream",
     "text": [
      "/home/hanliu/project/mouse_rostral_brain/study/ITSpatial/DMRAnalysis/AggLayerDMR/IT-L6/MotifScan.h5adtemp/MA0695.1.meme, N motif total=23831\n"
     ]
    },
    {
     "name": "stderr",
     "output_type": "stream",
     "text": [
      "/home/hanliu/miniconda3/envs/clustering/lib/python3.7/site-packages/ALLCools/dmr/fimo.py:60: FutureWarning: to_msgpack is deprecated and will be removed in a future version.\n",
      "It is recommended to use pyarrow for on-the-wire transmission of pandas objects.\n",
      "  final_df.to_msgpack(output_path, compress='zlib')\n"
     ]
    },
    {
     "name": "stdout",
     "output_type": "stream",
     "text": [
      "/home/hanliu/project/mouse_rostral_brain/study/ITSpatial/DMRAnalysis/AggLayerDMR/IT-L6/MotifScan.h5adtemp/MA0103.3.meme, N motif total=37530\n"
     ]
    },
    {
     "name": "stderr",
     "output_type": "stream",
     "text": [
      "/home/hanliu/miniconda3/envs/clustering/lib/python3.7/site-packages/ALLCools/dmr/fimo.py:60: FutureWarning: to_msgpack is deprecated and will be removed in a future version.\n",
      "It is recommended to use pyarrow for on-the-wire transmission of pandas objects.\n",
      "  final_df.to_msgpack(output_path, compress='zlib')\n"
     ]
    },
    {
     "name": "stdout",
     "output_type": "stream",
     "text": [
      "/home/hanliu/project/mouse_rostral_brain/study/ITSpatial/DMRAnalysis/AggLayerDMR/IT-L6/MotifScan.h5adtemp/MA1579.1.meme, N motif total=51726\n"
     ]
    },
    {
     "name": "stderr",
     "output_type": "stream",
     "text": [
      "/home/hanliu/miniconda3/envs/clustering/lib/python3.7/site-packages/ALLCools/dmr/fimo.py:60: FutureWarning: to_msgpack is deprecated and will be removed in a future version.\n",
      "It is recommended to use pyarrow for on-the-wire transmission of pandas objects.\n",
      "  final_df.to_msgpack(output_path, compress='zlib')\n"
     ]
    },
    {
     "name": "stdout",
     "output_type": "stream",
     "text": [
      "/home/hanliu/project/mouse_rostral_brain/study/ITSpatial/DMRAnalysis/AggLayerDMR/IT-L6/MotifScan.h5adtemp/MA0698.1.meme, N motif total=48398\n"
     ]
    },
    {
     "name": "stderr",
     "output_type": "stream",
     "text": [
      "/home/hanliu/miniconda3/envs/clustering/lib/python3.7/site-packages/ALLCools/dmr/fimo.py:60: FutureWarning: to_msgpack is deprecated and will be removed in a future version.\n",
      "It is recommended to use pyarrow for on-the-wire transmission of pandas objects.\n",
      "  final_df.to_msgpack(output_path, compress='zlib')\n"
     ]
    },
    {
     "name": "stdout",
     "output_type": "stream",
     "text": [
      "/home/hanliu/project/mouse_rostral_brain/study/ITSpatial/DMRAnalysis/AggLayerDMR/IT-L6/MotifScan.h5adtemp/MA0750.2.meme, N motif total=26191\n"
     ]
    },
    {
     "name": "stderr",
     "output_type": "stream",
     "text": [
      "/home/hanliu/miniconda3/envs/clustering/lib/python3.7/site-packages/ALLCools/dmr/fimo.py:60: FutureWarning: to_msgpack is deprecated and will be removed in a future version.\n",
      "It is recommended to use pyarrow for on-the-wire transmission of pandas objects.\n",
      "  final_df.to_msgpack(output_path, compress='zlib')\n"
     ]
    },
    {
     "name": "stdout",
     "output_type": "stream",
     "text": [
      "/home/hanliu/project/mouse_rostral_brain/study/ITSpatial/DMRAnalysis/AggLayerDMR/IT-L6/MotifScan.h5adtemp/MA1581.1.meme, N motif total=37986\n"
     ]
    },
    {
     "name": "stderr",
     "output_type": "stream",
     "text": [
      "/home/hanliu/miniconda3/envs/clustering/lib/python3.7/site-packages/ALLCools/dmr/fimo.py:60: FutureWarning: to_msgpack is deprecated and will be removed in a future version.\n",
      "It is recommended to use pyarrow for on-the-wire transmission of pandas objects.\n",
      "  final_df.to_msgpack(output_path, compress='zlib')\n"
     ]
    },
    {
     "name": "stdout",
     "output_type": "stream",
     "text": [
      "/home/hanliu/project/mouse_rostral_brain/study/ITSpatial/DMRAnalysis/AggLayerDMR/IT-L6/MotifScan.h5adtemp/MA0527.1.meme, N motif total=3753\n"
     ]
    },
    {
     "name": "stderr",
     "output_type": "stream",
     "text": [
      "/home/hanliu/miniconda3/envs/clustering/lib/python3.7/site-packages/ALLCools/dmr/fimo.py:60: FutureWarning: to_msgpack is deprecated and will be removed in a future version.\n",
      "It is recommended to use pyarrow for on-the-wire transmission of pandas objects.\n",
      "  final_df.to_msgpack(output_path, compress='zlib')\n"
     ]
    },
    {
     "name": "stdout",
     "output_type": "stream",
     "text": [
      "/home/hanliu/project/mouse_rostral_brain/study/ITSpatial/DMRAnalysis/AggLayerDMR/IT-L6/MotifScan.h5adtemp/MA1583.1.meme, N motif total=5112\n"
     ]
    },
    {
     "name": "stderr",
     "output_type": "stream",
     "text": [
      "/home/hanliu/miniconda3/envs/clustering/lib/python3.7/site-packages/ALLCools/dmr/fimo.py:60: FutureWarning: to_msgpack is deprecated and will be removed in a future version.\n",
      "It is recommended to use pyarrow for on-the-wire transmission of pandas objects.\n",
      "  final_df.to_msgpack(output_path, compress='zlib')\n"
     ]
    },
    {
     "name": "stdout",
     "output_type": "stream",
     "text": [
      "/home/hanliu/project/mouse_rostral_brain/study/ITSpatial/DMRAnalysis/AggLayerDMR/IT-L6/MotifScan.h5adtemp/MA1628.1.meme, N motif total=41233\n"
     ]
    },
    {
     "name": "stderr",
     "output_type": "stream",
     "text": [
      "/home/hanliu/miniconda3/envs/clustering/lib/python3.7/site-packages/ALLCools/dmr/fimo.py:60: FutureWarning: to_msgpack is deprecated and will be removed in a future version.\n",
      "It is recommended to use pyarrow for on-the-wire transmission of pandas objects.\n",
      "  final_df.to_msgpack(output_path, compress='zlib')\n"
     ]
    },
    {
     "name": "stdout",
     "output_type": "stream",
     "text": [
      "/home/hanliu/project/mouse_rostral_brain/study/ITSpatial/DMRAnalysis/AggLayerDMR/IT-L6/MotifScan.h5adtemp/MA0146.2.meme, N motif total=37673\n"
     ]
    },
    {
     "name": "stderr",
     "output_type": "stream",
     "text": [
      "/home/hanliu/miniconda3/envs/clustering/lib/python3.7/site-packages/ALLCools/dmr/fimo.py:60: FutureWarning: to_msgpack is deprecated and will be removed in a future version.\n",
      "It is recommended to use pyarrow for on-the-wire transmission of pandas objects.\n",
      "  final_df.to_msgpack(output_path, compress='zlib')\n"
     ]
    },
    {
     "name": "stdout",
     "output_type": "stream",
     "text": [
      "/home/hanliu/project/mouse_rostral_brain/study/ITSpatial/DMRAnalysis/AggLayerDMR/IT-L6/MotifScan.h5adtemp/MA0696.1.meme, N motif total=20302\n"
     ]
    },
    {
     "name": "stderr",
     "output_type": "stream",
     "text": [
      "/home/hanliu/miniconda3/envs/clustering/lib/python3.7/site-packages/ALLCools/dmr/fimo.py:60: FutureWarning: to_msgpack is deprecated and will be removed in a future version.\n",
      "It is recommended to use pyarrow for on-the-wire transmission of pandas objects.\n",
      "  final_df.to_msgpack(output_path, compress='zlib')\n"
     ]
    },
    {
     "name": "stdout",
     "output_type": "stream",
     "text": [
      "/home/hanliu/project/mouse_rostral_brain/study/ITSpatial/DMRAnalysis/AggLayerDMR/IT-L6/MotifScan.h5adtemp/MA1629.1.meme, N motif total=65538\n"
     ]
    },
    {
     "name": "stderr",
     "output_type": "stream",
     "text": [
      "/home/hanliu/miniconda3/envs/clustering/lib/python3.7/site-packages/ALLCools/dmr/fimo.py:60: FutureWarning: to_msgpack is deprecated and will be removed in a future version.\n",
      "It is recommended to use pyarrow for on-the-wire transmission of pandas objects.\n",
      "  final_df.to_msgpack(output_path, compress='zlib')\n"
     ]
    },
    {
     "name": "stdout",
     "output_type": "stream",
     "text": [
      "/home/hanliu/project/mouse_rostral_brain/study/ITSpatial/DMRAnalysis/AggLayerDMR/IT-L6/MotifScan.h5adtemp/MA1651.1.meme, N motif total=36955\n"
     ]
    },
    {
     "name": "stderr",
     "output_type": "stream",
     "text": [
      "/home/hanliu/miniconda3/envs/clustering/lib/python3.7/site-packages/ALLCools/dmr/fimo.py:60: FutureWarning: to_msgpack is deprecated and will be removed in a future version.\n",
      "It is recommended to use pyarrow for on-the-wire transmission of pandas objects.\n",
      "  final_df.to_msgpack(output_path, compress='zlib')\n"
     ]
    },
    {
     "name": "stdout",
     "output_type": "stream",
     "text": [
      "/home/hanliu/project/mouse_rostral_brain/study/ITSpatial/DMRAnalysis/AggLayerDMR/IT-L6/MotifScan.h5adtemp/MA0697.1.meme, N motif total=26474\n"
     ]
    },
    {
     "name": "stderr",
     "output_type": "stream",
     "text": [
      "/home/hanliu/miniconda3/envs/clustering/lib/python3.7/site-packages/ALLCools/dmr/fimo.py:60: FutureWarning: to_msgpack is deprecated and will be removed in a future version.\n",
      "It is recommended to use pyarrow for on-the-wire transmission of pandas objects.\n",
      "  final_df.to_msgpack(output_path, compress='zlib')\n"
     ]
    },
    {
     "name": "stdout",
     "output_type": "stream",
     "text": [
      "/home/hanliu/project/mouse_rostral_brain/study/ITSpatial/DMRAnalysis/AggLayerDMR/IT-L6/MotifScan.h5adtemp/MA0751.1.meme, N motif total=24092\n"
     ]
    },
    {
     "name": "stderr",
     "output_type": "stream",
     "text": [
      "/home/hanliu/miniconda3/envs/clustering/lib/python3.7/site-packages/ALLCools/dmr/fimo.py:60: FutureWarning: to_msgpack is deprecated and will be removed in a future version.\n",
      "It is recommended to use pyarrow for on-the-wire transmission of pandas objects.\n",
      "  final_df.to_msgpack(output_path, compress='zlib')\n"
     ]
    },
    {
     "name": "stdout",
     "output_type": "stream",
     "text": [
      "/home/hanliu/project/mouse_rostral_brain/study/ITSpatial/DMRAnalysis/AggLayerDMR/IT-L6/MotifScan.h5adtemp/MA1585.1.meme, N motif total=15782\n"
     ]
    },
    {
     "name": "stderr",
     "output_type": "stream",
     "text": [
      "/home/hanliu/miniconda3/envs/clustering/lib/python3.7/site-packages/ALLCools/dmr/fimo.py:60: FutureWarning: to_msgpack is deprecated and will be removed in a future version.\n",
      "It is recommended to use pyarrow for on-the-wire transmission of pandas objects.\n",
      "  final_df.to_msgpack(output_path, compress='zlib')\n"
     ]
    },
    {
     "name": "stdout",
     "output_type": "stream",
     "text": [
      "Finish count 700 motifs.\n"
     ]
    },
    {
     "name": "stdout",
     "output_type": "stream",
     "text": [
      "/home/hanliu/project/mouse_rostral_brain/study/ITSpatial/DMRAnalysis/AggLayerDMR/IT-L6/MotifScan.h5adtemp/MA1584.1.meme, N motif total=14562\n"
     ]
    },
    {
     "name": "stderr",
     "output_type": "stream",
     "text": [
      "/home/hanliu/miniconda3/envs/clustering/lib/python3.7/site-packages/ALLCools/dmr/fimo.py:60: FutureWarning: to_msgpack is deprecated and will be removed in a future version.\n",
      "It is recommended to use pyarrow for on-the-wire transmission of pandas objects.\n",
      "  final_df.to_msgpack(output_path, compress='zlib')\n"
     ]
    },
    {
     "name": "stdout",
     "output_type": "stream",
     "text": [
      "Motif MA0130.1 ZNF354C do not have any match under current settings.\n"
     ]
    },
    {
     "name": "stdout",
     "output_type": "stream",
     "text": [
      "/home/hanliu/project/mouse_rostral_brain/study/ITSpatial/DMRAnalysis/AggLayerDMR/IT-L6/MotifScan.h5adtemp/MA1630.1.meme, N motif total=61218\n"
     ]
    },
    {
     "name": "stderr",
     "output_type": "stream",
     "text": [
      "/home/hanliu/miniconda3/envs/clustering/lib/python3.7/site-packages/ALLCools/dmr/fimo.py:60: FutureWarning: to_msgpack is deprecated and will be removed in a future version.\n",
      "It is recommended to use pyarrow for on-the-wire transmission of pandas objects.\n",
      "  final_df.to_msgpack(output_path, compress='zlib')\n"
     ]
    },
    {
     "name": "stdout",
     "output_type": "stream",
     "text": [
      "/home/hanliu/project/mouse_rostral_brain/study/ITSpatial/DMRAnalysis/AggLayerDMR/IT-L6/MotifScan.h5adtemp/MA1653.1.meme, N motif total=122659\n"
     ]
    },
    {
     "name": "stderr",
     "output_type": "stream",
     "text": [
      "/home/hanliu/miniconda3/envs/clustering/lib/python3.7/site-packages/ALLCools/dmr/fimo.py:60: FutureWarning: to_msgpack is deprecated and will be removed in a future version.\n",
      "It is recommended to use pyarrow for on-the-wire transmission of pandas objects.\n",
      "  final_df.to_msgpack(output_path, compress='zlib')\n"
     ]
    },
    {
     "name": "stdout",
     "output_type": "stream",
     "text": [
      "/home/hanliu/project/mouse_rostral_brain/study/ITSpatial/DMRAnalysis/AggLayerDMR/IT-L6/MotifScan.h5adtemp/MA1593.1.meme, N motif total=52381\n"
     ]
    },
    {
     "name": "stderr",
     "output_type": "stream",
     "text": [
      "/home/hanliu/miniconda3/envs/clustering/lib/python3.7/site-packages/ALLCools/dmr/fimo.py:60: FutureWarning: to_msgpack is deprecated and will be removed in a future version.\n",
      "It is recommended to use pyarrow for on-the-wire transmission of pandas objects.\n",
      "  final_df.to_msgpack(output_path, compress='zlib')\n"
     ]
    },
    {
     "name": "stdout",
     "output_type": "stream",
     "text": [
      "/home/hanliu/project/mouse_rostral_brain/study/ITSpatial/DMRAnalysis/AggLayerDMR/IT-L6/MotifScan.h5adtemp/MA1124.1.meme, N motif total=39330\n"
     ]
    },
    {
     "name": "stderr",
     "output_type": "stream",
     "text": [
      "/home/hanliu/miniconda3/envs/clustering/lib/python3.7/site-packages/ALLCools/dmr/fimo.py:60: FutureWarning: to_msgpack is deprecated and will be removed in a future version.\n",
      "It is recommended to use pyarrow for on-the-wire transmission of pandas objects.\n",
      "  final_df.to_msgpack(output_path, compress='zlib')\n"
     ]
    },
    {
     "name": "stdout",
     "output_type": "stream",
     "text": [
      "/home/hanliu/project/mouse_rostral_brain/study/ITSpatial/DMRAnalysis/AggLayerDMR/IT-L6/MotifScan.h5adtemp/MA0528.2.meme, N motif total=100064\n"
     ]
    },
    {
     "name": "stderr",
     "output_type": "stream",
     "text": [
      "/home/hanliu/miniconda3/envs/clustering/lib/python3.7/site-packages/ALLCools/dmr/fimo.py:60: FutureWarning: to_msgpack is deprecated and will be removed in a future version.\n",
      "It is recommended to use pyarrow for on-the-wire transmission of pandas objects.\n",
      "  final_df.to_msgpack(output_path, compress='zlib')\n"
     ]
    },
    {
     "name": "stdout",
     "output_type": "stream",
     "text": [
      "/home/hanliu/project/mouse_rostral_brain/study/ITSpatial/DMRAnalysis/AggLayerDMR/IT-L6/MotifScan.h5adtemp/MA1652.1.meme, N motif total=78739\n"
     ]
    },
    {
     "name": "stderr",
     "output_type": "stream",
     "text": [
      "/home/hanliu/miniconda3/envs/clustering/lib/python3.7/site-packages/ALLCools/dmr/fimo.py:60: FutureWarning: to_msgpack is deprecated and will be removed in a future version.\n",
      "It is recommended to use pyarrow for on-the-wire transmission of pandas objects.\n",
      "  final_df.to_msgpack(output_path, compress='zlib')\n"
     ]
    },
    {
     "name": "stdout",
     "output_type": "stream",
     "text": [
      "/home/hanliu/project/mouse_rostral_brain/study/ITSpatial/DMRAnalysis/AggLayerDMR/IT-L6/MotifScan.h5adtemp/MA0088.2.meme, N motif total=8513\n"
     ]
    },
    {
     "name": "stderr",
     "output_type": "stream",
     "text": [
      "/home/hanliu/miniconda3/envs/clustering/lib/python3.7/site-packages/ALLCools/dmr/fimo.py:60: FutureWarning: to_msgpack is deprecated and will be removed in a future version.\n",
      "It is recommended to use pyarrow for on-the-wire transmission of pandas objects.\n",
      "  final_df.to_msgpack(output_path, compress='zlib')\n"
     ]
    },
    {
     "name": "stdout",
     "output_type": "stream",
     "text": [
      "/home/hanliu/project/mouse_rostral_brain/study/ITSpatial/DMRAnalysis/AggLayerDMR/IT-L6/MotifScan.h5adtemp/MA1592.1.meme, N motif total=32123\n"
     ]
    },
    {
     "name": "stderr",
     "output_type": "stream",
     "text": [
      "/home/hanliu/miniconda3/envs/clustering/lib/python3.7/site-packages/ALLCools/dmr/fimo.py:60: FutureWarning: to_msgpack is deprecated and will be removed in a future version.\n",
      "It is recommended to use pyarrow for on-the-wire transmission of pandas objects.\n",
      "  final_df.to_msgpack(output_path, compress='zlib')\n"
     ]
    },
    {
     "name": "stdout",
     "output_type": "stream",
     "text": [
      "/home/hanliu/project/mouse_rostral_brain/study/ITSpatial/DMRAnalysis/AggLayerDMR/IT-L6/MotifScan.h5adtemp/MA1655.1.meme, N motif total=39098\n"
     ]
    },
    {
     "name": "stderr",
     "output_type": "stream",
     "text": [
      "/home/hanliu/miniconda3/envs/clustering/lib/python3.7/site-packages/ALLCools/dmr/fimo.py:60: FutureWarning: to_msgpack is deprecated and will be removed in a future version.\n",
      "It is recommended to use pyarrow for on-the-wire transmission of pandas objects.\n",
      "  final_df.to_msgpack(output_path, compress='zlib')\n"
     ]
    },
    {
     "name": "stdout",
     "output_type": "stream",
     "text": [
      "/home/hanliu/project/mouse_rostral_brain/study/ITSpatial/DMRAnalysis/AggLayerDMR/IT-L6/MotifScan.h5adtemp/MA1154.1.meme, N motif total=15974\n"
     ]
    },
    {
     "name": "stderr",
     "output_type": "stream",
     "text": [
      "/home/hanliu/miniconda3/envs/clustering/lib/python3.7/site-packages/ALLCools/dmr/fimo.py:60: FutureWarning: to_msgpack is deprecated and will be removed in a future version.\n",
      "It is recommended to use pyarrow for on-the-wire transmission of pandas objects.\n",
      "  final_df.to_msgpack(output_path, compress='zlib')\n"
     ]
    },
    {
     "name": "stdout",
     "output_type": "stream",
     "text": [
      "/home/hanliu/project/mouse_rostral_brain/study/ITSpatial/DMRAnalysis/AggLayerDMR/IT-L6/MotifScan.h5adtemp/MA1125.1.meme, N motif total=261118\n"
     ]
    },
    {
     "name": "stderr",
     "output_type": "stream",
     "text": [
      "/home/hanliu/miniconda3/envs/clustering/lib/python3.7/site-packages/ALLCools/dmr/fimo.py:60: FutureWarning: to_msgpack is deprecated and will be removed in a future version.\n",
      "It is recommended to use pyarrow for on-the-wire transmission of pandas objects.\n",
      "  final_df.to_msgpack(output_path, compress='zlib')\n"
     ]
    },
    {
     "name": "stdout",
     "output_type": "stream",
     "text": [
      "/home/hanliu/project/mouse_rostral_brain/study/ITSpatial/DMRAnalysis/AggLayerDMR/IT-L6/MotifScan.h5adtemp/MA0752.1.meme, N motif total=1543\n"
     ]
    },
    {
     "name": "stderr",
     "output_type": "stream",
     "text": [
      "/home/hanliu/miniconda3/envs/clustering/lib/python3.7/site-packages/ALLCools/dmr/fimo.py:60: FutureWarning: to_msgpack is deprecated and will be removed in a future version.\n",
      "It is recommended to use pyarrow for on-the-wire transmission of pandas objects.\n",
      "  final_df.to_msgpack(output_path, compress='zlib')\n"
     ]
    },
    {
     "name": "stdout",
     "output_type": "stream",
     "text": [
      "/home/hanliu/project/mouse_rostral_brain/study/ITSpatial/DMRAnalysis/AggLayerDMR/IT-L6/MotifScan.h5adtemp/MA0116.1.meme, N motif total=19614\n"
     ]
    },
    {
     "name": "stderr",
     "output_type": "stream",
     "text": [
      "/home/hanliu/miniconda3/envs/clustering/lib/python3.7/site-packages/ALLCools/dmr/fimo.py:60: FutureWarning: to_msgpack is deprecated and will be removed in a future version.\n",
      "It is recommended to use pyarrow for on-the-wire transmission of pandas objects.\n",
      "  final_df.to_msgpack(output_path, compress='zlib')\n"
     ]
    },
    {
     "name": "stdout",
     "output_type": "stream",
     "text": [
      "/home/hanliu/project/mouse_rostral_brain/study/ITSpatial/DMRAnalysis/AggLayerDMR/IT-L6/MotifScan.h5adtemp/MA1657.1.meme, N motif total=21366\n"
     ]
    },
    {
     "name": "stderr",
     "output_type": "stream",
     "text": [
      "/home/hanliu/miniconda3/envs/clustering/lib/python3.7/site-packages/ALLCools/dmr/fimo.py:60: FutureWarning: to_msgpack is deprecated and will be removed in a future version.\n",
      "It is recommended to use pyarrow for on-the-wire transmission of pandas objects.\n",
      "  final_df.to_msgpack(output_path, compress='zlib')\n"
     ]
    },
    {
     "name": "stdout",
     "output_type": "stream",
     "text": [
      "/home/hanliu/project/mouse_rostral_brain/study/ITSpatial/DMRAnalysis/AggLayerDMR/IT-L6/MotifScan.h5adtemp/MA1602.1.meme, N motif total=15178\n"
     ]
    },
    {
     "name": "stderr",
     "output_type": "stream",
     "text": [
      "/home/hanliu/miniconda3/envs/clustering/lib/python3.7/site-packages/ALLCools/dmr/fimo.py:60: FutureWarning: to_msgpack is deprecated and will be removed in a future version.\n",
      "It is recommended to use pyarrow for on-the-wire transmission of pandas objects.\n",
      "  final_df.to_msgpack(output_path, compress='zlib')\n"
     ]
    },
    {
     "name": "stdout",
     "output_type": "stream",
     "text": [
      "/home/hanliu/project/mouse_rostral_brain/study/ITSpatial/DMRAnalysis/AggLayerDMR/IT-L6/MotifScan.h5adtemp/MA1656.1.meme, N motif total=39885\n"
     ]
    },
    {
     "name": "stderr",
     "output_type": "stream",
     "text": [
      "/home/hanliu/miniconda3/envs/clustering/lib/python3.7/site-packages/ALLCools/dmr/fimo.py:60: FutureWarning: to_msgpack is deprecated and will be removed in a future version.\n",
      "It is recommended to use pyarrow for on-the-wire transmission of pandas objects.\n",
      "  final_df.to_msgpack(output_path, compress='zlib')\n"
     ]
    },
    {
     "name": "stdout",
     "output_type": "stream",
     "text": [
      "/home/hanliu/project/mouse_rostral_brain/study/ITSpatial/DMRAnalysis/AggLayerDMR/IT-L6/MotifScan.h5adtemp/MA0753.2.meme, N motif total=177086\n"
     ]
    },
    {
     "name": "stderr",
     "output_type": "stream",
     "text": [
      "/home/hanliu/miniconda3/envs/clustering/lib/python3.7/site-packages/ALLCools/dmr/fimo.py:60: FutureWarning: to_msgpack is deprecated and will be removed in a future version.\n",
      "It is recommended to use pyarrow for on-the-wire transmission of pandas objects.\n",
      "  final_df.to_msgpack(output_path, compress='zlib')\n"
     ]
    },
    {
     "name": "stdout",
     "output_type": "stream",
     "text": [
      "/home/hanliu/project/mouse_rostral_brain/study/ITSpatial/DMRAnalysis/AggLayerDMR/IT-L6/MotifScan.h5adtemp/MA1594.1.meme, N motif total=8793\n"
     ]
    },
    {
     "name": "stderr",
     "output_type": "stream",
     "text": [
      "/home/hanliu/miniconda3/envs/clustering/lib/python3.7/site-packages/ALLCools/dmr/fimo.py:60: FutureWarning: to_msgpack is deprecated and will be removed in a future version.\n",
      "It is recommended to use pyarrow for on-the-wire transmission of pandas objects.\n",
      "  final_df.to_msgpack(output_path, compress='zlib')\n"
     ]
    },
    {
     "name": "stderr",
     "output_type": "stream",
     "text": [
      "/home/hanliu/miniconda3/envs/clustering/lib/python3.7/site-packages/ALLCools/dmr/fimo.py:108: FutureWarning: to_msgpack is deprecated and will be removed in a future version.\n",
      "It is recommended to use pyarrow for on-the-wire transmission of pandas objects.\n",
      "  lookup_table.to_msgpack(output_dir / f'LOOKUP_TABLE.msg')\n"
     ]
    }
   ],
   "source": [
    "scan_motif_over_bed(\n",
    "    bed_path=bed_path,\n",
    "    motif_file=motif_file_path,\n",
    "    genome_fasta=genome_fasta_path,\n",
    "    output_dir =str(output_path) + \"temp\",\n",
    "    chrom_size_path=chrom_size_path,\n",
    "    cpu=40, \n",
    "    use_region_name=True,\n",
    "    sort_mem_gbs=10\n",
    ")"
   ]
  },
  {
   "cell_type": "markdown",
   "metadata": {
    "papermill": {
     "duration": 0.281763,
     "end_time": "2020-01-14T06:13:32.460716",
     "exception": false,
     "start_time": "2020-01-14T06:13:32.178953",
     "status": "completed"
    },
    "tags": []
   },
   "source": [
    "## Aggregate motif hits"
   ]
  },
  {
   "cell_type": "code",
   "execution_count": 7,
   "metadata": {
    "ExecuteTime": {
     "end_time": "2020-01-11T06:26:28.669360Z",
     "start_time": "2020-01-11T06:26:28.662712Z"
    },
    "papermill": {
     "duration": 0.28919,
     "end_time": "2020-01-14T06:13:33.102353",
     "exception": false,
     "start_time": "2020-01-14T06:13:32.813163",
     "status": "completed"
    },
    "tags": []
   },
   "outputs": [],
   "source": [
    "temp_dir = pathlib.Path(str(output_path) + \"temp\")\n",
    "results_path = list(temp_dir.glob('*bed.msg'))"
   ]
  },
  {
   "cell_type": "code",
   "execution_count": 8,
   "metadata": {
    "ExecuteTime": {
     "end_time": "2020-01-11T06:20:07.873952Z",
     "start_time": "2020-01-11T06:19:40.044246Z"
    },
    "papermill": {
     "duration": 24.826126,
     "end_time": "2020-01-14T06:13:58.207171",
     "exception": false,
     "start_time": "2020-01-14T06:13:33.381045",
     "status": "completed"
    },
    "tags": []
   },
   "outputs": [
    {
     "name": "stderr",
     "output_type": "stream",
     "text": [
      "/home/hanliu/miniconda3/envs/clustering/lib/python3.7/site-packages/IPython/core/interactiveshell.py:3326: FutureWarning: The read_msgpack is deprecated and will be removed in a future version.\n",
      "It is recommended to use pyarrow for on-the-wire transmission of pandas objects.\n",
      "  exec(code_obj, self.user_global_ns, self.user_ns)\n"
     ]
    },
    {
     "name": "stdout",
     "output_type": "stream",
     "text": [
      "100\n"
     ]
    },
    {
     "name": "stdout",
     "output_type": "stream",
     "text": [
      "200\n"
     ]
    },
    {
     "name": "stdout",
     "output_type": "stream",
     "text": [
      "300\n"
     ]
    },
    {
     "name": "stdout",
     "output_type": "stream",
     "text": [
      "400\n"
     ]
    },
    {
     "name": "stdout",
     "output_type": "stream",
     "text": [
      "500\n"
     ]
    },
    {
     "name": "stdout",
     "output_type": "stream",
     "text": [
      "600\n"
     ]
    },
    {
     "name": "stdout",
     "output_type": "stream",
     "text": [
      "700\n"
     ]
    },
    {
     "name": "stderr",
     "output_type": "stream",
     "text": [
      "... storing 'chrom' as categorical\n"
     ]
    }
   ],
   "source": [
    "rows = []\n",
    "cols = []\n",
    "datas = []\n",
    "motif_ids = []\n",
    "n = 0\n",
    "for i, path in enumerate(results_path):\n",
    "    n += 1\n",
    "    if n % 100 == 0:\n",
    "        print(n)\n",
    "    df = pd.read_msgpack(path)\n",
    "    motif_id = path.name[:-8]\n",
    "    motif_ids.append(motif_id)\n",
    "    \n",
    "    dmr_max_scores = df.groupby('sequence_name')['score'].max()\n",
    "    dmr_max_scores.index = dmr_max_scores.index.map(lambda i: i.split('_')[1]).astype(int)\n",
    "    dmr_max_scores.sort_index(inplace=True)\n",
    "    row = dmr_max_scores.index.values\n",
    "    col = (np.ones_like(row) * i).astype(int)\n",
    "    data = dmr_max_scores.values        \n",
    "    rows.append(row)\n",
    "    cols.append(col)\n",
    "    datas.append(data)\n",
    "rows = np.concatenate(rows)\n",
    "cols = np.concatenate(cols)\n",
    "datas = np.concatenate(datas)\n",
    "\n",
    "hits = csr_matrix((datas, (rows, cols)),\n",
    "                  shape=(dmr_bed.shape[0], len(motif_ids)))\n",
    "\n",
    "dmr_hits = anndata.AnnData(X=hits,\n",
    "                           obs=dmr_bed,\n",
    "                           var=pd.DataFrame([], index=motif_ids))\n",
    "\n",
    "dmr_hits.write_h5ad(output_path)"
   ]
  },
  {
   "cell_type": "code",
   "execution_count": 9,
   "metadata": {
    "ExecuteTime": {
     "end_time": "2020-01-11T06:20:21.528210Z",
     "start_time": "2020-01-11T06:20:21.524900Z"
    },
    "papermill": {
     "duration": 0.288901,
     "end_time": "2020-01-14T06:13:58.777931",
     "exception": false,
     "start_time": "2020-01-14T06:13:58.489030",
     "status": "completed"
    },
    "tags": []
   },
   "outputs": [
    {
     "data": {
      "text/plain": [
       "AnnData object with n_obs × n_vars = 219056 × 719 \n",
       "    obs: 'chrom', 'start', 'end'"
      ]
     },
     "execution_count": 9,
     "metadata": {},
     "output_type": "execute_result"
    }
   ],
   "source": [
    "dmr_hits"
   ]
  },
  {
   "cell_type": "code",
   "execution_count": 10,
   "metadata": {
    "ExecuteTime": {
     "end_time": "2020-01-11T06:21:22.263596Z",
     "start_time": "2020-01-11T06:21:22.083041Z"
    },
    "papermill": {
     "duration": 0.475053,
     "end_time": "2020-01-14T06:13:59.534674",
     "exception": false,
     "start_time": "2020-01-14T06:13:59.059621",
     "status": "completed"
    },
    "tags": []
   },
   "outputs": [],
   "source": [
    "motif_hits_portion = ((dmr_hits.X > 0).sum(axis=0) / dmr_hits.X.shape[0]).A1"
   ]
  },
  {
   "cell_type": "code",
   "execution_count": 11,
   "metadata": {
    "ExecuteTime": {
     "end_time": "2020-01-11T06:21:28.111692Z",
     "start_time": "2020-01-11T06:21:27.960190Z"
    },
    "papermill": {
     "duration": 0.437728,
     "end_time": "2020-01-14T06:14:00.254311",
     "exception": false,
     "start_time": "2020-01-14T06:13:59.816583",
     "status": "completed"
    },
    "tags": []
   },
   "outputs": [
    {
     "data": {
      "text/plain": [
       "<matplotlib.axes._subplots.AxesSubplot at 0x7f2ba27e3198>"
      ]
     },
     "execution_count": 11,
     "metadata": {},
     "output_type": "execute_result"
    },
    {
     "data": {
      "image/png": "[encoded data removed]",
      "text/plain": [
       "<Figure size 432x288 with 1 Axes>"
      ]
     },
     "metadata": {
      "needs_background": "light"
     },
     "output_type": "display_data"
    }
   ],
   "source": [
    "sns.distplot(motif_hits_portion)"
   ]
  },
  {
   "cell_type": "markdown",
   "metadata": {
    "papermill": {
     "duration": 0.281294,
     "end_time": "2020-01-14T06:14:00.816388",
     "exception": false,
     "start_time": "2020-01-14T06:14:00.535094",
     "status": "completed"
    },
    "tags": []
   },
   "source": [
    "## Delete temp dir"
   ]
  },
  {
   "cell_type": "code",
   "execution_count": 12,
   "metadata": {
    "ExecuteTime": {
     "end_time": "2020-01-11T06:26:33.954958Z",
     "start_time": "2020-01-11T06:26:33.715562Z"
    },
    "papermill": {
     "duration": 0.556308,
     "end_time": "2020-01-14T06:14:01.654540",
     "exception": false,
     "start_time": "2020-01-14T06:14:01.098232",
     "status": "completed"
    },
    "tags": []
   },
   "outputs": [
    {
     "data": {
      "text/plain": [
       "CompletedProcess(args=['rm', '-rf', '/home/hanliu/project/mouse_rostral_brain/study/ITSpatial/DMRAnalysis/AggLayerDMR/IT-L6/MotifScan.h5adtemp'], returncode=0)"
      ]
     },
     "execution_count": 12,
     "metadata": {},
     "output_type": "execute_result"
    }
   ],
   "source": [
    "subprocess.run(['rm', '-rf', str(temp_dir)])"
   ]
  },
  {
   "cell_type": "code",
   "execution_count": null,
   "metadata": {
    "papermill": {
     "duration": 0.284079,
     "end_time": "2020-01-14T06:14:02.222856",
     "exception": false,
     "start_time": "2020-01-14T06:14:01.938777",
     "status": "completed"
    },
    "tags": []
   },
   "outputs": [],
   "source": []
  }
 ],
 "metadata": {
  "celltoolbar": "Tags",
  "hide_input": false,
  "kernelspec": {
   "display_name": "Python 3",
   "language": "python",
   "name": "python3"
  },
  "language_info": {
   "codemirror_mode": {
    "name": "ipython",
    "version": 3
   },
   "file_extension": ".py",
   "mimetype": "text/x-python",
   "name": "python",
   "nbconvert_exporter": "python",
   "pygments_lexer": "ipython3",
   "version": "3.7.3"
  },
  "papermill": {
   "duration": 345.60622,
   "end_time": "2020-01-14T06:14:03.112294",
   "environment_variables": {},
   "exception": null,
   "input_path": "/home/hanliu/project/mouse_rostral_brain/DMR/DMRRecipe/2.MotifScan.ipynb",
   "output_path": "/home/hanliu/project/mouse_rostral_brain/study/ITSpatial/DMRAnalysis/AggLayerDMR/IT-L6/2.MotifScan.ipynb",
   "parameters": {
    "bed_path": "/home/hanliu/project/mouse_rostral_brain/study/ITSpatial/DMRAnalysis/AggLayerDMR/IT-L6/IT-L6.total.bed",
    "chrom_size_path": "/home/hanliu/ref/mouse/genome/mm10.main.chrom.sizes",
    "genome_fasta_path": "/home/hanliu/ref/mouse/genome/fasta/raw/mm10.fa",
    "motif_file_path": "/home/hanliu/ref/MEME/selected_motifs_sets/JASPAR2020_CORE_vertebrates_non-redundant_pfms.has_mouse_id.meme"
   },
   "start_time": "2020-01-14T06:08:17.506074",
   "version": "1.0.1"
  },
  "toc": {
   "base_numbering": 1,
   "nav_menu": {},
   "number_sections": true,
   "sideBar": true,
   "skip_h1_title": true,
   "title_cell": "Table of Contents",
   "title_sidebar": "Contents",
   "toc_cell": false,
   "toc_position": {},
   "toc_section_display": true,
   "toc_window_display": true
  }
 },
 "nbformat": 4,
 "nbformat_minor": 2
}