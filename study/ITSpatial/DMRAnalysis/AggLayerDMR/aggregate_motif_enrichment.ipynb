{
 "cells": [
  {
   "cell_type": "code",
   "execution_count": 1,
   "metadata": {
    "ExecuteTime": {
     "end_time": "2020-01-17T23:07:51.098995Z",
     "start_time": "2020-01-17T23:07:50.728866Z"
    }
   },
   "outputs": [],
   "source": [
    "import pandas as pd\n",
    "import pathlib\n",
    "import seaborn as sns\n",
    "import matplotlib.pyplot as plt\n",
    "import joblib"
   ]
  },
  {
   "cell_type": "code",
   "execution_count": 2,
   "metadata": {
    "ExecuteTime": {
     "end_time": "2020-01-17T23:07:51.108780Z",
     "start_time": "2020-01-17T23:07:51.100666Z"
    }
   },
   "outputs": [],
   "source": [
    "from matplotlib import rc\n",
    "\n",
    "labelsize = 6\n",
    "linewidth = 0.6\n",
    "rc('lines', linewidth=linewidth)\n",
    "rc('axes', labelsize=labelsize, linewidth=linewidth)\n",
    "rc('xtick', labelsize=labelsize)\n",
    "rc('ytick', labelsize=labelsize)\n",
    "rc('xtick.major', width=linewidth)\n",
    "rc('ytick.major', width=linewidth)\n",
    "rc('xtick.minor', width=linewidth-0.2)\n",
    "rc('ytick.minor', width=linewidth-0.2)\n",
    "rc('patch', linewidth=linewidth)\n",
    "\n",
    "major_type_palette = pd.read_csv('/home/hanliu/project/mouse_rostral_brain/metadata/palette/major_type.palette.csv',\n",
    "                                header=None, index_col=0, squeeze=True).to_dict()\n"
   ]
  },
  {
   "cell_type": "code",
   "execution_count": 3,
   "metadata": {
    "ExecuteTime": {
     "end_time": "2020-01-17T23:07:51.114730Z",
     "start_time": "2020-01-17T23:07:51.112945Z"
    }
   },
   "outputs": [],
   "source": [
    "oddsratio_cutoff = 1.5\n",
    "lgp_cutoff = 12"
   ]
  },
  {
   "cell_type": "markdown",
   "metadata": {},
   "source": [
    "## Get Layer Specific Markers"
   ]
  },
  {
   "cell_type": "code",
   "execution_count": 4,
   "metadata": {
    "ExecuteTime": {
     "end_time": "2020-01-17T23:07:53.432548Z",
     "start_time": "2020-01-17T23:07:53.424393Z"
    }
   },
   "outputs": [
    {
     "data": {
      "text/plain": [
       "968"
      ]
     },
     "execution_count": 4,
     "metadata": {},
     "output_type": "execute_result"
    }
   ],
   "source": [
    "layer_markers = joblib.load(\n",
    "    '/home/hanliu/project/mouse_rostral_brain/study/ITSpatial/DMGAnalysis/layer_hypo_genes.obj'\n",
    ")\n",
    "total_markers = set(sum([list(v) for v in layer_markers.values()], []))\n",
    "len(total_markers)"
   ]
  },
  {
   "cell_type": "markdown",
   "metadata": {},
   "source": [
    "## DMR counts"
   ]
  },
  {
   "cell_type": "code",
   "execution_count": 5,
   "metadata": {
    "ExecuteTime": {
     "end_time": "2020-01-17T23:07:55.576059Z",
     "start_time": "2020-01-17T23:07:54.769750Z"
    }
   },
   "outputs": [
    {
     "data": {
      "text/plain": [
       "{'IT-L23': 517273, 'IT-L4': 326812, 'IT-L5': 320345, 'IT-L6': 219055}"
      ]
     },
     "execution_count": 5,
     "metadata": {},
     "output_type": "execute_result"
    }
   ],
   "source": [
    "dmr_dir = '/home/hanliu/project/mouse_rostral_brain/study/ITSpatial/DMRAnalysis/AggLayerDMR/'\n",
    "dmr_list = list(pathlib.Path(dmr_dir).glob('**/*.total.bed'))\n",
    "dmr_counts = {p.name.split('.')[0]: pd.read_csv(p, sep='\\t').shape[0] for p in dmr_list}\n",
    "dmr_counts"
   ]
  },
  {
   "cell_type": "code",
   "execution_count": 6,
   "metadata": {
    "ExecuteTime": {
     "end_time": "2020-01-17T23:08:05.186217Z",
     "start_time": "2020-01-17T23:08:05.182040Z"
    }
   },
   "outputs": [],
   "source": [
    "dmr_counts = pd.Series(dmr_counts).reset_index()\n",
    "dmr_counts.columns = ['Layer', '# DMR']"
   ]
  },
  {
   "cell_type": "code",
   "execution_count": 25,
   "metadata": {
    "ExecuteTime": {
     "end_time": "2020-01-17T23:11:50.633504Z",
     "start_time": "2020-01-17T23:11:50.629914Z"
    }
   },
   "outputs": [],
   "source": [
    "dmr_counts.to_csv('LayerDMR.counts.csv', index=None)"
   ]
  },
  {
   "cell_type": "markdown",
   "metadata": {},
   "source": [
    "## Gene and motif metadata"
   ]
  },
  {
   "cell_type": "code",
   "execution_count": 7,
   "metadata": {
    "ExecuteTime": {
     "end_time": "2020-01-17T23:08:06.087786Z",
     "start_time": "2020-01-17T23:08:06.082411Z"
    }
   },
   "outputs": [],
   "source": [
    "motif_meta_with_cluster = pd.read_csv(\n",
    "    '/home/hanliu/project/mouse_rostral_brain/study/MotifClustering/JASPAR2020_CORE_vertebrates_non-redundant.mouse_genes.with_motif_group.144.csv',\n",
    "    index_col='motif_uid'\n",
    ")"
   ]
  },
  {
   "cell_type": "code",
   "execution_count": 8,
   "metadata": {
    "ExecuteTime": {
     "end_time": "2020-01-17T23:08:06.386481Z",
     "start_time": "2020-01-17T23:08:06.382991Z"
    }
   },
   "outputs": [],
   "source": [
    "marker_tf_motif_ids = motif_meta_with_cluster[motif_meta_with_cluster['gene_ids'].apply(\n",
    "    lambda i: any([(g in total_markers) for g in i.split(',')]))].index"
   ]
  },
  {
   "cell_type": "code",
   "execution_count": 9,
   "metadata": {
    "ExecuteTime": {
     "end_time": "2020-01-17T23:08:07.033793Z",
     "start_time": "2020-01-17T23:08:06.834476Z"
    }
   },
   "outputs": [],
   "source": [
    "gene_meta = pd.read_csv('/home/hanliu/ref/mouse/gencode/vm22/gencode.vM22.annotation.gene.flat.tsv.gz',\n",
    "                        sep='\\t', index_col='gene_id')"
   ]
  },
  {
   "cell_type": "code",
   "execution_count": 10,
   "metadata": {
    "ExecuteTime": {
     "end_time": "2020-01-17T23:08:07.919466Z",
     "start_time": "2020-01-17T23:08:07.903657Z"
    }
   },
   "outputs": [
    {
     "data": {
      "text/html": [
       "<div>\n",
       "<style scoped>\n",
       "    .dataframe tbody tr th:only-of-type {\n",
       "        vertical-align: middle;\n",
       "    }\n",
       "\n",
       "    .dataframe tbody tr th {\n",
       "        vertical-align: top;\n",
       "    }\n",
       "\n",
       "    .dataframe thead th {\n",
       "        text-align: right;\n",
       "    }\n",
       "</style>\n",
       "<table border=\"1\" class=\"dataframe\">\n",
       "  <thead>\n",
       "    <tr style=\"text-align: right;\">\n",
       "      <th></th>\n",
       "      <th>uid</th>\n",
       "      <th>GeneRawName</th>\n",
       "      <th>SuperClass</th>\n",
       "      <th>Class</th>\n",
       "      <th>Family</th>\n",
       "      <th>SubFamily</th>\n",
       "      <th>EnsemblID</th>\n",
       "    </tr>\n",
       "  </thead>\n",
       "  <tbody>\n",
       "    <tr>\n",
       "      <th>0</th>\n",
       "      <td>1.1.1.1.1</td>\n",
       "      <td>c-Jun</td>\n",
       "      <td>Basic domains</td>\n",
       "      <td>Basic leucine zipper factors (bZIP)</td>\n",
       "      <td>Jun-related</td>\n",
       "      <td>Jun</td>\n",
       "      <td>ENSMUSG00000052684</td>\n",
       "    </tr>\n",
       "    <tr>\n",
       "      <th>1</th>\n",
       "      <td>1.1.1.1.2</td>\n",
       "      <td>JunB</td>\n",
       "      <td>Basic domains</td>\n",
       "      <td>Basic leucine zipper factors (bZIP)</td>\n",
       "      <td>Jun-related</td>\n",
       "      <td>Jun</td>\n",
       "      <td>ENSMUSG00000052837,ENSMUSG00000052926</td>\n",
       "    </tr>\n",
       "    <tr>\n",
       "      <th>2</th>\n",
       "      <td>1.1.1.1.3</td>\n",
       "      <td>JunD</td>\n",
       "      <td>Basic domains</td>\n",
       "      <td>Basic leucine zipper factors (bZIP)</td>\n",
       "      <td>Jun-related</td>\n",
       "      <td>Jun</td>\n",
       "      <td>ENSMUSG00000071076</td>\n",
       "    </tr>\n",
       "    <tr>\n",
       "      <th>3</th>\n",
       "      <td>1.1.1.2.1</td>\n",
       "      <td>NFE2</td>\n",
       "      <td>Basic domains</td>\n",
       "      <td>Basic leucine zipper factors (bZIP)</td>\n",
       "      <td>Jun-related</td>\n",
       "      <td>NFE2</td>\n",
       "      <td>ENSMUSG00000058794</td>\n",
       "    </tr>\n",
       "    <tr>\n",
       "      <th>4</th>\n",
       "      <td>1.1.1.2.2</td>\n",
       "      <td>NFE2L1</td>\n",
       "      <td>Basic domains</td>\n",
       "      <td>Basic leucine zipper factors (bZIP)</td>\n",
       "      <td>Jun-related</td>\n",
       "      <td>NFE2</td>\n",
       "      <td>ENSMUSG00000038615</td>\n",
       "    </tr>\n",
       "  </tbody>\n",
       "</table>\n",
       "</div>"
      ],
      "text/plain": [
       "         uid GeneRawName     SuperClass                                Class  \\\n",
       "0  1.1.1.1.1       c-Jun  Basic domains  Basic leucine zipper factors (bZIP)   \n",
       "1  1.1.1.1.2        JunB  Basic domains  Basic leucine zipper factors (bZIP)   \n",
       "2  1.1.1.1.3        JunD  Basic domains  Basic leucine zipper factors (bZIP)   \n",
       "3  1.1.1.2.1        NFE2  Basic domains  Basic leucine zipper factors (bZIP)   \n",
       "4  1.1.1.2.2      NFE2L1  Basic domains  Basic leucine zipper factors (bZIP)   \n",
       "\n",
       "        Family SubFamily                              EnsemblID  \n",
       "0  Jun-related       Jun                     ENSMUSG00000052684  \n",
       "1  Jun-related       Jun  ENSMUSG00000052837,ENSMUSG00000052926  \n",
       "2  Jun-related       Jun                     ENSMUSG00000071076  \n",
       "3  Jun-related      NFE2                     ENSMUSG00000058794  \n",
       "4  Jun-related      NFE2                     ENSMUSG00000038615  "
      ]
     },
     "execution_count": 10,
     "metadata": {},
     "output_type": "execute_result"
    }
   ],
   "source": [
    "tf_class = pd.read_csv('/home/hanliu/ref/TFGene/TFClass/TFClass.with_mouse_gene_id.csv')\n",
    "tf_class.head()"
   ]
  },
  {
   "cell_type": "code",
   "execution_count": 11,
   "metadata": {
    "ExecuteTime": {
     "end_time": "2020-01-17T23:08:09.387828Z",
     "start_time": "2020-01-17T23:08:09.139398Z"
    }
   },
   "outputs": [],
   "source": [
    "level = 'Family'\n",
    "gene_to_tf_class = {}\n",
    "for _, row in tf_class.iterrows():\n",
    "    if isinstance(row['EnsemblID'], float):\n",
    "        continue\n",
    "    for g in row['EnsemblID'].split(','):\n",
    "        gene_to_tf_class[g] = row[level]\n",
    "motif_meta_with_cluster['motif_class'] = motif_meta_with_cluster['gene_ids'].map(\n",
    "    lambda i: gene_to_tf_class[i.split('.')[0]] if i.split('.')[0] in gene_to_tf_class else '')\n",
    "\n",
    "level = 'SubFamily'\n",
    "gene_to_tf_class = {}\n",
    "for _, row in tf_class.iterrows():\n",
    "    if isinstance(row['EnsemblID'], float):\n",
    "        continue\n",
    "    for g in row['EnsemblID'].split(','):\n",
    "        gene_to_tf_class[g] = row[level]\n",
    "motif_meta_with_cluster['motif_class_sub'] = motif_meta_with_cluster['gene_ids'].map(\n",
    "    lambda i: gene_to_tf_class[i.split('.')[0]] if i.split('.')[0] in gene_to_tf_class else '')"
   ]
  },
  {
   "cell_type": "markdown",
   "metadata": {},
   "source": [
    "## Motif Results"
   ]
  },
  {
   "cell_type": "code",
   "execution_count": 14,
   "metadata": {
    "ExecuteTime": {
     "end_time": "2020-01-17T23:08:36.473188Z",
     "start_time": "2020-01-17T23:08:36.458095Z"
    }
   },
   "outputs": [
    {
     "name": "stderr",
     "output_type": "stream",
     "text": [
      "/home/hanliu/miniconda3/envs/clustering/lib/python3.7/site-packages/ipykernel_launcher.py:2: FutureWarning: The read_msgpack is deprecated and will be removed in a future version.\n",
      "It is recommended to use pyarrow for on-the-wire transmission of pandas objects.\n",
      "  \n"
     ]
    }
   ],
   "source": [
    "motif_results = list(pathlib.Path().glob('**/*.motif_enrichment.msg'))\n",
    "motif_results = pd.concat([pd.read_msgpack(path) for path in motif_results])\n",
    "motif_results.index.name = 'MotifID'\n",
    "motif_results.reset_index(inplace=True)\n",
    "motif_results = pd.concat([motif_results, \n",
    "           motif_meta_with_cluster.loc[motif_results['MotifID']].reset_index(drop=True)], axis=1)\n",
    "\n",
    "filtered_results = motif_results[(motif_results['oddsratio'] > oddsratio_cutoff) & \n",
    "                              (motif_results['-lgp'] > lgp_cutoff)].copy()\n"
   ]
  },
  {
   "cell_type": "code",
   "execution_count": 15,
   "metadata": {
    "ExecuteTime": {
     "end_time": "2020-01-17T23:08:44.144887Z",
     "start_time": "2020-01-17T23:08:44.033488Z"
    }
   },
   "outputs": [],
   "source": [
    "# for each motif class in each group, select most significant ones\n",
    "use_motif_for_clase_group = motif_results.groupby(['motif_class', 'Group']).apply(\n",
    "    lambda i: i.sort_values('-lgp', ascending=False)['MotifID'].iloc[0])"
   ]
  },
  {
   "cell_type": "code",
   "execution_count": 16,
   "metadata": {
    "ExecuteTime": {
     "end_time": "2020-01-17T23:08:49.626430Z",
     "start_time": "2020-01-17T23:08:49.586818Z"
    }
   },
   "outputs": [],
   "source": [
    "# keep one motif for each group and each motif class\n",
    "use_results = motif_results.set_index(['Group', 'MotifID']).loc[[\n",
    "    tuple(row.tolist())\n",
    "    for _, row in use_motif_for_clase_group.reset_index().iloc[:, 1:].iterrows()\n",
    "]].reset_index()\n",
    "use_results = use_results[use_results['motif_class'].fillna('') != ''].copy()\n",
    "\n",
    "assert (use_results.groupby(['motif_class', 'Group']).apply(lambda i: i.shape[0]) != 1).sum() == 0"
   ]
  },
  {
   "cell_type": "code",
   "execution_count": 17,
   "metadata": {
    "ExecuteTime": {
     "end_time": "2020-01-17T23:09:00.914656Z",
     "start_time": "2020-01-17T23:09:00.910690Z"
    }
   },
   "outputs": [
    {
     "name": "stderr",
     "output_type": "stream",
     "text": [
      "/home/hanliu/miniconda3/envs/clustering/lib/python3.7/site-packages/ipykernel_launcher.py:1: FutureWarning: to_msgpack is deprecated and will be removed in a future version.\n",
      "It is recommended to use pyarrow for on-the-wire transmission of pandas objects.\n",
      "  \"\"\"Entry point for launching an IPython kernel.\n"
     ]
    }
   ],
   "source": [
    "use_results.to_msgpack('LayerDMR.one_motif_per_class.msg')"
   ]
  },
  {
   "cell_type": "code",
   "execution_count": 19,
   "metadata": {
    "ExecuteTime": {
     "end_time": "2020-01-17T23:09:24.047929Z",
     "start_time": "2020-01-17T23:09:24.044112Z"
    }
   },
   "outputs": [],
   "source": [
    "# only keep motif class that has sig hits\n",
    "sig_motif_class = filtered_results['motif_class'].unique()\n",
    "use_results = use_results[use_results['motif_class'].isin(sig_motif_class)].copy()"
   ]
  },
  {
   "cell_type": "code",
   "execution_count": null,
   "metadata": {},
   "outputs": [],
   "source": []
  },
  {
   "cell_type": "code",
   "execution_count": null,
   "metadata": {},
   "outputs": [],
   "source": []
  },
  {
   "cell_type": "code",
   "execution_count": null,
   "metadata": {},
   "outputs": [],
   "source": []
  },
  {
   "cell_type": "code",
   "execution_count": null,
   "metadata": {},
   "outputs": [],
   "source": []
  },
  {
   "cell_type": "code",
   "execution_count": 20,
   "metadata": {
    "ExecuteTime": {
     "end_time": "2020-01-17T23:09:39.952340Z",
     "start_time": "2020-01-17T23:09:39.949062Z"
    }
   },
   "outputs": [],
   "source": [
    "motif_class_order = [\n",
    "    'B-ATF-related',\n",
    "    'CEBP-related',\n",
    "    'Fos-related',\n",
    "    'Jun-related',\n",
    "    'SMAD',\n",
    "    #'NRF',\n",
    "    #'Maf-related',\n",
    "    'Tal-related',\n",
    "    'bHLH-ZIP',\n",
    "    'Thyroid hormone receptor-related factors',\n",
    "    # 'More than 3 adjacent zinc fingers',\n",
    "    'Regulators of differentiation',\n",
    "    'DMRT',\n",
    "    # 'Factors with multiple dispersed zinc fingers',\n",
    "    'NK',\n",
    "    'POU',\n",
    "    'HD-LIM',\n",
    "    'HOX',\n",
    "    'Paired-related HD',\n",
    "    'PD+HD',\n",
    "    'RFX',\n",
    "    # 'TBX1-related',\n",
    "][::-1]\n",
    "layer_order = ['IT-L23', 'IT-L4', 'IT-L5', 'IT-L6']"
   ]
  },
  {
   "cell_type": "code",
   "execution_count": 22,
   "metadata": {
    "ExecuteTime": {
     "end_time": "2020-01-17T23:10:24.288074Z",
     "start_time": "2020-01-17T23:10:23.806296Z"
    }
   },
   "outputs": [
    {
     "data": {
      "image/png": "[encoded data removed]",
      "text/plain": [
       "<Figure size 960x240 with 2 Axes>"
      ]
     },
     "metadata": {
      "needs_background": "light"
     },
     "output_type": "display_data"
    }
   ],
   "source": [
    "use_results = use_results[use_results['motif_class'].isin(motif_class_order)]\n",
    "use_results['x'] = use_results['motif_class'].apply(lambda i: motif_class_order.index(i))\n",
    "use_results['y'] = use_results['Group'].apply(lambda i: layer_order.index(i))\n",
    "pass_filter_pairs = filtered_results.set_index(['MotifID', 'Group']).index\n",
    "use_results['sig'] = use_results.apply(lambda i: (i['MotifID'], i['Group']) in pass_filter_pairs, axis=1)\n",
    "\n",
    "# sync filter to region tfs\n",
    "pass_filter_pairs = filtered_results[(filtered_results['-lgp'] > 20) & \n",
    "                                     (filtered_results['oddsratio'] > 1.8)].set_index(['MotifID', 'Group']).index\n",
    "use_results['sig'] = use_results.apply(lambda i: (i['MotifID'], i['Group']) in pass_filter_pairs, axis=1)\n",
    "\n",
    "fig = plt.figure(figsize=(3.2, 0.8), dpi=300)\n",
    "gs = fig.add_gridspec(1, 10)\n",
    "ax_main = fig.add_subplot(gs[:, :-1])\n",
    "ax_bar = fig.add_subplot(gs[:, -1:])\n",
    "\n",
    "ax = ax_main\n",
    "sns.scatterplot(ax=ax, data=use_results, x='x', y='y', \n",
    "                hue='oddsratio', hue_norm=(1, 2.5), palette='coolwarm', marker='s',\n",
    "                size='-lgp', size_norm=(1, 100), sizes=(0.1, 65), linewidth=0, clip_on=False)\n",
    "\n",
    "for _, row in use_results[use_results['sig']].iterrows():\n",
    "    ax.text(row['x'], row['y']-0.1, '*', ha='center', va='center', fontsize=labelsize, c='white')\n",
    "\n",
    "ax.set(xticks=range(len(motif_class_order)), \n",
    "       ylim=(-0.5, 3.5), yticklabels=layer_order, yticks=[0, 1, 2, 3],\n",
    "       xticklabels=[i[:20] for i in motif_class_order], xlabel='TF Classes', ylabel='Layers')\n",
    "plt.setp(ax.get_xticklabels(), rotation=45, ha=\"right\",\n",
    "         rotation_mode=\"anchor\")\n",
    "sns.despine(ax=ax)\n",
    "ax.legend_.set_visible(False)\n",
    "\n",
    "ax = ax_bar\n",
    "sns.barplot(ax=ax, data=dmr_counts, x='# DMR', y='Layer', palette=major_type_palette,\n",
    "            order=layer_order[::-1])\n",
    "ax.set(xlim=(0, 600000), yticklabels=[], xticks=[0, 500000], ylabel='')\n",
    "ax.ticklabel_format(axis='x', style='sci', scilimits=(-2,2))\n",
    "sns.despine(ax=ax)\n",
    "\n",
    "fig.savefig(f'LayerSpecificDMR.heatmap.pdf', bbox_inches='tight')"
   ]
  },
  {
   "cell_type": "code",
   "execution_count": null,
   "metadata": {},
   "outputs": [],
   "source": []
  },
  {
   "cell_type": "code",
   "execution_count": null,
   "metadata": {},
   "outputs": [],
   "source": []
  },
  {
   "cell_type": "code",
   "execution_count": null,
   "metadata": {},
   "outputs": [],
   "source": []
  },
  {
   "cell_type": "code",
   "execution_count": null,
   "metadata": {},
   "outputs": [],
   "source": []
  },
  {
   "cell_type": "code",
   "execution_count": null,
   "metadata": {},
   "outputs": [],
   "source": []
  }
 ],
 "metadata": {
  "hide_input": false,
  "kernelspec": {
   "display_name": "Python 3",
   "language": "python",
   "name": "python3"
  },
  "language_info": {
   "codemirror_mode": {
    "name": "ipython",
    "version": 3
   },
   "file_extension": ".py",
   "mimetype": "text/x-python",
   "name": "python",
   "nbconvert_exporter": "python",
   "pygments_lexer": "ipython3",
   "version": "3.7.3"
  },
  "toc": {
   "base_numbering": 1,
   "nav_menu": {},
   "number_sections": true,
   "sideBar": true,
   "skip_h1_title": true,
   "title_cell": "Table of Contents",
   "title_sidebar": "Contents",
   "toc_cell": false,
   "toc_position": {},
   "toc_section_display": true,
   "toc_window_display": true
  }
 },
 "nbformat": 4,
 "nbformat_minor": 2
}
