{
 "cells": [
  {
   "cell_type": "code",
   "execution_count": 4,
   "metadata": {
    "ExecuteTime": {
     "end_time": "2020-01-15T05:47:17.383813Z",
     "start_time": "2020-01-15T05:47:17.381540Z"
    }
   },
   "outputs": [],
   "source": [
    "import pandas as pd\n",
    "import pathlib\n",
    "import numpy as np\n",
    "import seaborn as sns\n",
    "import matplotlib.pyplot as plt"
   ]
  },
  {
   "cell_type": "code",
   "execution_count": 5,
   "metadata": {
    "ExecuteTime": {
     "end_time": "2020-01-15T05:47:40.616953Z",
     "start_time": "2020-01-15T05:47:40.614205Z"
    }
   },
   "outputs": [],
   "source": [
    "matrix_dir = '/home/hanliu/project/mouse_rostral_brain/study/ITSpatial/DMRAnalysis/DMRMatrix/AggLayerDMR/'\n",
    "matrix_list = list(pathlib.Path(matrix_dir).glob('*tsv.gz'))"
   ]
  },
  {
   "cell_type": "code",
   "execution_count": 14,
   "metadata": {
    "ExecuteTime": {
     "end_time": "2020-01-15T05:49:41.987330Z",
     "start_time": "2020-01-15T05:49:41.983193Z"
    }
   },
   "outputs": [],
   "source": [
    "records = {}\n",
    "for path in matrix_list:\n",
    "    dmr_type, bw_type = path.name.split('DMR_')\n",
    "    bw_type = bw_type[:-9]\n",
    "    records[(dmr_type, bw_type)] = path\n",
    "bw_paths = pd.Series(records)"
   ]
  },
  {
   "cell_type": "code",
   "execution_count": 42,
   "metadata": {
    "ExecuteTime": {
     "end_time": "2020-01-15T05:54:27.041665Z",
     "start_time": "2020-01-15T05:54:27.039460Z"
    }
   },
   "outputs": [],
   "source": [
    "layers = ['IT-L23', 'IT-L4', 'IT-L5', 'IT-L6']"
   ]
  },
  {
   "cell_type": "code",
   "execution_count": 175,
   "metadata": {
    "ExecuteTime": {
     "end_time": "2020-01-15T06:32:31.573218Z",
     "start_time": "2020-01-15T06:32:21.558035Z"
    }
   },
   "outputs": [
    {
     "name": "stdout",
     "output_type": "stream",
     "text": [
      "IT-L23 IT-L23\n",
      "IT-L23 IT-L4\n",
      "IT-L23 IT-L5\n",
      "IT-L23 IT-L6\n"
     ]
    }
   ],
   "source": [
    "matrix_records = {}\n",
    "for layer1 in layers:\n",
    "    matrix_records[layer1] = {}\n",
    "    matrix = pd.read_csv(bw_paths[(layer1, layer1)], nrows=100000, \n",
    "                             comment='@', sep='\\t', header=None).iloc[:, 6:]\n",
    "    nan_rate = matrix.isna().sum(axis=1) / matrix.shape[1]\n",
    "    total_na_judge = nan_rate < nan_rate.quantile(0.8)\n",
    "    matrix_records[layer1][layer1] = matrix[total_na_judge].copy()\n",
    "    \n",
    "    for layer2 in layers:\n",
    "        print(layer1, layer2)\n",
    "        if layer1 == layer2:\n",
    "            continue\n",
    "        matrix = pd.read_csv(bw_paths[(layer1, layer2)], nrows=100000, \n",
    "                             comment='@', sep='\\t', header=None).iloc[:, 6:]\n",
    "        matrix_records[layer1][layer2] = matrix[total_na_judge].copy()\n",
    "    break"
   ]
  },
  {
   "cell_type": "code",
   "execution_count": 176,
   "metadata": {
    "ExecuteTime": {
     "end_time": "2020-01-15T06:32:31.577065Z",
     "start_time": "2020-01-15T06:32:31.574876Z"
    }
   },
   "outputs": [],
   "source": [
    "# filtered_records = {}\n",
    "# for layer1 in layers:\n",
    "#     judges = []\n",
    "#     filtered_records[layer1] = {}\n",
    "#     hypo_matrix = matrix_records[layer1][layer1]\n",
    "#     judges.append((hypo_matrix.iloc[97:-97].mean(axis=1).reindex(hypo_matrix.index) < 0.5).values)\n",
    "#     print(hypo_matrix.shape)\n",
    "#     for layer2 in layers:\n",
    "#         if layer2 == layer1:\n",
    "#             continue\n",
    "#         hyper_matrix = matrix_records[layer1][layer2]\n",
    "#         print(hyper_matrix.shape)\n",
    "#         judges.append((hyper_matrix.iloc[97:-97].mean(axis=1).reindex(hyper_matrix.index) > 0.5).values)\n",
    "#     total_judge = np.array(np.all(judges, axis=0))\n",
    "#     hypo_matrix\n",
    "#     \n",
    "#     for layer2 in layers:\n",
    "#         matrix = matrix_records[layer1][layer2]\n",
    "#         filtered_records[layer1][layer2] = matrix.loc[total_judge]\n",
    "#     break"
   ]
  },
  {
   "cell_type": "code",
   "execution_count": null,
   "metadata": {},
   "outputs": [],
   "source": [
    "for i in judges:\n",
    "    print(is)"
   ]
  },
  {
   "cell_type": "code",
   "execution_count": null,
   "metadata": {},
   "outputs": [],
   "source": []
  },
  {
   "cell_type": "code",
   "execution_count": null,
   "metadata": {},
   "outputs": [],
   "source": []
  },
  {
   "cell_type": "code",
   "execution_count": null,
   "metadata": {},
   "outputs": [],
   "source": []
  },
  {
   "cell_type": "code",
   "execution_count": null,
   "metadata": {},
   "outputs": [],
   "source": []
  },
  {
   "cell_type": "code",
   "execution_count": null,
   "metadata": {},
   "outputs": [],
   "source": [
    "cmap = 'coolwarm'\n",
    "vmin = 0.5\n",
    "vmax = 0.8\n",
    "\n",
    "fig = plt.figure(figsize=(2, 4), dpi=300)\n",
    "gs = fig.add_gridspec(4, 4)\n",
    "\n",
    "for i, layer1 in enumerate(['IT-L23']):\n",
    "    for j, layer2 in enumerate(layers):\n",
    "        ax = fig.add_subplot(gs[i, j])\n",
    "        matrix = matrix_records[layer1][layer2]\n",
    "        matrix = matrix.loc[matrix.iloc[:, 30:-30].mean(axis=1).sort_values().index]\n",
    "        # matrix.mean(axis=0).plot(ax=ax)\n",
    "        ax.imshow(matrix.values, aspect='auto',\n",
    "                  cmap=cmap, vmin=vmin, vmax=vmax)\n",
    "        ax.set(xticks=[], yticks=[])"
   ]
  },
  {
   "cell_type": "code",
   "execution_count": null,
   "metadata": {},
   "outputs": [],
   "source": []
  },
  {
   "cell_type": "code",
   "execution_count": null,
   "metadata": {},
   "outputs": [],
   "source": []
  },
  {
   "cell_type": "code",
   "execution_count": null,
   "metadata": {},
   "outputs": [],
   "source": []
  },
  {
   "cell_type": "code",
   "execution_count": null,
   "metadata": {},
   "outputs": [],
   "source": []
  },
  {
   "cell_type": "code",
   "execution_count": null,
   "metadata": {},
   "outputs": [],
   "source": []
  },
  {
   "cell_type": "code",
   "execution_count": null,
   "metadata": {},
   "outputs": [],
   "source": []
  },
  {
   "cell_type": "code",
   "execution_count": null,
   "metadata": {},
   "outputs": [],
   "source": []
  },
  {
   "cell_type": "code",
   "execution_count": null,
   "metadata": {},
   "outputs": [],
   "source": []
  },
  {
   "cell_type": "code",
   "execution_count": null,
   "metadata": {},
   "outputs": [],
   "source": []
  }
 ],
 "metadata": {
  "hide_input": false,
  "kernelspec": {
   "display_name": "Python 3",
   "language": "python",
   "name": "python3"
  },
  "language_info": {
   "codemirror_mode": {
    "name": "ipython",
    "version": 3
   },
   "file_extension": ".py",
   "mimetype": "text/x-python",
   "name": "python",
   "nbconvert_exporter": "python",
   "pygments_lexer": "ipython3",
   "version": "3.7.3"
  },
  "toc": {
   "base_numbering": 1,
   "nav_menu": {},
   "number_sections": true,
   "sideBar": true,
   "skip_h1_title": true,
   "title_cell": "Table of Contents",
   "title_sidebar": "Contents",
   "toc_cell": false,
   "toc_position": {},
   "toc_section_display": true,
   "toc_window_display": true
  }
 },
 "nbformat": 4,
 "nbformat_minor": 2
}
