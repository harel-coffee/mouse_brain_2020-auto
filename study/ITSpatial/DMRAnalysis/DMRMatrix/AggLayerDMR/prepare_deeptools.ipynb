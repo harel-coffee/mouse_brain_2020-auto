{
 "cells": [
  {
   "cell_type": "markdown",
   "metadata": {
    "toc": true
   },
   "source": [
    "<h1>Table of Contents<span class=\"tocSkip\"></span></h1>\n",
    "<div class=\"toc\"><ul class=\"toc-item\"></ul></div>"
   ]
  },
  {
   "cell_type": "raw",
   "metadata": {},
   "source": []
  },
  {
   "cell_type": "code",
   "execution_count": 3,
   "metadata": {
    "ExecuteTime": {
     "end_time": "2020-01-15T04:20:28.524481Z",
     "start_time": "2020-01-15T04:20:20.933617Z"
    }
   },
   "outputs": [],
   "source": [
    "import pathlib\n",
    "import pandas as pd"
   ]
  },
  {
   "cell_type": "code",
   "execution_count": 8,
   "metadata": {
    "ExecuteTime": {
     "end_time": "2020-01-15T04:44:00.168913Z",
     "start_time": "2020-01-15T04:44:00.165758Z"
    }
   },
   "outputs": [],
   "source": [
    "layers = ['IT-L23', 'IT-L4', 'IT-L5', 'IT-L6']\n",
    "bigwig_dir = '/gale/netapp/home/hanliu/ddn/hanliu/mouse_rostral_brain/MultiLevelCluster/BW/MajorType'\n",
    "bigwig_list = [f'{bigwig_dir}/MajorType.{layer}.CGN-Both.rate.bw' for layer in layers]"
   ]
  },
  {
   "cell_type": "code",
   "execution_count": 9,
   "metadata": {
    "ExecuteTime": {
     "end_time": "2020-01-15T04:44:00.384726Z",
     "start_time": "2020-01-15T04:44:00.378600Z"
    }
   },
   "outputs": [],
   "source": [
    "bed_list = list(pathlib.Path('bed/').absolute().glob('*bed'))"
   ]
  },
  {
   "cell_type": "code",
   "execution_count": 24,
   "metadata": {
    "ExecuteTime": {
     "end_time": "2020-01-15T04:47:36.757844Z",
     "start_time": "2020-01-15T04:47:36.749580Z"
    }
   },
   "outputs": [],
   "source": [
    "cmds = []\n",
    "for bed in bed_list:\n",
    "    for bigwig in bigwig_list:\n",
    "        layer = bed.name.split('.')[0]\n",
    "        bg_layer = pathlib.Path(bigwig).name.split('.')[1]\n",
    "        output_path = pathlib.Path().absolute() / f'{layer}DMR_{bg_layer}bw.tsv.gz'\n",
    "        cmd = f'computeMatrix reference-point -S {bigwig} -R {bed} --referencePoint center -bs 30 -a 3000 -b 3000 -o {output_path} -p 40'\n",
    "        cmds.append(cmd)\n",
    "        \n",
    "with open('cmds.txt', 'w') as f:\n",
    "    f.write('\\n'.join(cmds))"
   ]
  },
  {
   "cell_type": "code",
   "execution_count": 25,
   "metadata": {
    "ExecuteTime": {
     "end_time": "2020-01-15T04:50:07.428403Z",
     "start_time": "2020-01-15T04:50:07.424412Z"
    }
   },
   "outputs": [],
   "source": [
    "qsub_str = \"\"\"\n",
    "#!/bin/bash\n",
    "#$ -N bw\n",
    "#$ -V\n",
    "#$ -pe smp 1\n",
    "#$ -l h_vmem=3G\n",
    "#$ -l h_rt=99:99:99\n",
    "#$ -l s_rt=99:99:99\n",
    "#$ -e /gale/netapp/scratch2/hanliu/mouse_rostral_brain/ITSpatial/DMRMatrix/AggLayerDMR/error.log\n",
    "#$ -o /gale/netapp/scratch2/hanliu/mouse_rostral_brain/ITSpatial/DMRMatrix/AggLayerDMR/output.log\n",
    "\n",
    "yap qsub --command_file_path /gale/netapp/scratch2/hanliu/mouse_rostral_brain/ITSpatial/DMRMatrix/AggLayerDMR/cmds.txt --working_dir /gale/netapp/scratch2/hanliu/mouse_rostral_brain/ITSpatial/DMRMatrix/AggLayerDMR --project_name qsub --total_cpu 400 --total_mem 2000 --qsub_global_parms \"-pe smp=40;-l h_vmem=3G\"\n",
    "\"\"\"\n",
    "with open('qsub.sh', 'w') as f:\n",
    "    f.write(qsub_str)"
   ]
  },
  {
   "cell_type": "code",
   "execution_count": null,
   "metadata": {},
   "outputs": [],
   "source": []
  },
  {
   "cell_type": "code",
   "execution_count": null,
   "metadata": {},
   "outputs": [],
   "source": []
  }
 ],
 "metadata": {
  "kernelspec": {
   "display_name": "Python 3",
   "language": "python",
   "name": "python3"
  },
  "language_info": {
   "codemirror_mode": {
    "name": "ipython",
    "version": 3
   },
   "file_extension": ".py",
   "mimetype": "text/x-python",
   "name": "python",
   "nbconvert_exporter": "python",
   "pygments_lexer": "ipython3",
   "version": "3.7.0"
  },
  "toc": {
   "base_numbering": 1,
   "nav_menu": {},
   "number_sections": true,
   "sideBar": true,
   "skip_h1_title": true,
   "title_cell": "Table of Contents",
   "title_sidebar": "Contents",
   "toc_cell": true,
   "toc_position": {},
   "toc_section_display": true,
   "toc_window_display": true
  }
 },
 "nbformat": 4,
 "nbformat_minor": 2
}
