{
 "cells": [
  {
   "cell_type": "markdown",
   "metadata": {
    "toc": true
   },
   "source": [
    "<h1>Table of Contents<span class=\"tocSkip\"></span></h1>\n",
    "<div class=\"toc\"><ul class=\"toc-item\"></ul></div>"
   ]
  },
  {
   "cell_type": "raw",
   "metadata": {},
   "source": []
  },
  {
   "cell_type": "code",
   "execution_count": 1,
   "metadata": {
    "ExecuteTime": {
     "end_time": "2020-01-15T05:08:03.554871Z",
     "start_time": "2020-01-15T05:08:02.511542Z"
    }
   },
   "outputs": [],
   "source": [
    "import pathlib\n",
    "import pandas as pd"
   ]
  },
  {
   "cell_type": "code",
   "execution_count": 2,
   "metadata": {
    "ExecuteTime": {
     "end_time": "2020-01-15T05:08:03.570460Z",
     "start_time": "2020-01-15T05:08:03.561793Z"
    }
   },
   "outputs": [],
   "source": [
    "regions = ['ACA', 'AI', 'MOp', 'MOs', 'ORB', 'PFC', 'SSp', 'SSs']\n",
    "bigwig_dir = '/gale/netapp/scratch2/hanliu/mouse_rostral_brain/ITSpatial/BW/ITSpatial/'\n",
    "bigwig_list = [f'{bigwig_dir}/ITSpatial.IT-L23+{region}.CGN-Both.rate.bw' for region in regions]"
   ]
  },
  {
   "cell_type": "code",
   "execution_count": 3,
   "metadata": {
    "ExecuteTime": {
     "end_time": "2020-01-15T05:08:03.578151Z",
     "start_time": "2020-01-15T05:08:03.573628Z"
    }
   },
   "outputs": [],
   "source": [
    "bed_list = [\n",
    "    '/gale/netapp/scratch2/hanliu/mouse_rostral_brain/ITSpatial/DMRMatrix/RegionDMR-L23/TotalDMR.nofilter.slop250.bed'\n",
    "]"
   ]
  },
  {
   "cell_type": "code",
   "execution_count": 4,
   "metadata": {
    "ExecuteTime": {
     "end_time": "2020-01-15T05:08:03.601604Z",
     "start_time": "2020-01-15T05:08:03.584034Z"
    }
   },
   "outputs": [],
   "source": [
    "cmds = []\n",
    "for bed in bed_list:\n",
    "    for bigwig in bigwig_list:\n",
    "        bg_layer = pathlib.Path(bigwig).name.split('.')[1]\n",
    "        output_path = pathlib.Path().absolute() / f'TotalDMR_{bg_layer}bw.tsv.gz'\n",
    "        cmd = f'computeMatrix reference-point -S {bigwig} -R {bed} --referencePoint center -bs 30 -a 3000 -b 3000 -o {output_path} -p 40'\n",
    "        cmds.append(cmd)\n",
    "        \n",
    "with open('cmds.txt', 'w') as f:\n",
    "    f.write('\\n'.join(cmds))"
   ]
  },
  {
   "cell_type": "code",
   "execution_count": 5,
   "metadata": {
    "ExecuteTime": {
     "end_time": "2020-01-15T05:08:03.608029Z",
     "start_time": "2020-01-15T05:08:03.603678Z"
    }
   },
   "outputs": [],
   "source": [
    "qsub_str = \"\"\"\n",
    "#!/bin/bash\n",
    "#$ -N bw\n",
    "#$ -V\n",
    "#$ -pe smp 1\n",
    "#$ -l h_vmem=3G\n",
    "#$ -l h_rt=99:99:99\n",
    "#$ -l s_rt=99:99:99\n",
    "#$ -e /gale/netapp/scratch2/hanliu/mouse_rostral_brain/ITSpatial/DMRMatrix/RegionDMR-L23/error.log\n",
    "#$ -o /gale/netapp/scratch2/hanliu/mouse_rostral_brain/ITSpatial/DMRMatrix/RegionDMR-L23/output.log\n",
    "\n",
    "yap qsub --command_file_path /gale/netapp/scratch2/hanliu/mouse_rostral_brain/ITSpatial/DMRMatrix/RegionDMR-L23/cmds.txt --working_dir /gale/netapp/scratch2/hanliu/mouse_rostral_brain/ITSpatial/DMRMatrix/RegionDMR-L23 --project_name qsub --total_cpu 400 --total_mem 2000 --qsub_global_parms \"-pe smp=40;-l h_vmem=3G\"\n",
    "\"\"\"\n",
    "with open('qsub.sh', 'w') as f:\n",
    "    f.write(qsub_str)"
   ]
  },
  {
   "cell_type": "code",
   "execution_count": 6,
   "metadata": {
    "ExecuteTime": {
     "end_time": "2020-01-15T05:08:03.622056Z",
     "start_time": "2020-01-15T05:08:03.610494Z"
    }
   },
   "outputs": [
    {
     "data": {
      "text/plain": [
       "['/gale/netapp/scratch2/hanliu/mouse_rostral_brain/ITSpatial/BW/ITSpatial//ITSpatial.IT-L23+ACA.CGN-Both.rate.bw',\n",
       " '/gale/netapp/scratch2/hanliu/mouse_rostral_brain/ITSpatial/BW/ITSpatial//ITSpatial.IT-L23+AI.CGN-Both.rate.bw',\n",
       " '/gale/netapp/scratch2/hanliu/mouse_rostral_brain/ITSpatial/BW/ITSpatial//ITSpatial.IT-L23+MOp.CGN-Both.rate.bw',\n",
       " '/gale/netapp/scratch2/hanliu/mouse_rostral_brain/ITSpatial/BW/ITSpatial//ITSpatial.IT-L23+MOs.CGN-Both.rate.bw',\n",
       " '/gale/netapp/scratch2/hanliu/mouse_rostral_brain/ITSpatial/BW/ITSpatial//ITSpatial.IT-L23+ORB.CGN-Both.rate.bw',\n",
       " '/gale/netapp/scratch2/hanliu/mouse_rostral_brain/ITSpatial/BW/ITSpatial//ITSpatial.IT-L23+PFC.CGN-Both.rate.bw',\n",
       " '/gale/netapp/scratch2/hanliu/mouse_rostral_brain/ITSpatial/BW/ITSpatial//ITSpatial.IT-L23+SSp.CGN-Both.rate.bw',\n",
       " '/gale/netapp/scratch2/hanliu/mouse_rostral_brain/ITSpatial/BW/ITSpatial//ITSpatial.IT-L23+SSs.CGN-Both.rate.bw']"
      ]
     },
     "execution_count": 6,
     "metadata": {},
     "output_type": "execute_result"
    }
   ],
   "source": [
    "bigwig_list"
   ]
  },
  {
   "cell_type": "code",
   "execution_count": null,
   "metadata": {},
   "outputs": [],
   "source": []
  }
 ],
 "metadata": {
  "kernelspec": {
   "display_name": "Python 3",
   "language": "python",
   "name": "python3"
  },
  "language_info": {
   "codemirror_mode": {
    "name": "ipython",
    "version": 3
   },
   "file_extension": ".py",
   "mimetype": "text/x-python",
   "name": "python",
   "nbconvert_exporter": "python",
   "pygments_lexer": "ipython3",
   "version": "3.7.0"
  },
  "toc": {
   "base_numbering": 1,
   "nav_menu": {},
   "number_sections": true,
   "sideBar": true,
   "skip_h1_title": true,
   "title_cell": "Table of Contents",
   "title_sidebar": "Contents",
   "toc_cell": true,
   "toc_position": {},
   "toc_section_display": true,
   "toc_window_display": true
  }
 },
 "nbformat": 4,
 "nbformat_minor": 2
}
