{
 "cells": [
  {
   "cell_type": "code",
   "execution_count": null,
   "metadata": {
    "hide_input": true,
    "inputHidden": true
   },
   "outputs": [
    {
     "data": {
      "text/html": [
       "<span style=\"color:red; font-family:Helvetica Neue, Helvetica, Arial, sans-serif; font-size:2em;\">An Exception was encountered at 'In [5]'.</span>"
      ]
     },
     "metadata": {},
     "output_type": "display_data"
    }
   ],
   "source": [
    "%%html\n",
    "<span style=\"color:red; font-family:Helvetica Neue, Helvetica, Arial, sans-serif; font-size:2em;\">An Exception was encountered at 'In [5]'.</span>"
   ]
  },
  {
   "cell_type": "code",
   "execution_count": 1,
   "metadata": {
    "ExecuteTime": {
     "end_time": "2020-03-19T21:49:13.605431Z",
     "start_time": "2020-03-19T21:49:11.694859Z"
    },
    "papermill": {
     "duration": 1.903389,
     "end_time": "2020-03-19T23:05:53.406380",
     "exception": false,
     "start_time": "2020-03-19T23:05:51.502991",
     "status": "completed"
    },
    "tags": []
   },
   "outputs": [],
   "source": [
    "import pandas as pd\n",
    "import numpy as np\n",
    "from scipy.sparse import csr_matrix, load_npz, save_npz, vstack\n",
    "import seaborn as sns\n",
    "import matplotlib.pyplot as plt\n",
    "import json\n",
    "from concurrent.futures import ProcessPoolExecutor, as_completed\n",
    "import anndata\n",
    "import scanpy as sc\n",
    "from sklearn.preprocessing import StandardScaler\n",
    "import warnings\n",
    "warnings.filterwarnings('ignore')"
   ]
  },
  {
   "cell_type": "code",
   "execution_count": 2,
   "metadata": {
    "ExecuteTime": {
     "end_time": "2020-03-19T21:49:13.640195Z",
     "start_time": "2020-03-19T21:49:13.629845Z"
    },
    "papermill": {
     "duration": 0.028597,
     "end_time": "2020-03-19T23:05:53.450361",
     "exception": false,
     "start_time": "2020-03-19T23:05:53.421764",
     "status": "completed"
    },
    "tags": []
   },
   "outputs": [],
   "source": [
    "\"\"\"\n",
    "See here https://stackoverflow.com/questions/52371329/fast-spearman-correlation-between-two-pandas-dataframes\n",
    "\n",
    "Calculate correlation between two matrix, row by row\n",
    "\"\"\"\n",
    "\n",
    "from numba import njit\n",
    "import numpy as np\n",
    "\n",
    "\n",
    "@njit\n",
    "def _mean(a):\n",
    "    n = len(a)\n",
    "    b = np.empty(n)\n",
    "    for i in range(n):\n",
    "        b[i] = a[i].mean()\n",
    "    return b\n",
    "\n",
    "\n",
    "@njit\n",
    "def _std(a):\n",
    "    n = len(a)\n",
    "    b = np.empty(n)\n",
    "    for i in range(n):\n",
    "        b[i] = a[i].std()\n",
    "    return b\n",
    "\n",
    "\n",
    "@njit\n",
    "def _corr(a, b):\n",
    "    \"\"\"\n",
    "    Correlation between rows in a and b, no nan value\n",
    "    \"\"\"\n",
    "    n, k = a.shape\n",
    "    m, k = b.shape\n",
    "\n",
    "    mu_a = _mean(a)\n",
    "    mu_b = _mean(b)\n",
    "    sig_a = _std(a)\n",
    "    sig_b = _std(b)\n",
    "\n",
    "    out = np.empty((n, m))\n",
    "\n",
    "    for i in range(n):\n",
    "        for j in range(m):\n",
    "            _sig_a = sig_a[i]\n",
    "            _sig_b = sig_b[j]\n",
    "            if _sig_a == 0 or _sig_b == 0:\n",
    "                # if any variable std == 0\n",
    "                out[i, j] = np.nan\n",
    "            else:\n",
    "                out[i, j] = (a[i] - mu_a[i]) @ (b[j] -\n",
    "                                                mu_b[j]) / k / _sig_a / _sig_b\n",
    "    return out\n",
    "\n",
    "\n",
    "def corr(a, b, method='pearson'):\n",
    "    if method.lower()[0] == 'p':\n",
    "        pass\n",
    "    elif method.lower()[0] == 's':\n",
    "        # turn a, b in to rank matrix\n",
    "        a = a.argsort(axis=1).argsort(axis=1)\n",
    "        b = b.argsort(axis=1).argsort(axis=1)\n",
    "    else:\n",
    "        raise ValueError('Method can only be pearson or spearman')\n",
    "\n",
    "    return _corr(a, b)\n",
    "\n",
    "\n",
    "def chunk_corr(dmr_data, gene_data, mask, cutoff):\n",
    "    record = corr(a=dmr_data, b=gene_data)\n",
    "    record[np.abs(record) < cutoff] = 0\n",
    "    pass_record = csr_matrix(record)\n",
    "    masked_pass_record = pass_record.multiply(mask)\n",
    "    return masked_pass_record"
   ]
  },
  {
   "cell_type": "code",
   "execution_count": 3,
   "metadata": {
    "ExecuteTime": {
     "end_time": "2020-03-19T21:49:13.643882Z",
     "start_time": "2020-03-19T21:49:13.641540Z"
    },
    "papermill": {
     "duration": 0.01894,
     "end_time": "2020-03-19T23:05:53.482931",
     "exception": false,
     "start_time": "2020-03-19T23:05:53.463991",
     "status": "completed"
    },
    "tags": [
     "parameters"
    ]
   },
   "outputs": [],
   "source": [
    "chrom = 'chr16'\n",
    "chunk_size = 1000\n",
    "cpu = 40\n",
    "mask_dir = 'DMR_gene_10M_mask'\n",
    "\n",
    "# generate null\n",
    "dmr_sample = 5000\n",
    "repeat = 200\n",
    "\n",
    "# sig corr\n",
    "cutoff = 0.3"
   ]
  },
  {
   "cell_type": "code",
   "execution_count": 4,
   "metadata": {
    "papermill": {
     "duration": 0.018945,
     "end_time": "2020-03-19T23:05:53.515451",
     "exception": false,
     "start_time": "2020-03-19T23:05:53.496506",
     "status": "completed"
    },
    "tags": [
     "injected-parameters"
    ]
   },
   "outputs": [],
   "source": [
    "# Parameters\n",
    "chrom = \"chrY\"\n"
   ]
  },
  {
   "cell_type": "markdown",
   "metadata": {
    "papermill": {
     "duration": 0.014167,
     "end_time": "2020-03-19T23:05:53.544211",
     "exception": false,
     "start_time": "2020-03-19T23:05:53.530044",
     "status": "completed"
    },
    "tags": []
   },
   "source": [
    "## Load Data"
   ]
  },
  {
   "cell_type": "code",
   "execution_count": 5,
   "metadata": {
    "ExecuteTime": {
     "end_time": "2020-03-19T21:49:16.333610Z",
     "start_time": "2020-03-19T21:49:13.645419Z"
    },
    "papermill": {
     "duration": 0.34234,
     "end_time": "2020-03-19T23:05:53.900482",
     "exception": true,
     "start_time": "2020-03-19T23:05:53.558142",
     "status": "failed"
    },
    "tags": []
   },
   "outputs": [
    {
     "ename": "FileNotFoundError",
     "evalue": "[Errno 2] No such file or directory: '/home/hanliu/project/mouse_rostral_brain/study/DMRGeneCorr/DMR_gene_10M_mask/chrY.npz'",
     "output_type": "error",
     "traceback": [
      "\u001b[0;31m---------------------------------------------------------------------------\u001b[0m",
      "\u001b[0;31mFileNotFoundError\u001b[0m                         Traceback (most recent call last)",
      "\u001b[0;32m<ipython-input-5-0fc027209a5d>\u001b[0m in \u001b[0;36m<module>\u001b[0;34m\u001b[0m\n\u001b[1;32m      6\u001b[0m )\n\u001b[1;32m      7\u001b[0m dist_mask = load_npz(\n\u001b[0;32m----> 8\u001b[0;31m     \u001b[0;34mf'/home/hanliu/project/mouse_rostral_brain/study/DMRGeneCorr/{mask_dir}/{chrom}.npz'\u001b[0m\u001b[0;34m\u001b[0m\u001b[0;34m\u001b[0m\u001b[0m\n\u001b[0m\u001b[1;32m      9\u001b[0m )\n\u001b[1;32m     10\u001b[0m \u001b[0mdist_mask\u001b[0m \u001b[0;34m=\u001b[0m \u001b[0mdist_mask\u001b[0m\u001b[0;34m.\u001b[0m\u001b[0mT\u001b[0m\u001b[0;34m\u001b[0m\u001b[0;34m\u001b[0m\u001b[0m\n",
      "\u001b[0;32m~/miniconda3/envs/clustering/lib/python3.7/site-packages/scipy/sparse/_matrix_io.py\u001b[0m in \u001b[0;36mload_npz\u001b[0;34m(file)\u001b[0m\n\u001b[1;32m    129\u001b[0m     \"\"\"\n\u001b[1;32m    130\u001b[0m \u001b[0;34m\u001b[0m\u001b[0m\n\u001b[0;32m--> 131\u001b[0;31m     \u001b[0;32mwith\u001b[0m \u001b[0mnp\u001b[0m\u001b[0;34m.\u001b[0m\u001b[0mload\u001b[0m\u001b[0;34m(\u001b[0m\u001b[0mfile\u001b[0m\u001b[0;34m,\u001b[0m \u001b[0;34m**\u001b[0m\u001b[0mPICKLE_KWARGS\u001b[0m\u001b[0;34m)\u001b[0m \u001b[0;32mas\u001b[0m \u001b[0mloaded\u001b[0m\u001b[0;34m:\u001b[0m\u001b[0;34m\u001b[0m\u001b[0;34m\u001b[0m\u001b[0m\n\u001b[0m\u001b[1;32m    132\u001b[0m         \u001b[0;32mtry\u001b[0m\u001b[0;34m:\u001b[0m\u001b[0;34m\u001b[0m\u001b[0;34m\u001b[0m\u001b[0m\n\u001b[1;32m    133\u001b[0m             \u001b[0mmatrix_format\u001b[0m \u001b[0;34m=\u001b[0m \u001b[0mloaded\u001b[0m\u001b[0;34m[\u001b[0m\u001b[0;34m'format'\u001b[0m\u001b[0;34m]\u001b[0m\u001b[0;34m\u001b[0m\u001b[0;34m\u001b[0m\u001b[0m\n",
      "\u001b[0;32m~/miniconda3/envs/clustering/lib/python3.7/site-packages/numpy/lib/npyio.py\u001b[0m in \u001b[0;36mload\u001b[0;34m(file, mmap_mode, allow_pickle, fix_imports, encoding)\u001b[0m\n\u001b[1;32m    426\u001b[0m         \u001b[0mown_fid\u001b[0m \u001b[0;34m=\u001b[0m \u001b[0;32mFalse\u001b[0m\u001b[0;34m\u001b[0m\u001b[0;34m\u001b[0m\u001b[0m\n\u001b[1;32m    427\u001b[0m     \u001b[0;32melse\u001b[0m\u001b[0;34m:\u001b[0m\u001b[0;34m\u001b[0m\u001b[0;34m\u001b[0m\u001b[0m\n\u001b[0;32m--> 428\u001b[0;31m         \u001b[0mfid\u001b[0m \u001b[0;34m=\u001b[0m \u001b[0mopen\u001b[0m\u001b[0;34m(\u001b[0m\u001b[0mos_fspath\u001b[0m\u001b[0;34m(\u001b[0m\u001b[0mfile\u001b[0m\u001b[0;34m)\u001b[0m\u001b[0;34m,\u001b[0m \u001b[0;34m\"rb\"\u001b[0m\u001b[0;34m)\u001b[0m\u001b[0;34m\u001b[0m\u001b[0;34m\u001b[0m\u001b[0m\n\u001b[0m\u001b[1;32m    429\u001b[0m         \u001b[0mown_fid\u001b[0m \u001b[0;34m=\u001b[0m \u001b[0;32mTrue\u001b[0m\u001b[0;34m\u001b[0m\u001b[0;34m\u001b[0m\u001b[0m\n\u001b[1;32m    430\u001b[0m \u001b[0;34m\u001b[0m\u001b[0m\n",
      "\u001b[0;31mFileNotFoundError\u001b[0m: [Errno 2] No such file or directory: '/home/hanliu/project/mouse_rostral_brain/study/DMRGeneCorr/DMR_gene_10M_mask/chrY.npz'"
     ]
    }
   ],
   "source": [
    "dmr_df = pd.read_msgpack(\n",
    "    f'/home/hanliu/project/mouse_rostral_brain/study/DMRGeneCorr/DMR_rate/SubDMR_rate_no_na.{chrom}.msg'\n",
    ")\n",
    "gene_df = pd.read_msgpack(\n",
    "    f'/home/hanliu/project/mouse_rostral_brain/study/DMRGeneCorr/Gene-slop2k-mCH/SubDMR_rate_no_na.{chrom}.msg'\n",
    ")\n",
    "dist_mask = load_npz(\n",
    "    f'/home/hanliu/project/mouse_rostral_brain/study/DMRGeneCorr/{mask_dir}/{chrom}.npz'\n",
    ")\n",
    "dist_mask = dist_mask.T\n",
    "\n",
    "with open(\n",
    "        f'/home/hanliu/project/mouse_rostral_brain/study/DMRGeneCorr/{mask_dir}/{chrom}.gene_int.json'\n",
    ") as f:\n",
    "    gene_to_int = json.load(f)\n",
    "\n",
    "# reindex gene_df\n",
    "reindex = gene_df.index.map(gene_to_int).argsort()\n",
    "gene_df = gene_df.iloc[reindex].copy()\n",
    "\n",
    "dmr_df.columns = dmr_df.columns.map(lambda i: i.replace('_', ' '))\n",
    "use_cols = dmr_df.columns & gene_df.columns\n",
    "\n",
    "dmr_df = dmr_df[use_cols].copy()\n",
    "gene_df = gene_df[use_cols].copy()\n",
    "\n",
    "cluster_mcg = pd.read_csv(\n",
    "    '/home/hanliu/project/mouse_rostral_brain/study/DMRGeneCorr/ClusterGlobalmCG.csv',\n",
    "    index_col=0,\n",
    "    header=None,\n",
    "    squeeze=True).loc[use_cols]\n",
    "cluster_mch = pd.read_csv(\n",
    "    '/home/hanliu/project/mouse_rostral_brain/study/DMRGeneCorr/ClusterGlobalmCH.csv',\n",
    "    index_col=0,\n",
    "    header=None,\n",
    "    squeeze=True).loc[use_cols]\n",
    "\n",
    "# standardize global\n",
    "cluster_mcg = (cluster_mcg - cluster_mcg.mean()) / cluster_mcg.std()\n",
    "cluster_mch = (cluster_mch - cluster_mch.mean()) / cluster_mch.std()\n",
    "\n",
    "print(dmr_df.shape[0], 'DMRs')\n",
    "print(gene_df.shape[0], 'Genes')"
   ]
  },
  {
   "cell_type": "markdown",
   "metadata": {
    "papermill": {
     "duration": null,
     "end_time": null,
     "exception": null,
     "start_time": null,
     "status": "pending"
    },
    "tags": []
   },
   "source": [
    "## Regress Out DMR global corr\n",
    "- Global mCH\n",
    "- Global mCG"
   ]
  },
  {
   "cell_type": "code",
   "execution_count": null,
   "metadata": {
    "ExecuteTime": {
     "end_time": "2020-03-19T21:49:16.438828Z",
     "start_time": "2020-03-19T21:49:16.335444Z"
    },
    "papermill": {
     "duration": null,
     "end_time": null,
     "exception": null,
     "start_time": null,
     "status": "pending"
    },
    "tags": []
   },
   "outputs": [],
   "source": [
    "dmr_adata = anndata.AnnData(X=dmr_df.values.T,\n",
    "                obs=pd.DataFrame([], index=dmr_df.columns),\n",
    "                var=pd.DataFrame([], index=dmr_df.index))"
   ]
  },
  {
   "cell_type": "code",
   "execution_count": null,
   "metadata": {
    "ExecuteTime": {
     "end_time": "2020-03-19T21:49:17.502214Z",
     "start_time": "2020-03-19T21:49:16.910580Z"
    },
    "papermill": {
     "duration": null,
     "end_time": null,
     "exception": null,
     "start_time": null,
     "status": "pending"
    },
    "tags": []
   },
   "outputs": [],
   "source": [
    "dmr_adata.obs['cluster_mch'] = cluster_mch\n",
    "dmr_adata.obs['cluster_mcg'] = cluster_mcg\n",
    "\n",
    "sns.jointplot(x=dmr_adata.obs['cluster_mcg'], y=dmr_adata.obs['cluster_mch'])"
   ]
  },
  {
   "cell_type": "code",
   "execution_count": null,
   "metadata": {
    "ExecuteTime": {
     "end_time": "2020-03-19T21:49:19.595786Z",
     "start_time": "2020-03-19T21:49:17.684857Z"
    },
    "papermill": {
     "duration": null,
     "end_time": null,
     "exception": null,
     "start_time": null,
     "status": "pending"
    },
    "scrolled": false,
    "tags": []
   },
   "outputs": [],
   "source": [
    "fig = plt.figure(figsize=(10, 5), dpi=300)\n",
    "plt.imshow(dmr_adata.X, aspect='auto', vmin=0, vmax=1)"
   ]
  },
  {
   "cell_type": "code",
   "execution_count": null,
   "metadata": {
    "ExecuteTime": {
     "end_time": "2020-03-19T21:49:20.405254Z",
     "start_time": "2020-03-19T21:49:19.597562Z"
    },
    "papermill": {
     "duration": null,
     "end_time": null,
     "exception": null,
     "start_time": null,
     "status": "pending"
    },
    "tags": []
   },
   "outputs": [],
   "source": [
    "# remove dmr that has 0 std\n",
    "# otherwise regress out will fail.\n",
    "dmr_adata = dmr_adata[:, dmr_adata.X.std(axis=0) > 0].copy()\n",
    "\n",
    "# since this may change the shape of dmr_adata, reindex mask as well\n",
    "dist_mask = dist_mask[dmr_adata.X.std(axis=0) > 0, :]"
   ]
  },
  {
   "cell_type": "code",
   "execution_count": null,
   "metadata": {
    "ExecuteTime": {
     "end_time": "2020-03-19T21:49:42.446320Z",
     "start_time": "2020-03-19T21:49:20.407282Z"
    },
    "papermill": {
     "duration": null,
     "end_time": null,
     "exception": null,
     "start_time": null,
     "status": "pending"
    },
    "scrolled": true,
    "tags": []
   },
   "outputs": [],
   "source": [
    "sc.pp.regress_out(dmr_adata, \n",
    "                  keys=['cluster_mch', 'cluster_mcg'], \n",
    "                  n_jobs=cpu)"
   ]
  },
  {
   "cell_type": "code",
   "execution_count": null,
   "metadata": {
    "ExecuteTime": {
     "end_time": "2020-03-19T21:49:43.030371Z",
     "start_time": "2020-03-19T21:49:42.448506Z"
    },
    "papermill": {
     "duration": null,
     "end_time": null,
     "exception": null,
     "start_time": null,
     "status": "pending"
    },
    "tags": []
   },
   "outputs": [],
   "source": [
    "scaler = StandardScaler(copy=False)\n",
    "dmr_adata.X = scaler.fit_transform(dmr_adata.X)"
   ]
  },
  {
   "cell_type": "code",
   "execution_count": null,
   "metadata": {
    "ExecuteTime": {
     "end_time": "2020-03-19T21:49:45.216163Z",
     "start_time": "2020-03-19T21:49:43.031915Z"
    },
    "papermill": {
     "duration": null,
     "end_time": null,
     "exception": null,
     "start_time": null,
     "status": "pending"
    },
    "tags": []
   },
   "outputs": [],
   "source": [
    "fig = plt.figure(figsize=(10, 5), dpi=300)\n",
    "plt.imshow(dmr_adata.X, aspect='auto', cmap='coolwarm', \n",
    "           vmin=-1, vmax=1)"
   ]
  },
  {
   "cell_type": "markdown",
   "metadata": {
    "papermill": {
     "duration": null,
     "end_time": null,
     "exception": null,
     "start_time": null,
     "status": "pending"
    },
    "tags": []
   },
   "source": [
    "## Regress Out Gene Global Corr"
   ]
  },
  {
   "cell_type": "code",
   "execution_count": null,
   "metadata": {
    "ExecuteTime": {
     "end_time": "2020-03-19T21:49:45.222640Z",
     "start_time": "2020-03-19T21:49:45.217617Z"
    },
    "papermill": {
     "duration": null,
     "end_time": null,
     "exception": null,
     "start_time": null,
     "status": "pending"
    },
    "tags": []
   },
   "outputs": [],
   "source": [
    "gene_adata = anndata.AnnData(X=gene_df.values.T,\n",
    "                obs=pd.DataFrame([], index=gene_df.columns),\n",
    "                var=pd.DataFrame([], index=gene_df.index))"
   ]
  },
  {
   "cell_type": "code",
   "execution_count": null,
   "metadata": {
    "ExecuteTime": {
     "end_time": "2020-03-19T21:49:45.813084Z",
     "start_time": "2020-03-19T21:49:45.223880Z"
    },
    "papermill": {
     "duration": null,
     "end_time": null,
     "exception": null,
     "start_time": null,
     "status": "pending"
    },
    "tags": []
   },
   "outputs": [],
   "source": [
    "gene_adata.obs['cluster_mch'] = cluster_mch\n",
    "gene_adata.obs['cluster_mcg'] = cluster_mcg\n",
    "\n",
    "sns.jointplot(x=gene_adata.obs['cluster_mcg'], \n",
    "              y=gene_adata.obs['cluster_mch'])"
   ]
  },
  {
   "cell_type": "code",
   "execution_count": null,
   "metadata": {
    "ExecuteTime": {
     "end_time": "2020-03-19T21:49:46.909932Z",
     "start_time": "2020-03-19T21:49:45.815254Z"
    },
    "papermill": {
     "duration": null,
     "end_time": null,
     "exception": null,
     "start_time": null,
     "status": "pending"
    },
    "tags": []
   },
   "outputs": [],
   "source": [
    "fig = plt.figure(figsize=(10, 5), dpi=300)\n",
    "plt.imshow(gene_adata.X, aspect='auto', vmin=0, vmax=0.1)"
   ]
  },
  {
   "cell_type": "code",
   "execution_count": null,
   "metadata": {
    "ExecuteTime": {
     "end_time": "2020-03-19T21:49:47.163503Z",
     "start_time": "2020-03-19T21:49:46.911560Z"
    },
    "papermill": {
     "duration": null,
     "end_time": null,
     "exception": null,
     "start_time": null,
     "status": "pending"
    },
    "tags": []
   },
   "outputs": [],
   "source": [
    "# remove dmr that has 0 std\n",
    "# otherwise regress out will fail.\n",
    "gene_adata = gene_adata[:, gene_adata.X.std(axis=0) > 0].copy()\n",
    "\n",
    "# since this may change the shape of dmr_adata, reindex mask as well\n",
    "dist_mask = dist_mask[:, gene_adata.X.std(axis=0) > 0]"
   ]
  },
  {
   "cell_type": "code",
   "execution_count": null,
   "metadata": {
    "ExecuteTime": {
     "end_time": "2020-03-19T21:49:49.429968Z",
     "start_time": "2020-03-19T21:49:47.164907Z"
    },
    "papermill": {
     "duration": null,
     "end_time": null,
     "exception": null,
     "start_time": null,
     "status": "pending"
    },
    "tags": []
   },
   "outputs": [],
   "source": [
    "sc.pp.regress_out(gene_adata, \n",
    "                  keys=['cluster_mch', 'cluster_mcg'], \n",
    "                  n_jobs=cpu)\n"
   ]
  },
  {
   "cell_type": "code",
   "execution_count": null,
   "metadata": {
    "ExecuteTime": {
     "end_time": "2020-03-19T21:49:49.450889Z",
     "start_time": "2020-03-19T21:49:49.432395Z"
    },
    "papermill": {
     "duration": null,
     "end_time": null,
     "exception": null,
     "start_time": null,
     "status": "pending"
    },
    "tags": []
   },
   "outputs": [],
   "source": [
    "scaler = StandardScaler(copy=False)\n",
    "gene_adata.X = scaler.fit_transform(gene_adata.X)"
   ]
  },
  {
   "cell_type": "code",
   "execution_count": null,
   "metadata": {
    "ExecuteTime": {
     "end_time": "2020-03-19T21:49:50.612750Z",
     "start_time": "2020-03-19T21:49:49.453470Z"
    },
    "papermill": {
     "duration": null,
     "end_time": null,
     "exception": null,
     "start_time": null,
     "status": "pending"
    },
    "tags": []
   },
   "outputs": [],
   "source": [
    "fig = plt.figure(figsize=(10, 5), dpi=300)\n",
    "plt.imshow(gene_adata.X, cmap='coolwarm', aspect='auto', vmin=-1, vmax=1)"
   ]
  },
  {
   "cell_type": "markdown",
   "metadata": {
    "papermill": {
     "duration": null,
     "end_time": null,
     "exception": null,
     "start_time": null,
     "status": "pending"
    },
    "tags": []
   },
   "source": [
    "## Calculate residual Corr"
   ]
  },
  {
   "cell_type": "code",
   "execution_count": null,
   "metadata": {
    "ExecuteTime": {
     "end_time": "2020-03-19T21:50:10.102200Z",
     "start_time": "2020-03-19T21:49:50.614416Z"
    },
    "papermill": {
     "duration": null,
     "end_time": null,
     "exception": null,
     "start_time": null,
     "status": "pending"
    },
    "tags": []
   },
   "outputs": [],
   "source": [
    "gene_data = gene_adata.X.T\n",
    "total_dmr_data = dmr_adata.X.T\n",
    "\n",
    "results = []\n",
    "with ProcessPoolExecutor(cpu) as executor:\n",
    "    futures = {}\n",
    "    for i, chunk_start in enumerate(range(0, total_dmr_data.shape[0], chunk_size)):\n",
    "        dmr_data = total_dmr_data[chunk_start:chunk_start+chunk_size, :]\n",
    "        mask = dist_mask[chunk_start:chunk_start+chunk_size, :]\n",
    "    \n",
    "        future = executor.submit(chunk_corr,\n",
    "                                 dmr_data=dmr_data, \n",
    "                                 gene_data=gene_data, \n",
    "                                 mask=mask,\n",
    "                                 cutoff=0.2)\n",
    "        futures[future] = i\n",
    "\n",
    "    results = {}\n",
    "    for future in as_completed(futures):\n",
    "        chunk_id = futures[future]\n",
    "        masked_pass_record = future.result()\n",
    "        results[chunk_id] = masked_pass_record\n",
    "\n",
    "# final concat\n",
    "final_adata = anndata.AnnData(vstack((results[i] for i in range(len(results)))), \n",
    "                              obs=dmr_adata.var.copy(), \n",
    "                              var=gene_adata.var.copy())\n",
    "final_adata"
   ]
  },
  {
   "cell_type": "markdown",
   "metadata": {
    "papermill": {
     "duration": null,
     "end_time": null,
     "exception": null,
     "start_time": null,
     "status": "pending"
    },
    "tags": []
   },
   "source": [
    "## Calculate Null Dist"
   ]
  },
  {
   "cell_type": "code",
   "execution_count": null,
   "metadata": {
    "ExecuteTime": {
     "end_time": "2020-03-19T21:50:10.106776Z",
     "start_time": "2020-03-19T21:50:10.104325Z"
    },
    "papermill": {
     "duration": null,
     "end_time": null,
     "exception": null,
     "start_time": null,
     "status": "pending"
    },
    "tags": []
   },
   "outputs": [],
   "source": [
    "# # row is cluster\n",
    "# shuffled_gene_data_T = gene_data.T.copy()\n",
    "# shuffled_dmr_data_T = total_dmr_data.T.copy()"
   ]
  },
  {
   "cell_type": "code",
   "execution_count": null,
   "metadata": {
    "ExecuteTime": {
     "end_time": "2020-03-19T21:50:10.110297Z",
     "start_time": "2020-03-19T21:50:10.108203Z"
    },
    "papermill": {
     "duration": null,
     "end_time": null,
     "exception": null,
     "start_time": null,
     "status": "pending"
    },
    "scrolled": true,
    "tags": []
   },
   "outputs": [],
   "source": [
    "# # shuffle axis 0 inplace\n",
    "# with ProcessPoolExecutor(cpu) as executor:\n",
    "#     futures = {}\n",
    "#     results = []\n",
    "#     for _ in range(repeat):\n",
    "#         # shuffle axis 0 in each repeat\n",
    "#         np.random.shuffle(shuffled_gene_data_T)\n",
    "#         np.random.shuffle(shuffled_dmr_data_T)\n",
    "#         \n",
    "#         # downsample DMR data, no need to use full DMR list to calc null\n",
    "#         if shuffled_dmr_data_T.shape[1] > dmr_sample:\n",
    "#             indices = np.random.choice(shuffled_dmr_data_T.shape[1], dmr_sample, replace=False)\n",
    "#             this_dmrs = shuffled_dmr_data_T[:, indices]\n",
    "#             this_mask = dist_mask[indices, :]\n",
    "#         else:\n",
    "#             this_mask = dist_mask\n",
    "#             this_dmrs = shuffled_dmr_data_T\n",
    "#         mask = dist_mask[chunk_start:chunk_start+chunk_size, :]\n",
    "#     \n",
    "#         future = executor.submit(chunk_corr,\n",
    "#                                  dmr_data=this_dmrs.T, \n",
    "#                                  gene_data=shuffled_gene_data_T.T, \n",
    "#                                  mask=this_mask,\n",
    "#                                  cutoff=0)\n",
    "#         futures[future] = i\n",
    "# \n",
    "#     for future in as_completed(futures):\n",
    "#         chunk_id = futures[future]\n",
    "#         masked_pass_record = future.result()\n",
    "#         results.append(masked_pass_record)\n",
    "# \n",
    "# # final concat\n",
    "# final_null_result = vstack(results)"
   ]
  },
  {
   "cell_type": "code",
   "execution_count": null,
   "metadata": {
    "ExecuteTime": {
     "end_time": "2020-03-19T21:50:10.113510Z",
     "start_time": "2020-03-19T21:50:10.111633Z"
    },
    "papermill": {
     "duration": null,
     "end_time": null,
     "exception": null,
     "start_time": null,
     "status": "pending"
    },
    "tags": []
   },
   "outputs": [],
   "source": [
    "# sns.distplot(np.random.choice(final_null_result.data, 10000, replace=False))"
   ]
  },
  {
   "cell_type": "code",
   "execution_count": null,
   "metadata": {
    "ExecuteTime": {
     "end_time": "2020-03-19T21:50:10.116394Z",
     "start_time": "2020-03-19T21:50:10.114708Z"
    },
    "papermill": {
     "duration": null,
     "end_time": null,
     "exception": null,
     "start_time": null,
     "status": "pending"
    },
    "scrolled": false,
    "tags": []
   },
   "outputs": [],
   "source": [
    "# p_values = {}\n",
    "# for i in np.arange(0.3, 1, 0.005):\n",
    "#     total_n = final_null_result.data.size\n",
    "#     p = (final_null_result > i).sum() / total_n\n",
    "#     p_values[i] = p\n",
    "# p_values = pd.Series(p_values)\n",
    "# p_values = -np.log10(p_values)\n",
    "# p_values.replace(np.inf, 10, inplace=True)"
   ]
  },
  {
   "cell_type": "code",
   "execution_count": null,
   "metadata": {
    "ExecuteTime": {
     "end_time": "2020-03-19T21:50:10.120130Z",
     "start_time": "2020-03-19T21:50:10.117605Z"
    },
    "papermill": {
     "duration": null,
     "end_time": null,
     "exception": null,
     "start_time": null,
     "status": "pending"
    },
    "tags": []
   },
   "outputs": [],
   "source": [
    "# cutoff = p_values[p_values > neg_logp_cutoff].index[0]\n",
    "cutoff"
   ]
  },
  {
   "cell_type": "code",
   "execution_count": null,
   "metadata": {
    "ExecuteTime": {
     "end_time": "2020-03-19T21:50:19.790957Z",
     "start_time": "2020-03-19T21:50:10.121321Z"
    },
    "papermill": {
     "duration": null,
     "end_time": null,
     "exception": null,
     "start_time": null,
     "status": "pending"
    },
    "tags": []
   },
   "outputs": [],
   "source": [
    "fig = plt.figure(figsize=(5, 10), dpi=300)\n",
    "plt.imshow(final_adata.X.todense(), cmap='coolwarm',\n",
    "           aspect='auto', vmin=-1, vmax=1)"
   ]
  },
  {
   "cell_type": "code",
   "execution_count": null,
   "metadata": {
    "ExecuteTime": {
     "end_time": "2020-03-19T21:50:20.315410Z",
     "start_time": "2020-03-19T21:50:19.792527Z"
    },
    "papermill": {
     "duration": null,
     "end_time": null,
     "exception": null,
     "start_time": null,
     "status": "pending"
    },
    "tags": []
   },
   "outputs": [],
   "source": [
    "sns.distplot(final_adata.X.data, kde=False, bins=100)"
   ]
  },
  {
   "cell_type": "code",
   "execution_count": null,
   "metadata": {
    "ExecuteTime": {
     "end_time": "2020-03-19T21:50:20.594225Z",
     "start_time": "2020-03-19T21:50:20.316817Z"
    },
    "papermill": {
     "duration": null,
     "end_time": null,
     "exception": null,
     "start_time": null,
     "status": "pending"
    },
    "tags": []
   },
   "outputs": [],
   "source": [
    "final_adata.X = final_adata.X.multiply(np.abs(final_adata.X) > cutoff)"
   ]
  },
  {
   "cell_type": "code",
   "execution_count": null,
   "metadata": {
    "ExecuteTime": {
     "end_time": "2020-03-19T21:51:53.718178Z",
     "start_time": "2020-03-19T21:51:53.705644Z"
    },
    "papermill": {
     "duration": null,
     "end_time": null,
     "exception": null,
     "start_time": null,
     "status": "pending"
    },
    "tags": []
   },
   "outputs": [],
   "source": [
    "(final_adata.X.data > 0).sum(), (final_adata.X.data < 0).sum()"
   ]
  },
  {
   "cell_type": "code",
   "execution_count": null,
   "metadata": {
    "ExecuteTime": {
     "end_time": "2020-03-19T21:51:53.939786Z",
     "start_time": "2020-03-19T21:51:53.927637Z"
    },
    "papermill": {
     "duration": null,
     "end_time": null,
     "exception": null,
     "start_time": null,
     "status": "pending"
    },
    "tags": []
   },
   "outputs": [],
   "source": [
    "(final_adata.X.data > 0.5).sum(), (final_adata.X.data < -0.5).sum()"
   ]
  },
  {
   "cell_type": "code",
   "execution_count": null,
   "metadata": {
    "ExecuteTime": {
     "end_time": "2020-03-19T21:51:57.244954Z",
     "start_time": "2020-03-19T21:51:57.064136Z"
    },
    "papermill": {
     "duration": null,
     "end_time": null,
     "exception": null,
     "start_time": null,
     "status": "pending"
    },
    "tags": []
   },
   "outputs": [],
   "source": [
    "final_adata.write_h5ad(f'{chrom}.h5ad')"
   ]
  },
  {
   "cell_type": "code",
   "execution_count": null,
   "metadata": {
    "ExecuteTime": {
     "end_time": "2020-03-19T21:51:57.883846Z",
     "start_time": "2020-03-19T21:51:57.880973Z"
    },
    "papermill": {
     "duration": null,
     "end_time": null,
     "exception": null,
     "start_time": null,
     "status": "pending"
    },
    "tags": []
   },
   "outputs": [],
   "source": [
    "final_adata"
   ]
  },
  {
   "cell_type": "code",
   "execution_count": null,
   "metadata": {
    "papermill": {
     "duration": null,
     "end_time": null,
     "exception": null,
     "start_time": null,
     "status": "pending"
    },
    "tags": []
   },
   "outputs": [],
   "source": []
  },
  {
   "cell_type": "code",
   "execution_count": null,
   "metadata": {
    "papermill": {
     "duration": null,
     "end_time": null,
     "exception": null,
     "start_time": null,
     "status": "pending"
    },
    "tags": []
   },
   "outputs": [],
   "source": []
  }
 ],
 "metadata": {
  "hide_input": false,
  "kernelspec": {
   "display_name": "Python 3",
   "language": "python",
   "name": "python3"
  },
  "language_info": {
   "codemirror_mode": {
    "name": "ipython",
    "version": 3
   },
   "file_extension": ".py",
   "mimetype": "text/x-python",
   "name": "python",
   "nbconvert_exporter": "python",
   "pygments_lexer": "ipython3",
   "version": "3.7.3"
  },
  "papermill": {
   "duration": 3.998251,
   "end_time": "2020-03-19T23:05:54.606473",
   "environment_variables": {},
   "exception": true,
   "input_path": "SingleChromCorr-10M.ipynb",
   "output_path": "MaskedResult/SingleChromCorr-10M.chrY.ipynb",
   "parameters": {
    "chrom": "chrY"
   },
   "start_time": "2020-03-19T23:05:50.608222",
   "version": "1.0.1"
  },
  "toc": {
   "base_numbering": 1,
   "nav_menu": {},
   "number_sections": true,
   "sideBar": true,
   "skip_h1_title": true,
   "title_cell": "Table of Contents",
   "title_sidebar": "Contents",
   "toc_cell": false,
   "toc_position": {},
   "toc_section_display": true,
   "toc_window_display": true
  }
 },
 "nbformat": 4,
 "nbformat_minor": 2
}