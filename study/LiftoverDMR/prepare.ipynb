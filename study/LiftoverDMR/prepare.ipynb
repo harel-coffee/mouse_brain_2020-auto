{
 "cells": [
  {
   "cell_type": "code",
   "execution_count": 1,
   "metadata": {
    "ExecuteTime": {
     "end_time": "2020-01-08T02:47:44.781834Z",
     "start_time": "2020-01-08T02:47:44.556989Z"
    }
   },
   "outputs": [],
   "source": [
    "import pathlib\n",
    "import pybedtools"
   ]
  },
  {
   "cell_type": "code",
   "execution_count": 4,
   "metadata": {
    "ExecuteTime": {
     "end_time": "2020-01-08T02:49:21.038329Z",
     "start_time": "2020-01-08T02:49:21.036065Z"
    }
   },
   "outputs": [],
   "source": [
    "chain_file = '/home/hanliu/ref/liftover/mm10ToHg19.over.chain.gz'\n",
    "chrom_size = '/home/hanliu/ref/mouse/genome/mm10.main.chrom.sizes'\n",
    "input_bed = '/home/hanliu/project/mouse_rostral_brain/DMR/MajorType/MajorDMR.total.bed'\n",
    "level = 'MajorType'"
   ]
  },
  {
   "cell_type": "markdown",
   "metadata": {},
   "source": [
    "### Note\n",
    "Liftover ignore region length == 1, need to slop DMR first"
   ]
  },
  {
   "cell_type": "code",
   "execution_count": 5,
   "metadata": {
    "ExecuteTime": {
     "end_time": "2020-01-08T02:49:27.713427Z",
     "start_time": "2020-01-08T02:49:21.327340Z"
    }
   },
   "outputs": [
    {
     "data": {
      "text/plain": [
       "'nohup liftOver MajorType.DMR.slop250.bed /home/hanliu/ref/liftover/mm10ToHg19.over.chain.gz /home/hanliu/project/mouse_rostral_brain/study/LiftoverDMR/MajorTypeDMR.lifted.0.5.bed /home/hanliu/project/mouse_rostral_brain/study/LiftoverDMR/MajorTypeDMR.unmapped.0.5.bed -minMatch=0.5 &'"
      ]
     },
     "execution_count": 5,
     "metadata": {},
     "output_type": "execute_result"
    }
   ],
   "source": [
    "\n",
    "pybedtools.BedTool(input_bed).slop(b=250, g=chrom_size).saveas(f'{level}.DMR.slop250.bed')\n",
    "\n",
    "output_dir = pathlib.Path().absolute()\n",
    "min_match = 0.5\n",
    "cmd = f'nohup liftOver {level}.DMR.slop250.bed {chain_file} {output_dir}/{level}DMR.lifted.{min_match}.bed {output_dir}/{level}DMR.unmapped.{min_match}.bed -minMatch={min_match} &'\n",
    "cmd"
   ]
  },
  {
   "cell_type": "code",
   "execution_count": null,
   "metadata": {},
   "outputs": [],
   "source": []
  }
 ],
 "metadata": {
  "hide_input": false,
  "kernelspec": {
   "display_name": "Python 3",
   "language": "python",
   "name": "python3"
  },
  "language_info": {
   "codemirror_mode": {
    "name": "ipython",
    "version": 3
   },
   "file_extension": ".py",
   "mimetype": "text/x-python",
   "name": "python",
   "nbconvert_exporter": "python",
   "pygments_lexer": "ipython3",
   "version": "3.7.3"
  },
  "toc": {
   "base_numbering": 1,
   "nav_menu": {},
   "number_sections": true,
   "sideBar": true,
   "skip_h1_title": true,
   "title_cell": "Table of Contents",
   "title_sidebar": "Contents",
   "toc_cell": false,
   "toc_position": {},
   "toc_section_display": true,
   "toc_window_display": true
  }
 },
 "nbformat": 4,
 "nbformat_minor": 2
}
