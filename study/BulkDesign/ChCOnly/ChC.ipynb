{
 "cells": [
  {
   "cell_type": "code",
   "execution_count": 1,
   "metadata": {
    "ExecuteTime": {
     "end_time": "2019-11-27T23:12:34.158343Z",
     "start_time": "2019-11-27T23:12:33.784747Z"
    }
   },
   "outputs": [],
   "source": [
    "import pathlib\n",
    "import pandas as pd\n",
    "import seaborn as sns\n",
    "import matplotlib.pyplot as plt"
   ]
  },
  {
   "cell_type": "code",
   "execution_count": 2,
   "metadata": {
    "ExecuteTime": {
     "end_time": "2019-11-27T23:12:38.213812Z",
     "start_time": "2019-11-27T23:12:38.211219Z"
    }
   },
   "outputs": [],
   "source": [
    "exclude_str = ['Outlier']\n",
    "sub_type_max_cell = 599\n",
    "random_state = 0"
   ]
  },
  {
   "cell_type": "code",
   "execution_count": 3,
   "metadata": {
    "ExecuteTime": {
     "end_time": "2019-11-27T23:12:42.360655Z",
     "start_time": "2019-11-27T23:12:42.033391Z"
    }
   },
   "outputs": [
    {
     "name": "stderr",
     "output_type": "stream",
     "text": [
      "/home/hanliu/miniconda3/envs/clustering/lib/python3.7/site-packages/IPython/core/interactiveshell.py:3326: FutureWarning: The read_msgpack is deprecated and will be removed in a future version.\n",
      "It is recommended to use pyarrow for on-the-wire transmission of pandas objects.\n",
      "  exec(code_obj, self.user_global_ns, self.user_ns)\n"
     ]
    }
   ],
   "source": [
    "cell_tidy_data = pd.read_msgpack(\n",
    "    '/home/hanliu/project/mouse_rostral_brain/study/ClusteringSummary/Summary/TotalClusteringResults.msg'\n",
    ")"
   ]
  },
  {
   "cell_type": "code",
   "execution_count": 14,
   "metadata": {
    "ExecuteTime": {
     "end_time": "2019-11-27T23:14:05.487286Z",
     "start_time": "2019-11-27T23:14:05.477989Z"
    }
   },
   "outputs": [],
   "source": [
    "judge = cell_tidy_data[[\n",
    "    'CellClass', 'MajorType', 'SubType'\n",
    "]].applymap(lambda i: sum([j in i for j in exclude_str])).sum(axis=1) == 0\n",
    "cell_tidy_data = cell_tidy_data[judge].copy()\n",
    "cell_tidy_data = cell_tidy_data[cell_tidy_data['SubType'] == 'MGE-Sst Unc5b'].copy()"
   ]
  },
  {
   "cell_type": "code",
   "execution_count": 16,
   "metadata": {
    "ExecuteTime": {
     "end_time": "2019-11-27T23:14:13.652641Z",
     "start_time": "2019-11-27T23:14:13.647906Z"
    }
   },
   "outputs": [
    {
     "data": {
      "text/plain": [
       "OLF          50\n",
       "Isocortex    44\n",
       "HPF          27\n",
       "CNU           7\n",
       "Name: MajorRegion, dtype: int64"
      ]
     },
     "execution_count": 16,
     "metadata": {},
     "output_type": "execute_result"
    }
   ],
   "source": [
    "cell_tidy_data['MajorRegion'].value_counts()"
   ]
  },
  {
   "cell_type": "code",
   "execution_count": 19,
   "metadata": {
    "ExecuteTime": {
     "end_time": "2019-11-27T23:15:06.357345Z",
     "start_time": "2019-11-27T23:15:06.348273Z"
    },
    "scrolled": false
   },
   "outputs": [
    {
     "name": "stdout",
     "output_type": "stream",
     "text": [
      "128 cells\n"
     ]
    },
    {
     "data": {
      "text/html": [
       "<div>\n",
       "<style scoped>\n",
       "    .dataframe tbody tr th:only-of-type {\n",
       "        vertical-align: middle;\n",
       "    }\n",
       "\n",
       "    .dataframe tbody tr th {\n",
       "        vertical-align: top;\n",
       "    }\n",
       "\n",
       "    .dataframe thead th {\n",
       "        text-align: right;\n",
       "    }\n",
       "</style>\n",
       "<table border=\"1\" class=\"dataframe\">\n",
       "  <thead>\n",
       "    <tr style=\"text-align: right;\">\n",
       "      <th></th>\n",
       "      <th>AllcPath</th>\n",
       "      <th>MajorRegion</th>\n",
       "      <th>SubType</th>\n",
       "    </tr>\n",
       "  </thead>\n",
       "  <tbody>\n",
       "    <tr>\n",
       "      <th>10E_M_2615</th>\n",
       "      <td>/gale/raidix/rdx-4/mapping/10E/CEMBA190627-10E...</td>\n",
       "      <td>HPF</td>\n",
       "      <td>MGE-Sst Unc5b</td>\n",
       "    </tr>\n",
       "    <tr>\n",
       "      <th>10E_M_42</th>\n",
       "      <td>/gale/raidix/rdx-4/mapping/10E/CEMBA190625-10E...</td>\n",
       "      <td>HPF</td>\n",
       "      <td>MGE-Sst Unc5b</td>\n",
       "    </tr>\n",
       "    <tr>\n",
       "      <th>11E_M_1155</th>\n",
       "      <td>/gale/raidix/rdx-4/mapping/11E/CEMBA190214-11E...</td>\n",
       "      <td>HPF</td>\n",
       "      <td>MGE-Sst Unc5b</td>\n",
       "    </tr>\n",
       "    <tr>\n",
       "      <th>11E_M_1325</th>\n",
       "      <td>/gale/raidix/rdx-4/mapping/11E/CEMBA190214-11E...</td>\n",
       "      <td>HPF</td>\n",
       "      <td>MGE-Sst Unc5b</td>\n",
       "    </tr>\n",
       "    <tr>\n",
       "      <th>11E_M_1637</th>\n",
       "      <td>/gale/raidix/rdx-4/mapping/11E/CEMBA190305-11E...</td>\n",
       "      <td>HPF</td>\n",
       "      <td>MGE-Sst Unc5b</td>\n",
       "    </tr>\n",
       "  </tbody>\n",
       "</table>\n",
       "</div>"
      ],
      "text/plain": [
       "                                                     AllcPath MajorRegion  \\\n",
       "10E_M_2615  /gale/raidix/rdx-4/mapping/10E/CEMBA190627-10E...         HPF   \n",
       "10E_M_42    /gale/raidix/rdx-4/mapping/10E/CEMBA190625-10E...         HPF   \n",
       "11E_M_1155  /gale/raidix/rdx-4/mapping/11E/CEMBA190214-11E...         HPF   \n",
       "11E_M_1325  /gale/raidix/rdx-4/mapping/11E/CEMBA190214-11E...         HPF   \n",
       "11E_M_1637  /gale/raidix/rdx-4/mapping/11E/CEMBA190305-11E...         HPF   \n",
       "\n",
       "                  SubType  \n",
       "10E_M_2615  MGE-Sst Unc5b  \n",
       "10E_M_42    MGE-Sst Unc5b  \n",
       "11E_M_1155  MGE-Sst Unc5b  \n",
       "11E_M_1325  MGE-Sst Unc5b  \n",
       "11E_M_1637  MGE-Sst Unc5b  "
      ]
     },
     "execution_count": 19,
     "metadata": {},
     "output_type": "execute_result"
    }
   ],
   "source": [
    "bulk_design_df = cell_tidy_data[['AllcPath', 'MajorRegion', 'SubType']]\n",
    "print(bulk_design_df.shape[0], 'cells')\n",
    "bulk_design_df.head()"
   ]
  },
  {
   "cell_type": "code",
   "execution_count": 21,
   "metadata": {
    "ExecuteTime": {
     "end_time": "2019-11-27T23:15:44.789997Z",
     "start_time": "2019-11-27T23:15:44.767779Z"
    }
   },
   "outputs": [],
   "source": [
    "out_dir = '/home/hanliu/ddn/hanliu/mouse_rostral_brain/ChCOnly/'\n",
    "pathlib.Path(out_dir).mkdir(exist_ok=True)\n",
    "\n",
    "bulk_design_df.to_csv('/home/hanliu/ddn/hanliu/mouse_rostral_brain/ChCOnly/cell_table.csv')"
   ]
  },
  {
   "cell_type": "code",
   "execution_count": null,
   "metadata": {},
   "outputs": [],
   "source": []
  },
  {
   "cell_type": "code",
   "execution_count": null,
   "metadata": {},
   "outputs": [],
   "source": []
  },
  {
   "cell_type": "code",
   "execution_count": null,
   "metadata": {},
   "outputs": [],
   "source": []
  },
  {
   "cell_type": "code",
   "execution_count": null,
   "metadata": {},
   "outputs": [],
   "source": []
  },
  {
   "cell_type": "code",
   "execution_count": null,
   "metadata": {},
   "outputs": [],
   "source": []
  },
  {
   "cell_type": "code",
   "execution_count": null,
   "metadata": {},
   "outputs": [],
   "source": []
  }
 ],
 "metadata": {
  "hide_input": false,
  "kernelspec": {
   "display_name": "Python 3",
   "language": "python",
   "name": "python3"
  },
  "language_info": {
   "codemirror_mode": {
    "name": "ipython",
    "version": 3
   },
   "file_extension": ".py",
   "mimetype": "text/x-python",
   "name": "python",
   "nbconvert_exporter": "python",
   "pygments_lexer": "ipython3",
   "version": "3.7.3"
  },
  "toc": {
   "base_numbering": 1,
   "nav_menu": {},
   "number_sections": true,
   "sideBar": true,
   "skip_h1_title": true,
   "title_cell": "Table of Contents",
   "title_sidebar": "Contents",
   "toc_cell": false,
   "toc_position": {},
   "toc_section_display": true,
   "toc_window_display": true
  }
 },
 "nbformat": 4,
 "nbformat_minor": 2
}
