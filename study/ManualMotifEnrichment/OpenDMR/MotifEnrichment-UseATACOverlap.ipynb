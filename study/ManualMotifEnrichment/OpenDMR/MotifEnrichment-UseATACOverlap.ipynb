{
 "cells": [
  {
   "cell_type": "code",
   "execution_count": 1,
   "metadata": {
    "ExecuteTime": {
     "end_time": "2019-12-16T08:32:23.003790Z",
     "start_time": "2019-12-16T08:32:22.280463Z"
    },
    "papermill": {},
    "tags": []
   },
   "outputs": [],
   "source": [
    "from concurrent.futures import ProcessPoolExecutor, as_completed\n",
    "\n",
    "import anndata\n",
    "import matplotlib.pyplot as plt\n",
    "import numpy as np\n",
    "import pandas as pd\n",
    "import pybedtools\n",
    "import scipy.stats as stats\n",
    "import seaborn as sns\n",
    "from statsmodels.stats.multitest import multipletests\n",
    "import pathlib\n",
    "import subprocess\n",
    "import warnings\n",
    "warnings.filterwarnings('ignore')\n",
    "pathlib.Path('bed_tmp').mkdir(exist_ok=True)\n",
    "pybedtools.set_tempdir('bed_tmp')"
   ]
  },
  {
   "cell_type": "code",
   "execution_count": 2,
   "metadata": {
    "ExecuteTime": {
     "end_time": "2019-12-16T08:32:24.308549Z",
     "start_time": "2019-12-16T08:32:24.305933Z"
    },
    "papermill": {},
    "tags": [
     "parameters"
    ]
   },
   "outputs": [],
   "source": [
    "# DMR that overlap (1) with any of these feature cols will be included in analysis\n",
    "use_cols = None\n",
    "\n",
    "or_cutoff = 1.3\n",
    "neg_lgp_cutoff = 10"
   ]
  },
  {
   "cell_type": "code",
   "execution_count": 3,
   "metadata": {
    "ExecuteTime": {
     "end_time": "2019-12-16T08:32:24.767745Z",
     "start_time": "2019-12-16T08:32:24.760061Z"
    },
    "tags": [
     "injected-parameters"
    ]
   },
   "outputs": [],
   "source": [
    "# Parameters\n",
    "cluster_type = cluster_col = \"SubType\"\n",
    "clusters = [\"MGE-Sst_Rxra\", \"CA3_Cadm2\", \"CA1_Chrm3\", \"CA3-St18_Tead1\", \"Unc5c_Unc5c\", \"Gfra1_Gfra1\", \"ODC_odc-small\", \"PC_pc-all\", \"ODC_odc-large\", \"ANP_anp-dg\", \"IT-L5_Etv1\", \"CA1_Ptprg\", \"MGE-Sst_Ptpre\", \"NP-L6_Cntnap4\", \"CA3-St18_Nuak1\", \"CGE-Lamp5_Dock5\", \"CT-L6_Megf9\", \"IG-CA2_Chrm3\", \"IG-CA2_Peak1\", \"DG-po_Calb2\", \"DG_dg-all\", \"CGE-Vip_Ntng1\", \"CA1_Kif26a\", \"CA3_Efnb2\", \"CGE-Vip_Ptprm\", \"CA1_Ak5\", \"DG-po_Bcl11a\", \"OPC_opc-large\", \"ASC_cortex-olf\", \"MGC_mgc-all\", \"PT-L5_Tenm2\", \"ASC_str-hpf\", \"CGE-Vip_Robo1\", \"CA1_Lingo2\", \"ASC_mid\", \"MGE-Pvalb_Gfra2\", \"VLMC_Mapk4\", \"CA3-St18_Epha5\", \"PAL-Inh_Meis2\", \"IG-CA2_Xpr1\", \"EC_Abhd2\", \"VLMC-Pia_vlmc-pia-all\", \"MGE-Sst_Unc5b\", \"MGE-Pvalb_Thsd7a\", \"CGE-Vip_Grm8\", \"MGE-Sst_Dock4\", \"CGE-Lamp5_Grk5\", \"OLF_Xkr6\", \"VLMC_Col4a1\", \"OPC_opc-small\", \"ANP_anp-olf-cnu\", \"DG-po_Kctd8\", \"MSN-D2_Slc24a2\", \"CGE-Lamp5_Sorcs1\", \"CT-L6_Il1rap\", \"L6b_Adcy8\", \"MGE-Pvalb_Entpd3\", \"IT-L6_Man1c1\", \"MGE-Pvalb_Ptprk\", \"CGE-Vip_Ccser1\", \"NP-L6_Olfml2b\", \"CGE-Lamp5_Grid1\", \"MGE-Pvalb_Sema5a\", \"MGE-Sst_Kcnip4\", \"PT-L5_Abca12\", \"MGE-Sst_Frmd6\", \"MGE-Pvalb_Cnih3\", \"MGE-Sst_Ubtd1\", \"PT-L5_Nectin1\", \"MGE-Sst_Rerg\", \"CGE-Vip_Fstl4\", \"CGE-Vip_Galnt17\", \"MGE-Sst_Etv1\", \"IT-L23_Cux1\", \"IT-L23_Foxp1\", \"EC_Sema3g\", \"CGE-Vip_Clstn2\", \"IT-L4_Shc3\", \"IT-L5_Cdh8\", \"IT-L5_Grik3\", \"PT-L5_Tmtc2\", \"IT-L23_Tenm2\", \"NP-L6_Cntnap5a\", \"CT-L6_Hcrtr2\", \"PT-L5_Plcb4\", \"IT-L23_Ptprt\", \"CGE-Lamp5_Nrxn3\", \"CT-L6_Map4\", \"MGE-Sst_Chodl\", \"NP-L6_Boc\", \"PT-L5_Kcnh1\", \"OLF-Exc_Bmpr1b\", \"OLF_Trpc4\", \"PT-L5_Astn2\", \"IT-L6_Fstl4\", \"CLA_Bcl11a\", \"NP-L6_Cyp7b1\", \"CLA_Cdh8\", \"IT-L6_Cadps2\", \"PT-L5_Ptprt\", \"NP-L6_Kcnab1\", \"IT-L6_Oxr1\", \"Foxp2_Homer2\", \"MGE-Pvalb_Cacna1i\", \"MSN-D1_Khdrbs3\", \"MSN-D1_Plxnc1\", \"OLF_Mapk10\", \"MSN-D1_Hrh1\", \"Foxp2_Trpc7\", \"OLF_Pag1\", \"MSN-D2_Col14a1\", \"MGE-Sst_Bmper\", \"OLF-Exc_Pld5\", \"OLF_Gabbr2\", \"OLF_Kcnd3\", \"PAL-Inh_Deptor\", \"OLF-Exc_Lrrtm3\", \"OLF-Exc_Cdh9\", \"OLF-Exc_Unc13c\", \"PAL-Inh_Meis1\", \"L6b_Nrp2\", \"LSX-Inh_Cacna1i\", \"OLF-Exc_Sgcd\", \"OLF-Exc_Rmst\", \"PT-L5_Unc5b\", \"L6b_Pkhd1\", \"L6b_Kcnk2\", \"IT-L4_Astn2\", \"CLA_Nrp2\", \"D1L-Fstl4_Sipa1l2\", \"EP_Tspan5\", \"PAL-Inh_Rarb\", \"MSN-D2_Nrp2\", \"D1L-Fstl4_Trps1\", \"Foxp2_Dchs2\", \"OLF-Exc_Cux2\", \"PAL-Inh_Chat\", \"D1L-PAL_Flrt2\", \"EP_Rgs8\", \"PAL-Inh_Igdcc3\", \"PAL-Inh_Tmem178\", \"MSN-D1_Ntn1\", \"Foxp2_Inpp4b\", \"MSN-D2_Casz1\", \"Chd7_Kcnc2\", \"PAL-Inh_Tcf7l2\", \"D1L-Fstl4_Grm3\", \"D1L-Fstl4_Cadm1\", \"Chd7_Trpc7\", \"PAL-Inh_Ptprd\", \"D1L-Fstl4_Crim1\", \"Chd7_Megf11\", \"EP_Adcy8\", \"D1L-PAL_Plcxd3\", \"PAL-Inh_Onecut2\", \"LSX-Inh_Foxp2\", \"LSX-Inh_Enox1\", \"LSX-Inh_Dock10\", \"LSX-Inh_Nxph1\", \"LSX-Inh_Zeb2\", \"LSX-Inh_Lats2\"]\n",
    "dmr_types = [\"Hyper\", \"Hypo\"]\n",
    "use_cols = None\n"
   ]
  },
  {
   "cell_type": "code",
   "execution_count": 4,
   "metadata": {
    "ExecuteTime": {
     "end_time": "2019-12-16T08:32:25.370649Z",
     "start_time": "2019-12-16T08:32:25.355242Z"
    },
    "papermill": {},
    "tags": []
   },
   "outputs": [],
   "source": [
    "def get_data_by_cluster(dmr_annot, total_background_motif_hits, bg_bed, \n",
    "                        dmr_type, cluster, use_cols=None):\n",
    "    dmr_bed_df = pd.read_csv(\n",
    "        f'/home/hanliu/project/mouse_rostral_brain/study/DMRAccessibility/{cluster_type}/OpenDMR/{cluster}.{dmr_type}DMR.Open.bed',\n",
    "        header=None,\n",
    "        sep='\\t',\n",
    "        index_col=-1,\n",
    "        names=['chrom', 'start', 'end', 'SubDMR'])\n",
    "    dmr_bed = pybedtools.BedTool().from_dataframe(dmr_bed_df)\n",
    "\n",
    "    this_dmr_annot = dmr_annot[dmr_bed_df.index, :]\n",
    "    motif_ids = this_dmr_annot.var_names[this_dmr_annot.var['FeatureType'] ==\n",
    "                                    'MotifHits']\n",
    "\n",
    "    if use_cols is not None:\n",
    "        dmr_judge = (this_dmr_annot[:, use_cols].X.sum(axis=1) > 0).A1\n",
    "\n",
    "        this_dmr_annot = this_dmr_annot[dmr_judge, :]\n",
    "        \n",
    "    # exclude background that overlap with DMR\n",
    "    bg_no_overlap = bg_bed.intersect(dmr_bed, v=True)\n",
    "    use_bg = bg_no_overlap.to_dataframe().iloc[:, -1].values\n",
    "    background_motif_hits = total_background_motif_hits[use_bg, :]\n",
    "\n",
    "    # make sure col in same order\n",
    "    background_motif_hits = background_motif_hits[:, motif_ids]\n",
    "    \n",
    "    return this_dmr_annot.copy(), background_motif_hits.copy()\n",
    "\n",
    "\n",
    "def motif_enrichment(dmr_annot, background_motif_hits, cluster, dmr_type):\n",
    "    \n",
    "    motif_ids = dmr_annot.var_names[dmr_annot.var['FeatureType'] == 'MotifHits']\n",
    "    # calculate motif occurence, not considering hits here\n",
    "    pos = (dmr_annot[:, motif_ids].X > 0).sum(axis=0)\n",
    "    pos_total = dmr_annot.shape[0]\n",
    "    \n",
    "    neg = (background_motif_hits.X > 0).sum(axis=0)\n",
    "    neg_total = background_motif_hits.shape[0]\n",
    "    \n",
    "    # prepare tables\n",
    "    tables = {}\n",
    "    for motif, _pos, _neg in zip(motif_ids, pos.A1, neg.A1):\n",
    "        table = [[_pos, pos_total - _pos], [_neg, neg_total - _neg]]\n",
    "        tables[motif] = table\n",
    "        \n",
    "    results = {}\n",
    "    with ProcessPoolExecutor(40) as executor:\n",
    "        fs = {}\n",
    "        for motif, t in tables.items():\n",
    "            f = executor.submit(stats.fisher_exact, t, alternative='greater')\n",
    "            fs[f] = motif\n",
    "    \n",
    "        for f in as_completed(fs):\n",
    "            motif = fs[f]\n",
    "            odds, p = f.result()\n",
    "            results[motif] = {'oddsratio': odds, 'p_value': p}\n",
    "    motif_enrich_df = pd.DataFrame(results).T\n",
    "    \n",
    "    _, p, _, _ = multipletests(motif_enrich_df['p_value'], method='fdr_bh')\n",
    "    motif_enrich_df['adj_p'] = p\n",
    "    \n",
    "    motif_enrich_df['-lgp'] = -np.log10(motif_enrich_df['adj_p']).replace(\n",
    "        -np.inf, -300)\n",
    "    \n",
    "    records = {}\n",
    "    for motif, t in tables.items():\n",
    "        tp, tn = t[0]\n",
    "        fp, fn = t[1]\n",
    "        tp_rate = tp / pos_total\n",
    "        fp_rate = fp / neg_total\n",
    "        records[motif] = dict(tp=tp,\n",
    "                              tn=tn,\n",
    "                              fp=fp,\n",
    "                              fn=fn,\n",
    "                              tp_rate=tp_rate,\n",
    "                              fp_rate=fp_rate)\n",
    "    counts = pd.DataFrame(records).T\n",
    "    motif_enrich_df = pd.concat([motif_enrich_df, counts], axis=1, sort=True)\n",
    "    \n",
    "    motif_enrich_df[cluster_type] = cluster\n",
    "    motif_enrich_df['DMRType'] = dmr_type\n",
    "    \n",
    "    # final filter\n",
    "    filtered_motif_df = motif_enrich_df[(motif_enrich_df['oddsratio'] > or_cutoff)\n",
    "                                        &\n",
    "                                        (motif_enrich_df['-lgp'] > neg_lgp_cutoff)]\n",
    "    print(filtered_motif_df.shape[0])\n",
    "    \n",
    "    motif_enrich_df.to_msgpack(f'{cluster}.{dmr_type}.motif_enrichment.msg')"
   ]
  },
  {
   "cell_type": "markdown",
   "metadata": {
    "papermill": {},
    "tags": []
   },
   "source": [
    "## DMR hits"
   ]
  },
  {
   "cell_type": "code",
   "execution_count": 5,
   "metadata": {
    "ExecuteTime": {
     "end_time": "2019-12-16T08:32:42.393825Z",
     "start_time": "2019-12-16T08:32:26.397112Z"
    },
    "papermill": {},
    "tags": []
   },
   "outputs": [],
   "source": [
    "total_dmr_annot = anndata.read_h5ad(\n",
    "    '/home/hanliu/project/mouse_rostral_brain/DMR/SubDMRAnnotation/DMRAnnotation.h5ad'\n",
    ")"
   ]
  },
  {
   "cell_type": "markdown",
   "metadata": {
    "papermill": {},
    "tags": []
   },
   "source": [
    "## Background Hits"
   ]
  },
  {
   "cell_type": "code",
   "execution_count": 6,
   "metadata": {
    "ExecuteTime": {
     "end_time": "2019-12-16T08:32:44.661227Z",
     "start_time": "2019-12-16T08:32:42.396470Z"
    },
    "papermill": {},
    "tags": []
   },
   "outputs": [],
   "source": [
    "total_background_motif_hits = anndata.read_h5ad(\n",
    "    '/home/hanliu/project/mouse_rostral_brain/DMR/MotifScan/BackgroundAdultTissueDMR.MotifHits.with_region_bed.h5ad'\n",
    ")\n",
    "bg_bed = pybedtools.BedTool().from_dataframe(\n",
    "    total_background_motif_hits.obs.reset_index().iloc[:, [1, 2, 3, 0]])"
   ]
  },
  {
   "cell_type": "markdown",
   "metadata": {
    "papermill": {},
    "tags": []
   },
   "source": [
    "## Get cluster data"
   ]
  },
  {
   "cell_type": "code",
   "execution_count": null,
   "metadata": {
    "ExecuteTime": {
     "start_time": "2019-12-16T08:32:29.223Z"
    },
    "papermill": {},
    "scrolled": true,
    "tags": []
   },
   "outputs": [
    {
     "name": "stdout",
     "output_type": "stream",
     "text": [
      "MGE-Sst_Rxra Hyper\n",
      "101\n",
      "MGE-Sst_Rxra Hypo\n",
      "133\n",
      "CA3_Cadm2 Hyper\n",
      "27\n",
      "CA3_Cadm2 Hypo\n",
      "34\n",
      "CA1_Chrm3 Hyper\n",
      "35\n",
      "CA1_Chrm3 Hypo\n",
      "43\n",
      "CA3-St18_Tead1 Hyper\n",
      "3\n",
      "CA3-St18_Tead1 Hypo\n",
      "121\n",
      "Unc5c_Unc5c Hyper\n",
      "8\n",
      "Unc5c_Unc5c Hypo\n",
      "139\n",
      "Gfra1_Gfra1 Hyper\n",
      "0\n",
      "Gfra1_Gfra1 Hypo\n",
      "117\n",
      "ODC_odc-small Hyper\n",
      "64\n",
      "ODC_odc-small Hypo\n",
      "63\n",
      "PC_pc-all Hyper\n",
      "22\n",
      "PC_pc-all Hypo\n",
      "97\n",
      "ODC_odc-large Hyper\n",
      "74\n",
      "ODC_odc-large Hypo\n",
      "67\n",
      "ANP_anp-dg Hyper\n",
      "1\n",
      "ANP_anp-dg Hypo\n",
      "143\n",
      "IT-L5_Etv1 Hyper\n",
      "80\n",
      "IT-L5_Etv1 Hypo\n",
      "37\n",
      "CA1_Ptprg Hyper\n",
      "18\n",
      "CA1_Ptprg Hypo\n",
      "44\n",
      "MGE-Sst_Ptpre Hyper\n",
      "50\n",
      "MGE-Sst_Ptpre Hypo\n",
      "120\n",
      "NP-L6_Cntnap4 Hyper\n",
      "0\n",
      "NP-L6_Cntnap4 Hypo\n",
      "73\n",
      "CA3-St18_Nuak1 Hyper\n",
      "1\n",
      "CA3-St18_Nuak1 Hypo\n",
      "135\n",
      "CGE-Lamp5_Dock5 Hyper\n"
     ]
    }
   ],
   "source": [
    "for cluster in clusters:\n",
    "    for dmr_type in dmr_types:\n",
    "        print(cluster, dmr_type)\n",
    "        output_path = f'{cluster}.{dmr_type}.motif_enrichment.msg'\n",
    "        if pathlib.Path(output_path).exists():\n",
    "            continue\n",
    "        dmr_data, bg_data = get_data_by_cluster(total_dmr_annot, total_background_motif_hits, bg_bed, \n",
    "                                                dmr_type, cluster, use_cols=use_cols)\n",
    "        motif_enrichment(dmr_data, bg_data, cluster, dmr_type)"
   ]
  },
  {
   "cell_type": "code",
   "execution_count": null,
   "metadata": {
    "ExecuteTime": {
     "start_time": "2019-12-16T08:32:32.769Z"
    },
    "papermill": {},
    "tags": []
   },
   "outputs": [],
   "source": [
    "subprocess.run(['rm', '-f', 'bed_tmp'])"
   ]
  },
  {
   "cell_type": "code",
   "execution_count": null,
   "metadata": {
    "ExecuteTime": {
     "start_time": "2019-12-16T08:32:33.036Z"
    },
    "papermill": {},
    "tags": []
   },
   "outputs": [],
   "source": [
    "with open('final_flag.txt', 'w') as f:\n",
    "    f.write('Oh yeah')"
   ]
  },
  {
   "cell_type": "code",
   "execution_count": null,
   "metadata": {
    "papermill": {},
    "tags": []
   },
   "outputs": [],
   "source": []
  }
 ],
 "metadata": {
  "hide_input": false,
  "kernelspec": {
   "display_name": "Python 3",
   "language": "python",
   "name": "python3"
  },
  "language_info": {
   "codemirror_mode": {
    "name": "ipython",
    "version": 3
   },
   "file_extension": ".py",
   "mimetype": "text/x-python",
   "name": "python",
   "nbconvert_exporter": "python",
   "pygments_lexer": "ipython3",
   "version": "3.7.3"
  },
  "papermill": {
   "environment_variables": {},
   "input_path": "MotifEnrichment-UseATACOverlap.ipynb",
   "output_path": "/home/hanliu/project/mouse_rostral_brain/study/ManualMotifEnrichment/OpenDMR/MotifEnrichment-UseATACOverlap.ipynb",
   "parameters": {
    "cluster_col": "SubType",
    "clusters": [
     "MGE-Sst_Rxra",
     "CA3_Cadm2",
     "CA1_Chrm3",
     "CA3-St18_Tead1",
     "Unc5c_Unc5c",
     "Gfra1_Gfra1",
     "ODC_odc-small",
     "PC_pc-all",
     "ODC_odc-large",
     "ANP_anp-dg",
     "IT-L5_Etv1",
     "CA1_Ptprg",
     "MGE-Sst_Ptpre",
     "NP-L6_Cntnap4",
     "CA3-St18_Nuak1",
     "CGE-Lamp5_Dock5",
     "CT-L6_Megf9",
     "IG-CA2_Chrm3",
     "IG-CA2_Peak1",
     "DG-po_Calb2",
     "DG_dg-all",
     "CGE-Vip_Ntng1",
     "CA1_Kif26a",
     "CA3_Efnb2",
     "CGE-Vip_Ptprm",
     "CA1_Ak5",
     "DG-po_Bcl11a",
     "OPC_opc-large",
     "ASC_cortex-olf",
     "MGC_mgc-all",
     "PT-L5_Tenm2",
     "ASC_str-hpf",
     "CGE-Vip_Robo1",
     "CA1_Lingo2",
     "ASC_mid",
     "MGE-Pvalb_Gfra2",
     "VLMC_Mapk4",
     "CA3-St18_Epha5",
     "PAL-Inh_Meis2",
     "IG-CA2_Xpr1",
     "EC_Abhd2",
     "VLMC-Pia_vlmc-pia-all",
     "MGE-Sst_Unc5b",
     "MGE-Pvalb_Thsd7a",
     "CGE-Vip_Grm8",
     "MGE-Sst_Dock4",
     "CGE-Lamp5_Grk5",
     "OLF_Xkr6",
     "VLMC_Col4a1",
     "OPC_opc-small",
     "ANP_anp-olf-cnu",
     "DG-po_Kctd8",
     "MSN-D2_Slc24a2",
     "CGE-Lamp5_Sorcs1",
     "CT-L6_Il1rap",
     "L6b_Adcy8",
     "MGE-Pvalb_Entpd3",
     "IT-L6_Man1c1",
     "MGE-Pvalb_Ptprk",
     "CGE-Vip_Ccser1",
     "NP-L6_Olfml2b",
     "CGE-Lamp5_Grid1",
     "MGE-Pvalb_Sema5a",
     "MGE-Sst_Kcnip4",
     "PT-L5_Abca12",
     "MGE-Sst_Frmd6",
     "MGE-Pvalb_Cnih3",
     "MGE-Sst_Ubtd1",
     "PT-L5_Nectin1",
     "MGE-Sst_Rerg",
     "CGE-Vip_Fstl4",
     "CGE-Vip_Galnt17",
     "MGE-Sst_Etv1",
     "IT-L23_Cux1",
     "IT-L23_Foxp1",
     "EC_Sema3g",
     "CGE-Vip_Clstn2",
     "IT-L4_Shc3",
     "IT-L5_Cdh8",
     "IT-L5_Grik3",
     "PT-L5_Tmtc2",
     "IT-L23_Tenm2",
     "NP-L6_Cntnap5a",
     "CT-L6_Hcrtr2",
     "PT-L5_Plcb4",
     "IT-L23_Ptprt",
     "CGE-Lamp5_Nrxn3",
     "CT-L6_Map4",
     "MGE-Sst_Chodl",
     "NP-L6_Boc",
     "PT-L5_Kcnh1",
     "OLF-Exc_Bmpr1b",
     "OLF_Trpc4",
     "PT-L5_Astn2",
     "IT-L6_Fstl4",
     "CLA_Bcl11a",
     "NP-L6_Cyp7b1",
     "CLA_Cdh8",
     "IT-L6_Cadps2",
     "PT-L5_Ptprt",
     "NP-L6_Kcnab1",
     "IT-L6_Oxr1",
     "Foxp2_Homer2",
     "MGE-Pvalb_Cacna1i",
     "MSN-D1_Khdrbs3",
     "MSN-D1_Plxnc1",
     "OLF_Mapk10",
     "MSN-D1_Hrh1",
     "Foxp2_Trpc7",
     "OLF_Pag1",
     "MSN-D2_Col14a1",
     "MGE-Sst_Bmper",
     "OLF-Exc_Pld5",
     "OLF_Gabbr2",
     "OLF_Kcnd3",
     "PAL-Inh_Deptor",
     "OLF-Exc_Lrrtm3",
     "OLF-Exc_Cdh9",
     "OLF-Exc_Unc13c",
     "PAL-Inh_Meis1",
     "L6b_Nrp2",
     "LSX-Inh_Cacna1i",
     "OLF-Exc_Sgcd",
     "OLF-Exc_Rmst",
     "PT-L5_Unc5b",
     "L6b_Pkhd1",
     "L6b_Kcnk2",
     "IT-L4_Astn2",
     "CLA_Nrp2",
     "D1L-Fstl4_Sipa1l2",
     "EP_Tspan5",
     "PAL-Inh_Rarb",
     "MSN-D2_Nrp2",
     "D1L-Fstl4_Trps1",
     "Foxp2_Dchs2",
     "OLF-Exc_Cux2",
     "PAL-Inh_Chat",
     "D1L-PAL_Flrt2",
     "EP_Rgs8",
     "PAL-Inh_Igdcc3",
     "PAL-Inh_Tmem178",
     "MSN-D1_Ntn1",
     "Foxp2_Inpp4b",
     "MSN-D2_Casz1",
     "Chd7_Kcnc2",
     "PAL-Inh_Tcf7l2",
     "D1L-Fstl4_Grm3",
     "D1L-Fstl4_Cadm1",
     "Chd7_Trpc7",
     "PAL-Inh_Ptprd",
     "D1L-Fstl4_Crim1",
     "Chd7_Megf11",
     "EP_Adcy8",
     "D1L-PAL_Plcxd3",
     "PAL-Inh_Onecut2",
     "LSX-Inh_Foxp2",
     "LSX-Inh_Enox1",
     "LSX-Inh_Dock10",
     "LSX-Inh_Nxph1",
     "LSX-Inh_Zeb2",
     "LSX-Inh_Lats2"
    ],
    "dmr_types": [
     "Hyper",
     "Hypo"
    ],
    "use_cols": null
   },
   "version": "1.0.1"
  },
  "toc": {
   "base_numbering": 1,
   "nav_menu": {},
   "number_sections": true,
   "sideBar": true,
   "skip_h1_title": true,
   "title_cell": "Table of Contents",
   "title_sidebar": "Contents",
   "toc_cell": false,
   "toc_position": {},
   "toc_section_display": true,
   "toc_window_display": true
  }
 },
 "nbformat": 4,
 "nbformat_minor": 2
}
