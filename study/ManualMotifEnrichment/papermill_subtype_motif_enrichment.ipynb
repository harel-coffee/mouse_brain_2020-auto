{
 "cells": [
  {
   "cell_type": "code",
   "execution_count": 1,
   "metadata": {
    "ExecuteTime": {
     "end_time": "2019-12-16T06:20:09.827715Z",
     "start_time": "2019-12-16T06:20:06.480313Z"
    }
   },
   "outputs": [],
   "source": [
    "from papermill import execute_notebook\n",
    "import pandas as pd\n",
    "import pathlib\n",
    "import anndata"
   ]
  },
  {
   "cell_type": "code",
   "execution_count": 2,
   "metadata": {
    "ExecuteTime": {
     "end_time": "2019-12-16T06:20:10.231745Z",
     "start_time": "2019-12-16T06:20:09.829670Z"
    }
   },
   "outputs": [
    {
     "name": "stderr",
     "output_type": "stream",
     "text": [
      "/home/hanliu/miniconda3/envs/clustering/lib/python3.7/site-packages/IPython/core/interactiveshell.py:3326: FutureWarning: The read_msgpack is deprecated and will be removed in a future version.\n",
      "It is recommended to use pyarrow for on-the-wire transmission of pandas objects.\n",
      "  exec(code_obj, self.user_global_ns, self.user_ns)\n"
     ]
    }
   ],
   "source": [
    "cell_tidy_data = pd.read_msgpack(\n",
    "    '/home/hanliu/project/mouse_rostral_brain/study/ClusteringSummary/Summary/TotalClusteringResults.msg'\n",
    ")"
   ]
  },
  {
   "cell_type": "code",
   "execution_count": 3,
   "metadata": {
    "ExecuteTime": {
     "end_time": "2019-12-16T06:20:10.241681Z",
     "start_time": "2019-12-16T06:20:10.233212Z"
    }
   },
   "outputs": [],
   "source": [
    "cluster_col = 'SubType'\n",
    "clusters = cell_tidy_data[cluster_col].unique()\n",
    "dmr_types = ['Hyper', 'Hypo']"
   ]
  },
  {
   "cell_type": "code",
   "execution_count": 4,
   "metadata": {
    "ExecuteTime": {
     "end_time": "2019-12-16T06:20:10.245283Z",
     "start_time": "2019-12-16T06:20:10.242977Z"
    }
   },
   "outputs": [],
   "source": [
    "output_dir = pathlib.Path(cluster_col)\n",
    "output_dir.mkdir(exist_ok=True)"
   ]
  },
  {
   "cell_type": "code",
   "execution_count": 5,
   "metadata": {
    "ExecuteTime": {
     "end_time": "2019-12-16T06:30:04.245227Z",
     "start_time": "2019-12-16T06:20:10.246546Z"
    },
    "scrolled": true
   },
   "outputs": [
    {
     "name": "stdout",
     "output_type": "stream",
     "text": [
      "MGE-Sst_Rxra Hyper\n",
      "MGE-Sst_Rxra Hypo\n",
      "CA3_Cadm2 Hyper\n",
      "CA3_Cadm2 Hypo\n",
      "CA1_Chrm3 Hyper\n",
      "CA1_Chrm3 Hypo\n",
      "CA3-St18_Tead1 Hyper\n",
      "CA3-St18_Tead1 Hypo\n",
      "Unc5c_Unc5c Hyper\n",
      "Unc5c_Unc5c Hypo\n",
      "Gfra1_Gfra1 Hyper\n",
      "Gfra1_Gfra1 Hypo\n",
      "ODC_odc-small Hyper\n",
      "ODC_odc-small Hypo\n",
      "PC_pc-all Hyper\n",
      "PC_pc-all Hypo\n",
      "ODC_odc-large Hyper\n",
      "ODC_odc-large Hypo\n",
      "ANP_anp-dg Hyper\n",
      "ANP_anp-dg Hypo\n",
      "IT-L5_Etv1 Hyper\n",
      "IT-L5_Etv1 Hypo\n",
      "CA1_Ptprg Hyper\n",
      "CA1_Ptprg Hypo\n",
      "MGE-Sst_Ptpre Hyper\n",
      "MGE-Sst_Ptpre Hypo\n",
      "NP-L6_Cntnap4 Hyper\n",
      "NP-L6_Cntnap4 Hypo\n",
      "CA3-St18_Nuak1 Hyper\n",
      "CA3-St18_Nuak1 Hypo\n",
      "CGE-Lamp5_Dock5 Hyper\n",
      "CGE-Lamp5_Dock5 Hypo\n",
      "CT-L6_Megf9 Hyper\n",
      "CT-L6_Megf9 Hypo\n",
      "IG-CA2_Chrm3 Hyper\n",
      "IG-CA2_Chrm3 Hypo\n",
      "IG-CA2_Peak1 Hyper\n",
      "IG-CA2_Peak1 Hypo\n",
      "DG-po_Calb2 Hyper\n",
      "DG-po_Calb2 Hypo\n",
      "DG_dg-all Hyper\n",
      "DG_dg-all Hypo\n",
      "CGE-Vip_Ntng1 Hyper\n",
      "CGE-Vip_Ntng1 Hypo\n",
      "CA1_Kif26a Hyper\n",
      "CA1_Kif26a Hypo\n",
      "CA3_Efnb2 Hyper\n",
      "CA3_Efnb2 Hypo\n",
      "CGE-Vip_Ptprm Hyper\n",
      "CGE-Vip_Ptprm Hypo\n",
      "CA1_Ak5 Hyper\n",
      "CA1_Ak5 Hypo\n",
      "DG-po_Bcl11a Hyper\n",
      "DG-po_Bcl11a Hypo\n",
      "OPC_opc-large Hyper\n",
      "OPC_opc-large Hypo\n",
      "ASC_cortex-olf Hyper\n",
      "ASC_cortex-olf Hypo\n",
      "MGC_mgc-all Hyper\n",
      "MGC_mgc-all Hypo\n",
      "PT-L5_Tenm2 Hyper\n",
      "PT-L5_Tenm2 Hypo\n",
      "ASC_str-hpf Hyper\n",
      "ASC_str-hpf Hypo\n",
      "CGE-Vip_Robo1 Hyper\n",
      "CGE-Vip_Robo1 Hypo\n",
      "CA1_Lingo2 Hyper\n",
      "CA1_Lingo2 Hypo\n",
      "ASC_mid Hyper\n",
      "ASC_mid Hypo\n",
      "MGE-Pvalb_Gfra2 Hyper\n",
      "MGE-Pvalb_Gfra2 Hypo\n",
      "VLMC_Mapk4 Hyper\n",
      "VLMC_Mapk4 Hypo\n",
      "CA3-St18_Epha5 Hyper\n",
      "CA3-St18_Epha5 Hypo\n",
      "PAL-Inh_Meis2 Hyper\n",
      "PAL-Inh_Meis2 Hypo\n",
      "IG-CA2_Xpr1 Hyper\n",
      "IG-CA2_Xpr1 Hypo\n",
      "EC_Abhd2 Hyper\n",
      "EC_Abhd2 Hypo\n",
      "VLMC-Pia_vlmc-pia-all Hyper\n",
      "VLMC-Pia_vlmc-pia-all Hypo\n",
      "MGE-Sst_Unc5b Hyper\n",
      "MGE-Sst_Unc5b Hypo\n",
      "MGE-Pvalb_Thsd7a Hyper\n",
      "MGE-Pvalb_Thsd7a Hypo\n",
      "CGE-Vip_Grm8 Hyper\n",
      "CGE-Vip_Grm8 Hypo\n",
      "MGE-Sst_Dock4 Hyper\n",
      "MGE-Sst_Dock4 Hypo\n",
      "CGE-Lamp5_Grk5 Hyper\n",
      "CGE-Lamp5_Grk5 Hypo\n",
      "OLF_Xkr6 Hyper\n",
      "OLF_Xkr6 Hypo\n",
      "VLMC_Col4a1 Hyper\n",
      "VLMC_Col4a1 Hypo\n",
      "OPC_opc-small Hyper\n",
      "OPC_opc-small Hypo\n",
      "ANP_anp-olf-cnu Hyper\n",
      "ANP_anp-olf-cnu Hypo\n",
      "DG-po_Kctd8 Hyper\n",
      "DG-po_Kctd8 Hypo\n",
      "MSN-D2_Slc24a2 Hyper\n",
      "MSN-D2_Slc24a2 Hypo\n",
      "CGE-Lamp5_Sorcs1 Hyper\n",
      "CGE-Lamp5_Sorcs1 Hypo\n",
      "CT-L6_Il1rap Hyper\n",
      "CT-L6_Il1rap Hypo\n",
      "L6b_Adcy8 Hyper\n",
      "L6b_Adcy8 Hypo\n",
      "MGE-Pvalb_Entpd3 Hyper\n",
      "MGE-Pvalb_Entpd3 Hypo\n",
      "IT-L6_Man1c1 Hyper\n",
      "IT-L6_Man1c1 Hypo\n",
      "MGE-Pvalb_Ptprk Hyper\n",
      "MGE-Pvalb_Ptprk Hypo\n",
      "CGE-Vip_Ccser1 Hyper\n",
      "CGE-Vip_Ccser1 Hypo\n",
      "NP-L6_Olfml2b Hyper\n",
      "NP-L6_Olfml2b Hypo\n",
      "CGE-Lamp5_Grid1 Hyper\n",
      "CGE-Lamp5_Grid1 Hypo\n",
      "MGE-Pvalb_Sema5a Hyper\n",
      "MGE-Pvalb_Sema5a Hypo\n",
      "MGE-Sst_Kcnip4 Hyper\n",
      "MGE-Sst_Kcnip4 Hypo\n",
      "PT-L5_Abca12 Hyper\n",
      "PT-L5_Abca12 Hypo\n",
      "MGE-Sst_Frmd6 Hyper\n",
      "MGE-Sst_Frmd6 Hypo\n",
      "MGE-Pvalb_Cnih3 Hyper\n",
      "MGE-Pvalb_Cnih3 Hypo\n",
      "MGE-Sst_Ubtd1 Hyper\n",
      "MGE-Sst_Ubtd1 Hypo\n",
      "PT-L5_Nectin1 Hyper\n",
      "PT-L5_Nectin1 Hypo\n",
      "MGE-Sst_Rerg Hyper\n",
      "MGE-Sst_Rerg Hypo\n",
      "CGE-Vip_Fstl4 Hyper\n",
      "CGE-Vip_Fstl4 Hypo\n",
      "CGE-Vip_Galnt17 Hyper\n",
      "CGE-Vip_Galnt17 Hypo\n",
      "MGE-Sst_Etv1 Hyper\n",
      "MGE-Sst_Etv1 Hypo\n",
      "IT-L23_Cux1 Hyper\n",
      "IT-L23_Cux1 Hypo\n",
      "IT-L23_Foxp1 Hyper\n",
      "IT-L23_Foxp1 Hypo\n",
      "EC_Sema3g Hyper\n",
      "EC_Sema3g Hypo\n",
      "CGE-Vip_Clstn2 Hyper\n",
      "CGE-Vip_Clstn2 Hypo\n",
      "IT-L4_Shc3 Hyper\n",
      "IT-L4_Shc3 Hypo\n",
      "IT-L5_Cdh8 Hyper\n",
      "IT-L5_Cdh8 Hypo\n",
      "IT-L5_Grik3 Hyper\n",
      "IT-L5_Grik3 Hypo\n",
      "PT-L5_Tmtc2 Hyper\n",
      "PT-L5_Tmtc2 Hypo\n",
      "IT-L23_Tenm2 Hyper\n",
      "IT-L23_Tenm2 Hypo\n",
      "NP-L6_Cntnap5a Hyper\n",
      "NP-L6_Cntnap5a Hypo\n",
      "CT-L6_Hcrtr2 Hyper\n",
      "CT-L6_Hcrtr2 Hypo\n",
      "PT-L5_Plcb4 Hyper\n",
      "PT-L5_Plcb4 Hypo\n",
      "IT-L23_Ptprt Hyper\n",
      "IT-L23_Ptprt Hypo\n",
      "CGE-Lamp5_Nrxn3 Hyper\n",
      "CGE-Lamp5_Nrxn3 Hypo\n",
      "CT-L6_Map4 Hyper\n",
      "CT-L6_Map4 Hypo\n",
      "MGE-Sst_Chodl Hyper\n",
      "MGE-Sst_Chodl Hypo\n",
      "NP-L6_Boc Hyper\n",
      "NP-L6_Boc Hypo\n",
      "PT-L5_Kcnh1 Hyper\n",
      "PT-L5_Kcnh1 Hypo\n",
      "OLF-Exc_Bmpr1b Hyper\n",
      "OLF-Exc_Bmpr1b Hypo\n",
      "OLF_Trpc4 Hyper\n",
      "OLF_Trpc4 Hypo\n",
      "PT-L5_Astn2 Hyper\n",
      "PT-L5_Astn2 Hypo\n",
      "IT-L6_Fstl4 Hyper\n",
      "IT-L6_Fstl4 Hypo\n",
      "CLA_Bcl11a Hyper\n",
      "CLA_Bcl11a Hypo\n",
      "NP-L6_Cyp7b1 Hyper\n",
      "NP-L6_Cyp7b1 Hypo\n",
      "CLA_Cdh8 Hyper\n",
      "CLA_Cdh8 Hypo\n",
      "IT-L6_Cadps2 Hyper\n",
      "IT-L6_Cadps2 Hypo\n",
      "PT-L5_Ptprt Hyper\n",
      "PT-L5_Ptprt Hypo\n",
      "NP-L6_Kcnab1 Hyper\n",
      "NP-L6_Kcnab1 Hypo\n",
      "IT-L6_Oxr1 Hyper\n",
      "IT-L6_Oxr1 Hypo\n",
      "Foxp2_Homer2 Hyper\n",
      "Foxp2_Homer2 Hypo\n",
      "MGE-Pvalb_Cacna1i Hyper\n",
      "MGE-Pvalb_Cacna1i Hypo\n",
      "MSN-D1_Khdrbs3 Hyper\n",
      "MSN-D1_Khdrbs3 Hypo\n",
      "MSN-D1_Plxnc1 Hyper\n",
      "MSN-D1_Plxnc1 Hypo\n",
      "OLF_Mapk10 Hyper\n",
      "OLF_Mapk10 Hypo\n",
      "MSN-D1_Hrh1 Hyper\n",
      "MSN-D1_Hrh1 Hypo\n",
      "Foxp2_Trpc7 Hyper\n",
      "Foxp2_Trpc7 Hypo\n",
      "OLF_Pag1 Hyper\n",
      "OLF_Pag1 Hypo\n",
      "MSN-D2_Col14a1 Hyper\n",
      "MSN-D2_Col14a1 Hypo\n",
      "MGE-Sst_Bmper Hyper\n",
      "MGE-Sst_Bmper Hypo\n",
      "OLF-Exc_Pld5 Hyper\n",
      "OLF-Exc_Pld5 Hypo\n",
      "OLF_Gabbr2 Hyper\n",
      "OLF_Gabbr2 Hypo\n",
      "OLF_Kcnd3 Hyper\n",
      "OLF_Kcnd3 Hypo\n",
      "PAL-Inh_Deptor Hyper\n",
      "PAL-Inh_Deptor Hypo\n",
      "OLF-Exc_Lrrtm3 Hyper\n",
      "OLF-Exc_Lrrtm3 Hypo\n",
      "OLF-Exc_Cdh9 Hyper\n",
      "OLF-Exc_Cdh9 Hypo\n",
      "OLF-Exc_Unc13c Hyper\n",
      "OLF-Exc_Unc13c Hypo\n",
      "PAL-Inh_Meis1 Hyper\n",
      "PAL-Inh_Meis1 Hypo\n",
      "L6b_Nrp2 Hyper\n",
      "L6b_Nrp2 Hypo\n",
      "LSX-Inh_Cacna1i Hyper\n",
      "LSX-Inh_Cacna1i Hypo\n",
      "OLF-Exc_Sgcd Hyper\n",
      "OLF-Exc_Sgcd Hypo\n",
      "OLF-Exc_Rmst Hyper\n",
      "OLF-Exc_Rmst Hypo\n",
      "PT-L5_Unc5b Hyper\n",
      "PT-L5_Unc5b Hypo\n",
      "L6b_Pkhd1 Hyper\n",
      "L6b_Pkhd1 Hypo\n",
      "L6b_Kcnk2 Hyper\n",
      "L6b_Kcnk2 Hypo\n",
      "IT-L4_Astn2 Hyper\n",
      "IT-L4_Astn2 Hypo\n",
      "CLA_Nrp2 Hyper\n",
      "CLA_Nrp2 Hypo\n",
      "D1L-Fstl4_Sipa1l2 Hyper\n",
      "D1L-Fstl4_Sipa1l2 Hypo\n",
      "EP_Tspan5 Hyper\n",
      "EP_Tspan5 Hypo\n",
      "PAL-Inh_Rarb Hyper\n",
      "PAL-Inh_Rarb Hypo\n",
      "MSN-D2_Nrp2 Hyper\n",
      "MSN-D2_Nrp2 Hypo\n",
      "D1L-Fstl4_Trps1 Hyper\n",
      "D1L-Fstl4_Trps1 Hypo\n",
      "Foxp2_Dchs2 Hyper\n",
      "Foxp2_Dchs2 Hypo\n",
      "OLF-Exc_Cux2 Hyper\n",
      "OLF-Exc_Cux2 Hypo\n",
      "PAL-Inh_Chat Hyper\n",
      "PAL-Inh_Chat Hypo\n",
      "D1L-PAL_Flrt2 Hyper\n",
      "D1L-PAL_Flrt2 Hypo\n",
      "EP_Rgs8 Hyper\n",
      "EP_Rgs8 Hypo\n",
      "PAL-Inh_Igdcc3 Hyper\n",
      "PAL-Inh_Igdcc3 Hypo\n",
      "PAL-Inh_Tmem178 Hyper\n",
      "PAL-Inh_Tmem178 Hypo\n",
      "MSN-D1_Ntn1 Hyper\n",
      "MSN-D1_Ntn1 Hypo\n",
      "Foxp2_Inpp4b Hyper\n",
      "Foxp2_Inpp4b Hypo\n",
      "MSN-D2_Casz1 Hyper\n",
      "MSN-D2_Casz1 Hypo\n",
      "Chd7_Kcnc2 Hyper\n",
      "Chd7_Kcnc2 Hypo\n",
      "PAL-Inh_Tcf7l2 Hyper\n",
      "PAL-Inh_Tcf7l2 Hypo\n",
      "D1L-Fstl4_Grm3 Hyper\n",
      "D1L-Fstl4_Grm3 Hypo\n",
      "D1L-Fstl4_Cadm1 Hyper\n",
      "D1L-Fstl4_Cadm1 Hypo\n",
      "Chd7_Trpc7 Hyper\n",
      "Chd7_Trpc7 Hypo\n",
      "PAL-Inh_Ptprd Hyper\n",
      "PAL-Inh_Ptprd Hypo\n",
      "D1L-Fstl4_Crim1 Hyper\n",
      "D1L-Fstl4_Crim1 Hypo\n",
      "Chd7_Megf11 Hyper\n"
     ]
    },
    {
     "data": {
      "application/vnd.jupyter.widget-view+json": {
       "model_id": "d6ed23cbd762476c8d25796f65d900a7",
       "version_major": 2,
       "version_minor": 0
      },
      "text/plain": [
       "HBox(children=(IntProgress(value=0, max=21), HTML(value='')))"
      ]
     },
     "metadata": {},
     "output_type": "display_data"
    },
    {
     "name": "stdout",
     "output_type": "stream",
     "text": [
      "\n",
      "Chd7_Megf11 Hypo\n"
     ]
    },
    {
     "data": {
      "application/vnd.jupyter.widget-view+json": {
       "model_id": "2ec2a35e5e56499a8a0d414ad2d0bc55",
       "version_major": 2,
       "version_minor": 0
      },
      "text/plain": [
       "HBox(children=(IntProgress(value=0, max=21), HTML(value='')))"
      ]
     },
     "metadata": {},
     "output_type": "display_data"
    },
    {
     "name": "stdout",
     "output_type": "stream",
     "text": [
      "\n",
      "EP_Adcy8 Hyper\n"
     ]
    },
    {
     "data": {
      "application/vnd.jupyter.widget-view+json": {
       "model_id": "438bc83d234a4ecca0e2030bdef5d96b",
       "version_major": 2,
       "version_minor": 0
      },
      "text/plain": [
       "HBox(children=(IntProgress(value=0, max=21), HTML(value='')))"
      ]
     },
     "metadata": {},
     "output_type": "display_data"
    },
    {
     "name": "stdout",
     "output_type": "stream",
     "text": [
      "\n",
      "EP_Adcy8 Hypo\n"
     ]
    },
    {
     "data": {
      "application/vnd.jupyter.widget-view+json": {
       "model_id": "69ce5623c4c641b4a0a8363baf1c7415",
       "version_major": 2,
       "version_minor": 0
      },
      "text/plain": [
       "HBox(children=(IntProgress(value=0, max=21), HTML(value='')))"
      ]
     },
     "metadata": {},
     "output_type": "display_data"
    },
    {
     "name": "stdout",
     "output_type": "stream",
     "text": [
      "\n",
      "D1L-PAL_Plcxd3 Hyper\n"
     ]
    },
    {
     "data": {
      "application/vnd.jupyter.widget-view+json": {
       "model_id": "17c572b6d75446f78e979af08daff802",
       "version_major": 2,
       "version_minor": 0
      },
      "text/plain": [
       "HBox(children=(IntProgress(value=0, max=21), HTML(value='')))"
      ]
     },
     "metadata": {},
     "output_type": "display_data"
    },
    {
     "name": "stdout",
     "output_type": "stream",
     "text": [
      "\n",
      "D1L-PAL_Plcxd3 Hypo\n"
     ]
    },
    {
     "data": {
      "application/vnd.jupyter.widget-view+json": {
       "model_id": "e51c0c9ec84740a1950a37f170b1191e",
       "version_major": 2,
       "version_minor": 0
      },
      "text/plain": [
       "HBox(children=(IntProgress(value=0, max=21), HTML(value='')))"
      ]
     },
     "metadata": {},
     "output_type": "display_data"
    },
    {
     "name": "stdout",
     "output_type": "stream",
     "text": [
      "\n",
      "PAL-Inh_Onecut2 Hyper\n"
     ]
    },
    {
     "data": {
      "application/vnd.jupyter.widget-view+json": {
       "model_id": "448e828017494d77affe6265f456e833",
       "version_major": 2,
       "version_minor": 0
      },
      "text/plain": [
       "HBox(children=(IntProgress(value=0, max=21), HTML(value='')))"
      ]
     },
     "metadata": {},
     "output_type": "display_data"
    },
    {
     "name": "stdout",
     "output_type": "stream",
     "text": [
      "\n",
      "PAL-Inh_Onecut2 Hypo\n"
     ]
    },
    {
     "data": {
      "application/vnd.jupyter.widget-view+json": {
       "model_id": "acaf089124b04a93aa7de302b9f458a3",
       "version_major": 2,
       "version_minor": 0
      },
      "text/plain": [
       "HBox(children=(IntProgress(value=0, max=21), HTML(value='')))"
      ]
     },
     "metadata": {},
     "output_type": "display_data"
    },
    {
     "name": "stdout",
     "output_type": "stream",
     "text": [
      "\n",
      "LSX-Inh_Foxp2 Hyper\n"
     ]
    },
    {
     "data": {
      "application/vnd.jupyter.widget-view+json": {
       "model_id": "ebf92f1792084a05ac72fcf6f9349c20",
       "version_major": 2,
       "version_minor": 0
      },
      "text/plain": [
       "HBox(children=(IntProgress(value=0, max=21), HTML(value='')))"
      ]
     },
     "metadata": {},
     "output_type": "display_data"
    },
    {
     "name": "stdout",
     "output_type": "stream",
     "text": [
      "\n",
      "LSX-Inh_Foxp2 Hypo\n"
     ]
    },
    {
     "data": {
      "application/vnd.jupyter.widget-view+json": {
       "model_id": "371953d021c94febaab49e7f7b6e8a22",
       "version_major": 2,
       "version_minor": 0
      },
      "text/plain": [
       "HBox(children=(IntProgress(value=0, max=21), HTML(value='')))"
      ]
     },
     "metadata": {},
     "output_type": "display_data"
    },
    {
     "name": "stdout",
     "output_type": "stream",
     "text": [
      "\n",
      "LSX-Inh_Enox1 Hyper\n"
     ]
    },
    {
     "data": {
      "application/vnd.jupyter.widget-view+json": {
       "model_id": "799ad15127224842bf87c1e09a570fe9",
       "version_major": 2,
       "version_minor": 0
      },
      "text/plain": [
       "HBox(children=(IntProgress(value=0, max=21), HTML(value='')))"
      ]
     },
     "metadata": {},
     "output_type": "display_data"
    },
    {
     "name": "stdout",
     "output_type": "stream",
     "text": [
      "\n",
      "LSX-Inh_Enox1 Hypo\n"
     ]
    },
    {
     "data": {
      "application/vnd.jupyter.widget-view+json": {
       "model_id": "2161831b128549b58974a95c832101f7",
       "version_major": 2,
       "version_minor": 0
      },
      "text/plain": [
       "HBox(children=(IntProgress(value=0, max=21), HTML(value='')))"
      ]
     },
     "metadata": {},
     "output_type": "display_data"
    },
    {
     "name": "stdout",
     "output_type": "stream",
     "text": [
      "\n",
      "LSX-Inh_Dock10 Hyper\n"
     ]
    },
    {
     "data": {
      "application/vnd.jupyter.widget-view+json": {
       "model_id": "bce74fe25d8a4ce1b57cc24879ca9371",
       "version_major": 2,
       "version_minor": 0
      },
      "text/plain": [
       "HBox(children=(IntProgress(value=0, max=21), HTML(value='')))"
      ]
     },
     "metadata": {},
     "output_type": "display_data"
    },
    {
     "name": "stdout",
     "output_type": "stream",
     "text": [
      "\n",
      "LSX-Inh_Dock10 Hypo\n"
     ]
    },
    {
     "data": {
      "application/vnd.jupyter.widget-view+json": {
       "model_id": "6e6557c63586462fabe369cc2fb079e1",
       "version_major": 2,
       "version_minor": 0
      },
      "text/plain": [
       "HBox(children=(IntProgress(value=0, max=21), HTML(value='')))"
      ]
     },
     "metadata": {},
     "output_type": "display_data"
    },
    {
     "name": "stdout",
     "output_type": "stream",
     "text": [
      "\n",
      "LSX-Inh_Nxph1 Hyper\n"
     ]
    },
    {
     "data": {
      "application/vnd.jupyter.widget-view+json": {
       "model_id": "2b5a62922f0a41cca36cb1483b3ab219",
       "version_major": 2,
       "version_minor": 0
      },
      "text/plain": [
       "HBox(children=(IntProgress(value=0, max=21), HTML(value='')))"
      ]
     },
     "metadata": {},
     "output_type": "display_data"
    },
    {
     "name": "stdout",
     "output_type": "stream",
     "text": [
      "\n",
      "LSX-Inh_Nxph1 Hypo\n"
     ]
    },
    {
     "data": {
      "application/vnd.jupyter.widget-view+json": {
       "model_id": "78463db758424a74adf73c1c22b0e8df",
       "version_major": 2,
       "version_minor": 0
      },
      "text/plain": [
       "HBox(children=(IntProgress(value=0, max=21), HTML(value='')))"
      ]
     },
     "metadata": {},
     "output_type": "display_data"
    },
    {
     "name": "stdout",
     "output_type": "stream",
     "text": [
      "\n",
      "LSX-Inh_Zeb2 Hyper\n"
     ]
    },
    {
     "data": {
      "application/vnd.jupyter.widget-view+json": {
       "model_id": "bbd687ad9a1342a2b20905c3c2e9948c",
       "version_major": 2,
       "version_minor": 0
      },
      "text/plain": [
       "HBox(children=(IntProgress(value=0, max=21), HTML(value='')))"
      ]
     },
     "metadata": {},
     "output_type": "display_data"
    },
    {
     "name": "stdout",
     "output_type": "stream",
     "text": [
      "\n",
      "LSX-Inh_Zeb2 Hypo\n"
     ]
    },
    {
     "data": {
      "application/vnd.jupyter.widget-view+json": {
       "model_id": "09083543c0694afcabe6e73361c3753a",
       "version_major": 2,
       "version_minor": 0
      },
      "text/plain": [
       "HBox(children=(IntProgress(value=0, max=21), HTML(value='')))"
      ]
     },
     "metadata": {},
     "output_type": "display_data"
    },
    {
     "name": "stdout",
     "output_type": "stream",
     "text": [
      "\n",
      "LSX-Inh_Lats2 Hyper\n"
     ]
    },
    {
     "data": {
      "application/vnd.jupyter.widget-view+json": {
       "model_id": "e070b6cbbd17438fbfcba7039b72d82a",
       "version_major": 2,
       "version_minor": 0
      },
      "text/plain": [
       "HBox(children=(IntProgress(value=0, max=21), HTML(value='')))"
      ]
     },
     "metadata": {},
     "output_type": "display_data"
    },
    {
     "name": "stdout",
     "output_type": "stream",
     "text": [
      "\n",
      "LSX-Inh_Lats2 Hypo\n"
     ]
    },
    {
     "data": {
      "application/vnd.jupyter.widget-view+json": {
       "model_id": "674d5491753447abb773ce8f1edf479f",
       "version_major": 2,
       "version_minor": 0
      },
      "text/plain": [
       "HBox(children=(IntProgress(value=0, max=21), HTML(value='')))"
      ]
     },
     "metadata": {},
     "output_type": "display_data"
    },
    {
     "name": "stdout",
     "output_type": "stream",
     "text": [
      "\n"
     ]
    }
   ],
   "source": [
    "for cluster in clusters:\n",
    "    cluster = cluster.replace(' ', '_')\n",
    "    if 'Outlier' in cluster:\n",
    "        continue\n",
    "    for dmr_type in dmr_types:\n",
    "        \n",
    "        print(cluster, dmr_type)\n",
    "        \n",
    "        input_path = 'MotifEnrichment.ipynb'\n",
    "        output_path = output_dir / f'{cluster}.{dmr_type}.MotifEnrichment.ipynb'\n",
    "        \n",
    "        if (output_dir / f'{cluster}.{dmr_type}.motif_enrichment.msg').exists():\n",
    "            continue\n",
    "        \n",
    "        params = dict(cluster_col=cluster_col,\n",
    "                      cluster=cluster,\n",
    "                      dmr_type=dmr_type)\n",
    "        execute_notebook(str(input_path),\n",
    "                         str(output_path),\n",
    "                         parameters=params,\n",
    "                         engine_name=None,\n",
    "                         prepare_only=False,\n",
    "                         kernel_name=None,\n",
    "                         progress_bar=True,\n",
    "                         log_output=False,\n",
    "                         start_timeout=60,\n",
    "                         report_mode=False,\n",
    "                         cwd=str(output_dir))\n"
   ]
  },
  {
   "cell_type": "code",
   "execution_count": null,
   "metadata": {},
   "outputs": [],
   "source": []
  }
 ],
 "metadata": {
  "hide_input": false,
  "kernelspec": {
   "display_name": "Python 3",
   "language": "python",
   "name": "python3"
  },
  "language_info": {
   "codemirror_mode": {
    "name": "ipython",
    "version": 3
   },
   "file_extension": ".py",
   "mimetype": "text/x-python",
   "name": "python",
   "nbconvert_exporter": "python",
   "pygments_lexer": "ipython3",
   "version": "3.7.3"
  },
  "toc": {
   "base_numbering": 1,
   "nav_menu": {},
   "number_sections": true,
   "sideBar": true,
   "skip_h1_title": true,
   "title_cell": "Table of Contents",
   "title_sidebar": "Contents",
   "toc_cell": false,
   "toc_position": {},
   "toc_section_display": true,
   "toc_window_display": true
  }
 },
 "nbformat": 4,
 "nbformat_minor": 2
}
