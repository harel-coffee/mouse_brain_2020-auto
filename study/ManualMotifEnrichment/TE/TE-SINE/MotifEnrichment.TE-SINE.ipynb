{
 "cells": [
  {
   "cell_type": "code",
   "execution_count": 1,
   "metadata": {
    "ExecuteTime": {
     "end_time": "2019-12-16T06:35:00.760677Z",
     "start_time": "2019-12-16T06:34:58.205738Z"
    },
    "papermill": {
     "duration": 0.812275,
     "end_time": "2019-12-16T09:14:37.157830",
     "exception": false,
     "start_time": "2019-12-16T09:14:36.345555",
     "status": "completed"
    },
    "tags": []
   },
   "outputs": [],
   "source": [
    "from concurrent.futures import ProcessPoolExecutor, as_completed\n",
    "\n",
    "import anndata\n",
    "import matplotlib.pyplot as plt\n",
    "import numpy as np\n",
    "import pandas as pd\n",
    "import pybedtools\n",
    "import scipy.stats as stats\n",
    "import seaborn as sns\n",
    "from statsmodels.stats.multitest import multipletests\n",
    "import pathlib\n",
    "import subprocess\n",
    "import warnings\n",
    "warnings.filterwarnings('ignore')\n",
    "pathlib.Path('bed_tmp').mkdir(exist_ok=True)\n",
    "pybedtools.set_tempdir('bed_tmp')"
   ]
  },
  {
   "cell_type": "code",
   "execution_count": 2,
   "metadata": {
    "ExecuteTime": {
     "end_time": "2019-12-16T06:35:00.765834Z",
     "start_time": "2019-12-16T06:35:00.762635Z"
    },
    "papermill": {
     "duration": 0.012922,
     "end_time": "2019-12-16T09:14:37.178720",
     "exception": false,
     "start_time": "2019-12-16T09:14:37.165798",
     "status": "completed"
    },
    "tags": [
     "parameters"
    ]
   },
   "outputs": [],
   "source": [
    "cluster_type = 'SubType'\n",
    "clusters = ['PT-L5_Unc5b']\n",
    "dmr_types = ['Hyper', 'Hypo']\n",
    "\n",
    "# DMR that overlap (1) with any of these feature cols will be included in analysis\n",
    "use_cols = [\n",
    "    'DNA.DNA', 'DNA.MULE-MuDR', 'DNA.MuDR', 'DNA.PiggyBac', 'DNA.TcMar',\n",
    "    'DNA.TcMar-Mariner', 'DNA.TcMar-Pogo', 'DNA.TcMar-Tc2', 'DNA.TcMar-Tigger',\n",
    "    'DNA.hAT', 'DNA.hAT-Blackjack', 'DNA.hAT-Charlie', 'DNA.hAT-Tip100'\n",
    "]\n",
    "\n",
    "or_cutoff = 1.3\n",
    "neg_lgp_cutoff = 10"
   ]
  },
  {
   "cell_type": "code",
   "execution_count": 3,
   "metadata": {
    "papermill": {
     "duration": 0.017193,
     "end_time": "2019-12-16T09:14:37.202131",
     "exception": false,
     "start_time": "2019-12-16T09:14:37.184938",
     "status": "completed"
    },
    "tags": [
     "injected-parameters"
    ]
   },
   "outputs": [],
   "source": [
    "# Parameters\n",
    "cluster_col = \"SubType\"\n",
    "clusters = [\"MGE-Sst_Rxra\", \"CA3_Cadm2\", \"CA1_Chrm3\", \"CA3-St18_Tead1\", \"Unc5c_Unc5c\", \"Gfra1_Gfra1\", \"ODC_odc-small\", \"PC_pc-all\", \"ODC_odc-large\", \"ANP_anp-dg\", \"IT-L5_Etv1\", \"CA1_Ptprg\", \"MGE-Sst_Ptpre\", \"NP-L6_Cntnap4\", \"CA3-St18_Nuak1\", \"CGE-Lamp5_Dock5\", \"CT-L6_Megf9\", \"IG-CA2_Chrm3\", \"IG-CA2_Peak1\", \"DG-po_Calb2\", \"DG_dg-all\", \"CGE-Vip_Ntng1\", \"CA1_Kif26a\", \"CA3_Efnb2\", \"CGE-Vip_Ptprm\", \"CA1_Ak5\", \"DG-po_Bcl11a\", \"OPC_opc-large\", \"ASC_cortex-olf\", \"MGC_mgc-all\", \"PT-L5_Tenm2\", \"ASC_str-hpf\", \"CGE-Vip_Robo1\", \"CA1_Lingo2\", \"ASC_mid\", \"MGE-Pvalb_Gfra2\", \"VLMC_Mapk4\", \"CA3-St18_Epha5\", \"PAL-Inh_Meis2\", \"IG-CA2_Xpr1\", \"EC_Abhd2\", \"VLMC-Pia_vlmc-pia-all\", \"MGE-Sst_Unc5b\", \"MGE-Pvalb_Thsd7a\", \"CGE-Vip_Grm8\", \"MGE-Sst_Dock4\", \"CGE-Lamp5_Grk5\", \"OLF_Xkr6\", \"VLMC_Col4a1\", \"OPC_opc-small\", \"ANP_anp-olf-cnu\", \"DG-po_Kctd8\", \"MSN-D2_Slc24a2\", \"CGE-Lamp5_Sorcs1\", \"CT-L6_Il1rap\", \"L6b_Adcy8\", \"MGE-Pvalb_Entpd3\", \"IT-L6_Man1c1\", \"MGE-Pvalb_Ptprk\", \"CGE-Vip_Ccser1\", \"NP-L6_Olfml2b\", \"CGE-Lamp5_Grid1\", \"MGE-Pvalb_Sema5a\", \"MGE-Sst_Kcnip4\", \"PT-L5_Abca12\", \"MGE-Sst_Frmd6\", \"MGE-Pvalb_Cnih3\", \"MGE-Sst_Ubtd1\", \"PT-L5_Nectin1\", \"MGE-Sst_Rerg\", \"CGE-Vip_Fstl4\", \"CGE-Vip_Galnt17\", \"MGE-Sst_Etv1\", \"IT-L23_Cux1\", \"IT-L23_Foxp1\", \"EC_Sema3g\", \"CGE-Vip_Clstn2\", \"IT-L4_Shc3\", \"IT-L5_Cdh8\", \"IT-L5_Grik3\", \"PT-L5_Tmtc2\", \"IT-L23_Tenm2\", \"NP-L6_Cntnap5a\", \"CT-L6_Hcrtr2\", \"PT-L5_Plcb4\", \"IT-L23_Ptprt\", \"CGE-Lamp5_Nrxn3\", \"CT-L6_Map4\", \"MGE-Sst_Chodl\", \"NP-L6_Boc\", \"PT-L5_Kcnh1\", \"OLF-Exc_Bmpr1b\", \"OLF_Trpc4\", \"PT-L5_Astn2\", \"IT-L6_Fstl4\", \"CLA_Bcl11a\", \"NP-L6_Cyp7b1\", \"CLA_Cdh8\", \"IT-L6_Cadps2\", \"PT-L5_Ptprt\", \"NP-L6_Kcnab1\", \"IT-L6_Oxr1\", \"Foxp2_Homer2\", \"MGE-Pvalb_Cacna1i\", \"MSN-D1_Khdrbs3\", \"MSN-D1_Plxnc1\", \"OLF_Mapk10\", \"MSN-D1_Hrh1\", \"Foxp2_Trpc7\", \"OLF_Pag1\", \"MSN-D2_Col14a1\", \"MGE-Sst_Bmper\", \"OLF-Exc_Pld5\", \"OLF_Gabbr2\", \"OLF_Kcnd3\", \"PAL-Inh_Deptor\", \"OLF-Exc_Lrrtm3\", \"OLF-Exc_Cdh9\", \"OLF-Exc_Unc13c\", \"PAL-Inh_Meis1\", \"L6b_Nrp2\", \"LSX-Inh_Cacna1i\", \"OLF-Exc_Sgcd\", \"OLF-Exc_Rmst\", \"PT-L5_Unc5b\", \"L6b_Pkhd1\", \"L6b_Kcnk2\", \"IT-L4_Astn2\", \"CLA_Nrp2\", \"D1L-Fstl4_Sipa1l2\", \"EP_Tspan5\", \"PAL-Inh_Rarb\", \"MSN-D2_Nrp2\", \"D1L-Fstl4_Trps1\", \"Foxp2_Dchs2\", \"OLF-Exc_Cux2\", \"PAL-Inh_Chat\", \"D1L-PAL_Flrt2\", \"EP_Rgs8\", \"PAL-Inh_Igdcc3\", \"PAL-Inh_Tmem178\", \"MSN-D1_Ntn1\", \"Foxp2_Inpp4b\", \"MSN-D2_Casz1\", \"Chd7_Kcnc2\", \"PAL-Inh_Tcf7l2\", \"D1L-Fstl4_Grm3\", \"D1L-Fstl4_Cadm1\", \"Chd7_Trpc7\", \"PAL-Inh_Ptprd\", \"D1L-Fstl4_Crim1\", \"Chd7_Megf11\", \"EP_Adcy8\", \"D1L-PAL_Plcxd3\", \"PAL-Inh_Onecut2\", \"LSX-Inh_Foxp2\", \"LSX-Inh_Enox1\", \"LSX-Inh_Dock10\", \"LSX-Inh_Nxph1\", \"LSX-Inh_Zeb2\", \"LSX-Inh_Lats2\"]\n",
    "dmr_types = [\"Hyper\", \"Hypo\"]\n",
    "use_cols = [\"SINE.Alu\", \"SINE.B2\", \"SINE.B4\", \"SINE.Deu\", \"SINE.ID\", \"SINE.MIR\", \"SINE.tRNA\"]\n"
   ]
  },
  {
   "cell_type": "code",
   "execution_count": 4,
   "metadata": {
    "ExecuteTime": {
     "end_time": "2019-12-16T06:35:00.782099Z",
     "start_time": "2019-12-16T06:35:00.767262Z"
    },
    "papermill": {
     "duration": 0.02494,
     "end_time": "2019-12-16T09:14:37.233238",
     "exception": false,
     "start_time": "2019-12-16T09:14:37.208298",
     "status": "completed"
    },
    "tags": []
   },
   "outputs": [],
   "source": [
    "def get_data_by_cluster(dmr_annot, total_background_motif_hits, bg_bed, \n",
    "                        dmr_type, cluster, use_cols=None):\n",
    "    dmr_bed_df = pd.read_csv(\n",
    "        f'/home/hanliu/project/mouse_rostral_brain/DMR/SubType/{dmr_type}Bed/{cluster}.{dmr_type}DMR.DMS2.bed',\n",
    "        header=None,\n",
    "        sep='\\t',\n",
    "        index_col=-1,\n",
    "        names=['chrom', 'start', 'end', 'SubDMR'])\n",
    "    dmr_bed = pybedtools.BedTool().from_dataframe(dmr_bed_df)\n",
    "\n",
    "    this_dmr_annot = dmr_annot[dmr_bed_df.index, :]\n",
    "    motif_ids = this_dmr_annot.var_names[this_dmr_annot.var['FeatureType'] ==\n",
    "                                    'MotifHits']\n",
    "\n",
    "    if use_cols is not None:\n",
    "        dmr_judge = (this_dmr_annot[:, use_cols].X.sum(axis=1) > 0).A1\n",
    "\n",
    "        this_dmr_annot = this_dmr_annot[dmr_judge, :]\n",
    "        \n",
    "    # exclude background that overlap with DMR\n",
    "    bg_no_overlap = bg_bed.intersect(dmr_bed, v=True)\n",
    "    use_bg = bg_no_overlap.to_dataframe().iloc[:, -1].values\n",
    "    background_motif_hits = total_background_motif_hits[use_bg, :]\n",
    "\n",
    "    # make sure col in same order\n",
    "    background_motif_hits = background_motif_hits[:, motif_ids]\n",
    "    \n",
    "    return this_dmr_annot.copy(), background_motif_hits.copy()\n",
    "\n",
    "\n",
    "def motif_enrichment(dmr_annot, background_motif_hits, cluster, dmr_type):\n",
    "    \n",
    "    motif_ids = dmr_annot.var_names[dmr_annot.var['FeatureType'] == 'MotifHits']\n",
    "    # calculate motif occurence, not considering hits here\n",
    "    pos = (dmr_annot[:, motif_ids].X > 0).sum(axis=0)\n",
    "    pos_total = dmr_annot.shape[0]\n",
    "    \n",
    "    neg = (background_motif_hits.X > 0).sum(axis=0)\n",
    "    neg_total = background_motif_hits.shape[0]\n",
    "    \n",
    "    # prepare tables\n",
    "    tables = {}\n",
    "    for motif, _pos, _neg in zip(motif_ids, pos.A1, neg.A1):\n",
    "        table = [[_pos, pos_total - _pos], [_neg, neg_total - _neg]]\n",
    "        tables[motif] = table\n",
    "        \n",
    "    results = {}\n",
    "    with ProcessPoolExecutor(40) as executor:\n",
    "        fs = {}\n",
    "        for motif, t in tables.items():\n",
    "            f = executor.submit(stats.fisher_exact, t, alternative='greater')\n",
    "            fs[f] = motif\n",
    "    \n",
    "        for f in as_completed(fs):\n",
    "            motif = fs[f]\n",
    "            odds, p = f.result()\n",
    "            results[motif] = {'oddsratio': odds, 'p_value': p}\n",
    "    motif_enrich_df = pd.DataFrame(results).T\n",
    "    \n",
    "    _, p, _, _ = multipletests(motif_enrich_df['p_value'], method='fdr_bh')\n",
    "    motif_enrich_df['adj_p'] = p\n",
    "    \n",
    "    motif_enrich_df['-lgp'] = -np.log10(motif_enrich_df['adj_p']).replace(\n",
    "        -np.inf, -300)\n",
    "    \n",
    "    records = {}\n",
    "    for motif, t in tables.items():\n",
    "        tp, tn = t[0]\n",
    "        fp, fn = t[1]\n",
    "        tp_rate = tp / pos_total\n",
    "        fp_rate = fp / neg_total\n",
    "        records[motif] = dict(tp=tp,\n",
    "                              tn=tn,\n",
    "                              fp=fp,\n",
    "                              fn=fn,\n",
    "                              tp_rate=tp_rate,\n",
    "                              fp_rate=fp_rate)\n",
    "    counts = pd.DataFrame(records).T\n",
    "    motif_enrich_df = pd.concat([motif_enrich_df, counts], axis=1, sort=True)\n",
    "    \n",
    "    motif_enrich_df[cluster_type] = cluster\n",
    "    motif_enrich_df['DMRType'] = dmr_type\n",
    "    \n",
    "    # final filter\n",
    "    filtered_motif_df = motif_enrich_df[(motif_enrich_df['oddsratio'] > or_cutoff)\n",
    "                                        &\n",
    "                                        (motif_enrich_df['-lgp'] > neg_lgp_cutoff)]\n",
    "    print(filtered_motif_df.shape[0])\n",
    "    \n",
    "    motif_enrich_df.to_msgpack(f'{cluster}.{dmr_type}.motif_enrichment.msg')"
   ]
  },
  {
   "cell_type": "markdown",
   "metadata": {
    "papermill": {
     "duration": 0.006097,
     "end_time": "2019-12-16T09:14:37.245518",
     "exception": false,
     "start_time": "2019-12-16T09:14:37.239421",
     "status": "completed"
    },
    "tags": []
   },
   "source": [
    "## DMR hits"
   ]
  },
  {
   "cell_type": "code",
   "execution_count": 5,
   "metadata": {
    "ExecuteTime": {
     "end_time": "2019-12-16T06:35:19.393357Z",
     "start_time": "2019-12-16T06:35:00.783402Z"
    },
    "papermill": {
     "duration": 14.94134,
     "end_time": "2019-12-16T09:14:52.193105",
     "exception": false,
     "start_time": "2019-12-16T09:14:37.251765",
     "status": "completed"
    },
    "tags": []
   },
   "outputs": [],
   "source": [
    "total_dmr_annot = anndata.read_h5ad(\n",
    "    '/home/hanliu/project/mouse_rostral_brain/DMR/SubDMRAnnotation/DMRAnnotation.h5ad'\n",
    ")"
   ]
  },
  {
   "cell_type": "markdown",
   "metadata": {
    "papermill": {
     "duration": 0.005956,
     "end_time": "2019-12-16T09:14:52.206319",
     "exception": false,
     "start_time": "2019-12-16T09:14:52.200363",
     "status": "completed"
    },
    "tags": []
   },
   "source": [
    "## Background Hits"
   ]
  },
  {
   "cell_type": "code",
   "execution_count": 6,
   "metadata": {
    "ExecuteTime": {
     "end_time": "2019-12-16T06:35:21.796128Z",
     "start_time": "2019-12-16T06:35:19.395468Z"
    },
    "papermill": {
     "duration": 2.420965,
     "end_time": "2019-12-16T09:14:54.633132",
     "exception": false,
     "start_time": "2019-12-16T09:14:52.212167",
     "status": "completed"
    },
    "tags": []
   },
   "outputs": [],
   "source": [
    "total_background_motif_hits = anndata.read_h5ad(\n",
    "    '/home/hanliu/project/mouse_rostral_brain/DMR/MotifScan/BackgroundAdultTissueDMR.MotifHits.with_region_bed.h5ad'\n",
    ")\n",
    "bg_bed = pybedtools.BedTool().from_dataframe(\n",
    "    total_background_motif_hits.obs.reset_index().iloc[:, [1, 2, 3, 0]])"
   ]
  },
  {
   "cell_type": "markdown",
   "metadata": {
    "papermill": {
     "duration": 0.006059,
     "end_time": "2019-12-16T09:14:54.646208",
     "exception": false,
     "start_time": "2019-12-16T09:14:54.640149",
     "status": "completed"
    },
    "tags": []
   },
   "source": [
    "## Get cluster data"
   ]
  },
  {
   "cell_type": "code",
   "execution_count": 7,
   "metadata": {
    "ExecuteTime": {
     "end_time": "2019-12-16T06:35:39.225815Z",
     "start_time": "2019-12-16T06:35:21.798144Z"
    },
    "papermill": {
     "duration": 2915.829001,
     "end_time": "2019-12-16T10:03:30.480945",
     "exception": false,
     "start_time": "2019-12-16T09:14:54.651944",
     "status": "completed"
    },
    "tags": []
   },
   "outputs": [
    {
     "name": "stdout",
     "output_type": "stream",
     "text": [
      "MGE-Sst_Rxra Hyper\n"
     ]
    },
    {
     "name": "stdout",
     "output_type": "stream",
     "text": [
      "86\n",
      "MGE-Sst_Rxra Hypo\n"
     ]
    },
    {
     "name": "stdout",
     "output_type": "stream",
     "text": [
      "75\n",
      "CA3_Cadm2 Hyper\n"
     ]
    },
    {
     "name": "stdout",
     "output_type": "stream",
     "text": [
      "54\n",
      "CA3_Cadm2 Hypo\n"
     ]
    },
    {
     "name": "stdout",
     "output_type": "stream",
     "text": [
      "81\n",
      "CA1_Chrm3 Hyper\n"
     ]
    },
    {
     "name": "stdout",
     "output_type": "stream",
     "text": [
      "45\n",
      "CA1_Chrm3 Hypo\n"
     ]
    },
    {
     "name": "stdout",
     "output_type": "stream",
     "text": [
      "86\n",
      "CA3-St18_Tead1 Hyper\n"
     ]
    },
    {
     "name": "stdout",
     "output_type": "stream",
     "text": [
      "55\n",
      "CA3-St18_Tead1 Hypo\n"
     ]
    },
    {
     "name": "stdout",
     "output_type": "stream",
     "text": [
      "116\n",
      "Unc5c_Unc5c Hyper\n"
     ]
    },
    {
     "name": "stdout",
     "output_type": "stream",
     "text": [
      "116\n",
      "Unc5c_Unc5c Hypo\n"
     ]
    },
    {
     "name": "stdout",
     "output_type": "stream",
     "text": [
      "58\n",
      "Gfra1_Gfra1 Hyper\n"
     ]
    },
    {
     "name": "stdout",
     "output_type": "stream",
     "text": [
      "12\n",
      "Gfra1_Gfra1 Hypo\n"
     ]
    },
    {
     "name": "stdout",
     "output_type": "stream",
     "text": [
      "100\n",
      "ODC_odc-small Hyper\n"
     ]
    },
    {
     "name": "stdout",
     "output_type": "stream",
     "text": [
      "105\n",
      "ODC_odc-small Hypo\n"
     ]
    },
    {
     "name": "stdout",
     "output_type": "stream",
     "text": [
      "48\n",
      "PC_pc-all Hyper\n"
     ]
    },
    {
     "name": "stdout",
     "output_type": "stream",
     "text": [
      "88\n",
      "PC_pc-all Hypo\n"
     ]
    },
    {
     "name": "stdout",
     "output_type": "stream",
     "text": [
      "73\n",
      "ODC_odc-large Hyper\n"
     ]
    },
    {
     "name": "stdout",
     "output_type": "stream",
     "text": [
      "105\n",
      "ODC_odc-large Hypo\n"
     ]
    },
    {
     "name": "stdout",
     "output_type": "stream",
     "text": [
      "47\n",
      "ANP_anp-dg Hyper\n"
     ]
    },
    {
     "name": "stdout",
     "output_type": "stream",
     "text": [
      "99\n",
      "ANP_anp-dg Hypo\n"
     ]
    },
    {
     "name": "stdout",
     "output_type": "stream",
     "text": [
      "125\n",
      "IT-L5_Etv1 Hyper\n"
     ]
    },
    {
     "name": "stdout",
     "output_type": "stream",
     "text": [
      "90\n",
      "IT-L5_Etv1 Hypo\n"
     ]
    },
    {
     "name": "stdout",
     "output_type": "stream",
     "text": [
      "78\n",
      "CA1_Ptprg Hyper\n"
     ]
    },
    {
     "name": "stdout",
     "output_type": "stream",
     "text": [
      "20\n",
      "CA1_Ptprg Hypo\n"
     ]
    },
    {
     "name": "stdout",
     "output_type": "stream",
     "text": [
      "105\n",
      "MGE-Sst_Ptpre Hyper\n"
     ]
    },
    {
     "name": "stdout",
     "output_type": "stream",
     "text": [
      "80\n",
      "MGE-Sst_Ptpre Hypo\n"
     ]
    },
    {
     "name": "stdout",
     "output_type": "stream",
     "text": [
      "75\n",
      "NP-L6_Cntnap4 Hyper\n"
     ]
    },
    {
     "name": "stdout",
     "output_type": "stream",
     "text": [
      "81\n",
      "NP-L6_Cntnap4 Hypo\n"
     ]
    },
    {
     "name": "stdout",
     "output_type": "stream",
     "text": [
      "99\n",
      "CA3-St18_Nuak1 Hyper\n"
     ]
    },
    {
     "name": "stdout",
     "output_type": "stream",
     "text": [
      "30\n",
      "CA3-St18_Nuak1 Hypo\n"
     ]
    },
    {
     "name": "stdout",
     "output_type": "stream",
     "text": [
      "120\n",
      "CGE-Lamp5_Dock5 Hyper\n"
     ]
    },
    {
     "name": "stdout",
     "output_type": "stream",
     "text": [
      "117\n",
      "CGE-Lamp5_Dock5 Hypo\n"
     ]
    },
    {
     "name": "stdout",
     "output_type": "stream",
     "text": [
      "62\n",
      "CT-L6_Megf9 Hyper\n"
     ]
    },
    {
     "name": "stdout",
     "output_type": "stream",
     "text": [
      "129\n",
      "CT-L6_Megf9 Hypo\n"
     ]
    },
    {
     "name": "stdout",
     "output_type": "stream",
     "text": [
      "80\n",
      "IG-CA2_Chrm3 Hyper\n"
     ]
    },
    {
     "name": "stdout",
     "output_type": "stream",
     "text": [
      "85\n",
      "IG-CA2_Chrm3 Hypo\n"
     ]
    },
    {
     "name": "stdout",
     "output_type": "stream",
     "text": [
      "90\n",
      "IG-CA2_Peak1 Hyper\n"
     ]
    },
    {
     "name": "stdout",
     "output_type": "stream",
     "text": [
      "84\n",
      "IG-CA2_Peak1 Hypo\n"
     ]
    },
    {
     "name": "stdout",
     "output_type": "stream",
     "text": [
      "91\n",
      "DG-po_Calb2 Hyper\n"
     ]
    },
    {
     "name": "stdout",
     "output_type": "stream",
     "text": [
      "11\n",
      "DG-po_Calb2 Hypo\n"
     ]
    },
    {
     "name": "stdout",
     "output_type": "stream",
     "text": [
      "91\n",
      "DG_dg-all Hyper\n"
     ]
    },
    {
     "name": "stdout",
     "output_type": "stream",
     "text": [
      "89\n",
      "DG_dg-all Hypo\n"
     ]
    },
    {
     "name": "stdout",
     "output_type": "stream",
     "text": [
      "96\n",
      "CGE-Vip_Ntng1 Hyper\n"
     ]
    },
    {
     "name": "stdout",
     "output_type": "stream",
     "text": [
      "106\n",
      "CGE-Vip_Ntng1 Hypo\n"
     ]
    },
    {
     "name": "stdout",
     "output_type": "stream",
     "text": [
      "55\n",
      "CA1_Kif26a Hyper\n"
     ]
    },
    {
     "name": "stdout",
     "output_type": "stream",
     "text": [
      "22\n",
      "CA1_Kif26a Hypo\n"
     ]
    },
    {
     "name": "stdout",
     "output_type": "stream",
     "text": [
      "125\n",
      "CA3_Efnb2 Hyper\n"
     ]
    },
    {
     "name": "stdout",
     "output_type": "stream",
     "text": [
      "60\n",
      "CA3_Efnb2 Hypo\n"
     ]
    },
    {
     "name": "stdout",
     "output_type": "stream",
     "text": [
      "142\n",
      "CGE-Vip_Ptprm Hyper\n"
     ]
    },
    {
     "name": "stdout",
     "output_type": "stream",
     "text": [
      "110\n",
      "CGE-Vip_Ptprm Hypo\n"
     ]
    },
    {
     "name": "stdout",
     "output_type": "stream",
     "text": [
      "68\n",
      "CA1_Ak5 Hyper\n"
     ]
    },
    {
     "name": "stdout",
     "output_type": "stream",
     "text": [
      "32\n",
      "CA1_Ak5 Hypo\n"
     ]
    },
    {
     "name": "stdout",
     "output_type": "stream",
     "text": [
      "100\n",
      "DG-po_Bcl11a Hyper\n"
     ]
    },
    {
     "name": "stdout",
     "output_type": "stream",
     "text": [
      "0\n",
      "DG-po_Bcl11a Hypo\n"
     ]
    },
    {
     "name": "stdout",
     "output_type": "stream",
     "text": [
      "74\n",
      "OPC_opc-large Hyper\n"
     ]
    },
    {
     "name": "stdout",
     "output_type": "stream",
     "text": [
      "109\n",
      "OPC_opc-large Hypo\n"
     ]
    },
    {
     "name": "stdout",
     "output_type": "stream",
     "text": [
      "44\n",
      "ASC_cortex-olf Hyper\n"
     ]
    },
    {
     "name": "stdout",
     "output_type": "stream",
     "text": [
      "111\n",
      "ASC_cortex-olf Hypo\n"
     ]
    },
    {
     "name": "stdout",
     "output_type": "stream",
     "text": [
      "79\n",
      "MGC_mgc-all Hyper\n"
     ]
    },
    {
     "name": "stdout",
     "output_type": "stream",
     "text": [
      "83\n",
      "MGC_mgc-all Hypo\n"
     ]
    },
    {
     "name": "stdout",
     "output_type": "stream",
     "text": [
      "47\n",
      "PT-L5_Tenm2 Hyper\n"
     ]
    },
    {
     "name": "stdout",
     "output_type": "stream",
     "text": [
      "69\n",
      "PT-L5_Tenm2 Hypo\n"
     ]
    },
    {
     "name": "stdout",
     "output_type": "stream",
     "text": [
      "86\n",
      "ASC_str-hpf Hyper\n"
     ]
    },
    {
     "name": "stdout",
     "output_type": "stream",
     "text": [
      "110\n",
      "ASC_str-hpf Hypo\n"
     ]
    },
    {
     "name": "stdout",
     "output_type": "stream",
     "text": [
      "90\n",
      "CGE-Vip_Robo1 Hyper\n"
     ]
    },
    {
     "name": "stdout",
     "output_type": "stream",
     "text": [
      "107\n",
      "CGE-Vip_Robo1 Hypo\n"
     ]
    },
    {
     "name": "stdout",
     "output_type": "stream",
     "text": [
      "110\n",
      "CA1_Lingo2 Hyper\n"
     ]
    },
    {
     "name": "stdout",
     "output_type": "stream",
     "text": [
      "3\n",
      "CA1_Lingo2 Hypo\n"
     ]
    },
    {
     "name": "stdout",
     "output_type": "stream",
     "text": [
      "133\n",
      "ASC_mid Hyper\n"
     ]
    },
    {
     "name": "stdout",
     "output_type": "stream",
     "text": [
      "110\n",
      "ASC_mid Hypo\n"
     ]
    },
    {
     "name": "stdout",
     "output_type": "stream",
     "text": [
      "82\n",
      "MGE-Pvalb_Gfra2 Hyper\n"
     ]
    },
    {
     "name": "stdout",
     "output_type": "stream",
     "text": [
      "74\n",
      "MGE-Pvalb_Gfra2 Hypo\n"
     ]
    },
    {
     "name": "stdout",
     "output_type": "stream",
     "text": [
      "107\n",
      "VLMC_Mapk4 Hyper\n"
     ]
    },
    {
     "name": "stdout",
     "output_type": "stream",
     "text": [
      "96\n",
      "VLMC_Mapk4 Hypo\n"
     ]
    },
    {
     "name": "stdout",
     "output_type": "stream",
     "text": [
      "73\n",
      "CA3-St18_Epha5 Hyper\n"
     ]
    },
    {
     "name": "stdout",
     "output_type": "stream",
     "text": [
      "23\n",
      "CA3-St18_Epha5 Hypo\n"
     ]
    },
    {
     "name": "stdout",
     "output_type": "stream",
     "text": [
      "110\n",
      "PAL-Inh_Meis2 Hyper\n"
     ]
    },
    {
     "name": "stdout",
     "output_type": "stream",
     "text": [
      "111\n",
      "PAL-Inh_Meis2 Hypo\n"
     ]
    },
    {
     "name": "stdout",
     "output_type": "stream",
     "text": [
      "0\n",
      "IG-CA2_Xpr1 Hyper\n"
     ]
    },
    {
     "name": "stdout",
     "output_type": "stream",
     "text": [
      "76\n",
      "IG-CA2_Xpr1 Hypo\n"
     ]
    },
    {
     "name": "stdout",
     "output_type": "stream",
     "text": [
      "77\n",
      "EC_Abhd2 Hyper\n"
     ]
    },
    {
     "name": "stdout",
     "output_type": "stream",
     "text": [
      "77\n",
      "EC_Abhd2 Hypo\n"
     ]
    },
    {
     "name": "stdout",
     "output_type": "stream",
     "text": [
      "51\n",
      "VLMC-Pia_vlmc-pia-all Hyper\n"
     ]
    },
    {
     "name": "stdout",
     "output_type": "stream",
     "text": [
      "108\n",
      "VLMC-Pia_vlmc-pia-all Hypo\n"
     ]
    },
    {
     "name": "stdout",
     "output_type": "stream",
     "text": [
      "53\n",
      "MGE-Sst_Unc5b Hyper\n"
     ]
    },
    {
     "name": "stdout",
     "output_type": "stream",
     "text": [
      "108\n",
      "MGE-Sst_Unc5b Hypo\n"
     ]
    },
    {
     "name": "stdout",
     "output_type": "stream",
     "text": [
      "60\n",
      "MGE-Pvalb_Thsd7a Hyper\n"
     ]
    },
    {
     "name": "stdout",
     "output_type": "stream",
     "text": [
      "88\n",
      "MGE-Pvalb_Thsd7a Hypo\n"
     ]
    },
    {
     "name": "stdout",
     "output_type": "stream",
     "text": [
      "73\n",
      "CGE-Vip_Grm8 Hyper\n"
     ]
    },
    {
     "name": "stdout",
     "output_type": "stream",
     "text": [
      "103\n",
      "CGE-Vip_Grm8 Hypo\n"
     ]
    },
    {
     "name": "stdout",
     "output_type": "stream",
     "text": [
      "88\n",
      "MGE-Sst_Dock4 Hyper\n"
     ]
    },
    {
     "name": "stdout",
     "output_type": "stream",
     "text": [
      "88\n",
      "MGE-Sst_Dock4 Hypo\n"
     ]
    },
    {
     "name": "stdout",
     "output_type": "stream",
     "text": [
      "90\n",
      "CGE-Lamp5_Grk5 Hyper\n"
     ]
    },
    {
     "name": "stdout",
     "output_type": "stream",
     "text": [
      "116\n",
      "CGE-Lamp5_Grk5 Hypo\n"
     ]
    },
    {
     "name": "stdout",
     "output_type": "stream",
     "text": [
      "49\n",
      "OLF_Xkr6 Hyper\n"
     ]
    },
    {
     "name": "stdout",
     "output_type": "stream",
     "text": [
      "49\n",
      "OLF_Xkr6 Hypo\n"
     ]
    },
    {
     "name": "stdout",
     "output_type": "stream",
     "text": [
      "97\n",
      "VLMC_Col4a1 Hyper\n"
     ]
    },
    {
     "name": "stdout",
     "output_type": "stream",
     "text": [
      "91\n",
      "VLMC_Col4a1 Hypo\n"
     ]
    },
    {
     "name": "stdout",
     "output_type": "stream",
     "text": [
      "58\n",
      "OPC_opc-small Hyper\n"
     ]
    },
    {
     "name": "stdout",
     "output_type": "stream",
     "text": [
      "99\n",
      "OPC_opc-small Hypo\n"
     ]
    },
    {
     "name": "stdout",
     "output_type": "stream",
     "text": [
      "44\n",
      "ANP_anp-olf-cnu Hyper\n"
     ]
    },
    {
     "name": "stdout",
     "output_type": "stream",
     "text": [
      "110\n",
      "ANP_anp-olf-cnu Hypo\n"
     ]
    },
    {
     "name": "stdout",
     "output_type": "stream",
     "text": [
      "101\n",
      "DG-po_Kctd8 Hyper\n"
     ]
    },
    {
     "name": "stdout",
     "output_type": "stream",
     "text": [
      "19\n",
      "DG-po_Kctd8 Hypo\n"
     ]
    },
    {
     "name": "stdout",
     "output_type": "stream",
     "text": [
      "81\n",
      "MSN-D2_Slc24a2 Hyper\n"
     ]
    },
    {
     "name": "stdout",
     "output_type": "stream",
     "text": [
      "85\n",
      "MSN-D2_Slc24a2 Hypo\n"
     ]
    },
    {
     "name": "stdout",
     "output_type": "stream",
     "text": [
      "68\n",
      "CGE-Lamp5_Sorcs1 Hyper\n"
     ]
    },
    {
     "name": "stdout",
     "output_type": "stream",
     "text": [
      "110\n",
      "CGE-Lamp5_Sorcs1 Hypo\n"
     ]
    },
    {
     "name": "stdout",
     "output_type": "stream",
     "text": [
      "83\n",
      "CT-L6_Il1rap Hyper\n"
     ]
    },
    {
     "name": "stdout",
     "output_type": "stream",
     "text": [
      "135\n",
      "CT-L6_Il1rap Hypo\n"
     ]
    },
    {
     "name": "stdout",
     "output_type": "stream",
     "text": [
      "78\n",
      "L6b_Adcy8 Hyper\n"
     ]
    },
    {
     "name": "stdout",
     "output_type": "stream",
     "text": [
      "140\n",
      "L6b_Adcy8 Hypo\n"
     ]
    },
    {
     "name": "stdout",
     "output_type": "stream",
     "text": [
      "73\n",
      "MGE-Pvalb_Entpd3 Hyper\n"
     ]
    },
    {
     "name": "stdout",
     "output_type": "stream",
     "text": [
      "84\n",
      "MGE-Pvalb_Entpd3 Hypo\n"
     ]
    },
    {
     "name": "stdout",
     "output_type": "stream",
     "text": [
      "105\n",
      "IT-L6_Man1c1 Hyper\n"
     ]
    },
    {
     "name": "stdout",
     "output_type": "stream",
     "text": [
      "117\n",
      "IT-L6_Man1c1 Hypo\n"
     ]
    },
    {
     "name": "stdout",
     "output_type": "stream",
     "text": [
      "103\n",
      "MGE-Pvalb_Ptprk Hyper\n"
     ]
    },
    {
     "name": "stdout",
     "output_type": "stream",
     "text": [
      "73\n",
      "MGE-Pvalb_Ptprk Hypo\n"
     ]
    },
    {
     "name": "stdout",
     "output_type": "stream",
     "text": [
      "101\n",
      "CGE-Vip_Ccser1 Hyper\n"
     ]
    },
    {
     "name": "stdout",
     "output_type": "stream",
     "text": [
      "108\n",
      "CGE-Vip_Ccser1 Hypo\n"
     ]
    },
    {
     "name": "stdout",
     "output_type": "stream",
     "text": [
      "65\n",
      "NP-L6_Olfml2b Hyper\n"
     ]
    },
    {
     "name": "stdout",
     "output_type": "stream",
     "text": [
      "87\n",
      "NP-L6_Olfml2b Hypo\n"
     ]
    },
    {
     "name": "stdout",
     "output_type": "stream",
     "text": [
      "73\n",
      "CGE-Lamp5_Grid1 Hyper\n"
     ]
    },
    {
     "name": "stdout",
     "output_type": "stream",
     "text": [
      "112\n",
      "CGE-Lamp5_Grid1 Hypo\n"
     ]
    },
    {
     "name": "stdout",
     "output_type": "stream",
     "text": [
      "66\n",
      "MGE-Pvalb_Sema5a Hyper\n"
     ]
    },
    {
     "name": "stdout",
     "output_type": "stream",
     "text": [
      "85\n",
      "MGE-Pvalb_Sema5a Hypo\n"
     ]
    },
    {
     "name": "stdout",
     "output_type": "stream",
     "text": [
      "73\n",
      "MGE-Sst_Kcnip4 Hyper\n"
     ]
    },
    {
     "name": "stdout",
     "output_type": "stream",
     "text": [
      "85\n",
      "MGE-Sst_Kcnip4 Hypo\n"
     ]
    },
    {
     "name": "stdout",
     "output_type": "stream",
     "text": [
      "65\n",
      "PT-L5_Abca12 Hyper\n"
     ]
    },
    {
     "name": "stdout",
     "output_type": "stream",
     "text": [
      "33\n",
      "PT-L5_Abca12 Hypo\n"
     ]
    },
    {
     "name": "stdout",
     "output_type": "stream",
     "text": [
      "122\n",
      "MGE-Sst_Frmd6 Hyper\n"
     ]
    },
    {
     "name": "stdout",
     "output_type": "stream",
     "text": [
      "88\n",
      "MGE-Sst_Frmd6 Hypo\n"
     ]
    },
    {
     "name": "stdout",
     "output_type": "stream",
     "text": [
      "78\n",
      "MGE-Pvalb_Cnih3 Hyper\n"
     ]
    },
    {
     "name": "stdout",
     "output_type": "stream",
     "text": [
      "78\n",
      "MGE-Pvalb_Cnih3 Hypo\n"
     ]
    },
    {
     "name": "stdout",
     "output_type": "stream",
     "text": [
      "102\n",
      "MGE-Sst_Ubtd1 Hyper\n"
     ]
    },
    {
     "name": "stdout",
     "output_type": "stream",
     "text": [
      "85\n",
      "MGE-Sst_Ubtd1 Hypo\n"
     ]
    },
    {
     "name": "stdout",
     "output_type": "stream",
     "text": [
      "118\n",
      "PT-L5_Nectin1 Hyper\n"
     ]
    },
    {
     "name": "stdout",
     "output_type": "stream",
     "text": [
      "49\n",
      "PT-L5_Nectin1 Hypo\n"
     ]
    },
    {
     "name": "stdout",
     "output_type": "stream",
     "text": [
      "107\n",
      "MGE-Sst_Rerg Hyper\n"
     ]
    },
    {
     "name": "stdout",
     "output_type": "stream",
     "text": [
      "85\n",
      "MGE-Sst_Rerg Hypo\n"
     ]
    },
    {
     "name": "stdout",
     "output_type": "stream",
     "text": [
      "93\n",
      "CGE-Vip_Fstl4 Hyper\n"
     ]
    },
    {
     "name": "stdout",
     "output_type": "stream",
     "text": [
      "107\n",
      "CGE-Vip_Fstl4 Hypo\n"
     ]
    },
    {
     "name": "stdout",
     "output_type": "stream",
     "text": [
      "46\n",
      "CGE-Vip_Galnt17 Hyper\n"
     ]
    },
    {
     "name": "stdout",
     "output_type": "stream",
     "text": [
      "105\n",
      "CGE-Vip_Galnt17 Hypo\n"
     ]
    },
    {
     "name": "stdout",
     "output_type": "stream",
     "text": [
      "67\n",
      "MGE-Sst_Etv1 Hyper\n"
     ]
    },
    {
     "name": "stdout",
     "output_type": "stream",
     "text": [
      "95\n",
      "MGE-Sst_Etv1 Hypo\n"
     ]
    },
    {
     "name": "stdout",
     "output_type": "stream",
     "text": [
      "92\n",
      "IT-L23_Cux1 Hyper\n"
     ]
    },
    {
     "name": "stdout",
     "output_type": "stream",
     "text": [
      "29\n",
      "IT-L23_Cux1 Hypo\n"
     ]
    },
    {
     "name": "stdout",
     "output_type": "stream",
     "text": [
      "94\n",
      "IT-L23_Foxp1 Hyper\n"
     ]
    },
    {
     "name": "stdout",
     "output_type": "stream",
     "text": [
      "47\n",
      "IT-L23_Foxp1 Hypo\n"
     ]
    },
    {
     "name": "stdout",
     "output_type": "stream",
     "text": [
      "78\n",
      "EC_Sema3g Hyper\n"
     ]
    },
    {
     "name": "stdout",
     "output_type": "stream",
     "text": [
      "9\n",
      "EC_Sema3g Hypo\n"
     ]
    },
    {
     "name": "stdout",
     "output_type": "stream",
     "text": [
      "45\n",
      "CGE-Vip_Clstn2 Hyper\n"
     ]
    },
    {
     "name": "stdout",
     "output_type": "stream",
     "text": [
      "103\n",
      "CGE-Vip_Clstn2 Hypo\n"
     ]
    },
    {
     "name": "stdout",
     "output_type": "stream",
     "text": [
      "83\n",
      "IT-L4_Shc3 Hyper\n"
     ]
    },
    {
     "name": "stdout",
     "output_type": "stream",
     "text": [
      "27\n",
      "IT-L4_Shc3 Hypo\n"
     ]
    },
    {
     "name": "stdout",
     "output_type": "stream",
     "text": [
      "86\n",
      "IT-L5_Cdh8 Hyper\n"
     ]
    },
    {
     "name": "stdout",
     "output_type": "stream",
     "text": [
      "68\n",
      "IT-L5_Cdh8 Hypo\n"
     ]
    },
    {
     "name": "stdout",
     "output_type": "stream",
     "text": [
      "81\n",
      "IT-L5_Grik3 Hyper\n"
     ]
    },
    {
     "name": "stdout",
     "output_type": "stream",
     "text": [
      "114\n",
      "IT-L5_Grik3 Hypo\n"
     ]
    },
    {
     "name": "stdout",
     "output_type": "stream",
     "text": [
      "103\n",
      "PT-L5_Tmtc2 Hyper\n"
     ]
    },
    {
     "name": "stdout",
     "output_type": "stream",
     "text": [
      "39\n",
      "PT-L5_Tmtc2 Hypo\n"
     ]
    },
    {
     "name": "stdout",
     "output_type": "stream",
     "text": [
      "106\n",
      "IT-L23_Tenm2 Hyper\n"
     ]
    },
    {
     "name": "stdout",
     "output_type": "stream",
     "text": [
      "50\n",
      "IT-L23_Tenm2 Hypo\n"
     ]
    },
    {
     "name": "stdout",
     "output_type": "stream",
     "text": [
      "82\n",
      "NP-L6_Cntnap5a Hyper\n"
     ]
    },
    {
     "name": "stdout",
     "output_type": "stream",
     "text": [
      "84\n",
      "NP-L6_Cntnap5a Hypo\n"
     ]
    },
    {
     "name": "stdout",
     "output_type": "stream",
     "text": [
      "71\n",
      "CT-L6_Hcrtr2 Hyper\n"
     ]
    },
    {
     "name": "stdout",
     "output_type": "stream",
     "text": [
      "127\n",
      "CT-L6_Hcrtr2 Hypo\n"
     ]
    },
    {
     "name": "stdout",
     "output_type": "stream",
     "text": [
      "107\n",
      "PT-L5_Plcb4 Hyper\n"
     ]
    },
    {
     "name": "stdout",
     "output_type": "stream",
     "text": [
      "56\n",
      "PT-L5_Plcb4 Hypo\n"
     ]
    },
    {
     "name": "stdout",
     "output_type": "stream",
     "text": [
      "85\n",
      "IT-L23_Ptprt Hyper\n"
     ]
    },
    {
     "name": "stdout",
     "output_type": "stream",
     "text": [
      "60\n",
      "IT-L23_Ptprt Hypo\n"
     ]
    },
    {
     "name": "stdout",
     "output_type": "stream",
     "text": [
      "89\n",
      "CGE-Lamp5_Nrxn3 Hyper\n"
     ]
    },
    {
     "name": "stdout",
     "output_type": "stream",
     "text": [
      "110\n",
      "CGE-Lamp5_Nrxn3 Hypo\n"
     ]
    },
    {
     "name": "stdout",
     "output_type": "stream",
     "text": [
      "63\n",
      "CT-L6_Map4 Hyper\n"
     ]
    },
    {
     "name": "stdout",
     "output_type": "stream",
     "text": [
      "128\n",
      "CT-L6_Map4 Hypo\n"
     ]
    },
    {
     "name": "stdout",
     "output_type": "stream",
     "text": [
      "102\n",
      "MGE-Sst_Chodl Hyper\n"
     ]
    },
    {
     "name": "stdout",
     "output_type": "stream",
     "text": [
      "81\n",
      "MGE-Sst_Chodl Hypo\n"
     ]
    },
    {
     "name": "stdout",
     "output_type": "stream",
     "text": [
      "70\n",
      "NP-L6_Boc Hyper\n"
     ]
    },
    {
     "name": "stdout",
     "output_type": "stream",
     "text": [
      "86\n",
      "NP-L6_Boc Hypo\n"
     ]
    },
    {
     "name": "stdout",
     "output_type": "stream",
     "text": [
      "75\n",
      "PT-L5_Kcnh1 Hyper\n"
     ]
    },
    {
     "name": "stdout",
     "output_type": "stream",
     "text": [
      "47\n",
      "PT-L5_Kcnh1 Hypo\n"
     ]
    },
    {
     "name": "stdout",
     "output_type": "stream",
     "text": [
      "107\n",
      "OLF-Exc_Bmpr1b Hyper\n"
     ]
    },
    {
     "name": "stdout",
     "output_type": "stream",
     "text": [
      "27\n",
      "OLF-Exc_Bmpr1b Hypo\n"
     ]
    },
    {
     "name": "stdout",
     "output_type": "stream",
     "text": [
      "108\n",
      "OLF_Trpc4 Hyper\n"
     ]
    },
    {
     "name": "stdout",
     "output_type": "stream",
     "text": [
      "78\n",
      "OLF_Trpc4 Hypo\n"
     ]
    },
    {
     "name": "stdout",
     "output_type": "stream",
     "text": [
      "148\n",
      "PT-L5_Astn2 Hyper\n"
     ]
    },
    {
     "name": "stdout",
     "output_type": "stream",
     "text": [
      "15\n",
      "PT-L5_Astn2 Hypo\n"
     ]
    },
    {
     "name": "stdout",
     "output_type": "stream",
     "text": [
      "112\n",
      "IT-L6_Fstl4 Hyper\n"
     ]
    },
    {
     "name": "stdout",
     "output_type": "stream",
     "text": [
      "118\n",
      "IT-L6_Fstl4 Hypo\n"
     ]
    },
    {
     "name": "stdout",
     "output_type": "stream",
     "text": [
      "106\n",
      "CLA_Bcl11a Hyper\n"
     ]
    },
    {
     "name": "stdout",
     "output_type": "stream",
     "text": [
      "34\n",
      "CLA_Bcl11a Hypo\n"
     ]
    },
    {
     "name": "stdout",
     "output_type": "stream",
     "text": [
      "100\n",
      "NP-L6_Cyp7b1 Hyper\n"
     ]
    },
    {
     "name": "stdout",
     "output_type": "stream",
     "text": [
      "88\n",
      "NP-L6_Cyp7b1 Hypo\n"
     ]
    },
    {
     "name": "stdout",
     "output_type": "stream",
     "text": [
      "72\n",
      "CLA_Cdh8 Hyper\n"
     ]
    },
    {
     "name": "stdout",
     "output_type": "stream",
     "text": [
      "112\n",
      "CLA_Cdh8 Hypo\n"
     ]
    },
    {
     "name": "stdout",
     "output_type": "stream",
     "text": [
      "112\n",
      "IT-L6_Cadps2 Hyper\n"
     ]
    },
    {
     "name": "stdout",
     "output_type": "stream",
     "text": [
      "109\n",
      "IT-L6_Cadps2 Hypo\n"
     ]
    },
    {
     "name": "stdout",
     "output_type": "stream",
     "text": [
      "106\n",
      "PT-L5_Ptprt Hyper\n"
     ]
    },
    {
     "name": "stdout",
     "output_type": "stream",
     "text": [
      "68\n",
      "PT-L5_Ptprt Hypo\n"
     ]
    },
    {
     "name": "stdout",
     "output_type": "stream",
     "text": [
      "86\n",
      "NP-L6_Kcnab1 Hyper\n"
     ]
    },
    {
     "name": "stdout",
     "output_type": "stream",
     "text": [
      "98\n",
      "NP-L6_Kcnab1 Hypo\n"
     ]
    },
    {
     "name": "stdout",
     "output_type": "stream",
     "text": [
      "92\n",
      "IT-L6_Oxr1 Hyper\n"
     ]
    },
    {
     "name": "stdout",
     "output_type": "stream",
     "text": [
      "59\n",
      "IT-L6_Oxr1 Hypo\n"
     ]
    },
    {
     "name": "stdout",
     "output_type": "stream",
     "text": [
      "105\n",
      "Foxp2_Homer2 Hyper\n"
     ]
    },
    {
     "name": "stdout",
     "output_type": "stream",
     "text": [
      "87\n",
      "Foxp2_Homer2 Hypo\n"
     ]
    },
    {
     "name": "stdout",
     "output_type": "stream",
     "text": [
      "65\n",
      "MGE-Pvalb_Cacna1i Hyper\n"
     ]
    },
    {
     "name": "stdout",
     "output_type": "stream",
     "text": [
      "80\n",
      "MGE-Pvalb_Cacna1i Hypo\n"
     ]
    },
    {
     "name": "stdout",
     "output_type": "stream",
     "text": [
      "75\n",
      "MSN-D1_Khdrbs3 Hyper\n"
     ]
    },
    {
     "name": "stdout",
     "output_type": "stream",
     "text": [
      "80\n",
      "MSN-D1_Khdrbs3 Hypo\n"
     ]
    },
    {
     "name": "stdout",
     "output_type": "stream",
     "text": [
      "93\n",
      "MSN-D1_Plxnc1 Hyper\n"
     ]
    },
    {
     "name": "stdout",
     "output_type": "stream",
     "text": [
      "82\n",
      "MSN-D1_Plxnc1 Hypo\n"
     ]
    },
    {
     "name": "stdout",
     "output_type": "stream",
     "text": [
      "77\n",
      "OLF_Mapk10 Hyper\n"
     ]
    },
    {
     "name": "stdout",
     "output_type": "stream",
     "text": [
      "53\n",
      "OLF_Mapk10 Hypo\n"
     ]
    },
    {
     "name": "stdout",
     "output_type": "stream",
     "text": [
      "100\n",
      "MSN-D1_Hrh1 Hyper\n"
     ]
    },
    {
     "name": "stdout",
     "output_type": "stream",
     "text": [
      "84\n",
      "MSN-D1_Hrh1 Hypo\n"
     ]
    },
    {
     "name": "stdout",
     "output_type": "stream",
     "text": [
      "69\n",
      "Foxp2_Trpc7 Hyper\n"
     ]
    },
    {
     "name": "stdout",
     "output_type": "stream",
     "text": [
      "80\n",
      "Foxp2_Trpc7 Hypo\n"
     ]
    },
    {
     "name": "stdout",
     "output_type": "stream",
     "text": [
      "120\n",
      "OLF_Pag1 Hyper\n"
     ]
    },
    {
     "name": "stdout",
     "output_type": "stream",
     "text": [
      "68\n",
      "OLF_Pag1 Hypo\n"
     ]
    },
    {
     "name": "stdout",
     "output_type": "stream",
     "text": [
      "88\n",
      "MSN-D2_Col14a1 Hyper\n"
     ]
    },
    {
     "name": "stdout",
     "output_type": "stream",
     "text": [
      "82\n",
      "MSN-D2_Col14a1 Hypo\n"
     ]
    },
    {
     "name": "stdout",
     "output_type": "stream",
     "text": [
      "99\n",
      "MGE-Sst_Bmper Hyper\n"
     ]
    },
    {
     "name": "stdout",
     "output_type": "stream",
     "text": [
      "94\n",
      "MGE-Sst_Bmper Hypo\n"
     ]
    },
    {
     "name": "stdout",
     "output_type": "stream",
     "text": [
      "85\n",
      "OLF-Exc_Pld5 Hyper\n"
     ]
    },
    {
     "name": "stdout",
     "output_type": "stream",
     "text": [
      "27\n",
      "OLF-Exc_Pld5 Hypo\n"
     ]
    },
    {
     "name": "stdout",
     "output_type": "stream",
     "text": [
      "98\n",
      "OLF_Gabbr2 Hyper\n"
     ]
    },
    {
     "name": "stdout",
     "output_type": "stream",
     "text": [
      "73\n",
      "OLF_Gabbr2 Hypo\n"
     ]
    },
    {
     "name": "stdout",
     "output_type": "stream",
     "text": [
      "90\n",
      "OLF_Kcnd3 Hyper\n"
     ]
    },
    {
     "name": "stdout",
     "output_type": "stream",
     "text": [
      "64\n",
      "OLF_Kcnd3 Hypo\n"
     ]
    },
    {
     "name": "stdout",
     "output_type": "stream",
     "text": [
      "137\n",
      "PAL-Inh_Deptor Hyper\n"
     ]
    },
    {
     "name": "stdout",
     "output_type": "stream",
     "text": [
      "48\n",
      "PAL-Inh_Deptor Hypo\n"
     ]
    },
    {
     "name": "stdout",
     "output_type": "stream",
     "text": [
      "79\n",
      "OLF-Exc_Lrrtm3 Hyper\n"
     ]
    },
    {
     "name": "stdout",
     "output_type": "stream",
     "text": [
      "44\n",
      "OLF-Exc_Lrrtm3 Hypo\n"
     ]
    },
    {
     "name": "stdout",
     "output_type": "stream",
     "text": [
      "127\n",
      "OLF-Exc_Cdh9 Hyper\n"
     ]
    },
    {
     "name": "stdout",
     "output_type": "stream",
     "text": [
      "73\n",
      "OLF-Exc_Cdh9 Hypo\n"
     ]
    },
    {
     "name": "stdout",
     "output_type": "stream",
     "text": [
      "118\n",
      "OLF-Exc_Unc13c Hyper\n"
     ]
    },
    {
     "name": "stdout",
     "output_type": "stream",
     "text": [
      "53\n",
      "OLF-Exc_Unc13c Hypo\n"
     ]
    },
    {
     "name": "stdout",
     "output_type": "stream",
     "text": [
      "126\n",
      "PAL-Inh_Meis1 Hyper\n"
     ]
    },
    {
     "name": "stdout",
     "output_type": "stream",
     "text": [
      "96\n",
      "PAL-Inh_Meis1 Hypo\n"
     ]
    },
    {
     "name": "stdout",
     "output_type": "stream",
     "text": [
      "130\n",
      "L6b_Nrp2 Hyper\n"
     ]
    },
    {
     "name": "stdout",
     "output_type": "stream",
     "text": [
      "141\n",
      "L6b_Nrp2 Hypo\n"
     ]
    },
    {
     "name": "stdout",
     "output_type": "stream",
     "text": [
      "69\n",
      "LSX-Inh_Cacna1i Hyper\n"
     ]
    },
    {
     "name": "stdout",
     "output_type": "stream",
     "text": [
      "110\n",
      "LSX-Inh_Cacna1i Hypo\n"
     ]
    },
    {
     "name": "stdout",
     "output_type": "stream",
     "text": [
      "46\n",
      "OLF-Exc_Sgcd Hyper\n"
     ]
    },
    {
     "name": "stdout",
     "output_type": "stream",
     "text": [
      "57\n",
      "OLF-Exc_Sgcd Hypo\n"
     ]
    },
    {
     "name": "stdout",
     "output_type": "stream",
     "text": [
      "116\n",
      "OLF-Exc_Rmst Hyper\n"
     ]
    },
    {
     "name": "stdout",
     "output_type": "stream",
     "text": [
      "58\n",
      "OLF-Exc_Rmst Hypo\n"
     ]
    },
    {
     "name": "stdout",
     "output_type": "stream",
     "text": [
      "95\n",
      "PT-L5_Unc5b Hyper\n"
     ]
    },
    {
     "name": "stdout",
     "output_type": "stream",
     "text": [
      "58\n",
      "PT-L5_Unc5b Hypo\n"
     ]
    },
    {
     "name": "stdout",
     "output_type": "stream",
     "text": [
      "114\n",
      "L6b_Pkhd1 Hyper\n"
     ]
    },
    {
     "name": "stdout",
     "output_type": "stream",
     "text": [
      "28\n",
      "L6b_Pkhd1 Hypo\n"
     ]
    },
    {
     "name": "stdout",
     "output_type": "stream",
     "text": [
      "65\n",
      "L6b_Kcnk2 Hyper\n"
     ]
    },
    {
     "name": "stdout",
     "output_type": "stream",
     "text": [
      "123\n",
      "L6b_Kcnk2 Hypo\n"
     ]
    },
    {
     "name": "stdout",
     "output_type": "stream",
     "text": [
      "68\n",
      "IT-L4_Astn2 Hyper\n"
     ]
    },
    {
     "name": "stdout",
     "output_type": "stream",
     "text": [
      "29\n",
      "IT-L4_Astn2 Hypo\n"
     ]
    },
    {
     "name": "stdout",
     "output_type": "stream",
     "text": [
      "103\n",
      "CLA_Nrp2 Hyper\n"
     ]
    },
    {
     "name": "stdout",
     "output_type": "stream",
     "text": [
      "121\n",
      "CLA_Nrp2 Hypo\n"
     ]
    },
    {
     "name": "stdout",
     "output_type": "stream",
     "text": [
      "100\n",
      "D1L-Fstl4_Sipa1l2 Hyper\n"
     ]
    },
    {
     "name": "stdout",
     "output_type": "stream",
     "text": [
      "79\n",
      "D1L-Fstl4_Sipa1l2 Hypo\n"
     ]
    },
    {
     "name": "stdout",
     "output_type": "stream",
     "text": [
      "156\n",
      "EP_Tspan5 Hyper\n"
     ]
    },
    {
     "name": "stdout",
     "output_type": "stream",
     "text": [
      "119\n",
      "EP_Tspan5 Hypo\n"
     ]
    },
    {
     "name": "stdout",
     "output_type": "stream",
     "text": [
      "108\n",
      "PAL-Inh_Rarb Hyper\n"
     ]
    },
    {
     "name": "stdout",
     "output_type": "stream",
     "text": [
      "110\n",
      "PAL-Inh_Rarb Hypo\n"
     ]
    },
    {
     "name": "stdout",
     "output_type": "stream",
     "text": [
      "63\n",
      "MSN-D2_Nrp2 Hyper\n"
     ]
    },
    {
     "name": "stdout",
     "output_type": "stream",
     "text": [
      "78\n",
      "MSN-D2_Nrp2 Hypo\n"
     ]
    },
    {
     "name": "stdout",
     "output_type": "stream",
     "text": [
      "90\n",
      "D1L-Fstl4_Trps1 Hyper\n"
     ]
    },
    {
     "name": "stdout",
     "output_type": "stream",
     "text": [
      "82\n",
      "D1L-Fstl4_Trps1 Hypo\n"
     ]
    },
    {
     "name": "stdout",
     "output_type": "stream",
     "text": [
      "79\n",
      "Foxp2_Dchs2 Hyper\n"
     ]
    },
    {
     "name": "stdout",
     "output_type": "stream",
     "text": [
      "78\n",
      "Foxp2_Dchs2 Hypo\n"
     ]
    },
    {
     "name": "stdout",
     "output_type": "stream",
     "text": [
      "108\n",
      "OLF-Exc_Cux2 Hyper\n"
     ]
    },
    {
     "name": "stdout",
     "output_type": "stream",
     "text": [
      "54\n",
      "OLF-Exc_Cux2 Hypo\n"
     ]
    },
    {
     "name": "stdout",
     "output_type": "stream",
     "text": [
      "105\n",
      "PAL-Inh_Chat Hyper\n"
     ]
    },
    {
     "name": "stdout",
     "output_type": "stream",
     "text": [
      "105\n",
      "PAL-Inh_Chat Hypo\n"
     ]
    },
    {
     "name": "stdout",
     "output_type": "stream",
     "text": [
      "114\n",
      "D1L-PAL_Flrt2 Hyper\n"
     ]
    },
    {
     "name": "stdout",
     "output_type": "stream",
     "text": [
      "98\n",
      "D1L-PAL_Flrt2 Hypo\n"
     ]
    },
    {
     "name": "stdout",
     "output_type": "stream",
     "text": [
      "102\n",
      "EP_Rgs8 Hyper\n"
     ]
    },
    {
     "name": "stdout",
     "output_type": "stream",
     "text": [
      "131\n",
      "EP_Rgs8 Hypo\n"
     ]
    },
    {
     "name": "stdout",
     "output_type": "stream",
     "text": [
      "95\n",
      "PAL-Inh_Igdcc3 Hyper\n"
     ]
    },
    {
     "name": "stdout",
     "output_type": "stream",
     "text": [
      "106\n",
      "PAL-Inh_Igdcc3 Hypo\n"
     ]
    },
    {
     "name": "stdout",
     "output_type": "stream",
     "text": [
      "74\n",
      "PAL-Inh_Tmem178 Hyper\n"
     ]
    },
    {
     "name": "stdout",
     "output_type": "stream",
     "text": [
      "101\n",
      "PAL-Inh_Tmem178 Hypo\n"
     ]
    },
    {
     "name": "stdout",
     "output_type": "stream",
     "text": [
      "86\n",
      "MSN-D1_Ntn1 Hyper\n"
     ]
    },
    {
     "name": "stdout",
     "output_type": "stream",
     "text": [
      "81\n",
      "MSN-D1_Ntn1 Hypo\n"
     ]
    },
    {
     "name": "stdout",
     "output_type": "stream",
     "text": [
      "93\n",
      "Foxp2_Inpp4b Hyper\n"
     ]
    },
    {
     "name": "stdout",
     "output_type": "stream",
     "text": [
      "85\n",
      "Foxp2_Inpp4b Hypo\n"
     ]
    },
    {
     "name": "stdout",
     "output_type": "stream",
     "text": [
      "77\n",
      "MSN-D2_Casz1 Hyper\n"
     ]
    },
    {
     "name": "stdout",
     "output_type": "stream",
     "text": [
      "78\n",
      "MSN-D2_Casz1 Hypo\n"
     ]
    },
    {
     "name": "stdout",
     "output_type": "stream",
     "text": [
      "125\n",
      "Chd7_Kcnc2 Hyper\n"
     ]
    },
    {
     "name": "stdout",
     "output_type": "stream",
     "text": [
      "101\n",
      "Chd7_Kcnc2 Hypo\n"
     ]
    },
    {
     "name": "stdout",
     "output_type": "stream",
     "text": [
      "63\n",
      "PAL-Inh_Tcf7l2 Hyper\n"
     ]
    },
    {
     "name": "stdout",
     "output_type": "stream",
     "text": [
      "107\n",
      "PAL-Inh_Tcf7l2 Hypo\n"
     ]
    },
    {
     "name": "stdout",
     "output_type": "stream",
     "text": [
      "46\n",
      "D1L-Fstl4_Grm3 Hyper\n"
     ]
    },
    {
     "name": "stdout",
     "output_type": "stream",
     "text": [
      "83\n",
      "D1L-Fstl4_Grm3 Hypo\n"
     ]
    },
    {
     "name": "stdout",
     "output_type": "stream",
     "text": [
      "82\n",
      "D1L-Fstl4_Cadm1 Hyper\n"
     ]
    },
    {
     "name": "stdout",
     "output_type": "stream",
     "text": [
      "86\n",
      "D1L-Fstl4_Cadm1 Hypo\n"
     ]
    },
    {
     "name": "stdout",
     "output_type": "stream",
     "text": [
      "107\n",
      "Chd7_Trpc7 Hyper\n"
     ]
    },
    {
     "name": "stdout",
     "output_type": "stream",
     "text": [
      "107\n",
      "Chd7_Trpc7 Hypo\n"
     ]
    },
    {
     "name": "stdout",
     "output_type": "stream",
     "text": [
      "42\n",
      "PAL-Inh_Ptprd Hyper\n"
     ]
    },
    {
     "name": "stdout",
     "output_type": "stream",
     "text": [
      "108\n",
      "PAL-Inh_Ptprd Hypo\n"
     ]
    },
    {
     "name": "stdout",
     "output_type": "stream",
     "text": [
      "71\n",
      "D1L-Fstl4_Crim1 Hyper\n"
     ]
    },
    {
     "name": "stdout",
     "output_type": "stream",
     "text": [
      "88\n",
      "D1L-Fstl4_Crim1 Hypo\n"
     ]
    },
    {
     "name": "stdout",
     "output_type": "stream",
     "text": [
      "71\n",
      "Chd7_Megf11 Hyper\n"
     ]
    },
    {
     "name": "stdout",
     "output_type": "stream",
     "text": [
      "102\n",
      "Chd7_Megf11 Hypo\n"
     ]
    },
    {
     "name": "stdout",
     "output_type": "stream",
     "text": [
      "81\n",
      "EP_Adcy8 Hyper\n"
     ]
    },
    {
     "name": "stdout",
     "output_type": "stream",
     "text": [
      "76\n",
      "EP_Adcy8 Hypo\n"
     ]
    },
    {
     "name": "stdout",
     "output_type": "stream",
     "text": [
      "106\n",
      "D1L-PAL_Plcxd3 Hyper\n"
     ]
    },
    {
     "name": "stdout",
     "output_type": "stream",
     "text": [
      "97\n",
      "D1L-PAL_Plcxd3 Hypo\n"
     ]
    },
    {
     "name": "stdout",
     "output_type": "stream",
     "text": [
      "104\n",
      "PAL-Inh_Onecut2 Hyper\n"
     ]
    },
    {
     "name": "stdout",
     "output_type": "stream",
     "text": [
      "105\n",
      "PAL-Inh_Onecut2 Hypo\n"
     ]
    },
    {
     "name": "stdout",
     "output_type": "stream",
     "text": [
      "19\n",
      "LSX-Inh_Foxp2 Hyper\n"
     ]
    },
    {
     "name": "stdout",
     "output_type": "stream",
     "text": [
      "105\n",
      "LSX-Inh_Foxp2 Hypo\n"
     ]
    },
    {
     "name": "stdout",
     "output_type": "stream",
     "text": [
      "37\n",
      "LSX-Inh_Enox1 Hyper\n"
     ]
    },
    {
     "name": "stdout",
     "output_type": "stream",
     "text": [
      "95\n",
      "LSX-Inh_Enox1 Hypo\n"
     ]
    },
    {
     "name": "stdout",
     "output_type": "stream",
     "text": [
      "48\n",
      "LSX-Inh_Dock10 Hyper\n"
     ]
    },
    {
     "name": "stdout",
     "output_type": "stream",
     "text": [
      "104\n",
      "LSX-Inh_Dock10 Hypo\n"
     ]
    },
    {
     "name": "stdout",
     "output_type": "stream",
     "text": [
      "40\n",
      "LSX-Inh_Nxph1 Hyper\n"
     ]
    },
    {
     "name": "stdout",
     "output_type": "stream",
     "text": [
      "109\n",
      "LSX-Inh_Nxph1 Hypo\n"
     ]
    },
    {
     "name": "stdout",
     "output_type": "stream",
     "text": [
      "47\n",
      "LSX-Inh_Zeb2 Hyper\n"
     ]
    },
    {
     "name": "stdout",
     "output_type": "stream",
     "text": [
      "104\n",
      "LSX-Inh_Zeb2 Hypo\n"
     ]
    },
    {
     "name": "stdout",
     "output_type": "stream",
     "text": [
      "55\n",
      "LSX-Inh_Lats2 Hyper\n"
     ]
    },
    {
     "name": "stdout",
     "output_type": "stream",
     "text": [
      "100\n",
      "LSX-Inh_Lats2 Hypo\n"
     ]
    },
    {
     "name": "stdout",
     "output_type": "stream",
     "text": [
      "42\n"
     ]
    }
   ],
   "source": [
    "dmr_type = dmr_types[0]\n",
    "cluster = clusters[0]\n",
    "\n",
    "for cluster in clusters:\n",
    "    for dmr_type in dmr_types:\n",
    "        print(cluster, dmr_type)\n",
    "        output_path = f'{cluster}.{dmr_type}.motif_enrichment.msg'\n",
    "        if pathlib.Path(output_path).exists():\n",
    "            continue\n",
    "        dmr_data, bg_data = get_data_by_cluster(total_dmr_annot, total_background_motif_hits, bg_bed, \n",
    "                                                dmr_type, cluster, use_cols=use_cols)\n",
    "        motif_enrichment(dmr_data, bg_data, cluster, dmr_type)"
   ]
  },
  {
   "cell_type": "code",
   "execution_count": 8,
   "metadata": {
    "ExecuteTime": {
     "end_time": "2019-12-16T06:35:39.431572Z",
     "start_time": "2019-12-16T06:35:39.227791Z"
    },
    "papermill": {
     "duration": 0.323241,
     "end_time": "2019-12-16T10:03:30.874083",
     "exception": false,
     "start_time": "2019-12-16T10:03:30.550842",
     "status": "completed"
    },
    "tags": []
   },
   "outputs": [
    {
     "data": {
      "text/plain": [
       "CompletedProcess(args=['rm', '-f', 'bed_tmp'], returncode=1)"
      ]
     },
     "execution_count": 8,
     "metadata": {},
     "output_type": "execute_result"
    }
   ],
   "source": [
    "subprocess.run(['rm', '-f', 'bed_tmp'])"
   ]
  },
  {
   "cell_type": "code",
   "execution_count": 9,
   "metadata": {
    "papermill": {
     "duration": 0.075523,
     "end_time": "2019-12-16T10:03:31.018180",
     "exception": false,
     "start_time": "2019-12-16T10:03:30.942657",
     "status": "completed"
    },
    "tags": []
   },
   "outputs": [],
   "source": [
    "with open('final_flag.txt', 'w') as f:\n",
    "    f.write('Oh yeah')"
   ]
  },
  {
   "cell_type": "code",
   "execution_count": null,
   "metadata": {
    "papermill": {
     "duration": 0.068118,
     "end_time": "2019-12-16T10:03:31.153882",
     "exception": false,
     "start_time": "2019-12-16T10:03:31.085764",
     "status": "completed"
    },
    "tags": []
   },
   "outputs": [],
   "source": []
  }
 ],
 "metadata": {
  "hide_input": false,
  "kernelspec": {
   "display_name": "Python 3",
   "language": "python",
   "name": "python3"
  },
  "language_info": {
   "codemirror_mode": {
    "name": "ipython",
    "version": 3
   },
   "file_extension": ".py",
   "mimetype": "text/x-python",
   "name": "python",
   "nbconvert_exporter": "python",
   "pygments_lexer": "ipython3",
   "version": "3.7.3"
  },
  "papermill": {
   "duration": 2938.236513,
   "end_time": "2019-12-16T10:03:33.635686",
   "environment_variables": {},
   "exception": null,
   "input_path": "MotifEnrichment-UseSubset.ipynb",
   "output_path": "/home/hanliu/project/mouse_rostral_brain/study/ManualMotifEnrichment/TE/TE-SINE/MotifEnrichment.TE-SINE.ipynb",
   "parameters": {
    "cluster_col": "SubType",
    "clusters": [
     "MGE-Sst_Rxra",
     "CA3_Cadm2",
     "CA1_Chrm3",
     "CA3-St18_Tead1",
     "Unc5c_Unc5c",
     "Gfra1_Gfra1",
     "ODC_odc-small",
     "PC_pc-all",
     "ODC_odc-large",
     "ANP_anp-dg",
     "IT-L5_Etv1",
     "CA1_Ptprg",
     "MGE-Sst_Ptpre",
     "NP-L6_Cntnap4",
     "CA3-St18_Nuak1",
     "CGE-Lamp5_Dock5",
     "CT-L6_Megf9",
     "IG-CA2_Chrm3",
     "IG-CA2_Peak1",
     "DG-po_Calb2",
     "DG_dg-all",
     "CGE-Vip_Ntng1",
     "CA1_Kif26a",
     "CA3_Efnb2",
     "CGE-Vip_Ptprm",
     "CA1_Ak5",
     "DG-po_Bcl11a",
     "OPC_opc-large",
     "ASC_cortex-olf",
     "MGC_mgc-all",
     "PT-L5_Tenm2",
     "ASC_str-hpf",
     "CGE-Vip_Robo1",
     "CA1_Lingo2",
     "ASC_mid",
     "MGE-Pvalb_Gfra2",
     "VLMC_Mapk4",
     "CA3-St18_Epha5",
     "PAL-Inh_Meis2",
     "IG-CA2_Xpr1",
     "EC_Abhd2",
     "VLMC-Pia_vlmc-pia-all",
     "MGE-Sst_Unc5b",
     "MGE-Pvalb_Thsd7a",
     "CGE-Vip_Grm8",
     "MGE-Sst_Dock4",
     "CGE-Lamp5_Grk5",
     "OLF_Xkr6",
     "VLMC_Col4a1",
     "OPC_opc-small",
     "ANP_anp-olf-cnu",
     "DG-po_Kctd8",
     "MSN-D2_Slc24a2",
     "CGE-Lamp5_Sorcs1",
     "CT-L6_Il1rap",
     "L6b_Adcy8",
     "MGE-Pvalb_Entpd3",
     "IT-L6_Man1c1",
     "MGE-Pvalb_Ptprk",
     "CGE-Vip_Ccser1",
     "NP-L6_Olfml2b",
     "CGE-Lamp5_Grid1",
     "MGE-Pvalb_Sema5a",
     "MGE-Sst_Kcnip4",
     "PT-L5_Abca12",
     "MGE-Sst_Frmd6",
     "MGE-Pvalb_Cnih3",
     "MGE-Sst_Ubtd1",
     "PT-L5_Nectin1",
     "MGE-Sst_Rerg",
     "CGE-Vip_Fstl4",
     "CGE-Vip_Galnt17",
     "MGE-Sst_Etv1",
     "IT-L23_Cux1",
     "IT-L23_Foxp1",
     "EC_Sema3g",
     "CGE-Vip_Clstn2",
     "IT-L4_Shc3",
     "IT-L5_Cdh8",
     "IT-L5_Grik3",
     "PT-L5_Tmtc2",
     "IT-L23_Tenm2",
     "NP-L6_Cntnap5a",
     "CT-L6_Hcrtr2",
     "PT-L5_Plcb4",
     "IT-L23_Ptprt",
     "CGE-Lamp5_Nrxn3",
     "CT-L6_Map4",
     "MGE-Sst_Chodl",
     "NP-L6_Boc",
     "PT-L5_Kcnh1",
     "OLF-Exc_Bmpr1b",
     "OLF_Trpc4",
     "PT-L5_Astn2",
     "IT-L6_Fstl4",
     "CLA_Bcl11a",
     "NP-L6_Cyp7b1",
     "CLA_Cdh8",
     "IT-L6_Cadps2",
     "PT-L5_Ptprt",
     "NP-L6_Kcnab1",
     "IT-L6_Oxr1",
     "Foxp2_Homer2",
     "MGE-Pvalb_Cacna1i",
     "MSN-D1_Khdrbs3",
     "MSN-D1_Plxnc1",
     "OLF_Mapk10",
     "MSN-D1_Hrh1",
     "Foxp2_Trpc7",
     "OLF_Pag1",
     "MSN-D2_Col14a1",
     "MGE-Sst_Bmper",
     "OLF-Exc_Pld5",
     "OLF_Gabbr2",
     "OLF_Kcnd3",
     "PAL-Inh_Deptor",
     "OLF-Exc_Lrrtm3",
     "OLF-Exc_Cdh9",
     "OLF-Exc_Unc13c",
     "PAL-Inh_Meis1",
     "L6b_Nrp2",
     "LSX-Inh_Cacna1i",
     "OLF-Exc_Sgcd",
     "OLF-Exc_Rmst",
     "PT-L5_Unc5b",
     "L6b_Pkhd1",
     "L6b_Kcnk2",
     "IT-L4_Astn2",
     "CLA_Nrp2",
     "D1L-Fstl4_Sipa1l2",
     "EP_Tspan5",
     "PAL-Inh_Rarb",
     "MSN-D2_Nrp2",
     "D1L-Fstl4_Trps1",
     "Foxp2_Dchs2",
     "OLF-Exc_Cux2",
     "PAL-Inh_Chat",
     "D1L-PAL_Flrt2",
     "EP_Rgs8",
     "PAL-Inh_Igdcc3",
     "PAL-Inh_Tmem178",
     "MSN-D1_Ntn1",
     "Foxp2_Inpp4b",
     "MSN-D2_Casz1",
     "Chd7_Kcnc2",
     "PAL-Inh_Tcf7l2",
     "D1L-Fstl4_Grm3",
     "D1L-Fstl4_Cadm1",
     "Chd7_Trpc7",
     "PAL-Inh_Ptprd",
     "D1L-Fstl4_Crim1",
     "Chd7_Megf11",
     "EP_Adcy8",
     "D1L-PAL_Plcxd3",
     "PAL-Inh_Onecut2",
     "LSX-Inh_Foxp2",
     "LSX-Inh_Enox1",
     "LSX-Inh_Dock10",
     "LSX-Inh_Nxph1",
     "LSX-Inh_Zeb2",
     "LSX-Inh_Lats2"
    ],
    "dmr_types": [
     "Hyper",
     "Hypo"
    ],
    "use_cols": [
     "SINE.Alu",
     "SINE.B2",
     "SINE.B4",
     "SINE.Deu",
     "SINE.ID",
     "SINE.MIR",
     "SINE.tRNA"
    ]
   },
   "start_time": "2019-12-16T09:14:35.399173",
   "version": "1.0.1"
  },
  "toc": {
   "base_numbering": 1,
   "nav_menu": {},
   "number_sections": true,
   "sideBar": true,
   "skip_h1_title": true,
   "title_cell": "Table of Contents",
   "title_sidebar": "Contents",
   "toc_cell": false,
   "toc_position": {},
   "toc_section_display": true,
   "toc_window_display": true
  }
 },
 "nbformat": 4,
 "nbformat_minor": 2
}