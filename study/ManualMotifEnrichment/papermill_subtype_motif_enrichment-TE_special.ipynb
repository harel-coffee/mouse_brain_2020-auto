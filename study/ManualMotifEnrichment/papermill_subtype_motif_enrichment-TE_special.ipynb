{
 "cells": [
  {
   "cell_type": "code",
   "execution_count": 1,
   "metadata": {
    "ExecuteTime": {
     "end_time": "2019-12-17T03:26:09.869895Z",
     "start_time": "2019-12-17T03:26:07.349444Z"
    }
   },
   "outputs": [],
   "source": [
    "from papermill import execute_notebook\n",
    "import pandas as pd\n",
    "import pathlib\n",
    "import anndata"
   ]
  },
  {
   "cell_type": "code",
   "execution_count": 2,
   "metadata": {
    "ExecuteTime": {
     "end_time": "2019-12-17T03:26:14.976267Z",
     "start_time": "2019-12-17T03:26:14.488007Z"
    }
   },
   "outputs": [
    {
     "name": "stderr",
     "output_type": "stream",
     "text": [
      "/home/hanliu/miniconda3/envs/clustering/lib/python3.7/site-packages/IPython/core/interactiveshell.py:3326: FutureWarning: The read_msgpack is deprecated and will be removed in a future version.\n",
      "It is recommended to use pyarrow for on-the-wire transmission of pandas objects.\n",
      "  exec(code_obj, self.user_global_ns, self.user_ns)\n"
     ]
    }
   ],
   "source": [
    "cell_tidy_data = pd.read_msgpack(\n",
    "    '/home/hanliu/project/mouse_rostral_brain/study/ClusteringSummary/Summary/TotalClusteringResults.msg'\n",
    ")"
   ]
  },
  {
   "cell_type": "code",
   "execution_count": 3,
   "metadata": {
    "ExecuteTime": {
     "end_time": "2019-12-17T03:26:15.785375Z",
     "start_time": "2019-12-17T03:26:15.776649Z"
    }
   },
   "outputs": [],
   "source": [
    "cluster_col = 'SubType'\n",
    "clusters = [i.replace(' ', '_') \n",
    "            for i in cell_tidy_data[cluster_col].unique() \n",
    "            if 'Outlier' not in i]\n",
    "dmr_types = ['Hyper', 'Hypo']"
   ]
  },
  {
   "cell_type": "code",
   "execution_count": 4,
   "metadata": {
    "ExecuteTime": {
     "end_time": "2019-12-17T03:26:17.591536Z",
     "start_time": "2019-12-17T03:26:17.580306Z"
    }
   },
   "outputs": [
    {
     "data": {
      "text/plain": [
       "{'TE-DNA': ['DNA.DNA',\n",
       "  'DNA.MULE-MuDR',\n",
       "  'DNA.MuDR',\n",
       "  'DNA.PiggyBac',\n",
       "  'DNA.TcMar',\n",
       "  'DNA.TcMar-Mariner',\n",
       "  'DNA.TcMar-Pogo',\n",
       "  'DNA.TcMar-Tc2',\n",
       "  'DNA.TcMar-Tigger',\n",
       "  'DNA.hAT',\n",
       "  'DNA.hAT-Blackjack',\n",
       "  'DNA.hAT-Charlie',\n",
       "  'DNA.hAT-Tip100'],\n",
       " 'TE-LINE': ['LINE.CR1',\n",
       "  'LINE.Dong-R4',\n",
       "  'LINE.L1',\n",
       "  'LINE.L2',\n",
       "  'LINE.RTE-BovB',\n",
       "  'LINE.RTE-X'],\n",
       " 'TE-LTR': ['LTR.ERV1',\n",
       "  'LTR.ERVK',\n",
       "  'LTR.ERVL',\n",
       "  'LTR.ERVL-MaLR',\n",
       "  'LTR.Gypsy',\n",
       "  'LTR.LTR'],\n",
       " 'TE-SINE': ['SINE.Alu',\n",
       "  'SINE.B2',\n",
       "  'SINE.B4',\n",
       "  'SINE.Deu',\n",
       "  'SINE.ID',\n",
       "  'SINE.MIR',\n",
       "  'SINE.tRNA']}"
      ]
     },
     "execution_count": 4,
     "metadata": {},
     "output_type": "execute_result"
    }
   ],
   "source": [
    "te_anno = {\n",
    "    'DNA.DNA': 'TE-DNA',\n",
    "    'DNA.MULE-MuDR': 'TE-DNA',\n",
    "    'DNA.MuDR': 'TE-DNA',\n",
    "    'DNA.PiggyBac': 'TE-DNA',\n",
    "    'DNA.TcMar': 'TE-DNA',\n",
    "    'DNA.TcMar-Mariner': 'TE-DNA',\n",
    "    'DNA.TcMar-Pogo': 'TE-DNA',\n",
    "    'DNA.TcMar-Tc2': 'TE-DNA',\n",
    "    'DNA.TcMar-Tigger': 'TE-DNA',\n",
    "    'DNA.hAT': 'TE-DNA',\n",
    "    'DNA.hAT-Blackjack': 'TE-DNA',\n",
    "    'DNA.hAT-Charlie': 'TE-DNA',\n",
    "    'DNA.hAT-Tip100': 'TE-DNA',\n",
    "    'LINE.CR1': 'TE-LINE',\n",
    "    'LINE.Dong-R4': 'TE-LINE',\n",
    "    'LINE.L1': 'TE-LINE',\n",
    "    'LINE.L2': 'TE-LINE',\n",
    "    'LINE.RTE-BovB': 'TE-LINE',\n",
    "    'LINE.RTE-X': 'TE-LINE',\n",
    "    'LTR.ERV1': 'TE-LTR',\n",
    "    'LTR.ERVK': 'TE-LTR',\n",
    "    'LTR.ERVL': 'TE-LTR',\n",
    "    'LTR.ERVL-MaLR': 'TE-LTR',\n",
    "    'LTR.Gypsy': 'TE-LTR',\n",
    "    'LTR.LTR': 'TE-LTR',\n",
    "    'SINE.Alu': 'TE-SINE',\n",
    "    'SINE.B2': 'TE-SINE',\n",
    "    'SINE.B4': 'TE-SINE',\n",
    "    'SINE.Deu': 'TE-SINE',\n",
    "    'SINE.ID': 'TE-SINE',\n",
    "    'SINE.MIR': 'TE-SINE',\n",
    "    'SINE.tRNA': 'TE-SINE'\n",
    "}\n",
    "s = pd.Series(te_anno)\n",
    "study_design = s.groupby(s).apply(lambda i: i.index.tolist()).to_dict()\n",
    "study_design"
   ]
  },
  {
   "cell_type": "code",
   "execution_count": null,
   "metadata": {
    "ExecuteTime": {
     "start_time": "2019-12-16T06:49:43.783Z"
    },
    "scrolled": true
   },
   "outputs": [
    {
     "name": "stdout",
     "output_type": "stream",
     "text": [
      "TE-DNA\n"
     ]
    },
    {
     "data": {
      "application/vnd.jupyter.widget-view+json": {
       "model_id": "010933abd88146fd95ea825522e1662f",
       "version_major": 2,
       "version_minor": 0
      },
      "text/plain": [
       "HBox(children=(IntProgress(value=0, max=13), HTML(value='')))"
      ]
     },
     "metadata": {},
     "output_type": "display_data"
    }
   ],
   "source": [
    "for study_name, use_cols in study_design.items():\n",
    "    output_dir = pathlib.Path(f'TE/{study_name}/').absolute()\n",
    "    output_dir.mkdir(exist_ok=True, parents=True)\n",
    "    \n",
    "    print(study_name)            \n",
    "    input_path = 'MotifEnrichment-UseSubset.ipynb'\n",
    "    output_path = output_dir / f'MotifEnrichment.{study_name}.ipynb'\n",
    "    params = dict(cluster_col=cluster_col,\n",
    "                  clusters=clusters,\n",
    "                  dmr_types=dmr_types,\n",
    "                  use_cols=use_cols)\n",
    "    if (output_dir / 'final_flag.txt').exists():\n",
    "        continue\n",
    "    \n",
    "    execute_notebook(str(input_path),\n",
    "                     str(output_path),\n",
    "                     parameters=params,\n",
    "                     engine_name=None,\n",
    "                     prepare_only=False,\n",
    "                     kernel_name=None,\n",
    "                     progress_bar=True,\n",
    "                     log_output=False,\n",
    "                     start_timeout=60,\n",
    "                     report_mode=False,\n",
    "                     cwd=str(output_dir))"
   ]
  },
  {
   "cell_type": "code",
   "execution_count": null,
   "metadata": {},
   "outputs": [],
   "source": [
    "for study_name, use_cols in study_design.items():\n",
    "    output_dir = pathlib.Path(f'TE/{study_name}/').absolute()\n",
    "    output_dir.mkdir(exist_ok=True, parents=True)\n",
    "    \n",
    "    print(study_name)\n",
    "    input_path = 'MotifEnrichment-UseSubset.ipynb'\n",
    "    output_path = output_dir / f'MotifEnrichment.{study_name}.ipynb'        \n",
    "    params = dict(cluster_col=cluster_col,\n",
    "                  clusters=clusters,\n",
    "                  dmr_types=dmr_types,\n",
    "                  use_cols=use_cols)\n",
    "    if (output_dir / 'final_flag.txt').exists():\n",
    "        continue\n",
    "    \n",
    "    execute_notebook(str(input_path),\n",
    "                     str(output_path),\n",
    "                     parameters=params,\n",
    "                     engine_name=None,\n",
    "                     prepare_only=False,\n",
    "                     kernel_name=None,\n",
    "                     progress_bar=True,\n",
    "                     log_output=False,\n",
    "                     start_timeout=60,\n",
    "                     report_mode=False,\n",
    "                     cwd=str(output_dir))"
   ]
  },
  {
   "cell_type": "code",
   "execution_count": 8,
   "metadata": {
    "ExecuteTime": {
     "end_time": "2019-12-17T04:42:51.763580Z",
     "start_time": "2019-12-17T03:47:52.351514Z"
    }
   },
   "outputs": [
    {
     "data": {
      "application/vnd.jupyter.widget-view+json": {
       "model_id": "e297c157c1bd4034854f7927c451f654",
       "version_major": 2,
       "version_minor": 0
      },
      "text/plain": [
       "HBox(children=(IntProgress(value=0, max=13), HTML(value='')))"
      ]
     },
     "metadata": {},
     "output_type": "display_data"
    },
    {
     "name": "stdout",
     "output_type": "stream",
     "text": [
      "\n"
     ]
    }
   ],
   "source": [
    "study_name = \"NO-TE\"\n",
    "\n",
    "output_dir = pathlib.Path(f'TE/{study_name}/').absolute()\n",
    "output_dir.mkdir(exist_ok=True, parents=True)\n",
    "\n",
    "input_path = 'MotifEnrichment-UseSubset.ipynb'\n",
    "output_path = output_dir / f'MotifEnrichment.{study_name}.ipynb'\n",
    "params = dict(cluster_col=cluster_col,\n",
    "              clusters=clusters,\n",
    "              dmr_types=dmr_types,\n",
    "              reverse_cols=True,\n",
    "              use_cols=list(te_anno.keys()))\n",
    "if not (output_dir / 'final_flag.txt').exists():\n",
    "    execute_notebook(str(input_path),\n",
    "                     str(output_path),\n",
    "                     parameters=params,\n",
    "                     engine_name=None,\n",
    "                     prepare_only=False,\n",
    "                     kernel_name=None,\n",
    "                     progress_bar=True,\n",
    "                     log_output=False,\n",
    "                     start_timeout=60,\n",
    "                     report_mode=False,\n",
    "                     cwd=str(output_dir))"
   ]
  },
  {
   "cell_type": "code",
   "execution_count": null,
   "metadata": {},
   "outputs": [],
   "source": []
  }
 ],
 "metadata": {
  "hide_input": false,
  "kernelspec": {
   "display_name": "Python 3",
   "language": "python",
   "name": "python3"
  },
  "language_info": {
   "codemirror_mode": {
    "name": "ipython",
    "version": 3
   },
   "file_extension": ".py",
   "mimetype": "text/x-python",
   "name": "python",
   "nbconvert_exporter": "python",
   "pygments_lexer": "ipython3",
   "version": "3.7.3"
  },
  "toc": {
   "base_numbering": 1,
   "nav_menu": {},
   "number_sections": true,
   "sideBar": true,
   "skip_h1_title": true,
   "title_cell": "Table of Contents",
   "title_sidebar": "Contents",
   "toc_cell": false,
   "toc_position": {},
   "toc_section_display": true,
   "toc_window_display": true
  }
 },
 "nbformat": 4,
 "nbformat_minor": 2
}
