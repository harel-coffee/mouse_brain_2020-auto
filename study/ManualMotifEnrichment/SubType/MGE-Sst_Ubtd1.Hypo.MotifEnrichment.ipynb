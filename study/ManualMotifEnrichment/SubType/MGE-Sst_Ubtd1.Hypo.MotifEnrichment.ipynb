{
 "cells": [
  {
   "cell_type": "code",
   "execution_count": 1,
   "metadata": {
    "ExecuteTime": {
     "end_time": "2019-12-16T02:22:42.147274Z",
     "start_time": "2019-12-16T02:22:41.449971Z"
    },
    "papermill": {
     "duration": 0.741616,
     "end_time": "2019-12-16T04:51:15.622647",
     "exception": false,
     "start_time": "2019-12-16T04:51:14.881031",
     "status": "completed"
    },
    "tags": []
   },
   "outputs": [],
   "source": [
    "from concurrent.futures import ProcessPoolExecutor, as_completed\n",
    "\n",
    "import anndata\n",
    "import matplotlib.pyplot as plt\n",
    "import numpy as np\n",
    "import pandas as pd\n",
    "import pybedtools\n",
    "import scipy.stats as stats\n",
    "import seaborn as sns\n",
    "from statsmodels.stats.multitest import multipletests\n",
    "\n",
    "pybedtools.cleanup(remove_all=True)"
   ]
  },
  {
   "cell_type": "code",
   "execution_count": 2,
   "metadata": {
    "ExecuteTime": {
     "end_time": "2019-12-16T02:22:42.565303Z",
     "start_time": "2019-12-16T02:22:42.563142Z"
    },
    "papermill": {
     "duration": 0.013957,
     "end_time": "2019-12-16T04:51:15.645777",
     "exception": false,
     "start_time": "2019-12-16T04:51:15.631820",
     "status": "completed"
    },
    "tags": [
     "parameters"
    ]
   },
   "outputs": [],
   "source": [
    "cluster_type = 'SubType'\n",
    "cluster = 'PT-L5_Unc5b'\n",
    "dmr_type = 'Hyper'\n",
    "\n",
    "or_cutoff = 1.3\n",
    "neg_lgp_cutoff = 10"
   ]
  },
  {
   "cell_type": "code",
   "execution_count": 3,
   "metadata": {
    "papermill": {
     "duration": 0.012751,
     "end_time": "2019-12-16T04:51:15.666411",
     "exception": false,
     "start_time": "2019-12-16T04:51:15.653660",
     "status": "completed"
    },
    "tags": [
     "injected-parameters"
    ]
   },
   "outputs": [],
   "source": [
    "# Parameters\n",
    "cluster_col = \"SubType\"\n",
    "cluster = \"MGE-Sst_Ubtd1\"\n",
    "dmr_type = \"Hypo\"\n"
   ]
  },
  {
   "cell_type": "markdown",
   "metadata": {
    "papermill": {
     "duration": 0.007597,
     "end_time": "2019-12-16T04:51:15.681555",
     "exception": false,
     "start_time": "2019-12-16T04:51:15.673958",
     "status": "completed"
    },
    "tags": []
   },
   "source": [
    "## DMR hits"
   ]
  },
  {
   "cell_type": "code",
   "execution_count": 4,
   "metadata": {
    "ExecuteTime": {
     "end_time": "2019-12-16T02:22:57.068064Z",
     "start_time": "2019-12-16T02:22:43.352216Z"
    },
    "papermill": {
     "duration": 14.016203,
     "end_time": "2019-12-16T04:51:29.705247",
     "exception": false,
     "start_time": "2019-12-16T04:51:15.689044",
     "status": "completed"
    },
    "tags": []
   },
   "outputs": [],
   "source": [
    "dmr_annot = anndata.read_h5ad(\n",
    "    '/home/hanliu/project/mouse_rostral_brain/DMR/SubDMRAnnotation/DMRAnnotation.h5ad'\n",
    ")"
   ]
  },
  {
   "cell_type": "code",
   "execution_count": 5,
   "metadata": {
    "papermill": {
     "duration": 0.085786,
     "end_time": "2019-12-16T04:51:29.800822",
     "exception": false,
     "start_time": "2019-12-16T04:51:29.715036",
     "status": "completed"
    },
    "tags": []
   },
   "outputs": [],
   "source": [
    "dmr_bed_df = pd.read_csv(\n",
    "    f'/home/hanliu/project/mouse_rostral_brain/DMR/SubType/{dmr_type}Bed/{cluster}.{dmr_type}DMR.DMS2.bed',\n",
    "    header=None,\n",
    "    sep='\\t',\n",
    "    index_col=-1,\n",
    "    names=['chrom', 'start', 'end', 'SubDMR'])"
   ]
  },
  {
   "cell_type": "code",
   "execution_count": 6,
   "metadata": {
    "papermill": {
     "duration": 0.189641,
     "end_time": "2019-12-16T04:51:29.998488",
     "exception": false,
     "start_time": "2019-12-16T04:51:29.808847",
     "status": "completed"
    },
    "tags": []
   },
   "outputs": [
    {
     "data": {
      "text/plain": [
       "View of AnnData object with n_obs × n_vars = 99328 × 856 \n",
       "    var: 'FeatureType'"
      ]
     },
     "execution_count": 6,
     "metadata": {},
     "output_type": "execute_result"
    }
   ],
   "source": [
    "dmr_annot = dmr_annot[dmr_bed_df.index, :]\n",
    "motif_ids = dmr_annot.var_names[dmr_annot.var['FeatureType'] == 'MotifHits']\n",
    "dmr_annot"
   ]
  },
  {
   "cell_type": "markdown",
   "metadata": {
    "papermill": {
     "duration": 0.008351,
     "end_time": "2019-12-16T04:51:30.016356",
     "exception": false,
     "start_time": "2019-12-16T04:51:30.008005",
     "status": "completed"
    },
    "tags": []
   },
   "source": [
    "## Background Hits"
   ]
  },
  {
   "cell_type": "code",
   "execution_count": 7,
   "metadata": {
    "papermill": {
     "duration": 1.159567,
     "end_time": "2019-12-16T04:51:31.184165",
     "exception": false,
     "start_time": "2019-12-16T04:51:30.024598",
     "status": "completed"
    },
    "tags": []
   },
   "outputs": [],
   "source": [
    "background_motif_hits = anndata.read_h5ad(\n",
    "    '/home/hanliu/project/mouse_rostral_brain/DMR/MotifScan/BackgroundAdultTissueDMR.MotifHits.with_region_bed.h5ad'\n",
    ")"
   ]
  },
  {
   "cell_type": "code",
   "execution_count": 8,
   "metadata": {
    "papermill": {
     "duration": 1.123407,
     "end_time": "2019-12-16T04:51:32.317212",
     "exception": false,
     "start_time": "2019-12-16T04:51:31.193805",
     "status": "completed"
    },
    "tags": []
   },
   "outputs": [],
   "source": [
    "dmr_bed = pybedtools.BedTool().from_dataframe(dmr_bed_df)\n",
    "bg_bed = pybedtools.BedTool().from_dataframe(\n",
    "    background_motif_hits.obs.reset_index().iloc[:, [1, 2, 3, 0]])"
   ]
  },
  {
   "cell_type": "code",
   "execution_count": 9,
   "metadata": {
    "papermill": {
     "duration": 1.516509,
     "end_time": "2019-12-16T04:51:33.842864",
     "exception": false,
     "start_time": "2019-12-16T04:51:32.326355",
     "status": "completed"
    },
    "tags": []
   },
   "outputs": [
    {
     "data": {
      "text/plain": [
       "View of AnnData object with n_obs × n_vars = 326364 × 719 \n",
       "    obs: 'chrom', 'start', 'end'"
      ]
     },
     "execution_count": 9,
     "metadata": {},
     "output_type": "execute_result"
    }
   ],
   "source": [
    "# exclude background that overlap with DMR\n",
    "bg_no_overlap = bg_bed.intersect(dmr_bed, v=True)\n",
    "use_bg = bg_no_overlap.to_dataframe().iloc[:, -1].values\n",
    "background_motif_hits = background_motif_hits[use_bg, :]\n",
    "\n",
    "# make sure col in same order\n",
    "background_motif_hits = background_motif_hits[:, motif_ids]\n",
    "background_motif_hits"
   ]
  },
  {
   "cell_type": "markdown",
   "metadata": {
    "papermill": {
     "duration": 0.008376,
     "end_time": "2019-12-16T04:51:33.860361",
     "exception": false,
     "start_time": "2019-12-16T04:51:33.851985",
     "status": "completed"
    },
    "tags": []
   },
   "source": [
    "## Motif hits contingency table"
   ]
  },
  {
   "cell_type": "code",
   "execution_count": 10,
   "metadata": {
    "papermill": {
     "duration": 1.217412,
     "end_time": "2019-12-16T04:51:35.086262",
     "exception": false,
     "start_time": "2019-12-16T04:51:33.868850",
     "status": "completed"
    },
    "tags": []
   },
   "outputs": [],
   "source": [
    "# calculate motif occurence, not considering hits here\n",
    "pos = (dmr_annot[:, motif_ids].X > 0).sum(axis=0)\n",
    "pos_total = dmr_annot.shape[0]\n",
    "\n",
    "neg = (background_motif_hits.X > 0).sum(axis=0)\n",
    "neg_total = background_motif_hits.shape[0]"
   ]
  },
  {
   "cell_type": "code",
   "execution_count": 11,
   "metadata": {
    "papermill": {
     "duration": 0.025104,
     "end_time": "2019-12-16T04:51:35.121267",
     "exception": false,
     "start_time": "2019-12-16T04:51:35.096163",
     "status": "completed"
    },
    "scrolled": true,
    "tags": []
   },
   "outputs": [],
   "source": [
    "tables = {}\n",
    "for motif, _pos, _neg in zip(motif_ids, pos.A1, neg.A1):\n",
    "    table = [[_pos, pos_total - _pos], [_neg, neg_total - _neg]]\n",
    "    tables[motif] = table"
   ]
  },
  {
   "cell_type": "code",
   "execution_count": 12,
   "metadata": {
    "papermill": {
     "duration": 4.531531,
     "end_time": "2019-12-16T04:51:39.660844",
     "exception": false,
     "start_time": "2019-12-16T04:51:35.129313",
     "status": "completed"
    },
    "tags": []
   },
   "outputs": [
    {
     "name": "stderr",
     "output_type": "stream",
     "text": [
      "/home/hanliu/miniconda3/envs/clustering/lib/python3.7/site-packages/pandas/core/series.py:853: RuntimeWarning: divide by zero encountered in log10\n",
      "  result = getattr(ufunc, method)(*inputs, **kwargs)\n"
     ]
    }
   ],
   "source": [
    "results = {}\n",
    "with ProcessPoolExecutor(40) as executor:\n",
    "    fs = {}\n",
    "    for motif, t in tables.items():\n",
    "        f = executor.submit(stats.fisher_exact, t, alternative='greater')\n",
    "        fs[f] = motif\n",
    "\n",
    "    for f in as_completed(fs):\n",
    "        motif = fs[f]\n",
    "        odds, p = f.result()\n",
    "        results[motif] = {'oddsratio': odds, 'p_value': p}\n",
    "motif_enrich_df = pd.DataFrame(results).T\n",
    "\n",
    "_, p, _, _ = multipletests(motif_enrich_df['p_value'], method='fdr_bh')\n",
    "motif_enrich_df['adj_p'] = p\n",
    "\n",
    "motif_enrich_df['-lgp'] = -np.log10(motif_enrich_df['adj_p']).replace(\n",
    "    -np.inf, -300)\n",
    "\n",
    "records = {}\n",
    "for motif, t in tables.items():\n",
    "    tp, tn = t[0]\n",
    "    fp, fn = t[1]\n",
    "    tp_rate = tp / pos_total\n",
    "    fp_rate = fp / neg_total\n",
    "    records[motif] = dict(tp=tp,\n",
    "                          tn=tn,\n",
    "                          fp=fp,\n",
    "                          fn=fn,\n",
    "                          tp_rate=tp_rate,\n",
    "                          fp_rate=fp_rate)\n",
    "counts = pd.DataFrame(records).T\n",
    "motif_enrich_df = pd.concat([motif_enrich_df, counts], axis=1, sort=True)"
   ]
  },
  {
   "cell_type": "code",
   "execution_count": 13,
   "metadata": {
    "papermill": {
     "duration": 0.01515,
     "end_time": "2019-12-16T04:51:39.685690",
     "exception": false,
     "start_time": "2019-12-16T04:51:39.670540",
     "status": "completed"
    },
    "tags": []
   },
   "outputs": [],
   "source": [
    "motif_enrich_df[cluster_type] = cluster\n",
    "motif_enrich_df['DMRType'] = dmr_type"
   ]
  },
  {
   "cell_type": "code",
   "execution_count": 14,
   "metadata": {
    "papermill": {
     "duration": 0.017621,
     "end_time": "2019-12-16T04:51:39.711510",
     "exception": false,
     "start_time": "2019-12-16T04:51:39.693889",
     "status": "completed"
    },
    "tags": []
   },
   "outputs": [
    {
     "data": {
      "text/plain": [
       "103"
      ]
     },
     "execution_count": 14,
     "metadata": {},
     "output_type": "execute_result"
    }
   ],
   "source": [
    "# final filter\n",
    "filtered_motif_df = motif_enrich_df[(motif_enrich_df['oddsratio'] > or_cutoff)\n",
    "                                    &\n",
    "                                    (motif_enrich_df['-lgp'] > neg_lgp_cutoff)]\n",
    "filtered_motif_df.shape[0]"
   ]
  },
  {
   "cell_type": "code",
   "execution_count": 15,
   "metadata": {
    "papermill": {
     "duration": 0.015671,
     "end_time": "2019-12-16T04:51:39.735919",
     "exception": false,
     "start_time": "2019-12-16T04:51:39.720248",
     "status": "completed"
    },
    "tags": []
   },
   "outputs": [
    {
     "name": "stderr",
     "output_type": "stream",
     "text": [
      "/home/hanliu/miniconda3/envs/clustering/lib/python3.7/site-packages/ipykernel_launcher.py:1: FutureWarning: to_msgpack is deprecated and will be removed in a future version.\n",
      "It is recommended to use pyarrow for on-the-wire transmission of pandas objects.\n",
      "  \"\"\"Entry point for launching an IPython kernel.\n"
     ]
    }
   ],
   "source": [
    "motif_enrich_df.to_msgpack(f'{cluster}.{dmr_type}.motif_enrichment.msg')"
   ]
  },
  {
   "cell_type": "code",
   "execution_count": null,
   "metadata": {
    "papermill": {
     "duration": 0.008554,
     "end_time": "2019-12-16T04:51:39.753098",
     "exception": false,
     "start_time": "2019-12-16T04:51:39.744544",
     "status": "completed"
    },
    "tags": []
   },
   "outputs": [],
   "source": []
  },
  {
   "cell_type": "code",
   "execution_count": null,
   "metadata": {
    "papermill": {
     "duration": 0.008895,
     "end_time": "2019-12-16T04:51:39.770727",
     "exception": false,
     "start_time": "2019-12-16T04:51:39.761832",
     "status": "completed"
    },
    "tags": []
   },
   "outputs": [],
   "source": []
  },
  {
   "cell_type": "code",
   "execution_count": null,
   "metadata": {
    "papermill": {
     "duration": 0.008613,
     "end_time": "2019-12-16T04:51:39.789142",
     "exception": false,
     "start_time": "2019-12-16T04:51:39.780529",
     "status": "completed"
    },
    "tags": []
   },
   "outputs": [],
   "source": []
  }
 ],
 "metadata": {
  "hide_input": false,
  "kernelspec": {
   "display_name": "Python 3",
   "language": "python",
   "name": "python3"
  },
  "language_info": {
   "codemirror_mode": {
    "name": "ipython",
    "version": 3
   },
   "file_extension": ".py",
   "mimetype": "text/x-python",
   "name": "python",
   "nbconvert_exporter": "python",
   "pygments_lexer": "ipython3",
   "version": "3.7.3"
  },
  "papermill": {
   "duration": 27.023388,
   "end_time": "2019-12-16T04:51:41.008227",
   "environment_variables": {},
   "exception": null,
   "input_path": "MotifEnrichment.ipynb",
   "output_path": "SubType/MGE-Sst_Ubtd1.Hypo.MotifEnrichment.ipynb",
   "parameters": {
    "cluster": "MGE-Sst_Ubtd1",
    "cluster_col": "SubType",
    "dmr_type": "Hypo"
   },
   "start_time": "2019-12-16T04:51:13.984839",
   "version": "1.0.1"
  },
  "toc": {
   "base_numbering": 1,
   "nav_menu": {},
   "number_sections": true,
   "sideBar": true,
   "skip_h1_title": true,
   "title_cell": "Table of Contents",
   "title_sidebar": "Contents",
   "toc_cell": false,
   "toc_position": {},
   "toc_section_display": true,
   "toc_window_display": true
  }
 },
 "nbformat": 4,
 "nbformat_minor": 2
}