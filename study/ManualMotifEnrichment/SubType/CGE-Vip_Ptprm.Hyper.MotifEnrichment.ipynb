{
 "cells": [
  {
   "cell_type": "code",
   "execution_count": 1,
   "metadata": {
    "ExecuteTime": {
     "end_time": "2019-12-16T02:22:42.147274Z",
     "start_time": "2019-12-16T02:22:41.449971Z"
    },
    "papermill": {
     "duration": 0.734354,
     "end_time": "2019-12-16T04:11:45.032343",
     "exception": false,
     "start_time": "2019-12-16T04:11:44.297989",
     "status": "completed"
    },
    "tags": []
   },
   "outputs": [],
   "source": [
    "from concurrent.futures import ProcessPoolExecutor, as_completed\n",
    "\n",
    "import anndata\n",
    "import matplotlib.pyplot as plt\n",
    "import numpy as np\n",
    "import pandas as pd\n",
    "import pybedtools\n",
    "import scipy.stats as stats\n",
    "import seaborn as sns\n",
    "from statsmodels.stats.multitest import multipletests\n",
    "\n",
    "pybedtools.cleanup(remove_all=True)"
   ]
  },
  {
   "cell_type": "code",
   "execution_count": 2,
   "metadata": {
    "ExecuteTime": {
     "end_time": "2019-12-16T02:22:42.565303Z",
     "start_time": "2019-12-16T02:22:42.563142Z"
    },
    "papermill": {
     "duration": 0.014612,
     "end_time": "2019-12-16T04:11:45.056706",
     "exception": false,
     "start_time": "2019-12-16T04:11:45.042094",
     "status": "completed"
    },
    "tags": [
     "parameters"
    ]
   },
   "outputs": [],
   "source": [
    "cluster_type = 'SubType'\n",
    "cluster = 'PT-L5_Unc5b'\n",
    "dmr_type = 'Hyper'\n",
    "\n",
    "or_cutoff = 1.3\n",
    "neg_lgp_cutoff = 10"
   ]
  },
  {
   "cell_type": "code",
   "execution_count": 3,
   "metadata": {
    "papermill": {
     "duration": 0.012868,
     "end_time": "2019-12-16T04:11:45.077711",
     "exception": false,
     "start_time": "2019-12-16T04:11:45.064843",
     "status": "completed"
    },
    "tags": [
     "injected-parameters"
    ]
   },
   "outputs": [],
   "source": [
    "# Parameters\n",
    "cluster_col = \"SubType\"\n",
    "cluster = \"CGE-Vip_Ptprm\"\n",
    "dmr_type = \"Hyper\"\n"
   ]
  },
  {
   "cell_type": "markdown",
   "metadata": {
    "papermill": {
     "duration": 0.007844,
     "end_time": "2019-12-16T04:11:45.093475",
     "exception": false,
     "start_time": "2019-12-16T04:11:45.085631",
     "status": "completed"
    },
    "tags": []
   },
   "source": [
    "## DMR hits"
   ]
  },
  {
   "cell_type": "code",
   "execution_count": 4,
   "metadata": {
    "ExecuteTime": {
     "end_time": "2019-12-16T02:22:57.068064Z",
     "start_time": "2019-12-16T02:22:43.352216Z"
    },
    "papermill": {
     "duration": 13.997711,
     "end_time": "2019-12-16T04:11:59.099210",
     "exception": false,
     "start_time": "2019-12-16T04:11:45.101499",
     "status": "completed"
    },
    "tags": []
   },
   "outputs": [],
   "source": [
    "dmr_annot = anndata.read_h5ad(\n",
    "    '/home/hanliu/project/mouse_rostral_brain/DMR/SubDMRAnnotation/DMRAnnotation.h5ad'\n",
    ")"
   ]
  },
  {
   "cell_type": "code",
   "execution_count": 5,
   "metadata": {
    "papermill": {
     "duration": 0.273725,
     "end_time": "2019-12-16T04:11:59.382535",
     "exception": false,
     "start_time": "2019-12-16T04:11:59.108810",
     "status": "completed"
    },
    "tags": []
   },
   "outputs": [],
   "source": [
    "dmr_bed_df = pd.read_csv(\n",
    "    f'/home/hanliu/project/mouse_rostral_brain/DMR/SubType/{dmr_type}Bed/{cluster}.{dmr_type}DMR.DMS2.bed',\n",
    "    header=None,\n",
    "    sep='\\t',\n",
    "    index_col=-1,\n",
    "    names=['chrom', 'start', 'end', 'SubDMR'])"
   ]
  },
  {
   "cell_type": "code",
   "execution_count": 6,
   "metadata": {
    "papermill": {
     "duration": 0.455579,
     "end_time": "2019-12-16T04:11:59.847303",
     "exception": false,
     "start_time": "2019-12-16T04:11:59.391724",
     "status": "completed"
    },
    "tags": []
   },
   "outputs": [
    {
     "data": {
      "text/plain": [
       "View of AnnData object with n_obs × n_vars = 350275 × 856 \n",
       "    var: 'FeatureType'"
      ]
     },
     "execution_count": 6,
     "metadata": {},
     "output_type": "execute_result"
    }
   ],
   "source": [
    "dmr_annot = dmr_annot[dmr_bed_df.index, :]\n",
    "motif_ids = dmr_annot.var_names[dmr_annot.var['FeatureType'] == 'MotifHits']\n",
    "dmr_annot"
   ]
  },
  {
   "cell_type": "markdown",
   "metadata": {
    "papermill": {
     "duration": 0.0086,
     "end_time": "2019-12-16T04:11:59.865129",
     "exception": false,
     "start_time": "2019-12-16T04:11:59.856529",
     "status": "completed"
    },
    "tags": []
   },
   "source": [
    "## Background Hits"
   ]
  },
  {
   "cell_type": "code",
   "execution_count": 7,
   "metadata": {
    "papermill": {
     "duration": 1.18428,
     "end_time": "2019-12-16T04:12:01.057572",
     "exception": false,
     "start_time": "2019-12-16T04:11:59.873292",
     "status": "completed"
    },
    "tags": []
   },
   "outputs": [],
   "source": [
    "background_motif_hits = anndata.read_h5ad(\n",
    "    '/home/hanliu/project/mouse_rostral_brain/DMR/MotifScan/BackgroundAdultTissueDMR.MotifHits.with_region_bed.h5ad'\n",
    ")"
   ]
  },
  {
   "cell_type": "code",
   "execution_count": 8,
   "metadata": {
    "papermill": {
     "duration": 1.672724,
     "end_time": "2019-12-16T04:12:02.739982",
     "exception": false,
     "start_time": "2019-12-16T04:12:01.067258",
     "status": "completed"
    },
    "tags": []
   },
   "outputs": [],
   "source": [
    "dmr_bed = pybedtools.BedTool().from_dataframe(dmr_bed_df)\n",
    "bg_bed = pybedtools.BedTool().from_dataframe(\n",
    "    background_motif_hits.obs.reset_index().iloc[:, [1, 2, 3, 0]])"
   ]
  },
  {
   "cell_type": "code",
   "execution_count": 9,
   "metadata": {
    "papermill": {
     "duration": 1.640331,
     "end_time": "2019-12-16T04:12:04.389593",
     "exception": false,
     "start_time": "2019-12-16T04:12:02.749262",
     "status": "completed"
    },
    "tags": []
   },
   "outputs": [
    {
     "data": {
      "text/plain": [
       "View of AnnData object with n_obs × n_vars = 273579 × 719 \n",
       "    obs: 'chrom', 'start', 'end'"
      ]
     },
     "execution_count": 9,
     "metadata": {},
     "output_type": "execute_result"
    }
   ],
   "source": [
    "# exclude background that overlap with DMR\n",
    "bg_no_overlap = bg_bed.intersect(dmr_bed, v=True)\n",
    "use_bg = bg_no_overlap.to_dataframe().iloc[:, -1].values\n",
    "background_motif_hits = background_motif_hits[use_bg, :]\n",
    "\n",
    "# make sure col in same order\n",
    "background_motif_hits = background_motif_hits[:, motif_ids]\n",
    "background_motif_hits"
   ]
  },
  {
   "cell_type": "markdown",
   "metadata": {
    "papermill": {
     "duration": 0.008406,
     "end_time": "2019-12-16T04:12:04.407818",
     "exception": false,
     "start_time": "2019-12-16T04:12:04.399412",
     "status": "completed"
    },
    "tags": []
   },
   "source": [
    "## Motif hits contingency table"
   ]
  },
  {
   "cell_type": "code",
   "execution_count": 10,
   "metadata": {
    "papermill": {
     "duration": 1.422091,
     "end_time": "2019-12-16T04:12:05.838447",
     "exception": false,
     "start_time": "2019-12-16T04:12:04.416356",
     "status": "completed"
    },
    "tags": []
   },
   "outputs": [],
   "source": [
    "# calculate motif occurence, not considering hits here\n",
    "pos = (dmr_annot[:, motif_ids].X > 0).sum(axis=0)\n",
    "pos_total = dmr_annot.shape[0]\n",
    "\n",
    "neg = (background_motif_hits.X > 0).sum(axis=0)\n",
    "neg_total = background_motif_hits.shape[0]"
   ]
  },
  {
   "cell_type": "code",
   "execution_count": 11,
   "metadata": {
    "papermill": {
     "duration": 0.038,
     "end_time": "2019-12-16T04:12:05.885974",
     "exception": false,
     "start_time": "2019-12-16T04:12:05.847974",
     "status": "completed"
    },
    "scrolled": true,
    "tags": []
   },
   "outputs": [],
   "source": [
    "tables = {}\n",
    "for motif, _pos, _neg in zip(motif_ids, pos.A1, neg.A1):\n",
    "    table = [[_pos, pos_total - _pos], [_neg, neg_total - _neg]]\n",
    "    tables[motif] = table"
   ]
  },
  {
   "cell_type": "code",
   "execution_count": 12,
   "metadata": {
    "papermill": {
     "duration": 3.695881,
     "end_time": "2019-12-16T04:12:09.589918",
     "exception": false,
     "start_time": "2019-12-16T04:12:05.894037",
     "status": "completed"
    },
    "tags": []
   },
   "outputs": [
    {
     "name": "stderr",
     "output_type": "stream",
     "text": [
      "/home/hanliu/miniconda3/envs/clustering/lib/python3.7/site-packages/pandas/core/series.py:853: RuntimeWarning: divide by zero encountered in log10\n",
      "  result = getattr(ufunc, method)(*inputs, **kwargs)\n"
     ]
    }
   ],
   "source": [
    "results = {}\n",
    "with ProcessPoolExecutor(40) as executor:\n",
    "    fs = {}\n",
    "    for motif, t in tables.items():\n",
    "        f = executor.submit(stats.fisher_exact, t, alternative='greater')\n",
    "        fs[f] = motif\n",
    "\n",
    "    for f in as_completed(fs):\n",
    "        motif = fs[f]\n",
    "        odds, p = f.result()\n",
    "        results[motif] = {'oddsratio': odds, 'p_value': p}\n",
    "motif_enrich_df = pd.DataFrame(results).T\n",
    "\n",
    "_, p, _, _ = multipletests(motif_enrich_df['p_value'], method='fdr_bh')\n",
    "motif_enrich_df['adj_p'] = p\n",
    "\n",
    "motif_enrich_df['-lgp'] = -np.log10(motif_enrich_df['adj_p']).replace(\n",
    "    -np.inf, -300)\n",
    "\n",
    "records = {}\n",
    "for motif, t in tables.items():\n",
    "    tp, tn = t[0]\n",
    "    fp, fn = t[1]\n",
    "    tp_rate = tp / pos_total\n",
    "    fp_rate = fp / neg_total\n",
    "    records[motif] = dict(tp=tp,\n",
    "                          tn=tn,\n",
    "                          fp=fp,\n",
    "                          fn=fn,\n",
    "                          tp_rate=tp_rate,\n",
    "                          fp_rate=fp_rate)\n",
    "counts = pd.DataFrame(records).T\n",
    "motif_enrich_df = pd.concat([motif_enrich_df, counts], axis=1, sort=True)"
   ]
  },
  {
   "cell_type": "code",
   "execution_count": 13,
   "metadata": {
    "papermill": {
     "duration": 0.01568,
     "end_time": "2019-12-16T04:12:09.615815",
     "exception": false,
     "start_time": "2019-12-16T04:12:09.600135",
     "status": "completed"
    },
    "tags": []
   },
   "outputs": [],
   "source": [
    "motif_enrich_df[cluster_type] = cluster\n",
    "motif_enrich_df['DMRType'] = dmr_type"
   ]
  },
  {
   "cell_type": "code",
   "execution_count": 14,
   "metadata": {
    "papermill": {
     "duration": 0.017805,
     "end_time": "2019-12-16T04:12:09.642292",
     "exception": false,
     "start_time": "2019-12-16T04:12:09.624487",
     "status": "completed"
    },
    "tags": []
   },
   "outputs": [
    {
     "data": {
      "text/plain": [
       "57"
      ]
     },
     "execution_count": 14,
     "metadata": {},
     "output_type": "execute_result"
    }
   ],
   "source": [
    "# final filter\n",
    "filtered_motif_df = motif_enrich_df[(motif_enrich_df['oddsratio'] > or_cutoff)\n",
    "                                    &\n",
    "                                    (motif_enrich_df['-lgp'] > neg_lgp_cutoff)]\n",
    "filtered_motif_df.shape[0]"
   ]
  },
  {
   "cell_type": "code",
   "execution_count": 15,
   "metadata": {
    "papermill": {
     "duration": 0.015521,
     "end_time": "2019-12-16T04:12:09.666848",
     "exception": false,
     "start_time": "2019-12-16T04:12:09.651327",
     "status": "completed"
    },
    "tags": []
   },
   "outputs": [
    {
     "name": "stderr",
     "output_type": "stream",
     "text": [
      "/home/hanliu/miniconda3/envs/clustering/lib/python3.7/site-packages/ipykernel_launcher.py:1: FutureWarning: to_msgpack is deprecated and will be removed in a future version.\n",
      "It is recommended to use pyarrow for on-the-wire transmission of pandas objects.\n",
      "  \"\"\"Entry point for launching an IPython kernel.\n"
     ]
    }
   ],
   "source": [
    "motif_enrich_df.to_msgpack(f'{cluster}.{dmr_type}.motif_enrichment.msg')"
   ]
  },
  {
   "cell_type": "code",
   "execution_count": null,
   "metadata": {
    "papermill": {
     "duration": 0.00873,
     "end_time": "2019-12-16T04:12:09.684477",
     "exception": false,
     "start_time": "2019-12-16T04:12:09.675747",
     "status": "completed"
    },
    "tags": []
   },
   "outputs": [],
   "source": []
  },
  {
   "cell_type": "code",
   "execution_count": null,
   "metadata": {
    "papermill": {
     "duration": 0.008841,
     "end_time": "2019-12-16T04:12:09.702044",
     "exception": false,
     "start_time": "2019-12-16T04:12:09.693203",
     "status": "completed"
    },
    "tags": []
   },
   "outputs": [],
   "source": []
  },
  {
   "cell_type": "code",
   "execution_count": null,
   "metadata": {
    "papermill": {
     "duration": 0.009269,
     "end_time": "2019-12-16T04:12:09.721197",
     "exception": false,
     "start_time": "2019-12-16T04:12:09.711928",
     "status": "completed"
    },
    "tags": []
   },
   "outputs": [],
   "source": []
  }
 ],
 "metadata": {
  "hide_input": false,
  "kernelspec": {
   "display_name": "Python 3",
   "language": "python",
   "name": "python3"
  },
  "language_info": {
   "codemirror_mode": {
    "name": "ipython",
    "version": 3
   },
   "file_extension": ".py",
   "mimetype": "text/x-python",
   "name": "python",
   "nbconvert_exporter": "python",
   "pygments_lexer": "ipython3",
   "version": "3.7.3"
  },
  "papermill": {
   "duration": 27.353104,
   "end_time": "2019-12-16T04:12:10.739815",
   "environment_variables": {},
   "exception": null,
   "input_path": "MotifEnrichment.ipynb",
   "output_path": "SubType/CGE-Vip_Ptprm.Hyper.MotifEnrichment.ipynb",
   "parameters": {
    "cluster": "CGE-Vip_Ptprm",
    "cluster_col": "SubType",
    "dmr_type": "Hyper"
   },
   "start_time": "2019-12-16T04:11:43.386711",
   "version": "1.0.1"
  },
  "toc": {
   "base_numbering": 1,
   "nav_menu": {},
   "number_sections": true,
   "sideBar": true,
   "skip_h1_title": true,
   "title_cell": "Table of Contents",
   "title_sidebar": "Contents",
   "toc_cell": false,
   "toc_position": {},
   "toc_section_display": true,
   "toc_window_display": true
  }
 },
 "nbformat": 4,
 "nbformat_minor": 2
}