{
 "cells": [
  {
   "cell_type": "code",
   "execution_count": 1,
   "metadata": {
    "ExecuteTime": {
     "end_time": "2019-12-16T08:26:14.849063Z",
     "start_time": "2019-12-16T08:26:14.149692Z"
    }
   },
   "outputs": [],
   "source": [
    "from papermill import execute_notebook\n",
    "import pandas as pd\n",
    "import pathlib\n",
    "import anndata"
   ]
  },
  {
   "cell_type": "code",
   "execution_count": 2,
   "metadata": {
    "ExecuteTime": {
     "end_time": "2019-12-16T08:26:15.979042Z",
     "start_time": "2019-12-16T08:26:15.462670Z"
    }
   },
   "outputs": [
    {
     "name": "stderr",
     "output_type": "stream",
     "text": [
      "/home/hanliu/miniconda3/envs/clustering/lib/python3.7/site-packages/IPython/core/interactiveshell.py:3326: FutureWarning: The read_msgpack is deprecated and will be removed in a future version.\n",
      "It is recommended to use pyarrow for on-the-wire transmission of pandas objects.\n",
      "  exec(code_obj, self.user_global_ns, self.user_ns)\n"
     ]
    }
   ],
   "source": [
    "cell_tidy_data = pd.read_msgpack(\n",
    "    '/home/hanliu/project/mouse_rostral_brain/study/ClusteringSummary/Summary/TotalClusteringResults.msg'\n",
    ")"
   ]
  },
  {
   "cell_type": "code",
   "execution_count": 3,
   "metadata": {
    "ExecuteTime": {
     "end_time": "2019-12-16T08:26:17.309368Z",
     "start_time": "2019-12-16T08:26:17.301054Z"
    }
   },
   "outputs": [],
   "source": [
    "cluster_col = 'SubType'\n",
    "clusters = [i.replace(' ', '_') \n",
    "            for i in cell_tidy_data[cluster_col].unique() \n",
    "            if 'Outlier' not in i]\n",
    "dmr_types = ['Hyper', 'Hypo']"
   ]
  },
  {
   "cell_type": "code",
   "execution_count": null,
   "metadata": {},
   "outputs": [],
   "source": []
  },
  {
   "cell_type": "code",
   "execution_count": 8,
   "metadata": {
    "ExecuteTime": {
     "end_time": "2019-12-16T08:30:37.999939Z",
     "start_time": "2019-12-16T08:30:37.983206Z"
    },
    "scrolled": true
   },
   "outputs": [],
   "source": [
    "output_dir = pathlib.Path('OpenDMR').absolute()\n",
    "output_dir.mkdir(exist_ok=True, parents=True)\n",
    "\n",
    "\n",
    "input_path = 'MotifEnrichment-UseATACOverlap.ipynb'\n",
    "output_path = output_dir / f'MotifEnrichment-UseATACOverlap.ipynb'\n",
    "params = dict(cluster_col=cluster_col,\n",
    "              clusters=clusters,\n",
    "              dmr_types=dmr_types,\n",
    "              use_cols=None)\n",
    "execute_notebook(str(input_path),\n",
    "                 str(output_path),\n",
    "                 parameters=params,\n",
    "                 engine_name=None,\n",
    "                 prepare_only=True,\n",
    "                 kernel_name=None,\n",
    "                 progress_bar=True,\n",
    "                 log_output=False,\n",
    "                 start_timeout=60,\n",
    "                 report_mode=False,\n",
    "                 cwd=str(output_dir))\n",
    "\n",
    "pass"
   ]
  },
  {
   "cell_type": "code",
   "execution_count": null,
   "metadata": {},
   "outputs": [],
   "source": []
  }
 ],
 "metadata": {
  "hide_input": false,
  "kernelspec": {
   "display_name": "Python 3",
   "language": "python",
   "name": "python3"
  },
  "language_info": {
   "codemirror_mode": {
    "name": "ipython",
    "version": 3
   },
   "file_extension": ".py",
   "mimetype": "text/x-python",
   "name": "python",
   "nbconvert_exporter": "python",
   "pygments_lexer": "ipython3",
   "version": "3.7.3"
  },
  "toc": {
   "base_numbering": 1,
   "nav_menu": {},
   "number_sections": true,
   "sideBar": true,
   "skip_h1_title": true,
   "title_cell": "Table of Contents",
   "title_sidebar": "Contents",
   "toc_cell": false,
   "toc_position": {},
   "toc_section_display": true,
   "toc_window_display": true
  }
 },
 "nbformat": 4,
 "nbformat_minor": 2
}
