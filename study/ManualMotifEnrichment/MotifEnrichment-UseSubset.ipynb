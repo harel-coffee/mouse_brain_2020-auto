{
 "cells": [
  {
   "cell_type": "code",
   "execution_count": 1,
   "metadata": {
    "ExecuteTime": {
     "end_time": "2019-12-16T06:35:00.760677Z",
     "start_time": "2019-12-16T06:34:58.205738Z"
    }
   },
   "outputs": [],
   "source": [
    "from concurrent.futures import ProcessPoolExecutor, as_completed\n",
    "\n",
    "import anndata\n",
    "import matplotlib.pyplot as plt\n",
    "import numpy as np\n",
    "import pandas as pd\n",
    "import pybedtools\n",
    "import scipy.stats as stats\n",
    "import seaborn as sns\n",
    "from statsmodels.stats.multitest import multipletests\n",
    "import pathlib\n",
    "import subprocess\n",
    "import warnings\n",
    "warnings.filterwarnings('ignore')\n",
    "pathlib.Path('bed_tmp').mkdir(exist_ok=True)\n",
    "pybedtools.set_tempdir('bed_tmp')"
   ]
  },
  {
   "cell_type": "code",
   "execution_count": 2,
   "metadata": {
    "ExecuteTime": {
     "end_time": "2019-12-16T06:35:00.765834Z",
     "start_time": "2019-12-16T06:35:00.762635Z"
    },
    "tags": [
     "parameters"
    ]
   },
   "outputs": [],
   "source": [
    "cluster_type = 'SubType'\n",
    "clusters = ['PT-L5_Unc5b']\n",
    "dmr_types = ['Hyper', 'Hypo']\n",
    "\n",
    "# DMR that overlap (1) with any of these feature cols will be included in analysis\n",
    "use_cols = [\n",
    "    'DNA.DNA', 'DNA.MULE-MuDR', 'DNA.MuDR', 'DNA.PiggyBac', 'DNA.TcMar',\n",
    "    'DNA.TcMar-Mariner', 'DNA.TcMar-Pogo', 'DNA.TcMar-Tc2', 'DNA.TcMar-Tigger',\n",
    "    'DNA.hAT', 'DNA.hAT-Blackjack', 'DNA.hAT-Charlie', 'DNA.hAT-Tip100'\n",
    "]\n",
    "reverse_cols = False\n",
    "\n",
    "or_cutoff = 1.3\n",
    "neg_lgp_cutoff = 10"
   ]
  },
  {
   "cell_type": "code",
   "execution_count": 3,
   "metadata": {
    "ExecuteTime": {
     "end_time": "2019-12-16T06:35:00.782099Z",
     "start_time": "2019-12-16T06:35:00.767262Z"
    }
   },
   "outputs": [],
   "source": [
    "def get_data_by_cluster(dmr_annot, total_background_motif_hits, bg_bed, \n",
    "                        dmr_type, cluster, use_cols=None):\n",
    "    dmr_bed_df = pd.read_csv(\n",
    "        f'/home/hanliu/project/mouse_rostral_brain/DMR/SubType/{dmr_type}Bed/{cluster}.{dmr_type}DMR.DMS2.bed',\n",
    "        header=None,\n",
    "        sep='\\t',\n",
    "        index_col=-1,\n",
    "        names=['chrom', 'start', 'end', 'SubDMR'])\n",
    "    dmr_bed = pybedtools.BedTool().from_dataframe(dmr_bed_df)\n",
    "\n",
    "    this_dmr_annot = dmr_annot[dmr_bed_df.index, :]\n",
    "    motif_ids = this_dmr_annot.var_names[this_dmr_annot.var['FeatureType'] ==\n",
    "                                    'MotifHits']\n",
    "\n",
    "    if use_cols is not None:\n",
    "        dmr_judge = (this_dmr_annot[:, use_cols].X.sum(axis=1) > 0).A1\n",
    "        if reverse_cols:\n",
    "            dmr_judge = ~dmr_judge\n",
    "        this_dmr_annot = this_dmr_annot[dmr_judge, :]\n",
    "        \n",
    "    # exclude background that overlap with DMR\n",
    "    bg_no_overlap = bg_bed.intersect(dmr_bed, v=True)\n",
    "    use_bg = bg_no_overlap.to_dataframe().iloc[:, -1].values\n",
    "    background_motif_hits = total_background_motif_hits[use_bg, :]\n",
    "\n",
    "    # make sure col in same order\n",
    "    background_motif_hits = background_motif_hits[:, motif_ids]\n",
    "    \n",
    "    return this_dmr_annot.copy(), background_motif_hits.copy()\n",
    "\n",
    "\n",
    "def motif_enrichment(dmr_annot, background_motif_hits, cluster, dmr_type):\n",
    "    \n",
    "    motif_ids = dmr_annot.var_names[dmr_annot.var['FeatureType'] == 'MotifHits']\n",
    "    # calculate motif occurence, not considering hits here\n",
    "    pos = (dmr_annot[:, motif_ids].X > 0).sum(axis=0)\n",
    "    pos_total = dmr_annot.shape[0]\n",
    "    \n",
    "    neg = (background_motif_hits.X > 0).sum(axis=0)\n",
    "    neg_total = background_motif_hits.shape[0]\n",
    "    \n",
    "    # prepare tables\n",
    "    tables = {}\n",
    "    for motif, _pos, _neg in zip(motif_ids, pos.A1, neg.A1):\n",
    "        table = [[_pos, pos_total - _pos], [_neg, neg_total - _neg]]\n",
    "        tables[motif] = table\n",
    "        \n",
    "    results = {}\n",
    "    with ProcessPoolExecutor(40) as executor:\n",
    "        fs = {}\n",
    "        for motif, t in tables.items():\n",
    "            f = executor.submit(stats.fisher_exact, t, alternative='greater')\n",
    "            fs[f] = motif\n",
    "    \n",
    "        for f in as_completed(fs):\n",
    "            motif = fs[f]\n",
    "            odds, p = f.result()\n",
    "            results[motif] = {'oddsratio': odds, 'p_value': p}\n",
    "    motif_enrich_df = pd.DataFrame(results).T\n",
    "    \n",
    "    _, p, _, _ = multipletests(motif_enrich_df['p_value'], method='fdr_bh')\n",
    "    motif_enrich_df['adj_p'] = p\n",
    "    \n",
    "    motif_enrich_df['-lgp'] = -np.log10(motif_enrich_df['adj_p']).replace(\n",
    "        -np.inf, -300)\n",
    "    \n",
    "    records = {}\n",
    "    for motif, t in tables.items():\n",
    "        tp, tn = t[0]\n",
    "        fp, fn = t[1]\n",
    "        tp_rate = tp / pos_total\n",
    "        fp_rate = fp / neg_total\n",
    "        records[motif] = dict(tp=tp,\n",
    "                              tn=tn,\n",
    "                              fp=fp,\n",
    "                              fn=fn,\n",
    "                              tp_rate=tp_rate,\n",
    "                              fp_rate=fp_rate)\n",
    "    counts = pd.DataFrame(records).T\n",
    "    motif_enrich_df = pd.concat([motif_enrich_df, counts], axis=1, sort=True)\n",
    "    \n",
    "    motif_enrich_df[cluster_type] = cluster\n",
    "    motif_enrich_df['DMRType'] = dmr_type\n",
    "    \n",
    "    # final filter\n",
    "    filtered_motif_df = motif_enrich_df[(motif_enrich_df['oddsratio'] > or_cutoff)\n",
    "                                        &\n",
    "                                        (motif_enrich_df['-lgp'] > neg_lgp_cutoff)]\n",
    "    print(filtered_motif_df.shape[0])\n",
    "    \n",
    "    motif_enrich_df.to_msgpack(f'{cluster}.{dmr_type}.motif_enrichment.msg')"
   ]
  },
  {
   "cell_type": "markdown",
   "metadata": {},
   "source": [
    "## DMR hits"
   ]
  },
  {
   "cell_type": "code",
   "execution_count": 4,
   "metadata": {
    "ExecuteTime": {
     "end_time": "2019-12-16T06:35:19.393357Z",
     "start_time": "2019-12-16T06:35:00.783402Z"
    }
   },
   "outputs": [],
   "source": [
    "total_dmr_annot = anndata.read_h5ad(\n",
    "    '/home/hanliu/project/mouse_rostral_brain/DMR/SubDMRAnnotation/DMRAnnotation.h5ad'\n",
    ")"
   ]
  },
  {
   "cell_type": "markdown",
   "metadata": {},
   "source": [
    "## Background Hits"
   ]
  },
  {
   "cell_type": "code",
   "execution_count": 5,
   "metadata": {
    "ExecuteTime": {
     "end_time": "2019-12-16T06:35:21.796128Z",
     "start_time": "2019-12-16T06:35:19.395468Z"
    }
   },
   "outputs": [],
   "source": [
    "total_background_motif_hits = anndata.read_h5ad(\n",
    "    '/home/hanliu/project/mouse_rostral_brain/DMR/MotifScan/BackgroundAdultTissueDMR.MotifHits.with_region_bed.h5ad'\n",
    ")\n",
    "bg_bed = pybedtools.BedTool().from_dataframe(\n",
    "    total_background_motif_hits.obs.reset_index().iloc[:, [1, 2, 3, 0]])"
   ]
  },
  {
   "cell_type": "markdown",
   "metadata": {},
   "source": [
    "## Get cluster data"
   ]
  },
  {
   "cell_type": "code",
   "execution_count": 6,
   "metadata": {
    "ExecuteTime": {
     "end_time": "2019-12-16T06:35:39.225815Z",
     "start_time": "2019-12-16T06:35:21.798144Z"
    }
   },
   "outputs": [
    {
     "name": "stdout",
     "output_type": "stream",
     "text": [
      "10\n",
      "85\n"
     ]
    }
   ],
   "source": [
    "dmr_type = dmr_types[0]\n",
    "cluster = clusters[0]\n",
    "\n",
    "for cluster in clusters:\n",
    "    for dmr_type in dmr_types:\n",
    "        print(cluster, dmr_type)\n",
    "        output_path = f'{cluster}.{dmr_type}.motif_enrichment.msg'\n",
    "        if pathlib.Path(output_path).exists():\n",
    "            continue\n",
    "        dmr_data, bg_data = get_data_by_cluster(total_dmr_annot, total_background_motif_hits, bg_bed, \n",
    "                                                dmr_type, cluster, use_cols=use_cols)\n",
    "        motif_enrichment(dmr_data, bg_data, cluster, dmr_type)"
   ]
  },
  {
   "cell_type": "code",
   "execution_count": 7,
   "metadata": {
    "ExecuteTime": {
     "end_time": "2019-12-16T06:35:39.431572Z",
     "start_time": "2019-12-16T06:35:39.227791Z"
    }
   },
   "outputs": [
    {
     "data": {
      "text/plain": [
       "CompletedProcess(args=['rm', '-f', 'bed_tmp'], returncode=1)"
      ]
     },
     "execution_count": 7,
     "metadata": {},
     "output_type": "execute_result"
    }
   ],
   "source": [
    "subprocess.run(['rm', '-f', 'bed_tmp'])"
   ]
  },
  {
   "cell_type": "code",
   "execution_count": null,
   "metadata": {},
   "outputs": [],
   "source": [
    "with open('final_flag.txt', 'w') as f:\n",
    "    f.write('Oh yeah')"
   ]
  },
  {
   "cell_type": "code",
   "execution_count": null,
   "metadata": {},
   "outputs": [],
   "source": []
  }
 ],
 "metadata": {
  "hide_input": false,
  "kernelspec": {
   "display_name": "Python 3",
   "language": "python",
   "name": "python3"
  },
  "language_info": {
   "codemirror_mode": {
    "name": "ipython",
    "version": 3
   },
   "file_extension": ".py",
   "mimetype": "text/x-python",
   "name": "python",
   "nbconvert_exporter": "python",
   "pygments_lexer": "ipython3",
   "version": "3.7.3"
  },
  "toc": {
   "base_numbering": 1,
   "nav_menu": {},
   "number_sections": true,
   "sideBar": true,
   "skip_h1_title": true,
   "title_cell": "Table of Contents",
   "title_sidebar": "Contents",
   "toc_cell": false,
   "toc_position": {},
   "toc_section_display": true,
   "toc_window_display": true
  }
 },
 "nbformat": 4,
 "nbformat_minor": 2
}
