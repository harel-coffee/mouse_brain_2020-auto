{
 "cells": [
  {
   "cell_type": "markdown",
   "metadata": {
    "papermill": {},
    "tags": []
   },
   "source": [
    "## Marker Selection"
   ]
  },
  {
   "cell_type": "code",
   "execution_count": 1,
   "metadata": {
    "ExecuteTime": {
     "end_time": "2019-12-02T04:18:37.893697Z",
     "start_time": "2019-12-02T04:18:35.339907Z"
    },
    "papermill": {},
    "tags": []
   },
   "outputs": [],
   "source": [
    "import pathlib\n",
    "from concurrent.futures import ProcessPoolExecutor, as_completed\n",
    "from itertools import combinations\n",
    "import numpy as np\n",
    "import anndata\n",
    "import matplotlib.pyplot as plt\n",
    "import pandas as pd\n",
    "import scanpy as sc\n",
    "import seaborn as sns\n",
    "import random\n",
    "from cemba_data.tools.hdf5.anndata import rank_features_groups"
   ]
  },
  {
   "cell_type": "markdown",
   "metadata": {
    "papermill": {},
    "tags": []
   },
   "source": [
    "## Parameter"
   ]
  },
  {
   "cell_type": "code",
   "execution_count": 2,
   "metadata": {
    "ExecuteTime": {
     "end_time": "2019-12-02T04:18:37.899897Z",
     "start_time": "2019-12-02T04:18:37.895862Z"
    },
    "papermill": {},
    "tags": [
     "parameters"
    ]
   },
   "outputs": [],
   "source": [
    "cell_tidy_data_path = '/home/hanliu/project/mouse_rostral_brain/ATAC/Metadata/ATAC.cell_tidy_data.msg'\n",
    "adata_path = '/home/hanliu/project/mouse_rostral_brain/ATAC/AdataForIntegration/HPF-Exc.gene.pass_qc.with_cluster.h5ad'\n",
    "\n",
    "cluster_col = 'SubType'\n",
    "\n",
    "cpu = 5\n",
    "top_n = 50\n",
    "adj_p_cutoff = 1e-3\n",
    "log2fc_cutoff = 0.3\n",
    "min_cluster_cell_number = 10"
   ]
  },
  {
   "cell_type": "code",
   "execution_count": 3,
   "metadata": {
    "ExecuteTime": {
     "end_time": "2019-12-02T04:18:37.904849Z",
     "start_time": "2019-12-02T04:18:37.901598Z"
    },
    "tags": [
     "injected-parameters"
    ]
   },
   "outputs": [],
   "source": [
    "# Parameters\n",
    "cell_tidy_data_path = \"/home/hanliu/project/mouse_rostral_brain/ATAC/Metadata/ATAC.cell_tidy_data.msg\"\n",
    "adata_path = \"/home/hanliu/project/mouse_rostral_brain/ATAC/AdataForIntegration/NonN.gene.pass_qc.with_cluster.h5ad\"\n",
    "cluster_col = \"SubType\"\n",
    "cpu = 5\n",
    "top_n = 50\n",
    "adj_p_cutoff = 0.001\n",
    "log2fc_cutoff = 0.3\n",
    "min_cluster_cell_number = 10\n"
   ]
  },
  {
   "cell_type": "markdown",
   "metadata": {
    "papermill": {},
    "tags": []
   },
   "source": [
    "### Stable Parameter"
   ]
  },
  {
   "cell_type": "code",
   "execution_count": 4,
   "metadata": {
    "ExecuteTime": {
     "end_time": "2019-12-02T04:18:37.910750Z",
     "start_time": "2019-12-02T04:18:37.906755Z"
    },
    "papermill": {},
    "tags": []
   },
   "outputs": [],
   "source": [
    "max_test_cell_population = 1000\n",
    "random_seed = 0\n",
    "chunk_size = 40\n",
    "exclude_str = []\n",
    "output_dir = 'Markers'\n",
    "output_dir = pathlib.Path(output_dir)\n",
    "output_dir.mkdir(exist_ok=True)"
   ]
  },
  {
   "cell_type": "markdown",
   "metadata": {
    "papermill": {},
    "tags": []
   },
   "source": [
    "## Load Data\n",
    "\n",
    "### Cell Tidy Data and selection"
   ]
  },
  {
   "cell_type": "code",
   "execution_count": 5,
   "metadata": {
    "ExecuteTime": {
     "end_time": "2019-12-02T04:18:41.114118Z",
     "start_time": "2019-12-02T04:18:37.912282Z"
    },
    "papermill": {},
    "tags": []
   },
   "outputs": [
    {
     "name": "stderr",
     "output_type": "stream",
     "text": [
      "/home/hanliu/miniconda3/envs/clustering/lib/python3.7/site-packages/IPython/core/interactiveshell.py:3326: FutureWarning: The read_msgpack is deprecated and will be removed in a future version.\n",
      "It is recommended to use pyarrow for on-the-wire transmission of pandas objects.\n",
      "  exec(code_obj, self.user_global_ns, self.user_ns)\n"
     ]
    }
   ],
   "source": [
    "cell_tidy_data = pd.read_msgpack(cell_tidy_data_path)"
   ]
  },
  {
   "cell_type": "markdown",
   "metadata": {
    "papermill": {},
    "tags": []
   },
   "source": [
    "### Adata"
   ]
  },
  {
   "cell_type": "code",
   "execution_count": 6,
   "metadata": {
    "ExecuteTime": {
     "end_time": "2019-12-02T04:18:55.959129Z",
     "start_time": "2019-12-02T04:18:41.115651Z"
    },
    "papermill": {},
    "tags": []
   },
   "outputs": [
    {
     "data": {
      "text/plain": [
       "AnnData object with n_obs × n_vars = 339156 × 53278 \n",
       "    obs: 'sample', 'barcode', 'TN', 'UM', 'PP', 'UQ', 'CM', 'logUMI', 'landmark', 'umap-1', 'umap-2', 'cluster', 'L1', 'L2', 'L3', 'CellClass', 'MajorType', 'SubType', 'umap_0', 'umap_1', 'Region', 'Order', 'RegionName', 'MajorRegion', 'SubRegion', 'DetailRegion', 'PotentialOverlap (MMB)', 'Slice', 'Anterior (CCF coords)', 'Posterior (CCF coords)', 'MajorRegionColor', 'SubRegionColor', 'DissectionRegionColor'\n",
       "    var: 'chrom', 'source', 'feature', 'start', 'end', 'score', 'strand', 'phase', 'gene_id', 'transcript_id', 'gene_type', 'gene_status', 'transcript_type', 'transcript_status', 'transcript_name', 'exon_number', 'exon_id', 'level', 'havana_gene', 'tag', 'gene_name'"
      ]
     },
     "execution_count": 6,
     "metadata": {},
     "output_type": "execute_result"
    }
   ],
   "source": [
    "adata = anndata.read_h5ad(adata_path)\n",
    "cell_tidy_data = cell_tidy_data.loc[adata.obs_names].copy()\n",
    "adata"
   ]
  },
  {
   "cell_type": "code",
   "execution_count": 7,
   "metadata": {
    "ExecuteTime": {
     "end_time": "2019-12-02T04:18:56.043627Z",
     "start_time": "2019-12-02T04:18:55.961751Z"
    },
    "papermill": {},
    "tags": []
   },
   "outputs": [
    {
     "name": "stdout",
     "output_type": "stream",
     "text": [
      "20 pass filter.\n",
      "190 pairwise comparison to test.\n"
     ]
    }
   ],
   "source": [
    "cluster_series = cell_tidy_data[cluster_col].astype(str)\n",
    "cluster_counts = cluster_series.value_counts()\n",
    "\n",
    "def check_cluster(cluster, count):\n",
    "    if count < min_cluster_cell_number:\n",
    "        return False\n",
    "    for exclude in exclude_str:\n",
    "        if exclude in cluster:\n",
    "            return False\n",
    "    return True\n",
    "\n",
    "\n",
    "unique_clusters = [\n",
    "    cluster for cluster, count in cluster_counts.items()\n",
    "    if check_cluster(cluster, count)\n",
    "]\n",
    "cluster_pairs = list(combinations(unique_clusters, 2))\n",
    "random.shuffle(cluster_pairs)  # shuffle make parallel more even\n",
    "\n",
    "print(len(unique_clusters), 'pass filter.')\n",
    "print(len(cluster_pairs), 'pairwise comparison to test.')"
   ]
  },
  {
   "cell_type": "markdown",
   "metadata": {
    "papermill": {},
    "tags": []
   },
   "source": [
    "## Basic filter"
   ]
  },
  {
   "cell_type": "code",
   "execution_count": 8,
   "metadata": {
    "ExecuteTime": {
     "end_time": "2019-12-02T04:19:13.411189Z",
     "start_time": "2019-12-02T04:18:56.045566Z"
    },
    "papermill": {},
    "tags": []
   },
   "outputs": [
    {
     "data": {
      "text/plain": [
       "AnnData object with n_obs × n_vars = 339156 × 18955 \n",
       "    obs: 'sample', 'barcode', 'TN', 'UM', 'PP', 'UQ', 'CM', 'logUMI', 'landmark', 'umap-1', 'umap-2', 'cluster', 'L1', 'L2', 'L3', 'CellClass', 'MajorType', 'SubType', 'umap_0', 'umap_1', 'Region', 'Order', 'RegionName', 'MajorRegion', 'SubRegion', 'DetailRegion', 'PotentialOverlap (MMB)', 'Slice', 'Anterior (CCF coords)', 'Posterior (CCF coords)', 'MajorRegionColor', 'SubRegionColor', 'DissectionRegionColor'\n",
       "    var: 'chrom', 'source', 'feature', 'start', 'end', 'score', 'strand', 'phase', 'gene_id', 'transcript_id', 'gene_type', 'gene_status', 'transcript_type', 'transcript_status', 'transcript_name', 'exon_number', 'exon_id', 'level', 'havana_gene', 'tag', 'gene_name'"
      ]
     },
     "execution_count": 8,
     "metadata": {},
     "output_type": "execute_result"
    },
    {
     "data": {
      "image/png": "[encoded data removed]",
      "text/plain": [
       "<Figure size 432x288 with 1 Axes>"
      ]
     },
     "metadata": {
      "needs_background": "light"
     },
     "output_type": "display_data"
    }
   ],
   "source": [
    "gene_mean = adata.X.mean(axis=0) \n",
    "judge = (gene_mean > 0.01) & (gene_mean < 100)\n",
    "sns.distplot(gene_mean[judge])\n",
    "\n",
    "adata = adata[:, judge.A1].copy()\n",
    "adata"
   ]
  },
  {
   "cell_type": "code",
   "execution_count": 9,
   "metadata": {
    "ExecuteTime": {
     "end_time": "2019-12-02T04:19:31.740780Z",
     "start_time": "2019-12-02T04:19:13.412748Z"
    },
    "papermill": {},
    "tags": []
   },
   "outputs": [],
   "source": [
    "sc.pp.normalize_per_cell(adata)\n",
    "sc.pp.log1p(adata)"
   ]
  },
  {
   "cell_type": "code",
   "execution_count": 10,
   "metadata": {
    "ExecuteTime": {
     "end_time": "2019-12-02T04:19:40.417174Z",
     "start_time": "2019-12-02T04:19:31.742854Z"
    },
    "papermill": {},
    "tags": []
   },
   "outputs": [],
   "source": [
    "adata.write_h5ad('TEMP_ADATA.h5ad')"
   ]
  },
  {
   "cell_type": "markdown",
   "metadata": {
    "papermill": {},
    "tags": []
   },
   "source": [
    "## Pairwise test"
   ]
  },
  {
   "cell_type": "code",
   "execution_count": 11,
   "metadata": {
    "ExecuteTime": {
     "end_time": "2019-12-02T04:19:40.433420Z",
     "start_time": "2019-12-02T04:19:40.419300Z"
    },
    "papermill": {},
    "tags": []
   },
   "outputs": [],
   "source": [
    "def get_sig_features(rank_gene_dict):\n",
    "    pvals_adj = pd.DataFrame(rank_gene_dict['pvals_adj'])\n",
    "    names = pd.DataFrame(rank_gene_dict['names'])\n",
    "    logfoldchanges = pd.DataFrame(rank_gene_dict['logfoldchanges'])\n",
    "    gene_set = set(\n",
    "        names.where((pvals_adj < adj_p_cutoff)\n",
    "                    & (logfoldchanges.abs() > log2fc_cutoff)).values.flat)\n",
    "    return gene_set\n",
    "\n",
    "\n",
    "def pairwise_tests(pairs):\n",
    "    adata_path = 'TEMP_ADATA.h5ad'\n",
    "    adata = anndata.read_h5ad(adata_path)\n",
    "    total_markers = set()\n",
    "    pair_marker_count = {}\n",
    "    for pair in pairs:\n",
    "        cluster_a, cluster_b = pair\n",
    "        cluster_a_cells = cluster_series[cluster_series == cluster_a]\n",
    "        if cluster_a_cells.size > max_test_cell_population:\n",
    "            cluster_a_cells = cluster_a_cells.sample(max_test_cell_population,\n",
    "                                                     random_state=random_seed)\n",
    "        cluster_a_cells = cluster_a_cells.index\n",
    "\n",
    "        cluster_b_cells = cluster_series[cluster_series == cluster_b]\n",
    "        if cluster_b_cells.size > max_test_cell_population:\n",
    "            cluster_b_cells = cluster_b_cells.sample(max_test_cell_population,\n",
    "                                                     random_state=random_seed)\n",
    "        cluster_b_cells = cluster_b_cells.index\n",
    "        cells = cluster_a_cells | cluster_b_cells\n",
    "\n",
    "        pair_adata = adata[cells, :].copy()\n",
    "        pair_adata.obs['cluster'] = pair_adata.obs[cluster_col].astype(\n",
    "            str).astype('category')\n",
    "\n",
    "        sc.tl.rank_genes_groups(pair_adata,\n",
    "                                groupby='cluster',\n",
    "                                n_genes=top_n,\n",
    "                                method='wilcoxon')\n",
    "        gene_set = get_sig_features(pair_adata.uns['rank_genes_groups'])\n",
    "        # drop na\n",
    "        gene_set = set([i for i in gene_set if isinstance(i, str)])\n",
    "\n",
    "        total_markers.update(gene_set)\n",
    "        pair_marker_count[pair] = len(gene_set)\n",
    "    return total_markers, pair_marker_count"
   ]
  },
  {
   "cell_type": "code",
   "execution_count": 12,
   "metadata": {
    "ExecuteTime": {
     "end_time": "2019-12-02T04:23:05.889344Z",
     "start_time": "2019-12-02T04:19:40.435346Z"
    },
    "papermill": {},
    "scrolled": true,
    "tags": []
   },
   "outputs": [],
   "source": [
    "total_markers = set()\n",
    "pair_marker_counts = {}\n",
    "with ProcessPoolExecutor(cpu) as executor:\n",
    "    futures = []\n",
    "    for chunk_start in range(0, len(cluster_pairs), chunk_size):\n",
    "        pair_chunk = cluster_pairs[chunk_start:chunk_start + chunk_size]\n",
    "        future = executor.submit(pairwise_tests, pair_chunk)\n",
    "        futures.append(future)\n",
    "\n",
    "    for future in as_completed(futures):\n",
    "        genes, pair_marker_count = future.result()\n",
    "        total_markers.update(genes)\n",
    "        pair_marker_counts.update(pair_marker_count)"
   ]
  },
  {
   "cell_type": "markdown",
   "metadata": {
    "papermill": {},
    "tags": []
   },
   "source": [
    "## Save results"
   ]
  },
  {
   "cell_type": "code",
   "execution_count": 13,
   "metadata": {
    "ExecuteTime": {
     "end_time": "2019-12-02T04:23:05.895672Z",
     "start_time": "2019-12-02T04:23:05.891174Z"
    },
    "papermill": {},
    "tags": []
   },
   "outputs": [],
   "source": [
    "total_markers = set([i for i in total_markers if isinstance(i, str)])\n",
    "with open('Markers/rna.cluster_markers.txt', 'w') as f:\n",
    "    f.write('\\n'.join(total_markers))"
   ]
  },
  {
   "cell_type": "code",
   "execution_count": 14,
   "metadata": {
    "ExecuteTime": {
     "end_time": "2019-12-02T04:23:05.909912Z",
     "start_time": "2019-12-02T04:23:05.897225Z"
    },
    "papermill": {},
    "tags": []
   },
   "outputs": [],
   "source": [
    "pair_marker_counts = pd.Series(pair_marker_counts)\n",
    "marker_counts = pair_marker_counts.reset_index()\n",
    "marker_counts.columns = ['ClusterA', 'ClusterB', 'GeneCount']\n",
    "marker_counts.to_csv('Markers/rna.cluster_pair_marker_counts.csv', index=None)"
   ]
  },
  {
   "cell_type": "code",
   "execution_count": 15,
   "metadata": {
    "ExecuteTime": {
     "end_time": "2019-12-02T04:23:05.922463Z",
     "start_time": "2019-12-02T04:23:05.911313Z"
    },
    "papermill": {},
    "tags": []
   },
   "outputs": [
    {
     "data": {
      "text/html": [
       "<div>\n",
       "<style scoped>\n",
       "    .dataframe tbody tr th:only-of-type {\n",
       "        vertical-align: middle;\n",
       "    }\n",
       "\n",
       "    .dataframe tbody tr th {\n",
       "        vertical-align: top;\n",
       "    }\n",
       "\n",
       "    .dataframe thead th {\n",
       "        text-align: right;\n",
       "    }\n",
       "</style>\n",
       "<table border=\"1\" class=\"dataframe\">\n",
       "  <thead>\n",
       "    <tr style=\"text-align: right;\">\n",
       "      <th></th>\n",
       "      <th>ClusterA</th>\n",
       "      <th>ClusterB</th>\n",
       "      <th>GeneCount</th>\n",
       "    </tr>\n",
       "  </thead>\n",
       "  <tbody>\n",
       "  </tbody>\n",
       "</table>\n",
       "</div>"
      ],
      "text/plain": [
       "Empty DataFrame\n",
       "Columns: [ClusterA, ClusterB, GeneCount]\n",
       "Index: []"
      ]
     },
     "execution_count": 15,
     "metadata": {},
     "output_type": "execute_result"
    }
   ],
   "source": [
    "marker_counts[marker_counts['GeneCount'] < 3]"
   ]
  },
  {
   "cell_type": "code",
   "execution_count": 16,
   "metadata": {
    "ExecuteTime": {
     "end_time": "2019-12-02T04:23:07.072862Z",
     "start_time": "2019-12-02T04:23:05.924661Z"
    },
    "papermill": {},
    "tags": []
   },
   "outputs": [
    {
     "data": {
      "text/plain": [
       "CompletedProcess(args=['rm', '-f', 'TEMP_ADATA.h5ad'], returncode=0)"
      ]
     },
     "execution_count": 16,
     "metadata": {},
     "output_type": "execute_result"
    }
   ],
   "source": [
    "import subprocess\n",
    "subprocess.run(['rm', '-f', 'TEMP_ADATA.h5ad'])"
   ]
  },
  {
   "cell_type": "code",
   "execution_count": 17,
   "metadata": {
    "ExecuteTime": {
     "end_time": "2019-12-02T04:23:26.378866Z",
     "start_time": "2019-12-02T04:23:07.074986Z"
    },
    "papermill": {},
    "tags": []
   },
   "outputs": [],
   "source": [
    "adata = anndata.read_h5ad(adata_path)\n",
    "marker_adata = adata[:, list(total_markers)]"
   ]
  },
  {
   "cell_type": "code",
   "execution_count": 18,
   "metadata": {
    "ExecuteTime": {
     "end_time": "2019-12-02T04:23:31.912781Z",
     "start_time": "2019-12-02T04:23:26.381245Z"
    },
    "papermill": {},
    "tags": []
   },
   "outputs": [
    {
     "name": "stderr",
     "output_type": "stream",
     "text": [
      "/home/hanliu/miniconda3/envs/clustering/lib/python3.7/site-packages/IPython/core/interactiveshell.py:3326: FutureWarning: The read_msgpack is deprecated and will be removed in a future version.\n",
      "It is recommended to use pyarrow for on-the-wire transmission of pandas objects.\n",
      "  exec(code_obj, self.user_global_ns, self.user_ns)\n"
     ]
    }
   ],
   "source": [
    "cell_tidy_data_pseudo = pd.read_msgpack(\n",
    "'/home/hanliu/project/mouse_rostral_brain/ATAC/SubTypeANN/CellMeta.with_pseudo_cell.msg')\n",
    "cell_tidy_data_pseudo = cell_tidy_data_pseudo.reindex(marker_adata.obs_names)"
   ]
  },
  {
   "cell_type": "code",
   "execution_count": 19,
   "metadata": {
    "ExecuteTime": {
     "end_time": "2019-12-02T04:25:15.041984Z",
     "start_time": "2019-12-02T04:23:31.914253Z"
    },
    "papermill": {},
    "tags": []
   },
   "outputs": [],
   "source": [
    "datas = []\n",
    "cells = []\n",
    "for cell_name, sub_df in cell_tidy_data_pseudo.groupby('PseudoCell'):\n",
    "    data = marker_adata[sub_df.index, :].X.sum(axis=0)\n",
    "    datas.append(data)\n",
    "    cells.append(cell_name)\n",
    "data = np.vstack(datas)"
   ]
  },
  {
   "cell_type": "code",
   "execution_count": 20,
   "metadata": {
    "ExecuteTime": {
     "end_time": "2019-12-02T04:25:15.598890Z",
     "start_time": "2019-12-02T04:25:15.044557Z"
    },
    "papermill": {},
    "tags": []
   },
   "outputs": [
    {
     "name": "stderr",
     "output_type": "stream",
     "text": [
      "... storing 'cluster' as categorical\n"
     ]
    },
    {
     "data": {
      "text/plain": [
       "AnnData object with n_obs × n_vars = 8096 × 1316 \n",
       "    obs: 'cluster', 'n_counts'\n",
       "    var: 'chrom', 'source', 'feature', 'start', 'end', 'score', 'strand', 'phase', 'gene_id', 'transcript_id', 'gene_type', 'gene_status', 'transcript_type', 'transcript_status', 'transcript_name', 'exon_number', 'exon_id', 'level', 'havana_gene', 'tag', 'gene_name'"
      ]
     },
     "execution_count": 20,
     "metadata": {},
     "output_type": "execute_result"
    }
   ],
   "source": [
    "pseudo_marker_adata = anndata.AnnData(X=np.array(data).copy(),\n",
    "                                      obs=pd.DataFrame([], index=cells),\n",
    "                                      var=marker_adata.var.copy())\n",
    "pseudo_marker_adata.obs['cluster'] = pseudo_marker_adata.obs.index.map(lambda i: i.split('+')[0])\n",
    "\n",
    "sc.pp.normalize_per_cell(pseudo_marker_adata)\n",
    "sc.pp.log1p(pseudo_marker_adata)\n",
    "\n",
    "pseudo_marker_adata.write_h5ad('Markers/atac.pseudo_cell.cluster_markers.h5ad')\n",
    "pseudo_marker_adata"
   ]
  },
  {
   "cell_type": "code",
   "execution_count": null,
   "metadata": {
    "papermill": {},
    "tags": []
   },
   "outputs": [],
   "source": []
  },
  {
   "cell_type": "code",
   "execution_count": 21,
   "metadata": {
    "ExecuteTime": {
     "end_time": "2019-12-02T04:25:25.926013Z",
     "start_time": "2019-12-02T04:25:15.600299Z"
    },
    "papermill": {},
    "tags": []
   },
   "outputs": [
    {
     "name": "stderr",
     "output_type": "stream",
     "text": [
      "Trying to set attribute `.obs` of view, making a copy.\n"
     ]
    },
    {
     "data": {
      "text/plain": [
       "AnnData object with n_obs × n_vars = 339156 × 1316 \n",
       "    obs: 'sample', 'barcode', 'TN', 'UM', 'PP', 'UQ', 'CM', 'logUMI', 'landmark', 'umap-1', 'umap-2', 'cluster', 'L1', 'L2', 'L3', 'CellClass', 'MajorType', 'SubType', 'umap_0', 'umap_1', 'Region', 'Order', 'RegionName', 'MajorRegion', 'SubRegion', 'DetailRegion', 'PotentialOverlap (MMB)', 'Slice', 'Anterior (CCF coords)', 'Posterior (CCF coords)', 'MajorRegionColor', 'SubRegionColor', 'DissectionRegionColor', 'n_counts'\n",
       "    var: 'chrom', 'source', 'feature', 'start', 'end', 'score', 'strand', 'phase', 'gene_id', 'transcript_id', 'gene_type', 'gene_status', 'transcript_type', 'transcript_status', 'transcript_name', 'exon_number', 'exon_id', 'level', 'havana_gene', 'tag', 'gene_name'"
      ]
     },
     "execution_count": 21,
     "metadata": {},
     "output_type": "execute_result"
    }
   ],
   "source": [
    "sc.pp.normalize_per_cell(marker_adata)\n",
    "sc.pp.log1p(marker_adata)\n",
    "\n",
    "marker_adata.write_h5ad('Markers/atac.cluster_markers.h5ad')\n",
    "marker_adata"
   ]
  },
  {
   "cell_type": "code",
   "execution_count": null,
   "metadata": {
    "papermill": {},
    "tags": []
   },
   "outputs": [],
   "source": []
  },
  {
   "cell_type": "code",
   "execution_count": null,
   "metadata": {
    "papermill": {},
    "tags": []
   },
   "outputs": [],
   "source": []
  },
  {
   "cell_type": "code",
   "execution_count": null,
   "metadata": {
    "papermill": {},
    "tags": []
   },
   "outputs": [],
   "source": []
  },
  {
   "cell_type": "code",
   "execution_count": null,
   "metadata": {
    "papermill": {},
    "tags": []
   },
   "outputs": [],
   "source": []
  },
  {
   "cell_type": "code",
   "execution_count": null,
   "metadata": {
    "papermill": {},
    "tags": []
   },
   "outputs": [],
   "source": []
  },
  {
   "cell_type": "code",
   "execution_count": null,
   "metadata": {
    "papermill": {},
    "tags": []
   },
   "outputs": [],
   "source": []
  },
  {
   "cell_type": "code",
   "execution_count": null,
   "metadata": {
    "papermill": {},
    "tags": []
   },
   "outputs": [],
   "source": []
  }
 ],
 "metadata": {
  "hide_input": false,
  "kernelspec": {
   "display_name": "Python 3",
   "language": "python",
   "name": "python3"
  },
  "language_info": {
   "codemirror_mode": {
    "name": "ipython",
    "version": 3
   },
   "file_extension": ".py",
   "mimetype": "text/x-python",
   "name": "python",
   "nbconvert_exporter": "python",
   "pygments_lexer": "ipython3",
   "version": "3.7.3"
  },
  "papermill": {
   "environment_variables": {},
   "input_path": "atac.pairwise_marker_selection.ipynb",
   "output_path": "/home/hanliu/project/mouse_rostral_brain/study/IntegrationWithATAC/NonN/atac.pairwise_marker_selection.ipynb",
   "parameters": {
    "adata_path": "/home/hanliu/project/mouse_rostral_brain/ATAC/AdataForIntegration/NonN.gene.pass_qc.with_cluster.h5ad",
    "adj_p_cutoff": 0.001,
    "cell_tidy_data_path": "/home/hanliu/project/mouse_rostral_brain/ATAC/Metadata/ATAC.cell_tidy_data.msg",
    "cluster_col": "SubType",
    "cpu": 5,
    "log2fc_cutoff": 0.3,
    "min_cluster_cell_number": 10,
    "top_n": 50
   },
   "version": "1.0.1"
  },
  "toc": {
   "base_numbering": 1,
   "nav_menu": {},
   "number_sections": true,
   "sideBar": true,
   "skip_h1_title": true,
   "title_cell": "Table of Contents",
   "title_sidebar": "Contents",
   "toc_cell": false,
   "toc_position": {},
   "toc_section_display": true,
   "toc_window_display": true
  }
 },
 "nbformat": 4,
 "nbformat_minor": 2
}
