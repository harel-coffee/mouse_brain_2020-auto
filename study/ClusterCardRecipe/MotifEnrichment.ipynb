{
 "cells": [
  {
   "cell_type": "code",
   "execution_count": 1,
   "metadata": {
    "ExecuteTime": {
     "end_time": "2020-01-03T02:39:49.564225Z",
     "start_time": "2020-01-03T02:39:48.882394Z"
    }
   },
   "outputs": [],
   "source": [
    "from concurrent.futures import ProcessPoolExecutor, as_completed\n",
    "\n",
    "import anndata\n",
    "import matplotlib.pyplot as plt\n",
    "import numpy as np\n",
    "import pandas as pd\n",
    "import pybedtools\n",
    "import scipy.stats as stats\n",
    "import seaborn as sns\n",
    "from statsmodels.stats.multitest import multipletests\n",
    "\n",
    "pybedtools.cleanup(remove_all=True)"
   ]
  },
  {
   "cell_type": "code",
   "execution_count": 2,
   "metadata": {
    "ExecuteTime": {
     "end_time": "2020-01-03T02:39:49.571034Z",
     "start_time": "2020-01-03T02:39:49.568550Z"
    },
    "tags": [
     "parameters"
    ]
   },
   "outputs": [],
   "source": [
    "cluster_type = 'SubType'\n",
    "cluster = 'IG-CA2_Peak1'\n",
    "output_dir = 'IG-CA2_Peak1'\n",
    "\n",
    "or_cutoff = 1.3\n",
    "neg_lgp_cutoff = 4\n",
    "cpu = 40"
   ]
  },
  {
   "cell_type": "markdown",
   "metadata": {},
   "source": [
    "## DMR hits"
   ]
  },
  {
   "cell_type": "code",
   "execution_count": 3,
   "metadata": {
    "ExecuteTime": {
     "end_time": "2020-01-03T02:40:03.946097Z",
     "start_time": "2020-01-03T02:39:49.755741Z"
    }
   },
   "outputs": [],
   "source": [
    "total_dmr_annot = anndata.read_h5ad(\n",
    "    '/home/hanliu/project/mouse_rostral_brain/DMR/SubDMRAnnotation/DMRAnnotation.h5ad'\n",
    ")"
   ]
  },
  {
   "cell_type": "code",
   "execution_count": 5,
   "metadata": {
    "ExecuteTime": {
     "end_time": "2020-01-03T02:40:04.966939Z",
     "start_time": "2020-01-03T02:40:04.582031Z"
    }
   },
   "outputs": [],
   "source": [
    "hypo_dmr_bed_df = pd.read_csv(\n",
    "    f'/home/hanliu/project/mouse_rostral_brain/DMR/SubType/HypoBed/{cluster}.HypoDMR.DMS2.bed',\n",
    "    header=None,\n",
    "    sep='\\t',\n",
    "    index_col=-1,\n",
    "    names=['chrom', 'start', 'end', 'SubDMR'])\n",
    "\n",
    "hyper_dmr_bed_df = pd.read_csv(\n",
    "    f'/home/hanliu/project/mouse_rostral_brain/DMR/SubType/HyperBed/{cluster}.HyperDMR.DMS2.bed',\n",
    "    header=None,\n",
    "    sep='\\t',\n",
    "    index_col=-1,\n",
    "    names=['chrom', 'start', 'end', 'SubDMR'])"
   ]
  },
  {
   "cell_type": "markdown",
   "metadata": {},
   "source": [
    "## Background Hits"
   ]
  },
  {
   "cell_type": "code",
   "execution_count": 6,
   "metadata": {
    "ExecuteTime": {
     "end_time": "2020-01-03T02:40:06.160961Z",
     "start_time": "2020-01-03T02:40:04.968593Z"
    }
   },
   "outputs": [],
   "source": [
    "total_background_motif_hits = anndata.read_h5ad(\n",
    "    '/home/hanliu/project/mouse_rostral_brain/DMR/MotifScan/BackgroundAdultTissueDMR.MotifHits.with_region_bed.h5ad'\n",
    ")"
   ]
  },
  {
   "cell_type": "markdown",
   "metadata": {},
   "source": [
    "## Motif hits contingency table"
   ]
  },
  {
   "cell_type": "code",
   "execution_count": 7,
   "metadata": {
    "ExecuteTime": {
     "end_time": "2020-01-03T02:40:06.174657Z",
     "start_time": "2020-01-03T02:40:06.162846Z"
    }
   },
   "outputs": [],
   "source": [
    "def run_enrichment(dmr_type, dmr_annot, background_annot):\n",
    "    # calculate motif occurence, not considering hits here\n",
    "    pos = (dmr_annot[:, motif_ids].X > 0).sum(axis=0)\n",
    "    pos_total = dmr_annot.shape[0]\n",
    "\n",
    "    neg = (background_annot.X > 0).sum(axis=0)\n",
    "    neg_total = background_annot.shape[0]\n",
    "\n",
    "    # contingency tables\n",
    "    tables = {}\n",
    "    for motif, _pos, _neg in zip(motif_ids, pos.A1, neg.A1):\n",
    "        table = [[_pos, pos_total - _pos], [_neg, neg_total - _neg]]\n",
    "        tables[motif] = table\n",
    "\n",
    "    # calculate motif enrichment results\n",
    "    results = {}\n",
    "    with ProcessPoolExecutor(cpu) as executor:\n",
    "        fs = {}\n",
    "        for motif, t in tables.items():\n",
    "            f = executor.submit(stats.fisher_exact, t, alternative='greater')\n",
    "            fs[f] = motif\n",
    "\n",
    "        for f in as_completed(fs):\n",
    "            motif = fs[f]\n",
    "            odds, p = f.result()\n",
    "            results[motif] = {'oddsratio': odds, 'p_value': p}\n",
    "    motif_enrich_df = pd.DataFrame(results).T\n",
    "    _, p, _, _ = multipletests(motif_enrich_df['p_value'], method='fdr_bh')\n",
    "    motif_enrich_df['adj_p'] = p\n",
    "    motif_enrich_df['-lgp'] = -np.log10(motif_enrich_df['adj_p']).replace(\n",
    "        -np.inf, -300)\n",
    "\n",
    "    # add counts info to results\n",
    "    records = {}\n",
    "    for motif, t in tables.items():\n",
    "        tp, tn = t[0]\n",
    "        fp, fn = t[1]\n",
    "        tp_rate = tp / pos_total\n",
    "        fp_rate = fp / neg_total\n",
    "        records[motif] = dict(tp=tp,\n",
    "                              tn=tn,\n",
    "                              fp=fp,\n",
    "                              fn=fn,\n",
    "                              tp_rate=tp_rate,\n",
    "                              fp_rate=fp_rate)\n",
    "    counts = pd.DataFrame(records).T\n",
    "    motif_enrich_df = pd.concat([motif_enrich_df, counts], axis=1, sort=True)\n",
    "\n",
    "    # save results\n",
    "    motif_enrich_df = motif_enrich_df[motif_enrich_df['oddsratio'] > 1].copy()\n",
    "    motif_enrich_df[cluster_type] = cluster\n",
    "    motif_enrich_df['DMRType'] = dmr_type\n",
    "    motif_enrich_df.to_msgpack(\n",
    "        f'{output_dir}/{cluster}.{dmr_type}.motif_enrichment.msg')\n",
    "    return motif_enrich_df"
   ]
  },
  {
   "cell_type": "markdown",
   "metadata": {},
   "source": [
    "## Hypo DMR Enrichment"
   ]
  },
  {
   "cell_type": "markdown",
   "metadata": {},
   "source": [
    "### Remove Overlap with BG"
   ]
  },
  {
   "cell_type": "code",
   "execution_count": 8,
   "metadata": {
    "ExecuteTime": {
     "end_time": "2020-01-03T02:40:09.526679Z",
     "start_time": "2020-01-03T02:40:06.176002Z"
    }
   },
   "outputs": [
    {
     "data": {
      "text/plain": [
       "View of AnnData object with n_obs × n_vars = 281229 × 719 \n",
       "    obs: 'chrom', 'start', 'end'"
      ]
     },
     "execution_count": 8,
     "metadata": {},
     "output_type": "execute_result"
    }
   ],
   "source": [
    "motif_ids = total_dmr_annot.var_names[total_dmr_annot.var['FeatureType'] == 'MotifHits']\n",
    "\n",
    "dmr_bed = pybedtools.BedTool().from_dataframe(hypo_dmr_bed_df)\n",
    "bg_bed = pybedtools.BedTool().from_dataframe(\n",
    "    total_background_motif_hits.obs.reset_index().iloc[:, [1, 2, 3, 0]])\n",
    "\n",
    "# exclude background that overlap with DMR\n",
    "bg_no_overlap = bg_bed.intersect(dmr_bed, v=True)\n",
    "use_bg = bg_no_overlap.to_dataframe().iloc[:, -1].values\n",
    "background_motif_hits = total_background_motif_hits[use_bg, :]\n",
    "\n",
    "# make sure col in same order\n",
    "background_motif_hits = background_motif_hits[:, motif_ids]\n",
    "background_motif_hits"
   ]
  },
  {
   "cell_type": "code",
   "execution_count": 13,
   "metadata": {
    "ExecuteTime": {
     "end_time": "2020-01-03T02:40:58.632836Z",
     "start_time": "2020-01-03T02:40:52.355967Z"
    },
    "scrolled": true
   },
   "outputs": [
    {
     "name": "stderr",
     "output_type": "stream",
     "text": [
      "/home/hanliu/miniconda3/envs/clustering/lib/python3.7/site-packages/pandas/core/series.py:853: RuntimeWarning: divide by zero encountered in log10\n",
      "  result = getattr(ufunc, method)(*inputs, **kwargs)\n",
      "/home/hanliu/miniconda3/envs/clustering/lib/python3.7/site-packages/ipykernel_launcher.py:54: FutureWarning: to_msgpack is deprecated and will be removed in a future version.\n",
      "It is recommended to use pyarrow for on-the-wire transmission of pandas objects.\n"
     ]
    },
    {
     "data": {
      "text/plain": [
       "45"
      ]
     },
     "execution_count": 13,
     "metadata": {},
     "output_type": "execute_result"
    }
   ],
   "source": [
    "dmr_annot = total_dmr_annot[hypo_dmr_bed_df.index, :]\n",
    "\n",
    "motif_enrich_df = run_enrichment(dmr_type='Hypo',\n",
    "                                 dmr_annot=dmr_annot,\n",
    "                                 background_annot=background_motif_hits)\n",
    "\n",
    "# print final filter\n",
    "filtered_motif_df = motif_enrich_df[(motif_enrich_df['oddsratio'] > or_cutoff)\n",
    "                                    &\n",
    "                                    (motif_enrich_df['-lgp'] > neg_lgp_cutoff)]\n",
    "filtered_motif_df.shape[0]"
   ]
  },
  {
   "cell_type": "code",
   "execution_count": null,
   "metadata": {},
   "outputs": [],
   "source": [
    "# dmr_annot = total_dmr_annot[hyper_dmr_bed_df.index, :]\n",
    "# motif_ids = dmr_annot.var_names[dmr_annot.var['FeatureType'] == 'MotifHits']\n",
    "# motif_enrich_df = run_enrichment(dmr_type='Hyper',\n",
    "#                                  dmr_annot=dmr_annot,\n",
    "#                                  background_annot=background_motif_hits)\n",
    "#\n",
    "# # print final filter\n",
    "# filtered_motif_df = motif_enrich_df[(motif_enrich_df['oddsratio'] > or_cutoff)\n",
    "#                                     &\n",
    "#                                     (motif_enrich_df['-lgp'] > neg_lgp_cutoff)]\n",
    "# filtered_motif_df.shape[0]"
   ]
  },
  {
   "cell_type": "code",
   "execution_count": null,
   "metadata": {},
   "outputs": [],
   "source": []
  },
  {
   "cell_type": "code",
   "execution_count": null,
   "metadata": {},
   "outputs": [],
   "source": []
  },
  {
   "cell_type": "code",
   "execution_count": null,
   "metadata": {},
   "outputs": [],
   "source": []
  },
  {
   "cell_type": "code",
   "execution_count": null,
   "metadata": {},
   "outputs": [],
   "source": []
  },
  {
   "cell_type": "code",
   "execution_count": null,
   "metadata": {},
   "outputs": [],
   "source": []
  }
 ],
 "metadata": {
  "hide_input": false,
  "kernelspec": {
   "display_name": "Python 3",
   "language": "python",
   "name": "python3"
  },
  "language_info": {
   "codemirror_mode": {
    "name": "ipython",
    "version": 3
   },
   "file_extension": ".py",
   "mimetype": "text/x-python",
   "name": "python",
   "nbconvert_exporter": "python",
   "pygments_lexer": "ipython3",
   "version": "3.7.3"
  },
  "toc": {
   "base_numbering": 1,
   "nav_menu": {},
   "number_sections": true,
   "sideBar": true,
   "skip_h1_title": true,
   "title_cell": "Table of Contents",
   "title_sidebar": "Contents",
   "toc_cell": false,
   "toc_position": {},
   "toc_section_display": true,
   "toc_window_display": true
  }
 },
 "nbformat": 4,
 "nbformat_minor": 2
}
