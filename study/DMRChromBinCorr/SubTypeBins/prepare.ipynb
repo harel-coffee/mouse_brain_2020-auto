{
 "cells": [
  {
   "cell_type": "code",
   "execution_count": 1,
   "metadata": {
    "ExecuteTime": {
     "end_time": "2019-12-31T00:14:43.091923Z",
     "start_time": "2019-12-31T00:14:42.706640Z"
    }
   },
   "outputs": [],
   "source": [
    "import pandas as pd\n",
    "import numpy as np\n",
    "import pybedtools\n",
    "import pathlib\n",
    "import subprocess\n",
    "from concurrent.futures import ProcessPoolExecutor, as_completed"
   ]
  },
  {
   "cell_type": "markdown",
   "metadata": {},
   "source": [
    "## Prepare Region"
   ]
  },
  {
   "cell_type": "code",
   "execution_count": 2,
   "metadata": {
    "deletable": false,
    "editable": false,
    "run_control": {
     "frozen": true
    }
   },
   "outputs": [
    {
     "data": {
      "text/plain": [
       "<BedTool(mm10.w5k.remove_black.bed)>"
      ]
     },
     "execution_count": 2,
     "metadata": {},
     "output_type": "execute_result"
    }
   ],
   "source": [
    "black_list = pybedtools.BedTool('/home/hanliu/ref/blacklist/mm10-blacklist.v2.bed.gz')\n",
    "genome_bin = pybedtools.BedTool('mm10.w5k.bed')\n",
    "remove_black_list = genome_bin.intersect(black_list, v=True)\n",
    "remove_black_list.saveas('mm10.w5k.remove_black.bed')"
   ]
  },
  {
   "cell_type": "markdown",
   "metadata": {},
   "source": [
    "## BW paths"
   ]
  },
  {
   "cell_type": "code",
   "execution_count": 2,
   "metadata": {
    "ExecuteTime": {
     "end_time": "2019-12-31T00:00:39.148096Z",
     "start_time": "2019-12-31T00:00:39.142006Z"
    }
   },
   "outputs": [],
   "source": [
    "bw_dir = pathlib.Path('/gale/ddn/cemba/CEMBA/hanliu/mouse_rostral_brain/MultiLevelCluster/BW/SubType')\n",
    "bw_paths = {i.name.split('.')[1]: str(i) for i in bw_dir.glob('*.CHN-Both.rate.bw')}"
   ]
  },
  {
   "cell_type": "markdown",
   "metadata": {},
   "source": [
    "## bigWigAverageOverBed"
   ]
  },
  {
   "cell_type": "code",
   "execution_count": 3,
   "metadata": {
    "ExecuteTime": {
     "end_time": "2019-12-31T00:00:40.425173Z",
     "start_time": "2019-12-31T00:00:40.423090Z"
    }
   },
   "outputs": [],
   "source": [
    "cpu = 10"
   ]
  },
  {
   "cell_type": "code",
   "execution_count": 16,
   "metadata": {
    "deletable": false,
    "editable": false,
    "run_control": {
     "frozen": true
    }
   },
   "outputs": [],
   "source": [
    "output_dir = '/home/hanliu/ddn/hanliu/mouse_rostral_brain/MultiLevelCluster/SubTypeBins/BW_Mean'\n",
    "input_bed = pathlib.Path('mm10.w5k.remove_black.bed').absolute()\n",
    "\n",
    "def runner(i):\n",
    "    subprocess.run(i, shell=True, check=True)\n",
    "    \n",
    "with ProcessPoolExecutor(cpu) as executor:\n",
    "    futures = []\n",
    "    for name, bw in bw_paths.items():\n",
    "        output_path = f'{output_dir}/{name}.mean.tsv'\n",
    "        if pathlib.Path(output_path).exists():\n",
    "            continue\n",
    "        cmd = f'bigWigAverageOverBed {bw} {input_bed} {output_path}'\n",
    "        \n",
    "        future = executor.submit(runner, cmd)\n",
    "        futures.append(future)\n",
    "    \n",
    "    for future in as_completed(futures):\n",
    "        future.result()"
   ]
  },
  {
   "cell_type": "markdown",
   "metadata": {},
   "source": [
    "## Aggregate"
   ]
  },
  {
   "cell_type": "code",
   "execution_count": 4,
   "metadata": {
    "ExecuteTime": {
     "end_time": "2019-12-31T00:00:41.758537Z",
     "start_time": "2019-12-31T00:00:41.754893Z"
    }
   },
   "outputs": [],
   "source": [
    "file_paths = list(pathlib.Path('BW_Mean/').glob('*.mean.tsv'))"
   ]
  },
  {
   "cell_type": "code",
   "execution_count": 5,
   "metadata": {
    "ExecuteTime": {
     "end_time": "2019-12-31T00:00:42.947749Z",
     "start_time": "2019-12-31T00:00:42.559006Z"
    }
   },
   "outputs": [],
   "source": [
    "region_index = pd.read_csv('mm10.w5k.remove_black.bed', index_col=3, header=None, sep='\\t').index"
   ]
  },
  {
   "cell_type": "code",
   "execution_count": 6,
   "metadata": {
    "ExecuteTime": {
     "end_time": "2019-12-31T00:02:33.406015Z",
     "start_time": "2019-12-31T00:00:44.895456Z"
    },
    "scrolled": true
   },
   "outputs": [
    {
     "name": "stdout",
     "output_type": "stream",
     "text": [
      "VLMC_Col4a1\n",
      "MGE-Pvalb_Gfra2\n",
      "CGE-Vip_Ccser1\n",
      "CGE-Lamp5_Nrxn3\n",
      "Gfra1_Gfra1\n",
      "EC_Abhd2\n",
      "IT-L4_Astn2\n",
      "LSX-Inh_Zeb2\n",
      "CGE-Vip_Galnt17\n",
      "LSX-Inh_Lats2\n",
      "Chd7_Kcnc2\n",
      "LSX-Inh_Dock10\n",
      "LSX-Inh_Foxp2\n",
      "MGE-Sst_Ptpre\n",
      "ASC_str-hpf\n",
      "MGE-Sst_Ubtd1\n",
      "OLF-Exc_Unc13c\n",
      "ANP_anp-dg\n",
      "IT-L4_Shc3\n",
      "DG-po_Kctd8\n",
      "CGE-Vip_Clstn2\n",
      "Foxp2_Homer2\n",
      "ASC_mid\n",
      "MSN-D2_Nrp2\n",
      "OPC_opc-large\n",
      "MSN-D2_Col14a1\n",
      "NP-L6_Boc\n",
      "PAL-Inh_Igdcc3\n",
      "PT-L5_Kcnh1\n",
      "MGC_mgc-all\n",
      "EP_Rgs8\n",
      "NP-L6_Olfml2b\n",
      "MSN-D1_Plxnc1\n",
      "MGE-Sst_Chodl\n",
      "MGE-Sst_Dock4\n",
      "PT-L5_Plcb4\n",
      "CA3_Efnb2\n",
      "LSX-Inh_Nxph1\n",
      "ASC_cortex-olf\n",
      "OLF-Exc_Sgcd\n",
      "Chd7_Megf11\n",
      "CA3-St18_Nuak1\n",
      "IG-CA2_Peak1\n",
      "MSN-D1_Khdrbs3\n",
      "MGE-Sst_Rerg\n",
      "ODC_odc-small\n",
      "OLF-Exc_Rmst\n",
      "MGE-Sst_Kcnip4\n",
      "IG-CA2_Chrm3\n",
      "OPC_opc-small\n",
      "ODC_odc-large\n",
      "CGE-Lamp5_Grk5\n",
      "CA3-St18_Epha5\n",
      "MGE-Pvalb_Cacna1i\n",
      "CA3-St18_Tead1\n",
      "CLA_Cdh8\n",
      "IT-L23_Foxp1\n",
      "Chd7_Trpc7\n",
      "D1L-PAL_Flrt2\n",
      "MGE-Sst_Frmd6\n",
      "CGE-Vip_Ntng1\n",
      "MSN-D2_Slc24a2\n",
      "IT-L6_Oxr1\n",
      "IT-L23_Tenm2\n",
      "MSN-D2_Casz1\n",
      "CLA_Nrp2\n",
      "L6b_Adcy8\n",
      "ANP_anp-olf-cnu\n",
      "PT-L5_Tenm2\n",
      "PT-L5_Ptprt\n",
      "PT-L5_Tmtc2\n",
      "MGE-Pvalb_Entpd3\n",
      "D1L-Fstl4_Trps1\n",
      "OLF_Pag1\n",
      "MGE-Sst_Etv1\n",
      "PAL-Inh_Chat\n",
      "IT-L5_Grik3\n",
      "D1L-Fstl4_Sipa1l2\n",
      "D1L-PAL_Plcxd3\n",
      "OLF-Exc_Lrrtm3\n",
      "CA1_Lingo2\n",
      "CT-L6_Hcrtr2\n",
      "CGE-Lamp5_Grid1\n",
      "PAL-Inh_Ptprd\n",
      "CA1_Kif26a\n",
      "PAL-Inh_Tcf7l2\n",
      "NP-L6_Cyp7b1\n",
      "Foxp2_Dchs2\n",
      "VLMC_Mapk4\n",
      "PT-L5_Nectin1\n",
      "NP-L6_Cntnap5a\n",
      "CA3_Cadm2\n",
      "MGE-Pvalb_Ptprk\n",
      "MGE-Sst_Rxra\n",
      "IT-L23_Ptprt\n",
      "NP-L6_Cntnap4\n",
      "MGE-Sst_Unc5b\n",
      "OLF-Exc_Cux2\n",
      "PC_pc-all\n",
      "Unc5c_Unc5c\n",
      "CA1_Chrm3\n",
      "PAL-Inh_Onecut2\n",
      "Foxp2_Trpc7\n",
      "IT-L5_Etv1\n",
      "MGE-Sst_Bmper\n",
      "LSX-Inh_Enox1\n",
      "L6b_Kcnk2\n",
      "CA1_Ptprg\n",
      "Foxp2_Inpp4b\n",
      "IG-CA2_Xpr1\n",
      "D1L-Fstl4_Grm3\n",
      "CGE-Vip_Ptprm\n",
      "D1L-Fstl4_Cadm1\n",
      "PT-L5_Astn2\n",
      "CT-L6_Map4\n",
      "OLF-Exc_Cdh9\n",
      "CGE-Vip_Fstl4\n",
      "MGE-Pvalb_Sema5a\n",
      "LSX-Inh_Cacna1i\n",
      "CT-L6_Il1rap\n",
      "EC_Sema3g\n",
      "CLA_Bcl11a\n",
      "IT-L6_Cadps2\n",
      "MSN-D1_Ntn1\n",
      "D1L-Fstl4_Crim1\n",
      "PT-L5_Unc5b\n",
      "OLF_Xkr6\n",
      "IT-L23_Cux1\n",
      "NP-L6_Kcnab1\n",
      "L6b_Pkhd1\n",
      "CGE-Lamp5_Dock5\n",
      "OLF-Exc_Bmpr1b\n",
      "MGE-Pvalb_Cnih3\n",
      "PAL-Inh_Rarb\n",
      "OLF_Gabbr2\n",
      "DG-po_Bcl11a\n",
      "EP_Tspan5\n",
      "EP_Adcy8\n",
      "OLF_Trpc4\n",
      "PT-L5_Abca12\n",
      "CT-L6_Megf9\n",
      "CA1_Ak5\n",
      "PAL-Inh_Meis1\n",
      "IT-L6_Man1c1\n",
      "PAL-Inh_Tmem178\n",
      "MGE-Pvalb_Thsd7a\n",
      "PAL-Inh_Meis2\n",
      "L6b_Nrp2\n",
      "CGE-Lamp5_Sorcs1\n",
      "MSN-D1_Hrh1\n",
      "IT-L5_Cdh8\n",
      "VLMC-Pia_vlmc-pia-all\n",
      "OLF_Mapk10\n",
      "CGE-Vip_Grm8\n",
      "CGE-Vip_Robo1\n",
      "DG-po_Calb2\n",
      "DG_dg-all\n",
      "PAL-Inh_Deptor\n",
      "OLF-Exc_Pld5\n",
      "IT-L6_Fstl4\n",
      "OLF_Kcnd3\n"
     ]
    }
   ],
   "source": [
    "records = []\n",
    "for path in file_paths:\n",
    "    name = path.name.split('.')[0]\n",
    "    print(name)\n",
    "    df = pd.read_csv(path, sep='\\t', header=None, index_col=0, usecols=[0, 2, 5])\n",
    "    data = df[df[2] > 1000][5].reindex(region_index)\n",
    "    data.name = name\n",
    "    records.append(data)\n",
    "    \n",
    "total_rate = pd.DataFrame(records)"
   ]
  },
  {
   "cell_type": "code",
   "execution_count": 7,
   "metadata": {
    "ExecuteTime": {
     "end_time": "2019-12-31T00:04:03.023592Z",
     "start_time": "2019-12-31T00:02:33.407726Z"
    }
   },
   "outputs": [
    {
     "name": "stderr",
     "output_type": "stream",
     "text": [
      "/home/hanliu/miniconda3/envs/clustering/lib/python3.7/site-packages/ipykernel_launcher.py:5: FutureWarning: to_msgpack is deprecated and will be removed in a future version.\n",
      "It is recommended to use pyarrow for on-the-wire transmission of pandas objects.\n",
      "  \"\"\"\n"
     ]
    }
   ],
   "source": [
    "total_rate = total_rate.loc[:, total_rate.isna().sum(axis=0) <= 2].copy()\n",
    "_median = total_rate.median(axis=0)\n",
    "total_rate_no_na = total_rate.fillna(_median)\n",
    "\n",
    "assert total_rate_no_na.isna().values.sum() == 0\n",
    "total_rate_no_na = total_rate_no_na.T"
   ]
  },
  {
   "cell_type": "code",
   "execution_count": 13,
   "metadata": {
    "ExecuteTime": {
     "end_time": "2019-12-31T00:05:52.288322Z",
     "start_time": "2019-12-31T00:05:52.142816Z"
    }
   },
   "outputs": [
    {
     "data": {
      "text/plain": [
       "Index(['chr1', 'chr1', 'chr1', 'chr1', 'chr1', 'chr1', 'chr1', 'chr1', 'chr1',\n",
       "       'chr1',\n",
       "       ...\n",
       "       'chrY', 'chrY', 'chrY', 'chrY', 'chrY', 'chrY', 'chrM', 'chrM', 'chrM',\n",
       "       'chrM'],\n",
       "      dtype='object', name=3, length=484530)"
      ]
     },
     "execution_count": 13,
     "metadata": {},
     "output_type": "execute_result"
    }
   ],
   "source": []
  },
  {
   "cell_type": "code",
   "execution_count": 17,
   "metadata": {
    "ExecuteTime": {
     "end_time": "2019-12-31T00:07:19.041771Z",
     "start_time": "2019-12-31T00:07:15.126941Z"
    }
   },
   "outputs": [
    {
     "name": "stderr",
     "output_type": "stream",
     "text": [
      "/home/hanliu/miniconda3/envs/clustering/lib/python3.7/site-packages/ipykernel_launcher.py:7: FutureWarning: to_msgpack is deprecated and will be removed in a future version.\n",
      "It is recommended to use pyarrow for on-the-wire transmission of pandas objects.\n",
      "  import sys\n"
     ]
    },
    {
     "name": "stdout",
     "output_type": "stream",
     "text": [
      "chr1\n",
      "chr10\n",
      "chr11\n",
      "chr12\n",
      "chr13\n",
      "chr14\n",
      "chr15\n",
      "chr16\n",
      "chr17\n",
      "chr18\n",
      "chr19\n",
      "chr2\n",
      "chr3\n",
      "chr4\n",
      "chr5\n",
      "chr6\n",
      "chr7\n",
      "chr8\n",
      "chr9\n",
      "chrM\n",
      "chrX\n",
      "chrY\n"
     ]
    }
   ],
   "source": [
    "output_dir = 'SubType_5kb_mCH_per_chrom'\n",
    "output_dir = pathlib.Path(output_dir)\n",
    "output_dir.mkdir(exist_ok=True)\n",
    "\n",
    "chroms = total_rate_no_na.index.map(lambda i: i.split('_')[0])\n",
    "for chrom, sub_df in total_rate_no_na.groupby(chroms):\n",
    "    sub_df.to_msgpack(output_dir / f'{chrom}.msg')\n",
    "    print(chrom)"
   ]
  },
  {
   "cell_type": "code",
   "execution_count": null,
   "metadata": {},
   "outputs": [],
   "source": []
  },
  {
   "cell_type": "code",
   "execution_count": null,
   "metadata": {},
   "outputs": [],
   "source": []
  }
 ],
 "metadata": {
  "hide_input": false,
  "kernelspec": {
   "display_name": "Python 3",
   "language": "python",
   "name": "python3"
  },
  "language_info": {
   "codemirror_mode": {
    "name": "ipython",
    "version": 3
   },
   "file_extension": ".py",
   "mimetype": "text/x-python",
   "name": "python",
   "nbconvert_exporter": "python",
   "pygments_lexer": "ipython3",
   "version": "3.7.3"
  },
  "toc": {
   "base_numbering": 1,
   "nav_menu": {},
   "number_sections": true,
   "sideBar": true,
   "skip_h1_title": true,
   "title_cell": "Table of Contents",
   "title_sidebar": "Contents",
   "toc_cell": false,
   "toc_position": {},
   "toc_section_display": true,
   "toc_window_display": true
  }
 },
 "nbformat": 4,
 "nbformat_minor": 2
}
