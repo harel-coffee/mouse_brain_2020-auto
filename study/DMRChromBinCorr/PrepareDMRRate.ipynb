{
 "cells": [
  {
   "cell_type": "code",
   "execution_count": 1,
   "metadata": {
    "ExecuteTime": {
     "end_time": "2019-12-31T17:32:45.574071Z",
     "start_time": "2019-12-31T17:32:44.731417Z"
    }
   },
   "outputs": [
    {
     "name": "stderr",
     "output_type": "stream",
     "text": [
      "/home/hanliu/miniconda3/envs/clustering/lib/python3.7/site-packages/xarray/core/merge.py:18: FutureWarning: The Panel class is removed from pandas. Accessing it from the top-level namespace will also be removed in the next version\n",
      "  PANDAS_TYPES = (pd.Series, pd.DataFrame, pd.Panel)\n",
      "/home/hanliu/miniconda3/envs/clustering/lib/python3.7/site-packages/xarray/core/dataarray.py:1829: FutureWarning: The Panel class is removed from pandas. Accessing it from the top-level namespace will also be removed in the next version\n",
      "  'DataArray', pd.Series, pd.DataFrame, pd.Panel]:\n"
     ]
    }
   ],
   "source": [
    "import pandas as pd\n",
    "import numpy as np\n",
    "from scipy.stats import spearmanr\n",
    "import anndata\n",
    "import xarray as xr\n",
    "import pybedtools\n",
    "import json\n",
    "from scipy.sparse import csr_matrix, save_npz\n",
    "\n",
    "pybedtools.cleanup(remove_all=True)"
   ]
  },
  {
   "cell_type": "code",
   "execution_count": 2,
   "metadata": {
    "ExecuteTime": {
     "end_time": "2019-12-31T17:32:45.585282Z",
     "start_time": "2019-12-31T17:32:45.578745Z"
    }
   },
   "outputs": [],
   "source": [
    "# 145 neuronal subtypes\n",
    "use_clusters = [\n",
    "    'CA1 Ak5', 'CA1 Chrm3', 'CA1 Kif26a', 'CA1 Lingo2', 'CA1 Ptprg',\n",
    "    'CA3 Cadm2', 'CA3 Efnb2', 'CA3-St18 Epha5', 'CA3-St18 Nuak1',\n",
    "    'CA3-St18 Tead1', 'CGE-Lamp5 Dock5', 'CGE-Lamp5 Grid1', 'CGE-Lamp5 Grk5',\n",
    "    'CGE-Lamp5 Nrxn3', 'CGE-Lamp5 Sorcs1', 'CGE-Vip Ccser1', 'CGE-Vip Clstn2',\n",
    "    'CGE-Vip Fstl4', 'CGE-Vip Galnt17', 'CGE-Vip Grm8', 'CGE-Vip Ntng1',\n",
    "    'CGE-Vip Ptprm', 'CGE-Vip Robo1', 'CLA Bcl11a', 'CLA Cdh8', 'CLA Nrp2',\n",
    "    'CT-L6 Hcrtr2', 'CT-L6 Il1rap', 'CT-L6 Map4', 'CT-L6 Megf9', 'Chd7 Kcnc2',\n",
    "    'Chd7 Megf11', 'Chd7 Trpc7', 'D1L-Fstl4 Cadm1', 'D1L-Fstl4 Crim1',\n",
    "    'D1L-Fstl4 Grm3', 'D1L-Fstl4 Sipa1l2', 'D1L-Fstl4 Trps1', 'D1L-PAL Flrt2',\n",
    "    'D1L-PAL Plcxd3', 'DG dg-all', 'DG-po Bcl11a', 'DG-po Calb2',\n",
    "    'DG-po Kctd8', 'EP Adcy8', 'EP Rgs8', 'EP Tspan5', 'Foxp2 Dchs2',\n",
    "    'Foxp2 Homer2', 'Foxp2 Inpp4b', 'Foxp2 Trpc7', 'Gfra1 Gfra1',\n",
    "    'IG-CA2 Chrm3', 'IG-CA2 Peak1', 'IG-CA2 Xpr1', 'IT-L23 Cux1',\n",
    "    'IT-L23 Foxp1', 'IT-L23 Ptprt', 'IT-L23 Tenm2', 'IT-L4 Astn2',\n",
    "    'IT-L4 Shc3', 'IT-L5 Cdh8', 'IT-L5 Etv1', 'IT-L5 Grik3', 'IT-L6 Cadps2',\n",
    "    'IT-L6 Fstl4', 'IT-L6 Man1c1', 'IT-L6 Oxr1', 'L6b Adcy8', 'L6b Kcnk2',\n",
    "    'L6b Nrp2', 'L6b Pkhd1', 'LSX-Inh Cacna1i', 'LSX-Inh Dock10',\n",
    "    'LSX-Inh Enox1', 'LSX-Inh Foxp2', 'LSX-Inh Lats2', 'LSX-Inh Nxph1',\n",
    "    'LSX-Inh Zeb2', 'MGE-Pvalb Cacna1i', 'MGE-Pvalb Cnih3', 'MGE-Pvalb Entpd3',\n",
    "    'MGE-Pvalb Gfra2', 'MGE-Pvalb Ptprk', 'MGE-Pvalb Sema5a',\n",
    "    'MGE-Pvalb Thsd7a', 'MGE-Sst Bmper', 'MGE-Sst Chodl', 'MGE-Sst Dock4',\n",
    "    'MGE-Sst Etv1', 'MGE-Sst Frmd6', 'MGE-Sst Kcnip4', 'MGE-Sst Ptpre',\n",
    "    'MGE-Sst Rerg', 'MGE-Sst Rxra', 'MGE-Sst Ubtd1', 'MGE-Sst Unc5b',\n",
    "    'MSN-D1 Hrh1', 'MSN-D1 Khdrbs3', 'MSN-D1 Ntn1', 'MSN-D1 Plxnc1',\n",
    "    'MSN-D2 Casz1', 'MSN-D2 Col14a1', 'MSN-D2 Nrp2', 'MSN-D2 Slc24a2',\n",
    "    'NP-L6 Boc', 'NP-L6 Cntnap4', 'NP-L6 Cntnap5a', 'NP-L6 Cyp7b1',\n",
    "    'NP-L6 Kcnab1', 'NP-L6 Olfml2b', 'OLF Gabbr2', 'OLF Kcnd3', 'OLF Mapk10',\n",
    "    'OLF Pag1', 'OLF Trpc4', 'OLF Xkr6', 'OLF-Exc Bmpr1b', 'OLF-Exc Cdh9',\n",
    "    'OLF-Exc Cux2', 'OLF-Exc Lrrtm3', 'OLF-Exc Pld5', 'OLF-Exc Rmst',\n",
    "    'OLF-Exc Sgcd', 'OLF-Exc Unc13c', 'PAL-Inh Chat', 'PAL-Inh Deptor',\n",
    "    'PAL-Inh Igdcc3', 'PAL-Inh Meis1', 'PAL-Inh Meis2', 'PAL-Inh Onecut2',\n",
    "    'PAL-Inh Ptprd', 'PAL-Inh Rarb', 'PAL-Inh Tcf7l2', 'PAL-Inh Tmem178',\n",
    "    'PT-L5 Abca12', 'PT-L5 Astn2', 'PT-L5 Kcnh1', 'PT-L5 Nectin1',\n",
    "    'PT-L5 Plcb4', 'PT-L5 Ptprt', 'PT-L5 Tenm2', 'PT-L5 Tmtc2', 'PT-L5 Unc5b',\n",
    "    'Unc5c Unc5c'\n",
    "]"
   ]
  },
  {
   "cell_type": "markdown",
   "metadata": {},
   "source": [
    "## DMR mCG\n",
    "\n",
    "### Fillna"
   ]
  },
  {
   "cell_type": "code",
   "execution_count": null,
   "metadata": {
    "deletable": false,
    "editable": false,
    "run_control": {
     "frozen": true
    }
   },
   "outputs": [],
   "source": [
    "with pd.HDFStore('/home/hanliu/project/mouse_rostral_brain/DMR/SubType/FilteredDMR.h5') as hdf:\n",
    "    dmr_rate = hdf['Rate']\n",
    "    dmr_bed = hdf['Bed']\n",
    "dmr_rate.index = 'Sub' + dmr_bed['#chr'] + '_' + dmr_bed.index.astype(str)"
   ]
  },
  {
   "cell_type": "code",
   "execution_count": null,
   "metadata": {
    "deletable": false,
    "editable": false,
    "run_control": {
     "frozen": true
    }
   },
   "outputs": [],
   "source": [
    "dmr_median = dmr_rate.median(axis=1)\n",
    "no_na_rate = dmr_rate.T.fillna(dmr_median).T"
   ]
  },
  {
   "cell_type": "markdown",
   "metadata": {
    "deletable": false,
    "editable": false,
    "run_control": {
     "frozen": true
    }
   },
   "source": [
    "### Save each chromosom"
   ]
  },
  {
   "cell_type": "code",
   "execution_count": null,
   "metadata": {
    "deletable": false,
    "editable": false,
    "run_control": {
     "frozen": true
    }
   },
   "outputs": [],
   "source": [
    "chrs = dmr_bed['#chr'].copy()\n",
    "chrs.index = no_na_rate.index\n",
    "\n",
    "for chrom, sub_df in no_na_rate.groupby(chrs):\n",
    "    print(chrom)\n",
    "    sub_df.to_msgpack(f'DMR_rate/SubDMR_rate_no_na.{chrom}.msg')"
   ]
  },
  {
   "cell_type": "markdown",
   "metadata": {},
   "source": [
    "## DMR Gene Distance"
   ]
  },
  {
   "cell_type": "code",
   "execution_count": 3,
   "metadata": {
    "ExecuteTime": {
     "end_time": "2019-12-31T17:32:46.378674Z",
     "start_time": "2019-12-31T17:32:46.376761Z"
    }
   },
   "outputs": [],
   "source": [
    "distance_cutoff = 1000000\n",
    "output_dir = 'DMR_5kb_1M_mask'"
   ]
  },
  {
   "cell_type": "code",
   "execution_count": 4,
   "metadata": {
    "ExecuteTime": {
     "end_time": "2019-12-31T17:32:58.956798Z",
     "start_time": "2019-12-31T17:32:46.866060Z"
    }
   },
   "outputs": [],
   "source": [
    "bins = distance_cutoff // 5000\n",
    "\n",
    "with pd.HDFStore('/home/hanliu/project/mouse_rostral_brain/DMR/SubType/FilteredDMR.h5') as hdf:\n",
    "    dmr_bed = hdf['Bed']\n",
    "dmr_bed.index = 'Sub' + dmr_bed['#chr'] + '_' + dmr_bed.index.astype(str)\n",
    "dmr_bed['center'] = (dmr_bed['end'] + dmr_bed['start']) / 2\n",
    "dmr_bed['dmr_int'] = dmr_bed.index.map(lambda i: int(i.split('_')[1]))\n",
    "\n",
    "dmr_bed = dmr_bed[dmr_bed['start'] > distance_cutoff].copy()\n",
    "dmr_bed['center_bin_id'] = (dmr_bed['center'] // 5000).astype(int)\n",
    "dmr_bed['start_bin'] = dmr_bed['center_bin_id'].apply(lambda i: i - bins)\n",
    "dmr_bed['end_bin'] = dmr_bed['center_bin_id'].apply(lambda i: i + bins)"
   ]
  },
  {
   "cell_type": "code",
   "execution_count": 5,
   "metadata": {
    "ExecuteTime": {
     "end_time": "2019-12-31T17:32:58.972245Z",
     "start_time": "2019-12-31T17:32:58.959027Z"
    }
   },
   "outputs": [
    {
     "data": {
      "text/html": [
       "<div>\n",
       "<style scoped>\n",
       "    .dataframe tbody tr th:only-of-type {\n",
       "        vertical-align: middle;\n",
       "    }\n",
       "\n",
       "    .dataframe tbody tr th {\n",
       "        vertical-align: top;\n",
       "    }\n",
       "\n",
       "    .dataframe thead th {\n",
       "        text-align: right;\n",
       "    }\n",
       "</style>\n",
       "<table border=\"1\" class=\"dataframe\">\n",
       "  <thead>\n",
       "    <tr style=\"text-align: right;\">\n",
       "      <th></th>\n",
       "      <th>#chr</th>\n",
       "      <th>start</th>\n",
       "      <th>end</th>\n",
       "      <th>number_of_dms</th>\n",
       "      <th>center</th>\n",
       "      <th>dmr_int</th>\n",
       "      <th>center_bin_id</th>\n",
       "      <th>start_bin</th>\n",
       "      <th>end_bin</th>\n",
       "    </tr>\n",
       "  </thead>\n",
       "  <tbody>\n",
       "    <tr>\n",
       "      <th>Subchr1_0</th>\n",
       "      <td>chr1</td>\n",
       "      <td>3001007</td>\n",
       "      <td>3001018</td>\n",
       "      <td>2</td>\n",
       "      <td>3001012.5</td>\n",
       "      <td>0</td>\n",
       "      <td>600</td>\n",
       "      <td>400</td>\n",
       "      <td>800</td>\n",
       "    </tr>\n",
       "    <tr>\n",
       "      <th>Subchr1_1</th>\n",
       "      <td>chr1</td>\n",
       "      <td>3001277</td>\n",
       "      <td>3001277</td>\n",
       "      <td>1</td>\n",
       "      <td>3001277.0</td>\n",
       "      <td>1</td>\n",
       "      <td>600</td>\n",
       "      <td>400</td>\n",
       "      <td>800</td>\n",
       "    </tr>\n",
       "    <tr>\n",
       "      <th>Subchr1_2</th>\n",
       "      <td>chr1</td>\n",
       "      <td>3001629</td>\n",
       "      <td>3001629</td>\n",
       "      <td>1</td>\n",
       "      <td>3001629.0</td>\n",
       "      <td>2</td>\n",
       "      <td>600</td>\n",
       "      <td>400</td>\n",
       "      <td>800</td>\n",
       "    </tr>\n",
       "    <tr>\n",
       "      <th>Subchr1_3</th>\n",
       "      <td>chr1</td>\n",
       "      <td>3003379</td>\n",
       "      <td>3003898</td>\n",
       "      <td>6</td>\n",
       "      <td>3003638.5</td>\n",
       "      <td>3</td>\n",
       "      <td>600</td>\n",
       "      <td>400</td>\n",
       "      <td>800</td>\n",
       "    </tr>\n",
       "    <tr>\n",
       "      <th>Subchr1_4</th>\n",
       "      <td>chr1</td>\n",
       "      <td>3004530</td>\n",
       "      <td>3004530</td>\n",
       "      <td>1</td>\n",
       "      <td>3004530.0</td>\n",
       "      <td>4</td>\n",
       "      <td>600</td>\n",
       "      <td>400</td>\n",
       "      <td>800</td>\n",
       "    </tr>\n",
       "  </tbody>\n",
       "</table>\n",
       "</div>"
      ],
      "text/plain": [
       "           #chr    start      end  number_of_dms     center  dmr_int  \\\n",
       "Subchr1_0  chr1  3001007  3001018              2  3001012.5        0   \n",
       "Subchr1_1  chr1  3001277  3001277              1  3001277.0        1   \n",
       "Subchr1_2  chr1  3001629  3001629              1  3001629.0        2   \n",
       "Subchr1_3  chr1  3003379  3003898              6  3003638.5        3   \n",
       "Subchr1_4  chr1  3004530  3004530              1  3004530.0        4   \n",
       "\n",
       "           center_bin_id  start_bin  end_bin  \n",
       "Subchr1_0            600        400      800  \n",
       "Subchr1_1            600        400      800  \n",
       "Subchr1_2            600        400      800  \n",
       "Subchr1_3            600        400      800  \n",
       "Subchr1_4            600        400      800  "
      ]
     },
     "execution_count": 5,
     "metadata": {},
     "output_type": "execute_result"
    }
   ],
   "source": [
    "dmr_bed.head()"
   ]
  },
  {
   "cell_type": "code",
   "execution_count": 6,
   "metadata": {
    "ExecuteTime": {
     "end_time": "2019-12-31T17:29:32.896815Z",
     "start_time": "2019-12-31T17:29:32.540575Z"
    }
   },
   "outputs": [],
   "source": [
    "chrom_bin_bed = pd.read_csv('SubTypeBins/mm10.w5k.remove_black.bed', \n",
    "                            sep='\\t', index_col=3, header=None)"
   ]
  },
  {
   "cell_type": "code",
   "execution_count": 7,
   "metadata": {
    "ExecuteTime": {
     "end_time": "2019-12-31T17:31:44.134179Z",
     "start_time": "2019-12-31T17:29:32.898243Z"
    },
    "scrolled": true
   },
   "outputs": [
    {
     "name": "stdout",
     "output_type": "stream",
     "text": [
      "chr1\n"
     ]
    },
    {
     "name": "stderr",
     "output_type": "stream",
     "text": [
      "Trying to set attribute `.obs` of view, making a copy.\n",
      "... storing '#chr' as categorical\n"
     ]
    },
    {
     "name": "stdout",
     "output_type": "stream",
     "text": [
      "chr10\n"
     ]
    },
    {
     "name": "stderr",
     "output_type": "stream",
     "text": [
      "Trying to set attribute `.obs` of view, making a copy.\n",
      "... storing '#chr' as categorical\n"
     ]
    },
    {
     "name": "stdout",
     "output_type": "stream",
     "text": [
      "chr11\n"
     ]
    },
    {
     "name": "stderr",
     "output_type": "stream",
     "text": [
      "Trying to set attribute `.obs` of view, making a copy.\n",
      "... storing '#chr' as categorical\n"
     ]
    },
    {
     "name": "stdout",
     "output_type": "stream",
     "text": [
      "chr12\n"
     ]
    },
    {
     "name": "stderr",
     "output_type": "stream",
     "text": [
      "Trying to set attribute `.obs` of view, making a copy.\n",
      "... storing '#chr' as categorical\n"
     ]
    },
    {
     "name": "stdout",
     "output_type": "stream",
     "text": [
      "chr13\n"
     ]
    },
    {
     "name": "stderr",
     "output_type": "stream",
     "text": [
      "Trying to set attribute `.obs` of view, making a copy.\n",
      "... storing '#chr' as categorical\n"
     ]
    },
    {
     "name": "stdout",
     "output_type": "stream",
     "text": [
      "chr14\n"
     ]
    },
    {
     "name": "stderr",
     "output_type": "stream",
     "text": [
      "Trying to set attribute `.obs` of view, making a copy.\n",
      "... storing '#chr' as categorical\n"
     ]
    },
    {
     "name": "stdout",
     "output_type": "stream",
     "text": [
      "chr15\n"
     ]
    },
    {
     "name": "stderr",
     "output_type": "stream",
     "text": [
      "Trying to set attribute `.obs` of view, making a copy.\n",
      "... storing '#chr' as categorical\n"
     ]
    },
    {
     "name": "stdout",
     "output_type": "stream",
     "text": [
      "chr16\n"
     ]
    },
    {
     "name": "stderr",
     "output_type": "stream",
     "text": [
      "Trying to set attribute `.obs` of view, making a copy.\n",
      "... storing '#chr' as categorical\n"
     ]
    },
    {
     "name": "stdout",
     "output_type": "stream",
     "text": [
      "chr17\n"
     ]
    },
    {
     "name": "stderr",
     "output_type": "stream",
     "text": [
      "Trying to set attribute `.obs` of view, making a copy.\n",
      "... storing '#chr' as categorical\n"
     ]
    },
    {
     "name": "stdout",
     "output_type": "stream",
     "text": [
      "chr18\n"
     ]
    },
    {
     "name": "stderr",
     "output_type": "stream",
     "text": [
      "Trying to set attribute `.obs` of view, making a copy.\n",
      "... storing '#chr' as categorical\n"
     ]
    },
    {
     "name": "stdout",
     "output_type": "stream",
     "text": [
      "chr19\n"
     ]
    },
    {
     "name": "stderr",
     "output_type": "stream",
     "text": [
      "Trying to set attribute `.obs` of view, making a copy.\n",
      "... storing '#chr' as categorical\n"
     ]
    },
    {
     "name": "stdout",
     "output_type": "stream",
     "text": [
      "chr2\n"
     ]
    },
    {
     "name": "stderr",
     "output_type": "stream",
     "text": [
      "Trying to set attribute `.obs` of view, making a copy.\n",
      "... storing '#chr' as categorical\n"
     ]
    },
    {
     "name": "stdout",
     "output_type": "stream",
     "text": [
      "chr3\n"
     ]
    },
    {
     "name": "stderr",
     "output_type": "stream",
     "text": [
      "Trying to set attribute `.obs` of view, making a copy.\n",
      "... storing '#chr' as categorical\n"
     ]
    },
    {
     "name": "stdout",
     "output_type": "stream",
     "text": [
      "chr4\n"
     ]
    },
    {
     "name": "stderr",
     "output_type": "stream",
     "text": [
      "Trying to set attribute `.obs` of view, making a copy.\n",
      "... storing '#chr' as categorical\n"
     ]
    },
    {
     "name": "stdout",
     "output_type": "stream",
     "text": [
      "chr5\n"
     ]
    },
    {
     "name": "stderr",
     "output_type": "stream",
     "text": [
      "Trying to set attribute `.obs` of view, making a copy.\n",
      "... storing '#chr' as categorical\n"
     ]
    },
    {
     "name": "stdout",
     "output_type": "stream",
     "text": [
      "chr6\n"
     ]
    },
    {
     "name": "stderr",
     "output_type": "stream",
     "text": [
      "Trying to set attribute `.obs` of view, making a copy.\n",
      "... storing '#chr' as categorical\n"
     ]
    },
    {
     "name": "stdout",
     "output_type": "stream",
     "text": [
      "chr7\n"
     ]
    },
    {
     "name": "stderr",
     "output_type": "stream",
     "text": [
      "Trying to set attribute `.obs` of view, making a copy.\n",
      "... storing '#chr' as categorical\n"
     ]
    },
    {
     "name": "stdout",
     "output_type": "stream",
     "text": [
      "chr8\n"
     ]
    },
    {
     "name": "stderr",
     "output_type": "stream",
     "text": [
      "Trying to set attribute `.obs` of view, making a copy.\n",
      "... storing '#chr' as categorical\n"
     ]
    },
    {
     "name": "stdout",
     "output_type": "stream",
     "text": [
      "chr9\n"
     ]
    },
    {
     "name": "stderr",
     "output_type": "stream",
     "text": [
      "Trying to set attribute `.obs` of view, making a copy.\n",
      "... storing '#chr' as categorical\n"
     ]
    },
    {
     "name": "stdout",
     "output_type": "stream",
     "text": [
      "chrX\n"
     ]
    },
    {
     "name": "stderr",
     "output_type": "stream",
     "text": [
      "Trying to set attribute `.obs` of view, making a copy.\n",
      "... storing '#chr' as categorical\n"
     ]
    },
    {
     "name": "stdout",
     "output_type": "stream",
     "text": [
      "chrY\n"
     ]
    },
    {
     "name": "stderr",
     "output_type": "stream",
     "text": [
      "Trying to set attribute `.obs` of view, making a copy.\n",
      "... storing '#chr' as categorical\n"
     ]
    }
   ],
   "source": [
    "for chrom, sub_df in dmr_bed.groupby('#chr'):\n",
    "    print(chrom)\n",
    "    # dmr_bed = dmr_bed[dmr_bed['start'] > distance_cutoff].copy()\n",
    "    # so i-bins >= 0\n",
    "    indices = np.concatenate(sub_df['center_bin_id'].apply(lambda i: np.arange(\n",
    "        i - bins, i + bins)).tolist())\n",
    "    indptr = np.arange(0, indices.size + bins * 2, bins * 2)\n",
    "    data = np.ones_like(indices)\n",
    "\n",
    "    chrom_csr = csr_matrix((data, indices, indptr),\n",
    "                           shape=(sub_df.shape[0], sub_df['end_bin'].max()))\n",
    "\n",
    "    chrom_adata = anndata.AnnData(\n",
    "        X=chrom_csr,\n",
    "        obs=sub_df[['#chr', 'start', 'end', 'number_of_dms']],\n",
    "        var=pd.DataFrame([],\n",
    "                         pd.Index((f'{chrom}_{i+1}'\n",
    "                                   for i in range(chrom_csr.shape[1])))))\n",
    "    use_index = chrom_bin_bed[chrom_bin_bed[0] == chrom].index\n",
    "    chrom_adata = chrom_adata[:, use_index]\n",
    "\n",
    "    chrom_adata.write_h5ad(f'DMR_5kb_1M_mask/{chrom}.h5ad')\n",
    "    "
   ]
  },
  {
   "cell_type": "code",
   "execution_count": null,
   "metadata": {},
   "outputs": [],
   "source": []
  },
  {
   "cell_type": "code",
   "execution_count": null,
   "metadata": {},
   "outputs": [],
   "source": []
  },
  {
   "cell_type": "code",
   "execution_count": null,
   "metadata": {},
   "outputs": [],
   "source": []
  },
  {
   "cell_type": "code",
   "execution_count": null,
   "metadata": {},
   "outputs": [],
   "source": []
  }
 ],
 "metadata": {
  "hide_input": false,
  "kernelspec": {
   "display_name": "Python 3",
   "language": "python",
   "name": "python3"
  },
  "language_info": {
   "codemirror_mode": {
    "name": "ipython",
    "version": 3
   },
   "file_extension": ".py",
   "mimetype": "text/x-python",
   "name": "python",
   "nbconvert_exporter": "python",
   "pygments_lexer": "ipython3",
   "version": "3.7.3"
  },
  "toc": {
   "base_numbering": 1,
   "nav_menu": {},
   "number_sections": true,
   "sideBar": true,
   "skip_h1_title": true,
   "title_cell": "Table of Contents",
   "title_sidebar": "Contents",
   "toc_cell": false,
   "toc_position": {},
   "toc_section_display": true,
   "toc_window_display": true
  }
 },
 "nbformat": 4,
 "nbformat_minor": 2
}
