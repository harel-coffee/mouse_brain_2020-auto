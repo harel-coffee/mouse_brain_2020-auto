{
 "cells": [
  {
   "cell_type": "code",
   "execution_count": 1,
   "metadata": {
    "ExecuteTime": {
     "end_time": "2019-12-18T00:34:29.177897Z",
     "start_time": "2019-12-18T00:34:29.026129Z"
    }
   },
   "outputs": [],
   "source": [
    "import pathlib\n",
    "import pandas as pd"
   ]
  },
  {
   "cell_type": "markdown",
   "metadata": {},
   "source": [
    "## Major Type And Sub Type Pairwise Gene"
   ]
  },
  {
   "cell_type": "code",
   "execution_count": 2,
   "metadata": {
    "ExecuteTime": {
     "end_time": "2019-12-18T00:34:30.152163Z",
     "start_time": "2019-12-18T00:34:29.368590Z"
    }
   },
   "outputs": [],
   "source": [
    "major_type_pairwise = pd.read_csv('MajorTypePairwiseDEG/TotalPairwiseMarker.csv', index_col=0)"
   ]
  },
  {
   "cell_type": "code",
   "execution_count": 3,
   "metadata": {
    "ExecuteTime": {
     "end_time": "2019-12-18T00:34:31.213534Z",
     "start_time": "2019-12-18T00:34:30.153842Z"
    }
   },
   "outputs": [],
   "source": [
    "sub_type_dir = pathlib.Path('SubTypePairwiseDEG/')\n",
    "sub_type_paths = list(sub_type_dir.glob('*/TotalPairwiseMarker.csv'))\n",
    "\n",
    "records = []\n",
    "for path in sub_type_paths:\n",
    "    df = pd.read_csv(path, index_col=0)\n",
    "    records.append(df)\n",
    "sub_type_pairwise = pd.concat(records)"
   ]
  },
  {
   "cell_type": "code",
   "execution_count": 4,
   "metadata": {
    "ExecuteTime": {
     "end_time": "2019-12-18T00:34:32.061642Z",
     "start_time": "2019-12-18T00:34:31.215069Z"
    }
   },
   "outputs": [
    {
     "name": "stderr",
     "output_type": "stream",
     "text": [
      "/home/hanliu/miniconda3/envs/clustering/lib/python3.7/site-packages/ipykernel_launcher.py:1: FutureWarning: to_msgpack is deprecated and will be removed in a future version.\n",
      "It is recommended to use pyarrow for on-the-wire transmission of pandas objects.\n",
      "  \"\"\"Entry point for launching an IPython kernel.\n",
      "/home/hanliu/miniconda3/envs/clustering/lib/python3.7/site-packages/ipykernel_launcher.py:2: FutureWarning: to_msgpack is deprecated and will be removed in a future version.\n",
      "It is recommended to use pyarrow for on-the-wire transmission of pandas objects.\n",
      "  \n"
     ]
    }
   ],
   "source": [
    "major_type_pairwise.to_msgpack('MajorTypePairwiseMarker.msg')\n",
    "sub_type_pairwise.to_msgpack('SubTypePairwiseMarker.msg')"
   ]
  },
  {
   "cell_type": "code",
   "execution_count": 5,
   "metadata": {
    "ExecuteTime": {
     "end_time": "2019-12-18T00:34:32.139607Z",
     "start_time": "2019-12-18T00:34:32.063050Z"
    }
   },
   "outputs": [],
   "source": [
    "major_type_marker = major_type_pairwise['gene_id'].unique()\n",
    "sub_type_marker = sub_type_pairwise['gene_id'].unique()"
   ]
  },
  {
   "cell_type": "code",
   "execution_count": 6,
   "metadata": {
    "ExecuteTime": {
     "end_time": "2019-12-18T00:34:32.879694Z",
     "start_time": "2019-12-18T00:34:32.814582Z"
    }
   },
   "outputs": [],
   "source": [
    "total_marker_gene = pd.Index(sub_type_marker) | pd.Index(major_type_marker)"
   ]
  },
  {
   "cell_type": "code",
   "execution_count": 7,
   "metadata": {
    "ExecuteTime": {
     "end_time": "2019-12-18T00:34:33.256149Z",
     "start_time": "2019-12-18T00:34:33.110026Z"
    }
   },
   "outputs": [],
   "source": [
    "gene_meta = pd.read_csv(\n",
    "    '/home/hanliu/project/mouse_rostral_brain/study/ClusterMethylMarker/gencode.vM22.annotation.gene.flat.filtered_white_genes.tsv.gz',\n",
    "    index_col='gene_id',\n",
    "    sep='\\t')\n",
    "gene_meta.index.name = 'gene'\n",
    "gene_name_to_id = {v: k for k, v in gene_meta['gene_name'].iteritems()}\n",
    "gene_idbase_to_id = {i.split('.')[0]: i for i in gene_meta.index}"
   ]
  },
  {
   "cell_type": "code",
   "execution_count": 8,
   "metadata": {
    "ExecuteTime": {
     "end_time": "2019-12-18T00:34:34.226671Z",
     "start_time": "2019-12-18T00:34:34.092738Z"
    },
    "scrolled": false
   },
   "outputs": [],
   "source": [
    "marker_meta = gene_meta.loc[total_marker_gene]\n",
    "marker_id_bases = marker_meta.index.map(lambda i: i.split('.')[0])\n",
    "\n",
    "marker_meta.to_csv('TotalUniquePairwiseMarker.csv')"
   ]
  },
  {
   "cell_type": "markdown",
   "metadata": {},
   "source": [
    "## Overlap with SynGO"
   ]
  },
  {
   "cell_type": "code",
   "execution_count": 9,
   "metadata": {
    "ExecuteTime": {
     "end_time": "2019-12-18T00:34:36.924130Z",
     "start_time": "2019-12-18T00:34:36.847269Z"
    }
   },
   "outputs": [],
   "source": [
    "import json\n",
    "with open('/home/hanliu/ref/SynGO/bp_syngo_to_mouse_gene.json') as f:\n",
    "    syngo_bp = json.load(f)\n",
    "with open('/home/hanliu/ref/SynGO/cc_syngo_to_mouse_gene.json') as f:\n",
    "    syngo_cc = json.load(f)"
   ]
  },
  {
   "cell_type": "code",
   "execution_count": 10,
   "metadata": {
    "ExecuteTime": {
     "end_time": "2019-12-18T00:34:38.664277Z",
     "start_time": "2019-12-18T00:34:38.654781Z"
    }
   },
   "outputs": [],
   "source": [
    "syngo_genes = set()\n",
    "for l in syngo_bp.values():\n",
    "    for g in l:\n",
    "        syngo_genes.add(g)\n",
    "for l in syngo_cc.values():\n",
    "    for g in l:\n",
    "        syngo_genes.add(g)\n",
    "        \n",
    "syngo_genes = pd.Index(syngo_genes)\n",
    "\n",
    "hit_syngo_genes = syngo_genes & marker_id_bases\n",
    "miss_syngo_genes = pd.Index([g for g in syngo_genes if g not in marker_id_bases])\n"
   ]
  },
  {
   "cell_type": "code",
   "execution_count": 11,
   "metadata": {
    "ExecuteTime": {
     "end_time": "2019-12-18T00:34:40.252819Z",
     "start_time": "2019-12-18T00:34:40.248812Z"
    }
   },
   "outputs": [
    {
     "data": {
      "text/plain": [
       "(839, 285)"
      ]
     },
     "execution_count": 11,
     "metadata": {},
     "output_type": "execute_result"
    }
   ],
   "source": [
    "hit_syngo_genes.size, miss_syngo_genes.size"
   ]
  },
  {
   "cell_type": "code",
   "execution_count": 27,
   "metadata": {
    "ExecuteTime": {
     "end_time": "2019-12-18T01:15:19.810138Z",
     "start_time": "2019-12-18T01:15:19.762598Z"
    }
   },
   "outputs": [],
   "source": [
    "with open('TotalHitSynGOID.txt', 'w') as f:\n",
    "    hit_syngo_ids = marker_meta.index[marker_meta.index.map(lambda i: i.split('.')[0] in hit_syngo_genes)]\n",
    "    for g in hit_syngo_ids:\n",
    "        f.write(f'{g}\\n')"
   ]
  },
  {
   "cell_type": "markdown",
   "metadata": {},
   "source": [
    "## Overlap with TF"
   ]
  },
  {
   "cell_type": "code",
   "execution_count": 14,
   "metadata": {
    "ExecuteTime": {
     "end_time": "2019-12-18T00:35:33.743514Z",
     "start_time": "2019-12-18T00:35:33.702424Z"
    }
   },
   "outputs": [],
   "source": [
    "marker_meta = pd.read_csv('TotalUniquePairwiseMarker.csv', index_col=0)"
   ]
  },
  {
   "cell_type": "code",
   "execution_count": 15,
   "metadata": {
    "ExecuteTime": {
     "end_time": "2019-12-18T00:35:34.285845Z",
     "start_time": "2019-12-18T00:35:34.152823Z"
    }
   },
   "outputs": [],
   "source": [
    "mouse_tf_gene = pd.read_csv('/home/hanliu/ref/TFGene/TFCat/Mouse.RIKEN.TFGene.EnsemblID.txt',\n",
    "                            header=None, index_col=0).index\n",
    "tfclass_tf_gene = pd.read_csv('/home/hanliu/ref/TFGene/TFClass/TFClass.with_mouse_gene_id.csv')\n",
    "tf_class_ids = pd.Index(set([g for gs in tfclass_tf_gene['EnsemblID'] \n",
    " if isinstance(gs, str) \n",
    " for g in gs.split(',')]))\n",
    "_total_idbase = tf_class_ids | mouse_tf_gene\n",
    "total_ids = gene_meta[gene_meta.index.map(lambda i: i.split('.')[0] in _total_idbase)].index\n"
   ]
  },
  {
   "cell_type": "code",
   "execution_count": 21,
   "metadata": {
    "ExecuteTime": {
     "end_time": "2019-12-18T00:36:27.528390Z",
     "start_time": "2019-12-18T00:36:27.524162Z"
    },
    "scrolled": true
   },
   "outputs": [
    {
     "data": {
      "text/plain": [
       "(1247, 1920)"
      ]
     },
     "execution_count": 21,
     "metadata": {},
     "output_type": "execute_result"
    }
   ],
   "source": [
    "hit_tfs = marker_meta.index[marker_meta.index.isin(total_ids)]\n",
    "hit_tfs.size, total_ids.size"
   ]
  },
  {
   "cell_type": "code",
   "execution_count": 22,
   "metadata": {
    "ExecuteTime": {
     "end_time": "2019-12-18T00:36:37.255767Z",
     "start_time": "2019-12-18T00:36:37.252915Z"
    }
   },
   "outputs": [],
   "source": [
    "with open('TotalHitTFID.txt', 'w') as f:\n",
    "    for g in hit_tfs:\n",
    "        f.write(f'{g}\\n')"
   ]
  },
  {
   "cell_type": "code",
   "execution_count": null,
   "metadata": {},
   "outputs": [],
   "source": []
  },
  {
   "cell_type": "code",
   "execution_count": null,
   "metadata": {},
   "outputs": [],
   "source": []
  },
  {
   "cell_type": "code",
   "execution_count": null,
   "metadata": {},
   "outputs": [],
   "source": []
  },
  {
   "cell_type": "code",
   "execution_count": null,
   "metadata": {},
   "outputs": [],
   "source": []
  }
 ],
 "metadata": {
  "hide_input": false,
  "kernelspec": {
   "display_name": "Python 3",
   "language": "python",
   "name": "python3"
  },
  "language_info": {
   "codemirror_mode": {
    "name": "ipython",
    "version": 3
   },
   "file_extension": ".py",
   "mimetype": "text/x-python",
   "name": "python",
   "nbconvert_exporter": "python",
   "pygments_lexer": "ipython3",
   "version": "3.7.3"
  },
  "toc": {
   "base_numbering": 1,
   "nav_menu": {},
   "number_sections": true,
   "sideBar": true,
   "skip_h1_title": true,
   "title_cell": "Table of Contents",
   "title_sidebar": "Contents",
   "toc_cell": false,
   "toc_position": {},
   "toc_section_display": true,
   "toc_window_display": true
  }
 },
 "nbformat": 4,
 "nbformat_minor": 2
}
