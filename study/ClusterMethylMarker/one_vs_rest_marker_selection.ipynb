{
 "cells": [
  {
   "cell_type": "markdown",
   "metadata": {},
   "source": [
    "## Marker Selection"
   ]
  },
  {
   "cell_type": "code",
   "execution_count": 1,
   "metadata": {
    "ExecuteTime": {
     "end_time": "2019-12-13T23:51:18.578273Z",
     "start_time": "2019-12-13T23:51:16.328022Z"
    }
   },
   "outputs": [],
   "source": [
    "import pathlib\n",
    "import random\n",
    "import warnings\n",
    "warnings.filterwarnings('ignore')\n",
    "\n",
    "from concurrent.futures import ProcessPoolExecutor, as_completed\n",
    "from itertools import combinations\n",
    "\n",
    "import anndata\n",
    "import matplotlib.pyplot as plt\n",
    "import numpy as np\n",
    "import pandas as pd\n",
    "import scanpy as sc\n",
    "import seaborn as sns\n",
    "import xarray as xr\n",
    "from cemba_data.tools.hdf5.anndata import rank_features_groups\n",
    "from sklearn.metrics import roc_auc_score\n"
   ]
  },
  {
   "cell_type": "markdown",
   "metadata": {},
   "source": [
    "## Parameter"
   ]
  },
  {
   "cell_type": "code",
   "execution_count": 2,
   "metadata": {
    "ExecuteTime": {
     "end_time": "2019-12-13T23:51:18.586790Z",
     "start_time": "2019-12-13T23:51:18.582757Z"
    },
    "tags": [
     "parameters"
    ]
   },
   "outputs": [],
   "source": [
    "cluster_col = 'MajorType'\n",
    "study_name = 'Test'\n",
    "\n",
    "use_clusters = [\n",
    "    'MGE-Sst', 'CA3', 'CA1', 'CA3-St18', 'Unc5c', 'Gfra1', 'IT-L5', 'NP-L6',\n",
    "    'CGE-Lamp5', 'CT-L6', 'IG-CA2', 'DG-po', 'DG', 'CGE-Vip', 'PAL-Inh',\n",
    "    'PT-L5', 'MGE-Pvalb', 'OLF', 'MSN-D2', 'L6b', 'IT-L6', 'IT-L23', 'IT-L4',\n",
    "    'OLF-Exc', 'CLA', 'Foxp2', 'MSN-D1', 'LSX-Inh', 'D1L-Fstl4', 'D1L-PAL',\n",
    "    'Chd7'\n",
    "]\n",
    "\n",
    "cpu = 30\n",
    "top_n = 10000\n",
    "adj_p_cutoff = 1e-2\n",
    "delta_rate_cutoff = -0.3\n",
    "min_cluster_cell_number = 10\n",
    "max_test_cell_population = 10\n",
    "auroc_cutoff = 0.8"
   ]
  },
  {
   "cell_type": "markdown",
   "metadata": {},
   "source": [
    "### Stable Parameter"
   ]
  },
  {
   "cell_type": "code",
   "execution_count": 3,
   "metadata": {
    "ExecuteTime": {
     "end_time": "2019-12-13T23:51:18.590703Z",
     "start_time": "2019-12-13T23:51:18.588066Z"
    }
   },
   "outputs": [],
   "source": [
    "random_seed = 0\n",
    "chunk_size = 1\n",
    "output_dir = 'Markers'\n",
    "tidy_data_path = '/home/hanliu/project/mouse_rostral_brain/study/ClusteringSummary/Summary/TotalClusteringResults.msg'\n",
    "output_dir = pathlib.Path(output_dir)\n",
    "output_dir.mkdir(exist_ok=True)"
   ]
  },
  {
   "cell_type": "markdown",
   "metadata": {},
   "source": [
    "## Load Data"
   ]
  },
  {
   "cell_type": "markdown",
   "metadata": {},
   "source": [
    "### Cell Tidy Data"
   ]
  },
  {
   "cell_type": "code",
   "execution_count": 4,
   "metadata": {
    "ExecuteTime": {
     "end_time": "2019-12-13T23:51:19.896819Z",
     "start_time": "2019-12-13T23:51:19.462917Z"
    }
   },
   "outputs": [
    {
     "data": {
      "text/plain": [
       "95149"
      ]
     },
     "execution_count": 4,
     "metadata": {},
     "output_type": "execute_result"
    }
   ],
   "source": [
    "cell_tidy_data = pd.read_msgpack(tidy_data_path)\n",
    "\n",
    "if use_clusters is not None:\n",
    "    cell_tidy_data = cell_tidy_data[cell_tidy_data[cluster_col].isin(use_clusters)]\n",
    "cell_tidy_data.shape[0]"
   ]
  },
  {
   "cell_type": "code",
   "execution_count": 5,
   "metadata": {
    "ExecuteTime": {
     "end_time": "2019-12-13T23:51:20.081293Z",
     "start_time": "2019-12-13T23:51:19.911915Z"
    },
    "scrolled": true
   },
   "outputs": [
    {
     "data": {
      "text/plain": [
       "IG-CA2       10\n",
       "Unc5c        10\n",
       "Gfra1        10\n",
       "IT-L4        10\n",
       "MGE-Pvalb    10\n",
       "PAL-Inh      10\n",
       "D1L-Fstl4    10\n",
       "IT-L23       10\n",
       "NP-L6        10\n",
       "D1L-PAL      10\n",
       "DG-po        10\n",
       "Foxp2        10\n",
       "CA1          10\n",
       "IT-L6        10\n",
       "Chd7         10\n",
       "OLF-Exc      10\n",
       "PT-L5        10\n",
       "CGE-Vip      10\n",
       "CLA          10\n",
       "DG           10\n",
       "L6b          10\n",
       "CGE-Lamp5    10\n",
       "CT-L6        10\n",
       "OLF          10\n",
       "MSN-D1       10\n",
       "CA3-St18     10\n",
       "IT-L5        10\n",
       "LSX-Inh      10\n",
       "MSN-D2       10\n",
       "MGE-Sst      10\n",
       "CA3          10\n",
       "Name: MajorType, dtype: int64"
      ]
     },
     "execution_count": 5,
     "metadata": {},
     "output_type": "execute_result"
    }
   ],
   "source": [
    "records = []\n",
    "for cluster, sub_df in cell_tidy_data.groupby(cluster_col):\n",
    "    if sub_df.shape[0] < max_test_cell_population:\n",
    "        records.append(sub_df)\n",
    "    else:\n",
    "        records.append(sub_df.sample(max_test_cell_population, random_state=random_seed))\n",
    "cell_tidy_data = pd.concat(records)\n",
    "cell_tidy_data[cluster_col].value_counts()"
   ]
  },
  {
   "cell_type": "markdown",
   "metadata": {},
   "source": [
    "### Gene meta"
   ]
  },
  {
   "cell_type": "code",
   "execution_count": 6,
   "metadata": {
    "ExecuteTime": {
     "end_time": "2019-12-13T23:51:21.504200Z",
     "start_time": "2019-12-13T23:51:21.335379Z"
    }
   },
   "outputs": [],
   "source": [
    "gene_meta = pd.read_csv(\n",
    "    '/home/hanliu/project/mouse_rostral_brain/study/ClusterMethylMarker/gencode.vM22.annotation.gene.flat.filtered_white_genes.tsv.gz',\n",
    "    index_col='gene_id',\n",
    "    sep='\\t')\n",
    "gene_meta.index.name = 'gene'\n",
    "gene_name_to_id = {v: k for k, v in gene_meta['gene_name'].iteritems()}\n",
    "gene_idbase_to_id = {i.split('.')[0]: i for i in gene_meta.index}"
   ]
  },
  {
   "cell_type": "markdown",
   "metadata": {},
   "source": [
    "### Adata"
   ]
  },
  {
   "cell_type": "code",
   "execution_count": 7,
   "metadata": {
    "ExecuteTime": {
     "end_time": "2019-12-13T23:51:24.092403Z",
     "start_time": "2019-12-13T23:51:22.266781Z"
    }
   },
   "outputs": [],
   "source": [
    "gene_mcds = xr.open_mfdataset(\n",
    "    '/home/hanliu/project/mouse_rostral_brain/study/Level1-CellClass/ALL_manual/Adata/SelectedCell.gene_da_rate.*.mcds'\n",
    ")\n",
    "use_gene = gene_mcds.get_index('gene') & gene_meta.index\n",
    "gene_meta = gene_meta.reindex(use_gene)"
   ]
  },
  {
   "cell_type": "code",
   "execution_count": 8,
   "metadata": {
    "ExecuteTime": {
     "end_time": "2019-12-13T23:51:24.104817Z",
     "start_time": "2019-12-13T23:51:24.094207Z"
    }
   },
   "outputs": [
    {
     "data": {
      "text/plain": [
       "<xarray.Dataset>\n",
       "Dimensions:      (cell: 104340, gene: 55487, mc_type: 2)\n",
       "Coordinates:\n",
       "  * mc_type      (mc_type) object 'CGN' 'CHN'\n",
       "  * gene         (gene) object 'ENSMUSG00000102693.1' ... 'ENSMUSG00000064372.1'\n",
       "    strand_type  <U4 'both'\n",
       "    gene_chrom   (gene) object 'chr1' 'chr1' 'chr1' ... 'chrM' 'chrM' 'chrM'\n",
       "    gene_start   (gene) int64 3073252 3102015 3205900 ... 14144 15288 15355\n",
       "    gene_end     (gene) int64 3074321 3102124 3671497 ... 15287 15354 15421\n",
       "  * cell         (cell) object '1A_M_0' '1A_M_1' ... '8J_M_1291' '8J_M_1292'\n",
       "Data variables:\n",
       "    gene_da      (cell, gene, mc_type) float64 dask.array<shape=(104340, 55487, 2), chunksize=(10000, 55487, 2)>"
      ]
     },
     "execution_count": 8,
     "metadata": {},
     "output_type": "execute_result"
    }
   ],
   "source": [
    "gene_mcds"
   ]
  },
  {
   "cell_type": "code",
   "execution_count": 9,
   "metadata": {
    "ExecuteTime": {
     "end_time": "2019-12-13T23:51:24.158781Z",
     "start_time": "2019-12-13T23:51:24.106379Z"
    }
   },
   "outputs": [
    {
     "data": {
      "text/plain": [
       "<xarray.DataArray 'gene_da' (cell: 310, gene: 19828)>\n",
       "dask.array<shape=(310, 19828), dtype=float64, chunksize=(2, 19828)>\n",
       "Coordinates:\n",
       "    mc_type      <U3 'CHN'\n",
       "  * gene         (gene) object 'ENSMUSG00000051951.5' ... 'ENSMUSG00000095950.2'\n",
       "    strand_type  <U4 'both'\n",
       "    gene_chrom   (gene) object 'chr1' 'chr1' 'chr1' ... 'chrY' 'chrY' 'chrY'\n",
       "    gene_start   (gene) int64 3205900 3999556 4490930 ... 10412736 10533608\n",
       "    gene_end     (gene) int64 3671497 4409240 4497353 ... 10444690 10536041\n",
       "  * cell         (cell) object '9H_M_1742' '9H_M_2429' ... '8B_M_2733'"
      ]
     },
     "execution_count": 9,
     "metadata": {},
     "output_type": "execute_result"
    }
   ],
   "source": [
    "gene_mcds = gene_mcds['gene_da'].sel(mc_type='CHN', \n",
    "                                     cell=cell_tidy_data.index,\n",
    "                                     gene=gene_meta.index)\n",
    "gene_mcds"
   ]
  },
  {
   "cell_type": "code",
   "execution_count": 10,
   "metadata": {
    "ExecuteTime": {
     "end_time": "2019-12-13T23:52:58.379539Z",
     "start_time": "2019-12-13T23:51:25.822755Z"
    }
   },
   "outputs": [],
   "source": [
    "adata = anndata.AnnData(X=gene_mcds.values,\n",
    "                        obs=pd.DataFrame([], gene_mcds.get_index('cell')),\n",
    "                        var=pd.DataFrame([], gene_mcds.get_index('gene')))\n",
    "adata"
   ]
  },
  {
   "cell_type": "markdown",
   "metadata": {},
   "source": [
    "## Calculate Cluster Mean"
   ]
  },
  {
   "cell_type": "code",
   "execution_count": 12,
   "metadata": {
    "ExecuteTime": {
     "end_time": "2019-12-13T23:52:58.726932Z",
     "start_time": "2019-12-13T23:52:58.388050Z"
    }
   },
   "outputs": [],
   "source": [
    "records = {}\n",
    "for cluster, sub_df in cell_tidy_data.groupby(cluster_col):\n",
    "    sub_adata = adata[sub_df.index, :]\n",
    "    gene_mean = sub_adata.X.mean(axis=0)\n",
    "    records[cluster] = pd.Series(gene_mean, index=sub_adata.var_names)\n",
    "cluster_mean_gene_df = pd.DataFrame(records)"
   ]
  },
  {
   "cell_type": "markdown",
   "metadata": {},
   "source": [
    "## Filter by cluster delta"
   ]
  },
  {
   "cell_type": "code",
   "execution_count": 13,
   "metadata": {
    "ExecuteTime": {
     "end_time": "2019-12-13T23:52:58.748122Z",
     "start_time": "2019-12-13T23:52:58.728623Z"
    }
   },
   "outputs": [],
   "source": [
    "gene_cluster_delta = cluster_mean_gene_df.max(axis=1) - cluster_mean_gene_df.min(axis=1)\n",
    "delta_judge = gene_cluster_delta > delta_rate_cutoff"
   ]
  },
  {
   "cell_type": "code",
   "execution_count": 14,
   "metadata": {
    "ExecuteTime": {
     "end_time": "2019-12-13T23:52:58.785173Z",
     "start_time": "2019-12-13T23:52:58.749536Z"
    }
   },
   "outputs": [],
   "source": [
    "adata = adata[:, delta_judge].copy()"
   ]
  },
  {
   "cell_type": "markdown",
   "metadata": {},
   "source": [
    "## One-vs-rest test"
   ]
  },
  {
   "cell_type": "code",
   "execution_count": 15,
   "metadata": {
    "ExecuteTime": {
     "end_time": "2019-12-13T23:52:58.789257Z",
     "start_time": "2019-12-13T23:52:58.786504Z"
    }
   },
   "outputs": [],
   "source": [
    "def get_sig_features(rank_gene_dict):\n",
    "    pvals_adj = pd.DataFrame(rank_gene_dict['pvals_adj'])\n",
    "    names = pd.DataFrame(rank_gene_dict['names'])\n",
    "    return pvals_adj, names"
   ]
  },
  {
   "cell_type": "code",
   "execution_count": 16,
   "metadata": {
    "ExecuteTime": {
     "end_time": "2019-12-13T23:52:58.804263Z",
     "start_time": "2019-12-13T23:52:58.790577Z"
    }
   },
   "outputs": [],
   "source": [
    "adata.obs['cluster'] = cell_tidy_data[cluster_col].copy()"
   ]
  },
  {
   "cell_type": "code",
   "execution_count": 17,
   "metadata": {
    "ExecuteTime": {
     "end_time": "2019-12-13T23:52:58.846617Z",
     "start_time": "2019-12-13T23:52:58.806163Z"
    }
   },
   "outputs": [],
   "source": [
    "# reverse_adata, centered by 1 because after normalization all prior is center to 1\n",
    "adata.X = (adata.X - 1) * -1 + 1"
   ]
  },
  {
   "cell_type": "code",
   "execution_count": 18,
   "metadata": {
    "ExecuteTime": {
     "end_time": "2019-12-13T23:53:01.004479Z",
     "start_time": "2019-12-13T23:52:58.848162Z"
    }
   },
   "outputs": [
    {
     "name": "stderr",
     "output_type": "stream",
     "text": [
      "... storing 'cluster' as categorical\n"
     ]
    }
   ],
   "source": [
    "sc.tl.rank_genes_groups(adata, 'cluster', \n",
    "                        n_genes=top_n, method='wilcoxon')\n",
    "pvals_adj, names = get_sig_features(adata.uns['rank_genes_groups'])"
   ]
  },
  {
   "cell_type": "code",
   "execution_count": 19,
   "metadata": {
    "ExecuteTime": {
     "end_time": "2019-12-13T23:53:01.007852Z",
     "start_time": "2019-12-13T23:53:01.006023Z"
    }
   },
   "outputs": [],
   "source": [
    "# sc.pl.rank_genes_groups_dotplot(adata)"
   ]
  },
  {
   "cell_type": "markdown",
   "metadata": {},
   "source": [
    "## Get sig gene df"
   ]
  },
  {
   "cell_type": "code",
   "execution_count": 20,
   "metadata": {
    "ExecuteTime": {
     "end_time": "2019-12-13T23:53:01.256032Z",
     "start_time": "2019-12-13T23:53:01.009152Z"
    }
   },
   "outputs": [],
   "source": [
    "results = []\n",
    "for col in cell_tidy_data[cluster_col].unique():\n",
    "    df = pd.DataFrame({'pvals_adj': pvals_adj[col].tolist(), \n",
    "                       'gene_id': names[col].tolist()})\n",
    "    df['cluster'] = col\n",
    "    results.append(df)\n",
    "total_results = pd.concat(results)\n",
    "total_results['gene_name'] = total_results['gene_id'].map(gene_meta['gene_name'])\n",
    "total_results['-lgp'] = -np.log10(total_results['pvals_adj'])\n",
    "total_results['-lgp'] = total_results['-lgp'].replace(np.inf, 1000)\n",
    "total_results = total_results[total_results['pvals_adj'] < adj_p_cutoff].copy()"
   ]
  },
  {
   "cell_type": "code",
   "execution_count": 21,
   "metadata": {
    "ExecuteTime": {
     "end_time": "2019-12-13T23:53:01.260809Z",
     "start_time": "2019-12-13T23:53:01.257534Z"
    }
   },
   "outputs": [
    {
     "data": {
      "text/plain": [
       "4541"
      ]
     },
     "execution_count": 21,
     "metadata": {},
     "output_type": "execute_result"
    }
   ],
   "source": [
    "total_results.shape[0]"
   ]
  },
  {
   "cell_type": "markdown",
   "metadata": {},
   "source": [
    "## add rate_delta"
   ]
  },
  {
   "cell_type": "code",
   "execution_count": 23,
   "metadata": {
    "ExecuteTime": {
     "end_time": "2019-12-13T23:53:08.102591Z",
     "start_time": "2019-12-13T23:53:08.099486Z"
    }
   },
   "outputs": [],
   "source": [
    "def get_delta(cluster, gene):\n",
    "    row = cluster_mean_gene_df.loc[gene].copy()\n",
    "    cluster_value = row.pop(cluster)\n",
    "    other_mean = row.mean()\n",
    "    delta = cluster_value - other_mean\n",
    "    return delta"
   ]
  },
  {
   "cell_type": "code",
   "execution_count": 24,
   "metadata": {
    "ExecuteTime": {
     "end_time": "2019-12-13T23:53:10.410154Z",
     "start_time": "2019-12-13T23:53:08.621367Z"
    }
   },
   "outputs": [],
   "source": [
    "total_results['cluster_delta'] = total_results.apply(lambda i: get_delta(i['cluster'], i['gene_id']), axis=1)"
   ]
  },
  {
   "cell_type": "code",
   "execution_count": 25,
   "metadata": {
    "ExecuteTime": {
     "end_time": "2019-12-13T23:53:10.950065Z",
     "start_time": "2019-12-13T23:53:10.944781Z"
    }
   },
   "outputs": [],
   "source": [
    "total_results = total_results[total_results['cluster_delta'] < delta_rate_cutoff].copy()"
   ]
  },
  {
   "cell_type": "code",
   "execution_count": 26,
   "metadata": {
    "ExecuteTime": {
     "end_time": "2019-12-13T23:53:11.471306Z",
     "start_time": "2019-12-13T23:53:11.468099Z"
    }
   },
   "outputs": [
    {
     "data": {
      "text/plain": [
       "4417"
      ]
     },
     "execution_count": 26,
     "metadata": {},
     "output_type": "execute_result"
    }
   ],
   "source": [
    "total_results.shape[0]"
   ]
  },
  {
   "cell_type": "markdown",
   "metadata": {},
   "source": [
    "## Add AUROC and filter by AUROC"
   ]
  },
  {
   "cell_type": "code",
   "execution_count": 27,
   "metadata": {
    "ExecuteTime": {
     "end_time": "2019-12-13T23:53:13.500993Z",
     "start_time": "2019-12-13T23:53:13.497896Z"
    }
   },
   "outputs": [],
   "source": [
    "def get_auroc(gene_id, cluster):\n",
    "    yscore = adata.obs_vector(gene_id)\n",
    "    ylabel = adata.obs['cluster'] == cluster\n",
    "    score = roc_auc_score(ylabel, yscore)\n",
    "    score = abs(score - 0.5) + 0.5\n",
    "    return score"
   ]
  },
  {
   "cell_type": "code",
   "execution_count": 28,
   "metadata": {
    "ExecuteTime": {
     "end_time": "2019-12-13T23:53:24.310963Z",
     "start_time": "2019-12-13T23:53:14.118228Z"
    },
    "scrolled": true
   },
   "outputs": [],
   "source": [
    "total_results['AUROC'] = total_results[['gene_id', 'cluster']].apply(\n",
    "    lambda i: get_auroc(i['gene_id'], i['cluster']), axis=1)"
   ]
  },
  {
   "cell_type": "code",
   "execution_count": 29,
   "metadata": {
    "ExecuteTime": {
     "end_time": "2019-12-13T23:53:24.321704Z",
     "start_time": "2019-12-13T23:53:24.313311Z"
    }
   },
   "outputs": [],
   "source": [
    "total_results = total_results[total_results['AUROC'] > auroc_cutoff]"
   ]
  },
  {
   "cell_type": "markdown",
   "metadata": {},
   "source": [
    "## Save final list"
   ]
  },
  {
   "cell_type": "code",
   "execution_count": 32,
   "metadata": {
    "ExecuteTime": {
     "end_time": "2019-12-13T23:53:25.319139Z",
     "start_time": "2019-12-13T23:53:25.287151Z"
    }
   },
   "outputs": [],
   "source": [
    "total_results['ref'] = 'Rest'\n",
    "final = total_results[['gene_name', 'gene_id', 'cluster',\n",
    "                       'ref', 'pvals_adj', 'cluster_delta', 'AUROC']].copy()\n",
    "final.to_csv(f'{cluster_col}.{study_name}.one_vs_rest_DEG.csv')"
   ]
  },
  {
   "cell_type": "code",
   "execution_count": 33,
   "metadata": {
    "ExecuteTime": {
     "end_time": "2019-12-13T23:53:25.515211Z",
     "start_time": "2019-12-13T23:53:25.509049Z"
    }
   },
   "outputs": [
    {
     "name": "stdout",
     "output_type": "stream",
     "text": [
      "30\n"
     ]
    },
    {
     "data": {
      "text/plain": [
       "D1L-PAL      665\n",
       "Gfra1        560\n",
       "OLF          376\n",
       "Unc5c        305\n",
       "DG           272\n",
       "MGE-Pvalb    254\n",
       "CA3          246\n",
       "CA3-St18     194\n",
       "L6b          160\n",
       "MSN-D1       160\n",
       "DG-po        138\n",
       "NP-L6        136\n",
       "CLA          123\n",
       "PT-L5        111\n",
       "CGE-Lamp5     97\n",
       "IG-CA2        87\n",
       "Chd7          79\n",
       "MSN-D2        74\n",
       "CA1           64\n",
       "CT-L6         50\n",
       "IT-L4         49\n",
       "MGE-Sst       39\n",
       "D1L-Fstl4     35\n",
       "OLF-Exc       33\n",
       "IT-L23        26\n",
       "IT-L6         25\n",
       "Foxp2         18\n",
       "IT-L5         15\n",
       "LSX-Inh       15\n",
       "CGE-Vip       11\n",
       "Name: cluster, dtype: int64"
      ]
     },
     "execution_count": 33,
     "metadata": {},
     "output_type": "execute_result"
    }
   ],
   "source": [
    "print(final['cluster'].unique().size)\n",
    "final['cluster'].value_counts()"
   ]
  },
  {
   "cell_type": "code",
   "execution_count": null,
   "metadata": {},
   "outputs": [],
   "source": []
  },
  {
   "cell_type": "code",
   "execution_count": null,
   "metadata": {},
   "outputs": [],
   "source": []
  },
  {
   "cell_type": "code",
   "execution_count": null,
   "metadata": {},
   "outputs": [],
   "source": []
  },
  {
   "cell_type": "code",
   "execution_count": null,
   "metadata": {},
   "outputs": [],
   "source": []
  }
 ],
 "metadata": {
  "hide_input": false,
  "kernelspec": {
   "display_name": "Python 3",
   "language": "python",
   "name": "python3"
  },
  "language_info": {
   "codemirror_mode": {
    "name": "ipython",
    "version": 3
   },
   "file_extension": ".py",
   "mimetype": "text/x-python",
   "name": "python",
   "nbconvert_exporter": "python",
   "pygments_lexer": "ipython3",
   "version": "3.7.3"
  },
  "toc": {
   "base_numbering": 1,
   "nav_menu": {},
   "number_sections": true,
   "sideBar": true,
   "skip_h1_title": true,
   "title_cell": "Table of Contents",
   "title_sidebar": "Contents",
   "toc_cell": false,
   "toc_position": {},
   "toc_section_display": true,
   "toc_window_display": true
  }
 },
 "nbformat": 4,
 "nbformat_minor": 2
}
