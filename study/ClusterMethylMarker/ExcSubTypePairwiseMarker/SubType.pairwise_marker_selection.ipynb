{
 "cells": [
  {
   "cell_type": "markdown",
   "metadata": {
    "papermill": {},
    "tags": []
   },
   "source": [
    "## Marker Selection"
   ]
  },
  {
   "cell_type": "code",
   "execution_count": 1,
   "metadata": {
    "ExecuteTime": {
     "end_time": "2020-02-18T07:13:05.439428Z",
     "start_time": "2020-02-18T07:13:02.979063Z"
    },
    "papermill": {},
    "tags": []
   },
   "outputs": [],
   "source": [
    "import pathlib\n",
    "from concurrent.futures import ProcessPoolExecutor, as_completed\n",
    "from itertools import combinations\n",
    "import numpy as np\n",
    "import anndata\n",
    "import matplotlib.pyplot as plt\n",
    "import pandas as pd\n",
    "import scanpy as sc\n",
    "import seaborn as sns\n",
    "import xarray as xr\n",
    "import subprocess\n",
    "from sklearn.metrics import roc_auc_score\n",
    "from cemba_data.tools.hdf5.anndata import rank_features_groups\n",
    "import warnings\n",
    "warnings.filterwarnings('ignore')"
   ]
  },
  {
   "cell_type": "markdown",
   "metadata": {
    "papermill": {},
    "tags": []
   },
   "source": [
    "## Parameter"
   ]
  },
  {
   "cell_type": "code",
   "execution_count": 2,
   "metadata": {
    "ExecuteTime": {
     "end_time": "2020-02-18T07:13:05.444215Z",
     "start_time": "2020-02-18T07:13:05.441340Z"
    },
    "papermill": {},
    "tags": [
     "parameters"
    ]
   },
   "outputs": [],
   "source": [
    "mcds_pattern = '/home/hanliu/project/mouse_rostral_brain/study/Level1-CellClass/ALL_manual/Adata/GeneWithSlop2kb.gene_da_rate.*.mcds'\n",
    "min_cluster_cell_number = 10\n",
    "adj_p_cutoff = 1e-3\n",
    "top_n = 30000\n",
    "max_test_cell_population = 1000\n",
    "chunk_size = 100\n",
    "delta_rate_cutoff = 0.5\n",
    "auroc_cutoff = 0.8"
   ]
  },
  {
   "cell_type": "code",
   "execution_count": 3,
   "metadata": {
    "ExecuteTime": {
     "end_time": "2020-02-18T07:13:10.094800Z",
     "start_time": "2020-02-18T07:13:10.089240Z"
    },
    "tags": [
     "injected-parameters"
    ]
   },
   "outputs": [],
   "source": [
    "# Parameters\n",
    "cluster_col = \"SubType\"\n",
    "use_clusters = [\"CA3 Cadm2\", \"CA1 Chrm3\", \"CA3-St18 Tead1\", \"Gfra1 Gfra1\", \"IT-L5 Etv1\", \"CA1 Ptprg\", \"NP-L6 Cntnap4\", \"CA3-St18 Nuak1\", \"CT-L6 Megf9\", \"IG-CA2 Chrm3\", \"IG-CA2 Peak1\", \"DG-po Calb2\", \"DG dg-all\", \"CA1 Kif26a\", \"CA3 Efnb2\", \"CA1 Ak5\", \"DG-po Bcl11a\", \"PT-L5 Tenm2\", \"CA1 Lingo2\", \"CA3-St18 Epha5\", \"IG-CA2 Xpr1\", \"DG-po Kctd8\", \"CT-L6 Il1rap\", \"L6b Adcy8\", \"IT-L6 Man1c1\", \"NP-L6 Olfml2b\", \"PT-L5 Abca12\", \"PT-L5 Nectin1\", \"IT-L23 Cux1\", \"IT-L23 Foxp1\", \"IT-L4 Shc3\", \"IT-L5 Cdh8\", \"IT-L5 Grik3\", \"PT-L5 Tmtc2\", \"IT-L23 Tenm2\", \"NP-L6 Cntnap5a\", \"CT-L6 Hcrtr2\", \"PT-L5 Plcb4\", \"IT-L23 Ptprt\", \"CT-L6 Map4\", \"NP-L6 Boc\", \"PT-L5 Kcnh1\", \"OLF-Exc Bmpr1b\", \"PT-L5 Astn2\", \"IT-L6 Fstl4\", \"CLA Bcl11a\", \"NP-L6 Cyp7b1\", \"CLA Cdh8\", \"IT-L6 Cadps2\", \"PT-L5 Ptprt\", \"NP-L6 Kcnab1\", \"IT-L6 Oxr1\", \"OLF-Exc Pld5\", \"OLF-Exc Lrrtm3\", \"OLF-Exc Cdh9\", \"OLF-Exc Unc13c\", \"L6b Nrp2\", \"OLF-Exc Sgcd\", \"OLF-Exc Rmst\", \"PT-L5 Unc5b\", \"L6b Pkhd1\", \"L6b Kcnk2\", \"IT-L4 Astn2\", \"CLA Nrp2\", \"EP Tspan5\", \"OLF-Exc Cux2\", \"EP Rgs8\", \"EP Adcy8\"]\n",
    "mcds_pattern = \"/home/hanliu/project/mouse_rostral_brain/study/Level1-CellClass/ALL_manual/Adata/GeneWithSlop2kb.gene_da_rate.*.mcds\"\n",
    "min_cluster_cell_number = 10\n",
    "adj_p_cutoff = 0.001\n",
    "top_n = 30000\n",
    "cpu = 15\n",
    "max_test_cell_population = 2000\n",
    "chunk_size = 15\n",
    "delta_rate_cutoff = 0.3\n",
    "auroc_cutoff = 0.8\n"
   ]
  },
  {
   "cell_type": "markdown",
   "metadata": {
    "papermill": {},
    "tags": []
   },
   "source": [
    "### Stable Parameter"
   ]
  },
  {
   "cell_type": "code",
   "execution_count": 4,
   "metadata": {
    "ExecuteTime": {
     "end_time": "2020-02-18T07:13:12.935325Z",
     "start_time": "2020-02-18T07:13:12.932939Z"
    },
    "papermill": {},
    "tags": []
   },
   "outputs": [],
   "source": [
    "random_seed = 0"
   ]
  },
  {
   "cell_type": "markdown",
   "metadata": {
    "papermill": {},
    "tags": []
   },
   "source": [
    "## Cell Tidy Data"
   ]
  },
  {
   "cell_type": "code",
   "execution_count": 5,
   "metadata": {
    "ExecuteTime": {
     "end_time": "2020-02-18T07:13:13.235869Z",
     "start_time": "2020-02-18T07:13:13.233563Z"
    }
   },
   "outputs": [],
   "source": [
    "tidy_data_path = '/home/hanliu/project/mouse_rostral_brain/study/ClusteringSummary/Summary/TotalClusteringResults.msg'"
   ]
  },
  {
   "cell_type": "code",
   "execution_count": 6,
   "metadata": {
    "ExecuteTime": {
     "end_time": "2020-02-18T07:13:13.897013Z",
     "start_time": "2020-02-18T07:13:13.395069Z"
    },
    "papermill": {},
    "tags": []
   },
   "outputs": [
    {
     "data": {
      "text/plain": [
       "67324"
      ]
     },
     "execution_count": 6,
     "metadata": {},
     "output_type": "execute_result"
    }
   ],
   "source": [
    "cell_tidy_data = pd.read_msgpack(tidy_data_path)\n",
    "\n",
    "if use_clusters is not None:\n",
    "    cell_tidy_data = cell_tidy_data[cell_tidy_data[cluster_col].isin(\n",
    "        use_clusters)]\n",
    "cell_tidy_data.shape[0]"
   ]
  },
  {
   "cell_type": "code",
   "execution_count": 7,
   "metadata": {
    "ExecuteTime": {
     "end_time": "2020-02-18T07:13:14.551223Z",
     "start_time": "2020-02-18T07:13:13.898538Z"
    },
    "papermill": {},
    "tags": []
   },
   "outputs": [
    {
     "data": {
      "text/plain": [
       "CA1 Chrm3       2000\n",
       "IT-L23 Cux1     2000\n",
       "IT-L4 Astn2     2000\n",
       "CT-L6 Il1rap    2000\n",
       "IT-L5 Cdh8      2000\n",
       "                ... \n",
       "DG-po Bcl11a      55\n",
       "CA1 Lingo2        54\n",
       "DG-po Calb2       51\n",
       "DG-po Kctd8       39\n",
       "L6b Pkhd1         37\n",
       "Name: SubType, Length: 68, dtype: int64"
      ]
     },
     "execution_count": 7,
     "metadata": {},
     "output_type": "execute_result"
    }
   ],
   "source": [
    "records = []\n",
    "for cluster, sub_df in cell_tidy_data.groupby(cluster_col):\n",
    "    if sub_df.shape[0] < max_test_cell_population:\n",
    "        records.append(sub_df)\n",
    "    else:\n",
    "        records.append(\n",
    "            sub_df.sample(max_test_cell_population, random_state=random_seed))\n",
    "cell_tidy_data = pd.concat(records)\n",
    "cell_tidy_data[cluster_col].value_counts()"
   ]
  },
  {
   "cell_type": "code",
   "execution_count": 8,
   "metadata": {
    "ExecuteTime": {
     "end_time": "2020-02-18T07:13:14.584911Z",
     "start_time": "2020-02-18T07:13:14.552793Z"
    },
    "papermill": {},
    "tags": []
   },
   "outputs": [
    {
     "name": "stdout",
     "output_type": "stream",
     "text": [
      "68 pass filter.\n",
      "2278 pairwise comparison to test.\n"
     ]
    }
   ],
   "source": [
    "cluster_series = cell_tidy_data[cluster_col].astype(str)\n",
    "cluster_counts = cluster_series.value_counts()\n",
    "\n",
    "def check_cluster(cluster, count):\n",
    "    if count < min_cluster_cell_number:\n",
    "        return False\n",
    "    return True\n",
    "\n",
    "\n",
    "unique_clusters = [\n",
    "    cluster for cluster, count in cluster_counts.items()\n",
    "    if check_cluster(cluster, count)\n",
    "]\n",
    "cluster_pairs = list(combinations(unique_clusters, 2))\n",
    "\n",
    "print(len(unique_clusters), 'pass filter.')\n",
    "print(len(cluster_pairs), 'pairwise comparison to test.')"
   ]
  },
  {
   "cell_type": "markdown",
   "metadata": {
    "papermill": {},
    "tags": []
   },
   "source": [
    "## Gene meta"
   ]
  },
  {
   "cell_type": "code",
   "execution_count": 9,
   "metadata": {
    "ExecuteTime": {
     "end_time": "2020-02-18T07:13:14.844022Z",
     "start_time": "2020-02-18T07:13:14.586453Z"
    },
    "papermill": {},
    "tags": []
   },
   "outputs": [],
   "source": [
    "gene_meta = pd.read_csv(\n",
    "    '/home/hanliu/project/mouse_rostral_brain/study/ClusterMethylMarker/gencode.vM22.annotation.gene.flat.filtered_white_genes.tsv.gz',\n",
    "    index_col='gene_id',\n",
    "    sep='\\t')\n",
    "gene_meta.index.name = 'gene'\n",
    "gene_name_to_id = {v: k for k, v in gene_meta['gene_name'].iteritems()}\n",
    "gene_idbase_to_id = {i.split('.')[0]: i for i in gene_meta.index}"
   ]
  },
  {
   "cell_type": "markdown",
   "metadata": {
    "papermill": {},
    "tags": []
   },
   "source": [
    "## Adata"
   ]
  },
  {
   "cell_type": "code",
   "execution_count": 10,
   "metadata": {
    "ExecuteTime": {
     "end_time": "2020-02-18T07:07:15.841373Z",
     "start_time": "2020-02-18T07:07:15.839625Z"
    }
   },
   "outputs": [],
   "source": [
    "# if dask_distribute:\n",
    "#     from dask.distributed import Client\n",
    "#     client = Client(dashboard_address=':5555')"
   ]
  },
  {
   "cell_type": "code",
   "execution_count": 11,
   "metadata": {
    "ExecuteTime": {
     "end_time": "2020-02-18T07:07:17.509325Z",
     "start_time": "2020-02-18T07:07:15.893876Z"
    },
    "papermill": {},
    "tags": []
   },
   "outputs": [],
   "source": [
    "gene_mcds = xr.open_mfdataset(mcds_pattern)\n",
    "use_gene = gene_mcds.get_index('gene') & gene_meta.index\n",
    "gene_meta = gene_meta.reindex(use_gene)"
   ]
  },
  {
   "cell_type": "code",
   "execution_count": 12,
   "metadata": {
    "ExecuteTime": {
     "end_time": "2020-02-18T07:07:17.521697Z",
     "start_time": "2020-02-18T07:07:17.510986Z"
    },
    "papermill": {},
    "tags": []
   },
   "outputs": [
    {
     "data": {
      "text/html": [
       "<pre>&lt;xarray.Dataset&gt;\n",
       "Dimensions:           (cell: 104340, gene: 55487, mc_type: 2)\n",
       "Coordinates:\n",
       "    strand_type       &lt;U4 &#x27;both&#x27;\n",
       "    geneslop2k_end    (gene) int64 dask.array&lt;chunksize=(55487,), meta=np.ndarray&gt;\n",
       "    geneslop2k_chrom  (gene) object dask.array&lt;chunksize=(55487,), meta=np.ndarray&gt;\n",
       "    geneslop2k_start  (gene) int64 dask.array&lt;chunksize=(55487,), meta=np.ndarray&gt;\n",
       "  * mc_type           (mc_type) object &#x27;CGN&#x27; &#x27;CHN&#x27;\n",
       "  * gene              (gene) object &#x27;ENSMUSG00000102693.1&#x27; ... &#x27;ENSMUSG00000064372.1&#x27;\n",
       "  * cell              (cell) object &#x27;1A_M_0&#x27; &#x27;1A_M_1&#x27; ... &#x27;8J_M_1292&#x27;\n",
       "Data variables:\n",
       "    gene_da           (cell, gene, mc_type) float64 dask.array&lt;chunksize=(10000, 55487, 2), meta=np.ndarray&gt;</pre>"
      ],
      "text/plain": [
       "<xarray.Dataset>\n",
       "Dimensions:           (cell: 104340, gene: 55487, mc_type: 2)\n",
       "Coordinates:\n",
       "    strand_type       <U4 'both'\n",
       "    geneslop2k_end    (gene) int64 dask.array<chunksize=(55487,), meta=np.ndarray>\n",
       "    geneslop2k_chrom  (gene) object dask.array<chunksize=(55487,), meta=np.ndarray>\n",
       "    geneslop2k_start  (gene) int64 dask.array<chunksize=(55487,), meta=np.ndarray>\n",
       "  * mc_type           (mc_type) object 'CGN' 'CHN'\n",
       "  * gene              (gene) object 'ENSMUSG00000102693.1' ... 'ENSMUSG00000064372.1'\n",
       "  * cell              (cell) object '1A_M_0' '1A_M_1' ... '8J_M_1292'\n",
       "Data variables:\n",
       "    gene_da           (cell, gene, mc_type) float64 dask.array<chunksize=(10000, 55487, 2), meta=np.ndarray>"
      ]
     },
     "execution_count": 12,
     "metadata": {},
     "output_type": "execute_result"
    }
   ],
   "source": [
    "gene_mcds"
   ]
  },
  {
   "cell_type": "code",
   "execution_count": 13,
   "metadata": {
    "ExecuteTime": {
     "end_time": "2020-02-18T07:07:17.767917Z",
     "start_time": "2020-02-18T07:07:17.523218Z"
    },
    "papermill": {},
    "tags": []
   },
   "outputs": [
    {
     "data": {
      "text/html": [
       "<pre>&lt;xarray.DataArray &#x27;gene_da&#x27; (cell: 50444, gene: 50231)&gt;\n",
       "dask.array&lt;getitem, shape=(50444, 50231), dtype=float64, chunksize=(977, 50231)&gt;\n",
       "Coordinates:\n",
       "    strand_type       &lt;U4 &#x27;both&#x27;\n",
       "    geneslop2k_end    (gene) int64 dask.array&lt;chunksize=(50231,), meta=np.ndarray&gt;\n",
       "    geneslop2k_chrom  (gene) object dask.array&lt;chunksize=(50231,), meta=np.ndarray&gt;\n",
       "    geneslop2k_start  (gene) int64 dask.array&lt;chunksize=(50231,), meta=np.ndarray&gt;\n",
       "    mc_type           &lt;U3 &#x27;CHN&#x27;\n",
       "  * gene              (gene) object &#x27;ENSMUSG00000102693.1&#x27; ... &#x27;ENSMUSG00000064372.1&#x27;\n",
       "  * cell              (cell) object &#x27;10E_M_1566&#x27; &#x27;10E_M_1589&#x27; ... &#x27;7B_M_1371&#x27;</pre>"
      ],
      "text/plain": [
       "<xarray.DataArray 'gene_da' (cell: 50444, gene: 50231)>\n",
       "dask.array<getitem, shape=(50444, 50231), dtype=float64, chunksize=(977, 50231)>\n",
       "Coordinates:\n",
       "    strand_type       <U4 'both'\n",
       "    geneslop2k_end    (gene) int64 dask.array<chunksize=(50231,), meta=np.ndarray>\n",
       "    geneslop2k_chrom  (gene) object dask.array<chunksize=(50231,), meta=np.ndarray>\n",
       "    geneslop2k_start  (gene) int64 dask.array<chunksize=(50231,), meta=np.ndarray>\n",
       "    mc_type           <U3 'CHN'\n",
       "  * gene              (gene) object 'ENSMUSG00000102693.1' ... 'ENSMUSG00000064372.1'\n",
       "  * cell              (cell) object '10E_M_1566' '10E_M_1589' ... '7B_M_1371'"
      ]
     },
     "execution_count": 13,
     "metadata": {},
     "output_type": "execute_result"
    }
   ],
   "source": [
    "gene_mcds = gene_mcds['gene_da'].sel(mc_type='CHN',\n",
    "                                     cell=cell_tidy_data.index,\n",
    "                                     gene=gene_meta.index)\n",
    "gene_mcds"
   ]
  },
  {
   "cell_type": "code",
   "execution_count": 14,
   "metadata": {
    "ExecuteTime": {
     "end_time": "2020-02-18T07:07:18.225363Z",
     "start_time": "2020-02-18T07:07:17.769395Z"
    },
    "papermill": {},
    "tags": []
   },
   "outputs": [],
   "source": [
    "cell_tidy_data.to_msgpack('TEMP.msg')"
   ]
  },
  {
   "cell_type": "code",
   "execution_count": 15,
   "metadata": {
    "ExecuteTime": {
     "end_time": "2020-02-18T07:12:07.186333Z",
     "start_time": "2020-02-18T07:07:18.226996Z"
    },
    "papermill": {},
    "tags": []
   },
   "outputs": [],
   "source": [
    "gene_mcds.to_netcdf('TEMP.nc')"
   ]
  },
  {
   "cell_type": "markdown",
   "metadata": {
    "papermill": {},
    "tags": []
   },
   "source": [
    "## Pairwise test"
   ]
  },
  {
   "cell_type": "code",
   "execution_count": 10,
   "metadata": {
    "ExecuteTime": {
     "end_time": "2020-02-18T07:13:19.117548Z",
     "start_time": "2020-02-18T07:13:19.100372Z"
    },
    "papermill": {},
    "tags": []
   },
   "outputs": [],
   "source": [
    "def get_sig_features(rank_gene_dict):\n",
    "    pvals_adj = pd.DataFrame(rank_gene_dict['pvals_adj'])\n",
    "    names = pd.DataFrame(rank_gene_dict['names'])\n",
    "    return pvals_adj, names\n",
    "\n",
    "\n",
    "def get_delta(cluster, gene):\n",
    "    row = cluster_mean_gene_df.loc[gene].copy()\n",
    "    cluster_value = row.pop(cluster)\n",
    "    other_mean = row[0] # only two cluster\n",
    "    delta = cluster_value - other_mean\n",
    "    return delta\n",
    "\n",
    "\n",
    "def calculate_single_pair(data_path, pair):\n",
    "    cluster_a, cluster_b = pair\n",
    "    output_dir = pathlib.Path(f'TEMP/{cluster_a}')\n",
    "    output_dir.mkdir(exist_ok=True)\n",
    "    output_path = output_dir / f'{cluster_b}.msg'\n",
    "    if output_path.exists():\n",
    "        return\n",
    "    \n",
    "    this_tidy_data = pd.read_msgpack('TEMP.msg')\n",
    "    this_tidy_data = this_tidy_data[this_tidy_data[cluster_col].isin(pair)]\n",
    "    \n",
    "    mcds = xr.open_dataarray(data_path).sel(cell=this_tidy_data.index).load()\n",
    "    adata = anndata.AnnData(X=mcds.values,\n",
    "                    obs=pd.DataFrame([], mcds.get_index('cell')),\n",
    "                    var=pd.DataFrame([], mcds.get_index('gene')))\n",
    "    adata.obs['cluster'] = this_tidy_data[cluster_col].astype('category')\n",
    "    \n",
    "    # reverse_adata, centered by 1 because after normalization all prior is center to 1\n",
    "    adata.X = (adata.X - 1) * -1 + 1\n",
    "    \n",
    "    # calculate cluster delta\n",
    "    records = {}\n",
    "    for cluster, sub_df in adata.obs.groupby('cluster'):\n",
    "        sub_adata = adata[sub_df.index, :]\n",
    "        gene_mean = sub_adata.X.mean(axis=0)\n",
    "        records[cluster] = pd.Series(gene_mean, index=sub_adata.var_names)\n",
    "    cluster_mean_gene_df = pd.DataFrame(records)\n",
    "\n",
    "    # judge gene by delta\n",
    "    cluster_delta = (cluster_mean_gene_df[cluster_a] -\n",
    "                     cluster_mean_gene_df[cluster_b]).abs()\n",
    "    delta_judge = cluster_delta > delta_rate_cutoff\n",
    "    use_adata = adata[:, delta_judge]\n",
    "    \n",
    "    sc.tl.rank_genes_groups(use_adata,\n",
    "                            groupby='cluster',\n",
    "                            n_genes=top_n,\n",
    "                            method='wilcoxon')\n",
    "    pvals_adj, names = get_sig_features(\n",
    "        use_adata.uns['rank_genes_groups'])\n",
    "\n",
    "    results = []\n",
    "    for col in use_adata.obs['cluster'].unique():\n",
    "        if col not in pair:\n",
    "            continue\n",
    "        df = pd.DataFrame({\n",
    "            'pvals_adj': pvals_adj[col].tolist(),\n",
    "            'gene_id': names[col].tolist()\n",
    "        })\n",
    "        df['cluster_from'] = col\n",
    "        df['cluster_to'] = cluster_a if col == cluster_b else cluster_b\n",
    "        results.append(df)\n",
    "    \n",
    "    # get total results filter by adj_p\n",
    "    total_results = pd.concat(results)\n",
    "    total_results['gene_name'] = total_results['gene_id'].map(\n",
    "        gene_meta['gene_name'])\n",
    "    total_results['-lgp'] = -np.log10(total_results['pvals_adj'])\n",
    "    total_results['-lgp'] = total_results['-lgp'].replace(np.inf, 1000)\n",
    "    total_results = total_results[\n",
    "        total_results['pvals_adj'] < adj_p_cutoff].copy()\n",
    "    \n",
    "    # judge by auroc\n",
    "    total_results['AUROC'] = total_results[[\n",
    "        'gene_id', 'cluster_from'\n",
    "    ]].apply(lambda i: get_auroc(i['gene_id'], i['cluster_from'],\n",
    "                                 use_adata),\n",
    "             axis=1)\n",
    "    total_results = total_results[total_results['AUROC'] > auroc_cutoff]\n",
    "    \n",
    "    # add rate\n",
    "    # total_results['cluster_from_rate'] = total_results.apply(\n",
    "    #     lambda i: cluster_mean_gene_df.at[i['gene_id'], i['cluster_from']],\n",
    "    #     axis=1)\n",
    "    # total_results['cluster_to_rate'] = total_results.apply(\n",
    "    #     lambda i: cluster_mean_gene_df.at[i['gene_id'], i['cluster_to']],\n",
    "    #     axis=1)\n",
    "    \n",
    "    total_results.to_msgpack(output_path)\n",
    "    return\n",
    "\n",
    "\n",
    "def get_auroc(gene_id, cluster, adata):\n",
    "    yscore = adata.obs_vector(gene_id)\n",
    "    ylabel = adata.obs['cluster'] == cluster\n",
    "    score = roc_auc_score(ylabel, yscore)\n",
    "    score = abs(score - 0.5) + 0.5\n",
    "    return score"
   ]
  },
  {
   "cell_type": "code",
   "execution_count": 11,
   "metadata": {
    "ExecuteTime": {
     "end_time": "2020-02-18T07:13:20.181078Z",
     "start_time": "2020-02-18T07:13:20.178763Z"
    },
    "papermill": {},
    "tags": []
   },
   "outputs": [],
   "source": [
    "data_path = 'TEMP.nc'"
   ]
  },
  {
   "cell_type": "markdown",
   "metadata": {
    "papermill": {},
    "tags": []
   },
   "source": [
    "## Run pairwise marker"
   ]
  },
  {
   "cell_type": "code",
   "execution_count": 14,
   "metadata": {
    "ExecuteTime": {
     "end_time": "2020-02-18T18:46:55.716947Z",
     "start_time": "2020-02-18T18:46:31.909066Z"
    },
    "papermill": {},
    "scrolled": true,
    "tags": []
   },
   "outputs": [
    {
     "name": "stdout",
     "output_type": "stream",
     "text": [
      "100\n",
      "200\n",
      "300\n",
      "400\n",
      "500\n",
      "600\n",
      "700\n",
      "800\n",
      "900\n",
      "1000\n",
      "1100\n",
      "1200\n",
      "1300\n",
      "1400\n",
      "1500\n",
      "1600\n",
      "1700\n",
      "1800\n",
      "1900\n",
      "2000\n",
      "2100\n",
      "2200\n"
     ]
    }
   ],
   "source": [
    "pair_marker_counts = {}\n",
    "n = 0\n",
    "for chunk_start in range(0, len(cluster_pairs), chunk_size):\n",
    "    pairs = cluster_pairs[chunk_start : chunk_start + chunk_size]\n",
    "    with ProcessPoolExecutor(cpu) as executor:\n",
    "        temp_dir = 'TEMP'\n",
    "        pathlib.Path(temp_dir).mkdir(exist_ok=True)\n",
    "        futures = []\n",
    "        for pair in pairs:\n",
    "            future = executor.submit(calculate_single_pair, data_path, pair)\n",
    "            futures.append(future)\n",
    "        \n",
    "        for future in as_completed(futures):\n",
    "            future.result()\n",
    "            n += 1\n",
    "            if n % 100 == 0:\n",
    "                print(n)"
   ]
  },
  {
   "cell_type": "markdown",
   "metadata": {
    "papermill": {},
    "tags": []
   },
   "source": [
    "## Aggregate DEG"
   ]
  },
  {
   "cell_type": "code",
   "execution_count": 15,
   "metadata": {
    "ExecuteTime": {
     "end_time": "2020-02-18T18:47:07.194783Z",
     "start_time": "2020-02-18T18:46:59.428549Z"
    },
    "papermill": {},
    "tags": []
   },
   "outputs": [],
   "source": [
    "temp_dir = pathlib.Path('TEMP')\n",
    "deg_list = list(temp_dir.glob('**/*msg'))\n",
    "\n",
    "df_list = []\n",
    "for path in deg_list:\n",
    "    df_list.append(pd.read_msgpack(path))\n",
    "\n",
    "total_markers = pd.concat(df_list)"
   ]
  },
  {
   "cell_type": "markdown",
   "metadata": {},
   "source": [
    "## Annotate rate"
   ]
  },
  {
   "cell_type": "code",
   "execution_count": 29,
   "metadata": {
    "ExecuteTime": {
     "end_time": "2020-02-18T18:58:13.259760Z",
     "start_time": "2020-02-18T18:51:39.031554Z"
    },
    "papermill": {},
    "tags": []
   },
   "outputs": [],
   "source": [
    "gene_mean_mch = pd.read_msgpack(\n",
    "    '/home/hanliu/project/mouse_rostral_brain/study/AssignGeneToTree/SubType.gene_mean_mch.msg')\n",
    "\n",
    "total_markers['cluster_from_rate'] = total_markers.apply(\n",
    "    lambda i: gene_mean_mch.at[i['cluster_from'], i['gene_id']], axis=1)\n",
    "total_markers['cluster_to_rate'] = total_markers.apply(\n",
    "    lambda i: gene_mean_mch.at[i['cluster_to'], i['gene_id']], axis=1)"
   ]
  },
  {
   "cell_type": "code",
   "execution_count": 41,
   "metadata": {
    "ExecuteTime": {
     "end_time": "2020-02-18T19:02:59.316556Z",
     "start_time": "2020-02-18T19:02:58.023465Z"
    }
   },
   "outputs": [],
   "source": [
    "total_markers['log2fc'] = np.log2(total_markers['cluster_from_rate'] / total_markers['cluster_to_rate'])\n",
    "total_markers['delta'] = total_markers['cluster_from_rate'] - total_markers['cluster_to_rate']\n",
    "total_markers = total_markers[(total_markers['delta'] < -0.3)].copy()"
   ]
  },
  {
   "cell_type": "markdown",
   "metadata": {
    "papermill": {},
    "tags": []
   },
   "source": [
    "## Save results"
   ]
  },
  {
   "cell_type": "code",
   "execution_count": 42,
   "metadata": {
    "ExecuteTime": {
     "end_time": "2020-02-18T19:03:07.349799Z",
     "start_time": "2020-02-18T19:03:02.653557Z"
    },
    "papermill": {},
    "tags": []
   },
   "outputs": [],
   "source": [
    "total_markers.to_msgpack('TotalPairwiseMarker.msg')"
   ]
  },
  {
   "cell_type": "code",
   "execution_count": 43,
   "metadata": {
    "ExecuteTime": {
     "end_time": "2020-02-18T19:03:13.063562Z",
     "start_time": "2020-02-18T19:03:08.020544Z"
    },
    "papermill": {},
    "tags": []
   },
   "outputs": [],
   "source": [
    "marker_counts = total_markers.set_index(['cluster_from', 'cluster_to']).index.value_counts()\n",
    "marker_counts.index = pd.MultiIndex.from_tuples(marker_counts.index.tolist())\n",
    "marker_counts = marker_counts.reset_index()\n",
    "marker_counts.columns = ['ClusterA', 'ClusterB', 'GeneCount']\n",
    "marker_counts.to_csv('Cluster_pair_marker_counts.csv', index=None)"
   ]
  },
  {
   "cell_type": "code",
   "execution_count": 44,
   "metadata": {
    "ExecuteTime": {
     "end_time": "2020-02-18T19:03:13.307772Z",
     "start_time": "2020-02-18T19:03:13.300726Z"
    },
    "papermill": {},
    "tags": []
   },
   "outputs": [
    {
     "data": {
      "text/html": [
       "<div>\n",
       "<style scoped>\n",
       "    .dataframe tbody tr th:only-of-type {\n",
       "        vertical-align: middle;\n",
       "    }\n",
       "\n",
       "    .dataframe tbody tr th {\n",
       "        vertical-align: top;\n",
       "    }\n",
       "\n",
       "    .dataframe thead th {\n",
       "        text-align: right;\n",
       "    }\n",
       "</style>\n",
       "<table border=\"1\" class=\"dataframe\">\n",
       "  <thead>\n",
       "    <tr style=\"text-align: right;\">\n",
       "      <th></th>\n",
       "      <th>ClusterA</th>\n",
       "      <th>ClusterB</th>\n",
       "      <th>GeneCount</th>\n",
       "    </tr>\n",
       "  </thead>\n",
       "  <tbody>\n",
       "    <tr>\n",
       "      <th>4552</th>\n",
       "      <td>PT-L5 Ptprt</td>\n",
       "      <td>PT-L5 Tenm2</td>\n",
       "      <td>7</td>\n",
       "    </tr>\n",
       "    <tr>\n",
       "      <th>4553</th>\n",
       "      <td>CT-L6 Megf9</td>\n",
       "      <td>CT-L6 Il1rap</td>\n",
       "      <td>6</td>\n",
       "    </tr>\n",
       "    <tr>\n",
       "      <th>4554</th>\n",
       "      <td>NP-L6 Olfml2b</td>\n",
       "      <td>NP-L6 Cntnap5a</td>\n",
       "      <td>3</td>\n",
       "    </tr>\n",
       "    <tr>\n",
       "      <th>4555</th>\n",
       "      <td>CT-L6 Il1rap</td>\n",
       "      <td>CT-L6 Megf9</td>\n",
       "      <td>1</td>\n",
       "    </tr>\n",
       "  </tbody>\n",
       "</table>\n",
       "</div>"
      ],
      "text/plain": [
       "           ClusterA        ClusterB  GeneCount\n",
       "4552    PT-L5 Ptprt     PT-L5 Tenm2          7\n",
       "4553    CT-L6 Megf9    CT-L6 Il1rap          6\n",
       "4554  NP-L6 Olfml2b  NP-L6 Cntnap5a          3\n",
       "4555   CT-L6 Il1rap     CT-L6 Megf9          1"
      ]
     },
     "execution_count": 44,
     "metadata": {},
     "output_type": "execute_result"
    }
   ],
   "source": [
    "marker_counts[marker_counts['GeneCount'] < 10]"
   ]
  },
  {
   "cell_type": "code",
   "execution_count": 45,
   "metadata": {
    "ExecuteTime": {
     "end_time": "2020-02-18T19:04:00.119147Z",
     "start_time": "2020-02-18T19:03:55.781557Z"
    },
    "papermill": {},
    "tags": []
   },
   "outputs": [
    {
     "data": {
      "text/plain": [
       "CompletedProcess(args='rm -rf TEMP*', returncode=0)"
      ]
     },
     "execution_count": 45,
     "metadata": {},
     "output_type": "execute_result"
    }
   ],
   "source": [
    "subprocess.run('rm -rf TEMP*', shell=True)"
   ]
  },
  {
   "cell_type": "code",
   "execution_count": 46,
   "metadata": {
    "ExecuteTime": {
     "end_time": "2020-02-18T19:04:01.294465Z",
     "start_time": "2020-02-18T19:04:00.737914Z"
    },
    "papermill": {},
    "tags": []
   },
   "outputs": [],
   "source": [
    "with open('TotalGeneID.txt', 'w') as f:\n",
    "    for g in total_markers['gene_id'].unique():\n",
    "        f.write(f'{g}\\n')"
   ]
  },
  {
   "cell_type": "code",
   "execution_count": 47,
   "metadata": {
    "ExecuteTime": {
     "end_time": "2020-02-18T19:04:02.185478Z",
     "start_time": "2020-02-18T19:04:01.740906Z"
    },
    "papermill": {},
    "tags": []
   },
   "outputs": [
    {
     "data": {
      "text/plain": [
       "28721"
      ]
     },
     "execution_count": 47,
     "metadata": {},
     "output_type": "execute_result"
    }
   ],
   "source": [
    "total_markers['gene_id'].unique().size"
   ]
  },
  {
   "cell_type": "code",
   "execution_count": 51,
   "metadata": {
    "ExecuteTime": {
     "end_time": "2020-02-18T19:10:40.997912Z",
     "start_time": "2020-02-18T19:10:40.445389Z"
    },
    "papermill": {},
    "tags": []
   },
   "outputs": [],
   "source": [
    "counts = total_markers['gene_id'].value_counts()"
   ]
  },
  {
   "cell_type": "code",
   "execution_count": 56,
   "metadata": {
    "ExecuteTime": {
     "end_time": "2020-02-18T19:11:18.674490Z",
     "start_time": "2020-02-18T19:11:18.666953Z"
    },
    "papermill": {},
    "tags": []
   },
   "outputs": [
    {
     "data": {
      "text/plain": [
       "ENSMUSG00000024642.17    1595\n",
       "ENSMUSG00000030583.16    1555\n",
       "ENSMUSG00000021338.17    1549\n",
       "ENSMUSG00000021700.10    1548\n",
       "ENSMUSG00000033306.15    1546\n",
       "                         ... \n",
       "ENSMUSG00000077392.1       21\n",
       "ENSMUSG00000062012.14      21\n",
       "ENSMUSG00000021022.9       21\n",
       "ENSMUSG00000106380.1       21\n",
       "ENSMUSG00000062310.7       21\n",
       "Name: gene_id, Length: 18323, dtype: int64"
      ]
     },
     "execution_count": 56,
     "metadata": {},
     "output_type": "execute_result"
    }
   ],
   "source": [
    "counts[counts > 20]"
   ]
  },
  {
   "cell_type": "code",
   "execution_count": null,
   "metadata": {
    "papermill": {},
    "tags": []
   },
   "outputs": [],
   "source": []
  }
 ],
 "metadata": {
  "hide_input": false,
  "kernelspec": {
   "display_name": "Python 3",
   "language": "python",
   "name": "python3"
  },
  "language_info": {
   "codemirror_mode": {
    "name": "ipython",
    "version": 3
   },
   "file_extension": ".py",
   "mimetype": "text/x-python",
   "name": "python",
   "nbconvert_exporter": "python",
   "pygments_lexer": "ipython3",
   "version": "3.7.3"
  },
  "papermill": {
   "environment_variables": {},
   "input_path": "pairwise_marker_selection.ipynb",
   "output_path": "ExcSubTypePairwiseMarker/SubType.pairwise_marker_selection.ipynb",
   "parameters": {
    "adj_p_cutoff": 0.005,
    "auroc_cutoff": 0.8,
    "chunk_size": 50,
    "cluster_col": "SubType",
    "cpu": 20,
    "delta_rate_cutoff": 0.3,
    "max_test_cell_population": 2000,
    "mcds_pattern": "/home/hanliu/project/mouse_rostral_brain/study/Level1-CellClass/ALL_manual/Adata/GeneWithSlop2kb.gene_da_rate.*.mcds",
    "min_cluster_cell_number": 10,
    "top_n": 30000,
    "use_clusters": [
     "CA3 Cadm2",
     "CA1 Chrm3",
     "CA3-St18 Tead1",
     "Gfra1 Gfra1",
     "IT-L5 Etv1",
     "CA1 Ptprg",
     "NP-L6 Cntnap4",
     "CA3-St18 Nuak1",
     "CT-L6 Megf9",
     "IG-CA2 Chrm3",
     "IG-CA2 Peak1",
     "DG-po Calb2",
     "DG dg-all",
     "CA1 Kif26a",
     "CA3 Efnb2",
     "CA1 Ak5",
     "DG-po Bcl11a",
     "PT-L5 Tenm2",
     "CA1 Lingo2",
     "CA3-St18 Epha5",
     "IG-CA2 Xpr1",
     "DG-po Kctd8",
     "CT-L6 Il1rap",
     "L6b Adcy8",
     "IT-L6 Man1c1",
     "NP-L6 Olfml2b",
     "PT-L5 Abca12",
     "PT-L5 Nectin1",
     "IT-L23 Cux1",
     "IT-L23 Foxp1",
     "IT-L4 Shc3",
     "IT-L5 Cdh8",
     "IT-L5 Grik3",
     "PT-L5 Tmtc2",
     "IT-L23 Tenm2",
     "NP-L6 Cntnap5a",
     "CT-L6 Hcrtr2",
     "PT-L5 Plcb4",
     "IT-L23 Ptprt",
     "CT-L6 Map4",
     "NP-L6 Boc",
     "PT-L5 Kcnh1",
     "OLF-Exc Bmpr1b",
     "PT-L5 Astn2",
     "IT-L6 Fstl4",
     "CLA Bcl11a",
     "NP-L6 Cyp7b1",
     "CLA Cdh8",
     "IT-L6 Cadps2",
     "PT-L5 Ptprt",
     "NP-L6 Kcnab1",
     "IT-L6 Oxr1",
     "OLF-Exc Pld5",
     "OLF-Exc Lrrtm3",
     "OLF-Exc Cdh9",
     "OLF-Exc Unc13c",
     "L6b Nrp2",
     "OLF-Exc Sgcd",
     "OLF-Exc Rmst",
     "PT-L5 Unc5b",
     "L6b Pkhd1",
     "L6b Kcnk2",
     "IT-L4 Astn2",
     "CLA Nrp2",
     "EP Tspan5",
     "OLF-Exc Cux2",
     "EP Rgs8",
     "EP Adcy8"
    ]
   },
   "version": "1.0.1"
  },
  "toc": {
   "base_numbering": 1,
   "nav_menu": {},
   "number_sections": true,
   "sideBar": true,
   "skip_h1_title": true,
   "title_cell": "Table of Contents",
   "title_sidebar": "Contents",
   "toc_cell": false,
   "toc_position": {},
   "toc_section_display": true,
   "toc_window_display": true
  }
 },
 "nbformat": 4,
 "nbformat_minor": 2
}
