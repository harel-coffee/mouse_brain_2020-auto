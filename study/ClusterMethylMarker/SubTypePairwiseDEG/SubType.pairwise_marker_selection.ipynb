{
 "cells": [
  {
   "cell_type": "markdown",
   "metadata": {
    "papermill": {},
    "tags": []
   },
   "source": [
    "## Marker Selection"
   ]
  },
  {
   "cell_type": "code",
   "execution_count": 4,
   "metadata": {
    "ExecuteTime": {
     "end_time": "2020-01-27T21:28:26.033064Z",
     "start_time": "2020-01-27T21:28:26.029589Z"
    },
    "papermill": {},
    "tags": []
   },
   "outputs": [],
   "source": [
    "import pathlib\n",
    "from concurrent.futures import ProcessPoolExecutor, as_completed\n",
    "from itertools import combinations\n",
    "import numpy as np\n",
    "import anndata\n",
    "import matplotlib.pyplot as plt\n",
    "import pandas as pd\n",
    "import scanpy as sc\n",
    "import seaborn as sns\n",
    "import xarray as xr\n",
    "import subprocess\n",
    "from sklearn.metrics import roc_auc_score\n",
    "from cemba_data.tools.hdf5.anndata import rank_features_groups\n",
    "import warnings\n",
    "warnings.filterwarnings('ignore')"
   ]
  },
  {
   "cell_type": "markdown",
   "metadata": {
    "papermill": {},
    "tags": []
   },
   "source": [
    "## Parameter"
   ]
  },
  {
   "cell_type": "code",
   "execution_count": 5,
   "metadata": {
    "ExecuteTime": {
     "end_time": "2020-01-27T21:28:26.986839Z",
     "start_time": "2020-01-27T21:28:26.984235Z"
    },
    "papermill": {},
    "tags": [
     "parameters"
    ]
   },
   "outputs": [],
   "source": [
    "mcds_pattern = '/home/hanliu/project/mouse_rostral_brain/study/Level1-CellClass/ALL_manual/Adata/GeneWithSlop2kb.gene_da_rate.*.mcds'\n",
    "min_cluster_cell_number = 10\n",
    "adj_p_cutoff = 1e-1\n",
    "top_n = 1000\n",
    "max_test_cell_population = 100\n",
    "chunk_size = 1\n",
    "delta_rate_cutoff = 0.3\n",
    "auroc_cutoff = 0.8"
   ]
  },
  {
   "cell_type": "code",
   "execution_count": 6,
   "metadata": {
    "ExecuteTime": {
     "end_time": "2020-01-27T21:28:28.576671Z",
     "start_time": "2020-01-27T21:28:28.569039Z"
    },
    "tags": [
     "injected-parameters"
    ]
   },
   "outputs": [],
   "source": [
    "# Parameters\n",
    "cluster_col = \"SubType\"\n",
    "use_clusters = [\n",
    "    \"MGE-Sst Rxra\", \"CA3 Cadm2\", \"CA1 Chrm3\", \"CA3-St18 Tead1\", \"Unc5c Unc5c\",\n",
    "    \"Gfra1 Gfra1\", \"IT-L5 Etv1\", \"CA1 Ptprg\", \"MGE-Sst Ptpre\", \"NP-L6 Cntnap4\",\n",
    "    \"CA3-St18 Nuak1\", \"CGE-Lamp5 Dock5\", \"CT-L6 Megf9\", \"IG-CA2 Chrm3\",\n",
    "    \"IG-CA2 Peak1\", \"DG-po Calb2\", \"DG dg-all\", \"CGE-Vip Ntng1\", \"CA1 Kif26a\",\n",
    "    \"CA3 Efnb2\", \"CGE-Vip Ptprm\", \"CA1 Ak5\", \"DG-po Bcl11a\", \"PT-L5 Tenm2\",\n",
    "    \"CGE-Vip Robo1\", \"CA1 Lingo2\", \"MGE-Pvalb Gfra2\", \"CA3-St18 Epha5\",\n",
    "    \"PAL-Inh Meis2\", \"IG-CA2 Xpr1\", \"MGE-Sst Unc5b\", \"MGE-Pvalb Thsd7a\",\n",
    "    \"CGE-Vip Grm8\", \"MGE-Sst Dock4\", \"CGE-Lamp5 Grk5\", \"OLF Xkr6\",\n",
    "    \"DG-po Kctd8\", \"MSN-D2 Slc24a2\", \"CGE-Lamp5 Sorcs1\", \"CT-L6 Il1rap\",\n",
    "    \"L6b Adcy8\", \"MGE-Pvalb Entpd3\", \"IT-L6 Man1c1\", \"MGE-Pvalb Ptprk\",\n",
    "    \"CGE-Vip Ccser1\", \"NP-L6 Olfml2b\", \"CGE-Lamp5 Grid1\", \"MGE-Pvalb Sema5a\",\n",
    "    \"MGE-Sst Kcnip4\", \"PT-L5 Abca12\", \"MGE-Sst Frmd6\", \"MGE-Pvalb Cnih3\",\n",
    "    \"MGE-Sst Ubtd1\", \"PT-L5 Nectin1\", \"MGE-Sst Rerg\", \"CGE-Vip Fstl4\",\n",
    "    \"CGE-Vip Galnt17\", \"MGE-Sst Etv1\", \"IT-L23 Cux1\", \"IT-L23 Foxp1\",\n",
    "    \"CGE-Vip Clstn2\", \"IT-L4 Shc3\", \"IT-L5 Cdh8\", \"IT-L5 Grik3\", \"PT-L5 Tmtc2\",\n",
    "    \"IT-L23 Tenm2\", \"NP-L6 Cntnap5a\", \"CT-L6 Hcrtr2\", \"PT-L5 Plcb4\",\n",
    "    \"IT-L23 Ptprt\", \"CGE-Lamp5 Nrxn3\", \"CT-L6 Map4\", \"MGE-Sst Chodl\",\n",
    "    \"NP-L6 Boc\", \"PT-L5 Kcnh1\", \"OLF-Exc Bmpr1b\", \"OLF Trpc4\", \"PT-L5 Astn2\",\n",
    "    \"IT-L6 Fstl4\", \"CLA Bcl11a\", \"NP-L6 Cyp7b1\", \"CLA Cdh8\", \"IT-L6 Cadps2\",\n",
    "    \"PT-L5 Ptprt\", \"NP-L6 Kcnab1\", \"IT-L6 Oxr1\", \"Foxp2 Homer2\",\n",
    "    \"MGE-Pvalb Cacna1i\", \"MSN-D1 Khdrbs3\", \"MSN-D1 Plxnc1\", \"OLF Mapk10\",\n",
    "    \"MSN-D1 Hrh1\", \"Foxp2 Trpc7\", \"OLF Pag1\", \"MSN-D2 Col14a1\",\n",
    "    \"MGE-Sst Bmper\", \"OLF-Exc Pld5\", \"OLF Gabbr2\", \"OLF Kcnd3\",\n",
    "    \"PAL-Inh Deptor\", \"OLF-Exc Lrrtm3\", \"OLF-Exc Cdh9\", \"OLF-Exc Unc13c\",\n",
    "    \"PAL-Inh Meis1\", \"L6b Nrp2\", \"LSX-Inh Cacna1i\", \"OLF-Exc Sgcd\",\n",
    "    \"OLF-Exc Rmst\", \"PT-L5 Unc5b\", \"L6b Pkhd1\", \"L6b Kcnk2\", \"IT-L4 Astn2\",\n",
    "    \"CLA Nrp2\", \"D1L-Fstl4 Sipa1l2\", \"EP Tspan5\", \"PAL-Inh Rarb\",\n",
    "    \"MSN-D2 Nrp2\", \"D1L-Fstl4 Trps1\", \"Foxp2 Dchs2\", \"OLF-Exc Cux2\",\n",
    "    \"PAL-Inh Chat\", \"D1L-PAL Flrt2\", \"EP Rgs8\", \"PAL-Inh Igdcc3\",\n",
    "    \"PAL-Inh Tmem178\", \"MSN-D1 Ntn1\", \"Foxp2 Inpp4b\", \"MSN-D2 Casz1\",\n",
    "    \"Chd7 Kcnc2\", \"PAL-Inh Tcf7l2\", \"D1L-Fstl4 Grm3\", \"D1L-Fstl4 Cadm1\",\n",
    "    \"Chd7 Trpc7\", \"PAL-Inh Ptprd\", \"D1L-Fstl4 Crim1\", \"Chd7 Megf11\",\n",
    "    \"EP Adcy8\", \"D1L-PAL Plcxd3\", \"PAL-Inh Onecut2\", \"LSX-Inh Foxp2\",\n",
    "    \"LSX-Inh Enox1\", \"LSX-Inh Dock10\", \"LSX-Inh Nxph1\", \"LSX-Inh Zeb2\",\n",
    "    \"LSX-Inh Lats2\"\n",
    "]\n",
    "mcds_pattern = \"/home/hanliu/project/mouse_rostral_brain/study/Level1-CellClass/ALL_manual/Adata/GeneWithSlop2kb.gene_da_rate.*.mcds\"\n",
    "min_cluster_cell_number = 10\n",
    "adj_p_cutoff = 0.005\n",
    "top_n = 1000\n",
    "cpu = 20\n",
    "max_test_cell_population = 1000\n",
    "chunk_size = 50\n",
    "delta_rate_cutoff = 0.3\n",
    "auroc_cutoff = 0.8"
   ]
  },
  {
   "cell_type": "markdown",
   "metadata": {
    "papermill": {},
    "tags": []
   },
   "source": [
    "### Stable Parameter"
   ]
  },
  {
   "cell_type": "code",
   "execution_count": 7,
   "metadata": {
    "ExecuteTime": {
     "end_time": "2020-01-27T21:28:30.072427Z",
     "start_time": "2020-01-27T21:28:30.070482Z"
    },
    "papermill": {},
    "tags": []
   },
   "outputs": [],
   "source": [
    "tidy_data_path = '/home/hanliu/project/mouse_rostral_brain/study/ClusteringSummary/Summary/TotalClusteringResults.msg'\n",
    "random_seed = 0"
   ]
  },
  {
   "cell_type": "markdown",
   "metadata": {
    "papermill": {},
    "tags": []
   },
   "source": [
    "## Cell Tidy Data"
   ]
  },
  {
   "cell_type": "code",
   "execution_count": 8,
   "metadata": {
    "ExecuteTime": {
     "end_time": "2020-01-27T21:28:32.846815Z",
     "start_time": "2020-01-27T21:28:32.343389Z"
    },
    "papermill": {},
    "tags": []
   },
   "outputs": [
    {
     "data": {
      "text/plain": [
       "95401"
      ]
     },
     "execution_count": 8,
     "metadata": {},
     "output_type": "execute_result"
    }
   ],
   "source": [
    "cell_tidy_data = pd.read_msgpack(tidy_data_path)\n",
    "\n",
    "if use_clusters is not None:\n",
    "    cell_tidy_data = cell_tidy_data[cell_tidy_data[cluster_col].isin(\n",
    "        use_clusters)]\n",
    "cell_tidy_data.shape[0]"
   ]
  },
  {
   "cell_type": "code",
   "execution_count": 9,
   "metadata": {
    "ExecuteTime": {
     "end_time": "2020-01-27T21:28:35.240904Z",
     "start_time": "2020-01-27T21:28:33.989655Z"
    },
    "papermill": {},
    "tags": []
   },
   "outputs": [
    {
     "data": {
      "text/plain": [
       "IT-L23 Ptprt      1000\n",
       "IT-L5 Cdh8        1000\n",
       "CA1 Chrm3         1000\n",
       "OLF-Exc Sgcd      1000\n",
       "MSN-D2 Slc24a2    1000\n",
       "                  ... \n",
       "CA1 Lingo2          54\n",
       "DG-po Calb2         51\n",
       "OLF Xkr6            46\n",
       "DG-po Kctd8         39\n",
       "L6b Pkhd1           37\n",
       "Name: SubType, Length: 145, dtype: int64"
      ]
     },
     "execution_count": 9,
     "metadata": {},
     "output_type": "execute_result"
    }
   ],
   "source": [
    "records = []\n",
    "for cluster, sub_df in cell_tidy_data.groupby(cluster_col):\n",
    "    if sub_df.shape[0] < max_test_cell_population:\n",
    "        records.append(sub_df)\n",
    "    else:\n",
    "        records.append(\n",
    "            sub_df.sample(max_test_cell_population, random_state=random_seed))\n",
    "cell_tidy_data = pd.concat(records)\n",
    "cell_tidy_data[cluster_col].value_counts()"
   ]
  },
  {
   "cell_type": "code",
   "execution_count": 10,
   "metadata": {
    "ExecuteTime": {
     "end_time": "2020-01-27T21:28:35.263642Z",
     "start_time": "2020-01-27T21:28:35.242516Z"
    },
    "papermill": {},
    "tags": []
   },
   "outputs": [
    {
     "name": "stdout",
     "output_type": "stream",
     "text": [
      "145 pass filter.\n",
      "10440 pairwise comparison to test.\n"
     ]
    }
   ],
   "source": [
    "cluster_series = cell_tidy_data[cluster_col].astype(str)\n",
    "cluster_counts = cluster_series.value_counts()\n",
    "\n",
    "\n",
    "def check_cluster(cluster, count):\n",
    "    if count < min_cluster_cell_number:\n",
    "        return False\n",
    "    return True\n",
    "\n",
    "\n",
    "unique_clusters = [\n",
    "    cluster for cluster, count in cluster_counts.items()\n",
    "    if check_cluster(cluster, count)\n",
    "]\n",
    "cluster_pairs = list(combinations(unique_clusters, 2))\n",
    "\n",
    "print(len(unique_clusters), 'pass filter.')\n",
    "print(len(cluster_pairs), 'pairwise comparison to test.')"
   ]
  },
  {
   "cell_type": "markdown",
   "metadata": {
    "papermill": {},
    "tags": []
   },
   "source": [
    "## Gene meta"
   ]
  },
  {
   "cell_type": "code",
   "execution_count": 11,
   "metadata": {
    "ExecuteTime": {
     "end_time": "2020-01-27T21:28:37.198971Z",
     "start_time": "2020-01-27T21:28:36.913533Z"
    },
    "papermill": {},
    "tags": []
   },
   "outputs": [],
   "source": [
    "gene_meta = pd.read_csv(\n",
    "    '/home/hanliu/project/mouse_rostral_brain/study/ClusterMethylMarker/gencode.vM22.annotation.gene.flat.filtered_white_genes.tsv.gz',\n",
    "    index_col='gene_id',\n",
    "    sep='\\t')\n",
    "gene_meta.index.name = 'gene'\n",
    "gene_name_to_id = {v: k for k, v in gene_meta['gene_name'].iteritems()}\n",
    "gene_idbase_to_id = {i.split('.')[0]: i for i in gene_meta.index}"
   ]
  },
  {
   "cell_type": "markdown",
   "metadata": {
    "papermill": {},
    "tags": []
   },
   "source": [
    "## Adata"
   ]
  },
  {
   "cell_type": "code",
   "execution_count": 9,
   "metadata": {
    "papermill": {},
    "tags": []
   },
   "outputs": [],
   "source": [
    "gene_mcds = xr.open_mfdataset(mcds_pattern)\n",
    "use_gene = gene_mcds.get_index('gene') & gene_meta.index\n",
    "gene_meta = gene_meta.reindex(use_gene)"
   ]
  },
  {
   "cell_type": "code",
   "execution_count": 10,
   "metadata": {
    "papermill": {},
    "tags": []
   },
   "outputs": [
    {
     "data": {
      "text/plain": [
       "<xarray.Dataset>\n",
       "Dimensions:           (cell: 104340, gene: 55487, mc_type: 2)\n",
       "Coordinates:\n",
       "  * mc_type           (mc_type) object 'CGN' 'CHN'\n",
       "    strand_type       <U4 'both'\n",
       "  * gene              (gene) object 'ENSMUSG00000102693.1' ... 'ENSMUSG00000064372.1'\n",
       "    geneslop2k_chrom  (gene) object 'chr1' 'chr1' 'chr1' ... 'chrM' 'chrM'\n",
       "    geneslop2k_start  (gene) int64 3071252 3100015 3203900 ... 12144 13288 13355\n",
       "    geneslop2k_end    (gene) int64 3076321 3104124 3673497 ... 16299 16299 16299\n",
       "  * cell              (cell) object '1A_M_0' '1A_M_1' ... '8J_M_1292'\n",
       "Data variables:\n",
       "    gene_da           (cell, gene, mc_type) float64 dask.array<shape=(104340, 55487, 2), chunksize=(10000, 55487, 2)>"
      ]
     },
     "execution_count": 10,
     "metadata": {},
     "output_type": "execute_result"
    }
   ],
   "source": [
    "gene_mcds"
   ]
  },
  {
   "cell_type": "code",
   "execution_count": 11,
   "metadata": {
    "papermill": {},
    "tags": []
   },
   "outputs": [
    {
     "data": {
      "text/plain": [
       "<xarray.DataArray 'gene_da' (cell: 59714, gene: 50231)>\n",
       "dask.array<shape=(59714, 50231), dtype=float64, chunksize=(122, 50231)>\n",
       "Coordinates:\n",
       "    mc_type           <U3 'CHN'\n",
       "    strand_type       <U4 'both'\n",
       "  * gene              (gene) object 'ENSMUSG00000102693.1' ... 'ENSMUSG00000064372.1'\n",
       "    geneslop2k_chrom  (gene) object 'chr1' 'chr1' 'chr1' ... 'chrM' 'chrM'\n",
       "    geneslop2k_start  (gene) int64 3071252 3100015 3203900 ... 12144 13288 13355\n",
       "    geneslop2k_end    (gene) int64 3076321 3104124 3673497 ... 16299 16299 16299\n",
       "  * cell              (cell) object '10E_M_1566' '10E_M_1589' ... '9J_M_572'"
      ]
     },
     "execution_count": 11,
     "metadata": {},
     "output_type": "execute_result"
    }
   ],
   "source": [
    "gene_mcds = gene_mcds['gene_da'].sel(mc_type='CHN',\n",
    "                                     cell=cell_tidy_data.index,\n",
    "                                     gene=gene_meta.index)\n",
    "gene_mcds"
   ]
  },
  {
   "cell_type": "code",
   "execution_count": 12,
   "metadata": {
    "papermill": {},
    "tags": []
   },
   "outputs": [],
   "source": [
    "cell_tidy_data.to_msgpack('TEMP.msg')"
   ]
  },
  {
   "cell_type": "code",
   "execution_count": 13,
   "metadata": {
    "papermill": {},
    "tags": []
   },
   "outputs": [],
   "source": [
    "gene_mcds.to_netcdf('TEMP.nc')"
   ]
  },
  {
   "cell_type": "markdown",
   "metadata": {
    "papermill": {},
    "tags": []
   },
   "source": [
    "## Pairwise test"
   ]
  },
  {
   "cell_type": "code",
   "execution_count": 9,
   "metadata": {
    "papermill": {},
    "tags": []
   },
   "outputs": [],
   "source": [
    "def get_sig_features(rank_gene_dict):\n",
    "    pvals_adj = pd.DataFrame(rank_gene_dict['pvals_adj'])\n",
    "    names = pd.DataFrame(rank_gene_dict['names'])\n",
    "    return pvals_adj, names\n",
    "\n",
    "\n",
    "def get_delta(cluster, gene):\n",
    "    row = cluster_mean_gene_df.loc[gene].copy()\n",
    "    cluster_value = row.pop(cluster)\n",
    "    other_mean = row[0] # only two cluster\n",
    "    delta = cluster_value - other_mean\n",
    "    return delta\n",
    "\n",
    "\n",
    "def calculate_single_pair(data_path, pair):\n",
    "    cluster_a, cluster_b = pair\n",
    "    output_dir = pathlib.Path(f'TEMP/{cluster_a}')\n",
    "    output_dir.mkdir(exist_ok=True)\n",
    "    output_path = output_dir / f'{cluster_b}.msg'\n",
    "    if output_path.exists():\n",
    "        return\n",
    "    \n",
    "    this_tidy_data = pd.read_msgpack('TEMP.msg')\n",
    "    this_tidy_data = this_tidy_data[this_tidy_data[cluster_col].isin(pair)]\n",
    "    \n",
    "    mcds = xr.open_dataarray(data_path).sel(cell=this_tidy_data.index).load()\n",
    "    adata = anndata.AnnData(X=mcds.values,\n",
    "                    obs=pd.DataFrame([], mcds.get_index('cell')),\n",
    "                    var=pd.DataFrame([], mcds.get_index('gene')))\n",
    "    adata.obs['cluster'] = this_tidy_data[cluster_col].astype('category')\n",
    "    \n",
    "    # reverse_adata, centered by 1 because after normalization all prior is center to 1\n",
    "    adata.X = (adata.X - 1) * -1 + 1\n",
    "    \n",
    "    # calculate cluster delta\n",
    "    records = {}\n",
    "    for cluster, sub_df in adata.obs.groupby('cluster'):\n",
    "        sub_adata = adata[sub_df.index, :]\n",
    "        gene_mean = sub_adata.X.mean(axis=0)\n",
    "        records[cluster] = pd.Series(gene_mean, index=sub_adata.var_names)\n",
    "    cluster_mean_gene_df = pd.DataFrame(records)\n",
    "\n",
    "    # judge gene by delta\n",
    "    cluster_delta = (cluster_mean_gene_df[cluster_a] -\n",
    "                     cluster_mean_gene_df[cluster_b]).abs()\n",
    "    delta_judge = cluster_delta > delta_rate_cutoff\n",
    "    use_adata = adata[:, delta_judge]\n",
    "    \n",
    "    # sc.tl.rank_genes_groups will do expm1 internally when calculate fold change...\n",
    "    # do not use the fold change calculated by sc.tl.rank_genes_groups\n",
    "    sc.tl.rank_genes_groups(use_adata,\n",
    "                            groupby='cluster',\n",
    "                            n_genes=top_n,\n",
    "                            method='wilcoxon')\n",
    "    pvals_adj, names = get_sig_features(\n",
    "        use_adata.uns['rank_genes_groups'])\n",
    "\n",
    "    results = []\n",
    "    for col in use_adata.obs['cluster'].unique():\n",
    "        if col not in pair:\n",
    "            continue\n",
    "        df = pd.DataFrame({\n",
    "            'pvals_adj': pvals_adj[col].tolist(),\n",
    "            'gene_id': names[col].tolist()\n",
    "        })\n",
    "        df['cluster_from'] = col\n",
    "        df['cluster_to'] = cluster_a if col == cluster_b else cluster_b\n",
    "        results.append(df)\n",
    "    \n",
    "    # get total results filter by adj_p\n",
    "    total_results = pd.concat(results)\n",
    "    total_results['gene_name'] = total_results['gene_id'].map(\n",
    "        gene_meta['gene_name'])\n",
    "    total_results['-lgp'] = -np.log10(total_results['pvals_adj'])\n",
    "    total_results['-lgp'] = total_results['-lgp'].replace(np.inf, 1000)\n",
    "    total_results = total_results[\n",
    "        total_results['pvals_adj'] < adj_p_cutoff].copy()\n",
    "\n",
    "    # judge by auroc\n",
    "    total_results['AUROC'] = total_results[[\n",
    "        'gene_id', 'cluster_from'\n",
    "    ]].apply(lambda i: get_auroc(i['gene_id'], i['cluster_from'],\n",
    "                                 use_adata),\n",
    "             axis=1)\n",
    "    total_results = total_results[total_results['AUROC'] > auroc_cutoff]\n",
    "    total_results.to_msgpack(output_path)\n",
    "    return\n",
    "\n",
    "\n",
    "def get_auroc(gene_id, cluster, adata):\n",
    "    yscore = adata.obs_vector(gene_id)\n",
    "    ylabel = adata.obs['cluster'] == cluster\n",
    "    score = roc_auc_score(ylabel, yscore)\n",
    "    score = abs(score - 0.5) + 0.5\n",
    "    return score"
   ]
  },
  {
   "cell_type": "code",
   "execution_count": 10,
   "metadata": {
    "papermill": {},
    "tags": []
   },
   "outputs": [],
   "source": [
    "data_path = 'TEMP.nc'"
   ]
  },
  {
   "cell_type": "markdown",
   "metadata": {
    "papermill": {},
    "tags": []
   },
   "source": [
    "## Run pairwise marker"
   ]
  },
  {
   "cell_type": "code",
   "execution_count": null,
   "metadata": {
    "papermill": {},
    "scrolled": true,
    "tags": []
   },
   "outputs": [
    {
     "name": "stdout",
     "output_type": "stream",
     "text": [
      "100\n",
      "200\n",
      "300\n",
      "400\n",
      "500\n",
      "600\n",
      "700\n"
     ]
    }
   ],
   "source": [
    "pair_marker_counts = {}\n",
    "n = 0\n",
    "chunk_size = cpu\n",
    "for chunk_start in range(0, len(cluster_pairs), chunk_size):\n",
    "    pairs = cluster_pairs[chunk_start : chunk_start + chunk_size]\n",
    "    \n",
    "    with ProcessPoolExecutor(cpu) as executor:\n",
    "        temp_dir = 'TEMP'\n",
    "        pathlib.Path(temp_dir).mkdir(exist_ok=True)\n",
    "        futures = []\n",
    "        for pair in pairs:\n",
    "            future = executor.submit(calculate_single_pair, data_path, pair)\n",
    "            futures.append(future)\n",
    "    \n",
    "        for future in as_completed(futures):\n",
    "            n += 1\n",
    "            if n % 100 == 0:\n",
    "                print(n)\n",
    "            future.result()"
   ]
  },
  {
   "cell_type": "markdown",
   "metadata": {
    "papermill": {},
    "tags": []
   },
   "source": [
    "## Aggregate DEG"
   ]
  },
  {
   "cell_type": "code",
   "execution_count": 12,
   "metadata": {
    "papermill": {},
    "tags": []
   },
   "outputs": [],
   "source": [
    "temp_dir = pathlib.Path('TEMP')\n",
    "deg_list = list(temp_dir.glob('**/*msg'))\n",
    "\n",
    "df_list = []\n",
    "for path in deg_list:\n",
    "    df_list.append(pd.read_msgpack(path))\n",
    "\n",
    "total_markers = pd.concat(df_list)"
   ]
  },
  {
   "cell_type": "code",
   "execution_count": 13,
   "metadata": {
    "papermill": {},
    "tags": []
   },
   "outputs": [],
   "source": [
    "assert total_markers.set_index(['gene_id', 'cluster_from', 'cluster_to']).index.duplicated().sum() == 0"
   ]
  },
  {
   "cell_type": "code",
   "execution_count": 14,
   "metadata": {},
   "outputs": [
    {
     "data": {
      "text/plain": [
       "(18477109, 7)"
      ]
     },
     "execution_count": 14,
     "metadata": {},
     "output_type": "execute_result"
    }
   ],
   "source": [
    "total_markers.shape"
   ]
  },
  {
   "cell_type": "markdown",
   "metadata": {
    "papermill": {},
    "tags": []
   },
   "source": [
    "## Save results"
   ]
  },
  {
   "cell_type": "code",
   "execution_count": 15,
   "metadata": {
    "papermill": {},
    "tags": []
   },
   "outputs": [],
   "source": [
    "total_markers.to_msgpack('TotalPairwiseMarker.msg')"
   ]
  },
  {
   "cell_type": "code",
   "execution_count": 16,
   "metadata": {
    "papermill": {},
    "tags": []
   },
   "outputs": [],
   "source": [
    "marker_counts = total_markers.set_index(['cluster_from', 'cluster_to']).index.value_counts()\n",
    "marker_counts.index = pd.MultiIndex.from_tuples(marker_counts.index.tolist())\n",
    "marker_counts = marker_counts.reset_index()\n",
    "marker_counts.columns = ['ClusterA', 'ClusterB', 'GeneCount']\n",
    "marker_counts.to_csv('Cluster_pair_marker_counts.csv', index=None)"
   ]
  },
  {
   "cell_type": "code",
   "execution_count": 17,
   "metadata": {
    "papermill": {},
    "tags": []
   },
   "outputs": [
    {
     "data": {
      "text/html": [
       "<div>\n",
       "<style scoped>\n",
       "    .dataframe tbody tr th:only-of-type {\n",
       "        vertical-align: middle;\n",
       "    }\n",
       "\n",
       "    .dataframe tbody tr th {\n",
       "        vertical-align: top;\n",
       "    }\n",
       "\n",
       "    .dataframe thead th {\n",
       "        text-align: right;\n",
       "    }\n",
       "</style>\n",
       "<table border=\"1\" class=\"dataframe\">\n",
       "  <thead>\n",
       "    <tr style=\"text-align: right;\">\n",
       "      <th></th>\n",
       "      <th>ClusterA</th>\n",
       "      <th>ClusterB</th>\n",
       "      <th>GeneCount</th>\n",
       "    </tr>\n",
       "  </thead>\n",
       "  <tbody>\n",
       "    <tr>\n",
       "      <th>20878</th>\n",
       "      <td>CT-L6 Il1rap</td>\n",
       "      <td>CT-L6 Megf9</td>\n",
       "      <td>7</td>\n",
       "    </tr>\n",
       "    <tr>\n",
       "      <th>20879</th>\n",
       "      <td>CT-L6 Megf9</td>\n",
       "      <td>CT-L6 Il1rap</td>\n",
       "      <td>7</td>\n",
       "    </tr>\n",
       "  </tbody>\n",
       "</table>\n",
       "</div>"
      ],
      "text/plain": [
       "           ClusterA      ClusterB  GeneCount\n",
       "20878  CT-L6 Il1rap   CT-L6 Megf9          7\n",
       "20879   CT-L6 Megf9  CT-L6 Il1rap          7"
      ]
     },
     "execution_count": 17,
     "metadata": {},
     "output_type": "execute_result"
    }
   ],
   "source": [
    "marker_counts[marker_counts['GeneCount'] < 10]"
   ]
  },
  {
   "cell_type": "code",
   "execution_count": 29,
   "metadata": {
    "deletable": false,
    "editable": false,
    "papermill": {},
    "run_control": {
     "frozen": true
    },
    "tags": []
   },
   "outputs": [
    {
     "data": {
      "text/plain": [
       "CompletedProcess(args='rm -rf TEMP*', returncode=0)"
      ]
     },
     "execution_count": 29,
     "metadata": {},
     "output_type": "execute_result"
    }
   ],
   "source": [
    "subprocess.run('rm -rf TEMP*', shell=True)"
   ]
  },
  {
   "cell_type": "code",
   "execution_count": 18,
   "metadata": {
    "papermill": {},
    "tags": []
   },
   "outputs": [],
   "source": [
    "with open('TotalGeneID.txt', 'w') as f:\n",
    "    for g in total_markers['gene_id'].unique():\n",
    "        f.write(f'{g}\\n')"
   ]
  },
  {
   "cell_type": "code",
   "execution_count": 19,
   "metadata": {
    "papermill": {},
    "tags": []
   },
   "outputs": [
    {
     "data": {
      "text/plain": [
       "27194"
      ]
     },
     "execution_count": 19,
     "metadata": {},
     "output_type": "execute_result"
    }
   ],
   "source": [
    "total_markers['gene_id'].unique().size"
   ]
  },
  {
   "cell_type": "code",
   "execution_count": 21,
   "metadata": {
    "papermill": {},
    "tags": []
   },
   "outputs": [
    {
     "data": {
      "text/html": [
       "<div>\n",
       "<style scoped>\n",
       "    .dataframe tbody tr th:only-of-type {\n",
       "        vertical-align: middle;\n",
       "    }\n",
       "\n",
       "    .dataframe tbody tr th {\n",
       "        vertical-align: top;\n",
       "    }\n",
       "\n",
       "    .dataframe thead th {\n",
       "        text-align: right;\n",
       "    }\n",
       "</style>\n",
       "<table border=\"1\" class=\"dataframe\">\n",
       "  <thead>\n",
       "    <tr style=\"text-align: right;\">\n",
       "      <th></th>\n",
       "      <th>ClusterA</th>\n",
       "      <th>ClusterB</th>\n",
       "      <th>GeneCount</th>\n",
       "    </tr>\n",
       "  </thead>\n",
       "  <tbody>\n",
       "    <tr>\n",
       "      <th>20869</th>\n",
       "      <td>LSX-Inh Nxph1</td>\n",
       "      <td>LSX-Inh Dock10</td>\n",
       "      <td>9</td>\n",
       "    </tr>\n",
       "    <tr>\n",
       "      <th>20870</th>\n",
       "      <td>MSN-D2 Slc24a2</td>\n",
       "      <td>MSN-D2 Nrp2</td>\n",
       "      <td>9</td>\n",
       "    </tr>\n",
       "    <tr>\n",
       "      <th>20871</th>\n",
       "      <td>MSN-D1 Plxnc1</td>\n",
       "      <td>MSN-D1 Hrh1</td>\n",
       "      <td>8</td>\n",
       "    </tr>\n",
       "    <tr>\n",
       "      <th>20872</th>\n",
       "      <td>PT-L5 Plcb4</td>\n",
       "      <td>PT-L5 Ptprt</td>\n",
       "      <td>8</td>\n",
       "    </tr>\n",
       "    <tr>\n",
       "      <th>20873</th>\n",
       "      <td>PT-L5 Ptprt</td>\n",
       "      <td>PT-L5 Plcb4</td>\n",
       "      <td>8</td>\n",
       "    </tr>\n",
       "    <tr>\n",
       "      <th>20874</th>\n",
       "      <td>D1L-PAL Plcxd3</td>\n",
       "      <td>D1L-PAL Flrt2</td>\n",
       "      <td>8</td>\n",
       "    </tr>\n",
       "    <tr>\n",
       "      <th>20875</th>\n",
       "      <td>OLF-Exc Rmst</td>\n",
       "      <td>OLF-Exc Cdh9</td>\n",
       "      <td>6</td>\n",
       "    </tr>\n",
       "    <tr>\n",
       "      <th>20876</th>\n",
       "      <td>LSX-Inh Dock10</td>\n",
       "      <td>PAL-Inh Meis2</td>\n",
       "      <td>4</td>\n",
       "    </tr>\n",
       "    <tr>\n",
       "      <th>20877</th>\n",
       "      <td>CT-L6 Il1rap</td>\n",
       "      <td>CT-L6 Megf9</td>\n",
       "      <td>2</td>\n",
       "    </tr>\n",
       "    <tr>\n",
       "      <th>20878</th>\n",
       "      <td>CT-L6 Megf9</td>\n",
       "      <td>CT-L6 Il1rap</td>\n",
       "      <td>2</td>\n",
       "    </tr>\n",
       "    <tr>\n",
       "      <th>20879</th>\n",
       "      <td>PAL-Inh Meis2</td>\n",
       "      <td>PAL-Inh Igdcc3</td>\n",
       "      <td>1</td>\n",
       "    </tr>\n",
       "  </tbody>\n",
       "</table>\n",
       "</div>"
      ],
      "text/plain": [
       "             ClusterA        ClusterB  GeneCount\n",
       "20869   LSX-Inh Nxph1  LSX-Inh Dock10          9\n",
       "20870  MSN-D2 Slc24a2     MSN-D2 Nrp2          9\n",
       "20871   MSN-D1 Plxnc1     MSN-D1 Hrh1          8\n",
       "20872     PT-L5 Plcb4     PT-L5 Ptprt          8\n",
       "20873     PT-L5 Ptprt     PT-L5 Plcb4          8\n",
       "20874  D1L-PAL Plcxd3   D1L-PAL Flrt2          8\n",
       "20875    OLF-Exc Rmst    OLF-Exc Cdh9          6\n",
       "20876  LSX-Inh Dock10   PAL-Inh Meis2          4\n",
       "20877    CT-L6 Il1rap     CT-L6 Megf9          2\n",
       "20878     CT-L6 Megf9    CT-L6 Il1rap          2\n",
       "20879   PAL-Inh Meis2  PAL-Inh Igdcc3          1"
      ]
     },
     "execution_count": 21,
     "metadata": {},
     "output_type": "execute_result"
    }
   ],
   "source": [
    "_marker_counts = total_markers[total_markers['AUROC'] > 0.85].set_index(\n",
    "    ['cluster_from', 'cluster_to']).index.value_counts()\n",
    "_marker_counts.index = pd.MultiIndex.from_tuples(_marker_counts.index.tolist())\n",
    "_marker_counts = _marker_counts.reset_index()\n",
    "_marker_counts.columns = ['ClusterA', 'ClusterB', 'GeneCount']\n",
    "_marker_counts[_marker_counts['GeneCount'] < 10]\n"
   ]
  },
  {
   "cell_type": "code",
   "execution_count": 23,
   "metadata": {
    "papermill": {},
    "tags": []
   },
   "outputs": [
    {
     "data": {
      "text/html": [
       "<div>\n",
       "<style scoped>\n",
       "    .dataframe tbody tr th:only-of-type {\n",
       "        vertical-align: middle;\n",
       "    }\n",
       "\n",
       "    .dataframe tbody tr th {\n",
       "        vertical-align: top;\n",
       "    }\n",
       "\n",
       "    .dataframe thead th {\n",
       "        text-align: right;\n",
       "    }\n",
       "</style>\n",
       "<table border=\"1\" class=\"dataframe\">\n",
       "  <thead>\n",
       "    <tr style=\"text-align: right;\">\n",
       "      <th></th>\n",
       "      <th>pvals_adj</th>\n",
       "      <th>gene_id</th>\n",
       "      <th>cluster_from</th>\n",
       "      <th>cluster_to</th>\n",
       "      <th>gene_name</th>\n",
       "      <th>-lgp</th>\n",
       "      <th>AUROC</th>\n",
       "    </tr>\n",
       "  </thead>\n",
       "  <tbody>\n",
       "    <tr>\n",
       "      <th>0</th>\n",
       "      <td>7.120809e-107</td>\n",
       "      <td>ENSMUSG00000054966.13</td>\n",
       "      <td>PAL-Inh Meis2</td>\n",
       "      <td>PAL-Inh Igdcc3</td>\n",
       "      <td>Lmntd1</td>\n",
       "      <td>106.147471</td>\n",
       "      <td>0.876676</td>\n",
       "    </tr>\n",
       "    <tr>\n",
       "      <th>1</th>\n",
       "      <td>5.826419e-86</td>\n",
       "      <td>ENSMUSG00000045659.18</td>\n",
       "      <td>PAL-Inh Meis2</td>\n",
       "      <td>PAL-Inh Igdcc3</td>\n",
       "      <td>Plekha7</td>\n",
       "      <td>85.234598</td>\n",
       "      <td>0.836973</td>\n",
       "    </tr>\n",
       "    <tr>\n",
       "      <th>2</th>\n",
       "      <td>6.477870e-86</td>\n",
       "      <td>ENSMUSG00000027210.20</td>\n",
       "      <td>PAL-Inh Meis2</td>\n",
       "      <td>PAL-Inh Igdcc3</td>\n",
       "      <td>Meis2</td>\n",
       "      <td>85.188568</td>\n",
       "      <td>0.836848</td>\n",
       "    </tr>\n",
       "    <tr>\n",
       "      <th>3</th>\n",
       "      <td>5.841211e-83</td>\n",
       "      <td>ENSMUSG00000004110.17</td>\n",
       "      <td>PAL-Inh Meis2</td>\n",
       "      <td>PAL-Inh Igdcc3</td>\n",
       "      <td>Cacna1e</td>\n",
       "      <td>82.233497</td>\n",
       "      <td>0.830921</td>\n",
       "    </tr>\n",
       "    <tr>\n",
       "      <th>4</th>\n",
       "      <td>6.150232e-75</td>\n",
       "      <td>ENSMUSG00000032511.17</td>\n",
       "      <td>PAL-Inh Meis2</td>\n",
       "      <td>PAL-Inh Igdcc3</td>\n",
       "      <td>Scn5a</td>\n",
       "      <td>74.211108</td>\n",
       "      <td>0.814104</td>\n",
       "    </tr>\n",
       "    <tr>\n",
       "      <th>5</th>\n",
       "      <td>1.852673e-73</td>\n",
       "      <td>ENSMUSG00000040612.13</td>\n",
       "      <td>PAL-Inh Meis2</td>\n",
       "      <td>PAL-Inh Igdcc3</td>\n",
       "      <td>Ildr2</td>\n",
       "      <td>72.732201</td>\n",
       "      <td>0.810864</td>\n",
       "    </tr>\n",
       "    <tr>\n",
       "      <th>6</th>\n",
       "      <td>4.805615e-73</td>\n",
       "      <td>ENSMUSG00000025372.16</td>\n",
       "      <td>PAL-Inh Meis2</td>\n",
       "      <td>PAL-Inh Igdcc3</td>\n",
       "      <td>Baiap2</td>\n",
       "      <td>72.318251</td>\n",
       "      <td>0.809961</td>\n",
       "    </tr>\n",
       "    <tr>\n",
       "      <th>7</th>\n",
       "      <td>6.227768e-73</td>\n",
       "      <td>ENSMUSG00000010755.17</td>\n",
       "      <td>PAL-Inh Meis2</td>\n",
       "      <td>PAL-Inh Igdcc3</td>\n",
       "      <td>Cars</td>\n",
       "      <td>72.205668</td>\n",
       "      <td>0.809700</td>\n",
       "    </tr>\n",
       "    <tr>\n",
       "      <th>8</th>\n",
       "      <td>8.564660e-69</td>\n",
       "      <td>ENSMUSG00000039410.16</td>\n",
       "      <td>PAL-Inh Meis2</td>\n",
       "      <td>PAL-Inh Igdcc3</td>\n",
       "      <td>Prdm16</td>\n",
       "      <td>68.067290</td>\n",
       "      <td>0.800494</td>\n",
       "    </tr>\n",
       "    <tr>\n",
       "      <th>9</th>\n",
       "      <td>1.266042e-68</td>\n",
       "      <td>ENSMUSG00000025812.17</td>\n",
       "      <td>PAL-Inh Meis2</td>\n",
       "      <td>PAL-Inh Igdcc3</td>\n",
       "      <td>Pard3</td>\n",
       "      <td>67.897552</td>\n",
       "      <td>0.800088</td>\n",
       "    </tr>\n",
       "  </tbody>\n",
       "</table>\n",
       "</div>"
      ],
      "text/plain": [
       "       pvals_adj                gene_id   cluster_from      cluster_to  \\\n",
       "0  7.120809e-107  ENSMUSG00000054966.13  PAL-Inh Meis2  PAL-Inh Igdcc3   \n",
       "1   5.826419e-86  ENSMUSG00000045659.18  PAL-Inh Meis2  PAL-Inh Igdcc3   \n",
       "2   6.477870e-86  ENSMUSG00000027210.20  PAL-Inh Meis2  PAL-Inh Igdcc3   \n",
       "3   5.841211e-83  ENSMUSG00000004110.17  PAL-Inh Meis2  PAL-Inh Igdcc3   \n",
       "4   6.150232e-75  ENSMUSG00000032511.17  PAL-Inh Meis2  PAL-Inh Igdcc3   \n",
       "5   1.852673e-73  ENSMUSG00000040612.13  PAL-Inh Meis2  PAL-Inh Igdcc3   \n",
       "6   4.805615e-73  ENSMUSG00000025372.16  PAL-Inh Meis2  PAL-Inh Igdcc3   \n",
       "7   6.227768e-73  ENSMUSG00000010755.17  PAL-Inh Meis2  PAL-Inh Igdcc3   \n",
       "8   8.564660e-69  ENSMUSG00000039410.16  PAL-Inh Meis2  PAL-Inh Igdcc3   \n",
       "9   1.266042e-68  ENSMUSG00000025812.17  PAL-Inh Meis2  PAL-Inh Igdcc3   \n",
       "\n",
       "  gene_name        -lgp     AUROC  \n",
       "0    Lmntd1  106.147471  0.876676  \n",
       "1   Plekha7   85.234598  0.836973  \n",
       "2     Meis2   85.188568  0.836848  \n",
       "3   Cacna1e   82.233497  0.830921  \n",
       "4     Scn5a   74.211108  0.814104  \n",
       "5     Ildr2   72.732201  0.810864  \n",
       "6    Baiap2   72.318251  0.809961  \n",
       "7      Cars   72.205668  0.809700  \n",
       "8    Prdm16   68.067290  0.800494  \n",
       "9     Pard3   67.897552  0.800088  "
      ]
     },
     "execution_count": 23,
     "metadata": {},
     "output_type": "execute_result"
    }
   ],
   "source": [
    "total_markers[(total_markers['cluster_from'] == 'PAL-Inh Meis2') & \n",
    "              (total_markers['cluster_to'] == 'PAL-Inh Igdcc3')]"
   ]
  },
  {
   "cell_type": "code",
   "execution_count": 2,
   "metadata": {
    "papermill": {},
    "tags": []
   },
   "outputs": [],
   "source": [
    "total_markers = pd.read_msgpack(\n",
    "    '/home/hanliu/project/mouse_rostral_brain/study/ClusterMethylMarker/SubTypePairwiseDEG/TotalPairwiseMarker.msg'\n",
    ")\n",
    "\n",
    "output_dir = 'PairwiseMarkerPerCluster'\n",
    "pathlib.Path(output_dir).mkdir(exist_ok=True)\n",
    "\n",
    "for cluster, sub_df in total_markers.groupby('cluster_from'):\n",
    "    print(cluster)\n",
    "    sub_df.to_msgpack(f'{output_dir}/{cluster}.msg')"
   ]
  },
  {
   "cell_type": "code",
   "execution_count": null,
   "metadata": {},
   "outputs": [],
   "source": []
  },
  {
   "cell_type": "code",
   "execution_count": null,
   "metadata": {
    "scrolled": true
   },
   "outputs": [],
   "source": []
  },
  {
   "cell_type": "code",
   "execution_count": null,
   "metadata": {},
   "outputs": [],
   "source": []
  }
 ],
 "metadata": {
  "hide_input": false,
  "kernelspec": {
   "display_name": "Python 3",
   "language": "python",
   "name": "python3"
  },
  "language_info": {
   "codemirror_mode": {
    "name": "ipython",
    "version": 3
   },
   "file_extension": ".py",
   "mimetype": "text/x-python",
   "name": "python",
   "nbconvert_exporter": "python",
   "pygments_lexer": "ipython3",
   "version": "3.7.3"
  },
  "papermill": {
   "environment_variables": {},
   "input_path": "pairwise_marker_selection.ipynb",
   "output_path": "SubTypePairwiseDEG/SubType.pairwise_marker_selection.ipynb",
   "parameters": {
    "adj_p_cutoff": 0.005,
    "auroc_cutoff": 0.8,
    "chunk_size": 50,
    "cluster_col": "SubType",
    "cpu": 20,
    "delta_rate_cutoff": 0.3,
    "max_test_cell_population": 1000,
    "mcds_pattern": "/home/hanliu/project/mouse_rostral_brain/study/Level1-CellClass/ALL_manual/Adata/GeneWithSlop2kb.gene_da_rate.*.mcds",
    "min_cluster_cell_number": 10,
    "top_n": 1000,
    "use_clusters": [
     "MGE-Sst Rxra",
     "CA3 Cadm2",
     "CA1 Chrm3",
     "CA3-St18 Tead1",
     "Unc5c Unc5c",
     "Gfra1 Gfra1",
     "IT-L5 Etv1",
     "CA1 Ptprg",
     "MGE-Sst Ptpre",
     "NP-L6 Cntnap4",
     "CA3-St18 Nuak1",
     "CGE-Lamp5 Dock5",
     "CT-L6 Megf9",
     "IG-CA2 Chrm3",
     "IG-CA2 Peak1",
     "DG-po Calb2",
     "DG dg-all",
     "CGE-Vip Ntng1",
     "CA1 Kif26a",
     "CA3 Efnb2",
     "CGE-Vip Ptprm",
     "CA1 Ak5",
     "DG-po Bcl11a",
     "PT-L5 Tenm2",
     "CGE-Vip Robo1",
     "CA1 Lingo2",
     "MGE-Pvalb Gfra2",
     "CA3-St18 Epha5",
     "PAL-Inh Meis2",
     "IG-CA2 Xpr1",
     "MGE-Sst Unc5b",
     "MGE-Pvalb Thsd7a",
     "CGE-Vip Grm8",
     "MGE-Sst Dock4",
     "CGE-Lamp5 Grk5",
     "OLF Xkr6",
     "DG-po Kctd8",
     "MSN-D2 Slc24a2",
     "CGE-Lamp5 Sorcs1",
     "CT-L6 Il1rap",
     "L6b Adcy8",
     "MGE-Pvalb Entpd3",
     "IT-L6 Man1c1",
     "MGE-Pvalb Ptprk",
     "CGE-Vip Ccser1",
     "NP-L6 Olfml2b",
     "CGE-Lamp5 Grid1",
     "MGE-Pvalb Sema5a",
     "MGE-Sst Kcnip4",
     "PT-L5 Abca12",
     "MGE-Sst Frmd6",
     "MGE-Pvalb Cnih3",
     "MGE-Sst Ubtd1",
     "PT-L5 Nectin1",
     "MGE-Sst Rerg",
     "CGE-Vip Fstl4",
     "CGE-Vip Galnt17",
     "MGE-Sst Etv1",
     "IT-L23 Cux1",
     "IT-L23 Foxp1",
     "CGE-Vip Clstn2",
     "IT-L4 Shc3",
     "IT-L5 Cdh8",
     "IT-L5 Grik3",
     "PT-L5 Tmtc2",
     "IT-L23 Tenm2",
     "NP-L6 Cntnap5a",
     "CT-L6 Hcrtr2",
     "PT-L5 Plcb4",
     "IT-L23 Ptprt",
     "CGE-Lamp5 Nrxn3",
     "CT-L6 Map4",
     "MGE-Sst Chodl",
     "NP-L6 Boc",
     "PT-L5 Kcnh1",
     "OLF-Exc Bmpr1b",
     "OLF Trpc4",
     "PT-L5 Astn2",
     "IT-L6 Fstl4",
     "CLA Bcl11a",
     "NP-L6 Cyp7b1",
     "CLA Cdh8",
     "IT-L6 Cadps2",
     "PT-L5 Ptprt",
     "NP-L6 Kcnab1",
     "IT-L6 Oxr1",
     "Foxp2 Homer2",
     "MGE-Pvalb Cacna1i",
     "MSN-D1 Khdrbs3",
     "MSN-D1 Plxnc1",
     "OLF Mapk10",
     "MSN-D1 Hrh1",
     "Foxp2 Trpc7",
     "OLF Pag1",
     "MSN-D2 Col14a1",
     "MGE-Sst Bmper",
     "OLF-Exc Pld5",
     "OLF Gabbr2",
     "OLF Kcnd3",
     "PAL-Inh Deptor",
     "OLF-Exc Lrrtm3",
     "OLF-Exc Cdh9",
     "OLF-Exc Unc13c",
     "PAL-Inh Meis1",
     "L6b Nrp2",
     "LSX-Inh Cacna1i",
     "OLF-Exc Sgcd",
     "OLF-Exc Rmst",
     "PT-L5 Unc5b",
     "L6b Pkhd1",
     "L6b Kcnk2",
     "IT-L4 Astn2",
     "CLA Nrp2",
     "D1L-Fstl4 Sipa1l2",
     "EP Tspan5",
     "PAL-Inh Rarb",
     "MSN-D2 Nrp2",
     "D1L-Fstl4 Trps1",
     "Foxp2 Dchs2",
     "OLF-Exc Cux2",
     "PAL-Inh Chat",
     "D1L-PAL Flrt2",
     "EP Rgs8",
     "PAL-Inh Igdcc3",
     "PAL-Inh Tmem178",
     "MSN-D1 Ntn1",
     "Foxp2 Inpp4b",
     "MSN-D2 Casz1",
     "Chd7 Kcnc2",
     "PAL-Inh Tcf7l2",
     "D1L-Fstl4 Grm3",
     "D1L-Fstl4 Cadm1",
     "Chd7 Trpc7",
     "PAL-Inh Ptprd",
     "D1L-Fstl4 Crim1",
     "Chd7 Megf11",
     "EP Adcy8",
     "D1L-PAL Plcxd3",
     "PAL-Inh Onecut2",
     "LSX-Inh Foxp2",
     "LSX-Inh Enox1",
     "LSX-Inh Dock10",
     "LSX-Inh Nxph1",
     "LSX-Inh Zeb2",
     "LSX-Inh Lats2"
    ]
   },
   "version": "1.0.1"
  },
  "toc": {
   "base_numbering": 1,
   "nav_menu": {},
   "number_sections": true,
   "sideBar": true,
   "skip_h1_title": true,
   "title_cell": "Table of Contents",
   "title_sidebar": "Contents",
   "toc_cell": false,
   "toc_position": {},
   "toc_section_display": true,
   "toc_window_display": true
  }
 },
 "nbformat": 4,
 "nbformat_minor": 2
}
