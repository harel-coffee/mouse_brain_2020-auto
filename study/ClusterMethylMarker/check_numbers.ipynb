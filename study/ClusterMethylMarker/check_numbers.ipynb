{
 "cells": [
  {
   "cell_type": "code",
   "execution_count": 1,
   "metadata": {
    "ExecuteTime": {
     "end_time": "2020-03-15T22:52:10.860398Z",
     "start_time": "2020-03-15T22:52:10.701697Z"
    }
   },
   "outputs": [],
   "source": [
    "import pandas as pd\n",
    "from collections import defaultdict"
   ]
  },
  {
   "cell_type": "code",
   "execution_count": 2,
   "metadata": {
    "ExecuteTime": {
     "end_time": "2020-03-15T22:52:20.363827Z",
     "start_time": "2020-03-15T22:52:10.861884Z"
    }
   },
   "outputs": [
    {
     "name": "stderr",
     "output_type": "stream",
     "text": [
      "/home/hanliu/miniconda3/envs/clustering/lib/python3.7/site-packages/IPython/core/interactiveshell.py:3326: FutureWarning: The read_msgpack is deprecated and will be removed in a future version.\n",
      "It is recommended to use pyarrow for on-the-wire transmission of pandas objects.\n",
      "  exec(code_obj, self.user_global_ns, self.user_ns)\n"
     ]
    }
   ],
   "source": [
    "inh_dmg = pd.read_msgpack('InhSubTypePairwiseMarker/TotalPairwiseMarker.msg')\n",
    "exc_dmg = pd.read_msgpack('ExcSubTypePairwiseMarker/TotalPairwiseMarker.msg')"
   ]
  },
  {
   "cell_type": "code",
   "execution_count": 3,
   "metadata": {
    "ExecuteTime": {
     "end_time": "2020-03-15T22:52:20.373400Z",
     "start_time": "2020-03-15T22:52:20.370331Z"
    }
   },
   "outputs": [],
   "source": [
    "total_count = defaultdict(int)\n",
    "total_count_exc = defaultdict(int)\n",
    "total_count_inh = defaultdict(int)"
   ]
  },
  {
   "cell_type": "code",
   "execution_count": 4,
   "metadata": {
    "ExecuteTime": {
     "end_time": "2020-03-15T22:52:22.989481Z",
     "start_time": "2020-03-15T22:52:20.374762Z"
    }
   },
   "outputs": [
    {
     "data": {
      "text/plain": [
       "count    2926.000000\n",
       "mean     1872.685919\n",
       "std       808.940402\n",
       "min        52.000000\n",
       "25%      1351.000000\n",
       "50%      1850.500000\n",
       "75%      2358.750000\n",
       "max      5092.000000\n",
       "dtype: float64"
      ]
     },
     "execution_count": 4,
     "metadata": {},
     "output_type": "execute_result"
    }
   ],
   "source": [
    "dmg_count = inh_dmg.groupby(['cluster_from', 'cluster_to']).apply(lambda i: i.shape[0])\n",
    "for (c1, c2), v in dmg_count.items():\n",
    "    label = '|'.join(sorted([c1, c2]))\n",
    "    total_count[label] += v\n",
    "    total_count_exc[label] += v\n",
    "pd.Series(total_count_exc).describe()"
   ]
  },
  {
   "cell_type": "code",
   "execution_count": 5,
   "metadata": {
    "ExecuteTime": {
     "end_time": "2020-03-15T22:52:24.928336Z",
     "start_time": "2020-03-15T22:52:22.991110Z"
    }
   },
   "outputs": [
    {
     "data": {
      "text/plain": [
       "count    2278.000000\n",
       "mean     2029.962687\n",
       "std      1057.139679\n",
       "min         7.000000\n",
       "25%      1343.750000\n",
       "50%      1923.000000\n",
       "75%      2514.500000\n",
       "max      8069.000000\n",
       "dtype: float64"
      ]
     },
     "execution_count": 5,
     "metadata": {},
     "output_type": "execute_result"
    }
   ],
   "source": [
    "dmg_count = exc_dmg.groupby(['cluster_from', 'cluster_to']).apply(lambda i: i.shape[0])\n",
    "for (c1, c2), v in dmg_count.items():\n",
    "    label = '|'.join(sorted([c1, c2]))\n",
    "    total_count[label] += v\n",
    "    total_count_inh[label] += v\n",
    "pd.Series(total_count_inh).describe()"
   ]
  },
  {
   "cell_type": "code",
   "execution_count": 6,
   "metadata": {
    "ExecuteTime": {
     "end_time": "2020-03-15T22:52:25.006194Z",
     "start_time": "2020-03-15T22:52:24.929885Z"
    }
   },
   "outputs": [
    {
     "data": {
      "text/plain": [
       "count    5204.000000\n",
       "mean     1941.532283\n",
       "std       929.000358\n",
       "min         7.000000\n",
       "25%      1350.000000\n",
       "50%      1881.000000\n",
       "75%      2421.250000\n",
       "max      8069.000000\n",
       "dtype: float64"
      ]
     },
     "execution_count": 6,
     "metadata": {},
     "output_type": "execute_result"
    }
   ],
   "source": [
    "pd.Series(total_count).describe()"
   ]
  },
  {
   "cell_type": "code",
   "execution_count": null,
   "metadata": {},
   "outputs": [],
   "source": []
  },
  {
   "cell_type": "code",
   "execution_count": null,
   "metadata": {},
   "outputs": [],
   "source": []
  },
  {
   "cell_type": "code",
   "execution_count": null,
   "metadata": {},
   "outputs": [],
   "source": []
  },
  {
   "cell_type": "code",
   "execution_count": null,
   "metadata": {},
   "outputs": [],
   "source": []
  }
 ],
 "metadata": {
  "hide_input": false,
  "kernelspec": {
   "display_name": "Python 3",
   "language": "python",
   "name": "python3"
  },
  "language_info": {
   "codemirror_mode": {
    "name": "ipython",
    "version": 3
   },
   "file_extension": ".py",
   "mimetype": "text/x-python",
   "name": "python",
   "nbconvert_exporter": "python",
   "pygments_lexer": "ipython3",
   "version": "3.7.3"
  },
  "toc": {
   "base_numbering": 1,
   "nav_menu": {},
   "number_sections": true,
   "sideBar": true,
   "skip_h1_title": true,
   "title_cell": "Table of Contents",
   "title_sidebar": "Contents",
   "toc_cell": false,
   "toc_position": {},
   "toc_section_display": true,
   "toc_window_display": true
  }
 },
 "nbformat": 4,
 "nbformat_minor": 2
}
