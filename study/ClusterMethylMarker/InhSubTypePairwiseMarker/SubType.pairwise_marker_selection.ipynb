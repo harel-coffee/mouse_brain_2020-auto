{
 "cells": [
  {
   "cell_type": "markdown",
   "metadata": {
    "papermill": {},
    "tags": []
   },
   "source": [
    "## Marker Selection"
   ]
  },
  {
   "cell_type": "code",
   "execution_count": 1,
   "metadata": {
    "ExecuteTime": {
     "end_time": "2020-02-18T07:12:41.117497Z",
     "start_time": "2020-02-18T07:12:32.495037Z"
    },
    "papermill": {},
    "tags": []
   },
   "outputs": [],
   "source": [
    "import pathlib\n",
    "from concurrent.futures import ProcessPoolExecutor, as_completed\n",
    "from itertools import combinations\n",
    "import numpy as np\n",
    "import anndata\n",
    "import matplotlib.pyplot as plt\n",
    "import pandas as pd\n",
    "import scanpy as sc\n",
    "import seaborn as sns\n",
    "import xarray as xr\n",
    "import subprocess\n",
    "from sklearn.metrics import roc_auc_score\n",
    "from cemba_data.tools.hdf5.anndata import rank_features_groups\n",
    "import warnings\n",
    "warnings.filterwarnings('ignore')"
   ]
  },
  {
   "cell_type": "markdown",
   "metadata": {
    "papermill": {},
    "tags": []
   },
   "source": [
    "## Parameter"
   ]
  },
  {
   "cell_type": "code",
   "execution_count": 2,
   "metadata": {
    "ExecuteTime": {
     "end_time": "2020-02-18T07:12:43.359204Z",
     "start_time": "2020-02-18T07:12:43.356841Z"
    },
    "papermill": {},
    "tags": [
     "parameters"
    ]
   },
   "outputs": [],
   "source": [
    "mcds_pattern = '/home/hanliu/project/mouse_rostral_brain/study/Level1-CellClass/ALL_manual/Adata/GeneWithSlop2kb.gene_da_rate.*.mcds'\n",
    "min_cluster_cell_number = 10\n",
    "adj_p_cutoff = 1e-3\n",
    "top_n = 30000\n",
    "max_test_cell_population = 1000\n",
    "chunk_size = 100\n",
    "delta_rate_cutoff = 0.5\n",
    "auroc_cutoff = 0.8"
   ]
  },
  {
   "cell_type": "code",
   "execution_count": 3,
   "metadata": {
    "ExecuteTime": {
     "end_time": "2020-02-18T07:12:43.553318Z",
     "start_time": "2020-02-18T07:12:43.548381Z"
    },
    "tags": [
     "injected-parameters"
    ]
   },
   "outputs": [],
   "source": [
    "# Parameters\n",
    "cluster_col = \"SubType\"\n",
    "use_clusters = [\"MGE-Sst Rxra\", \"Unc5c Unc5c\", \"MGE-Sst Ptpre\", \"CGE-Lamp5 Dock5\", \"CGE-Vip Ntng1\", \"CGE-Vip Ptprm\", \"CGE-Vip Robo1\", \"MGE-Pvalb Gfra2\", \"PAL-Inh Meis2\", \"MGE-Sst Unc5b\", \"MGE-Pvalb Thsd7a\", \"CGE-Vip Grm8\", \"MGE-Sst Dock4\", \"CGE-Lamp5 Grk5\", \"OLF Xkr6\", \"MSN-D2 Slc24a2\", \"CGE-Lamp5 Sorcs1\", \"MGE-Pvalb Entpd3\", \"MGE-Pvalb Ptprk\", \"CGE-Vip Ccser1\", \"CGE-Lamp5 Grid1\", \"MGE-Pvalb Sema5a\", \"MGE-Sst Kcnip4\", \"MGE-Sst Frmd6\", \"MGE-Pvalb Cnih3\", \"MGE-Sst Ubtd1\", \"MGE-Sst Rerg\", \"CGE-Vip Fstl4\", \"CGE-Vip Galnt17\", \"MGE-Sst Etv1\", \"CGE-Vip Clstn2\", \"CGE-Lamp5 Nrxn3\", \"MGE-Sst Chodl\", \"OLF Trpc4\", \"Foxp2 Homer2\", \"MGE-Pvalb Cacna1i\", \"MSN-D1 Khdrbs3\", \"MSN-D1 Plxnc1\", \"OLF Mapk10\", \"MSN-D1 Hrh1\", \"Foxp2 Trpc7\", \"OLF Pag1\", \"MSN-D2 Col14a1\", \"MGE-Sst Bmper\", \"OLF Gabbr2\", \"OLF Kcnd3\", \"PAL-Inh Deptor\", \"PAL-Inh Meis1\", \"LSX-Inh Cacna1i\", \"D1L-Fstl4 Sipa1l2\", \"PAL-Inh Rarb\", \"MSN-D2 Nrp2\", \"D1L-Fstl4 Trps1\", \"Foxp2 Dchs2\", \"PAL-Inh Chat\", \"D1L-PAL Flrt2\", \"PAL-Inh Igdcc3\", \"PAL-Inh Tmem178\", \"MSN-D1 Ntn1\", \"Foxp2 Inpp4b\", \"MSN-D2 Casz1\", \"Chd7 Kcnc2\", \"PAL-Inh Tcf7l2\", \"D1L-Fstl4 Grm3\", \"D1L-Fstl4 Cadm1\", \"Chd7 Trpc7\", \"PAL-Inh Ptprd\", \"D1L-Fstl4 Crim1\", \"Chd7 Megf11\", \"D1L-PAL Plcxd3\", \"PAL-Inh Onecut2\", \"LSX-Inh Foxp2\", \"LSX-Inh Enox1\", \"LSX-Inh Dock10\", \"LSX-Inh Nxph1\", \"LSX-Inh Zeb2\", \"LSX-Inh Lats2\"]\n",
    "mcds_pattern = \"/home/hanliu/project/mouse_rostral_brain/study/Level1-CellClass/ALL_manual/Adata/GeneWithSlop2kb.gene_da_rate.*.mcds\"\n",
    "min_cluster_cell_number = 10\n",
    "adj_p_cutoff = 0.001\n",
    "top_n = 30000\n",
    "cpu = 20\n",
    "max_test_cell_population = 2000\n",
    "chunk_size = 20\n",
    "delta_rate_cutoff = 0.3\n",
    "auroc_cutoff = 0.8\n"
   ]
  },
  {
   "cell_type": "markdown",
   "metadata": {
    "papermill": {},
    "tags": []
   },
   "source": [
    "### Stable Parameter"
   ]
  },
  {
   "cell_type": "code",
   "execution_count": 4,
   "metadata": {
    "ExecuteTime": {
     "end_time": "2020-02-18T07:12:43.895100Z",
     "start_time": "2020-02-18T07:12:43.893384Z"
    },
    "papermill": {},
    "tags": []
   },
   "outputs": [],
   "source": [
    "random_seed = 0"
   ]
  },
  {
   "cell_type": "markdown",
   "metadata": {
    "papermill": {},
    "tags": []
   },
   "source": [
    "## Cell Tidy Data"
   ]
  },
  {
   "cell_type": "code",
   "execution_count": 5,
   "metadata": {
    "ExecuteTime": {
     "end_time": "2020-02-18T07:12:44.277200Z",
     "start_time": "2020-02-18T07:12:44.275574Z"
    }
   },
   "outputs": [],
   "source": [
    "tidy_data_path = '/home/hanliu/project/mouse_rostral_brain/study/ClusteringSummary/Summary/TotalClusteringResults.msg'"
   ]
  },
  {
   "cell_type": "code",
   "execution_count": 6,
   "metadata": {
    "ExecuteTime": {
     "end_time": "2020-02-18T07:12:45.029071Z",
     "start_time": "2020-02-18T07:12:44.617941Z"
    },
    "papermill": {},
    "tags": []
   },
   "outputs": [
    {
     "data": {
      "text/plain": [
       "28077"
      ]
     },
     "execution_count": 6,
     "metadata": {},
     "output_type": "execute_result"
    }
   ],
   "source": [
    "cell_tidy_data = pd.read_msgpack(tidy_data_path)\n",
    "\n",
    "if use_clusters is not None:\n",
    "    cell_tidy_data = cell_tidy_data[cell_tidy_data[cluster_col].isin(\n",
    "        use_clusters)]\n",
    "cell_tidy_data.shape[0]"
   ]
  },
  {
   "cell_type": "code",
   "execution_count": 7,
   "metadata": {
    "ExecuteTime": {
     "end_time": "2020-02-18T07:12:45.484212Z",
     "start_time": "2020-02-18T07:12:45.030355Z"
    },
    "papermill": {},
    "tags": []
   },
   "outputs": [
    {
     "data": {
      "text/plain": [
       "MSN-D2 Slc24a2    2000\n",
       "PAL-Inh Meis2     1969\n",
       "MSN-D1 Hrh1       1349\n",
       "OLF Trpc4         1017\n",
       "MSN-D1 Plxnc1      926\n",
       "                  ... \n",
       "Chd7 Kcnc2          79\n",
       "CGE-Vip Ntng1       65\n",
       "OLF Mapk10          60\n",
       "OLF Pag1            60\n",
       "OLF Xkr6            46\n",
       "Name: SubType, Length: 77, dtype: int64"
      ]
     },
     "execution_count": 7,
     "metadata": {},
     "output_type": "execute_result"
    }
   ],
   "source": [
    "records = []\n",
    "for cluster, sub_df in cell_tidy_data.groupby(cluster_col):\n",
    "    if sub_df.shape[0] < max_test_cell_population:\n",
    "        records.append(sub_df)\n",
    "    else:\n",
    "        records.append(\n",
    "            sub_df.sample(max_test_cell_population, random_state=random_seed))\n",
    "cell_tidy_data = pd.concat(records)\n",
    "cell_tidy_data[cluster_col].value_counts()"
   ]
  },
  {
   "cell_type": "code",
   "execution_count": 8,
   "metadata": {
    "ExecuteTime": {
     "end_time": "2020-02-18T07:12:45.982287Z",
     "start_time": "2020-02-18T07:12:45.970104Z"
    },
    "papermill": {},
    "tags": []
   },
   "outputs": [
    {
     "name": "stdout",
     "output_type": "stream",
     "text": [
      "77 pass filter.\n",
      "2926 pairwise comparison to test.\n"
     ]
    }
   ],
   "source": [
    "cluster_series = cell_tidy_data[cluster_col].astype(str)\n",
    "cluster_counts = cluster_series.value_counts()\n",
    "\n",
    "\n",
    "def check_cluster(cluster, count):\n",
    "    if count < min_cluster_cell_number:\n",
    "        return False\n",
    "    return True\n",
    "\n",
    "\n",
    "unique_clusters = [\n",
    "    cluster for cluster, count in cluster_counts.items()\n",
    "    if check_cluster(cluster, count)\n",
    "]\n",
    "cluster_pairs = list(combinations(unique_clusters, 2))\n",
    "\n",
    "print(len(unique_clusters), 'pass filter.')\n",
    "print(len(cluster_pairs), 'pairwise comparison to test.')"
   ]
  },
  {
   "cell_type": "markdown",
   "metadata": {
    "papermill": {},
    "tags": []
   },
   "source": [
    "## Gene meta"
   ]
  },
  {
   "cell_type": "code",
   "execution_count": 9,
   "metadata": {
    "ExecuteTime": {
     "end_time": "2020-02-18T07:12:47.224506Z",
     "start_time": "2020-02-18T07:12:47.020393Z"
    },
    "papermill": {},
    "tags": []
   },
   "outputs": [],
   "source": [
    "gene_meta = pd.read_csv(\n",
    "    '/home/hanliu/project/mouse_rostral_brain/study/ClusterMethylMarker/gencode.vM22.annotation.gene.flat.filtered_white_genes.tsv.gz',\n",
    "    index_col='gene_id',\n",
    "    sep='\\t')\n",
    "gene_meta.index.name = 'gene'\n",
    "gene_name_to_id = {v: k for k, v in gene_meta['gene_name'].iteritems()}\n",
    "gene_idbase_to_id = {i.split('.')[0]: i for i in gene_meta.index}"
   ]
  },
  {
   "cell_type": "markdown",
   "metadata": {
    "papermill": {},
    "tags": []
   },
   "source": [
    "## Adata"
   ]
  },
  {
   "cell_type": "code",
   "execution_count": 10,
   "metadata": {
    "ExecuteTime": {
     "end_time": "2020-02-18T06:20:36.635016Z",
     "start_time": "2020-02-18T06:20:34.277020Z"
    },
    "papermill": {},
    "tags": []
   },
   "outputs": [],
   "source": [
    "gene_mcds = xr.open_mfdataset(mcds_pattern)\n",
    "use_gene = gene_mcds.get_index('gene') & gene_meta.index\n",
    "gene_meta = gene_meta.reindex(use_gene)"
   ]
  },
  {
   "cell_type": "code",
   "execution_count": 11,
   "metadata": {
    "ExecuteTime": {
     "end_time": "2020-02-18T06:20:36.647967Z",
     "start_time": "2020-02-18T06:20:36.636784Z"
    },
    "papermill": {},
    "tags": []
   },
   "outputs": [
    {
     "data": {
      "text/html": [
       "<pre>&lt;xarray.Dataset&gt;\n",
       "Dimensions:           (cell: 104340, gene: 55487, mc_type: 2)\n",
       "Coordinates:\n",
       "    strand_type       &lt;U4 &#x27;both&#x27;\n",
       "    geneslop2k_end    (gene) int64 dask.array&lt;chunksize=(55487,), meta=np.ndarray&gt;\n",
       "    geneslop2k_chrom  (gene) object dask.array&lt;chunksize=(55487,), meta=np.ndarray&gt;\n",
       "    geneslop2k_start  (gene) int64 dask.array&lt;chunksize=(55487,), meta=np.ndarray&gt;\n",
       "  * gene              (gene) object &#x27;ENSMUSG00000102693.1&#x27; ... &#x27;ENSMUSG00000064372.1&#x27;\n",
       "  * mc_type           (mc_type) object &#x27;CGN&#x27; &#x27;CHN&#x27;\n",
       "  * cell              (cell) object &#x27;1A_M_0&#x27; &#x27;1A_M_1&#x27; ... &#x27;8J_M_1292&#x27;\n",
       "Data variables:\n",
       "    gene_da           (cell, gene, mc_type) float64 dask.array&lt;chunksize=(10000, 55487, 2), meta=np.ndarray&gt;</pre>"
      ],
      "text/plain": [
       "<xarray.Dataset>\n",
       "Dimensions:           (cell: 104340, gene: 55487, mc_type: 2)\n",
       "Coordinates:\n",
       "    strand_type       <U4 'both'\n",
       "    geneslop2k_end    (gene) int64 dask.array<chunksize=(55487,), meta=np.ndarray>\n",
       "    geneslop2k_chrom  (gene) object dask.array<chunksize=(55487,), meta=np.ndarray>\n",
       "    geneslop2k_start  (gene) int64 dask.array<chunksize=(55487,), meta=np.ndarray>\n",
       "  * gene              (gene) object 'ENSMUSG00000102693.1' ... 'ENSMUSG00000064372.1'\n",
       "  * mc_type           (mc_type) object 'CGN' 'CHN'\n",
       "  * cell              (cell) object '1A_M_0' '1A_M_1' ... '8J_M_1292'\n",
       "Data variables:\n",
       "    gene_da           (cell, gene, mc_type) float64 dask.array<chunksize=(10000, 55487, 2), meta=np.ndarray>"
      ]
     },
     "execution_count": 11,
     "metadata": {},
     "output_type": "execute_result"
    }
   ],
   "source": [
    "gene_mcds"
   ]
  },
  {
   "cell_type": "code",
   "execution_count": 12,
   "metadata": {
    "ExecuteTime": {
     "end_time": "2020-02-18T06:20:36.721988Z",
     "start_time": "2020-02-18T06:20:36.649500Z"
    },
    "papermill": {},
    "tags": []
   },
   "outputs": [
    {
     "data": {
      "text/html": [
       "<pre>&lt;xarray.DataArray &#x27;gene_da&#x27; (cell: 28008, gene: 50231)&gt;\n",
       "dask.array&lt;getitem, shape=(28008, 50231), dtype=float64, chunksize=(738, 50231)&gt;\n",
       "Coordinates:\n",
       "    strand_type       &lt;U4 &#x27;both&#x27;\n",
       "    geneslop2k_end    (gene) int64 dask.array&lt;chunksize=(50231,), meta=np.ndarray&gt;\n",
       "    geneslop2k_chrom  (gene) object dask.array&lt;chunksize=(50231,), meta=np.ndarray&gt;\n",
       "    geneslop2k_start  (gene) int64 dask.array&lt;chunksize=(50231,), meta=np.ndarray&gt;\n",
       "  * gene              (gene) object &#x27;ENSMUSG00000102693.1&#x27; ... &#x27;ENSMUSG00000064372.1&#x27;\n",
       "    mc_type           &lt;U3 &#x27;CHN&#x27;\n",
       "  * cell              (cell) object &#x27;10E_M_150&#x27; &#x27;10E_M_322&#x27; ... &#x27;9J_M_572&#x27;</pre>"
      ],
      "text/plain": [
       "<xarray.DataArray 'gene_da' (cell: 28008, gene: 50231)>\n",
       "dask.array<getitem, shape=(28008, 50231), dtype=float64, chunksize=(738, 50231)>\n",
       "Coordinates:\n",
       "    strand_type       <U4 'both'\n",
       "    geneslop2k_end    (gene) int64 dask.array<chunksize=(50231,), meta=np.ndarray>\n",
       "    geneslop2k_chrom  (gene) object dask.array<chunksize=(50231,), meta=np.ndarray>\n",
       "    geneslop2k_start  (gene) int64 dask.array<chunksize=(50231,), meta=np.ndarray>\n",
       "  * gene              (gene) object 'ENSMUSG00000102693.1' ... 'ENSMUSG00000064372.1'\n",
       "    mc_type           <U3 'CHN'\n",
       "  * cell              (cell) object '10E_M_150' '10E_M_322' ... '9J_M_572'"
      ]
     },
     "execution_count": 12,
     "metadata": {},
     "output_type": "execute_result"
    }
   ],
   "source": [
    "gene_mcds = gene_mcds['gene_da'].sel(mc_type='CHN',\n",
    "                                     cell=cell_tidy_data.index,\n",
    "                                     gene=gene_meta.index)\n",
    "gene_mcds"
   ]
  },
  {
   "cell_type": "code",
   "execution_count": 13,
   "metadata": {
    "ExecuteTime": {
     "end_time": "2020-02-18T06:20:36.945043Z",
     "start_time": "2020-02-18T06:20:36.723407Z"
    },
    "papermill": {},
    "tags": []
   },
   "outputs": [],
   "source": [
    "cell_tidy_data.to_msgpack('TEMP.msg')"
   ]
  },
  {
   "cell_type": "code",
   "execution_count": 14,
   "metadata": {
    "ExecuteTime": {
     "end_time": "2020-02-18T06:25:26.993793Z",
     "start_time": "2020-02-18T06:20:36.946604Z"
    },
    "papermill": {},
    "tags": []
   },
   "outputs": [],
   "source": [
    "gene_mcds.to_netcdf('TEMP.nc')"
   ]
  },
  {
   "cell_type": "markdown",
   "metadata": {
    "papermill": {},
    "tags": []
   },
   "source": [
    "## Pairwise test"
   ]
  },
  {
   "cell_type": "code",
   "execution_count": 10,
   "metadata": {
    "ExecuteTime": {
     "end_time": "2020-02-18T07:12:49.925687Z",
     "start_time": "2020-02-18T07:12:49.910836Z"
    },
    "papermill": {},
    "tags": []
   },
   "outputs": [],
   "source": [
    "def get_sig_features(rank_gene_dict):\n",
    "    pvals_adj = pd.DataFrame(rank_gene_dict['pvals_adj'])\n",
    "    names = pd.DataFrame(rank_gene_dict['names'])\n",
    "    return pvals_adj, names\n",
    "\n",
    "\n",
    "def get_delta(cluster, gene):\n",
    "    row = cluster_mean_gene_df.loc[gene].copy()\n",
    "    cluster_value = row.pop(cluster)\n",
    "    other_mean = row[0] # only two cluster\n",
    "    delta = cluster_value - other_mean\n",
    "    return delta\n",
    "\n",
    "\n",
    "def calculate_single_pair(data_path, pair):\n",
    "    cluster_a, cluster_b = pair\n",
    "    output_dir = pathlib.Path(f'TEMP/{cluster_a}')\n",
    "    output_dir.mkdir(exist_ok=True)\n",
    "    output_path = output_dir / f'{cluster_b}.msg'\n",
    "    if output_path.exists():\n",
    "        return\n",
    "    \n",
    "    this_tidy_data = pd.read_msgpack('TEMP.msg')\n",
    "    this_tidy_data = this_tidy_data[this_tidy_data[cluster_col].isin(pair)]\n",
    "    \n",
    "    mcds = xr.open_dataarray(data_path).sel(cell=this_tidy_data.index).load()\n",
    "    adata = anndata.AnnData(X=mcds.values,\n",
    "                    obs=pd.DataFrame([], mcds.get_index('cell')),\n",
    "                    var=pd.DataFrame([], mcds.get_index('gene')))\n",
    "    adata.obs['cluster'] = this_tidy_data[cluster_col].astype('category')\n",
    "    \n",
    "    # reverse_adata, centered by 1 because after normalization all prior is center to 1\n",
    "    adata.X = (adata.X - 1) * -1 + 1\n",
    "    \n",
    "    # calculate cluster delta\n",
    "    records = {}\n",
    "    for cluster, sub_df in adata.obs.groupby('cluster'):\n",
    "        sub_adata = adata[sub_df.index, :]\n",
    "        gene_mean = sub_adata.X.mean(axis=0)\n",
    "        records[cluster] = pd.Series(gene_mean, index=sub_adata.var_names)\n",
    "    cluster_mean_gene_df = pd.DataFrame(records)\n",
    "\n",
    "    # judge gene by delta\n",
    "    cluster_delta = (cluster_mean_gene_df[cluster_a] -\n",
    "                     cluster_mean_gene_df[cluster_b]).abs()\n",
    "    delta_judge = cluster_delta > delta_rate_cutoff\n",
    "    use_adata = adata[:, delta_judge]\n",
    "    \n",
    "    sc.tl.rank_genes_groups(use_adata,\n",
    "                            groupby='cluster',\n",
    "                            n_genes=top_n,\n",
    "                            method='wilcoxon')\n",
    "    pvals_adj, names = get_sig_features(\n",
    "        use_adata.uns['rank_genes_groups'])\n",
    "\n",
    "    results = []\n",
    "    for col in use_adata.obs['cluster'].unique():\n",
    "        if col not in pair:\n",
    "            continue\n",
    "        df = pd.DataFrame({\n",
    "            'pvals_adj': pvals_adj[col].tolist(),\n",
    "            'gene_id': names[col].tolist()\n",
    "        })\n",
    "        df['cluster_from'] = col\n",
    "        df['cluster_to'] = cluster_a if col == cluster_b else cluster_b\n",
    "        results.append(df)\n",
    "    \n",
    "    # get total results filter by adj_p\n",
    "    total_results = pd.concat(results)\n",
    "    total_results['gene_name'] = total_results['gene_id'].map(\n",
    "        gene_meta['gene_name'])\n",
    "    total_results['-lgp'] = -np.log10(total_results['pvals_adj'])\n",
    "    total_results['-lgp'] = total_results['-lgp'].replace(np.inf, 1000)\n",
    "    total_results = total_results[\n",
    "        total_results['pvals_adj'] < adj_p_cutoff].copy()\n",
    "\n",
    "    # judge by auroc\n",
    "    total_results['AUROC'] = total_results[[\n",
    "        'gene_id', 'cluster_from'\n",
    "    ]].apply(lambda i: get_auroc(i['gene_id'], i['cluster_from'],\n",
    "                                 use_adata),\n",
    "             axis=1)\n",
    "    total_results = total_results[total_results['AUROC'] > auroc_cutoff]\n",
    "    total_results.to_msgpack(output_path)\n",
    "    return\n",
    "\n",
    "\n",
    "def get_auroc(gene_id, cluster, adata):\n",
    "    yscore = adata.obs_vector(gene_id)\n",
    "    ylabel = adata.obs['cluster'] == cluster\n",
    "    score = roc_auc_score(ylabel, yscore)\n",
    "    score = abs(score - 0.5) + 0.5\n",
    "    return score"
   ]
  },
  {
   "cell_type": "code",
   "execution_count": 11,
   "metadata": {
    "ExecuteTime": {
     "end_time": "2020-02-18T07:12:50.369664Z",
     "start_time": "2020-02-18T07:12:50.367853Z"
    },
    "papermill": {},
    "tags": []
   },
   "outputs": [],
   "source": [
    "data_path = 'TEMP.nc'"
   ]
  },
  {
   "cell_type": "markdown",
   "metadata": {
    "papermill": {},
    "tags": []
   },
   "source": [
    "## Run pairwise marker"
   ]
  },
  {
   "cell_type": "code",
   "execution_count": 13,
   "metadata": {
    "ExecuteTime": {
     "end_time": "2020-02-18T18:52:35.354878Z",
     "start_time": "2020-02-18T18:52:05.190568Z"
    },
    "papermill": {},
    "scrolled": true,
    "tags": []
   },
   "outputs": [
    {
     "name": "stdout",
     "output_type": "stream",
     "text": [
      "100\n",
      "200\n",
      "300\n",
      "400\n",
      "500\n",
      "600\n",
      "700\n",
      "800\n",
      "900\n",
      "1000\n",
      "1100\n",
      "1200\n",
      "1300\n",
      "1400\n",
      "1500\n",
      "1600\n",
      "1700\n",
      "1800\n",
      "1900\n",
      "2000\n",
      "2100\n",
      "2200\n",
      "2300\n",
      "2400\n",
      "2500\n",
      "2600\n",
      "2700\n",
      "2800\n",
      "2900\n"
     ]
    }
   ],
   "source": [
    "pair_marker_counts = {}\n",
    "n = 0\n",
    "for chunk_start in range(0, len(cluster_pairs), chunk_size):\n",
    "    pairs = cluster_pairs[chunk_start : chunk_start + chunk_size]\n",
    "    \n",
    "    with ProcessPoolExecutor(cpu) as executor:\n",
    "        temp_dir = 'TEMP'\n",
    "        pathlib.Path(temp_dir).mkdir(exist_ok=True)\n",
    "        futures = []\n",
    "        for pair in pairs:\n",
    "            future = executor.submit(calculate_single_pair, data_path, pair)\n",
    "            futures.append(future)\n",
    "    \n",
    "        for future in as_completed(futures):\n",
    "            n += 1\n",
    "            if n % 100 == 0:\n",
    "                print(n)\n",
    "            future.result()"
   ]
  },
  {
   "cell_type": "markdown",
   "metadata": {
    "papermill": {},
    "tags": []
   },
   "source": [
    "## Aggregate DEG"
   ]
  },
  {
   "cell_type": "code",
   "execution_count": 14,
   "metadata": {
    "ExecuteTime": {
     "end_time": "2020-02-18T18:52:47.072875Z",
     "start_time": "2020-02-18T18:52:35.357312Z"
    },
    "papermill": {},
    "tags": []
   },
   "outputs": [],
   "source": [
    "temp_dir = pathlib.Path('TEMP')\n",
    "deg_list = list(temp_dir.glob('**/*msg'))\n",
    "\n",
    "df_list = []\n",
    "for path in deg_list:\n",
    "    df_list.append(pd.read_msgpack(path))\n",
    "\n",
    "total_markers = pd.concat(df_list)"
   ]
  },
  {
   "cell_type": "markdown",
   "metadata": {},
   "source": [
    "## Add rate"
   ]
  },
  {
   "cell_type": "code",
   "execution_count": 15,
   "metadata": {
    "ExecuteTime": {
     "end_time": "2020-02-18T19:01:13.822139Z",
     "start_time": "2020-02-18T18:52:56.040205Z"
    }
   },
   "outputs": [],
   "source": [
    "gene_mean_mch = pd.read_msgpack(\n",
    "    '/home/hanliu/project/mouse_rostral_brain/study/AssignGeneToTree/SubType.gene_mean_mch.msg')\n",
    "\n",
    "total_markers['cluster_from_rate'] = total_markers.apply(\n",
    "    lambda i: gene_mean_mch.at[i['cluster_from'], i['gene_id']], axis=1)\n",
    "total_markers['cluster_to_rate'] = total_markers.apply(\n",
    "    lambda i: gene_mean_mch.at[i['cluster_to'], i['gene_id']], axis=1)"
   ]
  },
  {
   "cell_type": "markdown",
   "metadata": {},
   "source": [
    "## Filter"
   ]
  },
  {
   "cell_type": "code",
   "execution_count": 16,
   "metadata": {
    "ExecuteTime": {
     "end_time": "2020-02-18T19:04:57.297031Z",
     "start_time": "2020-02-18T19:04:53.543721Z"
    }
   },
   "outputs": [],
   "source": [
    "total_markers['log2fc'] = np.log2(total_markers['cluster_from_rate'] / total_markers['cluster_to_rate'])\n",
    "total_markers['delta'] = total_markers['cluster_from_rate'] - total_markers['cluster_to_rate']\n",
    "total_markers = total_markers[(total_markers['delta'] < -0.3)].copy()"
   ]
  },
  {
   "cell_type": "code",
   "execution_count": 17,
   "metadata": {
    "ExecuteTime": {
     "end_time": "2020-02-18T19:05:03.493423Z",
     "start_time": "2020-02-18T19:04:59.811566Z"
    },
    "papermill": {},
    "tags": []
   },
   "outputs": [],
   "source": [
    "assert total_markers.set_index(['gene_id', 'cluster_from', 'cluster_to']).index.duplicated().sum() == 0"
   ]
  },
  {
   "cell_type": "markdown",
   "metadata": {
    "papermill": {},
    "tags": []
   },
   "source": [
    "## Save results"
   ]
  },
  {
   "cell_type": "code",
   "execution_count": 18,
   "metadata": {
    "ExecuteTime": {
     "end_time": "2020-02-18T19:05:16.636678Z",
     "start_time": "2020-02-18T19:05:11.131077Z"
    },
    "papermill": {},
    "tags": []
   },
   "outputs": [],
   "source": [
    "total_markers.to_msgpack('TotalPairwiseMarker.msg')"
   ]
  },
  {
   "cell_type": "code",
   "execution_count": 19,
   "metadata": {
    "ExecuteTime": {
     "end_time": "2020-02-18T19:05:22.377923Z",
     "start_time": "2020-02-18T19:05:16.638341Z"
    },
    "papermill": {},
    "tags": []
   },
   "outputs": [],
   "source": [
    "marker_counts = total_markers.set_index(['cluster_from', 'cluster_to']).index.value_counts()\n",
    "marker_counts.index = pd.MultiIndex.from_tuples(marker_counts.index.tolist())\n",
    "marker_counts = marker_counts.reset_index()\n",
    "marker_counts.columns = ['ClusterA', 'ClusterB', 'GeneCount']\n",
    "marker_counts.to_csv('Cluster_pair_marker_counts.csv', index=None)"
   ]
  },
  {
   "cell_type": "code",
   "execution_count": 20,
   "metadata": {
    "ExecuteTime": {
     "end_time": "2020-02-18T19:05:22.389215Z",
     "start_time": "2020-02-18T19:05:22.379996Z"
    },
    "papermill": {},
    "tags": []
   },
   "outputs": [
    {
     "data": {
      "text/html": [
       "<div>\n",
       "<style scoped>\n",
       "    .dataframe tbody tr th:only-of-type {\n",
       "        vertical-align: middle;\n",
       "    }\n",
       "\n",
       "    .dataframe tbody tr th {\n",
       "        vertical-align: top;\n",
       "    }\n",
       "\n",
       "    .dataframe thead th {\n",
       "        text-align: right;\n",
       "    }\n",
       "</style>\n",
       "<table border=\"1\" class=\"dataframe\">\n",
       "  <thead>\n",
       "    <tr style=\"text-align: right;\">\n",
       "      <th></th>\n",
       "      <th>ClusterA</th>\n",
       "      <th>ClusterB</th>\n",
       "      <th>GeneCount</th>\n",
       "    </tr>\n",
       "  </thead>\n",
       "  <tbody>\n",
       "  </tbody>\n",
       "</table>\n",
       "</div>"
      ],
      "text/plain": [
       "Empty DataFrame\n",
       "Columns: [ClusterA, ClusterB, GeneCount]\n",
       "Index: []"
      ]
     },
     "execution_count": 20,
     "metadata": {},
     "output_type": "execute_result"
    }
   ],
   "source": [
    "marker_counts[marker_counts['GeneCount'] < 10]"
   ]
  },
  {
   "cell_type": "code",
   "execution_count": 21,
   "metadata": {
    "ExecuteTime": {
     "end_time": "2020-02-18T19:05:57.033505Z",
     "start_time": "2020-02-18T19:05:54.886950Z"
    },
    "papermill": {},
    "tags": []
   },
   "outputs": [
    {
     "data": {
      "text/plain": [
       "CompletedProcess(args='rm -rf TEMP*', returncode=0)"
      ]
     },
     "execution_count": 21,
     "metadata": {},
     "output_type": "execute_result"
    }
   ],
   "source": [
    "subprocess.run('rm -rf TEMP*', shell=True)"
   ]
  },
  {
   "cell_type": "code",
   "execution_count": 22,
   "metadata": {
    "ExecuteTime": {
     "end_time": "2020-02-18T19:05:57.654626Z",
     "start_time": "2020-02-18T19:05:57.035373Z"
    },
    "papermill": {},
    "tags": []
   },
   "outputs": [],
   "source": [
    "with open('TotalGeneID.txt', 'w') as f:\n",
    "    for g in total_markers['gene_id'].unique():\n",
    "        f.write(f'{g}\\n')"
   ]
  },
  {
   "cell_type": "code",
   "execution_count": 23,
   "metadata": {
    "ExecuteTime": {
     "end_time": "2020-02-18T19:05:58.171587Z",
     "start_time": "2020-02-18T19:05:57.656375Z"
    },
    "papermill": {},
    "tags": []
   },
   "outputs": [
    {
     "data": {
      "text/plain": [
       "24438"
      ]
     },
     "execution_count": 23,
     "metadata": {},
     "output_type": "execute_result"
    }
   ],
   "source": [
    "total_markers['gene_id'].unique().size"
   ]
  },
  {
   "cell_type": "code",
   "execution_count": null,
   "metadata": {
    "papermill": {},
    "tags": []
   },
   "outputs": [],
   "source": []
  },
  {
   "cell_type": "code",
   "execution_count": null,
   "metadata": {
    "papermill": {},
    "tags": []
   },
   "outputs": [],
   "source": []
  },
  {
   "cell_type": "code",
   "execution_count": null,
   "metadata": {
    "papermill": {},
    "tags": []
   },
   "outputs": [],
   "source": []
  }
 ],
 "metadata": {
  "hide_input": false,
  "kernelspec": {
   "display_name": "Python 3",
   "language": "python",
   "name": "python3"
  },
  "language_info": {
   "codemirror_mode": {
    "name": "ipython",
    "version": 3
   },
   "file_extension": ".py",
   "mimetype": "text/x-python",
   "name": "python",
   "nbconvert_exporter": "python",
   "pygments_lexer": "ipython3",
   "version": "3.7.3"
  },
  "papermill": {
   "environment_variables": {},
   "input_path": "pairwise_marker_selection.ipynb",
   "output_path": "InhSubTypePairwiseMarker/SubType.pairwise_marker_selection.ipynb",
   "parameters": {
    "adj_p_cutoff": 0.005,
    "auroc_cutoff": 0.8,
    "chunk_size": 20,
    "cluster_col": "SubType",
    "cpu": 20,
    "delta_rate_cutoff": 0.3,
    "max_test_cell_population": 2000,
    "mcds_pattern": "/home/hanliu/project/mouse_rostral_brain/study/Level1-CellClass/ALL_manual/Adata/GeneWithSlop2kb.gene_da_rate.*.mcds",
    "min_cluster_cell_number": 10,
    "top_n": 30000,
    "use_clusters": [
     "MGE-Sst Rxra",
     "Unc5c Unc5c",
     "MGE-Sst Ptpre",
     "CGE-Lamp5 Dock5",
     "CGE-Vip Ntng1",
     "CGE-Vip Ptprm",
     "CGE-Vip Robo1",
     "MGE-Pvalb Gfra2",
     "PAL-Inh Meis2",
     "MGE-Sst Unc5b",
     "MGE-Pvalb Thsd7a",
     "CGE-Vip Grm8",
     "MGE-Sst Dock4",
     "CGE-Lamp5 Grk5",
     "OLF Xkr6",
     "MSN-D2 Slc24a2",
     "CGE-Lamp5 Sorcs1",
     "MGE-Pvalb Entpd3",
     "MGE-Pvalb Ptprk",
     "CGE-Vip Ccser1",
     "CGE-Lamp5 Grid1",
     "MGE-Pvalb Sema5a",
     "MGE-Sst Kcnip4",
     "MGE-Sst Frmd6",
     "MGE-Pvalb Cnih3",
     "MGE-Sst Ubtd1",
     "MGE-Sst Rerg",
     "CGE-Vip Fstl4",
     "CGE-Vip Galnt17",
     "MGE-Sst Etv1",
     "CGE-Vip Clstn2",
     "CGE-Lamp5 Nrxn3",
     "MGE-Sst Chodl",
     "OLF Trpc4",
     "Foxp2 Homer2",
     "MGE-Pvalb Cacna1i",
     "MSN-D1 Khdrbs3",
     "MSN-D1 Plxnc1",
     "OLF Mapk10",
     "MSN-D1 Hrh1",
     "Foxp2 Trpc7",
     "OLF Pag1",
     "MSN-D2 Col14a1",
     "MGE-Sst Bmper",
     "OLF Gabbr2",
     "OLF Kcnd3",
     "PAL-Inh Deptor",
     "PAL-Inh Meis1",
     "LSX-Inh Cacna1i",
     "D1L-Fstl4 Sipa1l2",
     "PAL-Inh Rarb",
     "MSN-D2 Nrp2",
     "D1L-Fstl4 Trps1",
     "Foxp2 Dchs2",
     "PAL-Inh Chat",
     "D1L-PAL Flrt2",
     "PAL-Inh Igdcc3",
     "PAL-Inh Tmem178",
     "MSN-D1 Ntn1",
     "Foxp2 Inpp4b",
     "MSN-D2 Casz1",
     "Chd7 Kcnc2",
     "PAL-Inh Tcf7l2",
     "D1L-Fstl4 Grm3",
     "D1L-Fstl4 Cadm1",
     "Chd7 Trpc7",
     "PAL-Inh Ptprd",
     "D1L-Fstl4 Crim1",
     "Chd7 Megf11",
     "D1L-PAL Plcxd3",
     "PAL-Inh Onecut2",
     "LSX-Inh Foxp2",
     "LSX-Inh Enox1",
     "LSX-Inh Dock10",
     "LSX-Inh Nxph1",
     "LSX-Inh Zeb2",
     "LSX-Inh Lats2"
    ]
   },
   "version": "1.0.1"
  },
  "toc": {
   "base_numbering": 1,
   "nav_menu": {},
   "number_sections": true,
   "sideBar": true,
   "skip_h1_title": true,
   "title_cell": "Table of Contents",
   "title_sidebar": "Contents",
   "toc_cell": false,
   "toc_position": {},
   "toc_section_display": true,
   "toc_window_display": true
  }
 },
 "nbformat": 4,
 "nbformat_minor": 2
}
