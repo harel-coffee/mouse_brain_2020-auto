{
 "cells": [
  {
   "cell_type": "markdown",
   "metadata": {
    "papermill": {},
    "tags": []
   },
   "source": [
    "## Marker Selection"
   ]
  },
  {
   "cell_type": "code",
   "execution_count": 2,
   "metadata": {
    "ExecuteTime": {
     "end_time": "2020-01-18T22:30:49.449536Z",
     "start_time": "2020-01-18T22:30:49.445906Z"
    },
    "papermill": {},
    "tags": []
   },
   "outputs": [],
   "source": [
    "import pathlib\n",
    "from concurrent.futures import ProcessPoolExecutor, as_completed\n",
    "from itertools import combinations\n",
    "import numpy as np\n",
    "import anndata\n",
    "import matplotlib.pyplot as plt\n",
    "import pandas as pd\n",
    "import scanpy as sc\n",
    "import seaborn as sns\n",
    "import xarray as xr\n",
    "import subprocess\n",
    "from sklearn.metrics import roc_auc_score\n",
    "from cemba_data.tools.hdf5.anndata import rank_features_groups\n",
    "import warnings\n",
    "warnings.filterwarnings('ignore')"
   ]
  },
  {
   "cell_type": "markdown",
   "metadata": {
    "papermill": {},
    "tags": []
   },
   "source": [
    "## Parameter"
   ]
  },
  {
   "cell_type": "code",
   "execution_count": 3,
   "metadata": {
    "ExecuteTime": {
     "end_time": "2020-01-18T22:30:51.671193Z",
     "start_time": "2020-01-18T22:30:51.668639Z"
    },
    "papermill": {},
    "tags": [
     "parameters"
    ]
   },
   "outputs": [],
   "source": [
    "mcds_pattern = '/home/hanliu/project/mouse_rostral_brain/study/Level1-CellClass/ALL_manual/Adata/GeneWithSlop2kb.gene_da_rate.*.mcds'\n",
    "min_cluster_cell_number = 10\n",
    "adj_p_cutoff = 1e-1\n",
    "top_n = 1000\n",
    "max_test_cell_population = 100\n",
    "chunk_size = 1\n",
    "delta_rate_cutoff = 0.3\n",
    "auroc_cutoff = 0.8"
   ]
  },
  {
   "cell_type": "code",
   "execution_count": 3,
   "metadata": {
    "ExecuteTime": {
     "end_time": "2020-01-12T21:32:30.513014Z",
     "start_time": "2020-01-12T21:32:30.508978Z"
    },
    "tags": [
     "injected-parameters"
    ]
   },
   "outputs": [],
   "source": [
    "# Parameters\n",
    "cluster_col = \"MajorSpatial\"\n",
    "tidy_data_path = \"/home/hanliu/project/mouse_rostral_brain/study/ClusterMethylMarker/SpetialCellMeta.ITSpatial.msg\"\n",
    "use_clusters = [\"IT-L4+MOs\", \"IT-L23+MOs\", \"IT-L5+MOs\", \"IT-L6+MOs\", \"IT-L5+ORB\", \"IT-L23+ORB\", \"IT-L5+PFC\", \"IT-L6+PFC\", \"IT-L23+PFC\", \"IT-L4+MOp\", \"IT-L23+MOp\", \"IT-L5+MOp\", \"IT-L6+MOp\", \"IT-L6+AI\", \"IT-L5+AI\", \"IT-L23+AI\", \"IT-L6+ACA\", \"IT-L23+ACA\", \"IT-L5+ACA\", \"IT-L23+SSp\", \"IT-L5+SSp\", \"IT-L4+SSp\", \"IT-L6+SSp\", \"IT-L4+SSs\", \"IT-L6+SSs\", \"IT-L5+SSs\", \"IT-L23+SSs\"]\n",
    "mcds_pattern = \"/home/hanliu/project/mouse_rostral_brain/study/Level1-CellClass/ALL_manual/Adata/GeneWithSlop2kb.gene_da_rate.*.mcds\"\n",
    "min_cluster_cell_number = 10\n",
    "adj_p_cutoff = 0.005\n",
    "top_n = 10000\n",
    "cpu = 4\n",
    "chunk_size=90\n",
    "max_test_cell_population = 2000\n",
    "chunk_size = 50\n",
    "delta_rate_cutoff = 0.3\n",
    "auroc_cutoff = 0.8\n"
   ]
  },
  {
   "cell_type": "markdown",
   "metadata": {
    "papermill": {},
    "tags": []
   },
   "source": [
    "### Stable Parameter"
   ]
  },
  {
   "cell_type": "code",
   "execution_count": 4,
   "metadata": {
    "ExecuteTime": {
     "end_time": "2020-01-12T21:32:30.516025Z",
     "start_time": "2020-01-12T21:32:30.514223Z"
    },
    "papermill": {},
    "tags": []
   },
   "outputs": [],
   "source": [
    "random_seed = 0"
   ]
  },
  {
   "cell_type": "markdown",
   "metadata": {
    "papermill": {},
    "tags": []
   },
   "source": [
    "## Cell Tidy Data"
   ]
  },
  {
   "cell_type": "code",
   "execution_count": 5,
   "metadata": {
    "ExecuteTime": {
     "end_time": "2020-01-12T21:32:30.629327Z",
     "start_time": "2020-01-12T21:32:30.517174Z"
    },
    "papermill": {},
    "tags": []
   },
   "outputs": [
    {
     "data": {
      "text/plain": [
       "26877"
      ]
     },
     "execution_count": 5,
     "metadata": {},
     "output_type": "execute_result"
    }
   ],
   "source": [
    "cell_tidy_data = pd.read_msgpack(tidy_data_path)\n",
    "\n",
    "if use_clusters is not None:\n",
    "    cell_tidy_data = cell_tidy_data[cell_tidy_data[cluster_col].isin(\n",
    "        use_clusters)]\n",
    "cell_tidy_data.shape[0]"
   ]
  },
  {
   "cell_type": "code",
   "execution_count": 6,
   "metadata": {
    "ExecuteTime": {
     "end_time": "2020-01-12T21:32:30.913429Z",
     "start_time": "2020-01-12T21:32:30.630615Z"
    },
    "papermill": {},
    "tags": []
   },
   "outputs": [
    {
     "data": {
      "text/plain": [
       "IT-L4+SSp     2000\n",
       "IT-L23+MOs    2000\n",
       "IT-L23+SSp    1967\n",
       "IT-L23+MOp    1956\n",
       "IT-L23+ACA    1813\n",
       "IT-L5+MOp     1387\n",
       "IT-L23+ORB    1318\n",
       "IT-L5+MOs     1210\n",
       "IT-L23+PFC    1209\n",
       "IT-L6+SSp     1161\n",
       "IT-L5+ACA     1128\n",
       "IT-L4+MOp     1064\n",
       "IT-L5+SSp      978\n",
       "IT-L6+MOp      840\n",
       "IT-L6+ACA      787\n",
       "IT-L5+PFC      778\n",
       "IT-L23+SSs     697\n",
       "IT-L4+SSs      695\n",
       "IT-L6+PFC      644\n",
       "IT-L6+SSs      561\n",
       "IT-L6+MOs      513\n",
       "IT-L23+AI      419\n",
       "IT-L5+ORB      413\n",
       "IT-L5+AI       370\n",
       "IT-L4+MOs      342\n",
       "IT-L5+SSs      301\n",
       "IT-L6+AI       187\n",
       "Name: MajorSpatial, dtype: int64"
      ]
     },
     "execution_count": 6,
     "metadata": {},
     "output_type": "execute_result"
    }
   ],
   "source": [
    "records = []\n",
    "for cluster, sub_df in cell_tidy_data.groupby(cluster_col):\n",
    "    if sub_df.shape[0] < max_test_cell_population:\n",
    "        records.append(sub_df)\n",
    "    else:\n",
    "        records.append(\n",
    "            sub_df.sample(max_test_cell_population, random_state=random_seed))\n",
    "cell_tidy_data = pd.concat(records)\n",
    "cell_tidy_data[cluster_col].value_counts()"
   ]
  },
  {
   "cell_type": "code",
   "execution_count": 7,
   "metadata": {
    "ExecuteTime": {
     "end_time": "2020-01-12T21:32:30.924979Z",
     "start_time": "2020-01-12T21:32:30.914852Z"
    },
    "papermill": {},
    "tags": []
   },
   "outputs": [
    {
     "name": "stdout",
     "output_type": "stream",
     "text": [
      "27 pass filter.\n",
      "351 pairwise comparison to test.\n"
     ]
    }
   ],
   "source": [
    "cluster_series = cell_tidy_data[cluster_col].astype(str)\n",
    "cluster_counts = cluster_series.value_counts()\n",
    "\n",
    "def check_cluster(cluster, count):\n",
    "    if count < min_cluster_cell_number:\n",
    "        return False\n",
    "    return True\n",
    "\n",
    "unique_clusters = [\n",
    "    cluster for cluster, count in cluster_counts.items()\n",
    "    if check_cluster(cluster, count)\n",
    "]\n",
    "cluster_pairs = list(combinations(unique_clusters, 2))\n",
    "\n",
    "print(len(unique_clusters), 'pass filter.')\n",
    "print(len(cluster_pairs), 'pairwise comparison to test.')"
   ]
  },
  {
   "cell_type": "markdown",
   "metadata": {
    "papermill": {},
    "tags": []
   },
   "source": [
    "## Gene meta"
   ]
  },
  {
   "cell_type": "code",
   "execution_count": 8,
   "metadata": {
    "ExecuteTime": {
     "end_time": "2020-01-12T21:32:31.734312Z",
     "start_time": "2020-01-12T21:32:31.519623Z"
    },
    "papermill": {},
    "tags": []
   },
   "outputs": [],
   "source": [
    "gene_meta = pd.read_csv(\n",
    "    '/home/hanliu/project/mouse_rostral_brain/study/ClusterMethylMarker/gencode.vM22.annotation.gene.flat.filtered_white_genes.tsv.gz',\n",
    "    index_col='gene_id',\n",
    "    sep='\\t')\n",
    "gene_meta.index.name = 'gene'\n",
    "gene_name_to_id = {v: k for k, v in gene_meta['gene_name'].iteritems()}\n",
    "gene_idbase_to_id = {i.split('.')[0]: i for i in gene_meta.index}"
   ]
  },
  {
   "cell_type": "markdown",
   "metadata": {
    "papermill": {},
    "tags": []
   },
   "source": [
    "## Adata"
   ]
  },
  {
   "cell_type": "code",
   "execution_count": 9,
   "metadata": {
    "ExecuteTime": {
     "end_time": "2020-01-12T21:32:33.877504Z",
     "start_time": "2020-01-12T21:32:32.299946Z"
    },
    "papermill": {},
    "tags": []
   },
   "outputs": [],
   "source": [
    "gene_mcds = xr.open_mfdataset(mcds_pattern)\n",
    "use_gene = gene_mcds.get_index('gene') & gene_meta.index\n",
    "gene_meta = gene_meta.reindex(use_gene)"
   ]
  },
  {
   "cell_type": "code",
   "execution_count": 10,
   "metadata": {
    "ExecuteTime": {
     "end_time": "2020-01-12T21:32:33.888645Z",
     "start_time": "2020-01-12T21:32:33.878997Z"
    },
    "papermill": {},
    "tags": []
   },
   "outputs": [
    {
     "data": {
      "text/plain": [
       "<xarray.Dataset>\n",
       "Dimensions:           (cell: 104340, gene: 55487, mc_type: 2)\n",
       "Coordinates:\n",
       "  * mc_type           (mc_type) object 'CGN' 'CHN'\n",
       "    strand_type       <U4 'both'\n",
       "  * gene              (gene) object 'ENSMUSG00000102693.1' ... 'ENSMUSG00000064372.1'\n",
       "    geneslop2k_chrom  (gene) object 'chr1' 'chr1' 'chr1' ... 'chrM' 'chrM'\n",
       "    geneslop2k_start  (gene) int64 3071252 3100015 3203900 ... 12144 13288 13355\n",
       "    geneslop2k_end    (gene) int64 3076321 3104124 3673497 ... 16299 16299 16299\n",
       "  * cell              (cell) object '1A_M_0' '1A_M_1' ... '8J_M_1292'\n",
       "Data variables:\n",
       "    gene_da           (cell, gene, mc_type) float64 dask.array<shape=(104340, 55487, 2), chunksize=(10000, 55487, 2)>"
      ]
     },
     "execution_count": 10,
     "metadata": {},
     "output_type": "execute_result"
    }
   ],
   "source": [
    "gene_mcds"
   ]
  },
  {
   "cell_type": "code",
   "execution_count": 11,
   "metadata": {
    "ExecuteTime": {
     "end_time": "2020-01-12T21:32:33.954773Z",
     "start_time": "2020-01-12T21:32:33.890025Z"
    },
    "papermill": {},
    "tags": []
   },
   "outputs": [
    {
     "data": {
      "text/plain": [
       "<xarray.DataArray 'gene_da' (cell: 26738, gene: 50231)>\n",
       "dask.array<shape=(26738, 50231), dtype=float64, chunksize=(539, 50231)>\n",
       "Coordinates:\n",
       "    mc_type           <U3 'CHN'\n",
       "    strand_type       <U4 'both'\n",
       "  * gene              (gene) object 'ENSMUSG00000102693.1' ... 'ENSMUSG00000064372.1'\n",
       "    geneslop2k_chrom  (gene) object 'chr1' 'chr1' 'chr1' ... 'chrM' 'chrM'\n",
       "    geneslop2k_start  (gene) int64 3071252 3100015 3203900 ... 12144 13288 13355\n",
       "    geneslop2k_end    (gene) int64 3076321 3104124 3673497 ... 16299 16299 16299\n",
       "  * cell              (cell) object '4A_M_1000' '4A_M_1006' ... '6C_M_998'"
      ]
     },
     "execution_count": 11,
     "metadata": {},
     "output_type": "execute_result"
    }
   ],
   "source": [
    "gene_mcds = gene_mcds['gene_da'].sel(mc_type='CHN',\n",
    "                                     cell=cell_tidy_data.index,\n",
    "                                     gene=gene_meta.index)\n",
    "gene_mcds"
   ]
  },
  {
   "cell_type": "code",
   "execution_count": 12,
   "metadata": {
    "ExecuteTime": {
     "end_time": "2020-01-12T21:34:38.334092Z",
     "start_time": "2020-01-12T21:32:33.956070Z"
    }
   },
   "outputs": [],
   "source": [
    "gene_df = pd.DataFrame(gene_mcds.values, \n",
    "                       index=gene_mcds.get_index('cell'), \n",
    "                       columns=gene_mcds.get_index('gene'))"
   ]
  },
  {
   "cell_type": "code",
   "execution_count": 16,
   "metadata": {
    "ExecuteTime": {
     "end_time": "2020-01-12T21:37:29.177110Z",
     "start_time": "2020-01-12T21:37:27.060659Z"
    }
   },
   "outputs": [],
   "source": [
    "cluster_mean = gene_df.groupby(cell_tidy_data['MajorSpatial']).mean()"
   ]
  },
  {
   "cell_type": "code",
   "execution_count": 17,
   "metadata": {
    "ExecuteTime": {
     "end_time": "2020-01-12T21:37:53.026491Z",
     "start_time": "2020-01-12T21:37:52.988145Z"
    }
   },
   "outputs": [],
   "source": [
    "cluster_mean.to_msgpack('ClusterMean.genes.msg')"
   ]
  },
  {
   "cell_type": "code",
   "execution_count": 15,
   "metadata": {
    "ExecuteTime": {
     "end_time": "2020-01-10T00:16:55.814759Z",
     "start_time": "2020-01-10T00:16:55.520781Z"
    },
    "papermill": {},
    "tags": []
   },
   "outputs": [],
   "source": [
    "cell_tidy_data.to_msgpack('TEMP.msg')"
   ]
  },
  {
   "cell_type": "code",
   "execution_count": 16,
   "metadata": {
    "ExecuteTime": {
     "end_time": "2020-01-10T00:19:51.411374Z",
     "start_time": "2020-01-10T00:16:55.817191Z"
    },
    "papermill": {},
    "tags": []
   },
   "outputs": [],
   "source": [
    "gene_mcds.to_netcdf('TEMP.nc')"
   ]
  },
  {
   "cell_type": "markdown",
   "metadata": {
    "papermill": {},
    "tags": []
   },
   "source": [
    "## Pairwise test"
   ]
  },
  {
   "cell_type": "code",
   "execution_count": 12,
   "metadata": {
    "ExecuteTime": {
     "end_time": "2020-01-10T01:27:03.623659Z",
     "start_time": "2020-01-10T01:27:03.597837Z"
    },
    "papermill": {},
    "tags": []
   },
   "outputs": [],
   "source": [
    "def get_sig_features(rank_gene_dict):\n",
    "    pvals_adj = pd.DataFrame(rank_gene_dict['pvals_adj'])\n",
    "    names = pd.DataFrame(rank_gene_dict['names'])\n",
    "    return pvals_adj, names\n",
    "\n",
    "\n",
    "def get_delta(cluster, gene):\n",
    "    row = cluster_mean_gene_df.loc[gene].copy()\n",
    "    cluster_value = row.pop(cluster)\n",
    "    other_mean = row[0] # only two cluster\n",
    "    delta = cluster_value - other_mean\n",
    "    return delta\n",
    "\n",
    "\n",
    "def calculate_single_pair(data_path, pair):\n",
    "    print(pair)\n",
    "    cluster_a, cluster_b = pair\n",
    "    output_dir = pathlib.Path(f'TEMP/{cluster_a}')\n",
    "    output_dir.mkdir(exist_ok=True)\n",
    "    output_path = output_dir / f'{cluster_b}.msg'\n",
    "    if output_path.exists():\n",
    "        return\n",
    "    \n",
    "    this_tidy_data = pd.read_msgpack('TEMP.msg')\n",
    "    this_tidy_data = this_tidy_data[this_tidy_data[cluster_col].isin(pair)]\n",
    "    \n",
    "    mcds = xr.open_dataarray(data_path).sel(cell=this_tidy_data.index).load()\n",
    "    adata = anndata.AnnData(X=mcds.values,\n",
    "                    obs=pd.DataFrame([], mcds.get_index('cell')),\n",
    "                    var=pd.DataFrame([], mcds.get_index('gene')))\n",
    "    adata.obs['cluster'] = this_tidy_data[cluster_col].astype('category')\n",
    "    \n",
    "    # reverse_adata, centered by 1 because after normalization all prior is center to 1\n",
    "    adata.X = (adata.X - 1) * -1 + 1\n",
    "    \n",
    "    # calculate cluster delta\n",
    "    records = {}\n",
    "    for cluster, sub_df in adata.obs.groupby('cluster'):\n",
    "        sub_adata = adata[sub_df.index, :]\n",
    "        gene_mean = sub_adata.X.mean(axis=0)\n",
    "        records[cluster] = pd.Series(gene_mean, index=sub_adata.var_names)\n",
    "    cluster_mean_gene_df = pd.DataFrame(records)\n",
    "\n",
    "    # judge gene by delta\n",
    "    cluster_delta = (cluster_mean_gene_df[cluster_a] -\n",
    "                     cluster_mean_gene_df[cluster_b]).abs()\n",
    "    delta_judge = cluster_delta > delta_rate_cutoff\n",
    "    use_adata = adata[:, delta_judge]\n",
    "    \n",
    "    sc.tl.rank_genes_groups(use_adata,\n",
    "                            groupby='cluster',\n",
    "                            n_genes=top_n,\n",
    "                            method='wilcoxon')\n",
    "    pvals_adj, names = get_sig_features(\n",
    "        use_adata.uns['rank_genes_groups'])\n",
    "\n",
    "    results = []\n",
    "    for col in use_adata.obs['cluster'].unique():\n",
    "        if col not in pair:\n",
    "            continue\n",
    "        df = pd.DataFrame({\n",
    "            'pvals_adj': pvals_adj[col].tolist(),\n",
    "            'gene_id': names[col].tolist()\n",
    "        })\n",
    "        df['cluster_from'] = col\n",
    "        df['cluster_to'] = cluster_a if col == cluster_b else cluster_b\n",
    "        results.append(df)\n",
    "    \n",
    "    # get total results filter by adj_p\n",
    "    total_results = pd.concat(results)\n",
    "    total_results['gene_name'] = total_results['gene_id'].map(\n",
    "        gene_meta['gene_name'])\n",
    "    total_results['-lgp'] = -np.log10(total_results['pvals_adj'])\n",
    "    total_results['-lgp'] = total_results['-lgp'].replace(np.inf, 1000)\n",
    "    total_results = total_results[\n",
    "        total_results['pvals_adj'] < adj_p_cutoff].copy()\n",
    "\n",
    "    # judge by auroc\n",
    "    total_results['AUROC'] = total_results[[\n",
    "        'gene_id', 'cluster_from'\n",
    "    ]].apply(lambda i: get_auroc(i['gene_id'], i['cluster_from'],\n",
    "                                 use_adata),\n",
    "             axis=1)\n",
    "    total_results = total_results[total_results['AUROC'] > auroc_cutoff]\n",
    "    total_results.to_msgpack(output_path)\n",
    "    return\n",
    "\n",
    "\n",
    "def get_auroc(gene_id, cluster, adata):\n",
    "    yscore = adata.obs_vector(gene_id)\n",
    "    ylabel = adata.obs['cluster'] == cluster\n",
    "    score = roc_auc_score(ylabel, yscore)\n",
    "    score = abs(score - 0.5) + 0.5\n",
    "    return score"
   ]
  },
  {
   "cell_type": "code",
   "execution_count": 10,
   "metadata": {
    "ExecuteTime": {
     "end_time": "2020-01-10T01:24:37.611757Z",
     "start_time": "2020-01-10T01:24:37.608671Z"
    },
    "papermill": {},
    "tags": []
   },
   "outputs": [],
   "source": [
    "data_path = 'TEMP.nc'"
   ]
  },
  {
   "cell_type": "markdown",
   "metadata": {
    "papermill": {},
    "tags": []
   },
   "source": [
    "## Run pairwise marker"
   ]
  },
  {
   "cell_type": "code",
   "execution_count": null,
   "metadata": {
    "ExecuteTime": {
     "start_time": "2020-01-10T01:27:12.760Z"
    },
    "papermill": {},
    "scrolled": true,
    "tags": []
   },
   "outputs": [
    {
     "name": "stdout",
     "output_type": "stream",
     "text": [
      "('IT-L23+MOs', 'IT-L4+SSp')\n",
      "('IT-L23+MOs', 'IT-L23+SSp')\n",
      "('IT-L23+MOs', 'IT-L23+MOp')\n",
      "('IT-L23+MOs', 'IT-L23+ACA')\n",
      "('IT-L23+MOs', 'IT-L5+MOp')\n",
      "('IT-L23+MOs', 'IT-L23+ORB')\n",
      "('IT-L23+MOs', 'IT-L5+MOs')\n",
      "('IT-L23+MOs', 'IT-L23+PFC')\n",
      "('IT-L23+MOs', 'IT-L6+SSp')\n",
      "('IT-L23+MOs', 'IT-L5+ACA')\n",
      "('IT-L23+MOs', 'IT-L4+MOp')\n",
      "('IT-L23+MOs', 'IT-L5+SSp')\n",
      "('IT-L23+MOs', 'IT-L6+MOp')\n",
      "('IT-L23+MOs', 'IT-L6+ACA')\n",
      "('IT-L23+MOs', 'IT-L5+PFC')\n",
      "('IT-L23+MOs', 'IT-L23+SSs')\n",
      "('IT-L23+MOs', 'IT-L4+SSs')\n",
      "('IT-L23+MOs', 'IT-L6+PFC')\n",
      "('IT-L23+MOs', 'IT-L6+SSs')\n",
      "('IT-L23+MOs', 'IT-L6+MOs')\n",
      "('IT-L23+MOs', 'IT-L23+AI')\n",
      "('IT-L23+MOs', 'IT-L5+ORB')\n",
      "('IT-L23+MOs', 'IT-L5+AI')\n",
      "('IT-L23+MOs', 'IT-L4+MOs')\n",
      "('IT-L23+MOs', 'IT-L5+SSs')\n",
      "('IT-L23+MOs', 'IT-L6+AI')\n",
      "('IT-L4+SSp', 'IT-L23+SSp')\n",
      "('IT-L4+SSp', 'IT-L23+MOp')\n",
      "('IT-L4+SSp', 'IT-L23+ACA')\n",
      "('IT-L4+SSp', 'IT-L5+MOp')\n",
      "('IT-L4+SSp', 'IT-L23+ORB')\n",
      "('IT-L4+SSp', 'IT-L5+MOs')\n",
      "('IT-L4+SSp', 'IT-L23+PFC')\n",
      "('IT-L4+SSp', 'IT-L6+SSp')\n",
      "('IT-L4+SSp', 'IT-L5+ACA')\n"
     ]
    }
   ],
   "source": [
    "pair_marker_counts = {}\n",
    "n = 0\n",
    "for chunk_start in range(0, len(cluster_pairs), chunk_size):\n",
    "    pairs = cluster_pairs[chunk_start : chunk_start + chunk_size]\n",
    "    \n",
    "    with ProcessPoolExecutor(cpu) as executor:\n",
    "        temp_dir = 'TEMP'\n",
    "        pathlib.Path(temp_dir).mkdir(exist_ok=True)\n",
    "        futures = []\n",
    "        for pair in pairs:\n",
    "            future = executor.submit(calculate_single_pair, data_path, pair)\n",
    "            futures.append(future)\n",
    "    \n",
    "        for future in as_completed(futures):\n",
    "            n += 1\n",
    "            if n % 100 == 0:\n",
    "                print(n)\n",
    "            future.result()"
   ]
  },
  {
   "cell_type": "markdown",
   "metadata": {
    "papermill": {},
    "tags": []
   },
   "source": [
    "## Aggregate DEG"
   ]
  },
  {
   "cell_type": "code",
   "execution_count": 15,
   "metadata": {
    "ExecuteTime": {
     "end_time": "2020-01-10T03:03:34.848180Z",
     "start_time": "2020-01-10T03:03:34.080363Z"
    },
    "papermill": {},
    "tags": []
   },
   "outputs": [],
   "source": [
    "temp_dir = pathlib.Path('TEMP')\n",
    "deg_list = list(temp_dir.glob('**/*msg'))\n",
    "\n",
    "df_list = []\n",
    "for path in deg_list:\n",
    "    df_list.append(pd.read_msgpack(path))\n",
    "\n",
    "total_markers = pd.concat(df_list)"
   ]
  },
  {
   "cell_type": "code",
   "execution_count": 16,
   "metadata": {
    "ExecuteTime": {
     "end_time": "2020-01-10T03:03:36.004822Z",
     "start_time": "2020-01-10T03:03:35.794657Z"
    },
    "papermill": {},
    "tags": []
   },
   "outputs": [],
   "source": [
    "assert total_markers.set_index(['gene_id', 'cluster_from', 'cluster_to']).index.duplicated().sum() == 0"
   ]
  },
  {
   "cell_type": "markdown",
   "metadata": {
    "papermill": {},
    "tags": []
   },
   "source": [
    "## Save results"
   ]
  },
  {
   "cell_type": "code",
   "execution_count": 17,
   "metadata": {
    "ExecuteTime": {
     "end_time": "2020-01-10T03:03:37.355903Z",
     "start_time": "2020-01-10T03:03:36.926495Z"
    },
    "papermill": {},
    "tags": []
   },
   "outputs": [],
   "source": [
    "total_markers.to_msgpack('TotalPairwiseMarker.msg')"
   ]
  },
  {
   "cell_type": "code",
   "execution_count": 18,
   "metadata": {
    "ExecuteTime": {
     "end_time": "2020-01-10T03:03:40.052022Z",
     "start_time": "2020-01-10T03:03:39.243084Z"
    },
    "papermill": {},
    "tags": []
   },
   "outputs": [],
   "source": [
    "marker_counts = total_markers.set_index(['cluster_from', 'cluster_to']).index.value_counts()\n",
    "marker_counts.index = pd.MultiIndex.from_tuples(marker_counts.index.tolist())\n",
    "marker_counts = marker_counts.reset_index()\n",
    "marker_counts.columns = ['ClusterA', 'ClusterB', 'GeneCount']\n",
    "marker_counts.to_csv('Cluster_pair_marker_counts.csv', index=None)"
   ]
  },
  {
   "cell_type": "code",
   "execution_count": 19,
   "metadata": {
    "ExecuteTime": {
     "end_time": "2020-01-10T03:03:40.503292Z",
     "start_time": "2020-01-10T03:03:40.487741Z"
    },
    "papermill": {},
    "tags": []
   },
   "outputs": [
    {
     "data": {
      "text/html": [
       "<div>\n",
       "<style scoped>\n",
       "    .dataframe tbody tr th:only-of-type {\n",
       "        vertical-align: middle;\n",
       "    }\n",
       "\n",
       "    .dataframe tbody tr th {\n",
       "        vertical-align: top;\n",
       "    }\n",
       "\n",
       "    .dataframe thead th {\n",
       "        text-align: right;\n",
       "    }\n",
       "</style>\n",
       "<table border=\"1\" class=\"dataframe\">\n",
       "  <thead>\n",
       "    <tr style=\"text-align: right;\">\n",
       "      <th></th>\n",
       "      <th>ClusterA</th>\n",
       "      <th>ClusterB</th>\n",
       "      <th>GeneCount</th>\n",
       "    </tr>\n",
       "  </thead>\n",
       "  <tbody>\n",
       "    <tr>\n",
       "      <th>672</th>\n",
       "      <td>IT-L6+AI</td>\n",
       "      <td>IT-L6+MOp</td>\n",
       "      <td>9</td>\n",
       "    </tr>\n",
       "    <tr>\n",
       "      <th>673</th>\n",
       "      <td>IT-L6+MOp</td>\n",
       "      <td>IT-L6+AI</td>\n",
       "      <td>9</td>\n",
       "    </tr>\n",
       "    <tr>\n",
       "      <th>674</th>\n",
       "      <td>IT-L23+PFC</td>\n",
       "      <td>IT-L23+ACA</td>\n",
       "      <td>7</td>\n",
       "    </tr>\n",
       "    <tr>\n",
       "      <th>675</th>\n",
       "      <td>IT-L23+ACA</td>\n",
       "      <td>IT-L23+PFC</td>\n",
       "      <td>7</td>\n",
       "    </tr>\n",
       "    <tr>\n",
       "      <th>676</th>\n",
       "      <td>IT-L23+SSp</td>\n",
       "      <td>IT-L23+MOp</td>\n",
       "      <td>4</td>\n",
       "    </tr>\n",
       "    <tr>\n",
       "      <th>677</th>\n",
       "      <td>IT-L5+AI</td>\n",
       "      <td>IT-L5+ORB</td>\n",
       "      <td>4</td>\n",
       "    </tr>\n",
       "    <tr>\n",
       "      <th>678</th>\n",
       "      <td>IT-L23+MOp</td>\n",
       "      <td>IT-L23+SSp</td>\n",
       "      <td>4</td>\n",
       "    </tr>\n",
       "    <tr>\n",
       "      <th>679</th>\n",
       "      <td>IT-L5+ORB</td>\n",
       "      <td>IT-L5+AI</td>\n",
       "      <td>4</td>\n",
       "    </tr>\n",
       "    <tr>\n",
       "      <th>680</th>\n",
       "      <td>IT-L5+SSs</td>\n",
       "      <td>IT-L5+SSp</td>\n",
       "      <td>3</td>\n",
       "    </tr>\n",
       "    <tr>\n",
       "      <th>681</th>\n",
       "      <td>IT-L5+SSp</td>\n",
       "      <td>IT-L5+SSs</td>\n",
       "      <td>3</td>\n",
       "    </tr>\n",
       "    <tr>\n",
       "      <th>682</th>\n",
       "      <td>IT-L23+MOp</td>\n",
       "      <td>IT-L23+MOs</td>\n",
       "      <td>2</td>\n",
       "    </tr>\n",
       "    <tr>\n",
       "      <th>683</th>\n",
       "      <td>IT-L4+MOs</td>\n",
       "      <td>IT-L4+MOp</td>\n",
       "      <td>2</td>\n",
       "    </tr>\n",
       "    <tr>\n",
       "      <th>684</th>\n",
       "      <td>IT-L23+MOs</td>\n",
       "      <td>IT-L23+MOp</td>\n",
       "      <td>2</td>\n",
       "    </tr>\n",
       "    <tr>\n",
       "      <th>685</th>\n",
       "      <td>IT-L4+MOp</td>\n",
       "      <td>IT-L4+MOs</td>\n",
       "      <td>2</td>\n",
       "    </tr>\n",
       "    <tr>\n",
       "      <th>686</th>\n",
       "      <td>IT-L6+MOp</td>\n",
       "      <td>IT-L6+MOs</td>\n",
       "      <td>1</td>\n",
       "    </tr>\n",
       "    <tr>\n",
       "      <th>687</th>\n",
       "      <td>IT-L6+SSp</td>\n",
       "      <td>IT-L6+MOp</td>\n",
       "      <td>1</td>\n",
       "    </tr>\n",
       "    <tr>\n",
       "      <th>688</th>\n",
       "      <td>IT-L6+PFC</td>\n",
       "      <td>IT-L6+ACA</td>\n",
       "      <td>1</td>\n",
       "    </tr>\n",
       "    <tr>\n",
       "      <th>689</th>\n",
       "      <td>IT-L23+SSs</td>\n",
       "      <td>IT-L23+SSp</td>\n",
       "      <td>1</td>\n",
       "    </tr>\n",
       "    <tr>\n",
       "      <th>690</th>\n",
       "      <td>IT-L6+MOp</td>\n",
       "      <td>IT-L6+SSp</td>\n",
       "      <td>1</td>\n",
       "    </tr>\n",
       "    <tr>\n",
       "      <th>691</th>\n",
       "      <td>IT-L6+ACA</td>\n",
       "      <td>IT-L6+PFC</td>\n",
       "      <td>1</td>\n",
       "    </tr>\n",
       "    <tr>\n",
       "      <th>692</th>\n",
       "      <td>IT-L23+SSp</td>\n",
       "      <td>IT-L23+SSs</td>\n",
       "      <td>1</td>\n",
       "    </tr>\n",
       "    <tr>\n",
       "      <th>693</th>\n",
       "      <td>IT-L6+MOs</td>\n",
       "      <td>IT-L6+MOp</td>\n",
       "      <td>1</td>\n",
       "    </tr>\n",
       "  </tbody>\n",
       "</table>\n",
       "</div>"
      ],
      "text/plain": [
       "       ClusterA    ClusterB  GeneCount\n",
       "672    IT-L6+AI   IT-L6+MOp          9\n",
       "673   IT-L6+MOp    IT-L6+AI          9\n",
       "674  IT-L23+PFC  IT-L23+ACA          7\n",
       "675  IT-L23+ACA  IT-L23+PFC          7\n",
       "676  IT-L23+SSp  IT-L23+MOp          4\n",
       "677    IT-L5+AI   IT-L5+ORB          4\n",
       "678  IT-L23+MOp  IT-L23+SSp          4\n",
       "679   IT-L5+ORB    IT-L5+AI          4\n",
       "680   IT-L5+SSs   IT-L5+SSp          3\n",
       "681   IT-L5+SSp   IT-L5+SSs          3\n",
       "682  IT-L23+MOp  IT-L23+MOs          2\n",
       "683   IT-L4+MOs   IT-L4+MOp          2\n",
       "684  IT-L23+MOs  IT-L23+MOp          2\n",
       "685   IT-L4+MOp   IT-L4+MOs          2\n",
       "686   IT-L6+MOp   IT-L6+MOs          1\n",
       "687   IT-L6+SSp   IT-L6+MOp          1\n",
       "688   IT-L6+PFC   IT-L6+ACA          1\n",
       "689  IT-L23+SSs  IT-L23+SSp          1\n",
       "690   IT-L6+MOp   IT-L6+SSp          1\n",
       "691   IT-L6+ACA   IT-L6+PFC          1\n",
       "692  IT-L23+SSp  IT-L23+SSs          1\n",
       "693   IT-L6+MOs   IT-L6+MOp          1"
      ]
     },
     "execution_count": 19,
     "metadata": {},
     "output_type": "execute_result"
    }
   ],
   "source": [
    "marker_counts[marker_counts['GeneCount'] < 10]"
   ]
  },
  {
   "cell_type": "code",
   "execution_count": 20,
   "metadata": {
    "ExecuteTime": {
     "end_time": "2020-01-10T03:03:42.741604Z",
     "start_time": "2020-01-10T03:03:40.898664Z"
    },
    "papermill": {},
    "tags": []
   },
   "outputs": [
    {
     "data": {
      "text/plain": [
       "CompletedProcess(args='rm -rf TEMP*', returncode=0)"
      ]
     },
     "execution_count": 20,
     "metadata": {},
     "output_type": "execute_result"
    }
   ],
   "source": [
    "subprocess.run('rm -rf TEMP*', shell=True)"
   ]
  },
  {
   "cell_type": "code",
   "execution_count": 21,
   "metadata": {
    "ExecuteTime": {
     "end_time": "2020-01-10T03:03:59.484572Z",
     "start_time": "2020-01-10T03:03:59.431374Z"
    },
    "papermill": {},
    "tags": []
   },
   "outputs": [],
   "source": [
    "with open('TotalGeneID.txt', 'w') as f:\n",
    "    for g in total_markers['gene_id'].unique():\n",
    "        f.write(f'{g}\\n')"
   ]
  },
  {
   "cell_type": "code",
   "execution_count": 22,
   "metadata": {
    "ExecuteTime": {
     "end_time": "2020-01-10T03:04:00.120860Z",
     "start_time": "2020-01-10T03:04:00.073066Z"
    },
    "papermill": {},
    "tags": []
   },
   "outputs": [
    {
     "data": {
      "text/plain": [
       "4219"
      ]
     },
     "execution_count": 22,
     "metadata": {},
     "output_type": "execute_result"
    }
   ],
   "source": [
    "total_markers['gene_id'].unique().size"
   ]
  },
  {
   "cell_type": "code",
   "execution_count": 28,
   "metadata": {
    "ExecuteTime": {
     "end_time": "2020-01-10T03:06:09.477129Z",
     "start_time": "2020-01-10T03:06:09.126972Z"
    },
    "papermill": {},
    "tags": []
   },
   "outputs": [],
   "source": [
    "total_markers['left_major'] = total_markers['cluster_from'].apply(lambda i: i.split('+')[0])\n",
    "total_markers['right_major'] = total_markers['cluster_to'].apply(lambda i: i.split('+')[0])"
   ]
  },
  {
   "cell_type": "code",
   "execution_count": null,
   "metadata": {
    "papermill": {},
    "tags": []
   },
   "outputs": [],
   "source": []
  },
  {
   "cell_type": "code",
   "execution_count": null,
   "metadata": {
    "papermill": {},
    "tags": []
   },
   "outputs": [],
   "source": []
  }
 ],
 "metadata": {
  "hide_input": false,
  "kernelspec": {
   "display_name": "Python 3",
   "language": "python",
   "name": "python3"
  },
  "language_info": {
   "codemirror_mode": {
    "name": "ipython",
    "version": 3
   },
   "file_extension": ".py",
   "mimetype": "text/x-python",
   "name": "python",
   "nbconvert_exporter": "python",
   "pygments_lexer": "ipython3",
   "version": "3.7.3"
  },
  "papermill": {
   "environment_variables": {},
   "input_path": "pairwise_marker_selection.ipynb",
   "output_path": "ITSpatialPairwiseDEG/ITSpatial.pairwise_marker_selection.ipynb",
   "parameters": {
    "adj_p_cutoff": 0.005,
    "auroc_cutoff": 0.8,
    "chunk_size": 50,
    "cluster_col": "MajorSpatial",
    "cpu": 30,
    "delta_rate_cutoff": 0.3,
    "max_test_cell_population": 2000,
    "mcds_pattern": "/home/hanliu/project/mouse_rostral_brain/study/Level1-CellClass/ALL_manual/Adata/GeneWithSlop2kb.gene_da_rate.*.mcds",
    "min_cluster_cell_number": 10,
    "tidy_data_path": "SpetialCellMeta.ITSpatial.msg",
    "top_n": 10000,
    "use_clusters": [
     "IT-L4+MOs",
     "IT-L23+MOs",
     "IT-L5+MOs",
     "IT-L6+MOs",
     "IT-L5+ORB",
     "IT-L23+ORB",
     "IT-L5+PFC",
     "IT-L6+PFC",
     "IT-L23+PFC",
     "IT-L4+MOp",
     "IT-L23+MOp",
     "IT-L5+MOp",
     "IT-L6+MOp",
     "IT-L6+AI",
     "IT-L5+AI",
     "IT-L23+AI",
     "IT-L6+ACA",
     "IT-L23+ACA",
     "IT-L5+ACA",
     "IT-L23+SSp",
     "IT-L5+SSp",
     "IT-L4+SSp",
     "IT-L6+SSp",
     "IT-L4+SSs",
     "IT-L6+SSs",
     "IT-L5+SSs",
     "IT-L23+SSs"
    ]
   },
   "version": "1.0.1"
  },
  "toc": {
   "base_numbering": 1,
   "nav_menu": {},
   "number_sections": true,
   "sideBar": true,
   "skip_h1_title": true,
   "title_cell": "Table of Contents",
   "title_sidebar": "Contents",
   "toc_cell": false,
   "toc_position": {},
   "toc_section_display": true,
   "toc_window_display": true
  }
 },
 "nbformat": 4,
 "nbformat_minor": 2
}
