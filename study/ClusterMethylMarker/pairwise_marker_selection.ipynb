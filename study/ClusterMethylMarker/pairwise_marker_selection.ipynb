{
 "cells": [
  {
   "cell_type": "markdown",
   "metadata": {
    "papermill": {},
    "tags": []
   },
   "source": [
    "## Marker Selection"
   ]
  },
  {
   "cell_type": "code",
   "execution_count": 1,
   "metadata": {
    "ExecuteTime": {
     "end_time": "2020-01-27T20:21:31.029521Z",
     "start_time": "2020-01-27T20:21:29.071336Z"
    },
    "papermill": {},
    "tags": []
   },
   "outputs": [
    {
     "name": "stderr",
     "output_type": "stream",
     "text": [
      "/home/hanliu/miniconda3/envs/clustering/lib/python3.7/site-packages/xarray/core/merge.py:18: FutureWarning: The Panel class is removed from pandas. Accessing it from the top-level namespace will also be removed in the next version\n",
      "  PANDAS_TYPES = (pd.Series, pd.DataFrame, pd.Panel)\n",
      "/home/hanliu/miniconda3/envs/clustering/lib/python3.7/site-packages/xarray/core/dataarray.py:1829: FutureWarning: The Panel class is removed from pandas. Accessing it from the top-level namespace will also be removed in the next version\n",
      "  'DataArray', pd.Series, pd.DataFrame, pd.Panel]:\n"
     ]
    }
   ],
   "source": [
    "import pathlib\n",
    "from concurrent.futures import ProcessPoolExecutor, as_completed\n",
    "from itertools import combinations\n",
    "import numpy as np\n",
    "import anndata\n",
    "import matplotlib.pyplot as plt\n",
    "import pandas as pd\n",
    "import scanpy as sc\n",
    "import seaborn as sns\n",
    "import xarray as xr\n",
    "import subprocess\n",
    "from sklearn.metrics import roc_auc_score\n",
    "from cemba_data.tools.hdf5.anndata import rank_features_groups\n",
    "import warnings\n",
    "warnings.filterwarnings('ignore')"
   ]
  },
  {
   "cell_type": "markdown",
   "metadata": {
    "papermill": {},
    "tags": []
   },
   "source": [
    "## Parameter"
   ]
  },
  {
   "cell_type": "code",
   "execution_count": 2,
   "metadata": {
    "ExecuteTime": {
     "end_time": "2020-01-27T20:22:22.516708Z",
     "start_time": "2020-01-27T20:22:22.513862Z"
    },
    "papermill": {},
    "tags": [
     "parameters"
    ]
   },
   "outputs": [],
   "source": [
    "mcds_pattern = '/home/hanliu/project/mouse_rostral_brain/study/Level1-CellClass/ALL_manual/Adata/GeneWithSlop2kb.gene_da_rate.*.mcds'\n",
    "min_cluster_cell_number = 10\n",
    "adj_p_cutoff = 1e-3\n",
    "top_n = 30000\n",
    "max_test_cell_population = 1000\n",
    "chunk_size = 100\n",
    "delta_rate_cutoff = 0.5\n",
    "auroc_cutoff = 0.8"
   ]
  },
  {
   "cell_type": "code",
   "execution_count": 3,
   "metadata": {
    "ExecuteTime": {
     "end_time": "2020-01-10T00:39:45.420264Z",
     "start_time": "2020-01-10T00:39:45.413647Z"
    },
    "tags": [
     "injected-parameters"
    ]
   },
   "outputs": [],
   "source": [
    "# Parameters\n",
    "cluster_col = \"MajorType\"\n",
    "use_clusters = [\n",
    "    \"CA1\", \"CA3\", \"CA3-St18\", \"CGE-Lamp5\", \"CGE-Vip\", \"CLA\", \"CT-L6\", \"Chd7\",\n",
    "    \"D1L-Fstl4\", \"D1L-PAL\", \"DG\", \"DG-po\", \"EP\", \"Foxp2\", \"Gfra1\", \"IG-CA2\",\n",
    "    \"IT-L23\", \"IT-L4\", \"IT-L5\", \"IT-L6\", \"L6b\", \"LSX-Inh\", \"MGE-Pvalb\",\n",
    "    \"MGE-Sst\", \"MSN-D1\", \"MSN-D2\", \"NP-L6\", \"OLF\", \"OLF-Exc\", \"PAL-Inh\",\n",
    "    \"PT-L5\", \"Unc5c\"\n",
    "]\n",
    "mcds_pattern = \"/home/hanliu/project/mouse_rostral_brain/study/Level1-CellClass/ALL_manual/Adata/GeneWithSlop2kb.gene_da_rate.*.mcds\"\n",
    "min_cluster_cell_number = 10\n",
    "adj_p_cutoff = 0.005\n",
    "top_n = 1000\n",
    "cpu = 3\n",
    "chunk_size = 100\n",
    "max_test_cell_population = 1000\n",
    "delta_rate_cutoff = 0.3\n",
    "auroc_cutoff = 0.8\n",
    "tidy_data_path = '/home/hanliu/project/mouse_rostral_brain/study/ClusteringSummary/Summary/TotalClusteringResults.msg'"
   ]
  },
  {
   "cell_type": "markdown",
   "metadata": {
    "papermill": {},
    "tags": []
   },
   "source": [
    "### Stable Parameter"
   ]
  },
  {
   "cell_type": "code",
   "execution_count": 4,
   "metadata": {
    "ExecuteTime": {
     "end_time": "2020-01-10T00:39:46.448180Z",
     "start_time": "2020-01-10T00:39:46.445023Z"
    },
    "papermill": {},
    "tags": []
   },
   "outputs": [],
   "source": [
    "random_seed = 0"
   ]
  },
  {
   "cell_type": "markdown",
   "metadata": {
    "papermill": {},
    "tags": []
   },
   "source": [
    "## Cell Tidy Data"
   ]
  },
  {
   "cell_type": "code",
   "execution_count": 5,
   "metadata": {
    "ExecuteTime": {
     "end_time": "2020-01-10T00:39:48.018208Z",
     "start_time": "2020-01-10T00:39:47.282928Z"
    },
    "papermill": {},
    "tags": []
   },
   "outputs": [
    {
     "data": {
      "text/plain": [
       "95815"
      ]
     },
     "execution_count": 5,
     "metadata": {},
     "output_type": "execute_result"
    }
   ],
   "source": [
    "cell_tidy_data = pd.read_msgpack(tidy_data_path)\n",
    "\n",
    "if use_clusters is not None:\n",
    "    cell_tidy_data = cell_tidy_data[cell_tidy_data[cluster_col].isin(\n",
    "        use_clusters)]\n",
    "cell_tidy_data.shape[0]"
   ]
  },
  {
   "cell_type": "code",
   "execution_count": 6,
   "metadata": {
    "ExecuteTime": {
     "end_time": "2020-01-10T00:39:48.816569Z",
     "start_time": "2020-01-10T00:39:48.359653Z"
    },
    "papermill": {},
    "tags": []
   },
   "outputs": [
    {
     "data": {
      "text/plain": [
       "IT-L5        1000\n",
       "PAL-Inh      1000\n",
       "IT-L23       1000\n",
       "CGE-Vip      1000\n",
       "IT-L6        1000\n",
       "CA1          1000\n",
       "CT-L6        1000\n",
       "L6b          1000\n",
       "MSN-D1       1000\n",
       "MSN-D2       1000\n",
       "PT-L5        1000\n",
       "OLF-Exc      1000\n",
       "OLF          1000\n",
       "IT-L4        1000\n",
       "D1L-Fstl4    1000\n",
       "CGE-Lamp5    1000\n",
       "CA3          1000\n",
       "LSX-Inh      1000\n",
       "Foxp2        1000\n",
       "NP-L6        1000\n",
       "DG           1000\n",
       "MGE-Pvalb    1000\n",
       "MGE-Sst      1000\n",
       "CLA           945\n",
       "IG-CA2        745\n",
       "EP            666\n",
       "D1L-PAL       495\n",
       "CA3-St18      408\n",
       "Chd7          386\n",
       "Unc5c         219\n",
       "DG-po         145\n",
       "Gfra1         110\n",
       "Name: MajorType, dtype: int64"
      ]
     },
     "execution_count": 6,
     "metadata": {},
     "output_type": "execute_result"
    }
   ],
   "source": [
    "records = []\n",
    "for cluster, sub_df in cell_tidy_data.groupby(cluster_col):\n",
    "    if sub_df.shape[0] < max_test_cell_population:\n",
    "        records.append(sub_df)\n",
    "    else:\n",
    "        records.append(\n",
    "            sub_df.sample(max_test_cell_population, random_state=random_seed))\n",
    "cell_tidy_data = pd.concat(records)\n",
    "cell_tidy_data[cluster_col].value_counts()"
   ]
  },
  {
   "cell_type": "code",
   "execution_count": 7,
   "metadata": {
    "ExecuteTime": {
     "end_time": "2020-01-10T00:39:49.864869Z",
     "start_time": "2020-01-10T00:39:49.835513Z"
    },
    "papermill": {},
    "tags": []
   },
   "outputs": [
    {
     "name": "stdout",
     "output_type": "stream",
     "text": [
      "32 pass filter.\n",
      "496 pairwise comparison to test.\n"
     ]
    }
   ],
   "source": [
    "cluster_series = cell_tidy_data[cluster_col].astype(str)\n",
    "cluster_counts = cluster_series.value_counts()\n",
    "\n",
    "\n",
    "def check_cluster(cluster, count):\n",
    "    if count < min_cluster_cell_number:\n",
    "        return False\n",
    "    return True\n",
    "\n",
    "\n",
    "unique_clusters = [\n",
    "    cluster for cluster, count in cluster_counts.items()\n",
    "    if check_cluster(cluster, count)\n",
    "]\n",
    "cluster_pairs = list(combinations(unique_clusters, 2))\n",
    "\n",
    "print(len(unique_clusters), 'pass filter.')\n",
    "print(len(cluster_pairs), 'pairwise comparison to test.')"
   ]
  },
  {
   "cell_type": "code",
   "execution_count": null,
   "metadata": {},
   "outputs": [],
   "source": []
  },
  {
   "cell_type": "markdown",
   "metadata": {
    "papermill": {},
    "tags": []
   },
   "source": [
    "## Gene meta"
   ]
  },
  {
   "cell_type": "code",
   "execution_count": 11,
   "metadata": {
    "ExecuteTime": {
     "end_time": "2020-01-10T00:40:03.280634Z",
     "start_time": "2020-01-10T00:40:02.951434Z"
    },
    "papermill": {},
    "tags": []
   },
   "outputs": [],
   "source": [
    "gene_meta = pd.read_csv(\n",
    "    '/home/hanliu/project/mouse_rostral_brain/study/ClusterMethylMarker/gencode.vM22.annotation.gene.flat.filtered_white_genes.tsv.gz',\n",
    "    index_col='gene_id',\n",
    "    sep='\\t')\n",
    "gene_meta.index.name = 'gene'\n",
    "gene_name_to_id = {v: k for k, v in gene_meta['gene_name'].iteritems()}\n",
    "gene_idbase_to_id = {i.split('.')[0]: i for i in gene_meta.index}"
   ]
  },
  {
   "cell_type": "markdown",
   "metadata": {
    "papermill": {},
    "tags": []
   },
   "source": [
    "## Adata"
   ]
  },
  {
   "cell_type": "code",
   "execution_count": 12,
   "metadata": {
    "ExecuteTime": {
     "end_time": "2020-01-10T00:40:07.811761Z",
     "start_time": "2020-01-10T00:40:03.664124Z"
    },
    "papermill": {},
    "tags": []
   },
   "outputs": [],
   "source": [
    "gene_mcds = xr.open_mfdataset(mcds_pattern)\n",
    "use_gene = gene_mcds.get_index('gene') & gene_meta.index\n",
    "gene_meta = gene_meta.reindex(use_gene)"
   ]
  },
  {
   "cell_type": "code",
   "execution_count": 13,
   "metadata": {
    "ExecuteTime": {
     "end_time": "2020-01-10T00:40:07.835209Z",
     "start_time": "2020-01-10T00:40:07.814259Z"
    },
    "papermill": {},
    "tags": []
   },
   "outputs": [
    {
     "data": {
      "text/plain": [
       "<xarray.Dataset>\n",
       "Dimensions:           (cell: 104340, gene: 55487, mc_type: 2)\n",
       "Coordinates:\n",
       "  * mc_type           (mc_type) object 'CGN' 'CHN'\n",
       "    strand_type       <U4 'both'\n",
       "  * gene              (gene) object 'ENSMUSG00000102693.1' ... 'ENSMUSG00000064372.1'\n",
       "    geneslop2k_chrom  (gene) object 'chr1' 'chr1' 'chr1' ... 'chrM' 'chrM'\n",
       "    geneslop2k_start  (gene) int64 3071252 3100015 3203900 ... 12144 13288 13355\n",
       "    geneslop2k_end    (gene) int64 3076321 3104124 3673497 ... 16299 16299 16299\n",
       "  * cell              (cell) object '1A_M_0' '1A_M_1' ... '8J_M_1292'\n",
       "Data variables:\n",
       "    gene_da           (cell, gene, mc_type) float64 dask.array<shape=(104340, 55487, 2), chunksize=(10000, 55487, 2)>"
      ]
     },
     "execution_count": 13,
     "metadata": {},
     "output_type": "execute_result"
    }
   ],
   "source": [
    "gene_mcds"
   ]
  },
  {
   "cell_type": "code",
   "execution_count": 14,
   "metadata": {
    "ExecuteTime": {
     "end_time": "2020-01-10T00:40:08.217543Z",
     "start_time": "2020-01-10T00:40:07.838358Z"
    },
    "papermill": {},
    "tags": []
   },
   "outputs": [
    {
     "data": {
      "text/plain": [
       "<xarray.DataArray 'gene_da' (cell: 27119, gene: 50231)>\n",
       "dask.array<shape=(27119, 50231), dtype=float64, chunksize=(2, 50231)>\n",
       "Coordinates:\n",
       "    mc_type           <U3 'CHN'\n",
       "    strand_type       <U4 'both'\n",
       "  * gene              (gene) object 'ENSMUSG00000102693.1' ... 'ENSMUSG00000064372.1'\n",
       "    geneslop2k_chrom  (gene) object 'chr1' 'chr1' 'chr1' ... 'chrM' 'chrM'\n",
       "    geneslop2k_start  (gene) int64 3071252 3100015 3203900 ... 12144 13288 13355\n",
       "    geneslop2k_end    (gene) int64 3076321 3104124 3673497 ... 16299 16299 16299\n",
       "  * cell              (cell) object '9H_M_1742' '9H_M_2429' ... '9J_M_572'"
      ]
     },
     "execution_count": 14,
     "metadata": {},
     "output_type": "execute_result"
    }
   ],
   "source": [
    "gene_mcds = gene_mcds['gene_da'].sel(mc_type='CHN',\n",
    "                                     cell=cell_tidy_data.index,\n",
    "                                     gene=gene_meta.index)\n",
    "gene_mcds"
   ]
  },
  {
   "cell_type": "code",
   "execution_count": 15,
   "metadata": {
    "ExecuteTime": {
     "end_time": "2020-01-10T00:40:08.624142Z",
     "start_time": "2020-01-10T00:40:08.222428Z"
    }
   },
   "outputs": [],
   "source": [
    "cell_tidy_data.to_msgpack('TEMP.msg')"
   ]
  },
  {
   "cell_type": "code",
   "execution_count": 16,
   "metadata": {
    "ExecuteTime": {
     "end_time": "2020-01-10T00:43:20.061889Z",
     "start_time": "2020-01-10T00:40:08.628627Z"
    },
    "papermill": {},
    "tags": []
   },
   "outputs": [],
   "source": [
    "gene_mcds.to_netcdf('TEMP.nc')"
   ]
  },
  {
   "cell_type": "markdown",
   "metadata": {
    "papermill": {},
    "tags": []
   },
   "source": [
    "## Pairwise test"
   ]
  },
  {
   "cell_type": "code",
   "execution_count": 8,
   "metadata": {
    "ExecuteTime": {
     "end_time": "2020-01-10T00:39:54.652763Z",
     "start_time": "2020-01-10T00:39:54.626222Z"
    },
    "papermill": {},
    "tags": []
   },
   "outputs": [],
   "source": [
    "def get_sig_features(rank_gene_dict):\n",
    "    pvals_adj = pd.DataFrame(rank_gene_dict['pvals_adj'])\n",
    "    names = pd.DataFrame(rank_gene_dict['names'])\n",
    "    return pvals_adj, names\n",
    "\n",
    "\n",
    "def get_delta(cluster, gene):\n",
    "    row = cluster_mean_gene_df.loc[gene].copy()\n",
    "    cluster_value = row.pop(cluster)\n",
    "    other_mean = row[0] # only two cluster\n",
    "    delta = cluster_value - other_mean\n",
    "    return delta\n",
    "\n",
    "\n",
    "def calculate_single_pair(data_path, pair):\n",
    "    cluster_a, cluster_b = pair\n",
    "    output_dir = pathlib.Path(f'TEMP/{cluster_a}')\n",
    "    output_dir.mkdir(exist_ok=True)\n",
    "    output_path = output_dir / f'{cluster_b}.msg'\n",
    "    if output_path.exists():\n",
    "        return\n",
    "    \n",
    "    this_tidy_data = pd.read_msgpack('TEMP.msg')\n",
    "    this_tidy_data = this_tidy_data[this_tidy_data[cluster_col].isin(pair)]\n",
    "    \n",
    "    mcds = xr.open_dataarray(data_path).sel(cell=this_tidy_data.index).load()\n",
    "    adata = anndata.AnnData(X=mcds.values,\n",
    "                    obs=pd.DataFrame([], mcds.get_index('cell')),\n",
    "                    var=pd.DataFrame([], mcds.get_index('gene')))\n",
    "    adata.obs['cluster'] = this_tidy_data[cluster_col].astype('category')\n",
    "    \n",
    "    # reverse_adata, centered by 1 because after normalization all prior is center to 1\n",
    "    adata.X = (adata.X - 1) * -1 + 1\n",
    "    \n",
    "    # calculate cluster delta\n",
    "    records = {}\n",
    "    for cluster, sub_df in adata.obs.groupby('cluster'):\n",
    "        sub_adata = adata[sub_df.index, :]\n",
    "        gene_mean = sub_adata.X.mean(axis=0)\n",
    "        records[cluster] = pd.Series(gene_mean, index=sub_adata.var_names)\n",
    "    cluster_mean_gene_df = pd.DataFrame(records)\n",
    "\n",
    "    # judge gene by delta\n",
    "    cluster_delta = (cluster_mean_gene_df[cluster_a] -\n",
    "                     cluster_mean_gene_df[cluster_b]).abs()\n",
    "    delta_judge = cluster_delta > delta_rate_cutoff\n",
    "    use_adata = adata[:, delta_judge]\n",
    "    \n",
    "    sc.tl.rank_genes_groups(use_adata,\n",
    "                            groupby='cluster',\n",
    "                            n_genes=top_n,\n",
    "                            method='wilcoxon')\n",
    "    pvals_adj, names = get_sig_features(\n",
    "        use_adata.uns['rank_genes_groups'])\n",
    "\n",
    "    results = []\n",
    "    for col in use_adata.obs['cluster'].unique():\n",
    "        if col not in pair:\n",
    "            continue\n",
    "        df = pd.DataFrame({\n",
    "            'pvals_adj': pvals_adj[col].tolist(),\n",
    "            'gene_id': names[col].tolist()\n",
    "        })\n",
    "        df['cluster_from'] = col\n",
    "        df['cluster_to'] = cluster_a if col == cluster_b else cluster_b\n",
    "        results.append(df)\n",
    "    \n",
    "    # get total results filter by adj_p\n",
    "    total_results = pd.concat(results)\n",
    "    total_results['gene_name'] = total_results['gene_id'].map(\n",
    "        gene_meta['gene_name'])\n",
    "    total_results['-lgp'] = -np.log10(total_results['pvals_adj'])\n",
    "    total_results['-lgp'] = total_results['-lgp'].replace(np.inf, 1000)\n",
    "    total_results = total_results[\n",
    "        total_results['pvals_adj'] < adj_p_cutoff].copy()\n",
    "\n",
    "    # judge by auroc\n",
    "    total_results['AUROC'] = total_results[[\n",
    "        'gene_id', 'cluster_from'\n",
    "    ]].apply(lambda i: get_auroc(i['gene_id'], i['cluster_from'],\n",
    "                                 use_adata),\n",
    "             axis=1)\n",
    "    total_results = total_results[total_results['AUROC'] > auroc_cutoff]\n",
    "    total_results.to_msgpack(output_path)\n",
    "    return\n",
    "\n",
    "\n",
    "def get_auroc(gene_id, cluster, adata):\n",
    "    yscore = adata.obs_vector(gene_id)\n",
    "    ylabel = adata.obs['cluster'] == cluster\n",
    "    score = roc_auc_score(ylabel, yscore)\n",
    "    score = abs(score - 0.5) + 0.5\n",
    "    return score"
   ]
  },
  {
   "cell_type": "code",
   "execution_count": 9,
   "metadata": {
    "ExecuteTime": {
     "end_time": "2020-01-10T00:39:55.106813Z",
     "start_time": "2020-01-10T00:39:55.103687Z"
    },
    "papermill": {},
    "tags": []
   },
   "outputs": [],
   "source": [
    "data_path = 'TEMP.nc'"
   ]
  },
  {
   "cell_type": "markdown",
   "metadata": {
    "papermill": {},
    "tags": []
   },
   "source": [
    "## Run pairwise marker"
   ]
  },
  {
   "cell_type": "code",
   "execution_count": 10,
   "metadata": {
    "ExecuteTime": {
     "end_time": "2020-01-10T00:39:56.158359Z",
     "start_time": "2020-01-10T00:39:55.693779Z"
    },
    "papermill": {},
    "scrolled": true,
    "tags": []
   },
   "outputs": [
    {
     "ename": "FileNotFoundError",
     "evalue": "File b'TEMP.msg' does not exist",
     "output_type": "error",
     "traceback": [
      "\u001b[0;31m---------------------------------------------------------------------------\u001b[0m",
      "\u001b[0;31m_RemoteTraceback\u001b[0m                          Traceback (most recent call last)",
      "\u001b[0;31m_RemoteTraceback\u001b[0m: \n\"\"\"\nTraceback (most recent call last):\n  File \"/home/hanliu/miniconda3/envs/clustering/lib/python3.7/site-packages/pandas/io/packers.py\", line 221, in read_msgpack\n    with open(path_or_buf, \"rb\") as fh:\nFileNotFoundError: [Errno 2] No such file or directory: 'TEMP.msg'\n\nDuring handling of the above exception, another exception occurred:\n\nTraceback (most recent call last):\n  File \"/home/hanliu/miniconda3/envs/clustering/lib/python3.7/concurrent/futures/process.py\", line 232, in _process_worker\n    r = call_item.fn(*call_item.args, **call_item.kwargs)\n  File \"<ipython-input-8-add1097b4e52>\", line 23, in calculate_single_pair\n    this_tidy_data = pd.read_msgpack('TEMP.msg')\n  File \"/home/hanliu/miniconda3/envs/clustering/lib/python3.7/site-packages/pandas/io/packers.py\", line 225, in read_msgpack\n    raise FileNotFoundError(msg)\nFileNotFoundError: File b'TEMP.msg' does not exist\n\"\"\"",
      "\nThe above exception was the direct cause of the following exception:\n",
      "\u001b[0;31mFileNotFoundError\u001b[0m                         Traceback (most recent call last)",
      "\u001b[0;32m<ipython-input-10-49f92e2f448c>\u001b[0m in \u001b[0;36m<module>\u001b[0;34m\u001b[0m\n\u001b[1;32m     17\u001b[0m             \u001b[0;32mif\u001b[0m \u001b[0mn\u001b[0m \u001b[0;34m%\u001b[0m \u001b[0;36m100\u001b[0m \u001b[0;34m==\u001b[0m \u001b[0;36m0\u001b[0m\u001b[0;34m:\u001b[0m\u001b[0;34m\u001b[0m\u001b[0;34m\u001b[0m\u001b[0m\n\u001b[1;32m     18\u001b[0m                 \u001b[0mprint\u001b[0m\u001b[0;34m(\u001b[0m\u001b[0mn\u001b[0m\u001b[0;34m)\u001b[0m\u001b[0;34m\u001b[0m\u001b[0;34m\u001b[0m\u001b[0m\n\u001b[0;32m---> 19\u001b[0;31m             \u001b[0mfuture\u001b[0m\u001b[0;34m.\u001b[0m\u001b[0mresult\u001b[0m\u001b[0;34m(\u001b[0m\u001b[0;34m)\u001b[0m\u001b[0;34m\u001b[0m\u001b[0;34m\u001b[0m\u001b[0m\n\u001b[0m",
      "\u001b[0;32m~/miniconda3/envs/clustering/lib/python3.7/concurrent/futures/_base.py\u001b[0m in \u001b[0;36mresult\u001b[0;34m(self, timeout)\u001b[0m\n\u001b[1;32m    423\u001b[0m                 \u001b[0;32mraise\u001b[0m \u001b[0mCancelledError\u001b[0m\u001b[0;34m(\u001b[0m\u001b[0;34m)\u001b[0m\u001b[0;34m\u001b[0m\u001b[0;34m\u001b[0m\u001b[0m\n\u001b[1;32m    424\u001b[0m             \u001b[0;32melif\u001b[0m \u001b[0mself\u001b[0m\u001b[0;34m.\u001b[0m\u001b[0m_state\u001b[0m \u001b[0;34m==\u001b[0m \u001b[0mFINISHED\u001b[0m\u001b[0;34m:\u001b[0m\u001b[0;34m\u001b[0m\u001b[0;34m\u001b[0m\u001b[0m\n\u001b[0;32m--> 425\u001b[0;31m                 \u001b[0;32mreturn\u001b[0m \u001b[0mself\u001b[0m\u001b[0;34m.\u001b[0m\u001b[0m__get_result\u001b[0m\u001b[0;34m(\u001b[0m\u001b[0;34m)\u001b[0m\u001b[0;34m\u001b[0m\u001b[0;34m\u001b[0m\u001b[0m\n\u001b[0m\u001b[1;32m    426\u001b[0m \u001b[0;34m\u001b[0m\u001b[0m\n\u001b[1;32m    427\u001b[0m             \u001b[0mself\u001b[0m\u001b[0;34m.\u001b[0m\u001b[0m_condition\u001b[0m\u001b[0;34m.\u001b[0m\u001b[0mwait\u001b[0m\u001b[0;34m(\u001b[0m\u001b[0mtimeout\u001b[0m\u001b[0;34m)\u001b[0m\u001b[0;34m\u001b[0m\u001b[0;34m\u001b[0m\u001b[0m\n",
      "\u001b[0;32m~/miniconda3/envs/clustering/lib/python3.7/concurrent/futures/_base.py\u001b[0m in \u001b[0;36m__get_result\u001b[0;34m(self)\u001b[0m\n\u001b[1;32m    382\u001b[0m     \u001b[0;32mdef\u001b[0m \u001b[0m__get_result\u001b[0m\u001b[0;34m(\u001b[0m\u001b[0mself\u001b[0m\u001b[0;34m)\u001b[0m\u001b[0;34m:\u001b[0m\u001b[0;34m\u001b[0m\u001b[0;34m\u001b[0m\u001b[0m\n\u001b[1;32m    383\u001b[0m         \u001b[0;32mif\u001b[0m \u001b[0mself\u001b[0m\u001b[0;34m.\u001b[0m\u001b[0m_exception\u001b[0m\u001b[0;34m:\u001b[0m\u001b[0;34m\u001b[0m\u001b[0;34m\u001b[0m\u001b[0m\n\u001b[0;32m--> 384\u001b[0;31m             \u001b[0;32mraise\u001b[0m \u001b[0mself\u001b[0m\u001b[0;34m.\u001b[0m\u001b[0m_exception\u001b[0m\u001b[0;34m\u001b[0m\u001b[0;34m\u001b[0m\u001b[0m\n\u001b[0m\u001b[1;32m    385\u001b[0m         \u001b[0;32melse\u001b[0m\u001b[0;34m:\u001b[0m\u001b[0;34m\u001b[0m\u001b[0;34m\u001b[0m\u001b[0m\n\u001b[1;32m    386\u001b[0m             \u001b[0;32mreturn\u001b[0m \u001b[0mself\u001b[0m\u001b[0;34m.\u001b[0m\u001b[0m_result\u001b[0m\u001b[0;34m\u001b[0m\u001b[0;34m\u001b[0m\u001b[0m\n",
      "\u001b[0;31mFileNotFoundError\u001b[0m: File b'TEMP.msg' does not exist"
     ]
    }
   ],
   "source": [
    "pair_marker_counts = {}\n",
    "n = 0\n",
    "for chunk_start in range(0, len(cluster_pairs), chunk_size):\n",
    "    pairs = cluster_pairs[chunk_start : chunk_start + chunk_size]\n",
    "    \n",
    "    with ProcessPoolExecutor(cpu) as executor:\n",
    "        temp_dir = 'TEMP'\n",
    "        pathlib.Path(temp_dir).mkdir(exist_ok=True)\n",
    "        futures = []\n",
    "        for pair in pairs:\n",
    "            future = executor.submit(calculate_single_pair, data_path, pair)\n",
    "            futures.append(future)\n",
    "    \n",
    "        for future in as_completed(futures):\n",
    "            n += 1\n",
    "            if n % 100 == 0:\n",
    "                print(n)\n",
    "            future.result()"
   ]
  },
  {
   "cell_type": "markdown",
   "metadata": {},
   "source": [
    "## Aggregate DEG"
   ]
  },
  {
   "cell_type": "code",
   "execution_count": 12,
   "metadata": {
    "ExecuteTime": {
     "end_time": "2019-12-22T22:35:32.164555Z",
     "start_time": "2019-12-22T22:35:31.343088Z"
    }
   },
   "outputs": [],
   "source": [
    "temp_dir = pathlib.Path('TEMP')\n",
    "deg_list = list(temp_dir.glob('**/*msg'))\n",
    "\n",
    "df_list = []\n",
    "for path in deg_list:\n",
    "    df_list.append(pd.read_msgpack(path))\n",
    "\n",
    "total_markers = pd.concat(df_list)"
   ]
  },
  {
   "cell_type": "code",
   "execution_count": 16,
   "metadata": {
    "ExecuteTime": {
     "end_time": "2019-12-22T22:35:51.874824Z",
     "start_time": "2019-12-22T22:35:51.535056Z"
    }
   },
   "outputs": [],
   "source": [
    "assert total_markers.set_index(['gene_id', 'cluster_from', 'cluster_to']).index.duplicated().sum() == 0"
   ]
  },
  {
   "cell_type": "markdown",
   "metadata": {
    "papermill": {},
    "tags": []
   },
   "source": [
    "## Save results"
   ]
  },
  {
   "cell_type": "code",
   "execution_count": 17,
   "metadata": {
    "ExecuteTime": {
     "end_time": "2019-12-22T22:35:54.809955Z",
     "start_time": "2019-12-22T22:35:54.143297Z"
    },
    "papermill": {},
    "tags": []
   },
   "outputs": [],
   "source": [
    "total_markers.to_msgpack('TotalPairwiseMarker.msg')"
   ]
  },
  {
   "cell_type": "code",
   "execution_count": 21,
   "metadata": {
    "ExecuteTime": {
     "end_time": "2019-12-22T22:36:25.698357Z",
     "start_time": "2019-12-22T22:36:24.940333Z"
    },
    "papermill": {},
    "tags": []
   },
   "outputs": [],
   "source": [
    "marker_counts = total_markers.set_index(['cluster_from', 'cluster_to']).index.value_counts()\n",
    "marker_counts.index = pd.MultiIndex.from_tuples(marker_counts.index.tolist())\n",
    "marker_counts = marker_counts.reset_index()\n",
    "marker_counts.columns = ['ClusterA', 'ClusterB', 'GeneCount']\n",
    "marker_counts.to_csv('Cluster_pair_marker_counts.csv', index=None)"
   ]
  },
  {
   "cell_type": "code",
   "execution_count": 23,
   "metadata": {
    "ExecuteTime": {
     "end_time": "2019-12-22T22:36:30.320682Z",
     "start_time": "2019-12-22T22:36:30.314914Z"
    },
    "papermill": {},
    "tags": []
   },
   "outputs": [
    {
     "data": {
      "text/html": [
       "<div>\n",
       "<style scoped>\n",
       "    .dataframe tbody tr th:only-of-type {\n",
       "        vertical-align: middle;\n",
       "    }\n",
       "\n",
       "    .dataframe tbody tr th {\n",
       "        vertical-align: top;\n",
       "    }\n",
       "\n",
       "    .dataframe thead th {\n",
       "        text-align: right;\n",
       "    }\n",
       "</style>\n",
       "<table border=\"1\" class=\"dataframe\">\n",
       "  <thead>\n",
       "    <tr style=\"text-align: right;\">\n",
       "      <th></th>\n",
       "      <th>ClusterA</th>\n",
       "      <th>ClusterB</th>\n",
       "      <th>GeneCount</th>\n",
       "    </tr>\n",
       "  </thead>\n",
       "  <tbody>\n",
       "  </tbody>\n",
       "</table>\n",
       "</div>"
      ],
      "text/plain": [
       "Empty DataFrame\n",
       "Columns: [ClusterA, ClusterB, GeneCount]\n",
       "Index: []"
      ]
     },
     "execution_count": 23,
     "metadata": {},
     "output_type": "execute_result"
    }
   ],
   "source": [
    "marker_counts[marker_counts['GeneCount'] < 10]"
   ]
  },
  {
   "cell_type": "code",
   "execution_count": 29,
   "metadata": {
    "ExecuteTime": {
     "end_time": "2019-12-22T22:37:55.461444Z",
     "start_time": "2019-12-22T22:37:55.412809Z"
    },
    "papermill": {},
    "tags": []
   },
   "outputs": [
    {
     "data": {
      "text/plain": [
       "CompletedProcess(args='rm -rf TEMP*', returncode=0)"
      ]
     },
     "execution_count": 29,
     "metadata": {},
     "output_type": "execute_result"
    }
   ],
   "source": [
    "subprocess.run('rm -rf TEMP*', shell=True)"
   ]
  },
  {
   "cell_type": "code",
   "execution_count": 25,
   "metadata": {
    "ExecuteTime": {
     "end_time": "2019-12-22T22:36:39.780136Z",
     "start_time": "2019-12-22T22:36:39.688096Z"
    },
    "papermill": {},
    "tags": []
   },
   "outputs": [],
   "source": [
    "with open('TotalGeneID.txt', 'w') as f:\n",
    "    for g in total_markers['gene_id'].unique():\n",
    "        f.write(f'{g}\\n')"
   ]
  },
  {
   "cell_type": "code",
   "execution_count": 26,
   "metadata": {
    "ExecuteTime": {
     "end_time": "2019-12-22T22:36:46.860195Z",
     "start_time": "2019-12-22T22:36:46.790578Z"
    },
    "papermill": {},
    "tags": []
   },
   "outputs": [
    {
     "data": {
      "text/plain": [
       "15561"
      ]
     },
     "execution_count": 26,
     "metadata": {},
     "output_type": "execute_result"
    }
   ],
   "source": [
    "total_markers['gene_id'].unique().size"
   ]
  },
  {
   "cell_type": "code",
   "execution_count": null,
   "metadata": {
    "papermill": {},
    "tags": []
   },
   "outputs": [],
   "source": []
  },
  {
   "cell_type": "code",
   "execution_count": null,
   "metadata": {
    "papermill": {},
    "tags": []
   },
   "outputs": [],
   "source": []
  },
  {
   "cell_type": "code",
   "execution_count": null,
   "metadata": {
    "papermill": {},
    "tags": []
   },
   "outputs": [],
   "source": []
  }
 ],
 "metadata": {
  "hide_input": false,
  "kernelspec": {
   "display_name": "Python 3",
   "language": "python",
   "name": "python3"
  },
  "language_info": {
   "codemirror_mode": {
    "name": "ipython",
    "version": 3
   },
   "file_extension": ".py",
   "mimetype": "text/x-python",
   "name": "python",
   "nbconvert_exporter": "python",
   "pygments_lexer": "ipython3",
   "version": "3.7.3"
  },
  "papermill": {
   "environment_variables": {},
   "input_path": "pairwise_marker_selection.ipynb",
   "output_path": "MajorTypePairwiseDEG/MajorType.pairwise_marker_selection.ipynb",
   "parameters": {
    "adj_p_cutoff": 0.005,
    "auroc_cutoff": 0.8,
    "chunk_size": 50,
    "cluster_col": "MajorType",
    "cpu": 40,
    "delta_rate_cutoff": 0.3,
    "max_test_cell_population": 2000,
    "mcds_pattern": "/home/hanliu/project/mouse_rostral_brain/study/Level1-CellClass/ALL_manual/Adata/GeneWithSlop2kb.gene_da_rate.*.mcds",
    "min_cluster_cell_number": 10,
    "top_n": 1000,
    "use_clusters": [
     "CA1",
     "CA3",
     "CA3-St18",
     "CGE-Lamp5",
     "CGE-Vip",
     "CLA",
     "CT-L6",
     "Chd7",
     "D1L-Fstl4",
     "D1L-PAL",
     "DG",
     "DG-po",
     "EP",
     "Foxp2",
     "Gfra1",
     "IG-CA2",
     "IT-L23",
     "IT-L4",
     "IT-L5",
     "IT-L6",
     "L6b",
     "LSX-Inh",
     "MGE-Pvalb",
     "MGE-Sst",
     "MSN-D1",
     "MSN-D2",
     "NP-L6",
     "OLF",
     "OLF-Exc",
     "PAL-Inh",
     "PT-L5",
     "Unc5c"
    ]
   },
   "version": "1.0.1"
  },
  "toc": {
   "base_numbering": 1,
   "nav_menu": {},
   "number_sections": true,
   "sideBar": true,
   "skip_h1_title": true,
   "title_cell": "Table of Contents",
   "title_sidebar": "Contents",
   "toc_cell": false,
   "toc_position": {},
   "toc_section_display": true,
   "toc_window_display": true
  }
 },
 "nbformat": 4,
 "nbformat_minor": 2
}
