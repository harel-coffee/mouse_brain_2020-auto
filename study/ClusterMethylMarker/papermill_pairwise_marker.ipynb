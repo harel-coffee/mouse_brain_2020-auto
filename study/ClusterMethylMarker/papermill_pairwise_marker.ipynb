{
 "cells": [
  {
   "cell_type": "code",
   "execution_count": 1,
   "metadata": {
    "ExecuteTime": {
     "end_time": "2020-01-27T20:06:29.613705Z",
     "start_time": "2020-01-27T20:06:29.145941Z"
    }
   },
   "outputs": [],
   "source": [
    "import pandas as pd\n",
    "import pathlib\n",
    "from papermill import execute_notebook"
   ]
  },
  {
   "cell_type": "code",
   "execution_count": 2,
   "metadata": {
    "ExecuteTime": {
     "end_time": "2020-01-27T20:06:31.595498Z",
     "start_time": "2020-01-27T20:06:31.245106Z"
    },
    "scrolled": true
   },
   "outputs": [
    {
     "name": "stderr",
     "output_type": "stream",
     "text": [
      "/home/hanliu/miniconda3/envs/clustering/lib/python3.7/site-packages/IPython/core/interactiveshell.py:3326: FutureWarning: The read_msgpack is deprecated and will be removed in a future version.\n",
      "It is recommended to use pyarrow for on-the-wire transmission of pandas objects.\n",
      "  exec(code_obj, self.user_global_ns, self.user_ns)\n"
     ]
    }
   ],
   "source": [
    "cell_tidy_data = pd.read_msgpack(\n",
    "    '/home/hanliu/project/mouse_rostral_brain/study/ClusteringSummary/Summary/TotalClusteringResults.msg'\n",
    ")"
   ]
  },
  {
   "cell_type": "code",
   "execution_count": 3,
   "metadata": {
    "ExecuteTime": {
     "end_time": "2020-01-27T20:06:33.488988Z",
     "start_time": "2020-01-27T20:06:33.417838Z"
    }
   },
   "outputs": [],
   "source": [
    "sub_types = cell_tidy_data[(cell_tidy_data['CellClass'] != 'NonN') & \n",
    "               (cell_tidy_data['SubType'].apply(lambda i: 'Outlier' not in i))]['SubType'].unique()"
   ]
  },
  {
   "cell_type": "code",
   "execution_count": 4,
   "metadata": {
    "ExecuteTime": {
     "end_time": "2020-01-27T20:06:41.706775Z",
     "start_time": "2020-01-27T20:06:41.702492Z"
    }
   },
   "outputs": [
    {
     "data": {
      "text/plain": [
       "145"
      ]
     },
     "execution_count": 4,
     "metadata": {},
     "output_type": "execute_result"
    }
   ],
   "source": [
    "len(sub_types)"
   ]
  },
  {
   "cell_type": "markdown",
   "metadata": {},
   "source": [
    "## MajorType All Neuron Pairwise gene"
   ]
  },
  {
   "cell_type": "code",
   "execution_count": 13,
   "metadata": {},
   "outputs": [],
   "source": [
    "# mc\n",
    "parameters = dict(\n",
    "    cluster_col='MajorType',\n",
    "    use_clusters=[\n",
    "        'CA1', 'CA3', 'CA3-St18', 'CGE-Lamp5', 'CGE-Vip', 'CLA', 'CT-L6',\n",
    "        'Chd7', 'D1L-Fstl4', 'D1L-PAL', 'DG', 'DG-po', 'EP', 'Foxp2', 'Gfra1',\n",
    "        'IG-CA2', 'IT-L23', 'IT-L4', 'IT-L5', 'IT-L6', 'L6b', 'LSX-Inh',\n",
    "        'MGE-Pvalb', 'MGE-Sst', 'MSN-D1', 'MSN-D2', 'NP-L6', 'OLF', 'OLF-Exc',\n",
    "        'PAL-Inh', 'PT-L5', 'Unc5c'\n",
    "    ],\n",
    "    mcds_pattern = '/home/hanliu/project/mouse_rostral_brain/study/Level1-CellClass/ALL_manual/Adata/GeneWithSlop2kb.gene_da_rate.*.mcds',\n",
    "    min_cluster_cell_number=10,\n",
    "    adj_p_cutoff=5e-3,\n",
    "    top_n=1000,\n",
    "    cpu=30,\n",
    "    max_test_cell_population=2000,\n",
    "    chunk_size=50,\n",
    "    delta_rate_cutoff=0.3,\n",
    "    auroc_cutoff=0.8\n",
    ")"
   ]
  },
  {
   "cell_type": "code",
   "execution_count": 14,
   "metadata": {},
   "outputs": [],
   "source": [
    "input_path = 'pairwise_marker_selection.ipynb'\n",
    "output_path = 'MajorTypePairwiseDEG/MajorType.pairwise_marker_selection.ipynb'\n",
    "\n",
    "execute_notebook(str(input_path),\n",
    "                 str(output_path),\n",
    "                 parameters=parameters,\n",
    "                 engine_name=None,\n",
    "                 prepare_only=True,\n",
    "                 kernel_name=None,\n",
    "                 progress_bar=True,\n",
    "                 log_output=False,\n",
    "                 start_timeout=60,\n",
    "                 report_mode=False,\n",
    "                 cwd='MajorTypePairwiseDEG')\n",
    "pass"
   ]
  },
  {
   "cell_type": "markdown",
   "metadata": {},
   "source": [
    "## SubType ALL Neuron Pairwise"
   ]
  },
  {
   "cell_type": "code",
   "execution_count": 5,
   "metadata": {
    "ExecuteTime": {
     "end_time": "2020-01-27T20:06:49.668663Z",
     "start_time": "2020-01-27T20:06:49.665578Z"
    }
   },
   "outputs": [],
   "source": [
    "# mc\n",
    "parameters = dict(\n",
    "    cluster_col='SubType',\n",
    "    use_clusters=sub_types.tolist(),\n",
    "    mcds_pattern = '/home/hanliu/project/mouse_rostral_brain/study/Level1-CellClass/ALL_manual/Adata/GeneWithSlop2kb.gene_da_rate.*.mcds',\n",
    "    min_cluster_cell_number=10,\n",
    "    adj_p_cutoff=5e-3,\n",
    "    top_n=30000,\n",
    "    cpu=20,\n",
    "    max_test_cell_population=2000,\n",
    "    chunk_size=50,\n",
    "    delta_rate_cutoff=0.3,\n",
    "    auroc_cutoff=0.8\n",
    ")"
   ]
  },
  {
   "cell_type": "code",
   "execution_count": 12,
   "metadata": {},
   "outputs": [],
   "source": [
    "input_path = 'pairwise_marker_selection.ipynb'\n",
    "output_path = 'SubTypePairwiseDEG/SubType.pairwise_marker_selection.ipynb'\n",
    "\n",
    "execute_notebook(str(input_path),\n",
    "                 str(output_path),\n",
    "                 parameters=parameters,\n",
    "                 engine_name=None,\n",
    "                 prepare_only=True,\n",
    "                 kernel_name=None,\n",
    "                 progress_bar=True,\n",
    "                 log_output=False,\n",
    "                 start_timeout=60,\n",
    "                 report_mode=False,\n",
    "                 cwd='MajorTypePairwiseDEG')\n",
    "pass"
   ]
  },
  {
   "cell_type": "markdown",
   "metadata": {},
   "source": [
    "## SubType Pairwise within each MajorType\n",
    "- Only Neuron"
   ]
  },
  {
   "cell_type": "code",
   "execution_count": 10,
   "metadata": {
    "deletable": false,
    "editable": false,
    "run_control": {
     "frozen": true
    },
    "scrolled": false
   },
   "outputs": [
    {
     "name": "stdout",
     "output_type": "stream",
     "text": [
      "CA1 ['CA1 Chrm3', 'CA1 Ptprg', 'CA1 Kif26a', 'CA1 Ak5', 'CA1 Lingo2']\n",
      "CA3 ['CA3 Cadm2', 'CA3 Efnb2']\n",
      "CA3-St18 ['CA3-St18 Tead1', 'CA3-St18 Nuak1', 'CA3-St18 Epha5']\n",
      "CGE-Lamp5 ['CGE-Lamp5 Dock5', 'CGE-Lamp5 Grk5', 'CGE-Lamp5 Sorcs1', 'CGE-Lamp5 Grid1', 'CGE-Lamp5 Nrxn3']\n",
      "CGE-Vip ['CGE-Vip Ntng1', 'CGE-Vip Ptprm', 'CGE-Vip Robo1', 'CGE-Vip Grm8', 'CGE-Vip Ccser1', 'CGE-Vip Fstl4', 'CGE-Vip Galnt17', 'CGE-Vip Clstn2']\n",
      "CLA ['CLA Bcl11a', 'CLA Cdh8', 'CLA Nrp2']\n",
      "CT-L6 ['CT-L6 Megf9', 'CT-L6 Il1rap', 'CT-L6 Hcrtr2', 'CT-L6 Map4']\n",
      "Chd7 ['Chd7 Kcnc2', 'Chd7 Trpc7', 'Chd7 Megf11']\n",
      "D1L-Fstl4 ['D1L-Fstl4 Sipa1l2', 'D1L-Fstl4 Trps1', 'D1L-Fstl4 Grm3', 'D1L-Fstl4 Cadm1', 'D1L-Fstl4 Crim1']\n",
      "D1L-PAL ['D1L-PAL Flrt2', 'D1L-PAL Plcxd3']\n",
      "DG ['DG dg-all']\n",
      "DG-po ['DG-po Calb2', 'DG-po Bcl11a', 'DG-po Kctd8']\n",
      "EP ['EP Tspan5', 'EP Rgs8', 'EP Adcy8']\n",
      "Foxp2 ['Foxp2 Homer2', 'Foxp2 Trpc7', 'Foxp2 Dchs2', 'Foxp2 Inpp4b']\n",
      "Gfra1 ['Gfra1 Gfra1']\n",
      "IG-CA2 ['IG-CA2 Chrm3', 'IG-CA2 Peak1', 'IG-CA2 Xpr1']\n",
      "IT-L23 ['IT-L23 Cux1', 'IT-L23 Foxp1', 'IT-L23 Tenm2', 'IT-L23 Ptprt']\n",
      "IT-L4 ['IT-L4 Shc3', 'IT-L4 Astn2']\n",
      "IT-L5 ['IT-L5 Etv1', 'IT-L5 Cdh8', 'IT-L5 Grik3']\n",
      "IT-L6 ['IT-L6 Man1c1', 'IT-L6 Fstl4', 'IT-L6 Cadps2', 'IT-L6 Oxr1']\n",
      "L6b ['L6b Adcy8', 'L6b Nrp2', 'L6b Pkhd1', 'L6b Kcnk2']\n",
      "LSX-Inh ['LSX-Inh Cacna1i', 'LSX-Inh Foxp2', 'LSX-Inh Enox1', 'LSX-Inh Dock10', 'LSX-Inh Nxph1', 'LSX-Inh Zeb2', 'LSX-Inh Lats2']\n",
      "MGE-Pvalb ['MGE-Pvalb Gfra2', 'MGE-Pvalb Thsd7a', 'MGE-Pvalb Entpd3', 'MGE-Pvalb Ptprk', 'MGE-Pvalb Sema5a', 'MGE-Pvalb Cnih3', 'MGE-Pvalb Cacna1i']\n",
      "MGE-Sst ['MGE-Sst Rxra', 'MGE-Sst Ptpre', 'MGE-Sst Unc5b', 'MGE-Sst Dock4', 'MGE-Sst Kcnip4', 'MGE-Sst Frmd6', 'MGE-Sst Ubtd1', 'MGE-Sst Rerg', 'MGE-Sst Etv1', 'MGE-Sst Chodl', 'MGE-Sst Bmper']\n",
      "MSN-D1 ['MSN-D1 Khdrbs3', 'MSN-D1 Plxnc1', 'MSN-D1 Hrh1', 'MSN-D1 Ntn1']\n",
      "MSN-D2 ['MSN-D2 Slc24a2', 'MSN-D2 Col14a1', 'MSN-D2 Nrp2', 'MSN-D2 Casz1']\n",
      "NP-L6 ['NP-L6 Cntnap4', 'NP-L6 Olfml2b', 'NP-L6 Cntnap5a', 'NP-L6 Boc', 'NP-L6 Cyp7b1', 'NP-L6 Kcnab1']\n",
      "OLF ['OLF Xkr6', 'OLF Trpc4', 'OLF Mapk10', 'OLF Pag1', 'OLF Gabbr2', 'OLF Kcnd3']\n",
      "OLF-Exc ['OLF-Exc Bmpr1b', 'OLF-Exc Pld5', 'OLF-Exc Lrrtm3', 'OLF-Exc Cdh9', 'OLF-Exc Unc13c', 'OLF-Exc Sgcd', 'OLF-Exc Rmst', 'OLF-Exc Cux2']\n",
      "PAL-Inh ['PAL-Inh Meis2', 'PAL-Inh Deptor', 'PAL-Inh Meis1', 'PAL-Inh Rarb', 'PAL-Inh Chat', 'PAL-Inh Igdcc3', 'PAL-Inh Tmem178', 'PAL-Inh Tcf7l2', 'PAL-Inh Ptprd', 'PAL-Inh Onecut2']\n",
      "PT-L5 ['PT-L5 Tenm2', 'PT-L5 Abca12', 'PT-L5 Nectin1', 'PT-L5 Tmtc2', 'PT-L5 Plcb4', 'PT-L5 Kcnh1', 'PT-L5 Astn2', 'PT-L5 Ptprt', 'PT-L5 Unc5b']\n",
      "Unc5c ['Unc5c Unc5c']\n"
     ]
    }
   ],
   "source": [
    "cell_tidy_data = cell_tidy_data[(cell_tidy_data['CellClass'] != 'NonN') & \n",
    "                                cell_tidy_data['SubType'].apply(lambda i: 'Outlier' not in i)]\n",
    "\n",
    "for major_type, sub_df in cell_tidy_data.groupby('MajorType'):\n",
    "    sub_clusters = sub_df['SubType'].unique().tolist()\n",
    "    print(major_type, sub_clusters)\n",
    "    if len(sub_clusters) <= 1:\n",
    "        continue\n",
    "    \n",
    "    input_path = 'pairwise_marker_selection.ipynb'\n",
    "\n",
    "    output_dir = f'SubTypePairwiseDEG/{major_type}'\n",
    "    pathlib.Path(output_dir).mkdir(exist_ok=True, parents=True)\n",
    "    output_path = f'SubTypePairwiseDEG/{major_type}/SubType.pairwise_marker_selection.ipynb'\n",
    "    \n",
    "    parameters = dict(cluster_col='SubType',\n",
    "                      use_clusters=sub_clusters,\n",
    "                      min_cluster_cell_number=10,\n",
    "                      adj_p_cutoff=5e-3,\n",
    "                      top_n=2000,\n",
    "                      cpu=20,\n",
    "                      max_test_cell_population=2000,\n",
    "                      chunk_size=10,\n",
    "                      delta_rate_cutoff=0.3,\n",
    "                      auroc_cutoff=0.8)\n",
    "    if (pathlib.Path(output_dir) / 'TotalGeneID.txt').exists():\n",
    "        continue\n",
    "    execute_notebook(str(input_path),\n",
    "                     str(output_path),\n",
    "                     parameters=parameters,\n",
    "                     engine_name=None,\n",
    "                     prepare_only=False,\n",
    "                     kernel_name=None,\n",
    "                     progress_bar=True,\n",
    "                     log_output=False,\n",
    "                     start_timeout=60,\n",
    "                     report_mode=False,\n",
    "                     cwd=output_dir)\n"
   ]
  },
  {
   "cell_type": "code",
   "execution_count": null,
   "metadata": {},
   "outputs": [],
   "source": []
  },
  {
   "cell_type": "code",
   "execution_count": null,
   "metadata": {},
   "outputs": [],
   "source": []
  },
  {
   "cell_type": "code",
   "execution_count": null,
   "metadata": {},
   "outputs": [],
   "source": []
  },
  {
   "cell_type": "code",
   "execution_count": null,
   "metadata": {},
   "outputs": [],
   "source": []
  },
  {
   "cell_type": "code",
   "execution_count": null,
   "metadata": {},
   "outputs": [],
   "source": []
  },
  {
   "cell_type": "code",
   "execution_count": null,
   "metadata": {},
   "outputs": [],
   "source": []
  },
  {
   "cell_type": "code",
   "execution_count": null,
   "metadata": {},
   "outputs": [],
   "source": []
  }
 ],
 "metadata": {
  "hide_input": false,
  "kernelspec": {
   "display_name": "Python 3",
   "language": "python",
   "name": "python3"
  },
  "language_info": {
   "codemirror_mode": {
    "name": "ipython",
    "version": 3
   },
   "file_extension": ".py",
   "mimetype": "text/x-python",
   "name": "python",
   "nbconvert_exporter": "python",
   "pygments_lexer": "ipython3",
   "version": "3.7.3"
  },
  "toc": {
   "base_numbering": 1,
   "nav_menu": {},
   "number_sections": true,
   "sideBar": true,
   "skip_h1_title": true,
   "title_cell": "Table of Contents",
   "title_sidebar": "Contents",
   "toc_cell": false,
   "toc_position": {},
   "toc_section_display": true,
   "toc_window_display": true
  }
 },
 "nbformat": 4,
 "nbformat_minor": 2
}
