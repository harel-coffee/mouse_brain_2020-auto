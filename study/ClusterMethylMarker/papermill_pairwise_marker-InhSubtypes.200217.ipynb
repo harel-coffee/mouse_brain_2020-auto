{
 "cells": [
  {
   "cell_type": "code",
   "execution_count": 1,
   "metadata": {
    "ExecuteTime": {
     "end_time": "2020-02-18T04:38:16.241783Z",
     "start_time": "2020-02-18T04:38:12.864098Z"
    }
   },
   "outputs": [],
   "source": [
    "import pandas as pd\n",
    "import pathlib\n",
    "from papermill import execute_notebook"
   ]
  },
  {
   "cell_type": "code",
   "execution_count": 2,
   "metadata": {
    "ExecuteTime": {
     "end_time": "2020-02-18T04:38:16.679810Z",
     "start_time": "2020-02-18T04:38:16.246565Z"
    },
    "scrolled": true
   },
   "outputs": [
    {
     "name": "stderr",
     "output_type": "stream",
     "text": [
      "/home/hanliu/miniconda3/envs/clustering/lib/python3.7/site-packages/IPython/core/interactiveshell.py:3326: FutureWarning: The read_msgpack is deprecated and will be removed in a future version.\n",
      "It is recommended to use pyarrow for on-the-wire transmission of pandas objects.\n",
      "  exec(code_obj, self.user_global_ns, self.user_ns)\n"
     ]
    }
   ],
   "source": [
    "cell_tidy_data = pd.read_msgpack(\n",
    "    '/home/hanliu/project/mouse_rostral_brain/study/ClusteringSummary/Summary/TotalClusteringResults.msg'\n",
    ")"
   ]
  },
  {
   "cell_type": "code",
   "execution_count": 3,
   "metadata": {
    "ExecuteTime": {
     "end_time": "2020-02-18T04:38:19.283781Z",
     "start_time": "2020-02-18T04:38:19.281242Z"
    }
   },
   "outputs": [],
   "source": [
    "cell_class = 'Inh'"
   ]
  },
  {
   "cell_type": "code",
   "execution_count": 4,
   "metadata": {
    "ExecuteTime": {
     "end_time": "2020-02-18T04:38:19.522651Z",
     "start_time": "2020-02-18T04:38:19.468049Z"
    }
   },
   "outputs": [],
   "source": [
    "sub_types = cell_tidy_data[(cell_tidy_data['CellClass'] == cell_class) & \n",
    "               (cell_tidy_data['SubType'].apply(lambda i: 'Outlier' not in i))]['SubType'].unique()"
   ]
  },
  {
   "cell_type": "code",
   "execution_count": 5,
   "metadata": {
    "ExecuteTime": {
     "end_time": "2020-02-18T04:38:20.341729Z",
     "start_time": "2020-02-18T04:38:20.306520Z"
    }
   },
   "outputs": [],
   "source": [
    "output_dir = f'{cell_class}SubTypePairwiseMarker'\n",
    "pathlib.Path(output_dir).mkdir(exist_ok=True)"
   ]
  },
  {
   "cell_type": "code",
   "execution_count": 6,
   "metadata": {
    "ExecuteTime": {
     "end_time": "2020-02-18T04:38:20.503739Z",
     "start_time": "2020-02-18T04:38:20.498651Z"
    }
   },
   "outputs": [
    {
     "data": {
      "text/plain": [
       "77"
      ]
     },
     "execution_count": 6,
     "metadata": {},
     "output_type": "execute_result"
    }
   ],
   "source": [
    "len(sub_types)"
   ]
  },
  {
   "cell_type": "markdown",
   "metadata": {},
   "source": [
    "## SubType ALL Neuron Pairwise"
   ]
  },
  {
   "cell_type": "code",
   "execution_count": 7,
   "metadata": {
    "ExecuteTime": {
     "end_time": "2020-02-18T04:38:34.918345Z",
     "start_time": "2020-02-18T04:38:34.914724Z"
    }
   },
   "outputs": [],
   "source": [
    "# mc\n",
    "parameters = dict(\n",
    "    cluster_col='SubType',\n",
    "    use_clusters=sub_types.tolist(),\n",
    "    mcds_pattern = '/home/hanliu/project/mouse_rostral_brain/study/Level1-CellClass/ALL_manual/Adata/GeneWithSlop2kb.gene_da_rate.*.mcds',\n",
    "    min_cluster_cell_number=10,\n",
    "    adj_p_cutoff=5e-3,\n",
    "    top_n=30000,\n",
    "    cpu=20,\n",
    "    max_test_cell_population=2000,\n",
    "    chunk_size=20,\n",
    "    delta_rate_cutoff=0.3,\n",
    "    auroc_cutoff=0.8\n",
    ")"
   ]
  },
  {
   "cell_type": "code",
   "execution_count": 8,
   "metadata": {
    "ExecuteTime": {
     "end_time": "2020-02-18T04:38:38.366303Z",
     "start_time": "2020-02-18T04:38:38.298242Z"
    }
   },
   "outputs": [],
   "source": [
    "input_path = 'pairwise_marker_selection.ipynb'\n",
    "output_path = f'{output_dir}/SubType.pairwise_marker_selection.ipynb'\n",
    "\n",
    "execute_notebook(str(input_path),\n",
    "                 str(output_path),\n",
    "                 parameters=parameters,\n",
    "                 engine_name=None,\n",
    "                 prepare_only=True,\n",
    "                 kernel_name=None,\n",
    "                 progress_bar=True,\n",
    "                 log_output=False,\n",
    "                 start_timeout=60,\n",
    "                 report_mode=False,\n",
    "                 cwd='MajorTypePairwiseDEG')\n",
    "pass"
   ]
  },
  {
   "cell_type": "code",
   "execution_count": null,
   "metadata": {},
   "outputs": [],
   "source": []
  },
  {
   "cell_type": "code",
   "execution_count": null,
   "metadata": {},
   "outputs": [],
   "source": []
  },
  {
   "cell_type": "code",
   "execution_count": null,
   "metadata": {},
   "outputs": [],
   "source": []
  },
  {
   "cell_type": "code",
   "execution_count": null,
   "metadata": {},
   "outputs": [],
   "source": []
  },
  {
   "cell_type": "code",
   "execution_count": null,
   "metadata": {},
   "outputs": [],
   "source": []
  },
  {
   "cell_type": "code",
   "execution_count": null,
   "metadata": {},
   "outputs": [],
   "source": []
  },
  {
   "cell_type": "code",
   "execution_count": null,
   "metadata": {},
   "outputs": [],
   "source": []
  }
 ],
 "metadata": {
  "hide_input": false,
  "kernelspec": {
   "display_name": "Python 3",
   "language": "python",
   "name": "python3"
  },
  "language_info": {
   "codemirror_mode": {
    "name": "ipython",
    "version": 3
   },
   "file_extension": ".py",
   "mimetype": "text/x-python",
   "name": "python",
   "nbconvert_exporter": "python",
   "pygments_lexer": "ipython3",
   "version": "3.7.3"
  },
  "toc": {
   "base_numbering": 1,
   "nav_menu": {},
   "number_sections": true,
   "sideBar": true,
   "skip_h1_title": true,
   "title_cell": "Table of Contents",
   "title_sidebar": "Contents",
   "toc_cell": false,
   "toc_position": {},
   "toc_section_display": true,
   "toc_window_display": true
  }
 },
 "nbformat": 4,
 "nbformat_minor": 2
}
