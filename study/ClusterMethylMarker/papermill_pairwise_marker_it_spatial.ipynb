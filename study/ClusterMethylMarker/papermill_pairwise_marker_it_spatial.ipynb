{
 "cells": [
  {
   "cell_type": "code",
   "execution_count": 1,
   "metadata": {
    "ExecuteTime": {
     "end_time": "2020-01-10T00:00:34.528628Z",
     "start_time": "2020-01-10T00:00:33.775555Z"
    }
   },
   "outputs": [],
   "source": [
    "import pandas as pd\n",
    "import pathlib\n",
    "from papermill import execute_notebook"
   ]
  },
  {
   "cell_type": "code",
   "execution_count": 2,
   "metadata": {
    "ExecuteTime": {
     "end_time": "2020-01-10T00:00:35.941084Z",
     "start_time": "2020-01-10T00:00:35.391961Z"
    }
   },
   "outputs": [
    {
     "name": "stderr",
     "output_type": "stream",
     "text": [
      "/home/hanliu/miniconda3/envs/clustering/lib/python3.7/site-packages/IPython/core/interactiveshell.py:3326: FutureWarning: The read_msgpack is deprecated and will be removed in a future version.\n",
      "It is recommended to use pyarrow for on-the-wire transmission of pandas objects.\n",
      "  exec(code_obj, self.user_global_ns, self.user_ns)\n"
     ]
    }
   ],
   "source": [
    "cell_tidy_data = pd.read_msgpack(\n",
    "    '/home/hanliu/project/mouse_rostral_brain/study/ClusteringSummary/Summary/TotalClusteringResults.msg'\n",
    ")"
   ]
  },
  {
   "cell_type": "code",
   "execution_count": 21,
   "metadata": {
    "ExecuteTime": {
     "end_time": "2020-01-10T00:06:28.552821Z",
     "start_time": "2020-01-10T00:06:28.464571Z"
    }
   },
   "outputs": [
    {
     "data": {
      "text/plain": [
       "IT-L4+SSp     2136\n",
       "IT-L23+MOs    2003\n",
       "IT-L23+SSp    1967\n",
       "IT-L23+MOp    1956\n",
       "IT-L23+ACA    1813\n",
       "IT-L5+MOp     1387\n",
       "IT-L23+ORB    1318\n",
       "IT-L5+MOs     1210\n",
       "IT-L23+PFC    1209\n",
       "IT-L6+SSp     1161\n",
       "IT-L5+ACA     1128\n",
       "IT-L4+MOp     1064\n",
       "IT-L5+SSp      978\n",
       "IT-L6+MOp      840\n",
       "IT-L6+ACA      787\n",
       "IT-L5+PFC      778\n",
       "IT-L23+SSs     697\n",
       "IT-L4+SSs      695\n",
       "IT-L6+PFC      644\n",
       "IT-L6+SSs      561\n",
       "IT-L6+MOs      513\n",
       "IT-L23+AI      419\n",
       "IT-L5+ORB      413\n",
       "IT-L5+AI       370\n",
       "IT-L4+MOs      342\n",
       "IT-L5+SSs      301\n",
       "IT-L6+AI       187\n",
       "Name: MajorSpatial, dtype: int64"
      ]
     },
     "execution_count": 21,
     "metadata": {},
     "output_type": "execute_result"
    }
   ],
   "source": [
    "cell_tidy_data['MajorSpatial'] = cell_tidy_data['MajorType'] + '+' + cell_tidy_data['SubRegion']\n",
    "cell_counts = cell_tidy_data['MajorSpatial'].value_counts()\n",
    "use_group = cell_counts[cell_counts > 100].index\n",
    "cell_tidy_data = cell_tidy_data[cell_tidy_data['MajorSpatial'].str.startswith('IT') & \n",
    "                                cell_tidy_data['MajorRegion'].isin(['Isocortex']) & \n",
    "                                cell_tidy_data['MajorSpatial'].isin(use_group)].copy()\n",
    "cell_tidy_data['MajorSpatial'].value_counts()"
   ]
  },
  {
   "cell_type": "code",
   "execution_count": 22,
   "metadata": {
    "ExecuteTime": {
     "end_time": "2020-01-10T00:07:17.581597Z",
     "start_time": "2020-01-10T00:07:17.370205Z"
    }
   },
   "outputs": [
    {
     "name": "stderr",
     "output_type": "stream",
     "text": [
      "/home/hanliu/miniconda3/envs/clustering/lib/python3.7/site-packages/ipykernel_launcher.py:1: FutureWarning: to_msgpack is deprecated and will be removed in a future version.\n",
      "It is recommended to use pyarrow for on-the-wire transmission of pandas objects.\n",
      "  \"\"\"Entry point for launching an IPython kernel.\n"
     ]
    }
   ],
   "source": [
    "cell_tidy_data.to_msgpack('SpetialCellMeta.ITSpatial.msg')"
   ]
  },
  {
   "cell_type": "markdown",
   "metadata": {},
   "source": [
    "## MajorType All Neuron Pairwise gene"
   ]
  },
  {
   "cell_type": "code",
   "execution_count": 24,
   "metadata": {
    "ExecuteTime": {
     "end_time": "2020-01-10T00:10:03.467425Z",
     "start_time": "2020-01-10T00:10:03.459533Z"
    }
   },
   "outputs": [],
   "source": [
    "# mc\n",
    "parameters = dict(\n",
    "    cluster_col='MajorSpatial',\n",
    "    tidy_data_path = 'SpetialCellMeta.ITSpatial.msg',\n",
    "    use_clusters=list(cell_tidy_data['MajorSpatial'].unique()),\n",
    "    mcds_pattern = '/home/hanliu/project/mouse_rostral_brain/study/Level1-CellClass/ALL_manual/Adata/GeneWithSlop2kb.gene_da_rate.*.mcds',\n",
    "    min_cluster_cell_number=10,\n",
    "    adj_p_cutoff=5e-3,\n",
    "    top_n=10000,\n",
    "    cpu=4,\n",
    "    chunk_size=125,\n",
    "    max_test_cell_population=2000,\n",
    "    chunk_size=50,\n",
    "    delta_rate_cutoff=0.3,\n",
    "    auroc_cutoff=0.8\n",
    ")"
   ]
  },
  {
   "cell_type": "code",
   "execution_count": 27,
   "metadata": {
    "ExecuteTime": {
     "end_time": "2020-01-10T00:15:54.903998Z",
     "start_time": "2020-01-10T00:15:54.838759Z"
    }
   },
   "outputs": [],
   "source": [
    "input_path = 'pairwise_marker_selection.ipynb'\n",
    "output_path = 'ITSpatialPairwiseDEG/ITSpatial.pairwise_marker_selection.ipynb'\n",
    "\n",
    "execute_notebook(str(input_path),\n",
    "                 str(output_path),\n",
    "                 parameters=parameters,\n",
    "                 engine_name=None,\n",
    "                 prepare_only=False,\n",
    "                 kernel_name=None,\n",
    "                 progress_bar=True,\n",
    "                 log_output=False,\n",
    "                 start_timeout=60,\n",
    "                 report_mode=False,\n",
    "                 cwd='MajorTypePairwiseDEG')\n",
    "pass"
   ]
  },
  {
   "cell_type": "code",
   "execution_count": null,
   "metadata": {},
   "outputs": [],
   "source": []
  },
  {
   "cell_type": "code",
   "execution_count": null,
   "metadata": {},
   "outputs": [],
   "source": []
  },
  {
   "cell_type": "code",
   "execution_count": null,
   "metadata": {},
   "outputs": [],
   "source": []
  },
  {
   "cell_type": "code",
   "execution_count": null,
   "metadata": {},
   "outputs": [],
   "source": []
  },
  {
   "cell_type": "code",
   "execution_count": null,
   "metadata": {},
   "outputs": [],
   "source": []
  },
  {
   "cell_type": "code",
   "execution_count": null,
   "metadata": {},
   "outputs": [],
   "source": []
  },
  {
   "cell_type": "code",
   "execution_count": null,
   "metadata": {},
   "outputs": [],
   "source": []
  }
 ],
 "metadata": {
  "hide_input": false,
  "kernelspec": {
   "display_name": "Python 3",
   "language": "python",
   "name": "python3"
  },
  "language_info": {
   "codemirror_mode": {
    "name": "ipython",
    "version": 3
   },
   "file_extension": ".py",
   "mimetype": "text/x-python",
   "name": "python",
   "nbconvert_exporter": "python",
   "pygments_lexer": "ipython3",
   "version": "3.7.3"
  },
  "toc": {
   "base_numbering": 1,
   "nav_menu": {},
   "number_sections": true,
   "sideBar": true,
   "skip_h1_title": true,
   "title_cell": "Table of Contents",
   "title_sidebar": "Contents",
   "toc_cell": false,
   "toc_position": {},
   "toc_section_display": true,
   "toc_window_display": true
  }
 },
 "nbformat": 4,
 "nbformat_minor": 2
}
