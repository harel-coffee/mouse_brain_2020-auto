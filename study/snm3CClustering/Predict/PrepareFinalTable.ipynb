{
 "cells": [
  {
   "cell_type": "code",
   "execution_count": 2,
   "metadata": {
    "ExecuteTime": {
     "end_time": "2020-01-20T23:44:57.758791Z",
     "start_time": "2020-01-20T23:44:57.756642Z"
    }
   },
   "outputs": [],
   "source": [
    "import pandas as pd"
   ]
  },
  {
   "cell_type": "code",
   "execution_count": 4,
   "metadata": {
    "ExecuteTime": {
     "end_time": "2020-01-20T23:45:22.309049Z",
     "start_time": "2020-01-20T23:45:22.303796Z"
    }
   },
   "outputs": [],
   "source": [
    "cell_label = pd.read_msgpack('snm3C.pred_label.msg')"
   ]
  },
  {
   "cell_type": "code",
   "execution_count": 8,
   "metadata": {
    "ExecuteTime": {
     "end_time": "2020-01-20T23:45:50.767281Z",
     "start_time": "2020-01-20T23:45:50.752399Z"
    }
   },
   "outputs": [],
   "source": [
    "cell_meta = pd.read_csv('../ClusteringRecipe/cell_meta.csv', index_col=0)"
   ]
  },
  {
   "cell_type": "code",
   "execution_count": 18,
   "metadata": {
    "ExecuteTime": {
     "end_time": "2020-01-20T23:51:18.423683Z",
     "start_time": "2020-01-20T23:51:16.850923Z"
    }
   },
   "outputs": [],
   "source": [
    "def parse_name(s):\n",
    "    plate_info, ad_index = s.split('_')\n",
    "    plate1_1, plate1_2, plate1_3, plate2_1, plate2_2, plate2_3, plate_pos = plate_info.split('-')\n",
    "    plate1 = f'{plate1_1}-{plate1_2}-{plate1_3}'\n",
    "    plate2 = f'{plate2_1}-{plate2_2}-{plate2_3}'\n",
    "    real_plate = plate1 if ad_index in ['ad001', 'ad002', 'ad004', 'ad006'] else plate2\n",
    "    region = real_plate.split('-')[1]\n",
    "    return pd.Series({'Plate': real_plate, \n",
    "                      'Region': region,\n",
    "                      'ad_index': ad_index,\n",
    "                      'Pos96': plate_pos})\n",
    "plate_df = pd.DataFrame(cell_meta.index.map(parse_name).tolist(), index=cell_meta.index)"
   ]
  },
  {
   "cell_type": "code",
   "execution_count": 21,
   "metadata": {
    "ExecuteTime": {
     "end_time": "2020-01-20T23:51:37.889876Z",
     "start_time": "2020-01-20T23:51:37.881031Z"
    }
   },
   "outputs": [],
   "source": [
    "total_info = pd.concat([cell_label, plate_df], axis=1, sort=True)\n",
    "total_info['Region'] = total_info['Region'].replace('HCV', '10E,11E')"
   ]
  },
  {
   "cell_type": "code",
   "execution_count": 30,
   "metadata": {
    "ExecuteTime": {
     "end_time": "2020-01-20T23:54:01.141695Z",
     "start_time": "2020-01-20T23:54:01.118754Z"
    }
   },
   "outputs": [],
   "source": [
    "total_info.to_csv('Totalsnm3CLabels.csv')"
   ]
  },
  {
   "cell_type": "code",
   "execution_count": null,
   "metadata": {},
   "outputs": [],
   "source": []
  }
 ],
 "metadata": {
  "hide_input": false,
  "kernelspec": {
   "display_name": "Python 3",
   "language": "python",
   "name": "python3"
  },
  "language_info": {
   "codemirror_mode": {
    "name": "ipython",
    "version": 3
   },
   "file_extension": ".py",
   "mimetype": "text/x-python",
   "name": "python",
   "nbconvert_exporter": "python",
   "pygments_lexer": "ipython3",
   "version": "3.7.3"
  },
  "toc": {
   "base_numbering": 1,
   "nav_menu": {},
   "number_sections": true,
   "sideBar": true,
   "skip_h1_title": true,
   "title_cell": "Table of Contents",
   "title_sidebar": "Contents",
   "toc_cell": false,
   "toc_position": {},
   "toc_section_display": true,
   "toc_window_display": true
  }
 },
 "nbformat": 4,
 "nbformat_minor": 2
}
