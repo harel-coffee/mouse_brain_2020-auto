{
 "cells": [
  {
   "cell_type": "markdown",
   "metadata": {
    "toc": true
   },
   "source": [
    "<h1>Table of Contents<span class=\"tocSkip\"></span></h1>\n",
    "<div class=\"toc\"><ul class=\"toc-item\"><li><span><a href=\"#Purpose\" data-toc-modified-id=\"Purpose-1\"><span class=\"toc-item-num\">1&nbsp;&nbsp;</span>Purpose</a></span></li><li><span><a href=\"#Notes:\" data-toc-modified-id=\"Notes:-2\"><span class=\"toc-item-num\">2&nbsp;&nbsp;</span>Notes:</a></span></li><li><span><a href=\"#Input\" data-toc-modified-id=\"Input-3\"><span class=\"toc-item-num\">3&nbsp;&nbsp;</span>Input</a></span></li><li><span><a href=\"#Output\" data-toc-modified-id=\"Output-4\"><span class=\"toc-item-num\">4&nbsp;&nbsp;</span>Output</a></span></li><li><span><a href=\"#Parameters\" data-toc-modified-id=\"Parameters-5\"><span class=\"toc-item-num\">5&nbsp;&nbsp;</span>Parameters</a></span></li><li><span><a href=\"#Load-data\" data-toc-modified-id=\"Load-data-6\"><span class=\"toc-item-num\">6&nbsp;&nbsp;</span>Load data</a></span><ul class=\"toc-item\"><li><span><a href=\"#Cell-meta\" data-toc-modified-id=\"Cell-meta-6.1\"><span class=\"toc-item-num\">6.1&nbsp;&nbsp;</span>Cell meta</a></span></li><li><span><a href=\"#MCDS\" data-toc-modified-id=\"MCDS-6.2\"><span class=\"toc-item-num\">6.2&nbsp;&nbsp;</span>MCDS</a></span></li></ul></li><li><span><a href=\"#Add-mC-rate\" data-toc-modified-id=\"Add-mC-rate-7\"><span class=\"toc-item-num\">7&nbsp;&nbsp;</span>Add mC rate</a></span></li><li><span><a href=\"#Filter-feature\" data-toc-modified-id=\"Filter-feature-8\"><span class=\"toc-item-num\">8&nbsp;&nbsp;</span>Filter feature</a></span><ul class=\"toc-item\"><li><span><a href=\"#Remove-chromosome\" data-toc-modified-id=\"Remove-chromosome-8.1\"><span class=\"toc-item-num\">8.1&nbsp;&nbsp;</span>Remove chromosome</a></span></li><li><span><a href=\"#Remove-blacklist-region\" data-toc-modified-id=\"Remove-blacklist-region-8.2\"><span class=\"toc-item-num\">8.2&nbsp;&nbsp;</span>Remove blacklist region</a></span></li><li><span><a href=\"#Remove-by-mean-cov\" data-toc-modified-id=\"Remove-by-mean-cov-8.3\"><span class=\"toc-item-num\">8.3&nbsp;&nbsp;</span>Remove by mean cov</a></span></li></ul></li><li><span><a href=\"#Select-HVF\" data-toc-modified-id=\"Select-HVF-9\"><span class=\"toc-item-num\">9&nbsp;&nbsp;</span>Select HVF</a></span><ul class=\"toc-item\"><li><span><a href=\"#mCH-HVF\" data-toc-modified-id=\"mCH-HVF-9.1\"><span class=\"toc-item-num\">9.1&nbsp;&nbsp;</span>mCH HVF</a></span></li><li><span><a href=\"#mCG-HVF\" data-toc-modified-id=\"mCG-HVF-9.2\"><span class=\"toc-item-num\">9.2&nbsp;&nbsp;</span>mCG HVF</a></span></li></ul></li><li><span><a href=\"#Get-Anndata\" data-toc-modified-id=\"Get-Anndata-10\"><span class=\"toc-item-num\">10&nbsp;&nbsp;</span>Get Anndata</a></span><ul class=\"toc-item\"><li><span><a href=\"#Load-HVF\" data-toc-modified-id=\"Load-HVF-10.1\"><span class=\"toc-item-num\">10.1&nbsp;&nbsp;</span>Load HVF</a></span></li><li><span><a href=\"#CH-adata\" data-toc-modified-id=\"CH-adata-10.2\"><span class=\"toc-item-num\">10.2&nbsp;&nbsp;</span>CH adata</a></span></li><li><span><a href=\"#CG-adata\" data-toc-modified-id=\"CG-adata-10.3\"><span class=\"toc-item-num\">10.3&nbsp;&nbsp;</span>CG adata</a></span></li></ul></li><li><span><a href=\"#Prepare-Gene\" data-toc-modified-id=\"Prepare-Gene-11\"><span class=\"toc-item-num\">11&nbsp;&nbsp;</span>Prepare Gene</a></span></li></ul></div>"
   ]
  },
  {
   "cell_type": "markdown",
   "metadata": {},
   "source": [
    "# Prepare AnnData and Highly Variable Feature Selection\n",
    "\n",
    "## Purpose\n",
    "- Calculate methylation rate\n",
    "- Normalize per cell and clip extreme\n",
    "- Highly variable feature (usually 100kb bins) selection\n",
    "- Prepare HVF adata file\n",
    "- Prepare gene adata file\n",
    "- Basically, from N-D MCDS to 2-D anndata.AnnData object\n",
    "\n",
    "## Notes:\n",
    "- Usually we use 100kb bins to do clustering and use gene body mCH (for neuron) or mCG (for non-neuron) to annotate clusters.\n",
    "- Therefore, feature usually refer to chrom100k bins, but you can try to use other feature (e.g. gene) to do clustering.\n",
    "\n",
    "## Input\n",
    "- Cell metadata table, MCDS list\n",
    "\n",
    "## Output\n",
    "- mCH HVF adata\n",
    "- mCG HVF adata\n",
    "- Gene rate MCDS"
   ]
  },
  {
   "cell_type": "code",
   "execution_count": 1,
   "metadata": {
    "ExecuteTime": {
     "end_time": "2020-03-08T20:14:39.235639Z",
     "start_time": "2020-03-08T20:14:39.233788Z"
    }
   },
   "outputs": [],
   "source": [
    "import warnings\n",
    "warnings.filterwarnings('ignore')"
   ]
  },
  {
   "cell_type": "code",
   "execution_count": 2,
   "metadata": {
    "ExecuteTime": {
     "end_time": "2020-03-08T20:14:41.922876Z",
     "start_time": "2020-03-08T20:14:39.417613Z"
    }
   },
   "outputs": [],
   "source": [
    "import pathlib\n",
    "\n",
    "import matplotlib.pyplot as plt\n",
    "import numpy as np\n",
    "import pandas as pd\n",
    "import scanpy.api as sc\n",
    "import seaborn as sns\n",
    "import xarray as xr\n",
    "from pybedtools import BedTool\n",
    "from ALLCools.mcds.MCDS import MCDS\n",
    "from cemba_data.plot import *"
   ]
  },
  {
   "cell_type": "code",
   "execution_count": 3,
   "metadata": {
    "ExecuteTime": {
     "end_time": "2020-03-08T20:14:41.927851Z",
     "start_time": "2020-03-08T20:14:41.924784Z"
    }
   },
   "outputs": [],
   "source": [
    "result_dir = pathlib.Path('Adata')\n",
    "result_dir.mkdir(exist_ok=True)\n",
    "fig_dir = pathlib.Path('fig/feature_selection')\n",
    "fig_dir.mkdir(exist_ok=True, parents=True)"
   ]
  },
  {
   "cell_type": "markdown",
   "metadata": {},
   "source": [
    "## Parameters"
   ]
  },
  {
   "cell_type": "code",
   "execution_count": 4,
   "metadata": {
    "ExecuteTime": {
     "end_time": "2020-03-08T20:14:41.933047Z",
     "start_time": "2020-03-08T20:14:41.929418Z"
    },
    "tags": [
     "parameters"
    ]
   },
   "outputs": [],
   "source": [
    "# parameters cell\n",
    "in_memory = True\n",
    "dask_distribute = False\n",
    "\n",
    "# selected cell metadata path\n",
    "cell_meta_path = ''\n",
    "\n",
    "# blacklist\n",
    "black_list_path = '/home/hanliu/project/mouse_rostral_brain/misc/mm10-blacklist.v2.bed.gz'\n",
    "\n",
    "# mcds_path\n",
    "mcds_path_list = [\n",
    "    'snm3C.for_clustering.mcds'\n",
    "]\n",
    "\n",
    "clustering_feature = 'chrom100k'  # usually 100kb chromosome bins or genes\n",
    "\n",
    "# remove bad features\n",
    "black_list_region = None\n",
    "exclude_chromosome = ['chrY', 'chrM']\n",
    "\n",
    "# preprocess parameters\n",
    "min_feature_cov, max_feature_cov = 500, 3000\n",
    "\n",
    "ch_hvf_top = 3000\n",
    "min_ch_hvf_mean = 0.5\n",
    "max_ch_hvf_mean = 2.5\n",
    "\n",
    "cg_hvf_top = 3000\n",
    "min_cg_hvf_mean = 0.5\n",
    "max_cg_hvf_mean = 1.2\n",
    "\n",
    "generate_gene_rate = True"
   ]
  },
  {
   "cell_type": "code",
   "execution_count": 5,
   "metadata": {
    "ExecuteTime": {
     "end_time": "2020-03-08T20:14:41.936519Z",
     "start_time": "2020-03-08T20:14:41.934416Z"
    }
   },
   "outputs": [],
   "source": [
    "if dask_distribute:\n",
    "    from dask.distributed import Client\n",
    "    client = Client(dashboard_address=':5555')"
   ]
  },
  {
   "cell_type": "markdown",
   "metadata": {},
   "source": [
    "## Load data\n",
    "### Cell meta"
   ]
  },
  {
   "cell_type": "code",
   "execution_count": 6,
   "metadata": {
    "ExecuteTime": {
     "end_time": "2020-03-08T20:14:43.843187Z",
     "start_time": "2020-03-08T20:14:43.815550Z"
    }
   },
   "outputs": [
    {
     "data": {
      "text/html": [
       "<div>\n",
       "<style scoped>\n",
       "    .dataframe tbody tr th:only-of-type {\n",
       "        vertical-align: middle;\n",
       "    }\n",
       "\n",
       "    .dataframe tbody tr th {\n",
       "        vertical-align: top;\n",
       "    }\n",
       "\n",
       "    .dataframe thead th {\n",
       "        text-align: right;\n",
       "    }\n",
       "</style>\n",
       "<table border=\"1\" class=\"dataframe\">\n",
       "  <thead>\n",
       "    <tr style=\"text-align: right;\">\n",
       "      <th></th>\n",
       "      <th>1</th>\n",
       "      <th>2</th>\n",
       "      <th>3</th>\n",
       "      <th>4</th>\n",
       "      <th>5</th>\n",
       "      <th>6</th>\n",
       "      <th>7</th>\n",
       "      <th>8</th>\n",
       "      <th>mCH_rate</th>\n",
       "      <th>mCG_rate</th>\n",
       "    </tr>\n",
       "    <tr>\n",
       "      <th>0</th>\n",
       "      <th></th>\n",
       "      <th></th>\n",
       "      <th></th>\n",
       "      <th></th>\n",
       "      <th></th>\n",
       "      <th></th>\n",
       "      <th></th>\n",
       "      <th></th>\n",
       "      <th></th>\n",
       "      <th></th>\n",
       "    </tr>\n",
       "  </thead>\n",
       "  <tbody>\n",
       "    <tr>\n",
       "      <th>CEMBA191126-9J-1-CEMBA191126-9J-2-A10_ad001</th>\n",
       "      <td>1130605</td>\n",
       "      <td>772813</td>\n",
       "      <td>241251</td>\n",
       "      <td>72464</td>\n",
       "      <td>35029</td>\n",
       "      <td>0.69</td>\n",
       "      <td>0.21</td>\n",
       "      <td>0.10</td>\n",
       "      <td>0.009055</td>\n",
       "      <td>0.702498</td>\n",
       "    </tr>\n",
       "    <tr>\n",
       "      <th>CEMBA191126-9J-1-CEMBA191126-9J-2-A10_ad002</th>\n",
       "      <td>2248942</td>\n",
       "      <td>1543407</td>\n",
       "      <td>456458</td>\n",
       "      <td>164457</td>\n",
       "      <td>77386</td>\n",
       "      <td>0.65</td>\n",
       "      <td>0.24</td>\n",
       "      <td>0.11</td>\n",
       "      <td>0.009589</td>\n",
       "      <td>0.703959</td>\n",
       "    </tr>\n",
       "    <tr>\n",
       "      <th>CEMBA191126-9J-1-CEMBA191126-9J-2-A10_ad004</th>\n",
       "      <td>1467972</td>\n",
       "      <td>989251</td>\n",
       "      <td>292156</td>\n",
       "      <td>105706</td>\n",
       "      <td>48788</td>\n",
       "      <td>0.65</td>\n",
       "      <td>0.24</td>\n",
       "      <td>0.11</td>\n",
       "      <td>0.009886</td>\n",
       "      <td>0.710592</td>\n",
       "    </tr>\n",
       "    <tr>\n",
       "      <th>CEMBA191126-9J-1-CEMBA191126-9J-2-A10_ad006</th>\n",
       "      <td>3129037</td>\n",
       "      <td>2142708</td>\n",
       "      <td>659870</td>\n",
       "      <td>204630</td>\n",
       "      <td>107233</td>\n",
       "      <td>0.68</td>\n",
       "      <td>0.21</td>\n",
       "      <td>0.11</td>\n",
       "      <td>0.012262</td>\n",
       "      <td>0.723521</td>\n",
       "    </tr>\n",
       "    <tr>\n",
       "      <th>CEMBA191126-9J-1-CEMBA191126-9J-2-A10_ad007</th>\n",
       "      <td>1272931</td>\n",
       "      <td>864230</td>\n",
       "      <td>238409</td>\n",
       "      <td>107488</td>\n",
       "      <td>44730</td>\n",
       "      <td>0.61</td>\n",
       "      <td>0.28</td>\n",
       "      <td>0.11</td>\n",
       "      <td>0.019954</td>\n",
       "      <td>0.729968</td>\n",
       "    </tr>\n",
       "  </tbody>\n",
       "</table>\n",
       "</div>"
      ],
      "text/plain": [
       "                                                   1        2       3       4  \\\n",
       "0                                                                               \n",
       "CEMBA191126-9J-1-CEMBA191126-9J-2-A10_ad001  1130605   772813  241251   72464   \n",
       "CEMBA191126-9J-1-CEMBA191126-9J-2-A10_ad002  2248942  1543407  456458  164457   \n",
       "CEMBA191126-9J-1-CEMBA191126-9J-2-A10_ad004  1467972   989251  292156  105706   \n",
       "CEMBA191126-9J-1-CEMBA191126-9J-2-A10_ad006  3129037  2142708  659870  204630   \n",
       "CEMBA191126-9J-1-CEMBA191126-9J-2-A10_ad007  1272931   864230  238409  107488   \n",
       "\n",
       "                                                  5     6     7     8  \\\n",
       "0                                                                       \n",
       "CEMBA191126-9J-1-CEMBA191126-9J-2-A10_ad001   35029  0.69  0.21  0.10   \n",
       "CEMBA191126-9J-1-CEMBA191126-9J-2-A10_ad002   77386  0.65  0.24  0.11   \n",
       "CEMBA191126-9J-1-CEMBA191126-9J-2-A10_ad004   48788  0.65  0.24  0.11   \n",
       "CEMBA191126-9J-1-CEMBA191126-9J-2-A10_ad006  107233  0.68  0.21  0.11   \n",
       "CEMBA191126-9J-1-CEMBA191126-9J-2-A10_ad007   44730  0.61  0.28  0.11   \n",
       "\n",
       "                                             mCH_rate  mCG_rate  \n",
       "0                                                                \n",
       "CEMBA191126-9J-1-CEMBA191126-9J-2-A10_ad001  0.009055  0.702498  \n",
       "CEMBA191126-9J-1-CEMBA191126-9J-2-A10_ad002  0.009589  0.703959  \n",
       "CEMBA191126-9J-1-CEMBA191126-9J-2-A10_ad004  0.009886  0.710592  \n",
       "CEMBA191126-9J-1-CEMBA191126-9J-2-A10_ad006  0.012262  0.723521  \n",
       "CEMBA191126-9J-1-CEMBA191126-9J-2-A10_ad007  0.019954  0.729968  "
      ]
     },
     "execution_count": 6,
     "metadata": {},
     "output_type": "execute_result"
    }
   ],
   "source": [
    "cell_meta = pd.read_csv('cell_meta.csv', index_col=0)\n",
    "cell_meta.head()"
   ]
  },
  {
   "cell_type": "markdown",
   "metadata": {},
   "source": [
    "### MCDS"
   ]
  },
  {
   "cell_type": "code",
   "execution_count": 9,
   "metadata": {
    "ExecuteTime": {
     "end_time": "2020-03-08T20:15:14.834180Z",
     "start_time": "2020-03-08T20:15:13.534784Z"
    }
   },
   "outputs": [],
   "source": [
    "mcds = xr.open_dataarray('Adata/chrom100k_da_rate.nc').load()"
   ]
  },
  {
   "cell_type": "code",
   "execution_count": 11,
   "metadata": {
    "ExecuteTime": {
     "end_time": "2020-03-08T20:15:49.781828Z",
     "start_time": "2020-03-08T20:15:49.144761Z"
    }
   },
   "outputs": [],
   "source": [
    "import anndata\n",
    "snmc_ch_adata = anndata.read_h5ad('Adata/mch_adata.norm_per_cell.hvf.snmc.h5ad')\n",
    "snmc_cg_adata = anndata.read_h5ad('Adata/mcg_adata.norm_per_cell.hvf.snmc.h5ad')"
   ]
  },
  {
   "cell_type": "code",
   "execution_count": 17,
   "metadata": {
    "ExecuteTime": {
     "end_time": "2020-03-08T20:16:57.919817Z",
     "start_time": "2020-03-08T20:16:57.914254Z"
    }
   },
   "outputs": [
    {
     "data": {
      "text/plain": [
       "Int64Index([   30,    31,    32,    33,    34,    35,    36,    37,    38,\n",
       "               39,\n",
       "            ...\n",
       "            26328, 26329, 26330, 26331, 26332, 26333, 26334, 26335, 26336,\n",
       "            26337],\n",
       "           dtype='int64', name='chrom100k', length=23952)"
      ]
     },
     "execution_count": 17,
     "metadata": {},
     "output_type": "execute_result"
    }
   ],
   "source": []
  },
  {
   "cell_type": "code",
   "execution_count": 20,
   "metadata": {
    "ExecuteTime": {
     "end_time": "2020-03-08T20:17:28.747171Z",
     "start_time": "2020-03-08T20:17:28.725354Z"
    }
   },
   "outputs": [
    {
     "data": {
      "text/plain": [
       "Int64Index([   32,    33,    34,    35,    50,    65,    67,    68,    77,\n",
       "               98,\n",
       "            ...\n",
       "            26278, 26291, 26301, 26302, 26306, 26307, 26315, 26318, 26319,\n",
       "            26321],\n",
       "           dtype='int64', length=2989)"
      ]
     },
     "execution_count": 20,
     "metadata": {},
     "output_type": "execute_result"
    }
   ],
   "source": []
  },
  {
   "cell_type": "code",
   "execution_count": 31,
   "metadata": {
    "ExecuteTime": {
     "end_time": "2020-03-08T20:20:30.735445Z",
     "start_time": "2020-03-08T20:20:29.989272Z"
    }
   },
   "outputs": [
    {
     "name": "stderr",
     "output_type": "stream",
     "text": [
      "Transforming to str index.\n",
      "Transforming to str index.\n"
     ]
    }
   ],
   "source": [
    "var_names = snmc_ch_adata.var_names.astype(int) & mcds.get_index('chrom100k')\n",
    "X = mcds.sel(chrom100k=var_names, mc_type='CHN').values\n",
    "\n",
    "ch_adata = anndata.AnnData(X=X,\n",
    "                        obs=pd.DataFrame([], index=mcds.get_index('cell')),\n",
    "                        var=pd.DataFrame([], index=var_names))\n",
    "\n",
    "var_names = snmc_cg_adata.var_names.astype(int) & mcds.get_index('chrom100k')\n",
    "X = mcds.sel(chrom100k=var_names, mc_type='CGN').values\n",
    "\n",
    "cg_adata = anndata.AnnData(X=X,\n",
    "                        obs=pd.DataFrame([], index=mcds.get_index('cell')),\n",
    "                        var=pd.DataFrame([], index=var_names))"
   ]
  },
  {
   "cell_type": "markdown",
   "metadata": {},
   "source": [
    "### CH adata"
   ]
  },
  {
   "cell_type": "code",
   "execution_count": 32,
   "metadata": {
    "ExecuteTime": {
     "end_time": "2020-03-08T20:20:31.685936Z",
     "start_time": "2020-03-08T20:20:31.572032Z"
    }
   },
   "outputs": [],
   "source": [
    "ch_adata.write_h5ad(result_dir / 'mch_adata.norm_per_cell.hvf.m3c.h5ad')"
   ]
  },
  {
   "cell_type": "code",
   "execution_count": 33,
   "metadata": {
    "ExecuteTime": {
     "end_time": "2020-03-08T20:20:32.005566Z",
     "start_time": "2020-03-08T20:20:32.002698Z"
    }
   },
   "outputs": [
    {
     "data": {
      "text/plain": [
       "AnnData object with n_obs × n_vars = 5398 × 2989 "
      ]
     },
     "execution_count": 33,
     "metadata": {},
     "output_type": "execute_result"
    }
   ],
   "source": [
    "ch_adata"
   ]
  },
  {
   "cell_type": "markdown",
   "metadata": {},
   "source": [
    "### CG adata"
   ]
  },
  {
   "cell_type": "code",
   "execution_count": 34,
   "metadata": {
    "ExecuteTime": {
     "end_time": "2020-03-08T20:20:33.040744Z",
     "start_time": "2020-03-08T20:20:32.924953Z"
    }
   },
   "outputs": [],
   "source": [
    "cg_adata.write_h5ad(result_dir / 'mcg_adata.norm_per_cell.hvf.m3c.h5ad')"
   ]
  },
  {
   "cell_type": "code",
   "execution_count": 35,
   "metadata": {
    "ExecuteTime": {
     "end_time": "2020-03-08T20:20:33.407688Z",
     "start_time": "2020-03-08T20:20:33.404891Z"
    }
   },
   "outputs": [
    {
     "data": {
      "text/plain": [
       "AnnData object with n_obs × n_vars = 5398 × 2984 "
      ]
     },
     "execution_count": 35,
     "metadata": {},
     "output_type": "execute_result"
    }
   ],
   "source": [
    "cg_adata"
   ]
  },
  {
   "cell_type": "markdown",
   "metadata": {},
   "source": [
    "## Prepare Gene"
   ]
  },
  {
   "cell_type": "code",
   "execution_count": null,
   "metadata": {},
   "outputs": [],
   "source": []
  },
  {
   "cell_type": "code",
   "execution_count": null,
   "metadata": {},
   "outputs": [],
   "source": []
  }
 ],
 "metadata": {
  "hide_input": false,
  "kernelspec": {
   "display_name": "Python 3",
   "language": "python",
   "name": "python3"
  },
  "language_info": {
   "codemirror_mode": {
    "name": "ipython",
    "version": 3
   },
   "file_extension": ".py",
   "mimetype": "text/x-python",
   "name": "python",
   "nbconvert_exporter": "python",
   "pygments_lexer": "ipython3",
   "version": "3.7.3"
  },
  "toc": {
   "base_numbering": 1,
   "nav_menu": {},
   "number_sections": true,
   "sideBar": true,
   "skip_h1_title": true,
   "title_cell": "Table of Contents",
   "title_sidebar": "Contents",
   "toc_cell": true,
   "toc_position": {},
   "toc_section_display": true,
   "toc_window_display": true
  }
 },
 "nbformat": 4,
 "nbformat_minor": 2
}
