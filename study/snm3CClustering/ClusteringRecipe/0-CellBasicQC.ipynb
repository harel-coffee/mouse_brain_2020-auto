{
 "cells": [
  {
   "cell_type": "markdown",
   "metadata": {
    "toc": true
   },
   "source": [
    "<h1>Table of Contents<span class=\"tocSkip\"></span></h1>\n",
    "<div class=\"toc\"><ul class=\"toc-item\"><li><span><a href=\"#Purpose\" data-toc-modified-id=\"Purpose-1\"><span class=\"toc-item-num\">1&nbsp;&nbsp;</span>Purpose</a></span></li><li><span><a href=\"#Input\" data-toc-modified-id=\"Input-2\"><span class=\"toc-item-num\">2&nbsp;&nbsp;</span>Input</a></span></li><li><span><a href=\"#Output\" data-toc-modified-id=\"Output-3\"><span class=\"toc-item-num\">3&nbsp;&nbsp;</span>Output</a></span></li><li><span><a href=\"#Parameters\" data-toc-modified-id=\"Parameters-4\"><span class=\"toc-item-num\">4&nbsp;&nbsp;</span>Parameters</a></span><ul class=\"toc-item\"><li><span><a href=\"#Not-through-papermill\" data-toc-modified-id=\"Not-through-papermill-4.1\"><span class=\"toc-item-num\">4.1&nbsp;&nbsp;</span>Not through papermill</a></span></li></ul></li><li><span><a href=\"#Load-Cell-Metadata\" data-toc-modified-id=\"Load-Cell-Metadata-5\"><span class=\"toc-item-num\">5&nbsp;&nbsp;</span>Load Cell Metadata</a></span></li></ul></div>"
   ]
  },
  {
   "cell_type": "markdown",
   "metadata": {},
   "source": [
    "# Basic Data Walkthrough and Cell Mapping Metric Filtering\n",
    "\n",
    "## Purpose\n",
    "- Overview of basic QC metrics per brain region\n",
    "- Have a simple cell filtering based on basic QC metrics\n",
    "\n",
    "## Input\n",
    "- Cell metadata table\n",
    "\n",
    "## Output\n",
    "- Selected cell metadata table"
   ]
  },
  {
   "cell_type": "code",
   "execution_count": 1,
   "metadata": {
    "ExecuteTime": {
     "end_time": "2020-01-01T20:24:30.233211Z",
     "start_time": "2020-01-01T20:24:30.230417Z"
    }
   },
   "outputs": [],
   "source": [
    "import warnings\n",
    "warnings.filterwarnings('ignore')"
   ]
  },
  {
   "cell_type": "code",
   "execution_count": 2,
   "metadata": {
    "ExecuteTime": {
     "end_time": "2020-01-01T20:24:30.924386Z",
     "start_time": "2020-01-01T20:24:30.234763Z"
    }
   },
   "outputs": [],
   "source": [
    "import pathlib\n",
    "\n",
    "import matplotlib.pyplot as plt\n",
    "import numpy as np\n",
    "import pandas as pd\n",
    "import xarray as xr\n",
    "import seaborn as sns\n",
    "from cemba_data.plot.preprocessing import cutoff_vs_cell_remain, plot_on_plate"
   ]
  },
  {
   "cell_type": "code",
   "execution_count": 3,
   "metadata": {
    "ExecuteTime": {
     "end_time": "2020-01-01T20:24:30.929385Z",
     "start_time": "2020-01-01T20:24:30.926469Z"
    }
   },
   "outputs": [],
   "source": [
    "result_dir = pathlib.Path()\n",
    "fig_dir = result_dir / 'fig/cell_basic_qc'\n",
    "fig_dir.mkdir(exist_ok=True, parents=True)"
   ]
  },
  {
   "cell_type": "markdown",
   "metadata": {},
   "source": [
    "## Parameters"
   ]
  },
  {
   "cell_type": "code",
   "execution_count": 4,
   "metadata": {
    "ExecuteTime": {
     "end_time": "2020-01-01T20:24:30.937540Z",
     "start_time": "2020-01-01T20:24:30.935613Z"
    },
    "tags": [
     "parameters"
    ]
   },
   "outputs": [],
   "source": [
    "# parameters cell\n",
    "study_name = 'snm3C'\n",
    "\n",
    "cell_metadata_path = '/home/hanliu/project/mouse_rostral_brain/snm3C/summary.txt'"
   ]
  },
  {
   "cell_type": "markdown",
   "metadata": {},
   "source": [
    "### Not through papermill"
   ]
  },
  {
   "cell_type": "code",
   "execution_count": 5,
   "metadata": {
    "ExecuteTime": {
     "end_time": "2020-01-01T20:24:30.952076Z",
     "start_time": "2020-01-01T20:24:30.947868Z"
    }
   },
   "outputs": [],
   "source": [
    "# QC metric filtering\n",
    "qc_metric = {\n",
    "    'CCC_Rate': (0, 0.05),\n",
    "    'CG_RateAdj': (0.5, 1),\n",
    "    'CH_RateAdj': (0., 0.15),\n",
    "    'FinalReads': (500000, 10000000),\n",
    "    'MappingRate': (0.5, 1)\n",
    "}\n",
    "\n",
    "# plot cell metadata columns\n",
    "metadata_distribution_plot = {\n",
    "    'CCC_Rate': (0., 0.1),\n",
    "    'CH_RateAdj': (0, 0.1),\n",
    "    'CG_RateAdj': (0.7, 0.9),\n",
    "    'InputReads': (0, 1e7),\n",
    "    'MappedReads': (0, 1e7),\n",
    "    'FinalReads': (0, 1e7),\n",
    "    'MappingRate': (0.5, 1)\n",
    "}\n",
    "\n",
    "final_reads_column = 'FinalReads'\n",
    "plate_view = False"
   ]
  },
  {
   "cell_type": "markdown",
   "metadata": {},
   "source": [
    "## Load Cell Metadata"
   ]
  },
  {
   "cell_type": "code",
   "execution_count": 6,
   "metadata": {
    "ExecuteTime": {
     "end_time": "2020-01-01T20:24:30.970762Z",
     "start_time": "2020-01-01T20:24:30.953351Z"
    }
   },
   "outputs": [],
   "source": [
    "total_cell_meta = pd.read_csv(cell_metadata_path, header=None, sep='\\t', index_col=0)\n",
    "total_cell_meta.index = total_cell_meta.index.map(lambda i: i[20:])"
   ]
  },
  {
   "cell_type": "code",
   "execution_count": 7,
   "metadata": {
    "ExecuteTime": {
     "end_time": "2020-01-01T20:24:30.975793Z",
     "start_time": "2020-01-01T20:24:30.972525Z"
    }
   },
   "outputs": [],
   "source": [
    "total_cell_meta = total_cell_meta[total_cell_meta[3] > 100000]"
   ]
  },
  {
   "cell_type": "code",
   "execution_count": 8,
   "metadata": {
    "ExecuteTime": {
     "end_time": "2020-01-01T20:24:30.979428Z",
     "start_time": "2020-01-01T20:24:30.977068Z"
    }
   },
   "outputs": [],
   "source": [
    "mcds_path_list = [\n",
    "    '/home/hanliu/project/mouse_rostral_brain/snm3C/dataset/snm3C_chunk_0.mcds',\n",
    "    '/home/hanliu/project/mouse_rostral_brain/snm3C/dataset/snm3C_chunk_1000.mcds',\n",
    "    '/home/hanliu/project/mouse_rostral_brain/snm3C/dataset/snm3C_chunk_1500.mcds',\n",
    "    '/home/hanliu/project/mouse_rostral_brain/snm3C/dataset/snm3C_chunk_2000.mcds',\n",
    "    '/home/hanliu/project/mouse_rostral_brain/snm3C/dataset/snm3C_chunk_2500.mcds',\n",
    "    '/home/hanliu/project/mouse_rostral_brain/snm3C/dataset/snm3C_chunk_3000.mcds',\n",
    "    '/home/hanliu/project/mouse_rostral_brain/snm3C/dataset/snm3C_chunk_3500.mcds',\n",
    "    '/home/hanliu/project/mouse_rostral_brain/snm3C/dataset/snm3C_chunk_4000.mcds',\n",
    "    '/home/hanliu/project/mouse_rostral_brain/snm3C/dataset/snm3C_chunk_4500.mcds',\n",
    "    '/home/hanliu/project/mouse_rostral_brain/snm3C/dataset/snm3C_chunk_5000.mcds',\n",
    "    '/home/hanliu/project/mouse_rostral_brain/snm3C/dataset/snm3C_chunk_500.mcds',\n",
    "    '/home/hanliu/project/mouse_rostral_brain/snm3C/dataset/snm3C_chunk_5500.mcds',\n",
    "    '/home/hanliu/project/mouse_rostral_brain/snm3C/dataset/snm3C_chunk_6000.mcds'\n",
    "]"
   ]
  },
  {
   "cell_type": "code",
   "execution_count": null,
   "metadata": {},
   "outputs": [],
   "source": [
    "mcds = xr.open_mfdataset(mcds_path_list, combine='nested', concat_dim='cell')"
   ]
  },
  {
   "cell_type": "code",
   "execution_count": 11,
   "metadata": {},
   "outputs": [],
   "source": [
    "new_mcds = xr.Dataset({k: mcds[k] for k in ['geneslop2k_da', 'chrom100k_da']})"
   ]
  },
  {
   "cell_type": "code",
   "execution_count": 12,
   "metadata": {},
   "outputs": [],
   "source": [
    "use_cells = new_mcds.get_index('cell') & total_cell_meta.index"
   ]
  },
  {
   "cell_type": "code",
   "execution_count": 13,
   "metadata": {},
   "outputs": [],
   "source": [
    "new_mcds.sel(cell=use_cells).to_netcdf('snm3C.for_clustering.mcds')"
   ]
  },
  {
   "cell_type": "code",
   "execution_count": 16,
   "metadata": {
    "ExecuteTime": {
     "end_time": "2020-01-01T20:25:48.932634Z",
     "start_time": "2020-01-01T20:25:44.271333Z"
    }
   },
   "outputs": [],
   "source": [
    "mch_data = new_mcds['chrom100k_da'].sel(mc_type='CHN').sum('chrom100k').squeeze()\n",
    "mcg_data = new_mcds['chrom100k_da'].sel(mc_type='CGN').sum('chrom100k').squeeze()\n"
   ]
  },
  {
   "cell_type": "code",
   "execution_count": 20,
   "metadata": {
    "ExecuteTime": {
     "end_time": "2020-01-01T20:26:53.187925Z",
     "start_time": "2020-01-01T20:26:53.176511Z"
    }
   },
   "outputs": [],
   "source": [
    "total_cell_meta['mCH_rate'] = (mch_data.sel(count_type='mc') / mch_data.sel(count_type='cov')).to_pandas()\n",
    "total_cell_meta['mCG_rate'] = (mcg_data.sel(count_type='mc') / mcg_data.sel(count_type='cov')).to_pandas()"
   ]
  },
  {
   "cell_type": "code",
   "execution_count": 21,
   "metadata": {
    "ExecuteTime": {
     "end_time": "2020-01-01T20:27:01.495178Z",
     "start_time": "2020-01-01T20:27:01.437224Z"
    }
   },
   "outputs": [],
   "source": [
    "total_cell_meta.to_csv('cell_meta.csv')"
   ]
  },
  {
   "cell_type": "code",
   "execution_count": null,
   "metadata": {},
   "outputs": [],
   "source": []
  }
 ],
 "metadata": {
  "hide_input": false,
  "kernelspec": {
   "display_name": "Python 3",
   "language": "python",
   "name": "python3"
  },
  "language_info": {
   "codemirror_mode": {
    "name": "ipython",
    "version": 3
   },
   "file_extension": ".py",
   "mimetype": "text/x-python",
   "name": "python",
   "nbconvert_exporter": "python",
   "pygments_lexer": "ipython3",
   "version": "3.7.3"
  },
  "toc": {
   "base_numbering": 1,
   "nav_menu": {},
   "number_sections": true,
   "sideBar": true,
   "skip_h1_title": true,
   "title_cell": "Table of Contents",
   "title_sidebar": "Contents",
   "toc_cell": true,
   "toc_position": {},
   "toc_section_display": true,
   "toc_window_display": true
  }
 },
 "nbformat": 4,
 "nbformat_minor": 2
}
