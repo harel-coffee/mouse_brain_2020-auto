{
 "cells": [
  {
   "cell_type": "markdown",
   "metadata": {
    "toc": true
   },
   "source": [
    "<h1>Table of Contents<span class=\"tocSkip\"></span></h1>\n",
    "<div class=\"toc\"><ul class=\"toc-item\"><li><span><a href=\"#Purpose\" data-toc-modified-id=\"Purpose-1\"><span class=\"toc-item-num\">1&nbsp;&nbsp;</span>Purpose</a></span></li><li><span><a href=\"#Input\" data-toc-modified-id=\"Input-2\"><span class=\"toc-item-num\">2&nbsp;&nbsp;</span>Input</a></span></li><li><span><a href=\"#Output\" data-toc-modified-id=\"Output-3\"><span class=\"toc-item-num\">3&nbsp;&nbsp;</span>Output</a></span></li><li><span><a href=\"#Parameters\" data-toc-modified-id=\"Parameters-4\"><span class=\"toc-item-num\">4&nbsp;&nbsp;</span>Parameters</a></span></li><li><span><a href=\"#Load-data\" data-toc-modified-id=\"Load-data-5\"><span class=\"toc-item-num\">5&nbsp;&nbsp;</span>Load data</a></span><ul class=\"toc-item\"><li><span><a href=\"#Cell-meta\" data-toc-modified-id=\"Cell-meta-5.1\"><span class=\"toc-item-num\">5.1&nbsp;&nbsp;</span>Cell meta</a></span></li><li><span><a href=\"#MCDS\" data-toc-modified-id=\"MCDS-5.2\"><span class=\"toc-item-num\">5.2&nbsp;&nbsp;</span>MCDS</a></span></li></ul></li><li><span><a href=\"#Remove-blacklist\" data-toc-modified-id=\"Remove-blacklist-6\"><span class=\"toc-item-num\">6&nbsp;&nbsp;</span>Remove blacklist</a></span></li><li><span><a href=\"#Prepare-Gene\" data-toc-modified-id=\"Prepare-Gene-7\"><span class=\"toc-item-num\">7&nbsp;&nbsp;</span>Prepare Gene</a></span></li></ul></div>"
   ]
  },
  {
   "cell_type": "markdown",
   "metadata": {},
   "source": [
    "# Prepare AnnData and Highly Variable Feature Selection\n",
    "\n",
    "## Purpose\n",
    "- Calculate methylation rate\n",
    "- Normalize per cell and clip extreme\n",
    "- HVF selection\n",
    "- Prepare HVF adata file\n",
    "- Prepare gene adata file\n",
    "- Basically, from N-D to 2-D\n",
    "\n",
    "## Input\n",
    "- Cell metadata table, MCDS list\n",
    "\n",
    "## Output\n",
    "- mCH HVF adata\n",
    "- mCG HVF adata\n",
    "- Gene rate MCDS"
   ]
  },
  {
   "cell_type": "code",
   "execution_count": 1,
   "metadata": {
    "ExecuteTime": {
     "end_time": "2020-01-27T20:23:04.167785Z",
     "start_time": "2020-01-27T20:23:04.165504Z"
    }
   },
   "outputs": [],
   "source": [
    "import warnings\n",
    "warnings.filterwarnings('ignore')"
   ]
  },
  {
   "cell_type": "code",
   "execution_count": 2,
   "metadata": {
    "ExecuteTime": {
     "end_time": "2020-01-27T20:23:07.100158Z",
     "start_time": "2020-01-27T20:23:04.537518Z"
    }
   },
   "outputs": [],
   "source": [
    "import pathlib\n",
    "\n",
    "import matplotlib.pyplot as plt\n",
    "import numpy as np\n",
    "import pandas as pd\n",
    "import scanpy.api as sc\n",
    "import seaborn as sns\n",
    "import xarray as xr\n",
    "from pybedtools import BedTool\n",
    "from ALLCools.mcds.MCDS import MCDS\n",
    "from cemba_data.plot import *"
   ]
  },
  {
   "cell_type": "code",
   "execution_count": 3,
   "metadata": {
    "ExecuteTime": {
     "end_time": "2020-01-27T20:23:07.105346Z",
     "start_time": "2020-01-27T20:23:07.102236Z"
    }
   },
   "outputs": [],
   "source": [
    "result_dir = pathlib.Path('Adata')\n",
    "result_dir.mkdir(exist_ok=True)\n",
    "fig_dir = pathlib.Path('fig/feature_selection')\n",
    "fig_dir.mkdir(exist_ok=True, parents=True)"
   ]
  },
  {
   "cell_type": "markdown",
   "metadata": {},
   "source": [
    "## Parameters"
   ]
  },
  {
   "cell_type": "code",
   "execution_count": 4,
   "metadata": {
    "ExecuteTime": {
     "end_time": "2020-01-27T20:23:09.362914Z",
     "start_time": "2020-01-27T20:23:09.315405Z"
    },
    "tags": [
     "parameters"
    ]
   },
   "outputs": [],
   "source": [
    "# parameters cell\n",
    "in_memory = False\n",
    "dask_distribute = True\n",
    "\n",
    "# selected cell metadata path\n",
    "cell_meta_path = ''\n",
    "\n",
    "# blacklist\n",
    "black_list_path = '/home/hanliu/project/mouse_rostral_brain/misc/mm10-blacklist.v2.bed.gz'\n",
    "\n",
    "# mcds_path\n",
    "mcds_path_list = list(\n",
    "    pathlib.Path(\n",
    "        '/home/hanliu/project/mouse_rostral_brain/dataset/gene_with_2kb_slop/'\n",
    "    ).glob('*mcds'))\n",
    "\n",
    "clustering_feature = 'gene'  # usually 100kb chromosome bins or genes\n",
    "\n",
    "# remove bad features\n",
    "black_list_region = None\n",
    "exclude_chromosome = ['chrY', 'chrM']\n",
    "\n",
    "# preprocess parameters\n",
    "min_feature_cov, max_feature_cov = 500, 3000\n",
    "\n",
    "ch_hvf_top = 3000\n",
    "min_ch_hvf_mean = 0.5\n",
    "max_ch_hvf_mean = 2.5\n",
    "\n",
    "cg_hvf_top = 3000\n",
    "min_cg_hvf_mean = 0.5\n",
    "max_cg_hvf_mean = 1.2"
   ]
  },
  {
   "cell_type": "code",
   "execution_count": 5,
   "metadata": {
    "ExecuteTime": {
     "end_time": "2020-01-27T20:23:12.965102Z",
     "start_time": "2020-01-27T20:23:10.763325Z"
    }
   },
   "outputs": [],
   "source": [
    "if dask_distribute:\n",
    "    from dask.distributed import Client\n",
    "    client = Client(dashboard_address=':5555')"
   ]
  },
  {
   "cell_type": "markdown",
   "metadata": {},
   "source": [
    "## Load data\n",
    "### Cell meta"
   ]
  },
  {
   "cell_type": "code",
   "execution_count": 6,
   "metadata": {
    "ExecuteTime": {
     "end_time": "2020-01-27T20:23:13.610150Z",
     "start_time": "2020-01-27T20:23:13.338220Z"
    }
   },
   "outputs": [
    {
     "data": {
      "text/plain": [
       "109670"
      ]
     },
     "execution_count": 6,
     "metadata": {},
     "output_type": "execute_result"
    }
   ],
   "source": [
    "cell_meta = pd.read_msgpack('CellMetadata.AfterQC.msg')\n",
    "cell_meta.shape[0]"
   ]
  },
  {
   "cell_type": "markdown",
   "metadata": {},
   "source": [
    "### MCDS"
   ]
  },
  {
   "cell_type": "code",
   "execution_count": 7,
   "metadata": {
    "ExecuteTime": {
     "end_time": "2020-01-27T20:23:55.738677Z",
     "start_time": "2020-01-27T20:23:17.920170Z"
    }
   },
   "outputs": [],
   "source": [
    "with warnings.catch_warnings():\n",
    "    warnings.simplefilter('ignore')\n",
    "    mcds = MCDS.open(mcds_path_list,\n",
    "                     use_cells=cell_meta[cell_meta['PassFilter']].index,\n",
    "                     chunks={'cell': 1000})\n",
    "if in_memory:\n",
    "    mcds.load()"
   ]
  },
  {
   "cell_type": "code",
   "execution_count": 8,
   "metadata": {
    "ExecuteTime": {
     "end_time": "2020-01-27T20:23:55.754098Z",
     "start_time": "2020-01-27T20:23:55.741358Z"
    }
   },
   "outputs": [
    {
     "data": {
      "text/plain": [
       "<xarray.MCDS>\n",
       "Dimensions:           (cell: 104340, count_type: 2, gene: 55487, mc_type: 2)\n",
       "Coordinates:\n",
       "  * mc_type           (mc_type) object 'CGN' 'CHN'\n",
       "    strand_type       <U4 'both'\n",
       "  * gene              (gene) object 'ENSMUSG00000102693.1' ... 'ENSMUSG00000064372.1'\n",
       "  * count_type        (count_type) object 'mc' 'cov'\n",
       "    geneslop2k_chrom  (gene) object dask.array<shape=(55487,), chunksize=(55487,)>\n",
       "    geneslop2k_start  (gene) int64 dask.array<shape=(55487,), chunksize=(55487,)>\n",
       "    geneslop2k_end    (gene) int64 dask.array<shape=(55487,), chunksize=(55487,)>\n",
       "  * cell              (cell) object '1A_M_0' '1A_M_1' ... '10F_M_998'\n",
       "Data variables:\n",
       "    gene_da           (cell, gene, mc_type, count_type) uint32 dask.array<shape=(104340, 55487, 2, 2), chunksize=(1000, 55487, 2, 2)>"
      ]
     },
     "execution_count": 8,
     "metadata": {},
     "output_type": "execute_result"
    }
   ],
   "source": [
    "mcds.rename(name_dict={\n",
    "    'geneslop2k_da': 'gene_da',\n",
    "    'geneslop2k': 'gene'\n",
    "},\n",
    "            inplace=True)\n",
    "mcds"
   ]
  },
  {
   "cell_type": "markdown",
   "metadata": {},
   "source": [
    "## Remove blacklist"
   ]
  },
  {
   "cell_type": "code",
   "execution_count": 11,
   "metadata": {
    "ExecuteTime": {
     "end_time": "2020-01-27T20:24:42.897204Z",
     "start_time": "2020-01-27T20:24:39.164681Z"
    }
   },
   "outputs": [],
   "source": [
    "feature_bed_df = pd.DataFrame([\n",
    "    mcds.coords[f'geneslop2k_chrom'].to_pandas(),\n",
    "    mcds.coords[f'geneslop2k_start'].to_pandas(),\n",
    "    mcds.coords[f'geneslop2k_end'].to_pandas()\n",
    "],\n",
    "                              index=['chrom', 'start', 'end'],\n",
    "                              columns=mcds.get_index('gene')).T\n",
    "feature_bed = BedTool.from_dataframe(feature_bed_df)"
   ]
  },
  {
   "cell_type": "code",
   "execution_count": 14,
   "metadata": {
    "ExecuteTime": {
     "end_time": "2020-01-27T20:26:16.407930Z",
     "start_time": "2020-01-27T20:26:16.113164Z"
    }
   },
   "outputs": [],
   "source": [
    "black_list_bed = BedTool(black_list_path)\n",
    "black_feature = feature_bed.intersect(black_list_bed, f=0.5, wa=True)\n",
    "black_feature_index = black_feature.to_dataframe().set_index(\n",
    "    ['chrom', 'start', 'end']).index\n",
    "black_feature_id = pd.Index(feature_bed_df.reset_index()\\\n",
    "                       .set_index(['chrom', 'start', 'end'])\\\n",
    "                       .loc[black_feature_index][clustering_feature])"
   ]
  },
  {
   "cell_type": "code",
   "execution_count": 18,
   "metadata": {
    "ExecuteTime": {
     "end_time": "2020-01-27T20:26:37.691787Z",
     "start_time": "2020-01-27T20:26:37.668655Z"
    }
   },
   "outputs": [],
   "source": [
    "mcds = mcds.sel(gene=~mcds.get_index('gene').isin(black_feature_id))"
   ]
  },
  {
   "cell_type": "markdown",
   "metadata": {},
   "source": [
    "## Prepare Gene"
   ]
  },
  {
   "cell_type": "code",
   "execution_count": 9,
   "metadata": {
    "ExecuteTime": {
     "end_time": "2019-12-14T22:49:45.087197Z",
     "start_time": "2019-12-14T22:22:11.837046Z"
    }
   },
   "outputs": [
    {
     "name": "stderr",
     "output_type": "stream",
     "text": [
      "distributed.nanny - WARNING - Worker exceeded 95% memory budget. Restarting\n",
      "distributed.nanny - WARNING - Restarting worker\n",
      "distributed.nanny - WARNING - Worker exceeded 95% memory budget. Restarting\n",
      "distributed.nanny - WARNING - Restarting worker\n",
      "distributed.nanny - WARNING - Worker exceeded 95% memory budget. Restarting\n",
      "distributed.nanny - WARNING - Restarting worker\n",
      "distributed.nanny - WARNING - Worker exceeded 95% memory budget. Restarting\n",
      "distributed.nanny - WARNING - Restarting worker\n",
      "distributed.nanny - WARNING - Restarting worker\n",
      "distributed.nanny - WARNING - Worker exceeded 95% memory budget. Restarting\n",
      "distributed.nanny - WARNING - Restarting worker\n",
      "distributed.nanny - WARNING - Worker exceeded 95% memory budget. Restarting\n",
      "distributed.nanny - WARNING - Restarting worker\n",
      "distributed.nanny - WARNING - Worker exceeded 95% memory budget. Restarting\n",
      "distributed.nanny - WARNING - Restarting worker\n",
      "distributed.nanny - WARNING - Worker exceeded 95% memory budget. Restarting\n",
      "distributed.nanny - WARNING - Restarting worker\n",
      "distributed.nanny - WARNING - Worker exceeded 95% memory budget. Restarting\n",
      "distributed.nanny - WARNING - Restarting worker\n",
      "distributed.nanny - WARNING - Worker exceeded 95% memory budget. Restarting\n",
      "distributed.nanny - WARNING - Restarting worker\n",
      "distributed.nanny - WARNING - Worker exceeded 95% memory budget. Restarting\n",
      "distributed.nanny - WARNING - Restarting worker\n",
      "distributed.nanny - WARNING - Worker exceeded 95% memory budget. Restarting\n",
      "distributed.nanny - WARNING - Restarting worker\n",
      "distributed.nanny - WARNING - Worker exceeded 95% memory budget. Restarting\n",
      "distributed.nanny - WARNING - Restarting worker\n",
      "distributed.nanny - WARNING - Worker exceeded 95% memory budget. Restarting\n",
      "distributed.nanny - WARNING - Restarting worker\n"
     ]
    }
   ],
   "source": [
    "mcds.add_gene_rate(in_memory=False, method=,\n",
    "                   output_prefix=str(result_dir / 'GeneWithSlop2kb'),\n",
    "                   cell_chunks=10000)"
   ]
  },
  {
   "cell_type": "code",
   "execution_count": null,
   "metadata": {},
   "outputs": [],
   "source": []
  }
 ],
 "metadata": {
  "hide_input": false,
  "kernelspec": {
   "display_name": "Python 3",
   "language": "python",
   "name": "python3"
  },
  "language_info": {
   "codemirror_mode": {
    "name": "ipython",
    "version": 3
   },
   "file_extension": ".py",
   "mimetype": "text/x-python",
   "name": "python",
   "nbconvert_exporter": "python",
   "pygments_lexer": "ipython3",
   "version": "3.7.3"
  },
  "toc": {
   "base_numbering": 1,
   "nav_menu": {},
   "number_sections": true,
   "sideBar": true,
   "skip_h1_title": true,
   "title_cell": "Table of Contents",
   "title_sidebar": "Contents",
   "toc_cell": true,
   "toc_position": {},
   "toc_section_display": true,
   "toc_window_display": true
  }
 },
 "nbformat": 4,
 "nbformat_minor": 2
}
