{
 "cells": [
  {
   "cell_type": "markdown",
   "metadata": {
    "toc": true
   },
   "source": [
    "<h1>Table of Contents<span class=\"tocSkip\"></span></h1>\n",
    "<div class=\"toc\"><ul class=\"toc-item\"><li><span><a href=\"#Path\" data-toc-modified-id=\"Path-1\"><span class=\"toc-item-num\">1&nbsp;&nbsp;</span>Path</a></span></li><li><span><a href=\"#Gene-Meta\" data-toc-modified-id=\"Gene-Meta-2\"><span class=\"toc-item-num\">2&nbsp;&nbsp;</span>Gene Meta</a></span></li><li><span><a href=\"#Cell-Meta\" data-toc-modified-id=\"Cell-Meta-3\"><span class=\"toc-item-num\">3&nbsp;&nbsp;</span>Cell Meta</a></span><ul class=\"toc-item\"><li><span><a href=\"#Determine-meta-cols\" data-toc-modified-id=\"Determine-meta-cols-3.1\"><span class=\"toc-item-num\">3.1&nbsp;&nbsp;</span>Determine meta cols</a></span></li><li><span><a href=\"#Select-meta-cols\" data-toc-modified-id=\"Select-meta-cols-3.2\"><span class=\"toc-item-num\">3.2&nbsp;&nbsp;</span>Select meta cols</a></span></li></ul></li><li><span><a href=\"#Coords\" data-toc-modified-id=\"Coords-4\"><span class=\"toc-item-num\">4&nbsp;&nbsp;</span>Coords</a></span></li><li><span><a href=\"#Gene-Matrix\" data-toc-modified-id=\"Gene-Matrix-5\"><span class=\"toc-item-num\">5&nbsp;&nbsp;</span>Gene Matrix</a></span><ul class=\"toc-item\"><li><span><a href=\"#Determine-genes-to-include\" data-toc-modified-id=\"Determine-genes-to-include-5.1\"><span class=\"toc-item-num\">5.1&nbsp;&nbsp;</span>Determine genes to include</a></span></li><li><span><a href=\"#Save-gene-matrix\" data-toc-modified-id=\"Save-gene-matrix-5.2\"><span class=\"toc-item-num\">5.2&nbsp;&nbsp;</span>Save gene matrix</a></span></li></ul></li><li><span><a href=\"#Conf-file\" data-toc-modified-id=\"Conf-file-6\"><span class=\"toc-item-num\">6&nbsp;&nbsp;</span>Conf file</a></span></li><li><span><a href=\"#Color-File\" data-toc-modified-id=\"Color-File-7\"><span class=\"toc-item-num\">7&nbsp;&nbsp;</span>Color File</a></span></li></ul></div>"
   ]
  },
  {
   "cell_type": "code",
   "execution_count": 1,
   "metadata": {
    "ExecuteTime": {
     "end_time": "2019-10-05T04:38:48.060473Z",
     "start_time": "2019-10-05T04:38:47.687431Z"
    }
   },
   "outputs": [],
   "source": [
    "import pathlib\n",
    "import pandas as pd\n",
    "\n",
    "import seaborn as sns\n",
    "import matplotlib.pyplot as plt"
   ]
  },
  {
   "cell_type": "code",
   "execution_count": 2,
   "metadata": {
    "ExecuteTime": {
     "end_time": "2019-10-05T04:38:48.525523Z",
     "start_time": "2019-10-05T04:38:48.522690Z"
    }
   },
   "outputs": [],
   "source": [
    "result_dir = pathlib.Path('CellBrowser').absolute()\n",
    "result_dir.mkdir(exist_ok=True)"
   ]
  },
  {
   "cell_type": "markdown",
   "metadata": {},
   "source": [
    "## Path"
   ]
  },
  {
   "cell_type": "code",
   "execution_count": 3,
   "metadata": {
    "ExecuteTime": {
     "end_time": "2019-10-05T04:38:49.297298Z",
     "start_time": "2019-10-05T04:38:49.293995Z"
    }
   },
   "outputs": [],
   "source": [
    "page_name = 'CEMBA_Test'\n",
    "\n",
    "cell_meta_path = './cell_tidy_data.final_annotation.with_region.msg'\n",
    "\n",
    "gene_mcds_path_pattern = './Adata/SelectedCell*gene_da_rate*mcds'\n",
    "gene_annotation_path = '/home/hanliu/ref/mouse/gencode/vm22/gencode.vM22.annotation.gene.flat.tsv.gz'\n",
    "\n",
    "goi_path = None\n",
    "MUST_INCLUDE_GENE_TYPE = ['protein_coding']\n",
    "\n",
    "mc_types = ['CHN']\n",
    "\n",
    "CELL_META_PATH = result_dir / f'{page_name}.cell_meta.tsv'\n",
    "\n",
    "default_cluster_col = 'CellClass'\n",
    "default_label_col = 'CellClass'"
   ]
  },
  {
   "cell_type": "markdown",
   "metadata": {},
   "source": [
    "## Gene Meta"
   ]
  },
  {
   "cell_type": "code",
   "execution_count": 4,
   "metadata": {
    "ExecuteTime": {
     "end_time": "2019-10-05T04:38:50.468577Z",
     "start_time": "2019-10-05T04:38:50.215095Z"
    }
   },
   "outputs": [],
   "source": [
    "gene_meta = pd.read_csv(gene_annotation_path, index_col='gene_id', sep='\\t')\n",
    "gene_meta.index.name = 'gene'\n",
    "gene_name_to_id = {v:k for k, v in gene_meta['gene_name'].iteritems()}\n",
    "gene_id_base_to_id = pd.Series(gene_meta.index, index = gene_meta.index.map(lambda i: i.split('.')[0])).to_dict()"
   ]
  },
  {
   "cell_type": "markdown",
   "metadata": {},
   "source": [
    "## Cell Meta"
   ]
  },
  {
   "cell_type": "code",
   "execution_count": 5,
   "metadata": {
    "ExecuteTime": {
     "end_time": "2019-10-05T04:38:51.454913Z",
     "start_time": "2019-10-05T04:38:51.221118Z"
    }
   },
   "outputs": [
    {
     "name": "stderr",
     "output_type": "stream",
     "text": [
      "/home/hanliu/miniconda3/envs/clustering/lib/python3.7/site-packages/IPython/core/interactiveshell.py:3326: FutureWarning: The read_msgpack is deprecated and will be removed in a future version.\n",
      "It is recommended to use pyarrow for on-the-wire transmission of pandas objects.\n",
      "  exec(code_obj, self.user_global_ns, self.user_ns)\n"
     ]
    },
    {
     "name": "stdout",
     "output_type": "stream",
     "text": [
      "(104340, 33)\n",
      "['AllcPath', 'BamFilteringRate', 'CCC_Rate', 'CG_Rate', 'CG_RateAdj', 'CH_Rate', 'CH_RateAdj', 'Col384', 'Col96', 'FACS_Date', 'FinalReads', 'InputReads', 'MappedReads', 'MappingRate', 'PassFilter', 'Plate', 'Pos96', 'Region', 'Row384', 'Row96', 'Slice', 'index_name', 'uid', 'leiden', 'pca_0', 'pca_1', 'umap_0', 'umap_1', 'tsne_0', 'tsne_1', 'CellClass', 'MajorRegion', 'SubRegion']\n"
     ]
    },
    {
     "data": {
      "text/html": [
       "<div>\n",
       "<style scoped>\n",
       "    .dataframe tbody tr th:only-of-type {\n",
       "        vertical-align: middle;\n",
       "    }\n",
       "\n",
       "    .dataframe tbody tr th {\n",
       "        vertical-align: top;\n",
       "    }\n",
       "\n",
       "    .dataframe thead th {\n",
       "        text-align: right;\n",
       "    }\n",
       "</style>\n",
       "<table border=\"1\" class=\"dataframe\">\n",
       "  <thead>\n",
       "    <tr style=\"text-align: right;\">\n",
       "      <th></th>\n",
       "      <th>AllcPath</th>\n",
       "      <th>BamFilteringRate</th>\n",
       "      <th>CCC_Rate</th>\n",
       "      <th>CG_Rate</th>\n",
       "      <th>CG_RateAdj</th>\n",
       "      <th>CH_Rate</th>\n",
       "      <th>CH_RateAdj</th>\n",
       "      <th>Col384</th>\n",
       "      <th>Col96</th>\n",
       "      <th>FACS_Date</th>\n",
       "      <th>...</th>\n",
       "      <th>leiden</th>\n",
       "      <th>pca_0</th>\n",
       "      <th>pca_1</th>\n",
       "      <th>umap_0</th>\n",
       "      <th>umap_1</th>\n",
       "      <th>tsne_0</th>\n",
       "      <th>tsne_1</th>\n",
       "      <th>CellClass</th>\n",
       "      <th>MajorRegion</th>\n",
       "      <th>SubRegion</th>\n",
       "    </tr>\n",
       "    <tr>\n",
       "      <th>index</th>\n",
       "      <th></th>\n",
       "      <th></th>\n",
       "      <th></th>\n",
       "      <th></th>\n",
       "      <th></th>\n",
       "      <th></th>\n",
       "      <th></th>\n",
       "      <th></th>\n",
       "      <th></th>\n",
       "      <th></th>\n",
       "      <th></th>\n",
       "      <th></th>\n",
       "      <th></th>\n",
       "      <th></th>\n",
       "      <th></th>\n",
       "      <th></th>\n",
       "      <th></th>\n",
       "      <th></th>\n",
       "      <th></th>\n",
       "      <th></th>\n",
       "      <th></th>\n",
       "    </tr>\n",
       "  </thead>\n",
       "  <tbody>\n",
       "    <tr>\n",
       "      <th>10E_M_0</th>\n",
       "      <td>/gale/raidix/rdx-4/mapping/10E/CEMBA190625-10E...</td>\n",
       "      <td>0.562347</td>\n",
       "      <td>0.008198</td>\n",
       "      <td>0.822633</td>\n",
       "      <td>0.821166</td>\n",
       "      <td>0.041640</td>\n",
       "      <td>0.033718</td>\n",
       "      <td>0</td>\n",
       "      <td>0</td>\n",
       "      <td>190625</td>\n",
       "      <td>...</td>\n",
       "      <td>13</td>\n",
       "      <td>-0.416058</td>\n",
       "      <td>-15.228307</td>\n",
       "      <td>8.002170</td>\n",
       "      <td>8.983358</td>\n",
       "      <td>4.595703</td>\n",
       "      <td>14.504827</td>\n",
       "      <td>Inh</td>\n",
       "      <td>HPF</td>\n",
       "      <td>CA</td>\n",
       "    </tr>\n",
       "    <tr>\n",
       "      <th>10E_M_1</th>\n",
       "      <td>/gale/raidix/rdx-4/mapping/10E/CEMBA190625-10E...</td>\n",
       "      <td>0.549577</td>\n",
       "      <td>0.006019</td>\n",
       "      <td>0.743035</td>\n",
       "      <td>0.741479</td>\n",
       "      <td>0.024127</td>\n",
       "      <td>0.018218</td>\n",
       "      <td>0</td>\n",
       "      <td>0</td>\n",
       "      <td>190625</td>\n",
       "      <td>...</td>\n",
       "      <td>15</td>\n",
       "      <td>-10.430525</td>\n",
       "      <td>-4.246385</td>\n",
       "      <td>-33.583858</td>\n",
       "      <td>-8.758917</td>\n",
       "      <td>19.721622</td>\n",
       "      <td>22.792822</td>\n",
       "      <td>Exc-HPF</td>\n",
       "      <td>HPF</td>\n",
       "      <td>CA</td>\n",
       "    </tr>\n",
       "    <tr>\n",
       "      <th>10E_M_10</th>\n",
       "      <td>/gale/raidix/rdx-4/mapping/10E/CEMBA190625-10E...</td>\n",
       "      <td>0.636744</td>\n",
       "      <td>0.006569</td>\n",
       "      <td>0.750172</td>\n",
       "      <td>0.748520</td>\n",
       "      <td>0.027665</td>\n",
       "      <td>0.021235</td>\n",
       "      <td>19</td>\n",
       "      <td>9</td>\n",
       "      <td>190625</td>\n",
       "      <td>...</td>\n",
       "      <td>15</td>\n",
       "      <td>-11.838995</td>\n",
       "      <td>-4.397302</td>\n",
       "      <td>-33.994816</td>\n",
       "      <td>-8.389750</td>\n",
       "      <td>21.309082</td>\n",
       "      <td>22.672712</td>\n",
       "      <td>Exc-HPF</td>\n",
       "      <td>HPF</td>\n",
       "      <td>CA</td>\n",
       "    </tr>\n",
       "    <tr>\n",
       "      <th>10E_M_101</th>\n",
       "      <td>/gale/raidix/rdx-4/mapping/10E/CEMBA190625-10E...</td>\n",
       "      <td>0.517847</td>\n",
       "      <td>0.006353</td>\n",
       "      <td>0.760898</td>\n",
       "      <td>0.759369</td>\n",
       "      <td>0.026547</td>\n",
       "      <td>0.020323</td>\n",
       "      <td>18</td>\n",
       "      <td>9</td>\n",
       "      <td>190625</td>\n",
       "      <td>...</td>\n",
       "      <td>15</td>\n",
       "      <td>-11.084838</td>\n",
       "      <td>-3.742214</td>\n",
       "      <td>-33.219925</td>\n",
       "      <td>-7.649719</td>\n",
       "      <td>22.575315</td>\n",
       "      <td>19.733137</td>\n",
       "      <td>Exc-HPF</td>\n",
       "      <td>HPF</td>\n",
       "      <td>CA</td>\n",
       "    </tr>\n",
       "    <tr>\n",
       "      <th>10E_M_102</th>\n",
       "      <td>/gale/raidix/rdx-4/mapping/10E/CEMBA190625-10E...</td>\n",
       "      <td>0.527227</td>\n",
       "      <td>0.005409</td>\n",
       "      <td>0.752980</td>\n",
       "      <td>0.751637</td>\n",
       "      <td>0.019497</td>\n",
       "      <td>0.014164</td>\n",
       "      <td>19</td>\n",
       "      <td>9</td>\n",
       "      <td>190625</td>\n",
       "      <td>...</td>\n",
       "      <td>10</td>\n",
       "      <td>-4.956611</td>\n",
       "      <td>-3.403636</td>\n",
       "      <td>-30.274584</td>\n",
       "      <td>-15.904350</td>\n",
       "      <td>22.628148</td>\n",
       "      <td>0.258059</td>\n",
       "      <td>Exc-HPF</td>\n",
       "      <td>HPF</td>\n",
       "      <td>CA</td>\n",
       "    </tr>\n",
       "  </tbody>\n",
       "</table>\n",
       "<p>5 rows × 33 columns</p>\n",
       "</div>"
      ],
      "text/plain": [
       "                                                    AllcPath  \\\n",
       "index                                                          \n",
       "10E_M_0    /gale/raidix/rdx-4/mapping/10E/CEMBA190625-10E...   \n",
       "10E_M_1    /gale/raidix/rdx-4/mapping/10E/CEMBA190625-10E...   \n",
       "10E_M_10   /gale/raidix/rdx-4/mapping/10E/CEMBA190625-10E...   \n",
       "10E_M_101  /gale/raidix/rdx-4/mapping/10E/CEMBA190625-10E...   \n",
       "10E_M_102  /gale/raidix/rdx-4/mapping/10E/CEMBA190625-10E...   \n",
       "\n",
       "           BamFilteringRate  CCC_Rate   CG_Rate  CG_RateAdj   CH_Rate  \\\n",
       "index                                                                   \n",
       "10E_M_0            0.562347  0.008198  0.822633    0.821166  0.041640   \n",
       "10E_M_1            0.549577  0.006019  0.743035    0.741479  0.024127   \n",
       "10E_M_10           0.636744  0.006569  0.750172    0.748520  0.027665   \n",
       "10E_M_101          0.517847  0.006353  0.760898    0.759369  0.026547   \n",
       "10E_M_102          0.527227  0.005409  0.752980    0.751637  0.019497   \n",
       "\n",
       "           CH_RateAdj  Col384  Col96  FACS_Date  ...  leiden      pca_0  \\\n",
       "index                                            ...                      \n",
       "10E_M_0      0.033718       0      0     190625  ...      13  -0.416058   \n",
       "10E_M_1      0.018218       0      0     190625  ...      15 -10.430525   \n",
       "10E_M_10     0.021235      19      9     190625  ...      15 -11.838995   \n",
       "10E_M_101    0.020323      18      9     190625  ...      15 -11.084838   \n",
       "10E_M_102    0.014164      19      9     190625  ...      10  -4.956611   \n",
       "\n",
       "               pca_1     umap_0     umap_1     tsne_0     tsne_1 CellClass  \\\n",
       "index                                                                        \n",
       "10E_M_0   -15.228307   8.002170   8.983358   4.595703  14.504827       Inh   \n",
       "10E_M_1    -4.246385 -33.583858  -8.758917  19.721622  22.792822   Exc-HPF   \n",
       "10E_M_10   -4.397302 -33.994816  -8.389750  21.309082  22.672712   Exc-HPF   \n",
       "10E_M_101  -3.742214 -33.219925  -7.649719  22.575315  19.733137   Exc-HPF   \n",
       "10E_M_102  -3.403636 -30.274584 -15.904350  22.628148   0.258059   Exc-HPF   \n",
       "\n",
       "           MajorRegion  SubRegion  \n",
       "index                              \n",
       "10E_M_0            HPF         CA  \n",
       "10E_M_1            HPF         CA  \n",
       "10E_M_10           HPF         CA  \n",
       "10E_M_101          HPF         CA  \n",
       "10E_M_102          HPF         CA  \n",
       "\n",
       "[5 rows x 33 columns]"
      ]
     },
     "execution_count": 5,
     "metadata": {},
     "output_type": "execute_result"
    }
   ],
   "source": [
    "cell_meta = pd.read_msgpack(cell_meta_path)\n",
    "print(cell_meta.shape)\n",
    "print(cell_meta.columns.tolist())\n",
    "cell_meta.head()"
   ]
  },
  {
   "cell_type": "markdown",
   "metadata": {},
   "source": [
    "### Determine meta cols"
   ]
  },
  {
   "cell_type": "code",
   "execution_count": 6,
   "metadata": {
    "ExecuteTime": {
     "end_time": "2019-10-05T04:38:52.545175Z",
     "start_time": "2019-10-05T04:38:52.542448Z"
    }
   },
   "outputs": [],
   "source": [
    "exclude_cols = ['AllcPath']\n",
    "\n",
    "categorical_cols = ['Row384', 'Col384', 'Row96', 'Col96', 'Pos96', \n",
    "                    'FACS_Date', 'PassFilter', 'Plate', 'Region', \n",
    "                    'Slice', 'index_name', 'uid', 'leiden', \n",
    "                    'CellClass', 'MajorRegion', 'SubRegion']"
   ]
  },
  {
   "cell_type": "markdown",
   "metadata": {},
   "source": [
    "### Select meta cols"
   ]
  },
  {
   "cell_type": "code",
   "execution_count": 7,
   "metadata": {
    "ExecuteTime": {
     "end_time": "2019-10-05T04:38:53.380168Z",
     "start_time": "2019-10-05T04:38:53.332005Z"
    }
   },
   "outputs": [],
   "source": [
    "# save the non-coords part\n",
    "cell_meta_no_coords = cell_meta.loc[:, (~(cell_meta.columns.str.endswith('_0') | \n",
    "                                         cell_meta.columns.str.endswith('_1'))) & \n",
    "                                       (~cell_meta.columns.isin(exclude_cols))].copy()"
   ]
  },
  {
   "cell_type": "code",
   "execution_count": 8,
   "metadata": {
    "ExecuteTime": {
     "end_time": "2019-10-05T04:38:55.598618Z",
     "start_time": "2019-10-05T04:38:53.701223Z"
    }
   },
   "outputs": [],
   "source": [
    "cell_meta_no_coords.index.name = 'Cell'\n",
    "\n",
    "CELL_META_PATH = result_dir / f'{page_name}.cell_meta.tsv'\n",
    "cell_meta_no_coords.to_csv(CELL_META_PATH, sep='\\t')"
   ]
  },
  {
   "cell_type": "markdown",
   "metadata": {},
   "source": [
    "## Coords"
   ]
  },
  {
   "cell_type": "code",
   "execution_count": 9,
   "metadata": {
    "ExecuteTime": {
     "end_time": "2019-10-05T04:38:55.606057Z",
     "start_time": "2019-10-05T04:38:55.600770Z"
    }
   },
   "outputs": [],
   "source": [
    "# save the non-coords part\n",
    "cell_meta_coords = cell_meta.loc[:, (cell_meta.columns.str.endswith('_0') | \n",
    "                                     cell_meta.columns.str.endswith('_1'))].copy()"
   ]
  },
  {
   "cell_type": "code",
   "execution_count": 10,
   "metadata": {
    "ExecuteTime": {
     "end_time": "2019-10-05T04:38:56.428351Z",
     "start_time": "2019-10-05T04:38:55.607597Z"
    }
   },
   "outputs": [
    {
     "name": "stdout",
     "output_type": "stream",
     "text": [
      "PCA included in browser\n",
      "TSNE included in browser\n",
      "UMAP included in browser\n"
     ]
    }
   ],
   "source": [
    "COORD_PATH_LIST = []\n",
    "\n",
    "for coord_base, coord_df in cell_meta_coords.groupby(cell_meta_coords.columns.str[:-2], axis=1):\n",
    "    print(coord_base.upper(), 'included in browser')\n",
    "    # cellBrowser only support 2D\n",
    "    coord_df = coord_df[[f'{coord_base}_0', f'{coord_base}_1']].copy()\n",
    "    coord_df.index.name = 'cellId'\n",
    "    coord_df.columns = ['x', 'y']\n",
    "    \n",
    "    coord_path = result_dir / f'{page_name}.{coord_base}.tsv'\n",
    "    coord_df.to_csv(coord_path, sep='\\t')\n",
    "    COORD_PATH_LIST.append({'file': str(coord_path), \n",
    "                            'shortLabel': coord_base.upper()})\n",
    "COORD_PATH_LIST = COORD_PATH_LIST[::-1]"
   ]
  },
  {
   "cell_type": "markdown",
   "metadata": {},
   "source": [
    "## Gene Matrix"
   ]
  },
  {
   "cell_type": "code",
   "execution_count": 11,
   "metadata": {
    "ExecuteTime": {
     "end_time": "2019-10-05T04:39:03.245140Z",
     "start_time": "2019-10-05T04:39:01.020441Z"
    }
   },
   "outputs": [
    {
     "name": "stderr",
     "output_type": "stream",
     "text": [
      "/home/hanliu/miniconda3/envs/clustering/lib/python3.7/site-packages/xarray/core/merge.py:18: FutureWarning: The Panel class is removed from pandas. Accessing it from the top-level namespace will also be removed in the next version\n",
      "  PANDAS_TYPES = (pd.Series, pd.DataFrame, pd.Panel)\n",
      "/home/hanliu/miniconda3/envs/clustering/lib/python3.7/site-packages/xarray/core/dataarray.py:1829: FutureWarning: The Panel class is removed from pandas. Accessing it from the top-level namespace will also be removed in the next version\n",
      "  'DataArray', pd.Series, pd.DataFrame, pd.Panel]:\n"
     ]
    },
    {
     "name": "stdout",
     "output_type": "stream",
     "text": [
      "[1, 1, 1, 1, 1, 1, 1, 1, 1, 1, 1]\n"
     ]
    }
   ],
   "source": [
    "from ALLCools.mcds.MCDS import MCDS\n",
    "\n",
    "gene_mcds = MCDS.open(gene_mcds_path_pattern,\n",
    "                      combine='nested',\n",
    "                      concat_dim='cell').sel(mc_type=mc_types, cell=cell_meta.index)"
   ]
  },
  {
   "cell_type": "code",
   "execution_count": 12,
   "metadata": {
    "ExecuteTime": {
     "end_time": "2019-10-05T04:39:03.475350Z",
     "start_time": "2019-10-05T04:39:03.466169Z"
    }
   },
   "outputs": [
    {
     "data": {
      "text/plain": [
       "<xarray.MCDS>\n",
       "Dimensions:      (cell: 104340, gene: 55487, mc_type: 1)\n",
       "Coordinates:\n",
       "  * mc_type      (mc_type) object 'CHN'\n",
       "  * gene         (gene) object 'ENSMUSG00000102693.1' ... 'ENSMUSG00000064372.1'\n",
       "    strand_type  <U4 'both'\n",
       "    gene_chrom   (gene) object dask.array<shape=(55487,), chunksize=(55487,)>\n",
       "    gene_start   (gene) int64 dask.array<shape=(55487,), chunksize=(55487,)>\n",
       "    gene_end     (gene) int64 dask.array<shape=(55487,), chunksize=(55487,)>\n",
       "  * cell         (cell) object '10E_M_0' '10E_M_1' ... '9J_M_998' '9J_M_999'\n",
       "Data variables:\n",
       "    gene_da      (cell, gene, mc_type) float64 dask.array<shape=(104340, 55487, 1), chunksize=(458, 55487, 1)>"
      ]
     },
     "execution_count": 12,
     "metadata": {},
     "output_type": "execute_result"
    }
   ],
   "source": [
    "gene_mcds"
   ]
  },
  {
   "cell_type": "markdown",
   "metadata": {},
   "source": [
    "### Determine genes to include\n",
    "\n",
    "#### Curated GOI"
   ]
  },
  {
   "cell_type": "code",
   "execution_count": 13,
   "metadata": {
    "ExecuteTime": {
     "end_time": "2019-10-05T04:39:07.544763Z",
     "start_time": "2019-10-05T04:39:07.541731Z"
    }
   },
   "outputs": [],
   "source": [
    "if goi_path is not None:\n",
    "    goi = pd.read_csv(goi_path, \n",
    "                      index_col=0, header=None).index\n",
    "else:\n",
    "    goi = pd.Index([])"
   ]
  },
  {
   "cell_type": "markdown",
   "metadata": {},
   "source": [
    "#### Cell Type Markers"
   ]
  },
  {
   "cell_type": "code",
   "execution_count": 14,
   "metadata": {
    "ExecuteTime": {
     "end_time": "2019-10-05T04:39:09.317120Z",
     "start_time": "2019-10-05T04:39:09.313676Z"
    },
    "scrolled": false
   },
   "outputs": [],
   "source": [
    "markers = pd.Index([])\n",
    "for mc_type in mc_types:\n",
    "    try:\n",
    "        _markers = pd.read_csv(f'./Marker/{mc_type}_selected_feature.txt', \n",
    "                               index_col=0, header=None).index\n",
    "        markers.append(_markers)\n",
    "    except FileNotFoundError:\n",
    "        pass"
   ]
  },
  {
   "cell_type": "markdown",
   "metadata": {},
   "source": [
    "#### Must include gene types"
   ]
  },
  {
   "cell_type": "code",
   "execution_count": 15,
   "metadata": {
    "ExecuteTime": {
     "end_time": "2019-10-05T04:39:10.677223Z",
     "start_time": "2019-10-05T04:39:10.671753Z"
    }
   },
   "outputs": [],
   "source": [
    "judge = gene_meta['gene_type'].isin(MUST_INCLUDE_GENE_TYPE)\n",
    "must_include_genes = gene_meta.index[judge]"
   ]
  },
  {
   "cell_type": "markdown",
   "metadata": {},
   "source": [
    "#### Total genes"
   ]
  },
  {
   "cell_type": "code",
   "execution_count": 16,
   "metadata": {
    "ExecuteTime": {
     "end_time": "2019-10-05T04:39:11.972151Z",
     "start_time": "2019-10-05T04:39:11.969376Z"
    }
   },
   "outputs": [
    {
     "name": "stdout",
     "output_type": "stream",
     "text": [
      "21823 genes to include in browser\n"
     ]
    }
   ],
   "source": [
    "total_genes = must_include_genes | goi | markers\n",
    "print(total_genes.size, 'genes to include in browser')"
   ]
  },
  {
   "cell_type": "markdown",
   "metadata": {},
   "source": [
    "### Save gene matrix"
   ]
  },
  {
   "cell_type": "code",
   "execution_count": null,
   "metadata": {
    "ExecuteTime": {
     "start_time": "2019-10-05T04:39:13.173Z"
    }
   },
   "outputs": [
    {
     "name": "stderr",
     "output_type": "stream",
     "text": [
      "/home/hanliu/miniconda3/envs/clustering/lib/python3.7/site-packages/xarray/core/dataarray.py:1849: FutureWarning: The Panel class is removed from pandas. Accessing it from the top-level namespace will also be removed in the next version\n",
      "  3: pd.Panel}\n"
     ]
    }
   ],
   "source": [
    "GENE_PATH_DICT = {}\n",
    "\n",
    "for mc_type in mc_types:\n",
    "    _this_da = gene_mcds.sel(gene=total_genes).squeeze()['gene_da']\n",
    "    # gene_df should be gene by cell, row is gene\n",
    "    gene_df = _this_da.to_pandas().T\n",
    "    gene_df.columns.name = ''\n",
    "    gene_df.index = gene_df.index.map(lambda i: f'{i}|{gene_meta.loc[i, \"gene_name\"]}')\n",
    "    gene_df_path = result_dir / f'{page_name}.{mc_type}.gene.tsv.gz'\n",
    "    gene_df.to_csv(gene_df_path, sep='\\t', float_format='%.3f')\n",
    "    GENE_PATH_DICT[mc_type] = gene_df_path\n",
    "                                      \n",
    "    del gene_df\n",
    "del gene_mcds"
   ]
  },
  {
   "cell_type": "markdown",
   "metadata": {},
   "source": [
    "## Conf file"
   ]
  },
  {
   "cell_type": "code",
   "execution_count": null,
   "metadata": {
    "ExecuteTime": {
     "start_time": "2019-10-05T04:39:17.954Z"
    }
   },
   "outputs": [],
   "source": [
    "for mc_type in mc_types:\n",
    "    default_config_dict = {\n",
    "        'page_name': page_name,\n",
    "        'page_priority': 10,\n",
    "        'page_tags': [],\n",
    "        'page_short_label': page_name,\n",
    "        'gene_matrix_path': pathlib.Path(GENE_PATH_DICT[mc_type]).absolute(),\n",
    "        'cell_meta_path': CELL_META_PATH,\n",
    "        'categorical_cols': categorical_cols,\n",
    "        'coord_file_list': COORD_PATH_LIST,\n",
    "        'default_cluster_field': default_cluster_col,\n",
    "        'default_label_field': default_label_col,\n",
    "        'gene_value_unit': f'Norm {mc_type}%',\n",
    "    }"
   ]
  },
  {
   "cell_type": "code",
   "execution_count": null,
   "metadata": {
    "ExecuteTime": {
     "start_time": "2019-10-05T04:39:18.227Z"
    }
   },
   "outputs": [],
   "source": [
    "with open('./CellBrowser/cellbrowser_template.conf') as f, open(result_dir / 'cellbrowser.conf', 'w') as out_f:\n",
    "    config_str_template = f.read()\n",
    "    config_str = config_str_template.format(**default_config_dict)\n",
    "    out_f.write(config_str)"
   ]
  },
  {
   "cell_type": "code",
   "execution_count": null,
   "metadata": {
    "ExecuteTime": {
     "start_time": "2019-10-05T04:39:18.458Z"
    }
   },
   "outputs": [],
   "source": [
    "print(config_str)"
   ]
  },
  {
   "cell_type": "markdown",
   "metadata": {},
   "source": [
    "## Color File"
   ]
  },
  {
   "cell_type": "code",
   "execution_count": null,
   "metadata": {},
   "outputs": [],
   "source": []
  },
  {
   "cell_type": "code",
   "execution_count": null,
   "metadata": {},
   "outputs": [],
   "source": []
  },
  {
   "cell_type": "code",
   "execution_count": null,
   "metadata": {},
   "outputs": [],
   "source": []
  },
  {
   "cell_type": "code",
   "execution_count": null,
   "metadata": {},
   "outputs": [],
   "source": []
  },
  {
   "cell_type": "code",
   "execution_count": null,
   "metadata": {},
   "outputs": [],
   "source": []
  }
 ],
 "metadata": {
  "hide_input": false,
  "kernelspec": {
   "display_name": "Python 3",
   "language": "python",
   "name": "python3"
  },
  "language_info": {
   "codemirror_mode": {
    "name": "ipython",
    "version": 3
   },
   "file_extension": ".py",
   "mimetype": "text/x-python",
   "name": "python",
   "nbconvert_exporter": "python",
   "pygments_lexer": "ipython3",
   "version": "3.7.3"
  },
  "toc": {
   "base_numbering": 1,
   "nav_menu": {},
   "number_sections": true,
   "sideBar": true,
   "skip_h1_title": true,
   "title_cell": "Table of Contents",
   "title_sidebar": "Contents",
   "toc_cell": true,
   "toc_position": {},
   "toc_section_display": true,
   "toc_window_display": true
  }
 },
 "nbformat": 4,
 "nbformat_minor": 2
}
