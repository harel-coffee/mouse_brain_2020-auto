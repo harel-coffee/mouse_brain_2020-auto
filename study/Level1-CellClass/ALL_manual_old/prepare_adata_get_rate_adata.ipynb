{
 "cells": [
  {
   "cell_type": "markdown",
   "metadata": {
    "toc": true
   },
   "source": [
    "<h1>Table of Contents<span class=\"tocSkip\"></span></h1>\n",
    "<div class=\"toc\"><ul class=\"toc-item\"><li><span><a href=\"#Parameters\" data-toc-modified-id=\"Parameters-1\"><span class=\"toc-item-num\">1&nbsp;&nbsp;</span>Parameters</a></span></li><li><span><a href=\"#Load-data\" data-toc-modified-id=\"Load-data-2\"><span class=\"toc-item-num\">2&nbsp;&nbsp;</span>Load data</a></span><ul class=\"toc-item\"><li><span><a href=\"#Cell-meta\" data-toc-modified-id=\"Cell-meta-2.1\"><span class=\"toc-item-num\">2.1&nbsp;&nbsp;</span>Cell meta</a></span></li><li><span><a href=\"#Gene-meta\" data-toc-modified-id=\"Gene-meta-2.2\"><span class=\"toc-item-num\">2.2&nbsp;&nbsp;</span>Gene meta</a></span></li><li><span><a href=\"#MCDS\" data-toc-modified-id=\"MCDS-2.3\"><span class=\"toc-item-num\">2.3&nbsp;&nbsp;</span>MCDS</a></span><ul class=\"toc-item\"><li><span><a href=\"#Prefiltered-features\" data-toc-modified-id=\"Prefiltered-features-2.3.1\"><span class=\"toc-item-num\">2.3.1&nbsp;&nbsp;</span>Prefiltered features</a></span></li></ul></li></ul></li><li><span><a href=\"#Add-mC-rate\" data-toc-modified-id=\"Add-mC-rate-3\"><span class=\"toc-item-num\">3&nbsp;&nbsp;</span>Add mC rate</a></span></li><li><span><a href=\"#Get-Anndata\" data-toc-modified-id=\"Get-Anndata-4\"><span class=\"toc-item-num\">4&nbsp;&nbsp;</span>Get Anndata</a></span><ul class=\"toc-item\"><li><span><a href=\"#CH\" data-toc-modified-id=\"CH-4.1\"><span class=\"toc-item-num\">4.1&nbsp;&nbsp;</span>CH</a></span></li><li><span><a href=\"#CG\" data-toc-modified-id=\"CG-4.2\"><span class=\"toc-item-num\">4.2&nbsp;&nbsp;</span>CG</a></span></li></ul></li><li><span><a href=\"#Prepare-Gene\" data-toc-modified-id=\"Prepare-Gene-5\"><span class=\"toc-item-num\">5&nbsp;&nbsp;</span>Prepare Gene</a></span></li></ul></div>"
   ]
  },
  {
   "cell_type": "code",
   "execution_count": 1,
   "metadata": {
    "ExecuteTime": {
     "end_time": "2019-08-11T19:09:33.654038Z",
     "start_time": "2019-08-11T19:09:32.797883Z"
    }
   },
   "outputs": [],
   "source": [
    "from dask.distributed import Client\n",
    "client = Client(dashboard_address=':46064')"
   ]
  },
  {
   "cell_type": "code",
   "execution_count": 2,
   "metadata": {
    "ExecuteTime": {
     "end_time": "2019-08-11T19:09:35.500935Z",
     "start_time": "2019-08-11T19:09:33.656873Z"
    }
   },
   "outputs": [],
   "source": [
    "import configparser\n",
    "import pathlib\n",
    "\n",
    "import matplotlib.pyplot as plt\n",
    "import numpy as np\n",
    "import pandas as pd\n",
    "import scanpy.api as sc\n",
    "import seaborn as sns\n",
    "import xarray as xr\n",
    "import warnings\n",
    "\n",
    "from cemba_data.local.mc.prepare_study import prepare_study\n",
    "from cemba_data.plot import *\n",
    "from cemba_data.plot.preprocessing import *\n",
    "from cemba_data.tools.hdf5.anndata import highly_variable_methylation_feature\n",
    "from ALLCools.mcds.MCDS import MCDS\n",
    "from cemba_data.tools.hdf5.anndata import rank_features_groups"
   ]
  },
  {
   "cell_type": "markdown",
   "metadata": {},
   "source": [
    "# Per Region Coords and Cluster"
   ]
  },
  {
   "cell_type": "code",
   "execution_count": 3,
   "metadata": {
    "ExecuteTime": {
     "end_time": "2019-08-11T19:09:35.505702Z",
     "start_time": "2019-08-11T19:09:35.503010Z"
    }
   },
   "outputs": [],
   "source": [
    "result_dir = pathlib.Path()\n",
    "result_dir.mkdir(exist_ok=True)\n",
    "fig_dir = result_dir / 'fig'\n",
    "fig_dir.mkdir(exist_ok=True)"
   ]
  },
  {
   "cell_type": "markdown",
   "metadata": {},
   "source": [
    "## Parameters"
   ]
  },
  {
   "cell_type": "code",
   "execution_count": 5,
   "metadata": {
    "ExecuteTime": {
     "end_time": "2019-08-11T19:09:39.581230Z",
     "start_time": "2019-08-11T19:09:39.577805Z"
    },
    "tags": [
     "parameters"
    ]
   },
   "outputs": [],
   "source": [
    "regions = [\n",
    "    '1A', '1B', '1C', '2A', '2B', '2C', '2D', '2E', '3A', '3B', '3C',\n",
    "    '3D', '3E', '3F', '4A', '4B', '4C', '4D', '4E', '4F', '4G', '4H',\n",
    "    '5A', '5B', '5C', '5D', '5E', '5F', '5G', '5H', '5J', '6A', '6B',\n",
    "    '6C', '6D', '7B', '8B', '9H', '9J', '11E', '11F']\n",
    "max_cell = None"
   ]
  },
  {
   "cell_type": "code",
   "execution_count": 6,
   "metadata": {
    "ExecuteTime": {
     "end_time": "2019-08-11T19:09:40.192125Z",
     "start_time": "2019-08-11T19:09:40.188385Z"
    },
    "tags": [
     "parameters"
    ]
   },
   "outputs": [],
   "source": [
    "project_dir = '/home/hanliu/project/mouse_rostral_brain/'\n",
    "\n",
    "cell_meta_path = '/home/hanliu/project/mouse_rostral_brain/study/regional_qc/cell_meta.after_qc.msg'\n",
    "gene_annotation_path = '/home/hanliu/ref/mouse/gencode/vm22/gencode.vM22.annotation.gene.flat.tsv.gz'\n",
    "\n",
    "clustering_feature = 'chrom100k'  # 100kb chromosome bins\n",
    "\n",
    "# preprocess parameters\n",
    "min_feature_cov, max_feature_cov = 500, 3000\n",
    "\n",
    "ch_hvf_top = 3000\n",
    "min_ch_hvf_mean = 0.5\n",
    "max_ch_hvf_mean = 2.5\n",
    "\n",
    "cg_hvf_top = 3000\n",
    "min_cg_hvf_mean = 0.5\n",
    "max_cg_hvf_mean = 1.2\n",
    "\n",
    "ch_pc_components = 25\n",
    "cg_pc_components = 14\n",
    "\n",
    "n_neighbors = 25\n",
    "resolution = 0.8\n",
    "\n",
    "mch_gene_score_cutoff = 5\n",
    "mch_abs_log_fold_change = 1\n",
    "n_marker_genes = 500"
   ]
  },
  {
   "cell_type": "code",
   "execution_count": 7,
   "metadata": {
    "ExecuteTime": {
     "end_time": "2019-08-11T19:09:40.726907Z",
     "start_time": "2019-08-11T19:09:40.724660Z"
    }
   },
   "outputs": [],
   "source": [
    "project_dir = pathlib.Path(project_dir)"
   ]
  },
  {
   "cell_type": "markdown",
   "metadata": {},
   "source": [
    "## Load data\n",
    "### Cell meta"
   ]
  },
  {
   "cell_type": "code",
   "execution_count": 8,
   "metadata": {
    "ExecuteTime": {
     "end_time": "2019-08-11T19:09:42.072917Z",
     "start_time": "2019-08-11T19:09:41.672569Z"
    }
   },
   "outputs": [],
   "source": [
    "cell_meta = pd.read_msgpack(cell_meta_path)\n",
    "cell_meta = cell_meta[cell_meta['PassFilter'] & cell_meta['Region'].isin(regions)]\n",
    "\n",
    "if (max_cell is not None) and (max_cell <= cell_meta.shape[0]):\n",
    "    cell_meta = cell_meta.sample(max_cell)\n",
    "cell_meta.to_msgpack(result_dir / 'used_cells.msg')"
   ]
  },
  {
   "cell_type": "markdown",
   "metadata": {},
   "source": [
    "### Gene meta"
   ]
  },
  {
   "cell_type": "code",
   "execution_count": 9,
   "metadata": {
    "ExecuteTime": {
     "end_time": "2019-08-11T19:09:42.897119Z",
     "start_time": "2019-08-11T19:09:42.611359Z"
    }
   },
   "outputs": [],
   "source": [
    "gene_meta = pd.read_csv(gene_annotation_path, index_col='gene_id', sep='\\t')\n",
    "gene_meta.index.name = 'gene'\n",
    "gene_name_to_id = {v:k for k, v in gene_meta['gene_name'].iteritems()}\n",
    "gene_id_base_to_id = pd.Series(gene_meta.index, index = gene_meta.index.map(lambda i: i.split('.')[0])).to_dict()"
   ]
  },
  {
   "cell_type": "markdown",
   "metadata": {},
   "source": [
    "### MCDS"
   ]
  },
  {
   "cell_type": "code",
   "execution_count": 10,
   "metadata": {
    "ExecuteTime": {
     "end_time": "2019-08-11T19:09:43.662328Z",
     "start_time": "2019-08-11T19:09:43.658556Z"
    }
   },
   "outputs": [],
   "source": [
    "# mcds_path\n",
    "dataset_dir = project_dir / 'dataset'\n",
    "mcds_path_list = [i for i in dataset_dir.glob('*mcds') if i.name.split('-')[0] in regions]"
   ]
  },
  {
   "cell_type": "markdown",
   "metadata": {},
   "source": [
    "#### Prefiltered features"
   ]
  },
  {
   "cell_type": "code",
   "execution_count": 16,
   "metadata": {
    "ExecuteTime": {
     "end_time": "2019-08-11T19:11:01.693536Z",
     "start_time": "2019-08-11T19:11:01.687023Z"
    }
   },
   "outputs": [
    {
     "data": {
      "text/plain": [
       "Int64Index([   32,    33,    34,    35,    36,    45,    46,    47,    48,\n",
       "               55,\n",
       "            ...\n",
       "            26315, 26316, 26317, 26318, 26319, 26320, 26321, 26322, 26332,\n",
       "            26335],\n",
       "           dtype='int64', name='chrom100k', length=5553)"
      ]
     },
     "execution_count": 16,
     "metadata": {},
     "output_type": "execute_result"
    }
   ],
   "source": [
    "total_hvf = pd.read_csv('total_hvf.txt', header=None, index_col=0, names=['chrom100k']).index\n",
    "total_hvf"
   ]
  },
  {
   "cell_type": "code",
   "execution_count": 17,
   "metadata": {
    "ExecuteTime": {
     "end_time": "2019-08-11T19:11:56.974126Z",
     "start_time": "2019-08-11T19:11:26.654641Z"
    }
   },
   "outputs": [],
   "source": [
    "with warnings.catch_warnings():\n",
    "    warnings.simplefilter('ignore')\n",
    "    mcds = MCDS.open(mcds_path_list, \n",
    "                     use_cells=cell_meta[cell_meta['PassFilter']].index,\n",
    "                     sel_dict=dict(chrom100k=total_hvf),\n",
    "                     chunks={'cell': 1000})"
   ]
  },
  {
   "cell_type": "code",
   "execution_count": 18,
   "metadata": {
    "ExecuteTime": {
     "end_time": "2019-08-11T19:11:56.990887Z",
     "start_time": "2019-08-11T19:11:56.976297Z"
    }
   },
   "outputs": [
    {
     "data": {
      "text/plain": [
       "<xarray.MCDS>\n",
       "Dimensions:              (cell: 100449, chrom100k: 5553, count_type: 2, gene: 55487, mc_type: 2)\n",
       "Coordinates:\n",
       "  * mc_type              (mc_type) object 'CGN' 'CHN'\n",
       "  * gene                 (gene) object 'ENSMUSG00000102693.1' ... 'ENSMUSG00000064372.1'\n",
       "  * count_type           (count_type) object 'mc' 'cov'\n",
       "    strand_type          <U4 'both'\n",
       "    gene_chrom           (gene) object dask.array<shape=(55487,), chunksize=(55487,)>\n",
       "    gene_start           (gene) int64 dask.array<shape=(55487,), chunksize=(55487,)>\n",
       "    gene_end             (gene) int64 dask.array<shape=(55487,), chunksize=(55487,)>\n",
       "  * cell                 (cell) object '1A_M_0' '1A_M_1' ... '11F_M_999'\n",
       "  * chrom100k            (chrom100k) int64 32 33 34 35 ... 26322 26332 26335\n",
       "    chrom100k_chrom      (chrom100k) object dask.array<shape=(5553,), chunksize=(5553,)>\n",
       "    chrom100k_bin_start  (chrom100k) int64 dask.array<shape=(5553,), chunksize=(5553,)>\n",
       "    chrom100k_bin_end    (chrom100k) int64 dask.array<shape=(5553,), chunksize=(5553,)>\n",
       "Data variables:\n",
       "    gene_da              (cell, gene, mc_type, count_type) uint16 dask.array<shape=(100449, 55487, 2, 2), chunksize=(1000, 55487, 2, 2)>\n",
       "    chrom100k_da         (cell, chrom100k, mc_type, count_type) uint16 dask.array<shape=(100449, 5553, 2, 2), chunksize=(1000, 5553, 2, 2)>"
      ]
     },
     "execution_count": 18,
     "metadata": {},
     "output_type": "execute_result"
    }
   ],
   "source": [
    "mcds"
   ]
  },
  {
   "cell_type": "markdown",
   "metadata": {},
   "source": [
    "## Add mC rate"
   ]
  },
  {
   "cell_type": "code",
   "execution_count": 19,
   "metadata": {
    "ExecuteTime": {
     "end_time": "2019-08-11T19:13:07.200932Z",
     "start_time": "2019-08-11T19:13:07.081330Z"
    }
   },
   "outputs": [],
   "source": [
    "mcds.add_mc_rate(dim=clustering_feature, da=f'{clustering_feature}_da')"
   ]
  },
  {
   "cell_type": "markdown",
   "metadata": {},
   "source": [
    "## Get Anndata\n",
    "\n",
    "### CH"
   ]
  },
  {
   "cell_type": "code",
   "execution_count": 21,
   "metadata": {
    "ExecuteTime": {
     "end_time": "2019-08-11T19:19:01.605039Z",
     "start_time": "2019-08-11T19:19:01.597427Z"
    }
   },
   "outputs": [],
   "source": [
    "ch_hvf = pd.read_csv('ch_hvf.txt', header=None, index_col=0, names=['chrom100k']).index"
   ]
  },
  {
   "cell_type": "code",
   "execution_count": 22,
   "metadata": {
    "ExecuteTime": {
     "end_time": "2019-08-11T19:20:19.950687Z",
     "start_time": "2019-08-11T19:19:50.784467Z"
    }
   },
   "outputs": [
    {
     "name": "stderr",
     "output_type": "stream",
     "text": [
      "Transforming to str index.\n"
     ]
    }
   ],
   "source": [
    "ch_adata = mcds.sel(chrom100k=ch_hvf).to_ann(f'{clustering_feature}_da_rate', \n",
    "                    var_dim=clustering_feature, \n",
    "                    mc_type='CHN')"
   ]
  },
  {
   "cell_type": "code",
   "execution_count": 25,
   "metadata": {
    "ExecuteTime": {
     "end_time": "2019-08-11T19:20:35.899364Z",
     "start_time": "2019-08-11T19:20:33.774946Z"
    }
   },
   "outputs": [],
   "source": [
    "ch_adata.write_h5ad(result_dir / 'mch_adata.norm_per_cell.hvf.h5ad')"
   ]
  },
  {
   "cell_type": "code",
   "execution_count": 30,
   "metadata": {
    "ExecuteTime": {
     "end_time": "2019-08-11T19:21:52.556723Z",
     "start_time": "2019-08-11T19:21:52.553630Z"
    }
   },
   "outputs": [
    {
     "data": {
      "text/plain": [
       "AnnData object with n_obs × n_vars = 100449 × 3000 "
      ]
     },
     "execution_count": 30,
     "metadata": {},
     "output_type": "execute_result"
    }
   ],
   "source": [
    "ch_adata"
   ]
  },
  {
   "cell_type": "markdown",
   "metadata": {},
   "source": [
    "### CG"
   ]
  },
  {
   "cell_type": "code",
   "execution_count": 26,
   "metadata": {
    "ExecuteTime": {
     "end_time": "2019-08-11T19:20:41.121810Z",
     "start_time": "2019-08-11T19:20:41.114844Z"
    }
   },
   "outputs": [],
   "source": [
    "cg_hvf = pd.read_csv('cg_hvf.txt', header=None, index_col=0, names=['chrom100k']).index"
   ]
  },
  {
   "cell_type": "code",
   "execution_count": 27,
   "metadata": {
    "ExecuteTime": {
     "end_time": "2019-08-11T19:21:21.377091Z",
     "start_time": "2019-08-11T19:20:54.173748Z"
    }
   },
   "outputs": [
    {
     "name": "stderr",
     "output_type": "stream",
     "text": [
      "Transforming to str index.\n"
     ]
    }
   ],
   "source": [
    "cg_adata = mcds.sel(chrom100k=cg_hvf).to_ann(f'{clustering_feature}_da_rate', \n",
    "                    var_dim=clustering_feature, \n",
    "                    mc_type='CGN')"
   ]
  },
  {
   "cell_type": "code",
   "execution_count": 28,
   "metadata": {
    "ExecuteTime": {
     "end_time": "2019-08-11T19:21:23.428385Z",
     "start_time": "2019-08-11T19:21:21.379713Z"
    }
   },
   "outputs": [],
   "source": [
    "cg_adata.write_h5ad(result_dir / 'mcg_adata.norm_per_cell.hvf.h5ad')"
   ]
  },
  {
   "cell_type": "code",
   "execution_count": 29,
   "metadata": {
    "ExecuteTime": {
     "end_time": "2019-08-11T19:21:47.594415Z",
     "start_time": "2019-08-11T19:21:47.591004Z"
    }
   },
   "outputs": [
    {
     "data": {
      "text/plain": [
       "AnnData object with n_obs × n_vars = 100449 × 2999 "
      ]
     },
     "execution_count": 29,
     "metadata": {},
     "output_type": "execute_result"
    }
   ],
   "source": [
    "cg_adata"
   ]
  },
  {
   "cell_type": "markdown",
   "metadata": {},
   "source": [
    "## Prepare Gene"
   ]
  },
  {
   "cell_type": "code",
   "execution_count": 31,
   "metadata": {
    "ExecuteTime": {
     "end_time": "2019-08-11T19:35:09.448947Z",
     "start_time": "2019-08-11T19:22:44.848521Z"
    }
   },
   "outputs": [
    {
     "name": "stderr",
     "output_type": "stream",
     "text": [
      "/home/hanliu/miniconda3/envs/clustering/lib/python3.7/site-packages/xarray/conventions.py:174: SerializationWarning: variable gene_chrom has data in the form of a dask array with dtype=object, which means it is being loaded into memory to determine a data type that can be safely stored on disk. To avoid this, coerce this variable to a fixed-size dtype with astype() before saving it.\n",
      "  SerializationWarning)\n",
      "/home/hanliu/miniconda3/envs/clustering/lib/python3.7/site-packages/xarray/conventions.py:174: SerializationWarning: variable gene_chrom has data in the form of a dask array with dtype=object, which means it is being loaded into memory to determine a data type that can be safely stored on disk. To avoid this, coerce this variable to a fixed-size dtype with astype() before saving it.\n",
      "  SerializationWarning)\n",
      "/home/hanliu/miniconda3/envs/clustering/lib/python3.7/site-packages/xarray/conventions.py:174: SerializationWarning: variable gene_chrom has data in the form of a dask array with dtype=object, which means it is being loaded into memory to determine a data type that can be safely stored on disk. To avoid this, coerce this variable to a fixed-size dtype with astype() before saving it.\n",
      "  SerializationWarning)\n",
      "/home/hanliu/miniconda3/envs/clustering/lib/python3.7/site-packages/xarray/conventions.py:174: SerializationWarning: variable gene_chrom has data in the form of a dask array with dtype=object, which means it is being loaded into memory to determine a data type that can be safely stored on disk. To avoid this, coerce this variable to a fixed-size dtype with astype() before saving it.\n",
      "  SerializationWarning)\n",
      "distributed.nanny - WARNING - Worker exceeded 95% memory budget. Restarting\n",
      "distributed.nanny - WARNING - Worker process 184055 was killed by signal 15\n",
      "distributed.nanny - WARNING - Restarting worker\n",
      "/home/hanliu/miniconda3/envs/clustering/lib/python3.7/site-packages/xarray/conventions.py:174: SerializationWarning: variable gene_chrom has data in the form of a dask array with dtype=object, which means it is being loaded into memory to determine a data type that can be safely stored on disk. To avoid this, coerce this variable to a fixed-size dtype with astype() before saving it.\n",
      "  SerializationWarning)\n",
      "/home/hanliu/miniconda3/envs/clustering/lib/python3.7/site-packages/xarray/conventions.py:174: SerializationWarning: variable gene_chrom has data in the form of a dask array with dtype=object, which means it is being loaded into memory to determine a data type that can be safely stored on disk. To avoid this, coerce this variable to a fixed-size dtype with astype() before saving it.\n",
      "  SerializationWarning)\n",
      "/home/hanliu/miniconda3/envs/clustering/lib/python3.7/site-packages/xarray/conventions.py:174: SerializationWarning: variable gene_chrom has data in the form of a dask array with dtype=object, which means it is being loaded into memory to determine a data type that can be safely stored on disk. To avoid this, coerce this variable to a fixed-size dtype with astype() before saving it.\n",
      "  SerializationWarning)\n",
      "/home/hanliu/miniconda3/envs/clustering/lib/python3.7/site-packages/xarray/conventions.py:174: SerializationWarning: variable gene_chrom has data in the form of a dask array with dtype=object, which means it is being loaded into memory to determine a data type that can be safely stored on disk. To avoid this, coerce this variable to a fixed-size dtype with astype() before saving it.\n",
      "  SerializationWarning)\n",
      "/home/hanliu/miniconda3/envs/clustering/lib/python3.7/site-packages/xarray/conventions.py:174: SerializationWarning: variable gene_chrom has data in the form of a dask array with dtype=object, which means it is being loaded into memory to determine a data type that can be safely stored on disk. To avoid this, coerce this variable to a fixed-size dtype with astype() before saving it.\n",
      "  SerializationWarning)\n",
      "/home/hanliu/miniconda3/envs/clustering/lib/python3.7/site-packages/xarray/conventions.py:174: SerializationWarning: variable gene_chrom has data in the form of a dask array with dtype=object, which means it is being loaded into memory to determine a data type that can be safely stored on disk. To avoid this, coerce this variable to a fixed-size dtype with astype() before saving it.\n",
      "  SerializationWarning)\n",
      "/home/hanliu/miniconda3/envs/clustering/lib/python3.7/site-packages/xarray/conventions.py:174: SerializationWarning: variable gene_chrom has data in the form of a dask array with dtype=object, which means it is being loaded into memory to determine a data type that can be safely stored on disk. To avoid this, coerce this variable to a fixed-size dtype with astype() before saving it.\n",
      "  SerializationWarning)\n"
     ]
    }
   ],
   "source": [
    "mcds.add_gene_rate(in_memory=False, output_prefix='gene_rate', cell_chunks=10000)"
   ]
  },
  {
   "cell_type": "code",
   "execution_count": null,
   "metadata": {},
   "outputs": [],
   "source": []
  },
  {
   "cell_type": "code",
   "execution_count": null,
   "metadata": {},
   "outputs": [],
   "source": []
  },
  {
   "cell_type": "code",
   "execution_count": null,
   "metadata": {},
   "outputs": [],
   "source": []
  },
  {
   "cell_type": "code",
   "execution_count": null,
   "metadata": {},
   "outputs": [],
   "source": []
  },
  {
   "cell_type": "code",
   "execution_count": null,
   "metadata": {},
   "outputs": [],
   "source": []
  },
  {
   "cell_type": "code",
   "execution_count": null,
   "metadata": {},
   "outputs": [],
   "source": []
  }
 ],
 "metadata": {
  "hide_input": false,
  "kernelspec": {
   "display_name": "Python 3",
   "language": "python",
   "name": "python3"
  },
  "language_info": {
   "codemirror_mode": {
    "name": "ipython",
    "version": 3
   },
   "file_extension": ".py",
   "mimetype": "text/x-python",
   "name": "python",
   "nbconvert_exporter": "python",
   "pygments_lexer": "ipython3",
   "version": "3.7.3"
  },
  "toc": {
   "base_numbering": 1,
   "nav_menu": {},
   "number_sections": true,
   "sideBar": true,
   "skip_h1_title": true,
   "title_cell": "Table of Contents",
   "title_sidebar": "Contents",
   "toc_cell": true,
   "toc_position": {},
   "toc_section_display": true,
   "toc_window_display": true
  }
 },
 "nbformat": 4,
 "nbformat_minor": 2
}
