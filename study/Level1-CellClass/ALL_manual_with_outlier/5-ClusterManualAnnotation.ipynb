{
 "cells": [
  {
   "cell_type": "markdown",
   "metadata": {
    "toc": true
   },
   "source": [
    "<h1>Table of Contents<span class=\"tocSkip\"></span></h1>\n",
    "<div class=\"toc\"><ul class=\"toc-item\"><li><span><a href=\"#Purpose\" data-toc-modified-id=\"Purpose-1\"><span class=\"toc-item-num\">1&nbsp;&nbsp;</span>Purpose</a></span></li><li><span><a href=\"#Input\" data-toc-modified-id=\"Input-2\"><span class=\"toc-item-num\">2&nbsp;&nbsp;</span>Input</a></span></li><li><span><a href=\"#Output\" data-toc-modified-id=\"Output-3\"><span class=\"toc-item-num\">3&nbsp;&nbsp;</span>Output</a></span></li><li><span><a href=\"#Parameters\" data-toc-modified-id=\"Parameters-4\"><span class=\"toc-item-num\">4&nbsp;&nbsp;</span>Parameters</a></span></li><li><span><a href=\"#Load\" data-toc-modified-id=\"Load-5\"><span class=\"toc-item-num\">5&nbsp;&nbsp;</span>Load</a></span><ul class=\"toc-item\"><li><span><a href=\"#Cell-Tidy-Data\" data-toc-modified-id=\"Cell-Tidy-Data-5.1\"><span class=\"toc-item-num\">5.1&nbsp;&nbsp;</span>Cell Tidy Data</a></span></li><li><span><a href=\"#Gene-Metadata\" data-toc-modified-id=\"Gene-Metadata-5.2\"><span class=\"toc-item-num\">5.2&nbsp;&nbsp;</span>Gene Metadata</a></span></li><li><span><a href=\"#MCDS\" data-toc-modified-id=\"MCDS-5.3\"><span class=\"toc-item-num\">5.3&nbsp;&nbsp;</span>MCDS</a></span></li><li><span><a href=\"#Cluster-Markers\" data-toc-modified-id=\"Cluster-Markers-5.4\"><span class=\"toc-item-num\">5.4&nbsp;&nbsp;</span>Cluster Markers</a></span></li></ul></li><li><span><a href=\"#Category-Plot\" data-toc-modified-id=\"Category-Plot-6\"><span class=\"toc-item-num\">6&nbsp;&nbsp;</span>Category Plot</a></span></li><li><span><a href=\"#Plot-Genes\" data-toc-modified-id=\"Plot-Genes-7\"><span class=\"toc-item-num\">7&nbsp;&nbsp;</span>Plot Genes</a></span><ul class=\"toc-item\"><li><span><a href=\"#Single-Gene\" data-toc-modified-id=\"Single-Gene-7.1\"><span class=\"toc-item-num\">7.1&nbsp;&nbsp;</span>Single Gene</a></span></li><li><span><a href=\"#Multiple-Genes\" data-toc-modified-id=\"Multiple-Genes-7.2\"><span class=\"toc-item-num\">7.2&nbsp;&nbsp;</span>Multiple Genes</a></span></li><li><span><a href=\"#Cluster-Markers\" data-toc-modified-id=\"Cluster-Markers-7.3\"><span class=\"toc-item-num\">7.3&nbsp;&nbsp;</span>Cluster Markers</a></span></li></ul></li><li><span><a href=\"#Manual-Annotation\" data-toc-modified-id=\"Manual-Annotation-8\"><span class=\"toc-item-num\">8&nbsp;&nbsp;</span>Manual Annotation</a></span></li></ul></div>"
   ]
  },
  {
   "cell_type": "markdown",
   "metadata": {},
   "source": [
    "# Cluster Marker Identification\n",
    "\n",
    "## Purpose\n",
    "- Visualizing markers\n",
    "- Annotate Cluster\n",
    "\n",
    "## Input\n",
    "- gene MCDS\n",
    "- consensus clustering\n",
    "- Cluster marker list\n",
    "\n",
    "## Output\n",
    "- Annotated clusters"
   ]
  },
  {
   "cell_type": "code",
   "execution_count": null,
   "metadata": {},
   "outputs": [],
   "source": [
    "import warnings\n",
    "warnings.filterwarnings('ignore')"
   ]
  },
  {
   "cell_type": "code",
   "execution_count": null,
   "metadata": {},
   "outputs": [],
   "source": [
    "import pathlib\n",
    "\n",
    "import anndata\n",
    "import matplotlib.pyplot as plt\n",
    "import numpy as np\n",
    "import pandas as pd\n",
    "import seaborn as sns\n",
    "from ALLCools.mcds.MCDS import MCDS\n",
    "from cemba_data.plot import *"
   ]
  },
  {
   "cell_type": "code",
   "execution_count": null,
   "metadata": {},
   "outputs": [],
   "source": [
    "result_dir = pathlib.Path('Annotation')\n",
    "result_dir.mkdir(exist_ok=True)\n",
    "fig_dir = pathlib.Path('fig/cluster_annot')\n",
    "fig_dir.mkdir(exist_ok=True, parents=True)"
   ]
  },
  {
   "cell_type": "markdown",
   "metadata": {},
   "source": [
    "## Parameters"
   ]
  },
  {
   "cell_type": "code",
   "execution_count": null,
   "metadata": {
    "tags": [
     "parameters"
    ]
   },
   "outputs": [],
   "source": [
    "gene_annotation_path = '/home/hanliu/ref/mouse/gencode/vm22/gencode.vM22.annotation.gene.flat.tsv.gz'\n",
    "cell_tidy_data_path = './Cluster/cell_tidy_data.with_cluster.msg'\n",
    "gene_mcds_pattern = './Adata/SelectedCell*gene_da_rate*mcds'\n",
    "\n",
    "load = False\n",
    "mc_type = 'CHN'\n",
    "\n",
    "cluster_col_name = 'consensus_cluster_rescued'\n",
    "coord_base = 'umap'"
   ]
  },
  {
   "cell_type": "markdown",
   "metadata": {},
   "source": [
    "## Load\n",
    "\n",
    "### Cell Tidy Data"
   ]
  },
  {
   "cell_type": "code",
   "execution_count": null,
   "metadata": {},
   "outputs": [],
   "source": [
    "cell_tidy_data = pd.read_msgpack(cell_tidy_data_path)\n",
    "\n",
    "raw_cell_tidy_data = cell_tidy_data.copy()"
   ]
  },
  {
   "cell_type": "markdown",
   "metadata": {},
   "source": [
    "### Gene Metadata"
   ]
  },
  {
   "cell_type": "code",
   "execution_count": null,
   "metadata": {},
   "outputs": [],
   "source": [
    "gene_meta = pd.read_csv(gene_annotation_path, index_col='gene_id', sep='\\t')\n",
    "gene_meta.index.name = 'gene'\n",
    "gene_name_to_id = {v:k for k, v in gene_meta['gene_name'].iteritems()}\n",
    "gene_id_base_to_id = pd.Series(gene_meta.index, index = gene_meta.index.map(lambda i: i.split('.')[0])).to_dict()"
   ]
  },
  {
   "cell_type": "markdown",
   "metadata": {},
   "source": [
    "### MCDS"
   ]
  },
  {
   "cell_type": "code",
   "execution_count": null,
   "metadata": {},
   "outputs": [],
   "source": [
    "gene_mcds = MCDS.open(gene_mcds_pattern,\n",
    "                      combine='nested',\n",
    "                      concat_dim='cell').sel(mc_type=mc_type)['gene_da']\n",
    "gene_mcds.chunk({'gene': 100, 'cell': 999999})\n",
    "\n",
    "if load:\n",
    "    gene_mcds.load()"
   ]
  },
  {
   "cell_type": "code",
   "execution_count": null,
   "metadata": {},
   "outputs": [],
   "source": [
    "def get_gene_data(gene):\n",
    "    if gene.startswith('ENSMUSG'):\n",
    "        gene_id = gene\n",
    "    else:\n",
    "        gene_id = gene_name_to_id[gene]\n",
    "    gene_data = gene_mcds.sel(gene=gene_id).to_pandas()\n",
    "    return gene_data"
   ]
  },
  {
   "cell_type": "markdown",
   "metadata": {},
   "source": [
    "### Cluster Markers"
   ]
  },
  {
   "cell_type": "code",
   "execution_count": null,
   "metadata": {},
   "outputs": [],
   "source": [
    "name_df = pd.read_msgpack(f'./Marker/{mc_type}_marker_name.msg')\n",
    "score_df = pd.read_msgpack(f'./Marker/{mc_type}_marker_test_score.msg')\n",
    "fold_change_df = pd.read_msgpack(f'./Marker/{mc_type}_marker_fold_change.msg')"
   ]
  },
  {
   "cell_type": "markdown",
   "metadata": {},
   "source": [
    "## Category Plot"
   ]
  },
  {
   "cell_type": "code",
   "execution_count": null,
   "metadata": {},
   "outputs": [],
   "source": [
    "fig, ax = plt.subplots(figsize=(5, 5), dpi=300, ncols=1)\n",
    "categorical_scatter(data=cell_tidy_data,\n",
    "                    coord_base=coord_base,\n",
    "                    ax=ax,\n",
    "                    hue=cluster_col_name,\n",
    "                    palette='tab20',\n",
    "                    text_anno=cluster_col_name)\n",
    "ax.set(title=cluster_col_name)"
   ]
  },
  {
   "cell_type": "markdown",
   "metadata": {},
   "source": [
    "## Plot Genes"
   ]
  },
  {
   "cell_type": "markdown",
   "metadata": {},
   "source": [
    "### Single Gene"
   ]
  },
  {
   "cell_type": "code",
   "execution_count": null,
   "metadata": {},
   "outputs": [],
   "source": [
    "gene_name = 'Cux2'\n",
    "\n",
    "gene_id = gene_name_to_id[gene_name]\n",
    "fig, ax = plt.subplots(figsize=(5, 5), nrows=1, ncols=1, dpi=200)\n",
    "if gene_name not in cell_tidy_data.columns:\n",
    "    cell_tidy_data[gene_name] = get_gene_data(gene_id)\n",
    "continuous_scatter(cell_tidy_data,\n",
    "                   ax,\n",
    "                   coord_base=coord_base,\n",
    "                   hue=gene_name,\n",
    "                       hue_norm=(0, 1),\n",
    "                   text_anno=cluster_col_name,\n",
    "                   scatter_kws=dict(s=6),\n",
    "                   text_anno_kws=dict(fontsize=5),\n",
    "                   max_points=2500)\n",
    "ax.set_title(gene_name)\n",
    "fig.savefig(fig_dir / f'{gene_name}_{mc_type}_Cluster_Marker.pdf')"
   ]
  },
  {
   "cell_type": "markdown",
   "metadata": {},
   "source": [
    "### Multiple Genes"
   ]
  },
  {
   "cell_type": "code",
   "execution_count": 1,
   "metadata": {
    "ExecuteTime": {
     "end_time": "2019-08-22T01:52:20.944388Z",
     "start_time": "2019-08-22T01:52:20.938296Z"
    }
   },
   "outputs": [],
   "source": [
    "genes = []\n",
    "ncols = 5"
   ]
  },
  {
   "cell_type": "code",
   "execution_count": 3,
   "metadata": {
    "ExecuteTime": {
     "end_time": "2019-08-22T01:53:07.835891Z",
     "start_time": "2019-08-22T01:53:07.830399Z"
    }
   },
   "outputs": [],
   "source": [
    "if len(genes) != 0:\n",
    "    gene_ids = [gene_name_to_id[i] for i in genes]\n",
    "    nrows = len(genes) // ncols + (1 if (len(genes) % ncols != 0) else 0)\n",
    "    fig, axes = plt.subplots(figsize=(3*ncols, 3*nrows), nrows=nrows, ncols=ncols, dpi=150)\n",
    "    for gene, gene_id, ax in zip(genes, gene_ids, axes.flat):\n",
    "        if gene not in cell_tidy_data.columns:\n",
    "            cell_tidy_data[gene] = get_gene_data(gene_id)\n",
    "        continuous_scatter(cell_tidy_data,\n",
    "                           ax,\n",
    "                       coord_base=coord_base, \n",
    "                       hue=gene,\n",
    "                       hue_norm=(0, 1),\n",
    "                       text_anno=cluster_col_name,\n",
    "                       scatter_kws=dict(s=6),\n",
    "                       text_anno_kws=dict(fontsize=5),\n",
    "                       max_points=2500)\n",
    "        ax.set_title(gene)\n",
    "    fig.suptitle(f'mCH Cluster Marker', fontsize=16, y=1.1)\n",
    "    all_gene = '_'.join(genes)\n",
    "    fig.savefig(fig_dir / f'Cluster_Markers.pdf')"
   ]
  },
  {
   "cell_type": "markdown",
   "metadata": {},
   "source": [
    "### Cluster Markers"
   ]
  },
  {
   "cell_type": "code",
   "execution_count": null,
   "metadata": {},
   "outputs": [],
   "source": [
    "cluster = None\n",
    "n_genes = 10\n",
    "nrows = 2\n",
    "coord_base='umap'"
   ]
  },
  {
   "cell_type": "code",
   "execution_count": null,
   "metadata": {},
   "outputs": [],
   "source": [
    "if cluster is not None:\n",
    "    gene_ids = name_df.loc[:n_genes, cluster]\n",
    "    genes = [gene_meta.loc[gene_id, 'gene_name'] for gene_id in gene_ids]\n",
    "    \n",
    "    ncols = len(genes) // nrows\n",
    "    fig, axes = plt.subplots(figsize=(3*ncols, 3*nrows), nrows=nrows, ncols=ncols, dpi=150)\n",
    "    for gene, gene_id, ax in zip(genes, gene_ids, axes.flat):\n",
    "        if gene not in cell_tidy_data.columns:\n",
    "            cell_tidy_data[gene] = get_gene_data(gene_id)\n",
    "        continuous_scatter(cell_tidy_data,\n",
    "                           ax,\n",
    "                           coord_base=coord_base, \n",
    "                           hue=gene,\n",
    "                           hue_norm=(0, 1),\n",
    "                           text_anno=cluster_col_name,\n",
    "                           scatter_kws=dict(s=6),\n",
    "                           text_anno_kws=dict(fontsize=5),\n",
    "                           max_points=2500)\n",
    "        ax.set_title(gene)\n",
    "    fig.suptitle(f'c{int(cluster):02d} mCH Cluster Marker', fontsize=16, y=1.1)\n",
    "    fig.savefig(fig_dir / f'c{int(cluster):02d}_{mc_type}_Cluster_Marker.pdf')"
   ]
  },
  {
   "cell_type": "markdown",
   "metadata": {},
   "source": [
    "## Manual Annotation"
   ]
  },
  {
   "cell_type": "code",
   "execution_count": null,
   "metadata": {},
   "outputs": [],
   "source": [
    "cell_tidy_data[cluster_col_name].value_counts()"
   ]
  },
  {
   "cell_type": "code",
   "execution_count": null,
   "metadata": {},
   "outputs": [],
   "source": [
    "{i:'' for i in sorted(cell_tidy_data[cluster_col_name].unique())}"
   ]
  },
  {
   "cell_type": "code",
   "execution_count": null,
   "metadata": {},
   "outputs": [],
   "source": [
    "cluster_name_map = {}\n",
    "cluster_name_map"
   ]
  },
  {
   "cell_type": "code",
   "execution_count": null,
   "metadata": {},
   "outputs": [],
   "source": [
    "raw_cell_tidy_data[cluster_col_name + \"_anno\"] = cell_tidy_data[cluster_col_name].apply(lambda i: cluster_name_map[i] if i in cluster_name_map else i)"
   ]
  },
  {
   "cell_type": "code",
   "execution_count": null,
   "metadata": {},
   "outputs": [],
   "source": [
    "raw_cell_tidy_data.to_msgpack('cell_tidy_data.final_annotation.msg')"
   ]
  },
  {
   "cell_type": "code",
   "execution_count": null,
   "metadata": {},
   "outputs": [],
   "source": [
    "fig, ax = plt.subplots(figsize=(5, 5), dpi=300, ncols=1)\n",
    "categorical_scatter(data=raw_cell_tidy_data,\n",
    "                    coord_base=coord_base,\n",
    "                    ax=ax,\n",
    "                    hue=cluster_col_name + \"_anno\",\n",
    "                    palette='tab20',\n",
    "                    text_anno=cluster_col_name + \"_anno\")\n",
    "ax.set(title=cluster_col_name + \"_anno\")\n",
    "fig.savefig(fig_dir / 'FinalClusterAnno.pdf')"
   ]
  }
 ],
 "metadata": {
  "hide_input": false,
  "kernelspec": {
   "display_name": "Python 3",
   "language": "python",
   "name": "python3"
  },
  "language_info": {
   "codemirror_mode": {
    "name": "ipython",
    "version": 3
   },
   "file_extension": ".py",
   "mimetype": "text/x-python",
   "name": "python",
   "nbconvert_exporter": "python",
   "pygments_lexer": "ipython3",
   "version": "3.7.3"
  },
  "toc": {
   "base_numbering": 1,
   "nav_menu": {},
   "number_sections": true,
   "sideBar": true,
   "skip_h1_title": true,
   "title_cell": "Table of Contents",
   "title_sidebar": "Contents",
   "toc_cell": true,
   "toc_position": {},
   "toc_section_display": true,
   "toc_window_display": true
  }
 },
 "nbformat": 4,
 "nbformat_minor": 2
}
