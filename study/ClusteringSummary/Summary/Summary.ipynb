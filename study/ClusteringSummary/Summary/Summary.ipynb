{
 "cells": [
  {
   "cell_type": "markdown",
   "metadata": {
    "toc": true
   },
   "source": [
    "<h1>Table of Contents<span class=\"tocSkip\"></span></h1>\n",
    "<div class=\"toc\"><ul class=\"toc-item\"><li><span><a href=\"#Load\" data-toc-modified-id=\"Load-1\"><span class=\"toc-item-num\">1&nbsp;&nbsp;</span>Load</a></span><ul class=\"toc-item\"><li><span><a href=\"#Brain-Region\" data-toc-modified-id=\"Brain-Region-1.1\"><span class=\"toc-item-num\">1.1&nbsp;&nbsp;</span>Brain Region</a></span></li><li><span><a href=\"#Input-metadata\" data-toc-modified-id=\"Input-metadata-1.2\"><span class=\"toc-item-num\">1.2&nbsp;&nbsp;</span>Input metadata</a></span></li><li><span><a href=\"#Level-1-Annotation\" data-toc-modified-id=\"Level-1-Annotation-1.3\"><span class=\"toc-item-num\">1.3&nbsp;&nbsp;</span>Level 1 Annotation</a></span></li><li><span><a href=\"#Level-2-Annotation\" data-toc-modified-id=\"Level-2-Annotation-1.4\"><span class=\"toc-item-num\">1.4&nbsp;&nbsp;</span>Level 2 Annotation</a></span></li><li><span><a href=\"#Level-3-Annotation\" data-toc-modified-id=\"Level-3-Annotation-1.5\"><span class=\"toc-item-num\">1.5&nbsp;&nbsp;</span>Level 3 Annotation</a></span></li></ul></li><li><span><a href=\"#Combine\" data-toc-modified-id=\"Combine-2\"><span class=\"toc-item-num\">2&nbsp;&nbsp;</span>Combine</a></span></li><li><span><a href=\"#Re-define-cell-class-into-three\" data-toc-modified-id=\"Re-define-cell-class-into-three-3\"><span class=\"toc-item-num\">3&nbsp;&nbsp;</span>Re-define cell class into three</a></span></li><li><span><a href=\"#Tri-class-UMAP-TSNE\" data-toc-modified-id=\"Tri-class-UMAP-TSNE-4\"><span class=\"toc-item-num\">4&nbsp;&nbsp;</span>Tri-class UMAP TSNE</a></span></li><li><span><a href=\"#Update-region-info\" data-toc-modified-id=\"Update-region-info-5\"><span class=\"toc-item-num\">5&nbsp;&nbsp;</span>Update region info</a></span></li><li><span><a href=\"#Save-file\" data-toc-modified-id=\"Save-file-6\"><span class=\"toc-item-num\">6&nbsp;&nbsp;</span>Save file</a></span></li><li><span><a href=\"#Plot\" data-toc-modified-id=\"Plot-7\"><span class=\"toc-item-num\">7&nbsp;&nbsp;</span>Plot</a></span></li></ul></div>"
   ]
  },
  {
   "cell_type": "code",
   "execution_count": 1,
   "metadata": {
    "ExecuteTime": {
     "end_time": "2019-11-28T05:09:05.196141Z",
     "start_time": "2019-11-28T05:09:04.746901Z"
    }
   },
   "outputs": [],
   "source": [
    "import pathlib\n",
    "import pandas as pd\n",
    "import numpy as np\n",
    "import matplotlib.pyplot as plt\n",
    "import seaborn as sns\n",
    "from cemba_data.plot import *\n",
    "\n",
    "import warnings\n",
    "warnings.filterwarnings('ignore')"
   ]
  },
  {
   "cell_type": "code",
   "execution_count": 2,
   "metadata": {
    "ExecuteTime": {
     "end_time": "2019-11-28T05:09:05.442666Z",
     "start_time": "2019-11-28T05:09:05.198170Z"
    }
   },
   "outputs": [],
   "source": [
    "df = pd.read_msgpack('../../../metadata/CellMeta.122687.Raw.msg')"
   ]
  },
  {
   "cell_type": "code",
   "execution_count": 3,
   "metadata": {
    "ExecuteTime": {
     "end_time": "2019-11-28T05:09:05.450680Z",
     "start_time": "2019-11-28T05:09:05.444228Z"
    }
   },
   "outputs": [
    {
     "data": {
      "text/plain": [
       "110294"
      ]
     },
     "execution_count": 3,
     "metadata": {},
     "output_type": "execute_result"
    }
   ],
   "source": [
    "(df['FinalReads'] > 500000).sum()"
   ]
  },
  {
   "cell_type": "markdown",
   "metadata": {},
   "source": [
    "## Load"
   ]
  },
  {
   "cell_type": "markdown",
   "metadata": {},
   "source": [
    "### Brain Region"
   ]
  },
  {
   "cell_type": "code",
   "execution_count": 4,
   "metadata": {
    "ExecuteTime": {
     "end_time": "2019-11-28T05:09:05.470063Z",
     "start_time": "2019-11-28T05:09:05.451904Z"
    }
   },
   "outputs": [],
   "source": [
    "brain_region = pd.read_csv('/home/hanliu/project/mouse_rostral_brain/metadata/BrainRegion.txt',\n",
    "                           sep='\\t', index_col='DissectionRegion')\n",
    "major_region_palette = brain_region.set_index('MajorRegion')['MajorRegionColor'].to_dict()\n",
    "sub_region_palette = brain_region.set_index('SubRegion')['SubRegionColor'].to_dict()\n",
    "region_palette = brain_region['DissectionRegionColor'].to_dict()"
   ]
  },
  {
   "cell_type": "markdown",
   "metadata": {},
   "source": [
    "### Input metadata"
   ]
  },
  {
   "cell_type": "code",
   "execution_count": 5,
   "metadata": {
    "ExecuteTime": {
     "end_time": "2019-11-28T05:09:05.631902Z",
     "start_time": "2019-11-28T05:09:05.471144Z"
    }
   },
   "outputs": [],
   "source": [
    "input_cell_meta = pd.read_msgpack('/home/hanliu/project/mouse_rostral_brain/metadata/CellMeta.122687.Raw.msg')"
   ]
  },
  {
   "cell_type": "code",
   "execution_count": 6,
   "metadata": {
    "ExecuteTime": {
     "end_time": "2019-11-28T05:09:05.653398Z",
     "start_time": "2019-11-28T05:09:05.633381Z"
    }
   },
   "outputs": [
    {
     "data": {
      "text/html": [
       "<div>\n",
       "<style scoped>\n",
       "    .dataframe tbody tr th:only-of-type {\n",
       "        vertical-align: middle;\n",
       "    }\n",
       "\n",
       "    .dataframe tbody tr th {\n",
       "        vertical-align: top;\n",
       "    }\n",
       "\n",
       "    .dataframe thead th {\n",
       "        text-align: right;\n",
       "    }\n",
       "</style>\n",
       "<table border=\"1\" class=\"dataframe\">\n",
       "  <thead>\n",
       "    <tr style=\"text-align: right;\">\n",
       "      <th></th>\n",
       "      <th>AllcPath</th>\n",
       "      <th>CCC_Rate</th>\n",
       "      <th>CG_Rate</th>\n",
       "      <th>CG_RateAdj</th>\n",
       "      <th>CH_Rate</th>\n",
       "      <th>CH_RateAdj</th>\n",
       "      <th>FinalReads</th>\n",
       "      <th>InputReads</th>\n",
       "      <th>MappedReads</th>\n",
       "      <th>Region</th>\n",
       "      <th>...</th>\n",
       "      <th>BamFilteringRate</th>\n",
       "      <th>MappingRate</th>\n",
       "      <th>Pos96</th>\n",
       "      <th>Plate</th>\n",
       "      <th>Col96</th>\n",
       "      <th>Row96</th>\n",
       "      <th>Col384</th>\n",
       "      <th>Row384</th>\n",
       "      <th>FACS_Date</th>\n",
       "      <th>Slice</th>\n",
       "    </tr>\n",
       "    <tr>\n",
       "      <th>cell</th>\n",
       "      <th></th>\n",
       "      <th></th>\n",
       "      <th></th>\n",
       "      <th></th>\n",
       "      <th></th>\n",
       "      <th></th>\n",
       "      <th></th>\n",
       "      <th></th>\n",
       "      <th></th>\n",
       "      <th></th>\n",
       "      <th></th>\n",
       "      <th></th>\n",
       "      <th></th>\n",
       "      <th></th>\n",
       "      <th></th>\n",
       "      <th></th>\n",
       "      <th></th>\n",
       "      <th></th>\n",
       "      <th></th>\n",
       "      <th></th>\n",
       "      <th></th>\n",
       "    </tr>\n",
       "  </thead>\n",
       "  <tbody>\n",
       "    <tr>\n",
       "      <th>10E_M_0</th>\n",
       "      <td>/gale/raidix/rdx-4/mapping/10E/CEMBA190625-10E...</td>\n",
       "      <td>0.008198</td>\n",
       "      <td>0.822633</td>\n",
       "      <td>0.821166</td>\n",
       "      <td>0.041640</td>\n",
       "      <td>0.033718</td>\n",
       "      <td>1626504.0</td>\n",
       "      <td>4407752</td>\n",
       "      <td>2892347.0</td>\n",
       "      <td>10E</td>\n",
       "      <td>...</td>\n",
       "      <td>0.562347</td>\n",
       "      <td>0.656195</td>\n",
       "      <td>A1</td>\n",
       "      <td>CEMBA190625-10E-1</td>\n",
       "      <td>0</td>\n",
       "      <td>0</td>\n",
       "      <td>0</td>\n",
       "      <td>0</td>\n",
       "      <td>190625</td>\n",
       "      <td>10</td>\n",
       "    </tr>\n",
       "    <tr>\n",
       "      <th>10E_M_1</th>\n",
       "      <td>/gale/raidix/rdx-4/mapping/10E/CEMBA190625-10E...</td>\n",
       "      <td>0.006019</td>\n",
       "      <td>0.743035</td>\n",
       "      <td>0.741479</td>\n",
       "      <td>0.024127</td>\n",
       "      <td>0.018218</td>\n",
       "      <td>2009998.0</td>\n",
       "      <td>5524084</td>\n",
       "      <td>3657352.0</td>\n",
       "      <td>10E</td>\n",
       "      <td>...</td>\n",
       "      <td>0.549577</td>\n",
       "      <td>0.662074</td>\n",
       "      <td>A1</td>\n",
       "      <td>CEMBA190625-10E-1</td>\n",
       "      <td>0</td>\n",
       "      <td>0</td>\n",
       "      <td>0</td>\n",
       "      <td>1</td>\n",
       "      <td>190625</td>\n",
       "      <td>10</td>\n",
       "    </tr>\n",
       "    <tr>\n",
       "      <th>10E_M_10</th>\n",
       "      <td>/gale/raidix/rdx-4/mapping/10E/CEMBA190625-10E...</td>\n",
       "      <td>0.006569</td>\n",
       "      <td>0.750172</td>\n",
       "      <td>0.748520</td>\n",
       "      <td>0.027665</td>\n",
       "      <td>0.021235</td>\n",
       "      <td>1383636.0</td>\n",
       "      <td>3455260</td>\n",
       "      <td>2172987.0</td>\n",
       "      <td>10E</td>\n",
       "      <td>...</td>\n",
       "      <td>0.636744</td>\n",
       "      <td>0.628892</td>\n",
       "      <td>A10</td>\n",
       "      <td>CEMBA190625-10E-1</td>\n",
       "      <td>9</td>\n",
       "      <td>0</td>\n",
       "      <td>19</td>\n",
       "      <td>0</td>\n",
       "      <td>190625</td>\n",
       "      <td>10</td>\n",
       "    </tr>\n",
       "    <tr>\n",
       "      <th>10E_M_100</th>\n",
       "      <td>/gale/raidix/rdx-4/mapping/10E/CEMBA190625-10E...</td>\n",
       "      <td>0.005984</td>\n",
       "      <td>0.750825</td>\n",
       "      <td>0.749325</td>\n",
       "      <td>0.024424</td>\n",
       "      <td>0.018551</td>\n",
       "      <td>377115.0</td>\n",
       "      <td>1088368</td>\n",
       "      <td>703698.0</td>\n",
       "      <td>10E</td>\n",
       "      <td>...</td>\n",
       "      <td>0.535905</td>\n",
       "      <td>0.646563</td>\n",
       "      <td>B10</td>\n",
       "      <td>CEMBA190625-10E-1</td>\n",
       "      <td>9</td>\n",
       "      <td>1</td>\n",
       "      <td>18</td>\n",
       "      <td>2</td>\n",
       "      <td>190625</td>\n",
       "      <td>10</td>\n",
       "    </tr>\n",
       "    <tr>\n",
       "      <th>10E_M_1000</th>\n",
       "      <td>/gale/raidix/rdx-4/mapping/10E/CEMBA190625-10E...</td>\n",
       "      <td>0.000000</td>\n",
       "      <td>0.666667</td>\n",
       "      <td>0.666667</td>\n",
       "      <td>0.012780</td>\n",
       "      <td>0.012780</td>\n",
       "      <td>26.0</td>\n",
       "      <td>115216</td>\n",
       "      <td>58.0</td>\n",
       "      <td>10E</td>\n",
       "      <td>...</td>\n",
       "      <td>0.448276</td>\n",
       "      <td>0.000503</td>\n",
       "      <td>C5</td>\n",
       "      <td>CEMBA190625-10E-4</td>\n",
       "      <td>4</td>\n",
       "      <td>2</td>\n",
       "      <td>9</td>\n",
       "      <td>5</td>\n",
       "      <td>190625</td>\n",
       "      <td>10</td>\n",
       "    </tr>\n",
       "  </tbody>\n",
       "</table>\n",
       "<p>5 rows × 22 columns</p>\n",
       "</div>"
      ],
      "text/plain": [
       "                                                     AllcPath  CCC_Rate  \\\n",
       "cell                                                                      \n",
       "10E_M_0     /gale/raidix/rdx-4/mapping/10E/CEMBA190625-10E...  0.008198   \n",
       "10E_M_1     /gale/raidix/rdx-4/mapping/10E/CEMBA190625-10E...  0.006019   \n",
       "10E_M_10    /gale/raidix/rdx-4/mapping/10E/CEMBA190625-10E...  0.006569   \n",
       "10E_M_100   /gale/raidix/rdx-4/mapping/10E/CEMBA190625-10E...  0.005984   \n",
       "10E_M_1000  /gale/raidix/rdx-4/mapping/10E/CEMBA190625-10E...  0.000000   \n",
       "\n",
       "             CG_Rate  CG_RateAdj   CH_Rate  CH_RateAdj  FinalReads  \\\n",
       "cell                                                                 \n",
       "10E_M_0     0.822633    0.821166  0.041640    0.033718   1626504.0   \n",
       "10E_M_1     0.743035    0.741479  0.024127    0.018218   2009998.0   \n",
       "10E_M_10    0.750172    0.748520  0.027665    0.021235   1383636.0   \n",
       "10E_M_100   0.750825    0.749325  0.024424    0.018551    377115.0   \n",
       "10E_M_1000  0.666667    0.666667  0.012780    0.012780        26.0   \n",
       "\n",
       "            InputReads  MappedReads Region  ... BamFilteringRate MappingRate  \\\n",
       "cell                                        ...                                \n",
       "10E_M_0        4407752    2892347.0    10E  ...         0.562347    0.656195   \n",
       "10E_M_1        5524084    3657352.0    10E  ...         0.549577    0.662074   \n",
       "10E_M_10       3455260    2172987.0    10E  ...         0.636744    0.628892   \n",
       "10E_M_100      1088368     703698.0    10E  ...         0.535905    0.646563   \n",
       "10E_M_1000      115216         58.0    10E  ...         0.448276    0.000503   \n",
       "\n",
       "            Pos96              Plate Col96 Row96  Col384  Row384  FACS_Date  \\\n",
       "cell                                                                          \n",
       "10E_M_0        A1  CEMBA190625-10E-1     0     0       0       0     190625   \n",
       "10E_M_1        A1  CEMBA190625-10E-1     0     0       0       1     190625   \n",
       "10E_M_10      A10  CEMBA190625-10E-1     9     0      19       0     190625   \n",
       "10E_M_100     B10  CEMBA190625-10E-1     9     1      18       2     190625   \n",
       "10E_M_1000     C5  CEMBA190625-10E-4     4     2       9       5     190625   \n",
       "\n",
       "            Slice  \n",
       "cell               \n",
       "10E_M_0        10  \n",
       "10E_M_1        10  \n",
       "10E_M_10       10  \n",
       "10E_M_100      10  \n",
       "10E_M_1000     10  \n",
       "\n",
       "[5 rows x 22 columns]"
      ]
     },
     "execution_count": 6,
     "metadata": {},
     "output_type": "execute_result"
    }
   ],
   "source": [
    "input_cell_meta.head()"
   ]
  },
  {
   "cell_type": "code",
   "execution_count": 7,
   "metadata": {
    "ExecuteTime": {
     "end_time": "2019-11-28T05:09:05.657327Z",
     "start_time": "2019-11-28T05:09:05.654613Z"
    }
   },
   "outputs": [
    {
     "name": "stdout",
     "output_type": "stream",
     "text": [
      "Input Cells: 122687\n"
     ]
    }
   ],
   "source": [
    "print('Input Cells:', input_cell_meta.shape[0])"
   ]
  },
  {
   "cell_type": "markdown",
   "metadata": {},
   "source": [
    "### Level 1 Annotation"
   ]
  },
  {
   "cell_type": "code",
   "execution_count": 8,
   "metadata": {
    "ExecuteTime": {
     "end_time": "2019-11-28T05:09:05.911992Z",
     "start_time": "2019-11-28T05:09:05.659241Z"
    }
   },
   "outputs": [],
   "source": [
    "level_1_final = pd.read_msgpack('/home/hanliu/project/mouse_rostral_brain/study/Level1-CellClass/ALL_manual/cell_tidy_data.final_annotation.with_region.msg')"
   ]
  },
  {
   "cell_type": "code",
   "execution_count": 9,
   "metadata": {
    "ExecuteTime": {
     "end_time": "2019-11-28T05:09:05.938910Z",
     "start_time": "2019-11-28T05:09:05.913727Z"
    }
   },
   "outputs": [
    {
     "data": {
      "text/html": [
       "<div>\n",
       "<style scoped>\n",
       "    .dataframe tbody tr th:only-of-type {\n",
       "        vertical-align: middle;\n",
       "    }\n",
       "\n",
       "    .dataframe tbody tr th {\n",
       "        vertical-align: top;\n",
       "    }\n",
       "\n",
       "    .dataframe thead th {\n",
       "        text-align: right;\n",
       "    }\n",
       "</style>\n",
       "<table border=\"1\" class=\"dataframe\">\n",
       "  <thead>\n",
       "    <tr style=\"text-align: right;\">\n",
       "      <th></th>\n",
       "      <th>CellClass</th>\n",
       "      <th>l1-umap_0</th>\n",
       "      <th>l1-umap_1</th>\n",
       "      <th>l1-tsne_0</th>\n",
       "      <th>l1-tsne_1</th>\n",
       "    </tr>\n",
       "    <tr>\n",
       "      <th>index</th>\n",
       "      <th></th>\n",
       "      <th></th>\n",
       "      <th></th>\n",
       "      <th></th>\n",
       "      <th></th>\n",
       "    </tr>\n",
       "  </thead>\n",
       "  <tbody>\n",
       "    <tr>\n",
       "      <th>10E_M_0</th>\n",
       "      <td>Inh</td>\n",
       "      <td>8.002170</td>\n",
       "      <td>8.983358</td>\n",
       "      <td>4.595703</td>\n",
       "      <td>14.504827</td>\n",
       "    </tr>\n",
       "    <tr>\n",
       "      <th>10E_M_1</th>\n",
       "      <td>Exc-HPF</td>\n",
       "      <td>-33.583858</td>\n",
       "      <td>-8.758917</td>\n",
       "      <td>19.721622</td>\n",
       "      <td>22.792822</td>\n",
       "    </tr>\n",
       "    <tr>\n",
       "      <th>10E_M_10</th>\n",
       "      <td>Exc-HPF</td>\n",
       "      <td>-33.994816</td>\n",
       "      <td>-8.389750</td>\n",
       "      <td>21.309082</td>\n",
       "      <td>22.672712</td>\n",
       "    </tr>\n",
       "    <tr>\n",
       "      <th>10E_M_101</th>\n",
       "      <td>Exc-HPF</td>\n",
       "      <td>-33.219925</td>\n",
       "      <td>-7.649719</td>\n",
       "      <td>22.575315</td>\n",
       "      <td>19.733137</td>\n",
       "    </tr>\n",
       "    <tr>\n",
       "      <th>10E_M_102</th>\n",
       "      <td>Exc-HPF</td>\n",
       "      <td>-30.274584</td>\n",
       "      <td>-15.904350</td>\n",
       "      <td>22.628148</td>\n",
       "      <td>0.258059</td>\n",
       "    </tr>\n",
       "  </tbody>\n",
       "</table>\n",
       "</div>"
      ],
      "text/plain": [
       "          CellClass  l1-umap_0  l1-umap_1  l1-tsne_0  l1-tsne_1\n",
       "index                                                          \n",
       "10E_M_0         Inh   8.002170   8.983358   4.595703  14.504827\n",
       "10E_M_1     Exc-HPF -33.583858  -8.758917  19.721622  22.792822\n",
       "10E_M_10    Exc-HPF -33.994816  -8.389750  21.309082  22.672712\n",
       "10E_M_101   Exc-HPF -33.219925  -7.649719  22.575315  19.733137\n",
       "10E_M_102   Exc-HPF -30.274584 -15.904350  22.628148   0.258059"
      ]
     },
     "execution_count": 9,
     "metadata": {},
     "output_type": "execute_result"
    }
   ],
   "source": [
    "level_1_final = level_1_final[['CellClass', 'umap_0', 'umap_1', 'tsne_0', 'tsne_1']]\n",
    "# add l1- prefix to coords to distinguish\n",
    "level_1_final.columns = ['CellClass', 'l1-umap_0', 'l1-umap_1', 'l1-tsne_0', 'l1-tsne_1']\n",
    "level_1_final.head()"
   ]
  },
  {
   "cell_type": "code",
   "execution_count": 10,
   "metadata": {
    "ExecuteTime": {
     "end_time": "2019-11-28T05:09:05.983138Z",
     "start_time": "2019-11-28T05:09:05.940089Z"
    }
   },
   "outputs": [],
   "source": [
    "level_1_final = level_1_final.reindex(input_cell_meta.index)"
   ]
  },
  {
   "cell_type": "code",
   "execution_count": 11,
   "metadata": {
    "ExecuteTime": {
     "end_time": "2019-11-28T05:09:05.999811Z",
     "start_time": "2019-11-28T05:09:05.984514Z"
    }
   },
   "outputs": [
    {
     "data": {
      "text/plain": [
       "Exc        53395\n",
       "Inh        26893\n",
       "GC          8224\n",
       "NonN        7920\n",
       "Exc-HPF     7908\n",
       "Name: CellClass, dtype: int64"
      ]
     },
     "execution_count": 11,
     "metadata": {},
     "output_type": "execute_result"
    }
   ],
   "source": [
    "level_1_final['CellClass'].value_counts()"
   ]
  },
  {
   "cell_type": "code",
   "execution_count": 12,
   "metadata": {
    "ExecuteTime": {
     "end_time": "2019-11-28T05:09:06.012610Z",
     "start_time": "2019-11-28T05:09:06.000972Z"
    }
   },
   "outputs": [
    {
     "name": "stdout",
     "output_type": "stream",
     "text": [
      "Level 1 Non Outlier Cells: 104340\n"
     ]
    }
   ],
   "source": [
    "print('Level 1 Non Outlier Cells:', level_1_final['CellClass'].value_counts().sum())"
   ]
  },
  {
   "cell_type": "markdown",
   "metadata": {},
   "source": [
    "### Level 2 Annotation"
   ]
  },
  {
   "cell_type": "code",
   "execution_count": 13,
   "metadata": {
    "ExecuteTime": {
     "end_time": "2019-11-28T05:09:06.411356Z",
     "start_time": "2019-11-28T05:09:06.013796Z"
    }
   },
   "outputs": [],
   "source": [
    "level2_final_paths = list(pathlib.Path('/home/hanliu/project/mouse_rostral_brain/').glob('study/Level2*/*/cell_tidy_data.final_annotation.msg'))\n",
    "level_2_final = pd.concat([pd.read_msgpack(i) for i in level2_final_paths], sort=True)"
   ]
  },
  {
   "cell_type": "code",
   "execution_count": 14,
   "metadata": {
    "ExecuteTime": {
     "end_time": "2019-11-28T05:09:06.467446Z",
     "start_time": "2019-11-28T05:09:06.412684Z"
    }
   },
   "outputs": [
    {
     "data": {
      "text/html": [
       "<div>\n",
       "<style scoped>\n",
       "    .dataframe tbody tr th:only-of-type {\n",
       "        vertical-align: middle;\n",
       "    }\n",
       "\n",
       "    .dataframe tbody tr th {\n",
       "        vertical-align: top;\n",
       "    }\n",
       "\n",
       "    .dataframe thead th {\n",
       "        text-align: right;\n",
       "    }\n",
       "</style>\n",
       "<table border=\"1\" class=\"dataframe\">\n",
       "  <thead>\n",
       "    <tr style=\"text-align: right;\">\n",
       "      <th></th>\n",
       "      <th>MajorType</th>\n",
       "      <th>l2-umap_0</th>\n",
       "      <th>l2-umap_1</th>\n",
       "      <th>l2-tsne_0</th>\n",
       "      <th>l2-tsne_1</th>\n",
       "    </tr>\n",
       "  </thead>\n",
       "  <tbody>\n",
       "    <tr>\n",
       "      <th>10E_M_1278</th>\n",
       "      <td>IT-L5</td>\n",
       "      <td>8.961619</td>\n",
       "      <td>-10.417772</td>\n",
       "      <td>19.368273</td>\n",
       "      <td>40.382910</td>\n",
       "    </tr>\n",
       "    <tr>\n",
       "      <th>10E_M_135</th>\n",
       "      <td>NP-L6</td>\n",
       "      <td>25.833487</td>\n",
       "      <td>3.810488</td>\n",
       "      <td>-8.360947</td>\n",
       "      <td>-23.706875</td>\n",
       "    </tr>\n",
       "    <tr>\n",
       "      <th>10E_M_1507</th>\n",
       "      <td>CT-L6</td>\n",
       "      <td>24.717123</td>\n",
       "      <td>11.881371</td>\n",
       "      <td>-24.749526</td>\n",
       "      <td>-45.465047</td>\n",
       "    </tr>\n",
       "    <tr>\n",
       "      <th>10E_M_1614</th>\n",
       "      <td>NP-L6</td>\n",
       "      <td>25.410795</td>\n",
       "      <td>3.615465</td>\n",
       "      <td>-7.734582</td>\n",
       "      <td>-23.002058</td>\n",
       "    </tr>\n",
       "    <tr>\n",
       "      <th>10E_M_1737</th>\n",
       "      <td>PT-L5</td>\n",
       "      <td>8.643658</td>\n",
       "      <td>7.802010</td>\n",
       "      <td>44.712395</td>\n",
       "      <td>12.111033</td>\n",
       "    </tr>\n",
       "  </tbody>\n",
       "</table>\n",
       "</div>"
      ],
      "text/plain": [
       "           MajorType  l2-umap_0  l2-umap_1  l2-tsne_0  l2-tsne_1\n",
       "10E_M_1278     IT-L5   8.961619 -10.417772  19.368273  40.382910\n",
       "10E_M_135      NP-L6  25.833487   3.810488  -8.360947 -23.706875\n",
       "10E_M_1507     CT-L6  24.717123  11.881371 -24.749526 -45.465047\n",
       "10E_M_1614     NP-L6  25.410795   3.615465  -7.734582 -23.002058\n",
       "10E_M_1737     PT-L5   8.643658   7.802010  44.712395  12.111033"
      ]
     },
     "execution_count": 14,
     "metadata": {},
     "output_type": "execute_result"
    }
   ],
   "source": [
    "level_2_final = level_2_final[['consensus_cluster_rescued_anno', 'umap_0', 'umap_1', 'tsne_0', 'tsne_1']]\n",
    "level_2_final.columns = ['MajorType', 'l2-umap_0', 'l2-umap_1', 'l2-tsne_0', 'l2-tsne_1']\n",
    "level_2_final.head()"
   ]
  },
  {
   "cell_type": "code",
   "execution_count": 15,
   "metadata": {
    "ExecuteTime": {
     "end_time": "2019-11-28T05:09:06.482946Z",
     "start_time": "2019-11-28T05:09:06.468655Z"
    }
   },
   "outputs": [
    {
     "data": {
      "text/plain": [
       "IT-L23       11919\n",
       "OLF-Exc       9681\n",
       "CT-L6         8716\n",
       "IT-L5         6640\n",
       "DG            6179\n",
       "IT-L6         4947\n",
       "PAL-Inh       4481\n",
       "IT-L4         4347\n",
       "CA1           4075\n",
       "MSN-D2        3340\n",
       "MSN-D1        3139\n",
       "ODC           3082\n",
       "MGE-Sst       2931\n",
       "PT-L5         2638\n",
       "MGE-Pvalb     2636\n",
       "CA3           2423\n",
       "ASC           2215\n",
       "LSX-Inh       2143\n",
       "Foxp2         1964\n",
       "D1L-Fstl4     1962\n",
       "NP-L6         1819\n",
       "CGE-Vip       1746\n",
       "OLF           1452\n",
       "CGE-Lamp5     1449\n",
       "L6b           1069\n",
       "CLA            945\n",
       "MGC            853\n",
       "OPC            777\n",
       "IG-CA2         745\n",
       "EP             666\n",
       "D1L-PAL        495\n",
       "VLMC           419\n",
       "CA3-St18       408\n",
       "Chd7           386\n",
       "Outlier        358\n",
       "ANP            331\n",
       "VLMC-Pia       225\n",
       "Unc5c          219\n",
       "PC             170\n",
       "DG-po          145\n",
       "Gfra1          110\n",
       "EC              95\n",
       "Name: MajorType, dtype: int64"
      ]
     },
     "execution_count": 15,
     "metadata": {},
     "output_type": "execute_result"
    }
   ],
   "source": [
    "level_2_final['MajorType'].value_counts()"
   ]
  },
  {
   "cell_type": "code",
   "execution_count": 16,
   "metadata": {
    "ExecuteTime": {
     "end_time": "2019-11-28T05:09:06.521214Z",
     "start_time": "2019-11-28T05:09:06.484100Z"
    }
   },
   "outputs": [],
   "source": [
    "level_2_final = level_2_final.reindex(input_cell_meta.index)"
   ]
  },
  {
   "cell_type": "code",
   "execution_count": 17,
   "metadata": {
    "ExecuteTime": {
     "end_time": "2019-11-28T05:09:06.540007Z",
     "start_time": "2019-11-28T05:09:06.522660Z"
    }
   },
   "outputs": [
    {
     "name": "stdout",
     "output_type": "stream",
     "text": [
      "Level 2 Non Outlier Cells: 103982\n"
     ]
    }
   ],
   "source": [
    "print('Level 2 Non Outlier Cells:', (level_2_final[~level_2_final['MajorType'].isna()]['MajorType'] != 'Outlier').sum())"
   ]
  },
  {
   "cell_type": "markdown",
   "metadata": {},
   "source": [
    "### Level 3 Annotation"
   ]
  },
  {
   "cell_type": "code",
   "execution_count": 18,
   "metadata": {
    "ExecuteTime": {
     "end_time": "2019-11-28T05:09:08.176180Z",
     "start_time": "2019-11-28T05:09:06.541193Z"
    }
   },
   "outputs": [],
   "source": [
    "level3_final_paths = list(pathlib.Path('/home/hanliu/project/mouse_rostral_brain/').glob('study/Level3*/*/cell_tidy_data.final_annotation.msg'))\n",
    "level_3_final = pd.concat([pd.read_msgpack(i) for i in level3_final_paths], sort=True)"
   ]
  },
  {
   "cell_type": "code",
   "execution_count": 19,
   "metadata": {
    "ExecuteTime": {
     "end_time": "2019-11-28T05:09:08.506287Z",
     "start_time": "2019-11-28T05:09:08.177501Z"
    }
   },
   "outputs": [
    {
     "data": {
      "text/html": [
       "<div>\n",
       "<style scoped>\n",
       "    .dataframe tbody tr th:only-of-type {\n",
       "        vertical-align: middle;\n",
       "    }\n",
       "\n",
       "    .dataframe tbody tr th {\n",
       "        vertical-align: top;\n",
       "    }\n",
       "\n",
       "    .dataframe thead th {\n",
       "        text-align: right;\n",
       "    }\n",
       "</style>\n",
       "<table border=\"1\" class=\"dataframe\">\n",
       "  <thead>\n",
       "    <tr style=\"text-align: right;\">\n",
       "      <th></th>\n",
       "      <th>SubType</th>\n",
       "      <th>l3-umap_0</th>\n",
       "      <th>l3-umap_1</th>\n",
       "      <th>l3-tsne_0</th>\n",
       "      <th>l3-tsne_1</th>\n",
       "    </tr>\n",
       "  </thead>\n",
       "  <tbody>\n",
       "    <tr>\n",
       "      <th>10E_M_1625</th>\n",
       "      <td>ASC cortex-olf</td>\n",
       "      <td>-1.541968</td>\n",
       "      <td>2.140316</td>\n",
       "      <td>-7.792882</td>\n",
       "      <td>30.459164</td>\n",
       "    </tr>\n",
       "    <tr>\n",
       "      <th>10E_M_1782</th>\n",
       "      <td>ASC str-hpf</td>\n",
       "      <td>12.281380</td>\n",
       "      <td>3.868788</td>\n",
       "      <td>5.614752</td>\n",
       "      <td>-35.372500</td>\n",
       "    </tr>\n",
       "    <tr>\n",
       "      <th>10E_M_1816</th>\n",
       "      <td>ASC str-hpf</td>\n",
       "      <td>6.088314</td>\n",
       "      <td>-0.233106</td>\n",
       "      <td>-11.659219</td>\n",
       "      <td>-5.471584</td>\n",
       "    </tr>\n",
       "    <tr>\n",
       "      <th>10E_M_1996</th>\n",
       "      <td>ASC mid</td>\n",
       "      <td>3.199804</td>\n",
       "      <td>2.194613</td>\n",
       "      <td>-6.513051</td>\n",
       "      <td>9.146799</td>\n",
       "    </tr>\n",
       "    <tr>\n",
       "      <th>10E_M_2000</th>\n",
       "      <td>ASC str-hpf</td>\n",
       "      <td>12.986892</td>\n",
       "      <td>2.863289</td>\n",
       "      <td>1.995223</td>\n",
       "      <td>-38.551920</td>\n",
       "    </tr>\n",
       "  </tbody>\n",
       "</table>\n",
       "</div>"
      ],
      "text/plain": [
       "                   SubType  l3-umap_0  l3-umap_1  l3-tsne_0  l3-tsne_1\n",
       "10E_M_1625  ASC cortex-olf  -1.541968   2.140316  -7.792882  30.459164\n",
       "10E_M_1782     ASC str-hpf  12.281380   3.868788   5.614752 -35.372500\n",
       "10E_M_1816     ASC str-hpf   6.088314  -0.233106 -11.659219  -5.471584\n",
       "10E_M_1996         ASC mid   3.199804   2.194613  -6.513051   9.146799\n",
       "10E_M_2000     ASC str-hpf  12.986892   2.863289   1.995223 -38.551920"
      ]
     },
     "execution_count": 19,
     "metadata": {},
     "output_type": "execute_result"
    }
   ],
   "source": [
    "level_3_final = level_3_final[['consensus_cluster_rescued_anno', 'umap_0', 'umap_1', 'tsne_0', 'tsne_1']]\n",
    "level_3_final.columns = ['SubType', 'l3-umap_0', 'l3-umap_1', 'l3-tsne_0', 'l3-tsne_1']\n",
    "level_3_final['SubType'] = level_2_final['MajorType'] + ' ' + level_3_final['SubType']\n",
    "level_3_final.loc[level_2_final['MajorType'] == 'Outlier', 'SubType'] = 'Outlier'\n",
    "\n",
    "level_3_final.head()"
   ]
  },
  {
   "cell_type": "code",
   "execution_count": 20,
   "metadata": {
    "ExecuteTime": {
     "end_time": "2019-11-28T05:09:08.629075Z",
     "start_time": "2019-11-28T05:09:08.507481Z"
    },
    "scrolled": false
   },
   "outputs": [
    {
     "name": "stdout",
     "output_type": "stream",
     "text": [
      "ANP\n",
      "     121  ANP anp-dg\n",
      "     210  ANP anp-olf-cnu\n",
      "ASC\n",
      "     406  ASC cortex-olf\n",
      "     734  ASC mid\n",
      "    1075  ASC str-hpf\n",
      "CA1\n",
      "     419  CA1 Ak5\n",
      "    2765  CA1 Chrm3\n",
      "     133  CA1 Kif26a\n",
      "      54  CA1 Lingo2\n",
      "     136  CA1 Outlier\n",
      "     568  CA1 Ptprg\n",
      "CA3\n",
      "    2284  CA3 Cadm2\n",
      "     139  CA3 Efnb2\n",
      "CA3-St18\n",
      "     107  CA3-St18 Epha5\n",
      "      81  CA3-St18 Nuak1\n",
      "     220  CA3-St18 Tead1\n",
      "CGE-Lamp5\n",
      "     243  CGE-Lamp5 Dock5\n",
      "     237  CGE-Lamp5 Grid1\n",
      "     732  CGE-Lamp5 Grk5\n",
      "      83  CGE-Lamp5 Nrxn3\n",
      "     154  CGE-Lamp5 Sorcs1\n",
      "CGE-Vip\n",
      "     180  CGE-Vip Ccser1\n",
      "     181  CGE-Vip Clstn2\n",
      "     234  CGE-Vip Fstl4\n",
      "     379  CGE-Vip Galnt17\n",
      "     103  CGE-Vip Grm8\n",
      "      65  CGE-Vip Ntng1\n",
      "     421  CGE-Vip Ptprm\n",
      "     183  CGE-Vip Robo1\n",
      "CLA\n",
      "     118  CLA Bcl11a\n",
      "     505  CLA Cdh8\n",
      "     322  CLA Nrp2\n",
      "CT-L6\n",
      "     664  CT-L6 Hcrtr2\n",
      "    4361  CT-L6 Il1rap\n",
      "     869  CT-L6 Map4\n",
      "    2822  CT-L6 Megf9\n",
      "Chd7\n",
      "      79  Chd7 Kcnc2\n",
      "     153  Chd7 Megf11\n",
      "     154  Chd7 Trpc7\n",
      "D1L-Fstl4\n",
      "     197  D1L-Fstl4 Cadm1\n",
      "     386  D1L-Fstl4 Crim1\n",
      "     416  D1L-Fstl4 Grm3\n",
      "     660  D1L-Fstl4 Sipa1l2\n",
      "     303  D1L-Fstl4 Trps1\n",
      "D1L-PAL\n",
      "     246  D1L-PAL Flrt2\n",
      "     249  D1L-PAL Plcxd3\n",
      "DG\n",
      "    6179  DG dg-all\n",
      "DG-po\n",
      "      55  DG-po Bcl11a\n",
      "      51  DG-po Calb2\n",
      "      39  DG-po Kctd8\n",
      "EC\n",
      "      83  EC Abhd2\n",
      "      12  EC Sema3g\n",
      "EP\n",
      "     144  EP Adcy8\n",
      "     224  EP Rgs8\n",
      "     298  EP Tspan5\n",
      "Foxp2\n",
      "     704  Foxp2 Dchs2\n",
      "     312  Foxp2 Homer2\n",
      "     431  Foxp2 Inpp4b\n",
      "     517  Foxp2 Trpc7\n",
      "Gfra1\n",
      "     110  Gfra1 Gfra1\n",
      "IG-CA2\n",
      "     369  IG-CA2 Chrm3\n",
      "     224  IG-CA2 Peak1\n",
      "     152  IG-CA2 Xpr1\n",
      "IT-L23\n",
      "    6551  IT-L23 Cux1\n",
      "    1528  IT-L23 Foxp1\n",
      "    1503  IT-L23 Ptprt\n",
      "    2337  IT-L23 Tenm2\n",
      "IT-L4\n",
      "    2742  IT-L4 Astn2\n",
      "    1605  IT-L4 Shc3\n",
      "IT-L5\n",
      "    2535  IT-L5 Cdh8\n",
      "    2216  IT-L5 Etv1\n",
      "    1889  IT-L5 Grik3\n",
      "IT-L6\n",
      "     865  IT-L6 Cadps2\n",
      "    1197  IT-L6 Fstl4\n",
      "    2676  IT-L6 Man1c1\n",
      "     209  IT-L6 Oxr1\n",
      "L6b\n",
      "     398  L6b Adcy8\n",
      "     177  L6b Kcnk2\n",
      "     457  L6b Nrp2\n",
      "      37  L6b Pkhd1\n",
      "LSX-Inh\n",
      "     333  LSX-Inh Cacna1i\n",
      "     440  LSX-Inh Dock10\n",
      "     296  LSX-Inh Enox1\n",
      "     272  LSX-Inh Foxp2\n",
      "      95  LSX-Inh Lats2\n",
      "     432  LSX-Inh Nxph1\n",
      "     275  LSX-Inh Zeb2\n",
      "MGC\n",
      "     853  MGC mgc-all\n",
      "MGE-Pvalb\n",
      "     236  MGE-Pvalb Cacna1i\n",
      "     423  MGE-Pvalb Cnih3\n",
      "     355  MGE-Pvalb Entpd3\n",
      "     472  MGE-Pvalb Gfra2\n",
      "       3  MGE-Pvalb Outlier\n",
      "      84  MGE-Pvalb Ptprk\n",
      "     415  MGE-Pvalb Sema5a\n",
      "     648  MGE-Pvalb Thsd7a\n",
      "MGE-Sst\n",
      "     282  MGE-Sst Bmper\n",
      "      94  MGE-Sst Chodl\n",
      "     374  MGE-Sst Dock4\n",
      "      80  MGE-Sst Etv1\n",
      "     695  MGE-Sst Frmd6\n",
      "     230  MGE-Sst Kcnip4\n",
      "       4  MGE-Sst Outlier\n",
      "     152  MGE-Sst Ptpre\n",
      "     281  MGE-Sst Rerg\n",
      "     224  MGE-Sst Rxra\n",
      "     387  MGE-Sst Ubtd1\n",
      "     128  MGE-Sst Unc5b\n",
      "MSN-D1\n",
      "    1349  MSN-D1 Hrh1\n",
      "     541  MSN-D1 Khdrbs3\n",
      "     322  MSN-D1 Ntn1\n",
      "       1  MSN-D1 Outlier\n",
      "     926  MSN-D1 Plxnc1\n",
      "MSN-D2\n",
      "     242  MSN-D2 Casz1\n",
      "     598  MSN-D2 Col14a1\n",
      "     431  MSN-D2 Nrp2\n",
      "    2069  MSN-D2 Slc24a2\n",
      "NP-L6\n",
      "     294  NP-L6 Boc\n",
      "     146  NP-L6 Cntnap4\n",
      "     367  NP-L6 Cntnap5a\n",
      "     193  NP-L6 Cyp7b1\n",
      "     446  NP-L6 Kcnab1\n",
      "     373  NP-L6 Olfml2b\n",
      "ODC\n",
      "    2216  ODC odc-large\n",
      "     866  ODC odc-small\n",
      "OLF\n",
      "      86  OLF Gabbr2\n",
      "      99  OLF Kcnd3\n",
      "      60  OLF Mapk10\n",
      "      84  OLF Outlier\n",
      "      60  OLF Pag1\n",
      "    1017  OLF Trpc4\n",
      "      46  OLF Xkr6\n",
      "OLF-Exc\n",
      "    3017  OLF-Exc Bmpr1b\n",
      "     730  OLF-Exc Cdh9\n",
      "     394  OLF-Exc Cux2\n",
      "    1681  OLF-Exc Lrrtm3\n",
      "      11  OLF-Exc Outlier\n",
      "     137  OLF-Exc Pld5\n",
      "     359  OLF-Exc Rmst\n",
      "    2395  OLF-Exc Sgcd\n",
      "     957  OLF-Exc Unc13c\n",
      "OPC\n",
      "     688  OPC opc-large\n",
      "      89  OPC opc-small\n",
      "PAL-Inh\n",
      "     197  PAL-Inh Chat\n",
      "      84  PAL-Inh Deptor\n",
      "     407  PAL-Inh Igdcc3\n",
      "     246  PAL-Inh Meis1\n",
      "    1969  PAL-Inh Meis2\n",
      "     187  PAL-Inh Onecut2\n",
      "     174  PAL-Inh Outlier\n",
      "     365  PAL-Inh Ptprd\n",
      "     242  PAL-Inh Rarb\n",
      "     185  PAL-Inh Tcf7l2\n",
      "     425  PAL-Inh Tmem178\n",
      "PC\n",
      "     170  PC pc-all\n",
      "PT-L5\n",
      "     144  PT-L5 Abca12\n",
      "     125  PT-L5 Astn2\n",
      "     406  PT-L5 Kcnh1\n",
      "     271  PT-L5 Nectin1\n",
      "       1  PT-L5 Outlier\n",
      "     266  PT-L5 Plcb4\n",
      "     385  PT-L5 Ptprt\n",
      "     631  PT-L5 Tenm2\n",
      "     204  PT-L5 Tmtc2\n",
      "     205  PT-L5 Unc5b\n",
      "Unc5c\n",
      "     219  Unc5c Unc5c\n",
      "VLMC\n",
      "     175  VLMC Col4a1\n",
      "     244  VLMC Mapk4\n",
      "VLMC-Pia\n",
      "     225  VLMC-Pia vlmc-pia-all\n"
     ]
    }
   ],
   "source": [
    "for major, sub_df in level_3_final.groupby(level_2_final['MajorType']):\n",
    "    print(major)\n",
    "    for sub_cluster, sub_cluster_df in sub_df.groupby('SubType'):\n",
    "        print(f'{sub_cluster_df.shape[0]:8d}  {sub_cluster}')"
   ]
  },
  {
   "cell_type": "code",
   "execution_count": 21,
   "metadata": {
    "ExecuteTime": {
     "end_time": "2019-11-28T05:09:08.648166Z",
     "start_time": "2019-11-28T05:09:08.630369Z"
    }
   },
   "outputs": [
    {
     "name": "stdout",
     "output_type": "stream",
     "text": [
      "Level 3 Non Outlier Cells: 103568\n"
     ]
    }
   ],
   "source": [
    "print('Level 3 Non Outlier Cells:', (level_3_final['SubType'].apply(lambda i: 'Outlier' not in i)).sum())"
   ]
  },
  {
   "cell_type": "markdown",
   "metadata": {},
   "source": [
    "## Combine"
   ]
  },
  {
   "cell_type": "code",
   "execution_count": 22,
   "metadata": {
    "ExecuteTime": {
     "end_time": "2019-11-28T05:09:08.861981Z",
     "start_time": "2019-11-28T05:09:08.649393Z"
    }
   },
   "outputs": [
    {
     "data": {
      "text/plain": [
       "(110294, 37)"
      ]
     },
     "execution_count": 22,
     "metadata": {},
     "output_type": "execute_result"
    }
   ],
   "source": [
    "total_cell_meta_with_na = pd.concat([input_cell_meta, level_1_final, level_2_final, level_3_final], axis=1)\n",
    "\n",
    "# minimum filter for consistancy, since early region do not have <500000 cells\n",
    "total_cell_meta_with_na = total_cell_meta_with_na[total_cell_meta_with_na['FinalReads'] > 500000].copy()\n",
    "total_cell_meta_with_na.shape"
   ]
  },
  {
   "cell_type": "code",
   "execution_count": 23,
   "metadata": {
    "ExecuteTime": {
     "end_time": "2019-11-28T05:09:08.871797Z",
     "start_time": "2019-11-28T05:09:08.863196Z"
    }
   },
   "outputs": [],
   "source": [
    "total_cell_meta_with_na['CellClass'] = total_cell_meta_with_na['CellClass'].fillna('Outlier')"
   ]
  },
  {
   "cell_type": "markdown",
   "metadata": {},
   "source": [
    "## Re-define cell class into three"
   ]
  },
  {
   "cell_type": "code",
   "execution_count": 24,
   "metadata": {
    "ExecuteTime": {
     "end_time": "2019-11-28T05:09:10.078301Z",
     "start_time": "2019-11-28T05:09:08.873096Z"
    }
   },
   "outputs": [],
   "source": [
    "def cell_class_rename(cell_class, major_type):\n",
    "    if cell_class in ['Exc', 'Exc-HPF']:\n",
    "        return 'Exc'\n",
    "    elif cell_class in ['Inh', 'NonN', 'Outlier']:\n",
    "        return cell_class\n",
    "    elif cell_class == 'GC':\n",
    "        if major_type == 'DG':\n",
    "            return 'Exc'  # DG granule join exc in dendrogram\n",
    "        elif major_type == 'OLF':\n",
    "            return 'Inh'  # OLF granule is Inh\n",
    "        elif major_type == 'ANP':\n",
    "            return 'NonN'  # Non-Mature-Neuron\n",
    "        elif major_type == 'Outlier':\n",
    "            return 'Outlier'\n",
    "        else:\n",
    "            raise ValueError(cell_class, major_type)\n",
    "    else:\n",
    "        raise ValueError(cell_class, major_type)\n",
    "\n",
    "\n",
    "total_cell_meta_with_na['L1CellClass'] = total_cell_meta_with_na['CellClass'].copy()\n",
    "total_cell_meta_with_na['CellClass'] = total_cell_meta_with_na[[\n",
    "    'CellClass', 'MajorType'\n",
    "]].apply(lambda i: cell_class_rename(*i.tolist()), axis=1)"
   ]
  },
  {
   "cell_type": "code",
   "execution_count": 25,
   "metadata": {
    "ExecuteTime": {
     "end_time": "2019-11-28T05:09:10.091530Z",
     "start_time": "2019-11-28T05:09:10.079602Z"
    }
   },
   "outputs": [
    {
     "data": {
      "text/plain": [
       "Exc        0.611837\n",
       "Inh        0.256995\n",
       "NonN       0.074809\n",
       "Outlier    0.056358\n",
       "Name: CellClass, dtype: float64"
      ]
     },
     "execution_count": 25,
     "metadata": {},
     "output_type": "execute_result"
    }
   ],
   "source": [
    "total_cell_meta_with_na['CellClass'].value_counts() / total_cell_meta_with_na.shape[0]"
   ]
  },
  {
   "cell_type": "markdown",
   "metadata": {},
   "source": [
    "## Tri-class UMAP TSNE"
   ]
  },
  {
   "cell_type": "code",
   "execution_count": 26,
   "metadata": {
    "ExecuteTime": {
     "end_time": "2019-11-28T05:09:10.490184Z",
     "start_time": "2019-11-28T05:09:10.094043Z"
    }
   },
   "outputs": [],
   "source": [
    "tri_class_final_paths = list(pathlib.Path('/home/hanliu/project/mouse_rostral_brain/').glob('study/ThreeCellClass/*/Coords/cell_tidy_data.msg'))\n",
    "tri_class_final = pd.concat([pd.read_msgpack(i) for i in tri_class_final_paths], sort=True)\n",
    "tri_class_coords = tri_class_final[['tsne_0', 'tsne_1', 'umap_0', 'umap_1']]\n",
    "tri_class_coords.columns = ['class_tsne_0', 'class_tsne_1', 'class_umap_0', 'class_umap_1']\n",
    "tri_class_coords = tri_class_coords.reindex(total_cell_meta_with_na.index).fillna(0)\n",
    "total_cell_meta_with_na = pd.concat([total_cell_meta_with_na, tri_class_coords], axis=1)"
   ]
  },
  {
   "cell_type": "code",
   "execution_count": 27,
   "metadata": {
    "ExecuteTime": {
     "end_time": "2019-11-28T05:09:10.494514Z",
     "start_time": "2019-11-28T05:09:10.491833Z"
    }
   },
   "outputs": [
    {
     "name": "stdout",
     "output_type": "stream",
     "text": [
      "103982 cells has tri-class coords\n"
     ]
    }
   ],
   "source": [
    "print(tri_class_final.shape[0], 'cells has tri-class coords')"
   ]
  },
  {
   "cell_type": "markdown",
   "metadata": {},
   "source": [
    "## Update region info"
   ]
  },
  {
   "cell_type": "code",
   "execution_count": 28,
   "metadata": {
    "ExecuteTime": {
     "end_time": "2019-11-28T05:09:10.502148Z",
     "start_time": "2019-11-28T05:09:10.495763Z"
    }
   },
   "outputs": [],
   "source": [
    "region_info = pd.read_csv('/home/hanliu/project/mouse_rostral_brain/metadata/BrainRegion.txt', \n",
    "                          sep='\\t', index_col='DissectionRegion').fillna('')"
   ]
  },
  {
   "cell_type": "code",
   "execution_count": 29,
   "metadata": {
    "ExecuteTime": {
     "end_time": "2019-11-28T05:09:28.628353Z",
     "start_time": "2019-11-28T05:09:10.503333Z"
    }
   },
   "outputs": [],
   "source": [
    "expend_region_info = total_cell_meta_with_na['Region'].apply(lambda i: region_info.loc[i])\n",
    "for col_name, col in expend_region_info.iteritems():\n",
    "    total_cell_meta_with_na[col_name] = col"
   ]
  },
  {
   "cell_type": "code",
   "execution_count": 30,
   "metadata": {
    "ExecuteTime": {
     "end_time": "2019-11-28T05:09:28.718049Z",
     "start_time": "2019-11-28T05:09:28.629947Z"
    }
   },
   "outputs": [],
   "source": [
    "# add replicate column\n",
    "total_cell_meta_with_na['Replicate'] = total_cell_meta_with_na[\n",
    "    'Region'] + '-' + total_cell_meta_with_na['FACS_Date'].astype(str)"
   ]
  },
  {
   "cell_type": "markdown",
   "metadata": {},
   "source": [
    "## Save file"
   ]
  },
  {
   "cell_type": "code",
   "execution_count": 31,
   "metadata": {
    "ExecuteTime": {
     "end_time": "2019-11-28T05:09:28.903602Z",
     "start_time": "2019-11-28T05:09:28.719438Z"
    }
   },
   "outputs": [
    {
     "data": {
      "text/plain": [
       "AllcPath                     0\n",
       "CCC_Rate                     0\n",
       "CG_Rate                      0\n",
       "CG_RateAdj                   0\n",
       "CH_Rate                      0\n",
       "CH_RateAdj                   0\n",
       "FinalReads                   0\n",
       "InputReads                   0\n",
       "MappedReads                  0\n",
       "Region                       0\n",
       "index_name                   0\n",
       "uid                          0\n",
       "BamFilteringRate             0\n",
       "MappingRate                  0\n",
       "Pos96                        0\n",
       "Plate                        0\n",
       "Col96                        0\n",
       "Row96                        0\n",
       "Col384                       0\n",
       "Row384                       0\n",
       "FACS_Date                    0\n",
       "Slice                        0\n",
       "CellClass                    0\n",
       "l1-umap_0                 5954\n",
       "l1-umap_1                 5954\n",
       "l1-tsne_0                 5954\n",
       "l1-tsne_1                 5954\n",
       "MajorType                 5954\n",
       "l2-umap_0                 5954\n",
       "l2-umap_1                 5954\n",
       "l2-tsne_0                 5954\n",
       "l2-tsne_1                 5954\n",
       "SubType                   6312\n",
       "l3-umap_0                 6312\n",
       "l3-umap_1                 6312\n",
       "l3-tsne_0                 6312\n",
       "l3-tsne_1                 6312\n",
       "L1CellClass                  0\n",
       "class_tsne_0                 0\n",
       "class_tsne_1                 0\n",
       "class_umap_0                 0\n",
       "class_umap_1                 0\n",
       "Order                        0\n",
       "RegionName                   0\n",
       "MajorRegion                  0\n",
       "SubRegion                    0\n",
       "DetailRegion                 0\n",
       "PotentialOverlap (MMB)       0\n",
       "Anterior (CCF coords)        0\n",
       "Posterior (CCF coords)       0\n",
       "MajorRegionColor             0\n",
       "SubRegionColor               0\n",
       "DissectionRegionColor        0\n",
       "Replicate                    0\n",
       "dtype: int64"
      ]
     },
     "execution_count": 31,
     "metadata": {},
     "output_type": "execute_result"
    }
   ],
   "source": [
    "total_cell_meta_with_na.isna().sum()"
   ]
  },
  {
   "cell_type": "code",
   "execution_count": 32,
   "metadata": {
    "ExecuteTime": {
     "end_time": "2019-11-28T05:09:29.410940Z",
     "start_time": "2019-11-28T05:09:28.904888Z"
    }
   },
   "outputs": [],
   "source": [
    "total_cell_meta_with_na.to_msgpack('TotalClusteringResults.withOutlierNA.msg')"
   ]
  },
  {
   "cell_type": "code",
   "execution_count": 33,
   "metadata": {
    "ExecuteTime": {
     "end_time": "2019-11-28T05:09:29.474473Z",
     "start_time": "2019-11-28T05:09:29.414442Z"
    }
   },
   "outputs": [],
   "source": [
    "total_cell_meta_no_na = total_cell_meta_with_na.dropna(subset=['CellClass', 'MajorType', 'SubType'], how='any')"
   ]
  },
  {
   "cell_type": "code",
   "execution_count": 34,
   "metadata": {
    "ExecuteTime": {
     "end_time": "2019-11-28T05:09:30.027076Z",
     "start_time": "2019-11-28T05:09:29.475883Z"
    }
   },
   "outputs": [],
   "source": [
    "assert total_cell_meta_no_na.isna().sum().sum() == 0\n",
    "total_cell_meta_no_na.to_msgpack('TotalClusteringResults.msg')"
   ]
  },
  {
   "cell_type": "code",
   "execution_count": 35,
   "metadata": {
    "ExecuteTime": {
     "end_time": "2019-11-28T05:09:30.046986Z",
     "start_time": "2019-11-28T05:09:30.028521Z"
    }
   },
   "outputs": [
    {
     "data": {
      "text/html": [
       "<div>\n",
       "<style scoped>\n",
       "    .dataframe tbody tr th:only-of-type {\n",
       "        vertical-align: middle;\n",
       "    }\n",
       "\n",
       "    .dataframe tbody tr th {\n",
       "        vertical-align: top;\n",
       "    }\n",
       "\n",
       "    .dataframe thead th {\n",
       "        text-align: right;\n",
       "    }\n",
       "</style>\n",
       "<table border=\"1\" class=\"dataframe\">\n",
       "  <thead>\n",
       "    <tr style=\"text-align: right;\">\n",
       "      <th></th>\n",
       "      <th>AllcPath</th>\n",
       "      <th>CCC_Rate</th>\n",
       "      <th>CG_Rate</th>\n",
       "      <th>CG_RateAdj</th>\n",
       "      <th>CH_Rate</th>\n",
       "      <th>CH_RateAdj</th>\n",
       "      <th>FinalReads</th>\n",
       "      <th>InputReads</th>\n",
       "      <th>MappedReads</th>\n",
       "      <th>Region</th>\n",
       "      <th>...</th>\n",
       "      <th>MajorRegion</th>\n",
       "      <th>SubRegion</th>\n",
       "      <th>DetailRegion</th>\n",
       "      <th>PotentialOverlap (MMB)</th>\n",
       "      <th>Anterior (CCF coords)</th>\n",
       "      <th>Posterior (CCF coords)</th>\n",
       "      <th>MajorRegionColor</th>\n",
       "      <th>SubRegionColor</th>\n",
       "      <th>DissectionRegionColor</th>\n",
       "      <th>Replicate</th>\n",
       "    </tr>\n",
       "  </thead>\n",
       "  <tbody>\n",
       "    <tr>\n",
       "      <th>10E_M_0</th>\n",
       "      <td>/gale/raidix/rdx-4/mapping/10E/CEMBA190625-10E...</td>\n",
       "      <td>0.008198</td>\n",
       "      <td>0.822633</td>\n",
       "      <td>0.821166</td>\n",
       "      <td>0.041640</td>\n",
       "      <td>0.033718</td>\n",
       "      <td>1626504.0</td>\n",
       "      <td>4407752</td>\n",
       "      <td>2892347.0</td>\n",
       "      <td>10E</td>\n",
       "      <td>...</td>\n",
       "      <td>HPF</td>\n",
       "      <td>CA1-3</td>\n",
       "      <td>CA1, CA2, CA3, SUB, ProS</td>\n",
       "      <td>PA, HATA</td>\n",
       "      <td>7500</td>\n",
       "      <td>8100</td>\n",
       "      <td>#d62728</td>\n",
       "      <td>#d62728</td>\n",
       "      <td>#FF6347</td>\n",
       "      <td>10E-190625</td>\n",
       "    </tr>\n",
       "    <tr>\n",
       "      <th>10E_M_1</th>\n",
       "      <td>/gale/raidix/rdx-4/mapping/10E/CEMBA190625-10E...</td>\n",
       "      <td>0.006019</td>\n",
       "      <td>0.743035</td>\n",
       "      <td>0.741479</td>\n",
       "      <td>0.024127</td>\n",
       "      <td>0.018218</td>\n",
       "      <td>2009998.0</td>\n",
       "      <td>5524084</td>\n",
       "      <td>3657352.0</td>\n",
       "      <td>10E</td>\n",
       "      <td>...</td>\n",
       "      <td>HPF</td>\n",
       "      <td>CA1-3</td>\n",
       "      <td>CA1, CA2, CA3, SUB, ProS</td>\n",
       "      <td>PA, HATA</td>\n",
       "      <td>7500</td>\n",
       "      <td>8100</td>\n",
       "      <td>#d62728</td>\n",
       "      <td>#d62728</td>\n",
       "      <td>#FF6347</td>\n",
       "      <td>10E-190625</td>\n",
       "    </tr>\n",
       "    <tr>\n",
       "      <th>10E_M_10</th>\n",
       "      <td>/gale/raidix/rdx-4/mapping/10E/CEMBA190625-10E...</td>\n",
       "      <td>0.006569</td>\n",
       "      <td>0.750172</td>\n",
       "      <td>0.748520</td>\n",
       "      <td>0.027665</td>\n",
       "      <td>0.021235</td>\n",
       "      <td>1383636.0</td>\n",
       "      <td>3455260</td>\n",
       "      <td>2172987.0</td>\n",
       "      <td>10E</td>\n",
       "      <td>...</td>\n",
       "      <td>HPF</td>\n",
       "      <td>CA1-3</td>\n",
       "      <td>CA1, CA2, CA3, SUB, ProS</td>\n",
       "      <td>PA, HATA</td>\n",
       "      <td>7500</td>\n",
       "      <td>8100</td>\n",
       "      <td>#d62728</td>\n",
       "      <td>#d62728</td>\n",
       "      <td>#FF6347</td>\n",
       "      <td>10E-190625</td>\n",
       "    </tr>\n",
       "    <tr>\n",
       "      <th>10E_M_101</th>\n",
       "      <td>/gale/raidix/rdx-4/mapping/10E/CEMBA190625-10E...</td>\n",
       "      <td>0.006353</td>\n",
       "      <td>0.760898</td>\n",
       "      <td>0.759369</td>\n",
       "      <td>0.026547</td>\n",
       "      <td>0.020323</td>\n",
       "      <td>2474670.0</td>\n",
       "      <td>7245482</td>\n",
       "      <td>4778768.0</td>\n",
       "      <td>10E</td>\n",
       "      <td>...</td>\n",
       "      <td>HPF</td>\n",
       "      <td>CA1-3</td>\n",
       "      <td>CA1, CA2, CA3, SUB, ProS</td>\n",
       "      <td>PA, HATA</td>\n",
       "      <td>7500</td>\n",
       "      <td>8100</td>\n",
       "      <td>#d62728</td>\n",
       "      <td>#d62728</td>\n",
       "      <td>#FF6347</td>\n",
       "      <td>10E-190625</td>\n",
       "    </tr>\n",
       "    <tr>\n",
       "      <th>10E_M_102</th>\n",
       "      <td>/gale/raidix/rdx-4/mapping/10E/CEMBA190625-10E...</td>\n",
       "      <td>0.005409</td>\n",
       "      <td>0.752980</td>\n",
       "      <td>0.751637</td>\n",
       "      <td>0.019497</td>\n",
       "      <td>0.014164</td>\n",
       "      <td>2430290.0</td>\n",
       "      <td>7004754</td>\n",
       "      <td>4609570.0</td>\n",
       "      <td>10E</td>\n",
       "      <td>...</td>\n",
       "      <td>HPF</td>\n",
       "      <td>CA1-3</td>\n",
       "      <td>CA1, CA2, CA3, SUB, ProS</td>\n",
       "      <td>PA, HATA</td>\n",
       "      <td>7500</td>\n",
       "      <td>8100</td>\n",
       "      <td>#d62728</td>\n",
       "      <td>#d62728</td>\n",
       "      <td>#FF6347</td>\n",
       "      <td>10E-190625</td>\n",
       "    </tr>\n",
       "  </tbody>\n",
       "</table>\n",
       "<p>5 rows × 54 columns</p>\n",
       "</div>"
      ],
      "text/plain": [
       "                                                    AllcPath  CCC_Rate  \\\n",
       "10E_M_0    /gale/raidix/rdx-4/mapping/10E/CEMBA190625-10E...  0.008198   \n",
       "10E_M_1    /gale/raidix/rdx-4/mapping/10E/CEMBA190625-10E...  0.006019   \n",
       "10E_M_10   /gale/raidix/rdx-4/mapping/10E/CEMBA190625-10E...  0.006569   \n",
       "10E_M_101  /gale/raidix/rdx-4/mapping/10E/CEMBA190625-10E...  0.006353   \n",
       "10E_M_102  /gale/raidix/rdx-4/mapping/10E/CEMBA190625-10E...  0.005409   \n",
       "\n",
       "            CG_Rate  CG_RateAdj   CH_Rate  CH_RateAdj  FinalReads  InputReads  \\\n",
       "10E_M_0    0.822633    0.821166  0.041640    0.033718   1626504.0     4407752   \n",
       "10E_M_1    0.743035    0.741479  0.024127    0.018218   2009998.0     5524084   \n",
       "10E_M_10   0.750172    0.748520  0.027665    0.021235   1383636.0     3455260   \n",
       "10E_M_101  0.760898    0.759369  0.026547    0.020323   2474670.0     7245482   \n",
       "10E_M_102  0.752980    0.751637  0.019497    0.014164   2430290.0     7004754   \n",
       "\n",
       "           MappedReads Region  ... MajorRegion SubRegion  \\\n",
       "10E_M_0      2892347.0    10E  ...         HPF     CA1-3   \n",
       "10E_M_1      3657352.0    10E  ...         HPF     CA1-3   \n",
       "10E_M_10     2172987.0    10E  ...         HPF     CA1-3   \n",
       "10E_M_101    4778768.0    10E  ...         HPF     CA1-3   \n",
       "10E_M_102    4609570.0    10E  ...         HPF     CA1-3   \n",
       "\n",
       "                       DetailRegion  PotentialOverlap (MMB)  \\\n",
       "10E_M_0    CA1, CA2, CA3, SUB, ProS                PA, HATA   \n",
       "10E_M_1    CA1, CA2, CA3, SUB, ProS                PA, HATA   \n",
       "10E_M_10   CA1, CA2, CA3, SUB, ProS                PA, HATA   \n",
       "10E_M_101  CA1, CA2, CA3, SUB, ProS                PA, HATA   \n",
       "10E_M_102  CA1, CA2, CA3, SUB, ProS                PA, HATA   \n",
       "\n",
       "          Anterior (CCF coords) Posterior (CCF coords)  MajorRegionColor  \\\n",
       "10E_M_0                    7500                   8100           #d62728   \n",
       "10E_M_1                    7500                   8100           #d62728   \n",
       "10E_M_10                   7500                   8100           #d62728   \n",
       "10E_M_101                  7500                   8100           #d62728   \n",
       "10E_M_102                  7500                   8100           #d62728   \n",
       "\n",
       "           SubRegionColor  DissectionRegionColor   Replicate  \n",
       "10E_M_0           #d62728                #FF6347  10E-190625  \n",
       "10E_M_1           #d62728                #FF6347  10E-190625  \n",
       "10E_M_10          #d62728                #FF6347  10E-190625  \n",
       "10E_M_101         #d62728                #FF6347  10E-190625  \n",
       "10E_M_102         #d62728                #FF6347  10E-190625  \n",
       "\n",
       "[5 rows x 54 columns]"
      ]
     },
     "execution_count": 35,
     "metadata": {},
     "output_type": "execute_result"
    }
   ],
   "source": [
    "total_cell_meta_no_na.head()"
   ]
  },
  {
   "cell_type": "code",
   "execution_count": 36,
   "metadata": {
    "ExecuteTime": {
     "end_time": "2019-11-28T05:09:30.050861Z",
     "start_time": "2019-11-28T05:09:30.048133Z"
    }
   },
   "outputs": [
    {
     "name": "stdout",
     "output_type": "stream",
     "text": [
      "110294 cells including outlier\n",
      "103982 cells excluding outlier\n"
     ]
    }
   ],
   "source": [
    "print(total_cell_meta_with_na.shape[0], 'cells including outlier')\n",
    "print(total_cell_meta_no_na.shape[0], 'cells excluding outlier')"
   ]
  },
  {
   "cell_type": "code",
   "execution_count": 37,
   "metadata": {
    "ExecuteTime": {
     "end_time": "2019-11-28T05:09:30.063904Z",
     "start_time": "2019-11-28T05:09:30.051991Z"
    }
   },
   "outputs": [
    {
     "data": {
      "text/plain": [
       "Exc     67472\n",
       "Inh     28343\n",
       "NonN     8167\n",
       "Name: CellClass, dtype: int64"
      ]
     },
     "execution_count": 37,
     "metadata": {},
     "output_type": "execute_result"
    }
   ],
   "source": [
    "total_cell_meta_no_na['CellClass'].value_counts()"
   ]
  },
  {
   "cell_type": "markdown",
   "metadata": {},
   "source": [
    "## Plot"
   ]
  },
  {
   "cell_type": "code",
   "execution_count": 38,
   "metadata": {
    "ExecuteTime": {
     "end_time": "2019-11-28T05:09:30.066799Z",
     "start_time": "2019-11-28T05:09:30.065026Z"
    }
   },
   "outputs": [],
   "source": [
    "cell_tidy_data = total_cell_meta_no_na\n",
    "coord_base='l1-umap'"
   ]
  },
  {
   "cell_type": "code",
   "execution_count": null,
   "metadata": {
    "deletable": false,
    "editable": false,
    "run_control": {
     "frozen": true
    }
   },
   "outputs": [],
   "source": [
    "fig, (ax1, ax2) = plt.subplots(figsize=(20, 10), dpi=300, ncols=2)\n",
    "categorical_scatter(data=cell_tidy_data,\n",
    "                    coord_base=coord_base,\n",
    "                    ax=ax1,\n",
    "                    scatter_kws=dict(s=0.7),\n",
    "                    text_anno_kws=dict(fontsize=5),\n",
    "                    max_points=None,\n",
    "                    hue='CellClass',\n",
    "                    palette='tab20',\n",
    "                    text_anno='CellClass')\n",
    "ax1.set(title='Level 1 - Cell Class')\n",
    "\n",
    "categorical_scatter(data=cell_tidy_data,\n",
    "                    coord_base=coord_base,\n",
    "                    ax=ax2,\n",
    "                    scatter_kws=dict(s=0.7),\n",
    "                    text_anno_kws=dict(fontsize=5),\n",
    "                    max_points=None,\n",
    "                    hue='MajorType',\n",
    "                    palette='tab20',\n",
    "                    text_anno='MajorType')\n",
    "ax2.set(title='Level 2 - MajorType')\n",
    "\n",
    "fig.suptitle('Cluster Annotation')"
   ]
  },
  {
   "cell_type": "code",
   "execution_count": null,
   "metadata": {
    "deletable": false,
    "editable": false,
    "run_control": {
     "frozen": true
    }
   },
   "outputs": [],
   "source": [
    "fig, (ax1, ax2) = plt.subplots(figsize=(20, 10), dpi=300, ncols=2)\n",
    "categorical_scatter(data=cell_tidy_data,\n",
    "                    coord_base=coord_base,\n",
    "                    ax=ax1,\n",
    "                    scatter_kws=dict(s=0.7),\n",
    "                    text_anno_kws=dict(fontsize=5),\n",
    "                    max_points=None,\n",
    "                    hue='MajorRegion',\n",
    "                    palette=major_region_palette,\n",
    "                    text_anno='MajorType')\n",
    "ax1.set(title='Major Region')\n",
    "\n",
    "categorical_scatter(data=cell_tidy_data,\n",
    "                    coord_base=coord_base,\n",
    "                    ax=ax2,\n",
    "                    scatter_kws=dict(s=0.7),\n",
    "                    text_anno_kws=dict(fontsize=5),\n",
    "                    max_points=None,\n",
    "                    hue='SubRegion',\n",
    "                    palette=sub_region_palette,\n",
    "                    text_anno='MajorType')\n",
    "ax2.set(title='Sub-Region')\n",
    "\n",
    "fig.suptitle('Brain Region Annotation')"
   ]
  },
  {
   "cell_type": "code",
   "execution_count": null,
   "metadata": {
    "deletable": false,
    "editable": false,
    "run_control": {
     "frozen": true
    }
   },
   "outputs": [],
   "source": [
    "fig, ax = plt.subplots(figsize=(6, 6), dpi=300)\n",
    "categorical_scatter(data=cell_tidy_data,\n",
    "                    coord_base=coord_base,\n",
    "                    ax=ax,\n",
    "                    scatter_kws=dict(s=0.7),\n",
    "                    text_anno_kws=dict(fontsize=5),\n",
    "                    max_points=None,\n",
    "                    show_legend=True,\n",
    "                    legend_kws=dict(ncol=2, bbox_to_anchor=(1.05, 0.9)),\n",
    "                    hue='SubRegion',\n",
    "                    palette=sub_region_palette,\n",
    "                    text_anno='MajorType'\n",
    "                   )\n",
    "ax.set(title='Sub-Region')"
   ]
  },
  {
   "cell_type": "code",
   "execution_count": 39,
   "metadata": {
    "ExecuteTime": {
     "end_time": "2019-11-28T05:09:30.069441Z",
     "start_time": "2019-11-28T05:09:30.067893Z"
    },
    "scrolled": true
   },
   "outputs": [],
   "source": [
    "# sub_type_google_sheet = total_cell_meta_no_na.groupby(['CellClass', 'MajorType', 'SubType']).apply(lambda i: i.shape[0]).reset_index()\n",
    "# sub_type_google_sheet.columns = ['CellClass', 'MajorType', 'SubType', 'CellCount']\n",
    "# sub_type_google_sheet['Markers'] = sub_type_google_sheet['SubType'].apply(lambda i: i.split(' ')[1])\n",
    "# sub_type_google_sheet = sub_type_google_sheet[sub_type_google_sheet['Markers'] != 'Outlier']\n",
    "# print(sub_type_google_sheet.to_csv(sep='\\t', index=None))"
   ]
  },
  {
   "cell_type": "code",
   "execution_count": null,
   "metadata": {},
   "outputs": [],
   "source": []
  },
  {
   "cell_type": "code",
   "execution_count": null,
   "metadata": {},
   "outputs": [],
   "source": []
  }
 ],
 "metadata": {
  "hide_input": false,
  "kernelspec": {
   "display_name": "Python 3",
   "language": "python",
   "name": "python3"
  },
  "language_info": {
   "codemirror_mode": {
    "name": "ipython",
    "version": 3
   },
   "file_extension": ".py",
   "mimetype": "text/x-python",
   "name": "python",
   "nbconvert_exporter": "python",
   "pygments_lexer": "ipython3",
   "version": "3.7.3"
  },
  "toc": {
   "base_numbering": 1,
   "nav_menu": {},
   "number_sections": true,
   "sideBar": true,
   "skip_h1_title": true,
   "title_cell": "Table of Contents",
   "title_sidebar": "Contents",
   "toc_cell": true,
   "toc_position": {},
   "toc_section_display": true,
   "toc_window_display": true
  }
 },
 "nbformat": 4,
 "nbformat_minor": 2
}
