{
 "cells": [
  {
   "cell_type": "code",
   "execution_count": 7,
   "metadata": {
    "ExecuteTime": {
     "end_time": "2020-03-11T06:14:09.081903Z",
     "start_time": "2020-03-11T06:14:09.044667Z"
    }
   },
   "outputs": [],
   "source": [
    "import pandas as pd\n",
    "import numpy as np\n",
    "import seaborn as sns"
   ]
  },
  {
   "cell_type": "code",
   "execution_count": 8,
   "metadata": {
    "ExecuteTime": {
     "end_time": "2020-03-11T06:14:12.444978Z",
     "start_time": "2020-03-11T06:14:09.294995Z"
    }
   },
   "outputs": [
    {
     "name": "stderr",
     "output_type": "stream",
     "text": [
      "/home/hanliu/miniconda3/envs/clustering/lib/python3.7/site-packages/IPython/core/interactiveshell.py:3326: FutureWarning: The read_msgpack is deprecated and will be removed in a future version.\n",
      "It is recommended to use pyarrow for on-the-wire transmission of pandas objects.\n",
      "  exec(code_obj, self.user_global_ns, self.user_ns)\n"
     ]
    }
   ],
   "source": [
    "cell_meta = pd.read_msgpack('TotalClusteringResults.msg')"
   ]
  },
  {
   "cell_type": "code",
   "execution_count": 9,
   "metadata": {
    "ExecuteTime": {
     "end_time": "2020-03-11T06:14:12.754674Z",
     "start_time": "2020-03-11T06:14:12.448990Z"
    }
   },
   "outputs": [
    {
     "data": {
      "text/plain": [
       "Index(['AllcPath', 'CCC_Rate', 'CG_Rate', 'CG_RateAdj', 'CH_Rate',\n",
       "       'CH_RateAdj', 'FinalReads', 'InputReads', 'MappedReads', 'Region',\n",
       "       'index_name', 'uid', 'BamFilteringRate', 'MappingRate', 'Pos96',\n",
       "       'Plate', 'Col96', 'Row96', 'Col384', 'Row384', 'FACS_Date', 'Slice',\n",
       "       'CellClass', 'l1-umap_0', 'l1-umap_1', 'l1-tsne_0', 'l1-tsne_1',\n",
       "       'MajorType', 'l2-umap_0', 'l2-umap_1', 'l2-tsne_0', 'l2-tsne_1',\n",
       "       'SubType', 'l3-umap_0', 'l3-umap_1', 'l3-tsne_0', 'l3-tsne_1',\n",
       "       'L1CellClass', 'class_tsne_0', 'class_tsne_1', 'class_umap_0',\n",
       "       'class_umap_1', 'Order', 'RegionName', 'MajorRegion', 'SubRegion',\n",
       "       'DetailRegion', 'PotentialOverlap (MMB)', 'Anterior (CCF coords)',\n",
       "       'Posterior (CCF coords)', 'MajorRegionColor', 'SubRegionColor',\n",
       "       'DissectionRegionColor', 'Replicate'],\n",
       "      dtype='object')"
      ]
     },
     "execution_count": 9,
     "metadata": {},
     "output_type": "execute_result"
    }
   ],
   "source": [
    "cell_meta.columns"
   ]
  },
  {
   "cell_type": "code",
   "execution_count": 10,
   "metadata": {
    "ExecuteTime": {
     "end_time": "2020-03-11T06:14:13.876517Z",
     "start_time": "2020-03-11T06:14:12.769593Z"
    }
   },
   "outputs": [
    {
     "name": "stdout",
     "output_type": "stream",
     "text": [
      "10E\t1695\n",
      "10F\t543\n",
      "11E\t2437\n",
      "11F\t2454\n",
      "1A\t2385\n",
      "1B\t2736\n",
      "1C\t2432\n",
      "2A\t2519\n",
      "2B\t2381\n",
      "2C\t2148\n",
      "2D\t2387\n",
      "2E\t2628\n",
      "3A\t2590\n",
      "3B\t2392\n",
      "3C\t2387\n",
      "3D\t2345\n",
      "3E\t2516\n",
      "3F\t2086\n",
      "4A\t2419\n",
      "4B\t2768\n",
      "4C\t1961\n",
      "4D\t2513\n",
      "4E\t1756\n",
      "4F\t2555\n",
      "4G\t1967\n",
      "4H\t2087\n",
      "5A\t2367\n",
      "5B\t1986\n",
      "5C\t2329\n",
      "5D\t2319\n",
      "5E\t2584\n",
      "5F\t2233\n",
      "5G\t2598\n",
      "5H\t2616\n",
      "5J\t1234\n",
      "6A\t2623\n",
      "6B\t2571\n",
      "6C\t2471\n",
      "6D\t2539\n",
      "7B\t2095\n",
      "8B\t2474\n",
      "8E\t2585\n",
      "8J\t2290\n",
      "9H\t2465\n",
      "9J\t2516\n"
     ]
    }
   ],
   "source": [
    "for region, number in cell_meta.groupby('Region').apply(lambda i: i.shape[0]).items():\n",
    "    print(region, number, sep='\\t')"
   ]
  },
  {
   "cell_type": "code",
   "execution_count": 5,
   "metadata": {
    "ExecuteTime": {
     "end_time": "2020-03-09T00:49:25.742725Z",
     "start_time": "2020-03-09T00:49:25.679667Z"
    }
   },
   "outputs": [
    {
     "data": {
      "text/plain": [
       "CellClass\n",
       "Exc     67472\n",
       "Inh     28343\n",
       "NonN     8167\n",
       "dtype: int64"
      ]
     },
     "execution_count": 5,
     "metadata": {},
     "output_type": "execute_result"
    }
   ],
   "source": [
    "cell_meta.groupby('CellClass').apply(lambda i: i.shape[0])"
   ]
  },
  {
   "cell_type": "code",
   "execution_count": 6,
   "metadata": {
    "ExecuteTime": {
     "end_time": "2020-02-29T04:45:13.329588Z",
     "start_time": "2020-02-29T04:45:13.243596Z"
    }
   },
   "outputs": [
    {
     "data": {
      "text/plain": [
       "CellClass\n",
       "Exc     0.648882\n",
       "Inh     0.272576\n",
       "NonN    0.078542\n",
       "dtype: float64"
      ]
     },
     "execution_count": 6,
     "metadata": {},
     "output_type": "execute_result"
    }
   ],
   "source": [
    "cell_meta.groupby('CellClass').apply(lambda i: i.shape[0] / cell_meta.shape[0])"
   ]
  },
  {
   "cell_type": "code",
   "execution_count": 7,
   "metadata": {
    "ExecuteTime": {
     "end_time": "2020-02-29T04:45:13.618977Z",
     "start_time": "2020-02-29T04:45:13.443587Z"
    }
   },
   "outputs": [
    {
     "data": {
      "text/plain": [
       "CellClass\n",
       "Exc     18\n",
       "Inh     14\n",
       "NonN     9\n",
       "dtype: int64"
      ]
     },
     "execution_count": 7,
     "metadata": {},
     "output_type": "execute_result"
    }
   ],
   "source": [
    "cell_meta[cell_meta['SubType'].apply(lambda i: 'Outlier' not in i)].groupby('CellClass').apply(lambda i: i['MajorType'].unique().size)"
   ]
  },
  {
   "cell_type": "code",
   "execution_count": 8,
   "metadata": {
    "ExecuteTime": {
     "end_time": "2020-02-29T04:45:13.854210Z",
     "start_time": "2020-02-29T04:45:13.695252Z"
    }
   },
   "outputs": [
    {
     "data": {
      "text/plain": [
       "CellClass\n",
       "Exc     68\n",
       "Inh     77\n",
       "NonN    16\n",
       "dtype: int64"
      ]
     },
     "execution_count": 8,
     "metadata": {},
     "output_type": "execute_result"
    }
   ],
   "source": [
    "cell_meta[cell_meta['SubType'].apply(lambda i: 'Outlier' not in i)].groupby('CellClass').apply(lambda i: i['SubType'].unique().size)"
   ]
  },
  {
   "cell_type": "code",
   "execution_count": 9,
   "metadata": {
    "ExecuteTime": {
     "end_time": "2020-02-29T04:45:14.069650Z",
     "start_time": "2020-02-29T04:45:14.036870Z"
    }
   },
   "outputs": [
    {
     "data": {
      "text/html": [
       "<div>\n",
       "<style scoped>\n",
       "    .dataframe tbody tr th:only-of-type {\n",
       "        vertical-align: middle;\n",
       "    }\n",
       "\n",
       "    .dataframe tbody tr th {\n",
       "        vertical-align: top;\n",
       "    }\n",
       "\n",
       "    .dataframe thead th {\n",
       "        text-align: right;\n",
       "    }\n",
       "</style>\n",
       "<table border=\"1\" class=\"dataframe\">\n",
       "  <thead>\n",
       "    <tr style=\"text-align: right;\">\n",
       "      <th>CellClass</th>\n",
       "      <th>Exc</th>\n",
       "      <th>Inh</th>\n",
       "      <th>NonN</th>\n",
       "    </tr>\n",
       "    <tr>\n",
       "      <th>Col96</th>\n",
       "      <th></th>\n",
       "      <th></th>\n",
       "      <th></th>\n",
       "    </tr>\n",
       "  </thead>\n",
       "  <tbody>\n",
       "    <tr>\n",
       "      <th>False</th>\n",
       "      <td>67321</td>\n",
       "      <td>28039</td>\n",
       "      <td>1151</td>\n",
       "    </tr>\n",
       "    <tr>\n",
       "      <th>True</th>\n",
       "      <td>151</td>\n",
       "      <td>304</td>\n",
       "      <td>7016</td>\n",
       "    </tr>\n",
       "  </tbody>\n",
       "</table>\n",
       "</div>"
      ],
      "text/plain": [
       "CellClass    Exc    Inh  NonN\n",
       "Col96                        \n",
       "False      67321  28039  1151\n",
       "True         151    304  7016"
      ]
     },
     "execution_count": 9,
     "metadata": {},
     "output_type": "execute_result"
    }
   ],
   "source": [
    "cell_meta.groupby(cell_meta['Col96'] == 11)['CellClass'].value_counts().unstack()"
   ]
  },
  {
   "cell_type": "code",
   "execution_count": 10,
   "metadata": {
    "ExecuteTime": {
     "end_time": "2020-02-29T04:45:14.659323Z",
     "start_time": "2020-02-29T04:45:14.527275Z"
    }
   },
   "outputs": [],
   "source": [
    "sub_type_by_region_counts = cell_meta[\n",
    "    cell_meta['SubType'].apply(lambda i: 'Outlier' not in i)].groupby(\n",
    "        'SubType')['RegionName'].value_counts().unstack().fillna(0).astype(int)\n",
    "sub_type_by_region_counts.to_csv('SubType_by_DissectionRegion.count.csv')"
   ]
  },
  {
   "cell_type": "code",
   "execution_count": 11,
   "metadata": {
    "ExecuteTime": {
     "end_time": "2020-02-29T04:45:15.643832Z",
     "start_time": "2020-02-29T04:45:15.140128Z"
    }
   },
   "outputs": [],
   "source": [
    "count_record = cell_meta[\n",
    "    cell_meta['SubType'].apply(lambda i: 'Outlier' not in i)].groupby([\n",
    "        'CellClass', 'MajorType', 'SubType', 'MajorRegion', 'SubRegion',\n",
    "        'RegionName'\n",
    "    ]).apply(lambda i: i.shape[0])\n",
    "count_record.name = 'count'\n",
    "count_record = count_record.reset_index()\n",
    "count_record = count_record.pivot_table(\n",
    "    index=['CellClass', 'MajorType', 'SubType'],\n",
    "    columns=['MajorRegion', 'SubRegion', 'RegionName'],\n",
    "    values='count').fillna(0).astype(int)"
   ]
  },
  {
   "cell_type": "code",
   "execution_count": 12,
   "metadata": {
    "ExecuteTime": {
     "end_time": "2020-02-29T04:45:16.474020Z",
     "start_time": "2020-02-29T04:45:16.206976Z"
    }
   },
   "outputs": [],
   "source": [
    "count_record.to_excel('SubType_by_DissectionRegion.count.xlsx')"
   ]
  },
  {
   "cell_type": "code",
   "execution_count": 17,
   "metadata": {
    "ExecuteTime": {
     "end_time": "2020-02-29T04:49:26.628006Z",
     "start_time": "2020-02-29T04:49:26.616366Z"
    }
   },
   "outputs": [
    {
     "data": {
      "text/plain": [
       "count    1.039820e+05\n",
       "mean     1.519459e+06\n",
       "std      5.758405e+05\n",
       "min      5.000710e+05\n",
       "25%      1.131826e+06\n",
       "50%      1.464610e+06\n",
       "75%      1.820728e+06\n",
       "max      9.303761e+06\n",
       "Name: FinalReads, dtype: float64"
      ]
     },
     "execution_count": 17,
     "metadata": {},
     "output_type": "execute_result"
    }
   ],
   "source": [
    "cell_meta['FinalReads'].describe()"
   ]
  },
  {
   "cell_type": "code",
   "execution_count": 20,
   "metadata": {
    "ExecuteTime": {
     "end_time": "2020-02-29T04:51:50.899453Z",
     "start_time": "2020-02-29T04:51:50.888190Z"
    }
   },
   "outputs": [
    {
     "data": {
      "text/plain": [
       "count    5.02\n",
       "mean     6.18\n",
       "std      5.76\n",
       "min      5.70\n",
       "25%      6.05\n",
       "50%      6.17\n",
       "75%      6.26\n",
       "max      6.97\n",
       "Name: FinalReads, dtype: float64"
      ]
     },
     "execution_count": 20,
     "metadata": {},
     "output_type": "execute_result"
    }
   ],
   "source": [
    "np.log10(cell_meta['FinalReads'].describe()).round(2)"
   ]
  },
  {
   "cell_type": "code",
   "execution_count": 26,
   "metadata": {
    "ExecuteTime": {
     "end_time": "2020-02-29T04:55:15.451945Z",
     "start_time": "2020-02-29T04:55:15.068696Z"
    }
   },
   "outputs": [],
   "source": [
    "old_meta = pd.read_csv('/home/hanliu/project/cemba/metainfo/OLD_CURRENT_CELL_58175_2019-02-16.tsv.gz',\n",
    "            sep='\\t')"
   ]
  },
  {
   "cell_type": "code",
   "execution_count": 39,
   "metadata": {
    "ExecuteTime": {
     "end_time": "2020-02-29T04:58:13.862528Z",
     "start_time": "2020-02-29T04:58:13.845101Z"
    }
   },
   "outputs": [],
   "source": [
    "read_vs_cov = old_meta[(old_meta['Filtered reads'] > 500000) & (old_meta['Filtered reads'] < 1e7)][['Filtered reads', '% Genome covered']]"
   ]
  },
  {
   "cell_type": "code",
   "execution_count": 41,
   "metadata": {
    "ExecuteTime": {
     "end_time": "2020-02-29T04:58:58.559488Z",
     "start_time": "2020-02-29T04:58:57.346709Z"
    }
   },
   "outputs": [
    {
     "data": {
      "image/png": "[encoded data removed]",
      "text/plain": [
       "<Figure size 432x432 with 3 Axes>"
      ]
     },
     "metadata": {
      "needs_background": "light"
     },
     "output_type": "display_data"
    }
   ],
   "source": [
    "g = sns.jointplot(data=read_vs_cov, x='Filtered reads', y='% Genome covered')\n",
    "g.ax_joint.grid()"
   ]
  },
  {
   "cell_type": "code",
   "execution_count": 52,
   "metadata": {
    "ExecuteTime": {
     "end_time": "2020-02-29T05:03:19.827212Z",
     "start_time": "2020-02-29T05:03:19.824074Z"
    }
   },
   "outputs": [
    {
     "data": {
      "text/plain": [
       "250000.0"
      ]
     },
     "execution_count": 52,
     "metadata": {},
     "output_type": "execute_result"
    }
   ],
   "source": [
    "# 250000 == 1% approximately\n",
    "4000000.0/ 16"
   ]
  },
  {
   "cell_type": "code",
   "execution_count": 53,
   "metadata": {
    "ExecuteTime": {
     "end_time": "2020-02-29T05:03:21.572810Z",
     "start_time": "2020-02-29T05:03:21.563343Z"
    }
   },
   "outputs": [
    {
     "data": {
      "text/plain": [
       "count    58153.000000\n",
       "mean         6.233425\n",
       "std          2.577837\n",
       "min          1.810000\n",
       "25%          4.460000\n",
       "50%          5.980000\n",
       "75%          7.530000\n",
       "max         33.230000\n",
       "Name: % Genome covered, dtype: float64"
      ]
     },
     "execution_count": 53,
     "metadata": {},
     "output_type": "execute_result"
    }
   ],
   "source": [
    "read_vs_cov['% Genome covered'].describe()"
   ]
  },
  {
   "cell_type": "code",
   "execution_count": 55,
   "metadata": {
    "ExecuteTime": {
     "end_time": "2020-02-29T05:49:35.526287Z",
     "start_time": "2020-02-29T05:49:35.510037Z"
    }
   },
   "outputs": [
    {
     "data": {
      "text/plain": [
       "count       41.000000\n",
       "mean      2536.146341\n",
       "std       2749.507561\n",
       "min         95.000000\n",
       "25%        495.000000\n",
       "50%       1819.000000\n",
       "75%       3139.000000\n",
       "max      11919.000000\n",
       "Name: MajorType, dtype: float64"
      ]
     },
     "execution_count": 55,
     "metadata": {},
     "output_type": "execute_result"
    }
   ],
   "source": [
    "cell_meta['MajorType'].value_counts().describe()"
   ]
  },
  {
   "cell_type": "code",
   "execution_count": 60,
   "metadata": {
    "ExecuteTime": {
     "end_time": "2020-02-29T06:18:10.740651Z",
     "start_time": "2020-02-29T06:18:10.670738Z"
    }
   },
   "outputs": [
    {
     "data": {
      "text/plain": [
       "745"
      ]
     },
     "execution_count": 60,
     "metadata": {},
     "output_type": "execute_result"
    }
   ],
   "source": [
    "cell_meta[cell_meta['SubType'].apply(lambda i: 'Outlier' not in i)]['MajorType'].value_counts()['IG-CA2']"
   ]
  },
  {
   "cell_type": "code",
   "execution_count": 13,
   "metadata": {
    "ExecuteTime": {
     "end_time": "2020-03-09T00:51:41.024908Z",
     "start_time": "2020-03-09T00:51:41.013080Z"
    }
   },
   "outputs": [
    {
     "data": {
      "text/plain": [
       "Isocortex    72\n",
       "CNU          71\n",
       "HPF           9\n",
       "Name: MajorRegion, dtype: int64"
      ]
     },
     "execution_count": 13,
     "metadata": {},
     "output_type": "execute_result"
    }
   ],
   "source": [
    "cell_meta[cell_meta['SubType'] == 'IG-CA2 Xpr1']['MajorRegion'].value_counts(\n",
    ")"
   ]
  },
  {
   "cell_type": "code",
   "execution_count": 12,
   "metadata": {
    "ExecuteTime": {
     "end_time": "2020-03-09T00:51:30.836409Z",
     "start_time": "2020-03-09T00:51:30.817376Z"
    }
   },
   "outputs": [
    {
     "data": {
      "text/plain": [
       "Isocortex    0.473684\n",
       "CNU          0.467105\n",
       "HPF          0.059211\n",
       "Name: MajorRegion, dtype: float64"
      ]
     },
     "execution_count": 12,
     "metadata": {},
     "output_type": "execute_result"
    }
   ],
   "source": [
    "cell_meta[cell_meta['SubType'] == 'IG-CA2 Xpr1']['MajorRegion'].value_counts(\n",
    ") / cell_meta[cell_meta['SubType'] == 'IG-CA2 Xpr1'].shape[0]"
   ]
  },
  {
   "cell_type": "code",
   "execution_count": 6,
   "metadata": {
    "ExecuteTime": {
     "end_time": "2020-03-10T00:31:53.209847Z",
     "start_time": "2020-03-10T00:31:53.197546Z"
    }
   },
   "outputs": [
    {
     "data": {
      "text/plain": [
       "152"
      ]
     },
     "execution_count": 6,
     "metadata": {},
     "output_type": "execute_result"
    }
   ],
   "source": [
    "cell_meta['SubType'].value_counts()['IG-CA2 Xpr1']"
   ]
  },
  {
   "cell_type": "code",
   "execution_count": 15,
   "metadata": {
    "ExecuteTime": {
     "end_time": "2020-03-11T06:16:09.678708Z",
     "start_time": "2020-03-11T06:16:09.627130Z"
    }
   },
   "outputs": [
    {
     "data": {
      "text/plain": [
       "PAL-Inh      4481\n",
       "MSN-D2       3340\n",
       "MSN-D1       3139\n",
       "MGE-Sst      2931\n",
       "MGE-Pvalb    2636\n",
       "LSX-Inh      2143\n",
       "Foxp2        1964\n",
       "D1L-Fstl4    1962\n",
       "CGE-Vip      1746\n",
       "OLF          1452\n",
       "CGE-Lamp5    1449\n",
       "D1L-PAL       495\n",
       "Chd7          386\n",
       "Unc5c         219\n",
       "Name: MajorType, dtype: int64"
      ]
     },
     "execution_count": 15,
     "metadata": {},
     "output_type": "execute_result"
    }
   ],
   "source": [
    "cell_meta[cell_meta['CellClass'] == 'Inh']['MajorType'].value_counts()"
   ]
  },
  {
   "cell_type": "code",
   "execution_count": 21,
   "metadata": {
    "ExecuteTime": {
     "end_time": "2020-03-11T21:45:36.572823Z",
     "start_time": "2020-03-11T21:45:36.556844Z"
    }
   },
   "outputs": [
    {
     "data": {
      "text/plain": [
       "IT-L23       11919\n",
       "OLF-Exc       9681\n",
       "CT-L6         8716\n",
       "IT-L5         6640\n",
       "DG            6179\n",
       "IT-L6         4947\n",
       "PAL-Inh       4481\n",
       "IT-L4         4347\n",
       "CA1           4075\n",
       "MSN-D2        3340\n",
       "MSN-D1        3139\n",
       "ODC           3082\n",
       "MGE-Sst       2931\n",
       "PT-L5         2638\n",
       "MGE-Pvalb     2636\n",
       "CA3           2423\n",
       "ASC           2215\n",
       "LSX-Inh       2143\n",
       "Foxp2         1964\n",
       "D1L-Fstl4     1962\n",
       "NP-L6         1819\n",
       "CGE-Vip       1746\n",
       "OLF           1452\n",
       "CGE-Lamp5     1449\n",
       "L6b           1069\n",
       "CLA            945\n",
       "MGC            853\n",
       "OPC            777\n",
       "IG-CA2         745\n",
       "EP             666\n",
       "D1L-PAL        495\n",
       "VLMC           419\n",
       "CA3-St18       408\n",
       "Chd7           386\n",
       "ANP            331\n",
       "VLMC-Pia       225\n",
       "Unc5c          219\n",
       "PC             170\n",
       "DG-po          145\n",
       "Gfra1          110\n",
       "EC              95\n",
       "Name: MajorType, dtype: int64"
      ]
     },
     "execution_count": 21,
     "metadata": {},
     "output_type": "execute_result"
    }
   ],
   "source": [
    "cell_meta['MajorType'].value_counts()"
   ]
  },
  {
   "cell_type": "code",
   "execution_count": null,
   "metadata": {},
   "outputs": [],
   "source": []
  }
 ],
 "metadata": {
  "hide_input": false,
  "kernelspec": {
   "display_name": "Python 3",
   "language": "python",
   "name": "python3"
  },
  "language_info": {
   "codemirror_mode": {
    "name": "ipython",
    "version": 3
   },
   "file_extension": ".py",
   "mimetype": "text/x-python",
   "name": "python",
   "nbconvert_exporter": "python",
   "pygments_lexer": "ipython3",
   "version": "3.7.3"
  },
  "toc": {
   "base_numbering": 1,
   "nav_menu": {},
   "number_sections": true,
   "sideBar": true,
   "skip_h1_title": true,
   "title_cell": "Table of Contents",
   "title_sidebar": "Contents",
   "toc_cell": false,
   "toc_position": {},
   "toc_section_display": true,
   "toc_window_display": true
  }
 },
 "nbformat": 4,
 "nbformat_minor": 2
}
