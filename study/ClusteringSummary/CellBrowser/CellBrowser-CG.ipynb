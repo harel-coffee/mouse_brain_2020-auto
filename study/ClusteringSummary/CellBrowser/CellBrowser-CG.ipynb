{
 "cells": [
  {
   "cell_type": "markdown",
   "metadata": {
    "toc": true
   },
   "source": [
    "<h1>Table of Contents<span class=\"tocSkip\"></span></h1>\n",
    "<div class=\"toc\"><ul class=\"toc-item\"><li><span><a href=\"#Setting\" data-toc-modified-id=\"Setting-1\"><span class=\"toc-item-num\">1&nbsp;&nbsp;</span>Setting</a></span></li><li><span><a href=\"#Gene-Meta\" data-toc-modified-id=\"Gene-Meta-2\"><span class=\"toc-item-num\">2&nbsp;&nbsp;</span>Gene Meta</a></span></li><li><span><a href=\"#Cell-Meta\" data-toc-modified-id=\"Cell-Meta-3\"><span class=\"toc-item-num\">3&nbsp;&nbsp;</span>Cell Meta</a></span><ul class=\"toc-item\"><li><span><a href=\"#Determine-meta-cols\" data-toc-modified-id=\"Determine-meta-cols-3.1\"><span class=\"toc-item-num\">3.1&nbsp;&nbsp;</span>Determine meta cols</a></span></li><li><span><a href=\"#Select-meta-cols\" data-toc-modified-id=\"Select-meta-cols-3.2\"><span class=\"toc-item-num\">3.2&nbsp;&nbsp;</span>Select meta cols</a></span></li></ul></li><li><span><a href=\"#Coords\" data-toc-modified-id=\"Coords-4\"><span class=\"toc-item-num\">4&nbsp;&nbsp;</span>Coords</a></span><ul class=\"toc-item\"><li><span><a href=\"#Clustering-results\" data-toc-modified-id=\"Clustering-results-4.1\"><span class=\"toc-item-num\">4.1&nbsp;&nbsp;</span>Clustering results</a></span></li><li><span><a href=\"#Dissection-Region-embedding\" data-toc-modified-id=\"Dissection-Region-embedding-4.2\"><span class=\"toc-item-num\">4.2&nbsp;&nbsp;</span>Dissection Region embedding</a></span></li></ul></li><li><span><a href=\"#Gene-Matrix\" data-toc-modified-id=\"Gene-Matrix-5\"><span class=\"toc-item-num\">5&nbsp;&nbsp;</span>Gene Matrix</a></span><ul class=\"toc-item\"><li><span><a href=\"#Save-gene-matrix\" data-toc-modified-id=\"Save-gene-matrix-5.1\"><span class=\"toc-item-num\">5.1&nbsp;&nbsp;</span>Save gene matrix</a></span></li></ul></li><li><span><a href=\"#Conf-file\" data-toc-modified-id=\"Conf-file-6\"><span class=\"toc-item-num\">6&nbsp;&nbsp;</span>Conf file</a></span></li></ul></div>"
   ]
  },
  {
   "cell_type": "code",
   "execution_count": 1,
   "metadata": {
    "ExecuteTime": {
     "end_time": "2019-10-19T03:18:13.312776Z",
     "start_time": "2019-10-19T03:18:12.934997Z"
    }
   },
   "outputs": [],
   "source": [
    "import pathlib\n",
    "import pandas as pd\n",
    "\n",
    "import seaborn as sns\n",
    "import matplotlib.pyplot as plt"
   ]
  },
  {
   "cell_type": "code",
   "execution_count": 2,
   "metadata": {
    "ExecuteTime": {
     "end_time": "2019-10-19T03:18:13.317387Z",
     "start_time": "2019-10-19T03:18:13.314482Z"
    }
   },
   "outputs": [],
   "source": [
    "page_name = 'CEMBA-RostralBrain'\n",
    "mc_type = 'CGN'\n",
    "\n",
    "result_dir = pathlib.Path(f'{page_name}_{mc_type}').absolute()\n",
    "result_dir.mkdir(exist_ok=True)"
   ]
  },
  {
   "cell_type": "markdown",
   "metadata": {},
   "source": [
    "## Setting"
   ]
  },
  {
   "cell_type": "code",
   "execution_count": 3,
   "metadata": {
    "ExecuteTime": {
     "end_time": "2019-10-19T03:18:13.321741Z",
     "start_time": "2019-10-19T03:18:13.318702Z"
    }
   },
   "outputs": [],
   "source": [
    "cell_meta_path = '/home/hanliu/project/mouse_rostral_brain/study/ClusteringSummary/Summary/TotalClusteringResults.msg'\n",
    "\n",
    "gene_mcds_path_pattern = '/home/hanliu/project/mouse_rostral_brain/study/Level1-CellClass/ALL_manual/Adata/SelectedCell*gene_da_rate*mcds'\n",
    "gene_annotation_path = '/home/hanliu/ref/mouse/gencode/vm22/gencode.vM22.annotation.gene.flat.tsv.gz'\n",
    "\n",
    "COLOR_PATH = '/home/hanliu/project/mouse_rostral_brain/metadata/palette/total_meta_colors.tsv'\n",
    "\n",
    "quick_gene_path = '/home/hanliu/project/mouse_rostral_brain/study/ClusteringSummary/CellBrowser/quickGenes.csv'\n",
    "\n",
    "# additional GOI that must include in browser\n",
    "goi_path = None\n",
    "MUST_INCLUDE_GENE_TYPE = ['protein_coding', 'lncRNA']\n",
    "\n",
    "CELL_META_PATH = result_dir / f'{page_name}.cell_meta.tsv'\n",
    "\n",
    "default_cluster_col = 'MajorType'\n",
    "default_label_col = 'MajorType'\n",
    "\n",
    "radius = 2.5"
   ]
  },
  {
   "cell_type": "markdown",
   "metadata": {},
   "source": [
    "## Gene Meta"
   ]
  },
  {
   "cell_type": "code",
   "execution_count": 4,
   "metadata": {
    "ExecuteTime": {
     "end_time": "2019-10-19T03:18:13.591597Z",
     "start_time": "2019-10-19T03:18:13.322846Z"
    }
   },
   "outputs": [
    {
     "data": {
      "text/plain": [
       "40836"
      ]
     },
     "execution_count": 4,
     "metadata": {},
     "output_type": "execute_result"
    }
   ],
   "source": [
    "gene_meta = pd.read_csv(gene_annotation_path, index_col='gene_id', sep='\\t')\n",
    "gene_meta.index.name = 'gene'\n",
    "gene_name_to_id = {v:k for k, v in gene_meta['gene_name'].iteritems()}\n",
    "gene_id_base_to_id = pd.Series(gene_meta.index, index = gene_meta.index.map(lambda i: i.split('.')[0])).to_dict()\n",
    "\n",
    "# select gene to include in browser\n",
    "# keep all gene in MUST_INCLUDE_GENE_TYPE\n",
    "# keep level 1 exp validated gene if not in MUST_INCLUDE_GENE_TYPE\n",
    "gene_meta = gene_meta[(gene_meta['level'] == 1) | gene_meta['gene_type'].isin(MUST_INCLUDE_GENE_TYPE)].copy()\n",
    "gene_meta.shape[0]"
   ]
  },
  {
   "cell_type": "markdown",
   "metadata": {},
   "source": [
    "## Cell Meta"
   ]
  },
  {
   "cell_type": "code",
   "execution_count": 5,
   "metadata": {
    "ExecuteTime": {
     "end_time": "2019-10-19T03:18:13.855478Z",
     "start_time": "2019-10-19T03:18:13.593334Z"
    }
   },
   "outputs": [
    {
     "name": "stderr",
     "output_type": "stream",
     "text": [
      "/home/hanliu/miniconda3/envs/clustering/lib/python3.7/site-packages/IPython/core/interactiveshell.py:3326: FutureWarning: The read_msgpack is deprecated and will be removed in a future version.\n",
      "It is recommended to use pyarrow for on-the-wire transmission of pandas objects.\n",
      "  exec(code_obj, self.user_global_ns, self.user_ns)\n"
     ]
    },
    {
     "name": "stdout",
     "output_type": "stream",
     "text": [
      "(103982, 39)\n",
      "['AllcPath', 'CCC_Rate', 'CG_Rate', 'CG_RateAdj', 'CH_Rate', 'CH_RateAdj', 'FinalReads', 'InputReads', 'MappedReads', 'Region', 'index_name', 'uid', 'BamFilteringRate', 'MappingRate', 'Pos96', 'Plate', 'Col96', 'Row96', 'Col384', 'Row384', 'FACS_Date', 'Slice', 'MajorRegion', 'SubRegion', 'CellClass', 'l1-umap_0', 'l1-umap_1', 'l1-tsne_0', 'l1-tsne_1', 'MajorType', 'l2-umap_0', 'l2-umap_1', 'l2-tsne_0', 'l2-tsne_1', 'SubType', 'l3-umap_0', 'l3-umap_1', 'l3-tsne_0', 'l3-tsne_1']\n"
     ]
    },
    {
     "data": {
      "text/html": [
       "<div>\n",
       "<style scoped>\n",
       "    .dataframe tbody tr th:only-of-type {\n",
       "        vertical-align: middle;\n",
       "    }\n",
       "\n",
       "    .dataframe tbody tr th {\n",
       "        vertical-align: top;\n",
       "    }\n",
       "\n",
       "    .dataframe thead th {\n",
       "        text-align: right;\n",
       "    }\n",
       "</style>\n",
       "<table border=\"1\" class=\"dataframe\">\n",
       "  <thead>\n",
       "    <tr style=\"text-align: right;\">\n",
       "      <th></th>\n",
       "      <th>AllcPath</th>\n",
       "      <th>CCC_Rate</th>\n",
       "      <th>CG_Rate</th>\n",
       "      <th>CG_RateAdj</th>\n",
       "      <th>CH_Rate</th>\n",
       "      <th>CH_RateAdj</th>\n",
       "      <th>FinalReads</th>\n",
       "      <th>InputReads</th>\n",
       "      <th>MappedReads</th>\n",
       "      <th>Region</th>\n",
       "      <th>...</th>\n",
       "      <th>MajorType</th>\n",
       "      <th>l2-umap_0</th>\n",
       "      <th>l2-umap_1</th>\n",
       "      <th>l2-tsne_0</th>\n",
       "      <th>l2-tsne_1</th>\n",
       "      <th>SubType</th>\n",
       "      <th>l3-umap_0</th>\n",
       "      <th>l3-umap_1</th>\n",
       "      <th>l3-tsne_0</th>\n",
       "      <th>l3-tsne_1</th>\n",
       "    </tr>\n",
       "  </thead>\n",
       "  <tbody>\n",
       "    <tr>\n",
       "      <th>10E_M_0</th>\n",
       "      <td>/gale/raidix/rdx-4/mapping/10E/CEMBA190625-10E...</td>\n",
       "      <td>0.008198</td>\n",
       "      <td>0.822633</td>\n",
       "      <td>0.821166</td>\n",
       "      <td>0.041640</td>\n",
       "      <td>0.033718</td>\n",
       "      <td>1626504.0</td>\n",
       "      <td>4407752</td>\n",
       "      <td>2892347.0</td>\n",
       "      <td>10E</td>\n",
       "      <td>...</td>\n",
       "      <td>MGE-Sst</td>\n",
       "      <td>-23.368460</td>\n",
       "      <td>-1.151200</td>\n",
       "      <td>-34.021153</td>\n",
       "      <td>-19.429447</td>\n",
       "      <td>MGE-Sst Rxra</td>\n",
       "      <td>-0.766630</td>\n",
       "      <td>-16.704815</td>\n",
       "      <td>20.297781</td>\n",
       "      <td>1.192093</td>\n",
       "    </tr>\n",
       "    <tr>\n",
       "      <th>10E_M_1</th>\n",
       "      <td>/gale/raidix/rdx-4/mapping/10E/CEMBA190625-10E...</td>\n",
       "      <td>0.006019</td>\n",
       "      <td>0.743035</td>\n",
       "      <td>0.741479</td>\n",
       "      <td>0.024127</td>\n",
       "      <td>0.018218</td>\n",
       "      <td>2009998.0</td>\n",
       "      <td>5524084</td>\n",
       "      <td>3657352.0</td>\n",
       "      <td>10E</td>\n",
       "      <td>...</td>\n",
       "      <td>CA3</td>\n",
       "      <td>-8.322600</td>\n",
       "      <td>-3.988057</td>\n",
       "      <td>19.205085</td>\n",
       "      <td>10.272570</td>\n",
       "      <td>CA3 Cadm2</td>\n",
       "      <td>4.290240</td>\n",
       "      <td>-2.610511</td>\n",
       "      <td>7.860870</td>\n",
       "      <td>8.813396</td>\n",
       "    </tr>\n",
       "    <tr>\n",
       "      <th>10E_M_10</th>\n",
       "      <td>/gale/raidix/rdx-4/mapping/10E/CEMBA190625-10E...</td>\n",
       "      <td>0.006569</td>\n",
       "      <td>0.750172</td>\n",
       "      <td>0.748520</td>\n",
       "      <td>0.027665</td>\n",
       "      <td>0.021235</td>\n",
       "      <td>1383636.0</td>\n",
       "      <td>3455260</td>\n",
       "      <td>2172987.0</td>\n",
       "      <td>10E</td>\n",
       "      <td>...</td>\n",
       "      <td>CA3</td>\n",
       "      <td>-7.409779</td>\n",
       "      <td>-4.662556</td>\n",
       "      <td>20.146606</td>\n",
       "      <td>6.345836</td>\n",
       "      <td>CA3 Cadm2</td>\n",
       "      <td>5.852028</td>\n",
       "      <td>-2.510058</td>\n",
       "      <td>12.927795</td>\n",
       "      <td>8.544050</td>\n",
       "    </tr>\n",
       "    <tr>\n",
       "      <th>10E_M_101</th>\n",
       "      <td>/gale/raidix/rdx-4/mapping/10E/CEMBA190625-10E...</td>\n",
       "      <td>0.006353</td>\n",
       "      <td>0.760898</td>\n",
       "      <td>0.759369</td>\n",
       "      <td>0.026547</td>\n",
       "      <td>0.020323</td>\n",
       "      <td>2474670.0</td>\n",
       "      <td>7245482</td>\n",
       "      <td>4778768.0</td>\n",
       "      <td>10E</td>\n",
       "      <td>...</td>\n",
       "      <td>CA3</td>\n",
       "      <td>-6.266342</td>\n",
       "      <td>-8.345406</td>\n",
       "      <td>25.465765</td>\n",
       "      <td>-6.767192</td>\n",
       "      <td>CA3 Cadm2</td>\n",
       "      <td>11.189178</td>\n",
       "      <td>-3.763147</td>\n",
       "      <td>29.875836</td>\n",
       "      <td>2.739283</td>\n",
       "    </tr>\n",
       "    <tr>\n",
       "      <th>10E_M_102</th>\n",
       "      <td>/gale/raidix/rdx-4/mapping/10E/CEMBA190625-10E...</td>\n",
       "      <td>0.005409</td>\n",
       "      <td>0.752980</td>\n",
       "      <td>0.751637</td>\n",
       "      <td>0.019497</td>\n",
       "      <td>0.014164</td>\n",
       "      <td>2430290.0</td>\n",
       "      <td>7004754</td>\n",
       "      <td>4609570.0</td>\n",
       "      <td>10E</td>\n",
       "      <td>...</td>\n",
       "      <td>CA1</td>\n",
       "      <td>-1.135772</td>\n",
       "      <td>-17.311239</td>\n",
       "      <td>-7.427455</td>\n",
       "      <td>-20.497435</td>\n",
       "      <td>CA1 Chrm3</td>\n",
       "      <td>2.912797</td>\n",
       "      <td>2.683262</td>\n",
       "      <td>-19.971042</td>\n",
       "      <td>24.551260</td>\n",
       "    </tr>\n",
       "  </tbody>\n",
       "</table>\n",
       "<p>5 rows × 39 columns</p>\n",
       "</div>"
      ],
      "text/plain": [
       "                                                    AllcPath  CCC_Rate  \\\n",
       "10E_M_0    /gale/raidix/rdx-4/mapping/10E/CEMBA190625-10E...  0.008198   \n",
       "10E_M_1    /gale/raidix/rdx-4/mapping/10E/CEMBA190625-10E...  0.006019   \n",
       "10E_M_10   /gale/raidix/rdx-4/mapping/10E/CEMBA190625-10E...  0.006569   \n",
       "10E_M_101  /gale/raidix/rdx-4/mapping/10E/CEMBA190625-10E...  0.006353   \n",
       "10E_M_102  /gale/raidix/rdx-4/mapping/10E/CEMBA190625-10E...  0.005409   \n",
       "\n",
       "            CG_Rate  CG_RateAdj   CH_Rate  CH_RateAdj  FinalReads  InputReads  \\\n",
       "10E_M_0    0.822633    0.821166  0.041640    0.033718   1626504.0     4407752   \n",
       "10E_M_1    0.743035    0.741479  0.024127    0.018218   2009998.0     5524084   \n",
       "10E_M_10   0.750172    0.748520  0.027665    0.021235   1383636.0     3455260   \n",
       "10E_M_101  0.760898    0.759369  0.026547    0.020323   2474670.0     7245482   \n",
       "10E_M_102  0.752980    0.751637  0.019497    0.014164   2430290.0     7004754   \n",
       "\n",
       "           MappedReads Region  ... MajorType  l2-umap_0  l2-umap_1  l2-tsne_0  \\\n",
       "10E_M_0      2892347.0    10E  ...   MGE-Sst -23.368460  -1.151200 -34.021153   \n",
       "10E_M_1      3657352.0    10E  ...       CA3  -8.322600  -3.988057  19.205085   \n",
       "10E_M_10     2172987.0    10E  ...       CA3  -7.409779  -4.662556  20.146606   \n",
       "10E_M_101    4778768.0    10E  ...       CA3  -6.266342  -8.345406  25.465765   \n",
       "10E_M_102    4609570.0    10E  ...       CA1  -1.135772 -17.311239  -7.427455   \n",
       "\n",
       "           l2-tsne_1       SubType  l3-umap_0  l3-umap_1  l3-tsne_0  l3-tsne_1  \n",
       "10E_M_0   -19.429447  MGE-Sst Rxra  -0.766630 -16.704815  20.297781   1.192093  \n",
       "10E_M_1    10.272570     CA3 Cadm2   4.290240  -2.610511   7.860870   8.813396  \n",
       "10E_M_10    6.345836     CA3 Cadm2   5.852028  -2.510058  12.927795   8.544050  \n",
       "10E_M_101  -6.767192     CA3 Cadm2  11.189178  -3.763147  29.875836   2.739283  \n",
       "10E_M_102 -20.497435     CA1 Chrm3   2.912797   2.683262 -19.971042  24.551260  \n",
       "\n",
       "[5 rows x 39 columns]"
      ]
     },
     "execution_count": 5,
     "metadata": {},
     "output_type": "execute_result"
    }
   ],
   "source": [
    "cell_meta = pd.read_msgpack(cell_meta_path)\n",
    "print(cell_meta.shape)\n",
    "print(cell_meta.columns.tolist())\n",
    "cell_meta.head()"
   ]
  },
  {
   "cell_type": "markdown",
   "metadata": {},
   "source": [
    "### Determine meta cols"
   ]
  },
  {
   "cell_type": "code",
   "execution_count": 6,
   "metadata": {
    "ExecuteTime": {
     "end_time": "2019-10-19T03:18:13.859850Z",
     "start_time": "2019-10-19T03:18:13.857199Z"
    }
   },
   "outputs": [],
   "source": [
    "exclude_cols = ['AllcPath']\n",
    "\n",
    "categorical_cols = ['Row384', 'Col384', 'Row96', 'Col96', 'Pos96', \n",
    "                    'FACS_Date', 'Plate', 'Region', \n",
    "                    'Slice', 'index_name', 'uid', \n",
    "                    'CellClass', 'MajorType', 'SubType'\n",
    "                    'MajorRegion', 'SubRegion']"
   ]
  },
  {
   "cell_type": "markdown",
   "metadata": {},
   "source": [
    "### Select meta cols"
   ]
  },
  {
   "cell_type": "code",
   "execution_count": 7,
   "metadata": {
    "ExecuteTime": {
     "end_time": "2019-10-19T03:18:13.914118Z",
     "start_time": "2019-10-19T03:18:13.861319Z"
    }
   },
   "outputs": [],
   "source": [
    "# save the non-coords part\n",
    "cell_meta_no_coords = cell_meta.loc[:, (~(cell_meta.columns.str.endswith('_0') | \n",
    "                                         cell_meta.columns.str.endswith('_1'))) & \n",
    "                                       (~cell_meta.columns.isin(exclude_cols))].copy()"
   ]
  },
  {
   "cell_type": "code",
   "execution_count": 8,
   "metadata": {
    "ExecuteTime": {
     "end_time": "2019-10-19T03:18:15.776458Z",
     "start_time": "2019-10-19T03:18:13.916139Z"
    }
   },
   "outputs": [],
   "source": [
    "cell_meta_no_coords.index.name = 'Cell'\n",
    "\n",
    "CELL_META_PATH = result_dir / f'{page_name}.cell_meta.tsv'\n",
    "cell_meta_no_coords.to_csv(CELL_META_PATH, sep='\\t')"
   ]
  },
  {
   "cell_type": "markdown",
   "metadata": {},
   "source": [
    "## Coords\n",
    "\n",
    "### Clustering results"
   ]
  },
  {
   "cell_type": "code",
   "execution_count": 9,
   "metadata": {
    "ExecuteTime": {
     "end_time": "2019-10-19T03:18:15.789984Z",
     "start_time": "2019-10-19T03:18:15.778589Z"
    }
   },
   "outputs": [],
   "source": [
    "# save the non-coords part\n",
    "cell_meta_coords = cell_meta.loc[:, (cell_meta.columns.str.endswith('_0') | \n",
    "                                     cell_meta.columns.str.endswith('_1'))].copy()"
   ]
  },
  {
   "cell_type": "code",
   "execution_count": 10,
   "metadata": {
    "ExecuteTime": {
     "end_time": "2019-10-19T03:18:15.796231Z",
     "start_time": "2019-10-19T03:18:15.791592Z"
    }
   },
   "outputs": [
    {
     "data": {
      "text/plain": [
       "Index(['AllcPath', 'CCC_Rate', 'CG_Rate', 'CG_RateAdj', 'CH_Rate',\n",
       "       'CH_RateAdj', 'FinalReads', 'InputReads', 'MappedReads', 'Region',\n",
       "       'index_name', 'uid', 'BamFilteringRate', 'MappingRate', 'Pos96',\n",
       "       'Plate', 'Col96', 'Row96', 'Col384', 'Row384', 'FACS_Date', 'Slice',\n",
       "       'MajorRegion', 'SubRegion', 'CellClass', 'l1-umap_0', 'l1-umap_1',\n",
       "       'l1-tsne_0', 'l1-tsne_1', 'MajorType', 'l2-umap_0', 'l2-umap_1',\n",
       "       'l2-tsne_0', 'l2-tsne_1', 'SubType', 'l3-umap_0', 'l3-umap_1',\n",
       "       'l3-tsne_0', 'l3-tsne_1'],\n",
       "      dtype='object')"
      ]
     },
     "execution_count": 10,
     "metadata": {},
     "output_type": "execute_result"
    }
   ],
   "source": [
    "cell_meta.columns"
   ]
  },
  {
   "cell_type": "code",
   "execution_count": 11,
   "metadata": {
    "ExecuteTime": {
     "end_time": "2019-10-19T03:18:17.750934Z",
     "start_time": "2019-10-19T03:18:15.797763Z"
    },
    "scrolled": true
   },
   "outputs": [
    {
     "name": "stdout",
     "output_type": "stream",
     "text": [
      "L1-TSNE included in browser\n",
      "L1-UMAP included in browser\n",
      "L2-TSNE included in browser\n",
      "l2-tsne Exc\n",
      "l2-tsne Exc-HPF\n",
      "l2-tsne GC\n",
      "l2-tsne Inh\n",
      "l2-tsne NonN\n",
      "L2-UMAP included in browser\n",
      "l2-umap Exc\n",
      "l2-umap Exc-HPF\n",
      "l2-umap GC\n",
      "l2-umap Inh\n",
      "l2-umap NonN\n",
      "L3-TSNE included in browser\n",
      "l3-tsne ANP\n",
      "l3-tsne ASC\n",
      "l3-tsne CA1\n",
      "l3-tsne CA3\n",
      "l3-tsne CA3-St18\n",
      "l3-tsne CGE-Lamp5\n",
      "l3-tsne CGE-Vip\n",
      "l3-tsne CLA\n",
      "l3-tsne CT-L6\n",
      "l3-tsne Chd7\n",
      "l3-tsne D1L-Fstl4\n",
      "l3-tsne D1L-PAL\n",
      "l3-tsne DG\n",
      "l3-tsne DG-po\n",
      "l3-tsne EC\n",
      "l3-tsne EP\n",
      "l3-tsne Foxp2\n",
      "l3-tsne Gfra1\n",
      "l3-tsne IG-CA2\n",
      "l3-tsne IT-L23\n",
      "l3-tsne IT-L4\n",
      "l3-tsne IT-L5\n",
      "l3-tsne IT-L6\n",
      "l3-tsne L6b\n",
      "l3-tsne LSX-Inh\n",
      "l3-tsne MGC\n",
      "l3-tsne MGE-Pvalb\n",
      "l3-tsne MGE-Sst\n",
      "l3-tsne MSN-D1\n",
      "l3-tsne MSN-D2\n",
      "l3-tsne NP-L6\n",
      "l3-tsne ODC\n",
      "l3-tsne OLF\n",
      "l3-tsne OLF-Exc\n",
      "l3-tsne OPC\n",
      "l3-tsne PAL-Inh\n",
      "l3-tsne PC\n",
      "l3-tsne PT-L5\n",
      "l3-tsne Unc5c\n",
      "l3-tsne VLMC\n",
      "l3-tsne VLMC-Pia\n",
      "L3-UMAP included in browser\n",
      "l3-umap ANP\n",
      "l3-umap ASC\n",
      "l3-umap CA1\n",
      "l3-umap CA3\n",
      "l3-umap CA3-St18\n",
      "l3-umap CGE-Lamp5\n",
      "l3-umap CGE-Vip\n",
      "l3-umap CLA\n",
      "l3-umap CT-L6\n",
      "l3-umap Chd7\n",
      "l3-umap D1L-Fstl4\n",
      "l3-umap D1L-PAL\n",
      "l3-umap DG\n",
      "l3-umap DG-po\n",
      "l3-umap EC\n",
      "l3-umap EP\n",
      "l3-umap Foxp2\n",
      "l3-umap Gfra1\n",
      "l3-umap IG-CA2\n",
      "l3-umap IT-L23\n",
      "l3-umap IT-L4\n",
      "l3-umap IT-L5\n",
      "l3-umap IT-L6\n",
      "l3-umap L6b\n",
      "l3-umap LSX-Inh\n",
      "l3-umap MGC\n",
      "l3-umap MGE-Pvalb\n",
      "l3-umap MGE-Sst\n",
      "l3-umap MSN-D1\n",
      "l3-umap MSN-D2\n",
      "l3-umap NP-L6\n",
      "l3-umap ODC\n",
      "l3-umap OLF\n",
      "l3-umap OLF-Exc\n",
      "l3-umap OPC\n",
      "l3-umap PAL-Inh\n",
      "l3-umap PC\n",
      "l3-umap PT-L5\n",
      "l3-umap Unc5c\n",
      "l3-umap VLMC\n",
      "l3-umap VLMC-Pia\n"
     ]
    }
   ],
   "source": [
    "COORD_PATH_LIST = []\n",
    "\n",
    "for coord_base, coord_df in cell_meta_coords.groupby(cell_meta_coords.columns.str[:-2], axis=1):\n",
    "    print(coord_base.upper(), 'included in browser')\n",
    "    coord_df = coord_df[[f'{coord_base}_0', f'{coord_base}_1']].copy()\n",
    "    coord_df.index.name = 'cellId'\n",
    "    coord_df.columns = ['x', 'y']\n",
    "    if coord_base.upper().startswith('L2'):\n",
    "        # save each cell class separately\n",
    "        \n",
    "        # exclude outlier\n",
    "        selected_cell = cell_meta.index[cell_meta['MajorType'].apply(lambda i: 'Outlier' not in i)]\n",
    "        _coord_df = coord_df.reindex(selected_cell)\n",
    "        \n",
    "        for cell_class, sub_df in _coord_df.groupby(cell_meta['CellClass']):\n",
    "            print(coord_base, cell_class)\n",
    "            # cellBrowser only support 2D\n",
    "            coord_path = result_dir / f'{page_name}.{coord_base}.{cell_class}.tsv'\n",
    "            sub_df.to_csv(coord_path, sep='\\t')\n",
    "            COORD_PATH_LIST.append({'file': str(coord_path), \n",
    "                                    'shortLabel': f'{coord_base.upper()} {cell_class}'})\n",
    "    elif coord_base.upper().startswith('L3'):\n",
    "        # exclude outlier\n",
    "        selected_cell = cell_meta.index[cell_meta['SubType'].apply(lambda i: 'Outlier' not in i)]\n",
    "        _coord_df = coord_df.reindex(selected_cell)\n",
    "            \n",
    "        for cell_class, sub_df in _coord_df.groupby(cell_meta['MajorType']):\n",
    "            print(coord_base, cell_class)\n",
    "            \n",
    "            # cellBrowser only support 2D\n",
    "            coord_path = result_dir / f'{page_name}.{coord_base}.{cell_class}.tsv'\n",
    "            sub_df.to_csv(coord_path, sep='\\t')\n",
    "            COORD_PATH_LIST.append({'file': str(coord_path), \n",
    "                                    'shortLabel': f'{coord_base.upper()} {cell_class}',\n",
    "                                    'colorOnMeta': \"SubType\"})\n",
    "    else:\n",
    "        # cellBrowser only support 2D\n",
    "        coord_path = result_dir / f'{page_name}.{coord_base}.tsv'\n",
    "        coord_df.to_csv(coord_path, sep='\\t')\n",
    "        COORD_PATH_LIST.append({'file': str(coord_path), \n",
    "                                'shortLabel': f'{coord_base.upper()} ALL',\n",
    "                                'colorOnMeta': \"SubRegion\"})\n"
   ]
  },
  {
   "cell_type": "markdown",
   "metadata": {},
   "source": [
    "### Dissection Region embedding"
   ]
  },
  {
   "cell_type": "code",
   "execution_count": 12,
   "metadata": {
    "ExecuteTime": {
     "end_time": "2019-10-19T03:18:18.264209Z",
     "start_time": "2019-10-19T03:18:17.752574Z"
    }
   },
   "outputs": [
    {
     "name": "stderr",
     "output_type": "stream",
     "text": [
      "/home/hanliu/miniconda3/envs/clustering/lib/python3.7/site-packages/ipykernel_launcher.py:3: FutureWarning: The read_msgpack is deprecated and will be removed in a future version.\n",
      "It is recommended to use pyarrow for on-the-wire transmission of pandas objects.\n",
      "  This is separate from the ipykernel package so we can avoid doing imports until\n"
     ]
    }
   ],
   "source": [
    "dissection_embedding_dir = pathlib.Path('/home/hanliu/project/mouse_rostral_brain/study/DissectionRegions/')\n",
    "dissection_results = pd.concat([pd.read_msgpack(i) \n",
    "                                for i in dissection_embedding_dir.glob('*/Coords/cell_tidy_data.msg')])\n",
    "\n",
    "use_cells = cell_meta.index[cell_meta['MajorType'].apply(lambda i: 'Outlier' not in i)]\n",
    "dissection_results = dissection_results.reindex(use_cells)\n",
    "dissection_results.index.name = 'cellId'"
   ]
  },
  {
   "cell_type": "code",
   "execution_count": 13,
   "metadata": {
    "ExecuteTime": {
     "end_time": "2019-10-19T03:18:18.936056Z",
     "start_time": "2019-10-19T03:18:18.265681Z"
    }
   },
   "outputs": [],
   "source": [
    "dissection_coords_list = []\n",
    "for dissection_region, sub_df in dissection_results.groupby('Region'):\n",
    "    for coord_base in ['umap', 'tsne']:\n",
    "        coord_df = sub_df[[f'{coord_base}_0', f'{coord_base}_1']].copy()\n",
    "        coord_df.columns = ['x', 'y']\n",
    "        coord_path = result_dir / f'{page_name}.{coord_base}.REGION_{dissection_region}.tsv'\n",
    "        coord_df.to_csv(coord_path, sep='\\t')\n",
    "        dissection_coords_list.append({'file': str(coord_path), \n",
    "                                       'shortLabel': f'CEMBA {dissection_region} {coord_base.upper()}',\n",
    "                                       'colorOnMeta': \"SubType\"})"
   ]
  },
  {
   "cell_type": "code",
   "execution_count": 14,
   "metadata": {
    "ExecuteTime": {
     "end_time": "2019-10-19T03:18:18.939540Z",
     "start_time": "2019-10-19T03:18:18.937513Z"
    }
   },
   "outputs": [],
   "source": [
    "COORD_PATH_LIST = COORD_PATH_LIST + dissection_coords_list"
   ]
  },
  {
   "cell_type": "markdown",
   "metadata": {},
   "source": [
    "## Gene Matrix"
   ]
  },
  {
   "cell_type": "code",
   "execution_count": 15,
   "metadata": {
    "ExecuteTime": {
     "end_time": "2019-10-19T03:18:20.719929Z",
     "start_time": "2019-10-19T03:18:18.940787Z"
    }
   },
   "outputs": [
    {
     "name": "stderr",
     "output_type": "stream",
     "text": [
      "/home/hanliu/miniconda3/envs/clustering/lib/python3.7/site-packages/xarray/core/merge.py:18: FutureWarning: The Panel class is removed from pandas. Accessing it from the top-level namespace will also be removed in the next version\n",
      "  PANDAS_TYPES = (pd.Series, pd.DataFrame, pd.Panel)\n",
      "/home/hanliu/miniconda3/envs/clustering/lib/python3.7/site-packages/xarray/core/dataarray.py:1829: FutureWarning: The Panel class is removed from pandas. Accessing it from the top-level namespace will also be removed in the next version\n",
      "  'DataArray', pd.Series, pd.DataFrame, pd.Panel]:\n"
     ]
    },
    {
     "name": "stdout",
     "output_type": "stream",
     "text": [
      "[1, 1, 1, 1, 1, 1, 1, 1, 1, 1, 1]\n"
     ]
    }
   ],
   "source": [
    "from ALLCools.mcds.MCDS import MCDS\n",
    "\n",
    "gene_mcds = MCDS.open(gene_mcds_path_pattern,\n",
    "                      combine='nested',\n",
    "                      concat_dim='cell').sel(mc_type=mc_type, cell=cell_meta.index)"
   ]
  },
  {
   "cell_type": "code",
   "execution_count": 16,
   "metadata": {
    "ExecuteTime": {
     "end_time": "2019-10-19T03:18:20.730636Z",
     "start_time": "2019-10-19T03:18:20.722520Z"
    }
   },
   "outputs": [
    {
     "data": {
      "text/plain": [
       "<xarray.MCDS>\n",
       "Dimensions:      (cell: 103982, gene: 55487)\n",
       "Coordinates:\n",
       "    mc_type      <U3 'CGN'\n",
       "  * gene         (gene) object 'ENSMUSG00000102693.1' ... 'ENSMUSG00000064372.1'\n",
       "    strand_type  <U4 'both'\n",
       "    gene_chrom   (gene) object dask.array<shape=(55487,), chunksize=(55487,)>\n",
       "    gene_start   (gene) int64 dask.array<shape=(55487,), chunksize=(55487,)>\n",
       "    gene_end     (gene) int64 dask.array<shape=(55487,), chunksize=(55487,)>\n",
       "  * cell         (cell) object '10E_M_0' '10E_M_1' ... '9J_M_998' '9J_M_999'\n",
       "Data variables:\n",
       "    gene_da      (cell, gene) float64 dask.array<shape=(103982, 55487), chunksize=(456, 55487)>"
      ]
     },
     "execution_count": 16,
     "metadata": {},
     "output_type": "execute_result"
    }
   ],
   "source": [
    "gene_mcds"
   ]
  },
  {
   "cell_type": "markdown",
   "metadata": {},
   "source": [
    "### Save gene matrix"
   ]
  },
  {
   "cell_type": "code",
   "execution_count": 17,
   "metadata": {
    "ExecuteTime": {
     "end_time": "2019-10-19T03:18:20.736243Z",
     "start_time": "2019-10-19T03:18:20.732221Z"
    }
   },
   "outputs": [],
   "source": [
    "GENE_PATH_DICT = {}\n",
    "\n",
    "\n",
    "gene_df_path = result_dir / f'{page_name}.{mc_type}.gene.tsv'\n",
    "\n",
    "if not gene_df_path.exists():\n",
    "    _this_da = gene_mcds.sel(gene=gene_meta.index).squeeze()['gene_da']\n",
    "    # gene_df should be gene by cell, row is gene\n",
    "    gene_df = _this_da.to_pandas().T\n",
    "    gene_df.columns.name = ''\n",
    "    gene_df.index = gene_df.index.map(lambda i: f'{i}|{gene_meta.loc[i, \"gene_name\"]}')\n",
    "    gene_df.to_csv(gene_df_path, sep='\\t', float_format='%.2f')\n",
    "    GENE_PATH_DICT[mc_type] = gene_df_path\n",
    "                                      \n",
    "    del gene_df\n",
    "    del gene_mcds"
   ]
  },
  {
   "cell_type": "markdown",
   "metadata": {},
   "source": [
    "## Conf file"
   ]
  },
  {
   "cell_type": "code",
   "execution_count": 18,
   "metadata": {
    "ExecuteTime": {
     "end_time": "2019-10-19T03:18:20.740724Z",
     "start_time": "2019-10-19T03:18:20.737485Z"
    }
   },
   "outputs": [],
   "source": [
    "default_config_dict = {\n",
    "    'page_name': page_name + mc_type,\n",
    "    'page_priority': 10,\n",
    "    'page_tags': [],\n",
    "    'page_short_label': page_name + ' ' + mc_type,\n",
    "    'gene_matrix_path': gene_df_path.absolute(),\n",
    "    'cell_meta_path': CELL_META_PATH,\n",
    "    'categorical_cols': categorical_cols,\n",
    "    'coord_file_list': COORD_PATH_LIST,\n",
    "    'default_cluster_field': default_cluster_col,\n",
    "    'default_label_field': default_label_col,\n",
    "    'gene_value_unit': f'Norm {mc_type}%',\n",
    "    'color_path': COLOR_PATH,\n",
    "    'radius': radius,\n",
    "    'quick_gene_path': quick_gene_path\n",
    "}"
   ]
  },
  {
   "cell_type": "code",
   "execution_count": 19,
   "metadata": {
    "ExecuteTime": {
     "end_time": "2019-10-19T03:18:20.745688Z",
     "start_time": "2019-10-19T03:18:20.742133Z"
    }
   },
   "outputs": [],
   "source": [
    "with open('cellbrowser_template.conf') as f, open(result_dir / '__cellbrowser.conf', 'w') as out_f:\n",
    "    config_str_template = f.read()\n",
    "    config_str = config_str_template.format(**default_config_dict)\n",
    "    \n",
    "    # add collection\n",
    "    config_str += \"\\ncollections = ['CEMBA-RostralBrain']\"\n",
    "    \n",
    "    out_f.write(config_str)"
   ]
  },
  {
   "cell_type": "code",
   "execution_count": 20,
   "metadata": {
    "ExecuteTime": {
     "end_time": "2019-10-19T03:18:20.749790Z",
     "start_time": "2019-10-19T03:18:20.746893Z"
    },
    "scrolled": false
   },
   "outputs": [
    {
     "name": "stdout",
     "output_type": "stream",
     "text": [
      "# --------- REQUIRED SETTINGS --------------\n",
      "\n",
      "name = \"CEMBA-RostralBrainCGN\"\n",
      "\n",
      "priority = 10\n",
      "\n",
      "tags = []\n",
      "\n",
      "shortLabel=\"CEMBA-RostralBrain CGN\"\n",
      "\n",
      "exprMatrix=\"/home/hanliu/project/mouse_rostral_brain/study/ClusteringSummary/CellBrowser/CEMBA-RostralBrain_CGN/CEMBA-RostralBrain.CGN.gene.tsv\"\n",
      "\n",
      "geneIdType=\"auto\"\n",
      "\n",
      "meta=\"/home/hanliu/project/mouse_rostral_brain/study/ClusteringSummary/CellBrowser/CEMBA-RostralBrain_CGN/CEMBA-RostralBrain.cell_meta.tsv\"\n",
      "\n",
      "# we try to auto-detect the field type of fields in the meta data.\n",
      "# Sometimes, this doesn't work, e.g. when your cluster ID is a numer\n",
      "# or your C1 chip ID is a number, but you don't want them binned, you want\n",
      "# to treat as if they were categories\n",
      "enumFields = ['Row384', 'Col384', 'Row96', 'Col96', 'Pos96', 'FACS_Date', 'Plate', 'Region', 'Slice', 'index_name', 'uid', 'CellClass', 'MajorType', 'SubTypeMajorRegion', 'SubRegion']\n",
      "\n",
      "# tsv files with coordinates of every sample in format <sampleId, x, y>\n",
      "# first the name of the file, then a human readable description\n",
      "coords=[{'file': '/home/hanliu/project/mouse_rostral_brain/study/ClusteringSummary/CellBrowser/CEMBA-RostralBrain_CGN/CEMBA-RostralBrain.l1-tsne.tsv', 'shortLabel': 'L1-TSNE ALL', 'colorOnMeta': 'SubRegion'}, {'file': '/home/hanliu/project/mouse_rostral_brain/study/ClusteringSummary/CellBrowser/CEMBA-RostralBrain_CGN/CEMBA-RostralBrain.l1-umap.tsv', 'shortLabel': 'L1-UMAP ALL', 'colorOnMeta': 'SubRegion'}, {'file': '/home/hanliu/project/mouse_rostral_brain/study/ClusteringSummary/CellBrowser/CEMBA-RostralBrain_CGN/CEMBA-RostralBrain.l2-tsne.Exc.tsv', 'shortLabel': 'L2-TSNE Exc'}, {'file': '/home/hanliu/project/mouse_rostral_brain/study/ClusteringSummary/CellBrowser/CEMBA-RostralBrain_CGN/CEMBA-RostralBrain.l2-tsne.Exc-HPF.tsv', 'shortLabel': 'L2-TSNE Exc-HPF'}, {'file': '/home/hanliu/project/mouse_rostral_brain/study/ClusteringSummary/CellBrowser/CEMBA-RostralBrain_CGN/CEMBA-RostralBrain.l2-tsne.GC.tsv', 'shortLabel': 'L2-TSNE GC'}, {'file': '/home/hanliu/project/mouse_rostral_brain/study/ClusteringSummary/CellBrowser/CEMBA-RostralBrain_CGN/CEMBA-RostralBrain.l2-tsne.Inh.tsv', 'shortLabel': 'L2-TSNE Inh'}, {'file': '/home/hanliu/project/mouse_rostral_brain/study/ClusteringSummary/CellBrowser/CEMBA-RostralBrain_CGN/CEMBA-RostralBrain.l2-tsne.NonN.tsv', 'shortLabel': 'L2-TSNE NonN'}, {'file': '/home/hanliu/project/mouse_rostral_brain/study/ClusteringSummary/CellBrowser/CEMBA-RostralBrain_CGN/CEMBA-RostralBrain.l2-umap.Exc.tsv', 'shortLabel': 'L2-UMAP Exc'}, {'file': '/home/hanliu/project/mouse_rostral_brain/study/ClusteringSummary/CellBrowser/CEMBA-RostralBrain_CGN/CEMBA-RostralBrain.l2-umap.Exc-HPF.tsv', 'shortLabel': 'L2-UMAP Exc-HPF'}, {'file': '/home/hanliu/project/mouse_rostral_brain/study/ClusteringSummary/CellBrowser/CEMBA-RostralBrain_CGN/CEMBA-RostralBrain.l2-umap.GC.tsv', 'shortLabel': 'L2-UMAP GC'}, {'file': '/home/hanliu/project/mouse_rostral_brain/study/ClusteringSummary/CellBrowser/CEMBA-RostralBrain_CGN/CEMBA-RostralBrain.l2-umap.Inh.tsv', 'shortLabel': 'L2-UMAP Inh'}, {'file': '/home/hanliu/project/mouse_rostral_brain/study/ClusteringSummary/CellBrowser/CEMBA-RostralBrain_CGN/CEMBA-RostralBrain.l2-umap.NonN.tsv', 'shortLabel': 'L2-UMAP NonN'}, {'file': '/home/hanliu/project/mouse_rostral_brain/study/ClusteringSummary/CellBrowser/CEMBA-RostralBrain_CGN/CEMBA-RostralBrain.l3-tsne.ANP.tsv', 'shortLabel': 'L3-TSNE ANP', 'colorOnMeta': 'SubType'}, {'file': '/home/hanliu/project/mouse_rostral_brain/study/ClusteringSummary/CellBrowser/CEMBA-RostralBrain_CGN/CEMBA-RostralBrain.l3-tsne.ASC.tsv', 'shortLabel': 'L3-TSNE ASC', 'colorOnMeta': 'SubType'}, {'file': '/home/hanliu/project/mouse_rostral_brain/study/ClusteringSummary/CellBrowser/CEMBA-RostralBrain_CGN/CEMBA-RostralBrain.l3-tsne.CA1.tsv', 'shortLabel': 'L3-TSNE CA1', 'colorOnMeta': 'SubType'}, {'file': '/home/hanliu/project/mouse_rostral_brain/study/ClusteringSummary/CellBrowser/CEMBA-RostralBrain_CGN/CEMBA-RostralBrain.l3-tsne.CA3.tsv', 'shortLabel': 'L3-TSNE CA3', 'colorOnMeta': 'SubType'}, {'file': '/home/hanliu/project/mouse_rostral_brain/study/ClusteringSummary/CellBrowser/CEMBA-RostralBrain_CGN/CEMBA-RostralBrain.l3-tsne.CA3-St18.tsv', 'shortLabel': 'L3-TSNE CA3-St18', 'colorOnMeta': 'SubType'}, {'file': '/home/hanliu/project/mouse_rostral_brain/study/ClusteringSummary/CellBrowser/CEMBA-RostralBrain_CGN/CEMBA-RostralBrain.l3-tsne.CGE-Lamp5.tsv', 'shortLabel': 'L3-TSNE CGE-Lamp5', 'colorOnMeta': 'SubType'}, {'file': '/home/hanliu/project/mouse_rostral_brain/study/ClusteringSummary/CellBrowser/CEMBA-RostralBrain_CGN/CEMBA-RostralBrain.l3-tsne.CGE-Vip.tsv', 'shortLabel': 'L3-TSNE CGE-Vip', 'colorOnMeta': 'SubType'}, {'file': '/home/hanliu/project/mouse_rostral_brain/study/ClusteringSummary/CellBrowser/CEMBA-RostralBrain_CGN/CEMBA-RostralBrain.l3-tsne.CLA.tsv', 'shortLabel': 'L3-TSNE CLA', 'colorOnMeta': 'SubType'}, {'file': '/home/hanliu/project/mouse_rostral_brain/study/ClusteringSummary/CellBrowser/CEMBA-RostralBrain_CGN/CEMBA-RostralBrain.l3-tsne.CT-L6.tsv', 'shortLabel': 'L3-TSNE CT-L6', 'colorOnMeta': 'SubType'}, {'file': '/home/hanliu/project/mouse_rostral_brain/study/ClusteringSummary/CellBrowser/CEMBA-RostralBrain_CGN/CEMBA-RostralBrain.l3-tsne.Chd7.tsv', 'shortLabel': 'L3-TSNE Chd7', 'colorOnMeta': 'SubType'}, {'file': '/home/hanliu/project/mouse_rostral_brain/study/ClusteringSummary/CellBrowser/CEMBA-RostralBrain_CGN/CEMBA-RostralBrain.l3-tsne.D1L-Fstl4.tsv', 'shortLabel': 'L3-TSNE D1L-Fstl4', 'colorOnMeta': 'SubType'}, {'file': '/home/hanliu/project/mouse_rostral_brain/study/ClusteringSummary/CellBrowser/CEMBA-RostralBrain_CGN/CEMBA-RostralBrain.l3-tsne.D1L-PAL.tsv', 'shortLabel': 'L3-TSNE D1L-PAL', 'colorOnMeta': 'SubType'}, {'file': '/home/hanliu/project/mouse_rostral_brain/study/ClusteringSummary/CellBrowser/CEMBA-RostralBrain_CGN/CEMBA-RostralBrain.l3-tsne.DG.tsv', 'shortLabel': 'L3-TSNE DG', 'colorOnMeta': 'SubType'}, {'file': '/home/hanliu/project/mouse_rostral_brain/study/ClusteringSummary/CellBrowser/CEMBA-RostralBrain_CGN/CEMBA-RostralBrain.l3-tsne.DG-po.tsv', 'shortLabel': 'L3-TSNE DG-po', 'colorOnMeta': 'SubType'}, {'file': '/home/hanliu/project/mouse_rostral_brain/study/ClusteringSummary/CellBrowser/CEMBA-RostralBrain_CGN/CEMBA-RostralBrain.l3-tsne.EC.tsv', 'shortLabel': 'L3-TSNE EC', 'colorOnMeta': 'SubType'}, {'file': '/home/hanliu/project/mouse_rostral_brain/study/ClusteringSummary/CellBrowser/CEMBA-RostralBrain_CGN/CEMBA-RostralBrain.l3-tsne.EP.tsv', 'shortLabel': 'L3-TSNE EP', 'colorOnMeta': 'SubType'}, {'file': '/home/hanliu/project/mouse_rostral_brain/study/ClusteringSummary/CellBrowser/CEMBA-RostralBrain_CGN/CEMBA-RostralBrain.l3-tsne.Foxp2.tsv', 'shortLabel': 'L3-TSNE Foxp2', 'colorOnMeta': 'SubType'}, {'file': '/home/hanliu/project/mouse_rostral_brain/study/ClusteringSummary/CellBrowser/CEMBA-RostralBrain_CGN/CEMBA-RostralBrain.l3-tsne.Gfra1.tsv', 'shortLabel': 'L3-TSNE Gfra1', 'colorOnMeta': 'SubType'}, {'file': '/home/hanliu/project/mouse_rostral_brain/study/ClusteringSummary/CellBrowser/CEMBA-RostralBrain_CGN/CEMBA-RostralBrain.l3-tsne.IG-CA2.tsv', 'shortLabel': 'L3-TSNE IG-CA2', 'colorOnMeta': 'SubType'}, {'file': '/home/hanliu/project/mouse_rostral_brain/study/ClusteringSummary/CellBrowser/CEMBA-RostralBrain_CGN/CEMBA-RostralBrain.l3-tsne.IT-L23.tsv', 'shortLabel': 'L3-TSNE IT-L23', 'colorOnMeta': 'SubType'}, {'file': '/home/hanliu/project/mouse_rostral_brain/study/ClusteringSummary/CellBrowser/CEMBA-RostralBrain_CGN/CEMBA-RostralBrain.l3-tsne.IT-L4.tsv', 'shortLabel': 'L3-TSNE IT-L4', 'colorOnMeta': 'SubType'}, {'file': '/home/hanliu/project/mouse_rostral_brain/study/ClusteringSummary/CellBrowser/CEMBA-RostralBrain_CGN/CEMBA-RostralBrain.l3-tsne.IT-L5.tsv', 'shortLabel': 'L3-TSNE IT-L5', 'colorOnMeta': 'SubType'}, {'file': '/home/hanliu/project/mouse_rostral_brain/study/ClusteringSummary/CellBrowser/CEMBA-RostralBrain_CGN/CEMBA-RostralBrain.l3-tsne.IT-L6.tsv', 'shortLabel': 'L3-TSNE IT-L6', 'colorOnMeta': 'SubType'}, {'file': '/home/hanliu/project/mouse_rostral_brain/study/ClusteringSummary/CellBrowser/CEMBA-RostralBrain_CGN/CEMBA-RostralBrain.l3-tsne.L6b.tsv', 'shortLabel': 'L3-TSNE L6b', 'colorOnMeta': 'SubType'}, {'file': '/home/hanliu/project/mouse_rostral_brain/study/ClusteringSummary/CellBrowser/CEMBA-RostralBrain_CGN/CEMBA-RostralBrain.l3-tsne.LSX-Inh.tsv', 'shortLabel': 'L3-TSNE LSX-Inh', 'colorOnMeta': 'SubType'}, {'file': '/home/hanliu/project/mouse_rostral_brain/study/ClusteringSummary/CellBrowser/CEMBA-RostralBrain_CGN/CEMBA-RostralBrain.l3-tsne.MGC.tsv', 'shortLabel': 'L3-TSNE MGC', 'colorOnMeta': 'SubType'}, {'file': '/home/hanliu/project/mouse_rostral_brain/study/ClusteringSummary/CellBrowser/CEMBA-RostralBrain_CGN/CEMBA-RostralBrain.l3-tsne.MGE-Pvalb.tsv', 'shortLabel': 'L3-TSNE MGE-Pvalb', 'colorOnMeta': 'SubType'}, {'file': '/home/hanliu/project/mouse_rostral_brain/study/ClusteringSummary/CellBrowser/CEMBA-RostralBrain_CGN/CEMBA-RostralBrain.l3-tsne.MGE-Sst.tsv', 'shortLabel': 'L3-TSNE MGE-Sst', 'colorOnMeta': 'SubType'}, {'file': '/home/hanliu/project/mouse_rostral_brain/study/ClusteringSummary/CellBrowser/CEMBA-RostralBrain_CGN/CEMBA-RostralBrain.l3-tsne.MSN-D1.tsv', 'shortLabel': 'L3-TSNE MSN-D1', 'colorOnMeta': 'SubType'}, {'file': '/home/hanliu/project/mouse_rostral_brain/study/ClusteringSummary/CellBrowser/CEMBA-RostralBrain_CGN/CEMBA-RostralBrain.l3-tsne.MSN-D2.tsv', 'shortLabel': 'L3-TSNE MSN-D2', 'colorOnMeta': 'SubType'}, {'file': '/home/hanliu/project/mouse_rostral_brain/study/ClusteringSummary/CellBrowser/CEMBA-RostralBrain_CGN/CEMBA-RostralBrain.l3-tsne.NP-L6.tsv', 'shortLabel': 'L3-TSNE NP-L6', 'colorOnMeta': 'SubType'}, {'file': '/home/hanliu/project/mouse_rostral_brain/study/ClusteringSummary/CellBrowser/CEMBA-RostralBrain_CGN/CEMBA-RostralBrain.l3-tsne.ODC.tsv', 'shortLabel': 'L3-TSNE ODC', 'colorOnMeta': 'SubType'}, {'file': '/home/hanliu/project/mouse_rostral_brain/study/ClusteringSummary/CellBrowser/CEMBA-RostralBrain_CGN/CEMBA-RostralBrain.l3-tsne.OLF.tsv', 'shortLabel': 'L3-TSNE OLF', 'colorOnMeta': 'SubType'}, {'file': '/home/hanliu/project/mouse_rostral_brain/study/ClusteringSummary/CellBrowser/CEMBA-RostralBrain_CGN/CEMBA-RostralBrain.l3-tsne.OLF-Exc.tsv', 'shortLabel': 'L3-TSNE OLF-Exc', 'colorOnMeta': 'SubType'}, {'file': '/home/hanliu/project/mouse_rostral_brain/study/ClusteringSummary/CellBrowser/CEMBA-RostralBrain_CGN/CEMBA-RostralBrain.l3-tsne.OPC.tsv', 'shortLabel': 'L3-TSNE OPC', 'colorOnMeta': 'SubType'}, {'file': '/home/hanliu/project/mouse_rostral_brain/study/ClusteringSummary/CellBrowser/CEMBA-RostralBrain_CGN/CEMBA-RostralBrain.l3-tsne.PAL-Inh.tsv', 'shortLabel': 'L3-TSNE PAL-Inh', 'colorOnMeta': 'SubType'}, {'file': '/home/hanliu/project/mouse_rostral_brain/study/ClusteringSummary/CellBrowser/CEMBA-RostralBrain_CGN/CEMBA-RostralBrain.l3-tsne.PC.tsv', 'shortLabel': 'L3-TSNE PC', 'colorOnMeta': 'SubType'}, {'file': '/home/hanliu/project/mouse_rostral_brain/study/ClusteringSummary/CellBrowser/CEMBA-RostralBrain_CGN/CEMBA-RostralBrain.l3-tsne.PT-L5.tsv', 'shortLabel': 'L3-TSNE PT-L5', 'colorOnMeta': 'SubType'}, {'file': '/home/hanliu/project/mouse_rostral_brain/study/ClusteringSummary/CellBrowser/CEMBA-RostralBrain_CGN/CEMBA-RostralBrain.l3-tsne.Unc5c.tsv', 'shortLabel': 'L3-TSNE Unc5c', 'colorOnMeta': 'SubType'}, {'file': '/home/hanliu/project/mouse_rostral_brain/study/ClusteringSummary/CellBrowser/CEMBA-RostralBrain_CGN/CEMBA-RostralBrain.l3-tsne.VLMC.tsv', 'shortLabel': 'L3-TSNE VLMC', 'colorOnMeta': 'SubType'}, {'file': '/home/hanliu/project/mouse_rostral_brain/study/ClusteringSummary/CellBrowser/CEMBA-RostralBrain_CGN/CEMBA-RostralBrain.l3-tsne.VLMC-Pia.tsv', 'shortLabel': 'L3-TSNE VLMC-Pia', 'colorOnMeta': 'SubType'}, {'file': '/home/hanliu/project/mouse_rostral_brain/study/ClusteringSummary/CellBrowser/CEMBA-RostralBrain_CGN/CEMBA-RostralBrain.l3-umap.ANP.tsv', 'shortLabel': 'L3-UMAP ANP', 'colorOnMeta': 'SubType'}, {'file': '/home/hanliu/project/mouse_rostral_brain/study/ClusteringSummary/CellBrowser/CEMBA-RostralBrain_CGN/CEMBA-RostralBrain.l3-umap.ASC.tsv', 'shortLabel': 'L3-UMAP ASC', 'colorOnMeta': 'SubType'}, {'file': '/home/hanliu/project/mouse_rostral_brain/study/ClusteringSummary/CellBrowser/CEMBA-RostralBrain_CGN/CEMBA-RostralBrain.l3-umap.CA1.tsv', 'shortLabel': 'L3-UMAP CA1', 'colorOnMeta': 'SubType'}, {'file': '/home/hanliu/project/mouse_rostral_brain/study/ClusteringSummary/CellBrowser/CEMBA-RostralBrain_CGN/CEMBA-RostralBrain.l3-umap.CA3.tsv', 'shortLabel': 'L3-UMAP CA3', 'colorOnMeta': 'SubType'}, {'file': '/home/hanliu/project/mouse_rostral_brain/study/ClusteringSummary/CellBrowser/CEMBA-RostralBrain_CGN/CEMBA-RostralBrain.l3-umap.CA3-St18.tsv', 'shortLabel': 'L3-UMAP CA3-St18', 'colorOnMeta': 'SubType'}, {'file': '/home/hanliu/project/mouse_rostral_brain/study/ClusteringSummary/CellBrowser/CEMBA-RostralBrain_CGN/CEMBA-RostralBrain.l3-umap.CGE-Lamp5.tsv', 'shortLabel': 'L3-UMAP CGE-Lamp5', 'colorOnMeta': 'SubType'}, {'file': '/home/hanliu/project/mouse_rostral_brain/study/ClusteringSummary/CellBrowser/CEMBA-RostralBrain_CGN/CEMBA-RostralBrain.l3-umap.CGE-Vip.tsv', 'shortLabel': 'L3-UMAP CGE-Vip', 'colorOnMeta': 'SubType'}, {'file': '/home/hanliu/project/mouse_rostral_brain/study/ClusteringSummary/CellBrowser/CEMBA-RostralBrain_CGN/CEMBA-RostralBrain.l3-umap.CLA.tsv', 'shortLabel': 'L3-UMAP CLA', 'colorOnMeta': 'SubType'}, {'file': '/home/hanliu/project/mouse_rostral_brain/study/ClusteringSummary/CellBrowser/CEMBA-RostralBrain_CGN/CEMBA-RostralBrain.l3-umap.CT-L6.tsv', 'shortLabel': 'L3-UMAP CT-L6', 'colorOnMeta': 'SubType'}, {'file': '/home/hanliu/project/mouse_rostral_brain/study/ClusteringSummary/CellBrowser/CEMBA-RostralBrain_CGN/CEMBA-RostralBrain.l3-umap.Chd7.tsv', 'shortLabel': 'L3-UMAP Chd7', 'colorOnMeta': 'SubType'}, {'file': '/home/hanliu/project/mouse_rostral_brain/study/ClusteringSummary/CellBrowser/CEMBA-RostralBrain_CGN/CEMBA-RostralBrain.l3-umap.D1L-Fstl4.tsv', 'shortLabel': 'L3-UMAP D1L-Fstl4', 'colorOnMeta': 'SubType'}, {'file': '/home/hanliu/project/mouse_rostral_brain/study/ClusteringSummary/CellBrowser/CEMBA-RostralBrain_CGN/CEMBA-RostralBrain.l3-umap.D1L-PAL.tsv', 'shortLabel': 'L3-UMAP D1L-PAL', 'colorOnMeta': 'SubType'}, {'file': '/home/hanliu/project/mouse_rostral_brain/study/ClusteringSummary/CellBrowser/CEMBA-RostralBrain_CGN/CEMBA-RostralBrain.l3-umap.DG.tsv', 'shortLabel': 'L3-UMAP DG', 'colorOnMeta': 'SubType'}, {'file': '/home/hanliu/project/mouse_rostral_brain/study/ClusteringSummary/CellBrowser/CEMBA-RostralBrain_CGN/CEMBA-RostralBrain.l3-umap.DG-po.tsv', 'shortLabel': 'L3-UMAP DG-po', 'colorOnMeta': 'SubType'}, {'file': '/home/hanliu/project/mouse_rostral_brain/study/ClusteringSummary/CellBrowser/CEMBA-RostralBrain_CGN/CEMBA-RostralBrain.l3-umap.EC.tsv', 'shortLabel': 'L3-UMAP EC', 'colorOnMeta': 'SubType'}, {'file': '/home/hanliu/project/mouse_rostral_brain/study/ClusteringSummary/CellBrowser/CEMBA-RostralBrain_CGN/CEMBA-RostralBrain.l3-umap.EP.tsv', 'shortLabel': 'L3-UMAP EP', 'colorOnMeta': 'SubType'}, {'file': '/home/hanliu/project/mouse_rostral_brain/study/ClusteringSummary/CellBrowser/CEMBA-RostralBrain_CGN/CEMBA-RostralBrain.l3-umap.Foxp2.tsv', 'shortLabel': 'L3-UMAP Foxp2', 'colorOnMeta': 'SubType'}, {'file': '/home/hanliu/project/mouse_rostral_brain/study/ClusteringSummary/CellBrowser/CEMBA-RostralBrain_CGN/CEMBA-RostralBrain.l3-umap.Gfra1.tsv', 'shortLabel': 'L3-UMAP Gfra1', 'colorOnMeta': 'SubType'}, {'file': '/home/hanliu/project/mouse_rostral_brain/study/ClusteringSummary/CellBrowser/CEMBA-RostralBrain_CGN/CEMBA-RostralBrain.l3-umap.IG-CA2.tsv', 'shortLabel': 'L3-UMAP IG-CA2', 'colorOnMeta': 'SubType'}, {'file': '/home/hanliu/project/mouse_rostral_brain/study/ClusteringSummary/CellBrowser/CEMBA-RostralBrain_CGN/CEMBA-RostralBrain.l3-umap.IT-L23.tsv', 'shortLabel': 'L3-UMAP IT-L23', 'colorOnMeta': 'SubType'}, {'file': '/home/hanliu/project/mouse_rostral_brain/study/ClusteringSummary/CellBrowser/CEMBA-RostralBrain_CGN/CEMBA-RostralBrain.l3-umap.IT-L4.tsv', 'shortLabel': 'L3-UMAP IT-L4', 'colorOnMeta': 'SubType'}, {'file': '/home/hanliu/project/mouse_rostral_brain/study/ClusteringSummary/CellBrowser/CEMBA-RostralBrain_CGN/CEMBA-RostralBrain.l3-umap.IT-L5.tsv', 'shortLabel': 'L3-UMAP IT-L5', 'colorOnMeta': 'SubType'}, {'file': '/home/hanliu/project/mouse_rostral_brain/study/ClusteringSummary/CellBrowser/CEMBA-RostralBrain_CGN/CEMBA-RostralBrain.l3-umap.IT-L6.tsv', 'shortLabel': 'L3-UMAP IT-L6', 'colorOnMeta': 'SubType'}, {'file': '/home/hanliu/project/mouse_rostral_brain/study/ClusteringSummary/CellBrowser/CEMBA-RostralBrain_CGN/CEMBA-RostralBrain.l3-umap.L6b.tsv', 'shortLabel': 'L3-UMAP L6b', 'colorOnMeta': 'SubType'}, {'file': '/home/hanliu/project/mouse_rostral_brain/study/ClusteringSummary/CellBrowser/CEMBA-RostralBrain_CGN/CEMBA-RostralBrain.l3-umap.LSX-Inh.tsv', 'shortLabel': 'L3-UMAP LSX-Inh', 'colorOnMeta': 'SubType'}, {'file': '/home/hanliu/project/mouse_rostral_brain/study/ClusteringSummary/CellBrowser/CEMBA-RostralBrain_CGN/CEMBA-RostralBrain.l3-umap.MGC.tsv', 'shortLabel': 'L3-UMAP MGC', 'colorOnMeta': 'SubType'}, {'file': '/home/hanliu/project/mouse_rostral_brain/study/ClusteringSummary/CellBrowser/CEMBA-RostralBrain_CGN/CEMBA-RostralBrain.l3-umap.MGE-Pvalb.tsv', 'shortLabel': 'L3-UMAP MGE-Pvalb', 'colorOnMeta': 'SubType'}, {'file': '/home/hanliu/project/mouse_rostral_brain/study/ClusteringSummary/CellBrowser/CEMBA-RostralBrain_CGN/CEMBA-RostralBrain.l3-umap.MGE-Sst.tsv', 'shortLabel': 'L3-UMAP MGE-Sst', 'colorOnMeta': 'SubType'}, {'file': '/home/hanliu/project/mouse_rostral_brain/study/ClusteringSummary/CellBrowser/CEMBA-RostralBrain_CGN/CEMBA-RostralBrain.l3-umap.MSN-D1.tsv', 'shortLabel': 'L3-UMAP MSN-D1', 'colorOnMeta': 'SubType'}, {'file': '/home/hanliu/project/mouse_rostral_brain/study/ClusteringSummary/CellBrowser/CEMBA-RostralBrain_CGN/CEMBA-RostralBrain.l3-umap.MSN-D2.tsv', 'shortLabel': 'L3-UMAP MSN-D2', 'colorOnMeta': 'SubType'}, {'file': '/home/hanliu/project/mouse_rostral_brain/study/ClusteringSummary/CellBrowser/CEMBA-RostralBrain_CGN/CEMBA-RostralBrain.l3-umap.NP-L6.tsv', 'shortLabel': 'L3-UMAP NP-L6', 'colorOnMeta': 'SubType'}, {'file': '/home/hanliu/project/mouse_rostral_brain/study/ClusteringSummary/CellBrowser/CEMBA-RostralBrain_CGN/CEMBA-RostralBrain.l3-umap.ODC.tsv', 'shortLabel': 'L3-UMAP ODC', 'colorOnMeta': 'SubType'}, {'file': '/home/hanliu/project/mouse_rostral_brain/study/ClusteringSummary/CellBrowser/CEMBA-RostralBrain_CGN/CEMBA-RostralBrain.l3-umap.OLF.tsv', 'shortLabel': 'L3-UMAP OLF', 'colorOnMeta': 'SubType'}, {'file': '/home/hanliu/project/mouse_rostral_brain/study/ClusteringSummary/CellBrowser/CEMBA-RostralBrain_CGN/CEMBA-RostralBrain.l3-umap.OLF-Exc.tsv', 'shortLabel': 'L3-UMAP OLF-Exc', 'colorOnMeta': 'SubType'}, {'file': '/home/hanliu/project/mouse_rostral_brain/study/ClusteringSummary/CellBrowser/CEMBA-RostralBrain_CGN/CEMBA-RostralBrain.l3-umap.OPC.tsv', 'shortLabel': 'L3-UMAP OPC', 'colorOnMeta': 'SubType'}, {'file': '/home/hanliu/project/mouse_rostral_brain/study/ClusteringSummary/CellBrowser/CEMBA-RostralBrain_CGN/CEMBA-RostralBrain.l3-umap.PAL-Inh.tsv', 'shortLabel': 'L3-UMAP PAL-Inh', 'colorOnMeta': 'SubType'}, {'file': '/home/hanliu/project/mouse_rostral_brain/study/ClusteringSummary/CellBrowser/CEMBA-RostralBrain_CGN/CEMBA-RostralBrain.l3-umap.PC.tsv', 'shortLabel': 'L3-UMAP PC', 'colorOnMeta': 'SubType'}, {'file': '/home/hanliu/project/mouse_rostral_brain/study/ClusteringSummary/CellBrowser/CEMBA-RostralBrain_CGN/CEMBA-RostralBrain.l3-umap.PT-L5.tsv', 'shortLabel': 'L3-UMAP PT-L5', 'colorOnMeta': 'SubType'}, {'file': '/home/hanliu/project/mouse_rostral_brain/study/ClusteringSummary/CellBrowser/CEMBA-RostralBrain_CGN/CEMBA-RostralBrain.l3-umap.Unc5c.tsv', 'shortLabel': 'L3-UMAP Unc5c', 'colorOnMeta': 'SubType'}, {'file': '/home/hanliu/project/mouse_rostral_brain/study/ClusteringSummary/CellBrowser/CEMBA-RostralBrain_CGN/CEMBA-RostralBrain.l3-umap.VLMC.tsv', 'shortLabel': 'L3-UMAP VLMC', 'colorOnMeta': 'SubType'}, {'file': '/home/hanliu/project/mouse_rostral_brain/study/ClusteringSummary/CellBrowser/CEMBA-RostralBrain_CGN/CEMBA-RostralBrain.l3-umap.VLMC-Pia.tsv', 'shortLabel': 'L3-UMAP VLMC-Pia', 'colorOnMeta': 'SubType'}, {'file': '/home/hanliu/project/mouse_rostral_brain/study/ClusteringSummary/CellBrowser/CEMBA-RostralBrain_CGN/CEMBA-RostralBrain.umap.REGION_10E.tsv', 'shortLabel': 'CEMBA 10E UMAP', 'colorOnMeta': 'SubType'}, {'file': '/home/hanliu/project/mouse_rostral_brain/study/ClusteringSummary/CellBrowser/CEMBA-RostralBrain_CGN/CEMBA-RostralBrain.tsne.REGION_10E.tsv', 'shortLabel': 'CEMBA 10E TSNE', 'colorOnMeta': 'SubType'}, {'file': '/home/hanliu/project/mouse_rostral_brain/study/ClusteringSummary/CellBrowser/CEMBA-RostralBrain_CGN/CEMBA-RostralBrain.umap.REGION_10F.tsv', 'shortLabel': 'CEMBA 10F UMAP', 'colorOnMeta': 'SubType'}, {'file': '/home/hanliu/project/mouse_rostral_brain/study/ClusteringSummary/CellBrowser/CEMBA-RostralBrain_CGN/CEMBA-RostralBrain.tsne.REGION_10F.tsv', 'shortLabel': 'CEMBA 10F TSNE', 'colorOnMeta': 'SubType'}, {'file': '/home/hanliu/project/mouse_rostral_brain/study/ClusteringSummary/CellBrowser/CEMBA-RostralBrain_CGN/CEMBA-RostralBrain.umap.REGION_11E.tsv', 'shortLabel': 'CEMBA 11E UMAP', 'colorOnMeta': 'SubType'}, {'file': '/home/hanliu/project/mouse_rostral_brain/study/ClusteringSummary/CellBrowser/CEMBA-RostralBrain_CGN/CEMBA-RostralBrain.tsne.REGION_11E.tsv', 'shortLabel': 'CEMBA 11E TSNE', 'colorOnMeta': 'SubType'}, {'file': '/home/hanliu/project/mouse_rostral_brain/study/ClusteringSummary/CellBrowser/CEMBA-RostralBrain_CGN/CEMBA-RostralBrain.umap.REGION_11F.tsv', 'shortLabel': 'CEMBA 11F UMAP', 'colorOnMeta': 'SubType'}, {'file': '/home/hanliu/project/mouse_rostral_brain/study/ClusteringSummary/CellBrowser/CEMBA-RostralBrain_CGN/CEMBA-RostralBrain.tsne.REGION_11F.tsv', 'shortLabel': 'CEMBA 11F TSNE', 'colorOnMeta': 'SubType'}, {'file': '/home/hanliu/project/mouse_rostral_brain/study/ClusteringSummary/CellBrowser/CEMBA-RostralBrain_CGN/CEMBA-RostralBrain.umap.REGION_1A.tsv', 'shortLabel': 'CEMBA 1A UMAP', 'colorOnMeta': 'SubType'}, {'file': '/home/hanliu/project/mouse_rostral_brain/study/ClusteringSummary/CellBrowser/CEMBA-RostralBrain_CGN/CEMBA-RostralBrain.tsne.REGION_1A.tsv', 'shortLabel': 'CEMBA 1A TSNE', 'colorOnMeta': 'SubType'}, {'file': '/home/hanliu/project/mouse_rostral_brain/study/ClusteringSummary/CellBrowser/CEMBA-RostralBrain_CGN/CEMBA-RostralBrain.umap.REGION_1B.tsv', 'shortLabel': 'CEMBA 1B UMAP', 'colorOnMeta': 'SubType'}, {'file': '/home/hanliu/project/mouse_rostral_brain/study/ClusteringSummary/CellBrowser/CEMBA-RostralBrain_CGN/CEMBA-RostralBrain.tsne.REGION_1B.tsv', 'shortLabel': 'CEMBA 1B TSNE', 'colorOnMeta': 'SubType'}, {'file': '/home/hanliu/project/mouse_rostral_brain/study/ClusteringSummary/CellBrowser/CEMBA-RostralBrain_CGN/CEMBA-RostralBrain.umap.REGION_1C.tsv', 'shortLabel': 'CEMBA 1C UMAP', 'colorOnMeta': 'SubType'}, {'file': '/home/hanliu/project/mouse_rostral_brain/study/ClusteringSummary/CellBrowser/CEMBA-RostralBrain_CGN/CEMBA-RostralBrain.tsne.REGION_1C.tsv', 'shortLabel': 'CEMBA 1C TSNE', 'colorOnMeta': 'SubType'}, {'file': '/home/hanliu/project/mouse_rostral_brain/study/ClusteringSummary/CellBrowser/CEMBA-RostralBrain_CGN/CEMBA-RostralBrain.umap.REGION_2A.tsv', 'shortLabel': 'CEMBA 2A UMAP', 'colorOnMeta': 'SubType'}, {'file': '/home/hanliu/project/mouse_rostral_brain/study/ClusteringSummary/CellBrowser/CEMBA-RostralBrain_CGN/CEMBA-RostralBrain.tsne.REGION_2A.tsv', 'shortLabel': 'CEMBA 2A TSNE', 'colorOnMeta': 'SubType'}, {'file': '/home/hanliu/project/mouse_rostral_brain/study/ClusteringSummary/CellBrowser/CEMBA-RostralBrain_CGN/CEMBA-RostralBrain.umap.REGION_2B.tsv', 'shortLabel': 'CEMBA 2B UMAP', 'colorOnMeta': 'SubType'}, {'file': '/home/hanliu/project/mouse_rostral_brain/study/ClusteringSummary/CellBrowser/CEMBA-RostralBrain_CGN/CEMBA-RostralBrain.tsne.REGION_2B.tsv', 'shortLabel': 'CEMBA 2B TSNE', 'colorOnMeta': 'SubType'}, {'file': '/home/hanliu/project/mouse_rostral_brain/study/ClusteringSummary/CellBrowser/CEMBA-RostralBrain_CGN/CEMBA-RostralBrain.umap.REGION_2C.tsv', 'shortLabel': 'CEMBA 2C UMAP', 'colorOnMeta': 'SubType'}, {'file': '/home/hanliu/project/mouse_rostral_brain/study/ClusteringSummary/CellBrowser/CEMBA-RostralBrain_CGN/CEMBA-RostralBrain.tsne.REGION_2C.tsv', 'shortLabel': 'CEMBA 2C TSNE', 'colorOnMeta': 'SubType'}, {'file': '/home/hanliu/project/mouse_rostral_brain/study/ClusteringSummary/CellBrowser/CEMBA-RostralBrain_CGN/CEMBA-RostralBrain.umap.REGION_2D.tsv', 'shortLabel': 'CEMBA 2D UMAP', 'colorOnMeta': 'SubType'}, {'file': '/home/hanliu/project/mouse_rostral_brain/study/ClusteringSummary/CellBrowser/CEMBA-RostralBrain_CGN/CEMBA-RostralBrain.tsne.REGION_2D.tsv', 'shortLabel': 'CEMBA 2D TSNE', 'colorOnMeta': 'SubType'}, {'file': '/home/hanliu/project/mouse_rostral_brain/study/ClusteringSummary/CellBrowser/CEMBA-RostralBrain_CGN/CEMBA-RostralBrain.umap.REGION_2E.tsv', 'shortLabel': 'CEMBA 2E UMAP', 'colorOnMeta': 'SubType'}, {'file': '/home/hanliu/project/mouse_rostral_brain/study/ClusteringSummary/CellBrowser/CEMBA-RostralBrain_CGN/CEMBA-RostralBrain.tsne.REGION_2E.tsv', 'shortLabel': 'CEMBA 2E TSNE', 'colorOnMeta': 'SubType'}, {'file': '/home/hanliu/project/mouse_rostral_brain/study/ClusteringSummary/CellBrowser/CEMBA-RostralBrain_CGN/CEMBA-RostralBrain.umap.REGION_3A.tsv', 'shortLabel': 'CEMBA 3A UMAP', 'colorOnMeta': 'SubType'}, {'file': '/home/hanliu/project/mouse_rostral_brain/study/ClusteringSummary/CellBrowser/CEMBA-RostralBrain_CGN/CEMBA-RostralBrain.tsne.REGION_3A.tsv', 'shortLabel': 'CEMBA 3A TSNE', 'colorOnMeta': 'SubType'}, {'file': '/home/hanliu/project/mouse_rostral_brain/study/ClusteringSummary/CellBrowser/CEMBA-RostralBrain_CGN/CEMBA-RostralBrain.umap.REGION_3B.tsv', 'shortLabel': 'CEMBA 3B UMAP', 'colorOnMeta': 'SubType'}, {'file': '/home/hanliu/project/mouse_rostral_brain/study/ClusteringSummary/CellBrowser/CEMBA-RostralBrain_CGN/CEMBA-RostralBrain.tsne.REGION_3B.tsv', 'shortLabel': 'CEMBA 3B TSNE', 'colorOnMeta': 'SubType'}, {'file': '/home/hanliu/project/mouse_rostral_brain/study/ClusteringSummary/CellBrowser/CEMBA-RostralBrain_CGN/CEMBA-RostralBrain.umap.REGION_3C.tsv', 'shortLabel': 'CEMBA 3C UMAP', 'colorOnMeta': 'SubType'}, {'file': '/home/hanliu/project/mouse_rostral_brain/study/ClusteringSummary/CellBrowser/CEMBA-RostralBrain_CGN/CEMBA-RostralBrain.tsne.REGION_3C.tsv', 'shortLabel': 'CEMBA 3C TSNE', 'colorOnMeta': 'SubType'}, {'file': '/home/hanliu/project/mouse_rostral_brain/study/ClusteringSummary/CellBrowser/CEMBA-RostralBrain_CGN/CEMBA-RostralBrain.umap.REGION_3D.tsv', 'shortLabel': 'CEMBA 3D UMAP', 'colorOnMeta': 'SubType'}, {'file': '/home/hanliu/project/mouse_rostral_brain/study/ClusteringSummary/CellBrowser/CEMBA-RostralBrain_CGN/CEMBA-RostralBrain.tsne.REGION_3D.tsv', 'shortLabel': 'CEMBA 3D TSNE', 'colorOnMeta': 'SubType'}, {'file': '/home/hanliu/project/mouse_rostral_brain/study/ClusteringSummary/CellBrowser/CEMBA-RostralBrain_CGN/CEMBA-RostralBrain.umap.REGION_3E.tsv', 'shortLabel': 'CEMBA 3E UMAP', 'colorOnMeta': 'SubType'}, {'file': '/home/hanliu/project/mouse_rostral_brain/study/ClusteringSummary/CellBrowser/CEMBA-RostralBrain_CGN/CEMBA-RostralBrain.tsne.REGION_3E.tsv', 'shortLabel': 'CEMBA 3E TSNE', 'colorOnMeta': 'SubType'}, {'file': '/home/hanliu/project/mouse_rostral_brain/study/ClusteringSummary/CellBrowser/CEMBA-RostralBrain_CGN/CEMBA-RostralBrain.umap.REGION_3F.tsv', 'shortLabel': 'CEMBA 3F UMAP', 'colorOnMeta': 'SubType'}, {'file': '/home/hanliu/project/mouse_rostral_brain/study/ClusteringSummary/CellBrowser/CEMBA-RostralBrain_CGN/CEMBA-RostralBrain.tsne.REGION_3F.tsv', 'shortLabel': 'CEMBA 3F TSNE', 'colorOnMeta': 'SubType'}, {'file': '/home/hanliu/project/mouse_rostral_brain/study/ClusteringSummary/CellBrowser/CEMBA-RostralBrain_CGN/CEMBA-RostralBrain.umap.REGION_4A.tsv', 'shortLabel': 'CEMBA 4A UMAP', 'colorOnMeta': 'SubType'}, {'file': '/home/hanliu/project/mouse_rostral_brain/study/ClusteringSummary/CellBrowser/CEMBA-RostralBrain_CGN/CEMBA-RostralBrain.tsne.REGION_4A.tsv', 'shortLabel': 'CEMBA 4A TSNE', 'colorOnMeta': 'SubType'}, {'file': '/home/hanliu/project/mouse_rostral_brain/study/ClusteringSummary/CellBrowser/CEMBA-RostralBrain_CGN/CEMBA-RostralBrain.umap.REGION_4B.tsv', 'shortLabel': 'CEMBA 4B UMAP', 'colorOnMeta': 'SubType'}, {'file': '/home/hanliu/project/mouse_rostral_brain/study/ClusteringSummary/CellBrowser/CEMBA-RostralBrain_CGN/CEMBA-RostralBrain.tsne.REGION_4B.tsv', 'shortLabel': 'CEMBA 4B TSNE', 'colorOnMeta': 'SubType'}, {'file': '/home/hanliu/project/mouse_rostral_brain/study/ClusteringSummary/CellBrowser/CEMBA-RostralBrain_CGN/CEMBA-RostralBrain.umap.REGION_4C.tsv', 'shortLabel': 'CEMBA 4C UMAP', 'colorOnMeta': 'SubType'}, {'file': '/home/hanliu/project/mouse_rostral_brain/study/ClusteringSummary/CellBrowser/CEMBA-RostralBrain_CGN/CEMBA-RostralBrain.tsne.REGION_4C.tsv', 'shortLabel': 'CEMBA 4C TSNE', 'colorOnMeta': 'SubType'}, {'file': '/home/hanliu/project/mouse_rostral_brain/study/ClusteringSummary/CellBrowser/CEMBA-RostralBrain_CGN/CEMBA-RostralBrain.umap.REGION_4D.tsv', 'shortLabel': 'CEMBA 4D UMAP', 'colorOnMeta': 'SubType'}, {'file': '/home/hanliu/project/mouse_rostral_brain/study/ClusteringSummary/CellBrowser/CEMBA-RostralBrain_CGN/CEMBA-RostralBrain.tsne.REGION_4D.tsv', 'shortLabel': 'CEMBA 4D TSNE', 'colorOnMeta': 'SubType'}, {'file': '/home/hanliu/project/mouse_rostral_brain/study/ClusteringSummary/CellBrowser/CEMBA-RostralBrain_CGN/CEMBA-RostralBrain.umap.REGION_4E.tsv', 'shortLabel': 'CEMBA 4E UMAP', 'colorOnMeta': 'SubType'}, {'file': '/home/hanliu/project/mouse_rostral_brain/study/ClusteringSummary/CellBrowser/CEMBA-RostralBrain_CGN/CEMBA-RostralBrain.tsne.REGION_4E.tsv', 'shortLabel': 'CEMBA 4E TSNE', 'colorOnMeta': 'SubType'}, {'file': '/home/hanliu/project/mouse_rostral_brain/study/ClusteringSummary/CellBrowser/CEMBA-RostralBrain_CGN/CEMBA-RostralBrain.umap.REGION_4F.tsv', 'shortLabel': 'CEMBA 4F UMAP', 'colorOnMeta': 'SubType'}, {'file': '/home/hanliu/project/mouse_rostral_brain/study/ClusteringSummary/CellBrowser/CEMBA-RostralBrain_CGN/CEMBA-RostralBrain.tsne.REGION_4F.tsv', 'shortLabel': 'CEMBA 4F TSNE', 'colorOnMeta': 'SubType'}, {'file': '/home/hanliu/project/mouse_rostral_brain/study/ClusteringSummary/CellBrowser/CEMBA-RostralBrain_CGN/CEMBA-RostralBrain.umap.REGION_4G.tsv', 'shortLabel': 'CEMBA 4G UMAP', 'colorOnMeta': 'SubType'}, {'file': '/home/hanliu/project/mouse_rostral_brain/study/ClusteringSummary/CellBrowser/CEMBA-RostralBrain_CGN/CEMBA-RostralBrain.tsne.REGION_4G.tsv', 'shortLabel': 'CEMBA 4G TSNE', 'colorOnMeta': 'SubType'}, {'file': '/home/hanliu/project/mouse_rostral_brain/study/ClusteringSummary/CellBrowser/CEMBA-RostralBrain_CGN/CEMBA-RostralBrain.umap.REGION_4H.tsv', 'shortLabel': 'CEMBA 4H UMAP', 'colorOnMeta': 'SubType'}, {'file': '/home/hanliu/project/mouse_rostral_brain/study/ClusteringSummary/CellBrowser/CEMBA-RostralBrain_CGN/CEMBA-RostralBrain.tsne.REGION_4H.tsv', 'shortLabel': 'CEMBA 4H TSNE', 'colorOnMeta': 'SubType'}, {'file': '/home/hanliu/project/mouse_rostral_brain/study/ClusteringSummary/CellBrowser/CEMBA-RostralBrain_CGN/CEMBA-RostralBrain.umap.REGION_5A.tsv', 'shortLabel': 'CEMBA 5A UMAP', 'colorOnMeta': 'SubType'}, {'file': '/home/hanliu/project/mouse_rostral_brain/study/ClusteringSummary/CellBrowser/CEMBA-RostralBrain_CGN/CEMBA-RostralBrain.tsne.REGION_5A.tsv', 'shortLabel': 'CEMBA 5A TSNE', 'colorOnMeta': 'SubType'}, {'file': '/home/hanliu/project/mouse_rostral_brain/study/ClusteringSummary/CellBrowser/CEMBA-RostralBrain_CGN/CEMBA-RostralBrain.umap.REGION_5B.tsv', 'shortLabel': 'CEMBA 5B UMAP', 'colorOnMeta': 'SubType'}, {'file': '/home/hanliu/project/mouse_rostral_brain/study/ClusteringSummary/CellBrowser/CEMBA-RostralBrain_CGN/CEMBA-RostralBrain.tsne.REGION_5B.tsv', 'shortLabel': 'CEMBA 5B TSNE', 'colorOnMeta': 'SubType'}, {'file': '/home/hanliu/project/mouse_rostral_brain/study/ClusteringSummary/CellBrowser/CEMBA-RostralBrain_CGN/CEMBA-RostralBrain.umap.REGION_5C.tsv', 'shortLabel': 'CEMBA 5C UMAP', 'colorOnMeta': 'SubType'}, {'file': '/home/hanliu/project/mouse_rostral_brain/study/ClusteringSummary/CellBrowser/CEMBA-RostralBrain_CGN/CEMBA-RostralBrain.tsne.REGION_5C.tsv', 'shortLabel': 'CEMBA 5C TSNE', 'colorOnMeta': 'SubType'}, {'file': '/home/hanliu/project/mouse_rostral_brain/study/ClusteringSummary/CellBrowser/CEMBA-RostralBrain_CGN/CEMBA-RostralBrain.umap.REGION_5D.tsv', 'shortLabel': 'CEMBA 5D UMAP', 'colorOnMeta': 'SubType'}, {'file': '/home/hanliu/project/mouse_rostral_brain/study/ClusteringSummary/CellBrowser/CEMBA-RostralBrain_CGN/CEMBA-RostralBrain.tsne.REGION_5D.tsv', 'shortLabel': 'CEMBA 5D TSNE', 'colorOnMeta': 'SubType'}, {'file': '/home/hanliu/project/mouse_rostral_brain/study/ClusteringSummary/CellBrowser/CEMBA-RostralBrain_CGN/CEMBA-RostralBrain.umap.REGION_5E.tsv', 'shortLabel': 'CEMBA 5E UMAP', 'colorOnMeta': 'SubType'}, {'file': '/home/hanliu/project/mouse_rostral_brain/study/ClusteringSummary/CellBrowser/CEMBA-RostralBrain_CGN/CEMBA-RostralBrain.tsne.REGION_5E.tsv', 'shortLabel': 'CEMBA 5E TSNE', 'colorOnMeta': 'SubType'}, {'file': '/home/hanliu/project/mouse_rostral_brain/study/ClusteringSummary/CellBrowser/CEMBA-RostralBrain_CGN/CEMBA-RostralBrain.umap.REGION_5F.tsv', 'shortLabel': 'CEMBA 5F UMAP', 'colorOnMeta': 'SubType'}, {'file': '/home/hanliu/project/mouse_rostral_brain/study/ClusteringSummary/CellBrowser/CEMBA-RostralBrain_CGN/CEMBA-RostralBrain.tsne.REGION_5F.tsv', 'shortLabel': 'CEMBA 5F TSNE', 'colorOnMeta': 'SubType'}, {'file': '/home/hanliu/project/mouse_rostral_brain/study/ClusteringSummary/CellBrowser/CEMBA-RostralBrain_CGN/CEMBA-RostralBrain.umap.REGION_5G.tsv', 'shortLabel': 'CEMBA 5G UMAP', 'colorOnMeta': 'SubType'}, {'file': '/home/hanliu/project/mouse_rostral_brain/study/ClusteringSummary/CellBrowser/CEMBA-RostralBrain_CGN/CEMBA-RostralBrain.tsne.REGION_5G.tsv', 'shortLabel': 'CEMBA 5G TSNE', 'colorOnMeta': 'SubType'}, {'file': '/home/hanliu/project/mouse_rostral_brain/study/ClusteringSummary/CellBrowser/CEMBA-RostralBrain_CGN/CEMBA-RostralBrain.umap.REGION_5H.tsv', 'shortLabel': 'CEMBA 5H UMAP', 'colorOnMeta': 'SubType'}, {'file': '/home/hanliu/project/mouse_rostral_brain/study/ClusteringSummary/CellBrowser/CEMBA-RostralBrain_CGN/CEMBA-RostralBrain.tsne.REGION_5H.tsv', 'shortLabel': 'CEMBA 5H TSNE', 'colorOnMeta': 'SubType'}, {'file': '/home/hanliu/project/mouse_rostral_brain/study/ClusteringSummary/CellBrowser/CEMBA-RostralBrain_CGN/CEMBA-RostralBrain.umap.REGION_5J.tsv', 'shortLabel': 'CEMBA 5J UMAP', 'colorOnMeta': 'SubType'}, {'file': '/home/hanliu/project/mouse_rostral_brain/study/ClusteringSummary/CellBrowser/CEMBA-RostralBrain_CGN/CEMBA-RostralBrain.tsne.REGION_5J.tsv', 'shortLabel': 'CEMBA 5J TSNE', 'colorOnMeta': 'SubType'}, {'file': '/home/hanliu/project/mouse_rostral_brain/study/ClusteringSummary/CellBrowser/CEMBA-RostralBrain_CGN/CEMBA-RostralBrain.umap.REGION_6A.tsv', 'shortLabel': 'CEMBA 6A UMAP', 'colorOnMeta': 'SubType'}, {'file': '/home/hanliu/project/mouse_rostral_brain/study/ClusteringSummary/CellBrowser/CEMBA-RostralBrain_CGN/CEMBA-RostralBrain.tsne.REGION_6A.tsv', 'shortLabel': 'CEMBA 6A TSNE', 'colorOnMeta': 'SubType'}, {'file': '/home/hanliu/project/mouse_rostral_brain/study/ClusteringSummary/CellBrowser/CEMBA-RostralBrain_CGN/CEMBA-RostralBrain.umap.REGION_6B.tsv', 'shortLabel': 'CEMBA 6B UMAP', 'colorOnMeta': 'SubType'}, {'file': '/home/hanliu/project/mouse_rostral_brain/study/ClusteringSummary/CellBrowser/CEMBA-RostralBrain_CGN/CEMBA-RostralBrain.tsne.REGION_6B.tsv', 'shortLabel': 'CEMBA 6B TSNE', 'colorOnMeta': 'SubType'}, {'file': '/home/hanliu/project/mouse_rostral_brain/study/ClusteringSummary/CellBrowser/CEMBA-RostralBrain_CGN/CEMBA-RostralBrain.umap.REGION_6C.tsv', 'shortLabel': 'CEMBA 6C UMAP', 'colorOnMeta': 'SubType'}, {'file': '/home/hanliu/project/mouse_rostral_brain/study/ClusteringSummary/CellBrowser/CEMBA-RostralBrain_CGN/CEMBA-RostralBrain.tsne.REGION_6C.tsv', 'shortLabel': 'CEMBA 6C TSNE', 'colorOnMeta': 'SubType'}, {'file': '/home/hanliu/project/mouse_rostral_brain/study/ClusteringSummary/CellBrowser/CEMBA-RostralBrain_CGN/CEMBA-RostralBrain.umap.REGION_6D.tsv', 'shortLabel': 'CEMBA 6D UMAP', 'colorOnMeta': 'SubType'}, {'file': '/home/hanliu/project/mouse_rostral_brain/study/ClusteringSummary/CellBrowser/CEMBA-RostralBrain_CGN/CEMBA-RostralBrain.tsne.REGION_6D.tsv', 'shortLabel': 'CEMBA 6D TSNE', 'colorOnMeta': 'SubType'}, {'file': '/home/hanliu/project/mouse_rostral_brain/study/ClusteringSummary/CellBrowser/CEMBA-RostralBrain_CGN/CEMBA-RostralBrain.umap.REGION_7B.tsv', 'shortLabel': 'CEMBA 7B UMAP', 'colorOnMeta': 'SubType'}, {'file': '/home/hanliu/project/mouse_rostral_brain/study/ClusteringSummary/CellBrowser/CEMBA-RostralBrain_CGN/CEMBA-RostralBrain.tsne.REGION_7B.tsv', 'shortLabel': 'CEMBA 7B TSNE', 'colorOnMeta': 'SubType'}, {'file': '/home/hanliu/project/mouse_rostral_brain/study/ClusteringSummary/CellBrowser/CEMBA-RostralBrain_CGN/CEMBA-RostralBrain.umap.REGION_8B.tsv', 'shortLabel': 'CEMBA 8B UMAP', 'colorOnMeta': 'SubType'}, {'file': '/home/hanliu/project/mouse_rostral_brain/study/ClusteringSummary/CellBrowser/CEMBA-RostralBrain_CGN/CEMBA-RostralBrain.tsne.REGION_8B.tsv', 'shortLabel': 'CEMBA 8B TSNE', 'colorOnMeta': 'SubType'}, {'file': '/home/hanliu/project/mouse_rostral_brain/study/ClusteringSummary/CellBrowser/CEMBA-RostralBrain_CGN/CEMBA-RostralBrain.umap.REGION_8E.tsv', 'shortLabel': 'CEMBA 8E UMAP', 'colorOnMeta': 'SubType'}, {'file': '/home/hanliu/project/mouse_rostral_brain/study/ClusteringSummary/CellBrowser/CEMBA-RostralBrain_CGN/CEMBA-RostralBrain.tsne.REGION_8E.tsv', 'shortLabel': 'CEMBA 8E TSNE', 'colorOnMeta': 'SubType'}, {'file': '/home/hanliu/project/mouse_rostral_brain/study/ClusteringSummary/CellBrowser/CEMBA-RostralBrain_CGN/CEMBA-RostralBrain.umap.REGION_8J.tsv', 'shortLabel': 'CEMBA 8J UMAP', 'colorOnMeta': 'SubType'}, {'file': '/home/hanliu/project/mouse_rostral_brain/study/ClusteringSummary/CellBrowser/CEMBA-RostralBrain_CGN/CEMBA-RostralBrain.tsne.REGION_8J.tsv', 'shortLabel': 'CEMBA 8J TSNE', 'colorOnMeta': 'SubType'}, {'file': '/home/hanliu/project/mouse_rostral_brain/study/ClusteringSummary/CellBrowser/CEMBA-RostralBrain_CGN/CEMBA-RostralBrain.umap.REGION_9H.tsv', 'shortLabel': 'CEMBA 9H UMAP', 'colorOnMeta': 'SubType'}, {'file': '/home/hanliu/project/mouse_rostral_brain/study/ClusteringSummary/CellBrowser/CEMBA-RostralBrain_CGN/CEMBA-RostralBrain.tsne.REGION_9H.tsv', 'shortLabel': 'CEMBA 9H TSNE', 'colorOnMeta': 'SubType'}, {'file': '/home/hanliu/project/mouse_rostral_brain/study/ClusteringSummary/CellBrowser/CEMBA-RostralBrain_CGN/CEMBA-RostralBrain.umap.REGION_9J.tsv', 'shortLabel': 'CEMBA 9J UMAP', 'colorOnMeta': 'SubType'}, {'file': '/home/hanliu/project/mouse_rostral_brain/study/ClusteringSummary/CellBrowser/CEMBA-RostralBrain_CGN/CEMBA-RostralBrain.tsne.REGION_9J.tsv', 'shortLabel': 'CEMBA 9J TSNE', 'colorOnMeta': 'SubType'}]\n",
      "\n",
      "# --------- OPTIONAL SETTINGS --------------\n",
      "\n",
      "# default field in the meta data table with the name of the cluster\n",
      "clusterField=\"MajorType\"\n",
      "\n",
      "# default field in the meta data table used for the label of the clusters shown by default\n",
      "labelField=\"MajorType\"\n",
      "\n",
      "# tsv files with marker gene lists for the clusters \n",
      "# format is (clusterName, geneSymbol, pValue, enrichment) + any additional fields or URLs you want to show\n",
      "#markers=[\n",
      "#    \n",
      "#]\n",
      "\n",
      "# optional: UCSC track hub with the BAM file reads and expression values \n",
      "# Alternatively, you can also provide a full link to a UCSC Genome Browser session here\n",
      "#hubUrl=\"http://cells.ucsc.edu/cortex-dev/hub/hub.txt\"\n",
      "\n",
      "# optional: table with <name><color> for any meta data values\n",
      "# color is a six-digit hexcode\n",
      "# name is a any value in the meta data table, e.g. cluster name. Canb be a .tsv or .csv file.\n",
      "colors=\"/home/hanliu/project/mouse_rostral_brain/metadata/palette/total_meta_colors.tsv\"\n",
      "\n",
      "# should the cluster labels be shown by default (default: true)\n",
      "showLabels=True\n",
      "\n",
      "# the radius of the circles. If not specified, reasonable defaults will be used\n",
      "radius = 2.5\n",
      "# the alpha/transparency of the circles. If not specified, reasonable defaults will be used.\n",
      "#alpha = 0.3\n",
      "\n",
      "# you need short names for your clusters, as there is little space on the plot\n",
      "# but cell types have complicated and long names\n",
      "# So you can provide a table with two columns: 1) short cluster name 2) long version\n",
      "# e.g. EC, endothelial cells\n",
      "# can be a .tsv or .csv file\n",
      "#acronymFile = \"acronyms.tsv\"\n",
      "\n",
      "# genes that are highlighted in your paper can be pre-loaded and are shown as a clickable table on the left\n",
      "quickGenesFile = \"/home/hanliu/project/mouse_rostral_brain/study/ClusteringSummary/CellBrowser/quickGenes.csv\"\n",
      "\n",
      "# the unit of the values in the expression matrix\n",
      "# any string, shown on genome browser and violin y-Axis\n",
      "# typical values are: \"read count/UMI\", \"log of read count/UMI\", \"TPM\", \"log of TPM\", \"CPM\", \"FPKM\", \"RPKM\"\n",
      "unit = \"Norm CGN%\"\n",
      "\n",
      "# format of the numbers in the matrix. \n",
      "# 'auto' works in 99% of the cases. Otherwise you can use 'int' for integers and 'float' for  floating point numbers. \n",
      "# Use 'forceInt' if your matrix contains only integers but in a format like 3.123e10 \n",
      "# or the matrix has only integers expressed like 100.000, 200.000, 300.00, ...\n",
      "matrixType='auto'\n",
      "\n",
      "collections = ['CEMBA-RostralBrain']\n"
     ]
    }
   ],
   "source": [
    "print(config_str)"
   ]
  },
  {
   "cell_type": "code",
   "execution_count": null,
   "metadata": {},
   "outputs": [],
   "source": []
  }
 ],
 "metadata": {
  "hide_input": false,
  "kernelspec": {
   "display_name": "Python 3",
   "language": "python",
   "name": "python3"
  },
  "language_info": {
   "codemirror_mode": {
    "name": "ipython",
    "version": 3
   },
   "file_extension": ".py",
   "mimetype": "text/x-python",
   "name": "python",
   "nbconvert_exporter": "python",
   "pygments_lexer": "ipython3",
   "version": "3.7.3"
  },
  "toc": {
   "base_numbering": 1,
   "nav_menu": {},
   "number_sections": true,
   "sideBar": true,
   "skip_h1_title": true,
   "title_cell": "Table of Contents",
   "title_sidebar": "Contents",
   "toc_cell": true,
   "toc_position": {},
   "toc_section_display": true,
   "toc_window_display": true
  }
 },
 "nbformat": 4,
 "nbformat_minor": 2
}
