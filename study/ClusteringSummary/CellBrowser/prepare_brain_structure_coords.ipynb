{
 "cells": [
  {
   "cell_type": "code",
   "execution_count": 1,
   "metadata": {
    "ExecuteTime": {
     "end_time": "2019-10-19T18:38:44.727056Z",
     "start_time": "2019-10-19T18:38:44.586524Z"
    }
   },
   "outputs": [],
   "source": [
    "import pandas as pd\n",
    "import pathlib"
   ]
  },
  {
   "cell_type": "code",
   "execution_count": 3,
   "metadata": {
    "ExecuteTime": {
     "end_time": "2019-10-19T18:39:52.468125Z",
     "start_time": "2019-10-19T18:39:52.453180Z"
    }
   },
   "outputs": [],
   "source": [
    "brain_structure_dir = '/home/hanliu/project/mouse_rostral_brain/study/BrainStructures/'\n",
    "\n",
    "brain_structure_paths = list(pathlib.Path(brain_structure_dir).glob('*/Coords/cell_tidy_data.msg'))\n"
   ]
  },
  {
   "cell_type": "code",
   "execution_count": 18,
   "metadata": {
    "ExecuteTime": {
     "end_time": "2019-10-19T18:49:03.426941Z",
     "start_time": "2019-10-19T18:49:01.922648Z"
    }
   },
   "outputs": [],
   "source": [
    "structure_coords_dir = pathlib.Path('BrainStructureCoords').absolute()\n",
    "structure_coords_dir.mkdir(exist_ok=True)\n",
    "\n",
    "coord_recrods = []\n",
    "for path in brain_structure_paths:\n",
    "    structure = str(path).split('/')[-3]\n",
    "\n",
    "    coords = pd.read_msgpack(path)\n",
    "    for coord_base in ['umap', 'tsne']:\n",
    "        coord_df = coords[[f'{coord_base}_0', f'{coord_base}_1']]\n",
    "        coord_df.index.name = 'cellId'\n",
    "        coord_df.columns = ['x', 'y']\n",
    "        coord_path = structure_coords_dir / f'{structure}.{coord_base}.tsv'\n",
    "        coord_df.to_csv(coord_path, sep='\\t')\n",
    "        coord_recrods.append({'file': str(coord_path), \n",
    "                              'shortLabel': f'Structure {structure} {coord_base.upper()}',\n",
    "                              'colorOnMeta': \"MajorType\"})"
   ]
  },
  {
   "cell_type": "code",
   "execution_count": 19,
   "metadata": {
    "ExecuteTime": {
     "end_time": "2019-10-19T18:49:03.433813Z",
     "start_time": "2019-10-19T18:49:03.428729Z"
    }
   },
   "outputs": [
    {
     "data": {
      "text/plain": [
       "[{'file': '/home/hanliu/project/mouse_rostral_brain/study/ClusteringSummary/CellBrowser/BrainStructureCoords/CNU.umap.tsv',\n",
       "  'shortLabel': 'Structure CNU UMAP',\n",
       "  'colorOnMeta': 'MajorType'},\n",
       " {'file': '/home/hanliu/project/mouse_rostral_brain/study/ClusteringSummary/CellBrowser/BrainStructureCoords/CNU.tsne.tsv',\n",
       "  'shortLabel': 'Structure CNU TSNE',\n",
       "  'colorOnMeta': 'MajorType'},\n",
       " {'file': '/home/hanliu/project/mouse_rostral_brain/study/ClusteringSummary/CellBrowser/BrainStructureCoords/HPF.umap.tsv',\n",
       "  'shortLabel': 'Structure HPF UMAP',\n",
       "  'colorOnMeta': 'MajorType'},\n",
       " {'file': '/home/hanliu/project/mouse_rostral_brain/study/ClusteringSummary/CellBrowser/BrainStructureCoords/HPF.tsne.tsv',\n",
       "  'shortLabel': 'Structure HPF TSNE',\n",
       "  'colorOnMeta': 'MajorType'},\n",
       " {'file': '/home/hanliu/project/mouse_rostral_brain/study/ClusteringSummary/CellBrowser/BrainStructureCoords/Isocortex.umap.tsv',\n",
       "  'shortLabel': 'Structure Isocortex UMAP',\n",
       "  'colorOnMeta': 'MajorType'},\n",
       " {'file': '/home/hanliu/project/mouse_rostral_brain/study/ClusteringSummary/CellBrowser/BrainStructureCoords/Isocortex.tsne.tsv',\n",
       "  'shortLabel': 'Structure Isocortex TSNE',\n",
       "  'colorOnMeta': 'MajorType'},\n",
       " {'file': '/home/hanliu/project/mouse_rostral_brain/study/ClusteringSummary/CellBrowser/BrainStructureCoords/OLF.umap.tsv',\n",
       "  'shortLabel': 'Structure OLF UMAP',\n",
       "  'colorOnMeta': 'MajorType'},\n",
       " {'file': '/home/hanliu/project/mouse_rostral_brain/study/ClusteringSummary/CellBrowser/BrainStructureCoords/OLF.tsne.tsv',\n",
       "  'shortLabel': 'Structure OLF TSNE',\n",
       "  'colorOnMeta': 'MajorType'},\n",
       " {'file': '/home/hanliu/project/mouse_rostral_brain/study/ClusteringSummary/CellBrowser/BrainStructureCoords/ACA,PL,ILA.umap.tsv',\n",
       "  'shortLabel': 'Structure ACA,PL,ILA UMAP',\n",
       "  'colorOnMeta': 'MajorType'},\n",
       " {'file': '/home/hanliu/project/mouse_rostral_brain/study/ClusteringSummary/CellBrowser/BrainStructureCoords/ACA,PL,ILA.tsne.tsv',\n",
       "  'shortLabel': 'Structure ACA,PL,ILA TSNE',\n",
       "  'colorOnMeta': 'MajorType'},\n",
       " {'file': '/home/hanliu/project/mouse_rostral_brain/study/ClusteringSummary/CellBrowser/BrainStructureCoords/ACB.umap.tsv',\n",
       "  'shortLabel': 'Structure ACB UMAP',\n",
       "  'colorOnMeta': 'MajorType'},\n",
       " {'file': '/home/hanliu/project/mouse_rostral_brain/study/ClusteringSummary/CellBrowser/BrainStructureCoords/ACB.tsne.tsv',\n",
       "  'shortLabel': 'Structure ACB TSNE',\n",
       "  'colorOnMeta': 'MajorType'},\n",
       " {'file': '/home/hanliu/project/mouse_rostral_brain/study/ClusteringSummary/CellBrowser/BrainStructureCoords/AI.umap.tsv',\n",
       "  'shortLabel': 'Structure AI UMAP',\n",
       "  'colorOnMeta': 'MajorType'},\n",
       " {'file': '/home/hanliu/project/mouse_rostral_brain/study/ClusteringSummary/CellBrowser/BrainStructureCoords/AI.tsne.tsv',\n",
       "  'shortLabel': 'Structure AI TSNE',\n",
       "  'colorOnMeta': 'MajorType'},\n",
       " {'file': '/home/hanliu/project/mouse_rostral_brain/study/ClusteringSummary/CellBrowser/BrainStructureCoords/MOB,AON.umap.tsv',\n",
       "  'shortLabel': 'Structure MOB,AON UMAP',\n",
       "  'colorOnMeta': 'MajorType'},\n",
       " {'file': '/home/hanliu/project/mouse_rostral_brain/study/ClusteringSummary/CellBrowser/BrainStructureCoords/MOB,AON.tsne.tsv',\n",
       "  'shortLabel': 'Structure MOB,AON TSNE',\n",
       "  'colorOnMeta': 'MajorType'},\n",
       " {'file': '/home/hanliu/project/mouse_rostral_brain/study/ClusteringSummary/CellBrowser/BrainStructureCoords/CA,DG.umap.tsv',\n",
       "  'shortLabel': 'Structure CA,DG UMAP',\n",
       "  'colorOnMeta': 'MajorType'},\n",
       " {'file': '/home/hanliu/project/mouse_rostral_brain/study/ClusteringSummary/CellBrowser/BrainStructureCoords/CA,DG.tsne.tsv',\n",
       "  'shortLabel': 'Structure CA,DG TSNE',\n",
       "  'colorOnMeta': 'MajorType'},\n",
       " {'file': '/home/hanliu/project/mouse_rostral_brain/study/ClusteringSummary/CellBrowser/BrainStructureCoords/CP.umap.tsv',\n",
       "  'shortLabel': 'Structure CP UMAP',\n",
       "  'colorOnMeta': 'MajorType'},\n",
       " {'file': '/home/hanliu/project/mouse_rostral_brain/study/ClusteringSummary/CellBrowser/BrainStructureCoords/CP.tsne.tsv',\n",
       "  'shortLabel': 'Structure CP TSNE',\n",
       "  'colorOnMeta': 'MajorType'},\n",
       " {'file': '/home/hanliu/project/mouse_rostral_brain/study/ClusteringSummary/CellBrowser/BrainStructureCoords/DG,CA.umap.tsv',\n",
       "  'shortLabel': 'Structure DG,CA UMAP',\n",
       "  'colorOnMeta': 'MajorType'},\n",
       " {'file': '/home/hanliu/project/mouse_rostral_brain/study/ClusteringSummary/CellBrowser/BrainStructureCoords/DG,CA.tsne.tsv',\n",
       "  'shortLabel': 'Structure DG,CA TSNE',\n",
       "  'colorOnMeta': 'MajorType'},\n",
       " {'file': '/home/hanliu/project/mouse_rostral_brain/study/ClusteringSummary/CellBrowser/BrainStructureCoords/MO.umap.tsv',\n",
       "  'shortLabel': 'Structure MO UMAP',\n",
       "  'colorOnMeta': 'MajorType'},\n",
       " {'file': '/home/hanliu/project/mouse_rostral_brain/study/ClusteringSummary/CellBrowser/BrainStructureCoords/MO.tsne.tsv',\n",
       "  'shortLabel': 'Structure MO TSNE',\n",
       "  'colorOnMeta': 'MajorType'},\n",
       " {'file': '/home/hanliu/project/mouse_rostral_brain/study/ClusteringSummary/CellBrowser/BrainStructureCoords/ORB.umap.tsv',\n",
       "  'shortLabel': 'Structure ORB UMAP',\n",
       "  'colorOnMeta': 'MajorType'},\n",
       " {'file': '/home/hanliu/project/mouse_rostral_brain/study/ClusteringSummary/CellBrowser/BrainStructureCoords/ORB.tsne.tsv',\n",
       "  'shortLabel': 'Structure ORB TSNE',\n",
       "  'colorOnMeta': 'MajorType'},\n",
       " {'file': '/home/hanliu/project/mouse_rostral_brain/study/ClusteringSummary/CellBrowser/BrainStructureCoords/LSX.umap.tsv',\n",
       "  'shortLabel': 'Structure LSX UMAP',\n",
       "  'colorOnMeta': 'MajorType'},\n",
       " {'file': '/home/hanliu/project/mouse_rostral_brain/study/ClusteringSummary/CellBrowser/BrainStructureCoords/LSX.tsne.tsv',\n",
       "  'shortLabel': 'Structure LSX TSNE',\n",
       "  'colorOnMeta': 'MajorType'},\n",
       " {'file': '/home/hanliu/project/mouse_rostral_brain/study/ClusteringSummary/CellBrowser/BrainStructureCoords/PAL.umap.tsv',\n",
       "  'shortLabel': 'Structure PAL UMAP',\n",
       "  'colorOnMeta': 'MajorType'},\n",
       " {'file': '/home/hanliu/project/mouse_rostral_brain/study/ClusteringSummary/CellBrowser/BrainStructureCoords/PAL.tsne.tsv',\n",
       "  'shortLabel': 'Structure PAL TSNE',\n",
       "  'colorOnMeta': 'MajorType'},\n",
       " {'file': '/home/hanliu/project/mouse_rostral_brain/study/ClusteringSummary/CellBrowser/BrainStructureCoords/PIR.umap.tsv',\n",
       "  'shortLabel': 'Structure PIR UMAP',\n",
       "  'colorOnMeta': 'MajorType'},\n",
       " {'file': '/home/hanliu/project/mouse_rostral_brain/study/ClusteringSummary/CellBrowser/BrainStructureCoords/PIR.tsne.tsv',\n",
       "  'shortLabel': 'Structure PIR TSNE',\n",
       "  'colorOnMeta': 'MajorType'},\n",
       " {'file': '/home/hanliu/project/mouse_rostral_brain/study/ClusteringSummary/CellBrowser/BrainStructureCoords/SS.umap.tsv',\n",
       "  'shortLabel': 'Structure SS UMAP',\n",
       "  'colorOnMeta': 'MajorType'},\n",
       " {'file': '/home/hanliu/project/mouse_rostral_brain/study/ClusteringSummary/CellBrowser/BrainStructureCoords/SS.tsne.tsv',\n",
       "  'shortLabel': 'Structure SS TSNE',\n",
       "  'colorOnMeta': 'MajorType'}]"
      ]
     },
     "execution_count": 19,
     "metadata": {},
     "output_type": "execute_result"
    }
   ],
   "source": [
    "coord_recrods"
   ]
  },
  {
   "cell_type": "code",
   "execution_count": null,
   "metadata": {},
   "outputs": [],
   "source": []
  },
  {
   "cell_type": "code",
   "execution_count": null,
   "metadata": {},
   "outputs": [],
   "source": []
  },
  {
   "cell_type": "code",
   "execution_count": null,
   "metadata": {},
   "outputs": [],
   "source": []
  },
  {
   "cell_type": "code",
   "execution_count": null,
   "metadata": {},
   "outputs": [],
   "source": []
  },
  {
   "cell_type": "code",
   "execution_count": null,
   "metadata": {},
   "outputs": [],
   "source": []
  }
 ],
 "metadata": {
  "hide_input": false,
  "kernelspec": {
   "display_name": "Python 3",
   "language": "python",
   "name": "python3"
  },
  "language_info": {
   "codemirror_mode": {
    "name": "ipython",
    "version": 3
   },
   "file_extension": ".py",
   "mimetype": "text/x-python",
   "name": "python",
   "nbconvert_exporter": "python",
   "pygments_lexer": "ipython3",
   "version": "3.7.3"
  },
  "toc": {
   "base_numbering": 1,
   "nav_menu": {},
   "number_sections": true,
   "sideBar": true,
   "skip_h1_title": true,
   "title_cell": "Table of Contents",
   "title_sidebar": "Contents",
   "toc_cell": false,
   "toc_position": {},
   "toc_section_display": true,
   "toc_window_display": true
  }
 },
 "nbformat": 4,
 "nbformat_minor": 2
}
