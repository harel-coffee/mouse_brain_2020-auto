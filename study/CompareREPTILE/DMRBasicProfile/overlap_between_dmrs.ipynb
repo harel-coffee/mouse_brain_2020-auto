{
 "cells": [
  {
   "cell_type": "code",
   "execution_count": 30,
   "metadata": {
    "ExecuteTime": {
     "end_time": "2020-03-05T03:42:42.652430Z",
     "start_time": "2020-03-05T03:42:42.649316Z"
    }
   },
   "outputs": [],
   "source": [
    "import pandas as pd\n",
    "import pybedtools\n",
    "\n",
    "import numpy as np\n",
    "import anndata\n",
    "import seaborn as sns\n",
    "import matplotlib.pyplot as plt\n",
    "from matplotlib_venn import venn2, venn3\n",
    "from ALLCools.plot.color import *"
   ]
  },
  {
   "cell_type": "code",
   "execution_count": 2,
   "metadata": {
    "ExecuteTime": {
     "end_time": "2020-03-05T03:29:28.794841Z",
     "start_time": "2020-03-05T03:29:28.789705Z"
    }
   },
   "outputs": [],
   "source": [
    "from matplotlib import rc\n",
    "\n",
    "labelsize = 6\n",
    "linewidth = 0.5\n",
    "rc('lines', linewidth=linewidth)\n",
    "rc('axes', labelsize=labelsize, linewidth=linewidth)\n",
    "rc('xtick', labelsize=labelsize)\n",
    "rc('ytick', labelsize=labelsize)\n",
    "rc('xtick.major', width=linewidth)\n",
    "rc('ytick.major', width=linewidth)\n",
    "rc('xtick.minor', width=linewidth-0.2)\n",
    "rc('ytick.minor', width=linewidth-0.2)"
   ]
  },
  {
   "cell_type": "markdown",
   "metadata": {},
   "source": [
    "## SubType Bed"
   ]
  },
  {
   "cell_type": "code",
   "execution_count": 3,
   "metadata": {
    "ExecuteTime": {
     "end_time": "2020-03-05T03:30:07.185622Z",
     "start_time": "2020-03-05T03:29:28.800468Z"
    }
   },
   "outputs": [],
   "source": [
    "reptile_adata = anndata.read_h5ad(\n",
    "    '/home/hanliu/project/mouse_rostral_brain/REPTILE/result/REPTILE_scores.subtype.h5ad'\n",
    ")\n",
    "enhancer_hits = pd.Series((reptile_adata.X > 0).sum(axis=1).A1, index=reptile_adata.obs_names)\n",
    "\n",
    "sub_type_total_df = pd.read_csv('/home/hanliu/project/mouse_rostral_brain/DMR/SubType/Total/TotalDMR.nofilter.bed',\n",
    "                                 header=None, sep='\\t', index_col=3)\n",
    "sub_type_total_df[1] -= 1\n",
    "\n",
    "dmr_bed = pybedtools.BedTool.from_dataframe(sub_type_total_df)\n",
    "\n",
    "sub_type_total_df = sub_type_total_df.loc[enhancer_hits[enhancer_hits > 0].index]\n",
    "edmr_bed = pybedtools.BedTool.from_dataframe(sub_type_total_df)"
   ]
  },
  {
   "cell_type": "code",
   "execution_count": 4,
   "metadata": {
    "ExecuteTime": {
     "end_time": "2020-03-05T03:30:07.197317Z",
     "start_time": "2020-03-05T03:30:07.188957Z"
    }
   },
   "outputs": [
    {
     "data": {
      "text/plain": [
       "734064"
      ]
     },
     "execution_count": 4,
     "metadata": {},
     "output_type": "execute_result"
    }
   ],
   "source": [
    "sub_type_total_df[1].min()"
   ]
  },
  {
   "cell_type": "code",
   "execution_count": 5,
   "metadata": {
    "ExecuteTime": {
     "end_time": "2020-03-05T03:30:07.278176Z",
     "start_time": "2020-03-05T03:30:07.223499Z"
    }
   },
   "outputs": [
    {
     "data": {
      "text/plain": [
       "count    1.612198e+06\n",
       "mean     1.712693e+02\n",
       "std      1.667462e+02\n",
       "min      2.000000e+00\n",
       "25%      5.700000e+01\n",
       "50%      1.250000e+02\n",
       "75%      2.290000e+02\n",
       "max      3.463000e+03\n",
       "dtype: float64"
      ]
     },
     "execution_count": 5,
     "metadata": {},
     "output_type": "execute_result"
    }
   ],
   "source": [
    "(sub_type_total_df[2] - sub_type_total_df[1]).describe()"
   ]
  },
  {
   "cell_type": "code",
   "execution_count": 6,
   "metadata": {
    "ExecuteTime": {
     "end_time": "2020-03-05T03:30:07.282557Z",
     "start_time": "2020-03-05T03:30:07.279545Z"
    }
   },
   "outputs": [
    {
     "data": {
      "text/plain": [
       "(1612198, 3)"
      ]
     },
     "execution_count": 6,
     "metadata": {},
     "output_type": "execute_result"
    }
   ],
   "source": [
    "sub_type_total_df.shape"
   ]
  },
  {
   "cell_type": "markdown",
   "metadata": {},
   "source": [
    "## Fetal Brain Bed"
   ]
  },
  {
   "cell_type": "code",
   "execution_count": 8,
   "metadata": {
    "ExecuteTime": {
     "end_time": "2020-03-05T03:30:17.773506Z",
     "start_time": "2020-03-05T03:30:17.770957Z"
    }
   },
   "outputs": [],
   "source": [
    "fetal_dmr_bed = pybedtools.BedTool(\n",
    "    '/home/hanliu/ref/inhouse/He_2020_Nature_Mouse_Tissue_Developmental/feDMR_brain.bed'\n",
    ")"
   ]
  },
  {
   "cell_type": "code",
   "execution_count": 9,
   "metadata": {
    "ExecuteTime": {
     "end_time": "2020-03-05T03:30:18.187654Z",
     "start_time": "2020-03-05T03:30:18.121226Z"
    }
   },
   "outputs": [
    {
     "data": {
      "text/plain": [
       "count    213319.000000\n",
       "mean        319.805470\n",
       "std         237.459898\n",
       "min           3.000000\n",
       "25%         153.000000\n",
       "50%         270.000000\n",
       "75%         429.000000\n",
       "max        5338.000000\n",
       "dtype: float64"
      ]
     },
     "execution_count": 9,
     "metadata": {},
     "output_type": "execute_result"
    }
   ],
   "source": [
    "fetal_dmr_df = fetal_dmr_bed.to_dataframe()\n",
    "(fetal_dmr_df['end'] - fetal_dmr_df['start']).describe()"
   ]
  },
  {
   "cell_type": "code",
   "execution_count": 10,
   "metadata": {
    "ExecuteTime": {
     "end_time": "2020-03-05T03:30:18.963990Z",
     "start_time": "2020-03-05T03:30:18.618559Z"
    }
   },
   "outputs": [],
   "source": [
    "fetal_dmr_bed_slop = fetal_dmr_bed.slop(b=250, g='/home/hanliu/ref/mouse/genome/mm10.chrom.sizes')"
   ]
  },
  {
   "cell_type": "markdown",
   "metadata": {},
   "source": [
    "## Fetal No Brain Bed"
   ]
  },
  {
   "cell_type": "code",
   "execution_count": 11,
   "metadata": {
    "ExecuteTime": {
     "end_time": "2020-03-05T03:30:19.319311Z",
     "start_time": "2020-03-05T03:30:19.316255Z"
    }
   },
   "outputs": [],
   "source": [
    "fetal_no_brain_dmr_bed = pybedtools.BedTool(\n",
    "    '/home/hanliu/ref/inhouse/He_2020_Nature_Mouse_Tissue_Developmental/feDMR_no_brain.bed')"
   ]
  },
  {
   "cell_type": "code",
   "execution_count": 12,
   "metadata": {
    "ExecuteTime": {
     "end_time": "2020-03-05T03:30:19.931087Z",
     "start_time": "2020-03-05T03:30:19.752420Z"
    }
   },
   "outputs": [
    {
     "data": {
      "text/plain": [
       "count    254822.000000\n",
       "mean        356.418210\n",
       "std         266.195009\n",
       "min           3.000000\n",
       "25%         166.000000\n",
       "50%         297.000000\n",
       "75%         482.000000\n",
       "max        5386.000000\n",
       "dtype: float64"
      ]
     },
     "execution_count": 12,
     "metadata": {},
     "output_type": "execute_result"
    }
   ],
   "source": [
    "fetal_no_brain_dmr_df = fetal_no_brain_dmr_bed.to_dataframe()\n",
    "(fetal_no_brain_dmr_df['end'] - fetal_no_brain_dmr_df['start']).describe()"
   ]
  },
  {
   "cell_type": "code",
   "execution_count": 13,
   "metadata": {
    "ExecuteTime": {
     "end_time": "2020-03-05T03:30:20.624281Z",
     "start_time": "2020-03-05T03:30:20.124285Z"
    }
   },
   "outputs": [],
   "source": [
    "fetal_no_brain_dmr_slop = fetal_no_brain_dmr_bed.slop(b=250, g='/home/hanliu/ref/mouse/genome/mm10.chrom.sizes')"
   ]
  },
  {
   "cell_type": "markdown",
   "metadata": {},
   "source": [
    "## Peaks Bed"
   ]
  },
  {
   "cell_type": "code",
   "execution_count": 14,
   "metadata": {
    "ExecuteTime": {
     "end_time": "2020-03-05T03:30:21.582596Z",
     "start_time": "2020-03-05T03:30:21.579772Z"
    }
   },
   "outputs": [],
   "source": [
    "peak_bed = pybedtools.BedTool(\n",
    "    '/home/hanliu/project/mouse_rostral_brain/ATAC/peak/rs1atac.merged.reproduced.narrowPeak.bed'\n",
    ")"
   ]
  },
  {
   "cell_type": "code",
   "execution_count": 15,
   "metadata": {
    "ExecuteTime": {
     "end_time": "2020-03-05T03:30:22.476530Z",
     "start_time": "2020-03-05T03:30:22.319406Z"
    }
   },
   "outputs": [
    {
     "data": {
      "text/plain": [
       "count    555903.000000\n",
       "mean        712.649908\n",
       "std         434.621446\n",
       "min         200.000000\n",
       "25%         398.000000\n",
       "50%         591.000000\n",
       "75%         895.000000\n",
       "max        5753.000000\n",
       "dtype: float64"
      ]
     },
     "execution_count": 15,
     "metadata": {},
     "output_type": "execute_result"
    }
   ],
   "source": [
    "peak_df = peak_bed.to_dataframe()\n",
    "(peak_df['end'] - peak_df['start']).describe()"
   ]
  },
  {
   "cell_type": "code",
   "execution_count": 16,
   "metadata": {
    "ExecuteTime": {
     "end_time": "2020-03-05T03:30:23.284079Z",
     "start_time": "2020-03-05T03:30:22.525091Z"
    }
   },
   "outputs": [],
   "source": [
    "peak_bed_slop = peak_bed.slop(b=250, g='/home/hanliu/ref/mouse/genome/mm10.chrom.sizes')"
   ]
  },
  {
   "cell_type": "markdown",
   "metadata": {},
   "source": [
    "## Intersect\n",
    "\n",
    "- DMR, eDMR, Peak\n",
    "- eDMR, feDMR_brain, feDMR_no_brain"
   ]
  },
  {
   "cell_type": "code",
   "execution_count": 17,
   "metadata": {
    "ExecuteTime": {
     "end_time": "2020-03-05T03:36:17.694336Z",
     "start_time": "2020-03-05T03:35:56.771469Z"
    }
   },
   "outputs": [
    {
     "data": {
      "text/plain": [
       "{('DMR', 'eDMR'): 1612198,\n",
       " ('eDMR', 'peak'): 1170122,\n",
       " ('peak', 'eDMR'): 468922,\n",
       " ('eDMR', 'feDMR_brain'): 311313,\n",
       " ('feDMR_brain', 'eDMR'): 188697,\n",
       " ('eDMR', 'feDMR_no_brain'): 281682,\n",
       " ('feDMR_no_brain', 'eDMR'): 187411}"
      ]
     },
     "execution_count": 17,
     "metadata": {},
     "output_type": "execute_result"
    }
   ],
   "source": [
    "overlap_records = {}\n",
    "overlap_records[('DMR', 'eDMR')] = dmr_bed.intersect(\n",
    "    edmr_bed, wa=True, u=True).to_dataframe().shape[0]\n",
    "\n",
    "overlap_records[('eDMR', 'peak')] = edmr_bed.intersect(\n",
    "    peak_bed_slop, wa=True, u=True).to_dataframe().shape[0]\n",
    "\n",
    "overlap_records[('peak', 'eDMR')] = peak_bed_slop.intersect(\n",
    "    edmr_bed, wa=True, u=True).to_dataframe().shape[0]\n",
    "\n",
    "overlap_records[('eDMR', 'feDMR_brain')] = edmr_bed.intersect(\n",
    "    fetal_dmr_bed, wa=True, u=True).to_dataframe().shape[0]\n",
    "\n",
    "overlap_records[('feDMR_brain', 'eDMR')] = fetal_dmr_bed.intersect(\n",
    "    edmr_bed, wa=True, u=True).to_dataframe().shape[0]\n",
    "\n",
    "overlap_records[('eDMR', 'feDMR_no_brain')] = edmr_bed.intersect(\n",
    "    fetal_no_brain_dmr_bed, wa=True, u=True).to_dataframe().shape[0]\n",
    "\n",
    "overlap_records[('feDMR_no_brain', 'eDMR')] = fetal_no_brain_dmr_bed.intersect(\n",
    "    edmr_bed, wa=True, u=True).to_dataframe().shape[0]\n",
    "\n",
    "overlap_records"
   ]
  },
  {
   "cell_type": "code",
   "execution_count": 2,
   "metadata": {
    "ExecuteTime": {
     "end_time": "2020-03-08T05:16:11.501434Z",
     "start_time": "2020-03-08T05:16:11.498369Z"
    }
   },
   "outputs": [
    {
     "data": {
      "text/plain": [
       "(0.8845766199916557, 0.7354584768975991)"
      ]
     },
     "execution_count": 2,
     "metadata": {},
     "output_type": "execute_result"
    }
   ],
   "source": [
    "188697 / 213319, 187411 / 254822"
   ]
  },
  {
   "cell_type": "code",
   "execution_count": 19,
   "metadata": {
    "ExecuteTime": {
     "end_time": "2020-03-05T03:37:08.000345Z",
     "start_time": "2020-03-05T03:37:06.420428Z"
    }
   },
   "outputs": [
    {
     "data": {
      "text/plain": [
       "{'DMR': 4722053,\n",
       " 'eDMR': 1612198,\n",
       " 'feDMR_brain': 213319,\n",
       " 'feDMR_no_brain': 254822,\n",
       " 'peak': 555903}"
      ]
     },
     "execution_count": 19,
     "metadata": {},
     "output_type": "execute_result"
    }
   ],
   "source": [
    "dmr_counts = {'DMR': dmr_bed.to_dataframe().shape[0],\n",
    "              'eDMR': edmr_bed.to_dataframe().shape[0],\n",
    "              'feDMR_brain': fetal_dmr_bed.to_dataframe().shape[0],\n",
    "              'feDMR_no_brain': fetal_no_brain_dmr_bed.to_dataframe().shape[0],\n",
    "              'peak': peak_bed.to_dataframe().shape[0]}\n",
    "\n",
    "dmr_counts"
   ]
  },
  {
   "cell_type": "markdown",
   "metadata": {},
   "source": [
    "## Venn Plot"
   ]
  },
  {
   "cell_type": "code",
   "execution_count": 20,
   "metadata": {
    "ExecuteTime": {
     "end_time": "2020-03-05T03:37:16.357481Z",
     "start_time": "2020-03-05T03:37:16.267167Z"
    }
   },
   "outputs": [
    {
     "data": {
      "text/plain": [
       "(<Figure size 360x72 with 1 Axes>,\n",
       " <matplotlib.axes._subplots.AxesSubplot at 0x7f8c67162d68>)"
      ]
     },
     "execution_count": 20,
     "metadata": {},
     "output_type": "execute_result"
    },
    {
     "data": {
      "image/png": "[encoded data removed]",
      "text/plain": [
       "<Figure size 360x72 with 1 Axes>"
      ]
     },
     "metadata": {
      "needs_background": "light"
     },
     "output_type": "display_data"
    }
   ],
   "source": [
    "palette = {\n",
    "    'DMR': (0.12156862745098039, 0.4666666666666667, 0.7058823529411765),\n",
    "    'eDMR': (1.0, 0.4980392156862745, 0.054901960784313725),\n",
    "    'feDMR_brain':\n",
    "    (0.17254901960784313, 0.6274509803921569, 0.17254901960784313),\n",
    "    'feDMR_no_brain':\n",
    "    (0.596078431372549, 0.8745098039215686, 0.5411764705882353),\n",
    "    'Peak': (0.8392156862745098, 0.15294117647058825, 0.1568627450980392)\n",
    "}\n",
    "palplot(palette)"
   ]
  },
  {
   "cell_type": "code",
   "execution_count": 51,
   "metadata": {
    "ExecuteTime": {
     "end_time": "2020-03-05T03:51:52.159056Z",
     "start_time": "2020-03-05T03:51:51.991668Z"
    }
   },
   "outputs": [
    {
     "data": {
      "text/plain": [
       "<matplotlib_venn._common.VennDiagram at 0x7f8c73336668>"
      ]
     },
     "execution_count": 51,
     "metadata": {},
     "output_type": "execute_result"
    },
    {
     "data": {
      "image/png": "[encoded data removed]",
      "text/plain": [
       "<Figure size 900x900 with 1 Axes>"
      ]
     },
     "metadata": {},
     "output_type": "display_data"
    }
   ],
   "source": []
  },
  {
   "cell_type": "code",
   "execution_count": 43,
   "metadata": {
    "ExecuteTime": {
     "end_time": "2020-03-05T03:47:21.022624Z",
     "start_time": "2020-03-05T03:47:21.019215Z"
    }
   },
   "outputs": [],
   "source": []
  },
  {
   "cell_type": "code",
   "execution_count": 47,
   "metadata": {
    "ExecuteTime": {
     "end_time": "2020-03-05T03:50:26.090097Z",
     "start_time": "2020-03-05T03:50:26.085968Z"
    }
   },
   "outputs": [
    {
     "data": {
      "text/plain": [
       "(0.02519632548600803,\n",
       " 0.19309849038393548,\n",
       " 0.6321822753780864,\n",
       " 0.17471923423797822,\n",
       " 0.06284582174587591)"
      ]
     },
     "execution_count": 47,
     "metadata": {},
     "output_type": "execute_result"
    }
   ],
   "source": []
  },
  {
   "cell_type": "code",
   "execution_count": null,
   "metadata": {},
   "outputs": [],
   "source": []
  },
  {
   "cell_type": "code",
   "execution_count": 58,
   "metadata": {
    "ExecuteTime": {
     "end_time": "2020-03-05T04:17:57.624206Z",
     "start_time": "2020-03-05T04:17:57.458533Z"
    }
   },
   "outputs": [
    {
     "data": {
      "image/png": "[encoded data removed]",
      "text/plain": [
       "<Figure size 900x300 with 3 Axes>"
      ]
     },
     "metadata": {},
     "output_type": "display_data"
    }
   ],
   "source": [
    "fig, (ax1, ax2, ax3) = plt.subplots(figsize=(3, 1), dpi=300, ncols=3)\n",
    "\n",
    "ax = ax1\n",
    "a = overlap_records[('DMR', 'eDMR')] / dmr_counts['DMR']\n",
    "b = overlap_records[('DMR', 'eDMR')] / dmr_counts['eDMR']\n",
    "labels = ('DMR', 'eDMR')\n",
    "v = venn2(subsets=((1 - a) / a, (1 - b) / b, 1),\n",
    "          set_labels=labels,\n",
    "          ax=ax,\n",
    "          alpha=1,\n",
    "          set_colors=[palette[c] for c in labels])\n",
    "for label in v.set_labels:\n",
    "    label.set(fontsize=labelsize)\n",
    "\n",
    "numbers = [\n",
    "    f'{int((1-a)*100)}%', f'{int((1-b)*100)}%'\n",
    "]\n",
    "for label, t in zip(v.subset_labels, numbers):\n",
    "    label.set(text=t, fontsize=labelsize)\n",
    "\n",
    "ax = ax2\n",
    "a = overlap_records[('eDMR', 'peak')] / dmr_counts['eDMR']\n",
    "b = overlap_records[('peak', 'eDMR')] / dmr_counts['peak']\n",
    "labels = ('eDMR', 'Peak')\n",
    "v = venn2(subsets=((1 - a) / a, (1 - b) / b, 1),\n",
    "          set_labels=('eDMR', 'Peak'),\n",
    "          ax=ax,\n",
    "          alpha=1,\n",
    "          set_colors=[palette[c] for c in labels])\n",
    "for label in v.set_labels:\n",
    "    label.set(fontsize=labelsize)\n",
    "numbers = [\n",
    "    f'{int((1-a)*100)}%', f'{int((1-b)*100)}%',\n",
    "    f'{int(a*100)}% (e)\\n{int(b*100)}% (p)', ''\n",
    "]\n",
    "for label, t in zip(v.subset_labels, numbers):\n",
    "    label.set(text=t, fontsize=labelsize)\n",
    "\n",
    "la = overlap_records[('feDMR_brain', 'eDMR')] / dmr_counts['feDMR_brain']\n",
    "lb = overlap_records[('eDMR', 'feDMR_brain')] / dmr_counts['eDMR']\n",
    "ra = overlap_records[('feDMR_no_brain', 'eDMR')] / dmr_counts['feDMR_no_brain']\n",
    "rb = overlap_records[('eDMR', 'feDMR_no_brain')] / dmr_counts['eDMR']\n",
    "center = 1 - lb - rb\n",
    "\n",
    "# A corret portion ....\n",
    "ax = ax3\n",
    "v = venn3(subsets=((lb / la) - lb, (rb / ra) - rb, 0, center, lb, rb, 0),\n",
    "      set_labels=('feDMR\\n(Brain)', 'feDMR\\n(Other)', 'eDMR'),\n",
    "          ax=ax,\n",
    "          alpha=1,\n",
    "          set_colors=[palette[c] for c in ['feDMR_brain', 'feDMR_no_brain', 'eDMR']])\n",
    "for label in v.set_labels:\n",
    "    label.set(fontsize=labelsize)\n",
    "numbers = [\n",
    "    f'', f'', None,\n",
    "    f'', f'', f'', None\n",
    "]\n",
    "for label, t in zip(v.subset_labels, numbers):\n",
    "    if label is None:\n",
    "        continue\n",
    "    label.set(text=t, fontsize=labelsize)\n",
    "\n",
    "fig.savefig('DMR_overlap_with_other.pdf')"
   ]
  },
  {
   "cell_type": "code",
   "execution_count": null,
   "metadata": {},
   "outputs": [],
   "source": []
  },
  {
   "cell_type": "code",
   "execution_count": null,
   "metadata": {},
   "outputs": [],
   "source": []
  },
  {
   "cell_type": "markdown",
   "metadata": {},
   "source": [
    "## DMR corr "
   ]
  },
  {
   "cell_type": "code",
   "execution_count": 67,
   "metadata": {
    "ExecuteTime": {
     "end_time": "2020-03-05T04:20:10.834060Z",
     "start_time": "2020-03-05T04:19:59.863934Z"
    }
   },
   "outputs": [
    {
     "name": "stderr",
     "output_type": "stream",
     "text": [
      "/home/hanliu/miniconda3/envs/clustering/lib/python3.7/site-packages/IPython/core/interactiveshell.py:3326: FutureWarning: The read_msgpack is deprecated and will be removed in a future version.\n",
      "It is recommended to use pyarrow for on-the-wire transmission of pandas objects.\n",
      "  exec(code_obj, self.user_global_ns, self.user_ns)\n"
     ]
    }
   ],
   "source": [
    "corr_table = pd.read_msgpack(\n",
    "    '/home/hanliu/project/mouse_rostral_brain/study/DMRGeneCorr/TotalGeneDMRCorrLoop.0.3.msg'\n",
    ")\n",
    "use_dmr = corr_table['DMR'].unique()\n",
    "edmr_index = enhancer_hits[enhancer_hits > 0].index\n",
    "corr_table = corr_table[corr_table['DMR'].isin(edmr_index)].copy()"
   ]
  },
  {
   "cell_type": "code",
   "execution_count": 76,
   "metadata": {
    "ExecuteTime": {
     "end_time": "2020-03-05T04:20:47.433828Z",
     "start_time": "2020-03-05T04:20:46.939072Z"
    }
   },
   "outputs": [
    {
     "data": {
      "text/plain": [
       "(1017854, 1612198)"
      ]
     },
     "execution_count": 76,
     "metadata": {},
     "output_type": "execute_result"
    }
   ],
   "source": [
    "corr_table['DMR'].unique().size, edmr_index.size"
   ]
  },
  {
   "cell_type": "code",
   "execution_count": 77,
   "metadata": {
    "ExecuteTime": {
     "end_time": "2020-03-05T04:20:49.828006Z",
     "start_time": "2020-03-05T04:20:48.143122Z"
    }
   },
   "outputs": [],
   "source": [
    "dmr_3 = corr_table[corr_table['Corr'] > 0.3]['DMR'].unique().size\n",
    "dmr_5 = corr_table[corr_table['Corr'] > 0.5]['DMR'].unique().size"
   ]
  },
  {
   "cell_type": "code",
   "execution_count": 78,
   "metadata": {
    "ExecuteTime": {
     "end_time": "2020-03-05T04:20:50.685510Z",
     "start_time": "2020-03-05T04:20:50.682272Z"
    }
   },
   "outputs": [],
   "source": [
    "a = dmr_counts['eDMR']\n",
    "b = dmr_3\n",
    "c = dmr_5\n",
    "\n",
    "a_only = a - b\n",
    "b_only = 0\n",
    "c_only = 0\n",
    "a_b = b\n",
    "a_c = 0\n",
    "b_c = 0\n",
    "a_b_c = c"
   ]
  },
  {
   "cell_type": "code",
   "execution_count": 80,
   "metadata": {
    "ExecuteTime": {
     "end_time": "2020-03-05T04:23:00.351128Z",
     "start_time": "2020-03-05T04:23:00.268578Z"
    }
   },
   "outputs": [
    {
     "data": {
      "image/png": "[encoded data removed]",
      "text/plain": [
       "<Figure size 450x120 with 1 Axes>"
      ]
     },
     "metadata": {
      "needs_background": "light"
     },
     "output_type": "display_data"
    }
   ],
   "source": [
    "fig, ax = plt.subplots(figsize=(1.5, 0.4), dpi=300)\n",
    "\n",
    "ax.axis('off')\n",
    "\n",
    "from matplotlib.patches import Rectangle\n",
    "ac, bc, cc = sns.color_palette(\"Blues\", 3)\n",
    "a_ = Rectangle((0, 0), a, 1, fc=ac)\n",
    "b_ = Rectangle((0, 0), b, 1, fc=bc)\n",
    "c_ = Rectangle((0, 0), c, 1, fc=cc)\n",
    "\n",
    "ax.add_patch(a_)\n",
    "ax.add_patch(b_)\n",
    "ax.add_patch(c_)\n",
    "ax.set_xlim(0, a)\n",
    "ax.set_ylim(0, 2)\n",
    "ax.text(c,\n",
    "        0.5,\n",
    "        f'{c / a * 100:.0f}%',\n",
    "        ha='left',\n",
    "        va='center',\n",
    "        fontsize=labelsize)\n",
    "ax.text(c / 5,\n",
    "        1.8,\n",
    "        f'> 0.5',\n",
    "        rotation=45,\n",
    "        ha='left',\n",
    "        va='center',\n",
    "        fontsize=labelsize)\n",
    "\n",
    "ax.text(b,\n",
    "        0.5,\n",
    "        f'{b / a * 100:.0f}%',\n",
    "        ha='left',\n",
    "        va='center',\n",
    "        fontsize=labelsize)\n",
    "ax.text(b / 2,\n",
    "        1.8,\n",
    "        f'> 0.3',\n",
    "        rotation=45,\n",
    "        ha='left',\n",
    "        va='center',\n",
    "        fontsize=labelsize)\n",
    "\n",
    "fig.savefig('DMR_corr_portion.pdf')"
   ]
  },
  {
   "cell_type": "code",
   "execution_count": null,
   "metadata": {},
   "outputs": [],
   "source": []
  },
  {
   "cell_type": "code",
   "execution_count": null,
   "metadata": {},
   "outputs": [],
   "source": []
  }
 ],
 "metadata": {
  "hide_input": false,
  "kernelspec": {
   "display_name": "Python 3",
   "language": "python",
   "name": "python3"
  },
  "language_info": {
   "codemirror_mode": {
    "name": "ipython",
    "version": 3
   },
   "file_extension": ".py",
   "mimetype": "text/x-python",
   "name": "python",
   "nbconvert_exporter": "python",
   "pygments_lexer": "ipython3",
   "version": "3.7.3"
  },
  "toc": {
   "base_numbering": 1,
   "nav_menu": {},
   "number_sections": true,
   "sideBar": true,
   "skip_h1_title": true,
   "title_cell": "Table of Contents",
   "title_sidebar": "Contents",
   "toc_cell": false,
   "toc_position": {},
   "toc_section_display": true,
   "toc_window_display": true
  }
 },
 "nbformat": 4,
 "nbformat_minor": 2
}
