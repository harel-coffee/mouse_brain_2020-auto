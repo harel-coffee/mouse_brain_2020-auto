{
 "cells": [
  {
   "cell_type": "code",
   "execution_count": 1,
   "metadata": {
    "ExecuteTime": {
     "end_time": "2020-03-05T04:29:02.386144Z",
     "start_time": "2020-03-05T04:29:01.909739Z"
    }
   },
   "outputs": [],
   "source": [
    "import pandas as pd\n",
    "import numpy as np\n",
    "import anndata\n",
    "import seaborn as sns\n",
    "import matplotlib.pyplot as plt"
   ]
  },
  {
   "cell_type": "code",
   "execution_count": 2,
   "metadata": {
    "ExecuteTime": {
     "end_time": "2020-03-05T04:29:02.392038Z",
     "start_time": "2020-03-05T04:29:02.388001Z"
    }
   },
   "outputs": [],
   "source": [
    "from matplotlib import rc\n",
    "\n",
    "labelsize = 6\n",
    "linewidth = 0.5\n",
    "rc('lines', linewidth=linewidth)\n",
    "rc('axes', labelsize=labelsize, linewidth=linewidth)\n",
    "rc('xtick', labelsize=labelsize)\n",
    "rc('ytick', labelsize=labelsize)\n",
    "rc('xtick.major', width=linewidth)\n",
    "rc('ytick.major', width=linewidth)\n",
    "rc('xtick.minor', width=linewidth-0.2)\n",
    "rc('ytick.minor', width=linewidth-0.2)"
   ]
  },
  {
   "cell_type": "markdown",
   "metadata": {},
   "source": [
    "## Adult Neruonal Tissue DMR"
   ]
  },
  {
   "cell_type": "code",
   "execution_count": 3,
   "metadata": {
    "ExecuteTime": {
     "end_time": "2020-03-05T04:29:03.622172Z",
     "start_time": "2020-03-05T04:29:03.325915Z"
    }
   },
   "outputs": [
    {
     "data": {
      "text/plain": [
       "AnnData object with n_obs × n_vars = 121067 × 139 \n",
       "    var: 'FeatureType'"
      ]
     },
     "execution_count": 3,
     "metadata": {},
     "output_type": "execute_result"
    }
   ],
   "source": [
    "adult_dmr_adata = anndata.read_h5ad(\n",
    "    '/home/hanliu/project/mouse_rostral_brain/DMR/AdultNSDMRAnnotation/DMRAnnotation.h5ad'\n",
    ")\n",
    "adult_dmr_adata"
   ]
  },
  {
   "cell_type": "markdown",
   "metadata": {},
   "source": [
    "## Fetal Neuronal Tissue DMR"
   ]
  },
  {
   "cell_type": "code",
   "execution_count": 4,
   "metadata": {
    "ExecuteTime": {
     "end_time": "2020-03-05T00:26:58.864280Z",
     "start_time": "2020-03-05T00:26:58.414929Z"
    }
   },
   "outputs": [
    {
     "data": {
      "text/plain": [
       "AnnData object with n_obs × n_vars = 213319 × 139 \n",
       "    var: 'FeatureType'"
      ]
     },
     "execution_count": 4,
     "metadata": {},
     "output_type": "execute_result"
    }
   ],
   "source": [
    "fetal_dmr_adata = anndata.read_h5ad(\n",
    "    '/home/hanliu/project/mouse_rostral_brain/DMR/feDMRAnnotation_Brain/DMRAnnotation.h5ad'\n",
    ")\n",
    "fetal_dmr_adata"
   ]
  },
  {
   "cell_type": "markdown",
   "metadata": {},
   "source": [
    "## CEMBA DMR pass filter"
   ]
  },
  {
   "cell_type": "code",
   "execution_count": 5,
   "metadata": {
    "ExecuteTime": {
     "end_time": "2020-03-05T00:27:34.366231Z",
     "start_time": "2020-03-05T00:26:59.595092Z"
    }
   },
   "outputs": [
    {
     "data": {
      "text/plain": [
       "AnnData object with n_obs × n_vars = 3947795 × 139 \n",
       "    var: 'FeatureType'"
      ]
     },
     "execution_count": 5,
     "metadata": {},
     "output_type": "execute_result"
    }
   ],
   "source": [
    "dmr_adata = anndata.read_h5ad( \n",
    "    '/home/hanliu/project/mouse_rostral_brain/DMR/SubDMRAnnotation/DMRAnnotation.h5ad'\n",
    ")\n",
    "dmr_adata = dmr_adata[:, dmr_adata.var['FeatureType'] != 'MotifHits']\n",
    "\n",
    "dmr_hypo_hits = anndata.read_h5ad(\n",
    "    '/home/hanliu/project/mouse_rostral_brain/DMR/SubType/Total/TotalHits.HypoDMR.h5ad'\n",
    ")\n",
    "use_dmr = dmr_hypo_hits.X.sum(axis=1).A1 > 0\n",
    "\n",
    "dmr_adata = dmr_adata[use_dmr, :].copy()\n",
    "dmr_adata"
   ]
  },
  {
   "cell_type": "markdown",
   "metadata": {},
   "source": [
    "## Reptile hits"
   ]
  },
  {
   "cell_type": "code",
   "execution_count": 6,
   "metadata": {
    "ExecuteTime": {
     "end_time": "2020-03-05T00:27:51.796126Z",
     "start_time": "2020-03-05T00:27:34.367929Z"
    }
   },
   "outputs": [],
   "source": [
    "reptile_adata = anndata.read_h5ad(\n",
    "    '/home/hanliu/project/mouse_rostral_brain/REPTILE/result/REPTILE_scores.subtype.h5ad'\n",
    ")\n",
    "enhancer_hits = pd.Series((reptile_adata.X > 0).sum(axis=1).A1, index=reptile_adata.obs_names)\n",
    "dmr_adata.obs['IsEnhancer'] = enhancer_hits"
   ]
  },
  {
   "cell_type": "code",
   "execution_count": 7,
   "metadata": {
    "ExecuteTime": {
     "end_time": "2020-03-05T00:27:52.420437Z",
     "start_time": "2020-03-05T00:27:51.797862Z"
    }
   },
   "outputs": [],
   "source": [
    "enhancer_dmr_adata = dmr_adata[dmr_adata.obs['IsEnhancer'] > 0, :].copy()"
   ]
  },
  {
   "cell_type": "markdown",
   "metadata": {},
   "source": [
    "## ATAC Peaks"
   ]
  },
  {
   "cell_type": "code",
   "execution_count": 8,
   "metadata": {
    "ExecuteTime": {
     "end_time": "2020-03-05T00:27:53.452996Z",
     "start_time": "2020-03-05T00:27:52.422274Z"
    }
   },
   "outputs": [],
   "source": [
    "atac_adata = anndata.read_h5ad(\n",
    "    '/home/hanliu/project/mouse_rostral_brain/ATAC/peak/Annotation/DMRAnnotation.h5ad'\n",
    ")"
   ]
  },
  {
   "cell_type": "code",
   "execution_count": null,
   "metadata": {},
   "outputs": [],
   "source": []
  },
  {
   "cell_type": "code",
   "execution_count": 9,
   "metadata": {
    "ExecuteTime": {
     "end_time": "2020-03-05T00:27:53.457968Z",
     "start_time": "2020-03-05T00:27:53.454467Z"
    }
   },
   "outputs": [],
   "source": [
    "te_list = [\n",
    "    'DNA.DNA', 'DNA.MULE-MuDR', 'DNA.MuDR', 'DNA.PiggyBac', 'DNA.TcMar',\n",
    "    'DNA.TcMar-Mariner', 'DNA.TcMar-Pogo', 'DNA.TcMar-Tc2', 'DNA.TcMar-Tigger',\n",
    "    'DNA.hAT', 'DNA.hAT-Blackjack', 'DNA.hAT-Charlie', 'DNA.hAT-Tip100',\n",
    "    'LINE.CR1', 'LINE.Dong-R4', 'LINE.L1', 'LINE.L2', 'LINE.RTE-BovB',\n",
    "    'LINE.RTE-X', 'LTR.ERV1', 'LTR.ERVK', 'LTR.ERVL', 'LTR.ERVL-MaLR',\n",
    "    'LTR.Gypsy', 'LTR.LTR', 'SINE.Alu', 'SINE.B2', 'SINE.B4', 'SINE.Deu',\n",
    "    'SINE.ID', 'SINE.MIR', 'SINE.tRNA'\n",
    "]\n",
    "cgi_related = ['CGI', 'CGI_Shore']"
   ]
  },
  {
   "cell_type": "markdown",
   "metadata": {},
   "source": [
    "## Feature Portion Barplot"
   ]
  },
  {
   "cell_type": "code",
   "execution_count": 10,
   "metadata": {
    "ExecuteTime": {
     "end_time": "2020-03-05T00:27:53.463656Z",
     "start_time": "2020-03-05T00:27:53.459317Z"
    }
   },
   "outputs": [],
   "source": [
    "def get_feature_hits_count(adata):\n",
    "    hits = pd.Series(adata.X.sum(axis=0).A1, index=adata.var_names)\n",
    "    hits['TE_Total'] = hits[hits.index.isin(te_list)].sum()\n",
    "    hits['CGI & shore'] = hits[hits.index.isin(cgi_related)].sum()\n",
    "    hits['Intergenic'] = adata.X.shape[0] - hits['exon'] - hits['intron']\n",
    "    \n",
    "    no_hits = adata.X.shape[0] - hits\n",
    "    return pd.DataFrame({'Hits': hits, \n",
    "                         'NoHits': no_hits})"
   ]
  },
  {
   "cell_type": "code",
   "execution_count": 11,
   "metadata": {
    "ExecuteTime": {
     "end_time": "2020-03-05T00:27:53.608576Z",
     "start_time": "2020-03-05T00:27:53.464848Z"
    }
   },
   "outputs": [],
   "source": [
    "records = []\n",
    "\n",
    "counts = get_feature_hits_count(adult_dmr_adata)\n",
    "counts['Type'] = 'tissueDMR'\n",
    "records.append(counts)\n",
    "\n",
    "counts = get_feature_hits_count(fetal_dmr_adata)\n",
    "counts['Type'] = 'fetalDMR'\n",
    "records.append(counts)\n",
    "\n",
    "counts = get_feature_hits_count(dmr_adata)\n",
    "counts['Type'] = 'ctDMR'\n",
    "records.append(counts)\n",
    "\n",
    "counts = get_feature_hits_count(enhancer_dmr_adata)\n",
    "counts['Type'] = 'eDMR'\n",
    "records.append(counts)\n",
    "\n",
    "counts = get_feature_hits_count(atac_adata)\n",
    "counts['Type'] = 'Peak'\n",
    "records.append(counts)\n",
    "\n",
    "total_counts = pd.concat(records)\n",
    "total_counts['Ratio'] = total_counts['Hits'] / (total_counts['NoHits'] + total_counts['Hits']) * 100"
   ]
  },
  {
   "cell_type": "code",
   "execution_count": 12,
   "metadata": {
    "ExecuteTime": {
     "end_time": "2020-03-05T00:27:53.613480Z",
     "start_time": "2020-03-05T00:27:53.610544Z"
    }
   },
   "outputs": [],
   "source": [
    "plot_cates = [\n",
    "    'CGI & shore', 'promoter', 'exon', 'intron', 'Intergenic', 'TE_Total'\n",
    "]\n",
    "titles = ['CGI &\\nCGI Shore', 'Promoter', 'Exon', 'Intron', 'Intergenic', 'TE']"
   ]
  },
  {
   "cell_type": "code",
   "execution_count": 15,
   "metadata": {
    "ExecuteTime": {
     "end_time": "2020-03-05T00:29:40.874230Z",
     "start_time": "2020-03-05T00:29:40.443693Z"
    }
   },
   "outputs": [
    {
     "data": {
      "image/png": "[encoded data removed]",
      "text/plain": [
       "<Figure size 900x180 with 6 Axes>"
      ]
     },
     "metadata": {},
     "output_type": "display_data"
    }
   ],
   "source": [
    "fig, axes = plt.subplots(figsize=(3, 0.6),\n",
    "                         nrows=1,\n",
    "                         ncols=6,\n",
    "                         sharex=True,\n",
    "                         sharey=True,\n",
    "                         dpi=300)\n",
    "\n",
    "order = ['ctDMR', 'eDMR', 'fetalDMR', 'Peak']\n",
    "\n",
    "for ax, category, title in zip(axes.flat, plot_cates, titles):\n",
    "    _data = total_counts[total_counts.index == category]\n",
    "    sns.barplot(ax=ax, data=_data, x='Type', y='Ratio', order=order)\n",
    "    ax.set(xlabel='', ylabel='', xticks=[], ylim=(0, 60), yticks=[])\n",
    "    ax.set_xlabel(title, fontsize=labelsize)\n",
    "    for i, dmr_type in enumerate(order):\n",
    "        value = _data.set_index('Type')['Ratio'][dmr_type]\n",
    "        if value > 40:\n",
    "            va = 'center'\n",
    "            c = 'w'\n",
    "            dodge = -7\n",
    "        else:\n",
    "            va = 'center'\n",
    "            c = 'k'\n",
    "            dodge = 6\n",
    "        ax.text(i,\n",
    "                value + dodge,\n",
    "                f'{int(round(value))}',\n",
    "                rotation=0,\n",
    "                fontsize=5,\n",
    "                ha='center',\n",
    "                va=va,\n",
    "                c=c)\n",
    "sns.despine(fig=fig, offset=0, left=True)\n",
    "fig.savefig('Region_Composition.pdf')"
   ]
  },
  {
   "cell_type": "code",
   "execution_count": null,
   "metadata": {},
   "outputs": [],
   "source": []
  },
  {
   "cell_type": "code",
   "execution_count": null,
   "metadata": {},
   "outputs": [],
   "source": []
  },
  {
   "cell_type": "code",
   "execution_count": null,
   "metadata": {},
   "outputs": [],
   "source": []
  },
  {
   "cell_type": "code",
   "execution_count": null,
   "metadata": {},
   "outputs": [],
   "source": []
  },
  {
   "cell_type": "code",
   "execution_count": null,
   "metadata": {},
   "outputs": [],
   "source": []
  },
  {
   "cell_type": "code",
   "execution_count": null,
   "metadata": {},
   "outputs": [],
   "source": []
  },
  {
   "cell_type": "code",
   "execution_count": null,
   "metadata": {},
   "outputs": [],
   "source": []
  },
  {
   "cell_type": "code",
   "execution_count": null,
   "metadata": {},
   "outputs": [],
   "source": []
  },
  {
   "cell_type": "code",
   "execution_count": null,
   "metadata": {},
   "outputs": [],
   "source": []
  }
 ],
 "metadata": {
  "hide_input": false,
  "kernelspec": {
   "display_name": "Python 3",
   "language": "python",
   "name": "python3"
  },
  "language_info": {
   "codemirror_mode": {
    "name": "ipython",
    "version": 3
   },
   "file_extension": ".py",
   "mimetype": "text/x-python",
   "name": "python",
   "nbconvert_exporter": "python",
   "pygments_lexer": "ipython3",
   "version": "3.7.3"
  },
  "toc": {
   "base_numbering": 1,
   "nav_menu": {},
   "number_sections": true,
   "sideBar": true,
   "skip_h1_title": true,
   "title_cell": "Table of Contents",
   "title_sidebar": "Contents",
   "toc_cell": false,
   "toc_position": {},
   "toc_section_display": true,
   "toc_window_display": true
  }
 },
 "nbformat": 4,
 "nbformat_minor": 2
}
