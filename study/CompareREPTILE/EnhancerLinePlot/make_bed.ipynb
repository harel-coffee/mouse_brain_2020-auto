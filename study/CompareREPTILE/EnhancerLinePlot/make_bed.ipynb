{
 "cells": [
  {
   "cell_type": "code",
   "execution_count": 1,
   "metadata": {
    "ExecuteTime": {
     "end_time": "2020-03-07T03:48:27.183287Z",
     "start_time": "2020-03-07T03:48:26.743447Z"
    }
   },
   "outputs": [],
   "source": [
    "import pandas as pd\n",
    "import pybedtools\n",
    "import anndata\n",
    "import pathlib\n",
    "import subprocess"
   ]
  },
  {
   "cell_type": "code",
   "execution_count": 2,
   "metadata": {
    "ExecuteTime": {
     "end_time": "2020-03-07T03:48:41.907228Z",
     "start_time": "2020-03-07T03:48:27.184906Z"
    }
   },
   "outputs": [],
   "source": [
    "reptile_adata = anndata.read_h5ad(\n",
    "    '/home/hanliu/project/mouse_rostral_brain/REPTILE/result/REPTILE_scores.subtype.h5ad'\n",
    ")\n",
    "enhancer_hits = pd.Series((reptile_adata.X > 0.5).sum(axis=1).A1, index=reptile_adata.obs_names)\n",
    "use_dmr = enhancer_hits[enhancer_hits > 0].index"
   ]
  },
  {
   "cell_type": "code",
   "execution_count": 3,
   "metadata": {
    "ExecuteTime": {
     "end_time": "2020-03-07T03:48:52.487477Z",
     "start_time": "2020-03-07T03:48:41.909451Z"
    }
   },
   "outputs": [],
   "source": [
    "dmr_bed = pd.read_hdf( \n",
    "    '/home/hanliu/project/mouse_rostral_brain/DMR/SubType/Total/DMRInfo.h5', key='bed'\n",
    ").loc[use_dmr].copy().reset_index().iloc[:, [1, 2, 3, 0]]\n",
    "\n",
    "dmr_bed = pybedtools.BedTool.from_dataframe(dmr_bed)"
   ]
  },
  {
   "cell_type": "code",
   "execution_count": 4,
   "metadata": {
    "ExecuteTime": {
     "end_time": "2020-03-07T03:48:52.491445Z",
     "start_time": "2020-03-07T03:48:52.489024Z"
    }
   },
   "outputs": [],
   "source": [
    "fedmr_bed = pybedtools.BedTool('/home/hanliu/ref/inhouse/He_2020_Nature_Mouse_Tissue_Developmental/feDMR_FB.bed')"
   ]
  },
  {
   "cell_type": "code",
   "execution_count": 5,
   "metadata": {
    "ExecuteTime": {
     "end_time": "2020-03-07T03:48:56.035835Z",
     "start_time": "2020-03-07T03:48:52.492676Z"
    }
   },
   "outputs": [],
   "source": [
    "with_fedmr_bed = dmr_bed.intersect(fedmr_bed, wa=True, u=True)\n",
    "without_fedmr_bed = dmr_bed.intersect(fedmr_bed, v=True)"
   ]
  },
  {
   "cell_type": "code",
   "execution_count": 19,
   "metadata": {
    "ExecuteTime": {
     "end_time": "2020-03-07T04:26:05.431199Z",
     "start_time": "2020-03-07T04:26:04.630859Z"
    }
   },
   "outputs": [],
   "source": [
    "with_fedmr_bed.to_dataframe().sample(3000, random_state=0).to_csv('eDMR_with_feDMR.bed', sep='\\t', header=None, index=None)\n",
    "without_fedmr_bed.to_dataframe().sample(3000, random_state=0).to_csv('eDMR_without_feDMR.bed', sep='\\t', header=None, index=None)"
   ]
  },
  {
   "cell_type": "markdown",
   "metadata": {},
   "source": [
    "## Make Shuffle"
   ]
  },
  {
   "cell_type": "code",
   "execution_count": 20,
   "metadata": {
    "ExecuteTime": {
     "end_time": "2020-03-07T04:26:05.749631Z",
     "start_time": "2020-03-07T04:26:05.432749Z"
    }
   },
   "outputs": [],
   "source": [
    "!bedtools shuffle -i eDMR_with_feDMR.bed -g /home/hanliu/ref/mouse/genome/mm10.main.chrom.sizes > eDMR_with_feDMR.shuffle.bed\n",
    "!bedtools shuffle -i eDMR_without_feDMR.bed -g /home/hanliu/ref/mouse/genome/mm10.main.chrom.sizes > eDMR_without_feDMR.shuffle.bed"
   ]
  },
  {
   "cell_type": "code",
   "execution_count": 21,
   "metadata": {
    "ExecuteTime": {
     "end_time": "2020-03-07T04:26:05.902254Z",
     "start_time": "2020-03-07T04:26:05.751550Z"
    }
   },
   "outputs": [
    {
     "name": "stdout",
     "output_type": "stream",
     "text": [
      "eDMR_with_feDMR.bed\t\t    eDMR_without_feDMR.profile.gz\r\n",
      "eDMR_with_feDMR.profile.gz\t    eDMR_without_feDMR.shuffle.bed\r\n",
      "eDMR_with_feDMR.shuffle.bed\t    eDMR_without_feDMR.shuffle.profile.gz\r\n",
      "eDMR_with_feDMR.shuffle.profile.gz  make_bed.ipynb\r\n",
      "eDMR_without_feDMR.bed\t\t    plot_profile.ipynb\r\n"
     ]
    }
   ],
   "source": [
    "!ls"
   ]
  },
  {
   "cell_type": "code",
   "execution_count": 23,
   "metadata": {
    "ExecuteTime": {
     "end_time": "2020-03-07T04:29:12.767856Z",
     "start_time": "2020-03-07T04:26:19.583064Z"
    }
   },
   "outputs": [],
   "source": [
    "bw_dir = pathlib.Path('/home/hanliu/ddn/hanliu/Yupeng_ENCODE_developmental_mouse_tissue/ChIP/')\n",
    "bigwig_paths_str = ' '.join(map(str, bw_dir.glob('*FB*H3K27ac*')))\n",
    "\n",
    "for bed_path in pathlib.Path().glob('eDMR*bed'):\n",
    "    output = bed_path.name[:-3]+'profile.gz'\n",
    "    cmd = f'computeMatrix reference-point -S {bigwig_paths_str} -R {bed_path} -a 3000 -b 3000 -bs 30 --referencePoint center -p 47 -o {output}'\n",
    "    subprocess.run(cmd, shell=True,)"
   ]
  },
  {
   "cell_type": "code",
   "execution_count": null,
   "metadata": {
    "ExecuteTime": {
     "end_time": "2020-03-07T03:48:19.758953Z",
     "start_time": "2020-03-07T03:45:14.542Z"
    }
   },
   "outputs": [],
   "source": [
    "cmd"
   ]
  },
  {
   "cell_type": "code",
   "execution_count": null,
   "metadata": {},
   "outputs": [],
   "source": []
  },
  {
   "cell_type": "code",
   "execution_count": null,
   "metadata": {},
   "outputs": [],
   "source": []
  }
 ],
 "metadata": {
  "hide_input": false,
  "kernelspec": {
   "display_name": "Python 3",
   "language": "python",
   "name": "python3"
  },
  "language_info": {
   "codemirror_mode": {
    "name": "ipython",
    "version": 3
   },
   "file_extension": ".py",
   "mimetype": "text/x-python",
   "name": "python",
   "nbconvert_exporter": "python",
   "pygments_lexer": "ipython3",
   "version": "3.7.3"
  },
  "toc": {
   "base_numbering": 1,
   "nav_menu": {},
   "number_sections": true,
   "sideBar": true,
   "skip_h1_title": true,
   "title_cell": "Table of Contents",
   "title_sidebar": "Contents",
   "toc_cell": false,
   "toc_position": {},
   "toc_section_display": true,
   "toc_window_display": true
  }
 },
 "nbformat": 4,
 "nbformat_minor": 2
}
