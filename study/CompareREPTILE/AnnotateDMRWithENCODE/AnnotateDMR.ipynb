{
 "cells": [
  {
   "cell_type": "code",
   "execution_count": 1,
   "metadata": {
    "ExecuteTime": {
     "end_time": "2020-03-06T06:06:02.366414Z",
     "start_time": "2020-03-06T06:05:57.282508Z"
    }
   },
   "outputs": [],
   "source": [
    "import pandas as pd\n",
    "import numpy as np\n",
    "import anndata\n",
    "from scipy.sparse import csr_matrix\n",
    "import pathlib\n",
    "import pyBigWig\n",
    "import pybedtools\n",
    "import subprocess\n",
    "from concurrent.futures import ProcessPoolExecutor, as_completed"
   ]
  },
  {
   "cell_type": "code",
   "execution_count": 2,
   "metadata": {
    "ExecuteTime": {
     "end_time": "2020-03-06T06:06:02.373561Z",
     "start_time": "2020-03-06T06:06:02.369888Z"
    }
   },
   "outputs": [],
   "source": [
    "records = []"
   ]
  },
  {
   "cell_type": "markdown",
   "metadata": {},
   "source": [
    "## ATAC"
   ]
  },
  {
   "cell_type": "code",
   "execution_count": 3,
   "metadata": {
    "ExecuteTime": {
     "end_time": "2020-03-06T06:06:02.425180Z",
     "start_time": "2020-03-06T06:06:02.376336Z"
    }
   },
   "outputs": [],
   "source": [
    "bw_dir = pathlib.Path(\n",
    "    '/home/hanliu/ddn/hanliu/Yupeng_ENCODE_developmental_mouse_tissue/ATAC/')\n",
    "\n",
    "for p in bw_dir.glob('*FB*bw'):\n",
    "    time = '.'.join(p.name.split('.')[0].split('_')[:-1])\n",
    "    records.append({'Path': str(p), 'Type': 'ATAC', 'DevTime': time})"
   ]
  },
  {
   "cell_type": "markdown",
   "metadata": {},
   "source": [
    "## ChIP"
   ]
  },
  {
   "cell_type": "code",
   "execution_count": 4,
   "metadata": {
    "ExecuteTime": {
     "end_time": "2020-03-06T06:06:02.436283Z",
     "start_time": "2020-03-06T06:06:02.428200Z"
    }
   },
   "outputs": [],
   "source": [
    "bw_dir = pathlib.Path(\n",
    "    '/home/hanliu/ddn/hanliu/Yupeng_ENCODE_developmental_mouse_tissue/ChIP/')\n",
    "\n",
    "for p in bw_dir.glob('*FB*bw'):\n",
    "    *time, tissue, data_type = p.name.split('.')[0].split('_')\n",
    "    time = '.'.join(time)\n",
    "    records.append({'Path': str(p), 'Type': data_type, 'DevTime': time})"
   ]
  },
  {
   "cell_type": "markdown",
   "metadata": {
    "ExecuteTime": {
     "end_time": "2020-03-05T21:39:54.321566Z",
     "start_time": "2020-03-05T21:39:54.319843Z"
    }
   },
   "source": [
    "## mC"
   ]
  },
  {
   "cell_type": "code",
   "execution_count": 5,
   "metadata": {
    "ExecuteTime": {
     "end_time": "2020-03-06T06:06:02.482508Z",
     "start_time": "2020-03-06T06:06:02.438955Z"
    }
   },
   "outputs": [],
   "source": [
    "bw_dir = pathlib.Path(\n",
    "    '/home/hanliu/ddn/hanliu/Yupeng_ENCODE_developmental_mouse_tissue/WGBS/BW/')\n",
    "\n",
    "for p in bw_dir.glob('*rate*bw'):\n",
    "    infos, mc_type, *_ = p.name.split('.')\n",
    "    *time, tissue, rep = infos.split('_')\n",
    "    mc_type = mc_type.split('-')[0]\n",
    "    time = '.'.join(time)\n",
    "    records.append({'Path': str(p), 'Type': mc_type, 'DevTime': time, 'Rep': rep})"
   ]
  },
  {
   "cell_type": "code",
   "execution_count": 6,
   "metadata": {
    "ExecuteTime": {
     "end_time": "2020-03-06T06:06:02.494214Z",
     "start_time": "2020-03-06T06:06:02.484213Z"
    }
   },
   "outputs": [
    {
     "data": {
      "text/plain": [
       "(100, 4)"
      ]
     },
     "execution_count": 6,
     "metadata": {},
     "output_type": "execute_result"
    }
   ],
   "source": [
    "total_bw = pd.DataFrame(records).fillna(1)\n",
    "total_bw['DevTime'] = total_bw['DevTime'].apply(lambda i: i.replace('AD.', ''))\n",
    "total_bw.shape"
   ]
  },
  {
   "cell_type": "code",
   "execution_count": 7,
   "metadata": {
    "ExecuteTime": {
     "end_time": "2020-03-06T06:06:02.519902Z",
     "start_time": "2020-03-06T06:06:02.495612Z"
    }
   },
   "outputs": [],
   "source": [
    "total_bw.to_csv('BW_list.csv')"
   ]
  },
  {
   "cell_type": "code",
   "execution_count": 8,
   "metadata": {
    "ExecuteTime": {
     "end_time": "2020-03-06T06:06:02.536682Z",
     "start_time": "2020-03-06T06:06:02.526121Z"
    }
   },
   "outputs": [
    {
     "data": {
      "text/plain": [
       "E14.5    13\n",
       "E13.5    13\n",
       "E11.5    13\n",
       "E15.5    13\n",
       "E12.5    13\n",
       "E16.5    13\n",
       "P0       13\n",
       "E10.5     6\n",
       "P21       1\n",
       "P56       1\n",
       "P7        1\n",
       "Name: DevTime, dtype: int64"
      ]
     },
     "execution_count": 8,
     "metadata": {},
     "output_type": "execute_result"
    }
   ],
   "source": [
    "total_bw['DevTime'].value_counts()"
   ]
  },
  {
   "cell_type": "code",
   "execution_count": 9,
   "metadata": {
    "ExecuteTime": {
     "end_time": "2020-03-06T06:06:02.545966Z",
     "start_time": "2020-03-06T06:06:02.540187Z"
    }
   },
   "outputs": [
    {
     "data": {
      "text/plain": [
       "CHN         16\n",
       "CGN         16\n",
       "CAN         16\n",
       "H3K27ac     10\n",
       "H3K4me2      7\n",
       "H3K4me3      7\n",
       "H3K27me3     7\n",
       "ATAC         7\n",
       "H3K9ac       7\n",
       "H3K4me1      7\n",
       "Name: Type, dtype: int64"
      ]
     },
     "execution_count": 9,
     "metadata": {},
     "output_type": "execute_result"
    }
   ],
   "source": [
    "total_bw['Type'].value_counts()"
   ]
  },
  {
   "cell_type": "markdown",
   "metadata": {},
   "source": [
    "## DMR"
   ]
  },
  {
   "cell_type": "code",
   "execution_count": 10,
   "metadata": {
    "ExecuteTime": {
     "end_time": "2020-03-06T06:06:21.434545Z",
     "start_time": "2020-03-06T06:06:21.346682Z"
    }
   },
   "outputs": [
    {
     "data": {
      "text/plain": [
       "<BedTool(DMR_temp.bed)>"
      ]
     },
     "execution_count": 10,
     "metadata": {},
     "output_type": "execute_result"
    }
   ],
   "source": [
    "slop = 250\n",
    "pybedtools.BedTool(\n",
    "    './merged_loops_merged.anchor.bed'\n",
    ").saveas('DMR_temp.bed')#.slop(b=slop, g='/home/hanliu/ref/mouse/genome/mm10.main.chrom.sizes').saveas('DMR_temp.bed')"
   ]
  },
  {
   "cell_type": "markdown",
   "metadata": {},
   "source": [
    "## Scan BW"
   ]
  },
  {
   "cell_type": "code",
   "execution_count": 11,
   "metadata": {
    "ExecuteTime": {
     "end_time": "2020-03-06T06:06:22.558284Z",
     "start_time": "2020-03-06T06:06:22.531044Z"
    },
    "scrolled": true
   },
   "outputs": [],
   "source": [
    "in_bed = pathlib.Path('DMR_temp.bed').absolute()\n",
    "\n",
    "cmds = []\n",
    "for _, (path, dtype, time, rep) in total_bw.iterrows():\n",
    "    output_path = pathlib.Path(f'{dtype}_{time}_{rep}.tab').absolute()\n",
    "    in_bw = path\n",
    "    cmd = f'bigWigAverageOverBed {in_bw} {in_bed} {output_path}'\n",
    "    cmds.append(cmd)"
   ]
  },
  {
   "cell_type": "markdown",
   "metadata": {},
   "source": [
    "## Run"
   ]
  },
  {
   "cell_type": "code",
   "execution_count": 12,
   "metadata": {
    "ExecuteTime": {
     "end_time": "2020-03-06T06:08:08.787132Z",
     "start_time": "2020-03-06T06:06:23.531739Z"
    }
   },
   "outputs": [
    {
     "name": "stdout",
     "output_type": "stream",
     "text": [
      "bigWigAverageOverBed /home/hanliu/ddn/hanliu/Yupeng_ENCODE_developmental_mouse_tissue/ChIP/E15_5_FB_H3K9ac.subtract.bw /home/hanliu/project/mouse_rostral_brain/study/CompareREPTILE/AnnotateDMRWithENCODE/DMR_temp.bed /home/hanliu/project/mouse_rostral_brain/study/CompareREPTILE/AnnotateDMRWithENCODE/H3K9ac_E15.5_1.tab\n",
      "bigWigAverageOverBed /home/hanliu/ddn/hanliu/Yupeng_ENCODE_developmental_mouse_tissue/ChIP/E11_5_FB_H3K27ac.subtract.bw /home/hanliu/project/mouse_rostral_brain/study/CompareREPTILE/AnnotateDMRWithENCODE/DMR_temp.bed /home/hanliu/project/mouse_rostral_brain/study/CompareREPTILE/AnnotateDMRWithENCODE/H3K27ac_E11.5_1.tab\n",
      "bigWigAverageOverBed /home/hanliu/ddn/hanliu/Yupeng_ENCODE_developmental_mouse_tissue/ChIP/AD_P21_FB_H3K27ac.subtract.bw /home/hanliu/project/mouse_rostral_brain/study/CompareREPTILE/AnnotateDMRWithENCODE/DMR_temp.bed /home/hanliu/project/mouse_rostral_brain/study/CompareREPTILE/AnnotateDMRWithENCODE/H3K27ac_P21_1.tab\n",
      "bigWigAverageOverBed /home/hanliu/ddn/hanliu/Yupeng_ENCODE_developmental_mouse_tissue/ChIP/E12_5_FB_H3K9ac.subtract.bw /home/hanliu/project/mouse_rostral_brain/study/CompareREPTILE/AnnotateDMRWithENCODE/DMR_temp.bed /home/hanliu/project/mouse_rostral_brain/study/CompareREPTILE/AnnotateDMRWithENCODE/H3K9ac_E12.5_1.tab\n",
      "bigWigAverageOverBed /home/hanliu/ddn/hanliu/Yupeng_ENCODE_developmental_mouse_tissue/ChIP/E13_5_FB_H3K27me3.subtract.bw /home/hanliu/project/mouse_rostral_brain/study/CompareREPTILE/AnnotateDMRWithENCODE/DMR_temp.bed /home/hanliu/project/mouse_rostral_brain/study/CompareREPTILE/AnnotateDMRWithENCODE/H3K27me3_E13.5_1.tab\n",
      "bigWigAverageOverBed /home/hanliu/ddn/hanliu/Yupeng_ENCODE_developmental_mouse_tissue/ChIP/E14_5_FB_H3K4me1.subtract.bw /home/hanliu/project/mouse_rostral_brain/study/CompareREPTILE/AnnotateDMRWithENCODE/DMR_temp.bed /home/hanliu/project/mouse_rostral_brain/study/CompareREPTILE/AnnotateDMRWithENCODE/H3K4me1_E14.5_1.tab\n",
      "bigWigAverageOverBed /home/hanliu/ddn/hanliu/Yupeng_ENCODE_developmental_mouse_tissue/ChIP/E12_5_FB_H3K4me3.subtract.bw /home/hanliu/project/mouse_rostral_brain/study/CompareREPTILE/AnnotateDMRWithENCODE/DMR_temp.bed /home/hanliu/project/mouse_rostral_brain/study/CompareREPTILE/AnnotateDMRWithENCODE/H3K4me3_E12.5_1.tab\n",
      "bigWigAverageOverBed /home/hanliu/ddn/hanliu/Yupeng_ENCODE_developmental_mouse_tissue/ChIP/E16_5_FB_H3K4me3.subtract.bw /home/hanliu/project/mouse_rostral_brain/study/CompareREPTILE/AnnotateDMRWithENCODE/DMR_temp.bed /home/hanliu/project/mouse_rostral_brain/study/CompareREPTILE/AnnotateDMRWithENCODE/H3K4me3_E16.5_1.tab\n",
      "bigWigAverageOverBed /home/hanliu/ddn/hanliu/Yupeng_ENCODE_developmental_mouse_tissue/ChIP/E11_5_FB_H3K9ac.subtract.bw /home/hanliu/project/mouse_rostral_brain/study/CompareREPTILE/AnnotateDMRWithENCODE/DMR_temp.bed /home/hanliu/project/mouse_rostral_brain/study/CompareREPTILE/AnnotateDMRWithENCODE/H3K9ac_E11.5_1.tab\n",
      "bigWigAverageOverBed /home/hanliu/ddn/hanliu/Yupeng_ENCODE_developmental_mouse_tissue/ChIP/E15_5_FB_H3K4me2.subtract.bw /home/hanliu/project/mouse_rostral_brain/study/CompareREPTILE/AnnotateDMRWithENCODE/DMR_temp.bed /home/hanliu/project/mouse_rostral_brain/study/CompareREPTILE/AnnotateDMRWithENCODE/H3K4me2_E15.5_1.tab\n",
      "bigWigAverageOverBed /home/hanliu/ddn/hanliu/Yupeng_ENCODE_developmental_mouse_tissue/ChIP/E15_5_FB_H3K4me3.subtract.bw /home/hanliu/project/mouse_rostral_brain/study/CompareREPTILE/AnnotateDMRWithENCODE/DMR_temp.bed /home/hanliu/project/mouse_rostral_brain/study/CompareREPTILE/AnnotateDMRWithENCODE/H3K4me3_E15.5_1.tab\n",
      "bigWigAverageOverBed /home/hanliu/ddn/hanliu/Yupeng_ENCODE_developmental_mouse_tissue/ChIP/P0_FB_H3K4me3.subtract.bw /home/hanliu/project/mouse_rostral_brain/study/CompareREPTILE/AnnotateDMRWithENCODE/DMR_temp.bed /home/hanliu/project/mouse_rostral_brain/study/CompareREPTILE/AnnotateDMRWithENCODE/H3K4me3_P0_1.tab\n",
      "bigWigAverageOverBed /home/hanliu/ddn/hanliu/Yupeng_ENCODE_developmental_mouse_tissue/ChIP/P0_FB_H3K27me3.subtract.bw /home/hanliu/project/mouse_rostral_brain/study/CompareREPTILE/AnnotateDMRWithENCODE/DMR_temp.bed /home/hanliu/project/mouse_rostral_brain/study/CompareREPTILE/AnnotateDMRWithENCODE/H3K27me3_P0_1.tab\n",
      "bigWigAverageOverBed /home/hanliu/ddn/hanliu/Yupeng_ENCODE_developmental_mouse_tissue/ChIP/E13_5_FB_H3K4me2.subtract.bw /home/hanliu/project/mouse_rostral_brain/study/CompareREPTILE/AnnotateDMRWithENCODE/DMR_temp.bed /home/hanliu/project/mouse_rostral_brain/study/CompareREPTILE/AnnotateDMRWithENCODE/H3K4me2_E13.5_1.tab\n",
      "bigWigAverageOverBed /home/hanliu/ddn/hanliu/Yupeng_ENCODE_developmental_mouse_tissue/ChIP/E15_5_FB_H3K27ac.subtract.bw /home/hanliu/project/mouse_rostral_brain/study/CompareREPTILE/AnnotateDMRWithENCODE/DMR_temp.bed /home/hanliu/project/mouse_rostral_brain/study/CompareREPTILE/AnnotateDMRWithENCODE/H3K27ac_E15.5_1.tab\n",
      "bigWigAverageOverBed /home/hanliu/ddn/hanliu/Yupeng_ENCODE_developmental_mouse_tissue/ChIP/E15_5_FB_H3K4me1.subtract.bw /home/hanliu/project/mouse_rostral_brain/study/CompareREPTILE/AnnotateDMRWithENCODE/DMR_temp.bed /home/hanliu/project/mouse_rostral_brain/study/CompareREPTILE/AnnotateDMRWithENCODE/H3K4me1_E15.5_1.tab\n",
      "bigWigAverageOverBed /home/hanliu/ddn/hanliu/Yupeng_ENCODE_developmental_mouse_tissue/ChIP/E14_5_FB_H3K27me3.subtract.bw /home/hanliu/project/mouse_rostral_brain/study/CompareREPTILE/AnnotateDMRWithENCODE/DMR_temp.bed /home/hanliu/project/mouse_rostral_brain/study/CompareREPTILE/AnnotateDMRWithENCODE/H3K27me3_E14.5_1.tab\n",
      "bigWigAverageOverBed /home/hanliu/ddn/hanliu/Yupeng_ENCODE_developmental_mouse_tissue/ChIP/E14_5_FB_H3K9ac.subtract.bw /home/hanliu/project/mouse_rostral_brain/study/CompareREPTILE/AnnotateDMRWithENCODE/DMR_temp.bed /home/hanliu/project/mouse_rostral_brain/study/CompareREPTILE/AnnotateDMRWithENCODE/H3K9ac_E14.5_1.tab\n",
      "bigWigAverageOverBed /home/hanliu/ddn/hanliu/Yupeng_ENCODE_developmental_mouse_tissue/ChIP/E14_5_FB_H3K27ac.subtract.bw /home/hanliu/project/mouse_rostral_brain/study/CompareREPTILE/AnnotateDMRWithENCODE/DMR_temp.bed /home/hanliu/project/mouse_rostral_brain/study/CompareREPTILE/AnnotateDMRWithENCODE/H3K27ac_E14.5_1.tab\n",
      "bigWigAverageOverBed /home/hanliu/ddn/hanliu/Yupeng_ENCODE_developmental_mouse_tissue/ChIP/P0_FB_H3K4me2.subtract.bw /home/hanliu/project/mouse_rostral_brain/study/CompareREPTILE/AnnotateDMRWithENCODE/DMR_temp.bed /home/hanliu/project/mouse_rostral_brain/study/CompareREPTILE/AnnotateDMRWithENCODE/H3K4me2_P0_1.tab\n",
      "bigWigAverageOverBed /home/hanliu/ddn/hanliu/Yupeng_ENCODE_developmental_mouse_tissue/ChIP/P0_FB_H3K4me1.subtract.bw /home/hanliu/project/mouse_rostral_brain/study/CompareREPTILE/AnnotateDMRWithENCODE/DMR_temp.bed /home/hanliu/project/mouse_rostral_brain/study/CompareREPTILE/AnnotateDMRWithENCODE/H3K4me1_P0_1.tab\n",
      "bigWigAverageOverBed /home/hanliu/ddn/hanliu/Yupeng_ENCODE_developmental_mouse_tissue/ChIP/E16_5_FB_H3K9ac.subtract.bw /home/hanliu/project/mouse_rostral_brain/study/CompareREPTILE/AnnotateDMRWithENCODE/DMR_temp.bed /home/hanliu/project/mouse_rostral_brain/study/CompareREPTILE/AnnotateDMRWithENCODE/H3K9ac_E16.5_1.tab\n",
      "bigWigAverageOverBed /home/hanliu/ddn/hanliu/Yupeng_ENCODE_developmental_mouse_tissue/ChIP/E14_5_FB_H3K4me3.subtract.bw /home/hanliu/project/mouse_rostral_brain/study/CompareREPTILE/AnnotateDMRWithENCODE/DMR_temp.bed /home/hanliu/project/mouse_rostral_brain/study/CompareREPTILE/AnnotateDMRWithENCODE/H3K4me3_E14.5_1.tab\n",
      "bigWigAverageOverBed /home/hanliu/ddn/hanliu/Yupeng_ENCODE_developmental_mouse_tissue/ATAC/E16_5_FB.pooled.FE.bw /home/hanliu/project/mouse_rostral_brain/study/CompareREPTILE/AnnotateDMRWithENCODE/DMR_temp.bed /home/hanliu/project/mouse_rostral_brain/study/CompareREPTILE/AnnotateDMRWithENCODE/ATAC_E16.5_1.tab\n",
      "bigWigAverageOverBed /home/hanliu/ddn/hanliu/Yupeng_ENCODE_developmental_mouse_tissue/ATAC/P0_FB.pooled.FE.bw /home/hanliu/project/mouse_rostral_brain/study/CompareREPTILE/AnnotateDMRWithENCODE/DMR_temp.bed /home/hanliu/project/mouse_rostral_brain/study/CompareREPTILE/AnnotateDMRWithENCODE/ATAC_P0_1.tab\n",
      "bigWigAverageOverBed /home/hanliu/ddn/hanliu/Yupeng_ENCODE_developmental_mouse_tissue/ATAC/E12_5_FB.pooled.FE.bw /home/hanliu/project/mouse_rostral_brain/study/CompareREPTILE/AnnotateDMRWithENCODE/DMR_temp.bed /home/hanliu/project/mouse_rostral_brain/study/CompareREPTILE/AnnotateDMRWithENCODE/ATAC_E12.5_1.tab\n"
     ]
    },
    {
     "name": "stdout",
     "output_type": "stream",
     "text": [
      "bigWigAverageOverBed /home/hanliu/ddn/hanliu/Yupeng_ENCODE_developmental_mouse_tissue/ChIP/E12_5_FB_H3K4me1.subtract.bw /home/hanliu/project/mouse_rostral_brain/study/CompareREPTILE/AnnotateDMRWithENCODE/DMR_temp.bed /home/hanliu/project/mouse_rostral_brain/study/CompareREPTILE/AnnotateDMRWithENCODE/H3K4me1_E12.5_1.tab\n",
      "bigWigAverageOverBed /home/hanliu/ddn/hanliu/Yupeng_ENCODE_developmental_mouse_tissue/ATAC/E11_5_FB.pooled.FE.bw /home/hanliu/project/mouse_rostral_brain/study/CompareREPTILE/AnnotateDMRWithENCODE/DMR_temp.bed /home/hanliu/project/mouse_rostral_brain/study/CompareREPTILE/AnnotateDMRWithENCODE/ATAC_E11.5_1.tab\n",
      "bigWigAverageOverBed /home/hanliu/ddn/hanliu/Yupeng_ENCODE_developmental_mouse_tissue/ChIP/E12_5_FB_H3K27me3.subtract.bw /home/hanliu/project/mouse_rostral_brain/study/CompareREPTILE/AnnotateDMRWithENCODE/DMR_temp.bed /home/hanliu/project/mouse_rostral_brain/study/CompareREPTILE/AnnotateDMRWithENCODE/H3K27me3_E12.5_1.tab\n",
      "bigWigAverageOverBed /home/hanliu/ddn/hanliu/Yupeng_ENCODE_developmental_mouse_tissue/ATAC/E14_5_FB.pooled.FE.bw /home/hanliu/project/mouse_rostral_brain/study/CompareREPTILE/AnnotateDMRWithENCODE/DMR_temp.bed /home/hanliu/project/mouse_rostral_brain/study/CompareREPTILE/AnnotateDMRWithENCODE/ATAC_E14.5_1.tab\n",
      "bigWigAverageOverBed /home/hanliu/ddn/hanliu/Yupeng_ENCODE_developmental_mouse_tissue/ChIP/E14_5_FB_H3K4me2.subtract.bw /home/hanliu/project/mouse_rostral_brain/study/CompareREPTILE/AnnotateDMRWithENCODE/DMR_temp.bed /home/hanliu/project/mouse_rostral_brain/study/CompareREPTILE/AnnotateDMRWithENCODE/H3K4me2_E14.5_1.tab\n",
      "bigWigAverageOverBed /home/hanliu/ddn/hanliu/Yupeng_ENCODE_developmental_mouse_tissue/ChIP/E16_5_FB_H3K27ac.subtract.bw /home/hanliu/project/mouse_rostral_brain/study/CompareREPTILE/AnnotateDMRWithENCODE/DMR_temp.bed /home/hanliu/project/mouse_rostral_brain/study/CompareREPTILE/AnnotateDMRWithENCODE/H3K27ac_E16.5_1.tab\n",
      "bigWigAverageOverBed /home/hanliu/ddn/hanliu/Yupeng_ENCODE_developmental_mouse_tissue/ChIP/E12_5_FB_H3K27ac.subtract.bw /home/hanliu/project/mouse_rostral_brain/study/CompareREPTILE/AnnotateDMRWithENCODE/DMR_temp.bed /home/hanliu/project/mouse_rostral_brain/study/CompareREPTILE/AnnotateDMRWithENCODE/H3K27ac_E12.5_1.tab\n",
      "bigWigAverageOverBed /home/hanliu/ddn/hanliu/Yupeng_ENCODE_developmental_mouse_tissue/ChIP/AD_P56_FB_H3K27ac.subtract.bw /home/hanliu/project/mouse_rostral_brain/study/CompareREPTILE/AnnotateDMRWithENCODE/DMR_temp.bed /home/hanliu/project/mouse_rostral_brain/study/CompareREPTILE/AnnotateDMRWithENCODE/H3K27ac_P56_1.tab\n",
      "bigWigAverageOverBed /home/hanliu/ddn/hanliu/Yupeng_ENCODE_developmental_mouse_tissue/ChIP/E15_5_FB_H3K27me3.subtract.bw /home/hanliu/project/mouse_rostral_brain/study/CompareREPTILE/AnnotateDMRWithENCODE/DMR_temp.bed /home/hanliu/project/mouse_rostral_brain/study/CompareREPTILE/AnnotateDMRWithENCODE/H3K27me3_E15.5_1.tab\n",
      "bigWigAverageOverBed /home/hanliu/ddn/hanliu/Yupeng_ENCODE_developmental_mouse_tissue/ATAC/E15_5_FB.pooled.FE.bw /home/hanliu/project/mouse_rostral_brain/study/CompareREPTILE/AnnotateDMRWithENCODE/DMR_temp.bed /home/hanliu/project/mouse_rostral_brain/study/CompareREPTILE/AnnotateDMRWithENCODE/ATAC_E15.5_1.tab\n",
      "bigWigAverageOverBed /home/hanliu/ddn/hanliu/Yupeng_ENCODE_developmental_mouse_tissue/ChIP/E16_5_FB_H3K4me1.subtract.bw /home/hanliu/project/mouse_rostral_brain/study/CompareREPTILE/AnnotateDMRWithENCODE/DMR_temp.bed /home/hanliu/project/mouse_rostral_brain/study/CompareREPTILE/AnnotateDMRWithENCODE/H3K4me1_E16.5_1.tab\n",
      "bigWigAverageOverBed /home/hanliu/ddn/hanliu/Yupeng_ENCODE_developmental_mouse_tissue/ChIP/P0_FB_H3K27ac.subtract.bw /home/hanliu/project/mouse_rostral_brain/study/CompareREPTILE/AnnotateDMRWithENCODE/DMR_temp.bed /home/hanliu/project/mouse_rostral_brain/study/CompareREPTILE/AnnotateDMRWithENCODE/H3K27ac_P0_1.tab\n",
      "bigWigAverageOverBed /home/hanliu/ddn/hanliu/Yupeng_ENCODE_developmental_mouse_tissue/ChIP/E11_5_FB_H3K4me1.subtract.bw /home/hanliu/project/mouse_rostral_brain/study/CompareREPTILE/AnnotateDMRWithENCODE/DMR_temp.bed /home/hanliu/project/mouse_rostral_brain/study/CompareREPTILE/AnnotateDMRWithENCODE/H3K4me1_E11.5_1.tab\n",
      "bigWigAverageOverBed /home/hanliu/ddn/hanliu/Yupeng_ENCODE_developmental_mouse_tissue/ChIP/E13_5_FB_H3K4me1.subtract.bw /home/hanliu/project/mouse_rostral_brain/study/CompareREPTILE/AnnotateDMRWithENCODE/DMR_temp.bed /home/hanliu/project/mouse_rostral_brain/study/CompareREPTILE/AnnotateDMRWithENCODE/H3K4me1_E13.5_1.tab\n",
      "bigWigAverageOverBed /home/hanliu/ddn/hanliu/Yupeng_ENCODE_developmental_mouse_tissue/ATAC/E13_5_FB.pooled.FE.bw /home/hanliu/project/mouse_rostral_brain/study/CompareREPTILE/AnnotateDMRWithENCODE/DMR_temp.bed /home/hanliu/project/mouse_rostral_brain/study/CompareREPTILE/AnnotateDMRWithENCODE/ATAC_E13.5_1.tab\n",
      "bigWigAverageOverBed /home/hanliu/ddn/hanliu/Yupeng_ENCODE_developmental_mouse_tissue/ChIP/E13_5_FB_H3K9ac.subtract.bw /home/hanliu/project/mouse_rostral_brain/study/CompareREPTILE/AnnotateDMRWithENCODE/DMR_temp.bed /home/hanliu/project/mouse_rostral_brain/study/CompareREPTILE/AnnotateDMRWithENCODE/H3K9ac_E13.5_1.tab\n",
      "bigWigAverageOverBed /home/hanliu/ddn/hanliu/Yupeng_ENCODE_developmental_mouse_tissue/ChIP/E12_5_FB_H3K4me2.subtract.bw /home/hanliu/project/mouse_rostral_brain/study/CompareREPTILE/AnnotateDMRWithENCODE/DMR_temp.bed /home/hanliu/project/mouse_rostral_brain/study/CompareREPTILE/AnnotateDMRWithENCODE/H3K4me2_E12.5_1.tab\n",
      "bigWigAverageOverBed /home/hanliu/ddn/hanliu/Yupeng_ENCODE_developmental_mouse_tissue/ChIP/E13_5_FB_H3K27ac.subtract.bw /home/hanliu/project/mouse_rostral_brain/study/CompareREPTILE/AnnotateDMRWithENCODE/DMR_temp.bed /home/hanliu/project/mouse_rostral_brain/study/CompareREPTILE/AnnotateDMRWithENCODE/H3K27ac_E13.5_1.tab\n",
      "bigWigAverageOverBed /home/hanliu/ddn/hanliu/Yupeng_ENCODE_developmental_mouse_tissue/WGBS/BW/P0_FB_1.CGN-Both.rate.bw /home/hanliu/project/mouse_rostral_brain/study/CompareREPTILE/AnnotateDMRWithENCODE/DMR_temp.bed /home/hanliu/project/mouse_rostral_brain/study/CompareREPTILE/AnnotateDMRWithENCODE/CGN_P0_1.tab\n",
      "bigWigAverageOverBed /home/hanliu/ddn/hanliu/Yupeng_ENCODE_developmental_mouse_tissue/WGBS/BW/E13_5_FB_1.CGN-Both.rate.bw /home/hanliu/project/mouse_rostral_brain/study/CompareREPTILE/AnnotateDMRWithENCODE/DMR_temp.bed /home/hanliu/project/mouse_rostral_brain/study/CompareREPTILE/AnnotateDMRWithENCODE/CGN_E13.5_1.tab\n",
      "bigWigAverageOverBed /home/hanliu/ddn/hanliu/Yupeng_ENCODE_developmental_mouse_tissue/ChIP/AD_P7_FB_H3K27ac.subtract.bw /home/hanliu/project/mouse_rostral_brain/study/CompareREPTILE/AnnotateDMRWithENCODE/DMR_temp.bed /home/hanliu/project/mouse_rostral_brain/study/CompareREPTILE/AnnotateDMRWithENCODE/H3K27ac_P7_1.tab\n",
      "bigWigAverageOverBed /home/hanliu/ddn/hanliu/Yupeng_ENCODE_developmental_mouse_tissue/ChIP/E11_5_FB_H3K4me3.subtract.bw /home/hanliu/project/mouse_rostral_brain/study/CompareREPTILE/AnnotateDMRWithENCODE/DMR_temp.bed /home/hanliu/project/mouse_rostral_brain/study/CompareREPTILE/AnnotateDMRWithENCODE/H3K4me3_E11.5_1.tab\n",
      "bigWigAverageOverBed /home/hanliu/ddn/hanliu/Yupeng_ENCODE_developmental_mouse_tissue/ChIP/P0_FB_H3K9ac.subtract.bw /home/hanliu/project/mouse_rostral_brain/study/CompareREPTILE/AnnotateDMRWithENCODE/DMR_temp.bed /home/hanliu/project/mouse_rostral_brain/study/CompareREPTILE/AnnotateDMRWithENCODE/H3K9ac_P0_1.tab\n",
      "bigWigAverageOverBed /home/hanliu/ddn/hanliu/Yupeng_ENCODE_developmental_mouse_tissue/ChIP/E13_5_FB_H3K4me3.subtract.bw /home/hanliu/project/mouse_rostral_brain/study/CompareREPTILE/AnnotateDMRWithENCODE/DMR_temp.bed /home/hanliu/project/mouse_rostral_brain/study/CompareREPTILE/AnnotateDMRWithENCODE/H3K4me3_E13.5_1.tab\n",
      "bigWigAverageOverBed /home/hanliu/ddn/hanliu/Yupeng_ENCODE_developmental_mouse_tissue/ChIP/E16_5_FB_H3K4me2.subtract.bw /home/hanliu/project/mouse_rostral_brain/study/CompareREPTILE/AnnotateDMRWithENCODE/DMR_temp.bed /home/hanliu/project/mouse_rostral_brain/study/CompareREPTILE/AnnotateDMRWithENCODE/H3K4me2_E16.5_1.tab\n",
      "bigWigAverageOverBed /home/hanliu/ddn/hanliu/Yupeng_ENCODE_developmental_mouse_tissue/WGBS/BW/E15_5_FB_2.CGN-Both.rate.bw /home/hanliu/project/mouse_rostral_brain/study/CompareREPTILE/AnnotateDMRWithENCODE/DMR_temp.bed /home/hanliu/project/mouse_rostral_brain/study/CompareREPTILE/AnnotateDMRWithENCODE/CGN_E15.5_2.tab\n",
      "bigWigAverageOverBed /home/hanliu/ddn/hanliu/Yupeng_ENCODE_developmental_mouse_tissue/ChIP/E11_5_FB_H3K27me3.subtract.bw /home/hanliu/project/mouse_rostral_brain/study/CompareREPTILE/AnnotateDMRWithENCODE/DMR_temp.bed /home/hanliu/project/mouse_rostral_brain/study/CompareREPTILE/AnnotateDMRWithENCODE/H3K27me3_E11.5_1.tab\n"
     ]
    },
    {
     "name": "stdout",
     "output_type": "stream",
     "text": [
      "bigWigAverageOverBed /home/hanliu/ddn/hanliu/Yupeng_ENCODE_developmental_mouse_tissue/WGBS/BW/E16_5_FB_2.CAN-Both.rate.bw /home/hanliu/project/mouse_rostral_brain/study/CompareREPTILE/AnnotateDMRWithENCODE/DMR_temp.bed /home/hanliu/project/mouse_rostral_brain/study/CompareREPTILE/AnnotateDMRWithENCODE/CAN_E16.5_2.tab\n",
      "bigWigAverageOverBed /home/hanliu/ddn/hanliu/Yupeng_ENCODE_developmental_mouse_tissue/ChIP/E16_5_FB_H3K27me3.subtract.bw /home/hanliu/project/mouse_rostral_brain/study/CompareREPTILE/AnnotateDMRWithENCODE/DMR_temp.bed /home/hanliu/project/mouse_rostral_brain/study/CompareREPTILE/AnnotateDMRWithENCODE/H3K27me3_E16.5_1.tab\n",
      "bigWigAverageOverBed /home/hanliu/ddn/hanliu/Yupeng_ENCODE_developmental_mouse_tissue/ChIP/E11_5_FB_H3K4me2.subtract.bw /home/hanliu/project/mouse_rostral_brain/study/CompareREPTILE/AnnotateDMRWithENCODE/DMR_temp.bed /home/hanliu/project/mouse_rostral_brain/study/CompareREPTILE/AnnotateDMRWithENCODE/H3K4me2_E11.5_1.tab\n",
      "bigWigAverageOverBed /home/hanliu/ddn/hanliu/Yupeng_ENCODE_developmental_mouse_tissue/WGBS/BW/E11_5_FB_1.CGN-Both.rate.bw /home/hanliu/project/mouse_rostral_brain/study/CompareREPTILE/AnnotateDMRWithENCODE/DMR_temp.bed /home/hanliu/project/mouse_rostral_brain/study/CompareREPTILE/AnnotateDMRWithENCODE/CGN_E11.5_1.tab\n",
      "bigWigAverageOverBed /home/hanliu/ddn/hanliu/Yupeng_ENCODE_developmental_mouse_tissue/WGBS/BW/E12_5_FB_2.CGN-Both.rate.bw /home/hanliu/project/mouse_rostral_brain/study/CompareREPTILE/AnnotateDMRWithENCODE/DMR_temp.bed /home/hanliu/project/mouse_rostral_brain/study/CompareREPTILE/AnnotateDMRWithENCODE/CGN_E12.5_2.tab\n",
      "bigWigAverageOverBed /home/hanliu/ddn/hanliu/Yupeng_ENCODE_developmental_mouse_tissue/WGBS/BW/E16_5_FB_2.CGN-Both.rate.bw /home/hanliu/project/mouse_rostral_brain/study/CompareREPTILE/AnnotateDMRWithENCODE/DMR_temp.bed /home/hanliu/project/mouse_rostral_brain/study/CompareREPTILE/AnnotateDMRWithENCODE/CGN_E16.5_2.tab\n",
      "bigWigAverageOverBed /home/hanliu/ddn/hanliu/Yupeng_ENCODE_developmental_mouse_tissue/WGBS/BW/P0_FB_2.CHN-Both.rate.bw /home/hanliu/project/mouse_rostral_brain/study/CompareREPTILE/AnnotateDMRWithENCODE/DMR_temp.bed /home/hanliu/project/mouse_rostral_brain/study/CompareREPTILE/AnnotateDMRWithENCODE/CHN_P0_2.tab\n",
      "bigWigAverageOverBed /home/hanliu/ddn/hanliu/Yupeng_ENCODE_developmental_mouse_tissue/WGBS/BW/E11_5_FB_2.CHN-Both.rate.bw /home/hanliu/project/mouse_rostral_brain/study/CompareREPTILE/AnnotateDMRWithENCODE/DMR_temp.bed /home/hanliu/project/mouse_rostral_brain/study/CompareREPTILE/AnnotateDMRWithENCODE/CHN_E11.5_2.tab\n",
      "bigWigAverageOverBed /home/hanliu/ddn/hanliu/Yupeng_ENCODE_developmental_mouse_tissue/WGBS/BW/E13_5_FB_2.CHN-Both.rate.bw /home/hanliu/project/mouse_rostral_brain/study/CompareREPTILE/AnnotateDMRWithENCODE/DMR_temp.bed /home/hanliu/project/mouse_rostral_brain/study/CompareREPTILE/AnnotateDMRWithENCODE/CHN_E13.5_2.tab\n",
      "bigWigAverageOverBed /home/hanliu/ddn/hanliu/Yupeng_ENCODE_developmental_mouse_tissue/WGBS/BW/E14_5_FB_1.CHN-Both.rate.bw /home/hanliu/project/mouse_rostral_brain/study/CompareREPTILE/AnnotateDMRWithENCODE/DMR_temp.bed /home/hanliu/project/mouse_rostral_brain/study/CompareREPTILE/AnnotateDMRWithENCODE/CHN_E14.5_1.tab\n",
      "bigWigAverageOverBed /home/hanliu/ddn/hanliu/Yupeng_ENCODE_developmental_mouse_tissue/WGBS/BW/E13_5_FB_1.CAN-Both.rate.bw /home/hanliu/project/mouse_rostral_brain/study/CompareREPTILE/AnnotateDMRWithENCODE/DMR_temp.bed /home/hanliu/project/mouse_rostral_brain/study/CompareREPTILE/AnnotateDMRWithENCODE/CAN_E13.5_1.tab\n",
      "bigWigAverageOverBed /home/hanliu/ddn/hanliu/Yupeng_ENCODE_developmental_mouse_tissue/WGBS/BW/E12_5_FB_2.CHN-Both.rate.bw /home/hanliu/project/mouse_rostral_brain/study/CompareREPTILE/AnnotateDMRWithENCODE/DMR_temp.bed /home/hanliu/project/mouse_rostral_brain/study/CompareREPTILE/AnnotateDMRWithENCODE/CHN_E12.5_2.tab\n",
      "bigWigAverageOverBed /home/hanliu/ddn/hanliu/Yupeng_ENCODE_developmental_mouse_tissue/WGBS/BW/E12_5_FB_1.CGN-Both.rate.bw /home/hanliu/project/mouse_rostral_brain/study/CompareREPTILE/AnnotateDMRWithENCODE/DMR_temp.bed /home/hanliu/project/mouse_rostral_brain/study/CompareREPTILE/AnnotateDMRWithENCODE/CGN_E12.5_1.tab\n",
      "bigWigAverageOverBed /home/hanliu/ddn/hanliu/Yupeng_ENCODE_developmental_mouse_tissue/WGBS/BW/E16_5_FB_1.CHN-Both.rate.bw /home/hanliu/project/mouse_rostral_brain/study/CompareREPTILE/AnnotateDMRWithENCODE/DMR_temp.bed /home/hanliu/project/mouse_rostral_brain/study/CompareREPTILE/AnnotateDMRWithENCODE/CHN_E16.5_1.tab\n",
      "bigWigAverageOverBed /home/hanliu/ddn/hanliu/Yupeng_ENCODE_developmental_mouse_tissue/WGBS/BW/E13_5_FB_2.CAN-Both.rate.bw /home/hanliu/project/mouse_rostral_brain/study/CompareREPTILE/AnnotateDMRWithENCODE/DMR_temp.bed /home/hanliu/project/mouse_rostral_brain/study/CompareREPTILE/AnnotateDMRWithENCODE/CAN_E13.5_2.tab\n",
      "bigWigAverageOverBed /home/hanliu/ddn/hanliu/Yupeng_ENCODE_developmental_mouse_tissue/WGBS/BW/E10_5_FB_1.CHN-Both.rate.bw /home/hanliu/project/mouse_rostral_brain/study/CompareREPTILE/AnnotateDMRWithENCODE/DMR_temp.bed /home/hanliu/project/mouse_rostral_brain/study/CompareREPTILE/AnnotateDMRWithENCODE/CHN_E10.5_1.tab\n",
      "bigWigAverageOverBed /home/hanliu/ddn/hanliu/Yupeng_ENCODE_developmental_mouse_tissue/WGBS/BW/P0_FB_1.CAN-Both.rate.bw /home/hanliu/project/mouse_rostral_brain/study/CompareREPTILE/AnnotateDMRWithENCODE/DMR_temp.bed /home/hanliu/project/mouse_rostral_brain/study/CompareREPTILE/AnnotateDMRWithENCODE/CAN_P0_1.tab\n",
      "bigWigAverageOverBed /home/hanliu/ddn/hanliu/Yupeng_ENCODE_developmental_mouse_tissue/WGBS/BW/E15_5_FB_2.CHN-Both.rate.bw /home/hanliu/project/mouse_rostral_brain/study/CompareREPTILE/AnnotateDMRWithENCODE/DMR_temp.bed /home/hanliu/project/mouse_rostral_brain/study/CompareREPTILE/AnnotateDMRWithENCODE/CHN_E15.5_2.tab\n",
      "bigWigAverageOverBed /home/hanliu/ddn/hanliu/Yupeng_ENCODE_developmental_mouse_tissue/WGBS/BW/E15_5_FB_2.CAN-Both.rate.bw /home/hanliu/project/mouse_rostral_brain/study/CompareREPTILE/AnnotateDMRWithENCODE/DMR_temp.bed /home/hanliu/project/mouse_rostral_brain/study/CompareREPTILE/AnnotateDMRWithENCODE/CAN_E15.5_2.tab\n",
      "bigWigAverageOverBed /home/hanliu/ddn/hanliu/Yupeng_ENCODE_developmental_mouse_tissue/WGBS/BW/P0_FB_1.CHN-Both.rate.bw /home/hanliu/project/mouse_rostral_brain/study/CompareREPTILE/AnnotateDMRWithENCODE/DMR_temp.bed /home/hanliu/project/mouse_rostral_brain/study/CompareREPTILE/AnnotateDMRWithENCODE/CHN_P0_1.tab\n",
      "bigWigAverageOverBed /home/hanliu/ddn/hanliu/Yupeng_ENCODE_developmental_mouse_tissue/WGBS/BW/E15_5_FB_1.CGN-Both.rate.bw /home/hanliu/project/mouse_rostral_brain/study/CompareREPTILE/AnnotateDMRWithENCODE/DMR_temp.bed /home/hanliu/project/mouse_rostral_brain/study/CompareREPTILE/AnnotateDMRWithENCODE/CGN_E15.5_1.tab\n",
      "bigWigAverageOverBed /home/hanliu/ddn/hanliu/Yupeng_ENCODE_developmental_mouse_tissue/WGBS/BW/E16_5_FB_1.CGN-Both.rate.bw /home/hanliu/project/mouse_rostral_brain/study/CompareREPTILE/AnnotateDMRWithENCODE/DMR_temp.bed /home/hanliu/project/mouse_rostral_brain/study/CompareREPTILE/AnnotateDMRWithENCODE/CGN_E16.5_1.tab\n",
      "bigWigAverageOverBed /home/hanliu/ddn/hanliu/Yupeng_ENCODE_developmental_mouse_tissue/WGBS/BW/E11_5_FB_1.CHN-Both.rate.bw /home/hanliu/project/mouse_rostral_brain/study/CompareREPTILE/AnnotateDMRWithENCODE/DMR_temp.bed /home/hanliu/project/mouse_rostral_brain/study/CompareREPTILE/AnnotateDMRWithENCODE/CHN_E11.5_1.tab\n",
      "bigWigAverageOverBed /home/hanliu/ddn/hanliu/Yupeng_ENCODE_developmental_mouse_tissue/WGBS/BW/E14_5_FB_1.CAN-Both.rate.bw /home/hanliu/project/mouse_rostral_brain/study/CompareREPTILE/AnnotateDMRWithENCODE/DMR_temp.bed /home/hanliu/project/mouse_rostral_brain/study/CompareREPTILE/AnnotateDMRWithENCODE/CAN_E14.5_1.tab\n",
      "bigWigAverageOverBed /home/hanliu/ddn/hanliu/Yupeng_ENCODE_developmental_mouse_tissue/WGBS/BW/E14_5_FB_2.CGN-Both.rate.bw /home/hanliu/project/mouse_rostral_brain/study/CompareREPTILE/AnnotateDMRWithENCODE/DMR_temp.bed /home/hanliu/project/mouse_rostral_brain/study/CompareREPTILE/AnnotateDMRWithENCODE/CGN_E14.5_2.tab\n",
      "bigWigAverageOverBed /home/hanliu/ddn/hanliu/Yupeng_ENCODE_developmental_mouse_tissue/WGBS/BW/E14_5_FB_1.CGN-Both.rate.bw /home/hanliu/project/mouse_rostral_brain/study/CompareREPTILE/AnnotateDMRWithENCODE/DMR_temp.bed /home/hanliu/project/mouse_rostral_brain/study/CompareREPTILE/AnnotateDMRWithENCODE/CGN_E14.5_1.tab\n"
     ]
    },
    {
     "name": "stdout",
     "output_type": "stream",
     "text": [
      "bigWigAverageOverBed /home/hanliu/ddn/hanliu/Yupeng_ENCODE_developmental_mouse_tissue/WGBS/BW/E12_5_FB_1.CHN-Both.rate.bw /home/hanliu/project/mouse_rostral_brain/study/CompareREPTILE/AnnotateDMRWithENCODE/DMR_temp.bed /home/hanliu/project/mouse_rostral_brain/study/CompareREPTILE/AnnotateDMRWithENCODE/CHN_E12.5_1.tab\n",
      "bigWigAverageOverBed /home/hanliu/ddn/hanliu/Yupeng_ENCODE_developmental_mouse_tissue/WGBS/BW/E10_5_FB_2.CGN-Both.rate.bw /home/hanliu/project/mouse_rostral_brain/study/CompareREPTILE/AnnotateDMRWithENCODE/DMR_temp.bed /home/hanliu/project/mouse_rostral_brain/study/CompareREPTILE/AnnotateDMRWithENCODE/CGN_E10.5_2.tab\n",
      "bigWigAverageOverBed /home/hanliu/ddn/hanliu/Yupeng_ENCODE_developmental_mouse_tissue/WGBS/BW/E11_5_FB_2.CGN-Both.rate.bw /home/hanliu/project/mouse_rostral_brain/study/CompareREPTILE/AnnotateDMRWithENCODE/DMR_temp.bed /home/hanliu/project/mouse_rostral_brain/study/CompareREPTILE/AnnotateDMRWithENCODE/CGN_E11.5_2.tab\n",
      "bigWigAverageOverBed /home/hanliu/ddn/hanliu/Yupeng_ENCODE_developmental_mouse_tissue/WGBS/BW/E11_5_FB_1.CAN-Both.rate.bw /home/hanliu/project/mouse_rostral_brain/study/CompareREPTILE/AnnotateDMRWithENCODE/DMR_temp.bed /home/hanliu/project/mouse_rostral_brain/study/CompareREPTILE/AnnotateDMRWithENCODE/CAN_E11.5_1.tab\n",
      "bigWigAverageOverBed /home/hanliu/ddn/hanliu/Yupeng_ENCODE_developmental_mouse_tissue/WGBS/BW/P0_FB_2.CAN-Both.rate.bw /home/hanliu/project/mouse_rostral_brain/study/CompareREPTILE/AnnotateDMRWithENCODE/DMR_temp.bed /home/hanliu/project/mouse_rostral_brain/study/CompareREPTILE/AnnotateDMRWithENCODE/CAN_P0_2.tab\n",
      "bigWigAverageOverBed /home/hanliu/ddn/hanliu/Yupeng_ENCODE_developmental_mouse_tissue/WGBS/BW/E14_5_FB_2.CAN-Both.rate.bw /home/hanliu/project/mouse_rostral_brain/study/CompareREPTILE/AnnotateDMRWithENCODE/DMR_temp.bed /home/hanliu/project/mouse_rostral_brain/study/CompareREPTILE/AnnotateDMRWithENCODE/CAN_E14.5_2.tab\n",
      "bigWigAverageOverBed /home/hanliu/ddn/hanliu/Yupeng_ENCODE_developmental_mouse_tissue/WGBS/BW/E10_5_FB_1.CAN-Both.rate.bw /home/hanliu/project/mouse_rostral_brain/study/CompareREPTILE/AnnotateDMRWithENCODE/DMR_temp.bed /home/hanliu/project/mouse_rostral_brain/study/CompareREPTILE/AnnotateDMRWithENCODE/CAN_E10.5_1.tab\n",
      "bigWigAverageOverBed /home/hanliu/ddn/hanliu/Yupeng_ENCODE_developmental_mouse_tissue/WGBS/BW/E10_5_FB_1.CGN-Both.rate.bw /home/hanliu/project/mouse_rostral_brain/study/CompareREPTILE/AnnotateDMRWithENCODE/DMR_temp.bed /home/hanliu/project/mouse_rostral_brain/study/CompareREPTILE/AnnotateDMRWithENCODE/CGN_E10.5_1.tab\n",
      "bigWigAverageOverBed /home/hanliu/ddn/hanliu/Yupeng_ENCODE_developmental_mouse_tissue/WGBS/BW/E14_5_FB_2.CHN-Both.rate.bw /home/hanliu/project/mouse_rostral_brain/study/CompareREPTILE/AnnotateDMRWithENCODE/DMR_temp.bed /home/hanliu/project/mouse_rostral_brain/study/CompareREPTILE/AnnotateDMRWithENCODE/CHN_E14.5_2.tab\n",
      "bigWigAverageOverBed /home/hanliu/ddn/hanliu/Yupeng_ENCODE_developmental_mouse_tissue/WGBS/BW/P0_FB_2.CGN-Both.rate.bw /home/hanliu/project/mouse_rostral_brain/study/CompareREPTILE/AnnotateDMRWithENCODE/DMR_temp.bed /home/hanliu/project/mouse_rostral_brain/study/CompareREPTILE/AnnotateDMRWithENCODE/CGN_P0_2.tab\n",
      "bigWigAverageOverBed /home/hanliu/ddn/hanliu/Yupeng_ENCODE_developmental_mouse_tissue/WGBS/BW/E13_5_FB_2.CGN-Both.rate.bw /home/hanliu/project/mouse_rostral_brain/study/CompareREPTILE/AnnotateDMRWithENCODE/DMR_temp.bed /home/hanliu/project/mouse_rostral_brain/study/CompareREPTILE/AnnotateDMRWithENCODE/CGN_E13.5_2.tab\n",
      "bigWigAverageOverBed /home/hanliu/ddn/hanliu/Yupeng_ENCODE_developmental_mouse_tissue/WGBS/BW/E15_5_FB_1.CHN-Both.rate.bw /home/hanliu/project/mouse_rostral_brain/study/CompareREPTILE/AnnotateDMRWithENCODE/DMR_temp.bed /home/hanliu/project/mouse_rostral_brain/study/CompareREPTILE/AnnotateDMRWithENCODE/CHN_E15.5_1.tab\n",
      "bigWigAverageOverBed /home/hanliu/ddn/hanliu/Yupeng_ENCODE_developmental_mouse_tissue/WGBS/BW/E13_5_FB_1.CHN-Both.rate.bw /home/hanliu/project/mouse_rostral_brain/study/CompareREPTILE/AnnotateDMRWithENCODE/DMR_temp.bed /home/hanliu/project/mouse_rostral_brain/study/CompareREPTILE/AnnotateDMRWithENCODE/CHN_E13.5_1.tab\n",
      "bigWigAverageOverBed /home/hanliu/ddn/hanliu/Yupeng_ENCODE_developmental_mouse_tissue/WGBS/BW/E16_5_FB_2.CHN-Both.rate.bw /home/hanliu/project/mouse_rostral_brain/study/CompareREPTILE/AnnotateDMRWithENCODE/DMR_temp.bed /home/hanliu/project/mouse_rostral_brain/study/CompareREPTILE/AnnotateDMRWithENCODE/CHN_E16.5_2.tab\n",
      "bigWigAverageOverBed /home/hanliu/ddn/hanliu/Yupeng_ENCODE_developmental_mouse_tissue/WGBS/BW/E10_5_FB_2.CAN-Both.rate.bw /home/hanliu/project/mouse_rostral_brain/study/CompareREPTILE/AnnotateDMRWithENCODE/DMR_temp.bed /home/hanliu/project/mouse_rostral_brain/study/CompareREPTILE/AnnotateDMRWithENCODE/CAN_E10.5_2.tab\n",
      "bigWigAverageOverBed /home/hanliu/ddn/hanliu/Yupeng_ENCODE_developmental_mouse_tissue/WGBS/BW/E11_5_FB_2.CAN-Both.rate.bw /home/hanliu/project/mouse_rostral_brain/study/CompareREPTILE/AnnotateDMRWithENCODE/DMR_temp.bed /home/hanliu/project/mouse_rostral_brain/study/CompareREPTILE/AnnotateDMRWithENCODE/CAN_E11.5_2.tab\n",
      "bigWigAverageOverBed /home/hanliu/ddn/hanliu/Yupeng_ENCODE_developmental_mouse_tissue/WGBS/BW/E16_5_FB_1.CAN-Both.rate.bw /home/hanliu/project/mouse_rostral_brain/study/CompareREPTILE/AnnotateDMRWithENCODE/DMR_temp.bed /home/hanliu/project/mouse_rostral_brain/study/CompareREPTILE/AnnotateDMRWithENCODE/CAN_E16.5_1.tab\n",
      "bigWigAverageOverBed /home/hanliu/ddn/hanliu/Yupeng_ENCODE_developmental_mouse_tissue/WGBS/BW/E10_5_FB_2.CHN-Both.rate.bw /home/hanliu/project/mouse_rostral_brain/study/CompareREPTILE/AnnotateDMRWithENCODE/DMR_temp.bed /home/hanliu/project/mouse_rostral_brain/study/CompareREPTILE/AnnotateDMRWithENCODE/CHN_E10.5_2.tab\n",
      "bigWigAverageOverBed /home/hanliu/ddn/hanliu/Yupeng_ENCODE_developmental_mouse_tissue/WGBS/BW/E15_5_FB_1.CAN-Both.rate.bw /home/hanliu/project/mouse_rostral_brain/study/CompareREPTILE/AnnotateDMRWithENCODE/DMR_temp.bed /home/hanliu/project/mouse_rostral_brain/study/CompareREPTILE/AnnotateDMRWithENCODE/CAN_E15.5_1.tab\n",
      "bigWigAverageOverBed /home/hanliu/ddn/hanliu/Yupeng_ENCODE_developmental_mouse_tissue/WGBS/BW/E12_5_FB_2.CAN-Both.rate.bw /home/hanliu/project/mouse_rostral_brain/study/CompareREPTILE/AnnotateDMRWithENCODE/DMR_temp.bed /home/hanliu/project/mouse_rostral_brain/study/CompareREPTILE/AnnotateDMRWithENCODE/CAN_E12.5_2.tab\n",
      "bigWigAverageOverBed /home/hanliu/ddn/hanliu/Yupeng_ENCODE_developmental_mouse_tissue/WGBS/BW/E12_5_FB_1.CAN-Both.rate.bw /home/hanliu/project/mouse_rostral_brain/study/CompareREPTILE/AnnotateDMRWithENCODE/DMR_temp.bed /home/hanliu/project/mouse_rostral_brain/study/CompareREPTILE/AnnotateDMRWithENCODE/CAN_E12.5_1.tab\n"
     ]
    }
   ],
   "source": [
    "def runner(cmd):\n",
    "    subprocess.run(cmd,\n",
    "                   check=True,\n",
    "                   shell=True,\n",
    "                   stderr=subprocess.PIPE,\n",
    "                   stdout=subprocess.PIPE)\n",
    "\n",
    "\n",
    "with ProcessPoolExecutor(30) as executor:\n",
    "    futures = {}\n",
    "    for cmd in cmds:\n",
    "        f = executor.submit(runner, cmd)\n",
    "        futures[f] = cmd\n",
    "\n",
    "    for f in as_completed(futures):\n",
    "        f.result()\n",
    "        print(futures[f])"
   ]
  },
  {
   "cell_type": "markdown",
   "metadata": {},
   "source": [
    "## Assemble\n"
   ]
  },
  {
   "cell_type": "code",
   "execution_count": 13,
   "metadata": {
    "ExecuteTime": {
     "end_time": "2020-03-06T06:08:34.198148Z",
     "start_time": "2020-03-06T06:08:34.194573Z"
    }
   },
   "outputs": [],
   "source": [
    "output_files = list(pathlib.Path().glob('*tab'))"
   ]
  },
  {
   "cell_type": "code",
   "execution_count": 14,
   "metadata": {
    "ExecuteTime": {
     "end_time": "2020-03-06T06:08:34.782351Z",
     "start_time": "2020-03-06T06:08:34.755850Z"
    }
   },
   "outputs": [],
   "source": [
    "records = []\n",
    "for p in output_files:\n",
    "    dtype, time, rep = p.name[:-4].split('_')\n",
    "    records.append([dtype, time, rep, p])\n",
    "output_df = pd.DataFrame(records)\n",
    "output_df.index = output_df[0] + '_' + output_df[1] + '_' + output_df[2].astype(str)"
   ]
  },
  {
   "cell_type": "code",
   "execution_count": 15,
   "metadata": {
    "ExecuteTime": {
     "end_time": "2020-03-06T06:08:42.650438Z",
     "start_time": "2020-03-06T06:08:35.399978Z"
    },
    "scrolled": true
   },
   "outputs": [
    {
     "name": "stdout",
     "output_type": "stream",
     "text": [
      "0 H3K27me3_P0_1.tab\n",
      "1 H3K27me3_E13.5_1.tab\n",
      "2 ATAC_E11.5_1.tab\n",
      "3 ATAC_E12.5_1.tab\n",
      "4 H3K4me3_E12.5_1.tab\n",
      "5 ATAC_E13.5_1.tab\n",
      "6 H3K27ac_E14.5_1.tab\n",
      "7 H3K27me3_E14.5_1.tab\n",
      "8 ATAC_P0_1.tab\n",
      "9 H3K4me3_E14.5_1.tab\n",
      "10 H3K4me1_E14.5_1.tab\n",
      "11 H3K9ac_E14.5_1.tab\n",
      "12 H3K9ac_E15.5_1.tab\n",
      "13 H3K4me3_P0_1.tab\n",
      "14 ATAC_E14.5_1.tab\n",
      "15 H3K4me3_E15.5_1.tab\n",
      "16 H3K4me2_E15.5_1.tab\n",
      "17 H3K4me3_E16.5_1.tab\n",
      "18 H3K9ac_E16.5_1.tab\n",
      "19 H3K4me1_E15.5_1.tab\n",
      "20 H3K9ac_E12.5_1.tab\n",
      "21 H3K27ac_P21_1.tab\n",
      "22 H3K4me2_E13.5_1.tab\n",
      "23 H3K9ac_E11.5_1.tab\n",
      "24 H3K4me2_P0_1.tab\n",
      "25 H3K27ac_E15.5_1.tab\n",
      "26 H3K4me1_E12.5_1.tab\n",
      "27 H3K27me3_E12.5_1.tab\n",
      "28 H3K4me1_E11.5_1.tab\n",
      "29 H3K27ac_E16.5_1.tab\n",
      "30 H3K27me3_E15.5_1.tab\n",
      "31 H3K4me2_E14.5_1.tab\n",
      "32 H3K4me1_E16.5_1.tab\n",
      "33 H3K27ac_E12.5_1.tab\n",
      "34 H3K4me1_E13.5_1.tab\n",
      "35 H3K4me2_E12.5_1.tab\n",
      "36 H3K4me2_E11.5_1.tab\n",
      "37 H3K4me3_E13.5_1.tab\n",
      "38 H3K27ac_E13.5_1.tab\n",
      "39 H3K9ac_P0_1.tab\n",
      "40 H3K27ac_P56_1.tab\n",
      "41 H3K9ac_E13.5_1.tab\n",
      "42 H3K27me3_E16.5_1.tab\n",
      "43 H3K4me2_E16.5_1.tab\n",
      "44 H3K27me3_E11.5_1.tab\n",
      "45 H3K4me3_E11.5_1.tab\n",
      "46 H3K27ac_P7_1.tab\n",
      "47 H3K27ac_P0_1.tab\n",
      "48 CGN_E15.5_2.tab\n",
      "49 CHN_E11.5_2.tab\n",
      "50 CHN_E13.5_2.tab\n",
      "51 CAN_E16.5_2.tab\n",
      "52 CGN_E13.5_1.tab\n",
      "53 CGN_E11.5_1.tab\n",
      "54 CGN_P0_1.tab\n",
      "55 CHN_E14.5_1.tab\n",
      "56 CGN_E12.5_2.tab\n",
      "57 CGN_E16.5_2.tab\n",
      "58 CHN_P0_2.tab\n",
      "59 CAN_E13.5_2.tab\n",
      "60 CHN_E16.5_1.tab\n",
      "61 CAN_E13.5_1.tab\n",
      "62 CHN_E12.5_2.tab\n",
      "63 CAN_E15.5_2.tab\n",
      "64 CHN_E10.5_1.tab\n",
      "65 CAN_P0_1.tab\n",
      "66 CHN_E12.5_1.tab\n",
      "67 CAN_E11.5_1.tab\n",
      "68 CHN_E15.5_2.tab\n",
      "69 CGN_E12.5_1.tab\n",
      "70 CAN_P0_2.tab\n",
      "71 CAN_E14.5_1.tab\n",
      "72 CHN_E11.5_1.tab\n",
      "73 CAN_E14.5_2.tab\n",
      "74 CGN_E14.5_2.tab\n",
      "75 CHN_E16.5_2.tab\n",
      "76 CGN_E10.5_1.tab\n",
      "77 CGN_P0_2.tab\n",
      "78 CHN_E13.5_1.tab\n",
      "79 CAN_E16.5_1.tab\n",
      "80 CAN_E15.5_1.tab\n",
      "81 CAN_E11.5_2.tab\n",
      "82 CAN_E12.5_1.tab\n",
      "83 H3K27ac_E11.5_1.tab\n",
      "84 ATAC_E16.5_1.tab\n",
      "85 ATAC_E15.5_1.tab\n",
      "86 H3K4me1_P0_1.tab\n",
      "87 CHN_P0_1.tab\n",
      "88 CGN_E16.5_1.tab\n",
      "89 CHN_E14.5_2.tab\n",
      "90 CAN_E10.5_1.tab\n",
      "91 CGN_E15.5_1.tab\n",
      "92 CGN_E10.5_2.tab\n",
      "93 CGN_E14.5_1.tab\n",
      "94 CHN_E15.5_1.tab\n",
      "95 CAN_E10.5_2.tab\n",
      "96 CGN_E11.5_2.tab\n",
      "97 CHN_E10.5_2.tab\n",
      "98 CGN_E13.5_2.tab\n",
      "99 CAN_E12.5_2.tab\n"
     ]
    }
   ],
   "source": [
    "mean_records = []\n",
    "for i, p in enumerate(output_df[3]):\n",
    "    print(i, p)\n",
    "    df = pd.read_csv(p, sep='\\t', header=None)\n",
    "    mean_records.append(df[5])"
   ]
  },
  {
   "cell_type": "code",
   "execution_count": 16,
   "metadata": {
    "ExecuteTime": {
     "end_time": "2020-03-06T06:08:42.750884Z",
     "start_time": "2020-03-06T06:08:42.652774Z"
    }
   },
   "outputs": [],
   "source": [
    "total_data = np.vstack([i.values for i in mean_records])"
   ]
  },
  {
   "cell_type": "code",
   "execution_count": 17,
   "metadata": {
    "ExecuteTime": {
     "end_time": "2020-03-06T06:08:48.270268Z",
     "start_time": "2020-03-06T06:08:47.555162Z"
    }
   },
   "outputs": [],
   "source": [
    "adata = anndata.AnnData(X=csr_matrix(total_data.T),\n",
    "                        obs=pd.DataFrame([], index=df[0]),\n",
    "                        var=output_df)\n",
    "adata.var.columns = ['DataType', 'DevTime', 'Rep', 'input_path']"
   ]
  },
  {
   "cell_type": "code",
   "execution_count": 18,
   "metadata": {
    "ExecuteTime": {
     "end_time": "2020-03-06T06:08:49.189284Z",
     "start_time": "2020-03-06T06:08:49.012934Z"
    }
   },
   "outputs": [
    {
     "name": "stderr",
     "output_type": "stream",
     "text": [
      "... storing 'DataType' as categorical\n",
      "... storing 'DevTime' as categorical\n",
      "... storing 'Rep' as categorical\n"
     ]
    }
   ],
   "source": [
    "adata.write_h5ad('LoopAnchor.DMR.ENCODE_FB_anno.h5ad')"
   ]
  },
  {
   "cell_type": "code",
   "execution_count": 21,
   "metadata": {
    "ExecuteTime": {
     "end_time": "2020-03-06T06:09:30.774720Z",
     "start_time": "2020-03-06T06:09:30.767257Z"
    }
   },
   "outputs": [
    {
     "data": {
      "text/html": [
       "<div>\n",
       "<style scoped>\n",
       "    .dataframe tbody tr th:only-of-type {\n",
       "        vertical-align: middle;\n",
       "    }\n",
       "\n",
       "    .dataframe tbody tr th {\n",
       "        vertical-align: top;\n",
       "    }\n",
       "\n",
       "    .dataframe thead th {\n",
       "        text-align: right;\n",
       "    }\n",
       "</style>\n",
       "<table border=\"1\" class=\"dataframe\">\n",
       "  <thead>\n",
       "    <tr style=\"text-align: right;\">\n",
       "      <th></th>\n",
       "    </tr>\n",
       "    <tr>\n",
       "      <th>0</th>\n",
       "    </tr>\n",
       "  </thead>\n",
       "  <tbody>\n",
       "    <tr>\n",
       "      <th>0_25k</th>\n",
       "    </tr>\n",
       "    <tr>\n",
       "      <th>1_25k</th>\n",
       "    </tr>\n",
       "    <tr>\n",
       "      <th>2_25k</th>\n",
       "    </tr>\n",
       "    <tr>\n",
       "      <th>0_10k</th>\n",
       "    </tr>\n",
       "    <tr>\n",
       "      <th>2_10k</th>\n",
       "    </tr>\n",
       "    <tr>\n",
       "      <th>3_25k</th>\n",
       "    </tr>\n",
       "    <tr>\n",
       "      <th>1_10k</th>\n",
       "    </tr>\n",
       "    <tr>\n",
       "      <th>3_10k</th>\n",
       "    </tr>\n",
       "    <tr>\n",
       "      <th>4_25k</th>\n",
       "    </tr>\n",
       "    <tr>\n",
       "      <th>6_25k</th>\n",
       "    </tr>\n",
       "    <tr>\n",
       "      <th>7_25k</th>\n",
       "    </tr>\n",
       "    <tr>\n",
       "      <th>5_25k</th>\n",
       "    </tr>\n",
       "    <tr>\n",
       "      <th>0_5k</th>\n",
       "    </tr>\n",
       "    <tr>\n",
       "      <th>4_10k</th>\n",
       "    </tr>\n",
       "    <tr>\n",
       "      <th>10_25k</th>\n",
       "    </tr>\n",
       "    <tr>\n",
       "      <th>8_25k</th>\n",
       "    </tr>\n",
       "    <tr>\n",
       "      <th>12_25k</th>\n",
       "    </tr>\n",
       "    <tr>\n",
       "      <th>6_10k</th>\n",
       "    </tr>\n",
       "    <tr>\n",
       "      <th>2_5k</th>\n",
       "    </tr>\n",
       "    <tr>\n",
       "      <th>14_25k</th>\n",
       "    </tr>\n",
       "    <tr>\n",
       "      <th>1_5k</th>\n",
       "    </tr>\n",
       "    <tr>\n",
       "      <th>3_5k</th>\n",
       "    </tr>\n",
       "    <tr>\n",
       "      <th>5_10k</th>\n",
       "    </tr>\n",
       "    <tr>\n",
       "      <th>7_10k</th>\n",
       "    </tr>\n",
       "    <tr>\n",
       "      <th>13_25k</th>\n",
       "    </tr>\n",
       "    <tr>\n",
       "      <th>16_25k</th>\n",
       "    </tr>\n",
       "    <tr>\n",
       "      <th>18_25k</th>\n",
       "    </tr>\n",
       "    <tr>\n",
       "      <th>9_25k</th>\n",
       "    </tr>\n",
       "    <tr>\n",
       "      <th>4_5k</th>\n",
       "    </tr>\n",
       "    <tr>\n",
       "      <th>8_10k</th>\n",
       "    </tr>\n",
       "    <tr>\n",
       "      <th>...</th>\n",
       "    </tr>\n",
       "    <tr>\n",
       "      <th>38295_25k</th>\n",
       "    </tr>\n",
       "    <tr>\n",
       "      <th>38297_25k</th>\n",
       "    </tr>\n",
       "    <tr>\n",
       "      <th>35823_10k</th>\n",
       "    </tr>\n",
       "    <tr>\n",
       "      <th>35811_10k</th>\n",
       "    </tr>\n",
       "    <tr>\n",
       "      <th>35813_10k</th>\n",
       "    </tr>\n",
       "    <tr>\n",
       "      <th>35819_10k</th>\n",
       "    </tr>\n",
       "    <tr>\n",
       "      <th>35821_10k</th>\n",
       "    </tr>\n",
       "    <tr>\n",
       "      <th>18881_5k</th>\n",
       "    </tr>\n",
       "    <tr>\n",
       "      <th>35807_10k</th>\n",
       "    </tr>\n",
       "    <tr>\n",
       "      <th>35809_10k</th>\n",
       "    </tr>\n",
       "    <tr>\n",
       "      <th>38298_25k</th>\n",
       "    </tr>\n",
       "    <tr>\n",
       "      <th>35824_10k</th>\n",
       "    </tr>\n",
       "    <tr>\n",
       "      <th>35826_10k</th>\n",
       "    </tr>\n",
       "    <tr>\n",
       "      <th>38299_25k</th>\n",
       "    </tr>\n",
       "    <tr>\n",
       "      <th>35825_10k</th>\n",
       "    </tr>\n",
       "    <tr>\n",
       "      <th>35827_10k</th>\n",
       "    </tr>\n",
       "    <tr>\n",
       "      <th>38300_25k</th>\n",
       "    </tr>\n",
       "    <tr>\n",
       "      <th>35828_10k</th>\n",
       "    </tr>\n",
       "    <tr>\n",
       "      <th>38301_25k</th>\n",
       "    </tr>\n",
       "    <tr>\n",
       "      <th>35829_10k</th>\n",
       "    </tr>\n",
       "    <tr>\n",
       "      <th>18886_5k</th>\n",
       "    </tr>\n",
       "    <tr>\n",
       "      <th>35830_10k</th>\n",
       "    </tr>\n",
       "    <tr>\n",
       "      <th>35832_10k</th>\n",
       "    </tr>\n",
       "    <tr>\n",
       "      <th>18888_5k</th>\n",
       "    </tr>\n",
       "    <tr>\n",
       "      <th>18887_5k</th>\n",
       "    </tr>\n",
       "    <tr>\n",
       "      <th>18889_5k</th>\n",
       "    </tr>\n",
       "    <tr>\n",
       "      <th>35831_10k</th>\n",
       "    </tr>\n",
       "    <tr>\n",
       "      <th>35833_10k</th>\n",
       "    </tr>\n",
       "    <tr>\n",
       "      <th>18890_5k</th>\n",
       "    </tr>\n",
       "    <tr>\n",
       "      <th>18891_5k</th>\n",
       "    </tr>\n",
       "  </tbody>\n",
       "</table>\n",
       "<p>93028 rows × 0 columns</p>\n",
       "</div>"
      ],
      "text/plain": [
       "Empty DataFrame\n",
       "Columns: []\n",
       "Index: [0_25k, 1_25k, 2_25k, 0_10k, 2_10k, 3_25k, 1_10k, 3_10k, 4_25k, 6_25k, 7_25k, 5_25k, 0_5k, 4_10k, 10_25k, 8_25k, 12_25k, 6_10k, 2_5k, 14_25k, 1_5k, 3_5k, 5_10k, 7_10k, 13_25k, 16_25k, 18_25k, 9_25k, 4_5k, 8_10k, 6_5k, 10_10k, 11_25k, 17_25k, 11_10k, 9_10k, 5_5k, 7_5k, 20_25k, 8_5k, 12_10k, 10_5k, 13_10k, 9_5k, 19_25k, 11_5k, 14_10k, 16_10k, 18_10k, 20_10k, 22_10k, 22_25k, 24_25k, 26_25k, 28_25k, 12_5k, 14_5k, 24_10k, 26_10k, 25_10k, 15_10k, 30_25k, 32_25k, 34_25k, 36_25k, 16_5k, 28_10k, 30_10k, 32_10k, 34_10k, 31_25k, 33_10k, 23_25k, 33_25k, 38_25k, 17_5k, 27_10k, 29_10k, 36_10k, 38_10k, 21_25k, 35_25k, 37_10k, 39_25k, 17_10k, 35_10k, 39_10k, 25_25k, 37_25k, 40_25k, 15_5k, 19_10k, 31_10k, 40_10k, 42_25k, 27_25k, 43_25k, 13_5k, 21_10k, 42_10k, ...]\n",
       "\n",
       "[93028 rows x 0 columns]"
      ]
     },
     "execution_count": 21,
     "metadata": {},
     "output_type": "execute_result"
    }
   ],
   "source": [
    "adata.obs"
   ]
  },
  {
   "cell_type": "code",
   "execution_count": null,
   "metadata": {},
   "outputs": [],
   "source": []
  }
 ],
 "metadata": {
  "hide_input": false,
  "kernelspec": {
   "display_name": "Python 3",
   "language": "python",
   "name": "python3"
  },
  "language_info": {
   "codemirror_mode": {
    "name": "ipython",
    "version": 3
   },
   "file_extension": ".py",
   "mimetype": "text/x-python",
   "name": "python",
   "nbconvert_exporter": "python",
   "pygments_lexer": "ipython3",
   "version": "3.7.3"
  },
  "toc": {
   "base_numbering": 1,
   "nav_menu": {},
   "number_sections": true,
   "sideBar": true,
   "skip_h1_title": true,
   "title_cell": "Table of Contents",
   "title_sidebar": "Contents",
   "toc_cell": false,
   "toc_position": {},
   "toc_section_display": true,
   "toc_window_display": true
  }
 },
 "nbformat": 4,
 "nbformat_minor": 2
}
