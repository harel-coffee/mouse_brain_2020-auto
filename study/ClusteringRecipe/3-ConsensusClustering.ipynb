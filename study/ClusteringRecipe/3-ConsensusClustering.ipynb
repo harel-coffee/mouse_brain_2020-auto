{
 "cells": [
  {
   "cell_type": "markdown",
   "metadata": {
    "toc": true
   },
   "source": [
    "<h1>Table of Contents<span class=\"tocSkip\"></span></h1>\n",
    "<div class=\"toc\"><ul class=\"toc-item\"><li><span><a href=\"#Purpose\" data-toc-modified-id=\"Purpose-1\"><span class=\"toc-item-num\">1&nbsp;&nbsp;</span>Purpose</a></span></li><li><span><a href=\"#Input\" data-toc-modified-id=\"Input-2\"><span class=\"toc-item-num\">2&nbsp;&nbsp;</span>Input</a></span></li><li><span><a href=\"#Output\" data-toc-modified-id=\"Output-3\"><span class=\"toc-item-num\">3&nbsp;&nbsp;</span>Output</a></span></li><li><span><a href=\"#Parameters\" data-toc-modified-id=\"Parameters-4\"><span class=\"toc-item-num\">4&nbsp;&nbsp;</span>Parameters</a></span></li><li><span><a href=\"#Load\" data-toc-modified-id=\"Load-5\"><span class=\"toc-item-num\">5&nbsp;&nbsp;</span>Load</a></span><ul class=\"toc-item\"><li><span><a href=\"#Cell-Metadata\" data-toc-modified-id=\"Cell-Metadata-5.1\"><span class=\"toc-item-num\">5.1&nbsp;&nbsp;</span>Cell Metadata</a></span></li><li><span><a href=\"#PCs\" data-toc-modified-id=\"PCs-5.2\"><span class=\"toc-item-num\">5.2&nbsp;&nbsp;</span>PCs</a></span></li></ul></li><li><span><a href=\"#Clustering\" data-toc-modified-id=\"Clustering-6\"><span class=\"toc-item-num\">6&nbsp;&nbsp;</span>Clustering</a></span></li><li><span><a href=\"#Clustering-evaluation\" data-toc-modified-id=\"Clustering-evaluation-7\"><span class=\"toc-item-num\">7&nbsp;&nbsp;</span>Clustering evaluation</a></span></li><li><span><a href=\"#Supervised-Prediction\" data-toc-modified-id=\"Supervised-Prediction-8\"><span class=\"toc-item-num\">8&nbsp;&nbsp;</span>Supervised Prediction</a></span></li><li><span><a href=\"#Save\" data-toc-modified-id=\"Save-9\"><span class=\"toc-item-num\">9&nbsp;&nbsp;</span>Save</a></span></li><li><span><a href=\"#Plotting\" data-toc-modified-id=\"Plotting-10\"><span class=\"toc-item-num\">10&nbsp;&nbsp;</span>Plotting</a></span><ul class=\"toc-item\"><li><span><a href=\"#Consensus-Matrix\" data-toc-modified-id=\"Consensus-Matrix-10.1\"><span class=\"toc-item-num\">10.1&nbsp;&nbsp;</span>Consensus Matrix</a></span></li><li><span><a href=\"#Clusters\" data-toc-modified-id=\"Clusters-10.2\"><span class=\"toc-item-num\">10.2&nbsp;&nbsp;</span>Clusters</a></span></li></ul></li><li><span><a href=\"#Testing-Proba\" data-toc-modified-id=\"Testing-Proba-11\"><span class=\"toc-item-num\">11&nbsp;&nbsp;</span>Testing Proba</a></span></li><li><span><a href=\"#Outlier-Proba\" data-toc-modified-id=\"Outlier-Proba-12\"><span class=\"toc-item-num\">12&nbsp;&nbsp;</span>Outlier Proba</a></span></li><li><span><a href=\"#Compare-Proba\" data-toc-modified-id=\"Compare-Proba-13\"><span class=\"toc-item-num\">13&nbsp;&nbsp;</span>Compare Proba</a></span></li></ul></div>"
   ]
  },
  {
   "cell_type": "markdown",
   "metadata": {},
   "source": [
    "# Dimension Reduction and Manifold Learning\n",
    "\n",
    "## Purpose\n",
    "- Consensus clustering\n",
    "- Outlier detection\n",
    "- Supervised model training\n",
    "\n",
    "## Input\n",
    "- adata with PCs\n",
    "\n",
    "## Output\n",
    "- Clsuter assignment\n",
    "- Outlier assignment\n",
    "- Supervised model for prediction clusters on new data"
   ]
  },
  {
   "cell_type": "code",
   "execution_count": null,
   "metadata": {},
   "outputs": [],
   "source": [
    "import warnings\n",
    "warnings.filterwarnings('ignore')"
   ]
  },
  {
   "cell_type": "code",
   "execution_count": null,
   "metadata": {},
   "outputs": [],
   "source": [
    "import pathlib\n",
    "\n",
    "import anndata\n",
    "import matplotlib.pyplot as plt\n",
    "import numpy as np\n",
    "import pandas as pd\n",
    "import seaborn as sns\n",
    "from ALLCools.clustering import ConsensusClustering\n",
    "from cemba_data.plot import *"
   ]
  },
  {
   "cell_type": "code",
   "execution_count": null,
   "metadata": {},
   "outputs": [],
   "source": [
    "result_dir = pathlib.Path('Cluster')\n",
    "result_dir.mkdir(exist_ok=True)\n",
    "fig_dir = pathlib.Path('fig/consensus_clustering')\n",
    "fig_dir.mkdir(exist_ok=True, parents=True)"
   ]
  },
  {
   "cell_type": "markdown",
   "metadata": {},
   "source": [
    "## Parameters"
   ]
  },
  {
   "cell_type": "code",
   "execution_count": null,
   "metadata": {
    "tags": [
     "parameters"
    ]
   },
   "outputs": [],
   "source": [
    "cell_meta_path = './Coords/cell_tidy_data.msg'\n",
    "adata_path = './Coords/adata.with_pc_and_coords.h5ad'\n",
    "\n",
    "coord_base = 'umap'\n",
    "n_jobs=40\n",
    "\n",
    "# cc.fit_predict\n",
    "n_neighbors=25\n",
    "metric='euclidean'\n",
    "neighbor_kwds=None\n",
    "leiden_repeats=200\n",
    "seed=1\n",
    "leiden_resolution=0.5\n",
    "leiden_kwds=None\n",
    "min_cluster_size=10\n",
    "min_cluster_portion=0.01\n",
    "min_samples=1\n",
    "epsilon='auto'\n",
    "hdbscan_kwds=None\n",
    "\n",
    "# cc.supervise_training\n",
    "x=None\n",
    "test_portion=0.1\n",
    "n_estimators=500\n",
    "n_splits=10\n",
    "fbeta=1\n",
    "average='weighted'\n",
    "outlier_proba_cutoff=0.5\n",
    "confusion_merge_cutoff=0.2"
   ]
  },
  {
   "cell_type": "code",
   "execution_count": null,
   "metadata": {},
   "outputs": [],
   "source": [
    "consensus_cluster_params = dict(n_neighbors=n_neighbors,\n",
    "                                metric=metric,\n",
    "                                neighbor_kwds=neighbor_kwds,\n",
    "                                leiden_repeats=leiden_repeats,\n",
    "                                seed=seed,\n",
    "                                leiden_resolution=leiden_resolution,\n",
    "                                leiden_kwds=leiden_kwds,\n",
    "                                min_cluster_size=min_cluster_size,\n",
    "                                min_cluster_portion=min_cluster_portion,\n",
    "                                min_samples=min_samples,\n",
    "                                epsilon=epsilon,\n",
    "                                hdbscan_kwds=hdbscan_kwds,\n",
    "                                n_jobs=n_jobs)\n",
    "# cc.supervise_training(**training_params)\n",
    "training_params = dict(x=x,\n",
    "                       test_portion=test_portion,\n",
    "                       n_estimators=n_estimators,\n",
    "                       n_splits=n_splits,\n",
    "                       fbeta=fbeta,\n",
    "                       average=average,\n",
    "                       n_jobs=n_jobs,\n",
    "                       outlier_proba_cutoff=outlier_proba_cutoff,\n",
    "                       confusion_merge_cutoff=confusion_merge_cutoff)"
   ]
  },
  {
   "cell_type": "markdown",
   "metadata": {},
   "source": [
    "## Load\n",
    "\n",
    "### Cell Metadata"
   ]
  },
  {
   "cell_type": "code",
   "execution_count": null,
   "metadata": {},
   "outputs": [],
   "source": [
    "cell_tidy_data = pd.read_msgpack(cell_meta_path)"
   ]
  },
  {
   "cell_type": "markdown",
   "metadata": {},
   "source": [
    "### PCs"
   ]
  },
  {
   "cell_type": "code",
   "execution_count": null,
   "metadata": {},
   "outputs": [],
   "source": [
    "adata = anndata.read_h5ad(adata_path)\n",
    "pc_matrix = adata.obsm['X_pca']"
   ]
  },
  {
   "cell_type": "markdown",
   "metadata": {},
   "source": [
    "## Clustering"
   ]
  },
  {
   "cell_type": "code",
   "execution_count": null,
   "metadata": {},
   "outputs": [],
   "source": [
    "cc = ConsensusClustering(pc_matrix)"
   ]
  },
  {
   "cell_type": "code",
   "execution_count": null,
   "metadata": {},
   "outputs": [],
   "source": [
    "cc.fit_predict(**consensus_cluster_params)"
   ]
  },
  {
   "cell_type": "markdown",
   "metadata": {},
   "source": [
    "## Clustering evaluation"
   ]
  },
  {
   "cell_type": "code",
   "execution_count": null,
   "metadata": {},
   "outputs": [],
   "source": [
    "reselect_epsilon = None\n",
    "\n",
    "if reselect_epsilon is not None:\n",
    "    cc.reselect_clusters(epsilon=reselect_epsilon, min_cluster_size=10)"
   ]
  },
  {
   "cell_type": "code",
   "execution_count": null,
   "metadata": {},
   "outputs": [],
   "source": [
    "fig, (ax1, ax2) = plt.subplots(figsize=(10, 5), ncols=2, dpi=300)\n",
    "categorical_scatter(data=cell_tidy_data,\n",
    "                    coord_base='umap',\n",
    "                    ax=ax1,\n",
    "                    hue=pd.Series(cc.consensus_clusters,\n",
    "                                  index=adata.obs_names),\n",
    "                    palette='tab20',\n",
    "                    text_anno=pd.Series(cc.consensus_clusters,\n",
    "                                        index=adata.obs_names))\n",
    "categorical_scatter(data=cell_tidy_data,\n",
    "                    coord_base='tsne',\n",
    "                    ax=ax2,\n",
    "                    hue=pd.Series(cc.consensus_clusters,\n",
    "                                  index=adata.obs_names),\n",
    "                    palette='tab20',\n",
    "                    text_anno=pd.Series(cc.consensus_clusters,\n",
    "                                        index=adata.obs_names))\n",
    "pass"
   ]
  },
  {
   "cell_type": "markdown",
   "metadata": {},
   "source": [
    "## Supervised Prediction"
   ]
  },
  {
   "cell_type": "code",
   "execution_count": null,
   "metadata": {},
   "outputs": [],
   "source": [
    "cc.supervise_training(**training_params)"
   ]
  },
  {
   "cell_type": "markdown",
   "metadata": {},
   "source": [
    "## Save"
   ]
  },
  {
   "cell_type": "code",
   "execution_count": null,
   "metadata": {},
   "outputs": [],
   "source": [
    "cc.save(result_dir / 'ConsensusCluster.Object.gz')"
   ]
  },
  {
   "cell_type": "code",
   "execution_count": null,
   "metadata": {},
   "outputs": [],
   "source": [
    "cell_tidy_data['consensus_cluster'] = pd.Series(\n",
    "    cc.consensus_clusters,\n",
    "    index=adata.obs_names)\n",
    "cell_tidy_data['consensus_cluster_rescued'] = pd.Series(\n",
    "    cc.consensus_clusters_rescued, \n",
    "    index=adata.obs_names)\n",
    "cell_tidy_data.to_msgpack(result_dir / 'cell_tidy_data.with_cluster.msg')"
   ]
  },
  {
   "cell_type": "markdown",
   "metadata": {},
   "source": [
    "## Plotting\n",
    "\n",
    "### Consensus Matrix"
   ]
  },
  {
   "cell_type": "code",
   "execution_count": null,
   "metadata": {},
   "outputs": [],
   "source": [
    "fig, ax = plt.subplots(figsize=(6, 5), dpi=300)\n",
    "cc.plot_confusion_matrix(ax=ax)\n",
    "fig.savefig(fig_dir / 'ConfusionMatrix.pdf')"
   ]
  },
  {
   "cell_type": "markdown",
   "metadata": {},
   "source": [
    "### Clusters"
   ]
  },
  {
   "cell_type": "code",
   "execution_count": null,
   "metadata": {},
   "outputs": [],
   "source": [
    "fig, (ax1, ax2) = plt.subplots(figsize=(10, 5), dpi=300, ncols=2)\n",
    "categorical_scatter(data=cell_tidy_data,\n",
    "                    coord_base=coord_base,\n",
    "                    ax=ax1,\n",
    "                    hue='consensus_cluster',\n",
    "                    palette='tab20',\n",
    "                    text_anno='consensus_cluster')\n",
    "ax1.set(title='Before Rescue')\n",
    "\n",
    "categorical_scatter(data=cell_tidy_data,\n",
    "                    coord_base=coord_base,\n",
    "                    ax=ax2,\n",
    "                    hue='consensus_cluster_rescued',\n",
    "                    palette='tab20',\n",
    "                    text_anno='consensus_cluster_rescued')\n",
    "ax2.set(title='After Rescue')\n",
    "\n",
    "fig.suptitle('Consensus Clustering')\n",
    "fig.savefig(fig_dir / 'ConsensusClusters.pdf')"
   ]
  },
  {
   "cell_type": "markdown",
   "metadata": {},
   "source": [
    "## Testing Proba"
   ]
  },
  {
   "cell_type": "code",
   "execution_count": null,
   "metadata": {},
   "outputs": [],
   "source": [
    "if cc.testing_proba is not None:\n",
    "    g = sns.clustermap(cc.testing_proba,\n",
    "                   metric='cosine',\n",
    "                   vmin=0,\n",
    "                   vmax=1,\n",
    "                   cmap='viridis')\n",
    "    g.fig.savefig(fig_dir / 'Testing.PredictionProbablity.pdf')"
   ]
  },
  {
   "cell_type": "markdown",
   "metadata": {},
   "source": [
    "## Outlier Proba"
   ]
  },
  {
   "cell_type": "code",
   "execution_count": null,
   "metadata": {},
   "outputs": [],
   "source": [
    "try:\n",
    "    g = sns.clustermap(cc.outlier_proba, vmin=0, vmax=1, cmap='viridis')\n",
    "    g.fig.savefig(fig_dir / 'Outlier.PredictionProbablity.pdf')\n",
    "except ValueError:\n",
    "    pass"
   ]
  },
  {
   "cell_type": "markdown",
   "metadata": {},
   "source": [
    "## Compare Proba"
   ]
  },
  {
   "cell_type": "code",
   "execution_count": null,
   "metadata": {},
   "outputs": [],
   "source": [
    "if cc.testing_proba is not None:\n",
    "    fig, ax = plt.subplots(figsize=(4, 3), dpi=300)\n",
    "\n",
    "    try:\n",
    "        cc.plot_prediction_probability(ax=ax)\n",
    "        ax.legend()\n",
    "        sns.despine(ax=ax)\n",
    "        fig.savefig(fig_dir / 'TestingAndOutlier.MaxPredictionProbablity.pdf')\n",
    "    except AttributeError:\n",
    "        pass"
   ]
  },
  {
   "cell_type": "code",
   "execution_count": null,
   "metadata": {},
   "outputs": [],
   "source": []
  }
 ],
 "metadata": {
  "hide_input": false,
  "kernelspec": {
   "display_name": "Python 3",
   "language": "python",
   "name": "python3"
  },
  "language_info": {
   "codemirror_mode": {
    "name": "ipython",
    "version": 3
   },
   "file_extension": ".py",
   "mimetype": "text/x-python",
   "name": "python",
   "nbconvert_exporter": "python",
   "pygments_lexer": "ipython3",
   "version": "3.7.3"
  },
  "toc": {
   "base_numbering": 1,
   "nav_menu": {},
   "number_sections": true,
   "sideBar": true,
   "skip_h1_title": true,
   "title_cell": "Table of Contents",
   "title_sidebar": "Contents",
   "toc_cell": true,
   "toc_position": {},
   "toc_section_display": true,
   "toc_window_display": true
  }
 },
 "nbformat": 4,
 "nbformat_minor": 2
}
