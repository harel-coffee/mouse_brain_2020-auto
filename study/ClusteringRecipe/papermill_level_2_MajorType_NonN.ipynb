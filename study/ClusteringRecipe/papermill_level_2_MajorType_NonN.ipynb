{
 "cells": [
  {
   "cell_type": "markdown",
   "metadata": {
    "toc": true
   },
   "source": [
    "<h1>Table of Contents<span class=\"tocSkip\"></span></h1>\n",
    "<div class=\"toc\"><ul class=\"toc-item\"><li><span><a href=\"#Prepare\" data-toc-modified-id=\"Prepare-1\"><span class=\"toc-item-num\">1&nbsp;&nbsp;</span>Prepare</a></span><ul class=\"toc-item\"><li><span><a href=\"#Create-Study-Dir\" data-toc-modified-id=\"Create-Study-Dir-1.1\"><span class=\"toc-item-num\">1.1&nbsp;&nbsp;</span>Create Study Dir</a></span></li><li><span><a href=\"#Select-Cells\" data-toc-modified-id=\"Select-Cells-1.2\"><span class=\"toc-item-num\">1.2&nbsp;&nbsp;</span>Select Cells</a></span></li></ul></li><li><span><a href=\"#Step-0-Cell-Basic-QC\" data-toc-modified-id=\"Step-0-Cell-Basic-QC-2\"><span class=\"toc-item-num\">2&nbsp;&nbsp;</span>Step 0 Cell Basic QC</a></span></li><li><span><a href=\"#Step-1-Prepare-Adata\" data-toc-modified-id=\"Step-1-Prepare-Adata-3\"><span class=\"toc-item-num\">3&nbsp;&nbsp;</span>Step 1 Prepare Adata</a></span></li><li><span><a href=\"#Step-2-Dimension-Reduction\" data-toc-modified-id=\"Step-2-Dimension-Reduction-4\"><span class=\"toc-item-num\">4&nbsp;&nbsp;</span>Step 2 Dimension Reduction</a></span></li><li><span><a href=\"#Step-3-Consensus-Clustering\" data-toc-modified-id=\"Step-3-Consensus-Clustering-5\"><span class=\"toc-item-num\">5&nbsp;&nbsp;</span>Step 3 Consensus Clustering</a></span></li><li><span><a href=\"#Step-4-Marker-Identification\" data-toc-modified-id=\"Step-4-Marker-Identification-6\"><span class=\"toc-item-num\">6&nbsp;&nbsp;</span>Step 4 Marker Identification</a></span></li><li><span><a href=\"#Step-5-Cluster-Manual-Annotation\" data-toc-modified-id=\"Step-5-Cluster-Manual-Annotation-7\"><span class=\"toc-item-num\">7&nbsp;&nbsp;</span>Step 5 Cluster Manual Annotation</a></span></li></ul></div>"
   ]
  },
  {
   "cell_type": "code",
   "execution_count": 1,
   "metadata": {
    "ExecuteTime": {
     "end_time": "2019-08-24T07:42:31.959751Z",
     "start_time": "2019-08-24T07:42:31.448188Z"
    }
   },
   "outputs": [],
   "source": [
    "from papermill import execute_notebook, PapermillExecutionError\n",
    "import pandas as pd\n",
    "import pathlib\n",
    "import numpy as np"
   ]
  },
  {
   "cell_type": "code",
   "execution_count": 2,
   "metadata": {
    "ExecuteTime": {
     "end_time": "2019-08-24T07:42:35.376129Z",
     "start_time": "2019-08-24T07:42:35.373743Z"
    }
   },
   "outputs": [],
   "source": [
    "study_name = 'NonN'"
   ]
  },
  {
   "cell_type": "code",
   "execution_count": 3,
   "metadata": {
    "ExecuteTime": {
     "end_time": "2019-08-24T07:42:35.635214Z",
     "start_time": "2019-08-24T07:42:35.632344Z"
    }
   },
   "outputs": [],
   "source": [
    "total_cell_meta_path = '/home/hanliu/project/mouse_rostral_brain/metadata/CellMeta.110599.Raw.msg'\n",
    "annotation_table_path = '/home/hanliu/project/mouse_rostral_brain/metadata/CellAnnotation.BrainRegionAndCellClass.msg'\n",
    "template_dir = '/home/hanliu/project/mouse_rostral_brain/study/ClusteringRecipe/'\n",
    "study_dir = f'/home/hanliu/project/mouse_rostral_brain/study/Level2-MajorCellType/{study_name}'\n",
    "dataset_dir = '/home/hanliu/project/mouse_rostral_brain/dataset/'"
   ]
  },
  {
   "cell_type": "markdown",
   "metadata": {},
   "source": [
    "## Prepare"
   ]
  },
  {
   "cell_type": "markdown",
   "metadata": {},
   "source": [
    "### Create Study Dir"
   ]
  },
  {
   "cell_type": "code",
   "execution_count": 4,
   "metadata": {
    "ExecuteTime": {
     "end_time": "2019-08-24T07:42:36.982803Z",
     "start_time": "2019-08-24T07:42:36.705033Z"
    }
   },
   "outputs": [
    {
     "name": "stderr",
     "output_type": "stream",
     "text": [
      "/home/hanliu/miniconda3/envs/clustering/lib/python3.7/site-packages/IPython/core/interactiveshell.py:3326: FutureWarning: The read_msgpack is deprecated and will be removed in a future version.\n",
      "It is recommended to use pyarrow for on-the-wire transmission of pandas objects.\n",
      "  exec(code_obj, self.user_global_ns, self.user_ns)\n"
     ]
    }
   ],
   "source": [
    "total_cell_meta = pd.read_msgpack(total_cell_meta_path)\n",
    "cell_annotation = pd.read_msgpack(annotation_table_path).reindex(total_cell_meta.index)\n",
    "study_dir = pathlib.Path(study_dir)\n",
    "study_dir.mkdir(exist_ok=True)\n",
    "dataset_dir = pathlib.Path(dataset_dir)"
   ]
  },
  {
   "cell_type": "markdown",
   "metadata": {},
   "source": [
    "### Select Cells"
   ]
  },
  {
   "cell_type": "code",
   "execution_count": 5,
   "metadata": {
    "ExecuteTime": {
     "end_time": "2019-08-24T07:42:37.890047Z",
     "start_time": "2019-08-24T07:42:37.887407Z"
    }
   },
   "outputs": [],
   "source": [
    "selection_dict = {\n",
    "    'CellClass': [study_name]\n",
    "}"
   ]
  },
  {
   "cell_type": "code",
   "execution_count": 6,
   "metadata": {
    "ExecuteTime": {
     "end_time": "2019-08-24T07:42:38.621669Z",
     "start_time": "2019-08-24T07:42:38.593012Z"
    }
   },
   "outputs": [],
   "source": [
    "judges = []\n",
    "for col, vals in selection_dict.items():\n",
    "    judges.append(cell_annotation[col].isin(vals))\n",
    "total_judge = np.all(judges, axis=0)"
   ]
  },
  {
   "cell_type": "code",
   "execution_count": 7,
   "metadata": {
    "ExecuteTime": {
     "end_time": "2019-08-24T07:42:38.845809Z",
     "start_time": "2019-08-24T07:42:38.818945Z"
    }
   },
   "outputs": [
    {
     "name": "stderr",
     "output_type": "stream",
     "text": [
      "/home/hanliu/miniconda3/envs/clustering/lib/python3.7/site-packages/ipykernel_launcher.py:3: FutureWarning: to_msgpack is deprecated and will be removed in a future version.\n",
      "It is recommended to use pyarrow for on-the-wire transmission of pandas objects.\n",
      "  This is separate from the ipykernel package so we can avoid doing imports until\n"
     ]
    }
   ],
   "source": [
    "select_cell_meta = total_cell_meta[total_judge]\n",
    "cell_meta_path = study_dir / 'CellMetadata.msg'\n",
    "select_cell_meta.to_msgpack(cell_meta_path)"
   ]
  },
  {
   "cell_type": "code",
   "execution_count": 8,
   "metadata": {
    "ExecuteTime": {
     "end_time": "2019-08-24T07:42:39.047486Z",
     "start_time": "2019-08-24T07:42:39.022500Z"
    }
   },
   "outputs": [
    {
     "name": "stdout",
     "output_type": "stream",
     "text": [
      "(7441, 22)\n"
     ]
    },
    {
     "data": {
      "text/html": [
       "<div>\n",
       "<style scoped>\n",
       "    .dataframe tbody tr th:only-of-type {\n",
       "        vertical-align: middle;\n",
       "    }\n",
       "\n",
       "    .dataframe tbody tr th {\n",
       "        vertical-align: top;\n",
       "    }\n",
       "\n",
       "    .dataframe thead th {\n",
       "        text-align: right;\n",
       "    }\n",
       "</style>\n",
       "<table border=\"1\" class=\"dataframe\">\n",
       "  <thead>\n",
       "    <tr style=\"text-align: right;\">\n",
       "      <th></th>\n",
       "      <th>AllcPath</th>\n",
       "      <th>CCC_Rate</th>\n",
       "      <th>CG_Rate</th>\n",
       "      <th>CG_RateAdj</th>\n",
       "      <th>CH_Rate</th>\n",
       "      <th>CH_RateAdj</th>\n",
       "      <th>FinalReads</th>\n",
       "      <th>InputReads</th>\n",
       "      <th>MappedReads</th>\n",
       "      <th>Region</th>\n",
       "      <th>...</th>\n",
       "      <th>BamFilteringRate</th>\n",
       "      <th>MappingRate</th>\n",
       "      <th>Pos96</th>\n",
       "      <th>Plate</th>\n",
       "      <th>Col96</th>\n",
       "      <th>Row96</th>\n",
       "      <th>Col384</th>\n",
       "      <th>Row384</th>\n",
       "      <th>FACS_Date</th>\n",
       "      <th>Slice</th>\n",
       "    </tr>\n",
       "    <tr>\n",
       "      <th>cell</th>\n",
       "      <th></th>\n",
       "      <th></th>\n",
       "      <th></th>\n",
       "      <th></th>\n",
       "      <th></th>\n",
       "      <th></th>\n",
       "      <th></th>\n",
       "      <th></th>\n",
       "      <th></th>\n",
       "      <th></th>\n",
       "      <th></th>\n",
       "      <th></th>\n",
       "      <th></th>\n",
       "      <th></th>\n",
       "      <th></th>\n",
       "      <th></th>\n",
       "      <th></th>\n",
       "      <th></th>\n",
       "      <th></th>\n",
       "      <th></th>\n",
       "      <th></th>\n",
       "    </tr>\n",
       "  </thead>\n",
       "  <tbody>\n",
       "    <tr>\n",
       "      <th>11E_M_1074</th>\n",
       "      <td>/gale/raidix/rdx-4/mapping/11E/CEMBA190214-11E...</td>\n",
       "      <td>0.003826</td>\n",
       "      <td>0.689524</td>\n",
       "      <td>0.688332</td>\n",
       "      <td>0.006028</td>\n",
       "      <td>0.002211</td>\n",
       "      <td>1345334.0</td>\n",
       "      <td>3039058</td>\n",
       "      <td>2088356.0</td>\n",
       "      <td>11E</td>\n",
       "      <td>...</td>\n",
       "      <td>0.644207</td>\n",
       "      <td>0.687172</td>\n",
       "      <td>D12</td>\n",
       "      <td>CEMBA190214-11E-3</td>\n",
       "      <td>11</td>\n",
       "      <td>3</td>\n",
       "      <td>22</td>\n",
       "      <td>7</td>\n",
       "      <td>190214</td>\n",
       "      <td>11</td>\n",
       "    </tr>\n",
       "    <tr>\n",
       "      <th>11E_M_1075</th>\n",
       "      <td>/gale/raidix/rdx-4/mapping/11E/CEMBA190214-11E...</td>\n",
       "      <td>0.004210</td>\n",
       "      <td>0.754025</td>\n",
       "      <td>0.752985</td>\n",
       "      <td>0.011791</td>\n",
       "      <td>0.007613</td>\n",
       "      <td>1539740.0</td>\n",
       "      <td>3470094</td>\n",
       "      <td>2380669.0</td>\n",
       "      <td>11E</td>\n",
       "      <td>...</td>\n",
       "      <td>0.646768</td>\n",
       "      <td>0.686053</td>\n",
       "      <td>D12</td>\n",
       "      <td>CEMBA190214-11E-3</td>\n",
       "      <td>11</td>\n",
       "      <td>3</td>\n",
       "      <td>23</td>\n",
       "      <td>6</td>\n",
       "      <td>190214</td>\n",
       "      <td>11</td>\n",
       "    </tr>\n",
       "    <tr>\n",
       "      <th>11E_M_1076</th>\n",
       "      <td>/gale/raidix/rdx-4/mapping/11E/CEMBA190214-11E...</td>\n",
       "      <td>0.004191</td>\n",
       "      <td>0.729799</td>\n",
       "      <td>0.728662</td>\n",
       "      <td>0.011007</td>\n",
       "      <td>0.006844</td>\n",
       "      <td>1572327.0</td>\n",
       "      <td>3629156</td>\n",
       "      <td>2436683.0</td>\n",
       "      <td>11E</td>\n",
       "      <td>...</td>\n",
       "      <td>0.645274</td>\n",
       "      <td>0.671419</td>\n",
       "      <td>D12</td>\n",
       "      <td>CEMBA190214-11E-3</td>\n",
       "      <td>11</td>\n",
       "      <td>3</td>\n",
       "      <td>23</td>\n",
       "      <td>7</td>\n",
       "      <td>190214</td>\n",
       "      <td>11</td>\n",
       "    </tr>\n",
       "    <tr>\n",
       "      <th>11E_M_1077</th>\n",
       "      <td>/gale/raidix/rdx-4/mapping/11E/CEMBA190214-11E...</td>\n",
       "      <td>0.004045</td>\n",
       "      <td>0.745161</td>\n",
       "      <td>0.744126</td>\n",
       "      <td>0.011469</td>\n",
       "      <td>0.007454</td>\n",
       "      <td>1377877.0</td>\n",
       "      <td>3245754</td>\n",
       "      <td>2161645.0</td>\n",
       "      <td>11E</td>\n",
       "      <td>...</td>\n",
       "      <td>0.637421</td>\n",
       "      <td>0.665992</td>\n",
       "      <td>D12</td>\n",
       "      <td>CEMBA190214-11E-4</td>\n",
       "      <td>11</td>\n",
       "      <td>3</td>\n",
       "      <td>22</td>\n",
       "      <td>6</td>\n",
       "      <td>190214</td>\n",
       "      <td>11</td>\n",
       "    </tr>\n",
       "    <tr>\n",
       "      <th>11E_M_1078</th>\n",
       "      <td>/gale/raidix/rdx-4/mapping/11E/CEMBA190214-11E...</td>\n",
       "      <td>0.004086</td>\n",
       "      <td>0.753881</td>\n",
       "      <td>0.752871</td>\n",
       "      <td>0.011689</td>\n",
       "      <td>0.007634</td>\n",
       "      <td>1090151.0</td>\n",
       "      <td>2644424</td>\n",
       "      <td>1694786.0</td>\n",
       "      <td>11E</td>\n",
       "      <td>...</td>\n",
       "      <td>0.643238</td>\n",
       "      <td>0.640890</td>\n",
       "      <td>D12</td>\n",
       "      <td>CEMBA190214-11E-4</td>\n",
       "      <td>11</td>\n",
       "      <td>3</td>\n",
       "      <td>22</td>\n",
       "      <td>7</td>\n",
       "      <td>190214</td>\n",
       "      <td>11</td>\n",
       "    </tr>\n",
       "  </tbody>\n",
       "</table>\n",
       "<p>5 rows × 22 columns</p>\n",
       "</div>"
      ],
      "text/plain": [
       "                                                     AllcPath  CCC_Rate  \\\n",
       "cell                                                                      \n",
       "11E_M_1074  /gale/raidix/rdx-4/mapping/11E/CEMBA190214-11E...  0.003826   \n",
       "11E_M_1075  /gale/raidix/rdx-4/mapping/11E/CEMBA190214-11E...  0.004210   \n",
       "11E_M_1076  /gale/raidix/rdx-4/mapping/11E/CEMBA190214-11E...  0.004191   \n",
       "11E_M_1077  /gale/raidix/rdx-4/mapping/11E/CEMBA190214-11E...  0.004045   \n",
       "11E_M_1078  /gale/raidix/rdx-4/mapping/11E/CEMBA190214-11E...  0.004086   \n",
       "\n",
       "             CG_Rate  CG_RateAdj   CH_Rate  CH_RateAdj  FinalReads  \\\n",
       "cell                                                                 \n",
       "11E_M_1074  0.689524    0.688332  0.006028    0.002211   1345334.0   \n",
       "11E_M_1075  0.754025    0.752985  0.011791    0.007613   1539740.0   \n",
       "11E_M_1076  0.729799    0.728662  0.011007    0.006844   1572327.0   \n",
       "11E_M_1077  0.745161    0.744126  0.011469    0.007454   1377877.0   \n",
       "11E_M_1078  0.753881    0.752871  0.011689    0.007634   1090151.0   \n",
       "\n",
       "            InputReads  MappedReads Region  ... BamFilteringRate MappingRate  \\\n",
       "cell                                        ...                                \n",
       "11E_M_1074     3039058    2088356.0    11E  ...         0.644207    0.687172   \n",
       "11E_M_1075     3470094    2380669.0    11E  ...         0.646768    0.686053   \n",
       "11E_M_1076     3629156    2436683.0    11E  ...         0.645274    0.671419   \n",
       "11E_M_1077     3245754    2161645.0    11E  ...         0.637421    0.665992   \n",
       "11E_M_1078     2644424    1694786.0    11E  ...         0.643238    0.640890   \n",
       "\n",
       "            Pos96              Plate Col96 Row96  Col384  Row384  FACS_Date  \\\n",
       "cell                                                                          \n",
       "11E_M_1074    D12  CEMBA190214-11E-3    11     3      22       7     190214   \n",
       "11E_M_1075    D12  CEMBA190214-11E-3    11     3      23       6     190214   \n",
       "11E_M_1076    D12  CEMBA190214-11E-3    11     3      23       7     190214   \n",
       "11E_M_1077    D12  CEMBA190214-11E-4    11     3      22       6     190214   \n",
       "11E_M_1078    D12  CEMBA190214-11E-4    11     3      22       7     190214   \n",
       "\n",
       "            Slice  \n",
       "cell               \n",
       "11E_M_1074     11  \n",
       "11E_M_1075     11  \n",
       "11E_M_1076     11  \n",
       "11E_M_1077     11  \n",
       "11E_M_1078     11  \n",
       "\n",
       "[5 rows x 22 columns]"
      ]
     },
     "execution_count": 8,
     "metadata": {},
     "output_type": "execute_result"
    }
   ],
   "source": [
    "print(select_cell_meta.shape)\n",
    "select_cell_meta.head()"
   ]
  },
  {
   "cell_type": "markdown",
   "metadata": {},
   "source": [
    "## Step 0 Cell Basic QC"
   ]
  },
  {
   "cell_type": "code",
   "execution_count": 9,
   "metadata": {
    "ExecuteTime": {
     "end_time": "2019-08-24T07:42:41.519873Z",
     "start_time": "2019-08-24T07:42:41.517392Z"
    }
   },
   "outputs": [],
   "source": [
    "# 0-CellBasicQC.ipynb\n",
    "step_0_params = dict(\n",
    "    study_name=study_name,\n",
    "    cell_metadata_path=str(cell_meta_path),\n",
    ")"
   ]
  },
  {
   "cell_type": "code",
   "execution_count": 10,
   "metadata": {
    "ExecuteTime": {
     "end_time": "2019-08-24T07:42:48.751705Z",
     "start_time": "2019-08-24T07:42:41.833215Z"
    },
    "scrolled": false
   },
   "outputs": [
    {
     "data": {
      "application/vnd.jupyter.widget-view+json": {
       "model_id": "b950694bc09e482191617881580d6448",
       "version_major": 2,
       "version_minor": 0
      },
      "text/plain": [
       "HBox(children=(IntProgress(value=0, max=28), HTML(value='')))"
      ]
     },
     "metadata": {},
     "output_type": "display_data"
    },
    {
     "name": "stdout",
     "output_type": "stream",
     "text": [
      "\n"
     ]
    }
   ],
   "source": [
    "input_path = '0-CellBasicQC.ipynb'\n",
    "output_path = study_dir / '0-CellBasicQC.ipynb'\n",
    "execute_notebook(\n",
    "    str(input_path),\n",
    "    str(output_path),\n",
    "    parameters=step_0_params,\n",
    "    engine_name=None,\n",
    "    prepare_only=False,\n",
    "    kernel_name=None,\n",
    "    progress_bar=True,\n",
    "    log_output=False,\n",
    "    start_timeout=60,\n",
    "    report_mode=False,\n",
    "    cwd=str(study_dir))\n",
    "pass"
   ]
  },
  {
   "cell_type": "markdown",
   "metadata": {},
   "source": [
    "## Step 1 Prepare Adata"
   ]
  },
  {
   "cell_type": "code",
   "execution_count": 11,
   "metadata": {
    "ExecuteTime": {
     "end_time": "2019-08-24T07:42:51.259293Z",
     "start_time": "2019-08-24T07:42:51.253618Z"
    }
   },
   "outputs": [],
   "source": [
    "step_1_params = dict(\n",
    "    # parameters cell\n",
    "    in_memory=False,\n",
    "    dask_distribute=True,\n",
    "\n",
    "    # selected cell metadata path\n",
    "    cell_meta_path=str(study_dir / 'CellMetadata.AfterQC.msg'),\n",
    "\n",
    "    # mcds_path\n",
    "    mcds_path_list=[str(i) for i in dataset_dir.glob('*mcds')],\n",
    "    clustering_feature='chrom100k',  # usually 100kb chromosome bins or genes\n",
    "\n",
    "    # remove bad features\n",
    "    black_list_region=None,\n",
    "    exclude_chromosome=['chrY', 'chrM'],\n",
    "\n",
    "    # preprocess parameters\n",
    "    min_feature_cov=500,\n",
    "    max_feature_cov=3000,\n",
    "    ch_hvf_top=3000,\n",
    "    min_ch_hvf_mean=0.5,\n",
    "    max_ch_hvf_mean=2.5,\n",
    "    cg_hvf_top=3000,\n",
    "    min_cg_hvf_mean=0.5,\n",
    "    max_cg_hvf_mean=1.2)"
   ]
  },
  {
   "cell_type": "code",
   "execution_count": 12,
   "metadata": {
    "ExecuteTime": {
     "end_time": "2019-08-24T07:49:43.904511Z",
     "start_time": "2019-08-24T07:42:51.869837Z"
    }
   },
   "outputs": [
    {
     "data": {
      "application/vnd.jupyter.widget-view+json": {
       "model_id": "3a77a33dbc65402d8aec7710e6ae2cff",
       "version_major": 2,
       "version_minor": 0
      },
      "text/plain": [
       "HBox(children=(IntProgress(value=0, max=41), HTML(value='')))"
      ]
     },
     "metadata": {},
     "output_type": "display_data"
    },
    {
     "name": "stdout",
     "output_type": "stream",
     "text": [
      "\n"
     ]
    }
   ],
   "source": [
    "input_path = '1-PrepareAdata.ipynb'\n",
    "output_path = study_dir / '1-PrepareAdata.ipynb'\n",
    "execute_notebook(\n",
    "    str(input_path),\n",
    "    str(output_path),\n",
    "    parameters=step_1_params,\n",
    "    engine_name=None,\n",
    "    prepare_only=False,\n",
    "    kernel_name=None,\n",
    "    progress_bar=True,\n",
    "    log_output=False,\n",
    "    start_timeout=60,\n",
    "    report_mode=False,\n",
    "    cwd=str(study_dir))\n",
    "pass"
   ]
  },
  {
   "cell_type": "markdown",
   "metadata": {},
   "source": [
    "## Step 2 Dimension Reduction"
   ]
  },
  {
   "cell_type": "code",
   "execution_count": 13,
   "metadata": {
    "ExecuteTime": {
     "end_time": "2019-08-24T07:49:43.909834Z",
     "start_time": "2019-08-24T07:49:43.906262Z"
    }
   },
   "outputs": [],
   "source": [
    "step_2_params = dict(\n",
    "    ch_pc_components=15,\n",
    "    cg_pc_components=30,\n",
    "    pc_color_col=None,\n",
    "    batch_correction_col=None,\n",
    "    sigma=15,\n",
    "    alpha=0.1,\n",
    "    scanorama_k=25,\n",
    "    n_neighbors=25,\n",
    "    resolution=0.8,\n",
    "    perplexity=50,\n",
    "    metadata_category_cols=['Region'],\n",
    "    metadata_continue_cols=['CG_RateAdj', 'CH_RateAdj', 'FinalReads'])"
   ]
  },
  {
   "cell_type": "code",
   "execution_count": 14,
   "metadata": {
    "ExecuteTime": {
     "end_time": "2019-08-24T07:51:34.287589Z",
     "start_time": "2019-08-24T07:49:43.911610Z"
    }
   },
   "outputs": [
    {
     "data": {
      "application/vnd.jupyter.widget-view+json": {
       "model_id": "c3769ca49c6a4406a51dcc19d95f7834",
       "version_major": 2,
       "version_minor": 0
      },
      "text/plain": [
       "HBox(children=(IntProgress(value=0, max=42), HTML(value='')))"
      ]
     },
     "metadata": {},
     "output_type": "display_data"
    },
    {
     "name": "stdout",
     "output_type": "stream",
     "text": [
      "\n"
     ]
    }
   ],
   "source": [
    "input_path = '2-DimensionReduction.ipynb'\n",
    "output_path = study_dir / '2-DimensionReduction.ipynb'\n",
    "execute_notebook(\n",
    "    str(input_path),\n",
    "    str(output_path),\n",
    "    parameters=step_2_params,\n",
    "    engine_name=None,\n",
    "    prepare_only=False,\n",
    "    kernel_name=None,\n",
    "    progress_bar=True,\n",
    "    log_output=False,\n",
    "    start_timeout=60,\n",
    "    report_mode=False,\n",
    "    cwd=str(study_dir))\n",
    "pass"
   ]
  },
  {
   "cell_type": "markdown",
   "metadata": {},
   "source": [
    "## Step 3 Consensus Clustering"
   ]
  },
  {
   "cell_type": "code",
   "execution_count": 15,
   "metadata": {
    "ExecuteTime": {
     "end_time": "2019-08-24T07:51:34.296494Z",
     "start_time": "2019-08-24T07:51:34.290561Z"
    }
   },
   "outputs": [],
   "source": [
    "step_3_params = dict(\n",
    "    coord_base='umap',\n",
    "    n_jobs=40,\n",
    "\n",
    "    # cc.fit_predict\n",
    "    n_neighbors=25,\n",
    "    metric='euclidean',\n",
    "    neighbor_kwds=None,\n",
    "    leiden_repeats=200,\n",
    "    seed=1,\n",
    "    leiden_resolution=0.3,\n",
    "    leiden_kwds=None,\n",
    "    min_cluster_size=10,\n",
    "    min_cluster_portion=0.01,\n",
    "    min_samples=1,\n",
    "    epsilon='auto',\n",
    "    hdbscan_kwds=None,\n",
    "\n",
    "    # cc.supervise_training\n",
    "    x=None,\n",
    "    test_portion=0.1,\n",
    "    n_estimators=500,\n",
    "    n_splits=10,\n",
    "    fbeta=1,\n",
    "    average='weighted',\n",
    "    outlier_proba_cutoff=0.3,\n",
    "    confusion_merge_cutoff=0.2)"
   ]
  },
  {
   "cell_type": "code",
   "execution_count": 16,
   "metadata": {
    "ExecuteTime": {
     "end_time": "2019-08-24T07:54:48.621634Z",
     "start_time": "2019-08-24T07:51:34.299107Z"
    }
   },
   "outputs": [
    {
     "data": {
      "application/vnd.jupyter.widget-view+json": {
       "model_id": "03dbc091501d47b6b68a3449e8c3a8b3",
       "version_major": 2,
       "version_minor": 0
      },
      "text/plain": [
       "HBox(children=(IntProgress(value=0, max=31), HTML(value='')))"
      ]
     },
     "metadata": {},
     "output_type": "display_data"
    },
    {
     "name": "stdout",
     "output_type": "stream",
     "text": [
      "\n"
     ]
    }
   ],
   "source": [
    "input_path = '3-ConsensusClustering.ipynb'\n",
    "output_path = study_dir / '3-ConsensusClustering.ipynb'\n",
    "execute_notebook(\n",
    "    str(input_path),\n",
    "    str(output_path),\n",
    "    parameters=step_3_params,\n",
    "    engine_name=None,\n",
    "    prepare_only=False,\n",
    "    kernel_name=None,\n",
    "    progress_bar=True,\n",
    "    log_output=False,\n",
    "    start_timeout=60,\n",
    "    report_mode=False,\n",
    "    cwd=str(study_dir))\n",
    "pass"
   ]
  },
  {
   "cell_type": "markdown",
   "metadata": {},
   "source": [
    "## Step 4 Marker Identification"
   ]
  },
  {
   "cell_type": "code",
   "execution_count": 17,
   "metadata": {
    "ExecuteTime": {
     "end_time": "2019-08-24T07:54:48.626340Z",
     "start_time": "2019-08-24T07:54:48.623334Z"
    }
   },
   "outputs": [],
   "source": [
    "step_4_params = dict(\n",
    "    mc_type='CGN',\n",
    "    load=True,\n",
    "\n",
    "    # find marker gene\n",
    "    n_marker_genes=1000,\n",
    "    gene_score_cutoff=5,\n",
    "    abs_log_fold_change=1,\n",
    "    n_genes=10,\n",
    "    nrows=2,\n",
    "    coord_base='umap')"
   ]
  },
  {
   "cell_type": "code",
   "execution_count": 18,
   "metadata": {
    "ExecuteTime": {
     "end_time": "2019-08-24T07:55:26.940503Z",
     "start_time": "2019-08-24T07:54:48.627812Z"
    }
   },
   "outputs": [
    {
     "data": {
      "application/vnd.jupyter.widget-view+json": {
       "model_id": "9747084785b248b98ac29489538a2ca9",
       "version_major": 2,
       "version_minor": 0
      },
      "text/plain": [
       "HBox(children=(IntProgress(value=0, max=24), HTML(value='')))"
      ]
     },
     "metadata": {},
     "output_type": "display_data"
    },
    {
     "name": "stdout",
     "output_type": "stream",
     "text": [
      "\n"
     ]
    }
   ],
   "source": [
    "input_path = '4-MarkerIdentification.ipynb'\n",
    "output_path = study_dir / '4-MarkerIdentification.ipynb'\n",
    "execute_notebook(\n",
    "    str(input_path),\n",
    "    str(output_path),\n",
    "    parameters=step_4_params,\n",
    "    engine_name=None,\n",
    "    prepare_only=False,\n",
    "    kernel_name=None,\n",
    "    progress_bar=True,\n",
    "    log_output=False,\n",
    "    start_timeout=60,\n",
    "    report_mode=False,\n",
    "    cwd=str(study_dir))\n",
    "pass"
   ]
  },
  {
   "cell_type": "markdown",
   "metadata": {},
   "source": [
    "## Step 5 Cluster Manual Annotation\n",
    "- Prepare Only"
   ]
  },
  {
   "cell_type": "code",
   "execution_count": 19,
   "metadata": {
    "ExecuteTime": {
     "end_time": "2019-08-24T07:55:26.944835Z",
     "start_time": "2019-08-24T07:55:26.942308Z"
    }
   },
   "outputs": [],
   "source": [
    "step_5_params = dict(load=False, mc_type='CGN', coord_base='umap')"
   ]
  },
  {
   "cell_type": "code",
   "execution_count": 20,
   "metadata": {
    "ExecuteTime": {
     "end_time": "2019-08-24T07:55:26.973119Z",
     "start_time": "2019-08-24T07:55:26.946205Z"
    }
   },
   "outputs": [],
   "source": [
    "input_path = '5-ClusterManualAnnotation.ipynb'\n",
    "output_path = study_dir / '5-ClusterManualAnnotation.ipynb'\n",
    "execute_notebook(\n",
    "    str(input_path),\n",
    "    str(output_path),\n",
    "    parameters=step_5_params,\n",
    "    engine_name=None,\n",
    "    prepare_only=True,\n",
    "    kernel_name=None,\n",
    "    progress_bar=True,\n",
    "    log_output=False,\n",
    "    start_timeout=60,\n",
    "    report_mode=False,\n",
    "    cwd=str(study_dir))\n",
    "pass"
   ]
  },
  {
   "cell_type": "code",
   "execution_count": null,
   "metadata": {},
   "outputs": [],
   "source": []
  },
  {
   "cell_type": "code",
   "execution_count": null,
   "metadata": {},
   "outputs": [],
   "source": []
  }
 ],
 "metadata": {
  "hide_input": false,
  "kernelspec": {
   "display_name": "Python 3",
   "language": "python",
   "name": "python3"
  },
  "language_info": {
   "codemirror_mode": {
    "name": "ipython",
    "version": 3
   },
   "file_extension": ".py",
   "mimetype": "text/x-python",
   "name": "python",
   "nbconvert_exporter": "python",
   "pygments_lexer": "ipython3",
   "version": "3.7.3"
  },
  "toc": {
   "base_numbering": 1,
   "nav_menu": {},
   "number_sections": true,
   "sideBar": true,
   "skip_h1_title": true,
   "title_cell": "Table of Contents",
   "title_sidebar": "Contents",
   "toc_cell": true,
   "toc_position": {},
   "toc_section_display": true,
   "toc_window_display": true
  }
 },
 "nbformat": 4,
 "nbformat_minor": 2
}
