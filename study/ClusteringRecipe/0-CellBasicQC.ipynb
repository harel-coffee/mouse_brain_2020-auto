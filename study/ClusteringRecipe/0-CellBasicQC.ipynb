{
 "cells": [
  {
   "cell_type": "markdown",
   "metadata": {
    "toc": true
   },
   "source": [
    "<h1>Table of Contents<span class=\"tocSkip\"></span></h1>\n",
    "<div class=\"toc\"><ul class=\"toc-item\"><li><span><a href=\"#Purpose\" data-toc-modified-id=\"Purpose-1\"><span class=\"toc-item-num\">1&nbsp;&nbsp;</span>Purpose</a></span></li><li><span><a href=\"#Input\" data-toc-modified-id=\"Input-2\"><span class=\"toc-item-num\">2&nbsp;&nbsp;</span>Input</a></span></li><li><span><a href=\"#Output\" data-toc-modified-id=\"Output-3\"><span class=\"toc-item-num\">3&nbsp;&nbsp;</span>Output</a></span></li><li><span><a href=\"#Parameters\" data-toc-modified-id=\"Parameters-4\"><span class=\"toc-item-num\">4&nbsp;&nbsp;</span>Parameters</a></span><ul class=\"toc-item\"><li><span><a href=\"#Not-through-papermill\" data-toc-modified-id=\"Not-through-papermill-4.1\"><span class=\"toc-item-num\">4.1&nbsp;&nbsp;</span>Not through papermill</a></span></li></ul></li><li><span><a href=\"#Load-Cell-Metadata\" data-toc-modified-id=\"Load-Cell-Metadata-5\"><span class=\"toc-item-num\">5&nbsp;&nbsp;</span>Load Cell Metadata</a></span></li><li><span><a href=\"#Basic-metrics-distribution\" data-toc-modified-id=\"Basic-metrics-distribution-6\"><span class=\"toc-item-num\">6&nbsp;&nbsp;</span>Basic metrics distribution</a></span></li><li><span><a href=\"#Filter-by-basic-QC-metrics\" data-toc-modified-id=\"Filter-by-basic-QC-metrics-7\"><span class=\"toc-item-num\">7&nbsp;&nbsp;</span>Filter by basic QC metrics</a></span></li><li><span><a href=\"#Other-Stats\" data-toc-modified-id=\"Other-Stats-8\"><span class=\"toc-item-num\">8&nbsp;&nbsp;</span>Other Stats</a></span></li><li><span><a href=\"#Plateview-of-key-metrics\" data-toc-modified-id=\"Plateview-of-key-metrics-9\"><span class=\"toc-item-num\">9&nbsp;&nbsp;</span>Plateview of key metrics</a></span></li></ul></div>"
   ]
  },
  {
   "cell_type": "markdown",
   "metadata": {},
   "source": [
    "# Basic Data Walkthrough and Cell Mapping Metric Filtering\n",
    "\n",
    "## Purpose\n",
    "- Overview of basic QC metrics per brain region\n",
    "- Have a simple cell filtering based on basic QC metrics\n",
    "\n",
    "## Input\n",
    "- Cell metadata table\n",
    "\n",
    "## Output\n",
    "- Selected cell metadata table"
   ]
  },
  {
   "cell_type": "code",
   "execution_count": 1,
   "metadata": {
    "ExecuteTime": {
     "end_time": "2019-09-08T20:55:42.621807Z",
     "start_time": "2019-09-08T20:55:42.619895Z"
    }
   },
   "outputs": [],
   "source": [
    "import warnings\n",
    "warnings.filterwarnings('ignore')"
   ]
  },
  {
   "cell_type": "code",
   "execution_count": 2,
   "metadata": {
    "ExecuteTime": {
     "end_time": "2019-09-08T20:55:43.749546Z",
     "start_time": "2019-09-08T20:55:43.289195Z"
    }
   },
   "outputs": [],
   "source": [
    "import pathlib\n",
    "\n",
    "import matplotlib.pyplot as plt\n",
    "import numpy as np\n",
    "import pandas as pd\n",
    "import seaborn as sns\n",
    "from cemba_data.plot.preprocessing import cutoff_vs_cell_remain, plot_on_plate"
   ]
  },
  {
   "cell_type": "code",
   "execution_count": null,
   "metadata": {},
   "outputs": [],
   "source": [
    "result_dir = pathlib.Path()\n",
    "fig_dir = result_dir / 'fig/cell_basic_qc'\n",
    "fig_dir.mkdir(exist_ok=True, parents=True)"
   ]
  },
  {
   "cell_type": "markdown",
   "metadata": {},
   "source": [
    "## Parameters"
   ]
  },
  {
   "cell_type": "code",
   "execution_count": null,
   "metadata": {
    "tags": [
     "parameters"
    ]
   },
   "outputs": [],
   "source": [
    "# parameters cell\n",
    "study_name = ''\n",
    "\n",
    "cell_metadata_path = ''"
   ]
  },
  {
   "cell_type": "markdown",
   "metadata": {},
   "source": [
    "### Not through papermill"
   ]
  },
  {
   "cell_type": "code",
   "execution_count": null,
   "metadata": {},
   "outputs": [],
   "source": [
    "# QC metric filtering\n",
    "qc_metric = {\n",
    "    'CCC_Rate': (0, 0.05),\n",
    "    'CG_RateAdj': (0.5, 1),\n",
    "    'CH_RateAdj': (0., 0.15),\n",
    "    'FinalReads': (500000, 10000000),\n",
    "    'MappingRate': (0.5, 1)\n",
    "}\n",
    "\n",
    "# plot cell metadata columns\n",
    "metadata_distribution_plot = {\n",
    "    'CCC_Rate': (0., 0.1),\n",
    "    'CH_RateAdj': (0, 0.1),\n",
    "    'CG_RateAdj': (0.7, 0.9),\n",
    "    'InputReads': (0, 1e7),\n",
    "    'MappedReads': (0, 1e7),\n",
    "    'FinalReads': (0, 1e7),\n",
    "    'MappingRate': (0.5, 1)\n",
    "}\n",
    "\n",
    "final_reads_column = 'FinalReads'\n",
    "plate_view = False"
   ]
  },
  {
   "cell_type": "markdown",
   "metadata": {},
   "source": [
    "## Load Cell Metadata"
   ]
  },
  {
   "cell_type": "code",
   "execution_count": null,
   "metadata": {},
   "outputs": [],
   "source": [
    "total_cell_meta = pd.read_msgpack(cell_metadata_path)"
   ]
  },
  {
   "cell_type": "code",
   "execution_count": null,
   "metadata": {},
   "outputs": [],
   "source": [
    "cell_metadata_include = {}\n",
    "cell_metadata_exclude = {}\n",
    "\n",
    "# apply cell metadata and cell list selection first\n",
    "judges = []\n",
    "for k, v in cell_metadata_include.items():\n",
    "    judges.append(total_cell_meta[k].isin(v))\n",
    "for k, v in cell_metadata_exclude.items():\n",
    "    judges.append(~total_cell_meta[k].isin(v))\n",
    "\n",
    "if len(judges) != 0:\n",
    "    cell_meta = total_cell_meta[np.all(judges, axis=0)].copy()\n",
    "else:\n",
    "    cell_meta = total_cell_meta"
   ]
  },
  {
   "cell_type": "markdown",
   "metadata": {},
   "source": [
    "## Basic metrics distribution"
   ]
  },
  {
   "cell_type": "code",
   "execution_count": null,
   "metadata": {},
   "outputs": [],
   "source": [
    "nrows = len(metadata_distribution_plot)\n",
    "if nrows != 0:\n",
    "    fig, axes = plt.subplots(nrows=nrows,\n",
    "                             constrained_layout=True,\n",
    "                             figsize=(3, nrows),\n",
    "                             dpi=200)\n",
    "    for (col, xlim), ax in zip(metadata_distribution_plot.items(), axes.flat):\n",
    "        _data = cell_meta[col]\n",
    "        _data = _data[(_data <= xlim[1]) & (_data >= xlim[0])]\n",
    "        sns.distplot(_data, ax=ax, bins=100)\n",
    "        ax.set(xlim=xlim, yticks=[], xlabel='', title=col)\n",
    "    sns.despine(fig=fig, trim=True)\n",
    "\n",
    "    fig.suptitle(f'{study_name} Basic QC Metrics')\n",
    "\n",
    "    fig.savefig(fig_dir / f'basic_qc_metric.pdf')"
   ]
  },
  {
   "cell_type": "code",
   "execution_count": null,
   "metadata": {},
   "outputs": [],
   "source": [
    "try:\n",
    "    fig, axes = cutoff_vs_cell_remain(cell_meta[final_reads_column],\n",
    "                                      xlim_quantile=(0.001, 0.98))\n",
    "    fig.savefig(fig_dir / 'FinalReads distribution')\n",
    "except KeyError:\n",
    "    print(f'{final_reads_column} not in cell_meta, skip')"
   ]
  },
  {
   "cell_type": "markdown",
   "metadata": {},
   "source": [
    "## Filter by basic QC metrics"
   ]
  },
  {
   "cell_type": "code",
   "execution_count": null,
   "metadata": {},
   "outputs": [],
   "source": [
    "judges = []\n",
    "for col, (vmin, vmax) in qc_metric.items():\n",
    "    judge = (cell_meta[col] >= vmin) & (cell_meta[col] <= vmax)\n",
    "    print(\n",
    "        f'{col} passed {judge.sum()}/{judge.size} ({(100*judge.sum()/judge.size):.1f}%)'\n",
    "    )\n",
    "    judges.append(judge)\n",
    "cell_meta['PassFilter'] = np.all(judges, axis=0)\n",
    "\n",
    "total_number = cell_meta['PassFilter'].sum()\n",
    "print(\n",
    "    f'Overall passed {total_number}/{judge.size} ({(100*total_number/cell_meta.shape[0]):.1f}%)'\n",
    ")"
   ]
  },
  {
   "cell_type": "code",
   "execution_count": null,
   "metadata": {},
   "outputs": [],
   "source": [
    "cell_meta.to_msgpack('CellMetadata.AfterQC.msg')"
   ]
  },
  {
   "cell_type": "markdown",
   "metadata": {},
   "source": [
    "## Other Stats"
   ]
  },
  {
   "cell_type": "code",
   "execution_count": null,
   "metadata": {
    "scrolled": true
   },
   "outputs": [],
   "source": [
    "print('Cells pass basic QC in each batch:')\n",
    "for k, v in cell_meta.groupby('FACS_Date')['PassFilter'].sum().astype(\n",
    "        int).items():\n",
    "    print(k, v)"
   ]
  },
  {
   "cell_type": "code",
   "execution_count": null,
   "metadata": {},
   "outputs": [],
   "source": [
    "print('Cells pass basic QC in each random index:')\n",
    "for k, v in cell_meta.groupby('index_name')['PassFilter'].sum().astype(\n",
    "        int).items():\n",
    "    print(k, v, f'{v/3.84:.1f}%')"
   ]
  },
  {
   "cell_type": "markdown",
   "metadata": {},
   "source": [
    "## Plateview of key metrics"
   ]
  },
  {
   "cell_type": "code",
   "execution_count": null,
   "metadata": {},
   "outputs": [],
   "source": [
    "if plate_view:\n",
    "    fig, axes = plot_on_plate(cell_meta,\n",
    "                              'FinalReads',\n",
    "                              'Plate',\n",
    "                              vmin=5e5,\n",
    "                              vmax=3e6,\n",
    "                              heatmap_kws={\n",
    "                                  'linewidth': 0,\n",
    "                                  'linecolor': '#EEEEEE'\n",
    "                              },\n",
    "                              aggregation_func=lambda i: i.mean())\n",
    "    fig.savefig(fig_dir / f'384plate.FinalReads.pdf')"
   ]
  },
  {
   "cell_type": "code",
   "execution_count": null,
   "metadata": {},
   "outputs": [],
   "source": [
    "if plate_view:\n",
    "    fig, axes = plot_on_plate(cell_meta,\n",
    "                              'CG_RateAdj',\n",
    "                              'Plate',\n",
    "                              vmin=0.65,\n",
    "                              vmax=0.85,\n",
    "                              heatmap_kws={\n",
    "                                  'linewidth': 0,\n",
    "                                  'linecolor': '#EEEEEE'\n",
    "                              },\n",
    "                              aggregation_func=lambda i: i.mean())\n",
    "    fig.savefig(fig_dir / f'384plate.CG_RateAdj.pdf')"
   ]
  },
  {
   "cell_type": "code",
   "execution_count": null,
   "metadata": {
    "scrolled": true
   },
   "outputs": [],
   "source": [
    "if plate_view:\n",
    "    fig, axes = plot_on_plate(cell_meta,\n",
    "                              'CH_RateAdj',\n",
    "                              'Plate',\n",
    "                              vmin=0,\n",
    "                              vmax=0.05,\n",
    "                              heatmap_kws={\n",
    "                                  'linewidth': 0,\n",
    "                                  'linecolor': '#EEEEEE'\n",
    "                              },\n",
    "                              aggregation_func=lambda i: i.mean())\n",
    "    fig.savefig(fig_dir / f'384plate.CH_RateAdj.pdf')"
   ]
  },
  {
   "cell_type": "code",
   "execution_count": null,
   "metadata": {},
   "outputs": [],
   "source": [
    "cell_meta"
   ]
  },
  {
   "cell_type": "code",
   "execution_count": null,
   "metadata": {},
   "outputs": [],
   "source": []
  }
 ],
 "metadata": {
  "hide_input": false,
  "kernelspec": {
   "display_name": "Python 3",
   "language": "python",
   "name": "python3"
  },
  "language_info": {
   "codemirror_mode": {
    "name": "ipython",
    "version": 3
   },
   "file_extension": ".py",
   "mimetype": "text/x-python",
   "name": "python",
   "nbconvert_exporter": "python",
   "pygments_lexer": "ipython3",
   "version": "3.7.3"
  },
  "toc": {
   "base_numbering": 1,
   "nav_menu": {},
   "number_sections": true,
   "sideBar": true,
   "skip_h1_title": true,
   "title_cell": "Table of Contents",
   "title_sidebar": "Contents",
   "toc_cell": true,
   "toc_position": {},
   "toc_section_display": true,
   "toc_window_display": true
  }
 },
 "nbformat": 4,
 "nbformat_minor": 2
}
