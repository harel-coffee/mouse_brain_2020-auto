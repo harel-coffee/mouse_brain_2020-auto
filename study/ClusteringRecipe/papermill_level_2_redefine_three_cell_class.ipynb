{
 "cells": [
  {
   "cell_type": "markdown",
   "metadata": {
    "toc": true
   },
   "source": [
    "<h1>Table of Contents<span class=\"tocSkip\"></span></h1>\n",
    "<div class=\"toc\"><ul class=\"toc-item\"><li><span><a href=\"#Only-use-this-to-remake-UMAP-of-three-cell-class\" data-toc-modified-id=\"Only-use-this-to-remake-UMAP-of-three-cell-class-1\"><span class=\"toc-item-num\">1&nbsp;&nbsp;</span>Only use this to remake UMAP of three cell class</a></span></li><li><span><a href=\"#Prepare\" data-toc-modified-id=\"Prepare-2\"><span class=\"toc-item-num\">2&nbsp;&nbsp;</span>Prepare</a></span><ul class=\"toc-item\"><li><span><a href=\"#Create-Study-Dir\" data-toc-modified-id=\"Create-Study-Dir-2.1\"><span class=\"toc-item-num\">2.1&nbsp;&nbsp;</span>Create Study Dir</a></span></li><li><span><a href=\"#Select-Cells\" data-toc-modified-id=\"Select-Cells-2.2\"><span class=\"toc-item-num\">2.2&nbsp;&nbsp;</span>Select Cells</a></span></li></ul></li><li><span><a href=\"#Step-0-Cell-Basic-QC\" data-toc-modified-id=\"Step-0-Cell-Basic-QC-3\"><span class=\"toc-item-num\">3&nbsp;&nbsp;</span>Step 0 Cell Basic QC</a></span></li><li><span><a href=\"#Step-1-Prepare-Adata\" data-toc-modified-id=\"Step-1-Prepare-Adata-4\"><span class=\"toc-item-num\">4&nbsp;&nbsp;</span>Step 1 Prepare Adata</a></span></li><li><span><a href=\"#Step-2-Dimension-Reduction\" data-toc-modified-id=\"Step-2-Dimension-Reduction-5\"><span class=\"toc-item-num\">5&nbsp;&nbsp;</span>Step 2 Dimension Reduction</a></span></li></ul></div>"
   ]
  },
  {
   "cell_type": "markdown",
   "metadata": {},
   "source": [
    "## Only use this to remake UMAP of three cell class"
   ]
  },
  {
   "cell_type": "code",
   "execution_count": 1,
   "metadata": {
    "ExecuteTime": {
     "end_time": "2019-11-21T09:44:53.350572Z",
     "start_time": "2019-11-21T09:44:52.781920Z"
    }
   },
   "outputs": [],
   "source": [
    "from papermill import execute_notebook, PapermillExecutionError\n",
    "import pandas as pd\n",
    "import pathlib\n",
    "import numpy as np"
   ]
  },
  {
   "cell_type": "code",
   "execution_count": 2,
   "metadata": {
    "ExecuteTime": {
     "end_time": "2019-11-21T09:44:53.355195Z",
     "start_time": "2019-11-21T09:44:53.352747Z"
    }
   },
   "outputs": [],
   "source": [
    "study_name = 'NonN'"
   ]
  },
  {
   "cell_type": "code",
   "execution_count": 3,
   "metadata": {
    "ExecuteTime": {
     "end_time": "2019-11-21T09:44:53.360412Z",
     "start_time": "2019-11-21T09:44:53.356788Z"
    }
   },
   "outputs": [],
   "source": [
    "total_cell_meta_path = '/home/hanliu/project/mouse_rostral_brain/metadata/CellMeta.122687.Raw.msg'\n",
    "annotation_table_path = '/home/hanliu/project/mouse_rostral_brain/study/ClusteringSummary/Summary/TotalClusteringResults.msg'\n",
    "template_dir = '/home/hanliu/project/mouse_rostral_brain/study/ClusteringRecipe/'\n",
    "study_dir = f'/home/hanliu/project/mouse_rostral_brain/study/ThreeCellClass/{study_name}'\n",
    "dataset_dir = '/home/hanliu/project/mouse_rostral_brain/dataset/'"
   ]
  },
  {
   "cell_type": "markdown",
   "metadata": {},
   "source": [
    "## Prepare"
   ]
  },
  {
   "cell_type": "markdown",
   "metadata": {},
   "source": [
    "### Create Study Dir"
   ]
  },
  {
   "cell_type": "code",
   "execution_count": 4,
   "metadata": {
    "ExecuteTime": {
     "end_time": "2019-11-21T09:44:53.951663Z",
     "start_time": "2019-11-21T09:44:53.362244Z"
    }
   },
   "outputs": [
    {
     "name": "stderr",
     "output_type": "stream",
     "text": [
      "/home/hanliu/miniconda3/envs/clustering/lib/python3.7/site-packages/IPython/core/interactiveshell.py:3326: FutureWarning: The read_msgpack is deprecated and will be removed in a future version.\n",
      "It is recommended to use pyarrow for on-the-wire transmission of pandas objects.\n",
      "  exec(code_obj, self.user_global_ns, self.user_ns)\n"
     ]
    }
   ],
   "source": [
    "total_cell_meta = pd.read_msgpack(total_cell_meta_path)\n",
    "cell_annotation = pd.read_msgpack(annotation_table_path).reindex(total_cell_meta.index)\n",
    "study_dir = pathlib.Path(study_dir)\n",
    "study_dir.mkdir(exist_ok=True)\n",
    "dataset_dir = pathlib.Path(dataset_dir)"
   ]
  },
  {
   "cell_type": "markdown",
   "metadata": {},
   "source": [
    "### Select Cells"
   ]
  },
  {
   "cell_type": "code",
   "execution_count": 5,
   "metadata": {
    "ExecuteTime": {
     "end_time": "2019-11-21T09:44:53.955963Z",
     "start_time": "2019-11-21T09:44:53.953560Z"
    }
   },
   "outputs": [],
   "source": [
    "selection_dict = {\n",
    "    'CellClass': [study_name]\n",
    "}"
   ]
  },
  {
   "cell_type": "code",
   "execution_count": 6,
   "metadata": {
    "ExecuteTime": {
     "end_time": "2019-11-21T09:44:53.985637Z",
     "start_time": "2019-11-21T09:44:53.957479Z"
    }
   },
   "outputs": [],
   "source": [
    "judges = []\n",
    "for col, vals in selection_dict.items():\n",
    "    judges.append(cell_annotation[col].isin(vals))\n",
    "total_judge = np.all(judges, axis=0)"
   ]
  },
  {
   "cell_type": "code",
   "execution_count": 7,
   "metadata": {
    "ExecuteTime": {
     "end_time": "2019-11-21T09:44:54.014604Z",
     "start_time": "2019-11-21T09:44:53.987552Z"
    }
   },
   "outputs": [
    {
     "name": "stderr",
     "output_type": "stream",
     "text": [
      "/home/hanliu/miniconda3/envs/clustering/lib/python3.7/site-packages/ipykernel_launcher.py:3: FutureWarning: to_msgpack is deprecated and will be removed in a future version.\n",
      "It is recommended to use pyarrow for on-the-wire transmission of pandas objects.\n",
      "  This is separate from the ipykernel package so we can avoid doing imports until\n"
     ]
    }
   ],
   "source": [
    "select_cell_meta = total_cell_meta[total_judge]\n",
    "cell_meta_path = study_dir / 'CellMetadata.msg'\n",
    "select_cell_meta.to_msgpack(cell_meta_path)"
   ]
  },
  {
   "cell_type": "code",
   "execution_count": 8,
   "metadata": {
    "ExecuteTime": {
     "end_time": "2019-11-21T09:44:54.044310Z",
     "start_time": "2019-11-21T09:44:54.017403Z"
    }
   },
   "outputs": [
    {
     "name": "stdout",
     "output_type": "stream",
     "text": [
      "(8167, 22)\n"
     ]
    },
    {
     "data": {
      "text/html": [
       "<div>\n",
       "<style scoped>\n",
       "    .dataframe tbody tr th:only-of-type {\n",
       "        vertical-align: middle;\n",
       "    }\n",
       "\n",
       "    .dataframe tbody tr th {\n",
       "        vertical-align: top;\n",
       "    }\n",
       "\n",
       "    .dataframe thead th {\n",
       "        text-align: right;\n",
       "    }\n",
       "</style>\n",
       "<table border=\"1\" class=\"dataframe\">\n",
       "  <thead>\n",
       "    <tr style=\"text-align: right;\">\n",
       "      <th></th>\n",
       "      <th>AllcPath</th>\n",
       "      <th>CCC_Rate</th>\n",
       "      <th>CG_Rate</th>\n",
       "      <th>CG_RateAdj</th>\n",
       "      <th>CH_Rate</th>\n",
       "      <th>CH_RateAdj</th>\n",
       "      <th>FinalReads</th>\n",
       "      <th>InputReads</th>\n",
       "      <th>MappedReads</th>\n",
       "      <th>Region</th>\n",
       "      <th>...</th>\n",
       "      <th>BamFilteringRate</th>\n",
       "      <th>MappingRate</th>\n",
       "      <th>Pos96</th>\n",
       "      <th>Plate</th>\n",
       "      <th>Col96</th>\n",
       "      <th>Row96</th>\n",
       "      <th>Col384</th>\n",
       "      <th>Row384</th>\n",
       "      <th>FACS_Date</th>\n",
       "      <th>Slice</th>\n",
       "    </tr>\n",
       "    <tr>\n",
       "      <th>cell</th>\n",
       "      <th></th>\n",
       "      <th></th>\n",
       "      <th></th>\n",
       "      <th></th>\n",
       "      <th></th>\n",
       "      <th></th>\n",
       "      <th></th>\n",
       "      <th></th>\n",
       "      <th></th>\n",
       "      <th></th>\n",
       "      <th></th>\n",
       "      <th></th>\n",
       "      <th></th>\n",
       "      <th></th>\n",
       "      <th></th>\n",
       "      <th></th>\n",
       "      <th></th>\n",
       "      <th></th>\n",
       "      <th></th>\n",
       "      <th></th>\n",
       "      <th></th>\n",
       "    </tr>\n",
       "  </thead>\n",
       "  <tbody>\n",
       "    <tr>\n",
       "      <th>10E_M_116</th>\n",
       "      <td>/gale/raidix/rdx-4/mapping/10E/CEMBA190625-10E...</td>\n",
       "      <td>0.004406</td>\n",
       "      <td>0.745677</td>\n",
       "      <td>0.744551</td>\n",
       "      <td>0.012093</td>\n",
       "      <td>0.007720</td>\n",
       "      <td>1352223.0</td>\n",
       "      <td>3406212</td>\n",
       "      <td>2175142.0</td>\n",
       "      <td>10E</td>\n",
       "      <td>...</td>\n",
       "      <td>0.621671</td>\n",
       "      <td>0.638581</td>\n",
       "      <td>B12</td>\n",
       "      <td>CEMBA190625-10E-1</td>\n",
       "      <td>11</td>\n",
       "      <td>1</td>\n",
       "      <td>22</td>\n",
       "      <td>2</td>\n",
       "      <td>190625</td>\n",
       "      <td>10</td>\n",
       "    </tr>\n",
       "    <tr>\n",
       "      <th>10E_M_117</th>\n",
       "      <td>/gale/raidix/rdx-4/mapping/10E/CEMBA190625-10E...</td>\n",
       "      <td>0.003866</td>\n",
       "      <td>0.649548</td>\n",
       "      <td>0.648188</td>\n",
       "      <td>0.006675</td>\n",
       "      <td>0.002820</td>\n",
       "      <td>1647058.0</td>\n",
       "      <td>4158780</td>\n",
       "      <td>2705736.0</td>\n",
       "      <td>10E</td>\n",
       "      <td>...</td>\n",
       "      <td>0.608728</td>\n",
       "      <td>0.650608</td>\n",
       "      <td>B12</td>\n",
       "      <td>CEMBA190625-10E-1</td>\n",
       "      <td>11</td>\n",
       "      <td>1</td>\n",
       "      <td>22</td>\n",
       "      <td>3</td>\n",
       "      <td>190625</td>\n",
       "      <td>10</td>\n",
       "    </tr>\n",
       "    <tr>\n",
       "      <th>10E_M_118</th>\n",
       "      <td>/gale/raidix/rdx-4/mapping/10E/CEMBA190625-10E...</td>\n",
       "      <td>0.004403</td>\n",
       "      <td>0.741310</td>\n",
       "      <td>0.740166</td>\n",
       "      <td>0.011342</td>\n",
       "      <td>0.006970</td>\n",
       "      <td>1288597.0</td>\n",
       "      <td>3384916</td>\n",
       "      <td>2114331.0</td>\n",
       "      <td>10E</td>\n",
       "      <td>...</td>\n",
       "      <td>0.609459</td>\n",
       "      <td>0.624633</td>\n",
       "      <td>B12</td>\n",
       "      <td>CEMBA190625-10E-1</td>\n",
       "      <td>11</td>\n",
       "      <td>1</td>\n",
       "      <td>23</td>\n",
       "      <td>2</td>\n",
       "      <td>190625</td>\n",
       "      <td>10</td>\n",
       "    </tr>\n",
       "    <tr>\n",
       "      <th>10E_M_119</th>\n",
       "      <td>/gale/raidix/rdx-4/mapping/10E/CEMBA190625-10E...</td>\n",
       "      <td>0.004510</td>\n",
       "      <td>0.757342</td>\n",
       "      <td>0.756242</td>\n",
       "      <td>0.011958</td>\n",
       "      <td>0.007482</td>\n",
       "      <td>1539349.0</td>\n",
       "      <td>3958192</td>\n",
       "      <td>2505673.0</td>\n",
       "      <td>10E</td>\n",
       "      <td>...</td>\n",
       "      <td>0.614346</td>\n",
       "      <td>0.633035</td>\n",
       "      <td>B12</td>\n",
       "      <td>CEMBA190625-10E-1</td>\n",
       "      <td>11</td>\n",
       "      <td>1</td>\n",
       "      <td>23</td>\n",
       "      <td>3</td>\n",
       "      <td>190625</td>\n",
       "      <td>10</td>\n",
       "    </tr>\n",
       "    <tr>\n",
       "      <th>10E_M_120</th>\n",
       "      <td>/gale/raidix/rdx-4/mapping/10E/CEMBA190625-10E...</td>\n",
       "      <td>0.004477</td>\n",
       "      <td>0.746806</td>\n",
       "      <td>0.745667</td>\n",
       "      <td>0.012476</td>\n",
       "      <td>0.008035</td>\n",
       "      <td>1909841.0</td>\n",
       "      <td>4821680</td>\n",
       "      <td>3145700.0</td>\n",
       "      <td>10E</td>\n",
       "      <td>...</td>\n",
       "      <td>0.607128</td>\n",
       "      <td>0.652407</td>\n",
       "      <td>B12</td>\n",
       "      <td>CEMBA190625-10E-2</td>\n",
       "      <td>11</td>\n",
       "      <td>1</td>\n",
       "      <td>22</td>\n",
       "      <td>2</td>\n",
       "      <td>190625</td>\n",
       "      <td>10</td>\n",
       "    </tr>\n",
       "  </tbody>\n",
       "</table>\n",
       "<p>5 rows × 22 columns</p>\n",
       "</div>"
      ],
      "text/plain": [
       "                                                    AllcPath  CCC_Rate  \\\n",
       "cell                                                                     \n",
       "10E_M_116  /gale/raidix/rdx-4/mapping/10E/CEMBA190625-10E...  0.004406   \n",
       "10E_M_117  /gale/raidix/rdx-4/mapping/10E/CEMBA190625-10E...  0.003866   \n",
       "10E_M_118  /gale/raidix/rdx-4/mapping/10E/CEMBA190625-10E...  0.004403   \n",
       "10E_M_119  /gale/raidix/rdx-4/mapping/10E/CEMBA190625-10E...  0.004510   \n",
       "10E_M_120  /gale/raidix/rdx-4/mapping/10E/CEMBA190625-10E...  0.004477   \n",
       "\n",
       "            CG_Rate  CG_RateAdj   CH_Rate  CH_RateAdj  FinalReads  InputReads  \\\n",
       "cell                                                                            \n",
       "10E_M_116  0.745677    0.744551  0.012093    0.007720   1352223.0     3406212   \n",
       "10E_M_117  0.649548    0.648188  0.006675    0.002820   1647058.0     4158780   \n",
       "10E_M_118  0.741310    0.740166  0.011342    0.006970   1288597.0     3384916   \n",
       "10E_M_119  0.757342    0.756242  0.011958    0.007482   1539349.0     3958192   \n",
       "10E_M_120  0.746806    0.745667  0.012476    0.008035   1909841.0     4821680   \n",
       "\n",
       "           MappedReads Region  ... BamFilteringRate MappingRate  Pos96  \\\n",
       "cell                           ...                                       \n",
       "10E_M_116    2175142.0    10E  ...         0.621671    0.638581    B12   \n",
       "10E_M_117    2705736.0    10E  ...         0.608728    0.650608    B12   \n",
       "10E_M_118    2114331.0    10E  ...         0.609459    0.624633    B12   \n",
       "10E_M_119    2505673.0    10E  ...         0.614346    0.633035    B12   \n",
       "10E_M_120    3145700.0    10E  ...         0.607128    0.652407    B12   \n",
       "\n",
       "                       Plate Col96 Row96  Col384  Row384  FACS_Date  Slice  \n",
       "cell                                                                        \n",
       "10E_M_116  CEMBA190625-10E-1    11     1      22       2     190625     10  \n",
       "10E_M_117  CEMBA190625-10E-1    11     1      22       3     190625     10  \n",
       "10E_M_118  CEMBA190625-10E-1    11     1      23       2     190625     10  \n",
       "10E_M_119  CEMBA190625-10E-1    11     1      23       3     190625     10  \n",
       "10E_M_120  CEMBA190625-10E-2    11     1      22       2     190625     10  \n",
       "\n",
       "[5 rows x 22 columns]"
      ]
     },
     "execution_count": 8,
     "metadata": {},
     "output_type": "execute_result"
    }
   ],
   "source": [
    "print(select_cell_meta.shape)\n",
    "select_cell_meta.head()"
   ]
  },
  {
   "cell_type": "markdown",
   "metadata": {},
   "source": [
    "## Step 0 Cell Basic QC"
   ]
  },
  {
   "cell_type": "code",
   "execution_count": 9,
   "metadata": {
    "ExecuteTime": {
     "end_time": "2019-11-21T09:44:54.047895Z",
     "start_time": "2019-11-21T09:44:54.045691Z"
    }
   },
   "outputs": [],
   "source": [
    "# 0-CellBasicQC.ipynb\n",
    "step_0_params = dict(\n",
    "    study_name=study_name,\n",
    "    cell_metadata_path=str(cell_meta_path),\n",
    ")"
   ]
  },
  {
   "cell_type": "code",
   "execution_count": 10,
   "metadata": {
    "ExecuteTime": {
     "end_time": "2019-11-21T09:45:01.210106Z",
     "start_time": "2019-11-21T09:44:54.049191Z"
    },
    "scrolled": false
   },
   "outputs": [
    {
     "data": {
      "application/vnd.jupyter.widget-view+json": {
       "model_id": "8e826567d8e149be9e4448b274ed3d69",
       "version_major": 2,
       "version_minor": 0
      },
      "text/plain": [
       "HBox(children=(IntProgress(value=0, max=28), HTML(value='')))"
      ]
     },
     "metadata": {},
     "output_type": "display_data"
    },
    {
     "name": "stdout",
     "output_type": "stream",
     "text": [
      "\n"
     ]
    }
   ],
   "source": [
    "input_path = '0-CellBasicQC.ipynb'\n",
    "output_path = study_dir / '0-CellBasicQC.ipynb'\n",
    "execute_notebook(\n",
    "    str(input_path),\n",
    "    str(output_path),\n",
    "    parameters=step_0_params,\n",
    "    engine_name=None,\n",
    "    prepare_only=False,\n",
    "    kernel_name=None,\n",
    "    progress_bar=True,\n",
    "    log_output=False,\n",
    "    start_timeout=60,\n",
    "    report_mode=False,\n",
    "    cwd=str(study_dir))\n",
    "pass"
   ]
  },
  {
   "cell_type": "markdown",
   "metadata": {},
   "source": [
    "## Step 1 Prepare Adata"
   ]
  },
  {
   "cell_type": "code",
   "execution_count": 11,
   "metadata": {
    "ExecuteTime": {
     "end_time": "2019-11-21T09:45:01.217437Z",
     "start_time": "2019-11-21T09:45:01.211724Z"
    }
   },
   "outputs": [],
   "source": [
    "step_1_params = dict(\n",
    "    # parameters cell\n",
    "    in_memory=False,\n",
    "    dask_distribute=True,\n",
    "\n",
    "    # selected cell metadata path\n",
    "    cell_meta_path=str(study_dir / 'CellMetadata.AfterQC.msg'),\n",
    "\n",
    "    # mcds_path\n",
    "    mcds_path_list=[str(i) for i in dataset_dir.glob('*mcds')],\n",
    "    clustering_feature='chrom100k',  # usually 100kb chromosome bins or genes\n",
    "\n",
    "    # remove bad features\n",
    "    black_list_region=None,\n",
    "    exclude_chromosome=['chrY', 'chrM'],\n",
    "\n",
    "    # preprocess parameters\n",
    "    min_feature_cov=500,\n",
    "    max_feature_cov=3000,\n",
    "    ch_hvf_top=3000,\n",
    "    min_ch_hvf_mean=0.5,\n",
    "    max_ch_hvf_mean=2.5,\n",
    "    cg_hvf_top=3000,\n",
    "    min_cg_hvf_mean=0.5,\n",
    "    max_cg_hvf_mean=1.2,\n",
    "    generate_gene_rate=False)"
   ]
  },
  {
   "cell_type": "code",
   "execution_count": 12,
   "metadata": {
    "ExecuteTime": {
     "end_time": "2019-11-21T09:49:50.819236Z",
     "start_time": "2019-11-21T09:45:01.218813Z"
    }
   },
   "outputs": [
    {
     "data": {
      "application/vnd.jupyter.widget-view+json": {
       "model_id": "967c74ec9e884274ac77e13a62aa6ded",
       "version_major": 2,
       "version_minor": 0
      },
      "text/plain": [
       "HBox(children=(IntProgress(value=0, max=44), HTML(value='')))"
      ]
     },
     "metadata": {},
     "output_type": "display_data"
    },
    {
     "name": "stdout",
     "output_type": "stream",
     "text": [
      "\n"
     ]
    }
   ],
   "source": [
    "input_path = '1-PrepareAdata.ipynb'\n",
    "output_path = study_dir / '1-PrepareAdata.ipynb'\n",
    "execute_notebook(\n",
    "    str(input_path),\n",
    "    str(output_path),\n",
    "    parameters=step_1_params,\n",
    "    engine_name=None,\n",
    "    prepare_only=False,\n",
    "    kernel_name=None,\n",
    "    progress_bar=True,\n",
    "    log_output=False,\n",
    "    start_timeout=60,\n",
    "    report_mode=False,\n",
    "    cwd=str(study_dir))\n",
    "pass"
   ]
  },
  {
   "cell_type": "markdown",
   "metadata": {},
   "source": [
    "## Step 2 Dimension Reduction"
   ]
  },
  {
   "cell_type": "code",
   "execution_count": 13,
   "metadata": {
    "ExecuteTime": {
     "end_time": "2019-11-21T09:49:50.824367Z",
     "start_time": "2019-11-21T09:49:50.820732Z"
    }
   },
   "outputs": [],
   "source": [
    "step_2_params = dict(\n",
    "    ch_pc_components=25,\n",
    "    cg_pc_components=15,\n",
    "    pc_color_col=None,\n",
    "    batch_correction_col=None,\n",
    "    sigma=15,\n",
    "    alpha=0.1,\n",
    "    scanorama_k=25,\n",
    "    n_neighbors=25,\n",
    "    resolution=0.8,\n",
    "    perplexity=50,\n",
    "    metadata_category_cols=['Region'],\n",
    "    metadata_continue_cols=['CG_RateAdj', 'CH_RateAdj', 'FinalReads'])"
   ]
  },
  {
   "cell_type": "code",
   "execution_count": 14,
   "metadata": {
    "ExecuteTime": {
     "end_time": "2019-11-21T09:49:50.946011Z",
     "start_time": "2019-11-21T09:49:50.825697Z"
    }
   },
   "outputs": [],
   "source": [
    "input_path = '2-DimensionReduction.ipynb'\n",
    "output_path = study_dir / '2-DimensionReduction.ipynb'\n",
    "execute_notebook(\n",
    "    str(input_path),\n",
    "    str(output_path),\n",
    "    parameters=step_2_params,\n",
    "    engine_name=None,\n",
    "    prepare_only=True,\n",
    "    kernel_name=None,\n",
    "    progress_bar=True,\n",
    "    log_output=False,\n",
    "    start_timeout=60,\n",
    "    report_mode=False,\n",
    "    cwd=str(study_dir))\n",
    "pass"
   ]
  },
  {
   "cell_type": "code",
   "execution_count": null,
   "metadata": {},
   "outputs": [],
   "source": []
  }
 ],
 "metadata": {
  "hide_input": false,
  "kernelspec": {
   "display_name": "Python 3",
   "language": "python",
   "name": "python3"
  },
  "language_info": {
   "codemirror_mode": {
    "name": "ipython",
    "version": 3
   },
   "file_extension": ".py",
   "mimetype": "text/x-python",
   "name": "python",
   "nbconvert_exporter": "python",
   "pygments_lexer": "ipython3",
   "version": "3.7.3"
  },
  "toc": {
   "base_numbering": 1,
   "nav_menu": {},
   "number_sections": true,
   "sideBar": true,
   "skip_h1_title": true,
   "title_cell": "Table of Contents",
   "title_sidebar": "Contents",
   "toc_cell": true,
   "toc_position": {},
   "toc_section_display": true,
   "toc_window_display": true
  }
 },
 "nbformat": 4,
 "nbformat_minor": 2
}
