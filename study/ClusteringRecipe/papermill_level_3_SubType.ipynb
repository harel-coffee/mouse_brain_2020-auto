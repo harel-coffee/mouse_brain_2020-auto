{
 "cells": [
  {
   "cell_type": "markdown",
   "metadata": {
    "toc": true
   },
   "source": [
    "<h1>Table of Contents<span class=\"tocSkip\"></span></h1>\n",
    "<div class=\"toc\"><ul class=\"toc-item\"><li><span><a href=\"#Prepare\" data-toc-modified-id=\"Prepare-1\"><span class=\"toc-item-num\">1&nbsp;&nbsp;</span>Prepare</a></span><ul class=\"toc-item\"><li><span><a href=\"#Create-Study-Dir\" data-toc-modified-id=\"Create-Study-Dir-1.1\"><span class=\"toc-item-num\">1.1&nbsp;&nbsp;</span>Create Study Dir</a></span></li><li><span><a href=\"#Select-Cells\" data-toc-modified-id=\"Select-Cells-1.2\"><span class=\"toc-item-num\">1.2&nbsp;&nbsp;</span>Select Cells</a></span></li></ul></li><li><span><a href=\"#Step-0-Cell-Basic-QC\" data-toc-modified-id=\"Step-0-Cell-Basic-QC-2\"><span class=\"toc-item-num\">2&nbsp;&nbsp;</span>Step 0 Cell Basic QC</a></span></li><li><span><a href=\"#Step-1-Prepare-Adata\" data-toc-modified-id=\"Step-1-Prepare-Adata-3\"><span class=\"toc-item-num\">3&nbsp;&nbsp;</span>Step 1 Prepare Adata</a></span></li><li><span><a href=\"#Step-2-Dimension-Reduction\" data-toc-modified-id=\"Step-2-Dimension-Reduction-4\"><span class=\"toc-item-num\">4&nbsp;&nbsp;</span>Step 2 Dimension Reduction</a></span></li><li><span><a href=\"#Step-3-Consensus-Clustering\" data-toc-modified-id=\"Step-3-Consensus-Clustering-5\"><span class=\"toc-item-num\">5&nbsp;&nbsp;</span>Step 3 Consensus Clustering</a></span></li><li><span><a href=\"#Step-4-Marker-Identification\" data-toc-modified-id=\"Step-4-Marker-Identification-6\"><span class=\"toc-item-num\">6&nbsp;&nbsp;</span>Step 4 Marker Identification</a></span></li><li><span><a href=\"#Step-5-Cluster-Manual-Annotation\" data-toc-modified-id=\"Step-5-Cluster-Manual-Annotation-7\"><span class=\"toc-item-num\">7&nbsp;&nbsp;</span>Step 5 Cluster Manual Annotation</a></span></li><li><span><a href=\"#Step-6-Plot-Brain-Region\" data-toc-modified-id=\"Step-6-Plot-Brain-Region-8\"><span class=\"toc-item-num\">8&nbsp;&nbsp;</span>Step 6 Plot Brain Region</a></span></li></ul></div>"
   ]
  },
  {
   "cell_type": "code",
   "execution_count": 1,
   "metadata": {
    "ExecuteTime": {
     "end_time": "2019-10-18T07:05:51.195509Z",
     "start_time": "2019-10-18T07:05:50.658504Z"
    }
   },
   "outputs": [],
   "source": [
    "from papermill import execute_notebook, PapermillExecutionError\n",
    "import pandas as pd\n",
    "import pathlib\n",
    "import numpy as np"
   ]
  },
  {
   "cell_type": "code",
   "execution_count": 2,
   "metadata": {
    "ExecuteTime": {
     "end_time": "2019-10-18T07:05:51.200166Z",
     "start_time": "2019-10-18T07:05:51.197664Z"
    }
   },
   "outputs": [],
   "source": [
    "total_cell_meta_path = '/home/hanliu/project/mouse_rostral_brain/study/ClusteringSummary/Summary/TotalClusteringResults.msg'\n",
    "template_dir = '/home/hanliu/project/mouse_rostral_brain/study/ClusteringRecipe/'\n",
    "dataset_dir = '/home/hanliu/project/mouse_rostral_brain/dataset/'"
   ]
  },
  {
   "cell_type": "markdown",
   "metadata": {},
   "source": [
    "## Prepare"
   ]
  },
  {
   "cell_type": "markdown",
   "metadata": {},
   "source": [
    "### Create Study Dir"
   ]
  },
  {
   "cell_type": "code",
   "execution_count": 3,
   "metadata": {
    "ExecuteTime": {
     "end_time": "2019-10-18T07:05:51.436587Z",
     "start_time": "2019-10-18T07:05:51.201621Z"
    }
   },
   "outputs": [
    {
     "name": "stderr",
     "output_type": "stream",
     "text": [
      "/home/hanliu/miniconda3/envs/clustering/lib/python3.7/site-packages/IPython/core/interactiveshell.py:3326: FutureWarning: The read_msgpack is deprecated and will be removed in a future version.\n",
      "It is recommended to use pyarrow for on-the-wire transmission of pandas objects.\n",
      "  exec(code_obj, self.user_global_ns, self.user_ns)\n"
     ]
    },
    {
     "data": {
      "text/plain": [
       "array(['MGE-Sst', 'CA3', 'CA1', 'CA3-St18', 'Unc5c', 'Gfra1', 'ODC', 'PC',\n",
       "       'ANP', 'IT-L5', 'NP-L6', 'CGE-Lamp5', 'CT-L6', 'IG-CA2', 'DG-po',\n",
       "       'DG', 'CGE-Vip', 'Outlier', 'OPC', 'ASC', 'MGC', 'PAL-Inh',\n",
       "       'PT-L5', 'MGE-Pvalb', 'VLMC', 'EC', 'VLMC-Pia', 'OLF', 'MSN-D2',\n",
       "       'L6b', 'IT-L6', 'IT-L23', 'IT-L4', 'OLF-Exc', 'CLA', 'Foxp2',\n",
       "       'MSN-D1', 'LSX-Inh', 'D1L-Fstl4', 'EP', 'D1L-PAL', 'Chd7'],\n",
       "      dtype=object)"
      ]
     },
     "execution_count": 3,
     "metadata": {},
     "output_type": "execute_result"
    }
   ],
   "source": [
    "total_cell_meta = pd.read_msgpack(total_cell_meta_path)\n",
    "total_cell_meta['MajorType'].unique()"
   ]
  },
  {
   "cell_type": "code",
   "execution_count": 4,
   "metadata": {
    "ExecuteTime": {
     "end_time": "2019-10-18T07:05:51.441616Z",
     "start_time": "2019-10-18T07:05:51.438120Z"
    }
   },
   "outputs": [],
   "source": [
    "study_name = 'D1L-PAL'\n",
    "\n",
    "selection_dict = {\n",
    "    'MajorType': ['D1L-PAL']\n",
    "}\n",
    "\n",
    "\n",
    "study_dir = f'/home/hanliu/project/mouse_rostral_brain/study/Level3-SubCellType/{study_name}'\n",
    "study_dir = pathlib.Path(study_dir)\n",
    "study_dir.mkdir(exist_ok=True)\n",
    "dataset_dir = pathlib.Path(dataset_dir)"
   ]
  },
  {
   "cell_type": "markdown",
   "metadata": {},
   "source": [
    "### Select Cells"
   ]
  },
  {
   "cell_type": "code",
   "execution_count": 5,
   "metadata": {
    "ExecuteTime": {
     "end_time": "2019-10-18T07:05:51.468507Z",
     "start_time": "2019-10-18T07:05:51.442986Z"
    }
   },
   "outputs": [],
   "source": [
    "judges = []\n",
    "for col, vals in selection_dict.items():\n",
    "    judges.append(total_cell_meta[col].isin(vals))\n",
    "total_judge = np.all(judges, axis=0)"
   ]
  },
  {
   "cell_type": "code",
   "execution_count": 6,
   "metadata": {
    "ExecuteTime": {
     "end_time": "2019-10-18T07:05:51.477140Z",
     "start_time": "2019-10-18T07:05:51.470641Z"
    }
   },
   "outputs": [
    {
     "name": "stderr",
     "output_type": "stream",
     "text": [
      "/home/hanliu/miniconda3/envs/clustering/lib/python3.7/site-packages/ipykernel_launcher.py:3: FutureWarning: to_msgpack is deprecated and will be removed in a future version.\n",
      "It is recommended to use pyarrow for on-the-wire transmission of pandas objects.\n",
      "  This is separate from the ipykernel package so we can avoid doing imports until\n"
     ]
    }
   ],
   "source": [
    "select_cell_meta = total_cell_meta[total_judge]\n",
    "cell_meta_path = study_dir / 'CellMetadata.msg'\n",
    "select_cell_meta.to_msgpack(cell_meta_path)"
   ]
  },
  {
   "cell_type": "code",
   "execution_count": 7,
   "metadata": {
    "ExecuteTime": {
     "end_time": "2019-10-18T07:05:51.503093Z",
     "start_time": "2019-10-18T07:05:51.478866Z"
    }
   },
   "outputs": [
    {
     "name": "stdout",
     "output_type": "stream",
     "text": [
      "(495, 34)\n"
     ]
    },
    {
     "data": {
      "text/html": [
       "<div>\n",
       "<style scoped>\n",
       "    .dataframe tbody tr th:only-of-type {\n",
       "        vertical-align: middle;\n",
       "    }\n",
       "\n",
       "    .dataframe tbody tr th {\n",
       "        vertical-align: top;\n",
       "    }\n",
       "\n",
       "    .dataframe thead th {\n",
       "        text-align: right;\n",
       "    }\n",
       "</style>\n",
       "<table border=\"1\" class=\"dataframe\">\n",
       "  <thead>\n",
       "    <tr style=\"text-align: right;\">\n",
       "      <th></th>\n",
       "      <th>AllcPath</th>\n",
       "      <th>CCC_Rate</th>\n",
       "      <th>CG_Rate</th>\n",
       "      <th>CG_RateAdj</th>\n",
       "      <th>CH_Rate</th>\n",
       "      <th>CH_RateAdj</th>\n",
       "      <th>FinalReads</th>\n",
       "      <th>InputReads</th>\n",
       "      <th>MappedReads</th>\n",
       "      <th>Region</th>\n",
       "      <th>...</th>\n",
       "      <th>CellClass</th>\n",
       "      <th>l1-umap_0</th>\n",
       "      <th>l1-umap_1</th>\n",
       "      <th>l1-tsne_0</th>\n",
       "      <th>l1-tsne_1</th>\n",
       "      <th>MajorType</th>\n",
       "      <th>l2-umap_0</th>\n",
       "      <th>l2-umap_1</th>\n",
       "      <th>l2-tsne_0</th>\n",
       "      <th>l2-tsne_1</th>\n",
       "    </tr>\n",
       "    <tr>\n",
       "      <th>cell</th>\n",
       "      <th></th>\n",
       "      <th></th>\n",
       "      <th></th>\n",
       "      <th></th>\n",
       "      <th></th>\n",
       "      <th></th>\n",
       "      <th></th>\n",
       "      <th></th>\n",
       "      <th></th>\n",
       "      <th></th>\n",
       "      <th></th>\n",
       "      <th></th>\n",
       "      <th></th>\n",
       "      <th></th>\n",
       "      <th></th>\n",
       "      <th></th>\n",
       "      <th></th>\n",
       "      <th></th>\n",
       "      <th></th>\n",
       "      <th></th>\n",
       "      <th></th>\n",
       "    </tr>\n",
       "  </thead>\n",
       "  <tbody>\n",
       "    <tr>\n",
       "      <th>2D_M_2123</th>\n",
       "      <td>/gale/raidix/rdx-4/CEMBA_RS1/2D/CEMBA180403_2D...</td>\n",
       "      <td>0.00375</td>\n",
       "      <td>0.80774</td>\n",
       "      <td>0.80702</td>\n",
       "      <td>0.01329</td>\n",
       "      <td>0.00958</td>\n",
       "      <td>2261807.0</td>\n",
       "      <td>5376528</td>\n",
       "      <td>3477723.0</td>\n",
       "      <td>2D</td>\n",
       "      <td>...</td>\n",
       "      <td>Inh</td>\n",
       "      <td>18.397718</td>\n",
       "      <td>-8.033674</td>\n",
       "      <td>18.638741</td>\n",
       "      <td>47.651375</td>\n",
       "      <td>D1L-PAL</td>\n",
       "      <td>7.326812</td>\n",
       "      <td>-16.449732</td>\n",
       "      <td>25.353864</td>\n",
       "      <td>-31.687108</td>\n",
       "    </tr>\n",
       "    <tr>\n",
       "      <th>2E_M_1046</th>\n",
       "      <td>/gale/raidix/rdx-4/CEMBA_RS1/2E/CEMBA180220_2E...</td>\n",
       "      <td>0.00413</td>\n",
       "      <td>0.81407</td>\n",
       "      <td>0.81330</td>\n",
       "      <td>0.01161</td>\n",
       "      <td>0.00751</td>\n",
       "      <td>1056950.0</td>\n",
       "      <td>2759590</td>\n",
       "      <td>1683910.0</td>\n",
       "      <td>2E</td>\n",
       "      <td>...</td>\n",
       "      <td>Inh</td>\n",
       "      <td>18.456881</td>\n",
       "      <td>-6.677870</td>\n",
       "      <td>16.303642</td>\n",
       "      <td>46.033810</td>\n",
       "      <td>D1L-PAL</td>\n",
       "      <td>5.691271</td>\n",
       "      <td>-15.633781</td>\n",
       "      <td>27.144389</td>\n",
       "      <td>-28.029863</td>\n",
       "    </tr>\n",
       "    <tr>\n",
       "      <th>2E_M_1191</th>\n",
       "      <td>/gale/raidix/rdx-4/CEMBA_RS1/2E/CEMBA180220_2E...</td>\n",
       "      <td>0.00414</td>\n",
       "      <td>0.81821</td>\n",
       "      <td>0.81745</td>\n",
       "      <td>0.01228</td>\n",
       "      <td>0.00817</td>\n",
       "      <td>1229332.0</td>\n",
       "      <td>3125234</td>\n",
       "      <td>1950196.0</td>\n",
       "      <td>2E</td>\n",
       "      <td>...</td>\n",
       "      <td>Inh</td>\n",
       "      <td>18.575788</td>\n",
       "      <td>-6.721601</td>\n",
       "      <td>16.594669</td>\n",
       "      <td>46.460778</td>\n",
       "      <td>D1L-PAL</td>\n",
       "      <td>6.375481</td>\n",
       "      <td>-15.757970</td>\n",
       "      <td>27.112212</td>\n",
       "      <td>-30.151514</td>\n",
       "    </tr>\n",
       "    <tr>\n",
       "      <th>2E_M_1391</th>\n",
       "      <td>/gale/raidix/rdx-4/CEMBA_RS1/2E/CEMBA180220_2E...</td>\n",
       "      <td>0.00417</td>\n",
       "      <td>0.81535</td>\n",
       "      <td>0.81458</td>\n",
       "      <td>0.01309</td>\n",
       "      <td>0.00896</td>\n",
       "      <td>1001830.0</td>\n",
       "      <td>2483592</td>\n",
       "      <td>1540062.0</td>\n",
       "      <td>2E</td>\n",
       "      <td>...</td>\n",
       "      <td>Inh</td>\n",
       "      <td>18.434839</td>\n",
       "      <td>-6.528199</td>\n",
       "      <td>16.354767</td>\n",
       "      <td>46.066719</td>\n",
       "      <td>D1L-PAL</td>\n",
       "      <td>5.881123</td>\n",
       "      <td>-15.757410</td>\n",
       "      <td>27.060180</td>\n",
       "      <td>-28.271659</td>\n",
       "    </tr>\n",
       "    <tr>\n",
       "      <th>2E_M_1618</th>\n",
       "      <td>/gale/raidix/rdx-4/CEMBA_RS1/2E/CEMBA180222_2E...</td>\n",
       "      <td>0.00465</td>\n",
       "      <td>0.82171</td>\n",
       "      <td>0.82088</td>\n",
       "      <td>0.01670</td>\n",
       "      <td>0.01211</td>\n",
       "      <td>802215.0</td>\n",
       "      <td>2051360</td>\n",
       "      <td>1245403.0</td>\n",
       "      <td>2E</td>\n",
       "      <td>...</td>\n",
       "      <td>Inh</td>\n",
       "      <td>18.141539</td>\n",
       "      <td>-6.704711</td>\n",
       "      <td>16.857589</td>\n",
       "      <td>45.982523</td>\n",
       "      <td>D1L-PAL</td>\n",
       "      <td>5.401583</td>\n",
       "      <td>-16.262253</td>\n",
       "      <td>25.376111</td>\n",
       "      <td>-28.503549</td>\n",
       "    </tr>\n",
       "  </tbody>\n",
       "</table>\n",
       "<p>5 rows × 34 columns</p>\n",
       "</div>"
      ],
      "text/plain": [
       "                                                    AllcPath  CCC_Rate  \\\n",
       "cell                                                                     \n",
       "2D_M_2123  /gale/raidix/rdx-4/CEMBA_RS1/2D/CEMBA180403_2D...   0.00375   \n",
       "2E_M_1046  /gale/raidix/rdx-4/CEMBA_RS1/2E/CEMBA180220_2E...   0.00413   \n",
       "2E_M_1191  /gale/raidix/rdx-4/CEMBA_RS1/2E/CEMBA180220_2E...   0.00414   \n",
       "2E_M_1391  /gale/raidix/rdx-4/CEMBA_RS1/2E/CEMBA180220_2E...   0.00417   \n",
       "2E_M_1618  /gale/raidix/rdx-4/CEMBA_RS1/2E/CEMBA180222_2E...   0.00465   \n",
       "\n",
       "           CG_Rate  CG_RateAdj  CH_Rate  CH_RateAdj  FinalReads  InputReads  \\\n",
       "cell                                                                          \n",
       "2D_M_2123  0.80774     0.80702  0.01329     0.00958   2261807.0     5376528   \n",
       "2E_M_1046  0.81407     0.81330  0.01161     0.00751   1056950.0     2759590   \n",
       "2E_M_1191  0.81821     0.81745  0.01228     0.00817   1229332.0     3125234   \n",
       "2E_M_1391  0.81535     0.81458  0.01309     0.00896   1001830.0     2483592   \n",
       "2E_M_1618  0.82171     0.82088  0.01670     0.01211    802215.0     2051360   \n",
       "\n",
       "           MappedReads Region  ... CellClass  l1-umap_0  l1-umap_1  l1-tsne_0  \\\n",
       "cell                           ...                                              \n",
       "2D_M_2123    3477723.0     2D  ...       Inh  18.397718  -8.033674  18.638741   \n",
       "2E_M_1046    1683910.0     2E  ...       Inh  18.456881  -6.677870  16.303642   \n",
       "2E_M_1191    1950196.0     2E  ...       Inh  18.575788  -6.721601  16.594669   \n",
       "2E_M_1391    1540062.0     2E  ...       Inh  18.434839  -6.528199  16.354767   \n",
       "2E_M_1618    1245403.0     2E  ...       Inh  18.141539  -6.704711  16.857589   \n",
       "\n",
       "           l1-tsne_1 MajorType  l2-umap_0  l2-umap_1  l2-tsne_0  l2-tsne_1  \n",
       "cell                                                                        \n",
       "2D_M_2123  47.651375   D1L-PAL   7.326812 -16.449732  25.353864 -31.687108  \n",
       "2E_M_1046  46.033810   D1L-PAL   5.691271 -15.633781  27.144389 -28.029863  \n",
       "2E_M_1191  46.460778   D1L-PAL   6.375481 -15.757970  27.112212 -30.151514  \n",
       "2E_M_1391  46.066719   D1L-PAL   5.881123 -15.757410  27.060180 -28.271659  \n",
       "2E_M_1618  45.982523   D1L-PAL   5.401583 -16.262253  25.376111 -28.503549  \n",
       "\n",
       "[5 rows x 34 columns]"
      ]
     },
     "execution_count": 7,
     "metadata": {},
     "output_type": "execute_result"
    }
   ],
   "source": [
    "print(select_cell_meta.shape)\n",
    "select_cell_meta.head()"
   ]
  },
  {
   "cell_type": "markdown",
   "metadata": {},
   "source": [
    "## Step 0 Cell Basic QC"
   ]
  },
  {
   "cell_type": "code",
   "execution_count": 8,
   "metadata": {
    "ExecuteTime": {
     "end_time": "2019-10-18T07:05:51.506690Z",
     "start_time": "2019-10-18T07:05:51.504486Z"
    }
   },
   "outputs": [],
   "source": [
    "# 0-CellBasicQC.ipynb\n",
    "step_0_params = dict(\n",
    "    study_name=study_name,\n",
    "    cell_metadata_path=str(cell_meta_path),\n",
    ")"
   ]
  },
  {
   "cell_type": "code",
   "execution_count": 9,
   "metadata": {
    "ExecuteTime": {
     "end_time": "2019-10-18T07:05:58.294909Z",
     "start_time": "2019-10-18T07:05:51.508031Z"
    },
    "scrolled": false
   },
   "outputs": [
    {
     "data": {
      "application/vnd.jupyter.widget-view+json": {
       "model_id": "5998fe6894bc4f679fd9b4bdb632795a",
       "version_major": 2,
       "version_minor": 0
      },
      "text/plain": [
       "HBox(children=(IntProgress(value=0, max=28), HTML(value='')))"
      ]
     },
     "metadata": {},
     "output_type": "display_data"
    },
    {
     "name": "stdout",
     "output_type": "stream",
     "text": [
      "\n"
     ]
    }
   ],
   "source": [
    "input_path = '0-CellBasicQC.ipynb'\n",
    "output_path = study_dir / '0-CellBasicQC.ipynb'\n",
    "execute_notebook(\n",
    "    str(input_path),\n",
    "    str(output_path),\n",
    "    parameters=step_0_params,\n",
    "    engine_name=None,\n",
    "    prepare_only=False,\n",
    "    kernel_name=None,\n",
    "    progress_bar=True,\n",
    "    log_output=False,\n",
    "    start_timeout=60,\n",
    "    report_mode=False,\n",
    "    cwd=str(study_dir))\n",
    "pass"
   ]
  },
  {
   "cell_type": "markdown",
   "metadata": {},
   "source": [
    "## Step 1 Prepare Adata"
   ]
  },
  {
   "cell_type": "code",
   "execution_count": 10,
   "metadata": {
    "ExecuteTime": {
     "end_time": "2019-10-18T07:05:58.303265Z",
     "start_time": "2019-10-18T07:05:58.296853Z"
    }
   },
   "outputs": [],
   "source": [
    "step_1_params = dict(\n",
    "    # parameters cell\n",
    "    in_memory=True,\n",
    "    dask_distribute=False,\n",
    "\n",
    "    # selected cell metadata path\n",
    "    cell_meta_path=str(study_dir / 'CellMetadata.AfterQC.msg'),\n",
    "\n",
    "    # mcds_path\n",
    "    mcds_path_list=[str(i) for i in dataset_dir.glob('*mcds')],\n",
    "    clustering_feature='chrom100k',  # usually 100kb chromosome bins or genes\n",
    "\n",
    "    # remove bad features\n",
    "    black_list_region=None,\n",
    "    exclude_chromosome=['chrY', 'chrM'],\n",
    "\n",
    "    # preprocess parameters\n",
    "    min_feature_cov=500,\n",
    "    max_feature_cov=3000,\n",
    "    ch_hvf_top=3000,\n",
    "    min_ch_hvf_mean=0.5,\n",
    "    max_ch_hvf_mean=2.5,\n",
    "    cg_hvf_top=3000,\n",
    "    min_cg_hvf_mean=0.5,\n",
    "    max_cg_hvf_mean=1.2)"
   ]
  },
  {
   "cell_type": "code",
   "execution_count": 11,
   "metadata": {
    "ExecuteTime": {
     "end_time": "2019-10-18T07:07:15.680835Z",
     "start_time": "2019-10-18T07:05:58.304614Z"
    }
   },
   "outputs": [
    {
     "data": {
      "application/vnd.jupyter.widget-view+json": {
       "model_id": "155cb0be84c14100b267f16e627d33a4",
       "version_major": 2,
       "version_minor": 0
      },
      "text/plain": [
       "HBox(children=(IntProgress(value=0, max=44), HTML(value='')))"
      ]
     },
     "metadata": {},
     "output_type": "display_data"
    },
    {
     "name": "stdout",
     "output_type": "stream",
     "text": [
      "\n"
     ]
    }
   ],
   "source": [
    "input_path = '1-PrepareAdata.ipynb'\n",
    "output_path = study_dir / '1-PrepareAdata.ipynb'\n",
    "execute_notebook(\n",
    "    str(input_path),\n",
    "    str(output_path),\n",
    "    parameters=step_1_params,\n",
    "    engine_name=None,\n",
    "    prepare_only=False,\n",
    "    kernel_name=None,\n",
    "    progress_bar=True,\n",
    "    log_output=False,\n",
    "    start_timeout=60,\n",
    "    report_mode=False,\n",
    "    cwd=str(study_dir))\n",
    "pass"
   ]
  },
  {
   "cell_type": "markdown",
   "metadata": {},
   "source": [
    "## Step 2 Dimension Reduction"
   ]
  },
  {
   "cell_type": "code",
   "execution_count": 12,
   "metadata": {
    "ExecuteTime": {
     "end_time": "2019-10-18T07:07:15.685766Z",
     "start_time": "2019-10-18T07:07:15.682333Z"
    }
   },
   "outputs": [],
   "source": [
    "step_2_params = dict(\n",
    "    ch_pc_components=20,\n",
    "    cg_pc_components=10,\n",
    "    pc_color_col=None,\n",
    "    batch_correction_col=None,\n",
    "    sigma=15,\n",
    "    alpha=0.1,\n",
    "    scanorama_k=25,\n",
    "    n_neighbors=25,\n",
    "    resolution=0.8,\n",
    "    perplexity=50,\n",
    "    metadata_category_cols=['Region'],\n",
    "    metadata_continue_cols=['CG_RateAdj', 'CH_RateAdj', 'FinalReads'])"
   ]
  },
  {
   "cell_type": "code",
   "execution_count": 13,
   "metadata": {
    "ExecuteTime": {
     "end_time": "2019-10-18T07:08:01.081331Z",
     "start_time": "2019-10-18T07:07:15.687138Z"
    }
   },
   "outputs": [
    {
     "data": {
      "application/vnd.jupyter.widget-view+json": {
       "model_id": "777ebf82095e42d18201a676008f2866",
       "version_major": 2,
       "version_minor": 0
      },
      "text/plain": [
       "HBox(children=(IntProgress(value=0, max=44), HTML(value='')))"
      ]
     },
     "metadata": {},
     "output_type": "display_data"
    },
    {
     "name": "stdout",
     "output_type": "stream",
     "text": [
      "\n"
     ]
    }
   ],
   "source": [
    "input_path = '2-DimensionReduction.ipynb'\n",
    "output_path = study_dir / '2-DimensionReduction.ipynb'\n",
    "execute_notebook(\n",
    "    str(input_path),\n",
    "    str(output_path),\n",
    "    parameters=step_2_params,\n",
    "    engine_name=None,\n",
    "    prepare_only=False,\n",
    "    kernel_name=None,\n",
    "    progress_bar=True,\n",
    "    log_output=False,\n",
    "    start_timeout=60,\n",
    "    report_mode=False,\n",
    "    cwd=str(study_dir))\n",
    "pass"
   ]
  },
  {
   "cell_type": "markdown",
   "metadata": {},
   "source": [
    "## Step 3 Consensus Clustering"
   ]
  },
  {
   "cell_type": "code",
   "execution_count": 14,
   "metadata": {
    "ExecuteTime": {
     "end_time": "2019-10-18T07:08:01.087010Z",
     "start_time": "2019-10-18T07:08:01.082846Z"
    }
   },
   "outputs": [],
   "source": [
    "step_3_params = dict(\n",
    "    coord_base='umap',\n",
    "    n_jobs=40,\n",
    "\n",
    "    # cc.fit_predict\n",
    "    n_neighbors=25,\n",
    "    metric='euclidean',\n",
    "    neighbor_kwds=None,\n",
    "    leiden_repeats=200,\n",
    "    seed=1,\n",
    "    leiden_resolution=0.3,\n",
    "    leiden_kwds=None,\n",
    "    min_cluster_size=10,\n",
    "    min_cluster_portion=0.01,\n",
    "    min_samples=1,\n",
    "    epsilon='auto',\n",
    "    hdbscan_kwds=None,\n",
    "\n",
    "    # cc.supervise_training\n",
    "    x=None,\n",
    "    test_portion=0.1,\n",
    "    n_estimators=500,\n",
    "    n_splits=10,\n",
    "    fbeta=1,\n",
    "    average='weighted',\n",
    "    outlier_proba_cutoff=0.3,\n",
    "    confusion_merge_cutoff=0.2)"
   ]
  },
  {
   "cell_type": "code",
   "execution_count": 15,
   "metadata": {
    "ExecuteTime": {
     "end_time": "2019-10-18T07:09:17.829473Z",
     "start_time": "2019-10-18T07:08:01.088306Z"
    }
   },
   "outputs": [
    {
     "data": {
      "application/vnd.jupyter.widget-view+json": {
       "model_id": "1e7e4aa924fc43d4ace4985b467d7381",
       "version_major": 2,
       "version_minor": 0
      },
      "text/plain": [
       "HBox(children=(IntProgress(value=0, max=35), HTML(value='')))"
      ]
     },
     "metadata": {},
     "output_type": "display_data"
    },
    {
     "name": "stdout",
     "output_type": "stream",
     "text": [
      "\n"
     ]
    }
   ],
   "source": [
    "input_path = '3-ConsensusClustering.ipynb'\n",
    "output_path = study_dir / '3-ConsensusClustering.ipynb'\n",
    "execute_notebook(\n",
    "    str(input_path),\n",
    "    str(output_path),\n",
    "    parameters=step_3_params,\n",
    "    engine_name=None,\n",
    "    prepare_only=False,\n",
    "    kernel_name=None,\n",
    "    progress_bar=True,\n",
    "    log_output=False,\n",
    "    start_timeout=60,\n",
    "    report_mode=False,\n",
    "    cwd=str(study_dir))\n",
    "pass"
   ]
  },
  {
   "cell_type": "markdown",
   "metadata": {},
   "source": [
    "## Step 4 Marker Identification"
   ]
  },
  {
   "cell_type": "code",
   "execution_count": 16,
   "metadata": {
    "ExecuteTime": {
     "end_time": "2019-10-18T07:09:17.834411Z",
     "start_time": "2019-10-18T07:09:17.831210Z"
    }
   },
   "outputs": [],
   "source": [
    "step_4_params = dict(\n",
    "    mc_type='CHN',\n",
    "    load=True,\n",
    "\n",
    "    # find marker gene\n",
    "    n_marker_genes=1000,\n",
    "    gene_score_cutoff=5,\n",
    "    abs_log_fold_change=1,\n",
    "    n_genes=10,\n",
    "    nrows=2,\n",
    "    coord_base='umap')"
   ]
  },
  {
   "cell_type": "code",
   "execution_count": 17,
   "metadata": {
    "ExecuteTime": {
     "end_time": "2019-10-18T07:09:25.952342Z",
     "start_time": "2019-10-18T07:09:17.835823Z"
    }
   },
   "outputs": [
    {
     "data": {
      "application/vnd.jupyter.widget-view+json": {
       "model_id": "657c3194d2544822bf20128ef517a05b",
       "version_major": 2,
       "version_minor": 0
      },
      "text/plain": [
       "HBox(children=(IntProgress(value=0, max=25), HTML(value='')))"
      ]
     },
     "metadata": {},
     "output_type": "display_data"
    },
    {
     "name": "stdout",
     "output_type": "stream",
     "text": [
      "\n"
     ]
    }
   ],
   "source": [
    "input_path = '4-MarkerIdentification.ipynb'\n",
    "output_path = study_dir / '4-MarkerIdentification.ipynb'\n",
    "execute_notebook(\n",
    "    str(input_path),\n",
    "    str(output_path),\n",
    "    parameters=step_4_params,\n",
    "    engine_name=None,\n",
    "    prepare_only=False,\n",
    "    kernel_name=None,\n",
    "    progress_bar=True,\n",
    "    log_output=False,\n",
    "    start_timeout=60,\n",
    "    report_mode=False,\n",
    "    cwd=str(study_dir))\n",
    "pass"
   ]
  },
  {
   "cell_type": "markdown",
   "metadata": {},
   "source": [
    "## Step 5 Cluster Manual Annotation\n",
    "- Prepare Only"
   ]
  },
  {
   "cell_type": "code",
   "execution_count": 18,
   "metadata": {
    "ExecuteTime": {
     "end_time": "2019-10-18T07:09:25.956341Z",
     "start_time": "2019-10-18T07:09:25.953779Z"
    }
   },
   "outputs": [],
   "source": [
    "step_5_params = dict(load=True, mc_type='CHN', coord_base='umap')"
   ]
  },
  {
   "cell_type": "code",
   "execution_count": 19,
   "metadata": {
    "ExecuteTime": {
     "end_time": "2019-10-18T07:09:31.797741Z",
     "start_time": "2019-10-18T07:09:25.958448Z"
    }
   },
   "outputs": [
    {
     "data": {
      "application/vnd.jupyter.widget-view+json": {
       "model_id": "ecb2deedb54c470d8d101f34a7902f8e",
       "version_major": 2,
       "version_minor": 0
      },
      "text/plain": [
       "HBox(children=(IntProgress(value=0, max=35), HTML(value='')))"
      ]
     },
     "metadata": {},
     "output_type": "display_data"
    },
    {
     "name": "stdout",
     "output_type": "stream",
     "text": [
      "\n"
     ]
    }
   ],
   "source": [
    "input_path = '5-ClusterManualAnnotation.ipynb'\n",
    "output_path = study_dir / '5-ClusterManualAnnotation.ipynb'\n",
    "execute_notebook(\n",
    "    str(input_path),\n",
    "    str(output_path),\n",
    "    parameters=step_5_params,\n",
    "    engine_name=None,\n",
    "    prepare_only=False,\n",
    "    kernel_name=None,\n",
    "    progress_bar=True,\n",
    "    log_output=False,\n",
    "    start_timeout=60,\n",
    "    report_mode=False,\n",
    "    cwd=str(study_dir))\n",
    "pass"
   ]
  },
  {
   "cell_type": "markdown",
   "metadata": {},
   "source": [
    "## Step 6 Plot Brain Region"
   ]
  },
  {
   "cell_type": "code",
   "execution_count": 20,
   "metadata": {
    "ExecuteTime": {
     "end_time": "2019-10-18T07:09:31.804313Z",
     "start_time": "2019-10-18T07:09:31.800449Z"
    }
   },
   "outputs": [],
   "source": [
    "step_6_params = dict(s=10)"
   ]
  },
  {
   "cell_type": "code",
   "execution_count": 21,
   "metadata": {
    "ExecuteTime": {
     "end_time": "2019-10-18T07:09:45.222261Z",
     "start_time": "2019-10-18T07:09:31.808272Z"
    }
   },
   "outputs": [
    {
     "data": {
      "application/vnd.jupyter.widget-view+json": {
       "model_id": "a602ea9b8f92454e99dbd821d747313e",
       "version_major": 2,
       "version_minor": 0
      },
      "text/plain": [
       "HBox(children=(IntProgress(value=0, max=33), HTML(value='')))"
      ]
     },
     "metadata": {},
     "output_type": "display_data"
    },
    {
     "name": "stdout",
     "output_type": "stream",
     "text": [
      "\n"
     ]
    }
   ],
   "source": [
    "input_path = '6-PlotBrainRegion.ipynb'\n",
    "output_path = study_dir / '6-PlotBrainRegion.ipynb'\n",
    "execute_notebook(\n",
    "    str(input_path),\n",
    "    str(output_path),\n",
    "    parameters=step_6_params,\n",
    "    engine_name=None,\n",
    "    prepare_only=False,\n",
    "    kernel_name=None,\n",
    "    progress_bar=True,\n",
    "    log_output=False,\n",
    "    start_timeout=60,\n",
    "    report_mode=False,\n",
    "    cwd=str(study_dir))\n",
    "pass"
   ]
  },
  {
   "cell_type": "code",
   "execution_count": null,
   "metadata": {},
   "outputs": [],
   "source": []
  },
  {
   "cell_type": "code",
   "execution_count": null,
   "metadata": {},
   "outputs": [],
   "source": []
  },
  {
   "cell_type": "code",
   "execution_count": null,
   "metadata": {},
   "outputs": [],
   "source": []
  }
 ],
 "metadata": {
  "hide_input": false,
  "kernelspec": {
   "display_name": "Python 3",
   "language": "python",
   "name": "python3"
  },
  "language_info": {
   "codemirror_mode": {
    "name": "ipython",
    "version": 3
   },
   "file_extension": ".py",
   "mimetype": "text/x-python",
   "name": "python",
   "nbconvert_exporter": "python",
   "pygments_lexer": "ipython3",
   "version": "3.7.3"
  },
  "toc": {
   "base_numbering": 1,
   "nav_menu": {},
   "number_sections": true,
   "sideBar": true,
   "skip_h1_title": true,
   "title_cell": "Table of Contents",
   "title_sidebar": "Contents",
   "toc_cell": true,
   "toc_position": {},
   "toc_section_display": true,
   "toc_window_display": true
  }
 },
 "nbformat": 4,
 "nbformat_minor": 2
}
