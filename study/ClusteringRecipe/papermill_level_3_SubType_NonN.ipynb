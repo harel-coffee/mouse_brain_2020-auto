{
 "cells": [
  {
   "cell_type": "markdown",
   "metadata": {
    "toc": true
   },
   "source": [
    "<h1>Table of Contents<span class=\"tocSkip\"></span></h1>\n",
    "<div class=\"toc\"><ul class=\"toc-item\"><li><span><a href=\"#Prepare\" data-toc-modified-id=\"Prepare-1\"><span class=\"toc-item-num\">1&nbsp;&nbsp;</span>Prepare</a></span><ul class=\"toc-item\"><li><span><a href=\"#Create-Study-Dir\" data-toc-modified-id=\"Create-Study-Dir-1.1\"><span class=\"toc-item-num\">1.1&nbsp;&nbsp;</span>Create Study Dir</a></span></li><li><span><a href=\"#Select-Cells\" data-toc-modified-id=\"Select-Cells-1.2\"><span class=\"toc-item-num\">1.2&nbsp;&nbsp;</span>Select Cells</a></span></li></ul></li><li><span><a href=\"#Step-0-Cell-Basic-QC\" data-toc-modified-id=\"Step-0-Cell-Basic-QC-2\"><span class=\"toc-item-num\">2&nbsp;&nbsp;</span>Step 0 Cell Basic QC</a></span></li><li><span><a href=\"#Step-1-Prepare-Adata\" data-toc-modified-id=\"Step-1-Prepare-Adata-3\"><span class=\"toc-item-num\">3&nbsp;&nbsp;</span>Step 1 Prepare Adata</a></span></li><li><span><a href=\"#Step-2-Dimension-Reduction\" data-toc-modified-id=\"Step-2-Dimension-Reduction-4\"><span class=\"toc-item-num\">4&nbsp;&nbsp;</span>Step 2 Dimension Reduction</a></span></li><li><span><a href=\"#Step-3-Consensus-Clustering\" data-toc-modified-id=\"Step-3-Consensus-Clustering-5\"><span class=\"toc-item-num\">5&nbsp;&nbsp;</span>Step 3 Consensus Clustering</a></span></li><li><span><a href=\"#Step-4-Marker-Identification\" data-toc-modified-id=\"Step-4-Marker-Identification-6\"><span class=\"toc-item-num\">6&nbsp;&nbsp;</span>Step 4 Marker Identification</a></span></li><li><span><a href=\"#Step-5-Cluster-Manual-Annotation\" data-toc-modified-id=\"Step-5-Cluster-Manual-Annotation-7\"><span class=\"toc-item-num\">7&nbsp;&nbsp;</span>Step 5 Cluster Manual Annotation</a></span></li><li><span><a href=\"#Step-6-Plot-Brain-Region\" data-toc-modified-id=\"Step-6-Plot-Brain-Region-8\"><span class=\"toc-item-num\">8&nbsp;&nbsp;</span>Step 6 Plot Brain Region</a></span></li></ul></div>"
   ]
  },
  {
   "cell_type": "code",
   "execution_count": 1,
   "metadata": {
    "ExecuteTime": {
     "end_time": "2019-10-10T08:16:49.454741Z",
     "start_time": "2019-10-10T08:16:48.985577Z"
    }
   },
   "outputs": [],
   "source": [
    "from papermill import execute_notebook, PapermillExecutionError\n",
    "import pandas as pd\n",
    "import pathlib\n",
    "import numpy as np"
   ]
  },
  {
   "cell_type": "code",
   "execution_count": 2,
   "metadata": {
    "ExecuteTime": {
     "end_time": "2019-10-10T08:16:49.458416Z",
     "start_time": "2019-10-10T08:16:49.456350Z"
    }
   },
   "outputs": [],
   "source": [
    "total_cell_meta_path = '/home/hanliu/project/mouse_rostral_brain/study/ClusteringSummary/Summary/TotalClusteringResults.msg'\n",
    "template_dir = '/home/hanliu/project/mouse_rostral_brain/study/ClusteringRecipe/'\n",
    "dataset_dir = '/home/hanliu/project/mouse_rostral_brain/dataset/'"
   ]
  },
  {
   "cell_type": "markdown",
   "metadata": {},
   "source": [
    "## Prepare"
   ]
  },
  {
   "cell_type": "markdown",
   "metadata": {},
   "source": [
    "### Create Study Dir"
   ]
  },
  {
   "cell_type": "code",
   "execution_count": 3,
   "metadata": {
    "ExecuteTime": {
     "end_time": "2019-10-10T08:16:49.675479Z",
     "start_time": "2019-10-10T08:16:49.459739Z"
    }
   },
   "outputs": [
    {
     "name": "stderr",
     "output_type": "stream",
     "text": [
      "/home/hanliu/miniconda3/envs/clustering/lib/python3.7/site-packages/IPython/core/interactiveshell.py:3326: FutureWarning: The read_msgpack is deprecated and will be removed in a future version.\n",
      "It is recommended to use pyarrow for on-the-wire transmission of pandas objects.\n",
      "  exec(code_obj, self.user_global_ns, self.user_ns)\n"
     ]
    },
    {
     "data": {
      "text/plain": [
       "array(['MGE-Sst', 'CA3', 'CA1', 'CA3-St18', 'Unc5c', 'Gfra1', 'ODC', 'PC',\n",
       "       'ANP', 'IT-L5', 'NP-L6', 'CGE-Lamp5', 'CT-L6', 'IG-CA2', 'DG-po',\n",
       "       'DG', 'CGE-Vip', 'Outlier', 'OPC', 'ASC', 'MGC', 'PAL-Inh',\n",
       "       'PT-L5', 'MGE-Pvalb', 'VLMC', 'EC', 'VLMC-Pia', 'OLF', 'MSN-D2',\n",
       "       'L6b', 'IT-L6', 'IT-L23', 'IT-L4', 'OLF-Exc', 'CLA', 'Foxp2',\n",
       "       'MSN-D1', 'LSX-Inh', 'D1L-Fstl4', 'EP', 'D1L-PAL', 'Chd7'],\n",
       "      dtype=object)"
      ]
     },
     "execution_count": 3,
     "metadata": {},
     "output_type": "execute_result"
    }
   ],
   "source": [
    "total_cell_meta = pd.read_msgpack(total_cell_meta_path)\n",
    "total_cell_meta['MajorType'].unique()"
   ]
  },
  {
   "cell_type": "code",
   "execution_count": 4,
   "metadata": {
    "ExecuteTime": {
     "end_time": "2019-10-10T08:16:49.679684Z",
     "start_time": "2019-10-10T08:16:49.676734Z"
    }
   },
   "outputs": [],
   "source": [
    "study_name = 'VLMC-Pia'\n",
    "\n",
    "selection_dict = {\n",
    "    'MajorType': ['VLMC-Pia']\n",
    "}\n",
    "\n",
    "\n",
    "study_dir = f'/home/hanliu/project/mouse_rostral_brain/study/Level3-SubCellType/{study_name}'\n",
    "study_dir = pathlib.Path(study_dir)\n",
    "study_dir.mkdir(exist_ok=True)\n",
    "dataset_dir = pathlib.Path(dataset_dir)"
   ]
  },
  {
   "cell_type": "markdown",
   "metadata": {},
   "source": [
    "### Select Cells"
   ]
  },
  {
   "cell_type": "code",
   "execution_count": 5,
   "metadata": {
    "ExecuteTime": {
     "end_time": "2019-10-10T08:16:49.705224Z",
     "start_time": "2019-10-10T08:16:49.681431Z"
    }
   },
   "outputs": [],
   "source": [
    "judges = []\n",
    "for col, vals in selection_dict.items():\n",
    "    judges.append(total_cell_meta[col].isin(vals))\n",
    "total_judge = np.all(judges, axis=0)"
   ]
  },
  {
   "cell_type": "code",
   "execution_count": 6,
   "metadata": {
    "ExecuteTime": {
     "end_time": "2019-10-10T08:16:49.711679Z",
     "start_time": "2019-10-10T08:16:49.706630Z"
    }
   },
   "outputs": [
    {
     "name": "stderr",
     "output_type": "stream",
     "text": [
      "/home/hanliu/miniconda3/envs/clustering/lib/python3.7/site-packages/ipykernel_launcher.py:3: FutureWarning: to_msgpack is deprecated and will be removed in a future version.\n",
      "It is recommended to use pyarrow for on-the-wire transmission of pandas objects.\n",
      "  This is separate from the ipykernel package so we can avoid doing imports until\n"
     ]
    }
   ],
   "source": [
    "select_cell_meta = total_cell_meta[total_judge]\n",
    "cell_meta_path = study_dir / 'CellMetadata.msg'\n",
    "select_cell_meta.to_msgpack(cell_meta_path)"
   ]
  },
  {
   "cell_type": "code",
   "execution_count": 7,
   "metadata": {
    "ExecuteTime": {
     "end_time": "2019-10-10T08:16:49.734327Z",
     "start_time": "2019-10-10T08:16:49.712821Z"
    }
   },
   "outputs": [
    {
     "name": "stdout",
     "output_type": "stream",
     "text": [
      "(225, 34)\n"
     ]
    },
    {
     "data": {
      "text/html": [
       "<div>\n",
       "<style scoped>\n",
       "    .dataframe tbody tr th:only-of-type {\n",
       "        vertical-align: middle;\n",
       "    }\n",
       "\n",
       "    .dataframe tbody tr th {\n",
       "        vertical-align: top;\n",
       "    }\n",
       "\n",
       "    .dataframe thead th {\n",
       "        text-align: right;\n",
       "    }\n",
       "</style>\n",
       "<table border=\"1\" class=\"dataframe\">\n",
       "  <thead>\n",
       "    <tr style=\"text-align: right;\">\n",
       "      <th></th>\n",
       "      <th>AllcPath</th>\n",
       "      <th>CCC_Rate</th>\n",
       "      <th>CG_Rate</th>\n",
       "      <th>CG_RateAdj</th>\n",
       "      <th>CH_Rate</th>\n",
       "      <th>CH_RateAdj</th>\n",
       "      <th>FinalReads</th>\n",
       "      <th>InputReads</th>\n",
       "      <th>MappedReads</th>\n",
       "      <th>Region</th>\n",
       "      <th>...</th>\n",
       "      <th>CellClass</th>\n",
       "      <th>l1-umap_0</th>\n",
       "      <th>l1-umap_1</th>\n",
       "      <th>l1-tsne_0</th>\n",
       "      <th>l1-tsne_1</th>\n",
       "      <th>MajorType</th>\n",
       "      <th>l2-umap_0</th>\n",
       "      <th>l2-umap_1</th>\n",
       "      <th>l2-tsne_0</th>\n",
       "      <th>l2-tsne_1</th>\n",
       "    </tr>\n",
       "    <tr>\n",
       "      <th>cell</th>\n",
       "      <th></th>\n",
       "      <th></th>\n",
       "      <th></th>\n",
       "      <th></th>\n",
       "      <th></th>\n",
       "      <th></th>\n",
       "      <th></th>\n",
       "      <th></th>\n",
       "      <th></th>\n",
       "      <th></th>\n",
       "      <th></th>\n",
       "      <th></th>\n",
       "      <th></th>\n",
       "      <th></th>\n",
       "      <th></th>\n",
       "      <th></th>\n",
       "      <th></th>\n",
       "      <th></th>\n",
       "      <th></th>\n",
       "      <th></th>\n",
       "      <th></th>\n",
       "    </tr>\n",
       "  </thead>\n",
       "  <tbody>\n",
       "    <tr>\n",
       "      <th>10E_M_2553</th>\n",
       "      <td>/gale/raidix/rdx-4/mapping/10E/CEMBA190627-10E...</td>\n",
       "      <td>0.003818</td>\n",
       "      <td>0.731619</td>\n",
       "      <td>0.730590</td>\n",
       "      <td>0.006802</td>\n",
       "      <td>0.002996</td>\n",
       "      <td>2141788.0</td>\n",
       "      <td>6135656</td>\n",
       "      <td>3990743.0</td>\n",
       "      <td>10E</td>\n",
       "      <td>...</td>\n",
       "      <td>NonN</td>\n",
       "      <td>-24.411915</td>\n",
       "      <td>4.547135</td>\n",
       "      <td>-39.326882</td>\n",
       "      <td>20.255156</td>\n",
       "      <td>VLMC-Pia</td>\n",
       "      <td>7.559937</td>\n",
       "      <td>3.397658</td>\n",
       "      <td>-37.863056</td>\n",
       "      <td>-4.002392</td>\n",
       "    </tr>\n",
       "    <tr>\n",
       "      <th>11E_M_1264</th>\n",
       "      <td>/gale/raidix/rdx-4/mapping/11E/CEMBA190214-11E...</td>\n",
       "      <td>0.003563</td>\n",
       "      <td>0.716644</td>\n",
       "      <td>0.715631</td>\n",
       "      <td>0.006663</td>\n",
       "      <td>0.003111</td>\n",
       "      <td>1756764.0</td>\n",
       "      <td>4230358</td>\n",
       "      <td>2898405.0</td>\n",
       "      <td>11E</td>\n",
       "      <td>...</td>\n",
       "      <td>NonN</td>\n",
       "      <td>-24.666203</td>\n",
       "      <td>4.857295</td>\n",
       "      <td>-39.172145</td>\n",
       "      <td>19.760853</td>\n",
       "      <td>VLMC-Pia</td>\n",
       "      <td>6.598211</td>\n",
       "      <td>1.999891</td>\n",
       "      <td>-32.610730</td>\n",
       "      <td>-8.940993</td>\n",
       "    </tr>\n",
       "    <tr>\n",
       "      <th>11E_M_2022</th>\n",
       "      <td>/gale/raidix/rdx-4/mapping/11E/CEMBA190305-11E...</td>\n",
       "      <td>0.003053</td>\n",
       "      <td>0.707928</td>\n",
       "      <td>0.707033</td>\n",
       "      <td>0.005766</td>\n",
       "      <td>0.002721</td>\n",
       "      <td>1486002.0</td>\n",
       "      <td>3629398</td>\n",
       "      <td>2481485.0</td>\n",
       "      <td>11E</td>\n",
       "      <td>...</td>\n",
       "      <td>NonN</td>\n",
       "      <td>-23.891644</td>\n",
       "      <td>4.872487</td>\n",
       "      <td>-38.377223</td>\n",
       "      <td>20.199828</td>\n",
       "      <td>VLMC-Pia</td>\n",
       "      <td>6.723005</td>\n",
       "      <td>2.538621</td>\n",
       "      <td>-33.514945</td>\n",
       "      <td>-6.299712</td>\n",
       "    </tr>\n",
       "    <tr>\n",
       "      <th>11E_M_2578</th>\n",
       "      <td>/gale/raidix/rdx-4/mapping/11E/CEMBA190305-11E...</td>\n",
       "      <td>0.004155</td>\n",
       "      <td>0.733983</td>\n",
       "      <td>0.732873</td>\n",
       "      <td>0.007369</td>\n",
       "      <td>0.003227</td>\n",
       "      <td>1331964.0</td>\n",
       "      <td>3218770</td>\n",
       "      <td>1820034.0</td>\n",
       "      <td>11E</td>\n",
       "      <td>...</td>\n",
       "      <td>NonN</td>\n",
       "      <td>-24.168468</td>\n",
       "      <td>4.393315</td>\n",
       "      <td>-39.322537</td>\n",
       "      <td>20.682279</td>\n",
       "      <td>VLMC-Pia</td>\n",
       "      <td>7.450697</td>\n",
       "      <td>3.253974</td>\n",
       "      <td>-37.871676</td>\n",
       "      <td>-3.982100</td>\n",
       "    </tr>\n",
       "    <tr>\n",
       "      <th>11E_M_2774</th>\n",
       "      <td>/gale/raidix/rdx-4/mapping/11E/CEMBA190305-11E...</td>\n",
       "      <td>0.003943</td>\n",
       "      <td>0.680811</td>\n",
       "      <td>0.679548</td>\n",
       "      <td>0.006163</td>\n",
       "      <td>0.002228</td>\n",
       "      <td>1447557.0</td>\n",
       "      <td>3793760</td>\n",
       "      <td>2375819.0</td>\n",
       "      <td>11E</td>\n",
       "      <td>...</td>\n",
       "      <td>NonN</td>\n",
       "      <td>-24.639971</td>\n",
       "      <td>4.927505</td>\n",
       "      <td>-39.310030</td>\n",
       "      <td>19.558771</td>\n",
       "      <td>VLMC-Pia</td>\n",
       "      <td>6.443262</td>\n",
       "      <td>1.861935</td>\n",
       "      <td>-32.212152</td>\n",
       "      <td>-9.050435</td>\n",
       "    </tr>\n",
       "  </tbody>\n",
       "</table>\n",
       "<p>5 rows × 34 columns</p>\n",
       "</div>"
      ],
      "text/plain": [
       "                                                     AllcPath  CCC_Rate  \\\n",
       "cell                                                                      \n",
       "10E_M_2553  /gale/raidix/rdx-4/mapping/10E/CEMBA190627-10E...  0.003818   \n",
       "11E_M_1264  /gale/raidix/rdx-4/mapping/11E/CEMBA190214-11E...  0.003563   \n",
       "11E_M_2022  /gale/raidix/rdx-4/mapping/11E/CEMBA190305-11E...  0.003053   \n",
       "11E_M_2578  /gale/raidix/rdx-4/mapping/11E/CEMBA190305-11E...  0.004155   \n",
       "11E_M_2774  /gale/raidix/rdx-4/mapping/11E/CEMBA190305-11E...  0.003943   \n",
       "\n",
       "             CG_Rate  CG_RateAdj   CH_Rate  CH_RateAdj  FinalReads  \\\n",
       "cell                                                                 \n",
       "10E_M_2553  0.731619    0.730590  0.006802    0.002996   2141788.0   \n",
       "11E_M_1264  0.716644    0.715631  0.006663    0.003111   1756764.0   \n",
       "11E_M_2022  0.707928    0.707033  0.005766    0.002721   1486002.0   \n",
       "11E_M_2578  0.733983    0.732873  0.007369    0.003227   1331964.0   \n",
       "11E_M_2774  0.680811    0.679548  0.006163    0.002228   1447557.0   \n",
       "\n",
       "            InputReads  MappedReads Region  ... CellClass  l1-umap_0  \\\n",
       "cell                                        ...                        \n",
       "10E_M_2553     6135656    3990743.0    10E  ...      NonN -24.411915   \n",
       "11E_M_1264     4230358    2898405.0    11E  ...      NonN -24.666203   \n",
       "11E_M_2022     3629398    2481485.0    11E  ...      NonN -23.891644   \n",
       "11E_M_2578     3218770    1820034.0    11E  ...      NonN -24.168468   \n",
       "11E_M_2774     3793760    2375819.0    11E  ...      NonN -24.639971   \n",
       "\n",
       "            l1-umap_1  l1-tsne_0  l1-tsne_1 MajorType  l2-umap_0  l2-umap_1  \\\n",
       "cell                                                                          \n",
       "10E_M_2553   4.547135 -39.326882  20.255156  VLMC-Pia   7.559937   3.397658   \n",
       "11E_M_1264   4.857295 -39.172145  19.760853  VLMC-Pia   6.598211   1.999891   \n",
       "11E_M_2022   4.872487 -38.377223  20.199828  VLMC-Pia   6.723005   2.538621   \n",
       "11E_M_2578   4.393315 -39.322537  20.682279  VLMC-Pia   7.450697   3.253974   \n",
       "11E_M_2774   4.927505 -39.310030  19.558771  VLMC-Pia   6.443262   1.861935   \n",
       "\n",
       "            l2-tsne_0  l2-tsne_1  \n",
       "cell                              \n",
       "10E_M_2553 -37.863056  -4.002392  \n",
       "11E_M_1264 -32.610730  -8.940993  \n",
       "11E_M_2022 -33.514945  -6.299712  \n",
       "11E_M_2578 -37.871676  -3.982100  \n",
       "11E_M_2774 -32.212152  -9.050435  \n",
       "\n",
       "[5 rows x 34 columns]"
      ]
     },
     "execution_count": 7,
     "metadata": {},
     "output_type": "execute_result"
    }
   ],
   "source": [
    "print(select_cell_meta.shape)\n",
    "select_cell_meta.head()"
   ]
  },
  {
   "cell_type": "markdown",
   "metadata": {},
   "source": [
    "## Step 0 Cell Basic QC"
   ]
  },
  {
   "cell_type": "code",
   "execution_count": 8,
   "metadata": {
    "ExecuteTime": {
     "end_time": "2019-10-10T08:16:49.737363Z",
     "start_time": "2019-10-10T08:16:49.735419Z"
    }
   },
   "outputs": [],
   "source": [
    "# 0-CellBasicQC.ipynb\n",
    "step_0_params = dict(\n",
    "    study_name=study_name,\n",
    "    cell_metadata_path=str(cell_meta_path),\n",
    ")"
   ]
  },
  {
   "cell_type": "code",
   "execution_count": 9,
   "metadata": {
    "ExecuteTime": {
     "end_time": "2019-10-10T08:16:55.452348Z",
     "start_time": "2019-10-10T08:16:49.738484Z"
    },
    "scrolled": false
   },
   "outputs": [
    {
     "data": {
      "application/vnd.jupyter.widget-view+json": {
       "model_id": "7839f31077fd4ba58583d9ac2ae8d3d6",
       "version_major": 2,
       "version_minor": 0
      },
      "text/plain": [
       "HBox(children=(IntProgress(value=0, max=28), HTML(value='')))"
      ]
     },
     "metadata": {},
     "output_type": "display_data"
    },
    {
     "name": "stdout",
     "output_type": "stream",
     "text": [
      "\n"
     ]
    }
   ],
   "source": [
    "input_path = '0-CellBasicQC.ipynb'\n",
    "output_path = study_dir / '0-CellBasicQC.ipynb'\n",
    "execute_notebook(\n",
    "    str(input_path),\n",
    "    str(output_path),\n",
    "    parameters=step_0_params,\n",
    "    engine_name=None,\n",
    "    prepare_only=False,\n",
    "    kernel_name=None,\n",
    "    progress_bar=True,\n",
    "    log_output=False,\n",
    "    start_timeout=60,\n",
    "    report_mode=False,\n",
    "    cwd=str(study_dir))\n",
    "pass"
   ]
  },
  {
   "cell_type": "markdown",
   "metadata": {},
   "source": [
    "## Step 1 Prepare Adata"
   ]
  },
  {
   "cell_type": "code",
   "execution_count": 10,
   "metadata": {
    "ExecuteTime": {
     "end_time": "2019-10-10T08:16:55.459335Z",
     "start_time": "2019-10-10T08:16:55.453968Z"
    }
   },
   "outputs": [],
   "source": [
    "step_1_params = dict(\n",
    "    # parameters cell\n",
    "    in_memory=False,\n",
    "    dask_distribute=True,\n",
    "\n",
    "    # selected cell metadata path\n",
    "    cell_meta_path=str(study_dir / 'CellMetadata.AfterQC.msg'),\n",
    "\n",
    "    # mcds_path\n",
    "    mcds_path_list=[str(i) for i in dataset_dir.glob('*mcds')],\n",
    "    clustering_feature='chrom100k',  # usually 100kb chromosome bins or genes\n",
    "\n",
    "    # remove bad features\n",
    "    black_list_region=None,\n",
    "    exclude_chromosome=['chrY', 'chrM'],\n",
    "\n",
    "    # preprocess parameters\n",
    "    min_feature_cov=500,\n",
    "    max_feature_cov=3000,\n",
    "    ch_hvf_top=6000,\n",
    "    min_ch_hvf_mean=0.5,\n",
    "    max_ch_hvf_mean=2.5,\n",
    "    cg_hvf_top=6000,\n",
    "    min_cg_hvf_mean=0.5,\n",
    "    max_cg_hvf_mean=1.2)"
   ]
  },
  {
   "cell_type": "code",
   "execution_count": 11,
   "metadata": {
    "ExecuteTime": {
     "end_time": "2019-10-10T08:19:05.354199Z",
     "start_time": "2019-10-10T08:16:55.460547Z"
    }
   },
   "outputs": [
    {
     "data": {
      "application/vnd.jupyter.widget-view+json": {
       "model_id": "13b15be9124843f2974b5ddec296a767",
       "version_major": 2,
       "version_minor": 0
      },
      "text/plain": [
       "HBox(children=(IntProgress(value=0, max=44), HTML(value='')))"
      ]
     },
     "metadata": {},
     "output_type": "display_data"
    },
    {
     "name": "stdout",
     "output_type": "stream",
     "text": [
      "\n"
     ]
    }
   ],
   "source": [
    "input_path = '1-PrepareAdata.ipynb'\n",
    "output_path = study_dir / '1-PrepareAdata.ipynb'\n",
    "execute_notebook(\n",
    "    str(input_path),\n",
    "    str(output_path),\n",
    "    parameters=step_1_params,\n",
    "    engine_name=None,\n",
    "    prepare_only=False,\n",
    "    kernel_name=None,\n",
    "    progress_bar=True,\n",
    "    log_output=False,\n",
    "    start_timeout=60,\n",
    "    report_mode=False,\n",
    "    cwd=str(study_dir))\n",
    "pass"
   ]
  },
  {
   "cell_type": "markdown",
   "metadata": {},
   "source": [
    "## Step 2 Dimension Reduction"
   ]
  },
  {
   "cell_type": "code",
   "execution_count": 12,
   "metadata": {
    "ExecuteTime": {
     "end_time": "2019-10-10T08:19:05.358909Z",
     "start_time": "2019-10-10T08:19:05.355622Z"
    }
   },
   "outputs": [],
   "source": [
    "step_2_params = dict(\n",
    "    ch_pc_components=5,\n",
    "    cg_pc_components=10,\n",
    "    pc_color_col=None,\n",
    "    batch_correction_col=None,\n",
    "    sigma=15,\n",
    "    alpha=0.1,\n",
    "    scanorama_k=25,\n",
    "    n_neighbors=25,\n",
    "    resolution=0.8,\n",
    "    perplexity=50,\n",
    "    metadata_category_cols=['Region'],\n",
    "    metadata_continue_cols=['CG_RateAdj', 'CH_RateAdj', 'FinalReads'])"
   ]
  },
  {
   "cell_type": "code",
   "execution_count": 13,
   "metadata": {
    "ExecuteTime": {
     "end_time": "2019-10-10T08:19:22.903437Z",
     "start_time": "2019-10-10T08:19:05.360189Z"
    }
   },
   "outputs": [
    {
     "data": {
      "application/vnd.jupyter.widget-view+json": {
       "model_id": "f7e3c02bf45b47f19bc66ea08f0b8884",
       "version_major": 2,
       "version_minor": 0
      },
      "text/plain": [
       "HBox(children=(IntProgress(value=0, max=44), HTML(value='')))"
      ]
     },
     "metadata": {},
     "output_type": "display_data"
    },
    {
     "name": "stdout",
     "output_type": "stream",
     "text": [
      "\n"
     ]
    }
   ],
   "source": [
    "input_path = '2-DimensionReduction.ipynb'\n",
    "output_path = study_dir / '2-DimensionReduction.ipynb'\n",
    "execute_notebook(\n",
    "    str(input_path),\n",
    "    str(output_path),\n",
    "    parameters=step_2_params,\n",
    "    engine_name=None,\n",
    "    prepare_only=False,\n",
    "    kernel_name=None,\n",
    "    progress_bar=True,\n",
    "    log_output=False,\n",
    "    start_timeout=60,\n",
    "    report_mode=False,\n",
    "    cwd=str(study_dir))\n",
    "pass"
   ]
  },
  {
   "cell_type": "markdown",
   "metadata": {},
   "source": [
    "## Step 3 Consensus Clustering"
   ]
  },
  {
   "cell_type": "code",
   "execution_count": 14,
   "metadata": {
    "ExecuteTime": {
     "end_time": "2019-10-10T08:19:22.908927Z",
     "start_time": "2019-10-10T08:19:22.904891Z"
    }
   },
   "outputs": [],
   "source": [
    "step_3_params = dict(\n",
    "    coord_base='umap',\n",
    "    n_jobs=40,\n",
    "\n",
    "    # cc.fit_predict\n",
    "    n_neighbors=25,\n",
    "    metric='euclidean',\n",
    "    neighbor_kwds=None,\n",
    "    leiden_repeats=200,\n",
    "    seed=1,\n",
    "    leiden_resolution=0.3,\n",
    "    leiden_kwds=None,\n",
    "    min_cluster_size=10,\n",
    "    min_cluster_portion=0.01,\n",
    "    min_samples=1,\n",
    "    epsilon='auto',\n",
    "    hdbscan_kwds=None,\n",
    "\n",
    "    # cc.supervise_training\n",
    "    x=None,\n",
    "    test_portion=0.1,\n",
    "    n_estimators=500,\n",
    "    n_splits=10,\n",
    "    fbeta=1,\n",
    "    average='weighted',\n",
    "    outlier_proba_cutoff=0.3,\n",
    "    confusion_merge_cutoff=0.2)"
   ]
  },
  {
   "cell_type": "code",
   "execution_count": 15,
   "metadata": {
    "ExecuteTime": {
     "end_time": "2019-10-10T08:20:14.979311Z",
     "start_time": "2019-10-10T08:19:22.910091Z"
    }
   },
   "outputs": [
    {
     "data": {
      "application/vnd.jupyter.widget-view+json": {
       "model_id": "526b0b9e76044503ab4a9a34a3b37e84",
       "version_major": 2,
       "version_minor": 0
      },
      "text/plain": [
       "HBox(children=(IntProgress(value=0, max=34), HTML(value='')))"
      ]
     },
     "metadata": {},
     "output_type": "display_data"
    },
    {
     "name": "stdout",
     "output_type": "stream",
     "text": [
      "\n"
     ]
    }
   ],
   "source": [
    "input_path = '3-ConsensusClustering.ipynb'\n",
    "output_path = study_dir / '3-ConsensusClustering.ipynb'\n",
    "execute_notebook(\n",
    "    str(input_path),\n",
    "    str(output_path),\n",
    "    parameters=step_3_params,\n",
    "    engine_name=None,\n",
    "    prepare_only=False,\n",
    "    kernel_name=None,\n",
    "    progress_bar=True,\n",
    "    log_output=False,\n",
    "    start_timeout=60,\n",
    "    report_mode=False,\n",
    "    cwd=str(study_dir))\n",
    "pass"
   ]
  },
  {
   "cell_type": "markdown",
   "metadata": {},
   "source": [
    "## Step 4 Marker Identification"
   ]
  },
  {
   "cell_type": "code",
   "execution_count": 16,
   "metadata": {
    "ExecuteTime": {
     "end_time": "2019-10-10T08:20:14.984412Z",
     "start_time": "2019-10-10T08:20:14.981657Z"
    }
   },
   "outputs": [],
   "source": [
    "step_4_params = dict(\n",
    "    mc_type='CGN',\n",
    "    load=True,\n",
    "\n",
    "    # find marker gene\n",
    "    n_marker_genes=1000,\n",
    "    gene_score_cutoff=5,\n",
    "    abs_log_fold_change=1,\n",
    "    n_genes=10,\n",
    "    nrows=2,\n",
    "    coord_base='umap')"
   ]
  },
  {
   "cell_type": "code",
   "execution_count": 17,
   "metadata": {
    "ExecuteTime": {
     "end_time": "2019-10-10T08:20:21.106719Z",
     "start_time": "2019-10-10T08:20:14.985782Z"
    }
   },
   "outputs": [
    {
     "data": {
      "application/vnd.jupyter.widget-view+json": {
       "model_id": "e593a2fc532c484da08c9513c70c9136",
       "version_major": 2,
       "version_minor": 0
      },
      "text/plain": [
       "HBox(children=(IntProgress(value=0, max=25), HTML(value='')))"
      ]
     },
     "metadata": {},
     "output_type": "display_data"
    },
    {
     "name": "stdout",
     "output_type": "stream",
     "text": [
      "\n"
     ]
    }
   ],
   "source": [
    "input_path = '4-MarkerIdentification.ipynb'\n",
    "output_path = study_dir / '4-MarkerIdentification.ipynb'\n",
    "execute_notebook(\n",
    "    str(input_path),\n",
    "    str(output_path),\n",
    "    parameters=step_4_params,\n",
    "    engine_name=None,\n",
    "    prepare_only=False,\n",
    "    kernel_name=None,\n",
    "    progress_bar=True,\n",
    "    log_output=False,\n",
    "    start_timeout=60,\n",
    "    report_mode=False,\n",
    "    cwd=str(study_dir))\n",
    "pass"
   ]
  },
  {
   "cell_type": "markdown",
   "metadata": {},
   "source": [
    "## Step 5 Cluster Manual Annotation\n",
    "- Prepare Only"
   ]
  },
  {
   "cell_type": "code",
   "execution_count": 18,
   "metadata": {
    "ExecuteTime": {
     "end_time": "2019-10-10T08:20:21.111978Z",
     "start_time": "2019-10-10T08:20:21.108632Z"
    }
   },
   "outputs": [],
   "source": [
    "step_5_params = dict(load=True, mc_type='CGN', coord_base='umap')"
   ]
  },
  {
   "cell_type": "code",
   "execution_count": 19,
   "metadata": {
    "ExecuteTime": {
     "end_time": "2019-10-10T08:20:26.150428Z",
     "start_time": "2019-10-10T08:20:21.113248Z"
    }
   },
   "outputs": [
    {
     "data": {
      "application/vnd.jupyter.widget-view+json": {
       "model_id": "8a1b34c82c78407ea872a2014746fba3",
       "version_major": 2,
       "version_minor": 0
      },
      "text/plain": [
       "HBox(children=(IntProgress(value=0, max=35), HTML(value='')))"
      ]
     },
     "metadata": {},
     "output_type": "display_data"
    },
    {
     "name": "stdout",
     "output_type": "stream",
     "text": [
      "\n"
     ]
    }
   ],
   "source": [
    "input_path = '5-ClusterManualAnnotation.ipynb'\n",
    "output_path = study_dir / '5-ClusterManualAnnotation.ipynb'\n",
    "execute_notebook(\n",
    "    str(input_path),\n",
    "    str(output_path),\n",
    "    parameters=step_5_params,\n",
    "    engine_name=None,\n",
    "    prepare_only=False,\n",
    "    kernel_name=None,\n",
    "    progress_bar=True,\n",
    "    log_output=False,\n",
    "    start_timeout=60,\n",
    "    report_mode=False,\n",
    "    cwd=str(study_dir))\n",
    "pass"
   ]
  },
  {
   "cell_type": "markdown",
   "metadata": {},
   "source": [
    "## Step 6 Plot Brain Region"
   ]
  },
  {
   "cell_type": "code",
   "execution_count": 20,
   "metadata": {
    "ExecuteTime": {
     "end_time": "2019-10-10T08:20:26.153796Z",
     "start_time": "2019-10-10T08:20:26.151685Z"
    }
   },
   "outputs": [],
   "source": [
    "step_6_params = dict(s=10)"
   ]
  },
  {
   "cell_type": "code",
   "execution_count": 21,
   "metadata": {
    "ExecuteTime": {
     "end_time": "2019-10-10T08:20:38.037124Z",
     "start_time": "2019-10-10T08:20:26.155037Z"
    }
   },
   "outputs": [
    {
     "data": {
      "application/vnd.jupyter.widget-view+json": {
       "model_id": "ac76a3d25fd74b878e6e6448bb8e3c1d",
       "version_major": 2,
       "version_minor": 0
      },
      "text/plain": [
       "HBox(children=(IntProgress(value=0, max=33), HTML(value='')))"
      ]
     },
     "metadata": {},
     "output_type": "display_data"
    },
    {
     "name": "stdout",
     "output_type": "stream",
     "text": [
      "\n"
     ]
    }
   ],
   "source": [
    "input_path = '6-PlotBrainRegion.ipynb'\n",
    "output_path = study_dir / '6-PlotBrainRegion.ipynb'\n",
    "execute_notebook(\n",
    "    str(input_path),\n",
    "    str(output_path),\n",
    "    parameters=step_6_params,\n",
    "    engine_name=None,\n",
    "    prepare_only=False,\n",
    "    kernel_name=None,\n",
    "    progress_bar=True,\n",
    "    log_output=False,\n",
    "    start_timeout=60,\n",
    "    report_mode=False,\n",
    "    cwd=str(study_dir))\n",
    "pass"
   ]
  },
  {
   "cell_type": "code",
   "execution_count": null,
   "metadata": {},
   "outputs": [],
   "source": []
  },
  {
   "cell_type": "code",
   "execution_count": null,
   "metadata": {},
   "outputs": [],
   "source": []
  },
  {
   "cell_type": "code",
   "execution_count": null,
   "metadata": {},
   "outputs": [],
   "source": []
  }
 ],
 "metadata": {
  "hide_input": false,
  "kernelspec": {
   "display_name": "Python 3",
   "language": "python",
   "name": "python3"
  },
  "language_info": {
   "codemirror_mode": {
    "name": "ipython",
    "version": 3
   },
   "file_extension": ".py",
   "mimetype": "text/x-python",
   "name": "python",
   "nbconvert_exporter": "python",
   "pygments_lexer": "ipython3",
   "version": "3.7.3"
  },
  "toc": {
   "base_numbering": 1,
   "nav_menu": {},
   "number_sections": true,
   "sideBar": true,
   "skip_h1_title": true,
   "title_cell": "Table of Contents",
   "title_sidebar": "Contents",
   "toc_cell": true,
   "toc_position": {},
   "toc_section_display": true,
   "toc_window_display": true
  }
 },
 "nbformat": 4,
 "nbformat_minor": 2
}
