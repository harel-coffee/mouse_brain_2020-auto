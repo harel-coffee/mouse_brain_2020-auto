{
 "cells": [
  {
   "cell_type": "code",
   "execution_count": 1,
   "metadata": {
    "ExecuteTime": {
     "end_time": "2019-10-19T05:47:38.640409Z",
     "start_time": "2019-10-19T05:47:38.634607Z"
    }
   },
   "outputs": [],
   "source": [
    "study_design = {\n",
    "    'CNU': ['3F', '4D', '4E', '4G', '4H', '5E', '5F', '5H', '5J'],\n",
    "    'HPF': ['8E', '8J', '9J', '9H', '10E', '10F', '11E', '11F'],\n",
    "    'Isocortex': [\n",
    "        '1A', '1B', '2A', '2B', '2C', '3A', '3B', \n",
    "        '3C', '3D', '4A', '4B', '4C', '5A', '5B', \n",
    "        '5C', '5D', '6A', '6B', '6C', '7B', '8B'\n",
    "    ],\n",
    "    'OLF': ['1C', '2D', '2E', '3E', '4F', '5G', '6D'],\n",
    "    'ACA,PL,ILA': ['5A', '6A', '2A', '3A', '4A'],\n",
    "    'ACB': ['3F', '4E', '5F'],\n",
    "    'AI': ['3D'],\n",
    "    'MOB,AON': ['1C', '2E'],\n",
    "    'CA,DG': ['8H', '9H', '10E', '10F', '11E'],\n",
    "    'CP': ['4D', '5E'],\n",
    "    'DG,CA': ['8J', '9J', '11F', '11E', '10F'],\n",
    "    'MO': ['2C', '3C', '4B', '5D', '1A', '2B', '3B'],\n",
    "    'ORB': ['1B'],\n",
    "    'LSX': ['4G', '5J'],\n",
    "    'PAL': ['4H', '5H'],\n",
    "    'PIR': ['2D', '3E', '4F', '5G', '6D'],\n",
    "    'SS': ['4C', '5B', '6B', '7B', '8B', '5C', '6C']\n",
    "}"
   ]
  },
  {
   "cell_type": "code",
   "execution_count": 2,
   "metadata": {
    "ExecuteTime": {
     "end_time": "2019-10-19T05:47:39.144285Z",
     "start_time": "2019-10-19T05:47:38.641900Z"
    }
   },
   "outputs": [],
   "source": [
    "from papermill import execute_notebook, PapermillExecutionError\n",
    "import pandas as pd\n",
    "import pathlib\n",
    "import numpy as np\n",
    "import subprocess"
   ]
  },
  {
   "cell_type": "code",
   "execution_count": 3,
   "metadata": {
    "ExecuteTime": {
     "end_time": "2019-10-19T05:47:39.149123Z",
     "start_time": "2019-10-19T05:47:39.146497Z"
    }
   },
   "outputs": [],
   "source": [
    "total_cell_meta_path = '/home/hanliu/project/mouse_rostral_brain/study/ClusteringSummary/Summary/TotalClusteringResults.msg'\n",
    "template_dir = '/home/hanliu/project/mouse_rostral_brain/study/ClusteringRecipe/'\n",
    "dataset_dir = '/home/hanliu/project/mouse_rostral_brain/dataset/'\n",
    "dataset_dir = pathlib.Path(dataset_dir)\n"
   ]
  },
  {
   "cell_type": "markdown",
   "metadata": {},
   "source": [
    "## Load data"
   ]
  },
  {
   "cell_type": "code",
   "execution_count": 4,
   "metadata": {
    "ExecuteTime": {
     "end_time": "2019-10-19T05:47:39.396281Z",
     "start_time": "2019-10-19T05:47:39.150427Z"
    }
   },
   "outputs": [
    {
     "name": "stderr",
     "output_type": "stream",
     "text": [
      "/home/hanliu/miniconda3/envs/clustering/lib/python3.7/site-packages/IPython/core/interactiveshell.py:3326: FutureWarning: The read_msgpack is deprecated and will be removed in a future version.\n",
      "It is recommended to use pyarrow for on-the-wire transmission of pandas objects.\n",
      "  exec(code_obj, self.user_global_ns, self.user_ns)\n"
     ]
    },
    {
     "data": {
      "text/plain": [
       "array(['MGE-Sst', 'CA3', 'CA1', 'CA3-St18', 'Unc5c', 'Gfra1', 'ODC', 'PC',\n",
       "       'ANP', 'IT-L5', 'NP-L6', 'CGE-Lamp5', 'CT-L6', 'IG-CA2', 'DG-po',\n",
       "       'DG', 'CGE-Vip', 'OPC', 'ASC', 'MGC', 'PAL-Inh', 'PT-L5',\n",
       "       'MGE-Pvalb', 'VLMC', 'EC', 'VLMC-Pia', 'OLF', 'MSN-D2', 'L6b',\n",
       "       'IT-L6', 'IT-L23', 'IT-L4', 'OLF-Exc', 'CLA', 'Foxp2', 'MSN-D1',\n",
       "       'LSX-Inh', 'D1L-Fstl4', 'EP', 'D1L-PAL', 'Chd7'], dtype=object)"
      ]
     },
     "execution_count": 4,
     "metadata": {},
     "output_type": "execute_result"
    }
   ],
   "source": [
    "total_cell_meta = pd.read_msgpack(total_cell_meta_path)\n",
    "total_cell_meta['MajorType'].unique()"
   ]
  },
  {
   "cell_type": "code",
   "execution_count": 5,
   "metadata": {
    "ExecuteTime": {
     "end_time": "2019-10-19T05:47:39.410753Z",
     "start_time": "2019-10-19T05:47:39.397803Z"
    },
    "scrolled": true
   },
   "outputs": [],
   "source": [
    "def runner(study_name, regions):\n",
    "    # create dir\n",
    "    study_dir = f'/home/hanliu/project/mouse_rostral_brain/study/BrainStructures/{study_name}'\n",
    "    study_dir = pathlib.Path(study_dir)\n",
    "    if study_dir.exists():\n",
    "        print(study_name, 'exists')\n",
    "        return\n",
    "    \n",
    "    study_dir.mkdir(exist_ok=True)\n",
    "    \n",
    "    # select cell\n",
    "    select_cell_meta = total_cell_meta[total_cell_meta['Region'].isin(regions) &  total_cell_meta['MajorType'].apply(lambda i: 'Outlier' not in i)]\n",
    "    print('Cells:', select_cell_meta.shape[0])\n",
    "    cell_meta_path = study_dir / 'CellMetadata.msg'\n",
    "    select_cell_meta.to_msgpack(cell_meta_path)\n",
    "    \n",
    "    # 0-CellBasicQC.ipynb\n",
    "    step_0_params = dict(\n",
    "        study_name=study_name,\n",
    "        cell_metadata_path=str(cell_meta_path),\n",
    "    )\n",
    "    \n",
    "    input_path = '0-CellBasicQC.ipynb'\n",
    "    output_path = study_dir / '0-CellBasicQC.ipynb'\n",
    "    execute_notebook(\n",
    "        str(input_path),\n",
    "        str(output_path),\n",
    "        parameters=step_0_params,\n",
    "        engine_name=None,\n",
    "        prepare_only=False,\n",
    "        kernel_name=None,\n",
    "        progress_bar=True,\n",
    "        log_output=False,\n",
    "        start_timeout=60,\n",
    "        report_mode=False,\n",
    "        cwd=str(study_dir))\n",
    "    \n",
    "    step_1_params = dict(\n",
    "        # parameters cell\n",
    "        in_memory=True,\n",
    "        dask_distribute=False,\n",
    "    \n",
    "        # selected cell metadata path\n",
    "        cell_meta_path=str(study_dir / 'CellMetadata.AfterQC.msg'),\n",
    "    \n",
    "        # mcds_path\n",
    "        mcds_path_list=[str(i) for i in dataset_dir.glob('*mcds') if (i.name.split('-')[0] in regions)],\n",
    "        clustering_feature='chrom100k',  # usually 100kb chromosome bins or genes\n",
    "    \n",
    "        # remove bad features\n",
    "        black_list_region=None,\n",
    "        exclude_chromosome=['chrY', 'chrM'],\n",
    "    \n",
    "        # preprocess parameters\n",
    "        min_feature_cov=500,\n",
    "        max_feature_cov=3000,\n",
    "        ch_hvf_top=3000,\n",
    "        min_ch_hvf_mean=0.5,\n",
    "        max_ch_hvf_mean=2.5,\n",
    "        cg_hvf_top=3000,\n",
    "        min_cg_hvf_mean=0.5,\n",
    "        max_cg_hvf_mean=1.2)\n",
    "    \n",
    "    input_path = '1-PrepareAdata.ipynb'\n",
    "    output_path = study_dir / '1-PrepareAdata.ipynb'\n",
    "    execute_notebook(\n",
    "        str(input_path),\n",
    "        str(output_path),\n",
    "        parameters=step_1_params,\n",
    "        engine_name=None,\n",
    "        prepare_only=False,\n",
    "        kernel_name=None,\n",
    "        progress_bar=True,\n",
    "        log_output=False,\n",
    "        start_timeout=60,\n",
    "        report_mode=False,\n",
    "        cwd=str(study_dir),\n",
    "        generate_gene_rate=False)\n",
    "    \n",
    "    step_2_params = dict(\n",
    "        ch_pc_components=20,\n",
    "        cg_pc_components=10,\n",
    "        pc_color_col=None,\n",
    "        batch_correction_col=None,\n",
    "        sigma=15,\n",
    "        alpha=0.1,\n",
    "        scanorama_k=25,\n",
    "        n_neighbors=25,\n",
    "        resolution=0.8,\n",
    "        perplexity=50,\n",
    "        metadata_category_cols=['Region'],\n",
    "        metadata_continue_cols=['CG_RateAdj', 'CH_RateAdj', 'FinalReads'])\n",
    "    \n",
    "    input_path = '2-DimensionReduction.ipynb'\n",
    "    output_path = study_dir / '2-DimensionReduction.ipynb'\n",
    "    execute_notebook(\n",
    "        str(input_path),\n",
    "        str(output_path),\n",
    "        parameters=step_2_params,\n",
    "        engine_name=None,\n",
    "        prepare_only=False,\n",
    "        kernel_name=None,\n",
    "        progress_bar=True,\n",
    "        log_output=False,\n",
    "        start_timeout=60,\n",
    "        report_mode=False,\n",
    "        cwd=str(study_dir))\n",
    "    \n",
    "    subprocess.run(['rm', '-rf', str(study_dir / 'Adata')], \n",
    "                   check=True)\n",
    "    \n",
    "    return"
   ]
  },
  {
   "cell_type": "code",
   "execution_count": null,
   "metadata": {
    "ExecuteTime": {
     "start_time": "2019-10-19T05:47:38.620Z"
    }
   },
   "outputs": [
    {
     "name": "stdout",
     "output_type": "stream",
     "text": [
      "CNU\n",
      "['3F', '4D', '4E', '4G', '4H', '5E', '5F', '5H', '5J']\n",
      "CNU exists\n",
      "HPF\n",
      "['8E', '8J', '9J', '9H', '10E', '10F', '11E', '11F']\n",
      "HPF exists\n",
      "Isocortex\n",
      "['1A', '1B', '2A', '2B', '2C', '3A', '3B', '3C', '3D', '4A', '4B', '4C', '5A', '5B', '5C', '5D', '6A', '6B', '6C', '7B', '8B']\n",
      "Isocortex exists\n",
      "OLF\n",
      "['1C', '2D', '2E', '3E', '4F', '5G', '6D']\n",
      "Cells: 17655\n"
     ]
    },
    {
     "name": "stderr",
     "output_type": "stream",
     "text": [
      "/home/hanliu/miniconda3/envs/clustering/lib/python3.7/site-packages/ipykernel_launcher.py:15: FutureWarning: to_msgpack is deprecated and will be removed in a future version.\n",
      "It is recommended to use pyarrow for on-the-wire transmission of pandas objects.\n",
      "  from ipykernel import kernelapp as app\n"
     ]
    },
    {
     "data": {
      "application/vnd.jupyter.widget-view+json": {
       "model_id": "e4ccac5ecbb447c3ba1e8b5d430aa6cc",
       "version_major": 2,
       "version_minor": 0
      },
      "text/plain": [
       "HBox(children=(IntProgress(value=0, max=28), HTML(value='')))"
      ]
     },
     "metadata": {},
     "output_type": "display_data"
    },
    {
     "name": "stdout",
     "output_type": "stream",
     "text": [
      "\n"
     ]
    },
    {
     "data": {
      "application/vnd.jupyter.widget-view+json": {
       "model_id": "55703c097625435fb587d6ea0bff8aea",
       "version_major": 2,
       "version_minor": 0
      },
      "text/plain": [
       "HBox(children=(IntProgress(value=0, max=44), HTML(value='')))"
      ]
     },
     "metadata": {},
     "output_type": "display_data"
    }
   ],
   "source": [
    "for study_name, regions in study_design.items():\n",
    "    print(study_name)\n",
    "    print(regions)\n",
    "    runner(study_name, regions)"
   ]
  },
  {
   "cell_type": "code",
   "execution_count": null,
   "metadata": {},
   "outputs": [],
   "source": []
  },
  {
   "cell_type": "code",
   "execution_count": null,
   "metadata": {},
   "outputs": [],
   "source": []
  },
  {
   "cell_type": "code",
   "execution_count": null,
   "metadata": {},
   "outputs": [],
   "source": []
  },
  {
   "cell_type": "code",
   "execution_count": null,
   "metadata": {},
   "outputs": [],
   "source": []
  }
 ],
 "metadata": {
  "hide_input": false,
  "kernelspec": {
   "display_name": "Python 3",
   "language": "python",
   "name": "python3"
  },
  "language_info": {
   "codemirror_mode": {
    "name": "ipython",
    "version": 3
   },
   "file_extension": ".py",
   "mimetype": "text/x-python",
   "name": "python",
   "nbconvert_exporter": "python",
   "pygments_lexer": "ipython3",
   "version": "3.7.3"
  },
  "toc": {
   "base_numbering": 1,
   "nav_menu": {},
   "number_sections": true,
   "sideBar": true,
   "skip_h1_title": true,
   "title_cell": "Table of Contents",
   "title_sidebar": "Contents",
   "toc_cell": false,
   "toc_position": {},
   "toc_section_display": true,
   "toc_window_display": true
  }
 },
 "nbformat": 4,
 "nbformat_minor": 2
}
