{
 "cells": [
  {
   "cell_type": "markdown",
   "metadata": {
    "toc": true
   },
   "source": [
    "<h1>Table of Contents<span class=\"tocSkip\"></span></h1>\n",
    "<div class=\"toc\"><ul class=\"toc-item\"><li><span><a href=\"#Purpose\" data-toc-modified-id=\"Purpose-1\"><span class=\"toc-item-num\">1&nbsp;&nbsp;</span>Purpose</a></span></li><li><span><a href=\"#Input\" data-toc-modified-id=\"Input-2\"><span class=\"toc-item-num\">2&nbsp;&nbsp;</span>Input</a></span></li><li><span><a href=\"#Output\" data-toc-modified-id=\"Output-3\"><span class=\"toc-item-num\">3&nbsp;&nbsp;</span>Output</a></span></li><li><span><a href=\"#Parameters\" data-toc-modified-id=\"Parameters-4\"><span class=\"toc-item-num\">4&nbsp;&nbsp;</span>Parameters</a></span></li><li><span><a href=\"#Meta\" data-toc-modified-id=\"Meta-5\"><span class=\"toc-item-num\">5&nbsp;&nbsp;</span>Meta</a></span><ul class=\"toc-item\"><li><span><a href=\"#Brain-region-info\" data-toc-modified-id=\"Brain-region-info-5.1\"><span class=\"toc-item-num\">5.1&nbsp;&nbsp;</span>Brain region info</a></span></li><li><span><a href=\"#Cell-Metadata\" data-toc-modified-id=\"Cell-Metadata-5.2\"><span class=\"toc-item-num\">5.2&nbsp;&nbsp;</span>Cell Metadata</a></span></li></ul></li><li><span><a href=\"#Plot\" data-toc-modified-id=\"Plot-6\"><span class=\"toc-item-num\">6&nbsp;&nbsp;</span>Plot</a></span><ul class=\"toc-item\"><li><span><a href=\"#UMAP\" data-toc-modified-id=\"UMAP-6.1\"><span class=\"toc-item-num\">6.1&nbsp;&nbsp;</span>UMAP</a></span></li><li><span><a href=\"#tSNE\" data-toc-modified-id=\"tSNE-6.2\"><span class=\"toc-item-num\">6.2&nbsp;&nbsp;</span>tSNE</a></span></li></ul></li></ul></div>"
   ]
  },
  {
   "cell_type": "markdown",
   "metadata": {},
   "source": [
    "# Plot Brain Regions\n",
    "\n",
    "## Purpose\n",
    "- Plot brain region distribution on coords and clusters\n",
    "\n",
    "## Input\n",
    "- all coords and clustering results, cell meta\n",
    "\n",
    "## Output\n",
    "- Brain region plots"
   ]
  },
  {
   "cell_type": "code",
   "execution_count": 1,
   "metadata": {
    "ExecuteTime": {
     "end_time": "2019-08-27T07:02:15.039745Z",
     "start_time": "2019-08-27T07:02:15.037783Z"
    }
   },
   "outputs": [],
   "source": [
    "import warnings\n",
    "warnings.filterwarnings('ignore')"
   ]
  },
  {
   "cell_type": "code",
   "execution_count": 2,
   "metadata": {
    "ExecuteTime": {
     "end_time": "2019-08-27T07:02:15.516602Z",
     "start_time": "2019-08-27T07:02:15.041098Z"
    }
   },
   "outputs": [],
   "source": [
    "import pathlib\n",
    "import matplotlib.pyplot as plt\n",
    "import numpy as np\n",
    "import pandas as pd\n",
    "import seaborn as sns\n",
    "from cemba_data.plot import *"
   ]
  },
  {
   "cell_type": "code",
   "execution_count": 3,
   "metadata": {
    "ExecuteTime": {
     "end_time": "2019-08-27T07:02:15.521625Z",
     "start_time": "2019-08-27T07:02:15.518239Z"
    }
   },
   "outputs": [],
   "source": [
    "result_dir = pathlib.Path('BrainRegion')\n",
    "result_dir.mkdir(exist_ok=True)\n",
    "fig_dir = pathlib.Path('fig/brain_region')\n",
    "fig_dir.mkdir(exist_ok=True, parents=True)"
   ]
  },
  {
   "cell_type": "markdown",
   "metadata": {},
   "source": [
    "## Parameters"
   ]
  },
  {
   "cell_type": "code",
   "execution_count": 4,
   "metadata": {
    "ExecuteTime": {
     "end_time": "2019-08-27T07:02:15.524999Z",
     "start_time": "2019-08-27T07:02:15.522914Z"
    },
    "tags": [
     "parameters"
    ]
   },
   "outputs": [],
   "source": [
    "cell_meta_path = '/home/hanliu/project/mouse_rostral_brain/'\n",
    "brain_region_meta_path = '/home/hanliu/project/mouse_rostral_brain/metadata/BrainRegion.txt'\n",
    "cluster_col_name = 'consensus_cluster_rescued_anno'\n",
    "\n",
    "s = 1"
   ]
  },
  {
   "cell_type": "markdown",
   "metadata": {},
   "source": [
    "## Meta"
   ]
  },
  {
   "cell_type": "markdown",
   "metadata": {},
   "source": [
    "### Brain region info"
   ]
  },
  {
   "cell_type": "code",
   "execution_count": 5,
   "metadata": {
    "ExecuteTime": {
     "end_time": "2019-08-27T07:02:15.535516Z",
     "start_time": "2019-08-27T07:02:15.526188Z"
    }
   },
   "outputs": [],
   "source": [
    "brain_region = pd.read_csv(brain_region_meta_path,\n",
    "                           sep='\\t', index_col='DissectionRegion')\n",
    "major_region_palette = brain_region.set_index('MajorRegion')['MajorRegionColor'].to_dict()\n",
    "sub_region_palette = brain_region.set_index('SubRegion')['SubRegionColor'].to_dict()\n",
    "region_palette = brain_region['DissectionRegionColor'].to_dict()"
   ]
  },
  {
   "cell_type": "markdown",
   "metadata": {},
   "source": [
    "### Cell Metadata"
   ]
  },
  {
   "cell_type": "code",
   "execution_count": null,
   "metadata": {},
   "outputs": [],
   "source": [
    "cell_meta = pd.read_msgpack('cell_tidy_data.final_annotation.msg')\n",
    "cell_meta['MajorRegion'] = cell_meta['Region'].map(brain_region['MajorRegion'])\n",
    "cell_meta['SubRegion'] = cell_meta['Region'].map(brain_region['SubRegion'])"
   ]
  },
  {
   "cell_type": "markdown",
   "metadata": {},
   "source": [
    "## Plot\n",
    "\n",
    "### UMAP"
   ]
  },
  {
   "cell_type": "code",
   "execution_count": null,
   "metadata": {
    "ExecuteTime": {
     "end_time": "2019-08-27T07:02:15.664663Z",
     "start_time": "2019-08-27T07:02:15.025Z"
    }
   },
   "outputs": [],
   "source": [
    "coords = 'umap'"
   ]
  },
  {
   "cell_type": "code",
   "execution_count": null,
   "metadata": {
    "ExecuteTime": {
     "end_time": "2019-08-27T07:02:15.665617Z",
     "start_time": "2019-08-27T07:02:15.027Z"
    }
   },
   "outputs": [],
   "source": [
    "fig, ax = plt.subplots(figsize=(8, 8), dpi=300)\n",
    "categorical_scatter(cell_meta, \n",
    "                    ax, \n",
    "                    coord_base=coords, \n",
    "                    hue='MajorRegion',\n",
    "                    text_anno=cluster_col_name,\n",
    "                    palette=major_region_palette,\n",
    "                    show_legend=True,\n",
    "                    scatter_kws=dict(s=s),\n",
    "                    text_anno_kws=dict(fontsize=5),\n",
    "                    legend_kws=dict(bbox_to_anchor=(1.05, 0.9)),\n",
    "                    max_points=None)\n",
    "ax.set_title('MajorRegion')\n",
    "fig.savefig(fig_dir / f'MajorRegion_{coords}.pdf', bbox_inches='tight')"
   ]
  },
  {
   "cell_type": "code",
   "execution_count": null,
   "metadata": {
    "ExecuteTime": {
     "end_time": "2019-08-27T07:02:15.666480Z",
     "start_time": "2019-08-27T07:02:15.029Z"
    }
   },
   "outputs": [],
   "source": [
    "fig, ax = plt.subplots(figsize=(8, 8), dpi=300)\n",
    "categorical_scatter(cell_meta, \n",
    "                    ax, \n",
    "                    coord_base=coords, \n",
    "                    hue='SubRegion',\n",
    "                    text_anno=cluster_col_name,\n",
    "                    palette=sub_region_palette,\n",
    "                    show_legend=True,\n",
    "                    scatter_kws=dict(s=s),\n",
    "                    text_anno_kws=dict(fontsize=5),\n",
    "                    legend_kws=dict(bbox_to_anchor=(1.05, 0.9)),\n",
    "                    max_points=None)\n",
    "ax.set_title('SubRegion')\n",
    "fig.savefig(fig_dir / f'SubRegion_{coords}.pdf', bbox_inches='tight')"
   ]
  },
  {
   "cell_type": "code",
   "execution_count": null,
   "metadata": {
    "ExecuteTime": {
     "end_time": "2019-08-27T07:02:15.667405Z",
     "start_time": "2019-08-27T07:02:15.030Z"
    }
   },
   "outputs": [],
   "source": [
    "fig, ax = plt.subplots(figsize=(8, 8), dpi=300)\n",
    "categorical_scatter(cell_meta, \n",
    "                    ax, \n",
    "                    coord_base=coords, \n",
    "                    hue='Region',\n",
    "                    text_anno=cluster_col_name,\n",
    "                    palette=region_palette,\n",
    "                    show_legend=True,\n",
    "                    scatter_kws=dict(s=s),\n",
    "                    text_anno_kws=dict(fontsize=5),\n",
    "                    legend_kws=dict(bbox_to_anchor=(1.05, 0.9)),\n",
    "                    max_points=None)\n",
    "ax.set_title('Region')\n",
    "fig.savefig(fig_dir / f'Region_{coords}.pdf', bbox_inches='tight')"
   ]
  },
  {
   "cell_type": "code",
   "execution_count": null,
   "metadata": {
    "ExecuteTime": {
     "end_time": "2019-08-27T07:02:15.668166Z",
     "start_time": "2019-08-27T07:02:15.032Z"
    }
   },
   "outputs": [],
   "source": [
    "fig, ax = plt.subplots(figsize=(8, 8), dpi=300)\n",
    "categorical_scatter(cell_meta, \n",
    "                    ax, \n",
    "                    coord_base=coords, \n",
    "                    hue=cluster_col_name,\n",
    "                    text_anno=cluster_col_name,\n",
    "                    palette=level_one_palette(cell_meta[cluster_col_name]),\n",
    "                    show_legend=True,\n",
    "                    scatter_kws=dict(s=s),\n",
    "                    text_anno_kws=dict(fontsize=5),\n",
    "                    legend_kws=dict(bbox_to_anchor=(1.05, 0.9)),\n",
    "                    max_points=None)\n",
    "ax.set_title(cluster_col_name)\n",
    "fig.savefig(fig_dir / f'{cluster_col_name}_{coords}.pdf', bbox_inches='tight')"
   ]
  },
  {
   "cell_type": "code",
   "execution_count": null,
   "metadata": {
    "ExecuteTime": {
     "end_time": "2019-08-27T07:02:15.669011Z",
     "start_time": "2019-08-27T07:02:15.034Z"
    }
   },
   "outputs": [],
   "source": [
    "fig, ax = plt.subplots(figsize=(8, 8), dpi=300)\n",
    "categorical_scatter(cell_meta, \n",
    "                    ax, \n",
    "                    coord_base=coords, \n",
    "                    hue=(cell_meta['Col96'] != 11),\n",
    "                    text_anno=cluster_col_name,\n",
    "                    palette='tab10',\n",
    "                    show_legend=True,\n",
    "                    scatter_kws=dict(s=s),\n",
    "                    text_anno_kws=dict(fontsize=5),\n",
    "                    legend_kws=dict(bbox_to_anchor=(1.05, 0.9)),\n",
    "                    max_points=None)\n",
    "ax.set_title('NeuN +/-')\n",
    "\n",
    "fig.savefig(fig_dir / f'MeuN_{coords}.pdf', bbox_inches='tight')"
   ]
  },
  {
   "cell_type": "markdown",
   "metadata": {},
   "source": [
    "### tSNE"
   ]
  },
  {
   "cell_type": "code",
   "execution_count": null,
   "metadata": {
    "ExecuteTime": {
     "end_time": "2019-08-27T07:02:15.669771Z",
     "start_time": "2019-08-27T07:02:15.036Z"
    }
   },
   "outputs": [],
   "source": [
    "coords = 'tsne'"
   ]
  },
  {
   "cell_type": "code",
   "execution_count": null,
   "metadata": {
    "ExecuteTime": {
     "end_time": "2019-08-27T07:02:15.670544Z",
     "start_time": "2019-08-27T07:02:15.038Z"
    }
   },
   "outputs": [],
   "source": [
    "fig, ax = plt.subplots(figsize=(8, 8), dpi=300)\n",
    "categorical_scatter(cell_meta, \n",
    "                    ax, \n",
    "                    coord_base=coords, \n",
    "                    hue='MajorRegion',\n",
    "                    text_anno=cluster_col_name,\n",
    "                    palette=major_region_palette,\n",
    "                    show_legend=True,\n",
    "                    scatter_kws=dict(s=s),\n",
    "                    text_anno_kws=dict(fontsize=5),\n",
    "                    legend_kws=dict(bbox_to_anchor=(1.05, 0.9)),\n",
    "                    max_points=None)\n",
    "ax.set_title('MajorRegion')\n",
    "fig.savefig(fig_dir / f'MajorRegion_{coords}.pdf', bbox_inches='tight')"
   ]
  },
  {
   "cell_type": "code",
   "execution_count": null,
   "metadata": {
    "ExecuteTime": {
     "end_time": "2019-08-27T07:02:15.671407Z",
     "start_time": "2019-08-27T07:02:15.040Z"
    },
    "scrolled": false
   },
   "outputs": [],
   "source": [
    "fig, ax = plt.subplots(figsize=(8, 8), dpi=300)\n",
    "categorical_scatter(cell_meta, \n",
    "                    ax, \n",
    "                    coord_base=coords, \n",
    "                    hue='SubRegion',\n",
    "                    text_anno=cluster_col_name,\n",
    "                    palette=sub_region_palette,\n",
    "                    show_legend=True,\n",
    "                    scatter_kws=dict(s=s),\n",
    "                    text_anno_kws=dict(fontsize=5),\n",
    "                    legend_kws=dict(bbox_to_anchor=(1.05, 0.9)),\n",
    "                    max_points=None)\n",
    "ax.set_title('SubRegion')\n",
    "fig.savefig(fig_dir / f'SubRegion_{coords}.pdf', bbox_inches='tight')"
   ]
  },
  {
   "cell_type": "code",
   "execution_count": null,
   "metadata": {
    "ExecuteTime": {
     "end_time": "2019-08-27T07:02:15.672217Z",
     "start_time": "2019-08-27T07:02:15.042Z"
    }
   },
   "outputs": [],
   "source": [
    "fig, ax = plt.subplots(figsize=(8, 8), dpi=300)\n",
    "categorical_scatter(cell_meta, \n",
    "                    ax, \n",
    "                    coord_base=coords, \n",
    "                    hue='Region',\n",
    "                    text_anno=cluster_col_name,\n",
    "                    palette=region_palette,\n",
    "                    show_legend=True,\n",
    "                    scatter_kws=dict(s=s),\n",
    "                    text_anno_kws=dict(fontsize=5),\n",
    "                    legend_kws=dict(bbox_to_anchor=(1.05, 0.9)),\n",
    "                    max_points=None)\n",
    "ax.set_title('Region')\n",
    "fig.savefig(fig_dir / f'Region_{coords}.pdf', bbox_inches='tight')"
   ]
  },
  {
   "cell_type": "code",
   "execution_count": null,
   "metadata": {
    "ExecuteTime": {
     "end_time": "2019-08-27T07:02:15.673021Z",
     "start_time": "2019-08-27T07:02:15.043Z"
    }
   },
   "outputs": [],
   "source": [
    "fig, ax = plt.subplots(figsize=(8, 8), dpi=300)\n",
    "categorical_scatter(cell_meta, \n",
    "                    ax, \n",
    "                    coord_base=coords, \n",
    "                    hue=cluster_col_name,\n",
    "                    text_anno=cluster_col_name,\n",
    "                    palette=level_one_palette(cell_meta[cluster_col_name]),\n",
    "                    show_legend=True,\n",
    "                    scatter_kws=dict(s=s),\n",
    "                    text_anno_kws=dict(fontsize=5),\n",
    "                    legend_kws=dict(bbox_to_anchor=(1.05, 0.9)),\n",
    "                    max_points=None)\n",
    "ax.set_title(cluster_col_name)\n",
    "fig.savefig(fig_dir / f'{cluster_col_name}_{coords}.pdf', bbox_inches='tight')"
   ]
  },
  {
   "cell_type": "code",
   "execution_count": null,
   "metadata": {
    "ExecuteTime": {
     "end_time": "2019-08-27T07:02:15.673791Z",
     "start_time": "2019-08-27T07:02:15.045Z"
    }
   },
   "outputs": [],
   "source": [
    "fig, ax = plt.subplots(figsize=(8, 8), dpi=300)\n",
    "categorical_scatter(cell_meta, \n",
    "                    ax, \n",
    "                    coord_base=coords, \n",
    "                    hue=(cell_meta['Col96'] != 11),\n",
    "                    text_anno=cluster_col_name,\n",
    "                    palette='tab10',\n",
    "                    show_legend=True,\n",
    "                    scatter_kws=dict(s=s),\n",
    "                    text_anno_kws=dict(fontsize=5),\n",
    "                    legend_kws=dict(bbox_to_anchor=(1.05, 0.9)),\n",
    "                    max_points=None)\n",
    "ax.set_title('NeuN +/-')\n",
    "\n",
    "fig.savefig(fig_dir / f'MeuN_{coords}.pdf', bbox_inches='tight')"
   ]
  },
  {
   "cell_type": "code",
   "execution_count": null,
   "metadata": {},
   "outputs": [],
   "source": []
  },
  {
   "cell_type": "code",
   "execution_count": null,
   "metadata": {},
   "outputs": [],
   "source": []
  },
  {
   "cell_type": "code",
   "execution_count": null,
   "metadata": {},
   "outputs": [],
   "source": []
  },
  {
   "cell_type": "code",
   "execution_count": null,
   "metadata": {},
   "outputs": [],
   "source": []
  },
  {
   "cell_type": "code",
   "execution_count": null,
   "metadata": {},
   "outputs": [],
   "source": []
  },
  {
   "cell_type": "code",
   "execution_count": null,
   "metadata": {},
   "outputs": [],
   "source": []
  }
 ],
 "metadata": {
  "hide_input": false,
  "kernelspec": {
   "display_name": "Python 3",
   "language": "python",
   "name": "python3"
  },
  "language_info": {
   "codemirror_mode": {
    "name": "ipython",
    "version": 3
   },
   "file_extension": ".py",
   "mimetype": "text/x-python",
   "name": "python",
   "nbconvert_exporter": "python",
   "pygments_lexer": "ipython3",
   "version": "3.7.3"
  },
  "toc": {
   "base_numbering": 1,
   "nav_menu": {},
   "number_sections": true,
   "sideBar": true,
   "skip_h1_title": true,
   "title_cell": "Table of Contents",
   "title_sidebar": "Contents",
   "toc_cell": true,
   "toc_position": {},
   "toc_section_display": true,
   "toc_window_display": true
  }
 },
 "nbformat": 4,
 "nbformat_minor": 2
}
