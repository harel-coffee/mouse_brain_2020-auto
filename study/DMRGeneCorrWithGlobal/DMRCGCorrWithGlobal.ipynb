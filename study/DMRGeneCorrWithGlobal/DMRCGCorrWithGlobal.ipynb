{
 "cells": [
  {
   "cell_type": "code",
   "execution_count": 1,
   "metadata": {
    "ExecuteTime": {
     "end_time": "2019-12-30T07:29:56.363612Z",
     "start_time": "2019-12-30T07:29:55.785136Z"
    }
   },
   "outputs": [
    {
     "name": "stderr",
     "output_type": "stream",
     "text": [
      "/home/hanliu/miniconda3/envs/clustering/lib/python3.7/site-packages/xarray/core/merge.py:18: FutureWarning: The Panel class is removed from pandas. Accessing it from the top-level namespace will also be removed in the next version\n",
      "  PANDAS_TYPES = (pd.Series, pd.DataFrame, pd.Panel)\n",
      "/home/hanliu/miniconda3/envs/clustering/lib/python3.7/site-packages/xarray/core/dataarray.py:1829: FutureWarning: The Panel class is removed from pandas. Accessing it from the top-level namespace will also be removed in the next version\n",
      "  'DataArray', pd.Series, pd.DataFrame, pd.Panel]:\n"
     ]
    }
   ],
   "source": [
    "import pandas as pd\n",
    "import numpy as np\n",
    "import xarray as xr\n",
    "import seaborn as sns\n",
    "import matplotlib.pyplot as plt"
   ]
  },
  {
   "cell_type": "code",
   "execution_count": 2,
   "metadata": {
    "ExecuteTime": {
     "end_time": "2019-12-30T07:29:57.682452Z",
     "start_time": "2019-12-30T07:29:57.391127Z"
    }
   },
   "outputs": [],
   "source": [
    "\"\"\"\n",
    "See here https://stackoverflow.com/questions/52371329/fast-spearman-correlation-between-two-pandas-dataframes\n",
    "\n",
    "Calculate correlation between two matrix, row by row\n",
    "\"\"\"\n",
    "\n",
    "from numba import njit\n",
    "import numpy as np\n",
    "\n",
    "\n",
    "@njit\n",
    "def _mean(a):\n",
    "    n = len(a)\n",
    "    b = np.empty(n)\n",
    "    for i in range(n):\n",
    "        b[i] = a[i].mean()\n",
    "    return b\n",
    "\n",
    "\n",
    "@njit\n",
    "def _std(a):\n",
    "    n = len(a)\n",
    "    b = np.empty(n)\n",
    "    for i in range(n):\n",
    "        b[i] = a[i].std()\n",
    "    return b\n",
    "\n",
    "\n",
    "@njit\n",
    "def _corr(a, b):\n",
    "    \"\"\"\n",
    "    Correlation between rows in a and b, no nan value\n",
    "    \"\"\"\n",
    "    n, k = a.shape\n",
    "    m, k = b.shape\n",
    "\n",
    "    mu_a = _mean(a)\n",
    "    mu_b = _mean(b)\n",
    "    sig_a = _std(a)\n",
    "    sig_b = _std(b)\n",
    "\n",
    "    out = np.empty((n, m))\n",
    "\n",
    "    for i in range(n):\n",
    "        for j in range(m):\n",
    "            _sig_a = sig_a[i]\n",
    "            _sig_b = sig_b[j]\n",
    "            if _sig_a == 0 or _sig_b == 0:\n",
    "                # if any variable std == 0\n",
    "                out[i, j] = np.nan\n",
    "            else:\n",
    "                out[i, j] = (a[i] - mu_a[i]) @ (b[j] -\n",
    "                                                mu_b[j]) / k / _sig_a / _sig_b\n",
    "    return out\n",
    "\n",
    "\n",
    "def corr(a, b, method='pearson'):\n",
    "    if method.lower()[0] == 'p':\n",
    "        pass\n",
    "    elif method.lower()[0] == 's':\n",
    "        # turn a, b in to rank matrix\n",
    "        a = a.argsort(axis=1).argsort(axis=1)\n",
    "        b = b.argsort(axis=1).argsort(axis=1)\n",
    "    else:\n",
    "        raise ValueError('Method can only be pearson or spearman')\n",
    "\n",
    "    return _corr(a, b)\n",
    "\n",
    "\n",
    "def chunk_corr(dmr_data, gene_data, global_mch_data, mask):\n",
    "    record = corr(a=dmr_data, b=gene_data)\n",
    "    mean_record = corr(a=dmr_data, b=global_mch_data)\n",
    "    record -= mean_record\n",
    "    record[np.abs(record) < 0.2] = 0\n",
    "    pass_record = csr_matrix(record)\n",
    "    masked_pass_record = pass_record.multiply(mask)\n",
    "    return masked_pass_record"
   ]
  },
  {
   "cell_type": "code",
   "execution_count": 3,
   "metadata": {
    "ExecuteTime": {
     "end_time": "2019-12-30T07:30:02.516325Z",
     "start_time": "2019-12-30T07:30:02.509175Z"
    }
   },
   "outputs": [],
   "source": [
    "# 145 neuronal subtypes\n",
    "use_clusters = [\n",
    "    'CA1 Ak5', 'CA1 Chrm3', 'CA1 Kif26a', 'CA1 Lingo2', 'CA1 Ptprg',\n",
    "    'CA3 Cadm2', 'CA3 Efnb2', 'CA3-St18 Epha5', 'CA3-St18 Nuak1',\n",
    "    'CA3-St18 Tead1', 'CGE-Lamp5 Dock5', 'CGE-Lamp5 Grid1', 'CGE-Lamp5 Grk5',\n",
    "    'CGE-Lamp5 Nrxn3', 'CGE-Lamp5 Sorcs1', 'CGE-Vip Ccser1', 'CGE-Vip Clstn2',\n",
    "    'CGE-Vip Fstl4', 'CGE-Vip Galnt17', 'CGE-Vip Grm8', 'CGE-Vip Ntng1',\n",
    "    'CGE-Vip Ptprm', 'CGE-Vip Robo1', 'CLA Bcl11a', 'CLA Cdh8', 'CLA Nrp2',\n",
    "    'CT-L6 Hcrtr2', 'CT-L6 Il1rap', 'CT-L6 Map4', 'CT-L6 Megf9', 'Chd7 Kcnc2',\n",
    "    'Chd7 Megf11', 'Chd7 Trpc7', 'D1L-Fstl4 Cadm1', 'D1L-Fstl4 Crim1',\n",
    "    'D1L-Fstl4 Grm3', 'D1L-Fstl4 Sipa1l2', 'D1L-Fstl4 Trps1', 'D1L-PAL Flrt2',\n",
    "    'D1L-PAL Plcxd3', 'DG dg-all', 'DG-po Bcl11a', 'DG-po Calb2',\n",
    "    'DG-po Kctd8', 'EP Adcy8', 'EP Rgs8', 'EP Tspan5', 'Foxp2 Dchs2',\n",
    "    'Foxp2 Homer2', 'Foxp2 Inpp4b', 'Foxp2 Trpc7', 'Gfra1 Gfra1',\n",
    "    'IG-CA2 Chrm3', 'IG-CA2 Peak1', 'IG-CA2 Xpr1', 'IT-L23 Cux1',\n",
    "    'IT-L23 Foxp1', 'IT-L23 Ptprt', 'IT-L23 Tenm2', 'IT-L4 Astn2',\n",
    "    'IT-L4 Shc3', 'IT-L5 Cdh8', 'IT-L5 Etv1', 'IT-L5 Grik3', 'IT-L6 Cadps2',\n",
    "    'IT-L6 Fstl4', 'IT-L6 Man1c1', 'IT-L6 Oxr1', 'L6b Adcy8', 'L6b Kcnk2',\n",
    "    'L6b Nrp2', 'L6b Pkhd1', 'LSX-Inh Cacna1i', 'LSX-Inh Dock10',\n",
    "    'LSX-Inh Enox1', 'LSX-Inh Foxp2', 'LSX-Inh Lats2', 'LSX-Inh Nxph1',\n",
    "    'LSX-Inh Zeb2', 'MGE-Pvalb Cacna1i', 'MGE-Pvalb Cnih3', 'MGE-Pvalb Entpd3',\n",
    "    'MGE-Pvalb Gfra2', 'MGE-Pvalb Ptprk', 'MGE-Pvalb Sema5a',\n",
    "    'MGE-Pvalb Thsd7a', 'MGE-Sst Bmper', 'MGE-Sst Chodl', 'MGE-Sst Dock4',\n",
    "    'MGE-Sst Etv1', 'MGE-Sst Frmd6', 'MGE-Sst Kcnip4', 'MGE-Sst Ptpre',\n",
    "    'MGE-Sst Rerg', 'MGE-Sst Rxra', 'MGE-Sst Ubtd1', 'MGE-Sst Unc5b',\n",
    "    'MSN-D1 Hrh1', 'MSN-D1 Khdrbs3', 'MSN-D1 Ntn1', 'MSN-D1 Plxnc1',\n",
    "    'MSN-D2 Casz1', 'MSN-D2 Col14a1', 'MSN-D2 Nrp2', 'MSN-D2 Slc24a2',\n",
    "    'NP-L6 Boc', 'NP-L6 Cntnap4', 'NP-L6 Cntnap5a', 'NP-L6 Cyp7b1',\n",
    "    'NP-L6 Kcnab1', 'NP-L6 Olfml2b', 'OLF Gabbr2', 'OLF Kcnd3', 'OLF Mapk10',\n",
    "    'OLF Pag1', 'OLF Trpc4', 'OLF Xkr6', 'OLF-Exc Bmpr1b', 'OLF-Exc Cdh9',\n",
    "    'OLF-Exc Cux2', 'OLF-Exc Lrrtm3', 'OLF-Exc Pld5', 'OLF-Exc Rmst',\n",
    "    'OLF-Exc Sgcd', 'OLF-Exc Unc13c', 'PAL-Inh Chat', 'PAL-Inh Deptor',\n",
    "    'PAL-Inh Igdcc3', 'PAL-Inh Meis1', 'PAL-Inh Meis2', 'PAL-Inh Onecut2',\n",
    "    'PAL-Inh Ptprd', 'PAL-Inh Rarb', 'PAL-Inh Tcf7l2', 'PAL-Inh Tmem178',\n",
    "    'PT-L5 Abca12', 'PT-L5 Astn2', 'PT-L5 Kcnh1', 'PT-L5 Nectin1',\n",
    "    'PT-L5 Plcb4', 'PT-L5 Ptprt', 'PT-L5 Tenm2', 'PT-L5 Tmtc2', 'PT-L5 Unc5b',\n",
    "    'Unc5c Unc5c'\n",
    "]\n",
    "chroms = [\n",
    "    'chr1', 'chr2', 'chr3', 'chr4', 'chr5', 'chr6', 'chr7', 'chr8', 'chr9',\n",
    "    'chr10', 'chr11', 'chr12', 'chr13', 'chr14', 'chr15', 'chr16', 'chr17',\n",
    "    'chr18', 'chr19', 'chrX'\n",
    "]"
   ]
  },
  {
   "cell_type": "code",
   "execution_count": 4,
   "metadata": {
    "ExecuteTime": {
     "end_time": "2019-12-30T07:30:04.287021Z",
     "start_time": "2019-12-30T07:30:04.278032Z"
    }
   },
   "outputs": [],
   "source": [
    "global_mch = pd.read_csv('ClusterGlobalmCH.csv', header=None, index_col=0, squeeze=True)[use_clusters]\n",
    "global_mcg = pd.read_csv('ClusterGlobalmCG.csv', header=None, index_col=0, squeeze=True)[use_clusters]"
   ]
  },
  {
   "cell_type": "code",
   "execution_count": 5,
   "metadata": {
    "ExecuteTime": {
     "end_time": "2019-12-30T07:30:05.835112Z",
     "start_time": "2019-12-30T07:30:05.832847Z"
    }
   },
   "outputs": [],
   "source": [
    "use_clusters = [i.replace(' ', '_') for i in use_clusters]"
   ]
  },
  {
   "cell_type": "code",
   "execution_count": 6,
   "metadata": {
    "ExecuteTime": {
     "end_time": "2019-12-30T07:30:06.465812Z",
     "start_time": "2019-12-30T07:30:06.464049Z"
    }
   },
   "outputs": [],
   "source": [
    "chrom = 'chr19'"
   ]
  },
  {
   "cell_type": "code",
   "execution_count": 7,
   "metadata": {
    "ExecuteTime": {
     "end_time": "2019-12-30T07:31:00.965483Z",
     "start_time": "2019-12-30T07:30:23.961810Z"
    },
    "scrolled": true
   },
   "outputs": [
    {
     "name": "stdout",
     "output_type": "stream",
     "text": [
      "chr1\n"
     ]
    },
    {
     "name": "stderr",
     "output_type": "stream",
     "text": [
      "/home/hanliu/miniconda3/envs/clustering/lib/python3.7/site-packages/IPython/core/interactiveshell.py:3326: FutureWarning: The read_msgpack is deprecated and will be removed in a future version.\n",
      "It is recommended to use pyarrow for on-the-wire transmission of pandas objects.\n",
      "  exec(code_obj, self.user_global_ns, self.user_ns)\n"
     ]
    },
    {
     "name": "stdout",
     "output_type": "stream",
     "text": [
      "chr2\n"
     ]
    },
    {
     "name": "stderr",
     "output_type": "stream",
     "text": [
      "/home/hanliu/miniconda3/envs/clustering/lib/python3.7/site-packages/IPython/core/interactiveshell.py:3326: FutureWarning: The read_msgpack is deprecated and will be removed in a future version.\n",
      "It is recommended to use pyarrow for on-the-wire transmission of pandas objects.\n",
      "  exec(code_obj, self.user_global_ns, self.user_ns)\n"
     ]
    },
    {
     "name": "stdout",
     "output_type": "stream",
     "text": [
      "chr3\n",
      "chr4\n",
      "chr5\n",
      "chr6\n",
      "chr7\n",
      "chr8\n",
      "chr9\n",
      "chr10\n",
      "chr11\n",
      "chr12\n",
      "chr13\n",
      "chr14\n",
      "chr15\n",
      "chr16\n",
      "chr17\n",
      "chr18\n",
      "chr19\n",
      "chrX\n"
     ]
    }
   ],
   "source": [
    "records = []\n",
    "for chrom in chroms:\n",
    "    print(chrom)\n",
    "    dmr_df = pd.read_msgpack(\n",
    "        f'/home/hanliu/project/mouse_rostral_brain/study/DMRGeneCorr/DMR_rate/SubDMR_rate_no_na.{chrom}.msg'\n",
    "    )\n",
    "    dmr_df = dmr_df[use_clusters]\n",
    "    \n",
    "    dmr_global_mch_corr = corr(dmr_df.values, \n",
    "                               global_mch.values.reshape([1, global_mch.size]))\n",
    "    dmr_global_mch_corr = pd.Series(dmr_global_mch_corr.flat, dmr_df.index)\n",
    "    records.append(dmr_global_mch_corr)"
   ]
  },
  {
   "cell_type": "code",
   "execution_count": 8,
   "metadata": {
    "ExecuteTime": {
     "end_time": "2019-12-30T07:32:03.568506Z",
     "start_time": "2019-12-30T07:32:02.277897Z"
    }
   },
   "outputs": [
    {
     "name": "stderr",
     "output_type": "stream",
     "text": [
      "/home/hanliu/miniconda3/envs/clustering/lib/python3.7/site-packages/ipykernel_launcher.py:3: FutureWarning: to_msgpack is deprecated and will be removed in a future version.\n",
      "It is recommended to use pyarrow for on-the-wire transmission of pandas objects.\n",
      "  This is separate from the ipykernel package so we can avoid doing imports until\n"
     ]
    }
   ],
   "source": [
    "dmr_global_mch_corr = pd.concat(records)\n",
    "dmr_global_mch_corr.fillna(0, inplace=True)\n",
    "dmr_global_mch_corr.to_msgpack('DMRCorrWithGlobalmCH.msg')"
   ]
  },
  {
   "cell_type": "code",
   "execution_count": 9,
   "metadata": {
    "ExecuteTime": {
     "end_time": "2019-12-30T07:32:08.293673Z",
     "start_time": "2019-12-30T07:32:05.936507Z"
    }
   },
   "outputs": [
    {
     "data": {
      "text/plain": [
       "<matplotlib.axes._subplots.AxesSubplot at 0x7f091d3d0518>"
      ]
     },
     "execution_count": 9,
     "metadata": {},
     "output_type": "execute_result"
    },
    {
     "data": {
      "image/png": "[encoded data removed]",
      "text/plain": [
       "<Figure size 432x288 with 1 Axes>"
      ]
     },
     "metadata": {
      "needs_background": "light"
     },
     "output_type": "display_data"
    }
   ],
   "source": [
    "sns.distplot(dmr_global_mch_corr)"
   ]
  },
  {
   "cell_type": "code",
   "execution_count": 10,
   "metadata": {
    "ExecuteTime": {
     "end_time": "2019-12-30T07:33:10.345973Z",
     "start_time": "2019-12-30T07:32:34.372231Z"
    }
   },
   "outputs": [
    {
     "name": "stdout",
     "output_type": "stream",
     "text": [
      "chr1\n",
      "chr2\n",
      "chr3\n",
      "chr4\n",
      "chr5\n",
      "chr6\n",
      "chr7\n",
      "chr8\n",
      "chr9\n",
      "chr10\n",
      "chr11\n",
      "chr12\n",
      "chr13\n",
      "chr14\n",
      "chr15\n",
      "chr16\n",
      "chr17\n",
      "chr18\n",
      "chr19\n",
      "chrX\n"
     ]
    }
   ],
   "source": [
    "records = []\n",
    "for chrom in chroms:\n",
    "    print(chrom)\n",
    "    dmr_df = pd.read_msgpack(\n",
    "        f'/home/hanliu/project/mouse_rostral_brain/study/DMRGeneCorr/DMR_rate/SubDMR_rate_no_na.{chrom}.msg'\n",
    "    )\n",
    "    dmr_df = dmr_df[use_clusters]\n",
    "    \n",
    "    dmr_global_mcg_corr = corr(dmr_df.values, \n",
    "                               global_mcg.values.reshape([1, global_mcg.size]))\n",
    "    dmr_global_mcg_corr = pd.Series(dmr_global_mcg_corr.flat, dmr_df.index)\n",
    "    records.append(dmr_global_mcg_corr)"
   ]
  },
  {
   "cell_type": "code",
   "execution_count": 11,
   "metadata": {
    "ExecuteTime": {
     "end_time": "2019-12-30T07:33:11.564039Z",
     "start_time": "2019-12-30T07:33:10.347780Z"
    }
   },
   "outputs": [
    {
     "name": "stderr",
     "output_type": "stream",
     "text": [
      "/home/hanliu/miniconda3/envs/clustering/lib/python3.7/site-packages/ipykernel_launcher.py:3: FutureWarning: to_msgpack is deprecated and will be removed in a future version.\n",
      "It is recommended to use pyarrow for on-the-wire transmission of pandas objects.\n",
      "  This is separate from the ipykernel package so we can avoid doing imports until\n"
     ]
    }
   ],
   "source": [
    "dmr_global_mcg_corr = pd.concat(records)\n",
    "dmr_global_mcg_corr.fillna(0, inplace=True)\n",
    "dmr_global_mcg_corr.to_msgpack('DMRCorrWithGlobalmCG.msg')"
   ]
  },
  {
   "cell_type": "code",
   "execution_count": 12,
   "metadata": {
    "ExecuteTime": {
     "end_time": "2019-12-30T07:33:14.053741Z",
     "start_time": "2019-12-30T07:33:11.565685Z"
    }
   },
   "outputs": [
    {
     "data": {
      "text/plain": [
       "<matplotlib.axes._subplots.AxesSubplot at 0x7f091d3d0668>"
      ]
     },
     "execution_count": 12,
     "metadata": {},
     "output_type": "execute_result"
    },
    {
     "data": {
      "image/png": "[encoded data removed]",
      "text/plain": [
       "<Figure size 432x288 with 1 Axes>"
      ]
     },
     "metadata": {
      "needs_background": "light"
     },
     "output_type": "display_data"
    }
   ],
   "source": [
    "sns.distplot(dmr_global_mcg_corr)"
   ]
  },
  {
   "cell_type": "code",
   "execution_count": null,
   "metadata": {},
   "outputs": [],
   "source": []
  },
  {
   "cell_type": "code",
   "execution_count": null,
   "metadata": {},
   "outputs": [],
   "source": []
  },
  {
   "cell_type": "code",
   "execution_count": null,
   "metadata": {},
   "outputs": [],
   "source": []
  }
 ],
 "metadata": {
  "hide_input": false,
  "kernelspec": {
   "display_name": "Python 3",
   "language": "python",
   "name": "python3"
  },
  "language_info": {
   "codemirror_mode": {
    "name": "ipython",
    "version": 3
   },
   "file_extension": ".py",
   "mimetype": "text/x-python",
   "name": "python",
   "nbconvert_exporter": "python",
   "pygments_lexer": "ipython3",
   "version": "3.7.3"
  },
  "toc": {
   "base_numbering": 1,
   "nav_menu": {},
   "number_sections": true,
   "sideBar": true,
   "skip_h1_title": true,
   "title_cell": "Table of Contents",
   "title_sidebar": "Contents",
   "toc_cell": false,
   "toc_position": {},
   "toc_section_display": true,
   "toc_window_display": true
  }
 },
 "nbformat": 4,
 "nbformat_minor": 2
}
