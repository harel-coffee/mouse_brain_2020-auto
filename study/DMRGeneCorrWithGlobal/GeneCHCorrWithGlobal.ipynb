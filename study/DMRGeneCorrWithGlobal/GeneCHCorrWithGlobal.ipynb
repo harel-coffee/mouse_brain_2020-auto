{
 "cells": [
  {
   "cell_type": "code",
   "execution_count": 1,
   "metadata": {
    "ExecuteTime": {
     "end_time": "2019-12-28T23:33:46.888120Z",
     "start_time": "2019-12-28T23:33:46.318153Z"
    }
   },
   "outputs": [
    {
     "name": "stderr",
     "output_type": "stream",
     "text": [
      "/home/hanliu/miniconda3/envs/clustering/lib/python3.7/site-packages/xarray/core/merge.py:18: FutureWarning: The Panel class is removed from pandas. Accessing it from the top-level namespace will also be removed in the next version\n",
      "  PANDAS_TYPES = (pd.Series, pd.DataFrame, pd.Panel)\n",
      "/home/hanliu/miniconda3/envs/clustering/lib/python3.7/site-packages/xarray/core/dataarray.py:1829: FutureWarning: The Panel class is removed from pandas. Accessing it from the top-level namespace will also be removed in the next version\n",
      "  'DataArray', pd.Series, pd.DataFrame, pd.Panel]:\n"
     ]
    }
   ],
   "source": [
    "import pandas as pd\n",
    "import numpy as np\n",
    "import xarray as xr\n",
    "import seaborn as sns\n",
    "import matplotlib.pyplot as plt"
   ]
  },
  {
   "cell_type": "code",
   "execution_count": 2,
   "metadata": {
    "ExecuteTime": {
     "end_time": "2019-12-28T23:33:46.897751Z",
     "start_time": "2019-12-28T23:33:46.889975Z"
    }
   },
   "outputs": [],
   "source": [
    "# 145 neuronal subtypes\n",
    "use_clusters = [\n",
    "    'CA1 Ak5', 'CA1 Chrm3', 'CA1 Kif26a', 'CA1 Lingo2', 'CA1 Ptprg',\n",
    "    'CA3 Cadm2', 'CA3 Efnb2', 'CA3-St18 Epha5', 'CA3-St18 Nuak1',\n",
    "    'CA3-St18 Tead1', 'CGE-Lamp5 Dock5', 'CGE-Lamp5 Grid1', 'CGE-Lamp5 Grk5',\n",
    "    'CGE-Lamp5 Nrxn3', 'CGE-Lamp5 Sorcs1', 'CGE-Vip Ccser1', 'CGE-Vip Clstn2',\n",
    "    'CGE-Vip Fstl4', 'CGE-Vip Galnt17', 'CGE-Vip Grm8', 'CGE-Vip Ntng1',\n",
    "    'CGE-Vip Ptprm', 'CGE-Vip Robo1', 'CLA Bcl11a', 'CLA Cdh8', 'CLA Nrp2',\n",
    "    'CT-L6 Hcrtr2', 'CT-L6 Il1rap', 'CT-L6 Map4', 'CT-L6 Megf9', 'Chd7 Kcnc2',\n",
    "    'Chd7 Megf11', 'Chd7 Trpc7', 'D1L-Fstl4 Cadm1', 'D1L-Fstl4 Crim1',\n",
    "    'D1L-Fstl4 Grm3', 'D1L-Fstl4 Sipa1l2', 'D1L-Fstl4 Trps1', 'D1L-PAL Flrt2',\n",
    "    'D1L-PAL Plcxd3', 'DG dg-all', 'DG-po Bcl11a', 'DG-po Calb2',\n",
    "    'DG-po Kctd8', 'EP Adcy8', 'EP Rgs8', 'EP Tspan5', 'Foxp2 Dchs2',\n",
    "    'Foxp2 Homer2', 'Foxp2 Inpp4b', 'Foxp2 Trpc7', 'Gfra1 Gfra1',\n",
    "    'IG-CA2 Chrm3', 'IG-CA2 Peak1', 'IG-CA2 Xpr1', 'IT-L23 Cux1',\n",
    "    'IT-L23 Foxp1', 'IT-L23 Ptprt', 'IT-L23 Tenm2', 'IT-L4 Astn2',\n",
    "    'IT-L4 Shc3', 'IT-L5 Cdh8', 'IT-L5 Etv1', 'IT-L5 Grik3', 'IT-L6 Cadps2',\n",
    "    'IT-L6 Fstl4', 'IT-L6 Man1c1', 'IT-L6 Oxr1', 'L6b Adcy8', 'L6b Kcnk2',\n",
    "    'L6b Nrp2', 'L6b Pkhd1', 'LSX-Inh Cacna1i', 'LSX-Inh Dock10',\n",
    "    'LSX-Inh Enox1', 'LSX-Inh Foxp2', 'LSX-Inh Lats2', 'LSX-Inh Nxph1',\n",
    "    'LSX-Inh Zeb2', 'MGE-Pvalb Cacna1i', 'MGE-Pvalb Cnih3', 'MGE-Pvalb Entpd3',\n",
    "    'MGE-Pvalb Gfra2', 'MGE-Pvalb Ptprk', 'MGE-Pvalb Sema5a',\n",
    "    'MGE-Pvalb Thsd7a', 'MGE-Sst Bmper', 'MGE-Sst Chodl', 'MGE-Sst Dock4',\n",
    "    'MGE-Sst Etv1', 'MGE-Sst Frmd6', 'MGE-Sst Kcnip4', 'MGE-Sst Ptpre',\n",
    "    'MGE-Sst Rerg', 'MGE-Sst Rxra', 'MGE-Sst Ubtd1', 'MGE-Sst Unc5b',\n",
    "    'MSN-D1 Hrh1', 'MSN-D1 Khdrbs3', 'MSN-D1 Ntn1', 'MSN-D1 Plxnc1',\n",
    "    'MSN-D2 Casz1', 'MSN-D2 Col14a1', 'MSN-D2 Nrp2', 'MSN-D2 Slc24a2',\n",
    "    'NP-L6 Boc', 'NP-L6 Cntnap4', 'NP-L6 Cntnap5a', 'NP-L6 Cyp7b1',\n",
    "    'NP-L6 Kcnab1', 'NP-L6 Olfml2b', 'OLF Gabbr2', 'OLF Kcnd3', 'OLF Mapk10',\n",
    "    'OLF Pag1', 'OLF Trpc4', 'OLF Xkr6', 'OLF-Exc Bmpr1b', 'OLF-Exc Cdh9',\n",
    "    'OLF-Exc Cux2', 'OLF-Exc Lrrtm3', 'OLF-Exc Pld5', 'OLF-Exc Rmst',\n",
    "    'OLF-Exc Sgcd', 'OLF-Exc Unc13c', 'PAL-Inh Chat', 'PAL-Inh Deptor',\n",
    "    'PAL-Inh Igdcc3', 'PAL-Inh Meis1', 'PAL-Inh Meis2', 'PAL-Inh Onecut2',\n",
    "    'PAL-Inh Ptprd', 'PAL-Inh Rarb', 'PAL-Inh Tcf7l2', 'PAL-Inh Tmem178',\n",
    "    'PT-L5 Abca12', 'PT-L5 Astn2', 'PT-L5 Kcnh1', 'PT-L5 Nectin1',\n",
    "    'PT-L5 Plcb4', 'PT-L5 Ptprt', 'PT-L5 Tenm2', 'PT-L5 Tmtc2', 'PT-L5 Unc5b',\n",
    "    'Unc5c Unc5c'\n",
    "]"
   ]
  },
  {
   "cell_type": "code",
   "execution_count": 3,
   "metadata": {
    "ExecuteTime": {
     "end_time": "2019-12-28T23:33:48.303049Z",
     "start_time": "2019-12-28T23:33:48.293720Z"
    }
   },
   "outputs": [],
   "source": [
    "global_mch = pd.read_csv('ClusterGlobalmCH.csv', header=None, index_col=0, squeeze=True)\n",
    "global_mcg = pd.read_csv('ClusterGlobalmCG.csv', header=None, index_col=0, squeeze=True)"
   ]
  },
  {
   "cell_type": "code",
   "execution_count": 4,
   "metadata": {
    "ExecuteTime": {
     "end_time": "2019-12-28T23:33:48.847049Z",
     "start_time": "2019-12-28T23:33:48.503322Z"
    }
   },
   "outputs": [
    {
     "name": "stderr",
     "output_type": "stream",
     "text": [
      "/home/hanliu/miniconda3/envs/clustering/lib/python3.7/site-packages/xarray/core/dataarray.py:1849: FutureWarning: The Panel class is removed from pandas. Accessing it from the top-level namespace will also be removed in the next version\n",
      "  3: pd.Panel}\n"
     ]
    }
   ],
   "source": [
    "gene_rate = xr.open_dataset(\n",
    "    '/home/hanliu/project/mouse_rostral_brain/study/mCClustermCLevel/SubType.geneslop2k.mcds'\n",
    ")['gene_cluster_da_rate'].sel(dict(mc_type='CHN', SubType=use_clusters))\n",
    "gene_rate_df = gene_rate.to_pandas().T"
   ]
  },
  {
   "cell_type": "code",
   "execution_count": 5,
   "metadata": {
    "ExecuteTime": {
     "end_time": "2019-12-28T23:33:49.756693Z",
     "start_time": "2019-12-28T23:33:49.736229Z"
    }
   },
   "outputs": [],
   "source": [
    "total_dmg = pd.read_csv(\n",
    "    '/home/hanliu/project/mouse_rostral_brain/study/ClusterMethylMarker/SubTypePairwiseDEG/TotalGeneID.txt',\n",
    "    index_col=0, header=None\n",
    ").index"
   ]
  },
  {
   "cell_type": "code",
   "execution_count": 6,
   "metadata": {
    "ExecuteTime": {
     "end_time": "2019-12-28T23:35:03.248704Z",
     "start_time": "2019-12-28T23:34:19.908746Z"
    }
   },
   "outputs": [
    {
     "name": "stderr",
     "output_type": "stream",
     "text": [
      "/home/hanliu/miniconda3/envs/clustering/lib/python3.7/site-packages/numpy/lib/function_base.py:2526: RuntimeWarning: Degrees of freedom <= 0 for slice\n",
      "  c = cov(x, y, rowvar)\n",
      "/home/hanliu/miniconda3/envs/clustering/lib/python3.7/site-packages/numpy/lib/function_base.py:2455: RuntimeWarning: divide by zero encountered in true_divide\n",
      "  c *= np.true_divide(1, fact)\n"
     ]
    },
    {
     "data": {
      "text/plain": [
       "<matplotlib.legend.Legend at 0x7f918c63df98>"
      ]
     },
     "execution_count": 6,
     "metadata": {},
     "output_type": "execute_result"
    },
    {
     "data": {
      "image/png": "[encoded data removed]",
      "text/plain": [
       "<Figure size 432x288 with 1 Axes>"
      ]
     },
     "metadata": {
      "needs_background": "light"
     },
     "output_type": "display_data"
    }
   ],
   "source": [
    "gene_corr_with_global_mcg = gene_rate_df.corrwith(global_mcg, axis=1)\n",
    "gene_corr_with_global_mcg.to_csv('GeneCHCorrWithGlobalmCG.csv', header=False)\n",
    "sns.distplot(gene_corr_with_global_mcg.dropna(), label='Total')\n",
    "\n",
    "gene_corr_with_global_mcg = gene_rate_df.loc[total_dmg].corrwith(global_mcg, axis=1)\n",
    "ax = sns.distplot(gene_corr_with_global_mcg.dropna(), label='DMG')\n",
    "\n",
    "ax.legend()"
   ]
  },
  {
   "cell_type": "code",
   "execution_count": 7,
   "metadata": {
    "ExecuteTime": {
     "end_time": "2019-12-28T23:35:46.631441Z",
     "start_time": "2019-12-28T23:35:03.250650Z"
    }
   },
   "outputs": [
    {
     "data": {
      "text/plain": [
       "<matplotlib.legend.Legend at 0x7f91930176d8>"
      ]
     },
     "execution_count": 7,
     "metadata": {},
     "output_type": "execute_result"
    },
    {
     "data": {
      "image/png": "[encoded data removed]",
      "text/plain": [
       "<Figure size 432x288 with 1 Axes>"
      ]
     },
     "metadata": {
      "needs_background": "light"
     },
     "output_type": "display_data"
    }
   ],
   "source": [
    "gene_corr_with_global_mch = gene_rate_df.corrwith(global_mch, axis=1)\n",
    "gene_corr_with_global_mch.to_csv('GeneCHCorrWithGlobalmCH.csv', header=False)\n",
    "sns.distplot(gene_corr_with_global_mch.dropna(), label='Total')\n",
    "\n",
    "gene_corr_with_global_mch = gene_rate_df.loc[total_dmg].corrwith(global_mch, axis=1)\n",
    "ax = sns.distplot(gene_corr_with_global_mch.dropna(), label='DMG')\n",
    "\n",
    "ax.legend()"
   ]
  },
  {
   "cell_type": "code",
   "execution_count": 9,
   "metadata": {
    "ExecuteTime": {
     "end_time": "2019-12-28T23:35:46.684671Z",
     "start_time": "2019-12-28T23:35:46.681138Z"
    }
   },
   "outputs": [
    {
     "data": {
      "text/plain": [
       "0.7857395216408454"
      ]
     },
     "execution_count": 9,
     "metadata": {},
     "output_type": "execute_result"
    }
   ],
   "source": [
    "global_mcg.corr(global_mch)"
   ]
  },
  {
   "cell_type": "code",
   "execution_count": 12,
   "metadata": {
    "ExecuteTime": {
     "end_time": "2019-12-28T23:35:56.414768Z",
     "start_time": "2019-12-28T23:35:56.366138Z"
    }
   },
   "outputs": [],
   "source": [
    "gene_ch_corr = pd.read_csv('GeneCHCorrWithGlobalmCH.csv', \n",
    "                           header=None, index_col=0, squeeze=True).dropna().sort_values()"
   ]
  },
  {
   "cell_type": "code",
   "execution_count": 14,
   "metadata": {
    "ExecuteTime": {
     "end_time": "2019-12-28T23:36:52.811691Z",
     "start_time": "2019-12-28T23:36:52.804382Z"
    }
   },
   "outputs": [
    {
     "data": {
      "text/plain": [
       "0\n",
       "ENSMUSG00000095601.8    -0.960204\n",
       "ENSMUSG00000094391.1    -0.757403\n",
       "ENSMUSG00000096763.1    -0.597926\n",
       "ENSMUSG00000083377.1    -0.486467\n",
       "ENSMUSG00000098563.1    -0.455561\n",
       "ENSMUSG00000105455.1    -0.448089\n",
       "ENSMUSG00000065840.1    -0.423767\n",
       "ENSMUSG00000099725.1    -0.387866\n",
       "ENSMUSG00000065472.1    -0.387529\n",
       "ENSMUSG00000100942.1    -0.383470\n",
       "ENSMUSG00000028551.14   -0.380942\n",
       "ENSMUSG00000064585.1    -0.372762\n",
       "ENSMUSG00000101809.1    -0.359101\n",
       "ENSMUSG00000008489.18   -0.354291\n",
       "ENSMUSG00000092652.1    -0.333799\n",
       "ENSMUSG00000095976.2    -0.332094\n",
       "ENSMUSG00000101193.1    -0.330990\n",
       "ENSMUSG00000101382.1    -0.310470\n",
       "ENSMUSG00000102854.1    -0.306882\n",
       "ENSMUSG00000093354.1    -0.303282\n",
       "ENSMUSG00000000078.7    -0.302810\n",
       "ENSMUSG00000099637.1    -0.301412\n",
       "ENSMUSG00000100158.1    -0.300031\n",
       "ENSMUSG00000114160.1    -0.297063\n",
       "ENSMUSG00000053046.16   -0.292518\n",
       "ENSMUSG00000099565.1    -0.289032\n",
       "ENSMUSG00000102344.1    -0.285245\n",
       "ENSMUSG00000073876.3    -0.281473\n",
       "ENSMUSG00000093990.1    -0.280281\n",
       "ENSMUSG00000100077.1    -0.279739\n",
       "Name: 1, dtype: float64"
      ]
     },
     "execution_count": 14,
     "metadata": {},
     "output_type": "execute_result"
    }
   ],
   "source": [
    "gene_ch_corr[:30]"
   ]
  },
  {
   "cell_type": "code",
   "execution_count": null,
   "metadata": {},
   "outputs": [],
   "source": []
  },
  {
   "cell_type": "code",
   "execution_count": null,
   "metadata": {},
   "outputs": [],
   "source": []
  },
  {
   "cell_type": "code",
   "execution_count": null,
   "metadata": {
    "scrolled": true
   },
   "outputs": [],
   "source": []
  },
  {
   "cell_type": "code",
   "execution_count": null,
   "metadata": {},
   "outputs": [],
   "source": []
  }
 ],
 "metadata": {
  "hide_input": false,
  "kernelspec": {
   "display_name": "Python 3",
   "language": "python",
   "name": "python3"
  },
  "language_info": {
   "codemirror_mode": {
    "name": "ipython",
    "version": 3
   },
   "file_extension": ".py",
   "mimetype": "text/x-python",
   "name": "python",
   "nbconvert_exporter": "python",
   "pygments_lexer": "ipython3",
   "version": "3.7.3"
  },
  "toc": {
   "base_numbering": 1,
   "nav_menu": {},
   "number_sections": true,
   "sideBar": true,
   "skip_h1_title": true,
   "title_cell": "Table of Contents",
   "title_sidebar": "Contents",
   "toc_cell": false,
   "toc_position": {},
   "toc_section_display": true,
   "toc_window_display": true
  }
 },
 "nbformat": 4,
 "nbformat_minor": 2
}
