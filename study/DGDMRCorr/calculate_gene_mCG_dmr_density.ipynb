{
 "cells": [
  {
   "cell_type": "code",
   "execution_count": 33,
   "metadata": {
    "ExecuteTime": {
     "end_time": "2020-02-05T02:11:44.280700Z",
     "start_time": "2020-02-05T02:11:44.275578Z"
    }
   },
   "outputs": [],
   "source": [
    "import pandas as pd\n",
    "import numpy as np\n",
    "import seaborn as sns\n",
    "import matplotlib.pyplot as plt\n",
    "import re"
   ]
  },
  {
   "cell_type": "code",
   "execution_count": 2,
   "metadata": {
    "ExecuteTime": {
     "end_time": "2020-02-05T02:07:00.725279Z",
     "start_time": "2020-02-05T02:07:00.713433Z"
    }
   },
   "outputs": [],
   "source": [
    "delta_cutoff = 0.3"
   ]
  },
  {
   "cell_type": "code",
   "execution_count": 34,
   "metadata": {
    "ExecuteTime": {
     "end_time": "2020-02-05T02:11:47.761940Z",
     "start_time": "2020-02-05T02:11:45.461199Z"
    }
   },
   "outputs": [],
   "source": [
    "gene_meta = pd.read_csv(\n",
    "    '/home/hanliu/ref/mouse/gencode/vm22/gencode.vM22.annotation.gene.flat.tsv.gz',\n",
    "    sep='\\t',\n",
    "    index_col='gene_id')\n",
    "gene_meta['length'] = gene_meta['end'] - gene_meta['start']\n",
    "gene_name_to_id = {v: k for k, v in gene_meta['gene_name'].items()}\n",
    "\n",
    "tf_genes = pd.read_csv(\n",
    "    '/home/hanliu/ref/TFGene/TFClass/TFClass.with_mouse_gene_id.csv',\n",
    "    index_col=0)\n",
    "tf_genes = set(','.join(tf_genes['EnsemblID'].dropna()).split(','))\n",
    "gene_meta['is_tf'] = gene_meta.index.map(lambda i: i.split('.')[0] in tf_genes)\n",
    "\n",
    "zfp_pattern = r'Zfp\\d+'\n",
    "p = re.compile(zfp_pattern)\n",
    "gene_meta.loc[gene_meta['gene_name'].apply(lambda i: p.search(i) is not None), 'is_tf'] = True\n",
    "tf_gene_names = set(gene_meta[gene_meta['is_tf']]['gene_name'].tolist())\n",
    "\n",
    "remove_gene_pattern = r'(Gm\\d+)|(.+Rik)'\n",
    "p = re.compile(remove_gene_pattern)\n",
    "\n",
    "keep_gene = gene_meta[gene_meta['gene_name'].apply(lambda i: p.search(i) is None)].index"
   ]
  },
  {
   "cell_type": "code",
   "execution_count": 3,
   "metadata": {
    "ExecuteTime": {
     "end_time": "2020-02-05T02:07:19.954953Z",
     "start_time": "2020-02-05T02:07:00.731210Z"
    }
   },
   "outputs": [],
   "source": [
    "dmr_data = pd.read_csv('axis-mch_rms_results_collapsed_passfilter_annotated.csv', index_col=0)\n",
    "dmr_data.index = dmr_data.index.map(lambda i: f'DGmCH_{i}')\n",
    "dmr_data.index.name = 'DMR_id'\n",
    "\n",
    "# filter by delta\n",
    "mc_rate = dmr_data[['low', 'midlow', 'midhigh', 'high']]\n",
    "delta = mc_rate.max(axis=1) - mc_rate.min(axis=1)\n",
    "delta_judge = delta > delta_cutoff\n",
    "\n",
    "# dmr_data = dmr_data[delta_judge].copy()\n",
    "# \n",
    "# dmr_data.reset_index()[['#chr', 'start', 'end', 'DMR_id'\n",
    "#                         ]].sort_values(['#chr', 'start'\n",
    "#                                         ]).to_csv('DG_DMR.mch_group.bed',\n",
    "#                                                   header=None,\n",
    "#                                                   index=None,\n",
    "#                                                   sep='\\t')\n",
    "# dmr_data[dmr_data['trend'] == 'increasing'].reset_index()[['#chr', 'start', 'end', 'DMR_id'\n",
    "#                         ]].sort_values(['#chr', 'start'\n",
    "#                                         ]).to_csv('DG_DMR.increase.mch_group.bed',\n",
    "#                                                   header=None,\n",
    "#                                                   index=None,\n",
    "#                                                   sep='\\t')\n",
    "# dmr_data[dmr_data['trend'] == 'decreasing'].reset_index()[['#chr', 'start', 'end', 'DMR_id'\n",
    "#                         ]].sort_values(['#chr', 'start'\n",
    "#                                         ]).to_csv('DG_DMR.decrease.mch_group.bed',\n",
    "#                                                   header=None,\n",
    "#                                                   index=None,\n",
    "#                                                   sep='\\t')\n",
    "# dmr_data[dmr_data['trend'] == 'no trend'].reset_index()[['#chr', 'start', 'end', 'DMR_id'\n",
    "#                         ]].sort_values(['#chr', 'start'\n",
    "#                                         ]).to_csv('DG_DMR.no_trand.mch_group.bed',\n",
    "#                                                   header=None,\n",
    "#                                                   index=None,\n",
    "#                                                   sep='\\t')"
   ]
  },
  {
   "cell_type": "code",
   "execution_count": 4,
   "metadata": {
    "ExecuteTime": {
     "end_time": "2020-02-05T02:07:53.219526Z",
     "start_time": "2020-02-05T02:07:19.972880Z"
    }
   },
   "outputs": [
    {
     "name": "stderr",
     "output_type": "stream",
     "text": [
      "/home/hanliu/miniconda3/envs/clustering/lib/python3.7/site-packages/ipykernel_launcher.py:3: UserWarning: Boolean Series key will be reindexed to match DataFrame index.\n",
      "  This is separate from the ipykernel package so we can avoid doing imports until\n"
     ]
    }
   ],
   "source": [
    "direction_judge = dmr_data['trend'].isin(['increasing', 'decreasing'])\n",
    "\n",
    "dmr_data = dmr_data[delta_judge & direction_judge].copy()\n",
    "dirction_dms_count = dmr_data.apply(lambda i: i['number_of_dms'] if (i[\n",
    "    'trend'] == 'increasing') else -(i['number_of_dms']),\n",
    "                                    axis=1)"
   ]
  },
  {
   "cell_type": "code",
   "execution_count": 5,
   "metadata": {
    "ExecuteTime": {
     "end_time": "2020-02-05T02:07:53.387911Z",
     "start_time": "2020-02-05T02:07:53.227247Z"
    }
   },
   "outputs": [
    {
     "name": "stdout",
     "output_type": "stream",
     "text": [
      "(177172, 41)\n"
     ]
    },
    {
     "data": {
      "text/html": [
       "<div>\n",
       "<style scoped>\n",
       "    .dataframe tbody tr th:only-of-type {\n",
       "        vertical-align: middle;\n",
       "    }\n",
       "\n",
       "    .dataframe tbody tr th {\n",
       "        vertical-align: top;\n",
       "    }\n",
       "\n",
       "    .dataframe thead th {\n",
       "        text-align: right;\n",
       "    }\n",
       "</style>\n",
       "<table border=\"1\" class=\"dataframe\">\n",
       "  <thead>\n",
       "    <tr style=\"text-align: right;\">\n",
       "      <th></th>\n",
       "      <th>#chr</th>\n",
       "      <th>start</th>\n",
       "      <th>end</th>\n",
       "      <th>number_of_dms</th>\n",
       "      <th>low</th>\n",
       "      <th>midlow</th>\n",
       "      <th>midhigh</th>\n",
       "      <th>high</th>\n",
       "      <th>rho</th>\n",
       "      <th>trend</th>\n",
       "      <th>...</th>\n",
       "      <th>annot-stop_codon.all</th>\n",
       "      <th>annot-TSS.all</th>\n",
       "      <th>annot-TSS.protein_coding</th>\n",
       "      <th>annot-UTR3.all</th>\n",
       "      <th>annot-UTR3.protein_coding</th>\n",
       "      <th>annot-UTR5.all</th>\n",
       "      <th>annot-UTR5.protein_coding</th>\n",
       "      <th>annot-CGI</th>\n",
       "      <th>annot-CGI_shore</th>\n",
       "      <th>annot-Transposon</th>\n",
       "    </tr>\n",
       "    <tr>\n",
       "      <th>DMR_id</th>\n",
       "      <th></th>\n",
       "      <th></th>\n",
       "      <th></th>\n",
       "      <th></th>\n",
       "      <th></th>\n",
       "      <th></th>\n",
       "      <th></th>\n",
       "      <th></th>\n",
       "      <th></th>\n",
       "      <th></th>\n",
       "      <th></th>\n",
       "      <th></th>\n",
       "      <th></th>\n",
       "      <th></th>\n",
       "      <th></th>\n",
       "      <th></th>\n",
       "      <th></th>\n",
       "      <th></th>\n",
       "      <th></th>\n",
       "      <th></th>\n",
       "      <th></th>\n",
       "    </tr>\n",
       "  </thead>\n",
       "  <tbody>\n",
       "    <tr>\n",
       "      <th>DGmCH_0</th>\n",
       "      <td>chr1</td>\n",
       "      <td>3026310</td>\n",
       "      <td>3026310</td>\n",
       "      <td>1</td>\n",
       "      <td>0.396226</td>\n",
       "      <td>0.309091</td>\n",
       "      <td>0.631579</td>\n",
       "      <td>0.627907</td>\n",
       "      <td>0.801534</td>\n",
       "      <td>increasing</td>\n",
       "      <td>...</td>\n",
       "      <td>False</td>\n",
       "      <td>False</td>\n",
       "      <td>False</td>\n",
       "      <td>False</td>\n",
       "      <td>False</td>\n",
       "      <td>False</td>\n",
       "      <td>False</td>\n",
       "      <td>False</td>\n",
       "      <td>False</td>\n",
       "      <td>True</td>\n",
       "    </tr>\n",
       "    <tr>\n",
       "      <th>DGmCH_2</th>\n",
       "      <td>chr1</td>\n",
       "      <td>3084771</td>\n",
       "      <td>3084771</td>\n",
       "      <td>1</td>\n",
       "      <td>0.413793</td>\n",
       "      <td>0.387097</td>\n",
       "      <td>0.645161</td>\n",
       "      <td>0.766667</td>\n",
       "      <td>0.926190</td>\n",
       "      <td>increasing</td>\n",
       "      <td>...</td>\n",
       "      <td>False</td>\n",
       "      <td>False</td>\n",
       "      <td>False</td>\n",
       "      <td>False</td>\n",
       "      <td>False</td>\n",
       "      <td>False</td>\n",
       "      <td>False</td>\n",
       "      <td>False</td>\n",
       "      <td>False</td>\n",
       "      <td>True</td>\n",
       "    </tr>\n",
       "    <tr>\n",
       "      <th>DGmCH_4</th>\n",
       "      <td>chr1</td>\n",
       "      <td>3118806</td>\n",
       "      <td>3118806</td>\n",
       "      <td>1</td>\n",
       "      <td>0.697674</td>\n",
       "      <td>0.933333</td>\n",
       "      <td>0.868421</td>\n",
       "      <td>1.000000</td>\n",
       "      <td>0.837758</td>\n",
       "      <td>increasing</td>\n",
       "      <td>...</td>\n",
       "      <td>False</td>\n",
       "      <td>False</td>\n",
       "      <td>False</td>\n",
       "      <td>False</td>\n",
       "      <td>False</td>\n",
       "      <td>False</td>\n",
       "      <td>False</td>\n",
       "      <td>False</td>\n",
       "      <td>False</td>\n",
       "      <td>True</td>\n",
       "    </tr>\n",
       "    <tr>\n",
       "      <th>DGmCH_5</th>\n",
       "      <td>chr1</td>\n",
       "      <td>3132290</td>\n",
       "      <td>3132290</td>\n",
       "      <td>1</td>\n",
       "      <td>0.403226</td>\n",
       "      <td>0.595238</td>\n",
       "      <td>0.750000</td>\n",
       "      <td>0.787234</td>\n",
       "      <td>0.964972</td>\n",
       "      <td>increasing</td>\n",
       "      <td>...</td>\n",
       "      <td>False</td>\n",
       "      <td>False</td>\n",
       "      <td>False</td>\n",
       "      <td>False</td>\n",
       "      <td>False</td>\n",
       "      <td>False</td>\n",
       "      <td>False</td>\n",
       "      <td>False</td>\n",
       "      <td>False</td>\n",
       "      <td>True</td>\n",
       "    </tr>\n",
       "    <tr>\n",
       "      <th>DGmCH_6</th>\n",
       "      <td>chr1</td>\n",
       "      <td>3152582</td>\n",
       "      <td>3152582</td>\n",
       "      <td>1</td>\n",
       "      <td>0.071429</td>\n",
       "      <td>0.111111</td>\n",
       "      <td>0.169811</td>\n",
       "      <td>0.377358</td>\n",
       "      <td>0.926309</td>\n",
       "      <td>increasing</td>\n",
       "      <td>...</td>\n",
       "      <td>False</td>\n",
       "      <td>False</td>\n",
       "      <td>False</td>\n",
       "      <td>False</td>\n",
       "      <td>False</td>\n",
       "      <td>False</td>\n",
       "      <td>False</td>\n",
       "      <td>False</td>\n",
       "      <td>False</td>\n",
       "      <td>True</td>\n",
       "    </tr>\n",
       "  </tbody>\n",
       "</table>\n",
       "<p>5 rows × 41 columns</p>\n",
       "</div>"
      ],
      "text/plain": [
       "         #chr    start      end  number_of_dms       low    midlow   midhigh  \\\n",
       "DMR_id                                                                         \n",
       "DGmCH_0  chr1  3026310  3026310              1  0.396226  0.309091  0.631579   \n",
       "DGmCH_2  chr1  3084771  3084771              1  0.413793  0.387097  0.645161   \n",
       "DGmCH_4  chr1  3118806  3118806              1  0.697674  0.933333  0.868421   \n",
       "DGmCH_5  chr1  3132290  3132290              1  0.403226  0.595238  0.750000   \n",
       "DGmCH_6  chr1  3152582  3152582              1  0.071429  0.111111  0.169811   \n",
       "\n",
       "             high       rho       trend  ...  annot-stop_codon.all  \\\n",
       "DMR_id                                   ...                         \n",
       "DGmCH_0  0.627907  0.801534  increasing  ...                 False   \n",
       "DGmCH_2  0.766667  0.926190  increasing  ...                 False   \n",
       "DGmCH_4  1.000000  0.837758  increasing  ...                 False   \n",
       "DGmCH_5  0.787234  0.964972  increasing  ...                 False   \n",
       "DGmCH_6  0.377358  0.926309  increasing  ...                 False   \n",
       "\n",
       "         annot-TSS.all  annot-TSS.protein_coding  annot-UTR3.all  \\\n",
       "DMR_id                                                             \n",
       "DGmCH_0          False                     False           False   \n",
       "DGmCH_2          False                     False           False   \n",
       "DGmCH_4          False                     False           False   \n",
       "DGmCH_5          False                     False           False   \n",
       "DGmCH_6          False                     False           False   \n",
       "\n",
       "         annot-UTR3.protein_coding  annot-UTR5.all  annot-UTR5.protein_coding  \\\n",
       "DMR_id                                                                          \n",
       "DGmCH_0                      False           False                      False   \n",
       "DGmCH_2                      False           False                      False   \n",
       "DGmCH_4                      False           False                      False   \n",
       "DGmCH_5                      False           False                      False   \n",
       "DGmCH_6                      False           False                      False   \n",
       "\n",
       "         annot-CGI  annot-CGI_shore  annot-Transposon  \n",
       "DMR_id                                                 \n",
       "DGmCH_0      False            False              True  \n",
       "DGmCH_2      False            False              True  \n",
       "DGmCH_4      False            False              True  \n",
       "DGmCH_5      False            False              True  \n",
       "DGmCH_6      False            False              True  \n",
       "\n",
       "[5 rows x 41 columns]"
      ]
     },
     "execution_count": 5,
     "metadata": {},
     "output_type": "execute_result"
    }
   ],
   "source": [
    "print(dmr_data.shape)\n",
    "dmr_data.head()"
   ]
  },
  {
   "cell_type": "code",
   "execution_count": 6,
   "metadata": {
    "ExecuteTime": {
     "end_time": "2020-02-05T02:07:53.890641Z",
     "start_time": "2020-02-05T02:07:53.411520Z"
    }
   },
   "outputs": [],
   "source": [
    "dms_dict = dirction_dms_count.to_dict()"
   ]
  },
  {
   "cell_type": "markdown",
   "metadata": {},
   "source": [
    "## Gene DMR counts"
   ]
  },
  {
   "cell_type": "code",
   "execution_count": 10,
   "metadata": {
    "ExecuteTime": {
     "end_time": "2020-02-05T02:07:55.745579Z",
     "start_time": "2020-02-05T02:07:55.435038Z"
    }
   },
   "outputs": [],
   "source": [
    "gene_dmr_overlap = pd.read_csv(\n",
    "    'gene_increase_dmr_overlap.bed',\n",
    "    sep='\\t',\n",
    "    header=None,\n",
    "    names=['chrom', 'start', 'end', 'gene_id', 'inc_dmrs'], na_values='.')\n",
    "gene_dmr_overlap['length'] = gene_dmr_overlap['end'] - gene_dmr_overlap['start']"
   ]
  },
  {
   "cell_type": "code",
   "execution_count": 11,
   "metadata": {
    "ExecuteTime": {
     "end_time": "2020-02-05T02:07:59.379779Z",
     "start_time": "2020-02-05T02:07:59.091905Z"
    }
   },
   "outputs": [],
   "source": [
    "gene_dmr_overlap_ = pd.read_csv(\n",
    "    'gene_decrease_dmr_overlap.bed',\n",
    "    sep='\\t',\n",
    "    header=None,\n",
    "    names=['chrom', 'start', 'end', 'gene_id', 'dec_dmrs'], na_values='.')\n",
    "gene_dmr_overlap['dec_dmrs'] = gene_dmr_overlap_['dec_dmrs']"
   ]
  },
  {
   "cell_type": "code",
   "execution_count": 15,
   "metadata": {
    "ExecuteTime": {
     "end_time": "2020-02-05T02:08:17.659985Z",
     "start_time": "2020-02-05T02:08:17.628252Z"
    }
   },
   "outputs": [
    {
     "data": {
      "text/html": [
       "<div>\n",
       "<style scoped>\n",
       "    .dataframe tbody tr th:only-of-type {\n",
       "        vertical-align: middle;\n",
       "    }\n",
       "\n",
       "    .dataframe tbody tr th {\n",
       "        vertical-align: top;\n",
       "    }\n",
       "\n",
       "    .dataframe thead th {\n",
       "        text-align: right;\n",
       "    }\n",
       "</style>\n",
       "<table border=\"1\" class=\"dataframe\">\n",
       "  <thead>\n",
       "    <tr style=\"text-align: right;\">\n",
       "      <th></th>\n",
       "      <th>chrom</th>\n",
       "      <th>start</th>\n",
       "      <th>end</th>\n",
       "      <th>gene_id</th>\n",
       "      <th>inc_dmrs</th>\n",
       "      <th>length</th>\n",
       "      <th>dec_dmrs</th>\n",
       "    </tr>\n",
       "  </thead>\n",
       "  <tbody>\n",
       "    <tr>\n",
       "      <th>0</th>\n",
       "      <td>chr1</td>\n",
       "      <td>3073252</td>\n",
       "      <td>3074321</td>\n",
       "      <td>ENSMUSG00000102693.1</td>\n",
       "      <td>NaN</td>\n",
       "      <td>1069</td>\n",
       "      <td>NaN</td>\n",
       "    </tr>\n",
       "    <tr>\n",
       "      <th>1</th>\n",
       "      <td>chr1</td>\n",
       "      <td>3102015</td>\n",
       "      <td>3102124</td>\n",
       "      <td>ENSMUSG00000064842.1</td>\n",
       "      <td>NaN</td>\n",
       "      <td>109</td>\n",
       "      <td>NaN</td>\n",
       "    </tr>\n",
       "    <tr>\n",
       "      <th>2</th>\n",
       "      <td>chr1</td>\n",
       "      <td>3205900</td>\n",
       "      <td>3671497</td>\n",
       "      <td>ENSMUSG00000051951.5</td>\n",
       "      <td>DGmCH_8,DGmCH_22</td>\n",
       "      <td>465597</td>\n",
       "      <td>DGmCH_9,DGmCH_10,DGmCH_11,DGmCH_12,DGmCH_13,DG...</td>\n",
       "    </tr>\n",
       "    <tr>\n",
       "      <th>3</th>\n",
       "      <td>chr1</td>\n",
       "      <td>3252756</td>\n",
       "      <td>3253235</td>\n",
       "      <td>ENSMUSG00000102851.1</td>\n",
       "      <td>NaN</td>\n",
       "      <td>479</td>\n",
       "      <td>NaN</td>\n",
       "    </tr>\n",
       "    <tr>\n",
       "      <th>4</th>\n",
       "      <td>chr1</td>\n",
       "      <td>3365730</td>\n",
       "      <td>3368548</td>\n",
       "      <td>ENSMUSG00000103377.1</td>\n",
       "      <td>NaN</td>\n",
       "      <td>2818</td>\n",
       "      <td>NaN</td>\n",
       "    </tr>\n",
       "  </tbody>\n",
       "</table>\n",
       "</div>"
      ],
      "text/plain": [
       "  chrom    start      end               gene_id          inc_dmrs  length  \\\n",
       "0  chr1  3073252  3074321  ENSMUSG00000102693.1               NaN    1069   \n",
       "1  chr1  3102015  3102124  ENSMUSG00000064842.1               NaN     109   \n",
       "2  chr1  3205900  3671497  ENSMUSG00000051951.5  DGmCH_8,DGmCH_22  465597   \n",
       "3  chr1  3252756  3253235  ENSMUSG00000102851.1               NaN     479   \n",
       "4  chr1  3365730  3368548  ENSMUSG00000103377.1               NaN    2818   \n",
       "\n",
       "                                            dec_dmrs  \n",
       "0                                                NaN  \n",
       "1                                                NaN  \n",
       "2  DGmCH_9,DGmCH_10,DGmCH_11,DGmCH_12,DGmCH_13,DG...  \n",
       "3                                                NaN  \n",
       "4                                                NaN  "
      ]
     },
     "execution_count": 15,
     "metadata": {},
     "output_type": "execute_result"
    }
   ],
   "source": [
    "gene_dmr_overlap.head()"
   ]
  },
  {
   "cell_type": "code",
   "execution_count": 18,
   "metadata": {
    "ExecuteTime": {
     "end_time": "2020-02-05T02:08:54.674498Z",
     "start_time": "2020-02-05T02:08:53.947206Z"
    }
   },
   "outputs": [],
   "source": [
    "def get_dms(value):\n",
    "    if isinstance(value, float):\n",
    "        return 0\n",
    "    else:\n",
    "        return sum([dms_dict.get(dmr_id, 0) for dmr_id in value.split(',')])\n",
    "\n",
    "gene_dmr_overlap['inc_n_dms'] = gene_dmr_overlap['inc_dmrs'].apply(get_dms)\n",
    "gene_dmr_overlap['dec_n_dms'] = gene_dmr_overlap['dec_dmrs'].apply(get_dms)\n"
   ]
  },
  {
   "cell_type": "code",
   "execution_count": 20,
   "metadata": {
    "ExecuteTime": {
     "end_time": "2020-02-05T02:09:34.597758Z",
     "start_time": "2020-02-05T02:09:34.589895Z"
    }
   },
   "outputs": [],
   "source": [
    "gene_dmr_overlap['consistant_n_dms'] = gene_dmr_overlap['inc_n_dms'] + gene_dmr_overlap['dec_n_dms']"
   ]
  },
  {
   "cell_type": "code",
   "execution_count": 22,
   "metadata": {
    "ExecuteTime": {
     "end_time": "2020-02-05T02:09:45.306320Z",
     "start_time": "2020-02-05T02:09:45.294938Z"
    }
   },
   "outputs": [],
   "source": [
    "gene_dmr_overlap = gene_dmr_overlap[gene_dmr_overlap['consistant_n_dms'].abs() > 0].copy()"
   ]
  },
  {
   "cell_type": "code",
   "execution_count": 23,
   "metadata": {
    "ExecuteTime": {
     "end_time": "2020-02-05T02:09:53.795711Z",
     "start_time": "2020-02-05T02:09:53.776546Z"
    }
   },
   "outputs": [],
   "source": [
    "gene_dmr_overlap['n_dms_kb'] = gene_dmr_overlap['consistant_n_dms'] / gene_dmr_overlap['length'] * 1000"
   ]
  },
  {
   "cell_type": "code",
   "execution_count": 39,
   "metadata": {
    "ExecuteTime": {
     "end_time": "2020-02-05T02:13:49.625584Z",
     "start_time": "2020-02-05T02:13:49.614299Z"
    },
    "scrolled": true
   },
   "outputs": [],
   "source": [
    "dense_gene = gene_dmr_overlap[(gene_dmr_overlap['n_dms_kb'].abs() > 1)\n",
    "                              (gene_dmr_overlap['length'] > 10000) &\n",
    "                              (gene_dmr_overlap['consistant_n_dms'].abs() > 20)].copy()"
   ]
  },
  {
   "cell_type": "code",
   "execution_count": 41,
   "metadata": {
    "ExecuteTime": {
     "end_time": "2020-02-05T02:14:07.008894Z",
     "start_time": "2020-02-05T02:14:06.997473Z"
    },
    "scrolled": true
   },
   "outputs": [
    {
     "data": {
      "text/plain": [
       "136        Prex2\n",
       "177         Eya1\n",
       "271        Paqr8\n",
       "275        Tram2\n",
       "300        Rims1\n",
       "          ...   \n",
       "53775    Sh3kbp1\n",
       "53807      Reps2\n",
       "53864      Gpm6b\n",
       "53890     Frmpd4\n",
       "53908       Mid1\n",
       "Name: gene_id, Length: 1229, dtype: object"
      ]
     },
     "execution_count": 41,
     "metadata": {},
     "output_type": "execute_result"
    }
   ],
   "source": [
    "dense_gene['gene_id'].map(gene_meta['gene_name'])"
   ]
  },
  {
   "cell_type": "markdown",
   "metadata": {},
   "source": [
    "## Loop information"
   ]
  },
  {
   "cell_type": "code",
   "execution_count": 25,
   "metadata": {
    "ExecuteTime": {
     "end_time": "2020-02-05T02:10:04.626548Z",
     "start_time": "2020-02-05T02:10:03.842780Z"
    }
   },
   "outputs": [],
   "source": [
    "dmr_loop_df = pd.read_csv('m3c/axis-mch_dmr_loop.bed', \n",
    "                          sep='\\t', header=None, \n",
    "                          names=['chrom', 'start', 'end', 'dmr_id', 'transcript', 'gene_name'])\n",
    "dmr_loop_df = dmr_loop_df[~dmr_loop_df['gene_name'].isna()].copy()"
   ]
  },
  {
   "cell_type": "markdown",
   "metadata": {},
   "source": [
    "## Plot"
   ]
  },
  {
   "cell_type": "code",
   "execution_count": 26,
   "metadata": {
    "ExecuteTime": {
     "end_time": "2020-02-05T02:10:15.882591Z",
     "start_time": "2020-02-05T02:10:05.739472Z"
    }
   },
   "outputs": [
    {
     "data": {
      "image/png": "[encoded data removed]",
      "text/plain": [
       "<Figure size 432x432 with 3 Axes>"
      ]
     },
     "metadata": {
      "needs_background": "light"
     },
     "output_type": "display_data"
    }
   ],
   "source": [
    "g = sns.jointplot(data=gene_dmr_overlap[(gene_dmr_overlap['n_dms_kb'].abs() < 1000) & \n",
    "                                        (gene_dmr_overlap['length'] > 10000)], \n",
    "                  x='length', y='n_dms_kb', s=1)\n",
    "g.ax_joint.set_yscale('symlog')\n",
    "g.ax_joint.set_xscale('log')\n"
   ]
  },
  {
   "cell_type": "code",
   "execution_count": null,
   "metadata": {},
   "outputs": [],
   "source": [
    "gene_dmr_overlap[(gene_dmr_overlap['n_dms_kb'].abs() > 1) & \n",
    "                 (gene_dmr_overlap['length'] > 10000)]"
   ]
  },
  {
   "cell_type": "code",
   "execution_count": 50,
   "metadata": {
    "ExecuteTime": {
     "end_time": "2020-02-05T02:40:54.050390Z",
     "start_time": "2020-02-05T02:40:54.005107Z"
    }
   },
   "outputs": [],
   "source": [
    "use_genes = gene_dmr_overlap[gene_dmr_overlap['n_dms_kb'].abs() > 0.3]\n",
    "use_genes['gene_id'].to_csv('usegenes.csv', header=False)"
   ]
  },
  {
   "cell_type": "code",
   "execution_count": null,
   "metadata": {},
   "outputs": [],
   "source": []
  },
  {
   "cell_type": "code",
   "execution_count": null,
   "metadata": {},
   "outputs": [],
   "source": []
  },
  {
   "cell_type": "code",
   "execution_count": null,
   "metadata": {},
   "outputs": [],
   "source": []
  },
  {
   "cell_type": "code",
   "execution_count": null,
   "metadata": {},
   "outputs": [],
   "source": []
  },
  {
   "cell_type": "code",
   "execution_count": null,
   "metadata": {},
   "outputs": [],
   "source": []
  },
  {
   "cell_type": "code",
   "execution_count": null,
   "metadata": {},
   "outputs": [],
   "source": []
  },
  {
   "cell_type": "code",
   "execution_count": null,
   "metadata": {},
   "outputs": [],
   "source": []
  },
  {
   "cell_type": "code",
   "execution_count": null,
   "metadata": {},
   "outputs": [],
   "source": []
  },
  {
   "cell_type": "code",
   "execution_count": null,
   "metadata": {},
   "outputs": [],
   "source": []
  },
  {
   "cell_type": "code",
   "execution_count": null,
   "metadata": {},
   "outputs": [],
   "source": []
  },
  {
   "cell_type": "code",
   "execution_count": null,
   "metadata": {},
   "outputs": [],
   "source": []
  },
  {
   "cell_type": "code",
   "execution_count": null,
   "metadata": {},
   "outputs": [],
   "source": []
  },
  {
   "cell_type": "code",
   "execution_count": null,
   "metadata": {},
   "outputs": [],
   "source": []
  },
  {
   "cell_type": "code",
   "execution_count": null,
   "metadata": {},
   "outputs": [],
   "source": []
  },
  {
   "cell_type": "code",
   "execution_count": null,
   "metadata": {},
   "outputs": [],
   "source": []
  },
  {
   "cell_type": "code",
   "execution_count": null,
   "metadata": {},
   "outputs": [],
   "source": []
  },
  {
   "cell_type": "code",
   "execution_count": null,
   "metadata": {},
   "outputs": [],
   "source": []
  }
 ],
 "metadata": {
  "hide_input": false,
  "kernelspec": {
   "display_name": "Python 3",
   "language": "python",
   "name": "python3"
  },
  "language_info": {
   "codemirror_mode": {
    "name": "ipython",
    "version": 3
   },
   "file_extension": ".py",
   "mimetype": "text/x-python",
   "name": "python",
   "nbconvert_exporter": "python",
   "pygments_lexer": "ipython3",
   "version": "3.7.3"
  },
  "toc": {
   "base_numbering": 1,
   "nav_menu": {},
   "number_sections": true,
   "sideBar": true,
   "skip_h1_title": true,
   "title_cell": "Table of Contents",
   "title_sidebar": "Contents",
   "toc_cell": false,
   "toc_position": {},
   "toc_section_display": true,
   "toc_window_display": true
  }
 },
 "nbformat": 4,
 "nbformat_minor": 2
}
