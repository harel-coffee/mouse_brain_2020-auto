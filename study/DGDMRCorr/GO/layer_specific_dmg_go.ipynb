{
 "cells": [
  {
   "cell_type": "markdown",
   "metadata": {},
   "source": [
    "# Layer Specific Gene GO"
   ]
  },
  {
   "cell_type": "code",
   "execution_count": 1,
   "metadata": {
    "ExecuteTime": {
     "end_time": "2020-02-05T07:07:14.593637Z",
     "start_time": "2020-02-05T07:07:07.895619Z"
    }
   },
   "outputs": [],
   "source": [
    "import joblib\n",
    "import pandas as pd\n",
    "from goatools.base import download_go_basic_obo\n",
    "from goatools.base import download_ncbi_associations\n",
    "from goatools.obo_parser import GODag\n",
    "from goatools.anno.genetogo_reader import Gene2GoReader\n",
    "from goatools.test_data.genes_NCBI_10090_ProteinCoding import GENEID2NT as GeneID2nt_mus\n",
    "from goatools.goea.go_enrichment_ns import GOEnrichmentStudyNS\n",
    "from goatools.godag_plot import plot_gos, plot_results, plot_goid2goobj"
   ]
  },
  {
   "cell_type": "markdown",
   "metadata": {},
   "source": [
    "## Load marker gene lists"
   ]
  },
  {
   "cell_type": "code",
   "execution_count": 2,
   "metadata": {
    "ExecuteTime": {
     "end_time": "2020-02-05T07:07:19.476977Z",
     "start_time": "2020-02-05T07:07:14.596986Z"
    }
   },
   "outputs": [],
   "source": [
    "gene_meta = pd.read_csv('/home/hanliu/ref/mouse/gencode/vm22/gencode.vM22.annotation.gene.flat.tsv.gz',\n",
    "                        sep='\\t', index_col='gene_id')\n",
    "gene_id_base_to_name = {k.split('.')[0]: v for k, v in gene_meta['gene_name'].items()}"
   ]
  },
  {
   "cell_type": "code",
   "execution_count": 3,
   "metadata": {
    "ExecuteTime": {
     "end_time": "2020-02-05T07:07:19.644935Z",
     "start_time": "2020-02-05T07:07:19.493002Z"
    }
   },
   "outputs": [],
   "source": [
    "dec_genes = pd.read_csv('../plot/Decreasing_gene_ids.txt', header=None, index_col=0).index\n",
    "inc_genes = pd.read_csv('../plot/Increasing_gene_ids.txt', header=None, index_col=0).index"
   ]
  },
  {
   "cell_type": "code",
   "execution_count": 4,
   "metadata": {
    "ExecuteTime": {
     "end_time": "2020-02-05T07:07:21.728674Z",
     "start_time": "2020-02-05T07:07:19.648504Z"
    }
   },
   "outputs": [],
   "source": [
    "ensembl_id_to_ncbi = pd.read_csv(\n",
    "    '/home/hanliu/ref/ncbi/gene2ensembl.mouse.tsv.gz', sep='\\t',\n",
    "    index_col=2)['GeneID'].to_dict()\n",
    "ncbi_to_ensembl_id = {v:k for k, v in ensembl_id_to_ncbi.items()}"
   ]
  },
  {
   "cell_type": "code",
   "execution_count": 5,
   "metadata": {
    "ExecuteTime": {
     "end_time": "2020-02-05T07:07:21.831496Z",
     "start_time": "2020-02-05T07:07:21.745801Z"
    }
   },
   "outputs": [],
   "source": [
    "dec_entrez = dec_genes.map(lambda i: ensembl_id_to_ncbi.get(i.split('.')[0], None)).dropna().astype(int)\n",
    "inc_entrez = inc_genes.map(lambda i: ensembl_id_to_ncbi.get(i.split('.')[0], None)).dropna().astype(int)"
   ]
  },
  {
   "cell_type": "code",
   "execution_count": null,
   "metadata": {},
   "outputs": [],
   "source": []
  },
  {
   "cell_type": "markdown",
   "metadata": {
    "ExecuteTime": {
     "end_time": "2020-01-14T18:26:03.449200Z",
     "start_time": "2020-01-14T18:26:03.447353Z"
    }
   },
   "source": [
    "## Setup GO"
   ]
  },
  {
   "cell_type": "code",
   "execution_count": 6,
   "metadata": {
    "ExecuteTime": {
     "end_time": "2020-02-05T07:09:28.344331Z",
     "start_time": "2020-02-05T07:07:21.848413Z"
    }
   },
   "outputs": [
    {
     "name": "stdout",
     "output_type": "stream",
     "text": [
      "  EXISTS: go-basic.obo\n",
      "  EXISTS: gene2go\n",
      "go-basic.obo: fmt(1.2) rel(2020-01-01) 47,337 GO Terms\n",
      "HMS:0:01:28.658138 367,364 annotations READ: gene2go \n",
      "1 taxids stored: 10090\n",
      "CC 18,826 annotated mouse genes\n",
      "BP 17,860 annotated mouse genes\n",
      "MF 16,723 annotated mouse genes\n"
     ]
    }
   ],
   "source": [
    "obo_fname = download_go_basic_obo()\n",
    "fin_gene2go = download_ncbi_associations()\n",
    "obodag = GODag(\"go-basic.obo\")\n",
    "\n",
    "# Read NCBI's gene2go. Store annotations in a list of namedtuples\n",
    "objanno = Gene2GoReader(fin_gene2go, taxids=[10090])\n",
    "# Get namespace2association where:\n",
    "#    namespace is:\n",
    "#        BP: biological_process               \n",
    "#        MF: molecular_function\n",
    "#        CC: cellular_component\n",
    "#    assocation is a dict:\n",
    "#        key: NCBI GeneID\n",
    "#        value: A set of GO IDs associated with that gene\n",
    "ns2assoc = objanno.get_ns2assc()\n",
    "\n",
    "for nspc, id2gos in ns2assoc.items():\n",
    "    print(\"{NS} {N:,} annotated mouse genes\".format(NS=nspc, N=len(id2gos)))"
   ]
  },
  {
   "cell_type": "code",
   "execution_count": 7,
   "metadata": {
    "ExecuteTime": {
     "end_time": "2020-02-05T07:09:28.791441Z",
     "start_time": "2020-02-05T07:09:28.422678Z"
    }
   },
   "outputs": [],
   "source": [
    "# filter short gene, Jingtian said short gene make FP more sig\n",
    "bg_genes = []\n",
    "for k, v in GeneID2nt_mus.items():\n",
    "    try:\n",
    "        length = v.end_position_on_the_genomic_accession - v.start_position_on_the_genomic_accession\n",
    "    except TypeError:\n",
    "        continue\n",
    "    if length < 5000:\n",
    "        continue\n",
    "    bg_genes.append(k)\n"
   ]
  },
  {
   "cell_type": "code",
   "execution_count": 8,
   "metadata": {
    "ExecuteTime": {
     "end_time": "2020-02-05T07:09:34.566117Z",
     "start_time": "2020-02-05T07:09:28.817663Z"
    }
   },
   "outputs": [
    {
     "name": "stdout",
     "output_type": "stream",
     "text": [
      "\n",
      "Load BP Gene Ontology Analysis ...\n",
      "fisher module not installed.  Falling back on scipy.stats.fisher_exact\n",
      " 76% 13,391 of 17,572 population items found in association\n",
      "\n",
      "Load CC Gene Ontology Analysis ...\n",
      "fisher module not installed.  Falling back on scipy.stats.fisher_exact\n",
      " 82% 14,415 of 17,572 population items found in association\n",
      "\n",
      "Load MF Gene Ontology Analysis ...\n",
      "fisher module not installed.  Falling back on scipy.stats.fisher_exact\n",
      " 74% 13,003 of 17,572 population items found in association\n"
     ]
    }
   ],
   "source": [
    "goeaobj = GOEnrichmentStudyNS(\n",
    "        bg_genes, # List of mouse protein-coding genes\n",
    "        ns2assoc, # geneid/GO associations\n",
    "        obodag, # Ontologies\n",
    "        propagate_counts = False,\n",
    "        alpha = 0.05, # default significance cut-off\n",
    "        methods = ['fdr_bh']) # defult multipletest correction method"
   ]
  },
  {
   "cell_type": "code",
   "execution_count": 9,
   "metadata": {
    "ExecuteTime": {
     "end_time": "2020-02-05T07:12:21.429919Z",
     "start_time": "2020-02-05T07:09:34.577023Z"
    },
    "scrolled": true
   },
   "outputs": [
    {
     "name": "stdout",
     "output_type": "stream",
     "text": [
      "\n",
      "Run BP Gene Ontology Analysis: current study set of 104 IDs ...\n",
      " 92%     90 of     98 study items found in association\n",
      " 94%     98 of    104 study items found in population(17572)\n",
      "Calculating 11,804 uncorrected p-values using fisher_scipy_stats\n",
      "  11,804 GO terms are associated with 13,391 of 17,572 population items\n",
      "     766 GO terms are associated with     90 of    104 study items\n",
      "  METHOD fdr_bh:\n",
      "       0 GO terms found significant (< 0.05=alpha) (  0 enriched +   0 purified): statsmodels fdr_bh\n",
      "       0 study items associated with significant GO IDs (enriched)\n",
      "       0 study items associated with significant GO IDs (purified)\n",
      "\n",
      "Run CC Gene Ontology Analysis: current study set of 104 IDs ...\n",
      " 95%     93 of     98 study items found in association\n",
      " 94%     98 of    104 study items found in population(17572)\n",
      "Calculating 1,695 uncorrected p-values using fisher_scipy_stats\n",
      "   1,695 GO terms are associated with 14,415 of 17,572 population items\n",
      "     220 GO terms are associated with     93 of    104 study items\n",
      "  METHOD fdr_bh:\n",
      "      11 GO terms found significant (< 0.05=alpha) ( 11 enriched +   0 purified): statsmodels fdr_bh\n",
      "      53 study items associated with significant GO IDs (enriched)\n",
      "       0 study items associated with significant GO IDs (purified)\n",
      "\n",
      "Run MF Gene Ontology Analysis: current study set of 104 IDs ...\n",
      " 92%     90 of     98 study items found in association\n",
      " 94%     98 of    104 study items found in population(17572)\n",
      "Calculating 3,938 uncorrected p-values using fisher_scipy_stats\n",
      "   3,938 GO terms are associated with 13,003 of 17,572 population items\n",
      "     220 GO terms are associated with     90 of    104 study items\n",
      "  METHOD fdr_bh:\n",
      "       0 GO terms found significant (< 0.05=alpha) (  0 enriched +   0 purified): statsmodels fdr_bh\n",
      "       0 study items associated with significant GO IDs (enriched)\n",
      "       0 study items associated with significant GO IDs (purified)\n",
      "     11 items WROTE: decrease.GO.tsv\n",
      "   11 usr  24 GOs  WROTE: decrease.GOCC.png\n"
     ]
    }
   ],
   "source": [
    "# 'p_' means \"pvalue\". 'fdr_bh' is the multipletest method we are currently using.\n",
    "\n",
    "gene_type = 'decrease'\n",
    "genes = dec_entrez\n",
    "\n",
    "goea_results_all = goeaobj.run_study(list(genes))\n",
    "goea_results_sig = [r for r in goea_results_all if r.p_fdr_bh < 0.05]\n",
    "goeaobj.wr_tsv(f\"{gene_type}.GO.tsv\", goea_results_sig)\n",
    "plot_results(gene_type + \".GO{NS}.png\", goea_results_sig)\n",
    "\n",
    "# add more gene info\n",
    "sig_go_df = pd.read_csv(f\"{gene_type}.GO.tsv\", sep='\\t', index_col=0)\n",
    "sig_go_df['study_items'] = sig_go_df['study_items'].fillna('')\n",
    "sig_go_df['gene_ids'] = sig_go_df['study_items'].apply(lambda i: ','.join(\n",
    "    [ncbi_to_ensembl_id[int(g)] for g in i.split(',') if g != '']))\n",
    "sig_go_df['gene_names'] = sig_go_df['gene_ids'].apply(lambda i: ','.join(\n",
    "    [gene_id_base_to_name[g] for g in i.split(',') if g != '']))\n",
    "sig_go_df.to_csv(f\"{gene_type}.GO.tsv\", sep='\\t')"
   ]
  },
  {
   "cell_type": "code",
   "execution_count": 10,
   "metadata": {
    "ExecuteTime": {
     "end_time": "2020-02-05T07:12:21.837627Z",
     "start_time": "2020-02-05T07:12:21.498271Z"
    },
    "scrolled": false
   },
   "outputs": [
    {
     "data": {
      "text/html": [
       "<div>\n",
       "<style scoped>\n",
       "    .dataframe tbody tr th:only-of-type {\n",
       "        vertical-align: middle;\n",
       "    }\n",
       "\n",
       "    .dataframe tbody tr th {\n",
       "        vertical-align: top;\n",
       "    }\n",
       "\n",
       "    .dataframe thead th {\n",
       "        text-align: right;\n",
       "    }\n",
       "</style>\n",
       "<table border=\"1\" class=\"dataframe\">\n",
       "  <thead>\n",
       "    <tr style=\"text-align: right;\">\n",
       "      <th></th>\n",
       "      <th>NS</th>\n",
       "      <th>enrichment</th>\n",
       "      <th>name</th>\n",
       "      <th>ratio_in_study</th>\n",
       "      <th>ratio_in_pop</th>\n",
       "      <th>p_uncorrected</th>\n",
       "      <th>depth</th>\n",
       "      <th>study_count</th>\n",
       "      <th>p_fdr_bh</th>\n",
       "      <th>study_items</th>\n",
       "      <th>gene_ids</th>\n",
       "      <th>gene_names</th>\n",
       "    </tr>\n",
       "    <tr>\n",
       "      <th># GO</th>\n",
       "      <th></th>\n",
       "      <th></th>\n",
       "      <th></th>\n",
       "      <th></th>\n",
       "      <th></th>\n",
       "      <th></th>\n",
       "      <th></th>\n",
       "      <th></th>\n",
       "      <th></th>\n",
       "      <th></th>\n",
       "      <th></th>\n",
       "      <th></th>\n",
       "    </tr>\n",
       "  </thead>\n",
       "  <tbody>\n",
       "    <tr>\n",
       "      <th>GO:0005886</th>\n",
       "      <td>CC</td>\n",
       "      <td>e</td>\n",
       "      <td>plasma membrane</td>\n",
       "      <td>46/98</td>\n",
       "      <td>3492/17572</td>\n",
       "      <td>1.685373e-09</td>\n",
       "      <td>3</td>\n",
       "      <td>46</td>\n",
       "      <td>0.000003</td>\n",
       "      <td>11732, 11931, 12387, 12561, 13429, 14339, 1458...</td>\n",
       "      <td>ENSMUSG00000022265,ENSMUSG00000026576,ENSMUSG0...</td>\n",
       "      <td>Ank,Atp1b1,Ctnnb1,Cdh4,Dnm1,Aktip,Gfra1,Kcnj4,...</td>\n",
       "    </tr>\n",
       "    <tr>\n",
       "      <th>GO:0045202</th>\n",
       "      <td>CC</td>\n",
       "      <td>e</td>\n",
       "      <td>synapse</td>\n",
       "      <td>18/98</td>\n",
       "      <td>627/17572</td>\n",
       "      <td>9.893095e-09</td>\n",
       "      <td>2</td>\n",
       "      <td>18</td>\n",
       "      <td>0.000008</td>\n",
       "      <td>12217, 12387, 13429, 16520, 17755, 18011, 1895...</td>\n",
       "      <td>ENSMUSG00000032589,ENSMUSG00000006932,ENSMUSG0...</td>\n",
       "      <td>Bsn,Ctnnb1,Dnm1,Kcnj4,Map1b,Neurl1a,Sept5,Tiam...</td>\n",
       "    </tr>\n",
       "    <tr>\n",
       "      <th>GO:0014069</th>\n",
       "      <td>CC</td>\n",
       "      <td>e</td>\n",
       "      <td>postsynaptic density</td>\n",
       "      <td>11/98</td>\n",
       "      <td>296/17572</td>\n",
       "      <td>7.859850e-07</td>\n",
       "      <td>4</td>\n",
       "      <td>11</td>\n",
       "      <td>0.000444</td>\n",
       "      <td>12217, 13429, 17755, 18011, 18195, 21844, 5472...</td>\n",
       "      <td>ENSMUSG00000032589,ENSMUSG00000026825,ENSMUSG0...</td>\n",
       "      <td>Bsn,Dnm1,Map1b,Neurl1a,Nsf,Tiam1,Cadm1,Shank3,...</td>\n",
       "    </tr>\n",
       "    <tr>\n",
       "      <th>GO:0098685</th>\n",
       "      <td>CC</td>\n",
       "      <td>e</td>\n",
       "      <td>Schaffer collateral - CA1 synapse</td>\n",
       "      <td>7/98</td>\n",
       "      <td>105/17572</td>\n",
       "      <td>1.968793e-06</td>\n",
       "      <td>3</td>\n",
       "      <td>7</td>\n",
       "      <td>0.000823</td>\n",
       "      <td>12217, 12387, 17919, 54725, 70530, 109934, 432530</td>\n",
       "      <td>ENSMUSG00000032589,ENSMUSG00000006932,ENSMUSG0...</td>\n",
       "      <td>Bsn,Ctnnb1,Myo5b,Cadm1,Lrfn2,Abr,Adcy1</td>\n",
       "    </tr>\n",
       "    <tr>\n",
       "      <th>GO:0098978</th>\n",
       "      <td>CC</td>\n",
       "      <td>e</td>\n",
       "      <td>glutamatergic synapse</td>\n",
       "      <td>13/98</td>\n",
       "      <td>477/17572</td>\n",
       "      <td>2.426402e-06</td>\n",
       "      <td>3</td>\n",
       "      <td>13</td>\n",
       "      <td>0.000823</td>\n",
       "      <td>12217, 13429, 17919, 18754, 21844, 54725, 5617...</td>\n",
       "      <td>ENSMUSG00000032589,ENSMUSG00000026825,ENSMUSG0...</td>\n",
       "      <td>Bsn,Dnm1,Myo5b,Prkce,Tiam1,Cadm1,Olfm1,Cacna1h...</td>\n",
       "    </tr>\n",
       "    <tr>\n",
       "      <th>GO:0030054</th>\n",
       "      <td>CC</td>\n",
       "      <td>e</td>\n",
       "      <td>cell junction</td>\n",
       "      <td>16/98</td>\n",
       "      <td>773/17572</td>\n",
       "      <td>5.458115e-06</td>\n",
       "      <td>2</td>\n",
       "      <td>16</td>\n",
       "      <td>0.001542</td>\n",
       "      <td>12217, 12387, 16520, 17755, 18011, 21844, 5472...</td>\n",
       "      <td>ENSMUSG00000032589,ENSMUSG00000006932,ENSMUSG0...</td>\n",
       "      <td>Bsn,Ctnnb1,Kcnj4,Map1b,Neurl1a,Tiam1,Cadm1,Olf...</td>\n",
       "    </tr>\n",
       "    <tr>\n",
       "      <th>GO:0043196</th>\n",
       "      <td>CC</td>\n",
       "      <td>e</td>\n",
       "      <td>varicosity</td>\n",
       "      <td>3/98</td>\n",
       "      <td>12/17572</td>\n",
       "      <td>3.568069e-05</td>\n",
       "      <td>2</td>\n",
       "      <td>3</td>\n",
       "      <td>0.008640</td>\n",
       "      <td>13429, 17755, 54725</td>\n",
       "      <td>ENSMUSG00000026825,ENSMUSG00000052727,ENSMUSG0...</td>\n",
       "      <td>Dnm1,Map1b,Cadm1</td>\n",
       "    </tr>\n",
       "    <tr>\n",
       "      <th>GO:0045211</th>\n",
       "      <td>CC</td>\n",
       "      <td>e</td>\n",
       "      <td>postsynaptic membrane</td>\n",
       "      <td>8/98</td>\n",
       "      <td>254/17572</td>\n",
       "      <td>8.754984e-05</td>\n",
       "      <td>5</td>\n",
       "      <td>8</td>\n",
       "      <td>0.018550</td>\n",
       "      <td>12387, 13429, 16520, 18011, 58234, 70530, 8190...</td>\n",
       "      <td>ENSMUSG00000006932,ENSMUSG00000026825,ENSMUSG0...</td>\n",
       "      <td>Ctnnb1,Dnm1,Kcnj4,Neurl1a,Shank3,Lrfn2,Tmem108...</td>\n",
       "    </tr>\n",
       "    <tr>\n",
       "      <th>GO:0036477</th>\n",
       "      <td>CC</td>\n",
       "      <td>e</td>\n",
       "      <td>somatodendritic compartment</td>\n",
       "      <td>3/98</td>\n",
       "      <td>21/17572</td>\n",
       "      <td>2.079820e-04</td>\n",
       "      <td>2</td>\n",
       "      <td>3</td>\n",
       "      <td>0.039170</td>\n",
       "      <td>17755, 21844, 81907</td>\n",
       "      <td>ENSMUSG00000052727,ENSMUSG00000002489,ENSMUSG0...</td>\n",
       "      <td>Map1b,Tiam1,Tmem108</td>\n",
       "    </tr>\n",
       "    <tr>\n",
       "      <th>GO:0043025</th>\n",
       "      <td>CC</td>\n",
       "      <td>e</td>\n",
       "      <td>neuronal cell body</td>\n",
       "      <td>11/98</td>\n",
       "      <td>558/17572</td>\n",
       "      <td>2.764749e-04</td>\n",
       "      <td>3</td>\n",
       "      <td>11</td>\n",
       "      <td>0.046862</td>\n",
       "      <td>12217, 14585, 16520, 17196, 17755, 17919, 2184...</td>\n",
       "      <td>ENSMUSG00000032589,ENSMUSG00000025089,ENSMUSG0...</td>\n",
       "      <td>Bsn,Gfra1,Kcnj4,Mbp,Map1b,Myo5b,Tiam1,Olfm1,Se...</td>\n",
       "    </tr>\n",
       "    <tr>\n",
       "      <th>GO:0043197</th>\n",
       "      <td>CC</td>\n",
       "      <td>e</td>\n",
       "      <td>dendritic spine</td>\n",
       "      <td>6/98</td>\n",
       "      <td>164/17572</td>\n",
       "      <td>3.126592e-04</td>\n",
       "      <td>6</td>\n",
       "      <td>6</td>\n",
       "      <td>0.048178</td>\n",
       "      <td>13429, 17919, 18011, 21844, 58234, 244310</td>\n",
       "      <td>ENSMUSG00000026825,ENSMUSG00000025885,ENSMUSG0...</td>\n",
       "      <td>Dnm1,Myo5b,Neurl1a,Tiam1,Shank3,Dlgap2</td>\n",
       "    </tr>\n",
       "  </tbody>\n",
       "</table>\n",
       "</div>"
      ],
      "text/plain": [
       "            NS enrichment                               name ratio_in_study  \\\n",
       "# GO                                                                          \n",
       "GO:0005886  CC          e                    plasma membrane          46/98   \n",
       "GO:0045202  CC          e                            synapse          18/98   \n",
       "GO:0014069  CC          e               postsynaptic density          11/98   \n",
       "GO:0098685  CC          e  Schaffer collateral - CA1 synapse           7/98   \n",
       "GO:0098978  CC          e              glutamatergic synapse          13/98   \n",
       "GO:0030054  CC          e                      cell junction          16/98   \n",
       "GO:0043196  CC          e                         varicosity           3/98   \n",
       "GO:0045211  CC          e              postsynaptic membrane           8/98   \n",
       "GO:0036477  CC          e        somatodendritic compartment           3/98   \n",
       "GO:0043025  CC          e                 neuronal cell body          11/98   \n",
       "GO:0043197  CC          e                    dendritic spine           6/98   \n",
       "\n",
       "           ratio_in_pop  p_uncorrected  depth  study_count  p_fdr_bh  \\\n",
       "# GO                                                                   \n",
       "GO:0005886   3492/17572   1.685373e-09      3           46  0.000003   \n",
       "GO:0045202    627/17572   9.893095e-09      2           18  0.000008   \n",
       "GO:0014069    296/17572   7.859850e-07      4           11  0.000444   \n",
       "GO:0098685    105/17572   1.968793e-06      3            7  0.000823   \n",
       "GO:0098978    477/17572   2.426402e-06      3           13  0.000823   \n",
       "GO:0030054    773/17572   5.458115e-06      2           16  0.001542   \n",
       "GO:0043196     12/17572   3.568069e-05      2            3  0.008640   \n",
       "GO:0045211    254/17572   8.754984e-05      5            8  0.018550   \n",
       "GO:0036477     21/17572   2.079820e-04      2            3  0.039170   \n",
       "GO:0043025    558/17572   2.764749e-04      3           11  0.046862   \n",
       "GO:0043197    164/17572   3.126592e-04      6            6  0.048178   \n",
       "\n",
       "                                                  study_items  \\\n",
       "# GO                                                            \n",
       "GO:0005886  11732, 11931, 12387, 12561, 13429, 14339, 1458...   \n",
       "GO:0045202  12217, 12387, 13429, 16520, 17755, 18011, 1895...   \n",
       "GO:0014069  12217, 13429, 17755, 18011, 18195, 21844, 5472...   \n",
       "GO:0098685  12217, 12387, 17919, 54725, 70530, 109934, 432530   \n",
       "GO:0098978  12217, 13429, 17919, 18754, 21844, 54725, 5617...   \n",
       "GO:0030054  12217, 12387, 16520, 17755, 18011, 21844, 5472...   \n",
       "GO:0043196                                13429, 17755, 54725   \n",
       "GO:0045211  12387, 13429, 16520, 18011, 58234, 70530, 8190...   \n",
       "GO:0036477                                17755, 21844, 81907   \n",
       "GO:0043025  12217, 14585, 16520, 17196, 17755, 17919, 2184...   \n",
       "GO:0043197          13429, 17919, 18011, 21844, 58234, 244310   \n",
       "\n",
       "                                                     gene_ids  \\\n",
       "# GO                                                            \n",
       "GO:0005886  ENSMUSG00000022265,ENSMUSG00000026576,ENSMUSG0...   \n",
       "GO:0045202  ENSMUSG00000032589,ENSMUSG00000006932,ENSMUSG0...   \n",
       "GO:0014069  ENSMUSG00000032589,ENSMUSG00000026825,ENSMUSG0...   \n",
       "GO:0098685  ENSMUSG00000032589,ENSMUSG00000006932,ENSMUSG0...   \n",
       "GO:0098978  ENSMUSG00000032589,ENSMUSG00000026825,ENSMUSG0...   \n",
       "GO:0030054  ENSMUSG00000032589,ENSMUSG00000006932,ENSMUSG0...   \n",
       "GO:0043196  ENSMUSG00000026825,ENSMUSG00000052727,ENSMUSG0...   \n",
       "GO:0045211  ENSMUSG00000006932,ENSMUSG00000026825,ENSMUSG0...   \n",
       "GO:0036477  ENSMUSG00000052727,ENSMUSG00000002489,ENSMUSG0...   \n",
       "GO:0043025  ENSMUSG00000032589,ENSMUSG00000025089,ENSMUSG0...   \n",
       "GO:0043197  ENSMUSG00000026825,ENSMUSG00000025885,ENSMUSG0...   \n",
       "\n",
       "                                                   gene_names  \n",
       "# GO                                                           \n",
       "GO:0005886  Ank,Atp1b1,Ctnnb1,Cdh4,Dnm1,Aktip,Gfra1,Kcnj4,...  \n",
       "GO:0045202  Bsn,Ctnnb1,Dnm1,Kcnj4,Map1b,Neurl1a,Sept5,Tiam...  \n",
       "GO:0014069  Bsn,Dnm1,Map1b,Neurl1a,Nsf,Tiam1,Cadm1,Shank3,...  \n",
       "GO:0098685             Bsn,Ctnnb1,Myo5b,Cadm1,Lrfn2,Abr,Adcy1  \n",
       "GO:0098978  Bsn,Dnm1,Myo5b,Prkce,Tiam1,Cadm1,Olfm1,Cacna1h...  \n",
       "GO:0030054  Bsn,Ctnnb1,Kcnj4,Map1b,Neurl1a,Tiam1,Cadm1,Olf...  \n",
       "GO:0043196                                   Dnm1,Map1b,Cadm1  \n",
       "GO:0045211  Ctnnb1,Dnm1,Kcnj4,Neurl1a,Shank3,Lrfn2,Tmem108...  \n",
       "GO:0036477                                Map1b,Tiam1,Tmem108  \n",
       "GO:0043025  Bsn,Gfra1,Kcnj4,Mbp,Map1b,Myo5b,Tiam1,Olfm1,Se...  \n",
       "GO:0043197             Dnm1,Myo5b,Neurl1a,Tiam1,Shank3,Dlgap2  "
      ]
     },
     "execution_count": 10,
     "metadata": {},
     "output_type": "execute_result"
    }
   ],
   "source": [
    "sig_go_df"
   ]
  },
  {
   "cell_type": "code",
   "execution_count": null,
   "metadata": {},
   "outputs": [],
   "source": []
  },
  {
   "cell_type": "code",
   "execution_count": null,
   "metadata": {},
   "outputs": [],
   "source": []
  },
  {
   "cell_type": "code",
   "execution_count": null,
   "metadata": {},
   "outputs": [],
   "source": []
  },
  {
   "cell_type": "code",
   "execution_count": null,
   "metadata": {},
   "outputs": [],
   "source": []
  }
 ],
 "metadata": {
  "hide_input": false,
  "kernelspec": {
   "display_name": "Python 3",
   "language": "python",
   "name": "python3"
  },
  "language_info": {
   "codemirror_mode": {
    "name": "ipython",
    "version": 3
   },
   "file_extension": ".py",
   "mimetype": "text/x-python",
   "name": "python",
   "nbconvert_exporter": "python",
   "pygments_lexer": "ipython3",
   "version": "3.7.3"
  },
  "toc": {
   "base_numbering": 1,
   "nav_menu": {},
   "number_sections": true,
   "sideBar": true,
   "skip_h1_title": true,
   "title_cell": "Table of Contents",
   "title_sidebar": "Contents",
   "toc_cell": false,
   "toc_position": {},
   "toc_section_display": true,
   "toc_window_display": true
  }
 },
 "nbformat": 4,
 "nbformat_minor": 2
}
