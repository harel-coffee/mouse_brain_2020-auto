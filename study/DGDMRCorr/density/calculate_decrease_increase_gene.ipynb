{
 "cells": [
  {
   "cell_type": "code",
   "execution_count": 6,
   "metadata": {
    "ExecuteTime": {
     "end_time": "2020-02-04T23:40:43.776241Z",
     "start_time": "2020-02-04T23:40:38.132381Z"
    }
   },
   "outputs": [],
   "source": [
    "import pandas as pd\n",
    "import numpy as np\n",
    "import pybedtools\n",
    "from scipy.stats import fisher_exact\n",
    "from statsmodels.stats.multitest import multipletests"
   ]
  },
  {
   "cell_type": "code",
   "execution_count": 4,
   "metadata": {
    "ExecuteTime": {
     "end_time": "2020-02-04T19:22:54.549268Z",
     "start_time": "2020-02-04T19:22:48.388682Z"
    },
    "deletable": false,
    "editable": false,
    "run_control": {
     "frozen": true
    }
   },
   "outputs": [],
   "source": [
    "# merge overlapped gene body\n",
    "!bedtools merge -i gene.sorted.bed > non_overlap_intragenic.bed\n",
    "# get intergenic and intragenic region\n",
    "!bedtools subtract -a mm10.whole_genome.bed -b non_overlap_intragenic.bed > non_overlap_intergenic.bed\n",
    "!bedtools subtract -a non_overlap_intergenic.bed -b mm10-blacklist.v2.bed > non_overlap_intergenic.subtract_black.bed\n",
    "!bedtools subtract -a non_overlap_intragenic.bed -b mm10-blacklist.v2.bed > non_overlap_intragenic.subtract_black.bed\n",
    "\n",
    "# subdivide dmr into intra- and intergenic\n",
    "!bedtools intersect -a ../DG_DMR.decrease.mch_group.bed -b non_overlap_intergenic.subtract_black.bed -wa -u > DG_DMR.decrease.intergenic.bed\n",
    "!bedtools intersect -a ../DG_DMR.decrease.mch_group.bed -b non_overlap_intragenic.subtract_black.bed -wa -u > DG_DMR.decrease.intragenic.bed\n",
    "!bedtools intersect -a ../DG_DMR.increase.mch_group.bed -b non_overlap_intragenic.subtract_black.bed -wa -u > DG_DMR.increase.intragenic.bed\n",
    "!bedtools intersect -a ../DG_DMR.increase.mch_group.bed -b non_overlap_intergenic.subtract_black.bed -wa -u > DG_DMR.increase.intergenic.bed\n",
    "\n",
    "# get fasta of each region\n",
    "!bedtools getfasta -fi /home/hanliu/ref/mouse/genome/fasta/raw/mm10.fa -bed non_overlap_intergenic.subtract_black.bed > intergenic.fa\n",
    "!bedtools getfasta -fi /home/hanliu/ref/mouse/genome/fasta/raw/mm10.fa -bed non_overlap_intergenic.subtract_black.bed > intergenic.fa\n",
    "\n"
   ]
  },
  {
   "cell_type": "code",
   "execution_count": 7,
   "metadata": {
    "ExecuteTime": {
     "end_time": "2020-02-05T01:06:26.376887Z",
     "start_time": "2020-02-05T01:06:12.991262Z"
    }
   },
   "outputs": [
    {
     "data": {
      "text/html": [
       "<div>\n",
       "<style scoped>\n",
       "    .dataframe tbody tr th:only-of-type {\n",
       "        vertical-align: middle;\n",
       "    }\n",
       "\n",
       "    .dataframe tbody tr th {\n",
       "        vertical-align: top;\n",
       "    }\n",
       "\n",
       "    .dataframe thead th {\n",
       "        text-align: right;\n",
       "    }\n",
       "</style>\n",
       "<table border=\"1\" class=\"dataframe\">\n",
       "  <thead>\n",
       "    <tr style=\"text-align: right;\">\n",
       "      <th></th>\n",
       "      <th>#chr</th>\n",
       "      <th>start</th>\n",
       "      <th>end</th>\n",
       "      <th>number_of_dms</th>\n",
       "      <th>low</th>\n",
       "      <th>midlow</th>\n",
       "      <th>midhigh</th>\n",
       "      <th>high</th>\n",
       "      <th>rho</th>\n",
       "      <th>trend</th>\n",
       "      <th>...</th>\n",
       "      <th>annot-stop_codon.all</th>\n",
       "      <th>annot-TSS.all</th>\n",
       "      <th>annot-TSS.protein_coding</th>\n",
       "      <th>annot-UTR3.all</th>\n",
       "      <th>annot-UTR3.protein_coding</th>\n",
       "      <th>annot-UTR5.all</th>\n",
       "      <th>annot-UTR5.protein_coding</th>\n",
       "      <th>annot-CGI</th>\n",
       "      <th>annot-CGI_shore</th>\n",
       "      <th>annot-Transposon</th>\n",
       "    </tr>\n",
       "    <tr>\n",
       "      <th>DMR_id</th>\n",
       "      <th></th>\n",
       "      <th></th>\n",
       "      <th></th>\n",
       "      <th></th>\n",
       "      <th></th>\n",
       "      <th></th>\n",
       "      <th></th>\n",
       "      <th></th>\n",
       "      <th></th>\n",
       "      <th></th>\n",
       "      <th></th>\n",
       "      <th></th>\n",
       "      <th></th>\n",
       "      <th></th>\n",
       "      <th></th>\n",
       "      <th></th>\n",
       "      <th></th>\n",
       "      <th></th>\n",
       "      <th></th>\n",
       "      <th></th>\n",
       "      <th></th>\n",
       "    </tr>\n",
       "  </thead>\n",
       "  <tbody>\n",
       "    <tr>\n",
       "      <th>DGmCH_0</th>\n",
       "      <td>chr1</td>\n",
       "      <td>3026310</td>\n",
       "      <td>3026310</td>\n",
       "      <td>1</td>\n",
       "      <td>0.396226</td>\n",
       "      <td>0.309091</td>\n",
       "      <td>0.631579</td>\n",
       "      <td>0.627907</td>\n",
       "      <td>0.801534</td>\n",
       "      <td>increasing</td>\n",
       "      <td>...</td>\n",
       "      <td>False</td>\n",
       "      <td>False</td>\n",
       "      <td>False</td>\n",
       "      <td>False</td>\n",
       "      <td>False</td>\n",
       "      <td>False</td>\n",
       "      <td>False</td>\n",
       "      <td>False</td>\n",
       "      <td>False</td>\n",
       "      <td>True</td>\n",
       "    </tr>\n",
       "    <tr>\n",
       "      <th>DGmCH_1</th>\n",
       "      <td>chr1</td>\n",
       "      <td>3069892</td>\n",
       "      <td>3069892</td>\n",
       "      <td>1</td>\n",
       "      <td>0.807692</td>\n",
       "      <td>0.583333</td>\n",
       "      <td>0.743590</td>\n",
       "      <td>0.960000</td>\n",
       "      <td>0.510749</td>\n",
       "      <td>no trend</td>\n",
       "      <td>...</td>\n",
       "      <td>False</td>\n",
       "      <td>False</td>\n",
       "      <td>False</td>\n",
       "      <td>False</td>\n",
       "      <td>False</td>\n",
       "      <td>False</td>\n",
       "      <td>False</td>\n",
       "      <td>False</td>\n",
       "      <td>False</td>\n",
       "      <td>True</td>\n",
       "    </tr>\n",
       "    <tr>\n",
       "      <th>DGmCH_2</th>\n",
       "      <td>chr1</td>\n",
       "      <td>3084771</td>\n",
       "      <td>3084771</td>\n",
       "      <td>1</td>\n",
       "      <td>0.413793</td>\n",
       "      <td>0.387097</td>\n",
       "      <td>0.645161</td>\n",
       "      <td>0.766667</td>\n",
       "      <td>0.926190</td>\n",
       "      <td>increasing</td>\n",
       "      <td>...</td>\n",
       "      <td>False</td>\n",
       "      <td>False</td>\n",
       "      <td>False</td>\n",
       "      <td>False</td>\n",
       "      <td>False</td>\n",
       "      <td>False</td>\n",
       "      <td>False</td>\n",
       "      <td>False</td>\n",
       "      <td>False</td>\n",
       "      <td>True</td>\n",
       "    </tr>\n",
       "    <tr>\n",
       "      <th>DGmCH_3</th>\n",
       "      <td>chr1</td>\n",
       "      <td>3092179</td>\n",
       "      <td>3092179</td>\n",
       "      <td>1</td>\n",
       "      <td>0.744681</td>\n",
       "      <td>0.666667</td>\n",
       "      <td>0.921875</td>\n",
       "      <td>0.944444</td>\n",
       "      <td>0.814380</td>\n",
       "      <td>increasing</td>\n",
       "      <td>...</td>\n",
       "      <td>False</td>\n",
       "      <td>False</td>\n",
       "      <td>False</td>\n",
       "      <td>False</td>\n",
       "      <td>False</td>\n",
       "      <td>False</td>\n",
       "      <td>False</td>\n",
       "      <td>False</td>\n",
       "      <td>False</td>\n",
       "      <td>True</td>\n",
       "    </tr>\n",
       "    <tr>\n",
       "      <th>DGmCH_4</th>\n",
       "      <td>chr1</td>\n",
       "      <td>3118806</td>\n",
       "      <td>3118806</td>\n",
       "      <td>1</td>\n",
       "      <td>0.697674</td>\n",
       "      <td>0.933333</td>\n",
       "      <td>0.868421</td>\n",
       "      <td>1.000000</td>\n",
       "      <td>0.837758</td>\n",
       "      <td>increasing</td>\n",
       "      <td>...</td>\n",
       "      <td>False</td>\n",
       "      <td>False</td>\n",
       "      <td>False</td>\n",
       "      <td>False</td>\n",
       "      <td>False</td>\n",
       "      <td>False</td>\n",
       "      <td>False</td>\n",
       "      <td>False</td>\n",
       "      <td>False</td>\n",
       "      <td>True</td>\n",
       "    </tr>\n",
       "  </tbody>\n",
       "</table>\n",
       "<p>5 rows × 41 columns</p>\n",
       "</div>"
      ],
      "text/plain": [
       "         #chr    start      end  number_of_dms       low    midlow   midhigh  \\\n",
       "DMR_id                                                                         \n",
       "DGmCH_0  chr1  3026310  3026310              1  0.396226  0.309091  0.631579   \n",
       "DGmCH_1  chr1  3069892  3069892              1  0.807692  0.583333  0.743590   \n",
       "DGmCH_2  chr1  3084771  3084771              1  0.413793  0.387097  0.645161   \n",
       "DGmCH_3  chr1  3092179  3092179              1  0.744681  0.666667  0.921875   \n",
       "DGmCH_4  chr1  3118806  3118806              1  0.697674  0.933333  0.868421   \n",
       "\n",
       "             high       rho       trend  ...  annot-stop_codon.all  \\\n",
       "DMR_id                                   ...                         \n",
       "DGmCH_0  0.627907  0.801534  increasing  ...                 False   \n",
       "DGmCH_1  0.960000  0.510749    no trend  ...                 False   \n",
       "DGmCH_2  0.766667  0.926190  increasing  ...                 False   \n",
       "DGmCH_3  0.944444  0.814380  increasing  ...                 False   \n",
       "DGmCH_4  1.000000  0.837758  increasing  ...                 False   \n",
       "\n",
       "         annot-TSS.all  annot-TSS.protein_coding  annot-UTR3.all  \\\n",
       "DMR_id                                                             \n",
       "DGmCH_0          False                     False           False   \n",
       "DGmCH_1          False                     False           False   \n",
       "DGmCH_2          False                     False           False   \n",
       "DGmCH_3          False                     False           False   \n",
       "DGmCH_4          False                     False           False   \n",
       "\n",
       "         annot-UTR3.protein_coding  annot-UTR5.all  annot-UTR5.protein_coding  \\\n",
       "DMR_id                                                                          \n",
       "DGmCH_0                      False           False                      False   \n",
       "DGmCH_1                      False           False                      False   \n",
       "DGmCH_2                      False           False                      False   \n",
       "DGmCH_3                      False           False                      False   \n",
       "DGmCH_4                      False           False                      False   \n",
       "\n",
       "         annot-CGI  annot-CGI_shore  annot-Transposon  \n",
       "DMR_id                                                 \n",
       "DGmCH_0      False            False              True  \n",
       "DGmCH_1      False            False              True  \n",
       "DGmCH_2      False            False              True  \n",
       "DGmCH_3      False            False              True  \n",
       "DGmCH_4      False            False              True  \n",
       "\n",
       "[5 rows x 41 columns]"
      ]
     },
     "execution_count": 7,
     "metadata": {},
     "output_type": "execute_result"
    }
   ],
   "source": [
    "dmr_data = pd.read_csv('../axis-mch_rms_results_collapsed_passfilter_annotated.csv', index_col=0)\n",
    "dmr_data.index = dmr_data.index.map(lambda i: f'DGmCH_{i}')\n",
    "dmr_data.index.name = 'DMR_id'\n",
    "dmr_data.head()"
   ]
  },
  {
   "cell_type": "code",
   "execution_count": 8,
   "metadata": {
    "ExecuteTime": {
     "end_time": "2020-02-05T01:07:19.767987Z",
     "start_time": "2020-02-05T01:07:15.729050Z"
    }
   },
   "outputs": [],
   "source": [
    "inc_intra_bed = pd.read_csv('DG_DMR.increase.intragenic.bed', \n",
    "                            header=None, sep='\\t', index_col=3, \n",
    "                            names=['chrom', 'start', 'end', 'DMR_id'])\n",
    "inc_intra_total_dms = dmr_data.loc[inc_intra_bed.index]['number_of_dms'].sum()\n",
    "inc_inter_bed = pd.read_csv('DG_DMR.increase.intergenic.bed', \n",
    "                            header=None, sep='\\t', index_col=3, \n",
    "                            names=['chrom', 'start', 'end', 'DMR_id'])\n",
    "inc_inter_total_dms = dmr_data.loc[inc_inter_bed.index]['number_of_dms'].sum()\n",
    "dec_intra_bed = pd.read_csv('DG_DMR.decrease.intragenic.bed', \n",
    "                            header=None, sep='\\t', index_col=3, \n",
    "                            names=['chrom', 'start', 'end', 'DMR_id'])\n",
    "dec_intra_total_dms = dmr_data.loc[dec_intra_bed.index]['number_of_dms'].sum()\n",
    "dec_inter_bed = pd.read_csv('DG_DMR.decrease.intergenic.bed', \n",
    "                            header=None, sep='\\t', index_col=3, \n",
    "                            names=['chrom', 'start', 'end', 'DMR_id'])\n",
    "dec_inter_total_dms = dmr_data.loc[dec_inter_bed.index]['number_of_dms'].sum()"
   ]
  },
  {
   "cell_type": "markdown",
   "metadata": {},
   "source": [
    "## Gene meta"
   ]
  },
  {
   "cell_type": "code",
   "execution_count": 11,
   "metadata": {
    "ExecuteTime": {
     "end_time": "2020-02-05T01:07:52.683812Z",
     "start_time": "2020-02-05T01:07:49.772390Z"
    }
   },
   "outputs": [
    {
     "data": {
      "text/html": [
       "<div>\n",
       "<style scoped>\n",
       "    .dataframe tbody tr th:only-of-type {\n",
       "        vertical-align: middle;\n",
       "    }\n",
       "\n",
       "    .dataframe tbody tr th {\n",
       "        vertical-align: top;\n",
       "    }\n",
       "\n",
       "    .dataframe thead th {\n",
       "        text-align: right;\n",
       "    }\n",
       "</style>\n",
       "<table border=\"1\" class=\"dataframe\">\n",
       "  <thead>\n",
       "    <tr style=\"text-align: right;\">\n",
       "      <th></th>\n",
       "      <th>chrom</th>\n",
       "      <th>source</th>\n",
       "      <th>feature</th>\n",
       "      <th>start</th>\n",
       "      <th>end</th>\n",
       "      <th>score</th>\n",
       "      <th>strand</th>\n",
       "      <th>phase</th>\n",
       "      <th>transcript_id</th>\n",
       "      <th>gene_type</th>\n",
       "      <th>...</th>\n",
       "      <th>transcript_type</th>\n",
       "      <th>transcript_status</th>\n",
       "      <th>transcript_name</th>\n",
       "      <th>exon_number</th>\n",
       "      <th>exon_id</th>\n",
       "      <th>level</th>\n",
       "      <th>mgi_id</th>\n",
       "      <th>havana_gene</th>\n",
       "      <th>tag</th>\n",
       "      <th>length</th>\n",
       "    </tr>\n",
       "    <tr>\n",
       "      <th>gene_id</th>\n",
       "      <th></th>\n",
       "      <th></th>\n",
       "      <th></th>\n",
       "      <th></th>\n",
       "      <th></th>\n",
       "      <th></th>\n",
       "      <th></th>\n",
       "      <th></th>\n",
       "      <th></th>\n",
       "      <th></th>\n",
       "      <th></th>\n",
       "      <th></th>\n",
       "      <th></th>\n",
       "      <th></th>\n",
       "      <th></th>\n",
       "      <th></th>\n",
       "      <th></th>\n",
       "      <th></th>\n",
       "      <th></th>\n",
       "      <th></th>\n",
       "      <th></th>\n",
       "    </tr>\n",
       "  </thead>\n",
       "  <tbody>\n",
       "    <tr>\n",
       "      <th>ENSMUSG00000102693.1</th>\n",
       "      <td>chr1</td>\n",
       "      <td>HAVANA</td>\n",
       "      <td>gene</td>\n",
       "      <td>3073253</td>\n",
       "      <td>3074322</td>\n",
       "      <td>.</td>\n",
       "      <td>+</td>\n",
       "      <td>.</td>\n",
       "      <td>NaN</td>\n",
       "      <td>TEC</td>\n",
       "      <td>...</td>\n",
       "      <td>NaN</td>\n",
       "      <td>NaN</td>\n",
       "      <td>NaN</td>\n",
       "      <td>NaN</td>\n",
       "      <td>NaN</td>\n",
       "      <td>2</td>\n",
       "      <td>MGI:1918292</td>\n",
       "      <td>OTTMUSG00000049935.1</td>\n",
       "      <td>NaN</td>\n",
       "      <td>1069</td>\n",
       "    </tr>\n",
       "    <tr>\n",
       "      <th>ENSMUSG00000064842.1</th>\n",
       "      <td>chr1</td>\n",
       "      <td>ENSEMBL</td>\n",
       "      <td>gene</td>\n",
       "      <td>3102016</td>\n",
       "      <td>3102125</td>\n",
       "      <td>.</td>\n",
       "      <td>+</td>\n",
       "      <td>.</td>\n",
       "      <td>NaN</td>\n",
       "      <td>snRNA</td>\n",
       "      <td>...</td>\n",
       "      <td>NaN</td>\n",
       "      <td>NaN</td>\n",
       "      <td>NaN</td>\n",
       "      <td>NaN</td>\n",
       "      <td>NaN</td>\n",
       "      <td>3</td>\n",
       "      <td>MGI:5455983</td>\n",
       "      <td>NaN</td>\n",
       "      <td>NaN</td>\n",
       "      <td>109</td>\n",
       "    </tr>\n",
       "    <tr>\n",
       "      <th>ENSMUSG00000051951.5</th>\n",
       "      <td>chr1</td>\n",
       "      <td>HAVANA</td>\n",
       "      <td>gene</td>\n",
       "      <td>3205901</td>\n",
       "      <td>3671498</td>\n",
       "      <td>.</td>\n",
       "      <td>-</td>\n",
       "      <td>.</td>\n",
       "      <td>NaN</td>\n",
       "      <td>protein_coding</td>\n",
       "      <td>...</td>\n",
       "      <td>NaN</td>\n",
       "      <td>NaN</td>\n",
       "      <td>NaN</td>\n",
       "      <td>NaN</td>\n",
       "      <td>NaN</td>\n",
       "      <td>2</td>\n",
       "      <td>MGI:3528744</td>\n",
       "      <td>OTTMUSG00000026353.2</td>\n",
       "      <td>NaN</td>\n",
       "      <td>465597</td>\n",
       "    </tr>\n",
       "    <tr>\n",
       "      <th>ENSMUSG00000102851.1</th>\n",
       "      <td>chr1</td>\n",
       "      <td>HAVANA</td>\n",
       "      <td>gene</td>\n",
       "      <td>3252757</td>\n",
       "      <td>3253236</td>\n",
       "      <td>.</td>\n",
       "      <td>+</td>\n",
       "      <td>.</td>\n",
       "      <td>NaN</td>\n",
       "      <td>processed_pseudogene</td>\n",
       "      <td>...</td>\n",
       "      <td>NaN</td>\n",
       "      <td>NaN</td>\n",
       "      <td>NaN</td>\n",
       "      <td>NaN</td>\n",
       "      <td>NaN</td>\n",
       "      <td>1</td>\n",
       "      <td>MGI:5011141</td>\n",
       "      <td>OTTMUSG00000049958.1</td>\n",
       "      <td>pseudo_consens</td>\n",
       "      <td>479</td>\n",
       "    </tr>\n",
       "    <tr>\n",
       "      <th>ENSMUSG00000103377.1</th>\n",
       "      <td>chr1</td>\n",
       "      <td>HAVANA</td>\n",
       "      <td>gene</td>\n",
       "      <td>3365731</td>\n",
       "      <td>3368549</td>\n",
       "      <td>.</td>\n",
       "      <td>-</td>\n",
       "      <td>.</td>\n",
       "      <td>NaN</td>\n",
       "      <td>TEC</td>\n",
       "      <td>...</td>\n",
       "      <td>NaN</td>\n",
       "      <td>NaN</td>\n",
       "      <td>NaN</td>\n",
       "      <td>NaN</td>\n",
       "      <td>NaN</td>\n",
       "      <td>2</td>\n",
       "      <td>MGI:5610408</td>\n",
       "      <td>OTTMUSG00000049960.1</td>\n",
       "      <td>NaN</td>\n",
       "      <td>2818</td>\n",
       "    </tr>\n",
       "  </tbody>\n",
       "</table>\n",
       "<p>5 rows × 22 columns</p>\n",
       "</div>"
      ],
      "text/plain": [
       "                     chrom   source feature    start      end score strand  \\\n",
       "gene_id                                                                      \n",
       "ENSMUSG00000102693.1  chr1   HAVANA    gene  3073253  3074322     .      +   \n",
       "ENSMUSG00000064842.1  chr1  ENSEMBL    gene  3102016  3102125     .      +   \n",
       "ENSMUSG00000051951.5  chr1   HAVANA    gene  3205901  3671498     .      -   \n",
       "ENSMUSG00000102851.1  chr1   HAVANA    gene  3252757  3253236     .      +   \n",
       "ENSMUSG00000103377.1  chr1   HAVANA    gene  3365731  3368549     .      -   \n",
       "\n",
       "                     phase  transcript_id             gene_type  ...  \\\n",
       "gene_id                                                          ...   \n",
       "ENSMUSG00000102693.1     .            NaN                   TEC  ...   \n",
       "ENSMUSG00000064842.1     .            NaN                 snRNA  ...   \n",
       "ENSMUSG00000051951.5     .            NaN        protein_coding  ...   \n",
       "ENSMUSG00000102851.1     .            NaN  processed_pseudogene  ...   \n",
       "ENSMUSG00000103377.1     .            NaN                   TEC  ...   \n",
       "\n",
       "                      transcript_type transcript_status  transcript_name  \\\n",
       "gene_id                                                                    \n",
       "ENSMUSG00000102693.1              NaN               NaN              NaN   \n",
       "ENSMUSG00000064842.1              NaN               NaN              NaN   \n",
       "ENSMUSG00000051951.5              NaN               NaN              NaN   \n",
       "ENSMUSG00000102851.1              NaN               NaN              NaN   \n",
       "ENSMUSG00000103377.1              NaN               NaN              NaN   \n",
       "\n",
       "                      exon_number  exon_id  level       mgi_id  \\\n",
       "gene_id                                                          \n",
       "ENSMUSG00000102693.1          NaN      NaN      2  MGI:1918292   \n",
       "ENSMUSG00000064842.1          NaN      NaN      3  MGI:5455983   \n",
       "ENSMUSG00000051951.5          NaN      NaN      2  MGI:3528744   \n",
       "ENSMUSG00000102851.1          NaN      NaN      1  MGI:5011141   \n",
       "ENSMUSG00000103377.1          NaN      NaN      2  MGI:5610408   \n",
       "\n",
       "                               havana_gene             tag  length  \n",
       "gene_id                                                             \n",
       "ENSMUSG00000102693.1  OTTMUSG00000049935.1             NaN    1069  \n",
       "ENSMUSG00000064842.1                   NaN             NaN     109  \n",
       "ENSMUSG00000051951.5  OTTMUSG00000026353.2             NaN  465597  \n",
       "ENSMUSG00000102851.1  OTTMUSG00000049958.1  pseudo_consens     479  \n",
       "ENSMUSG00000103377.1  OTTMUSG00000049960.1             NaN    2818  \n",
       "\n",
       "[5 rows x 22 columns]"
      ]
     },
     "execution_count": 11,
     "metadata": {},
     "output_type": "execute_result"
    }
   ],
   "source": [
    "gene_meta = pd.read_csv('/home/hanliu/ref/mouse/gencode/vm22/gencode.vM22.annotation.gene.flat.tsv.gz',\n",
    "                        sep='\\t', index_col='gene_id')\n",
    "gene_meta['length'] = gene_meta['end'] - gene_meta['start']\n",
    "gene_name_to_id = {v: k for k, v in gene_meta['gene_name'].items()}\n",
    "gene_meta.head()"
   ]
  },
  {
   "cell_type": "markdown",
   "metadata": {},
   "source": [
    "## Intra Inter genic"
   ]
  },
  {
   "cell_type": "code",
   "execution_count": 12,
   "metadata": {
    "ExecuteTime": {
     "end_time": "2020-02-05T01:07:58.935338Z",
     "start_time": "2020-02-05T01:07:56.085173Z"
    }
   },
   "outputs": [],
   "source": [
    "intragenic_df = pd.read_csv(\n",
    "    'non_overlap_intragenic.subtract_black.gene_id_anno.bed',\n",
    "    header=None,\n",
    "    sep='\\t',\n",
    "    index_col=None,\n",
    "    names=['chrom', 'start', 'end', 'gene_ids'])\n",
    "intragenic_df.index = intragenic_df.chrom + ':' + intragenic_df.start.astype(str) + '-' + intragenic_df.end.astype(str)\n",
    "\n",
    "intergenic_df = pd.read_csv(\n",
    "    'non_overlap_intergenic.subtract_black.bed',\n",
    "    header=None,\n",
    "    sep='\\t',\n",
    "    index_col=None,\n",
    "    names=['chrom', 'start', 'end'])\n",
    "intergenic_df.index = intergenic_df.chrom + ':' + intergenic_df.start.astype(str) + '-' + intergenic_df.end.astype(str)\n"
   ]
  },
  {
   "cell_type": "markdown",
   "metadata": {},
   "source": [
    "## Background C"
   ]
  },
  {
   "cell_type": "code",
   "execution_count": 13,
   "metadata": {
    "ExecuteTime": {
     "end_time": "2020-02-05T01:07:59.000628Z",
     "start_time": "2020-02-05T01:07:58.948128Z"
    }
   },
   "outputs": [],
   "source": [
    "def count_c(file_path):\n",
    "    records = {}\n",
    "    with open(file_path) as f:\n",
    "        name = None\n",
    "        for line in f:\n",
    "            if line.startswith('>'):\n",
    "                name = line[1:-1]\n",
    "            else:\n",
    "                records[name] = line.lower().count('c')\n",
    "    return pd.Series(records)"
   ]
  },
  {
   "cell_type": "code",
   "execution_count": 14,
   "metadata": {
    "ExecuteTime": {
     "end_time": "2020-02-05T01:09:38.327223Z",
     "start_time": "2020-02-05T01:07:59.020723Z"
    }
   },
   "outputs": [],
   "source": [
    "intragenic_c = count_c('intragenic.fa')\n",
    "intergenic_c = count_c('intergenic.fa')\n",
    "\n",
    "total_intragenic_c = intragenic_c.sum()\n",
    "total_intergenic_c = intergenic_c.sum()"
   ]
  },
  {
   "cell_type": "code",
   "execution_count": 15,
   "metadata": {
    "ExecuteTime": {
     "end_time": "2020-02-05T01:09:38.412237Z",
     "start_time": "2020-02-05T01:09:38.345580Z"
    }
   },
   "outputs": [
    {
     "data": {
      "text/plain": [
       "(253112183, 261977002, 114665, 71795)"
      ]
     },
     "execution_count": 15,
     "metadata": {},
     "output_type": "execute_result"
    }
   ],
   "source": [
    "total_intragenic_c, total_intergenic_c, inc_intra_total_dms, dec_intra_total_dms"
   ]
  },
  {
   "cell_type": "markdown",
   "metadata": {
    "ExecuteTime": {
     "end_time": "2020-02-04T19:14:46.673517Z",
     "start_time": "2020-02-04T19:14:46.670762Z"
    }
   },
   "source": [
    "## Per gene DMS"
   ]
  },
  {
   "cell_type": "code",
   "execution_count": 16,
   "metadata": {
    "ExecuteTime": {
     "end_time": "2020-02-05T01:09:39.981741Z",
     "start_time": "2020-02-05T01:09:38.423312Z"
    }
   },
   "outputs": [],
   "source": [
    "dms_dict = dmr_data['number_of_dms'].to_dict()\n",
    "\n",
    "def get_dms(value):\n",
    "    if isinstance(value, float):\n",
    "        return 0\n",
    "    else:\n",
    "        return sum([dms_dict.get(dmr_id, 0) for dmr_id in value.split(',')])"
   ]
  },
  {
   "cell_type": "code",
   "execution_count": null,
   "metadata": {},
   "outputs": [],
   "source": []
  },
  {
   "cell_type": "markdown",
   "metadata": {},
   "source": [
    "## Significance cutoff"
   ]
  },
  {
   "cell_type": "code",
   "execution_count": 20,
   "metadata": {
    "ExecuteTime": {
     "end_time": "2020-02-05T01:21:03.757269Z",
     "start_time": "2020-02-05T01:21:03.753555Z"
    }
   },
   "outputs": [],
   "source": [
    "p_cutoff = 0.01\n",
    "odds_cutoff = 1.5"
   ]
  },
  {
   "cell_type": "markdown",
   "metadata": {},
   "source": [
    "## Test Decreasing DMR"
   ]
  },
  {
   "cell_type": "code",
   "execution_count": 22,
   "metadata": {
    "ExecuteTime": {
     "end_time": "2020-02-05T01:21:20.300812Z",
     "start_time": "2020-02-05T01:21:18.826443Z"
    }
   },
   "outputs": [
    {
     "data": {
      "text/html": [
       "<div>\n",
       "<style scoped>\n",
       "    .dataframe tbody tr th:only-of-type {\n",
       "        vertical-align: middle;\n",
       "    }\n",
       "\n",
       "    .dataframe tbody tr th {\n",
       "        vertical-align: top;\n",
       "    }\n",
       "\n",
       "    .dataframe thead th {\n",
       "        text-align: right;\n",
       "    }\n",
       "</style>\n",
       "<table border=\"1\" class=\"dataframe\">\n",
       "  <thead>\n",
       "    <tr style=\"text-align: right;\">\n",
       "      <th></th>\n",
       "      <th>chrom</th>\n",
       "      <th>start</th>\n",
       "      <th>end</th>\n",
       "      <th>DMR_IDs</th>\n",
       "      <th>dms_in</th>\n",
       "      <th>other_in</th>\n",
       "      <th>dms_out</th>\n",
       "      <th>other_out</th>\n",
       "    </tr>\n",
       "  </thead>\n",
       "  <tbody>\n",
       "    <tr>\n",
       "      <th>chrY:10510481-10510859</th>\n",
       "      <td>chrY</td>\n",
       "      <td>10510481</td>\n",
       "      <td>10510859</td>\n",
       "      <td>NaN</td>\n",
       "      <td>0</td>\n",
       "      <td>91</td>\n",
       "      <td>71795</td>\n",
       "      <td>253040297</td>\n",
       "    </tr>\n",
       "    <tr>\n",
       "      <th>chrY:10533608-10536041</th>\n",
       "      <td>chrY</td>\n",
       "      <td>10533608</td>\n",
       "      <td>10536041</td>\n",
       "      <td>NaN</td>\n",
       "      <td>0</td>\n",
       "      <td>520</td>\n",
       "      <td>71795</td>\n",
       "      <td>253039868</td>\n",
       "    </tr>\n",
       "    <tr>\n",
       "      <th>chrY:10553452-10553991</th>\n",
       "      <td>chrY</td>\n",
       "      <td>10553452</td>\n",
       "      <td>10553991</td>\n",
       "      <td>NaN</td>\n",
       "      <td>0</td>\n",
       "      <td>153</td>\n",
       "      <td>71795</td>\n",
       "      <td>253040235</td>\n",
       "    </tr>\n",
       "    <tr>\n",
       "      <th>chrY:10616360-10616902</th>\n",
       "      <td>chrY</td>\n",
       "      <td>10616360</td>\n",
       "      <td>10616902</td>\n",
       "      <td>NaN</td>\n",
       "      <td>0</td>\n",
       "      <td>153</td>\n",
       "      <td>71795</td>\n",
       "      <td>253040235</td>\n",
       "    </tr>\n",
       "    <tr>\n",
       "      <th>chrY:10626742-10629109</th>\n",
       "      <td>chrY</td>\n",
       "      <td>10626742</td>\n",
       "      <td>10629109</td>\n",
       "      <td>NaN</td>\n",
       "      <td>0</td>\n",
       "      <td>551</td>\n",
       "      <td>71795</td>\n",
       "      <td>253039837</td>\n",
       "    </tr>\n",
       "  </tbody>\n",
       "</table>\n",
       "</div>"
      ],
      "text/plain": [
       "                       chrom     start       end DMR_IDs  dms_in  other_in  \\\n",
       "chrY:10510481-10510859  chrY  10510481  10510859     NaN       0        91   \n",
       "chrY:10533608-10536041  chrY  10533608  10536041     NaN       0       520   \n",
       "chrY:10553452-10553991  chrY  10553452  10553991     NaN       0       153   \n",
       "chrY:10616360-10616902  chrY  10616360  10616902     NaN       0       153   \n",
       "chrY:10626742-10629109  chrY  10626742  10629109     NaN       0       551   \n",
       "\n",
       "                        dms_out  other_out  \n",
       "chrY:10510481-10510859    71795  253040297  \n",
       "chrY:10533608-10536041    71795  253039868  \n",
       "chrY:10553452-10553991    71795  253040235  \n",
       "chrY:10616360-10616902    71795  253040235  \n",
       "chrY:10626742-10629109    71795  253039837  "
      ]
     },
     "execution_count": 22,
     "metadata": {},
     "output_type": "execute_result"
    }
   ],
   "source": [
    "intra_dec_df = pd.read_csv('non_overlap_intragenic.subtract_black.dec_dmr.bed', \n",
    "                           sep='\\t', header=None, na_values='.', names=['chrom', 'start', 'end', 'DMR_IDs'])\n",
    "intra_dec_df['dms_in'] = intra_dec_df['DMR_IDs'].apply(get_dms)\n",
    "\n",
    "intra_dec_df.index = intra_dec_df.chrom + ':' + intra_dec_df.start.astype(str) + '-' + intra_dec_df.end.astype(str)\n",
    "intra_dec_df['other_in'] = intragenic_c - intra_dec_df['dms_in']\n",
    "\n",
    "intra_dec_df['dms_out'] = dec_intra_total_dms - intra_dec_df['dms_in']\n",
    "intra_dec_df['other_out'] = total_intragenic_c - intragenic_c - intra_dec_df['dms_out']\n",
    "\n",
    "intra_dec_df.tail()"
   ]
  },
  {
   "cell_type": "code",
   "execution_count": 24,
   "metadata": {
    "ExecuteTime": {
     "end_time": "2020-02-05T01:28:57.234029Z",
     "start_time": "2020-02-05T01:21:41.462614Z"
    }
   },
   "outputs": [],
   "source": [
    "def test_enrich(row):\n",
    "    return pd.Series(\n",
    "        fisher_exact([[row['dms_in'], row['dms_out']],\n",
    "                      [row['other_in'], row['other_out']]], 'greater'))\n",
    "\n",
    "test_result = intra_dec_df.apply(test_enrich, axis=1)\n",
    "test_result.columns = ['odds', 'p']\n",
    "test_result = test_result[test_result['odds'] > 1].copy()\n",
    "\n",
    "judge, adj_p, _, _ = multipletests(test_result['p'], method='fdr_bh')\n",
    "\n",
    "test_result['judge'] = judge\n",
    "test_result['adj_p'] = adj_p\n",
    "test_result['-lgp'] = -np.log10(adj_p)"
   ]
  },
  {
   "cell_type": "code",
   "execution_count": 25,
   "metadata": {
    "ExecuteTime": {
     "end_time": "2020-02-05T01:28:57.696781Z",
     "start_time": "2020-02-05T01:28:57.242961Z"
    }
   },
   "outputs": [],
   "source": [
    "sig_dec_intra_result = test_result[(test_result['adj_p'] < p_cutoff) & \n",
    "                                   (test_result['odds'] > odds_cutoff)].index\n",
    "total_dec_intra_result = pd.concat([\n",
    "    intra_dec_df.loc[sig_dec_intra_result],\n",
    "    test_result.loc[sig_dec_intra_result],\n",
    "    intragenic_df.loc[sig_dec_intra_result, ['gene_ids']]\n",
    "],\n",
    "                                   axis=1,\n",
    "                                   sort=True)\n",
    "\n",
    "total_dec_intra_result.to_csv('FINAL.Intragenic.decrease.results.csv')"
   ]
  },
  {
   "cell_type": "code",
   "execution_count": 26,
   "metadata": {
    "ExecuteTime": {
     "end_time": "2020-02-05T01:28:58.616187Z",
     "start_time": "2020-02-05T01:28:57.703039Z"
    }
   },
   "outputs": [],
   "source": [
    "nofilter_dec_intra_result = pd.concat([\n",
    "    intra_dec_df.loc[test_result.index],\n",
    "    test_result,\n",
    "    intragenic_df.loc[test_result.index, ['gene_ids']]\n",
    "],\n",
    "                                   axis=1,\n",
    "                                   sort=True)\n",
    "nofilter_dec_intra_result.to_csv('FINAL.nofilter.Intragenic.decrease.results.csv')"
   ]
  },
  {
   "cell_type": "code",
   "execution_count": 27,
   "metadata": {
    "ExecuteTime": {
     "end_time": "2020-02-05T01:28:58.829903Z",
     "start_time": "2020-02-05T01:28:58.626248Z"
    }
   },
   "outputs": [
    {
     "data": {
      "text/plain": [
       "183"
      ]
     },
     "execution_count": 27,
     "metadata": {},
     "output_type": "execute_result"
    }
   ],
   "source": [
    "judges = (total_dec_intra_result['dms_in'] > 50) & \\\n",
    "         (total_dec_intra_result['odds'] > 2.5)\n",
    "\n",
    "length_cutoff = 10000\n",
    "\n",
    "dec_genes = set()\n",
    "for gene_ids in total_dec_intra_result[judges]['gene_ids']:\n",
    "    for gene in gene_ids.split(','):\n",
    "        gene_length = gene_meta.at[gene, 'length']\n",
    "        if gene_length < length_cutoff:\n",
    "            continue\n",
    "        dec_genes.add(gene)\n",
    "with open('dec_genes.txt', 'w') as f:\n",
    "    for gene in dec_genes:\n",
    "        f.write(gene.split('.')[0]+'\\n')\n",
    "# this number decludes many small gene \n",
    "len(dec_genes)"
   ]
  },
  {
   "cell_type": "markdown",
   "metadata": {
    "ExecuteTime": {
     "end_time": "2020-02-04T20:49:15.528506Z",
     "start_time": "2020-02-04T20:49:15.524400Z"
    }
   },
   "source": [
    "## Test increasing DMR"
   ]
  },
  {
   "cell_type": "code",
   "execution_count": 28,
   "metadata": {
    "ExecuteTime": {
     "end_time": "2020-02-05T01:29:00.393946Z",
     "start_time": "2020-02-05T01:28:58.837870Z"
    }
   },
   "outputs": [
    {
     "data": {
      "text/html": [
       "<div>\n",
       "<style scoped>\n",
       "    .dataframe tbody tr th:only-of-type {\n",
       "        vertical-align: middle;\n",
       "    }\n",
       "\n",
       "    .dataframe tbody tr th {\n",
       "        vertical-align: top;\n",
       "    }\n",
       "\n",
       "    .dataframe thead th {\n",
       "        text-align: right;\n",
       "    }\n",
       "</style>\n",
       "<table border=\"1\" class=\"dataframe\">\n",
       "  <thead>\n",
       "    <tr style=\"text-align: right;\">\n",
       "      <th></th>\n",
       "      <th>chrom</th>\n",
       "      <th>start</th>\n",
       "      <th>end</th>\n",
       "      <th>DMR_IDs</th>\n",
       "      <th>dms_in</th>\n",
       "      <th>other_in</th>\n",
       "      <th>dms_out</th>\n",
       "      <th>other_out</th>\n",
       "    </tr>\n",
       "  </thead>\n",
       "  <tbody>\n",
       "    <tr>\n",
       "      <th>chr1:3073252-3074321</th>\n",
       "      <td>chr1</td>\n",
       "      <td>3073252</td>\n",
       "      <td>3074321</td>\n",
       "      <td>NaN</td>\n",
       "      <td>0</td>\n",
       "      <td>160</td>\n",
       "      <td>114665</td>\n",
       "      <td>252997358</td>\n",
       "    </tr>\n",
       "    <tr>\n",
       "      <th>chr1:3102015-3102124</th>\n",
       "      <td>chr1</td>\n",
       "      <td>3102015</td>\n",
       "      <td>3102124</td>\n",
       "      <td>NaN</td>\n",
       "      <td>0</td>\n",
       "      <td>20</td>\n",
       "      <td>114665</td>\n",
       "      <td>252997498</td>\n",
       "    </tr>\n",
       "    <tr>\n",
       "      <th>chr1:3205900-3671497</th>\n",
       "      <td>chr1</td>\n",
       "      <td>3205900</td>\n",
       "      <td>3671497</td>\n",
       "      <td>DGmCH_8,DGmCH_22</td>\n",
       "      <td>2</td>\n",
       "      <td>89686</td>\n",
       "      <td>114663</td>\n",
       "      <td>252907832</td>\n",
       "    </tr>\n",
       "    <tr>\n",
       "      <th>chr1:3680154-3681787</th>\n",
       "      <td>chr1</td>\n",
       "      <td>3680154</td>\n",
       "      <td>3681787</td>\n",
       "      <td>NaN</td>\n",
       "      <td>0</td>\n",
       "      <td>336</td>\n",
       "      <td>114665</td>\n",
       "      <td>252997182</td>\n",
       "    </tr>\n",
       "    <tr>\n",
       "      <th>chr1:3752009-3754359</th>\n",
       "      <td>chr1</td>\n",
       "      <td>3752009</td>\n",
       "      <td>3754359</td>\n",
       "      <td>NaN</td>\n",
       "      <td>0</td>\n",
       "      <td>474</td>\n",
       "      <td>114665</td>\n",
       "      <td>252997044</td>\n",
       "    </tr>\n",
       "  </tbody>\n",
       "</table>\n",
       "</div>"
      ],
      "text/plain": [
       "                     chrom    start      end           DMR_IDs  dms_in  \\\n",
       "chr1:3073252-3074321  chr1  3073252  3074321               NaN       0   \n",
       "chr1:3102015-3102124  chr1  3102015  3102124               NaN       0   \n",
       "chr1:3205900-3671497  chr1  3205900  3671497  DGmCH_8,DGmCH_22       2   \n",
       "chr1:3680154-3681787  chr1  3680154  3681787               NaN       0   \n",
       "chr1:3752009-3754359  chr1  3752009  3754359               NaN       0   \n",
       "\n",
       "                      other_in  dms_out  other_out  \n",
       "chr1:3073252-3074321       160   114665  252997358  \n",
       "chr1:3102015-3102124        20   114665  252997498  \n",
       "chr1:3205900-3671497     89686   114663  252907832  \n",
       "chr1:3680154-3681787       336   114665  252997182  \n",
       "chr1:3752009-3754359       474   114665  252997044  "
      ]
     },
     "execution_count": 28,
     "metadata": {},
     "output_type": "execute_result"
    }
   ],
   "source": [
    "intra_inc_df = pd.read_csv('non_overlap_intragenic.subtract_black.inc_dmr.bed', \n",
    "                           sep='\\t', header=None, na_values='.', names=['chrom', 'start', 'end', 'DMR_IDs'])\n",
    "intra_inc_df['dms_in'] = intra_inc_df['DMR_IDs'].apply(get_dms)\n",
    "\n",
    "intra_inc_df.index = intra_inc_df.chrom + ':' + intra_inc_df.start.astype(str) + '-' + intra_inc_df.end.astype(str)\n",
    "intra_inc_df['other_in'] = intragenic_c - intra_inc_df['dms_in']\n",
    "\n",
    "intra_inc_df['dms_out'] = inc_intra_total_dms - intra_inc_df['dms_in']\n",
    "intra_inc_df['other_out'] = total_intragenic_c - intragenic_c - intra_inc_df['dms_out']\n",
    "\n",
    "intra_inc_df.head()"
   ]
  },
  {
   "cell_type": "code",
   "execution_count": 29,
   "metadata": {
    "ExecuteTime": {
     "end_time": "2020-02-05T01:36:12.117421Z",
     "start_time": "2020-02-05T01:29:00.402738Z"
    }
   },
   "outputs": [
    {
     "name": "stderr",
     "output_type": "stream",
     "text": [
      "/home/hanliu/miniconda3/envs/clustering/lib/python3.7/site-packages/ipykernel_launcher.py:14: RuntimeWarning: divide by zero encountered in log10\n",
      "  \n"
     ]
    }
   ],
   "source": [
    "def test_enrich(row):\n",
    "    return pd.Series(\n",
    "        fisher_exact([[row['dms_in'], row['dms_out']],\n",
    "                      [row['other_in'], row['other_out']]], 'greater'))\n",
    "\n",
    "test_result = intra_inc_df.apply(test_enrich, axis=1)\n",
    "test_result.columns = ['odds', 'p']\n",
    "test_result = test_result[test_result['odds'] > 1].copy()\n",
    "\n",
    "judge, adj_p, _, _ = multipletests(test_result['p'], method='fdr_bh')\n",
    "\n",
    "test_result['judge'] = judge\n",
    "test_result['adj_p'] = adj_p\n",
    "test_result['-lgp'] = -np.log10(adj_p)"
   ]
  },
  {
   "cell_type": "code",
   "execution_count": 30,
   "metadata": {
    "ExecuteTime": {
     "end_time": "2020-02-05T01:36:12.481132Z",
     "start_time": "2020-02-05T01:36:12.124634Z"
    }
   },
   "outputs": [],
   "source": [
    "sig_inc_intra_result = test_result[(test_result['adj_p'] < p_cutoff) & \n",
    "                                   (test_result['odds'] > odds_cutoff)].index\n",
    "total_inc_intra_result = pd.concat([\n",
    "    intra_inc_df.loc[sig_inc_intra_result],\n",
    "    test_result.loc[sig_inc_intra_result],\n",
    "    intragenic_df.loc[sig_inc_intra_result, ['gene_ids']]\n",
    "],\n",
    "                                   axis=1,\n",
    "                                   sort=True)\n",
    "\n",
    "total_inc_intra_result.to_csv('FINAL.Intragenic.increase.results.csv')"
   ]
  },
  {
   "cell_type": "code",
   "execution_count": 31,
   "metadata": {
    "ExecuteTime": {
     "end_time": "2020-02-05T01:36:13.530258Z",
     "start_time": "2020-02-05T01:36:12.497433Z"
    }
   },
   "outputs": [],
   "source": [
    "nofilter_inc_intra_result = pd.concat([\n",
    "    intra_inc_df.loc[test_result.index],\n",
    "    test_result,\n",
    "    intragenic_df.loc[test_result.index, ['gene_ids']]\n",
    "],\n",
    "                                   axis=1,\n",
    "                                   sort=True)\n",
    "nofilter_inc_intra_result.to_csv('FINAL.nofilter.Intragenic.increase.results.csv')"
   ]
  },
  {
   "cell_type": "code",
   "execution_count": 32,
   "metadata": {
    "ExecuteTime": {
     "end_time": "2020-02-05T01:36:13.622194Z",
     "start_time": "2020-02-05T01:36:13.540164Z"
    }
   },
   "outputs": [
    {
     "data": {
      "text/plain": [
       "245"
      ]
     },
     "execution_count": 32,
     "metadata": {},
     "output_type": "execute_result"
    }
   ],
   "source": [
    "judges = (total_inc_intra_result['dms_in'] > 50) & \\\n",
    "         (total_inc_intra_result['odds'] > 2.5)\n",
    "\n",
    "length_cutoff = 10000\n",
    "\n",
    "inc_genes = set()\n",
    "for gene_ids in total_inc_intra_result[judges]['gene_ids']:\n",
    "    for gene in gene_ids.split(','):\n",
    "        gene_length = gene_meta.at[gene, 'length']\n",
    "        if gene_length < length_cutoff:\n",
    "            continue\n",
    "        inc_genes.add(gene)\n",
    "with open('inc_genes.txt', 'w') as f:\n",
    "    for gene in inc_genes:\n",
    "        f.write(gene.split('.')[0]+'\\n')\n",
    "# this number includes many small gene \n",
    "len(inc_genes)"
   ]
  },
  {
   "cell_type": "code",
   "execution_count": null,
   "metadata": {
    "scrolled": false
   },
   "outputs": [],
   "source": []
  },
  {
   "cell_type": "code",
   "execution_count": null,
   "metadata": {},
   "outputs": [],
   "source": []
  },
  {
   "cell_type": "code",
   "execution_count": null,
   "metadata": {},
   "outputs": [],
   "source": []
  }
 ],
 "metadata": {
  "hide_input": false,
  "kernelspec": {
   "display_name": "Python 3",
   "language": "python",
   "name": "python3"
  },
  "language_info": {
   "codemirror_mode": {
    "name": "ipython",
    "version": 3
   },
   "file_extension": ".py",
   "mimetype": "text/x-python",
   "name": "python",
   "nbconvert_exporter": "python",
   "pygments_lexer": "ipython3",
   "version": "3.7.3"
  },
  "toc": {
   "base_numbering": 1,
   "nav_menu": {},
   "number_sections": true,
   "sideBar": true,
   "skip_h1_title": true,
   "title_cell": "Table of Contents",
   "title_sidebar": "Contents",
   "toc_cell": false,
   "toc_position": {},
   "toc_section_display": true,
   "toc_window_display": true
  }
 },
 "nbformat": 4,
 "nbformat_minor": 2
}
