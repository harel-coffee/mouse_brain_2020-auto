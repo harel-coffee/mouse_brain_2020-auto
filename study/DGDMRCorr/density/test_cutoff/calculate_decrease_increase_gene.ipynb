{
 "cells": [
  {
   "cell_type": "code",
   "execution_count": 1,
   "metadata": {
    "ExecuteTime": {
     "end_time": "2020-02-04T23:45:52.704377Z",
     "start_time": "2020-02-04T23:45:52.133373Z"
    }
   },
   "outputs": [],
   "source": [
    "import pandas as pd\n",
    "import numpy as np\n",
    "import pybedtools\n",
    "from scipy.stats import fisher_exact\n",
    "from statsmodels.stats.multitest import multipletests"
   ]
  },
  {
   "cell_type": "code",
   "execution_count": 4,
   "metadata": {
    "ExecuteTime": {
     "end_time": "2020-02-04T19:22:54.549268Z",
     "start_time": "2020-02-04T19:22:48.388682Z"
    },
    "deletable": false,
    "editable": false,
    "run_control": {
     "frozen": true
    }
   },
   "outputs": [],
   "source": [
    "# merge overlapped gene body\n",
    "!bedtools merge -i gene.sorted.bed > non_overlap_intragenic.bed\n",
    "# get intergenic and intragenic region\n",
    "!bedtools subtract -a mm10.whole_genome.bed -b non_overlap_intragenic.bed > non_overlap_intergenic.bed\n",
    "!bedtools subtract -a non_overlap_intergenic.bed -b mm10-blacklist.v2.bed > non_overlap_intergenic.subtract_black.bed\n",
    "!bedtools subtract -a non_overlap_intragenic.bed -b mm10-blacklist.v2.bed > non_overlap_intragenic.subtract_black.bed\n",
    "\n",
    "# subdivide dmr into intra- and intergenic\n",
    "!bedtools intersect -a ../DG_DMR.decrease.mch_group.bed -b non_overlap_intergenic.subtract_black.bed -wa -u > DG_DMR.decrease.intergenic.bed\n",
    "!bedtools intersect -a ../DG_DMR.decrease.mch_group.bed -b non_overlap_intragenic.subtract_black.bed -wa -u > DG_DMR.decrease.intragenic.bed\n",
    "!bedtools intersect -a ../DG_DMR.increase.mch_group.bed -b non_overlap_intragenic.subtract_black.bed -wa -u > DG_DMR.increase.intragenic.bed\n",
    "!bedtools intersect -a ../DG_DMR.increase.mch_group.bed -b non_overlap_intergenic.subtract_black.bed -wa -u > DG_DMR.increase.intergenic.bed\n",
    "\n",
    "# get fasta of each region\n",
    "!bedtools getfasta -fi /home/hanliu/ref/mouse/genome/fasta/raw/mm10.fa -bed non_overlap_intergenic.subtract_black.bed > intergenic.fa\n",
    "!bedtools getfasta -fi /home/hanliu/ref/mouse/genome/fasta/raw/mm10.fa -bed non_overlap_intergenic.subtract_black.bed > intergenic.fa\n",
    "\n"
   ]
  },
  {
   "cell_type": "code",
   "execution_count": 2,
   "metadata": {
    "ExecuteTime": {
     "end_time": "2020-02-04T23:45:53.766431Z",
     "start_time": "2020-02-04T23:45:52.708762Z"
    }
   },
   "outputs": [
    {
     "data": {
      "text/html": [
       "<div>\n",
       "<style scoped>\n",
       "    .dataframe tbody tr th:only-of-type {\n",
       "        vertical-align: middle;\n",
       "    }\n",
       "\n",
       "    .dataframe tbody tr th {\n",
       "        vertical-align: top;\n",
       "    }\n",
       "\n",
       "    .dataframe thead th {\n",
       "        text-align: right;\n",
       "    }\n",
       "</style>\n",
       "<table border=\"1\" class=\"dataframe\">\n",
       "  <thead>\n",
       "    <tr style=\"text-align: right;\">\n",
       "      <th></th>\n",
       "      <th>#chr</th>\n",
       "      <th>start</th>\n",
       "      <th>end</th>\n",
       "      <th>number_of_dms</th>\n",
       "      <th>low</th>\n",
       "      <th>midlow</th>\n",
       "      <th>midhigh</th>\n",
       "      <th>high</th>\n",
       "      <th>rho</th>\n",
       "      <th>trend</th>\n",
       "      <th>...</th>\n",
       "      <th>annot-stop_codon.all</th>\n",
       "      <th>annot-TSS.all</th>\n",
       "      <th>annot-TSS.protein_coding</th>\n",
       "      <th>annot-UTR3.all</th>\n",
       "      <th>annot-UTR3.protein_coding</th>\n",
       "      <th>annot-UTR5.all</th>\n",
       "      <th>annot-UTR5.protein_coding</th>\n",
       "      <th>annot-CGI</th>\n",
       "      <th>annot-CGI_shore</th>\n",
       "      <th>annot-Transposon</th>\n",
       "    </tr>\n",
       "    <tr>\n",
       "      <th>DMR_id</th>\n",
       "      <th></th>\n",
       "      <th></th>\n",
       "      <th></th>\n",
       "      <th></th>\n",
       "      <th></th>\n",
       "      <th></th>\n",
       "      <th></th>\n",
       "      <th></th>\n",
       "      <th></th>\n",
       "      <th></th>\n",
       "      <th></th>\n",
       "      <th></th>\n",
       "      <th></th>\n",
       "      <th></th>\n",
       "      <th></th>\n",
       "      <th></th>\n",
       "      <th></th>\n",
       "      <th></th>\n",
       "      <th></th>\n",
       "      <th></th>\n",
       "      <th></th>\n",
       "    </tr>\n",
       "  </thead>\n",
       "  <tbody>\n",
       "    <tr>\n",
       "      <th>DGmCH_8</th>\n",
       "      <td>chr1</td>\n",
       "      <td>3213139</td>\n",
       "      <td>3213139</td>\n",
       "      <td>1</td>\n",
       "      <td>0.411765</td>\n",
       "      <td>0.704918</td>\n",
       "      <td>0.750000</td>\n",
       "      <td>0.882353</td>\n",
       "      <td>0.947496</td>\n",
       "      <td>increasing</td>\n",
       "      <td>...</td>\n",
       "      <td>False</td>\n",
       "      <td>False</td>\n",
       "      <td>False</td>\n",
       "      <td>False</td>\n",
       "      <td>False</td>\n",
       "      <td>False</td>\n",
       "      <td>False</td>\n",
       "      <td>False</td>\n",
       "      <td>False</td>\n",
       "      <td>False</td>\n",
       "    </tr>\n",
       "    <tr>\n",
       "      <th>DGmCH_10</th>\n",
       "      <td>chr1</td>\n",
       "      <td>3299623</td>\n",
       "      <td>3299623</td>\n",
       "      <td>1</td>\n",
       "      <td>0.600000</td>\n",
       "      <td>0.490196</td>\n",
       "      <td>0.327273</td>\n",
       "      <td>0.170213</td>\n",
       "      <td>-0.996546</td>\n",
       "      <td>decreasing</td>\n",
       "      <td>...</td>\n",
       "      <td>False</td>\n",
       "      <td>False</td>\n",
       "      <td>False</td>\n",
       "      <td>False</td>\n",
       "      <td>False</td>\n",
       "      <td>False</td>\n",
       "      <td>False</td>\n",
       "      <td>False</td>\n",
       "      <td>False</td>\n",
       "      <td>False</td>\n",
       "    </tr>\n",
       "    <tr>\n",
       "      <th>DGmCH_11</th>\n",
       "      <td>chr1</td>\n",
       "      <td>3327720</td>\n",
       "      <td>3327720</td>\n",
       "      <td>1</td>\n",
       "      <td>0.640000</td>\n",
       "      <td>0.258065</td>\n",
       "      <td>0.306452</td>\n",
       "      <td>0.195652</td>\n",
       "      <td>-0.835279</td>\n",
       "      <td>decreasing</td>\n",
       "      <td>...</td>\n",
       "      <td>False</td>\n",
       "      <td>False</td>\n",
       "      <td>False</td>\n",
       "      <td>False</td>\n",
       "      <td>False</td>\n",
       "      <td>False</td>\n",
       "      <td>False</td>\n",
       "      <td>False</td>\n",
       "      <td>False</td>\n",
       "      <td>True</td>\n",
       "    </tr>\n",
       "    <tr>\n",
       "      <th>DGmCH_13</th>\n",
       "      <td>chr1</td>\n",
       "      <td>3387472</td>\n",
       "      <td>3387472</td>\n",
       "      <td>1</td>\n",
       "      <td>0.783784</td>\n",
       "      <td>0.806452</td>\n",
       "      <td>0.696970</td>\n",
       "      <td>0.285714</td>\n",
       "      <td>-0.852106</td>\n",
       "      <td>decreasing</td>\n",
       "      <td>...</td>\n",
       "      <td>False</td>\n",
       "      <td>False</td>\n",
       "      <td>False</td>\n",
       "      <td>False</td>\n",
       "      <td>False</td>\n",
       "      <td>False</td>\n",
       "      <td>False</td>\n",
       "      <td>False</td>\n",
       "      <td>False</td>\n",
       "      <td>False</td>\n",
       "    </tr>\n",
       "    <tr>\n",
       "      <th>DGmCH_16</th>\n",
       "      <td>chr1</td>\n",
       "      <td>3397936</td>\n",
       "      <td>3397936</td>\n",
       "      <td>1</td>\n",
       "      <td>0.685185</td>\n",
       "      <td>0.800000</td>\n",
       "      <td>0.622642</td>\n",
       "      <td>0.326087</td>\n",
       "      <td>-0.801536</td>\n",
       "      <td>decreasing</td>\n",
       "      <td>...</td>\n",
       "      <td>False</td>\n",
       "      <td>False</td>\n",
       "      <td>False</td>\n",
       "      <td>False</td>\n",
       "      <td>False</td>\n",
       "      <td>False</td>\n",
       "      <td>False</td>\n",
       "      <td>False</td>\n",
       "      <td>False</td>\n",
       "      <td>False</td>\n",
       "    </tr>\n",
       "  </tbody>\n",
       "</table>\n",
       "<p>5 rows × 41 columns</p>\n",
       "</div>"
      ],
      "text/plain": [
       "          #chr    start      end  number_of_dms       low    midlow   midhigh  \\\n",
       "DMR_id                                                                          \n",
       "DGmCH_8   chr1  3213139  3213139              1  0.411765  0.704918  0.750000   \n",
       "DGmCH_10  chr1  3299623  3299623              1  0.600000  0.490196  0.327273   \n",
       "DGmCH_11  chr1  3327720  3327720              1  0.640000  0.258065  0.306452   \n",
       "DGmCH_13  chr1  3387472  3387472              1  0.783784  0.806452  0.696970   \n",
       "DGmCH_16  chr1  3397936  3397936              1  0.685185  0.800000  0.622642   \n",
       "\n",
       "              high       rho       trend  ...  annot-stop_codon.all  \\\n",
       "DMR_id                                    ...                         \n",
       "DGmCH_8   0.882353  0.947496  increasing  ...                 False   \n",
       "DGmCH_10  0.170213 -0.996546  decreasing  ...                 False   \n",
       "DGmCH_11  0.195652 -0.835279  decreasing  ...                 False   \n",
       "DGmCH_13  0.285714 -0.852106  decreasing  ...                 False   \n",
       "DGmCH_16  0.326087 -0.801536  decreasing  ...                 False   \n",
       "\n",
       "          annot-TSS.all  annot-TSS.protein_coding  annot-UTR3.all  \\\n",
       "DMR_id                                                              \n",
       "DGmCH_8           False                     False           False   \n",
       "DGmCH_10          False                     False           False   \n",
       "DGmCH_11          False                     False           False   \n",
       "DGmCH_13          False                     False           False   \n",
       "DGmCH_16          False                     False           False   \n",
       "\n",
       "          annot-UTR3.protein_coding  annot-UTR5.all  \\\n",
       "DMR_id                                                \n",
       "DGmCH_8                       False           False   \n",
       "DGmCH_10                      False           False   \n",
       "DGmCH_11                      False           False   \n",
       "DGmCH_13                      False           False   \n",
       "DGmCH_16                      False           False   \n",
       "\n",
       "          annot-UTR5.protein_coding  annot-CGI  annot-CGI_shore  \\\n",
       "DMR_id                                                            \n",
       "DGmCH_8                       False      False            False   \n",
       "DGmCH_10                      False      False            False   \n",
       "DGmCH_11                      False      False            False   \n",
       "DGmCH_13                      False      False            False   \n",
       "DGmCH_16                      False      False            False   \n",
       "\n",
       "          annot-Transposon  \n",
       "DMR_id                      \n",
       "DGmCH_8              False  \n",
       "DGmCH_10             False  \n",
       "DGmCH_11              True  \n",
       "DGmCH_13             False  \n",
       "DGmCH_16             False  \n",
       "\n",
       "[5 rows x 41 columns]"
      ]
     },
     "execution_count": 2,
     "metadata": {},
     "output_type": "execute_result"
    }
   ],
   "source": [
    "dmr_data = pd.read_csv('../../axis-mch_rms_results_collapsed_passfilter_annotated.csv', index_col=0)\n",
    "dmr_data.index = dmr_data.index.map(lambda i: f'DGmCH_{i}')\n",
    "dmr_data.index.name = 'DMR_id'\n",
    "\n",
    "delta_cutoff = 0.4\n",
    "\n",
    "mc_rate = dmr_data[['low', 'midlow', 'midhigh', 'high']]\n",
    "delta = mc_rate.max(axis=1) - mc_rate.min(axis=1)\n",
    "dmr_data = dmr_data[delta > delta_cutoff].copy()\n",
    "\n",
    "dmr_data.head()"
   ]
  },
  {
   "cell_type": "code",
   "execution_count": 3,
   "metadata": {
    "ExecuteTime": {
     "end_time": "2020-02-04T23:45:54.040849Z",
     "start_time": "2020-02-04T23:45:53.767798Z"
    }
   },
   "outputs": [],
   "source": [
    "inc_intra_bed = pd.read_csv('../DG_DMR.increase.intragenic.bed', \n",
    "                            header=None, sep='\\t', index_col=3, \n",
    "                            names=['chrom', 'start', 'end', 'DMR_id'])\n",
    "inc_intra_bed = inc_intra_bed[inc_intra_bed.index.isin(dmr_data.index)].copy()\n",
    "inc_intra_total_dms = dmr_data.loc[inc_intra_bed.index]['number_of_dms'].sum()\n",
    "\n",
    "inc_inter_bed = pd.read_csv('../DG_DMR.increase.intergenic.bed', \n",
    "                            header=None, sep='\\t', index_col=3, \n",
    "                            names=['chrom', 'start', 'end', 'DMR_id'])\n",
    "inc_inter_bed = inc_inter_bed[inc_inter_bed.index.isin(dmr_data.index)].copy()\n",
    "inc_inter_total_dms = dmr_data.loc[inc_inter_bed.index]['number_of_dms'].sum()\n",
    "\n",
    "dec_intra_bed = pd.read_csv('../DG_DMR.decrease.intragenic.bed', \n",
    "                            header=None, sep='\\t', index_col=3, \n",
    "                            names=['chrom', 'start', 'end', 'DMR_id'])\n",
    "dec_intra_bed = dec_intra_bed[dec_intra_bed.index.isin(dmr_data.index)].copy()\n",
    "dec_intra_total_dms = dmr_data.loc[dec_intra_bed.index]['number_of_dms'].sum()\n",
    "\n",
    "dec_inter_bed = pd.read_csv('../DG_DMR.decrease.intergenic.bed', \n",
    "                            header=None, sep='\\t', index_col=3, \n",
    "                            names=['chrom', 'start', 'end', 'DMR_id'])\n",
    "dec_inter_bed = dec_inter_bed[dec_inter_bed.index.isin(dmr_data.index)].copy()\n",
    "dec_inter_total_dms = dmr_data.loc[dec_inter_bed.index]['number_of_dms'].sum()"
   ]
  },
  {
   "cell_type": "code",
   "execution_count": null,
   "metadata": {},
   "outputs": [],
   "source": []
  },
  {
   "cell_type": "markdown",
   "metadata": {},
   "source": [
    "## Gene meta"
   ]
  },
  {
   "cell_type": "code",
   "execution_count": 4,
   "metadata": {
    "ExecuteTime": {
     "end_time": "2020-02-04T23:45:54.300602Z",
     "start_time": "2020-02-04T23:45:54.066907Z"
    }
   },
   "outputs": [
    {
     "data": {
      "text/html": [
       "<div>\n",
       "<style scoped>\n",
       "    .dataframe tbody tr th:only-of-type {\n",
       "        vertical-align: middle;\n",
       "    }\n",
       "\n",
       "    .dataframe tbody tr th {\n",
       "        vertical-align: top;\n",
       "    }\n",
       "\n",
       "    .dataframe thead th {\n",
       "        text-align: right;\n",
       "    }\n",
       "</style>\n",
       "<table border=\"1\" class=\"dataframe\">\n",
       "  <thead>\n",
       "    <tr style=\"text-align: right;\">\n",
       "      <th></th>\n",
       "      <th>chrom</th>\n",
       "      <th>source</th>\n",
       "      <th>feature</th>\n",
       "      <th>start</th>\n",
       "      <th>end</th>\n",
       "      <th>score</th>\n",
       "      <th>strand</th>\n",
       "      <th>phase</th>\n",
       "      <th>transcript_id</th>\n",
       "      <th>gene_type</th>\n",
       "      <th>...</th>\n",
       "      <th>transcript_type</th>\n",
       "      <th>transcript_status</th>\n",
       "      <th>transcript_name</th>\n",
       "      <th>exon_number</th>\n",
       "      <th>exon_id</th>\n",
       "      <th>level</th>\n",
       "      <th>mgi_id</th>\n",
       "      <th>havana_gene</th>\n",
       "      <th>tag</th>\n",
       "      <th>length</th>\n",
       "    </tr>\n",
       "    <tr>\n",
       "      <th>gene_id</th>\n",
       "      <th></th>\n",
       "      <th></th>\n",
       "      <th></th>\n",
       "      <th></th>\n",
       "      <th></th>\n",
       "      <th></th>\n",
       "      <th></th>\n",
       "      <th></th>\n",
       "      <th></th>\n",
       "      <th></th>\n",
       "      <th></th>\n",
       "      <th></th>\n",
       "      <th></th>\n",
       "      <th></th>\n",
       "      <th></th>\n",
       "      <th></th>\n",
       "      <th></th>\n",
       "      <th></th>\n",
       "      <th></th>\n",
       "      <th></th>\n",
       "      <th></th>\n",
       "    </tr>\n",
       "  </thead>\n",
       "  <tbody>\n",
       "    <tr>\n",
       "      <th>ENSMUSG00000102693.1</th>\n",
       "      <td>chr1</td>\n",
       "      <td>HAVANA</td>\n",
       "      <td>gene</td>\n",
       "      <td>3073253</td>\n",
       "      <td>3074322</td>\n",
       "      <td>.</td>\n",
       "      <td>+</td>\n",
       "      <td>.</td>\n",
       "      <td>NaN</td>\n",
       "      <td>TEC</td>\n",
       "      <td>...</td>\n",
       "      <td>NaN</td>\n",
       "      <td>NaN</td>\n",
       "      <td>NaN</td>\n",
       "      <td>NaN</td>\n",
       "      <td>NaN</td>\n",
       "      <td>2</td>\n",
       "      <td>MGI:1918292</td>\n",
       "      <td>OTTMUSG00000049935.1</td>\n",
       "      <td>NaN</td>\n",
       "      <td>1069</td>\n",
       "    </tr>\n",
       "    <tr>\n",
       "      <th>ENSMUSG00000064842.1</th>\n",
       "      <td>chr1</td>\n",
       "      <td>ENSEMBL</td>\n",
       "      <td>gene</td>\n",
       "      <td>3102016</td>\n",
       "      <td>3102125</td>\n",
       "      <td>.</td>\n",
       "      <td>+</td>\n",
       "      <td>.</td>\n",
       "      <td>NaN</td>\n",
       "      <td>snRNA</td>\n",
       "      <td>...</td>\n",
       "      <td>NaN</td>\n",
       "      <td>NaN</td>\n",
       "      <td>NaN</td>\n",
       "      <td>NaN</td>\n",
       "      <td>NaN</td>\n",
       "      <td>3</td>\n",
       "      <td>MGI:5455983</td>\n",
       "      <td>NaN</td>\n",
       "      <td>NaN</td>\n",
       "      <td>109</td>\n",
       "    </tr>\n",
       "    <tr>\n",
       "      <th>ENSMUSG00000051951.5</th>\n",
       "      <td>chr1</td>\n",
       "      <td>HAVANA</td>\n",
       "      <td>gene</td>\n",
       "      <td>3205901</td>\n",
       "      <td>3671498</td>\n",
       "      <td>.</td>\n",
       "      <td>-</td>\n",
       "      <td>.</td>\n",
       "      <td>NaN</td>\n",
       "      <td>protein_coding</td>\n",
       "      <td>...</td>\n",
       "      <td>NaN</td>\n",
       "      <td>NaN</td>\n",
       "      <td>NaN</td>\n",
       "      <td>NaN</td>\n",
       "      <td>NaN</td>\n",
       "      <td>2</td>\n",
       "      <td>MGI:3528744</td>\n",
       "      <td>OTTMUSG00000026353.2</td>\n",
       "      <td>NaN</td>\n",
       "      <td>465597</td>\n",
       "    </tr>\n",
       "    <tr>\n",
       "      <th>ENSMUSG00000102851.1</th>\n",
       "      <td>chr1</td>\n",
       "      <td>HAVANA</td>\n",
       "      <td>gene</td>\n",
       "      <td>3252757</td>\n",
       "      <td>3253236</td>\n",
       "      <td>.</td>\n",
       "      <td>+</td>\n",
       "      <td>.</td>\n",
       "      <td>NaN</td>\n",
       "      <td>processed_pseudogene</td>\n",
       "      <td>...</td>\n",
       "      <td>NaN</td>\n",
       "      <td>NaN</td>\n",
       "      <td>NaN</td>\n",
       "      <td>NaN</td>\n",
       "      <td>NaN</td>\n",
       "      <td>1</td>\n",
       "      <td>MGI:5011141</td>\n",
       "      <td>OTTMUSG00000049958.1</td>\n",
       "      <td>pseudo_consens</td>\n",
       "      <td>479</td>\n",
       "    </tr>\n",
       "    <tr>\n",
       "      <th>ENSMUSG00000103377.1</th>\n",
       "      <td>chr1</td>\n",
       "      <td>HAVANA</td>\n",
       "      <td>gene</td>\n",
       "      <td>3365731</td>\n",
       "      <td>3368549</td>\n",
       "      <td>.</td>\n",
       "      <td>-</td>\n",
       "      <td>.</td>\n",
       "      <td>NaN</td>\n",
       "      <td>TEC</td>\n",
       "      <td>...</td>\n",
       "      <td>NaN</td>\n",
       "      <td>NaN</td>\n",
       "      <td>NaN</td>\n",
       "      <td>NaN</td>\n",
       "      <td>NaN</td>\n",
       "      <td>2</td>\n",
       "      <td>MGI:5610408</td>\n",
       "      <td>OTTMUSG00000049960.1</td>\n",
       "      <td>NaN</td>\n",
       "      <td>2818</td>\n",
       "    </tr>\n",
       "  </tbody>\n",
       "</table>\n",
       "<p>5 rows × 22 columns</p>\n",
       "</div>"
      ],
      "text/plain": [
       "                     chrom   source feature    start      end score strand  \\\n",
       "gene_id                                                                      \n",
       "ENSMUSG00000102693.1  chr1   HAVANA    gene  3073253  3074322     .      +   \n",
       "ENSMUSG00000064842.1  chr1  ENSEMBL    gene  3102016  3102125     .      +   \n",
       "ENSMUSG00000051951.5  chr1   HAVANA    gene  3205901  3671498     .      -   \n",
       "ENSMUSG00000102851.1  chr1   HAVANA    gene  3252757  3253236     .      +   \n",
       "ENSMUSG00000103377.1  chr1   HAVANA    gene  3365731  3368549     .      -   \n",
       "\n",
       "                     phase  transcript_id             gene_type  ...  \\\n",
       "gene_id                                                          ...   \n",
       "ENSMUSG00000102693.1     .            NaN                   TEC  ...   \n",
       "ENSMUSG00000064842.1     .            NaN                 snRNA  ...   \n",
       "ENSMUSG00000051951.5     .            NaN        protein_coding  ...   \n",
       "ENSMUSG00000102851.1     .            NaN  processed_pseudogene  ...   \n",
       "ENSMUSG00000103377.1     .            NaN                   TEC  ...   \n",
       "\n",
       "                      transcript_type transcript_status  transcript_name  \\\n",
       "gene_id                                                                    \n",
       "ENSMUSG00000102693.1              NaN               NaN              NaN   \n",
       "ENSMUSG00000064842.1              NaN               NaN              NaN   \n",
       "ENSMUSG00000051951.5              NaN               NaN              NaN   \n",
       "ENSMUSG00000102851.1              NaN               NaN              NaN   \n",
       "ENSMUSG00000103377.1              NaN               NaN              NaN   \n",
       "\n",
       "                      exon_number  exon_id  level       mgi_id  \\\n",
       "gene_id                                                          \n",
       "ENSMUSG00000102693.1          NaN      NaN      2  MGI:1918292   \n",
       "ENSMUSG00000064842.1          NaN      NaN      3  MGI:5455983   \n",
       "ENSMUSG00000051951.5          NaN      NaN      2  MGI:3528744   \n",
       "ENSMUSG00000102851.1          NaN      NaN      1  MGI:5011141   \n",
       "ENSMUSG00000103377.1          NaN      NaN      2  MGI:5610408   \n",
       "\n",
       "                               havana_gene             tag  length  \n",
       "gene_id                                                             \n",
       "ENSMUSG00000102693.1  OTTMUSG00000049935.1             NaN    1069  \n",
       "ENSMUSG00000064842.1                   NaN             NaN     109  \n",
       "ENSMUSG00000051951.5  OTTMUSG00000026353.2             NaN  465597  \n",
       "ENSMUSG00000102851.1  OTTMUSG00000049958.1  pseudo_consens     479  \n",
       "ENSMUSG00000103377.1  OTTMUSG00000049960.1             NaN    2818  \n",
       "\n",
       "[5 rows x 22 columns]"
      ]
     },
     "execution_count": 4,
     "metadata": {},
     "output_type": "execute_result"
    }
   ],
   "source": [
    "gene_meta = pd.read_csv('/home/hanliu/ref/mouse/gencode/vm22/gencode.vM22.annotation.gene.flat.tsv.gz',\n",
    "                        sep='\\t', index_col='gene_id')\n",
    "gene_meta['length'] = gene_meta['end'] - gene_meta['start']\n",
    "gene_name_to_id = {v: k for k, v in gene_meta['gene_name'].items()}\n",
    "gene_meta.head()"
   ]
  },
  {
   "cell_type": "markdown",
   "metadata": {},
   "source": [
    "## Intra Inter genic"
   ]
  },
  {
   "cell_type": "code",
   "execution_count": 5,
   "metadata": {
    "ExecuteTime": {
     "end_time": "2020-02-04T23:45:54.450659Z",
     "start_time": "2020-02-04T23:45:54.302074Z"
    }
   },
   "outputs": [],
   "source": [
    "intragenic_df = pd.read_csv(\n",
    "    '../non_overlap_intragenic.subtract_black.gene_id_anno.bed',\n",
    "    header=None,\n",
    "    sep='\\t',\n",
    "    index_col=None,\n",
    "    names=['chrom', 'start', 'end', 'gene_ids'])\n",
    "intragenic_df.index = intragenic_df.chrom + ':' + intragenic_df.start.astype(str) + '-' + intragenic_df.end.astype(str)\n",
    "\n",
    "intergenic_df = pd.read_csv(\n",
    "    '../non_overlap_intergenic.subtract_black.bed',\n",
    "    header=None,\n",
    "    sep='\\t',\n",
    "    index_col=None,\n",
    "    names=['chrom', 'start', 'end'])\n",
    "intergenic_df.index = intergenic_df.chrom + ':' + intergenic_df.start.astype(str) + '-' + intergenic_df.end.astype(str)\n"
   ]
  },
  {
   "cell_type": "markdown",
   "metadata": {},
   "source": [
    "## Background C"
   ]
  },
  {
   "cell_type": "code",
   "execution_count": 6,
   "metadata": {
    "ExecuteTime": {
     "end_time": "2020-02-04T23:45:54.798956Z",
     "start_time": "2020-02-04T23:45:54.795439Z"
    }
   },
   "outputs": [],
   "source": [
    "def count_c(file_path):\n",
    "    records = {}\n",
    "    with open(file_path) as f:\n",
    "        name = None\n",
    "        for line in f:\n",
    "            if line.startswith('>'):\n",
    "                name = line[1:-1]\n",
    "            else:\n",
    "                records[name] = line.lower().count('c')\n",
    "    return pd.Series(records)"
   ]
  },
  {
   "cell_type": "code",
   "execution_count": 7,
   "metadata": {
    "ExecuteTime": {
     "end_time": "2020-02-04T23:46:04.682058Z",
     "start_time": "2020-02-04T23:45:55.343814Z"
    }
   },
   "outputs": [],
   "source": [
    "intragenic_c = count_c('../intragenic.fa')\n",
    "intergenic_c = count_c('../intergenic.fa')\n",
    "\n",
    "total_intragenic_c = intragenic_c.sum()\n",
    "total_intergenic_c = intergenic_c.sum()"
   ]
  },
  {
   "cell_type": "code",
   "execution_count": 8,
   "metadata": {
    "ExecuteTime": {
     "end_time": "2020-02-04T23:46:04.686748Z",
     "start_time": "2020-02-04T23:46:04.683600Z"
    }
   },
   "outputs": [
    {
     "data": {
      "text/plain": [
       "(253112183, 261977002, 49653, 35809)"
      ]
     },
     "execution_count": 8,
     "metadata": {},
     "output_type": "execute_result"
    }
   ],
   "source": [
    "total_intragenic_c, total_intergenic_c, inc_intra_total_dms, dec_intra_total_dms"
   ]
  },
  {
   "cell_type": "markdown",
   "metadata": {
    "ExecuteTime": {
     "end_time": "2020-02-04T19:14:46.673517Z",
     "start_time": "2020-02-04T19:14:46.670762Z"
    }
   },
   "source": [
    "## Per gene DMS"
   ]
  },
  {
   "cell_type": "code",
   "execution_count": null,
   "metadata": {},
   "outputs": [],
   "source": []
  },
  {
   "cell_type": "code",
   "execution_count": 9,
   "metadata": {
    "ExecuteTime": {
     "end_time": "2020-02-04T23:46:04.726557Z",
     "start_time": "2020-02-04T23:46:04.688099Z"
    }
   },
   "outputs": [],
   "source": [
    "dms_dict = dmr_data['number_of_dms'].to_dict()\n",
    "\n",
    "def get_dms(value):\n",
    "    if isinstance(value, float):\n",
    "        return 0\n",
    "    else:\n",
    "        return sum([dms_dict.get(dmr_id, 0) for dmr_id in value.split(',')])"
   ]
  },
  {
   "cell_type": "markdown",
   "metadata": {},
   "source": [
    "## Significance cutoff"
   ]
  },
  {
   "cell_type": "code",
   "execution_count": 10,
   "metadata": {
    "ExecuteTime": {
     "end_time": "2020-02-04T23:46:04.729991Z",
     "start_time": "2020-02-04T23:46:04.728019Z"
    }
   },
   "outputs": [],
   "source": [
    "p_cutoff = 0.01\n",
    "odds_cutoff = 1.5"
   ]
  },
  {
   "cell_type": "markdown",
   "metadata": {},
   "source": [
    "## Test Decreasing DMR"
   ]
  },
  {
   "cell_type": "code",
   "execution_count": 11,
   "metadata": {
    "ExecuteTime": {
     "end_time": "2020-02-04T23:46:08.180784Z",
     "start_time": "2020-02-04T23:46:08.059962Z"
    }
   },
   "outputs": [
    {
     "data": {
      "text/html": [
       "<div>\n",
       "<style scoped>\n",
       "    .dataframe tbody tr th:only-of-type {\n",
       "        vertical-align: middle;\n",
       "    }\n",
       "\n",
       "    .dataframe tbody tr th {\n",
       "        vertical-align: top;\n",
       "    }\n",
       "\n",
       "    .dataframe thead th {\n",
       "        text-align: right;\n",
       "    }\n",
       "</style>\n",
       "<table border=\"1\" class=\"dataframe\">\n",
       "  <thead>\n",
       "    <tr style=\"text-align: right;\">\n",
       "      <th></th>\n",
       "      <th>chrom</th>\n",
       "      <th>start</th>\n",
       "      <th>end</th>\n",
       "      <th>DMR_IDs</th>\n",
       "      <th>dms_in</th>\n",
       "      <th>other_in</th>\n",
       "      <th>dms_out</th>\n",
       "      <th>other_out</th>\n",
       "    </tr>\n",
       "  </thead>\n",
       "  <tbody>\n",
       "    <tr>\n",
       "      <th>chr1:3073252-3074321</th>\n",
       "      <td>chr1</td>\n",
       "      <td>3073252</td>\n",
       "      <td>3074321</td>\n",
       "      <td>NaN</td>\n",
       "      <td>0</td>\n",
       "      <td>160</td>\n",
       "      <td>35809</td>\n",
       "      <td>253076214</td>\n",
       "    </tr>\n",
       "    <tr>\n",
       "      <th>chr1:3102015-3102124</th>\n",
       "      <td>chr1</td>\n",
       "      <td>3102015</td>\n",
       "      <td>3102124</td>\n",
       "      <td>NaN</td>\n",
       "      <td>0</td>\n",
       "      <td>20</td>\n",
       "      <td>35809</td>\n",
       "      <td>253076354</td>\n",
       "    </tr>\n",
       "    <tr>\n",
       "      <th>chr1:3205900-3671497</th>\n",
       "      <td>chr1</td>\n",
       "      <td>3205900</td>\n",
       "      <td>3671497</td>\n",
       "      <td>DGmCH_9,DGmCH_10,DGmCH_11,DGmCH_12,DGmCH_13,DG...</td>\n",
       "      <td>10</td>\n",
       "      <td>89678</td>\n",
       "      <td>35799</td>\n",
       "      <td>252986696</td>\n",
       "    </tr>\n",
       "    <tr>\n",
       "      <th>chr1:3680154-3681787</th>\n",
       "      <td>chr1</td>\n",
       "      <td>3680154</td>\n",
       "      <td>3681787</td>\n",
       "      <td>NaN</td>\n",
       "      <td>0</td>\n",
       "      <td>336</td>\n",
       "      <td>35809</td>\n",
       "      <td>253076038</td>\n",
       "    </tr>\n",
       "    <tr>\n",
       "      <th>chr1:3752009-3754359</th>\n",
       "      <td>chr1</td>\n",
       "      <td>3752009</td>\n",
       "      <td>3754359</td>\n",
       "      <td>NaN</td>\n",
       "      <td>0</td>\n",
       "      <td>474</td>\n",
       "      <td>35809</td>\n",
       "      <td>253075900</td>\n",
       "    </tr>\n",
       "  </tbody>\n",
       "</table>\n",
       "</div>"
      ],
      "text/plain": [
       "                     chrom    start      end  \\\n",
       "chr1:3073252-3074321  chr1  3073252  3074321   \n",
       "chr1:3102015-3102124  chr1  3102015  3102124   \n",
       "chr1:3205900-3671497  chr1  3205900  3671497   \n",
       "chr1:3680154-3681787  chr1  3680154  3681787   \n",
       "chr1:3752009-3754359  chr1  3752009  3754359   \n",
       "\n",
       "                                                                DMR_IDs  \\\n",
       "chr1:3073252-3074321                                                NaN   \n",
       "chr1:3102015-3102124                                                NaN   \n",
       "chr1:3205900-3671497  DGmCH_9,DGmCH_10,DGmCH_11,DGmCH_12,DGmCH_13,DG...   \n",
       "chr1:3680154-3681787                                                NaN   \n",
       "chr1:3752009-3754359                                                NaN   \n",
       "\n",
       "                      dms_in  other_in  dms_out  other_out  \n",
       "chr1:3073252-3074321       0       160    35809  253076214  \n",
       "chr1:3102015-3102124       0        20    35809  253076354  \n",
       "chr1:3205900-3671497      10     89678    35799  252986696  \n",
       "chr1:3680154-3681787       0       336    35809  253076038  \n",
       "chr1:3752009-3754359       0       474    35809  253075900  "
      ]
     },
     "execution_count": 11,
     "metadata": {},
     "output_type": "execute_result"
    }
   ],
   "source": [
    "intra_dec_df = pd.read_csv('../non_overlap_intragenic.subtract_black.dec_dmr.bed', \n",
    "                           sep='\\t', header=None, na_values='.', names=['chrom', 'start', 'end', 'DMR_IDs'])\n",
    "intra_dec_df['dms_in'] = intra_dec_df['DMR_IDs'].apply(get_dms)\n",
    "\n",
    "intra_dec_df.index = intra_dec_df.chrom + ':' + intra_dec_df.start.astype(str) + '-' + intra_dec_df.end.astype(str)\n",
    "intra_dec_df['other_in'] = intragenic_c - intra_dec_df['dms_in']\n",
    "\n",
    "intra_dec_df['dms_out'] = dec_intra_total_dms - intra_dec_df['dms_in']\n",
    "intra_dec_df['other_out'] = total_intragenic_c - intragenic_c - intra_dec_df['dms_out']\n",
    "\n",
    "intra_dec_df.head()"
   ]
  },
  {
   "cell_type": "code",
   "execution_count": 12,
   "metadata": {
    "ExecuteTime": {
     "end_time": "2020-02-04T23:46:47.155214Z",
     "start_time": "2020-02-04T23:46:08.873018Z"
    }
   },
   "outputs": [],
   "source": [
    "def test_enrich(row):\n",
    "    return pd.Series(\n",
    "        fisher_exact([[row['dms_in'], row['dms_out']],\n",
    "                      [row['other_in'], row['other_out']]], 'greater'))\n",
    "\n",
    "test_result = intra_dec_df.apply(test_enrich, axis=1)\n",
    "test_result.columns = ['odds', 'p']\n",
    "test_result = test_result[test_result['odds'] > 1].copy()\n",
    "\n",
    "judge, adj_p, _, _ = multipletests(test_result['p'], method='fdr_bh')\n",
    "\n",
    "test_result['judge'] = judge\n",
    "test_result['adj_p'] = adj_p\n",
    "test_result['-lgp'] = -np.log10(adj_p)"
   ]
  },
  {
   "cell_type": "code",
   "execution_count": 13,
   "metadata": {
    "ExecuteTime": {
     "end_time": "2020-02-04T23:46:47.194539Z",
     "start_time": "2020-02-04T23:46:47.157103Z"
    }
   },
   "outputs": [],
   "source": [
    "sig_dec_intra_result = test_result[(test_result['adj_p'] < p_cutoff) & \n",
    "                                   (test_result['odds'] > odds_cutoff)].index\n",
    "total_dec_intra_result = pd.concat([\n",
    "    intra_dec_df.loc[sig_dec_intra_result],\n",
    "    test_result.loc[sig_dec_intra_result],\n",
    "    intragenic_df.loc[sig_dec_intra_result, ['gene_ids']]\n",
    "],\n",
    "                                   axis=1,\n",
    "                                   sort=True)\n",
    "\n",
    "total_dec_intra_result.to_csv('FINAL.Intragenic.decrease.results.csv')"
   ]
  },
  {
   "cell_type": "code",
   "execution_count": 14,
   "metadata": {
    "ExecuteTime": {
     "end_time": "2020-02-04T23:46:47.269514Z",
     "start_time": "2020-02-04T23:46:47.196104Z"
    }
   },
   "outputs": [],
   "source": [
    "nofilter_dec_intra_result = pd.concat([\n",
    "    intra_dec_df.loc[test_result.index],\n",
    "    test_result,\n",
    "    intragenic_df.loc[test_result.index, ['gene_ids']]\n",
    "],\n",
    "                                   axis=1,\n",
    "                                   sort=True)\n",
    "nofilter_dec_intra_result.to_csv('FINAL.nofilter.Intragenic.decrease.results.csv')"
   ]
  },
  {
   "cell_type": "code",
   "execution_count": 15,
   "metadata": {
    "ExecuteTime": {
     "end_time": "2020-02-04T23:46:47.290346Z",
     "start_time": "2020-02-04T23:46:47.271001Z"
    }
   },
   "outputs": [
    {
     "data": {
      "text/plain": [
       "64"
      ]
     },
     "execution_count": 15,
     "metadata": {},
     "output_type": "execute_result"
    }
   ],
   "source": [
    "judges = (total_dec_intra_result['dms_in'] > 50) & \\\n",
    "         (total_dec_intra_result['odds'] > 2.5)\n",
    "\n",
    "length_cutoff = 10000\n",
    "\n",
    "dec_genes = set()\n",
    "for gene_ids in total_dec_intra_result[judges]['gene_ids']:\n",
    "    for gene in gene_ids.split(','):\n",
    "        gene_length = gene_meta.at[gene, 'length']\n",
    "        if gene_length < length_cutoff:\n",
    "            continue\n",
    "        dec_genes.add(gene)\n",
    "with open('dec_genes.txt', 'w') as f:\n",
    "    for gene in dec_genes:\n",
    "        f.write(gene.split('.')[0]+'\\n')\n",
    "# this number decludes many small gene \n",
    "len(dec_genes)"
   ]
  },
  {
   "cell_type": "markdown",
   "metadata": {
    "ExecuteTime": {
     "end_time": "2020-02-04T20:49:15.528506Z",
     "start_time": "2020-02-04T20:49:15.524400Z"
    }
   },
   "source": [
    "## Test increasing DMR"
   ]
  },
  {
   "cell_type": "code",
   "execution_count": 16,
   "metadata": {
    "ExecuteTime": {
     "end_time": "2020-02-04T23:46:47.420968Z",
     "start_time": "2020-02-04T23:46:47.291527Z"
    }
   },
   "outputs": [
    {
     "data": {
      "text/html": [
       "<div>\n",
       "<style scoped>\n",
       "    .dataframe tbody tr th:only-of-type {\n",
       "        vertical-align: middle;\n",
       "    }\n",
       "\n",
       "    .dataframe tbody tr th {\n",
       "        vertical-align: top;\n",
       "    }\n",
       "\n",
       "    .dataframe thead th {\n",
       "        text-align: right;\n",
       "    }\n",
       "</style>\n",
       "<table border=\"1\" class=\"dataframe\">\n",
       "  <thead>\n",
       "    <tr style=\"text-align: right;\">\n",
       "      <th></th>\n",
       "      <th>chrom</th>\n",
       "      <th>start</th>\n",
       "      <th>end</th>\n",
       "      <th>DMR_IDs</th>\n",
       "      <th>dms_in</th>\n",
       "      <th>other_in</th>\n",
       "      <th>dms_out</th>\n",
       "      <th>other_out</th>\n",
       "    </tr>\n",
       "  </thead>\n",
       "  <tbody>\n",
       "    <tr>\n",
       "      <th>chr1:3073252-3074321</th>\n",
       "      <td>chr1</td>\n",
       "      <td>3073252</td>\n",
       "      <td>3074321</td>\n",
       "      <td>NaN</td>\n",
       "      <td>0</td>\n",
       "      <td>160</td>\n",
       "      <td>49653</td>\n",
       "      <td>253062370</td>\n",
       "    </tr>\n",
       "    <tr>\n",
       "      <th>chr1:3102015-3102124</th>\n",
       "      <td>chr1</td>\n",
       "      <td>3102015</td>\n",
       "      <td>3102124</td>\n",
       "      <td>NaN</td>\n",
       "      <td>0</td>\n",
       "      <td>20</td>\n",
       "      <td>49653</td>\n",
       "      <td>253062510</td>\n",
       "    </tr>\n",
       "    <tr>\n",
       "      <th>chr1:3205900-3671497</th>\n",
       "      <td>chr1</td>\n",
       "      <td>3205900</td>\n",
       "      <td>3671497</td>\n",
       "      <td>DGmCH_8,DGmCH_22</td>\n",
       "      <td>1</td>\n",
       "      <td>89687</td>\n",
       "      <td>49652</td>\n",
       "      <td>252972843</td>\n",
       "    </tr>\n",
       "    <tr>\n",
       "      <th>chr1:3680154-3681787</th>\n",
       "      <td>chr1</td>\n",
       "      <td>3680154</td>\n",
       "      <td>3681787</td>\n",
       "      <td>NaN</td>\n",
       "      <td>0</td>\n",
       "      <td>336</td>\n",
       "      <td>49653</td>\n",
       "      <td>253062194</td>\n",
       "    </tr>\n",
       "    <tr>\n",
       "      <th>chr1:3752009-3754359</th>\n",
       "      <td>chr1</td>\n",
       "      <td>3752009</td>\n",
       "      <td>3754359</td>\n",
       "      <td>NaN</td>\n",
       "      <td>0</td>\n",
       "      <td>474</td>\n",
       "      <td>49653</td>\n",
       "      <td>253062056</td>\n",
       "    </tr>\n",
       "  </tbody>\n",
       "</table>\n",
       "</div>"
      ],
      "text/plain": [
       "                     chrom    start      end           DMR_IDs  dms_in  \\\n",
       "chr1:3073252-3074321  chr1  3073252  3074321               NaN       0   \n",
       "chr1:3102015-3102124  chr1  3102015  3102124               NaN       0   \n",
       "chr1:3205900-3671497  chr1  3205900  3671497  DGmCH_8,DGmCH_22       1   \n",
       "chr1:3680154-3681787  chr1  3680154  3681787               NaN       0   \n",
       "chr1:3752009-3754359  chr1  3752009  3754359               NaN       0   \n",
       "\n",
       "                      other_in  dms_out  other_out  \n",
       "chr1:3073252-3074321       160    49653  253062370  \n",
       "chr1:3102015-3102124        20    49653  253062510  \n",
       "chr1:3205900-3671497     89687    49652  252972843  \n",
       "chr1:3680154-3681787       336    49653  253062194  \n",
       "chr1:3752009-3754359       474    49653  253062056  "
      ]
     },
     "execution_count": 16,
     "metadata": {},
     "output_type": "execute_result"
    }
   ],
   "source": [
    "intra_inc_df = pd.read_csv('../non_overlap_intragenic.subtract_black.inc_dmr.bed', \n",
    "                           sep='\\t', header=None, na_values='.', names=['chrom', 'start', 'end', 'DMR_IDs'])\n",
    "intra_inc_df['dms_in'] = intra_inc_df['DMR_IDs'].apply(get_dms)\n",
    "\n",
    "intra_inc_df.index = intra_inc_df.chrom + ':' + intra_inc_df.start.astype(str) + '-' + intra_inc_df.end.astype(str)\n",
    "intra_inc_df['other_in'] = intragenic_c - intra_inc_df['dms_in']\n",
    "\n",
    "intra_inc_df['dms_out'] = inc_intra_total_dms - intra_inc_df['dms_in']\n",
    "intra_inc_df['other_out'] = total_intragenic_c - intragenic_c - intra_inc_df['dms_out']\n",
    "\n",
    "intra_inc_df.head()"
   ]
  },
  {
   "cell_type": "code",
   "execution_count": 17,
   "metadata": {
    "ExecuteTime": {
     "end_time": "2020-02-04T23:47:33.377938Z",
     "start_time": "2020-02-04T23:46:47.422186Z"
    }
   },
   "outputs": [
    {
     "name": "stderr",
     "output_type": "stream",
     "text": [
      "/home/hanliu/miniconda3/envs/clustering/lib/python3.7/site-packages/ipykernel_launcher.py:14: RuntimeWarning: divide by zero encountered in log10\n",
      "  \n"
     ]
    }
   ],
   "source": [
    "def test_enrich(row):\n",
    "    return pd.Series(\n",
    "        fisher_exact([[row['dms_in'], row['dms_out']],\n",
    "                      [row['other_in'], row['other_out']]], 'greater'))\n",
    "\n",
    "test_result = intra_inc_df.apply(test_enrich, axis=1)\n",
    "test_result.columns = ['odds', 'p']\n",
    "test_result = test_result[test_result['odds'] > 1].copy()\n",
    "\n",
    "judge, adj_p, _, _ = multipletests(test_result['p'], method='fdr_bh')\n",
    "\n",
    "test_result['judge'] = judge\n",
    "test_result['adj_p'] = adj_p\n",
    "test_result['-lgp'] = -np.log10(adj_p)"
   ]
  },
  {
   "cell_type": "code",
   "execution_count": 18,
   "metadata": {
    "ExecuteTime": {
     "end_time": "2020-02-04T23:47:33.413558Z",
     "start_time": "2020-02-04T23:47:33.379282Z"
    }
   },
   "outputs": [],
   "source": [
    "sig_inc_intra_result = test_result[(test_result['adj_p'] < p_cutoff) & \n",
    "                                   (test_result['odds'] > odds_cutoff)].index\n",
    "total_inc_intra_result = pd.concat([\n",
    "    intra_inc_df.loc[sig_inc_intra_result],\n",
    "    test_result.loc[sig_inc_intra_result],\n",
    "    intragenic_df.loc[sig_inc_intra_result, ['gene_ids']]\n",
    "],\n",
    "                                   axis=1,\n",
    "                                   sort=True)\n",
    "\n",
    "total_inc_intra_result.to_csv('FINAL.Intragenic.increase.results.csv')"
   ]
  },
  {
   "cell_type": "code",
   "execution_count": 19,
   "metadata": {
    "ExecuteTime": {
     "end_time": "2020-02-04T23:47:33.506071Z",
     "start_time": "2020-02-04T23:47:33.415218Z"
    }
   },
   "outputs": [],
   "source": [
    "nofilter_inc_intra_result = pd.concat([\n",
    "    intra_inc_df.loc[test_result.index],\n",
    "    test_result,\n",
    "    intragenic_df.loc[test_result.index, ['gene_ids']]\n",
    "],\n",
    "                                   axis=1,\n",
    "                                   sort=True)\n",
    "nofilter_inc_intra_result.to_csv('FINAL.nofilter.Intragenic.increase.results.csv')"
   ]
  },
  {
   "cell_type": "code",
   "execution_count": 20,
   "metadata": {
    "ExecuteTime": {
     "end_time": "2020-02-04T23:47:33.517411Z",
     "start_time": "2020-02-04T23:47:33.507465Z"
    }
   },
   "outputs": [
    {
     "data": {
      "text/plain": [
       "71"
      ]
     },
     "execution_count": 20,
     "metadata": {},
     "output_type": "execute_result"
    }
   ],
   "source": [
    "judges = (total_inc_intra_result['dms_in'] > 50) & \\\n",
    "         (total_inc_intra_result['odds'] > 2.5)\n",
    "\n",
    "length_cutoff = 10000\n",
    "\n",
    "inc_genes = set()\n",
    "for gene_ids in total_inc_intra_result[judges]['gene_ids']:\n",
    "    for gene in gene_ids.split(','):\n",
    "        gene_length = gene_meta.at[gene, 'length']\n",
    "        if gene_length < length_cutoff:\n",
    "            continue\n",
    "        inc_genes.add(gene)\n",
    "with open('inc_genes.txt', 'w') as f:\n",
    "    for gene in inc_genes:\n",
    "        f.write(gene.split('.')[0]+'\\n')\n",
    "# this number includes many small gene \n",
    "len(inc_genes)"
   ]
  },
  {
   "cell_type": "code",
   "execution_count": 21,
   "metadata": {
    "ExecuteTime": {
     "end_time": "2020-02-04T23:47:33.520692Z",
     "start_time": "2020-02-04T23:47:33.518568Z"
    },
    "scrolled": false
   },
   "outputs": [],
   "source": [
    "for g in (dec_genes & inc_genes):\n",
    "    print(gene_meta.at[g, 'gene_name'])"
   ]
  },
  {
   "cell_type": "code",
   "execution_count": 27,
   "metadata": {
    "ExecuteTime": {
     "end_time": "2020-02-04T23:48:25.076698Z",
     "start_time": "2020-02-04T23:48:25.072080Z"
    }
   },
   "outputs": [
    {
     "data": {
      "text/plain": [
       "['Gfra1',\n",
       " 'Cadm1',\n",
       " 'Slit1',\n",
       " 'Kcnma1',\n",
       " 'Lpp',\n",
       " 'Kirrel3',\n",
       " 'Glp2r',\n",
       " 'Fam160a1',\n",
       " 'Slit3',\n",
       " 'Nos1ap',\n",
       " 'Gatb',\n",
       " 'Gm39038',\n",
       " '5830418P13Rik',\n",
       " 'Gm15942',\n",
       " 'Gm16252',\n",
       " 'Ncald',\n",
       " 'Gas7',\n",
       " 'Rfx3',\n",
       " 'Zbtb16',\n",
       " 'Dcp1b',\n",
       " 'D930032P07Rik',\n",
       " 'Rapgef5',\n",
       " 'Tfb1m',\n",
       " 'Trio',\n",
       " 'Glis3',\n",
       " 'Gm16277',\n",
       " 'Fam189a1',\n",
       " 'Slc4a4',\n",
       " 'Tenm2',\n",
       " 'Kalrn',\n",
       " '4930447A16Rik',\n",
       " 'Prkce',\n",
       " 'Tmem108',\n",
       " 'Tafa5',\n",
       " 'Zmat4',\n",
       " 'Bfsp2',\n",
       " 'Rtn1',\n",
       " 'Abr',\n",
       " 'Ahcyl2',\n",
       " '4930567K12Rik',\n",
       " 'Gm49397',\n",
       " 'Fat4',\n",
       " 'Dab1',\n",
       " 'Pip5k1b',\n",
       " 'Tiam2',\n",
       " 'Ntrk3',\n",
       " 'Cacna1c',\n",
       " '1700015C17Rik',\n",
       " 'Glt28d2',\n",
       " 'Gm32743',\n",
       " 'Dlgap1',\n",
       " 'Gm41609',\n",
       " 'Dlg2',\n",
       " 'Kirrel3os',\n",
       " 'Atp2b1',\n",
       " '5031415H12Rik',\n",
       " 'Pip5k1bos',\n",
       " 'C230034O21Rik',\n",
       " 'Gm37240',\n",
       " 'Dlgap2',\n",
       " 'Cdh13',\n",
       " 'Gm15941',\n",
       " 'Adgrb3',\n",
       " 'St6galnac3']"
      ]
     },
     "execution_count": 27,
     "metadata": {},
     "output_type": "execute_result"
    }
   ],
   "source": [
    "gene_meta.loc[dec_genes]['gene_name'].tolist()"
   ]
  },
  {
   "cell_type": "code",
   "execution_count": null,
   "metadata": {},
   "outputs": [],
   "source": []
  }
 ],
 "metadata": {
  "hide_input": false,
  "kernelspec": {
   "display_name": "Python 3",
   "language": "python",
   "name": "python3"
  },
  "language_info": {
   "codemirror_mode": {
    "name": "ipython",
    "version": 3
   },
   "file_extension": ".py",
   "mimetype": "text/x-python",
   "name": "python",
   "nbconvert_exporter": "python",
   "pygments_lexer": "ipython3",
   "version": "3.7.3"
  },
  "toc": {
   "base_numbering": 1,
   "nav_menu": {},
   "number_sections": true,
   "sideBar": true,
   "skip_h1_title": true,
   "title_cell": "Table of Contents",
   "title_sidebar": "Contents",
   "toc_cell": false,
   "toc_position": {},
   "toc_section_display": true,
   "toc_window_display": true
  }
 },
 "nbformat": 4,
 "nbformat_minor": 2
}
