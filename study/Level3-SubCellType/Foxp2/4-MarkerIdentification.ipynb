{
 "cells": [
  {
   "cell_type": "markdown",
   "metadata": {
    "papermill": {
     "duration": 0.00965,
     "end_time": "2019-10-18T06:35:07.992563",
     "exception": false,
     "start_time": "2019-10-18T06:35:07.982913",
     "status": "completed"
    },
    "tags": [],
    "toc": true
   },
   "source": [
    "<h1>Table of Contents<span class=\"tocSkip\"></span></h1>\n",
    "<div class=\"toc\"><ul class=\"toc-item\"><li><span><a href=\"#Purpose\" data-toc-modified-id=\"Purpose-1\"><span class=\"toc-item-num\">1&nbsp;&nbsp;</span>Purpose</a></span></li><li><span><a href=\"#Input\" data-toc-modified-id=\"Input-2\"><span class=\"toc-item-num\">2&nbsp;&nbsp;</span>Input</a></span></li><li><span><a href=\"#Output\" data-toc-modified-id=\"Output-3\"><span class=\"toc-item-num\">3&nbsp;&nbsp;</span>Output</a></span></li><li><span><a href=\"#Parameters\" data-toc-modified-id=\"Parameters-4\"><span class=\"toc-item-num\">4&nbsp;&nbsp;</span>Parameters</a></span></li><li><span><a href=\"#Load\" data-toc-modified-id=\"Load-5\"><span class=\"toc-item-num\">5&nbsp;&nbsp;</span>Load</a></span><ul class=\"toc-item\"><li><span><a href=\"#Cell-Tidy-Data\" data-toc-modified-id=\"Cell-Tidy-Data-5.1\"><span class=\"toc-item-num\">5.1&nbsp;&nbsp;</span>Cell Tidy Data</a></span></li><li><span><a href=\"#Gene-Metadata\" data-toc-modified-id=\"Gene-Metadata-5.2\"><span class=\"toc-item-num\">5.2&nbsp;&nbsp;</span>Gene Metadata</a></span></li><li><span><a href=\"#MCDS-and-Adata\" data-toc-modified-id=\"MCDS-and-Adata-5.3\"><span class=\"toc-item-num\">5.3&nbsp;&nbsp;</span>MCDS and Adata</a></span></li></ul></li><li><span><a href=\"#Remove-Outliers\" data-toc-modified-id=\"Remove-Outliers-6\"><span class=\"toc-item-num\">6&nbsp;&nbsp;</span>Remove Outliers</a></span></li><li><span><a href=\"#Rank-gene-groups\" data-toc-modified-id=\"Rank-gene-groups-7\"><span class=\"toc-item-num\">7&nbsp;&nbsp;</span>Rank gene groups</a></span></li><li><span><a href=\"#Plotting\" data-toc-modified-id=\"Plotting-8\"><span class=\"toc-item-num\">8&nbsp;&nbsp;</span>Plotting</a></span></li></ul></div>"
   ]
  },
  {
   "cell_type": "markdown",
   "metadata": {
    "papermill": {
     "duration": 0.009092,
     "end_time": "2019-10-18T06:35:08.012435",
     "exception": false,
     "start_time": "2019-10-18T06:35:08.003343",
     "status": "completed"
    },
    "tags": []
   },
   "source": [
    "# Cluster Marker Identification\n",
    "\n",
    "## Purpose\n",
    "- Marker gene identification\n",
    "- Plotting\n",
    "\n",
    "## Input\n",
    "- gene MCDS\n",
    "- consensus clustering\n",
    "\n",
    "## Output\n",
    "- Cluster marker gene list"
   ]
  },
  {
   "cell_type": "code",
   "execution_count": 1,
   "metadata": {
    "ExecuteTime": {
     "end_time": "2019-10-18T07:18:56.805031Z",
     "start_time": "2019-10-18T07:18:56.803064Z"
    },
    "papermill": {
     "duration": 0.01592,
     "end_time": "2019-10-18T06:35:08.037565",
     "exception": false,
     "start_time": "2019-10-18T06:35:08.021645",
     "status": "completed"
    },
    "tags": []
   },
   "outputs": [],
   "source": [
    "import warnings\n",
    "warnings.filterwarnings('ignore')"
   ]
  },
  {
   "cell_type": "code",
   "execution_count": 2,
   "metadata": {
    "ExecuteTime": {
     "end_time": "2019-10-18T07:18:59.049290Z",
     "start_time": "2019-10-18T07:18:56.806645Z"
    },
    "papermill": {
     "duration": 2.165117,
     "end_time": "2019-10-18T06:35:10.211782",
     "exception": false,
     "start_time": "2019-10-18T06:35:08.046665",
     "status": "completed"
    },
    "tags": []
   },
   "outputs": [],
   "source": [
    "import pathlib\n",
    "\n",
    "import anndata\n",
    "import matplotlib.pyplot as plt\n",
    "import numpy as np\n",
    "import pandas as pd\n",
    "import seaborn as sns\n",
    "import scanpy as sc\n",
    "from ALLCools.mcds.MCDS import MCDS\n",
    "from cemba_data.plot import *\n",
    "from cemba_data.tools.hdf5.anndata import rank_features_groups"
   ]
  },
  {
   "cell_type": "code",
   "execution_count": 3,
   "metadata": {
    "ExecuteTime": {
     "end_time": "2019-10-18T07:18:59.053918Z",
     "start_time": "2019-10-18T07:18:59.050954Z"
    },
    "papermill": {
     "duration": 0.015601,
     "end_time": "2019-10-18T06:35:10.238517",
     "exception": false,
     "start_time": "2019-10-18T06:35:10.222916",
     "status": "completed"
    },
    "tags": []
   },
   "outputs": [],
   "source": [
    "result_dir = pathlib.Path('Marker')\n",
    "result_dir.mkdir(exist_ok=True)\n",
    "fig_dir = pathlib.Path('fig/marker_gene')\n",
    "fig_dir.mkdir(exist_ok=True, parents=True)"
   ]
  },
  {
   "cell_type": "markdown",
   "metadata": {
    "papermill": {
     "duration": 0.009257,
     "end_time": "2019-10-18T06:35:10.257139",
     "exception": false,
     "start_time": "2019-10-18T06:35:10.247882",
     "status": "completed"
    },
    "tags": []
   },
   "source": [
    "## Parameters"
   ]
  },
  {
   "cell_type": "code",
   "execution_count": 4,
   "metadata": {
    "ExecuteTime": {
     "end_time": "2019-10-18T07:18:59.058430Z",
     "start_time": "2019-10-18T07:18:59.055342Z"
    },
    "papermill": {
     "duration": 0.0154,
     "end_time": "2019-10-18T06:35:10.281886",
     "exception": false,
     "start_time": "2019-10-18T06:35:10.266486",
     "status": "completed"
    },
    "tags": [
     "parameters"
    ]
   },
   "outputs": [],
   "source": [
    "cell_tidy_data_path = './Cluster/cell_tidy_data.with_cluster.msg'\n",
    "gene_mcds_path_pattern = './Adata/SelectedCell*gene_da_rate*mcds'\n",
    "gene_annotation_path = '/home/hanliu/ref/mouse/gencode/vm22/gencode.vM22.annotation.gene.flat.tsv.gz'\n",
    "\n",
    "mc_type = 'CHN'\n",
    "cluster_col_name = 'consensus_cluster_rescued'\n",
    "load = True\n",
    "\n",
    "# find marker gene\n",
    "n_marker_genes = 1000\n",
    "gene_score_cutoff = 5\n",
    "abs_log_fold_change = 1\n",
    "n_genes = 10\n",
    "nrows = 2\n",
    "\n",
    "coord_base = 'umap'"
   ]
  },
  {
   "cell_type": "code",
   "execution_count": 5,
   "metadata": {
    "ExecuteTime": {
     "end_time": "2019-10-18T07:18:59.062761Z",
     "start_time": "2019-10-18T07:18:59.060248Z"
    },
    "papermill": {
     "duration": 0.0152,
     "end_time": "2019-10-18T06:35:10.306740",
     "exception": false,
     "start_time": "2019-10-18T06:35:10.291540",
     "status": "completed"
    },
    "tags": [
     "injected-parameters"
    ]
   },
   "outputs": [],
   "source": [
    "# Parameters\n",
    "mc_type = \"CHN\"\n",
    "load = True\n",
    "n_marker_genes = 1000\n",
    "gene_score_cutoff = 5\n",
    "abs_log_fold_change = 1\n",
    "n_genes = 10\n",
    "nrows = 2\n",
    "coord_base = \"umap\"\n"
   ]
  },
  {
   "cell_type": "markdown",
   "metadata": {
    "papermill": {
     "duration": 0.009495,
     "end_time": "2019-10-18T06:35:10.325757",
     "exception": false,
     "start_time": "2019-10-18T06:35:10.316262",
     "status": "completed"
    },
    "tags": []
   },
   "source": [
    "## Load\n",
    "\n",
    "### Cell Tidy Data"
   ]
  },
  {
   "cell_type": "code",
   "execution_count": 6,
   "metadata": {
    "ExecuteTime": {
     "end_time": "2019-10-18T07:18:59.072192Z",
     "start_time": "2019-10-18T07:18:59.064263Z"
    },
    "papermill": {
     "duration": 0.020522,
     "end_time": "2019-10-18T06:35:10.356664",
     "exception": false,
     "start_time": "2019-10-18T06:35:10.336142",
     "status": "completed"
    },
    "tags": []
   },
   "outputs": [],
   "source": [
    "cell_tidy_data = pd.read_msgpack(cell_tidy_data_path)"
   ]
  },
  {
   "cell_type": "markdown",
   "metadata": {
    "papermill": {
     "duration": 0.009366,
     "end_time": "2019-10-18T06:35:10.375590",
     "exception": false,
     "start_time": "2019-10-18T06:35:10.366224",
     "status": "completed"
    },
    "tags": []
   },
   "source": [
    "### Gene Metadata"
   ]
  },
  {
   "cell_type": "code",
   "execution_count": 7,
   "metadata": {
    "ExecuteTime": {
     "end_time": "2019-10-18T07:18:59.334399Z",
     "start_time": "2019-10-18T07:18:59.073471Z"
    },
    "papermill": {
     "duration": 0.287777,
     "end_time": "2019-10-18T06:35:10.672766",
     "exception": false,
     "start_time": "2019-10-18T06:35:10.384989",
     "status": "completed"
    },
    "tags": []
   },
   "outputs": [],
   "source": [
    "gene_meta = pd.read_csv(gene_annotation_path, index_col='gene_id', sep='\\t')\n",
    "gene_meta.index.name = 'gene'\n",
    "gene_name_to_id = {v:k for k, v in gene_meta['gene_name'].iteritems()}\n",
    "gene_id_base_to_id = pd.Series(gene_meta.index, index = gene_meta.index.map(lambda i: i.split('.')[0])).to_dict()"
   ]
  },
  {
   "cell_type": "markdown",
   "metadata": {
    "papermill": {
     "duration": 0.009875,
     "end_time": "2019-10-18T06:35:10.693717",
     "exception": false,
     "start_time": "2019-10-18T06:35:10.683842",
     "status": "completed"
    },
    "tags": []
   },
   "source": [
    "### MCDS and Adata"
   ]
  },
  {
   "cell_type": "code",
   "execution_count": 8,
   "metadata": {
    "ExecuteTime": {
     "end_time": "2019-10-18T07:19:01.486867Z",
     "start_time": "2019-10-18T07:18:59.335948Z"
    },
    "papermill": {
     "duration": 2.2071,
     "end_time": "2019-10-18T06:35:12.910485",
     "exception": false,
     "start_time": "2019-10-18T06:35:10.703385",
     "status": "completed"
    },
    "tags": []
   },
   "outputs": [
    {
     "name": "stdout",
     "output_type": "stream",
     "text": [
      "[1]\n"
     ]
    }
   ],
   "source": [
    "gene_mcds = MCDS.open(gene_mcds_path_pattern,\n",
    "                      combine='nested',\n",
    "                      concat_dim='cell').sel(mc_type=mc_type)\n",
    "\n",
    "if load:\n",
    "    gene_mcds.load()\n"
   ]
  },
  {
   "cell_type": "code",
   "execution_count": 9,
   "metadata": {
    "ExecuteTime": {
     "end_time": "2019-10-18T07:19:01.819602Z",
     "start_time": "2019-10-18T07:19:01.488431Z"
    },
    "papermill": {
     "duration": 0.341903,
     "end_time": "2019-10-18T06:35:13.263266",
     "exception": false,
     "start_time": "2019-10-18T06:35:12.921363",
     "status": "completed"
    },
    "tags": []
   },
   "outputs": [],
   "source": [
    "gene_adata = anndata.AnnData(X=gene_mcds['gene_da'].values,\n",
    "                             obs=pd.DataFrame([], index=gene_mcds.get_index('cell')),\n",
    "                             var=pd.DataFrame([], index=gene_mcds.get_index('gene')))\n",
    "gene_adata.obs['cluster'] = cell_tidy_data[cluster_col_name].astype('category')"
   ]
  },
  {
   "cell_type": "code",
   "execution_count": 10,
   "metadata": {
    "ExecuteTime": {
     "end_time": "2019-10-18T07:19:01.824262Z",
     "start_time": "2019-10-18T07:19:01.821213Z"
    },
    "papermill": {
     "duration": 0.015665,
     "end_time": "2019-10-18T06:35:13.289718",
     "exception": false,
     "start_time": "2019-10-18T06:35:13.274053",
     "status": "completed"
    },
    "tags": []
   },
   "outputs": [],
   "source": [
    "def get_gene_data(gene):\n",
    "    if gene.startswith('ENSMUSG'):\n",
    "        gene_id = gene\n",
    "    else:\n",
    "        gene_id = gene_name_to_id[gene]\n",
    "    gene_data = pd.Series(gene_adata.obs_vector(gene_id), index=gene_adata.obs_names)\n",
    "    return gene_data"
   ]
  },
  {
   "cell_type": "markdown",
   "metadata": {
    "papermill": {
     "duration": 0.009366,
     "end_time": "2019-10-18T06:35:13.308378",
     "exception": false,
     "start_time": "2019-10-18T06:35:13.299012",
     "status": "completed"
    },
    "tags": []
   },
   "source": [
    "## Remove Outliers"
   ]
  },
  {
   "cell_type": "code",
   "execution_count": 11,
   "metadata": {
    "ExecuteTime": {
     "end_time": "2019-10-18T07:19:02.535610Z",
     "start_time": "2019-10-18T07:19:01.825700Z"
    },
    "papermill": {
     "duration": 0.716016,
     "end_time": "2019-10-18T06:35:14.033729",
     "exception": false,
     "start_time": "2019-10-18T06:35:13.317713",
     "status": "completed"
    },
    "tags": []
   },
   "outputs": [],
   "source": [
    "gene_adata = gene_adata[gene_adata.obs['cluster'] != -1, :].copy()\n",
    "gene_adata.obs['cluster'] = gene_adata.obs['cluster'].astype(str).astype(\n",
    "    'category')"
   ]
  },
  {
   "cell_type": "markdown",
   "metadata": {
    "papermill": {
     "duration": 0.009515,
     "end_time": "2019-10-18T06:35:14.053821",
     "exception": false,
     "start_time": "2019-10-18T06:35:14.044306",
     "status": "completed"
    },
    "tags": []
   },
   "source": [
    "## Rank gene groups"
   ]
  },
  {
   "cell_type": "code",
   "execution_count": 12,
   "metadata": {
    "ExecuteTime": {
     "end_time": "2019-10-18T07:19:05.950363Z",
     "start_time": "2019-10-18T07:19:02.537143Z"
    },
    "papermill": {
     "duration": 3.239222,
     "end_time": "2019-10-18T06:35:17.302780",
     "exception": false,
     "start_time": "2019-10-18T06:35:14.063558",
     "status": "completed"
    },
    "tags": []
   },
   "outputs": [],
   "source": [
    "rank_features_groups(adata=gene_adata, \n",
    "                     groupby='cluster',\n",
    "                     groups='all',\n",
    "                     reference='rest',\n",
    "                     n_genes=n_marker_genes,\n",
    "                     rankby_abs=False,\n",
    "                     copy=False,\n",
    "                     corr_method='benjamini-hochberg')\n",
    "\n",
    "name_df = pd.DataFrame(gene_adata.uns['rank_genes_groups']['names'])\n",
    "score_df = pd.DataFrame(gene_adata.uns['rank_genes_groups']['scores'])\n",
    "fold_change_df = pd.DataFrame(gene_adata.uns['rank_genes_groups']['logfoldchanges'])\n",
    "\n",
    "filter_df = pd.DataFrame({'score': score_df.unstack(),\n",
    "                          'log_fold_change': fold_change_df.unstack(),\n",
    "                          'name': name_df.unstack()})\n",
    "filter_df['judge'] = (filter_df['score'] > gene_score_cutoff) & \\\n",
    "                     (filter_df['log_fold_change'].abs() > abs_log_fold_change)\n",
    "\n",
    "selected_ch_features = filter_df[filter_df['judge']]['name'].unique()\n",
    "selected_ch_features = np.unique(np.concatenate([name_df.iloc[:30, :].values.ravel(), selected_ch_features]))\n",
    "\n",
    "name_df.to_msgpack(result_dir / f'{mc_type}_marker_name.msg')\n",
    "score_df.to_msgpack(result_dir / f'{mc_type}_marker_test_score.msg')\n",
    "fold_change_df.to_msgpack(result_dir / f'{mc_type}_marker_fold_change.msg')\n",
    "with open(result_dir / f'{mc_type}_selected_feature.txt', 'w') as f:\n",
    "    for feature in selected_ch_features:\n",
    "        f.write(feature + '\\n')"
   ]
  },
  {
   "cell_type": "code",
   "execution_count": 13,
   "metadata": {
    "ExecuteTime": {
     "end_time": "2019-10-18T07:19:10.488365Z",
     "start_time": "2019-10-18T07:19:05.951851Z"
    },
    "papermill": {
     "duration": 4.641567,
     "end_time": "2019-10-18T06:35:21.955308",
     "exception": false,
     "start_time": "2019-10-18T06:35:17.313741",
     "status": "completed"
    },
    "tags": []
   },
   "outputs": [
    {
     "name": "stdout",
     "output_type": "stream",
     "text": [
      "WARNING: dendrogram data not found (using key=dendrogram_cluster). Running `sc.tl.dendrogram` with default parameters. For fine tuning it is recommended to run `sc.tl.dendrogram` independently.\n",
      "WARNING: You're trying to run this on 55487 dimensions of `.X`, if you really want this, set `use_rep='X'`.\n",
      "         Falling back to preprocessing with `sc.pp.pca` and default params.\n"
     ]
    },
    {
     "name": "stderr",
     "output_type": "stream",
     "text": [
      "findfont: Font family ['sans-serif'] not found. Falling back to DejaVu Sans.\n",
      "findfont: Font family ['sans-serif'] not found. Falling back to DejaVu Sans.\n"
     ]
    },
    {
     "data": {
      "image/png": "[encoded data removed]",
      "text/plain": [
       "<Figure size 1134x158.4 with 5 Axes>"
      ]
     },
     "metadata": {
      "needs_background": "light"
     },
     "output_type": "display_data"
    }
   ],
   "source": [
    "sc.pl.rank_genes_groups_dotplot(gene_adata)"
   ]
  },
  {
   "cell_type": "markdown",
   "metadata": {
    "papermill": {
     "duration": 0.011593,
     "end_time": "2019-10-18T06:35:21.979610",
     "exception": false,
     "start_time": "2019-10-18T06:35:21.968017",
     "status": "completed"
    },
    "tags": []
   },
   "source": [
    "## Plotting"
   ]
  },
  {
   "cell_type": "code",
   "execution_count": 14,
   "metadata": {
    "ExecuteTime": {
     "end_time": "2019-10-18T07:19:10.500072Z",
     "start_time": "2019-10-18T07:19:10.491409Z"
    },
    "papermill": {
     "duration": 0.01978,
     "end_time": "2019-10-18T06:35:22.010823",
     "exception": false,
     "start_time": "2019-10-18T06:35:21.991043",
     "status": "completed"
    },
    "tags": []
   },
   "outputs": [],
   "source": [
    "name_df = pd.read_msgpack(result_dir / f'{mc_type}_marker_name.msg')\n",
    "score_df = pd.read_msgpack(result_dir / f'{mc_type}_marker_test_score.msg')\n",
    "fold_change_df = pd.read_msgpack(result_dir / f'{mc_type}_marker_fold_change.msg')"
   ]
  },
  {
   "cell_type": "code",
   "execution_count": null,
   "metadata": {
    "papermill": {
     "duration": 0.011235,
     "end_time": "2019-10-18T06:35:22.033468",
     "exception": false,
     "start_time": "2019-10-18T06:35:22.022233",
     "status": "completed"
    },
    "scrolled": false,
    "tags": []
   },
   "outputs": [],
   "source": []
  },
  {
   "cell_type": "code",
   "execution_count": null,
   "metadata": {
    "papermill": {
     "duration": 0.011038,
     "end_time": "2019-10-18T06:35:22.055657",
     "exception": false,
     "start_time": "2019-10-18T06:35:22.044619",
     "status": "completed"
    },
    "tags": []
   },
   "outputs": [],
   "source": []
  }
 ],
 "metadata": {
  "hide_input": false,
  "kernelspec": {
   "display_name": "Python 3",
   "language": "python",
   "name": "python3"
  },
  "language_info": {
   "codemirror_mode": {
    "name": "ipython",
    "version": 3
   },
   "file_extension": ".py",
   "mimetype": "text/x-python",
   "name": "python",
   "nbconvert_exporter": "python",
   "pygments_lexer": "ipython3",
   "version": "3.7.3"
  },
  "papermill": {
   "duration": 15.840576,
   "end_time": "2019-10-18T06:35:22.873573",
   "environment_variables": {},
   "exception": null,
   "input_path": "4-MarkerIdentification.ipynb",
   "output_path": "/home/hanliu/project/mouse_rostral_brain/study/Level3-SubCellType/Foxp2/4-MarkerIdentification.ipynb",
   "parameters": {
    "abs_log_fold_change": 1,
    "coord_base": "umap",
    "gene_score_cutoff": 5,
    "load": true,
    "mc_type": "CHN",
    "n_genes": 10,
    "n_marker_genes": 1000,
    "nrows": 2
   },
   "start_time": "2019-10-18T06:35:07.032997",
   "version": "1.0.1"
  },
  "toc": {
   "base_numbering": 1,
   "nav_menu": {},
   "number_sections": true,
   "sideBar": true,
   "skip_h1_title": true,
   "title_cell": "Table of Contents",
   "title_sidebar": "Contents",
   "toc_cell": true,
   "toc_position": {},
   "toc_section_display": true,
   "toc_window_display": true
  }
 },
 "nbformat": 4,
 "nbformat_minor": 2
}
