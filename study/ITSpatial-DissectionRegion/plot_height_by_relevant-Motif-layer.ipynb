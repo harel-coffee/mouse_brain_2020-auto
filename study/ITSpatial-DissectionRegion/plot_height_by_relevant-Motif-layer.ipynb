{
 "cells": [
  {
   "cell_type": "code",
   "execution_count": 31,
   "metadata": {
    "ExecuteTime": {
     "end_time": "2020-03-22T20:00:37.708346Z",
     "start_time": "2020-03-22T20:00:37.705192Z"
    }
   },
   "outputs": [],
   "source": [
    "import re\n",
    "import numpy as np\n",
    "import joblib\n",
    "import matplotlib.pyplot as plt\n",
    "import numpy as np\n",
    "import pandas as pd\n",
    "import seaborn as sns\n",
    "from ALLCools.plot import *\n",
    "from matplotlib import patches\n",
    "from matplotlib.cm import get_cmap\n",
    "from adjustText import adjust_text\n",
    "from matplotlib.colors import ListedColormap, Normalize"
   ]
  },
  {
   "cell_type": "code",
   "execution_count": 32,
   "metadata": {
    "ExecuteTime": {
     "end_time": "2020-03-22T20:00:38.340921Z",
     "start_time": "2020-03-22T20:00:38.337333Z"
    }
   },
   "outputs": [],
   "source": [
    "from matplotlib import rc\n",
    "labelsize = 6\n",
    "linewidth = 0.6\n",
    "rc('lines', linewidth=linewidth)\n",
    "rc('axes', labelsize=labelsize, linewidth=linewidth)\n",
    "rc('xtick', labelsize=labelsize)\n",
    "rc('ytick', labelsize=labelsize)\n",
    "rc('xtick.major', width=linewidth)\n",
    "rc('ytick.major', width=linewidth)\n",
    "rc('xtick.minor', width=linewidth - 0.2)\n",
    "rc('ytick.minor', width=linewidth - 0.2)"
   ]
  },
  {
   "cell_type": "code",
   "execution_count": null,
   "metadata": {},
   "outputs": [],
   "source": []
  },
  {
   "cell_type": "markdown",
   "metadata": {},
   "source": [
    "## Gene metadata"
   ]
  },
  {
   "cell_type": "code",
   "execution_count": 33,
   "metadata": {
    "ExecuteTime": {
     "end_time": "2020-03-22T20:00:39.066377Z",
     "start_time": "2020-03-22T20:00:38.744084Z"
    }
   },
   "outputs": [
    {
     "data": {
      "text/html": [
       "<div>\n",
       "<style scoped>\n",
       "    .dataframe tbody tr th:only-of-type {\n",
       "        vertical-align: middle;\n",
       "    }\n",
       "\n",
       "    .dataframe tbody tr th {\n",
       "        vertical-align: top;\n",
       "    }\n",
       "\n",
       "    .dataframe thead th {\n",
       "        text-align: right;\n",
       "    }\n",
       "</style>\n",
       "<table border=\"1\" class=\"dataframe\">\n",
       "  <thead>\n",
       "    <tr style=\"text-align: right;\">\n",
       "      <th></th>\n",
       "      <th>motif_name</th>\n",
       "      <th>motif_genes</th>\n",
       "      <th>gene_ids</th>\n",
       "      <th>gene_names</th>\n",
       "      <th>motif_group</th>\n",
       "      <th>Class</th>\n",
       "      <th>Family</th>\n",
       "      <th>SubFamily</th>\n",
       "    </tr>\n",
       "    <tr>\n",
       "      <th>motif_uid</th>\n",
       "      <th></th>\n",
       "      <th></th>\n",
       "      <th></th>\n",
       "      <th></th>\n",
       "      <th></th>\n",
       "      <th></th>\n",
       "      <th></th>\n",
       "      <th></th>\n",
       "    </tr>\n",
       "  </thead>\n",
       "  <tbody>\n",
       "    <tr>\n",
       "      <th>MA0006.1</th>\n",
       "      <td>Ahr::Arnt</td>\n",
       "      <td>Ahr,Arnt</td>\n",
       "      <td>ENSMUSG00000019256.17,ENSMUSG00000015522.18</td>\n",
       "      <td>Ahr,Arnt</td>\n",
       "      <td>MotifGroup178</td>\n",
       "      <td>Basic helix-loop-helix factors (bHLH)</td>\n",
       "      <td>PAS</td>\n",
       "      <td>PAS-AHR</td>\n",
       "    </tr>\n",
       "    <tr>\n",
       "      <th>MA0854.1</th>\n",
       "      <td>Alx1</td>\n",
       "      <td>Alx1</td>\n",
       "      <td>ENSMUSG00000036602.14</td>\n",
       "      <td>Alx1</td>\n",
       "      <td>MotifGroup3</td>\n",
       "      <td>Homeo domain factors</td>\n",
       "      <td>Paired-related HD</td>\n",
       "      <td>ALX</td>\n",
       "    </tr>\n",
       "    <tr>\n",
       "      <th>MA0634.1</th>\n",
       "      <td>ALX3</td>\n",
       "      <td>ALX3</td>\n",
       "      <td>ENSMUSG00000014603.3</td>\n",
       "      <td>Alx3</td>\n",
       "      <td>MotifGroup3</td>\n",
       "      <td>Homeo domain factors</td>\n",
       "      <td>Paired-related HD</td>\n",
       "      <td>TPRX</td>\n",
       "    </tr>\n",
       "    <tr>\n",
       "      <th>MA0853.1</th>\n",
       "      <td>Alx4</td>\n",
       "      <td>Alx4</td>\n",
       "      <td>ENSMUSG00000040310.12</td>\n",
       "      <td>Alx4</td>\n",
       "      <td>MotifGroup3</td>\n",
       "      <td>Homeo domain factors</td>\n",
       "      <td>Paired-related HD</td>\n",
       "      <td>ALX</td>\n",
       "    </tr>\n",
       "    <tr>\n",
       "      <th>MA0007.3</th>\n",
       "      <td>Ar</td>\n",
       "      <td>Ar</td>\n",
       "      <td>ENSMUSG00000046532.8</td>\n",
       "      <td>Ar</td>\n",
       "      <td>MotifGroup32</td>\n",
       "      <td>Nuclear receptors with C4 zinc fingers</td>\n",
       "      <td>Steroid hormone receptors</td>\n",
       "      <td>GR-like(NR3C)</td>\n",
       "    </tr>\n",
       "  </tbody>\n",
       "</table>\n",
       "</div>"
      ],
      "text/plain": [
       "          motif_name motif_genes                                     gene_ids  \\\n",
       "motif_uid                                                                       \n",
       "MA0006.1   Ahr::Arnt    Ahr,Arnt  ENSMUSG00000019256.17,ENSMUSG00000015522.18   \n",
       "MA0854.1        Alx1        Alx1                        ENSMUSG00000036602.14   \n",
       "MA0634.1        ALX3        ALX3                         ENSMUSG00000014603.3   \n",
       "MA0853.1        Alx4        Alx4                        ENSMUSG00000040310.12   \n",
       "MA0007.3          Ar          Ar                         ENSMUSG00000046532.8   \n",
       "\n",
       "          gene_names    motif_group                                   Class  \\\n",
       "motif_uid                                                                     \n",
       "MA0006.1    Ahr,Arnt  MotifGroup178   Basic helix-loop-helix factors (bHLH)   \n",
       "MA0854.1        Alx1    MotifGroup3                    Homeo domain factors   \n",
       "MA0634.1        Alx3    MotifGroup3                    Homeo domain factors   \n",
       "MA0853.1        Alx4    MotifGroup3                    Homeo domain factors   \n",
       "MA0007.3          Ar   MotifGroup32  Nuclear receptors with C4 zinc fingers   \n",
       "\n",
       "                              Family      SubFamily  \n",
       "motif_uid                                            \n",
       "MA0006.1                         PAS        PAS-AHR  \n",
       "MA0854.1           Paired-related HD            ALX  \n",
       "MA0634.1           Paired-related HD           TPRX  \n",
       "MA0853.1           Paired-related HD            ALX  \n",
       "MA0007.3   Steroid hormone receptors  GR-like(NR3C)  "
      ]
     },
     "execution_count": 33,
     "metadata": {},
     "output_type": "execute_result"
    }
   ],
   "source": [
    "motif_gene_anno = pd.read_csv(\n",
    "    '/home/hanliu/project/mouse_rostral_brain/study/MotifClustering/JASPAR2020_CORE_vertebrates_non-redundant.mouse_genes.with_motif_group.199.csv', \n",
    "    index_col=0\n",
    ")\n",
    "tf_class = pd.read_csv('/home/hanliu/ref/TFGene/TFClass/TFClass.with_mouse_gene_id.csv')\n",
    "for tf_col in ['Class', 'Family', 'SubFamily']:\n",
    "    gene_class_map = {}\n",
    "    for _, (class_name, genes) in tf_class[[tf_col, 'EnsemblID']].iterrows():\n",
    "        if isinstance(genes, float):\n",
    "            continue\n",
    "        for gene in genes.split(','):\n",
    "            gene_class_map[gene] = class_name\n",
    "    \n",
    "    motif_gene_anno[tf_col] = motif_gene_anno['gene_ids'].apply(lambda i: gene_class_map.get(i.split('.')[0], ''))\n",
    "\n",
    "motif_gene_anno['SubFamily'] = motif_gene_anno['SubFamily'].replace('', np.nan).fillna('unclassified')\n",
    "motif_gene_anno.head()"
   ]
  },
  {
   "cell_type": "markdown",
   "metadata": {},
   "source": [
    "## Cell Tidy Data"
   ]
  },
  {
   "cell_type": "code",
   "execution_count": 4,
   "metadata": {
    "ExecuteTime": {
     "end_time": "2020-03-22T07:13:53.375364Z",
     "start_time": "2020-03-22T07:13:52.895096Z"
    }
   },
   "outputs": [
    {
     "name": "stderr",
     "output_type": "stream",
     "text": [
      "/home/hanliu/miniconda3/envs/clustering/lib/python3.7/site-packages/IPython/core/interactiveshell.py:3326: FutureWarning: The read_msgpack is deprecated and will be removed in a future version.\n",
      "It is recommended to use pyarrow for on-the-wire transmission of pandas objects.\n",
      "  exec(code_obj, self.user_global_ns, self.user_ns)\n"
     ]
    }
   ],
   "source": [
    "cell_tidy_data = pd.read_msgpack(\n",
    "    '/home/hanliu/project/mouse_rostral_brain/study/ClusteringSummary/Summary/TotalClusteringResults.msg'\n",
    ")\n",
    "cell_tidy_data = cell_tidy_data[cell_tidy_data['CellClass'] == 'Exc']\n",
    "cell_tidy_data = cell_tidy_data[\n",
    "    cell_tidy_data['SubType'].apply(lambda i: 'Outlier' not in i)].copy()"
   ]
  },
  {
   "cell_type": "code",
   "execution_count": 5,
   "metadata": {
    "ExecuteTime": {
     "end_time": "2020-03-22T07:13:53.381568Z",
     "start_time": "2020-03-22T07:13:53.376747Z"
    }
   },
   "outputs": [],
   "source": [
    "subtype_palette = pd.read_csv(\n",
    "    '/home/hanliu/project/mouse_rostral_brain/metadata/palette/sub_type.palette.csv',\n",
    "    header=None,\n",
    "    index_col=0,\n",
    "    squeeze=True).to_dict()"
   ]
  },
  {
   "cell_type": "markdown",
   "metadata": {},
   "source": [
    "## Tree and gene assignment"
   ]
  },
  {
   "cell_type": "code",
   "execution_count": 6,
   "metadata": {
    "ExecuteTime": {
     "end_time": "2020-03-22T07:13:53.393361Z",
     "start_time": "2020-03-22T07:13:53.382922Z"
    }
   },
   "outputs": [],
   "source": [
    "dendro = joblib.load(\n",
    "    f'/home/hanliu/project/mouse_rostral_brain/study/ITSpatial-DissectionRegion/DMG/ITSpatial.pvclust.dendrogram.lib'\n",
    ")\n",
    "linkage = pd.read_csv(\n",
    "    f'/home/hanliu/project/mouse_rostral_brain/study/ITSpatial-DissectionRegion/DMG/ITSpatial.pvclust.linkage.csv',\n",
    "    header=0,\n",
    "    index_col=0)\n",
    "node_dict = joblib.load(\n",
    "    '/home/hanliu/project/mouse_rostral_brain/study/ITSpatial-DissectionRegion/DMG/ITSpatial.pvclust.non_singleton_node_dict.lib'\n",
    ")\n",
    "\n",
    "gene_assignment = pd.read_msgpack(\n",
    "    '/home/hanliu/project/mouse_rostral_brain/study/ITSpatial-DissectionRegion/DMR/NodeMotifResults.msg'\n",
    ")"
   ]
  },
  {
   "cell_type": "code",
   "execution_count": 7,
   "metadata": {
    "ExecuteTime": {
     "end_time": "2020-03-22T07:13:53.410588Z",
     "start_time": "2020-03-22T07:13:53.394520Z"
    }
   },
   "outputs": [
    {
     "data": {
      "text/html": [
       "<div>\n",
       "<style scoped>\n",
       "    .dataframe tbody tr th:only-of-type {\n",
       "        vertical-align: middle;\n",
       "    }\n",
       "\n",
       "    .dataframe tbody tr th {\n",
       "        vertical-align: top;\n",
       "    }\n",
       "\n",
       "    .dataframe thead th {\n",
       "        text-align: right;\n",
       "    }\n",
       "</style>\n",
       "<table border=\"1\" class=\"dataframe\">\n",
       "  <thead>\n",
       "    <tr style=\"text-align: right;\">\n",
       "      <th></th>\n",
       "      <th>MA0003.4</th>\n",
       "      <th>MA0018.4</th>\n",
       "      <th>MA0025.2</th>\n",
       "      <th>MA0039.4</th>\n",
       "      <th>MA0032.2</th>\n",
       "      <th>MA0027.2</th>\n",
       "      <th>MA0040.1</th>\n",
       "      <th>MA0019.1</th>\n",
       "      <th>MA0033.2</th>\n",
       "      <th>MA0031.1</th>\n",
       "      <th>...</th>\n",
       "      <th>MA1633.1</th>\n",
       "      <th>MA1635.1</th>\n",
       "      <th>MA1634.1</th>\n",
       "      <th>MA1641.1</th>\n",
       "      <th>MA1648.1</th>\n",
       "      <th>MA1638.1</th>\n",
       "      <th>MA1652.1</th>\n",
       "      <th>MA1653.1</th>\n",
       "      <th>MA1642.1</th>\n",
       "      <th>MA1683.1</th>\n",
       "    </tr>\n",
       "  </thead>\n",
       "  <tbody>\n",
       "    <tr>\n",
       "      <th>142</th>\n",
       "      <td>0.000000</td>\n",
       "      <td>0.003663</td>\n",
       "      <td>-0.043956</td>\n",
       "      <td>0.000000</td>\n",
       "      <td>-0.358974</td>\n",
       "      <td>-0.135531</td>\n",
       "      <td>-0.285714</td>\n",
       "      <td>0.000000</td>\n",
       "      <td>-0.725275</td>\n",
       "      <td>-0.732601</td>\n",
       "      <td>...</td>\n",
       "      <td>0.179487</td>\n",
       "      <td>0.952381</td>\n",
       "      <td>0.208791</td>\n",
       "      <td>0.952381</td>\n",
       "      <td>0.000000</td>\n",
       "      <td>0.831502</td>\n",
       "      <td>0.032967</td>\n",
       "      <td>0.000000</td>\n",
       "      <td>0.838828</td>\n",
       "      <td>-0.736264</td>\n",
       "    </tr>\n",
       "    <tr>\n",
       "      <th>143</th>\n",
       "      <td>0.060847</td>\n",
       "      <td>0.010582</td>\n",
       "      <td>0.000000</td>\n",
       "      <td>0.111111</td>\n",
       "      <td>-0.018519</td>\n",
       "      <td>-0.013228</td>\n",
       "      <td>-0.063492</td>\n",
       "      <td>0.248677</td>\n",
       "      <td>0.058201</td>\n",
       "      <td>0.058201</td>\n",
       "      <td>...</td>\n",
       "      <td>0.854497</td>\n",
       "      <td>0.000000</td>\n",
       "      <td>1.000000</td>\n",
       "      <td>0.005291</td>\n",
       "      <td>-0.267196</td>\n",
       "      <td>-0.587302</td>\n",
       "      <td>0.126984</td>\n",
       "      <td>0.015873</td>\n",
       "      <td>-0.793651</td>\n",
       "      <td>0.052910</td>\n",
       "    </tr>\n",
       "    <tr>\n",
       "      <th>144</th>\n",
       "      <td>0.024887</td>\n",
       "      <td>-0.017345</td>\n",
       "      <td>0.014329</td>\n",
       "      <td>0.046003</td>\n",
       "      <td>0.028658</td>\n",
       "      <td>0.168929</td>\n",
       "      <td>0.092760</td>\n",
       "      <td>-0.267722</td>\n",
       "      <td>0.076923</td>\n",
       "      <td>0.073906</td>\n",
       "      <td>...</td>\n",
       "      <td>0.012066</td>\n",
       "      <td>-0.029412</td>\n",
       "      <td>-0.088989</td>\n",
       "      <td>-0.188537</td>\n",
       "      <td>-0.032428</td>\n",
       "      <td>-0.304676</td>\n",
       "      <td>-0.012066</td>\n",
       "      <td>0.004525</td>\n",
       "      <td>-0.288084</td>\n",
       "      <td>0.075415</td>\n",
       "    </tr>\n",
       "  </tbody>\n",
       "</table>\n",
       "<p>3 rows × 354 columns</p>\n",
       "</div>"
      ],
      "text/plain": [
       "     MA0003.4  MA0018.4  MA0025.2  MA0039.4  MA0032.2  MA0027.2  MA0040.1  \\\n",
       "142  0.000000  0.003663 -0.043956  0.000000 -0.358974 -0.135531 -0.285714   \n",
       "143  0.060847  0.010582  0.000000  0.111111 -0.018519 -0.013228 -0.063492   \n",
       "144  0.024887 -0.017345  0.014329  0.046003  0.028658  0.168929  0.092760   \n",
       "\n",
       "     MA0019.1  MA0033.2  MA0031.1  ...  MA1633.1  MA1635.1  MA1634.1  \\\n",
       "142  0.000000 -0.725275 -0.732601  ...  0.179487  0.952381  0.208791   \n",
       "143  0.248677  0.058201  0.058201  ...  0.854497  0.000000  1.000000   \n",
       "144 -0.267722  0.076923  0.073906  ...  0.012066 -0.029412 -0.088989   \n",
       "\n",
       "     MA1641.1  MA1648.1  MA1638.1  MA1652.1  MA1653.1  MA1642.1  MA1683.1  \n",
       "142  0.952381  0.000000  0.831502  0.032967  0.000000  0.838828 -0.736264  \n",
       "143  0.005291 -0.267196 -0.587302  0.126984  0.015873 -0.793651  0.052910  \n",
       "144 -0.188537 -0.032428 -0.304676 -0.012066  0.004525 -0.288084  0.075415  \n",
       "\n",
       "[3 rows x 354 columns]"
      ]
     },
     "execution_count": 7,
     "metadata": {},
     "output_type": "execute_result"
    }
   ],
   "source": [
    "gene_assignment = gene_assignment[gene_assignment.index >= 142].copy()\n",
    "gene_assignment.tail()"
   ]
  },
  {
   "cell_type": "markdown",
   "metadata": {},
   "source": [
    "## Normalize linkage height to 0-1"
   ]
  },
  {
   "cell_type": "code",
   "execution_count": 8,
   "metadata": {
    "ExecuteTime": {
     "end_time": "2020-03-22T07:13:53.418188Z",
     "start_time": "2020-03-22T07:13:53.412316Z"
    }
   },
   "outputs": [],
   "source": [
    "linkage['2'] = linkage['2'] / linkage['2'].max()"
   ]
  },
  {
   "cell_type": "markdown",
   "metadata": {},
   "source": [
    "## Plot"
   ]
  },
  {
   "cell_type": "code",
   "execution_count": 9,
   "metadata": {
    "ExecuteTime": {
     "end_time": "2020-03-22T07:13:53.432628Z",
     "start_time": "2020-03-22T07:13:53.419479Z"
    }
   },
   "outputs": [
    {
     "name": "stdout",
     "output_type": "stream",
     "text": [
      "(166, 5)\n"
     ]
    }
   ],
   "source": [
    "rs_abs_min = 0.3\n",
    "\n",
    "records = gene_assignment.unstack().reset_index()\n",
    "records.columns = ['gene', 'node', 'relevant_score']\n",
    "use_data = records[records['relevant_score'].abs() > rs_abs_min].reset_index(\n",
    "    drop=True)\n",
    "use_data['relevant_score_abs'] = use_data['relevant_score'].abs()\n",
    "\n",
    "n_leaves = len(dendro['ivl'])\n",
    "node_height = linkage['2'].copy()\n",
    "node_height.index = node_height.index\n",
    "use_data['node_height'] = use_data['node'].map(node_height).reset_index(\n",
    "    drop=True)\n",
    "use_data.head()\n",
    "print(use_data.shape)\n",
    "\n",
    "use_data['impact'] = use_data['relevant_score_abs'] * use_data['node_height']\n",
    "total_rs_data = use_data.groupby('gene')['impact'].sum().sort_values()\n",
    "\n",
    "tf_total_data = use_data.copy()\n",
    "tf_sum_rs = total_rs_data.copy()"
   ]
  },
  {
   "cell_type": "markdown",
   "metadata": {},
   "source": [
    "## TF genes"
   ]
  },
  {
   "cell_type": "code",
   "execution_count": 10,
   "metadata": {
    "ExecuteTime": {
     "end_time": "2020-03-22T07:13:53.437573Z",
     "start_time": "2020-03-22T07:13:53.433784Z"
    }
   },
   "outputs": [],
   "source": [
    "motif_gene_anno['total_rs'] = tf_sum_rs\n",
    "motif_gene_anno = motif_gene_anno.loc[tf_sum_rs.index].copy()"
   ]
  },
  {
   "cell_type": "code",
   "execution_count": 11,
   "metadata": {
    "ExecuteTime": {
     "end_time": "2020-03-22T07:13:53.450174Z",
     "start_time": "2020-03-22T07:13:53.438670Z"
    },
    "scrolled": true
   },
   "outputs": [
    {
     "data": {
      "text/html": [
       "<div>\n",
       "<style scoped>\n",
       "    .dataframe tbody tr th:only-of-type {\n",
       "        vertical-align: middle;\n",
       "    }\n",
       "\n",
       "    .dataframe tbody tr th {\n",
       "        vertical-align: top;\n",
       "    }\n",
       "\n",
       "    .dataframe thead th {\n",
       "        text-align: right;\n",
       "    }\n",
       "</style>\n",
       "<table border=\"1\" class=\"dataframe\">\n",
       "  <thead>\n",
       "    <tr style=\"text-align: right;\">\n",
       "      <th></th>\n",
       "      <th>motif_group</th>\n",
       "      <th>SubFamily</th>\n",
       "      <th>total_rs</th>\n",
       "    </tr>\n",
       "  </thead>\n",
       "  <tbody>\n",
       "    <tr>\n",
       "      <th>0</th>\n",
       "      <td>MotifGroup0</td>\n",
       "      <td>unclassified</td>\n",
       "      <td>0.292933</td>\n",
       "    </tr>\n",
       "    <tr>\n",
       "      <th>1</th>\n",
       "      <td>MotifGroup125</td>\n",
       "      <td>ROR(NR1F)</td>\n",
       "      <td>1.603251</td>\n",
       "    </tr>\n",
       "    <tr>\n",
       "      <th>2</th>\n",
       "      <td>MotifGroup13</td>\n",
       "      <td>POU2</td>\n",
       "      <td>0.382353</td>\n",
       "    </tr>\n",
       "    <tr>\n",
       "      <th>3</th>\n",
       "      <td>MotifGroup13</td>\n",
       "      <td>POU3</td>\n",
       "      <td>0.369532</td>\n",
       "    </tr>\n",
       "    <tr>\n",
       "      <th>4</th>\n",
       "      <td>MotifGroup26</td>\n",
       "      <td>unclassified</td>\n",
       "      <td>0.750431</td>\n",
       "    </tr>\n",
       "    <tr>\n",
       "      <th>5</th>\n",
       "      <td>MotifGroup3</td>\n",
       "      <td>EMX</td>\n",
       "      <td>0.248993</td>\n",
       "    </tr>\n",
       "    <tr>\n",
       "      <th>6</th>\n",
       "      <td>MotifGroup3</td>\n",
       "      <td>HOX1</td>\n",
       "      <td>0.248993</td>\n",
       "    </tr>\n",
       "    <tr>\n",
       "      <th>7</th>\n",
       "      <td>MotifGroup3</td>\n",
       "      <td>HOX2</td>\n",
       "      <td>0.248993</td>\n",
       "    </tr>\n",
       "    <tr>\n",
       "      <th>8</th>\n",
       "      <td>MotifGroup3</td>\n",
       "      <td>HOX5</td>\n",
       "      <td>0.248993</td>\n",
       "    </tr>\n",
       "    <tr>\n",
       "      <th>9</th>\n",
       "      <td>MotifGroup3</td>\n",
       "      <td>PAX4-like</td>\n",
       "      <td>0.260710</td>\n",
       "    </tr>\n",
       "    <tr>\n",
       "      <th>10</th>\n",
       "      <td>MotifGroup3</td>\n",
       "      <td>PRRX</td>\n",
       "      <td>0.300905</td>\n",
       "    </tr>\n",
       "    <tr>\n",
       "      <th>11</th>\n",
       "      <td>MotifGroup3</td>\n",
       "      <td>VSX</td>\n",
       "      <td>0.300905</td>\n",
       "    </tr>\n",
       "    <tr>\n",
       "      <th>12</th>\n",
       "      <td>MotifGroup5</td>\n",
       "      <td>AP4</td>\n",
       "      <td>0.263640</td>\n",
       "    </tr>\n",
       "    <tr>\n",
       "      <th>13</th>\n",
       "      <td>MotifGroup5</td>\n",
       "      <td>ASC</td>\n",
       "      <td>0.719151</td>\n",
       "    </tr>\n",
       "    <tr>\n",
       "      <th>14</th>\n",
       "      <td>MotifGroup5</td>\n",
       "      <td>E2A-like</td>\n",
       "      <td>0.735262</td>\n",
       "    </tr>\n",
       "    <tr>\n",
       "      <th>15</th>\n",
       "      <td>MotifGroup5</td>\n",
       "      <td>MESP</td>\n",
       "      <td>0.793987</td>\n",
       "    </tr>\n",
       "    <tr>\n",
       "      <th>16</th>\n",
       "      <td>MotifGroup5</td>\n",
       "      <td>Myogenic TFs</td>\n",
       "      <td>0.758697</td>\n",
       "    </tr>\n",
       "    <tr>\n",
       "      <th>17</th>\n",
       "      <td>MotifGroup5</td>\n",
       "      <td>Neurogenin-ATO</td>\n",
       "      <td>1.412246</td>\n",
       "    </tr>\n",
       "    <tr>\n",
       "      <th>18</th>\n",
       "      <td>MotifGroup5</td>\n",
       "      <td>Snail-like</td>\n",
       "      <td>0.314821</td>\n",
       "    </tr>\n",
       "    <tr>\n",
       "      <th>19</th>\n",
       "      <td>MotifGroup5</td>\n",
       "      <td>TAL-HEN</td>\n",
       "      <td>1.295647</td>\n",
       "    </tr>\n",
       "    <tr>\n",
       "      <th>20</th>\n",
       "      <td>MotifGroup5</td>\n",
       "      <td>TWIST</td>\n",
       "      <td>0.986987</td>\n",
       "    </tr>\n",
       "    <tr>\n",
       "      <th>21</th>\n",
       "      <td>MotifGroup59</td>\n",
       "      <td>Group E</td>\n",
       "      <td>0.300686</td>\n",
       "    </tr>\n",
       "    <tr>\n",
       "      <th>22</th>\n",
       "      <td>MotifGroup62</td>\n",
       "      <td>MEF2</td>\n",
       "      <td>0.400915</td>\n",
       "    </tr>\n",
       "    <tr>\n",
       "      <th>23</th>\n",
       "      <td>MotifGroup7</td>\n",
       "      <td>FOXA</td>\n",
       "      <td>0.562432</td>\n",
       "    </tr>\n",
       "    <tr>\n",
       "      <th>24</th>\n",
       "      <td>MotifGroup7</td>\n",
       "      <td>FOXB</td>\n",
       "      <td>0.404248</td>\n",
       "    </tr>\n",
       "    <tr>\n",
       "      <th>25</th>\n",
       "      <td>MotifGroup7</td>\n",
       "      <td>FOXC</td>\n",
       "      <td>0.379348</td>\n",
       "    </tr>\n",
       "    <tr>\n",
       "      <th>26</th>\n",
       "      <td>MotifGroup7</td>\n",
       "      <td>FOXD</td>\n",
       "      <td>0.531674</td>\n",
       "    </tr>\n",
       "    <tr>\n",
       "      <th>27</th>\n",
       "      <td>MotifGroup7</td>\n",
       "      <td>FOXF</td>\n",
       "      <td>0.705969</td>\n",
       "    </tr>\n",
       "    <tr>\n",
       "      <th>28</th>\n",
       "      <td>MotifGroup7</td>\n",
       "      <td>FOXG</td>\n",
       "      <td>0.664958</td>\n",
       "    </tr>\n",
       "    <tr>\n",
       "      <th>29</th>\n",
       "      <td>MotifGroup7</td>\n",
       "      <td>FOXI</td>\n",
       "      <td>0.580008</td>\n",
       "    </tr>\n",
       "    <tr>\n",
       "      <th>30</th>\n",
       "      <td>MotifGroup7</td>\n",
       "      <td>FOXJ</td>\n",
       "      <td>0.603442</td>\n",
       "    </tr>\n",
       "    <tr>\n",
       "      <th>31</th>\n",
       "      <td>MotifGroup7</td>\n",
       "      <td>FOXK</td>\n",
       "      <td>0.471622</td>\n",
       "    </tr>\n",
       "    <tr>\n",
       "      <th>32</th>\n",
       "      <td>MotifGroup7</td>\n",
       "      <td>FOXL</td>\n",
       "      <td>0.572684</td>\n",
       "    </tr>\n",
       "    <tr>\n",
       "      <th>33</th>\n",
       "      <td>MotifGroup7</td>\n",
       "      <td>FOXN</td>\n",
       "      <td>0.688393</td>\n",
       "    </tr>\n",
       "    <tr>\n",
       "      <th>34</th>\n",
       "      <td>MotifGroup7</td>\n",
       "      <td>FOXO</td>\n",
       "      <td>0.600513</td>\n",
       "    </tr>\n",
       "    <tr>\n",
       "      <th>35</th>\n",
       "      <td>MotifGroup7</td>\n",
       "      <td>FOXP</td>\n",
       "      <td>0.608324</td>\n",
       "    </tr>\n",
       "    <tr>\n",
       "      <th>36</th>\n",
       "      <td>MotifGroup74</td>\n",
       "      <td>unclassified</td>\n",
       "      <td>0.591725</td>\n",
       "    </tr>\n",
       "    <tr>\n",
       "      <th>37</th>\n",
       "      <td>MotifGroup75</td>\n",
       "      <td>CUX</td>\n",
       "      <td>0.573906</td>\n",
       "    </tr>\n",
       "    <tr>\n",
       "      <th>38</th>\n",
       "      <td>MotifGroup8</td>\n",
       "      <td>ATF3-like</td>\n",
       "      <td>1.218535</td>\n",
       "    </tr>\n",
       "    <tr>\n",
       "      <th>39</th>\n",
       "      <td>MotifGroup8</td>\n",
       "      <td>Fos</td>\n",
       "      <td>1.216326</td>\n",
       "    </tr>\n",
       "    <tr>\n",
       "      <th>40</th>\n",
       "      <td>MotifGroup8</td>\n",
       "      <td>Jun</td>\n",
       "      <td>1.143285</td>\n",
       "    </tr>\n",
       "    <tr>\n",
       "      <th>41</th>\n",
       "      <td>MotifGroup8</td>\n",
       "      <td>NFE2</td>\n",
       "      <td>0.724731</td>\n",
       "    </tr>\n",
       "    <tr>\n",
       "      <th>42</th>\n",
       "      <td>MotifGroup8</td>\n",
       "      <td>R-MAD</td>\n",
       "      <td>1.223370</td>\n",
       "    </tr>\n",
       "    <tr>\n",
       "      <th>43</th>\n",
       "      <td>MotifGroup8</td>\n",
       "      <td>Small MAF</td>\n",
       "      <td>0.619362</td>\n",
       "    </tr>\n",
       "    <tr>\n",
       "      <th>44</th>\n",
       "      <td>MotifGroup8</td>\n",
       "      <td>unclassified</td>\n",
       "      <td>0.971448</td>\n",
       "    </tr>\n",
       "    <tr>\n",
       "      <th>45</th>\n",
       "      <td>MotifGroup81</td>\n",
       "      <td>ROR(NR1F)</td>\n",
       "      <td>1.148504</td>\n",
       "    </tr>\n",
       "    <tr>\n",
       "      <th>46</th>\n",
       "      <td>MotifGroup99</td>\n",
       "      <td>PBX</td>\n",
       "      <td>0.323816</td>\n",
       "    </tr>\n",
       "  </tbody>\n",
       "</table>\n",
       "</div>"
      ],
      "text/plain": [
       "      motif_group       SubFamily  total_rs\n",
       "0     MotifGroup0    unclassified  0.292933\n",
       "1   MotifGroup125       ROR(NR1F)  1.603251\n",
       "2    MotifGroup13            POU2  0.382353\n",
       "3    MotifGroup13            POU3  0.369532\n",
       "4    MotifGroup26    unclassified  0.750431\n",
       "5     MotifGroup3             EMX  0.248993\n",
       "6     MotifGroup3            HOX1  0.248993\n",
       "7     MotifGroup3            HOX2  0.248993\n",
       "8     MotifGroup3            HOX5  0.248993\n",
       "9     MotifGroup3       PAX4-like  0.260710\n",
       "10    MotifGroup3            PRRX  0.300905\n",
       "11    MotifGroup3             VSX  0.300905\n",
       "12    MotifGroup5             AP4  0.263640\n",
       "13    MotifGroup5             ASC  0.719151\n",
       "14    MotifGroup5        E2A-like  0.735262\n",
       "15    MotifGroup5            MESP  0.793987\n",
       "16    MotifGroup5    Myogenic TFs  0.758697\n",
       "17    MotifGroup5  Neurogenin-ATO  1.412246\n",
       "18    MotifGroup5      Snail-like  0.314821\n",
       "19    MotifGroup5         TAL-HEN  1.295647\n",
       "20    MotifGroup5           TWIST  0.986987\n",
       "21   MotifGroup59         Group E  0.300686\n",
       "22   MotifGroup62            MEF2  0.400915\n",
       "23    MotifGroup7            FOXA  0.562432\n",
       "24    MotifGroup7            FOXB  0.404248\n",
       "25    MotifGroup7            FOXC  0.379348\n",
       "26    MotifGroup7            FOXD  0.531674\n",
       "27    MotifGroup7            FOXF  0.705969\n",
       "28    MotifGroup7            FOXG  0.664958\n",
       "29    MotifGroup7            FOXI  0.580008\n",
       "30    MotifGroup7            FOXJ  0.603442\n",
       "31    MotifGroup7            FOXK  0.471622\n",
       "32    MotifGroup7            FOXL  0.572684\n",
       "33    MotifGroup7            FOXN  0.688393\n",
       "34    MotifGroup7            FOXO  0.600513\n",
       "35    MotifGroup7            FOXP  0.608324\n",
       "36   MotifGroup74    unclassified  0.591725\n",
       "37   MotifGroup75             CUX  0.573906\n",
       "38    MotifGroup8       ATF3-like  1.218535\n",
       "39    MotifGroup8             Fos  1.216326\n",
       "40    MotifGroup8             Jun  1.143285\n",
       "41    MotifGroup8            NFE2  0.724731\n",
       "42    MotifGroup8           R-MAD  1.223370\n",
       "43    MotifGroup8       Small MAF  0.619362\n",
       "44    MotifGroup8    unclassified  0.971448\n",
       "45   MotifGroup81       ROR(NR1F)  1.148504\n",
       "46   MotifGroup99             PBX  0.323816"
      ]
     },
     "execution_count": 11,
     "metadata": {},
     "output_type": "execute_result"
    }
   ],
   "source": [
    "motif_gene_anno.groupby(['motif_group', 'SubFamily'])['total_rs'].mean().reset_index()"
   ]
  },
  {
   "cell_type": "code",
   "execution_count": 34,
   "metadata": {
    "ExecuteTime": {
     "end_time": "2020-03-22T20:00:45.676266Z",
     "start_time": "2020-03-22T20:00:45.673519Z"
    }
   },
   "outputs": [
    {
     "data": {
      "text/plain": [
       "(113,)"
      ]
     },
     "execution_count": 34,
     "metadata": {},
     "output_type": "execute_result"
    }
   ],
   "source": [
    "tf_sum_rs.shape"
   ]
  },
  {
   "cell_type": "code",
   "execution_count": 19,
   "metadata": {
    "ExecuteTime": {
     "end_time": "2020-03-22T07:14:27.612831Z",
     "start_time": "2020-03-22T07:14:27.206426Z"
    }
   },
   "outputs": [
    {
     "name": "stderr",
     "output_type": "stream",
     "text": [
      "/home/hanliu/miniconda3/envs/clustering/lib/python3.7/site-packages/numpy/core/fromnumeric.py:61: FutureWarning: Series.nonzero() is deprecated and will be removed in a future version.Use Series.to_numpy().nonzero() instead\n",
      "  return bound(*args, **kwds)\n"
     ]
    },
    {
     "data": {
      "text/plain": [
       "10"
      ]
     },
     "execution_count": 19,
     "metadata": {},
     "output_type": "execute_result"
    },
    {
     "data": {
      "image/png": "[encoded data removed]",
      "text/plain": [
       "<Figure size 600x300 with 1 Axes>"
      ]
     },
     "metadata": {
      "needs_background": "light"
     },
     "output_type": "display_data"
    }
   ],
   "source": [
    "from matplotlib import patches\n",
    "import numpy as np\n",
    "\n",
    "label_y_cutoff = 1.5\n",
    "\n",
    "df = tf_sum_rs[tf_sum_rs > label_y_cutoff]\n",
    "other_count = tf_sum_rs[tf_sum_rs <= label_y_cutoff].size\n",
    "df[f'({other_count} Other TFs)'] = 0.2\n",
    "\n",
    "# c=[groupColors.get(langnameGroup[label],'k') for label in df.index]\n",
    "fig = plt.figure(figsize=(2, 1), dpi=300)\n",
    "gs = fig.add_gridspec(1, 10)\n",
    "\n",
    "ax = fig.add_subplot(gs[0, :])\n",
    "# ax_scatter = fig.add_subplot(gs[0, 9:])\n",
    "\n",
    "ax.axes.get_xaxis().set_visible(False)\n",
    "ax.set_xlim(-40, 0.1)\n",
    "ax.set_ylim(0, 1.5)\n",
    "ax.set_yticks([0, 0.75, 1.5])\n",
    "\n",
    "ax.spines['left'].set_visible(False)\n",
    "ax.spines['top'].set_visible(False)\n",
    "ax.spines['bottom'].set_visible(False)\n",
    "ax.yaxis.set_label_position('right')\n",
    "ax.yaxis.set_ticks_position('right')\n",
    "\n",
    "plt.tight_layout()\n",
    "\n",
    "patch = patches.Rectangle((-0.1, 0), 0.2, 100, fill=False, alpha=0)\n",
    "# We add a rectangle to make sure the labels don't move to the right\n",
    "ax.add_patch(patch)\n",
    "\n",
    "texts = []\n",
    "np.random.seed(0)\n",
    "for label, y in zip(df.index, df):\n",
    "    texts += [\n",
    "        ax.text(\n",
    "            -.1 + np.random.random() / 1000,\n",
    "            y + np.random.random() / 1000,\n",
    "            label,\n",
    "            # A small random shift prevents labels\n",
    "            # which have exactly the same coordinates from being stuck together\n",
    "            # (not a problem in this example really, but wanted to mention this possibility)\n",
    "            color='k',\n",
    "            fontsize=4)\n",
    "    ]\n",
    "adjust_text(\n",
    "    texts,\n",
    "    [0 for _ in df],\n",
    "    df,\n",
    "    ha='left',\n",
    "    va='center',\n",
    "    add_objects=[patch],\n",
    "    expand_text=(1.05, 1),\n",
    "    # We want them to be quite compact, so reducing expansion makes sense\n",
    "    force_text=(0.75, 0),\n",
    "    force_objects=(1, 0),\n",
    "    #With default forces it takes a very long time to converge,\n",
    "    # but higher values still produce very nice output\n",
    "    autoalign=False,\n",
    "    only_move={\n",
    "        'points': 'x',\n",
    "        'text': 'x',\n",
    "        'objects': 'x'\n",
    "    })\n",
    "\n"
   ]
  },
  {
   "cell_type": "code",
   "execution_count": 20,
   "metadata": {
    "ExecuteTime": {
     "end_time": "2020-03-22T07:14:31.203214Z",
     "start_time": "2020-03-22T07:14:31.197762Z"
    }
   },
   "outputs": [
    {
     "data": {
      "text/plain": [
       "(113, 43)"
      ]
     },
     "execution_count": 20,
     "metadata": {},
     "output_type": "execute_result"
    }
   ],
   "source": [
    "tf_sum_rs.size, tf_sum_rs.groupby(motif_gene_anno['SubFamily']).median().size"
   ]
  },
  {
   "cell_type": "code",
   "execution_count": 24,
   "metadata": {
    "ExecuteTime": {
     "end_time": "2020-03-22T07:14:55.205574Z",
     "start_time": "2020-03-22T07:14:55.117634Z"
    }
   },
   "outputs": [
    {
     "data": {
      "image/png": "[encoded data removed]",
      "text/plain": [
       "<Figure size 150x300 with 1 Axes>"
      ]
     },
     "metadata": {
      "needs_background": "light"
     },
     "output_type": "display_data"
    }
   ],
   "source": [
    "fig, ax = plt.subplots(figsize=(0.5, 1), dpi=300)\n",
    "sns.stripplot(y=tf_sum_rs, jitter=0.2, s=1, color='k')\n",
    "sns.despine(ax=ax, bottom=True, left=True, right=False)\n",
    "ax.set_ylabel('Total RS')\n",
    "ax.yaxis.set_label_position('right')\n",
    "ax.yaxis.set_ticks_position('right')\n",
    "ax.set_ylim(0, 1.5)\n",
    "ax.set_yticks([0, 0.9, 1.8])\n",
    "\n",
    "ax.set_xticks([])\n",
    "\n",
    "fig.savefig('Layer.Motif.total_rs.strip_plot.scatter_part.pdf')"
   ]
  },
  {
   "cell_type": "code",
   "execution_count": 25,
   "metadata": {
    "ExecuteTime": {
     "end_time": "2020-03-22T07:15:03.506508Z",
     "start_time": "2020-03-22T07:15:03.502476Z"
    }
   },
   "outputs": [],
   "source": [
    "tf_sum_rs.to_csv('Layer.motif.sum_rs.csv', header=False)"
   ]
  },
  {
   "cell_type": "markdown",
   "metadata": {},
   "source": [
    "## Plot logos\n"
   ]
  },
  {
   "cell_type": "code",
   "execution_count": 29,
   "metadata": {
    "ExecuteTime": {
     "end_time": "2020-03-22T07:15:27.691602Z",
     "start_time": "2020-03-22T07:15:25.700455Z"
    }
   },
   "outputs": [
    {
     "data": {
      "text/plain": [
       "SubFamily\n",
       "ROR(NR1F)         1.591257\n",
       "Neurogenin-ATO    1.522008\n",
       "TAL-HEN           1.295647\n",
       "Fos               1.232158\n",
       "R-MAD             1.223370\n",
       "ATF3-like         1.218535\n",
       "Jun               1.192836\n",
       "TWIST             1.110586\n",
       "Myogenic TFs      0.758697\n",
       "E2A-like          0.735262\n",
       "NFE2              0.724731\n",
       "ASC               0.719151\n",
       "FOXF              0.705969\n",
       "FOXN              0.688393\n",
       "FOXG              0.664958\n",
       "MESP              0.662029\n",
       "Small MAF         0.619362\n",
       "FOXJ              0.603442\n",
       "FOXP              0.600513\n",
       "FOXO              0.580008\n",
       "FOXI              0.580008\n",
       "FOXA              0.577078\n",
       "CUX               0.573906\n",
       "FOXL              0.572684\n",
       "FOXD              0.531674\n",
       "unclassified      0.518492\n",
       "FOXK              0.471622\n",
       "FOXB              0.404248\n",
       "MEF2              0.400915\n",
       "POU2              0.382353\n",
       "Name: impact, dtype: float64"
      ]
     },
     "execution_count": 29,
     "metadata": {},
     "output_type": "execute_result"
    }
   ],
   "source": [
    "from ALLCools.motif.utilities import *\n",
    "\n",
    "pfm_dict = meme_to_pfm_dict(\n",
    "    '/home/hanliu/ref/MEME/selected_motifs_sets/JASPAR2020_CORE_vertebrates_non-redundant_pfms.meme'\n",
    ")\n",
    "\n",
    "use_top = tf_sum_rs.groupby(motif_gene_anno['SubFamily']).median().sort_values(ascending=False)[:30]\n",
    "use_top"
   ]
  },
  {
   "cell_type": "code",
   "execution_count": 30,
   "metadata": {
    "ExecuteTime": {
     "end_time": "2020-03-22T07:15:31.091326Z",
     "start_time": "2020-03-22T07:15:27.693100Z"
    }
   },
   "outputs": [
    {
     "data": {
      "image/png": "[encoded data removed]",
      "text/plain": [
       "<Figure size 450x1080 with 30 Axes>"
      ]
     },
     "metadata": {
      "needs_background": "light"
     },
     "output_type": "display_data"
    }
   ],
   "source": [
    "motifs = tf_sum_rs.groupby(motif_gene_anno['SubFamily']).idxmax().loc[use_top.index]\n",
    "pfms = {k:pfm_dict[v] for k,v in motifs.items()}\n",
    "\n",
    "max_col = max((i.shape[0] for i in pfms.values()))\n",
    "\n",
    "fig = plt.figure(figsize=(1.5, 3.6), dpi=300)\n",
    "\n",
    "gs = fig.add_gridspec(len(pfms), 20)\n",
    "\n",
    "for i, (name, pfm) in enumerate(pfms.items()):\n",
    "    ax = fig.add_subplot(gs[i, :pfm.shape[0]])\n",
    "    plot_pfm(pfm=pfm, ax=ax)\n",
    "    ax.axis('off')\n",
    "    ax.text(0, 0.5, name, fontsize=6,\n",
    "            ha='left', va='center', transform=ax.transAxes)\n",
    "\n",
    "fig.savefig('Layer.Motif.top_logos.pdf')"
   ]
  },
  {
   "cell_type": "code",
   "execution_count": null,
   "metadata": {},
   "outputs": [],
   "source": []
  },
  {
   "cell_type": "code",
   "execution_count": null,
   "metadata": {},
   "outputs": [],
   "source": []
  },
  {
   "cell_type": "code",
   "execution_count": null,
   "metadata": {},
   "outputs": [],
   "source": []
  },
  {
   "cell_type": "code",
   "execution_count": null,
   "metadata": {},
   "outputs": [],
   "source": []
  }
 ],
 "metadata": {
  "hide_input": false,
  "kernelspec": {
   "display_name": "Python 3",
   "language": "python",
   "name": "python3"
  },
  "language_info": {
   "codemirror_mode": {
    "name": "ipython",
    "version": 3
   },
   "file_extension": ".py",
   "mimetype": "text/x-python",
   "name": "python",
   "nbconvert_exporter": "python",
   "pygments_lexer": "ipython3",
   "version": "3.7.3"
  },
  "toc": {
   "base_numbering": 1,
   "nav_menu": {},
   "number_sections": true,
   "sideBar": true,
   "skip_h1_title": true,
   "title_cell": "Table of Contents",
   "title_sidebar": "Contents",
   "toc_cell": false,
   "toc_position": {},
   "toc_section_display": true,
   "toc_window_display": true
  }
 },
 "nbformat": 4,
 "nbformat_minor": 2
}
