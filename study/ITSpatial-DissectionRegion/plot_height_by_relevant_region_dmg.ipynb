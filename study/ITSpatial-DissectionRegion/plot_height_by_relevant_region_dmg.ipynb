{
 "cells": [
  {
   "cell_type": "code",
   "execution_count": 1,
   "metadata": {
    "ExecuteTime": {
     "end_time": "2020-03-22T20:13:36.435164Z",
     "start_time": "2020-03-22T20:13:35.992411Z"
    }
   },
   "outputs": [],
   "source": [
    "import re\n",
    "\n",
    "import joblib\n",
    "import matplotlib.pyplot as plt\n",
    "import numpy as np\n",
    "import pandas as pd\n",
    "import seaborn as sns\n",
    "from ALLCools.plot import *\n",
    "from matplotlib import patches\n",
    "from matplotlib.cm import get_cmap\n",
    "from matplotlib.colors import ListedColormap, Normalize"
   ]
  },
  {
   "cell_type": "code",
   "execution_count": 2,
   "metadata": {
    "ExecuteTime": {
     "end_time": "2020-03-22T20:13:36.440609Z",
     "start_time": "2020-03-22T20:13:36.436936Z"
    }
   },
   "outputs": [],
   "source": [
    "from matplotlib import rc\n",
    "labelsize = 6\n",
    "linewidth = 0.6\n",
    "rc('lines', linewidth=linewidth)\n",
    "rc('axes', labelsize=labelsize, linewidth=linewidth)\n",
    "rc('xtick', labelsize=labelsize)\n",
    "rc('ytick', labelsize=labelsize)\n",
    "rc('xtick.major', width=linewidth)\n",
    "rc('ytick.major', width=linewidth)\n",
    "rc('xtick.minor', width=linewidth - 0.2)\n",
    "rc('ytick.minor', width=linewidth - 0.2)"
   ]
  },
  {
   "cell_type": "code",
   "execution_count": null,
   "metadata": {},
   "outputs": [],
   "source": []
  },
  {
   "cell_type": "markdown",
   "metadata": {},
   "source": [
    "## Gene metadata"
   ]
  },
  {
   "cell_type": "code",
   "execution_count": 3,
   "metadata": {
    "ExecuteTime": {
     "end_time": "2020-03-22T20:13:36.724173Z",
     "start_time": "2020-03-22T20:13:36.442004Z"
    }
   },
   "outputs": [],
   "source": [
    "gene_meta = pd.read_csv(\n",
    "    '/home/hanliu/ref/mouse/gencode/vm22/gencode.vM22.annotation.gene.flat.tsv.gz',\n",
    "    sep='\\t',\n",
    "    index_col='gene_id')\n",
    "gene_name_to_id = {v: k for k, v in gene_meta['gene_name'].items()}\n",
    "\n",
    "tf_genes = pd.read_csv(\n",
    "    '/home/hanliu/ref/TFGene/TFClass/TFClass.with_mouse_gene_id.csv',\n",
    "    index_col=0)\n",
    "tf_genes = set(','.join(tf_genes['EnsemblID'].dropna()).split(','))\n",
    "gene_meta['is_tf'] = gene_meta.index.map(lambda i: i.split('.')[0] in tf_genes)\n",
    "\n",
    "zfp_pattern = r'Zfp\\d+'\n",
    "p = re.compile(zfp_pattern)\n",
    "gene_meta.loc[gene_meta['gene_name'].apply(lambda i: p.search(i) is not None\n",
    "                                           ), 'is_tf'] = True\n",
    "tf_gene_names = set(gene_meta[gene_meta['is_tf']]['gene_name'].tolist())"
   ]
  },
  {
   "cell_type": "code",
   "execution_count": 4,
   "metadata": {
    "ExecuteTime": {
     "end_time": "2020-03-22T20:13:36.759125Z",
     "start_time": "2020-03-22T20:13:36.725556Z"
    }
   },
   "outputs": [],
   "source": [
    "remove_gene_pattern = r'(Gm\\d+)|(.+Rik)'\n",
    "p = re.compile(remove_gene_pattern)\n",
    "\n",
    "keep_gene = gene_meta[\n",
    "    gene_meta['gene_name'].apply(lambda i: p.search(i) is None)].index"
   ]
  },
  {
   "cell_type": "markdown",
   "metadata": {},
   "source": [
    "## Cell Tidy Data"
   ]
  },
  {
   "cell_type": "code",
   "execution_count": 5,
   "metadata": {
    "ExecuteTime": {
     "end_time": "2020-03-22T20:13:37.228278Z",
     "start_time": "2020-03-22T20:13:36.760421Z"
    }
   },
   "outputs": [
    {
     "name": "stderr",
     "output_type": "stream",
     "text": [
      "/home/hanliu/miniconda3/envs/clustering/lib/python3.7/site-packages/IPython/core/interactiveshell.py:3326: FutureWarning: The read_msgpack is deprecated and will be removed in a future version.\n",
      "It is recommended to use pyarrow for on-the-wire transmission of pandas objects.\n",
      "  exec(code_obj, self.user_global_ns, self.user_ns)\n"
     ]
    }
   ],
   "source": [
    "cell_tidy_data = pd.read_msgpack(\n",
    "    '/home/hanliu/project/mouse_rostral_brain/study/ClusteringSummary/Summary/TotalClusteringResults.msg'\n",
    ")\n",
    "cell_tidy_data = cell_tidy_data[cell_tidy_data['CellClass'] == 'Exc']\n",
    "cell_tidy_data = cell_tidy_data[\n",
    "    cell_tidy_data['SubType'].apply(lambda i: 'Outlier' not in i)].copy()"
   ]
  },
  {
   "cell_type": "code",
   "execution_count": 6,
   "metadata": {
    "ExecuteTime": {
     "end_time": "2020-03-22T20:13:37.234370Z",
     "start_time": "2020-03-22T20:13:37.229692Z"
    }
   },
   "outputs": [],
   "source": [
    "subtype_palette = pd.read_csv(\n",
    "    '/home/hanliu/project/mouse_rostral_brain/metadata/palette/sub_type.palette.csv',\n",
    "    header=None,\n",
    "    index_col=0,\n",
    "    squeeze=True).to_dict()"
   ]
  },
  {
   "cell_type": "markdown",
   "metadata": {},
   "source": [
    "## Tree and gene assignment"
   ]
  },
  {
   "cell_type": "code",
   "execution_count": 7,
   "metadata": {
    "ExecuteTime": {
     "end_time": "2020-03-22T20:13:37.262704Z",
     "start_time": "2020-03-22T20:13:37.235639Z"
    }
   },
   "outputs": [],
   "source": [
    "dendro = joblib.load(\n",
    "    f'/home/hanliu/project/mouse_rostral_brain/study/ITSpatial-DissectionRegion/DMG/ITSpatial.pvclust.dendrogram.lib'\n",
    ")\n",
    "linkage = pd.read_csv(\n",
    "    f'/home/hanliu/project/mouse_rostral_brain/study/ITSpatial-DissectionRegion/DMG/ITSpatial.pvclust.linkage.csv',\n",
    "    header=0,\n",
    "    index_col=0)\n",
    "node_dict = joblib.load(\n",
    "    '/home/hanliu/project/mouse_rostral_brain/study/ITSpatial-DissectionRegion/DMG/ITSpatial.pvclust.non_singleton_node_dict.lib'\n",
    ")\n",
    "\n",
    "gene_assignment = pd.read_msgpack(\n",
    "    '/home/hanliu/project/mouse_rostral_brain/study/ITSpatial-DissectionRegion/DMG/NodeGeneResults.msg'\n",
    ")\n",
    "gene_assignment = gene_assignment.loc[:,\n",
    "                                      gene_assignment.columns.isin(keep_gene\n",
    "                                                                   )].copy()\n",
    "gene_assignment.columns = gene_assignment.columns.map(gene_meta['gene_name'])"
   ]
  },
  {
   "cell_type": "code",
   "execution_count": 8,
   "metadata": {
    "ExecuteTime": {
     "end_time": "2020-03-22T20:13:37.284747Z",
     "start_time": "2020-03-22T20:13:37.264752Z"
    }
   },
   "outputs": [
    {
     "data": {
      "text/html": [
       "<div>\n",
       "<style scoped>\n",
       "    .dataframe tbody tr th:only-of-type {\n",
       "        vertical-align: middle;\n",
       "    }\n",
       "\n",
       "    .dataframe tbody tr th {\n",
       "        vertical-align: top;\n",
       "    }\n",
       "\n",
       "    .dataframe thead th {\n",
       "        text-align: right;\n",
       "    }\n",
       "</style>\n",
       "<table border=\"1\" class=\"dataframe\">\n",
       "  <thead>\n",
       "    <tr style=\"text-align: right;\">\n",
       "      <th></th>\n",
       "      <th>Ptprk</th>\n",
       "      <th>Camk2g</th>\n",
       "      <th>Sardh</th>\n",
       "      <th>Mgat4c</th>\n",
       "      <th>Cpm</th>\n",
       "      <th>Tiam2</th>\n",
       "      <th>Plau</th>\n",
       "      <th>Vav2</th>\n",
       "      <th>Reep3</th>\n",
       "      <th>Grb10</th>\n",
       "      <th>...</th>\n",
       "      <th>AC157784.1</th>\n",
       "      <th>AC131065.4</th>\n",
       "      <th>CT009536.1</th>\n",
       "      <th>AC132307.2</th>\n",
       "      <th>AC152452.1</th>\n",
       "      <th>AC171003.1</th>\n",
       "      <th>AC163685.1</th>\n",
       "      <th>AC125126.1</th>\n",
       "      <th>AL929073.1</th>\n",
       "      <th>Gpr52</th>\n",
       "    </tr>\n",
       "  </thead>\n",
       "  <tbody>\n",
       "    <tr>\n",
       "      <th>137</th>\n",
       "      <td>0.0</td>\n",
       "      <td>0.0</td>\n",
       "      <td>0.0</td>\n",
       "      <td>0.0</td>\n",
       "      <td>0.0</td>\n",
       "      <td>0.000000</td>\n",
       "      <td>0.0</td>\n",
       "      <td>0.0</td>\n",
       "      <td>0.0</td>\n",
       "      <td>0.000000</td>\n",
       "      <td>...</td>\n",
       "      <td>0.000000</td>\n",
       "      <td>0.0</td>\n",
       "      <td>0.0</td>\n",
       "      <td>0.0</td>\n",
       "      <td>0.0</td>\n",
       "      <td>0.0</td>\n",
       "      <td>0.0</td>\n",
       "      <td>0.000000</td>\n",
       "      <td>0.0</td>\n",
       "      <td>0.000000</td>\n",
       "    </tr>\n",
       "    <tr>\n",
       "      <th>138</th>\n",
       "      <td>0.0</td>\n",
       "      <td>0.0</td>\n",
       "      <td>0.0</td>\n",
       "      <td>0.0</td>\n",
       "      <td>0.0</td>\n",
       "      <td>0.000000</td>\n",
       "      <td>0.0</td>\n",
       "      <td>0.0</td>\n",
       "      <td>0.0</td>\n",
       "      <td>0.000000</td>\n",
       "      <td>...</td>\n",
       "      <td>0.038961</td>\n",
       "      <td>0.0</td>\n",
       "      <td>0.0</td>\n",
       "      <td>0.0</td>\n",
       "      <td>0.0</td>\n",
       "      <td>0.0</td>\n",
       "      <td>0.0</td>\n",
       "      <td>0.000000</td>\n",
       "      <td>0.0</td>\n",
       "      <td>0.000000</td>\n",
       "    </tr>\n",
       "    <tr>\n",
       "      <th>139</th>\n",
       "      <td>0.0</td>\n",
       "      <td>0.0</td>\n",
       "      <td>0.0</td>\n",
       "      <td>0.0</td>\n",
       "      <td>0.0</td>\n",
       "      <td>0.000000</td>\n",
       "      <td>0.0</td>\n",
       "      <td>0.0</td>\n",
       "      <td>0.0</td>\n",
       "      <td>0.000000</td>\n",
       "      <td>...</td>\n",
       "      <td>0.000000</td>\n",
       "      <td>0.0</td>\n",
       "      <td>0.0</td>\n",
       "      <td>0.0</td>\n",
       "      <td>0.0</td>\n",
       "      <td>0.0</td>\n",
       "      <td>0.0</td>\n",
       "      <td>0.000000</td>\n",
       "      <td>0.0</td>\n",
       "      <td>0.000000</td>\n",
       "    </tr>\n",
       "    <tr>\n",
       "      <th>140</th>\n",
       "      <td>0.0</td>\n",
       "      <td>0.0</td>\n",
       "      <td>0.0</td>\n",
       "      <td>0.0</td>\n",
       "      <td>0.0</td>\n",
       "      <td>0.342593</td>\n",
       "      <td>0.0</td>\n",
       "      <td>0.0</td>\n",
       "      <td>0.0</td>\n",
       "      <td>0.018519</td>\n",
       "      <td>...</td>\n",
       "      <td>0.074074</td>\n",
       "      <td>0.0</td>\n",
       "      <td>0.0</td>\n",
       "      <td>0.0</td>\n",
       "      <td>0.0</td>\n",
       "      <td>0.0</td>\n",
       "      <td>0.0</td>\n",
       "      <td>0.092593</td>\n",
       "      <td>0.0</td>\n",
       "      <td>0.027778</td>\n",
       "    </tr>\n",
       "    <tr>\n",
       "      <th>141</th>\n",
       "      <td>0.0</td>\n",
       "      <td>0.0</td>\n",
       "      <td>0.0</td>\n",
       "      <td>0.0</td>\n",
       "      <td>0.0</td>\n",
       "      <td>0.000000</td>\n",
       "      <td>0.0</td>\n",
       "      <td>0.0</td>\n",
       "      <td>0.0</td>\n",
       "      <td>0.000000</td>\n",
       "      <td>...</td>\n",
       "      <td>0.011111</td>\n",
       "      <td>0.0</td>\n",
       "      <td>0.0</td>\n",
       "      <td>0.0</td>\n",
       "      <td>0.0</td>\n",
       "      <td>0.0</td>\n",
       "      <td>0.0</td>\n",
       "      <td>0.000000</td>\n",
       "      <td>0.0</td>\n",
       "      <td>0.000000</td>\n",
       "    </tr>\n",
       "  </tbody>\n",
       "</table>\n",
       "<p>5 rows × 3341 columns</p>\n",
       "</div>"
      ],
      "text/plain": [
       "     Ptprk  Camk2g  Sardh  Mgat4c  Cpm     Tiam2  Plau  Vav2  Reep3     Grb10  \\\n",
       "137    0.0     0.0    0.0     0.0  0.0  0.000000   0.0   0.0    0.0  0.000000   \n",
       "138    0.0     0.0    0.0     0.0  0.0  0.000000   0.0   0.0    0.0  0.000000   \n",
       "139    0.0     0.0    0.0     0.0  0.0  0.000000   0.0   0.0    0.0  0.000000   \n",
       "140    0.0     0.0    0.0     0.0  0.0  0.342593   0.0   0.0    0.0  0.018519   \n",
       "141    0.0     0.0    0.0     0.0  0.0  0.000000   0.0   0.0    0.0  0.000000   \n",
       "\n",
       "     ...  AC157784.1  AC131065.4  CT009536.1  AC132307.2  AC152452.1  \\\n",
       "137  ...    0.000000         0.0         0.0         0.0         0.0   \n",
       "138  ...    0.038961         0.0         0.0         0.0         0.0   \n",
       "139  ...    0.000000         0.0         0.0         0.0         0.0   \n",
       "140  ...    0.074074         0.0         0.0         0.0         0.0   \n",
       "141  ...    0.011111         0.0         0.0         0.0         0.0   \n",
       "\n",
       "     AC171003.1  AC163685.1  AC125126.1  AL929073.1     Gpr52  \n",
       "137         0.0         0.0    0.000000         0.0  0.000000  \n",
       "138         0.0         0.0    0.000000         0.0  0.000000  \n",
       "139         0.0         0.0    0.000000         0.0  0.000000  \n",
       "140         0.0         0.0    0.092593         0.0  0.027778  \n",
       "141         0.0         0.0    0.000000         0.0  0.000000  \n",
       "\n",
       "[5 rows x 3341 columns]"
      ]
     },
     "execution_count": 8,
     "metadata": {},
     "output_type": "execute_result"
    }
   ],
   "source": [
    "gene_assignment = gene_assignment[gene_assignment.index < 142].copy()\n",
    "gene_assignment.tail()"
   ]
  },
  {
   "cell_type": "code",
   "execution_count": null,
   "metadata": {},
   "outputs": [],
   "source": []
  },
  {
   "cell_type": "code",
   "execution_count": 9,
   "metadata": {
    "ExecuteTime": {
     "end_time": "2020-03-22T20:13:37.291140Z",
     "start_time": "2020-03-22T20:13:37.286123Z"
    }
   },
   "outputs": [],
   "source": [
    "tf_gene_assignment = gene_assignment.loc[:,\n",
    "                                         gene_assignment.columns.\n",
    "                                         isin(tf_gene_names)]\n",
    "other_gene_assignment = gene_assignment.loc[:, ~gene_assignment.columns.\n",
    "                                            isin(tf_gene_names)]"
   ]
  },
  {
   "cell_type": "markdown",
   "metadata": {},
   "source": [
    "## Normalize linkage height to 0-1"
   ]
  },
  {
   "cell_type": "code",
   "execution_count": 10,
   "metadata": {
    "ExecuteTime": {
     "end_time": "2020-03-22T20:13:37.297794Z",
     "start_time": "2020-03-22T20:13:37.292279Z"
    }
   },
   "outputs": [],
   "source": [
    "linkage['2'] = linkage['2'] / linkage['2'].max()"
   ]
  },
  {
   "cell_type": "markdown",
   "metadata": {},
   "source": [
    "## Plot"
   ]
  },
  {
   "cell_type": "code",
   "execution_count": 11,
   "metadata": {
    "ExecuteTime": {
     "end_time": "2020-03-22T20:13:37.311801Z",
     "start_time": "2020-03-22T20:13:37.298907Z"
    }
   },
   "outputs": [
    {
     "name": "stdout",
     "output_type": "stream",
     "text": [
      "(97, 5)\n"
     ]
    }
   ],
   "source": [
    "rs_abs_min = 0.3\n",
    "\n",
    "records = tf_gene_assignment.unstack().reset_index()\n",
    "records.columns = ['gene', 'node', 'relevant_score']\n",
    "use_data = records[records['relevant_score'].abs() > rs_abs_min].reset_index(\n",
    "    drop=True)\n",
    "use_data['relevant_score_abs'] = use_data['relevant_score'].abs()\n",
    "\n",
    "n_leaves = len(dendro['ivl'])\n",
    "node_height = linkage['2'].copy()\n",
    "node_height.index = node_height.index\n",
    "use_data['node_height'] = use_data['node'].map(node_height).reset_index(\n",
    "    drop=True)\n",
    "use_data.head()\n",
    "print(use_data.shape)\n",
    "\n",
    "use_data['impact'] = use_data['relevant_score_abs'] * use_data['node_height']\n",
    "total_rs_data = use_data.groupby('gene')['impact'].sum().sort_values()\n",
    "\n",
    "tf_total_data = use_data\n",
    "tf_sum_rs = total_rs_data"
   ]
  },
  {
   "cell_type": "code",
   "execution_count": null,
   "metadata": {},
   "outputs": [],
   "source": []
  },
  {
   "cell_type": "code",
   "execution_count": 12,
   "metadata": {
    "ExecuteTime": {
     "end_time": "2020-03-22T20:13:37.334459Z",
     "start_time": "2020-03-22T20:13:37.312919Z"
    }
   },
   "outputs": [
    {
     "name": "stdout",
     "output_type": "stream",
     "text": [
      "(529, 5)\n"
     ]
    }
   ],
   "source": [
    "records = other_gene_assignment.unstack().reset_index()\n",
    "records.columns = ['gene', 'node', 'relevant_score']\n",
    "use_data = records[records['relevant_score'].abs() > rs_abs_min].reset_index(\n",
    "    drop=True)\n",
    "use_data['relevant_score_abs'] = use_data['relevant_score'].abs()\n",
    "\n",
    "n_leaves = len(dendro['ivl'])\n",
    "node_height = linkage['2'].copy()\n",
    "node_height.index = node_height.index\n",
    "use_data['node_height'] = use_data['node'].map(node_height).reset_index(\n",
    "    drop=True)\n",
    "use_data.head()\n",
    "print(use_data.shape)\n",
    "\n",
    "use_data['impact'] = use_data['relevant_score_abs'] * use_data['node_height']\n",
    "total_rs_data = use_data.groupby('gene')['impact'].sum().sort_values()\n",
    "\n",
    "other_total_data = use_data\n",
    "other_sum_rs = total_rs_data"
   ]
  },
  {
   "cell_type": "code",
   "execution_count": 13,
   "metadata": {
    "ExecuteTime": {
     "end_time": "2020-03-22T20:13:37.338044Z",
     "start_time": "2020-03-22T20:13:37.335616Z"
    }
   },
   "outputs": [],
   "source": [
    "from adjustText import adjust_text"
   ]
  },
  {
   "cell_type": "code",
   "execution_count": 14,
   "metadata": {
    "ExecuteTime": {
     "end_time": "2020-01-28T20:45:44.367867Z",
     "start_time": "2020-01-28T20:45:32.973624Z"
    },
    "deletable": false,
    "editable": false,
    "run_control": {
     "frozen": true
    },
    "scrolled": true
   },
   "outputs": [
    {
     "data": {
      "image/png": "[encoded data removed]",
      "text/plain": [
       "<Figure size 450x600 with 1 Axes>"
      ]
     },
     "metadata": {
      "needs_background": "light"
     },
     "output_type": "display_data"
    }
   ],
   "source": [
    "fig, ax = plt.subplots(figsize=(1.5, 2), dpi=300)\n",
    "\n",
    "sns.scatterplot(data=use_data,\n",
    "                ax=ax,\n",
    "                s=2,\n",
    "                color='k',\n",
    "                linewidth=0,\n",
    "                x='relevant_score_abs',\n",
    "                y='node_height')\n",
    "\n",
    "texts = []\n",
    "plot_names = use_data['gene'].value_counts()[:10].index\n",
    "for _, row in use_data.iterrows():\n",
    "    if row['gene'] not in plot_names:\n",
    "        continue\n",
    "    t = ax.text(row['relevant_score_abs'],\n",
    "                row['node_height'],\n",
    "                row['gene'],\n",
    "                ha='center',\n",
    "                va='center',\n",
    "                fontsize=4)\n",
    "    texts.append(t)\n",
    "\n",
    "adjust_text(texts)\n",
    "\n",
    "sns.despine(ax=ax, offset=10)"
   ]
  },
  {
   "cell_type": "markdown",
   "metadata": {},
   "source": [
    "## TF genes"
   ]
  },
  {
   "cell_type": "code",
   "execution_count": 14,
   "metadata": {
    "ExecuteTime": {
     "end_time": "2020-03-22T20:13:37.343573Z",
     "start_time": "2020-03-22T20:13:37.339204Z"
    }
   },
   "outputs": [
    {
     "data": {
      "text/plain": [
       "gene\n",
       "Etv6      0.018911\n",
       "Meis2     0.014850\n",
       "Mkx       0.010833\n",
       "Satb1     0.010536\n",
       "Tshz3     0.009294\n",
       "Trps1     0.009210\n",
       "Rora      0.008426\n",
       "Zbtb16    0.008410\n",
       "Zic4      0.008255\n",
       "Smad1     0.007637\n",
       "Cux1      0.006702\n",
       "Nfib      0.005727\n",
       "Name: impact, dtype: float64"
      ]
     },
     "execution_count": 14,
     "metadata": {},
     "output_type": "execute_result"
    }
   ],
   "source": [
    "(tf_sum_rs / len(node_dict)).sort_values(ascending=False)[:12]"
   ]
  },
  {
   "cell_type": "code",
   "execution_count": 15,
   "metadata": {
    "ExecuteTime": {
     "end_time": "2020-03-22T20:13:37.348653Z",
     "start_time": "2020-03-22T20:13:37.344698Z"
    }
   },
   "outputs": [
    {
     "data": {
      "text/plain": [
       "gene\n",
       "Sox6      0.061292\n",
       "Runx2     0.069950\n",
       "Nr4a3     0.076656\n",
       "Bcl11b    0.096343\n",
       "Hivep1    0.102208\n",
       "Zeb2      0.103153\n",
       "Zfp462    0.103153\n",
       "Nfix      0.123222\n",
       "Grhl1     0.140819\n",
       "Emx1      0.145361\n",
       "Adam19    0.154730\n",
       "Lhx2      0.237433\n",
       "Rorb      0.245074\n",
       "Zfpm2     0.257883\n",
       "Nfia      0.268690\n",
       "Bcl11a    0.273391\n",
       "Tox       0.297156\n",
       "Zfp608    0.303353\n",
       "Nr3c1     0.329000\n",
       "Barx2     0.375679\n",
       "Jdp2      0.404444\n",
       "Nfib      0.412330\n",
       "Cux1      0.482556\n",
       "Smad1     0.549861\n",
       "Zic4      0.594384\n",
       "Zbtb16    0.605487\n",
       "Rora      0.606697\n",
       "Trps1     0.663119\n",
       "Tshz3     0.669174\n",
       "Satb1     0.758581\n",
       "Mkx       0.779989\n",
       "Meis2     1.069232\n",
       "Etv6      1.361617\n",
       "Name: impact, dtype: float64"
      ]
     },
     "execution_count": 15,
     "metadata": {},
     "output_type": "execute_result"
    }
   ],
   "source": [
    "tf_sum_rs[tf_sum_rs > 0.05]"
   ]
  },
  {
   "cell_type": "code",
   "execution_count": 35,
   "metadata": {
    "ExecuteTime": {
     "end_time": "2020-03-22T20:24:35.938992Z",
     "start_time": "2020-03-22T20:24:35.934492Z"
    }
   },
   "outputs": [
    {
     "data": {
      "text/plain": [
       "gene\n",
       "Etv6      1.361617\n",
       "Meis2     1.069232\n",
       "Mkx       0.779989\n",
       "Satb1     0.758581\n",
       "Tshz3     0.669174\n",
       "Trps1     0.663119\n",
       "Rora      0.606697\n",
       "Zbtb16    0.605487\n",
       "Zic4      0.594384\n",
       "Smad1     0.549861\n",
       "Cux1      0.482556\n",
       "Nfib      0.412330\n",
       "Jdp2      0.404444\n",
       "Barx2     0.375679\n",
       "Nr3c1     0.329000\n",
       "Zfp608    0.303353\n",
       "Tox       0.297156\n",
       "Bcl11a    0.273391\n",
       "Nfia      0.268690\n",
       "Zfpm2     0.257883\n",
       "Rorb      0.245074\n",
       "Lhx2      0.237433\n",
       "Adam19    0.154730\n",
       "Emx1      0.145361\n",
       "Grhl1     0.140819\n",
       "Nfix      0.123222\n",
       "Zfp462    0.103153\n",
       "Zeb2      0.103153\n",
       "Hivep1    0.102208\n",
       "Bcl11b    0.096343\n",
       "Nr4a3     0.076656\n",
       "Runx2     0.069950\n",
       "Sox6      0.061292\n",
       "Name: impact, dtype: float64"
      ]
     },
     "execution_count": 35,
     "metadata": {},
     "output_type": "execute_result"
    }
   ],
   "source": [
    "tf_sum_rs.sort_values(ascending=False)[:]"
   ]
  },
  {
   "cell_type": "code",
   "execution_count": 38,
   "metadata": {
    "ExecuteTime": {
     "end_time": "2020-03-22T20:24:59.817207Z",
     "start_time": "2020-03-22T20:24:59.813520Z"
    }
   },
   "outputs": [
    {
     "name": "stdout",
     "output_type": "stream",
     "text": [
      "Mkx\n",
      "Trps1\n",
      "Zic4\n",
      "Nfib\n",
      "Nr3c1\n",
      "Bcl11a\n",
      "Rorb\n",
      "Emx1\n",
      "Zfp462\n",
      "Bcl11b\n",
      "Sox6\n"
     ]
    }
   ],
   "source": [
    "for i in tf_sum_rs.sort_values(ascending=False)[2::3].index:\n",
    "    print(i)"
   ]
  },
  {
   "cell_type": "code",
   "execution_count": 18,
   "metadata": {
    "ExecuteTime": {
     "end_time": "2020-03-22T20:13:38.418633Z",
     "start_time": "2020-03-22T20:13:37.358642Z"
    }
   },
   "outputs": [
    {
     "name": "stderr",
     "output_type": "stream",
     "text": [
      "/home/hanliu/miniconda3/envs/clustering/lib/python3.7/site-packages/numpy/core/fromnumeric.py:61: FutureWarning: Series.nonzero() is deprecated and will be removed in a future version.Use Series.to_numpy().nonzero() instead\n",
      "  return bound(*args, **kwds)\n"
     ]
    },
    {
     "data": {
      "image/png": "[encoded data removed]",
      "text/plain": [
       "<Figure size 600x300 with 1 Axes>"
      ]
     },
     "metadata": {
      "needs_background": "light"
     },
     "output_type": "display_data"
    }
   ],
   "source": [
    "from matplotlib import patches\n",
    "import numpy as np\n",
    "\n",
    "label_y_cutoff = 0.3\n",
    "\n",
    "df = tf_sum_rs[tf_sum_rs > label_y_cutoff]\n",
    "other_count = tf_sum_rs[tf_sum_rs <= label_y_cutoff].size\n",
    "df[f'({other_count} Other TFs)'] = 0.2\n",
    "\n",
    "# c=[groupColors.get(langnameGroup[label],'k') for label in df.index]\n",
    "fig = plt.figure(figsize=(2, 1), dpi=300)\n",
    "gs = fig.add_gridspec(1, 10)\n",
    "\n",
    "ax = fig.add_subplot(gs[0, :])\n",
    "# ax_scatter = fig.add_subplot(gs[0, 9:])\n",
    "\n",
    "ax.axes.get_xaxis().set_visible(False)\n",
    "ax.set_xlim(-40, 0.1)\n",
    "ax.set_ylim(0, 1.5)\n",
    "ax.set_yticks([0, 0.75, 1.5])\n",
    "\n",
    "ax.spines['left'].set_visible(False)\n",
    "ax.spines['top'].set_visible(False)\n",
    "ax.spines['bottom'].set_visible(False)\n",
    "ax.yaxis.set_label_position('right')\n",
    "ax.yaxis.set_ticks_position('right')\n",
    "\n",
    "plt.tight_layout()\n",
    "\n",
    "patch = patches.Rectangle((-0.1, 0), 0.2, 100, fill=False, alpha=0)\n",
    "# We add a rectangle to make sure the labels don't move to the right\n",
    "ax.add_patch(patch)\n",
    "\n",
    "texts = []\n",
    "np.random.seed(0)\n",
    "for label, y in zip(df.index, df):\n",
    "    texts += [\n",
    "        ax.text(\n",
    "            -.1 + np.random.random() / 1000,\n",
    "            y + np.random.random() / 1000,\n",
    "            label,\n",
    "            # A small random shift prevents labels\n",
    "            # which have exactly the same coordinates from being stuck together\n",
    "            # (not a problem in this example really, but wanted to mention this possibility)\n",
    "            color='k',\n",
    "            fontsize=4)\n",
    "    ]\n",
    "adjust_text(\n",
    "    texts,\n",
    "    [0 for _ in df],\n",
    "    df,\n",
    "    ha='left',\n",
    "    va='center',\n",
    "    add_objects=[patch],\n",
    "    expand_text=(1.05, 1),\n",
    "    # We want them to be quite compact, so reducing expansion makes sense\n",
    "    force_text=(0.75, 0),\n",
    "    force_objects=(1, 0),\n",
    "    #With default forces it takes a very long time to converge,\n",
    "    # but higher values still produce very nice output\n",
    "    autoalign=False,\n",
    "    only_move={\n",
    "        'points': 'x',\n",
    "        'text': 'x',\n",
    "        'objects': 'x'\n",
    "    })\n",
    "\n",
    "fig.savefig('Region.TF.total_rs.strip_plot.text_part.pdf', bbox_inches='tight')"
   ]
  },
  {
   "cell_type": "code",
   "execution_count": 27,
   "metadata": {
    "ExecuteTime": {
     "end_time": "2020-03-22T20:17:36.957936Z",
     "start_time": "2020-03-22T20:17:36.953835Z"
    }
   },
   "outputs": [
    {
     "data": {
      "text/plain": [
       "gene\n",
       "Sox6      0.061292\n",
       "Runx2     0.069950\n",
       "Nr4a3     0.076656\n",
       "Bcl11b    0.096343\n",
       "Hivep1    0.102208\n",
       "Zeb2      0.103153\n",
       "Zfp462    0.103153\n",
       "Nfix      0.123222\n",
       "Grhl1     0.140819\n",
       "Emx1      0.145361\n",
       "Adam19    0.154730\n",
       "Lhx2      0.237433\n",
       "Rorb      0.245074\n",
       "Zfpm2     0.257883\n",
       "Nfia      0.268690\n",
       "Bcl11a    0.273391\n",
       "Tox       0.297156\n",
       "Zfp608    0.303353\n",
       "Nr3c1     0.329000\n",
       "Barx2     0.375679\n",
       "Jdp2      0.404444\n",
       "Nfib      0.412330\n",
       "Cux1      0.482556\n",
       "Smad1     0.549861\n",
       "Zic4      0.594384\n",
       "Zbtb16    0.605487\n",
       "Rora      0.606697\n",
       "Trps1     0.663119\n",
       "Tshz3     0.669174\n",
       "Satb1     0.758581\n",
       "Mkx       0.779989\n",
       "Meis2     1.069232\n",
       "Etv6      1.361617\n",
       "Name: impact, dtype: float64"
      ]
     },
     "execution_count": 27,
     "metadata": {},
     "output_type": "execute_result"
    }
   ],
   "source": [
    "tf_sum_rs"
   ]
  },
  {
   "cell_type": "code",
   "execution_count": 26,
   "metadata": {
    "ExecuteTime": {
     "end_time": "2020-03-22T20:14:05.873503Z",
     "start_time": "2020-03-22T20:14:05.749113Z"
    }
   },
   "outputs": [
    {
     "data": {
      "image/png": "[encoded data removed]",
      "text/plain": [
       "<Figure size 600x1200 with 1 Axes>"
      ]
     },
     "metadata": {
      "needs_background": "light"
     },
     "output_type": "display_data"
    }
   ],
   "source": [
    "fig, ax = plt.subplots(figsize=(0.5, 1), dpi=1200)\n",
    "sns.stripplot(y=tf_sum_rs, jitter=0.2, s=1, color='k')\n",
    "ax.set(ylim=(0, 1.5))\n",
    "ax.axis('off')\n",
    "\n",
    "fig.savefig('Region.TF.total_rs.strip_plot.scatter_part.png')"
   ]
  },
  {
   "cell_type": "markdown",
   "metadata": {
    "ExecuteTime": {
     "end_time": "2020-01-29T02:50:17.598653Z",
     "start_time": "2020-01-29T02:50:17.595231Z"
    }
   },
   "source": [
    "## Other genes"
   ]
  },
  {
   "cell_type": "code",
   "execution_count": 20,
   "metadata": {
    "ExecuteTime": {
     "end_time": "2020-03-22T20:13:38.462271Z",
     "start_time": "2020-03-22T20:13:38.456380Z"
    }
   },
   "outputs": [
    {
     "data": {
      "text/plain": [
       "count    292.000000\n",
       "mean       0.217556\n",
       "std        0.200592\n",
       "min        0.026491\n",
       "25%        0.101227\n",
       "50%        0.157704\n",
       "75%        0.251432\n",
       "max        1.372321\n",
       "Name: impact, dtype: float64"
      ]
     },
     "execution_count": 20,
     "metadata": {},
     "output_type": "execute_result"
    }
   ],
   "source": [
    "other_sum_rs.describe()"
   ]
  },
  {
   "cell_type": "code",
   "execution_count": 21,
   "metadata": {
    "ExecuteTime": {
     "end_time": "2020-03-22T20:13:40.951652Z",
     "start_time": "2020-03-22T20:13:38.463523Z"
    }
   },
   "outputs": [
    {
     "data": {
      "image/png": "[encoded data removed]",
      "text/plain": [
       "<Figure size 600x300 with 1 Axes>"
      ]
     },
     "metadata": {
      "needs_background": "light"
     },
     "output_type": "display_data"
    }
   ],
   "source": [
    "from matplotlib import patches\n",
    "import numpy as np\n",
    "\n",
    "label_y_cutoff = 0.5\n",
    "\n",
    "df = other_sum_rs[other_sum_rs > label_y_cutoff]\n",
    "other_count = other_sum_rs[other_sum_rs <= label_y_cutoff].size\n",
    "df[f'({other_count} Other Genes)'] = 0.5\n",
    "\n",
    "# c=[groupColors.get(langnameGroup[label],'k') for label in df.index]\n",
    "fig = plt.figure(figsize=(2, 1), dpi=300)\n",
    "gs = fig.add_gridspec(1, 10)\n",
    "\n",
    "ax = fig.add_subplot(gs[0, :])\n",
    "# ax_scatter = fig.add_subplot(gs[0, 9:])\n",
    "\n",
    "ax.axes.get_xaxis().set_visible(False)\n",
    "ax.set_xlim(-40, 0.1)\n",
    "ax.set_ylim(0, 1.5)\n",
    "\n",
    "ax.set_yticks([0, 0.75, 1.5])\n",
    "\n",
    "ax.spines['left'].set_visible(False)\n",
    "ax.spines['top'].set_visible(False)\n",
    "ax.spines['bottom'].set_visible(False)\n",
    "ax.yaxis.set_label_position('right')\n",
    "ax.yaxis.set_ticks_position('right')\n",
    "\n",
    "plt.tight_layout()\n",
    "\n",
    "patch = patches.Rectangle((-0.1, 0), 0.2, 100, fill=False, alpha=0)\n",
    "# We add a rectangle to make sure the labels don't move to the right\n",
    "ax.add_patch(patch)\n",
    "\n",
    "texts = []\n",
    "np.random.seed(0)\n",
    "for label, y in zip(df.index, df):\n",
    "    texts += [\n",
    "        ax.text(\n",
    "            -.1 + np.random.random() / 1000,\n",
    "            y + np.random.random() / 1000,\n",
    "            label,\n",
    "            # A small random shift prevents labels\n",
    "            # which have exactly the same coordinates from being stuck together\n",
    "            # (not a problem in this example really, but wanted to mention this possibility)\n",
    "            color='k',\n",
    "            fontsize=4)\n",
    "    ]\n",
    "adjust_text(\n",
    "    texts,\n",
    "    [0 for _ in df],\n",
    "    df,\n",
    "    ha='left',\n",
    "    va='center',\n",
    "    add_objects=[patch],\n",
    "    expand_text=(1.05, 1),\n",
    "    # We want them to be quite compact, so reducing expansion makes sense\n",
    "    force_text=(0.75, 0),\n",
    "    force_objects=(1, 0),\n",
    "    #With default forces it takes a very long time to converge,\n",
    "    # but higher values still produce very nice output\n",
    "    autoalign=False,\n",
    "    only_move={\n",
    "        'points': 'x',\n",
    "        'text': 'x',\n",
    "        'objects': 'x'\n",
    "    })\n",
    "\n",
    "fig.savefig('Region.Other.total_rs.strip_plot.label_part.pdf', bbox_inches='tight')"
   ]
  },
  {
   "cell_type": "code",
   "execution_count": null,
   "metadata": {},
   "outputs": [],
   "source": []
  },
  {
   "cell_type": "code",
   "execution_count": 22,
   "metadata": {
    "ExecuteTime": {
     "end_time": "2020-03-22T20:13:40.955814Z",
     "start_time": "2020-03-22T20:13:40.952864Z"
    }
   },
   "outputs": [
    {
     "data": {
      "text/plain": [
       "1.3723210604754779"
      ]
     },
     "execution_count": 22,
     "metadata": {},
     "output_type": "execute_result"
    }
   ],
   "source": [
    "other_sum_rs.max()"
   ]
  },
  {
   "cell_type": "code",
   "execution_count": 25,
   "metadata": {
    "ExecuteTime": {
     "end_time": "2020-03-22T20:14:01.281743Z",
     "start_time": "2020-03-22T20:14:01.081850Z"
    }
   },
   "outputs": [
    {
     "data": {
      "image/png": "[encoded data removed]",
      "text/plain": [
       "<Figure size 600x1200 with 1 Axes>"
      ]
     },
     "metadata": {
      "needs_background": "light"
     },
     "output_type": "display_data"
    }
   ],
   "source": [
    "fig, ax = plt.subplots(figsize=(0.5, 1), dpi=1200)\n",
    "\n",
    "sns.stripplot(y=other_sum_rs, jitter=0.2, s=1, color='k', clip_on=False)\n",
    "ax.set_ylim(0, 1.5)\n",
    "ax.set_xticks([])\n",
    "ax.axis('off')\n",
    "\n",
    "fig.savefig('Region.Other.total_rs.strip_plot.scatter_part.png')"
   ]
  },
  {
   "cell_type": "code",
   "execution_count": 24,
   "metadata": {
    "ExecuteTime": {
     "end_time": "2020-03-22T20:13:41.005306Z",
     "start_time": "2020-03-22T20:13:40.999598Z"
    }
   },
   "outputs": [],
   "source": [
    "tf_sum_rs.to_csv('Region.TF.sum_rs.csv', header=False)\n",
    "other_sum_rs.to_csv('Region.Other.sum_rs.csv', header=False)"
   ]
  },
  {
   "cell_type": "code",
   "execution_count": null,
   "metadata": {},
   "outputs": [],
   "source": []
  },
  {
   "cell_type": "code",
   "execution_count": null,
   "metadata": {},
   "outputs": [],
   "source": []
  },
  {
   "cell_type": "code",
   "execution_count": null,
   "metadata": {},
   "outputs": [],
   "source": []
  },
  {
   "cell_type": "code",
   "execution_count": null,
   "metadata": {},
   "outputs": [],
   "source": []
  },
  {
   "cell_type": "code",
   "execution_count": null,
   "metadata": {},
   "outputs": [],
   "source": []
  },
  {
   "cell_type": "code",
   "execution_count": null,
   "metadata": {},
   "outputs": [],
   "source": []
  },
  {
   "cell_type": "code",
   "execution_count": null,
   "metadata": {},
   "outputs": [],
   "source": []
  },
  {
   "cell_type": "code",
   "execution_count": null,
   "metadata": {},
   "outputs": [],
   "source": []
  }
 ],
 "metadata": {
  "hide_input": false,
  "kernelspec": {
   "display_name": "Python 3",
   "language": "python",
   "name": "python3"
  },
  "language_info": {
   "codemirror_mode": {
    "name": "ipython",
    "version": 3
   },
   "file_extension": ".py",
   "mimetype": "text/x-python",
   "name": "python",
   "nbconvert_exporter": "python",
   "pygments_lexer": "ipython3",
   "version": "3.7.3"
  },
  "toc": {
   "base_numbering": 1,
   "nav_menu": {},
   "number_sections": true,
   "sideBar": true,
   "skip_h1_title": true,
   "title_cell": "Table of Contents",
   "title_sidebar": "Contents",
   "toc_cell": false,
   "toc_position": {},
   "toc_section_display": true,
   "toc_window_display": true
  }
 },
 "nbformat": 4,
 "nbformat_minor": 2
}
