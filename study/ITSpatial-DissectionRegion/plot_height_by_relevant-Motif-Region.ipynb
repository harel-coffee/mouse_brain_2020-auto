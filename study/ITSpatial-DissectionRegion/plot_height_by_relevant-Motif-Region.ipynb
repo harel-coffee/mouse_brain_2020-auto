{
 "cells": [
  {
   "cell_type": "code",
   "execution_count": 25,
   "metadata": {
    "ExecuteTime": {
     "end_time": "2020-03-22T20:40:16.379104Z",
     "start_time": "2020-03-22T20:40:16.375372Z"
    }
   },
   "outputs": [],
   "source": [
    "import re\n",
    "import numpy as np\n",
    "import joblib\n",
    "import matplotlib.pyplot as plt\n",
    "import numpy as np\n",
    "import pandas as pd\n",
    "import seaborn as sns\n",
    "from ALLCools.plot import *\n",
    "from matplotlib import patches\n",
    "from matplotlib.cm import get_cmap\n",
    "from adjustText import adjust_text\n",
    "from matplotlib.colors import ListedColormap, Normalize"
   ]
  },
  {
   "cell_type": "code",
   "execution_count": 2,
   "metadata": {
    "ExecuteTime": {
     "end_time": "2020-03-22T07:16:49.635605Z",
     "start_time": "2020-03-22T07:16:49.631639Z"
    }
   },
   "outputs": [],
   "source": [
    "from matplotlib import rc\n",
    "labelsize = 6\n",
    "linewidth = 0.6\n",
    "rc('lines', linewidth=linewidth)\n",
    "rc('axes', labelsize=labelsize, linewidth=linewidth)\n",
    "rc('xtick', labelsize=labelsize)\n",
    "rc('ytick', labelsize=labelsize)\n",
    "rc('xtick.major', width=linewidth)\n",
    "rc('ytick.major', width=linewidth)\n",
    "rc('xtick.minor', width=linewidth - 0.2)\n",
    "rc('ytick.minor', width=linewidth - 0.2)"
   ]
  },
  {
   "cell_type": "code",
   "execution_count": null,
   "metadata": {},
   "outputs": [],
   "source": []
  },
  {
   "cell_type": "markdown",
   "metadata": {},
   "source": [
    "## Gene metadata"
   ]
  },
  {
   "cell_type": "code",
   "execution_count": 3,
   "metadata": {
    "ExecuteTime": {
     "end_time": "2020-03-22T07:16:51.701516Z",
     "start_time": "2020-03-22T07:16:51.374346Z"
    }
   },
   "outputs": [
    {
     "data": {
      "text/html": [
       "<div>\n",
       "<style scoped>\n",
       "    .dataframe tbody tr th:only-of-type {\n",
       "        vertical-align: middle;\n",
       "    }\n",
       "\n",
       "    .dataframe tbody tr th {\n",
       "        vertical-align: top;\n",
       "    }\n",
       "\n",
       "    .dataframe thead th {\n",
       "        text-align: right;\n",
       "    }\n",
       "</style>\n",
       "<table border=\"1\" class=\"dataframe\">\n",
       "  <thead>\n",
       "    <tr style=\"text-align: right;\">\n",
       "      <th></th>\n",
       "      <th>motif_name</th>\n",
       "      <th>motif_genes</th>\n",
       "      <th>gene_ids</th>\n",
       "      <th>gene_names</th>\n",
       "      <th>motif_group</th>\n",
       "      <th>Class</th>\n",
       "      <th>Family</th>\n",
       "      <th>SubFamily</th>\n",
       "    </tr>\n",
       "    <tr>\n",
       "      <th>motif_uid</th>\n",
       "      <th></th>\n",
       "      <th></th>\n",
       "      <th></th>\n",
       "      <th></th>\n",
       "      <th></th>\n",
       "      <th></th>\n",
       "      <th></th>\n",
       "      <th></th>\n",
       "    </tr>\n",
       "  </thead>\n",
       "  <tbody>\n",
       "    <tr>\n",
       "      <th>MA0006.1</th>\n",
       "      <td>Ahr::Arnt</td>\n",
       "      <td>Ahr,Arnt</td>\n",
       "      <td>ENSMUSG00000019256.17,ENSMUSG00000015522.18</td>\n",
       "      <td>Ahr,Arnt</td>\n",
       "      <td>MotifGroup178</td>\n",
       "      <td>Basic helix-loop-helix factors (bHLH)</td>\n",
       "      <td>PAS</td>\n",
       "      <td>PAS-AHR</td>\n",
       "    </tr>\n",
       "    <tr>\n",
       "      <th>MA0854.1</th>\n",
       "      <td>Alx1</td>\n",
       "      <td>Alx1</td>\n",
       "      <td>ENSMUSG00000036602.14</td>\n",
       "      <td>Alx1</td>\n",
       "      <td>MotifGroup3</td>\n",
       "      <td>Homeo domain factors</td>\n",
       "      <td>Paired-related HD</td>\n",
       "      <td>ALX</td>\n",
       "    </tr>\n",
       "    <tr>\n",
       "      <th>MA0634.1</th>\n",
       "      <td>ALX3</td>\n",
       "      <td>ALX3</td>\n",
       "      <td>ENSMUSG00000014603.3</td>\n",
       "      <td>Alx3</td>\n",
       "      <td>MotifGroup3</td>\n",
       "      <td>Homeo domain factors</td>\n",
       "      <td>Paired-related HD</td>\n",
       "      <td>TPRX</td>\n",
       "    </tr>\n",
       "    <tr>\n",
       "      <th>MA0853.1</th>\n",
       "      <td>Alx4</td>\n",
       "      <td>Alx4</td>\n",
       "      <td>ENSMUSG00000040310.12</td>\n",
       "      <td>Alx4</td>\n",
       "      <td>MotifGroup3</td>\n",
       "      <td>Homeo domain factors</td>\n",
       "      <td>Paired-related HD</td>\n",
       "      <td>ALX</td>\n",
       "    </tr>\n",
       "    <tr>\n",
       "      <th>MA0007.3</th>\n",
       "      <td>Ar</td>\n",
       "      <td>Ar</td>\n",
       "      <td>ENSMUSG00000046532.8</td>\n",
       "      <td>Ar</td>\n",
       "      <td>MotifGroup32</td>\n",
       "      <td>Nuclear receptors with C4 zinc fingers</td>\n",
       "      <td>Steroid hormone receptors</td>\n",
       "      <td>GR-like(NR3C)</td>\n",
       "    </tr>\n",
       "  </tbody>\n",
       "</table>\n",
       "</div>"
      ],
      "text/plain": [
       "          motif_name motif_genes                                     gene_ids  \\\n",
       "motif_uid                                                                       \n",
       "MA0006.1   Ahr::Arnt    Ahr,Arnt  ENSMUSG00000019256.17,ENSMUSG00000015522.18   \n",
       "MA0854.1        Alx1        Alx1                        ENSMUSG00000036602.14   \n",
       "MA0634.1        ALX3        ALX3                         ENSMUSG00000014603.3   \n",
       "MA0853.1        Alx4        Alx4                        ENSMUSG00000040310.12   \n",
       "MA0007.3          Ar          Ar                         ENSMUSG00000046532.8   \n",
       "\n",
       "          gene_names    motif_group                                   Class  \\\n",
       "motif_uid                                                                     \n",
       "MA0006.1    Ahr,Arnt  MotifGroup178   Basic helix-loop-helix factors (bHLH)   \n",
       "MA0854.1        Alx1    MotifGroup3                    Homeo domain factors   \n",
       "MA0634.1        Alx3    MotifGroup3                    Homeo domain factors   \n",
       "MA0853.1        Alx4    MotifGroup3                    Homeo domain factors   \n",
       "MA0007.3          Ar   MotifGroup32  Nuclear receptors with C4 zinc fingers   \n",
       "\n",
       "                              Family      SubFamily  \n",
       "motif_uid                                            \n",
       "MA0006.1                         PAS        PAS-AHR  \n",
       "MA0854.1           Paired-related HD            ALX  \n",
       "MA0634.1           Paired-related HD           TPRX  \n",
       "MA0853.1           Paired-related HD            ALX  \n",
       "MA0007.3   Steroid hormone receptors  GR-like(NR3C)  "
      ]
     },
     "execution_count": 3,
     "metadata": {},
     "output_type": "execute_result"
    }
   ],
   "source": [
    "motif_gene_anno = pd.read_csv(\n",
    "    '/home/hanliu/project/mouse_rostral_brain/study/MotifClustering/JASPAR2020_CORE_vertebrates_non-redundant.mouse_genes.with_motif_group.199.csv', \n",
    "    index_col=0\n",
    ")\n",
    "tf_class = pd.read_csv('/home/hanliu/ref/TFGene/TFClass/TFClass.with_mouse_gene_id.csv')\n",
    "for tf_col in ['Class', 'Family', 'SubFamily']:\n",
    "    gene_class_map = {}\n",
    "    for _, (class_name, genes) in tf_class[[tf_col, 'EnsemblID']].iterrows():\n",
    "        if isinstance(genes, float):\n",
    "            continue\n",
    "        for gene in genes.split(','):\n",
    "            gene_class_map[gene] = class_name\n",
    "    \n",
    "    motif_gene_anno[tf_col] = motif_gene_anno['gene_ids'].apply(lambda i: gene_class_map.get(i.split('.')[0], ''))\n",
    "\n",
    "motif_gene_anno['SubFamily'] = motif_gene_anno['SubFamily'].replace('', np.nan).fillna('unclassified')\n",
    "motif_gene_anno.head()"
   ]
  },
  {
   "cell_type": "markdown",
   "metadata": {},
   "source": [
    "## Cell Tidy Data"
   ]
  },
  {
   "cell_type": "code",
   "execution_count": 4,
   "metadata": {
    "ExecuteTime": {
     "end_time": "2020-03-22T07:16:52.884185Z",
     "start_time": "2020-03-22T07:16:52.415875Z"
    }
   },
   "outputs": [
    {
     "name": "stderr",
     "output_type": "stream",
     "text": [
      "/home/hanliu/miniconda3/envs/clustering/lib/python3.7/site-packages/IPython/core/interactiveshell.py:3326: FutureWarning: The read_msgpack is deprecated and will be removed in a future version.\n",
      "It is recommended to use pyarrow for on-the-wire transmission of pandas objects.\n",
      "  exec(code_obj, self.user_global_ns, self.user_ns)\n"
     ]
    }
   ],
   "source": [
    "cell_tidy_data = pd.read_msgpack(\n",
    "    '/home/hanliu/project/mouse_rostral_brain/study/ClusteringSummary/Summary/TotalClusteringResults.msg'\n",
    ")\n",
    "cell_tidy_data = cell_tidy_data[cell_tidy_data['CellClass'] == 'Exc']\n",
    "cell_tidy_data = cell_tidy_data[\n",
    "    cell_tidy_data['SubType'].apply(lambda i: 'Outlier' not in i)].copy()"
   ]
  },
  {
   "cell_type": "code",
   "execution_count": 5,
   "metadata": {
    "ExecuteTime": {
     "end_time": "2020-03-22T07:16:52.966846Z",
     "start_time": "2020-03-22T07:16:52.962045Z"
    }
   },
   "outputs": [],
   "source": [
    "subtype_palette = pd.read_csv(\n",
    "    '/home/hanliu/project/mouse_rostral_brain/metadata/palette/sub_type.palette.csv',\n",
    "    header=None,\n",
    "    index_col=0,\n",
    "    squeeze=True).to_dict()"
   ]
  },
  {
   "cell_type": "markdown",
   "metadata": {},
   "source": [
    "## Tree and gene assignment"
   ]
  },
  {
   "cell_type": "code",
   "execution_count": 6,
   "metadata": {
    "ExecuteTime": {
     "end_time": "2020-03-22T07:16:53.818022Z",
     "start_time": "2020-03-22T07:16:53.807439Z"
    }
   },
   "outputs": [],
   "source": [
    "dendro = joblib.load(\n",
    "    f'/home/hanliu/project/mouse_rostral_brain/study/ITSpatial-DissectionRegion/DMG/ITSpatial.pvclust.dendrogram.lib'\n",
    ")\n",
    "linkage = pd.read_csv(\n",
    "    f'/home/hanliu/project/mouse_rostral_brain/study/ITSpatial-DissectionRegion/DMG/ITSpatial.pvclust.linkage.csv',\n",
    "    header=0,\n",
    "    index_col=0)\n",
    "node_dict = joblib.load(\n",
    "    '/home/hanliu/project/mouse_rostral_brain/study/ITSpatial-DissectionRegion/DMG/ITSpatial.pvclust.non_singleton_node_dict.lib'\n",
    ")\n",
    "\n",
    "gene_assignment = pd.read_msgpack(\n",
    "    '/home/hanliu/project/mouse_rostral_brain/study/ITSpatial-DissectionRegion/DMR/NodeMotifResults.msg'\n",
    ")"
   ]
  },
  {
   "cell_type": "code",
   "execution_count": 7,
   "metadata": {
    "ExecuteTime": {
     "end_time": "2020-03-22T07:16:58.721459Z",
     "start_time": "2020-03-22T07:16:58.704914Z"
    }
   },
   "outputs": [
    {
     "data": {
      "text/html": [
       "<div>\n",
       "<style scoped>\n",
       "    .dataframe tbody tr th:only-of-type {\n",
       "        vertical-align: middle;\n",
       "    }\n",
       "\n",
       "    .dataframe tbody tr th {\n",
       "        vertical-align: top;\n",
       "    }\n",
       "\n",
       "    .dataframe thead th {\n",
       "        text-align: right;\n",
       "    }\n",
       "</style>\n",
       "<table border=\"1\" class=\"dataframe\">\n",
       "  <thead>\n",
       "    <tr style=\"text-align: right;\">\n",
       "      <th></th>\n",
       "      <th>MA0003.4</th>\n",
       "      <th>MA0018.4</th>\n",
       "      <th>MA0025.2</th>\n",
       "      <th>MA0039.4</th>\n",
       "      <th>MA0032.2</th>\n",
       "      <th>MA0027.2</th>\n",
       "      <th>MA0040.1</th>\n",
       "      <th>MA0019.1</th>\n",
       "      <th>MA0033.2</th>\n",
       "      <th>MA0031.1</th>\n",
       "      <th>...</th>\n",
       "      <th>MA1633.1</th>\n",
       "      <th>MA1635.1</th>\n",
       "      <th>MA1634.1</th>\n",
       "      <th>MA1641.1</th>\n",
       "      <th>MA1648.1</th>\n",
       "      <th>MA1638.1</th>\n",
       "      <th>MA1652.1</th>\n",
       "      <th>MA1653.1</th>\n",
       "      <th>MA1642.1</th>\n",
       "      <th>MA1683.1</th>\n",
       "    </tr>\n",
       "  </thead>\n",
       "  <tbody>\n",
       "    <tr>\n",
       "      <th>137</th>\n",
       "      <td>0.0</td>\n",
       "      <td>0.0</td>\n",
       "      <td>0.0</td>\n",
       "      <td>0.000000</td>\n",
       "      <td>0.000000</td>\n",
       "      <td>0.0</td>\n",
       "      <td>0.000000</td>\n",
       "      <td>0.000000</td>\n",
       "      <td>-0.200000</td>\n",
       "      <td>-0.200000</td>\n",
       "      <td>...</td>\n",
       "      <td>0.000000</td>\n",
       "      <td>1.000000</td>\n",
       "      <td>0.000000</td>\n",
       "      <td>1.000000</td>\n",
       "      <td>0.000000</td>\n",
       "      <td>0.800000</td>\n",
       "      <td>0.000000</td>\n",
       "      <td>0.0</td>\n",
       "      <td>0.000000</td>\n",
       "      <td>0.000000</td>\n",
       "    </tr>\n",
       "    <tr>\n",
       "      <th>138</th>\n",
       "      <td>0.0</td>\n",
       "      <td>0.0</td>\n",
       "      <td>0.0</td>\n",
       "      <td>0.038961</td>\n",
       "      <td>-0.194805</td>\n",
       "      <td>0.0</td>\n",
       "      <td>-0.129870</td>\n",
       "      <td>0.363636</td>\n",
       "      <td>-0.467532</td>\n",
       "      <td>-0.467532</td>\n",
       "      <td>...</td>\n",
       "      <td>0.025974</td>\n",
       "      <td>0.000000</td>\n",
       "      <td>0.000000</td>\n",
       "      <td>0.000000</td>\n",
       "      <td>0.000000</td>\n",
       "      <td>0.000000</td>\n",
       "      <td>0.051948</td>\n",
       "      <td>0.0</td>\n",
       "      <td>-0.402597</td>\n",
       "      <td>-0.480519</td>\n",
       "    </tr>\n",
       "    <tr>\n",
       "      <th>139</th>\n",
       "      <td>0.0</td>\n",
       "      <td>0.0</td>\n",
       "      <td>0.0</td>\n",
       "      <td>0.000000</td>\n",
       "      <td>0.000000</td>\n",
       "      <td>0.0</td>\n",
       "      <td>0.000000</td>\n",
       "      <td>0.000000</td>\n",
       "      <td>0.000000</td>\n",
       "      <td>0.000000</td>\n",
       "      <td>...</td>\n",
       "      <td>0.000000</td>\n",
       "      <td>-0.111111</td>\n",
       "      <td>0.000000</td>\n",
       "      <td>-0.277778</td>\n",
       "      <td>0.777778</td>\n",
       "      <td>-0.444444</td>\n",
       "      <td>0.000000</td>\n",
       "      <td>0.0</td>\n",
       "      <td>-0.333333</td>\n",
       "      <td>0.000000</td>\n",
       "    </tr>\n",
       "    <tr>\n",
       "      <th>140</th>\n",
       "      <td>0.0</td>\n",
       "      <td>0.0</td>\n",
       "      <td>0.0</td>\n",
       "      <td>0.009259</td>\n",
       "      <td>-0.037037</td>\n",
       "      <td>0.0</td>\n",
       "      <td>-0.074074</td>\n",
       "      <td>0.000000</td>\n",
       "      <td>-0.009259</td>\n",
       "      <td>-0.009259</td>\n",
       "      <td>...</td>\n",
       "      <td>0.018519</td>\n",
       "      <td>0.370370</td>\n",
       "      <td>0.138889</td>\n",
       "      <td>0.370370</td>\n",
       "      <td>0.379630</td>\n",
       "      <td>0.101852</td>\n",
       "      <td>0.000000</td>\n",
       "      <td>0.0</td>\n",
       "      <td>-0.148148</td>\n",
       "      <td>-0.009259</td>\n",
       "    </tr>\n",
       "    <tr>\n",
       "      <th>141</th>\n",
       "      <td>0.0</td>\n",
       "      <td>0.0</td>\n",
       "      <td>0.0</td>\n",
       "      <td>0.177778</td>\n",
       "      <td>0.000000</td>\n",
       "      <td>0.2</td>\n",
       "      <td>0.000000</td>\n",
       "      <td>0.000000</td>\n",
       "      <td>0.000000</td>\n",
       "      <td>0.000000</td>\n",
       "      <td>...</td>\n",
       "      <td>0.477778</td>\n",
       "      <td>-0.155556</td>\n",
       "      <td>0.533333</td>\n",
       "      <td>-0.155556</td>\n",
       "      <td>0.000000</td>\n",
       "      <td>-0.311111</td>\n",
       "      <td>0.000000</td>\n",
       "      <td>0.0</td>\n",
       "      <td>-0.833333</td>\n",
       "      <td>0.000000</td>\n",
       "    </tr>\n",
       "  </tbody>\n",
       "</table>\n",
       "<p>5 rows × 354 columns</p>\n",
       "</div>"
      ],
      "text/plain": [
       "     MA0003.4  MA0018.4  MA0025.2  MA0039.4  MA0032.2  MA0027.2  MA0040.1  \\\n",
       "137       0.0       0.0       0.0  0.000000  0.000000       0.0  0.000000   \n",
       "138       0.0       0.0       0.0  0.038961 -0.194805       0.0 -0.129870   \n",
       "139       0.0       0.0       0.0  0.000000  0.000000       0.0  0.000000   \n",
       "140       0.0       0.0       0.0  0.009259 -0.037037       0.0 -0.074074   \n",
       "141       0.0       0.0       0.0  0.177778  0.000000       0.2  0.000000   \n",
       "\n",
       "     MA0019.1  MA0033.2  MA0031.1  ...  MA1633.1  MA1635.1  MA1634.1  \\\n",
       "137  0.000000 -0.200000 -0.200000  ...  0.000000  1.000000  0.000000   \n",
       "138  0.363636 -0.467532 -0.467532  ...  0.025974  0.000000  0.000000   \n",
       "139  0.000000  0.000000  0.000000  ...  0.000000 -0.111111  0.000000   \n",
       "140  0.000000 -0.009259 -0.009259  ...  0.018519  0.370370  0.138889   \n",
       "141  0.000000  0.000000  0.000000  ...  0.477778 -0.155556  0.533333   \n",
       "\n",
       "     MA1641.1  MA1648.1  MA1638.1  MA1652.1  MA1653.1  MA1642.1  MA1683.1  \n",
       "137  1.000000  0.000000  0.800000  0.000000       0.0  0.000000  0.000000  \n",
       "138  0.000000  0.000000  0.000000  0.051948       0.0 -0.402597 -0.480519  \n",
       "139 -0.277778  0.777778 -0.444444  0.000000       0.0 -0.333333  0.000000  \n",
       "140  0.370370  0.379630  0.101852  0.000000       0.0 -0.148148 -0.009259  \n",
       "141 -0.155556  0.000000 -0.311111  0.000000       0.0 -0.833333  0.000000  \n",
       "\n",
       "[5 rows x 354 columns]"
      ]
     },
     "execution_count": 7,
     "metadata": {},
     "output_type": "execute_result"
    }
   ],
   "source": [
    "gene_assignment = gene_assignment[gene_assignment.index < 142].copy()\n",
    "gene_assignment.tail()"
   ]
  },
  {
   "cell_type": "markdown",
   "metadata": {},
   "source": [
    "## Normalize linkage height to 0-1"
   ]
  },
  {
   "cell_type": "code",
   "execution_count": 8,
   "metadata": {
    "ExecuteTime": {
     "end_time": "2020-03-22T07:17:00.629645Z",
     "start_time": "2020-03-22T07:17:00.623604Z"
    }
   },
   "outputs": [],
   "source": [
    "linkage['2'] = linkage['2'] / linkage['2'].max()"
   ]
  },
  {
   "cell_type": "markdown",
   "metadata": {},
   "source": [
    "## Plot"
   ]
  },
  {
   "cell_type": "code",
   "execution_count": 9,
   "metadata": {
    "ExecuteTime": {
     "end_time": "2020-03-22T07:17:01.342133Z",
     "start_time": "2020-03-22T07:17:01.328464Z"
    }
   },
   "outputs": [
    {
     "name": "stdout",
     "output_type": "stream",
     "text": [
      "(370, 5)\n"
     ]
    }
   ],
   "source": [
    "rs_abs_min = 0.3\n",
    "\n",
    "records = gene_assignment.unstack().reset_index()\n",
    "records.columns = ['gene', 'node', 'relevant_score']\n",
    "use_data = records[records['relevant_score'].abs() > rs_abs_min].reset_index(\n",
    "    drop=True)\n",
    "use_data['relevant_score_abs'] = use_data['relevant_score'].abs()\n",
    "\n",
    "n_leaves = len(dendro['ivl'])\n",
    "node_height = linkage['2'].copy()\n",
    "node_height.index = node_height.index\n",
    "use_data['node_height'] = use_data['node'].map(node_height).reset_index(\n",
    "    drop=True)\n",
    "use_data.head()\n",
    "print(use_data.shape)\n",
    "\n",
    "use_data['impact'] = use_data['relevant_score_abs'] * use_data['node_height']\n",
    "total_rs_data = use_data.groupby('gene')['impact'].sum().sort_values()\n",
    "\n",
    "tf_total_data = use_data.copy()\n",
    "tf_sum_rs = total_rs_data.copy()"
   ]
  },
  {
   "cell_type": "markdown",
   "metadata": {},
   "source": [
    "## TF genes"
   ]
  },
  {
   "cell_type": "code",
   "execution_count": 10,
   "metadata": {
    "ExecuteTime": {
     "end_time": "2020-03-22T07:17:02.278004Z",
     "start_time": "2020-03-22T07:17:02.274184Z"
    }
   },
   "outputs": [],
   "source": [
    "motif_gene_anno['total_rs'] = tf_sum_rs\n",
    "motif_gene_anno = motif_gene_anno.loc[tf_sum_rs.index].copy()"
   ]
  },
  {
   "cell_type": "code",
   "execution_count": 11,
   "metadata": {
    "ExecuteTime": {
     "end_time": "2020-03-22T07:17:02.770187Z",
     "start_time": "2020-03-22T07:17:02.756243Z"
    },
    "scrolled": true
   },
   "outputs": [
    {
     "data": {
      "text/html": [
       "<div>\n",
       "<style scoped>\n",
       "    .dataframe tbody tr th:only-of-type {\n",
       "        vertical-align: middle;\n",
       "    }\n",
       "\n",
       "    .dataframe tbody tr th {\n",
       "        vertical-align: top;\n",
       "    }\n",
       "\n",
       "    .dataframe thead th {\n",
       "        text-align: right;\n",
       "    }\n",
       "</style>\n",
       "<table border=\"1\" class=\"dataframe\">\n",
       "  <thead>\n",
       "    <tr style=\"text-align: right;\">\n",
       "      <th></th>\n",
       "      <th>motif_group</th>\n",
       "      <th>SubFamily</th>\n",
       "      <th>total_rs</th>\n",
       "    </tr>\n",
       "  </thead>\n",
       "  <tbody>\n",
       "    <tr>\n",
       "      <th>0</th>\n",
       "      <td>MotifGroup0</td>\n",
       "      <td>unclassified</td>\n",
       "      <td>0.175881</td>\n",
       "    </tr>\n",
       "    <tr>\n",
       "      <th>1</th>\n",
       "      <td>MotifGroup105</td>\n",
       "      <td>CEBP</td>\n",
       "      <td>0.093280</td>\n",
       "    </tr>\n",
       "    <tr>\n",
       "      <th>2</th>\n",
       "      <td>MotifGroup122</td>\n",
       "      <td>Group A</td>\n",
       "      <td>0.307990</td>\n",
       "    </tr>\n",
       "    <tr>\n",
       "      <th>3</th>\n",
       "      <td>MotifGroup125</td>\n",
       "      <td>ROR(NR1F)</td>\n",
       "      <td>0.611545</td>\n",
       "    </tr>\n",
       "    <tr>\n",
       "      <th>4</th>\n",
       "      <td>MotifGroup148</td>\n",
       "      <td>MEIS</td>\n",
       "      <td>0.160655</td>\n",
       "    </tr>\n",
       "    <tr>\n",
       "      <th>5</th>\n",
       "      <td>MotifGroup175</td>\n",
       "      <td>MEIS</td>\n",
       "      <td>0.187450</td>\n",
       "    </tr>\n",
       "    <tr>\n",
       "      <th>6</th>\n",
       "      <td>MotifGroup197</td>\n",
       "      <td>unclassified</td>\n",
       "      <td>0.102208</td>\n",
       "    </tr>\n",
       "    <tr>\n",
       "      <th>7</th>\n",
       "      <td>MotifGroup26</td>\n",
       "      <td>unclassified</td>\n",
       "      <td>0.053458</td>\n",
       "    </tr>\n",
       "    <tr>\n",
       "      <th>8</th>\n",
       "      <td>MotifGroup29</td>\n",
       "      <td>unclassified</td>\n",
       "      <td>0.132855</td>\n",
       "    </tr>\n",
       "    <tr>\n",
       "      <th>9</th>\n",
       "      <td>MotifGroup3</td>\n",
       "      <td>EMX</td>\n",
       "      <td>0.210848</td>\n",
       "    </tr>\n",
       "    <tr>\n",
       "      <th>10</th>\n",
       "      <td>MotifGroup3</td>\n",
       "      <td>EN</td>\n",
       "      <td>0.083893</td>\n",
       "    </tr>\n",
       "    <tr>\n",
       "      <th>11</th>\n",
       "      <td>MotifGroup3</td>\n",
       "      <td>ESX</td>\n",
       "      <td>0.234033</td>\n",
       "    </tr>\n",
       "    <tr>\n",
       "      <th>12</th>\n",
       "      <td>MotifGroup3</td>\n",
       "      <td>GBX</td>\n",
       "      <td>0.168107</td>\n",
       "    </tr>\n",
       "    <tr>\n",
       "      <th>13</th>\n",
       "      <td>MotifGroup3</td>\n",
       "      <td>GSX</td>\n",
       "      <td>0.275743</td>\n",
       "    </tr>\n",
       "    <tr>\n",
       "      <th>14</th>\n",
       "      <td>MotifGroup3</td>\n",
       "      <td>HOX2</td>\n",
       "      <td>0.083893</td>\n",
       "    </tr>\n",
       "    <tr>\n",
       "      <th>15</th>\n",
       "      <td>MotifGroup3</td>\n",
       "      <td>HOX3</td>\n",
       "      <td>0.093214</td>\n",
       "    </tr>\n",
       "    <tr>\n",
       "      <th>16</th>\n",
       "      <td>MotifGroup3</td>\n",
       "      <td>ISX</td>\n",
       "      <td>0.307777</td>\n",
       "    </tr>\n",
       "    <tr>\n",
       "      <th>17</th>\n",
       "      <td>MotifGroup3</td>\n",
       "      <td>LBX</td>\n",
       "      <td>0.216572</td>\n",
       "    </tr>\n",
       "    <tr>\n",
       "      <th>18</th>\n",
       "      <td>MotifGroup3</td>\n",
       "      <td>LHX1-like</td>\n",
       "      <td>0.088554</td>\n",
       "    </tr>\n",
       "    <tr>\n",
       "      <th>19</th>\n",
       "      <td>MotifGroup3</td>\n",
       "      <td>LHX2-like</td>\n",
       "      <td>0.307777</td>\n",
       "    </tr>\n",
       "    <tr>\n",
       "      <th>20</th>\n",
       "      <td>MotifGroup3</td>\n",
       "      <td>LHX3-like</td>\n",
       "      <td>0.140819</td>\n",
       "    </tr>\n",
       "    <tr>\n",
       "      <th>21</th>\n",
       "      <td>MotifGroup3</td>\n",
       "      <td>MEOX</td>\n",
       "      <td>0.111857</td>\n",
       "    </tr>\n",
       "    <tr>\n",
       "      <th>22</th>\n",
       "      <td>MotifGroup3</td>\n",
       "      <td>MIX</td>\n",
       "      <td>0.293913</td>\n",
       "    </tr>\n",
       "    <tr>\n",
       "      <th>23</th>\n",
       "      <td>MotifGroup3</td>\n",
       "      <td>NK6</td>\n",
       "      <td>0.229490</td>\n",
       "    </tr>\n",
       "    <tr>\n",
       "      <th>24</th>\n",
       "      <td>MotifGroup3</td>\n",
       "      <td>NOTO</td>\n",
       "      <td>0.275625</td>\n",
       "    </tr>\n",
       "    <tr>\n",
       "      <th>25</th>\n",
       "      <td>MotifGroup3</td>\n",
       "      <td>PAX4-like</td>\n",
       "      <td>0.298101</td>\n",
       "    </tr>\n",
       "    <tr>\n",
       "      <th>26</th>\n",
       "      <td>MotifGroup3</td>\n",
       "      <td>PRRX</td>\n",
       "      <td>0.200496</td>\n",
       "    </tr>\n",
       "    <tr>\n",
       "      <th>27</th>\n",
       "      <td>MotifGroup3</td>\n",
       "      <td>SHOX</td>\n",
       "      <td>0.307777</td>\n",
       "    </tr>\n",
       "    <tr>\n",
       "      <th>28</th>\n",
       "      <td>MotifGroup3</td>\n",
       "      <td>TPRX</td>\n",
       "      <td>0.102536</td>\n",
       "    </tr>\n",
       "    <tr>\n",
       "      <th>29</th>\n",
       "      <td>MotifGroup3</td>\n",
       "      <td>UNCX</td>\n",
       "      <td>0.307777</td>\n",
       "    </tr>\n",
       "    <tr>\n",
       "      <th>...</th>\n",
       "      <td>...</td>\n",
       "      <td>...</td>\n",
       "      <td>...</td>\n",
       "    </tr>\n",
       "    <tr>\n",
       "      <th>38</th>\n",
       "      <td>MotifGroup5</td>\n",
       "      <td>Snail-like</td>\n",
       "      <td>0.420191</td>\n",
       "    </tr>\n",
       "    <tr>\n",
       "      <th>39</th>\n",
       "      <td>MotifGroup5</td>\n",
       "      <td>TAL-HEN</td>\n",
       "      <td>0.320347</td>\n",
       "    </tr>\n",
       "    <tr>\n",
       "      <th>40</th>\n",
       "      <td>MotifGroup5</td>\n",
       "      <td>TWIST</td>\n",
       "      <td>0.488906</td>\n",
       "    </tr>\n",
       "    <tr>\n",
       "      <th>41</th>\n",
       "      <td>MotifGroup5</td>\n",
       "      <td>ZEB</td>\n",
       "      <td>0.521965</td>\n",
       "    </tr>\n",
       "    <tr>\n",
       "      <th>42</th>\n",
       "      <td>MotifGroup5</td>\n",
       "      <td>ZNF238-like</td>\n",
       "      <td>0.253068</td>\n",
       "    </tr>\n",
       "    <tr>\n",
       "      <th>43</th>\n",
       "      <td>MotifGroup59</td>\n",
       "      <td>Group B</td>\n",
       "      <td>0.459976</td>\n",
       "    </tr>\n",
       "    <tr>\n",
       "      <th>44</th>\n",
       "      <td>MotifGroup59</td>\n",
       "      <td>Group C</td>\n",
       "      <td>0.426935</td>\n",
       "    </tr>\n",
       "    <tr>\n",
       "      <th>45</th>\n",
       "      <td>MotifGroup59</td>\n",
       "      <td>Group D</td>\n",
       "      <td>0.511356</td>\n",
       "    </tr>\n",
       "    <tr>\n",
       "      <th>46</th>\n",
       "      <td>MotifGroup59</td>\n",
       "      <td>Group E</td>\n",
       "      <td>0.373213</td>\n",
       "    </tr>\n",
       "    <tr>\n",
       "      <th>47</th>\n",
       "      <td>MotifGroup59</td>\n",
       "      <td>Group G</td>\n",
       "      <td>0.464107</td>\n",
       "    </tr>\n",
       "    <tr>\n",
       "      <th>48</th>\n",
       "      <td>MotifGroup62</td>\n",
       "      <td>MEF2</td>\n",
       "      <td>0.074595</td>\n",
       "    </tr>\n",
       "    <tr>\n",
       "      <th>49</th>\n",
       "      <td>MotifGroup7</td>\n",
       "      <td>FOXA</td>\n",
       "      <td>0.119931</td>\n",
       "    </tr>\n",
       "    <tr>\n",
       "      <th>50</th>\n",
       "      <td>MotifGroup7</td>\n",
       "      <td>FOXD</td>\n",
       "      <td>0.119931</td>\n",
       "    </tr>\n",
       "    <tr>\n",
       "      <th>51</th>\n",
       "      <td>MotifGroup7</td>\n",
       "      <td>FOXF</td>\n",
       "      <td>0.119931</td>\n",
       "    </tr>\n",
       "    <tr>\n",
       "      <th>52</th>\n",
       "      <td>MotifGroup7</td>\n",
       "      <td>FOXG</td>\n",
       "      <td>0.106606</td>\n",
       "    </tr>\n",
       "    <tr>\n",
       "      <th>53</th>\n",
       "      <td>MotifGroup7</td>\n",
       "      <td>FOXI</td>\n",
       "      <td>0.119931</td>\n",
       "    </tr>\n",
       "    <tr>\n",
       "      <th>54</th>\n",
       "      <td>MotifGroup7</td>\n",
       "      <td>FOXJ</td>\n",
       "      <td>0.083286</td>\n",
       "    </tr>\n",
       "    <tr>\n",
       "      <th>55</th>\n",
       "      <td>MotifGroup7</td>\n",
       "      <td>FOXK</td>\n",
       "      <td>0.116600</td>\n",
       "    </tr>\n",
       "    <tr>\n",
       "      <th>56</th>\n",
       "      <td>MotifGroup7</td>\n",
       "      <td>FOXL</td>\n",
       "      <td>0.119931</td>\n",
       "    </tr>\n",
       "    <tr>\n",
       "      <th>57</th>\n",
       "      <td>MotifGroup7</td>\n",
       "      <td>FOXO</td>\n",
       "      <td>0.116600</td>\n",
       "    </tr>\n",
       "    <tr>\n",
       "      <th>58</th>\n",
       "      <td>MotifGroup7</td>\n",
       "      <td>FOXP</td>\n",
       "      <td>0.108827</td>\n",
       "    </tr>\n",
       "    <tr>\n",
       "      <th>59</th>\n",
       "      <td>MotifGroup74</td>\n",
       "      <td>unclassified</td>\n",
       "      <td>0.513585</td>\n",
       "    </tr>\n",
       "    <tr>\n",
       "      <th>60</th>\n",
       "      <td>MotifGroup8</td>\n",
       "      <td>ATF3-like</td>\n",
       "      <td>0.223672</td>\n",
       "    </tr>\n",
       "    <tr>\n",
       "      <th>61</th>\n",
       "      <td>MotifGroup8</td>\n",
       "      <td>Fos</td>\n",
       "      <td>0.390516</td>\n",
       "    </tr>\n",
       "    <tr>\n",
       "      <th>62</th>\n",
       "      <td>MotifGroup8</td>\n",
       "      <td>Jun</td>\n",
       "      <td>0.337070</td>\n",
       "    </tr>\n",
       "    <tr>\n",
       "      <th>63</th>\n",
       "      <td>MotifGroup8</td>\n",
       "      <td>NFE2</td>\n",
       "      <td>0.195329</td>\n",
       "    </tr>\n",
       "    <tr>\n",
       "      <th>64</th>\n",
       "      <td>MotifGroup8</td>\n",
       "      <td>R-MAD</td>\n",
       "      <td>0.706502</td>\n",
       "    </tr>\n",
       "    <tr>\n",
       "      <th>65</th>\n",
       "      <td>MotifGroup8</td>\n",
       "      <td>unclassified</td>\n",
       "      <td>0.477193</td>\n",
       "    </tr>\n",
       "    <tr>\n",
       "      <th>66</th>\n",
       "      <td>MotifGroup81</td>\n",
       "      <td>ROR(NR1F)</td>\n",
       "      <td>0.398275</td>\n",
       "    </tr>\n",
       "    <tr>\n",
       "      <th>67</th>\n",
       "      <td>MotifGroup92</td>\n",
       "      <td>unclassified</td>\n",
       "      <td>0.131734</td>\n",
       "    </tr>\n",
       "  </tbody>\n",
       "</table>\n",
       "<p>68 rows × 3 columns</p>\n",
       "</div>"
      ],
      "text/plain": [
       "      motif_group     SubFamily  total_rs\n",
       "0     MotifGroup0  unclassified  0.175881\n",
       "1   MotifGroup105          CEBP  0.093280\n",
       "2   MotifGroup122       Group A  0.307990\n",
       "3   MotifGroup125     ROR(NR1F)  0.611545\n",
       "4   MotifGroup148          MEIS  0.160655\n",
       "..            ...           ...       ...\n",
       "63    MotifGroup8          NFE2  0.195329\n",
       "64    MotifGroup8         R-MAD  0.706502\n",
       "65    MotifGroup8  unclassified  0.477193\n",
       "66   MotifGroup81     ROR(NR1F)  0.398275\n",
       "67   MotifGroup92  unclassified  0.131734\n",
       "\n",
       "[68 rows x 3 columns]"
      ]
     },
     "execution_count": 11,
     "metadata": {},
     "output_type": "execute_result"
    }
   ],
   "source": [
    "motif_gene_anno.groupby(['motif_group', 'SubFamily'])['total_rs'].mean().reset_index()"
   ]
  },
  {
   "cell_type": "code",
   "execution_count": 26,
   "metadata": {
    "ExecuteTime": {
     "end_time": "2020-03-22T20:40:23.891636Z",
     "start_time": "2020-03-22T20:40:23.887977Z"
    }
   },
   "outputs": [
    {
     "data": {
      "text/plain": [
       "147"
      ]
     },
     "execution_count": 26,
     "metadata": {},
     "output_type": "execute_result"
    }
   ],
   "source": [
    "tf_sum_rs.size"
   ]
  },
  {
   "cell_type": "code",
   "execution_count": 16,
   "metadata": {
    "ExecuteTime": {
     "end_time": "2020-03-22T07:17:40.216270Z",
     "start_time": "2020-03-22T07:17:39.788284Z"
    }
   },
   "outputs": [
    {
     "data": {
      "text/plain": [
       "25"
      ]
     },
     "execution_count": 16,
     "metadata": {},
     "output_type": "execute_result"
    },
    {
     "data": {
      "image/png": "[encoded data removed]",
      "text/plain": [
       "<Figure size 600x300 with 1 Axes>"
      ]
     },
     "metadata": {
      "needs_background": "light"
     },
     "output_type": "display_data"
    }
   ],
   "source": [
    "from matplotlib import patches\n",
    "import numpy as np\n",
    "\n",
    "label_y_cutoff = 0.7\n",
    "\n",
    "df = tf_sum_rs[tf_sum_rs > label_y_cutoff]\n",
    "other_count = tf_sum_rs[tf_sum_rs <= label_y_cutoff].size\n",
    "df[f'({other_count} Other TFs)'] = 0.2\n",
    "\n",
    "# c=[groupColors.get(langnameGroup[label],'k') for label in df.index]\n",
    "fig = plt.figure(figsize=(2, 1), dpi=300)\n",
    "gs = fig.add_gridspec(1, 10)\n",
    "\n",
    "ax = fig.add_subplot(gs[0, :])\n",
    "# ax_scatter = fig.add_subplot(gs[0, 9:])\n",
    "\n",
    "ax.axes.get_xaxis().set_visible(False)\n",
    "ax.set_xlim(-40, 0.1)\n",
    "ax.set_ylim(0, 1)\n",
    "ax.set_yticks([0, 0.5, 1])\n",
    "\n",
    "ax.spines['left'].set_visible(False)\n",
    "ax.spines['top'].set_visible(False)\n",
    "ax.spines['bottom'].set_visible(False)\n",
    "ax.yaxis.set_label_position('right')\n",
    "ax.yaxis.set_ticks_position('right')\n",
    "\n",
    "plt.tight_layout()\n",
    "\n",
    "patch = patches.Rectangle((-0.1, 0), 0.2, 100, fill=False, alpha=0)\n",
    "# We add a rectangle to make sure the labels don't move to the right\n",
    "ax.add_patch(patch)\n",
    "\n",
    "texts = []\n",
    "np.random.seed(0)\n",
    "for label, y in zip(df.index, df):\n",
    "    texts += [\n",
    "        ax.text(\n",
    "            -.1 + np.random.random() / 1000,\n",
    "            y + np.random.random() / 1000,\n",
    "            label,\n",
    "            # A small random shift prevents labels\n",
    "            # which have exactly the same coordinates from being stuck together\n",
    "            # (not a problem in this example really, but wanted to mention this possibility)\n",
    "            color='k',\n",
    "            fontsize=4)\n",
    "    ]\n",
    "adjust_text(\n",
    "    texts,\n",
    "    [0 for _ in df],\n",
    "    df,\n",
    "    ha='left',\n",
    "    va='center',\n",
    "    add_objects=[patch],\n",
    "    expand_text=(1.05, 1),\n",
    "    # We want them to be quite compact, so reducing expansion makes sense\n",
    "    force_text=(0.75, 0),\n",
    "    force_objects=(1, 0),\n",
    "    #With default forces it takes a very long time to converge,\n",
    "    # but higher values still produce very nice output\n",
    "    autoalign=False,\n",
    "    only_move={\n",
    "        'points': 'x',\n",
    "        'text': 'x',\n",
    "        'objects': 'x'\n",
    "    })\n",
    "\n"
   ]
  },
  {
   "cell_type": "code",
   "execution_count": 17,
   "metadata": {
    "ExecuteTime": {
     "end_time": "2020-03-22T07:17:40.785824Z",
     "start_time": "2020-03-22T07:17:40.779733Z"
    }
   },
   "outputs": [
    {
     "data": {
      "text/plain": [
       "(147, 60)"
      ]
     },
     "execution_count": 17,
     "metadata": {},
     "output_type": "execute_result"
    }
   ],
   "source": [
    "tf_sum_rs.size, tf_sum_rs.groupby(motif_gene_anno['SubFamily']).median().size"
   ]
  },
  {
   "cell_type": "code",
   "execution_count": 21,
   "metadata": {
    "ExecuteTime": {
     "end_time": "2020-03-22T07:18:20.984186Z",
     "start_time": "2020-03-22T07:18:20.892045Z"
    },
    "scrolled": true
   },
   "outputs": [
    {
     "data": {
      "image/png": "[encoded data removed]",
      "text/plain": [
       "<Figure size 150x300 with 1 Axes>"
      ]
     },
     "metadata": {
      "needs_background": "light"
     },
     "output_type": "display_data"
    }
   ],
   "source": [
    "fig, ax = plt.subplots(figsize=(0.5, 1), dpi=300)\n",
    "sns.stripplot(y=tf_sum_rs, jitter=0.2, s=1, color='k')\n",
    "sns.despine(ax=ax, bottom=True, left=True, right=False)\n",
    "ax.set_ylabel('Total RS')\n",
    "ax.yaxis.set_label_position('right')\n",
    "ax.yaxis.set_ticks_position('right')\n",
    "ax.set_ylim(0, 1)\n",
    "ax.set_yticks([0, 0.5, 1])\n",
    "\n",
    "ax.set_xticks([])\n",
    "\n",
    "fig.savefig('Region.Motif.total_rs.strip_plot.scatter_part.pdf')"
   ]
  },
  {
   "cell_type": "code",
   "execution_count": 22,
   "metadata": {
    "ExecuteTime": {
     "end_time": "2020-03-22T07:18:21.153189Z",
     "start_time": "2020-03-22T07:18:21.149398Z"
    }
   },
   "outputs": [],
   "source": [
    "tf_sum_rs.to_csv('Region.motif.sum_rs.csv', header=False)"
   ]
  },
  {
   "cell_type": "markdown",
   "metadata": {},
   "source": [
    "## Plot logos\n"
   ]
  },
  {
   "cell_type": "code",
   "execution_count": 23,
   "metadata": {
    "ExecuteTime": {
     "end_time": "2020-03-22T07:18:26.558638Z",
     "start_time": "2020-03-22T07:18:23.660724Z"
    }
   },
   "outputs": [
    {
     "name": "stderr",
     "output_type": "stream",
     "text": [
      "/home/hanliu/miniconda3/envs/clustering/lib/python3.7/site-packages/ALLCools/motif/utilities.py:138: RuntimeWarning: divide by zero encountered in log2\n",
      "  information_content = (pfm * np.log2(pfm / 0.25)).sum(axis=1)\n"
     ]
    },
    {
     "data": {
      "text/plain": [
       "Family\n",
       "SMAD                                        0.706502\n",
       "Tal-related                                 0.551438\n",
       "B-ATF-related                               0.542021\n",
       "Thyroid hormone receptor-related factors    0.541593\n",
       "HD-ZF                                       0.521965\n",
       "RFX                                         0.513585\n",
       "E2A                                         0.480420\n",
       "SOX-related                                 0.446832\n",
       "MyoD-ASC-related                            0.410528\n",
       "Fos-related                                 0.394871\n",
       "CSL-related                                 0.367729\n",
       "Jun-related                                 0.306773\n",
       "PD+HD                                       0.298101\n",
       "Paired-related HD                           0.293913\n",
       "More than 3 adjacent zinc fingers           0.270170\n",
       "NK                                          0.220169\n",
       "TBX1-related                                0.210072\n",
       "TBX2-related                                0.192880\n",
       "TBX6-related                                0.192880\n",
       "TALE-type HD                                0.187450\n",
       "HD-LIM                                      0.140819\n",
       "                                            0.128942\n",
       "FOX                                         0.119931\n",
       "HOX                                         0.104866\n",
       "NF-1                                        0.102208\n",
       "CEBP-related                                0.093280\n",
       "bHLH-ZIP                                    0.093280\n",
       "Regulators of differentiation               0.074595\n",
       "NGFI(NR4A)                                  0.053458\n",
       "Name: impact, dtype: float64"
      ]
     },
     "execution_count": 23,
     "metadata": {},
     "output_type": "execute_result"
    }
   ],
   "source": [
    "from ALLCools.motif.utilities import *\n",
    "\n",
    "pfm_dict = meme_to_pfm_dict(\n",
    "    '/home/hanliu/ref/MEME/selected_motifs_sets/JASPAR2020_CORE_vertebrates_non-redundant_pfms.meme'\n",
    ")\n",
    "\n",
    "use_top = tf_sum_rs.groupby(motif_gene_anno['Family']).median().sort_values(ascending=False)[:30]\n",
    "use_top"
   ]
  },
  {
   "cell_type": "code",
   "execution_count": 24,
   "metadata": {
    "ExecuteTime": {
     "end_time": "2020-03-22T07:18:32.947596Z",
     "start_time": "2020-03-22T07:18:29.644657Z"
    }
   },
   "outputs": [
    {
     "data": {
      "image/png": "[encoded data removed]",
      "text/plain": [
       "<Figure size 450x1080 with 29 Axes>"
      ]
     },
     "metadata": {
      "needs_background": "light"
     },
     "output_type": "display_data"
    }
   ],
   "source": [
    "motifs = tf_sum_rs.groupby(motif_gene_anno['Family']).idxmax().loc[use_top.index]\n",
    "pfms = {k:pfm_dict[v] for k,v in motifs.items()}\n",
    "\n",
    "max_col = max((i.shape[0] for i in pfms.values()))\n",
    "\n",
    "fig = plt.figure(figsize=(1.5, 3.6), dpi=300)\n",
    "\n",
    "gs = fig.add_gridspec(len(pfms), 20)\n",
    "\n",
    "for i, (name, pfm) in enumerate(pfms.items()):\n",
    "    ax = fig.add_subplot(gs[i, :pfm.shape[0]])\n",
    "    plot_pfm(pfm=pfm, ax=ax)\n",
    "    ax.axis('off')\n",
    "    ax.text(0, 0.5, name, fontsize=6,\n",
    "            ha='left', va='center', transform=ax.transAxes)\n",
    "    \n",
    "fig.savefig('Region.Motif.top_logos.pdf')"
   ]
  },
  {
   "cell_type": "code",
   "execution_count": null,
   "metadata": {},
   "outputs": [],
   "source": []
  },
  {
   "cell_type": "code",
   "execution_count": null,
   "metadata": {},
   "outputs": [],
   "source": []
  },
  {
   "cell_type": "code",
   "execution_count": null,
   "metadata": {},
   "outputs": [],
   "source": []
  },
  {
   "cell_type": "code",
   "execution_count": null,
   "metadata": {},
   "outputs": [],
   "source": []
  }
 ],
 "metadata": {
  "hide_input": false,
  "kernelspec": {
   "display_name": "Python 3",
   "language": "python",
   "name": "python3"
  },
  "language_info": {
   "codemirror_mode": {
    "name": "ipython",
    "version": 3
   },
   "file_extension": ".py",
   "mimetype": "text/x-python",
   "name": "python",
   "nbconvert_exporter": "python",
   "pygments_lexer": "ipython3",
   "version": "3.7.3"
  },
  "toc": {
   "base_numbering": 1,
   "nav_menu": {},
   "number_sections": true,
   "sideBar": true,
   "skip_h1_title": true,
   "title_cell": "Table of Contents",
   "title_sidebar": "Contents",
   "toc_cell": false,
   "toc_position": {},
   "toc_section_display": true,
   "toc_window_display": true
  }
 },
 "nbformat": 4,
 "nbformat_minor": 2
}
