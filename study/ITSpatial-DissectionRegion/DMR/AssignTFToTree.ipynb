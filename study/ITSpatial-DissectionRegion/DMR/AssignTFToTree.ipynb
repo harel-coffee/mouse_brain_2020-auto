{
 "cells": [
  {
   "cell_type": "code",
   "execution_count": 1,
   "metadata": {
    "ExecuteTime": {
     "end_time": "2020-03-22T06:04:43.873254Z",
     "start_time": "2020-03-22T06:04:43.502854Z"
    },
    "papermill": {
     "duration": 0.374786,
     "end_time": "2020-01-27T23:41:52.695240",
     "exception": false,
     "start_time": "2020-01-27T23:41:52.320454",
     "status": "completed"
    },
    "tags": []
   },
   "outputs": [],
   "source": [
    "from concurrent.futures import ProcessPoolExecutor, as_completed\n",
    "\n",
    "import joblib\n",
    "import matplotlib.pyplot as plt\n",
    "import numpy as np\n",
    "import pandas as pd\n",
    "import seaborn as sns"
   ]
  },
  {
   "cell_type": "code",
   "execution_count": 2,
   "metadata": {
    "ExecuteTime": {
     "end_time": "2020-03-22T06:04:44.421701Z",
     "start_time": "2020-03-22T06:04:44.419555Z"
    },
    "papermill": {
     "duration": 0.009949,
     "end_time": "2020-01-27T23:41:52.711842",
     "exception": false,
     "start_time": "2020-01-27T23:41:52.701893",
     "status": "completed"
    },
    "tags": []
   },
   "outputs": [],
   "source": [
    "cpu = 10\n",
    "\n",
    "lgp_cutoff = 8\n",
    "log2odds_cutoff = 1"
   ]
  },
  {
   "cell_type": "markdown",
   "metadata": {},
   "source": [
    "## Load"
   ]
  },
  {
   "cell_type": "markdown",
   "metadata": {},
   "source": [
    "### Pairwise Motif Enrichment"
   ]
  },
  {
   "cell_type": "code",
   "execution_count": 3,
   "metadata": {
    "ExecuteTime": {
     "end_time": "2020-03-22T06:04:48.622313Z",
     "start_time": "2020-03-22T06:04:48.088568Z"
    }
   },
   "outputs": [
    {
     "name": "stderr",
     "output_type": "stream",
     "text": [
      "/home/hanliu/miniconda3/envs/clustering/lib/python3.7/site-packages/IPython/core/interactiveshell.py:3326: FutureWarning: The read_msgpack is deprecated and will be removed in a future version.\n",
      "It is recommended to use pyarrow for on-the-wire transmission of pandas objects.\n",
      "  exec(code_obj, self.user_global_ns, self.user_ns)\n",
      "/home/hanliu/miniconda3/envs/clustering/lib/python3.7/site-packages/pandas/core/series.py:853: RuntimeWarning: divide by zero encountered in log2\n",
      "  result = getattr(ufunc, method)(*inputs, **kwargs)\n"
     ]
    }
   ],
   "source": [
    "motif_enrichment_results = pd.read_msgpack('PairwiseMotifEnrichment.msg')\n",
    "motif_enrichment_results['log2odds'] = np.log2(\n",
    "    motif_enrichment_results['oddsratio'])\n",
    "motif_enrichment_results = motif_enrichment_results[\n",
    "    (motif_enrichment_results['-lgp'] > lgp_cutoff)\n",
    "    & (motif_enrichment_results['log2odds'].abs() > log2odds_cutoff)].copy()"
   ]
  },
  {
   "cell_type": "code",
   "execution_count": 4,
   "metadata": {
    "ExecuteTime": {
     "end_time": "2020-03-22T06:05:29.220860Z",
     "start_time": "2020-03-22T06:04:50.183899Z"
    }
   },
   "outputs": [],
   "source": [
    "def judge_row(row):\n",
    "    if row['log2odds'] < 0:\n",
    "        return pd.Series({'enrich': row['ClusterB'], 'null': row['ClusterA']})\n",
    "    else:\n",
    "        return pd.Series({'enrich': row['ClusterA'], 'null': row['ClusterB']})\n",
    "\n",
    "\n",
    "motif_sig_judge = motif_enrichment_results.apply(judge_row, axis=1)"
   ]
  },
  {
   "cell_type": "code",
   "execution_count": 5,
   "metadata": {
    "ExecuteTime": {
     "end_time": "2020-03-22T06:05:29.241638Z",
     "start_time": "2020-03-22T06:05:29.222371Z"
    }
   },
   "outputs": [
    {
     "data": {
      "text/plain": [
       "array(['IT-L4+MOp-2', 'IT-L4+SSp-3', 'IT-L4+SSp-4', 'IT-L4+MOp-1',\n",
       "       'IT-L4+SSp-5', 'IT-L4+MOs-3', 'IT-L4+MOs-1', 'IT-L23+SSp-2',\n",
       "       'IT-L23+SSp-3', 'IT-L23+SSs-2', 'IT-L23+MOp-2', 'IT-L23+MOp-3',\n",
       "       'IT-L23+SSp-1', 'IT-L23+SSs-1', 'IT-L23+SSp-4', 'IT-L23+MOs-3',\n",
       "       'IT-L23+MOs-2', 'IT-L23+SSp-5', 'IT-L23+MOp-1', 'IT-L23+MOs-1',\n",
       "       'IT-L23+MOp-4', 'IT-L23+PFC-1', 'IT-L23+ACA-3', 'IT-L23+PFC-2',\n",
       "       'IT-L23+AI', 'IT-L23+ORB', 'IT-L23+ACA-1', 'IT-L23+ACA-2',\n",
       "       'IT-L5+MOs-2', 'IT-L6+SSp-3', 'IT-L6+SSp-2', 'IT-L6+ACA-2',\n",
       "       'IT-L6+SSp-1', 'IT-L6+SSp-4', 'IT-L6+ACA-3', 'IT-L6+SSs-2',\n",
       "       'IT-L6+SSp-5', 'IT-L6+ACA-1', 'IT-L5+SSs-2', 'IT-L6+MOs-2',\n",
       "       'IT-L5+SSp-2', 'IT-L5+SSp-3', 'IT-L6+AI', 'IT-L6+PFC-2',\n",
       "       'IT-L6+SSs-1', 'IT-L5+MOp-2', 'IT-L5+SSs-1', 'IT-L6+PFC-1',\n",
       "       'IT-L5+SSp-4', 'IT-L4+SSs-1', 'IT-L6+MOp-2', 'IT-L5+MOp-3',\n",
       "       'IT-L6+MOp-3', 'IT-L6+MOs-3', 'IT-L5+SSp-1', 'IT-L5+MOs-3',\n",
       "       'IT-L6+MOp-4', 'IT-L5+SSp-5', 'IT-L4+MOp-4', 'IT-L5+MOp-1',\n",
       "       'IT-L5+MOs-1', 'IT-L5+MOp-4', 'IT-L5+ACA-3', 'IT-L5+ACA-2',\n",
       "       'IT-L5+AI', 'IT-L5+PFC-1', 'IT-L5+ORB', 'IT-L5+ACA-1',\n",
       "       'IT-L5+PFC-2', 'IT-L4+SSs-2', 'IT-L4+SSp-1', 'IT-L4+SSp-2',\n",
       "       'IT-L4+MOp-3'], dtype=object)"
      ]
     },
     "execution_count": 5,
     "metadata": {},
     "output_type": "execute_result"
    }
   ],
   "source": [
    "motif_sig_judge['enrich'].unique()"
   ]
  },
  {
   "cell_type": "code",
   "execution_count": null,
   "metadata": {},
   "outputs": [],
   "source": []
  },
  {
   "cell_type": "markdown",
   "metadata": {},
   "source": [
    "### Dendrogram"
   ]
  },
  {
   "cell_type": "code",
   "execution_count": 6,
   "metadata": {
    "ExecuteTime": {
     "end_time": "2020-03-22T06:05:31.628397Z",
     "start_time": "2020-03-22T06:05:31.624265Z"
    },
    "papermill": {
     "duration": 0.381645,
     "end_time": "2020-01-27T23:41:53.115377",
     "exception": false,
     "start_time": "2020-01-27T23:41:52.733732",
     "status": "completed"
    },
    "tags": []
   },
   "outputs": [],
   "source": [
    "node_cluster_dict = joblib.load(\n",
    "    '/home/hanliu/project/mouse_rostral_brain/study/ITSpatial-DissectionRegion/DMG/ITSpatial.pvclust.non_singleton_node_dict.lib'\n",
    ")\n"
   ]
  },
  {
   "cell_type": "code",
   "execution_count": 7,
   "metadata": {
    "ExecuteTime": {
     "end_time": "2020-03-22T06:05:33.831481Z",
     "start_time": "2020-03-22T06:05:33.828072Z"
    },
    "papermill": {
     "duration": 0.011486,
     "end_time": "2020-01-27T23:41:53.133286",
     "exception": false,
     "start_time": "2020-01-27T23:41:53.121800",
     "status": "completed"
    },
    "tags": []
   },
   "outputs": [],
   "source": [
    "node_possible_count = {}\n",
    "for node, sub_dict in node_cluster_dict.items():\n",
    "    possible_pairs = len(sub_dict['left']) * len(sub_dict['right'])\n",
    "    node_possible_count[node] = possible_pairs\n",
    "node_possible_count = pd.Series(node_possible_count)"
   ]
  },
  {
   "cell_type": "markdown",
   "metadata": {},
   "source": [
    "### Gene Meta"
   ]
  },
  {
   "cell_type": "code",
   "execution_count": 8,
   "metadata": {
    "ExecuteTime": {
     "end_time": "2020-03-22T06:05:35.345330Z",
     "start_time": "2020-03-22T06:05:35.142214Z"
    }
   },
   "outputs": [],
   "source": [
    "gene_meta = pd.read_csv(\n",
    "    '/home/hanliu/ref/mouse/gencode/vm22/gencode.vM22.annotation.gene.flat.tsv.gz',\n",
    "    sep='\\t',\n",
    "    index_col='gene_id')\n",
    "gene_name_to_id = {v: k for k, v in gene_meta['gene_name'].items()}"
   ]
  },
  {
   "cell_type": "markdown",
   "metadata": {},
   "source": [
    "## Assign motif to tree"
   ]
  },
  {
   "cell_type": "code",
   "execution_count": 9,
   "metadata": {
    "ExecuteTime": {
     "end_time": "2020-03-22T06:05:36.592606Z",
     "start_time": "2020-03-22T06:05:36.587379Z"
    }
   },
   "outputs": [],
   "source": [
    "def calculate_node_portion(sub_df):\n",
    "    nodes_records = {}\n",
    "    for k, v in node_cluster_dict.items():\n",
    "        left = [i.replace(' ', '_') for i in v['left']]\n",
    "        right = [i.replace(' ', '_') for i in v['right']]\n",
    "\n",
    "        # left enrich, right null\n",
    "        judge_from_left = sub_df['enrich'].apply(lambda i: i in left)\n",
    "        judge_to_right = sub_df['null'].apply(lambda i: i in right)\n",
    "\n",
    "        # right enrich, left hyper\n",
    "        judge_from_right = sub_df['enrich'].apply(lambda i: i in right)\n",
    "        judge_to_left = sub_df['null'].apply(lambda i: i in left)\n",
    "\n",
    "        # this two cancel each other, use the remaining abs as real hits\n",
    "        # positive means left hypo, negative means right hypo\n",
    "        total = (judge_from_left & judge_to_right).sum() -\\\n",
    "                (judge_from_right & judge_to_left).sum()\n",
    "        nodes_records[k] = total\n",
    "    nodes_records = pd.Series(nodes_records) / node_possible_count\n",
    "    return nodes_records"
   ]
  },
  {
   "cell_type": "code",
   "execution_count": null,
   "metadata": {},
   "outputs": [],
   "source": []
  },
  {
   "cell_type": "code",
   "execution_count": null,
   "metadata": {},
   "outputs": [],
   "source": []
  },
  {
   "cell_type": "code",
   "execution_count": 10,
   "metadata": {
    "ExecuteTime": {
     "end_time": "2020-03-22T06:05:42.949168Z",
     "start_time": "2020-03-22T06:05:38.650007Z"
    },
    "papermill": {
     "duration": 22.203033,
     "end_time": "2020-01-27T23:42:15.341409",
     "exception": false,
     "start_time": "2020-01-27T23:41:53.138376",
     "status": "completed"
    },
    "tags": []
   },
   "outputs": [],
   "source": [
    "total_result = {}\n",
    "with ProcessPoolExecutor(cpu) as executor:\n",
    "    futures = {}\n",
    "    for motif, sub_df in motif_sig_judge.groupby(motif_sig_judge.index):\n",
    "        future = executor.submit(calculate_node_portion, sub_df)\n",
    "        futures[future] = motif\n",
    "        \n",
    "    for future in as_completed(futures):\n",
    "        result = future.result()\n",
    "        gene = futures[future]\n",
    "        total_result[gene] = result\n",
    "total_result = pd.DataFrame(total_result)"
   ]
  },
  {
   "cell_type": "code",
   "execution_count": 11,
   "metadata": {
    "ExecuteTime": {
     "end_time": "2020-03-22T06:05:43.037427Z",
     "start_time": "2020-03-22T06:05:42.950875Z"
    }
   },
   "outputs": [],
   "source": [
    "mask_cutoff = 0.3\n",
    "\n",
    "masked_result = total_result.copy()\n",
    "masked_result[masked_result.abs() < 0.3] = 0"
   ]
  },
  {
   "cell_type": "code",
   "execution_count": 12,
   "metadata": {
    "ExecuteTime": {
     "end_time": "2020-03-22T06:05:43.120213Z",
     "start_time": "2020-03-22T06:05:43.038809Z"
    }
   },
   "outputs": [
    {
     "data": {
      "text/plain": [
       "174"
      ]
     },
     "execution_count": 12,
     "metadata": {},
     "output_type": "execute_result"
    }
   ],
   "source": [
    "# gene that assign to at least one node\n",
    "((masked_result != 0).sum(axis=0) != 0).sum()"
   ]
  },
  {
   "cell_type": "code",
   "execution_count": 13,
   "metadata": {
    "ExecuteTime": {
     "end_time": "2020-03-22T06:05:43.200464Z",
     "start_time": "2020-03-22T06:05:43.121382Z"
    }
   },
   "outputs": [
    {
     "data": {
      "text/plain": [
       "17"
      ]
     },
     "execution_count": 13,
     "metadata": {},
     "output_type": "execute_result"
    }
   ],
   "source": [
    "# node that has at least 5 genes\n",
    "((masked_result != 0).sum(axis=1) > 5).sum()"
   ]
  },
  {
   "cell_type": "code",
   "execution_count": 14,
   "metadata": {
    "ExecuteTime": {
     "end_time": "2020-03-22T06:05:44.397376Z",
     "start_time": "2020-03-22T06:05:44.313593Z"
    }
   },
   "outputs": [
    {
     "data": {
      "text/plain": [
       "MA0003.4      0\n",
       "MA0018.4      0\n",
       "MA0025.2      0\n",
       "MA0039.4      0\n",
       "MA0032.2    142\n",
       "           ... \n",
       "MA1638.1    142\n",
       "MA1652.1      0\n",
       "MA1653.1      0\n",
       "MA1642.1    142\n",
       "MA1683.1    142\n",
       "Length: 354, dtype: int64"
      ]
     },
     "execution_count": 14,
     "metadata": {},
     "output_type": "execute_result"
    }
   ],
   "source": [
    "masked_result.apply(lambda i: 0 if i.abs().max() == 0 else i.abs().idxmax(), axis=0)"
   ]
  },
  {
   "cell_type": "code",
   "execution_count": 15,
   "metadata": {
    "ExecuteTime": {
     "end_time": "2020-03-22T06:05:45.842024Z",
     "start_time": "2020-03-22T06:05:45.081451Z"
    },
    "papermill": {
     "duration": 2.461153,
     "end_time": "2020-01-27T23:42:17.809079",
     "exception": false,
     "start_time": "2020-01-27T23:42:15.347926",
     "status": "completed"
    },
    "scrolled": false,
    "tags": []
   },
   "outputs": [
    {
     "data": {
      "text/plain": [
       "<seaborn.matrix.ClusterGrid at 0x7f8c3e3cddd8>"
      ]
     },
     "execution_count": 15,
     "metadata": {},
     "output_type": "execute_result"
    },
    {
     "data": {
      "image/png": "[encoded data removed]",
      "text/plain": [
       "<Figure size 720x720 with 4 Axes>"
      ]
     },
     "metadata": {
      "needs_background": "light"
     },
     "output_type": "display_data"
    }
   ],
   "source": [
    "sns.clustermap(total_result, row_cluster=False, cmap='coolwarm')"
   ]
  },
  {
   "cell_type": "code",
   "execution_count": 16,
   "metadata": {
    "ExecuteTime": {
     "end_time": "2020-03-22T06:05:50.679647Z",
     "start_time": "2020-03-22T06:05:50.676093Z"
    },
    "papermill": {
     "duration": 0.022275,
     "end_time": "2020-01-27T23:42:17.839136",
     "exception": false,
     "start_time": "2020-01-27T23:42:17.816861",
     "status": "completed"
    },
    "tags": []
   },
   "outputs": [
    {
     "name": "stderr",
     "output_type": "stream",
     "text": [
      "/home/hanliu/miniconda3/envs/clustering/lib/python3.7/site-packages/ipykernel_launcher.py:1: FutureWarning: to_msgpack is deprecated and will be removed in a future version.\n",
      "It is recommended to use pyarrow for on-the-wire transmission of pandas objects.\n",
      "  \"\"\"Entry point for launching an IPython kernel.\n"
     ]
    }
   ],
   "source": [
    "total_result.to_msgpack('NodeMotifResults.msg')"
   ]
  },
  {
   "cell_type": "code",
   "execution_count": null,
   "metadata": {
    "papermill": {
     "duration": 0.006577,
     "end_time": "2020-01-27T23:42:17.852473",
     "exception": false,
     "start_time": "2020-01-27T23:42:17.845896",
     "status": "completed"
    },
    "scrolled": true,
    "tags": []
   },
   "outputs": [],
   "source": []
  },
  {
   "cell_type": "code",
   "execution_count": null,
   "metadata": {
    "papermill": {
     "duration": 0.006515,
     "end_time": "2020-01-27T23:42:17.865441",
     "exception": false,
     "start_time": "2020-01-27T23:42:17.858926",
     "status": "completed"
    },
    "tags": []
   },
   "outputs": [],
   "source": []
  },
  {
   "cell_type": "code",
   "execution_count": null,
   "metadata": {
    "papermill": {
     "duration": 0.006349,
     "end_time": "2020-01-27T23:42:17.878223",
     "exception": false,
     "start_time": "2020-01-27T23:42:17.871874",
     "status": "completed"
    },
    "tags": []
   },
   "outputs": [],
   "source": []
  }
 ],
 "metadata": {
  "hide_input": false,
  "kernelspec": {
   "display_name": "Python 3",
   "language": "python",
   "name": "python3"
  },
  "language_info": {
   "codemirror_mode": {
    "name": "ipython",
    "version": 3
   },
   "file_extension": ".py",
   "mimetype": "text/x-python",
   "name": "python",
   "nbconvert_exporter": "python",
   "pygments_lexer": "ipython3",
   "version": "3.7.3"
  },
  "papermill": {
   "duration": 27.14924,
   "end_time": "2020-01-27T23:42:18.391904",
   "environment_variables": {},
   "exception": null,
   "input_path": "3.AssignGeneToTree.ipynb",
   "output_path": "/home/hanliu/project/mouse_rostral_brain/study/AssignGeneToTree/ExcGeneToTree/3.AssignGeneToTree.ipynb",
   "parameters": {},
   "start_time": "2020-01-27T23:41:51.242664",
   "version": "1.0.1"
  },
  "toc": {
   "base_numbering": 1,
   "nav_menu": {},
   "number_sections": true,
   "sideBar": true,
   "skip_h1_title": true,
   "title_cell": "Table of Contents",
   "title_sidebar": "Contents",
   "toc_cell": false,
   "toc_position": {},
   "toc_section_display": true,
   "toc_window_display": true
  }
 },
 "nbformat": 4,
 "nbformat_minor": 2
}
