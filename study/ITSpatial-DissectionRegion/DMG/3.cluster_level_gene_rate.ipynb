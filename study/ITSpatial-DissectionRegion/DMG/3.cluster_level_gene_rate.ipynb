{
 "cells": [
  {
   "cell_type": "code",
   "execution_count": 1,
   "metadata": {
    "ExecuteTime": {
     "end_time": "2020-03-20T23:22:57.555725Z",
     "start_time": "2020-03-20T23:22:57.419588Z"
    }
   },
   "outputs": [],
   "source": [
    "import pandas as pd\n",
    "import numpy as np"
   ]
  },
  {
   "cell_type": "code",
   "execution_count": 2,
   "metadata": {
    "ExecuteTime": {
     "end_time": "2020-03-20T23:22:57.816916Z",
     "start_time": "2020-03-20T23:22:57.590677Z"
    }
   },
   "outputs": [],
   "source": [
    "gene_rate = pd.read_hdf('ITSpatial.GeneWithSlop2kb.gene_da_rate.group_center.hdf')"
   ]
  },
  {
   "cell_type": "code",
   "execution_count": 3,
   "metadata": {
    "ExecuteTime": {
     "end_time": "2020-03-20T23:22:59.236261Z",
     "start_time": "2020-03-20T23:22:58.090251Z"
    }
   },
   "outputs": [
    {
     "name": "stderr",
     "output_type": "stream",
     "text": [
      "/home/hanliu/miniconda3/envs/clustering/lib/python3.7/site-packages/IPython/core/interactiveshell.py:3326: FutureWarning: The read_msgpack is deprecated and will be removed in a future version.\n",
      "It is recommended to use pyarrow for on-the-wire transmission of pandas objects.\n",
      "  exec(code_obj, self.user_global_ns, self.user_ns)\n"
     ]
    }
   ],
   "source": [
    "pairwise_dmg = pd.read_msgpack('TotalPairwiseMarker.msg')"
   ]
  },
  {
   "cell_type": "code",
   "execution_count": 4,
   "metadata": {
    "ExecuteTime": {
     "end_time": "2020-03-20T23:22:59.447850Z",
     "start_time": "2020-03-20T23:22:59.237923Z"
    }
   },
   "outputs": [],
   "source": [
    "counts = pairwise_dmg['gene_id'].value_counts()\n",
    "use_gene = counts[counts > 15].index"
   ]
  },
  {
   "cell_type": "code",
   "execution_count": 5,
   "metadata": {
    "ExecuteTime": {
     "end_time": "2020-03-20T23:23:00.210619Z",
     "start_time": "2020-03-20T23:22:59.841947Z"
    }
   },
   "outputs": [],
   "source": [
    "gene_rate[use_gene].T.to_csv('GroupByDMG.csv')"
   ]
  },
  {
   "cell_type": "code",
   "execution_count": 6,
   "metadata": {
    "ExecuteTime": {
     "end_time": "2020-03-20T23:23:00.921966Z",
     "start_time": "2020-03-20T23:23:00.624368Z"
    }
   },
   "outputs": [],
   "source": [
    "from sklearn.decomposition import PCA"
   ]
  },
  {
   "cell_type": "code",
   "execution_count": 7,
   "metadata": {
    "ExecuteTime": {
     "end_time": "2020-03-20T23:23:01.235434Z",
     "start_time": "2020-03-20T23:23:01.232482Z"
    }
   },
   "outputs": [],
   "source": [
    "clf = PCA(\n",
    "    n_components=70,\n",
    "    copy=True,\n",
    "    whiten=False,\n",
    "    svd_solver='auto',\n",
    "    tol=0.0,\n",
    "    iterated_power='auto',\n",
    "    random_state=0)"
   ]
  },
  {
   "cell_type": "code",
   "execution_count": 8,
   "metadata": {
    "ExecuteTime": {
     "end_time": "2020-03-20T23:23:02.225207Z",
     "start_time": "2020-03-20T23:23:02.066048Z"
    }
   },
   "outputs": [],
   "source": [
    "pc = clf.fit_transform(gene_rate[use_gene].values)"
   ]
  },
  {
   "cell_type": "code",
   "execution_count": 9,
   "metadata": {
    "ExecuteTime": {
     "end_time": "2020-03-20T23:23:02.587030Z",
     "start_time": "2020-03-20T23:23:02.459723Z"
    }
   },
   "outputs": [
    {
     "data": {
      "text/plain": [
       "<matplotlib.axes._subplots.AxesSubplot at 0x7efc9aa9a160>"
      ]
     },
     "execution_count": 9,
     "metadata": {},
     "output_type": "execute_result"
    },
    {
     "data": {
      "image/png": "[encoded data removed]",
      "text/plain": [
       "<Figure size 432x288 with 1 Axes>"
      ]
     },
     "metadata": {
      "needs_background": "light"
     },
     "output_type": "display_data"
    }
   ],
   "source": [
    "pd.Series(clf.explained_variance_ratio_).plot()"
   ]
  },
  {
   "cell_type": "code",
   "execution_count": 10,
   "metadata": {
    "ExecuteTime": {
     "end_time": "2020-03-20T23:23:03.153271Z",
     "start_time": "2020-03-20T23:23:03.146629Z"
    }
   },
   "outputs": [],
   "source": [
    "pc_df = pd.DataFrame(pc[:, :20], index=gene_rate.index, columns=[f'PC{i}' for i in range(1, 21)])\n",
    "pc_df.T.to_csv('PC.csv')"
   ]
  },
  {
   "cell_type": "markdown",
   "metadata": {},
   "source": [
    "## Annotate rate"
   ]
  },
  {
   "cell_type": "code",
   "execution_count": 13,
   "metadata": {
    "ExecuteTime": {
     "end_time": "2020-03-20T23:23:39.469305Z",
     "start_time": "2020-03-20T23:23:39.460822Z"
    }
   },
   "outputs": [
    {
     "data": {
      "text/html": [
       "<div>\n",
       "<style scoped>\n",
       "    .dataframe tbody tr th:only-of-type {\n",
       "        vertical-align: middle;\n",
       "    }\n",
       "\n",
       "    .dataframe tbody tr th {\n",
       "        vertical-align: top;\n",
       "    }\n",
       "\n",
       "    .dataframe thead th {\n",
       "        text-align: right;\n",
       "    }\n",
       "</style>\n",
       "<table border=\"1\" class=\"dataframe\">\n",
       "  <thead>\n",
       "    <tr style=\"text-align: right;\">\n",
       "      <th></th>\n",
       "      <th>pvals_adj</th>\n",
       "      <th>gene_id</th>\n",
       "      <th>cluster_from</th>\n",
       "      <th>cluster_to</th>\n",
       "      <th>gene_name</th>\n",
       "      <th>-lgp</th>\n",
       "      <th>AUROC</th>\n",
       "    </tr>\n",
       "  </thead>\n",
       "  <tbody>\n",
       "    <tr>\n",
       "      <th>0</th>\n",
       "      <td>1.416123e-122</td>\n",
       "      <td>ENSMUSG00000032452.12</td>\n",
       "      <td>IT-L23+ACA-1</td>\n",
       "      <td>IT-L23+ORB</td>\n",
       "      <td>Clstn2</td>\n",
       "      <td>121.848899</td>\n",
       "      <td>0.903815</td>\n",
       "    </tr>\n",
       "    <tr>\n",
       "      <th>1</th>\n",
       "      <td>4.504087e-120</td>\n",
       "      <td>ENSMUSG00000035566.7</td>\n",
       "      <td>IT-L23+ACA-1</td>\n",
       "      <td>IT-L23+ORB</td>\n",
       "      <td>Pcdh17</td>\n",
       "      <td>119.346393</td>\n",
       "      <td>0.899446</td>\n",
       "    </tr>\n",
       "    <tr>\n",
       "      <th>2</th>\n",
       "      <td>2.321487e-86</td>\n",
       "      <td>ENSMUSG00000043635.12</td>\n",
       "      <td>IT-L23+ACA-1</td>\n",
       "      <td>IT-L23+ORB</td>\n",
       "      <td>Adamts3</td>\n",
       "      <td>85.634234</td>\n",
       "      <td>0.837248</td>\n",
       "    </tr>\n",
       "    <tr>\n",
       "      <th>3</th>\n",
       "      <td>2.567505e-83</td>\n",
       "      <td>ENSMUSG00000115529.1</td>\n",
       "      <td>IT-L23+ACA-1</td>\n",
       "      <td>IT-L23+ORB</td>\n",
       "      <td>9630013A20Rik</td>\n",
       "      <td>82.590489</td>\n",
       "      <td>0.831117</td>\n",
       "    </tr>\n",
       "    <tr>\n",
       "      <th>4</th>\n",
       "      <td>2.958517e-82</td>\n",
       "      <td>ENSMUSG00000029778.12</td>\n",
       "      <td>IT-L23+ACA-1</td>\n",
       "      <td>IT-L23+ORB</td>\n",
       "      <td>Adcyap1r1</td>\n",
       "      <td>81.528926</td>\n",
       "      <td>0.828921</td>\n",
       "    </tr>\n",
       "  </tbody>\n",
       "</table>\n",
       "</div>"
      ],
      "text/plain": [
       "       pvals_adj                gene_id  cluster_from  cluster_to  \\\n",
       "0  1.416123e-122  ENSMUSG00000032452.12  IT-L23+ACA-1  IT-L23+ORB   \n",
       "1  4.504087e-120   ENSMUSG00000035566.7  IT-L23+ACA-1  IT-L23+ORB   \n",
       "2   2.321487e-86  ENSMUSG00000043635.12  IT-L23+ACA-1  IT-L23+ORB   \n",
       "3   2.567505e-83   ENSMUSG00000115529.1  IT-L23+ACA-1  IT-L23+ORB   \n",
       "4   2.958517e-82  ENSMUSG00000029778.12  IT-L23+ACA-1  IT-L23+ORB   \n",
       "\n",
       "       gene_name        -lgp     AUROC  \n",
       "0         Clstn2  121.848899  0.903815  \n",
       "1         Pcdh17  119.346393  0.899446  \n",
       "2        Adamts3   85.634234  0.837248  \n",
       "3  9630013A20Rik   82.590489  0.831117  \n",
       "4      Adcyap1r1   81.528926  0.828921  "
      ]
     },
     "execution_count": 13,
     "metadata": {},
     "output_type": "execute_result"
    }
   ],
   "source": [
    "pairwise_dmg.head()"
   ]
  },
  {
   "cell_type": "code",
   "execution_count": 18,
   "metadata": {
    "ExecuteTime": {
     "end_time": "2020-03-20T23:25:35.534528Z",
     "start_time": "2020-03-20T23:24:57.972963Z"
    }
   },
   "outputs": [],
   "source": [
    "pairwise_dmg['from_rate'] = pairwise_dmg.apply(lambda i: gene_rate.at[i['cluster_from'], i['gene_id']], axis=1)"
   ]
  },
  {
   "cell_type": "code",
   "execution_count": 19,
   "metadata": {
    "ExecuteTime": {
     "end_time": "2020-03-20T23:26:12.646980Z",
     "start_time": "2020-03-20T23:25:35.536519Z"
    }
   },
   "outputs": [],
   "source": [
    "pairwise_dmg['to_rate'] = pairwise_dmg.apply(lambda i: gene_rate.at[i['cluster_to'], i['gene_id']], axis=1)"
   ]
  },
  {
   "cell_type": "code",
   "execution_count": 23,
   "metadata": {
    "ExecuteTime": {
     "end_time": "2020-03-20T23:31:03.715799Z",
     "start_time": "2020-03-20T23:31:01.847899Z"
    }
   },
   "outputs": [
    {
     "name": "stderr",
     "output_type": "stream",
     "text": [
      "/home/hanliu/miniconda3/envs/clustering/lib/python3.7/site-packages/ipykernel_launcher.py:1: FutureWarning: to_msgpack is deprecated and will be removed in a future version.\n",
      "It is recommended to use pyarrow for on-the-wire transmission of pandas objects.\n",
      "  \"\"\"Entry point for launching an IPython kernel.\n"
     ]
    }
   ],
   "source": [
    "pairwise_dmg.to_msgpack('TotalPairwiseMarker.with_rate.msg')"
   ]
  },
  {
   "cell_type": "code",
   "execution_count": 24,
   "metadata": {
    "ExecuteTime": {
     "end_time": "2020-03-20T23:31:07.188207Z",
     "start_time": "2020-03-20T23:31:07.184259Z"
    }
   },
   "outputs": [
    {
     "data": {
      "text/plain": [
       "(1825912, 9)"
      ]
     },
     "execution_count": 24,
     "metadata": {},
     "output_type": "execute_result"
    }
   ],
   "source": [
    "pairwise_dmg.shape"
   ]
  },
  {
   "cell_type": "code",
   "execution_count": null,
   "metadata": {},
   "outputs": [],
   "source": []
  },
  {
   "cell_type": "code",
   "execution_count": null,
   "metadata": {},
   "outputs": [],
   "source": []
  }
 ],
 "metadata": {
  "hide_input": false,
  "kernelspec": {
   "display_name": "Python 3",
   "language": "python",
   "name": "python3"
  },
  "language_info": {
   "codemirror_mode": {
    "name": "ipython",
    "version": 3
   },
   "file_extension": ".py",
   "mimetype": "text/x-python",
   "name": "python",
   "nbconvert_exporter": "python",
   "pygments_lexer": "ipython3",
   "version": "3.7.3"
  },
  "toc": {
   "base_numbering": 1,
   "nav_menu": {},
   "number_sections": true,
   "sideBar": true,
   "skip_h1_title": true,
   "title_cell": "Table of Contents",
   "title_sidebar": "Contents",
   "toc_cell": false,
   "toc_position": {},
   "toc_section_display": true,
   "toc_window_display": true
  }
 },
 "nbformat": 4,
 "nbformat_minor": 2
}
