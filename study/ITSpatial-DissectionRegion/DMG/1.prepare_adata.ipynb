{
 "cells": [
  {
   "cell_type": "code",
   "execution_count": 1,
   "metadata": {
    "ExecuteTime": {
     "end_time": "2020-03-20T22:30:34.401726Z",
     "start_time": "2020-03-20T22:30:33.723407Z"
    }
   },
   "outputs": [],
   "source": [
    "import pandas as pd\n",
    "import pathlib\n",
    "import xarray as xr\n",
    "import anndata"
   ]
  },
  {
   "cell_type": "markdown",
   "metadata": {},
   "source": [
    "## Cell Metadata"
   ]
  },
  {
   "cell_type": "code",
   "execution_count": 2,
   "metadata": {
    "ExecuteTime": {
     "end_time": "2020-03-20T22:30:35.114050Z",
     "start_time": "2020-03-20T22:30:34.403850Z"
    }
   },
   "outputs": [
    {
     "name": "stderr",
     "output_type": "stream",
     "text": [
      "/home/hanliu/miniconda3/envs/clustering/lib/python3.7/site-packages/IPython/core/interactiveshell.py:3326: FutureWarning: The read_msgpack is deprecated and will be removed in a future version.\n",
      "It is recommended to use pyarrow for on-the-wire transmission of pandas objects.\n",
      "  exec(code_obj, self.user_global_ns, self.user_ns)\n"
     ]
    }
   ],
   "source": [
    "cell_tidy_data = pd.read_msgpack(\n",
    "    '/home/hanliu/project/mouse_rostral_brain/study/ClusteringSummary/Summary/TotalClusteringResults.msg'\n",
    "           )\n",
    "\n",
    "it_groups = pd.read_csv(\n",
    "    '/home/hanliu/project/mouse_rostral_brain/study/ITSpatial/GroupDesign/ITSpatial.cell_group_design.dissection_region_level.csv', \n",
    "    index_col=0)\n",
    "\n",
    "cell_tidy_data = cell_tidy_data.loc[it_groups.index].copy()\n",
    "cell_tidy_data['ITSpatialGroup'] = it_groups['ITSpatial']\n",
    "\n",
    "cell_tidy_data.to_hdf('../ITSpatial.cell_tidy_data.hdf', key='data')"
   ]
  },
  {
   "cell_type": "code",
   "execution_count": 3,
   "metadata": {
    "ExecuteTime": {
     "end_time": "2020-03-20T22:30:35.119703Z",
     "start_time": "2020-03-20T22:30:35.115672Z"
    }
   },
   "outputs": [
    {
     "data": {
      "text/plain": [
       "(24359, 55)"
      ]
     },
     "execution_count": 3,
     "metadata": {},
     "output_type": "execute_result"
    }
   ],
   "source": [
    "cell_tidy_data.shape"
   ]
  },
  {
   "cell_type": "markdown",
   "metadata": {},
   "source": [
    "## Gene rate"
   ]
  },
  {
   "cell_type": "code",
   "execution_count": 4,
   "metadata": {
    "ExecuteTime": {
     "end_time": "2020-03-20T18:14:52.923516Z",
     "start_time": "2020-03-20T18:14:20.527513Z"
    }
   },
   "outputs": [
    {
     "name": "stdout",
     "output_type": "stream",
     "text": [
      "/home/hanliu/project/mouse_rostral_brain/study/Level1-CellClass/ALL_manual/Adata/GeneWithSlop2kb.gene_da_rate.0.mcds\n",
      "/home/hanliu/project/mouse_rostral_brain/study/Level1-CellClass/ALL_manual/Adata/GeneWithSlop2kb.gene_da_rate.1.mcds\n",
      "/home/hanliu/project/mouse_rostral_brain/study/Level1-CellClass/ALL_manual/Adata/GeneWithSlop2kb.gene_da_rate.2.mcds\n",
      "/home/hanliu/project/mouse_rostral_brain/study/Level1-CellClass/ALL_manual/Adata/GeneWithSlop2kb.gene_da_rate.3.mcds\n",
      "/home/hanliu/project/mouse_rostral_brain/study/Level1-CellClass/ALL_manual/Adata/GeneWithSlop2kb.gene_da_rate.4.mcds\n",
      "/home/hanliu/project/mouse_rostral_brain/study/Level1-CellClass/ALL_manual/Adata/GeneWithSlop2kb.gene_da_rate.5.mcds\n",
      "/home/hanliu/project/mouse_rostral_brain/study/Level1-CellClass/ALL_manual/Adata/GeneWithSlop2kb.gene_da_rate.6.mcds\n",
      "/home/hanliu/project/mouse_rostral_brain/study/Level1-CellClass/ALL_manual/Adata/GeneWithSlop2kb.gene_da_rate.7.mcds\n",
      "/home/hanliu/project/mouse_rostral_brain/study/Level1-CellClass/ALL_manual/Adata/GeneWithSlop2kb.gene_da_rate.8.mcds\n",
      "/home/hanliu/project/mouse_rostral_brain/study/Level1-CellClass/ALL_manual/Adata/GeneWithSlop2kb.gene_da_rate.9.mcds\n",
      "/home/hanliu/project/mouse_rostral_brain/study/Level1-CellClass/ALL_manual/Adata/GeneWithSlop2kb.gene_da_rate.10.mcds\n"
     ]
    }
   ],
   "source": [
    "mcds_dir = '/home/hanliu/project/mouse_rostral_brain/study/Level1-CellClass/ALL_manual/Adata/'\n",
    "mcds_paths = list(pathlib.Path(mcds_dir).glob('GeneWithSlop2kb.gene_da_rate.*.mcds'))\n",
    "\n",
    "total_mcds = []\n",
    "for path in mcds_paths:\n",
    "    print(path)\n",
    "    mcds = xr.open_dataset(path)\n",
    "    cells = mcds.get_index('cell')\n",
    "    cells = cells[cells.isin(cell_tidy_data.index)].copy()\n",
    "    if cells.size == 0:\n",
    "        continue\n",
    "    use_mcds = mcds.sel(cell=cells, mc_type='CHN')['gene_da']\n",
    "    total_mcds.append(use_mcds.load())\n",
    "\n",
    "total_mcds = xr.concat(total_mcds, dim='cell')"
   ]
  },
  {
   "cell_type": "code",
   "execution_count": 5,
   "metadata": {
    "ExecuteTime": {
     "end_time": "2020-03-20T18:14:52.937979Z",
     "start_time": "2020-03-20T18:14:52.925761Z"
    }
   },
   "outputs": [
    {
     "data": {
      "text/html": [
       "<pre>&lt;xarray.DataArray &#x27;gene_da&#x27; (cell: 24359, gene: 55487)&gt;\n",
       "array([[0.71636969, 2.74982209, 0.55850604, ..., 0.14139664, 0.17969732,\n",
       "        0.17969732],\n",
       "       [0.26245886, 1.16932623, 0.45397878, ..., 0.41768154, 0.59690788,\n",
       "        0.62965756],\n",
       "       [0.23286179, 1.        , 0.58423094, ..., 0.14364194, 0.19555073,\n",
       "        0.19810757],\n",
       "       ...,\n",
       "       [0.84476469, 1.52223891, 1.00513686, ..., 0.32540423, 1.        ,\n",
       "        1.        ],\n",
       "       [1.        , 1.575731  , 0.57130613, ..., 6.2992852 , 0.46824839,\n",
       "        0.46824839],\n",
       "       [0.63376332, 1.53429784, 0.68541633, ..., 1.        , 1.        ,\n",
       "        1.        ]])\n",
       "Coordinates:\n",
       "    geneslop2k_chrom  (gene) object &#x27;chr1&#x27; &#x27;chr1&#x27; &#x27;chr1&#x27; ... &#x27;chrM&#x27; &#x27;chrM&#x27;\n",
       "    mc_type           &lt;U3 &#x27;CHN&#x27;\n",
       "    strand_type       &lt;U4 &#x27;both&#x27;\n",
       "    geneslop2k_end    (gene) int64 3076321 3104124 3673497 ... 16299 16299 16299\n",
       "    geneslop2k_start  (gene) int64 3071252 3100015 3203900 ... 12144 13288 13355\n",
       "  * gene              (gene) object &#x27;ENSMUSG00000102693.1&#x27; ... &#x27;ENSMUSG00000064372.1&#x27;\n",
       "  * cell              (cell) object &#x27;1A_M_0&#x27; &#x27;1A_M_1&#x27; ... &#x27;8B_M_997&#x27; &#x27;8B_M_999&#x27;</pre>"
      ],
      "text/plain": [
       "<xarray.DataArray 'gene_da' (cell: 24359, gene: 55487)>\n",
       "array([[0.71636969, 2.74982209, 0.55850604, ..., 0.14139664, 0.17969732,\n",
       "        0.17969732],\n",
       "       [0.26245886, 1.16932623, 0.45397878, ..., 0.41768154, 0.59690788,\n",
       "        0.62965756],\n",
       "       [0.23286179, 1.        , 0.58423094, ..., 0.14364194, 0.19555073,\n",
       "        0.19810757],\n",
       "       ...,\n",
       "       [0.84476469, 1.52223891, 1.00513686, ..., 0.32540423, 1.        ,\n",
       "        1.        ],\n",
       "       [1.        , 1.575731  , 0.57130613, ..., 6.2992852 , 0.46824839,\n",
       "        0.46824839],\n",
       "       [0.63376332, 1.53429784, 0.68541633, ..., 1.        , 1.        ,\n",
       "        1.        ]])\n",
       "Coordinates:\n",
       "    geneslop2k_chrom  (gene) object 'chr1' 'chr1' 'chr1' ... 'chrM' 'chrM'\n",
       "    mc_type           <U3 'CHN'\n",
       "    strand_type       <U4 'both'\n",
       "    geneslop2k_end    (gene) int64 3076321 3104124 3673497 ... 16299 16299 16299\n",
       "    geneslop2k_start  (gene) int64 3071252 3100015 3203900 ... 12144 13288 13355\n",
       "  * gene              (gene) object 'ENSMUSG00000102693.1' ... 'ENSMUSG00000064372.1'\n",
       "  * cell              (cell) object '1A_M_0' '1A_M_1' ... '8B_M_997' '8B_M_999'"
      ]
     },
     "execution_count": 5,
     "metadata": {},
     "output_type": "execute_result"
    }
   ],
   "source": [
    "total_mcds"
   ]
  },
  {
   "cell_type": "code",
   "execution_count": 6,
   "metadata": {
    "ExecuteTime": {
     "end_time": "2020-03-20T18:14:59.312688Z",
     "start_time": "2020-03-20T18:14:52.939513Z"
    }
   },
   "outputs": [],
   "source": [
    "total_mcds.to_netcdf('ITSpatial.GeneWithSlop2kb.gene_da_rate.nc')"
   ]
  },
  {
   "cell_type": "markdown",
   "metadata": {},
   "source": [
    "## Group level rate"
   ]
  },
  {
   "cell_type": "code",
   "execution_count": 4,
   "metadata": {
    "ExecuteTime": {
     "end_time": "2020-03-20T22:31:05.248372Z",
     "start_time": "2020-03-20T22:31:05.179891Z"
    }
   },
   "outputs": [],
   "source": [
    "total_mcds = xr.open_dataarray('ITSpatial.GeneWithSlop2kb.gene_da_rate.nc')\n",
    "total_rate = total_mcds.to_pandas()"
   ]
  },
  {
   "cell_type": "code",
   "execution_count": 9,
   "metadata": {
    "ExecuteTime": {
     "end_time": "2020-03-20T22:33:21.360520Z",
     "start_time": "2020-03-20T22:32:34.960590Z"
    }
   },
   "outputs": [],
   "source": [
    "group_center = total_rate.groupby(cell_tidy_data['ITSpatialGroup']).median()"
   ]
  },
  {
   "cell_type": "code",
   "execution_count": 10,
   "metadata": {
    "ExecuteTime": {
     "end_time": "2020-03-20T22:33:21.526445Z",
     "start_time": "2020-03-20T22:33:21.362130Z"
    }
   },
   "outputs": [],
   "source": [
    "group_center.to_hdf('ITSpatial.GeneWithSlop2kb.gene_da_rate.group_center.hdf', key='data')"
   ]
  },
  {
   "cell_type": "code",
   "execution_count": 14,
   "metadata": {
    "ExecuteTime": {
     "end_time": "2020-03-20T22:34:47.913210Z",
     "start_time": "2020-03-20T22:34:47.907355Z"
    }
   },
   "outputs": [],
   "source": [
    "use_genes = pd.read_csv('TotalGeneID.txt', header=None, index_col=0).index"
   ]
  },
  {
   "cell_type": "code",
   "execution_count": null,
   "metadata": {},
   "outputs": [],
   "source": []
  },
  {
   "cell_type": "code",
   "execution_count": null,
   "metadata": {},
   "outputs": [],
   "source": []
  }
 ],
 "metadata": {
  "hide_input": false,
  "kernelspec": {
   "display_name": "Python 3",
   "language": "python",
   "name": "python3"
  },
  "language_info": {
   "codemirror_mode": {
    "name": "ipython",
    "version": 3
   },
   "file_extension": ".py",
   "mimetype": "text/x-python",
   "name": "python",
   "nbconvert_exporter": "python",
   "pygments_lexer": "ipython3",
   "version": "3.7.3"
  },
  "toc": {
   "base_numbering": 1,
   "nav_menu": {},
   "number_sections": true,
   "sideBar": true,
   "skip_h1_title": true,
   "title_cell": "Table of Contents",
   "title_sidebar": "Contents",
   "toc_cell": false,
   "toc_position": {},
   "toc_section_display": true,
   "toc_window_display": true
  }
 },
 "nbformat": 4,
 "nbformat_minor": 2
}
