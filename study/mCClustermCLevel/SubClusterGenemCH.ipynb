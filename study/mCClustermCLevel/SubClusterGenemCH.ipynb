{
 "cells": [
  {
   "cell_type": "code",
   "execution_count": 1,
   "metadata": {
    "ExecuteTime": {
     "end_time": "2019-12-18T22:55:13.137962Z",
     "start_time": "2019-12-18T22:55:12.493225Z"
    }
   },
   "outputs": [
    {
     "name": "stderr",
     "output_type": "stream",
     "text": [
      "/home/hanliu/miniconda3/envs/clustering/lib/python3.7/site-packages/xarray/core/merge.py:18: FutureWarning: The Panel class is removed from pandas. Accessing it from the top-level namespace will also be removed in the next version\n",
      "  PANDAS_TYPES = (pd.Series, pd.DataFrame, pd.Panel)\n",
      "/home/hanliu/miniconda3/envs/clustering/lib/python3.7/site-packages/xarray/core/dataarray.py:1829: FutureWarning: The Panel class is removed from pandas. Accessing it from the top-level namespace will also be removed in the next version\n",
      "  'DataArray', pd.Series, pd.DataFrame, pd.Panel]:\n"
     ]
    }
   ],
   "source": [
    "import pandas as pd\n",
    "import json\n",
    "import pybedtools\n",
    "import pathlib\n",
    "import subprocess\n",
    "import numpy as np\n",
    "import xarray as xr"
   ]
  },
  {
   "cell_type": "code",
   "execution_count": 2,
   "metadata": {
    "ExecuteTime": {
     "end_time": "2019-12-18T22:55:13.141214Z",
     "start_time": "2019-12-18T22:55:13.139462Z"
    }
   },
   "outputs": [],
   "source": [
    "#from dask.distributed import Client\n",
    "#client = Client(dashboard_address=':5555')"
   ]
  },
  {
   "cell_type": "code",
   "execution_count": 3,
   "metadata": {
    "ExecuteTime": {
     "end_time": "2019-12-18T22:55:13.497942Z",
     "start_time": "2019-12-18T22:55:13.142682Z"
    }
   },
   "outputs": [
    {
     "name": "stderr",
     "output_type": "stream",
     "text": [
      "/home/hanliu/miniconda3/envs/clustering/lib/python3.7/site-packages/IPython/core/interactiveshell.py:3326: FutureWarning: The read_msgpack is deprecated and will be removed in a future version.\n",
      "It is recommended to use pyarrow for on-the-wire transmission of pandas objects.\n",
      "  exec(code_obj, self.user_global_ns, self.user_ns)\n"
     ]
    }
   ],
   "source": [
    "cell_tidy_data = pd.read_msgpack(\n",
    "    '/home/hanliu/project/mouse_rostral_brain/study/ClusteringSummary/Summary/TotalClusteringResults.msg'\n",
    ")\n",
    "cell_tidy_data.index.name = 'cell'"
   ]
  },
  {
   "cell_type": "markdown",
   "metadata": {},
   "source": [
    "## SubType Rate"
   ]
  },
  {
   "cell_type": "code",
   "execution_count": 4,
   "metadata": {
    "deletable": false,
    "editable": false,
    "run_control": {
     "frozen": true
    },
    "scrolled": true
   },
   "outputs": [
    {
     "name": "stdout",
     "output_type": "stream",
     "text": [
      "/home/hanliu/project/mouse_rostral_brain/dataset/gene_with_2kb_slop/10E-190625.geneslop2k.mcds\n",
      "/home/hanliu/project/mouse_rostral_brain/dataset/gene_with_2kb_slop/10E-190627.geneslop2k.mcds\n",
      "/home/hanliu/project/mouse_rostral_brain/dataset/gene_with_2kb_slop/10F-190625.geneslop2k.mcds\n",
      "/home/hanliu/project/mouse_rostral_brain/dataset/gene_with_2kb_slop/10F-190627.geneslop2k.mcds\n",
      "/home/hanliu/project/mouse_rostral_brain/dataset/gene_with_2kb_slop/11E-190214.geneslop2k.mcds\n",
      "/home/hanliu/project/mouse_rostral_brain/dataset/gene_with_2kb_slop/11E-190305.geneslop2k.mcds\n",
      "/home/hanliu/project/mouse_rostral_brain/dataset/gene_with_2kb_slop/11F-190214.geneslop2k.mcds\n",
      "/home/hanliu/project/mouse_rostral_brain/dataset/gene_with_2kb_slop/11F-190305.geneslop2k.mcds\n",
      "/home/hanliu/project/mouse_rostral_brain/dataset/gene_with_2kb_slop/1A-180226.geneslop2k.mcds\n",
      "/home/hanliu/project/mouse_rostral_brain/dataset/gene_with_2kb_slop/1A-180227.geneslop2k.mcds\n",
      "/home/hanliu/project/mouse_rostral_brain/dataset/gene_with_2kb_slop/1B-180119.geneslop2k.mcds\n",
      "/home/hanliu/project/mouse_rostral_brain/dataset/gene_with_2kb_slop/1B-180213.geneslop2k.mcds\n",
      "/home/hanliu/project/mouse_rostral_brain/dataset/gene_with_2kb_slop/1C-180208.geneslop2k.mcds\n",
      "/home/hanliu/project/mouse_rostral_brain/dataset/gene_with_2kb_slop/1C-180212.geneslop2k.mcds\n",
      "/home/hanliu/project/mouse_rostral_brain/dataset/gene_with_2kb_slop/2A-180122.geneslop2k.mcds\n",
      "/home/hanliu/project/mouse_rostral_brain/dataset/gene_with_2kb_slop/2A-180123.geneslop2k.mcds\n",
      "/home/hanliu/project/mouse_rostral_brain/dataset/gene_with_2kb_slop/2B-180305.geneslop2k.mcds\n",
      "/home/hanliu/project/mouse_rostral_brain/dataset/gene_with_2kb_slop/2B-180306.geneslop2k.mcds\n",
      "/home/hanliu/project/mouse_rostral_brain/dataset/gene_with_2kb_slop/2C-180409.geneslop2k.mcds\n",
      "/home/hanliu/project/mouse_rostral_brain/dataset/gene_with_2kb_slop/2C-180410.geneslop2k.mcds\n",
      "/home/hanliu/project/mouse_rostral_brain/dataset/gene_with_2kb_slop/2D-180313.geneslop2k.mcds\n",
      "/home/hanliu/project/mouse_rostral_brain/dataset/gene_with_2kb_slop/2D-180319.geneslop2k.mcds\n",
      "/home/hanliu/project/mouse_rostral_brain/dataset/gene_with_2kb_slop/2D-180403.geneslop2k.mcds\n",
      "/home/hanliu/project/mouse_rostral_brain/dataset/gene_with_2kb_slop/2E-180220.geneslop2k.mcds\n",
      "/home/hanliu/project/mouse_rostral_brain/dataset/gene_with_2kb_slop/2E-180222.geneslop2k.mcds\n",
      "/home/hanliu/project/mouse_rostral_brain/dataset/gene_with_2kb_slop/3A-180129.geneslop2k.mcds\n",
      "/home/hanliu/project/mouse_rostral_brain/dataset/gene_with_2kb_slop/3A-180130.geneslop2k.mcds\n",
      "/home/hanliu/project/mouse_rostral_brain/dataset/gene_with_2kb_slop/3B-180312.geneslop2k.mcds\n",
      "/home/hanliu/project/mouse_rostral_brain/dataset/gene_with_2kb_slop/3B-180501.geneslop2k.mcds\n",
      "/home/hanliu/project/mouse_rostral_brain/dataset/gene_with_2kb_slop/3C-171206.geneslop2k.mcds\n",
      "/home/hanliu/project/mouse_rostral_brain/dataset/gene_with_2kb_slop/3C-171207.geneslop2k.mcds\n",
      "/home/hanliu/project/mouse_rostral_brain/dataset/gene_with_2kb_slop/3D-180412.geneslop2k.mcds\n",
      "/home/hanliu/project/mouse_rostral_brain/dataset/gene_with_2kb_slop/3D-180416.geneslop2k.mcds\n",
      "/home/hanliu/project/mouse_rostral_brain/dataset/gene_with_2kb_slop/3E-180320.geneslop2k.mcds\n",
      "/home/hanliu/project/mouse_rostral_brain/dataset/gene_with_2kb_slop/3E-180326.geneslop2k.mcds\n",
      "/home/hanliu/project/mouse_rostral_brain/dataset/gene_with_2kb_slop/3F-180109.geneslop2k.mcds\n",
      "/home/hanliu/project/mouse_rostral_brain/dataset/gene_with_2kb_slop/3F-180405.geneslop2k.mcds\n",
      "/home/hanliu/project/mouse_rostral_brain/dataset/gene_with_2kb_slop/4A-180205.geneslop2k.mcds\n",
      "/home/hanliu/project/mouse_rostral_brain/dataset/gene_with_2kb_slop/4A-180206.geneslop2k.mcds\n",
      "/home/hanliu/project/mouse_rostral_brain/dataset/gene_with_2kb_slop/4B-171212.geneslop2k.mcds\n",
      "/home/hanliu/project/mouse_rostral_brain/dataset/gene_with_2kb_slop/4B-171213.geneslop2k.mcds\n",
      "/home/hanliu/project/mouse_rostral_brain/dataset/gene_with_2kb_slop/4B-180104.geneslop2k.mcds\n",
      "/home/hanliu/project/mouse_rostral_brain/dataset/gene_with_2kb_slop/4C-180417.geneslop2k.mcds\n",
      "/home/hanliu/project/mouse_rostral_brain/dataset/gene_with_2kb_slop/4C-180419.geneslop2k.mcds\n",
      "/home/hanliu/project/mouse_rostral_brain/dataset/gene_with_2kb_slop/4D-171214.geneslop2k.mcds\n",
      "/home/hanliu/project/mouse_rostral_brain/dataset/gene_with_2kb_slop/4D-171219.geneslop2k.mcds\n",
      "/home/hanliu/project/mouse_rostral_brain/dataset/gene_with_2kb_slop/4E-180110.geneslop2k.mcds\n",
      "/home/hanliu/project/mouse_rostral_brain/dataset/gene_with_2kb_slop/4E-180111.geneslop2k.mcds\n",
      "/home/hanliu/project/mouse_rostral_brain/dataset/gene_with_2kb_slop/4F-180329.geneslop2k.mcds\n",
      "/home/hanliu/project/mouse_rostral_brain/dataset/gene_with_2kb_slop/4F-180402.geneslop2k.mcds\n",
      "/home/hanliu/project/mouse_rostral_brain/dataset/gene_with_2kb_slop/4G-180917.geneslop2k.mcds\n",
      "/home/hanliu/project/mouse_rostral_brain/dataset/gene_with_2kb_slop/4G-181204.geneslop2k.mcds\n",
      "/home/hanliu/project/mouse_rostral_brain/dataset/gene_with_2kb_slop/4H-180724.geneslop2k.mcds\n",
      "/home/hanliu/project/mouse_rostral_brain/dataset/gene_with_2kb_slop/4H-180806.geneslop2k.mcds\n",
      "/home/hanliu/project/mouse_rostral_brain/dataset/gene_with_2kb_slop/4H-180911.geneslop2k.mcds\n",
      "/home/hanliu/project/mouse_rostral_brain/dataset/gene_with_2kb_slop/5A-190205.geneslop2k.mcds\n",
      "/home/hanliu/project/mouse_rostral_brain/dataset/gene_with_2kb_slop/5A-190307.geneslop2k.mcds\n",
      "/home/hanliu/project/mouse_rostral_brain/dataset/gene_with_2kb_slop/5B-180514.geneslop2k.mcds\n",
      "/home/hanliu/project/mouse_rostral_brain/dataset/gene_with_2kb_slop/5B-180529.geneslop2k.mcds\n",
      "/home/hanliu/project/mouse_rostral_brain/dataset/gene_with_2kb_slop/5C-181002.geneslop2k.mcds\n",
      "/home/hanliu/project/mouse_rostral_brain/dataset/gene_with_2kb_slop/5C-181210.geneslop2k.mcds\n",
      "/home/hanliu/project/mouse_rostral_brain/dataset/gene_with_2kb_slop/5D-180605.geneslop2k.mcds\n",
      "/home/hanliu/project/mouse_rostral_brain/dataset/gene_with_2kb_slop/5D-180612.geneslop2k.mcds\n",
      "/home/hanliu/project/mouse_rostral_brain/dataset/gene_with_2kb_slop/5E-180925.geneslop2k.mcds\n",
      "/home/hanliu/project/mouse_rostral_brain/dataset/gene_with_2kb_slop/5E-181206.geneslop2k.mcds\n",
      "/home/hanliu/project/mouse_rostral_brain/dataset/gene_with_2kb_slop/5F-181218.geneslop2k.mcds\n",
      "/home/hanliu/project/mouse_rostral_brain/dataset/gene_with_2kb_slop/5F-181220.geneslop2k.mcds\n",
      "/home/hanliu/project/mouse_rostral_brain/dataset/gene_with_2kb_slop/5G-181008.geneslop2k.mcds\n",
      "/home/hanliu/project/mouse_rostral_brain/dataset/gene_with_2kb_slop/5G-181009.geneslop2k.mcds\n",
      "/home/hanliu/project/mouse_rostral_brain/dataset/gene_with_2kb_slop/5H-181015.geneslop2k.mcds\n",
      "/home/hanliu/project/mouse_rostral_brain/dataset/gene_with_2kb_slop/5H-181016.geneslop2k.mcds\n",
      "/home/hanliu/project/mouse_rostral_brain/dataset/gene_with_2kb_slop/5J-190207.geneslop2k.mcds\n",
      "/home/hanliu/project/mouse_rostral_brain/dataset/gene_with_2kb_slop/6A-190108.geneslop2k.mcds\n",
      "/home/hanliu/project/mouse_rostral_brain/dataset/gene_with_2kb_slop/6A-190117.geneslop2k.mcds\n",
      "/home/hanliu/project/mouse_rostral_brain/dataset/gene_with_2kb_slop/6B-181022.geneslop2k.mcds\n",
      "/home/hanliu/project/mouse_rostral_brain/dataset/gene_with_2kb_slop/6B-181023.geneslop2k.mcds\n",
      "/home/hanliu/project/mouse_rostral_brain/dataset/gene_with_2kb_slop/6C-190122.geneslop2k.mcds\n",
      "/home/hanliu/project/mouse_rostral_brain/dataset/gene_with_2kb_slop/6C-190124.geneslop2k.mcds\n",
      "/home/hanliu/project/mouse_rostral_brain/dataset/gene_with_2kb_slop/6D-190131.geneslop2k.mcds\n",
      "/home/hanliu/project/mouse_rostral_brain/dataset/gene_with_2kb_slop/6D-190205.geneslop2k.mcds\n",
      "/home/hanliu/project/mouse_rostral_brain/dataset/gene_with_2kb_slop/7B-180423.geneslop2k.mcds\n",
      "/home/hanliu/project/mouse_rostral_brain/dataset/gene_with_2kb_slop/7B-180424.geneslop2k.mcds\n",
      "/home/hanliu/project/mouse_rostral_brain/dataset/gene_with_2kb_slop/8B-180426.geneslop2k.mcds\n",
      "/home/hanliu/project/mouse_rostral_brain/dataset/gene_with_2kb_slop/8B-180430.geneslop2k.mcds\n",
      "/home/hanliu/project/mouse_rostral_brain/dataset/gene_with_2kb_slop/8E-190711.geneslop2k.mcds\n",
      "/home/hanliu/project/mouse_rostral_brain/dataset/gene_with_2kb_slop/8E-190716.geneslop2k.mcds\n",
      "/home/hanliu/project/mouse_rostral_brain/dataset/gene_with_2kb_slop/8J-190711.geneslop2k.mcds\n",
      "/home/hanliu/project/mouse_rostral_brain/dataset/gene_with_2kb_slop/8J-190716.geneslop2k.mcds\n"
     ]
    },
    {
     "name": "stdout",
     "output_type": "stream",
     "text": [
      "/home/hanliu/project/mouse_rostral_brain/dataset/gene_with_2kb_slop/9H-190212.geneslop2k.mcds\n",
      "/home/hanliu/project/mouse_rostral_brain/dataset/gene_with_2kb_slop/9H-190219.geneslop2k.mcds\n",
      "/home/hanliu/project/mouse_rostral_brain/dataset/gene_with_2kb_slop/9J-190212.geneslop2k.mcds\n",
      "/home/hanliu/project/mouse_rostral_brain/dataset/gene_with_2kb_slop/9J-190219.geneslop2k.mcds\n"
     ]
    }
   ],
   "source": [
    "mcds_dir = pathlib.Path('/home/hanliu/project/mouse_rostral_brain/dataset/gene_with_2kb_slop/')\n",
    "mcds_list = list(mcds_dir.glob('*mcds'))\n",
    "\n",
    "for path in mcds_list:\n",
    "    mcds = xr.open_dataset(path).squeeze()\n",
    "    use_cell = mcds.get_index('cell') & cell_tidy_data.index\n",
    "    if use_cell.size == 0:\n",
    "        continue\n",
    "    print(path)\n",
    "    mcds = mcds.sel(cell=use_cell)\n",
    "    mcds.coords['CellClass'] = cell_tidy_data['CellClass']\n",
    "    mcds.coords['MajorType'] = cell_tidy_data['MajorType']\n",
    "    mcds.coords['SubType'] = cell_tidy_data['SubType']\n",
    "    \n",
    "    sub_type_sum = mcds.groupby('SubType').sum(dim='cell')\n",
    "    sub_type_sum.to_netcdf(path.name + 'subtype_sum.nc')\n",
    "    "
   ]
  },
  {
   "cell_type": "code",
   "execution_count": 4,
   "metadata": {
    "ExecuteTime": {
     "end_time": "2019-12-18T22:58:10.992974Z",
     "start_time": "2019-12-18T22:55:13.517143Z"
    }
   },
   "outputs": [
    {
     "name": "stderr",
     "output_type": "stream",
     "text": [
      "/home/hanliu/miniconda3/envs/clustering/lib/python3.7/site-packages/xarray/core/dataarray.py:267: FutureWarning: The Panel class is removed from pandas. Accessing it from the top-level namespace will also be removed in the next version\n",
      "  elif isinstance(data, pd.Panel):\n"
     ]
    },
    {
     "name": "stdout",
     "output_type": "stream",
     "text": [
      "40\n",
      "80\n"
     ]
    }
   ],
   "source": [
    "mcds_dir = pathlib.Path('./')\n",
    "mcds_list = list(mcds_dir.glob('*subtype_sum.nc'))\n",
    "unique_sub_types = pd.Index(cell_tidy_data['SubType'].unique(), name='SubType')\n",
    "\n",
    "total_ds = xr.Dataset()\n",
    "total_ds['geneslop2k_da'] = xr.DataArray([])\n",
    "first = True\n",
    "n = 0\n",
    "for path in mcds_list:\n",
    "    n += 1\n",
    "    if n % 40 == 0:\n",
    "        print(n)\n",
    "    da = xr.open_dataset(path)['geneslop2k_da']\n",
    "    if first:\n",
    "        total_da = da.reindex({'SubType': unique_sub_types}).fillna(0)\n",
    "        first = False\n",
    "    else:\n",
    "        da = da.reindex({k: total_da.coords[k] \n",
    "                         for k in ['SubType', 'geneslop2k', 'mc_type', 'count_type']}).fillna(0)\n",
    "        total_da.values = total_da.values + da.values"
   ]
  },
  {
   "cell_type": "code",
   "execution_count": 5,
   "metadata": {
    "ExecuteTime": {
     "end_time": "2019-12-18T22:58:12.266267Z",
     "start_time": "2019-12-18T22:58:10.995429Z"
    }
   },
   "outputs": [],
   "source": [
    "total_rate = total_da.sel(count_type='mc') / total_da.sel(count_type='cov')\n",
    "\n",
    "ds = xr.Dataset({'gene_cluster_da': total_da, \n",
    "                 'gene_cluster_da_rate': total_rate})\n",
    "\n",
    "ds.to_netcdf('SubType.geneslop2k.mcds')"
   ]
  },
  {
   "cell_type": "code",
   "execution_count": 6,
   "metadata": {
    "ExecuteTime": {
     "end_time": "2019-12-18T22:58:12.402844Z",
     "start_time": "2019-12-18T22:58:12.268206Z"
    }
   },
   "outputs": [],
   "source": [
    "assert int((ds['gene_cluster_da'].sel(count_type='mc') > ds['gene_cluster_da'].sel(count_type='cov')).sum()) == 0\n",
    "assert int(np.isnan(ds['gene_cluster_da']).sum()) == 0"
   ]
  },
  {
   "cell_type": "code",
   "execution_count": null,
   "metadata": {},
   "outputs": [],
   "source": []
  },
  {
   "cell_type": "code",
   "execution_count": null,
   "metadata": {},
   "outputs": [],
   "source": []
  },
  {
   "cell_type": "markdown",
   "metadata": {},
   "source": [
    "## MajorType Rate"
   ]
  },
  {
   "cell_type": "code",
   "execution_count": 7,
   "metadata": {
    "ExecuteTime": {
     "end_time": "2019-12-18T23:17:33.037882Z",
     "start_time": "2019-12-18T23:03:41.178569Z"
    }
   },
   "outputs": [
    {
     "name": "stdout",
     "output_type": "stream",
     "text": [
      "/home/hanliu/project/mouse_rostral_brain/dataset/gene_with_2kb_slop/10E-190625.geneslop2k.mcds\n",
      "/home/hanliu/project/mouse_rostral_brain/dataset/gene_with_2kb_slop/10E-190627.geneslop2k.mcds\n",
      "/home/hanliu/project/mouse_rostral_brain/dataset/gene_with_2kb_slop/10F-190625.geneslop2k.mcds\n",
      "/home/hanliu/project/mouse_rostral_brain/dataset/gene_with_2kb_slop/10F-190627.geneslop2k.mcds\n",
      "/home/hanliu/project/mouse_rostral_brain/dataset/gene_with_2kb_slop/11E-190214.geneslop2k.mcds\n",
      "/home/hanliu/project/mouse_rostral_brain/dataset/gene_with_2kb_slop/11E-190305.geneslop2k.mcds\n",
      "/home/hanliu/project/mouse_rostral_brain/dataset/gene_with_2kb_slop/11F-190214.geneslop2k.mcds\n",
      "/home/hanliu/project/mouse_rostral_brain/dataset/gene_with_2kb_slop/11F-190305.geneslop2k.mcds\n",
      "/home/hanliu/project/mouse_rostral_brain/dataset/gene_with_2kb_slop/1A-180226.geneslop2k.mcds\n",
      "/home/hanliu/project/mouse_rostral_brain/dataset/gene_with_2kb_slop/1A-180227.geneslop2k.mcds\n",
      "/home/hanliu/project/mouse_rostral_brain/dataset/gene_with_2kb_slop/1B-180119.geneslop2k.mcds\n",
      "/home/hanliu/project/mouse_rostral_brain/dataset/gene_with_2kb_slop/1B-180213.geneslop2k.mcds\n",
      "/home/hanliu/project/mouse_rostral_brain/dataset/gene_with_2kb_slop/1C-180208.geneslop2k.mcds\n",
      "/home/hanliu/project/mouse_rostral_brain/dataset/gene_with_2kb_slop/1C-180212.geneslop2k.mcds\n",
      "/home/hanliu/project/mouse_rostral_brain/dataset/gene_with_2kb_slop/2A-180122.geneslop2k.mcds\n",
      "/home/hanliu/project/mouse_rostral_brain/dataset/gene_with_2kb_slop/2A-180123.geneslop2k.mcds\n",
      "/home/hanliu/project/mouse_rostral_brain/dataset/gene_with_2kb_slop/2B-180305.geneslop2k.mcds\n",
      "/home/hanliu/project/mouse_rostral_brain/dataset/gene_with_2kb_slop/2B-180306.geneslop2k.mcds\n",
      "/home/hanliu/project/mouse_rostral_brain/dataset/gene_with_2kb_slop/2C-180409.geneslop2k.mcds\n",
      "/home/hanliu/project/mouse_rostral_brain/dataset/gene_with_2kb_slop/2C-180410.geneslop2k.mcds\n",
      "/home/hanliu/project/mouse_rostral_brain/dataset/gene_with_2kb_slop/2D-180313.geneslop2k.mcds\n",
      "/home/hanliu/project/mouse_rostral_brain/dataset/gene_with_2kb_slop/2D-180319.geneslop2k.mcds\n",
      "/home/hanliu/project/mouse_rostral_brain/dataset/gene_with_2kb_slop/2D-180403.geneslop2k.mcds\n",
      "/home/hanliu/project/mouse_rostral_brain/dataset/gene_with_2kb_slop/2E-180220.geneslop2k.mcds\n",
      "/home/hanliu/project/mouse_rostral_brain/dataset/gene_with_2kb_slop/2E-180222.geneslop2k.mcds\n",
      "/home/hanliu/project/mouse_rostral_brain/dataset/gene_with_2kb_slop/3A-180129.geneslop2k.mcds\n",
      "/home/hanliu/project/mouse_rostral_brain/dataset/gene_with_2kb_slop/3A-180130.geneslop2k.mcds\n",
      "/home/hanliu/project/mouse_rostral_brain/dataset/gene_with_2kb_slop/3B-180312.geneslop2k.mcds\n",
      "/home/hanliu/project/mouse_rostral_brain/dataset/gene_with_2kb_slop/3B-180501.geneslop2k.mcds\n",
      "/home/hanliu/project/mouse_rostral_brain/dataset/gene_with_2kb_slop/3C-171206.geneslop2k.mcds\n",
      "/home/hanliu/project/mouse_rostral_brain/dataset/gene_with_2kb_slop/3C-171207.geneslop2k.mcds\n",
      "/home/hanliu/project/mouse_rostral_brain/dataset/gene_with_2kb_slop/3D-180412.geneslop2k.mcds\n",
      "/home/hanliu/project/mouse_rostral_brain/dataset/gene_with_2kb_slop/3D-180416.geneslop2k.mcds\n",
      "/home/hanliu/project/mouse_rostral_brain/dataset/gene_with_2kb_slop/3E-180320.geneslop2k.mcds\n",
      "/home/hanliu/project/mouse_rostral_brain/dataset/gene_with_2kb_slop/3E-180326.geneslop2k.mcds\n",
      "/home/hanliu/project/mouse_rostral_brain/dataset/gene_with_2kb_slop/3F-180109.geneslop2k.mcds\n",
      "/home/hanliu/project/mouse_rostral_brain/dataset/gene_with_2kb_slop/3F-180405.geneslop2k.mcds\n",
      "/home/hanliu/project/mouse_rostral_brain/dataset/gene_with_2kb_slop/4A-180205.geneslop2k.mcds\n",
      "/home/hanliu/project/mouse_rostral_brain/dataset/gene_with_2kb_slop/4A-180206.geneslop2k.mcds\n",
      "/home/hanliu/project/mouse_rostral_brain/dataset/gene_with_2kb_slop/4B-171212.geneslop2k.mcds\n",
      "/home/hanliu/project/mouse_rostral_brain/dataset/gene_with_2kb_slop/4B-171213.geneslop2k.mcds\n",
      "/home/hanliu/project/mouse_rostral_brain/dataset/gene_with_2kb_slop/4B-180104.geneslop2k.mcds\n",
      "/home/hanliu/project/mouse_rostral_brain/dataset/gene_with_2kb_slop/4C-180417.geneslop2k.mcds\n",
      "/home/hanliu/project/mouse_rostral_brain/dataset/gene_with_2kb_slop/4C-180419.geneslop2k.mcds\n",
      "/home/hanliu/project/mouse_rostral_brain/dataset/gene_with_2kb_slop/4D-171214.geneslop2k.mcds\n",
      "/home/hanliu/project/mouse_rostral_brain/dataset/gene_with_2kb_slop/4D-171219.geneslop2k.mcds\n",
      "/home/hanliu/project/mouse_rostral_brain/dataset/gene_with_2kb_slop/4E-180110.geneslop2k.mcds\n",
      "/home/hanliu/project/mouse_rostral_brain/dataset/gene_with_2kb_slop/4E-180111.geneslop2k.mcds\n",
      "/home/hanliu/project/mouse_rostral_brain/dataset/gene_with_2kb_slop/4F-180329.geneslop2k.mcds\n",
      "/home/hanliu/project/mouse_rostral_brain/dataset/gene_with_2kb_slop/4F-180402.geneslop2k.mcds\n",
      "/home/hanliu/project/mouse_rostral_brain/dataset/gene_with_2kb_slop/4G-180917.geneslop2k.mcds\n",
      "/home/hanliu/project/mouse_rostral_brain/dataset/gene_with_2kb_slop/4G-181204.geneslop2k.mcds\n",
      "/home/hanliu/project/mouse_rostral_brain/dataset/gene_with_2kb_slop/4H-180724.geneslop2k.mcds\n",
      "/home/hanliu/project/mouse_rostral_brain/dataset/gene_with_2kb_slop/4H-180806.geneslop2k.mcds\n",
      "/home/hanliu/project/mouse_rostral_brain/dataset/gene_with_2kb_slop/4H-180911.geneslop2k.mcds\n",
      "/home/hanliu/project/mouse_rostral_brain/dataset/gene_with_2kb_slop/5A-190205.geneslop2k.mcds\n",
      "/home/hanliu/project/mouse_rostral_brain/dataset/gene_with_2kb_slop/5A-190307.geneslop2k.mcds\n",
      "/home/hanliu/project/mouse_rostral_brain/dataset/gene_with_2kb_slop/5B-180514.geneslop2k.mcds\n",
      "/home/hanliu/project/mouse_rostral_brain/dataset/gene_with_2kb_slop/5B-180529.geneslop2k.mcds\n",
      "/home/hanliu/project/mouse_rostral_brain/dataset/gene_with_2kb_slop/5C-181002.geneslop2k.mcds\n",
      "/home/hanliu/project/mouse_rostral_brain/dataset/gene_with_2kb_slop/5C-181210.geneslop2k.mcds\n",
      "/home/hanliu/project/mouse_rostral_brain/dataset/gene_with_2kb_slop/5D-180605.geneslop2k.mcds\n",
      "/home/hanliu/project/mouse_rostral_brain/dataset/gene_with_2kb_slop/5D-180612.geneslop2k.mcds\n",
      "/home/hanliu/project/mouse_rostral_brain/dataset/gene_with_2kb_slop/5E-180925.geneslop2k.mcds\n",
      "/home/hanliu/project/mouse_rostral_brain/dataset/gene_with_2kb_slop/5E-181206.geneslop2k.mcds\n",
      "/home/hanliu/project/mouse_rostral_brain/dataset/gene_with_2kb_slop/5F-181218.geneslop2k.mcds\n",
      "/home/hanliu/project/mouse_rostral_brain/dataset/gene_with_2kb_slop/5F-181220.geneslop2k.mcds\n",
      "/home/hanliu/project/mouse_rostral_brain/dataset/gene_with_2kb_slop/5G-181008.geneslop2k.mcds\n",
      "/home/hanliu/project/mouse_rostral_brain/dataset/gene_with_2kb_slop/5G-181009.geneslop2k.mcds\n",
      "/home/hanliu/project/mouse_rostral_brain/dataset/gene_with_2kb_slop/5H-181015.geneslop2k.mcds\n",
      "/home/hanliu/project/mouse_rostral_brain/dataset/gene_with_2kb_slop/5H-181016.geneslop2k.mcds\n",
      "/home/hanliu/project/mouse_rostral_brain/dataset/gene_with_2kb_slop/5J-190207.geneslop2k.mcds\n",
      "/home/hanliu/project/mouse_rostral_brain/dataset/gene_with_2kb_slop/6A-190108.geneslop2k.mcds\n",
      "/home/hanliu/project/mouse_rostral_brain/dataset/gene_with_2kb_slop/6A-190117.geneslop2k.mcds\n",
      "/home/hanliu/project/mouse_rostral_brain/dataset/gene_with_2kb_slop/6B-181022.geneslop2k.mcds\n",
      "/home/hanliu/project/mouse_rostral_brain/dataset/gene_with_2kb_slop/6B-181023.geneslop2k.mcds\n",
      "/home/hanliu/project/mouse_rostral_brain/dataset/gene_with_2kb_slop/6C-190122.geneslop2k.mcds\n",
      "/home/hanliu/project/mouse_rostral_brain/dataset/gene_with_2kb_slop/6C-190124.geneslop2k.mcds\n",
      "/home/hanliu/project/mouse_rostral_brain/dataset/gene_with_2kb_slop/6D-190131.geneslop2k.mcds\n",
      "/home/hanliu/project/mouse_rostral_brain/dataset/gene_with_2kb_slop/6D-190205.geneslop2k.mcds\n",
      "/home/hanliu/project/mouse_rostral_brain/dataset/gene_with_2kb_slop/7B-180423.geneslop2k.mcds\n",
      "/home/hanliu/project/mouse_rostral_brain/dataset/gene_with_2kb_slop/7B-180424.geneslop2k.mcds\n",
      "/home/hanliu/project/mouse_rostral_brain/dataset/gene_with_2kb_slop/8B-180426.geneslop2k.mcds\n",
      "/home/hanliu/project/mouse_rostral_brain/dataset/gene_with_2kb_slop/8B-180430.geneslop2k.mcds\n",
      "/home/hanliu/project/mouse_rostral_brain/dataset/gene_with_2kb_slop/8E-190711.geneslop2k.mcds\n",
      "/home/hanliu/project/mouse_rostral_brain/dataset/gene_with_2kb_slop/8E-190716.geneslop2k.mcds\n",
      "/home/hanliu/project/mouse_rostral_brain/dataset/gene_with_2kb_slop/8J-190711.geneslop2k.mcds\n",
      "/home/hanliu/project/mouse_rostral_brain/dataset/gene_with_2kb_slop/8J-190716.geneslop2k.mcds\n"
     ]
    },
    {
     "name": "stdout",
     "output_type": "stream",
     "text": [
      "/home/hanliu/project/mouse_rostral_brain/dataset/gene_with_2kb_slop/9H-190212.geneslop2k.mcds\n",
      "/home/hanliu/project/mouse_rostral_brain/dataset/gene_with_2kb_slop/9H-190219.geneslop2k.mcds\n",
      "/home/hanliu/project/mouse_rostral_brain/dataset/gene_with_2kb_slop/9J-190212.geneslop2k.mcds\n",
      "/home/hanliu/project/mouse_rostral_brain/dataset/gene_with_2kb_slop/9J-190219.geneslop2k.mcds\n"
     ]
    }
   ],
   "source": [
    "mcds_dir = pathlib.Path(\n",
    "    '/home/hanliu/project/mouse_rostral_brain/dataset/gene_with_2kb_slop/')\n",
    "mcds_list = list(mcds_dir.glob('*mcds'))\n",
    "\n",
    "for path in mcds_list:\n",
    "    mcds = xr.open_dataset(path).squeeze()\n",
    "    use_cell = mcds.get_index('cell') & cell_tidy_data.index\n",
    "    if use_cell.size == 0:\n",
    "        continue\n",
    "    print(path)\n",
    "    mcds = mcds.sel(cell=use_cell)\n",
    "    mcds.coords['CellClass'] = cell_tidy_data['CellClass']\n",
    "    mcds.coords['MajorType'] = cell_tidy_data['MajorType']\n",
    "    mcds.coords['SubType'] = cell_tidy_data['SubType']\n",
    "\n",
    "    cluster_sum = mcds.groupby('MajorType').sum(dim='cell')\n",
    "    cluster_sum.to_netcdf(path.name + 'majortype_sum.nc')"
   ]
  },
  {
   "cell_type": "code",
   "execution_count": 8,
   "metadata": {
    "ExecuteTime": {
     "end_time": "2019-12-18T23:18:30.042233Z",
     "start_time": "2019-12-18T23:17:33.039842Z"
    }
   },
   "outputs": [
    {
     "name": "stderr",
     "output_type": "stream",
     "text": [
      "/home/hanliu/miniconda3/envs/clustering/lib/python3.7/site-packages/xarray/core/dataarray.py:267: FutureWarning: The Panel class is removed from pandas. Accessing it from the top-level namespace will also be removed in the next version\n",
      "  elif isinstance(data, pd.Panel):\n"
     ]
    },
    {
     "name": "stdout",
     "output_type": "stream",
     "text": [
      "40\n",
      "80\n"
     ]
    }
   ],
   "source": [
    "mcds_dir = pathlib.Path('./')\n",
    "mcds_list = list(mcds_dir.glob('*majortype_sum.nc'))\n",
    "unique_sub_types = pd.Index(cell_tidy_data['MajorType'].unique(), name='MajorType')\n",
    "\n",
    "total_ds = xr.Dataset()\n",
    "total_ds['geneslop2k_da'] = xr.DataArray([])\n",
    "first = True\n",
    "n = 0\n",
    "for path in mcds_list:\n",
    "    n += 1\n",
    "    if n % 40 == 0:\n",
    "        print(n)\n",
    "    da = xr.open_dataset(path)['geneslop2k_da']\n",
    "    if first:\n",
    "        total_da = da.reindex({'MajorType': unique_sub_types}).fillna(0)\n",
    "        first = False\n",
    "    else:\n",
    "        da = da.reindex({k: total_da.coords[k] \n",
    "                         for k in ['MajorType', 'geneslop2k', 'mc_type', 'count_type']}).fillna(0)\n",
    "        total_da.values = total_da.values + da.values\n",
    "        \n",
    "total_rate = total_da.sel(count_type='mc') / total_da.sel(count_type='cov')\n",
    "\n",
    "ds = xr.Dataset({'gene_cluster_da': total_da, \n",
    "                 'gene_cluster_da_rate': total_rate})\n",
    "\n",
    "ds.to_netcdf('MajorType.geneslop2k.mcds')"
   ]
  },
  {
   "cell_type": "code",
   "execution_count": 9,
   "metadata": {
    "ExecuteTime": {
     "end_time": "2019-12-18T23:18:30.105901Z",
     "start_time": "2019-12-18T23:18:30.044519Z"
    }
   },
   "outputs": [],
   "source": [
    "assert int((ds['gene_cluster_da'].sel(count_type='mc') > ds['gene_cluster_da'].sel(count_type='cov')).sum()) == 0\n",
    "assert int(np.isnan(ds['gene_cluster_da']).sum()) == 0"
   ]
  },
  {
   "cell_type": "code",
   "execution_count": null,
   "metadata": {},
   "outputs": [],
   "source": []
  }
 ],
 "metadata": {
  "hide_input": false,
  "kernelspec": {
   "display_name": "Python 3",
   "language": "python",
   "name": "python3"
  },
  "language_info": {
   "codemirror_mode": {
    "name": "ipython",
    "version": 3
   },
   "file_extension": ".py",
   "mimetype": "text/x-python",
   "name": "python",
   "nbconvert_exporter": "python",
   "pygments_lexer": "ipython3",
   "version": "3.7.3"
  },
  "toc": {
   "base_numbering": 1,
   "nav_menu": {},
   "number_sections": true,
   "sideBar": true,
   "skip_h1_title": true,
   "title_cell": "Table of Contents",
   "title_sidebar": "Contents",
   "toc_cell": false,
   "toc_position": {},
   "toc_section_display": true,
   "toc_window_display": true
  }
 },
 "nbformat": 4,
 "nbformat_minor": 2
}
