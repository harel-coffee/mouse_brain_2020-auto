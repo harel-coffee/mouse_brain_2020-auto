{
 "cells": [
  {
   "cell_type": "code",
   "execution_count": 1,
   "metadata": {
    "ExecuteTime": {
     "end_time": "2020-02-25T19:22:48.617943Z",
     "start_time": "2020-02-25T19:22:47.267774Z"
    },
    "papermill": {
     "duration": 0.374786,
     "end_time": "2020-01-27T23:41:52.695240",
     "exception": false,
     "start_time": "2020-01-27T23:41:52.320454",
     "status": "completed"
    },
    "tags": []
   },
   "outputs": [],
   "source": [
    "from concurrent.futures import ProcessPoolExecutor, as_completed\n",
    "\n",
    "import joblib\n",
    "import matplotlib.pyplot as plt\n",
    "import numpy as np\n",
    "import pandas as pd\n",
    "import seaborn as sns"
   ]
  },
  {
   "cell_type": "code",
   "execution_count": 2,
   "metadata": {
    "ExecuteTime": {
     "end_time": "2020-02-25T19:22:48.638428Z",
     "start_time": "2020-02-25T19:22:48.632803Z"
    },
    "papermill": {
     "duration": 0.009949,
     "end_time": "2020-01-27T23:41:52.711842",
     "exception": false,
     "start_time": "2020-01-27T23:41:52.701893",
     "status": "completed"
    },
    "tags": []
   },
   "outputs": [],
   "source": [
    "cpu = 10\n",
    "\n",
    "lgp_cutoff = 8\n",
    "log2odds_cutoff = 1"
   ]
  },
  {
   "cell_type": "markdown",
   "metadata": {},
   "source": [
    "## Load"
   ]
  },
  {
   "cell_type": "markdown",
   "metadata": {},
   "source": [
    "### Pairwise Motif Enrichment"
   ]
  },
  {
   "cell_type": "code",
   "execution_count": 3,
   "metadata": {
    "ExecuteTime": {
     "end_time": "2020-02-25T19:22:52.267315Z",
     "start_time": "2020-02-25T19:22:49.271479Z"
    }
   },
   "outputs": [
    {
     "name": "stderr",
     "output_type": "stream",
     "text": [
      "/home/hanliu/miniconda3/envs/clustering/lib/python3.7/site-packages/IPython/core/interactiveshell.py:3326: FutureWarning: The read_msgpack is deprecated and will be removed in a future version.\n",
      "It is recommended to use pyarrow for on-the-wire transmission of pandas objects.\n",
      "  exec(code_obj, self.user_global_ns, self.user_ns)\n",
      "/home/hanliu/miniconda3/envs/clustering/lib/python3.7/site-packages/pandas/core/series.py:853: RuntimeWarning: divide by zero encountered in log2\n",
      "  result = getattr(ufunc, method)(*inputs, **kwargs)\n"
     ]
    }
   ],
   "source": [
    "motif_enrichment_results = pd.read_msgpack('PairwiseMotifEnrichment.msg')\n",
    "motif_enrichment_results['log2odds'] = np.log2(\n",
    "    motif_enrichment_results['oddsratio'])\n",
    "motif_enrichment_results = motif_enrichment_results[\n",
    "    (motif_enrichment_results['-lgp'] > lgp_cutoff)\n",
    "    & (motif_enrichment_results['log2odds'].abs() > log2odds_cutoff)].copy()"
   ]
  },
  {
   "cell_type": "code",
   "execution_count": 14,
   "metadata": {
    "ExecuteTime": {
     "end_time": "2020-02-25T19:35:29.117774Z",
     "start_time": "2020-02-25T19:32:19.974597Z"
    }
   },
   "outputs": [],
   "source": [
    "def judge_row(row):\n",
    "    if row['log2odds'] < 0:\n",
    "        return pd.Series({'enrich': row['ClusterB'], 'null': row['ClusterA']})\n",
    "    else:\n",
    "        return pd.Series({'enrich': row['ClusterA'], 'null': row['ClusterB']})\n",
    "\n",
    "\n",
    "motif_sig_judge = motif_enrichment_results.apply(judge_row, axis=1)"
   ]
  },
  {
   "cell_type": "code",
   "execution_count": 15,
   "metadata": {
    "ExecuteTime": {
     "end_time": "2020-02-25T19:35:29.275661Z",
     "start_time": "2020-02-25T19:35:29.129653Z"
    }
   },
   "outputs": [
    {
     "data": {
      "text/plain": [
       "array(['Gfra1_Gfra1', 'PT-L5_Ptprt', 'CA1_Kif26a', 'PT-L5_Astn2',\n",
       "       'PT-L5_Plcb4', 'PT-L5_Kcnh1', 'PT-L5_Unc5b', 'PT-L5_Tmtc2',\n",
       "       'PT-L5_Nectin1', 'NP-L6_Olfml2b', 'NP-L6_Cntnap4', 'NP-L6_Kcnab1',\n",
       "       'CA1_Chrm3', 'PT-L5_Abca12', 'DG-po_Kctd8', 'DG-po_Calb2',\n",
       "       'CA1_Ak5', 'NP-L6_Cntnap5a', 'NP-L6_Boc', 'CA3_Cadm2',\n",
       "       'NP-L6_Cyp7b1', 'CA1_Lingo2', 'CA1_Ptprg', 'CA3-St18_Tead1',\n",
       "       'L6b_Nrp2', 'CA3-St18_Nuak1', 'L6b_Pkhd1', 'L6b_Adcy8',\n",
       "       'OLF-Exc_Rmst', 'CA3_Efnb2', 'CT-L6_Megf9', 'CA3-St18_Epha5',\n",
       "       'IG-CA2_Chrm3', 'IG-CA2_Peak1', 'CT-L6_Il1rap', 'CT-L6_Map4',\n",
       "       'DG_dg-all', 'L6b_Kcnk2', 'IG-CA2_Xpr1', 'DG-po_Bcl11a',\n",
       "       'CT-L6_Hcrtr2', 'EP_Adcy8', 'OLF-Exc_Bmpr1b', 'EP_Tspan5',\n",
       "       'OLF-Exc_Cdh9', 'EP_Rgs8', 'OLF-Exc_Cux2', 'OLF-Exc_Sgcd',\n",
       "       'OLF-Exc_Pld5', 'CLA_Bcl11a', 'IT-L6_Cadps2', 'OLF-Exc_Lrrtm3',\n",
       "       'CLA_Cdh8', 'CLA_Nrp2', 'OLF-Exc_Unc13c', 'IT-L6_Fstl4',\n",
       "       'IT-L6_Man1c1', 'IT-L5_Etv1', 'IT-L6_Oxr1', 'IT-L5_Grik3',\n",
       "       'IT-L23_Tenm2', 'IT-L23_Cux1', 'IT-L23_Ptprt', 'IT-L4_Shc3',\n",
       "       'IT-L4_Astn2', 'IT-L5_Cdh8', 'IT-L23_Foxp1', 'PT-L5_Tenm2'],\n",
       "      dtype=object)"
      ]
     },
     "execution_count": 15,
     "metadata": {},
     "output_type": "execute_result"
    }
   ],
   "source": [
    "motif_sig_judge['enrich'].unique()"
   ]
  },
  {
   "cell_type": "code",
   "execution_count": 11,
   "metadata": {
    "ExecuteTime": {
     "end_time": "2020-02-25T19:31:04.995964Z",
     "start_time": "2020-02-25T19:31:04.868677Z"
    },
    "scrolled": true
   },
   "outputs": [
    {
     "data": {
      "text/plain": [
       "oddsratio           4.22987\n",
       "p_value                   0\n",
       "adj_p                     0\n",
       "-lgp                    300\n",
       "left_hit               8971\n",
       "left_no_hit           60020\n",
       "right_hit              3413\n",
       "right_no_hit          96587\n",
       "left_hit_rate      0.130031\n",
       "right_hit_rate      0.03413\n",
       "ClusterA          CA1_Chrm3\n",
       "ClusterB          CA3_Cadm2\n",
       "log2odds            2.08061\n",
       "Name: MA1109.1, dtype: object"
      ]
     },
     "execution_count": 11,
     "metadata": {},
     "output_type": "execute_result"
    }
   ],
   "source": [
    "motif_enrichment_results[\n",
    "    motif_enrichment_results['ClusterA'].isin(['CA1_Chrm3', 'CA3_Cadm2'])\n",
    "    & motif_enrichment_results['ClusterB'].isin(['CA1_Chrm3', 'CA3_Cadm2'\n",
    "                                                 ])].loc['MA1109.1']"
   ]
  },
  {
   "cell_type": "code",
   "execution_count": 13,
   "metadata": {
    "ExecuteTime": {
     "end_time": "2020-02-25T19:31:40.383227Z",
     "start_time": "2020-02-25T19:31:40.245426Z"
    }
   },
   "outputs": [
    {
     "data": {
      "text/plain": [
       "enrich    CA1_Chrm3\n",
       "null      CA3_Cadm2\n",
       "Name: MA1109.1, dtype: object"
      ]
     },
     "execution_count": 13,
     "metadata": {},
     "output_type": "execute_result"
    }
   ],
   "source": [
    "motif_sig_judge[\n",
    "    motif_sig_judge['enrich'].isin(['CA1_Chrm3', 'CA3_Cadm2'])\n",
    "    & motif_sig_judge['null'].isin(['CA1_Chrm3', 'CA3_Cadm2'])].loc['MA1109.1']"
   ]
  },
  {
   "cell_type": "code",
   "execution_count": null,
   "metadata": {},
   "outputs": [],
   "source": []
  },
  {
   "cell_type": "code",
   "execution_count": null,
   "metadata": {},
   "outputs": [],
   "source": []
  },
  {
   "cell_type": "code",
   "execution_count": null,
   "metadata": {},
   "outputs": [],
   "source": []
  },
  {
   "cell_type": "code",
   "execution_count": null,
   "metadata": {},
   "outputs": [],
   "source": []
  },
  {
   "cell_type": "code",
   "execution_count": null,
   "metadata": {},
   "outputs": [],
   "source": []
  },
  {
   "cell_type": "markdown",
   "metadata": {},
   "source": [
    "### Dendrogram"
   ]
  },
  {
   "cell_type": "code",
   "execution_count": 7,
   "metadata": {
    "ExecuteTime": {
     "end_time": "2020-02-23T23:08:06.094520Z",
     "start_time": "2020-02-23T23:08:06.089735Z"
    },
    "papermill": {
     "duration": 0.381645,
     "end_time": "2020-01-27T23:41:53.115377",
     "exception": false,
     "start_time": "2020-01-27T23:41:52.733732",
     "status": "completed"
    },
    "tags": []
   },
   "outputs": [],
   "source": [
    "node_cluster_dict = joblib.load(\n",
    "    '/home/hanliu/project/mouse_rostral_brain/study/AssignGeneToTree/RTree/Exc.non_singleton_node_dict.lib'\n",
    ")"
   ]
  },
  {
   "cell_type": "code",
   "execution_count": 8,
   "metadata": {
    "ExecuteTime": {
     "end_time": "2020-02-23T23:08:08.504772Z",
     "start_time": "2020-02-23T23:08:08.498570Z"
    },
    "papermill": {
     "duration": 0.011486,
     "end_time": "2020-01-27T23:41:53.133286",
     "exception": false,
     "start_time": "2020-01-27T23:41:53.121800",
     "status": "completed"
    },
    "tags": []
   },
   "outputs": [],
   "source": [
    "node_possible_count = {}\n",
    "for node, sub_dict in node_cluster_dict.items():\n",
    "    possible_pairs = len(sub_dict['left']) * len(sub_dict['right'])\n",
    "    node_possible_count[node] = possible_pairs\n",
    "node_possible_count = pd.Series(node_possible_count)"
   ]
  },
  {
   "cell_type": "markdown",
   "metadata": {},
   "source": [
    "### Gene Meta"
   ]
  },
  {
   "cell_type": "code",
   "execution_count": 9,
   "metadata": {
    "ExecuteTime": {
     "end_time": "2020-02-23T23:08:13.558485Z",
     "start_time": "2020-02-23T23:08:13.184318Z"
    }
   },
   "outputs": [],
   "source": [
    "gene_meta = pd.read_csv(\n",
    "    '/home/hanliu/ref/mouse/gencode/vm22/gencode.vM22.annotation.gene.flat.tsv.gz',\n",
    "    sep='\\t',\n",
    "    index_col='gene_id')\n",
    "gene_name_to_id = {v: k for k, v in gene_meta['gene_name'].items()}"
   ]
  },
  {
   "cell_type": "markdown",
   "metadata": {},
   "source": [
    "## Assign motif to tree"
   ]
  },
  {
   "cell_type": "code",
   "execution_count": 33,
   "metadata": {
    "ExecuteTime": {
     "end_time": "2020-02-23T23:25:26.778733Z",
     "start_time": "2020-02-23T23:25:26.768945Z"
    }
   },
   "outputs": [],
   "source": [
    "def calculate_node_portion(sub_df):\n",
    "    nodes_records = {}\n",
    "    for k, v in node_cluster_dict.items():\n",
    "        left = [i.replace(' ', '_') for i in v['left']]\n",
    "        right = [i.replace(' ', '_') for i in v['right']]\n",
    "\n",
    "        # left enrich, right null\n",
    "        judge_from_left = sub_df['enrich'].apply(lambda i: i in left)\n",
    "        judge_to_right = sub_df['null'].apply(lambda i: i in right)\n",
    "\n",
    "        # right enrich, left hyper\n",
    "        judge_from_right = sub_df['enrich'].apply(lambda i: i in right)\n",
    "        judge_to_left = sub_df['null'].apply(lambda i: i in left)\n",
    "\n",
    "        # this two cancel each other, use the remaining abs as real hits\n",
    "        # positive means left hypo, negative means right hypo\n",
    "        total = (judge_from_left & judge_to_right).sum() -\\\n",
    "                (judge_from_right & judge_to_left).sum()\n",
    "        nodes_records[k] = total\n",
    "    nodes_records = pd.Series(nodes_records) / node_possible_count\n",
    "    return nodes_records"
   ]
  },
  {
   "cell_type": "code",
   "execution_count": null,
   "metadata": {},
   "outputs": [],
   "source": []
  },
  {
   "cell_type": "code",
   "execution_count": null,
   "metadata": {},
   "outputs": [],
   "source": []
  },
  {
   "cell_type": "code",
   "execution_count": 38,
   "metadata": {
    "ExecuteTime": {
     "end_time": "2020-02-23T23:29:32.591582Z",
     "start_time": "2020-02-23T23:29:22.630120Z"
    },
    "papermill": {
     "duration": 22.203033,
     "end_time": "2020-01-27T23:42:15.341409",
     "exception": false,
     "start_time": "2020-01-27T23:41:53.138376",
     "status": "completed"
    },
    "tags": []
   },
   "outputs": [],
   "source": [
    "total_result = {}\n",
    "with ProcessPoolExecutor(cpu) as executor:\n",
    "    futures = {}\n",
    "    for motif, sub_df in motif_sig_judge.groupby(motif_sig_judge.index):\n",
    "        future = executor.submit(calculate_node_portion, sub_df)\n",
    "        futures[future] = motif\n",
    "        \n",
    "    for future in as_completed(futures):\n",
    "        result = future.result()\n",
    "        gene = futures[future]\n",
    "        total_result[gene] = result\n",
    "total_result = pd.DataFrame(total_result)"
   ]
  },
  {
   "cell_type": "code",
   "execution_count": 42,
   "metadata": {
    "ExecuteTime": {
     "end_time": "2020-02-23T23:30:00.612427Z",
     "start_time": "2020-02-23T23:30:00.389087Z"
    }
   },
   "outputs": [],
   "source": [
    "mask_cutoff = 0.3\n",
    "\n",
    "masked_result = total_result.copy()\n",
    "masked_result[masked_result.abs() < 0.3] = 0"
   ]
  },
  {
   "cell_type": "code",
   "execution_count": 43,
   "metadata": {
    "ExecuteTime": {
     "end_time": "2020-02-23T23:30:02.049903Z",
     "start_time": "2020-02-23T23:30:01.794828Z"
    }
   },
   "outputs": [
    {
     "data": {
      "text/plain": [
       "376"
      ]
     },
     "execution_count": 43,
     "metadata": {},
     "output_type": "execute_result"
    }
   ],
   "source": [
    "# gene that assign to at least one node\n",
    "((masked_result != 0).sum(axis=0) != 0).sum()"
   ]
  },
  {
   "cell_type": "code",
   "execution_count": 44,
   "metadata": {
    "ExecuteTime": {
     "end_time": "2020-02-23T23:30:03.443246Z",
     "start_time": "2020-02-23T23:30:03.210777Z"
    }
   },
   "outputs": [
    {
     "data": {
      "text/plain": [
       "66"
      ]
     },
     "execution_count": 44,
     "metadata": {},
     "output_type": "execute_result"
    }
   ],
   "source": [
    "# node that has at least 5 genes\n",
    "((masked_result != 0).sum(axis=1) > 5).sum()"
   ]
  },
  {
   "cell_type": "code",
   "execution_count": 46,
   "metadata": {
    "ExecuteTime": {
     "end_time": "2020-02-23T23:30:11.625961Z",
     "start_time": "2020-02-23T23:30:11.448225Z"
    }
   },
   "outputs": [
    {
     "data": {
      "text/plain": [
       "MA0014.3      0\n",
       "MA0003.4     75\n",
       "MA0018.4     90\n",
       "MA0017.2    120\n",
       "MA0007.3      0\n",
       "           ... \n",
       "MA1648.1     72\n",
       "MA1642.1     71\n",
       "MA1655.1      0\n",
       "MA1651.1      0\n",
       "MA1683.1     70\n",
       "Length: 497, dtype: int64"
      ]
     },
     "execution_count": 46,
     "metadata": {},
     "output_type": "execute_result"
    }
   ],
   "source": [
    "masked_result.apply(lambda i: 0 if i.abs().max() == 0 else i.abs().idxmax(), axis=0)"
   ]
  },
  {
   "cell_type": "code",
   "execution_count": 47,
   "metadata": {
    "ExecuteTime": {
     "end_time": "2020-02-23T23:30:14.126084Z",
     "start_time": "2020-02-23T23:30:12.938813Z"
    },
    "papermill": {
     "duration": 2.461153,
     "end_time": "2020-01-27T23:42:17.809079",
     "exception": false,
     "start_time": "2020-01-27T23:42:15.347926",
     "status": "completed"
    },
    "scrolled": false,
    "tags": []
   },
   "outputs": [
    {
     "data": {
      "text/plain": [
       "<seaborn.matrix.ClusterGrid at 0x7f1218103320>"
      ]
     },
     "execution_count": 47,
     "metadata": {},
     "output_type": "execute_result"
    },
    {
     "data": {
      "image/png": "[encoded data removed]",
      "text/plain": [
       "<Figure size 720x720 with 4 Axes>"
      ]
     },
     "metadata": {
      "needs_background": "light"
     },
     "output_type": "display_data"
    }
   ],
   "source": [
    "sns.clustermap(total_result, row_cluster=False, cmap='coolwarm')"
   ]
  },
  {
   "cell_type": "code",
   "execution_count": 48,
   "metadata": {
    "ExecuteTime": {
     "end_time": "2020-02-23T23:31:03.346651Z",
     "start_time": "2020-02-23T23:31:03.341012Z"
    },
    "papermill": {
     "duration": 0.022275,
     "end_time": "2020-01-27T23:42:17.839136",
     "exception": false,
     "start_time": "2020-01-27T23:42:17.816861",
     "status": "completed"
    },
    "tags": []
   },
   "outputs": [
    {
     "name": "stderr",
     "output_type": "stream",
     "text": [
      "/home/hanliu/miniconda3/envs/clustering/lib/python3.7/site-packages/ipykernel_launcher.py:1: FutureWarning: to_msgpack is deprecated and will be removed in a future version.\n",
      "It is recommended to use pyarrow for on-the-wire transmission of pandas objects.\n",
      "  \"\"\"Entry point for launching an IPython kernel.\n"
     ]
    }
   ],
   "source": [
    "total_result.to_msgpack('NodeMotifResults.msg')"
   ]
  },
  {
   "cell_type": "code",
   "execution_count": null,
   "metadata": {
    "papermill": {
     "duration": 0.006577,
     "end_time": "2020-01-27T23:42:17.852473",
     "exception": false,
     "start_time": "2020-01-27T23:42:17.845896",
     "status": "completed"
    },
    "scrolled": true,
    "tags": []
   },
   "outputs": [],
   "source": []
  },
  {
   "cell_type": "code",
   "execution_count": null,
   "metadata": {
    "papermill": {
     "duration": 0.006515,
     "end_time": "2020-01-27T23:42:17.865441",
     "exception": false,
     "start_time": "2020-01-27T23:42:17.858926",
     "status": "completed"
    },
    "tags": []
   },
   "outputs": [],
   "source": []
  },
  {
   "cell_type": "code",
   "execution_count": null,
   "metadata": {
    "papermill": {
     "duration": 0.006349,
     "end_time": "2020-01-27T23:42:17.878223",
     "exception": false,
     "start_time": "2020-01-27T23:42:17.871874",
     "status": "completed"
    },
    "tags": []
   },
   "outputs": [],
   "source": []
  }
 ],
 "metadata": {
  "hide_input": false,
  "kernelspec": {
   "display_name": "Python 3",
   "language": "python",
   "name": "python3"
  },
  "language_info": {
   "codemirror_mode": {
    "name": "ipython",
    "version": 3
   },
   "file_extension": ".py",
   "mimetype": "text/x-python",
   "name": "python",
   "nbconvert_exporter": "python",
   "pygments_lexer": "ipython3",
   "version": "3.7.3"
  },
  "papermill": {
   "duration": 27.14924,
   "end_time": "2020-01-27T23:42:18.391904",
   "environment_variables": {},
   "exception": null,
   "input_path": "3.AssignGeneToTree.ipynb",
   "output_path": "/home/hanliu/project/mouse_rostral_brain/study/AssignGeneToTree/ExcGeneToTree/3.AssignGeneToTree.ipynb",
   "parameters": {},
   "start_time": "2020-01-27T23:41:51.242664",
   "version": "1.0.1"
  },
  "toc": {
   "base_numbering": 1,
   "nav_menu": {},
   "number_sections": true,
   "sideBar": true,
   "skip_h1_title": true,
   "title_cell": "Table of Contents",
   "title_sidebar": "Contents",
   "toc_cell": false,
   "toc_position": {},
   "toc_section_display": true,
   "toc_window_display": true
  }
 },
 "nbformat": 4,
 "nbformat_minor": 2
}
