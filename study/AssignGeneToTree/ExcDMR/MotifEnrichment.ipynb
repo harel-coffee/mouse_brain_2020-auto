{
 "cells": [
  {
   "cell_type": "code",
   "execution_count": 1,
   "metadata": {
    "ExecuteTime": {
     "end_time": "2020-02-26T05:36:21.530228Z",
     "start_time": "2020-02-26T05:36:13.644325Z"
    }
   },
   "outputs": [],
   "source": [
    "from concurrent.futures import ProcessPoolExecutor, as_completed\n",
    "import anndata\n",
    "import matplotlib.pyplot as plt\n",
    "import numpy as np\n",
    "import pandas as pd\n",
    "import pybedtools\n",
    "import scipy.stats as stats\n",
    "import seaborn as sns\n",
    "import joblib\n",
    "import pathlib\n",
    "from statsmodels.stats.multitest import multipletests"
   ]
  },
  {
   "cell_type": "markdown",
   "metadata": {
    "ExecuteTime": {
     "end_time": "2020-02-20T03:35:48.834089Z",
     "start_time": "2020-02-20T03:35:48.832019Z"
    }
   },
   "source": [
    "## Parameters"
   ]
  },
  {
   "cell_type": "code",
   "execution_count": 2,
   "metadata": {
    "ExecuteTime": {
     "end_time": "2020-02-26T05:36:21.534410Z",
     "start_time": "2020-02-26T05:36:21.531982Z"
    }
   },
   "outputs": [],
   "source": [
    "# relavent score cutoff\n",
    "rs_cutoff = 0.3\n",
    "min_dmr_to_test = 1000 # on either side\n",
    "\n",
    "# motif enrichment\n",
    "or_cutoff = 1.6\n",
    "neg_lgp_cutoff = 10\n",
    "mask_quantile_to_max = 0.8"
   ]
  },
  {
   "cell_type": "markdown",
   "metadata": {},
   "source": [
    "## Load Data"
   ]
  },
  {
   "cell_type": "markdown",
   "metadata": {},
   "source": [
    "### Motif gene"
   ]
  },
  {
   "cell_type": "code",
   "execution_count": 3,
   "metadata": {
    "ExecuteTime": {
     "end_time": "2020-02-26T05:36:21.589924Z",
     "start_time": "2020-02-26T05:36:21.535921Z"
    }
   },
   "outputs": [
    {
     "data": {
      "text/html": [
       "<div>\n",
       "<style scoped>\n",
       "    .dataframe tbody tr th:only-of-type {\n",
       "        vertical-align: middle;\n",
       "    }\n",
       "\n",
       "    .dataframe tbody tr th {\n",
       "        vertical-align: top;\n",
       "    }\n",
       "\n",
       "    .dataframe thead th {\n",
       "        text-align: right;\n",
       "    }\n",
       "</style>\n",
       "<table border=\"1\" class=\"dataframe\">\n",
       "  <thead>\n",
       "    <tr style=\"text-align: right;\">\n",
       "      <th></th>\n",
       "      <th>motif_name</th>\n",
       "      <th>motif_genes</th>\n",
       "      <th>gene_ids</th>\n",
       "      <th>gene_names</th>\n",
       "      <th>motif_group</th>\n",
       "    </tr>\n",
       "    <tr>\n",
       "      <th>motif_uid</th>\n",
       "      <th></th>\n",
       "      <th></th>\n",
       "      <th></th>\n",
       "      <th></th>\n",
       "      <th></th>\n",
       "    </tr>\n",
       "  </thead>\n",
       "  <tbody>\n",
       "    <tr>\n",
       "      <th>MA0006.1</th>\n",
       "      <td>Ahr::Arnt</td>\n",
       "      <td>Ahr,Arnt</td>\n",
       "      <td>ENSMUSG00000019256.17,ENSMUSG00000015522.18</td>\n",
       "      <td>Ahr,Arnt</td>\n",
       "      <td>MotifGroup178</td>\n",
       "    </tr>\n",
       "    <tr>\n",
       "      <th>MA0854.1</th>\n",
       "      <td>Alx1</td>\n",
       "      <td>Alx1</td>\n",
       "      <td>ENSMUSG00000036602.14</td>\n",
       "      <td>Alx1</td>\n",
       "      <td>MotifGroup3</td>\n",
       "    </tr>\n",
       "    <tr>\n",
       "      <th>MA0634.1</th>\n",
       "      <td>ALX3</td>\n",
       "      <td>ALX3</td>\n",
       "      <td>ENSMUSG00000014603.3</td>\n",
       "      <td>Alx3</td>\n",
       "      <td>MotifGroup3</td>\n",
       "    </tr>\n",
       "    <tr>\n",
       "      <th>MA0853.1</th>\n",
       "      <td>Alx4</td>\n",
       "      <td>Alx4</td>\n",
       "      <td>ENSMUSG00000040310.12</td>\n",
       "      <td>Alx4</td>\n",
       "      <td>MotifGroup3</td>\n",
       "    </tr>\n",
       "    <tr>\n",
       "      <th>MA0007.3</th>\n",
       "      <td>Ar</td>\n",
       "      <td>Ar</td>\n",
       "      <td>ENSMUSG00000046532.8</td>\n",
       "      <td>Ar</td>\n",
       "      <td>MotifGroup32</td>\n",
       "    </tr>\n",
       "  </tbody>\n",
       "</table>\n",
       "</div>"
      ],
      "text/plain": [
       "          motif_name motif_genes                                     gene_ids  \\\n",
       "motif_uid                                                                       \n",
       "MA0006.1   Ahr::Arnt    Ahr,Arnt  ENSMUSG00000019256.17,ENSMUSG00000015522.18   \n",
       "MA0854.1        Alx1        Alx1                        ENSMUSG00000036602.14   \n",
       "MA0634.1        ALX3        ALX3                         ENSMUSG00000014603.3   \n",
       "MA0853.1        Alx4        Alx4                        ENSMUSG00000040310.12   \n",
       "MA0007.3          Ar          Ar                         ENSMUSG00000046532.8   \n",
       "\n",
       "          gene_names    motif_group  \n",
       "motif_uid                            \n",
       "MA0006.1    Ahr,Arnt  MotifGroup178  \n",
       "MA0854.1        Alx1    MotifGroup3  \n",
       "MA0634.1        Alx3    MotifGroup3  \n",
       "MA0853.1        Alx4    MotifGroup3  \n",
       "MA0007.3          Ar   MotifGroup32  "
      ]
     },
     "execution_count": 3,
     "metadata": {},
     "output_type": "execute_result"
    }
   ],
   "source": [
    "motif_gene_anno = pd.read_csv(\n",
    "    '/home/hanliu/project/mouse_rostral_brain/study/MotifClustering/JASPAR2020_CORE_vertebrates_non-redundant.mouse_genes.with_motif_group.199.csv', \n",
    "    index_col=0\n",
    ")\n",
    "motif_gene_anno.head()"
   ]
  },
  {
   "cell_type": "markdown",
   "metadata": {},
   "source": [
    "### Node Data"
   ]
  },
  {
   "cell_type": "code",
   "execution_count": 4,
   "metadata": {
    "ExecuteTime": {
     "end_time": "2020-02-25T19:38:07.952628Z",
     "start_time": "2020-02-25T19:37:34.181932Z"
    }
   },
   "outputs": [],
   "source": [
    "adata = anndata.read_h5ad('PairwiseDMR.h5ad')"
   ]
  },
  {
   "cell_type": "code",
   "execution_count": 5,
   "metadata": {
    "ExecuteTime": {
     "end_time": "2020-02-25T19:38:23.306370Z",
     "start_time": "2020-02-25T19:38:07.954708Z"
    }
   },
   "outputs": [],
   "source": [
    "use_dmr = adata.var_names[((adata.X != 0).sum(axis=0) != 0).A1]"
   ]
  },
  {
   "cell_type": "markdown",
   "metadata": {},
   "source": [
    "### DMR Bed and Rate"
   ]
  },
  {
   "cell_type": "code",
   "execution_count": 6,
   "metadata": {
    "ExecuteTime": {
     "end_time": "2020-02-25T19:39:27.938584Z",
     "start_time": "2020-02-25T19:38:23.311592Z"
    }
   },
   "outputs": [],
   "source": [
    "with pd.HDFStore('/home/hanliu/project/mouse_rostral_brain/DMR/SubType/Total/DMRInfo.h5') as hdf:\n",
    "    dmr_bed_df = hdf['bed'].loc[use_dmr].copy()\n",
    "    dmr_rate = hdf['Rate'].loc[use_dmr].copy()"
   ]
  },
  {
   "cell_type": "markdown",
   "metadata": {},
   "source": [
    "### DMR annot"
   ]
  },
  {
   "cell_type": "code",
   "execution_count": 7,
   "metadata": {
    "ExecuteTime": {
     "end_time": "2020-02-25T19:40:51.193160Z",
     "start_time": "2020-02-25T19:39:27.944443Z"
    },
    "scrolled": true
   },
   "outputs": [
    {
     "data": {
      "text/plain": [
       "AnnData object with n_obs × n_vars = 2217640 × 719 \n",
       "    obs: 'chrom', 'start', 'end'"
      ]
     },
     "execution_count": 7,
     "metadata": {},
     "output_type": "execute_result"
    }
   ],
   "source": [
    "dmr_annot = anndata.read_h5ad(\n",
    "    '/home/hanliu/project/mouse_rostral_brain/DMR/SubType/Total/MotifScan.h5ad'\n",
    ")\n",
    "# mask small motif scores\n",
    "motif_cutoff = pd.Series(dmr_annot.X.max(axis=0).todense().A1 * mask_quantile_to_max, index=dmr_annot.var_names)\n",
    "\n",
    "dmr_annot = dmr_annot[use_dmr, :].copy()\n",
    "dmr_annot"
   ]
  },
  {
   "cell_type": "markdown",
   "metadata": {},
   "source": [
    "## Refilter scores"
   ]
  },
  {
   "cell_type": "code",
   "execution_count": 8,
   "metadata": {
    "ExecuteTime": {
     "end_time": "2020-02-25T19:42:23.056958Z",
     "start_time": "2020-02-25T19:40:51.196835Z"
    }
   },
   "outputs": [],
   "source": [
    "# only keep value larger than the cutoff for each motif\n",
    "dmr_annot.X = dmr_annot.X.multiply(\n",
    "    (dmr_annot.X >\n",
    "     motif_cutoff[dmr_annot.var_names].values[None, :]).astype(int)).tocsr()"
   ]
  },
  {
   "cell_type": "markdown",
   "metadata": {},
   "source": [
    "## Prepare test input"
   ]
  },
  {
   "cell_type": "code",
   "execution_count": 4,
   "metadata": {
    "ExecuteTime": {
     "end_time": "2020-02-25T20:56:33.062288Z",
     "start_time": "2020-02-25T20:56:33.047472Z"
    }
   },
   "outputs": [],
   "source": [
    "def prepare_table(pair_id):\n",
    "    # get pair dmr\n",
    "    a, b = adata.obs.loc[pair_id]\n",
    "    this_dmrs = adata.var_names[adata.var_vector(pair_id).astype(bool)]\n",
    "    this_dmr_rate = dmr_rate.loc[this_dmrs, [a, b]]\n",
    "    a_hypo = this_dmr_rate.index[this_dmr_rate[a] < this_dmr_rate[b]]\n",
    "    b_hypo = this_dmr_rate.index[this_dmr_rate[a] > this_dmr_rate[b]]\n",
    "    \n",
    "    # get dmr motif hits annotation\n",
    "    left_dmr_annot = dmr_annot[a_hypo, :]\n",
    "    right_dmr_annot = dmr_annot[b_hypo, :]\n",
    "\n",
    "    # if DMR is not enough, skip and return empty record\n",
    "    if (a_hypo.size < min_dmr_to_test) or (b_hypo.size < min_dmr_to_test):\n",
    "        empty_record = pd.DataFrame([],\n",
    "                                    columns=[\n",
    "                                        'oddsratio', 'p_value', 'adj_p',\n",
    "                                        '-lgp', 'left_hit', 'left_no_hit',\n",
    "                                        'right_hit', 'right_no_hit',\n",
    "                                        'left_hit_rate', 'right_hit_rate',\n",
    "                                        'Node'\n",
    "                                    ])\n",
    "        return empty_record\n",
    "\n",
    "    # get table\n",
    "    motif_ids = dmr_annot.var_names\n",
    "    # calculate motif occurence, not considering hits here\n",
    "    left = (left_dmr_annot[:, motif_ids].X > 0).sum(axis=0)\n",
    "    left_total = left_dmr_annot.shape[0]\n",
    "\n",
    "    right = (right_dmr_annot.X > 0).sum(axis=0)\n",
    "    right_total = right_dmr_annot.shape[0]\n",
    "\n",
    "    tables = {}\n",
    "    for motif, _left, _right in zip(motif_ids, left.A1, right.A1):\n",
    "        table = [[_left, left_total - _left], [_right, right_total - _right]]\n",
    "        tables[motif] = table\n",
    "    return tables"
   ]
  },
  {
   "cell_type": "code",
   "execution_count": null,
   "metadata": {
    "scrolled": true
   },
   "outputs": [],
   "source": [
    "table_records = {}\n",
    "for pair_id in adata.obs_names:\n",
    "    print(pair_id)\n",
    "    a, b = adata.obs.loc[pair_id]\n",
    "    data = prepare_table(pair_id)\n",
    "    table_records[(a, b)] = data"
   ]
  },
  {
   "cell_type": "code",
   "execution_count": 11,
   "metadata": {
    "ExecuteTime": {
     "end_time": "2020-02-25T20:16:46.595995Z",
     "start_time": "2020-02-25T20:12:10.269400Z"
    }
   },
   "outputs": [
    {
     "data": {
      "text/plain": [
       "['PairMotifCountTables.lib']"
      ]
     },
     "execution_count": 11,
     "metadata": {},
     "output_type": "execute_result"
    }
   ],
   "source": [
    "joblib.dump(table_records, 'PairMotifCountTables.lib')"
   ]
  },
  {
   "cell_type": "markdown",
   "metadata": {},
   "source": [
    "## Test"
   ]
  },
  {
   "cell_type": "code",
   "execution_count": 4,
   "metadata": {
    "ExecuteTime": {
     "end_time": "2020-02-26T05:36:22.250982Z",
     "start_time": "2020-02-26T05:36:22.244566Z"
    }
   },
   "outputs": [],
   "source": [
    "def test_one_pair(a, b, tables):\n",
    "    # do test\n",
    "    results = {}    \n",
    "    for motif, t in tables.items():\n",
    "        odds, p = stats.fisher_exact(t, alternative='two-sided')    \n",
    "        results[motif] = {'oddsratio': odds, 'p_value': p}\n",
    "    motif_enrich_df = pd.DataFrame(results).T\n",
    "\n",
    "    # p value correction\n",
    "    _, p, _, _ = multipletests(motif_enrich_df['p_value'], method='fdr_bh')\n",
    "    motif_enrich_df['adj_p'] = p\n",
    "    motif_enrich_df['-lgp'] = -np.log10(motif_enrich_df['adj_p']).replace(\n",
    "        -np.inf, -300)\n",
    "\n",
    "    # assemble final results\n",
    "    records = {}\n",
    "    for motif, t in tables.items():\n",
    "        tp, tn = t[0]\n",
    "        fp, fn = t[1]\n",
    "        tp_rate = tp / (tp + tn)\n",
    "        fp_rate = fp / (fp + fn)\n",
    "        records[motif] = dict(left_hit=tp,\n",
    "                              left_no_hit=tn,\n",
    "                              right_hit=fp,\n",
    "                              right_no_hit=fn,\n",
    "                              left_hit_rate=tp_rate,\n",
    "                              right_hit_rate=fp_rate)\n",
    "    counts = pd.DataFrame(records).T\n",
    "    motif_enrich_df = pd.concat([motif_enrich_df, counts], axis=1, sort=True)\n",
    "    motif_enrich_df['ClusterA'] = a\n",
    "    motif_enrich_df['ClusterB'] = b\n",
    "    \n",
    "    # apply a minimum filter\n",
    "    motif_enrich_df = motif_enrich_df[motif_enrich_df['-lgp'] > 2]\n",
    "\n",
    "    return motif_enrich_df"
   ]
  },
  {
   "cell_type": "code",
   "execution_count": 5,
   "metadata": {
    "ExecuteTime": {
     "end_time": "2020-02-26T05:37:28.522172Z",
     "start_time": "2020-02-26T05:36:23.086266Z"
    }
   },
   "outputs": [],
   "source": [
    "table_records = joblib.load('PairMotifCountTables.lib')"
   ]
  },
  {
   "cell_type": "code",
   "execution_count": 6,
   "metadata": {
    "ExecuteTime": {
     "end_time": "2020-02-26T05:37:28.526259Z",
     "start_time": "2020-02-26T05:37:28.523789Z"
    }
   },
   "outputs": [],
   "source": [
    "temp_dir = 'TEMP'\n",
    "pathlib.Path(temp_dir).mkdir(exist_ok=True)"
   ]
  },
  {
   "cell_type": "code",
   "execution_count": 7,
   "metadata": {
    "ExecuteTime": {
     "end_time": "2020-02-26T05:59:26.490542Z",
     "start_time": "2020-02-26T05:37:28.527757Z"
    },
    "scrolled": true
   },
   "outputs": [
    {
     "name": "stderr",
     "output_type": "stream",
     "text": [
      "/home/hanliu/miniconda3/envs/clustering/lib/python3.7/site-packages/ipykernel_launcher.py:16: FutureWarning: to_msgpack is deprecated and will be removed in a future version.\n",
      "It is recommended to use pyarrow for on-the-wire transmission of pandas objects.\n",
      "  app.launch_new_instance()\n"
     ]
    },
    {
     "name": "stdout",
     "output_type": "stream",
     "text": [
      "OLF-Exc_Cux2\tOLF-Exc_Lrrtm3\t400\n"
     ]
    },
    {
     "name": "stderr",
     "output_type": "stream",
     "text": [
      "/home/hanliu/miniconda3/envs/clustering/lib/python3.7/site-packages/pandas/core/series.py:853: RuntimeWarning: divide by zero encountered in log10\n",
      "  result = getattr(ufunc, method)(*inputs, **kwargs)\n"
     ]
    },
    {
     "name": "stdout",
     "output_type": "stream",
     "text": [
      "OLF-Exc_Cux2\tOLF-Exc_Unc13c\t414\n"
     ]
    },
    {
     "name": "stderr",
     "output_type": "stream",
     "text": [
      "/home/hanliu/miniconda3/envs/clustering/lib/python3.7/site-packages/pandas/core/series.py:853: RuntimeWarning: divide by zero encountered in log10\n",
      "  result = getattr(ufunc, method)(*inputs, **kwargs)\n"
     ]
    },
    {
     "name": "stdout",
     "output_type": "stream",
     "text": [
      "OLF-Exc_Cux2\tIT-L23_Cux1\t420\n"
     ]
    },
    {
     "name": "stderr",
     "output_type": "stream",
     "text": [
      "/home/hanliu/miniconda3/envs/clustering/lib/python3.7/site-packages/pandas/core/series.py:853: RuntimeWarning: divide by zero encountered in log10\n",
      "  result = getattr(ufunc, method)(*inputs, **kwargs)\n"
     ]
    },
    {
     "name": "stdout",
     "output_type": "stream",
     "text": [
      "OLF-Exc_Cux2\tIT-L23_Ptprt\t328\n",
      "OLF-Exc_Sgcd\tOLF-Exc_Unc13c\t362\n"
     ]
    },
    {
     "name": "stderr",
     "output_type": "stream",
     "text": [
      "/home/hanliu/miniconda3/envs/clustering/lib/python3.7/site-packages/pandas/core/series.py:853: RuntimeWarning: divide by zero encountered in log10\n",
      "  result = getattr(ufunc, method)(*inputs, **kwargs)\n"
     ]
    },
    {
     "name": "stdout",
     "output_type": "stream",
     "text": [
      "OLF-Exc_Cux2\tOLF-Exc_Sgcd\t432\n"
     ]
    },
    {
     "name": "stderr",
     "output_type": "stream",
     "text": [
      "/home/hanliu/miniconda3/envs/clustering/lib/python3.7/site-packages/pandas/core/series.py:853: RuntimeWarning: divide by zero encountered in log10\n",
      "  result = getattr(ufunc, method)(*inputs, **kwargs)\n"
     ]
    },
    {
     "name": "stdout",
     "output_type": "stream",
     "text": [
      "OLF-Exc_Cux2\tIT-L6_Cadps2\t524\n"
     ]
    },
    {
     "name": "stderr",
     "output_type": "stream",
     "text": [
      "/home/hanliu/miniconda3/envs/clustering/lib/python3.7/site-packages/pandas/core/series.py:853: RuntimeWarning: divide by zero encountered in log10\n",
      "  result = getattr(ufunc, method)(*inputs, **kwargs)\n",
      "/home/hanliu/miniconda3/envs/clustering/lib/python3.7/site-packages/pandas/core/series.py:853: RuntimeWarning: divide by zero encountered in log10\n",
      "  result = getattr(ufunc, method)(*inputs, **kwargs)\n"
     ]
    },
    {
     "name": "stdout",
     "output_type": "stream",
     "text": [
      "OLF-Exc_Cux2\tIT-L6_Oxr1\t496\n",
      "OLF-Exc_Cux2\tIT-L5_Cdh8\t403\n"
     ]
    },
    {
     "name": "stderr",
     "output_type": "stream",
     "text": [
      "/home/hanliu/miniconda3/envs/clustering/lib/python3.7/site-packages/pandas/core/series.py:853: RuntimeWarning: divide by zero encountered in log10\n",
      "  result = getattr(ufunc, method)(*inputs, **kwargs)\n"
     ]
    },
    {
     "name": "stdout",
     "output_type": "stream",
     "text": [
      "OLF-Exc_Cdh9\tIT-L5_Grik3\t407\n"
     ]
    },
    {
     "name": "stderr",
     "output_type": "stream",
     "text": [
      "/home/hanliu/miniconda3/envs/clustering/lib/python3.7/site-packages/pandas/core/series.py:853: RuntimeWarning: divide by zero encountered in log10\n",
      "  result = getattr(ufunc, method)(*inputs, **kwargs)\n"
     ]
    },
    {
     "name": "stdout",
     "output_type": "stream",
     "text": [
      "OLF-Exc_Cdh9\tIT-L5_Cdh8\t396\n"
     ]
    },
    {
     "name": "stderr",
     "output_type": "stream",
     "text": [
      "/home/hanliu/miniconda3/envs/clustering/lib/python3.7/site-packages/pandas/core/series.py:853: RuntimeWarning: divide by zero encountered in log10\n",
      "  result = getattr(ufunc, method)(*inputs, **kwargs)\n"
     ]
    },
    {
     "name": "stdout",
     "output_type": "stream",
     "text": [
      "OLF-Exc_Cux2\tIT-L23_Tenm2\t354\n"
     ]
    },
    {
     "name": "stderr",
     "output_type": "stream",
     "text": [
      "/home/hanliu/miniconda3/envs/clustering/lib/python3.7/site-packages/pandas/core/series.py:853: RuntimeWarning: divide by zero encountered in log10\n",
      "  result = getattr(ufunc, method)(*inputs, **kwargs)\n"
     ]
    },
    {
     "name": "stdout",
     "output_type": "stream",
     "text": [
      "OLF-Exc_Cdh9\tIT-L23_Ptprt\t444\n"
     ]
    },
    {
     "name": "stderr",
     "output_type": "stream",
     "text": [
      "/home/hanliu/miniconda3/envs/clustering/lib/python3.7/site-packages/pandas/core/series.py:853: RuntimeWarning: divide by zero encountered in log10\n",
      "  result = getattr(ufunc, method)(*inputs, **kwargs)\n",
      "/home/hanliu/miniconda3/envs/clustering/lib/python3.7/site-packages/pandas/core/series.py:853: RuntimeWarning: divide by zero encountered in log10\n",
      "  result = getattr(ufunc, method)(*inputs, **kwargs)\n"
     ]
    },
    {
     "name": "stdout",
     "output_type": "stream",
     "text": [
      "OLF-Exc_Cux2\tIT-L23_Foxp1\t430\n",
      "OLF-Exc_Cux2\tIT-L5_Grik3\t480\n"
     ]
    },
    {
     "name": "stderr",
     "output_type": "stream",
     "text": [
      "/home/hanliu/miniconda3/envs/clustering/lib/python3.7/site-packages/pandas/core/series.py:853: RuntimeWarning: divide by zero encountered in log10\n",
      "  result = getattr(ufunc, method)(*inputs, **kwargs)\n"
     ]
    },
    {
     "name": "stdout",
     "output_type": "stream",
     "text": [
      "OLF-Exc_Sgcd\tOLF-Exc_Lrrtm3\t327\n"
     ]
    },
    {
     "name": "stderr",
     "output_type": "stream",
     "text": [
      "/home/hanliu/miniconda3/envs/clustering/lib/python3.7/site-packages/pandas/core/series.py:853: RuntimeWarning: divide by zero encountered in log10\n",
      "  result = getattr(ufunc, method)(*inputs, **kwargs)\n"
     ]
    },
    {
     "name": "stdout",
     "output_type": "stream",
     "text": [
      "OLF-Exc_Cux2\tIT-L4_Shc3\t465\n"
     ]
    },
    {
     "name": "stderr",
     "output_type": "stream",
     "text": [
      "/home/hanliu/miniconda3/envs/clustering/lib/python3.7/site-packages/pandas/core/series.py:853: RuntimeWarning: divide by zero encountered in log10\n",
      "  result = getattr(ufunc, method)(*inputs, **kwargs)\n"
     ]
    },
    {
     "name": "stdout",
     "output_type": "stream",
     "text": [
      "OLF-Exc_Cux2\tIT-L4_Astn2\t508\n"
     ]
    },
    {
     "name": "stderr",
     "output_type": "stream",
     "text": [
      "/home/hanliu/miniconda3/envs/clustering/lib/python3.7/site-packages/pandas/core/series.py:853: RuntimeWarning: divide by zero encountered in log10\n",
      "  result = getattr(ufunc, method)(*inputs, **kwargs)\n"
     ]
    },
    {
     "name": "stdout",
     "output_type": "stream",
     "text": [
      "OLF-Exc_Cux2\tIT-L6_Fstl4\t522\n"
     ]
    },
    {
     "name": "stderr",
     "output_type": "stream",
     "text": [
      "/home/hanliu/miniconda3/envs/clustering/lib/python3.7/site-packages/pandas/core/series.py:853: RuntimeWarning: divide by zero encountered in log10\n",
      "  result = getattr(ufunc, method)(*inputs, **kwargs)\n"
     ]
    },
    {
     "name": "stdout",
     "output_type": "stream",
     "text": [
      "OLF-Exc_Cdh9\tIT-L23_Foxp1\t397\n"
     ]
    },
    {
     "name": "stderr",
     "output_type": "stream",
     "text": [
      "/home/hanliu/miniconda3/envs/clustering/lib/python3.7/site-packages/pandas/core/series.py:853: RuntimeWarning: divide by zero encountered in log10\n",
      "  result = getattr(ufunc, method)(*inputs, **kwargs)\n"
     ]
    },
    {
     "name": "stdout",
     "output_type": "stream",
     "text": [
      "OLF-Exc_Cdh9\tIT-L6_Fstl4\t443\n"
     ]
    },
    {
     "name": "stderr",
     "output_type": "stream",
     "text": [
      "/home/hanliu/miniconda3/envs/clustering/lib/python3.7/site-packages/pandas/core/series.py:853: RuntimeWarning: divide by zero encountered in log10\n",
      "  result = getattr(ufunc, method)(*inputs, **kwargs)\n",
      "/home/hanliu/miniconda3/envs/clustering/lib/python3.7/site-packages/pandas/core/series.py:853: RuntimeWarning: divide by zero encountered in log10\n",
      "  result = getattr(ufunc, method)(*inputs, **kwargs)\n"
     ]
    },
    {
     "name": "stdout",
     "output_type": "stream",
     "text": [
      "OLF-Exc_Cdh9\tIT-L6_Cadps2\t474\n",
      "OLF-Exc_Cdh9\tIT-L23_Tenm2\t413\n"
     ]
    },
    {
     "name": "stderr",
     "output_type": "stream",
     "text": [
      "/home/hanliu/miniconda3/envs/clustering/lib/python3.7/site-packages/pandas/core/series.py:853: RuntimeWarning: divide by zero encountered in log10\n",
      "  result = getattr(ufunc, method)(*inputs, **kwargs)\n"
     ]
    },
    {
     "name": "stdout",
     "output_type": "stream",
     "text": [
      "OLF-Exc_Cdh9\tIT-L5_Etv1\t395\n"
     ]
    },
    {
     "name": "stderr",
     "output_type": "stream",
     "text": [
      "/home/hanliu/miniconda3/envs/clustering/lib/python3.7/site-packages/pandas/core/series.py:853: RuntimeWarning: divide by zero encountered in log10\n",
      "  result = getattr(ufunc, method)(*inputs, **kwargs)\n"
     ]
    },
    {
     "name": "stdout",
     "output_type": "stream",
     "text": [
      "OLF-Exc_Cdh9\tIT-L4_Astn2\t442\n"
     ]
    },
    {
     "name": "stderr",
     "output_type": "stream",
     "text": [
      "/home/hanliu/miniconda3/envs/clustering/lib/python3.7/site-packages/pandas/core/series.py:853: RuntimeWarning: divide by zero encountered in log10\n",
      "  result = getattr(ufunc, method)(*inputs, **kwargs)\n"
     ]
    },
    {
     "name": "stdout",
     "output_type": "stream",
     "text": [
      "OLF-Exc_Cdh9\tIT-L4_Shc3\t398\n"
     ]
    },
    {
     "name": "stderr",
     "output_type": "stream",
     "text": [
      "/home/hanliu/miniconda3/envs/clustering/lib/python3.7/site-packages/pandas/core/series.py:853: RuntimeWarning: divide by zero encountered in log10\n",
      "  result = getattr(ufunc, method)(*inputs, **kwargs)\n"
     ]
    },
    {
     "name": "stdout",
     "output_type": "stream",
     "text": [
      "OLF-Exc_Cux2\tEP_Tspan5\t509\n"
     ]
    },
    {
     "name": "stderr",
     "output_type": "stream",
     "text": [
      "/home/hanliu/miniconda3/envs/clustering/lib/python3.7/site-packages/pandas/core/series.py:853: RuntimeWarning: divide by zero encountered in log10\n",
      "  result = getattr(ufunc, method)(*inputs, **kwargs)\n"
     ]
    },
    {
     "name": "stdout",
     "output_type": "stream",
     "text": [
      "OLF-Exc_Cux2\tCLA_Bcl11a\t519\n"
     ]
    },
    {
     "name": "stderr",
     "output_type": "stream",
     "text": [
      "/home/hanliu/miniconda3/envs/clustering/lib/python3.7/site-packages/pandas/core/series.py:853: RuntimeWarning: divide by zero encountered in log10\n",
      "  result = getattr(ufunc, method)(*inputs, **kwargs)\n"
     ]
    },
    {
     "name": "stdout",
     "output_type": "stream",
     "text": [
      "OLF-Exc_Cdh9\tIT-L6_Man1c1\t391\n"
     ]
    },
    {
     "name": "stderr",
     "output_type": "stream",
     "text": [
      "/home/hanliu/miniconda3/envs/clustering/lib/python3.7/site-packages/pandas/core/series.py:853: RuntimeWarning: divide by zero encountered in log10\n",
      "  result = getattr(ufunc, method)(*inputs, **kwargs)\n"
     ]
    },
    {
     "name": "stdout",
     "output_type": "stream",
     "text": [
      "OLF-Exc_Cux2\tIT-L6_Man1c1\t488\n"
     ]
    },
    {
     "name": "stderr",
     "output_type": "stream",
     "text": [
      "/home/hanliu/miniconda3/envs/clustering/lib/python3.7/site-packages/pandas/core/series.py:853: RuntimeWarning: divide by zero encountered in log10\n",
      "  result = getattr(ufunc, method)(*inputs, **kwargs)\n"
     ]
    },
    {
     "name": "stdout",
     "output_type": "stream",
     "text": [
      "OLF-Exc_Cux2\tIT-L5_Etv1\t427\n"
     ]
    },
    {
     "name": "stderr",
     "output_type": "stream",
     "text": [
      "/home/hanliu/miniconda3/envs/clustering/lib/python3.7/site-packages/pandas/core/series.py:853: RuntimeWarning: divide by zero encountered in log10\n",
      "  result = getattr(ufunc, method)(*inputs, **kwargs)\n"
     ]
    },
    {
     "name": "stdout",
     "output_type": "stream",
     "text": [
      "OLF-Exc_Cux2\tCLA_Cdh8\t511\n"
     ]
    },
    {
     "name": "stderr",
     "output_type": "stream",
     "text": [
      "/home/hanliu/miniconda3/envs/clustering/lib/python3.7/site-packages/pandas/core/series.py:853: RuntimeWarning: divide by zero encountered in log10\n",
      "  result = getattr(ufunc, method)(*inputs, **kwargs)\n"
     ]
    },
    {
     "name": "stdout",
     "output_type": "stream",
     "text": [
      "OLF-Exc_Cdh9\tEP_Adcy8\t397\n",
      "OLF-Exc_Lrrtm3\tOLF-Exc_Unc13c\t239\n"
     ]
    },
    {
     "name": "stderr",
     "output_type": "stream",
     "text": [
      "/home/hanliu/miniconda3/envs/clustering/lib/python3.7/site-packages/pandas/core/series.py:853: RuntimeWarning: divide by zero encountered in log10\n",
      "  result = getattr(ufunc, method)(*inputs, **kwargs)\n"
     ]
    },
    {
     "name": "stdout",
     "output_type": "stream",
     "text": [
      "OLF-Exc_Cux2\tEP_Rgs8\t410\n"
     ]
    },
    {
     "name": "stderr",
     "output_type": "stream",
     "text": [
      "/home/hanliu/miniconda3/envs/clustering/lib/python3.7/site-packages/pandas/core/series.py:853: RuntimeWarning: divide by zero encountered in log10\n",
      "  result = getattr(ufunc, method)(*inputs, **kwargs)\n"
     ]
    },
    {
     "name": "stdout",
     "output_type": "stream",
     "text": [
      "OLF-Exc_Cdh9\tIT-L6_Oxr1\t427\n"
     ]
    },
    {
     "name": "stderr",
     "output_type": "stream",
     "text": [
      "/home/hanliu/miniconda3/envs/clustering/lib/python3.7/site-packages/pandas/core/series.py:853: RuntimeWarning: divide by zero encountered in log10\n",
      "  result = getattr(ufunc, method)(*inputs, **kwargs)\n"
     ]
    },
    {
     "name": "stdout",
     "output_type": "stream",
     "text": [
      "OLF-Exc_Cux2\tCLA_Nrp2\t467\n"
     ]
    },
    {
     "name": "stderr",
     "output_type": "stream",
     "text": [
      "/home/hanliu/miniconda3/envs/clustering/lib/python3.7/site-packages/pandas/core/series.py:853: RuntimeWarning: divide by zero encountered in log10\n",
      "  result = getattr(ufunc, method)(*inputs, **kwargs)\n"
     ]
    },
    {
     "name": "stdout",
     "output_type": "stream",
     "text": [
      "OLF-Exc_Cux2\tEP_Adcy8\t448\n"
     ]
    },
    {
     "name": "stderr",
     "output_type": "stream",
     "text": [
      "/home/hanliu/miniconda3/envs/clustering/lib/python3.7/site-packages/pandas/core/series.py:853: RuntimeWarning: divide by zero encountered in log10\n",
      "  result = getattr(ufunc, method)(*inputs, **kwargs)\n"
     ]
    },
    {
     "name": "stdout",
     "output_type": "stream",
     "text": [
      "OLF-Exc_Cdh9\tEP_Tspan5\t387\n"
     ]
    },
    {
     "name": "stderr",
     "output_type": "stream",
     "text": [
      "/home/hanliu/miniconda3/envs/clustering/lib/python3.7/site-packages/pandas/core/series.py:853: RuntimeWarning: divide by zero encountered in log10\n",
      "  result = getattr(ufunc, method)(*inputs, **kwargs)\n"
     ]
    },
    {
     "name": "stdout",
     "output_type": "stream",
     "text": [
      "OLF-Exc_Cdh9\tCLA_Bcl11a\t456\n"
     ]
    },
    {
     "name": "stderr",
     "output_type": "stream",
     "text": [
      "/home/hanliu/miniconda3/envs/clustering/lib/python3.7/site-packages/pandas/core/series.py:853: RuntimeWarning: divide by zero encountered in log10\n",
      "  result = getattr(ufunc, method)(*inputs, **kwargs)\n"
     ]
    },
    {
     "name": "stdout",
     "output_type": "stream",
     "text": [
      "OLF-Exc_Cdh9\tCLA_Nrp2\t392\n"
     ]
    },
    {
     "name": "stderr",
     "output_type": "stream",
     "text": [
      "/home/hanliu/miniconda3/envs/clustering/lib/python3.7/site-packages/pandas/core/series.py:853: RuntimeWarning: divide by zero encountered in log10\n",
      "  result = getattr(ufunc, method)(*inputs, **kwargs)\n"
     ]
    },
    {
     "name": "stdout",
     "output_type": "stream",
     "text": [
      "OLF-Exc_Cdh9\tEP_Rgs8\t363\n"
     ]
    },
    {
     "name": "stderr",
     "output_type": "stream",
     "text": [
      "/home/hanliu/miniconda3/envs/clustering/lib/python3.7/site-packages/pandas/core/series.py:853: RuntimeWarning: divide by zero encountered in log10\n",
      "  result = getattr(ufunc, method)(*inputs, **kwargs)\n"
     ]
    },
    {
     "name": "stdout",
     "output_type": "stream",
     "text": [
      "OLF-Exc_Cdh9\tCLA_Cdh8\t426\n",
      "OLF-Exc_Sgcd\tEP_Adcy8\t430\n",
      "OLF-Exc_Sgcd\tEP_Tspan5\t433\n",
      "OLF-Exc_Sgcd\tCLA_Bcl11a\t469\n",
      "OLF-Exc_Sgcd\tEP_Rgs8\t421\n",
      "OLF-Exc_Sgcd\tIT-L6_Cadps2\t478\n",
      "OLF-Exc_Sgcd\tIT-L6_Fstl4\t464\n",
      "OLF-Exc_Sgcd\tIT-L6_Man1c1\t436\n",
      "OLF-Exc_Sgcd\tIT-L6_Oxr1\t474\n",
      "OLF-Exc_Sgcd\tIT-L5_Grik3\t466\n",
      "OLF-Exc_Sgcd\tCLA_Cdh8\t448\n",
      "OLF-Exc_Sgcd\tCLA_Nrp2\t405\n",
      "OLF-Exc_Sgcd\tIT-L4_Shc3\t453\n",
      "OLF-Exc_Sgcd\tIT-L5_Etv1\t454\n",
      "OLF-Exc_Sgcd\tIT-L23_Foxp1\t447\n",
      "OLF-Exc_Sgcd\tIT-L23_Cux1\t448\n",
      "OLF-Exc_Sgcd\tIT-L23_Tenm2\t446\n",
      "OLF-Exc_Sgcd\tIT-L23_Ptprt\t446\n",
      "OLF-Exc_Lrrtm3\tEP_Tspan5\t405\n",
      "OLF-Exc_Sgcd\tIT-L4_Astn2\t464\n",
      "OLF-Exc_Lrrtm3\tIT-L6_Fstl4\t433\n",
      "OLF-Exc_Lrrtm3\tIT-L6_Cadps2\t461\n",
      "OLF-Exc_Lrrtm3\tCLA_Bcl11a\t457\n",
      "OLF-Exc_Sgcd\tIT-L5_Cdh8\t464\n",
      "OLF-Exc_Lrrtm3\tIT-L6_Oxr1\t409\n",
      "OLF-Exc_Lrrtm3\tEP_Rgs8\t391\n",
      "OLF-Exc_Lrrtm3\tEP_Adcy8\t402\n",
      "OLF-Exc_Lrrtm3\tCLA_Cdh8\t431\n",
      "OLF-Exc_Lrrtm3\tIT-L6_Man1c1\t384\n",
      "OLF-Exc_Lrrtm3\tCLA_Nrp2\t425\n",
      "OLF-Exc_Lrrtm3\tIT-L23_Cux1\t419\n",
      "EP_Adcy8\tEP_Tspan5\t384\n",
      "OLF-Exc_Lrrtm3\tIT-L4_Shc3\t407\n",
      "OLF-Exc_Lrrtm3\tIT-L5_Grik3\t420\n",
      "OLF-Exc_Lrrtm3\tIT-L4_Astn2\t421\n",
      "OLF-Exc_Lrrtm3\tIT-L5_Etv1\t402\n",
      "OLF-Exc_Lrrtm3\tIT-L23_Ptprt\t455\n",
      "EP_Adcy8\tEP_Rgs8\t283\n",
      "OLF-Exc_Lrrtm3\tIT-L23_Foxp1\t438\n",
      "OLF-Exc_Unc13c\tEP_Tspan5\t457\n",
      "OLF-Exc_Lrrtm3\tIT-L23_Tenm2\t447\n",
      "EP_Adcy8\tIT-L6_Man1c1\t367\n",
      "OLF-Exc_Lrrtm3\tIT-L5_Cdh8\t429\n",
      "EP_Tspan5\tEP_Rgs8\t338\n",
      "OLF-Exc_Unc13c\tEP_Adcy8\t416\n",
      "OLF-Exc_Unc13c\tCLA_Bcl11a\t479\n",
      "EP_Adcy8\tIT-L5_Grik3\t312\n",
      "OLF-Exc_Unc13c\tIT-L6_Cadps2\t487\n",
      "EP_Adcy8\tIT-L23_Cux1\t396\n",
      "EP_Adcy8\tIT-L6_Fstl4\t401\n",
      "OLF-Exc_Unc13c\tIT-L6_Oxr1\t424\n",
      "OLF-Exc_Unc13c\tEP_Rgs8\t420\n",
      "OLF-Exc_Unc13c\tIT-L6_Fstl4\t467\n",
      "EP_Adcy8\tIT-L6_Cadps2\t472\n",
      "EP_Adcy8\tIT-L5_Etv1\t367\n",
      "OLF-Exc_Unc13c\tIT-L5_Grik3\t417\n",
      "OLF-Exc_Unc13c\tCLA_Cdh8\t455\n",
      "EP_Adcy8\tIT-L23_Tenm2\t423\n",
      "OLF-Exc_Unc13c\tIT-L6_Man1c1\t407\n",
      "OLF-Exc_Unc13c\tIT-L23_Cux1\t459\n",
      "EP_Adcy8\tIT-L4_Shc3\t400\n",
      "OLF-Exc_Unc13c\tCLA_Nrp2\t446\n",
      "EP_Adcy8\tIT-L6_Oxr1\t419\n",
      "EP_Adcy8\tIT-L23_Ptprt\t442\n",
      "OLF-Exc_Unc13c\tIT-L5_Etv1\t420\n",
      "EP_Tspan5\tIT-L6_Fstl4\t281\n",
      "EP_Adcy8\tIT-L4_Astn2\t424\n",
      "EP_Tspan5\tIT-L6_Man1c1\t292\n",
      "EP_Adcy8\tIT-L5_Cdh8\t385\n",
      "EP_Tspan5\tIT-L6_Cadps2\t376\n",
      "EP_Adcy8\tCLA_Cdh8\t414\n",
      "EP_Tspan5\tIT-L5_Grik3\t306\n",
      "EP_Adcy8\tCLA_Bcl11a\t392\n",
      "OLF-Exc_Unc13c\tIT-L4_Astn2\t439\n",
      "EP_Adcy8\tCLA_Nrp2\t340\n",
      "OLF-Exc_Unc13c\tIT-L5_Cdh8\t454\n",
      "EP_Adcy8\tIT-L23_Foxp1\t390\n",
      "EP_Rgs8\tIT-L6_Man1c1\t295\n",
      "OLF-Exc_Unc13c\tIT-L23_Foxp1\t442\n",
      "OLF-Exc_Unc13c\tIT-L4_Shc3\t439\n",
      "EP_Tspan5\tIT-L23_Cux1\t420\n",
      "OLF-Exc_Unc13c\tIT-L23_Tenm2\t445\n",
      "EP_Rgs8\tIT-L5_Grik3\t334\n",
      "EP_Tspan5\tCLA_Cdh8\t296\n",
      "EP_Rgs8\tIT-L6_Fstl4\t361\n",
      "EP_Tspan5\tIT-L23_Tenm2\t478\n",
      "OLF-Exc_Unc13c\tIT-L23_Ptprt\t457\n",
      "EP_Tspan5\tIT-L4_Astn2\t375\n",
      "EP_Tspan5\tCLA_Nrp2\t306\n",
      "EP_Rgs8\tIT-L23_Cux1\t378\n",
      "EP_Tspan5\tIT-L6_Oxr1\t308\n",
      "EP_Tspan5\tIT-L4_Shc3\t390\n",
      "EP_Rgs8\tIT-L6_Cadps2\t477\n",
      "EP_Tspan5\tCLA_Bcl11a\t300\n",
      "EP_Tspan5\tIT-L5_Etv1\t460\n",
      "EP_Tspan5\tIT-L23_Ptprt\t512\n",
      "CLA_Cdh8\tCLA_Nrp2\t250\n",
      "CLA_Bcl11a\tCLA_Cdh8\t206\n",
      "EP_Rgs8\tIT-L4_Shc3\t373\n",
      "EP_Rgs8\tIT-L5_Etv1\t353\n",
      "EP_Rgs8\tIT-L23_Tenm2\t420\n",
      "EP_Rgs8\tIT-L6_Oxr1\t377\n",
      "EP_Tspan5\tIT-L5_Cdh8\t452\n",
      "EP_Rgs8\tIT-L4_Astn2\t420\n",
      "EP_Rgs8\tCLA_Nrp2\t397\n",
      "EP_Tspan5\tIT-L23_Foxp1\t437\n",
      "EP_Rgs8\tCLA_Bcl11a\t404\n",
      "EP_Rgs8\tCLA_Cdh8\t383\n",
      "EP_Rgs8\tIT-L23_Ptprt\t435\n",
      "CLA_Bcl11a\tCLA_Nrp2\t325\n",
      "EP_Rgs8\tIT-L5_Cdh8\t394\n",
      "EP_Rgs8\tIT-L23_Foxp1\t402\n",
      "CLA_Bcl11a\tIT-L5_Etv1\t481\n",
      "CLA_Bcl11a\tIT-L4_Astn2\t355\n",
      "IT-L6_Cadps2\tIT-L6_Fstl4\t264\n",
      "CLA_Bcl11a\tIT-L23_Cux1\t470\n",
      "CLA_Bcl11a\tIT-L23_Tenm2\t491\n",
      "CLA_Bcl11a\tIT-L6_Cadps2\t333\n",
      "CLA_Bcl11a\tIT-L23_Ptprt\t503\n",
      "CLA_Bcl11a\tIT-L5_Grik3\t351\n",
      "CLA_Bcl11a\tIT-L4_Shc3\t392\n",
      "IT-L6_Cadps2\tIT-L5_Grik3\t380\n",
      "CLA_Cdh8\tIT-L6_Cadps2\t348\n",
      "IT-L6_Cadps2\tIT-L6_Oxr1\t310\n",
      "CLA_Cdh8\tIT-L6_Fstl4\t252\n",
      "CLA_Bcl11a\tIT-L23_Foxp1\t461\n",
      "CLA_Bcl11a\tIT-L6_Fstl4\t325\n",
      "CLA_Bcl11a\tIT-L5_Cdh8\t488\n",
      "IT-L6_Cadps2\tIT-L6_Man1c1\t372\n",
      "IT-L6_Oxr1\tIT-L5_Grik3\t226\n",
      "CLA_Cdh8\tIT-L23_Cux1\t425\n",
      "CLA_Bcl11a\tIT-L6_Oxr1\t334\n",
      "CLA_Cdh8\tIT-L4_Shc3\t387\n",
      "CLA_Cdh8\tIT-L4_Astn2\t396\n",
      "CLA_Bcl11a\tIT-L6_Man1c1\t406\n",
      "CLA_Cdh8\tIT-L5_Grik3\t339\n",
      "CLA_Cdh8\tIT-L23_Tenm2\t492\n",
      "CLA_Nrp2\tIT-L23_Cux1\t370\n",
      "IT-L6_Cadps2\tIT-L4_Shc3\t394\n",
      "IT-L6_Oxr1\tIT-L6_Fstl4\t220\n",
      "IT-L6_Cadps2\tIT-L23_Cux1\t461\n",
      "IT-L6_Man1c1\tIT-L6_Fstl4\t232\n",
      "CLA_Cdh8\tIT-L5_Etv1\t455\n",
      "IT-L6_Cadps2\tIT-L4_Astn2\t341\n",
      "IT-L6_Man1c1\tIT-L5_Grik3\t259\n",
      "CLA_Cdh8\tIT-L6_Oxr1\t296\n",
      "IT-L6_Oxr1\tIT-L4_Shc3\t247\n",
      "CLA_Cdh8\tIT-L23_Ptprt\t474\n",
      "IT-L6_Oxr1\tIT-L5_Etv1\t450\n",
      "CLA_Cdh8\tIT-L23_Foxp1\t468\n",
      "CLA_Cdh8\tIT-L6_Man1c1\t322\n",
      "IT-L6_Oxr1\tIT-L4_Astn2\t322\n",
      "IT-L6_Man1c1\tIT-L23_Cux1\t342\n",
      "CLA_Nrp2\tIT-L4_Astn2\t377\n",
      "CLA_Cdh8\tIT-L5_Cdh8\t491\n",
      "IT-L6_Oxr1\tIT-L23_Foxp1\t394\n",
      "IT-L6_Cadps2\tIT-L5_Etv1\t521\n",
      "IT-L6_Oxr1\tIT-L5_Cdh8\t443\n",
      "CLA_Nrp2\tIT-L6_Fstl4\t379\n",
      "CLA_Nrp2\tIT-L4_Shc3\t366\n",
      "CLA_Nrp2\tIT-L23_Tenm2\t457\n",
      "IT-L5_Etv1\tIT-L5_Grik3\t339\n",
      "IT-L6_Fstl4\tIT-L5_Grik3\t287\n",
      "IT-L6_Cadps2\tIT-L5_Cdh8\t535\n",
      "IT-L6_Cadps2\tIT-L23_Foxp1\t508\n",
      "CLA_Nrp2\tIT-L6_Cadps2\t409\n",
      "IT-L5_Etv1\tIT-L5_Cdh8\t162\n",
      "IT-L6_Oxr1\tIT-L23_Cux1\t401\n",
      "IT-L6_Man1c1\tIT-L4_Shc3\t385\n",
      "IT-L6_Oxr1\tIT-L6_Man1c1\t306\n",
      "IT-L6_Cadps2\tIT-L23_Tenm2\t524\n",
      "IT-L6_Man1c1\tIT-L23_Tenm2\t410\n",
      "IT-L6_Man1c1\tIT-L5_Cdh8\t385\n",
      "IT-L6_Oxr1\tIT-L23_Tenm2\t480\n",
      "CLA_Nrp2\tIT-L5_Etv1\t435\n",
      "IT-L6_Man1c1\tIT-L5_Etv1\t403\n",
      "CLA_Nrp2\tIT-L6_Oxr1\t360\n",
      "CLA_Nrp2\tIT-L5_Grik3\t297\n",
      "CLA_Nrp2\tIT-L23_Ptprt\t459\n",
      "IT-L6_Man1c1\tIT-L23_Foxp1\t352\n",
      "IT-L6_Fstl4\tIT-L23_Cux1\t415\n",
      "IT-L6_Man1c1\tIT-L4_Astn2\t423\n",
      "CLA_Nrp2\tIT-L5_Cdh8\t460\n",
      "CLA_Nrp2\tIT-L23_Foxp1\t413\n",
      "CLA_Nrp2\tIT-L6_Man1c1\t353\n",
      "IT-L5_Etv1\tIT-L4_Shc3\t429\n",
      "IT-L5_Grik3\tIT-L5_Cdh8\t405\n",
      "IT-L23_Tenm2\tIT-L23_Ptprt\t118\n",
      "IT-L23_Cux1\tIT-L23_Tenm2\t309\n",
      "IT-L5_Etv1\tIT-L23_Cux1\t411\n",
      "IT-L5_Etv1\tIT-L23_Tenm2\t378\n",
      "IT-L5_Grik3\tIT-L4_Shc3\t347\n",
      "IT-L6_Man1c1\tIT-L23_Ptprt\t440\n",
      "IT-L4_Shc3\tIT-L4_Astn2\t205\n",
      "IT-L5_Grik3\tIT-L23_Cux1\t410\n",
      "IT-L6_Cadps2\tIT-L23_Ptprt\t545\n",
      "IT-L23_Foxp1\tIT-L5_Cdh8\t226\n",
      "IT-L4_Shc3\tIT-L23_Foxp1\t250\n",
      "IT-L6_Oxr1\tIT-L23_Ptprt\t511\n",
      "IT-L5_Etv1\tIT-L4_Astn2\t461\n",
      "IT-L6_Fstl4\tIT-L4_Shc3\t362\n",
      "IT-L5_Etv1\tIT-L23_Foxp1\t347\n",
      "IT-L4_Shc3\tIT-L5_Cdh8\t397\n",
      "IT-L5_Grik3\tIT-L4_Astn2\t400\n",
      "IT-L6_Fstl4\tIT-L23_Tenm2\t512\n",
      "IT-L23_Ptprt\tIT-L23_Foxp1\t376\n",
      "IT-L6_Fstl4\tIT-L5_Cdh8\t476\n",
      "IT-L23_Tenm2\tIT-L23_Foxp1\t341\n",
      "IT-L23_Ptprt\tIT-L5_Cdh8\t321\n",
      "IT-L6_Fstl4\tIT-L4_Astn2\t380\n",
      "IT-L6_Fstl4\tIT-L5_Etv1\t463\n",
      "IT-L5_Grik3\tIT-L23_Tenm2\t461\n",
      "IT-L5_Etv1\tIT-L23_Ptprt\t352\n",
      "IT-L5_Grik3\tIT-L23_Foxp1\t368\n",
      "IT-L23_Tenm2\tIT-L5_Cdh8\t341\n",
      "IT-L23_Ptprt\tIT-L4_Shc3\t498\n",
      "IT-L6_Fstl4\tIT-L23_Foxp1\t433\n",
      "IT-L23_Cux1\tIT-L23_Ptprt\t306\n",
      "IT-L23_Tenm2\tIT-L4_Shc3\t498\n",
      "IT-L4_Astn2\tIT-L5_Cdh8\t473\n",
      "IT-L23_Cux1\tIT-L5_Cdh8\t412\n",
      "IT-L23_Cux1\tIT-L4_Shc3\t387\n",
      "IT-L23_Ptprt\tIT-L4_Astn2\t499\n",
      "IT-L4_Astn2\tIT-L23_Foxp1\t401\n",
      "IT-L6_Fstl4\tIT-L23_Ptprt\t534\n",
      "IT-L23_Tenm2\tIT-L4_Astn2\t513\n",
      "IT-L5_Grik3\tIT-L23_Ptprt\t473\n",
      "IT-L23_Cux1\tIT-L23_Foxp1\t341\n",
      "IT-L23_Cux1\tIT-L4_Astn2\t459\n"
     ]
    }
   ],
   "source": [
    "with ProcessPoolExecutor(40) as executor:\n",
    "    futures = {}\n",
    "    for (a, b), tables in table_records.items():\n",
    "        if not isinstance(tables, dict):\n",
    "            continue\n",
    "        output_path = f'{temp_dir}/{a}-{b}.msg'\n",
    "        if pathlib.Path(output_path).exists():\n",
    "            continue\n",
    "        \n",
    "        future = executor.submit(test_one_pair, a, b, tables)\n",
    "        futures[future] = (a, b, output_path)\n",
    "        \n",
    "    for future in as_completed(futures):\n",
    "        a, b, output_path = futures[future]\n",
    "        data  = future.result()\n",
    "        data.to_msgpack(output_path)\n",
    "        print(a, b, data.shape[0], sep='\\t')"
   ]
  },
  {
   "cell_type": "code",
   "execution_count": 8,
   "metadata": {
    "ExecuteTime": {
     "end_time": "2020-02-26T05:59:29.890049Z",
     "start_time": "2020-02-26T05:59:26.492507Z"
    }
   },
   "outputs": [
    {
     "name": "stderr",
     "output_type": "stream",
     "text": [
      "/home/hanliu/miniconda3/envs/clustering/lib/python3.7/site-packages/ipykernel_launcher.py:1: FutureWarning: The read_msgpack is deprecated and will be removed in a future version.\n",
      "It is recommended to use pyarrow for on-the-wire transmission of pandas objects.\n",
      "  \"\"\"Entry point for launching an IPython kernel.\n",
      "/home/hanliu/miniconda3/envs/clustering/lib/python3.7/site-packages/ipykernel_launcher.py:2: FutureWarning: to_msgpack is deprecated and will be removed in a future version.\n",
      "It is recommended to use pyarrow for on-the-wire transmission of pandas objects.\n",
      "  \n"
     ]
    }
   ],
   "source": [
    "total_enrichment = pd.concat([pd.read_msgpack(p) for p in pathlib.Path(temp_dir).glob('*msg')])\n",
    "total_enrichment.to_msgpack('PairwiseMotifEnrichment.msg')"
   ]
  },
  {
   "cell_type": "code",
   "execution_count": 9,
   "metadata": {
    "ExecuteTime": {
     "end_time": "2020-02-26T05:59:29.905420Z",
     "start_time": "2020-02-26T05:59:29.891754Z"
    }
   },
   "outputs": [
    {
     "data": {
      "text/html": [
       "<div>\n",
       "<style scoped>\n",
       "    .dataframe tbody tr th:only-of-type {\n",
       "        vertical-align: middle;\n",
       "    }\n",
       "\n",
       "    .dataframe tbody tr th {\n",
       "        vertical-align: top;\n",
       "    }\n",
       "\n",
       "    .dataframe thead th {\n",
       "        text-align: right;\n",
       "    }\n",
       "</style>\n",
       "<table border=\"1\" class=\"dataframe\">\n",
       "  <thead>\n",
       "    <tr style=\"text-align: right;\">\n",
       "      <th></th>\n",
       "      <th>oddsratio</th>\n",
       "      <th>p_value</th>\n",
       "      <th>adj_p</th>\n",
       "      <th>-lgp</th>\n",
       "      <th>left_hit</th>\n",
       "      <th>left_no_hit</th>\n",
       "      <th>right_hit</th>\n",
       "      <th>right_no_hit</th>\n",
       "      <th>left_hit_rate</th>\n",
       "      <th>right_hit_rate</th>\n",
       "      <th>ClusterA</th>\n",
       "      <th>ClusterB</th>\n",
       "    </tr>\n",
       "  </thead>\n",
       "  <tbody>\n",
       "    <tr>\n",
       "      <th>MA0002.2</th>\n",
       "      <td>0.847514</td>\n",
       "      <td>2.531116e-16</td>\n",
       "      <td>8.348038e-16</td>\n",
       "      <td>15.078416</td>\n",
       "      <td>5680.0</td>\n",
       "      <td>94320.0</td>\n",
       "      <td>4898.0</td>\n",
       "      <td>68932.0</td>\n",
       "      <td>0.05680</td>\n",
       "      <td>0.066342</td>\n",
       "      <td>Gfra1_Gfra1</td>\n",
       "      <td>CA1_Ak5</td>\n",
       "    </tr>\n",
       "    <tr>\n",
       "      <th>MA0003.4</th>\n",
       "      <td>0.847453</td>\n",
       "      <td>1.631131e-04</td>\n",
       "      <td>3.521871e-04</td>\n",
       "      <td>3.453227</td>\n",
       "      <td>1141.0</td>\n",
       "      <td>98859.0</td>\n",
       "      <td>992.0</td>\n",
       "      <td>72838.0</td>\n",
       "      <td>0.01141</td>\n",
       "      <td>0.013436</td>\n",
       "      <td>Gfra1_Gfra1</td>\n",
       "      <td>CA1_Ak5</td>\n",
       "    </tr>\n",
       "    <tr>\n",
       "      <th>MA0017.2</th>\n",
       "      <td>1.380610</td>\n",
       "      <td>5.177632e-12</td>\n",
       "      <td>1.590905e-11</td>\n",
       "      <td>10.798356</td>\n",
       "      <td>1295.0</td>\n",
       "      <td>98705.0</td>\n",
       "      <td>695.0</td>\n",
       "      <td>73135.0</td>\n",
       "      <td>0.01295</td>\n",
       "      <td>0.009414</td>\n",
       "      <td>Gfra1_Gfra1</td>\n",
       "      <td>CA1_Ak5</td>\n",
       "    </tr>\n",
       "    <tr>\n",
       "      <th>MA0025.2</th>\n",
       "      <td>2.054668</td>\n",
       "      <td>3.884153e-128</td>\n",
       "      <td>6.649299e-127</td>\n",
       "      <td>126.177224</td>\n",
       "      <td>3908.0</td>\n",
       "      <td>96092.0</td>\n",
       "      <td>1433.0</td>\n",
       "      <td>72397.0</td>\n",
       "      <td>0.03908</td>\n",
       "      <td>0.019409</td>\n",
       "      <td>Gfra1_Gfra1</td>\n",
       "      <td>CA1_Ak5</td>\n",
       "    </tr>\n",
       "    <tr>\n",
       "      <th>MA0027.2</th>\n",
       "      <td>0.717857</td>\n",
       "      <td>6.434664e-54</td>\n",
       "      <td>4.448580e-53</td>\n",
       "      <td>52.351779</td>\n",
       "      <td>4598.0</td>\n",
       "      <td>95402.0</td>\n",
       "      <td>4645.0</td>\n",
       "      <td>69185.0</td>\n",
       "      <td>0.04598</td>\n",
       "      <td>0.062915</td>\n",
       "      <td>Gfra1_Gfra1</td>\n",
       "      <td>CA1_Ak5</td>\n",
       "    </tr>\n",
       "  </tbody>\n",
       "</table>\n",
       "</div>"
      ],
      "text/plain": [
       "          oddsratio        p_value          adj_p        -lgp  left_hit  \\\n",
       "MA0002.2   0.847514   2.531116e-16   8.348038e-16   15.078416    5680.0   \n",
       "MA0003.4   0.847453   1.631131e-04   3.521871e-04    3.453227    1141.0   \n",
       "MA0017.2   1.380610   5.177632e-12   1.590905e-11   10.798356    1295.0   \n",
       "MA0025.2   2.054668  3.884153e-128  6.649299e-127  126.177224    3908.0   \n",
       "MA0027.2   0.717857   6.434664e-54   4.448580e-53   52.351779    4598.0   \n",
       "\n",
       "          left_no_hit  right_hit  right_no_hit  left_hit_rate  right_hit_rate  \\\n",
       "MA0002.2      94320.0     4898.0       68932.0        0.05680        0.066342   \n",
       "MA0003.4      98859.0      992.0       72838.0        0.01141        0.013436   \n",
       "MA0017.2      98705.0      695.0       73135.0        0.01295        0.009414   \n",
       "MA0025.2      96092.0     1433.0       72397.0        0.03908        0.019409   \n",
       "MA0027.2      95402.0     4645.0       69185.0        0.04598        0.062915   \n",
       "\n",
       "             ClusterA ClusterB  \n",
       "MA0002.2  Gfra1_Gfra1  CA1_Ak5  \n",
       "MA0003.4  Gfra1_Gfra1  CA1_Ak5  \n",
       "MA0017.2  Gfra1_Gfra1  CA1_Ak5  \n",
       "MA0025.2  Gfra1_Gfra1  CA1_Ak5  \n",
       "MA0027.2  Gfra1_Gfra1  CA1_Ak5  "
      ]
     },
     "execution_count": 9,
     "metadata": {},
     "output_type": "execute_result"
    }
   ],
   "source": [
    "total_enrichment.head()"
   ]
  },
  {
   "cell_type": "code",
   "execution_count": null,
   "metadata": {},
   "outputs": [],
   "source": []
  },
  {
   "cell_type": "code",
   "execution_count": null,
   "metadata": {},
   "outputs": [],
   "source": []
  },
  {
   "cell_type": "code",
   "execution_count": null,
   "metadata": {},
   "outputs": [],
   "source": []
  },
  {
   "cell_type": "code",
   "execution_count": null,
   "metadata": {},
   "outputs": [],
   "source": []
  },
  {
   "cell_type": "code",
   "execution_count": null,
   "metadata": {},
   "outputs": [],
   "source": []
  },
  {
   "cell_type": "code",
   "execution_count": null,
   "metadata": {},
   "outputs": [],
   "source": []
  },
  {
   "cell_type": "code",
   "execution_count": null,
   "metadata": {},
   "outputs": [],
   "source": []
  },
  {
   "cell_type": "code",
   "execution_count": null,
   "metadata": {},
   "outputs": [],
   "source": []
  },
  {
   "cell_type": "code",
   "execution_count": null,
   "metadata": {},
   "outputs": [],
   "source": []
  },
  {
   "cell_type": "code",
   "execution_count": null,
   "metadata": {},
   "outputs": [],
   "source": []
  },
  {
   "cell_type": "code",
   "execution_count": null,
   "metadata": {},
   "outputs": [],
   "source": []
  },
  {
   "cell_type": "code",
   "execution_count": null,
   "metadata": {},
   "outputs": [],
   "source": []
  },
  {
   "cell_type": "code",
   "execution_count": null,
   "metadata": {},
   "outputs": [],
   "source": []
  },
  {
   "cell_type": "code",
   "execution_count": null,
   "metadata": {},
   "outputs": [],
   "source": []
  },
  {
   "cell_type": "code",
   "execution_count": null,
   "metadata": {},
   "outputs": [],
   "source": []
  },
  {
   "cell_type": "code",
   "execution_count": null,
   "metadata": {},
   "outputs": [],
   "source": []
  }
 ],
 "metadata": {
  "hide_input": false,
  "kernelspec": {
   "display_name": "Python 3",
   "language": "python",
   "name": "python3"
  },
  "language_info": {
   "codemirror_mode": {
    "name": "ipython",
    "version": 3
   },
   "file_extension": ".py",
   "mimetype": "text/x-python",
   "name": "python",
   "nbconvert_exporter": "python",
   "pygments_lexer": "ipython3",
   "version": "3.7.3"
  },
  "toc": {
   "base_numbering": 1,
   "nav_menu": {},
   "number_sections": true,
   "sideBar": true,
   "skip_h1_title": true,
   "title_cell": "Table of Contents",
   "title_sidebar": "Contents",
   "toc_cell": false,
   "toc_position": {},
   "toc_section_display": true,
   "toc_window_display": true
  }
 },
 "nbformat": 4,
 "nbformat_minor": 2
}
