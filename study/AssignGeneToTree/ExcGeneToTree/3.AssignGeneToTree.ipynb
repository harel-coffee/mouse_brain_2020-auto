{
 "cells": [
  {
   "cell_type": "code",
   "execution_count": 2,
   "metadata": {
    "ExecuteTime": {
     "end_time": "2020-02-19T02:44:29.373705Z",
     "start_time": "2020-02-19T02:44:29.017907Z"
    },
    "papermill": {
     "duration": 0.374786,
     "end_time": "2020-01-27T23:41:52.695240",
     "exception": false,
     "start_time": "2020-01-27T23:41:52.320454",
     "status": "completed"
    },
    "tags": []
   },
   "outputs": [],
   "source": [
    "import joblib\n",
    "import matplotlib.pyplot as plt\n",
    "import pandas as pd\n",
    "import seaborn as sns\n",
    "from concurrent.futures import ProcessPoolExecutor, as_completed"
   ]
  },
  {
   "cell_type": "code",
   "execution_count": 3,
   "metadata": {
    "ExecuteTime": {
     "end_time": "2020-02-19T02:44:29.377179Z",
     "start_time": "2020-02-19T02:44:29.375191Z"
    },
    "papermill": {
     "duration": 0.009949,
     "end_time": "2020-01-27T23:41:52.711842",
     "exception": false,
     "start_time": "2020-01-27T23:41:52.701893",
     "status": "completed"
    },
    "tags": []
   },
   "outputs": [],
   "source": [
    "cpu = 40"
   ]
  },
  {
   "cell_type": "code",
   "execution_count": null,
   "metadata": {},
   "outputs": [],
   "source": []
  },
  {
   "cell_type": "code",
   "execution_count": 4,
   "metadata": {
    "ExecuteTime": {
     "end_time": "2020-02-19T02:44:30.540881Z",
     "start_time": "2020-02-19T02:44:30.536051Z"
    },
    "papermill": {
     "duration": 0.012168,
     "end_time": "2020-01-27T23:41:52.728879",
     "exception": false,
     "start_time": "2020-01-27T23:41:52.716711",
     "status": "completed"
    },
    "tags": []
   },
   "outputs": [],
   "source": [
    "def calculate_node_portion(sub_df):\n",
    "    nodes_records = {}\n",
    "    for k, v in node_cluster_dict.items():\n",
    "        left = v['left']\n",
    "        right = v['right']\n",
    "\n",
    "        # left hypo, right hyper\n",
    "        judge_from_left = sub_df['cluster_from'].apply(lambda i: i in left)\n",
    "        judge_to_right = sub_df['cluster_to'].apply(lambda i: i in right)\n",
    "\n",
    "        # right hypo, left hyper\n",
    "        judge_from_right = sub_df['cluster_from'].apply(lambda i: i in right)\n",
    "        judge_to_left = sub_df['cluster_to'].apply(lambda i: i in left)\n",
    "\n",
    "        # this two cancel each other, use the remaining abs as real hits\n",
    "        # positive means left hypo, negative means right hypo\n",
    "        total = (judge_from_left & judge_to_right).sum() -\\\n",
    "                (judge_from_right & judge_to_left).sum()\n",
    "        nodes_records[k] = total\n",
    "    nodes_records = pd.Series(nodes_records) / node_possible_count\n",
    "    return nodes_records"
   ]
  },
  {
   "cell_type": "code",
   "execution_count": 5,
   "metadata": {
    "ExecuteTime": {
     "end_time": "2020-02-19T02:44:35.124613Z",
     "start_time": "2020-02-19T02:44:31.670958Z"
    },
    "papermill": {
     "duration": 0.381645,
     "end_time": "2020-01-27T23:41:53.115377",
     "exception": false,
     "start_time": "2020-01-27T23:41:52.733732",
     "status": "completed"
    },
    "tags": []
   },
   "outputs": [
    {
     "name": "stderr",
     "output_type": "stream",
     "text": [
      "/home/hanliu/miniconda3/envs/clustering/lib/python3.7/site-packages/IPython/core/interactiveshell.py:3326: FutureWarning: The read_msgpack is deprecated and will be removed in a future version.\n",
      "It is recommended to use pyarrow for on-the-wire transmission of pandas objects.\n",
      "  exec(code_obj, self.user_global_ns, self.user_ns)\n"
     ]
    }
   ],
   "source": [
    "node_cluster_dict = joblib.load(\n",
    "    '/home/hanliu/project/mouse_rostral_brain/study/AssignGeneToTree/RTree/Exc.non_singleton_node_dict.lib'\n",
    ")\n",
    "related_dmg = pd.read_msgpack('RelatedDMG.msg')\n",
    "\n",
    "gene_meta = pd.read_csv(\n",
    "    '/home/hanliu/ref/mouse/gencode/vm22/gencode.vM22.annotation.gene.flat.tsv.gz',\n",
    "    sep='\\t',\n",
    "    index_col='gene_id')\n",
    "gene_name_to_id = {v: k for k, v in gene_meta['gene_name'].items()}"
   ]
  },
  {
   "cell_type": "code",
   "execution_count": 6,
   "metadata": {
    "ExecuteTime": {
     "end_time": "2020-02-19T02:44:35.129533Z",
     "start_time": "2020-02-19T02:44:35.126092Z"
    },
    "papermill": {
     "duration": 0.011486,
     "end_time": "2020-01-27T23:41:53.133286",
     "exception": false,
     "start_time": "2020-01-27T23:41:53.121800",
     "status": "completed"
    },
    "tags": []
   },
   "outputs": [],
   "source": [
    "node_possible_count = {}\n",
    "for node, sub_dict in node_cluster_dict.items():\n",
    "    possible_pairs = len(sub_dict['left']) * len(sub_dict['right'])\n",
    "    node_possible_count[node] = possible_pairs\n",
    "node_possible_count = pd.Series(node_possible_count)"
   ]
  },
  {
   "cell_type": "code",
   "execution_count": null,
   "metadata": {},
   "outputs": [],
   "source": []
  },
  {
   "cell_type": "code",
   "execution_count": 7,
   "metadata": {
    "ExecuteTime": {
     "end_time": "2020-02-19T02:46:19.758928Z",
     "start_time": "2020-02-19T02:44:35.130856Z"
    },
    "papermill": {
     "duration": 22.203033,
     "end_time": "2020-01-27T23:42:15.341409",
     "exception": false,
     "start_time": "2020-01-27T23:41:53.138376",
     "status": "completed"
    },
    "tags": []
   },
   "outputs": [],
   "source": [
    "total_result = {}\n",
    "with ProcessPoolExecutor(cpu) as executor:\n",
    "    futures = {}\n",
    "    for gene, sub_df in related_dmg.groupby('gene_id'):\n",
    "        future = executor.submit(calculate_node_portion, sub_df)\n",
    "        futures[future] = gene\n",
    "        \n",
    "    for future in as_completed(futures):\n",
    "        result = future.result()\n",
    "        gene = futures[future]\n",
    "        total_result[gene] = result\n",
    "total_result = pd.DataFrame(total_result)"
   ]
  },
  {
   "cell_type": "code",
   "execution_count": 11,
   "metadata": {
    "ExecuteTime": {
     "end_time": "2020-02-19T02:48:35.469864Z",
     "start_time": "2020-02-19T02:48:31.035597Z"
    }
   },
   "outputs": [],
   "source": [
    "mask_cutoff = 0.3\n",
    "\n",
    "masked_result = total_result.copy()\n",
    "masked_result[masked_result.abs() < 0.3] = 0"
   ]
  },
  {
   "cell_type": "code",
   "execution_count": 14,
   "metadata": {
    "ExecuteTime": {
     "end_time": "2020-02-19T02:49:48.819861Z",
     "start_time": "2020-02-19T02:49:44.716533Z"
    }
   },
   "outputs": [
    {
     "data": {
      "text/plain": [
       "9215"
      ]
     },
     "execution_count": 14,
     "metadata": {},
     "output_type": "execute_result"
    }
   ],
   "source": [
    "# gene that assign to at least one node\n",
    "((masked_result != 0).sum(axis=0) != 0).sum()"
   ]
  },
  {
   "cell_type": "code",
   "execution_count": 18,
   "metadata": {
    "ExecuteTime": {
     "end_time": "2020-02-19T02:50:38.929856Z",
     "start_time": "2020-02-19T02:50:34.379784Z"
    }
   },
   "outputs": [
    {
     "data": {
      "text/plain": [
       "67"
      ]
     },
     "execution_count": 18,
     "metadata": {},
     "output_type": "execute_result"
    }
   ],
   "source": [
    "# node that has at least 5 genes\n",
    "((masked_result != 0).sum(axis=1) > 5).sum()"
   ]
  },
  {
   "cell_type": "code",
   "execution_count": 50,
   "metadata": {
    "ExecuteTime": {
     "end_time": "2020-02-19T03:16:09.937610Z",
     "start_time": "2020-02-19T03:16:09.932020Z"
    }
   },
   "outputs": [
    {
     "data": {
      "text/plain": [
       "count    67.000000\n",
       "mean     -0.004664\n",
       "std       0.038178\n",
       "min      -0.312500\n",
       "25%       0.000000\n",
       "50%       0.000000\n",
       "75%       0.000000\n",
       "max       0.000000\n",
       "Name: ENSMUSG00000018040.9, dtype: float64"
      ]
     },
     "execution_count": 50,
     "metadata": {},
     "output_type": "execute_result"
    }
   ],
   "source": [
    "masked_result['ENSMUSG00000018040.9'].describe()"
   ]
  },
  {
   "cell_type": "code",
   "execution_count": 51,
   "metadata": {
    "ExecuteTime": {
     "end_time": "2020-02-19T03:16:26.176196Z",
     "start_time": "2020-02-19T03:16:22.108566Z"
    }
   },
   "outputs": [
    {
     "data": {
      "text/plain": [
       "ENSMUSG00000018040.9     128\n",
       "ENSMUSG00000006456.10    114\n",
       "ENSMUSG00000004233.14    118\n",
       "ENSMUSG00000003617.16    128\n",
       "ENSMUSG00000018651.14    112\n",
       "                        ... \n",
       "ENSMUSG00000118392.1       0\n",
       "ENSMUSG00000118361.1       0\n",
       "ENSMUSG00000118454.1       0\n",
       "ENSMUSG00000118401.1       0\n",
       "ENSMUSG00000118486.1     111\n",
       "Length: 19448, dtype: int64"
      ]
     },
     "execution_count": 51,
     "metadata": {},
     "output_type": "execute_result"
    }
   ],
   "source": [
    "masked_result.apply(lambda i: 0 if i.abs().max() == 0 else i.abs().idxmax(), axis=0)"
   ]
  },
  {
   "cell_type": "code",
   "execution_count": 22,
   "metadata": {
    "ExecuteTime": {
     "end_time": "2020-02-19T02:52:09.531837Z",
     "start_time": "2020-02-19T02:51:47.489539Z"
    },
    "papermill": {
     "duration": 2.461153,
     "end_time": "2020-01-27T23:42:17.809079",
     "exception": false,
     "start_time": "2020-01-27T23:42:15.347926",
     "status": "completed"
    },
    "scrolled": false,
    "tags": []
   },
   "outputs": [
    {
     "data": {
      "text/plain": [
       "<seaborn.matrix.ClusterGrid at 0x7f75d1b189b0>"
      ]
     },
     "execution_count": 22,
     "metadata": {},
     "output_type": "execute_result"
    },
    {
     "data": {
      "image/png": "[encoded data removed]",
      "text/plain": [
       "<Figure size 720x720 with 4 Axes>"
      ]
     },
     "metadata": {
      "needs_background": "light"
     },
     "output_type": "display_data"
    }
   ],
   "source": [
    "sns.clustermap(total_result, row_cluster=False, cmap='coolwarm')"
   ]
  },
  {
   "cell_type": "code",
   "execution_count": 23,
   "metadata": {
    "ExecuteTime": {
     "end_time": "2020-02-19T02:53:06.548548Z",
     "start_time": "2020-02-19T02:53:06.522600Z"
    },
    "papermill": {
     "duration": 0.022275,
     "end_time": "2020-01-27T23:42:17.839136",
     "exception": false,
     "start_time": "2020-01-27T23:42:17.816861",
     "status": "completed"
    },
    "tags": []
   },
   "outputs": [
    {
     "name": "stderr",
     "output_type": "stream",
     "text": [
      "/home/hanliu/miniconda3/envs/clustering/lib/python3.7/site-packages/ipykernel_launcher.py:1: FutureWarning: to_msgpack is deprecated and will be removed in a future version.\n",
      "It is recommended to use pyarrow for on-the-wire transmission of pandas objects.\n",
      "  \"\"\"Entry point for launching an IPython kernel.\n"
     ]
    }
   ],
   "source": [
    "total_result.to_msgpack('NodeGeneResults.msg')"
   ]
  },
  {
   "cell_type": "code",
   "execution_count": null,
   "metadata": {
    "papermill": {
     "duration": 0.006577,
     "end_time": "2020-01-27T23:42:17.852473",
     "exception": false,
     "start_time": "2020-01-27T23:42:17.845896",
     "status": "completed"
    },
    "scrolled": true,
    "tags": []
   },
   "outputs": [],
   "source": []
  },
  {
   "cell_type": "code",
   "execution_count": null,
   "metadata": {
    "papermill": {
     "duration": 0.006515,
     "end_time": "2020-01-27T23:42:17.865441",
     "exception": false,
     "start_time": "2020-01-27T23:42:17.858926",
     "status": "completed"
    },
    "tags": []
   },
   "outputs": [],
   "source": []
  },
  {
   "cell_type": "code",
   "execution_count": null,
   "metadata": {
    "papermill": {
     "duration": 0.006349,
     "end_time": "2020-01-27T23:42:17.878223",
     "exception": false,
     "start_time": "2020-01-27T23:42:17.871874",
     "status": "completed"
    },
    "tags": []
   },
   "outputs": [],
   "source": []
  }
 ],
 "metadata": {
  "hide_input": false,
  "kernelspec": {
   "display_name": "Python 3",
   "language": "python",
   "name": "python3"
  },
  "language_info": {
   "codemirror_mode": {
    "name": "ipython",
    "version": 3
   },
   "file_extension": ".py",
   "mimetype": "text/x-python",
   "name": "python",
   "nbconvert_exporter": "python",
   "pygments_lexer": "ipython3",
   "version": "3.7.3"
  },
  "papermill": {
   "duration": 27.14924,
   "end_time": "2020-01-27T23:42:18.391904",
   "environment_variables": {},
   "exception": null,
   "input_path": "3.AssignGeneToTree.ipynb",
   "output_path": "/home/hanliu/project/mouse_rostral_brain/study/AssignGeneToTree/ExcGeneToTree/3.AssignGeneToTree.ipynb",
   "parameters": {},
   "start_time": "2020-01-27T23:41:51.242664",
   "version": "1.0.1"
  },
  "toc": {
   "base_numbering": 1,
   "nav_menu": {},
   "number_sections": true,
   "sideBar": true,
   "skip_h1_title": true,
   "title_cell": "Table of Contents",
   "title_sidebar": "Contents",
   "toc_cell": false,
   "toc_position": {},
   "toc_section_display": true,
   "toc_window_display": true
  }
 },
 "nbformat": 4,
 "nbformat_minor": 2
}
