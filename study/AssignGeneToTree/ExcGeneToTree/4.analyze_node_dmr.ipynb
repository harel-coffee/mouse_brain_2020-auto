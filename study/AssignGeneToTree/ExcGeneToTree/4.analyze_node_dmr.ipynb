{
 "cells": [
  {
   "cell_type": "code",
   "execution_count": 31,
   "metadata": {
    "ExecuteTime": {
     "end_time": "2020-02-20T03:22:43.610451Z",
     "start_time": "2020-02-20T03:22:43.607215Z"
    }
   },
   "outputs": [],
   "source": [
    "import joblib\n",
    "import xarray as xr\n",
    "import pandas as pd\n",
    "import anndata\n",
    "import numpy as np\n",
    "import seaborn as sns\n",
    "from scipy.sparse import csr_matrix, vstack\n",
    "import matplotlib.pyplot as plt"
   ]
  },
  {
   "cell_type": "markdown",
   "metadata": {},
   "source": [
    "## Load Data"
   ]
  },
  {
   "cell_type": "markdown",
   "metadata": {},
   "source": [
    "### Cell type phylogeny"
   ]
  },
  {
   "cell_type": "code",
   "execution_count": 2,
   "metadata": {
    "ExecuteTime": {
     "end_time": "2020-02-20T03:11:33.532264Z",
     "start_time": "2020-02-20T03:11:33.519531Z"
    }
   },
   "outputs": [],
   "source": [
    "node_cluster_dict = joblib.load(\n",
    "    '/home/hanliu/project/mouse_rostral_brain/study/AssignGeneToTree/RTree/Exc.non_singleton_node_dict.lib'\n",
    ")\n",
    "\n",
    "cluster_dendro = joblib.load(\n",
    "    '/home/hanliu/project/mouse_rostral_brain/study/AssignGeneToTree/RTree/Exc.dendrogram.lib'\n",
    ")\n",
    "cluster_linkage = pd.read_csv(\n",
    "    '/home/hanliu/project/mouse_rostral_brain/study/AssignGeneToTree/RTree/Exc.linkage.csv', index_col=0).values\n",
    "cluster_linkage_order = pd.read_csv(\n",
    "    '/home/hanliu/project/mouse_rostral_brain/study/AssignGeneToTree/RTree/Exc.linkage.orders.txt', \n",
    "    index_col=0, header=None\n",
    ").index\n",
    "\n",
    "cluster_linkage_order = [i.replace(' ', '_') for i in cluster_linkage_order]\n",
    "name_map = {i.replace('_', '.').replace('-', '.'):i for i in cluster_linkage_order}\n",
    "cluster_dendro['ivl'] = [name_map[i] for i in cluster_dendro['ivl']]"
   ]
  },
  {
   "cell_type": "markdown",
   "metadata": {},
   "source": [
    "### Gene\n",
    "\n",
    "#### DMG"
   ]
  },
  {
   "cell_type": "code",
   "execution_count": 3,
   "metadata": {
    "ExecuteTime": {
     "end_time": "2020-02-20T03:11:36.984581Z",
     "start_time": "2020-02-20T03:11:33.533742Z"
    }
   },
   "outputs": [
    {
     "name": "stderr",
     "output_type": "stream",
     "text": [
      "/home/hanliu/miniconda3/envs/clustering/lib/python3.7/site-packages/IPython/core/interactiveshell.py:3326: FutureWarning: The read_msgpack is deprecated and will be removed in a future version.\n",
      "It is recommended to use pyarrow for on-the-wire transmission of pandas objects.\n",
      "  exec(code_obj, self.user_global_ns, self.user_ns)\n"
     ]
    }
   ],
   "source": [
    "related_dmg = pd.read_msgpack('RelatedDMG.msg')"
   ]
  },
  {
   "cell_type": "markdown",
   "metadata": {},
   "source": [
    "#### Gene meta"
   ]
  },
  {
   "cell_type": "code",
   "execution_count": 4,
   "metadata": {
    "ExecuteTime": {
     "end_time": "2020-02-20T03:11:37.230938Z",
     "start_time": "2020-02-20T03:11:36.989081Z"
    }
   },
   "outputs": [],
   "source": [
    "gene_meta = pd.read_csv(\n",
    "    '/home/hanliu/ref/mouse/gencode/vm22/gencode.vM22.annotation.gene.flat.tsv.gz',\n",
    "    sep='\\t',\n",
    "    index_col='gene_id')\n",
    "gene_name_to_id = {v: k for k, v in gene_meta['gene_name'].items()}"
   ]
  },
  {
   "cell_type": "markdown",
   "metadata": {},
   "source": [
    "#### Subtype gene rate"
   ]
  },
  {
   "cell_type": "code",
   "execution_count": 12,
   "metadata": {
    "ExecuteTime": {
     "end_time": "2020-02-20T03:13:29.577570Z",
     "start_time": "2020-02-20T03:13:29.371840Z"
    }
   },
   "outputs": [
    {
     "data": {
      "text/html": [
       "<div>\n",
       "<style scoped>\n",
       "    .dataframe tbody tr th:only-of-type {\n",
       "        vertical-align: middle;\n",
       "    }\n",
       "\n",
       "    .dataframe tbody tr th {\n",
       "        vertical-align: top;\n",
       "    }\n",
       "\n",
       "    .dataframe thead th {\n",
       "        text-align: right;\n",
       "    }\n",
       "</style>\n",
       "<table border=\"1\" class=\"dataframe\">\n",
       "  <thead>\n",
       "    <tr style=\"text-align: right;\">\n",
       "      <th>SubType</th>\n",
       "      <th>MGE-Sst_Rxra</th>\n",
       "      <th>CA3_Cadm2</th>\n",
       "      <th>CA1_Chrm3</th>\n",
       "      <th>CA3-St18_Tead1</th>\n",
       "      <th>Unc5c_Unc5c</th>\n",
       "      <th>Gfra1_Gfra1</th>\n",
       "      <th>ODC_odc-small</th>\n",
       "      <th>PC_pc-all</th>\n",
       "      <th>ODC_odc-large</th>\n",
       "      <th>ANP_anp-dg</th>\n",
       "      <th>...</th>\n",
       "      <th>D1L-PAL_Plcxd3</th>\n",
       "      <th>PAL-Inh_Onecut2</th>\n",
       "      <th>LSX-Inh_Foxp2</th>\n",
       "      <th>LSX-Inh_Enox1</th>\n",
       "      <th>MSN-D1_Outlier</th>\n",
       "      <th>LSX-Inh_Dock10</th>\n",
       "      <th>LSX-Inh_Nxph1</th>\n",
       "      <th>LSX-Inh_Zeb2</th>\n",
       "      <th>LSX-Inh_Lats2</th>\n",
       "      <th>PT-L5_Outlier</th>\n",
       "    </tr>\n",
       "    <tr>\n",
       "      <th>geneslop2k</th>\n",
       "      <th></th>\n",
       "      <th></th>\n",
       "      <th></th>\n",
       "      <th></th>\n",
       "      <th></th>\n",
       "      <th></th>\n",
       "      <th></th>\n",
       "      <th></th>\n",
       "      <th></th>\n",
       "      <th></th>\n",
       "      <th></th>\n",
       "      <th></th>\n",
       "      <th></th>\n",
       "      <th></th>\n",
       "      <th></th>\n",
       "      <th></th>\n",
       "      <th></th>\n",
       "      <th></th>\n",
       "      <th></th>\n",
       "      <th></th>\n",
       "      <th></th>\n",
       "    </tr>\n",
       "  </thead>\n",
       "  <tbody>\n",
       "    <tr>\n",
       "      <th>ENSMUSG00000102693.1</th>\n",
       "      <td>0.036028</td>\n",
       "      <td>0.033156</td>\n",
       "      <td>0.023127</td>\n",
       "      <td>0.027134</td>\n",
       "      <td>0.024149</td>\n",
       "      <td>0.030705</td>\n",
       "      <td>0.007401</td>\n",
       "      <td>0.004408</td>\n",
       "      <td>0.006504</td>\n",
       "      <td>0.005405</td>\n",
       "      <td>...</td>\n",
       "      <td>0.011507</td>\n",
       "      <td>0.042900</td>\n",
       "      <td>0.028670</td>\n",
       "      <td>0.025057</td>\n",
       "      <td>0.026316</td>\n",
       "      <td>0.022981</td>\n",
       "      <td>0.022370</td>\n",
       "      <td>0.019700</td>\n",
       "      <td>0.018092</td>\n",
       "      <td>0.018018</td>\n",
       "    </tr>\n",
       "    <tr>\n",
       "      <th>ENSMUSG00000064842.1</th>\n",
       "      <td>0.043546</td>\n",
       "      <td>0.029851</td>\n",
       "      <td>0.024722</td>\n",
       "      <td>0.027768</td>\n",
       "      <td>0.030352</td>\n",
       "      <td>0.039891</td>\n",
       "      <td>0.009691</td>\n",
       "      <td>0.004859</td>\n",
       "      <td>0.009342</td>\n",
       "      <td>0.006471</td>\n",
       "      <td>...</td>\n",
       "      <td>0.014913</td>\n",
       "      <td>0.049733</td>\n",
       "      <td>0.032969</td>\n",
       "      <td>0.029144</td>\n",
       "      <td>NaN</td>\n",
       "      <td>0.028612</td>\n",
       "      <td>0.030037</td>\n",
       "      <td>0.026626</td>\n",
       "      <td>0.031396</td>\n",
       "      <td>0.000000</td>\n",
       "    </tr>\n",
       "    <tr>\n",
       "      <th>ENSMUSG00000051951.5</th>\n",
       "      <td>0.011518</td>\n",
       "      <td>0.009630</td>\n",
       "      <td>0.008233</td>\n",
       "      <td>0.017092</td>\n",
       "      <td>0.011801</td>\n",
       "      <td>0.014484</td>\n",
       "      <td>0.018628</td>\n",
       "      <td>0.004790</td>\n",
       "      <td>0.015895</td>\n",
       "      <td>0.005185</td>\n",
       "      <td>...</td>\n",
       "      <td>0.012604</td>\n",
       "      <td>0.023654</td>\n",
       "      <td>0.026305</td>\n",
       "      <td>0.021451</td>\n",
       "      <td>0.013525</td>\n",
       "      <td>0.024743</td>\n",
       "      <td>0.022012</td>\n",
       "      <td>0.025300</td>\n",
       "      <td>0.021889</td>\n",
       "      <td>0.022814</td>\n",
       "    </tr>\n",
       "    <tr>\n",
       "      <th>ENSMUSG00000102851.1</th>\n",
       "      <td>0.012793</td>\n",
       "      <td>0.008696</td>\n",
       "      <td>0.008266</td>\n",
       "      <td>0.013822</td>\n",
       "      <td>0.010621</td>\n",
       "      <td>0.012788</td>\n",
       "      <td>0.013043</td>\n",
       "      <td>0.005251</td>\n",
       "      <td>0.013161</td>\n",
       "      <td>0.004871</td>\n",
       "      <td>...</td>\n",
       "      <td>0.012873</td>\n",
       "      <td>0.025467</td>\n",
       "      <td>0.030113</td>\n",
       "      <td>0.022554</td>\n",
       "      <td>0.000000</td>\n",
       "      <td>0.024056</td>\n",
       "      <td>0.025327</td>\n",
       "      <td>0.024327</td>\n",
       "      <td>0.015444</td>\n",
       "      <td>NaN</td>\n",
       "    </tr>\n",
       "    <tr>\n",
       "      <th>ENSMUSG00000103377.1</th>\n",
       "      <td>0.008664</td>\n",
       "      <td>0.009502</td>\n",
       "      <td>0.009479</td>\n",
       "      <td>0.024804</td>\n",
       "      <td>0.010696</td>\n",
       "      <td>0.016256</td>\n",
       "      <td>0.049207</td>\n",
       "      <td>0.004797</td>\n",
       "      <td>0.038580</td>\n",
       "      <td>0.005653</td>\n",
       "      <td>...</td>\n",
       "      <td>0.014659</td>\n",
       "      <td>0.025282</td>\n",
       "      <td>0.034705</td>\n",
       "      <td>0.026059</td>\n",
       "      <td>0.000000</td>\n",
       "      <td>0.032258</td>\n",
       "      <td>0.030009</td>\n",
       "      <td>0.032695</td>\n",
       "      <td>0.029836</td>\n",
       "      <td>0.015038</td>\n",
       "    </tr>\n",
       "  </tbody>\n",
       "</table>\n",
       "<p>5 rows × 169 columns</p>\n",
       "</div>"
      ],
      "text/plain": [
       "SubType               MGE-Sst_Rxra  CA3_Cadm2  CA1_Chrm3  CA3-St18_Tead1  \\\n",
       "geneslop2k                                                                 \n",
       "ENSMUSG00000102693.1      0.036028   0.033156   0.023127        0.027134   \n",
       "ENSMUSG00000064842.1      0.043546   0.029851   0.024722        0.027768   \n",
       "ENSMUSG00000051951.5      0.011518   0.009630   0.008233        0.017092   \n",
       "ENSMUSG00000102851.1      0.012793   0.008696   0.008266        0.013822   \n",
       "ENSMUSG00000103377.1      0.008664   0.009502   0.009479        0.024804   \n",
       "\n",
       "SubType               Unc5c_Unc5c  Gfra1_Gfra1  ODC_odc-small  PC_pc-all  \\\n",
       "geneslop2k                                                                 \n",
       "ENSMUSG00000102693.1     0.024149     0.030705       0.007401   0.004408   \n",
       "ENSMUSG00000064842.1     0.030352     0.039891       0.009691   0.004859   \n",
       "ENSMUSG00000051951.5     0.011801     0.014484       0.018628   0.004790   \n",
       "ENSMUSG00000102851.1     0.010621     0.012788       0.013043   0.005251   \n",
       "ENSMUSG00000103377.1     0.010696     0.016256       0.049207   0.004797   \n",
       "\n",
       "SubType               ODC_odc-large  ANP_anp-dg  ...  D1L-PAL_Plcxd3  \\\n",
       "geneslop2k                                       ...                   \n",
       "ENSMUSG00000102693.1       0.006504    0.005405  ...        0.011507   \n",
       "ENSMUSG00000064842.1       0.009342    0.006471  ...        0.014913   \n",
       "ENSMUSG00000051951.5       0.015895    0.005185  ...        0.012604   \n",
       "ENSMUSG00000102851.1       0.013161    0.004871  ...        0.012873   \n",
       "ENSMUSG00000103377.1       0.038580    0.005653  ...        0.014659   \n",
       "\n",
       "SubType               PAL-Inh_Onecut2  LSX-Inh_Foxp2  LSX-Inh_Enox1  \\\n",
       "geneslop2k                                                            \n",
       "ENSMUSG00000102693.1         0.042900       0.028670       0.025057   \n",
       "ENSMUSG00000064842.1         0.049733       0.032969       0.029144   \n",
       "ENSMUSG00000051951.5         0.023654       0.026305       0.021451   \n",
       "ENSMUSG00000102851.1         0.025467       0.030113       0.022554   \n",
       "ENSMUSG00000103377.1         0.025282       0.034705       0.026059   \n",
       "\n",
       "SubType               MSN-D1_Outlier  LSX-Inh_Dock10  LSX-Inh_Nxph1  \\\n",
       "geneslop2k                                                            \n",
       "ENSMUSG00000102693.1        0.026316        0.022981       0.022370   \n",
       "ENSMUSG00000064842.1             NaN        0.028612       0.030037   \n",
       "ENSMUSG00000051951.5        0.013525        0.024743       0.022012   \n",
       "ENSMUSG00000102851.1        0.000000        0.024056       0.025327   \n",
       "ENSMUSG00000103377.1        0.000000        0.032258       0.030009   \n",
       "\n",
       "SubType               LSX-Inh_Zeb2  LSX-Inh_Lats2  PT-L5_Outlier  \n",
       "geneslop2k                                                        \n",
       "ENSMUSG00000102693.1      0.019700       0.018092       0.018018  \n",
       "ENSMUSG00000064842.1      0.026626       0.031396       0.000000  \n",
       "ENSMUSG00000051951.5      0.025300       0.021889       0.022814  \n",
       "ENSMUSG00000102851.1      0.024327       0.015444            NaN  \n",
       "ENSMUSG00000103377.1      0.032695       0.029836       0.015038  \n",
       "\n",
       "[5 rows x 169 columns]"
      ]
     },
     "execution_count": 12,
     "metadata": {},
     "output_type": "execute_result"
    }
   ],
   "source": [
    "subtype_rate = xr.open_dataset(\n",
    "    '/home/hanliu/project/mouse_rostral_brain/study/mCClustermCLevel/SubType.geneslop2k.mcds'\n",
    ")['gene_cluster_da_rate'].sel(mc_type='CHN').to_pandas().T\n",
    "subtype_rate.columns = subtype_rate.columns.str.replace(' ', '_')\n",
    "subtype_rate.head()"
   ]
  },
  {
   "cell_type": "markdown",
   "metadata": {
    "ExecuteTime": {
     "end_time": "2020-02-19T04:59:18.956603Z",
     "start_time": "2020-02-19T04:59:18.948682Z"
    }
   },
   "source": [
    "### Gene assign to node result"
   ]
  },
  {
   "cell_type": "code",
   "execution_count": 6,
   "metadata": {
    "ExecuteTime": {
     "end_time": "2020-02-20T03:11:37.495136Z",
     "start_time": "2020-02-20T03:11:37.468544Z"
    }
   },
   "outputs": [],
   "source": [
    "total_result = pd.read_msgpack('NodeGeneResults.msg')"
   ]
  },
  {
   "cell_type": "markdown",
   "metadata": {},
   "source": [
    "### DMR"
   ]
  },
  {
   "cell_type": "markdown",
   "metadata": {
    "ExecuteTime": {
     "end_time": "2020-02-19T04:47:52.469128Z",
     "start_time": "2020-02-19T04:47:52.443139Z"
    }
   },
   "source": [
    "#### DMG DMR Corr"
   ]
  },
  {
   "cell_type": "code",
   "execution_count": 7,
   "metadata": {
    "ExecuteTime": {
     "end_time": "2020-02-20T03:11:41.266216Z",
     "start_time": "2020-02-20T03:11:37.496450Z"
    }
   },
   "outputs": [],
   "source": [
    "dmr_gene_corr = pd.read_msgpack(\n",
    "    '/home/hanliu/project/mouse_rostral_brain/study/DMRGeneCorr/TotalGeneDMRCorrLoop.0.3.msg')"
   ]
  },
  {
   "cell_type": "markdown",
   "metadata": {},
   "source": [
    "#### DMR Rate"
   ]
  },
  {
   "cell_type": "code",
   "execution_count": 8,
   "metadata": {
    "ExecuteTime": {
     "end_time": "2020-02-20T03:11:55.647333Z",
     "start_time": "2020-02-20T03:11:41.267734Z"
    }
   },
   "outputs": [],
   "source": [
    "dmr_rate = pd.read_hdf(\n",
    "    '/home/hanliu/project/mouse_rostral_brain/DMR/SubType/Total/DMRInfo.h5',\n",
    "    key='Rate').loc[:, cluster_dendro['ivl']].copy()"
   ]
  },
  {
   "cell_type": "markdown",
   "metadata": {},
   "source": [
    "#### DMR Hits"
   ]
  },
  {
   "cell_type": "code",
   "execution_count": 9,
   "metadata": {
    "ExecuteTime": {
     "end_time": "2020-02-20T03:12:12.852494Z",
     "start_time": "2020-02-20T03:11:55.736403Z"
    }
   },
   "outputs": [],
   "source": [
    "hypo_hits = anndata.read_h5ad(\n",
    "    '/home/hanliu/project/mouse_rostral_brain/DMR/SubType/Total/TotalHits.HypoDMR.h5ad'\n",
    ")[:, cluster_dendro['ivl']].copy()"
   ]
  },
  {
   "cell_type": "markdown",
   "metadata": {},
   "source": [
    "## Select gene per node"
   ]
  },
  {
   "cell_type": "code",
   "execution_count": 10,
   "metadata": {
    "ExecuteTime": {
     "end_time": "2020-02-20T03:12:13.001367Z",
     "start_time": "2020-02-20T03:12:12.853866Z"
    },
    "scrolled": true
   },
   "outputs": [],
   "source": [
    "cutoff = 0.3\n",
    "\n",
    "node_dict = {}\n",
    "for node, row in total_result.iterrows():\n",
    "    node_record = total_result.loc[node]\n",
    "    left_gene = node_record[node_record < -cutoff].abs()\n",
    "    right_gene = node_record[node_record > cutoff]\n",
    "    node_dict[node] = {'left': left_gene, 'right': right_gene}\n",
    "    # print(node, left_gene.size, right_gene.size)"
   ]
  },
  {
   "cell_type": "code",
   "execution_count": 24,
   "metadata": {
    "ExecuteTime": {
     "end_time": "2020-02-20T03:15:50.677231Z",
     "start_time": "2020-02-20T03:15:50.675103Z"
    }
   },
   "outputs": [],
   "source": [
    "# sns.clustermap(subtype_rate.loc[left_gene.index, cluster_linkage_order].fillna(0.8), \n",
    "#                col_linkage=cluster_linkage, vmin=0, vmax=0.03)\n",
    "# sns.clustermap(subtype_rate.loc[right_gene.index, cluster_linkage_order].fillna(0.8), \n",
    "#                col_linkage=cluster_linkage, vmin=0, vmax=0.03)"
   ]
  },
  {
   "cell_type": "markdown",
   "metadata": {},
   "source": [
    "## Select DMR\n",
    "\n",
    "- DMR is correlated to gene\n",
    "- DMR is also relavent to the node"
   ]
  },
  {
   "cell_type": "code",
   "execution_count": 26,
   "metadata": {
    "ExecuteTime": {
     "end_time": "2020-02-20T03:16:05.536059Z",
     "start_time": "2020-02-20T03:16:05.527690Z"
    }
   },
   "outputs": [],
   "source": [
    "def get_node_relavent_dmr(node, abs_cutoff=0.3):\n",
    "    left_gene = node_dict[node]['left']\n",
    "    right_gene = node_dict[node]['right']\n",
    "\n",
    "    left_nodes = [i.replace(' ', '_') for i in node_cluster_dict[node]['left']]\n",
    "    right_nodes = [\n",
    "        i.replace(' ', '_') for i in node_cluster_dict[node]['right']\n",
    "    ]\n",
    "\n",
    "    n_left = len(left_nodes)\n",
    "    n_right = len(right_nodes)\n",
    "\n",
    "    left_dmr = dmr_gene_corr[dmr_gene_corr['Gene'].isin(\n",
    "        left_gene.index)]['DMR'].drop_duplicates()\n",
    "    right_dmr = dmr_gene_corr[dmr_gene_corr['Gene'].isin(\n",
    "        right_gene.index)]['DMR'].drop_duplicates()\n",
    "    total_node_dmr = pd.concat([left_dmr, right_dmr])\n",
    "    print(f'{node} gene', left_gene.size, right_gene.size)\n",
    "    print(f'{node} total DMR', total_node_dmr.unique().size)\n",
    "    \n",
    "    related_hits = hypo_hits[total_node_dmr.unique()].copy()\n",
    "    if len(left_nodes) > 1:\n",
    "        left_hits = related_hits[:, left_nodes].X.sum(axis=1).A1\n",
    "    else:\n",
    "        left_hits = related_hits[:, left_nodes].X\n",
    "    if len(right_nodes) > 1:\n",
    "        right_hits = related_hits[:, right_nodes].X.sum(axis=1).A1\n",
    "    else:\n",
    "        right_hits = related_hits[:, right_nodes].X\n",
    "\n",
    "    # approximate relavent score, prevent redo test: (N * (M-m) - M * (N-n)) / N * M\n",
    "    # positive score is left hypo DMR, negative score is right hypo DMR\n",
    "    dmr_relavent_score = pd.Series(\n",
    "        (left_hits * (n_right - right_hits) - right_hits *\n",
    "         (n_left - left_hits)) / (n_left * n_right),\n",
    "        index=related_hits.obs_names)\n",
    "    dmr_relavent_score.name = node\n",
    "    return dmr_relavent_score"
   ]
  },
  {
   "cell_type": "code",
   "execution_count": 38,
   "metadata": {
    "ExecuteTime": {
     "end_time": "2020-02-20T03:28:25.744345Z",
     "start_time": "2020-02-20T03:26:44.517306Z"
    }
   },
   "outputs": [
    {
     "name": "stdout",
     "output_type": "stream",
     "text": [
      "68 gene 1 6\n",
      "68 total DMR 3019\n",
      "68 related dmr 0\n"
     ]
    },
    {
     "name": "stderr",
     "output_type": "stream",
     "text": [
      "/home/hanliu/miniconda3/envs/clustering/lib/python3.7/site-packages/anndata/core/anndata.py:846: FutureWarning: In anndata v0.7+, arrays contained within an AnnData object will maintain their dimensionality. For example, prior to v0.7 `adata[0, 0].X` returned a scalar and `adata[0, :]` returned a 1d array, post v0.7 they will return two dimensional arrays. If you would like to get a one dimensional array from your AnnData object, consider using the `adata.obs_vector`, `adata.var_vector` methods or accessing the array directly.\n",
      "  warn_flatten()\n"
     ]
    },
    {
     "name": "stdout",
     "output_type": "stream",
     "text": [
      "69 gene 24 18\n",
      "69 total DMR 18525\n",
      "69 related dmr 0\n",
      "70 gene 26 14\n",
      "70 total DMR 17066\n",
      "70 related dmr 0\n",
      "71 gene 122 109\n",
      "71 total DMR 81392\n",
      "71 related dmr 0\n",
      "72 gene 45 37\n",
      "72 total DMR 39633\n",
      "72 related dmr 0\n",
      "73 gene 7 24\n",
      "73 total DMR 14083\n",
      "73 related dmr 0\n",
      "74 gene 32 30\n",
      "74 total DMR 28461\n",
      "74 related dmr 4121\n",
      "75 gene 74 119\n",
      "75 total DMR 74046\n"
     ]
    },
    {
     "name": "stderr",
     "output_type": "stream",
     "text": [
      "/home/hanliu/miniconda3/envs/clustering/lib/python3.7/site-packages/anndata/core/anndata.py:846: FutureWarning: In anndata v0.7+, arrays contained within an AnnData object will maintain their dimensionality. For example, prior to v0.7 `adata[0, 0].X` returned a scalar and `adata[0, :]` returned a 1d array, post v0.7 they will return two dimensional arrays. If you would like to get a one dimensional array from your AnnData object, consider using the `adata.obs_vector`, `adata.var_vector` methods or accessing the array directly.\n",
      "  warn_flatten()\n"
     ]
    },
    {
     "name": "stdout",
     "output_type": "stream",
     "text": [
      "75 related dmr 0\n",
      "76 gene 86 25\n",
      "76 total DMR 48126\n",
      "76 related dmr 2824\n",
      "77 gene 24 22\n",
      "77 total DMR 20802\n",
      "77 related dmr 0\n"
     ]
    },
    {
     "name": "stderr",
     "output_type": "stream",
     "text": [
      "/home/hanliu/miniconda3/envs/clustering/lib/python3.7/site-packages/anndata/core/anndata.py:846: FutureWarning: In anndata v0.7+, arrays contained within an AnnData object will maintain their dimensionality. For example, prior to v0.7 `adata[0, 0].X` returned a scalar and `adata[0, :]` returned a 1d array, post v0.7 they will return two dimensional arrays. If you would like to get a one dimensional array from your AnnData object, consider using the `adata.obs_vector`, `adata.var_vector` methods or accessing the array directly.\n",
      "  warn_flatten()\n"
     ]
    },
    {
     "name": "stdout",
     "output_type": "stream",
     "text": [
      "78 gene 73 78\n",
      "78 total DMR 68964\n",
      "78 related dmr 9361\n",
      "79 gene 57 43\n",
      "79 total DMR 36143\n",
      "79 related dmr 0\n"
     ]
    },
    {
     "name": "stderr",
     "output_type": "stream",
     "text": [
      "/home/hanliu/miniconda3/envs/clustering/lib/python3.7/site-packages/anndata/core/anndata.py:846: FutureWarning: In anndata v0.7+, arrays contained within an AnnData object will maintain their dimensionality. For example, prior to v0.7 `adata[0, 0].X` returned a scalar and `adata[0, :]` returned a 1d array, post v0.7 they will return two dimensional arrays. If you would like to get a one dimensional array from your AnnData object, consider using the `adata.obs_vector`, `adata.var_vector` methods or accessing the array directly.\n",
      "  warn_flatten()\n"
     ]
    },
    {
     "name": "stdout",
     "output_type": "stream",
     "text": [
      "80 gene 87 109\n",
      "80 total DMR 74431\n",
      "80 related dmr 0\n",
      "81 gene 151 72\n",
      "81 total DMR 77864\n",
      "81 related dmr 0\n",
      "82 gene 39 12\n",
      "82 total DMR 21527\n",
      "82 related dmr 0\n",
      "83 gene 70 135\n",
      "83 total DMR 81471\n",
      "83 related dmr 0\n",
      "84 gene 12 25\n",
      "84 total DMR 14587\n",
      "84 related dmr 0\n",
      "85 gene 80 65\n",
      "85 total DMR 59350\n",
      "85 related dmr 0\n",
      "86 gene 106 93\n",
      "86 total DMR 67514\n",
      "86 related dmr 0\n",
      "87 gene 103 130\n",
      "87 total DMR 87849\n",
      "87 related dmr 0\n",
      "88 gene 204 278\n",
      "88 total DMR 154931\n",
      "88 related dmr 16260\n",
      "89 gene 102 63\n",
      "89 total DMR 68518\n"
     ]
    },
    {
     "name": "stderr",
     "output_type": "stream",
     "text": [
      "/home/hanliu/miniconda3/envs/clustering/lib/python3.7/site-packages/anndata/core/anndata.py:846: FutureWarning: In anndata v0.7+, arrays contained within an AnnData object will maintain their dimensionality. For example, prior to v0.7 `adata[0, 0].X` returned a scalar and `adata[0, :]` returned a 1d array, post v0.7 they will return two dimensional arrays. If you would like to get a one dimensional array from your AnnData object, consider using the `adata.obs_vector`, `adata.var_vector` methods or accessing the array directly.\n",
      "  warn_flatten()\n"
     ]
    },
    {
     "name": "stdout",
     "output_type": "stream",
     "text": [
      "89 related dmr 10301\n",
      "90 gene 11 44\n",
      "90 total DMR 23837\n",
      "90 related dmr 0\n"
     ]
    },
    {
     "name": "stderr",
     "output_type": "stream",
     "text": [
      "/home/hanliu/miniconda3/envs/clustering/lib/python3.7/site-packages/anndata/core/anndata.py:846: FutureWarning: In anndata v0.7+, arrays contained within an AnnData object will maintain their dimensionality. For example, prior to v0.7 `adata[0, 0].X` returned a scalar and `adata[0, :]` returned a 1d array, post v0.7 they will return two dimensional arrays. If you would like to get a one dimensional array from your AnnData object, consider using the `adata.obs_vector`, `adata.var_vector` methods or accessing the array directly.\n",
      "  warn_flatten()\n"
     ]
    },
    {
     "name": "stdout",
     "output_type": "stream",
     "text": [
      "91 gene 370 118\n",
      "91 total DMR 156390\n",
      "91 related dmr 13447\n",
      "92 gene 254 262\n",
      "92 total DMR 169380\n",
      "92 related dmr 35707\n",
      "93 gene 387 157\n",
      "93 total DMR 165796\n"
     ]
    },
    {
     "name": "stderr",
     "output_type": "stream",
     "text": [
      "/home/hanliu/miniconda3/envs/clustering/lib/python3.7/site-packages/anndata/core/anndata.py:846: FutureWarning: In anndata v0.7+, arrays contained within an AnnData object will maintain their dimensionality. For example, prior to v0.7 `adata[0, 0].X` returned a scalar and `adata[0, :]` returned a 1d array, post v0.7 they will return two dimensional arrays. If you would like to get a one dimensional array from your AnnData object, consider using the `adata.obs_vector`, `adata.var_vector` methods or accessing the array directly.\n",
      "  warn_flatten()\n"
     ]
    },
    {
     "name": "stdout",
     "output_type": "stream",
     "text": [
      "93 related dmr 23725\n",
      "94 gene 26 138\n",
      "94 total DMR 57532\n"
     ]
    },
    {
     "name": "stderr",
     "output_type": "stream",
     "text": [
      "/home/hanliu/miniconda3/envs/clustering/lib/python3.7/site-packages/anndata/core/anndata.py:846: FutureWarning: In anndata v0.7+, arrays contained within an AnnData object will maintain their dimensionality. For example, prior to v0.7 `adata[0, 0].X` returned a scalar and `adata[0, :]` returned a 1d array, post v0.7 they will return two dimensional arrays. If you would like to get a one dimensional array from your AnnData object, consider using the `adata.obs_vector`, `adata.var_vector` methods or accessing the array directly.\n",
      "  warn_flatten()\n"
     ]
    },
    {
     "name": "stdout",
     "output_type": "stream",
     "text": [
      "94 related dmr 0\n",
      "95 gene 279 434\n",
      "95 total DMR 222293\n",
      "95 related dmr 27433\n",
      "96 gene 116 68\n",
      "96 total DMR 72776\n"
     ]
    },
    {
     "name": "stderr",
     "output_type": "stream",
     "text": [
      "/home/hanliu/miniconda3/envs/clustering/lib/python3.7/site-packages/anndata/core/anndata.py:846: FutureWarning: In anndata v0.7+, arrays contained within an AnnData object will maintain their dimensionality. For example, prior to v0.7 `adata[0, 0].X` returned a scalar and `adata[0, :]` returned a 1d array, post v0.7 they will return two dimensional arrays. If you would like to get a one dimensional array from your AnnData object, consider using the `adata.obs_vector`, `adata.var_vector` methods or accessing the array directly.\n",
      "  warn_flatten()\n"
     ]
    },
    {
     "name": "stdout",
     "output_type": "stream",
     "text": [
      "96 related dmr 0\n",
      "97 gene 350 228\n",
      "97 total DMR 182374\n",
      "97 related dmr 20680\n",
      "98 gene 93 53\n",
      "98 total DMR 65915\n"
     ]
    },
    {
     "name": "stderr",
     "output_type": "stream",
     "text": [
      "/home/hanliu/miniconda3/envs/clustering/lib/python3.7/site-packages/anndata/core/anndata.py:846: FutureWarning: In anndata v0.7+, arrays contained within an AnnData object will maintain their dimensionality. For example, prior to v0.7 `adata[0, 0].X` returned a scalar and `adata[0, :]` returned a 1d array, post v0.7 they will return two dimensional arrays. If you would like to get a one dimensional array from your AnnData object, consider using the `adata.obs_vector`, `adata.var_vector` methods or accessing the array directly.\n",
      "  warn_flatten()\n"
     ]
    },
    {
     "name": "stdout",
     "output_type": "stream",
     "text": [
      "98 related dmr 0\n",
      "99 gene 389 241\n",
      "99 total DMR 168519\n",
      "99 related dmr 0\n",
      "100 gene 59 98\n",
      "100 total DMR 55513\n",
      "100 related dmr 0\n",
      "101 gene 230 252\n",
      "101 total DMR 161166\n",
      "101 related dmr 44421\n",
      "102 gene 245 119\n",
      "102 total DMR 146937\n"
     ]
    },
    {
     "name": "stderr",
     "output_type": "stream",
     "text": [
      "/home/hanliu/miniconda3/envs/clustering/lib/python3.7/site-packages/anndata/core/anndata.py:846: FutureWarning: In anndata v0.7+, arrays contained within an AnnData object will maintain their dimensionality. For example, prior to v0.7 `adata[0, 0].X` returned a scalar and `adata[0, :]` returned a 1d array, post v0.7 they will return two dimensional arrays. If you would like to get a one dimensional array from your AnnData object, consider using the `adata.obs_vector`, `adata.var_vector` methods or accessing the array directly.\n",
      "  warn_flatten()\n"
     ]
    },
    {
     "name": "stdout",
     "output_type": "stream",
     "text": [
      "102 related dmr 28561\n",
      "103 gene 283 131\n",
      "103 total DMR 149867\n"
     ]
    },
    {
     "name": "stderr",
     "output_type": "stream",
     "text": [
      "/home/hanliu/miniconda3/envs/clustering/lib/python3.7/site-packages/anndata/core/anndata.py:846: FutureWarning: In anndata v0.7+, arrays contained within an AnnData object will maintain their dimensionality. For example, prior to v0.7 `adata[0, 0].X` returned a scalar and `adata[0, :]` returned a 1d array, post v0.7 they will return two dimensional arrays. If you would like to get a one dimensional array from your AnnData object, consider using the `adata.obs_vector`, `adata.var_vector` methods or accessing the array directly.\n",
      "  warn_flatten()\n"
     ]
    },
    {
     "name": "stdout",
     "output_type": "stream",
     "text": [
      "103 related dmr 35985\n",
      "104 gene 178 448\n",
      "104 total DMR 182613\n"
     ]
    },
    {
     "name": "stderr",
     "output_type": "stream",
     "text": [
      "/home/hanliu/miniconda3/envs/clustering/lib/python3.7/site-packages/anndata/core/anndata.py:846: FutureWarning: In anndata v0.7+, arrays contained within an AnnData object will maintain their dimensionality. For example, prior to v0.7 `adata[0, 0].X` returned a scalar and `adata[0, :]` returned a 1d array, post v0.7 they will return two dimensional arrays. If you would like to get a one dimensional array from your AnnData object, consider using the `adata.obs_vector`, `adata.var_vector` methods or accessing the array directly.\n",
      "  warn_flatten()\n"
     ]
    },
    {
     "name": "stdout",
     "output_type": "stream",
     "text": [
      "104 related dmr 0\n",
      "105 gene 101 101\n",
      "105 total DMR 84524\n",
      "105 related dmr 13605\n",
      "106 gene 135 150\n",
      "106 total DMR 120189\n",
      "106 related dmr 16994\n",
      "107 gene 273 237\n",
      "107 total DMR 169494\n"
     ]
    },
    {
     "name": "stderr",
     "output_type": "stream",
     "text": [
      "/home/hanliu/miniconda3/envs/clustering/lib/python3.7/site-packages/anndata/core/anndata.py:846: FutureWarning: In anndata v0.7+, arrays contained within an AnnData object will maintain their dimensionality. For example, prior to v0.7 `adata[0, 0].X` returned a scalar and `adata[0, :]` returned a 1d array, post v0.7 they will return two dimensional arrays. If you would like to get a one dimensional array from your AnnData object, consider using the `adata.obs_vector`, `adata.var_vector` methods or accessing the array directly.\n",
      "  warn_flatten()\n"
     ]
    },
    {
     "name": "stdout",
     "output_type": "stream",
     "text": [
      "107 related dmr 55136\n",
      "108 gene 384 275\n",
      "108 total DMR 199284\n"
     ]
    },
    {
     "name": "stderr",
     "output_type": "stream",
     "text": [
      "/home/hanliu/miniconda3/envs/clustering/lib/python3.7/site-packages/anndata/core/anndata.py:846: FutureWarning: In anndata v0.7+, arrays contained within an AnnData object will maintain their dimensionality. For example, prior to v0.7 `adata[0, 0].X` returned a scalar and `adata[0, :]` returned a 1d array, post v0.7 they will return two dimensional arrays. If you would like to get a one dimensional array from your AnnData object, consider using the `adata.obs_vector`, `adata.var_vector` methods or accessing the array directly.\n",
      "  warn_flatten()\n"
     ]
    },
    {
     "name": "stdout",
     "output_type": "stream",
     "text": [
      "108 related dmr 0\n",
      "109 gene 512 376\n",
      "109 total DMR 263633\n",
      "109 related dmr 32992\n",
      "110 gene 247 580\n",
      "110 total DMR 231014\n"
     ]
    },
    {
     "name": "stderr",
     "output_type": "stream",
     "text": [
      "/home/hanliu/miniconda3/envs/clustering/lib/python3.7/site-packages/anndata/core/anndata.py:846: FutureWarning: In anndata v0.7+, arrays contained within an AnnData object will maintain their dimensionality. For example, prior to v0.7 `adata[0, 0].X` returned a scalar and `adata[0, :]` returned a 1d array, post v0.7 they will return two dimensional arrays. If you would like to get a one dimensional array from your AnnData object, consider using the `adata.obs_vector`, `adata.var_vector` methods or accessing the array directly.\n",
      "  warn_flatten()\n"
     ]
    },
    {
     "name": "stdout",
     "output_type": "stream",
     "text": [
      "110 related dmr 0\n",
      "111 gene 515 770\n",
      "111 total DMR 303253\n",
      "111 related dmr 63585\n",
      "112 gene 1658 812\n",
      "112 total DMR 492255\n"
     ]
    },
    {
     "name": "stderr",
     "output_type": "stream",
     "text": [
      "/home/hanliu/miniconda3/envs/clustering/lib/python3.7/site-packages/anndata/core/anndata.py:846: FutureWarning: In anndata v0.7+, arrays contained within an AnnData object will maintain their dimensionality. For example, prior to v0.7 `adata[0, 0].X` returned a scalar and `adata[0, :]` returned a 1d array, post v0.7 they will return two dimensional arrays. If you would like to get a one dimensional array from your AnnData object, consider using the `adata.obs_vector`, `adata.var_vector` methods or accessing the array directly.\n",
      "  warn_flatten()\n"
     ]
    },
    {
     "name": "stdout",
     "output_type": "stream",
     "text": [
      "112 related dmr 110955\n",
      "113 gene 612 528\n",
      "113 total DMR 321226\n"
     ]
    },
    {
     "name": "stderr",
     "output_type": "stream",
     "text": [
      "/home/hanliu/miniconda3/envs/clustering/lib/python3.7/site-packages/anndata/core/anndata.py:846: FutureWarning: In anndata v0.7+, arrays contained within an AnnData object will maintain their dimensionality. For example, prior to v0.7 `adata[0, 0].X` returned a scalar and `adata[0, :]` returned a 1d array, post v0.7 they will return two dimensional arrays. If you would like to get a one dimensional array from your AnnData object, consider using the `adata.obs_vector`, `adata.var_vector` methods or accessing the array directly.\n",
      "  warn_flatten()\n"
     ]
    },
    {
     "name": "stdout",
     "output_type": "stream",
     "text": [
      "113 related dmr 51437\n",
      "114 gene 718 260\n",
      "114 total DMR 278880\n"
     ]
    },
    {
     "name": "stderr",
     "output_type": "stream",
     "text": [
      "/home/hanliu/miniconda3/envs/clustering/lib/python3.7/site-packages/anndata/core/anndata.py:846: FutureWarning: In anndata v0.7+, arrays contained within an AnnData object will maintain their dimensionality. For example, prior to v0.7 `adata[0, 0].X` returned a scalar and `adata[0, :]` returned a 1d array, post v0.7 they will return two dimensional arrays. If you would like to get a one dimensional array from your AnnData object, consider using the `adata.obs_vector`, `adata.var_vector` methods or accessing the array directly.\n",
      "  warn_flatten()\n"
     ]
    },
    {
     "name": "stdout",
     "output_type": "stream",
     "text": [
      "114 related dmr 63850\n",
      "115 gene 851 684\n",
      "115 total DMR 380134\n"
     ]
    },
    {
     "name": "stderr",
     "output_type": "stream",
     "text": [
      "/home/hanliu/miniconda3/envs/clustering/lib/python3.7/site-packages/anndata/core/anndata.py:846: FutureWarning: In anndata v0.7+, arrays contained within an AnnData object will maintain their dimensionality. For example, prior to v0.7 `adata[0, 0].X` returned a scalar and `adata[0, :]` returned a 1d array, post v0.7 they will return two dimensional arrays. If you would like to get a one dimensional array from your AnnData object, consider using the `adata.obs_vector`, `adata.var_vector` methods or accessing the array directly.\n",
      "  warn_flatten()\n"
     ]
    },
    {
     "name": "stdout",
     "output_type": "stream",
     "text": [
      "115 related dmr 70924\n",
      "116 gene 548 688\n",
      "116 total DMR 321482\n",
      "116 related dmr 121167\n",
      "117 gene 375 618\n",
      "117 total DMR 261006\n",
      "117 related dmr 53226\n",
      "118 gene 1247 121\n",
      "118 total DMR 336974\n",
      "118 related dmr 94135\n",
      "119 gene 218 359\n",
      "119 total DMR 204718\n",
      "119 related dmr 49830\n",
      "120 gene 774 591\n",
      "120 total DMR 384259\n",
      "120 related dmr 98523\n",
      "121 gene 634 519\n",
      "121 total DMR 300081\n",
      "121 related dmr 86759\n",
      "122 gene 753 213\n",
      "122 total DMR 262273\n",
      "122 related dmr 79328\n",
      "123 gene 590 679\n",
      "123 total DMR 350979\n",
      "123 related dmr 101351\n",
      "124 gene 683 735\n",
      "124 total DMR 380569\n",
      "124 related dmr 123871\n",
      "125 gene 608 747\n",
      "125 total DMR 332770\n",
      "125 related dmr 80639\n",
      "126 gene 315 203\n",
      "126 total DMR 167738\n",
      "126 related dmr 47910\n",
      "127 gene 1050 343\n",
      "127 total DMR 299078\n",
      "127 related dmr 112558\n",
      "128 gene 684 936\n",
      "128 total DMR 417342\n",
      "128 related dmr 120270\n",
      "129 gene 397 592\n",
      "129 total DMR 283721\n",
      "129 related dmr 112116\n",
      "130 gene 530 257\n",
      "130 total DMR 245758\n",
      "130 related dmr 81744\n",
      "131 gene 471 525\n",
      "131 total DMR 308939\n",
      "131 related dmr 127992\n",
      "132 gene 1010 702\n",
      "132 total DMR 428264\n",
      "132 related dmr 203992\n",
      "133 gene 898 474\n",
      "133 total DMR 378416\n",
      "133 related dmr 141016\n",
      "134 gene 258 678\n",
      "134 total DMR 281389\n",
      "134 related dmr 118393\n"
     ]
    }
   ],
   "source": [
    "data_list = []\n",
    "node_list = []\n",
    "for node in node_cluster_dict.keys():\n",
    "    use_dmr = get_node_relavent_dmr(node, abs_cutoff=0)\n",
    "    use_dmr = use_dmr[use_dmr.abs() > 0.1]\n",
    "    sparse_data = csr_matrix(use_dmr.reindex(dmr_rate.index).fillna(0).values[None, :])\n",
    "    node_list.append(node)\n",
    "    data_list.append(sparse_data)\n",
    "    print(f'{node} related dmr', use_dmr.size)"
   ]
  },
  {
   "cell_type": "code",
   "execution_count": 39,
   "metadata": {
    "ExecuteTime": {
     "end_time": "2020-02-20T03:28:27.978353Z",
     "start_time": "2020-02-20T03:28:25.746276Z"
    }
   },
   "outputs": [
    {
     "name": "stderr",
     "output_type": "stream",
     "text": [
      "Transforming to str index.\n"
     ]
    }
   ],
   "source": [
    "adata = anndata.AnnData(X=vstack(data_list),\n",
    "                        obs=pd.DataFrame([], index=node_list),\n",
    "                        var=pd.DataFrame([], index=dmr_rate.index))"
   ]
  },
  {
   "cell_type": "code",
   "execution_count": 41,
   "metadata": {
    "ExecuteTime": {
     "end_time": "2020-02-20T03:29:35.536785Z",
     "start_time": "2020-02-20T03:29:32.010917Z"
    }
   },
   "outputs": [],
   "source": [
    "adata.write_h5ad('NodeDMRResults.h5ad')"
   ]
  },
  {
   "cell_type": "code",
   "execution_count": null,
   "metadata": {},
   "outputs": [],
   "source": []
  },
  {
   "cell_type": "code",
   "execution_count": null,
   "metadata": {},
   "outputs": [],
   "source": []
  },
  {
   "cell_type": "code",
   "execution_count": null,
   "metadata": {},
   "outputs": [],
   "source": []
  },
  {
   "cell_type": "code",
   "execution_count": null,
   "metadata": {},
   "outputs": [],
   "source": []
  },
  {
   "cell_type": "code",
   "execution_count": null,
   "metadata": {},
   "outputs": [],
   "source": []
  },
  {
   "cell_type": "code",
   "execution_count": null,
   "metadata": {},
   "outputs": [],
   "source": []
  },
  {
   "cell_type": "code",
   "execution_count": null,
   "metadata": {},
   "outputs": [],
   "source": []
  },
  {
   "cell_type": "code",
   "execution_count": null,
   "metadata": {},
   "outputs": [],
   "source": []
  },
  {
   "cell_type": "code",
   "execution_count": null,
   "metadata": {},
   "outputs": [],
   "source": []
  },
  {
   "cell_type": "code",
   "execution_count": null,
   "metadata": {},
   "outputs": [],
   "source": []
  },
  {
   "cell_type": "code",
   "execution_count": null,
   "metadata": {},
   "outputs": [],
   "source": []
  },
  {
   "cell_type": "code",
   "execution_count": null,
   "metadata": {},
   "outputs": [],
   "source": []
  }
 ],
 "metadata": {
  "hide_input": false,
  "kernelspec": {
   "display_name": "Python 3",
   "language": "python",
   "name": "python3"
  },
  "language_info": {
   "codemirror_mode": {
    "name": "ipython",
    "version": 3
   },
   "file_extension": ".py",
   "mimetype": "text/x-python",
   "name": "python",
   "nbconvert_exporter": "python",
   "pygments_lexer": "ipython3",
   "version": "3.7.3"
  },
  "toc": {
   "base_numbering": 1,
   "nav_menu": {},
   "number_sections": true,
   "sideBar": true,
   "skip_h1_title": true,
   "title_cell": "Table of Contents",
   "title_sidebar": "Contents",
   "toc_cell": false,
   "toc_position": {},
   "toc_section_display": true,
   "toc_window_display": true
  }
 },
 "nbformat": 4,
 "nbformat_minor": 2
}
