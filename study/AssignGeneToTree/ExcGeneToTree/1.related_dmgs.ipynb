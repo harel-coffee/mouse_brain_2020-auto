{
 "cells": [
  {
   "cell_type": "code",
   "execution_count": 1,
   "metadata": {
    "ExecuteTime": {
     "end_time": "2020-02-19T02:39:50.278294Z",
     "start_time": "2020-02-19T02:39:49.452796Z"
    },
    "papermill": {
     "duration": 0.597337,
     "end_time": "2020-01-27T23:39:57.832367",
     "exception": false,
     "start_time": "2020-01-27T23:39:57.235030",
     "status": "completed"
    },
    "tags": []
   },
   "outputs": [],
   "source": [
    "import pandas as pd\n",
    "import xarray as xr\n",
    "import numpy as np\n",
    "import pathlib\n",
    "import seaborn as sns\n",
    "import matplotlib.pyplot as plt"
   ]
  },
  {
   "cell_type": "markdown",
   "metadata": {
    "papermill": {
     "duration": 0.008677,
     "end_time": "2020-01-27T23:39:57.851250",
     "exception": false,
     "start_time": "2020-01-27T23:39:57.842573",
     "status": "completed"
    },
    "tags": []
   },
   "source": [
    "## Parameters"
   ]
  },
  {
   "cell_type": "code",
   "execution_count": 2,
   "metadata": {
    "ExecuteTime": {
     "end_time": "2020-02-19T02:39:50.817122Z",
     "start_time": "2020-02-19T02:39:50.812348Z"
    },
    "papermill": {
     "duration": 0.016556,
     "end_time": "2020-01-27T23:39:57.876022",
     "exception": false,
     "start_time": "2020-01-27T23:39:57.859466",
     "status": "completed"
    },
    "tags": [
     "parameters"
    ]
   },
   "outputs": [],
   "source": [
    "use_clusters = [\n",
    "    'CA3 Cadm2', 'CA1 Chrm3', 'CA3-St18 Tead1', 'Gfra1 Gfra1', 'IT-L5 Etv1',\n",
    "    'CA1 Ptprg', 'NP-L6 Cntnap4', 'CA3-St18 Nuak1', 'CT-L6 Megf9',\n",
    "    'IG-CA2 Chrm3', 'IG-CA2 Peak1', 'DG-po Calb2', 'DG dg-all', 'CA1 Kif26a',\n",
    "    'CA3 Efnb2', 'CA1 Ak5', 'DG-po Bcl11a', 'PT-L5 Tenm2', 'CA1 Lingo2',\n",
    "    'CA3-St18 Epha5', 'IG-CA2 Xpr1', 'DG-po Kctd8', 'CT-L6 Il1rap',\n",
    "    'L6b Adcy8', 'IT-L6 Man1c1', 'NP-L6 Olfml2b', 'PT-L5 Abca12',\n",
    "    'PT-L5 Nectin1', 'IT-L23 Cux1', 'IT-L23 Foxp1', 'IT-L4 Shc3', 'IT-L5 Cdh8',\n",
    "    'IT-L5 Grik3', 'PT-L5 Tmtc2', 'IT-L23 Tenm2', 'NP-L6 Cntnap5a',\n",
    "    'CT-L6 Hcrtr2', 'PT-L5 Plcb4', 'IT-L23 Ptprt', 'CT-L6 Map4', 'NP-L6 Boc',\n",
    "    'PT-L5 Kcnh1', 'OLF-Exc Bmpr1b', 'PT-L5 Astn2', 'IT-L6 Fstl4',\n",
    "    'CLA Bcl11a', 'NP-L6 Cyp7b1', 'CLA Cdh8', 'IT-L6 Cadps2', 'PT-L5 Ptprt',\n",
    "    'NP-L6 Kcnab1', 'IT-L6 Oxr1', 'OLF-Exc Pld5', 'OLF-Exc Lrrtm3',\n",
    "    'OLF-Exc Cdh9', 'OLF-Exc Unc13c', 'L6b Nrp2', 'OLF-Exc Sgcd',\n",
    "    'OLF-Exc Rmst', 'PT-L5 Unc5b', 'L6b Pkhd1', 'L6b Kcnk2', 'IT-L4 Astn2',\n",
    "    'CLA Nrp2', 'EP Tspan5', 'OLF-Exc Cux2', 'EP Rgs8', 'EP Adcy8'\n",
    "]\n",
    "auroc_cutoff = 0.9\n",
    "fc_cutoff = 2\n",
    "delta_cutoff = 0.01\n",
    "rate_to_min = 0.01\n",
    "rate_from_max = 0.01\n",
    "n_repeat_pairs = 5"
   ]
  },
  {
   "cell_type": "code",
   "execution_count": 3,
   "metadata": {
    "ExecuteTime": {
     "end_time": "2020-02-19T02:39:51.720710Z",
     "start_time": "2020-02-19T02:39:51.716150Z"
    },
    "papermill": {
     "duration": 0.015719,
     "end_time": "2020-01-27T23:39:57.900037",
     "exception": false,
     "start_time": "2020-01-27T23:39:57.884318",
     "status": "completed"
    },
    "tags": [
     "injected-parameters"
    ]
   },
   "outputs": [],
   "source": [
    "# Parameters\n",
    "use_clusters = [\n",
    "    \"CA3 Cadm2\", \"CA1 Chrm3\", \"CA3-St18 Tead1\", \"Gfra1 Gfra1\", \"IT-L5 Etv1\",\n",
    "    \"CA1 Ptprg\", \"NP-L6 Cntnap4\", \"CA3-St18 Nuak1\", \"CT-L6 Megf9\",\n",
    "    \"IG-CA2 Chrm3\", \"IG-CA2 Peak1\", \"DG-po Calb2\", \"DG dg-all\", \"CA1 Kif26a\",\n",
    "    \"CA3 Efnb2\", \"CA1 Ak5\", \"DG-po Bcl11a\", \"PT-L5 Tenm2\", \"CA1 Lingo2\",\n",
    "    \"CA3-St18 Epha5\", \"IG-CA2 Xpr1\", \"DG-po Kctd8\", \"CT-L6 Il1rap\",\n",
    "    \"L6b Adcy8\", \"IT-L6 Man1c1\", \"NP-L6 Olfml2b\", \"PT-L5 Abca12\",\n",
    "    \"PT-L5 Nectin1\", \"IT-L23 Cux1\", \"IT-L23 Foxp1\", \"IT-L4 Shc3\", \"IT-L5 Cdh8\",\n",
    "    \"IT-L5 Grik3\", \"PT-L5 Tmtc2\", \"IT-L23 Tenm2\", \"NP-L6 Cntnap5a\",\n",
    "    \"CT-L6 Hcrtr2\", \"PT-L5 Plcb4\", \"IT-L23 Ptprt\", \"CT-L6 Map4\", \"NP-L6 Boc\",\n",
    "    \"PT-L5 Kcnh1\", \"OLF-Exc Bmpr1b\", \"PT-L5 Astn2\", \"IT-L6 Fstl4\",\n",
    "    \"CLA Bcl11a\", \"NP-L6 Cyp7b1\", \"CLA Cdh8\", \"IT-L6 Cadps2\", \"PT-L5 Ptprt\",\n",
    "    \"NP-L6 Kcnab1\", \"IT-L6 Oxr1\", \"OLF-Exc Pld5\", \"OLF-Exc Lrrtm3\",\n",
    "    \"OLF-Exc Cdh9\", \"OLF-Exc Unc13c\", \"L6b Nrp2\", \"OLF-Exc Sgcd\",\n",
    "    \"OLF-Exc Rmst\", \"PT-L5 Unc5b\", \"L6b Pkhd1\", \"L6b Kcnk2\", \"IT-L4 Astn2\",\n",
    "    \"CLA Nrp2\", \"EP Tspan5\", \"OLF-Exc Cux2\", \"EP Rgs8\", \"EP Adcy8\"\n",
    "]\n",
    "auroc_cutoff = 0.8\n",
    "fc_cutoff = 1\n",
    "delta_cutoff = 0.005\n",
    "#rate_to_min = 0.01\n",
    "#rate_from_max = 0.02\n",
    "n_repeat_pairs = 5\n",
    "\n",
    "# do a loose filter here, use relevant score to do final filter"
   ]
  },
  {
   "cell_type": "code",
   "execution_count": 4,
   "metadata": {
    "ExecuteTime": {
     "end_time": "2020-02-19T02:39:53.038850Z",
     "start_time": "2020-02-19T02:39:53.036621Z"
    },
    "papermill": {
     "duration": 0.013112,
     "end_time": "2020-01-27T23:39:57.921358",
     "exception": false,
     "start_time": "2020-01-27T23:39:57.908246",
     "status": "completed"
    },
    "tags": []
   },
   "outputs": [],
   "source": [
    "use_clusters = [i.replace('_', ' ') for i in use_clusters]\n",
    "use_clusters = set(use_clusters)"
   ]
  },
  {
   "cell_type": "code",
   "execution_count": 5,
   "metadata": {
    "ExecuteTime": {
     "end_time": "2020-02-19T02:39:54.343497Z",
     "start_time": "2020-02-19T02:39:54.118148Z"
    },
    "papermill": {
     "duration": 0.263227,
     "end_time": "2020-01-27T23:39:58.192862",
     "exception": false,
     "start_time": "2020-01-27T23:39:57.929635",
     "status": "completed"
    },
    "tags": []
   },
   "outputs": [
    {
     "data": {
      "text/html": [
       "<div>\n",
       "<style scoped>\n",
       "    .dataframe tbody tr th:only-of-type {\n",
       "        vertical-align: middle;\n",
       "    }\n",
       "\n",
       "    .dataframe tbody tr th {\n",
       "        vertical-align: top;\n",
       "    }\n",
       "\n",
       "    .dataframe thead th {\n",
       "        text-align: right;\n",
       "    }\n",
       "</style>\n",
       "<table border=\"1\" class=\"dataframe\">\n",
       "  <thead>\n",
       "    <tr style=\"text-align: right;\">\n",
       "      <th>geneslop2k</th>\n",
       "      <th>ENSMUSG00000102693.1</th>\n",
       "      <th>ENSMUSG00000064842.1</th>\n",
       "      <th>ENSMUSG00000051951.5</th>\n",
       "      <th>ENSMUSG00000102851.1</th>\n",
       "      <th>ENSMUSG00000103377.1</th>\n",
       "      <th>ENSMUSG00000104017.1</th>\n",
       "      <th>ENSMUSG00000103025.1</th>\n",
       "      <th>ENSMUSG00000089699.1</th>\n",
       "      <th>ENSMUSG00000103201.1</th>\n",
       "      <th>ENSMUSG00000103147.1</th>\n",
       "      <th>...</th>\n",
       "      <th>ENSMUSG00000064363.1</th>\n",
       "      <th>ENSMUSG00000064364.1</th>\n",
       "      <th>ENSMUSG00000064365.1</th>\n",
       "      <th>ENSMUSG00000064366.1</th>\n",
       "      <th>ENSMUSG00000064367.1</th>\n",
       "      <th>ENSMUSG00000064368.1</th>\n",
       "      <th>ENSMUSG00000064369.1</th>\n",
       "      <th>ENSMUSG00000064370.1</th>\n",
       "      <th>ENSMUSG00000064371.1</th>\n",
       "      <th>ENSMUSG00000064372.1</th>\n",
       "    </tr>\n",
       "    <tr>\n",
       "      <th>SubType</th>\n",
       "      <th></th>\n",
       "      <th></th>\n",
       "      <th></th>\n",
       "      <th></th>\n",
       "      <th></th>\n",
       "      <th></th>\n",
       "      <th></th>\n",
       "      <th></th>\n",
       "      <th></th>\n",
       "      <th></th>\n",
       "      <th></th>\n",
       "      <th></th>\n",
       "      <th></th>\n",
       "      <th></th>\n",
       "      <th></th>\n",
       "      <th></th>\n",
       "      <th></th>\n",
       "      <th></th>\n",
       "      <th></th>\n",
       "      <th></th>\n",
       "      <th></th>\n",
       "    </tr>\n",
       "  </thead>\n",
       "  <tbody>\n",
       "    <tr>\n",
       "      <th>MGE-Sst Rxra</th>\n",
       "      <td>0.036028</td>\n",
       "      <td>0.043546</td>\n",
       "      <td>0.011518</td>\n",
       "      <td>0.012793</td>\n",
       "      <td>0.008664</td>\n",
       "      <td>0.013207</td>\n",
       "      <td>0.013343</td>\n",
       "      <td>0.012206</td>\n",
       "      <td>0.012409</td>\n",
       "      <td>0.012589</td>\n",
       "      <td>...</td>\n",
       "      <td>0.032261</td>\n",
       "      <td>0.032288</td>\n",
       "      <td>0.032410</td>\n",
       "      <td>0.032552</td>\n",
       "      <td>0.034254</td>\n",
       "      <td>0.033398</td>\n",
       "      <td>0.033502</td>\n",
       "      <td>0.033819</td>\n",
       "      <td>0.035191</td>\n",
       "      <td>0.035211</td>\n",
       "    </tr>\n",
       "    <tr>\n",
       "      <th>CA3 Cadm2</th>\n",
       "      <td>0.033156</td>\n",
       "      <td>0.029851</td>\n",
       "      <td>0.009630</td>\n",
       "      <td>0.008696</td>\n",
       "      <td>0.009502</td>\n",
       "      <td>0.010312</td>\n",
       "      <td>0.009555</td>\n",
       "      <td>0.009374</td>\n",
       "      <td>0.009898</td>\n",
       "      <td>0.008947</td>\n",
       "      <td>...</td>\n",
       "      <td>0.025086</td>\n",
       "      <td>0.025137</td>\n",
       "      <td>0.025251</td>\n",
       "      <td>0.025495</td>\n",
       "      <td>0.024930</td>\n",
       "      <td>0.024434</td>\n",
       "      <td>0.024452</td>\n",
       "      <td>0.024956</td>\n",
       "      <td>0.024893</td>\n",
       "      <td>0.024863</td>\n",
       "    </tr>\n",
       "    <tr>\n",
       "      <th>CA1 Chrm3</th>\n",
       "      <td>0.023127</td>\n",
       "      <td>0.024722</td>\n",
       "      <td>0.008233</td>\n",
       "      <td>0.008266</td>\n",
       "      <td>0.009479</td>\n",
       "      <td>0.012860</td>\n",
       "      <td>0.007963</td>\n",
       "      <td>0.008021</td>\n",
       "      <td>0.009220</td>\n",
       "      <td>0.007640</td>\n",
       "      <td>...</td>\n",
       "      <td>0.033007</td>\n",
       "      <td>0.032922</td>\n",
       "      <td>0.032910</td>\n",
       "      <td>0.033188</td>\n",
       "      <td>0.031894</td>\n",
       "      <td>0.030501</td>\n",
       "      <td>0.029690</td>\n",
       "      <td>0.029887</td>\n",
       "      <td>0.029790</td>\n",
       "      <td>0.029634</td>\n",
       "    </tr>\n",
       "    <tr>\n",
       "      <th>CA3-St18 Tead1</th>\n",
       "      <td>0.027134</td>\n",
       "      <td>0.027768</td>\n",
       "      <td>0.017092</td>\n",
       "      <td>0.013822</td>\n",
       "      <td>0.024804</td>\n",
       "      <td>0.040937</td>\n",
       "      <td>0.015322</td>\n",
       "      <td>0.014494</td>\n",
       "      <td>0.019728</td>\n",
       "      <td>0.011044</td>\n",
       "      <td>...</td>\n",
       "      <td>0.034665</td>\n",
       "      <td>0.034462</td>\n",
       "      <td>0.034645</td>\n",
       "      <td>0.034727</td>\n",
       "      <td>0.033429</td>\n",
       "      <td>0.031014</td>\n",
       "      <td>0.029844</td>\n",
       "      <td>0.029497</td>\n",
       "      <td>0.029236</td>\n",
       "      <td>0.029461</td>\n",
       "    </tr>\n",
       "    <tr>\n",
       "      <th>Unc5c Unc5c</th>\n",
       "      <td>0.024149</td>\n",
       "      <td>0.030352</td>\n",
       "      <td>0.011801</td>\n",
       "      <td>0.010621</td>\n",
       "      <td>0.010696</td>\n",
       "      <td>0.014942</td>\n",
       "      <td>0.021727</td>\n",
       "      <td>0.013943</td>\n",
       "      <td>0.014074</td>\n",
       "      <td>0.009287</td>\n",
       "      <td>...</td>\n",
       "      <td>0.032325</td>\n",
       "      <td>0.032111</td>\n",
       "      <td>0.031888</td>\n",
       "      <td>0.031687</td>\n",
       "      <td>0.029979</td>\n",
       "      <td>0.029032</td>\n",
       "      <td>0.028236</td>\n",
       "      <td>0.028392</td>\n",
       "      <td>0.025932</td>\n",
       "      <td>0.026097</td>\n",
       "    </tr>\n",
       "  </tbody>\n",
       "</table>\n",
       "<p>5 rows × 55487 columns</p>\n",
       "</div>"
      ],
      "text/plain": [
       "geneslop2k      ENSMUSG00000102693.1  ENSMUSG00000064842.1  \\\n",
       "SubType                                                      \n",
       "MGE-Sst Rxra                0.036028              0.043546   \n",
       "CA3 Cadm2                   0.033156              0.029851   \n",
       "CA1 Chrm3                   0.023127              0.024722   \n",
       "CA3-St18 Tead1              0.027134              0.027768   \n",
       "Unc5c Unc5c                 0.024149              0.030352   \n",
       "\n",
       "geneslop2k      ENSMUSG00000051951.5  ENSMUSG00000102851.1  \\\n",
       "SubType                                                      \n",
       "MGE-Sst Rxra                0.011518              0.012793   \n",
       "CA3 Cadm2                   0.009630              0.008696   \n",
       "CA1 Chrm3                   0.008233              0.008266   \n",
       "CA3-St18 Tead1              0.017092              0.013822   \n",
       "Unc5c Unc5c                 0.011801              0.010621   \n",
       "\n",
       "geneslop2k      ENSMUSG00000103377.1  ENSMUSG00000104017.1  \\\n",
       "SubType                                                      \n",
       "MGE-Sst Rxra                0.008664              0.013207   \n",
       "CA3 Cadm2                   0.009502              0.010312   \n",
       "CA1 Chrm3                   0.009479              0.012860   \n",
       "CA3-St18 Tead1              0.024804              0.040937   \n",
       "Unc5c Unc5c                 0.010696              0.014942   \n",
       "\n",
       "geneslop2k      ENSMUSG00000103025.1  ENSMUSG00000089699.1  \\\n",
       "SubType                                                      \n",
       "MGE-Sst Rxra                0.013343              0.012206   \n",
       "CA3 Cadm2                   0.009555              0.009374   \n",
       "CA1 Chrm3                   0.007963              0.008021   \n",
       "CA3-St18 Tead1              0.015322              0.014494   \n",
       "Unc5c Unc5c                 0.021727              0.013943   \n",
       "\n",
       "geneslop2k      ENSMUSG00000103201.1  ENSMUSG00000103147.1  ...  \\\n",
       "SubType                                                     ...   \n",
       "MGE-Sst Rxra                0.012409              0.012589  ...   \n",
       "CA3 Cadm2                   0.009898              0.008947  ...   \n",
       "CA1 Chrm3                   0.009220              0.007640  ...   \n",
       "CA3-St18 Tead1              0.019728              0.011044  ...   \n",
       "Unc5c Unc5c                 0.014074              0.009287  ...   \n",
       "\n",
       "geneslop2k      ENSMUSG00000064363.1  ENSMUSG00000064364.1  \\\n",
       "SubType                                                      \n",
       "MGE-Sst Rxra                0.032261              0.032288   \n",
       "CA3 Cadm2                   0.025086              0.025137   \n",
       "CA1 Chrm3                   0.033007              0.032922   \n",
       "CA3-St18 Tead1              0.034665              0.034462   \n",
       "Unc5c Unc5c                 0.032325              0.032111   \n",
       "\n",
       "geneslop2k      ENSMUSG00000064365.1  ENSMUSG00000064366.1  \\\n",
       "SubType                                                      \n",
       "MGE-Sst Rxra                0.032410              0.032552   \n",
       "CA3 Cadm2                   0.025251              0.025495   \n",
       "CA1 Chrm3                   0.032910              0.033188   \n",
       "CA3-St18 Tead1              0.034645              0.034727   \n",
       "Unc5c Unc5c                 0.031888              0.031687   \n",
       "\n",
       "geneslop2k      ENSMUSG00000064367.1  ENSMUSG00000064368.1  \\\n",
       "SubType                                                      \n",
       "MGE-Sst Rxra                0.034254              0.033398   \n",
       "CA3 Cadm2                   0.024930              0.024434   \n",
       "CA1 Chrm3                   0.031894              0.030501   \n",
       "CA3-St18 Tead1              0.033429              0.031014   \n",
       "Unc5c Unc5c                 0.029979              0.029032   \n",
       "\n",
       "geneslop2k      ENSMUSG00000064369.1  ENSMUSG00000064370.1  \\\n",
       "SubType                                                      \n",
       "MGE-Sst Rxra                0.033502              0.033819   \n",
       "CA3 Cadm2                   0.024452              0.024956   \n",
       "CA1 Chrm3                   0.029690              0.029887   \n",
       "CA3-St18 Tead1              0.029844              0.029497   \n",
       "Unc5c Unc5c                 0.028236              0.028392   \n",
       "\n",
       "geneslop2k      ENSMUSG00000064371.1  ENSMUSG00000064372.1  \n",
       "SubType                                                     \n",
       "MGE-Sst Rxra                0.035191              0.035211  \n",
       "CA3 Cadm2                   0.024893              0.024863  \n",
       "CA1 Chrm3                   0.029790              0.029634  \n",
       "CA3-St18 Tead1              0.029236              0.029461  \n",
       "Unc5c Unc5c                 0.025932              0.026097  \n",
       "\n",
       "[5 rows x 55487 columns]"
      ]
     },
     "execution_count": 5,
     "metadata": {},
     "output_type": "execute_result"
    }
   ],
   "source": [
    "subtype_rate = xr.open_dataset(\n",
    "    '/home/hanliu/project/mouse_rostral_brain/study/mCClustermCLevel/SubType.geneslop2k.mcds'\n",
    ")['gene_cluster_da_rate'].sel(mc_type='CHN').to_pandas()\n",
    "subtype_rate.index = subtype_rate.index.map(lambda i: i.replace('_', ' '))\n",
    "subtype_rate.head()"
   ]
  },
  {
   "cell_type": "markdown",
   "metadata": {
    "papermill": {
     "duration": 0.009341,
     "end_time": "2020-01-27T23:39:58.212627",
     "exception": false,
     "start_time": "2020-01-27T23:39:58.203286",
     "status": "completed"
    },
    "tags": []
   },
   "source": [
    "## Total DMG results"
   ]
  },
  {
   "cell_type": "code",
   "execution_count": 6,
   "metadata": {
    "ExecuteTime": {
     "end_time": "2020-02-19T02:39:59.433113Z",
     "start_time": "2020-02-19T02:39:56.177018Z"
    },
    "papermill": {
     "duration": 11.742715,
     "end_time": "2020-01-27T23:40:09.964592",
     "exception": false,
     "start_time": "2020-01-27T23:39:58.221877",
     "status": "completed"
    },
    "tags": []
   },
   "outputs": [
    {
     "name": "stderr",
     "output_type": "stream",
     "text": [
      "/home/hanliu/miniconda3/envs/clustering/lib/python3.7/site-packages/IPython/core/interactiveshell.py:3326: FutureWarning: The read_msgpack is deprecated and will be removed in a future version.\n",
      "It is recommended to use pyarrow for on-the-wire transmission of pandas objects.\n",
      "  exec(code_obj, self.user_global_ns, self.user_ns)\n"
     ]
    }
   ],
   "source": [
    "total_dmg = pd.read_msgpack(\n",
    "    '/home/hanliu/project/mouse_rostral_brain/study/ClusterMethylMarker/ExcSubTypePairwiseMarker/TotalPairwiseMarker.msg'\n",
    ")"
   ]
  },
  {
   "cell_type": "code",
   "execution_count": 8,
   "metadata": {
    "ExecuteTime": {
     "end_time": "2020-02-19T02:40:07.258710Z",
     "start_time": "2020-02-19T02:40:07.255741Z"
    }
   },
   "outputs": [
    {
     "data": {
      "text/plain": [
       "(4624255, 11)"
      ]
     },
     "execution_count": 8,
     "metadata": {},
     "output_type": "execute_result"
    }
   ],
   "source": [
    "total_dmg.shape"
   ]
  },
  {
   "cell_type": "code",
   "execution_count": 7,
   "metadata": {
    "ExecuteTime": {
     "end_time": "2020-02-19T02:40:00.941717Z",
     "start_time": "2020-02-19T02:39:59.434566Z"
    },
    "papermill": {
     "duration": 2.184528,
     "end_time": "2020-01-27T23:40:12.159864",
     "exception": false,
     "start_time": "2020-01-27T23:40:09.975336",
     "status": "completed"
    },
    "tags": []
   },
   "outputs": [
    {
     "data": {
      "text/plain": [
       "(4624255, 11)"
      ]
     },
     "execution_count": 7,
     "metadata": {},
     "output_type": "execute_result"
    }
   ],
   "source": [
    "use_dmg = total_dmg[total_dmg['cluster_from'].isin(use_clusters) & \n",
    "                    total_dmg['cluster_to'].isin(use_clusters) & \n",
    "                    (total_dmg['AUROC'] > auroc_cutoff)].copy()\n",
    "use_dmg.shape"
   ]
  },
  {
   "cell_type": "code",
   "execution_count": 9,
   "metadata": {
    "ExecuteTime": {
     "end_time": "2020-02-19T02:43:22.554972Z",
     "start_time": "2020-02-19T02:40:10.333477Z"
    },
    "papermill": {
     "duration": 78.863386,
     "end_time": "2020-01-27T23:41:31.033814",
     "exception": false,
     "start_time": "2020-01-27T23:40:12.170428",
     "status": "completed"
    },
    "tags": []
   },
   "outputs": [],
   "source": [
    "use_dmg['rate_from'] = use_dmg.apply(lambda i: subtype_rate.at[i['cluster_from'], i['gene_id']], axis=1)\n",
    "use_dmg['rate_to'] = use_dmg.apply(lambda i: subtype_rate.at[i['cluster_to'], i['gene_id']], axis=1)"
   ]
  },
  {
   "cell_type": "code",
   "execution_count": 11,
   "metadata": {
    "ExecuteTime": {
     "end_time": "2020-02-19T02:43:39.004793Z",
     "start_time": "2020-02-19T02:43:37.172074Z"
    },
    "papermill": {
     "duration": 0.247812,
     "end_time": "2020-01-27T23:41:32.079010",
     "exception": false,
     "start_time": "2020-01-27T23:41:31.831198",
     "status": "completed"
    },
    "tags": []
   },
   "outputs": [
    {
     "data": {
      "text/plain": [
       "(3951974, 13)"
      ]
     },
     "execution_count": 11,
     "metadata": {},
     "output_type": "execute_result"
    }
   ],
   "source": [
    "fc = use_dmg['rate_to'] / use_dmg['rate_from']\n",
    "delta = use_dmg['rate_to'] - use_dmg['rate_from']\n",
    "use_dmg = use_dmg[(fc > fc_cutoff) & \n",
    "                  (delta > delta_cutoff) #&\n",
    "                  #(use_dmg['rate_to'] > rate_to_min) & \n",
    "                  #(use_dmg['rate_from'] < rate_from_max)\n",
    "                 ].copy()\n",
    "use_dmg.shape"
   ]
  },
  {
   "cell_type": "code",
   "execution_count": 12,
   "metadata": {
    "ExecuteTime": {
     "end_time": "2020-02-19T02:43:45.023614Z",
     "start_time": "2020-02-19T02:43:43.753238Z"
    },
    "papermill": {
     "duration": 0.754654,
     "end_time": "2020-01-27T23:41:31.808020",
     "exception": false,
     "start_time": "2020-01-27T23:41:31.053366",
     "status": "completed"
    },
    "tags": []
   },
   "outputs": [
    {
     "data": {
      "text/plain": [
       "(3940090, 13)"
      ]
     },
     "execution_count": 12,
     "metadata": {},
     "output_type": "execute_result"
    }
   ],
   "source": [
    "repeat_counts = use_dmg['gene_id'].value_counts()\n",
    "# before direction filter, real gene should be larger than n_repeat_pairs\n",
    "use_genes = repeat_counts[repeat_counts > n_repeat_pairs].index\n",
    "use_dmg = use_dmg[use_dmg['gene_id'].isin(use_genes)]\n",
    "use_dmg.shape"
   ]
  },
  {
   "cell_type": "code",
   "execution_count": 13,
   "metadata": {
    "ExecuteTime": {
     "end_time": "2020-02-19T02:43:49.042710Z",
     "start_time": "2020-02-19T02:43:48.839288Z"
    },
    "papermill": {
     "duration": 0.312491,
     "end_time": "2020-01-27T23:41:32.404563",
     "exception": false,
     "start_time": "2020-01-27T23:41:32.092072",
     "status": "completed"
    },
    "tags": []
   },
   "outputs": [
    {
     "data": {
      "text/plain": [
       "<matplotlib.axes._subplots.AxesSubplot at 0x7fdc78771860>"
      ]
     },
     "execution_count": 13,
     "metadata": {},
     "output_type": "execute_result"
    },
    {
     "data": {
      "image/png": "[encoded data removed]",
      "text/plain": [
       "<Figure size 432x288 with 1 Axes>"
      ]
     },
     "metadata": {
      "needs_background": "light"
     },
     "output_type": "display_data"
    }
   ],
   "source": [
    "sns.distplot(repeat_counts)"
   ]
  },
  {
   "cell_type": "code",
   "execution_count": 14,
   "metadata": {
    "ExecuteTime": {
     "end_time": "2020-02-19T02:43:54.398594Z",
     "start_time": "2020-02-19T02:43:50.268260Z"
    },
    "papermill": {
     "duration": 0.550107,
     "end_time": "2020-01-27T23:41:32.981018",
     "exception": false,
     "start_time": "2020-01-27T23:41:32.430911",
     "status": "completed"
    },
    "tags": []
   },
   "outputs": [
    {
     "name": "stderr",
     "output_type": "stream",
     "text": [
      "/home/hanliu/miniconda3/envs/clustering/lib/python3.7/site-packages/ipykernel_launcher.py:1: FutureWarning: to_msgpack is deprecated and will be removed in a future version.\n",
      "It is recommended to use pyarrow for on-the-wire transmission of pandas objects.\n",
      "  \"\"\"Entry point for launching an IPython kernel.\n"
     ]
    }
   ],
   "source": [
    "use_dmg.to_msgpack('RelatedDMG.msg')"
   ]
  },
  {
   "cell_type": "code",
   "execution_count": 15,
   "metadata": {
    "ExecuteTime": {
     "end_time": "2020-02-19T02:43:55.156462Z",
     "start_time": "2020-02-19T02:43:54.400252Z"
    },
    "papermill": {
     "duration": 0.107538,
     "end_time": "2020-01-27T23:41:33.121082",
     "exception": false,
     "start_time": "2020-01-27T23:41:33.013544",
     "status": "completed"
    },
    "tags": []
   },
   "outputs": [
    {
     "data": {
      "text/plain": [
       "19448"
      ]
     },
     "execution_count": 15,
     "metadata": {},
     "output_type": "execute_result"
    }
   ],
   "source": [
    "with open('related_dmgs.txt', 'w') as f:\n",
    "    for g in use_dmg['gene_id'].unique():\n",
    "        f.write(g + '\\n')\n",
    "        \n",
    "use_dmg['gene_id'].unique().size"
   ]
  },
  {
   "cell_type": "code",
   "execution_count": 16,
   "metadata": {
    "ExecuteTime": {
     "end_time": "2020-02-19T02:43:55.616611Z",
     "start_time": "2020-02-19T02:43:55.157898Z"
    },
    "papermill": {
     "duration": 0.124726,
     "end_time": "2020-01-27T23:41:33.338799",
     "exception": false,
     "start_time": "2020-01-27T23:41:33.214073",
     "status": "completed"
    },
    "tags": []
   },
   "outputs": [
    {
     "data": {
      "text/plain": [
       "count    19448.000000\n",
       "mean       202.596154\n",
       "std        262.717660\n",
       "min          6.000000\n",
       "25%         28.000000\n",
       "50%         86.000000\n",
       "75%        272.000000\n",
       "max       1499.000000\n",
       "Name: gene_id, dtype: float64"
      ]
     },
     "execution_count": 16,
     "metadata": {},
     "output_type": "execute_result"
    }
   ],
   "source": [
    "use_dmg['gene_id'].value_counts().describe()"
   ]
  },
  {
   "cell_type": "code",
   "execution_count": null,
   "metadata": {
    "papermill": {
     "duration": 0.02804,
     "end_time": "2020-01-27T23:41:33.454540",
     "exception": false,
     "start_time": "2020-01-27T23:41:33.426500",
     "status": "completed"
    },
    "tags": []
   },
   "outputs": [],
   "source": []
  },
  {
   "cell_type": "code",
   "execution_count": null,
   "metadata": {
    "papermill": {
     "duration": 0.01633,
     "end_time": "2020-01-27T23:41:33.487646",
     "exception": false,
     "start_time": "2020-01-27T23:41:33.471316",
     "status": "completed"
    },
    "tags": []
   },
   "outputs": [],
   "source": []
  }
 ],
 "metadata": {
  "hide_input": false,
  "kernelspec": {
   "display_name": "Python 3",
   "language": "python",
   "name": "python3"
  },
  "language_info": {
   "codemirror_mode": {
    "name": "ipython",
    "version": 3
   },
   "file_extension": ".py",
   "mimetype": "text/x-python",
   "name": "python",
   "nbconvert_exporter": "python",
   "pygments_lexer": "ipython3",
   "version": "3.7.3"
  },
  "papermill": {
   "duration": 102.282222,
   "end_time": "2020-01-27T23:41:38.603224",
   "environment_variables": {},
   "exception": null,
   "input_path": "1.related_dmgs.ipynb",
   "output_path": "/home/hanliu/project/mouse_rostral_brain/study/AssignGeneToTree/ExcGeneToTree/1.related_dmgs.ipynb",
   "parameters": {
    "auroc_cutoff": 0.9,
    "delta_cutoff": 0.01,
    "fc_cutoff": 2,
    "n_repeat_pairs": 10,
    "rate_from_max": 0.01,
    "rate_to_min": 0.01,
    "use_clusters": [
     "CA3 Cadm2",
     "CA1 Chrm3",
     "CA3-St18 Tead1",
     "Gfra1 Gfra1",
     "IT-L5 Etv1",
     "CA1 Ptprg",
     "NP-L6 Cntnap4",
     "CA3-St18 Nuak1",
     "CT-L6 Megf9",
     "IG-CA2 Chrm3",
     "IG-CA2 Peak1",
     "DG-po Calb2",
     "DG dg-all",
     "CA1 Kif26a",
     "CA3 Efnb2",
     "CA1 Ak5",
     "DG-po Bcl11a",
     "PT-L5 Tenm2",
     "CA1 Lingo2",
     "CA3-St18 Epha5",
     "IG-CA2 Xpr1",
     "DG-po Kctd8",
     "CT-L6 Il1rap",
     "L6b Adcy8",
     "IT-L6 Man1c1",
     "NP-L6 Olfml2b",
     "PT-L5 Abca12",
     "PT-L5 Nectin1",
     "IT-L23 Cux1",
     "IT-L23 Foxp1",
     "IT-L4 Shc3",
     "IT-L5 Cdh8",
     "IT-L5 Grik3",
     "PT-L5 Tmtc2",
     "IT-L23 Tenm2",
     "NP-L6 Cntnap5a",
     "CT-L6 Hcrtr2",
     "PT-L5 Plcb4",
     "IT-L23 Ptprt",
     "CT-L6 Map4",
     "NP-L6 Boc",
     "PT-L5 Kcnh1",
     "OLF-Exc Bmpr1b",
     "PT-L5 Astn2",
     "IT-L6 Fstl4",
     "CLA Bcl11a",
     "NP-L6 Cyp7b1",
     "CLA Cdh8",
     "IT-L6 Cadps2",
     "PT-L5 Ptprt",
     "NP-L6 Kcnab1",
     "IT-L6 Oxr1",
     "OLF-Exc Pld5",
     "OLF-Exc Lrrtm3",
     "OLF-Exc Cdh9",
     "OLF-Exc Unc13c",
     "L6b Nrp2",
     "OLF-Exc Sgcd",
     "OLF-Exc Rmst",
     "PT-L5 Unc5b",
     "L6b Pkhd1",
     "L6b Kcnk2",
     "IT-L4 Astn2",
     "CLA Nrp2",
     "EP Tspan5",
     "OLF-Exc Cux2",
     "EP Rgs8",
     "EP Adcy8"
    ]
   },
   "start_time": "2020-01-27T23:39:56.321002",
   "version": "1.0.1"
  },
  "toc": {
   "base_numbering": 1,
   "nav_menu": {},
   "number_sections": true,
   "sideBar": true,
   "skip_h1_title": true,
   "title_cell": "Table of Contents",
   "title_sidebar": "Contents",
   "toc_cell": false,
   "toc_position": {},
   "toc_section_display": true,
   "toc_window_display": true
  }
 },
 "nbformat": 4,
 "nbformat_minor": 2
}
