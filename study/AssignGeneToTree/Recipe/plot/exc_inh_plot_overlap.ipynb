{
 "cells": [
  {
   "cell_type": "code",
   "execution_count": 1,
   "metadata": {
    "ExecuteTime": {
     "end_time": "2020-01-29T04:19:10.028137Z",
     "start_time": "2020-01-29T04:19:09.577115Z"
    }
   },
   "outputs": [],
   "source": [
    "import re\n",
    "\n",
    "import joblib\n",
    "import matplotlib.pyplot as plt\n",
    "import numpy as np\n",
    "import pandas as pd\n",
    "import seaborn as sns\n",
    "from ALLCools.plot import *\n",
    "from matplotlib import patches\n",
    "from matplotlib.cm import get_cmap\n",
    "from matplotlib.colors import ListedColormap, Normalize"
   ]
  },
  {
   "cell_type": "code",
   "execution_count": 2,
   "metadata": {
    "ExecuteTime": {
     "end_time": "2020-01-29T04:19:10.033651Z",
     "start_time": "2020-01-29T04:19:10.029863Z"
    }
   },
   "outputs": [],
   "source": [
    "from matplotlib import rc\n",
    "labelsize = 6\n",
    "linewidth = 0.6\n",
    "rc('lines', linewidth=linewidth)\n",
    "rc('axes', labelsize=labelsize, linewidth=linewidth)\n",
    "rc('xtick', labelsize=labelsize)\n",
    "rc('ytick', labelsize=labelsize)\n",
    "rc('xtick.major', width=linewidth)\n",
    "rc('ytick.major', width=linewidth)\n",
    "rc('xtick.minor', width=linewidth - 0.2)\n",
    "rc('ytick.minor', width=linewidth - 0.2)"
   ]
  },
  {
   "cell_type": "code",
   "execution_count": 3,
   "metadata": {
    "ExecuteTime": {
     "end_time": "2020-01-29T04:19:10.046557Z",
     "start_time": "2020-01-29T04:19:10.034924Z"
    }
   },
   "outputs": [],
   "source": [
    "exc_tf = pd.read_csv('exc.tf.sum_rs.csv', header=None, index_col=0, squeeze=True)\n",
    "exc_other = pd.read_csv('exc.other.sum_rs.csv', header=None, index_col=0, squeeze=True)\n",
    "inh_tf = pd.read_csv('inh.tf.sum_rs.csv', header=None, index_col=0, squeeze=True)\n",
    "inh_other = pd.read_csv('inh.other.sum_rs.csv', header=None, index_col=0, squeeze=True)"
   ]
  },
  {
   "cell_type": "code",
   "execution_count": 4,
   "metadata": {
    "ExecuteTime": {
     "end_time": "2020-01-29T04:19:10.052174Z",
     "start_time": "2020-01-29T04:19:10.047668Z"
    }
   },
   "outputs": [
    {
     "data": {
      "text/plain": [
       "(59, 23, 80)"
      ]
     },
     "execution_count": 4,
     "metadata": {},
     "output_type": "execute_result"
    }
   ],
   "source": [
    "a, b, c = exc_tf.size, (exc_tf.index & inh_tf.index).size, inh_tf.size\n",
    "a, b, c"
   ]
  },
  {
   "cell_type": "code",
   "execution_count": 5,
   "metadata": {
    "ExecuteTime": {
     "end_time": "2020-01-29T04:19:10.200102Z",
     "start_time": "2020-01-29T04:19:10.053275Z"
    }
   },
   "outputs": [
    {
     "data": {
      "image/png": "[encoded data removed]",
      "text/plain": [
       "<Figure size 120x300 with 1 Axes>"
      ]
     },
     "metadata": {
      "needs_background": "light"
     },
     "output_type": "display_data"
    }
   ],
   "source": [
    "fig, ax = plt.subplots(figsize=(0.4, 1), dpi=300)\n",
    "\n",
    "ax.axis('off')\n",
    "\n",
    "from matplotlib import patches\n",
    "\n",
    "p1 = patches.Rectangle((0, 0), 1, a, fc='#5ec5a9')\n",
    "p2 = patches.Rectangle((1.5, a - b), 1, c, fc='#e93400')\n",
    "\n",
    "ax.add_patch(p1)\n",
    "ax.add_patch(p2)\n",
    "ax.set_ylim(a + b + c, 0)\n",
    "ax.set_xlim(-0.5, 7)\n",
    "\n",
    "ax.axhline(a - b, c='lightgray', linestyle='--')\n",
    "ax.axhline(a, c='lightgray', linestyle='--')\n",
    "\n",
    "ax.text(3, (a - b) / 2, a - b, fontsize=labelsize, va='center')\n",
    "ax.text(3, a - (b) / 2, b, fontsize=labelsize, va='center')\n",
    "ax.text(3, a + (c - b) / 2, c - b, fontsize=labelsize)\n",
    "\n",
    "fig.savefig('tf_overlap.pdf')"
   ]
  },
  {
   "cell_type": "code",
   "execution_count": null,
   "metadata": {},
   "outputs": [],
   "source": []
  },
  {
   "cell_type": "code",
   "execution_count": 6,
   "metadata": {
    "ExecuteTime": {
     "end_time": "2020-01-29T04:19:10.206590Z",
     "start_time": "2020-01-29T04:19:10.202117Z"
    }
   },
   "outputs": [
    {
     "data": {
      "text/plain": [
       "(681, 179, 902)"
      ]
     },
     "execution_count": 6,
     "metadata": {},
     "output_type": "execute_result"
    }
   ],
   "source": [
    "a, b, c = exc_other.size, (exc_other.index & inh_other.index).size, inh_other.size\n",
    "a, b, c"
   ]
  },
  {
   "cell_type": "code",
   "execution_count": 7,
   "metadata": {
    "ExecuteTime": {
     "end_time": "2020-01-29T04:19:10.274717Z",
     "start_time": "2020-01-29T04:19:10.208073Z"
    }
   },
   "outputs": [
    {
     "data": {
      "image/png": "[encoded data removed]",
      "text/plain": [
       "<Figure size 120x300 with 1 Axes>"
      ]
     },
     "metadata": {
      "needs_background": "light"
     },
     "output_type": "display_data"
    }
   ],
   "source": [
    "fig, ax = plt.subplots(figsize=(0.4, 1), dpi=300)\n",
    "\n",
    "ax.axis('off')\n",
    "\n",
    "from matplotlib import patches\n",
    "\n",
    "p1 = patches.Rectangle((0, 0), 1, a, fc='#5ec5a9')\n",
    "p2 = patches.Rectangle((1.5, a - b), 1, c, fc='#e93400')\n",
    "\n",
    "ax.add_patch(p1)\n",
    "ax.add_patch(p2)\n",
    "ax.set_ylim(a + b + c, 0)\n",
    "ax.set_xlim(-0.5, 7)\n",
    "\n",
    "ax.axhline(a - b, c='lightgray', linestyle='--')\n",
    "ax.axhline(a, c='lightgray', linestyle='--')\n",
    "\n",
    "ax.text(3, (a - b) / 2, a - b, fontsize=labelsize, va='center')\n",
    "ax.text(3, a - (b) / 2, b, fontsize=labelsize, va='center')\n",
    "ax.text(3, a + (c - b) / 2, c - b, fontsize=labelsize)\n",
    "fig.savefig('other_gene_overlap.pdf')"
   ]
  },
  {
   "cell_type": "code",
   "execution_count": null,
   "metadata": {},
   "outputs": [],
   "source": []
  },
  {
   "cell_type": "code",
   "execution_count": null,
   "metadata": {},
   "outputs": [],
   "source": []
  },
  {
   "cell_type": "code",
   "execution_count": null,
   "metadata": {},
   "outputs": [],
   "source": []
  },
  {
   "cell_type": "code",
   "execution_count": null,
   "metadata": {},
   "outputs": [],
   "source": []
  }
 ],
 "metadata": {
  "hide_input": false,
  "kernelspec": {
   "display_name": "Python 3",
   "language": "python",
   "name": "python3"
  },
  "language_info": {
   "codemirror_mode": {
    "name": "ipython",
    "version": 3
   },
   "file_extension": ".py",
   "mimetype": "text/x-python",
   "name": "python",
   "nbconvert_exporter": "python",
   "pygments_lexer": "ipython3",
   "version": "3.7.3"
  },
  "toc": {
   "base_numbering": 1,
   "nav_menu": {},
   "number_sections": true,
   "sideBar": true,
   "skip_h1_title": true,
   "title_cell": "Table of Contents",
   "title_sidebar": "Contents",
   "toc_cell": false,
   "toc_position": {},
   "toc_section_display": true,
   "toc_window_display": true
  }
 },
 "nbformat": 4,
 "nbformat_minor": 2
}
