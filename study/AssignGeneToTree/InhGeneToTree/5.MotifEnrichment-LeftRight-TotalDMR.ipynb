{
 "cells": [
  {
   "cell_type": "code",
   "execution_count": 1,
   "metadata": {
    "ExecuteTime": {
     "end_time": "2020-02-22T21:27:26.172980Z",
     "start_time": "2020-02-22T21:27:25.387562Z"
    }
   },
   "outputs": [],
   "source": [
    "from concurrent.futures import ProcessPoolExecutor, as_completed\n",
    "\n",
    "import anndata\n",
    "import matplotlib.pyplot as plt\n",
    "import numpy as np\n",
    "import pandas as pd\n",
    "import pybedtools\n",
    "import scipy.stats as stats\n",
    "import seaborn as sns\n",
    "from statsmodels.stats.multitest import multipletests"
   ]
  },
  {
   "cell_type": "markdown",
   "metadata": {
    "ExecuteTime": {
     "end_time": "2020-02-20T03:35:48.834089Z",
     "start_time": "2020-02-20T03:35:48.832019Z"
    }
   },
   "source": [
    "## Parameters"
   ]
  },
  {
   "cell_type": "code",
   "execution_count": 2,
   "metadata": {
    "ExecuteTime": {
     "end_time": "2020-02-22T21:27:26.178097Z",
     "start_time": "2020-02-22T21:27:26.175124Z"
    }
   },
   "outputs": [],
   "source": [
    "# relavent score cutoff\n",
    "rs_cutoff = 0.3\n",
    "min_dmr_to_test = 1000 # on either side\n",
    "\n",
    "# motif enrichment\n",
    "or_cutoff = 1.6\n",
    "neg_lgp_cutoff = 10\n",
    "mask_quantile_to_max = 0.8"
   ]
  },
  {
   "cell_type": "markdown",
   "metadata": {},
   "source": [
    "## Load Data"
   ]
  },
  {
   "cell_type": "markdown",
   "metadata": {},
   "source": [
    "### Motif gene"
   ]
  },
  {
   "cell_type": "code",
   "execution_count": 3,
   "metadata": {
    "ExecuteTime": {
     "end_time": "2020-02-22T21:27:26.198455Z",
     "start_time": "2020-02-22T21:27:26.182550Z"
    }
   },
   "outputs": [
    {
     "data": {
      "text/html": [
       "<div>\n",
       "<style scoped>\n",
       "    .dataframe tbody tr th:only-of-type {\n",
       "        vertical-align: middle;\n",
       "    }\n",
       "\n",
       "    .dataframe tbody tr th {\n",
       "        vertical-align: top;\n",
       "    }\n",
       "\n",
       "    .dataframe thead th {\n",
       "        text-align: right;\n",
       "    }\n",
       "</style>\n",
       "<table border=\"1\" class=\"dataframe\">\n",
       "  <thead>\n",
       "    <tr style=\"text-align: right;\">\n",
       "      <th></th>\n",
       "      <th>motif_name</th>\n",
       "      <th>motif_genes</th>\n",
       "      <th>gene_ids</th>\n",
       "      <th>gene_names</th>\n",
       "      <th>motif_group</th>\n",
       "    </tr>\n",
       "    <tr>\n",
       "      <th>motif_uid</th>\n",
       "      <th></th>\n",
       "      <th></th>\n",
       "      <th></th>\n",
       "      <th></th>\n",
       "      <th></th>\n",
       "    </tr>\n",
       "  </thead>\n",
       "  <tbody>\n",
       "    <tr>\n",
       "      <th>MA0006.1</th>\n",
       "      <td>Ahr::Arnt</td>\n",
       "      <td>Ahr,Arnt</td>\n",
       "      <td>ENSMUSG00000019256.17,ENSMUSG00000015522.18</td>\n",
       "      <td>Ahr,Arnt</td>\n",
       "      <td>MotifGroup178</td>\n",
       "    </tr>\n",
       "    <tr>\n",
       "      <th>MA0854.1</th>\n",
       "      <td>Alx1</td>\n",
       "      <td>Alx1</td>\n",
       "      <td>ENSMUSG00000036602.14</td>\n",
       "      <td>Alx1</td>\n",
       "      <td>MotifGroup3</td>\n",
       "    </tr>\n",
       "    <tr>\n",
       "      <th>MA0634.1</th>\n",
       "      <td>ALX3</td>\n",
       "      <td>ALX3</td>\n",
       "      <td>ENSMUSG00000014603.3</td>\n",
       "      <td>Alx3</td>\n",
       "      <td>MotifGroup3</td>\n",
       "    </tr>\n",
       "    <tr>\n",
       "      <th>MA0853.1</th>\n",
       "      <td>Alx4</td>\n",
       "      <td>Alx4</td>\n",
       "      <td>ENSMUSG00000040310.12</td>\n",
       "      <td>Alx4</td>\n",
       "      <td>MotifGroup3</td>\n",
       "    </tr>\n",
       "    <tr>\n",
       "      <th>MA0007.3</th>\n",
       "      <td>Ar</td>\n",
       "      <td>Ar</td>\n",
       "      <td>ENSMUSG00000046532.8</td>\n",
       "      <td>Ar</td>\n",
       "      <td>MotifGroup32</td>\n",
       "    </tr>\n",
       "  </tbody>\n",
       "</table>\n",
       "</div>"
      ],
      "text/plain": [
       "          motif_name motif_genes                                     gene_ids  \\\n",
       "motif_uid                                                                       \n",
       "MA0006.1   Ahr::Arnt    Ahr,Arnt  ENSMUSG00000019256.17,ENSMUSG00000015522.18   \n",
       "MA0854.1        Alx1        Alx1                        ENSMUSG00000036602.14   \n",
       "MA0634.1        ALX3        ALX3                         ENSMUSG00000014603.3   \n",
       "MA0853.1        Alx4        Alx4                        ENSMUSG00000040310.12   \n",
       "MA0007.3          Ar          Ar                         ENSMUSG00000046532.8   \n",
       "\n",
       "          gene_names    motif_group  \n",
       "motif_uid                            \n",
       "MA0006.1    Ahr,Arnt  MotifGroup178  \n",
       "MA0854.1        Alx1    MotifGroup3  \n",
       "MA0634.1        Alx3    MotifGroup3  \n",
       "MA0853.1        Alx4    MotifGroup3  \n",
       "MA0007.3          Ar   MotifGroup32  "
      ]
     },
     "execution_count": 3,
     "metadata": {},
     "output_type": "execute_result"
    }
   ],
   "source": [
    "motif_gene_anno = pd.read_csv(\n",
    "    '/home/hanliu/project/mouse_rostral_brain/study/MotifClustering/JASPAR2020_CORE_vertebrates_non-redundant.mouse_genes.with_motif_group.199.csv', \n",
    "    index_col=0\n",
    ")\n",
    "motif_gene_anno.head()"
   ]
  },
  {
   "cell_type": "markdown",
   "metadata": {},
   "source": [
    "### Node Data"
   ]
  },
  {
   "cell_type": "code",
   "execution_count": 4,
   "metadata": {
    "ExecuteTime": {
     "end_time": "2020-02-22T21:27:35.629017Z",
     "start_time": "2020-02-22T21:27:26.199881Z"
    }
   },
   "outputs": [],
   "source": [
    "adata = anndata.read_h5ad('NodeDMRResults.total_dmr.h5ad')"
   ]
  },
  {
   "cell_type": "code",
   "execution_count": 5,
   "metadata": {
    "ExecuteTime": {
     "end_time": "2020-02-22T21:27:35.870108Z",
     "start_time": "2020-02-22T21:27:35.631070Z"
    }
   },
   "outputs": [],
   "source": [
    "use_dmr = adata.var_names[((adata.X != 0).sum(axis=0) != 0).A1]"
   ]
  },
  {
   "cell_type": "markdown",
   "metadata": {},
   "source": [
    "### DMR Bed"
   ]
  },
  {
   "cell_type": "code",
   "execution_count": 6,
   "metadata": {
    "ExecuteTime": {
     "end_time": "2020-02-22T21:27:43.730012Z",
     "start_time": "2020-02-22T21:27:35.871673Z"
    }
   },
   "outputs": [],
   "source": [
    "with pd.HDFStore('/home/hanliu/project/mouse_rostral_brain/DMR/SubType/Total/DMRInfo.h5') as hdf:\n",
    "    dmr_bed_df = hdf['bed'].loc[use_dmr]"
   ]
  },
  {
   "cell_type": "markdown",
   "metadata": {},
   "source": [
    "### DMR annot"
   ]
  },
  {
   "cell_type": "code",
   "execution_count": 7,
   "metadata": {
    "ExecuteTime": {
     "end_time": "2020-02-22T21:28:09.206181Z",
     "start_time": "2020-02-22T21:27:43.732198Z"
    },
    "scrolled": true
   },
   "outputs": [
    {
     "data": {
      "text/plain": [
       "AnnData object with n_obs × n_vars = 2435396 × 719 \n",
       "    obs: 'chrom', 'start', 'end'"
      ]
     },
     "execution_count": 7,
     "metadata": {},
     "output_type": "execute_result"
    }
   ],
   "source": [
    "dmr_annot = anndata.read_h5ad(\n",
    "    '/home/hanliu/project/mouse_rostral_brain/DMR/SubType/Total/MotifScan.h5ad'\n",
    ")\n",
    "# mask small motif scores\n",
    "motif_cutoff = pd.Series(dmr_annot.X.max(axis=0).todense().A1 * mask_quantile_to_max, index=dmr_annot.var_names)\n",
    "\n",
    "dmr_annot = dmr_annot[use_dmr, :].copy()\n",
    "dmr_annot"
   ]
  },
  {
   "cell_type": "markdown",
   "metadata": {},
   "source": [
    "## Refilter scores"
   ]
  },
  {
   "cell_type": "code",
   "execution_count": 8,
   "metadata": {
    "ExecuteTime": {
     "end_time": "2020-02-22T21:28:38.193690Z",
     "start_time": "2020-02-22T21:28:09.208201Z"
    }
   },
   "outputs": [],
   "source": [
    "# only keep value larger than the cutoff for each motif\n",
    "dmr_annot.X = dmr_annot.X.multiply(\n",
    "    (dmr_annot.X >\n",
    "     motif_cutoff[dmr_annot.var_names].values[None, :]).astype(int)).tocsr()"
   ]
  },
  {
   "cell_type": "markdown",
   "metadata": {},
   "source": [
    "## Test for each node"
   ]
  },
  {
   "cell_type": "code",
   "execution_count": 9,
   "metadata": {
    "ExecuteTime": {
     "end_time": "2020-02-22T21:28:38.234437Z",
     "start_time": "2020-02-22T21:28:38.222288Z"
    }
   },
   "outputs": [],
   "source": [
    "def node_dmr_motif_enrichment(node):\n",
    "    # get node relavent score\n",
    "    node_dmr_relavent_scores = pd.Series(adata.var_vector(node),\n",
    "                                         index=adata.var_names)\n",
    "\n",
    "    # get node left right dmr\n",
    "    left_dmr = node_dmr_relavent_scores[node_dmr_relavent_scores > rs_cutoff]\n",
    "    right_dmr = node_dmr_relavent_scores[node_dmr_relavent_scores < -rs_cutoff]\n",
    "\n",
    "    # get dmr motif hits annotation\n",
    "    left_dmr_annot = dmr_annot[left_dmr.index, :]\n",
    "    right_dmr_annot = dmr_annot[right_dmr.index, :]\n",
    "\n",
    "    # if DMR is not enough, skip and return empty record\n",
    "    if (left_dmr.size < min_dmr_to_test) or (left_dmr.size < min_dmr_to_test):\n",
    "        empty_record = pd.DataFrame([],\n",
    "                                    columns=[\n",
    "                                        'oddsratio', 'p_value', 'adj_p',\n",
    "                                        '-lgp', 'left_hit', 'left_no_hit',\n",
    "                                        'right_hit', 'right_no_hit',\n",
    "                                        'left_hit_rate', 'right_hit_rate',\n",
    "                                        'Node'\n",
    "                                    ])\n",
    "        return empty_record\n",
    "\n",
    "    # get table\n",
    "    motif_ids = dmr_annot.var_names\n",
    "    # calculate motif occurence, not considering hits here\n",
    "    left = (left_dmr_annot[:, motif_ids].X > 0).sum(axis=0)\n",
    "    left_total = left_dmr_annot.shape[0]\n",
    "\n",
    "    right = (right_dmr_annot.X > 0).sum(axis=0)\n",
    "    right_total = right_dmr_annot.shape[0]\n",
    "\n",
    "    tables = {}\n",
    "    for motif, _left, _right in zip(motif_ids, left.A1, right.A1):\n",
    "        table = [[_left, left_total - _left], [_right, right_total - _right]]\n",
    "        tables[motif] = table\n",
    "\n",
    "    # do test\n",
    "    results = {}\n",
    "    with ProcessPoolExecutor(40) as executor:\n",
    "        fs = {}\n",
    "        for motif, t in tables.items():\n",
    "            f = executor.submit(stats.fisher_exact, t, alternative='two-sided')\n",
    "            fs[f] = motif\n",
    "\n",
    "        for f in as_completed(fs):\n",
    "            motif = fs[f]\n",
    "            odds, p = f.result()\n",
    "            results[motif] = {'oddsratio': odds, 'p_value': p}\n",
    "    motif_enrich_df = pd.DataFrame(results).T\n",
    "\n",
    "    # p value correction\n",
    "    _, p, _, _ = multipletests(motif_enrich_df['p_value'], method='fdr_bh')\n",
    "    motif_enrich_df['adj_p'] = p\n",
    "    motif_enrich_df['-lgp'] = -np.log10(motif_enrich_df['adj_p']).replace(\n",
    "        -np.inf, -300)\n",
    "\n",
    "    # assemble final results\n",
    "    records = {}\n",
    "    for motif, t in tables.items():\n",
    "        tp, tn = t[0]\n",
    "        fp, fn = t[1]\n",
    "        tp_rate = tp / left_total\n",
    "        fp_rate = fp / right_total\n",
    "        records[motif] = dict(left_hit=tp,\n",
    "                              left_no_hit=tn,\n",
    "                              right_hit=fp,\n",
    "                              right_no_hit=fn,\n",
    "                              left_hit_rate=tp_rate,\n",
    "                              right_hit_rate=fp_rate)\n",
    "    counts = pd.DataFrame(records).T\n",
    "    motif_enrich_df = pd.concat([motif_enrich_df, counts], axis=1, sort=True)\n",
    "    motif_enrich_df['Node'] = node\n",
    "\n",
    "    # apply a minimum filter\n",
    "    motif_enrich_df = motif_enrich_df[motif_enrich_df['-lgp'] > 1]\n",
    "\n",
    "    return motif_enrich_df"
   ]
  },
  {
   "cell_type": "code",
   "execution_count": null,
   "metadata": {
    "ExecuteTime": {
     "start_time": "2020-02-22T21:27:27.856Z"
    },
    "scrolled": true
   },
   "outputs": [
    {
     "name": "stdout",
     "output_type": "stream",
     "text": [
      "77 404\n",
      "78 391\n",
      "79 371\n"
     ]
    }
   ],
   "source": [
    "total_data = []\n",
    "for node in adata.obs_names:\n",
    "    data = node_dmr_motif_enrichment(node)\n",
    "    print(node, data.shape[0])\n",
    "    total_data.append(data)"
   ]
  },
  {
   "cell_type": "code",
   "execution_count": null,
   "metadata": {
    "ExecuteTime": {
     "start_time": "2020-02-22T21:27:27.945Z"
    }
   },
   "outputs": [],
   "source": [
    "total_data = pd.concat(total_data)\n",
    "total_data['log2odds'] = np.log2(total_data['oddsratio'])\n",
    "total_data.to_msgpack('NodeMotifEnrichment.total_DMR.msg')"
   ]
  },
  {
   "cell_type": "code",
   "execution_count": null,
   "metadata": {
    "ExecuteTime": {
     "start_time": "2020-02-22T21:27:28.027Z"
    }
   },
   "outputs": [],
   "source": [
    "total_data[(total_data['log2odds'].abs() > 1)\n",
    "           & (total_data['-lgp'] > 10)]['Node'].value_counts().reindex(\n",
    "               adata.obs_names)[20:]"
   ]
  },
  {
   "cell_type": "code",
   "execution_count": null,
   "metadata": {},
   "outputs": [],
   "source": []
  },
  {
   "cell_type": "code",
   "execution_count": null,
   "metadata": {},
   "outputs": [],
   "source": []
  },
  {
   "cell_type": "code",
   "execution_count": null,
   "metadata": {},
   "outputs": [],
   "source": []
  },
  {
   "cell_type": "code",
   "execution_count": null,
   "metadata": {},
   "outputs": [],
   "source": []
  },
  {
   "cell_type": "code",
   "execution_count": null,
   "metadata": {},
   "outputs": [],
   "source": []
  },
  {
   "cell_type": "code",
   "execution_count": null,
   "metadata": {},
   "outputs": [],
   "source": []
  },
  {
   "cell_type": "code",
   "execution_count": null,
   "metadata": {},
   "outputs": [],
   "source": []
  },
  {
   "cell_type": "code",
   "execution_count": null,
   "metadata": {},
   "outputs": [],
   "source": []
  },
  {
   "cell_type": "code",
   "execution_count": null,
   "metadata": {},
   "outputs": [],
   "source": []
  },
  {
   "cell_type": "code",
   "execution_count": null,
   "metadata": {},
   "outputs": [],
   "source": []
  },
  {
   "cell_type": "code",
   "execution_count": null,
   "metadata": {},
   "outputs": [],
   "source": []
  },
  {
   "cell_type": "code",
   "execution_count": null,
   "metadata": {},
   "outputs": [],
   "source": []
  },
  {
   "cell_type": "code",
   "execution_count": null,
   "metadata": {},
   "outputs": [],
   "source": []
  },
  {
   "cell_type": "code",
   "execution_count": null,
   "metadata": {},
   "outputs": [],
   "source": []
  },
  {
   "cell_type": "code",
   "execution_count": null,
   "metadata": {},
   "outputs": [],
   "source": []
  },
  {
   "cell_type": "code",
   "execution_count": null,
   "metadata": {},
   "outputs": [],
   "source": []
  },
  {
   "cell_type": "code",
   "execution_count": null,
   "metadata": {},
   "outputs": [],
   "source": []
  },
  {
   "cell_type": "code",
   "execution_count": null,
   "metadata": {},
   "outputs": [],
   "source": []
  },
  {
   "cell_type": "code",
   "execution_count": null,
   "metadata": {},
   "outputs": [],
   "source": []
  },
  {
   "cell_type": "code",
   "execution_count": null,
   "metadata": {},
   "outputs": [],
   "source": []
  }
 ],
 "metadata": {
  "hide_input": false,
  "kernelspec": {
   "display_name": "Python 3",
   "language": "python",
   "name": "python3"
  },
  "language_info": {
   "codemirror_mode": {
    "name": "ipython",
    "version": 3
   },
   "file_extension": ".py",
   "mimetype": "text/x-python",
   "name": "python",
   "nbconvert_exporter": "python",
   "pygments_lexer": "ipython3",
   "version": "3.7.3"
  },
  "toc": {
   "base_numbering": 1,
   "nav_menu": {},
   "number_sections": true,
   "sideBar": true,
   "skip_h1_title": true,
   "title_cell": "Table of Contents",
   "title_sidebar": "Contents",
   "toc_cell": false,
   "toc_position": {},
   "toc_section_display": true,
   "toc_window_display": true
  }
 },
 "nbformat": 4,
 "nbformat_minor": 2
}
