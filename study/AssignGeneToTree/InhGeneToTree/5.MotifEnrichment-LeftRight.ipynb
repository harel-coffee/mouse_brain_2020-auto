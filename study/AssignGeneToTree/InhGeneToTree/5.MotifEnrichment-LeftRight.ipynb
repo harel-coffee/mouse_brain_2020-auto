{
 "cells": [
  {
   "cell_type": "code",
   "execution_count": 1,
   "metadata": {
    "ExecuteTime": {
     "end_time": "2020-02-20T17:49:01.602125Z",
     "start_time": "2020-02-20T17:49:00.924888Z"
    }
   },
   "outputs": [],
   "source": [
    "from concurrent.futures import ProcessPoolExecutor, as_completed\n",
    "\n",
    "import anndata\n",
    "import matplotlib.pyplot as plt\n",
    "import numpy as np\n",
    "import pandas as pd\n",
    "import pybedtools\n",
    "import scipy.stats as stats\n",
    "import seaborn as sns\n",
    "from statsmodels.stats.multitest import multipletests"
   ]
  },
  {
   "cell_type": "markdown",
   "metadata": {
    "ExecuteTime": {
     "end_time": "2020-02-20T03:35:48.834089Z",
     "start_time": "2020-02-20T03:35:48.832019Z"
    }
   },
   "source": [
    "## Parameters"
   ]
  },
  {
   "cell_type": "code",
   "execution_count": 2,
   "metadata": {
    "ExecuteTime": {
     "end_time": "2020-02-20T17:49:01.607216Z",
     "start_time": "2020-02-20T17:49:01.604549Z"
    }
   },
   "outputs": [],
   "source": [
    "# relavent score cutoff\n",
    "rs_cutoff = 0.3\n",
    "min_dmr_to_test = 1000 # on either side\n",
    "\n",
    "# motif enrichment\n",
    "or_cutoff = 1.6\n",
    "neg_lgp_cutoff = 10\n",
    "mask_quantile_to_max = 0.8"
   ]
  },
  {
   "cell_type": "markdown",
   "metadata": {},
   "source": [
    "## Load Data"
   ]
  },
  {
   "cell_type": "markdown",
   "metadata": {},
   "source": [
    "### Motif gene"
   ]
  },
  {
   "cell_type": "code",
   "execution_count": 3,
   "metadata": {
    "ExecuteTime": {
     "end_time": "2020-02-20T17:49:01.625141Z",
     "start_time": "2020-02-20T17:49:01.608635Z"
    }
   },
   "outputs": [
    {
     "data": {
      "text/html": [
       "<div>\n",
       "<style scoped>\n",
       "    .dataframe tbody tr th:only-of-type {\n",
       "        vertical-align: middle;\n",
       "    }\n",
       "\n",
       "    .dataframe tbody tr th {\n",
       "        vertical-align: top;\n",
       "    }\n",
       "\n",
       "    .dataframe thead th {\n",
       "        text-align: right;\n",
       "    }\n",
       "</style>\n",
       "<table border=\"1\" class=\"dataframe\">\n",
       "  <thead>\n",
       "    <tr style=\"text-align: right;\">\n",
       "      <th></th>\n",
       "      <th>motif_name</th>\n",
       "      <th>motif_genes</th>\n",
       "      <th>gene_ids</th>\n",
       "      <th>gene_names</th>\n",
       "      <th>motif_group</th>\n",
       "    </tr>\n",
       "    <tr>\n",
       "      <th>motif_uid</th>\n",
       "      <th></th>\n",
       "      <th></th>\n",
       "      <th></th>\n",
       "      <th></th>\n",
       "      <th></th>\n",
       "    </tr>\n",
       "  </thead>\n",
       "  <tbody>\n",
       "    <tr>\n",
       "      <th>MA0006.1</th>\n",
       "      <td>Ahr::Arnt</td>\n",
       "      <td>Ahr,Arnt</td>\n",
       "      <td>ENSMUSG00000019256.17,ENSMUSG00000015522.18</td>\n",
       "      <td>Ahr,Arnt</td>\n",
       "      <td>MotifGroup178</td>\n",
       "    </tr>\n",
       "    <tr>\n",
       "      <th>MA0854.1</th>\n",
       "      <td>Alx1</td>\n",
       "      <td>Alx1</td>\n",
       "      <td>ENSMUSG00000036602.14</td>\n",
       "      <td>Alx1</td>\n",
       "      <td>MotifGroup3</td>\n",
       "    </tr>\n",
       "    <tr>\n",
       "      <th>MA0634.1</th>\n",
       "      <td>ALX3</td>\n",
       "      <td>ALX3</td>\n",
       "      <td>ENSMUSG00000014603.3</td>\n",
       "      <td>Alx3</td>\n",
       "      <td>MotifGroup3</td>\n",
       "    </tr>\n",
       "    <tr>\n",
       "      <th>MA0853.1</th>\n",
       "      <td>Alx4</td>\n",
       "      <td>Alx4</td>\n",
       "      <td>ENSMUSG00000040310.12</td>\n",
       "      <td>Alx4</td>\n",
       "      <td>MotifGroup3</td>\n",
       "    </tr>\n",
       "    <tr>\n",
       "      <th>MA0007.3</th>\n",
       "      <td>Ar</td>\n",
       "      <td>Ar</td>\n",
       "      <td>ENSMUSG00000046532.8</td>\n",
       "      <td>Ar</td>\n",
       "      <td>MotifGroup32</td>\n",
       "    </tr>\n",
       "  </tbody>\n",
       "</table>\n",
       "</div>"
      ],
      "text/plain": [
       "          motif_name motif_genes                                     gene_ids  \\\n",
       "motif_uid                                                                       \n",
       "MA0006.1   Ahr::Arnt    Ahr,Arnt  ENSMUSG00000019256.17,ENSMUSG00000015522.18   \n",
       "MA0854.1        Alx1        Alx1                        ENSMUSG00000036602.14   \n",
       "MA0634.1        ALX3        ALX3                         ENSMUSG00000014603.3   \n",
       "MA0853.1        Alx4        Alx4                        ENSMUSG00000040310.12   \n",
       "MA0007.3          Ar          Ar                         ENSMUSG00000046532.8   \n",
       "\n",
       "          gene_names    motif_group  \n",
       "motif_uid                            \n",
       "MA0006.1    Ahr,Arnt  MotifGroup178  \n",
       "MA0854.1        Alx1    MotifGroup3  \n",
       "MA0634.1        Alx3    MotifGroup3  \n",
       "MA0853.1        Alx4    MotifGroup3  \n",
       "MA0007.3          Ar   MotifGroup32  "
      ]
     },
     "execution_count": 3,
     "metadata": {},
     "output_type": "execute_result"
    }
   ],
   "source": [
    "motif_gene_anno = pd.read_csv(\n",
    "    '/home/hanliu/project/mouse_rostral_brain/study/MotifClustering/JASPAR2020_CORE_vertebrates_non-redundant.mouse_genes.with_motif_group.199.csv', \n",
    "    index_col=0\n",
    ")\n",
    "motif_gene_anno.head()"
   ]
  },
  {
   "cell_type": "markdown",
   "metadata": {},
   "source": [
    "### Node Data"
   ]
  },
  {
   "cell_type": "code",
   "execution_count": 4,
   "metadata": {
    "ExecuteTime": {
     "end_time": "2020-02-20T17:49:11.187896Z",
     "start_time": "2020-02-20T17:49:01.626441Z"
    }
   },
   "outputs": [],
   "source": [
    "adata = anndata.read_h5ad('NodeDMRResults.h5ad')"
   ]
  },
  {
   "cell_type": "code",
   "execution_count": 5,
   "metadata": {
    "ExecuteTime": {
     "end_time": "2020-02-20T17:49:11.274632Z",
     "start_time": "2020-02-20T17:49:11.191009Z"
    }
   },
   "outputs": [],
   "source": [
    "use_dmr = adata.var_names[((adata.X != 0).sum(axis=0) != 0).A1]"
   ]
  },
  {
   "cell_type": "markdown",
   "metadata": {},
   "source": [
    "### DMR Bed"
   ]
  },
  {
   "cell_type": "code",
   "execution_count": 6,
   "metadata": {
    "ExecuteTime": {
     "end_time": "2020-02-20T17:49:17.821273Z",
     "start_time": "2020-02-20T17:49:11.277039Z"
    }
   },
   "outputs": [],
   "source": [
    "with pd.HDFStore('/home/hanliu/project/mouse_rostral_brain/DMR/SubType/Total/DMRInfo.h5') as hdf:\n",
    "    dmr_bed_df = hdf['bed'].loc[use_dmr]"
   ]
  },
  {
   "cell_type": "markdown",
   "metadata": {},
   "source": [
    "### DMR annot"
   ]
  },
  {
   "cell_type": "code",
   "execution_count": 7,
   "metadata": {
    "ExecuteTime": {
     "end_time": "2020-02-20T17:49:39.435390Z",
     "start_time": "2020-02-20T17:49:17.822916Z"
    },
    "scrolled": true
   },
   "outputs": [
    {
     "data": {
      "text/plain": [
       "AnnData object with n_obs × n_vars = 297427 × 719 \n",
       "    obs: 'chrom', 'start', 'end'"
      ]
     },
     "execution_count": 7,
     "metadata": {},
     "output_type": "execute_result"
    }
   ],
   "source": [
    "dmr_annot = anndata.read_h5ad(\n",
    "    '/home/hanliu/project/mouse_rostral_brain/DMR/SubType/Total/MotifScan.h5ad'\n",
    ")\n",
    "# mask small motif scores\n",
    "motif_cutoff = pd.Series(dmr_annot.X.max(axis=0).todense().A1 * mask_quantile_to_max, index=dmr_annot.var_names)\n",
    "\n",
    "dmr_annot = dmr_annot[use_dmr, :].copy()\n",
    "dmr_annot"
   ]
  },
  {
   "cell_type": "markdown",
   "metadata": {},
   "source": [
    "## Refilter scores"
   ]
  },
  {
   "cell_type": "code",
   "execution_count": 8,
   "metadata": {
    "ExecuteTime": {
     "end_time": "2020-02-20T17:49:42.963318Z",
     "start_time": "2020-02-20T17:49:39.436761Z"
    }
   },
   "outputs": [],
   "source": [
    "# only keep value larger than the cutoff for each motif\n",
    "dmr_annot.X = dmr_annot.X.multiply(\n",
    "    (dmr_annot.X >\n",
    "     motif_cutoff[dmr_annot.var_names].values[None, :]).astype(int)).tocsr()"
   ]
  },
  {
   "cell_type": "markdown",
   "metadata": {},
   "source": [
    "## Test for each node"
   ]
  },
  {
   "cell_type": "code",
   "execution_count": 9,
   "metadata": {
    "ExecuteTime": {
     "end_time": "2020-02-20T17:49:42.967067Z",
     "start_time": "2020-02-20T17:49:42.964959Z"
    }
   },
   "outputs": [],
   "source": [
    "node = '134'"
   ]
  },
  {
   "cell_type": "code",
   "execution_count": 10,
   "metadata": {
    "ExecuteTime": {
     "end_time": "2020-02-20T17:49:42.981270Z",
     "start_time": "2020-02-20T17:49:42.968440Z"
    }
   },
   "outputs": [],
   "source": [
    "def node_dmr_motif_enrichment(node):\n",
    "    # get node relavent score\n",
    "    node_dmr_relavent_scores = pd.Series(adata.var_vector(node),\n",
    "                                         index=adata.var_names)\n",
    "\n",
    "    # get node left right dmr\n",
    "    left_dmr = node_dmr_relavent_scores[node_dmr_relavent_scores > rs_cutoff]\n",
    "    right_dmr = node_dmr_relavent_scores[node_dmr_relavent_scores < -rs_cutoff]\n",
    "\n",
    "    # get dmr motif hits annotation\n",
    "    left_dmr_annot = dmr_annot[left_dmr.index, :]\n",
    "    right_dmr_annot = dmr_annot[right_dmr.index, :]\n",
    "\n",
    "    # if DMR is not enough, skip and return empty record\n",
    "    if (left_dmr.size < min_dmr_to_test) or (left_dmr.size < min_dmr_to_test):\n",
    "        empty_record = pd.DataFrame([],\n",
    "                                    columns=[\n",
    "                                        'oddsratio', 'p_value', 'adj_p',\n",
    "                                        '-lgp', 'left_hit', 'left_no_hit',\n",
    "                                        'right_hit', 'right_no_hit',\n",
    "                                        'left_hit_rate', 'right_hit_rate',\n",
    "                                        'Node'\n",
    "                                    ])\n",
    "        return empty_record\n",
    "\n",
    "    # get table\n",
    "    motif_ids = dmr_annot.var_names\n",
    "    # calculate motif occurence, not considering hits here\n",
    "    left = (left_dmr_annot[:, motif_ids].X > 0).sum(axis=0)\n",
    "    left_total = left_dmr_annot.shape[0]\n",
    "\n",
    "    right = (right_dmr_annot.X > 0).sum(axis=0)\n",
    "    right_total = right_dmr_annot.shape[0]\n",
    "\n",
    "    tables = {}\n",
    "    for motif, _left, _right in zip(motif_ids, left.A1, right.A1):\n",
    "        table = [[_left, left_total - _left], [_right, right_total - _right]]\n",
    "        tables[motif] = table\n",
    "\n",
    "    # do test\n",
    "    results = {}\n",
    "    with ProcessPoolExecutor(40) as executor:\n",
    "        fs = {}\n",
    "        for motif, t in tables.items():\n",
    "            f = executor.submit(stats.fisher_exact, t, alternative='two-sided')\n",
    "            fs[f] = motif\n",
    "\n",
    "        for f in as_completed(fs):\n",
    "            motif = fs[f]\n",
    "            odds, p = f.result()\n",
    "            results[motif] = {'oddsratio': odds, 'p_value': p}\n",
    "    motif_enrich_df = pd.DataFrame(results).T\n",
    "\n",
    "    # p value correction\n",
    "    _, p, _, _ = multipletests(motif_enrich_df['p_value'], method='fdr_bh')\n",
    "    motif_enrich_df['adj_p'] = p\n",
    "    motif_enrich_df['-lgp'] = -np.log10(motif_enrich_df['adj_p']).replace(\n",
    "        -np.inf, -300)\n",
    "\n",
    "    # assemble final results\n",
    "    records = {}\n",
    "    for motif, t in tables.items():\n",
    "        tp, tn = t[0]\n",
    "        fp, fn = t[1]\n",
    "        tp_rate = tp / left_total\n",
    "        fp_rate = fp / right_total\n",
    "        records[motif] = dict(left_hit=tp,\n",
    "                              left_no_hit=tn,\n",
    "                              right_hit=fp,\n",
    "                              right_no_hit=fn,\n",
    "                              left_hit_rate=tp_rate,\n",
    "                              right_hit_rate=fp_rate)\n",
    "    counts = pd.DataFrame(records).T\n",
    "    motif_enrich_df = pd.concat([motif_enrich_df, counts], axis=1, sort=True)\n",
    "    motif_enrich_df['Node'] = node\n",
    "\n",
    "    # apply a minimum filter\n",
    "    motif_enrich_df = motif_enrich_df[motif_enrich_df['-lgp'] > 1]\n",
    "\n",
    "    return motif_enrich_df"
   ]
  },
  {
   "cell_type": "code",
   "execution_count": 11,
   "metadata": {
    "ExecuteTime": {
     "end_time": "2020-02-20T17:51:01.076569Z",
     "start_time": "2020-02-20T17:49:42.982547Z"
    },
    "scrolled": true
   },
   "outputs": [
    {
     "name": "stdout",
     "output_type": "stream",
     "text": [
      "77 0\n",
      "78 0\n",
      "79 0\n",
      "80 0\n",
      "81 0\n",
      "82 0\n",
      "83 0\n",
      "84 0\n",
      "85 0\n",
      "86 0\n",
      "87 0\n",
      "88 0\n",
      "89 0\n",
      "90 0\n",
      "91 0\n",
      "92 0\n",
      "93 6\n",
      "94 0\n",
      "95 0\n",
      "96 29\n",
      "97 0\n",
      "98 0\n",
      "99 16\n",
      "100 0\n",
      "101 0\n",
      "102 0\n",
      "103 0\n",
      "104 0\n",
      "105 0\n",
      "106 0\n",
      "107 0\n",
      "108 0\n",
      "109 27\n",
      "110 25\n",
      "111 0\n",
      "112 51\n",
      "113 0\n",
      "114 44\n",
      "115 12\n",
      "116 0\n",
      "117 0\n",
      "118 0\n",
      "119 99\n",
      "120 0\n",
      "121 0\n",
      "122 0\n",
      "123 103\n",
      "124 141\n",
      "125 45\n",
      "126 0\n",
      "127 24\n",
      "128 113\n",
      "129 149\n",
      "130 132\n",
      "131 0\n",
      "132 0\n",
      "133 64\n",
      "134 266\n",
      "135 163\n",
      "136 87\n",
      "137 196\n",
      "138 69\n",
      "139 0\n",
      "140 164\n",
      "141 285\n",
      "142 39\n",
      "143 229\n",
      "144 16\n",
      "145 276\n",
      "146 67\n",
      "147 166\n",
      "148 278\n",
      "149 79\n",
      "150 123\n",
      "151 84\n",
      "152 225\n"
     ]
    }
   ],
   "source": [
    "total_data = []\n",
    "for node in adata.obs_names:\n",
    "    data = node_dmr_motif_enrichment(node)\n",
    "    print(node, data.shape[0])\n",
    "    total_data.append(data)"
   ]
  },
  {
   "cell_type": "code",
   "execution_count": 12,
   "metadata": {
    "ExecuteTime": {
     "end_time": "2020-02-20T17:51:01.103181Z",
     "start_time": "2020-02-20T17:51:01.078920Z"
    }
   },
   "outputs": [
    {
     "name": "stderr",
     "output_type": "stream",
     "text": [
      "/home/hanliu/miniconda3/envs/clustering/lib/python3.7/site-packages/pandas/core/series.py:853: RuntimeWarning: divide by zero encountered in log2\n",
      "  result = getattr(ufunc, method)(*inputs, **kwargs)\n",
      "/home/hanliu/miniconda3/envs/clustering/lib/python3.7/site-packages/ipykernel_launcher.py:3: FutureWarning: to_msgpack is deprecated and will be removed in a future version.\n",
      "It is recommended to use pyarrow for on-the-wire transmission of pandas objects.\n",
      "  This is separate from the ipykernel package so we can avoid doing imports until\n"
     ]
    }
   ],
   "source": [
    "total_data = pd.concat(total_data)\n",
    "total_data['log2odds'] = np.log2(total_data['oddsratio'])\n",
    "total_data.to_msgpack('NodeMotifEnrichment.msg')"
   ]
  },
  {
   "cell_type": "code",
   "execution_count": 13,
   "metadata": {
    "ExecuteTime": {
     "end_time": "2020-02-20T17:51:01.115666Z",
     "start_time": "2020-02-20T17:51:01.104705Z"
    }
   },
   "outputs": [
    {
     "data": {
      "text/plain": [
       "index\n",
       "97       NaN\n",
       "98       NaN\n",
       "99       1.0\n",
       "100      NaN\n",
       "101      NaN\n",
       "102      NaN\n",
       "103      NaN\n",
       "104      NaN\n",
       "105      NaN\n",
       "106      NaN\n",
       "107      NaN\n",
       "108      NaN\n",
       "109      NaN\n",
       "110      NaN\n",
       "111      NaN\n",
       "112      6.0\n",
       "113      NaN\n",
       "114      NaN\n",
       "115      NaN\n",
       "116      NaN\n",
       "117      NaN\n",
       "118      NaN\n",
       "119     21.0\n",
       "120      NaN\n",
       "121      NaN\n",
       "122      NaN\n",
       "123      2.0\n",
       "124     35.0\n",
       "125      3.0\n",
       "126      NaN\n",
       "127      NaN\n",
       "128     17.0\n",
       "129     24.0\n",
       "130      9.0\n",
       "131      NaN\n",
       "132      NaN\n",
       "133      5.0\n",
       "134     52.0\n",
       "135     19.0\n",
       "136     17.0\n",
       "137     69.0\n",
       "138      1.0\n",
       "139      NaN\n",
       "140     36.0\n",
       "141     76.0\n",
       "142      4.0\n",
       "143     22.0\n",
       "144      NaN\n",
       "145     74.0\n",
       "146      3.0\n",
       "147     43.0\n",
       "148    128.0\n",
       "149     13.0\n",
       "150     16.0\n",
       "151      7.0\n",
       "152     67.0\n",
       "Name: Node, dtype: float64"
      ]
     },
     "execution_count": 13,
     "metadata": {},
     "output_type": "execute_result"
    }
   ],
   "source": [
    "total_data[(total_data['log2odds'].abs() > 0.5)\n",
    "           & (total_data['-lgp'] > 4)]['Node'].value_counts().reindex(\n",
    "               adata.obs_names)[20:]"
   ]
  },
  {
   "cell_type": "code",
   "execution_count": null,
   "metadata": {},
   "outputs": [],
   "source": []
  },
  {
   "cell_type": "code",
   "execution_count": null,
   "metadata": {},
   "outputs": [],
   "source": []
  },
  {
   "cell_type": "code",
   "execution_count": null,
   "metadata": {},
   "outputs": [],
   "source": []
  },
  {
   "cell_type": "code",
   "execution_count": null,
   "metadata": {},
   "outputs": [],
   "source": []
  },
  {
   "cell_type": "code",
   "execution_count": null,
   "metadata": {},
   "outputs": [],
   "source": []
  },
  {
   "cell_type": "code",
   "execution_count": null,
   "metadata": {},
   "outputs": [],
   "source": []
  },
  {
   "cell_type": "code",
   "execution_count": null,
   "metadata": {},
   "outputs": [],
   "source": []
  },
  {
   "cell_type": "code",
   "execution_count": null,
   "metadata": {},
   "outputs": [],
   "source": []
  },
  {
   "cell_type": "code",
   "execution_count": null,
   "metadata": {},
   "outputs": [],
   "source": []
  },
  {
   "cell_type": "code",
   "execution_count": null,
   "metadata": {},
   "outputs": [],
   "source": []
  },
  {
   "cell_type": "code",
   "execution_count": null,
   "metadata": {},
   "outputs": [],
   "source": []
  },
  {
   "cell_type": "code",
   "execution_count": null,
   "metadata": {},
   "outputs": [],
   "source": []
  },
  {
   "cell_type": "code",
   "execution_count": null,
   "metadata": {},
   "outputs": [],
   "source": []
  },
  {
   "cell_type": "code",
   "execution_count": null,
   "metadata": {},
   "outputs": [],
   "source": []
  },
  {
   "cell_type": "code",
   "execution_count": null,
   "metadata": {},
   "outputs": [],
   "source": []
  },
  {
   "cell_type": "code",
   "execution_count": null,
   "metadata": {},
   "outputs": [],
   "source": []
  },
  {
   "cell_type": "code",
   "execution_count": null,
   "metadata": {},
   "outputs": [],
   "source": []
  },
  {
   "cell_type": "code",
   "execution_count": null,
   "metadata": {},
   "outputs": [],
   "source": []
  },
  {
   "cell_type": "code",
   "execution_count": null,
   "metadata": {},
   "outputs": [],
   "source": []
  },
  {
   "cell_type": "code",
   "execution_count": null,
   "metadata": {},
   "outputs": [],
   "source": []
  }
 ],
 "metadata": {
  "hide_input": false,
  "kernelspec": {
   "display_name": "Python 3",
   "language": "python",
   "name": "python3"
  },
  "language_info": {
   "codemirror_mode": {
    "name": "ipython",
    "version": 3
   },
   "file_extension": ".py",
   "mimetype": "text/x-python",
   "name": "python",
   "nbconvert_exporter": "python",
   "pygments_lexer": "ipython3",
   "version": "3.7.3"
  },
  "toc": {
   "base_numbering": 1,
   "nav_menu": {},
   "number_sections": true,
   "sideBar": true,
   "skip_h1_title": true,
   "title_cell": "Table of Contents",
   "title_sidebar": "Contents",
   "toc_cell": false,
   "toc_position": {},
   "toc_section_display": true,
   "toc_window_display": true
  }
 },
 "nbformat": 4,
 "nbformat_minor": 2
}
