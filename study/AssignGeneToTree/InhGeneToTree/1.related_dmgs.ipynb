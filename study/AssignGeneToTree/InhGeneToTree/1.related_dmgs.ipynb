{
 "cells": [
  {
   "cell_type": "code",
   "execution_count": 1,
   "metadata": {
    "ExecuteTime": {
     "end_time": "2020-02-27T05:32:22.113809Z",
     "start_time": "2020-02-27T05:32:11.770602Z"
    },
    "papermill": {
     "duration": 0.631394,
     "end_time": "2020-01-27T23:39:28.335909",
     "exception": false,
     "start_time": "2020-01-27T23:39:27.704515",
     "status": "completed"
    },
    "tags": []
   },
   "outputs": [],
   "source": [
    "import pandas as pd\n",
    "import xarray as xr\n",
    "import numpy as np\n",
    "import pathlib\n",
    "import seaborn as sns\n",
    "import matplotlib.pyplot as plt"
   ]
  },
  {
   "cell_type": "markdown",
   "metadata": {
    "papermill": {
     "duration": 0.00863,
     "end_time": "2020-01-27T23:39:28.353929",
     "exception": false,
     "start_time": "2020-01-27T23:39:28.345299",
     "status": "completed"
    },
    "tags": []
   },
   "source": [
    "## Parameters"
   ]
  },
  {
   "cell_type": "code",
   "execution_count": 2,
   "metadata": {
    "ExecuteTime": {
     "end_time": "2020-02-27T05:32:22.124561Z",
     "start_time": "2020-02-27T05:32:22.119280Z"
    },
    "papermill": {
     "duration": 0.016146,
     "end_time": "2020-01-27T23:39:28.378209",
     "exception": false,
     "start_time": "2020-01-27T23:39:28.362063",
     "status": "completed"
    },
    "tags": [
     "parameters"
    ]
   },
   "outputs": [],
   "source": [
    "use_clusters = [\n",
    "    'CA3 Cadm2', 'CA1 Chrm3', 'CA3-St18 Tead1', 'Gfra1 Gfra1', 'IT-L5 Etv1',\n",
    "    'CA1 Ptprg', 'NP-L6 Cntnap4', 'CA3-St18 Nuak1', 'CT-L6 Megf9',\n",
    "    'IG-CA2 Chrm3', 'IG-CA2 Peak1', 'DG-po Calb2', 'DG dg-all', 'CA1 Kif26a',\n",
    "    'CA3 Efnb2', 'CA1 Ak5', 'DG-po Bcl11a', 'PT-L5 Tenm2', 'CA1 Lingo2',\n",
    "    'CA3-St18 Epha5', 'IG-CA2 Xpr1', 'DG-po Kctd8', 'CT-L6 Il1rap',\n",
    "    'L6b Adcy8', 'IT-L6 Man1c1', 'NP-L6 Olfml2b', 'PT-L5 Abca12',\n",
    "    'PT-L5 Nectin1', 'IT-L23 Cux1', 'IT-L23 Foxp1', 'IT-L4 Shc3', 'IT-L5 Cdh8',\n",
    "    'IT-L5 Grik3', 'PT-L5 Tmtc2', 'IT-L23 Tenm2', 'NP-L6 Cntnap5a',\n",
    "    'CT-L6 Hcrtr2', 'PT-L5 Plcb4', 'IT-L23 Ptprt', 'CT-L6 Map4', 'NP-L6 Boc',\n",
    "    'PT-L5 Kcnh1', 'OLF-Exc Bmpr1b', 'PT-L5 Astn2', 'IT-L6 Fstl4',\n",
    "    'CLA Bcl11a', 'NP-L6 Cyp7b1', 'CLA Cdh8', 'IT-L6 Cadps2', 'PT-L5 Ptprt',\n",
    "    'NP-L6 Kcnab1', 'IT-L6 Oxr1', 'OLF-Exc Pld5', 'OLF-Exc Lrrtm3',\n",
    "    'OLF-Exc Cdh9', 'OLF-Exc Unc13c', 'L6b Nrp2', 'OLF-Exc Sgcd',\n",
    "    'OLF-Exc Rmst', 'PT-L5 Unc5b', 'L6b Pkhd1', 'L6b Kcnk2', 'IT-L4 Astn2',\n",
    "    'CLA Nrp2', 'EP Tspan5', 'OLF-Exc Cux2', 'EP Rgs8', 'EP Adcy8'\n",
    "]\n",
    "auroc_cutoff = 0.9\n",
    "fc_cutoff = 2\n",
    "delta_cutoff = 0.01\n",
    "rate_to_min = 0.01\n",
    "rate_from_max = 0.01\n",
    "n_repeat_pairs = 2"
   ]
  },
  {
   "cell_type": "code",
   "execution_count": 3,
   "metadata": {
    "ExecuteTime": {
     "end_time": "2020-02-27T05:32:22.135986Z",
     "start_time": "2020-02-27T05:32:22.125901Z"
    },
    "papermill": {
     "duration": 0.015044,
     "end_time": "2020-01-27T23:39:28.400825",
     "exception": false,
     "start_time": "2020-01-27T23:39:28.385781",
     "status": "completed"
    },
    "tags": [
     "injected-parameters"
    ]
   },
   "outputs": [],
   "source": [
    "# Parameters\n",
    "use_clusters = [\"MGE-Sst Rxra\", \"Unc5c Unc5c\", \"MGE-Sst Ptpre\", \"CGE-Lamp5 Dock5\", \"CGE-Vip Ntng1\", \"CGE-Vip Ptprm\", \"CGE-Vip Robo1\", \"MGE-Pvalb Gfra2\", \"PAL-Inh Meis2\", \"MGE-Sst Unc5b\", \"MGE-Pvalb Thsd7a\", \"CGE-Vip Grm8\", \"MGE-Sst Dock4\", \"CGE-Lamp5 Grk5\", \"OLF Xkr6\", \"MSN-D2 Slc24a2\", \"CGE-Lamp5 Sorcs1\", \"MGE-Pvalb Entpd3\", \"MGE-Pvalb Ptprk\", \"CGE-Vip Ccser1\", \"CGE-Lamp5 Grid1\", \"MGE-Pvalb Sema5a\", \"MGE-Sst Kcnip4\", \"MGE-Sst Frmd6\", \"MGE-Pvalb Cnih3\", \"MGE-Sst Ubtd1\", \"MGE-Sst Rerg\", \"CGE-Vip Fstl4\", \"CGE-Vip Galnt17\", \"MGE-Sst Etv1\", \"CGE-Vip Clstn2\", \"CGE-Lamp5 Nrxn3\", \"MGE-Sst Chodl\", \"OLF Trpc4\", \"Foxp2 Homer2\", \"MGE-Pvalb Cacna1i\", \"MSN-D1 Khdrbs3\", \"MSN-D1 Plxnc1\", \"OLF Mapk10\", \"MSN-D1 Hrh1\", \"Foxp2 Trpc7\", \"OLF Pag1\", \"MSN-D2 Col14a1\", \"MGE-Sst Bmper\", \"OLF Gabbr2\", \"OLF Kcnd3\", \"PAL-Inh Deptor\", \"PAL-Inh Meis1\", \"LSX-Inh Cacna1i\", \"D1L-Fstl4 Sipa1l2\", \"PAL-Inh Rarb\", \"MSN-D2 Nrp2\", \"D1L-Fstl4 Trps1\", \"Foxp2 Dchs2\", \"PAL-Inh Chat\", \"D1L-PAL Flrt2\", \"PAL-Inh Igdcc3\", \"PAL-Inh Tmem178\", \"MSN-D1 Ntn1\", \"Foxp2 Inpp4b\", \"MSN-D2 Casz1\", \"Chd7 Kcnc2\", \"PAL-Inh Tcf7l2\", \"D1L-Fstl4 Grm3\", \"D1L-Fstl4 Cadm1\", \"Chd7 Trpc7\", \"PAL-Inh Ptprd\", \"D1L-Fstl4 Crim1\", \"Chd7 Megf11\", \"D1L-PAL Plcxd3\", \"PAL-Inh Onecut2\", \"LSX-Inh Foxp2\", \"LSX-Inh Enox1\", \"LSX-Inh Dock10\", \"LSX-Inh Nxph1\", \"LSX-Inh Zeb2\", \"LSX-Inh Lats2\"]\n",
    "auroc_cutoff = 0.8\n",
    "fc_cutoff = 1\n",
    "delta_cutoff = 0.005\n",
    "#rate_to_min = 0.01\n",
    "#rate_from_max = 0.01\n",
    "\n",
    "n_repeat_pairs = 5\n"
   ]
  },
  {
   "cell_type": "code",
   "execution_count": 4,
   "metadata": {
    "ExecuteTime": {
     "end_time": "2020-02-27T05:32:22.139780Z",
     "start_time": "2020-02-27T05:32:22.137310Z"
    },
    "papermill": {
     "duration": 0.012639,
     "end_time": "2020-01-27T23:39:28.421085",
     "exception": false,
     "start_time": "2020-01-27T23:39:28.408446",
     "status": "completed"
    },
    "tags": []
   },
   "outputs": [],
   "source": [
    "use_clusters = [i.replace('_', ' ') for i in use_clusters]\n",
    "use_clusters = set(use_clusters)"
   ]
  },
  {
   "cell_type": "code",
   "execution_count": 5,
   "metadata": {
    "ExecuteTime": {
     "end_time": "2020-02-27T05:32:22.988429Z",
     "start_time": "2020-02-27T05:32:22.141149Z"
    },
    "papermill": {
     "duration": 0.342548,
     "end_time": "2020-01-27T23:39:28.771222",
     "exception": false,
     "start_time": "2020-01-27T23:39:28.428674",
     "status": "completed"
    },
    "tags": []
   },
   "outputs": [
    {
     "data": {
      "text/html": [
       "<div>\n",
       "<style scoped>\n",
       "    .dataframe tbody tr th:only-of-type {\n",
       "        vertical-align: middle;\n",
       "    }\n",
       "\n",
       "    .dataframe tbody tr th {\n",
       "        vertical-align: top;\n",
       "    }\n",
       "\n",
       "    .dataframe thead th {\n",
       "        text-align: right;\n",
       "    }\n",
       "</style>\n",
       "<table border=\"1\" class=\"dataframe\">\n",
       "  <thead>\n",
       "    <tr style=\"text-align: right;\">\n",
       "      <th>geneslop2k</th>\n",
       "      <th>ENSMUSG00000102693.1</th>\n",
       "      <th>ENSMUSG00000064842.1</th>\n",
       "      <th>ENSMUSG00000051951.5</th>\n",
       "      <th>ENSMUSG00000102851.1</th>\n",
       "      <th>ENSMUSG00000103377.1</th>\n",
       "      <th>ENSMUSG00000104017.1</th>\n",
       "      <th>ENSMUSG00000103025.1</th>\n",
       "      <th>ENSMUSG00000089699.1</th>\n",
       "      <th>ENSMUSG00000103201.1</th>\n",
       "      <th>ENSMUSG00000103147.1</th>\n",
       "      <th>...</th>\n",
       "      <th>ENSMUSG00000064363.1</th>\n",
       "      <th>ENSMUSG00000064364.1</th>\n",
       "      <th>ENSMUSG00000064365.1</th>\n",
       "      <th>ENSMUSG00000064366.1</th>\n",
       "      <th>ENSMUSG00000064367.1</th>\n",
       "      <th>ENSMUSG00000064368.1</th>\n",
       "      <th>ENSMUSG00000064369.1</th>\n",
       "      <th>ENSMUSG00000064370.1</th>\n",
       "      <th>ENSMUSG00000064371.1</th>\n",
       "      <th>ENSMUSG00000064372.1</th>\n",
       "    </tr>\n",
       "    <tr>\n",
       "      <th>SubType</th>\n",
       "      <th></th>\n",
       "      <th></th>\n",
       "      <th></th>\n",
       "      <th></th>\n",
       "      <th></th>\n",
       "      <th></th>\n",
       "      <th></th>\n",
       "      <th></th>\n",
       "      <th></th>\n",
       "      <th></th>\n",
       "      <th></th>\n",
       "      <th></th>\n",
       "      <th></th>\n",
       "      <th></th>\n",
       "      <th></th>\n",
       "      <th></th>\n",
       "      <th></th>\n",
       "      <th></th>\n",
       "      <th></th>\n",
       "      <th></th>\n",
       "      <th></th>\n",
       "    </tr>\n",
       "  </thead>\n",
       "  <tbody>\n",
       "    <tr>\n",
       "      <th>MGE-Sst Rxra</th>\n",
       "      <td>0.036028</td>\n",
       "      <td>0.043546</td>\n",
       "      <td>0.011518</td>\n",
       "      <td>0.012793</td>\n",
       "      <td>0.008664</td>\n",
       "      <td>0.013207</td>\n",
       "      <td>0.013343</td>\n",
       "      <td>0.012206</td>\n",
       "      <td>0.012409</td>\n",
       "      <td>0.012589</td>\n",
       "      <td>...</td>\n",
       "      <td>0.032261</td>\n",
       "      <td>0.032288</td>\n",
       "      <td>0.032410</td>\n",
       "      <td>0.032552</td>\n",
       "      <td>0.034254</td>\n",
       "      <td>0.033398</td>\n",
       "      <td>0.033502</td>\n",
       "      <td>0.033819</td>\n",
       "      <td>0.035191</td>\n",
       "      <td>0.035211</td>\n",
       "    </tr>\n",
       "    <tr>\n",
       "      <th>CA3 Cadm2</th>\n",
       "      <td>0.033156</td>\n",
       "      <td>0.029851</td>\n",
       "      <td>0.009630</td>\n",
       "      <td>0.008696</td>\n",
       "      <td>0.009502</td>\n",
       "      <td>0.010312</td>\n",
       "      <td>0.009555</td>\n",
       "      <td>0.009374</td>\n",
       "      <td>0.009898</td>\n",
       "      <td>0.008947</td>\n",
       "      <td>...</td>\n",
       "      <td>0.025086</td>\n",
       "      <td>0.025137</td>\n",
       "      <td>0.025251</td>\n",
       "      <td>0.025495</td>\n",
       "      <td>0.024930</td>\n",
       "      <td>0.024434</td>\n",
       "      <td>0.024452</td>\n",
       "      <td>0.024956</td>\n",
       "      <td>0.024893</td>\n",
       "      <td>0.024863</td>\n",
       "    </tr>\n",
       "    <tr>\n",
       "      <th>CA1 Chrm3</th>\n",
       "      <td>0.023127</td>\n",
       "      <td>0.024722</td>\n",
       "      <td>0.008233</td>\n",
       "      <td>0.008266</td>\n",
       "      <td>0.009479</td>\n",
       "      <td>0.012860</td>\n",
       "      <td>0.007963</td>\n",
       "      <td>0.008021</td>\n",
       "      <td>0.009220</td>\n",
       "      <td>0.007640</td>\n",
       "      <td>...</td>\n",
       "      <td>0.033007</td>\n",
       "      <td>0.032922</td>\n",
       "      <td>0.032910</td>\n",
       "      <td>0.033188</td>\n",
       "      <td>0.031894</td>\n",
       "      <td>0.030501</td>\n",
       "      <td>0.029690</td>\n",
       "      <td>0.029887</td>\n",
       "      <td>0.029790</td>\n",
       "      <td>0.029634</td>\n",
       "    </tr>\n",
       "    <tr>\n",
       "      <th>CA3-St18 Tead1</th>\n",
       "      <td>0.027134</td>\n",
       "      <td>0.027768</td>\n",
       "      <td>0.017092</td>\n",
       "      <td>0.013822</td>\n",
       "      <td>0.024804</td>\n",
       "      <td>0.040937</td>\n",
       "      <td>0.015322</td>\n",
       "      <td>0.014494</td>\n",
       "      <td>0.019728</td>\n",
       "      <td>0.011044</td>\n",
       "      <td>...</td>\n",
       "      <td>0.034665</td>\n",
       "      <td>0.034462</td>\n",
       "      <td>0.034645</td>\n",
       "      <td>0.034727</td>\n",
       "      <td>0.033429</td>\n",
       "      <td>0.031014</td>\n",
       "      <td>0.029844</td>\n",
       "      <td>0.029497</td>\n",
       "      <td>0.029236</td>\n",
       "      <td>0.029461</td>\n",
       "    </tr>\n",
       "    <tr>\n",
       "      <th>Unc5c Unc5c</th>\n",
       "      <td>0.024149</td>\n",
       "      <td>0.030352</td>\n",
       "      <td>0.011801</td>\n",
       "      <td>0.010621</td>\n",
       "      <td>0.010696</td>\n",
       "      <td>0.014942</td>\n",
       "      <td>0.021727</td>\n",
       "      <td>0.013943</td>\n",
       "      <td>0.014074</td>\n",
       "      <td>0.009287</td>\n",
       "      <td>...</td>\n",
       "      <td>0.032325</td>\n",
       "      <td>0.032111</td>\n",
       "      <td>0.031888</td>\n",
       "      <td>0.031687</td>\n",
       "      <td>0.029979</td>\n",
       "      <td>0.029032</td>\n",
       "      <td>0.028236</td>\n",
       "      <td>0.028392</td>\n",
       "      <td>0.025932</td>\n",
       "      <td>0.026097</td>\n",
       "    </tr>\n",
       "  </tbody>\n",
       "</table>\n",
       "<p>5 rows × 55487 columns</p>\n",
       "</div>"
      ],
      "text/plain": [
       "geneslop2k      ENSMUSG00000102693.1  ENSMUSG00000064842.1  \\\n",
       "SubType                                                      \n",
       "MGE-Sst Rxra                0.036028              0.043546   \n",
       "CA3 Cadm2                   0.033156              0.029851   \n",
       "CA1 Chrm3                   0.023127              0.024722   \n",
       "CA3-St18 Tead1              0.027134              0.027768   \n",
       "Unc5c Unc5c                 0.024149              0.030352   \n",
       "\n",
       "geneslop2k      ENSMUSG00000051951.5  ENSMUSG00000102851.1  \\\n",
       "SubType                                                      \n",
       "MGE-Sst Rxra                0.011518              0.012793   \n",
       "CA3 Cadm2                   0.009630              0.008696   \n",
       "CA1 Chrm3                   0.008233              0.008266   \n",
       "CA3-St18 Tead1              0.017092              0.013822   \n",
       "Unc5c Unc5c                 0.011801              0.010621   \n",
       "\n",
       "geneslop2k      ENSMUSG00000103377.1  ENSMUSG00000104017.1  \\\n",
       "SubType                                                      \n",
       "MGE-Sst Rxra                0.008664              0.013207   \n",
       "CA3 Cadm2                   0.009502              0.010312   \n",
       "CA1 Chrm3                   0.009479              0.012860   \n",
       "CA3-St18 Tead1              0.024804              0.040937   \n",
       "Unc5c Unc5c                 0.010696              0.014942   \n",
       "\n",
       "geneslop2k      ENSMUSG00000103025.1  ENSMUSG00000089699.1  \\\n",
       "SubType                                                      \n",
       "MGE-Sst Rxra                0.013343              0.012206   \n",
       "CA3 Cadm2                   0.009555              0.009374   \n",
       "CA1 Chrm3                   0.007963              0.008021   \n",
       "CA3-St18 Tead1              0.015322              0.014494   \n",
       "Unc5c Unc5c                 0.021727              0.013943   \n",
       "\n",
       "geneslop2k      ENSMUSG00000103201.1  ENSMUSG00000103147.1  ...  \\\n",
       "SubType                                                     ...   \n",
       "MGE-Sst Rxra                0.012409              0.012589  ...   \n",
       "CA3 Cadm2                   0.009898              0.008947  ...   \n",
       "CA1 Chrm3                   0.009220              0.007640  ...   \n",
       "CA3-St18 Tead1              0.019728              0.011044  ...   \n",
       "Unc5c Unc5c                 0.014074              0.009287  ...   \n",
       "\n",
       "geneslop2k      ENSMUSG00000064363.1  ENSMUSG00000064364.1  \\\n",
       "SubType                                                      \n",
       "MGE-Sst Rxra                0.032261              0.032288   \n",
       "CA3 Cadm2                   0.025086              0.025137   \n",
       "CA1 Chrm3                   0.033007              0.032922   \n",
       "CA3-St18 Tead1              0.034665              0.034462   \n",
       "Unc5c Unc5c                 0.032325              0.032111   \n",
       "\n",
       "geneslop2k      ENSMUSG00000064365.1  ENSMUSG00000064366.1  \\\n",
       "SubType                                                      \n",
       "MGE-Sst Rxra                0.032410              0.032552   \n",
       "CA3 Cadm2                   0.025251              0.025495   \n",
       "CA1 Chrm3                   0.032910              0.033188   \n",
       "CA3-St18 Tead1              0.034645              0.034727   \n",
       "Unc5c Unc5c                 0.031888              0.031687   \n",
       "\n",
       "geneslop2k      ENSMUSG00000064367.1  ENSMUSG00000064368.1  \\\n",
       "SubType                                                      \n",
       "MGE-Sst Rxra                0.034254              0.033398   \n",
       "CA3 Cadm2                   0.024930              0.024434   \n",
       "CA1 Chrm3                   0.031894              0.030501   \n",
       "CA3-St18 Tead1              0.033429              0.031014   \n",
       "Unc5c Unc5c                 0.029979              0.029032   \n",
       "\n",
       "geneslop2k      ENSMUSG00000064369.1  ENSMUSG00000064370.1  \\\n",
       "SubType                                                      \n",
       "MGE-Sst Rxra                0.033502              0.033819   \n",
       "CA3 Cadm2                   0.024452              0.024956   \n",
       "CA1 Chrm3                   0.029690              0.029887   \n",
       "CA3-St18 Tead1              0.029844              0.029497   \n",
       "Unc5c Unc5c                 0.028236              0.028392   \n",
       "\n",
       "geneslop2k      ENSMUSG00000064371.1  ENSMUSG00000064372.1  \n",
       "SubType                                                     \n",
       "MGE-Sst Rxra                0.035191              0.035211  \n",
       "CA3 Cadm2                   0.024893              0.024863  \n",
       "CA1 Chrm3                   0.029790              0.029634  \n",
       "CA3-St18 Tead1              0.029236              0.029461  \n",
       "Unc5c Unc5c                 0.025932              0.026097  \n",
       "\n",
       "[5 rows x 55487 columns]"
      ]
     },
     "execution_count": 5,
     "metadata": {},
     "output_type": "execute_result"
    }
   ],
   "source": [
    "subtype_rate = xr.open_dataset(\n",
    "    '/home/hanliu/project/mouse_rostral_brain/study/mCClustermCLevel/SubType.geneslop2k.mcds'\n",
    ")['gene_cluster_da_rate'].sel(mc_type='CHN').to_pandas()\n",
    "subtype_rate.index = subtype_rate.index.map(lambda i: i.replace('_', ' '))\n",
    "subtype_rate.head()"
   ]
  },
  {
   "cell_type": "markdown",
   "metadata": {
    "papermill": {
     "duration": 0.008573,
     "end_time": "2020-01-27T23:39:28.788908",
     "exception": false,
     "start_time": "2020-01-27T23:39:28.780335",
     "status": "completed"
    },
    "tags": []
   },
   "source": [
    "## Total DMG results"
   ]
  },
  {
   "cell_type": "code",
   "execution_count": 6,
   "metadata": {
    "ExecuteTime": {
     "end_time": "2020-02-27T05:32:28.700583Z",
     "start_time": "2020-02-27T05:32:22.990244Z"
    },
    "papermill": {
     "duration": 11.845974,
     "end_time": "2020-01-27T23:39:40.643512",
     "exception": false,
     "start_time": "2020-01-27T23:39:28.797538",
     "status": "completed"
    },
    "tags": []
   },
   "outputs": [
    {
     "name": "stderr",
     "output_type": "stream",
     "text": [
      "/home/hanliu/miniconda3/envs/clustering/lib/python3.7/site-packages/IPython/core/interactiveshell.py:3326: FutureWarning: The read_msgpack is deprecated and will be removed in a future version.\n",
      "It is recommended to use pyarrow for on-the-wire transmission of pandas objects.\n",
      "  exec(code_obj, self.user_global_ns, self.user_ns)\n"
     ]
    }
   ],
   "source": [
    "total_dmg = pd.read_msgpack(\n",
    "    '/home/hanliu/project/mouse_rostral_brain/study/ClusterMethylMarker/InhSubTypePairwiseMarker/TotalPairwiseMarker.msg'\n",
    ")"
   ]
  },
  {
   "cell_type": "code",
   "execution_count": 7,
   "metadata": {
    "ExecuteTime": {
     "end_time": "2020-02-27T05:32:30.854539Z",
     "start_time": "2020-02-27T05:32:28.704445Z"
    },
    "papermill": {
     "duration": 2.570126,
     "end_time": "2020-01-27T23:39:43.223093",
     "exception": false,
     "start_time": "2020-01-27T23:39:40.652967",
     "status": "completed"
    },
    "tags": []
   },
   "outputs": [
    {
     "data": {
      "text/plain": [
       "(5479479, 11)"
      ]
     },
     "execution_count": 7,
     "metadata": {},
     "output_type": "execute_result"
    }
   ],
   "source": [
    "use_dmg = total_dmg[total_dmg['cluster_from'].isin(use_clusters) & \n",
    "                    total_dmg['cluster_to'].isin(use_clusters) & \n",
    "                    (total_dmg['AUROC'] > auroc_cutoff)].copy()\n",
    "use_dmg.shape"
   ]
  },
  {
   "cell_type": "code",
   "execution_count": 8,
   "metadata": {
    "ExecuteTime": {
     "end_time": "2020-02-27T05:36:44.030609Z",
     "start_time": "2020-02-27T05:32:30.856246Z"
    },
    "papermill": {
     "duration": 84.420574,
     "end_time": "2020-01-27T23:41:07.653843",
     "exception": false,
     "start_time": "2020-01-27T23:39:43.233269",
     "status": "completed"
    },
    "tags": []
   },
   "outputs": [],
   "source": [
    "use_dmg['rate_from'] = use_dmg.apply(lambda i: subtype_rate.at[i['cluster_from'], i['gene_id']], axis=1)\n",
    "use_dmg['rate_to'] = use_dmg.apply(lambda i: subtype_rate.at[i['cluster_to'], i['gene_id']], axis=1)"
   ]
  },
  {
   "cell_type": "code",
   "execution_count": 9,
   "metadata": {
    "ExecuteTime": {
     "end_time": "2020-02-27T05:36:46.532816Z",
     "start_time": "2020-02-27T05:36:44.032826Z"
    },
    "papermill": {
     "duration": 0.20871,
     "end_time": "2020-01-27T23:41:08.598492",
     "exception": false,
     "start_time": "2020-01-27T23:41:08.389782",
     "status": "completed"
    },
    "tags": []
   },
   "outputs": [
    {
     "data": {
      "text/plain": [
       "(4500501, 13)"
      ]
     },
     "execution_count": 9,
     "metadata": {},
     "output_type": "execute_result"
    }
   ],
   "source": [
    "fc = use_dmg['rate_to'] / use_dmg['rate_from']\n",
    "delta = use_dmg['rate_to'] - use_dmg['rate_from']\n",
    "use_dmg = use_dmg[(fc > fc_cutoff) & \n",
    "                  (delta > delta_cutoff) #&\n",
    "                  #(use_dmg['rate_to'] > rate_to_min) & \n",
    "                  #(use_dmg['rate_from'] < rate_from_max)\n",
    "                 ].copy()\n",
    "use_dmg.shape"
   ]
  },
  {
   "cell_type": "code",
   "execution_count": 10,
   "metadata": {
    "ExecuteTime": {
     "end_time": "2020-02-27T05:36:48.134367Z",
     "start_time": "2020-02-27T05:36:46.534399Z"
    },
    "papermill": {
     "duration": 0.715915,
     "end_time": "2020-01-27T23:41:08.379754",
     "exception": false,
     "start_time": "2020-01-27T23:41:07.663839",
     "status": "completed"
    },
    "tags": []
   },
   "outputs": [
    {
     "data": {
      "text/plain": [
       "(4490367, 13)"
      ]
     },
     "execution_count": 10,
     "metadata": {},
     "output_type": "execute_result"
    }
   ],
   "source": [
    "repeat_counts = use_dmg['gene_id'].value_counts()\n",
    "# before direction filter, real gene should be larger than n_repeat_pairs\n",
    "use_genes = repeat_counts[repeat_counts > n_repeat_pairs].index\n",
    "use_dmg = use_dmg[use_dmg['gene_id'].isin(use_genes)]\n",
    "use_dmg.shape"
   ]
  },
  {
   "cell_type": "code",
   "execution_count": 11,
   "metadata": {
    "ExecuteTime": {
     "end_time": "2020-02-27T05:36:48.408637Z",
     "start_time": "2020-02-27T05:36:48.135519Z"
    },
    "papermill": {
     "duration": 0.206862,
     "end_time": "2020-01-27T23:41:08.816222",
     "exception": false,
     "start_time": "2020-01-27T23:41:08.609360",
     "status": "completed"
    },
    "tags": []
   },
   "outputs": [
    {
     "data": {
      "text/plain": [
       "<matplotlib.axes._subplots.AxesSubplot at 0x7fbd54e6aeb8>"
      ]
     },
     "execution_count": 11,
     "metadata": {},
     "output_type": "execute_result"
    },
    {
     "data": {
      "image/png": "[encoded data removed]",
      "text/plain": [
       "<Figure size 432x288 with 1 Axes>"
      ]
     },
     "metadata": {
      "needs_background": "light"
     },
     "output_type": "display_data"
    }
   ],
   "source": [
    "sns.distplot(repeat_counts)"
   ]
  },
  {
   "cell_type": "code",
   "execution_count": 12,
   "metadata": {
    "ExecuteTime": {
     "end_time": "2020-02-27T05:36:53.815412Z",
     "start_time": "2020-02-27T05:36:48.409849Z"
    },
    "papermill": {
     "duration": 0.389406,
     "end_time": "2020-01-27T23:41:09.216962",
     "exception": false,
     "start_time": "2020-01-27T23:41:08.827556",
     "status": "completed"
    },
    "tags": []
   },
   "outputs": [
    {
     "name": "stderr",
     "output_type": "stream",
     "text": [
      "/home/hanliu/miniconda3/envs/clustering/lib/python3.7/site-packages/ipykernel_launcher.py:1: FutureWarning: to_msgpack is deprecated and will be removed in a future version.\n",
      "It is recommended to use pyarrow for on-the-wire transmission of pandas objects.\n",
      "  \"\"\"Entry point for launching an IPython kernel.\n"
     ]
    }
   ],
   "source": [
    "use_dmg.to_msgpack('RelatedDMG.msg')"
   ]
  },
  {
   "cell_type": "code",
   "execution_count": 13,
   "metadata": {
    "ExecuteTime": {
     "end_time": "2020-02-27T05:36:54.809021Z",
     "start_time": "2020-02-27T05:36:53.820395Z"
    },
    "papermill": {
     "duration": 0.065799,
     "end_time": "2020-01-27T23:41:09.294257",
     "exception": false,
     "start_time": "2020-01-27T23:41:09.228458",
     "status": "completed"
    },
    "tags": []
   },
   "outputs": [
    {
     "data": {
      "text/plain": [
       "19488"
      ]
     },
     "execution_count": 13,
     "metadata": {},
     "output_type": "execute_result"
    }
   ],
   "source": [
    "with open('related_dmgs.txt', 'w') as f:\n",
    "    for g in use_dmg['gene_id'].unique():\n",
    "        f.write(g + '\\n')\n",
    "use_dmg['gene_id'].unique().size"
   ]
  },
  {
   "cell_type": "code",
   "execution_count": 14,
   "metadata": {
    "ExecuteTime": {
     "end_time": "2020-02-27T05:36:54.813266Z",
     "start_time": "2020-02-27T05:36:54.810344Z"
    },
    "papermill": {
     "duration": 0.016523,
     "end_time": "2020-01-27T23:41:09.321340",
     "exception": false,
     "start_time": "2020-01-27T23:41:09.304817",
     "status": "completed"
    },
    "tags": []
   },
   "outputs": [
    {
     "data": {
      "text/plain": [
       "(4490367, 13)"
      ]
     },
     "execution_count": 14,
     "metadata": {},
     "output_type": "execute_result"
    }
   ],
   "source": [
    "use_dmg.shape"
   ]
  },
  {
   "cell_type": "code",
   "execution_count": 15,
   "metadata": {
    "ExecuteTime": {
     "end_time": "2020-02-27T05:36:55.373535Z",
     "start_time": "2020-02-27T05:36:54.814372Z"
    },
    "papermill": {
     "duration": 0.07595,
     "end_time": "2020-01-27T23:41:09.408844",
     "exception": false,
     "start_time": "2020-01-27T23:41:09.332894",
     "status": "completed"
    },
    "tags": []
   },
   "outputs": [
    {
     "data": {
      "text/plain": [
       "count    19488.000000\n",
       "mean       230.417026\n",
       "std        287.665226\n",
       "min          6.000000\n",
       "25%         32.000000\n",
       "50%        106.000000\n",
       "75%        323.000000\n",
       "max       1791.000000\n",
       "Name: gene_id, dtype: float64"
      ]
     },
     "execution_count": 15,
     "metadata": {},
     "output_type": "execute_result"
    }
   ],
   "source": [
    "use_dmg['gene_id'].value_counts().describe()"
   ]
  },
  {
   "cell_type": "code",
   "execution_count": 16,
   "metadata": {
    "ExecuteTime": {
     "end_time": "2020-02-27T05:36:56.090491Z",
     "start_time": "2020-02-27T05:36:55.374766Z"
    },
    "papermill": {
     "duration": 0.010949,
     "end_time": "2020-01-27T23:41:09.430772",
     "exception": false,
     "start_time": "2020-01-27T23:41:09.419823",
     "status": "completed"
    },
    "scrolled": false,
    "tags": []
   },
   "outputs": [
    {
     "data": {
      "text/html": [
       "<div>\n",
       "<style scoped>\n",
       "    .dataframe tbody tr th:only-of-type {\n",
       "        vertical-align: middle;\n",
       "    }\n",
       "\n",
       "    .dataframe tbody tr th {\n",
       "        vertical-align: top;\n",
       "    }\n",
       "\n",
       "    .dataframe thead th {\n",
       "        text-align: right;\n",
       "    }\n",
       "</style>\n",
       "<table border=\"1\" class=\"dataframe\">\n",
       "  <thead>\n",
       "    <tr style=\"text-align: right;\">\n",
       "      <th></th>\n",
       "      <th>-lgp</th>\n",
       "      <th>AUROC</th>\n",
       "      <th>cluster_from</th>\n",
       "      <th>cluster_from_rate</th>\n",
       "      <th>cluster_to</th>\n",
       "      <th>cluster_to_rate</th>\n",
       "      <th>gene_id</th>\n",
       "      <th>gene_name</th>\n",
       "      <th>pvals_adj</th>\n",
       "      <th>log2fc</th>\n",
       "      <th>delta</th>\n",
       "      <th>rate_from</th>\n",
       "      <th>rate_to</th>\n",
       "    </tr>\n",
       "  </thead>\n",
       "  <tbody>\n",
       "    <tr>\n",
       "      <th>80</th>\n",
       "      <td>23.195374</td>\n",
       "      <td>0.85737</td>\n",
       "      <td>MGE-Sst Unc5b</td>\n",
       "      <td>0.837923</td>\n",
       "      <td>MGE-Sst Ptpre</td>\n",
       "      <td>2.173522</td>\n",
       "      <td>ENSMUSG00000048251.15</td>\n",
       "      <td>Bcl11b</td>\n",
       "      <td>6.377142e-24</td>\n",
       "      <td>-1.375145</td>\n",
       "      <td>-1.335599</td>\n",
       "      <td>0.023735</td>\n",
       "      <td>0.066541</td>\n",
       "    </tr>\n",
       "  </tbody>\n",
       "</table>\n",
       "</div>"
      ],
      "text/plain": [
       "         -lgp    AUROC   cluster_from  cluster_from_rate     cluster_to  \\\n",
       "80  23.195374  0.85737  MGE-Sst Unc5b           0.837923  MGE-Sst Ptpre   \n",
       "\n",
       "    cluster_to_rate                gene_id gene_name     pvals_adj    log2fc  \\\n",
       "80         2.173522  ENSMUSG00000048251.15    Bcl11b  6.377142e-24 -1.375145   \n",
       "\n",
       "       delta  rate_from   rate_to  \n",
       "80 -1.335599   0.023735  0.066541  "
      ]
     },
     "execution_count": 16,
     "metadata": {},
     "output_type": "execute_result"
    }
   ],
   "source": [
    "use_dmg[(use_dmg['gene_name'] == 'Bcl11b')\n",
    "        & (use_dmg['cluster_from'] == 'MGE-Sst Unc5b') &\n",
    "        (use_dmg['cluster_to'] == 'MGE-Sst Ptpre')]"
   ]
  },
  {
   "cell_type": "code",
   "execution_count": null,
   "metadata": {
    "papermill": {
     "duration": 0.011301,
     "end_time": "2020-01-27T23:41:09.454012",
     "exception": false,
     "start_time": "2020-01-27T23:41:09.442711",
     "status": "completed"
    },
    "tags": []
   },
   "outputs": [],
   "source": []
  },
  {
   "cell_type": "code",
   "execution_count": null,
   "metadata": {
    "papermill": {
     "duration": 0.011035,
     "end_time": "2020-01-27T23:41:09.476200",
     "exception": false,
     "start_time": "2020-01-27T23:41:09.465165",
     "status": "completed"
    },
    "tags": []
   },
   "outputs": [],
   "source": []
  }
 ],
 "metadata": {
  "hide_input": false,
  "kernelspec": {
   "display_name": "Python 3",
   "language": "python",
   "name": "python3"
  },
  "language_info": {
   "codemirror_mode": {
    "name": "ipython",
    "version": 3
   },
   "file_extension": ".py",
   "mimetype": "text/x-python",
   "name": "python",
   "nbconvert_exporter": "python",
   "pygments_lexer": "ipython3",
   "version": "3.7.3"
  },
  "papermill": {
   "duration": 105.776098,
   "end_time": "2020-01-27T23:41:12.603966",
   "environment_variables": {},
   "exception": null,
   "input_path": "1.related_dmgs.ipynb",
   "output_path": "/home/hanliu/project/mouse_rostral_brain/study/AssignGeneToTree/InhGeneToTree/1.related_dmgs.ipynb",
   "parameters": {
    "auroc_cutoff": 0.9,
    "delta_cutoff": 0.01,
    "fc_cutoff": 2,
    "n_repeat_pairs": 10,
    "rate_from_max": 0.01,
    "rate_to_min": 0.01,
    "use_clusters": [
     "MGE-Sst Rxra",
     "Unc5c Unc5c",
     "MGE-Sst Ptpre",
     "CGE-Lamp5 Dock5",
     "CGE-Vip Ntng1",
     "CGE-Vip Ptprm",
     "CGE-Vip Robo1",
     "MGE-Pvalb Gfra2",
     "PAL-Inh Meis2",
     "MGE-Sst Unc5b",
     "MGE-Pvalb Thsd7a",
     "CGE-Vip Grm8",
     "MGE-Sst Dock4",
     "CGE-Lamp5 Grk5",
     "OLF Xkr6",
     "MSN-D2 Slc24a2",
     "CGE-Lamp5 Sorcs1",
     "MGE-Pvalb Entpd3",
     "MGE-Pvalb Ptprk",
     "CGE-Vip Ccser1",
     "CGE-Lamp5 Grid1",
     "MGE-Pvalb Sema5a",
     "MGE-Sst Kcnip4",
     "MGE-Sst Frmd6",
     "MGE-Pvalb Cnih3",
     "MGE-Sst Ubtd1",
     "MGE-Sst Rerg",
     "CGE-Vip Fstl4",
     "CGE-Vip Galnt17",
     "MGE-Sst Etv1",
     "CGE-Vip Clstn2",
     "CGE-Lamp5 Nrxn3",
     "MGE-Sst Chodl",
     "OLF Trpc4",
     "Foxp2 Homer2",
     "MGE-Pvalb Cacna1i",
     "MSN-D1 Khdrbs3",
     "MSN-D1 Plxnc1",
     "OLF Mapk10",
     "MSN-D1 Hrh1",
     "Foxp2 Trpc7",
     "OLF Pag1",
     "MSN-D2 Col14a1",
     "MGE-Sst Bmper",
     "OLF Gabbr2",
     "OLF Kcnd3",
     "PAL-Inh Deptor",
     "PAL-Inh Meis1",
     "LSX-Inh Cacna1i",
     "D1L-Fstl4 Sipa1l2",
     "PAL-Inh Rarb",
     "MSN-D2 Nrp2",
     "D1L-Fstl4 Trps1",
     "Foxp2 Dchs2",
     "PAL-Inh Chat",
     "D1L-PAL Flrt2",
     "PAL-Inh Igdcc3",
     "PAL-Inh Tmem178",
     "MSN-D1 Ntn1",
     "Foxp2 Inpp4b",
     "MSN-D2 Casz1",
     "Chd7 Kcnc2",
     "PAL-Inh Tcf7l2",
     "D1L-Fstl4 Grm3",
     "D1L-Fstl4 Cadm1",
     "Chd7 Trpc7",
     "PAL-Inh Ptprd",
     "D1L-Fstl4 Crim1",
     "Chd7 Megf11",
     "D1L-PAL Plcxd3",
     "PAL-Inh Onecut2",
     "LSX-Inh Foxp2",
     "LSX-Inh Enox1",
     "LSX-Inh Dock10",
     "LSX-Inh Nxph1",
     "LSX-Inh Zeb2",
     "LSX-Inh Lats2"
    ]
   },
   "start_time": "2020-01-27T23:39:26.827868",
   "version": "1.0.1"
  },
  "toc": {
   "base_numbering": 1,
   "nav_menu": {},
   "number_sections": true,
   "sideBar": true,
   "skip_h1_title": true,
   "title_cell": "Table of Contents",
   "title_sidebar": "Contents",
   "toc_cell": false,
   "toc_position": {},
   "toc_section_display": true,
   "toc_window_display": true
  }
 },
 "nbformat": 4,
 "nbformat_minor": 2
}
