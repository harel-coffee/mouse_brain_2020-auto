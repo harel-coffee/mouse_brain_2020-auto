{
 "cells": [
  {
   "cell_type": "code",
   "execution_count": 1,
   "metadata": {
    "ExecuteTime": {
     "end_time": "2020-02-27T05:49:50.051337Z",
     "start_time": "2020-02-27T05:49:49.667541Z"
    },
    "papermill": {
     "duration": 0.374379,
     "end_time": "2020-01-27T23:41:22.393321",
     "exception": false,
     "start_time": "2020-01-27T23:41:22.018942",
     "status": "completed"
    },
    "tags": []
   },
   "outputs": [],
   "source": [
    "import joblib\n",
    "import matplotlib.pyplot as plt\n",
    "import pandas as pd\n",
    "import seaborn as sns\n",
    "from concurrent.futures import ProcessPoolExecutor, as_completed"
   ]
  },
  {
   "cell_type": "code",
   "execution_count": 2,
   "metadata": {
    "ExecuteTime": {
     "end_time": "2020-02-27T05:49:50.055114Z",
     "start_time": "2020-02-27T05:49:50.053089Z"
    },
    "papermill": {
     "duration": 0.009915,
     "end_time": "2020-01-27T23:41:22.409966",
     "exception": false,
     "start_time": "2020-01-27T23:41:22.400051",
     "status": "completed"
    },
    "tags": []
   },
   "outputs": [],
   "source": [
    "cpu = 40"
   ]
  },
  {
   "cell_type": "code",
   "execution_count": 3,
   "metadata": {
    "ExecuteTime": {
     "end_time": "2020-02-27T05:49:50.061215Z",
     "start_time": "2020-02-27T05:49:50.056431Z"
    },
    "papermill": {
     "duration": 0.012155,
     "end_time": "2020-01-27T23:41:22.426891",
     "exception": false,
     "start_time": "2020-01-27T23:41:22.414736",
     "status": "completed"
    },
    "tags": []
   },
   "outputs": [],
   "source": [
    "def calculate_node_portion(sub_df):\n",
    "    nodes_records = {}\n",
    "    for k, v in node_cluster_dict.items():\n",
    "        left = v['left']\n",
    "        right = v['right']\n",
    "\n",
    "        # left hypo, right hyper\n",
    "        judge_from_left = sub_df['cluster_from'].apply(lambda i: i in left)\n",
    "        judge_to_right = sub_df['cluster_to'].apply(lambda i: i in right)\n",
    "\n",
    "        # right hypo, left hyper\n",
    "        judge_from_right = sub_df['cluster_from'].apply(lambda i: i in right)\n",
    "        judge_to_left = sub_df['cluster_to'].apply(lambda i: i in left)\n",
    "\n",
    "        # this two cancel each other, use the remaining abs as real hits\n",
    "        # positive means left hypo, negative means right hypo\n",
    "        total = (judge_from_left & judge_to_right).sum() -\\\n",
    "                (judge_from_right & judge_to_left).sum()\n",
    "        nodes_records[k] = total\n",
    "    nodes_records = pd.Series(nodes_records) / node_possible_count\n",
    "    return nodes_records"
   ]
  },
  {
   "cell_type": "code",
   "execution_count": 4,
   "metadata": {
    "ExecuteTime": {
     "end_time": "2020-02-27T05:49:54.283518Z",
     "start_time": "2020-02-27T05:49:50.062461Z"
    },
    "papermill": {
     "duration": 0.446572,
     "end_time": "2020-01-27T23:41:22.878279",
     "exception": false,
     "start_time": "2020-01-27T23:41:22.431707",
     "status": "completed"
    },
    "tags": []
   },
   "outputs": [
    {
     "name": "stderr",
     "output_type": "stream",
     "text": [
      "/home/hanliu/miniconda3/envs/clustering/lib/python3.7/site-packages/IPython/core/interactiveshell.py:3326: FutureWarning: The read_msgpack is deprecated and will be removed in a future version.\n",
      "It is recommended to use pyarrow for on-the-wire transmission of pandas objects.\n",
      "  exec(code_obj, self.user_global_ns, self.user_ns)\n"
     ]
    }
   ],
   "source": [
    "node_cluster_dict = joblib.load('/home/hanliu/project/mouse_rostral_brain/study/AssignGeneToTree/RTree/Inh.non_singleton_node_dict.lib')\n",
    "related_dmg = pd.read_msgpack('RelatedDMG.msg')\n",
    "\n",
    "gene_meta = pd.read_csv(\n",
    "    '/home/hanliu/ref/mouse/gencode/vm22/gencode.vM22.annotation.gene.flat.tsv.gz',\n",
    "    sep='\\t',\n",
    "    index_col='gene_id')\n",
    "gene_name_to_id = {v: k for k, v in gene_meta['gene_name'].items()}"
   ]
  },
  {
   "cell_type": "code",
   "execution_count": 5,
   "metadata": {
    "ExecuteTime": {
     "end_time": "2020-02-27T05:49:54.289219Z",
     "start_time": "2020-02-27T05:49:54.285300Z"
    },
    "papermill": {
     "duration": 0.011536,
     "end_time": "2020-01-27T23:41:22.896423",
     "exception": false,
     "start_time": "2020-01-27T23:41:22.884887",
     "status": "completed"
    },
    "tags": []
   },
   "outputs": [],
   "source": [
    "node_possible_count = {}\n",
    "for node, sub_dict in node_cluster_dict.items():\n",
    "    possible_pairs = len(sub_dict['left']) * len(sub_dict['right'])\n",
    "    node_possible_count[node] = possible_pairs\n",
    "node_possible_count = pd.Series(node_possible_count)"
   ]
  },
  {
   "cell_type": "code",
   "execution_count": 6,
   "metadata": {
    "ExecuteTime": {
     "end_time": "2020-02-27T05:52:05.644750Z",
     "start_time": "2020-02-27T05:49:54.290680Z"
    },
    "papermill": {
     "duration": 29.661252,
     "end_time": "2020-01-27T23:41:52.562714",
     "exception": false,
     "start_time": "2020-01-27T23:41:22.901462",
     "status": "completed"
    },
    "tags": []
   },
   "outputs": [],
   "source": [
    "total_result = {}\n",
    "with ProcessPoolExecutor(cpu) as executor:\n",
    "    futures = {}\n",
    "    for gene, sub_df in related_dmg.groupby('gene_id'):\n",
    "        future = executor.submit(calculate_node_portion, sub_df)\n",
    "        futures[future] = gene\n",
    "        \n",
    "    for future in as_completed(futures):\n",
    "        result = future.result()\n",
    "        gene = futures[future]\n",
    "        total_result[gene] = result\n",
    "total_result = pd.DataFrame(total_result)"
   ]
  },
  {
   "cell_type": "code",
   "execution_count": 7,
   "metadata": {
    "ExecuteTime": {
     "end_time": "2020-02-27T05:52:34.598046Z",
     "start_time": "2020-02-27T05:52:05.647590Z"
    },
    "papermill": {
     "duration": 4.675444,
     "end_time": "2020-01-27T23:41:57.244381",
     "exception": false,
     "start_time": "2020-01-27T23:41:52.568937",
     "status": "completed"
    },
    "scrolled": false,
    "tags": []
   },
   "outputs": [
    {
     "data": {
      "text/plain": [
       "<seaborn.matrix.ClusterGrid at 0x7f86de78b9e8>"
      ]
     },
     "execution_count": 7,
     "metadata": {},
     "output_type": "execute_result"
    },
    {
     "data": {
      "image/png": "[encoded data removed]",
      "text/plain": [
       "<Figure size 720x720 with 4 Axes>"
      ]
     },
     "metadata": {
      "needs_background": "light"
     },
     "output_type": "display_data"
    }
   ],
   "source": [
    "sns.clustermap(total_result, row_cluster=False, cmap='coolwarm')"
   ]
  },
  {
   "cell_type": "code",
   "execution_count": 8,
   "metadata": {
    "ExecuteTime": {
     "end_time": "2020-02-27T05:52:34.648439Z",
     "start_time": "2020-02-27T05:52:34.599904Z"
    },
    "papermill": {
     "duration": 0.029975,
     "end_time": "2020-01-27T23:41:57.288568",
     "exception": false,
     "start_time": "2020-01-27T23:41:57.258593",
     "status": "completed"
    },
    "tags": []
   },
   "outputs": [
    {
     "name": "stderr",
     "output_type": "stream",
     "text": [
      "/home/hanliu/miniconda3/envs/clustering/lib/python3.7/site-packages/ipykernel_launcher.py:1: FutureWarning: to_msgpack is deprecated and will be removed in a future version.\n",
      "It is recommended to use pyarrow for on-the-wire transmission of pandas objects.\n",
      "  \"\"\"Entry point for launching an IPython kernel.\n"
     ]
    }
   ],
   "source": [
    "total_result.to_msgpack('NodeGeneResults.msg')"
   ]
  },
  {
   "cell_type": "code",
   "execution_count": 9,
   "metadata": {
    "ExecuteTime": {
     "end_time": "2020-02-27T05:52:34.656040Z",
     "start_time": "2020-02-27T05:52:34.649754Z"
    },
    "papermill": {
     "duration": 0.01712,
     "end_time": "2020-01-27T23:41:57.320255",
     "exception": false,
     "start_time": "2020-01-27T23:41:57.303135",
     "status": "completed"
    },
    "tags": []
   },
   "outputs": [
    {
     "data": {
      "text/plain": [
       "-1.0"
      ]
     },
     "execution_count": 9,
     "metadata": {},
     "output_type": "execute_result"
    }
   ],
   "source": [
    "total_result['ENSMUSG00000048251.15'][111]"
   ]
  },
  {
   "cell_type": "code",
   "execution_count": 10,
   "metadata": {
    "ExecuteTime": {
     "end_time": "2020-02-27T05:52:34.659883Z",
     "start_time": "2020-02-27T05:52:34.657198Z"
    },
    "papermill": {
     "duration": 0.016272,
     "end_time": "2020-01-27T23:41:57.353804",
     "exception": false,
     "start_time": "2020-01-27T23:41:57.337532",
     "status": "completed"
    },
    "tags": []
   },
   "outputs": [
    {
     "data": {
      "text/plain": [
       "{'left': {'MGE-Sst Ptpre'}, 'right': {'MGE-Sst Unc5b'}}"
      ]
     },
     "execution_count": 10,
     "metadata": {},
     "output_type": "execute_result"
    }
   ],
   "source": [
    "node_cluster_dict[111]"
   ]
  },
  {
   "cell_type": "code",
   "execution_count": null,
   "metadata": {
    "papermill": {
     "duration": 0.011408,
     "end_time": "2020-01-27T23:41:57.381340",
     "exception": false,
     "start_time": "2020-01-27T23:41:57.369932",
     "status": "completed"
    },
    "tags": []
   },
   "outputs": [],
   "source": []
  },
  {
   "cell_type": "code",
   "execution_count": null,
   "metadata": {},
   "outputs": [],
   "source": []
  },
  {
   "cell_type": "code",
   "execution_count": null,
   "metadata": {},
   "outputs": [],
   "source": []
  },
  {
   "cell_type": "code",
   "execution_count": null,
   "metadata": {},
   "outputs": [],
   "source": []
  }
 ],
 "metadata": {
  "hide_input": false,
  "kernelspec": {
   "display_name": "Python 3",
   "language": "python",
   "name": "python3"
  },
  "language_info": {
   "codemirror_mode": {
    "name": "ipython",
    "version": 3
   },
   "file_extension": ".py",
   "mimetype": "text/x-python",
   "name": "python",
   "nbconvert_exporter": "python",
   "pygments_lexer": "ipython3",
   "version": "3.7.3"
  },
  "papermill": {
   "duration": 37.090244,
   "end_time": "2020-01-27T23:41:58.202872",
   "environment_variables": {},
   "exception": null,
   "input_path": "3.AssignGeneToTree.ipynb",
   "output_path": "/home/hanliu/project/mouse_rostral_brain/study/AssignGeneToTree/InhGeneToTree/3.AssignGeneToTree.ipynb",
   "parameters": {},
   "start_time": "2020-01-27T23:41:21.112628",
   "version": "1.0.1"
  },
  "toc": {
   "base_numbering": 1,
   "nav_menu": {},
   "number_sections": true,
   "sideBar": true,
   "skip_h1_title": true,
   "title_cell": "Table of Contents",
   "title_sidebar": "Contents",
   "toc_cell": false,
   "toc_position": {},
   "toc_section_display": true,
   "toc_window_display": true
  }
 },
 "nbformat": 4,
 "nbformat_minor": 2
}
