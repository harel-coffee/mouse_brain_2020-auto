{
 "cells": [
  {
   "cell_type": "code",
   "execution_count": 1,
   "metadata": {
    "ExecuteTime": {
     "end_time": "2020-02-22T08:40:04.951697Z",
     "start_time": "2020-02-22T08:40:04.099180Z"
    }
   },
   "outputs": [],
   "source": [
    "import joblib\n",
    "import xarray as xr\n",
    "import pandas as pd\n",
    "import anndata\n",
    "import numpy as np\n",
    "import seaborn as sns\n",
    "from scipy.sparse import csr_matrix, vstack\n",
    "import matplotlib.pyplot as plt"
   ]
  },
  {
   "cell_type": "markdown",
   "metadata": {},
   "source": [
    "## Load Data"
   ]
  },
  {
   "cell_type": "markdown",
   "metadata": {},
   "source": [
    "### Cell type phylogeny"
   ]
  },
  {
   "cell_type": "code",
   "execution_count": 2,
   "metadata": {
    "ExecuteTime": {
     "end_time": "2020-02-22T08:40:04.967010Z",
     "start_time": "2020-02-22T08:40:04.953192Z"
    }
   },
   "outputs": [],
   "source": [
    "node_cluster_dict = joblib.load(\n",
    "    '/home/hanliu/project/mouse_rostral_brain/study/AssignGeneToTree/RTree/Inh.non_singleton_node_dict.lib'\n",
    ")\n",
    "\n",
    "cluster_dendro = joblib.load(\n",
    "    '/home/hanliu/project/mouse_rostral_brain/study/AssignGeneToTree/RTree/Inh.dendrogram.lib'\n",
    ")\n",
    "cluster_linkage = pd.read_csv(\n",
    "    '/home/hanliu/project/mouse_rostral_brain/study/AssignGeneToTree/RTree/Inh.linkage.csv', index_col=0).values\n",
    "cluster_linkage_order = pd.read_csv(\n",
    "    '/home/hanliu/project/mouse_rostral_brain/study/AssignGeneToTree/RTree/Inh.linkage.orders.txt', \n",
    "    index_col=0, header=None\n",
    ").index\n",
    "\n",
    "cluster_linkage_order = [i.replace(' ', '_') for i in cluster_linkage_order]\n",
    "name_map = {i.replace('_', '.').replace('-', '.'):i for i in cluster_linkage_order}\n",
    "cluster_dendro['ivl'] = [name_map[i] for i in cluster_dendro['ivl']]"
   ]
  },
  {
   "cell_type": "markdown",
   "metadata": {},
   "source": [
    "### Gene\n",
    "\n",
    "#### DMG"
   ]
  },
  {
   "cell_type": "code",
   "execution_count": 3,
   "metadata": {
    "ExecuteTime": {
     "end_time": "2020-02-22T08:40:06.724618Z",
     "start_time": "2020-02-22T08:40:05.867002Z"
    }
   },
   "outputs": [
    {
     "name": "stderr",
     "output_type": "stream",
     "text": [
      "/home/hanliu/miniconda3/envs/clustering/lib/python3.7/site-packages/IPython/core/interactiveshell.py:3326: FutureWarning: The read_msgpack is deprecated and will be removed in a future version.\n",
      "It is recommended to use pyarrow for on-the-wire transmission of pandas objects.\n",
      "  exec(code_obj, self.user_global_ns, self.user_ns)\n"
     ]
    }
   ],
   "source": [
    "related_dmg = pd.read_msgpack('RelatedDMG.msg')"
   ]
  },
  {
   "cell_type": "markdown",
   "metadata": {},
   "source": [
    "#### Gene meta"
   ]
  },
  {
   "cell_type": "code",
   "execution_count": 4,
   "metadata": {
    "ExecuteTime": {
     "end_time": "2020-02-22T08:40:07.359704Z",
     "start_time": "2020-02-22T08:40:07.150514Z"
    }
   },
   "outputs": [],
   "source": [
    "gene_meta = pd.read_csv(\n",
    "    '/home/hanliu/ref/mouse/gencode/vm22/gencode.vM22.annotation.gene.flat.tsv.gz',\n",
    "    sep='\\t',\n",
    "    index_col='gene_id')\n",
    "gene_name_to_id = {v: k for k, v in gene_meta['gene_name'].items()}"
   ]
  },
  {
   "cell_type": "markdown",
   "metadata": {},
   "source": [
    "#### Subtype gene rate"
   ]
  },
  {
   "cell_type": "code",
   "execution_count": 5,
   "metadata": {
    "ExecuteTime": {
     "end_time": "2020-02-22T08:40:57.707796Z",
     "start_time": "2020-02-22T08:40:57.489018Z"
    }
   },
   "outputs": [
    {
     "data": {
      "text/html": [
       "<div>\n",
       "<style scoped>\n",
       "    .dataframe tbody tr th:only-of-type {\n",
       "        vertical-align: middle;\n",
       "    }\n",
       "\n",
       "    .dataframe tbody tr th {\n",
       "        vertical-align: top;\n",
       "    }\n",
       "\n",
       "    .dataframe thead th {\n",
       "        text-align: right;\n",
       "    }\n",
       "</style>\n",
       "<table border=\"1\" class=\"dataframe\">\n",
       "  <thead>\n",
       "    <tr style=\"text-align: right;\">\n",
       "      <th>SubType</th>\n",
       "      <th>MGE-Sst_Rxra</th>\n",
       "      <th>CA3_Cadm2</th>\n",
       "      <th>CA1_Chrm3</th>\n",
       "      <th>CA3-St18_Tead1</th>\n",
       "      <th>Unc5c_Unc5c</th>\n",
       "      <th>Gfra1_Gfra1</th>\n",
       "      <th>ODC_odc-small</th>\n",
       "      <th>PC_pc-all</th>\n",
       "      <th>ODC_odc-large</th>\n",
       "      <th>ANP_anp-dg</th>\n",
       "      <th>...</th>\n",
       "      <th>D1L-PAL_Plcxd3</th>\n",
       "      <th>PAL-Inh_Onecut2</th>\n",
       "      <th>LSX-Inh_Foxp2</th>\n",
       "      <th>LSX-Inh_Enox1</th>\n",
       "      <th>MSN-D1_Outlier</th>\n",
       "      <th>LSX-Inh_Dock10</th>\n",
       "      <th>LSX-Inh_Nxph1</th>\n",
       "      <th>LSX-Inh_Zeb2</th>\n",
       "      <th>LSX-Inh_Lats2</th>\n",
       "      <th>PT-L5_Outlier</th>\n",
       "    </tr>\n",
       "    <tr>\n",
       "      <th>geneslop2k</th>\n",
       "      <th></th>\n",
       "      <th></th>\n",
       "      <th></th>\n",
       "      <th></th>\n",
       "      <th></th>\n",
       "      <th></th>\n",
       "      <th></th>\n",
       "      <th></th>\n",
       "      <th></th>\n",
       "      <th></th>\n",
       "      <th></th>\n",
       "      <th></th>\n",
       "      <th></th>\n",
       "      <th></th>\n",
       "      <th></th>\n",
       "      <th></th>\n",
       "      <th></th>\n",
       "      <th></th>\n",
       "      <th></th>\n",
       "      <th></th>\n",
       "      <th></th>\n",
       "    </tr>\n",
       "  </thead>\n",
       "  <tbody>\n",
       "    <tr>\n",
       "      <th>ENSMUSG00000102693.1</th>\n",
       "      <td>0.036028</td>\n",
       "      <td>0.033156</td>\n",
       "      <td>0.023127</td>\n",
       "      <td>0.027134</td>\n",
       "      <td>0.024149</td>\n",
       "      <td>0.030705</td>\n",
       "      <td>0.007401</td>\n",
       "      <td>0.004408</td>\n",
       "      <td>0.006504</td>\n",
       "      <td>0.005405</td>\n",
       "      <td>...</td>\n",
       "      <td>0.011507</td>\n",
       "      <td>0.042900</td>\n",
       "      <td>0.028670</td>\n",
       "      <td>0.025057</td>\n",
       "      <td>0.026316</td>\n",
       "      <td>0.022981</td>\n",
       "      <td>0.022370</td>\n",
       "      <td>0.019700</td>\n",
       "      <td>0.018092</td>\n",
       "      <td>0.018018</td>\n",
       "    </tr>\n",
       "    <tr>\n",
       "      <th>ENSMUSG00000064842.1</th>\n",
       "      <td>0.043546</td>\n",
       "      <td>0.029851</td>\n",
       "      <td>0.024722</td>\n",
       "      <td>0.027768</td>\n",
       "      <td>0.030352</td>\n",
       "      <td>0.039891</td>\n",
       "      <td>0.009691</td>\n",
       "      <td>0.004859</td>\n",
       "      <td>0.009342</td>\n",
       "      <td>0.006471</td>\n",
       "      <td>...</td>\n",
       "      <td>0.014913</td>\n",
       "      <td>0.049733</td>\n",
       "      <td>0.032969</td>\n",
       "      <td>0.029144</td>\n",
       "      <td>NaN</td>\n",
       "      <td>0.028612</td>\n",
       "      <td>0.030037</td>\n",
       "      <td>0.026626</td>\n",
       "      <td>0.031396</td>\n",
       "      <td>0.000000</td>\n",
       "    </tr>\n",
       "    <tr>\n",
       "      <th>ENSMUSG00000051951.5</th>\n",
       "      <td>0.011518</td>\n",
       "      <td>0.009630</td>\n",
       "      <td>0.008233</td>\n",
       "      <td>0.017092</td>\n",
       "      <td>0.011801</td>\n",
       "      <td>0.014484</td>\n",
       "      <td>0.018628</td>\n",
       "      <td>0.004790</td>\n",
       "      <td>0.015895</td>\n",
       "      <td>0.005185</td>\n",
       "      <td>...</td>\n",
       "      <td>0.012604</td>\n",
       "      <td>0.023654</td>\n",
       "      <td>0.026305</td>\n",
       "      <td>0.021451</td>\n",
       "      <td>0.013525</td>\n",
       "      <td>0.024743</td>\n",
       "      <td>0.022012</td>\n",
       "      <td>0.025300</td>\n",
       "      <td>0.021889</td>\n",
       "      <td>0.022814</td>\n",
       "    </tr>\n",
       "    <tr>\n",
       "      <th>ENSMUSG00000102851.1</th>\n",
       "      <td>0.012793</td>\n",
       "      <td>0.008696</td>\n",
       "      <td>0.008266</td>\n",
       "      <td>0.013822</td>\n",
       "      <td>0.010621</td>\n",
       "      <td>0.012788</td>\n",
       "      <td>0.013043</td>\n",
       "      <td>0.005251</td>\n",
       "      <td>0.013161</td>\n",
       "      <td>0.004871</td>\n",
       "      <td>...</td>\n",
       "      <td>0.012873</td>\n",
       "      <td>0.025467</td>\n",
       "      <td>0.030113</td>\n",
       "      <td>0.022554</td>\n",
       "      <td>0.000000</td>\n",
       "      <td>0.024056</td>\n",
       "      <td>0.025327</td>\n",
       "      <td>0.024327</td>\n",
       "      <td>0.015444</td>\n",
       "      <td>NaN</td>\n",
       "    </tr>\n",
       "    <tr>\n",
       "      <th>ENSMUSG00000103377.1</th>\n",
       "      <td>0.008664</td>\n",
       "      <td>0.009502</td>\n",
       "      <td>0.009479</td>\n",
       "      <td>0.024804</td>\n",
       "      <td>0.010696</td>\n",
       "      <td>0.016256</td>\n",
       "      <td>0.049207</td>\n",
       "      <td>0.004797</td>\n",
       "      <td>0.038580</td>\n",
       "      <td>0.005653</td>\n",
       "      <td>...</td>\n",
       "      <td>0.014659</td>\n",
       "      <td>0.025282</td>\n",
       "      <td>0.034705</td>\n",
       "      <td>0.026059</td>\n",
       "      <td>0.000000</td>\n",
       "      <td>0.032258</td>\n",
       "      <td>0.030009</td>\n",
       "      <td>0.032695</td>\n",
       "      <td>0.029836</td>\n",
       "      <td>0.015038</td>\n",
       "    </tr>\n",
       "  </tbody>\n",
       "</table>\n",
       "<p>5 rows × 169 columns</p>\n",
       "</div>"
      ],
      "text/plain": [
       "SubType               MGE-Sst_Rxra  CA3_Cadm2  CA1_Chrm3  CA3-St18_Tead1  \\\n",
       "geneslop2k                                                                 \n",
       "ENSMUSG00000102693.1      0.036028   0.033156   0.023127        0.027134   \n",
       "ENSMUSG00000064842.1      0.043546   0.029851   0.024722        0.027768   \n",
       "ENSMUSG00000051951.5      0.011518   0.009630   0.008233        0.017092   \n",
       "ENSMUSG00000102851.1      0.012793   0.008696   0.008266        0.013822   \n",
       "ENSMUSG00000103377.1      0.008664   0.009502   0.009479        0.024804   \n",
       "\n",
       "SubType               Unc5c_Unc5c  Gfra1_Gfra1  ODC_odc-small  PC_pc-all  \\\n",
       "geneslop2k                                                                 \n",
       "ENSMUSG00000102693.1     0.024149     0.030705       0.007401   0.004408   \n",
       "ENSMUSG00000064842.1     0.030352     0.039891       0.009691   0.004859   \n",
       "ENSMUSG00000051951.5     0.011801     0.014484       0.018628   0.004790   \n",
       "ENSMUSG00000102851.1     0.010621     0.012788       0.013043   0.005251   \n",
       "ENSMUSG00000103377.1     0.010696     0.016256       0.049207   0.004797   \n",
       "\n",
       "SubType               ODC_odc-large  ANP_anp-dg  ...  D1L-PAL_Plcxd3  \\\n",
       "geneslop2k                                       ...                   \n",
       "ENSMUSG00000102693.1       0.006504    0.005405  ...        0.011507   \n",
       "ENSMUSG00000064842.1       0.009342    0.006471  ...        0.014913   \n",
       "ENSMUSG00000051951.5       0.015895    0.005185  ...        0.012604   \n",
       "ENSMUSG00000102851.1       0.013161    0.004871  ...        0.012873   \n",
       "ENSMUSG00000103377.1       0.038580    0.005653  ...        0.014659   \n",
       "\n",
       "SubType               PAL-Inh_Onecut2  LSX-Inh_Foxp2  LSX-Inh_Enox1  \\\n",
       "geneslop2k                                                            \n",
       "ENSMUSG00000102693.1         0.042900       0.028670       0.025057   \n",
       "ENSMUSG00000064842.1         0.049733       0.032969       0.029144   \n",
       "ENSMUSG00000051951.5         0.023654       0.026305       0.021451   \n",
       "ENSMUSG00000102851.1         0.025467       0.030113       0.022554   \n",
       "ENSMUSG00000103377.1         0.025282       0.034705       0.026059   \n",
       "\n",
       "SubType               MSN-D1_Outlier  LSX-Inh_Dock10  LSX-Inh_Nxph1  \\\n",
       "geneslop2k                                                            \n",
       "ENSMUSG00000102693.1        0.026316        0.022981       0.022370   \n",
       "ENSMUSG00000064842.1             NaN        0.028612       0.030037   \n",
       "ENSMUSG00000051951.5        0.013525        0.024743       0.022012   \n",
       "ENSMUSG00000102851.1        0.000000        0.024056       0.025327   \n",
       "ENSMUSG00000103377.1        0.000000        0.032258       0.030009   \n",
       "\n",
       "SubType               LSX-Inh_Zeb2  LSX-Inh_Lats2  PT-L5_Outlier  \n",
       "geneslop2k                                                        \n",
       "ENSMUSG00000102693.1      0.019700       0.018092       0.018018  \n",
       "ENSMUSG00000064842.1      0.026626       0.031396       0.000000  \n",
       "ENSMUSG00000051951.5      0.025300       0.021889       0.022814  \n",
       "ENSMUSG00000102851.1      0.024327       0.015444            NaN  \n",
       "ENSMUSG00000103377.1      0.032695       0.029836       0.015038  \n",
       "\n",
       "[5 rows x 169 columns]"
      ]
     },
     "execution_count": 5,
     "metadata": {},
     "output_type": "execute_result"
    }
   ],
   "source": [
    "subtype_rate = xr.open_dataset(\n",
    "    '/home/hanliu/project/mouse_rostral_brain/study/mCClustermCLevel/SubType.geneslop2k.mcds'\n",
    ")['gene_cluster_da_rate'].sel(mc_type='CHN').to_pandas().T\n",
    "subtype_rate.columns = subtype_rate.columns.str.replace(' ', '_')\n",
    "subtype_rate.head()"
   ]
  },
  {
   "cell_type": "markdown",
   "metadata": {
    "ExecuteTime": {
     "end_time": "2020-02-19T04:59:18.956603Z",
     "start_time": "2020-02-19T04:59:18.948682Z"
    }
   },
   "source": [
    "### Gene assign to node result"
   ]
  },
  {
   "cell_type": "code",
   "execution_count": 6,
   "metadata": {
    "ExecuteTime": {
     "end_time": "2020-02-22T08:40:58.970356Z",
     "start_time": "2020-02-22T08:40:58.950270Z"
    }
   },
   "outputs": [],
   "source": [
    "total_result = pd.read_msgpack('NodeGeneResults.msg')"
   ]
  },
  {
   "cell_type": "markdown",
   "metadata": {},
   "source": [
    "### DMR"
   ]
  },
  {
   "cell_type": "markdown",
   "metadata": {
    "ExecuteTime": {
     "end_time": "2020-02-19T04:47:52.469128Z",
     "start_time": "2020-02-19T04:47:52.443139Z"
    }
   },
   "source": [
    "#### DMG DMR Corr"
   ]
  },
  {
   "cell_type": "code",
   "execution_count": 7,
   "metadata": {
    "ExecuteTime": {
     "end_time": "2020-02-22T08:41:03.938768Z",
     "start_time": "2020-02-22T08:41:00.214465Z"
    }
   },
   "outputs": [],
   "source": [
    "dmr_gene_corr = pd.read_msgpack(\n",
    "    '/home/hanliu/project/mouse_rostral_brain/study/DMRGeneCorr/TotalGeneDMRCorrLoop.0.3.msg')"
   ]
  },
  {
   "cell_type": "markdown",
   "metadata": {},
   "source": [
    "#### DMR Rate"
   ]
  },
  {
   "cell_type": "code",
   "execution_count": 8,
   "metadata": {
    "ExecuteTime": {
     "end_time": "2020-02-22T08:41:22.412404Z",
     "start_time": "2020-02-22T08:41:03.940230Z"
    }
   },
   "outputs": [],
   "source": [
    "dmr_rate = pd.read_hdf(\n",
    "    '/home/hanliu/project/mouse_rostral_brain/DMR/SubType/Total/DMRInfo.h5',\n",
    "    key='Rate').loc[:, cluster_dendro['ivl']].copy()"
   ]
  },
  {
   "cell_type": "markdown",
   "metadata": {},
   "source": [
    "#### DMR Hits"
   ]
  },
  {
   "cell_type": "code",
   "execution_count": 9,
   "metadata": {
    "ExecuteTime": {
     "end_time": "2020-02-22T08:41:41.051857Z",
     "start_time": "2020-02-22T08:41:22.416589Z"
    }
   },
   "outputs": [],
   "source": [
    "hypo_hits = anndata.read_h5ad(\n",
    "    '/home/hanliu/project/mouse_rostral_brain/DMR/SubType/Total/TotalHits.HypoDMR.h5ad'\n",
    ")[:, cluster_dendro['ivl']].copy()"
   ]
  },
  {
   "cell_type": "markdown",
   "metadata": {},
   "source": [
    "## Select gene per node"
   ]
  },
  {
   "cell_type": "code",
   "execution_count": 10,
   "metadata": {
    "ExecuteTime": {
     "end_time": "2020-02-22T08:41:41.191592Z",
     "start_time": "2020-02-22T08:41:41.053548Z"
    },
    "scrolled": true
   },
   "outputs": [],
   "source": [
    "cutoff = 0.1\n",
    "\n",
    "node_dict = {}\n",
    "for node, row in total_result.iterrows():\n",
    "    node_record = total_result.loc[node]\n",
    "    left_gene = node_record[node_record < -cutoff].abs()\n",
    "    right_gene = node_record[node_record > cutoff]\n",
    "    node_dict[node] = {'left': left_gene, 'right': right_gene}\n",
    "    # print(node, left_gene.size, right_gene.size)"
   ]
  },
  {
   "cell_type": "code",
   "execution_count": 11,
   "metadata": {
    "ExecuteTime": {
     "end_time": "2020-02-22T08:41:41.195036Z",
     "start_time": "2020-02-22T08:41:41.193242Z"
    }
   },
   "outputs": [],
   "source": [
    "# sns.clustermap(subtype_rate.loc[left_gene.index, cluster_linkage_order].fillna(0.8), \n",
    "#                col_linkage=cluster_linkage, vmin=0, vmax=0.03)\n",
    "# sns.clustermap(subtype_rate.loc[right_gene.index, cluster_linkage_order].fillna(0.8), \n",
    "#                col_linkage=cluster_linkage, vmin=0, vmax=0.03)"
   ]
  },
  {
   "cell_type": "markdown",
   "metadata": {},
   "source": [
    "## Select DMR\n",
    "\n",
    "- DMR is correlated to gene\n",
    "- DMR is also relavent to the node"
   ]
  },
  {
   "cell_type": "code",
   "execution_count": 12,
   "metadata": {
    "ExecuteTime": {
     "end_time": "2020-02-22T08:41:43.636501Z",
     "start_time": "2020-02-22T08:41:43.628634Z"
    }
   },
   "outputs": [],
   "source": [
    "def get_node_relavent_dmr(node, abs_cutoff=0.1):\n",
    "    left_gene = node_dict[node]['left']\n",
    "    right_gene = node_dict[node]['right']\n",
    "\n",
    "    left_nodes = [i.replace(' ', '_') for i in node_cluster_dict[node]['left']]\n",
    "    right_nodes = [\n",
    "        i.replace(' ', '_') for i in node_cluster_dict[node]['right']\n",
    "    ]\n",
    "\n",
    "    n_left = len(left_nodes)\n",
    "    n_right = len(right_nodes)\n",
    "\n",
    "    left_dmr = dmr_gene_corr[dmr_gene_corr['Gene'].isin(\n",
    "        left_gene.index)]['DMR'].drop_duplicates()\n",
    "    right_dmr = dmr_gene_corr[dmr_gene_corr['Gene'].isin(\n",
    "        right_gene.index)]['DMR'].drop_duplicates()\n",
    "    total_node_dmr = pd.concat([left_dmr, right_dmr])\n",
    "    print(f'{node} gene', left_gene.size, right_gene.size)\n",
    "    print(f'{node} total DMR', total_node_dmr.unique().size)\n",
    "    \n",
    "    related_hits = hypo_hits[total_node_dmr.unique()].copy()\n",
    "    if len(left_nodes) > 1:\n",
    "        left_hits = related_hits[:, left_nodes].X.sum(axis=1).A1\n",
    "    else:\n",
    "        left_hits = related_hits[:, left_nodes].X\n",
    "    if len(right_nodes) > 1:\n",
    "        right_hits = related_hits[:, right_nodes].X.sum(axis=1).A1\n",
    "    else:\n",
    "        right_hits = related_hits[:, left_nodes].X\n",
    "\n",
    "    # approximate relavent score, prevent redo test: (N * (M-m) - M * (N-n)) / N * M\n",
    "    # positive score is left hypo DMR, negative score is right hypo DMR\n",
    "    dmr_relavent_score = pd.Series(\n",
    "        (left_hits * (n_right - right_hits) - right_hits *\n",
    "         (n_left - left_hits)) / (n_left * n_right),\n",
    "        index=related_hits.obs_names)\n",
    "    dmr_relavent_score.name = node\n",
    "    return dmr_relavent_score"
   ]
  },
  {
   "cell_type": "code",
   "execution_count": 13,
   "metadata": {
    "ExecuteTime": {
     "end_time": "2020-02-22T08:43:19.781701Z",
     "start_time": "2020-02-22T08:41:44.068587Z"
    },
    "scrolled": true
   },
   "outputs": [
    {
     "name": "stdout",
     "output_type": "stream",
     "text": [
      "77 gene 0 0\n",
      "77 total DMR 0\n"
     ]
    },
    {
     "name": "stderr",
     "output_type": "stream",
     "text": [
      "/home/hanliu/miniconda3/envs/clustering/lib/python3.7/site-packages/anndata/core/anndata.py:846: FutureWarning: In anndata v0.7+, arrays contained within an AnnData object will maintain their dimensionality. For example, prior to v0.7 `adata[0, 0].X` returned a scalar and `adata[0, :]` returned a 1d array, post v0.7 they will return two dimensional arrays. If you would like to get a one dimensional array from your AnnData object, consider using the `adata.obs_vector`, `adata.var_vector` methods or accessing the array directly.\n",
      "  warn_flatten()\n"
     ]
    },
    {
     "name": "stdout",
     "output_type": "stream",
     "text": [
      "77 related dmr 0\n",
      "78 gene 13 3\n",
      "78 total DMR 3024\n",
      "78 related dmr 0\n",
      "79 gene 8 0\n",
      "79 total DMR 3067\n",
      "79 related dmr 0\n",
      "80 gene 1 4\n",
      "80 total DMR 2774\n",
      "80 related dmr 937\n",
      "81 gene 0 2\n",
      "81 total DMR 659\n",
      "81 related dmr 0\n"
     ]
    },
    {
     "name": "stderr",
     "output_type": "stream",
     "text": [
      "/home/hanliu/miniconda3/envs/clustering/lib/python3.7/site-packages/anndata/core/anndata.py:846: FutureWarning: In anndata v0.7+, arrays contained within an AnnData object will maintain their dimensionality. For example, prior to v0.7 `adata[0, 0].X` returned a scalar and `adata[0, :]` returned a 1d array, post v0.7 they will return two dimensional arrays. If you would like to get a one dimensional array from your AnnData object, consider using the `adata.obs_vector`, `adata.var_vector` methods or accessing the array directly.\n",
      "  warn_flatten()\n"
     ]
    },
    {
     "name": "stdout",
     "output_type": "stream",
     "text": [
      "82 gene 5 0\n",
      "82 total DMR 2156\n",
      "82 related dmr 0\n",
      "83 gene 2 5\n",
      "83 total DMR 2242\n",
      "83 related dmr 0\n",
      "84 gene 0 0\n",
      "84 total DMR 0\n",
      "84 related dmr 0\n",
      "85 gene 3 2\n",
      "85 total DMR 2474\n",
      "85 related dmr 737\n",
      "86 gene 1 2\n",
      "86 total DMR 978\n",
      "86 related dmr 0\n"
     ]
    },
    {
     "name": "stderr",
     "output_type": "stream",
     "text": [
      "/home/hanliu/miniconda3/envs/clustering/lib/python3.7/site-packages/anndata/core/anndata.py:846: FutureWarning: In anndata v0.7+, arrays contained within an AnnData object will maintain their dimensionality. For example, prior to v0.7 `adata[0, 0].X` returned a scalar and `adata[0, :]` returned a 1d array, post v0.7 they will return two dimensional arrays. If you would like to get a one dimensional array from your AnnData object, consider using the `adata.obs_vector`, `adata.var_vector` methods or accessing the array directly.\n",
      "  warn_flatten()\n"
     ]
    },
    {
     "name": "stdout",
     "output_type": "stream",
     "text": [
      "87 gene 0 3\n",
      "87 total DMR 1741\n",
      "87 related dmr 0\n",
      "88 gene 0 6\n",
      "88 total DMR 1174\n",
      "88 related dmr 0\n",
      "89 gene 18 26\n",
      "89 total DMR 10602\n",
      "89 related dmr 0\n",
      "90 gene 4 7\n",
      "90 total DMR 2594\n",
      "90 related dmr 634\n",
      "91 gene 1 0\n",
      "91 total DMR 437\n"
     ]
    },
    {
     "name": "stderr",
     "output_type": "stream",
     "text": [
      "/home/hanliu/miniconda3/envs/clustering/lib/python3.7/site-packages/anndata/core/anndata.py:846: FutureWarning: In anndata v0.7+, arrays contained within an AnnData object will maintain their dimensionality. For example, prior to v0.7 `adata[0, 0].X` returned a scalar and `adata[0, :]` returned a 1d array, post v0.7 they will return two dimensional arrays. If you would like to get a one dimensional array from your AnnData object, consider using the `adata.obs_vector`, `adata.var_vector` methods or accessing the array directly.\n",
      "  warn_flatten()\n"
     ]
    },
    {
     "name": "stdout",
     "output_type": "stream",
     "text": [
      "91 related dmr 0\n",
      "92 gene 5 2\n",
      "92 total DMR 1964\n",
      "92 related dmr 0\n",
      "93 gene 10 11\n",
      "93 total DMR 8083\n",
      "93 related dmr 2184\n",
      "94 gene 13 17\n",
      "94 total DMR 9917\n"
     ]
    },
    {
     "name": "stderr",
     "output_type": "stream",
     "text": [
      "/home/hanliu/miniconda3/envs/clustering/lib/python3.7/site-packages/anndata/core/anndata.py:846: FutureWarning: In anndata v0.7+, arrays contained within an AnnData object will maintain their dimensionality. For example, prior to v0.7 `adata[0, 0].X` returned a scalar and `adata[0, :]` returned a 1d array, post v0.7 they will return two dimensional arrays. If you would like to get a one dimensional array from your AnnData object, consider using the `adata.obs_vector`, `adata.var_vector` methods or accessing the array directly.\n",
      "  warn_flatten()\n"
     ]
    },
    {
     "name": "stdout",
     "output_type": "stream",
     "text": [
      "94 related dmr 2929\n",
      "95 gene 3 2\n",
      "95 total DMR 1031\n",
      "95 related dmr 0\n"
     ]
    },
    {
     "name": "stderr",
     "output_type": "stream",
     "text": [
      "/home/hanliu/miniconda3/envs/clustering/lib/python3.7/site-packages/anndata/core/anndata.py:846: FutureWarning: In anndata v0.7+, arrays contained within an AnnData object will maintain their dimensionality. For example, prior to v0.7 `adata[0, 0].X` returned a scalar and `adata[0, :]` returned a 1d array, post v0.7 they will return two dimensional arrays. If you would like to get a one dimensional array from your AnnData object, consider using the `adata.obs_vector`, `adata.var_vector` methods or accessing the array directly.\n",
      "  warn_flatten()\n"
     ]
    },
    {
     "name": "stdout",
     "output_type": "stream",
     "text": [
      "96 gene 8 34\n",
      "96 total DMR 16236\n",
      "96 related dmr 4638\n",
      "97 gene 2 25\n",
      "97 total DMR 4219\n",
      "97 related dmr 0\n"
     ]
    },
    {
     "name": "stderr",
     "output_type": "stream",
     "text": [
      "/home/hanliu/miniconda3/envs/clustering/lib/python3.7/site-packages/anndata/core/anndata.py:846: FutureWarning: In anndata v0.7+, arrays contained within an AnnData object will maintain their dimensionality. For example, prior to v0.7 `adata[0, 0].X` returned a scalar and `adata[0, :]` returned a 1d array, post v0.7 they will return two dimensional arrays. If you would like to get a one dimensional array from your AnnData object, consider using the `adata.obs_vector`, `adata.var_vector` methods or accessing the array directly.\n",
      "  warn_flatten()\n"
     ]
    },
    {
     "name": "stdout",
     "output_type": "stream",
     "text": [
      "98 gene 5 28\n",
      "98 total DMR 14223\n",
      "98 related dmr 5384\n",
      "99 gene 17 3\n",
      "99 total DMR 6398\n"
     ]
    },
    {
     "name": "stderr",
     "output_type": "stream",
     "text": [
      "/home/hanliu/miniconda3/envs/clustering/lib/python3.7/site-packages/anndata/core/anndata.py:846: FutureWarning: In anndata v0.7+, arrays contained within an AnnData object will maintain their dimensionality. For example, prior to v0.7 `adata[0, 0].X` returned a scalar and `adata[0, :]` returned a 1d array, post v0.7 they will return two dimensional arrays. If you would like to get a one dimensional array from your AnnData object, consider using the `adata.obs_vector`, `adata.var_vector` methods or accessing the array directly.\n",
      "  warn_flatten()\n"
     ]
    },
    {
     "name": "stdout",
     "output_type": "stream",
     "text": [
      "99 related dmr 2263\n",
      "100 gene 0 6\n",
      "100 total DMR 2296\n",
      "100 related dmr 0\n"
     ]
    },
    {
     "name": "stderr",
     "output_type": "stream",
     "text": [
      "/home/hanliu/miniconda3/envs/clustering/lib/python3.7/site-packages/anndata/core/anndata.py:846: FutureWarning: In anndata v0.7+, arrays contained within an AnnData object will maintain their dimensionality. For example, prior to v0.7 `adata[0, 0].X` returned a scalar and `adata[0, :]` returned a 1d array, post v0.7 they will return two dimensional arrays. If you would like to get a one dimensional array from your AnnData object, consider using the `adata.obs_vector`, `adata.var_vector` methods or accessing the array directly.\n",
      "  warn_flatten()\n"
     ]
    },
    {
     "name": "stdout",
     "output_type": "stream",
     "text": [
      "101 gene 0 2\n",
      "101 total DMR 1004\n",
      "101 related dmr 0\n",
      "102 gene 2 2\n",
      "102 total DMR 2354\n",
      "102 related dmr 0\n",
      "103 gene 3 1\n",
      "103 total DMR 1453\n",
      "103 related dmr 259\n",
      "104 gene 5 5\n",
      "104 total DMR 3007\n"
     ]
    },
    {
     "name": "stderr",
     "output_type": "stream",
     "text": [
      "/home/hanliu/miniconda3/envs/clustering/lib/python3.7/site-packages/anndata/core/anndata.py:846: FutureWarning: In anndata v0.7+, arrays contained within an AnnData object will maintain their dimensionality. For example, prior to v0.7 `adata[0, 0].X` returned a scalar and `adata[0, :]` returned a 1d array, post v0.7 they will return two dimensional arrays. If you would like to get a one dimensional array from your AnnData object, consider using the `adata.obs_vector`, `adata.var_vector` methods or accessing the array directly.\n",
      "  warn_flatten()\n"
     ]
    },
    {
     "name": "stdout",
     "output_type": "stream",
     "text": [
      "104 related dmr 225\n",
      "105 gene 16 35\n",
      "105 total DMR 20050\n",
      "105 related dmr 7479\n",
      "106 gene 17 22\n",
      "106 total DMR 9394\n",
      "106 related dmr 2304\n",
      "107 gene 1 1\n",
      "107 total DMR 584\n"
     ]
    },
    {
     "name": "stderr",
     "output_type": "stream",
     "text": [
      "/home/hanliu/miniconda3/envs/clustering/lib/python3.7/site-packages/anndata/core/anndata.py:846: FutureWarning: In anndata v0.7+, arrays contained within an AnnData object will maintain their dimensionality. For example, prior to v0.7 `adata[0, 0].X` returned a scalar and `adata[0, :]` returned a 1d array, post v0.7 they will return two dimensional arrays. If you would like to get a one dimensional array from your AnnData object, consider using the `adata.obs_vector`, `adata.var_vector` methods or accessing the array directly.\n",
      "  warn_flatten()\n"
     ]
    },
    {
     "name": "stdout",
     "output_type": "stream",
     "text": [
      "107 related dmr 0\n",
      "108 gene 9 9\n",
      "108 total DMR 7458\n",
      "108 related dmr 0\n",
      "109 gene 22 32\n",
      "109 total DMR 22000\n",
      "109 related dmr 6704\n",
      "110 gene 17 34\n",
      "110 total DMR 18605\n"
     ]
    },
    {
     "name": "stderr",
     "output_type": "stream",
     "text": [
      "/home/hanliu/miniconda3/envs/clustering/lib/python3.7/site-packages/anndata/core/anndata.py:846: FutureWarning: In anndata v0.7+, arrays contained within an AnnData object will maintain their dimensionality. For example, prior to v0.7 `adata[0, 0].X` returned a scalar and `adata[0, :]` returned a 1d array, post v0.7 they will return two dimensional arrays. If you would like to get a one dimensional array from your AnnData object, consider using the `adata.obs_vector`, `adata.var_vector` methods or accessing the array directly.\n",
      "  warn_flatten()\n"
     ]
    },
    {
     "name": "stdout",
     "output_type": "stream",
     "text": [
      "110 related dmr 4663\n",
      "111 gene 6 15\n",
      "111 total DMR 7876\n",
      "111 related dmr 0\n"
     ]
    },
    {
     "name": "stderr",
     "output_type": "stream",
     "text": [
      "/home/hanliu/miniconda3/envs/clustering/lib/python3.7/site-packages/anndata/core/anndata.py:846: FutureWarning: In anndata v0.7+, arrays contained within an AnnData object will maintain their dimensionality. For example, prior to v0.7 `adata[0, 0].X` returned a scalar and `adata[0, :]` returned a 1d array, post v0.7 they will return two dimensional arrays. If you would like to get a one dimensional array from your AnnData object, consider using the `adata.obs_vector`, `adata.var_vector` methods or accessing the array directly.\n",
      "  warn_flatten()\n"
     ]
    },
    {
     "name": "stdout",
     "output_type": "stream",
     "text": [
      "112 gene 35 6\n",
      "112 total DMR 16018\n",
      "112 related dmr 3657\n",
      "113 gene 6 5\n",
      "113 total DMR 3471\n",
      "113 related dmr 0\n"
     ]
    },
    {
     "name": "stderr",
     "output_type": "stream",
     "text": [
      "/home/hanliu/miniconda3/envs/clustering/lib/python3.7/site-packages/anndata/core/anndata.py:846: FutureWarning: In anndata v0.7+, arrays contained within an AnnData object will maintain their dimensionality. For example, prior to v0.7 `adata[0, 0].X` returned a scalar and `adata[0, :]` returned a 1d array, post v0.7 they will return two dimensional arrays. If you would like to get a one dimensional array from your AnnData object, consider using the `adata.obs_vector`, `adata.var_vector` methods or accessing the array directly.\n",
      "  warn_flatten()\n"
     ]
    },
    {
     "name": "stdout",
     "output_type": "stream",
     "text": [
      "114 gene 38 34\n",
      "114 total DMR 24808\n",
      "114 related dmr 8718\n",
      "115 gene 38 27\n",
      "115 total DMR 19504\n",
      "115 related dmr 4592\n",
      "116 gene 0 2\n",
      "116 total DMR 1697\n",
      "116 related dmr 0\n"
     ]
    },
    {
     "name": "stderr",
     "output_type": "stream",
     "text": [
      "/home/hanliu/miniconda3/envs/clustering/lib/python3.7/site-packages/anndata/core/anndata.py:846: FutureWarning: In anndata v0.7+, arrays contained within an AnnData object will maintain their dimensionality. For example, prior to v0.7 `adata[0, 0].X` returned a scalar and `adata[0, :]` returned a 1d array, post v0.7 they will return two dimensional arrays. If you would like to get a one dimensional array from your AnnData object, consider using the `adata.obs_vector`, `adata.var_vector` methods or accessing the array directly.\n",
      "  warn_flatten()\n"
     ]
    },
    {
     "name": "stdout",
     "output_type": "stream",
     "text": [
      "117 gene 25 71\n",
      "117 total DMR 27510\n",
      "117 related dmr 7678\n",
      "118 gene 8 29\n",
      "118 total DMR 11928\n",
      "118 related dmr 0\n"
     ]
    },
    {
     "name": "stderr",
     "output_type": "stream",
     "text": [
      "/home/hanliu/miniconda3/envs/clustering/lib/python3.7/site-packages/anndata/core/anndata.py:846: FutureWarning: In anndata v0.7+, arrays contained within an AnnData object will maintain their dimensionality. For example, prior to v0.7 `adata[0, 0].X` returned a scalar and `adata[0, :]` returned a 1d array, post v0.7 they will return two dimensional arrays. If you would like to get a one dimensional array from your AnnData object, consider using the `adata.obs_vector`, `adata.var_vector` methods or accessing the array directly.\n",
      "  warn_flatten()\n"
     ]
    },
    {
     "name": "stdout",
     "output_type": "stream",
     "text": [
      "119 gene 53 38\n",
      "119 total DMR 33583\n",
      "119 related dmr 15065\n",
      "120 gene 18 20\n",
      "120 total DMR 8684\n"
     ]
    },
    {
     "name": "stderr",
     "output_type": "stream",
     "text": [
      "/home/hanliu/miniconda3/envs/clustering/lib/python3.7/site-packages/anndata/core/anndata.py:846: FutureWarning: In anndata v0.7+, arrays contained within an AnnData object will maintain their dimensionality. For example, prior to v0.7 `adata[0, 0].X` returned a scalar and `adata[0, :]` returned a 1d array, post v0.7 they will return two dimensional arrays. If you would like to get a one dimensional array from your AnnData object, consider using the `adata.obs_vector`, `adata.var_vector` methods or accessing the array directly.\n",
      "  warn_flatten()\n"
     ]
    },
    {
     "name": "stdout",
     "output_type": "stream",
     "text": [
      "120 related dmr 1836\n",
      "121 gene 13 41\n",
      "121 total DMR 17121\n",
      "121 related dmr 7675\n",
      "122 gene 6 48\n",
      "122 total DMR 20215\n"
     ]
    },
    {
     "name": "stderr",
     "output_type": "stream",
     "text": [
      "/home/hanliu/miniconda3/envs/clustering/lib/python3.7/site-packages/anndata/core/anndata.py:846: FutureWarning: In anndata v0.7+, arrays contained within an AnnData object will maintain their dimensionality. For example, prior to v0.7 `adata[0, 0].X` returned a scalar and `adata[0, :]` returned a 1d array, post v0.7 they will return two dimensional arrays. If you would like to get a one dimensional array from your AnnData object, consider using the `adata.obs_vector`, `adata.var_vector` methods or accessing the array directly.\n",
      "  warn_flatten()\n"
     ]
    },
    {
     "name": "stdout",
     "output_type": "stream",
     "text": [
      "122 related dmr 6965\n",
      "123 gene 14 17\n",
      "123 total DMR 11162\n"
     ]
    },
    {
     "name": "stderr",
     "output_type": "stream",
     "text": [
      "/home/hanliu/miniconda3/envs/clustering/lib/python3.7/site-packages/anndata/core/anndata.py:846: FutureWarning: In anndata v0.7+, arrays contained within an AnnData object will maintain their dimensionality. For example, prior to v0.7 `adata[0, 0].X` returned a scalar and `adata[0, :]` returned a 1d array, post v0.7 they will return two dimensional arrays. If you would like to get a one dimensional array from your AnnData object, consider using the `adata.obs_vector`, `adata.var_vector` methods or accessing the array directly.\n",
      "  warn_flatten()\n"
     ]
    },
    {
     "name": "stdout",
     "output_type": "stream",
     "text": [
      "123 related dmr 2134\n",
      "124 gene 311 126\n",
      "124 total DMR 101522\n"
     ]
    },
    {
     "name": "stderr",
     "output_type": "stream",
     "text": [
      "/home/hanliu/miniconda3/envs/clustering/lib/python3.7/site-packages/anndata/core/anndata.py:846: FutureWarning: In anndata v0.7+, arrays contained within an AnnData object will maintain their dimensionality. For example, prior to v0.7 `adata[0, 0].X` returned a scalar and `adata[0, :]` returned a 1d array, post v0.7 they will return two dimensional arrays. If you would like to get a one dimensional array from your AnnData object, consider using the `adata.obs_vector`, `adata.var_vector` methods or accessing the array directly.\n",
      "  warn_flatten()\n"
     ]
    },
    {
     "name": "stdout",
     "output_type": "stream",
     "text": [
      "124 related dmr 10987\n",
      "125 gene 91 44\n",
      "125 total DMR 38073\n",
      "125 related dmr 8491\n",
      "126 gene 42 25\n",
      "126 total DMR 17972\n",
      "126 related dmr 4389\n",
      "127 gene 60 42\n",
      "127 total DMR 30226\n"
     ]
    },
    {
     "name": "stderr",
     "output_type": "stream",
     "text": [
      "/home/hanliu/miniconda3/envs/clustering/lib/python3.7/site-packages/anndata/core/anndata.py:846: FutureWarning: In anndata v0.7+, arrays contained within an AnnData object will maintain their dimensionality. For example, prior to v0.7 `adata[0, 0].X` returned a scalar and `adata[0, :]` returned a 1d array, post v0.7 they will return two dimensional arrays. If you would like to get a one dimensional array from your AnnData object, consider using the `adata.obs_vector`, `adata.var_vector` methods or accessing the array directly.\n",
      "  warn_flatten()\n"
     ]
    },
    {
     "name": "stdout",
     "output_type": "stream",
     "text": [
      "127 related dmr 10619\n",
      "128 gene 11 89\n",
      "128 total DMR 34939\n",
      "128 related dmr 11686\n",
      "129 gene 46 88\n",
      "129 total DMR 48361\n"
     ]
    },
    {
     "name": "stderr",
     "output_type": "stream",
     "text": [
      "/home/hanliu/miniconda3/envs/clustering/lib/python3.7/site-packages/anndata/core/anndata.py:846: FutureWarning: In anndata v0.7+, arrays contained within an AnnData object will maintain their dimensionality. For example, prior to v0.7 `adata[0, 0].X` returned a scalar and `adata[0, :]` returned a 1d array, post v0.7 they will return two dimensional arrays. If you would like to get a one dimensional array from your AnnData object, consider using the `adata.obs_vector`, `adata.var_vector` methods or accessing the array directly.\n",
      "  warn_flatten()\n"
     ]
    },
    {
     "name": "stdout",
     "output_type": "stream",
     "text": [
      "129 related dmr 15903\n",
      "130 gene 57 157\n",
      "130 total DMR 57520\n",
      "130 related dmr 15986\n",
      "131 gene 17 9\n",
      "131 total DMR 11017\n",
      "131 related dmr 0\n"
     ]
    },
    {
     "name": "stderr",
     "output_type": "stream",
     "text": [
      "/home/hanliu/miniconda3/envs/clustering/lib/python3.7/site-packages/anndata/core/anndata.py:846: FutureWarning: In anndata v0.7+, arrays contained within an AnnData object will maintain their dimensionality. For example, prior to v0.7 `adata[0, 0].X` returned a scalar and `adata[0, :]` returned a 1d array, post v0.7 they will return two dimensional arrays. If you would like to get a one dimensional array from your AnnData object, consider using the `adata.obs_vector`, `adata.var_vector` methods or accessing the array directly.\n",
      "  warn_flatten()\n"
     ]
    },
    {
     "name": "stdout",
     "output_type": "stream",
     "text": [
      "132 gene 87 67\n",
      "132 total DMR 44081\n",
      "132 related dmr 12499\n",
      "133 gene 86 102\n",
      "133 total DMR 48423\n"
     ]
    },
    {
     "name": "stderr",
     "output_type": "stream",
     "text": [
      "/home/hanliu/miniconda3/envs/clustering/lib/python3.7/site-packages/anndata/core/anndata.py:846: FutureWarning: In anndata v0.7+, arrays contained within an AnnData object will maintain their dimensionality. For example, prior to v0.7 `adata[0, 0].X` returned a scalar and `adata[0, :]` returned a 1d array, post v0.7 they will return two dimensional arrays. If you would like to get a one dimensional array from your AnnData object, consider using the `adata.obs_vector`, `adata.var_vector` methods or accessing the array directly.\n",
      "  warn_flatten()\n"
     ]
    },
    {
     "name": "stdout",
     "output_type": "stream",
     "text": [
      "133 related dmr 13694\n",
      "134 gene 318 820\n",
      "134 total DMR 259866\n"
     ]
    },
    {
     "name": "stderr",
     "output_type": "stream",
     "text": [
      "/home/hanliu/miniconda3/envs/clustering/lib/python3.7/site-packages/anndata/core/anndata.py:846: FutureWarning: In anndata v0.7+, arrays contained within an AnnData object will maintain their dimensionality. For example, prior to v0.7 `adata[0, 0].X` returned a scalar and `adata[0, :]` returned a 1d array, post v0.7 they will return two dimensional arrays. If you would like to get a one dimensional array from your AnnData object, consider using the `adata.obs_vector`, `adata.var_vector` methods or accessing the array directly.\n",
      "  warn_flatten()\n"
     ]
    },
    {
     "name": "stdout",
     "output_type": "stream",
     "text": [
      "134 related dmr 38848\n",
      "135 gene 740 431\n",
      "135 total DMR 263624\n"
     ]
    },
    {
     "name": "stderr",
     "output_type": "stream",
     "text": [
      "/home/hanliu/miniconda3/envs/clustering/lib/python3.7/site-packages/anndata/core/anndata.py:846: FutureWarning: In anndata v0.7+, arrays contained within an AnnData object will maintain their dimensionality. For example, prior to v0.7 `adata[0, 0].X` returned a scalar and `adata[0, :]` returned a 1d array, post v0.7 they will return two dimensional arrays. If you would like to get a one dimensional array from your AnnData object, consider using the `adata.obs_vector`, `adata.var_vector` methods or accessing the array directly.\n",
      "  warn_flatten()\n"
     ]
    },
    {
     "name": "stdout",
     "output_type": "stream",
     "text": [
      "135 related dmr 46475\n",
      "136 gene 170 73\n",
      "136 total DMR 80709\n",
      "136 related dmr 43183\n",
      "137 gene 84 261\n",
      "137 total DMR 92196\n"
     ]
    },
    {
     "name": "stderr",
     "output_type": "stream",
     "text": [
      "/home/hanliu/miniconda3/envs/clustering/lib/python3.7/site-packages/anndata/core/anndata.py:846: FutureWarning: In anndata v0.7+, arrays contained within an AnnData object will maintain their dimensionality. For example, prior to v0.7 `adata[0, 0].X` returned a scalar and `adata[0, :]` returned a 1d array, post v0.7 they will return two dimensional arrays. If you would like to get a one dimensional array from your AnnData object, consider using the `adata.obs_vector`, `adata.var_vector` methods or accessing the array directly.\n",
      "  warn_flatten()\n"
     ]
    },
    {
     "name": "stdout",
     "output_type": "stream",
     "text": [
      "137 related dmr 11991\n",
      "138 gene 78 262\n",
      "138 total DMR 103440\n",
      "138 related dmr 46581\n",
      "139 gene 137 42\n",
      "139 total DMR 50822\n",
      "139 related dmr 16543\n",
      "140 gene 70 115\n",
      "140 total DMR 66702\n"
     ]
    },
    {
     "name": "stderr",
     "output_type": "stream",
     "text": [
      "/home/hanliu/miniconda3/envs/clustering/lib/python3.7/site-packages/anndata/core/anndata.py:846: FutureWarning: In anndata v0.7+, arrays contained within an AnnData object will maintain their dimensionality. For example, prior to v0.7 `adata[0, 0].X` returned a scalar and `adata[0, :]` returned a 1d array, post v0.7 they will return two dimensional arrays. If you would like to get a one dimensional array from your AnnData object, consider using the `adata.obs_vector`, `adata.var_vector` methods or accessing the array directly.\n",
      "  warn_flatten()\n"
     ]
    },
    {
     "name": "stdout",
     "output_type": "stream",
     "text": [
      "140 related dmr 29107\n",
      "141 gene 618 1459\n",
      "141 total DMR 432116\n"
     ]
    },
    {
     "name": "stderr",
     "output_type": "stream",
     "text": [
      "/home/hanliu/miniconda3/envs/clustering/lib/python3.7/site-packages/anndata/core/anndata.py:846: FutureWarning: In anndata v0.7+, arrays contained within an AnnData object will maintain their dimensionality. For example, prior to v0.7 `adata[0, 0].X` returned a scalar and `adata[0, :]` returned a 1d array, post v0.7 they will return two dimensional arrays. If you would like to get a one dimensional array from your AnnData object, consider using the `adata.obs_vector`, `adata.var_vector` methods or accessing the array directly.\n",
      "  warn_flatten()\n"
     ]
    },
    {
     "name": "stdout",
     "output_type": "stream",
     "text": [
      "141 related dmr 93788\n",
      "142 gene 77 567\n",
      "142 total DMR 105889\n"
     ]
    },
    {
     "name": "stderr",
     "output_type": "stream",
     "text": [
      "/home/hanliu/miniconda3/envs/clustering/lib/python3.7/site-packages/anndata/core/anndata.py:846: FutureWarning: In anndata v0.7+, arrays contained within an AnnData object will maintain their dimensionality. For example, prior to v0.7 `adata[0, 0].X` returned a scalar and `adata[0, :]` returned a 1d array, post v0.7 they will return two dimensional arrays. If you would like to get a one dimensional array from your AnnData object, consider using the `adata.obs_vector`, `adata.var_vector` methods or accessing the array directly.\n",
      "  warn_flatten()\n"
     ]
    },
    {
     "name": "stdout",
     "output_type": "stream",
     "text": [
      "142 related dmr 46334\n",
      "143 gene 170 607\n",
      "143 total DMR 188527\n",
      "143 related dmr 41454\n",
      "144 gene 47 187\n",
      "144 total DMR 75090\n",
      "144 related dmr 21820\n",
      "145 gene 1117 787\n",
      "145 total DMR 403682\n",
      "145 related dmr 122238\n",
      "146 gene 271 84\n",
      "146 total DMR 94114\n",
      "146 related dmr 38609\n",
      "147 gene 252 121\n",
      "147 total DMR 123444\n",
      "147 related dmr 62688\n",
      "148 gene 1484 261\n",
      "148 total DMR 351469\n",
      "148 related dmr 91995\n",
      "149 gene 177 127\n",
      "149 total DMR 93403\n"
     ]
    },
    {
     "name": "stderr",
     "output_type": "stream",
     "text": [
      "/home/hanliu/miniconda3/envs/clustering/lib/python3.7/site-packages/anndata/core/anndata.py:846: FutureWarning: In anndata v0.7+, arrays contained within an AnnData object will maintain their dimensionality. For example, prior to v0.7 `adata[0, 0].X` returned a scalar and `adata[0, :]` returned a 1d array, post v0.7 they will return two dimensional arrays. If you would like to get a one dimensional array from your AnnData object, consider using the `adata.obs_vector`, `adata.var_vector` methods or accessing the array directly.\n",
      "  warn_flatten()\n"
     ]
    },
    {
     "name": "stdout",
     "output_type": "stream",
     "text": [
      "149 related dmr 22918\n",
      "150 gene 257 110\n",
      "150 total DMR 124220\n",
      "150 related dmr 57121\n",
      "151 gene 383 110\n",
      "151 total DMR 118542\n",
      "151 related dmr 51685\n",
      "152 gene 206 1196\n",
      "152 total DMR 254340\n",
      "152 related dmr 95459\n"
     ]
    }
   ],
   "source": [
    "data_list = []\n",
    "node_list = []\n",
    "for node in node_cluster_dict.keys():\n",
    "    use_dmr = get_node_relavent_dmr(node, abs_cutoff=0)\n",
    "    use_dmr = use_dmr[use_dmr.abs() > 0.1]\n",
    "    sparse_data = csr_matrix(use_dmr.reindex(dmr_rate.index).fillna(0).values[None, :])\n",
    "    node_list.append(node)\n",
    "    data_list.append(sparse_data)\n",
    "    print(f'{node} related dmr', use_dmr.size)"
   ]
  },
  {
   "cell_type": "code",
   "execution_count": 14,
   "metadata": {
    "ExecuteTime": {
     "end_time": "2020-02-20T17:48:39.054131Z",
     "start_time": "2020-02-20T17:48:36.796298Z"
    }
   },
   "outputs": [
    {
     "name": "stderr",
     "output_type": "stream",
     "text": [
      "Transforming to str index.\n"
     ]
    }
   ],
   "source": [
    "adata = anndata.AnnData(X=vstack(data_list),\n",
    "                        obs=pd.DataFrame([], index=node_list),\n",
    "                        var=pd.DataFrame([], index=dmr_rate.index))"
   ]
  },
  {
   "cell_type": "code",
   "execution_count": 15,
   "metadata": {
    "ExecuteTime": {
     "end_time": "2020-02-20T17:48:42.786423Z",
     "start_time": "2020-02-20T17:48:39.055458Z"
    }
   },
   "outputs": [],
   "source": [
    "adata.write_h5ad('NodeDMRResults.h5ad')"
   ]
  },
  {
   "cell_type": "code",
   "execution_count": null,
   "metadata": {},
   "outputs": [],
   "source": []
  },
  {
   "cell_type": "code",
   "execution_count": null,
   "metadata": {},
   "outputs": [],
   "source": []
  },
  {
   "cell_type": "code",
   "execution_count": null,
   "metadata": {},
   "outputs": [],
   "source": []
  },
  {
   "cell_type": "code",
   "execution_count": null,
   "metadata": {},
   "outputs": [],
   "source": []
  },
  {
   "cell_type": "code",
   "execution_count": null,
   "metadata": {},
   "outputs": [],
   "source": []
  },
  {
   "cell_type": "code",
   "execution_count": null,
   "metadata": {},
   "outputs": [],
   "source": []
  },
  {
   "cell_type": "code",
   "execution_count": null,
   "metadata": {},
   "outputs": [],
   "source": []
  },
  {
   "cell_type": "code",
   "execution_count": null,
   "metadata": {},
   "outputs": [],
   "source": []
  },
  {
   "cell_type": "code",
   "execution_count": null,
   "metadata": {},
   "outputs": [],
   "source": []
  },
  {
   "cell_type": "code",
   "execution_count": null,
   "metadata": {},
   "outputs": [],
   "source": []
  },
  {
   "cell_type": "code",
   "execution_count": null,
   "metadata": {},
   "outputs": [],
   "source": []
  },
  {
   "cell_type": "code",
   "execution_count": null,
   "metadata": {},
   "outputs": [],
   "source": []
  }
 ],
 "metadata": {
  "hide_input": false,
  "kernelspec": {
   "display_name": "Python 3",
   "language": "python",
   "name": "python3"
  },
  "language_info": {
   "codemirror_mode": {
    "name": "ipython",
    "version": 3
   },
   "file_extension": ".py",
   "mimetype": "text/x-python",
   "name": "python",
   "nbconvert_exporter": "python",
   "pygments_lexer": "ipython3",
   "version": "3.7.3"
  },
  "toc": {
   "base_numbering": 1,
   "nav_menu": {},
   "number_sections": true,
   "sideBar": true,
   "skip_h1_title": true,
   "title_cell": "Table of Contents",
   "title_sidebar": "Contents",
   "toc_cell": false,
   "toc_position": {},
   "toc_section_display": true,
   "toc_window_display": true
  }
 },
 "nbformat": 4,
 "nbformat_minor": 2
}
