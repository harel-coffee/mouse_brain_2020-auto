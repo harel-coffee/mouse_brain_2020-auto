{
 "cells": [
  {
   "cell_type": "code",
   "execution_count": 1,
   "metadata": {
    "ExecuteTime": {
     "end_time": "2020-03-16T22:54:10.608922Z",
     "start_time": "2020-03-16T22:54:09.616301Z"
    }
   },
   "outputs": [],
   "source": [
    "import pandas as pd\n",
    "import numpy as np\n",
    "import xarray as xr\n",
    "import joblib\n",
    "import seaborn as sns\n",
    "import anndata\n",
    "import matplotlib.pyplot as plt"
   ]
  },
  {
   "cell_type": "code",
   "execution_count": 2,
   "metadata": {
    "ExecuteTime": {
     "end_time": "2020-03-16T22:54:11.327875Z",
     "start_time": "2020-03-16T22:54:11.322814Z"
    }
   },
   "outputs": [],
   "source": [
    "from matplotlib import rc\n",
    "\n",
    "labelsize = 6\n",
    "linewidth = 0.1\n",
    "rc('lines', linewidth=linewidth)\n",
    "rc('axes', labelsize=labelsize, linewidth=linewidth)\n",
    "rc('xtick', labelsize=labelsize)\n",
    "rc('ytick', labelsize=labelsize)\n",
    "rc('xtick.major', width=linewidth)\n",
    "rc('ytick.major', width=linewidth)\n",
    "rc('xtick.minor', width=linewidth-0.2)\n",
    "rc('ytick.minor', width=linewidth-0.2)"
   ]
  },
  {
   "cell_type": "markdown",
   "metadata": {},
   "source": [
    "## Pairwise DMR"
   ]
  },
  {
   "cell_type": "code",
   "execution_count": 3,
   "metadata": {
    "ExecuteTime": {
     "end_time": "2020-03-16T22:54:39.666656Z",
     "start_time": "2020-03-16T22:54:12.454856Z"
    }
   },
   "outputs": [],
   "source": [
    "pairwise_dmr = anndata.read_h5ad(\n",
    "    '/home/hanliu/project/mouse_rostral_brain/study/AssignGeneToTree/InhDMR/PairwiseDMR.h5ad'\n",
    ")\n",
    "dmr_counts = pairwise_dmr.X.sum(axis=1)\n",
    "dmr_counts = pd.Series(dmr_counts.A1, index=pairwise_dmr.obs.set_index(['cluster_a', 'cluster_b']).index)"
   ]
  },
  {
   "cell_type": "code",
   "execution_count": 4,
   "metadata": {
    "ExecuteTime": {
     "end_time": "2020-03-16T22:54:39.908468Z",
     "start_time": "2020-03-16T22:54:39.669025Z"
    }
   },
   "outputs": [],
   "source": [
    "dmr_counts.index = dmr_counts.index.map(lambda i: tuple(sorted(i)))\n",
    "final_dmr_counts = dmr_counts.groupby(dmr_counts.index).sum()\n",
    "\n",
    "dmr_count = pd.DataFrame([\n",
    "    final_dmr_counts.index.map(lambda i: i[0]),\n",
    "    final_dmr_counts.index.map(lambda i: i[1]), final_dmr_counts.values\n",
    "],\n",
    "                                index=['a', 'b', 'count'\n",
    "                                       ]).T.set_index(['a', 'b'\n",
    "                                                       ])['count']\n",
    "dmr_count_r = pd.Series(dmr_count.values, index=dmr_count.index.map(lambda i: i[::-1]))\n",
    "dmr_count_table = pd.concat([dmr_count, dmr_count_r]).unstack().fillna(0).astype(int)"
   ]
  },
  {
   "cell_type": "code",
   "execution_count": 5,
   "metadata": {
    "ExecuteTime": {
     "end_time": "2020-03-16T22:54:39.916750Z",
     "start_time": "2020-03-16T22:54:39.910039Z"
    }
   },
   "outputs": [],
   "source": [
    "# order by dendrogram\n",
    "cluster_order = joblib.load(\n",
    "    '/home/hanliu/project/mouse_rostral_brain/study/AssignGeneToTree/RTree/Inh.dendrogram.lib'\n",
    ")['ivl']\n",
    "\n",
    "name_map = {\n",
    "    i.replace('_', '.').replace('-', '.'): i\n",
    "    for i in dmr_count_table.index\n",
    "}\n",
    "cluster_order = [name_map[i] for i in cluster_order]\n",
    "\n",
    "dmr_count_table = dmr_count_table.reindex(index=cluster_order, columns=cluster_order)"
   ]
  },
  {
   "cell_type": "code",
   "execution_count": 6,
   "metadata": {
    "ExecuteTime": {
     "end_time": "2020-03-16T22:54:41.780130Z",
     "start_time": "2020-03-16T22:54:41.777109Z"
    }
   },
   "outputs": [],
   "source": [
    "mask = np.zeros_like(dmr_count_table)\n",
    "mask[np.triu_indices_from(mask)] = True"
   ]
  },
  {
   "cell_type": "code",
   "execution_count": 7,
   "metadata": {
    "ExecuteTime": {
     "end_time": "2020-03-16T22:54:42.252392Z",
     "start_time": "2020-03-16T22:54:42.246219Z"
    }
   },
   "outputs": [],
   "source": [
    "counts = dmr_count_table.unstack()\n",
    "counts = counts[counts > 0]\n",
    "min_dmr, max_dmr = counts.min(), counts.max()"
   ]
  },
  {
   "cell_type": "markdown",
   "metadata": {},
   "source": [
    "## Cluster Gene mCH Level"
   ]
  },
  {
   "cell_type": "code",
   "execution_count": 8,
   "metadata": {
    "ExecuteTime": {
     "end_time": "2020-03-16T22:54:53.662884Z",
     "start_time": "2020-03-16T22:54:43.207558Z"
    }
   },
   "outputs": [],
   "source": [
    "with pd.HDFStore('/home/hanliu/project/mouse_rostral_brain/DMR/SubType/Total/DMRInfo.h5') as hdf:\n",
    "    dmr_rate = hdf['Rate']"
   ]
  },
  {
   "cell_type": "code",
   "execution_count": 12,
   "metadata": {
    "ExecuteTime": {
     "end_time": "2020-03-16T22:55:35.296047Z",
     "start_time": "2020-03-16T22:55:35.293551Z"
    }
   },
   "outputs": [],
   "source": [
    "example_pair = ['MGE-Pvalb_Cacna1i', 'MGE-Sst_Unc5b']\n"
   ]
  },
  {
   "cell_type": "code",
   "execution_count": 14,
   "metadata": {
    "ExecuteTime": {
     "end_time": "2020-03-16T22:55:42.553420Z",
     "start_time": "2020-03-16T22:55:42.547677Z"
    }
   },
   "outputs": [
    {
     "data": {
      "text/plain": [
       "'2464'"
      ]
     },
     "execution_count": 14,
     "metadata": {},
     "output_type": "execute_result"
    }
   ],
   "source": [
    "pair_id = pairwise_dmr.obs_names[\n",
    "    pairwise_dmr.obs['cluster_a'].isin(example_pair)\n",
    "    & pairwise_dmr.obs['cluster_b'].isin(example_pair)][0]\n",
    "pair_id"
   ]
  },
  {
   "cell_type": "code",
   "execution_count": 15,
   "metadata": {
    "ExecuteTime": {
     "end_time": "2020-03-16T22:55:46.970294Z",
     "start_time": "2020-03-16T22:55:43.149928Z"
    }
   },
   "outputs": [],
   "source": [
    "related_dmr = pairwise_dmr.var_names[pairwise_dmr.var_vector(pair_id).astype(bool)]\n",
    "\n",
    "use_rate = dmr_rate.loc[related_dmr, example_pair].copy()\n",
    "dmr_delta = (use_rate.iloc[:, 0] - use_rate.iloc[:, 1]).sort_values(ascending=False)\n",
    "use_rate_up = use_rate.loc[dmr_delta[dmr_delta > 0.4].index]\n",
    "use_rate_low = use_rate.loc[dmr_delta[dmr_delta < -0.4].index]"
   ]
  },
  {
   "cell_type": "code",
   "execution_count": 16,
   "metadata": {
    "ExecuteTime": {
     "end_time": "2020-03-16T22:55:46.975060Z",
     "start_time": "2020-03-16T22:55:46.971880Z"
    }
   },
   "outputs": [
    {
     "data": {
      "text/plain": [
       "(41840, 2)"
      ]
     },
     "execution_count": 16,
     "metadata": {},
     "output_type": "execute_result"
    }
   ],
   "source": [
    "use_rate_up.shape"
   ]
  },
  {
   "cell_type": "code",
   "execution_count": 17,
   "metadata": {
    "ExecuteTime": {
     "end_time": "2020-03-16T22:55:46.979103Z",
     "start_time": "2020-03-16T22:55:46.976462Z"
    }
   },
   "outputs": [
    {
     "data": {
      "text/plain": [
       "(80964, 2)"
      ]
     },
     "execution_count": 17,
     "metadata": {},
     "output_type": "execute_result"
    }
   ],
   "source": [
    "use_rate_low.shape"
   ]
  },
  {
   "cell_type": "markdown",
   "metadata": {},
   "source": [
    "## Plot"
   ]
  },
  {
   "cell_type": "code",
   "execution_count": 19,
   "metadata": {
    "ExecuteTime": {
     "end_time": "2020-03-16T22:55:53.850109Z",
     "start_time": "2020-03-16T22:55:52.495601Z"
    }
   },
   "outputs": [
    {
     "name": "stdout",
     "output_type": "stream",
     "text": [
      "(50, 46)\n"
     ]
    },
    {
     "data": {
      "image/png": "[encoded data removed]",
      "text/plain": [
       "<Figure size 600x600 with 6 Axes>"
      ]
     },
     "metadata": {
      "needs_background": "light"
     },
     "output_type": "display_data"
    }
   ],
   "source": [
    "fig = plt.figure(figsize=(2, 2), dpi=300)\n",
    "\n",
    "gs = fig.add_gridspec(20, 10)\n",
    "\n",
    "ax_heatmap = fig.add_subplot(gs[:18, :9])\n",
    "ax_cbar = fig.add_subplot(gs[-1, 2:5])\n",
    "ax_up_left = fig.add_subplot(gs[0:7, 8])\n",
    "ax_up_right = fig.add_subplot(gs[0:7, 9])\n",
    "ax_low_left = fig.add_subplot(gs[7:14, 8])\n",
    "ax_low_right = fig.add_subplot(gs[7:14, 9])\n",
    "\n",
    "ax = ax_heatmap\n",
    "sns.heatmap(dmr_count_table.fillna(0),\n",
    "            ax=ax,\n",
    "            vmin=0,\n",
    "            vmax=200000,\n",
    "            cmap='plasma',\n",
    "            mask=mask,\n",
    "            cbar=None)\n",
    "ax.set(xticks=[], yticks=[], xlabel='', ylabel='')\n",
    "\n",
    "ax = ax_cbar\n",
    "from ALLCools.plot.color import plot_colorbar\n",
    "plot_colorbar(ax,\n",
    "              cmap='plasma',\n",
    "              hue_norm=(0, 2000),\n",
    "              cnorm=None,\n",
    "              label='# DMG',\n",
    "              orientation='horizontal',\n",
    "              labelsize=4,\n",
    "              linewidth=0.5)\n",
    "ax.text(-0.05,\n",
    "        0.5,\n",
    "        f'(min) {min_dmr} ',\n",
    "        fontsize=labelsize,\n",
    "        ha='right',\n",
    "        va='center',\n",
    "        transform=ax.transAxes,\n",
    "        clip_on=False)\n",
    "ax.text(1.05,\n",
    "        0.5,\n",
    "        f' {max_dmr} (max)',\n",
    "        fontsize=labelsize,\n",
    "        ha='left',\n",
    "        va='center',\n",
    "        transform=ax.transAxes,\n",
    "        clip_on=False)\n",
    "example_loc = dmr_count_table.index.get_loc(example_pair[1]), dmr_count_table.columns.get_loc(example_pair[0])\n",
    "print(example_loc)\n",
    "\n",
    "ax = ax_up_left\n",
    "ax.imshow(use_rate_up.iloc[:, 0].values[:, None],\n",
    "          aspect='auto',\n",
    "          vmin=0,\n",
    "          vmax=1)\n",
    "ax.axis('off')\n",
    "ax = ax_up_right\n",
    "ax.imshow(use_rate_up.iloc[:, 1].values[:, None],\n",
    "          aspect='auto',\n",
    "          vmin=0,\n",
    "          vmax=1)\n",
    "ax.axis('off')\n",
    "ax = ax_low_left\n",
    "ax.imshow(use_rate_low.iloc[:, 0].values[:, None],\n",
    "          aspect='auto',\n",
    "          vmin=0,\n",
    "          vmax=1)\n",
    "ax.axis('off')\n",
    "ax = ax_low_right\n",
    "ax.imshow(use_rate_low.iloc[:, 1].values[:, None],\n",
    "          aspect='auto',\n",
    "          vmin=0,\n",
    "          vmax=1)\n",
    "ax.axis('off')\n",
    "\n",
    "fig.savefig('PairwiseInhDMR.pdf')"
   ]
  },
  {
   "cell_type": "code",
   "execution_count": 20,
   "metadata": {
    "ExecuteTime": {
     "end_time": "2020-03-16T22:55:54.085138Z",
     "start_time": "2020-03-16T22:55:54.081119Z"
    }
   },
   "outputs": [
    {
     "data": {
      "text/plain": [
       "41840"
      ]
     },
     "execution_count": 20,
     "metadata": {},
     "output_type": "execute_result"
    }
   ],
   "source": [
    "(dmr_delta > 0).sum()"
   ]
  },
  {
   "cell_type": "code",
   "execution_count": 21,
   "metadata": {
    "ExecuteTime": {
     "end_time": "2020-03-16T22:55:54.236208Z",
     "start_time": "2020-03-16T22:55:54.232149Z"
    }
   },
   "outputs": [
    {
     "data": {
      "text/plain": [
       "80964"
      ]
     },
     "execution_count": 21,
     "metadata": {},
     "output_type": "execute_result"
    }
   ],
   "source": [
    "(dmr_delta < 0).sum()"
   ]
  },
  {
   "cell_type": "code",
   "execution_count": null,
   "metadata": {},
   "outputs": [],
   "source": []
  },
  {
   "cell_type": "code",
   "execution_count": null,
   "metadata": {},
   "outputs": [],
   "source": []
  },
  {
   "cell_type": "code",
   "execution_count": null,
   "metadata": {},
   "outputs": [],
   "source": []
  },
  {
   "cell_type": "code",
   "execution_count": null,
   "metadata": {},
   "outputs": [],
   "source": []
  },
  {
   "cell_type": "code",
   "execution_count": null,
   "metadata": {},
   "outputs": [],
   "source": []
  },
  {
   "cell_type": "code",
   "execution_count": null,
   "metadata": {},
   "outputs": [],
   "source": []
  },
  {
   "cell_type": "code",
   "execution_count": null,
   "metadata": {},
   "outputs": [],
   "source": []
  },
  {
   "cell_type": "code",
   "execution_count": null,
   "metadata": {},
   "outputs": [],
   "source": []
  },
  {
   "cell_type": "code",
   "execution_count": null,
   "metadata": {},
   "outputs": [],
   "source": []
  }
 ],
 "metadata": {
  "hide_input": false,
  "kernelspec": {
   "display_name": "Python 3",
   "language": "python",
   "name": "python3"
  },
  "language_info": {
   "codemirror_mode": {
    "name": "ipython",
    "version": 3
   },
   "file_extension": ".py",
   "mimetype": "text/x-python",
   "name": "python",
   "nbconvert_exporter": "python",
   "pygments_lexer": "ipython3",
   "version": "3.7.3"
  },
  "toc": {
   "base_numbering": 1,
   "nav_menu": {},
   "number_sections": true,
   "sideBar": true,
   "skip_h1_title": true,
   "title_cell": "Table of Contents",
   "title_sidebar": "Contents",
   "toc_cell": false,
   "toc_position": {},
   "toc_section_display": true,
   "toc_window_display": true
  }
 },
 "nbformat": 4,
 "nbformat_minor": 2
}
