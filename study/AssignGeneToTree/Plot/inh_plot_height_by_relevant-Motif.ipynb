{
 "cells": [
  {
   "cell_type": "code",
   "execution_count": 1,
   "metadata": {
    "ExecuteTime": {
     "end_time": "2020-02-28T22:11:18.421072Z",
     "start_time": "2020-02-28T22:11:17.851279Z"
    }
   },
   "outputs": [],
   "source": [
    "import re\n",
    "import numpy as np\n",
    "import joblib\n",
    "import matplotlib.pyplot as plt\n",
    "import numpy as np\n",
    "import pandas as pd\n",
    "import seaborn as sns\n",
    "from ALLCools.plot import *\n",
    "from matplotlib import patches\n",
    "from matplotlib.cm import get_cmap\n",
    "from adjustText import adjust_text\n",
    "from matplotlib.colors import ListedColormap, Normalize"
   ]
  },
  {
   "cell_type": "code",
   "execution_count": 2,
   "metadata": {
    "ExecuteTime": {
     "end_time": "2020-02-28T22:11:18.427885Z",
     "start_time": "2020-02-28T22:11:18.423213Z"
    }
   },
   "outputs": [],
   "source": [
    "from matplotlib import rc\n",
    "labelsize = 6\n",
    "linewidth = 0.6\n",
    "rc('lines', linewidth=linewidth)\n",
    "rc('axes', labelsize=labelsize, linewidth=linewidth)\n",
    "rc('xtick', labelsize=labelsize)\n",
    "rc('ytick', labelsize=labelsize)\n",
    "rc('xtick.major', width=linewidth)\n",
    "rc('ytick.major', width=linewidth)\n",
    "rc('xtick.minor', width=linewidth - 0.2)\n",
    "rc('ytick.minor', width=linewidth - 0.2)"
   ]
  },
  {
   "cell_type": "code",
   "execution_count": null,
   "metadata": {},
   "outputs": [],
   "source": []
  },
  {
   "cell_type": "markdown",
   "metadata": {},
   "source": [
    "## Gene metadata"
   ]
  },
  {
   "cell_type": "code",
   "execution_count": 3,
   "metadata": {
    "ExecuteTime": {
     "end_time": "2020-02-28T22:11:19.429161Z",
     "start_time": "2020-02-28T22:11:19.046140Z"
    }
   },
   "outputs": [
    {
     "data": {
      "text/html": [
       "<div>\n",
       "<style scoped>\n",
       "    .dataframe tbody tr th:only-of-type {\n",
       "        vertical-align: middle;\n",
       "    }\n",
       "\n",
       "    .dataframe tbody tr th {\n",
       "        vertical-align: top;\n",
       "    }\n",
       "\n",
       "    .dataframe thead th {\n",
       "        text-align: right;\n",
       "    }\n",
       "</style>\n",
       "<table border=\"1\" class=\"dataframe\">\n",
       "  <thead>\n",
       "    <tr style=\"text-align: right;\">\n",
       "      <th></th>\n",
       "      <th>motif_name</th>\n",
       "      <th>motif_genes</th>\n",
       "      <th>gene_ids</th>\n",
       "      <th>gene_names</th>\n",
       "      <th>motif_group</th>\n",
       "      <th>Class</th>\n",
       "      <th>Family</th>\n",
       "      <th>SubFamily</th>\n",
       "    </tr>\n",
       "    <tr>\n",
       "      <th>motif_uid</th>\n",
       "      <th></th>\n",
       "      <th></th>\n",
       "      <th></th>\n",
       "      <th></th>\n",
       "      <th></th>\n",
       "      <th></th>\n",
       "      <th></th>\n",
       "      <th></th>\n",
       "    </tr>\n",
       "  </thead>\n",
       "  <tbody>\n",
       "    <tr>\n",
       "      <th>MA0006.1</th>\n",
       "      <td>Ahr::Arnt</td>\n",
       "      <td>Ahr,Arnt</td>\n",
       "      <td>ENSMUSG00000019256.17,ENSMUSG00000015522.18</td>\n",
       "      <td>Ahr,Arnt</td>\n",
       "      <td>MotifGroup178</td>\n",
       "      <td>Basic helix-loop-helix factors (bHLH)</td>\n",
       "      <td>PAS</td>\n",
       "      <td>PAS-AHR</td>\n",
       "    </tr>\n",
       "    <tr>\n",
       "      <th>MA0854.1</th>\n",
       "      <td>Alx1</td>\n",
       "      <td>Alx1</td>\n",
       "      <td>ENSMUSG00000036602.14</td>\n",
       "      <td>Alx1</td>\n",
       "      <td>MotifGroup3</td>\n",
       "      <td>Homeo domain factors</td>\n",
       "      <td>Paired-related HD</td>\n",
       "      <td>ALX</td>\n",
       "    </tr>\n",
       "    <tr>\n",
       "      <th>MA0634.1</th>\n",
       "      <td>ALX3</td>\n",
       "      <td>ALX3</td>\n",
       "      <td>ENSMUSG00000014603.3</td>\n",
       "      <td>Alx3</td>\n",
       "      <td>MotifGroup3</td>\n",
       "      <td>Homeo domain factors</td>\n",
       "      <td>Paired-related HD</td>\n",
       "      <td>TPRX</td>\n",
       "    </tr>\n",
       "    <tr>\n",
       "      <th>MA0853.1</th>\n",
       "      <td>Alx4</td>\n",
       "      <td>Alx4</td>\n",
       "      <td>ENSMUSG00000040310.12</td>\n",
       "      <td>Alx4</td>\n",
       "      <td>MotifGroup3</td>\n",
       "      <td>Homeo domain factors</td>\n",
       "      <td>Paired-related HD</td>\n",
       "      <td>ALX</td>\n",
       "    </tr>\n",
       "    <tr>\n",
       "      <th>MA0007.3</th>\n",
       "      <td>Ar</td>\n",
       "      <td>Ar</td>\n",
       "      <td>ENSMUSG00000046532.8</td>\n",
       "      <td>Ar</td>\n",
       "      <td>MotifGroup32</td>\n",
       "      <td>Nuclear receptors with C4 zinc fingers</td>\n",
       "      <td>Steroid hormone receptors</td>\n",
       "      <td>GR-like(NR3C)</td>\n",
       "    </tr>\n",
       "  </tbody>\n",
       "</table>\n",
       "</div>"
      ],
      "text/plain": [
       "          motif_name motif_genes                                     gene_ids  \\\n",
       "motif_uid                                                                       \n",
       "MA0006.1   Ahr::Arnt    Ahr,Arnt  ENSMUSG00000019256.17,ENSMUSG00000015522.18   \n",
       "MA0854.1        Alx1        Alx1                        ENSMUSG00000036602.14   \n",
       "MA0634.1        ALX3        ALX3                         ENSMUSG00000014603.3   \n",
       "MA0853.1        Alx4        Alx4                        ENSMUSG00000040310.12   \n",
       "MA0007.3          Ar          Ar                         ENSMUSG00000046532.8   \n",
       "\n",
       "          gene_names    motif_group                                   Class  \\\n",
       "motif_uid                                                                     \n",
       "MA0006.1    Ahr,Arnt  MotifGroup178   Basic helix-loop-helix factors (bHLH)   \n",
       "MA0854.1        Alx1    MotifGroup3                    Homeo domain factors   \n",
       "MA0634.1        Alx3    MotifGroup3                    Homeo domain factors   \n",
       "MA0853.1        Alx4    MotifGroup3                    Homeo domain factors   \n",
       "MA0007.3          Ar   MotifGroup32  Nuclear receptors with C4 zinc fingers   \n",
       "\n",
       "                              Family      SubFamily  \n",
       "motif_uid                                            \n",
       "MA0006.1                         PAS        PAS-AHR  \n",
       "MA0854.1           Paired-related HD            ALX  \n",
       "MA0634.1           Paired-related HD           TPRX  \n",
       "MA0853.1           Paired-related HD            ALX  \n",
       "MA0007.3   Steroid hormone receptors  GR-like(NR3C)  "
      ]
     },
     "execution_count": 3,
     "metadata": {},
     "output_type": "execute_result"
    }
   ],
   "source": [
    "motif_gene_anno = pd.read_csv(\n",
    "    '/home/hanliu/project/mouse_rostral_brain/study/MotifClustering/JASPAR2020_CORE_vertebrates_non-redundant.mouse_genes.with_motif_group.199.csv', \n",
    "    index_col=0\n",
    ")\n",
    "tf_class = pd.read_csv('/home/hanliu/ref/TFGene/TFClass/TFClass.with_mouse_gene_id.csv')\n",
    "for tf_col in ['Class', 'Family', 'SubFamily']:\n",
    "    gene_class_map = {}\n",
    "    for _, (class_name, genes) in tf_class[[tf_col, 'EnsemblID']].iterrows():\n",
    "        if isinstance(genes, float):\n",
    "            continue\n",
    "        for gene in genes.split(','):\n",
    "            gene_class_map[gene] = class_name\n",
    "    \n",
    "    motif_gene_anno[tf_col] = motif_gene_anno['gene_ids'].apply(lambda i: gene_class_map.get(i.split('.')[0], ''))\n",
    "\n",
    "motif_gene_anno['SubFamily'] = motif_gene_anno['SubFamily'].replace('', np.nan).fillna('unclassified')\n",
    "motif_gene_anno.head()"
   ]
  },
  {
   "cell_type": "markdown",
   "metadata": {},
   "source": [
    "## Cell Tidy Data"
   ]
  },
  {
   "cell_type": "code",
   "execution_count": 4,
   "metadata": {
    "ExecuteTime": {
     "end_time": "2020-02-28T22:11:19.894263Z",
     "start_time": "2020-02-28T22:11:19.430851Z"
    }
   },
   "outputs": [
    {
     "name": "stderr",
     "output_type": "stream",
     "text": [
      "/home/hanliu/miniconda3/envs/clustering/lib/python3.7/site-packages/IPython/core/interactiveshell.py:3326: FutureWarning: The read_msgpack is deprecated and will be removed in a future version.\n",
      "It is recommended to use pyarrow for on-the-wire transmission of pandas objects.\n",
      "  exec(code_obj, self.user_global_ns, self.user_ns)\n"
     ]
    }
   ],
   "source": [
    "cell_tidy_data = pd.read_msgpack(\n",
    "    '/home/hanliu/project/mouse_rostral_brain/study/ClusteringSummary/Summary/TotalClusteringResults.msg'\n",
    ")\n",
    "cell_tidy_data = cell_tidy_data[cell_tidy_data['CellClass'] == 'Inh']\n",
    "cell_tidy_data = cell_tidy_data[\n",
    "    cell_tidy_data['SubType'].apply(lambda i: 'Outlier' not in i)].copy()"
   ]
  },
  {
   "cell_type": "code",
   "execution_count": 5,
   "metadata": {
    "ExecuteTime": {
     "end_time": "2020-02-28T22:11:19.901749Z",
     "start_time": "2020-02-28T22:11:19.896212Z"
    }
   },
   "outputs": [],
   "source": [
    "subtype_palette = pd.read_csv(\n",
    "    '/home/hanliu/project/mouse_rostral_brain/metadata/palette/sub_type.palette.csv',\n",
    "    header=None,\n",
    "    index_col=0,\n",
    "    squeeze=True).to_dict()"
   ]
  },
  {
   "cell_type": "markdown",
   "metadata": {},
   "source": [
    "## Tree and gene assignment"
   ]
  },
  {
   "cell_type": "code",
   "execution_count": 6,
   "metadata": {
    "ExecuteTime": {
     "end_time": "2020-02-28T22:11:19.915573Z",
     "start_time": "2020-02-28T22:11:19.903457Z"
    }
   },
   "outputs": [],
   "source": [
    "dendro = joblib.load(\n",
    "    f'/home/hanliu/project/mouse_rostral_brain/study/AssignGeneToTree/RTree/Inh.dendrogram.lib'\n",
    ")\n",
    "linkage = pd.read_csv(\n",
    "    f'/home/hanliu/project/mouse_rostral_brain/study/AssignGeneToTree/RTree/Inh.linkage.csv',\n",
    "    index_col=0)\n",
    "node_dict = joblib.load(\n",
    "    f'/home/hanliu/project/mouse_rostral_brain/study/AssignGeneToTree/RTree/Inh.non_singleton_node_dict.lib'\n",
    ")\n",
    "gene_assignment = pd.read_msgpack(\n",
    "    f'/home/hanliu/project/mouse_rostral_brain/study/AssignGeneToTree/InhDMR/NodeMotifResults.msg'\n",
    ")"
   ]
  },
  {
   "cell_type": "code",
   "execution_count": null,
   "metadata": {},
   "outputs": [],
   "source": []
  },
  {
   "cell_type": "markdown",
   "metadata": {},
   "source": [
    "## Normalize linkage height to 0-1"
   ]
  },
  {
   "cell_type": "code",
   "execution_count": 7,
   "metadata": {
    "ExecuteTime": {
     "end_time": "2020-02-28T22:11:20.911461Z",
     "start_time": "2020-02-28T22:11:20.903922Z"
    }
   },
   "outputs": [],
   "source": [
    "linkage['2'] = linkage['2'] / linkage['2'].max()"
   ]
  },
  {
   "cell_type": "markdown",
   "metadata": {},
   "source": [
    "## Plot"
   ]
  },
  {
   "cell_type": "code",
   "execution_count": 8,
   "metadata": {
    "ExecuteTime": {
     "end_time": "2020-02-28T22:11:21.192233Z",
     "start_time": "2020-02-28T22:11:21.172411Z"
    }
   },
   "outputs": [
    {
     "name": "stdout",
     "output_type": "stream",
     "text": [
      "(4500, 5)\n"
     ]
    }
   ],
   "source": [
    "rs_abs_min = 0.3\n",
    "\n",
    "records = gene_assignment.unstack().reset_index()\n",
    "records.columns = ['gene', 'node', 'relevant_score']\n",
    "use_data = records[records['relevant_score'].abs() > rs_abs_min].reset_index(\n",
    "    drop=True)\n",
    "use_data['relevant_score_abs'] = use_data['relevant_score'].abs()\n",
    "\n",
    "n_leaves = len(dendro['ivl'])\n",
    "node_height = linkage['2'].copy()\n",
    "node_height.index = node_height.index\n",
    "use_data['node_height'] = use_data['node'].map(node_height).reset_index(\n",
    "    drop=True)\n",
    "use_data.head()\n",
    "print(use_data.shape)\n",
    "\n",
    "use_data['impact'] = use_data['relevant_score_abs'] * use_data['node_height']\n",
    "total_rs_data = use_data.groupby('gene')['impact'].sum().sort_values()\n",
    "\n",
    "tf_total_data = use_data.copy()\n",
    "tf_sum_rs = total_rs_data.copy()"
   ]
  },
  {
   "cell_type": "markdown",
   "metadata": {},
   "source": [
    "## TF genes"
   ]
  },
  {
   "cell_type": "code",
   "execution_count": 9,
   "metadata": {
    "ExecuteTime": {
     "end_time": "2020-02-28T22:11:21.554559Z",
     "start_time": "2020-02-28T22:11:21.548846Z"
    }
   },
   "outputs": [],
   "source": [
    "motif_gene_anno['total_rs'] = tf_sum_rs\n",
    "motif_gene_anno = motif_gene_anno.loc[tf_sum_rs.index].copy()"
   ]
  },
  {
   "cell_type": "code",
   "execution_count": null,
   "metadata": {
    "scrolled": true
   },
   "outputs": [],
   "source": []
  },
  {
   "cell_type": "code",
   "execution_count": 10,
   "metadata": {
    "ExecuteTime": {
     "end_time": "2020-02-28T22:11:21.983937Z",
     "start_time": "2020-02-28T22:11:21.977797Z"
    }
   },
   "outputs": [],
   "source": [
    "tf_sum_rs.to_csv('inh.motif.sum_rs.csv', header=False)"
   ]
  },
  {
   "cell_type": "code",
   "execution_count": 11,
   "metadata": {
    "ExecuteTime": {
     "end_time": "2020-02-28T22:11:22.439048Z",
     "start_time": "2020-02-28T22:11:22.176935Z"
    }
   },
   "outputs": [
    {
     "name": "stderr",
     "output_type": "stream",
     "text": [
      "/home/hanliu/miniconda3/envs/clustering/lib/python3.7/site-packages/numpy/core/fromnumeric.py:61: FutureWarning: Series.nonzero() is deprecated and will be removed in a future version.Use Series.to_numpy().nonzero() instead\n",
      "  return bound(*args, **kwds)\n"
     ]
    },
    {
     "data": {
      "image/png": "[encoded data removed]",
      "text/plain": [
       "<Figure size 600x300 with 1 Axes>"
      ]
     },
     "metadata": {
      "needs_background": "light"
     },
     "output_type": "display_data"
    }
   ],
   "source": [
    "from matplotlib import patches\n",
    "import numpy as np\n",
    "\n",
    "label_y_cutoff = 7\n",
    "\n",
    "df = tf_sum_rs[tf_sum_rs > label_y_cutoff]\n",
    "other_count = tf_sum_rs[tf_sum_rs <= label_y_cutoff].size\n",
    "df[f'({other_count} Other TFs)'] = 0.2\n",
    "\n",
    "# c=[groupColors.get(langnameGroup[label],'k') for label in df.index]\n",
    "fig = plt.figure(figsize=(2, 1), dpi=300)\n",
    "gs = fig.add_gridspec(1, 10)\n",
    "\n",
    "ax = fig.add_subplot(gs[0, :])\n",
    "# ax_scatter = fig.add_subplot(gs[0, 9:])\n",
    "\n",
    "ax.axes.get_xaxis().set_visible(False)\n",
    "ax.set_xlim(-40, 0.1)\n",
    "ax.set_ylim(0, 8)\n",
    "ax.set_yticks([0, 4, 8])\n",
    "\n",
    "ax.spines['left'].set_visible(False)\n",
    "ax.spines['top'].set_visible(False)\n",
    "ax.spines['bottom'].set_visible(False)\n",
    "ax.yaxis.set_label_position('right')\n",
    "ax.yaxis.set_ticks_position('right')\n",
    "\n",
    "plt.tight_layout()\n",
    "\n",
    "patch = patches.Rectangle((-0.1, 0), 0.2, 100, fill=False, alpha=0)\n",
    "# We add a rectangle to make sure the labels don't move to the right\n",
    "ax.add_patch(patch)\n",
    "\n",
    "texts = []\n",
    "np.random.seed(0)\n",
    "for label, y in zip(df.index, df):\n",
    "    texts += [\n",
    "        ax.text(\n",
    "            -.1 + np.random.random() / 1000,\n",
    "            y + np.random.random() / 1000,\n",
    "            label,\n",
    "            # A small random shift prevents labels\n",
    "            # which have exactly the same coordinates from being stuck together\n",
    "            # (not a problem in this example really, but wanted to mention this possibility)\n",
    "            color='k',\n",
    "            fontsize=4)\n",
    "    ]\n",
    "adjust_text(\n",
    "    texts,\n",
    "    [0 for _ in df],\n",
    "    df,\n",
    "    ha='left',\n",
    "    va='center',\n",
    "    add_objects=[patch],\n",
    "    expand_text=(1.05, 1),\n",
    "    # We want them to be quite compact, so reducing expansion makes sense\n",
    "    force_text=(0.75, 0),\n",
    "    force_objects=(1, 0),\n",
    "    #With default forces it takes a very long time to converge,\n",
    "    # but higher values still produce very nice output\n",
    "    autoalign=False,\n",
    "    only_move={\n",
    "        'points': 'x',\n",
    "        'text': 'x',\n",
    "        'objects': 'x'\n",
    "    })\n",
    "\n",
    "fig.savefig('Inh.Motif.total_rs.strip_plot.text_part.pdf', bbox_inches='tight')"
   ]
  },
  {
   "cell_type": "code",
   "execution_count": 12,
   "metadata": {
    "ExecuteTime": {
     "end_time": "2020-02-28T22:11:22.579766Z",
     "start_time": "2020-02-28T22:11:22.441137Z"
    }
   },
   "outputs": [
    {
     "name": "stderr",
     "output_type": "stream",
     "text": [
      "/home/hanliu/miniconda3/envs/clustering/lib/python3.7/site-packages/seaborn/utils.py:238: MatplotlibDeprecationWarning: \n",
      "The tick1On function was deprecated in Matplotlib 3.1 and will be removed in 3.3. Use Tick.tick1line.get_visible instead.\n",
      "  maj_on = any(t.tick1On for t in ax_i.yaxis.majorTicks)\n",
      "/home/hanliu/miniconda3/envs/clustering/lib/python3.7/site-packages/seaborn/utils.py:239: MatplotlibDeprecationWarning: \n",
      "The tick1On function was deprecated in Matplotlib 3.1 and will be removed in 3.3. Use Tick.tick1line.get_visible instead.\n",
      "  min_on = any(t.tick1On for t in ax_i.yaxis.minorTicks)\n",
      "/home/hanliu/miniconda3/envs/clustering/lib/python3.7/site-packages/seaborn/utils.py:242: MatplotlibDeprecationWarning: \n",
      "The tick2On function was deprecated in Matplotlib 3.1 and will be removed in 3.3. Use Tick.tick2line.set_visible instead.\n",
      "  t.tick2On = maj_on\n",
      "/home/hanliu/miniconda3/envs/clustering/lib/python3.7/site-packages/seaborn/utils.py:244: MatplotlibDeprecationWarning: \n",
      "The tick2On function was deprecated in Matplotlib 3.1 and will be removed in 3.3. Use Tick.tick2line.set_visible instead.\n",
      "  t.tick2On = min_on\n"
     ]
    },
    {
     "data": {
      "image/png": "[encoded data removed]",
      "text/plain": [
       "<Figure size 150x300 with 1 Axes>"
      ]
     },
     "metadata": {
      "needs_background": "light"
     },
     "output_type": "display_data"
    }
   ],
   "source": [
    "fig, ax = plt.subplots(figsize=(0.5, 1), dpi=300)\n",
    "sns.stripplot(y=tf_sum_rs, jitter=0.2, s=1, color='k')\n",
    "sns.despine(ax=ax, bottom=True, left=True, right=False)\n",
    "ax.set_ylabel('Total RS')\n",
    "ax.yaxis.set_label_position('right')\n",
    "ax.yaxis.set_ticks_position('right')\n",
    "ax.set_ylim(0, 8)\n",
    "ax.set_yticks([0, 4, 8])\n",
    "\n",
    "ax.set_xticks([])\n",
    "\n",
    "fig.savefig('Inh.Motif.total_rs.strip_plot.scatter_part.pdf')"
   ]
  },
  {
   "cell_type": "code",
   "execution_count": 16,
   "metadata": {
    "ExecuteTime": {
     "end_time": "2020-02-28T22:11:38.522975Z",
     "start_time": "2020-02-28T22:11:36.282728Z"
    }
   },
   "outputs": [
    {
     "data": {
      "text/plain": [
       "SubFamily\n",
       "MEF2            5.404551\n",
       "Fos             5.171590\n",
       "POU3            5.006414\n",
       "POU1            4.931293\n",
       "POU4            4.037961\n",
       "NFE2            3.544948\n",
       "POU2            3.480285\n",
       "ASC             3.452994\n",
       "Myogenic TFs    3.349667\n",
       "PAX4-like       3.226606\n",
       "Name: impact, dtype: float64"
      ]
     },
     "execution_count": 16,
     "metadata": {},
     "output_type": "execute_result"
    }
   ],
   "source": [
    "from ALLCools.motif.utilities import *\n",
    "\n",
    "pfm_dict = meme_to_pfm_dict(\n",
    "    '/home/hanliu/ref/MEME/selected_motifs_sets/JASPAR2020_CORE_vertebrates_non-redundant_pfms.meme'\n",
    ")\n",
    "\n",
    "use_top = tf_sum_rs.groupby(motif_gene_anno['SubFamily']).median().sort_values(ascending=False)[:10]\n",
    "use_top"
   ]
  },
  {
   "cell_type": "code",
   "execution_count": 22,
   "metadata": {
    "ExecuteTime": {
     "end_time": "2020-02-28T22:38:43.002560Z",
     "start_time": "2020-02-28T22:38:42.994225Z"
    }
   },
   "outputs": [
    {
     "data": {
      "text/plain": [
       "(470, 164)"
      ]
     },
     "execution_count": 22,
     "metadata": {},
     "output_type": "execute_result"
    }
   ],
   "source": [
    "tf_sum_rs.size, tf_sum_rs.groupby(motif_gene_anno['SubFamily']).median().size"
   ]
  },
  {
   "cell_type": "code",
   "execution_count": 18,
   "metadata": {
    "ExecuteTime": {
     "end_time": "2020-02-28T22:12:02.537461Z",
     "start_time": "2020-02-28T22:12:00.973975Z"
    }
   },
   "outputs": [
    {
     "data": {
      "image/png": "[encoded data removed]",
      "text/plain": [
       "<Figure size 450x360 with 10 Axes>"
      ]
     },
     "metadata": {
      "needs_background": "light"
     },
     "output_type": "display_data"
    }
   ],
   "source": [
    "motifs = tf_sum_rs.groupby(motif_gene_anno['SubFamily']).idxmax().loc[use_top.index]\n",
    "pfms = {k:pfm_dict[v] for k,v in motifs.items()}\n",
    "\n",
    "max_col = max((i.shape[0] for i in pfms.values()))\n",
    "\n",
    "fig = plt.figure(figsize=(1.5, 1.2), dpi=300)\n",
    "\n",
    "gs = fig.add_gridspec(len(pfms), 20)\n",
    "\n",
    "for i, (name, pfm) in enumerate(pfms.items()):\n",
    "    ax = fig.add_subplot(gs[i, :pfm.shape[0]])\n",
    "    plot_pfm(pfm=pfm, ax=ax)\n",
    "    ax.axis('off')\n",
    "    ax.text(0, 0.5, name, fontsize=6,\n",
    "            ha='left', va='center', transform=ax.transAxes)\n",
    "    \n",
    "fig.savefig('Inh.Motif.top_logos.pdf')"
   ]
  },
  {
   "cell_type": "code",
   "execution_count": null,
   "metadata": {},
   "outputs": [],
   "source": []
  },
  {
   "cell_type": "code",
   "execution_count": null,
   "metadata": {},
   "outputs": [],
   "source": []
  },
  {
   "cell_type": "code",
   "execution_count": null,
   "metadata": {},
   "outputs": [],
   "source": []
  }
 ],
 "metadata": {
  "hide_input": false,
  "kernelspec": {
   "display_name": "Python 3",
   "language": "python",
   "name": "python3"
  },
  "language_info": {
   "codemirror_mode": {
    "name": "ipython",
    "version": 3
   },
   "file_extension": ".py",
   "mimetype": "text/x-python",
   "name": "python",
   "nbconvert_exporter": "python",
   "pygments_lexer": "ipython3",
   "version": "3.7.3"
  },
  "toc": {
   "base_numbering": 1,
   "nav_menu": {},
   "number_sections": true,
   "sideBar": true,
   "skip_h1_title": true,
   "title_cell": "Table of Contents",
   "title_sidebar": "Contents",
   "toc_cell": false,
   "toc_position": {},
   "toc_section_display": true,
   "toc_window_display": true
  }
 },
 "nbformat": 4,
 "nbformat_minor": 2
}
