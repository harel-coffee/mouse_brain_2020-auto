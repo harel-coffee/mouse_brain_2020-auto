{
 "cells": [
  {
   "cell_type": "code",
   "execution_count": 1,
   "metadata": {
    "ExecuteTime": {
     "end_time": "2020-02-28T22:00:53.959457Z",
     "start_time": "2020-02-28T22:00:53.420048Z"
    }
   },
   "outputs": [],
   "source": [
    "import re\n",
    "import numpy as np\n",
    "import joblib\n",
    "import matplotlib.pyplot as plt\n",
    "import numpy as np\n",
    "import pandas as pd\n",
    "import seaborn as sns\n",
    "from ALLCools.plot import *\n",
    "from matplotlib import patches\n",
    "from matplotlib.cm import get_cmap\n",
    "from adjustText import adjust_text\n",
    "from matplotlib.colors import ListedColormap, Normalize"
   ]
  },
  {
   "cell_type": "code",
   "execution_count": 2,
   "metadata": {
    "ExecuteTime": {
     "end_time": "2020-02-28T22:00:54.322426Z",
     "start_time": "2020-02-28T22:00:54.317766Z"
    }
   },
   "outputs": [],
   "source": [
    "from matplotlib import rc\n",
    "labelsize = 6\n",
    "linewidth = 0.6\n",
    "rc('lines', linewidth=linewidth)\n",
    "rc('axes', labelsize=labelsize, linewidth=linewidth)\n",
    "rc('xtick', labelsize=labelsize)\n",
    "rc('ytick', labelsize=labelsize)\n",
    "rc('xtick.major', width=linewidth)\n",
    "rc('ytick.major', width=linewidth)\n",
    "rc('xtick.minor', width=linewidth - 0.2)\n",
    "rc('ytick.minor', width=linewidth - 0.2)"
   ]
  },
  {
   "cell_type": "code",
   "execution_count": null,
   "metadata": {},
   "outputs": [],
   "source": []
  },
  {
   "cell_type": "markdown",
   "metadata": {},
   "source": [
    "## Gene metadata"
   ]
  },
  {
   "cell_type": "code",
   "execution_count": 3,
   "metadata": {
    "ExecuteTime": {
     "end_time": "2020-02-28T22:00:55.664958Z",
     "start_time": "2020-02-28T22:00:55.297043Z"
    }
   },
   "outputs": [
    {
     "data": {
      "text/html": [
       "<div>\n",
       "<style scoped>\n",
       "    .dataframe tbody tr th:only-of-type {\n",
       "        vertical-align: middle;\n",
       "    }\n",
       "\n",
       "    .dataframe tbody tr th {\n",
       "        vertical-align: top;\n",
       "    }\n",
       "\n",
       "    .dataframe thead th {\n",
       "        text-align: right;\n",
       "    }\n",
       "</style>\n",
       "<table border=\"1\" class=\"dataframe\">\n",
       "  <thead>\n",
       "    <tr style=\"text-align: right;\">\n",
       "      <th></th>\n",
       "      <th>motif_name</th>\n",
       "      <th>motif_genes</th>\n",
       "      <th>gene_ids</th>\n",
       "      <th>gene_names</th>\n",
       "      <th>motif_group</th>\n",
       "      <th>Class</th>\n",
       "      <th>Family</th>\n",
       "      <th>SubFamily</th>\n",
       "    </tr>\n",
       "    <tr>\n",
       "      <th>motif_uid</th>\n",
       "      <th></th>\n",
       "      <th></th>\n",
       "      <th></th>\n",
       "      <th></th>\n",
       "      <th></th>\n",
       "      <th></th>\n",
       "      <th></th>\n",
       "      <th></th>\n",
       "    </tr>\n",
       "  </thead>\n",
       "  <tbody>\n",
       "    <tr>\n",
       "      <th>MA0006.1</th>\n",
       "      <td>Ahr::Arnt</td>\n",
       "      <td>Ahr,Arnt</td>\n",
       "      <td>ENSMUSG00000019256.17,ENSMUSG00000015522.18</td>\n",
       "      <td>Ahr,Arnt</td>\n",
       "      <td>MotifGroup178</td>\n",
       "      <td>Basic helix-loop-helix factors (bHLH)</td>\n",
       "      <td>PAS</td>\n",
       "      <td>PAS-AHR</td>\n",
       "    </tr>\n",
       "    <tr>\n",
       "      <th>MA0854.1</th>\n",
       "      <td>Alx1</td>\n",
       "      <td>Alx1</td>\n",
       "      <td>ENSMUSG00000036602.14</td>\n",
       "      <td>Alx1</td>\n",
       "      <td>MotifGroup3</td>\n",
       "      <td>Homeo domain factors</td>\n",
       "      <td>Paired-related HD</td>\n",
       "      <td>ALX</td>\n",
       "    </tr>\n",
       "    <tr>\n",
       "      <th>MA0634.1</th>\n",
       "      <td>ALX3</td>\n",
       "      <td>ALX3</td>\n",
       "      <td>ENSMUSG00000014603.3</td>\n",
       "      <td>Alx3</td>\n",
       "      <td>MotifGroup3</td>\n",
       "      <td>Homeo domain factors</td>\n",
       "      <td>Paired-related HD</td>\n",
       "      <td>TPRX</td>\n",
       "    </tr>\n",
       "    <tr>\n",
       "      <th>MA0853.1</th>\n",
       "      <td>Alx4</td>\n",
       "      <td>Alx4</td>\n",
       "      <td>ENSMUSG00000040310.12</td>\n",
       "      <td>Alx4</td>\n",
       "      <td>MotifGroup3</td>\n",
       "      <td>Homeo domain factors</td>\n",
       "      <td>Paired-related HD</td>\n",
       "      <td>ALX</td>\n",
       "    </tr>\n",
       "    <tr>\n",
       "      <th>MA0007.3</th>\n",
       "      <td>Ar</td>\n",
       "      <td>Ar</td>\n",
       "      <td>ENSMUSG00000046532.8</td>\n",
       "      <td>Ar</td>\n",
       "      <td>MotifGroup32</td>\n",
       "      <td>Nuclear receptors with C4 zinc fingers</td>\n",
       "      <td>Steroid hormone receptors</td>\n",
       "      <td>GR-like(NR3C)</td>\n",
       "    </tr>\n",
       "  </tbody>\n",
       "</table>\n",
       "</div>"
      ],
      "text/plain": [
       "          motif_name motif_genes                                     gene_ids  \\\n",
       "motif_uid                                                                       \n",
       "MA0006.1   Ahr::Arnt    Ahr,Arnt  ENSMUSG00000019256.17,ENSMUSG00000015522.18   \n",
       "MA0854.1        Alx1        Alx1                        ENSMUSG00000036602.14   \n",
       "MA0634.1        ALX3        ALX3                         ENSMUSG00000014603.3   \n",
       "MA0853.1        Alx4        Alx4                        ENSMUSG00000040310.12   \n",
       "MA0007.3          Ar          Ar                         ENSMUSG00000046532.8   \n",
       "\n",
       "          gene_names    motif_group                                   Class  \\\n",
       "motif_uid                                                                     \n",
       "MA0006.1    Ahr,Arnt  MotifGroup178   Basic helix-loop-helix factors (bHLH)   \n",
       "MA0854.1        Alx1    MotifGroup3                    Homeo domain factors   \n",
       "MA0634.1        Alx3    MotifGroup3                    Homeo domain factors   \n",
       "MA0853.1        Alx4    MotifGroup3                    Homeo domain factors   \n",
       "MA0007.3          Ar   MotifGroup32  Nuclear receptors with C4 zinc fingers   \n",
       "\n",
       "                              Family      SubFamily  \n",
       "motif_uid                                            \n",
       "MA0006.1                         PAS        PAS-AHR  \n",
       "MA0854.1           Paired-related HD            ALX  \n",
       "MA0634.1           Paired-related HD           TPRX  \n",
       "MA0853.1           Paired-related HD            ALX  \n",
       "MA0007.3   Steroid hormone receptors  GR-like(NR3C)  "
      ]
     },
     "execution_count": 3,
     "metadata": {},
     "output_type": "execute_result"
    }
   ],
   "source": [
    "motif_gene_anno = pd.read_csv(\n",
    "    '/home/hanliu/project/mouse_rostral_brain/study/MotifClustering/JASPAR2020_CORE_vertebrates_non-redundant.mouse_genes.with_motif_group.199.csv', \n",
    "    index_col=0\n",
    ")\n",
    "tf_class = pd.read_csv('/home/hanliu/ref/TFGene/TFClass/TFClass.with_mouse_gene_id.csv')\n",
    "for tf_col in ['Class', 'Family', 'SubFamily']:\n",
    "    gene_class_map = {}\n",
    "    for _, (class_name, genes) in tf_class[[tf_col, 'EnsemblID']].iterrows():\n",
    "        if isinstance(genes, float):\n",
    "            continue\n",
    "        for gene in genes.split(','):\n",
    "            gene_class_map[gene] = class_name\n",
    "    \n",
    "    motif_gene_anno[tf_col] = motif_gene_anno['gene_ids'].apply(lambda i: gene_class_map.get(i.split('.')[0], ''))\n",
    "\n",
    "motif_gene_anno['SubFamily'] = motif_gene_anno['SubFamily'].replace('', np.nan).fillna('unclassified')\n",
    "motif_gene_anno.head()"
   ]
  },
  {
   "cell_type": "markdown",
   "metadata": {},
   "source": [
    "## Cell Tidy Data"
   ]
  },
  {
   "cell_type": "code",
   "execution_count": 4,
   "metadata": {
    "ExecuteTime": {
     "end_time": "2020-02-28T22:00:57.037564Z",
     "start_time": "2020-02-28T22:00:56.507565Z"
    }
   },
   "outputs": [
    {
     "name": "stderr",
     "output_type": "stream",
     "text": [
      "/home/hanliu/miniconda3/envs/clustering/lib/python3.7/site-packages/IPython/core/interactiveshell.py:3326: FutureWarning: The read_msgpack is deprecated and will be removed in a future version.\n",
      "It is recommended to use pyarrow for on-the-wire transmission of pandas objects.\n",
      "  exec(code_obj, self.user_global_ns, self.user_ns)\n"
     ]
    }
   ],
   "source": [
    "cell_tidy_data = pd.read_msgpack(\n",
    "    '/home/hanliu/project/mouse_rostral_brain/study/ClusteringSummary/Summary/TotalClusteringResults.msg'\n",
    ")\n",
    "cell_tidy_data = cell_tidy_data[cell_tidy_data['CellClass'] == 'Exc']\n",
    "cell_tidy_data = cell_tidy_data[\n",
    "    cell_tidy_data['SubType'].apply(lambda i: 'Outlier' not in i)].copy()"
   ]
  },
  {
   "cell_type": "code",
   "execution_count": 5,
   "metadata": {
    "ExecuteTime": {
     "end_time": "2020-02-28T22:00:57.088292Z",
     "start_time": "2020-02-28T22:00:57.082483Z"
    }
   },
   "outputs": [],
   "source": [
    "subtype_palette = pd.read_csv(\n",
    "    '/home/hanliu/project/mouse_rostral_brain/metadata/palette/sub_type.palette.csv',\n",
    "    header=None,\n",
    "    index_col=0,\n",
    "    squeeze=True).to_dict()"
   ]
  },
  {
   "cell_type": "markdown",
   "metadata": {},
   "source": [
    "## Tree and gene assignment"
   ]
  },
  {
   "cell_type": "code",
   "execution_count": 6,
   "metadata": {
    "ExecuteTime": {
     "end_time": "2020-02-28T22:00:58.055753Z",
     "start_time": "2020-02-28T22:00:58.041856Z"
    }
   },
   "outputs": [],
   "source": [
    "dendro = joblib.load(\n",
    "    f'/home/hanliu/project/mouse_rostral_brain/study/AssignGeneToTree/RTree/Exc.dendrogram.lib'\n",
    ")\n",
    "linkage = pd.read_csv(\n",
    "    f'/home/hanliu/project/mouse_rostral_brain/study/AssignGeneToTree/RTree/Exc.linkage.csv',\n",
    "    index_col=0)\n",
    "node_dict = joblib.load(\n",
    "    f'/home/hanliu/project/mouse_rostral_brain/study/AssignGeneToTree/RTree/Exc.non_singleton_node_dict.lib'\n",
    ")\n",
    "gene_assignment = pd.read_msgpack(\n",
    "    f'/home/hanliu/project/mouse_rostral_brain/study/AssignGeneToTree/ExcDMR/NodeMotifResults.msg'\n",
    ")"
   ]
  },
  {
   "cell_type": "code",
   "execution_count": null,
   "metadata": {},
   "outputs": [],
   "source": []
  },
  {
   "cell_type": "markdown",
   "metadata": {},
   "source": [
    "## Normalize linkage height to 0-1"
   ]
  },
  {
   "cell_type": "code",
   "execution_count": 7,
   "metadata": {
    "ExecuteTime": {
     "end_time": "2020-02-28T22:00:59.257058Z",
     "start_time": "2020-02-28T22:00:59.247822Z"
    }
   },
   "outputs": [],
   "source": [
    "linkage['2'] = linkage['2'] / linkage['2'].max()"
   ]
  },
  {
   "cell_type": "markdown",
   "metadata": {},
   "source": [
    "## Plot"
   ]
  },
  {
   "cell_type": "code",
   "execution_count": 8,
   "metadata": {
    "ExecuteTime": {
     "end_time": "2020-02-28T22:01:00.160283Z",
     "start_time": "2020-02-28T22:01:00.142386Z"
    }
   },
   "outputs": [
    {
     "name": "stdout",
     "output_type": "stream",
     "text": [
      "(3541, 5)\n"
     ]
    }
   ],
   "source": [
    "rs_abs_min = 0.3\n",
    "\n",
    "records = gene_assignment.unstack().reset_index()\n",
    "records.columns = ['gene', 'node', 'relevant_score']\n",
    "use_data = records[records['relevant_score'].abs() > rs_abs_min].reset_index(\n",
    "    drop=True)\n",
    "use_data['relevant_score_abs'] = use_data['relevant_score'].abs()\n",
    "\n",
    "n_leaves = len(dendro['ivl'])\n",
    "node_height = linkage['2'].copy()\n",
    "node_height.index = node_height.index\n",
    "use_data['node_height'] = use_data['node'].map(node_height).reset_index(\n",
    "    drop=True)\n",
    "use_data.head()\n",
    "print(use_data.shape)\n",
    "\n",
    "use_data['impact'] = use_data['relevant_score_abs'] * use_data['node_height']\n",
    "total_rs_data = use_data.groupby('gene')['impact'].sum().sort_values()\n",
    "\n",
    "tf_total_data = use_data.copy()\n",
    "tf_sum_rs = total_rs_data.copy()"
   ]
  },
  {
   "cell_type": "markdown",
   "metadata": {},
   "source": [
    "## TF genes"
   ]
  },
  {
   "cell_type": "code",
   "execution_count": 9,
   "metadata": {
    "ExecuteTime": {
     "end_time": "2020-02-28T22:01:00.823881Z",
     "start_time": "2020-02-28T22:01:00.818561Z"
    }
   },
   "outputs": [],
   "source": [
    "motif_gene_anno['total_rs'] = tf_sum_rs\n",
    "motif_gene_anno = motif_gene_anno.loc[tf_sum_rs.index].copy()"
   ]
  },
  {
   "cell_type": "code",
   "execution_count": 10,
   "metadata": {
    "ExecuteTime": {
     "end_time": "2020-02-28T22:01:01.343722Z",
     "start_time": "2020-02-28T22:01:01.326438Z"
    },
    "scrolled": true
   },
   "outputs": [
    {
     "data": {
      "text/html": [
       "<div>\n",
       "<style scoped>\n",
       "    .dataframe tbody tr th:only-of-type {\n",
       "        vertical-align: middle;\n",
       "    }\n",
       "\n",
       "    .dataframe tbody tr th {\n",
       "        vertical-align: top;\n",
       "    }\n",
       "\n",
       "    .dataframe thead th {\n",
       "        text-align: right;\n",
       "    }\n",
       "</style>\n",
       "<table border=\"1\" class=\"dataframe\">\n",
       "  <thead>\n",
       "    <tr style=\"text-align: right;\">\n",
       "      <th></th>\n",
       "      <th>motif_group</th>\n",
       "      <th>SubFamily</th>\n",
       "      <th>total_rs</th>\n",
       "    </tr>\n",
       "  </thead>\n",
       "  <tbody>\n",
       "    <tr>\n",
       "      <th>0</th>\n",
       "      <td>MotifGroup0</td>\n",
       "      <td>unclassified</td>\n",
       "      <td>2.768986</td>\n",
       "    </tr>\n",
       "    <tr>\n",
       "      <th>1</th>\n",
       "      <td>MotifGroup1</td>\n",
       "      <td>EHF-like</td>\n",
       "      <td>0.102049</td>\n",
       "    </tr>\n",
       "    <tr>\n",
       "      <th>2</th>\n",
       "      <td>MotifGroup1</td>\n",
       "      <td>ELF1-like</td>\n",
       "      <td>0.083129</td>\n",
       "    </tr>\n",
       "    <tr>\n",
       "      <th>3</th>\n",
       "      <td>MotifGroup1</td>\n",
       "      <td>ELK-like</td>\n",
       "      <td>0.083129</td>\n",
       "    </tr>\n",
       "    <tr>\n",
       "      <th>4</th>\n",
       "      <td>MotifGroup1</td>\n",
       "      <td>ETS-like</td>\n",
       "      <td>0.120367</td>\n",
       "    </tr>\n",
       "    <tr>\n",
       "      <th>5</th>\n",
       "      <td>MotifGroup100</td>\n",
       "      <td>ER-like(NR3A)</td>\n",
       "      <td>0.164087</td>\n",
       "    </tr>\n",
       "    <tr>\n",
       "      <th>6</th>\n",
       "      <td>MotifGroup102</td>\n",
       "      <td>ONECUT</td>\n",
       "      <td>0.638149</td>\n",
       "    </tr>\n",
       "    <tr>\n",
       "      <th>7</th>\n",
       "      <td>MotifGroup105</td>\n",
       "      <td>CEBP</td>\n",
       "      <td>0.165608</td>\n",
       "    </tr>\n",
       "    <tr>\n",
       "      <th>8</th>\n",
       "      <td>MotifGroup108</td>\n",
       "      <td>CTCF-like</td>\n",
       "      <td>0.173261</td>\n",
       "    </tr>\n",
       "    <tr>\n",
       "      <th>9</th>\n",
       "      <td>MotifGroup11</td>\n",
       "      <td>LHX3-like</td>\n",
       "      <td>2.264886</td>\n",
       "    </tr>\n",
       "    <tr>\n",
       "      <th>10</th>\n",
       "      <td>MotifGroup113</td>\n",
       "      <td>unclassified</td>\n",
       "      <td>0.493156</td>\n",
       "    </tr>\n",
       "    <tr>\n",
       "      <th>11</th>\n",
       "      <td>MotifGroup114</td>\n",
       "      <td>REVERBA(NR1D)</td>\n",
       "      <td>0.383565</td>\n",
       "    </tr>\n",
       "    <tr>\n",
       "      <th>12</th>\n",
       "      <td>MotifGroup117</td>\n",
       "      <td>unclassified</td>\n",
       "      <td>2.515754</td>\n",
       "    </tr>\n",
       "    <tr>\n",
       "      <th>13</th>\n",
       "      <td>MotifGroup122</td>\n",
       "      <td>Group A</td>\n",
       "      <td>0.821765</td>\n",
       "    </tr>\n",
       "    <tr>\n",
       "      <th>14</th>\n",
       "      <td>MotifGroup125</td>\n",
       "      <td>ROR(NR1F)</td>\n",
       "      <td>4.147096</td>\n",
       "    </tr>\n",
       "    <tr>\n",
       "      <th>15</th>\n",
       "      <td>MotifGroup126</td>\n",
       "      <td>ZFX-ZFY</td>\n",
       "      <td>1.175419</td>\n",
       "    </tr>\n",
       "    <tr>\n",
       "      <th>16</th>\n",
       "      <td>MotifGroup13</td>\n",
       "      <td>POU1</td>\n",
       "      <td>5.010955</td>\n",
       "    </tr>\n",
       "    <tr>\n",
       "      <th>17</th>\n",
       "      <td>MotifGroup13</td>\n",
       "      <td>POU2</td>\n",
       "      <td>2.295249</td>\n",
       "    </tr>\n",
       "    <tr>\n",
       "      <th>18</th>\n",
       "      <td>MotifGroup13</td>\n",
       "      <td>POU3</td>\n",
       "      <td>3.258898</td>\n",
       "    </tr>\n",
       "    <tr>\n",
       "      <th>19</th>\n",
       "      <td>MotifGroup13</td>\n",
       "      <td>POU5</td>\n",
       "      <td>0.716455</td>\n",
       "    </tr>\n",
       "    <tr>\n",
       "      <th>20</th>\n",
       "      <td>MotifGroup135</td>\n",
       "      <td>PAX3-like</td>\n",
       "      <td>1.109854</td>\n",
       "    </tr>\n",
       "    <tr>\n",
       "      <th>21</th>\n",
       "      <td>MotifGroup14</td>\n",
       "      <td>unclassified</td>\n",
       "      <td>0.163879</td>\n",
       "    </tr>\n",
       "    <tr>\n",
       "      <th>22</th>\n",
       "      <td>MotifGroup140</td>\n",
       "      <td>R-MAD</td>\n",
       "      <td>1.186401</td>\n",
       "    </tr>\n",
       "    <tr>\n",
       "      <th>23</th>\n",
       "      <td>MotifGroup148</td>\n",
       "      <td>MEIS</td>\n",
       "      <td>0.939074</td>\n",
       "    </tr>\n",
       "    <tr>\n",
       "      <th>24</th>\n",
       "      <td>MotifGroup15</td>\n",
       "      <td>unclassified</td>\n",
       "      <td>0.360497</td>\n",
       "    </tr>\n",
       "    <tr>\n",
       "      <th>25</th>\n",
       "      <td>MotifGroup150</td>\n",
       "      <td>TWIST</td>\n",
       "      <td>0.085165</td>\n",
       "    </tr>\n",
       "    <tr>\n",
       "      <th>26</th>\n",
       "      <td>MotifGroup16</td>\n",
       "      <td>POU6</td>\n",
       "      <td>1.019542</td>\n",
       "    </tr>\n",
       "    <tr>\n",
       "      <th>27</th>\n",
       "      <td>MotifGroup161</td>\n",
       "      <td>PLAG</td>\n",
       "      <td>0.177405</td>\n",
       "    </tr>\n",
       "    <tr>\n",
       "      <th>28</th>\n",
       "      <td>MotifGroup165</td>\n",
       "      <td>unclassified</td>\n",
       "      <td>0.084863</td>\n",
       "    </tr>\n",
       "    <tr>\n",
       "      <th>29</th>\n",
       "      <td>MotifGroup168</td>\n",
       "      <td>FOXD</td>\n",
       "      <td>0.217875</td>\n",
       "    </tr>\n",
       "    <tr>\n",
       "      <th>...</th>\n",
       "      <td>...</td>\n",
       "      <td>...</td>\n",
       "      <td>...</td>\n",
       "    </tr>\n",
       "    <tr>\n",
       "      <th>153</th>\n",
       "      <td>MotifGroup7</td>\n",
       "      <td>FOXC</td>\n",
       "      <td>1.213284</td>\n",
       "    </tr>\n",
       "    <tr>\n",
       "      <th>154</th>\n",
       "      <td>MotifGroup7</td>\n",
       "      <td>FOXD</td>\n",
       "      <td>1.793482</td>\n",
       "    </tr>\n",
       "    <tr>\n",
       "      <th>155</th>\n",
       "      <td>MotifGroup7</td>\n",
       "      <td>FOXE</td>\n",
       "      <td>1.195350</td>\n",
       "    </tr>\n",
       "    <tr>\n",
       "      <th>156</th>\n",
       "      <td>MotifGroup7</td>\n",
       "      <td>FOXF</td>\n",
       "      <td>1.846993</td>\n",
       "    </tr>\n",
       "    <tr>\n",
       "      <th>157</th>\n",
       "      <td>MotifGroup7</td>\n",
       "      <td>FOXG</td>\n",
       "      <td>2.224896</td>\n",
       "    </tr>\n",
       "    <tr>\n",
       "      <th>158</th>\n",
       "      <td>MotifGroup7</td>\n",
       "      <td>FOXI</td>\n",
       "      <td>2.055835</td>\n",
       "    </tr>\n",
       "    <tr>\n",
       "      <th>159</th>\n",
       "      <td>MotifGroup7</td>\n",
       "      <td>FOXJ</td>\n",
       "      <td>2.157623</td>\n",
       "    </tr>\n",
       "    <tr>\n",
       "      <th>160</th>\n",
       "      <td>MotifGroup7</td>\n",
       "      <td>FOXK</td>\n",
       "      <td>1.637895</td>\n",
       "    </tr>\n",
       "    <tr>\n",
       "      <th>161</th>\n",
       "      <td>MotifGroup7</td>\n",
       "      <td>FOXL</td>\n",
       "      <td>2.248301</td>\n",
       "    </tr>\n",
       "    <tr>\n",
       "      <th>162</th>\n",
       "      <td>MotifGroup7</td>\n",
       "      <td>FOXN</td>\n",
       "      <td>2.802591</td>\n",
       "    </tr>\n",
       "    <tr>\n",
       "      <th>163</th>\n",
       "      <td>MotifGroup7</td>\n",
       "      <td>FOXO</td>\n",
       "      <td>1.590432</td>\n",
       "    </tr>\n",
       "    <tr>\n",
       "      <th>164</th>\n",
       "      <td>MotifGroup7</td>\n",
       "      <td>FOXP</td>\n",
       "      <td>1.971682</td>\n",
       "    </tr>\n",
       "    <tr>\n",
       "      <th>165</th>\n",
       "      <td>MotifGroup70</td>\n",
       "      <td>unclassified</td>\n",
       "      <td>0.730203</td>\n",
       "    </tr>\n",
       "    <tr>\n",
       "      <th>166</th>\n",
       "      <td>MotifGroup74</td>\n",
       "      <td>unclassified</td>\n",
       "      <td>3.755863</td>\n",
       "    </tr>\n",
       "    <tr>\n",
       "      <th>167</th>\n",
       "      <td>MotifGroup75</td>\n",
       "      <td>CUX</td>\n",
       "      <td>0.661759</td>\n",
       "    </tr>\n",
       "    <tr>\n",
       "      <th>168</th>\n",
       "      <td>MotifGroup76</td>\n",
       "      <td>unclassified</td>\n",
       "      <td>0.169515</td>\n",
       "    </tr>\n",
       "    <tr>\n",
       "      <th>169</th>\n",
       "      <td>MotifGroup8</td>\n",
       "      <td>ATF3-like</td>\n",
       "      <td>6.677186</td>\n",
       "    </tr>\n",
       "    <tr>\n",
       "      <th>170</th>\n",
       "      <td>MotifGroup8</td>\n",
       "      <td>Fos</td>\n",
       "      <td>6.414313</td>\n",
       "    </tr>\n",
       "    <tr>\n",
       "      <th>171</th>\n",
       "      <td>MotifGroup8</td>\n",
       "      <td>Jun</td>\n",
       "      <td>6.289667</td>\n",
       "    </tr>\n",
       "    <tr>\n",
       "      <th>172</th>\n",
       "      <td>MotifGroup8</td>\n",
       "      <td>Large MAF</td>\n",
       "      <td>1.654997</td>\n",
       "    </tr>\n",
       "    <tr>\n",
       "      <th>173</th>\n",
       "      <td>MotifGroup8</td>\n",
       "      <td>NFE2</td>\n",
       "      <td>4.452516</td>\n",
       "    </tr>\n",
       "    <tr>\n",
       "      <th>174</th>\n",
       "      <td>MotifGroup8</td>\n",
       "      <td>R-MAD</td>\n",
       "      <td>6.165403</td>\n",
       "    </tr>\n",
       "    <tr>\n",
       "      <th>175</th>\n",
       "      <td>MotifGroup8</td>\n",
       "      <td>Small MAF</td>\n",
       "      <td>4.808868</td>\n",
       "    </tr>\n",
       "    <tr>\n",
       "      <th>176</th>\n",
       "      <td>MotifGroup8</td>\n",
       "      <td>unclassified</td>\n",
       "      <td>5.422573</td>\n",
       "    </tr>\n",
       "    <tr>\n",
       "      <th>177</th>\n",
       "      <td>MotifGroup81</td>\n",
       "      <td>ROR(NR1F)</td>\n",
       "      <td>1.531725</td>\n",
       "    </tr>\n",
       "    <tr>\n",
       "      <th>178</th>\n",
       "      <td>MotifGroup85</td>\n",
       "      <td>YY1-like</td>\n",
       "      <td>0.071911</td>\n",
       "    </tr>\n",
       "    <tr>\n",
       "      <th>179</th>\n",
       "      <td>MotifGroup86</td>\n",
       "      <td>unclassified</td>\n",
       "      <td>0.149652</td>\n",
       "    </tr>\n",
       "    <tr>\n",
       "      <th>180</th>\n",
       "      <td>MotifGroup96</td>\n",
       "      <td>Group B</td>\n",
       "      <td>0.390872</td>\n",
       "    </tr>\n",
       "    <tr>\n",
       "      <th>181</th>\n",
       "      <td>MotifGroup99</td>\n",
       "      <td>PBX</td>\n",
       "      <td>2.592074</td>\n",
       "    </tr>\n",
       "    <tr>\n",
       "      <th>182</th>\n",
       "      <td>MotifGroup99</td>\n",
       "      <td>unclassified</td>\n",
       "      <td>1.432804</td>\n",
       "    </tr>\n",
       "  </tbody>\n",
       "</table>\n",
       "<p>183 rows × 3 columns</p>\n",
       "</div>"
      ],
      "text/plain": [
       "      motif_group     SubFamily  total_rs\n",
       "0     MotifGroup0  unclassified  2.768986\n",
       "1     MotifGroup1      EHF-like  0.102049\n",
       "2     MotifGroup1     ELF1-like  0.083129\n",
       "3     MotifGroup1      ELK-like  0.083129\n",
       "4     MotifGroup1      ETS-like  0.120367\n",
       "..            ...           ...       ...\n",
       "178  MotifGroup85      YY1-like  0.071911\n",
       "179  MotifGroup86  unclassified  0.149652\n",
       "180  MotifGroup96       Group B  0.390872\n",
       "181  MotifGroup99           PBX  2.592074\n",
       "182  MotifGroup99  unclassified  1.432804\n",
       "\n",
       "[183 rows x 3 columns]"
      ]
     },
     "execution_count": 10,
     "metadata": {},
     "output_type": "execute_result"
    }
   ],
   "source": [
    "motif_gene_anno.groupby(['motif_group', 'SubFamily'])['total_rs'].mean().reset_index()"
   ]
  },
  {
   "cell_type": "code",
   "execution_count": null,
   "metadata": {},
   "outputs": [],
   "source": []
  },
  {
   "cell_type": "code",
   "execution_count": 11,
   "metadata": {
    "ExecuteTime": {
     "end_time": "2020-02-28T22:01:02.627039Z",
     "start_time": "2020-02-28T22:01:02.305376Z"
    }
   },
   "outputs": [
    {
     "name": "stderr",
     "output_type": "stream",
     "text": [
      "/home/hanliu/miniconda3/envs/clustering/lib/python3.7/site-packages/numpy/core/fromnumeric.py:61: FutureWarning: Series.nonzero() is deprecated and will be removed in a future version.Use Series.to_numpy().nonzero() instead\n",
      "  return bound(*args, **kwds)\n"
     ]
    },
    {
     "data": {
      "image/png": "[encoded data removed]",
      "text/plain": [
       "<Figure size 600x300 with 1 Axes>"
      ]
     },
     "metadata": {
      "needs_background": "light"
     },
     "output_type": "display_data"
    }
   ],
   "source": [
    "from matplotlib import patches\n",
    "import numpy as np\n",
    "\n",
    "label_y_cutoff = 7\n",
    "\n",
    "df = tf_sum_rs[tf_sum_rs > label_y_cutoff]\n",
    "other_count = tf_sum_rs[tf_sum_rs <= label_y_cutoff].size\n",
    "df[f'({other_count} Other TFs)'] = 0.2\n",
    "\n",
    "# c=[groupColors.get(langnameGroup[label],'k') for label in df.index]\n",
    "fig = plt.figure(figsize=(2, 1), dpi=300)\n",
    "gs = fig.add_gridspec(1, 10)\n",
    "\n",
    "ax = fig.add_subplot(gs[0, :])\n",
    "# ax_scatter = fig.add_subplot(gs[0, 9:])\n",
    "\n",
    "ax.axes.get_xaxis().set_visible(False)\n",
    "ax.set_xlim(-40, 0.1)\n",
    "ax.set_ylim(0, 8)\n",
    "ax.set_yticks([0, 4, 8])\n",
    "\n",
    "ax.spines['left'].set_visible(False)\n",
    "ax.spines['top'].set_visible(False)\n",
    "ax.spines['bottom'].set_visible(False)\n",
    "ax.yaxis.set_label_position('right')\n",
    "ax.yaxis.set_ticks_position('right')\n",
    "\n",
    "plt.tight_layout()\n",
    "\n",
    "patch = patches.Rectangle((-0.1, 0), 0.2, 100, fill=False, alpha=0)\n",
    "# We add a rectangle to make sure the labels don't move to the right\n",
    "ax.add_patch(patch)\n",
    "\n",
    "texts = []\n",
    "np.random.seed(0)\n",
    "for label, y in zip(df.index, df):\n",
    "    texts += [\n",
    "        ax.text(\n",
    "            -.1 + np.random.random() / 1000,\n",
    "            y + np.random.random() / 1000,\n",
    "            label,\n",
    "            # A small random shift prevents labels\n",
    "            # which have exactly the same coordinates from being stuck together\n",
    "            # (not a problem in this example really, but wanted to mention this possibility)\n",
    "            color='k',\n",
    "            fontsize=4)\n",
    "    ]\n",
    "adjust_text(\n",
    "    texts,\n",
    "    [0 for _ in df],\n",
    "    df,\n",
    "    ha='left',\n",
    "    va='center',\n",
    "    add_objects=[patch],\n",
    "    expand_text=(1.05, 1),\n",
    "    # We want them to be quite compact, so reducing expansion makes sense\n",
    "    force_text=(0.75, 0),\n",
    "    force_objects=(1, 0),\n",
    "    #With default forces it takes a very long time to converge,\n",
    "    # but higher values still produce very nice output\n",
    "    autoalign=False,\n",
    "    only_move={\n",
    "        'points': 'x',\n",
    "        'text': 'x',\n",
    "        'objects': 'x'\n",
    "    })\n",
    "\n",
    "fig.savefig('Exc.Motif.total_rs.strip_plot.text_part.pdf', bbox_inches='tight')"
   ]
  },
  {
   "cell_type": "code",
   "execution_count": 57,
   "metadata": {
    "ExecuteTime": {
     "end_time": "2020-02-28T22:39:16.656412Z",
     "start_time": "2020-02-28T22:39:16.649623Z"
    }
   },
   "outputs": [
    {
     "data": {
      "text/plain": [
       "(376, 137)"
      ]
     },
     "execution_count": 57,
     "metadata": {},
     "output_type": "execute_result"
    }
   ],
   "source": [
    "tf_sum_rs.size, tf_sum_rs.groupby(motif_gene_anno['SubFamily']).median().size"
   ]
  },
  {
   "cell_type": "code",
   "execution_count": 12,
   "metadata": {
    "ExecuteTime": {
     "end_time": "2020-02-28T22:01:03.807464Z",
     "start_time": "2020-02-28T22:01:03.677145Z"
    }
   },
   "outputs": [
    {
     "name": "stderr",
     "output_type": "stream",
     "text": [
      "/home/hanliu/miniconda3/envs/clustering/lib/python3.7/site-packages/seaborn/utils.py:238: MatplotlibDeprecationWarning: \n",
      "The tick1On function was deprecated in Matplotlib 3.1 and will be removed in 3.3. Use Tick.tick1line.get_visible instead.\n",
      "  maj_on = any(t.tick1On for t in ax_i.yaxis.majorTicks)\n",
      "/home/hanliu/miniconda3/envs/clustering/lib/python3.7/site-packages/seaborn/utils.py:239: MatplotlibDeprecationWarning: \n",
      "The tick1On function was deprecated in Matplotlib 3.1 and will be removed in 3.3. Use Tick.tick1line.get_visible instead.\n",
      "  min_on = any(t.tick1On for t in ax_i.yaxis.minorTicks)\n",
      "/home/hanliu/miniconda3/envs/clustering/lib/python3.7/site-packages/seaborn/utils.py:242: MatplotlibDeprecationWarning: \n",
      "The tick2On function was deprecated in Matplotlib 3.1 and will be removed in 3.3. Use Tick.tick2line.set_visible instead.\n",
      "  t.tick2On = maj_on\n",
      "/home/hanliu/miniconda3/envs/clustering/lib/python3.7/site-packages/seaborn/utils.py:244: MatplotlibDeprecationWarning: \n",
      "The tick2On function was deprecated in Matplotlib 3.1 and will be removed in 3.3. Use Tick.tick2line.set_visible instead.\n",
      "  t.tick2On = min_on\n"
     ]
    },
    {
     "data": {
      "image/png": "[encoded data removed]",
      "text/plain": [
       "<Figure size 150x300 with 1 Axes>"
      ]
     },
     "metadata": {
      "needs_background": "light"
     },
     "output_type": "display_data"
    }
   ],
   "source": [
    "fig, ax = plt.subplots(figsize=(0.5, 1), dpi=300)\n",
    "sns.stripplot(y=tf_sum_rs, jitter=0.2, s=1, color='k')\n",
    "sns.despine(ax=ax, bottom=True, left=True, right=False)\n",
    "ax.set_ylabel('Total RS')\n",
    "ax.yaxis.set_label_position('right')\n",
    "ax.yaxis.set_ticks_position('right')\n",
    "ax.set_ylim(0, 8)\n",
    "ax.set_yticks([0, 4, 8])\n",
    "\n",
    "ax.set_xticks([])\n",
    "\n",
    "fig.savefig('Exc.Motif.total_rs.strip_plot.scatter_part.pdf')"
   ]
  },
  {
   "cell_type": "code",
   "execution_count": 13,
   "metadata": {
    "ExecuteTime": {
     "end_time": "2020-02-28T22:01:04.337832Z",
     "start_time": "2020-02-28T22:01:04.332325Z"
    }
   },
   "outputs": [],
   "source": [
    "tf_sum_rs.to_csv('exc.motif.sum_rs.csv', header=False)"
   ]
  },
  {
   "cell_type": "markdown",
   "metadata": {},
   "source": [
    "## Plot logos\n"
   ]
  },
  {
   "cell_type": "code",
   "execution_count": 55,
   "metadata": {
    "ExecuteTime": {
     "end_time": "2020-02-28T22:11:10.761842Z",
     "start_time": "2020-02-28T22:11:08.480043Z"
    }
   },
   "outputs": [
    {
     "name": "stderr",
     "output_type": "stream",
     "text": [
      "/home/hanliu/miniconda3/envs/clustering/lib/python3.7/site-packages/ALLCools/motif/utilities.py:138: RuntimeWarning: divide by zero encountered in log2\n",
      "  information_content = (pfm * np.log2(pfm / 0.25)).sum(axis=1)\n"
     ]
    },
    {
     "data": {
      "text/plain": [
       "SubFamily\n",
       "Fos               6.195668\n",
       "Neurogenin-ATO    5.992345\n",
       "TAL-HEN           5.091152\n",
       "POU1              5.010955\n",
       "NFE2              4.969954\n",
       "Small MAF         4.808868\n",
       "MEF2              4.544506\n",
       "MESP              3.884083\n",
       "R-MAD             3.675902\n",
       "ROR(NR1F)         3.467018\n",
       "Name: impact, dtype: float64"
      ]
     },
     "execution_count": 55,
     "metadata": {},
     "output_type": "execute_result"
    }
   ],
   "source": [
    "from ALLCools.motif.utilities import *\n",
    "\n",
    "pfm_dict = meme_to_pfm_dict(\n",
    "    '/home/hanliu/ref/MEME/selected_motifs_sets/JASPAR2020_CORE_vertebrates_non-redundant_pfms.meme'\n",
    ")\n",
    "\n",
    "use_top = tf_sum_rs.groupby(motif_gene_anno['SubFamily']).median().sort_values(ascending=False)[:10]\n",
    "use_top"
   ]
  },
  {
   "cell_type": "code",
   "execution_count": 56,
   "metadata": {
    "ExecuteTime": {
     "end_time": "2020-02-28T22:12:04.859233Z",
     "start_time": "2020-02-28T22:12:03.297369Z"
    }
   },
   "outputs": [
    {
     "data": {
      "image/png": "[encoded data removed]",
      "text/plain": [
       "<Figure size 450x360 with 10 Axes>"
      ]
     },
     "metadata": {
      "needs_background": "light"
     },
     "output_type": "display_data"
    }
   ],
   "source": [
    "motifs = tf_sum_rs.groupby(motif_gene_anno['SubFamily']).idxmax().loc[use_top.index]\n",
    "pfms = {k:pfm_dict[v] for k,v in motifs.items()}\n",
    "\n",
    "max_col = max((i.shape[0] for i in pfms.values()))\n",
    "\n",
    "fig = plt.figure(figsize=(1.5, 1.2), dpi=300)\n",
    "\n",
    "gs = fig.add_gridspec(len(pfms), 20)\n",
    "\n",
    "for i, (name, pfm) in enumerate(pfms.items()):\n",
    "    ax = fig.add_subplot(gs[i, :pfm.shape[0]])\n",
    "    plot_pfm(pfm=pfm, ax=ax)\n",
    "    ax.axis('off')\n",
    "    ax.text(0, 0.5, name, fontsize=6,\n",
    "            ha='left', va='center', transform=ax.transAxes)\n",
    "    \n",
    "fig.savefig('Exc.Motif.top_logos.pdf')"
   ]
  },
  {
   "cell_type": "code",
   "execution_count": null,
   "metadata": {},
   "outputs": [],
   "source": []
  },
  {
   "cell_type": "code",
   "execution_count": null,
   "metadata": {},
   "outputs": [],
   "source": []
  },
  {
   "cell_type": "code",
   "execution_count": null,
   "metadata": {},
   "outputs": [],
   "source": []
  },
  {
   "cell_type": "code",
   "execution_count": null,
   "metadata": {},
   "outputs": [],
   "source": []
  }
 ],
 "metadata": {
  "hide_input": false,
  "kernelspec": {
   "display_name": "Python 3",
   "language": "python",
   "name": "python3"
  },
  "language_info": {
   "codemirror_mode": {
    "name": "ipython",
    "version": 3
   },
   "file_extension": ".py",
   "mimetype": "text/x-python",
   "name": "python",
   "nbconvert_exporter": "python",
   "pygments_lexer": "ipython3",
   "version": "3.7.3"
  },
  "toc": {
   "base_numbering": 1,
   "nav_menu": {},
   "number_sections": true,
   "sideBar": true,
   "skip_h1_title": true,
   "title_cell": "Table of Contents",
   "title_sidebar": "Contents",
   "toc_cell": false,
   "toc_position": {},
   "toc_section_display": true,
   "toc_window_display": true
  }
 },
 "nbformat": 4,
 "nbformat_minor": 2
}
