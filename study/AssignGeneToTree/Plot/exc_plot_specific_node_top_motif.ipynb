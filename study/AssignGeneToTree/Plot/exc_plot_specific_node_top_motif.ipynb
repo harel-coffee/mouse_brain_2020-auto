{
 "cells": [
  {
   "cell_type": "code",
   "execution_count": 1,
   "metadata": {
    "ExecuteTime": {
     "end_time": "2020-02-26T23:54:19.390022Z",
     "start_time": "2020-02-26T23:54:18.928578Z"
    }
   },
   "outputs": [],
   "source": [
    "import pandas as pd\n",
    "import matplotlib.pyplot as plt\n",
    "import seaborn as sns\n",
    "import joblib\n",
    "from matplotlib.cm import get_cmap\n",
    "from matplotlib.colors import ListedColormap, Normalize\n",
    "from ALLCools.plot import *\n",
    "import re"
   ]
  },
  {
   "cell_type": "code",
   "execution_count": 2,
   "metadata": {
    "ExecuteTime": {
     "end_time": "2020-02-26T23:54:19.402492Z",
     "start_time": "2020-02-26T23:54:19.398680Z"
    }
   },
   "outputs": [],
   "source": [
    "from matplotlib import rc\n",
    "labelsize = 6\n",
    "linewidth = 0.6\n",
    "rc('lines', linewidth=linewidth)\n",
    "rc('axes', labelsize=labelsize, linewidth=linewidth)\n",
    "rc('xtick', labelsize=labelsize)\n",
    "rc('ytick', labelsize=labelsize)\n",
    "rc('xtick.major', width=linewidth)\n",
    "rc('ytick.major', width=linewidth)\n",
    "rc('xtick.minor', width=linewidth - 0.2)\n",
    "rc('ytick.minor', width=linewidth - 0.2)"
   ]
  },
  {
   "cell_type": "code",
   "execution_count": null,
   "metadata": {},
   "outputs": [],
   "source": []
  },
  {
   "cell_type": "markdown",
   "metadata": {},
   "source": [
    "## Gene metadata"
   ]
  },
  {
   "cell_type": "code",
   "execution_count": 3,
   "metadata": {
    "ExecuteTime": {
     "end_time": "2020-02-26T23:54:19.893061Z",
     "start_time": "2020-02-26T23:54:19.595267Z"
    }
   },
   "outputs": [],
   "source": [
    "gene_meta = pd.read_csv(\n",
    "    '/home/hanliu/ref/mouse/gencode/vm22/gencode.vM22.annotation.gene.flat.tsv.gz',\n",
    "    sep='\\t',\n",
    "    index_col='gene_id')\n",
    "gene_name_to_id = {v: k for k, v in gene_meta['gene_name'].items()}\n",
    "\n",
    "tf_genes = pd.read_csv(\n",
    "    '/home/hanliu/ref/TFGene/TFClass/TFClass.with_mouse_gene_id.csv',\n",
    "    index_col=0)\n",
    "tf_genes = set(','.join(tf_genes['EnsemblID'].dropna()).split(','))\n",
    "gene_meta['is_tf'] = gene_meta.index.map(lambda i: i.split('.')[0] in tf_genes)\n",
    "\n",
    "zfp_pattern = r'Zfp\\d+'\n",
    "p = re.compile(zfp_pattern)\n",
    "gene_meta.loc[gene_meta['gene_name'].apply(lambda i: p.search(i) is not None), 'is_tf'] = True\n",
    "tf_gene_names = set(gene_meta[gene_meta['is_tf']]['gene_name'].tolist())"
   ]
  },
  {
   "cell_type": "code",
   "execution_count": 4,
   "metadata": {
    "ExecuteTime": {
     "end_time": "2020-02-26T23:54:19.990885Z",
     "start_time": "2020-02-26T23:54:19.956059Z"
    }
   },
   "outputs": [],
   "source": [
    "remove_gene_pattern = r'(Gm\\d+)|(.+Rik)'\n",
    "p = re.compile(remove_gene_pattern)\n",
    "\n",
    "keep_gene = gene_meta[gene_meta['gene_name'].apply(lambda i: p.search(i) is None)].index"
   ]
  },
  {
   "cell_type": "markdown",
   "metadata": {
    "ExecuteTime": {
     "end_time": "2020-01-29T20:54:50.869329Z",
     "start_time": "2020-01-29T20:54:50.847528Z"
    }
   },
   "source": [
    "## Cell tidy data"
   ]
  },
  {
   "cell_type": "code",
   "execution_count": 5,
   "metadata": {
    "ExecuteTime": {
     "end_time": "2020-02-26T23:54:20.939254Z",
     "start_time": "2020-02-26T23:54:20.455300Z"
    }
   },
   "outputs": [
    {
     "name": "stderr",
     "output_type": "stream",
     "text": [
      "/home/hanliu/miniconda3/envs/clustering/lib/python3.7/site-packages/IPython/core/interactiveshell.py:3326: FutureWarning: The read_msgpack is deprecated and will be removed in a future version.\n",
      "It is recommended to use pyarrow for on-the-wire transmission of pandas objects.\n",
      "  exec(code_obj, self.user_global_ns, self.user_ns)\n"
     ]
    }
   ],
   "source": [
    "cell_tidy_data = pd.read_msgpack(\n",
    "    '/home/hanliu/project/mouse_rostral_brain/study/ClusteringSummary/Summary/TotalClusteringResults.msg'\n",
    ")\n",
    "cell_tidy_data = cell_tidy_data[cell_tidy_data['CellClass'] == 'Exc']\n",
    "cell_tidy_data = cell_tidy_data[\n",
    "    cell_tidy_data['SubType'].apply(lambda i: 'Outlier' not in i)].copy()"
   ]
  },
  {
   "cell_type": "markdown",
   "metadata": {},
   "source": [
    "## Motif information"
   ]
  },
  {
   "cell_type": "code",
   "execution_count": 6,
   "metadata": {
    "ExecuteTime": {
     "end_time": "2020-02-26T23:54:21.993504Z",
     "start_time": "2020-02-26T23:54:21.646548Z"
    }
   },
   "outputs": [
    {
     "data": {
      "text/html": [
       "<div>\n",
       "<style scoped>\n",
       "    .dataframe tbody tr th:only-of-type {\n",
       "        vertical-align: middle;\n",
       "    }\n",
       "\n",
       "    .dataframe tbody tr th {\n",
       "        vertical-align: top;\n",
       "    }\n",
       "\n",
       "    .dataframe thead th {\n",
       "        text-align: right;\n",
       "    }\n",
       "</style>\n",
       "<table border=\"1\" class=\"dataframe\">\n",
       "  <thead>\n",
       "    <tr style=\"text-align: right;\">\n",
       "      <th></th>\n",
       "      <th>motif_name</th>\n",
       "      <th>motif_genes</th>\n",
       "      <th>gene_ids</th>\n",
       "      <th>gene_names</th>\n",
       "      <th>motif_group</th>\n",
       "      <th>Class</th>\n",
       "      <th>Family</th>\n",
       "      <th>SubFamily</th>\n",
       "    </tr>\n",
       "    <tr>\n",
       "      <th>motif_uid</th>\n",
       "      <th></th>\n",
       "      <th></th>\n",
       "      <th></th>\n",
       "      <th></th>\n",
       "      <th></th>\n",
       "      <th></th>\n",
       "      <th></th>\n",
       "      <th></th>\n",
       "    </tr>\n",
       "  </thead>\n",
       "  <tbody>\n",
       "    <tr>\n",
       "      <th>MA0006.1</th>\n",
       "      <td>Ahr::Arnt</td>\n",
       "      <td>Ahr,Arnt</td>\n",
       "      <td>ENSMUSG00000019256.17,ENSMUSG00000015522.18</td>\n",
       "      <td>Ahr,Arnt</td>\n",
       "      <td>MotifGroup178</td>\n",
       "      <td>Basic helix-loop-helix factors (bHLH)</td>\n",
       "      <td>PAS</td>\n",
       "      <td>PAS-AHR</td>\n",
       "    </tr>\n",
       "    <tr>\n",
       "      <th>MA0854.1</th>\n",
       "      <td>Alx1</td>\n",
       "      <td>Alx1</td>\n",
       "      <td>ENSMUSG00000036602.14</td>\n",
       "      <td>Alx1</td>\n",
       "      <td>MotifGroup3</td>\n",
       "      <td>Homeo domain factors</td>\n",
       "      <td>Paired-related HD</td>\n",
       "      <td>ALX</td>\n",
       "    </tr>\n",
       "    <tr>\n",
       "      <th>MA0634.1</th>\n",
       "      <td>ALX3</td>\n",
       "      <td>ALX3</td>\n",
       "      <td>ENSMUSG00000014603.3</td>\n",
       "      <td>Alx3</td>\n",
       "      <td>MotifGroup3</td>\n",
       "      <td>Homeo domain factors</td>\n",
       "      <td>Paired-related HD</td>\n",
       "      <td>TPRX</td>\n",
       "    </tr>\n",
       "    <tr>\n",
       "      <th>MA0853.1</th>\n",
       "      <td>Alx4</td>\n",
       "      <td>Alx4</td>\n",
       "      <td>ENSMUSG00000040310.12</td>\n",
       "      <td>Alx4</td>\n",
       "      <td>MotifGroup3</td>\n",
       "      <td>Homeo domain factors</td>\n",
       "      <td>Paired-related HD</td>\n",
       "      <td>ALX</td>\n",
       "    </tr>\n",
       "    <tr>\n",
       "      <th>MA0007.3</th>\n",
       "      <td>Ar</td>\n",
       "      <td>Ar</td>\n",
       "      <td>ENSMUSG00000046532.8</td>\n",
       "      <td>Ar</td>\n",
       "      <td>MotifGroup32</td>\n",
       "      <td>Nuclear receptors with C4 zinc fingers</td>\n",
       "      <td>Steroid hormone receptors</td>\n",
       "      <td>GR-like(NR3C)</td>\n",
       "    </tr>\n",
       "  </tbody>\n",
       "</table>\n",
       "</div>"
      ],
      "text/plain": [
       "          motif_name motif_genes                                     gene_ids  \\\n",
       "motif_uid                                                                       \n",
       "MA0006.1   Ahr::Arnt    Ahr,Arnt  ENSMUSG00000019256.17,ENSMUSG00000015522.18   \n",
       "MA0854.1        Alx1        Alx1                        ENSMUSG00000036602.14   \n",
       "MA0634.1        ALX3        ALX3                         ENSMUSG00000014603.3   \n",
       "MA0853.1        Alx4        Alx4                        ENSMUSG00000040310.12   \n",
       "MA0007.3          Ar          Ar                         ENSMUSG00000046532.8   \n",
       "\n",
       "          gene_names    motif_group                                   Class  \\\n",
       "motif_uid                                                                     \n",
       "MA0006.1    Ahr,Arnt  MotifGroup178   Basic helix-loop-helix factors (bHLH)   \n",
       "MA0854.1        Alx1    MotifGroup3                    Homeo domain factors   \n",
       "MA0634.1        Alx3    MotifGroup3                    Homeo domain factors   \n",
       "MA0853.1        Alx4    MotifGroup3                    Homeo domain factors   \n",
       "MA0007.3          Ar   MotifGroup32  Nuclear receptors with C4 zinc fingers   \n",
       "\n",
       "                              Family      SubFamily  \n",
       "motif_uid                                            \n",
       "MA0006.1                         PAS        PAS-AHR  \n",
       "MA0854.1           Paired-related HD            ALX  \n",
       "MA0634.1           Paired-related HD           TPRX  \n",
       "MA0853.1           Paired-related HD            ALX  \n",
       "MA0007.3   Steroid hormone receptors  GR-like(NR3C)  "
      ]
     },
     "execution_count": 6,
     "metadata": {},
     "output_type": "execute_result"
    }
   ],
   "source": [
    "motif_gene_anno = pd.read_csv(\n",
    "    '/home/hanliu/project/mouse_rostral_brain/study/MotifClustering/JASPAR2020_CORE_vertebrates_non-redundant.mouse_genes.with_motif_group.199.csv', \n",
    "    index_col=0\n",
    ")\n",
    "tf_class = pd.read_csv('/home/hanliu/ref/TFGene/TFClass/TFClass.with_mouse_gene_id.csv')\n",
    "\n",
    "for tf_col in ['Class', 'Family', 'SubFamily']:\n",
    "    gene_class_map = {}\n",
    "    for _, (class_name, genes) in tf_class[[tf_col, 'EnsemblID']].iterrows():\n",
    "        if isinstance(genes, float):\n",
    "            continue\n",
    "        for gene in genes.split(','):\n",
    "            gene_class_map[gene] = class_name\n",
    "    \n",
    "    motif_gene_anno[tf_col] = motif_gene_anno['gene_ids'].apply(lambda i: gene_class_map.get(i.split('.')[0], ''))\n",
    "motif_gene_anno.head()"
   ]
  },
  {
   "cell_type": "code",
   "execution_count": 7,
   "metadata": {
    "ExecuteTime": {
     "end_time": "2020-02-26T23:54:23.141039Z",
     "start_time": "2020-02-26T23:54:22.059438Z"
    }
   },
   "outputs": [],
   "source": [
    "from ALLCools.motif.utilities import *"
   ]
  },
  {
   "cell_type": "code",
   "execution_count": 8,
   "metadata": {
    "ExecuteTime": {
     "end_time": "2020-02-26T23:54:25.178937Z",
     "start_time": "2020-02-26T23:54:23.142915Z"
    }
   },
   "outputs": [
    {
     "name": "stderr",
     "output_type": "stream",
     "text": [
      "/home/hanliu/miniconda3/envs/clustering/lib/python3.7/site-packages/ALLCools/motif/utilities.py:138: RuntimeWarning: divide by zero encountered in log2\n",
      "  information_content = (pfm * np.log2(pfm / 0.25)).sum(axis=1)\n"
     ]
    }
   ],
   "source": [
    "motif_pfms = meme_to_pfm_dict(\n",
    "    '/home/hanliu/ref/MEME/selected_motifs_sets/JASPAR2020_CORE_vertebrates_non-redundant_pfms.meme'\n",
    ")"
   ]
  },
  {
   "cell_type": "markdown",
   "metadata": {},
   "source": [
    "## Tree"
   ]
  },
  {
   "cell_type": "code",
   "execution_count": 9,
   "metadata": {
    "ExecuteTime": {
     "end_time": "2020-02-26T23:54:25.211730Z",
     "start_time": "2020-02-26T23:54:25.180829Z"
    }
   },
   "outputs": [],
   "source": [
    "dendro = joblib.load(f'/home/hanliu/project/mouse_rostral_brain/study/AssignGeneToTree/RTree/Exc.dendrogram.lib')\n",
    "linkage = pd.read_csv(f'/home/hanliu/project/mouse_rostral_brain/study/AssignGeneToTree/RTree/Exc.linkage.csv', \n",
    "                      header=0, index_col=0).reset_index(drop=True)\n",
    "node_dict = joblib.load(\n",
    "    '/home/hanliu/project/mouse_rostral_brain/study/AssignGeneToTree/RTree/Exc.non_singleton_node_dict.lib'\n",
    ")"
   ]
  },
  {
   "cell_type": "markdown",
   "metadata": {
    "ExecuteTime": {
     "end_time": "2020-02-25T03:43:31.796297Z",
     "start_time": "2020-02-25T03:43:31.794257Z"
    }
   },
   "source": [
    "## Gene Assignment"
   ]
  },
  {
   "cell_type": "code",
   "execution_count": 10,
   "metadata": {
    "ExecuteTime": {
     "end_time": "2020-02-26T23:54:25.284965Z",
     "start_time": "2020-02-26T23:54:25.213274Z"
    }
   },
   "outputs": [
    {
     "name": "stderr",
     "output_type": "stream",
     "text": [
      "/home/hanliu/miniconda3/envs/clustering/lib/python3.7/site-packages/IPython/core/interactiveshell.py:3326: FutureWarning: The read_msgpack is deprecated and will be removed in a future version.\n",
      "It is recommended to use pyarrow for on-the-wire transmission of pandas objects.\n",
      "  exec(code_obj, self.user_global_ns, self.user_ns)\n"
     ]
    }
   ],
   "source": [
    "gene_assignment = pd.read_msgpack(\n",
    "    '/home/hanliu/project/mouse_rostral_brain/study/AssignGeneToTree/ExcGeneToTree/NodeGeneResults.msg'\n",
    ")"
   ]
  },
  {
   "cell_type": "markdown",
   "metadata": {},
   "source": [
    "## Motif Assignment"
   ]
  },
  {
   "cell_type": "code",
   "execution_count": 11,
   "metadata": {
    "ExecuteTime": {
     "end_time": "2020-02-26T23:54:25.289468Z",
     "start_time": "2020-02-26T23:54:25.286490Z"
    }
   },
   "outputs": [],
   "source": [
    "motif_assignment = pd.read_msgpack(\n",
    "    '/home/hanliu/project/mouse_rostral_brain/study/AssignGeneToTree/ExcDMR/NodeMotifResults.msg'\n",
    ")"
   ]
  },
  {
   "cell_type": "markdown",
   "metadata": {},
   "source": [
    "## Trace related motifs"
   ]
  },
  {
   "cell_type": "code",
   "execution_count": 12,
   "metadata": {
    "ExecuteTime": {
     "end_time": "2020-02-26T23:54:26.382064Z",
     "start_time": "2020-02-26T23:54:26.376967Z"
    }
   },
   "outputs": [],
   "source": [
    "def get_node_path(start_node):\n",
    "    int_to_cluster = {i: cluster for i, cluster in zip(dendro['leaves'], dendro['ivl'])}\n",
    "    if start_node <= max(int_to_cluster.keys()):\n",
    "        cluster = int_to_cluster[start_node]\n",
    "    else:\n",
    "        # take any child\n",
    "        cluster = list(node_dict[start_node]['left'])[0]\n",
    "        \n",
    "    nodes = [start_node]\n",
    "    for k, v in node_dict.items():\n",
    "        if k < start_node:\n",
    "            continue\n",
    "        else:\n",
    "            if cluster in (v['left'] | v['right']):\n",
    "                nodes.append(k)\n",
    "    node_path = sorted(set(nodes), reverse=True)\n",
    "    return node_path\n"
   ]
  },
  {
   "cell_type": "code",
   "execution_count": 13,
   "metadata": {
    "ExecuteTime": {
     "end_time": "2020-02-26T23:54:26.809712Z",
     "start_time": "2020-02-26T23:54:26.806940Z"
    }
   },
   "outputs": [],
   "source": [
    "\n",
    "def get_node_motifs(node):\n",
    "    motif_rs = motif_assignment.loc[node]\n",
    "    left = motif_rs[motif_rs > rs_cutoff]\n",
    "    right = motif_rs[motif_rs < -rs_cutoff]\n",
    "    return left, right"
   ]
  },
  {
   "cell_type": "code",
   "execution_count": 14,
   "metadata": {
    "ExecuteTime": {
     "end_time": "2020-02-26T23:54:38.944728Z",
     "start_time": "2020-02-26T23:54:38.928853Z"
    }
   },
   "outputs": [],
   "source": [
    "def plot_node(node):\n",
    "    left_motif, right_motif = get_node_motifs(node)\n",
    "\n",
    "    left_motif_info = motif_gene_anno.loc[left_motif.index]\n",
    "    left_motif_info['rs'] = left_motif\n",
    "    left_motif_info.sort_values('motif_group', inplace=True)\n",
    "\n",
    "    right_motif_info = motif_gene_anno.loc[right_motif.index]\n",
    "    right_motif_info['rs'] = right_motif\n",
    "    right_motif_info.sort_values('motif_group', inplace=True)\n",
    "\n",
    "    node_genes = gene_assignment.loc[node]\n",
    "\n",
    "    scale = 1.2\n",
    "    max_rows = max(left_motif_info.shape[0], right_motif_info.shape[0])\n",
    "    head_size = 2\n",
    "    motif_height = 2\n",
    "    gs_rows = head_size + int(max_rows * motif_height)\n",
    "    gs_cols = 50 + 2\n",
    "\n",
    "    fig = plt.figure(figsize=(0.1 * gs_cols * scale, 0.1 * gs_rows * scale),\n",
    "                     dpi=300)\n",
    "    gs = fig.add_gridspec(gs_rows, gs_cols)\n",
    "\n",
    "    left_cmap = sns.light_palette(\"salmon\", as_cmap=True)\n",
    "    right_cmap = sns.light_palette(\"steelblue\", as_cmap=True)\n",
    "\n",
    "    ax_node = fig.add_subplot(gs[0, 20:30])\n",
    "\n",
    "    ax = ax_node\n",
    "    ax.plot((0.25, 0.25, 0.75, 0.75), (0, 1, 1, 0),\n",
    "            c='gray',\n",
    "            clip_on=False,\n",
    "            transform=ax.transAxes)\n",
    "    ax.scatter(x=(0.25, 0.5, 0.75),\n",
    "               y=(0, 1, 0),\n",
    "               clip_on=False,\n",
    "               c=['salmon', 'gray', 'steelblue'],\n",
    "               zorder=10,\n",
    "               transform=ax.transAxes,\n",
    "               s=node_size)\n",
    "    ax.text(x=0.5,\n",
    "            y=2,\n",
    "            va='center',\n",
    "            ha='center',\n",
    "            transform=ax.transAxes,\n",
    "            s=node,\n",
    "            fontsize=labelsize)\n",
    "    ax.axis('off')\n",
    "\n",
    "    for i, (motif_id, row) in enumerate(left_motif_info.iterrows()):\n",
    "        motif_pfm = motif_pfms[motif_id]\n",
    "        motif_length = motif_pfm.shape[0]\n",
    "        ax = fig.add_subplot(\n",
    "            gs[int(i * motif_height +\n",
    "                   head_size):int((i + 1) * motif_height +\n",
    "                                  head_size), (24 - motif_length):24])\n",
    "        plot_pfm(motif_pfm, ax)\n",
    "        ax.set(xticks=[], yticks=[])\n",
    "        sns.despine(ax=ax, left=True)\n",
    "        ax.text(1,\n",
    "                0.5,\n",
    "                row['gene_names'] + ' ' + str(row['Family']) + ' ' +\n",
    "                str(row['SubFamily']) + ' ' + f\"{row['rs']:.2f}\",\n",
    "                ha='right',\n",
    "                va='center',\n",
    "                fontsize=labelsize,\n",
    "                transform=ax.transAxes)\n",
    "\n",
    "    for i, (motif_id, row) in enumerate(right_motif_info.iterrows()):\n",
    "        motif_pfm = motif_pfms[motif_id]\n",
    "        motif_length = motif_pfm.shape[0]\n",
    "        ax = fig.add_subplot(gs[int(i * motif_height +\n",
    "                                    head_size):int((i + 1) * motif_height +\n",
    "                                                   head_size), 26:26 +\n",
    "                                motif_length])\n",
    "        plot_pfm(motif_pfm, ax)\n",
    "        ax.set(xticks=[], yticks=[])\n",
    "        sns.despine(ax=ax, left=True)\n",
    "        ax.text(0,\n",
    "                0.5,\n",
    "                row['gene_names'] + ' ' + str(row['Family']) + ' ' +\n",
    "                str(row['SubFamily']) + ' ' + f\"{row['rs']:.2f}\",\n",
    "                ha='left',\n",
    "                va='center',\n",
    "                fontsize=labelsize,\n",
    "                transform=ax.transAxes)\n",
    "    return fig"
   ]
  },
  {
   "cell_type": "code",
   "execution_count": 15,
   "metadata": {
    "ExecuteTime": {
     "end_time": "2020-02-26T23:54:39.609633Z",
     "start_time": "2020-02-26T23:54:39.606828Z"
    }
   },
   "outputs": [],
   "source": [
    "top_n_tf = 4\n",
    "top_n_other = 8\n",
    "hard_cutoff = 0.3\n",
    "max_y = 12\n",
    "node_size = 20\n",
    "line_space = 1.2\n",
    "hue_norm = (0.3, 0.8)"
   ]
  },
  {
   "cell_type": "code",
   "execution_count": 16,
   "metadata": {
    "ExecuteTime": {
     "end_time": "2020-02-26T23:54:40.030710Z",
     "start_time": "2020-02-26T23:54:40.027061Z"
    },
    "scrolled": false
   },
   "outputs": [
    {
     "data": {
      "text/plain": [
       "[134, 133, 131, 130, 123, 120, 95]"
      ]
     },
     "execution_count": 16,
     "metadata": {},
     "output_type": "execute_result"
    }
   ],
   "source": [
    "rs_cutoff = 0.5\n",
    "\n",
    "node_path = get_node_path(95)\n",
    "node_path"
   ]
  },
  {
   "cell_type": "code",
   "execution_count": null,
   "metadata": {
    "scrolled": true
   },
   "outputs": [],
   "source": [
    "node_related_tf_dir = 'ExcNodeTF'\n",
    "pathlib.Path(node_related_tf_dir).mkdir(exist_ok=True)\n",
    "\n",
    "for node in node_dict.keys():\n",
    "    fig = plot_node(node)\n",
    "    fig.savefig(f'{node_related_tf_dir}/{node}.pdf')"
   ]
  },
  {
   "cell_type": "code",
   "execution_count": null,
   "metadata": {},
   "outputs": [],
   "source": []
  },
  {
   "cell_type": "code",
   "execution_count": null,
   "metadata": {},
   "outputs": [],
   "source": []
  },
  {
   "cell_type": "code",
   "execution_count": null,
   "metadata": {},
   "outputs": [],
   "source": []
  },
  {
   "cell_type": "code",
   "execution_count": null,
   "metadata": {},
   "outputs": [],
   "source": []
  },
  {
   "cell_type": "code",
   "execution_count": null,
   "metadata": {
    "scrolled": false
   },
   "outputs": [],
   "source": []
  },
  {
   "cell_type": "code",
   "execution_count": null,
   "metadata": {},
   "outputs": [],
   "source": []
  },
  {
   "cell_type": "code",
   "execution_count": null,
   "metadata": {},
   "outputs": [],
   "source": []
  },
  {
   "cell_type": "code",
   "execution_count": null,
   "metadata": {
    "scrolled": false
   },
   "outputs": [],
   "source": []
  },
  {
   "cell_type": "code",
   "execution_count": null,
   "metadata": {},
   "outputs": [],
   "source": []
  },
  {
   "cell_type": "code",
   "execution_count": null,
   "metadata": {},
   "outputs": [],
   "source": []
  },
  {
   "cell_type": "code",
   "execution_count": null,
   "metadata": {},
   "outputs": [],
   "source": []
  },
  {
   "cell_type": "code",
   "execution_count": null,
   "metadata": {},
   "outputs": [],
   "source": []
  },
  {
   "cell_type": "code",
   "execution_count": null,
   "metadata": {},
   "outputs": [],
   "source": []
  },
  {
   "cell_type": "code",
   "execution_count": null,
   "metadata": {},
   "outputs": [],
   "source": []
  },
  {
   "cell_type": "code",
   "execution_count": null,
   "metadata": {},
   "outputs": [],
   "source": []
  },
  {
   "cell_type": "code",
   "execution_count": null,
   "metadata": {},
   "outputs": [],
   "source": []
  }
 ],
 "metadata": {
  "hide_input": false,
  "kernelspec": {
   "display_name": "Python 3",
   "language": "python",
   "name": "python3"
  },
  "language_info": {
   "codemirror_mode": {
    "name": "ipython",
    "version": 3
   },
   "file_extension": ".py",
   "mimetype": "text/x-python",
   "name": "python",
   "nbconvert_exporter": "python",
   "pygments_lexer": "ipython3",
   "version": "3.7.3"
  },
  "toc": {
   "base_numbering": 1,
   "nav_menu": {},
   "number_sections": true,
   "sideBar": true,
   "skip_h1_title": true,
   "title_cell": "Table of Contents",
   "title_sidebar": "Contents",
   "toc_cell": false,
   "toc_position": {},
   "toc_section_display": true,
   "toc_window_display": true
  }
 },
 "nbformat": 4,
 "nbformat_minor": 2
}
