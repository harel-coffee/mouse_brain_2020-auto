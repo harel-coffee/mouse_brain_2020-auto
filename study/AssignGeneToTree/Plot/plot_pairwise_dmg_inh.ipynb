{
 "cells": [
  {
   "cell_type": "code",
   "execution_count": 1,
   "metadata": {
    "ExecuteTime": {
     "end_time": "2020-03-16T22:46:24.211475Z",
     "start_time": "2020-03-16T22:46:13.629825Z"
    }
   },
   "outputs": [],
   "source": [
    "import pandas as pd\n",
    "import numpy as np\n",
    "import xarray as xr\n",
    "import joblib\n",
    "import seaborn as sns\n",
    "import matplotlib.pyplot as plt"
   ]
  },
  {
   "cell_type": "code",
   "execution_count": 2,
   "metadata": {
    "ExecuteTime": {
     "end_time": "2020-03-16T22:46:24.217876Z",
     "start_time": "2020-03-16T22:46:24.213578Z"
    }
   },
   "outputs": [],
   "source": [
    "from matplotlib import rc\n",
    "\n",
    "labelsize = 6\n",
    "linewidth = 0.1\n",
    "rc('lines', linewidth=linewidth)\n",
    "rc('axes', labelsize=labelsize, linewidth=linewidth)\n",
    "rc('xtick', labelsize=labelsize)\n",
    "rc('ytick', labelsize=labelsize)\n",
    "rc('xtick.major', width=linewidth)\n",
    "rc('ytick.major', width=linewidth)\n",
    "rc('xtick.minor', width=linewidth-0.2)\n",
    "rc('ytick.minor', width=linewidth-0.2)"
   ]
  },
  {
   "cell_type": "markdown",
   "metadata": {},
   "source": [
    "## Pairwise DMG"
   ]
  },
  {
   "cell_type": "code",
   "execution_count": 3,
   "metadata": {
    "ExecuteTime": {
     "end_time": "2020-03-16T22:46:32.313075Z",
     "start_time": "2020-03-16T22:46:24.221827Z"
    }
   },
   "outputs": [
    {
     "name": "stderr",
     "output_type": "stream",
     "text": [
      "/home/hanliu/miniconda3/envs/clustering/lib/python3.7/site-packages/IPython/core/interactiveshell.py:3326: FutureWarning: The read_msgpack is deprecated and will be removed in a future version.\n",
      "It is recommended to use pyarrow for on-the-wire transmission of pandas objects.\n",
      "  exec(code_obj, self.user_global_ns, self.user_ns)\n"
     ]
    }
   ],
   "source": [
    "pairwise_dmg = pd.read_msgpack(\n",
    "    '/home/hanliu/project/mouse_rostral_brain/study/ClusterMethylMarker/InhSubTypePairwiseMarker/TotalPairwiseMarker.msg'\n",
    ")\n",
    "pair_gene_counts = pairwise_dmg.groupby(['cluster_from', 'cluster_to']).apply(lambda i: i.shape[0])\n",
    "pair_gene_counts.index = pair_gene_counts.index.map(lambda i: tuple(sorted(i)))\n",
    "final_gene_counts = pair_gene_counts.groupby(pair_gene_counts.index).sum()"
   ]
  },
  {
   "cell_type": "code",
   "execution_count": 4,
   "metadata": {
    "ExecuteTime": {
     "end_time": "2020-03-16T22:46:32.548536Z",
     "start_time": "2020-03-16T22:46:32.316178Z"
    }
   },
   "outputs": [],
   "source": [
    "gene_count = pd.DataFrame([\n",
    "    final_gene_counts.index.map(lambda i: i[0]),\n",
    "    final_gene_counts.index.map(lambda i: i[1]), final_gene_counts.values\n",
    "],\n",
    "                                index=['a', 'b', 'count'\n",
    "                                       ]).T.set_index(['a', 'b'\n",
    "                                                       ])['count']\n",
    "gene_count_r = pd.Series(gene_count.values, index=gene_count.index.map(lambda i: i[::-1]))\n",
    "gene_count_table = pd.concat([gene_count, gene_count_r]).unstack().fillna(0)"
   ]
  },
  {
   "cell_type": "code",
   "execution_count": 5,
   "metadata": {
    "ExecuteTime": {
     "end_time": "2020-03-16T22:46:32.616573Z",
     "start_time": "2020-03-16T22:46:32.558955Z"
    }
   },
   "outputs": [],
   "source": [
    "# order by dendrogram\n",
    "cluster_order = joblib.load(\n",
    "    '/home/hanliu/project/mouse_rostral_brain/study/AssignGeneToTree/RTree/Inh.dendrogram.lib'\n",
    ")['ivl']\n",
    "\n",
    "name_map = {\n",
    "    i.replace(' ', '.').replace('-', '.'): i\n",
    "    for i in gene_count_table.index\n",
    "}\n",
    "cluster_order = [name_map[i] for i in cluster_order]\n",
    "\n",
    "gene_count_table = gene_count_table.reindex(index=cluster_order, columns=cluster_order)"
   ]
  },
  {
   "cell_type": "code",
   "execution_count": 6,
   "metadata": {
    "ExecuteTime": {
     "end_time": "2020-03-16T22:46:32.628865Z",
     "start_time": "2020-03-16T22:46:32.618017Z"
    }
   },
   "outputs": [],
   "source": [
    "mask = np.zeros_like(gene_count_table)\n",
    "mask[np.triu_indices_from(mask)] = True"
   ]
  },
  {
   "cell_type": "code",
   "execution_count": 7,
   "metadata": {
    "ExecuteTime": {
     "end_time": "2020-03-16T22:46:32.635104Z",
     "start_time": "2020-03-16T22:46:32.630115Z"
    }
   },
   "outputs": [],
   "source": [
    "counts = gene_count_table.unstack()\n",
    "counts = counts[counts > 0]\n",
    "min_gene, max_gene = counts.min(), counts.max()"
   ]
  },
  {
   "cell_type": "markdown",
   "metadata": {},
   "source": [
    "## Cluster Gene mCH Level"
   ]
  },
  {
   "cell_type": "code",
   "execution_count": 8,
   "metadata": {
    "ExecuteTime": {
     "end_time": "2020-03-16T22:46:34.527226Z",
     "start_time": "2020-03-16T22:46:33.821637Z"
    }
   },
   "outputs": [
    {
     "data": {
      "text/html": [
       "<div>\n",
       "<style scoped>\n",
       "    .dataframe tbody tr th:only-of-type {\n",
       "        vertical-align: middle;\n",
       "    }\n",
       "\n",
       "    .dataframe tbody tr th {\n",
       "        vertical-align: top;\n",
       "    }\n",
       "\n",
       "    .dataframe thead th {\n",
       "        text-align: right;\n",
       "    }\n",
       "</style>\n",
       "<table border=\"1\" class=\"dataframe\">\n",
       "  <thead>\n",
       "    <tr style=\"text-align: right;\">\n",
       "      <th>SubType</th>\n",
       "      <th>MGE-Sst_Rxra</th>\n",
       "      <th>CA3_Cadm2</th>\n",
       "      <th>CA1_Chrm3</th>\n",
       "      <th>CA3-St18_Tead1</th>\n",
       "      <th>Unc5c_Unc5c</th>\n",
       "      <th>Gfra1_Gfra1</th>\n",
       "      <th>ODC_odc-small</th>\n",
       "      <th>PC_pc-all</th>\n",
       "      <th>ODC_odc-large</th>\n",
       "      <th>ANP_anp-dg</th>\n",
       "      <th>...</th>\n",
       "      <th>D1L-PAL_Plcxd3</th>\n",
       "      <th>PAL-Inh_Onecut2</th>\n",
       "      <th>LSX-Inh_Foxp2</th>\n",
       "      <th>LSX-Inh_Enox1</th>\n",
       "      <th>MSN-D1_Outlier</th>\n",
       "      <th>LSX-Inh_Dock10</th>\n",
       "      <th>LSX-Inh_Nxph1</th>\n",
       "      <th>LSX-Inh_Zeb2</th>\n",
       "      <th>LSX-Inh_Lats2</th>\n",
       "      <th>PT-L5_Outlier</th>\n",
       "    </tr>\n",
       "    <tr>\n",
       "      <th>geneslop2k</th>\n",
       "      <th></th>\n",
       "      <th></th>\n",
       "      <th></th>\n",
       "      <th></th>\n",
       "      <th></th>\n",
       "      <th></th>\n",
       "      <th></th>\n",
       "      <th></th>\n",
       "      <th></th>\n",
       "      <th></th>\n",
       "      <th></th>\n",
       "      <th></th>\n",
       "      <th></th>\n",
       "      <th></th>\n",
       "      <th></th>\n",
       "      <th></th>\n",
       "      <th></th>\n",
       "      <th></th>\n",
       "      <th></th>\n",
       "      <th></th>\n",
       "      <th></th>\n",
       "    </tr>\n",
       "  </thead>\n",
       "  <tbody>\n",
       "    <tr>\n",
       "      <th>ENSMUSG00000102693.1</th>\n",
       "      <td>0.036028</td>\n",
       "      <td>0.033156</td>\n",
       "      <td>0.023127</td>\n",
       "      <td>0.027134</td>\n",
       "      <td>0.024149</td>\n",
       "      <td>0.030705</td>\n",
       "      <td>0.007401</td>\n",
       "      <td>0.004408</td>\n",
       "      <td>0.006504</td>\n",
       "      <td>0.005405</td>\n",
       "      <td>...</td>\n",
       "      <td>0.011507</td>\n",
       "      <td>0.042900</td>\n",
       "      <td>0.028670</td>\n",
       "      <td>0.025057</td>\n",
       "      <td>0.026316</td>\n",
       "      <td>0.022981</td>\n",
       "      <td>0.022370</td>\n",
       "      <td>0.019700</td>\n",
       "      <td>0.018092</td>\n",
       "      <td>0.018018</td>\n",
       "    </tr>\n",
       "    <tr>\n",
       "      <th>ENSMUSG00000064842.1</th>\n",
       "      <td>0.043546</td>\n",
       "      <td>0.029851</td>\n",
       "      <td>0.024722</td>\n",
       "      <td>0.027768</td>\n",
       "      <td>0.030352</td>\n",
       "      <td>0.039891</td>\n",
       "      <td>0.009691</td>\n",
       "      <td>0.004859</td>\n",
       "      <td>0.009342</td>\n",
       "      <td>0.006471</td>\n",
       "      <td>...</td>\n",
       "      <td>0.014913</td>\n",
       "      <td>0.049733</td>\n",
       "      <td>0.032969</td>\n",
       "      <td>0.029144</td>\n",
       "      <td>NaN</td>\n",
       "      <td>0.028612</td>\n",
       "      <td>0.030037</td>\n",
       "      <td>0.026626</td>\n",
       "      <td>0.031396</td>\n",
       "      <td>0.000000</td>\n",
       "    </tr>\n",
       "    <tr>\n",
       "      <th>ENSMUSG00000051951.5</th>\n",
       "      <td>0.011518</td>\n",
       "      <td>0.009630</td>\n",
       "      <td>0.008233</td>\n",
       "      <td>0.017092</td>\n",
       "      <td>0.011801</td>\n",
       "      <td>0.014484</td>\n",
       "      <td>0.018628</td>\n",
       "      <td>0.004790</td>\n",
       "      <td>0.015895</td>\n",
       "      <td>0.005185</td>\n",
       "      <td>...</td>\n",
       "      <td>0.012604</td>\n",
       "      <td>0.023654</td>\n",
       "      <td>0.026305</td>\n",
       "      <td>0.021451</td>\n",
       "      <td>0.013525</td>\n",
       "      <td>0.024743</td>\n",
       "      <td>0.022012</td>\n",
       "      <td>0.025300</td>\n",
       "      <td>0.021889</td>\n",
       "      <td>0.022814</td>\n",
       "    </tr>\n",
       "    <tr>\n",
       "      <th>ENSMUSG00000102851.1</th>\n",
       "      <td>0.012793</td>\n",
       "      <td>0.008696</td>\n",
       "      <td>0.008266</td>\n",
       "      <td>0.013822</td>\n",
       "      <td>0.010621</td>\n",
       "      <td>0.012788</td>\n",
       "      <td>0.013043</td>\n",
       "      <td>0.005251</td>\n",
       "      <td>0.013161</td>\n",
       "      <td>0.004871</td>\n",
       "      <td>...</td>\n",
       "      <td>0.012873</td>\n",
       "      <td>0.025467</td>\n",
       "      <td>0.030113</td>\n",
       "      <td>0.022554</td>\n",
       "      <td>0.000000</td>\n",
       "      <td>0.024056</td>\n",
       "      <td>0.025327</td>\n",
       "      <td>0.024327</td>\n",
       "      <td>0.015444</td>\n",
       "      <td>NaN</td>\n",
       "    </tr>\n",
       "    <tr>\n",
       "      <th>ENSMUSG00000103377.1</th>\n",
       "      <td>0.008664</td>\n",
       "      <td>0.009502</td>\n",
       "      <td>0.009479</td>\n",
       "      <td>0.024804</td>\n",
       "      <td>0.010696</td>\n",
       "      <td>0.016256</td>\n",
       "      <td>0.049207</td>\n",
       "      <td>0.004797</td>\n",
       "      <td>0.038580</td>\n",
       "      <td>0.005653</td>\n",
       "      <td>...</td>\n",
       "      <td>0.014659</td>\n",
       "      <td>0.025282</td>\n",
       "      <td>0.034705</td>\n",
       "      <td>0.026059</td>\n",
       "      <td>0.000000</td>\n",
       "      <td>0.032258</td>\n",
       "      <td>0.030009</td>\n",
       "      <td>0.032695</td>\n",
       "      <td>0.029836</td>\n",
       "      <td>0.015038</td>\n",
       "    </tr>\n",
       "  </tbody>\n",
       "</table>\n",
       "<p>5 rows × 169 columns</p>\n",
       "</div>"
      ],
      "text/plain": [
       "SubType               MGE-Sst_Rxra  CA3_Cadm2  CA1_Chrm3  CA3-St18_Tead1  \\\n",
       "geneslop2k                                                                 \n",
       "ENSMUSG00000102693.1      0.036028   0.033156   0.023127        0.027134   \n",
       "ENSMUSG00000064842.1      0.043546   0.029851   0.024722        0.027768   \n",
       "ENSMUSG00000051951.5      0.011518   0.009630   0.008233        0.017092   \n",
       "ENSMUSG00000102851.1      0.012793   0.008696   0.008266        0.013822   \n",
       "ENSMUSG00000103377.1      0.008664   0.009502   0.009479        0.024804   \n",
       "\n",
       "SubType               Unc5c_Unc5c  Gfra1_Gfra1  ODC_odc-small  PC_pc-all  \\\n",
       "geneslop2k                                                                 \n",
       "ENSMUSG00000102693.1     0.024149     0.030705       0.007401   0.004408   \n",
       "ENSMUSG00000064842.1     0.030352     0.039891       0.009691   0.004859   \n",
       "ENSMUSG00000051951.5     0.011801     0.014484       0.018628   0.004790   \n",
       "ENSMUSG00000102851.1     0.010621     0.012788       0.013043   0.005251   \n",
       "ENSMUSG00000103377.1     0.010696     0.016256       0.049207   0.004797   \n",
       "\n",
       "SubType               ODC_odc-large  ANP_anp-dg  ...  D1L-PAL_Plcxd3  \\\n",
       "geneslop2k                                       ...                   \n",
       "ENSMUSG00000102693.1       0.006504    0.005405  ...        0.011507   \n",
       "ENSMUSG00000064842.1       0.009342    0.006471  ...        0.014913   \n",
       "ENSMUSG00000051951.5       0.015895    0.005185  ...        0.012604   \n",
       "ENSMUSG00000102851.1       0.013161    0.004871  ...        0.012873   \n",
       "ENSMUSG00000103377.1       0.038580    0.005653  ...        0.014659   \n",
       "\n",
       "SubType               PAL-Inh_Onecut2  LSX-Inh_Foxp2  LSX-Inh_Enox1  \\\n",
       "geneslop2k                                                            \n",
       "ENSMUSG00000102693.1         0.042900       0.028670       0.025057   \n",
       "ENSMUSG00000064842.1         0.049733       0.032969       0.029144   \n",
       "ENSMUSG00000051951.5         0.023654       0.026305       0.021451   \n",
       "ENSMUSG00000102851.1         0.025467       0.030113       0.022554   \n",
       "ENSMUSG00000103377.1         0.025282       0.034705       0.026059   \n",
       "\n",
       "SubType               MSN-D1_Outlier  LSX-Inh_Dock10  LSX-Inh_Nxph1  \\\n",
       "geneslop2k                                                            \n",
       "ENSMUSG00000102693.1        0.026316        0.022981       0.022370   \n",
       "ENSMUSG00000064842.1             NaN        0.028612       0.030037   \n",
       "ENSMUSG00000051951.5        0.013525        0.024743       0.022012   \n",
       "ENSMUSG00000102851.1        0.000000        0.024056       0.025327   \n",
       "ENSMUSG00000103377.1        0.000000        0.032258       0.030009   \n",
       "\n",
       "SubType               LSX-Inh_Zeb2  LSX-Inh_Lats2  PT-L5_Outlier  \n",
       "geneslop2k                                                        \n",
       "ENSMUSG00000102693.1      0.019700       0.018092       0.018018  \n",
       "ENSMUSG00000064842.1      0.026626       0.031396       0.000000  \n",
       "ENSMUSG00000051951.5      0.025300       0.021889       0.022814  \n",
       "ENSMUSG00000102851.1      0.024327       0.015444            NaN  \n",
       "ENSMUSG00000103377.1      0.032695       0.029836       0.015038  \n",
       "\n",
       "[5 rows x 169 columns]"
      ]
     },
     "execution_count": 8,
     "metadata": {},
     "output_type": "execute_result"
    }
   ],
   "source": [
    "subtype_rate = xr.open_dataset(\n",
    "    '/home/hanliu/project/mouse_rostral_brain/study/mCClustermCLevel/SubType.geneslop2k.mcds'\n",
    ")['gene_cluster_da_rate'].sel(mc_type='CHN').to_pandas().T\n",
    "subtype_rate.columns = subtype_rate.columns.str.replace(' ', '_')\n",
    "subtype_rate.head()"
   ]
  },
  {
   "cell_type": "code",
   "execution_count": 14,
   "metadata": {
    "ExecuteTime": {
     "end_time": "2020-03-16T22:49:25.984704Z",
     "start_time": "2020-03-16T22:49:25.669935Z"
    }
   },
   "outputs": [],
   "source": [
    "example_pair = ['MGE-Pvalb Cacna1i', 'MGE-Sst Unc5b']\n",
    "\n",
    "related_genes = pairwise_dmg[pairwise_dmg['cluster_from'].isin(example_pair)\n",
    "                             & pairwise_dmg['cluster_to'].isin(example_pair)]\n",
    "use_rate = subtype_rate.loc[related_genes['gene_id'], [i.replace(' ', '_') for i in example_pair]]\n",
    "gene_delta = (use_rate.iloc[:, 0] - use_rate.iloc[:, 1]).sort_values(ascending=False)\n",
    "\n",
    "use_rate_up = use_rate.loc[gene_delta[gene_delta > 0.01].index]\n",
    "use_rate_low = use_rate.loc[gene_delta[gene_delta < -0.01].index]\n"
   ]
  },
  {
   "cell_type": "code",
   "execution_count": 19,
   "metadata": {
    "ExecuteTime": {
     "end_time": "2020-03-16T23:03:14.706078Z",
     "start_time": "2020-03-16T23:03:14.702206Z"
    }
   },
   "outputs": [
    {
     "data": {
      "text/plain": [
       "(46, 50)"
      ]
     },
     "execution_count": 19,
     "metadata": {},
     "output_type": "execute_result"
    }
   ],
   "source": [
    "gene_count_table.columns.get_loc('MGE-Pvalb Cacna1i'), gene_count_table.columns.get_loc('MGE-Sst Unc5b'), "
   ]
  },
  {
   "cell_type": "code",
   "execution_count": 25,
   "metadata": {
    "ExecuteTime": {
     "end_time": "2020-03-16T23:08:27.623757Z",
     "start_time": "2020-03-16T23:08:27.620386Z"
    }
   },
   "outputs": [
    {
     "data": {
      "text/plain": [
       "(77, 77)"
      ]
     },
     "execution_count": 25,
     "metadata": {},
     "output_type": "execute_result"
    }
   ],
   "source": [
    "gene_count_table.shape"
   ]
  },
  {
   "cell_type": "markdown",
   "metadata": {},
   "source": [
    "## Plot"
   ]
  },
  {
   "cell_type": "code",
   "execution_count": 15,
   "metadata": {
    "ExecuteTime": {
     "end_time": "2020-03-16T22:49:28.210129Z",
     "start_time": "2020-03-16T22:49:26.658716Z"
    }
   },
   "outputs": [
    {
     "name": "stdout",
     "output_type": "stream",
     "text": [
      "(50, 46)\n"
     ]
    },
    {
     "data": {
      "image/png": "[encoded data removed]",
      "text/plain": [
       "<Figure size 600x600 with 6 Axes>"
      ]
     },
     "metadata": {
      "needs_background": "light"
     },
     "output_type": "display_data"
    }
   ],
   "source": [
    "fig = plt.figure(figsize=(2, 2), dpi=300)\n",
    "\n",
    "gs = fig.add_gridspec(20, 10)\n",
    "\n",
    "ax_heatmap = fig.add_subplot(gs[:18, :9])\n",
    "ax_cbar = fig.add_subplot(gs[-1, 2:5])\n",
    "ax_up_left = fig.add_subplot(gs[0:7, 8])\n",
    "ax_up_right = fig.add_subplot(gs[0:7, 9])\n",
    "ax_low_left = fig.add_subplot(gs[7:14, 8])\n",
    "ax_low_right = fig.add_subplot(gs[7:14, 9])\n",
    "\n",
    "ax = ax_heatmap\n",
    "sns.heatmap(gene_count_table.fillna(0),\n",
    "            ax=ax,\n",
    "            vmin=0,\n",
    "            vmax=2000,\n",
    "            cmap='plasma',\n",
    "            mask=mask,\n",
    "            cbar=None)\n",
    "ax.set(xticks=[], yticks=[], xlabel='', ylabel='')\n",
    "\n",
    "ax = ax_cbar\n",
    "from ALLCools.plot.color import plot_colorbar\n",
    "plot_colorbar(ax,\n",
    "              cmap='plasma',\n",
    "              hue_norm=(0, 2000),\n",
    "              cnorm=None,\n",
    "              label='# DMG',\n",
    "              orientation='horizontal',\n",
    "              labelsize=4,\n",
    "              linewidth=0.5)\n",
    "ax.text(-0.05,\n",
    "        0.5,\n",
    "        f'(min) {min_gene} ',\n",
    "        fontsize=labelsize,\n",
    "        ha='right',\n",
    "        va='center',\n",
    "        transform=ax.transAxes,\n",
    "        clip_on=False)\n",
    "ax.text(1.05,\n",
    "        0.5,\n",
    "        f' {max_gene} (max)',\n",
    "        fontsize=labelsize,\n",
    "        ha='left',\n",
    "        va='center',\n",
    "        transform=ax.transAxes,\n",
    "        clip_on=False)\n",
    "example_loc = gene_count_table.index.get_loc(example_pair[1]), gene_count_table.columns.get_loc(example_pair[0])\n",
    "print(example_loc)\n",
    "\n",
    "ax = ax_up_left\n",
    "ax.imshow(use_rate_up.iloc[:, 0].values[:, None],\n",
    "          aspect='auto',\n",
    "          cmap='viridis',\n",
    "          vmin=0,\n",
    "          vmax=0.05)\n",
    "ax.axis('off')\n",
    "ax = ax_up_right\n",
    "ax.imshow(use_rate_up.iloc[:, 1].values[:, None],\n",
    "          aspect='auto',\n",
    "          cmap='viridis',\n",
    "          vmin=0,\n",
    "          vmax=0.05)\n",
    "ax.axis('off')\n",
    "ax = ax_low_left\n",
    "ax.imshow(use_rate_low.iloc[:, 0].values[:, None],\n",
    "          aspect='auto',\n",
    "          cmap='viridis',\n",
    "          vmin=0,\n",
    "          vmax=0.05)\n",
    "ax.axis('off')\n",
    "ax = ax_low_right\n",
    "ax.imshow(use_rate_low.iloc[:, 1].values[:, None],\n",
    "          aspect='auto',\n",
    "          cmap='viridis',\n",
    "          vmin=0,\n",
    "          vmax=0.05)\n",
    "ax.axis('off')\n",
    "\n",
    "fig.savefig('PairwiseInhDMG.pdf')"
   ]
  },
  {
   "cell_type": "code",
   "execution_count": 13,
   "metadata": {
    "ExecuteTime": {
     "end_time": "2020-02-24T20:31:10.904401Z",
     "start_time": "2020-02-24T20:31:10.900733Z"
    }
   },
   "outputs": [
    {
     "data": {
      "text/plain": [
       "(136, 693)"
      ]
     },
     "execution_count": 13,
     "metadata": {},
     "output_type": "execute_result"
    }
   ],
   "source": [
    "use_rate_up.shape[0], use_rate_low.shape[0]"
   ]
  },
  {
   "cell_type": "code",
   "execution_count": 26,
   "metadata": {
    "ExecuteTime": {
     "end_time": "2020-03-16T23:14:01.616076Z",
     "start_time": "2020-03-16T23:14:01.611755Z"
    }
   },
   "outputs": [
    {
     "data": {
      "text/plain": [
       "355"
      ]
     },
     "execution_count": 26,
     "metadata": {},
     "output_type": "execute_result"
    }
   ],
   "source": [
    "(gene_delta > 0).sum()"
   ]
  },
  {
   "cell_type": "code",
   "execution_count": 27,
   "metadata": {
    "ExecuteTime": {
     "end_time": "2020-03-16T23:14:01.739953Z",
     "start_time": "2020-03-16T23:14:01.735847Z"
    }
   },
   "outputs": [
    {
     "data": {
      "text/plain": [
       "781"
      ]
     },
     "execution_count": 27,
     "metadata": {},
     "output_type": "execute_result"
    }
   ],
   "source": [
    "(gene_delta < 0).sum()"
   ]
  },
  {
   "cell_type": "code",
   "execution_count": null,
   "metadata": {},
   "outputs": [],
   "source": []
  },
  {
   "cell_type": "code",
   "execution_count": null,
   "metadata": {},
   "outputs": [],
   "source": []
  },
  {
   "cell_type": "code",
   "execution_count": null,
   "metadata": {},
   "outputs": [],
   "source": []
  },
  {
   "cell_type": "code",
   "execution_count": null,
   "metadata": {},
   "outputs": [],
   "source": []
  },
  {
   "cell_type": "code",
   "execution_count": null,
   "metadata": {},
   "outputs": [],
   "source": []
  },
  {
   "cell_type": "code",
   "execution_count": null,
   "metadata": {},
   "outputs": [],
   "source": []
  },
  {
   "cell_type": "code",
   "execution_count": null,
   "metadata": {},
   "outputs": [],
   "source": []
  },
  {
   "cell_type": "code",
   "execution_count": null,
   "metadata": {},
   "outputs": [],
   "source": []
  }
 ],
 "metadata": {
  "hide_input": false,
  "kernelspec": {
   "display_name": "Python 3",
   "language": "python",
   "name": "python3"
  },
  "language_info": {
   "codemirror_mode": {
    "name": "ipython",
    "version": 3
   },
   "file_extension": ".py",
   "mimetype": "text/x-python",
   "name": "python",
   "nbconvert_exporter": "python",
   "pygments_lexer": "ipython3",
   "version": "3.7.3"
  },
  "toc": {
   "base_numbering": 1,
   "nav_menu": {},
   "number_sections": true,
   "sideBar": true,
   "skip_h1_title": true,
   "title_cell": "Table of Contents",
   "title_sidebar": "Contents",
   "toc_cell": false,
   "toc_position": {},
   "toc_section_display": true,
   "toc_window_display": true
  }
 },
 "nbformat": 4,
 "nbformat_minor": 2
}
