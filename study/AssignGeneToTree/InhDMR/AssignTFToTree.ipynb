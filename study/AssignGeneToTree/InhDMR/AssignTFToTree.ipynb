{
 "cells": [
  {
   "cell_type": "code",
   "execution_count": 1,
   "metadata": {
    "ExecuteTime": {
     "end_time": "2020-02-26T05:50:30.725923Z",
     "start_time": "2020-02-26T05:50:30.041509Z"
    },
    "papermill": {
     "duration": 0.374786,
     "end_time": "2020-01-27T23:41:52.695240",
     "exception": false,
     "start_time": "2020-01-27T23:41:52.320454",
     "status": "completed"
    },
    "tags": []
   },
   "outputs": [],
   "source": [
    "from concurrent.futures import ProcessPoolExecutor, as_completed\n",
    "\n",
    "import joblib\n",
    "import matplotlib.pyplot as plt\n",
    "import numpy as np\n",
    "import pandas as pd\n",
    "import seaborn as sns"
   ]
  },
  {
   "cell_type": "code",
   "execution_count": 2,
   "metadata": {
    "ExecuteTime": {
     "end_time": "2020-02-26T05:50:30.736913Z",
     "start_time": "2020-02-26T05:50:30.733640Z"
    },
    "papermill": {
     "duration": 0.009949,
     "end_time": "2020-01-27T23:41:52.711842",
     "exception": false,
     "start_time": "2020-01-27T23:41:52.701893",
     "status": "completed"
    },
    "tags": []
   },
   "outputs": [],
   "source": [
    "cpu = 10\n",
    "\n",
    "lgp_cutoff = 8\n",
    "log2odds_cutoff = 1"
   ]
  },
  {
   "cell_type": "markdown",
   "metadata": {},
   "source": [
    "## Load"
   ]
  },
  {
   "cell_type": "markdown",
   "metadata": {},
   "source": [
    "### Pairwise Motif Enrichment"
   ]
  },
  {
   "cell_type": "code",
   "execution_count": 3,
   "metadata": {
    "ExecuteTime": {
     "end_time": "2020-02-26T05:50:32.661483Z",
     "start_time": "2020-02-26T05:50:31.055505Z"
    }
   },
   "outputs": [
    {
     "name": "stderr",
     "output_type": "stream",
     "text": [
      "/home/hanliu/miniconda3/envs/clustering/lib/python3.7/site-packages/IPython/core/interactiveshell.py:3326: FutureWarning: The read_msgpack is deprecated and will be removed in a future version.\n",
      "It is recommended to use pyarrow for on-the-wire transmission of pandas objects.\n",
      "  exec(code_obj, self.user_global_ns, self.user_ns)\n",
      "/home/hanliu/miniconda3/envs/clustering/lib/python3.7/site-packages/pandas/core/series.py:853: RuntimeWarning: divide by zero encountered in log2\n",
      "  result = getattr(ufunc, method)(*inputs, **kwargs)\n"
     ]
    }
   ],
   "source": [
    "motif_enrichment_results = pd.read_msgpack('PairwiseMotifEnrichment.msg')\n",
    "motif_enrichment_results['log2odds'] = np.log2(\n",
    "    motif_enrichment_results['oddsratio'])\n",
    "motif_enrichment_results = motif_enrichment_results[\n",
    "    (motif_enrichment_results['-lgp'] > lgp_cutoff)\n",
    "    & (motif_enrichment_results['log2odds'].abs() > log2odds_cutoff)].copy()"
   ]
  },
  {
   "cell_type": "code",
   "execution_count": 4,
   "metadata": {
    "ExecuteTime": {
     "end_time": "2020-02-26T05:50:35.339578Z",
     "start_time": "2020-02-26T05:50:35.331823Z"
    }
   },
   "outputs": [
    {
     "data": {
      "text/plain": [
       "(183338, 13)"
      ]
     },
     "execution_count": 4,
     "metadata": {},
     "output_type": "execute_result"
    }
   ],
   "source": [
    "motif_enrichment_results.shape"
   ]
  },
  {
   "cell_type": "code",
   "execution_count": 5,
   "metadata": {
    "ExecuteTime": {
     "end_time": "2020-02-26T05:50:35.640737Z",
     "start_time": "2020-02-26T05:50:35.613218Z"
    }
   },
   "outputs": [
    {
     "data": {
      "text/html": [
       "<div>\n",
       "<style scoped>\n",
       "    .dataframe tbody tr th:only-of-type {\n",
       "        vertical-align: middle;\n",
       "    }\n",
       "\n",
       "    .dataframe tbody tr th {\n",
       "        vertical-align: top;\n",
       "    }\n",
       "\n",
       "    .dataframe thead th {\n",
       "        text-align: right;\n",
       "    }\n",
       "</style>\n",
       "<table border=\"1\" class=\"dataframe\">\n",
       "  <thead>\n",
       "    <tr style=\"text-align: right;\">\n",
       "      <th></th>\n",
       "      <th>oddsratio</th>\n",
       "      <th>p_value</th>\n",
       "      <th>adj_p</th>\n",
       "      <th>-lgp</th>\n",
       "      <th>left_hit</th>\n",
       "      <th>left_no_hit</th>\n",
       "      <th>right_hit</th>\n",
       "      <th>right_no_hit</th>\n",
       "      <th>left_hit_rate</th>\n",
       "      <th>right_hit_rate</th>\n",
       "      <th>ClusterA</th>\n",
       "      <th>ClusterB</th>\n",
       "      <th>log2odds</th>\n",
       "    </tr>\n",
       "  </thead>\n",
       "  <tbody>\n",
       "    <tr>\n",
       "      <th>MA0027.2</th>\n",
       "      <td>2.199441</td>\n",
       "      <td>1.145486e-202</td>\n",
       "      <td>1.583854e-201</td>\n",
       "      <td>200.800285</td>\n",
       "      <td>3317.0</td>\n",
       "      <td>31516.0</td>\n",
       "      <td>3176.0</td>\n",
       "      <td>66371.0</td>\n",
       "      <td>0.095226</td>\n",
       "      <td>0.045667</td>\n",
       "      <td>Foxp2_Trpc7</td>\n",
       "      <td>MSN-D1_Khdrbs3</td>\n",
       "      <td>1.137137</td>\n",
       "    </tr>\n",
       "    <tr>\n",
       "      <th>MA0068.2</th>\n",
       "      <td>2.729698</td>\n",
       "      <td>2.190765e-244</td>\n",
       "      <td>3.750381e-243</td>\n",
       "      <td>242.425925</td>\n",
       "      <td>2668.0</td>\n",
       "      <td>32165.0</td>\n",
       "      <td>2051.0</td>\n",
       "      <td>67496.0</td>\n",
       "      <td>0.076594</td>\n",
       "      <td>0.029491</td>\n",
       "      <td>Foxp2_Trpc7</td>\n",
       "      <td>MSN-D1_Khdrbs3</td>\n",
       "      <td>1.448741</td>\n",
       "    </tr>\n",
       "    <tr>\n",
       "      <th>MA0070.1</th>\n",
       "      <td>0.305699</td>\n",
       "      <td>6.838010e-54</td>\n",
       "      <td>4.966191e-53</td>\n",
       "      <td>52.303977</td>\n",
       "      <td>152.0</td>\n",
       "      <td>34681.0</td>\n",
       "      <td>983.0</td>\n",
       "      <td>68564.0</td>\n",
       "      <td>0.004364</td>\n",
       "      <td>0.014134</td>\n",
       "      <td>Foxp2_Trpc7</td>\n",
       "      <td>MSN-D1_Khdrbs3</td>\n",
       "      <td>-1.709814</td>\n",
       "    </tr>\n",
       "    <tr>\n",
       "      <th>MA0075.3</th>\n",
       "      <td>3.012484</td>\n",
       "      <td>0.000000e+00</td>\n",
       "      <td>0.000000e+00</td>\n",
       "      <td>300.000000</td>\n",
       "      <td>5223.0</td>\n",
       "      <td>29610.0</td>\n",
       "      <td>3847.0</td>\n",
       "      <td>65700.0</td>\n",
       "      <td>0.149944</td>\n",
       "      <td>0.055315</td>\n",
       "      <td>Foxp2_Trpc7</td>\n",
       "      <td>MSN-D1_Khdrbs3</td>\n",
       "      <td>1.590954</td>\n",
       "    </tr>\n",
       "    <tr>\n",
       "      <th>MA0077.1</th>\n",
       "      <td>2.000789</td>\n",
       "      <td>8.669413e-140</td>\n",
       "      <td>8.201721e-139</td>\n",
       "      <td>138.086095</td>\n",
       "      <td>2810.0</td>\n",
       "      <td>32023.0</td>\n",
       "      <td>2922.0</td>\n",
       "      <td>66625.0</td>\n",
       "      <td>0.080671</td>\n",
       "      <td>0.042015</td>\n",
       "      <td>Foxp2_Trpc7</td>\n",
       "      <td>MSN-D1_Khdrbs3</td>\n",
       "      <td>1.000569</td>\n",
       "    </tr>\n",
       "  </tbody>\n",
       "</table>\n",
       "</div>"
      ],
      "text/plain": [
       "          oddsratio        p_value          adj_p        -lgp  left_hit  \\\n",
       "MA0027.2   2.199441  1.145486e-202  1.583854e-201  200.800285    3317.0   \n",
       "MA0068.2   2.729698  2.190765e-244  3.750381e-243  242.425925    2668.0   \n",
       "MA0070.1   0.305699   6.838010e-54   4.966191e-53   52.303977     152.0   \n",
       "MA0075.3   3.012484   0.000000e+00   0.000000e+00  300.000000    5223.0   \n",
       "MA0077.1   2.000789  8.669413e-140  8.201721e-139  138.086095    2810.0   \n",
       "\n",
       "          left_no_hit  right_hit  right_no_hit  left_hit_rate  right_hit_rate  \\\n",
       "MA0027.2      31516.0     3176.0       66371.0       0.095226        0.045667   \n",
       "MA0068.2      32165.0     2051.0       67496.0       0.076594        0.029491   \n",
       "MA0070.1      34681.0      983.0       68564.0       0.004364        0.014134   \n",
       "MA0075.3      29610.0     3847.0       65700.0       0.149944        0.055315   \n",
       "MA0077.1      32023.0     2922.0       66625.0       0.080671        0.042015   \n",
       "\n",
       "             ClusterA        ClusterB  log2odds  \n",
       "MA0027.2  Foxp2_Trpc7  MSN-D1_Khdrbs3  1.137137  \n",
       "MA0068.2  Foxp2_Trpc7  MSN-D1_Khdrbs3  1.448741  \n",
       "MA0070.1  Foxp2_Trpc7  MSN-D1_Khdrbs3 -1.709814  \n",
       "MA0075.3  Foxp2_Trpc7  MSN-D1_Khdrbs3  1.590954  \n",
       "MA0077.1  Foxp2_Trpc7  MSN-D1_Khdrbs3  1.000569  "
      ]
     },
     "execution_count": 5,
     "metadata": {},
     "output_type": "execute_result"
    }
   ],
   "source": [
    "motif_enrichment_results.head()"
   ]
  },
  {
   "cell_type": "code",
   "execution_count": 6,
   "metadata": {
    "ExecuteTime": {
     "end_time": "2020-02-26T05:52:32.078553Z",
     "start_time": "2020-02-26T05:50:38.366014Z"
    }
   },
   "outputs": [],
   "source": [
    "def judge_row(row):\n",
    "    if row['log2odds'] < 0:\n",
    "        return pd.Series({'enrich': row['ClusterB'], 'null': row['ClusterA']})\n",
    "    else:\n",
    "        return pd.Series({'enrich': row['ClusterA'], 'null': row['ClusterB']})\n",
    "\n",
    "\n",
    "motif_sig_judge = motif_enrichment_results.apply(judge_row, axis=1)"
   ]
  },
  {
   "cell_type": "code",
   "execution_count": null,
   "metadata": {},
   "outputs": [],
   "source": []
  },
  {
   "cell_type": "markdown",
   "metadata": {},
   "source": [
    "### Dendrogram"
   ]
  },
  {
   "cell_type": "code",
   "execution_count": 7,
   "metadata": {
    "ExecuteTime": {
     "end_time": "2020-02-26T05:52:32.097440Z",
     "start_time": "2020-02-26T05:52:32.081543Z"
    },
    "papermill": {
     "duration": 0.381645,
     "end_time": "2020-01-27T23:41:53.115377",
     "exception": false,
     "start_time": "2020-01-27T23:41:52.733732",
     "status": "completed"
    },
    "tags": []
   },
   "outputs": [],
   "source": [
    "node_cluster_dict = joblib.load(\n",
    "    '/home/hanliu/project/mouse_rostral_brain/study/AssignGeneToTree/RTree/Inh.non_singleton_node_dict.lib'\n",
    ")"
   ]
  },
  {
   "cell_type": "code",
   "execution_count": 8,
   "metadata": {
    "ExecuteTime": {
     "end_time": "2020-02-26T05:52:32.103219Z",
     "start_time": "2020-02-26T05:52:32.099365Z"
    },
    "papermill": {
     "duration": 0.011486,
     "end_time": "2020-01-27T23:41:53.133286",
     "exception": false,
     "start_time": "2020-01-27T23:41:53.121800",
     "status": "completed"
    },
    "tags": []
   },
   "outputs": [],
   "source": [
    "node_possible_count = {}\n",
    "for node, sub_dict in node_cluster_dict.items():\n",
    "    possible_pairs = len(sub_dict['left']) * len(sub_dict['right'])\n",
    "    node_possible_count[node] = possible_pairs\n",
    "node_possible_count = pd.Series(node_possible_count)"
   ]
  },
  {
   "cell_type": "markdown",
   "metadata": {},
   "source": [
    "### Gene Meta"
   ]
  },
  {
   "cell_type": "code",
   "execution_count": 9,
   "metadata": {
    "ExecuteTime": {
     "end_time": "2020-02-26T05:52:32.406586Z",
     "start_time": "2020-02-26T05:52:32.104587Z"
    }
   },
   "outputs": [],
   "source": [
    "gene_meta = pd.read_csv(\n",
    "    '/home/hanliu/ref/mouse/gencode/vm22/gencode.vM22.annotation.gene.flat.tsv.gz',\n",
    "    sep='\\t',\n",
    "    index_col='gene_id')\n",
    "gene_name_to_id = {v: k for k, v in gene_meta['gene_name'].items()}"
   ]
  },
  {
   "cell_type": "markdown",
   "metadata": {},
   "source": [
    "## Assign motif to tree"
   ]
  },
  {
   "cell_type": "code",
   "execution_count": 10,
   "metadata": {
    "ExecuteTime": {
     "end_time": "2020-02-26T05:52:34.229855Z",
     "start_time": "2020-02-26T05:52:34.219860Z"
    }
   },
   "outputs": [],
   "source": [
    "def calculate_node_portion(sub_df):\n",
    "    nodes_records = {}\n",
    "    for k, v in node_cluster_dict.items():\n",
    "        left = [i.replace(' ', '_') for i in v['left']]\n",
    "        right = [i.replace(' ', '_') for i in v['right']]\n",
    "\n",
    "        # left enrich, right null\n",
    "        judge_from_left = sub_df['enrich'].apply(lambda i: i in left)\n",
    "        judge_to_right = sub_df['null'].apply(lambda i: i in right)\n",
    "\n",
    "        # right enrich, left hyper\n",
    "        judge_from_right = sub_df['enrich'].apply(lambda i: i in right)\n",
    "        judge_to_left = sub_df['null'].apply(lambda i: i in left)\n",
    "\n",
    "        # this two cancel each other, use the remaining abs as real hits\n",
    "        # positive means left hypo, negative means right hypo\n",
    "        total = (judge_from_left & judge_to_right).sum() -\\\n",
    "                (judge_from_right & judge_to_left).sum()\n",
    "        nodes_records[k] = total\n",
    "    nodes_records = pd.Series(nodes_records) / node_possible_count\n",
    "    return nodes_records"
   ]
  },
  {
   "cell_type": "code",
   "execution_count": null,
   "metadata": {},
   "outputs": [],
   "source": []
  },
  {
   "cell_type": "code",
   "execution_count": null,
   "metadata": {},
   "outputs": [],
   "source": []
  },
  {
   "cell_type": "code",
   "execution_count": 11,
   "metadata": {
    "ExecuteTime": {
     "end_time": "2020-02-26T05:52:50.727920Z",
     "start_time": "2020-02-26T05:52:36.141408Z"
    },
    "papermill": {
     "duration": 22.203033,
     "end_time": "2020-01-27T23:42:15.341409",
     "exception": false,
     "start_time": "2020-01-27T23:41:53.138376",
     "status": "completed"
    },
    "tags": []
   },
   "outputs": [],
   "source": [
    "total_result = {}\n",
    "with ProcessPoolExecutor(cpu) as executor:\n",
    "    futures = {}\n",
    "    for motif, sub_df in motif_sig_judge.groupby(motif_sig_judge.index):\n",
    "        future = executor.submit(calculate_node_portion, sub_df)\n",
    "        futures[future] = motif\n",
    "        \n",
    "    for future in as_completed(futures):\n",
    "        result = future.result()\n",
    "        gene = futures[future]\n",
    "        total_result[gene] = result\n",
    "total_result = pd.DataFrame(total_result)"
   ]
  },
  {
   "cell_type": "code",
   "execution_count": 12,
   "metadata": {
    "ExecuteTime": {
     "end_time": "2020-02-26T05:52:51.028922Z",
     "start_time": "2020-02-26T05:52:50.730865Z"
    }
   },
   "outputs": [],
   "source": [
    "mask_cutoff = 0.1\n",
    "\n",
    "masked_result = total_result.copy()\n",
    "masked_result[masked_result.abs() < mask_cutoff] = 0"
   ]
  },
  {
   "cell_type": "code",
   "execution_count": 13,
   "metadata": {
    "ExecuteTime": {
     "end_time": "2020-02-26T05:52:51.306950Z",
     "start_time": "2020-02-26T05:52:51.031633Z"
    }
   },
   "outputs": [
    {
     "data": {
      "text/plain": [
       "508"
      ]
     },
     "execution_count": 13,
     "metadata": {},
     "output_type": "execute_result"
    }
   ],
   "source": [
    "# gene that assign to at least one node\n",
    "((masked_result != 0).sum(axis=0) != 0).sum()"
   ]
  },
  {
   "cell_type": "code",
   "execution_count": 14,
   "metadata": {
    "ExecuteTime": {
     "end_time": "2020-02-26T05:52:51.576981Z",
     "start_time": "2020-02-26T05:52:51.310256Z"
    }
   },
   "outputs": [
    {
     "data": {
      "text/plain": [
       "76"
      ]
     },
     "execution_count": 14,
     "metadata": {},
     "output_type": "execute_result"
    }
   ],
   "source": [
    "# node that has at least 5 genes\n",
    "((masked_result != 0).sum(axis=1) > 5).sum()"
   ]
  },
  {
   "cell_type": "code",
   "execution_count": 15,
   "metadata": {
    "ExecuteTime": {
     "end_time": "2020-02-26T05:52:51.934852Z",
     "start_time": "2020-02-26T05:52:51.579168Z"
    }
   },
   "outputs": [
    {
     "data": {
      "text/plain": [
       "MA0003.4    103\n",
       "MA0014.3    137\n",
       "MA0017.2    140\n",
       "MA0019.1     79\n",
       "MA0018.4     92\n",
       "           ... \n",
       "MA1650.1    110\n",
       "MA1653.1    117\n",
       "MA1656.1    122\n",
       "MA1683.1     84\n",
       "MA1655.1    103\n",
       "Length: 560, dtype: int64"
      ]
     },
     "execution_count": 15,
     "metadata": {},
     "output_type": "execute_result"
    }
   ],
   "source": [
    "masked_result.apply(lambda i: 0 if i.abs().max() == 0 else i.abs().idxmax(), axis=0)"
   ]
  },
  {
   "cell_type": "code",
   "execution_count": 16,
   "metadata": {
    "ExecuteTime": {
     "end_time": "2020-02-26T05:52:53.534329Z",
     "start_time": "2020-02-26T05:52:51.937007Z"
    },
    "papermill": {
     "duration": 2.461153,
     "end_time": "2020-01-27T23:42:17.809079",
     "exception": false,
     "start_time": "2020-01-27T23:42:15.347926",
     "status": "completed"
    },
    "scrolled": false,
    "tags": []
   },
   "outputs": [
    {
     "data": {
      "text/plain": [
       "<seaborn.matrix.ClusterGrid at 0x7f92da03f9e8>"
      ]
     },
     "execution_count": 16,
     "metadata": {},
     "output_type": "execute_result"
    },
    {
     "data": {
      "image/png": "[encoded data removed]",
      "text/plain": [
       "<Figure size 720x720 with 4 Axes>"
      ]
     },
     "metadata": {
      "needs_background": "light"
     },
     "output_type": "display_data"
    }
   ],
   "source": [
    "sns.clustermap(total_result, row_cluster=False, cmap='coolwarm')"
   ]
  },
  {
   "cell_type": "code",
   "execution_count": 17,
   "metadata": {
    "ExecuteTime": {
     "end_time": "2020-02-26T05:52:53.543764Z",
     "start_time": "2020-02-26T05:52:53.537445Z"
    },
    "papermill": {
     "duration": 0.022275,
     "end_time": "2020-01-27T23:42:17.839136",
     "exception": false,
     "start_time": "2020-01-27T23:42:17.816861",
     "status": "completed"
    },
    "tags": []
   },
   "outputs": [
    {
     "name": "stderr",
     "output_type": "stream",
     "text": [
      "/home/hanliu/miniconda3/envs/clustering/lib/python3.7/site-packages/ipykernel_launcher.py:1: FutureWarning: to_msgpack is deprecated and will be removed in a future version.\n",
      "It is recommended to use pyarrow for on-the-wire transmission of pandas objects.\n",
      "  \"\"\"Entry point for launching an IPython kernel.\n"
     ]
    }
   ],
   "source": [
    "total_result.to_msgpack('NodeMotifResults.msg')"
   ]
  },
  {
   "cell_type": "code",
   "execution_count": null,
   "metadata": {
    "papermill": {
     "duration": 0.006577,
     "end_time": "2020-01-27T23:42:17.852473",
     "exception": false,
     "start_time": "2020-01-27T23:42:17.845896",
     "status": "completed"
    },
    "scrolled": true,
    "tags": []
   },
   "outputs": [],
   "source": []
  },
  {
   "cell_type": "code",
   "execution_count": null,
   "metadata": {
    "papermill": {
     "duration": 0.006515,
     "end_time": "2020-01-27T23:42:17.865441",
     "exception": false,
     "start_time": "2020-01-27T23:42:17.858926",
     "status": "completed"
    },
    "tags": []
   },
   "outputs": [],
   "source": []
  },
  {
   "cell_type": "code",
   "execution_count": null,
   "metadata": {
    "papermill": {
     "duration": 0.006349,
     "end_time": "2020-01-27T23:42:17.878223",
     "exception": false,
     "start_time": "2020-01-27T23:42:17.871874",
     "status": "completed"
    },
    "tags": []
   },
   "outputs": [],
   "source": []
  }
 ],
 "metadata": {
  "hide_input": false,
  "kernelspec": {
   "display_name": "Python 3",
   "language": "python",
   "name": "python3"
  },
  "language_info": {
   "codemirror_mode": {
    "name": "ipython",
    "version": 3
   },
   "file_extension": ".py",
   "mimetype": "text/x-python",
   "name": "python",
   "nbconvert_exporter": "python",
   "pygments_lexer": "ipython3",
   "version": "3.7.3"
  },
  "papermill": {
   "duration": 27.14924,
   "end_time": "2020-01-27T23:42:18.391904",
   "environment_variables": {},
   "exception": null,
   "input_path": "3.AssignGeneToTree.ipynb",
   "output_path": "/home/hanliu/project/mouse_rostral_brain/study/AssignGeneToTree/ExcGeneToTree/3.AssignGeneToTree.ipynb",
   "parameters": {},
   "start_time": "2020-01-27T23:41:51.242664",
   "version": "1.0.1"
  },
  "toc": {
   "base_numbering": 1,
   "nav_menu": {},
   "number_sections": true,
   "sideBar": true,
   "skip_h1_title": true,
   "title_cell": "Table of Contents",
   "title_sidebar": "Contents",
   "toc_cell": false,
   "toc_position": {},
   "toc_section_display": true,
   "toc_window_display": true
  }
 },
 "nbformat": 4,
 "nbformat_minor": 2
}
