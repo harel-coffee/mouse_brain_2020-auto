{
 "cells": [
  {
   "cell_type": "code",
   "execution_count": 5,
   "metadata": {
    "ExecuteTime": {
     "end_time": "2019-12-17T20:12:50.726827Z",
     "start_time": "2019-12-17T20:12:50.645321Z"
    }
   },
   "outputs": [],
   "source": [
    "import pandas as pd\n",
    "import json\n",
    "import pybedtools\n",
    "import pathlib\n",
    "import subprocess\n",
    "import anndata"
   ]
  },
  {
   "cell_type": "code",
   "execution_count": 2,
   "metadata": {
    "ExecuteTime": {
     "end_time": "2019-12-17T20:12:42.673972Z",
     "start_time": "2019-12-17T20:12:42.302210Z"
    }
   },
   "outputs": [
    {
     "name": "stderr",
     "output_type": "stream",
     "text": [
      "/home/hanliu/miniconda3/envs/clustering/lib/python3.7/site-packages/IPython/core/interactiveshell.py:3326: FutureWarning: The read_msgpack is deprecated and will be removed in a future version.\n",
      "It is recommended to use pyarrow for on-the-wire transmission of pandas objects.\n",
      "  exec(code_obj, self.user_global_ns, self.user_ns)\n"
     ]
    }
   ],
   "source": [
    "cell_tidy_data = pd.read_msgpack(\n",
    "    '/home/hanliu/project/mouse_rostral_brain/study/ClusteringSummary/Summary/TotalClusteringResults.msg'\n",
    ")"
   ]
  },
  {
   "cell_type": "code",
   "execution_count": 3,
   "metadata": {
    "ExecuteTime": {
     "end_time": "2019-12-17T20:12:42.681190Z",
     "start_time": "2019-12-17T20:12:42.676348Z"
    }
   },
   "outputs": [],
   "source": [
    "with open(\n",
    "        '/home/hanliu/project/mouse_rostral_brain/metadata/label_transfer_between_modality/mC-RNA.CellClass.json'\n",
    ") as f:\n",
    "    cell_class_to_rna = json.load(f)\n",
    "\n",
    "with open(\n",
    "        '/home/hanliu/project/mouse_rostral_brain/metadata/label_transfer_between_modality/mC-RNA.MajorType.json'\n",
    ") as f:\n",
    "    major_type_to_rna = json.load(f)\n",
    "\n",
    "with open(\n",
    "        '/home/hanliu/project/mouse_rostral_brain/metadata/label_transfer_between_modality/mC-RNA.SubType.json'\n",
    ") as f:\n",
    "    sub_type_to_rna = json.load(f)"
   ]
  },
  {
   "cell_type": "code",
   "execution_count": 6,
   "metadata": {
    "ExecuteTime": {
     "end_time": "2019-12-17T20:13:03.268236Z",
     "start_time": "2019-12-17T20:12:52.587624Z"
    }
   },
   "outputs": [
    {
     "data": {
      "text/plain": [
       "AnnData object with n_obs × n_vars = 74967 × 45768 \n",
       "    obs: 'cluster_color', 'cluster_order', 'cluster_label', 'class_color', 'class_order', 'class_label', 'subclass_color', 'subclass_order', 'subclass_label', 'full_genotype_color', 'full_genotype_order', 'full_genotype_label', 'donor_sex_color', 'donor_sex_order', 'donor_sex_label', 'region_color', 'region_order', 'region_label', 'cortical_layer_color', 'cortical_layer_order', 'cortical_layer_label', 'cell_type_accession_color', 'cell_type_accession_order', 'cell_type_accession_label', 'cell_type_alias_color', 'cell_type_alias_order', 'cell_type_alias_label', 'cell_type_alt_alias_color', 'cell_type_alt_alias_order', 'cell_type_alt_alias_label', 'cell_type_designation_color', 'cell_type_designation_order', 'cell_type_designation_label', 'external_donor_name_color', 'external_donor_name_order', 'external_donor_name_label', 'facs_population_plan_color', 'facs_population_plan_order', 'facs_population_plan_label', 'injection_materials_color', 'injection_materials_order', 'injection_materials_label', 'injection_method_color', 'injection_method_order', 'injection_method_label', 'injection_roi_color', 'injection_roi_order', 'injection_roi_label', 'propagation_type_color', 'propagation_type_order', 'propagation_type_label', 'subregion_color', 'subregion_order', 'subregion_label', 'tsne_0', 'tsne_1', 'CellClass', 'MajorType', 'SubType', 'Region'\n",
       "    var: 'gene_entrez_id', 'gene_id', 'chromosome', 'gene_name', 'EnsemblID'"
      ]
     },
     "execution_count": 6,
     "metadata": {},
     "output_type": "execute_result"
    }
   ],
   "source": [
    "rna_raw_adata = anndata.read_h5ad('/home/hanliu/project/allen/mouse_scrna/dataset/Cortex_HPF.74967.no_outlier.exon+intron.h5ad')\n",
    "rna_raw_adata\n"
   ]
  },
  {
   "cell_type": "code",
   "execution_count": 7,
   "metadata": {
    "ExecuteTime": {
     "end_time": "2019-12-17T20:13:13.262739Z",
     "start_time": "2019-12-17T20:13:03.270396Z"
    }
   },
   "outputs": [
    {
     "name": "stderr",
     "output_type": "stream",
     "text": [
      "/home/hanliu/miniconda3/envs/clustering/lib/python3.7/site-packages/ipykernel_launcher.py:15: FutureWarning: to_msgpack is deprecated and will be removed in a future version.\n",
      "It is recommended to use pyarrow for on-the-wire transmission of pandas objects.\n",
      "  from ipykernel import kernelapp as app\n"
     ]
    }
   ],
   "source": [
    "level = 'CellClass'\n",
    "\n",
    "data = {}\n",
    "for cluster, rna_cluster_list in cell_class_to_rna.items():\n",
    "    if len(rna_cluster_list) == 0:\n",
    "        continue\n",
    "        \n",
    "    selected_adata = rna_raw_adata[rna_raw_adata.obs['SubType'].isin(rna_cluster_list), :]\n",
    "    cluster_gene_sum = selected_adata.X.sum(axis=0)\n",
    "    total_milion_reads = cluster_gene_sum.sum() / 1000000\n",
    "    cpm = cluster_gene_sum / total_milion_reads\n",
    "    data[cluster] = cpm.A1\n",
    "    \n",
    "cluster_cpm = pd.DataFrame(data, index=rna_raw_adata.var_names)\n",
    "cluster_cpm.to_msgpack(f'{level}.CPM.msg')"
   ]
  },
  {
   "cell_type": "code",
   "execution_count": 8,
   "metadata": {
    "ExecuteTime": {
     "end_time": "2019-12-17T20:14:02.118411Z",
     "start_time": "2019-12-17T20:13:13.264291Z"
    },
    "scrolled": true
   },
   "outputs": [
    {
     "name": "stdout",
     "output_type": "stream",
     "text": [
      "ANP\n",
      "ASC\n",
      "CA1\n",
      "CA3\n",
      "CA3-St18\n",
      "CGE-Lamp5\n",
      "CGE-Vip\n",
      "CLA\n",
      "CT-L6\n",
      "Chd7\n",
      "D1L-Fstl4\n",
      "D1L-PAL\n",
      "DG\n",
      "DG-po\n",
      "EC\n",
      "EP\n",
      "Foxp2\n",
      "Gfra1\n",
      "IG-CA2\n",
      "IT-L23\n",
      "IT-L4\n",
      "IT-L5\n",
      "IT-L6\n",
      "L6b\n",
      "LSX-Inh\n",
      "MGC\n",
      "MGE-Pvalb\n",
      "MGE-Sst\n",
      "MSN-D1\n",
      "MSN-D2\n",
      "NP-L6\n",
      "ODC\n",
      "OLF\n",
      "OLF-Exc\n",
      "OPC\n",
      "PAL-Inh\n",
      "PC\n",
      "PT-L5\n",
      "Unc5c\n",
      "VLMC\n",
      "VLMC-Pia\n"
     ]
    },
    {
     "name": "stderr",
     "output_type": "stream",
     "text": [
      "/home/hanliu/miniconda3/envs/clustering/lib/python3.7/site-packages/ipykernel_launcher.py:16: FutureWarning: to_msgpack is deprecated and will be removed in a future version.\n",
      "It is recommended to use pyarrow for on-the-wire transmission of pandas objects.\n",
      "  app.launch_new_instance()\n"
     ]
    }
   ],
   "source": [
    "level = 'MajorType'\n",
    "\n",
    "data = {}\n",
    "for cluster, rna_cluster_list in major_type_to_rna.items():\n",
    "    print(cluster)\n",
    "    if len(rna_cluster_list) == 0:\n",
    "        continue\n",
    "        \n",
    "    selected_adata = rna_raw_adata[rna_raw_adata.obs['SubType'].isin(rna_cluster_list), :]\n",
    "    cluster_gene_sum = selected_adata.X.sum(axis=0)\n",
    "    total_milion_reads = cluster_gene_sum.sum() / 1000000\n",
    "    cpm = cluster_gene_sum / total_milion_reads\n",
    "    data[cluster] = cpm.A1\n",
    "    \n",
    "cluster_cpm = pd.DataFrame(data, index=rna_raw_adata.var_names)\n",
    "cluster_cpm.to_msgpack(f'{level}.CPM.msg')"
   ]
  },
  {
   "cell_type": "code",
   "execution_count": 9,
   "metadata": {
    "ExecuteTime": {
     "end_time": "2019-12-17T20:16:49.356124Z",
     "start_time": "2019-12-17T20:14:02.119736Z"
    },
    "scrolled": true
   },
   "outputs": [
    {
     "name": "stdout",
     "output_type": "stream",
     "text": [
      "ANP anp-dg\n",
      "ANP anp-olf-cnu\n",
      "ASC cortex-olf\n",
      "ASC mid\n",
      "ASC str-hpf\n",
      "CA1 Ak5\n",
      "CA1 Chrm3\n",
      "CA1 Kif26a\n",
      "CA1 Lingo2\n",
      "CA1 Ptprg\n",
      "CA3 Cadm2\n",
      "CA3 Efnb2\n",
      "CA3-St18 Epha5\n",
      "CA3-St18 Nuak1\n",
      "CA3-St18 Tead1\n",
      "CGE-Lamp5 Dock5\n",
      "CGE-Lamp5 Grid1\n",
      "CGE-Lamp5 Grk5\n",
      "CGE-Lamp5 Nrxn3\n",
      "CGE-Lamp5 Sorcs1\n",
      "CGE-Vip Ccser1\n",
      "CGE-Vip Clstn2\n",
      "CGE-Vip Fstl4\n",
      "CGE-Vip Galnt17\n",
      "CGE-Vip Grm8\n",
      "CGE-Vip Ntng1\n",
      "CGE-Vip Ptprm\n",
      "CGE-Vip Robo1\n",
      "CLA Bcl11a\n",
      "CLA Cdh8\n",
      "CLA Nrp2\n",
      "CT-L6 Hcrtr2\n",
      "CT-L6 Il1rap\n",
      "CT-L6 Map4\n",
      "CT-L6 Megf9\n",
      "Chd7 Kcnc2\n",
      "Chd7 Megf11\n",
      "Chd7 Trpc7\n",
      "D1L-Fstl4 Cadm1\n",
      "D1L-Fstl4 Crim1\n",
      "D1L-Fstl4 Grm3\n",
      "D1L-Fstl4 Sipa1l2\n",
      "D1L-Fstl4 Trps1\n",
      "D1L-PAL Flrt2\n",
      "D1L-PAL Plcxd3\n",
      "DG dg-all\n",
      "DG-po Bcl11a\n",
      "DG-po Calb2\n",
      "DG-po Kctd8\n",
      "EC Abhd2\n",
      "EC Sema3g\n",
      "EP Adcy8\n",
      "EP Rgs8\n",
      "EP Tspan5\n",
      "Foxp2 Dchs2\n",
      "Foxp2 Homer2\n",
      "Foxp2 Inpp4b\n",
      "Foxp2 Trpc7\n",
      "Gfra1 Gfra1\n",
      "IG-CA2 Chrm3\n",
      "IG-CA2 Peak1\n",
      "IG-CA2 Xpr1\n",
      "IT-L23 Cux1\n",
      "IT-L23 Foxp1\n",
      "IT-L23 Ptprt\n",
      "IT-L23 Tenm2\n",
      "IT-L4 Astn2\n",
      "IT-L4 Shc3\n",
      "IT-L5 Cdh8\n",
      "IT-L5 Etv1\n",
      "IT-L5 Grik3\n",
      "IT-L6 Cadps2\n",
      "IT-L6 Fstl4\n",
      "IT-L6 Man1c1\n",
      "IT-L6 Oxr1\n",
      "L6b Adcy8\n",
      "L6b Kcnk2\n",
      "L6b Nrp2\n",
      "L6b Pkhd1\n",
      "LSX-Inh Cacna1i\n",
      "LSX-Inh Dock10\n",
      "LSX-Inh Enox1\n",
      "LSX-Inh Foxp2\n",
      "LSX-Inh Lats2\n",
      "LSX-Inh Nxph1\n",
      "LSX-Inh Zeb2\n",
      "MGC mgc-all\n",
      "MGE-Pvalb Cacna1i\n",
      "MGE-Pvalb Cnih3\n",
      "MGE-Pvalb Entpd3\n",
      "MGE-Pvalb Gfra2\n",
      "MGE-Pvalb Ptprk\n",
      "MGE-Pvalb Sema5a\n",
      "MGE-Pvalb Thsd7a\n",
      "MGE-Sst Bmper\n",
      "MGE-Sst Chodl\n",
      "MGE-Sst Dock4\n",
      "MGE-Sst Etv1\n",
      "MGE-Sst Frmd6\n",
      "MGE-Sst Kcnip4\n",
      "MGE-Sst Ptpre\n",
      "MGE-Sst Rerg\n",
      "MGE-Sst Rxra\n",
      "MGE-Sst Ubtd1\n",
      "MGE-Sst Unc5b\n",
      "MSN-D1 Hrh1\n",
      "MSN-D1 Khdrbs3\n",
      "MSN-D1 Ntn1\n",
      "MSN-D1 Plxnc1\n",
      "MSN-D2 Casz1\n",
      "MSN-D2 Col14a1\n",
      "MSN-D2 Nrp2\n",
      "MSN-D2 Slc24a2\n",
      "NP-L6 Boc\n",
      "NP-L6 Cntnap4\n",
      "NP-L6 Cntnap5a\n",
      "NP-L6 Cyp7b1\n",
      "NP-L6 Kcnab1\n",
      "NP-L6 Olfml2b\n",
      "ODC odc-large\n",
      "ODC odc-small\n",
      "OLF Gabbr2\n",
      "OLF Kcnd3\n",
      "OLF Mapk10\n",
      "OLF Pag1\n",
      "OLF Trpc4\n",
      "OLF Xkr6\n",
      "OLF-Exc Bmpr1b\n",
      "OLF-Exc Cdh9\n",
      "OLF-Exc Cux2\n",
      "OLF-Exc Lrrtm3\n",
      "OLF-Exc Pld5\n",
      "OLF-Exc Rmst\n",
      "OLF-Exc Sgcd\n",
      "OLF-Exc Unc13c\n",
      "OPC opc-large\n",
      "OPC opc-small\n",
      "PAL-Inh Chat\n",
      "PAL-Inh Deptor\n",
      "PAL-Inh Igdcc3\n",
      "PAL-Inh Meis1\n",
      "PAL-Inh Meis2\n",
      "PAL-Inh Onecut2\n",
      "PAL-Inh Ptprd\n",
      "PAL-Inh Rarb\n",
      "PAL-Inh Tcf7l2\n",
      "PAL-Inh Tmem178\n",
      "PC pc-all\n",
      "PT-L5 Abca12\n",
      "PT-L5 Astn2\n",
      "PT-L5 Kcnh1\n",
      "PT-L5 Nectin1\n",
      "PT-L5 Plcb4\n",
      "PT-L5 Ptprt\n",
      "PT-L5 Tenm2\n",
      "PT-L5 Tmtc2\n",
      "PT-L5 Unc5b\n",
      "Unc5c Unc5c\n",
      "VLMC Col4a1\n",
      "VLMC Mapk4\n",
      "VLMC-Pia vlmc-pia-all\n"
     ]
    },
    {
     "name": "stderr",
     "output_type": "stream",
     "text": [
      "/home/hanliu/miniconda3/envs/clustering/lib/python3.7/site-packages/ipykernel_launcher.py:16: FutureWarning: to_msgpack is deprecated and will be removed in a future version.\n",
      "It is recommended to use pyarrow for on-the-wire transmission of pandas objects.\n",
      "  app.launch_new_instance()\n"
     ]
    }
   ],
   "source": [
    "level = 'SubType'\n",
    "\n",
    "data = {}\n",
    "for cluster, rna_cluster_list in sub_type_to_rna.items():\n",
    "    print(cluster)\n",
    "    if len(rna_cluster_list) == 0:\n",
    "        continue\n",
    "        \n",
    "    selected_adata = rna_raw_adata[rna_raw_adata.obs['SubType'].isin(rna_cluster_list), :]\n",
    "    cluster_gene_sum = selected_adata.X.sum(axis=0)\n",
    "    total_milion_reads = cluster_gene_sum.sum() / 1000000\n",
    "    cpm = cluster_gene_sum / total_milion_reads\n",
    "    data[cluster] = cpm.A1\n",
    "    \n",
    "cluster_cpm = pd.DataFrame(data, index=rna_raw_adata.var_names)\n",
    "cluster_cpm.to_msgpack(f'{level}.CPM.msg')"
   ]
  },
  {
   "cell_type": "code",
   "execution_count": null,
   "metadata": {},
   "outputs": [],
   "source": []
  },
  {
   "cell_type": "code",
   "execution_count": null,
   "metadata": {},
   "outputs": [],
   "source": []
  },
  {
   "cell_type": "code",
   "execution_count": null,
   "metadata": {},
   "outputs": [],
   "source": []
  }
 ],
 "metadata": {
  "hide_input": false,
  "kernelspec": {
   "display_name": "Python 3",
   "language": "python",
   "name": "python3"
  },
  "language_info": {
   "codemirror_mode": {
    "name": "ipython",
    "version": 3
   },
   "file_extension": ".py",
   "mimetype": "text/x-python",
   "name": "python",
   "nbconvert_exporter": "python",
   "pygments_lexer": "ipython3",
   "version": "3.7.3"
  },
  "toc": {
   "base_numbering": 1,
   "nav_menu": {},
   "number_sections": true,
   "sideBar": true,
   "skip_h1_title": true,
   "title_cell": "Table of Contents",
   "title_sidebar": "Contents",
   "toc_cell": false,
   "toc_position": {},
   "toc_section_display": true,
   "toc_window_display": true
  }
 },
 "nbformat": 4,
 "nbformat_minor": 2
}
