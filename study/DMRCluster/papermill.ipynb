{
 "cells": [
  {
   "cell_type": "code",
   "execution_count": 1,
   "metadata": {
    "ExecuteTime": {
     "end_time": "2020-02-01T05:12:50.907454Z",
     "start_time": "2020-02-01T05:12:50.434703Z"
    }
   },
   "outputs": [],
   "source": [
    "import pathlib\n",
    "import pandas as pd\n",
    "from papermill import execute_notebook"
   ]
  },
  {
   "cell_type": "code",
   "execution_count": 2,
   "metadata": {
    "ExecuteTime": {
     "end_time": "2020-02-01T05:12:51.389026Z",
     "start_time": "2020-02-01T05:12:50.909318Z"
    }
   },
   "outputs": [
    {
     "name": "stderr",
     "output_type": "stream",
     "text": [
      "/home/hanliu/miniconda3/envs/clustering/lib/python3.7/site-packages/IPython/core/interactiveshell.py:3326: FutureWarning: The read_msgpack is deprecated and will be removed in a future version.\n",
      "It is recommended to use pyarrow for on-the-wire transmission of pandas objects.\n",
      "  exec(code_obj, self.user_global_ns, self.user_ns)\n"
     ]
    }
   ],
   "source": [
    "total_dmg = pd.read_msgpack(\n",
    "    '/home/hanliu/project/mouse_rostral_brain/study/ClusterMethylMarker/TotalPairwiseMarker.msg'\n",
    ")"
   ]
  },
  {
   "cell_type": "code",
   "execution_count": 3,
   "metadata": {
    "ExecuteTime": {
     "end_time": "2020-02-01T05:12:51.504101Z",
     "start_time": "2020-02-01T05:12:51.390550Z"
    }
   },
   "outputs": [],
   "source": [
    "pair_counts = total_dmg['gene_id'].value_counts()\n",
    "calc_genes = pair_counts[pair_counts > 20].index"
   ]
  },
  {
   "cell_type": "code",
   "execution_count": 4,
   "metadata": {
    "ExecuteTime": {
     "end_time": "2020-02-01T05:12:51.721210Z",
     "start_time": "2020-02-01T05:12:51.505661Z"
    }
   },
   "outputs": [],
   "source": [
    "gene_meta = pd.read_csv(\n",
    "    '/home/hanliu/ref/mouse/gencode/vm22/gencode.vM22.annotation.gene.flat.tsv.gz',\n",
    "    sep='\\t', index_col='gene_id'\n",
    ")\n",
    "use_gene_meta = gene_meta.loc[calc_genes].copy()"
   ]
  },
  {
   "cell_type": "code",
   "execution_count": 5,
   "metadata": {
    "ExecuteTime": {
     "end_time": "2020-02-01T05:12:51.725296Z",
     "start_time": "2020-02-01T05:12:51.722737Z"
    }
   },
   "outputs": [],
   "source": [
    "output_dir = 'DMRCluster'\n",
    "pathlib.Path(output_dir).mkdir(exist_ok=True)"
   ]
  },
  {
   "cell_type": "code",
   "execution_count": 7,
   "metadata": {
    "ExecuteTime": {
     "end_time": "2020-02-01T05:18:37.867020Z",
     "start_time": "2020-02-01T05:18:37.314450Z"
    }
   },
   "outputs": [
    {
     "name": "stdout",
     "output_type": "stream",
     "text": [
      "chr1 660\n",
      "chr10 381\n",
      "chr11 429\n",
      "chr12 338\n",
      "chr13 402\n",
      "chr14 349\n",
      "chr15 308\n",
      "chr16 266\n",
      "chr17 332\n",
      "chr18 226\n",
      "chr19 209\n",
      "chr2 590\n",
      "chr3 425\n",
      "chr4 506\n",
      "chr5 608\n",
      "chr6 474\n",
      "chr7 542\n",
      "chr8 410\n",
      "chr9 527\n",
      "chrX 137\n"
     ]
    }
   ],
   "source": [
    "for chrom, gene_df in use_gene_meta.groupby('chrom'):\n",
    "    parameters = dict(chrom=chrom,\n",
    "                      genes=list(gene_df.index),\n",
    "                      slop=250000,\n",
    "                      n_pc=10,\n",
    "                      resolution=1)\n",
    "    print(chrom, gene_df.shape[0])\n",
    "\n",
    "    input_path = 'DMRClustering_batch_per_chrom.ipynb'\n",
    "    output_path = f'{output_dir}/DMRClustering_batch_per_chrom.{chrom}.ipynb'\n",
    "    execute_notebook(input_path,\n",
    "                     output_path,\n",
    "                     parameters=parameters,\n",
    "                     engine_name=None,\n",
    "                     prepare_only=True,\n",
    "                     kernel_name=None,\n",
    "                     progress_bar=True,\n",
    "                     log_output=False,\n",
    "                     start_timeout=60,\n",
    "                     report_mode=False,\n",
    "                     cwd=None)"
   ]
  },
  {
   "cell_type": "code",
   "execution_count": 8,
   "metadata": {
    "ExecuteTime": {
     "end_time": "2020-02-01T05:27:30.024028Z",
     "start_time": "2020-02-01T05:27:30.015470Z"
    }
   },
   "outputs": [
    {
     "data": {
      "text/plain": [
       "8119"
      ]
     },
     "execution_count": 8,
     "metadata": {},
     "output_type": "execute_result"
    }
   ],
   "source": [
    "use_gene_meta.shape[0]"
   ]
  },
  {
   "cell_type": "code",
   "execution_count": null,
   "metadata": {},
   "outputs": [],
   "source": []
  },
  {
   "cell_type": "code",
   "execution_count": null,
   "metadata": {},
   "outputs": [],
   "source": []
  },
  {
   "cell_type": "code",
   "execution_count": null,
   "metadata": {},
   "outputs": [],
   "source": []
  },
  {
   "cell_type": "code",
   "execution_count": null,
   "metadata": {},
   "outputs": [],
   "source": []
  },
  {
   "cell_type": "code",
   "execution_count": null,
   "metadata": {},
   "outputs": [],
   "source": []
  }
 ],
 "metadata": {
  "hide_input": false,
  "kernelspec": {
   "display_name": "Python 3",
   "language": "python",
   "name": "python3"
  },
  "language_info": {
   "codemirror_mode": {
    "name": "ipython",
    "version": 3
   },
   "file_extension": ".py",
   "mimetype": "text/x-python",
   "name": "python",
   "nbconvert_exporter": "python",
   "pygments_lexer": "ipython3",
   "version": "3.7.3"
  },
  "toc": {
   "base_numbering": 1,
   "nav_menu": {},
   "number_sections": true,
   "sideBar": true,
   "skip_h1_title": true,
   "title_cell": "Table of Contents",
   "title_sidebar": "Contents",
   "toc_cell": false,
   "toc_position": {},
   "toc_section_display": true,
   "toc_window_display": true
  }
 },
 "nbformat": 4,
 "nbformat_minor": 2
}
