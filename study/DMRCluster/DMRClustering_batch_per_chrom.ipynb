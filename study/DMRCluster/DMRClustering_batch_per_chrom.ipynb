{
 "cells": [
  {
   "cell_type": "code",
   "execution_count": 1,
   "metadata": {
    "ExecuteTime": {
     "end_time": "2020-02-01T04:47:27.695638Z",
     "start_time": "2020-02-01T04:47:25.790563Z"
    }
   },
   "outputs": [],
   "source": [
    "import pandas as pd\n",
    "import numpy as np\n",
    "import anndata\n",
    "import scanpy as sc\n",
    "import seaborn as sns\n",
    "import matplotlib.pyplot as plt\n",
    "from matplotlib.patches import Rectangle\n",
    "from sklearn.decomposition import PCA\n",
    "from sklearn.cluster import KMeans\n",
    "import warnings\n",
    "import pathlib\n",
    "\n",
    "warnings.filterwarnings('ignore')"
   ]
  },
  {
   "cell_type": "code",
   "execution_count": 2,
   "metadata": {
    "ExecuteTime": {
     "end_time": "2020-02-01T04:47:27.701480Z",
     "start_time": "2020-02-01T04:47:27.697635Z"
    }
   },
   "outputs": [],
   "source": [
    "from matplotlib import rc\n",
    "labelsize = 6\n",
    "linewidth = 0.6\n",
    "rc('lines', linewidth=linewidth)\n",
    "rc('axes', labelsize=labelsize, linewidth=linewidth)\n",
    "rc('xtick', labelsize=labelsize)\n",
    "rc('ytick', labelsize=labelsize)\n",
    "rc('xtick.major', width=linewidth)\n",
    "rc('ytick.major', width=linewidth)\n",
    "rc('xtick.minor', width=linewidth - 0.2)\n",
    "rc('ytick.minor', width=linewidth - 0.2)"
   ]
  },
  {
   "cell_type": "code",
   "execution_count": 4,
   "metadata": {
    "ExecuteTime": {
     "end_time": "2020-02-01T04:08:56.003758Z",
     "start_time": "2020-02-01T04:08:56.001677Z"
    },
    "tags": [
     "parameters"
    ]
   },
   "outputs": [],
   "source": [
    "chrom = 'chr2'\n",
    "genes = ['Lhx6']\n",
    "slop = 250000\n",
    "n_pc = 10\n",
    "resolution = 1"
   ]
  },
  {
   "cell_type": "code",
   "execution_count": 5,
   "metadata": {
    "ExecuteTime": {
     "end_time": "2020-02-01T04:10:09.727728Z",
     "start_time": "2020-02-01T04:10:09.700301Z"
    }
   },
   "outputs": [],
   "source": [
    "output_dir = pathlib.Path(chrom)\n",
    "output_dir.mkdir(exist_ok=True)"
   ]
  },
  {
   "cell_type": "markdown",
   "metadata": {},
   "source": [
    "## Cell Meta"
   ]
  },
  {
   "cell_type": "code",
   "execution_count": 6,
   "metadata": {
    "ExecuteTime": {
     "end_time": "2020-02-01T04:10:13.577114Z",
     "start_time": "2020-02-01T04:10:13.126418Z"
    }
   },
   "outputs": [
    {
     "data": {
      "text/plain": [
       "145"
      ]
     },
     "execution_count": 6,
     "metadata": {},
     "output_type": "execute_result"
    }
   ],
   "source": [
    "cell_tidy_data = pd.read_msgpack(\n",
    "    '/home/hanliu/project/mouse_rostral_brain/study/ClusteringSummary/Summary/TotalClusteringResults.msg'\n",
    ")\n",
    "use_clusters = [\n",
    "    i.replace(' ', '_') for i in cell_tidy_data[cell_tidy_data['CellClass'].isin(['Exc', 'Inh'])]\n",
    "    ['SubType'].unique() if 'Outlier' not in i\n",
    "]\n",
    "len(use_clusters)"
   ]
  },
  {
   "cell_type": "markdown",
   "metadata": {},
   "source": [
    "## ATAC peaks"
   ]
  },
  {
   "cell_type": "code",
   "execution_count": null,
   "metadata": {},
   "outputs": [],
   "source": [
    "atac_peak = pd.read_msgpack('/home/hanliu/project/mouse_rostral_brain/study/DMRCluster/SubType.ATAC_peak_merged.msg')\n",
    "atac_peak = atac_peak.loc[atac_peak.index.map(lambda i: i.startswith(f'Sub{chrom}_'))].copy()"
   ]
  },
  {
   "cell_type": "markdown",
   "metadata": {},
   "source": [
    "## Gene Info"
   ]
  },
  {
   "cell_type": "code",
   "execution_count": 8,
   "metadata": {
    "ExecuteTime": {
     "end_time": "2020-02-01T04:10:24.086583Z",
     "start_time": "2020-02-01T04:10:23.864946Z"
    }
   },
   "outputs": [],
   "source": [
    "gene_meta = pd.read_csv(\n",
    "    '/home/hanliu/ref/mouse/gencode/vm22/gencode.vM22.annotation.gene.flat.tsv.gz',\n",
    "    index_col='gene_id', sep='\\t'\n",
    ")\n",
    "gene_meta = gene_meta[gene_meta['chrom'] == chrom].copy()"
   ]
  },
  {
   "cell_type": "code",
   "execution_count": 9,
   "metadata": {
    "ExecuteTime": {
     "end_time": "2020-02-01T04:10:24.503235Z",
     "start_time": "2020-02-01T04:10:24.088319Z"
    }
   },
   "outputs": [],
   "source": [
    "exon_bed = pd.read_csv('/home/hanliu/ref/mouse/gencode/vm22/genome_anno/exon.all.bed',\n",
    "                       header=None, sep='\\t')\n",
    "exon_bed.columns = ['chrom', 'start', 'end', 'gene_id', 'gene_name']"
   ]
  },
  {
   "cell_type": "markdown",
   "metadata": {
    "ExecuteTime": {
     "end_time": "2020-01-30T20:50:32.972616Z",
     "start_time": "2020-01-30T20:50:26.232994Z"
    }
   },
   "source": [
    "## DMR Info"
   ]
  },
  {
   "cell_type": "code",
   "execution_count": 10,
   "metadata": {
    "ExecuteTime": {
     "end_time": "2020-02-01T04:11:15.251407Z",
     "start_time": "2020-02-01T04:10:24.504873Z"
    }
   },
   "outputs": [],
   "source": [
    "with pd.HDFStore('/home/hanliu/project/mouse_rostral_brain/DMR/SubType/Total/DMRInfo.h5', 'r') as hdf:\n",
    "    dmr_rate = hdf['Rate']\n",
    "dmr_rate = dmr_rate.loc[dmr_rate.index.map(lambda i: i.startswith(f'Sub{chrom}_'))].copy()\n",
    "\n",
    "dmr_corr = pd.read_msgpack(\n",
    "    '/home/hanliu/project/mouse_rostral_brain/study/DMRGeneCorr/TotalGeneDMRCorrLoop.0.3.msg'\n",
    ")\n",
    "dmr_corr = dmr_corr.set_index(['DMR', 'Gene'])\n",
    "dmr_corr = dmr_corr.loc[dmr_corr.index.get_level_values('DMR').isin(dmr_rate.index)].copy()\n",
    "\n",
    "dmr_bed = pd.read_csv('/home/hanliu/project/mouse_rostral_brain/DMR/SubType/Total/TotalDMR.nofilter.bed',\n",
    "                      sep='\\t', header=None, index_col=3)\n",
    "dmr_bed.columns = ['chrom', 'start', 'end']\n",
    "dmr_bed = dmr_bed[dmr_bed['chrom'] == chrom].copy()\n",
    "\n",
    "dmr_hits = anndata.read_h5ad('/home/hanliu/project/mouse_rostral_brain/DMR/SubType/Total/TotalHits.HypoDMR.h5ad')\n",
    "dmr_hits = dmr_hits[dmr_rate.index, :].copy()\n",
    "dmr_hits = dmr_hits[:, use_clusters].copy()\n",
    "\n",
    "dmr_annot = anndata.read_h5ad('/home/hanliu/project/mouse_rostral_brain/DMR/SubType/Total/DMRAnnotation.h5ad')\n",
    "dmr_annot = dmr_annot[dmr_rate.index, :].copy()"
   ]
  },
  {
   "cell_type": "code",
   "execution_count": 11,
   "metadata": {
    "ExecuteTime": {
     "end_time": "2020-02-01T04:11:15.257495Z",
     "start_time": "2020-02-01T04:11:15.253285Z"
    }
   },
   "outputs": [
    {
     "data": {
      "text/plain": [
       "356755"
      ]
     },
     "execution_count": 11,
     "metadata": {},
     "output_type": "execute_result"
    }
   ],
   "source": [
    "dmr_hits.shape[0]"
   ]
  },
  {
   "cell_type": "code",
   "execution_count": 12,
   "metadata": {
    "ExecuteTime": {
     "end_time": "2020-02-01T04:11:15.261710Z",
     "start_time": "2020-02-01T04:11:15.258732Z"
    }
   },
   "outputs": [],
   "source": [
    "def get_gene(gene_id):\n",
    "    _gene = gene_meta.loc[gene_id]\n",
    "    return _gene.name, _gene['chrom'], _gene['start'], _gene['end'], _gene['strand']"
   ]
  },
  {
   "cell_type": "markdown",
   "metadata": {},
   "source": [
    "## Gene's DMR clustering"
   ]
  },
  {
   "cell_type": "code",
   "execution_count": 61,
   "metadata": {
    "ExecuteTime": {
     "end_time": "2020-02-01T04:33:13.034712Z",
     "start_time": "2020-02-01T04:33:13.011588Z"
    },
    "scrolled": true
   },
   "outputs": [],
   "source": [
    "def calculate_gene(gene_id):\n",
    "    # get gene information\n",
    "    gene_id, _, gene_start, gene_end, _ = get_gene(gene_id)\n",
    "\n",
    "    # select related DMRs\n",
    "    related_dmr = dmr_bed[(dmr_bed['start'] > gene_start - slop) &\n",
    "                          (dmr_bed['end'] < gene_end + slop)].copy()\n",
    "    \n",
    "    related_dmr_rate = dmr_rate.loc[related_dmr.index, use_clusters].copy()\n",
    "    related_dmr_rate.fillna(related_dmr_rate.mean(), axis=0, inplace=True)\n",
    "    \n",
    "    # construct Adata\n",
    "    adata = anndata.AnnData(X=related_dmr_rate.values.copy(),\n",
    "                            obs=pd.DataFrame([], related_dmr_rate.index),\n",
    "                            var=pd.DataFrame([], related_dmr_rate.columns))\n",
    "    sc.pp.scale(adata)\n",
    "    sc.pp.pca(adata)\n",
    "    \n",
    "    pcs = adata.obsm['X_pca'][:, :n_pc]\n",
    "    sc.pp.neighbors(adata, n_neighbors=int(round(np.log2(adata.shape[0]))), n_pcs=n_pc)\n",
    "    sc.tl.leiden(adata, resolution=resolution)\n",
    "    return adata.obs\n",
    "\n",
    "\n",
    "def get_annotation(gene_id):\n",
    "    gene_id, _, gene_start, gene_end, strand = get_gene(gene_id)\n",
    "    tss = gene_start if strand == '+' else gene_end\n",
    "    gene_cluster = calculate_gene(gene_id)\n",
    "    this_corr = dmr_corr[dmr_corr.index.get_level_values('Gene') == gene_id]['Corr']\n",
    "    this_corr.index = this_corr.index.droplevel('Gene')\n",
    "    gene_cluster['Corr'] = gene_cluster.index.map(this_corr).fillna(0)\n",
    "    \n",
    "    this_dmr_bed = dmr_bed.loc[gene_cluster.index]\n",
    "    dmr_center = (this_dmr_bed['end'] + this_dmr_bed['start']) / 2\n",
    "    gene_length = gene_end - gene_start\n",
    "    if strand == '+':\n",
    "        gene_cluster['reldist_tss'] = (dmr_center - gene_start) / gene_length\n",
    "    else:\n",
    "        gene_cluster['reldist_tss'] = (gene_end - dmr_center) / gene_length\n",
    "    gene_cluster['in_gene_body'] = (gene_cluster['reldist_tss'] > 0) & (gene_cluster['reldist_tss'] < 1)\n",
    "    \n",
    "    this_annot = dmr_annot[gene_cluster.index]\n",
    "    annot_df = pd.DataFrame(this_annot.X.todense(), \n",
    "                 index=this_annot.obs_names, columns=this_annot.var_names)\n",
    "    \n",
    "    # annotate TE cols\n",
    "    dna_te = annot_df.columns[20:33]\n",
    "    gene_cluster['is_dna_te'] = annot_df[dna_te].sum(axis=1) != 0\n",
    "    \n",
    "    line_te = annot_df.columns[33:39]\n",
    "    gene_cluster['is_line_te'] = annot_df[line_te].sum(axis=1) != 0\n",
    "    \n",
    "    ltr_te = annot_df.columns[39:45]\n",
    "    gene_cluster['is_ltr_te'] = annot_df[ltr_te].sum(axis=1) != 0\n",
    "    \n",
    "    sine_te = annot_df.columns[45:52]\n",
    "    gene_cluster['is_sine_te'] = annot_df[sine_te].sum(axis=1) != 0\n",
    "    \n",
    "    # this dmr within GOI's gene feature\n",
    "    gene_cluster['in_intron'] = annot_df['intron'].astype(bool) & gene_cluster['in_gene_body']\n",
    "    gene_cluster['in_exon'] = annot_df['exon'].astype(bool) & gene_cluster['in_gene_body']\n",
    "    gene_cluster['in_utr3'] = annot_df['UTR3'].astype(bool) & gene_cluster['in_gene_body']\n",
    "    gene_cluster['in_utr5'] = annot_df['UTR5'].astype(bool) & gene_cluster['in_gene_body']\n",
    "    \n",
    "    # previous mC study\n",
    "    gene_cluster['feDMR'] = annot_df['feDMR'].astype(bool)\n",
    "    gene_cluster['adultDMR'] = annot_df['adultDMR'].astype(bool)\n",
    "    \n",
    "    \n",
    "    other_profiles = []\n",
    "    # DMR hypo call in each cluster\n",
    "    this_hypo_hits = dmr_hits[gene_cluster.index]\n",
    "    hits_df = pd.DataFrame(this_hypo_hits.X.todense(), \n",
    "                 index=this_hypo_hits.obs_names, columns=this_hypo_hits.var_names)\n",
    "    hits_df.columns = hits_df.columns.map(lambda i: f'HypoDMR.{i}')\n",
    "    other_profiles.append(hits_df)\n",
    "    \n",
    "    # DMR rate\n",
    "    related_dmr_rate = dmr_rate.loc[gene_cluster['leiden'].sort_values().index, use_clusters].copy()\n",
    "    related_dmr_rate.fillna(related_dmr_rate.mean(), axis=0, inplace=True)\n",
    "    related_dmr_rate.columns = related_dmr_rate.columns.map(lambda i: f'DMRRate.{i}')\n",
    "    other_profiles.append(related_dmr_rate)\n",
    "    \n",
    "    # atac peak\n",
    "    atac_peak_df = atac_peak.loc[related_dmr_rate.index, use_clusters].copy()\n",
    "    other_profiles.append(atac_peak_df)\n",
    "    atac_peak_df.columns = atac_peak_df.columns.map(lambda i: f'ATACPeak.{i}')\n",
    "    \n",
    "    dmr_annotation = pd.concat([gene_cluster] + other_profiles, axis=1, sort=True)\n",
    "    return dmr_annotation"
   ]
  },
  {
   "cell_type": "code",
   "execution_count": 85,
   "metadata": {
    "ExecuteTime": {
     "end_time": "2020-02-01T04:45:32.785180Z",
     "start_time": "2020-02-01T04:45:31.153381Z"
    }
   },
   "outputs": [],
   "source": [
    "for gene in genes:\n",
    "    print(gene)\n",
    "    check_path = output_dir / f'{gene}.DMR_cluster.msg'\n",
    "    if check_path.exists():\n",
    "        continue\n",
    "    \n",
    "    dmr_annotation = get_annotation(gene)\n",
    "    dmr_annotation.to_msgpack(output_dir / f'{gene}.DMR_detail.msg', compress='zlib')\n",
    "    \n",
    "    cluster_annotation = dmr_annotation.groupby('leiden').mean()\n",
    "    cluster_annotation.to_msgpack(output_dir / f'{gene}.DMR_cluster.msg', compress='zlib')"
   ]
  },
  {
   "cell_type": "code",
   "execution_count": null,
   "metadata": {
    "scrolled": false
   },
   "outputs": [],
   "source": []
  },
  {
   "cell_type": "code",
   "execution_count": null,
   "metadata": {
    "scrolled": true
   },
   "outputs": [],
   "source": []
  },
  {
   "cell_type": "code",
   "execution_count": null,
   "metadata": {},
   "outputs": [],
   "source": []
  },
  {
   "cell_type": "code",
   "execution_count": null,
   "metadata": {},
   "outputs": [],
   "source": []
  },
  {
   "cell_type": "code",
   "execution_count": null,
   "metadata": {},
   "outputs": [],
   "source": []
  },
  {
   "cell_type": "code",
   "execution_count": null,
   "metadata": {},
   "outputs": [],
   "source": []
  },
  {
   "cell_type": "code",
   "execution_count": null,
   "metadata": {},
   "outputs": [],
   "source": []
  },
  {
   "cell_type": "code",
   "execution_count": null,
   "metadata": {},
   "outputs": [],
   "source": []
  },
  {
   "cell_type": "code",
   "execution_count": null,
   "metadata": {},
   "outputs": [],
   "source": []
  },
  {
   "cell_type": "code",
   "execution_count": null,
   "metadata": {},
   "outputs": [],
   "source": []
  },
  {
   "cell_type": "code",
   "execution_count": null,
   "metadata": {},
   "outputs": [],
   "source": []
  },
  {
   "cell_type": "code",
   "execution_count": null,
   "metadata": {},
   "outputs": [],
   "source": []
  },
  {
   "cell_type": "code",
   "execution_count": null,
   "metadata": {},
   "outputs": [],
   "source": []
  },
  {
   "cell_type": "code",
   "execution_count": null,
   "metadata": {},
   "outputs": [],
   "source": []
  },
  {
   "cell_type": "code",
   "execution_count": null,
   "metadata": {},
   "outputs": [],
   "source": []
  },
  {
   "cell_type": "code",
   "execution_count": null,
   "metadata": {},
   "outputs": [],
   "source": []
  },
  {
   "cell_type": "code",
   "execution_count": null,
   "metadata": {},
   "outputs": [],
   "source": []
  }
 ],
 "metadata": {
  "hide_input": false,
  "kernelspec": {
   "display_name": "Python 3",
   "language": "python",
   "name": "python3"
  },
  "language_info": {
   "codemirror_mode": {
    "name": "ipython",
    "version": 3
   },
   "file_extension": ".py",
   "mimetype": "text/x-python",
   "name": "python",
   "nbconvert_exporter": "python",
   "pygments_lexer": "ipython3",
   "version": "3.7.3"
  },
  "toc": {
   "base_numbering": 1,
   "nav_menu": {},
   "number_sections": true,
   "sideBar": true,
   "skip_h1_title": true,
   "title_cell": "Table of Contents",
   "title_sidebar": "Contents",
   "toc_cell": false,
   "toc_position": {},
   "toc_section_display": true,
   "toc_window_display": true
  }
 },
 "nbformat": 4,
 "nbformat_minor": 2
}
