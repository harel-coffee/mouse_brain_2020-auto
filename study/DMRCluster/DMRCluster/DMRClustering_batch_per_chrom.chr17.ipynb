{
 "cells": [
  {
   "cell_type": "code",
   "execution_count": 1,
   "metadata": {
    "ExecuteTime": {
     "end_time": "2020-02-01T05:22:23.325196Z",
     "start_time": "2020-02-01T05:22:19.110087Z"
    },
    "papermill": {},
    "tags": []
   },
   "outputs": [],
   "source": [
    "import pandas as pd\n",
    "import numpy as np\n",
    "import anndata\n",
    "import scanpy as sc\n",
    "import seaborn as sns\n",
    "import matplotlib.pyplot as plt\n",
    "from matplotlib.patches import Rectangle\n",
    "from sklearn.decomposition import PCA\n",
    "from sklearn.cluster import KMeans\n",
    "import warnings\n",
    "import pathlib\n",
    "\n",
    "warnings.filterwarnings('ignore')"
   ]
  },
  {
   "cell_type": "code",
   "execution_count": 2,
   "metadata": {
    "ExecuteTime": {
     "end_time": "2020-02-01T05:22:23.352488Z",
     "start_time": "2020-02-01T05:22:23.338359Z"
    },
    "papermill": {},
    "tags": []
   },
   "outputs": [],
   "source": [
    "from matplotlib import rc\n",
    "labelsize = 6\n",
    "linewidth = 0.6\n",
    "rc('lines', linewidth=linewidth)\n",
    "rc('axes', labelsize=labelsize, linewidth=linewidth)\n",
    "rc('xtick', labelsize=labelsize)\n",
    "rc('ytick', labelsize=labelsize)\n",
    "rc('xtick.major', width=linewidth)\n",
    "rc('ytick.major', width=linewidth)\n",
    "rc('xtick.minor', width=linewidth - 0.2)\n",
    "rc('ytick.minor', width=linewidth - 0.2)"
   ]
  },
  {
   "cell_type": "code",
   "execution_count": 3,
   "metadata": {
    "ExecuteTime": {
     "end_time": "2020-02-01T05:22:23.365224Z",
     "start_time": "2020-02-01T05:22:23.356560Z"
    },
    "papermill": {},
    "tags": [
     "parameters"
    ]
   },
   "outputs": [],
   "source": [
    "chrom = 'chr2'\n",
    "genes = ['Lhx6']\n",
    "slop = 250000\n",
    "n_pc = 10\n",
    "resolution = 1"
   ]
  },
  {
   "cell_type": "code",
   "execution_count": 4,
   "metadata": {
    "ExecuteTime": {
     "end_time": "2020-02-01T05:22:23.438024Z",
     "start_time": "2020-02-01T05:22:23.368781Z"
    },
    "tags": [
     "injected-parameters"
    ]
   },
   "outputs": [],
   "source": [
    "# Parameters\n",
    "chrom = \"chr17\"\n",
    "genes = [\"ENSMUSG00000024219.16\", \"ENSMUSG00000062202.14\", \"ENSMUSG00000039512.12\", \"ENSMUSG00000058392.13\", \"ENSMUSG00000000708.14\", \"ENSMUSG00000024172.10\", \"ENSMUSG00000024109.18\", \"ENSMUSG00000023927.15\", \"ENSMUSG00000023886.10\", \"ENSMUSG00000054640.15\", \"ENSMUSG00000014763.8\", \"ENSMUSG00000034265.8\", \"ENSMUSG00000024064.14\", \"ENSMUSG00000024143.15\", \"ENSMUSG00000040490.4\", \"ENSMUSG00000116718.1\", \"ENSMUSG00000039601.16\", \"ENSMUSG00000052105.17\", \"ENSMUSG00000014426.9\", \"ENSMUSG00000023868.17\", \"ENSMUSG00000024245.4\", \"ENSMUSG00000062078.15\", \"ENSMUSG00000024112.16\", \"ENSMUSG00000041119.12\", \"ENSMUSG00000003279.17\", \"ENSMUSG00000042256.5\", \"ENSMUSG00000063239.17\", \"ENSMUSG00000002076.12\", \"ENSMUSG00000050138.8\", \"ENSMUSG00000044477.12\", \"ENSMUSG00000024074.8\", \"ENSMUSG00000043557.16\", \"ENSMUSG00000055471.7\", \"ENSMUSG00000024145.6\", \"ENSMUSG00000037104.9\", \"ENSMUSG00000024044.18\", \"ENSMUSG00000036533.9\", \"ENSMUSG00000024008.16\", \"ENSMUSG00000024242.15\", \"ENSMUSG00000024222.17\", \"ENSMUSG00000117118.1\", \"ENSMUSG00000056515.9\", \"ENSMUSG00000117023.1\", \"ENSMUSG00000039153.17\", \"ENSMUSG00000023830.14\", \"ENSMUSG00000034413.14\", \"ENSMUSG00000023915.5\", \"ENSMUSG00000037196.6\", \"ENSMUSG00000002250.16\", \"ENSMUSG00000056121.16\", \"ENSMUSG00000023999.14\", \"ENSMUSG00000117254.1\", \"ENSMUSG00000055817.18\", \"ENSMUSG00000063952.16\", \"ENSMUSG00000042203.8\", \"ENSMUSG00000118341.1\", \"ENSMUSG00000001870.16\", \"ENSMUSG00000069729.14\", \"ENSMUSG00000000127.15\", \"ENSMUSG00000045038.14\", \"ENSMUSG00000024107.7\", \"ENSMUSG00000023965.13\", \"ENSMUSG00000024059.10\", \"ENSMUSG00000043705.7\", \"ENSMUSG00000071984.10\", \"ENSMUSG00000046991.12\", \"ENSMUSG00000023805.17\", \"ENSMUSG00000036918.16\", \"ENSMUSG00000024042.7\", \"ENSMUSG00000116988.1\", \"ENSMUSG00000118081.1\", \"ENSMUSG00000024063.13\", \"ENSMUSG00000023972.10\", \"ENSMUSG00000041565.17\", \"ENSMUSG00000117628.1\", \"ENSMUSG00000103779.1\", \"ENSMUSG00000023963.10\", \"ENSMUSG00000097305.2\", \"ENSMUSG00000002279.19\", \"ENSMUSG00000035580.10\", \"ENSMUSG00000057899.6\", \"ENSMUSG00000064043.13\", \"ENSMUSG00000038954.14\", \"ENSMUSG00000032937.5\", \"ENSMUSG00000093460.9\", \"ENSMUSG00000039316.14\", \"ENSMUSG00000052712.17\", \"ENSMUSG00000023940.14\", \"ENSMUSG00000040852.6\", \"ENSMUSG00000023827.8\", \"ENSMUSG00000024085.13\", \"ENSMUSG00000023460.13\", \"ENSMUSG00000024146.9\", \"ENSMUSG00000041130.10\", \"ENSMUSG00000024299.17\", \"ENSMUSG00000024151.13\", \"ENSMUSG00000099329.2\", \"ENSMUSG00000061950.17\", \"ENSMUSG00000023923.10\", \"ENSMUSG00000032624.16\", \"ENSMUSG00000117161.1\", \"ENSMUSG00000117231.1\", \"ENSMUSG00000045761.16\", \"ENSMUSG00000117243.1\", \"ENSMUSG00000038048.8\", \"ENSMUSG00000047786.12\", \"ENSMUSG00000062036.9\", \"ENSMUSG00000116801.1\", \"ENSMUSG00000024120.12\", \"ENSMUSG00000102973.1\", \"ENSMUSG00000089900.2\", \"ENSMUSG00000100150.2\", \"ENSMUSG00000054469.14\", \"ENSMUSG00000023873.13\", \"ENSMUSG00000090069.2\", \"ENSMUSG00000097103.1\", \"ENSMUSG00000023943.7\", \"ENSMUSG00000024078.7\", \"ENSMUSG00000102212.1\", \"ENSMUSG00000023931.5\", \"ENSMUSG00000024043.13\", \"ENSMUSG00000085846.1\", \"ENSMUSG00000102744.1\", \"ENSMUSG00000024300.17\", \"ENSMUSG00000038545.13\", \"ENSMUSG00000117264.1\", \"ENSMUSG00000117328.1\", \"ENSMUSG00000117351.1\", \"ENSMUSG00000114492.1\", \"ENSMUSG00000097049.1\", \"ENSMUSG00000078247.4\", \"ENSMUSG00000103216.1\", \"ENSMUSG00000024002.18\", \"ENSMUSG00000117835.1\", \"ENSMUSG00000024135.10\", \"ENSMUSG00000033327.17\", \"ENSMUSG00000089941.1\", \"ENSMUSG00000024036.16\", \"ENSMUSG00000024030.7\", \"ENSMUSG00000041057.10\", \"ENSMUSG00000101606.1\", \"ENSMUSG00000117019.1\", \"ENSMUSG00000023828.3\", \"ENSMUSG00000024070.15\", \"ENSMUSG00000089633.2\", \"ENSMUSG00000038805.10\", \"ENSMUSG00000117210.1\", \"ENSMUSG00000024169.16\", \"ENSMUSG00000024049.15\", \"ENSMUSG00000024154.11\", \"ENSMUSG00000024019.18\", \"ENSMUSG00000002504.15\", \"ENSMUSG00000117093.1\", \"ENSMUSG00000036983.7\", \"ENSMUSG00000034998.18\", \"ENSMUSG00000024246.9\", \"ENSMUSG00000117191.1\", \"ENSMUSG00000048027.9\", \"ENSMUSG00000056492.6\", \"ENSMUSG00000024066.9\", \"ENSMUSG00000023994.13\", \"ENSMUSG00000024457.16\", \"ENSMUSG00000024168.8\", \"ENSMUSG00000071042.12\", \"ENSMUSG00000097282.1\", \"ENSMUSG00000057246.16\", \"ENSMUSG00000043592.15\", \"ENSMUSG00000117647.1\", \"ENSMUSG00000024140.10\", \"ENSMUSG00000114291.1\", \"ENSMUSG00000117102.1\", \"ENSMUSG00000117026.1\", \"ENSMUSG00000045053.2\", \"ENSMUSG00000033826.10\", \"ENSMUSG00000085492.7\", \"ENSMUSG00000023802.4\", \"ENSMUSG00000035435.17\", \"ENSMUSG00000117100.1\", \"ENSMUSG00000052525.14\", \"ENSMUSG00000024084.8\", \"ENSMUSG00000117635.1\", \"ENSMUSG00000117511.1\", \"ENSMUSG00000061126.5\", \"ENSMUSG00000015127.14\", \"ENSMUSG00000117175.1\", \"ENSMUSG00000090168.1\", \"ENSMUSG00000034165.16\", \"ENSMUSG00000024018.18\", \"ENSMUSG00000024076.10\", \"ENSMUSG00000016946.6\", \"ENSMUSG00000038146.8\", \"ENSMUSG00000095407.2\", \"ENSMUSG00000068037.11\", \"ENSMUSG00000043972.8\", \"ENSMUSG00000098775.1\", \"ENSMUSG00000114563.1\", \"ENSMUSG00000117786.1\", \"ENSMUSG00000023935.10\", \"ENSMUSG00000040260.8\", \"ENSMUSG00000098374.1\", \"ENSMUSG00000089755.1\", \"ENSMUSG00000061544.13\", \"ENSMUSG00000117222.1\", \"ENSMUSG00000091504.2\", \"ENSMUSG00000117084.1\", \"ENSMUSG00000101133.1\", \"ENSMUSG00000117501.1\", \"ENSMUSG00000095687.2\", \"ENSMUSG00000024174.9\", \"ENSMUSG00000014773.13\", \"ENSMUSG00000024247.14\", \"ENSMUSG00000116644.1\", \"ENSMUSG00000038002.9\", \"ENSMUSG00000002791.17\", \"ENSMUSG00000023926.8\", \"ENSMUSG00000003534.17\", \"ENSMUSG00000004945.15\", \"ENSMUSG00000023885.9\", \"ENSMUSG00000023949.7\", \"ENSMUSG00000045036.15\", \"ENSMUSG00000091636.2\", \"ENSMUSG00000038347.15\", \"ENSMUSG00000117110.1\", \"ENSMUSG00000117065.1\", \"ENSMUSG00000024227.14\", \"ENSMUSG00000023918.12\", \"ENSMUSG00000116813.1\", \"ENSMUSG00000061665.7\", \"ENSMUSG00000024254.15\", \"ENSMUSG00000116858.1\", \"ENSMUSG00000097560.1\", \"ENSMUSG00000003546.10\", \"ENSMUSG00000117443.1\", \"ENSMUSG00000096975.1\", \"ENSMUSG00000089701.1\", \"ENSMUSG00000117333.1\", \"ENSMUSG00000117334.1\", \"ENSMUSG00000099332.1\", \"ENSMUSG00000096847.2\", \"ENSMUSG00000025433.7\", \"ENSMUSG00000023959.9\", \"ENSMUSG00000117444.1\", \"ENSMUSG00000116655.1\", \"ENSMUSG00000024253.9\", \"ENSMUSG00000024105.3\", \"ENSMUSG00000048826.7\", \"ENSMUSG00000023122.6\", \"ENSMUSG00000023930.14\", \"ENSMUSG00000024056.10\", \"ENSMUSG00000090083.11\", \"ENSMUSG00000090700.2\", \"ENSMUSG00000034709.8\", \"ENSMUSG00000033855.15\", \"ENSMUSG00000013236.17\", \"ENSMUSG00000058704.9\", \"ENSMUSG00000117124.1\", \"ENSMUSG00000117130.1\", \"ENSMUSG00000024054.14\", \"ENSMUSG00000118232.1\", \"ENSMUSG00000093686.1\", \"ENSMUSG00000089849.1\", \"ENSMUSG00000117033.1\", \"ENSMUSG00000117228.1\", \"ENSMUSG00000024175.2\", \"ENSMUSG00000036557.8\", \"ENSMUSG00000044375.8\", \"ENSMUSG00000054901.7\", \"ENSMUSG00000059811.13\", \"ENSMUSG00000003200.10\", \"ENSMUSG00000035473.10\", \"ENSMUSG00000117224.1\", \"ENSMUSG00000117233.1\", \"ENSMUSG00000024248.14\", \"ENSMUSG00000117393.1\", \"ENSMUSG00000024027.8\", \"ENSMUSG00000024091.9\", \"ENSMUSG00000098090.8\", \"ENSMUSG00000032915.6\", \"ENSMUSG00000024155.8\", \"ENSMUSG00000023945.7\", \"ENSMUSG00000043740.15\", \"ENSMUSG00000117417.1\", \"ENSMUSG00000117263.1\", \"ENSMUSG00000024213.14\", \"ENSMUSG00000023991.16\", \"ENSMUSG00000117227.1\", \"ENSMUSG00000025431.4\", \"ENSMUSG00000037246.6\", \"ENSMUSG00000092368.1\", \"ENSMUSG00000003199.16\", \"ENSMUSG00000024052.17\", \"ENSMUSG00000117338.1\", \"ENSMUSG00000023953.9\", \"ENSMUSG00000001576.15\", \"ENSMUSG00000015575.15\", \"ENSMUSG00000095377.2\", \"ENSMUSG00000117539.1\", \"ENSMUSG00000024077.15\", \"ENSMUSG00000117314.1\", \"ENSMUSG00000112121.1\", \"ENSMUSG00000054134.14\", \"ENSMUSG00000117569.1\", \"ENSMUSG00000024206.15\", \"ENSMUSG00000041293.5\", \"ENSMUSG00000073424.9\", \"ENSMUSG00000095961.2\", \"ENSMUSG00000092618.2\", \"ENSMUSG00000090556.5\", \"ENSMUSG00000024065.8\", \"ENSMUSG00000091475.3\", \"ENSMUSG00000024150.12\", \"ENSMUSG00000043286.12\", \"ENSMUSG00000093508.1\", \"ENSMUSG00000024462.17\", \"ENSMUSG00000116984.1\", \"ENSMUSG00000100402.1\", \"ENSMUSG00000037130.4\", \"ENSMUSG00000100847.1\", \"ENSMUSG00000085705.1\", \"ENSMUSG00000058435.6\", \"ENSMUSG00000090655.2\", \"ENSMUSG00000117433.1\", \"ENSMUSG00000024165.9\", \"ENSMUSG00000073420.10\", \"ENSMUSG00000024163.17\", \"ENSMUSG00000089222.1\", \"ENSMUSG00000116670.1\", \"ENSMUSG00000116851.1\", \"ENSMUSG00000096477.2\", \"ENSMUSG00000024176.10\", \"ENSMUSG00000092549.1\", \"ENSMUSG00000117301.1\"]\n",
    "slop = 250000\n",
    "n_pc = 10\n",
    "resolution = 1\n"
   ]
  },
  {
   "cell_type": "code",
   "execution_count": 5,
   "metadata": {
    "ExecuteTime": {
     "end_time": "2020-02-01T05:22:23.442671Z",
     "start_time": "2020-02-01T05:22:23.440259Z"
    },
    "papermill": {},
    "tags": []
   },
   "outputs": [],
   "source": [
    "output_dir = pathlib.Path(chrom)\n",
    "output_dir.mkdir(exist_ok=True)"
   ]
  },
  {
   "cell_type": "markdown",
   "metadata": {
    "papermill": {},
    "tags": []
   },
   "source": [
    "## Cell Meta"
   ]
  },
  {
   "cell_type": "code",
   "execution_count": 6,
   "metadata": {
    "ExecuteTime": {
     "end_time": "2020-02-01T05:22:24.084031Z",
     "start_time": "2020-02-01T05:22:23.444121Z"
    },
    "papermill": {},
    "tags": []
   },
   "outputs": [
    {
     "data": {
      "text/plain": [
       "145"
      ]
     },
     "execution_count": 6,
     "metadata": {},
     "output_type": "execute_result"
    }
   ],
   "source": [
    "cell_tidy_data = pd.read_msgpack(\n",
    "    '/home/hanliu/project/mouse_rostral_brain/study/ClusteringSummary/Summary/TotalClusteringResults.msg'\n",
    ")\n",
    "use_clusters = [\n",
    "    i.replace(' ', '_') for i in cell_tidy_data[cell_tidy_data['CellClass'].isin(['Exc', 'Inh'])]\n",
    "    ['SubType'].unique() if 'Outlier' not in i\n",
    "]\n",
    "len(use_clusters)"
   ]
  },
  {
   "cell_type": "markdown",
   "metadata": {
    "papermill": {},
    "tags": []
   },
   "source": [
    "## ATAC peaks"
   ]
  },
  {
   "cell_type": "code",
   "execution_count": 7,
   "metadata": {
    "ExecuteTime": {
     "end_time": "2020-02-01T05:22:39.541330Z",
     "start_time": "2020-02-01T05:22:24.087234Z"
    },
    "papermill": {},
    "tags": []
   },
   "outputs": [],
   "source": [
    "atac_peak = pd.read_msgpack('/home/hanliu/project/mouse_rostral_brain/study/DMRCluster/SubType.ATAC_peak_merged.msg')\n",
    "atac_peak = atac_peak.loc[atac_peak.index.map(lambda i: i.startswith(f'Sub{chrom}_'))].copy()"
   ]
  },
  {
   "cell_type": "markdown",
   "metadata": {
    "papermill": {},
    "tags": []
   },
   "source": [
    "## Gene Info"
   ]
  },
  {
   "cell_type": "code",
   "execution_count": 8,
   "metadata": {
    "ExecuteTime": {
     "end_time": "2020-02-01T05:22:40.046990Z",
     "start_time": "2020-02-01T05:22:39.551174Z"
    },
    "papermill": {},
    "tags": []
   },
   "outputs": [],
   "source": [
    "gene_meta = pd.read_csv(\n",
    "    '/home/hanliu/ref/mouse/gencode/vm22/gencode.vM22.annotation.gene.flat.tsv.gz',\n",
    "    index_col='gene_id', sep='\\t'\n",
    ")\n",
    "gene_meta = gene_meta[gene_meta['chrom'] == chrom].copy()"
   ]
  },
  {
   "cell_type": "code",
   "execution_count": 9,
   "metadata": {
    "ExecuteTime": {
     "end_time": "2020-02-01T05:22:40.953213Z",
     "start_time": "2020-02-01T05:22:40.051567Z"
    },
    "papermill": {},
    "tags": []
   },
   "outputs": [],
   "source": [
    "exon_bed = pd.read_csv('/home/hanliu/ref/mouse/gencode/vm22/genome_anno/exon.all.bed',\n",
    "                       header=None, sep='\\t')\n",
    "exon_bed.columns = ['chrom', 'start', 'end', 'gene_id', 'gene_name']"
   ]
  },
  {
   "cell_type": "markdown",
   "metadata": {
    "ExecuteTime": {
     "end_time": "2020-01-30T20:50:32.972616Z",
     "start_time": "2020-01-30T20:50:26.232994Z"
    },
    "papermill": {},
    "tags": []
   },
   "source": [
    "## DMR Info"
   ]
  },
  {
   "cell_type": "code",
   "execution_count": 10,
   "metadata": {
    "ExecuteTime": {
     "end_time": "2020-02-01T05:24:37.701044Z",
     "start_time": "2020-02-01T05:22:40.954905Z"
    },
    "papermill": {},
    "tags": []
   },
   "outputs": [],
   "source": [
    "with pd.HDFStore('/home/hanliu/project/mouse_rostral_brain/DMR/SubType/Total/DMRInfo.h5', 'r') as hdf:\n",
    "    dmr_rate = hdf['Rate']\n",
    "dmr_rate = dmr_rate.loc[dmr_rate.index.map(lambda i: i.startswith(f'Sub{chrom}_'))].copy()\n",
    "\n",
    "dmr_corr = pd.read_msgpack(\n",
    "    '/home/hanliu/project/mouse_rostral_brain/study/DMRGeneCorr/TotalGeneDMRCorrLoop.0.3.msg'\n",
    ")\n",
    "dmr_corr = dmr_corr.set_index(['DMR', 'Gene'])\n",
    "dmr_corr = dmr_corr.loc[dmr_corr.index.get_level_values('DMR').isin(dmr_rate.index)].copy()\n",
    "\n",
    "dmr_bed = pd.read_csv('/home/hanliu/project/mouse_rostral_brain/DMR/SubType/Total/TotalDMR.nofilter.bed',\n",
    "                      sep='\\t', header=None, index_col=3)\n",
    "dmr_bed.columns = ['chrom', 'start', 'end']\n",
    "dmr_bed = dmr_bed[dmr_bed['chrom'] == chrom].copy()\n",
    "\n",
    "dmr_hits = anndata.read_h5ad('/home/hanliu/project/mouse_rostral_brain/DMR/SubType/Total/TotalHits.HypoDMR.h5ad')\n",
    "dmr_hits = dmr_hits[dmr_rate.index, :].copy()\n",
    "dmr_hits = dmr_hits[:, use_clusters].copy()\n",
    "\n",
    "dmr_annot = anndata.read_h5ad('/home/hanliu/project/mouse_rostral_brain/DMR/SubType/Total/DMRAnnotation.h5ad')\n",
    "dmr_annot = dmr_annot[dmr_rate.index, :].copy()"
   ]
  },
  {
   "cell_type": "code",
   "execution_count": 11,
   "metadata": {
    "ExecuteTime": {
     "end_time": "2020-02-01T05:24:37.729274Z",
     "start_time": "2020-02-01T05:24:37.708703Z"
    },
    "papermill": {},
    "tags": []
   },
   "outputs": [
    {
     "data": {
      "text/plain": [
       "179626"
      ]
     },
     "execution_count": 11,
     "metadata": {},
     "output_type": "execute_result"
    }
   ],
   "source": [
    "dmr_hits.shape[0]"
   ]
  },
  {
   "cell_type": "code",
   "execution_count": 12,
   "metadata": {
    "ExecuteTime": {
     "end_time": "2020-02-01T05:24:37.750742Z",
     "start_time": "2020-02-01T05:24:37.734120Z"
    },
    "papermill": {},
    "tags": []
   },
   "outputs": [],
   "source": [
    "def get_gene(gene_id):\n",
    "    _gene = gene_meta.loc[gene_id]\n",
    "    return _gene.name, _gene['chrom'], _gene['start'], _gene['end'], _gene['strand']"
   ]
  },
  {
   "cell_type": "markdown",
   "metadata": {
    "papermill": {},
    "tags": []
   },
   "source": [
    "## Gene's DMR clustering"
   ]
  },
  {
   "cell_type": "code",
   "execution_count": 13,
   "metadata": {
    "ExecuteTime": {
     "end_time": "2020-02-01T05:24:38.604898Z",
     "start_time": "2020-02-01T05:24:37.756003Z"
    },
    "papermill": {},
    "scrolled": true,
    "tags": []
   },
   "outputs": [],
   "source": [
    "def calculate_gene(gene_id):\n",
    "    # get gene information\n",
    "    gene_id, _, gene_start, gene_end, _ = get_gene(gene_id)\n",
    "\n",
    "    # select related DMRs\n",
    "    related_dmr = dmr_bed[(dmr_bed['start'] > gene_start - slop) &\n",
    "                          (dmr_bed['end'] < gene_end + slop)].copy()\n",
    "    \n",
    "    related_dmr_rate = dmr_rate.loc[related_dmr.index, use_clusters].copy()\n",
    "    related_dmr_rate.fillna(related_dmr_rate.mean(), axis=0, inplace=True)\n",
    "    \n",
    "    # construct Adata\n",
    "    adata = anndata.AnnData(X=related_dmr_rate.values.copy(),\n",
    "                            obs=pd.DataFrame([], related_dmr_rate.index),\n",
    "                            var=pd.DataFrame([], related_dmr_rate.columns))\n",
    "    sc.pp.scale(adata)\n",
    "    sc.pp.pca(adata)\n",
    "    \n",
    "    pcs = adata.obsm['X_pca'][:, :n_pc]\n",
    "    sc.pp.neighbors(adata, n_neighbors=int(round(np.log2(adata.shape[0]))), n_pcs=n_pc)\n",
    "    sc.tl.leiden(adata, resolution=resolution)\n",
    "    return adata.obs\n",
    "\n",
    "\n",
    "def get_annotation(gene_id):\n",
    "    gene_id, _, gene_start, gene_end, strand = get_gene(gene_id)\n",
    "    tss = gene_start if strand == '+' else gene_end\n",
    "    gene_cluster = calculate_gene(gene_id)\n",
    "    this_corr = dmr_corr[dmr_corr.index.get_level_values('Gene') == gene_id]['Corr']\n",
    "    this_corr.index = this_corr.index.droplevel('Gene')\n",
    "    gene_cluster['Corr'] = gene_cluster.index.map(this_corr).fillna(0)\n",
    "    \n",
    "    this_dmr_bed = dmr_bed.loc[gene_cluster.index]\n",
    "    dmr_center = (this_dmr_bed['end'] + this_dmr_bed['start']) / 2\n",
    "    gene_length = gene_end - gene_start\n",
    "    if strand == '+':\n",
    "        gene_cluster['reldist_tss'] = (dmr_center - gene_start) / gene_length\n",
    "    else:\n",
    "        gene_cluster['reldist_tss'] = (gene_end - dmr_center) / gene_length\n",
    "    gene_cluster['in_gene_body'] = (gene_cluster['reldist_tss'] > 0) & (gene_cluster['reldist_tss'] < 1)\n",
    "    \n",
    "    this_annot = dmr_annot[gene_cluster.index]\n",
    "    annot_df = pd.DataFrame(this_annot.X.todense(), \n",
    "                 index=this_annot.obs_names, columns=this_annot.var_names)\n",
    "    \n",
    "    # annotate TE cols\n",
    "    dna_te = annot_df.columns[20:33]\n",
    "    gene_cluster['is_dna_te'] = annot_df[dna_te].sum(axis=1) != 0\n",
    "    \n",
    "    line_te = annot_df.columns[33:39]\n",
    "    gene_cluster['is_line_te'] = annot_df[line_te].sum(axis=1) != 0\n",
    "    \n",
    "    ltr_te = annot_df.columns[39:45]\n",
    "    gene_cluster['is_ltr_te'] = annot_df[ltr_te].sum(axis=1) != 0\n",
    "    \n",
    "    sine_te = annot_df.columns[45:52]\n",
    "    gene_cluster['is_sine_te'] = annot_df[sine_te].sum(axis=1) != 0\n",
    "    \n",
    "    # this dmr within GOI's gene feature\n",
    "    gene_cluster['in_intron'] = annot_df['intron'].astype(bool) & gene_cluster['in_gene_body']\n",
    "    gene_cluster['in_exon'] = annot_df['exon'].astype(bool) & gene_cluster['in_gene_body']\n",
    "    gene_cluster['in_utr3'] = annot_df['UTR3'].astype(bool) & gene_cluster['in_gene_body']\n",
    "    gene_cluster['in_utr5'] = annot_df['UTR5'].astype(bool) & gene_cluster['in_gene_body']\n",
    "    \n",
    "    # previous mC study\n",
    "    gene_cluster['feDMR'] = annot_df['feDMR'].astype(bool)\n",
    "    gene_cluster['adultDMR'] = annot_df['adultDMR'].astype(bool)\n",
    "    \n",
    "    \n",
    "    other_profiles = []\n",
    "    # DMR hypo call in each cluster\n",
    "    this_hypo_hits = dmr_hits[gene_cluster.index]\n",
    "    hits_df = pd.DataFrame(this_hypo_hits.X.todense(), \n",
    "                 index=this_hypo_hits.obs_names, columns=this_hypo_hits.var_names)\n",
    "    hits_df.columns = hits_df.columns.map(lambda i: f'HypoDMR.{i}')\n",
    "    other_profiles.append(hits_df)\n",
    "    \n",
    "    # DMR rate\n",
    "    related_dmr_rate = dmr_rate.loc[gene_cluster['leiden'].sort_values().index, use_clusters].copy()\n",
    "    related_dmr_rate.fillna(related_dmr_rate.mean(), axis=0, inplace=True)\n",
    "    related_dmr_rate.columns = related_dmr_rate.columns.map(lambda i: f'DMRRate.{i}')\n",
    "    other_profiles.append(related_dmr_rate)\n",
    "    \n",
    "    # atac peak\n",
    "    atac_peak_df = atac_peak.loc[related_dmr_rate.index, use_clusters].copy()\n",
    "    other_profiles.append(atac_peak_df)\n",
    "    atac_peak_df.columns = atac_peak_df.columns.map(lambda i: f'ATACPeak.{i}')\n",
    "    \n",
    "    dmr_annotation = pd.concat([gene_cluster] + other_profiles, axis=1, sort=True)\n",
    "    return dmr_annotation"
   ]
  },
  {
   "cell_type": "code",
   "execution_count": null,
   "metadata": {
    "ExecuteTime": {
     "start_time": "2020-02-01T05:45:10.915Z"
    },
    "papermill": {},
    "tags": []
   },
   "outputs": [
    {
     "name": "stdout",
     "output_type": "stream",
     "text": [
      "ENSMUSG00000024219.16\n",
      "ENSMUSG00000062202.14\n",
      "ENSMUSG00000039512.12\n",
      "ENSMUSG00000058392.13\n",
      "ENSMUSG00000000708.14\n",
      "ENSMUSG00000024172.10\n",
      "ENSMUSG00000024109.18\n",
      "ENSMUSG00000023927.15\n",
      "ENSMUSG00000023886.10\n",
      "ENSMUSG00000054640.15\n",
      "ENSMUSG00000014763.8\n",
      "ENSMUSG00000034265.8\n",
      "ENSMUSG00000024064.14\n",
      "ENSMUSG00000024143.15\n",
      "ENSMUSG00000040490.4\n",
      "ENSMUSG00000116718.1\n",
      "ENSMUSG00000039601.16\n",
      "ENSMUSG00000052105.17\n",
      "ENSMUSG00000014426.9\n",
      "ENSMUSG00000023868.17\n",
      "ENSMUSG00000024245.4\n",
      "ENSMUSG00000062078.15\n",
      "ENSMUSG00000024112.16\n",
      "ENSMUSG00000041119.12\n",
      "ENSMUSG00000003279.17\n",
      "ENSMUSG00000042256.5\n",
      "ENSMUSG00000063239.17\n",
      "ENSMUSG00000002076.12\n",
      "ENSMUSG00000050138.8\n",
      "ENSMUSG00000044477.12\n",
      "ENSMUSG00000024074.8\n",
      "ENSMUSG00000043557.16\n",
      "ENSMUSG00000055471.7\n",
      "ENSMUSG00000024145.6\n",
      "ENSMUSG00000037104.9\n",
      "ENSMUSG00000024044.18\n",
      "ENSMUSG00000036533.9\n",
      "ENSMUSG00000024008.16\n",
      "ENSMUSG00000024242.15\n",
      "ENSMUSG00000024222.17\n",
      "ENSMUSG00000117118.1\n",
      "ENSMUSG00000056515.9\n",
      "ENSMUSG00000117023.1\n",
      "ENSMUSG00000039153.17\n",
      "ENSMUSG00000023830.14\n",
      "ENSMUSG00000034413.14\n",
      "ENSMUSG00000023915.5\n",
      "ENSMUSG00000037196.6\n",
      "ENSMUSG00000002250.16\n",
      "ENSMUSG00000056121.16\n",
      "ENSMUSG00000023999.14\n",
      "ENSMUSG00000117254.1\n",
      "ENSMUSG00000055817.18\n",
      "ENSMUSG00000063952.16\n",
      "ENSMUSG00000042203.8\n",
      "ENSMUSG00000118341.1\n",
      "ENSMUSG00000001870.16\n",
      "ENSMUSG00000069729.14\n",
      "ENSMUSG00000000127.15\n",
      "ENSMUSG00000045038.14\n",
      "ENSMUSG00000024107.7\n",
      "ENSMUSG00000023965.13\n",
      "ENSMUSG00000024059.10\n",
      "ENSMUSG00000043705.7\n",
      "ENSMUSG00000071984.10\n",
      "ENSMUSG00000046991.12\n",
      "ENSMUSG00000023805.17\n",
      "ENSMUSG00000036918.16\n",
      "ENSMUSG00000024042.7\n",
      "ENSMUSG00000116988.1\n",
      "ENSMUSG00000118081.1\n",
      "ENSMUSG00000024063.13\n",
      "ENSMUSG00000023972.10\n",
      "ENSMUSG00000041565.17\n",
      "ENSMUSG00000117628.1\n",
      "ENSMUSG00000103779.1\n",
      "ENSMUSG00000023963.10\n",
      "ENSMUSG00000097305.2\n",
      "ENSMUSG00000002279.19\n",
      "ENSMUSG00000035580.10\n",
      "ENSMUSG00000057899.6\n",
      "ENSMUSG00000064043.13\n",
      "ENSMUSG00000038954.14\n",
      "ENSMUSG00000032937.5\n",
      "ENSMUSG00000093460.9\n",
      "ENSMUSG00000039316.14\n",
      "ENSMUSG00000052712.17\n",
      "ENSMUSG00000023940.14\n",
      "ENSMUSG00000040852.6\n",
      "ENSMUSG00000023827.8\n",
      "ENSMUSG00000024085.13\n",
      "ENSMUSG00000023460.13\n",
      "ENSMUSG00000024146.9\n",
      "ENSMUSG00000041130.10\n",
      "ENSMUSG00000024299.17\n",
      "ENSMUSG00000024151.13\n",
      "ENSMUSG00000099329.2\n",
      "ENSMUSG00000061950.17\n",
      "ENSMUSG00000023923.10\n",
      "ENSMUSG00000032624.16\n",
      "ENSMUSG00000117161.1\n",
      "ENSMUSG00000117231.1\n",
      "ENSMUSG00000045761.16\n",
      "ENSMUSG00000117243.1\n",
      "ENSMUSG00000038048.8\n",
      "ENSMUSG00000047786.12\n",
      "ENSMUSG00000062036.9\n",
      "ENSMUSG00000116801.1\n",
      "ENSMUSG00000024120.12\n",
      "ENSMUSG00000102973.1\n",
      "ENSMUSG00000089900.2\n",
      "ENSMUSG00000100150.2\n",
      "ENSMUSG00000054469.14\n",
      "ENSMUSG00000023873.13\n",
      "ENSMUSG00000090069.2\n",
      "ENSMUSG00000097103.1\n",
      "ENSMUSG00000023943.7\n",
      "ENSMUSG00000024078.7\n",
      "ENSMUSG00000102212.1\n",
      "ENSMUSG00000023931.5\n",
      "ENSMUSG00000024043.13\n",
      "ENSMUSG00000085846.1\n",
      "ENSMUSG00000102744.1\n",
      "ENSMUSG00000024300.17\n",
      "ENSMUSG00000038545.13\n",
      "ENSMUSG00000117264.1\n",
      "ENSMUSG00000117328.1\n",
      "ENSMUSG00000117351.1\n",
      "ENSMUSG00000114492.1\n",
      "ENSMUSG00000097049.1\n",
      "ENSMUSG00000078247.4\n",
      "ENSMUSG00000103216.1\n",
      "ENSMUSG00000024002.18\n",
      "ENSMUSG00000117835.1\n",
      "ENSMUSG00000024135.10\n",
      "ENSMUSG00000033327.17\n",
      "ENSMUSG00000089941.1\n",
      "ENSMUSG00000024036.16\n",
      "ENSMUSG00000024030.7\n",
      "ENSMUSG00000041057.10\n",
      "ENSMUSG00000101606.1\n",
      "ENSMUSG00000117019.1\n",
      "ENSMUSG00000023828.3\n",
      "ENSMUSG00000024070.15\n",
      "ENSMUSG00000089633.2\n",
      "ENSMUSG00000038805.10\n",
      "ENSMUSG00000117210.1\n",
      "ENSMUSG00000024169.16\n",
      "ENSMUSG00000024049.15\n",
      "ENSMUSG00000024154.11\n",
      "ENSMUSG00000024019.18\n",
      "ENSMUSG00000002504.15\n",
      "ENSMUSG00000117093.1\n",
      "ENSMUSG00000036983.7\n",
      "ENSMUSG00000034998.18\n",
      "ENSMUSG00000024246.9\n",
      "ENSMUSG00000117191.1\n",
      "ENSMUSG00000048027.9\n",
      "ENSMUSG00000056492.6\n",
      "ENSMUSG00000024066.9\n",
      "ENSMUSG00000023994.13\n",
      "ENSMUSG00000024457.16\n",
      "ENSMUSG00000024168.8\n",
      "ENSMUSG00000071042.12\n",
      "ENSMUSG00000097282.1\n",
      "ENSMUSG00000057246.16\n",
      "ENSMUSG00000043592.15\n",
      "ENSMUSG00000117647.1\n",
      "ENSMUSG00000024140.10\n",
      "ENSMUSG00000114291.1\n",
      "ENSMUSG00000117102.1\n",
      "ENSMUSG00000117026.1\n",
      "ENSMUSG00000045053.2\n",
      "ENSMUSG00000033826.10\n",
      "ENSMUSG00000085492.7\n",
      "ENSMUSG00000023802.4\n",
      "ENSMUSG00000035435.17\n",
      "ENSMUSG00000117100.1\n",
      "ENSMUSG00000052525.14\n",
      "ENSMUSG00000024084.8\n",
      "ENSMUSG00000117635.1\n",
      "ENSMUSG00000117511.1\n",
      "ENSMUSG00000061126.5\n",
      "ENSMUSG00000015127.14\n",
      "ENSMUSG00000117175.1\n",
      "ENSMUSG00000090168.1\n",
      "ENSMUSG00000034165.16\n",
      "ENSMUSG00000024018.18\n",
      "ENSMUSG00000024076.10\n",
      "ENSMUSG00000016946.6\n",
      "ENSMUSG00000038146.8\n",
      "ENSMUSG00000095407.2\n",
      "ENSMUSG00000068037.11\n",
      "ENSMUSG00000043972.8\n",
      "ENSMUSG00000098775.1\n",
      "ENSMUSG00000114563.1\n",
      "ENSMUSG00000117786.1\n",
      "ENSMUSG00000023935.10\n",
      "ENSMUSG00000040260.8\n",
      "ENSMUSG00000098374.1\n",
      "ENSMUSG00000089755.1\n",
      "ENSMUSG00000061544.13\n",
      "ENSMUSG00000117222.1\n",
      "ENSMUSG00000091504.2\n",
      "ENSMUSG00000117084.1\n",
      "ENSMUSG00000101133.1\n",
      "ENSMUSG00000117501.1\n",
      "ENSMUSG00000095687.2\n",
      "ENSMUSG00000024174.9\n",
      "ENSMUSG00000014773.13\n",
      "ENSMUSG00000024247.14\n",
      "ENSMUSG00000116644.1\n",
      "ENSMUSG00000038002.9\n",
      "ENSMUSG00000002791.17\n",
      "ENSMUSG00000023926.8\n",
      "ENSMUSG00000003534.17\n",
      "ENSMUSG00000004945.15\n",
      "ENSMUSG00000023885.9\n",
      "ENSMUSG00000023949.7\n",
      "ENSMUSG00000045036.15\n",
      "ENSMUSG00000091636.2\n",
      "ENSMUSG00000038347.15\n",
      "ENSMUSG00000117110.1\n",
      "ENSMUSG00000117065.1\n",
      "ENSMUSG00000024227.14\n",
      "ENSMUSG00000023918.12\n",
      "ENSMUSG00000116813.1\n",
      "ENSMUSG00000061665.7\n",
      "ENSMUSG00000024254.15\n",
      "ENSMUSG00000116858.1\n",
      "ENSMUSG00000097560.1\n",
      "ENSMUSG00000003546.10\n",
      "ENSMUSG00000117443.1\n",
      "ENSMUSG00000096975.1\n",
      "ENSMUSG00000089701.1\n",
      "ENSMUSG00000117333.1\n",
      "ENSMUSG00000117334.1\n",
      "ENSMUSG00000099332.1\n",
      "ENSMUSG00000096847.2\n",
      "ENSMUSG00000025433.7\n",
      "ENSMUSG00000023959.9\n",
      "ENSMUSG00000117444.1\n",
      "ENSMUSG00000116655.1\n",
      "ENSMUSG00000024253.9\n",
      "ENSMUSG00000024105.3\n",
      "ENSMUSG00000048826.7\n",
      "ENSMUSG00000023122.6\n",
      "ENSMUSG00000023930.14\n",
      "ENSMUSG00000024056.10\n",
      "ENSMUSG00000090083.11\n",
      "ENSMUSG00000090700.2\n",
      "ENSMUSG00000034709.8\n",
      "ENSMUSG00000033855.15\n",
      "ENSMUSG00000013236.17\n"
     ]
    }
   ],
   "source": [
    "for gene in genes:\n",
    "    print(gene)\n",
    "    check_path = output_dir / f'{gene}.DMR_cluster.msg'\n",
    "    if check_path.exists():\n",
    "        continue\n",
    "    \n",
    "    dmr_annotation = get_annotation(gene)\n",
    "    dmr_annotation.to_msgpack(output_dir / f'{gene}.DMR_detail.msg', compress='zlib')\n",
    "    \n",
    "    cluster_annotation = dmr_annotation.groupby('leiden').mean()\n",
    "    cluster_annotation.to_msgpack(output_dir / f'{gene}.DMR_cluster.msg', compress='zlib')"
   ]
  },
  {
   "cell_type": "code",
   "execution_count": null,
   "metadata": {
    "papermill": {},
    "scrolled": false,
    "tags": []
   },
   "outputs": [],
   "source": []
  },
  {
   "cell_type": "code",
   "execution_count": null,
   "metadata": {
    "papermill": {},
    "scrolled": true,
    "tags": []
   },
   "outputs": [],
   "source": []
  },
  {
   "cell_type": "code",
   "execution_count": null,
   "metadata": {
    "papermill": {},
    "tags": []
   },
   "outputs": [],
   "source": []
  },
  {
   "cell_type": "code",
   "execution_count": null,
   "metadata": {
    "papermill": {},
    "tags": []
   },
   "outputs": [],
   "source": []
  },
  {
   "cell_type": "code",
   "execution_count": null,
   "metadata": {
    "papermill": {},
    "tags": []
   },
   "outputs": [],
   "source": []
  },
  {
   "cell_type": "code",
   "execution_count": null,
   "metadata": {
    "papermill": {},
    "tags": []
   },
   "outputs": [],
   "source": []
  },
  {
   "cell_type": "code",
   "execution_count": null,
   "metadata": {
    "papermill": {},
    "tags": []
   },
   "outputs": [],
   "source": []
  },
  {
   "cell_type": "code",
   "execution_count": null,
   "metadata": {
    "papermill": {},
    "tags": []
   },
   "outputs": [],
   "source": []
  },
  {
   "cell_type": "code",
   "execution_count": null,
   "metadata": {
    "papermill": {},
    "tags": []
   },
   "outputs": [],
   "source": []
  },
  {
   "cell_type": "code",
   "execution_count": null,
   "metadata": {
    "papermill": {},
    "tags": []
   },
   "outputs": [],
   "source": []
  },
  {
   "cell_type": "code",
   "execution_count": null,
   "metadata": {
    "papermill": {},
    "tags": []
   },
   "outputs": [],
   "source": []
  },
  {
   "cell_type": "code",
   "execution_count": null,
   "metadata": {
    "papermill": {},
    "tags": []
   },
   "outputs": [],
   "source": []
  },
  {
   "cell_type": "code",
   "execution_count": null,
   "metadata": {
    "papermill": {},
    "tags": []
   },
   "outputs": [],
   "source": []
  },
  {
   "cell_type": "code",
   "execution_count": null,
   "metadata": {
    "papermill": {},
    "tags": []
   },
   "outputs": [],
   "source": []
  },
  {
   "cell_type": "code",
   "execution_count": null,
   "metadata": {
    "papermill": {},
    "tags": []
   },
   "outputs": [],
   "source": []
  },
  {
   "cell_type": "code",
   "execution_count": null,
   "metadata": {
    "papermill": {},
    "tags": []
   },
   "outputs": [],
   "source": []
  },
  {
   "cell_type": "code",
   "execution_count": null,
   "metadata": {
    "papermill": {},
    "tags": []
   },
   "outputs": [],
   "source": []
  }
 ],
 "metadata": {
  "hide_input": false,
  "kernelspec": {
   "display_name": "Python 3",
   "language": "python",
   "name": "python3"
  },
  "language_info": {
   "codemirror_mode": {
    "name": "ipython",
    "version": 3
   },
   "file_extension": ".py",
   "mimetype": "text/x-python",
   "name": "python",
   "nbconvert_exporter": "python",
   "pygments_lexer": "ipython3",
   "version": "3.7.3"
  },
  "papermill": {
   "environment_variables": {},
   "input_path": "DMRClustering_batch_per_chrom.ipynb",
   "output_path": "DMRCluster/DMRClustering_batch_per_chrom.chr17.ipynb",
   "parameters": {
    "chrom": "chr17",
    "genes": [
     "ENSMUSG00000024219.16",
     "ENSMUSG00000062202.14",
     "ENSMUSG00000039512.12",
     "ENSMUSG00000058392.13",
     "ENSMUSG00000000708.14",
     "ENSMUSG00000024172.10",
     "ENSMUSG00000024109.18",
     "ENSMUSG00000023927.15",
     "ENSMUSG00000023886.10",
     "ENSMUSG00000054640.15",
     "ENSMUSG00000014763.8",
     "ENSMUSG00000034265.8",
     "ENSMUSG00000024064.14",
     "ENSMUSG00000024143.15",
     "ENSMUSG00000040490.4",
     "ENSMUSG00000116718.1",
     "ENSMUSG00000039601.16",
     "ENSMUSG00000052105.17",
     "ENSMUSG00000014426.9",
     "ENSMUSG00000023868.17",
     "ENSMUSG00000024245.4",
     "ENSMUSG00000062078.15",
     "ENSMUSG00000024112.16",
     "ENSMUSG00000041119.12",
     "ENSMUSG00000003279.17",
     "ENSMUSG00000042256.5",
     "ENSMUSG00000063239.17",
     "ENSMUSG00000002076.12",
     "ENSMUSG00000050138.8",
     "ENSMUSG00000044477.12",
     "ENSMUSG00000024074.8",
     "ENSMUSG00000043557.16",
     "ENSMUSG00000055471.7",
     "ENSMUSG00000024145.6",
     "ENSMUSG00000037104.9",
     "ENSMUSG00000024044.18",
     "ENSMUSG00000036533.9",
     "ENSMUSG00000024008.16",
     "ENSMUSG00000024242.15",
     "ENSMUSG00000024222.17",
     "ENSMUSG00000117118.1",
     "ENSMUSG00000056515.9",
     "ENSMUSG00000117023.1",
     "ENSMUSG00000039153.17",
     "ENSMUSG00000023830.14",
     "ENSMUSG00000034413.14",
     "ENSMUSG00000023915.5",
     "ENSMUSG00000037196.6",
     "ENSMUSG00000002250.16",
     "ENSMUSG00000056121.16",
     "ENSMUSG00000023999.14",
     "ENSMUSG00000117254.1",
     "ENSMUSG00000055817.18",
     "ENSMUSG00000063952.16",
     "ENSMUSG00000042203.8",
     "ENSMUSG00000118341.1",
     "ENSMUSG00000001870.16",
     "ENSMUSG00000069729.14",
     "ENSMUSG00000000127.15",
     "ENSMUSG00000045038.14",
     "ENSMUSG00000024107.7",
     "ENSMUSG00000023965.13",
     "ENSMUSG00000024059.10",
     "ENSMUSG00000043705.7",
     "ENSMUSG00000071984.10",
     "ENSMUSG00000046991.12",
     "ENSMUSG00000023805.17",
     "ENSMUSG00000036918.16",
     "ENSMUSG00000024042.7",
     "ENSMUSG00000116988.1",
     "ENSMUSG00000118081.1",
     "ENSMUSG00000024063.13",
     "ENSMUSG00000023972.10",
     "ENSMUSG00000041565.17",
     "ENSMUSG00000117628.1",
     "ENSMUSG00000103779.1",
     "ENSMUSG00000023963.10",
     "ENSMUSG00000097305.2",
     "ENSMUSG00000002279.19",
     "ENSMUSG00000035580.10",
     "ENSMUSG00000057899.6",
     "ENSMUSG00000064043.13",
     "ENSMUSG00000038954.14",
     "ENSMUSG00000032937.5",
     "ENSMUSG00000093460.9",
     "ENSMUSG00000039316.14",
     "ENSMUSG00000052712.17",
     "ENSMUSG00000023940.14",
     "ENSMUSG00000040852.6",
     "ENSMUSG00000023827.8",
     "ENSMUSG00000024085.13",
     "ENSMUSG00000023460.13",
     "ENSMUSG00000024146.9",
     "ENSMUSG00000041130.10",
     "ENSMUSG00000024299.17",
     "ENSMUSG00000024151.13",
     "ENSMUSG00000099329.2",
     "ENSMUSG00000061950.17",
     "ENSMUSG00000023923.10",
     "ENSMUSG00000032624.16",
     "ENSMUSG00000117161.1",
     "ENSMUSG00000117231.1",
     "ENSMUSG00000045761.16",
     "ENSMUSG00000117243.1",
     "ENSMUSG00000038048.8",
     "ENSMUSG00000047786.12",
     "ENSMUSG00000062036.9",
     "ENSMUSG00000116801.1",
     "ENSMUSG00000024120.12",
     "ENSMUSG00000102973.1",
     "ENSMUSG00000089900.2",
     "ENSMUSG00000100150.2",
     "ENSMUSG00000054469.14",
     "ENSMUSG00000023873.13",
     "ENSMUSG00000090069.2",
     "ENSMUSG00000097103.1",
     "ENSMUSG00000023943.7",
     "ENSMUSG00000024078.7",
     "ENSMUSG00000102212.1",
     "ENSMUSG00000023931.5",
     "ENSMUSG00000024043.13",
     "ENSMUSG00000085846.1",
     "ENSMUSG00000102744.1",
     "ENSMUSG00000024300.17",
     "ENSMUSG00000038545.13",
     "ENSMUSG00000117264.1",
     "ENSMUSG00000117328.1",
     "ENSMUSG00000117351.1",
     "ENSMUSG00000114492.1",
     "ENSMUSG00000097049.1",
     "ENSMUSG00000078247.4",
     "ENSMUSG00000103216.1",
     "ENSMUSG00000024002.18",
     "ENSMUSG00000117835.1",
     "ENSMUSG00000024135.10",
     "ENSMUSG00000033327.17",
     "ENSMUSG00000089941.1",
     "ENSMUSG00000024036.16",
     "ENSMUSG00000024030.7",
     "ENSMUSG00000041057.10",
     "ENSMUSG00000101606.1",
     "ENSMUSG00000117019.1",
     "ENSMUSG00000023828.3",
     "ENSMUSG00000024070.15",
     "ENSMUSG00000089633.2",
     "ENSMUSG00000038805.10",
     "ENSMUSG00000117210.1",
     "ENSMUSG00000024169.16",
     "ENSMUSG00000024049.15",
     "ENSMUSG00000024154.11",
     "ENSMUSG00000024019.18",
     "ENSMUSG00000002504.15",
     "ENSMUSG00000117093.1",
     "ENSMUSG00000036983.7",
     "ENSMUSG00000034998.18",
     "ENSMUSG00000024246.9",
     "ENSMUSG00000117191.1",
     "ENSMUSG00000048027.9",
     "ENSMUSG00000056492.6",
     "ENSMUSG00000024066.9",
     "ENSMUSG00000023994.13",
     "ENSMUSG00000024457.16",
     "ENSMUSG00000024168.8",
     "ENSMUSG00000071042.12",
     "ENSMUSG00000097282.1",
     "ENSMUSG00000057246.16",
     "ENSMUSG00000043592.15",
     "ENSMUSG00000117647.1",
     "ENSMUSG00000024140.10",
     "ENSMUSG00000114291.1",
     "ENSMUSG00000117102.1",
     "ENSMUSG00000117026.1",
     "ENSMUSG00000045053.2",
     "ENSMUSG00000033826.10",
     "ENSMUSG00000085492.7",
     "ENSMUSG00000023802.4",
     "ENSMUSG00000035435.17",
     "ENSMUSG00000117100.1",
     "ENSMUSG00000052525.14",
     "ENSMUSG00000024084.8",
     "ENSMUSG00000117635.1",
     "ENSMUSG00000117511.1",
     "ENSMUSG00000061126.5",
     "ENSMUSG00000015127.14",
     "ENSMUSG00000117175.1",
     "ENSMUSG00000090168.1",
     "ENSMUSG00000034165.16",
     "ENSMUSG00000024018.18",
     "ENSMUSG00000024076.10",
     "ENSMUSG00000016946.6",
     "ENSMUSG00000038146.8",
     "ENSMUSG00000095407.2",
     "ENSMUSG00000068037.11",
     "ENSMUSG00000043972.8",
     "ENSMUSG00000098775.1",
     "ENSMUSG00000114563.1",
     "ENSMUSG00000117786.1",
     "ENSMUSG00000023935.10",
     "ENSMUSG00000040260.8",
     "ENSMUSG00000098374.1",
     "ENSMUSG00000089755.1",
     "ENSMUSG00000061544.13",
     "ENSMUSG00000117222.1",
     "ENSMUSG00000091504.2",
     "ENSMUSG00000117084.1",
     "ENSMUSG00000101133.1",
     "ENSMUSG00000117501.1",
     "ENSMUSG00000095687.2",
     "ENSMUSG00000024174.9",
     "ENSMUSG00000014773.13",
     "ENSMUSG00000024247.14",
     "ENSMUSG00000116644.1",
     "ENSMUSG00000038002.9",
     "ENSMUSG00000002791.17",
     "ENSMUSG00000023926.8",
     "ENSMUSG00000003534.17",
     "ENSMUSG00000004945.15",
     "ENSMUSG00000023885.9",
     "ENSMUSG00000023949.7",
     "ENSMUSG00000045036.15",
     "ENSMUSG00000091636.2",
     "ENSMUSG00000038347.15",
     "ENSMUSG00000117110.1",
     "ENSMUSG00000117065.1",
     "ENSMUSG00000024227.14",
     "ENSMUSG00000023918.12",
     "ENSMUSG00000116813.1",
     "ENSMUSG00000061665.7",
     "ENSMUSG00000024254.15",
     "ENSMUSG00000116858.1",
     "ENSMUSG00000097560.1",
     "ENSMUSG00000003546.10",
     "ENSMUSG00000117443.1",
     "ENSMUSG00000096975.1",
     "ENSMUSG00000089701.1",
     "ENSMUSG00000117333.1",
     "ENSMUSG00000117334.1",
     "ENSMUSG00000099332.1",
     "ENSMUSG00000096847.2",
     "ENSMUSG00000025433.7",
     "ENSMUSG00000023959.9",
     "ENSMUSG00000117444.1",
     "ENSMUSG00000116655.1",
     "ENSMUSG00000024253.9",
     "ENSMUSG00000024105.3",
     "ENSMUSG00000048826.7",
     "ENSMUSG00000023122.6",
     "ENSMUSG00000023930.14",
     "ENSMUSG00000024056.10",
     "ENSMUSG00000090083.11",
     "ENSMUSG00000090700.2",
     "ENSMUSG00000034709.8",
     "ENSMUSG00000033855.15",
     "ENSMUSG00000013236.17",
     "ENSMUSG00000058704.9",
     "ENSMUSG00000117124.1",
     "ENSMUSG00000117130.1",
     "ENSMUSG00000024054.14",
     "ENSMUSG00000118232.1",
     "ENSMUSG00000093686.1",
     "ENSMUSG00000089849.1",
     "ENSMUSG00000117033.1",
     "ENSMUSG00000117228.1",
     "ENSMUSG00000024175.2",
     "ENSMUSG00000036557.8",
     "ENSMUSG00000044375.8",
     "ENSMUSG00000054901.7",
     "ENSMUSG00000059811.13",
     "ENSMUSG00000003200.10",
     "ENSMUSG00000035473.10",
     "ENSMUSG00000117224.1",
     "ENSMUSG00000117233.1",
     "ENSMUSG00000024248.14",
     "ENSMUSG00000117393.1",
     "ENSMUSG00000024027.8",
     "ENSMUSG00000024091.9",
     "ENSMUSG00000098090.8",
     "ENSMUSG00000032915.6",
     "ENSMUSG00000024155.8",
     "ENSMUSG00000023945.7",
     "ENSMUSG00000043740.15",
     "ENSMUSG00000117417.1",
     "ENSMUSG00000117263.1",
     "ENSMUSG00000024213.14",
     "ENSMUSG00000023991.16",
     "ENSMUSG00000117227.1",
     "ENSMUSG00000025431.4",
     "ENSMUSG00000037246.6",
     "ENSMUSG00000092368.1",
     "ENSMUSG00000003199.16",
     "ENSMUSG00000024052.17",
     "ENSMUSG00000117338.1",
     "ENSMUSG00000023953.9",
     "ENSMUSG00000001576.15",
     "ENSMUSG00000015575.15",
     "ENSMUSG00000095377.2",
     "ENSMUSG00000117539.1",
     "ENSMUSG00000024077.15",
     "ENSMUSG00000117314.1",
     "ENSMUSG00000112121.1",
     "ENSMUSG00000054134.14",
     "ENSMUSG00000117569.1",
     "ENSMUSG00000024206.15",
     "ENSMUSG00000041293.5",
     "ENSMUSG00000073424.9",
     "ENSMUSG00000095961.2",
     "ENSMUSG00000092618.2",
     "ENSMUSG00000090556.5",
     "ENSMUSG00000024065.8",
     "ENSMUSG00000091475.3",
     "ENSMUSG00000024150.12",
     "ENSMUSG00000043286.12",
     "ENSMUSG00000093508.1",
     "ENSMUSG00000024462.17",
     "ENSMUSG00000116984.1",
     "ENSMUSG00000100402.1",
     "ENSMUSG00000037130.4",
     "ENSMUSG00000100847.1",
     "ENSMUSG00000085705.1",
     "ENSMUSG00000058435.6",
     "ENSMUSG00000090655.2",
     "ENSMUSG00000117433.1",
     "ENSMUSG00000024165.9",
     "ENSMUSG00000073420.10",
     "ENSMUSG00000024163.17",
     "ENSMUSG00000089222.1",
     "ENSMUSG00000116670.1",
     "ENSMUSG00000116851.1",
     "ENSMUSG00000096477.2",
     "ENSMUSG00000024176.10",
     "ENSMUSG00000092549.1",
     "ENSMUSG00000117301.1"
    ],
    "n_pc": 10,
    "resolution": 1,
    "slop": 250000
   },
   "version": "1.0.1"
  },
  "toc": {
   "base_numbering": 1,
   "nav_menu": {},
   "number_sections": true,
   "sideBar": true,
   "skip_h1_title": true,
   "title_cell": "Table of Contents",
   "title_sidebar": "Contents",
   "toc_cell": false,
   "toc_position": {},
   "toc_section_display": true,
   "toc_window_display": true
  }
 },
 "nbformat": 4,
 "nbformat_minor": 2
}
