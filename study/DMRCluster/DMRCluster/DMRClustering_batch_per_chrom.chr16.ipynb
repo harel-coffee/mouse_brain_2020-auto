{
 "cells": [
  {
   "cell_type": "code",
   "execution_count": 1,
   "metadata": {
    "ExecuteTime": {
     "end_time": "2020-02-01T05:22:15.050335Z",
     "start_time": "2020-02-01T05:22:11.456134Z"
    },
    "papermill": {},
    "tags": []
   },
   "outputs": [],
   "source": [
    "import pandas as pd\n",
    "import numpy as np\n",
    "import anndata\n",
    "import scanpy as sc\n",
    "import seaborn as sns\n",
    "import matplotlib.pyplot as plt\n",
    "from matplotlib.patches import Rectangle\n",
    "from sklearn.decomposition import PCA\n",
    "from sklearn.cluster import KMeans\n",
    "import warnings\n",
    "import pathlib\n",
    "\n",
    "warnings.filterwarnings('ignore')"
   ]
  },
  {
   "cell_type": "code",
   "execution_count": 2,
   "metadata": {
    "ExecuteTime": {
     "end_time": "2020-02-01T05:22:15.066341Z",
     "start_time": "2020-02-01T05:22:15.054279Z"
    },
    "papermill": {},
    "tags": []
   },
   "outputs": [],
   "source": [
    "from matplotlib import rc\n",
    "labelsize = 6\n",
    "linewidth = 0.6\n",
    "rc('lines', linewidth=linewidth)\n",
    "rc('axes', labelsize=labelsize, linewidth=linewidth)\n",
    "rc('xtick', labelsize=labelsize)\n",
    "rc('ytick', labelsize=labelsize)\n",
    "rc('xtick.major', width=linewidth)\n",
    "rc('ytick.major', width=linewidth)\n",
    "rc('xtick.minor', width=linewidth - 0.2)\n",
    "rc('ytick.minor', width=linewidth - 0.2)"
   ]
  },
  {
   "cell_type": "code",
   "execution_count": 3,
   "metadata": {
    "ExecuteTime": {
     "end_time": "2020-02-01T05:22:15.074551Z",
     "start_time": "2020-02-01T05:22:15.069406Z"
    },
    "papermill": {},
    "tags": [
     "parameters"
    ]
   },
   "outputs": [],
   "source": [
    "chrom = 'chr2'\n",
    "genes = ['Lhx6']\n",
    "slop = 250000\n",
    "n_pc = 10\n",
    "resolution = 1"
   ]
  },
  {
   "cell_type": "code",
   "execution_count": 4,
   "metadata": {
    "ExecuteTime": {
     "end_time": "2020-02-01T05:22:15.108862Z",
     "start_time": "2020-02-01T05:22:15.077938Z"
    },
    "tags": [
     "injected-parameters"
    ]
   },
   "outputs": [],
   "source": [
    "# Parameters\n",
    "chrom = \"chr16\"\n",
    "genes = [\"ENSMUSG00000057880.12\", \"ENSMUSG00000022685.9\", \"ENSMUSG00000043811.5\", \"ENSMUSG00000022840.9\", \"ENSMUSG00000047434.14\", \"ENSMUSG00000033306.15\", \"ENSMUSG00000050272.10\", \"ENSMUSG00000022790.14\", \"ENSMUSG00000053414.8\", \"ENSMUSG00000022494.15\", \"ENSMUSG00000086175.2\", \"ENSMUSG00000043301.16\", \"ENSMUSG00000090386.10\", \"ENSMUSG00000090223.2\", \"ENSMUSG00000051065.9\", \"ENSMUSG00000025612.5\", \"ENSMUSG00000035258.15\", \"ENSMUSG00000022656.15\", \"ENSMUSG00000022514.14\", \"ENSMUSG00000022861.17\", \"ENSMUSG00000035270.15\", \"ENSMUSG00000022762.18\", \"ENSMUSG00000048399.4\", \"ENSMUSG00000022687.12\", \"ENSMUSG00000047261.9\", \"ENSMUSG00000074892.9\", \"ENSMUSG00000117081.1\", \"ENSMUSG00000065979.12\", \"ENSMUSG00000055540.15\", \"ENSMUSG00000117000.1\", \"ENSMUSG00000022844.8\", \"ENSMUSG00000022701.18\", \"ENSMUSG00000022641.15\", \"ENSMUSG00000022637.11\", \"ENSMUSG00000115293.2\", \"ENSMUSG00000022537.18\", \"ENSMUSG00000022636.13\", \"ENSMUSG00000013089.15\", \"ENSMUSG00000005615.15\", \"ENSMUSG00000008658.16\", \"ENSMUSG00000115852.2\", \"ENSMUSG00000116029.1\", \"ENSMUSG00000052516.19\", \"ENSMUSG00000116720.1\", \"ENSMUSG00000022780.5\", \"ENSMUSG00000052504.7\", \"ENSMUSG00000022696.17\", \"ENSMUSG00000033653.18\", \"ENSMUSG00000022538.20\", \"ENSMUSG00000043391.10\", \"ENSMUSG00000022867.10\", \"ENSMUSG00000005958.15\", \"ENSMUSG00000022842.18\", \"ENSMUSG00000035376.10\", \"ENSMUSG00000038168.5\", \"ENSMUSG00000068196.5\", \"ENSMUSG00000033149.17\", \"ENSMUSG00000116574.1\", \"ENSMUSG00000093575.1\", \"ENSMUSG00000022519.14\", \"ENSMUSG00000040732.20\", \"ENSMUSG00000022887.9\", \"ENSMUSG00000050783.5\", \"ENSMUSG00000087526.2\", \"ENSMUSG00000035107.13\", \"ENSMUSG00000022885.16\", \"ENSMUSG00000055370.3\", \"ENSMUSG00000005982.14\", \"ENSMUSG00000116324.1\", \"ENSMUSG00000022723.16\", \"ENSMUSG00000117179.1\", \"ENSMUSG00000061751.16\", \"ENSMUSG00000116555.1\", \"ENSMUSG00000048490.14\", \"ENSMUSG00000035629.19\", \"ENSMUSG00000041957.15\", \"ENSMUSG00000033618.7\", \"ENSMUSG00000022836.11\", \"ENSMUSG00000036304.14\", \"ENSMUSG00000085499.1\", \"ENSMUSG00000022957.20\", \"ENSMUSG00000040605.7\", \"ENSMUSG00000022951.16\", \"ENSMUSG00000033355.6\", \"ENSMUSG00000022508.5\", \"ENSMUSG00000022510.14\", \"ENSMUSG00000068617.5\", \"ENSMUSG00000116930.1\", \"ENSMUSG00000101481.1\", \"ENSMUSG00000018830.10\", \"ENSMUSG00000032965.11\", \"ENSMUSG00000009569.14\", \"ENSMUSG00000052133.16\", \"ENSMUSG00000039680.10\", \"ENSMUSG00000022802.2\", \"ENSMUSG00000087141.1\", \"ENSMUSG00000062901.3\", \"ENSMUSG00000043008.9\", \"ENSMUSG00000092545.7\", \"ENSMUSG00000116933.1\", \"ENSMUSG00000116976.1\", \"ENSMUSG00000071552.5\", \"ENSMUSG00000115869.1\", \"ENSMUSG00000116610.1\", \"ENSMUSG00000022952.17\", \"ENSMUSG00000022755.4\", \"ENSMUSG00000005983.15\", \"ENSMUSG00000022533.14\", \"ENSMUSG00000022657.9\", \"ENSMUSG00000116885.1\", \"ENSMUSG00000022894.6\", \"ENSMUSG00000116469.1\", \"ENSMUSG00000022892.11\", \"ENSMUSG00000000325.16\", \"ENSMUSG00000022865.14\", \"ENSMUSG00000116588.1\", \"ENSMUSG00000022665.15\", \"ENSMUSG00000062082.16\", \"ENSMUSG00000022791.18\", \"ENSMUSG00000097307.1\", \"ENSMUSG00000033210.16\", \"ENSMUSG00000022848.8\", \"ENSMUSG00000035506.16\", \"ENSMUSG00000062609.14\", \"ENSMUSG00000075254.12\", \"ENSMUSG00000022747.17\", \"ENSMUSG00000116290.1\", \"ENSMUSG00000085826.1\", \"ENSMUSG00000116641.1\", \"ENSMUSG00000022704.15\", \"ENSMUSG00000116589.1\", \"ENSMUSG00000051980.13\", \"ENSMUSG00000022895.16\", \"ENSMUSG00000079546.1\", \"ENSMUSG00000116848.1\", \"ENSMUSG00000075704.16\", \"ENSMUSG00000097551.1\", \"ENSMUSG00000117324.1\", \"ENSMUSG00000033157.17\", \"ENSMUSG00000022876.18\", \"ENSMUSG00000022801.13\", \"ENSMUSG00000046961.8\", \"ENSMUSG00000046613.19\", \"ENSMUSG00000023088.17\", \"ENSMUSG00000078489.2\", \"ENSMUSG00000087605.1\", \"ENSMUSG00000030775.10\", \"ENSMUSG00000039179.13\", \"ENSMUSG00000116755.1\", \"ENSMUSG00000087384.1\", \"ENSMUSG00000022816.11\", \"ENSMUSG00000068284.14\", \"ENSMUSG00000022793.17\", \"ENSMUSG00000102967.1\", \"ENSMUSG00000083505.1\", \"ENSMUSG00000039903.17\", \"ENSMUSG00000116894.1\", \"ENSMUSG00000115219.2\", \"ENSMUSG00000116865.1\", \"ENSMUSG00000022863.15\", \"ENSMUSG00000022753.15\", \"ENSMUSG00000033581.17\", \"ENSMUSG00000116654.1\", \"ENSMUSG00000089874.1\", \"ENSMUSG00000022898.13\", \"ENSMUSG00000035356.17\", \"ENSMUSG00000049076.11\", \"ENSMUSG00000076039.1\", \"ENSMUSG00000055972.5\", \"ENSMUSG00000116689.1\", \"ENSMUSG00000085732.1\", \"ENSMUSG00000022964.14\", \"ENSMUSG00000003531.15\", \"ENSMUSG00000022799.4\", \"ENSMUSG00000022711.16\", \"ENSMUSG00000109783.1\", \"ENSMUSG00000043065.12\", \"ENSMUSG00000076372.2\", \"ENSMUSG00000068167.6\", \"ENSMUSG00000096960.1\", \"ENSMUSG00000022661.14\", \"ENSMUSG00000109857.1\", \"ENSMUSG00000116747.1\", \"ENSMUSG00000108903.1\", \"ENSMUSG00000022938.8\", \"ENSMUSG00000003526.12\", \"ENSMUSG00000022832.11\", \"ENSMUSG00000045275.16\", \"ENSMUSG00000048939.13\", \"ENSMUSG00000022821.13\", \"ENSMUSG00000038094.15\", \"ENSMUSG00000065494.1\", \"ENSMUSG00000117309.1\", \"ENSMUSG00000008393.9\", \"ENSMUSG00000103049.1\", \"ENSMUSG00000022512.3\", \"ENSMUSG00000000157.16\", \"ENSMUSG00000101463.1\", \"ENSMUSG00000099968.7\", \"ENSMUSG00000116937.1\", \"ENSMUSG00000116665.1\", \"ENSMUSG00000096918.2\", \"ENSMUSG00000022663.3\", \"ENSMUSG00000075395.11\", \"ENSMUSG00000102854.1\", \"ENSMUSG00000103932.1\", \"ENSMUSG00000022639.14\", \"ENSMUSG00000055447.19\", \"ENSMUSG00000096870.2\", \"ENSMUSG00000099293.1\", \"ENSMUSG00000025610.7\", \"ENSMUSG00000022864.14\", \"ENSMUSG00000068428.7\", \"ENSMUSG00000089774.2\", \"ENSMUSG00000022664.11\", \"ENSMUSG00000116684.1\", \"ENSMUSG00000116173.1\", \"ENSMUSG00000022754.6\", \"ENSMUSG00000034473.14\", \"ENSMUSG00000116536.1\", \"ENSMUSG00000102344.1\", \"ENSMUSG00000022658.10\", \"ENSMUSG00000003955.8\", \"ENSMUSG00000005899.14\", \"ENSMUSG00000075033.4\", \"ENSMUSG00000097764.1\", \"ENSMUSG00000045178.10\", \"ENSMUSG00000076064.1\", \"ENSMUSG00000116714.1\", \"ENSMUSG00000004366.4\", \"ENSMUSG00000038127.14\", \"ENSMUSG00000039789.7\", \"ENSMUSG00000075265.4\", \"ENSMUSG00000000386.16\", \"ENSMUSG00000115936.1\", \"ENSMUSG00000022680.14\", \"ENSMUSG00000044117.12\", \"ENSMUSG00000116752.1\", \"ENSMUSG00000116557.1\", \"ENSMUSG00000022900.14\", \"ENSMUSG00000022822.16\", \"ENSMUSG00000103916.1\", \"ENSMUSG00000116831.1\", \"ENSMUSG00000116766.1\", \"ENSMUSG00000071550.14\", \"ENSMUSG00000022949.9\", \"ENSMUSG00000089607.1\", \"ENSMUSG00000037991.9\", \"ENSMUSG00000004069.17\", \"ENSMUSG00000022548.14\", \"ENSMUSG00000022525.13\", \"ENSMUSG00000072419.5\", \"ENSMUSG00000000028.15\", \"ENSMUSG00000000385.8\", \"ENSMUSG00000022827.14\", \"ENSMUSG00000022962.15\", \"ENSMUSG00000091243.2\", \"ENSMUSG00000116964.1\", \"ENSMUSG00000039637.15\", \"ENSMUSG00000046598.15\", \"ENSMUSG00000022897.15\", \"ENSMUSG00000051669.6\", \"ENSMUSG00000022875.18\", \"ENSMUSG00000022544.14\", \"ENSMUSG00000046748.8\", \"ENSMUSG00000079620.13\"]\n",
    "slop = 250000\n",
    "n_pc = 10\n",
    "resolution = 1\n"
   ]
  },
  {
   "cell_type": "code",
   "execution_count": 5,
   "metadata": {
    "ExecuteTime": {
     "end_time": "2020-02-01T05:22:15.116174Z",
     "start_time": "2020-02-01T05:22:15.111626Z"
    },
    "papermill": {},
    "tags": []
   },
   "outputs": [],
   "source": [
    "output_dir = pathlib.Path(chrom)\n",
    "output_dir.mkdir(exist_ok=True)"
   ]
  },
  {
   "cell_type": "markdown",
   "metadata": {
    "papermill": {},
    "tags": []
   },
   "source": [
    "## Cell Meta"
   ]
  },
  {
   "cell_type": "code",
   "execution_count": 6,
   "metadata": {
    "ExecuteTime": {
     "end_time": "2020-02-01T05:22:16.018605Z",
     "start_time": "2020-02-01T05:22:15.126359Z"
    },
    "papermill": {},
    "tags": []
   },
   "outputs": [
    {
     "data": {
      "text/plain": [
       "145"
      ]
     },
     "execution_count": 6,
     "metadata": {},
     "output_type": "execute_result"
    }
   ],
   "source": [
    "cell_tidy_data = pd.read_msgpack(\n",
    "    '/home/hanliu/project/mouse_rostral_brain/study/ClusteringSummary/Summary/TotalClusteringResults.msg'\n",
    ")\n",
    "use_clusters = [\n",
    "    i.replace(' ', '_') for i in cell_tidy_data[cell_tidy_data['CellClass'].isin(['Exc', 'Inh'])]\n",
    "    ['SubType'].unique() if 'Outlier' not in i\n",
    "]\n",
    "len(use_clusters)"
   ]
  },
  {
   "cell_type": "markdown",
   "metadata": {
    "papermill": {},
    "tags": []
   },
   "source": [
    "## ATAC peaks"
   ]
  },
  {
   "cell_type": "code",
   "execution_count": 7,
   "metadata": {
    "ExecuteTime": {
     "end_time": "2020-02-01T05:22:30.960005Z",
     "start_time": "2020-02-01T05:22:16.021333Z"
    },
    "papermill": {},
    "tags": []
   },
   "outputs": [],
   "source": [
    "atac_peak = pd.read_msgpack('/home/hanliu/project/mouse_rostral_brain/study/DMRCluster/SubType.ATAC_peak_merged.msg')\n",
    "atac_peak = atac_peak.loc[atac_peak.index.map(lambda i: i.startswith(f'Sub{chrom}_'))].copy()"
   ]
  },
  {
   "cell_type": "markdown",
   "metadata": {
    "papermill": {},
    "tags": []
   },
   "source": [
    "## Gene Info"
   ]
  },
  {
   "cell_type": "code",
   "execution_count": 8,
   "metadata": {
    "ExecuteTime": {
     "end_time": "2020-02-01T05:22:31.346670Z",
     "start_time": "2020-02-01T05:22:30.965084Z"
    },
    "papermill": {},
    "tags": []
   },
   "outputs": [],
   "source": [
    "gene_meta = pd.read_csv(\n",
    "    '/home/hanliu/ref/mouse/gencode/vm22/gencode.vM22.annotation.gene.flat.tsv.gz',\n",
    "    index_col='gene_id', sep='\\t'\n",
    ")\n",
    "gene_meta = gene_meta[gene_meta['chrom'] == chrom].copy()"
   ]
  },
  {
   "cell_type": "code",
   "execution_count": 9,
   "metadata": {
    "ExecuteTime": {
     "end_time": "2020-02-01T05:22:32.396865Z",
     "start_time": "2020-02-01T05:22:31.348096Z"
    },
    "papermill": {},
    "tags": []
   },
   "outputs": [],
   "source": [
    "exon_bed = pd.read_csv('/home/hanliu/ref/mouse/gencode/vm22/genome_anno/exon.all.bed',\n",
    "                       header=None, sep='\\t')\n",
    "exon_bed.columns = ['chrom', 'start', 'end', 'gene_id', 'gene_name']"
   ]
  },
  {
   "cell_type": "markdown",
   "metadata": {
    "ExecuteTime": {
     "end_time": "2020-01-30T20:50:32.972616Z",
     "start_time": "2020-01-30T20:50:26.232994Z"
    },
    "papermill": {},
    "tags": []
   },
   "source": [
    "## DMR Info"
   ]
  },
  {
   "cell_type": "code",
   "execution_count": 10,
   "metadata": {
    "ExecuteTime": {
     "end_time": "2020-02-01T05:24:30.169395Z",
     "start_time": "2020-02-01T05:22:32.399683Z"
    },
    "papermill": {},
    "tags": []
   },
   "outputs": [],
   "source": [
    "with pd.HDFStore('/home/hanliu/project/mouse_rostral_brain/DMR/SubType/Total/DMRInfo.h5', 'r') as hdf:\n",
    "    dmr_rate = hdf['Rate']\n",
    "dmr_rate = dmr_rate.loc[dmr_rate.index.map(lambda i: i.startswith(f'Sub{chrom}_'))].copy()\n",
    "\n",
    "dmr_corr = pd.read_msgpack(\n",
    "    '/home/hanliu/project/mouse_rostral_brain/study/DMRGeneCorr/TotalGeneDMRCorrLoop.0.3.msg'\n",
    ")\n",
    "dmr_corr = dmr_corr.set_index(['DMR', 'Gene'])\n",
    "dmr_corr = dmr_corr.loc[dmr_corr.index.get_level_values('DMR').isin(dmr_rate.index)].copy()\n",
    "\n",
    "dmr_bed = pd.read_csv('/home/hanliu/project/mouse_rostral_brain/DMR/SubType/Total/TotalDMR.nofilter.bed',\n",
    "                      sep='\\t', header=None, index_col=3)\n",
    "dmr_bed.columns = ['chrom', 'start', 'end']\n",
    "dmr_bed = dmr_bed[dmr_bed['chrom'] == chrom].copy()\n",
    "\n",
    "dmr_hits = anndata.read_h5ad('/home/hanliu/project/mouse_rostral_brain/DMR/SubType/Total/TotalHits.HypoDMR.h5ad')\n",
    "dmr_hits = dmr_hits[dmr_rate.index, :].copy()\n",
    "dmr_hits = dmr_hits[:, use_clusters].copy()\n",
    "\n",
    "dmr_annot = anndata.read_h5ad('/home/hanliu/project/mouse_rostral_brain/DMR/SubType/Total/DMRAnnotation.h5ad')\n",
    "dmr_annot = dmr_annot[dmr_rate.index, :].copy()"
   ]
  },
  {
   "cell_type": "code",
   "execution_count": 11,
   "metadata": {
    "ExecuteTime": {
     "end_time": "2020-02-01T05:24:30.179693Z",
     "start_time": "2020-02-01T05:24:30.173115Z"
    },
    "papermill": {},
    "tags": []
   },
   "outputs": [
    {
     "data": {
      "text/plain": [
       "184650"
      ]
     },
     "execution_count": 11,
     "metadata": {},
     "output_type": "execute_result"
    }
   ],
   "source": [
    "dmr_hits.shape[0]"
   ]
  },
  {
   "cell_type": "code",
   "execution_count": 12,
   "metadata": {
    "ExecuteTime": {
     "end_time": "2020-02-01T05:24:30.187740Z",
     "start_time": "2020-02-01T05:24:30.182346Z"
    },
    "papermill": {},
    "tags": []
   },
   "outputs": [],
   "source": [
    "def get_gene(gene_id):\n",
    "    _gene = gene_meta.loc[gene_id]\n",
    "    return _gene.name, _gene['chrom'], _gene['start'], _gene['end'], _gene['strand']"
   ]
  },
  {
   "cell_type": "markdown",
   "metadata": {
    "papermill": {},
    "tags": []
   },
   "source": [
    "## Gene's DMR clustering"
   ]
  },
  {
   "cell_type": "code",
   "execution_count": 13,
   "metadata": {
    "ExecuteTime": {
     "end_time": "2020-02-01T05:24:30.548855Z",
     "start_time": "2020-02-01T05:24:30.190423Z"
    },
    "papermill": {},
    "scrolled": true,
    "tags": []
   },
   "outputs": [],
   "source": [
    "def calculate_gene(gene_id):\n",
    "    # get gene information\n",
    "    gene_id, _, gene_start, gene_end, _ = get_gene(gene_id)\n",
    "\n",
    "    # select related DMRs\n",
    "    related_dmr = dmr_bed[(dmr_bed['start'] > gene_start - slop) &\n",
    "                          (dmr_bed['end'] < gene_end + slop)].copy()\n",
    "    \n",
    "    related_dmr_rate = dmr_rate.loc[related_dmr.index, use_clusters].copy()\n",
    "    related_dmr_rate.fillna(related_dmr_rate.mean(), axis=0, inplace=True)\n",
    "    \n",
    "    # construct Adata\n",
    "    adata = anndata.AnnData(X=related_dmr_rate.values.copy(),\n",
    "                            obs=pd.DataFrame([], related_dmr_rate.index),\n",
    "                            var=pd.DataFrame([], related_dmr_rate.columns))\n",
    "    sc.pp.scale(adata)\n",
    "    sc.pp.pca(adata)\n",
    "    \n",
    "    pcs = adata.obsm['X_pca'][:, :n_pc]\n",
    "    sc.pp.neighbors(adata, n_neighbors=int(round(np.log2(adata.shape[0]))), n_pcs=n_pc)\n",
    "    sc.tl.leiden(adata, resolution=resolution)\n",
    "    return adata.obs\n",
    "\n",
    "\n",
    "def get_annotation(gene_id):\n",
    "    gene_id, _, gene_start, gene_end, strand = get_gene(gene_id)\n",
    "    tss = gene_start if strand == '+' else gene_end\n",
    "    gene_cluster = calculate_gene(gene_id)\n",
    "    this_corr = dmr_corr[dmr_corr.index.get_level_values('Gene') == gene_id]['Corr']\n",
    "    this_corr.index = this_corr.index.droplevel('Gene')\n",
    "    gene_cluster['Corr'] = gene_cluster.index.map(this_corr).fillna(0)\n",
    "    \n",
    "    this_dmr_bed = dmr_bed.loc[gene_cluster.index]\n",
    "    dmr_center = (this_dmr_bed['end'] + this_dmr_bed['start']) / 2\n",
    "    gene_length = gene_end - gene_start\n",
    "    if strand == '+':\n",
    "        gene_cluster['reldist_tss'] = (dmr_center - gene_start) / gene_length\n",
    "    else:\n",
    "        gene_cluster['reldist_tss'] = (gene_end - dmr_center) / gene_length\n",
    "    gene_cluster['in_gene_body'] = (gene_cluster['reldist_tss'] > 0) & (gene_cluster['reldist_tss'] < 1)\n",
    "    \n",
    "    this_annot = dmr_annot[gene_cluster.index]\n",
    "    annot_df = pd.DataFrame(this_annot.X.todense(), \n",
    "                 index=this_annot.obs_names, columns=this_annot.var_names)\n",
    "    \n",
    "    # annotate TE cols\n",
    "    dna_te = annot_df.columns[20:33]\n",
    "    gene_cluster['is_dna_te'] = annot_df[dna_te].sum(axis=1) != 0\n",
    "    \n",
    "    line_te = annot_df.columns[33:39]\n",
    "    gene_cluster['is_line_te'] = annot_df[line_te].sum(axis=1) != 0\n",
    "    \n",
    "    ltr_te = annot_df.columns[39:45]\n",
    "    gene_cluster['is_ltr_te'] = annot_df[ltr_te].sum(axis=1) != 0\n",
    "    \n",
    "    sine_te = annot_df.columns[45:52]\n",
    "    gene_cluster['is_sine_te'] = annot_df[sine_te].sum(axis=1) != 0\n",
    "    \n",
    "    # this dmr within GOI's gene feature\n",
    "    gene_cluster['in_intron'] = annot_df['intron'].astype(bool) & gene_cluster['in_gene_body']\n",
    "    gene_cluster['in_exon'] = annot_df['exon'].astype(bool) & gene_cluster['in_gene_body']\n",
    "    gene_cluster['in_utr3'] = annot_df['UTR3'].astype(bool) & gene_cluster['in_gene_body']\n",
    "    gene_cluster['in_utr5'] = annot_df['UTR5'].astype(bool) & gene_cluster['in_gene_body']\n",
    "    \n",
    "    # previous mC study\n",
    "    gene_cluster['feDMR'] = annot_df['feDMR'].astype(bool)\n",
    "    gene_cluster['adultDMR'] = annot_df['adultDMR'].astype(bool)\n",
    "    \n",
    "    \n",
    "    other_profiles = []\n",
    "    # DMR hypo call in each cluster\n",
    "    this_hypo_hits = dmr_hits[gene_cluster.index]\n",
    "    hits_df = pd.DataFrame(this_hypo_hits.X.todense(), \n",
    "                 index=this_hypo_hits.obs_names, columns=this_hypo_hits.var_names)\n",
    "    hits_df.columns = hits_df.columns.map(lambda i: f'HypoDMR.{i}')\n",
    "    other_profiles.append(hits_df)\n",
    "    \n",
    "    # DMR rate\n",
    "    related_dmr_rate = dmr_rate.loc[gene_cluster['leiden'].sort_values().index, use_clusters].copy()\n",
    "    related_dmr_rate.fillna(related_dmr_rate.mean(), axis=0, inplace=True)\n",
    "    related_dmr_rate.columns = related_dmr_rate.columns.map(lambda i: f'DMRRate.{i}')\n",
    "    other_profiles.append(related_dmr_rate)\n",
    "    \n",
    "    # atac peak\n",
    "    atac_peak_df = atac_peak.loc[related_dmr_rate.index, use_clusters].copy()\n",
    "    other_profiles.append(atac_peak_df)\n",
    "    atac_peak_df.columns = atac_peak_df.columns.map(lambda i: f'ATACPeak.{i}')\n",
    "    \n",
    "    dmr_annotation = pd.concat([gene_cluster] + other_profiles, axis=1, sort=True)\n",
    "    return dmr_annotation"
   ]
  },
  {
   "cell_type": "code",
   "execution_count": null,
   "metadata": {
    "ExecuteTime": {
     "start_time": "2020-02-01T05:45:08.034Z"
    },
    "papermill": {},
    "tags": []
   },
   "outputs": [
    {
     "name": "stdout",
     "output_type": "stream",
     "text": [
      "ENSMUSG00000057880.12\n",
      "ENSMUSG00000022685.9\n",
      "ENSMUSG00000043811.5\n",
      "ENSMUSG00000022840.9\n",
      "ENSMUSG00000047434.14\n",
      "ENSMUSG00000033306.15\n",
      "ENSMUSG00000050272.10\n",
      "ENSMUSG00000022790.14\n",
      "ENSMUSG00000053414.8\n",
      "ENSMUSG00000022494.15\n",
      "ENSMUSG00000086175.2\n",
      "ENSMUSG00000043301.16\n",
      "ENSMUSG00000090386.10\n",
      "ENSMUSG00000090223.2\n",
      "ENSMUSG00000051065.9\n",
      "ENSMUSG00000025612.5\n",
      "ENSMUSG00000035258.15\n",
      "ENSMUSG00000022656.15\n",
      "ENSMUSG00000022514.14\n",
      "ENSMUSG00000022861.17\n",
      "ENSMUSG00000035270.15\n",
      "ENSMUSG00000022762.18\n",
      "ENSMUSG00000048399.4\n",
      "ENSMUSG00000022687.12\n",
      "ENSMUSG00000047261.9\n",
      "ENSMUSG00000074892.9\n",
      "ENSMUSG00000117081.1\n",
      "ENSMUSG00000065979.12\n",
      "ENSMUSG00000055540.15\n",
      "ENSMUSG00000117000.1\n",
      "ENSMUSG00000022844.8\n",
      "ENSMUSG00000022701.18\n",
      "ENSMUSG00000022641.15\n",
      "ENSMUSG00000022637.11\n",
      "ENSMUSG00000115293.2\n",
      "ENSMUSG00000022537.18\n",
      "ENSMUSG00000022636.13\n",
      "ENSMUSG00000013089.15\n",
      "ENSMUSG00000005615.15\n",
      "ENSMUSG00000008658.16\n",
      "ENSMUSG00000115852.2\n",
      "ENSMUSG00000116029.1\n",
      "ENSMUSG00000052516.19\n",
      "ENSMUSG00000116720.1\n",
      "ENSMUSG00000022780.5\n",
      "ENSMUSG00000052504.7\n",
      "ENSMUSG00000022696.17\n",
      "ENSMUSG00000033653.18\n",
      "ENSMUSG00000022538.20\n",
      "ENSMUSG00000043391.10\n",
      "ENSMUSG00000022867.10\n",
      "ENSMUSG00000005958.15\n",
      "ENSMUSG00000022842.18\n",
      "ENSMUSG00000035376.10\n",
      "ENSMUSG00000038168.5\n",
      "ENSMUSG00000068196.5\n",
      "ENSMUSG00000033149.17\n",
      "ENSMUSG00000116574.1\n",
      "ENSMUSG00000093575.1\n",
      "ENSMUSG00000022519.14\n",
      "ENSMUSG00000040732.20\n",
      "ENSMUSG00000022887.9\n",
      "ENSMUSG00000050783.5\n",
      "ENSMUSG00000087526.2\n",
      "ENSMUSG00000035107.13\n",
      "ENSMUSG00000022885.16\n",
      "ENSMUSG00000055370.3\n",
      "ENSMUSG00000005982.14\n",
      "ENSMUSG00000116324.1\n",
      "ENSMUSG00000022723.16\n",
      "ENSMUSG00000117179.1\n",
      "ENSMUSG00000061751.16\n",
      "ENSMUSG00000116555.1\n",
      "ENSMUSG00000048490.14\n",
      "ENSMUSG00000035629.19\n",
      "ENSMUSG00000041957.15\n",
      "ENSMUSG00000033618.7\n",
      "ENSMUSG00000022836.11\n",
      "ENSMUSG00000036304.14\n",
      "ENSMUSG00000085499.1\n",
      "ENSMUSG00000022957.20\n",
      "ENSMUSG00000040605.7\n",
      "ENSMUSG00000022951.16\n",
      "ENSMUSG00000033355.6\n",
      "ENSMUSG00000022508.5\n",
      "ENSMUSG00000022510.14\n",
      "ENSMUSG00000068617.5\n",
      "ENSMUSG00000116930.1\n",
      "ENSMUSG00000101481.1\n",
      "ENSMUSG00000018830.10\n",
      "ENSMUSG00000032965.11\n",
      "ENSMUSG00000009569.14\n",
      "ENSMUSG00000052133.16\n",
      "ENSMUSG00000039680.10\n",
      "ENSMUSG00000022802.2\n",
      "ENSMUSG00000087141.1\n",
      "ENSMUSG00000062901.3\n",
      "ENSMUSG00000043008.9\n",
      "ENSMUSG00000092545.7\n",
      "ENSMUSG00000116933.1\n",
      "ENSMUSG00000116976.1\n",
      "ENSMUSG00000071552.5\n",
      "ENSMUSG00000115869.1\n",
      "ENSMUSG00000116610.1\n",
      "ENSMUSG00000022952.17\n",
      "ENSMUSG00000022755.4\n",
      "ENSMUSG00000005983.15\n",
      "ENSMUSG00000022533.14\n",
      "ENSMUSG00000022657.9\n",
      "ENSMUSG00000116885.1\n",
      "ENSMUSG00000022894.6\n",
      "ENSMUSG00000116469.1\n",
      "ENSMUSG00000022892.11\n",
      "ENSMUSG00000000325.16\n",
      "ENSMUSG00000022865.14\n",
      "ENSMUSG00000116588.1\n",
      "ENSMUSG00000022665.15\n",
      "ENSMUSG00000062082.16\n",
      "ENSMUSG00000022791.18\n",
      "ENSMUSG00000097307.1\n",
      "ENSMUSG00000033210.16\n",
      "ENSMUSG00000022848.8\n",
      "ENSMUSG00000035506.16\n",
      "ENSMUSG00000062609.14\n",
      "ENSMUSG00000075254.12\n",
      "ENSMUSG00000022747.17\n",
      "ENSMUSG00000116290.1\n",
      "ENSMUSG00000085826.1\n",
      "ENSMUSG00000116641.1\n",
      "ENSMUSG00000022704.15\n",
      "ENSMUSG00000116589.1\n",
      "ENSMUSG00000051980.13\n",
      "ENSMUSG00000022895.16\n",
      "ENSMUSG00000079546.1\n",
      "ENSMUSG00000116848.1\n",
      "ENSMUSG00000075704.16\n",
      "ENSMUSG00000097551.1\n",
      "ENSMUSG00000117324.1\n",
      "ENSMUSG00000033157.17\n",
      "ENSMUSG00000022876.18\n",
      "ENSMUSG00000022801.13\n",
      "ENSMUSG00000046961.8\n",
      "ENSMUSG00000046613.19\n",
      "ENSMUSG00000023088.17\n",
      "ENSMUSG00000078489.2\n",
      "ENSMUSG00000087605.1\n",
      "ENSMUSG00000030775.10\n",
      "ENSMUSG00000039179.13\n",
      "ENSMUSG00000116755.1\n",
      "ENSMUSG00000087384.1\n",
      "ENSMUSG00000022816.11\n",
      "ENSMUSG00000068284.14\n",
      "ENSMUSG00000022793.17\n",
      "ENSMUSG00000102967.1\n",
      "ENSMUSG00000083505.1\n",
      "ENSMUSG00000039903.17\n",
      "ENSMUSG00000116894.1\n",
      "ENSMUSG00000115219.2\n",
      "ENSMUSG00000116865.1\n",
      "ENSMUSG00000022863.15\n",
      "ENSMUSG00000022753.15\n",
      "ENSMUSG00000033581.17\n",
      "ENSMUSG00000116654.1\n",
      "ENSMUSG00000089874.1\n",
      "ENSMUSG00000022898.13\n",
      "ENSMUSG00000035356.17\n",
      "ENSMUSG00000049076.11\n",
      "ENSMUSG00000076039.1\n",
      "ENSMUSG00000055972.5\n",
      "ENSMUSG00000116689.1\n",
      "ENSMUSG00000085732.1\n",
      "ENSMUSG00000022964.14\n",
      "ENSMUSG00000003531.15\n",
      "ENSMUSG00000022799.4\n",
      "ENSMUSG00000022711.16\n",
      "ENSMUSG00000109783.1\n",
      "ENSMUSG00000043065.12\n",
      "ENSMUSG00000076372.2\n",
      "ENSMUSG00000068167.6\n",
      "ENSMUSG00000096960.1\n",
      "ENSMUSG00000022661.14\n",
      "ENSMUSG00000109857.1\n",
      "ENSMUSG00000116747.1\n",
      "ENSMUSG00000108903.1\n",
      "ENSMUSG00000022938.8\n",
      "ENSMUSG00000003526.12\n",
      "ENSMUSG00000022832.11\n",
      "ENSMUSG00000045275.16\n",
      "ENSMUSG00000048939.13\n",
      "ENSMUSG00000022821.13\n",
      "ENSMUSG00000038094.15\n",
      "ENSMUSG00000065494.1\n",
      "ENSMUSG00000117309.1\n",
      "ENSMUSG00000008393.9\n",
      "ENSMUSG00000103049.1\n",
      "ENSMUSG00000022512.3\n",
      "ENSMUSG00000000157.16\n",
      "ENSMUSG00000101463.1\n",
      "ENSMUSG00000099968.7\n",
      "ENSMUSG00000116937.1\n",
      "ENSMUSG00000116665.1\n",
      "ENSMUSG00000096918.2\n",
      "ENSMUSG00000022663.3\n",
      "ENSMUSG00000075395.11\n",
      "ENSMUSG00000102854.1\n",
      "ENSMUSG00000103932.1\n",
      "ENSMUSG00000022639.14\n",
      "ENSMUSG00000055447.19\n",
      "ENSMUSG00000096870.2\n",
      "ENSMUSG00000099293.1\n",
      "ENSMUSG00000025610.7\n",
      "ENSMUSG00000022864.14\n",
      "ENSMUSG00000068428.7\n",
      "ENSMUSG00000089774.2\n",
      "ENSMUSG00000022664.11\n",
      "ENSMUSG00000116684.1\n",
      "ENSMUSG00000116173.1\n",
      "ENSMUSG00000022754.6\n",
      "ENSMUSG00000034473.14\n",
      "ENSMUSG00000116536.1\n",
      "ENSMUSG00000102344.1\n",
      "ENSMUSG00000022658.10\n",
      "ENSMUSG00000003955.8\n",
      "ENSMUSG00000005899.14\n",
      "ENSMUSG00000075033.4\n",
      "ENSMUSG00000097764.1\n",
      "ENSMUSG00000045178.10\n",
      "ENSMUSG00000076064.1\n",
      "ENSMUSG00000116714.1\n",
      "ENSMUSG00000004366.4\n",
      "ENSMUSG00000038127.14\n",
      "ENSMUSG00000039789.7\n",
      "ENSMUSG00000075265.4\n",
      "ENSMUSG00000000386.16\n",
      "ENSMUSG00000115936.1\n",
      "ENSMUSG00000022680.14\n",
      "ENSMUSG00000044117.12\n",
      "ENSMUSG00000116752.1\n",
      "ENSMUSG00000116557.1\n",
      "ENSMUSG00000022900.14\n",
      "ENSMUSG00000022822.16\n",
      "ENSMUSG00000103916.1\n",
      "ENSMUSG00000116831.1\n",
      "ENSMUSG00000116766.1\n",
      "ENSMUSG00000071550.14\n",
      "ENSMUSG00000022949.9\n",
      "ENSMUSG00000089607.1\n",
      "ENSMUSG00000037991.9\n",
      "ENSMUSG00000004069.17\n",
      "ENSMUSG00000022548.14\n",
      "ENSMUSG00000022525.13\n",
      "ENSMUSG00000072419.5\n",
      "ENSMUSG00000000028.15\n",
      "ENSMUSG00000000385.8\n",
      "ENSMUSG00000022827.14\n",
      "ENSMUSG00000022962.15\n",
      "ENSMUSG00000091243.2\n",
      "ENSMUSG00000116964.1\n"
     ]
    }
   ],
   "source": [
    "for gene in genes:\n",
    "    print(gene)\n",
    "    check_path = output_dir / f'{gene}.DMR_cluster.msg'\n",
    "    if check_path.exists():\n",
    "        continue\n",
    "    \n",
    "    dmr_annotation = get_annotation(gene)\n",
    "    dmr_annotation.to_msgpack(output_dir / f'{gene}.DMR_detail.msg', compress='zlib')\n",
    "    \n",
    "    cluster_annotation = dmr_annotation.groupby('leiden').mean()\n",
    "    cluster_annotation.to_msgpack(output_dir / f'{gene}.DMR_cluster.msg', compress='zlib')"
   ]
  },
  {
   "cell_type": "code",
   "execution_count": null,
   "metadata": {
    "papermill": {},
    "scrolled": false,
    "tags": []
   },
   "outputs": [],
   "source": []
  },
  {
   "cell_type": "code",
   "execution_count": null,
   "metadata": {
    "papermill": {},
    "scrolled": true,
    "tags": []
   },
   "outputs": [],
   "source": []
  },
  {
   "cell_type": "code",
   "execution_count": null,
   "metadata": {
    "papermill": {},
    "tags": []
   },
   "outputs": [],
   "source": []
  },
  {
   "cell_type": "code",
   "execution_count": null,
   "metadata": {
    "papermill": {},
    "tags": []
   },
   "outputs": [],
   "source": []
  },
  {
   "cell_type": "code",
   "execution_count": null,
   "metadata": {
    "papermill": {},
    "tags": []
   },
   "outputs": [],
   "source": []
  },
  {
   "cell_type": "code",
   "execution_count": null,
   "metadata": {
    "papermill": {},
    "tags": []
   },
   "outputs": [],
   "source": []
  },
  {
   "cell_type": "code",
   "execution_count": null,
   "metadata": {
    "papermill": {},
    "tags": []
   },
   "outputs": [],
   "source": []
  },
  {
   "cell_type": "code",
   "execution_count": null,
   "metadata": {
    "papermill": {},
    "tags": []
   },
   "outputs": [],
   "source": []
  },
  {
   "cell_type": "code",
   "execution_count": null,
   "metadata": {
    "papermill": {},
    "tags": []
   },
   "outputs": [],
   "source": []
  },
  {
   "cell_type": "code",
   "execution_count": null,
   "metadata": {
    "papermill": {},
    "tags": []
   },
   "outputs": [],
   "source": []
  },
  {
   "cell_type": "code",
   "execution_count": null,
   "metadata": {
    "papermill": {},
    "tags": []
   },
   "outputs": [],
   "source": []
  },
  {
   "cell_type": "code",
   "execution_count": null,
   "metadata": {
    "papermill": {},
    "tags": []
   },
   "outputs": [],
   "source": []
  },
  {
   "cell_type": "code",
   "execution_count": null,
   "metadata": {
    "papermill": {},
    "tags": []
   },
   "outputs": [],
   "source": []
  },
  {
   "cell_type": "code",
   "execution_count": null,
   "metadata": {
    "papermill": {},
    "tags": []
   },
   "outputs": [],
   "source": []
  },
  {
   "cell_type": "code",
   "execution_count": null,
   "metadata": {
    "papermill": {},
    "tags": []
   },
   "outputs": [],
   "source": []
  },
  {
   "cell_type": "code",
   "execution_count": null,
   "metadata": {
    "papermill": {},
    "tags": []
   },
   "outputs": [],
   "source": []
  },
  {
   "cell_type": "code",
   "execution_count": null,
   "metadata": {
    "papermill": {},
    "tags": []
   },
   "outputs": [],
   "source": []
  }
 ],
 "metadata": {
  "hide_input": false,
  "kernelspec": {
   "display_name": "Python 3",
   "language": "python",
   "name": "python3"
  },
  "language_info": {
   "codemirror_mode": {
    "name": "ipython",
    "version": 3
   },
   "file_extension": ".py",
   "mimetype": "text/x-python",
   "name": "python",
   "nbconvert_exporter": "python",
   "pygments_lexer": "ipython3",
   "version": "3.7.3"
  },
  "papermill": {
   "environment_variables": {},
   "input_path": "DMRClustering_batch_per_chrom.ipynb",
   "output_path": "DMRCluster/DMRClustering_batch_per_chrom.chr16.ipynb",
   "parameters": {
    "chrom": "chr16",
    "genes": [
     "ENSMUSG00000057880.12",
     "ENSMUSG00000022685.9",
     "ENSMUSG00000043811.5",
     "ENSMUSG00000022840.9",
     "ENSMUSG00000047434.14",
     "ENSMUSG00000033306.15",
     "ENSMUSG00000050272.10",
     "ENSMUSG00000022790.14",
     "ENSMUSG00000053414.8",
     "ENSMUSG00000022494.15",
     "ENSMUSG00000086175.2",
     "ENSMUSG00000043301.16",
     "ENSMUSG00000090386.10",
     "ENSMUSG00000090223.2",
     "ENSMUSG00000051065.9",
     "ENSMUSG00000025612.5",
     "ENSMUSG00000035258.15",
     "ENSMUSG00000022656.15",
     "ENSMUSG00000022514.14",
     "ENSMUSG00000022861.17",
     "ENSMUSG00000035270.15",
     "ENSMUSG00000022762.18",
     "ENSMUSG00000048399.4",
     "ENSMUSG00000022687.12",
     "ENSMUSG00000047261.9",
     "ENSMUSG00000074892.9",
     "ENSMUSG00000117081.1",
     "ENSMUSG00000065979.12",
     "ENSMUSG00000055540.15",
     "ENSMUSG00000117000.1",
     "ENSMUSG00000022844.8",
     "ENSMUSG00000022701.18",
     "ENSMUSG00000022641.15",
     "ENSMUSG00000022637.11",
     "ENSMUSG00000115293.2",
     "ENSMUSG00000022537.18",
     "ENSMUSG00000022636.13",
     "ENSMUSG00000013089.15",
     "ENSMUSG00000005615.15",
     "ENSMUSG00000008658.16",
     "ENSMUSG00000115852.2",
     "ENSMUSG00000116029.1",
     "ENSMUSG00000052516.19",
     "ENSMUSG00000116720.1",
     "ENSMUSG00000022780.5",
     "ENSMUSG00000052504.7",
     "ENSMUSG00000022696.17",
     "ENSMUSG00000033653.18",
     "ENSMUSG00000022538.20",
     "ENSMUSG00000043391.10",
     "ENSMUSG00000022867.10",
     "ENSMUSG00000005958.15",
     "ENSMUSG00000022842.18",
     "ENSMUSG00000035376.10",
     "ENSMUSG00000038168.5",
     "ENSMUSG00000068196.5",
     "ENSMUSG00000033149.17",
     "ENSMUSG00000116574.1",
     "ENSMUSG00000093575.1",
     "ENSMUSG00000022519.14",
     "ENSMUSG00000040732.20",
     "ENSMUSG00000022887.9",
     "ENSMUSG00000050783.5",
     "ENSMUSG00000087526.2",
     "ENSMUSG00000035107.13",
     "ENSMUSG00000022885.16",
     "ENSMUSG00000055370.3",
     "ENSMUSG00000005982.14",
     "ENSMUSG00000116324.1",
     "ENSMUSG00000022723.16",
     "ENSMUSG00000117179.1",
     "ENSMUSG00000061751.16",
     "ENSMUSG00000116555.1",
     "ENSMUSG00000048490.14",
     "ENSMUSG00000035629.19",
     "ENSMUSG00000041957.15",
     "ENSMUSG00000033618.7",
     "ENSMUSG00000022836.11",
     "ENSMUSG00000036304.14",
     "ENSMUSG00000085499.1",
     "ENSMUSG00000022957.20",
     "ENSMUSG00000040605.7",
     "ENSMUSG00000022951.16",
     "ENSMUSG00000033355.6",
     "ENSMUSG00000022508.5",
     "ENSMUSG00000022510.14",
     "ENSMUSG00000068617.5",
     "ENSMUSG00000116930.1",
     "ENSMUSG00000101481.1",
     "ENSMUSG00000018830.10",
     "ENSMUSG00000032965.11",
     "ENSMUSG00000009569.14",
     "ENSMUSG00000052133.16",
     "ENSMUSG00000039680.10",
     "ENSMUSG00000022802.2",
     "ENSMUSG00000087141.1",
     "ENSMUSG00000062901.3",
     "ENSMUSG00000043008.9",
     "ENSMUSG00000092545.7",
     "ENSMUSG00000116933.1",
     "ENSMUSG00000116976.1",
     "ENSMUSG00000071552.5",
     "ENSMUSG00000115869.1",
     "ENSMUSG00000116610.1",
     "ENSMUSG00000022952.17",
     "ENSMUSG00000022755.4",
     "ENSMUSG00000005983.15",
     "ENSMUSG00000022533.14",
     "ENSMUSG00000022657.9",
     "ENSMUSG00000116885.1",
     "ENSMUSG00000022894.6",
     "ENSMUSG00000116469.1",
     "ENSMUSG00000022892.11",
     "ENSMUSG00000000325.16",
     "ENSMUSG00000022865.14",
     "ENSMUSG00000116588.1",
     "ENSMUSG00000022665.15",
     "ENSMUSG00000062082.16",
     "ENSMUSG00000022791.18",
     "ENSMUSG00000097307.1",
     "ENSMUSG00000033210.16",
     "ENSMUSG00000022848.8",
     "ENSMUSG00000035506.16",
     "ENSMUSG00000062609.14",
     "ENSMUSG00000075254.12",
     "ENSMUSG00000022747.17",
     "ENSMUSG00000116290.1",
     "ENSMUSG00000085826.1",
     "ENSMUSG00000116641.1",
     "ENSMUSG00000022704.15",
     "ENSMUSG00000116589.1",
     "ENSMUSG00000051980.13",
     "ENSMUSG00000022895.16",
     "ENSMUSG00000079546.1",
     "ENSMUSG00000116848.1",
     "ENSMUSG00000075704.16",
     "ENSMUSG00000097551.1",
     "ENSMUSG00000117324.1",
     "ENSMUSG00000033157.17",
     "ENSMUSG00000022876.18",
     "ENSMUSG00000022801.13",
     "ENSMUSG00000046961.8",
     "ENSMUSG00000046613.19",
     "ENSMUSG00000023088.17",
     "ENSMUSG00000078489.2",
     "ENSMUSG00000087605.1",
     "ENSMUSG00000030775.10",
     "ENSMUSG00000039179.13",
     "ENSMUSG00000116755.1",
     "ENSMUSG00000087384.1",
     "ENSMUSG00000022816.11",
     "ENSMUSG00000068284.14",
     "ENSMUSG00000022793.17",
     "ENSMUSG00000102967.1",
     "ENSMUSG00000083505.1",
     "ENSMUSG00000039903.17",
     "ENSMUSG00000116894.1",
     "ENSMUSG00000115219.2",
     "ENSMUSG00000116865.1",
     "ENSMUSG00000022863.15",
     "ENSMUSG00000022753.15",
     "ENSMUSG00000033581.17",
     "ENSMUSG00000116654.1",
     "ENSMUSG00000089874.1",
     "ENSMUSG00000022898.13",
     "ENSMUSG00000035356.17",
     "ENSMUSG00000049076.11",
     "ENSMUSG00000076039.1",
     "ENSMUSG00000055972.5",
     "ENSMUSG00000116689.1",
     "ENSMUSG00000085732.1",
     "ENSMUSG00000022964.14",
     "ENSMUSG00000003531.15",
     "ENSMUSG00000022799.4",
     "ENSMUSG00000022711.16",
     "ENSMUSG00000109783.1",
     "ENSMUSG00000043065.12",
     "ENSMUSG00000076372.2",
     "ENSMUSG00000068167.6",
     "ENSMUSG00000096960.1",
     "ENSMUSG00000022661.14",
     "ENSMUSG00000109857.1",
     "ENSMUSG00000116747.1",
     "ENSMUSG00000108903.1",
     "ENSMUSG00000022938.8",
     "ENSMUSG00000003526.12",
     "ENSMUSG00000022832.11",
     "ENSMUSG00000045275.16",
     "ENSMUSG00000048939.13",
     "ENSMUSG00000022821.13",
     "ENSMUSG00000038094.15",
     "ENSMUSG00000065494.1",
     "ENSMUSG00000117309.1",
     "ENSMUSG00000008393.9",
     "ENSMUSG00000103049.1",
     "ENSMUSG00000022512.3",
     "ENSMUSG00000000157.16",
     "ENSMUSG00000101463.1",
     "ENSMUSG00000099968.7",
     "ENSMUSG00000116937.1",
     "ENSMUSG00000116665.1",
     "ENSMUSG00000096918.2",
     "ENSMUSG00000022663.3",
     "ENSMUSG00000075395.11",
     "ENSMUSG00000102854.1",
     "ENSMUSG00000103932.1",
     "ENSMUSG00000022639.14",
     "ENSMUSG00000055447.19",
     "ENSMUSG00000096870.2",
     "ENSMUSG00000099293.1",
     "ENSMUSG00000025610.7",
     "ENSMUSG00000022864.14",
     "ENSMUSG00000068428.7",
     "ENSMUSG00000089774.2",
     "ENSMUSG00000022664.11",
     "ENSMUSG00000116684.1",
     "ENSMUSG00000116173.1",
     "ENSMUSG00000022754.6",
     "ENSMUSG00000034473.14",
     "ENSMUSG00000116536.1",
     "ENSMUSG00000102344.1",
     "ENSMUSG00000022658.10",
     "ENSMUSG00000003955.8",
     "ENSMUSG00000005899.14",
     "ENSMUSG00000075033.4",
     "ENSMUSG00000097764.1",
     "ENSMUSG00000045178.10",
     "ENSMUSG00000076064.1",
     "ENSMUSG00000116714.1",
     "ENSMUSG00000004366.4",
     "ENSMUSG00000038127.14",
     "ENSMUSG00000039789.7",
     "ENSMUSG00000075265.4",
     "ENSMUSG00000000386.16",
     "ENSMUSG00000115936.1",
     "ENSMUSG00000022680.14",
     "ENSMUSG00000044117.12",
     "ENSMUSG00000116752.1",
     "ENSMUSG00000116557.1",
     "ENSMUSG00000022900.14",
     "ENSMUSG00000022822.16",
     "ENSMUSG00000103916.1",
     "ENSMUSG00000116831.1",
     "ENSMUSG00000116766.1",
     "ENSMUSG00000071550.14",
     "ENSMUSG00000022949.9",
     "ENSMUSG00000089607.1",
     "ENSMUSG00000037991.9",
     "ENSMUSG00000004069.17",
     "ENSMUSG00000022548.14",
     "ENSMUSG00000022525.13",
     "ENSMUSG00000072419.5",
     "ENSMUSG00000000028.15",
     "ENSMUSG00000000385.8",
     "ENSMUSG00000022827.14",
     "ENSMUSG00000022962.15",
     "ENSMUSG00000091243.2",
     "ENSMUSG00000116964.1",
     "ENSMUSG00000039637.15",
     "ENSMUSG00000046598.15",
     "ENSMUSG00000022897.15",
     "ENSMUSG00000051669.6",
     "ENSMUSG00000022875.18",
     "ENSMUSG00000022544.14",
     "ENSMUSG00000046748.8",
     "ENSMUSG00000079620.13"
    ],
    "n_pc": 10,
    "resolution": 1,
    "slop": 250000
   },
   "version": "1.0.1"
  },
  "toc": {
   "base_numbering": 1,
   "nav_menu": {},
   "number_sections": true,
   "sideBar": true,
   "skip_h1_title": true,
   "title_cell": "Table of Contents",
   "title_sidebar": "Contents",
   "toc_cell": false,
   "toc_position": {},
   "toc_section_display": true,
   "toc_window_display": true
  }
 },
 "nbformat": 4,
 "nbformat_minor": 2
}
