{
 "cells": [
  {
   "cell_type": "code",
   "execution_count": 1,
   "metadata": {
    "ExecuteTime": {
     "end_time": "2020-02-01T05:22:32.880968Z",
     "start_time": "2020-02-01T05:22:28.575015Z"
    },
    "papermill": {},
    "tags": []
   },
   "outputs": [],
   "source": [
    "import pandas as pd\n",
    "import numpy as np\n",
    "import anndata\n",
    "import scanpy as sc\n",
    "import seaborn as sns\n",
    "import matplotlib.pyplot as plt\n",
    "from matplotlib.patches import Rectangle\n",
    "from sklearn.decomposition import PCA\n",
    "from sklearn.cluster import KMeans\n",
    "import warnings\n",
    "import pathlib\n",
    "\n",
    "warnings.filterwarnings('ignore')"
   ]
  },
  {
   "cell_type": "code",
   "execution_count": 2,
   "metadata": {
    "ExecuteTime": {
     "end_time": "2020-02-01T05:22:32.888143Z",
     "start_time": "2020-02-01T05:22:32.882850Z"
    },
    "papermill": {},
    "tags": []
   },
   "outputs": [],
   "source": [
    "from matplotlib import rc\n",
    "labelsize = 6\n",
    "linewidth = 0.6\n",
    "rc('lines', linewidth=linewidth)\n",
    "rc('axes', labelsize=labelsize, linewidth=linewidth)\n",
    "rc('xtick', labelsize=labelsize)\n",
    "rc('ytick', labelsize=labelsize)\n",
    "rc('xtick.major', width=linewidth)\n",
    "rc('ytick.major', width=linewidth)\n",
    "rc('xtick.minor', width=linewidth - 0.2)\n",
    "rc('ytick.minor', width=linewidth - 0.2)"
   ]
  },
  {
   "cell_type": "code",
   "execution_count": 3,
   "metadata": {
    "ExecuteTime": {
     "end_time": "2020-02-01T05:22:32.897112Z",
     "start_time": "2020-02-01T05:22:32.892044Z"
    },
    "papermill": {},
    "tags": [
     "parameters"
    ]
   },
   "outputs": [],
   "source": [
    "chrom = 'chr2'\n",
    "genes = ['Lhx6']\n",
    "slop = 250000\n",
    "n_pc = 10\n",
    "resolution = 1"
   ]
  },
  {
   "cell_type": "code",
   "execution_count": 4,
   "metadata": {
    "ExecuteTime": {
     "end_time": "2020-02-01T05:22:32.909591Z",
     "start_time": "2020-02-01T05:22:32.899199Z"
    },
    "tags": [
     "injected-parameters"
    ]
   },
   "outputs": [],
   "source": [
    "# Parameters\n",
    "chrom = \"chr18\"\n",
    "genes = [\"ENSMUSG00000053477.17\", \"ENSMUSG00000032735.15\", \"ENSMUSG00000052713.9\", \"ENSMUSG00000046318.16\", \"ENSMUSG00000024524.17\", \"ENSMUSG00000024238.15\", \"ENSMUSG00000118257.1\", \"ENSMUSG00000060275.13\", \"ENSMUSG00000026322.9\", \"ENSMUSG00000038128.7\", \"ENSMUSG00000058881.13\", \"ENSMUSG00000025425.18\", \"ENSMUSG00000024566.10\", \"ENSMUSG00000041607.17\", \"ENSMUSG00000117764.1\", \"ENSMUSG00000044252.18\", \"ENSMUSG00000045215.16\", \"ENSMUSG00000024424.15\", \"ENSMUSG00000024236.18\", \"ENSMUSG00000024544.9\", \"ENSMUSG00000024347.16\", \"ENSMUSG00000040957.15\", \"ENSMUSG00000049411.15\", \"ENSMUSG00000036103.9\", \"ENSMUSG00000117450.1\", \"ENSMUSG00000024431.15\", \"ENSMUSG00000019647.16\", \"ENSMUSG00000050321.3\", \"ENSMUSG00000024304.14\", \"ENSMUSG00000117521.1\", \"ENSMUSG00000052928.9\", \"ENSMUSG00000024511.15\", \"ENSMUSG00000034006.17\", \"ENSMUSG00000048410.17\", \"ENSMUSG00000043079.17\", \"ENSMUSG00000086607.7\", \"ENSMUSG00000071856.10\", \"ENSMUSG00000024558.12\", \"ENSMUSG00000061013.6\", \"ENSMUSG00000036452.18\", \"ENSMUSG00000036225.15\", \"ENSMUSG00000042942.18\", \"ENSMUSG00000024590.8\", \"ENSMUSG00000057719.11\", \"ENSMUSG00000047989.11\", \"ENSMUSG00000024593.15\", \"ENSMUSG00000024597.11\", \"ENSMUSG00000024270.11\", \"ENSMUSG00000061802.6\", \"ENSMUSG00000046668.9\", \"ENSMUSG00000024601.9\", \"ENSMUSG00000024302.16\", \"ENSMUSG00000024427.7\", \"ENSMUSG00000024268.16\", \"ENSMUSG00000042705.9\", \"ENSMUSG00000117841.1\", \"ENSMUSG00000041923.15\", \"ENSMUSG00000036585.16\", \"ENSMUSG00000073565.5\", \"ENSMUSG00000033871.14\", \"ENSMUSG00000057766.14\", \"ENSMUSG00000052026.8\", \"ENSMUSG00000039529.9\", \"ENSMUSG00000044646.15\", \"ENSMUSG00000118193.1\", \"ENSMUSG00000096948.2\", \"ENSMUSG00000073551.5\", \"ENSMUSG00000046982.11\", \"ENSMUSG00000039954.9\", \"ENSMUSG00000024535.16\", \"ENSMUSG00000024507.6\", \"ENSMUSG00000056124.5\", \"ENSMUSG00000118056.1\", \"ENSMUSG00000117792.1\", \"ENSMUSG00000117891.1\", \"ENSMUSG00000000420.15\", \"ENSMUSG00000024421.16\", \"ENSMUSG00000024592.15\", \"ENSMUSG00000037013.16\", \"ENSMUSG00000056214.9\", \"ENSMUSG00000024376.7\", \"ENSMUSG00000032818.16\", \"ENSMUSG00000097043.1\", \"ENSMUSG00000024598.9\", \"ENSMUSG00000114891.1\", \"ENSMUSG00000033016.16\", \"ENSMUSG00000110211.1\", \"ENSMUSG00000097707.1\", \"ENSMUSG00000024513.16\", \"ENSMUSG00000050945.8\", \"ENSMUSG00000086312.1\", \"ENSMUSG00000037815.7\", \"ENSMUSG00000041482.17\", \"ENSMUSG00000056153.15\", \"ENSMUSG00000036880.10\", \"ENSMUSG00000117733.1\", \"ENSMUSG00000024420.9\", \"ENSMUSG00000025420.13\", \"ENSMUSG00000024546.6\", \"ENSMUSG00000024617.16\", \"ENSMUSG00000024388.10\", \"ENSMUSG00000024594.9\", \"ENSMUSG00000024260.14\", \"ENSMUSG00000051375.15\", \"ENSMUSG00000048799.8\", \"ENSMUSG00000117840.1\", \"ENSMUSG00000087597.1\", \"ENSMUSG00000118120.1\", \"ENSMUSG00000033628.15\", \"ENSMUSG00000045629.8\", \"ENSMUSG00000042834.15\", \"ENSMUSG00000024563.16\", \"ENSMUSG00000118380.1\", \"ENSMUSG00000118002.1\", \"ENSMUSG00000025880.11\", \"ENSMUSG00000024533.17\", \"ENSMUSG00000117984.1\", \"ENSMUSG00000118013.1\", \"ENSMUSG00000117968.1\", \"ENSMUSG00000117701.1\", \"ENSMUSG00000024472.9\", \"ENSMUSG00000039616.10\", \"ENSMUSG00000025427.15\", \"ENSMUSG00000117719.1\", \"ENSMUSG00000117574.1\", \"ENSMUSG00000024600.8\", \"ENSMUSG00000085800.7\", \"ENSMUSG00000040560.10\", \"ENSMUSG00000117994.1\", \"ENSMUSG00000056671.7\", \"ENSMUSG00000117895.1\", \"ENSMUSG00000041915.9\", \"ENSMUSG00000109232.1\", \"ENSMUSG00000118102.1\", \"ENSMUSG00000117852.1\", \"ENSMUSG00000035765.10\", \"ENSMUSG00000117652.1\", \"ENSMUSG00000024613.16\", \"ENSMUSG00000097222.2\", \"ENSMUSG00000118154.1\", \"ENSMUSG00000045094.8\", \"ENSMUSG00000024575.16\", \"ENSMUSG00000085055.2\", \"ENSMUSG00000024539.17\", \"ENSMUSG00000024481.5\", \"ENSMUSG00000024646.14\", \"ENSMUSG00000071847.13\", \"ENSMUSG00000024471.12\", \"ENSMUSG00000117618.1\", \"ENSMUSG00000118227.1\", \"ENSMUSG00000117919.1\", \"ENSMUSG00000096982.2\", \"ENSMUSG00000088659.1\", \"ENSMUSG00000044393.15\", \"ENSMUSG00000024542.9\", \"ENSMUSG00000118131.1\", \"ENSMUSG00000032688.9\", \"ENSMUSG00000024525.7\", \"ENSMUSG00000086333.1\", \"ENSMUSG00000024261.6\", \"ENSMUSG00000118315.1\", \"ENSMUSG00000102959.1\", \"ENSMUSG00000042514.11\", \"ENSMUSG00000090523.2\", \"ENSMUSG00000024395.9\", \"ENSMUSG00000038059.7\", \"ENSMUSG00000024528.8\", \"ENSMUSG00000102697.1\", \"ENSMUSG00000118391.1\", \"ENSMUSG00000025421.15\", \"ENSMUSG00000117732.1\", \"ENSMUSG00000054008.9\", \"ENSMUSG00000054321.7\", \"ENSMUSG00000118300.1\", \"ENSMUSG00000117478.1\", \"ENSMUSG00000097440.2\", \"ENSMUSG00000118347.1\", \"ENSMUSG00000024502.10\", \"ENSMUSG00000024413.14\", \"ENSMUSG00000025423.16\", \"ENSMUSG00000118254.1\", \"ENSMUSG00000117456.1\", \"ENSMUSG00000049090.3\", \"ENSMUSG00000118024.1\", \"ENSMUSG00000024313.8\", \"ENSMUSG00000117926.1\", \"ENSMUSG00000024383.9\", \"ENSMUSG00000036412.5\", \"ENSMUSG00000062210.13\", \"ENSMUSG00000117430.1\", \"ENSMUSG00000118202.1\", \"ENSMUSG00000055561.9\", \"ENSMUSG00000082784.1\", \"ENSMUSG00000062526.4\", \"ENSMUSG00000118365.1\", \"ENSMUSG00000118361.1\", \"ENSMUSG00000053846.5\", \"ENSMUSG00000117943.1\", \"ENSMUSG00000041258.18\", \"ENSMUSG00000024516.13\", \"ENSMUSG00000117727.1\", \"ENSMUSG00000096934.1\", \"ENSMUSG00000097593.2\", \"ENSMUSG00000002475.16\", \"ENSMUSG00000033022.8\", \"ENSMUSG00000103255.1\", \"ENSMUSG00000117864.1\", \"ENSMUSG00000117573.1\", \"ENSMUSG00000117923.1\", \"ENSMUSG00000117410.1\", \"ENSMUSG00000073532.3\", \"ENSMUSG00000118362.1\", \"ENSMUSG00000089744.2\", \"ENSMUSG00000044176.12\", \"ENSMUSG00000099157.1\", \"ENSMUSG00000024647.14\", \"ENSMUSG00000118108.1\", \"ENSMUSG00000024556.4\", \"ENSMUSG00000024480.9\", \"ENSMUSG00000085289.1\", \"ENSMUSG00000050875.11\", \"ENSMUSG00000024486.6\", \"ENSMUSG00000104521.1\", \"ENSMUSG00000024515.13\", \"ENSMUSG00000118094.1\", \"ENSMUSG00000024505.16\"]\n",
    "slop = 250000\n",
    "n_pc = 10\n",
    "resolution = 1\n"
   ]
  },
  {
   "cell_type": "code",
   "execution_count": 5,
   "metadata": {
    "ExecuteTime": {
     "end_time": "2020-02-01T05:22:32.913606Z",
     "start_time": "2020-02-01T05:22:32.911372Z"
    },
    "papermill": {},
    "tags": []
   },
   "outputs": [],
   "source": [
    "output_dir = pathlib.Path(chrom)\n",
    "output_dir.mkdir(exist_ok=True)"
   ]
  },
  {
   "cell_type": "markdown",
   "metadata": {
    "papermill": {},
    "tags": []
   },
   "source": [
    "## Cell Meta"
   ]
  },
  {
   "cell_type": "code",
   "execution_count": 6,
   "metadata": {
    "ExecuteTime": {
     "end_time": "2020-02-01T05:22:33.430157Z",
     "start_time": "2020-02-01T05:22:32.914931Z"
    },
    "papermill": {},
    "tags": []
   },
   "outputs": [
    {
     "data": {
      "text/plain": [
       "145"
      ]
     },
     "execution_count": 6,
     "metadata": {},
     "output_type": "execute_result"
    }
   ],
   "source": [
    "cell_tidy_data = pd.read_msgpack(\n",
    "    '/home/hanliu/project/mouse_rostral_brain/study/ClusteringSummary/Summary/TotalClusteringResults.msg'\n",
    ")\n",
    "use_clusters = [\n",
    "    i.replace(' ', '_') for i in cell_tidy_data[cell_tidy_data['CellClass'].isin(['Exc', 'Inh'])]\n",
    "    ['SubType'].unique() if 'Outlier' not in i\n",
    "]\n",
    "len(use_clusters)"
   ]
  },
  {
   "cell_type": "markdown",
   "metadata": {
    "papermill": {},
    "tags": []
   },
   "source": [
    "## ATAC peaks"
   ]
  },
  {
   "cell_type": "code",
   "execution_count": 7,
   "metadata": {
    "ExecuteTime": {
     "end_time": "2020-02-01T05:22:49.072318Z",
     "start_time": "2020-02-01T05:22:33.433015Z"
    },
    "papermill": {},
    "tags": []
   },
   "outputs": [],
   "source": [
    "atac_peak = pd.read_msgpack('/home/hanliu/project/mouse_rostral_brain/study/DMRCluster/SubType.ATAC_peak_merged.msg')\n",
    "atac_peak = atac_peak.loc[atac_peak.index.map(lambda i: i.startswith(f'Sub{chrom}_'))].copy()"
   ]
  },
  {
   "cell_type": "markdown",
   "metadata": {
    "papermill": {},
    "tags": []
   },
   "source": [
    "## Gene Info"
   ]
  },
  {
   "cell_type": "code",
   "execution_count": 8,
   "metadata": {
    "ExecuteTime": {
     "end_time": "2020-02-01T05:22:49.474979Z",
     "start_time": "2020-02-01T05:22:49.075201Z"
    },
    "papermill": {},
    "tags": []
   },
   "outputs": [],
   "source": [
    "gene_meta = pd.read_csv(\n",
    "    '/home/hanliu/ref/mouse/gencode/vm22/gencode.vM22.annotation.gene.flat.tsv.gz',\n",
    "    index_col='gene_id', sep='\\t'\n",
    ")\n",
    "gene_meta = gene_meta[gene_meta['chrom'] == chrom].copy()"
   ]
  },
  {
   "cell_type": "code",
   "execution_count": 9,
   "metadata": {
    "ExecuteTime": {
     "end_time": "2020-02-01T05:22:50.207396Z",
     "start_time": "2020-02-01T05:22:49.476775Z"
    },
    "papermill": {},
    "tags": []
   },
   "outputs": [],
   "source": [
    "exon_bed = pd.read_csv('/home/hanliu/ref/mouse/gencode/vm22/genome_anno/exon.all.bed',\n",
    "                       header=None, sep='\\t')\n",
    "exon_bed.columns = ['chrom', 'start', 'end', 'gene_id', 'gene_name']"
   ]
  },
  {
   "cell_type": "markdown",
   "metadata": {
    "ExecuteTime": {
     "end_time": "2020-01-30T20:50:32.972616Z",
     "start_time": "2020-01-30T20:50:26.232994Z"
    },
    "papermill": {},
    "tags": []
   },
   "source": [
    "## DMR Info"
   ]
  },
  {
   "cell_type": "code",
   "execution_count": 10,
   "metadata": {
    "ExecuteTime": {
     "end_time": "2020-02-01T05:25:03.378252Z",
     "start_time": "2020-02-01T05:22:50.210642Z"
    },
    "papermill": {},
    "tags": []
   },
   "outputs": [],
   "source": [
    "with pd.HDFStore('/home/hanliu/project/mouse_rostral_brain/DMR/SubType/Total/DMRInfo.h5', 'r') as hdf:\n",
    "    dmr_rate = hdf['Rate']\n",
    "dmr_rate = dmr_rate.loc[dmr_rate.index.map(lambda i: i.startswith(f'Sub{chrom}_'))].copy()\n",
    "\n",
    "dmr_corr = pd.read_msgpack(\n",
    "    '/home/hanliu/project/mouse_rostral_brain/study/DMRGeneCorr/TotalGeneDMRCorrLoop.0.3.msg'\n",
    ")\n",
    "dmr_corr = dmr_corr.set_index(['DMR', 'Gene'])\n",
    "dmr_corr = dmr_corr.loc[dmr_corr.index.get_level_values('DMR').isin(dmr_rate.index)].copy()\n",
    "\n",
    "dmr_bed = pd.read_csv('/home/hanliu/project/mouse_rostral_brain/DMR/SubType/Total/TotalDMR.nofilter.bed',\n",
    "                      sep='\\t', header=None, index_col=3)\n",
    "dmr_bed.columns = ['chrom', 'start', 'end']\n",
    "dmr_bed = dmr_bed[dmr_bed['chrom'] == chrom].copy()\n",
    "\n",
    "dmr_hits = anndata.read_h5ad('/home/hanliu/project/mouse_rostral_brain/DMR/SubType/Total/TotalHits.HypoDMR.h5ad')\n",
    "dmr_hits = dmr_hits[dmr_rate.index, :].copy()\n",
    "dmr_hits = dmr_hits[:, use_clusters].copy()\n",
    "\n",
    "dmr_annot = anndata.read_h5ad('/home/hanliu/project/mouse_rostral_brain/DMR/SubType/Total/DMRAnnotation.h5ad')\n",
    "dmr_annot = dmr_annot[dmr_rate.index, :].copy()"
   ]
  },
  {
   "cell_type": "code",
   "execution_count": 11,
   "metadata": {
    "ExecuteTime": {
     "end_time": "2020-02-01T05:25:03.395846Z",
     "start_time": "2020-02-01T05:25:03.383617Z"
    },
    "papermill": {},
    "tags": []
   },
   "outputs": [
    {
     "data": {
      "text/plain": [
       "159776"
      ]
     },
     "execution_count": 11,
     "metadata": {},
     "output_type": "execute_result"
    }
   ],
   "source": [
    "dmr_hits.shape[0]"
   ]
  },
  {
   "cell_type": "code",
   "execution_count": 12,
   "metadata": {
    "ExecuteTime": {
     "end_time": "2020-02-01T05:25:03.408507Z",
     "start_time": "2020-02-01T05:25:03.398666Z"
    },
    "papermill": {},
    "tags": []
   },
   "outputs": [],
   "source": [
    "def get_gene(gene_id):\n",
    "    _gene = gene_meta.loc[gene_id]\n",
    "    return _gene.name, _gene['chrom'], _gene['start'], _gene['end'], _gene['strand']"
   ]
  },
  {
   "cell_type": "markdown",
   "metadata": {
    "papermill": {},
    "tags": []
   },
   "source": [
    "## Gene's DMR clustering"
   ]
  },
  {
   "cell_type": "code",
   "execution_count": 13,
   "metadata": {
    "ExecuteTime": {
     "end_time": "2020-02-01T05:25:04.098198Z",
     "start_time": "2020-02-01T05:25:03.411313Z"
    },
    "papermill": {},
    "scrolled": true,
    "tags": []
   },
   "outputs": [],
   "source": [
    "def calculate_gene(gene_id):\n",
    "    # get gene information\n",
    "    gene_id, _, gene_start, gene_end, _ = get_gene(gene_id)\n",
    "\n",
    "    # select related DMRs\n",
    "    related_dmr = dmr_bed[(dmr_bed['start'] > gene_start - slop) &\n",
    "                          (dmr_bed['end'] < gene_end + slop)].copy()\n",
    "    \n",
    "    related_dmr_rate = dmr_rate.loc[related_dmr.index, use_clusters].copy()\n",
    "    related_dmr_rate.fillna(related_dmr_rate.mean(), axis=0, inplace=True)\n",
    "    \n",
    "    # construct Adata\n",
    "    adata = anndata.AnnData(X=related_dmr_rate.values.copy(),\n",
    "                            obs=pd.DataFrame([], related_dmr_rate.index),\n",
    "                            var=pd.DataFrame([], related_dmr_rate.columns))\n",
    "    sc.pp.scale(adata)\n",
    "    sc.pp.pca(adata)\n",
    "    \n",
    "    pcs = adata.obsm['X_pca'][:, :n_pc]\n",
    "    sc.pp.neighbors(adata, n_neighbors=int(round(np.log2(adata.shape[0]))), n_pcs=n_pc)\n",
    "    sc.tl.leiden(adata, resolution=resolution)\n",
    "    return adata.obs\n",
    "\n",
    "\n",
    "def get_annotation(gene_id):\n",
    "    gene_id, _, gene_start, gene_end, strand = get_gene(gene_id)\n",
    "    tss = gene_start if strand == '+' else gene_end\n",
    "    gene_cluster = calculate_gene(gene_id)\n",
    "    this_corr = dmr_corr[dmr_corr.index.get_level_values('Gene') == gene_id]['Corr']\n",
    "    this_corr.index = this_corr.index.droplevel('Gene')\n",
    "    gene_cluster['Corr'] = gene_cluster.index.map(this_corr).fillna(0)\n",
    "    \n",
    "    this_dmr_bed = dmr_bed.loc[gene_cluster.index]\n",
    "    dmr_center = (this_dmr_bed['end'] + this_dmr_bed['start']) / 2\n",
    "    gene_length = gene_end - gene_start\n",
    "    if strand == '+':\n",
    "        gene_cluster['reldist_tss'] = (dmr_center - gene_start) / gene_length\n",
    "    else:\n",
    "        gene_cluster['reldist_tss'] = (gene_end - dmr_center) / gene_length\n",
    "    gene_cluster['in_gene_body'] = (gene_cluster['reldist_tss'] > 0) & (gene_cluster['reldist_tss'] < 1)\n",
    "    \n",
    "    this_annot = dmr_annot[gene_cluster.index]\n",
    "    annot_df = pd.DataFrame(this_annot.X.todense(), \n",
    "                 index=this_annot.obs_names, columns=this_annot.var_names)\n",
    "    \n",
    "    # annotate TE cols\n",
    "    dna_te = annot_df.columns[20:33]\n",
    "    gene_cluster['is_dna_te'] = annot_df[dna_te].sum(axis=1) != 0\n",
    "    \n",
    "    line_te = annot_df.columns[33:39]\n",
    "    gene_cluster['is_line_te'] = annot_df[line_te].sum(axis=1) != 0\n",
    "    \n",
    "    ltr_te = annot_df.columns[39:45]\n",
    "    gene_cluster['is_ltr_te'] = annot_df[ltr_te].sum(axis=1) != 0\n",
    "    \n",
    "    sine_te = annot_df.columns[45:52]\n",
    "    gene_cluster['is_sine_te'] = annot_df[sine_te].sum(axis=1) != 0\n",
    "    \n",
    "    # this dmr within GOI's gene feature\n",
    "    gene_cluster['in_intron'] = annot_df['intron'].astype(bool) & gene_cluster['in_gene_body']\n",
    "    gene_cluster['in_exon'] = annot_df['exon'].astype(bool) & gene_cluster['in_gene_body']\n",
    "    gene_cluster['in_utr3'] = annot_df['UTR3'].astype(bool) & gene_cluster['in_gene_body']\n",
    "    gene_cluster['in_utr5'] = annot_df['UTR5'].astype(bool) & gene_cluster['in_gene_body']\n",
    "    \n",
    "    # previous mC study\n",
    "    gene_cluster['feDMR'] = annot_df['feDMR'].astype(bool)\n",
    "    gene_cluster['adultDMR'] = annot_df['adultDMR'].astype(bool)\n",
    "    \n",
    "    \n",
    "    other_profiles = []\n",
    "    # DMR hypo call in each cluster\n",
    "    this_hypo_hits = dmr_hits[gene_cluster.index]\n",
    "    hits_df = pd.DataFrame(this_hypo_hits.X.todense(), \n",
    "                 index=this_hypo_hits.obs_names, columns=this_hypo_hits.var_names)\n",
    "    hits_df.columns = hits_df.columns.map(lambda i: f'HypoDMR.{i}')\n",
    "    other_profiles.append(hits_df)\n",
    "    \n",
    "    # DMR rate\n",
    "    related_dmr_rate = dmr_rate.loc[gene_cluster['leiden'].sort_values().index, use_clusters].copy()\n",
    "    related_dmr_rate.fillna(related_dmr_rate.mean(), axis=0, inplace=True)\n",
    "    related_dmr_rate.columns = related_dmr_rate.columns.map(lambda i: f'DMRRate.{i}')\n",
    "    other_profiles.append(related_dmr_rate)\n",
    "    \n",
    "    # atac peak\n",
    "    atac_peak_df = atac_peak.loc[related_dmr_rate.index, use_clusters].copy()\n",
    "    other_profiles.append(atac_peak_df)\n",
    "    atac_peak_df.columns = atac_peak_df.columns.map(lambda i: f'ATACPeak.{i}')\n",
    "    \n",
    "    dmr_annotation = pd.concat([gene_cluster] + other_profiles, axis=1, sort=True)\n",
    "    return dmr_annotation"
   ]
  },
  {
   "cell_type": "code",
   "execution_count": 15,
   "metadata": {
    "ExecuteTime": {
     "end_time": "2020-02-01T05:52:50.455713Z",
     "start_time": "2020-02-01T05:45:13.778747Z"
    },
    "papermill": {},
    "tags": []
   },
   "outputs": [
    {
     "name": "stdout",
     "output_type": "stream",
     "text": [
      "ENSMUSG00000053477.17\n",
      "ENSMUSG00000032735.15\n",
      "ENSMUSG00000052713.9\n",
      "ENSMUSG00000046318.16\n",
      "ENSMUSG00000024524.17\n",
      "ENSMUSG00000024238.15\n",
      "ENSMUSG00000118257.1\n",
      "ENSMUSG00000060275.13\n",
      "ENSMUSG00000026322.9\n",
      "ENSMUSG00000038128.7\n",
      "ENSMUSG00000058881.13\n",
      "ENSMUSG00000025425.18\n",
      "ENSMUSG00000024566.10\n",
      "ENSMUSG00000041607.17\n",
      "ENSMUSG00000117764.1\n",
      "ENSMUSG00000044252.18\n",
      "ENSMUSG00000045215.16\n",
      "ENSMUSG00000024424.15\n",
      "ENSMUSG00000024236.18\n",
      "ENSMUSG00000024544.9\n",
      "ENSMUSG00000024347.16\n",
      "ENSMUSG00000040957.15\n",
      "ENSMUSG00000049411.15\n",
      "ENSMUSG00000036103.9\n",
      "ENSMUSG00000117450.1\n",
      "ENSMUSG00000024431.15\n",
      "ENSMUSG00000019647.16\n",
      "ENSMUSG00000050321.3\n",
      "ENSMUSG00000024304.14\n",
      "ENSMUSG00000117521.1\n",
      "ENSMUSG00000052928.9\n",
      "ENSMUSG00000024511.15\n",
      "ENSMUSG00000034006.17\n",
      "ENSMUSG00000048410.17\n",
      "ENSMUSG00000043079.17\n",
      "ENSMUSG00000086607.7\n",
      "ENSMUSG00000071856.10\n",
      "ENSMUSG00000024558.12\n",
      "ENSMUSG00000061013.6\n",
      "ENSMUSG00000036452.18\n",
      "ENSMUSG00000036225.15\n",
      "ENSMUSG00000042942.18\n",
      "ENSMUSG00000024590.8\n",
      "ENSMUSG00000057719.11\n",
      "ENSMUSG00000047989.11\n",
      "ENSMUSG00000024593.15\n",
      "ENSMUSG00000024597.11\n",
      "ENSMUSG00000024270.11\n",
      "ENSMUSG00000061802.6\n",
      "ENSMUSG00000046668.9\n",
      "ENSMUSG00000024601.9\n",
      "ENSMUSG00000024302.16\n",
      "ENSMUSG00000024427.7\n",
      "ENSMUSG00000024268.16\n",
      "ENSMUSG00000042705.9\n",
      "ENSMUSG00000117841.1\n",
      "ENSMUSG00000041923.15\n",
      "ENSMUSG00000036585.16\n",
      "ENSMUSG00000073565.5\n",
      "ENSMUSG00000033871.14\n",
      "ENSMUSG00000057766.14\n",
      "ENSMUSG00000052026.8\n",
      "ENSMUSG00000039529.9\n",
      "ENSMUSG00000044646.15\n",
      "ENSMUSG00000118193.1\n",
      "ENSMUSG00000096948.2\n",
      "ENSMUSG00000073551.5\n",
      "ENSMUSG00000046982.11\n",
      "ENSMUSG00000039954.9\n",
      "ENSMUSG00000024535.16\n",
      "ENSMUSG00000024507.6\n",
      "ENSMUSG00000056124.5\n",
      "ENSMUSG00000118056.1\n",
      "ENSMUSG00000117792.1\n",
      "ENSMUSG00000117891.1\n",
      "ENSMUSG00000000420.15\n",
      "ENSMUSG00000024421.16\n",
      "ENSMUSG00000024592.15\n",
      "ENSMUSG00000037013.16\n",
      "ENSMUSG00000056214.9\n",
      "ENSMUSG00000024376.7\n",
      "ENSMUSG00000032818.16\n",
      "ENSMUSG00000097043.1\n",
      "ENSMUSG00000024598.9\n",
      "ENSMUSG00000114891.1\n",
      "ENSMUSG00000033016.16\n",
      "ENSMUSG00000110211.1\n",
      "ENSMUSG00000097707.1\n",
      "ENSMUSG00000024513.16\n",
      "ENSMUSG00000050945.8\n",
      "ENSMUSG00000086312.1\n",
      "ENSMUSG00000037815.7\n",
      "ENSMUSG00000041482.17\n",
      "ENSMUSG00000056153.15\n",
      "ENSMUSG00000036880.10\n",
      "ENSMUSG00000117733.1\n",
      "ENSMUSG00000024420.9\n",
      "ENSMUSG00000025420.13\n",
      "ENSMUSG00000024546.6\n",
      "ENSMUSG00000024617.16\n",
      "ENSMUSG00000024388.10\n",
      "ENSMUSG00000024594.9\n",
      "ENSMUSG00000024260.14\n",
      "ENSMUSG00000051375.15\n",
      "ENSMUSG00000048799.8\n",
      "ENSMUSG00000117840.1\n",
      "ENSMUSG00000087597.1\n",
      "ENSMUSG00000118120.1\n",
      "ENSMUSG00000033628.15\n",
      "ENSMUSG00000045629.8\n",
      "ENSMUSG00000042834.15\n",
      "ENSMUSG00000024563.16\n",
      "ENSMUSG00000118380.1\n",
      "ENSMUSG00000118002.1\n",
      "ENSMUSG00000025880.11\n",
      "ENSMUSG00000024533.17\n",
      "ENSMUSG00000117984.1\n",
      "ENSMUSG00000118013.1\n",
      "ENSMUSG00000117968.1\n",
      "ENSMUSG00000117701.1\n",
      "ENSMUSG00000024472.9\n",
      "ENSMUSG00000039616.10\n",
      "ENSMUSG00000025427.15\n",
      "ENSMUSG00000117719.1\n",
      "ENSMUSG00000117574.1\n",
      "ENSMUSG00000024600.8\n",
      "ENSMUSG00000085800.7\n",
      "ENSMUSG00000040560.10\n",
      "ENSMUSG00000117994.1\n",
      "ENSMUSG00000056671.7\n",
      "ENSMUSG00000117895.1\n",
      "ENSMUSG00000041915.9\n",
      "ENSMUSG00000109232.1\n",
      "ENSMUSG00000118102.1\n",
      "ENSMUSG00000117852.1\n",
      "ENSMUSG00000035765.10\n",
      "ENSMUSG00000117652.1\n",
      "ENSMUSG00000024613.16\n",
      "ENSMUSG00000097222.2\n",
      "ENSMUSG00000118154.1\n",
      "ENSMUSG00000045094.8\n",
      "ENSMUSG00000024575.16\n",
      "ENSMUSG00000085055.2\n",
      "ENSMUSG00000024539.17\n",
      "ENSMUSG00000024481.5\n",
      "ENSMUSG00000024646.14\n",
      "ENSMUSG00000071847.13\n",
      "ENSMUSG00000024471.12\n",
      "ENSMUSG00000117618.1\n",
      "ENSMUSG00000118227.1\n",
      "ENSMUSG00000117919.1\n",
      "ENSMUSG00000096982.2\n",
      "ENSMUSG00000088659.1\n",
      "ENSMUSG00000044393.15\n",
      "ENSMUSG00000024542.9\n",
      "ENSMUSG00000118131.1\n",
      "ENSMUSG00000032688.9\n",
      "ENSMUSG00000024525.7\n",
      "ENSMUSG00000086333.1\n",
      "ENSMUSG00000024261.6\n",
      "ENSMUSG00000118315.1\n",
      "ENSMUSG00000102959.1\n",
      "ENSMUSG00000042514.11\n",
      "ENSMUSG00000090523.2\n",
      "ENSMUSG00000024395.9\n",
      "ENSMUSG00000038059.7\n",
      "ENSMUSG00000024528.8\n",
      "ENSMUSG00000102697.1\n",
      "ENSMUSG00000118391.1\n",
      "ENSMUSG00000025421.15\n",
      "ENSMUSG00000117732.1\n",
      "ENSMUSG00000054008.9\n",
      "ENSMUSG00000054321.7\n",
      "ENSMUSG00000118300.1\n",
      "ENSMUSG00000117478.1\n",
      "ENSMUSG00000097440.2\n",
      "ENSMUSG00000118347.1\n",
      "ENSMUSG00000024502.10\n",
      "ENSMUSG00000024413.14\n",
      "ENSMUSG00000025423.16\n",
      "ENSMUSG00000118254.1\n",
      "ENSMUSG00000117456.1\n",
      "ENSMUSG00000049090.3\n",
      "ENSMUSG00000118024.1\n",
      "ENSMUSG00000024313.8\n",
      "ENSMUSG00000117926.1\n",
      "ENSMUSG00000024383.9\n",
      "ENSMUSG00000036412.5\n",
      "ENSMUSG00000062210.13\n",
      "ENSMUSG00000117430.1\n",
      "ENSMUSG00000118202.1\n",
      "ENSMUSG00000055561.9\n",
      "ENSMUSG00000082784.1\n",
      "ENSMUSG00000062526.4\n",
      "ENSMUSG00000118365.1\n",
      "ENSMUSG00000118361.1\n",
      "ENSMUSG00000053846.5\n",
      "ENSMUSG00000117943.1\n",
      "ENSMUSG00000041258.18\n",
      "ENSMUSG00000024516.13\n",
      "ENSMUSG00000117727.1\n",
      "ENSMUSG00000096934.1\n",
      "ENSMUSG00000097593.2\n",
      "ENSMUSG00000002475.16\n",
      "ENSMUSG00000033022.8\n",
      "ENSMUSG00000103255.1\n",
      "ENSMUSG00000117864.1\n",
      "ENSMUSG00000117573.1\n",
      "ENSMUSG00000117923.1\n",
      "ENSMUSG00000117410.1\n",
      "ENSMUSG00000073532.3\n",
      "ENSMUSG00000118362.1\n",
      "ENSMUSG00000089744.2\n",
      "ENSMUSG00000044176.12\n",
      "ENSMUSG00000099157.1\n",
      "ENSMUSG00000024647.14\n",
      "ENSMUSG00000118108.1\n",
      "ENSMUSG00000024556.4\n",
      "ENSMUSG00000024480.9\n",
      "ENSMUSG00000085289.1\n",
      "ENSMUSG00000050875.11\n",
      "ENSMUSG00000024486.6\n",
      "ENSMUSG00000104521.1\n",
      "ENSMUSG00000024515.13\n",
      "ENSMUSG00000118094.1\n",
      "ENSMUSG00000024505.16\n"
     ]
    }
   ],
   "source": [
    "for gene in genes:\n",
    "    print(gene)\n",
    "    check_path = output_dir / f'{gene}.DMR_cluster.msg'\n",
    "    if check_path.exists():\n",
    "        continue\n",
    "    \n",
    "    dmr_annotation = get_annotation(gene)\n",
    "    dmr_annotation.to_msgpack(output_dir / f'{gene}.DMR_detail.msg', compress='zlib')\n",
    "    \n",
    "    cluster_annotation = dmr_annotation.groupby('leiden').mean()\n",
    "    cluster_annotation.to_msgpack(output_dir / f'{gene}.DMR_cluster.msg', compress='zlib')"
   ]
  },
  {
   "cell_type": "code",
   "execution_count": null,
   "metadata": {
    "papermill": {},
    "scrolled": false,
    "tags": []
   },
   "outputs": [],
   "source": []
  },
  {
   "cell_type": "code",
   "execution_count": null,
   "metadata": {
    "papermill": {},
    "scrolled": true,
    "tags": []
   },
   "outputs": [],
   "source": []
  },
  {
   "cell_type": "code",
   "execution_count": null,
   "metadata": {
    "papermill": {},
    "tags": []
   },
   "outputs": [],
   "source": []
  },
  {
   "cell_type": "code",
   "execution_count": null,
   "metadata": {
    "papermill": {},
    "tags": []
   },
   "outputs": [],
   "source": []
  },
  {
   "cell_type": "code",
   "execution_count": null,
   "metadata": {
    "papermill": {},
    "tags": []
   },
   "outputs": [],
   "source": []
  },
  {
   "cell_type": "code",
   "execution_count": null,
   "metadata": {
    "papermill": {},
    "tags": []
   },
   "outputs": [],
   "source": []
  },
  {
   "cell_type": "code",
   "execution_count": null,
   "metadata": {
    "papermill": {},
    "tags": []
   },
   "outputs": [],
   "source": []
  },
  {
   "cell_type": "code",
   "execution_count": null,
   "metadata": {
    "papermill": {},
    "tags": []
   },
   "outputs": [],
   "source": []
  },
  {
   "cell_type": "code",
   "execution_count": null,
   "metadata": {
    "papermill": {},
    "tags": []
   },
   "outputs": [],
   "source": []
  },
  {
   "cell_type": "code",
   "execution_count": null,
   "metadata": {
    "papermill": {},
    "tags": []
   },
   "outputs": [],
   "source": []
  },
  {
   "cell_type": "code",
   "execution_count": null,
   "metadata": {
    "papermill": {},
    "tags": []
   },
   "outputs": [],
   "source": []
  },
  {
   "cell_type": "code",
   "execution_count": null,
   "metadata": {
    "papermill": {},
    "tags": []
   },
   "outputs": [],
   "source": []
  },
  {
   "cell_type": "code",
   "execution_count": null,
   "metadata": {
    "papermill": {},
    "tags": []
   },
   "outputs": [],
   "source": []
  },
  {
   "cell_type": "code",
   "execution_count": null,
   "metadata": {
    "papermill": {},
    "tags": []
   },
   "outputs": [],
   "source": []
  },
  {
   "cell_type": "code",
   "execution_count": null,
   "metadata": {
    "papermill": {},
    "tags": []
   },
   "outputs": [],
   "source": []
  },
  {
   "cell_type": "code",
   "execution_count": null,
   "metadata": {
    "papermill": {},
    "tags": []
   },
   "outputs": [],
   "source": []
  },
  {
   "cell_type": "code",
   "execution_count": null,
   "metadata": {
    "papermill": {},
    "tags": []
   },
   "outputs": [],
   "source": []
  }
 ],
 "metadata": {
  "hide_input": false,
  "kernelspec": {
   "display_name": "Python 3",
   "language": "python",
   "name": "python3"
  },
  "language_info": {
   "codemirror_mode": {
    "name": "ipython",
    "version": 3
   },
   "file_extension": ".py",
   "mimetype": "text/x-python",
   "name": "python",
   "nbconvert_exporter": "python",
   "pygments_lexer": "ipython3",
   "version": "3.7.3"
  },
  "papermill": {
   "environment_variables": {},
   "input_path": "DMRClustering_batch_per_chrom.ipynb",
   "output_path": "DMRCluster/DMRClustering_batch_per_chrom.chr18.ipynb",
   "parameters": {
    "chrom": "chr18",
    "genes": [
     "ENSMUSG00000053477.17",
     "ENSMUSG00000032735.15",
     "ENSMUSG00000052713.9",
     "ENSMUSG00000046318.16",
     "ENSMUSG00000024524.17",
     "ENSMUSG00000024238.15",
     "ENSMUSG00000118257.1",
     "ENSMUSG00000060275.13",
     "ENSMUSG00000026322.9",
     "ENSMUSG00000038128.7",
     "ENSMUSG00000058881.13",
     "ENSMUSG00000025425.18",
     "ENSMUSG00000024566.10",
     "ENSMUSG00000041607.17",
     "ENSMUSG00000117764.1",
     "ENSMUSG00000044252.18",
     "ENSMUSG00000045215.16",
     "ENSMUSG00000024424.15",
     "ENSMUSG00000024236.18",
     "ENSMUSG00000024544.9",
     "ENSMUSG00000024347.16",
     "ENSMUSG00000040957.15",
     "ENSMUSG00000049411.15",
     "ENSMUSG00000036103.9",
     "ENSMUSG00000117450.1",
     "ENSMUSG00000024431.15",
     "ENSMUSG00000019647.16",
     "ENSMUSG00000050321.3",
     "ENSMUSG00000024304.14",
     "ENSMUSG00000117521.1",
     "ENSMUSG00000052928.9",
     "ENSMUSG00000024511.15",
     "ENSMUSG00000034006.17",
     "ENSMUSG00000048410.17",
     "ENSMUSG00000043079.17",
     "ENSMUSG00000086607.7",
     "ENSMUSG00000071856.10",
     "ENSMUSG00000024558.12",
     "ENSMUSG00000061013.6",
     "ENSMUSG00000036452.18",
     "ENSMUSG00000036225.15",
     "ENSMUSG00000042942.18",
     "ENSMUSG00000024590.8",
     "ENSMUSG00000057719.11",
     "ENSMUSG00000047989.11",
     "ENSMUSG00000024593.15",
     "ENSMUSG00000024597.11",
     "ENSMUSG00000024270.11",
     "ENSMUSG00000061802.6",
     "ENSMUSG00000046668.9",
     "ENSMUSG00000024601.9",
     "ENSMUSG00000024302.16",
     "ENSMUSG00000024427.7",
     "ENSMUSG00000024268.16",
     "ENSMUSG00000042705.9",
     "ENSMUSG00000117841.1",
     "ENSMUSG00000041923.15",
     "ENSMUSG00000036585.16",
     "ENSMUSG00000073565.5",
     "ENSMUSG00000033871.14",
     "ENSMUSG00000057766.14",
     "ENSMUSG00000052026.8",
     "ENSMUSG00000039529.9",
     "ENSMUSG00000044646.15",
     "ENSMUSG00000118193.1",
     "ENSMUSG00000096948.2",
     "ENSMUSG00000073551.5",
     "ENSMUSG00000046982.11",
     "ENSMUSG00000039954.9",
     "ENSMUSG00000024535.16",
     "ENSMUSG00000024507.6",
     "ENSMUSG00000056124.5",
     "ENSMUSG00000118056.1",
     "ENSMUSG00000117792.1",
     "ENSMUSG00000117891.1",
     "ENSMUSG00000000420.15",
     "ENSMUSG00000024421.16",
     "ENSMUSG00000024592.15",
     "ENSMUSG00000037013.16",
     "ENSMUSG00000056214.9",
     "ENSMUSG00000024376.7",
     "ENSMUSG00000032818.16",
     "ENSMUSG00000097043.1",
     "ENSMUSG00000024598.9",
     "ENSMUSG00000114891.1",
     "ENSMUSG00000033016.16",
     "ENSMUSG00000110211.1",
     "ENSMUSG00000097707.1",
     "ENSMUSG00000024513.16",
     "ENSMUSG00000050945.8",
     "ENSMUSG00000086312.1",
     "ENSMUSG00000037815.7",
     "ENSMUSG00000041482.17",
     "ENSMUSG00000056153.15",
     "ENSMUSG00000036880.10",
     "ENSMUSG00000117733.1",
     "ENSMUSG00000024420.9",
     "ENSMUSG00000025420.13",
     "ENSMUSG00000024546.6",
     "ENSMUSG00000024617.16",
     "ENSMUSG00000024388.10",
     "ENSMUSG00000024594.9",
     "ENSMUSG00000024260.14",
     "ENSMUSG00000051375.15",
     "ENSMUSG00000048799.8",
     "ENSMUSG00000117840.1",
     "ENSMUSG00000087597.1",
     "ENSMUSG00000118120.1",
     "ENSMUSG00000033628.15",
     "ENSMUSG00000045629.8",
     "ENSMUSG00000042834.15",
     "ENSMUSG00000024563.16",
     "ENSMUSG00000118380.1",
     "ENSMUSG00000118002.1",
     "ENSMUSG00000025880.11",
     "ENSMUSG00000024533.17",
     "ENSMUSG00000117984.1",
     "ENSMUSG00000118013.1",
     "ENSMUSG00000117968.1",
     "ENSMUSG00000117701.1",
     "ENSMUSG00000024472.9",
     "ENSMUSG00000039616.10",
     "ENSMUSG00000025427.15",
     "ENSMUSG00000117719.1",
     "ENSMUSG00000117574.1",
     "ENSMUSG00000024600.8",
     "ENSMUSG00000085800.7",
     "ENSMUSG00000040560.10",
     "ENSMUSG00000117994.1",
     "ENSMUSG00000056671.7",
     "ENSMUSG00000117895.1",
     "ENSMUSG00000041915.9",
     "ENSMUSG00000109232.1",
     "ENSMUSG00000118102.1",
     "ENSMUSG00000117852.1",
     "ENSMUSG00000035765.10",
     "ENSMUSG00000117652.1",
     "ENSMUSG00000024613.16",
     "ENSMUSG00000097222.2",
     "ENSMUSG00000118154.1",
     "ENSMUSG00000045094.8",
     "ENSMUSG00000024575.16",
     "ENSMUSG00000085055.2",
     "ENSMUSG00000024539.17",
     "ENSMUSG00000024481.5",
     "ENSMUSG00000024646.14",
     "ENSMUSG00000071847.13",
     "ENSMUSG00000024471.12",
     "ENSMUSG00000117618.1",
     "ENSMUSG00000118227.1",
     "ENSMUSG00000117919.1",
     "ENSMUSG00000096982.2",
     "ENSMUSG00000088659.1",
     "ENSMUSG00000044393.15",
     "ENSMUSG00000024542.9",
     "ENSMUSG00000118131.1",
     "ENSMUSG00000032688.9",
     "ENSMUSG00000024525.7",
     "ENSMUSG00000086333.1",
     "ENSMUSG00000024261.6",
     "ENSMUSG00000118315.1",
     "ENSMUSG00000102959.1",
     "ENSMUSG00000042514.11",
     "ENSMUSG00000090523.2",
     "ENSMUSG00000024395.9",
     "ENSMUSG00000038059.7",
     "ENSMUSG00000024528.8",
     "ENSMUSG00000102697.1",
     "ENSMUSG00000118391.1",
     "ENSMUSG00000025421.15",
     "ENSMUSG00000117732.1",
     "ENSMUSG00000054008.9",
     "ENSMUSG00000054321.7",
     "ENSMUSG00000118300.1",
     "ENSMUSG00000117478.1",
     "ENSMUSG00000097440.2",
     "ENSMUSG00000118347.1",
     "ENSMUSG00000024502.10",
     "ENSMUSG00000024413.14",
     "ENSMUSG00000025423.16",
     "ENSMUSG00000118254.1",
     "ENSMUSG00000117456.1",
     "ENSMUSG00000049090.3",
     "ENSMUSG00000118024.1",
     "ENSMUSG00000024313.8",
     "ENSMUSG00000117926.1",
     "ENSMUSG00000024383.9",
     "ENSMUSG00000036412.5",
     "ENSMUSG00000062210.13",
     "ENSMUSG00000117430.1",
     "ENSMUSG00000118202.1",
     "ENSMUSG00000055561.9",
     "ENSMUSG00000082784.1",
     "ENSMUSG00000062526.4",
     "ENSMUSG00000118365.1",
     "ENSMUSG00000118361.1",
     "ENSMUSG00000053846.5",
     "ENSMUSG00000117943.1",
     "ENSMUSG00000041258.18",
     "ENSMUSG00000024516.13",
     "ENSMUSG00000117727.1",
     "ENSMUSG00000096934.1",
     "ENSMUSG00000097593.2",
     "ENSMUSG00000002475.16",
     "ENSMUSG00000033022.8",
     "ENSMUSG00000103255.1",
     "ENSMUSG00000117864.1",
     "ENSMUSG00000117573.1",
     "ENSMUSG00000117923.1",
     "ENSMUSG00000117410.1",
     "ENSMUSG00000073532.3",
     "ENSMUSG00000118362.1",
     "ENSMUSG00000089744.2",
     "ENSMUSG00000044176.12",
     "ENSMUSG00000099157.1",
     "ENSMUSG00000024647.14",
     "ENSMUSG00000118108.1",
     "ENSMUSG00000024556.4",
     "ENSMUSG00000024480.9",
     "ENSMUSG00000085289.1",
     "ENSMUSG00000050875.11",
     "ENSMUSG00000024486.6",
     "ENSMUSG00000104521.1",
     "ENSMUSG00000024515.13",
     "ENSMUSG00000118094.1",
     "ENSMUSG00000024505.16"
    ],
    "n_pc": 10,
    "resolution": 1,
    "slop": 250000
   },
   "version": "1.0.1"
  },
  "toc": {
   "base_numbering": 1,
   "nav_menu": {},
   "number_sections": true,
   "sideBar": true,
   "skip_h1_title": true,
   "title_cell": "Table of Contents",
   "title_sidebar": "Contents",
   "toc_cell": false,
   "toc_position": {},
   "toc_section_display": true,
   "toc_window_display": true
  }
 },
 "nbformat": 4,
 "nbformat_minor": 2
}
