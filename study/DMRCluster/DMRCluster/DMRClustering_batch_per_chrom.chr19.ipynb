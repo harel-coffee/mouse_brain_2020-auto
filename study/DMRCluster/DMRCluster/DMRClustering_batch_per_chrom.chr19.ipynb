{
 "cells": [
  {
   "cell_type": "code",
   "execution_count": 1,
   "metadata": {
    "ExecuteTime": {
     "end_time": "2020-02-01T05:22:41.258134Z",
     "start_time": "2020-02-01T05:22:36.973176Z"
    },
    "papermill": {},
    "tags": []
   },
   "outputs": [],
   "source": [
    "import pandas as pd\n",
    "import numpy as np\n",
    "import anndata\n",
    "import scanpy as sc\n",
    "import seaborn as sns\n",
    "import matplotlib.pyplot as plt\n",
    "from matplotlib.patches import Rectangle\n",
    "from sklearn.decomposition import PCA\n",
    "from sklearn.cluster import KMeans\n",
    "import warnings\n",
    "import pathlib\n",
    "\n",
    "warnings.filterwarnings('ignore')"
   ]
  },
  {
   "cell_type": "code",
   "execution_count": 2,
   "metadata": {
    "ExecuteTime": {
     "end_time": "2020-02-01T05:22:41.265392Z",
     "start_time": "2020-02-01T05:22:41.260015Z"
    },
    "papermill": {},
    "tags": []
   },
   "outputs": [],
   "source": [
    "from matplotlib import rc\n",
    "labelsize = 6\n",
    "linewidth = 0.6\n",
    "rc('lines', linewidth=linewidth)\n",
    "rc('axes', labelsize=labelsize, linewidth=linewidth)\n",
    "rc('xtick', labelsize=labelsize)\n",
    "rc('ytick', labelsize=labelsize)\n",
    "rc('xtick.major', width=linewidth)\n",
    "rc('ytick.major', width=linewidth)\n",
    "rc('xtick.minor', width=linewidth - 0.2)\n",
    "rc('ytick.minor', width=linewidth - 0.2)"
   ]
  },
  {
   "cell_type": "code",
   "execution_count": 3,
   "metadata": {
    "ExecuteTime": {
     "end_time": "2020-02-01T05:22:41.269226Z",
     "start_time": "2020-02-01T05:22:41.266866Z"
    },
    "papermill": {},
    "tags": [
     "parameters"
    ]
   },
   "outputs": [],
   "source": [
    "chrom = 'chr2'\n",
    "genes = ['Lhx6']\n",
    "slop = 250000\n",
    "n_pc = 10\n",
    "resolution = 1"
   ]
  },
  {
   "cell_type": "code",
   "execution_count": 4,
   "metadata": {
    "ExecuteTime": {
     "end_time": "2020-02-01T05:22:41.280097Z",
     "start_time": "2020-02-01T05:22:41.270563Z"
    },
    "tags": [
     "injected-parameters"
    ]
   },
   "outputs": [],
   "source": [
    "# Parameters\n",
    "chrom = \"chr19\"\n",
    "genes = [\"ENSMUSG00000033768.17\", \"ENSMUSG00000024642.17\", \"ENSMUSG00000025020.11\", \"ENSMUSG00000025089.15\", \"ENSMUSG00000024897.9\", \"ENSMUSG00000025085.16\", \"ENSMUSG00000039901.10\", \"ENSMUSG00000040929.17\", \"ENSMUSG00000041362.17\", \"ENSMUSG00000048720.8\", \"ENSMUSG00000117897.1\", \"ENSMUSG00000024713.16\", \"ENSMUSG00000024867.14\", \"ENSMUSG00000041731.13\", \"ENSMUSG00000052942.13\", \"ENSMUSG00000024743.16\", \"ENSMUSG00000006435.16\", \"ENSMUSG00000033610.16\", \"ENSMUSG00000024798.15\", \"ENSMUSG00000058624.13\", \"ENSMUSG00000071604.5\", \"ENSMUSG00000039982.8\", \"ENSMUSG00000097930.2\", \"ENSMUSG00000025092.7\", \"ENSMUSG00000074746.3\", \"ENSMUSG00000024921.17\", \"ENSMUSG00000036278.7\", \"ENSMUSG00000024816.12\", \"ENSMUSG00000053617.12\", \"ENSMUSG00000025025.14\", \"ENSMUSG00000025189.9\", \"ENSMUSG00000074733.14\", \"ENSMUSG00000039126.10\", \"ENSMUSG00000033053.4\", \"ENSMUSG00000024754.13\", \"ENSMUSG00000009378.4\", \"ENSMUSG00000024781.16\", \"ENSMUSG00000025026.15\", \"ENSMUSG00000025090.9\", \"ENSMUSG00000024812.11\", \"ENSMUSG00000032946.16\", \"ENSMUSG00000024805.16\", \"ENSMUSG00000036192.15\", \"ENSMUSG00000024924.14\", \"ENSMUSG00000024983.10\", \"ENSMUSG00000035171.9\", \"ENSMUSG00000046324.12\", \"ENSMUSG00000025221.15\", \"ENSMUSG00000024935.11\", \"ENSMUSG00000025171.2\", \"ENSMUSG00000067577.8\", \"ENSMUSG00000067297.5\", \"ENSMUSG00000064105.13\", \"ENSMUSG00000087002.1\", \"ENSMUSG00000025195.9\", \"ENSMUSG00000069833.13\", \"ENSMUSG00000038658.15\", \"ENSMUSG00000114721.1\", \"ENSMUSG00000025231.17\", \"ENSMUSG00000024795.11\", \"ENSMUSG00000025217.15\", \"ENSMUSG00000024776.17\", \"ENSMUSG00000034765.6\", \"ENSMUSG00000057858.8\", \"ENSMUSG00000035818.14\", \"ENSMUSG00000094732.2\", \"ENSMUSG00000024677.13\", \"ENSMUSG00000024913.16\", \"ENSMUSG00000025078.9\", \"ENSMUSG00000033417.16\", \"ENSMUSG00000074925.4\", \"ENSMUSG00000032773.9\", \"ENSMUSG00000053279.8\", \"ENSMUSG00000024978.11\", \"ENSMUSG00000047787.8\", \"ENSMUSG00000041180.13\", \"ENSMUSG00000052085.7\", \"ENSMUSG00000058470.10\", \"ENSMUSG00000024727.9\", \"ENSMUSG00000024670.17\", \"ENSMUSG00000084825.1\", \"ENSMUSG00000035735.10\", \"ENSMUSG00000025076.10\", \"ENSMUSG00000025041.17\", \"ENSMUSG00000024729.7\", \"ENSMUSG00000097636.8\", \"ENSMUSG00000024785.7\", \"ENSMUSG00000118340.1\", \"ENSMUSG00000024639.5\", \"ENSMUSG00000024665.8\", \"ENSMUSG00000024678.6\", \"ENSMUSG00000025016.11\", \"ENSMUSG00000024697.4\", \"ENSMUSG00000042532.14\", \"ENSMUSG00000064202.15\", \"ENSMUSG00000071573.14\", \"ENSMUSG00000094707.2\", \"ENSMUSG00000046585.9\", \"ENSMUSG00000118150.1\", \"ENSMUSG00000035173.14\", \"ENSMUSG00000118020.1\", \"ENSMUSG00000025086.13\", \"ENSMUSG00000033863.2\", \"ENSMUSG00000052188.6\", \"ENSMUSG00000042694.17\", \"ENSMUSG00000024855.10\", \"ENSMUSG00000061742.12\", \"ENSMUSG00000035283.5\", \"ENSMUSG00000026931.10\", \"ENSMUSG00000110007.2\", \"ENSMUSG00000057240.14\", \"ENSMUSG00000086213.2\", \"ENSMUSG00000100417.2\", \"ENSMUSG00000049303.10\", \"ENSMUSG00000024786.9\", \"ENSMUSG00000024908.15\", \"ENSMUSG00000048612.16\", \"ENSMUSG00000110298.1\", \"ENSMUSG00000040022.14\", \"ENSMUSG00000118127.1\", \"ENSMUSG00000024837.15\", \"ENSMUSG00000118212.1\", \"ENSMUSG00000024664.5\", \"ENSMUSG00000025017.10\", \"ENSMUSG00000084876.7\", \"ENSMUSG00000038843.18\", \"ENSMUSG00000047731.17\", \"ENSMUSG00000024941.9\", \"ENSMUSG00000025002.5\", \"ENSMUSG00000024992.13\", \"ENSMUSG00000094584.2\", \"ENSMUSG00000063683.12\", \"ENSMUSG00000117990.1\", \"ENSMUSG00000024976.14\", \"ENSMUSG00000079419.4\", \"ENSMUSG00000035179.4\", \"ENSMUSG00000024974.10\", \"ENSMUSG00000048120.16\", \"ENSMUSG00000025077.13\", \"ENSMUSG00000046650.4\", \"ENSMUSG00000024654.8\", \"ENSMUSG00000117871.1\", \"ENSMUSG00000032702.16\", \"ENSMUSG00000024669.8\", \"ENSMUSG00000036961.5\", \"ENSMUSG00000056290.16\", \"ENSMUSG00000097740.2\", \"ENSMUSG00000052595.8\", \"ENSMUSG00000039652.16\", \"ENSMUSG00000025083.18\", \"ENSMUSG00000118293.1\", \"ENSMUSG00000060675.13\", \"ENSMUSG00000041360.8\", \"ENSMUSG00000117956.1\", \"ENSMUSG00000117655.1\", \"ENSMUSG00000048029.10\", \"ENSMUSG00000100001.1\", \"ENSMUSG00000099757.1\", \"ENSMUSG00000024937.15\", \"ENSMUSG00000045932.12\", \"ENSMUSG00000118109.1\", \"ENSMUSG00000024757.7\", \"ENSMUSG00000033033.10\", \"ENSMUSG00000117728.1\", \"ENSMUSG00000117981.1\", \"ENSMUSG00000086121.1\", \"ENSMUSG00000047368.4\", \"ENSMUSG00000025035.9\", \"ENSMUSG00000024681.11\", \"ENSMUSG00000040565.8\", \"ENSMUSG00000118273.1\", \"ENSMUSG00000025207.16\", \"ENSMUSG00000024811.11\", \"ENSMUSG00000024789.13\", \"ENSMUSG00000025200.7\", \"ENSMUSG00000024985.19\", \"ENSMUSG00000024952.13\", \"ENSMUSG00000067242.11\", \"ENSMUSG00000024691.13\", \"ENSMUSG00000117690.1\", \"ENSMUSG00000025082.8\", \"ENSMUSG00000117914.1\", \"ENSMUSG00000025091.4\", \"ENSMUSG00000059363.10\", \"ENSMUSG00000025007.13\", \"ENSMUSG00000024780.7\", \"ENSMUSG00000024900.5\", \"ENSMUSG00000025154.15\", \"ENSMUSG00000025047.9\", \"ENSMUSG00000101084.1\", \"ENSMUSG00000025094.8\", \"ENSMUSG00000101389.1\", \"ENSMUSG00000067656.13\", \"ENSMUSG00000024800.8\", \"ENSMUSG00000071633.11\", \"ENSMUSG00000061132.13\", \"ENSMUSG00000025184.10\", \"ENSMUSG00000117945.1\", \"ENSMUSG00000060049.5\", \"ENSMUSG00000034459.8\", \"ENSMUSG00000117998.1\", \"ENSMUSG00000043969.4\", \"ENSMUSG00000063796.9\", \"ENSMUSG00000101088.6\", \"ENSMUSG00000065594.1\", \"ENSMUSG00000024682.3\", \"ENSMUSG00000025197.9\", \"ENSMUSG00000097735.7\", \"ENSMUSG00000024943.9\"]\n",
    "slop = 250000\n",
    "n_pc = 10\n",
    "resolution = 1\n"
   ]
  },
  {
   "cell_type": "code",
   "execution_count": 5,
   "metadata": {
    "ExecuteTime": {
     "end_time": "2020-02-01T05:22:41.286894Z",
     "start_time": "2020-02-01T05:22:41.284643Z"
    },
    "papermill": {},
    "tags": []
   },
   "outputs": [],
   "source": [
    "output_dir = pathlib.Path(chrom)\n",
    "output_dir.mkdir(exist_ok=True)"
   ]
  },
  {
   "cell_type": "markdown",
   "metadata": {
    "papermill": {},
    "tags": []
   },
   "source": [
    "## Cell Meta"
   ]
  },
  {
   "cell_type": "code",
   "execution_count": 6,
   "metadata": {
    "ExecuteTime": {
     "end_time": "2020-02-01T05:22:42.796926Z",
     "start_time": "2020-02-01T05:22:41.288266Z"
    },
    "papermill": {},
    "tags": []
   },
   "outputs": [
    {
     "data": {
      "text/plain": [
       "145"
      ]
     },
     "execution_count": 6,
     "metadata": {},
     "output_type": "execute_result"
    }
   ],
   "source": [
    "cell_tidy_data = pd.read_msgpack(\n",
    "    '/home/hanliu/project/mouse_rostral_brain/study/ClusteringSummary/Summary/TotalClusteringResults.msg'\n",
    ")\n",
    "use_clusters = [\n",
    "    i.replace(' ', '_') for i in cell_tidy_data[cell_tidy_data['CellClass'].isin(['Exc', 'Inh'])]\n",
    "    ['SubType'].unique() if 'Outlier' not in i\n",
    "]\n",
    "len(use_clusters)"
   ]
  },
  {
   "cell_type": "markdown",
   "metadata": {
    "papermill": {},
    "tags": []
   },
   "source": [
    "## ATAC peaks"
   ]
  },
  {
   "cell_type": "code",
   "execution_count": 7,
   "metadata": {
    "ExecuteTime": {
     "end_time": "2020-02-01T05:22:58.806117Z",
     "start_time": "2020-02-01T05:22:42.800593Z"
    },
    "papermill": {},
    "tags": []
   },
   "outputs": [],
   "source": [
    "atac_peak = pd.read_msgpack('/home/hanliu/project/mouse_rostral_brain/study/DMRCluster/SubType.ATAC_peak_merged.msg')\n",
    "atac_peak = atac_peak.loc[atac_peak.index.map(lambda i: i.startswith(f'Sub{chrom}_'))].copy()"
   ]
  },
  {
   "cell_type": "markdown",
   "metadata": {
    "papermill": {},
    "tags": []
   },
   "source": [
    "## Gene Info"
   ]
  },
  {
   "cell_type": "code",
   "execution_count": 8,
   "metadata": {
    "ExecuteTime": {
     "end_time": "2020-02-01T05:22:59.129125Z",
     "start_time": "2020-02-01T05:22:58.810272Z"
    },
    "papermill": {},
    "tags": []
   },
   "outputs": [],
   "source": [
    "gene_meta = pd.read_csv(\n",
    "    '/home/hanliu/ref/mouse/gencode/vm22/gencode.vM22.annotation.gene.flat.tsv.gz',\n",
    "    index_col='gene_id', sep='\\t'\n",
    ")\n",
    "gene_meta = gene_meta[gene_meta['chrom'] == chrom].copy()"
   ]
  },
  {
   "cell_type": "code",
   "execution_count": 9,
   "metadata": {
    "ExecuteTime": {
     "end_time": "2020-02-01T05:22:59.882386Z",
     "start_time": "2020-02-01T05:22:59.132279Z"
    },
    "papermill": {},
    "tags": []
   },
   "outputs": [],
   "source": [
    "exon_bed = pd.read_csv('/home/hanliu/ref/mouse/gencode/vm22/genome_anno/exon.all.bed',\n",
    "                       header=None, sep='\\t')\n",
    "exon_bed.columns = ['chrom', 'start', 'end', 'gene_id', 'gene_name']"
   ]
  },
  {
   "cell_type": "markdown",
   "metadata": {
    "ExecuteTime": {
     "end_time": "2020-01-30T20:50:32.972616Z",
     "start_time": "2020-01-30T20:50:26.232994Z"
    },
    "papermill": {},
    "tags": []
   },
   "source": [
    "## DMR Info"
   ]
  },
  {
   "cell_type": "code",
   "execution_count": 10,
   "metadata": {
    "ExecuteTime": {
     "end_time": "2020-02-01T05:25:46.071475Z",
     "start_time": "2020-02-01T05:22:59.885257Z"
    },
    "papermill": {},
    "tags": []
   },
   "outputs": [],
   "source": [
    "with pd.HDFStore('/home/hanliu/project/mouse_rostral_brain/DMR/SubType/Total/DMRInfo.h5', 'r') as hdf:\n",
    "    dmr_rate = hdf['Rate']\n",
    "dmr_rate = dmr_rate.loc[dmr_rate.index.map(lambda i: i.startswith(f'Sub{chrom}_'))].copy()\n",
    "\n",
    "dmr_corr = pd.read_msgpack(\n",
    "    '/home/hanliu/project/mouse_rostral_brain/study/DMRGeneCorr/TotalGeneDMRCorrLoop.0.3.msg'\n",
    ")\n",
    "dmr_corr = dmr_corr.set_index(['DMR', 'Gene'])\n",
    "dmr_corr = dmr_corr.loc[dmr_corr.index.get_level_values('DMR').isin(dmr_rate.index)].copy()\n",
    "\n",
    "dmr_bed = pd.read_csv('/home/hanliu/project/mouse_rostral_brain/DMR/SubType/Total/TotalDMR.nofilter.bed',\n",
    "                      sep='\\t', header=None, index_col=3)\n",
    "dmr_bed.columns = ['chrom', 'start', 'end']\n",
    "dmr_bed = dmr_bed[dmr_bed['chrom'] == chrom].copy()\n",
    "\n",
    "dmr_hits = anndata.read_h5ad('/home/hanliu/project/mouse_rostral_brain/DMR/SubType/Total/TotalHits.HypoDMR.h5ad')\n",
    "dmr_hits = dmr_hits[dmr_rate.index, :].copy()\n",
    "dmr_hits = dmr_hits[:, use_clusters].copy()\n",
    "\n",
    "dmr_annot = anndata.read_h5ad('/home/hanliu/project/mouse_rostral_brain/DMR/SubType/Total/DMRAnnotation.h5ad')\n",
    "dmr_annot = dmr_annot[dmr_rate.index, :].copy()"
   ]
  },
  {
   "cell_type": "code",
   "execution_count": 11,
   "metadata": {
    "ExecuteTime": {
     "end_time": "2020-02-01T05:25:46.100268Z",
     "start_time": "2020-02-01T05:25:46.088032Z"
    },
    "papermill": {},
    "tags": []
   },
   "outputs": [
    {
     "data": {
      "text/plain": [
       "104098"
      ]
     },
     "execution_count": 11,
     "metadata": {},
     "output_type": "execute_result"
    }
   ],
   "source": [
    "dmr_hits.shape[0]"
   ]
  },
  {
   "cell_type": "code",
   "execution_count": 12,
   "metadata": {
    "ExecuteTime": {
     "end_time": "2020-02-01T05:25:46.123213Z",
     "start_time": "2020-02-01T05:25:46.105997Z"
    },
    "papermill": {},
    "tags": []
   },
   "outputs": [],
   "source": [
    "def get_gene(gene_id):\n",
    "    _gene = gene_meta.loc[gene_id]\n",
    "    return _gene.name, _gene['chrom'], _gene['start'], _gene['end'], _gene['strand']"
   ]
  },
  {
   "cell_type": "markdown",
   "metadata": {
    "papermill": {},
    "tags": []
   },
   "source": [
    "## Gene's DMR clustering"
   ]
  },
  {
   "cell_type": "code",
   "execution_count": 13,
   "metadata": {
    "ExecuteTime": {
     "end_time": "2020-02-01T05:25:46.479801Z",
     "start_time": "2020-02-01T05:25:46.126529Z"
    },
    "papermill": {},
    "scrolled": true,
    "tags": []
   },
   "outputs": [],
   "source": [
    "def calculate_gene(gene_id):\n",
    "    # get gene information\n",
    "    gene_id, _, gene_start, gene_end, _ = get_gene(gene_id)\n",
    "\n",
    "    # select related DMRs\n",
    "    related_dmr = dmr_bed[(dmr_bed['start'] > gene_start - slop) &\n",
    "                          (dmr_bed['end'] < gene_end + slop)].copy()\n",
    "    \n",
    "    related_dmr_rate = dmr_rate.loc[related_dmr.index, use_clusters].copy()\n",
    "    related_dmr_rate.fillna(related_dmr_rate.mean(), axis=0, inplace=True)\n",
    "    \n",
    "    # construct Adata\n",
    "    adata = anndata.AnnData(X=related_dmr_rate.values.copy(),\n",
    "                            obs=pd.DataFrame([], related_dmr_rate.index),\n",
    "                            var=pd.DataFrame([], related_dmr_rate.columns))\n",
    "    sc.pp.scale(adata)\n",
    "    sc.pp.pca(adata)\n",
    "    \n",
    "    pcs = adata.obsm['X_pca'][:, :n_pc]\n",
    "    sc.pp.neighbors(adata, n_neighbors=int(round(np.log2(adata.shape[0]))), n_pcs=n_pc)\n",
    "    sc.tl.leiden(adata, resolution=resolution)\n",
    "    return adata.obs\n",
    "\n",
    "\n",
    "def get_annotation(gene_id):\n",
    "    gene_id, _, gene_start, gene_end, strand = get_gene(gene_id)\n",
    "    tss = gene_start if strand == '+' else gene_end\n",
    "    gene_cluster = calculate_gene(gene_id)\n",
    "    this_corr = dmr_corr[dmr_corr.index.get_level_values('Gene') == gene_id]['Corr']\n",
    "    this_corr.index = this_corr.index.droplevel('Gene')\n",
    "    gene_cluster['Corr'] = gene_cluster.index.map(this_corr).fillna(0)\n",
    "    \n",
    "    this_dmr_bed = dmr_bed.loc[gene_cluster.index]\n",
    "    dmr_center = (this_dmr_bed['end'] + this_dmr_bed['start']) / 2\n",
    "    gene_length = gene_end - gene_start\n",
    "    if strand == '+':\n",
    "        gene_cluster['reldist_tss'] = (dmr_center - gene_start) / gene_length\n",
    "    else:\n",
    "        gene_cluster['reldist_tss'] = (gene_end - dmr_center) / gene_length\n",
    "    gene_cluster['in_gene_body'] = (gene_cluster['reldist_tss'] > 0) & (gene_cluster['reldist_tss'] < 1)\n",
    "    \n",
    "    this_annot = dmr_annot[gene_cluster.index]\n",
    "    annot_df = pd.DataFrame(this_annot.X.todense(), \n",
    "                 index=this_annot.obs_names, columns=this_annot.var_names)\n",
    "    \n",
    "    # annotate TE cols\n",
    "    dna_te = annot_df.columns[20:33]\n",
    "    gene_cluster['is_dna_te'] = annot_df[dna_te].sum(axis=1) != 0\n",
    "    \n",
    "    line_te = annot_df.columns[33:39]\n",
    "    gene_cluster['is_line_te'] = annot_df[line_te].sum(axis=1) != 0\n",
    "    \n",
    "    ltr_te = annot_df.columns[39:45]\n",
    "    gene_cluster['is_ltr_te'] = annot_df[ltr_te].sum(axis=1) != 0\n",
    "    \n",
    "    sine_te = annot_df.columns[45:52]\n",
    "    gene_cluster['is_sine_te'] = annot_df[sine_te].sum(axis=1) != 0\n",
    "    \n",
    "    # this dmr within GOI's gene feature\n",
    "    gene_cluster['in_intron'] = annot_df['intron'].astype(bool) & gene_cluster['in_gene_body']\n",
    "    gene_cluster['in_exon'] = annot_df['exon'].astype(bool) & gene_cluster['in_gene_body']\n",
    "    gene_cluster['in_utr3'] = annot_df['UTR3'].astype(bool) & gene_cluster['in_gene_body']\n",
    "    gene_cluster['in_utr5'] = annot_df['UTR5'].astype(bool) & gene_cluster['in_gene_body']\n",
    "    \n",
    "    # previous mC study\n",
    "    gene_cluster['feDMR'] = annot_df['feDMR'].astype(bool)\n",
    "    gene_cluster['adultDMR'] = annot_df['adultDMR'].astype(bool)\n",
    "    \n",
    "    \n",
    "    other_profiles = []\n",
    "    # DMR hypo call in each cluster\n",
    "    this_hypo_hits = dmr_hits[gene_cluster.index]\n",
    "    hits_df = pd.DataFrame(this_hypo_hits.X.todense(), \n",
    "                 index=this_hypo_hits.obs_names, columns=this_hypo_hits.var_names)\n",
    "    hits_df.columns = hits_df.columns.map(lambda i: f'HypoDMR.{i}')\n",
    "    other_profiles.append(hits_df)\n",
    "    \n",
    "    # DMR rate\n",
    "    related_dmr_rate = dmr_rate.loc[gene_cluster['leiden'].sort_values().index, use_clusters].copy()\n",
    "    related_dmr_rate.fillna(related_dmr_rate.mean(), axis=0, inplace=True)\n",
    "    related_dmr_rate.columns = related_dmr_rate.columns.map(lambda i: f'DMRRate.{i}')\n",
    "    other_profiles.append(related_dmr_rate)\n",
    "    \n",
    "    # atac peak\n",
    "    atac_peak_df = atac_peak.loc[related_dmr_rate.index, use_clusters].copy()\n",
    "    other_profiles.append(atac_peak_df)\n",
    "    atac_peak_df.columns = atac_peak_df.columns.map(lambda i: f'ATACPeak.{i}')\n",
    "    \n",
    "    dmr_annotation = pd.concat([gene_cluster] + other_profiles, axis=1, sort=True)\n",
    "    return dmr_annotation"
   ]
  },
  {
   "cell_type": "code",
   "execution_count": 15,
   "metadata": {
    "ExecuteTime": {
     "end_time": "2020-02-01T05:46:10.868105Z",
     "start_time": "2020-02-01T05:45:19.026857Z"
    },
    "papermill": {},
    "tags": []
   },
   "outputs": [
    {
     "name": "stdout",
     "output_type": "stream",
     "text": [
      "ENSMUSG00000033768.17\n",
      "ENSMUSG00000024642.17\n",
      "ENSMUSG00000025020.11\n",
      "ENSMUSG00000025089.15\n",
      "ENSMUSG00000024897.9\n",
      "ENSMUSG00000025085.16\n",
      "ENSMUSG00000039901.10\n",
      "ENSMUSG00000040929.17\n",
      "ENSMUSG00000041362.17\n",
      "ENSMUSG00000048720.8\n",
      "ENSMUSG00000117897.1\n",
      "ENSMUSG00000024713.16\n",
      "ENSMUSG00000024867.14\n",
      "ENSMUSG00000041731.13\n",
      "ENSMUSG00000052942.13\n",
      "ENSMUSG00000024743.16\n",
      "ENSMUSG00000006435.16\n",
      "ENSMUSG00000033610.16\n",
      "ENSMUSG00000024798.15\n",
      "ENSMUSG00000058624.13\n",
      "ENSMUSG00000071604.5\n",
      "ENSMUSG00000039982.8\n",
      "ENSMUSG00000097930.2\n",
      "ENSMUSG00000025092.7\n",
      "ENSMUSG00000074746.3\n",
      "ENSMUSG00000024921.17\n",
      "ENSMUSG00000036278.7\n",
      "ENSMUSG00000024816.12\n",
      "ENSMUSG00000053617.12\n",
      "ENSMUSG00000025025.14\n",
      "ENSMUSG00000025189.9\n",
      "ENSMUSG00000074733.14\n",
      "ENSMUSG00000039126.10\n",
      "ENSMUSG00000033053.4\n",
      "ENSMUSG00000024754.13\n",
      "ENSMUSG00000009378.4\n",
      "ENSMUSG00000024781.16\n",
      "ENSMUSG00000025026.15\n",
      "ENSMUSG00000025090.9\n",
      "ENSMUSG00000024812.11\n",
      "ENSMUSG00000032946.16\n",
      "ENSMUSG00000024805.16\n",
      "ENSMUSG00000036192.15\n",
      "ENSMUSG00000024924.14\n",
      "ENSMUSG00000024983.10\n",
      "ENSMUSG00000035171.9\n",
      "ENSMUSG00000046324.12\n",
      "ENSMUSG00000025221.15\n",
      "ENSMUSG00000024935.11\n",
      "ENSMUSG00000025171.2\n",
      "ENSMUSG00000067577.8\n",
      "ENSMUSG00000067297.5\n",
      "ENSMUSG00000064105.13\n",
      "ENSMUSG00000087002.1\n",
      "ENSMUSG00000025195.9\n",
      "ENSMUSG00000069833.13\n",
      "ENSMUSG00000038658.15\n",
      "ENSMUSG00000114721.1\n",
      "ENSMUSG00000025231.17\n",
      "ENSMUSG00000024795.11\n",
      "ENSMUSG00000025217.15\n",
      "ENSMUSG00000024776.17\n",
      "ENSMUSG00000034765.6\n",
      "ENSMUSG00000057858.8\n",
      "ENSMUSG00000035818.14\n",
      "ENSMUSG00000094732.2\n",
      "ENSMUSG00000024677.13\n",
      "ENSMUSG00000024913.16\n",
      "ENSMUSG00000025078.9\n",
      "ENSMUSG00000033417.16\n",
      "ENSMUSG00000074925.4\n",
      "ENSMUSG00000032773.9\n",
      "ENSMUSG00000053279.8\n",
      "ENSMUSG00000024978.11\n",
      "ENSMUSG00000047787.8\n",
      "ENSMUSG00000041180.13\n",
      "ENSMUSG00000052085.7\n",
      "ENSMUSG00000058470.10\n",
      "ENSMUSG00000024727.9\n",
      "ENSMUSG00000024670.17\n",
      "ENSMUSG00000084825.1\n",
      "ENSMUSG00000035735.10\n",
      "ENSMUSG00000025076.10\n",
      "ENSMUSG00000025041.17\n",
      "ENSMUSG00000024729.7\n",
      "ENSMUSG00000097636.8\n",
      "ENSMUSG00000024785.7\n",
      "ENSMUSG00000118340.1\n",
      "ENSMUSG00000024639.5\n",
      "ENSMUSG00000024665.8\n",
      "ENSMUSG00000024678.6\n",
      "ENSMUSG00000025016.11\n",
      "ENSMUSG00000024697.4\n",
      "ENSMUSG00000042532.14\n",
      "ENSMUSG00000064202.15\n",
      "ENSMUSG00000071573.14\n",
      "ENSMUSG00000094707.2\n",
      "ENSMUSG00000046585.9\n",
      "ENSMUSG00000118150.1\n",
      "ENSMUSG00000035173.14\n",
      "ENSMUSG00000118020.1\n",
      "ENSMUSG00000025086.13\n",
      "ENSMUSG00000033863.2\n",
      "ENSMUSG00000052188.6\n",
      "ENSMUSG00000042694.17\n",
      "ENSMUSG00000024855.10\n",
      "ENSMUSG00000061742.12\n",
      "ENSMUSG00000035283.5\n",
      "ENSMUSG00000026931.10\n",
      "ENSMUSG00000110007.2\n",
      "ENSMUSG00000057240.14\n",
      "ENSMUSG00000086213.2\n",
      "ENSMUSG00000100417.2\n",
      "ENSMUSG00000049303.10\n",
      "ENSMUSG00000024786.9\n",
      "ENSMUSG00000024908.15\n",
      "ENSMUSG00000048612.16\n",
      "ENSMUSG00000110298.1\n",
      "ENSMUSG00000040022.14\n",
      "ENSMUSG00000118127.1\n",
      "ENSMUSG00000024837.15\n",
      "ENSMUSG00000118212.1\n",
      "ENSMUSG00000024664.5\n",
      "ENSMUSG00000025017.10\n",
      "ENSMUSG00000084876.7\n",
      "ENSMUSG00000038843.18\n",
      "ENSMUSG00000047731.17\n",
      "ENSMUSG00000024941.9\n",
      "ENSMUSG00000025002.5\n",
      "ENSMUSG00000024992.13\n",
      "ENSMUSG00000094584.2\n",
      "ENSMUSG00000063683.12\n",
      "ENSMUSG00000117990.1\n",
      "ENSMUSG00000024976.14\n",
      "ENSMUSG00000079419.4\n",
      "ENSMUSG00000035179.4\n",
      "ENSMUSG00000024974.10\n",
      "ENSMUSG00000048120.16\n",
      "ENSMUSG00000025077.13\n",
      "ENSMUSG00000046650.4\n",
      "ENSMUSG00000024654.8\n",
      "ENSMUSG00000117871.1\n",
      "ENSMUSG00000032702.16\n",
      "ENSMUSG00000024669.8\n",
      "ENSMUSG00000036961.5\n",
      "ENSMUSG00000056290.16\n",
      "ENSMUSG00000097740.2\n",
      "ENSMUSG00000052595.8\n",
      "ENSMUSG00000039652.16\n",
      "ENSMUSG00000025083.18\n",
      "ENSMUSG00000118293.1\n",
      "ENSMUSG00000060675.13\n",
      "ENSMUSG00000041360.8\n",
      "ENSMUSG00000117956.1\n",
      "ENSMUSG00000117655.1\n",
      "ENSMUSG00000048029.10\n",
      "ENSMUSG00000100001.1\n",
      "ENSMUSG00000099757.1\n",
      "ENSMUSG00000024937.15\n",
      "ENSMUSG00000045932.12\n",
      "ENSMUSG00000118109.1\n",
      "ENSMUSG00000024757.7\n",
      "ENSMUSG00000033033.10\n",
      "ENSMUSG00000117728.1\n",
      "ENSMUSG00000117981.1\n",
      "ENSMUSG00000086121.1\n",
      "ENSMUSG00000047368.4\n",
      "ENSMUSG00000025035.9\n",
      "ENSMUSG00000024681.11\n",
      "ENSMUSG00000040565.8\n",
      "ENSMUSG00000118273.1\n",
      "ENSMUSG00000025207.16\n",
      "ENSMUSG00000024811.11\n",
      "ENSMUSG00000024789.13\n",
      "ENSMUSG00000025200.7\n",
      "ENSMUSG00000024985.19\n",
      "ENSMUSG00000024952.13\n",
      "ENSMUSG00000067242.11\n",
      "ENSMUSG00000024691.13\n",
      "ENSMUSG00000117690.1\n",
      "ENSMUSG00000025082.8\n",
      "ENSMUSG00000117914.1\n",
      "ENSMUSG00000025091.4\n",
      "ENSMUSG00000059363.10\n",
      "ENSMUSG00000025007.13\n",
      "ENSMUSG00000024780.7\n",
      "ENSMUSG00000024900.5\n",
      "ENSMUSG00000025154.15\n",
      "ENSMUSG00000025047.9\n",
      "ENSMUSG00000101084.1\n",
      "ENSMUSG00000025094.8\n",
      "ENSMUSG00000101389.1\n",
      "ENSMUSG00000067656.13\n",
      "ENSMUSG00000024800.8\n",
      "ENSMUSG00000071633.11\n",
      "ENSMUSG00000061132.13\n",
      "ENSMUSG00000025184.10\n",
      "ENSMUSG00000117945.1\n",
      "ENSMUSG00000060049.5\n",
      "ENSMUSG00000034459.8\n",
      "ENSMUSG00000117998.1\n",
      "ENSMUSG00000043969.4\n",
      "ENSMUSG00000063796.9\n",
      "ENSMUSG00000101088.6\n",
      "ENSMUSG00000065594.1\n",
      "ENSMUSG00000024682.3\n",
      "ENSMUSG00000025197.9\n",
      "ENSMUSG00000097735.7\n",
      "ENSMUSG00000024943.9\n"
     ]
    }
   ],
   "source": [
    "for gene in genes:\n",
    "    print(gene)\n",
    "    check_path = output_dir / f'{gene}.DMR_cluster.msg'\n",
    "    if check_path.exists():\n",
    "        continue\n",
    "    \n",
    "    dmr_annotation = get_annotation(gene)\n",
    "    dmr_annotation.to_msgpack(output_dir / f'{gene}.DMR_detail.msg', compress='zlib')\n",
    "    \n",
    "    cluster_annotation = dmr_annotation.groupby('leiden').mean()\n",
    "    cluster_annotation.to_msgpack(output_dir / f'{gene}.DMR_cluster.msg', compress='zlib')"
   ]
  },
  {
   "cell_type": "code",
   "execution_count": null,
   "metadata": {
    "papermill": {},
    "scrolled": false,
    "tags": []
   },
   "outputs": [],
   "source": []
  },
  {
   "cell_type": "code",
   "execution_count": null,
   "metadata": {
    "papermill": {},
    "scrolled": true,
    "tags": []
   },
   "outputs": [],
   "source": []
  },
  {
   "cell_type": "code",
   "execution_count": null,
   "metadata": {
    "papermill": {},
    "tags": []
   },
   "outputs": [],
   "source": []
  },
  {
   "cell_type": "code",
   "execution_count": null,
   "metadata": {
    "papermill": {},
    "tags": []
   },
   "outputs": [],
   "source": []
  },
  {
   "cell_type": "code",
   "execution_count": null,
   "metadata": {
    "papermill": {},
    "tags": []
   },
   "outputs": [],
   "source": []
  },
  {
   "cell_type": "code",
   "execution_count": null,
   "metadata": {
    "papermill": {},
    "tags": []
   },
   "outputs": [],
   "source": []
  },
  {
   "cell_type": "code",
   "execution_count": null,
   "metadata": {
    "papermill": {},
    "tags": []
   },
   "outputs": [],
   "source": []
  },
  {
   "cell_type": "code",
   "execution_count": null,
   "metadata": {
    "papermill": {},
    "tags": []
   },
   "outputs": [],
   "source": []
  },
  {
   "cell_type": "code",
   "execution_count": null,
   "metadata": {
    "papermill": {},
    "tags": []
   },
   "outputs": [],
   "source": []
  },
  {
   "cell_type": "code",
   "execution_count": null,
   "metadata": {
    "papermill": {},
    "tags": []
   },
   "outputs": [],
   "source": []
  },
  {
   "cell_type": "code",
   "execution_count": null,
   "metadata": {
    "papermill": {},
    "tags": []
   },
   "outputs": [],
   "source": []
  },
  {
   "cell_type": "code",
   "execution_count": null,
   "metadata": {
    "papermill": {},
    "tags": []
   },
   "outputs": [],
   "source": []
  },
  {
   "cell_type": "code",
   "execution_count": null,
   "metadata": {
    "papermill": {},
    "tags": []
   },
   "outputs": [],
   "source": []
  },
  {
   "cell_type": "code",
   "execution_count": null,
   "metadata": {
    "papermill": {},
    "tags": []
   },
   "outputs": [],
   "source": []
  },
  {
   "cell_type": "code",
   "execution_count": null,
   "metadata": {
    "papermill": {},
    "tags": []
   },
   "outputs": [],
   "source": []
  },
  {
   "cell_type": "code",
   "execution_count": null,
   "metadata": {
    "papermill": {},
    "tags": []
   },
   "outputs": [],
   "source": []
  },
  {
   "cell_type": "code",
   "execution_count": null,
   "metadata": {
    "papermill": {},
    "tags": []
   },
   "outputs": [],
   "source": []
  }
 ],
 "metadata": {
  "hide_input": false,
  "kernelspec": {
   "display_name": "Python 3",
   "language": "python",
   "name": "python3"
  },
  "language_info": {
   "codemirror_mode": {
    "name": "ipython",
    "version": 3
   },
   "file_extension": ".py",
   "mimetype": "text/x-python",
   "name": "python",
   "nbconvert_exporter": "python",
   "pygments_lexer": "ipython3",
   "version": "3.7.3"
  },
  "papermill": {
   "environment_variables": {},
   "input_path": "DMRClustering_batch_per_chrom.ipynb",
   "output_path": "DMRCluster/DMRClustering_batch_per_chrom.chr19.ipynb",
   "parameters": {
    "chrom": "chr19",
    "genes": [
     "ENSMUSG00000033768.17",
     "ENSMUSG00000024642.17",
     "ENSMUSG00000025020.11",
     "ENSMUSG00000025089.15",
     "ENSMUSG00000024897.9",
     "ENSMUSG00000025085.16",
     "ENSMUSG00000039901.10",
     "ENSMUSG00000040929.17",
     "ENSMUSG00000041362.17",
     "ENSMUSG00000048720.8",
     "ENSMUSG00000117897.1",
     "ENSMUSG00000024713.16",
     "ENSMUSG00000024867.14",
     "ENSMUSG00000041731.13",
     "ENSMUSG00000052942.13",
     "ENSMUSG00000024743.16",
     "ENSMUSG00000006435.16",
     "ENSMUSG00000033610.16",
     "ENSMUSG00000024798.15",
     "ENSMUSG00000058624.13",
     "ENSMUSG00000071604.5",
     "ENSMUSG00000039982.8",
     "ENSMUSG00000097930.2",
     "ENSMUSG00000025092.7",
     "ENSMUSG00000074746.3",
     "ENSMUSG00000024921.17",
     "ENSMUSG00000036278.7",
     "ENSMUSG00000024816.12",
     "ENSMUSG00000053617.12",
     "ENSMUSG00000025025.14",
     "ENSMUSG00000025189.9",
     "ENSMUSG00000074733.14",
     "ENSMUSG00000039126.10",
     "ENSMUSG00000033053.4",
     "ENSMUSG00000024754.13",
     "ENSMUSG00000009378.4",
     "ENSMUSG00000024781.16",
     "ENSMUSG00000025026.15",
     "ENSMUSG00000025090.9",
     "ENSMUSG00000024812.11",
     "ENSMUSG00000032946.16",
     "ENSMUSG00000024805.16",
     "ENSMUSG00000036192.15",
     "ENSMUSG00000024924.14",
     "ENSMUSG00000024983.10",
     "ENSMUSG00000035171.9",
     "ENSMUSG00000046324.12",
     "ENSMUSG00000025221.15",
     "ENSMUSG00000024935.11",
     "ENSMUSG00000025171.2",
     "ENSMUSG00000067577.8",
     "ENSMUSG00000067297.5",
     "ENSMUSG00000064105.13",
     "ENSMUSG00000087002.1",
     "ENSMUSG00000025195.9",
     "ENSMUSG00000069833.13",
     "ENSMUSG00000038658.15",
     "ENSMUSG00000114721.1",
     "ENSMUSG00000025231.17",
     "ENSMUSG00000024795.11",
     "ENSMUSG00000025217.15",
     "ENSMUSG00000024776.17",
     "ENSMUSG00000034765.6",
     "ENSMUSG00000057858.8",
     "ENSMUSG00000035818.14",
     "ENSMUSG00000094732.2",
     "ENSMUSG00000024677.13",
     "ENSMUSG00000024913.16",
     "ENSMUSG00000025078.9",
     "ENSMUSG00000033417.16",
     "ENSMUSG00000074925.4",
     "ENSMUSG00000032773.9",
     "ENSMUSG00000053279.8",
     "ENSMUSG00000024978.11",
     "ENSMUSG00000047787.8",
     "ENSMUSG00000041180.13",
     "ENSMUSG00000052085.7",
     "ENSMUSG00000058470.10",
     "ENSMUSG00000024727.9",
     "ENSMUSG00000024670.17",
     "ENSMUSG00000084825.1",
     "ENSMUSG00000035735.10",
     "ENSMUSG00000025076.10",
     "ENSMUSG00000025041.17",
     "ENSMUSG00000024729.7",
     "ENSMUSG00000097636.8",
     "ENSMUSG00000024785.7",
     "ENSMUSG00000118340.1",
     "ENSMUSG00000024639.5",
     "ENSMUSG00000024665.8",
     "ENSMUSG00000024678.6",
     "ENSMUSG00000025016.11",
     "ENSMUSG00000024697.4",
     "ENSMUSG00000042532.14",
     "ENSMUSG00000064202.15",
     "ENSMUSG00000071573.14",
     "ENSMUSG00000094707.2",
     "ENSMUSG00000046585.9",
     "ENSMUSG00000118150.1",
     "ENSMUSG00000035173.14",
     "ENSMUSG00000118020.1",
     "ENSMUSG00000025086.13",
     "ENSMUSG00000033863.2",
     "ENSMUSG00000052188.6",
     "ENSMUSG00000042694.17",
     "ENSMUSG00000024855.10",
     "ENSMUSG00000061742.12",
     "ENSMUSG00000035283.5",
     "ENSMUSG00000026931.10",
     "ENSMUSG00000110007.2",
     "ENSMUSG00000057240.14",
     "ENSMUSG00000086213.2",
     "ENSMUSG00000100417.2",
     "ENSMUSG00000049303.10",
     "ENSMUSG00000024786.9",
     "ENSMUSG00000024908.15",
     "ENSMUSG00000048612.16",
     "ENSMUSG00000110298.1",
     "ENSMUSG00000040022.14",
     "ENSMUSG00000118127.1",
     "ENSMUSG00000024837.15",
     "ENSMUSG00000118212.1",
     "ENSMUSG00000024664.5",
     "ENSMUSG00000025017.10",
     "ENSMUSG00000084876.7",
     "ENSMUSG00000038843.18",
     "ENSMUSG00000047731.17",
     "ENSMUSG00000024941.9",
     "ENSMUSG00000025002.5",
     "ENSMUSG00000024992.13",
     "ENSMUSG00000094584.2",
     "ENSMUSG00000063683.12",
     "ENSMUSG00000117990.1",
     "ENSMUSG00000024976.14",
     "ENSMUSG00000079419.4",
     "ENSMUSG00000035179.4",
     "ENSMUSG00000024974.10",
     "ENSMUSG00000048120.16",
     "ENSMUSG00000025077.13",
     "ENSMUSG00000046650.4",
     "ENSMUSG00000024654.8",
     "ENSMUSG00000117871.1",
     "ENSMUSG00000032702.16",
     "ENSMUSG00000024669.8",
     "ENSMUSG00000036961.5",
     "ENSMUSG00000056290.16",
     "ENSMUSG00000097740.2",
     "ENSMUSG00000052595.8",
     "ENSMUSG00000039652.16",
     "ENSMUSG00000025083.18",
     "ENSMUSG00000118293.1",
     "ENSMUSG00000060675.13",
     "ENSMUSG00000041360.8",
     "ENSMUSG00000117956.1",
     "ENSMUSG00000117655.1",
     "ENSMUSG00000048029.10",
     "ENSMUSG00000100001.1",
     "ENSMUSG00000099757.1",
     "ENSMUSG00000024937.15",
     "ENSMUSG00000045932.12",
     "ENSMUSG00000118109.1",
     "ENSMUSG00000024757.7",
     "ENSMUSG00000033033.10",
     "ENSMUSG00000117728.1",
     "ENSMUSG00000117981.1",
     "ENSMUSG00000086121.1",
     "ENSMUSG00000047368.4",
     "ENSMUSG00000025035.9",
     "ENSMUSG00000024681.11",
     "ENSMUSG00000040565.8",
     "ENSMUSG00000118273.1",
     "ENSMUSG00000025207.16",
     "ENSMUSG00000024811.11",
     "ENSMUSG00000024789.13",
     "ENSMUSG00000025200.7",
     "ENSMUSG00000024985.19",
     "ENSMUSG00000024952.13",
     "ENSMUSG00000067242.11",
     "ENSMUSG00000024691.13",
     "ENSMUSG00000117690.1",
     "ENSMUSG00000025082.8",
     "ENSMUSG00000117914.1",
     "ENSMUSG00000025091.4",
     "ENSMUSG00000059363.10",
     "ENSMUSG00000025007.13",
     "ENSMUSG00000024780.7",
     "ENSMUSG00000024900.5",
     "ENSMUSG00000025154.15",
     "ENSMUSG00000025047.9",
     "ENSMUSG00000101084.1",
     "ENSMUSG00000025094.8",
     "ENSMUSG00000101389.1",
     "ENSMUSG00000067656.13",
     "ENSMUSG00000024800.8",
     "ENSMUSG00000071633.11",
     "ENSMUSG00000061132.13",
     "ENSMUSG00000025184.10",
     "ENSMUSG00000117945.1",
     "ENSMUSG00000060049.5",
     "ENSMUSG00000034459.8",
     "ENSMUSG00000117998.1",
     "ENSMUSG00000043969.4",
     "ENSMUSG00000063796.9",
     "ENSMUSG00000101088.6",
     "ENSMUSG00000065594.1",
     "ENSMUSG00000024682.3",
     "ENSMUSG00000025197.9",
     "ENSMUSG00000097735.7",
     "ENSMUSG00000024943.9"
    ],
    "n_pc": 10,
    "resolution": 1,
    "slop": 250000
   },
   "version": "1.0.1"
  },
  "toc": {
   "base_numbering": 1,
   "nav_menu": {},
   "number_sections": true,
   "sideBar": true,
   "skip_h1_title": true,
   "title_cell": "Table of Contents",
   "title_sidebar": "Contents",
   "toc_cell": false,
   "toc_position": {},
   "toc_section_display": true,
   "toc_window_display": true
  }
 },
 "nbformat": 4,
 "nbformat_minor": 2
}
