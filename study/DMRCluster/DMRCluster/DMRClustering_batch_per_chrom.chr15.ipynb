{
 "cells": [
  {
   "cell_type": "code",
   "execution_count": 1,
   "metadata": {
    "ExecuteTime": {
     "end_time": "2020-02-01T05:22:06.114359Z",
     "start_time": "2020-02-01T05:22:02.426865Z"
    },
    "papermill": {},
    "tags": []
   },
   "outputs": [],
   "source": [
    "import pandas as pd\n",
    "import numpy as np\n",
    "import anndata\n",
    "import scanpy as sc\n",
    "import seaborn as sns\n",
    "import matplotlib.pyplot as plt\n",
    "from matplotlib.patches import Rectangle\n",
    "from sklearn.decomposition import PCA\n",
    "from sklearn.cluster import KMeans\n",
    "import warnings\n",
    "import pathlib\n",
    "\n",
    "warnings.filterwarnings('ignore')"
   ]
  },
  {
   "cell_type": "code",
   "execution_count": 2,
   "metadata": {
    "ExecuteTime": {
     "end_time": "2020-02-01T05:22:06.129333Z",
     "start_time": "2020-02-01T05:22:06.118077Z"
    },
    "papermill": {},
    "tags": []
   },
   "outputs": [],
   "source": [
    "from matplotlib import rc\n",
    "labelsize = 6\n",
    "linewidth = 0.6\n",
    "rc('lines', linewidth=linewidth)\n",
    "rc('axes', labelsize=labelsize, linewidth=linewidth)\n",
    "rc('xtick', labelsize=labelsize)\n",
    "rc('ytick', labelsize=labelsize)\n",
    "rc('xtick.major', width=linewidth)\n",
    "rc('ytick.major', width=linewidth)\n",
    "rc('xtick.minor', width=linewidth - 0.2)\n",
    "rc('ytick.minor', width=linewidth - 0.2)"
   ]
  },
  {
   "cell_type": "code",
   "execution_count": 3,
   "metadata": {
    "ExecuteTime": {
     "end_time": "2020-02-01T05:22:06.136839Z",
     "start_time": "2020-02-01T05:22:06.132045Z"
    },
    "papermill": {},
    "tags": [
     "parameters"
    ]
   },
   "outputs": [],
   "source": [
    "chrom = 'chr2'\n",
    "genes = ['Lhx6']\n",
    "slop = 250000\n",
    "n_pc = 10\n",
    "resolution = 1"
   ]
  },
  {
   "cell_type": "code",
   "execution_count": 4,
   "metadata": {
    "ExecuteTime": {
     "end_time": "2020-02-01T05:22:06.172131Z",
     "start_time": "2020-02-01T05:22:06.139653Z"
    },
    "tags": [
     "injected-parameters"
    ]
   },
   "outputs": [],
   "source": [
    "# Parameters\n",
    "chrom = \"chr15\"\n",
    "genes = [\"ENSMUSG00000022353.10\", \"ENSMUSG00000061731.9\", \"ENSMUSG00000036800.8\", \"ENSMUSG00000022377.16\", \"ENSMUSG00000041708.12\", \"ENSMUSG00000022270.16\", \"ENSMUSG00000016664.16\", \"ENSMUSG00000071757.10\", \"ENSMUSG00000019146.2\", \"ENSMUSG00000036158.12\", \"ENSMUSG00000051359.15\", \"ENSMUSG00000022441.17\", \"ENSMUSG00000022321.15\", \"ENSMUSG00000022376.8\", \"ENSMUSG00000115157.1\", \"ENSMUSG00000022261.6\", \"ENSMUSG00000022306.9\", \"ENSMUSG00000022231.10\", \"ENSMUSG00000038679.16\", \"ENSMUSG00000022237.17\", \"ENSMUSG00000015002.18\", \"ENSMUSG00000094296.1\", \"ENSMUSG00000062373.8\", \"ENSMUSG00000022416.15\", \"ENSMUSG00000022372.14\", \"ENSMUSG00000062760.10\", \"ENSMUSG00000115729.1\", \"ENSMUSG00000044250.8\", \"ENSMUSG00000060429.12\", \"ENSMUSG00000053469.14\", \"ENSMUSG00000023026.16\", \"ENSMUSG00000022378.14\", \"ENSMUSG00000054863.9\", \"ENSMUSG00000016552.13\", \"ENSMUSG00000050439.7\", \"ENSMUSG00000016763.15\", \"ENSMUSG00000016624.15\", \"ENSMUSG00000079022.10\", \"ENSMUSG00000022312.11\", \"ENSMUSG00000022362.13\", \"ENSMUSG00000000552.10\", \"ENSMUSG00000022419.16\", \"ENSMUSG00000022265.7\", \"ENSMUSG00000005268.20\", \"ENSMUSG00000013846.10\", \"ENSMUSG00000115850.1\", \"ENSMUSG00000039385.5\", \"ENSMUSG00000037106.8\", \"ENSMUSG00000022206.7\", \"ENSMUSG00000055022.14\", \"ENSMUSG00000022489.6\", \"ENSMUSG00000022272.17\", \"ENSMUSG00000097452.2\", \"ENSMUSG00000022361.14\", \"ENSMUSG00000054277.8\", \"ENSMUSG00000023022.14\", \"ENSMUSG00000023032.12\", \"ENSMUSG00000064210.7\", \"ENSMUSG00000023017.10\", \"ENSMUSG00000036661.14\", \"ENSMUSG00000022288.1\", \"ENSMUSG00000037579.7\", \"ENSMUSG00000036760.7\", \"ENSMUSG00000115654.1\", \"ENSMUSG00000022305.13\", \"ENSMUSG00000022438.6\", \"ENSMUSG00000086125.1\", \"ENSMUSG00000041852.15\", \"ENSMUSG00000086992.7\", \"ENSMUSG00000045763.8\", \"ENSMUSG00000115062.1\", \"ENSMUSG00000024479.3\", \"ENSMUSG00000051920.7\", \"ENSMUSG00000022324.15\", \"ENSMUSG00000047497.10\", \"ENSMUSG00000025370.7\", \"ENSMUSG00000044216.7\", \"ENSMUSG00000097232.1\", \"ENSMUSG00000054263.12\", \"ENSMUSG00000055782.9\", \"ENSMUSG00000092375.1\", \"ENSMUSG00000038591.3\", \"ENSMUSG00000049148.8\", \"ENSMUSG00000100603.6\", \"ENSMUSG00000022262.8\", \"ENSMUSG00000069996.3\", \"ENSMUSG00000035900.18\", \"ENSMUSG00000022421.19\", \"ENSMUSG00000022309.9\", \"ENSMUSG00000022257.4\", \"ENSMUSG00000042564.13\", \"ENSMUSG00000022358.7\", \"ENSMUSG00000022369.13\", \"ENSMUSG00000022994.9\", \"ENSMUSG00000043556.10\", \"ENSMUSG00000022442.16\", \"ENSMUSG00000051237.7\", \"ENSMUSG00000059895.13\", \"ENSMUSG00000023033.14\", \"ENSMUSG00000044933.3\", \"ENSMUSG00000072487.11\", \"ENSMUSG00000022488.9\", \"ENSMUSG00000023015.14\", \"ENSMUSG00000042351.9\", \"ENSMUSG00000033075.17\", \"ENSMUSG00000022558.16\", \"ENSMUSG00000037627.16\", \"ENSMUSG00000022443.17\", \"ENSMUSG00000050697.9\", \"ENSMUSG00000075600.3\", \"ENSMUSG00000043460.7\", \"ENSMUSG00000116130.1\", \"ENSMUSG00000022434.8\", \"ENSMUSG00000116068.1\", \"ENSMUSG00000038879.8\", \"ENSMUSG00000022296.9\", \"ENSMUSG00000022269.13\", \"ENSMUSG00000115337.1\", \"ENSMUSG00000036046.14\", \"ENSMUSG00000097003.1\", \"ENSMUSG00000034730.17\", \"ENSMUSG00000022425.16\", \"ENSMUSG00000115779.1\", \"ENSMUSG00000115560.1\", \"ENSMUSG00000033088.19\", \"ENSMUSG00000023008.18\", \"ENSMUSG00000016028.10\", \"ENSMUSG00000023009.14\", \"ENSMUSG00000116031.1\", \"ENSMUSG00000036606.17\", \"ENSMUSG00000015365.15\", \"ENSMUSG00000042961.13\", \"ENSMUSG00000022602.14\", \"ENSMUSG00000054619.7\", \"ENSMUSG00000023011.8\", \"ENSMUSG00000023034.7\", \"ENSMUSG00000058099.16\", \"ENSMUSG00000022375.6\", \"ENSMUSG00000022429.11\", \"ENSMUSG00000035891.16\", \"ENSMUSG00000000531.5\", \"ENSMUSG00000115918.1\", \"ENSMUSG00000115339.1\", \"ENSMUSG00000006369.14\", \"ENSMUSG00000116114.1\", \"ENSMUSG00000115820.1\", \"ENSMUSG00000116483.1\", \"ENSMUSG00000115204.1\", \"ENSMUSG00000023021.15\", \"ENSMUSG00000115169.1\", \"ENSMUSG00000022993.7\", \"ENSMUSG00000072568.4\", \"ENSMUSG00000078907.2\", \"ENSMUSG00000115355.1\", \"ENSMUSG00000005125.13\", \"ENSMUSG00000022342.6\", \"ENSMUSG00000033697.15\", \"ENSMUSG00000022181.16\", \"ENSMUSG00000036698.11\", \"ENSMUSG00000037362.8\", \"ENSMUSG00000022414.8\", \"ENSMUSG00000046034.8\", \"ENSMUSG00000039458.15\", \"ENSMUSG00000116493.1\", \"ENSMUSG00000037465.10\", \"ENSMUSG00000100220.1\", \"ENSMUSG00000016541.10\", \"ENSMUSG00000022475.19\", \"ENSMUSG00000036106.15\", \"ENSMUSG00000022286.16\", \"ENSMUSG00000047888.10\", \"ENSMUSG00000022263.10\", \"ENSMUSG00000022360.8\", \"ENSMUSG00000022634.9\", \"ENSMUSG00000115773.1\", \"ENSMUSG00000115478.1\", \"ENSMUSG00000114971.1\", \"ENSMUSG00000005360.14\", \"ENSMUSG00000022629.17\", \"ENSMUSG00000022404.8\", \"ENSMUSG00000000489.7\", \"ENSMUSG00000022469.17\", \"ENSMUSG00000033039.10\", \"ENSMUSG00000102069.1\", \"ENSMUSG00000022526.8\", \"ENSMUSG00000005124.10\", \"ENSMUSG00000022304.13\", \"ENSMUSG00000094814.1\", \"ENSMUSG00000022253.15\", \"ENSMUSG00000009035.15\", \"ENSMUSG00000116294.1\", \"ENSMUSG00000033237.19\", \"ENSMUSG00000016637.7\", \"ENSMUSG00000089837.9\", \"ENSMUSG00000099013.1\", \"ENSMUSG00000022463.8\", \"ENSMUSG00000022408.7\", \"ENSMUSG00000039168.15\", \"ENSMUSG00000086801.1\", \"ENSMUSG00000086361.1\", \"ENSMUSG00000086541.8\", \"ENSMUSG00000056332.4\", \"ENSMUSG00000115680.1\", \"ENSMUSG00000036944.6\", \"ENSMUSG00000023169.15\", \"ENSMUSG00000041653.5\", \"ENSMUSG00000037617.12\", \"ENSMUSG00000115912.1\", \"ENSMUSG00000101671.1\", \"ENSMUSG00000116021.1\", \"ENSMUSG00000115137.1\", \"ENSMUSG00000047807.10\", \"ENSMUSG00000015001.17\", \"ENSMUSG00000115485.1\", \"ENSMUSG00000115620.1\", \"ENSMUSG00000042428.6\", \"ENSMUSG00000022155.9\", \"ENSMUSG00000116360.1\", \"ENSMUSG00000018865.9\", \"ENSMUSG00000096607.1\", \"ENSMUSG00000056069.10\", \"ENSMUSG00000022249.14\", \"ENSMUSG00000022300.10\", \"ENSMUSG00000068086.6\", \"ENSMUSG00000022146.12\", \"ENSMUSG00000090500.1\", \"ENSMUSG00000022464.14\", \"ENSMUSG00000023010.15\", \"ENSMUSG00000115970.1\", \"ENSMUSG00000115591.1\", \"ENSMUSG00000097536.2\", \"ENSMUSG00000022371.16\", \"ENSMUSG00000101892.1\", \"ENSMUSG00000072663.12\", \"ENSMUSG00000097259.2\", \"ENSMUSG00000000934.9\", \"ENSMUSG00000068206.13\", \"ENSMUSG00000093695.2\", \"ENSMUSG00000079105.4\", \"ENSMUSG00000022295.8\", \"ENSMUSG00000116505.1\", \"ENSMUSG00000090002.1\", \"ENSMUSG00000022297.15\", \"ENSMUSG00000071714.7\", \"ENSMUSG00000115164.2\", \"ENSMUSG00000022439.9\", \"ENSMUSG00000116311.1\", \"ENSMUSG00000000555.8\", \"ENSMUSG00000116256.1\", \"ENSMUSG00000115345.1\", \"ENSMUSG00000091119.2\", \"ENSMUSG00000116121.1\", \"ENSMUSG00000115752.1\", \"ENSMUSG00000022462.7\", \"ENSMUSG00000110018.2\", \"ENSMUSG00000089680.1\", \"ENSMUSG00000022415.12\", \"ENSMUSG00000022299.9\", \"ENSMUSG00000022141.7\", \"ENSMUSG00000115986.1\", \"ENSMUSG00000037487.7\", \"ENSMUSG00000116004.1\", \"ENSMUSG00000115009.1\", \"ENSMUSG00000116345.1\", \"ENSMUSG00000071713.6\", \"ENSMUSG00000115908.1\", \"ENSMUSG00000114994.1\", \"ENSMUSG00000022350.7\", \"ENSMUSG00000058441.7\", \"ENSMUSG00000078932.8\", \"ENSMUSG00000022200.8\", \"ENSMUSG00000050310.9\", \"ENSMUSG00000022432.7\", \"ENSMUSG00000037185.9\", \"ENSMUSG00000079024.2\", \"ENSMUSG00000054115.11\", \"ENSMUSG00000015377.10\", \"ENSMUSG00000090237.1\", \"ENSMUSG00000022987.12\", \"ENSMUSG00000094112.2\", \"ENSMUSG00000115667.1\", \"ENSMUSG00000036197.16\", \"ENSMUSG00000116305.1\", \"ENSMUSG00000108748.1\", \"ENSMUSG00000093677.1\", \"ENSMUSG00000050963.7\", \"ENSMUSG00000018008.8\", \"ENSMUSG00000094447.2\", \"ENSMUSG00000115433.1\", \"ENSMUSG00000116000.1\", \"ENSMUSG00000005716.16\", \"ENSMUSG00000116299.1\", \"ENSMUSG00000065936.1\", \"ENSMUSG00000065049.1\", \"ENSMUSG00000063727.3\", \"ENSMUSG00000116081.1\", \"ENSMUSG00000115522.1\", \"ENSMUSG00000022565.15\", \"ENSMUSG00000115880.1\", \"ENSMUSG00000023007.15\", \"ENSMUSG00000050891.10\", \"ENSMUSG00000055114.9\", \"ENSMUSG00000115463.1\", \"ENSMUSG00000115177.1\", \"ENSMUSG00000079020.9\", \"ENSMUSG00000086313.1\", \"ENSMUSG00000022466.6\", \"ENSMUSG00000115063.1\"]\n",
    "slop = 250000\n",
    "n_pc = 10\n",
    "resolution = 1\n"
   ]
  },
  {
   "cell_type": "code",
   "execution_count": 5,
   "metadata": {
    "ExecuteTime": {
     "end_time": "2020-02-01T05:22:06.178578Z",
     "start_time": "2020-02-01T05:22:06.174594Z"
    },
    "papermill": {},
    "tags": []
   },
   "outputs": [],
   "source": [
    "output_dir = pathlib.Path(chrom)\n",
    "output_dir.mkdir(exist_ok=True)"
   ]
  },
  {
   "cell_type": "markdown",
   "metadata": {
    "papermill": {},
    "tags": []
   },
   "source": [
    "## Cell Meta"
   ]
  },
  {
   "cell_type": "code",
   "execution_count": 6,
   "metadata": {
    "ExecuteTime": {
     "end_time": "2020-02-01T05:22:06.789361Z",
     "start_time": "2020-02-01T05:22:06.187537Z"
    },
    "papermill": {},
    "tags": []
   },
   "outputs": [
    {
     "data": {
      "text/plain": [
       "145"
      ]
     },
     "execution_count": 6,
     "metadata": {},
     "output_type": "execute_result"
    }
   ],
   "source": [
    "cell_tidy_data = pd.read_msgpack(\n",
    "    '/home/hanliu/project/mouse_rostral_brain/study/ClusteringSummary/Summary/TotalClusteringResults.msg'\n",
    ")\n",
    "use_clusters = [\n",
    "    i.replace(' ', '_') for i in cell_tidy_data[cell_tidy_data['CellClass'].isin(['Exc', 'Inh'])]\n",
    "    ['SubType'].unique() if 'Outlier' not in i\n",
    "]\n",
    "len(use_clusters)"
   ]
  },
  {
   "cell_type": "markdown",
   "metadata": {
    "papermill": {},
    "tags": []
   },
   "source": [
    "## ATAC peaks"
   ]
  },
  {
   "cell_type": "code",
   "execution_count": 7,
   "metadata": {
    "ExecuteTime": {
     "end_time": "2020-02-01T05:22:22.870603Z",
     "start_time": "2020-02-01T05:22:06.791021Z"
    },
    "papermill": {},
    "tags": []
   },
   "outputs": [],
   "source": [
    "atac_peak = pd.read_msgpack('/home/hanliu/project/mouse_rostral_brain/study/DMRCluster/SubType.ATAC_peak_merged.msg')\n",
    "atac_peak = atac_peak.loc[atac_peak.index.map(lambda i: i.startswith(f'Sub{chrom}_'))].copy()"
   ]
  },
  {
   "cell_type": "markdown",
   "metadata": {
    "papermill": {},
    "tags": []
   },
   "source": [
    "## Gene Info"
   ]
  },
  {
   "cell_type": "code",
   "execution_count": 8,
   "metadata": {
    "ExecuteTime": {
     "end_time": "2020-02-01T05:22:23.113464Z",
     "start_time": "2020-02-01T05:22:22.873038Z"
    },
    "papermill": {},
    "tags": []
   },
   "outputs": [],
   "source": [
    "gene_meta = pd.read_csv(\n",
    "    '/home/hanliu/ref/mouse/gencode/vm22/gencode.vM22.annotation.gene.flat.tsv.gz',\n",
    "    index_col='gene_id', sep='\\t'\n",
    ")\n",
    "gene_meta = gene_meta[gene_meta['chrom'] == chrom].copy()"
   ]
  },
  {
   "cell_type": "code",
   "execution_count": 9,
   "metadata": {
    "ExecuteTime": {
     "end_time": "2020-02-01T05:22:23.718805Z",
     "start_time": "2020-02-01T05:22:23.114972Z"
    },
    "papermill": {},
    "tags": []
   },
   "outputs": [],
   "source": [
    "exon_bed = pd.read_csv('/home/hanliu/ref/mouse/gencode/vm22/genome_anno/exon.all.bed',\n",
    "                       header=None, sep='\\t')\n",
    "exon_bed.columns = ['chrom', 'start', 'end', 'gene_id', 'gene_name']"
   ]
  },
  {
   "cell_type": "markdown",
   "metadata": {
    "ExecuteTime": {
     "end_time": "2020-01-30T20:50:32.972616Z",
     "start_time": "2020-01-30T20:50:26.232994Z"
    },
    "papermill": {},
    "tags": []
   },
   "source": [
    "## DMR Info"
   ]
  },
  {
   "cell_type": "code",
   "execution_count": 10,
   "metadata": {
    "ExecuteTime": {
     "end_time": "2020-02-01T05:24:03.572630Z",
     "start_time": "2020-02-01T05:22:23.728884Z"
    },
    "papermill": {},
    "tags": []
   },
   "outputs": [],
   "source": [
    "with pd.HDFStore('/home/hanliu/project/mouse_rostral_brain/DMR/SubType/Total/DMRInfo.h5', 'r') as hdf:\n",
    "    dmr_rate = hdf['Rate']\n",
    "dmr_rate = dmr_rate.loc[dmr_rate.index.map(lambda i: i.startswith(f'Sub{chrom}_'))].copy()\n",
    "\n",
    "dmr_corr = pd.read_msgpack(\n",
    "    '/home/hanliu/project/mouse_rostral_brain/study/DMRGeneCorr/TotalGeneDMRCorrLoop.0.3.msg'\n",
    ")\n",
    "dmr_corr = dmr_corr.set_index(['DMR', 'Gene'])\n",
    "dmr_corr = dmr_corr.loc[dmr_corr.index.get_level_values('DMR').isin(dmr_rate.index)].copy()\n",
    "\n",
    "dmr_bed = pd.read_csv('/home/hanliu/project/mouse_rostral_brain/DMR/SubType/Total/TotalDMR.nofilter.bed',\n",
    "                      sep='\\t', header=None, index_col=3)\n",
    "dmr_bed.columns = ['chrom', 'start', 'end']\n",
    "dmr_bed = dmr_bed[dmr_bed['chrom'] == chrom].copy()\n",
    "\n",
    "dmr_hits = anndata.read_h5ad('/home/hanliu/project/mouse_rostral_brain/DMR/SubType/Total/TotalHits.HypoDMR.h5ad')\n",
    "dmr_hits = dmr_hits[dmr_rate.index, :].copy()\n",
    "dmr_hits = dmr_hits[:, use_clusters].copy()\n",
    "\n",
    "dmr_annot = anndata.read_h5ad('/home/hanliu/project/mouse_rostral_brain/DMR/SubType/Total/DMRAnnotation.h5ad')\n",
    "dmr_annot = dmr_annot[dmr_rate.index, :].copy()"
   ]
  },
  {
   "cell_type": "code",
   "execution_count": 11,
   "metadata": {
    "ExecuteTime": {
     "end_time": "2020-02-01T05:24:03.591257Z",
     "start_time": "2020-02-01T05:24:03.576011Z"
    },
    "papermill": {},
    "tags": []
   },
   "outputs": [
    {
     "data": {
      "text/plain": [
       "193576"
      ]
     },
     "execution_count": 11,
     "metadata": {},
     "output_type": "execute_result"
    }
   ],
   "source": [
    "dmr_hits.shape[0]"
   ]
  },
  {
   "cell_type": "code",
   "execution_count": 12,
   "metadata": {
    "ExecuteTime": {
     "end_time": "2020-02-01T05:24:03.598756Z",
     "start_time": "2020-02-01T05:24:03.593675Z"
    },
    "papermill": {},
    "tags": []
   },
   "outputs": [],
   "source": [
    "def get_gene(gene_id):\n",
    "    _gene = gene_meta.loc[gene_id]\n",
    "    return _gene.name, _gene['chrom'], _gene['start'], _gene['end'], _gene['strand']"
   ]
  },
  {
   "cell_type": "markdown",
   "metadata": {
    "papermill": {},
    "tags": []
   },
   "source": [
    "## Gene's DMR clustering"
   ]
  },
  {
   "cell_type": "code",
   "execution_count": 13,
   "metadata": {
    "ExecuteTime": {
     "end_time": "2020-02-01T05:24:03.835874Z",
     "start_time": "2020-02-01T05:24:03.601277Z"
    },
    "papermill": {},
    "scrolled": true,
    "tags": []
   },
   "outputs": [],
   "source": [
    "def calculate_gene(gene_id):\n",
    "    # get gene information\n",
    "    gene_id, _, gene_start, gene_end, _ = get_gene(gene_id)\n",
    "\n",
    "    # select related DMRs\n",
    "    related_dmr = dmr_bed[(dmr_bed['start'] > gene_start - slop) &\n",
    "                          (dmr_bed['end'] < gene_end + slop)].copy()\n",
    "    \n",
    "    related_dmr_rate = dmr_rate.loc[related_dmr.index, use_clusters].copy()\n",
    "    related_dmr_rate.fillna(related_dmr_rate.mean(), axis=0, inplace=True)\n",
    "    \n",
    "    # construct Adata\n",
    "    adata = anndata.AnnData(X=related_dmr_rate.values.copy(),\n",
    "                            obs=pd.DataFrame([], related_dmr_rate.index),\n",
    "                            var=pd.DataFrame([], related_dmr_rate.columns))\n",
    "    sc.pp.scale(adata)\n",
    "    sc.pp.pca(adata)\n",
    "    \n",
    "    pcs = adata.obsm['X_pca'][:, :n_pc]\n",
    "    sc.pp.neighbors(adata, n_neighbors=int(round(np.log2(adata.shape[0]))), n_pcs=n_pc)\n",
    "    sc.tl.leiden(adata, resolution=resolution)\n",
    "    return adata.obs\n",
    "\n",
    "\n",
    "def get_annotation(gene_id):\n",
    "    gene_id, _, gene_start, gene_end, strand = get_gene(gene_id)\n",
    "    tss = gene_start if strand == '+' else gene_end\n",
    "    gene_cluster = calculate_gene(gene_id)\n",
    "    this_corr = dmr_corr[dmr_corr.index.get_level_values('Gene') == gene_id]['Corr']\n",
    "    this_corr.index = this_corr.index.droplevel('Gene')\n",
    "    gene_cluster['Corr'] = gene_cluster.index.map(this_corr).fillna(0)\n",
    "    \n",
    "    this_dmr_bed = dmr_bed.loc[gene_cluster.index]\n",
    "    dmr_center = (this_dmr_bed['end'] + this_dmr_bed['start']) / 2\n",
    "    gene_length = gene_end - gene_start\n",
    "    if strand == '+':\n",
    "        gene_cluster['reldist_tss'] = (dmr_center - gene_start) / gene_length\n",
    "    else:\n",
    "        gene_cluster['reldist_tss'] = (gene_end - dmr_center) / gene_length\n",
    "    gene_cluster['in_gene_body'] = (gene_cluster['reldist_tss'] > 0) & (gene_cluster['reldist_tss'] < 1)\n",
    "    \n",
    "    this_annot = dmr_annot[gene_cluster.index]\n",
    "    annot_df = pd.DataFrame(this_annot.X.todense(), \n",
    "                 index=this_annot.obs_names, columns=this_annot.var_names)\n",
    "    \n",
    "    # annotate TE cols\n",
    "    dna_te = annot_df.columns[20:33]\n",
    "    gene_cluster['is_dna_te'] = annot_df[dna_te].sum(axis=1) != 0\n",
    "    \n",
    "    line_te = annot_df.columns[33:39]\n",
    "    gene_cluster['is_line_te'] = annot_df[line_te].sum(axis=1) != 0\n",
    "    \n",
    "    ltr_te = annot_df.columns[39:45]\n",
    "    gene_cluster['is_ltr_te'] = annot_df[ltr_te].sum(axis=1) != 0\n",
    "    \n",
    "    sine_te = annot_df.columns[45:52]\n",
    "    gene_cluster['is_sine_te'] = annot_df[sine_te].sum(axis=1) != 0\n",
    "    \n",
    "    # this dmr within GOI's gene feature\n",
    "    gene_cluster['in_intron'] = annot_df['intron'].astype(bool) & gene_cluster['in_gene_body']\n",
    "    gene_cluster['in_exon'] = annot_df['exon'].astype(bool) & gene_cluster['in_gene_body']\n",
    "    gene_cluster['in_utr3'] = annot_df['UTR3'].astype(bool) & gene_cluster['in_gene_body']\n",
    "    gene_cluster['in_utr5'] = annot_df['UTR5'].astype(bool) & gene_cluster['in_gene_body']\n",
    "    \n",
    "    # previous mC study\n",
    "    gene_cluster['feDMR'] = annot_df['feDMR'].astype(bool)\n",
    "    gene_cluster['adultDMR'] = annot_df['adultDMR'].astype(bool)\n",
    "    \n",
    "    \n",
    "    other_profiles = []\n",
    "    # DMR hypo call in each cluster\n",
    "    this_hypo_hits = dmr_hits[gene_cluster.index]\n",
    "    hits_df = pd.DataFrame(this_hypo_hits.X.todense(), \n",
    "                 index=this_hypo_hits.obs_names, columns=this_hypo_hits.var_names)\n",
    "    hits_df.columns = hits_df.columns.map(lambda i: f'HypoDMR.{i}')\n",
    "    other_profiles.append(hits_df)\n",
    "    \n",
    "    # DMR rate\n",
    "    related_dmr_rate = dmr_rate.loc[gene_cluster['leiden'].sort_values().index, use_clusters].copy()\n",
    "    related_dmr_rate.fillna(related_dmr_rate.mean(), axis=0, inplace=True)\n",
    "    related_dmr_rate.columns = related_dmr_rate.columns.map(lambda i: f'DMRRate.{i}')\n",
    "    other_profiles.append(related_dmr_rate)\n",
    "    \n",
    "    # atac peak\n",
    "    atac_peak_df = atac_peak.loc[related_dmr_rate.index, use_clusters].copy()\n",
    "    other_profiles.append(atac_peak_df)\n",
    "    atac_peak_df.columns = atac_peak_df.columns.map(lambda i: f'ATACPeak.{i}')\n",
    "    \n",
    "    dmr_annotation = pd.concat([gene_cluster] + other_profiles, axis=1, sort=True)\n",
    "    return dmr_annotation"
   ]
  },
  {
   "cell_type": "code",
   "execution_count": null,
   "metadata": {
    "ExecuteTime": {
     "start_time": "2020-02-01T05:45:05.301Z"
    },
    "papermill": {},
    "tags": []
   },
   "outputs": [
    {
     "name": "stdout",
     "output_type": "stream",
     "text": [
      "ENSMUSG00000022353.10\n",
      "ENSMUSG00000061731.9\n",
      "ENSMUSG00000036800.8\n",
      "ENSMUSG00000022377.16\n",
      "ENSMUSG00000041708.12\n",
      "ENSMUSG00000022270.16\n",
      "ENSMUSG00000016664.16\n",
      "ENSMUSG00000071757.10\n",
      "ENSMUSG00000019146.2\n",
      "ENSMUSG00000036158.12\n",
      "ENSMUSG00000051359.15\n",
      "ENSMUSG00000022441.17\n",
      "ENSMUSG00000022321.15\n",
      "ENSMUSG00000022376.8\n",
      "ENSMUSG00000115157.1\n",
      "ENSMUSG00000022261.6\n",
      "ENSMUSG00000022306.9\n",
      "ENSMUSG00000022231.10\n",
      "ENSMUSG00000038679.16\n",
      "ENSMUSG00000022237.17\n",
      "ENSMUSG00000015002.18\n",
      "ENSMUSG00000094296.1\n",
      "ENSMUSG00000062373.8\n",
      "ENSMUSG00000022416.15\n",
      "ENSMUSG00000022372.14\n",
      "ENSMUSG00000062760.10\n",
      "ENSMUSG00000115729.1\n",
      "ENSMUSG00000044250.8\n",
      "ENSMUSG00000060429.12\n",
      "ENSMUSG00000053469.14\n",
      "ENSMUSG00000023026.16\n",
      "ENSMUSG00000022378.14\n",
      "ENSMUSG00000054863.9\n",
      "ENSMUSG00000016552.13\n",
      "ENSMUSG00000050439.7\n",
      "ENSMUSG00000016763.15\n",
      "ENSMUSG00000016624.15\n",
      "ENSMUSG00000079022.10\n",
      "ENSMUSG00000022312.11\n",
      "ENSMUSG00000022362.13\n",
      "ENSMUSG00000000552.10\n",
      "ENSMUSG00000022419.16\n",
      "ENSMUSG00000022265.7\n",
      "ENSMUSG00000005268.20\n",
      "ENSMUSG00000013846.10\n",
      "ENSMUSG00000115850.1\n",
      "ENSMUSG00000039385.5\n",
      "ENSMUSG00000037106.8\n",
      "ENSMUSG00000022206.7\n",
      "ENSMUSG00000055022.14\n",
      "ENSMUSG00000022489.6\n",
      "ENSMUSG00000022272.17\n",
      "ENSMUSG00000097452.2\n",
      "ENSMUSG00000022361.14\n",
      "ENSMUSG00000054277.8\n",
      "ENSMUSG00000023022.14\n",
      "ENSMUSG00000023032.12\n",
      "ENSMUSG00000064210.7\n",
      "ENSMUSG00000023017.10\n",
      "ENSMUSG00000036661.14\n",
      "ENSMUSG00000022288.1\n",
      "ENSMUSG00000037579.7\n",
      "ENSMUSG00000036760.7\n",
      "ENSMUSG00000115654.1\n",
      "ENSMUSG00000022305.13\n",
      "ENSMUSG00000022438.6\n",
      "ENSMUSG00000086125.1\n",
      "ENSMUSG00000041852.15\n",
      "ENSMUSG00000086992.7\n",
      "ENSMUSG00000045763.8\n",
      "ENSMUSG00000115062.1\n",
      "ENSMUSG00000024479.3\n",
      "ENSMUSG00000051920.7\n",
      "ENSMUSG00000022324.15\n",
      "ENSMUSG00000047497.10\n",
      "ENSMUSG00000025370.7\n",
      "ENSMUSG00000044216.7\n",
      "ENSMUSG00000097232.1\n",
      "ENSMUSG00000054263.12\n",
      "ENSMUSG00000055782.9\n",
      "ENSMUSG00000092375.1\n",
      "ENSMUSG00000038591.3\n",
      "ENSMUSG00000049148.8\n",
      "ENSMUSG00000100603.6\n",
      "ENSMUSG00000022262.8\n",
      "ENSMUSG00000069996.3\n",
      "ENSMUSG00000035900.18\n",
      "ENSMUSG00000022421.19\n",
      "ENSMUSG00000022309.9\n",
      "ENSMUSG00000022257.4\n",
      "ENSMUSG00000042564.13\n",
      "ENSMUSG00000022358.7\n",
      "ENSMUSG00000022369.13\n",
      "ENSMUSG00000022994.9\n",
      "ENSMUSG00000043556.10\n",
      "ENSMUSG00000022442.16\n",
      "ENSMUSG00000051237.7\n",
      "ENSMUSG00000059895.13\n",
      "ENSMUSG00000023033.14\n",
      "ENSMUSG00000044933.3\n",
      "ENSMUSG00000072487.11\n",
      "ENSMUSG00000022488.9\n",
      "ENSMUSG00000023015.14\n",
      "ENSMUSG00000042351.9\n",
      "ENSMUSG00000033075.17\n",
      "ENSMUSG00000022558.16\n",
      "ENSMUSG00000037627.16\n",
      "ENSMUSG00000022443.17\n",
      "ENSMUSG00000050697.9\n",
      "ENSMUSG00000075600.3\n",
      "ENSMUSG00000043460.7\n",
      "ENSMUSG00000116130.1\n",
      "ENSMUSG00000022434.8\n",
      "ENSMUSG00000116068.1\n",
      "ENSMUSG00000038879.8\n",
      "ENSMUSG00000022296.9\n",
      "ENSMUSG00000022269.13\n",
      "ENSMUSG00000115337.1\n",
      "ENSMUSG00000036046.14\n",
      "ENSMUSG00000097003.1\n",
      "ENSMUSG00000034730.17\n",
      "ENSMUSG00000022425.16\n",
      "ENSMUSG00000115779.1\n",
      "ENSMUSG00000115560.1\n",
      "ENSMUSG00000033088.19\n",
      "ENSMUSG00000023008.18\n",
      "ENSMUSG00000016028.10\n",
      "ENSMUSG00000023009.14\n",
      "ENSMUSG00000116031.1\n",
      "ENSMUSG00000036606.17\n",
      "ENSMUSG00000015365.15\n",
      "ENSMUSG00000042961.13\n",
      "ENSMUSG00000022602.14\n",
      "ENSMUSG00000054619.7\n",
      "ENSMUSG00000023011.8\n",
      "ENSMUSG00000023034.7\n",
      "ENSMUSG00000058099.16\n",
      "ENSMUSG00000022375.6\n",
      "ENSMUSG00000022429.11\n",
      "ENSMUSG00000035891.16\n",
      "ENSMUSG00000000531.5\n",
      "ENSMUSG00000115918.1\n",
      "ENSMUSG00000115339.1\n",
      "ENSMUSG00000006369.14\n",
      "ENSMUSG00000116114.1\n",
      "ENSMUSG00000115820.1\n",
      "ENSMUSG00000116483.1\n",
      "ENSMUSG00000115204.1\n",
      "ENSMUSG00000023021.15\n",
      "ENSMUSG00000115169.1\n",
      "ENSMUSG00000022993.7\n",
      "ENSMUSG00000072568.4\n",
      "ENSMUSG00000078907.2\n",
      "ENSMUSG00000115355.1\n",
      "ENSMUSG00000005125.13\n",
      "ENSMUSG00000022342.6\n",
      "ENSMUSG00000033697.15\n",
      "ENSMUSG00000022181.16\n",
      "ENSMUSG00000036698.11\n",
      "ENSMUSG00000037362.8\n",
      "ENSMUSG00000022414.8\n",
      "ENSMUSG00000046034.8\n",
      "ENSMUSG00000039458.15\n",
      "ENSMUSG00000116493.1\n",
      "ENSMUSG00000037465.10\n",
      "ENSMUSG00000100220.1\n",
      "ENSMUSG00000016541.10\n",
      "ENSMUSG00000022475.19\n",
      "ENSMUSG00000036106.15\n",
      "ENSMUSG00000022286.16\n",
      "ENSMUSG00000047888.10\n",
      "ENSMUSG00000022263.10\n",
      "ENSMUSG00000022360.8\n",
      "ENSMUSG00000022634.9\n",
      "ENSMUSG00000115773.1\n",
      "ENSMUSG00000115478.1\n",
      "ENSMUSG00000114971.1\n",
      "ENSMUSG00000005360.14\n",
      "ENSMUSG00000022629.17\n",
      "ENSMUSG00000022404.8\n",
      "ENSMUSG00000000489.7\n",
      "ENSMUSG00000022469.17\n",
      "ENSMUSG00000033039.10\n",
      "ENSMUSG00000102069.1\n",
      "ENSMUSG00000022526.8\n",
      "ENSMUSG00000005124.10\n",
      "ENSMUSG00000022304.13\n",
      "ENSMUSG00000094814.1\n",
      "ENSMUSG00000022253.15\n",
      "ENSMUSG00000009035.15\n",
      "ENSMUSG00000116294.1\n",
      "ENSMUSG00000033237.19\n",
      "ENSMUSG00000016637.7\n",
      "ENSMUSG00000089837.9\n",
      "ENSMUSG00000099013.1\n",
      "ENSMUSG00000022463.8\n",
      "ENSMUSG00000022408.7\n",
      "ENSMUSG00000039168.15\n",
      "ENSMUSG00000086801.1\n",
      "ENSMUSG00000086361.1\n",
      "ENSMUSG00000086541.8\n",
      "ENSMUSG00000056332.4\n",
      "ENSMUSG00000115680.1\n",
      "ENSMUSG00000036944.6\n",
      "ENSMUSG00000023169.15\n",
      "ENSMUSG00000041653.5\n",
      "ENSMUSG00000037617.12\n",
      "ENSMUSG00000115912.1\n",
      "ENSMUSG00000101671.1\n",
      "ENSMUSG00000116021.1\n",
      "ENSMUSG00000115137.1\n",
      "ENSMUSG00000047807.10\n",
      "ENSMUSG00000015001.17\n",
      "ENSMUSG00000115485.1\n",
      "ENSMUSG00000115620.1\n",
      "ENSMUSG00000042428.6\n",
      "ENSMUSG00000022155.9\n",
      "ENSMUSG00000116360.1\n",
      "ENSMUSG00000018865.9\n",
      "ENSMUSG00000096607.1\n",
      "ENSMUSG00000056069.10\n",
      "ENSMUSG00000022249.14\n",
      "ENSMUSG00000022300.10\n",
      "ENSMUSG00000068086.6\n",
      "ENSMUSG00000022146.12\n",
      "ENSMUSG00000090500.1\n",
      "ENSMUSG00000022464.14\n",
      "ENSMUSG00000023010.15\n",
      "ENSMUSG00000115970.1\n",
      "ENSMUSG00000115591.1\n",
      "ENSMUSG00000097536.2\n",
      "ENSMUSG00000022371.16\n",
      "ENSMUSG00000101892.1\n",
      "ENSMUSG00000072663.12\n",
      "ENSMUSG00000097259.2\n",
      "ENSMUSG00000000934.9\n",
      "ENSMUSG00000068206.13\n",
      "ENSMUSG00000093695.2\n",
      "ENSMUSG00000079105.4\n",
      "ENSMUSG00000022295.8\n",
      "ENSMUSG00000116505.1\n",
      "ENSMUSG00000090002.1\n",
      "ENSMUSG00000022297.15\n",
      "ENSMUSG00000071714.7\n",
      "ENSMUSG00000115164.2\n",
      "ENSMUSG00000022439.9\n",
      "ENSMUSG00000116311.1\n",
      "ENSMUSG00000000555.8\n",
      "ENSMUSG00000116256.1\n",
      "ENSMUSG00000115345.1\n",
      "ENSMUSG00000091119.2\n",
      "ENSMUSG00000116121.1\n",
      "ENSMUSG00000115752.1\n",
      "ENSMUSG00000022462.7\n",
      "ENSMUSG00000110018.2\n",
      "ENSMUSG00000089680.1\n",
      "ENSMUSG00000022415.12\n",
      "ENSMUSG00000022299.9\n",
      "ENSMUSG00000022141.7\n",
      "ENSMUSG00000115986.1\n",
      "ENSMUSG00000037487.7\n",
      "ENSMUSG00000116004.1\n"
     ]
    }
   ],
   "source": [
    "for gene in genes:\n",
    "    print(gene)\n",
    "    check_path = output_dir / f'{gene}.DMR_cluster.msg'\n",
    "    if check_path.exists():\n",
    "        continue\n",
    "    \n",
    "    dmr_annotation = get_annotation(gene)\n",
    "    dmr_annotation.to_msgpack(output_dir / f'{gene}.DMR_detail.msg', compress='zlib')\n",
    "    \n",
    "    cluster_annotation = dmr_annotation.groupby('leiden').mean()\n",
    "    cluster_annotation.to_msgpack(output_dir / f'{gene}.DMR_cluster.msg', compress='zlib')"
   ]
  },
  {
   "cell_type": "code",
   "execution_count": null,
   "metadata": {
    "papermill": {},
    "scrolled": false,
    "tags": []
   },
   "outputs": [],
   "source": []
  },
  {
   "cell_type": "code",
   "execution_count": null,
   "metadata": {
    "papermill": {},
    "scrolled": true,
    "tags": []
   },
   "outputs": [],
   "source": []
  },
  {
   "cell_type": "code",
   "execution_count": null,
   "metadata": {
    "papermill": {},
    "tags": []
   },
   "outputs": [],
   "source": []
  },
  {
   "cell_type": "code",
   "execution_count": null,
   "metadata": {
    "papermill": {},
    "tags": []
   },
   "outputs": [],
   "source": []
  },
  {
   "cell_type": "code",
   "execution_count": null,
   "metadata": {
    "papermill": {},
    "tags": []
   },
   "outputs": [],
   "source": []
  },
  {
   "cell_type": "code",
   "execution_count": null,
   "metadata": {
    "papermill": {},
    "tags": []
   },
   "outputs": [],
   "source": []
  },
  {
   "cell_type": "code",
   "execution_count": null,
   "metadata": {
    "papermill": {},
    "tags": []
   },
   "outputs": [],
   "source": []
  },
  {
   "cell_type": "code",
   "execution_count": null,
   "metadata": {
    "papermill": {},
    "tags": []
   },
   "outputs": [],
   "source": []
  },
  {
   "cell_type": "code",
   "execution_count": null,
   "metadata": {
    "papermill": {},
    "tags": []
   },
   "outputs": [],
   "source": []
  },
  {
   "cell_type": "code",
   "execution_count": null,
   "metadata": {
    "papermill": {},
    "tags": []
   },
   "outputs": [],
   "source": []
  },
  {
   "cell_type": "code",
   "execution_count": null,
   "metadata": {
    "papermill": {},
    "tags": []
   },
   "outputs": [],
   "source": []
  },
  {
   "cell_type": "code",
   "execution_count": null,
   "metadata": {
    "papermill": {},
    "tags": []
   },
   "outputs": [],
   "source": []
  },
  {
   "cell_type": "code",
   "execution_count": null,
   "metadata": {
    "papermill": {},
    "tags": []
   },
   "outputs": [],
   "source": []
  },
  {
   "cell_type": "code",
   "execution_count": null,
   "metadata": {
    "papermill": {},
    "tags": []
   },
   "outputs": [],
   "source": []
  },
  {
   "cell_type": "code",
   "execution_count": null,
   "metadata": {
    "papermill": {},
    "tags": []
   },
   "outputs": [],
   "source": []
  },
  {
   "cell_type": "code",
   "execution_count": null,
   "metadata": {
    "papermill": {},
    "tags": []
   },
   "outputs": [],
   "source": []
  },
  {
   "cell_type": "code",
   "execution_count": null,
   "metadata": {
    "papermill": {},
    "tags": []
   },
   "outputs": [],
   "source": []
  }
 ],
 "metadata": {
  "hide_input": false,
  "kernelspec": {
   "display_name": "Python 3",
   "language": "python",
   "name": "python3"
  },
  "language_info": {
   "codemirror_mode": {
    "name": "ipython",
    "version": 3
   },
   "file_extension": ".py",
   "mimetype": "text/x-python",
   "name": "python",
   "nbconvert_exporter": "python",
   "pygments_lexer": "ipython3",
   "version": "3.7.3"
  },
  "papermill": {
   "environment_variables": {},
   "input_path": "DMRClustering_batch_per_chrom.ipynb",
   "output_path": "DMRCluster/DMRClustering_batch_per_chrom.chr15.ipynb",
   "parameters": {
    "chrom": "chr15",
    "genes": [
     "ENSMUSG00000022353.10",
     "ENSMUSG00000061731.9",
     "ENSMUSG00000036800.8",
     "ENSMUSG00000022377.16",
     "ENSMUSG00000041708.12",
     "ENSMUSG00000022270.16",
     "ENSMUSG00000016664.16",
     "ENSMUSG00000071757.10",
     "ENSMUSG00000019146.2",
     "ENSMUSG00000036158.12",
     "ENSMUSG00000051359.15",
     "ENSMUSG00000022441.17",
     "ENSMUSG00000022321.15",
     "ENSMUSG00000022376.8",
     "ENSMUSG00000115157.1",
     "ENSMUSG00000022261.6",
     "ENSMUSG00000022306.9",
     "ENSMUSG00000022231.10",
     "ENSMUSG00000038679.16",
     "ENSMUSG00000022237.17",
     "ENSMUSG00000015002.18",
     "ENSMUSG00000094296.1",
     "ENSMUSG00000062373.8",
     "ENSMUSG00000022416.15",
     "ENSMUSG00000022372.14",
     "ENSMUSG00000062760.10",
     "ENSMUSG00000115729.1",
     "ENSMUSG00000044250.8",
     "ENSMUSG00000060429.12",
     "ENSMUSG00000053469.14",
     "ENSMUSG00000023026.16",
     "ENSMUSG00000022378.14",
     "ENSMUSG00000054863.9",
     "ENSMUSG00000016552.13",
     "ENSMUSG00000050439.7",
     "ENSMUSG00000016763.15",
     "ENSMUSG00000016624.15",
     "ENSMUSG00000079022.10",
     "ENSMUSG00000022312.11",
     "ENSMUSG00000022362.13",
     "ENSMUSG00000000552.10",
     "ENSMUSG00000022419.16",
     "ENSMUSG00000022265.7",
     "ENSMUSG00000005268.20",
     "ENSMUSG00000013846.10",
     "ENSMUSG00000115850.1",
     "ENSMUSG00000039385.5",
     "ENSMUSG00000037106.8",
     "ENSMUSG00000022206.7",
     "ENSMUSG00000055022.14",
     "ENSMUSG00000022489.6",
     "ENSMUSG00000022272.17",
     "ENSMUSG00000097452.2",
     "ENSMUSG00000022361.14",
     "ENSMUSG00000054277.8",
     "ENSMUSG00000023022.14",
     "ENSMUSG00000023032.12",
     "ENSMUSG00000064210.7",
     "ENSMUSG00000023017.10",
     "ENSMUSG00000036661.14",
     "ENSMUSG00000022288.1",
     "ENSMUSG00000037579.7",
     "ENSMUSG00000036760.7",
     "ENSMUSG00000115654.1",
     "ENSMUSG00000022305.13",
     "ENSMUSG00000022438.6",
     "ENSMUSG00000086125.1",
     "ENSMUSG00000041852.15",
     "ENSMUSG00000086992.7",
     "ENSMUSG00000045763.8",
     "ENSMUSG00000115062.1",
     "ENSMUSG00000024479.3",
     "ENSMUSG00000051920.7",
     "ENSMUSG00000022324.15",
     "ENSMUSG00000047497.10",
     "ENSMUSG00000025370.7",
     "ENSMUSG00000044216.7",
     "ENSMUSG00000097232.1",
     "ENSMUSG00000054263.12",
     "ENSMUSG00000055782.9",
     "ENSMUSG00000092375.1",
     "ENSMUSG00000038591.3",
     "ENSMUSG00000049148.8",
     "ENSMUSG00000100603.6",
     "ENSMUSG00000022262.8",
     "ENSMUSG00000069996.3",
     "ENSMUSG00000035900.18",
     "ENSMUSG00000022421.19",
     "ENSMUSG00000022309.9",
     "ENSMUSG00000022257.4",
     "ENSMUSG00000042564.13",
     "ENSMUSG00000022358.7",
     "ENSMUSG00000022369.13",
     "ENSMUSG00000022994.9",
     "ENSMUSG00000043556.10",
     "ENSMUSG00000022442.16",
     "ENSMUSG00000051237.7",
     "ENSMUSG00000059895.13",
     "ENSMUSG00000023033.14",
     "ENSMUSG00000044933.3",
     "ENSMUSG00000072487.11",
     "ENSMUSG00000022488.9",
     "ENSMUSG00000023015.14",
     "ENSMUSG00000042351.9",
     "ENSMUSG00000033075.17",
     "ENSMUSG00000022558.16",
     "ENSMUSG00000037627.16",
     "ENSMUSG00000022443.17",
     "ENSMUSG00000050697.9",
     "ENSMUSG00000075600.3",
     "ENSMUSG00000043460.7",
     "ENSMUSG00000116130.1",
     "ENSMUSG00000022434.8",
     "ENSMUSG00000116068.1",
     "ENSMUSG00000038879.8",
     "ENSMUSG00000022296.9",
     "ENSMUSG00000022269.13",
     "ENSMUSG00000115337.1",
     "ENSMUSG00000036046.14",
     "ENSMUSG00000097003.1",
     "ENSMUSG00000034730.17",
     "ENSMUSG00000022425.16",
     "ENSMUSG00000115779.1",
     "ENSMUSG00000115560.1",
     "ENSMUSG00000033088.19",
     "ENSMUSG00000023008.18",
     "ENSMUSG00000016028.10",
     "ENSMUSG00000023009.14",
     "ENSMUSG00000116031.1",
     "ENSMUSG00000036606.17",
     "ENSMUSG00000015365.15",
     "ENSMUSG00000042961.13",
     "ENSMUSG00000022602.14",
     "ENSMUSG00000054619.7",
     "ENSMUSG00000023011.8",
     "ENSMUSG00000023034.7",
     "ENSMUSG00000058099.16",
     "ENSMUSG00000022375.6",
     "ENSMUSG00000022429.11",
     "ENSMUSG00000035891.16",
     "ENSMUSG00000000531.5",
     "ENSMUSG00000115918.1",
     "ENSMUSG00000115339.1",
     "ENSMUSG00000006369.14",
     "ENSMUSG00000116114.1",
     "ENSMUSG00000115820.1",
     "ENSMUSG00000116483.1",
     "ENSMUSG00000115204.1",
     "ENSMUSG00000023021.15",
     "ENSMUSG00000115169.1",
     "ENSMUSG00000022993.7",
     "ENSMUSG00000072568.4",
     "ENSMUSG00000078907.2",
     "ENSMUSG00000115355.1",
     "ENSMUSG00000005125.13",
     "ENSMUSG00000022342.6",
     "ENSMUSG00000033697.15",
     "ENSMUSG00000022181.16",
     "ENSMUSG00000036698.11",
     "ENSMUSG00000037362.8",
     "ENSMUSG00000022414.8",
     "ENSMUSG00000046034.8",
     "ENSMUSG00000039458.15",
     "ENSMUSG00000116493.1",
     "ENSMUSG00000037465.10",
     "ENSMUSG00000100220.1",
     "ENSMUSG00000016541.10",
     "ENSMUSG00000022475.19",
     "ENSMUSG00000036106.15",
     "ENSMUSG00000022286.16",
     "ENSMUSG00000047888.10",
     "ENSMUSG00000022263.10",
     "ENSMUSG00000022360.8",
     "ENSMUSG00000022634.9",
     "ENSMUSG00000115773.1",
     "ENSMUSG00000115478.1",
     "ENSMUSG00000114971.1",
     "ENSMUSG00000005360.14",
     "ENSMUSG00000022629.17",
     "ENSMUSG00000022404.8",
     "ENSMUSG00000000489.7",
     "ENSMUSG00000022469.17",
     "ENSMUSG00000033039.10",
     "ENSMUSG00000102069.1",
     "ENSMUSG00000022526.8",
     "ENSMUSG00000005124.10",
     "ENSMUSG00000022304.13",
     "ENSMUSG00000094814.1",
     "ENSMUSG00000022253.15",
     "ENSMUSG00000009035.15",
     "ENSMUSG00000116294.1",
     "ENSMUSG00000033237.19",
     "ENSMUSG00000016637.7",
     "ENSMUSG00000089837.9",
     "ENSMUSG00000099013.1",
     "ENSMUSG00000022463.8",
     "ENSMUSG00000022408.7",
     "ENSMUSG00000039168.15",
     "ENSMUSG00000086801.1",
     "ENSMUSG00000086361.1",
     "ENSMUSG00000086541.8",
     "ENSMUSG00000056332.4",
     "ENSMUSG00000115680.1",
     "ENSMUSG00000036944.6",
     "ENSMUSG00000023169.15",
     "ENSMUSG00000041653.5",
     "ENSMUSG00000037617.12",
     "ENSMUSG00000115912.1",
     "ENSMUSG00000101671.1",
     "ENSMUSG00000116021.1",
     "ENSMUSG00000115137.1",
     "ENSMUSG00000047807.10",
     "ENSMUSG00000015001.17",
     "ENSMUSG00000115485.1",
     "ENSMUSG00000115620.1",
     "ENSMUSG00000042428.6",
     "ENSMUSG00000022155.9",
     "ENSMUSG00000116360.1",
     "ENSMUSG00000018865.9",
     "ENSMUSG00000096607.1",
     "ENSMUSG00000056069.10",
     "ENSMUSG00000022249.14",
     "ENSMUSG00000022300.10",
     "ENSMUSG00000068086.6",
     "ENSMUSG00000022146.12",
     "ENSMUSG00000090500.1",
     "ENSMUSG00000022464.14",
     "ENSMUSG00000023010.15",
     "ENSMUSG00000115970.1",
     "ENSMUSG00000115591.1",
     "ENSMUSG00000097536.2",
     "ENSMUSG00000022371.16",
     "ENSMUSG00000101892.1",
     "ENSMUSG00000072663.12",
     "ENSMUSG00000097259.2",
     "ENSMUSG00000000934.9",
     "ENSMUSG00000068206.13",
     "ENSMUSG00000093695.2",
     "ENSMUSG00000079105.4",
     "ENSMUSG00000022295.8",
     "ENSMUSG00000116505.1",
     "ENSMUSG00000090002.1",
     "ENSMUSG00000022297.15",
     "ENSMUSG00000071714.7",
     "ENSMUSG00000115164.2",
     "ENSMUSG00000022439.9",
     "ENSMUSG00000116311.1",
     "ENSMUSG00000000555.8",
     "ENSMUSG00000116256.1",
     "ENSMUSG00000115345.1",
     "ENSMUSG00000091119.2",
     "ENSMUSG00000116121.1",
     "ENSMUSG00000115752.1",
     "ENSMUSG00000022462.7",
     "ENSMUSG00000110018.2",
     "ENSMUSG00000089680.1",
     "ENSMUSG00000022415.12",
     "ENSMUSG00000022299.9",
     "ENSMUSG00000022141.7",
     "ENSMUSG00000115986.1",
     "ENSMUSG00000037487.7",
     "ENSMUSG00000116004.1",
     "ENSMUSG00000115009.1",
     "ENSMUSG00000116345.1",
     "ENSMUSG00000071713.6",
     "ENSMUSG00000115908.1",
     "ENSMUSG00000114994.1",
     "ENSMUSG00000022350.7",
     "ENSMUSG00000058441.7",
     "ENSMUSG00000078932.8",
     "ENSMUSG00000022200.8",
     "ENSMUSG00000050310.9",
     "ENSMUSG00000022432.7",
     "ENSMUSG00000037185.9",
     "ENSMUSG00000079024.2",
     "ENSMUSG00000054115.11",
     "ENSMUSG00000015377.10",
     "ENSMUSG00000090237.1",
     "ENSMUSG00000022987.12",
     "ENSMUSG00000094112.2",
     "ENSMUSG00000115667.1",
     "ENSMUSG00000036197.16",
     "ENSMUSG00000116305.1",
     "ENSMUSG00000108748.1",
     "ENSMUSG00000093677.1",
     "ENSMUSG00000050963.7",
     "ENSMUSG00000018008.8",
     "ENSMUSG00000094447.2",
     "ENSMUSG00000115433.1",
     "ENSMUSG00000116000.1",
     "ENSMUSG00000005716.16",
     "ENSMUSG00000116299.1",
     "ENSMUSG00000065936.1",
     "ENSMUSG00000065049.1",
     "ENSMUSG00000063727.3",
     "ENSMUSG00000116081.1",
     "ENSMUSG00000115522.1",
     "ENSMUSG00000022565.15",
     "ENSMUSG00000115880.1",
     "ENSMUSG00000023007.15",
     "ENSMUSG00000050891.10",
     "ENSMUSG00000055114.9",
     "ENSMUSG00000115463.1",
     "ENSMUSG00000115177.1",
     "ENSMUSG00000079020.9",
     "ENSMUSG00000086313.1",
     "ENSMUSG00000022466.6",
     "ENSMUSG00000115063.1"
    ],
    "n_pc": 10,
    "resolution": 1,
    "slop": 250000
   },
   "version": "1.0.1"
  },
  "toc": {
   "base_numbering": 1,
   "nav_menu": {},
   "number_sections": true,
   "sideBar": true,
   "skip_h1_title": true,
   "title_cell": "Table of Contents",
   "title_sidebar": "Contents",
   "toc_cell": false,
   "toc_position": {},
   "toc_section_display": true,
   "toc_window_display": true
  }
 },
 "nbformat": 4,
 "nbformat_minor": 2
}
