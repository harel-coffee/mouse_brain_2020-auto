{
 "cells": [
  {
   "cell_type": "code",
   "execution_count": 1,
   "metadata": {
    "ExecuteTime": {
     "end_time": "2020-02-01T05:27:13.604975Z",
     "start_time": "2020-02-01T05:27:00.796049Z"
    },
    "papermill": {},
    "tags": []
   },
   "outputs": [],
   "source": [
    "import pandas as pd\n",
    "import numpy as np\n",
    "import anndata\n",
    "import scanpy as sc\n",
    "import seaborn as sns\n",
    "import matplotlib.pyplot as plt\n",
    "from matplotlib.patches import Rectangle\n",
    "from sklearn.decomposition import PCA\n",
    "from sklearn.cluster import KMeans\n",
    "import warnings\n",
    "import pathlib\n",
    "\n",
    "warnings.filterwarnings('ignore')"
   ]
  },
  {
   "cell_type": "code",
   "execution_count": 2,
   "metadata": {
    "ExecuteTime": {
     "end_time": "2020-02-01T05:27:13.617161Z",
     "start_time": "2020-02-01T05:27:13.609272Z"
    },
    "papermill": {},
    "tags": []
   },
   "outputs": [],
   "source": [
    "from matplotlib import rc\n",
    "labelsize = 6\n",
    "linewidth = 0.6\n",
    "rc('lines', linewidth=linewidth)\n",
    "rc('axes', labelsize=labelsize, linewidth=linewidth)\n",
    "rc('xtick', labelsize=labelsize)\n",
    "rc('ytick', labelsize=labelsize)\n",
    "rc('xtick.major', width=linewidth)\n",
    "rc('ytick.major', width=linewidth)\n",
    "rc('xtick.minor', width=linewidth - 0.2)\n",
    "rc('ytick.minor', width=linewidth - 0.2)"
   ]
  },
  {
   "cell_type": "code",
   "execution_count": 3,
   "metadata": {
    "ExecuteTime": {
     "end_time": "2020-02-01T05:27:13.626614Z",
     "start_time": "2020-02-01T05:27:13.620141Z"
    },
    "papermill": {},
    "tags": [
     "parameters"
    ]
   },
   "outputs": [],
   "source": [
    "chrom = 'chr2'\n",
    "genes = ['Lhx6']\n",
    "slop = 250000\n",
    "n_pc = 10\n",
    "resolution = 1"
   ]
  },
  {
   "cell_type": "code",
   "execution_count": 4,
   "metadata": {
    "ExecuteTime": {
     "end_time": "2020-02-01T05:27:13.695841Z",
     "start_time": "2020-02-01T05:27:13.630702Z"
    },
    "tags": [
     "injected-parameters"
    ]
   },
   "outputs": [],
   "source": [
    "# Parameters\n",
    "chrom = \"chrX\"\n",
    "genes = [\"ENSMUSG00000031133.12\", \"ENSMUSG00000059493.13\", \"ENSMUSG00000000266.11\", \"ENSMUSG00000031093.14\", \"ENSMUSG00000031342.17\", \"ENSMUSG00000004317.14\", \"ENSMUSG00000041710.4\", \"ENSMUSG00000025658.16\", \"ENSMUSG00000033965.10\", \"ENSMUSG00000031343.13\", \"ENSMUSG00000040990.17\", \"ENSMUSG00000067567.12\", \"ENSMUSG00000034480.18\", \"ENSMUSG00000023092.16\", \"ENSMUSG00000016382.15\", \"ENSMUSG00000062184.11\", \"ENSMUSG00000006678.6\", \"ENSMUSG00000059401.13\", \"ENSMUSG00000035776.14\", \"ENSMUSG00000031365.13\", \"ENSMUSG00000043518.7\", \"ENSMUSG00000018589.8\", \"ENSMUSG00000050379.15\", \"ENSMUSG00000049176.15\", \"ENSMUSG00000025246.13\", \"ENSMUSG00000085284.1\", \"ENSMUSG00000031189.12\", \"ENSMUSG00000079481.11\", \"ENSMUSG00000042425.18\", \"ENSMUSG00000031284.16\", \"ENSMUSG00000031273.16\", \"ENSMUSG00000031119.4\", \"ENSMUSG00000057457.11\", \"ENSMUSG00000031355.16\", \"ENSMUSG00000085568.7\", \"ENSMUSG00000031207.16\", \"ENSMUSG00000061082.11\", \"ENSMUSG00000085396.7\", \"ENSMUSG00000031309.15\", \"ENSMUSG00000031337.16\", \"ENSMUSG00000031109.16\", \"ENSMUSG00000031246.14\", \"ENSMUSG00000068270.15\", \"ENSMUSG00000046532.8\", \"ENSMUSG00000025592.17\", \"ENSMUSG00000053852.11\", \"ENSMUSG00000031137.17\", \"ENSMUSG00000047045.17\", \"ENSMUSG00000031360.14\", \"ENSMUSG00000060681.15\", \"ENSMUSG00000041688.16\", \"ENSMUSG00000067835.4\", \"ENSMUSG00000036782.13\", \"ENSMUSG00000031012.17\", \"ENSMUSG00000031292.14\", \"ENSMUSG00000017057.9\", \"ENSMUSG00000062949.13\", \"ENSMUSG00000047344.9\", \"ENSMUSG00000058254.12\", \"ENSMUSG00000041552.7\", \"ENSMUSG00000031434.15\", \"ENSMUSG00000073139.9\", \"ENSMUSG00000086807.8\", \"ENSMUSG00000041649.13\", \"ENSMUSG00000051323.16\", \"ENSMUSG00000087201.1\", \"ENSMUSG00000031150.13\", \"ENSMUSG00000031112.10\", \"ENSMUSG00000109088.1\", \"ENSMUSG00000031438.11\", \"ENSMUSG00000086441.1\", \"ENSMUSG00000054453.11\", \"ENSMUSG00000031278.12\", \"ENSMUSG00000041380.13\", \"ENSMUSG00000031285.14\", \"ENSMUSG00000035967.15\", \"ENSMUSG00000031274.16\", \"ENSMUSG00000086540.2\", \"ENSMUSG00000042473.8\", \"ENSMUSG00000097497.1\", \"ENSMUSG00000016239.11\", \"ENSMUSG00000025666.16\", \"ENSMUSG00000051361.7\", \"ENSMUSG00000000223.13\", \"ENSMUSG00000062168.12\", \"ENSMUSG00000040855.15\", \"ENSMUSG00000042225.3\", \"ENSMUSG00000031367.15\", \"ENSMUSG00000079508.8\", \"ENSMUSG00000067369.12\", \"ENSMUSG00000085998.8\", \"ENSMUSG00000086157.1\", \"ENSMUSG00000062393.13\", \"ENSMUSG00000073010.9\", \"ENSMUSG00000025038.7\", \"ENSMUSG00000031209.14\", \"ENSMUSG00000033361.13\", \"ENSMUSG00000031295.13\", \"ENSMUSG00000073274.4\", \"ENSMUSG00000067649.3\", \"ENSMUSG00000047996.16\", \"ENSMUSG00000072964.14\", \"ENSMUSG00000059708.12\", \"ENSMUSG00000091556.8\", \"ENSMUSG00000059327.9\", \"ENSMUSG00000071753.12\", \"ENSMUSG00000045802.13\", \"ENSMUSG00000036131.12\", \"ENSMUSG00000031303.8\", \"ENSMUSG00000055109.5\", \"ENSMUSG00000086860.1\", \"ENSMUSG00000071719.2\", \"ENSMUSG00000031173.13\", \"ENSMUSG00000009670.11\", \"ENSMUSG00000031376.15\", \"ENSMUSG00000072934.10\", \"ENSMUSG00000031433.15\", \"ENSMUSG00000025860.15\", \"ENSMUSG00000055653.13\", \"ENSMUSG00000031352.10\", \"ENSMUSG00000015214.14\", \"ENSMUSG00000097571.9\", \"ENSMUSG00000035246.16\", \"ENSMUSG00000031290.14\", \"ENSMUSG00000036790.5\", \"ENSMUSG00000037341.14\", \"ENSMUSG00000033906.5\", \"ENSMUSG00000079583.9\", \"ENSMUSG00000035277.15\", \"ENSMUSG00000036109.17\", \"ENSMUSG00000090084.7\", \"ENSMUSG00000063018.6\", \"ENSMUSG00000025059.16\", \"ENSMUSG00000031132.1\", \"ENSMUSG00000031099.16\", \"ENSMUSG00000034457.10\", \"ENSMUSG00000031283.16\"]\n",
    "slop = 250000\n",
    "n_pc = 10\n",
    "resolution = 1\n"
   ]
  },
  {
   "cell_type": "code",
   "execution_count": 5,
   "metadata": {
    "ExecuteTime": {
     "end_time": "2020-02-01T05:27:13.706433Z",
     "start_time": "2020-02-01T05:27:13.700682Z"
    },
    "papermill": {},
    "tags": []
   },
   "outputs": [],
   "source": [
    "output_dir = pathlib.Path(chrom)\n",
    "output_dir.mkdir(exist_ok=True)"
   ]
  },
  {
   "cell_type": "markdown",
   "metadata": {
    "papermill": {},
    "tags": []
   },
   "source": [
    "## Cell Meta"
   ]
  },
  {
   "cell_type": "code",
   "execution_count": 6,
   "metadata": {
    "ExecuteTime": {
     "end_time": "2020-02-01T05:27:15.720907Z",
     "start_time": "2020-02-01T05:27:13.710626Z"
    },
    "papermill": {},
    "tags": []
   },
   "outputs": [
    {
     "data": {
      "text/plain": [
       "145"
      ]
     },
     "execution_count": 6,
     "metadata": {},
     "output_type": "execute_result"
    }
   ],
   "source": [
    "cell_tidy_data = pd.read_msgpack(\n",
    "    '/home/hanliu/project/mouse_rostral_brain/study/ClusteringSummary/Summary/TotalClusteringResults.msg'\n",
    ")\n",
    "use_clusters = [\n",
    "    i.replace(' ', '_') for i in cell_tidy_data[cell_tidy_data['CellClass'].isin(['Exc', 'Inh'])]\n",
    "    ['SubType'].unique() if 'Outlier' not in i\n",
    "]\n",
    "len(use_clusters)"
   ]
  },
  {
   "cell_type": "markdown",
   "metadata": {
    "papermill": {},
    "tags": []
   },
   "source": [
    "## ATAC peaks"
   ]
  },
  {
   "cell_type": "code",
   "execution_count": 7,
   "metadata": {
    "ExecuteTime": {
     "end_time": "2020-02-01T05:28:04.036005Z",
     "start_time": "2020-02-01T05:27:15.728894Z"
    },
    "papermill": {},
    "tags": []
   },
   "outputs": [],
   "source": [
    "atac_peak = pd.read_msgpack('/home/hanliu/project/mouse_rostral_brain/study/DMRCluster/SubType.ATAC_peak_merged.msg')\n",
    "atac_peak = atac_peak.loc[atac_peak.index.map(lambda i: i.startswith(f'Sub{chrom}_'))].copy()"
   ]
  },
  {
   "cell_type": "markdown",
   "metadata": {
    "papermill": {},
    "tags": []
   },
   "source": [
    "## Gene Info"
   ]
  },
  {
   "cell_type": "code",
   "execution_count": 8,
   "metadata": {
    "ExecuteTime": {
     "end_time": "2020-02-01T05:28:06.042582Z",
     "start_time": "2020-02-01T05:28:04.050967Z"
    },
    "papermill": {},
    "tags": []
   },
   "outputs": [],
   "source": [
    "gene_meta = pd.read_csv(\n",
    "    '/home/hanliu/ref/mouse/gencode/vm22/gencode.vM22.annotation.gene.flat.tsv.gz',\n",
    "    index_col='gene_id', sep='\\t'\n",
    ")\n",
    "gene_meta = gene_meta[gene_meta['chrom'] == chrom].copy()"
   ]
  },
  {
   "cell_type": "code",
   "execution_count": 9,
   "metadata": {
    "ExecuteTime": {
     "end_time": "2020-02-01T05:28:09.186726Z",
     "start_time": "2020-02-01T05:28:06.053635Z"
    },
    "papermill": {},
    "tags": []
   },
   "outputs": [],
   "source": [
    "exon_bed = pd.read_csv('/home/hanliu/ref/mouse/gencode/vm22/genome_anno/exon.all.bed',\n",
    "                       header=None, sep='\\t')\n",
    "exon_bed.columns = ['chrom', 'start', 'end', 'gene_id', 'gene_name']"
   ]
  },
  {
   "cell_type": "markdown",
   "metadata": {
    "ExecuteTime": {
     "end_time": "2020-01-30T20:50:32.972616Z",
     "start_time": "2020-01-30T20:50:26.232994Z"
    },
    "papermill": {},
    "tags": []
   },
   "source": [
    "## DMR Info"
   ]
  },
  {
   "cell_type": "code",
   "execution_count": 10,
   "metadata": {
    "ExecuteTime": {
     "end_time": "2020-02-01T05:34:13.474997Z",
     "start_time": "2020-02-01T05:28:09.190347Z"
    },
    "papermill": {},
    "tags": []
   },
   "outputs": [],
   "source": [
    "with pd.HDFStore('/home/hanliu/project/mouse_rostral_brain/DMR/SubType/Total/DMRInfo.h5', 'r') as hdf:\n",
    "    dmr_rate = hdf['Rate']\n",
    "dmr_rate = dmr_rate.loc[dmr_rate.index.map(lambda i: i.startswith(f'Sub{chrom}_'))].copy()\n",
    "\n",
    "dmr_corr = pd.read_msgpack(\n",
    "    '/home/hanliu/project/mouse_rostral_brain/study/DMRGeneCorr/TotalGeneDMRCorrLoop.0.3.msg'\n",
    ")\n",
    "dmr_corr = dmr_corr.set_index(['DMR', 'Gene'])\n",
    "dmr_corr = dmr_corr.loc[dmr_corr.index.get_level_values('DMR').isin(dmr_rate.index)].copy()\n",
    "\n",
    "dmr_bed = pd.read_csv('/home/hanliu/project/mouse_rostral_brain/DMR/SubType/Total/TotalDMR.nofilter.bed',\n",
    "                      sep='\\t', header=None, index_col=3)\n",
    "dmr_bed.columns = ['chrom', 'start', 'end']\n",
    "dmr_bed = dmr_bed[dmr_bed['chrom'] == chrom].copy()\n",
    "\n",
    "dmr_hits = anndata.read_h5ad('/home/hanliu/project/mouse_rostral_brain/DMR/SubType/Total/TotalHits.HypoDMR.h5ad')\n",
    "dmr_hits = dmr_hits[dmr_rate.index, :].copy()\n",
    "dmr_hits = dmr_hits[:, use_clusters].copy()\n",
    "\n",
    "dmr_annot = anndata.read_h5ad('/home/hanliu/project/mouse_rostral_brain/DMR/SubType/Total/DMRAnnotation.h5ad')\n",
    "dmr_annot = dmr_annot[dmr_rate.index, :].copy()"
   ]
  },
  {
   "cell_type": "code",
   "execution_count": 11,
   "metadata": {
    "ExecuteTime": {
     "end_time": "2020-02-01T05:34:13.484605Z",
     "start_time": "2020-02-01T05:34:13.478434Z"
    },
    "papermill": {},
    "tags": []
   },
   "outputs": [
    {
     "data": {
      "text/plain": [
       "187296"
      ]
     },
     "execution_count": 11,
     "metadata": {},
     "output_type": "execute_result"
    }
   ],
   "source": [
    "dmr_hits.shape[0]"
   ]
  },
  {
   "cell_type": "code",
   "execution_count": 12,
   "metadata": {
    "ExecuteTime": {
     "end_time": "2020-02-01T05:34:13.516583Z",
     "start_time": "2020-02-01T05:34:13.486948Z"
    },
    "papermill": {},
    "tags": []
   },
   "outputs": [],
   "source": [
    "def get_gene(gene_id):\n",
    "    _gene = gene_meta.loc[gene_id]\n",
    "    return _gene.name, _gene['chrom'], _gene['start'], _gene['end'], _gene['strand']"
   ]
  },
  {
   "cell_type": "markdown",
   "metadata": {
    "papermill": {},
    "tags": []
   },
   "source": [
    "## Gene's DMR clustering"
   ]
  },
  {
   "cell_type": "code",
   "execution_count": 13,
   "metadata": {
    "ExecuteTime": {
     "end_time": "2020-02-01T05:34:13.644015Z",
     "start_time": "2020-02-01T05:34:13.524013Z"
    },
    "papermill": {},
    "scrolled": true,
    "tags": []
   },
   "outputs": [],
   "source": [
    "def calculate_gene(gene_id):\n",
    "    # get gene information\n",
    "    gene_id, _, gene_start, gene_end, _ = get_gene(gene_id)\n",
    "\n",
    "    # select related DMRs\n",
    "    related_dmr = dmr_bed[(dmr_bed['start'] > gene_start - slop) &\n",
    "                          (dmr_bed['end'] < gene_end + slop)].copy()\n",
    "    \n",
    "    related_dmr_rate = dmr_rate.loc[related_dmr.index, use_clusters].copy()\n",
    "    related_dmr_rate.fillna(related_dmr_rate.mean(), axis=0, inplace=True)\n",
    "    \n",
    "    # construct Adata\n",
    "    adata = anndata.AnnData(X=related_dmr_rate.values.copy(),\n",
    "                            obs=pd.DataFrame([], related_dmr_rate.index),\n",
    "                            var=pd.DataFrame([], related_dmr_rate.columns))\n",
    "    sc.pp.scale(adata)\n",
    "    sc.pp.pca(adata)\n",
    "    \n",
    "    pcs = adata.obsm['X_pca'][:, :n_pc]\n",
    "    sc.pp.neighbors(adata, n_neighbors=int(round(np.log2(adata.shape[0]))), n_pcs=n_pc)\n",
    "    sc.tl.leiden(adata, resolution=resolution)\n",
    "    return adata.obs\n",
    "\n",
    "\n",
    "def get_annotation(gene_id):\n",
    "    gene_id, _, gene_start, gene_end, strand = get_gene(gene_id)\n",
    "    tss = gene_start if strand == '+' else gene_end\n",
    "    gene_cluster = calculate_gene(gene_id)\n",
    "    this_corr = dmr_corr[dmr_corr.index.get_level_values('Gene') == gene_id]['Corr']\n",
    "    this_corr.index = this_corr.index.droplevel('Gene')\n",
    "    gene_cluster['Corr'] = gene_cluster.index.map(this_corr).fillna(0)\n",
    "    \n",
    "    this_dmr_bed = dmr_bed.loc[gene_cluster.index]\n",
    "    dmr_center = (this_dmr_bed['end'] + this_dmr_bed['start']) / 2\n",
    "    gene_length = gene_end - gene_start\n",
    "    if strand == '+':\n",
    "        gene_cluster['reldist_tss'] = (dmr_center - gene_start) / gene_length\n",
    "    else:\n",
    "        gene_cluster['reldist_tss'] = (gene_end - dmr_center) / gene_length\n",
    "    gene_cluster['in_gene_body'] = (gene_cluster['reldist_tss'] > 0) & (gene_cluster['reldist_tss'] < 1)\n",
    "    \n",
    "    this_annot = dmr_annot[gene_cluster.index]\n",
    "    annot_df = pd.DataFrame(this_annot.X.todense(), \n",
    "                 index=this_annot.obs_names, columns=this_annot.var_names)\n",
    "    \n",
    "    # annotate TE cols\n",
    "    dna_te = annot_df.columns[20:33]\n",
    "    gene_cluster['is_dna_te'] = annot_df[dna_te].sum(axis=1) != 0\n",
    "    \n",
    "    line_te = annot_df.columns[33:39]\n",
    "    gene_cluster['is_line_te'] = annot_df[line_te].sum(axis=1) != 0\n",
    "    \n",
    "    ltr_te = annot_df.columns[39:45]\n",
    "    gene_cluster['is_ltr_te'] = annot_df[ltr_te].sum(axis=1) != 0\n",
    "    \n",
    "    sine_te = annot_df.columns[45:52]\n",
    "    gene_cluster['is_sine_te'] = annot_df[sine_te].sum(axis=1) != 0\n",
    "    \n",
    "    # this dmr within GOI's gene feature\n",
    "    gene_cluster['in_intron'] = annot_df['intron'].astype(bool) & gene_cluster['in_gene_body']\n",
    "    gene_cluster['in_exon'] = annot_df['exon'].astype(bool) & gene_cluster['in_gene_body']\n",
    "    gene_cluster['in_utr3'] = annot_df['UTR3'].astype(bool) & gene_cluster['in_gene_body']\n",
    "    gene_cluster['in_utr5'] = annot_df['UTR5'].astype(bool) & gene_cluster['in_gene_body']\n",
    "    \n",
    "    # previous mC study\n",
    "    gene_cluster['feDMR'] = annot_df['feDMR'].astype(bool)\n",
    "    gene_cluster['adultDMR'] = annot_df['adultDMR'].astype(bool)\n",
    "    \n",
    "    \n",
    "    other_profiles = []\n",
    "    # DMR hypo call in each cluster\n",
    "    this_hypo_hits = dmr_hits[gene_cluster.index]\n",
    "    hits_df = pd.DataFrame(this_hypo_hits.X.todense(), \n",
    "                 index=this_hypo_hits.obs_names, columns=this_hypo_hits.var_names)\n",
    "    hits_df.columns = hits_df.columns.map(lambda i: f'HypoDMR.{i}')\n",
    "    other_profiles.append(hits_df)\n",
    "    \n",
    "    # DMR rate\n",
    "    related_dmr_rate = dmr_rate.loc[gene_cluster['leiden'].sort_values().index, use_clusters].copy()\n",
    "    related_dmr_rate.fillna(related_dmr_rate.mean(), axis=0, inplace=True)\n",
    "    related_dmr_rate.columns = related_dmr_rate.columns.map(lambda i: f'DMRRate.{i}')\n",
    "    other_profiles.append(related_dmr_rate)\n",
    "    \n",
    "    # atac peak\n",
    "    atac_peak_df = atac_peak.loc[related_dmr_rate.index, use_clusters].copy()\n",
    "    other_profiles.append(atac_peak_df)\n",
    "    atac_peak_df.columns = atac_peak_df.columns.map(lambda i: f'ATACPeak.{i}')\n",
    "    \n",
    "    dmr_annotation = pd.concat([gene_cluster] + other_profiles, axis=1, sort=True)\n",
    "    return dmr_annotation"
   ]
  },
  {
   "cell_type": "code",
   "execution_count": 15,
   "metadata": {
    "ExecuteTime": {
     "end_time": "2020-02-01T06:23:37.618942Z",
     "start_time": "2020-02-01T06:20:33.614505Z"
    },
    "papermill": {},
    "scrolled": true,
    "tags": []
   },
   "outputs": [
    {
     "name": "stdout",
     "output_type": "stream",
     "text": [
      "ENSMUSG00000031133.12\n",
      "ENSMUSG00000059493.13\n",
      "ENSMUSG00000000266.11\n",
      "ENSMUSG00000031093.14\n",
      "ENSMUSG00000031342.17\n",
      "ENSMUSG00000004317.14\n",
      "ENSMUSG00000041710.4\n",
      "ENSMUSG00000025658.16\n",
      "ENSMUSG00000033965.10\n",
      "ENSMUSG00000031343.13\n",
      "ENSMUSG00000040990.17\n",
      "ENSMUSG00000067567.12\n",
      "ENSMUSG00000034480.18\n",
      "ENSMUSG00000023092.16\n",
      "ENSMUSG00000016382.15\n",
      "ENSMUSG00000062184.11\n",
      "ENSMUSG00000006678.6\n",
      "ENSMUSG00000059401.13\n",
      "ENSMUSG00000035776.14\n",
      "ENSMUSG00000031365.13\n",
      "ENSMUSG00000043518.7\n",
      "ENSMUSG00000018589.8\n",
      "ENSMUSG00000050379.15\n",
      "ENSMUSG00000049176.15\n",
      "ENSMUSG00000025246.13\n",
      "ENSMUSG00000085284.1\n",
      "ENSMUSG00000031189.12\n",
      "ENSMUSG00000079481.11\n",
      "ENSMUSG00000042425.18\n",
      "ENSMUSG00000031284.16\n",
      "ENSMUSG00000031273.16\n",
      "ENSMUSG00000031119.4\n",
      "ENSMUSG00000057457.11\n",
      "ENSMUSG00000031355.16\n",
      "ENSMUSG00000085568.7\n",
      "ENSMUSG00000031207.16\n",
      "ENSMUSG00000061082.11\n",
      "ENSMUSG00000085396.7\n",
      "ENSMUSG00000031309.15\n",
      "ENSMUSG00000031337.16\n",
      "ENSMUSG00000031109.16\n",
      "ENSMUSG00000031246.14\n",
      "ENSMUSG00000068270.15\n",
      "ENSMUSG00000046532.8\n",
      "ENSMUSG00000025592.17\n",
      "ENSMUSG00000053852.11\n",
      "ENSMUSG00000031137.17\n",
      "ENSMUSG00000047045.17\n",
      "ENSMUSG00000031360.14\n",
      "ENSMUSG00000060681.15\n",
      "ENSMUSG00000041688.16\n",
      "ENSMUSG00000067835.4\n",
      "ENSMUSG00000036782.13\n",
      "ENSMUSG00000031012.17\n",
      "ENSMUSG00000031292.14\n",
      "ENSMUSG00000017057.9\n",
      "ENSMUSG00000062949.13\n",
      "ENSMUSG00000047344.9\n",
      "ENSMUSG00000058254.12\n",
      "ENSMUSG00000041552.7\n",
      "ENSMUSG00000031434.15\n",
      "ENSMUSG00000073139.9\n",
      "ENSMUSG00000086807.8\n",
      "ENSMUSG00000041649.13\n",
      "ENSMUSG00000051323.16\n",
      "ENSMUSG00000087201.1\n",
      "ENSMUSG00000031150.13\n",
      "ENSMUSG00000031112.10\n",
      "ENSMUSG00000109088.1\n",
      "ENSMUSG00000031438.11\n",
      "ENSMUSG00000086441.1\n",
      "ENSMUSG00000054453.11\n",
      "ENSMUSG00000031278.12\n",
      "ENSMUSG00000041380.13\n",
      "ENSMUSG00000031285.14\n",
      "ENSMUSG00000035967.15\n",
      "ENSMUSG00000031274.16\n",
      "ENSMUSG00000086540.2\n",
      "ENSMUSG00000042473.8\n",
      "ENSMUSG00000097497.1\n",
      "ENSMUSG00000016239.11\n",
      "ENSMUSG00000025666.16\n",
      "ENSMUSG00000051361.7\n",
      "ENSMUSG00000000223.13\n",
      "ENSMUSG00000062168.12\n",
      "ENSMUSG00000040855.15\n",
      "ENSMUSG00000042225.3\n",
      "ENSMUSG00000031367.15\n",
      "ENSMUSG00000079508.8\n",
      "ENSMUSG00000067369.12\n",
      "ENSMUSG00000085998.8\n",
      "ENSMUSG00000086157.1\n",
      "ENSMUSG00000062393.13\n",
      "ENSMUSG00000073010.9\n",
      "ENSMUSG00000025038.7\n",
      "ENSMUSG00000031209.14\n",
      "ENSMUSG00000033361.13\n",
      "ENSMUSG00000031295.13\n",
      "ENSMUSG00000073274.4\n",
      "ENSMUSG00000067649.3\n",
      "ENSMUSG00000047996.16\n",
      "ENSMUSG00000072964.14\n",
      "ENSMUSG00000059708.12\n",
      "ENSMUSG00000091556.8\n",
      "ENSMUSG00000059327.9\n",
      "ENSMUSG00000071753.12\n",
      "ENSMUSG00000045802.13\n",
      "ENSMUSG00000036131.12\n",
      "ENSMUSG00000031303.8\n",
      "ENSMUSG00000055109.5\n",
      "ENSMUSG00000086860.1\n",
      "ENSMUSG00000071719.2\n",
      "ENSMUSG00000031173.13\n",
      "ENSMUSG00000009670.11\n",
      "ENSMUSG00000031376.15\n",
      "ENSMUSG00000072934.10\n",
      "ENSMUSG00000031433.15\n",
      "ENSMUSG00000025860.15\n",
      "ENSMUSG00000055653.13\n",
      "ENSMUSG00000031352.10\n",
      "ENSMUSG00000015214.14\n",
      "ENSMUSG00000097571.9\n",
      "ENSMUSG00000035246.16\n",
      "ENSMUSG00000031290.14\n",
      "ENSMUSG00000036790.5\n",
      "ENSMUSG00000037341.14\n",
      "ENSMUSG00000033906.5\n",
      "ENSMUSG00000079583.9\n",
      "ENSMUSG00000035277.15\n",
      "ENSMUSG00000036109.17\n",
      "ENSMUSG00000090084.7\n",
      "ENSMUSG00000063018.6\n",
      "ENSMUSG00000025059.16\n",
      "ENSMUSG00000031132.1\n",
      "ENSMUSG00000031099.16\n",
      "ENSMUSG00000034457.10\n",
      "ENSMUSG00000031283.16\n"
     ]
    }
   ],
   "source": [
    "for gene in genes:\n",
    "    print(gene)\n",
    "    check_path = output_dir / f'{gene}.DMR_cluster.msg'\n",
    "    if check_path.exists():\n",
    "        continue\n",
    "    \n",
    "    dmr_annotation = get_annotation(gene)\n",
    "    dmr_annotation.to_msgpack(output_dir / f'{gene}.DMR_detail.msg', compress='zlib')\n",
    "    \n",
    "    cluster_annotation = dmr_annotation.groupby('leiden').mean()\n",
    "    cluster_annotation.to_msgpack(output_dir / f'{gene}.DMR_cluster.msg', compress='zlib')"
   ]
  },
  {
   "cell_type": "code",
   "execution_count": null,
   "metadata": {
    "papermill": {},
    "scrolled": false,
    "tags": []
   },
   "outputs": [],
   "source": []
  },
  {
   "cell_type": "code",
   "execution_count": null,
   "metadata": {
    "papermill": {},
    "scrolled": true,
    "tags": []
   },
   "outputs": [],
   "source": []
  },
  {
   "cell_type": "code",
   "execution_count": null,
   "metadata": {
    "papermill": {},
    "tags": []
   },
   "outputs": [],
   "source": []
  },
  {
   "cell_type": "code",
   "execution_count": null,
   "metadata": {
    "papermill": {},
    "tags": []
   },
   "outputs": [],
   "source": []
  },
  {
   "cell_type": "code",
   "execution_count": null,
   "metadata": {
    "papermill": {},
    "tags": []
   },
   "outputs": [],
   "source": []
  },
  {
   "cell_type": "code",
   "execution_count": null,
   "metadata": {
    "papermill": {},
    "tags": []
   },
   "outputs": [],
   "source": []
  },
  {
   "cell_type": "code",
   "execution_count": null,
   "metadata": {
    "papermill": {},
    "tags": []
   },
   "outputs": [],
   "source": []
  },
  {
   "cell_type": "code",
   "execution_count": null,
   "metadata": {
    "papermill": {},
    "tags": []
   },
   "outputs": [],
   "source": []
  },
  {
   "cell_type": "code",
   "execution_count": null,
   "metadata": {
    "papermill": {},
    "tags": []
   },
   "outputs": [],
   "source": []
  },
  {
   "cell_type": "code",
   "execution_count": null,
   "metadata": {
    "papermill": {},
    "tags": []
   },
   "outputs": [],
   "source": []
  },
  {
   "cell_type": "code",
   "execution_count": null,
   "metadata": {
    "papermill": {},
    "tags": []
   },
   "outputs": [],
   "source": []
  },
  {
   "cell_type": "code",
   "execution_count": null,
   "metadata": {
    "papermill": {},
    "tags": []
   },
   "outputs": [],
   "source": []
  },
  {
   "cell_type": "code",
   "execution_count": null,
   "metadata": {
    "papermill": {},
    "tags": []
   },
   "outputs": [],
   "source": []
  },
  {
   "cell_type": "code",
   "execution_count": null,
   "metadata": {
    "papermill": {},
    "tags": []
   },
   "outputs": [],
   "source": []
  },
  {
   "cell_type": "code",
   "execution_count": null,
   "metadata": {
    "papermill": {},
    "tags": []
   },
   "outputs": [],
   "source": []
  },
  {
   "cell_type": "code",
   "execution_count": null,
   "metadata": {
    "papermill": {},
    "tags": []
   },
   "outputs": [],
   "source": []
  },
  {
   "cell_type": "code",
   "execution_count": null,
   "metadata": {
    "papermill": {},
    "tags": []
   },
   "outputs": [],
   "source": []
  }
 ],
 "metadata": {
  "hide_input": false,
  "kernelspec": {
   "display_name": "Python 3",
   "language": "python",
   "name": "python3"
  },
  "language_info": {
   "codemirror_mode": {
    "name": "ipython",
    "version": 3
   },
   "file_extension": ".py",
   "mimetype": "text/x-python",
   "name": "python",
   "nbconvert_exporter": "python",
   "pygments_lexer": "ipython3",
   "version": "3.7.3"
  },
  "papermill": {
   "environment_variables": {},
   "input_path": "DMRClustering_batch_per_chrom.ipynb",
   "output_path": "DMRCluster/DMRClustering_batch_per_chrom.chrX.ipynb",
   "parameters": {
    "chrom": "chrX",
    "genes": [
     "ENSMUSG00000031133.12",
     "ENSMUSG00000059493.13",
     "ENSMUSG00000000266.11",
     "ENSMUSG00000031093.14",
     "ENSMUSG00000031342.17",
     "ENSMUSG00000004317.14",
     "ENSMUSG00000041710.4",
     "ENSMUSG00000025658.16",
     "ENSMUSG00000033965.10",
     "ENSMUSG00000031343.13",
     "ENSMUSG00000040990.17",
     "ENSMUSG00000067567.12",
     "ENSMUSG00000034480.18",
     "ENSMUSG00000023092.16",
     "ENSMUSG00000016382.15",
     "ENSMUSG00000062184.11",
     "ENSMUSG00000006678.6",
     "ENSMUSG00000059401.13",
     "ENSMUSG00000035776.14",
     "ENSMUSG00000031365.13",
     "ENSMUSG00000043518.7",
     "ENSMUSG00000018589.8",
     "ENSMUSG00000050379.15",
     "ENSMUSG00000049176.15",
     "ENSMUSG00000025246.13",
     "ENSMUSG00000085284.1",
     "ENSMUSG00000031189.12",
     "ENSMUSG00000079481.11",
     "ENSMUSG00000042425.18",
     "ENSMUSG00000031284.16",
     "ENSMUSG00000031273.16",
     "ENSMUSG00000031119.4",
     "ENSMUSG00000057457.11",
     "ENSMUSG00000031355.16",
     "ENSMUSG00000085568.7",
     "ENSMUSG00000031207.16",
     "ENSMUSG00000061082.11",
     "ENSMUSG00000085396.7",
     "ENSMUSG00000031309.15",
     "ENSMUSG00000031337.16",
     "ENSMUSG00000031109.16",
     "ENSMUSG00000031246.14",
     "ENSMUSG00000068270.15",
     "ENSMUSG00000046532.8",
     "ENSMUSG00000025592.17",
     "ENSMUSG00000053852.11",
     "ENSMUSG00000031137.17",
     "ENSMUSG00000047045.17",
     "ENSMUSG00000031360.14",
     "ENSMUSG00000060681.15",
     "ENSMUSG00000041688.16",
     "ENSMUSG00000067835.4",
     "ENSMUSG00000036782.13",
     "ENSMUSG00000031012.17",
     "ENSMUSG00000031292.14",
     "ENSMUSG00000017057.9",
     "ENSMUSG00000062949.13",
     "ENSMUSG00000047344.9",
     "ENSMUSG00000058254.12",
     "ENSMUSG00000041552.7",
     "ENSMUSG00000031434.15",
     "ENSMUSG00000073139.9",
     "ENSMUSG00000086807.8",
     "ENSMUSG00000041649.13",
     "ENSMUSG00000051323.16",
     "ENSMUSG00000087201.1",
     "ENSMUSG00000031150.13",
     "ENSMUSG00000031112.10",
     "ENSMUSG00000109088.1",
     "ENSMUSG00000031438.11",
     "ENSMUSG00000086441.1",
     "ENSMUSG00000054453.11",
     "ENSMUSG00000031278.12",
     "ENSMUSG00000041380.13",
     "ENSMUSG00000031285.14",
     "ENSMUSG00000035967.15",
     "ENSMUSG00000031274.16",
     "ENSMUSG00000086540.2",
     "ENSMUSG00000042473.8",
     "ENSMUSG00000097497.1",
     "ENSMUSG00000016239.11",
     "ENSMUSG00000025666.16",
     "ENSMUSG00000051361.7",
     "ENSMUSG00000000223.13",
     "ENSMUSG00000062168.12",
     "ENSMUSG00000040855.15",
     "ENSMUSG00000042225.3",
     "ENSMUSG00000031367.15",
     "ENSMUSG00000079508.8",
     "ENSMUSG00000067369.12",
     "ENSMUSG00000085998.8",
     "ENSMUSG00000086157.1",
     "ENSMUSG00000062393.13",
     "ENSMUSG00000073010.9",
     "ENSMUSG00000025038.7",
     "ENSMUSG00000031209.14",
     "ENSMUSG00000033361.13",
     "ENSMUSG00000031295.13",
     "ENSMUSG00000073274.4",
     "ENSMUSG00000067649.3",
     "ENSMUSG00000047996.16",
     "ENSMUSG00000072964.14",
     "ENSMUSG00000059708.12",
     "ENSMUSG00000091556.8",
     "ENSMUSG00000059327.9",
     "ENSMUSG00000071753.12",
     "ENSMUSG00000045802.13",
     "ENSMUSG00000036131.12",
     "ENSMUSG00000031303.8",
     "ENSMUSG00000055109.5",
     "ENSMUSG00000086860.1",
     "ENSMUSG00000071719.2",
     "ENSMUSG00000031173.13",
     "ENSMUSG00000009670.11",
     "ENSMUSG00000031376.15",
     "ENSMUSG00000072934.10",
     "ENSMUSG00000031433.15",
     "ENSMUSG00000025860.15",
     "ENSMUSG00000055653.13",
     "ENSMUSG00000031352.10",
     "ENSMUSG00000015214.14",
     "ENSMUSG00000097571.9",
     "ENSMUSG00000035246.16",
     "ENSMUSG00000031290.14",
     "ENSMUSG00000036790.5",
     "ENSMUSG00000037341.14",
     "ENSMUSG00000033906.5",
     "ENSMUSG00000079583.9",
     "ENSMUSG00000035277.15",
     "ENSMUSG00000036109.17",
     "ENSMUSG00000090084.7",
     "ENSMUSG00000063018.6",
     "ENSMUSG00000025059.16",
     "ENSMUSG00000031132.1",
     "ENSMUSG00000031099.16",
     "ENSMUSG00000034457.10",
     "ENSMUSG00000031283.16"
    ],
    "n_pc": 10,
    "resolution": 1,
    "slop": 250000
   },
   "version": "1.0.1"
  },
  "toc": {
   "base_numbering": 1,
   "nav_menu": {},
   "number_sections": true,
   "sideBar": true,
   "skip_h1_title": true,
   "title_cell": "Table of Contents",
   "title_sidebar": "Contents",
   "toc_cell": false,
   "toc_position": {},
   "toc_section_display": true,
   "toc_window_display": true
  }
 },
 "nbformat": 4,
 "nbformat_minor": 2
}
