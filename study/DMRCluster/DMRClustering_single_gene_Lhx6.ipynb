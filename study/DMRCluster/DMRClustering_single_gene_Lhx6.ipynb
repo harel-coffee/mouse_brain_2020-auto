{
 "cells": [
  {
   "cell_type": "code",
   "execution_count": 1,
   "metadata": {
    "ExecuteTime": {
     "end_time": "2020-02-03T05:30:40.915258Z",
     "start_time": "2020-02-03T05:30:38.995127Z"
    }
   },
   "outputs": [],
   "source": [
    "import pandas as pd\n",
    "import numpy as np\n",
    "import anndata\n",
    "import scanpy as sc\n",
    "import seaborn as sns\n",
    "import matplotlib.pyplot as plt\n",
    "from matplotlib.patches import Rectangle\n",
    "from sklearn.decomposition import PCA\n",
    "from sklearn.cluster import KMeans\n",
    "from ALLCools.plot.color import *\n",
    "from matplotlib.cm import get_cmap\n",
    "from matplotlib.colors import Normalize\n",
    "import json\n",
    "import joblib\n",
    "import warnings\n",
    "warnings.filterwarnings('ignore')"
   ]
  },
  {
   "cell_type": "code",
   "execution_count": 2,
   "metadata": {
    "ExecuteTime": {
     "end_time": "2020-02-03T05:30:40.920458Z",
     "start_time": "2020-02-03T05:30:40.916823Z"
    }
   },
   "outputs": [],
   "source": [
    "from matplotlib import rc\n",
    "labelsize = 6\n",
    "linewidth = 0.6\n",
    "rc('lines', linewidth=linewidth)\n",
    "rc('axes', labelsize=labelsize, linewidth=linewidth)\n",
    "rc('xtick', labelsize=labelsize)\n",
    "rc('ytick', labelsize=labelsize)\n",
    "rc('xtick.major', width=linewidth)\n",
    "rc('ytick.major', width=linewidth)\n",
    "rc('xtick.minor', width=linewidth - 0.2)\n",
    "rc('ytick.minor', width=linewidth - 0.2)"
   ]
  },
  {
   "cell_type": "markdown",
   "metadata": {},
   "source": [
    "## Cell Meta"
   ]
  },
  {
   "cell_type": "code",
   "execution_count": 3,
   "metadata": {
    "ExecuteTime": {
     "end_time": "2020-02-03T05:30:41.269581Z",
     "start_time": "2020-02-03T05:30:40.924469Z"
    }
   },
   "outputs": [],
   "source": [
    "cell_tidy_data = pd.read_msgpack(\n",
    "    '/home/hanliu/project/mouse_rostral_brain/study/ClusteringSummary/Summary/TotalClusteringResults.msg'\n",
    ")"
   ]
  },
  {
   "cell_type": "code",
   "execution_count": 4,
   "metadata": {
    "ExecuteTime": {
     "end_time": "2020-02-03T05:30:41.278851Z",
     "start_time": "2020-02-03T05:30:41.271132Z"
    }
   },
   "outputs": [],
   "source": [
    "sub_type_palette = pd.read_csv('/home/hanliu/project/mouse_rostral_brain/metadata/palette/sub_type.palette.csv',\n",
    "                                header=None, index_col=0, squeeze=True).to_dict()\n",
    "sub_type_palette = {k.replace(' ', '_'): v for k, v in sub_type_palette.items()}\n",
    "\n",
    "def hex_to_rgb(c):\n",
    "    return tuple(int(c[1:][i:i+2], 16) for i in (0, 2, 4))\n",
    "\n",
    "sub_type_palette_rgb = {k: hex_to_rgb(v) for k, v in sub_type_palette.items()}"
   ]
  },
  {
   "cell_type": "markdown",
   "metadata": {},
   "source": [
    "### Dendrogram"
   ]
  },
  {
   "cell_type": "code",
   "execution_count": 5,
   "metadata": {
    "ExecuteTime": {
     "end_time": "2020-02-03T05:30:43.983464Z",
     "start_time": "2020-02-03T05:30:43.977183Z"
    }
   },
   "outputs": [],
   "source": [
    "exc_dendro = joblib.load(\n",
    "    '/home/hanliu/project/mouse_rostral_brain/study/AssignGeneToTree/ExcGeneToTree/Dendrogram.lib'\n",
    ")\n",
    "inh_dendro = joblib.load(\n",
    "    '/home/hanliu/project/mouse_rostral_brain/study/AssignGeneToTree/InhGeneToTree/Dendrogram.lib'\n",
    ")\n",
    "use_clusters = exc_dendro['ivl'] + inh_dendro['ivl']\n",
    "use_clusters = [i.replace(' ', '_') for i in use_clusters]"
   ]
  },
  {
   "cell_type": "markdown",
   "metadata": {},
   "source": [
    "## ATAC peaks"
   ]
  },
  {
   "cell_type": "code",
   "execution_count": 6,
   "metadata": {
    "ExecuteTime": {
     "end_time": "2020-02-03T05:30:50.605783Z",
     "start_time": "2020-02-03T05:30:44.370852Z"
    }
   },
   "outputs": [],
   "source": [
    "atac_peak = pd.read_msgpack('SubType.ATAC_peak_merged.msg')"
   ]
  },
  {
   "cell_type": "markdown",
   "metadata": {},
   "source": [
    "## Gene Info"
   ]
  },
  {
   "cell_type": "code",
   "execution_count": 7,
   "metadata": {
    "ExecuteTime": {
     "end_time": "2020-02-03T05:30:50.791230Z",
     "start_time": "2020-02-03T05:30:50.607370Z"
    }
   },
   "outputs": [],
   "source": [
    "gene_meta = pd.read_csv(\n",
    "    '/home/hanliu/ref/mouse/gencode/vm22/gencode.vM22.annotation.gene.flat.tsv.gz',\n",
    "    index_col='gene_id',\n",
    "    sep='\\t')"
   ]
  },
  {
   "cell_type": "code",
   "execution_count": 8,
   "metadata": {
    "ExecuteTime": {
     "end_time": "2020-02-03T05:30:51.198794Z",
     "start_time": "2020-02-03T05:30:50.792948Z"
    }
   },
   "outputs": [],
   "source": [
    "exon_bed = pd.read_csv(\n",
    "    '/home/hanliu/ref/mouse/gencode/vm22/genome_anno/exon.all.bed',\n",
    "    header=None,\n",
    "    sep='\\t')\n",
    "exon_bed.columns = ['chrom', 'start', 'end', 'gene_id', 'gene_name']"
   ]
  },
  {
   "cell_type": "code",
   "execution_count": 9,
   "metadata": {
    "ExecuteTime": {
     "end_time": "2020-02-03T05:30:51.203339Z",
     "start_time": "2020-02-03T05:30:51.200361Z"
    }
   },
   "outputs": [],
   "source": [
    "def get_gene(gene_name):\n",
    "    _gene = gene_meta[gene_meta['gene_name'] == gene_name]\n",
    "    return _gene.index[0], _gene.iloc[0, 0], _gene.iloc[0, 3], _gene.iloc[\n",
    "        0, 4], _gene.iloc[0, 6]"
   ]
  },
  {
   "cell_type": "markdown",
   "metadata": {
    "ExecuteTime": {
     "end_time": "2020-01-30T20:50:32.972616Z",
     "start_time": "2020-01-30T20:50:26.232994Z"
    }
   },
   "source": [
    "## DMR Info"
   ]
  },
  {
   "cell_type": "code",
   "execution_count": 10,
   "metadata": {
    "ExecuteTime": {
     "end_time": "2020-02-03T05:31:36.714350Z",
     "start_time": "2020-02-03T05:30:51.204619Z"
    }
   },
   "outputs": [],
   "source": [
    "with pd.HDFStore(\n",
    "        '/home/hanliu/project/mouse_rostral_brain/DMR/SubType/Total/DMRInfo.h5',\n",
    "        'r') as hdf:\n",
    "    dmr_rate = hdf['Rate']\n",
    "\n",
    "dmr_corr = pd.read_msgpack(\n",
    "    '/home/hanliu/project/mouse_rostral_brain/study/DMRGeneCorr/TotalGeneDMRCorrLoop.0.3.msg')\n",
    "dmr_corr = dmr_corr.set_index(['DMR', 'Gene'])\n",
    "\n",
    "dmr_bed = pd.read_csv(\n",
    "    '/home/hanliu/project/mouse_rostral_brain/DMR/SubType/Total/TotalDMR.nofilter.bed',\n",
    "    sep='\\t',\n",
    "    header=None,\n",
    "    index_col=3)\n",
    "dmr_bed.columns = ['chrom', 'start', 'end']\n",
    "\n",
    "dmr_hits = anndata.read_h5ad(\n",
    "    '/home/hanliu/project/mouse_rostral_brain/DMR/SubType/Total/TotalHits.HypoDMR.h5ad'\n",
    ")\n",
    "dmr_hits = dmr_hits[:, use_clusters].copy()\n",
    "\n",
    "dmr_annot = anndata.read_h5ad(\n",
    "    '/home/hanliu/project/mouse_rostral_brain/DMR/SubType/Total/DMRAnnotation.h5ad'\n",
    ")"
   ]
  },
  {
   "cell_type": "code",
   "execution_count": 11,
   "metadata": {
    "ExecuteTime": {
     "end_time": "2020-02-03T05:31:36.722432Z",
     "start_time": "2020-02-03T05:31:36.716727Z"
    }
   },
   "outputs": [
    {
     "data": {
      "text/plain": [
       "4722053"
      ]
     },
     "execution_count": 11,
     "metadata": {},
     "output_type": "execute_result"
    }
   ],
   "source": [
    "dmr_hits.shape[0]"
   ]
  },
  {
   "cell_type": "markdown",
   "metadata": {},
   "source": [
    "## Gene's DMR clustering"
   ]
  },
  {
   "cell_type": "code",
   "execution_count": 12,
   "metadata": {
    "ExecuteTime": {
     "end_time": "2020-02-03T05:31:36.725668Z",
     "start_time": "2020-02-03T05:31:36.723606Z"
    }
   },
   "outputs": [],
   "source": [
    "gene_name = 'Lhx6'\n",
    "slop = 250000\n",
    "n_pc = 6\n",
    "resolution = 1.5"
   ]
  },
  {
   "cell_type": "code",
   "execution_count": 13,
   "metadata": {
    "ExecuteTime": {
     "end_time": "2020-02-03T05:31:36.730051Z",
     "start_time": "2020-02-03T05:31:36.727635Z"
    }
   },
   "outputs": [],
   "source": [
    "import pathlib\n",
    "\n",
    "gene_dir = pathlib.Path(gene_name)\n",
    "gene_dir.mkdir(exist_ok=True)"
   ]
  },
  {
   "cell_type": "code",
   "execution_count": 14,
   "metadata": {
    "ExecuteTime": {
     "end_time": "2020-02-03T05:31:36.737746Z",
     "start_time": "2020-02-03T05:31:36.731455Z"
    },
    "scrolled": true
   },
   "outputs": [],
   "source": [
    "def calculate_gene(gene_name):\n",
    "    # get gene information\n",
    "    gene_id, gene_chrom, gene_start, gene_end, _ = get_gene(gene_name)\n",
    "\n",
    "    # select related DMRs\n",
    "    related_dmr = dmr_bed[(dmr_bed['chrom'] == gene_chrom)\n",
    "                          & (dmr_bed['start'] > gene_start - slop) &\n",
    "                          (dmr_bed['end'] < gene_end + slop)].copy()\n",
    "\n",
    "    related_dmr_rate = dmr_rate.loc[related_dmr.index, use_clusters].copy()\n",
    "    related_dmr_rate.fillna(related_dmr_rate.mean(), axis=0, inplace=True)\n",
    "\n",
    "    # construct Adata\n",
    "    adata = anndata.AnnData(X=related_dmr_rate.values.copy(),\n",
    "                            obs=pd.DataFrame([], related_dmr_rate.index),\n",
    "                            var=pd.DataFrame([], related_dmr_rate.columns))\n",
    "    sc.pp.scale(adata)\n",
    "    sc.pp.pca(adata)\n",
    "    sc.pl.pca_variance_ratio(adata)\n",
    "\n",
    "    pcs = adata.obsm['X_pca'][:, :n_pc]\n",
    "    sc.pp.neighbors(adata,\n",
    "                    n_neighbors=int(round(np.log2(adata.shape[0]))),\n",
    "                    n_pcs=n_pc)\n",
    "    sc.tl.leiden(adata, resolution=resolution)\n",
    "    return adata.obs"
   ]
  },
  {
   "cell_type": "code",
   "execution_count": 15,
   "metadata": {
    "ExecuteTime": {
     "end_time": "2020-02-03T05:31:46.901435Z",
     "start_time": "2020-02-03T05:31:36.738951Z"
    },
    "scrolled": true
   },
   "outputs": [
    {
     "data": {
      "image/png": "[encoded data removed]",
      "text/plain": [
       "<Figure size 432x288 with 1 Axes>"
      ]
     },
     "metadata": {
      "needs_background": "light"
     },
     "output_type": "display_data"
    },
    {
     "data": {
      "text/plain": [
       "0     102\n",
       "1      95\n",
       "2      87\n",
       "3      81\n",
       "4      79\n",
       "5      79\n",
       "6      67\n",
       "7      66\n",
       "8      64\n",
       "9      63\n",
       "10     57\n",
       "11     57\n",
       "12     50\n",
       "13     44\n",
       "14     40\n",
       "15     40\n",
       "16     36\n",
       "17     33\n",
       "18     29\n",
       "19     28\n",
       "20     22\n",
       "21     20\n",
       "22     15\n",
       "Name: leiden, dtype: int64"
      ]
     },
     "execution_count": 15,
     "metadata": {},
     "output_type": "execute_result"
    }
   ],
   "source": [
    "gene_id, _, gene_start, gene_end, strand = get_gene(gene_name)\n",
    "tss = gene_start if strand == '+' else gene_end\n",
    "gene_length = gene_end - gene_start\n",
    "\n",
    "gene_cluster = calculate_gene(gene_name)\n",
    "gene_cluster['leiden'].value_counts()"
   ]
  },
  {
   "cell_type": "markdown",
   "metadata": {},
   "source": [
    "## Annotate DMRs"
   ]
  },
  {
   "cell_type": "code",
   "execution_count": 16,
   "metadata": {
    "ExecuteTime": {
     "end_time": "2020-02-03T05:31:49.698977Z",
     "start_time": "2020-02-03T05:31:46.902672Z"
    }
   },
   "outputs": [],
   "source": [
    "# add corr info\n",
    "this_corr = dmr_corr[dmr_corr.index.get_level_values('Gene') ==\n",
    "                     gene_id]['Corr']\n",
    "this_corr.index = this_corr.index.droplevel('Gene')\n",
    "gene_cluster['Corr'] = gene_cluster.index.map(this_corr).fillna(0)\n",
    "\n",
    "# add genebody location info\n",
    "this_dmr_bed = dmr_bed.loc[gene_cluster.index]\n",
    "dmr_center = (this_dmr_bed['end'] + this_dmr_bed['start']) / 2\n",
    "if strand == '+':\n",
    "    gene_cluster['reldist_tss'] = (dmr_center - gene_start) / gene_length\n",
    "else:\n",
    "    gene_cluster['reldist_tss'] = (gene_end - dmr_center) / gene_length\n",
    "gene_cluster['in_gene_body'] = (gene_cluster['reldist_tss'] > 0) & (gene_cluster['reldist_tss'] < 1)\n",
    "\n",
    "# add annotation infos\n",
    "this_annot = dmr_annot[gene_cluster.index]\n",
    "annot_df = pd.DataFrame(this_annot.X.todense(),\n",
    "                        index=this_annot.obs_names,\n",
    "                        columns=this_annot.var_names)\n",
    "# annotate TE cols\n",
    "dna_te = annot_df.columns[20:33]\n",
    "gene_cluster['is_dna_te'] = annot_df[dna_te].sum(axis=1) != 0\n",
    "\n",
    "line_te = annot_df.columns[33:39]\n",
    "gene_cluster['is_line_te'] = annot_df[line_te].sum(axis=1) != 0\n",
    "\n",
    "ltr_te = annot_df.columns[39:45]\n",
    "gene_cluster['is_ltr_te'] = annot_df[ltr_te].sum(axis=1) != 0\n",
    "\n",
    "sine_te = annot_df.columns[45:52]\n",
    "gene_cluster['is_sine_te'] = annot_df[sine_te].sum(axis=1) != 0\n",
    "# this dmr within GOI's gene feature\n",
    "gene_cluster['in_intron'] = annot_df['intron'].astype(\n",
    "    bool) & gene_cluster['in_gene_body']\n",
    "gene_cluster['in_exon'] = annot_df['exon'].astype(\n",
    "    bool) & gene_cluster['in_gene_body']\n",
    "gene_cluster['in_utr3'] = annot_df['UTR3'].astype(\n",
    "    bool) & gene_cluster['in_gene_body']\n",
    "gene_cluster['in_utr5'] = annot_df['UTR5'].astype(\n",
    "    bool) & gene_cluster['in_gene_body']\n",
    "# previous mC study\n",
    "gene_cluster['feDMR'] = annot_df['feDMR'].astype(bool)\n",
    "gene_cluster['adultDMR'] = annot_df['adultDMR'].astype(bool)"
   ]
  },
  {
   "cell_type": "markdown",
   "metadata": {},
   "source": [
    "## Clean clusters"
   ]
  },
  {
   "cell_type": "code",
   "execution_count": 17,
   "metadata": {
    "ExecuteTime": {
     "end_time": "2020-02-03T05:31:49.707146Z",
     "start_time": "2020-02-03T05:31:49.700309Z"
    }
   },
   "outputs": [],
   "source": [
    "gene_body_portion_cutoff = 0.12\n",
    "\n",
    "cluster_in_gene_body_portion = gene_cluster.groupby('leiden')['in_gene_body'].mean()\n",
    "use_dmr_cluster = cluster_in_gene_body_portion[cluster_in_gene_body_portion > gene_body_portion_cutoff].index\n",
    "gene_cluster = gene_cluster[gene_cluster['leiden'].isin(use_dmr_cluster)].copy()"
   ]
  },
  {
   "cell_type": "code",
   "execution_count": 18,
   "metadata": {
    "ExecuteTime": {
     "end_time": "2020-02-03T05:31:49.711873Z",
     "start_time": "2020-02-03T05:31:49.708332Z"
    }
   },
   "outputs": [
    {
     "data": {
      "text/plain": [
       "leiden\n",
       "0     0.000000\n",
       "1     0.021053\n",
       "2     0.000000\n",
       "3     0.209877\n",
       "4     0.000000\n",
       "5     0.025316\n",
       "6     0.000000\n",
       "7     0.000000\n",
       "8     0.187500\n",
       "9     0.000000\n",
       "10    0.000000\n",
       "11    0.000000\n",
       "12    0.000000\n",
       "13    0.000000\n",
       "14    0.000000\n",
       "15    0.000000\n",
       "16    0.000000\n",
       "17    0.000000\n",
       "18    0.000000\n",
       "19    0.000000\n",
       "20    0.363636\n",
       "21    0.400000\n",
       "22    0.933333\n",
       "Name: in_gene_body, dtype: float64"
      ]
     },
     "execution_count": 18,
     "metadata": {},
     "output_type": "execute_result"
    }
   ],
   "source": [
    "cluster_in_gene_body_portion"
   ]
  },
  {
   "cell_type": "code",
   "execution_count": 19,
   "metadata": {
    "ExecuteTime": {
     "end_time": "2020-02-03T05:31:49.716665Z",
     "start_time": "2020-02-03T05:31:49.713032Z"
    }
   },
   "outputs": [],
   "source": [
    "use_rate = dmr_rate.loc[gene_cluster.index]\n",
    "gene_cluster['MeanmCGRate'] = use_rate.mean(axis=1)"
   ]
  },
  {
   "cell_type": "code",
   "execution_count": 20,
   "metadata": {
    "ExecuteTime": {
     "end_time": "2020-02-03T05:31:49.723681Z",
     "start_time": "2020-02-03T05:31:49.717833Z"
    }
   },
   "outputs": [],
   "source": [
    "cluster_map = {\n",
    "    int(c): i\n",
    "    for i, c in enumerate(\n",
    "        gene_cluster.groupby('leiden')\n",
    "        ['MeanmCGRate'].mean().dropna().sort_values().index)\n",
    "}\n",
    "gene_cluster['leiden'] = gene_cluster['leiden'].astype(int).map(cluster_map)"
   ]
  },
  {
   "cell_type": "code",
   "execution_count": 21,
   "metadata": {
    "ExecuteTime": {
     "end_time": "2020-02-03T05:31:49.727514Z",
     "start_time": "2020-02-03T05:31:49.724933Z"
    }
   },
   "outputs": [
    {
     "data": {
      "text/plain": [
       "{21: 0, 8: 1, 20: 2, 3: 3, 22: 4}"
      ]
     },
     "execution_count": 21,
     "metadata": {},
     "output_type": "execute_result"
    }
   ],
   "source": [
    "cluster_map"
   ]
  },
  {
   "cell_type": "code",
   "execution_count": 22,
   "metadata": {
    "ExecuteTime": {
     "end_time": "2020-02-03T05:31:49.733201Z",
     "start_time": "2020-02-03T05:31:49.728633Z"
    }
   },
   "outputs": [],
   "source": [
    "gene_cluster = gene_cluster.sort_values(by=['leiden', 'MeanmCGRate'])\n",
    "dmr_clusters = gene_cluster['leiden']\n",
    "dmr_palette = level_one_palette(dmr_clusters.unique())"
   ]
  },
  {
   "cell_type": "markdown",
   "metadata": {
    "scrolled": true
   },
   "source": [
    "## Get ordered dataframe"
   ]
  },
  {
   "cell_type": "code",
   "execution_count": 23,
   "metadata": {
    "ExecuteTime": {
     "end_time": "2020-02-03T05:31:58.664027Z",
     "start_time": "2020-02-03T05:31:49.734387Z"
    }
   },
   "outputs": [],
   "source": [
    "# add hypo DMR call\n",
    "this_hypo_hits = dmr_hits[gene_cluster.index]\n",
    "hits_df = pd.DataFrame(this_hypo_hits.X.todense(),\n",
    "                       index=this_hypo_hits.obs_names,\n",
    "                       columns=this_hypo_hits.var_names).loc[:, use_clusters]\n",
    "\n",
    "# get DMR rate\n",
    "related_dmr_rate = dmr_rate.loc[gene_cluster.index, use_clusters].copy()\n",
    "related_dmr_rate.fillna(related_dmr_rate.mean(), axis=0, inplace=True)\n",
    "\n",
    "# get ATAC peak\n",
    "atac_peak_df = atac_peak.loc[gene_cluster.index, use_clusters].fillna(0)"
   ]
  },
  {
   "cell_type": "markdown",
   "metadata": {},
   "source": [
    "## Get exact ATAC level from bigwig"
   ]
  },
  {
   "cell_type": "code",
   "execution_count": 24,
   "metadata": {
    "ExecuteTime": {
     "end_time": "2020-02-03T05:32:01.214501Z",
     "start_time": "2020-02-03T05:31:58.665410Z"
    }
   },
   "outputs": [],
   "source": [
    "atac_bw_dir = pathlib.Path(\n",
    "    '/home/hanliu/project/mouse_rostral_brain/ATAC/bigwig/')\n",
    "atac_bw_dict = {\n",
    "    p.name.split('_')[0]: str(p)\n",
    "    for p in list(atac_bw_dir.glob('*.bw'))\n",
    "}\n",
    "\n",
    "import pyBigWig\n",
    "\n",
    "def get_region_level(dmr_bed, slop=250):\n",
    "    records = {}\n",
    "    for cluster, path in atac_bw_dict.items():\n",
    "        cluster_records = {}\n",
    "        with pyBigWig.open(path) as bw:\n",
    "            for dmr_id, (chrom, start, end) in dmr_bed.iterrows():\n",
    "                cluster_records[dmr_id] = bw.stats(chrom, start-slop, end+slop, type=\"mean\")[0]\n",
    "        records[cluster] = pd.Series(cluster_records)\n",
    "    records = pd.DataFrame(records)\n",
    "    return records\n",
    "\n",
    "with open(\n",
    "        '/home/hanliu/project/mouse_rostral_brain/metadata/label_transfer_between_modality/mC-ATAC.SubType.json'\n",
    ") as f:\n",
    "    sub_type_to_atac = json.load(f)\n",
    "sub_type_to_atac = {k.replace(' ', '_'): v for k, v in sub_type_to_atac.items()}\n",
    "\n",
    "\n",
    "# calculate cluster matched ATAC level\n",
    "use_bed = dmr_bed.loc[gene_cluster.index]\n",
    "atac_signal_df = get_region_level(use_bed, slop=250)\n",
    "atac_signal_mc_cluster_df = {}\n",
    "for sub_type, clusters in sub_type_to_atac.items():\n",
    "    atac_signal_mc_cluster_df[sub_type] = atac_signal_df[clusters].mean(axis=1)\n",
    "atac_signal_mc_cluster_df = pd.DataFrame(atac_signal_mc_cluster_df)\n",
    "atac_signal_mc_cluster_df = atac_signal_mc_cluster_df.loc[gene_cluster.index, use_clusters].copy()"
   ]
  },
  {
   "cell_type": "markdown",
   "metadata": {},
   "source": [
    "## Plot\n",
    "\n",
    "### Cell Type Diversity\n",
    "\n",
    "#### DMR mCG Rate"
   ]
  },
  {
   "cell_type": "code",
   "execution_count": 25,
   "metadata": {
    "ExecuteTime": {
     "end_time": "2020-02-03T05:32:01.446379Z",
     "start_time": "2020-02-03T05:32:01.215773Z"
    }
   },
   "outputs": [
    {
     "data": {
      "image/png": "[encoded data removed]",
      "text/plain": [
       "<Figure size 432x264 with 4 Axes>"
      ]
     },
     "metadata": {
      "needs_background": "light"
     },
     "output_type": "display_data"
    }
   ],
   "source": [
    "main_size = 15\n",
    "legend_size = 1\n",
    "gap_size = 0\n",
    "linksize = 2\n",
    "scale = 0.08\n",
    "\n",
    "gs_rows = 10 + legend_size\n",
    "gs_cols = main_size + legend_size + gap_size + linksize\n",
    "\n",
    "fig = plt.figure(figsize=(gs_cols * scale, gs_rows * scale), dpi=300)\n",
    "\n",
    "gs = fig.add_gridspec(gs_rows, gs_cols, wspace=0, hspace=0)\n",
    "\n",
    "ax1_heatmap = fig.add_subplot(gs[legend_size:, legend_size:legend_size +\n",
    "                                 main_size])\n",
    "ax1_col_legend = fig.add_subplot(gs[:legend_size, legend_size:legend_size +\n",
    "                                    main_size])\n",
    "ax1_row_legend = fig.add_subplot(gs[legend_size:, :legend_size])\n",
    "\n",
    "ax_link = fig.add_subplot(\n",
    "    gs[legend_size:, legend_size + main_size + gap_size:legend_size +\n",
    "       main_size + gap_size + linksize])\n",
    "\n",
    "ax = ax1_heatmap\n",
    "ax.imshow(related_dmr_rate.values,\n",
    "          aspect='auto',\n",
    "          vmin=0,\n",
    "          vmax=1,\n",
    "          cmap='viridis')\n",
    "ax.axis('off')\n",
    "\n",
    "ax = ax1_row_legend\n",
    "ax.imshow(np.array(dmr_clusters.map(dmr_palette).tolist())[:, None, :],\n",
    "          aspect='auto')\n",
    "ax.axis('off')\n",
    "\n",
    "ax = ax1_col_legend\n",
    "ax.imshow(np.array(\n",
    "    related_dmr_rate.columns.map(sub_type_palette_rgb).tolist())[None, :, :],\n",
    "          aspect='auto')\n",
    "ax.axis('off')\n",
    "\n",
    "ax = ax_link\n",
    "cluster_counts = dmr_clusters.value_counts().sort_index()\n",
    "left_y = [0] + (cluster_counts / dmr_clusters.size).cumsum().tolist()\n",
    "right_y = [0] + list((cluster_counts.index + 1) / cluster_counts.size)\n",
    "\n",
    "for i in range(cluster_counts.size):\n",
    "    ax_link.fill_between(x=[0, 0.33, 0.66, 1],\n",
    "                         y1=[left_y[i], left_y[i], right_y[i], right_y[i]],\n",
    "                         y2=[left_y[i + 1], left_y[i + 1], right_y[i + 1], right_y[i + 1]],\n",
    "                         fc=dmr_palette[i])\n",
    "ax.set(xlim=(0, 1), ylim=(1, 0))\n",
    "ax.axis('off')\n",
    "\n",
    "ax = ax1_heatmap\n",
    "for y in left_y:\n",
    "    ax.plot((0, 1), (1-y, 1-y), \n",
    "            linewidth=0.3, c='white', #linestyle='--', \n",
    "            transform=ax.transAxes, clip_on=False)\n",
    "fig.savefig(gene_dir / 'DMRHeatmap.pdf', bbox_inches='tight')"
   ]
  },
  {
   "cell_type": "code",
   "execution_count": 26,
   "metadata": {
    "ExecuteTime": {
     "end_time": "2020-02-03T05:32:01.592601Z",
     "start_time": "2020-02-03T05:32:01.447615Z"
    }
   },
   "outputs": [
    {
     "data": {
      "image/png": "[encoded data removed]",
      "text/plain": [
       "<Figure size 384x264 with 3 Axes>"
      ]
     },
     "metadata": {
      "needs_background": "light"
     },
     "output_type": "display_data"
    }
   ],
   "source": [
    "main_size = 15\n",
    "legend_size = 1\n",
    "gap_size = 0\n",
    "linksize = 0\n",
    "scale = 0.08\n",
    "\n",
    "gs_rows = 10 + legend_size\n",
    "gs_cols = main_size + legend_size + gap_size\n",
    "\n",
    "fig = plt.figure(figsize=(gs_cols * scale, gs_rows * scale), dpi=300)\n",
    "\n",
    "gs = fig.add_gridspec(gs_rows, gs_cols, wspace=0, hspace=0)\n",
    "\n",
    "ax1_heatmap = fig.add_subplot(gs[legend_size:, legend_size:legend_size +\n",
    "                                 main_size])\n",
    "ax1_col_legend = fig.add_subplot(gs[:legend_size, legend_size:legend_size +\n",
    "                                    main_size])\n",
    "ax1_row_legend = fig.add_subplot(gs[legend_size:, :legend_size])\n",
    "\n",
    "ax = ax1_heatmap\n",
    "ax.imshow(atac_signal_mc_cluster_df.values,\n",
    "          aspect='auto',\n",
    "          vmin=0,\n",
    "          vmax=1,\n",
    "          cmap='viridis')\n",
    "ax.axis('off')\n",
    "\n",
    "ax = ax1_row_legend\n",
    "ax.imshow(np.array(dmr_clusters.map(dmr_palette).tolist())[:, None, :],\n",
    "          aspect='auto')\n",
    "ax.axis('off')\n",
    "\n",
    "ax = ax1_col_legend\n",
    "ax.imshow(np.array(\n",
    "    related_dmr_rate.columns.map(sub_type_palette_rgb).tolist())[None, :, :],\n",
    "          aspect='auto')\n",
    "ax.axis('off')\n",
    "\n",
    "ax = ax1_heatmap\n",
    "for y in left_y:\n",
    "    ax.plot((0, 1), (1-y, 1-y), \n",
    "            linewidth=0.3, c='white', #linestyle='--', \n",
    "            transform=ax.transAxes, clip_on=False)\n",
    "fig.savefig(gene_dir / 'ATACNormSignalHeatmap.pdf', bbox_inches='tight')"
   ]
  },
  {
   "cell_type": "code",
   "execution_count": 27,
   "metadata": {
    "ExecuteTime": {
     "end_time": "2020-02-03T05:32:01.709210Z",
     "start_time": "2020-02-03T05:32:01.593842Z"
    }
   },
   "outputs": [
    {
     "data": {
      "image/png": "[encoded data removed]",
      "text/plain": [
       "<Figure size 384x264 with 3 Axes>"
      ]
     },
     "metadata": {
      "needs_background": "light"
     },
     "output_type": "display_data"
    }
   ],
   "source": [
    "main_size = 15\n",
    "legend_size = 1\n",
    "gap_size = 0\n",
    "linksize = 0\n",
    "scale = 0.08\n",
    "\n",
    "gs_rows = 10 + legend_size\n",
    "gs_cols = main_size + legend_size + gap_size\n",
    "\n",
    "fig = plt.figure(figsize=(gs_cols * scale, gs_rows * scale), dpi=300)\n",
    "\n",
    "gs = fig.add_gridspec(gs_rows, gs_cols, wspace=0, hspace=0)\n",
    "\n",
    "ax1_heatmap = fig.add_subplot(gs[legend_size:, legend_size:legend_size +\n",
    "                                 main_size])\n",
    "ax1_col_legend = fig.add_subplot(gs[:legend_size, legend_size:legend_size +\n",
    "                                    main_size])\n",
    "ax1_row_legend = fig.add_subplot(gs[legend_size:, :legend_size])\n",
    "\n",
    "ax = ax1_heatmap\n",
    "ax.imshow(atac_peak_df.values,\n",
    "          aspect='auto',\n",
    "          vmin=0,\n",
    "          vmax=1,\n",
    "          cmap='viridis')\n",
    "ax.axis('off')\n",
    "\n",
    "ax = ax1_row_legend\n",
    "ax.imshow(np.array(dmr_clusters.map(dmr_palette).tolist())[:, None, :],\n",
    "          aspect='auto')\n",
    "ax.axis('off')\n",
    "\n",
    "ax = ax1_col_legend\n",
    "ax.imshow(np.array(\n",
    "    related_dmr_rate.columns.map(sub_type_palette_rgb).tolist())[None, :, :],\n",
    "          aspect='auto')\n",
    "ax.axis('off')\n",
    "\n",
    "ax = ax1_heatmap\n",
    "for y in left_y:\n",
    "    ax.plot((0, 1), (1-y, 1-y), \n",
    "            linewidth=0.3, c='white', #linestyle='--', \n",
    "            transform=ax.transAxes, clip_on=False)\n",
    "fig.savefig(gene_dir / 'ATACPeakHeatmap.pdf', bbox_inches='tight')"
   ]
  },
  {
   "cell_type": "code",
   "execution_count": 28,
   "metadata": {
    "ExecuteTime": {
     "end_time": "2020-02-03T05:32:01.830522Z",
     "start_time": "2020-02-03T05:32:01.711351Z"
    }
   },
   "outputs": [
    {
     "data": {
      "image/png": "[encoded data removed]",
      "text/plain": [
       "<Figure size 384x264 with 3 Axes>"
      ]
     },
     "metadata": {
      "needs_background": "light"
     },
     "output_type": "display_data"
    }
   ],
   "source": [
    "main_size = 15\n",
    "legend_size = 1\n",
    "gap_size = 0\n",
    "linksize = 0\n",
    "scale = 0.08\n",
    "\n",
    "gs_rows = 10 + legend_size\n",
    "gs_cols = main_size + legend_size + gap_size\n",
    "\n",
    "fig = plt.figure(figsize=(gs_cols * scale, gs_rows * scale), dpi=300)\n",
    "\n",
    "gs = fig.add_gridspec(gs_rows, gs_cols, wspace=0, hspace=0)\n",
    "\n",
    "ax1_heatmap = fig.add_subplot(gs[legend_size:, legend_size:legend_size +\n",
    "                                 main_size])\n",
    "ax1_col_legend = fig.add_subplot(gs[:legend_size, legend_size:legend_size +\n",
    "                                    main_size])\n",
    "ax1_row_legend = fig.add_subplot(gs[legend_size:, :legend_size])\n",
    "\n",
    "ax = ax1_heatmap\n",
    "ax.imshow(hits_df.values,\n",
    "          aspect='auto',\n",
    "          vmin=0,\n",
    "          vmax=1,\n",
    "          cmap='viridis')\n",
    "ax.axis('off')\n",
    "\n",
    "ax = ax1_row_legend\n",
    "ax.imshow(np.array(dmr_clusters.map(dmr_palette).tolist())[:, None, :],\n",
    "          aspect='auto')\n",
    "ax.axis('off')\n",
    "\n",
    "ax = ax1_col_legend\n",
    "ax.imshow(np.array(\n",
    "    related_dmr_rate.columns.map(sub_type_palette_rgb).tolist())[None, :, :],\n",
    "          aspect='auto')\n",
    "ax.axis('off')\n",
    "\n",
    "ax = ax1_heatmap\n",
    "for y in left_y:\n",
    "    ax.plot((0, 1), (1-y, 1-y), \n",
    "            linewidth=0.3, c='white', #linestyle='--', \n",
    "            transform=ax.transAxes, clip_on=False)\n",
    "fig.savefig(gene_dir / 'ATACNormSignalHeatmap.pdf', bbox_inches='tight')"
   ]
  },
  {
   "cell_type": "markdown",
   "metadata": {
    "ExecuteTime": {
     "end_time": "2020-02-02T19:06:00.814213Z",
     "start_time": "2020-02-02T19:06:00.812008Z"
    }
   },
   "source": [
    "### Genome locations"
   ]
  },
  {
   "cell_type": "code",
   "execution_count": 29,
   "metadata": {
    "ExecuteTime": {
     "end_time": "2020-02-03T05:32:01.834035Z",
     "start_time": "2020-02-03T05:32:01.831855Z"
    }
   },
   "outputs": [],
   "source": [
    "cmap = get_cmap('coolwarm')\n",
    "cnorm = Normalize(vmin=0.3, vmax=0.8)"
   ]
  },
  {
   "cell_type": "code",
   "execution_count": 30,
   "metadata": {
    "ExecuteTime": {
     "end_time": "2020-02-03T05:32:02.729905Z",
     "start_time": "2020-02-03T05:32:01.835322Z"
    }
   },
   "outputs": [
    {
     "data": {
      "image/png": "[encoded data removed]",
      "text/plain": [
       "<Figure size 480x360 with 2 Axes>"
      ]
     },
     "metadata": {
      "needs_background": "light"
     },
     "output_type": "display_data"
    }
   ],
   "source": [
    "slop_portion = .2\n",
    "\n",
    "gene_length = gene_end - gene_start\n",
    "slop = gene_length * slop_portion\n",
    "n_cluster = gene_cluster['leiden'].unique().size\n",
    "\n",
    "legend_size = 0\n",
    "gene_model_size=2\n",
    "main_height = 10\n",
    "main_width = 20\n",
    "\n",
    "gs_rows = gene_model_size + main_height\n",
    "gs_cols = main_width + legend_size\n",
    "\n",
    "fig = plt.figure(figsize=(gs_cols * scale, main_size * scale), dpi=300)\n",
    "gs = fig.add_gridspec(gs_rows, gs_cols, wspace=0, hspace=0)\n",
    "\n",
    "ax_dmr = fig.add_subplot(gs[gene_model_size:, legend_size:])\n",
    "ax_gene_model = fig.add_subplot(gs[:gene_model_size, gene_model_size:])\n",
    "# ax_legend = fig.add_subplot(gs[gene_model_size:, :legend_size])\n",
    "\n",
    "ax = ax_dmr\n",
    "for cluster in sorted(dmr_clusters.unique()):\n",
    "    # print(cluster)\n",
    "    sub_df = gene_cluster[gene_cluster['leiden'] == cluster]\n",
    "    ax.axis('off')\n",
    "    this_dmrs = dmr_bed.loc[sub_df.index]\n",
    "    for _, row in this_dmrs.iterrows():\n",
    "        _, start, end = row\n",
    "        # print(start, end)\n",
    "        try:\n",
    "            # corr = gene_cluster.loc[row.name, 'feDMR']\n",
    "            corr = gene_cluster.loc[row.name, 'Corr']\n",
    "        except KeyError:\n",
    "            corr = 0\n",
    "        y_start = cluster / n_cluster\n",
    "        y_height = 1 / n_cluster\n",
    "        p = Rectangle((start, y_start), end - start, y_height, fc=cmap(cnorm(corr)))\n",
    "        ax.add_patch(p)\n",
    "ax.set(xlim=(gene_start - slop, gene_end + slop), ylim=(1, 0))\n",
    "# add line for each cluster separation\n",
    "for i in range(n_cluster+1):\n",
    "    y = i / n_cluster\n",
    "    ax.axhline(y, linewidth=0.5, c='lightgray')\n",
    "ax.plot((0.001, 0.001), (0, 1), linewidth=0.5, c='lightgray', transform=ax.transAxes)\n",
    "ax.plot((0.999, 0.999), (0, 1), linewidth=0.5, c='lightgray', transform=ax.transAxes)\n",
    "\n",
    "# gene body model\n",
    "ax = ax_gene_model\n",
    "p = Rectangle((gene_start, 0.45), gene_end - gene_start, 0.1)\n",
    "ax.add_patch(p)\n",
    "for _, (exon_start,\n",
    "        exon_end) in exon_bed.loc[exon_bed['gene_id'] ==\n",
    "                                  gene_id, ['start', 'end']].iterrows():\n",
    "    exon_p = Rectangle((exon_start, 0), exon_end - exon_start, 1)\n",
    "    ax.add_patch(exon_p)\n",
    "for pos in np.arange(gene_start + (gene_length / 7),\n",
    "                     gene_end - (gene_length / 7), gene_length / 7):\n",
    "    ax.text(pos,\n",
    "            0.5,\n",
    "            '<' if strand == '-' else '>',\n",
    "            fontsize=3,\n",
    "            va='center',\n",
    "            zorder=-10)\n",
    "sns.despine(left=True, bottom=True)\n",
    "xticklabels = ['TSS', 'TES']\n",
    "if strand == '-':\n",
    "    xticklabels = xticklabels[::-1]\n",
    "ax.set(yticks=[],\n",
    "       ylim=(0, 2),\n",
    "       xticks=[], #(gene_start, gene_end),\n",
    "       xticklabels=[],\n",
    "       xlim=(gene_start - slop, gene_end + slop))\n",
    "\n",
    "\n",
    "\n",
    "fig.savefig(gene_dir / 'DMRLocation.Corr.pdf', bbox_inches='tight')"
   ]
  },
  {
   "cell_type": "code",
   "execution_count": 31,
   "metadata": {
    "ExecuteTime": {
     "end_time": "2020-02-03T05:32:03.669796Z",
     "start_time": "2020-02-03T05:32:02.731171Z"
    }
   },
   "outputs": [
    {
     "data": {
      "image/png": "[encoded data removed]",
      "text/plain": [
       "<Figure size 504x288 with 3 Axes>"
      ]
     },
     "metadata": {
      "needs_background": "light"
     },
     "output_type": "display_data"
    }
   ],
   "source": [
    "slop_portion = 0.2\n",
    "\n",
    "gene_length = gene_end - gene_start\n",
    "slop = gene_length * slop_portion\n",
    "n_cluster = gene_cluster['leiden'].unique().size\n",
    "\n",
    "legend_size = 1\n",
    "gene_model_size=2\n",
    "main_height = 10\n",
    "main_width = 20\n",
    "\n",
    "gs_rows = gene_model_size + main_height\n",
    "gs_cols = main_width + legend_size\n",
    "\n",
    "fig = plt.figure(figsize=(gs_cols * scale, gs_rows * scale), dpi=300)\n",
    "gs = fig.add_gridspec(gs_rows, gs_cols, wspace=0, hspace=0)\n",
    "\n",
    "ax_dmr = fig.add_subplot(gs[gene_model_size:, legend_size:])\n",
    "ax_gene_model = fig.add_subplot(gs[:gene_model_size, gene_model_size:])\n",
    "ax_legend = fig.add_subplot(gs[gene_model_size:, :legend_size])\n",
    "\n",
    "ax = ax_dmr\n",
    "for cluster in sorted(dmr_clusters.unique()):\n",
    "    # print(cluster)\n",
    "    sub_df = gene_cluster[gene_cluster['leiden'] == cluster]\n",
    "    ax.axis('off')\n",
    "    this_dmrs = dmr_bed.loc[sub_df.index]\n",
    "    for _, row in this_dmrs.iterrows():\n",
    "        _, start, end = row\n",
    "        # print(start, end)\n",
    "        try:\n",
    "            corr = gene_cluster.loc[row.name, 'feDMR']\n",
    "            # corr = gene_cluster.loc[row.name, 'Corr']\n",
    "        except KeyError:\n",
    "            corr = 0\n",
    "        y_start = cluster / n_cluster\n",
    "        y_height = 1 / n_cluster\n",
    "        p = Rectangle((start, y_start), end - start, y_height, fc=cmap(cnorm(corr)))\n",
    "        ax.add_patch(p)\n",
    "ax.set(xlim=(gene_start - slop, gene_end + slop), ylim=(1, 0))\n",
    "# add line for each cluster separation\n",
    "for i in range(n_cluster+1):\n",
    "    y = i / n_cluster\n",
    "    ax.axhline(y, linewidth=0.5, c='lightgray')\n",
    "ax.plot((0.001, 0.001), (0, 1), linewidth=0.5, c='lightgray', transform=ax.transAxes)\n",
    "ax.plot((0.999, 0.999), (0, 1), linewidth=0.5, c='lightgray', transform=ax.transAxes)\n",
    "\n",
    "# gene body model\n",
    "ax = ax_gene_model\n",
    "p = Rectangle((gene_start, 0.45), gene_end - gene_start, 0.1)\n",
    "ax.add_patch(p)\n",
    "for _, (exon_start,\n",
    "        exon_end) in exon_bed.loc[exon_bed['gene_id'] ==\n",
    "                                  gene_id, ['start', 'end']].iterrows():\n",
    "    exon_p = Rectangle((exon_start, 0), exon_end - exon_start, 1)\n",
    "    ax.add_patch(exon_p)\n",
    "for pos in np.arange(gene_start + (gene_length / 7),\n",
    "                     gene_end - (gene_length / 7), gene_length / 7):\n",
    "    ax.text(pos,\n",
    "            0.5,\n",
    "            '<' if strand == '-' else '>',\n",
    "            fontsize=3,\n",
    "            va='center',\n",
    "            zorder=-10)\n",
    "sns.despine(left=True, bottom=True)\n",
    "xticklabels = ['TSS', 'TES']\n",
    "if strand == '-':\n",
    "    xticklabels = xticklabels[::-1]\n",
    "ax.set(yticks=[],\n",
    "       ylim=(0, 2),\n",
    "       xticks=[], #(gene_start, gene_end),\n",
    "       xticklabels=[],\n",
    "       xlim=(gene_start - slop, gene_end + slop))\n",
    "\n",
    "\n",
    "ax = ax_legend\n",
    "ax.imshow(np.array([dmr_palette[i] for i in range(n_cluster)])[:, None, :],\n",
    "          aspect='auto')\n",
    "ax.axis('off')\n",
    "\n",
    "fig.savefig(gene_dir / 'DMRLocation.feDMR.pdf', bbox_inches='tight')"
   ]
  },
  {
   "cell_type": "markdown",
   "metadata": {},
   "source": [
    "## Save DMR info"
   ]
  },
  {
   "cell_type": "code",
   "execution_count": 32,
   "metadata": {
    "ExecuteTime": {
     "end_time": "2020-02-03T05:32:03.674271Z",
     "start_time": "2020-02-03T05:32:03.671030Z"
    }
   },
   "outputs": [],
   "source": [
    "gene_cluster.to_msgpack(gene_dir / 'DMRInfo.msg', compress='zlib')"
   ]
  },
  {
   "cell_type": "code",
   "execution_count": 33,
   "metadata": {
    "ExecuteTime": {
     "end_time": "2020-02-03T05:32:03.679394Z",
     "start_time": "2020-02-03T05:32:03.675486Z"
    }
   },
   "outputs": [
    {
     "data": {
      "text/plain": [
       "(544, 15)"
      ]
     },
     "execution_count": 33,
     "metadata": {},
     "output_type": "execute_result"
    }
   ],
   "source": [
    "pd.read_msgpack('./Bcl11b//DMRInfo.msg').shape"
   ]
  },
  {
   "cell_type": "code",
   "execution_count": 34,
   "metadata": {
    "ExecuteTime": {
     "end_time": "2020-02-03T05:32:03.682577Z",
     "start_time": "2020-02-03T05:32:03.680594Z"
    }
   },
   "outputs": [],
   "source": [
    "from ALLCools.plot.color import *\n",
    "import matplotlib.pyplot as plt"
   ]
  },
  {
   "cell_type": "code",
   "execution_count": 35,
   "metadata": {
    "ExecuteTime": {
     "end_time": "2020-02-03T05:32:03.753683Z",
     "start_time": "2020-02-03T05:32:03.683838Z"
    }
   },
   "outputs": [
    {
     "data": {
      "image/png": "[encoded data removed]",
      "text/plain": [
       "<Figure size 90x15 with 1 Axes>"
      ]
     },
     "metadata": {
      "needs_background": "light"
     },
     "output_type": "display_data"
    }
   ],
   "source": [
    "fig, cax = plt.subplots(figsize=(0.3, 0.05), dpi=300)\n",
    "\n",
    "plot_colorbar(cax,\n",
    "    cmap='coolwarm',\n",
    "    hue_norm=(0, 1),\n",
    "    cnorm=None,\n",
    "    label=None,\n",
    "    orientation='horizontal',\n",
    "    labelsize=4,\n",
    "    linewidth=0.5)\n",
    "fig.savefig('small_color_bar.pdf')"
   ]
  },
  {
   "cell_type": "code",
   "execution_count": null,
   "metadata": {},
   "outputs": [],
   "source": []
  },
  {
   "cell_type": "code",
   "execution_count": null,
   "metadata": {},
   "outputs": [],
   "source": []
  }
 ],
 "metadata": {
  "hide_input": false,
  "kernelspec": {
   "display_name": "Python 3",
   "language": "python",
   "name": "python3"
  },
  "language_info": {
   "codemirror_mode": {
    "name": "ipython",
    "version": 3
   },
   "file_extension": ".py",
   "mimetype": "text/x-python",
   "name": "python",
   "nbconvert_exporter": "python",
   "pygments_lexer": "ipython3",
   "version": "3.7.3"
  },
  "toc": {
   "base_numbering": 1,
   "nav_menu": {},
   "number_sections": true,
   "sideBar": true,
   "skip_h1_title": true,
   "title_cell": "Table of Contents",
   "title_sidebar": "Contents",
   "toc_cell": false,
   "toc_position": {},
   "toc_section_display": true,
   "toc_window_display": true
  }
 },
 "nbformat": 4,
 "nbformat_minor": 2
}
