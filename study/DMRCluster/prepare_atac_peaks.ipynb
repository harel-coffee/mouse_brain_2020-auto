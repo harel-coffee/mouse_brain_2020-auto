{
 "cells": [
  {
   "cell_type": "code",
   "execution_count": 1,
   "metadata": {
    "ExecuteTime": {
     "end_time": "2020-01-31T23:08:44.795109Z",
     "start_time": "2020-01-31T23:08:44.596916Z"
    }
   },
   "outputs": [],
   "source": [
    "import pandas as pd\n",
    "import anndata"
   ]
  },
  {
   "cell_type": "code",
   "execution_count": 3,
   "metadata": {
    "ExecuteTime": {
     "end_time": "2020-01-31T23:09:14.249316Z",
     "start_time": "2020-01-31T23:09:04.834783Z"
    }
   },
   "outputs": [],
   "source": [
    "dmr_annot = anndata.read_h5ad('/home/hanliu/project/mouse_rostral_brain/DMR/SubType/Total/DMRAnnotation.h5ad')"
   ]
  },
  {
   "cell_type": "code",
   "execution_count": 5,
   "metadata": {
    "ExecuteTime": {
     "end_time": "2020-01-31T23:09:51.033580Z",
     "start_time": "2020-01-31T23:09:49.490455Z"
    }
   },
   "outputs": [],
   "source": [
    "annot_df = pd.DataFrame(dmr_annot.X.todense(), \n",
    "             index=dmr_annot.obs_names, columns=dmr_annot.var_names)"
   ]
  },
  {
   "cell_type": "code",
   "execution_count": 6,
   "metadata": {
    "ExecuteTime": {
     "end_time": "2020-01-31T23:10:04.926505Z",
     "start_time": "2020-01-31T23:10:04.923536Z"
    }
   },
   "outputs": [],
   "source": [
    "raw_atac_df = annot_df.iloc[:, 54:-1]"
   ]
  },
  {
   "cell_type": "code",
   "execution_count": 9,
   "metadata": {
    "ExecuteTime": {
     "end_time": "2020-01-31T23:10:30.583703Z",
     "start_time": "2020-01-31T23:10:30.580541Z"
    }
   },
   "outputs": [],
   "source": [
    "with open(\n",
    "        '/home/hanliu/project/mouse_rostral_brain/metadata/label_transfer_between_modality/mC-ATAC.SubType.json'\n",
    ") as f:\n",
    "    sub_type_to_atac = json.load(f)\n",
    "sub_type_to_atac = {k.replace(' ', '_'): v for k, v in sub_type_to_atac.items()}"
   ]
  },
  {
   "cell_type": "code",
   "execution_count": 11,
   "metadata": {
    "ExecuteTime": {
     "end_time": "2020-01-31T23:11:16.879717Z",
     "start_time": "2020-01-31T23:10:46.888410Z"
    }
   },
   "outputs": [],
   "source": [
    "atac_peak_df = {}\n",
    "for sub_type, clusters in sub_type_to_atac.items():\n",
    "    atac_peak_df[sub_type] = raw_atac_df[clusters].mean(axis=1)\n",
    "atac_peak_df = pd.DataFrame(atac_peak_df)"
   ]
  },
  {
   "cell_type": "code",
   "execution_count": 14,
   "metadata": {
    "ExecuteTime": {
     "end_time": "2020-01-31T23:13:01.545517Z",
     "start_time": "2020-01-31T23:12:35.857935Z"
    }
   },
   "outputs": [
    {
     "name": "stderr",
     "output_type": "stream",
     "text": [
      "/home/hanliu/miniconda3/envs/clustering/lib/python3.7/site-packages/ipykernel_launcher.py:1: FutureWarning: to_msgpack is deprecated and will be removed in a future version.\n",
      "It is recommended to use pyarrow for on-the-wire transmission of pandas objects.\n",
      "  \"\"\"Entry point for launching an IPython kernel.\n"
     ]
    }
   ],
   "source": [
    "atac_peak_df.to_msgpack('./SubType.ATAC_peak_merged.msg', compress='zlib')"
   ]
  },
  {
   "cell_type": "code",
   "execution_count": 15,
   "metadata": {
    "ExecuteTime": {
     "end_time": "2020-01-31T23:13:39.805215Z",
     "start_time": "2020-01-31T23:13:39.802114Z"
    }
   },
   "outputs": [
    {
     "data": {
      "text/plain": [
       "(4722053, 161)"
      ]
     },
     "execution_count": 15,
     "metadata": {},
     "output_type": "execute_result"
    }
   ],
   "source": [
    "atac_peak_df.shape"
   ]
  },
  {
   "cell_type": "code",
   "execution_count": null,
   "metadata": {},
   "outputs": [],
   "source": []
  },
  {
   "cell_type": "code",
   "execution_count": null,
   "metadata": {},
   "outputs": [],
   "source": []
  }
 ],
 "metadata": {
  "hide_input": false,
  "kernelspec": {
   "display_name": "Python 3",
   "language": "python",
   "name": "python3"
  },
  "language_info": {
   "codemirror_mode": {
    "name": "ipython",
    "version": 3
   },
   "file_extension": ".py",
   "mimetype": "text/x-python",
   "name": "python",
   "nbconvert_exporter": "python",
   "pygments_lexer": "ipython3",
   "version": "3.7.3"
  },
  "toc": {
   "base_numbering": 1,
   "nav_menu": {},
   "number_sections": true,
   "sideBar": true,
   "skip_h1_title": true,
   "title_cell": "Table of Contents",
   "title_sidebar": "Contents",
   "toc_cell": false,
   "toc_position": {},
   "toc_section_display": true,
   "toc_window_display": true
  }
 },
 "nbformat": 4,
 "nbformat_minor": 2
}
