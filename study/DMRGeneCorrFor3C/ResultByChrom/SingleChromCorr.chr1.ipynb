{
 "cells": [
  {
   "cell_type": "code",
   "execution_count": 1,
   "metadata": {
    "ExecuteTime": {
     "end_time": "2020-03-25T01:44:22.210373Z",
     "start_time": "2020-03-25T01:44:20.271201Z"
    },
    "papermill": {
     "duration": 1.973454,
     "end_time": "2020-03-25T03:28:32.138902",
     "exception": false,
     "start_time": "2020-03-25T03:28:30.165448",
     "status": "completed"
    },
    "tags": []
   },
   "outputs": [],
   "source": [
    "import pandas as pd\n",
    "import numpy as np\n",
    "from scipy.sparse import csr_matrix, load_npz, save_npz, vstack\n",
    "import seaborn as sns\n",
    "import matplotlib.pyplot as plt\n",
    "import json\n",
    "from concurrent.futures import ProcessPoolExecutor, as_completed\n",
    "import anndata\n",
    "import scanpy as sc\n",
    "from sklearn.preprocessing import StandardScaler\n",
    "import warnings\n",
    "warnings.filterwarnings('ignore')"
   ]
  },
  {
   "cell_type": "code",
   "execution_count": 2,
   "metadata": {
    "ExecuteTime": {
     "end_time": "2020-03-25T01:44:22.222888Z",
     "start_time": "2020-03-25T01:44:22.212034Z"
    },
    "papermill": {
     "duration": 0.028979,
     "end_time": "2020-03-25T03:28:32.184485",
     "exception": false,
     "start_time": "2020-03-25T03:28:32.155506",
     "status": "completed"
    },
    "tags": []
   },
   "outputs": [],
   "source": [
    "\"\"\"\n",
    "See here https://stackoverflow.com/questions/52371329/fast-spearman-correlation-between-two-pandas-dataframes\n",
    "\n",
    "Calculate correlation between two matrix, row by row\n",
    "\"\"\"\n",
    "\n",
    "from numba import njit\n",
    "import numpy as np\n",
    "\n",
    "\n",
    "@njit\n",
    "def _mean(a):\n",
    "    n = len(a)\n",
    "    b = np.empty(n)\n",
    "    for i in range(n):\n",
    "        b[i] = a[i].mean()\n",
    "    return b\n",
    "\n",
    "\n",
    "@njit\n",
    "def _std(a):\n",
    "    n = len(a)\n",
    "    b = np.empty(n)\n",
    "    for i in range(n):\n",
    "        b[i] = a[i].std()\n",
    "    return b\n",
    "\n",
    "\n",
    "@njit\n",
    "def _corr(a, b):\n",
    "    \"\"\"\n",
    "    Correlation between rows in a and b, no nan value\n",
    "    \"\"\"\n",
    "    n, k = a.shape\n",
    "    m, k = b.shape\n",
    "\n",
    "    mu_a = _mean(a)\n",
    "    mu_b = _mean(b)\n",
    "    sig_a = _std(a)\n",
    "    sig_b = _std(b)\n",
    "\n",
    "    out = np.empty((n, m))\n",
    "\n",
    "    for i in range(n):\n",
    "        for j in range(m):\n",
    "            _sig_a = sig_a[i]\n",
    "            _sig_b = sig_b[j]\n",
    "            if _sig_a == 0 or _sig_b == 0:\n",
    "                # if any variable std == 0\n",
    "                out[i, j] = np.nan\n",
    "            else:\n",
    "                out[i, j] = (a[i] - mu_a[i]) @ (b[j] -\n",
    "                                                mu_b[j]) / k / _sig_a / _sig_b\n",
    "    return out\n",
    "\n",
    "\n",
    "def corr(a, b, method='pearson'):\n",
    "    if method.lower()[0] == 'p':\n",
    "        pass\n",
    "    elif method.lower()[0] == 's':\n",
    "        # turn a, b in to rank matrix\n",
    "        a = a.argsort(axis=1).argsort(axis=1)\n",
    "        b = b.argsort(axis=1).argsort(axis=1)\n",
    "    else:\n",
    "        raise ValueError('Method can only be pearson or spearman')\n",
    "\n",
    "    return _corr(a, b)\n",
    "\n",
    "\n",
    "def chunk_corr(dmr_data, gene_data, cutoff):\n",
    "    record = corr(a=dmr_data, b=gene_data)\n",
    "    record[np.abs(record) < cutoff] = 0\n",
    "    pass_record = csr_matrix(record)\n",
    "    return pass_record"
   ]
  },
  {
   "cell_type": "code",
   "execution_count": 3,
   "metadata": {
    "ExecuteTime": {
     "end_time": "2020-03-25T01:44:22.229399Z",
     "start_time": "2020-03-25T01:44:22.227025Z"
    },
    "papermill": {
     "duration": 0.019757,
     "end_time": "2020-03-25T03:28:32.218843",
     "exception": false,
     "start_time": "2020-03-25T03:28:32.199086",
     "status": "completed"
    },
    "tags": [
     "parameters"
    ]
   },
   "outputs": [],
   "source": [
    "chrom = 'chr16'\n",
    "chunk_size = 1000\n",
    "cpu = 40\n",
    "mask_dir = 'DMR_gene_10M_mask'\n",
    "\n",
    "# generate null\n",
    "dmr_sample = 5000\n",
    "repeat = 200\n",
    "\n",
    "# sig corr\n",
    "cutoff = 0"
   ]
  },
  {
   "cell_type": "code",
   "execution_count": 4,
   "metadata": {
    "papermill": {
     "duration": 0.019887,
     "end_time": "2020-03-25T03:28:32.253350",
     "exception": false,
     "start_time": "2020-03-25T03:28:32.233463",
     "status": "completed"
    },
    "tags": [
     "injected-parameters"
    ]
   },
   "outputs": [],
   "source": [
    "# Parameters\n",
    "chrom = \"chr1\"\n"
   ]
  },
  {
   "cell_type": "markdown",
   "metadata": {
    "papermill": {
     "duration": 0.014842,
     "end_time": "2020-03-25T03:28:32.283802",
     "exception": false,
     "start_time": "2020-03-25T03:28:32.268960",
     "status": "completed"
    },
    "tags": []
   },
   "source": [
    "## Load Data"
   ]
  },
  {
   "cell_type": "code",
   "execution_count": null,
   "metadata": {
    "ExecuteTime": {
     "end_time": "2020-03-25T01:44:27.451718Z",
     "start_time": "2020-03-25T01:44:26.141686Z"
    },
    "papermill": {
     "duration": 1.007216,
     "end_time": "2020-03-25T03:28:33.305970",
     "exception": false,
     "start_time": "2020-03-25T03:28:32.298754",
     "status": "completed"
    },
    "tags": []
   },
   "outputs": [],
   "source": [
    "dmr_df = pd.read_msgpack(\n",
    "    f'/home/hanliu/project/mouse_rostral_brain/study/DMRGeneCorr/DMR_rate/SubDMR_rate_no_na.{chrom}.msg'\n",
    ")\n",
    "gene_df = pd.read_msgpack(\n",
    "    f'/home/hanliu/project/mouse_rostral_brain/study/DMRGeneCorr/Gene-slop2k-mCH/SubDMR_rate_no_na.{chrom}.msg'\n",
    ")\n",
    "\n",
    "with open(\n",
    "        f'/home/hanliu/project/mouse_rostral_brain/study/DMRGeneCorr/{mask_dir}/{chrom}.gene_int.json'\n",
    ") as f:\n",
    "    gene_to_int = json.load(f)\n",
    "\n",
    "# reindex gene_df\n",
    "reindex = gene_df.index.map(gene_to_int).argsort()\n",
    "gene_df = gene_df.iloc[reindex].copy()\n",
    "\n",
    "dmr_df.columns = dmr_df.columns.map(lambda i: i.replace('_', ' '))\n",
    "use_cols = dmr_df.columns & gene_df.columns\n",
    "\n",
    "dmr_df = dmr_df[use_cols].copy()\n",
    "gene_df = gene_df[use_cols].copy()\n",
    "\n",
    "cluster_mcg = pd.read_csv(\n",
    "    '/home/hanliu/project/mouse_rostral_brain/study/DMRGeneCorr/ClusterGlobalmCG.csv',\n",
    "    index_col=0,\n",
    "    header=None,\n",
    "    squeeze=True).loc[use_cols]\n",
    "cluster_mch = pd.read_csv(\n",
    "    '/home/hanliu/project/mouse_rostral_brain/study/DMRGeneCorr/ClusterGlobalmCH.csv',\n",
    "    index_col=0,\n",
    "    header=None,\n",
    "    squeeze=True).loc[use_cols]\n",
    "\n",
    "# standardize global\n",
    "cluster_mcg = (cluster_mcg - cluster_mcg.mean()) / cluster_mcg.std()\n",
    "cluster_mch = (cluster_mch - cluster_mch.mean()) / cluster_mch.std()\n",
    "\n",
    "print(dmr_df.shape[0], 'DMRs')\n",
    "print(gene_df.shape[0], 'Genes')"
   ]
  },
  {
   "cell_type": "markdown",
   "metadata": {
    "papermill": {
     "duration": null,
     "end_time": null,
     "exception": null,
     "start_time": null,
     "status": "completed"
    },
    "tags": []
   },
   "source": [
    "## Regress Out DMR global corr\n",
    "- Global mCH\n",
    "- Global mCG"
   ]
  },
  {
   "cell_type": "code",
   "execution_count": null,
   "metadata": {
    "ExecuteTime": {
     "end_time": "2020-03-25T01:44:27.553621Z",
     "start_time": "2020-03-25T01:44:27.453170Z"
    },
    "papermill": {
     "duration": null,
     "end_time": null,
     "exception": null,
     "start_time": null,
     "status": "completed"
    },
    "tags": []
   },
   "outputs": [],
   "source": [
    "dmr_adata = anndata.AnnData(X=dmr_df.values.T,\n",
    "                obs=pd.DataFrame([], index=dmr_df.columns),\n",
    "                var=pd.DataFrame([], index=dmr_df.index))"
   ]
  },
  {
   "cell_type": "code",
   "execution_count": null,
   "metadata": {
    "ExecuteTime": {
     "end_time": "2020-03-25T01:44:28.138852Z",
     "start_time": "2020-03-25T01:44:27.555289Z"
    },
    "papermill": {
     "duration": null,
     "end_time": null,
     "exception": null,
     "start_time": null,
     "status": "completed"
    },
    "tags": []
   },
   "outputs": [],
   "source": [
    "dmr_adata.obs['cluster_mch'] = cluster_mch\n",
    "dmr_adata.obs['cluster_mcg'] = cluster_mcg\n",
    "\n",
    "sns.jointplot(x=dmr_adata.obs['cluster_mcg'], y=dmr_adata.obs['cluster_mch'])"
   ]
  },
  {
   "cell_type": "code",
   "execution_count": null,
   "metadata": {
    "ExecuteTime": {
     "end_time": "2020-03-25T01:44:30.059151Z",
     "start_time": "2020-03-25T01:44:28.140165Z"
    },
    "papermill": {
     "duration": null,
     "end_time": null,
     "exception": null,
     "start_time": null,
     "status": "completed"
    },
    "scrolled": false,
    "tags": []
   },
   "outputs": [],
   "source": [
    "fig = plt.figure(figsize=(10, 5), dpi=300)\n",
    "plt.imshow(dmr_adata.X, aspect='auto', vmin=0, vmax=1)"
   ]
  },
  {
   "cell_type": "code",
   "execution_count": null,
   "metadata": {
    "ExecuteTime": {
     "end_time": "2020-03-25T01:44:30.416853Z",
     "start_time": "2020-03-25T01:44:30.061077Z"
    },
    "papermill": {
     "duration": null,
     "end_time": null,
     "exception": null,
     "start_time": null,
     "status": "completed"
    },
    "tags": []
   },
   "outputs": [],
   "source": [
    "# remove dmr that has 0 std\n",
    "# otherwise regress out will fail.\n",
    "dmr_adata = dmr_adata[:, dmr_adata.X.std(axis=0) > 0].copy()\n"
   ]
  },
  {
   "cell_type": "code",
   "execution_count": null,
   "metadata": {
    "ExecuteTime": {
     "end_time": "2020-03-25T01:44:51.931449Z",
     "start_time": "2020-03-25T01:44:30.418410Z"
    },
    "papermill": {
     "duration": null,
     "end_time": null,
     "exception": null,
     "start_time": null,
     "status": "completed"
    },
    "scrolled": true,
    "tags": []
   },
   "outputs": [],
   "source": [
    "sc.pp.regress_out(dmr_adata, \n",
    "                  keys=['cluster_mch', 'cluster_mcg'], \n",
    "                  n_jobs=cpu)"
   ]
  },
  {
   "cell_type": "code",
   "execution_count": null,
   "metadata": {
    "ExecuteTime": {
     "end_time": "2020-03-25T01:44:52.518823Z",
     "start_time": "2020-03-25T01:44:51.934168Z"
    },
    "papermill": {
     "duration": null,
     "end_time": null,
     "exception": null,
     "start_time": null,
     "status": "completed"
    },
    "tags": []
   },
   "outputs": [],
   "source": [
    "scaler = StandardScaler(copy=False)\n",
    "dmr_adata.X = scaler.fit_transform(dmr_adata.X)"
   ]
  },
  {
   "cell_type": "code",
   "execution_count": null,
   "metadata": {
    "ExecuteTime": {
     "end_time": "2020-03-25T01:44:54.773586Z",
     "start_time": "2020-03-25T01:44:52.521398Z"
    },
    "papermill": {
     "duration": null,
     "end_time": null,
     "exception": null,
     "start_time": null,
     "status": "completed"
    },
    "tags": []
   },
   "outputs": [],
   "source": [
    "fig = plt.figure(figsize=(10, 5), dpi=300)\n",
    "plt.imshow(dmr_adata.X, aspect='auto', cmap='coolwarm', \n",
    "           vmin=-1, vmax=1)"
   ]
  },
  {
   "cell_type": "markdown",
   "metadata": {
    "papermill": {
     "duration": null,
     "end_time": null,
     "exception": null,
     "start_time": null,
     "status": "completed"
    },
    "tags": []
   },
   "source": [
    "## Regress Out Gene Global Corr"
   ]
  },
  {
   "cell_type": "code",
   "execution_count": null,
   "metadata": {
    "ExecuteTime": {
     "end_time": "2020-03-25T01:44:54.779611Z",
     "start_time": "2020-03-25T01:44:54.775037Z"
    },
    "papermill": {
     "duration": null,
     "end_time": null,
     "exception": null,
     "start_time": null,
     "status": "completed"
    },
    "tags": []
   },
   "outputs": [],
   "source": [
    "gene_adata = anndata.AnnData(X=gene_df.values.T,\n",
    "                obs=pd.DataFrame([], index=gene_df.columns),\n",
    "                var=pd.DataFrame([], index=gene_df.index))"
   ]
  },
  {
   "cell_type": "code",
   "execution_count": null,
   "metadata": {
    "ExecuteTime": {
     "end_time": "2020-03-25T01:44:55.410002Z",
     "start_time": "2020-03-25T01:44:54.780948Z"
    },
    "papermill": {
     "duration": null,
     "end_time": null,
     "exception": null,
     "start_time": null,
     "status": "completed"
    },
    "tags": []
   },
   "outputs": [],
   "source": [
    "gene_adata.obs['cluster_mch'] = cluster_mch\n",
    "gene_adata.obs['cluster_mcg'] = cluster_mcg\n",
    "\n",
    "sns.jointplot(x=gene_adata.obs['cluster_mcg'], \n",
    "              y=gene_adata.obs['cluster_mch'])"
   ]
  },
  {
   "cell_type": "code",
   "execution_count": null,
   "metadata": {
    "ExecuteTime": {
     "end_time": "2020-03-25T01:44:56.495102Z",
     "start_time": "2020-03-25T01:44:55.411199Z"
    },
    "papermill": {
     "duration": null,
     "end_time": null,
     "exception": null,
     "start_time": null,
     "status": "completed"
    },
    "tags": []
   },
   "outputs": [],
   "source": [
    "fig = plt.figure(figsize=(10, 5), dpi=300)\n",
    "plt.imshow(gene_adata.X, aspect='auto', vmin=0, vmax=0.1)"
   ]
  },
  {
   "cell_type": "code",
   "execution_count": null,
   "metadata": {
    "ExecuteTime": {
     "end_time": "2020-03-25T01:44:56.501867Z",
     "start_time": "2020-03-25T01:44:56.496492Z"
    },
    "papermill": {
     "duration": null,
     "end_time": null,
     "exception": null,
     "start_time": null,
     "status": "completed"
    },
    "tags": []
   },
   "outputs": [],
   "source": [
    "# remove dmr that has 0 std\n",
    "# otherwise regress out will fail.\n",
    "gene_adata = gene_adata[:, gene_adata.X.std(axis=0) > 0].copy()"
   ]
  },
  {
   "cell_type": "code",
   "execution_count": null,
   "metadata": {
    "ExecuteTime": {
     "end_time": "2020-03-25T01:44:58.266892Z",
     "start_time": "2020-03-25T01:44:56.503093Z"
    },
    "papermill": {
     "duration": null,
     "end_time": null,
     "exception": null,
     "start_time": null,
     "status": "completed"
    },
    "tags": []
   },
   "outputs": [],
   "source": [
    "sc.pp.regress_out(gene_adata, \n",
    "                  keys=['cluster_mch', 'cluster_mcg'], \n",
    "                  n_jobs=cpu)"
   ]
  },
  {
   "cell_type": "code",
   "execution_count": null,
   "metadata": {
    "ExecuteTime": {
     "end_time": "2020-03-25T01:44:58.286052Z",
     "start_time": "2020-03-25T01:44:58.269120Z"
    },
    "papermill": {
     "duration": null,
     "end_time": null,
     "exception": null,
     "start_time": null,
     "status": "completed"
    },
    "tags": []
   },
   "outputs": [],
   "source": [
    "scaler = StandardScaler(copy=False)\n",
    "gene_adata.X = scaler.fit_transform(gene_adata.X)"
   ]
  },
  {
   "cell_type": "code",
   "execution_count": null,
   "metadata": {
    "ExecuteTime": {
     "end_time": "2020-03-25T01:44:59.473839Z",
     "start_time": "2020-03-25T01:44:58.287815Z"
    },
    "papermill": {
     "duration": null,
     "end_time": null,
     "exception": null,
     "start_time": null,
     "status": "completed"
    },
    "tags": []
   },
   "outputs": [],
   "source": [
    "fig = plt.figure(figsize=(10, 5), dpi=300)\n",
    "plt.imshow(gene_adata.X, cmap='coolwarm', aspect='auto', vmin=-1, vmax=1)"
   ]
  },
  {
   "cell_type": "markdown",
   "metadata": {
    "papermill": {
     "duration": null,
     "end_time": null,
     "exception": null,
     "start_time": null,
     "status": "completed"
    },
    "tags": []
   },
   "source": [
    "## Calculate residual Corr"
   ]
  },
  {
   "cell_type": "code",
   "execution_count": null,
   "metadata": {
    "ExecuteTime": {
     "end_time": "2020-03-25T01:44:59.639354Z",
     "start_time": "2020-03-25T01:44:59.475304Z"
    },
    "papermill": {
     "duration": null,
     "end_time": null,
     "exception": null,
     "start_time": null,
     "status": "completed"
    },
    "tags": []
   },
   "outputs": [],
   "source": [
    "use_gene = pd.read_csv('/home/hanliu/project/mouse_rostral_brain/study/DMRGeneCorrFor3C/input_regions/use_genes.txt',\n",
    "                       header=None, index_col=0).index\n",
    "use_dmr = pd.read_csv('/home/hanliu/project/mouse_rostral_brain/study/DMRGeneCorrFor3C/input_regions/use_dmrs.txt',\n",
    "                       header=None, index_col=0).index\n"
   ]
  },
  {
   "cell_type": "code",
   "execution_count": null,
   "metadata": {
    "ExecuteTime": {
     "end_time": "2020-03-25T01:48:24.953931Z",
     "start_time": "2020-03-25T01:48:22.942435Z"
    },
    "papermill": {
     "duration": null,
     "end_time": null,
     "exception": null,
     "start_time": null,
     "status": "completed"
    },
    "tags": []
   },
   "outputs": [],
   "source": [
    "gene_adata = gene_adata[:, gene_adata.var_names & use_gene].copy()\n",
    "dmr_adata = dmr_adata[:, dmr_adata.var_names & use_dmr].copy()\n",
    "\n",
    "\n",
    "gene_data = gene_adata.X.T\n",
    "total_dmr_data = dmr_adata.X.T\n",
    "\n",
    "results = []\n",
    "with ProcessPoolExecutor(cpu) as executor:\n",
    "    futures = {}\n",
    "    for i, chunk_start in enumerate(range(0, total_dmr_data.shape[0], chunk_size)):\n",
    "        dmr_data = total_dmr_data[chunk_start:chunk_start+chunk_size, :]\n",
    "        future = executor.submit(chunk_corr,\n",
    "                                 dmr_data=dmr_data, \n",
    "                                 gene_data=gene_data,\n",
    "                                 cutoff=cutoff)\n",
    "        futures[future] = i\n",
    "\n",
    "    results = {}\n",
    "    for future in as_completed(futures):\n",
    "        chunk_id = futures[future]\n",
    "        pass_record = future.result()\n",
    "        results[chunk_id] = pass_record\n",
    "\n",
    "# final concat\n",
    "final_adata = anndata.AnnData(vstack((results[i] for i in range(len(results)))), \n",
    "                              obs=dmr_adata.var.copy(), \n",
    "                              var=gene_adata.var.copy())\n",
    "final_adata"
   ]
  },
  {
   "cell_type": "code",
   "execution_count": null,
   "metadata": {
    "papermill": {
     "duration": null,
     "end_time": null,
     "exception": null,
     "start_time": null,
     "status": "completed"
    },
    "tags": []
   },
   "outputs": [],
   "source": []
  },
  {
   "cell_type": "markdown",
   "metadata": {
    "papermill": {
     "duration": null,
     "end_time": null,
     "exception": null,
     "start_time": null,
     "status": "completed"
    },
    "tags": []
   },
   "source": [
    "## Calculate Null Dist"
   ]
  },
  {
   "cell_type": "code",
   "execution_count": null,
   "metadata": {
    "ExecuteTime": {
     "end_time": "2020-03-25T01:48:43.270926Z",
     "start_time": "2020-03-25T01:48:43.269342Z"
    },
    "papermill": {
     "duration": null,
     "end_time": null,
     "exception": null,
     "start_time": null,
     "status": "completed"
    },
    "tags": []
   },
   "outputs": [],
   "source": [
    "# # row is cluster\n",
    "# shuffled_gene_data_T = gene_data.T.copy()\n",
    "# shuffled_dmr_data_T = total_dmr_data.T.copy()"
   ]
  },
  {
   "cell_type": "code",
   "execution_count": null,
   "metadata": {
    "ExecuteTime": {
     "end_time": "2020-03-25T01:48:43.472206Z",
     "start_time": "2020-03-25T01:48:43.470195Z"
    },
    "papermill": {
     "duration": null,
     "end_time": null,
     "exception": null,
     "start_time": null,
     "status": "completed"
    },
    "scrolled": true,
    "tags": []
   },
   "outputs": [],
   "source": [
    "# # shuffle axis 0 inplace\n",
    "# with ProcessPoolExecutor(cpu) as executor:\n",
    "#     futures = {}\n",
    "#     results = []\n",
    "#     for _ in range(repeat):\n",
    "#         # shuffle axis 0 in each repeat\n",
    "#         np.random.shuffle(shuffled_gene_data_T)\n",
    "#         np.random.shuffle(shuffled_dmr_data_T)\n",
    "#         \n",
    "#         # downsample DMR data, no need to use full DMR list to calc null\n",
    "#         if shuffled_dmr_data_T.shape[1] > dmr_sample:\n",
    "#             indices = np.random.choice(shuffled_dmr_data_T.shape[1], dmr_sample, replace=False)\n",
    "#             this_dmrs = shuffled_dmr_data_T[:, indices]\n",
    "#             this_mask = dist_mask[indices, :]\n",
    "#         else:\n",
    "#             this_mask = dist_mask\n",
    "#             this_dmrs = shuffled_dmr_data_T\n",
    "#         mask = dist_mask[chunk_start:chunk_start+chunk_size, :]\n",
    "#     \n",
    "#         future = executor.submit(chunk_corr,\n",
    "#                                  dmr_data=this_dmrs.T, \n",
    "#                                  gene_data=shuffled_gene_data_T.T, \n",
    "#                                  mask=this_mask,\n",
    "#                                  cutoff=0)\n",
    "#         futures[future] = i\n",
    "# \n",
    "#     for future in as_completed(futures):\n",
    "#         chunk_id = futures[future]\n",
    "#         masked_pass_record = future.result()\n",
    "#         results.append(masked_pass_record)\n",
    "# \n",
    "# # final concat\n",
    "# final_null_result = vstack(results)"
   ]
  },
  {
   "cell_type": "code",
   "execution_count": null,
   "metadata": {
    "ExecuteTime": {
     "end_time": "2020-03-25T01:48:43.829553Z",
     "start_time": "2020-03-25T01:48:43.827922Z"
    },
    "papermill": {
     "duration": null,
     "end_time": null,
     "exception": null,
     "start_time": null,
     "status": "completed"
    },
    "tags": []
   },
   "outputs": [],
   "source": [
    "# sns.distplot(np.random.choice(final_null_result.data, 10000, replace=False))"
   ]
  },
  {
   "cell_type": "code",
   "execution_count": null,
   "metadata": {
    "ExecuteTime": {
     "end_time": "2020-03-25T01:48:43.992992Z",
     "start_time": "2020-03-25T01:48:43.991325Z"
    },
    "papermill": {
     "duration": null,
     "end_time": null,
     "exception": null,
     "start_time": null,
     "status": "completed"
    },
    "scrolled": false,
    "tags": []
   },
   "outputs": [],
   "source": [
    "# p_values = {}\n",
    "# for i in np.arange(0.3, 1, 0.005):\n",
    "#     total_n = final_null_result.data.size\n",
    "#     p = (final_null_result > i).sum() / total_n\n",
    "#     p_values[i] = p\n",
    "# p_values = pd.Series(p_values)\n",
    "# p_values = -np.log10(p_values)\n",
    "# p_values.replace(np.inf, 10, inplace=True)"
   ]
  },
  {
   "cell_type": "code",
   "execution_count": null,
   "metadata": {
    "ExecuteTime": {
     "end_time": "2020-03-25T01:48:44.478413Z",
     "start_time": "2020-03-25T01:48:44.475928Z"
    },
    "papermill": {
     "duration": null,
     "end_time": null,
     "exception": null,
     "start_time": null,
     "status": "completed"
    },
    "tags": []
   },
   "outputs": [],
   "source": [
    "# cutoff = p_values[p_values > neg_logp_cutoff].index[0]\n",
    "cutoff"
   ]
  },
  {
   "cell_type": "code",
   "execution_count": null,
   "metadata": {
    "ExecuteTime": {
     "end_time": "2020-03-25T01:48:46.735234Z",
     "start_time": "2020-03-25T01:48:45.758497Z"
    },
    "papermill": {
     "duration": null,
     "end_time": null,
     "exception": null,
     "start_time": null,
     "status": "completed"
    },
    "scrolled": false,
    "tags": []
   },
   "outputs": [],
   "source": [
    "fig = plt.figure(figsize=(5, 10), dpi=300)\n",
    "plt.imshow(final_adata.X.todense(), cmap='coolwarm',\n",
    "           aspect='auto', vmin=-1, vmax=1)"
   ]
  },
  {
   "cell_type": "code",
   "execution_count": null,
   "metadata": {
    "ExecuteTime": {
     "end_time": "2020-03-25T01:48:54.545302Z",
     "start_time": "2020-03-25T01:48:54.278675Z"
    },
    "papermill": {
     "duration": null,
     "end_time": null,
     "exception": null,
     "start_time": null,
     "status": "completed"
    },
    "tags": []
   },
   "outputs": [],
   "source": [
    "sns.distplot(final_adata.X.data, kde=False, bins=100)"
   ]
  },
  {
   "cell_type": "code",
   "execution_count": null,
   "metadata": {
    "ExecuteTime": {
     "end_time": "2020-03-25T01:48:56.819805Z",
     "start_time": "2020-03-25T01:48:56.814439Z"
    },
    "papermill": {
     "duration": null,
     "end_time": null,
     "exception": null,
     "start_time": null,
     "status": "completed"
    },
    "tags": []
   },
   "outputs": [],
   "source": [
    "final_adata.X = final_adata.X.multiply(np.abs(final_adata.X) > cutoff)"
   ]
  },
  {
   "cell_type": "code",
   "execution_count": null,
   "metadata": {
    "ExecuteTime": {
     "end_time": "2020-03-25T01:48:57.432200Z",
     "start_time": "2020-03-25T01:48:57.428203Z"
    },
    "papermill": {
     "duration": null,
     "end_time": null,
     "exception": null,
     "start_time": null,
     "status": "completed"
    },
    "tags": []
   },
   "outputs": [],
   "source": [
    "(final_adata.X.data > 0).sum(), (final_adata.X.data < 0).sum()"
   ]
  },
  {
   "cell_type": "code",
   "execution_count": null,
   "metadata": {
    "ExecuteTime": {
     "end_time": "2020-03-25T01:48:58.243033Z",
     "start_time": "2020-03-25T01:48:58.239121Z"
    },
    "papermill": {
     "duration": null,
     "end_time": null,
     "exception": null,
     "start_time": null,
     "status": "completed"
    },
    "tags": []
   },
   "outputs": [],
   "source": [
    "(final_adata.X.data > 0.5).sum(), (final_adata.X.data < -0.5).sum()"
   ]
  },
  {
   "cell_type": "code",
   "execution_count": null,
   "metadata": {
    "ExecuteTime": {
     "end_time": "2020-03-25T01:48:59.688975Z",
     "start_time": "2020-03-25T01:48:59.670893Z"
    },
    "papermill": {
     "duration": null,
     "end_time": null,
     "exception": null,
     "start_time": null,
     "status": "completed"
    },
    "tags": []
   },
   "outputs": [],
   "source": [
    "final_adata.write_h5ad(f'{chrom}.h5ad')"
   ]
  },
  {
   "cell_type": "code",
   "execution_count": null,
   "metadata": {
    "ExecuteTime": {
     "end_time": "2020-03-25T01:49:01.228362Z",
     "start_time": "2020-03-25T01:49:01.225621Z"
    },
    "papermill": {
     "duration": null,
     "end_time": null,
     "exception": null,
     "start_time": null,
     "status": "completed"
    },
    "tags": []
   },
   "outputs": [],
   "source": [
    "final_adata"
   ]
  },
  {
   "cell_type": "code",
   "execution_count": null,
   "metadata": {
    "papermill": {
     "duration": null,
     "end_time": null,
     "exception": null,
     "start_time": null,
     "status": "completed"
    },
    "tags": []
   },
   "outputs": [],
   "source": []
  },
  {
   "cell_type": "code",
   "execution_count": null,
   "metadata": {
    "papermill": {
     "duration": null,
     "end_time": null,
     "exception": null,
     "start_time": null,
     "status": "completed"
    },
    "tags": []
   },
   "outputs": [],
   "source": []
  }
 ],
 "metadata": {
  "hide_input": false,
  "kernelspec": {
   "display_name": "Python 3",
   "language": "python",
   "name": "python3"
  },
  "language_info": {
   "codemirror_mode": {
    "name": "ipython",
    "version": 3
   },
   "file_extension": ".py",
   "mimetype": "text/x-python",
   "name": "python",
   "nbconvert_exporter": "python",
   "pygments_lexer": "ipython3",
   "version": "3.7.3"
  },
  "papermill": {
   "duration": 4.223403,
   "end_time": "2020-03-25T03:28:33.502605",
   "environment_variables": {},
   "exception": null,
   "input_path": "SingleChromCorr.ipynb",
   "output_path": "ResultByChrom/SingleChromCorr.chr1.ipynb",
   "parameters": {
    "chrom": "chr1"
   },
   "start_time": "2020-03-25T03:28:29.279202",
   "version": "1.0.1"
  },
  "toc": {
   "base_numbering": 1,
   "nav_menu": {},
   "number_sections": true,
   "sideBar": true,
   "skip_h1_title": true,
   "title_cell": "Table of Contents",
   "title_sidebar": "Contents",
   "toc_cell": false,
   "toc_position": {},
   "toc_section_display": true,
   "toc_window_display": true
  }
 },
 "nbformat": 4,
 "nbformat_minor": 2
}