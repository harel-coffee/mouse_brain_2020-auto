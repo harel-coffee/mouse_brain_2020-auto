{
 "cells": [
  {
   "cell_type": "code",
   "execution_count": 1,
   "metadata": {
    "ExecuteTime": {
     "end_time": "2020-03-25T01:36:14.583326Z",
     "start_time": "2020-03-25T01:36:14.446591Z"
    }
   },
   "outputs": [],
   "source": [
    "import pandas as pd\n",
    "import pathlib"
   ]
  },
  {
   "cell_type": "code",
   "execution_count": 9,
   "metadata": {
    "ExecuteTime": {
     "end_time": "2020-03-25T01:37:44.722207Z",
     "start_time": "2020-03-25T01:37:43.601176Z"
    }
   },
   "outputs": [],
   "source": [
    "genes = []\n",
    "dmrs = []\n",
    "\n",
    "for p in list(pathlib.Path().glob('link*')):\n",
    "    df = pd.read_csv(p, sep='\\t', header=None)\n",
    "    genes.append(df[0])\n",
    "    dmrs.append(df[2])\n",
    "genes = pd.concat(genes).unique()\n",
    "dmrs = pd.concat(dmrs).unique()"
   ]
  },
  {
   "cell_type": "code",
   "execution_count": 11,
   "metadata": {
    "ExecuteTime": {
     "end_time": "2020-03-25T01:37:49.256840Z",
     "start_time": "2020-03-25T01:37:49.254234Z"
    }
   },
   "outputs": [
    {
     "data": {
      "text/plain": [
       "(691, 265973)"
      ]
     },
     "execution_count": 11,
     "metadata": {},
     "output_type": "execute_result"
    }
   ],
   "source": [
    "genes.size, dmrs.size"
   ]
  },
  {
   "cell_type": "code",
   "execution_count": 12,
   "metadata": {
    "ExecuteTime": {
     "end_time": "2020-03-25T01:38:37.067174Z",
     "start_time": "2020-03-25T01:38:37.051652Z"
    }
   },
   "outputs": [],
   "source": [
    "with open('use_genes.txt', 'w') as f:\n",
    "    f.write('\\n'.join(genes))\n",
    "with open('use_dmrs.txt', 'w') as f:\n",
    "    f.write('\\n'.join(dmrs))\n",
    "    "
   ]
  },
  {
   "cell_type": "code",
   "execution_count": null,
   "metadata": {},
   "outputs": [],
   "source": []
  }
 ],
 "metadata": {
  "hide_input": false,
  "kernelspec": {
   "display_name": "Python 3",
   "language": "python",
   "name": "python3"
  },
  "language_info": {
   "codemirror_mode": {
    "name": "ipython",
    "version": 3
   },
   "file_extension": ".py",
   "mimetype": "text/x-python",
   "name": "python",
   "nbconvert_exporter": "python",
   "pygments_lexer": "ipython3",
   "version": "3.7.3"
  },
  "toc": {
   "base_numbering": 1,
   "nav_menu": {},
   "number_sections": true,
   "sideBar": true,
   "skip_h1_title": true,
   "title_cell": "Table of Contents",
   "title_sidebar": "Contents",
   "toc_cell": false,
   "toc_position": {},
   "toc_section_display": true,
   "toc_window_display": true
  }
 },
 "nbformat": 4,
 "nbformat_minor": 2
}
