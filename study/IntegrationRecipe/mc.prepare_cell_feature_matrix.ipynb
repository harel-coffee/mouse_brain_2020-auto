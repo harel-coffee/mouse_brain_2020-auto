{
 "cells": [
  {
   "cell_type": "markdown",
   "metadata": {},
   "source": [
    "# Prepare"
   ]
  },
  {
   "cell_type": "code",
   "execution_count": 1,
   "metadata": {},
   "outputs": [
    {
     "name": "stderr",
     "output_type": "stream",
     "text": [
      "/home/hanliu/miniconda3/envs/clustering/lib/python3.7/site-packages/xarray/core/merge.py:18: FutureWarning: The Panel class is removed from pandas. Accessing it from the top-level namespace will also be removed in the next version\n",
      "  PANDAS_TYPES = (pd.Series, pd.DataFrame, pd.Panel)\n",
      "/home/hanliu/miniconda3/envs/clustering/lib/python3.7/site-packages/xarray/core/dataarray.py:1829: FutureWarning: The Panel class is removed from pandas. Accessing it from the top-level namespace will also be removed in the next version\n",
      "  'DataArray', pd.Series, pd.DataFrame, pd.Panel]:\n"
     ]
    }
   ],
   "source": [
    "import pathlib\n",
    "import warnings\n",
    "\n",
    "import anndata\n",
    "import matplotlib.pyplot as plt\n",
    "import numpy as np\n",
    "import pandas as pd\n",
    "import scanpy as sc\n",
    "import seaborn as sns\n",
    "from ALLCools.mcds.MCDS import MCDS\n",
    "from cemba_data.plot import cutoff_vs_cell_remain\n",
    "from pybedtools import BedTool"
   ]
  },
  {
   "cell_type": "markdown",
   "metadata": {},
   "source": [
    "## Parameters"
   ]
  },
  {
   "cell_type": "code",
   "execution_count": 2,
   "metadata": {
    "tags": [
     "parameters"
    ]
   },
   "outputs": [],
   "source": [
    "cell_tidy_data_path = 'cell_tidy_data.msg'\n",
    "cluster_col = 'SubType'\n",
    "clustering_feature = 'gene'\n",
    "dask_distribute = True\n",
    "in_memory = False\n",
    "mcds_path_list = list(\n",
    "    pathlib.Path('/home/hanliu/project/mouse_rostral_brain/dataset/').glob(\n",
    "        '*mcds'))\n",
    "exclude_chromosome = ['chrM', 'chrY']\n",
    "black_list_path = '/home/hanliu/project/mouse_rostral_brain/misc/mm10-blacklist.v2.bed.gz'\n",
    "min_feature_cov = 30\n",
    "max_feature_cov = 8000\n",
    "mc_type = 'CHN'\n",
    "filter_by_ncbi = True\n",
    "ncbi_path = '/home/hanliu/ref/ncbi/gene2ensembl.mouse.tsv.gz'"
   ]
  },
  {
   "cell_type": "markdown",
   "metadata": {},
   "source": [
    "### Stable parameters"
   ]
  },
  {
   "cell_type": "code",
   "execution_count": 21,
   "metadata": {},
   "outputs": [],
   "source": [
    "output_dir = 'Adata'\n",
    "output_dir = pathlib.Path(output_dir)\n",
    "output_dir.mkdir(exist_ok=True)"
   ]
  },
  {
   "cell_type": "markdown",
   "metadata": {},
   "source": [
    "## Load Data"
   ]
  },
  {
   "cell_type": "code",
   "execution_count": 4,
   "metadata": {},
   "outputs": [
    {
     "name": "stderr",
     "output_type": "stream",
     "text": [
      "/home/hanliu/miniconda3/envs/clustering/lib/python3.7/site-packages/distributed/dashboard/core.py:72: UserWarning: \n",
      "Port 5555 is already in use. \n",
      "Perhaps you already have a cluster running?\n",
      "Hosting the diagnostics dashboard on a random port instead.\n",
      "  warnings.warn(\"\\n\" + msg)\n"
     ]
    }
   ],
   "source": [
    "if dask_distribute:\n",
    "    from dask.distributed import Client\n",
    "    client = Client(dashboard_address=':5555')"
   ]
  },
  {
   "cell_type": "markdown",
   "metadata": {},
   "source": [
    "### Clustering results"
   ]
  },
  {
   "cell_type": "code",
   "execution_count": 5,
   "metadata": {},
   "outputs": [
    {
     "name": "stderr",
     "output_type": "stream",
     "text": [
      "/home/hanliu/miniconda3/envs/clustering/lib/python3.7/site-packages/IPython/core/interactiveshell.py:3326: FutureWarning: The read_msgpack is deprecated and will be removed in a future version.\n",
      "It is recommended to use pyarrow for on-the-wire transmission of pandas objects.\n",
      "  exec(code_obj, self.user_global_ns, self.user_ns)\n"
     ]
    }
   ],
   "source": [
    "cell_tidy_data = pd.read_msgpack(cell_tidy_data_path)"
   ]
  },
  {
   "cell_type": "markdown",
   "metadata": {},
   "source": [
    "### Raw Count Matrix (before filter)"
   ]
  },
  {
   "cell_type": "code",
   "execution_count": 6,
   "metadata": {},
   "outputs": [],
   "source": [
    "with warnings.catch_warnings():\n",
    "    warnings.simplefilter('ignore')\n",
    "    mcds = MCDS.open(mcds_path_list,\n",
    "                     use_cells=cell_tidy_data.index,\n",
    "                     chunks={'cell': 1000})\n",
    "if in_memory:\n",
    "    mcds.load()"
   ]
  },
  {
   "cell_type": "code",
   "execution_count": 7,
   "metadata": {},
   "outputs": [
    {
     "data": {
      "text/plain": [
       "<xarray.MCDS>\n",
       "Dimensions:              (cell: 1000, chrom100k: 27269, count_type: 2, gene: 55487, mc_type: 2)\n",
       "Coordinates:\n",
       "  * mc_type              (mc_type) object 'CGN' 'CHN'\n",
       "  * gene                 (gene) object 'ENSMUSG00000102693.1' ... 'ENSMUSG00000064372.1'\n",
       "  * count_type           (count_type) object 'mc' 'cov'\n",
       "    strand_type          <U4 'both'\n",
       "    gene_chrom           (gene) object dask.array<shape=(55487,), chunksize=(55487,)>\n",
       "    gene_start           (gene) int64 dask.array<shape=(55487,), chunksize=(55487,)>\n",
       "    gene_end             (gene) int64 dask.array<shape=(55487,), chunksize=(55487,)>\n",
       "  * cell                 (cell) object '5E_M_1338' '5J-2_M_1215' ... '3F_M_2184'\n",
       "  * chrom100k            (chrom100k) int64 0 1 2 3 4 ... 27265 27266 27267 27268\n",
       "    chrom100k_chrom      (chrom100k) object dask.array<shape=(27269,), chunksize=(27269,)>\n",
       "    chrom100k_bin_start  (chrom100k) int64 dask.array<shape=(27269,), chunksize=(27269,)>\n",
       "    chrom100k_bin_end    (chrom100k) int64 dask.array<shape=(27269,), chunksize=(27269,)>\n",
       "Data variables:\n",
       "    gene_da              (cell, gene, mc_type, count_type) uint16 dask.array<shape=(1000, 55487, 2, 2), chunksize=(1000, 55487, 2, 2)>\n",
       "    chrom100k_da         (cell, chrom100k, mc_type, count_type) uint16 dask.array<shape=(1000, 27269, 2, 2), chunksize=(1000, 27269, 2, 2)>"
      ]
     },
     "execution_count": 7,
     "metadata": {},
     "output_type": "execute_result"
    }
   ],
   "source": [
    "mcds"
   ]
  },
  {
   "cell_type": "markdown",
   "metadata": {},
   "source": [
    "## Filter Feature\n",
    "\n",
    "### Remove some chromosome"
   ]
  },
  {
   "cell_type": "code",
   "execution_count": 8,
   "metadata": {},
   "outputs": [],
   "source": [
    "mcds = mcds.sel(\n",
    "    {clustering_feature: ~mcds.coords[f'{clustering_feature}_chrom'].isin(exclude_chromosome)})"
   ]
  },
  {
   "cell_type": "markdown",
   "metadata": {},
   "source": [
    "### Remove blacklist"
   ]
  },
  {
   "cell_type": "code",
   "execution_count": 9,
   "metadata": {},
   "outputs": [
    {
     "name": "stderr",
     "output_type": "stream",
     "text": [
      "/home/hanliu/miniconda3/envs/clustering/lib/python3.7/site-packages/xarray/core/dataarray.py:1849: FutureWarning: The Panel class is removed from pandas. Accessing it from the top-level namespace will also be removed in the next version\n",
      "  3: pd.Panel}\n",
      "/home/hanliu/miniconda3/envs/clustering/lib/python3.7/site-packages/xarray/core/dataarray.py:1849: FutureWarning: The Panel class is removed from pandas. Accessing it from the top-level namespace will also be removed in the next version\n",
      "  3: pd.Panel}\n",
      "/home/hanliu/miniconda3/envs/clustering/lib/python3.7/site-packages/xarray/core/dataarray.py:1849: FutureWarning: The Panel class is removed from pandas. Accessing it from the top-level namespace will also be removed in the next version\n",
      "  3: pd.Panel}\n"
     ]
    }
   ],
   "source": [
    "spetial_char = '_bin' if clustering_feature.startswith('chrom') else ''\n",
    "\n",
    "feature_bed_df = pd.DataFrame([\n",
    "    mcds.coords[f'{clustering_feature}_chrom'].to_pandas(),\n",
    "    mcds.coords[f'{clustering_feature}{spetial_char}_start'].to_pandas(),\n",
    "    mcds.coords[f'{clustering_feature}{spetial_char}_end'].to_pandas()\n",
    "],\n",
    "                              index=['chrom', 'start', 'end'],\n",
    "                              columns=mcds.get_index(clustering_feature)).T\n",
    "feature_bed = BedTool.from_dataframe(feature_bed_df)"
   ]
  },
  {
   "cell_type": "code",
   "execution_count": 10,
   "metadata": {},
   "outputs": [],
   "source": [
    "black_list_bed = BedTool(black_list_path)\n",
    "black_feature = feature_bed.intersect(black_list_bed, f=0.2, wa=True)\n",
    "black_feature_index = black_feature.to_dataframe().set_index(\n",
    "    ['chrom', 'start', 'end']).index\n",
    "black_feature_id = pd.Index(feature_bed_df.reset_index()\\\n",
    "                       .set_index(['chrom', 'start', 'end'])\\\n",
    "                       .loc[black_feature_index][clustering_feature])"
   ]
  },
  {
   "cell_type": "code",
   "execution_count": 11,
   "metadata": {},
   "outputs": [],
   "source": [
    "mcds = mcds.sel({clustering_feature: ~mcds.get_index(clustering_feature).isin(black_feature_id)})"
   ]
  },
  {
   "cell_type": "markdown",
   "metadata": {},
   "source": [
    "## Filter feature by NCBI id\n",
    "- Since Allen's data must have NCBI id to match"
   ]
  },
  {
   "cell_type": "code",
   "execution_count": 12,
   "metadata": {},
   "outputs": [],
   "source": [
    "if clustering_feature == 'gene':\n",
    "    have_entrez_id = pd.read_csv(ncbi_path, sep='\\t', index_col='GeneID')['Ensembl_gene_identifier']\n",
    "    have_entrez_id = set(have_entrez_id.drop_duplicates().tolist())\n",
    "    _index = mcds.get_index(clustering_feature)\n",
    "    judge = _index.map(lambda i: i.split('.')[0] in have_entrez_id)\n",
    "    mcds = mcds.sel({clustering_feature: _index[judge]})"
   ]
  },
  {
   "cell_type": "markdown",
   "metadata": {},
   "source": [
    "### Remove by mean cov"
   ]
  },
  {
   "cell_type": "code",
   "execution_count": 13,
   "metadata": {},
   "outputs": [],
   "source": [
    "# # only calculate CHN\n",
    "# fig, axes = cutoff_vs_cell_remain(mcds[f'{clustering_feature}_da']\\\n",
    "#                                   .sel(count_type='cov', mc_type='CHN')\\\n",
    "#                                   .mean(axis=0)\\\n",
    "#                                   .load())"
   ]
  },
  {
   "cell_type": "code",
   "execution_count": 14,
   "metadata": {},
   "outputs": [
    {
     "name": "stdout",
     "output_type": "stream",
     "text": [
      "Filter gene by [30, 8000], filter rate 0.89. 20799 features remained.\n"
     ]
    }
   ],
   "source": [
    "before = mcds.coords[clustering_feature].size\n",
    "mcds = mcds.filter_region_cov(dim=clustering_feature,\n",
    "                              da=f'{clustering_feature}_da',\n",
    "                              mc_type=mc_type,\n",
    "                              min_cov=min_feature_cov,\n",
    "                              max_cov=max_feature_cov)\n",
    "after = mcds.coords[clustering_feature].size\n",
    "print(\n",
    "    f'Filter {clustering_feature} by [{min_feature_cov}, {max_feature_cov}], '\n",
    "    f'filter rate {(after / before):.2f}. {after} features remained.')"
   ]
  },
  {
   "cell_type": "code",
   "execution_count": 15,
   "metadata": {},
   "outputs": [
    {
     "data": {
      "text/plain": [
       "<xarray.MCDS>\n",
       "Dimensions:              (cell: 1000, chrom100k: 27269, count_type: 2, gene: 20799, mc_type: 2)\n",
       "Coordinates:\n",
       "  * mc_type              (mc_type) object 'CGN' 'CHN'\n",
       "  * gene                 (gene) object 'ENSMUSG00000051951.5' ... 'ENSMUSG00000035299.16'\n",
       "  * count_type           (count_type) object 'mc' 'cov'\n",
       "    strand_type          <U4 'both'\n",
       "    gene_chrom           (gene) object dask.array<shape=(20799,), chunksize=(20799,)>\n",
       "    gene_start           (gene) int64 dask.array<shape=(20799,), chunksize=(20799,)>\n",
       "    gene_end             (gene) int64 dask.array<shape=(20799,), chunksize=(20799,)>\n",
       "  * cell                 (cell) object '5E_M_1338' '5J-2_M_1215' ... '3F_M_2184'\n",
       "  * chrom100k            (chrom100k) int64 0 1 2 3 4 ... 27265 27266 27267 27268\n",
       "    chrom100k_chrom      (chrom100k) object dask.array<shape=(27269,), chunksize=(27269,)>\n",
       "    chrom100k_bin_start  (chrom100k) int64 dask.array<shape=(27269,), chunksize=(27269,)>\n",
       "    chrom100k_bin_end    (chrom100k) int64 dask.array<shape=(27269,), chunksize=(27269,)>\n",
       "Data variables:\n",
       "    gene_da              (cell, gene, mc_type, count_type) uint16 dask.array<shape=(1000, 20799, 2, 2), chunksize=(1000, 20799, 2, 2)>\n",
       "    chrom100k_da         (cell, chrom100k, mc_type, count_type) uint16 dask.array<shape=(1000, 27269, 2, 2), chunksize=(1000, 27269, 2, 2)>"
      ]
     },
     "execution_count": 15,
     "metadata": {},
     "output_type": "execute_result"
    }
   ],
   "source": [
    "mcds"
   ]
  },
  {
   "cell_type": "markdown",
   "metadata": {},
   "source": [
    "## Add rate"
   ]
  },
  {
   "cell_type": "code",
   "execution_count": 16,
   "metadata": {},
   "outputs": [],
   "source": [
    "mcds.add_mc_rate(dim=clustering_feature, da=f'{clustering_feature}_da')"
   ]
  },
  {
   "cell_type": "code",
   "execution_count": 17,
   "metadata": {},
   "outputs": [],
   "source": [
    "data = mcds[f'{clustering_feature}_da_rate'].sel(mc_type=mc_type).values"
   ]
  },
  {
   "cell_type": "markdown",
   "metadata": {},
   "source": [
    "## Make Adata"
   ]
  },
  {
   "cell_type": "code",
   "execution_count": 18,
   "metadata": {},
   "outputs": [],
   "source": [
    "adata = anndata.AnnData(X=data,\n",
    "                        obs=cell_tidy_data.reindex(mcds.get_index('cell')),\n",
    "                        var=feature_bed_df.reindex(\n",
    "                            mcds.get_index(clustering_feature)))"
   ]
  },
  {
   "cell_type": "code",
   "execution_count": 19,
   "metadata": {},
   "outputs": [
    {
     "data": {
      "text/plain": [
       "AnnData object with n_obs × n_vars = 1000 × 20799 \n",
       "    obs: 'AllcPath', 'CCC_Rate', 'CG_Rate', 'CG_RateAdj', 'CH_Rate', 'CH_RateAdj', 'FinalReads', 'InputReads', 'MappedReads', 'Region', 'index_name', 'uid', 'BamFilteringRate', 'MappingRate', 'Pos96', 'Plate', 'Col96', 'Row96', 'Col384', 'Row384', 'FACS_Date', 'Slice', 'MajorRegion', 'SubRegion', 'CellClass', 'l1-umap_0', 'l1-umap_1', 'l1-tsne_0', 'l1-tsne_1', 'MajorType', 'l2-umap_0', 'l2-umap_1', 'l2-tsne_0', 'l2-tsne_1', 'SubType', 'l3-umap_0', 'l3-umap_1', 'l3-tsne_0', 'l3-tsne_1', 'L1CellClass', 'class_tsne_0', 'class_tsne_1', 'class_umap_0', 'class_umap_1', 'Order', 'RegionName', 'DetailRegion', 'PotentialOverlap (MMB)', 'Anterior (CCF coords)', 'Posterior (CCF coords)', 'MajorRegionColor', 'SubRegionColor', 'DissectionRegionColor'\n",
       "    var: 'chrom', 'start', 'end'"
      ]
     },
     "execution_count": 19,
     "metadata": {},
     "output_type": "execute_result"
    }
   ],
   "source": [
    "adata"
   ]
  },
  {
   "cell_type": "code",
   "execution_count": 20,
   "metadata": {},
   "outputs": [
    {
     "name": "stderr",
     "output_type": "stream",
     "text": [
      "... storing 'Region' as categorical\n",
      "... storing 'index_name' as categorical\n",
      "... storing 'uid' as categorical\n",
      "... storing 'Pos96' as categorical\n",
      "... storing 'Plate' as categorical\n",
      "... storing 'MajorRegion' as categorical\n",
      "... storing 'SubRegion' as categorical\n",
      "... storing 'CellClass' as categorical\n",
      "... storing 'MajorType' as categorical\n",
      "... storing 'SubType' as categorical\n",
      "... storing 'L1CellClass' as categorical\n",
      "... storing 'RegionName' as categorical\n",
      "... storing 'DetailRegion' as categorical\n",
      "... storing 'PotentialOverlap (MMB)' as categorical\n",
      "... storing 'MajorRegionColor' as categorical\n",
      "... storing 'SubRegionColor' as categorical\n",
      "... storing 'DissectionRegionColor' as categorical\n",
      "... storing 'chrom' as categorical\n",
      "... storing 'start' as categorical\n",
      "... storing 'end' as categorical\n"
     ]
    }
   ],
   "source": [
    "adata.write_h5ad(output_dir / 'mc.cell_by_feature.cov_filter.rate.h5ad')"
   ]
  },
  {
   "cell_type": "code",
   "execution_count": null,
   "metadata": {},
   "outputs": [],
   "source": []
  },
  {
   "cell_type": "code",
   "execution_count": null,
   "metadata": {},
   "outputs": [],
   "source": []
  }
 ],
 "metadata": {
  "hide_input": false,
  "kernelspec": {
   "display_name": "Python 3",
   "language": "python",
   "name": "python3"
  },
  "language_info": {
   "codemirror_mode": {
    "name": "ipython",
    "version": 3
   },
   "file_extension": ".py",
   "mimetype": "text/x-python",
   "name": "python",
   "nbconvert_exporter": "python",
   "pygments_lexer": "ipython3",
   "version": "3.7.3"
  },
  "toc": {
   "base_numbering": 1,
   "nav_menu": {},
   "number_sections": true,
   "sideBar": true,
   "skip_h1_title": true,
   "title_cell": "Table of Contents",
   "title_sidebar": "Contents",
   "toc_cell": false,
   "toc_position": {},
   "toc_section_display": true,
   "toc_window_display": true
  }
 },
 "nbformat": 4,
 "nbformat_minor": 2
}
