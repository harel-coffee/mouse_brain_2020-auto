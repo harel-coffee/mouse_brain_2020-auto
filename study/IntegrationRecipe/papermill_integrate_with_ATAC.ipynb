{
 "cells": [
  {
   "cell_type": "code",
   "execution_count": 1,
   "metadata": {
    "ExecuteTime": {
     "end_time": "2019-12-02T03:38:59.370828Z",
     "start_time": "2019-12-02T03:38:58.623970Z"
    }
   },
   "outputs": [],
   "source": [
    "import pandas as pd\n",
    "import pathlib\n",
    "from papermill import execute_notebook"
   ]
  },
  {
   "cell_type": "markdown",
   "metadata": {},
   "source": [
    "## Parameters"
   ]
  },
  {
   "cell_type": "code",
   "execution_count": 2,
   "metadata": {
    "ExecuteTime": {
     "end_time": "2019-12-02T03:38:59.384753Z",
     "start_time": "2019-12-02T03:38:59.373772Z"
    }
   },
   "outputs": [
    {
     "data": {
      "text/plain": [
       "dict_keys(['Cortex-OLF-Exc', 'IT', 'HPF-Exc', 'Inh', 'NonN'])"
      ]
     },
     "execution_count": 2,
     "metadata": {},
     "output_type": "execute_result"
    }
   ],
   "source": [
    "mc_study_design = {\n",
    "    'Cortex-OLF-Exc': [\n",
    "        'NP-L6',\n",
    "        'CT-L6',\n",
    "        'PT-L5',\n",
    "        'L6b',\n",
    "        'OLF-Exc',\n",
    "        'CLA',\n",
    "        'EP',\n",
    "    ],\n",
    "    'IT': [\n",
    "        'IT-L5',\n",
    "        'IT-L6',\n",
    "        'IT-L23',\n",
    "        'IT-L4',\n",
    "    ],\n",
    "    'HPF-Exc': [\n",
    "        'CA3',\n",
    "        'CA1',\n",
    "        'CA3-St18',\n",
    "        'Gfra1',\n",
    "        'IG-CA2',\n",
    "        'DG-po',\n",
    "        'DG',\n",
    "    ],\n",
    "    'Inh': [\n",
    "        'MGE-Sst', 'Unc5c', 'CGE-Lamp5', 'CGE-Vip', 'PAL-Inh', 'MGE-Pvalb',\n",
    "        'MSN-D2', 'OLF', 'Foxp2', 'MSN-D1', 'LSX-Inh', 'D1L-Fstl4', 'D1L-PAL',\n",
    "        'Chd7'\n",
    "    ],\n",
    "    'NonN': [\n",
    "        'ODC',\n",
    "        'PC',\n",
    "        'ANP',\n",
    "        'OPC',\n",
    "        'ASC',\n",
    "        'MGC',\n",
    "        'VLMC',\n",
    "        'EC',\n",
    "        'VLMC-Pia',\n",
    "    ]\n",
    "}\n",
    "mc_study_design.keys()"
   ]
  },
  {
   "cell_type": "code",
   "execution_count": 3,
   "metadata": {
    "ExecuteTime": {
     "end_time": "2019-12-02T03:38:59.389098Z",
     "start_time": "2019-12-02T03:38:59.386649Z"
    }
   },
   "outputs": [],
   "source": [
    "study = 'NonN'"
   ]
  },
  {
   "cell_type": "code",
   "execution_count": 4,
   "metadata": {
    "ExecuteTime": {
     "end_time": "2019-12-02T03:38:59.394284Z",
     "start_time": "2019-12-02T03:38:59.390946Z"
    }
   },
   "outputs": [],
   "source": [
    "cell_tidy_data_path = '/home/hanliu/project/mouse_rostral_brain/study/ClusteringSummary/Summary/TotalClusteringResults.msg'\n",
    "\n",
    "# mc\n",
    "major_types = mc_study_design[study]\n",
    "\n",
    "# rna\n",
    "atac_cell_tidy_data_path = '/home/hanliu/project/mouse_rostral_brain/ATAC/Metadata/ATAC.cell_tidy_data.msg'\n",
    "atac_adata_path = f'/home/hanliu/project/mouse_rostral_brain/ATAC/AdataForIntegration/{study}.gene.pass_qc.with_cluster.h5ad'\n",
    "\n",
    "# output\n",
    "output_dir = f'/home/hanliu/project/mouse_rostral_brain/study/IntegrationWithATAC/{study}'"
   ]
  },
  {
   "cell_type": "code",
   "execution_count": 5,
   "metadata": {
    "ExecuteTime": {
     "end_time": "2019-12-02T03:38:59.399628Z",
     "start_time": "2019-12-02T03:38:59.396116Z"
    }
   },
   "outputs": [],
   "source": [
    "output_dir = pathlib.Path(output_dir)\n",
    "output_dir.mkdir(exist_ok=True, parents=True)\n",
    "\n",
    "template_dir = ''\n",
    "template_dir = pathlib.Path(template_dir)"
   ]
  },
  {
   "cell_type": "markdown",
   "metadata": {},
   "source": [
    "## Make Study"
   ]
  },
  {
   "cell_type": "code",
   "execution_count": 6,
   "metadata": {
    "ExecuteTime": {
     "end_time": "2019-12-02T03:38:59.992203Z",
     "start_time": "2019-12-02T03:38:59.401541Z"
    }
   },
   "outputs": [
    {
     "name": "stderr",
     "output_type": "stream",
     "text": [
      "/home/hanliu/miniconda3/envs/clustering/lib/python3.7/site-packages/IPython/core/interactiveshell.py:3326: FutureWarning: The read_msgpack is deprecated and will be removed in a future version.\n",
      "It is recommended to use pyarrow for on-the-wire transmission of pandas objects.\n",
      "  exec(code_obj, self.user_global_ns, self.user_ns)\n"
     ]
    }
   ],
   "source": [
    "cell_tidy_data = pd.read_msgpack(cell_tidy_data_path)"
   ]
  },
  {
   "cell_type": "code",
   "execution_count": 7,
   "metadata": {
    "ExecuteTime": {
     "end_time": "2019-12-02T03:39:00.011402Z",
     "start_time": "2019-12-02T03:38:59.996340Z"
    }
   },
   "outputs": [
    {
     "data": {
      "text/plain": [
       "array(['MGE-Sst', 'CA3', 'CA1', 'CA3-St18', 'Unc5c', 'Gfra1', 'ODC', 'PC',\n",
       "       'ANP', 'IT-L5', 'NP-L6', 'CGE-Lamp5', 'CT-L6', 'IG-CA2', 'DG-po',\n",
       "       'DG', 'CGE-Vip', 'OPC', 'ASC', 'MGC', 'PAL-Inh', 'PT-L5',\n",
       "       'MGE-Pvalb', 'VLMC', 'EC', 'VLMC-Pia', 'OLF', 'MSN-D2', 'L6b',\n",
       "       'IT-L6', 'IT-L23', 'IT-L4', 'OLF-Exc', 'CLA', 'Foxp2', 'MSN-D1',\n",
       "       'LSX-Inh', 'D1L-Fstl4', 'EP', 'D1L-PAL', 'Chd7'], dtype=object)"
      ]
     },
     "execution_count": 7,
     "metadata": {},
     "output_type": "execute_result"
    }
   ],
   "source": [
    "cell_tidy_data['MajorType'].unique()"
   ]
  },
  {
   "cell_type": "code",
   "execution_count": 8,
   "metadata": {
    "ExecuteTime": {
     "end_time": "2019-12-02T03:39:00.152951Z",
     "start_time": "2019-12-02T03:39:00.013718Z"
    }
   },
   "outputs": [
    {
     "name": "stderr",
     "output_type": "stream",
     "text": [
      "/home/hanliu/miniconda3/envs/clustering/lib/python3.7/site-packages/ipykernel_launcher.py:3: FutureWarning: to_msgpack is deprecated and will be removed in a future version.\n",
      "It is recommended to use pyarrow for on-the-wire transmission of pandas objects.\n",
      "  This is separate from the ipykernel package so we can avoid doing imports until\n"
     ]
    },
    {
     "data": {
      "text/plain": [
       "8167"
      ]
     },
     "execution_count": 8,
     "metadata": {},
     "output_type": "execute_result"
    }
   ],
   "source": [
    "judge = cell_tidy_data['MajorType'].isin(major_types)\n",
    "cell_tidy_data = cell_tidy_data[judge]\n",
    "cell_tidy_data.to_msgpack(output_dir / 'cell_tidy_data.msg')\n",
    "cell_tidy_data.shape[0]"
   ]
  },
  {
   "cell_type": "code",
   "execution_count": 9,
   "metadata": {
    "ExecuteTime": {
     "end_time": "2019-12-02T03:39:00.168032Z",
     "start_time": "2019-12-02T03:39:00.154960Z"
    }
   },
   "outputs": [
    {
     "data": {
      "text/plain": [
       "ODC         3082\n",
       "ASC         2215\n",
       "MGC          853\n",
       "OPC          777\n",
       "VLMC         419\n",
       "ANP          331\n",
       "VLMC-Pia     225\n",
       "PC           170\n",
       "EC            95\n",
       "Name: MajorType, dtype: int64"
      ]
     },
     "execution_count": 9,
     "metadata": {},
     "output_type": "execute_result"
    }
   ],
   "source": [
    "cell_tidy_data['MajorType'].value_counts()"
   ]
  },
  {
   "cell_type": "code",
   "execution_count": 10,
   "metadata": {
    "ExecuteTime": {
     "end_time": "2019-12-02T03:39:00.192371Z",
     "start_time": "2019-12-02T03:39:00.169834Z"
    }
   },
   "outputs": [],
   "source": [
    "def runner():\n",
    "    # prepare mC\n",
    "    params = dict(\n",
    "        cell_tidy_data_path='cell_tidy_data.msg',\n",
    "        cluster_col='SubType',\n",
    "        clustering_feature='gene',\n",
    "        dask_distribute=True,\n",
    "        in_memory=False,\n",
    "        mcds_path_list=[\n",
    "            str(i) for i in pathlib.Path(\n",
    "                '/home/hanliu/project/mouse_rostral_brain/dataset/').glob(\n",
    "                    '*mcds')\n",
    "        ],\n",
    "        exclude_chromosome=['chrM', 'chrY'],\n",
    "        black_list_path=\n",
    "        '/home/hanliu/project/mouse_rostral_brain/misc/mm10-blacklist.v2.bed.gz',\n",
    "        min_feature_cov=30,\n",
    "        max_feature_cov=8000,\n",
    "        mc_type='CHN',\n",
    "        filter_by_ncbi=True,\n",
    "        ncbi_path='/home/hanliu/ref/ncbi/gene2ensembl.mouse.tsv.gz')\n",
    "\n",
    "    input_path = template_dir / 'mc.prepare_cell_feature_matrix.ipynb'\n",
    "    output_path = output_dir / 'mc.prepare_cell_feature_matrix.ipynb'\n",
    "\n",
    "    execute_notebook(str(input_path),\n",
    "                     str(output_path),\n",
    "                     parameters=params,\n",
    "                     engine_name=None,\n",
    "                     prepare_only=True,\n",
    "                     kernel_name=None,\n",
    "                     progress_bar=True,\n",
    "                     log_output=False,\n",
    "                     start_timeout=60,\n",
    "                     report_mode=False,\n",
    "                     cwd=str(output_dir))\n",
    "\n",
    "    params = dict(cluster_col='SubType',\n",
    "                  min_cluster_cell_number=10,\n",
    "                  exclude_str=['Outlier'],\n",
    "                  adj_p_cutoff=1e-3,\n",
    "                  log2fc_cutoff=1,\n",
    "                  top_n=20,\n",
    "                  cpu=10)\n",
    "\n",
    "    input_path = template_dir / 'mc.pairwise_marker_selection.ipynb'\n",
    "    output_path = output_dir / 'mc.pairwise_marker_selection.ipynb'\n",
    "\n",
    "    execute_notebook(str(input_path),\n",
    "                     str(output_path),\n",
    "                     parameters=params,\n",
    "                     engine_name=None,\n",
    "                     prepare_only=True,\n",
    "                     kernel_name=None,\n",
    "                     progress_bar=True,\n",
    "                     log_output=False,\n",
    "                     start_timeout=60,\n",
    "                     report_mode=False,\n",
    "                     cwd=str(output_dir))\n",
    "\n",
    "    params = dict(cell_tidy_data_path=atac_cell_tidy_data_path,\n",
    "                  adata_path=atac_adata_path,\n",
    "                  cluster_col='SubType',\n",
    "                  cpu=5,\n",
    "                  top_n=50,\n",
    "                  adj_p_cutoff=1e-3,\n",
    "                  log2fc_cutoff=0.3,\n",
    "                  min_cluster_cell_number=10)\n",
    "\n",
    "    input_path = template_dir / 'atac.pairwise_marker_selection.ipynb'\n",
    "    output_path = output_dir / 'atac.pairwise_marker_selection.ipynb'\n",
    "\n",
    "    execute_notebook(str(input_path),\n",
    "                     str(output_path),\n",
    "                     parameters=params,\n",
    "                     engine_name=None,\n",
    "                     prepare_only=True,\n",
    "                     kernel_name=None,\n",
    "                     progress_bar=True,\n",
    "                     log_output=False,\n",
    "                     start_timeout=60,\n",
    "                     report_mode=False,\n",
    "                     cwd=str(output_dir))\n",
    "\n",
    "    params = dict(\n",
    "        # scanorama\n",
    "        scanorama_dim=30,\n",
    "        sigma=100,\n",
    "        alpha=0,\n",
    "        knn=20,\n",
    "\n",
    "        # clustering\n",
    "        k=30,\n",
    "        n_pcs=30,\n",
    "        n_jobs=40)\n",
    "\n",
    "    input_path = template_dir / 'Integration_with_atac-pseudo.ipynb'\n",
    "    output_path = output_dir / 'Integration_with_atac-pseudo.ipynb'\n",
    "\n",
    "    execute_notebook(str(input_path),\n",
    "                     str(output_path),\n",
    "                     parameters=params,\n",
    "                     engine_name=None,\n",
    "                     prepare_only=True,\n",
    "                     kernel_name=None,\n",
    "                     progress_bar=True,\n",
    "                     log_output=False,\n",
    "                     start_timeout=60,\n",
    "                     report_mode=False,\n",
    "                     cwd=str(output_dir))\n",
    "\n",
    "    params = dict(n_estimators=200,\n",
    "                  random_seed=0,\n",
    "                  n_splits=10,\n",
    "                  n_jobs=40,\n",
    "                  cluster_col='SubType')\n",
    "\n",
    "    input_path = template_dir / 'LabelTransfer.ipynb'\n",
    "    output_path = output_dir / 'LabelTransfer.ipynb'\n",
    "\n",
    "    execute_notebook(str(input_path),\n",
    "                     str(output_path),\n",
    "                     parameters=params,\n",
    "                     engine_name=None,\n",
    "                     prepare_only=True,\n",
    "                     kernel_name=None,\n",
    "                     progress_bar=True,\n",
    "                     log_output=False,\n",
    "                     start_timeout=60,\n",
    "                     report_mode=False,\n",
    "                     cwd=str(output_dir))\n",
    "    return"
   ]
  },
  {
   "cell_type": "code",
   "execution_count": 11,
   "metadata": {
    "ExecuteTime": {
     "end_time": "2019-12-02T03:39:00.615276Z",
     "start_time": "2019-12-02T03:39:00.194145Z"
    }
   },
   "outputs": [],
   "source": [
    "runner()"
   ]
  },
  {
   "cell_type": "code",
   "execution_count": null,
   "metadata": {},
   "outputs": [],
   "source": []
  }
 ],
 "metadata": {
  "hide_input": false,
  "kernelspec": {
   "display_name": "Python 3",
   "language": "python",
   "name": "python3"
  },
  "language_info": {
   "codemirror_mode": {
    "name": "ipython",
    "version": 3
   },
   "file_extension": ".py",
   "mimetype": "text/x-python",
   "name": "python",
   "nbconvert_exporter": "python",
   "pygments_lexer": "ipython3",
   "version": "3.7.3"
  },
  "toc": {
   "base_numbering": 1,
   "nav_menu": {},
   "number_sections": true,
   "sideBar": true,
   "skip_h1_title": true,
   "title_cell": "Table of Contents",
   "title_sidebar": "Contents",
   "toc_cell": false,
   "toc_position": {},
   "toc_section_display": true,
   "toc_window_display": true
  }
 },
 "nbformat": 4,
 "nbformat_minor": 2
}
