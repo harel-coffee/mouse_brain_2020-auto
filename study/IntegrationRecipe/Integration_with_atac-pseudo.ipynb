{
 "cells": [
  {
   "cell_type": "code",
   "execution_count": null,
   "metadata": {
    "papermill": {
     "duration": 1.986229,
     "end_time": "2019-11-24T07:33:58.049842",
     "exception": false,
     "start_time": "2019-11-24T07:33:56.063613",
     "status": "completed"
    },
    "tags": []
   },
   "outputs": [],
   "source": [
    "import pandas as pd\n",
    "import scanpy as sc\n",
    "import anndata\n",
    "import scanorama\n",
    "import scipy.sparse as ss\n",
    "import matplotlib.pyplot as plt\n",
    "import seaborn as sns\n",
    "from ALLCools.plot import *\n",
    "import pathlib\n",
    "from cemba_data.tools.integration.utilities import calculate_direct_confusion\n",
    "\n",
    "%matplotlib inline"
   ]
  },
  {
   "cell_type": "markdown",
   "metadata": {
    "papermill": {
     "duration": 0.030911,
     "end_time": "2019-11-24T07:33:58.100464",
     "exception": false,
     "start_time": "2019-11-24T07:33:58.069553",
     "status": "completed"
    },
    "tags": []
   },
   "source": [
    "## Parameters"
   ]
  },
  {
   "cell_type": "code",
   "execution_count": null,
   "metadata": {
    "papermill": {
     "duration": 0.023958,
     "end_time": "2019-11-24T07:33:58.143093",
     "exception": false,
     "start_time": "2019-11-24T07:33:58.119135",
     "status": "completed"
    },
    "tags": [
     "parameters"
    ]
   },
   "outputs": [],
   "source": [
    "mc_adata_path = 'Markers/mc.cluster_markers.h5ad'\n",
    "atac_adata_path = 'Markers/atac.pseudo_cell.cluster_markers.h5ad'\n",
    "\n",
    "# scanorama\n",
    "scanorama_dim = 30\n",
    "sigma = 100\n",
    "alpha = 0\n",
    "knn = 20\n",
    "\n",
    "# clustering\n",
    "k = 30\n",
    "n_pcs = 20\n",
    "n_jobs=40"
   ]
  },
  {
   "cell_type": "code",
   "execution_count": null,
   "metadata": {},
   "outputs": [],
   "source": [
    "output_dir = 'Integration'\n",
    "output_dir = pathlib.Path(output_dir)\n",
    "output_dir.mkdir(exist_ok=True)"
   ]
  },
  {
   "cell_type": "code",
   "execution_count": null,
   "metadata": {},
   "outputs": [],
   "source": [
    "region_palette = pd.read_csv('/home/hanliu/project/mouse_rostral_brain/metadata/palette/dissection_region.palette.csv',\n",
    "                                header=None, index_col=0, squeeze=True).to_dict()\n",
    "sub_region_palette = pd.read_csv('/home/hanliu/project/mouse_rostral_brain/metadata/palette/sub_region.palette.csv',\n",
    "                                header=None, index_col=0, squeeze=True).to_dict()\n",
    "major_region_palette = pd.read_csv('/home/hanliu/project/mouse_rostral_brain/metadata/palette/major_region.palette.csv',\n",
    "                                header=None, index_col=0, squeeze=True).to_dict()\n",
    "\n",
    "cell_class_palette = pd.read_csv('/home/hanliu/project/mouse_rostral_brain/metadata/palette/cell_class.palette.csv',\n",
    "                                header=None, index_col=0, squeeze=True).to_dict()\n",
    "major_type_palette = pd.read_csv('/home/hanliu/project/mouse_rostral_brain/metadata/palette/major_type.palette.csv',\n",
    "                                header=None, index_col=0, squeeze=True).to_dict()\n",
    "sub_type_palette = pd.read_csv('/home/hanliu/project/mouse_rostral_brain/metadata/palette/sub_type.palette.csv',\n",
    "                                header=None, index_col=0, squeeze=True).to_dict()"
   ]
  },
  {
   "cell_type": "markdown",
   "metadata": {
    "papermill": {
     "duration": 0.019045,
     "end_time": "2019-11-24T07:33:58.226978",
     "exception": false,
     "start_time": "2019-11-24T07:33:58.207933",
     "status": "completed"
    },
    "tags": []
   },
   "source": [
    "## Load Data\n",
    "\n",
    "### mC"
   ]
  },
  {
   "cell_type": "code",
   "execution_count": null,
   "metadata": {
    "papermill": {
     "duration": 0.258437,
     "end_time": "2019-11-24T07:33:58.504171",
     "exception": false,
     "start_time": "2019-11-24T07:33:58.245734",
     "status": "completed"
    },
    "tags": []
   },
   "outputs": [],
   "source": [
    "mc_adata = anndata.read_h5ad(mc_adata_path)\n",
    "mc_cell_tidy_data = mc_adata.obs.copy()"
   ]
  },
  {
   "cell_type": "code",
   "execution_count": null,
   "metadata": {
    "papermill": {
     "duration": 0.0261,
     "end_time": "2019-11-24T07:33:58.549078",
     "exception": false,
     "start_time": "2019-11-24T07:33:58.522978",
     "status": "completed"
    },
    "tags": []
   },
   "outputs": [],
   "source": [
    "mc_adata"
   ]
  },
  {
   "cell_type": "markdown",
   "metadata": {
    "papermill": {
     "duration": 0.01833,
     "end_time": "2019-11-24T07:33:58.586141",
     "exception": false,
     "start_time": "2019-11-24T07:33:58.567811",
     "status": "completed"
    },
    "tags": []
   },
   "source": [
    "### atac "
   ]
  },
  {
   "cell_type": "code",
   "execution_count": null,
   "metadata": {
    "papermill": {
     "duration": 0.402072,
     "end_time": "2019-11-24T07:33:59.006590",
     "exception": false,
     "start_time": "2019-11-24T07:33:58.604518",
     "status": "completed"
    },
    "tags": []
   },
   "outputs": [],
   "source": [
    "atac_adata = anndata.read_h5ad(atac_adata_path)\n",
    "atac_cell_tidy_data = atac_adata.obs.copy()"
   ]
  },
  {
   "cell_type": "code",
   "execution_count": null,
   "metadata": {},
   "outputs": [],
   "source": [
    "atac_cell_tidy_data.shape"
   ]
  },
  {
   "cell_type": "code",
   "execution_count": null,
   "metadata": {
    "deletable": false,
    "editable": false,
    "papermill": {
     "duration": 0.025286,
     "end_time": "2019-11-24T07:33:59.050852",
     "exception": false,
     "start_time": "2019-11-24T07:33:59.025566",
     "status": "completed"
    },
    "run_control": {
     "frozen": true
    },
    "tags": []
   },
   "outputs": [],
   "source": [
    "total_df = pd.DataFrame(atac_adata.X.todense(),\n",
    "                        index=atac_adata.obs_names,\n",
    "                        columns=atac_adata.var_names)\n",
    "cluster_center = total_df.groupby(atac_adata.obs['SubType']).mean()"
   ]
  },
  {
   "cell_type": "code",
   "execution_count": null,
   "metadata": {
    "deletable": false,
    "editable": false,
    "run_control": {
     "frozen": true
    }
   },
   "outputs": [],
   "source": [
    "atac_adata = anndata.AnnData(cluster_center.values,\n",
    "                             obs=pd.DataFrame([], index=cluster_center.index),\n",
    "                             var=pd.DataFrame([], index=cluster_center.columns))\n",
    "atac_adata"
   ]
  },
  {
   "cell_type": "markdown",
   "metadata": {
    "papermill": {
     "duration": 0.018519,
     "end_time": "2019-11-24T07:33:59.088078",
     "exception": false,
     "start_time": "2019-11-24T07:33:59.069559",
     "status": "completed"
    },
    "tags": []
   },
   "source": [
    "## Preprocess"
   ]
  },
  {
   "cell_type": "markdown",
   "metadata": {
    "papermill": {
     "duration": 0.018941,
     "end_time": "2019-11-24T07:33:59.309134",
     "exception": false,
     "start_time": "2019-11-24T07:33:59.290193",
     "status": "completed"
    },
    "tags": []
   },
   "source": [
    "### Union"
   ]
  },
  {
   "cell_type": "code",
   "execution_count": null,
   "metadata": {
    "papermill": {
     "duration": 0.02436,
     "end_time": "2019-11-24T07:33:59.352376",
     "exception": false,
     "start_time": "2019-11-24T07:33:59.328016",
     "status": "completed"
    },
    "tags": []
   },
   "outputs": [],
   "source": [
    "union = atac_adata.var_names & mc_adata.var_names"
   ]
  },
  {
   "cell_type": "code",
   "execution_count": null,
   "metadata": {
    "papermill": {
     "duration": 0.024258,
     "end_time": "2019-11-24T07:33:59.395067",
     "exception": false,
     "start_time": "2019-11-24T07:33:59.370809",
     "status": "completed"
    },
    "tags": []
   },
   "outputs": [],
   "source": [
    "print(union.size, 'genes in common')"
   ]
  },
  {
   "cell_type": "markdown",
   "metadata": {
    "papermill": {
     "duration": 0.019999,
     "end_time": "2019-11-24T07:33:59.434503",
     "exception": false,
     "start_time": "2019-11-24T07:33:59.414504",
     "status": "completed"
    },
    "tags": []
   },
   "source": [
    "### atac scale"
   ]
  },
  {
   "cell_type": "code",
   "execution_count": null,
   "metadata": {
    "papermill": {
     "duration": 0.130212,
     "end_time": "2019-11-24T07:33:59.583852",
     "exception": false,
     "start_time": "2019-11-24T07:33:59.453640",
     "status": "completed"
    },
    "tags": []
   },
   "outputs": [],
   "source": [
    "atac_adata = atac_adata[:, union].copy()"
   ]
  },
  {
   "cell_type": "code",
   "execution_count": null,
   "metadata": {},
   "outputs": [],
   "source": [
    "sc.pp.scale(atac_adata)"
   ]
  },
  {
   "cell_type": "markdown",
   "metadata": {
    "papermill": {
     "duration": 0.019623,
     "end_time": "2019-11-24T07:33:59.623387",
     "exception": false,
     "start_time": "2019-11-24T07:33:59.603764",
     "status": "completed"
    },
    "tags": []
   },
   "source": [
    "### Reverse mC and scale"
   ]
  },
  {
   "cell_type": "code",
   "execution_count": null,
   "metadata": {
    "papermill": {
     "duration": 0.082267,
     "end_time": "2019-11-24T07:33:59.724468",
     "exception": false,
     "start_time": "2019-11-24T07:33:59.642201",
     "status": "completed"
    },
    "tags": []
   },
   "outputs": [],
   "source": [
    "mc_adata = mc_adata[:, union].copy()\n",
    "mc_adata.X = mc_adata.X.max() - mc_adata.X\n",
    "sc.pp.scale(mc_adata)"
   ]
  },
  {
   "cell_type": "markdown",
   "metadata": {
    "papermill": {
     "duration": 0.01988,
     "end_time": "2019-11-24T07:33:59.764076",
     "exception": false,
     "start_time": "2019-11-24T07:33:59.744196",
     "status": "completed"
    },
    "tags": []
   },
   "source": [
    "## Integration"
   ]
  },
  {
   "cell_type": "code",
   "execution_count": null,
   "metadata": {
    "papermill": {
     "duration": 44.034655,
     "end_time": "2019-11-24T07:34:43.817654",
     "exception": false,
     "start_time": "2019-11-24T07:33:59.782999",
     "status": "completed"
    },
    "tags": []
   },
   "outputs": [],
   "source": [
    "import scanorama\n",
    "results = scanorama.correct_scanpy([mc_adata, atac_adata],\n",
    "                                   metric='angular',\n",
    "                                   dimred=scanorama_dim,\n",
    "                                   sigma=sigma,\n",
    "                                   alpha=alpha,\n",
    "                                   knn=knn)\n",
    "mc_adata, atac_adata = results"
   ]
  },
  {
   "cell_type": "code",
   "execution_count": null,
   "metadata": {
    "papermill": {
     "duration": 0.028678,
     "end_time": "2019-11-24T07:34:43.867502",
     "exception": false,
     "start_time": "2019-11-24T07:34:43.838824",
     "status": "completed"
    },
    "tags": []
   },
   "outputs": [],
   "source": [
    "mc_adata.obs['Modality'] = 'mC'\n",
    "atac_adata.obs['Modality'] = 'atac'"
   ]
  },
  {
   "cell_type": "code",
   "execution_count": null,
   "metadata": {
    "papermill": {
     "duration": 0.516821,
     "end_time": "2019-11-24T07:34:44.403428",
     "exception": false,
     "start_time": "2019-11-24T07:34:43.886607",
     "status": "completed"
    },
    "tags": []
   },
   "outputs": [],
   "source": [
    "adata = anndata.AnnData(X=ss.vstack([mc_adata.X, atac_adata.X]),\n",
    "                       obs=pd.DataFrame([], index=pd.Index(mc_adata.obs_names.tolist() \\\n",
    "                                                           + atac_adata.obs_names.tolist())),\n",
    "                       var=pd.DataFrame([], index=union))\n",
    "adata.obs['Modality'] = mc_adata.obs['Modality'].tolist(\n",
    ") + atac_adata.obs['Modality'].tolist()"
   ]
  },
  {
   "cell_type": "markdown",
   "metadata": {
    "papermill": {
     "duration": 0.019745,
     "end_time": "2019-11-24T07:34:44.443157",
     "exception": false,
     "start_time": "2019-11-24T07:34:44.423412",
     "status": "completed"
    },
    "tags": []
   },
   "source": [
    "## Clustering Routine"
   ]
  },
  {
   "cell_type": "code",
   "execution_count": null,
   "metadata": {
    "papermill": {
     "duration": 0.832452,
     "end_time": "2019-11-24T07:34:45.295184",
     "exception": false,
     "start_time": "2019-11-24T07:34:44.462732",
     "status": "completed"
    },
    "tags": []
   },
   "outputs": [],
   "source": [
    "sc.tl.pca(adata)"
   ]
  },
  {
   "cell_type": "code",
   "execution_count": null,
   "metadata": {
    "papermill": {
     "duration": 0.199686,
     "end_time": "2019-11-24T07:34:45.519911",
     "exception": true,
     "start_time": "2019-11-24T07:34:45.320225",
     "status": "failed"
    },
    "tags": []
   },
   "outputs": [],
   "source": [
    "sc.pl.pca(adata,\n",
    "          components=[\n",
    "              '1,2', '3,4', '5,6', '7,8', '9,10', '11,12', '13,14', '15,16',\n",
    "              '17,18', '19,20', '21,22', '23,24', '25,26', '27,28', '29,30',\n",
    "              '31,32', '33, 34', '35, 36', '37, 38', '39, 40'\n",
    "          ],\n",
    "          color='Modality')"
   ]
  },
  {
   "cell_type": "code",
   "execution_count": null,
   "metadata": {
    "papermill": {
     "duration": null,
     "end_time": null,
     "exception": null,
     "start_time": null,
     "status": "pending"
    },
    "scrolled": true,
    "tags": []
   },
   "outputs": [],
   "source": [
    "sc.pp.neighbors(adata, n_neighbors=k, n_pcs=n_pcs)\n",
    "sc.tl.leiden(adata)\n",
    "sc.tl.umap(adata)\n",
    "sc.tl.tsne(adata, n_jobs=n_jobs)"
   ]
  },
  {
   "cell_type": "code",
   "execution_count": null,
   "metadata": {
    "papermill": {
     "duration": null,
     "end_time": null,
     "exception": null,
     "start_time": null,
     "status": "pending"
    },
    "tags": []
   },
   "outputs": [],
   "source": [
    "records = [adata.obs]\n",
    "for coord in ['umap', 'pca', 'tsne']:\n",
    "    temp_df = pd.DataFrame(adata.obsm[f'X_{coord}'][:, :2],\n",
    "                           index=adata.obs_names,\n",
    "                           columns=[f'{coord}_0', f'{coord}_1'])\n",
    "    mc_cell_tidy_data[f'agg{coord}_0'] = pd.Series(\n",
    "        adata.obsm[f'X_{coord}'][:, 0], index=adata.obs_names)\n",
    "    mc_cell_tidy_data[f'agg{coord}_1'] = pd.Series(\n",
    "        adata.obsm[f'X_{coord}'][:, 1], index=adata.obs_names)\n",
    "    atac_cell_tidy_data[f'agg{coord}_0'] = pd.Series(\n",
    "        adata.obsm[f'X_{coord}'][:, 0], index=adata.obs_names)\n",
    "    atac_cell_tidy_data[f'agg{coord}_1'] = pd.Series(\n",
    "        adata.obsm[f'X_{coord}'][:, 1], index=adata.obs_names)\n",
    "    records.append(temp_df)\n",
    "cell_tidy_data = pd.concat(records, axis=1)"
   ]
  },
  {
   "cell_type": "code",
   "execution_count": null,
   "metadata": {},
   "outputs": [],
   "source": [
    "atac_cell_tidy_data = cell_tidy_data[cell_tidy_data['Modality'] == 'atac'].copy()\n",
    "atac_cell_tidy_data['SubType'] = atac_cell_tidy_data.index"
   ]
  },
  {
   "cell_type": "code",
   "execution_count": null,
   "metadata": {
    "papermill": {
     "duration": null,
     "end_time": null,
     "exception": null,
     "start_time": null,
     "status": "pending"
    },
    "tags": []
   },
   "outputs": [],
   "source": [
    "mc_cell_tidy_data['co_cluster'] = pd.Series(adata.obs['leiden'],\n",
    "                                            index=adata.obs_names)\n",
    "atac_cell_tidy_data['co_cluster'] = pd.Series(adata.obs['leiden'],\n",
    "                                             index=adata.obs_names)"
   ]
  },
  {
   "cell_type": "markdown",
   "metadata": {},
   "source": [
    "## plot"
   ]
  },
  {
   "cell_type": "code",
   "execution_count": null,
   "metadata": {
    "papermill": {
     "duration": null,
     "end_time": null,
     "exception": null,
     "start_time": null,
     "status": "pending"
    },
    "tags": []
   },
   "outputs": [],
   "source": [
    "fig, ax = plt.subplots(figsize=(6, 6), dpi=300)\n",
    "\n",
    "categorical_scatter(ax=ax,\n",
    "                    data=mc_cell_tidy_data,\n",
    "                    hue='MajorType',\n",
    "                    coord_base='aggumap',\n",
    "                    max_points=None,\n",
    "                    scatter_kws=dict(s=5),\n",
    "                    text_anno='MajorType',\n",
    "                    text_anno_kws=dict(fontsize=4))\n",
    "pass"
   ]
  },
  {
   "cell_type": "code",
   "execution_count": null,
   "metadata": {
    "papermill": {},
    "tags": []
   },
   "outputs": [],
   "source": [
    "fig, ax = plt.subplots(figsize=(6, 6), dpi=300)\n",
    "\n",
    "categorical_scatter(ax=ax,\n",
    "                    data=mc_cell_tidy_data,\n",
    "                    hue='SubType',\n",
    "                    coord_base='aggumap',\n",
    "                    max_points=None,\n",
    "                    scatter_kws=dict(s=5),\n",
    "                    text_anno='SubType',\n",
    "                    text_anno_kws=dict(fontsize=4))\n",
    "pass"
   ]
  },
  {
   "cell_type": "code",
   "execution_count": null,
   "metadata": {
    "papermill": {},
    "tags": []
   },
   "outputs": [],
   "source": [
    "fig, ax = plt.subplots(figsize=(6, 6), dpi=300)\n",
    "\n",
    "categorical_scatter(ax=ax,\n",
    "                    data=mc_cell_tidy_data,\n",
    "                    hue='MajorRegion',\n",
    "                    coord_base='aggumap',\n",
    "                    max_points=None,\n",
    "                    scatter_kws=dict(s=5),\n",
    "                    text_anno='MajorRegion',\n",
    "                    text_anno_kws=dict(fontsize=4))\n",
    "pass"
   ]
  },
  {
   "cell_type": "code",
   "execution_count": null,
   "metadata": {
    "papermill": {
     "duration": null,
     "end_time": null,
     "exception": null,
     "start_time": null,
     "status": "pending"
    },
    "tags": []
   },
   "outputs": [],
   "source": [
    "fig, ax = plt.subplots(figsize=(6, 6), dpi=300)\n",
    "\n",
    "categorical_scatter(ax=ax,\n",
    "                    data=atac_cell_tidy_data,\n",
    "                    hue='SubType',\n",
    "                    coord_base='umap',\n",
    "                    max_points=None,\n",
    "                    scatter_kws=dict(s=5),\n",
    "                    # text_anno='SubType',\n",
    "                    text_anno_kws=dict(fontsize=4))\n",
    "pass"
   ]
  },
  {
   "cell_type": "code",
   "execution_count": null,
   "metadata": {
    "papermill": {
     "duration": null,
     "end_time": null,
     "exception": null,
     "start_time": null,
     "status": "pending"
    },
    "scrolled": false,
    "tags": []
   },
   "outputs": [],
   "source": [
    "fig, ax = plt.subplots(figsize=(6, 6), dpi=300)\n",
    "\n",
    "_this_data = cell_tidy_data[cell_tidy_data['Modality'] == 'mC'].copy()\n",
    "_this_data['SubType'] = mc_cell_tidy_data['SubType']\n",
    "categorical_scatter(ax=ax,\n",
    "                    data=_this_data,\n",
    "                    scatter_kws=dict(color='orange'),\n",
    "                    hue='SubType',\n",
    "                    #palette=sub_type_palette,\n",
    "                    coord_base='umap',\n",
    "                    max_points=None,\n",
    "                    s=5)\n",
    "\n",
    "_this_data = cell_tidy_data[cell_tidy_data['Modality'] == 'atac'].copy()\n",
    "_this_data['SubType'] = atac_cell_tidy_data['SubType'].apply(lambda i: i.split('+')[0])\n",
    "categorical_scatter(ax=ax,\n",
    "                    data=_this_data,\n",
    "                    scatter_kws=dict(color='steelblue'),\n",
    "                    text_anno='SubType', \n",
    "                    hue='SubType',\n",
    "                    coord_base='umap',\n",
    "                    max_points=None,\n",
    "                    s=20)\n",
    "pass"
   ]
  },
  {
   "cell_type": "code",
   "execution_count": null,
   "metadata": {},
   "outputs": [],
   "source": [
    "atac_cell_tidy_data['SubType'] = atac_cell_tidy_data['SubType'].apply(lambda i: i.split('+')[0])"
   ]
  },
  {
   "cell_type": "markdown",
   "metadata": {},
   "source": [
    "## Confusion matrix"
   ]
  },
  {
   "cell_type": "code",
   "execution_count": null,
   "metadata": {
    "papermill": {
     "duration": null,
     "end_time": null,
     "exception": null,
     "start_time": null,
     "status": "pending"
    },
    "tags": []
   },
   "outputs": [],
   "source": [
    "cfm = calculate_direct_confusion(mc_cell_tidy_data[['SubType', 'co_cluster']], \n",
    "                                 atac_cell_tidy_data[['SubType', 'co_cluster']])"
   ]
  },
  {
   "cell_type": "code",
   "execution_count": null,
   "metadata": {
    "papermill": {
     "duration": null,
     "end_time": null,
     "exception": null,
     "start_time": null,
     "status": "pending"
    },
    "tags": []
   },
   "outputs": [],
   "source": [
    "fig = plt.figure(figsize=(20, 10), dpi=300)\n",
    "\n",
    "ax = sns.heatmap(cfm, cbar=None)\n",
    "ax.set_ylim(0, cfm.shape[0])\n"
   ]
  },
  {
   "cell_type": "markdown",
   "metadata": {
    "papermill": {
     "duration": null,
     "end_time": null,
     "exception": null,
     "start_time": null,
     "status": "pending"
    },
    "tags": []
   },
   "source": [
    "## Save"
   ]
  },
  {
   "cell_type": "code",
   "execution_count": null,
   "metadata": {
    "papermill": {
     "duration": null,
     "end_time": null,
     "exception": null,
     "start_time": null,
     "status": "pending"
    },
    "tags": []
   },
   "outputs": [],
   "source": [
    "adata.write_h5ad(output_dir / 'Integration.h5ad')"
   ]
  },
  {
   "cell_type": "code",
   "execution_count": null,
   "metadata": {
    "papermill": {
     "duration": null,
     "end_time": null,
     "exception": null,
     "start_time": null,
     "status": "pending"
    },
    "tags": []
   },
   "outputs": [],
   "source": [
    "cell_tidy_data.to_msgpack(output_dir / 'Integration_cell_tidy_data.msg')\n",
    "cell_tidy_data.head()"
   ]
  },
  {
   "cell_type": "code",
   "execution_count": null,
   "metadata": {
    "papermill": {
     "duration": null,
     "end_time": null,
     "exception": null,
     "start_time": null,
     "status": "pending"
    },
    "scrolled": true,
    "tags": []
   },
   "outputs": [],
   "source": [
    "mc_cell_tidy_data.to_msgpack(output_dir / 'mc_cell_tidy_data.with_integration_info.msg')\n",
    "atac_cell_tidy_data.to_msgpack(output_dir / 'atac_cell_tidy_data.with_integration_info.msg')"
   ]
  },
  {
   "cell_type": "code",
   "execution_count": null,
   "metadata": {
    "papermill": {
     "duration": null,
     "end_time": null,
     "exception": null,
     "start_time": null,
     "status": "pending"
    },
    "tags": []
   },
   "outputs": [],
   "source": []
  },
  {
   "cell_type": "code",
   "execution_count": null,
   "metadata": {
    "papermill": {
     "duration": null,
     "end_time": null,
     "exception": null,
     "start_time": null,
     "status": "pending"
    },
    "tags": []
   },
   "outputs": [],
   "source": []
  },
  {
   "cell_type": "code",
   "execution_count": null,
   "metadata": {
    "papermill": {
     "duration": null,
     "end_time": null,
     "exception": null,
     "start_time": null,
     "status": "pending"
    },
    "tags": []
   },
   "outputs": [],
   "source": []
  },
  {
   "cell_type": "code",
   "execution_count": null,
   "metadata": {
    "papermill": {
     "duration": null,
     "end_time": null,
     "exception": null,
     "start_time": null,
     "status": "pending"
    },
    "tags": []
   },
   "outputs": [],
   "source": []
  },
  {
   "cell_type": "code",
   "execution_count": null,
   "metadata": {
    "papermill": {
     "duration": null,
     "end_time": null,
     "exception": null,
     "start_time": null,
     "status": "pending"
    },
    "tags": []
   },
   "outputs": [],
   "source": []
  },
  {
   "cell_type": "code",
   "execution_count": null,
   "metadata": {
    "papermill": {
     "duration": null,
     "end_time": null,
     "exception": null,
     "start_time": null,
     "status": "pending"
    },
    "tags": []
   },
   "outputs": [],
   "source": []
  },
  {
   "cell_type": "code",
   "execution_count": null,
   "metadata": {
    "papermill": {
     "duration": null,
     "end_time": null,
     "exception": null,
     "start_time": null,
     "status": "pending"
    },
    "tags": []
   },
   "outputs": [],
   "source": []
  },
  {
   "cell_type": "code",
   "execution_count": null,
   "metadata": {
    "papermill": {
     "duration": null,
     "end_time": null,
     "exception": null,
     "start_time": null,
     "status": "pending"
    },
    "tags": []
   },
   "outputs": [],
   "source": []
  },
  {
   "cell_type": "code",
   "execution_count": null,
   "metadata": {
    "papermill": {
     "duration": null,
     "end_time": null,
     "exception": null,
     "start_time": null,
     "status": "pending"
    },
    "tags": []
   },
   "outputs": [],
   "source": []
  },
  {
   "cell_type": "code",
   "execution_count": null,
   "metadata": {
    "papermill": {
     "duration": null,
     "end_time": null,
     "exception": null,
     "start_time": null,
     "status": "pending"
    },
    "tags": []
   },
   "outputs": [],
   "source": []
  },
  {
   "cell_type": "code",
   "execution_count": null,
   "metadata": {
    "papermill": {
     "duration": null,
     "end_time": null,
     "exception": null,
     "start_time": null,
     "status": "pending"
    },
    "tags": []
   },
   "outputs": [],
   "source": []
  },
  {
   "cell_type": "code",
   "execution_count": null,
   "metadata": {
    "papermill": {
     "duration": null,
     "end_time": null,
     "exception": null,
     "start_time": null,
     "status": "pending"
    },
    "tags": []
   },
   "outputs": [],
   "source": []
  },
  {
   "cell_type": "code",
   "execution_count": null,
   "metadata": {
    "papermill": {
     "duration": null,
     "end_time": null,
     "exception": null,
     "start_time": null,
     "status": "pending"
    },
    "tags": []
   },
   "outputs": [],
   "source": []
  },
  {
   "cell_type": "code",
   "execution_count": null,
   "metadata": {
    "papermill": {
     "duration": null,
     "end_time": null,
     "exception": null,
     "start_time": null,
     "status": "pending"
    },
    "tags": []
   },
   "outputs": [],
   "source": []
  }
 ],
 "metadata": {
  "hide_input": false,
  "kernelspec": {
   "display_name": "Python 3",
   "language": "python",
   "name": "python3"
  },
  "language_info": {
   "codemirror_mode": {
    "name": "ipython",
    "version": 3
   },
   "file_extension": ".py",
   "mimetype": "text/x-python",
   "name": "python",
   "nbconvert_exporter": "python",
   "pygments_lexer": "ipython3",
   "version": "3.7.3"
  },
  "papermill": {
   "duration": 51.062976,
   "end_time": "2019-11-24T07:34:46.225962",
   "environment_variables": {},
   "exception": true,
   "input_path": "Integration.ipynb",
   "output_path": "test/Integration.ipynb",
   "parameters": {
    "alpha": 0,
    "k": 30,
    "knn": 20,
    "n_jobs": 40,
    "n_pcs": 30,
    "scanorama_dim": 30,
    "sigma": 100
   },
   "start_time": "2019-11-24T07:33:55.162986",
   "version": "1.0.1"
  },
  "toc": {
   "base_numbering": 1,
   "nav_menu": {},
   "number_sections": true,
   "sideBar": true,
   "skip_h1_title": true,
   "title_cell": "Table of Contents",
   "title_sidebar": "Contents",
   "toc_cell": false,
   "toc_position": {},
   "toc_section_display": true,
   "toc_window_display": true
  }
 },
 "nbformat": 4,
 "nbformat_minor": 2
}
