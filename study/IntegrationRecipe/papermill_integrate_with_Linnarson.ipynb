{
 "cells": [
  {
   "cell_type": "code",
   "execution_count": 3,
   "metadata": {
    "ExecuteTime": {
     "end_time": "2019-11-25T00:00:17.511127Z",
     "start_time": "2019-11-25T00:00:17.004713Z"
    }
   },
   "outputs": [],
   "source": [
    "import pandas as pd\n",
    "import pathlib\n",
    "from papermill import execute_notebook"
   ]
  },
  {
   "cell_type": "markdown",
   "metadata": {},
   "source": [
    "## Parameters"
   ]
  },
  {
   "cell_type": "code",
   "execution_count": 4,
   "metadata": {
    "ExecuteTime": {
     "end_time": "2019-11-25T00:00:17.515435Z",
     "start_time": "2019-11-25T00:00:17.512757Z"
    }
   },
   "outputs": [],
   "source": [
    "cell_tidy_data_path = '/home/hanliu/project/mouse_rostral_brain/study/ClusteringSummary/Summary/TotalClusteringResults.msg'\n",
    "rna_adata_path = '/home/hanliu/project/Linnarson_Mouse_Brain/raw/OLF.CPM.log1p.for_integration.h5ad'\n",
    "\n",
    "# mc\n",
    "cell_classes = ['Exc', 'Inh']\n",
    "major_regions = ['OLF']\n",
    "\n",
    "# rna\n",
    "pass\n",
    "\n",
    "# output\n",
    "output_dir = '/home/hanliu/project/mouse_rostral_brain/study/IntegrationWithRNA/OLF'"
   ]
  },
  {
   "cell_type": "code",
   "execution_count": 5,
   "metadata": {
    "ExecuteTime": {
     "end_time": "2019-11-25T00:00:17.532498Z",
     "start_time": "2019-11-25T00:00:17.529949Z"
    }
   },
   "outputs": [],
   "source": [
    "output_dir = pathlib.Path(output_dir)\n",
    "output_dir.mkdir(exist_ok=True)\n",
    "\n",
    "template_dir = ''\n",
    "template_dir = pathlib.Path(template_dir)"
   ]
  },
  {
   "cell_type": "markdown",
   "metadata": {},
   "source": [
    "## Make Study"
   ]
  },
  {
   "cell_type": "code",
   "execution_count": 6,
   "metadata": {
    "ExecuteTime": {
     "end_time": "2019-11-25T00:00:18.534480Z",
     "start_time": "2019-11-25T00:00:18.183923Z"
    }
   },
   "outputs": [
    {
     "name": "stderr",
     "output_type": "stream",
     "text": [
      "/home/hanliu/miniconda3/envs/clustering/lib/python3.7/site-packages/IPython/core/interactiveshell.py:3326: FutureWarning: The read_msgpack is deprecated and will be removed in a future version.\n",
      "It is recommended to use pyarrow for on-the-wire transmission of pandas objects.\n",
      "  exec(code_obj, self.user_global_ns, self.user_ns)\n"
     ]
    }
   ],
   "source": [
    "cell_tidy_data = pd.read_msgpack(cell_tidy_data_path)"
   ]
  },
  {
   "cell_type": "code",
   "execution_count": 7,
   "metadata": {
    "ExecuteTime": {
     "end_time": "2019-11-25T00:00:18.642875Z",
     "start_time": "2019-11-25T00:00:18.536150Z"
    }
   },
   "outputs": [
    {
     "name": "stderr",
     "output_type": "stream",
     "text": [
      "/home/hanliu/miniconda3/envs/clustering/lib/python3.7/site-packages/ipykernel_launcher.py:4: FutureWarning: to_msgpack is deprecated and will be removed in a future version.\n",
      "It is recommended to use pyarrow for on-the-wire transmission of pandas objects.\n",
      "  after removing the cwd from sys.path.\n"
     ]
    },
    {
     "data": {
      "text/plain": [
       "16184"
      ]
     },
     "execution_count": 7,
     "metadata": {},
     "output_type": "execute_result"
    }
   ],
   "source": [
    "judge = (cell_tidy_data['CellClass'].isin(cell_classes)) & \\\n",
    "        (cell_tidy_data['MajorRegion'].isin(major_regions))\n",
    "cell_tidy_data = cell_tidy_data[judge]\n",
    "cell_tidy_data.to_msgpack(output_dir / 'cell_tidy_data.msg')\n",
    "cell_tidy_data.shape[0]"
   ]
  },
  {
   "cell_type": "code",
   "execution_count": 8,
   "metadata": {
    "ExecuteTime": {
     "end_time": "2019-11-25T00:00:18.657582Z",
     "start_time": "2019-11-25T00:00:18.644340Z"
    }
   },
   "outputs": [],
   "source": [
    "def runner():\n",
    "    # prepare mC\n",
    "    params = dict(\n",
    "        cell_tidy_data_path='cell_tidy_data.msg',\n",
    "        cluster_col='SubType',\n",
    "        clustering_feature='gene',\n",
    "        dask_distribute=True,\n",
    "        in_memory=False,\n",
    "        mcds_path_list=[\n",
    "            str(i) for i in pathlib.Path(\n",
    "                '/home/hanliu/project/mouse_rostral_brain/dataset/').glob(\n",
    "                    '*mcds')\n",
    "        ],\n",
    "        exclude_chromosome=['chrM', 'chrY'],\n",
    "        black_list_path=\n",
    "        '/home/hanliu/project/mouse_rostral_brain/misc/mm10-blacklist.v2.bed.gz',\n",
    "        min_feature_cov=30,\n",
    "        max_feature_cov=8000,\n",
    "        mc_type='CHN',\n",
    "        filter_by_ncbi=True,\n",
    "        ncbi_path='/home/hanliu/ref/ncbi/gene2ensembl.mouse.tsv.gz')\n",
    "\n",
    "    input_path = template_dir / 'mc.prepare_cell_feature_matrix.ipynb'\n",
    "    output_path = output_dir / 'mc.prepare_cell_feature_matrix.ipynb'\n",
    "\n",
    "    execute_notebook(str(input_path),\n",
    "                     str(output_path),\n",
    "                     parameters=params,\n",
    "                     engine_name=None,\n",
    "                     prepare_only=True,\n",
    "                     kernel_name=None,\n",
    "                     progress_bar=True,\n",
    "                     log_output=False,\n",
    "                     start_timeout=60,\n",
    "                     report_mode=False,\n",
    "                     cwd=str(output_dir))\n",
    "\n",
    "    params = dict(cluster_col='SubType',\n",
    "                  min_cluster_cell_number=10,\n",
    "                  exclude_str=['Outlier'],\n",
    "                  adj_p_cutoff=1e-3,\n",
    "                  log2fc_cutoff=1,\n",
    "                  top_n=20,\n",
    "                  cpu=10)\n",
    "\n",
    "    input_path = template_dir / 'mc.pairwise_marker_selection.ipynb'\n",
    "    output_path = output_dir / 'mc.pairwise_marker_selection.ipynb'\n",
    "\n",
    "    execute_notebook(str(input_path),\n",
    "                     str(output_path),\n",
    "                     parameters=params,\n",
    "                     engine_name=None,\n",
    "                     prepare_only=True,\n",
    "                     kernel_name=None,\n",
    "                     progress_bar=True,\n",
    "                     log_output=False,\n",
    "                     start_timeout=60,\n",
    "                     report_mode=False,\n",
    "                     cwd=str(output_dir))\n",
    "\n",
    "    params = dict(adata_path=rna_adata_path,\n",
    "                  cluster_col='SubType',\n",
    "                  cpu=10,\n",
    "                  top_n=25,\n",
    "                  adj_p_cutoff=1e-3,\n",
    "                  log2fc_cutoff=0.7,\n",
    "                  min_cluster_cell_number=10)\n",
    "\n",
    "    input_path = template_dir / 'rna.linnarson.pairwise_marker_selection.ipynb'\n",
    "    output_path = output_dir / 'rna.linnarson.pairwise_marker_selection.ipynb'\n",
    "\n",
    "    execute_notebook(str(input_path),\n",
    "                     str(output_path),\n",
    "                     parameters=params,\n",
    "                     engine_name=None,\n",
    "                     prepare_only=True,\n",
    "                     kernel_name=None,\n",
    "                     progress_bar=True,\n",
    "                     log_output=False,\n",
    "                     start_timeout=60,\n",
    "                     report_mode=False,\n",
    "                     cwd=str(output_dir))\n",
    "\n",
    "    params = dict(\n",
    "        # scanorama\n",
    "        scanorama_dim=30,\n",
    "        sigma=100,\n",
    "        alpha=0,\n",
    "        knn=20,\n",
    "\n",
    "        # clustering\n",
    "        k=30,\n",
    "        n_pcs=30,\n",
    "        n_jobs=40)\n",
    "\n",
    "    input_path = template_dir / 'Integration.ipynb'\n",
    "    output_path = output_dir / 'Integration.ipynb'\n",
    "\n",
    "    execute_notebook(str(input_path),\n",
    "                     str(output_path),\n",
    "                     parameters=params,\n",
    "                     engine_name=None,\n",
    "                     prepare_only=True,\n",
    "                     kernel_name=None,\n",
    "                     progress_bar=True,\n",
    "                     log_output=False,\n",
    "                     start_timeout=60,\n",
    "                     report_mode=False,\n",
    "                     cwd=str(output_dir))\n",
    "\n",
    "    params = dict(n_estimators=200,\n",
    "                  random_seed=0,\n",
    "                  n_splits=10,\n",
    "                  n_jobs=40,\n",
    "                  cluster_col='SubType')\n",
    "\n",
    "    input_path = template_dir / 'LabelTransfer.ipynb'\n",
    "    output_path = output_dir / 'LabelTransfer.ipynb'\n",
    "\n",
    "    execute_notebook(str(input_path),\n",
    "                     str(output_path),\n",
    "                     parameters=params,\n",
    "                     engine_name=None,\n",
    "                     prepare_only=True,\n",
    "                     kernel_name=None,\n",
    "                     progress_bar=True,\n",
    "                     log_output=False,\n",
    "                     start_timeout=60,\n",
    "                     report_mode=False,\n",
    "                     cwd=str(output_dir))\n",
    "    return"
   ]
  },
  {
   "cell_type": "code",
   "execution_count": 9,
   "metadata": {
    "ExecuteTime": {
     "end_time": "2019-11-25T00:00:19.648749Z",
     "start_time": "2019-11-25T00:00:19.257902Z"
    }
   },
   "outputs": [],
   "source": [
    "runner()"
   ]
  },
  {
   "cell_type": "code",
   "execution_count": null,
   "metadata": {},
   "outputs": [],
   "source": []
  }
 ],
 "metadata": {
  "hide_input": false,
  "kernelspec": {
   "display_name": "Python 3",
   "language": "python",
   "name": "python3"
  },
  "language_info": {
   "codemirror_mode": {
    "name": "ipython",
    "version": 3
   },
   "file_extension": ".py",
   "mimetype": "text/x-python",
   "name": "python",
   "nbconvert_exporter": "python",
   "pygments_lexer": "ipython3",
   "version": "3.7.3"
  },
  "toc": {
   "base_numbering": 1,
   "nav_menu": {},
   "number_sections": true,
   "sideBar": true,
   "skip_h1_title": true,
   "title_cell": "Table of Contents",
   "title_sidebar": "Contents",
   "toc_cell": false,
   "toc_position": {},
   "toc_section_display": true,
   "toc_window_display": true
  }
 },
 "nbformat": 4,
 "nbformat_minor": 2
}
