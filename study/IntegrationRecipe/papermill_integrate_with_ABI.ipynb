{
 "cells": [
  {
   "cell_type": "code",
   "execution_count": 1,
   "metadata": {
    "ExecuteTime": {
     "end_time": "2019-11-24T23:38:05.986112Z",
     "start_time": "2019-11-24T23:38:05.490635Z"
    }
   },
   "outputs": [],
   "source": [
    "import pandas as pd\n",
    "import pathlib\n",
    "from papermill import execute_notebook"
   ]
  },
  {
   "cell_type": "markdown",
   "metadata": {},
   "source": [
    "## Parameters"
   ]
  },
  {
   "cell_type": "code",
   "execution_count": 2,
   "metadata": {
    "ExecuteTime": {
     "end_time": "2019-11-24T23:38:07.589725Z",
     "start_time": "2019-11-24T23:38:07.586223Z"
    }
   },
   "outputs": [],
   "source": [
    "cell_tidy_data_path = '/home/hanliu/project/mouse_rostral_brain/study/ClusteringSummary/Summary/TotalClusteringResults.msg'\n",
    "rna_meta_path = '/home/hanliu/project/allen/mouse_scrna/raw/Cortex_HPF/Cortex_HPF.74967.cell_tidy_data.msg'\n",
    "rna_adata_path = '/home/hanliu/project/allen/mouse_scrna/dataset/Cortex_HPF.74967.no_outlier.exon+intron.CPM.log1p.h5ad'\n",
    "\n",
    "# mc\n",
    "cell_classes = ['NonN']\n",
    "major_regions = ['HPF', 'Isocortex']\n",
    "\n",
    "# rna\n",
    "rna_classes = ['Non-neuronal']\n",
    "rna_regions = ['hip', 'cortex_cemba_covered']\n",
    "\n",
    "# output\n",
    "output_dir = '/home/hanliu/project/mouse_rostral_brain/study/IntegrationWithRNA/NonN'"
   ]
  },
  {
   "cell_type": "code",
   "execution_count": 4,
   "metadata": {
    "ExecuteTime": {
     "end_time": "2019-11-24T23:38:12.340468Z",
     "start_time": "2019-11-24T23:38:12.337985Z"
    }
   },
   "outputs": [],
   "source": [
    "output_dir = pathlib.Path(output_dir)\n",
    "output_dir.mkdir(exist_ok=True)\n",
    "\n",
    "template_dir = ''\n",
    "template_dir = pathlib.Path(template_dir)"
   ]
  },
  {
   "cell_type": "markdown",
   "metadata": {},
   "source": [
    "## Make Study"
   ]
  },
  {
   "cell_type": "code",
   "execution_count": 5,
   "metadata": {
    "ExecuteTime": {
     "end_time": "2019-11-24T23:38:13.126849Z",
     "start_time": "2019-11-24T23:38:12.829012Z"
    }
   },
   "outputs": [
    {
     "name": "stderr",
     "output_type": "stream",
     "text": [
      "/home/hanliu/miniconda3/envs/clustering/lib/python3.7/site-packages/IPython/core/interactiveshell.py:3326: FutureWarning: The read_msgpack is deprecated and will be removed in a future version.\n",
      "It is recommended to use pyarrow for on-the-wire transmission of pandas objects.\n",
      "  exec(code_obj, self.user_global_ns, self.user_ns)\n"
     ]
    }
   ],
   "source": [
    "cell_tidy_data = pd.read_msgpack(cell_tidy_data_path)"
   ]
  },
  {
   "cell_type": "code",
   "execution_count": 6,
   "metadata": {
    "ExecuteTime": {
     "end_time": "2019-11-24T23:38:13.811389Z",
     "start_time": "2019-11-24T23:38:13.745448Z"
    }
   },
   "outputs": [
    {
     "name": "stderr",
     "output_type": "stream",
     "text": [
      "/home/hanliu/miniconda3/envs/clustering/lib/python3.7/site-packages/ipykernel_launcher.py:4: FutureWarning: to_msgpack is deprecated and will be removed in a future version.\n",
      "It is recommended to use pyarrow for on-the-wire transmission of pandas objects.\n",
      "  after removing the cwd from sys.path.\n"
     ]
    },
    {
     "data": {
      "text/plain": [
       "4893"
      ]
     },
     "execution_count": 6,
     "metadata": {},
     "output_type": "execute_result"
    }
   ],
   "source": [
    "judge = (cell_tidy_data['CellClass'].isin(cell_classes)) & \\\n",
    "        (cell_tidy_data['MajorRegion'].isin(major_regions))\n",
    "cell_tidy_data = cell_tidy_data[judge]\n",
    "cell_tidy_data.to_msgpack(output_dir / 'cell_tidy_data.msg')\n",
    "cell_tidy_data.shape[0]"
   ]
  },
  {
   "cell_type": "code",
   "execution_count": 7,
   "metadata": {
    "ExecuteTime": {
     "end_time": "2019-11-24T23:38:14.022721Z",
     "start_time": "2019-11-24T23:38:14.010038Z"
    }
   },
   "outputs": [],
   "source": [
    "def runner():\n",
    "    # prepare mC\n",
    "    params = dict(\n",
    "        cell_tidy_data_path='cell_tidy_data.msg',\n",
    "        cluster_col='SubType',\n",
    "        clustering_feature='gene',\n",
    "        dask_distribute=True,\n",
    "        in_memory=False,\n",
    "        mcds_path_list=[\n",
    "            str(i) for i in pathlib.Path(\n",
    "                '/home/hanliu/project/mouse_rostral_brain/dataset/').glob(\n",
    "                    '*mcds')\n",
    "        ],\n",
    "        exclude_chromosome=['chrM', 'chrY'],\n",
    "        black_list_path=\n",
    "        '/home/hanliu/project/mouse_rostral_brain/misc/mm10-blacklist.v2.bed.gz',\n",
    "        min_feature_cov=30,\n",
    "        max_feature_cov=8000,\n",
    "        mc_type='CHN',\n",
    "        filter_by_ncbi=True,\n",
    "        ncbi_path='/home/hanliu/ref/ncbi/gene2ensembl.mouse.tsv.gz')\n",
    "\n",
    "    input_path = template_dir / 'mc.prepare_cell_feature_matrix.ipynb'\n",
    "    output_path = output_dir / 'mc.prepare_cell_feature_matrix.ipynb'\n",
    "\n",
    "    execute_notebook(str(input_path),\n",
    "                     str(output_path),\n",
    "                     parameters=params,\n",
    "                     engine_name=None,\n",
    "                     prepare_only=True,\n",
    "                     kernel_name=None,\n",
    "                     progress_bar=True,\n",
    "                     log_output=False,\n",
    "                     start_timeout=60,\n",
    "                     report_mode=False,\n",
    "                     cwd=str(output_dir))\n",
    "\n",
    "    params = dict(cluster_col='SubType',\n",
    "                  min_cluster_cell_number=10,\n",
    "                  exclude_str=['Outlier'],\n",
    "                  adj_p_cutoff=1e-3,\n",
    "                  log2fc_cutoff=1,\n",
    "                  top_n=20,\n",
    "                  cpu=10)\n",
    "\n",
    "    input_path = template_dir / 'mc.pairwise_marker_selection.ipynb'\n",
    "    output_path = output_dir / 'mc.pairwise_marker_selection.ipynb'\n",
    "\n",
    "    execute_notebook(str(input_path),\n",
    "                     str(output_path),\n",
    "                     parameters=params,\n",
    "                     engine_name=None,\n",
    "                     prepare_only=True,\n",
    "                     kernel_name=None,\n",
    "                     progress_bar=True,\n",
    "                     log_output=False,\n",
    "                     start_timeout=60,\n",
    "                     report_mode=False,\n",
    "                     cwd=str(output_dir))\n",
    "\n",
    "    params = dict(cell_tidy_data_path=rna_meta_path,\n",
    "                  adata_path=rna_adata_path,\n",
    "                  rna_regions=rna_regions,\n",
    "                  cell_classes=rna_classes,\n",
    "                  cluster_col='SubType',\n",
    "                  cpu=25,\n",
    "                  top_n=20,\n",
    "                  adj_p_cutoff=1e-3,\n",
    "                  log2fc_cutoff=1,\n",
    "                  min_cluster_cell_number=10)\n",
    "\n",
    "    input_path = template_dir / 'rna.pairwise_marker_selection.ipynb'\n",
    "    output_path = output_dir / 'rna.pairwise_marker_selection.ipynb'\n",
    "\n",
    "    execute_notebook(str(input_path),\n",
    "                     str(output_path),\n",
    "                     parameters=params,\n",
    "                     engine_name=None,\n",
    "                     prepare_only=True,\n",
    "                     kernel_name=None,\n",
    "                     progress_bar=True,\n",
    "                     log_output=False,\n",
    "                     start_timeout=60,\n",
    "                     report_mode=False,\n",
    "                     cwd=str(output_dir))\n",
    "\n",
    "    params = dict(\n",
    "        # scanorama\n",
    "        scanorama_dim=30,\n",
    "        sigma=100,\n",
    "        alpha=0,\n",
    "        knn=20,\n",
    "\n",
    "        # clustering\n",
    "        k=30,\n",
    "        n_pcs=30,\n",
    "        n_jobs=40)\n",
    "\n",
    "    input_path = template_dir / 'Integration.ipynb'\n",
    "    output_path = output_dir / 'Integration.ipynb'\n",
    "\n",
    "    execute_notebook(str(input_path),\n",
    "                     str(output_path),\n",
    "                     parameters=params,\n",
    "                     engine_name=None,\n",
    "                     prepare_only=True,\n",
    "                     kernel_name=None,\n",
    "                     progress_bar=True,\n",
    "                     log_output=False,\n",
    "                     start_timeout=60,\n",
    "                     report_mode=False,\n",
    "                     cwd=str(output_dir))\n",
    "\n",
    "    params = dict(n_estimators=200,\n",
    "                  random_seed=0,\n",
    "                  n_splits=10,\n",
    "                  n_jobs=40,\n",
    "                  cluster_col='SubType')\n",
    "\n",
    "    input_path = template_dir / 'LabelTransfer.ipynb'\n",
    "    output_path = output_dir / 'LabelTransfer.ipynb'\n",
    "\n",
    "    execute_notebook(str(input_path),\n",
    "                     str(output_path),\n",
    "                     parameters=params,\n",
    "                     engine_name=None,\n",
    "                     prepare_only=True,\n",
    "                     kernel_name=None,\n",
    "                     progress_bar=True,\n",
    "                     log_output=False,\n",
    "                     start_timeout=60,\n",
    "                     report_mode=False,\n",
    "                     cwd=str(output_dir))\n",
    "    return"
   ]
  },
  {
   "cell_type": "code",
   "execution_count": 8,
   "metadata": {
    "ExecuteTime": {
     "end_time": "2019-11-24T23:38:15.195553Z",
     "start_time": "2019-11-24T23:38:14.796097Z"
    }
   },
   "outputs": [],
   "source": [
    "runner()"
   ]
  },
  {
   "cell_type": "code",
   "execution_count": null,
   "metadata": {},
   "outputs": [],
   "source": []
  }
 ],
 "metadata": {
  "hide_input": false,
  "kernelspec": {
   "display_name": "Python 3",
   "language": "python",
   "name": "python3"
  },
  "language_info": {
   "codemirror_mode": {
    "name": "ipython",
    "version": 3
   },
   "file_extension": ".py",
   "mimetype": "text/x-python",
   "name": "python",
   "nbconvert_exporter": "python",
   "pygments_lexer": "ipython3",
   "version": "3.7.3"
  },
  "toc": {
   "base_numbering": 1,
   "nav_menu": {},
   "number_sections": true,
   "sideBar": true,
   "skip_h1_title": true,
   "title_cell": "Table of Contents",
   "title_sidebar": "Contents",
   "toc_cell": false,
   "toc_position": {},
   "toc_section_display": true,
   "toc_window_display": true
  }
 },
 "nbformat": 4,
 "nbformat_minor": 2
}
