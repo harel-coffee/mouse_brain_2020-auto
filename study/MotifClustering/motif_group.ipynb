{
 "cells": [
  {
   "cell_type": "code",
   "execution_count": 1,
   "metadata": {
    "ExecuteTime": {
     "end_time": "2020-01-10T08:47:30.104744Z",
     "start_time": "2020-01-10T08:47:29.517601Z"
    }
   },
   "outputs": [],
   "source": [
    "import pandas as pd\n",
    "import numpy as np\n",
    "import seaborn as sns\n",
    "import networkx as nx"
   ]
  },
  {
   "cell_type": "code",
   "execution_count": 9,
   "metadata": {
    "ExecuteTime": {
     "end_time": "2020-01-10T08:48:26.023669Z",
     "start_time": "2020-01-10T08:48:26.020917Z"
    }
   },
   "outputs": [],
   "source": [
    "qvalue_cutoff = 0.0001"
   ]
  },
  {
   "cell_type": "code",
   "execution_count": 10,
   "metadata": {
    "ExecuteTime": {
     "end_time": "2020-01-10T08:48:26.371016Z",
     "start_time": "2020-01-10T08:48:26.212893Z"
    }
   },
   "outputs": [
    {
     "name": "stdout",
     "output_type": "stream",
     "text": [
      "(6198, 8)\n",
      "3908 edges\n"
     ]
    },
    {
     "data": {
      "text/html": [
       "<div>\n",
       "<style scoped>\n",
       "    .dataframe tbody tr th:only-of-type {\n",
       "        vertical-align: middle;\n",
       "    }\n",
       "\n",
       "    .dataframe tbody tr th {\n",
       "        vertical-align: top;\n",
       "    }\n",
       "\n",
       "    .dataframe thead th {\n",
       "        text-align: right;\n",
       "    }\n",
       "</style>\n",
       "<table border=\"1\" class=\"dataframe\">\n",
       "  <thead>\n",
       "    <tr style=\"text-align: right;\">\n",
       "      <th></th>\n",
       "      <th></th>\n",
       "      <th>Optimal_offset</th>\n",
       "      <th>p-value</th>\n",
       "      <th>E-value</th>\n",
       "      <th>q-value</th>\n",
       "      <th>Overlap</th>\n",
       "      <th>Query_consensus</th>\n",
       "      <th>Target_consensus</th>\n",
       "      <th>Orientation</th>\n",
       "    </tr>\n",
       "    <tr>\n",
       "      <th>Query_ID</th>\n",
       "      <th>Target_ID</th>\n",
       "      <th></th>\n",
       "      <th></th>\n",
       "      <th></th>\n",
       "      <th></th>\n",
       "      <th></th>\n",
       "      <th></th>\n",
       "      <th></th>\n",
       "      <th></th>\n",
       "    </tr>\n",
       "  </thead>\n",
       "  <tbody>\n",
       "    <tr>\n",
       "      <th>MA0006.1</th>\n",
       "      <th>MA0006.1</th>\n",
       "      <td>0.0</td>\n",
       "      <td>9.209610e-15</td>\n",
       "      <td>6.667760e-12</td>\n",
       "      <td>1.298940e-11</td>\n",
       "      <td>6.0</td>\n",
       "      <td>TGCGTG</td>\n",
       "      <td>TGCGTG</td>\n",
       "      <td>+</td>\n",
       "    </tr>\n",
       "    <tr>\n",
       "      <th rowspan=\"4\" valign=\"top\">MA0854.1</th>\n",
       "      <th>MA0854.1</th>\n",
       "      <td>0.0</td>\n",
       "      <td>0.000000e+00</td>\n",
       "      <td>0.000000e+00</td>\n",
       "      <td>0.000000e+00</td>\n",
       "      <td>17.0</td>\n",
       "      <td>CGAATTAATTAATCACC</td>\n",
       "      <td>CGAATTAATTAATCACC</td>\n",
       "      <td>+</td>\n",
       "    </tr>\n",
       "    <tr>\n",
       "      <th>MA0853.1</th>\n",
       "      <td>0.0</td>\n",
       "      <td>1.668170e-23</td>\n",
       "      <td>1.207750e-20</td>\n",
       "      <td>1.011380e-20</td>\n",
       "      <td>17.0</td>\n",
       "      <td>CGAATTAATTAATCACC</td>\n",
       "      <td>CGCATTAATTAATTACC</td>\n",
       "      <td>+</td>\n",
       "    </tr>\n",
       "    <tr>\n",
       "      <th>MA0874.1</th>\n",
       "      <td>0.0</td>\n",
       "      <td>7.370820e-13</td>\n",
       "      <td>5.336470e-10</td>\n",
       "      <td>2.234400e-10</td>\n",
       "      <td>17.0</td>\n",
       "      <td>CGAATTAATTAATCACC</td>\n",
       "      <td>TCCATTAATTAATGGAC</td>\n",
       "      <td>-</td>\n",
       "    </tr>\n",
       "    <tr>\n",
       "      <th>MA0628.1</th>\n",
       "      <td>-3.0</td>\n",
       "      <td>2.559770e-08</td>\n",
       "      <td>1.853270e-05</td>\n",
       "      <td>3.879860e-06</td>\n",
       "      <td>10.0</td>\n",
       "      <td>CGAATTAATTAATCACC</td>\n",
       "      <td>ATTAATTAAT</td>\n",
       "      <td>+</td>\n",
       "    </tr>\n",
       "  </tbody>\n",
       "</table>\n",
       "</div>"
      ],
      "text/plain": [
       "                    Optimal_offset       p-value       E-value       q-value  \\\n",
       "Query_ID Target_ID                                                             \n",
       "MA0006.1 MA0006.1              0.0  9.209610e-15  6.667760e-12  1.298940e-11   \n",
       "MA0854.1 MA0854.1              0.0  0.000000e+00  0.000000e+00  0.000000e+00   \n",
       "         MA0853.1              0.0  1.668170e-23  1.207750e-20  1.011380e-20   \n",
       "         MA0874.1              0.0  7.370820e-13  5.336470e-10  2.234400e-10   \n",
       "         MA0628.1             -3.0  2.559770e-08  1.853270e-05  3.879860e-06   \n",
       "\n",
       "                    Overlap    Query_consensus   Target_consensus Orientation  \n",
       "Query_ID Target_ID                                                             \n",
       "MA0006.1 MA0006.1       6.0             TGCGTG             TGCGTG           +  \n",
       "MA0854.1 MA0854.1      17.0  CGAATTAATTAATCACC  CGAATTAATTAATCACC           +  \n",
       "         MA0853.1      17.0  CGAATTAATTAATCACC  CGCATTAATTAATTACC           +  \n",
       "         MA0874.1      17.0  CGAATTAATTAATCACC  TCCATTAATTAATGGAC           -  \n",
       "         MA0628.1      10.0  CGAATTAATTAATCACC         ATTAATTAAT           +  "
      ]
     },
     "execution_count": 10,
     "metadata": {},
     "output_type": "execute_result"
    }
   ],
   "source": [
    "tomtom_df = pd.read_csv('tomtom_result.tsv', sep='\\t', index_col=[0, 1])\n",
    "tomtom_df = tomtom_df[tomtom_df['q-value'] < qvalue_cutoff]\n",
    "print(tomtom_df.shape)\n",
    "\n",
    "edges = set()\n",
    "for s, t in tomtom_df.index:\n",
    "    edges.add(tuple(sorted((s, t))))\n",
    "print(len(edges), 'edges')\n",
    "\n",
    "tomtom_df.head()"
   ]
  },
  {
   "cell_type": "code",
   "execution_count": 11,
   "metadata": {
    "ExecuteTime": {
     "end_time": "2020-01-10T08:48:26.605678Z",
     "start_time": "2020-01-10T08:48:26.414750Z"
    }
   },
   "outputs": [],
   "source": [
    "g = nx.Graph()\n",
    "g.add_edges_from(list(edges))\n",
    "sub_graphs = nx.connected_component_subgraphs(g)\n",
    "\n",
    "tf_to_group_id = {}\n",
    "for i, sub_g in enumerate(sub_graphs):\n",
    "    for node in sub_g.nodes:\n",
    "        tf_to_group_id[node] = f'MotifGroup{i}'"
   ]
  },
  {
   "cell_type": "code",
   "execution_count": 12,
   "metadata": {
    "ExecuteTime": {
     "end_time": "2020-01-10T08:48:26.674526Z",
     "start_time": "2020-01-10T08:48:26.662383Z"
    }
   },
   "outputs": [],
   "source": [
    "meme_anno_df = pd.read_csv(\n",
    "    '/home/hanliu/ref/MEME/selected_motifs_sets/JASPAR2020_CORE_vertebrates_non-redundant.mouse_genes.csv',\n",
    "    index_col=0\n",
    ")\n",
    "meme_anno_df['motif_group'] = meme_anno_df.index.map(tf_to_group_id)"
   ]
  },
  {
   "cell_type": "code",
   "execution_count": 15,
   "metadata": {
    "ExecuteTime": {
     "end_time": "2020-01-10T08:48:31.936345Z",
     "start_time": "2020-01-10T08:48:31.931495Z"
    }
   },
   "outputs": [
    {
     "data": {
      "text/plain": [
       "199"
      ]
     },
     "execution_count": 15,
     "metadata": {},
     "output_type": "execute_result"
    }
   ],
   "source": [
    "n_group = meme_anno_df['motif_group'].unique().size\n",
    "n_group"
   ]
  },
  {
   "cell_type": "code",
   "execution_count": 14,
   "metadata": {
    "ExecuteTime": {
     "end_time": "2020-01-10T08:48:27.507133Z",
     "start_time": "2020-01-10T08:48:27.499842Z"
    },
    "scrolled": true
   },
   "outputs": [],
   "source": [
    "meme_anno_df.to_csv(f'JASPAR2020_CORE_vertebrates_non-redundant.mouse_genes.with_motif_group.{n_group}.csv')"
   ]
  },
  {
   "cell_type": "code",
   "execution_count": null,
   "metadata": {},
   "outputs": [],
   "source": []
  },
  {
   "cell_type": "code",
   "execution_count": null,
   "metadata": {},
   "outputs": [],
   "source": []
  },
  {
   "cell_type": "code",
   "execution_count": null,
   "metadata": {},
   "outputs": [],
   "source": []
  },
  {
   "cell_type": "code",
   "execution_count": null,
   "metadata": {},
   "outputs": [],
   "source": []
  },
  {
   "cell_type": "code",
   "execution_count": null,
   "metadata": {},
   "outputs": [],
   "source": []
  },
  {
   "cell_type": "code",
   "execution_count": null,
   "metadata": {},
   "outputs": [],
   "source": []
  },
  {
   "cell_type": "code",
   "execution_count": null,
   "metadata": {},
   "outputs": [],
   "source": []
  },
  {
   "cell_type": "code",
   "execution_count": null,
   "metadata": {},
   "outputs": [],
   "source": []
  },
  {
   "cell_type": "code",
   "execution_count": null,
   "metadata": {},
   "outputs": [],
   "source": []
  },
  {
   "cell_type": "code",
   "execution_count": null,
   "metadata": {},
   "outputs": [],
   "source": []
  },
  {
   "cell_type": "code",
   "execution_count": null,
   "metadata": {},
   "outputs": [],
   "source": []
  },
  {
   "cell_type": "code",
   "execution_count": null,
   "metadata": {},
   "outputs": [],
   "source": []
  },
  {
   "cell_type": "code",
   "execution_count": null,
   "metadata": {},
   "outputs": [],
   "source": []
  },
  {
   "cell_type": "code",
   "execution_count": null,
   "metadata": {},
   "outputs": [],
   "source": []
  },
  {
   "cell_type": "code",
   "execution_count": null,
   "metadata": {},
   "outputs": [],
   "source": []
  },
  {
   "cell_type": "code",
   "execution_count": null,
   "metadata": {},
   "outputs": [],
   "source": []
  },
  {
   "cell_type": "code",
   "execution_count": null,
   "metadata": {},
   "outputs": [],
   "source": []
  },
  {
   "cell_type": "code",
   "execution_count": null,
   "metadata": {},
   "outputs": [],
   "source": []
  },
  {
   "cell_type": "code",
   "execution_count": null,
   "metadata": {},
   "outputs": [],
   "source": []
  },
  {
   "cell_type": "code",
   "execution_count": null,
   "metadata": {},
   "outputs": [],
   "source": []
  },
  {
   "cell_type": "code",
   "execution_count": null,
   "metadata": {},
   "outputs": [],
   "source": []
  },
  {
   "cell_type": "code",
   "execution_count": null,
   "metadata": {},
   "outputs": [],
   "source": []
  },
  {
   "cell_type": "code",
   "execution_count": null,
   "metadata": {},
   "outputs": [],
   "source": []
  },
  {
   "cell_type": "code",
   "execution_count": null,
   "metadata": {},
   "outputs": [],
   "source": []
  },
  {
   "cell_type": "code",
   "execution_count": null,
   "metadata": {},
   "outputs": [],
   "source": []
  },
  {
   "cell_type": "code",
   "execution_count": null,
   "metadata": {},
   "outputs": [],
   "source": []
  },
  {
   "cell_type": "code",
   "execution_count": null,
   "metadata": {},
   "outputs": [],
   "source": []
  },
  {
   "cell_type": "code",
   "execution_count": null,
   "metadata": {},
   "outputs": [],
   "source": []
  },
  {
   "cell_type": "code",
   "execution_count": null,
   "metadata": {},
   "outputs": [],
   "source": []
  },
  {
   "cell_type": "code",
   "execution_count": null,
   "metadata": {},
   "outputs": [],
   "source": []
  },
  {
   "cell_type": "code",
   "execution_count": null,
   "metadata": {},
   "outputs": [],
   "source": []
  },
  {
   "cell_type": "code",
   "execution_count": null,
   "metadata": {},
   "outputs": [],
   "source": []
  },
  {
   "cell_type": "code",
   "execution_count": null,
   "metadata": {},
   "outputs": [],
   "source": []
  },
  {
   "cell_type": "code",
   "execution_count": null,
   "metadata": {},
   "outputs": [],
   "source": []
  }
 ],
 "metadata": {
  "hide_input": false,
  "kernelspec": {
   "display_name": "Python 3",
   "language": "python",
   "name": "python3"
  },
  "language_info": {
   "codemirror_mode": {
    "name": "ipython",
    "version": 3
   },
   "file_extension": ".py",
   "mimetype": "text/x-python",
   "name": "python",
   "nbconvert_exporter": "python",
   "pygments_lexer": "ipython3",
   "version": "3.7.3"
  },
  "toc": {
   "base_numbering": 1,
   "nav_menu": {},
   "number_sections": true,
   "sideBar": true,
   "skip_h1_title": true,
   "title_cell": "Table of Contents",
   "title_sidebar": "Contents",
   "toc_cell": false,
   "toc_position": {},
   "toc_section_display": true,
   "toc_window_display": true
  }
 },
 "nbformat": 4,
 "nbformat_minor": 2
}
