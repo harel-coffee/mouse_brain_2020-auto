{
 "cells": [
  {
   "cell_type": "code",
   "execution_count": 1,
   "metadata": {
    "ExecuteTime": {
     "end_time": "2020-01-04T03:11:51.436389Z",
     "start_time": "2020-01-04T03:11:50.813297Z"
    }
   },
   "outputs": [],
   "source": [
    "import pathlib\n",
    "import pandas as pd\n",
    "import pybedtools\n",
    "import seaborn as sns"
   ]
  },
  {
   "cell_type": "markdown",
   "metadata": {},
   "source": [
    "## Liftover BED slop"
   ]
  },
  {
   "cell_type": "code",
   "execution_count": 2,
   "metadata": {
    "ExecuteTime": {
     "end_time": "2020-01-04T03:11:51.440474Z",
     "start_time": "2020-01-04T03:11:51.438158Z"
    }
   },
   "outputs": [],
   "source": [
    "min_match = 0.5\n",
    "slop = 250\n",
    "chrom_sizes = '/home/hanliu/ref/human/hg19/genome/hg19.main.chrom.sizes'"
   ]
  },
  {
   "cell_type": "code",
   "execution_count": 3,
   "metadata": {
    "ExecuteTime": {
     "end_time": "2020-01-04T03:11:55.071989Z",
     "start_time": "2020-01-04T03:11:51.444624Z"
    }
   },
   "outputs": [
    {
     "data": {
      "text/html": [
       "<div>\n",
       "<style scoped>\n",
       "    .dataframe tbody tr th:only-of-type {\n",
       "        vertical-align: middle;\n",
       "    }\n",
       "\n",
       "    .dataframe tbody tr th {\n",
       "        vertical-align: top;\n",
       "    }\n",
       "\n",
       "    .dataframe thead th {\n",
       "        text-align: right;\n",
       "    }\n",
       "</style>\n",
       "<table border=\"1\" class=\"dataframe\">\n",
       "  <thead>\n",
       "    <tr style=\"text-align: right;\">\n",
       "      <th></th>\n",
       "      <th>chrom</th>\n",
       "      <th>start</th>\n",
       "      <th>end</th>\n",
       "      <th>DMR_length</th>\n",
       "    </tr>\n",
       "    <tr>\n",
       "      <th>name</th>\n",
       "      <th></th>\n",
       "      <th></th>\n",
       "      <th></th>\n",
       "      <th></th>\n",
       "    </tr>\n",
       "  </thead>\n",
       "  <tbody>\n",
       "    <tr>\n",
       "      <th>Subchr1_8</th>\n",
       "      <td>chr8</td>\n",
       "      <td>56562097</td>\n",
       "      <td>56562806</td>\n",
       "      <td>709</td>\n",
       "    </tr>\n",
       "    <tr>\n",
       "      <th>Subchr1_37</th>\n",
       "      <td>chr8</td>\n",
       "      <td>56549652</td>\n",
       "      <td>56550269</td>\n",
       "      <td>617</td>\n",
       "    </tr>\n",
       "    <tr>\n",
       "      <th>Subchr1_80</th>\n",
       "      <td>chr8</td>\n",
       "      <td>56538898</td>\n",
       "      <td>56539459</td>\n",
       "      <td>561</td>\n",
       "    </tr>\n",
       "    <tr>\n",
       "      <th>Subchr1_82</th>\n",
       "      <td>chr8</td>\n",
       "      <td>56537699</td>\n",
       "      <td>56538333</td>\n",
       "      <td>634</td>\n",
       "    </tr>\n",
       "    <tr>\n",
       "      <th>Subchr1_84</th>\n",
       "      <td>chr8</td>\n",
       "      <td>56537064</td>\n",
       "      <td>56537667</td>\n",
       "      <td>603</td>\n",
       "    </tr>\n",
       "  </tbody>\n",
       "</table>\n",
       "</div>"
      ],
      "text/plain": [
       "           chrom     start       end  DMR_length\n",
       "name                                            \n",
       "Subchr1_8   chr8  56562097  56562806         709\n",
       "Subchr1_37  chr8  56549652  56550269         617\n",
       "Subchr1_80  chr8  56538898  56539459         561\n",
       "Subchr1_82  chr8  56537699  56538333         634\n",
       "Subchr1_84  chr8  56537064  56537667         603"
      ]
     },
     "execution_count": 3,
     "metadata": {},
     "output_type": "execute_result"
    }
   ],
   "source": [
    "# mm10 liftover to hg19, the coords is hg19 !\n",
    "total_bed = f'/home/hanliu/project/mouse_rostral_brain/study/LiftoverDMR/SubTypeDMR.lifted.{min_match}.bed'\n",
    "bed = pybedtools.BedTool(total_bed)\n",
    "bed = bed.slop(b=slop, g=chrom_sizes)\n",
    "total_bed_df = bed.to_dataframe()\n",
    "\n",
    "total_bed_df['DMR_length'] = (total_bed_df['end'] - total_bed_df['start'])\n",
    "# some DMR is very long after liftover... remove it, max dmr length in mm10 is ~5kb\n",
    "total_bed_df = total_bed_df[total_bed_df['DMR_length'] < 10000]\n",
    "# some weird but very rare problem from liftover\n",
    "total_bed_df = total_bed_df[total_bed_df['start'] > 0]\n",
    "\n",
    "total_bed_df.set_index('name', inplace=True)\n",
    "total_bed_df.head()"
   ]
  },
  {
   "cell_type": "markdown",
   "metadata": {},
   "source": [
    "## Save SubType DMR in hg19 coords"
   ]
  },
  {
   "cell_type": "code",
   "execution_count": 6,
   "metadata": {
    "ExecuteTime": {
     "end_time": "2020-01-04T03:17:22.244919Z",
     "start_time": "2020-01-04T03:12:44.041750Z"
    },
    "scrolled": true
   },
   "outputs": [
    {
     "name": "stdout",
     "output_type": "stream",
     "text": [
      "161 bed files\n",
      "0\tCT-L6_Il1rap\t67\n",
      "1\tNP-L6_Cntnap5a\t66\n",
      "2\tCGE-Lamp5_Sorcs1\t72\n",
      "3\tCGE-Vip_Grm8\t71\n",
      "4\tLSX-Inh_Dock10\t74\n",
      "5\tCGE-Vip_Ccser1\t74\n",
      "6\tCGE-Vip_Ntng1\t71\n",
      "7\tASC_cortex-olf\t70\n",
      "8\tMGE-Sst_Chodl\t70\n",
      "9\tIT-L6_Oxr1\t65\n",
      "10\tVLMC_Col4a1\t55\n",
      "11\tLSX-Inh_Lats2\t69\n",
      "12\tL6b_Kcnk2\t67\n",
      "13\tChd7_Megf11\t75\n",
      "14\tMGE-Sst_Bmper\t74\n",
      "15\tCT-L6_Megf9\t66\n",
      "16\tChd7_Kcnc2\t73\n",
      "17\tDG-po_Kctd8\t64\n",
      "18\tDG_dg-all\t69\n",
      "19\tNP-L6_Cyp7b1\t66\n",
      "20\tD1L-Fstl4_Crim1\t71\n",
      "21\tPT-L5_Tenm2\t67\n",
      "22\tUnc5c_Unc5c\t71\n",
      "23\tCGE-Lamp5_Grid1\t70\n",
      "24\tOLF-Exc_Pld5\t67\n",
      "25\tPT-L5_Tmtc2\t66\n",
      "26\tCLA_Cdh8\t65\n",
      "27\tCA3-St18_Tead1\t67\n",
      "28\tPAL-Inh_Meis2\t83\n",
      "29\tNP-L6_Boc\t66\n",
      "30\tIT-L23_Foxp1\t65\n",
      "31\tMGC_mgc-all\t46\n",
      "32\tChd7_Trpc7\t77\n",
      "33\tLSX-Inh_Nxph1\t72\n",
      "34\tCA3-St18_Nuak1\t67\n",
      "35\tGfra1_Gfra1\t67\n",
      "36\tMSN-D2_Nrp2\t70\n",
      "37\tPT-L5_Kcnh1\t67\n",
      "38\tLSX-Inh_Zeb2\t70\n",
      "39\tDG-po_Bcl11a\t61\n",
      "40\tL6b_Nrp2\t68\n",
      "41\tPAL-Inh_Tmem178\t79\n",
      "42\tPAL-Inh_Tcf7l2\t76\n",
      "43\tCT-L6_Hcrtr2\t66\n",
      "44\tOLF-Exc_Cdh9\t68\n",
      "45\tPT-L5_Abca12\t69\n",
      "46\tMSN-D1_Plxnc1\t70\n",
      "47\tD1L-Fstl4_Sipa1l2\t70\n",
      "48\tPAL-Inh_Chat\t77\n",
      "49\tPT-L5_Unc5b\t68\n",
      "50\tCLA_Nrp2\t67\n",
      "51\tMGE-Pvalb_Ptprk\t70\n",
      "52\tNP-L6_Cntnap4\t67\n",
      "53\tODC_odc-small\t66\n",
      "54\tIG-CA2_Chrm3\t68\n",
      "55\tCGE-Vip_Clstn2\t74\n",
      "56\tPAL-Inh_Deptor\t67\n",
      "57\tOLF_Trpc4\t70\n",
      "58\tMGE-Pvalb_Entpd3\t74\n",
      "59\tOLF_Pag1\t66\n",
      "60\tEP_Tspan5\t67\n",
      "61\tCA3_Efnb2\t70\n",
      "62\tCA3_Cadm2\t67\n",
      "63\tCA1_Chrm3\t66\n",
      "64\tMGE-Sst_Ubtd1\t70\n",
      "65\tPT-L5_Plcb4\t67\n",
      "66\tCA1_Kif26a\t68\n",
      "67\tEP_Adcy8\t66\n",
      "68\tMGE-Pvalb_Thsd7a\t72\n",
      "69\tMSN-D2_Slc24a2\t69\n",
      "70\tMGE-Sst_Kcnip4\t72\n",
      "71\tMGE-Sst_Rxra\t74\n",
      "72\tLSX-Inh_Foxp2\t73\n",
      "73\tPAL-Inh_Onecut2\t76\n",
      "74\tLSX-Inh_Enox1\t71\n",
      "75\tCA1_Ptprg\t67\n",
      "76\tCGE-Vip_Ptprm\t77\n",
      "77\tOPC_opc-small\t59\n",
      "78\tL6b_Adcy8\t66\n",
      "79\tOLF_Gabbr2\t63\n",
      "80\tIT-L23_Tenm2\t65\n",
      "81\tPAL-Inh_Igdcc3\t83\n",
      "82\tMSN-D2_Casz1\t69\n",
      "83\tIT-L5_Etv1\t65\n",
      "84\tCA1_Lingo2\t63\n",
      "85\tPT-L5_Nectin1\t64\n",
      "86\tD1L-Fstl4_Grm3\t71\n",
      "87\tPT-L5_Astn2\t68\n",
      "88\tMGE-Sst_Dock4\t70\n",
      "89\tIT-L23_Ptprt\t65\n",
      "90\tMSN-D2_Col14a1\t69\n",
      "91\tOLF-Exc_Unc13c\t67\n",
      "92\tCT-L6_Map4\t66\n",
      "93\tIG-CA2_Xpr1\t70\n",
      "94\tVLMC_Mapk4\t65\n",
      "95\tANP_anp-olf-cnu\t73\n",
      "96\tCLA_Bcl11a\t65\n",
      "97\tIT-L23_Cux1\t64\n",
      "98\tCGE-Lamp5_Nrxn3\t72\n",
      "99\tEC_Sema3g\t49\n",
      "100\tMGE-Sst_Rerg\t70\n",
      "101\tDG-po_Calb2\t63\n",
      "102\tMSN-D1_Ntn1\t71\n",
      "103\tMSN-D1_Hrh1\t68\n",
      "104\tMGE-Sst_Ptpre\t73\n",
      "105\tMGE-Sst_Frmd6\t71\n",
      "106\tMGE-Pvalb_Gfra2\t73\n",
      "107\tEP_Rgs8\t66\n",
      "108\tD1L-PAL_Flrt2\t70\n",
      "109\tVLMC-Pia_vlmc-pia-all\t62\n",
      "110\tIT-L6_Man1c1\t64\n",
      "111\tOLF-Exc_Sgcd\t68\n",
      "112\tOLF-Exc_Lrrtm3\t68\n",
      "113\tIT-L5_Grik3\t64\n",
      "114\tFoxp2_Homer2\t72\n",
      "115\tIT-L6_Fstl4\t65\n",
      "116\tMGE-Sst_Etv1\t69\n",
      "117\tD1L-Fstl4_Trps1\t69\n",
      "118\tMSN-D1_Khdrbs3\t68\n",
      "119\tMGE-Sst_Unc5b\t72\n",
      "120\tIT-L6_Cadps2\t65\n",
      "121\tLSX-Inh_Cacna1i\t76\n",
      "122\tFoxp2_Inpp4b\t72\n",
      "123\tNP-L6_Olfml2b\t66\n",
      "124\tMGE-Pvalb_Sema5a\t72\n",
      "125\tMGE-Pvalb_Cnih3\t73\n",
      "126\tFoxp2_Dchs2\t72\n",
      "127\tASC_str-hpf\t73\n",
      "128\tCGE-Vip_Robo1\t75\n",
      "129\tOLF_Kcnd3\t67\n",
      "130\tCA3-St18_Epha5\t66\n",
      "131\tPT-L5_Ptprt\t67\n",
      "132\tCA1_Ak5\t69\n",
      "133\tCGE-Vip_Fstl4\t74\n",
      "134\tIT-L4_Astn2\t65\n",
      "135\tOLF-Exc_Cux2\t67\n",
      "136\tCGE-Lamp5_Dock5\t69\n",
      "137\tASC_mid\t71\n",
      "138\tPAL-Inh_Meis1\t73\n",
      "139\tPAL-Inh_Ptprd\t79\n",
      "140\tCGE-Vip_Galnt17\t72\n",
      "141\tEC_Abhd2\t48\n",
      "142\tODC_odc-large\t63\n",
      "143\tPAL-Inh_Rarb\t77\n",
      "144\tOLF-Exc_Rmst\t69\n",
      "145\tOPC_opc-large\t63\n",
      "146\tNP-L6_Kcnab1\t67\n",
      "147\tPC_pc-all\t48\n",
      "148\tMGE-Pvalb_Cacna1i\t70\n",
      "149\tOLF-Exc_Bmpr1b\t69\n",
      "150\tOLF_Mapk10\t64\n",
      "151\tFoxp2_Trpc7\t70\n",
      "152\tCGE-Lamp5_Grk5\t70\n",
      "153\tIT-L5_Cdh8\t65\n",
      "154\tIG-CA2_Peak1\t67\n",
      "155\tANP_anp-dg\t70\n",
      "156\tOLF_Xkr6\t67\n",
      "157\tD1L-Fstl4_Cadm1\t71\n",
      "158\tIT-L4_Shc3\t65\n",
      "159\tD1L-PAL_Plcxd3\t71\n",
      "160\tL6b_Pkhd1\t59\n"
     ]
    }
   ],
   "source": [
    "dmr_bed_dir = pathlib.Path(\n",
    "    '/home/hanliu/project/mouse_rostral_brain/DMR/SubType/HypoBed/')\n",
    "dmr_list = list(dmr_bed_dir.glob('*DMS2.bed'))\n",
    "print(len(dmr_list), 'bed files')\n",
    "\n",
    "output_dir = pathlib.Path('InputBed')\n",
    "output_dir.mkdir(exist_ok=True)\n",
    "\n",
    "for i, bed_path in enumerate(dmr_list):\n",
    "    # the coords is mm10\n",
    "    this_bed_df = pd.read_csv(bed_path, sep='\\t', header=None, index_col=3)\n",
    "\n",
    "    # the coords is hg19\n",
    "    use_bed_df = total_bed_df.loc[this_bed_df.index & total_bed_df.index]\n",
    "    use_bed = pybedtools.BedTool.from_dataframe(\n",
    "        use_bed_df.reset_index(drop=True).iloc[:, :3])\n",
    "    \n",
    "    use_bed = use_bed.sort()\n",
    "    use_bed.saveas(output_dir /\n",
    "                   (bed_path.name[:-3] + f'hg19-{min_match}-slop{slop}.bed'))\n",
    "    print(i,\n",
    "          bed_path.name.split('.')[0],\n",
    "          int(use_bed_df.shape[0] / this_bed_df.shape[0] * 100),\n",
    "          sep='\\t')"
   ]
  },
  {
   "cell_type": "code",
   "execution_count": null,
   "metadata": {
    "deletable": false,
    "editable": false,
    "run_control": {
     "frozen": true
    }
   },
   "outputs": [],
   "source": [
    "!rsync -zarv /home/hanliu/project/mouse_rostral_brain/study/LDSC/ salk-login:/gale/netapp/scratch2/hanliu/LDSC/"
   ]
  },
  {
   "cell_type": "markdown",
   "metadata": {},
   "source": [
    "## Prepare annot command"
   ]
  },
  {
   "cell_type": "code",
   "execution_count": 21,
   "metadata": {
    "ExecuteTime": {
     "end_time": "2020-01-04T03:37:59.323931Z",
     "start_time": "2020-01-04T03:37:59.317436Z"
    }
   },
   "outputs": [
    {
     "name": "stdout",
     "output_type": "stream",
     "text": [
      "161 bed files\n"
     ]
    }
   ],
   "source": [
    "dmr_list = list(output_dir.glob(f'*hg19-{min_match}-slop{slop}.bed'))\n",
    "print(len(dmr_list), 'bed files')\n",
    "\n",
    "chroms = [1, 2, 3, 4, 5, 6, 7, 8, 9, 10, 11, 12, 13, 14, 15, 16, 17, 18, 19, 20, 21, 22]\n",
    "\n",
    "base_dir = '/gale/netapp/scratch2/hanliu/LDSC/SubTypeDMRTotal'\n",
    "\n",
    "for input_bed in dmr_list:\n",
    "    cluster_commands = []\n",
    "    mkdir_cmd = f'mkdir /gale/netapp/scratch2/hanliu/LDSC/SubTypeDMRTotal/Annotation/{cluster}'\n",
    "    for chrom in chroms:\n",
    "        cluster = input_bed.name.split('.')[0]\n",
    "        ldsc_dir = '/gale/netapp/home/hanliu/pkg/ldsc'\n",
    "        chrom_bim_file = f'/gale/netapp/home/hanliu/ref/LDSC/baseline/1000G_EUR_Phase3_plink/1000G.EUR.QC.{chrom}.bim'\n",
    "        baseline_dir = '/gale/netapp/home/hanliu/ref/LDSC/baseline/model_all_snp/all_snp/'\n",
    "        bfile_pattern = chrom_bim_file[:-4]\n",
    "        output_prefix = f'/gale/netapp/scratch2/hanliu/LDSC/SubTypeDMRTotal/Annotation/{cluster}/{cluster}.{chrom}'\n",
    "        make_annot_cmd = f'python2.7 {ldsc_dir}/make_annot.py --bed-file {base_dir}/{input_bed} --bimfile {chrom_bim_file} --annot-file {output_prefix}.annot.gz'\n",
    "        ldsc_cmd = f'python2.7 /gale/netapp/home/chongyuan/application/ldsc/ldsc.py --l2 --bfile {bfile_pattern} --ld-wind-cm 1 --annot {output_prefix}.annot.gz --out {output_prefix} --print-snps {baseline_dir}/baseline.{chrom}.snp  --thin-annot'\n",
    "        total_cmd = f'{make_annot_cmd} && {ldsc_cmd}'\n",
    "        "
   ]
  },
  {
   "cell_type": "code",
   "execution_count": 22,
   "metadata": {
    "ExecuteTime": {
     "end_time": "2020-01-04T03:38:00.049181Z",
     "start_time": "2020-01-04T03:38:00.046552Z"
    }
   },
   "outputs": [
    {
     "data": {
      "text/plain": [
       "'mkdir /gale/netapp/scratch2/hanliu/LDSC/SubTypeDMRTotal/Annotation/L6b_Pkhd1'"
      ]
     },
     "execution_count": 22,
     "metadata": {},
     "output_type": "execute_result"
    }
   ],
   "source": [
    "mkdir_cmd"
   ]
  },
  {
   "cell_type": "code",
   "execution_count": 23,
   "metadata": {
    "ExecuteTime": {
     "end_time": "2020-01-04T03:38:00.229602Z",
     "start_time": "2020-01-04T03:38:00.227181Z"
    }
   },
   "outputs": [
    {
     "data": {
      "text/plain": [
       "'python2.7 /gale/netapp/home/hanliu/pkg/ldsc/make_annot.py --bed-file /gale/netapp/scratch2/hanliu/LDSC/SubTypeDMRTotal/InputBed/L6b_Pkhd1.HypoDMR.DMS2.hg19-0.5-slop250.bed --bimfile /gale/netapp/home/hanliu/ref/LDSC/baseline/1000G_EUR_Phase3_plink/1000G.EUR.QC.22.bim --annot-file /gale/netapp/scratch2/hanliu/LDSC/SubTypeDMRTotal/Annotation/L6b_Pkhd1/L6b_Pkhd1.22.annot.gz'"
      ]
     },
     "execution_count": 23,
     "metadata": {},
     "output_type": "execute_result"
    }
   ],
   "source": [
    "make_annot_cmd"
   ]
  },
  {
   "cell_type": "code",
   "execution_count": 24,
   "metadata": {
    "ExecuteTime": {
     "end_time": "2020-01-04T03:38:00.573444Z",
     "start_time": "2020-01-04T03:38:00.571087Z"
    }
   },
   "outputs": [
    {
     "data": {
      "text/plain": [
       "'python2.7 /gale/netapp/home/chongyuan/application/ldsc/ldsc.py --l2 --bfile /gale/netapp/home/hanliu/ref/LDSC/baseline/1000G_EUR_Phase3_plink/1000G.EUR.QC.22 --ld-wind-cm 1 --annot /gale/netapp/scratch2/hanliu/LDSC/SubTypeDMRTotal/Annotation/L6b_Pkhd1/L6b_Pkhd1.22.annot.gz --out /gale/netapp/scratch2/hanliu/LDSC/SubTypeDMRTotal/Annotation/L6b_Pkhd1/L6b_Pkhd1.22 --print-snps /gale/netapp/home/hanliu/ref/LDSC/baseline/model_all_snp/all_snp//baseline.22.snp  --thin-annot'"
      ]
     },
     "execution_count": 24,
     "metadata": {},
     "output_type": "execute_result"
    }
   ],
   "source": [
    "ldsc_cmd"
   ]
  },
  {
   "cell_type": "code",
   "execution_count": null,
   "metadata": {},
   "outputs": [],
   "source": []
  },
  {
   "cell_type": "code",
   "execution_count": null,
   "metadata": {},
   "outputs": [],
   "source": []
  },
  {
   "cell_type": "code",
   "execution_count": null,
   "metadata": {},
   "outputs": [],
   "source": []
  },
  {
   "cell_type": "code",
   "execution_count": null,
   "metadata": {},
   "outputs": [],
   "source": []
  },
  {
   "cell_type": "code",
   "execution_count": null,
   "metadata": {},
   "outputs": [],
   "source": []
  },
  {
   "cell_type": "code",
   "execution_count": null,
   "metadata": {},
   "outputs": [],
   "source": []
  },
  {
   "cell_type": "code",
   "execution_count": null,
   "metadata": {},
   "outputs": [],
   "source": []
  }
 ],
 "metadata": {
  "hide_input": false,
  "kernelspec": {
   "display_name": "Python 3",
   "language": "python",
   "name": "python3"
  },
  "language_info": {
   "codemirror_mode": {
    "name": "ipython",
    "version": 3
   },
   "file_extension": ".py",
   "mimetype": "text/x-python",
   "name": "python",
   "nbconvert_exporter": "python",
   "pygments_lexer": "ipython3",
   "version": "3.7.3"
  },
  "toc": {
   "base_numbering": 1,
   "nav_menu": {},
   "number_sections": true,
   "sideBar": true,
   "skip_h1_title": true,
   "title_cell": "Table of Contents",
   "title_sidebar": "Contents",
   "toc_cell": false,
   "toc_position": {},
   "toc_section_display": true,
   "toc_window_display": true
  }
 },
 "nbformat": 4,
 "nbformat_minor": 2
}
