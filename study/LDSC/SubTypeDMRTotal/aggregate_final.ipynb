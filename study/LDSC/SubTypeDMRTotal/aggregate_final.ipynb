{
 "cells": [
  {
   "cell_type": "code",
   "execution_count": 1,
   "metadata": {
    "ExecuteTime": {
     "end_time": "2020-01-08T00:11:11.086693Z",
     "start_time": "2020-01-08T00:11:10.712516Z"
    }
   },
   "outputs": [],
   "source": [
    "import pandas as pd\n",
    "import numpy as np\n",
    "import pathlib\n",
    "import seaborn as sns\n",
    "import matplotlib.pyplot as plt\n",
    "from scipy.stats import norm\n",
    "from statsmodels.stats.multitest import multipletests"
   ]
  },
  {
   "cell_type": "code",
   "execution_count": 2,
   "metadata": {
    "ExecuteTime": {
     "end_time": "2020-01-08T00:11:11.564114Z",
     "start_time": "2020-01-08T00:11:11.556613Z"
    }
   },
   "outputs": [],
   "source": [
    "samples = pd.read_csv('samples.txt', header=None, index_col=0).index"
   ]
  },
  {
   "cell_type": "code",
   "execution_count": 4,
   "metadata": {
    "ExecuteTime": {
     "end_time": "2020-01-08T00:11:19.013914Z",
     "start_time": "2020-01-08T00:11:18.466821Z"
    }
   },
   "outputs": [],
   "source": [
    "result_dir = pathlib.Path('Model')\n",
    "result_list = list(result_dir.glob('*.results'))\n",
    "\n",
    "records = {}\n",
    "for path in result_list:\n",
    "    name = path.name.split('.')[0]\n",
    "    df = pd.read_csv(path, sep='\\t', index_col=0)\n",
    "    df = df.iloc[:-4, :]\n",
    "    p_values = 1 - df['Coefficient_z-score'].apply(norm.cdf)\n",
    "    _, padj, *_ = multipletests(p_values, method='fdr_bh')\n",
    "    records[name] = padj\n",
    "total_ldsc = pd.DataFrame(records)\n",
    "total_ldsc.index = samples"
   ]
  },
  {
   "cell_type": "code",
   "execution_count": 5,
   "metadata": {
    "ExecuteTime": {
     "end_time": "2020-01-08T00:11:20.228874Z",
     "start_time": "2020-01-08T00:11:20.210215Z"
    }
   },
   "outputs": [
    {
     "data": {
      "text/plain": [
       "Category\n",
       "L2_0      0.215517\n",
       "L2_1      0.810229\n",
       "L2_2      0.643419\n",
       "L2_3      0.449504\n",
       "L2_4      0.194893\n",
       "            ...   \n",
       "L2_156    0.741234\n",
       "L2_157    0.273294\n",
       "L2_158    0.150989\n",
       "L2_159    0.817677\n",
       "L2_160    0.233225\n",
       "Name: Coefficient_z-score, Length: 161, dtype: float64"
      ]
     },
     "execution_count": 5,
     "metadata": {},
     "output_type": "execute_result"
    }
   ],
   "source": [
    "df['Coefficient_z-score'].apply(norm.cdf)"
   ]
  },
  {
   "cell_type": "code",
   "execution_count": 7,
   "metadata": {
    "ExecuteTime": {
     "end_time": "2020-01-08T00:11:26.221702Z",
     "start_time": "2020-01-08T00:11:26.204252Z"
    }
   },
   "outputs": [
    {
     "data": {
      "text/plain": [
       "AFB_2016          MGE-Pvalb_Ptprk     0.010901\n",
       "ASD_PGC_2015      PT-L5_Tenm2         0.071856\n",
       "SCZ_2014          L6b_Nrp2            0.046845\n",
       "BIP_2011          CGE-Lamp5_Sorcs1    0.003863\n",
       "Schizophrenia     IT-L5_Etv1          0.016139\n",
       "EA_2018           CA1_Chrm3           0.074388\n",
       "                  MSN-D1_Hrh1         0.074388\n",
       "                  NP-L6_Boc           0.094084\n",
       "Neuroticism_2018  CA1_Lingo2          0.060613\n",
       "                  NP-L6_Olfml2b       0.060613\n",
       "Height            EC_Sema3g           0.028603\n",
       "                  VLMC_Mapk4          0.000088\n",
       "dtype: float64"
      ]
     },
     "execution_count": 7,
     "metadata": {},
     "output_type": "execute_result"
    }
   ],
   "source": [
    "total_ldsc[total_ldsc < 0.1].unstack().dropna()"
   ]
  },
  {
   "cell_type": "code",
   "execution_count": null,
   "metadata": {},
   "outputs": [],
   "source": []
  },
  {
   "cell_type": "code",
   "execution_count": null,
   "metadata": {},
   "outputs": [],
   "source": []
  },
  {
   "cell_type": "code",
   "execution_count": null,
   "metadata": {},
   "outputs": [],
   "source": []
  },
  {
   "cell_type": "code",
   "execution_count": null,
   "metadata": {},
   "outputs": [],
   "source": []
  },
  {
   "cell_type": "code",
   "execution_count": null,
   "metadata": {},
   "outputs": [],
   "source": []
  },
  {
   "cell_type": "code",
   "execution_count": null,
   "metadata": {},
   "outputs": [],
   "source": []
  },
  {
   "cell_type": "code",
   "execution_count": null,
   "metadata": {},
   "outputs": [],
   "source": []
  },
  {
   "cell_type": "code",
   "execution_count": null,
   "metadata": {},
   "outputs": [],
   "source": []
  },
  {
   "cell_type": "code",
   "execution_count": null,
   "metadata": {},
   "outputs": [],
   "source": []
  },
  {
   "cell_type": "code",
   "execution_count": null,
   "metadata": {},
   "outputs": [],
   "source": []
  },
  {
   "cell_type": "code",
   "execution_count": null,
   "metadata": {},
   "outputs": [],
   "source": []
  }
 ],
 "metadata": {
  "hide_input": false,
  "kernelspec": {
   "display_name": "Python 3",
   "language": "python",
   "name": "python3"
  },
  "language_info": {
   "codemirror_mode": {
    "name": "ipython",
    "version": 3
   },
   "file_extension": ".py",
   "mimetype": "text/x-python",
   "name": "python",
   "nbconvert_exporter": "python",
   "pygments_lexer": "ipython3",
   "version": "3.7.3"
  },
  "toc": {
   "base_numbering": 1,
   "nav_menu": {},
   "number_sections": true,
   "sideBar": true,
   "skip_h1_title": true,
   "title_cell": "Table of Contents",
   "title_sidebar": "Contents",
   "toc_cell": false,
   "toc_position": {},
   "toc_section_display": true,
   "toc_window_display": true
  }
 },
 "nbformat": 4,
 "nbformat_minor": 2
}
