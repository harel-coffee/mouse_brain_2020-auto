{
 "cells": [
  {
   "cell_type": "markdown",
   "metadata": {
    "toc": true
   },
   "source": [
    "<h1>Table of Contents<span class=\"tocSkip\"></span></h1>\n",
    "<div class=\"toc\"><ul class=\"toc-item\"><li><span><a href=\"#Step1-Prepare-Annotation-and-calc-LD-Score\" data-toc-modified-id=\"Step1-Prepare-Annotation-and-calc-LD-Score-1\"><span class=\"toc-item-num\">1&nbsp;&nbsp;</span>Step1 Prepare Annotation and calc LD Score</a></span><ul class=\"toc-item\"><li><span><a href=\"#Notes\" data-toc-modified-id=\"Notes-1.1\"><span class=\"toc-item-num\">1.1&nbsp;&nbsp;</span>Notes</a></span></li></ul></li><li><span><a href=\"#Step-2-multiple-regression\" data-toc-modified-id=\"Step-2-multiple-regression-2\"><span class=\"toc-item-num\">2&nbsp;&nbsp;</span>Step 2 multiple regression</a></span></li></ul></div>"
   ]
  },
  {
   "cell_type": "code",
   "execution_count": 1,
   "metadata": {
    "ExecuteTime": {
     "end_time": "2020-01-09T23:35:34.492611Z",
     "start_time": "2020-01-09T23:35:34.490638Z"
    }
   },
   "outputs": [],
   "source": [
    "# prepare bed file from cemba\n",
    "# /home/hanliu/project/mouse_rostral_brain/study/LDSC/"
   ]
  },
  {
   "cell_type": "code",
   "execution_count": 12,
   "metadata": {
    "ExecuteTime": {
     "end_time": "2020-01-09T23:42:10.434904Z",
     "start_time": "2020-01-09T23:42:03.256191Z"
    }
   },
   "outputs": [],
   "source": [
    "import pathlib\n",
    "import pandas as pd\n",
    "import pybedtools\n",
    "pathlib.Path('qsub').mkdir(exist_ok=True)"
   ]
  },
  {
   "cell_type": "markdown",
   "metadata": {},
   "source": [
    "## Step1 Prepare Annotation and calc LD Score"
   ]
  },
  {
   "cell_type": "code",
   "execution_count": 3,
   "metadata": {
    "ExecuteTime": {
     "end_time": "2020-01-09T23:35:34.525315Z",
     "start_time": "2020-01-09T23:35:34.506236Z"
    }
   },
   "outputs": [],
   "source": [
    "ldsc_dir = '/gale/netapp/home/hanliu/pkg/ldsc'\n",
    "dmr_type = 'MajorType'"
   ]
  },
  {
   "cell_type": "code",
   "execution_count": 4,
   "metadata": {
    "ExecuteTime": {
     "end_time": "2020-01-09T03:49:13.591741Z",
     "start_time": "2020-01-09T03:49:13.542014Z"
    }
   },
   "outputs": [
    {
     "name": "stdout",
     "output_type": "stream",
     "text": [
      "41 bed files\n"
     ]
    }
   ],
   "source": [
    "input_dir = pathlib.Path('InputBed/').absolute()\n",
    "\n",
    "dmr_list = list(input_dir.glob(f'*hg19-*-slop*.bed'))\n",
    "print(len(dmr_list), 'bed files')\n",
    "\n",
    "chroms = [1, 2, 3, 4, 5, 6, 7, 8, 9, 10, 11, 12, 13, 14, 15, 16, 17, 18, 19, 20, 21, 22]\n",
    "\n",
    "base_dir = '/gale/netapp/scratch2/hanliu/LDSC/{dmr_type}DMRTotal'\n",
    "\n",
    "cmds = []\n",
    "for input_bed in dmr_list:\n",
    "    cluster = input_bed.name.split('.')[0]\n",
    "    cluster_dir =f'/gale/netapp/scratch2/hanliu/LDSC/{dmr_type}DMRTotal/Annotation/{cluster}'\n",
    "    pathlib.Path(cluster_dir).mkdir(exist_ok=True, parents=True)\n",
    "    \n",
    "    for chrom in chroms:\n",
    "        chrom_bim_file = f'/gale/netapp/home/hanliu/ref/LDSC/baseline/1000G_EUR_Phase3_plink/1000G.EUR.QC.{chrom}.bim'\n",
    "        baseline_dir = '/gale/netapp/home/hanliu/ref/LDSC/baseline/model_all_snp/all_snp/'\n",
    "        bfile_pattern = chrom_bim_file[:-4]\n",
    "        output_prefix = f'/gale/netapp/scratch2/hanliu/LDSC/{dmr_type}DMRTotal/Annotation/{cluster}/{cluster}.{chrom}'\n",
    "        make_annot_cmd = f'/gale/netapp/home/hanliu/anaconda3/envs/ldsc/bin/python2.7 {ldsc_dir}/make_annot.py --bed-file {input_bed} --bimfile {chrom_bim_file} --annot-file {output_prefix}.annot.gz'\n",
    "        ldsc_cmd = f'/gale/netapp/home/hanliu/anaconda3/envs/ldsc/bin/python2.7 {ldsc_dir}/ldsc.py --l2 --bfile {bfile_pattern} --ld-wind-cm 1 --annot {output_prefix}.annot.gz --out {output_prefix} --print-snps {baseline_dir}/baseline.{chrom}.snp  --thin-annot'\n",
    "        total_cmd = f'{make_annot_cmd} && {ldsc_cmd}'\n",
    "        cmds.append(total_cmd)\n",
    "        \n",
    "with open(f'qsub/ldsc_commands.txt', 'w') as f:\n",
    "    f.write('\\n'.join(cmds))\n",
    "\n",
    "this_dir = pathlib.Path().absolute()\n",
    "qsub_script = f\"\"\"\n",
    "#!/bin/bash\n",
    "#$ -N master\n",
    "#$ -V\n",
    "#$ -pe smp 1\n",
    "#$ -l h_vmem=5G\n",
    "#$ -l h_rt=99:99:99\n",
    "#$ -l s_rt=99:99:99\n",
    "#$ -wd {this_dir}\n",
    "#$ -e {this_dir}/qsub/ldsc.error.log\n",
    "#$ -o {this_dir}/qsub/ldsc.output.log\n",
    "\n",
    "yap qsub --command_file_path {this_dir}/qsub/ldsc_commands.txt --working_dir {this_dir}/qsub --project_name ldsc --total_cpu 100 --total_mem 5000 --qsub_global_parms \"-pe smp=10;-l h_vmem=5G\"\n",
    "\"\"\"\n",
    "with open(f'qsub/ldsc_qsub.sh', 'w') as f:\n",
    "    f.write(qsub_script)\n"
   ]
  },
  {
   "cell_type": "markdown",
   "metadata": {},
   "source": [
    "### Notes\n",
    "- Submit job using -pe smp 20 -l h_vmem 5G\n",
    "- Each job is CPU bound, took several mins to compute a chrom and ~1h in total for a bed file"
   ]
  },
  {
   "cell_type": "markdown",
   "metadata": {},
   "source": [
    "## Step 2 multiple regression"
   ]
  },
  {
   "cell_type": "code",
   "execution_count": 4,
   "metadata": {
    "ExecuteTime": {
     "end_time": "2020-01-09T23:35:35.356776Z",
     "start_time": "2020-01-09T23:35:35.353626Z"
    }
   },
   "outputs": [],
   "source": [
    "summary_stats_dir = '/gale/netapp/home/hanliu/ref/LDSC/baseline/model_all_snp/sumstats/'\n",
    "w_ld_chr_prefix = '/gale/netapp/home/hanliu/ref/LDSC/baseline/model_all_snp/weights_1000G_EUR_Phase3_no_hla/weights.'\n",
    "baseline_prefix = '/gale/netapp/home/hanliu/ref/LDSC/baseline/baseline_roadmap/baseline_roadmap.'\n",
    "freq_prefix = '/gale/netapp/home/hanliu/ref/LDSC/baseline/1000G_Phase3_frq/1000G.EUR.QC.'\n"
   ]
  },
  {
   "cell_type": "code",
   "execution_count": 5,
   "metadata": {
    "ExecuteTime": {
     "end_time": "2020-01-09T23:35:37.634786Z",
     "start_time": "2020-01-09T23:35:37.608745Z"
    }
   },
   "outputs": [
    {
     "data": {
      "text/plain": [
       "42"
      ]
     },
     "execution_count": 5,
     "metadata": {},
     "output_type": "execute_result"
    }
   ],
   "source": [
    "sum_stats_list = list(pathlib.Path(summary_stats_dir).glob('*gz'))\n",
    "len(sum_stats_list)"
   ]
  },
  {
   "cell_type": "code",
   "execution_count": 6,
   "metadata": {
    "ExecuteTime": {
     "end_time": "2020-01-09T23:35:40.880170Z",
     "start_time": "2020-01-09T23:35:40.847687Z"
    }
   },
   "outputs": [
    {
     "data": {
      "text/plain": [
       "41"
      ]
     },
     "execution_count": 6,
     "metadata": {},
     "output_type": "execute_result"
    }
   ],
   "source": [
    "annotation_dir = pathlib.Path('Annotation/').absolute()\n",
    "cluster_dirs = [f'{i}/{i.name.split(\".\")[0]}.' for i in annotation_dir.glob('*') if i.is_dir()]\n",
    "cluster_str = ','.join(cluster_dirs)\n",
    "len(cluster_dirs)"
   ]
  },
  {
   "cell_type": "code",
   "execution_count": 14,
   "metadata": {
    "ExecuteTime": {
     "end_time": "2020-01-09T23:42:38.275483Z",
     "start_time": "2020-01-09T23:42:38.273138Z"
    }
   },
   "outputs": [],
   "source": [
    "# input_bed_dir = pathlib.Path('InputBed/')\n",
    "# bed_list = list(input_bed_dir.glob('*bed'))\n",
    "# bed_counts = {p.name.split('.')[0]: pybedtools.BedTool(str(p)).count() for p in bed_list}"
   ]
  },
  {
   "cell_type": "code",
   "execution_count": 16,
   "metadata": {
    "ExecuteTime": {
     "end_time": "2020-01-09T23:45:34.674171Z",
     "start_time": "2020-01-09T23:45:34.653018Z"
    }
   },
   "outputs": [],
   "source": [
    "model_dir = pathlib.Path('Model').absolute()\n",
    "model_dir.mkdir(exist_ok=True)\n",
    "\n",
    "cmds = []\n",
    "appread = set()\n",
    "for sum_stats_path in sum_stats_list:\n",
    "    sum_stats_name = sum_stats_path.name.split('.')[0]\n",
    "    if sum_stats_name in appread:\n",
    "        raise ValueError('Summary stats have duplicated name')\n",
    "    else:\n",
    "        appread.add(sum_stats_name)\n",
    "    output_prefix = model_dir / sum_stats_name\n",
    "    \n",
    "    cmd = f'/gale/netapp/home/hanliu/anaconda3/envs/ldsc/bin/python2.7 {ldsc_dir}/ldsc.py '\\\n",
    "          f'--h2 {sum_stats_path} --w-ld-chr {w_ld_chr_prefix} '\\\n",
    "          f'--ref-ld-chr {cluster_str},{baseline_prefix} '\\\n",
    "          f'--frqfile-chr {freq_prefix} --overlap-annot '\\\n",
    "          f'--out {output_prefix} --print-coefficients'\n",
    "    cmds.append(cmd)\n",
    "    \n",
    "with open(f'qsub/model_commands.txt', 'w') as f:\n",
    "    f.write('\\n'.join(cmds))\n",
    "\n",
    "this_dir = pathlib.Path().absolute()\n",
    "qsub_script = f\"\"\"\n",
    "#!/bin/bash\n",
    "#$ -N master\n",
    "#$ -V\n",
    "#$ -pe smp 1\n",
    "#$ -l h_vmem=5G\n",
    "#$ -l h_rt=99:99:99\n",
    "#$ -l s_rt=99:99:99\n",
    "#$ -wd {this_dir}\n",
    "#$ -e {this_dir}/qsub/model.error.log\n",
    "#$ -o {this_dir}/qsub/model.output.log\n",
    "\n",
    "yap qsub --command_file_path {this_dir}/qsub/model_commands.txt --working_dir {this_dir}/qsub --project_name model --total_cpu 100 --total_mem 5000 --qsub_global_parms \"-pe smp=15;-l h_vmem=5G\"\n",
    "\"\"\"\n",
    "with open(f'qsub/model_qsub.sh', 'w') as f:\n",
    "    f.write(qsub_script)"
   ]
  },
  {
   "cell_type": "code",
   "execution_count": null,
   "metadata": {},
   "outputs": [],
   "source": []
  },
  {
   "cell_type": "code",
   "execution_count": null,
   "metadata": {},
   "outputs": [],
   "source": []
  },
  {
   "cell_type": "code",
   "execution_count": null,
   "metadata": {},
   "outputs": [],
   "source": []
  },
  {
   "cell_type": "code",
   "execution_count": null,
   "metadata": {},
   "outputs": [],
   "source": []
  },
  {
   "cell_type": "code",
   "execution_count": null,
   "metadata": {},
   "outputs": [],
   "source": []
  },
  {
   "cell_type": "code",
   "execution_count": null,
   "metadata": {},
   "outputs": [],
   "source": []
  },
  {
   "cell_type": "code",
   "execution_count": null,
   "metadata": {},
   "outputs": [],
   "source": []
  },
  {
   "cell_type": "code",
   "execution_count": null,
   "metadata": {},
   "outputs": [],
   "source": []
  },
  {
   "cell_type": "code",
   "execution_count": null,
   "metadata": {},
   "outputs": [],
   "source": []
  }
 ],
 "metadata": {
  "hide_input": false,
  "kernelspec": {
   "display_name": "Python 3",
   "language": "python",
   "name": "python3"
  },
  "language_info": {
   "codemirror_mode": {
    "name": "ipython",
    "version": 3
   },
   "file_extension": ".py",
   "mimetype": "text/x-python",
   "name": "python",
   "nbconvert_exporter": "python",
   "pygments_lexer": "ipython3",
   "version": "3.7.3"
  },
  "toc": {
   "base_numbering": 1,
   "nav_menu": {},
   "number_sections": true,
   "sideBar": true,
   "skip_h1_title": true,
   "title_cell": "Table of Contents",
   "title_sidebar": "Contents",
   "toc_cell": true,
   "toc_position": {},
   "toc_section_display": true,
   "toc_window_display": true
  }
 },
 "nbformat": 4,
 "nbformat_minor": 2
}
