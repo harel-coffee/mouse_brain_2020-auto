{
 "cells": [
  {
   "cell_type": "code",
   "execution_count": 1,
   "metadata": {
    "ExecuteTime": {
     "end_time": "2020-01-09T03:21:31.724672Z",
     "start_time": "2020-01-09T03:21:31.095039Z"
    }
   },
   "outputs": [],
   "source": [
    "import pathlib\n",
    "import pandas as pd\n",
    "import pybedtools\n",
    "import seaborn as sns"
   ]
  },
  {
   "cell_type": "markdown",
   "metadata": {},
   "source": [
    "## Liftover BED slop"
   ]
  },
  {
   "cell_type": "code",
   "execution_count": 2,
   "metadata": {
    "ExecuteTime": {
     "end_time": "2020-01-09T03:21:33.443860Z",
     "start_time": "2020-01-09T03:21:33.441701Z"
    }
   },
   "outputs": [],
   "source": [
    "min_match = 0.5\n",
    "slop = 250\n",
    "chrom_sizes = '/home/hanliu/ref/human/hg19/genome/hg19.main.chrom.sizes'"
   ]
  },
  {
   "cell_type": "code",
   "execution_count": 3,
   "metadata": {
    "ExecuteTime": {
     "end_time": "2020-01-09T03:21:39.650920Z",
     "start_time": "2020-01-09T03:21:35.362611Z"
    }
   },
   "outputs": [
    {
     "data": {
      "text/html": [
       "<div>\n",
       "<style scoped>\n",
       "    .dataframe tbody tr th:only-of-type {\n",
       "        vertical-align: middle;\n",
       "    }\n",
       "\n",
       "    .dataframe tbody tr th {\n",
       "        vertical-align: top;\n",
       "    }\n",
       "\n",
       "    .dataframe thead th {\n",
       "        text-align: right;\n",
       "    }\n",
       "</style>\n",
       "<table border=\"1\" class=\"dataframe\">\n",
       "  <thead>\n",
       "    <tr style=\"text-align: right;\">\n",
       "      <th></th>\n",
       "      <th>chrom</th>\n",
       "      <th>start</th>\n",
       "      <th>end</th>\n",
       "      <th>DMR_length</th>\n",
       "    </tr>\n",
       "    <tr>\n",
       "      <th>name</th>\n",
       "      <th></th>\n",
       "      <th></th>\n",
       "      <th></th>\n",
       "      <th></th>\n",
       "    </tr>\n",
       "  </thead>\n",
       "  <tbody>\n",
       "    <tr>\n",
       "      <th>Major_8</th>\n",
       "      <td>chr21</td>\n",
       "      <td>26607978</td>\n",
       "      <td>26608945</td>\n",
       "      <td>967</td>\n",
       "    </tr>\n",
       "    <tr>\n",
       "      <th>Major_9</th>\n",
       "      <td>chr8</td>\n",
       "      <td>56561843</td>\n",
       "      <td>56562897</td>\n",
       "      <td>1054</td>\n",
       "    </tr>\n",
       "    <tr>\n",
       "      <th>Major_38</th>\n",
       "      <td>chr8</td>\n",
       "      <td>56549542</td>\n",
       "      <td>56550530</td>\n",
       "      <td>988</td>\n",
       "    </tr>\n",
       "    <tr>\n",
       "      <th>Major_39</th>\n",
       "      <td>chr8</td>\n",
       "      <td>56549380</td>\n",
       "      <td>56550413</td>\n",
       "      <td>1033</td>\n",
       "    </tr>\n",
       "    <tr>\n",
       "      <th>Major_80</th>\n",
       "      <td>chr8</td>\n",
       "      <td>56539385</td>\n",
       "      <td>56540231</td>\n",
       "      <td>846</td>\n",
       "    </tr>\n",
       "  </tbody>\n",
       "</table>\n",
       "</div>"
      ],
      "text/plain": [
       "          chrom     start       end  DMR_length\n",
       "name                                           \n",
       "Major_8   chr21  26607978  26608945         967\n",
       "Major_9    chr8  56561843  56562897        1054\n",
       "Major_38   chr8  56549542  56550530         988\n",
       "Major_39   chr8  56549380  56550413        1033\n",
       "Major_80   chr8  56539385  56540231         846"
      ]
     },
     "execution_count": 3,
     "metadata": {},
     "output_type": "execute_result"
    }
   ],
   "source": [
    "# mm10 liftover to hg19, the coords is hg19!\n",
    "total_bed = f'/home/hanliu/project/mouse_rostral_brain/study/LiftoverDMR/MajorTypeDMR.lifted.{min_match}.bed'\n",
    "bed = pybedtools.BedTool(total_bed)\n",
    "bed = bed.slop(b=slop, g=chrom_sizes)\n",
    "total_bed_df = bed.to_dataframe()\n",
    "\n",
    "total_bed_df['DMR_length'] = (total_bed_df['end'] - total_bed_df['start'])\n",
    "# some DMR is very long after liftover... remove it, max dmr length in mm10 is ~5kb\n",
    "total_bed_df = total_bed_df[total_bed_df['DMR_length'] < 10000]\n",
    "# some weird but very rare problem from liftover\n",
    "total_bed_df = total_bed_df[total_bed_df['start'] > 0]\n",
    "\n",
    "total_bed_df.set_index('name', inplace=True)\n",
    "total_bed_df.head()"
   ]
  },
  {
   "cell_type": "code",
   "execution_count": 4,
   "metadata": {
    "ExecuteTime": {
     "end_time": "2020-01-09T03:21:49.800540Z",
     "start_time": "2020-01-09T03:21:49.797208Z"
    }
   },
   "outputs": [
    {
     "data": {
      "text/plain": [
       "(1935511, 4)"
      ]
     },
     "execution_count": 4,
     "metadata": {},
     "output_type": "execute_result"
    }
   ],
   "source": [
    "total_bed_df.shape"
   ]
  },
  {
   "cell_type": "markdown",
   "metadata": {},
   "source": [
    "## Save SubType DMR in hg19 coords"
   ]
  },
  {
   "cell_type": "code",
   "execution_count": 5,
   "metadata": {
    "ExecuteTime": {
     "end_time": "2020-01-09T03:23:16.600372Z",
     "start_time": "2020-01-09T03:21:54.382416Z"
    },
    "scrolled": true
   },
   "outputs": [
    {
     "name": "stdout",
     "output_type": "stream",
     "text": [
      "41 bed files\n",
      "0\tIT-L23\t63\t287531\t287531\n",
      "1\tASC\t67\t225133\t225133\n",
      "2\tDG-po\t62\t222168\t222168\n",
      "3\tEC\t41\t557680\t557680\n",
      "4\tPAL-Inh\t85\t5919\t5919\n",
      "5\tIT-L6\t63\t246852\t246852\n",
      "6\tLSX-Inh\t73\t80176\t80176\n",
      "7\tIG-CA2\t66\t389300\t389300\n",
      "8\tOLF-Exc\t68\t164180\t164180\n",
      "9\tUnc5c\t67\t179383\t179383\n",
      "10\tMGC\t37\t674356\t674356\n",
      "11\tOLF\t68\t87791\t87791\n",
      "12\tNP-L6\t66\t77080\t77080\n",
      "13\tL6b\t66\t119475\t119475\n",
      "14\tGfra1\t64\t287492\t287492\n",
      "15\tCT-L6\t66\t228623\t228623\n",
      "16\tODC\t56\t254194\t254194\n",
      "17\tVLMC-Pia\t53\t397393\t397393\n",
      "18\tIT-L4\t63\t327129\t327129\n",
      "19\tFoxp2\t71\t96231\t96231\n",
      "20\tMSN-D2\t68\t169580\t169580\n",
      "21\tANP\t69\t230357\t230357\n",
      "22\tCGE-Vip\t74\t79417\t79417\n",
      "23\tChd7\t77\t61978\t61978\n",
      "24\tCA3-St18\t64\t328161\t328161\n",
      "25\tCGE-Lamp5\t68\t253206\t253206\n",
      "26\tD1L-PAL\t67\t98521\t98521\n",
      "27\tOPC\t52\t368619\t368619\n",
      "28\tMGE-Pvalb\t72\t128885\t128885\n",
      "29\tEP\t66\t185907\t185907\n",
      "30\tPC\t40\t958587\t958587\n",
      "31\tPT-L5\t66\t261820\t261820\n",
      "32\tMGE-Sst\t72\t64006\t64006\n",
      "33\tCLA\t65\t239452\t239452\n",
      "34\tD1L-Fstl4\t70\t138892\t138892\n",
      "35\tCA1\t65\t330653\t330653\n",
      "36\tVLMC\t52\t369718\t369718\n",
      "37\tCA3\t65\t368749\t368749\n",
      "38\tIT-L5\t63\t292052\t292052\n",
      "39\tMSN-D1\t68\t206516\t206516\n",
      "40\tDG\t66\t387400\t387400\n"
     ]
    }
   ],
   "source": [
    "dmr_bed_dir = pathlib.Path(\n",
    "    '/home/hanliu/project/mouse_rostral_brain/DMR/MajorType/HypoBed/')\n",
    "dmr_list = list(dmr_bed_dir.glob('*DMS1.bed'))\n",
    "print(len(dmr_list), 'bed files')\n",
    "\n",
    "output_dir = pathlib.Path('InputBed')\n",
    "output_dir.mkdir(exist_ok=True)\n",
    "\n",
    "for i, bed_path in enumerate(dmr_list):\n",
    "    # the coords is mm10\n",
    "    this_bed_df = pd.read_csv(bed_path, sep='\\t', header=None, index_col=3)\n",
    "\n",
    "    # the coords is hg19\n",
    "    use_bed_df = total_bed_df.loc[this_bed_df.index & total_bed_df.index]\n",
    "    use_bed = pybedtools.BedTool.from_dataframe(\n",
    "        use_bed_df.reset_index(drop=True).iloc[:, :3])\n",
    "    \n",
    "    use_bed = use_bed.sort()\n",
    "    use_bed.saveas(output_dir /\n",
    "                   (bed_path.name[:-3] + f'hg19-{min_match}-slop{slop}.bed'))\n",
    "    print(i,\n",
    "          bed_path.name.split('.')[0],\n",
    "          int(use_bed_df.shape[0] / this_bed_df.shape[0] * 100),\n",
    "          use_bed_df.shape[0],\n",
    "          this_bed_df.shape[0],\n",
    "          sep='\\t')"
   ]
  },
  {
   "cell_type": "code",
   "execution_count": 7,
   "metadata": {
    "ExecuteTime": {
     "end_time": "2020-01-09T03:23:42.738375Z",
     "start_time": "2020-01-09T03:23:42.735237Z"
    }
   },
   "outputs": [],
   "source": [
    "# !rsync -zarv /home/hanliu/project/mouse_rostral_brain/study/LDSC/MajorDMRTotal salk-login:/gale/netapp/scratch2/hanliu/LDSC/"
   ]
  },
  {
   "cell_type": "markdown",
   "metadata": {},
   "source": [
    "## Prepare annot command"
   ]
  },
  {
   "cell_type": "code",
   "execution_count": 21,
   "metadata": {},
   "outputs": [
    {
     "name": "stdout",
     "output_type": "stream",
     "text": [
      "161 bed files\n"
     ]
    }
   ],
   "source": [
    "dmr_list = list(output_dir.glob(f'*hg19-{min_match}-slop{slop}.bed'))\n",
    "print(len(dmr_list), 'bed files')\n",
    "\n",
    "chroms = [1, 2, 3, 4, 5, 6, 7, 8, 9, 10, 11, 12, 13, 14, 15, 16, 17, 18, 19, 20, 21, 22]\n",
    "\n",
    "base_dir = '/gale/netapp/scratch2/hanliu/LDSC/SubTypeDMRTotal'\n",
    "\n",
    "for input_bed in dmr_list:\n",
    "    cluster_commands = []\n",
    "    mkdir_cmd = f'mkdir /gale/netapp/scratch2/hanliu/LDSC/SubTypeDMRTotal/Annotation/{cluster}'\n",
    "    for chrom in chroms:\n",
    "        cluster = input_bed.name.split('.')[0]\n",
    "        ldsc_dir = '/gale/netapp/home/hanliu/pkg/ldsc'\n",
    "        chrom_bim_file = f'/gale/netapp/home/hanliu/ref/LDSC/baseline/1000G_EUR_Phase3_plink/1000G.EUR.QC.{chrom}.bim'\n",
    "        baseline_dir = '/gale/netapp/home/hanliu/ref/LDSC/baseline/model_all_snp/all_snp/'\n",
    "        bfile_pattern = chrom_bim_file[:-4]\n",
    "        output_prefix = f'/gale/netapp/scratch2/hanliu/LDSC/SubTypeDMRTotal/Annotation/{cluster}/{cluster}.{chrom}'\n",
    "        make_annot_cmd = f'python2.7 {ldsc_dir}/make_annot.py --bed-file {base_dir}/{input_bed} --bimfile {chrom_bim_file} --annot-file {output_prefix}.annot.gz'\n",
    "        ldsc_cmd = f'python2.7 /gale/netapp/home/chongyuan/application/ldsc/ldsc.py --l2 --bfile {bfile_pattern} --ld-wind-cm 1 --annot {output_prefix}.annot.gz --out {output_prefix} --print-snps {baseline_dir}/baseline.{chrom}.snp  --thin-annot'\n",
    "        total_cmd = f'{make_annot_cmd} && {ldsc_cmd}'\n",
    "        "
   ]
  },
  {
   "cell_type": "code",
   "execution_count": 22,
   "metadata": {},
   "outputs": [
    {
     "data": {
      "text/plain": [
       "'mkdir /gale/netapp/scratch2/hanliu/LDSC/SubTypeDMRTotal/Annotation/L6b_Pkhd1'"
      ]
     },
     "execution_count": 22,
     "metadata": {},
     "output_type": "execute_result"
    }
   ],
   "source": [
    "mkdir_cmd"
   ]
  },
  {
   "cell_type": "code",
   "execution_count": 23,
   "metadata": {},
   "outputs": [
    {
     "data": {
      "text/plain": [
       "'python2.7 /gale/netapp/home/hanliu/pkg/ldsc/make_annot.py --bed-file /gale/netapp/scratch2/hanliu/LDSC/SubTypeDMRTotal/InputBed/L6b_Pkhd1.HypoDMR.DMS2.hg19-0.5-slop250.bed --bimfile /gale/netapp/home/hanliu/ref/LDSC/baseline/1000G_EUR_Phase3_plink/1000G.EUR.QC.22.bim --annot-file /gale/netapp/scratch2/hanliu/LDSC/SubTypeDMRTotal/Annotation/L6b_Pkhd1/L6b_Pkhd1.22.annot.gz'"
      ]
     },
     "execution_count": 23,
     "metadata": {},
     "output_type": "execute_result"
    }
   ],
   "source": [
    "make_annot_cmd"
   ]
  },
  {
   "cell_type": "code",
   "execution_count": 24,
   "metadata": {},
   "outputs": [
    {
     "data": {
      "text/plain": [
       "'python2.7 /gale/netapp/home/chongyuan/application/ldsc/ldsc.py --l2 --bfile /gale/netapp/home/hanliu/ref/LDSC/baseline/1000G_EUR_Phase3_plink/1000G.EUR.QC.22 --ld-wind-cm 1 --annot /gale/netapp/scratch2/hanliu/LDSC/SubTypeDMRTotal/Annotation/L6b_Pkhd1/L6b_Pkhd1.22.annot.gz --out /gale/netapp/scratch2/hanliu/LDSC/SubTypeDMRTotal/Annotation/L6b_Pkhd1/L6b_Pkhd1.22 --print-snps /gale/netapp/home/hanliu/ref/LDSC/baseline/model_all_snp/all_snp//baseline.22.snp  --thin-annot'"
      ]
     },
     "execution_count": 24,
     "metadata": {},
     "output_type": "execute_result"
    }
   ],
   "source": [
    "ldsc_cmd"
   ]
  },
  {
   "cell_type": "code",
   "execution_count": null,
   "metadata": {},
   "outputs": [],
   "source": []
  },
  {
   "cell_type": "code",
   "execution_count": null,
   "metadata": {},
   "outputs": [],
   "source": []
  },
  {
   "cell_type": "code",
   "execution_count": null,
   "metadata": {},
   "outputs": [],
   "source": []
  },
  {
   "cell_type": "code",
   "execution_count": null,
   "metadata": {},
   "outputs": [],
   "source": []
  },
  {
   "cell_type": "code",
   "execution_count": null,
   "metadata": {},
   "outputs": [],
   "source": []
  }
 ],
 "metadata": {
  "hide_input": false,
  "kernelspec": {
   "display_name": "Python 3",
   "language": "python",
   "name": "python3"
  },
  "language_info": {
   "codemirror_mode": {
    "name": "ipython",
    "version": 3
   },
   "file_extension": ".py",
   "mimetype": "text/x-python",
   "name": "python",
   "nbconvert_exporter": "python",
   "pygments_lexer": "ipython3",
   "version": "3.7.3"
  },
  "toc": {
   "base_numbering": 1,
   "nav_menu": {},
   "number_sections": true,
   "sideBar": true,
   "skip_h1_title": true,
   "title_cell": "Table of Contents",
   "title_sidebar": "Contents",
   "toc_cell": false,
   "toc_position": {},
   "toc_section_display": true,
   "toc_window_display": true
  }
 },
 "nbformat": 4,
 "nbformat_minor": 2
}
