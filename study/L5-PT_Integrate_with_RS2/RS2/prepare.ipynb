{
 "cells": [
  {
   "cell_type": "code",
   "execution_count": 1,
   "metadata": {
    "ExecuteTime": {
     "end_time": "2020-03-13T19:36:13.273203Z",
     "start_time": "2020-03-13T19:36:12.541337Z"
    }
   },
   "outputs": [],
   "source": [
    "import h5py\n",
    "import xarray as xr\n",
    "import pandas as pd"
   ]
  },
  {
   "cell_type": "code",
   "execution_count": 2,
   "metadata": {
    "ExecuteTime": {
     "end_time": "2020-03-13T19:36:19.933823Z",
     "start_time": "2020-03-13T19:36:13.275035Z"
    }
   },
   "outputs": [
    {
     "name": "stdout",
     "output_type": "stream",
     "text": [
      "<KeysViewHDF5 ['bins', 'cov', 'mc', 'meta']>\n"
     ]
    },
    {
     "name": "stderr",
     "output_type": "stream",
     "text": [
      "/home/hanliu/miniconda3/envs/clustering/lib/python3.7/site-packages/h5py/_hl/dataset.py:313: H5pyDeprecationWarning: dataset.value has been deprecated. Use dataset[()] instead.\n",
      "  \"Use dataset[()] instead.\", H5pyDeprecationWarning)\n"
     ]
    }
   ],
   "source": [
    "with h5py.File('cell_4176_mCH.hdf5') as f:\n",
    "    print(f.keys())\n",
    "    bins = f['bins'].value\n",
    "    cov = f['cov'].value\n",
    "    mc = f['mc'].value\n",
    "    meta = f['meta'].value"
   ]
  },
  {
   "cell_type": "code",
   "execution_count": 3,
   "metadata": {
    "ExecuteTime": {
     "end_time": "2020-03-13T19:36:19.950964Z",
     "start_time": "2020-03-13T19:36:19.939326Z"
    }
   },
   "outputs": [],
   "source": [
    "region_bed = pd.DataFrame(bins, columns=['chrom', 'start', 'end'])\n",
    "metadata = pd.DataFrame(meta, columns=['source', 'slice', 'target', 'gender', 'cluster', 'non-clonal reads'])"
   ]
  },
  {
   "cell_type": "code",
   "execution_count": 4,
   "metadata": {
    "ExecuteTime": {
     "end_time": "2020-03-13T19:36:20.620176Z",
     "start_time": "2020-03-13T19:36:19.952372Z"
    }
   },
   "outputs": [],
   "source": [
    "cov_df = pd.DataFrame(cov,\n",
    "                      index=[f'RS2_{i}' for i in range(cov.shape[0])],\n",
    "                      columns=region_bed.apply(lambda i: '-'.join(i),\n",
    "                                               axis=1).values)\n",
    "mc_df = pd.DataFrame(mc,\n",
    "                     index=[f'RS2_{i}' for i in range(mc.shape[0])],\n",
    "                     columns=region_bed.apply(lambda i: '-'.join(i),\n",
    "                                              axis=1).values)\n",
    "metadata.index = [f'RS2_{i}' for i in range(mc.shape[0])]"
   ]
  },
  {
   "cell_type": "code",
   "execution_count": 5,
   "metadata": {
    "ExecuteTime": {
     "end_time": "2020-03-13T19:36:26.062256Z",
     "start_time": "2020-03-13T19:36:20.621816Z"
    }
   },
   "outputs": [],
   "source": [
    "sample_mcds = xr.open_dataset('/home/hanliu/project/mouse_rostral_brain/dataset/4H-180806.mcds')\n",
    "region_bed = pd.DataFrame([\n",
    "    sample_mcds.coords['chrom100k_chrom'].to_pandas(),\n",
    "    sample_mcds.coords['chrom100k_bin_start'].to_pandas(),\n",
    "    sample_mcds.coords['chrom100k_bin_end'].to_pandas(),\n",
    "]).T\n",
    "\n",
    "region_to_int = {'-'.join(row.astype(str)): i for i, row in region_bed.iterrows()}\n",
    "int_columns = cov_df.columns.map(region_to_int)\n",
    "assert int_columns.isna().sum() == 0\n",
    "\n",
    "cov_df.columns = int_columns\n",
    "mc_df.columns = int_columns\n",
    "\n",
    "cov_df.index.name = 'cell'\n",
    "cov_df.columns.name = 'chrom100k'\n",
    "mc_df.index.name = 'cell'\n",
    "mc_df.columns.name = 'chrom100k'\n"
   ]
  },
  {
   "cell_type": "code",
   "execution_count": 13,
   "metadata": {
    "ExecuteTime": {
     "end_time": "2020-03-13T19:38:28.575393Z",
     "start_time": "2020-03-13T19:38:26.367181Z"
    }
   },
   "outputs": [],
   "source": [
    "mcds = xr.concat([xr.DataArray(mc_df), xr.DataArray(cov_df)], dim='count_type')\n",
    "mcds.coords['count_type'] = ['mc', 'cov']\n",
    "mcds = mcds.expand_dims(mc_type=['CHN'])"
   ]
  },
  {
   "cell_type": "code",
   "execution_count": 26,
   "metadata": {
    "ExecuteTime": {
     "end_time": "2020-03-13T19:44:45.976574Z",
     "start_time": "2020-03-13T19:44:43.843739Z"
    }
   },
   "outputs": [],
   "source": [
    "mcds = xr.Dataset({'chrom100k_da': mcds})\n",
    "mcds.to_netcdf('RS2_PT.4176cells.raw_count.mcds')"
   ]
  },
  {
   "cell_type": "code",
   "execution_count": 24,
   "metadata": {
    "ExecuteTime": {
     "end_time": "2020-03-13T19:42:53.562670Z",
     "start_time": "2020-03-13T19:42:53.217679Z"
    }
   },
   "outputs": [],
   "source": [
    "metadata.to_hdf('RS2_PT.4176cells.meta.hdf', key='data')"
   ]
  },
  {
   "cell_type": "code",
   "execution_count": 27,
   "metadata": {
    "ExecuteTime": {
     "end_time": "2020-03-13T19:44:48.292674Z",
     "start_time": "2020-03-13T19:44:48.281784Z"
    }
   },
   "outputs": [
    {
     "data": {
      "text/html": [
       "<pre>&lt;xarray.Dataset&gt;\n",
       "Dimensions:       (cell: 4176, chrom100k: 26330, count_type: 2, mc_type: 1)\n",
       "Coordinates:\n",
       "  * mc_type       (mc_type) &lt;U3 &#x27;CHN&#x27;\n",
       "  * cell          (cell) object &#x27;RS2_0&#x27; &#x27;RS2_1&#x27; ... &#x27;RS2_4174&#x27; &#x27;RS2_4175&#x27;\n",
       "  * chrom100k     (chrom100k) int64 0 1 2 3 4 ... 26344 26345 26346 26347 26348\n",
       "  * count_type    (count_type) &lt;U3 &#x27;mc&#x27; &#x27;cov&#x27;\n",
       "Data variables:\n",
       "    chrom100k_da  (mc_type, count_type, cell, chrom100k) int64 0 0 0 ... 289 0</pre>"
      ],
      "text/plain": [
       "<xarray.Dataset>\n",
       "Dimensions:       (cell: 4176, chrom100k: 26330, count_type: 2, mc_type: 1)\n",
       "Coordinates:\n",
       "  * mc_type       (mc_type) <U3 'CHN'\n",
       "  * cell          (cell) object 'RS2_0' 'RS2_1' ... 'RS2_4174' 'RS2_4175'\n",
       "  * chrom100k     (chrom100k) int64 0 1 2 3 4 ... 26344 26345 26346 26347 26348\n",
       "  * count_type    (count_type) <U3 'mc' 'cov'\n",
       "Data variables:\n",
       "    chrom100k_da  (mc_type, count_type, cell, chrom100k) int64 0 0 0 ... 289 0"
      ]
     },
     "execution_count": 27,
     "metadata": {},
     "output_type": "execute_result"
    }
   ],
   "source": [
    "mcds"
   ]
  },
  {
   "cell_type": "code",
   "execution_count": null,
   "metadata": {},
   "outputs": [],
   "source": []
  },
  {
   "cell_type": "code",
   "execution_count": null,
   "metadata": {},
   "outputs": [],
   "source": []
  },
  {
   "cell_type": "code",
   "execution_count": null,
   "metadata": {},
   "outputs": [],
   "source": []
  },
  {
   "cell_type": "code",
   "execution_count": null,
   "metadata": {},
   "outputs": [],
   "source": []
  },
  {
   "cell_type": "code",
   "execution_count": null,
   "metadata": {},
   "outputs": [],
   "source": []
  }
 ],
 "metadata": {
  "hide_input": false,
  "kernelspec": {
   "display_name": "Python 3",
   "language": "python",
   "name": "python3"
  },
  "language_info": {
   "codemirror_mode": {
    "name": "ipython",
    "version": 3
   },
   "file_extension": ".py",
   "mimetype": "text/x-python",
   "name": "python",
   "nbconvert_exporter": "python",
   "pygments_lexer": "ipython3",
   "version": "3.7.3"
  },
  "toc": {
   "base_numbering": 1,
   "nav_menu": {},
   "number_sections": true,
   "sideBar": true,
   "skip_h1_title": true,
   "title_cell": "Table of Contents",
   "title_sidebar": "Contents",
   "toc_cell": false,
   "toc_position": {},
   "toc_section_display": true,
   "toc_window_display": true
  }
 },
 "nbformat": 4,
 "nbformat_minor": 2
}
