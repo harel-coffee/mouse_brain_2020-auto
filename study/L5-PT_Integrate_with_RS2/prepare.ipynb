{
 "cells": [
  {
   "cell_type": "code",
   "execution_count": 1,
   "metadata": {
    "ExecuteTime": {
     "end_time": "2020-03-11T20:41:11.180150Z",
     "start_time": "2020-03-11T20:41:08.572756Z"
    }
   },
   "outputs": [
    {
     "name": "stderr",
     "output_type": "stream",
     "text": [
      "/home/hanliu/miniconda3/envs/clustering/lib/python3.7/typing.py:842: FutureWarning: xarray subclass MCDS should explicitly define __slots__\n",
      "  super().__init_subclass__(*args, **kwargs)\n"
     ]
    }
   ],
   "source": [
    "import pandas as pd\n",
    "import xarray as xr\n",
    "\n",
    "from ALLCools.mcds.MCDS import MCDS"
   ]
  },
  {
   "cell_type": "code",
   "execution_count": 2,
   "metadata": {
    "ExecuteTime": {
     "end_time": "2020-03-11T20:41:11.605250Z",
     "start_time": "2020-03-11T20:41:11.181623Z"
    }
   },
   "outputs": [
    {
     "name": "stderr",
     "output_type": "stream",
     "text": [
      "/home/hanliu/miniconda3/envs/clustering/lib/python3.7/site-packages/IPython/core/interactiveshell.py:3326: FutureWarning: The read_msgpack is deprecated and will be removed in a future version.\n",
      "It is recommended to use pyarrow for on-the-wire transmission of pandas objects.\n",
      "  exec(code_obj, self.user_global_ns, self.user_ns)\n"
     ]
    }
   ],
   "source": [
    "cell_tidy_data = pd.read_msgpack(\n",
    "    '/home/hanliu/project/mouse_rostral_brain/study/ClusteringSummary/Summary/TotalClusteringResults.msg'\n",
    "               )"
   ]
  },
  {
   "cell_type": "code",
   "execution_count": 3,
   "metadata": {
    "ExecuteTime": {
     "end_time": "2020-03-11T20:41:14.085812Z",
     "start_time": "2020-03-11T20:41:14.022263Z"
    }
   },
   "outputs": [
    {
     "name": "stderr",
     "output_type": "stream",
     "text": [
      "/home/hanliu/miniconda3/envs/clustering/lib/python3.7/site-packages/ipykernel_launcher.py:2: FutureWarning: to_msgpack is deprecated and will be removed in a future version.\n",
      "It is recommended to use pyarrow for on-the-wire transmission of pandas objects.\n",
      "  \n"
     ]
    }
   ],
   "source": [
    "cell_tidy_data = cell_tidy_data[cell_tidy_data['MajorType'] == 'PT-L5']\n",
    "cell_tidy_data.to_msgpack('CellTidyData.PT-L5.msg')"
   ]
  },
  {
   "cell_type": "code",
   "execution_count": 4,
   "metadata": {
    "ExecuteTime": {
     "end_time": "2020-03-11T20:41:15.195864Z",
     "start_time": "2020-03-11T20:41:15.193874Z"
    }
   },
   "outputs": [],
   "source": [
    "mcds_pattern = '/home/hanliu/project/mouse_rostral_brain/dataset/*.mcds'"
   ]
  },
  {
   "cell_type": "code",
   "execution_count": 6,
   "metadata": {
    "ExecuteTime": {
     "end_time": "2020-03-11T20:42:12.053003Z",
     "start_time": "2020-03-11T20:41:39.485753Z"
    },
    "scrolled": true
   },
   "outputs": [
    {
     "name": "stdout",
     "output_type": "stream",
     "text": [
      "/home/hanliu/project/mouse_rostral_brain/dataset/4H-180806.mcds\n",
      "/home/hanliu/project/mouse_rostral_brain/dataset/11E-190214.mcds\n",
      "/home/hanliu/project/mouse_rostral_brain/dataset/5A-190205.mcds\n",
      "/home/hanliu/project/mouse_rostral_brain/dataset/11E-190305.mcds\n",
      "/home/hanliu/project/mouse_rostral_brain/dataset/4H-180911.mcds\n",
      "/home/hanliu/project/mouse_rostral_brain/dataset/11F-190214.mcds\n",
      "/home/hanliu/project/mouse_rostral_brain/dataset/5A-190307.mcds\n",
      "/home/hanliu/project/mouse_rostral_brain/dataset/11F-190305.mcds\n",
      "/home/hanliu/project/mouse_rostral_brain/dataset/5B-180514.mcds\n",
      "/home/hanliu/project/mouse_rostral_brain/dataset/1A-180226.mcds\n",
      "/home/hanliu/project/mouse_rostral_brain/dataset/5B-180529.mcds\n",
      "/home/hanliu/project/mouse_rostral_brain/dataset/1A-180227.mcds\n",
      "/home/hanliu/project/mouse_rostral_brain/dataset/5F-181218.mcds\n",
      "/home/hanliu/project/mouse_rostral_brain/dataset/1B-180119.mcds\n",
      "/home/hanliu/project/mouse_rostral_brain/dataset/5F-181220.mcds\n",
      "/home/hanliu/project/mouse_rostral_brain/dataset/1B-180213.mcds\n",
      "/home/hanliu/project/mouse_rostral_brain/dataset/5G-181008.mcds\n",
      "/home/hanliu/project/mouse_rostral_brain/dataset/1C-180208.mcds\n",
      "/home/hanliu/project/mouse_rostral_brain/dataset/5G-181009.mcds\n",
      "/home/hanliu/project/mouse_rostral_brain/dataset/1C-180212.mcds\n",
      "/home/hanliu/project/mouse_rostral_brain/dataset/5H-181015.mcds\n",
      "/home/hanliu/project/mouse_rostral_brain/dataset/2A-180122.mcds\n",
      "/home/hanliu/project/mouse_rostral_brain/dataset/5H-181016.mcds\n",
      "/home/hanliu/project/mouse_rostral_brain/dataset/2A-180123.mcds\n",
      "/home/hanliu/project/mouse_rostral_brain/dataset/5J-180904.mcds\n",
      "/home/hanliu/project/mouse_rostral_brain/dataset/2B-180305.mcds\n",
      "/home/hanliu/project/mouse_rostral_brain/dataset/5J-180910.mcds\n",
      "/home/hanliu/project/mouse_rostral_brain/dataset/2B-180306.mcds\n",
      "/home/hanliu/project/mouse_rostral_brain/dataset/5J-190207.mcds\n",
      "/home/hanliu/project/mouse_rostral_brain/dataset/2C-180409.mcds\n",
      "/home/hanliu/project/mouse_rostral_brain/dataset/6A-190108.mcds\n",
      "/home/hanliu/project/mouse_rostral_brain/dataset/2C-180410.mcds\n",
      "/home/hanliu/project/mouse_rostral_brain/dataset/6A-190117.mcds\n",
      "/home/hanliu/project/mouse_rostral_brain/dataset/2D-180313.mcds\n",
      "/home/hanliu/project/mouse_rostral_brain/dataset/6B-181022.mcds\n",
      "/home/hanliu/project/mouse_rostral_brain/dataset/2D-180319.mcds\n",
      "/home/hanliu/project/mouse_rostral_brain/dataset/6B-181023.mcds\n",
      "/home/hanliu/project/mouse_rostral_brain/dataset/2D-180403.mcds\n",
      "/home/hanliu/project/mouse_rostral_brain/dataset/6C-190122.mcds\n",
      "/home/hanliu/project/mouse_rostral_brain/dataset/2E-180220.mcds\n",
      "/home/hanliu/project/mouse_rostral_brain/dataset/6C-190124.mcds\n",
      "/home/hanliu/project/mouse_rostral_brain/dataset/2E-180222.mcds\n",
      "/home/hanliu/project/mouse_rostral_brain/dataset/6D-190131.mcds\n",
      "/home/hanliu/project/mouse_rostral_brain/dataset/3A-180129.mcds\n",
      "/home/hanliu/project/mouse_rostral_brain/dataset/6D-190205.mcds\n",
      "/home/hanliu/project/mouse_rostral_brain/dataset/3A-180130.mcds\n",
      "/home/hanliu/project/mouse_rostral_brain/dataset/7B-180423.mcds\n",
      "/home/hanliu/project/mouse_rostral_brain/dataset/3B-180312.mcds\n",
      "/home/hanliu/project/mouse_rostral_brain/dataset/7B-180424.mcds\n",
      "/home/hanliu/project/mouse_rostral_brain/dataset/3B-180501.mcds\n",
      "/home/hanliu/project/mouse_rostral_brain/dataset/8B-180426.mcds\n",
      "/home/hanliu/project/mouse_rostral_brain/dataset/3C-171206.mcds\n",
      "/home/hanliu/project/mouse_rostral_brain/dataset/8B-180430.mcds\n",
      "/home/hanliu/project/mouse_rostral_brain/dataset/3C-171207.mcds\n",
      "/home/hanliu/project/mouse_rostral_brain/dataset/9H-190212.mcds\n",
      "/home/hanliu/project/mouse_rostral_brain/dataset/3D-180412.mcds\n",
      "/home/hanliu/project/mouse_rostral_brain/dataset/9H-190219.mcds\n",
      "/home/hanliu/project/mouse_rostral_brain/dataset/3D-180416.mcds\n",
      "/home/hanliu/project/mouse_rostral_brain/dataset/9J-190212.mcds\n",
      "/home/hanliu/project/mouse_rostral_brain/dataset/3E-180320.mcds\n",
      "/home/hanliu/project/mouse_rostral_brain/dataset/9J-190219.mcds\n",
      "/home/hanliu/project/mouse_rostral_brain/dataset/3E-180326.mcds\n",
      "/home/hanliu/project/mouse_rostral_brain/dataset/11B-190314.mcds\n",
      "/home/hanliu/project/mouse_rostral_brain/dataset/3F-180109.mcds\n",
      "/home/hanliu/project/mouse_rostral_brain/dataset/11B-190325.mcds\n",
      "/home/hanliu/project/mouse_rostral_brain/dataset/3F-180405.mcds\n",
      "/home/hanliu/project/mouse_rostral_brain/dataset/12B-190314.mcds\n",
      "/home/hanliu/project/mouse_rostral_brain/dataset/4A-180205.mcds\n",
      "/home/hanliu/project/mouse_rostral_brain/dataset/12B-190325.mcds\n",
      "/home/hanliu/project/mouse_rostral_brain/dataset/4A-180206.mcds\n",
      "/home/hanliu/project/mouse_rostral_brain/dataset/9B-190326.mcds\n",
      "/home/hanliu/project/mouse_rostral_brain/dataset/4B-171212.mcds\n",
      "/home/hanliu/project/mouse_rostral_brain/dataset/9B-190404.mcds\n",
      "/home/hanliu/project/mouse_rostral_brain/dataset/4B-171213.mcds\n",
      "/home/hanliu/project/mouse_rostral_brain/dataset/9D-190326.mcds\n",
      "/home/hanliu/project/mouse_rostral_brain/dataset/4B-180104.mcds\n",
      "/home/hanliu/project/mouse_rostral_brain/dataset/9D-190404.mcds\n",
      "/home/hanliu/project/mouse_rostral_brain/dataset/4C-180417.mcds\n",
      "/home/hanliu/project/mouse_rostral_brain/dataset/10E-190625.mcds\n",
      "/home/hanliu/project/mouse_rostral_brain/dataset/4C-180419.mcds\n",
      "/home/hanliu/project/mouse_rostral_brain/dataset/10E-190627.mcds\n",
      "/home/hanliu/project/mouse_rostral_brain/dataset/4D-171214.mcds\n",
      "/home/hanliu/project/mouse_rostral_brain/dataset/10F-190625.mcds\n",
      "/home/hanliu/project/mouse_rostral_brain/dataset/4D-171219.mcds\n",
      "/home/hanliu/project/mouse_rostral_brain/dataset/10F-190627.mcds\n",
      "/home/hanliu/project/mouse_rostral_brain/dataset/4E-180110.mcds\n",
      "/home/hanliu/project/mouse_rostral_brain/dataset/10G-190423.mcds\n",
      "/home/hanliu/project/mouse_rostral_brain/dataset/4E-180111.mcds\n",
      "/home/hanliu/project/mouse_rostral_brain/dataset/10G-190523.mcds\n",
      "/home/hanliu/project/mouse_rostral_brain/dataset/4F-180329.mcds\n",
      "/home/hanliu/project/mouse_rostral_brain/dataset/8E-190711.mcds\n",
      "/home/hanliu/project/mouse_rostral_brain/dataset/4F-180402.mcds\n",
      "/home/hanliu/project/mouse_rostral_brain/dataset/8E-190716.mcds\n",
      "/home/hanliu/project/mouse_rostral_brain/dataset/4G-180917.mcds\n",
      "/home/hanliu/project/mouse_rostral_brain/dataset/8J-190711.mcds\n",
      "/home/hanliu/project/mouse_rostral_brain/dataset/4G-181204.mcds\n",
      "/home/hanliu/project/mouse_rostral_brain/dataset/8J-190716.mcds\n",
      "/home/hanliu/project/mouse_rostral_brain/dataset/4H-180724.mcds\n",
      "/home/hanliu/project/mouse_rostral_brain/dataset/5C-181002.mcds\n",
      "/home/hanliu/project/mouse_rostral_brain/dataset/10A-190423.mcds\n",
      "/home/hanliu/project/mouse_rostral_brain/dataset/5C-181210.mcds\n",
      "/home/hanliu/project/mouse_rostral_brain/dataset/10A-190525.mcds\n",
      "/home/hanliu/project/mouse_rostral_brain/dataset/5D-180605.mcds\n",
      "/home/hanliu/project/mouse_rostral_brain/dataset/10C-190411.mcds\n",
      "/home/hanliu/project/mouse_rostral_brain/dataset/5D-180612.mcds\n",
      "/home/hanliu/project/mouse_rostral_brain/dataset/10C-190418.mcds\n",
      "/home/hanliu/project/mouse_rostral_brain/dataset/5E-180925.mcds\n",
      "/home/hanliu/project/mouse_rostral_brain/dataset/11C-190530.mcds\n",
      "/home/hanliu/project/mouse_rostral_brain/dataset/5E-181206.mcds\n",
      "/home/hanliu/project/mouse_rostral_brain/dataset/11C-190620.mcds\n",
      "/home/hanliu/project/mouse_rostral_brain/dataset/7G-190702.mcds\n",
      "/home/hanliu/project/mouse_rostral_brain/dataset/7G-190709.mcds\n",
      "/home/hanliu/project/mouse_rostral_brain/dataset/8F-190718.mcds\n",
      "/home/hanliu/project/mouse_rostral_brain/dataset/8F-190723.mcds\n",
      "/home/hanliu/project/mouse_rostral_brain/dataset/9A-190702.mcds\n",
      "/home/hanliu/project/mouse_rostral_brain/dataset/9A-190709.mcds\n",
      "/home/hanliu/project/mouse_rostral_brain/dataset/9C-190530.mcds\n",
      "/home/hanliu/project/mouse_rostral_brain/dataset/9C-190620.mcds\n"
     ]
    }
   ],
   "source": [
    "import pathlib\n",
    "mcds_paths = [\n",
    "    str(i) for i in list(\n",
    "        pathlib.Path('/home/hanliu/project/mouse_rostral_brain/dataset/').glob(\n",
    "            '*.mcds'))[:-3]\n",
    "]\n",
    "\n",
    "\n",
    "def read_netcdfs(paths, dim):\n",
    "    # glob expands paths with * to a list of files, like the unix shell\n",
    "    datasets = []\n",
    "    for p in paths:\n",
    "        print(p)\n",
    "        ds = xr.open_dataset(p)\n",
    "        cells = ds.get_index('cell')\n",
    "        cells = cells[cells.isin(cell_tidy_data.index)]\n",
    "        if cells.size == 0:\n",
    "            continue\n",
    "        else:\n",
    "            datasets.append(ds.sel(cell=cells).load())\n",
    "    combined = xr.concat(datasets, dim)\n",
    "    return combined\n",
    "\n",
    "mcds = read_netcdfs(mcds_paths, dim='cell')"
   ]
  },
  {
   "cell_type": "code",
   "execution_count": 7,
   "metadata": {
    "ExecuteTime": {
     "end_time": "2020-03-11T20:42:12.516045Z",
     "start_time": "2020-03-11T20:42:12.490974Z"
    }
   },
   "outputs": [
    {
     "data": {
      "text/html": [
       "<pre>&lt;xarray.Dataset&gt;\n",
       "Dimensions:              (cell: 2638, chrom100k: 27269, count_type: 2, gene: 55487, mc_type: 2, strand_type: 1)\n",
       "Coordinates:\n",
       "    chrom100k_chrom      (chrom100k) object &#x27;chr1&#x27; &#x27;chr1&#x27; ... &#x27;chrY&#x27; &#x27;chrM&#x27;\n",
       "    chrom100k_bin_end    (chrom100k) int64 100000 200000 ... 91744698 16299\n",
       "    chrom100k_bin_start  (chrom100k) int64 0 100000 200000 ... 91700000 0\n",
       "    gene_start           (gene) int64 3073252 3102015 3205900 ... 15288 15355\n",
       "    gene_end             (gene) int64 3074321 3102124 3671497 ... 15354 15421\n",
       "    gene_chrom           (gene) object &#x27;chr1&#x27; &#x27;chr1&#x27; &#x27;chr1&#x27; ... &#x27;chrM&#x27; &#x27;chrM&#x27;\n",
       "  * gene                 (gene) object &#x27;ENSMUSG00000102693.1&#x27; ... &#x27;ENSMUSG00000064372.1&#x27;\n",
       "  * chrom100k            (chrom100k) int64 0 1 2 3 4 ... 27265 27266 27267 27268\n",
       "  * mc_type              (mc_type) object &#x27;CGN&#x27; &#x27;CHN&#x27;\n",
       "  * count_type           (count_type) object &#x27;mc&#x27; &#x27;cov&#x27;\n",
       "  * strand_type          (strand_type) object &#x27;both&#x27;\n",
       "  * cell                 (cell) object &#x27;11E_M_100&#x27; &#x27;11E_M_1184&#x27; ... &#x27;5D_M_2370&#x27;\n",
       "Data variables:\n",
       "    gene_da              (cell, gene, mc_type, strand_type, count_type) uint16 2 ... 0\n",
       "    chrom100k_da         (cell, chrom100k, mc_type, strand_type, count_type) uint16 0 ... 1401</pre>"
      ],
      "text/plain": [
       "<xarray.Dataset>\n",
       "Dimensions:              (cell: 2638, chrom100k: 27269, count_type: 2, gene: 55487, mc_type: 2, strand_type: 1)\n",
       "Coordinates:\n",
       "    chrom100k_chrom      (chrom100k) object 'chr1' 'chr1' ... 'chrY' 'chrM'\n",
       "    chrom100k_bin_end    (chrom100k) int64 100000 200000 ... 91744698 16299\n",
       "    chrom100k_bin_start  (chrom100k) int64 0 100000 200000 ... 91700000 0\n",
       "    gene_start           (gene) int64 3073252 3102015 3205900 ... 15288 15355\n",
       "    gene_end             (gene) int64 3074321 3102124 3671497 ... 15354 15421\n",
       "    gene_chrom           (gene) object 'chr1' 'chr1' 'chr1' ... 'chrM' 'chrM'\n",
       "  * gene                 (gene) object 'ENSMUSG00000102693.1' ... 'ENSMUSG00000064372.1'\n",
       "  * chrom100k            (chrom100k) int64 0 1 2 3 4 ... 27265 27266 27267 27268\n",
       "  * mc_type              (mc_type) object 'CGN' 'CHN'\n",
       "  * count_type           (count_type) object 'mc' 'cov'\n",
       "  * strand_type          (strand_type) object 'both'\n",
       "  * cell                 (cell) object '11E_M_100' '11E_M_1184' ... '5D_M_2370'\n",
       "Data variables:\n",
       "    gene_da              (cell, gene, mc_type, strand_type, count_type) uint16 2 ... 0\n",
       "    chrom100k_da         (cell, chrom100k, mc_type, strand_type, count_type) uint16 0 ... 1401"
      ]
     },
     "execution_count": 7,
     "metadata": {},
     "output_type": "execute_result"
    }
   ],
   "source": [
    "mcds"
   ]
  },
  {
   "cell_type": "code",
   "execution_count": 8,
   "metadata": {
    "ExecuteTime": {
     "end_time": "2020-03-11T20:42:28.553519Z",
     "start_time": "2020-03-11T20:42:26.496506Z"
    }
   },
   "outputs": [],
   "source": [
    "mcds.to_netcdf('PT-L5.mcds')"
   ]
  },
  {
   "cell_type": "code",
   "execution_count": 9,
   "metadata": {
    "ExecuteTime": {
     "end_time": "2020-03-11T20:42:30.447822Z",
     "start_time": "2020-03-11T20:42:30.265653Z"
    }
   },
   "outputs": [
    {
     "name": "stdout",
     "output_type": "stream",
     "text": [
      "/home/hanliu/project/mouse_rostral_brain/study/L5-PT_Integrate_with_RS2\r\n"
     ]
    }
   ],
   "source": [
    "!pwd"
   ]
  },
  {
   "cell_type": "code",
   "execution_count": null,
   "metadata": {},
   "outputs": [],
   "source": []
  },
  {
   "cell_type": "code",
   "execution_count": null,
   "metadata": {
    "scrolled": false
   },
   "outputs": [],
   "source": []
  },
  {
   "cell_type": "code",
   "execution_count": null,
   "metadata": {},
   "outputs": [],
   "source": []
  },
  {
   "cell_type": "code",
   "execution_count": null,
   "metadata": {},
   "outputs": [],
   "source": []
  },
  {
   "cell_type": "code",
   "execution_count": null,
   "metadata": {},
   "outputs": [],
   "source": []
  },
  {
   "cell_type": "code",
   "execution_count": null,
   "metadata": {},
   "outputs": [],
   "source": []
  },
  {
   "cell_type": "code",
   "execution_count": null,
   "metadata": {},
   "outputs": [],
   "source": []
  },
  {
   "cell_type": "code",
   "execution_count": null,
   "metadata": {},
   "outputs": [],
   "source": []
  }
 ],
 "metadata": {
  "hide_input": false,
  "kernelspec": {
   "display_name": "Python 3",
   "language": "python",
   "name": "python3"
  },
  "language_info": {
   "codemirror_mode": {
    "name": "ipython",
    "version": 3
   },
   "file_extension": ".py",
   "mimetype": "text/x-python",
   "name": "python",
   "nbconvert_exporter": "python",
   "pygments_lexer": "ipython3",
   "version": "3.7.3"
  },
  "toc": {
   "base_numbering": 1,
   "nav_menu": {},
   "number_sections": true,
   "sideBar": true,
   "skip_h1_title": true,
   "title_cell": "Table of Contents",
   "title_sidebar": "Contents",
   "toc_cell": false,
   "toc_position": {},
   "toc_section_display": true,
   "toc_window_display": true
  }
 },
 "nbformat": 4,
 "nbformat_minor": 2
}
