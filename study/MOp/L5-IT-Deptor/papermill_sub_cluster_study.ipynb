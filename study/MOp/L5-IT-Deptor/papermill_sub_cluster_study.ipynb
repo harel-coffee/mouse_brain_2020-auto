{
 "cells": [
  {
   "cell_type": "markdown",
   "metadata": {
    "toc": true
   },
   "source": [
    "<h1>Table of Contents<span class=\"tocSkip\"></span></h1>\n",
    "<div class=\"toc\"><ul class=\"toc-item\"><li><span><a href=\"#Prepare\" data-toc-modified-id=\"Prepare-1\"><span class=\"toc-item-num\">1&nbsp;&nbsp;</span>Prepare</a></span><ul class=\"toc-item\"><li><span><a href=\"#Create-Study-Dir\" data-toc-modified-id=\"Create-Study-Dir-1.1\"><span class=\"toc-item-num\">1.1&nbsp;&nbsp;</span>Create Study Dir</a></span></li><li><span><a href=\"#Select-Cells\" data-toc-modified-id=\"Select-Cells-1.2\"><span class=\"toc-item-num\">1.2&nbsp;&nbsp;</span>Select Cells</a></span></li></ul></li><li><span><a href=\"#Step-0-Cell-Basic-QC\" data-toc-modified-id=\"Step-0-Cell-Basic-QC-2\"><span class=\"toc-item-num\">2&nbsp;&nbsp;</span>Step 0 Cell Basic QC</a></span></li><li><span><a href=\"#Step-1-Prepare-Adata\" data-toc-modified-id=\"Step-1-Prepare-Adata-3\"><span class=\"toc-item-num\">3&nbsp;&nbsp;</span>Step 1 Prepare Adata</a></span></li><li><span><a href=\"#Step-2-Dimension-Reduction\" data-toc-modified-id=\"Step-2-Dimension-Reduction-4\"><span class=\"toc-item-num\">4&nbsp;&nbsp;</span>Step 2 Dimension Reduction</a></span></li><li><span><a href=\"#Step-3-Consensus-Clustering\" data-toc-modified-id=\"Step-3-Consensus-Clustering-5\"><span class=\"toc-item-num\">5&nbsp;&nbsp;</span>Step 3 Consensus Clustering</a></span></li><li><span><a href=\"#Step-4-Marker-Identification\" data-toc-modified-id=\"Step-4-Marker-Identification-6\"><span class=\"toc-item-num\">6&nbsp;&nbsp;</span>Step 4 Marker Identification</a></span></li><li><span><a href=\"#Step-5-Cluster-Manual-Annotation\" data-toc-modified-id=\"Step-5-Cluster-Manual-Annotation-7\"><span class=\"toc-item-num\">7&nbsp;&nbsp;</span>Step 5 Cluster Manual Annotation</a></span></li></ul></div>"
   ]
  },
  {
   "cell_type": "code",
   "execution_count": 1,
   "metadata": {
    "ExecuteTime": {
     "end_time": "2019-08-22T08:00:07.267820Z",
     "start_time": "2019-08-22T08:00:06.834368Z"
    }
   },
   "outputs": [],
   "source": [
    "from papermill import execute_notebook, PapermillExecutionError\n",
    "import pandas as pd\n",
    "import pathlib"
   ]
  },
  {
   "cell_type": "code",
   "execution_count": 2,
   "metadata": {
    "ExecuteTime": {
     "end_time": "2019-08-22T08:00:07.271787Z",
     "start_time": "2019-08-22T08:00:07.269562Z"
    }
   },
   "outputs": [],
   "source": [
    "cluster_name = 'L5-IT-Deptor'\n",
    "cluster_col_name = 'consensus_cluster_rescued_anno'\n",
    "regions = ['2C', '3C', '4B', '5D']"
   ]
  },
  {
   "cell_type": "code",
   "execution_count": 3,
   "metadata": {
    "ExecuteTime": {
     "end_time": "2019-08-22T08:00:07.275499Z",
     "start_time": "2019-08-22T08:00:07.273365Z"
    }
   },
   "outputs": [],
   "source": [
    "total_cell_meta = '/home/hanliu/project/mouse_rostral_brain/study/MOp/ALL/cell_tidy_data.final_annotation.msg'\n",
    "template_dir = '/home/hanliu/project/mouse_rostral_brain/study/ClusteringRecipe/'\n",
    "study_dir = f'/home/hanliu/project/mouse_rostral_brain/study/MOp/{cluster_name}'\n",
    "dataset_dir = '/home/hanliu/project/mouse_rostral_brain/dataset/'"
   ]
  },
  {
   "cell_type": "markdown",
   "metadata": {},
   "source": [
    "## Prepare"
   ]
  },
  {
   "cell_type": "markdown",
   "metadata": {},
   "source": [
    "### Create Study Dir"
   ]
  },
  {
   "cell_type": "code",
   "execution_count": 4,
   "metadata": {
    "ExecuteTime": {
     "end_time": "2019-08-22T08:00:08.333595Z",
     "start_time": "2019-08-22T08:00:08.312391Z"
    }
   },
   "outputs": [
    {
     "name": "stderr",
     "output_type": "stream",
     "text": [
      "/home/hanliu/miniconda3/envs/clustering/lib/python3.7/site-packages/IPython/core/interactiveshell.py:3326: FutureWarning: The read_msgpack is deprecated and will be removed in a future version.\n",
      "It is recommended to use pyarrow for on-the-wire transmission of pandas objects.\n",
      "  exec(code_obj, self.user_global_ns, self.user_ns)\n"
     ]
    }
   ],
   "source": [
    "total_cell_meta = pd.read_msgpack(total_cell_meta)\n",
    "study_dir = pathlib.Path(study_dir)\n",
    "study_dir.mkdir(exist_ok=True)\n",
    "dataset_dir = pathlib.Path(dataset_dir)\n",
    "template_dir = pathlib.Path(template_dir)"
   ]
  },
  {
   "cell_type": "code",
   "execution_count": 5,
   "metadata": {
    "ExecuteTime": {
     "end_time": "2019-08-22T08:00:08.644312Z",
     "start_time": "2019-08-22T08:00:08.640012Z"
    }
   },
   "outputs": [
    {
     "data": {
      "text/plain": [
       "Index(['AllcPath', 'CCC_Rate', 'CG_Rate', 'CG_RateAdj', 'CH_Rate',\n",
       "       'CH_RateAdj', 'FinalReads', 'InputReads', 'MappedReads', 'Region',\n",
       "       'index_name', 'uid', 'BamFilteringRate', 'MappingRate', 'Pos96',\n",
       "       'Plate', 'Col96', 'Row96', 'Col384', 'Row384', 'FACS_Date', 'Slice',\n",
       "       'PassFilter', 'leiden', 'pca_0', 'pca_1', 'umap_0', 'umap_1', 'tsne_0',\n",
       "       'tsne_1', 'consensus_cluster', 'consensus_cluster_rescued',\n",
       "       'consensus_cluster_rescued_anno'],\n",
       "      dtype='object')"
      ]
     },
     "execution_count": 5,
     "metadata": {},
     "output_type": "execute_result"
    }
   ],
   "source": [
    "total_cell_meta.columns"
   ]
  },
  {
   "cell_type": "code",
   "execution_count": 6,
   "metadata": {
    "ExecuteTime": {
     "end_time": "2019-08-22T08:00:09.003922Z",
     "start_time": "2019-08-22T08:00:08.998602Z"
    }
   },
   "outputs": [],
   "source": [
    "total_cell_meta = total_cell_meta.loc[:, [\n",
    "    'AllcPath', 'CCC_Rate', 'CG_Rate', 'CG_RateAdj', 'CH_Rate', 'CH_RateAdj',\n",
    "    'FinalReads', 'InputReads', 'MappedReads', 'Region', 'index_name', 'uid',\n",
    "    'BamFilteringRate', 'MappingRate', 'Pos96', 'Plate', 'Col96', 'Row96',\n",
    "    'Col384', 'Row384', 'FACS_Date', 'Slice', 'PassFilter', 'consensus_cluster_rescued_anno'\n",
    "]]"
   ]
  },
  {
   "cell_type": "code",
   "execution_count": 7,
   "metadata": {
    "ExecuteTime": {
     "end_time": "2019-08-22T08:00:09.432824Z",
     "start_time": "2019-08-22T08:00:09.427043Z"
    }
   },
   "outputs": [
    {
     "data": {
      "text/plain": [
       "L23-IT-Cux2     2057\n",
       "L6-CT-Foxp2     1622\n",
       "L4-IT-Rorb      1582\n",
       "L5-IT-Deptor     898\n",
       "L6-IT-Sulf1      881\n",
       "CGE-VipNdnf      625\n",
       "MGE-Sst          471\n",
       "MGE-Pvalb        460\n",
       "NonN             428\n",
       "L5-PT-Bcl6       354\n",
       "L6-NP-Tshz2      275\n",
       "L6b-Galnt10      141\n",
       "Outlier           82\n",
       "Name: consensus_cluster_rescued_anno, dtype: int64"
      ]
     },
     "execution_count": 7,
     "metadata": {},
     "output_type": "execute_result"
    }
   ],
   "source": [
    "total_cell_meta['consensus_cluster_rescued_anno'].value_counts()"
   ]
  },
  {
   "cell_type": "markdown",
   "metadata": {},
   "source": [
    "### Select Cells"
   ]
  },
  {
   "cell_type": "code",
   "execution_count": 8,
   "metadata": {
    "ExecuteTime": {
     "end_time": "2019-08-22T08:00:10.267826Z",
     "start_time": "2019-08-22T08:00:10.260759Z"
    }
   },
   "outputs": [
    {
     "name": "stderr",
     "output_type": "stream",
     "text": [
      "/home/hanliu/miniconda3/envs/clustering/lib/python3.7/site-packages/ipykernel_launcher.py:4: FutureWarning: to_msgpack is deprecated and will be removed in a future version.\n",
      "It is recommended to use pyarrow for on-the-wire transmission of pandas objects.\n",
      "  after removing the cwd from sys.path.\n"
     ]
    }
   ],
   "source": [
    "select_cell_meta = total_cell_meta[total_cell_meta[cluster_col_name] == cluster_name]\n",
    "\n",
    "cell_meta_path = study_dir / 'CellMetadata.msg'\n",
    "select_cell_meta.to_msgpack(cell_meta_path)"
   ]
  },
  {
   "cell_type": "code",
   "execution_count": 9,
   "metadata": {
    "ExecuteTime": {
     "end_time": "2019-08-22T08:00:10.714222Z",
     "start_time": "2019-08-22T08:00:10.711267Z"
    }
   },
   "outputs": [
    {
     "data": {
      "text/plain": [
       "PosixPath('/home/hanliu/project/mouse_rostral_brain/study/MOp/L5-IT-Deptor/CellMetadata.msg')"
      ]
     },
     "execution_count": 9,
     "metadata": {},
     "output_type": "execute_result"
    }
   ],
   "source": [
    "cell_meta_path"
   ]
  },
  {
   "cell_type": "markdown",
   "metadata": {},
   "source": [
    "## Step 0 Cell Basic QC"
   ]
  },
  {
   "cell_type": "code",
   "execution_count": 10,
   "metadata": {
    "ExecuteTime": {
     "end_time": "2019-08-22T08:00:12.220676Z",
     "start_time": "2019-08-22T08:00:12.217200Z"
    }
   },
   "outputs": [],
   "source": [
    "# 0-CellBasicQC.ipynb\n",
    "step_0_params = dict(\n",
    "    study_name=f'MOp-{cluster_name}',\n",
    "    cell_metadata_path=str(cell_meta_path),\n",
    ")"
   ]
  },
  {
   "cell_type": "code",
   "execution_count": 11,
   "metadata": {
    "ExecuteTime": {
     "end_time": "2019-08-22T08:00:18.434673Z",
     "start_time": "2019-08-22T08:00:12.596576Z"
    },
    "scrolled": false
   },
   "outputs": [
    {
     "data": {
      "application/vnd.jupyter.widget-view+json": {
       "model_id": "7bf8894c115d4a4e9ca28d72c3b970c7",
       "version_major": 2,
       "version_minor": 0
      },
      "text/plain": [
       "HBox(children=(IntProgress(value=0, max=28), HTML(value='')))"
      ]
     },
     "metadata": {},
     "output_type": "display_data"
    },
    {
     "name": "stdout",
     "output_type": "stream",
     "text": [
      "\n"
     ]
    }
   ],
   "source": [
    "input_path = template_dir / '0-CellBasicQC.ipynb'\n",
    "output_path = study_dir / '0-CellBasicQC.ipynb'\n",
    "execute_notebook(\n",
    "    str(input_path),\n",
    "    str(output_path),\n",
    "    parameters=step_0_params,\n",
    "    engine_name=None,\n",
    "    prepare_only=False,\n",
    "    kernel_name=None,\n",
    "    progress_bar=True,\n",
    "    log_output=False,\n",
    "    start_timeout=60,\n",
    "    report_mode=False,\n",
    "    cwd=str(study_dir))\n",
    "pass"
   ]
  },
  {
   "cell_type": "markdown",
   "metadata": {},
   "source": [
    "## Step 1 Prepare Adata"
   ]
  },
  {
   "cell_type": "code",
   "execution_count": 12,
   "metadata": {
    "ExecuteTime": {
     "end_time": "2019-08-22T08:00:18.441581Z",
     "start_time": "2019-08-22T08:00:18.436375Z"
    }
   },
   "outputs": [],
   "source": [
    "step_1_params = dict(\n",
    "    # parameters cell\n",
    "    in_memory=True,\n",
    "    dask_distribute=False,\n",
    "\n",
    "    # selected cell metadata path\n",
    "    cell_meta_path=str(study_dir / 'CellMetadata.AfterQC.msg'),\n",
    "\n",
    "    # mcds_path\n",
    "    mcds_path_list=[\n",
    "        str(i) for i in dataset_dir.glob('*mcds') if i.name.split('-')[0] in regions\n",
    "    ],\n",
    "    clustering_feature='chrom100k',  # usually 100kb chromosome bins or genes\n",
    "\n",
    "    # remove bad features\n",
    "    black_list_region=None,\n",
    "    exclude_chromosome=['chrY', 'chrM'],\n",
    "\n",
    "    # preprocess parameters\n",
    "    min_feature_cov=500,\n",
    "    max_feature_cov=3000,\n",
    "    ch_hvf_top=3000,\n",
    "    min_ch_hvf_mean=0.5,\n",
    "    max_ch_hvf_mean=2.5,\n",
    "    cg_hvf_top=3000,\n",
    "    min_cg_hvf_mean=0.5,\n",
    "    max_cg_hvf_mean=1.2)"
   ]
  },
  {
   "cell_type": "code",
   "execution_count": 13,
   "metadata": {
    "ExecuteTime": {
     "end_time": "2019-08-22T08:01:05.192055Z",
     "start_time": "2019-08-22T08:00:18.443122Z"
    }
   },
   "outputs": [
    {
     "data": {
      "application/vnd.jupyter.widget-view+json": {
       "model_id": "05ed80c5b2254ac4ae1b152650e55c45",
       "version_major": 2,
       "version_minor": 0
      },
      "text/plain": [
       "HBox(children=(IntProgress(value=0, max=41), HTML(value='')))"
      ]
     },
     "metadata": {},
     "output_type": "display_data"
    },
    {
     "name": "stdout",
     "output_type": "stream",
     "text": [
      "\n"
     ]
    }
   ],
   "source": [
    "input_path = template_dir / '1-PrepareAdata.ipynb'\n",
    "output_path = study_dir / '1-PrepareAdata.ipynb'\n",
    "execute_notebook(\n",
    "    str(input_path),\n",
    "    str(output_path),\n",
    "    parameters=step_1_params,\n",
    "    engine_name=None,\n",
    "    prepare_only=False,\n",
    "    kernel_name=None,\n",
    "    progress_bar=True,\n",
    "    log_output=False,\n",
    "    start_timeout=60,\n",
    "    report_mode=False,\n",
    "    cwd=str(study_dir))\n",
    "pass"
   ]
  },
  {
   "cell_type": "markdown",
   "metadata": {},
   "source": [
    "## Step 2 Dimension Reduction"
   ]
  },
  {
   "cell_type": "code",
   "execution_count": 14,
   "metadata": {
    "ExecuteTime": {
     "end_time": "2019-08-22T08:01:05.196757Z",
     "start_time": "2019-08-22T08:01:05.193632Z"
    }
   },
   "outputs": [],
   "source": [
    "step_2_params = dict(\n",
    "    ch_pc_components=30,\n",
    "    cg_pc_components=15,\n",
    "    pc_color_col=None,\n",
    "    batch_correction_col=None,\n",
    "    sigma=15,\n",
    "    alpha=0.1,\n",
    "    scanorama_k=25,\n",
    "    n_neighbors=25,\n",
    "    resolution=0.8,\n",
    "    perplexity=50,\n",
    "    metadata_category_cols=['Region'],\n",
    "    metadata_continue_cols=['CG_RateAdj', 'CH_RateAdj', 'FinalReads'])"
   ]
  },
  {
   "cell_type": "code",
   "execution_count": 15,
   "metadata": {
    "ExecuteTime": {
     "end_time": "2019-08-22T08:01:28.264267Z",
     "start_time": "2019-08-22T08:01:05.198030Z"
    }
   },
   "outputs": [
    {
     "data": {
      "application/vnd.jupyter.widget-view+json": {
       "model_id": "1caec4baf1cb40fcaa3431c20b5cef68",
       "version_major": 2,
       "version_minor": 0
      },
      "text/plain": [
       "HBox(children=(IntProgress(value=0, max=42), HTML(value='')))"
      ]
     },
     "metadata": {},
     "output_type": "display_data"
    },
    {
     "name": "stdout",
     "output_type": "stream",
     "text": [
      "\n"
     ]
    }
   ],
   "source": [
    "input_path = template_dir / '2-DimensionReduction.ipynb'\n",
    "output_path = study_dir / '2-DimensionReduction.ipynb'\n",
    "execute_notebook(\n",
    "    str(input_path),\n",
    "    str(output_path),\n",
    "    parameters=step_2_params,\n",
    "    engine_name=None,\n",
    "    prepare_only=False,\n",
    "    kernel_name=None,\n",
    "    progress_bar=True,\n",
    "    log_output=False,\n",
    "    start_timeout=60,\n",
    "    report_mode=False,\n",
    "    cwd=str(study_dir))\n",
    "pass"
   ]
  },
  {
   "cell_type": "markdown",
   "metadata": {},
   "source": [
    "## Step 3 Consensus Clustering"
   ]
  },
  {
   "cell_type": "code",
   "execution_count": 16,
   "metadata": {
    "ExecuteTime": {
     "end_time": "2019-08-22T08:01:28.269722Z",
     "start_time": "2019-08-22T08:01:28.265702Z"
    }
   },
   "outputs": [],
   "source": [
    "step_3_params = dict(\n",
    "    coord_base='umap',\n",
    "    n_jobs=40,\n",
    "\n",
    "    # cc.fit_predict\n",
    "    n_neighbors=25,\n",
    "    metric='euclidean',\n",
    "    neighbor_kwds=None,\n",
    "    leiden_repeats=200,\n",
    "    seed=1,\n",
    "    leiden_resolution=0.5,\n",
    "    leiden_kwds=None,\n",
    "    min_cluster_size=10,\n",
    "    min_cluster_portion=0.01,\n",
    "    min_samples=1,\n",
    "    epsilon='auto',\n",
    "    hdbscan_kwds=None,\n",
    "\n",
    "    # cc.supervise_training\n",
    "    x=None,\n",
    "    test_portion=0.1,\n",
    "    n_estimators=500,\n",
    "    n_splits=10,\n",
    "    fbeta=1,\n",
    "    average='weighted',\n",
    "    outlier_proba_cutoff=0.8,\n",
    "    confusion_merge_cutoff=0.2)"
   ]
  },
  {
   "cell_type": "code",
   "execution_count": null,
   "metadata": {
    "ExecuteTime": {
     "start_time": "2019-08-22T08:00:15.469Z"
    }
   },
   "outputs": [
    {
     "data": {
      "application/vnd.jupyter.widget-view+json": {
       "model_id": "d2f1d0e144694637bfe7580a3f6de117",
       "version_major": 2,
       "version_minor": 0
      },
      "text/plain": [
       "HBox(children=(IntProgress(value=0, max=31), HTML(value='')))"
      ]
     },
     "metadata": {},
     "output_type": "display_data"
    }
   ],
   "source": [
    "input_path = template_dir / '3-ConsensusClustering.ipynb'\n",
    "output_path = study_dir / '3-ConsensusClustering.ipynb'\n",
    "execute_notebook(\n",
    "    str(input_path),\n",
    "    str(output_path),\n",
    "    parameters=step_3_params,\n",
    "    engine_name=None,\n",
    "    prepare_only=False,\n",
    "    kernel_name=None,\n",
    "    progress_bar=True,\n",
    "    log_output=False,\n",
    "    start_timeout=60,\n",
    "    report_mode=False,\n",
    "    cwd=str(study_dir))\n",
    "pass"
   ]
  },
  {
   "cell_type": "markdown",
   "metadata": {},
   "source": [
    "## Step 4 Marker Identification"
   ]
  },
  {
   "cell_type": "code",
   "execution_count": null,
   "metadata": {
    "ExecuteTime": {
     "start_time": "2019-08-22T08:00:15.874Z"
    }
   },
   "outputs": [],
   "source": [
    "step_4_params = dict(\n",
    "    mc_type='CHN',\n",
    "    load=True,\n",
    "\n",
    "    # find marker gene\n",
    "    n_marker_genes=1000,\n",
    "    gene_score_cutoff=5,\n",
    "    abs_log_fold_change=1,\n",
    "    n_genes=10,\n",
    "    nrows=2,\n",
    "    coord_base='umap')"
   ]
  },
  {
   "cell_type": "code",
   "execution_count": null,
   "metadata": {
    "ExecuteTime": {
     "start_time": "2019-08-22T08:00:16.088Z"
    }
   },
   "outputs": [],
   "source": [
    "input_path = template_dir / '4-MarkerIdentification.ipynb'\n",
    "output_path = study_dir / '4-MarkerIdentification.ipynb'\n",
    "execute_notebook(\n",
    "    str(input_path),\n",
    "    str(output_path),\n",
    "    parameters=step_4_params,\n",
    "    engine_name=None,\n",
    "    prepare_only=False,\n",
    "    kernel_name=None,\n",
    "    progress_bar=True,\n",
    "    log_output=False,\n",
    "    start_timeout=60,\n",
    "    report_mode=False,\n",
    "    cwd=str(study_dir))\n",
    "pass"
   ]
  },
  {
   "cell_type": "markdown",
   "metadata": {},
   "source": [
    "## Step 5 Cluster Manual Annotation\n",
    "- Prepare Only"
   ]
  },
  {
   "cell_type": "code",
   "execution_count": null,
   "metadata": {
    "ExecuteTime": {
     "start_time": "2019-08-22T08:00:16.493Z"
    }
   },
   "outputs": [],
   "source": [
    "step_5_params = dict(load=False, mc_type='CHN', coord_base='umap')"
   ]
  },
  {
   "cell_type": "code",
   "execution_count": null,
   "metadata": {
    "ExecuteTime": {
     "start_time": "2019-08-22T08:00:16.695Z"
    }
   },
   "outputs": [],
   "source": [
    "input_path = template_dir / '5-ClusterManualAnnotation.ipynb'\n",
    "output_path = study_dir / '5-ClusterManualAnnotation.ipynb'\n",
    "execute_notebook(\n",
    "    str(input_path),\n",
    "    str(output_path),\n",
    "    parameters=step_5_params,\n",
    "    engine_name=None,\n",
    "    prepare_only=True,\n",
    "    kernel_name=None,\n",
    "    progress_bar=True,\n",
    "    log_output=False,\n",
    "    start_timeout=60,\n",
    "    report_mode=False,\n",
    "    cwd=str(study_dir))\n",
    "pass"
   ]
  },
  {
   "cell_type": "code",
   "execution_count": null,
   "metadata": {
    "ExecuteTime": {
     "start_time": "2019-08-22T08:00:16.909Z"
    }
   },
   "outputs": [],
   "source": [
    "%%javascript\n",
    "IPython.notebook.save_notebook()"
   ]
  },
  {
   "cell_type": "code",
   "execution_count": null,
   "metadata": {
    "ExecuteTime": {
     "start_time": "2019-08-22T08:00:17.449Z"
    }
   },
   "outputs": [],
   "source": [
    "import subprocess\n",
    "\n",
    "subprocess.run(['cp', 'papermill_sub_cluster_study.ipynb', str(study_dir / 'papermill_sub_cluster_study.ipynb')])"
   ]
  },
  {
   "cell_type": "code",
   "execution_count": null,
   "metadata": {},
   "outputs": [],
   "source": []
  },
  {
   "cell_type": "code",
   "execution_count": null,
   "metadata": {},
   "outputs": [],
   "source": []
  }
 ],
 "metadata": {
  "hide_input": false,
  "kernelspec": {
   "display_name": "Python 3",
   "language": "python",
   "name": "python3"
  },
  "language_info": {
   "codemirror_mode": {
    "name": "ipython",
    "version": 3
   },
   "file_extension": ".py",
   "mimetype": "text/x-python",
   "name": "python",
   "nbconvert_exporter": "python",
   "pygments_lexer": "ipython3",
   "version": "3.7.3"
  },
  "toc": {
   "base_numbering": 1,
   "nav_menu": {},
   "number_sections": true,
   "sideBar": true,
   "skip_h1_title": true,
   "title_cell": "Table of Contents",
   "title_sidebar": "Contents",
   "toc_cell": true,
   "toc_position": {},
   "toc_section_display": true,
   "toc_window_display": true
  }
 },
 "nbformat": 4,
 "nbformat_minor": 2
}
