{
 "cells": [
  {
   "cell_type": "code",
   "execution_count": 1,
   "metadata": {
    "ExecuteTime": {
     "end_time": "2020-01-09T04:03:54.634050Z",
     "start_time": "2020-01-09T04:03:54.271276Z"
    }
   },
   "outputs": [],
   "source": [
    "import pybedtools\n",
    "import pandas as pd\n",
    "import pathlib"
   ]
  },
  {
   "cell_type": "code",
   "execution_count": 2,
   "metadata": {
    "ExecuteTime": {
     "end_time": "2020-01-09T04:04:13.200365Z",
     "start_time": "2020-01-09T04:03:54.635941Z"
    }
   },
   "outputs": [],
   "source": [
    "major_beds = list(pathlib.Path('/home/hanliu/project/mouse_rostral_brain/DMR/MajorType/HypoBed/').glob('*DMS2.bed'))\n",
    "major_dict = {p.name.split('.')[0]: pd.read_csv(p, sep='\\t', header=None, index_col=3, \n",
    "                                                names=['chrom', 'start', 'end', 'MajorDMR']) \n",
    "              for p in major_beds}\n",
    "major_bed_dict = {k: pybedtools.BedTool.from_dataframe(v) for k, v in major_dict.items()}"
   ]
  },
  {
   "cell_type": "code",
   "execution_count": 3,
   "metadata": {
    "ExecuteTime": {
     "end_time": "2020-01-09T04:05:36.709677Z",
     "start_time": "2020-01-09T04:04:13.205609Z"
    }
   },
   "outputs": [],
   "source": [
    "sub_beds = list(pathlib.Path('/home/hanliu/project/mouse_rostral_brain/DMR/SubType/DMS2/HypoBed/').glob('*DMS2.bed'))\n",
    "sub_dict = {p.name.split('.')[0]: pd.read_csv(p, sep='\\t', header=None, index_col=3, \n",
    "                                                names=['chrom', 'start', 'end', 'SubDMR']) \n",
    "              for p in sub_beds}\n",
    "sub_bed_dict = {k: pybedtools.BedTool.from_dataframe(v) for k, v in sub_dict.items()}"
   ]
  },
  {
   "cell_type": "code",
   "execution_count": 47,
   "metadata": {
    "ExecuteTime": {
     "end_time": "2020-01-09T05:01:24.190745Z",
     "start_time": "2020-01-09T04:55:49.659302Z"
    },
    "scrolled": true
   },
   "outputs": [
    {
     "name": "stdout",
     "output_type": "stream",
     "text": [
      "CT-L6_Il1rap\n",
      "NP-L6_Cntnap5a\n",
      "CGE-Lamp5_Sorcs1\n",
      "CGE-Vip_Grm8\n",
      "LSX-Inh_Dock10\n",
      "CGE-Vip_Ccser1\n",
      "CGE-Vip_Ntng1\n",
      "ASC_cortex-olf\n",
      "MGE-Sst_Chodl\n",
      "IT-L6_Oxr1\n",
      "VLMC_Col4a1\n",
      "LSX-Inh_Lats2\n",
      "L6b_Kcnk2\n",
      "Chd7_Megf11\n",
      "MGE-Sst_Bmper\n",
      "CT-L6_Megf9\n",
      "Chd7_Kcnc2\n",
      "DG-po_Kctd8\n",
      "DG_dg-all\n",
      "NP-L6_Cyp7b1\n",
      "D1L-Fstl4_Crim1\n",
      "PT-L5_Tenm2\n",
      "Unc5c_Unc5c\n",
      "CGE-Lamp5_Grid1\n",
      "OLF-Exc_Pld5\n",
      "PT-L5_Tmtc2\n",
      "CLA_Cdh8\n",
      "CA3-St18_Tead1\n",
      "PAL-Inh_Meis2\n",
      "NP-L6_Boc\n",
      "IT-L23_Foxp1\n",
      "MGC_mgc-all\n",
      "Chd7_Trpc7\n",
      "LSX-Inh_Nxph1\n",
      "CA3-St18_Nuak1\n",
      "Gfra1_Gfra1\n",
      "MSN-D2_Nrp2\n",
      "PT-L5_Kcnh1\n",
      "LSX-Inh_Zeb2\n",
      "DG-po_Bcl11a\n",
      "L6b_Nrp2\n",
      "PAL-Inh_Tmem178\n",
      "PAL-Inh_Tcf7l2\n",
      "CT-L6_Hcrtr2\n",
      "OLF-Exc_Cdh9\n",
      "PT-L5_Abca12\n",
      "MSN-D1_Plxnc1\n",
      "D1L-Fstl4_Sipa1l2\n",
      "PAL-Inh_Chat\n",
      "PT-L5_Unc5b\n",
      "CLA_Nrp2\n",
      "MGE-Pvalb_Ptprk\n",
      "NP-L6_Cntnap4\n",
      "ODC_odc-small\n",
      "IG-CA2_Chrm3\n",
      "CGE-Vip_Clstn2\n",
      "PAL-Inh_Deptor\n",
      "OLF_Trpc4\n",
      "MGE-Pvalb_Entpd3\n",
      "OLF_Pag1\n",
      "EP_Tspan5\n",
      "CA3_Efnb2\n",
      "CA3_Cadm2\n",
      "CA1_Chrm3\n",
      "MGE-Sst_Ubtd1\n",
      "PT-L5_Plcb4\n",
      "CA1_Kif26a\n",
      "EP_Adcy8\n",
      "MGE-Pvalb_Thsd7a\n",
      "MSN-D2_Slc24a2\n",
      "MGE-Sst_Kcnip4\n",
      "MGE-Sst_Rxra\n",
      "LSX-Inh_Foxp2\n",
      "PAL-Inh_Onecut2\n",
      "LSX-Inh_Enox1\n",
      "CA1_Ptprg\n",
      "CGE-Vip_Ptprm\n",
      "OPC_opc-small\n",
      "L6b_Adcy8\n",
      "OLF_Gabbr2\n",
      "IT-L23_Tenm2\n",
      "PAL-Inh_Igdcc3\n",
      "MSN-D2_Casz1\n",
      "IT-L5_Etv1\n",
      "CA1_Lingo2\n",
      "PT-L5_Nectin1\n",
      "D1L-Fstl4_Grm3\n",
      "PT-L5_Astn2\n",
      "MGE-Sst_Dock4\n",
      "IT-L23_Ptprt\n",
      "MSN-D2_Col14a1\n",
      "OLF-Exc_Unc13c\n",
      "CT-L6_Map4\n",
      "IG-CA2_Xpr1\n",
      "VLMC_Mapk4\n",
      "ANP_anp-olf-cnu\n",
      "CLA_Bcl11a\n",
      "IT-L23_Cux1\n",
      "CGE-Lamp5_Nrxn3\n",
      "EC_Sema3g\n",
      "MGE-Sst_Rerg\n",
      "DG-po_Calb2\n",
      "MSN-D1_Ntn1\n",
      "MSN-D1_Hrh1\n",
      "MGE-Sst_Ptpre\n",
      "MGE-Sst_Frmd6\n",
      "MGE-Pvalb_Gfra2\n",
      "EP_Rgs8\n",
      "D1L-PAL_Flrt2\n",
      "VLMC-Pia_vlmc-pia-all\n",
      "IT-L6_Man1c1\n",
      "OLF-Exc_Sgcd\n",
      "OLF-Exc_Lrrtm3\n",
      "IT-L5_Grik3\n",
      "Foxp2_Homer2\n",
      "IT-L6_Fstl4\n",
      "MGE-Sst_Etv1\n",
      "D1L-Fstl4_Trps1\n",
      "MSN-D1_Khdrbs3\n",
      "MGE-Sst_Unc5b\n",
      "IT-L6_Cadps2\n",
      "LSX-Inh_Cacna1i\n",
      "Foxp2_Inpp4b\n",
      "NP-L6_Olfml2b\n",
      "MGE-Pvalb_Sema5a\n",
      "MGE-Pvalb_Cnih3\n",
      "Foxp2_Dchs2\n",
      "ASC_str-hpf\n",
      "CGE-Vip_Robo1\n",
      "OLF_Kcnd3\n",
      "CA3-St18_Epha5\n",
      "PT-L5_Ptprt\n",
      "CA1_Ak5\n",
      "CGE-Vip_Fstl4\n",
      "IT-L4_Astn2\n",
      "OLF-Exc_Cux2\n",
      "CGE-Lamp5_Dock5\n",
      "ASC_mid\n",
      "PAL-Inh_Meis1\n",
      "PAL-Inh_Ptprd\n",
      "CGE-Vip_Galnt17\n",
      "EC_Abhd2\n",
      "ODC_odc-large\n",
      "PAL-Inh_Rarb\n",
      "OLF-Exc_Rmst\n",
      "OPC_opc-large\n",
      "NP-L6_Kcnab1\n",
      "PC_pc-all\n",
      "MGE-Pvalb_Cacna1i\n",
      "OLF-Exc_Bmpr1b\n",
      "OLF_Mapk10\n",
      "Foxp2_Trpc7\n",
      "CGE-Lamp5_Grk5\n",
      "IT-L5_Cdh8\n",
      "IG-CA2_Peak1\n",
      "ANP_anp-dg\n",
      "OLF_Xkr6\n",
      "D1L-Fstl4_Cadm1\n",
      "IT-L4_Shc3\n",
      "D1L-PAL_Plcxd3\n",
      "L6b_Pkhd1\n"
     ]
    }
   ],
   "source": [
    "sub_type_records = {}\n",
    "for sub_type, sub_dmr in sub_dict.items():\n",
    "    print(sub_type)\n",
    "    major_type = sub_type.split('_')[0]\n",
    "    sub_bed = sub_bed_dict[sub_type]\n",
    "    major_bed = major_bed_dict[major_type]\n",
    "    sub_total = sub_dict[sub_type].shape[0]\n",
    "    sub_major = sub_bed.intersect(major_bed, wa=True, u=True).count()\n",
    "    major_total = major_dict[major_type].shape[0]\n",
    "    major_sub = major_bed.intersect(sub_bed, wa=True, u=True).count()\n",
    "    sub_type_records[sub_type] = [sub_major, sub_total, major_sub, major_total]"
   ]
  },
  {
   "cell_type": "code",
   "execution_count": 7,
   "metadata": {
    "ExecuteTime": {
     "end_time": "2020-01-09T04:06:54.470928Z",
     "start_time": "2020-01-09T04:06:52.069783Z"
    }
   },
   "outputs": [],
   "source": []
  },
  {
   "cell_type": "code",
   "execution_count": 12,
   "metadata": {
    "ExecuteTime": {
     "end_time": "2020-01-09T04:07:36.217507Z",
     "start_time": "2020-01-09T04:07:36.212600Z"
    }
   },
   "outputs": [
    {
     "data": {
      "text/plain": [
       "0.6620415001450727"
      ]
     },
     "execution_count": 12,
     "metadata": {},
     "output_type": "execute_result"
    }
   ],
   "source": []
  },
  {
   "cell_type": "code",
   "execution_count": 14,
   "metadata": {
    "ExecuteTime": {
     "end_time": "2020-01-09T04:07:43.978265Z",
     "start_time": "2020-01-09T04:07:43.973627Z"
    }
   },
   "outputs": [
    {
     "data": {
      "text/plain": [
       "0.7824677372557429"
      ]
     },
     "execution_count": 14,
     "metadata": {},
     "output_type": "execute_result"
    }
   ],
   "source": [
    "major_sub / major_total"
   ]
  },
  {
   "cell_type": "code",
   "execution_count": 36,
   "metadata": {
    "ExecuteTime": {
     "end_time": "2020-01-09T04:30:06.082322Z",
     "start_time": "2020-01-09T04:30:06.079400Z"
    }
   },
   "outputs": [],
   "source": [
    "major_bed = pybedtools.BedTool('/home/hanliu/project/mouse_rostral_brain/DMR/MajorType/MajorDMR.total.bed')\n",
    "sub_bed = pybedtools.BedTool('/home/hanliu/project/mouse_rostral_brain/DMR/SubType/SubDMR.total.bed')"
   ]
  },
  {
   "cell_type": "code",
   "execution_count": 16,
   "metadata": {
    "ExecuteTime": {
     "end_time": "2020-01-09T04:12:59.316522Z",
     "start_time": "2020-01-09T04:09:25.379627Z"
    }
   },
   "outputs": [],
   "source": [
    "major_total = major_bed.count()\n",
    "sub_total = sub_bed.count()\n",
    "sub_major = sub_bed.intersect(major_bed, wa=True, u=True).count()\n",
    "major_sub = major_bed.intersect(sub_bed, wa=True, u=True).count()\n"
   ]
  },
  {
   "cell_type": "code",
   "execution_count": 19,
   "metadata": {
    "ExecuteTime": {
     "end_time": "2020-01-09T04:13:44.718229Z",
     "start_time": "2020-01-09T04:13:44.714413Z"
    }
   },
   "outputs": [
    {
     "data": {
      "text/plain": [
       "(0.9646020491510789, 4554902, 4722053)"
      ]
     },
     "execution_count": 19,
     "metadata": {},
     "output_type": "execute_result"
    }
   ],
   "source": [
    "sub_major / sub_total, sub_major, sub_total"
   ]
  },
  {
   "cell_type": "code",
   "execution_count": 20,
   "metadata": {
    "ExecuteTime": {
     "end_time": "2020-01-09T04:13:52.233774Z",
     "start_time": "2020-01-09T04:13:52.230146Z"
    }
   },
   "outputs": [
    {
     "data": {
      "text/plain": [
       "(0.9850483999245878, 3944779, 4004655)"
      ]
     },
     "execution_count": 20,
     "metadata": {},
     "output_type": "execute_result"
    }
   ],
   "source": [
    "major_sub / major_total, major_sub, major_total"
   ]
  },
  {
   "cell_type": "code",
   "execution_count": 39,
   "metadata": {
    "ExecuteTime": {
     "end_time": "2020-01-09T04:30:54.859610Z",
     "start_time": "2020-01-09T04:30:50.125913Z"
    }
   },
   "outputs": [],
   "source": [
    "sub_bed = pd.read_csv('/home/hanliu/project/mouse_rostral_brain/DMR/SubType/SubDMR.total.bed',\n",
    "                      sep='\\t', header=None)\n",
    "(sub_bed[2] - sub_bed[1]).describe()"
   ]
  },
  {
   "cell_type": "code",
   "execution_count": 45,
   "metadata": {
    "ExecuteTime": {
     "end_time": "2020-01-09T04:50:17.529456Z",
     "start_time": "2020-01-09T04:50:17.505452Z"
    }
   },
   "outputs": [
    {
     "data": {
      "text/plain": [
       "0.27216137924145856"
      ]
     },
     "execution_count": 45,
     "metadata": {},
     "output_type": "execute_result"
    }
   ],
   "source": [
    "# total genome cover\n",
    "(sub_bed[2] - sub_bed[1]).sum() / 2494787188"
   ]
  },
  {
   "cell_type": "code",
   "execution_count": 40,
   "metadata": {
    "ExecuteTime": {
     "end_time": "2020-01-09T04:31:01.839125Z",
     "start_time": "2020-01-09T04:30:58.116196Z"
    }
   },
   "outputs": [],
   "source": [
    "major_bed = pd.read_csv('/home/hanliu/project/mouse_rostral_brain/DMR/MajorType/MajorDMR.total.bed',\n",
    "                      sep='\\t', header=None)"
   ]
  },
  {
   "cell_type": "code",
   "execution_count": 42,
   "metadata": {
    "ExecuteTime": {
     "end_time": "2020-01-09T04:31:21.836243Z",
     "start_time": "2020-01-09T04:31:21.574991Z"
    }
   },
   "outputs": [
    {
     "data": {
      "text/plain": [
       "count    4.004655e+06\n",
       "mean     1.767263e+02\n",
       "std      2.355750e+02\n",
       "min      0.000000e+00\n",
       "25%      0.000000e+00\n",
       "50%      9.800000e+01\n",
       "75%      2.590000e+02\n",
       "max      5.075000e+03\n",
       "dtype: float64"
      ]
     },
     "execution_count": 42,
     "metadata": {},
     "output_type": "execute_result"
    }
   ],
   "source": [
    "(major_bed[2] - major_bed[1]).describe()"
   ]
  },
  {
   "cell_type": "code",
   "execution_count": 46,
   "metadata": {
    "ExecuteTime": {
     "end_time": "2020-01-09T04:50:23.338693Z",
     "start_time": "2020-01-09T04:50:23.321355Z"
    }
   },
   "outputs": [
    {
     "data": {
      "text/plain": [
       "0.28368258318953654"
      ]
     },
     "execution_count": 46,
     "metadata": {},
     "output_type": "execute_result"
    }
   ],
   "source": [
    "# total genome cover\n",
    "(major_bed[2] - major_bed[1]).sum() / 2494787188"
   ]
  },
  {
   "cell_type": "code",
   "execution_count": null,
   "metadata": {},
   "outputs": [],
   "source": []
  }
 ],
 "metadata": {
  "hide_input": false,
  "kernelspec": {
   "display_name": "Python 3",
   "language": "python",
   "name": "python3"
  },
  "language_info": {
   "codemirror_mode": {
    "name": "ipython",
    "version": 3
   },
   "file_extension": ".py",
   "mimetype": "text/x-python",
   "name": "python",
   "nbconvert_exporter": "python",
   "pygments_lexer": "ipython3",
   "version": "3.7.3"
  },
  "toc": {
   "base_numbering": 1,
   "nav_menu": {},
   "number_sections": true,
   "sideBar": true,
   "skip_h1_title": true,
   "title_cell": "Table of Contents",
   "title_sidebar": "Contents",
   "toc_cell": false,
   "toc_position": {},
   "toc_section_display": true,
   "toc_window_display": true
  }
 },
 "nbformat": 4,
 "nbformat_minor": 2
}
