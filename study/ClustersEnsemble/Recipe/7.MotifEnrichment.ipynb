{
 "cells": [
  {
   "cell_type": "code",
   "execution_count": 27,
   "metadata": {
    "ExecuteTime": {
     "end_time": "2020-01-26T05:40:50.764293Z",
     "start_time": "2020-01-26T05:40:50.761558Z"
    }
   },
   "outputs": [],
   "source": [
    "from concurrent.futures import ProcessPoolExecutor, as_completed\n",
    "import json\n",
    "import anndata\n",
    "import matplotlib.pyplot as plt\n",
    "import numpy as np\n",
    "import pandas as pd\n",
    "import pybedtools\n",
    "import scipy.stats as stats\n",
    "import seaborn as sns\n",
    "import pathlib\n",
    "from statsmodels.stats.multitest import multipletests"
   ]
  },
  {
   "cell_type": "code",
   "execution_count": 28,
   "metadata": {
    "ExecuteTime": {
     "end_time": "2020-01-26T05:40:51.777703Z",
     "start_time": "2020-01-26T05:40:51.775748Z"
    },
    "tags": [
     "parameters"
    ]
   },
   "outputs": [],
   "source": [
    "or_cutoff = 1.6\n",
    "neg_lgp_cutoff = 2\n",
    "mask_quantile_to_max = 0.8\n",
    "\n",
    "gene_cluster = '0'"
   ]
  },
  {
   "cell_type": "code",
   "execution_count": 29,
   "metadata": {
    "ExecuteTime": {
     "end_time": "2020-01-26T05:40:51.945854Z",
     "start_time": "2020-01-26T05:40:51.943663Z"
    }
   },
   "outputs": [],
   "source": [
    "output_dir = 'MotifEnrichment'\n",
    "output_dir = pathlib.Path(output_dir)\n",
    "output_dir.mkdir(exist_ok=True)"
   ]
  },
  {
   "cell_type": "markdown",
   "metadata": {},
   "source": [
    "## DMR hits"
   ]
  },
  {
   "cell_type": "code",
   "execution_count": 3,
   "metadata": {
    "ExecuteTime": {
     "end_time": "2020-01-26T05:38:51.861457Z",
     "start_time": "2020-01-26T05:38:51.809913Z"
    }
   },
   "outputs": [],
   "source": [
    "with open('GeneCluster.relatedDMR.index.json') as f:\n",
    "    use_dmrs = json.load(f)[gene_cluster]"
   ]
  },
  {
   "cell_type": "code",
   "execution_count": 4,
   "metadata": {
    "ExecuteTime": {
     "end_time": "2020-01-26T05:38:52.294893Z",
     "start_time": "2020-01-26T05:38:51.862853Z"
    }
   },
   "outputs": [],
   "source": [
    "gene_clusters = anndata.read_h5ad('GeneClustering.h5ad').obs['leiden']\n",
    "use_genes = gene_clusters[gene_clusters == gene_cluster].index"
   ]
  },
  {
   "cell_type": "code",
   "execution_count": 5,
   "metadata": {
    "ExecuteTime": {
     "end_time": "2020-01-26T05:38:52.299378Z",
     "start_time": "2020-01-26T05:38:52.296267Z"
    }
   },
   "outputs": [
    {
     "name": "stdout",
     "output_type": "stream",
     "text": [
      "60 genes in gene cluster 0\n",
      "703 related DMRs\n"
     ]
    }
   ],
   "source": [
    "print(use_genes.size, 'genes in gene cluster', gene_cluster)\n",
    "print(len(use_dmrs), 'related DMRs')"
   ]
  },
  {
   "cell_type": "code",
   "execution_count": 6,
   "metadata": {
    "ExecuteTime": {
     "end_time": "2020-01-26T05:38:58.457228Z",
     "start_time": "2020-01-26T05:38:52.301294Z"
    }
   },
   "outputs": [
    {
     "data": {
      "text/plain": [
       "(703, 4)"
      ]
     },
     "execution_count": 6,
     "metadata": {},
     "output_type": "execute_result"
    }
   ],
   "source": [
    "with pd.HDFStore('/home/hanliu/project/mouse_rostral_brain/DMR/SubType/Total/DMRInfo.h5') as hdf:\n",
    "    dmr_bed_df = hdf['bed'].loc[use_dmrs].copy()\n",
    "dmr_bed_df.shape"
   ]
  },
  {
   "cell_type": "code",
   "execution_count": 7,
   "metadata": {
    "ExecuteTime": {
     "end_time": "2020-01-26T05:39:19.835898Z",
     "start_time": "2020-01-26T05:38:58.458824Z"
    }
   },
   "outputs": [],
   "source": [
    "dmr_annot = anndata.read_h5ad(\n",
    "    '/home/hanliu/project/mouse_rostral_brain/DMR/SubType/Total/MotifScan.h5ad'\n",
    ")\n",
    "# mask small motif scores\n",
    "motif_cutoff = pd.Series(dmr_annot.X.max(axis=0).todense().A1 * mask_quantile_to_max, index=dmr_annot.var_names)"
   ]
  },
  {
   "cell_type": "code",
   "execution_count": 8,
   "metadata": {
    "ExecuteTime": {
     "end_time": "2020-01-26T05:39:20.145052Z",
     "start_time": "2020-01-26T05:39:19.838566Z"
    }
   },
   "outputs": [
    {
     "data": {
      "text/plain": [
       "AnnData object with n_obs × n_vars = 703 × 719 \n",
       "    obs: 'chrom', 'start', 'end'"
      ]
     },
     "execution_count": 8,
     "metadata": {},
     "output_type": "execute_result"
    }
   ],
   "source": [
    "dmr_annot = dmr_annot[use_dmrs, :].copy()\n",
    "dmr_annot"
   ]
  },
  {
   "cell_type": "markdown",
   "metadata": {},
   "source": [
    "## Background Hits"
   ]
  },
  {
   "cell_type": "code",
   "execution_count": 9,
   "metadata": {
    "ExecuteTime": {
     "end_time": "2020-01-26T05:39:21.260309Z",
     "start_time": "2020-01-26T05:39:20.146266Z"
    }
   },
   "outputs": [],
   "source": [
    "background_motif_hits = anndata.read_h5ad(\n",
    "    '/home/hanliu/project/mouse_rostral_brain/DMR/BackgroundDMR/MotifScan.h5ad'\n",
    ")"
   ]
  },
  {
   "cell_type": "code",
   "execution_count": 10,
   "metadata": {
    "ExecuteTime": {
     "end_time": "2020-01-26T05:39:22.476462Z",
     "start_time": "2020-01-26T05:39:21.261657Z"
    }
   },
   "outputs": [],
   "source": [
    "dmr_bed = pybedtools.BedTool().from_dataframe(dmr_bed_df)\n",
    "bg_bed = pybedtools.BedTool().from_dataframe(\n",
    "    background_motif_hits.obs.reset_index().iloc[:, [1, 2, 3, 0]])"
   ]
  },
  {
   "cell_type": "code",
   "execution_count": 11,
   "metadata": {
    "ExecuteTime": {
     "end_time": "2020-01-26T05:39:23.984509Z",
     "start_time": "2020-01-26T05:39:22.477832Z"
    }
   },
   "outputs": [
    {
     "data": {
      "text/plain": [
       "AnnData object with n_obs × n_vars = 346752 × 719 \n",
       "    obs: 'chrom', 'start', 'end'"
      ]
     },
     "execution_count": 11,
     "metadata": {},
     "output_type": "execute_result"
    }
   ],
   "source": [
    "# exclude background that overlap with DMR\n",
    "bg_no_overlap = bg_bed.intersect(dmr_bed, v=True)\n",
    "use_bg = bg_no_overlap.to_dataframe().iloc[:, -1].values\n",
    "background_motif_hits = background_motif_hits[use_bg, :]\n",
    "\n",
    "# make sure col in same order\n",
    "background_motif_hits = background_motif_hits[:, dmr_annot.var_names].copy()\n",
    "background_motif_hits"
   ]
  },
  {
   "cell_type": "markdown",
   "metadata": {},
   "source": [
    "## Redo motif score filter"
   ]
  },
  {
   "cell_type": "code",
   "execution_count": 12,
   "metadata": {
    "ExecuteTime": {
     "end_time": "2020-01-26T05:39:23.996307Z",
     "start_time": "2020-01-26T05:39:23.986174Z"
    }
   },
   "outputs": [],
   "source": [
    "# only keep value larger than the cutoff for each motif\n",
    "dmr_annot.X = dmr_annot.X.multiply(\n",
    "    (dmr_annot.X >\n",
    "     motif_cutoff[dmr_annot.var_names].values[None, :]).astype(int)).tocsr()"
   ]
  },
  {
   "cell_type": "code",
   "execution_count": 13,
   "metadata": {
    "ExecuteTime": {
     "end_time": "2020-01-26T05:39:29.519631Z",
     "start_time": "2020-01-26T05:39:23.998021Z"
    }
   },
   "outputs": [],
   "source": [
    "# only keep value larger than the cutoff for each motif\n",
    "background_motif_hits.X = background_motif_hits.X.multiply(\n",
    "    (background_motif_hits.X >\n",
    "     motif_cutoff[background_motif_hits.var_names].values[None, :]).astype(int)).tocsr()"
   ]
  },
  {
   "cell_type": "markdown",
   "metadata": {},
   "source": [
    "## Motif hits contingency table"
   ]
  },
  {
   "cell_type": "code",
   "execution_count": 14,
   "metadata": {
    "ExecuteTime": {
     "end_time": "2020-01-26T05:39:29.838813Z",
     "start_time": "2020-01-26T05:39:29.521507Z"
    }
   },
   "outputs": [],
   "source": [
    "motif_ids = dmr_annot.var_names\n",
    "\n",
    "# calculate motif occurence, not considering hits here\n",
    "pos = (dmr_annot[:, motif_ids].X > 0).sum(axis=0)\n",
    "pos_total = dmr_annot.shape[0]\n",
    "\n",
    "neg = (background_motif_hits.X > 0).sum(axis=0)\n",
    "neg_total = background_motif_hits.shape[0]"
   ]
  },
  {
   "cell_type": "code",
   "execution_count": 15,
   "metadata": {
    "ExecuteTime": {
     "end_time": "2020-01-26T05:39:29.844971Z",
     "start_time": "2020-01-26T05:39:29.840374Z"
    },
    "scrolled": true
   },
   "outputs": [],
   "source": [
    "tables = {}\n",
    "for motif, _pos, _neg in zip(motif_ids, pos.A1, neg.A1):\n",
    "    table = [[_pos, pos_total - _pos], [_neg, neg_total - _neg]]\n",
    "    tables[motif] = table"
   ]
  },
  {
   "cell_type": "code",
   "execution_count": 16,
   "metadata": {
    "ExecuteTime": {
     "end_time": "2020-01-26T05:39:31.438243Z",
     "start_time": "2020-01-26T05:39:29.846363Z"
    }
   },
   "outputs": [],
   "source": [
    "results = {}\n",
    "with ProcessPoolExecutor(40) as executor:\n",
    "    fs = {}\n",
    "    for motif, t in tables.items():\n",
    "        f = executor.submit(stats.fisher_exact, t, alternative='greater')\n",
    "        fs[f] = motif\n",
    "\n",
    "    for f in as_completed(fs):\n",
    "        motif = fs[f]\n",
    "        odds, p = f.result()\n",
    "        results[motif] = {'oddsratio': odds, 'p_value': p}\n",
    "motif_enrich_df = pd.DataFrame(results).T\n",
    "\n",
    "_, p, _, _ = multipletests(motif_enrich_df['p_value'], method='fdr_bh')\n",
    "motif_enrich_df['adj_p'] = p\n",
    "\n",
    "motif_enrich_df['-lgp'] = -np.log10(motif_enrich_df['adj_p']).replace(\n",
    "    -np.inf, -300)\n",
    "\n",
    "records = {}\n",
    "for motif, t in tables.items():\n",
    "    tp, tn = t[0]\n",
    "    fp, fn = t[1]\n",
    "    tp_rate = tp / pos_total\n",
    "    fp_rate = fp / neg_total\n",
    "    records[motif] = dict(tp=tp,\n",
    "                          tn=tn,\n",
    "                          fp=fp,\n",
    "                          fn=fn,\n",
    "                          tp_rate=tp_rate,\n",
    "                          fp_rate=fp_rate)\n",
    "counts = pd.DataFrame(records).T\n",
    "motif_enrich_df = pd.concat([motif_enrich_df, counts], axis=1, sort=True)"
   ]
  },
  {
   "cell_type": "code",
   "execution_count": 17,
   "metadata": {
    "ExecuteTime": {
     "end_time": "2020-01-26T05:39:31.442900Z",
     "start_time": "2020-01-26T05:39:31.439825Z"
    }
   },
   "outputs": [],
   "source": [
    "motif_enrich_df['GeneCluster'] = gene_cluster\n",
    "motif_enrich_df['DMRType'] = 'Hypo'"
   ]
  },
  {
   "cell_type": "code",
   "execution_count": 18,
   "metadata": {
    "ExecuteTime": {
     "end_time": "2020-01-26T05:39:31.447983Z",
     "start_time": "2020-01-26T05:39:31.444254Z"
    }
   },
   "outputs": [],
   "source": [
    "motif_enrich_df = motif_enrich_df[motif_enrich_df['oddsratio'] > 1].copy()"
   ]
  },
  {
   "cell_type": "markdown",
   "metadata": {},
   "source": [
    "## Add gene info"
   ]
  },
  {
   "cell_type": "code",
   "execution_count": 19,
   "metadata": {
    "ExecuteTime": {
     "end_time": "2020-01-26T05:39:31.462006Z",
     "start_time": "2020-01-26T05:39:31.449161Z"
    }
   },
   "outputs": [
    {
     "data": {
      "text/html": [
       "<div>\n",
       "<style scoped>\n",
       "    .dataframe tbody tr th:only-of-type {\n",
       "        vertical-align: middle;\n",
       "    }\n",
       "\n",
       "    .dataframe tbody tr th {\n",
       "        vertical-align: top;\n",
       "    }\n",
       "\n",
       "    .dataframe thead th {\n",
       "        text-align: right;\n",
       "    }\n",
       "</style>\n",
       "<table border=\"1\" class=\"dataframe\">\n",
       "  <thead>\n",
       "    <tr style=\"text-align: right;\">\n",
       "      <th></th>\n",
       "      <th>motif_name</th>\n",
       "      <th>motif_genes</th>\n",
       "      <th>gene_ids</th>\n",
       "      <th>gene_names</th>\n",
       "      <th>motif_group</th>\n",
       "    </tr>\n",
       "    <tr>\n",
       "      <th>motif_uid</th>\n",
       "      <th></th>\n",
       "      <th></th>\n",
       "      <th></th>\n",
       "      <th></th>\n",
       "      <th></th>\n",
       "    </tr>\n",
       "  </thead>\n",
       "  <tbody>\n",
       "    <tr>\n",
       "      <th>MA0006.1</th>\n",
       "      <td>Ahr::Arnt</td>\n",
       "      <td>Ahr,Arnt</td>\n",
       "      <td>ENSMUSG00000019256.17,ENSMUSG00000015522.18</td>\n",
       "      <td>Ahr,Arnt</td>\n",
       "      <td>MotifGroup178</td>\n",
       "    </tr>\n",
       "    <tr>\n",
       "      <th>MA0854.1</th>\n",
       "      <td>Alx1</td>\n",
       "      <td>Alx1</td>\n",
       "      <td>ENSMUSG00000036602.14</td>\n",
       "      <td>Alx1</td>\n",
       "      <td>MotifGroup3</td>\n",
       "    </tr>\n",
       "    <tr>\n",
       "      <th>MA0634.1</th>\n",
       "      <td>ALX3</td>\n",
       "      <td>ALX3</td>\n",
       "      <td>ENSMUSG00000014603.3</td>\n",
       "      <td>Alx3</td>\n",
       "      <td>MotifGroup3</td>\n",
       "    </tr>\n",
       "    <tr>\n",
       "      <th>MA0853.1</th>\n",
       "      <td>Alx4</td>\n",
       "      <td>Alx4</td>\n",
       "      <td>ENSMUSG00000040310.12</td>\n",
       "      <td>Alx4</td>\n",
       "      <td>MotifGroup3</td>\n",
       "    </tr>\n",
       "    <tr>\n",
       "      <th>MA0007.3</th>\n",
       "      <td>Ar</td>\n",
       "      <td>Ar</td>\n",
       "      <td>ENSMUSG00000046532.8</td>\n",
       "      <td>Ar</td>\n",
       "      <td>MotifGroup32</td>\n",
       "    </tr>\n",
       "  </tbody>\n",
       "</table>\n",
       "</div>"
      ],
      "text/plain": [
       "          motif_name motif_genes                                     gene_ids  \\\n",
       "motif_uid                                                                       \n",
       "MA0006.1   Ahr::Arnt    Ahr,Arnt  ENSMUSG00000019256.17,ENSMUSG00000015522.18   \n",
       "MA0854.1        Alx1        Alx1                        ENSMUSG00000036602.14   \n",
       "MA0634.1        ALX3        ALX3                         ENSMUSG00000014603.3   \n",
       "MA0853.1        Alx4        Alx4                        ENSMUSG00000040310.12   \n",
       "MA0007.3          Ar          Ar                         ENSMUSG00000046532.8   \n",
       "\n",
       "          gene_names    motif_group  \n",
       "motif_uid                            \n",
       "MA0006.1    Ahr,Arnt  MotifGroup178  \n",
       "MA0854.1        Alx1    MotifGroup3  \n",
       "MA0634.1        Alx3    MotifGroup3  \n",
       "MA0853.1        Alx4    MotifGroup3  \n",
       "MA0007.3          Ar   MotifGroup32  "
      ]
     },
     "execution_count": 19,
     "metadata": {},
     "output_type": "execute_result"
    }
   ],
   "source": [
    "motif_gene_anno = pd.read_csv(\n",
    "    '/home/hanliu/project/mouse_rostral_brain/study/MotifClustering/JASPAR2020_CORE_vertebrates_non-redundant.mouse_genes.with_motif_group.199.csv', \n",
    "    index_col=0\n",
    ")\n",
    "motif_gene_anno.head()"
   ]
  },
  {
   "cell_type": "code",
   "execution_count": 20,
   "metadata": {
    "ExecuteTime": {
     "end_time": "2020-01-26T05:39:31.466132Z",
     "start_time": "2020-01-26T05:39:31.463146Z"
    }
   },
   "outputs": [],
   "source": [
    "motif_enrich_df = pd.concat([motif_enrich_df, motif_gene_anno.reindex(motif_enrich_df.index)], axis=1)"
   ]
  },
  {
   "cell_type": "code",
   "execution_count": 30,
   "metadata": {
    "ExecuteTime": {
     "end_time": "2020-01-26T05:41:01.352610Z",
     "start_time": "2020-01-26T05:41:01.349314Z"
    }
   },
   "outputs": [
    {
     "name": "stderr",
     "output_type": "stream",
     "text": [
      "/home/hanliu/miniconda3/envs/clustering/lib/python3.7/site-packages/ipykernel_launcher.py:1: FutureWarning: to_msgpack is deprecated and will be removed in a future version.\n",
      "It is recommended to use pyarrow for on-the-wire transmission of pandas objects.\n",
      "  \"\"\"Entry point for launching an IPython kernel.\n"
     ]
    }
   ],
   "source": [
    "motif_enrich_df.to_msgpack(output_dir / f'{gene_cluster}.Hypo.motif_enrichment.msg')"
   ]
  },
  {
   "cell_type": "code",
   "execution_count": 22,
   "metadata": {
    "ExecuteTime": {
     "end_time": "2020-01-26T05:39:31.478039Z",
     "start_time": "2020-01-26T05:39:31.473299Z"
    }
   },
   "outputs": [
    {
     "data": {
      "text/plain": [
       "8"
      ]
     },
     "execution_count": 22,
     "metadata": {},
     "output_type": "execute_result"
    }
   ],
   "source": [
    "# final filter\n",
    "filtered_motif_df = motif_enrich_df[(motif_enrich_df['oddsratio'] > or_cutoff)\n",
    "                                    &\n",
    "                                    (motif_enrich_df['-lgp'] > neg_lgp_cutoff)]\n",
    "filtered_motif_df.shape[0]"
   ]
  },
  {
   "cell_type": "code",
   "execution_count": 23,
   "metadata": {
    "ExecuteTime": {
     "end_time": "2020-01-26T05:39:31.492820Z",
     "start_time": "2020-01-26T05:39:31.479121Z"
    }
   },
   "outputs": [
    {
     "data": {
      "text/html": [
       "<div>\n",
       "<style scoped>\n",
       "    .dataframe tbody tr th:only-of-type {\n",
       "        vertical-align: middle;\n",
       "    }\n",
       "\n",
       "    .dataframe tbody tr th {\n",
       "        vertical-align: top;\n",
       "    }\n",
       "\n",
       "    .dataframe thead th {\n",
       "        text-align: right;\n",
       "    }\n",
       "</style>\n",
       "<table border=\"1\" class=\"dataframe\">\n",
       "  <thead>\n",
       "    <tr style=\"text-align: right;\">\n",
       "      <th></th>\n",
       "      <th>oddsratio</th>\n",
       "      <th>p_value</th>\n",
       "      <th>adj_p</th>\n",
       "      <th>-lgp</th>\n",
       "      <th>tp</th>\n",
       "      <th>tn</th>\n",
       "      <th>fp</th>\n",
       "      <th>fn</th>\n",
       "      <th>tp_rate</th>\n",
       "      <th>fp_rate</th>\n",
       "      <th>GeneCluster</th>\n",
       "      <th>DMRType</th>\n",
       "      <th>motif_name</th>\n",
       "      <th>motif_genes</th>\n",
       "      <th>gene_ids</th>\n",
       "      <th>gene_names</th>\n",
       "      <th>motif_group</th>\n",
       "    </tr>\n",
       "  </thead>\n",
       "  <tbody>\n",
       "    <tr>\n",
       "      <th>MA0631.1</th>\n",
       "      <td>21.781406</td>\n",
       "      <td>0.000005</td>\n",
       "      <td>0.000907</td>\n",
       "      <td>3.042374</td>\n",
       "      <td>5.0</td>\n",
       "      <td>698.0</td>\n",
       "      <td>114.0</td>\n",
       "      <td>346638.0</td>\n",
       "      <td>0.007112</td>\n",
       "      <td>0.000329</td>\n",
       "      <td>0</td>\n",
       "      <td>Hypo</td>\n",
       "      <td>Six3</td>\n",
       "      <td>Six3</td>\n",
       "      <td>ENSMUSG00000038805.10</td>\n",
       "      <td>Six3</td>\n",
       "      <td>MotifGroup93</td>\n",
       "    </tr>\n",
       "    <tr>\n",
       "      <th>MA0662.1</th>\n",
       "      <td>1.753441</td>\n",
       "      <td>0.000105</td>\n",
       "      <td>0.007518</td>\n",
       "      <td>2.123916</td>\n",
       "      <td>57.0</td>\n",
       "      <td>646.0</td>\n",
       "      <td>16613.0</td>\n",
       "      <td>330139.0</td>\n",
       "      <td>0.081081</td>\n",
       "      <td>0.047910</td>\n",
       "      <td>0</td>\n",
       "      <td>Hypo</td>\n",
       "      <td>MIXL1</td>\n",
       "      <td>MIXL1</td>\n",
       "      <td>ENSMUSG00000026497.7</td>\n",
       "      <td>Mixl1</td>\n",
       "      <td>MotifGroup3</td>\n",
       "    </tr>\n",
       "    <tr>\n",
       "      <th>MA0668.1</th>\n",
       "      <td>2.362828</td>\n",
       "      <td>0.000076</td>\n",
       "      <td>0.006062</td>\n",
       "      <td>2.217383</td>\n",
       "      <td>27.0</td>\n",
       "      <td>676.0</td>\n",
       "      <td>5764.0</td>\n",
       "      <td>340988.0</td>\n",
       "      <td>0.038407</td>\n",
       "      <td>0.016623</td>\n",
       "      <td>0</td>\n",
       "      <td>Hypo</td>\n",
       "      <td>NEUROD2</td>\n",
       "      <td>NEUROD2</td>\n",
       "      <td>ENSMUSG00000038255.6</td>\n",
       "      <td>Neurod2</td>\n",
       "      <td>MotifGroup5</td>\n",
       "    </tr>\n",
       "    <tr>\n",
       "      <th>MA0675.1</th>\n",
       "      <td>1.784470</td>\n",
       "      <td>0.000003</td>\n",
       "      <td>0.000907</td>\n",
       "      <td>3.042374</td>\n",
       "      <td>83.0</td>\n",
       "      <td>620.0</td>\n",
       "      <td>24198.0</td>\n",
       "      <td>322554.0</td>\n",
       "      <td>0.118065</td>\n",
       "      <td>0.069785</td>\n",
       "      <td>0</td>\n",
       "      <td>Hypo</td>\n",
       "      <td>NKX6-2</td>\n",
       "      <td>NKX6-2</td>\n",
       "      <td>ENSMUSG00000041309.17</td>\n",
       "      <td>Nkx6-2</td>\n",
       "      <td>MotifGroup3</td>\n",
       "    </tr>\n",
       "    <tr>\n",
       "      <th>MA0707.1</th>\n",
       "      <td>1.794309</td>\n",
       "      <td>0.000001</td>\n",
       "      <td>0.000907</td>\n",
       "      <td>3.042374</td>\n",
       "      <td>87.0</td>\n",
       "      <td>616.0</td>\n",
       "      <td>25302.0</td>\n",
       "      <td>321450.0</td>\n",
       "      <td>0.123755</td>\n",
       "      <td>0.072969</td>\n",
       "      <td>0</td>\n",
       "      <td>Hypo</td>\n",
       "      <td>MNX1</td>\n",
       "      <td>MNX1</td>\n",
       "      <td>ENSMUSG00000001566.9</td>\n",
       "      <td>Mnx1</td>\n",
       "      <td>MotifGroup3</td>\n",
       "    </tr>\n",
       "    <tr>\n",
       "      <th>MA0718.1</th>\n",
       "      <td>1.769509</td>\n",
       "      <td>0.000074</td>\n",
       "      <td>0.006062</td>\n",
       "      <td>2.217383</td>\n",
       "      <td>58.0</td>\n",
       "      <td>645.0</td>\n",
       "      <td>16769.0</td>\n",
       "      <td>329983.0</td>\n",
       "      <td>0.082504</td>\n",
       "      <td>0.048360</td>\n",
       "      <td>0</td>\n",
       "      <td>Hypo</td>\n",
       "      <td>RAX</td>\n",
       "      <td>RAX</td>\n",
       "      <td>ENSMUSG00000024518.4</td>\n",
       "      <td>Rax</td>\n",
       "      <td>MotifGroup3</td>\n",
       "    </tr>\n",
       "    <tr>\n",
       "      <th>MA0797.1</th>\n",
       "      <td>8.978211</td>\n",
       "      <td>0.000019</td>\n",
       "      <td>0.002314</td>\n",
       "      <td>2.635578</td>\n",
       "      <td>7.0</td>\n",
       "      <td>696.0</td>\n",
       "      <td>388.0</td>\n",
       "      <td>346364.0</td>\n",
       "      <td>0.009957</td>\n",
       "      <td>0.001119</td>\n",
       "      <td>0</td>\n",
       "      <td>Hypo</td>\n",
       "      <td>TGIF2</td>\n",
       "      <td>TGIF2</td>\n",
       "      <td>ENSMUSG00000062175.13</td>\n",
       "      <td>Tgif2</td>\n",
       "      <td>MotifGroup69</td>\n",
       "    </tr>\n",
       "    <tr>\n",
       "      <th>MA1571.1</th>\n",
       "      <td>6.001521</td>\n",
       "      <td>0.000004</td>\n",
       "      <td>0.000907</td>\n",
       "      <td>3.042374</td>\n",
       "      <td>11.0</td>\n",
       "      <td>692.0</td>\n",
       "      <td>916.0</td>\n",
       "      <td>345836.0</td>\n",
       "      <td>0.015647</td>\n",
       "      <td>0.002642</td>\n",
       "      <td>0</td>\n",
       "      <td>Hypo</td>\n",
       "      <td>TGIF2LX</td>\n",
       "      <td>TGIF2LX</td>\n",
       "      <td>ENSMUSG00000100133.1</td>\n",
       "      <td>Tgif2lx1</td>\n",
       "      <td>MotifGroup69</td>\n",
       "    </tr>\n",
       "  </tbody>\n",
       "</table>\n",
       "</div>"
      ],
      "text/plain": [
       "          oddsratio   p_value     adj_p      -lgp    tp     tn       fp  \\\n",
       "MA0631.1  21.781406  0.000005  0.000907  3.042374   5.0  698.0    114.0   \n",
       "MA0662.1   1.753441  0.000105  0.007518  2.123916  57.0  646.0  16613.0   \n",
       "MA0668.1   2.362828  0.000076  0.006062  2.217383  27.0  676.0   5764.0   \n",
       "MA0675.1   1.784470  0.000003  0.000907  3.042374  83.0  620.0  24198.0   \n",
       "MA0707.1   1.794309  0.000001  0.000907  3.042374  87.0  616.0  25302.0   \n",
       "MA0718.1   1.769509  0.000074  0.006062  2.217383  58.0  645.0  16769.0   \n",
       "MA0797.1   8.978211  0.000019  0.002314  2.635578   7.0  696.0    388.0   \n",
       "MA1571.1   6.001521  0.000004  0.000907  3.042374  11.0  692.0    916.0   \n",
       "\n",
       "                fn   tp_rate   fp_rate GeneCluster DMRType motif_name  \\\n",
       "MA0631.1  346638.0  0.007112  0.000329           0    Hypo       Six3   \n",
       "MA0662.1  330139.0  0.081081  0.047910           0    Hypo      MIXL1   \n",
       "MA0668.1  340988.0  0.038407  0.016623           0    Hypo    NEUROD2   \n",
       "MA0675.1  322554.0  0.118065  0.069785           0    Hypo     NKX6-2   \n",
       "MA0707.1  321450.0  0.123755  0.072969           0    Hypo       MNX1   \n",
       "MA0718.1  329983.0  0.082504  0.048360           0    Hypo        RAX   \n",
       "MA0797.1  346364.0  0.009957  0.001119           0    Hypo      TGIF2   \n",
       "MA1571.1  345836.0  0.015647  0.002642           0    Hypo    TGIF2LX   \n",
       "\n",
       "         motif_genes               gene_ids gene_names   motif_group  \n",
       "MA0631.1        Six3  ENSMUSG00000038805.10       Six3  MotifGroup93  \n",
       "MA0662.1       MIXL1   ENSMUSG00000026497.7      Mixl1   MotifGroup3  \n",
       "MA0668.1     NEUROD2   ENSMUSG00000038255.6    Neurod2   MotifGroup5  \n",
       "MA0675.1      NKX6-2  ENSMUSG00000041309.17     Nkx6-2   MotifGroup3  \n",
       "MA0707.1        MNX1   ENSMUSG00000001566.9       Mnx1   MotifGroup3  \n",
       "MA0718.1         RAX   ENSMUSG00000024518.4        Rax   MotifGroup3  \n",
       "MA0797.1       TGIF2  ENSMUSG00000062175.13      Tgif2  MotifGroup69  \n",
       "MA1571.1     TGIF2LX   ENSMUSG00000100133.1   Tgif2lx1  MotifGroup69  "
      ]
     },
     "execution_count": 23,
     "metadata": {},
     "output_type": "execute_result"
    }
   ],
   "source": [
    "filtered_motif_df"
   ]
  },
  {
   "cell_type": "code",
   "execution_count": null,
   "metadata": {},
   "outputs": [],
   "source": []
  }
 ],
 "metadata": {
  "hide_input": false,
  "kernelspec": {
   "display_name": "Python 3",
   "language": "python",
   "name": "python3"
  },
  "language_info": {
   "codemirror_mode": {
    "name": "ipython",
    "version": 3
   },
   "file_extension": ".py",
   "mimetype": "text/x-python",
   "name": "python",
   "nbconvert_exporter": "python",
   "pygments_lexer": "ipython3",
   "version": "3.7.3"
  },
  "toc": {
   "base_numbering": 1,
   "nav_menu": {},
   "number_sections": true,
   "sideBar": true,
   "skip_h1_title": true,
   "title_cell": "Table of Contents",
   "title_sidebar": "Contents",
   "toc_cell": false,
   "toc_position": {},
   "toc_section_display": true,
   "toc_window_display": true
  }
 },
 "nbformat": 4,
 "nbformat_minor": 2
}
