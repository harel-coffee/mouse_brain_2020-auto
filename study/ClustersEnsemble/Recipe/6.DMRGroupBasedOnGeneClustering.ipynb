{
 "cells": [
  {
   "cell_type": "code",
   "execution_count": 1,
   "metadata": {
    "ExecuteTime": {
     "end_time": "2020-01-26T05:29:16.749415Z",
     "start_time": "2020-01-26T05:29:16.541873Z"
    }
   },
   "outputs": [],
   "source": [
    "import pandas as pd\n",
    "import numpy as np\n",
    "import anndata\n",
    "import json\n",
    "from collections import defaultdict"
   ]
  },
  {
   "cell_type": "code",
   "execution_count": 2,
   "metadata": {
    "ExecuteTime": {
     "end_time": "2020-01-26T05:29:17.839829Z",
     "start_time": "2020-01-26T05:29:17.370462Z"
    }
   },
   "outputs": [],
   "source": [
    "gene_clusters = anndata.read_h5ad('GeneClustering.h5ad')\n",
    "gene_clusters = gene_clusters.obs['leiden']"
   ]
  },
  {
   "cell_type": "code",
   "execution_count": 3,
   "metadata": {
    "ExecuteTime": {
     "end_time": "2020-01-26T05:29:18.392533Z",
     "start_time": "2020-01-26T05:29:18.115665Z"
    }
   },
   "outputs": [
    {
     "name": "stderr",
     "output_type": "stream",
     "text": [
      "/home/hanliu/miniconda3/envs/clustering/lib/python3.7/site-packages/IPython/core/interactiveshell.py:3326: FutureWarning: The read_msgpack is deprecated and will be removed in a future version.\n",
      "It is recommended to use pyarrow for on-the-wire transmission of pandas objects.\n",
      "  exec(code_obj, self.user_global_ns, self.user_ns)\n"
     ]
    }
   ],
   "source": [
    "total_corr = pd.read_msgpack('RelatedCorr.msg')"
   ]
  },
  {
   "cell_type": "code",
   "execution_count": 4,
   "metadata": {
    "ExecuteTime": {
     "end_time": "2020-01-26T05:29:22.345089Z",
     "start_time": "2020-01-26T05:29:18.394069Z"
    }
   },
   "outputs": [],
   "source": [
    "dmr_records = []\n",
    "with pd.HDFStore('FinalDMGDMR.h5') as f:\n",
    "    for k in f.keys():\n",
    "        if k.endswith('Corr'):\n",
    "            corr_index = f[k]\n",
    "        else:\n",
    "            continue\n",
    "        this_corr = total_corr.loc[corr_index].copy()\n",
    "        this_corr['gene_cluster'] = this_corr['Gene'].map(gene_clusters)\n",
    "        dmr_records.append(this_corr[['DMR', 'gene_cluster']])\n",
    "dmr_records = pd.concat(dmr_records).reset_index(drop=True).drop_duplicates()"
   ]
  },
  {
   "cell_type": "code",
   "execution_count": 5,
   "metadata": {
    "ExecuteTime": {
     "end_time": "2020-01-26T05:29:22.440148Z",
     "start_time": "2020-01-26T05:29:22.346844Z"
    }
   },
   "outputs": [],
   "source": [
    "cluster_dmr_index = dmr_records.groupby('gene_cluster').apply(lambda i: i['DMR'].tolist()).to_dict()"
   ]
  },
  {
   "cell_type": "code",
   "execution_count": 8,
   "metadata": {
    "ExecuteTime": {
     "end_time": "2020-01-26T05:31:36.263520Z",
     "start_time": "2020-01-26T05:31:36.085232Z"
    }
   },
   "outputs": [],
   "source": [
    "with open('GeneCluster.relatedDMR.index.json', 'w') as f:\n",
    "    json.dump(cluster_dmr_index, f)"
   ]
  },
  {
   "cell_type": "code",
   "execution_count": null,
   "metadata": {},
   "outputs": [],
   "source": [
    "for cluster, dmrs in cluster_dmr_index.items():\n",
    "    print(f'Cluster {cluster}', len(dmrs), sep='\\t')"
   ]
  },
  {
   "cell_type": "code",
   "execution_count": null,
   "metadata": {},
   "outputs": [],
   "source": []
  },
  {
   "cell_type": "code",
   "execution_count": null,
   "metadata": {},
   "outputs": [],
   "source": []
  },
  {
   "cell_type": "code",
   "execution_count": null,
   "metadata": {},
   "outputs": [],
   "source": []
  },
  {
   "cell_type": "code",
   "execution_count": null,
   "metadata": {},
   "outputs": [],
   "source": []
  },
  {
   "cell_type": "code",
   "execution_count": null,
   "metadata": {},
   "outputs": [],
   "source": []
  },
  {
   "cell_type": "code",
   "execution_count": null,
   "metadata": {},
   "outputs": [],
   "source": []
  }
 ],
 "metadata": {
  "hide_input": false,
  "kernelspec": {
   "display_name": "Python 3",
   "language": "python",
   "name": "python3"
  },
  "language_info": {
   "codemirror_mode": {
    "name": "ipython",
    "version": 3
   },
   "file_extension": ".py",
   "mimetype": "text/x-python",
   "name": "python",
   "nbconvert_exporter": "python",
   "pygments_lexer": "ipython3",
   "version": "3.7.3"
  },
  "toc": {
   "base_numbering": 1,
   "nav_menu": {},
   "number_sections": true,
   "sideBar": true,
   "skip_h1_title": true,
   "title_cell": "Table of Contents",
   "title_sidebar": "Contents",
   "toc_cell": false,
   "toc_position": {},
   "toc_section_display": true,
   "toc_window_display": true
  }
 },
 "nbformat": 4,
 "nbformat_minor": 2
}
