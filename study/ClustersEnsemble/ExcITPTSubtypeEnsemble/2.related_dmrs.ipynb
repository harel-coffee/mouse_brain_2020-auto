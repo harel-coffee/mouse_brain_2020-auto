{
 "cells": [
  {
   "cell_type": "code",
   "execution_count": 1,
   "metadata": {
    "ExecuteTime": {
     "end_time": "2020-01-26T04:07:52.163773Z",
     "start_time": "2020-01-26T04:07:51.973426Z"
    },
    "papermill": {
     "duration": 0.201144,
     "end_time": "2020-01-27T03:45:22.889076",
     "exception": false,
     "start_time": "2020-01-27T03:45:22.687932",
     "status": "completed"
    },
    "tags": []
   },
   "outputs": [],
   "source": [
    "import pandas as pd\n",
    "import anndata"
   ]
  },
  {
   "cell_type": "markdown",
   "metadata": {
    "papermill": {
     "duration": 0.007371,
     "end_time": "2020-01-27T03:45:22.905386",
     "exception": false,
     "start_time": "2020-01-27T03:45:22.898015",
     "status": "completed"
    },
    "tags": []
   },
   "source": [
    "## Parameters"
   ]
  },
  {
   "cell_type": "code",
   "execution_count": 2,
   "metadata": {
    "ExecuteTime": {
     "end_time": "2020-01-26T04:07:52.585971Z",
     "start_time": "2020-01-26T04:07:52.583303Z"
    },
    "papermill": {
     "duration": 0.012707,
     "end_time": "2020-01-27T03:45:22.925396",
     "exception": false,
     "start_time": "2020-01-27T03:45:22.912689",
     "status": "completed"
    },
    "tags": [
     "parameters"
    ]
   },
   "outputs": [],
   "source": [
    "use_clusters = [\n",
    "    'CA1_Ak5', 'CA1_Chrm3', 'CA1_Kif26a', 'CA1_Ptprg',\n",
    "    'CA3_Cadm2', 'CA3_Efnb2', 'CA3-St18_Epha5', 'CA3-St18_Nuak1',\n",
    "    'CA3-St18_Tead1', 'DG_dg-all', 'DG-po_Bcl11a', 'DG-po_Calb2',\n",
    "    'DG-po_Kctd8', 'Gfra1_Gfra1', 'IG-CA2_Chrm3', 'IG-CA2_Peak1', 'IG-CA2_Xpr1'\n",
    "]\n",
    "hypo_dmr_hits_path = '/home/hanliu/project/mouse_rostral_brain/DMR/SubType/Total/TotalHits.HypoDMR.h5ad'\n",
    "# 'CA1_Lingo2' not include, because it co-cluster with RHP, probably an incomplete cluster"
   ]
  },
  {
   "cell_type": "code",
   "execution_count": 3,
   "metadata": {
    "papermill": {
     "duration": 0.013374,
     "end_time": "2020-01-27T03:45:22.946001",
     "exception": false,
     "start_time": "2020-01-27T03:45:22.932627",
     "status": "completed"
    },
    "tags": [
     "injected-parameters"
    ]
   },
   "outputs": [],
   "source": [
    "# Parameters\n",
    "use_clusters = [\"CLA_Bcl11a\", \"CLA_Cdh8\", \"CLA_Nrp2\", \"EP_Adcy8\", \"EP_Rgs8\", \"EP_Tspan5\", \"IT-L23_Cux1\", \"IT-L23_Foxp1\", \"IT-L23_Ptprt\", \"IT-L23_Tenm2\", \"IT-L4_Astn2\", \"IT-L4_Shc3\", \"IT-L5_Cdh8\", \"IT-L5_Etv1\", \"IT-L5_Grik3\", \"IT-L6_Cadps2\", \"IT-L6_Fstl4\", \"IT-L6_Man1c1\", \"IT-L6_Oxr1\", \"PT-L5_Abca12\", \"PT-L5_Astn2\", \"PT-L5_Kcnh1\", \"PT-L5_Nectin1\", \"PT-L5_Plcb4\", \"PT-L5_Ptprt\", \"PT-L5_Tenm2\", \"PT-L5_Tmtc2\", \"PT-L5_Unc5b\"]\n",
    "hypo_dmr_hits_path = \"/home/hanliu/project/mouse_rostral_brain/DMR/SubType/Total/TotalHits.HypoDMR.h5ad\"\n"
   ]
  },
  {
   "cell_type": "markdown",
   "metadata": {
    "papermill": {
     "duration": 0.007151,
     "end_time": "2020-01-27T03:45:22.960521",
     "exception": false,
     "start_time": "2020-01-27T03:45:22.953370",
     "status": "completed"
    },
    "tags": []
   },
   "source": [
    "## Hypo Hits"
   ]
  },
  {
   "cell_type": "code",
   "execution_count": 4,
   "metadata": {
    "ExecuteTime": {
     "end_time": "2020-01-26T04:08:08.205018Z",
     "start_time": "2020-01-26T04:07:53.264052Z"
    },
    "papermill": {
     "duration": 15.515908,
     "end_time": "2020-01-27T03:45:38.483646",
     "exception": false,
     "start_time": "2020-01-27T03:45:22.967738",
     "status": "completed"
    },
    "tags": []
   },
   "outputs": [],
   "source": [
    "hypo_hits_adata = anndata.read_h5ad(hypo_dmr_hits_path)\n",
    "related_dmr = (hypo_hits_adata[:, use_clusters].X.sum(axis=1) > 0).A1\n",
    "use_dmr = hypo_hits_adata.obs_names[related_dmr]"
   ]
  },
  {
   "cell_type": "code",
   "execution_count": 5,
   "metadata": {
    "ExecuteTime": {
     "end_time": "2020-01-26T04:08:13.831484Z",
     "start_time": "2020-01-26T04:08:08.207941Z"
    },
    "papermill": {
     "duration": 3.704152,
     "end_time": "2020-01-27T03:45:42.196115",
     "exception": false,
     "start_time": "2020-01-27T03:45:38.491963",
     "status": "completed"
    },
    "tags": []
   },
   "outputs": [],
   "source": [
    "use_hits = hypo_hits_adata[use_dmr][:, use_clusters]\n",
    "use_hits.write_h5ad('RelatedClusterAndDMR.hypo_hits.h5ad')"
   ]
  },
  {
   "cell_type": "code",
   "execution_count": 6,
   "metadata": {
    "ExecuteTime": {
     "end_time": "2020-01-26T04:08:13.840039Z",
     "start_time": "2020-01-26T04:08:13.834027Z"
    },
    "papermill": {
     "duration": 0.015548,
     "end_time": "2020-01-27T03:45:42.220385",
     "exception": false,
     "start_time": "2020-01-27T03:45:42.204837",
     "status": "completed"
    },
    "tags": []
   },
   "outputs": [
    {
     "data": {
      "text/plain": [
       "AnnData object with n_obs × n_vars = 1481237 × 28 \n",
       "    obs: '#chr', 'start', 'end', 'number_of_dms'"
      ]
     },
     "execution_count": 6,
     "metadata": {},
     "output_type": "execute_result"
    }
   ],
   "source": [
    "use_hits"
   ]
  },
  {
   "cell_type": "markdown",
   "metadata": {
    "papermill": {
     "duration": 0.007179,
     "end_time": "2020-01-27T03:45:42.235050",
     "exception": false,
     "start_time": "2020-01-27T03:45:42.227871",
     "status": "completed"
    },
    "tags": []
   },
   "source": [
    "## DMR Rate"
   ]
  },
  {
   "cell_type": "code",
   "execution_count": 7,
   "metadata": {
    "ExecuteTime": {
     "end_time": "2020-01-26T04:08:23.431707Z",
     "start_time": "2020-01-26T04:08:13.841505Z"
    },
    "papermill": {
     "duration": 9.318286,
     "end_time": "2020-01-27T03:45:51.560506",
     "exception": false,
     "start_time": "2020-01-27T03:45:42.242220",
     "status": "completed"
    },
    "tags": []
   },
   "outputs": [],
   "source": [
    "with pd.HDFStore('/home/hanliu/project/mouse_rostral_brain/DMR/SubType/Total/DMRInfo.h5') as hdf:\n",
    "    dmr_rate = hdf['Rate']\n",
    "dmr_rate.index = hypo_hits_adata.obs_names\n",
    "use_rate = dmr_rate.loc[use_dmr, use_clusters]"
   ]
  },
  {
   "cell_type": "code",
   "execution_count": 8,
   "metadata": {
    "ExecuteTime": {
     "end_time": "2020-01-26T04:08:24.896237Z",
     "start_time": "2020-01-26T04:08:23.433706Z"
    },
    "papermill": {
     "duration": 2.061713,
     "end_time": "2020-01-27T03:45:53.631172",
     "exception": false,
     "start_time": "2020-01-27T03:45:51.569459",
     "status": "completed"
    },
    "tags": []
   },
   "outputs": [
    {
     "name": "stderr",
     "output_type": "stream",
     "text": [
      "/home/hanliu/miniconda3/envs/clustering/lib/python3.7/site-packages/ipykernel_launcher.py:1: FutureWarning: to_msgpack is deprecated and will be removed in a future version.\n",
      "It is recommended to use pyarrow for on-the-wire transmission of pandas objects.\n",
      "  \"\"\"Entry point for launching an IPython kernel.\n"
     ]
    }
   ],
   "source": [
    "use_rate.to_msgpack('RelatedClusterAndDMR.mcg_rate.msg')"
   ]
  },
  {
   "cell_type": "code",
   "execution_count": 9,
   "metadata": {
    "ExecuteTime": {
     "end_time": "2020-01-26T04:08:25.416561Z",
     "start_time": "2020-01-26T04:08:24.897540Z"
    },
    "papermill": {
     "duration": 0.45024,
     "end_time": "2020-01-27T03:45:54.090499",
     "exception": false,
     "start_time": "2020-01-27T03:45:53.640259",
     "status": "completed"
    },
    "tags": []
   },
   "outputs": [],
   "source": [
    "with open('related_dmrs.txt', 'w') as f:\n",
    "    for dmr in use_dmr:\n",
    "        f.write(dmr + '\\n')"
   ]
  },
  {
   "cell_type": "code",
   "execution_count": null,
   "metadata": {
    "papermill": {
     "duration": 0.007684,
     "end_time": "2020-01-27T03:45:54.106919",
     "exception": false,
     "start_time": "2020-01-27T03:45:54.099235",
     "status": "completed"
    },
    "tags": []
   },
   "outputs": [],
   "source": []
  },
  {
   "cell_type": "code",
   "execution_count": null,
   "metadata": {
    "papermill": {
     "duration": 0.007576,
     "end_time": "2020-01-27T03:45:54.122115",
     "exception": false,
     "start_time": "2020-01-27T03:45:54.114539",
     "status": "completed"
    },
    "tags": []
   },
   "outputs": [],
   "source": []
  },
  {
   "cell_type": "code",
   "execution_count": null,
   "metadata": {
    "papermill": {
     "duration": 0.00738,
     "end_time": "2020-01-27T03:45:54.137129",
     "exception": false,
     "start_time": "2020-01-27T03:45:54.129749",
     "status": "completed"
    },
    "tags": []
   },
   "outputs": [],
   "source": []
  },
  {
   "cell_type": "code",
   "execution_count": null,
   "metadata": {
    "papermill": {
     "duration": 0.007451,
     "end_time": "2020-01-27T03:45:54.152034",
     "exception": false,
     "start_time": "2020-01-27T03:45:54.144583",
     "status": "completed"
    },
    "tags": []
   },
   "outputs": [],
   "source": []
  },
  {
   "cell_type": "code",
   "execution_count": null,
   "metadata": {
    "papermill": {
     "duration": 0.007481,
     "end_time": "2020-01-27T03:45:54.167096",
     "exception": false,
     "start_time": "2020-01-27T03:45:54.159615",
     "status": "completed"
    },
    "tags": []
   },
   "outputs": [],
   "source": []
  },
  {
   "cell_type": "code",
   "execution_count": null,
   "metadata": {
    "papermill": {
     "duration": 0.007296,
     "end_time": "2020-01-27T03:45:54.181804",
     "exception": false,
     "start_time": "2020-01-27T03:45:54.174508",
     "status": "completed"
    },
    "tags": []
   },
   "outputs": [],
   "source": []
  },
  {
   "cell_type": "code",
   "execution_count": null,
   "metadata": {
    "papermill": {
     "duration": 0.007498,
     "end_time": "2020-01-27T03:45:54.196804",
     "exception": false,
     "start_time": "2020-01-27T03:45:54.189306",
     "status": "completed"
    },
    "tags": []
   },
   "outputs": [],
   "source": []
  }
 ],
 "metadata": {
  "hide_input": false,
  "kernelspec": {
   "display_name": "Python 3",
   "language": "python",
   "name": "python3"
  },
  "language_info": {
   "codemirror_mode": {
    "name": "ipython",
    "version": 3
   },
   "file_extension": ".py",
   "mimetype": "text/x-python",
   "name": "python",
   "nbconvert_exporter": "python",
   "pygments_lexer": "ipython3",
   "version": "3.7.3"
  },
  "papermill": {
   "duration": 33.607069,
   "end_time": "2020-01-27T03:45:55.414590",
   "environment_variables": {},
   "exception": null,
   "input_path": "2.related_dmrs.ipynb",
   "output_path": "/home/hanliu/project/mouse_rostral_brain/study/ClustersEnsemble/ExcITPTSubtypeEnsemble/2.related_dmrs.ipynb",
   "parameters": {
    "hypo_dmr_hits_path": "/home/hanliu/project/mouse_rostral_brain/DMR/SubType/Total/TotalHits.HypoDMR.h5ad",
    "use_clusters": [
     "CLA_Bcl11a",
     "CLA_Cdh8",
     "CLA_Nrp2",
     "EP_Adcy8",
     "EP_Rgs8",
     "EP_Tspan5",
     "IT-L23_Cux1",
     "IT-L23_Foxp1",
     "IT-L23_Ptprt",
     "IT-L23_Tenm2",
     "IT-L4_Astn2",
     "IT-L4_Shc3",
     "IT-L5_Cdh8",
     "IT-L5_Etv1",
     "IT-L5_Grik3",
     "IT-L6_Cadps2",
     "IT-L6_Fstl4",
     "IT-L6_Man1c1",
     "IT-L6_Oxr1",
     "PT-L5_Abca12",
     "PT-L5_Astn2",
     "PT-L5_Kcnh1",
     "PT-L5_Nectin1",
     "PT-L5_Plcb4",
     "PT-L5_Ptprt",
     "PT-L5_Tenm2",
     "PT-L5_Tmtc2",
     "PT-L5_Unc5b"
    ]
   },
   "start_time": "2020-01-27T03:45:21.807521",
   "version": "1.0.1"
  },
  "toc": {
   "base_numbering": 1,
   "nav_menu": {},
   "number_sections": true,
   "sideBar": true,
   "skip_h1_title": true,
   "title_cell": "Table of Contents",
   "title_sidebar": "Contents",
   "toc_cell": false,
   "toc_position": {},
   "toc_section_display": true,
   "toc_window_display": true
  }
 },
 "nbformat": 4,
 "nbformat_minor": 2
}
