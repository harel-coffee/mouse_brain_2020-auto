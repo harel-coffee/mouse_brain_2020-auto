{
 "cells": [
  {
   "cell_type": "code",
   "execution_count": 1,
   "metadata": {
    "ExecuteTime": {
     "end_time": "2020-01-27T01:18:58.788165Z",
     "start_time": "2020-01-27T01:18:58.592692Z"
    },
    "papermill": {
     "duration": 0.214834,
     "end_time": "2020-01-27T03:47:04.071917",
     "exception": false,
     "start_time": "2020-01-27T03:47:03.857083",
     "status": "completed"
    },
    "tags": []
   },
   "outputs": [],
   "source": [
    "import pandas as pd\n",
    "import anndata\n",
    "import numpy\n",
    "import warnings\n",
    "import matplotlib.pyplot as plt\n",
    "warnings.filterwarnings('ignore')"
   ]
  },
  {
   "cell_type": "markdown",
   "metadata": {
    "papermill": {
     "duration": 0.009351,
     "end_time": "2020-01-27T03:47:04.091377",
     "exception": false,
     "start_time": "2020-01-27T03:47:04.082026",
     "status": "completed"
    },
    "tags": []
   },
   "source": [
    "## Parameter"
   ]
  },
  {
   "cell_type": "code",
   "execution_count": 2,
   "metadata": {
    "ExecuteTime": {
     "end_time": "2020-01-27T01:18:58.824757Z",
     "start_time": "2020-01-27T01:18:58.822777Z"
    },
    "papermill": {
     "duration": 0.01375,
     "end_time": "2020-01-27T03:47:04.114092",
     "exception": false,
     "start_time": "2020-01-27T03:47:04.100342",
     "status": "completed"
    },
    "tags": [
     "parameters"
    ]
   },
   "outputs": [],
   "source": [
    "delta_dmr_rate_cutoff = 0.3"
   ]
  },
  {
   "cell_type": "code",
   "execution_count": 3,
   "metadata": {
    "papermill": {
     "duration": 0.01319,
     "end_time": "2020-01-27T03:47:04.136002",
     "exception": false,
     "start_time": "2020-01-27T03:47:04.122812",
     "status": "completed"
    },
    "tags": [
     "injected-parameters"
    ]
   },
   "outputs": [],
   "source": [
    "# Parameters\n",
    "delta_dmr_rate_cutoff = 0.3\n"
   ]
  },
  {
   "cell_type": "markdown",
   "metadata": {
    "papermill": {
     "duration": 0.008783,
     "end_time": "2020-01-27T03:47:04.153501",
     "exception": false,
     "start_time": "2020-01-27T03:47:04.144718",
     "status": "completed"
    },
    "tags": []
   },
   "source": [
    "## Load Data"
   ]
  },
  {
   "cell_type": "code",
   "execution_count": 4,
   "metadata": {
    "papermill": {
     "duration": 4.513753,
     "end_time": "2020-01-27T03:47:08.676047",
     "exception": false,
     "start_time": "2020-01-27T03:47:04.162294",
     "status": "completed"
    },
    "tags": []
   },
   "outputs": [
    {
     "data": {
      "text/html": [
       "<div>\n",
       "<style scoped>\n",
       "    .dataframe tbody tr th:only-of-type {\n",
       "        vertical-align: middle;\n",
       "    }\n",
       "\n",
       "    .dataframe tbody tr th {\n",
       "        vertical-align: top;\n",
       "    }\n",
       "\n",
       "    .dataframe thead th {\n",
       "        text-align: right;\n",
       "    }\n",
       "</style>\n",
       "<table border=\"1\" class=\"dataframe\">\n",
       "  <thead>\n",
       "    <tr style=\"text-align: right;\">\n",
       "      <th>index</th>\n",
       "      <th>CLA_Bcl11a</th>\n",
       "      <th>CLA_Cdh8</th>\n",
       "      <th>CLA_Nrp2</th>\n",
       "      <th>EP_Adcy8</th>\n",
       "      <th>EP_Rgs8</th>\n",
       "      <th>EP_Tspan5</th>\n",
       "      <th>IT-L23_Cux1</th>\n",
       "      <th>IT-L23_Foxp1</th>\n",
       "      <th>IT-L23_Ptprt</th>\n",
       "      <th>IT-L23_Tenm2</th>\n",
       "      <th>...</th>\n",
       "      <th>IT-L6_Oxr1</th>\n",
       "      <th>PT-L5_Abca12</th>\n",
       "      <th>PT-L5_Astn2</th>\n",
       "      <th>PT-L5_Kcnh1</th>\n",
       "      <th>PT-L5_Nectin1</th>\n",
       "      <th>PT-L5_Plcb4</th>\n",
       "      <th>PT-L5_Ptprt</th>\n",
       "      <th>PT-L5_Tenm2</th>\n",
       "      <th>PT-L5_Tmtc2</th>\n",
       "      <th>PT-L5_Unc5b</th>\n",
       "    </tr>\n",
       "    <tr>\n",
       "      <th>index</th>\n",
       "      <th></th>\n",
       "      <th></th>\n",
       "      <th></th>\n",
       "      <th></th>\n",
       "      <th></th>\n",
       "      <th></th>\n",
       "      <th></th>\n",
       "      <th></th>\n",
       "      <th></th>\n",
       "      <th></th>\n",
       "      <th></th>\n",
       "      <th></th>\n",
       "      <th></th>\n",
       "      <th></th>\n",
       "      <th></th>\n",
       "      <th></th>\n",
       "      <th></th>\n",
       "      <th></th>\n",
       "      <th></th>\n",
       "      <th></th>\n",
       "      <th></th>\n",
       "    </tr>\n",
       "  </thead>\n",
       "  <tbody>\n",
       "    <tr>\n",
       "      <th>Subchr1_15</th>\n",
       "      <td>False</td>\n",
       "      <td>False</td>\n",
       "      <td>False</td>\n",
       "      <td>False</td>\n",
       "      <td>False</td>\n",
       "      <td>False</td>\n",
       "      <td>False</td>\n",
       "      <td>False</td>\n",
       "      <td>False</td>\n",
       "      <td>False</td>\n",
       "      <td>...</td>\n",
       "      <td>False</td>\n",
       "      <td>False</td>\n",
       "      <td>False</td>\n",
       "      <td>False</td>\n",
       "      <td>True</td>\n",
       "      <td>False</td>\n",
       "      <td>False</td>\n",
       "      <td>False</td>\n",
       "      <td>True</td>\n",
       "      <td>False</td>\n",
       "    </tr>\n",
       "    <tr>\n",
       "      <th>Subchr1_96</th>\n",
       "      <td>False</td>\n",
       "      <td>False</td>\n",
       "      <td>False</td>\n",
       "      <td>False</td>\n",
       "      <td>False</td>\n",
       "      <td>False</td>\n",
       "      <td>True</td>\n",
       "      <td>True</td>\n",
       "      <td>True</td>\n",
       "      <td>True</td>\n",
       "      <td>...</td>\n",
       "      <td>False</td>\n",
       "      <td>False</td>\n",
       "      <td>False</td>\n",
       "      <td>False</td>\n",
       "      <td>False</td>\n",
       "      <td>False</td>\n",
       "      <td>False</td>\n",
       "      <td>False</td>\n",
       "      <td>False</td>\n",
       "      <td>False</td>\n",
       "    </tr>\n",
       "    <tr>\n",
       "      <th>Subchr1_105</th>\n",
       "      <td>False</td>\n",
       "      <td>False</td>\n",
       "      <td>False</td>\n",
       "      <td>False</td>\n",
       "      <td>False</td>\n",
       "      <td>False</td>\n",
       "      <td>False</td>\n",
       "      <td>True</td>\n",
       "      <td>True</td>\n",
       "      <td>True</td>\n",
       "      <td>...</td>\n",
       "      <td>False</td>\n",
       "      <td>False</td>\n",
       "      <td>False</td>\n",
       "      <td>False</td>\n",
       "      <td>False</td>\n",
       "      <td>True</td>\n",
       "      <td>True</td>\n",
       "      <td>False</td>\n",
       "      <td>False</td>\n",
       "      <td>False</td>\n",
       "    </tr>\n",
       "    <tr>\n",
       "      <th>Subchr1_133</th>\n",
       "      <td>False</td>\n",
       "      <td>False</td>\n",
       "      <td>False</td>\n",
       "      <td>False</td>\n",
       "      <td>False</td>\n",
       "      <td>False</td>\n",
       "      <td>False</td>\n",
       "      <td>False</td>\n",
       "      <td>False</td>\n",
       "      <td>False</td>\n",
       "      <td>...</td>\n",
       "      <td>False</td>\n",
       "      <td>False</td>\n",
       "      <td>False</td>\n",
       "      <td>True</td>\n",
       "      <td>False</td>\n",
       "      <td>False</td>\n",
       "      <td>False</td>\n",
       "      <td>False</td>\n",
       "      <td>True</td>\n",
       "      <td>False</td>\n",
       "    </tr>\n",
       "    <tr>\n",
       "      <th>Subchr1_135</th>\n",
       "      <td>False</td>\n",
       "      <td>False</td>\n",
       "      <td>False</td>\n",
       "      <td>False</td>\n",
       "      <td>False</td>\n",
       "      <td>False</td>\n",
       "      <td>False</td>\n",
       "      <td>True</td>\n",
       "      <td>False</td>\n",
       "      <td>False</td>\n",
       "      <td>...</td>\n",
       "      <td>True</td>\n",
       "      <td>False</td>\n",
       "      <td>False</td>\n",
       "      <td>False</td>\n",
       "      <td>False</td>\n",
       "      <td>False</td>\n",
       "      <td>False</td>\n",
       "      <td>False</td>\n",
       "      <td>True</td>\n",
       "      <td>False</td>\n",
       "    </tr>\n",
       "  </tbody>\n",
       "</table>\n",
       "<p>5 rows × 28 columns</p>\n",
       "</div>"
      ],
      "text/plain": [
       "index        CLA_Bcl11a  CLA_Cdh8  CLA_Nrp2  EP_Adcy8  EP_Rgs8  EP_Tspan5  \\\n",
       "index                                                                       \n",
       "Subchr1_15        False     False     False     False    False      False   \n",
       "Subchr1_96        False     False     False     False    False      False   \n",
       "Subchr1_105       False     False     False     False    False      False   \n",
       "Subchr1_133       False     False     False     False    False      False   \n",
       "Subchr1_135       False     False     False     False    False      False   \n",
       "\n",
       "index        IT-L23_Cux1  IT-L23_Foxp1  IT-L23_Ptprt  IT-L23_Tenm2  ...  \\\n",
       "index                                                               ...   \n",
       "Subchr1_15         False         False         False         False  ...   \n",
       "Subchr1_96          True          True          True          True  ...   \n",
       "Subchr1_105        False          True          True          True  ...   \n",
       "Subchr1_133        False         False         False         False  ...   \n",
       "Subchr1_135        False          True         False         False  ...   \n",
       "\n",
       "index        IT-L6_Oxr1  PT-L5_Abca12  PT-L5_Astn2  PT-L5_Kcnh1  \\\n",
       "index                                                             \n",
       "Subchr1_15        False         False        False        False   \n",
       "Subchr1_96        False         False        False        False   \n",
       "Subchr1_105       False         False        False        False   \n",
       "Subchr1_133       False         False        False         True   \n",
       "Subchr1_135        True         False        False        False   \n",
       "\n",
       "index        PT-L5_Nectin1  PT-L5_Plcb4  PT-L5_Ptprt  PT-L5_Tenm2  \\\n",
       "index                                                               \n",
       "Subchr1_15            True        False        False        False   \n",
       "Subchr1_96           False        False        False        False   \n",
       "Subchr1_105          False         True         True        False   \n",
       "Subchr1_133          False        False        False        False   \n",
       "Subchr1_135          False        False        False        False   \n",
       "\n",
       "index        PT-L5_Tmtc2  PT-L5_Unc5b  \n",
       "index                                  \n",
       "Subchr1_15          True        False  \n",
       "Subchr1_96         False        False  \n",
       "Subchr1_105        False        False  \n",
       "Subchr1_133         True        False  \n",
       "Subchr1_135         True        False  \n",
       "\n",
       "[5 rows x 28 columns]"
      ]
     },
     "execution_count": 4,
     "metadata": {},
     "output_type": "execute_result"
    }
   ],
   "source": [
    "dmr_hits = anndata.read_h5ad('RelatedClusterAndDMR.hypo_hits.h5ad')\n",
    "dmr_hits = pd.DataFrame(dmr_hits.X.astype(bool).todense(), index=dmr_hits.obs_names, columns=dmr_hits.var_names)\n",
    "dmr_hits.head()"
   ]
  },
  {
   "cell_type": "code",
   "execution_count": 5,
   "metadata": {
    "papermill": {
     "duration": 1.34498,
     "end_time": "2020-01-27T03:47:10.030322",
     "exception": false,
     "start_time": "2020-01-27T03:47:08.685342",
     "status": "completed"
    },
    "tags": []
   },
   "outputs": [
    {
     "data": {
      "text/html": [
       "<div>\n",
       "<style scoped>\n",
       "    .dataframe tbody tr th:only-of-type {\n",
       "        vertical-align: middle;\n",
       "    }\n",
       "\n",
       "    .dataframe tbody tr th {\n",
       "        vertical-align: top;\n",
       "    }\n",
       "\n",
       "    .dataframe thead th {\n",
       "        text-align: right;\n",
       "    }\n",
       "</style>\n",
       "<table border=\"1\" class=\"dataframe\">\n",
       "  <thead>\n",
       "    <tr style=\"text-align: right;\">\n",
       "      <th></th>\n",
       "      <th>CLA_Bcl11a</th>\n",
       "      <th>CLA_Cdh8</th>\n",
       "      <th>CLA_Nrp2</th>\n",
       "      <th>EP_Adcy8</th>\n",
       "      <th>EP_Rgs8</th>\n",
       "      <th>EP_Tspan5</th>\n",
       "      <th>IT-L23_Cux1</th>\n",
       "      <th>IT-L23_Foxp1</th>\n",
       "      <th>IT-L23_Ptprt</th>\n",
       "      <th>IT-L23_Tenm2</th>\n",
       "      <th>...</th>\n",
       "      <th>IT-L6_Oxr1</th>\n",
       "      <th>PT-L5_Abca12</th>\n",
       "      <th>PT-L5_Astn2</th>\n",
       "      <th>PT-L5_Kcnh1</th>\n",
       "      <th>PT-L5_Nectin1</th>\n",
       "      <th>PT-L5_Plcb4</th>\n",
       "      <th>PT-L5_Ptprt</th>\n",
       "      <th>PT-L5_Tenm2</th>\n",
       "      <th>PT-L5_Tmtc2</th>\n",
       "      <th>PT-L5_Unc5b</th>\n",
       "    </tr>\n",
       "    <tr>\n",
       "      <th>index</th>\n",
       "      <th></th>\n",
       "      <th></th>\n",
       "      <th></th>\n",
       "      <th></th>\n",
       "      <th></th>\n",
       "      <th></th>\n",
       "      <th></th>\n",
       "      <th></th>\n",
       "      <th></th>\n",
       "      <th></th>\n",
       "      <th></th>\n",
       "      <th></th>\n",
       "      <th></th>\n",
       "      <th></th>\n",
       "      <th></th>\n",
       "      <th></th>\n",
       "      <th></th>\n",
       "      <th></th>\n",
       "      <th></th>\n",
       "      <th></th>\n",
       "      <th></th>\n",
       "    </tr>\n",
       "  </thead>\n",
       "  <tbody>\n",
       "    <tr>\n",
       "      <th>Subchr1_15</th>\n",
       "      <td>0.666667</td>\n",
       "      <td>0.970149</td>\n",
       "      <td>0.919355</td>\n",
       "      <td>1.000000</td>\n",
       "      <td>0.942857</td>\n",
       "      <td>0.928571</td>\n",
       "      <td>0.672566</td>\n",
       "      <td>0.653846</td>\n",
       "      <td>0.714286</td>\n",
       "      <td>0.826087</td>\n",
       "      <td>...</td>\n",
       "      <td>0.857143</td>\n",
       "      <td>1.000000</td>\n",
       "      <td>1.000000</td>\n",
       "      <td>0.806452</td>\n",
       "      <td>0.408163</td>\n",
       "      <td>0.717949</td>\n",
       "      <td>0.820513</td>\n",
       "      <td>0.703704</td>\n",
       "      <td>0.264706</td>\n",
       "      <td>0.950000</td>\n",
       "    </tr>\n",
       "    <tr>\n",
       "      <th>Subchr1_96</th>\n",
       "      <td>0.307692</td>\n",
       "      <td>0.529412</td>\n",
       "      <td>0.823529</td>\n",
       "      <td>0.583333</td>\n",
       "      <td>0.619048</td>\n",
       "      <td>0.608696</td>\n",
       "      <td>0.101449</td>\n",
       "      <td>0.216667</td>\n",
       "      <td>0.301887</td>\n",
       "      <td>0.237288</td>\n",
       "      <td>...</td>\n",
       "      <td>0.545455</td>\n",
       "      <td>0.428571</td>\n",
       "      <td>0.333333</td>\n",
       "      <td>0.366667</td>\n",
       "      <td>0.500000</td>\n",
       "      <td>0.608696</td>\n",
       "      <td>0.923077</td>\n",
       "      <td>0.793103</td>\n",
       "      <td>0.812500</td>\n",
       "      <td>0.916667</td>\n",
       "    </tr>\n",
       "    <tr>\n",
       "      <th>Subchr1_105</th>\n",
       "      <td>1.000000</td>\n",
       "      <td>0.900000</td>\n",
       "      <td>0.968750</td>\n",
       "      <td>0.900000</td>\n",
       "      <td>0.851852</td>\n",
       "      <td>0.866667</td>\n",
       "      <td>0.744681</td>\n",
       "      <td>0.516129</td>\n",
       "      <td>0.347826</td>\n",
       "      <td>0.513514</td>\n",
       "      <td>...</td>\n",
       "      <td>0.954545</td>\n",
       "      <td>0.827586</td>\n",
       "      <td>0.809524</td>\n",
       "      <td>0.968254</td>\n",
       "      <td>0.826087</td>\n",
       "      <td>0.536585</td>\n",
       "      <td>0.337838</td>\n",
       "      <td>0.828947</td>\n",
       "      <td>0.760000</td>\n",
       "      <td>0.913043</td>\n",
       "    </tr>\n",
       "    <tr>\n",
       "      <th>Subchr1_133</th>\n",
       "      <td>0.933333</td>\n",
       "      <td>0.868421</td>\n",
       "      <td>0.914286</td>\n",
       "      <td>0.923077</td>\n",
       "      <td>0.882353</td>\n",
       "      <td>0.962963</td>\n",
       "      <td>0.842105</td>\n",
       "      <td>0.935484</td>\n",
       "      <td>0.844444</td>\n",
       "      <td>0.869565</td>\n",
       "      <td>...</td>\n",
       "      <td>0.888889</td>\n",
       "      <td>1.000000</td>\n",
       "      <td>0.526316</td>\n",
       "      <td>0.228571</td>\n",
       "      <td>0.789474</td>\n",
       "      <td>0.947368</td>\n",
       "      <td>0.843750</td>\n",
       "      <td>0.906977</td>\n",
       "      <td>0.000000</td>\n",
       "      <td>1.000000</td>\n",
       "    </tr>\n",
       "    <tr>\n",
       "      <th>Subchr1_135</th>\n",
       "      <td>1.000000</td>\n",
       "      <td>0.756757</td>\n",
       "      <td>0.904762</td>\n",
       "      <td>0.950000</td>\n",
       "      <td>0.857143</td>\n",
       "      <td>0.958333</td>\n",
       "      <td>0.416667</td>\n",
       "      <td>0.145455</td>\n",
       "      <td>0.652174</td>\n",
       "      <td>0.580000</td>\n",
       "      <td>...</td>\n",
       "      <td>0.111111</td>\n",
       "      <td>0.857143</td>\n",
       "      <td>1.000000</td>\n",
       "      <td>0.736842</td>\n",
       "      <td>0.529412</td>\n",
       "      <td>0.869565</td>\n",
       "      <td>0.925926</td>\n",
       "      <td>0.976744</td>\n",
       "      <td>0.136364</td>\n",
       "      <td>1.000000</td>\n",
       "    </tr>\n",
       "  </tbody>\n",
       "</table>\n",
       "<p>5 rows × 28 columns</p>\n",
       "</div>"
      ],
      "text/plain": [
       "             CLA_Bcl11a  CLA_Cdh8  CLA_Nrp2  EP_Adcy8   EP_Rgs8  EP_Tspan5  \\\n",
       "index                                                                        \n",
       "Subchr1_15     0.666667  0.970149  0.919355  1.000000  0.942857   0.928571   \n",
       "Subchr1_96     0.307692  0.529412  0.823529  0.583333  0.619048   0.608696   \n",
       "Subchr1_105    1.000000  0.900000  0.968750  0.900000  0.851852   0.866667   \n",
       "Subchr1_133    0.933333  0.868421  0.914286  0.923077  0.882353   0.962963   \n",
       "Subchr1_135    1.000000  0.756757  0.904762  0.950000  0.857143   0.958333   \n",
       "\n",
       "             IT-L23_Cux1  IT-L23_Foxp1  IT-L23_Ptprt  IT-L23_Tenm2  ...  \\\n",
       "index                                                               ...   \n",
       "Subchr1_15      0.672566      0.653846      0.714286      0.826087  ...   \n",
       "Subchr1_96      0.101449      0.216667      0.301887      0.237288  ...   \n",
       "Subchr1_105     0.744681      0.516129      0.347826      0.513514  ...   \n",
       "Subchr1_133     0.842105      0.935484      0.844444      0.869565  ...   \n",
       "Subchr1_135     0.416667      0.145455      0.652174      0.580000  ...   \n",
       "\n",
       "             IT-L6_Oxr1  PT-L5_Abca12  PT-L5_Astn2  PT-L5_Kcnh1  \\\n",
       "index                                                             \n",
       "Subchr1_15     0.857143      1.000000     1.000000     0.806452   \n",
       "Subchr1_96     0.545455      0.428571     0.333333     0.366667   \n",
       "Subchr1_105    0.954545      0.827586     0.809524     0.968254   \n",
       "Subchr1_133    0.888889      1.000000     0.526316     0.228571   \n",
       "Subchr1_135    0.111111      0.857143     1.000000     0.736842   \n",
       "\n",
       "             PT-L5_Nectin1  PT-L5_Plcb4  PT-L5_Ptprt  PT-L5_Tenm2  \\\n",
       "index                                                               \n",
       "Subchr1_15        0.408163     0.717949     0.820513     0.703704   \n",
       "Subchr1_96        0.500000     0.608696     0.923077     0.793103   \n",
       "Subchr1_105       0.826087     0.536585     0.337838     0.828947   \n",
       "Subchr1_133       0.789474     0.947368     0.843750     0.906977   \n",
       "Subchr1_135       0.529412     0.869565     0.925926     0.976744   \n",
       "\n",
       "             PT-L5_Tmtc2  PT-L5_Unc5b  \n",
       "index                                  \n",
       "Subchr1_15      0.264706     0.950000  \n",
       "Subchr1_96      0.812500     0.916667  \n",
       "Subchr1_105     0.760000     0.913043  \n",
       "Subchr1_133     0.000000     1.000000  \n",
       "Subchr1_135     0.136364     1.000000  \n",
       "\n",
       "[5 rows x 28 columns]"
      ]
     },
     "execution_count": 5,
     "metadata": {},
     "output_type": "execute_result"
    }
   ],
   "source": [
    "dmr_rate = pd.read_msgpack('RelatedClusterAndDMR.mcg_rate.msg')\n",
    "dmr_rate.head()"
   ]
  },
  {
   "cell_type": "code",
   "execution_count": 6,
   "metadata": {
    "papermill": {
     "duration": 0.044661,
     "end_time": "2020-01-27T03:47:10.084565",
     "exception": false,
     "start_time": "2020-01-27T03:47:10.039904",
     "status": "completed"
    },
    "tags": []
   },
   "outputs": [
    {
     "name": "stdout",
     "output_type": "stream",
     "text": [
      "(16377, 9)\n"
     ]
    },
    {
     "data": {
      "text/html": [
       "<div>\n",
       "<style scoped>\n",
       "    .dataframe tbody tr th:only-of-type {\n",
       "        vertical-align: middle;\n",
       "    }\n",
       "\n",
       "    .dataframe tbody tr th {\n",
       "        vertical-align: top;\n",
       "    }\n",
       "\n",
       "    .dataframe thead th {\n",
       "        text-align: right;\n",
       "    }\n",
       "</style>\n",
       "<table border=\"1\" class=\"dataframe\">\n",
       "  <thead>\n",
       "    <tr style=\"text-align: right;\">\n",
       "      <th></th>\n",
       "      <th>pvals_adj</th>\n",
       "      <th>gene_id</th>\n",
       "      <th>cluster_from</th>\n",
       "      <th>cluster_to</th>\n",
       "      <th>gene_name</th>\n",
       "      <th>-lgp</th>\n",
       "      <th>AUROC</th>\n",
       "      <th>rate_from</th>\n",
       "      <th>rate_to</th>\n",
       "    </tr>\n",
       "  </thead>\n",
       "  <tbody>\n",
       "    <tr>\n",
       "      <th>7</th>\n",
       "      <td>6.873489e-238</td>\n",
       "      <td>ENSMUSG00000000861.15</td>\n",
       "      <td>IT-L5_Etv1</td>\n",
       "      <td>IT-L5_Cdh8</td>\n",
       "      <td>Bcl11a</td>\n",
       "      <td>237.162823</td>\n",
       "      <td>0.927148</td>\n",
       "      <td>0.009191</td>\n",
       "      <td>0.030186</td>\n",
       "    </tr>\n",
       "    <tr>\n",
       "      <th>12</th>\n",
       "      <td>1.793568e-272</td>\n",
       "      <td>ENSMUSG00000003534.17</td>\n",
       "      <td>IT-L23_Foxp1</td>\n",
       "      <td>IT-L5_Etv1</td>\n",
       "      <td>Ddr1</td>\n",
       "      <td>271.746282</td>\n",
       "      <td>0.956907</td>\n",
       "      <td>0.008138</td>\n",
       "      <td>0.040823</td>\n",
       "    </tr>\n",
       "    <tr>\n",
       "      <th>52</th>\n",
       "      <td>2.891976e-217</td>\n",
       "      <td>ENSMUSG00000029638.17</td>\n",
       "      <td>IT-L23_Foxp1</td>\n",
       "      <td>IT-L5_Etv1</td>\n",
       "      <td>Glcci1</td>\n",
       "      <td>216.538805</td>\n",
       "      <td>0.907395</td>\n",
       "      <td>0.009993</td>\n",
       "      <td>0.024370</td>\n",
       "    </tr>\n",
       "    <tr>\n",
       "      <th>4</th>\n",
       "      <td>0.000000e+00</td>\n",
       "      <td>ENSMUSG00000030657.11</td>\n",
       "      <td>IT-L5_Etv1</td>\n",
       "      <td>IT-L23_Foxp1</td>\n",
       "      <td>Xylt1</td>\n",
       "      <td>1000.000000</td>\n",
       "      <td>0.991323</td>\n",
       "      <td>0.008973</td>\n",
       "      <td>0.025227</td>\n",
       "    </tr>\n",
       "    <tr>\n",
       "      <th>26</th>\n",
       "      <td>3.437426e-272</td>\n",
       "      <td>ENSMUSG00000000861.15</td>\n",
       "      <td>IT-L5_Etv1</td>\n",
       "      <td>IT-L23_Foxp1</td>\n",
       "      <td>Bcl11a</td>\n",
       "      <td>271.463767</td>\n",
       "      <td>0.956643</td>\n",
       "      <td>0.009191</td>\n",
       "      <td>0.030269</td>\n",
       "    </tr>\n",
       "  </tbody>\n",
       "</table>\n",
       "</div>"
      ],
      "text/plain": [
       "        pvals_adj                gene_id  cluster_from    cluster_to  \\\n",
       "7   6.873489e-238  ENSMUSG00000000861.15    IT-L5_Etv1    IT-L5_Cdh8   \n",
       "12  1.793568e-272  ENSMUSG00000003534.17  IT-L23_Foxp1    IT-L5_Etv1   \n",
       "52  2.891976e-217  ENSMUSG00000029638.17  IT-L23_Foxp1    IT-L5_Etv1   \n",
       "4    0.000000e+00  ENSMUSG00000030657.11    IT-L5_Etv1  IT-L23_Foxp1   \n",
       "26  3.437426e-272  ENSMUSG00000000861.15    IT-L5_Etv1  IT-L23_Foxp1   \n",
       "\n",
       "   gene_name         -lgp     AUROC  rate_from   rate_to  \n",
       "7     Bcl11a   237.162823  0.927148   0.009191  0.030186  \n",
       "12      Ddr1   271.746282  0.956907   0.008138  0.040823  \n",
       "52    Glcci1   216.538805  0.907395   0.009993  0.024370  \n",
       "4      Xylt1  1000.000000  0.991323   0.008973  0.025227  \n",
       "26    Bcl11a   271.463767  0.956643   0.009191  0.030269  "
      ]
     },
     "execution_count": 6,
     "metadata": {},
     "output_type": "execute_result"
    }
   ],
   "source": [
    "dmg = pd.read_msgpack('RelatedDMG.msg')\n",
    "dmg['cluster_from'] = dmg['cluster_from'].str.replace(' ', '_')\n",
    "dmg['cluster_to'] = dmg['cluster_to'].str.replace(' ', '_')\n",
    "print(dmg.shape)\n",
    "dmg.head()"
   ]
  },
  {
   "cell_type": "code",
   "execution_count": 7,
   "metadata": {
    "ExecuteTime": {
     "end_time": "2020-01-26T04:08:59.103997Z",
     "start_time": "2020-01-26T04:08:58.858608Z"
    },
    "papermill": {
     "duration": 0.061604,
     "end_time": "2020-01-27T03:47:10.155464",
     "exception": false,
     "start_time": "2020-01-27T03:47:10.093860",
     "status": "completed"
    },
    "tags": []
   },
   "outputs": [
    {
     "data": {
      "text/html": [
       "<div>\n",
       "<style scoped>\n",
       "    .dataframe tbody tr th:only-of-type {\n",
       "        vertical-align: middle;\n",
       "    }\n",
       "\n",
       "    .dataframe tbody tr th {\n",
       "        vertical-align: top;\n",
       "    }\n",
       "\n",
       "    .dataframe thead th {\n",
       "        text-align: right;\n",
       "    }\n",
       "</style>\n",
       "<table border=\"1\" class=\"dataframe\">\n",
       "  <thead>\n",
       "    <tr style=\"text-align: right;\">\n",
       "      <th></th>\n",
       "      <th>DMR</th>\n",
       "      <th>Gene</th>\n",
       "      <th>Corr</th>\n",
       "      <th>chrom</th>\n",
       "      <th>DMR_to_gene_dist</th>\n",
       "    </tr>\n",
       "  </thead>\n",
       "  <tbody>\n",
       "    <tr>\n",
       "      <th>0</th>\n",
       "      <td>Subchr1_3352</td>\n",
       "      <td>ENSMUSG00000025905.13</td>\n",
       "      <td>0.417337</td>\n",
       "      <td>chr1</td>\n",
       "      <td>-492655.5</td>\n",
       "    </tr>\n",
       "    <tr>\n",
       "      <th>1</th>\n",
       "      <td>Subchr1_3410</td>\n",
       "      <td>ENSMUSG00000025905.13</td>\n",
       "      <td>0.393337</td>\n",
       "      <td>chr1</td>\n",
       "      <td>-451807.0</td>\n",
       "    </tr>\n",
       "    <tr>\n",
       "      <th>2</th>\n",
       "      <td>Subchr1_3502</td>\n",
       "      <td>ENSMUSG00000025905.13</td>\n",
       "      <td>0.343135</td>\n",
       "      <td>chr1</td>\n",
       "      <td>-386092.0</td>\n",
       "    </tr>\n",
       "    <tr>\n",
       "      <th>3</th>\n",
       "      <td>Subchr1_3521</td>\n",
       "      <td>ENSMUSG00000025905.13</td>\n",
       "      <td>0.425302</td>\n",
       "      <td>chr1</td>\n",
       "      <td>-373757.5</td>\n",
       "    </tr>\n",
       "    <tr>\n",
       "      <th>4</th>\n",
       "      <td>Subchr1_3545</td>\n",
       "      <td>ENSMUSG00000025905.13</td>\n",
       "      <td>0.342158</td>\n",
       "      <td>chr1</td>\n",
       "      <td>-358910.0</td>\n",
       "    </tr>\n",
       "  </tbody>\n",
       "</table>\n",
       "</div>"
      ],
      "text/plain": [
       "            DMR                   Gene      Corr chrom  DMR_to_gene_dist\n",
       "0  Subchr1_3352  ENSMUSG00000025905.13  0.417337  chr1         -492655.5\n",
       "1  Subchr1_3410  ENSMUSG00000025905.13  0.393337  chr1         -451807.0\n",
       "2  Subchr1_3502  ENSMUSG00000025905.13  0.343135  chr1         -386092.0\n",
       "3  Subchr1_3521  ENSMUSG00000025905.13  0.425302  chr1         -373757.5\n",
       "4  Subchr1_3545  ENSMUSG00000025905.13  0.342158  chr1         -358910.0"
      ]
     },
     "execution_count": 7,
     "metadata": {},
     "output_type": "execute_result"
    }
   ],
   "source": [
    "corr = pd.read_msgpack('RelatedCorr.msg')\n",
    "corr.head()"
   ]
  },
  {
   "cell_type": "code",
   "execution_count": 8,
   "metadata": {
    "ExecuteTime": {
     "end_time": "2020-01-26T04:09:00.778681Z",
     "start_time": "2020-01-26T04:08:59.105307Z"
    },
    "papermill": {
     "duration": 0.641022,
     "end_time": "2020-01-27T03:47:10.806976",
     "exception": false,
     "start_time": "2020-01-27T03:47:10.165954",
     "status": "completed"
    },
    "tags": []
   },
   "outputs": [],
   "source": [
    "# subset the dmr and dmg based on corr\n",
    "dmr_hits = dmr_hits.loc[corr['DMR'].unique()].copy()\n",
    "dmr_rate = dmr_rate.loc[corr['DMR'].unique()].copy()\n",
    "dmg = dmg[dmg['gene_id'].isin(corr['Gene'].unique())].copy()"
   ]
  },
  {
   "cell_type": "code",
   "execution_count": 9,
   "metadata": {
    "ExecuteTime": {
     "end_time": "2020-01-26T04:09:00.801640Z",
     "start_time": "2020-01-26T04:09:00.780111Z"
    },
    "papermill": {
     "duration": 0.020484,
     "end_time": "2020-01-27T03:47:10.837788",
     "exception": false,
     "start_time": "2020-01-27T03:47:10.817304",
     "status": "completed"
    },
    "tags": []
   },
   "outputs": [
    {
     "data": {
      "text/plain": [
       "(696, 2)"
      ]
     },
     "execution_count": 9,
     "metadata": {},
     "output_type": "execute_result"
    }
   ],
   "source": [
    "dmg[['cluster_from', 'cluster_to']].drop_duplicates().shape"
   ]
  },
  {
   "cell_type": "markdown",
   "metadata": {
    "papermill": {
     "duration": 0.010114,
     "end_time": "2020-01-27T03:47:10.857763",
     "exception": false,
     "start_time": "2020-01-27T03:47:10.847649",
     "status": "completed"
    },
    "tags": []
   },
   "source": [
    "## prepare DMR pairwise"
   ]
  },
  {
   "cell_type": "code",
   "execution_count": 10,
   "metadata": {
    "ExecuteTime": {
     "end_time": "2020-01-26T04:09:05.655118Z",
     "start_time": "2020-01-26T04:09:00.802988Z"
    },
    "papermill": {
     "duration": 3.258153,
     "end_time": "2020-01-27T03:47:14.125746",
     "exception": false,
     "start_time": "2020-01-27T03:47:10.867593",
     "status": "completed"
    },
    "scrolled": true,
    "tags": []
   },
   "outputs": [],
   "source": [
    "pairwise_dmr_index = {}\n",
    "n = 0\n",
    "for _, (cluster_from, cluster_to) in dmg[['cluster_from', 'cluster_to']].drop_duplicates().iterrows():\n",
    "    n += 1\n",
    "    if n % 1000 == 0:\n",
    "        print(n)\n",
    "    # cluster_from is hypo, cluster_to is hyper\n",
    "    rate_delta = (dmr_rate[cluster_to] - dmr_rate[cluster_from]) > delta_dmr_rate_cutoff\n",
    "    # cluster_to is not hypo, cluster_from is hypo, and rate_delta > delta_dmr_rate_cutoff\n",
    "    total_judge = (~dmr_hits[cluster_to]) & dmr_hits[cluster_from] & rate_delta\n",
    "    \n",
    "    # remaining dmr is sig hypo in cluster_from and hyper in cluster_to\n",
    "    pairwise_dmr_index[(cluster_from, cluster_to)] = total_judge[total_judge].index"
   ]
  },
  {
   "cell_type": "markdown",
   "metadata": {
    "papermill": {
     "duration": 0.010229,
     "end_time": "2020-01-27T03:47:14.147548",
     "exception": false,
     "start_time": "2020-01-27T03:47:14.137319",
     "status": "completed"
    },
    "tags": []
   },
   "source": [
    "## final DMG DMR for pairwise cluster"
   ]
  },
  {
   "cell_type": "code",
   "execution_count": 11,
   "metadata": {
    "ExecuteTime": {
     "end_time": "2020-01-26T04:09:05.666842Z",
     "start_time": "2020-01-26T04:09:05.657240Z"
    },
    "papermill": {
     "duration": 0.020564,
     "end_time": "2020-01-27T03:47:14.178459",
     "exception": false,
     "start_time": "2020-01-27T03:47:14.157895",
     "status": "completed"
    },
    "tags": []
   },
   "outputs": [],
   "source": [
    "related_genes = pd.read_csv('related_dmgs.txt', header=None, index_col=0).index\n",
    "related_genes.name = 'gene_id'\n",
    "# create a table to store all related genes\n",
    "gene_dmr_counts = pd.DataFrame([], index=related_genes)"
   ]
  },
  {
   "cell_type": "code",
   "execution_count": 12,
   "metadata": {
    "ExecuteTime": {
     "end_time": "2020-01-26T04:09:32.904495Z",
     "start_time": "2020-01-26T04:09:05.668327Z"
    },
    "papermill": {
     "duration": 17.266577,
     "end_time": "2020-01-27T03:47:31.455037",
     "exception": false,
     "start_time": "2020-01-27T03:47:14.188460",
     "status": "completed"
    },
    "scrolled": false,
    "tags": []
   },
   "outputs": [
    {
     "name": "stdout",
     "output_type": "stream",
     "text": [
      "500\n"
     ]
    }
   ],
   "source": [
    "with pd.HDFStore('FinalDMGDMR.h5') as f:\n",
    "    n = 0\n",
    "    for (cluster_from, cluster_to), cluster_pair_df in dmg.groupby(\n",
    "        ['cluster_from', 'cluster_to']):\n",
    "        n += 1\n",
    "        if n % 500 == 0:\n",
    "            print(n)\n",
    "        # first get related dmr and dmg separately\n",
    "        cluster_pair_related_dmr = pairwise_dmr_index[(cluster_from, cluster_to)]\n",
    "        cluster_pair_related_gene = cluster_pair_df['gene_id'].unique()\n",
    "        \n",
    "        # use them to filter corr\n",
    "        cluster_pair_related_corr = corr[\n",
    "            corr['DMR'].isin(cluster_pair_related_dmr)\n",
    "            & corr['Gene'].isin(cluster_pair_related_gene)]\n",
    "        \n",
    "        # then use remained dmr and dmg as final list\n",
    "        # the remaining DMR DMG is:\n",
    "        # - sig hypo in one clsuter compare to another\n",
    "        # - have sig correlateion\n",
    "        cluster_pair_related_dmr = pd.Series(cluster_pair_related_corr['DMR'].unique())\n",
    "        cluster_pair_related_gene = pd.Series(cluster_pair_related_corr['Gene'].unique())\n",
    "        # print(cluster_from, cluster_to, cluster_pair_related_dmr.size, cluster_pair_related_gene.size)\n",
    "        f[f'{cluster_from}/{cluster_to}/DMR'] = cluster_pair_related_dmr\n",
    "        f[f'{cluster_from}/{cluster_to}/Gene'] = cluster_pair_related_gene\n",
    "        f[f'{cluster_from}/{cluster_to}/Corr'] = pd.Series(cluster_pair_related_corr.index)\n",
    "        \n",
    "        gene_counts = cluster_pair_related_corr['Gene'].value_counts()\n",
    "        gene_dmr_counts[(cluster_from, cluster_to)] = gene_counts.reindex(\n",
    "            related_genes).fillna(0).astype(int)"
   ]
  },
  {
   "cell_type": "markdown",
   "metadata": {
    "papermill": {
     "duration": 0.011018,
     "end_time": "2020-01-27T03:47:31.477744",
     "exception": false,
     "start_time": "2020-01-27T03:47:31.466726",
     "status": "completed"
    },
    "tags": []
   },
   "source": [
    "## Save DMG DMR counts table"
   ]
  },
  {
   "cell_type": "code",
   "execution_count": 13,
   "metadata": {
    "ExecuteTime": {
     "end_time": "2020-01-26T04:09:33.041950Z",
     "start_time": "2020-01-26T04:09:32.906763Z"
    },
    "papermill": {
     "duration": 0.178639,
     "end_time": "2020-01-27T03:47:31.666676",
     "exception": false,
     "start_time": "2020-01-27T03:47:31.488037",
     "status": "completed"
    },
    "tags": []
   },
   "outputs": [
    {
     "data": {
      "text/plain": [
       "(548, 696)"
      ]
     },
     "execution_count": 13,
     "metadata": {},
     "output_type": "execute_result"
    }
   ],
   "source": [
    "gene_pos = (gene_dmr_counts > 0).sum(axis=1)\n",
    "gene_dmr_counts = gene_dmr_counts[gene_pos > 0].copy()\n",
    "gene_dmr_counts.to_msgpack('DMRCounts_for_DMG_in_cluster_pairs.msg')\n",
    "gene_dmr_counts.shape"
   ]
  },
  {
   "cell_type": "code",
   "execution_count": 14,
   "metadata": {
    "ExecuteTime": {
     "end_time": "2020-01-26T04:09:44.777573Z",
     "start_time": "2020-01-26T04:09:44.380826Z"
    },
    "papermill": {
     "duration": 0.348562,
     "end_time": "2020-01-27T03:47:32.026184",
     "exception": false,
     "start_time": "2020-01-27T03:47:31.677622",
     "status": "completed"
    },
    "tags": []
   },
   "outputs": [
    {
     "data": {
      "text/plain": [
       "<matplotlib.image.AxesImage at 0x7fafc74e0080>"
      ]
     },
     "execution_count": 14,
     "metadata": {},
     "output_type": "execute_result"
    },
    {
     "data": {
      "image/png": "[encoded data removed]",
      "text/plain": [
       "<Figure size 900x1500 with 1 Axes>"
      ]
     },
     "metadata": {
      "needs_background": "light"
     },
     "output_type": "display_data"
    }
   ],
   "source": [
    "plt.figure(figsize=(3, 5), dpi=300)\n",
    "plt.imshow(gene_dmr_counts.values, vmin=3, vmax=30, aspect='auto')"
   ]
  },
  {
   "cell_type": "code",
   "execution_count": null,
   "metadata": {
    "papermill": {
     "duration": 0.011749,
     "end_time": "2020-01-27T03:47:32.050248",
     "exception": false,
     "start_time": "2020-01-27T03:47:32.038499",
     "status": "completed"
    },
    "tags": []
   },
   "outputs": [],
   "source": []
  },
  {
   "cell_type": "code",
   "execution_count": null,
   "metadata": {
    "papermill": {
     "duration": 0.011524,
     "end_time": "2020-01-27T03:47:32.073605",
     "exception": false,
     "start_time": "2020-01-27T03:47:32.062081",
     "status": "completed"
    },
    "tags": []
   },
   "outputs": [],
   "source": []
  },
  {
   "cell_type": "code",
   "execution_count": null,
   "metadata": {
    "papermill": {
     "duration": 0.011517,
     "end_time": "2020-01-27T03:47:32.096581",
     "exception": false,
     "start_time": "2020-01-27T03:47:32.085064",
     "status": "completed"
    },
    "tags": []
   },
   "outputs": [],
   "source": []
  },
  {
   "cell_type": "code",
   "execution_count": null,
   "metadata": {
    "papermill": {
     "duration": 0.011407,
     "end_time": "2020-01-27T03:47:32.119656",
     "exception": false,
     "start_time": "2020-01-27T03:47:32.108249",
     "status": "completed"
    },
    "tags": []
   },
   "outputs": [],
   "source": []
  }
 ],
 "metadata": {
  "hide_input": false,
  "kernelspec": {
   "display_name": "Python 3",
   "language": "python",
   "name": "python3"
  },
  "language_info": {
   "codemirror_mode": {
    "name": "ipython",
    "version": 3
   },
   "file_extension": ".py",
   "mimetype": "text/x-python",
   "name": "python",
   "nbconvert_exporter": "python",
   "pygments_lexer": "ipython3",
   "version": "3.7.3"
  },
  "papermill": {
   "duration": 29.79286,
   "end_time": "2020-01-27T03:47:32.738208",
   "environment_variables": {},
   "exception": null,
   "input_path": "4.intersect_everything.ipynb",
   "output_path": "/home/hanliu/project/mouse_rostral_brain/study/ClustersEnsemble/ExcITPTSubtypeEnsemble/4.intersect_everything.ipynb",
   "parameters": {
    "delta_dmr_rate_cutoff": 0.3
   },
   "start_time": "2020-01-27T03:47:02.945348",
   "version": "1.0.1"
  },
  "toc": {
   "base_numbering": 1,
   "nav_menu": {},
   "number_sections": true,
   "sideBar": true,
   "skip_h1_title": true,
   "title_cell": "Table of Contents",
   "title_sidebar": "Contents",
   "toc_cell": false,
   "toc_position": {},
   "toc_section_display": true,
   "toc_window_display": true
  }
 },
 "nbformat": 4,
 "nbformat_minor": 2
}