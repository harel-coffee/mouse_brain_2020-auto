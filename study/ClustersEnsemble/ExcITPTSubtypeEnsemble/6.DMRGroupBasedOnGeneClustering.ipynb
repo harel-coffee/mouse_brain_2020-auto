{
 "cells": [
  {
   "cell_type": "code",
   "execution_count": 1,
   "metadata": {
    "ExecuteTime": {
     "end_time": "2020-01-26T05:29:16.749415Z",
     "start_time": "2020-01-26T05:29:16.541873Z"
    },
    "papermill": {
     "duration": 0.200594,
     "end_time": "2020-01-27T03:53:25.084033",
     "exception": false,
     "start_time": "2020-01-27T03:53:24.883439",
     "status": "completed"
    },
    "tags": []
   },
   "outputs": [],
   "source": [
    "import pandas as pd\n",
    "import numpy as np\n",
    "import anndata\n",
    "import json\n",
    "from collections import defaultdict"
   ]
  },
  {
   "cell_type": "code",
   "execution_count": 2,
   "metadata": {
    "ExecuteTime": {
     "end_time": "2020-01-26T05:29:17.839829Z",
     "start_time": "2020-01-26T05:29:17.370462Z"
    },
    "papermill": {
     "duration": 0.045005,
     "end_time": "2020-01-27T03:53:25.136024",
     "exception": false,
     "start_time": "2020-01-27T03:53:25.091019",
     "status": "completed"
    },
    "tags": []
   },
   "outputs": [],
   "source": [
    "gene_clusters = anndata.read_h5ad('GeneClustering.h5ad')\n",
    "gene_clusters = gene_clusters.obs['leiden']"
   ]
  },
  {
   "cell_type": "code",
   "execution_count": 3,
   "metadata": {
    "ExecuteTime": {
     "end_time": "2020-01-26T05:29:18.392533Z",
     "start_time": "2020-01-26T05:29:18.115665Z"
    },
    "papermill": {
     "duration": 0.059601,
     "end_time": "2020-01-27T03:53:25.201103",
     "exception": false,
     "start_time": "2020-01-27T03:53:25.141502",
     "status": "completed"
    },
    "tags": []
   },
   "outputs": [
    {
     "name": "stderr",
     "output_type": "stream",
     "text": [
      "/home/hanliu/miniconda3/envs/clustering/lib/python3.7/site-packages/IPython/core/interactiveshell.py:3326: FutureWarning: The read_msgpack is deprecated and will be removed in a future version.\n",
      "It is recommended to use pyarrow for on-the-wire transmission of pandas objects.\n",
      "  exec(code_obj, self.user_global_ns, self.user_ns)\n"
     ]
    }
   ],
   "source": [
    "total_corr = pd.read_msgpack('RelatedCorr.msg')"
   ]
  },
  {
   "cell_type": "code",
   "execution_count": 4,
   "metadata": {
    "ExecuteTime": {
     "end_time": "2020-01-26T05:29:22.345089Z",
     "start_time": "2020-01-26T05:29:18.394069Z"
    },
    "papermill": {
     "duration": 4.637766,
     "end_time": "2020-01-27T03:53:29.845658",
     "exception": false,
     "start_time": "2020-01-27T03:53:25.207892",
     "status": "completed"
    },
    "tags": []
   },
   "outputs": [],
   "source": [
    "dmr_records = []\n",
    "with pd.HDFStore('FinalDMGDMR.h5') as f:\n",
    "    for k in f.keys():\n",
    "        if k.endswith('Corr'):\n",
    "            corr_index = f[k]\n",
    "        else:\n",
    "            continue\n",
    "        this_corr = total_corr.loc[corr_index].copy()\n",
    "        this_corr['gene_cluster'] = this_corr['Gene'].map(gene_clusters)\n",
    "        dmr_records.append(this_corr[['DMR', 'gene_cluster']])\n",
    "dmr_records = pd.concat(dmr_records).reset_index(drop=True).drop_duplicates()"
   ]
  },
  {
   "cell_type": "code",
   "execution_count": 5,
   "metadata": {
    "ExecuteTime": {
     "end_time": "2020-01-26T05:29:22.440148Z",
     "start_time": "2020-01-26T05:29:22.346844Z"
    },
    "papermill": {
     "duration": 0.025674,
     "end_time": "2020-01-27T03:53:29.878086",
     "exception": false,
     "start_time": "2020-01-27T03:53:29.852412",
     "status": "completed"
    },
    "tags": []
   },
   "outputs": [],
   "source": [
    "cluster_dmr_index = dmr_records.groupby('gene_cluster').apply(lambda i: i['DMR'].tolist()).to_dict()"
   ]
  },
  {
   "cell_type": "code",
   "execution_count": 6,
   "metadata": {
    "ExecuteTime": {
     "end_time": "2020-01-26T05:31:36.263520Z",
     "start_time": "2020-01-26T05:31:36.085232Z"
    },
    "papermill": {
     "duration": 0.043632,
     "end_time": "2020-01-27T03:53:29.927229",
     "exception": false,
     "start_time": "2020-01-27T03:53:29.883597",
     "status": "completed"
    },
    "tags": []
   },
   "outputs": [],
   "source": [
    "with open('GeneCluster.relatedDMR.index.json', 'w') as f:\n",
    "    json.dump(cluster_dmr_index, f)"
   ]
  },
  {
   "cell_type": "code",
   "execution_count": 7,
   "metadata": {
    "papermill": {
     "duration": 0.012821,
     "end_time": "2020-01-27T03:53:29.945635",
     "exception": false,
     "start_time": "2020-01-27T03:53:29.932814",
     "status": "completed"
    },
    "tags": []
   },
   "outputs": [
    {
     "name": "stdout",
     "output_type": "stream",
     "text": [
      "Cluster 0\t2769\n",
      "Cluster 1\t9650\n",
      "Cluster 2\t15731\n",
      "Cluster 3\t11583\n",
      "Cluster 4\t4574\n",
      "Cluster 5\t3407\n",
      "Cluster 6\t8897\n",
      "Cluster 7\t5150\n",
      "Cluster 8\t8111\n",
      "Cluster 9\t4886\n"
     ]
    }
   ],
   "source": [
    "for cluster, dmrs in cluster_dmr_index.items():\n",
    "    print(f'Cluster {cluster}', len(dmrs), sep='\\t')"
   ]
  },
  {
   "cell_type": "code",
   "execution_count": null,
   "metadata": {
    "papermill": {
     "duration": 0.005871,
     "end_time": "2020-01-27T03:53:29.958336",
     "exception": false,
     "start_time": "2020-01-27T03:53:29.952465",
     "status": "completed"
    },
    "tags": []
   },
   "outputs": [],
   "source": []
  },
  {
   "cell_type": "code",
   "execution_count": null,
   "metadata": {
    "papermill": {
     "duration": 0.005741,
     "end_time": "2020-01-27T03:53:29.969938",
     "exception": false,
     "start_time": "2020-01-27T03:53:29.964197",
     "status": "completed"
    },
    "tags": []
   },
   "outputs": [],
   "source": []
  },
  {
   "cell_type": "code",
   "execution_count": null,
   "metadata": {
    "papermill": {
     "duration": 0.005664,
     "end_time": "2020-01-27T03:53:29.981366",
     "exception": false,
     "start_time": "2020-01-27T03:53:29.975702",
     "status": "completed"
    },
    "tags": []
   },
   "outputs": [],
   "source": []
  },
  {
   "cell_type": "code",
   "execution_count": null,
   "metadata": {
    "papermill": {
     "duration": 0.005633,
     "end_time": "2020-01-27T03:53:29.992609",
     "exception": false,
     "start_time": "2020-01-27T03:53:29.986976",
     "status": "completed"
    },
    "tags": []
   },
   "outputs": [],
   "source": []
  },
  {
   "cell_type": "code",
   "execution_count": null,
   "metadata": {
    "papermill": {
     "duration": 0.005506,
     "end_time": "2020-01-27T03:53:30.003823",
     "exception": false,
     "start_time": "2020-01-27T03:53:29.998317",
     "status": "completed"
    },
    "tags": []
   },
   "outputs": [],
   "source": []
  },
  {
   "cell_type": "code",
   "execution_count": null,
   "metadata": {
    "papermill": {
     "duration": 0.00556,
     "end_time": "2020-01-27T03:53:30.015058",
     "exception": false,
     "start_time": "2020-01-27T03:53:30.009498",
     "status": "completed"
    },
    "tags": []
   },
   "outputs": [],
   "source": []
  }
 ],
 "metadata": {
  "hide_input": false,
  "kernelspec": {
   "display_name": "Python 3",
   "language": "python",
   "name": "python3"
  },
  "language_info": {
   "codemirror_mode": {
    "name": "ipython",
    "version": 3
   },
   "file_extension": ".py",
   "mimetype": "text/x-python",
   "name": "python",
   "nbconvert_exporter": "python",
   "pygments_lexer": "ipython3",
   "version": "3.7.3"
  },
  "papermill": {
   "duration": 6.303247,
   "end_time": "2020-01-27T03:53:30.326640",
   "environment_variables": {},
   "exception": null,
   "input_path": "6.DMRGroupBasedOnGeneClustering.ipynb",
   "output_path": "/home/hanliu/project/mouse_rostral_brain/study/ClustersEnsemble/ExcITPTSubtypeEnsemble/6.DMRGroupBasedOnGeneClustering.ipynb",
   "parameters": {},
   "start_time": "2020-01-27T03:53:24.023393",
   "version": "1.0.1"
  },
  "toc": {
   "base_numbering": 1,
   "nav_menu": {},
   "number_sections": true,
   "sideBar": true,
   "skip_h1_title": true,
   "title_cell": "Table of Contents",
   "title_sidebar": "Contents",
   "toc_cell": false,
   "toc_position": {},
   "toc_section_display": true,
   "toc_window_display": true
  }
 },
 "nbformat": 4,
 "nbformat_minor": 2
}
