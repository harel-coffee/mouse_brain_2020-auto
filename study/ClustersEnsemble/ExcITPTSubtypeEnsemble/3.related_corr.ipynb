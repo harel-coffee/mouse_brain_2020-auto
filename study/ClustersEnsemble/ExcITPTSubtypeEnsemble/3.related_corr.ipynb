{
 "cells": [
  {
   "cell_type": "code",
   "execution_count": 1,
   "metadata": {
    "ExecuteTime": {
     "end_time": "2020-01-26T04:08:31.534305Z",
     "start_time": "2020-01-26T04:08:31.395548Z"
    },
    "papermill": {
     "duration": 0.147257,
     "end_time": "2020-01-27T03:46:54.601025",
     "exception": false,
     "start_time": "2020-01-27T03:46:54.453768",
     "status": "completed"
    },
    "tags": []
   },
   "outputs": [],
   "source": [
    "import pandas as pd"
   ]
  },
  {
   "cell_type": "markdown",
   "metadata": {
    "papermill": {
     "duration": 0.006026,
     "end_time": "2020-01-27T03:46:54.613904",
     "exception": false,
     "start_time": "2020-01-27T03:46:54.607878",
     "status": "completed"
    },
    "tags": []
   },
   "source": [
    "## Parameter"
   ]
  },
  {
   "cell_type": "code",
   "execution_count": 2,
   "metadata": {
    "ExecuteTime": {
     "end_time": "2020-01-26T04:08:32.514230Z",
     "start_time": "2020-01-26T04:08:32.512179Z"
    },
    "papermill": {
     "duration": 0.010739,
     "end_time": "2020-01-27T03:46:54.630625",
     "exception": false,
     "start_time": "2020-01-27T03:46:54.619886",
     "status": "completed"
    },
    "tags": [
     "parameters"
    ]
   },
   "outputs": [],
   "source": [
    "corr_cutoff = 0.35\n",
    "distance_cutoff = 500000"
   ]
  },
  {
   "cell_type": "code",
   "execution_count": 3,
   "metadata": {
    "papermill": {
     "duration": 0.010406,
     "end_time": "2020-01-27T03:46:54.646639",
     "exception": false,
     "start_time": "2020-01-27T03:46:54.636233",
     "status": "completed"
    },
    "tags": [
     "injected-parameters"
    ]
   },
   "outputs": [],
   "source": [
    "# Parameters\n",
    "corr_cutoff = 0.3\n",
    "distance_cutoff = 500000\n"
   ]
  },
  {
   "cell_type": "code",
   "execution_count": 4,
   "metadata": {
    "ExecuteTime": {
     "end_time": "2020-01-26T04:08:36.932132Z",
     "start_time": "2020-01-26T04:08:32.800190Z"
    },
    "papermill": {
     "duration": 3.936021,
     "end_time": "2020-01-27T03:46:58.588419",
     "exception": false,
     "start_time": "2020-01-27T03:46:54.652398",
     "status": "completed"
    },
    "tags": []
   },
   "outputs": [
    {
     "name": "stderr",
     "output_type": "stream",
     "text": [
      "/home/hanliu/miniconda3/envs/clustering/lib/python3.7/site-packages/IPython/core/interactiveshell.py:3326: FutureWarning: The read_msgpack is deprecated and will be removed in a future version.\n",
      "It is recommended to use pyarrow for on-the-wire transmission of pandas objects.\n",
      "  exec(code_obj, self.user_global_ns, self.user_ns)\n"
     ]
    }
   ],
   "source": [
    "total_corr = pd.read_msgpack('/home/hanliu/project/mouse_rostral_brain/study/DMRGeneCorr/TotalGeneDMRCorrLoop.0.3.msg')"
   ]
  },
  {
   "cell_type": "code",
   "execution_count": 5,
   "metadata": {
    "ExecuteTime": {
     "end_time": "2020-01-26T04:08:38.106066Z",
     "start_time": "2020-01-26T04:08:36.933687Z"
    },
    "papermill": {
     "duration": 1.024367,
     "end_time": "2020-01-27T03:46:59.619622",
     "exception": false,
     "start_time": "2020-01-27T03:46:58.595255",
     "status": "completed"
    },
    "tags": []
   },
   "outputs": [],
   "source": [
    "use_gene = pd.read_csv('related_dmgs.txt', index_col=0, header=None).index\n",
    "use_dmr = pd.read_csv('related_dmrs.txt', index_col=0, header=None).index"
   ]
  },
  {
   "cell_type": "code",
   "execution_count": 6,
   "metadata": {
    "ExecuteTime": {
     "end_time": "2020-01-26T04:08:40.557536Z",
     "start_time": "2020-01-26T04:08:38.107693Z"
    },
    "papermill": {
     "duration": 2.13222,
     "end_time": "2020-01-27T03:47:01.758505",
     "exception": false,
     "start_time": "2020-01-27T03:46:59.626285",
     "status": "completed"
    },
    "tags": []
   },
   "outputs": [],
   "source": [
    "use_corr = total_corr[total_corr['DMR'].isin(use_dmr) & \n",
    "           total_corr['Gene'].isin(use_gene) & \n",
    "           (total_corr['DMR_to_gene_dist'].abs() < distance_cutoff) & \n",
    "           (total_corr['Corr'] > corr_cutoff)].reset_index(drop=True)"
   ]
  },
  {
   "cell_type": "code",
   "execution_count": 7,
   "metadata": {
    "ExecuteTime": {
     "end_time": "2020-01-26T04:08:41.187788Z",
     "start_time": "2020-01-26T04:08:40.558956Z"
    },
    "papermill": {
     "duration": 0.104565,
     "end_time": "2020-01-27T03:47:01.869736",
     "exception": false,
     "start_time": "2020-01-27T03:47:01.765171",
     "status": "completed"
    },
    "tags": []
   },
   "outputs": [
    {
     "name": "stderr",
     "output_type": "stream",
     "text": [
      "/home/hanliu/miniconda3/envs/clustering/lib/python3.7/site-packages/ipykernel_launcher.py:1: FutureWarning: to_msgpack is deprecated and will be removed in a future version.\n",
      "It is recommended to use pyarrow for on-the-wire transmission of pandas objects.\n",
      "  \"\"\"Entry point for launching an IPython kernel.\n"
     ]
    }
   ],
   "source": [
    "use_corr.to_msgpack('RelatedCorr.msg')"
   ]
  },
  {
   "cell_type": "code",
   "execution_count": 8,
   "metadata": {
    "ExecuteTime": {
     "end_time": "2020-01-26T04:08:41.193088Z",
     "start_time": "2020-01-26T04:08:41.189142Z"
    },
    "papermill": {
     "duration": 0.014567,
     "end_time": "2020-01-27T03:47:01.891071",
     "exception": false,
     "start_time": "2020-01-27T03:47:01.876504",
     "status": "completed"
    },
    "tags": []
   },
   "outputs": [
    {
     "data": {
      "text/plain": [
       "(114989, 5)"
      ]
     },
     "execution_count": 8,
     "metadata": {},
     "output_type": "execute_result"
    }
   ],
   "source": [
    "use_corr.shape"
   ]
  },
  {
   "cell_type": "code",
   "execution_count": 9,
   "metadata": {
    "ExecuteTime": {
     "end_time": "2020-01-26T04:08:41.202701Z",
     "start_time": "2020-01-26T04:08:41.194230Z"
    },
    "papermill": {
     "duration": 0.018381,
     "end_time": "2020-01-27T03:47:01.915673",
     "exception": false,
     "start_time": "2020-01-27T03:47:01.897292",
     "status": "completed"
    },
    "tags": []
   },
   "outputs": [
    {
     "data": {
      "text/html": [
       "<div>\n",
       "<style scoped>\n",
       "    .dataframe tbody tr th:only-of-type {\n",
       "        vertical-align: middle;\n",
       "    }\n",
       "\n",
       "    .dataframe tbody tr th {\n",
       "        vertical-align: top;\n",
       "    }\n",
       "\n",
       "    .dataframe thead th {\n",
       "        text-align: right;\n",
       "    }\n",
       "</style>\n",
       "<table border=\"1\" class=\"dataframe\">\n",
       "  <thead>\n",
       "    <tr style=\"text-align: right;\">\n",
       "      <th></th>\n",
       "      <th>DMR</th>\n",
       "      <th>Gene</th>\n",
       "      <th>Corr</th>\n",
       "      <th>chrom</th>\n",
       "      <th>DMR_to_gene_dist</th>\n",
       "    </tr>\n",
       "  </thead>\n",
       "  <tbody>\n",
       "    <tr>\n",
       "      <th>0</th>\n",
       "      <td>Subchr1_3352</td>\n",
       "      <td>ENSMUSG00000025905.13</td>\n",
       "      <td>0.417337</td>\n",
       "      <td>chr1</td>\n",
       "      <td>-492655.5</td>\n",
       "    </tr>\n",
       "    <tr>\n",
       "      <th>1</th>\n",
       "      <td>Subchr1_3410</td>\n",
       "      <td>ENSMUSG00000025905.13</td>\n",
       "      <td>0.393337</td>\n",
       "      <td>chr1</td>\n",
       "      <td>-451807.0</td>\n",
       "    </tr>\n",
       "    <tr>\n",
       "      <th>2</th>\n",
       "      <td>Subchr1_3502</td>\n",
       "      <td>ENSMUSG00000025905.13</td>\n",
       "      <td>0.343135</td>\n",
       "      <td>chr1</td>\n",
       "      <td>-386092.0</td>\n",
       "    </tr>\n",
       "    <tr>\n",
       "      <th>3</th>\n",
       "      <td>Subchr1_3521</td>\n",
       "      <td>ENSMUSG00000025905.13</td>\n",
       "      <td>0.425302</td>\n",
       "      <td>chr1</td>\n",
       "      <td>-373757.5</td>\n",
       "    </tr>\n",
       "    <tr>\n",
       "      <th>4</th>\n",
       "      <td>Subchr1_3545</td>\n",
       "      <td>ENSMUSG00000025905.13</td>\n",
       "      <td>0.342158</td>\n",
       "      <td>chr1</td>\n",
       "      <td>-358910.0</td>\n",
       "    </tr>\n",
       "  </tbody>\n",
       "</table>\n",
       "</div>"
      ],
      "text/plain": [
       "            DMR                   Gene      Corr chrom  DMR_to_gene_dist\n",
       "0  Subchr1_3352  ENSMUSG00000025905.13  0.417337  chr1         -492655.5\n",
       "1  Subchr1_3410  ENSMUSG00000025905.13  0.393337  chr1         -451807.0\n",
       "2  Subchr1_3502  ENSMUSG00000025905.13  0.343135  chr1         -386092.0\n",
       "3  Subchr1_3521  ENSMUSG00000025905.13  0.425302  chr1         -373757.5\n",
       "4  Subchr1_3545  ENSMUSG00000025905.13  0.342158  chr1         -358910.0"
      ]
     },
     "execution_count": 9,
     "metadata": {},
     "output_type": "execute_result"
    }
   ],
   "source": [
    "use_corr.head()"
   ]
  },
  {
   "cell_type": "code",
   "execution_count": null,
   "metadata": {
    "papermill": {
     "duration": 0.006605,
     "end_time": "2020-01-27T03:47:01.928779",
     "exception": false,
     "start_time": "2020-01-27T03:47:01.922174",
     "status": "completed"
    },
    "tags": []
   },
   "outputs": [],
   "source": []
  },
  {
   "cell_type": "code",
   "execution_count": null,
   "metadata": {
    "papermill": {
     "duration": 0.006451,
     "end_time": "2020-01-27T03:47:01.941857",
     "exception": false,
     "start_time": "2020-01-27T03:47:01.935406",
     "status": "completed"
    },
    "tags": []
   },
   "outputs": [],
   "source": []
  },
  {
   "cell_type": "code",
   "execution_count": null,
   "metadata": {
    "papermill": {
     "duration": 0.006585,
     "end_time": "2020-01-27T03:47:01.955054",
     "exception": false,
     "start_time": "2020-01-27T03:47:01.948469",
     "status": "completed"
    },
    "tags": []
   },
   "outputs": [],
   "source": []
  },
  {
   "cell_type": "code",
   "execution_count": null,
   "metadata": {
    "papermill": {
     "duration": 0.006539,
     "end_time": "2020-01-27T03:47:01.968138",
     "exception": false,
     "start_time": "2020-01-27T03:47:01.961599",
     "status": "completed"
    },
    "tags": []
   },
   "outputs": [],
   "source": []
  },
  {
   "cell_type": "code",
   "execution_count": null,
   "metadata": {
    "papermill": {
     "duration": 0.006586,
     "end_time": "2020-01-27T03:47:01.981452",
     "exception": false,
     "start_time": "2020-01-27T03:47:01.974866",
     "status": "completed"
    },
    "tags": []
   },
   "outputs": [],
   "source": []
  }
 ],
 "metadata": {
  "hide_input": false,
  "kernelspec": {
   "display_name": "Python 3",
   "language": "python",
   "name": "python3"
  },
  "language_info": {
   "codemirror_mode": {
    "name": "ipython",
    "version": 3
   },
   "file_extension": ".py",
   "mimetype": "text/x-python",
   "name": "python",
   "nbconvert_exporter": "python",
   "pygments_lexer": "ipython3",
   "version": "3.7.3"
  },
  "papermill": {
   "duration": 9.346583,
   "end_time": "2020-01-27T03:47:02.896224",
   "environment_variables": {},
   "exception": null,
   "input_path": "3.related_corr.ipynb",
   "output_path": "/home/hanliu/project/mouse_rostral_brain/study/ClustersEnsemble/ExcITPTSubtypeEnsemble/3.related_corr.ipynb",
   "parameters": {
    "corr_cutoff": 0.3,
    "distance_cutoff": 500000
   },
   "start_time": "2020-01-27T03:46:53.549641",
   "version": "1.0.1"
  },
  "toc": {
   "base_numbering": 1,
   "nav_menu": {},
   "number_sections": true,
   "sideBar": true,
   "skip_h1_title": true,
   "title_cell": "Table of Contents",
   "title_sidebar": "Contents",
   "toc_cell": false,
   "toc_position": {},
   "toc_section_display": true,
   "toc_window_display": true
  }
 },
 "nbformat": 4,
 "nbformat_minor": 2
}