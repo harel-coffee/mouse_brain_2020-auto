{
 "cells": [
  {
   "cell_type": "code",
   "execution_count": 1,
   "metadata": {
    "ExecuteTime": {
     "end_time": "2020-01-26T04:07:52.163773Z",
     "start_time": "2020-01-26T04:07:51.973426Z"
    },
    "papermill": {
     "duration": 0.201242,
     "end_time": "2020-01-27T02:21:46.893140",
     "exception": false,
     "start_time": "2020-01-27T02:21:46.691898",
     "status": "completed"
    },
    "tags": []
   },
   "outputs": [],
   "source": [
    "import pandas as pd\n",
    "import anndata"
   ]
  },
  {
   "cell_type": "markdown",
   "metadata": {
    "papermill": {
     "duration": 0.007195,
     "end_time": "2020-01-27T02:21:46.908307",
     "exception": false,
     "start_time": "2020-01-27T02:21:46.901112",
     "status": "completed"
    },
    "tags": []
   },
   "source": [
    "## Parameters"
   ]
  },
  {
   "cell_type": "code",
   "execution_count": 2,
   "metadata": {
    "ExecuteTime": {
     "end_time": "2020-01-26T04:07:52.585971Z",
     "start_time": "2020-01-26T04:07:52.583303Z"
    },
    "papermill": {
     "duration": 0.012706,
     "end_time": "2020-01-27T02:21:46.930070",
     "exception": false,
     "start_time": "2020-01-27T02:21:46.917364",
     "status": "completed"
    },
    "tags": [
     "parameters"
    ]
   },
   "outputs": [],
   "source": [
    "use_clusters = [\n",
    "    'CA1_Ak5', 'CA1_Chrm3', 'CA1_Kif26a', 'CA1_Ptprg',\n",
    "    'CA3_Cadm2', 'CA3_Efnb2', 'CA3-St18_Epha5', 'CA3-St18_Nuak1',\n",
    "    'CA3-St18_Tead1', 'DG_dg-all', 'DG-po_Bcl11a', 'DG-po_Calb2',\n",
    "    'DG-po_Kctd8', 'Gfra1_Gfra1', 'IG-CA2_Chrm3', 'IG-CA2_Peak1', 'IG-CA2_Xpr1'\n",
    "]\n",
    "hypo_dmr_hits_path = '/home/hanliu/project/mouse_rostral_brain/DMR/SubType/Total/TotalHits.HypoDMR.h5ad'\n",
    "# 'CA1_Lingo2' not include, because it co-cluster with RHP, probably an incomplete cluster"
   ]
  },
  {
   "cell_type": "code",
   "execution_count": 3,
   "metadata": {
    "papermill": {
     "duration": 0.011953,
     "end_time": "2020-01-27T02:21:46.948811",
     "exception": false,
     "start_time": "2020-01-27T02:21:46.936858",
     "status": "completed"
    },
    "tags": [
     "injected-parameters"
    ]
   },
   "outputs": [],
   "source": [
    "# Parameters\n",
    "use_clusters = [\"CA1_Ak5\", \"CA1_Chrm3\", \"CA1_Kif26a\", \"CA1_Lingo2\", \"CA1_Ptprg\", \"CA3_Cadm2\", \"CA3_Efnb2\", \"CA3-St18_Epha5\", \"CA3-St18_Nuak1\", \"CA3-St18_Tead1\", \"DG-po_Bcl11a\", \"DG-po_Calb2\", \"DG-po_Kctd8\", \"Gfra1_Gfra1\", \"IG-CA2_Chrm3\", \"IG-CA2_Peak1\", \"IG-CA2_Xpr1\"]\n",
    "hypo_dmr_hits_path = \"/home/hanliu/project/mouse_rostral_brain/DMR/SubType/Total/TotalHits.HypoDMR.h5ad\"\n"
   ]
  },
  {
   "cell_type": "markdown",
   "metadata": {
    "papermill": {
     "duration": 0.006697,
     "end_time": "2020-01-27T02:21:46.962445",
     "exception": false,
     "start_time": "2020-01-27T02:21:46.955748",
     "status": "completed"
    },
    "tags": []
   },
   "source": [
    "## Hypo Hits"
   ]
  },
  {
   "cell_type": "code",
   "execution_count": 4,
   "metadata": {
    "ExecuteTime": {
     "end_time": "2020-01-26T04:08:08.205018Z",
     "start_time": "2020-01-26T04:07:53.264052Z"
    },
    "papermill": {
     "duration": 15.13544,
     "end_time": "2020-01-27T02:22:02.104889",
     "exception": false,
     "start_time": "2020-01-27T02:21:46.969449",
     "status": "completed"
    },
    "tags": []
   },
   "outputs": [],
   "source": [
    "hypo_hits_adata = anndata.read_h5ad(hypo_dmr_hits_path)\n",
    "related_dmr = (hypo_hits_adata[:, use_clusters].X.sum(axis=1) > 0).A1\n",
    "use_dmr = hypo_hits_adata.obs_names[related_dmr]"
   ]
  },
  {
   "cell_type": "code",
   "execution_count": 5,
   "metadata": {
    "ExecuteTime": {
     "end_time": "2020-01-26T04:08:13.831484Z",
     "start_time": "2020-01-26T04:08:08.207941Z"
    },
    "papermill": {
     "duration": 5.009207,
     "end_time": "2020-01-27T02:22:07.121980",
     "exception": false,
     "start_time": "2020-01-27T02:22:02.112773",
     "status": "completed"
    },
    "tags": []
   },
   "outputs": [],
   "source": [
    "use_hits = hypo_hits_adata[use_dmr][:, use_clusters]\n",
    "use_hits.write_h5ad('RelatedClusterAndDMR.hypo_hits.h5ad')"
   ]
  },
  {
   "cell_type": "code",
   "execution_count": 6,
   "metadata": {
    "ExecuteTime": {
     "end_time": "2020-01-26T04:08:13.840039Z",
     "start_time": "2020-01-26T04:08:13.834027Z"
    },
    "papermill": {
     "duration": 0.016449,
     "end_time": "2020-01-27T02:22:07.146500",
     "exception": false,
     "start_time": "2020-01-27T02:22:07.130051",
     "status": "completed"
    },
    "tags": []
   },
   "outputs": [
    {
     "data": {
      "text/plain": [
       "AnnData object with n_obs × n_vars = 1728707 × 17 \n",
       "    obs: '#chr', 'start', 'end', 'number_of_dms'"
      ]
     },
     "execution_count": 6,
     "metadata": {},
     "output_type": "execute_result"
    }
   ],
   "source": [
    "use_hits"
   ]
  },
  {
   "cell_type": "markdown",
   "metadata": {
    "papermill": {
     "duration": 0.007262,
     "end_time": "2020-01-27T02:22:07.161132",
     "exception": false,
     "start_time": "2020-01-27T02:22:07.153870",
     "status": "completed"
    },
    "tags": []
   },
   "source": [
    "## DMR Rate"
   ]
  },
  {
   "cell_type": "code",
   "execution_count": 7,
   "metadata": {
    "ExecuteTime": {
     "end_time": "2020-01-26T04:08:23.431707Z",
     "start_time": "2020-01-26T04:08:13.841505Z"
    },
    "papermill": {
     "duration": 9.599168,
     "end_time": "2020-01-27T02:22:16.767728",
     "exception": false,
     "start_time": "2020-01-27T02:22:07.168560",
     "status": "completed"
    },
    "tags": []
   },
   "outputs": [],
   "source": [
    "with pd.HDFStore('/home/hanliu/project/mouse_rostral_brain/DMR/SubType/Total/DMRInfo.h5') as hdf:\n",
    "    dmr_rate = hdf['Rate']\n",
    "dmr_rate.index = hypo_hits_adata.obs_names\n",
    "use_rate = dmr_rate.loc[use_dmr, use_clusters]"
   ]
  },
  {
   "cell_type": "code",
   "execution_count": 8,
   "metadata": {
    "ExecuteTime": {
     "end_time": "2020-01-26T04:08:24.896237Z",
     "start_time": "2020-01-26T04:08:23.433706Z"
    },
    "papermill": {
     "duration": 1.783108,
     "end_time": "2020-01-27T02:22:18.558711",
     "exception": false,
     "start_time": "2020-01-27T02:22:16.775603",
     "status": "completed"
    },
    "tags": []
   },
   "outputs": [
    {
     "name": "stderr",
     "output_type": "stream",
     "text": [
      "/home/hanliu/miniconda3/envs/clustering/lib/python3.7/site-packages/ipykernel_launcher.py:1: FutureWarning: to_msgpack is deprecated and will be removed in a future version.\n",
      "It is recommended to use pyarrow for on-the-wire transmission of pandas objects.\n",
      "  \"\"\"Entry point for launching an IPython kernel.\n"
     ]
    }
   ],
   "source": [
    "use_rate.to_msgpack('RelatedClusterAndDMR.mcg_rate.msg')"
   ]
  },
  {
   "cell_type": "code",
   "execution_count": 9,
   "metadata": {
    "ExecuteTime": {
     "end_time": "2020-01-26T04:08:25.416561Z",
     "start_time": "2020-01-26T04:08:24.897540Z"
    },
    "papermill": {
     "duration": 0.537252,
     "end_time": "2020-01-27T02:22:19.104569",
     "exception": false,
     "start_time": "2020-01-27T02:22:18.567317",
     "status": "completed"
    },
    "tags": []
   },
   "outputs": [],
   "source": [
    "with open('related_dmrs.txt', 'w') as f:\n",
    "    for dmr in use_dmr:\n",
    "        f.write(dmr + '\\n')"
   ]
  },
  {
   "cell_type": "code",
   "execution_count": null,
   "metadata": {
    "papermill": {
     "duration": 0.00813,
     "end_time": "2020-01-27T02:22:19.121247",
     "exception": false,
     "start_time": "2020-01-27T02:22:19.113117",
     "status": "completed"
    },
    "tags": []
   },
   "outputs": [],
   "source": []
  },
  {
   "cell_type": "code",
   "execution_count": null,
   "metadata": {
    "papermill": {
     "duration": 0.00755,
     "end_time": "2020-01-27T02:22:19.136592",
     "exception": false,
     "start_time": "2020-01-27T02:22:19.129042",
     "status": "completed"
    },
    "tags": []
   },
   "outputs": [],
   "source": []
  },
  {
   "cell_type": "code",
   "execution_count": null,
   "metadata": {
    "papermill": {
     "duration": 0.007703,
     "end_time": "2020-01-27T02:22:19.152037",
     "exception": false,
     "start_time": "2020-01-27T02:22:19.144334",
     "status": "completed"
    },
    "tags": []
   },
   "outputs": [],
   "source": []
  },
  {
   "cell_type": "code",
   "execution_count": null,
   "metadata": {
    "papermill": {
     "duration": 0.007577,
     "end_time": "2020-01-27T02:22:19.167327",
     "exception": false,
     "start_time": "2020-01-27T02:22:19.159750",
     "status": "completed"
    },
    "tags": []
   },
   "outputs": [],
   "source": []
  },
  {
   "cell_type": "code",
   "execution_count": null,
   "metadata": {
    "papermill": {
     "duration": 0.00765,
     "end_time": "2020-01-27T02:22:19.182851",
     "exception": false,
     "start_time": "2020-01-27T02:22:19.175201",
     "status": "completed"
    },
    "tags": []
   },
   "outputs": [],
   "source": []
  },
  {
   "cell_type": "code",
   "execution_count": null,
   "metadata": {
    "papermill": {
     "duration": 0.007565,
     "end_time": "2020-01-27T02:22:19.198090",
     "exception": false,
     "start_time": "2020-01-27T02:22:19.190525",
     "status": "completed"
    },
    "tags": []
   },
   "outputs": [],
   "source": []
  },
  {
   "cell_type": "code",
   "execution_count": null,
   "metadata": {
    "papermill": {
     "duration": 0.007605,
     "end_time": "2020-01-27T02:22:19.213439",
     "exception": false,
     "start_time": "2020-01-27T02:22:19.205834",
     "status": "completed"
    },
    "tags": []
   },
   "outputs": [],
   "source": []
  }
 ],
 "metadata": {
  "hide_input": false,
  "kernelspec": {
   "display_name": "Python 3",
   "language": "python",
   "name": "python3"
  },
  "language_info": {
   "codemirror_mode": {
    "name": "ipython",
    "version": 3
   },
   "file_extension": ".py",
   "mimetype": "text/x-python",
   "name": "python",
   "nbconvert_exporter": "python",
   "pygments_lexer": "ipython3",
   "version": "3.7.3"
  },
  "papermill": {
   "duration": 34.618399,
   "end_time": "2020-01-27T02:22:20.431306",
   "environment_variables": {},
   "exception": null,
   "input_path": "2.related_dmrs.ipynb",
   "output_path": "/home/hanliu/project/mouse_rostral_brain/study/ClustersEnsemble/HPFSubtypeEnsemble/2.related_dmrs.ipynb",
   "parameters": {
    "hypo_dmr_hits_path": "/home/hanliu/project/mouse_rostral_brain/DMR/SubType/Total/TotalHits.HypoDMR.h5ad",
    "use_clusters": [
     "CA1_Ak5",
     "CA1_Chrm3",
     "CA1_Kif26a",
     "CA1_Lingo2",
     "CA1_Ptprg",
     "CA3_Cadm2",
     "CA3_Efnb2",
     "CA3-St18_Epha5",
     "CA3-St18_Nuak1",
     "CA3-St18_Tead1",
     "DG-po_Bcl11a",
     "DG-po_Calb2",
     "DG-po_Kctd8",
     "Gfra1_Gfra1",
     "IG-CA2_Chrm3",
     "IG-CA2_Peak1",
     "IG-CA2_Xpr1"
    ]
   },
   "start_time": "2020-01-27T02:21:45.812907",
   "version": "1.0.1"
  },
  "toc": {
   "base_numbering": 1,
   "nav_menu": {},
   "number_sections": true,
   "sideBar": true,
   "skip_h1_title": true,
   "title_cell": "Table of Contents",
   "title_sidebar": "Contents",
   "toc_cell": false,
   "toc_position": {},
   "toc_section_display": true,
   "toc_window_display": true
  }
 },
 "nbformat": 4,
 "nbformat_minor": 2
}