{
 "cells": [
  {
   "cell_type": "code",
   "execution_count": 2,
   "metadata": {
    "ExecuteTime": {
     "end_time": "2020-01-27T05:04:34.953472Z",
     "start_time": "2020-01-27T05:04:34.538774Z"
    },
    "papermill": {
     "duration": 0.368299,
     "end_time": "2020-01-27T02:55:11.737007",
     "exception": false,
     "start_time": "2020-01-27T02:55:11.368708",
     "status": "completed"
    },
    "tags": []
   },
   "outputs": [],
   "source": [
    "import pandas as pd\n",
    "import pathlib\n",
    "import seaborn as sns\n",
    "import matplotlib.pyplot as plt\n",
    "import joblib\n",
    "import anndata"
   ]
  },
  {
   "cell_type": "code",
   "execution_count": 3,
   "metadata": {
    "ExecuteTime": {
     "end_time": "2020-01-27T05:04:35.398474Z",
     "start_time": "2020-01-27T05:04:35.383959Z"
    },
    "papermill": {
     "duration": 0.028194,
     "end_time": "2020-01-27T02:55:11.776586",
     "exception": false,
     "start_time": "2020-01-27T02:55:11.748392",
     "status": "completed"
    },
    "tags": []
   },
   "outputs": [],
   "source": [
    "from matplotlib import rc\n",
    "\n",
    "labelsize = 6\n",
    "linewidth = 0.6\n",
    "rc('lines', linewidth=linewidth)\n",
    "rc('axes', labelsize=labelsize, linewidth=linewidth)\n",
    "rc('xtick', labelsize=labelsize)\n",
    "rc('ytick', labelsize=labelsize)\n",
    "rc('xtick.major', width=linewidth)\n",
    "rc('ytick.major', width=linewidth)\n",
    "rc('xtick.minor', width=linewidth-0.2)\n",
    "rc('ytick.minor', width=linewidth-0.2)\n",
    "rc('patch', linewidth=linewidth)\n",
    "\n",
    "major_type_palette = pd.read_csv('/home/hanliu/project/mouse_rostral_brain/metadata/palette/major_type.palette.csv',\n",
    "                                header=None, index_col=0, squeeze=True).to_dict()\n",
    "sub_type_palette = pd.read_csv('/home/hanliu/project/mouse_rostral_brain/metadata/palette/sub_type.palette.csv',\n",
    "                                header=None, index_col=0, squeeze=True).to_dict()\n",
    "major_region_palette = pd.read_csv('/home/hanliu/project/mouse_rostral_brain/metadata/palette/major_region.palette.csv',\n",
    "                                header=None, index_col=0, squeeze=True).to_dict()\n",
    "sub_region_palette = pd.read_csv('/home/hanliu/project/mouse_rostral_brain/metadata/palette/sub_region.palette.csv',\n",
    "                                header=None, index_col=0, squeeze=True).to_dict()\n"
   ]
  },
  {
   "cell_type": "code",
   "execution_count": 4,
   "metadata": {
    "ExecuteTime": {
     "end_time": "2020-01-27T05:04:35.617433Z",
     "start_time": "2020-01-27T05:04:35.615334Z"
    },
    "papermill": {
     "duration": 0.015118,
     "end_time": "2020-01-27T02:55:11.801993",
     "exception": false,
     "start_time": "2020-01-27T02:55:11.786875",
     "status": "completed"
    },
    "tags": [
     "parameters"
    ]
   },
   "outputs": [],
   "source": [
    "oddsratio_cutoff = 1.8\n",
    "lgp_cutoff = 10\n",
    "motif_enrichment_dir = '/home/hanliu/project/mouse_rostral_brain/study/ClustersEnsemble/HPFSubtypeEnsemble/MotifEnrichment/'\n",
    "tf_class_level = 'SubFamily'"
   ]
  },
  {
   "cell_type": "code",
   "execution_count": 5,
   "metadata": {
    "ExecuteTime": {
     "end_time": "2020-01-27T05:04:35.926177Z",
     "start_time": "2020-01-27T05:04:35.924260Z"
    },
    "papermill": {
     "duration": 0.01473,
     "end_time": "2020-01-27T02:55:11.826774",
     "exception": false,
     "start_time": "2020-01-27T02:55:11.812044",
     "status": "completed"
    },
    "tags": []
   },
   "outputs": [],
   "source": [
    "group_name = 'GeneCluster'"
   ]
  },
  {
   "cell_type": "code",
   "execution_count": 6,
   "metadata": {
    "ExecuteTime": {
     "end_time": "2020-01-27T05:04:36.380436Z",
     "start_time": "2020-01-27T05:04:36.378366Z"
    },
    "papermill": {
     "duration": 0.01496,
     "end_time": "2020-01-27T02:55:11.851929",
     "exception": false,
     "start_time": "2020-01-27T02:55:11.836969",
     "status": "completed"
    },
    "tags": [
     "injected-parameters"
    ]
   },
   "outputs": [],
   "source": [
    "# Parameters\n",
    "oddsratio_cutoff = 1.8\n",
    "lgp_cutoff = 3\n",
    "motif_enrichment_dir = \"/home/hanliu/project/mouse_rostral_brain/study/ClustersEnsemble/HPFSubtypeEnsemble/MotifEnrichment\"\n",
    "tf_class_level = \"SubFamily\"\n"
   ]
  },
  {
   "cell_type": "markdown",
   "metadata": {
    "papermill": {
     "duration": 0.010468,
     "end_time": "2020-01-27T02:55:11.873484",
     "exception": false,
     "start_time": "2020-01-27T02:55:11.863016",
     "status": "completed"
    },
    "tags": []
   },
   "source": [
    "## Gene and motif metadata"
   ]
  },
  {
   "cell_type": "code",
   "execution_count": 7,
   "metadata": {
    "ExecuteTime": {
     "end_time": "2020-01-27T05:04:37.182208Z",
     "start_time": "2020-01-27T05:04:36.973095Z"
    },
    "papermill": {
     "duration": 0.220137,
     "end_time": "2020-01-27T02:55:12.103917",
     "exception": false,
     "start_time": "2020-01-27T02:55:11.883780",
     "status": "completed"
    },
    "tags": []
   },
   "outputs": [
    {
     "data": {
      "text/html": [
       "<div>\n",
       "<style scoped>\n",
       "    .dataframe tbody tr th:only-of-type {\n",
       "        vertical-align: middle;\n",
       "    }\n",
       "\n",
       "    .dataframe tbody tr th {\n",
       "        vertical-align: top;\n",
       "    }\n",
       "\n",
       "    .dataframe thead th {\n",
       "        text-align: right;\n",
       "    }\n",
       "</style>\n",
       "<table border=\"1\" class=\"dataframe\">\n",
       "  <thead>\n",
       "    <tr style=\"text-align: right;\">\n",
       "      <th></th>\n",
       "      <th>uid</th>\n",
       "      <th>GeneRawName</th>\n",
       "      <th>SuperClass</th>\n",
       "      <th>Class</th>\n",
       "      <th>Family</th>\n",
       "      <th>SubFamily</th>\n",
       "      <th>EnsemblID</th>\n",
       "    </tr>\n",
       "  </thead>\n",
       "  <tbody>\n",
       "    <tr>\n",
       "      <th>0</th>\n",
       "      <td>1.1.1.1.1</td>\n",
       "      <td>c-Jun</td>\n",
       "      <td>Basic domains</td>\n",
       "      <td>Basic leucine zipper factors (bZIP)</td>\n",
       "      <td>Jun-related</td>\n",
       "      <td>Jun</td>\n",
       "      <td>ENSMUSG00000052684</td>\n",
       "    </tr>\n",
       "    <tr>\n",
       "      <th>1</th>\n",
       "      <td>1.1.1.1.2</td>\n",
       "      <td>JunB</td>\n",
       "      <td>Basic domains</td>\n",
       "      <td>Basic leucine zipper factors (bZIP)</td>\n",
       "      <td>Jun-related</td>\n",
       "      <td>Jun</td>\n",
       "      <td>ENSMUSG00000052837,ENSMUSG00000052926</td>\n",
       "    </tr>\n",
       "    <tr>\n",
       "      <th>2</th>\n",
       "      <td>1.1.1.1.3</td>\n",
       "      <td>JunD</td>\n",
       "      <td>Basic domains</td>\n",
       "      <td>Basic leucine zipper factors (bZIP)</td>\n",
       "      <td>Jun-related</td>\n",
       "      <td>Jun</td>\n",
       "      <td>ENSMUSG00000071076</td>\n",
       "    </tr>\n",
       "    <tr>\n",
       "      <th>3</th>\n",
       "      <td>1.1.1.2.1</td>\n",
       "      <td>NFE2</td>\n",
       "      <td>Basic domains</td>\n",
       "      <td>Basic leucine zipper factors (bZIP)</td>\n",
       "      <td>Jun-related</td>\n",
       "      <td>NFE2</td>\n",
       "      <td>ENSMUSG00000058794</td>\n",
       "    </tr>\n",
       "    <tr>\n",
       "      <th>4</th>\n",
       "      <td>1.1.1.2.2</td>\n",
       "      <td>NFE2L1</td>\n",
       "      <td>Basic domains</td>\n",
       "      <td>Basic leucine zipper factors (bZIP)</td>\n",
       "      <td>Jun-related</td>\n",
       "      <td>NFE2</td>\n",
       "      <td>ENSMUSG00000038615</td>\n",
       "    </tr>\n",
       "  </tbody>\n",
       "</table>\n",
       "</div>"
      ],
      "text/plain": [
       "         uid GeneRawName     SuperClass                                Class  \\\n",
       "0  1.1.1.1.1       c-Jun  Basic domains  Basic leucine zipper factors (bZIP)   \n",
       "1  1.1.1.1.2        JunB  Basic domains  Basic leucine zipper factors (bZIP)   \n",
       "2  1.1.1.1.3        JunD  Basic domains  Basic leucine zipper factors (bZIP)   \n",
       "3  1.1.1.2.1        NFE2  Basic domains  Basic leucine zipper factors (bZIP)   \n",
       "4  1.1.1.2.2      NFE2L1  Basic domains  Basic leucine zipper factors (bZIP)   \n",
       "\n",
       "        Family SubFamily                              EnsemblID  \n",
       "0  Jun-related       Jun                     ENSMUSG00000052684  \n",
       "1  Jun-related       Jun  ENSMUSG00000052837,ENSMUSG00000052926  \n",
       "2  Jun-related       Jun                     ENSMUSG00000071076  \n",
       "3  Jun-related      NFE2                     ENSMUSG00000058794  \n",
       "4  Jun-related      NFE2                     ENSMUSG00000038615  "
      ]
     },
     "execution_count": 7,
     "metadata": {},
     "output_type": "execute_result"
    }
   ],
   "source": [
    "motif_meta_with_cluster = pd.read_csv(\n",
    "    '/home/hanliu/project/mouse_rostral_brain/study/MotifClustering/JASPAR2020_CORE_vertebrates_non-redundant.mouse_genes.with_motif_group.199.csv',\n",
    "    index_col='motif_uid'\n",
    ")\n",
    "gene_meta = pd.read_csv('/home/hanliu/ref/mouse/gencode/vm22/gencode.vM22.annotation.gene.flat.tsv.gz',\n",
    "                        sep='\\t', index_col='gene_id')\n",
    "tf_class = pd.read_csv('/home/hanliu/ref/TFGene/TFClass/TFClass.with_mouse_gene_id.csv')\n",
    "tf_class.head()"
   ]
  },
  {
   "cell_type": "code",
   "execution_count": 8,
   "metadata": {
    "ExecuteTime": {
     "end_time": "2020-01-27T05:04:37.193953Z",
     "start_time": "2020-01-27T05:04:37.183516Z"
    },
    "papermill": {
     "duration": 0.024331,
     "end_time": "2020-01-27T02:55:12.139815",
     "exception": false,
     "start_time": "2020-01-27T02:55:12.115484",
     "status": "completed"
    },
    "tags": []
   },
   "outputs": [
    {
     "data": {
      "text/html": [
       "<div>\n",
       "<style scoped>\n",
       "    .dataframe tbody tr th:only-of-type {\n",
       "        vertical-align: middle;\n",
       "    }\n",
       "\n",
       "    .dataframe tbody tr th {\n",
       "        vertical-align: top;\n",
       "    }\n",
       "\n",
       "    .dataframe thead th {\n",
       "        text-align: right;\n",
       "    }\n",
       "</style>\n",
       "<table border=\"1\" class=\"dataframe\">\n",
       "  <thead>\n",
       "    <tr style=\"text-align: right;\">\n",
       "      <th></th>\n",
       "      <th>uid</th>\n",
       "      <th>GeneRawName</th>\n",
       "      <th>SuperClass</th>\n",
       "      <th>Class</th>\n",
       "      <th>Family</th>\n",
       "      <th>SubFamily</th>\n",
       "      <th>EnsemblID</th>\n",
       "    </tr>\n",
       "  </thead>\n",
       "  <tbody>\n",
       "    <tr>\n",
       "      <th>1396</th>\n",
       "      <td>6.5.3.0.1</td>\n",
       "      <td>TBX1</td>\n",
       "      <td>Immunoglobulin fold</td>\n",
       "      <td>T-Box factors</td>\n",
       "      <td>TBX1-related</td>\n",
       "      <td>NaN</td>\n",
       "      <td>ENSMUSG00000009097</td>\n",
       "    </tr>\n",
       "    <tr>\n",
       "      <th>1397</th>\n",
       "      <td>6.5.3.0.2</td>\n",
       "      <td>TBX10</td>\n",
       "      <td>Immunoglobulin fold</td>\n",
       "      <td>T-Box factors</td>\n",
       "      <td>TBX1-related</td>\n",
       "      <td>NaN</td>\n",
       "      <td>ENSMUSG00000037477</td>\n",
       "    </tr>\n",
       "    <tr>\n",
       "      <th>1398</th>\n",
       "      <td>6.5.3.0.3</td>\n",
       "      <td>TBX15</td>\n",
       "      <td>Immunoglobulin fold</td>\n",
       "      <td>T-Box factors</td>\n",
       "      <td>TBX1-related</td>\n",
       "      <td>NaN</td>\n",
       "      <td>ENSMUSG00000027868</td>\n",
       "    </tr>\n",
       "    <tr>\n",
       "      <th>1399</th>\n",
       "      <td>6.5.3.0.4</td>\n",
       "      <td>TBX18</td>\n",
       "      <td>Immunoglobulin fold</td>\n",
       "      <td>T-Box factors</td>\n",
       "      <td>TBX1-related</td>\n",
       "      <td>NaN</td>\n",
       "      <td>ENSMUSG00000032419</td>\n",
       "    </tr>\n",
       "    <tr>\n",
       "      <th>1400</th>\n",
       "      <td>6.5.3.0.5</td>\n",
       "      <td>TBX20</td>\n",
       "      <td>Immunoglobulin fold</td>\n",
       "      <td>T-Box factors</td>\n",
       "      <td>TBX1-related</td>\n",
       "      <td>NaN</td>\n",
       "      <td>ENSMUSG00000031965</td>\n",
       "    </tr>\n",
       "    <tr>\n",
       "      <th>1401</th>\n",
       "      <td>6.5.3.0.6</td>\n",
       "      <td>TBX22</td>\n",
       "      <td>Immunoglobulin fold</td>\n",
       "      <td>T-Box factors</td>\n",
       "      <td>TBX1-related</td>\n",
       "      <td>NaN</td>\n",
       "      <td>ENSMUSG00000031241</td>\n",
       "    </tr>\n",
       "    <tr>\n",
       "      <th>1402</th>\n",
       "      <td>6.5.4.0.1</td>\n",
       "      <td>TBX2</td>\n",
       "      <td>Immunoglobulin fold</td>\n",
       "      <td>T-Box factors</td>\n",
       "      <td>TBX2-related</td>\n",
       "      <td>NaN</td>\n",
       "      <td>ENSMUSG00000000093</td>\n",
       "    </tr>\n",
       "    <tr>\n",
       "      <th>1403</th>\n",
       "      <td>6.5.4.0.2</td>\n",
       "      <td>TBX3</td>\n",
       "      <td>Immunoglobulin fold</td>\n",
       "      <td>T-Box factors</td>\n",
       "      <td>TBX2-related</td>\n",
       "      <td>NaN</td>\n",
       "      <td>ENSMUSG00000018604</td>\n",
       "    </tr>\n",
       "    <tr>\n",
       "      <th>1404</th>\n",
       "      <td>6.5.4.0.3</td>\n",
       "      <td>TBX4</td>\n",
       "      <td>Immunoglobulin fold</td>\n",
       "      <td>T-Box factors</td>\n",
       "      <td>TBX2-related</td>\n",
       "      <td>NaN</td>\n",
       "      <td>ENSMUSG00000000094</td>\n",
       "    </tr>\n",
       "    <tr>\n",
       "      <th>1405</th>\n",
       "      <td>6.5.4.0.4</td>\n",
       "      <td>TBX5</td>\n",
       "      <td>Immunoglobulin fold</td>\n",
       "      <td>T-Box factors</td>\n",
       "      <td>TBX2-related</td>\n",
       "      <td>NaN</td>\n",
       "      <td>ENSMUSG00000018263</td>\n",
       "    </tr>\n",
       "    <tr>\n",
       "      <th>1406</th>\n",
       "      <td>6.5.5.0.1</td>\n",
       "      <td>TBX6</td>\n",
       "      <td>Immunoglobulin fold</td>\n",
       "      <td>T-Box factors</td>\n",
       "      <td>TBX6-related</td>\n",
       "      <td>NaN</td>\n",
       "      <td>ENSMUSG00000030699</td>\n",
       "    </tr>\n",
       "    <tr>\n",
       "      <th>1407</th>\n",
       "      <td>6.5.5.0.2</td>\n",
       "      <td>MGA (MAD5)</td>\n",
       "      <td>Immunoglobulin fold</td>\n",
       "      <td>T-Box factors</td>\n",
       "      <td>TBX6-related</td>\n",
       "      <td>NaN</td>\n",
       "      <td>ENSMUSG00000033943,ENSMUSG00000068587</td>\n",
       "    </tr>\n",
       "    <tr>\n",
       "      <th>1429</th>\n",
       "      <td>8.1.1.0.1</td>\n",
       "      <td>TBP</td>\n",
       "      <td>beta-Sheet binding to DNA</td>\n",
       "      <td>TATA-binding proteins</td>\n",
       "      <td>TBP-related</td>\n",
       "      <td>NaN</td>\n",
       "      <td>ENSMUSG00000014767</td>\n",
       "    </tr>\n",
       "    <tr>\n",
       "      <th>1430</th>\n",
       "      <td>8.1.1.0.2</td>\n",
       "      <td>TBPL1</td>\n",
       "      <td>beta-Sheet binding to DNA</td>\n",
       "      <td>TATA-binding proteins</td>\n",
       "      <td>TBP-related</td>\n",
       "      <td>NaN</td>\n",
       "      <td>ENSMUSG00000071359</td>\n",
       "    </tr>\n",
       "    <tr>\n",
       "      <th>1431</th>\n",
       "      <td>8.1.1.0.3</td>\n",
       "      <td>TBPL2</td>\n",
       "      <td>beta-Sheet binding to DNA</td>\n",
       "      <td>TATA-binding proteins</td>\n",
       "      <td>TBP-related</td>\n",
       "      <td>NaN</td>\n",
       "      <td>ENSMUSG00000061809</td>\n",
       "    </tr>\n",
       "  </tbody>\n",
       "</table>\n",
       "</div>"
      ],
      "text/plain": [
       "            uid GeneRawName                 SuperClass                  Class  \\\n",
       "1396  6.5.3.0.1        TBX1        Immunoglobulin fold          T-Box factors   \n",
       "1397  6.5.3.0.2       TBX10        Immunoglobulin fold          T-Box factors   \n",
       "1398  6.5.3.0.3       TBX15        Immunoglobulin fold          T-Box factors   \n",
       "1399  6.5.3.0.4       TBX18        Immunoglobulin fold          T-Box factors   \n",
       "1400  6.5.3.0.5       TBX20        Immunoglobulin fold          T-Box factors   \n",
       "1401  6.5.3.0.6       TBX22        Immunoglobulin fold          T-Box factors   \n",
       "1402  6.5.4.0.1        TBX2        Immunoglobulin fold          T-Box factors   \n",
       "1403  6.5.4.0.2        TBX3        Immunoglobulin fold          T-Box factors   \n",
       "1404  6.5.4.0.3        TBX4        Immunoglobulin fold          T-Box factors   \n",
       "1405  6.5.4.0.4        TBX5        Immunoglobulin fold          T-Box factors   \n",
       "1406  6.5.5.0.1        TBX6        Immunoglobulin fold          T-Box factors   \n",
       "1407  6.5.5.0.2  MGA (MAD5)        Immunoglobulin fold          T-Box factors   \n",
       "1429  8.1.1.0.1         TBP  beta-Sheet binding to DNA  TATA-binding proteins   \n",
       "1430  8.1.1.0.2       TBPL1  beta-Sheet binding to DNA  TATA-binding proteins   \n",
       "1431  8.1.1.0.3       TBPL2  beta-Sheet binding to DNA  TATA-binding proteins   \n",
       "\n",
       "            Family SubFamily                              EnsemblID  \n",
       "1396  TBX1-related       NaN                     ENSMUSG00000009097  \n",
       "1397  TBX1-related       NaN                     ENSMUSG00000037477  \n",
       "1398  TBX1-related       NaN                     ENSMUSG00000027868  \n",
       "1399  TBX1-related       NaN                     ENSMUSG00000032419  \n",
       "1400  TBX1-related       NaN                     ENSMUSG00000031965  \n",
       "1401  TBX1-related       NaN                     ENSMUSG00000031241  \n",
       "1402  TBX2-related       NaN                     ENSMUSG00000000093  \n",
       "1403  TBX2-related       NaN                     ENSMUSG00000018604  \n",
       "1404  TBX2-related       NaN                     ENSMUSG00000000094  \n",
       "1405  TBX2-related       NaN                     ENSMUSG00000018263  \n",
       "1406  TBX6-related       NaN                     ENSMUSG00000030699  \n",
       "1407  TBX6-related       NaN  ENSMUSG00000033943,ENSMUSG00000068587  \n",
       "1429   TBP-related       NaN                     ENSMUSG00000014767  \n",
       "1430   TBP-related       NaN                     ENSMUSG00000071359  \n",
       "1431   TBP-related       NaN                     ENSMUSG00000061809  "
      ]
     },
     "execution_count": 8,
     "metadata": {},
     "output_type": "execute_result"
    }
   ],
   "source": [
    "tf_class[tf_class['Family'].apply(lambda i: 'TB' in i)]"
   ]
  },
  {
   "cell_type": "code",
   "execution_count": 9,
   "metadata": {
    "ExecuteTime": {
     "end_time": "2020-01-27T05:04:37.678527Z",
     "start_time": "2020-01-27T05:04:37.195433Z"
    },
    "papermill": {
     "duration": 0.533424,
     "end_time": "2020-01-27T02:55:12.683940",
     "exception": false,
     "start_time": "2020-01-27T02:55:12.150516",
     "status": "completed"
    },
    "tags": []
   },
   "outputs": [],
   "source": [
    "levels = ['SuperClass', 'Class', 'Family', 'SubFamily']\n",
    "for level in levels:\n",
    "    gene_to_tf_class = {}\n",
    "    for _, row in tf_class.iterrows():\n",
    "        if isinstance(row['EnsemblID'], float):\n",
    "            continue\n",
    "        for g in row['EnsemblID'].split(','):\n",
    "            gene_to_tf_class[g] = row[level]\n",
    "    motif_meta_with_cluster[level] = motif_meta_with_cluster['gene_ids'].map(\n",
    "        lambda i: gene_to_tf_class[i.split('.')[0]] if i.split('.')[0] in gene_to_tf_class else '')\n"
   ]
  },
  {
   "cell_type": "markdown",
   "metadata": {
    "papermill": {
     "duration": 0.01164,
     "end_time": "2020-01-27T02:55:12.707556",
     "exception": false,
     "start_time": "2020-01-27T02:55:12.695916",
     "status": "completed"
    },
    "tags": []
   },
   "source": [
    "## Motif Results"
   ]
  },
  {
   "cell_type": "code",
   "execution_count": 10,
   "metadata": {
    "ExecuteTime": {
     "end_time": "2020-01-27T05:04:37.699568Z",
     "start_time": "2020-01-27T05:04:37.679683Z"
    },
    "papermill": {
     "duration": 0.034456,
     "end_time": "2020-01-27T02:55:12.753326",
     "exception": false,
     "start_time": "2020-01-27T02:55:12.718870",
     "status": "completed"
    },
    "tags": []
   },
   "outputs": [
    {
     "name": "stderr",
     "output_type": "stream",
     "text": [
      "/home/hanliu/miniconda3/envs/clustering/lib/python3.7/site-packages/ipykernel_launcher.py:3: FutureWarning: The read_msgpack is deprecated and will be removed in a future version.\n",
      "It is recommended to use pyarrow for on-the-wire transmission of pandas objects.\n",
      "  This is separate from the ipykernel package so we can avoid doing imports until\n"
     ]
    }
   ],
   "source": [
    "motif_results = list(pathlib.Path(motif_enrichment_dir).glob('**/*.motif_enrichment.msg'))\n",
    "motif_results = [i for i in motif_results if not i.name.startswith('Cell')]\n",
    "motif_results = pd.concat([pd.read_msgpack(path) for path in motif_results])\n",
    "motif_results.index.name = 'MotifID'\n",
    "motif_results.reset_index(inplace=True)\n",
    "motif_results = pd.concat([motif_results, \n",
    "           motif_meta_with_cluster.loc[motif_results['MotifID']].reset_index(drop=True)], axis=1)\n",
    "\n",
    "motif_results = motif_results.loc[:, ~motif_results.columns.duplicated()]\n",
    "\n",
    "filtered_results = motif_results[(motif_results['oddsratio'] > oddsratio_cutoff) & \n",
    "                              (motif_results['-lgp'] > lgp_cutoff)].copy()\n"
   ]
  },
  {
   "cell_type": "code",
   "execution_count": null,
   "metadata": {
    "papermill": {
     "duration": 0.017691,
     "end_time": "2020-01-27T02:55:12.782359",
     "exception": false,
     "start_time": "2020-01-27T02:55:12.764668",
     "status": "completed"
    },
    "tags": []
   },
   "outputs": [],
   "source": []
  },
  {
   "cell_type": "code",
   "execution_count": 11,
   "metadata": {
    "ExecuteTime": {
     "end_time": "2020-01-27T05:04:38.057095Z",
     "start_time": "2020-01-27T05:04:37.700880Z"
    },
    "papermill": {
     "duration": 0.907192,
     "end_time": "2020-01-27T02:55:13.701202",
     "exception": false,
     "start_time": "2020-01-27T02:55:12.794010",
     "status": "completed"
    },
    "tags": []
   },
   "outputs": [],
   "source": [
    "# for each motif class in each group, select most significant ones\n",
    "use_motif_for_clase_group = motif_results.groupby([tf_class_level, group_name]).apply(\n",
    "    lambda i: i.sort_values('-lgp', ascending=False)['MotifID'].iloc[0])"
   ]
  },
  {
   "cell_type": "code",
   "execution_count": 12,
   "metadata": {
    "ExecuteTime": {
     "end_time": "2020-01-27T05:04:38.148531Z",
     "start_time": "2020-01-27T05:04:38.058278Z"
    },
    "papermill": {
     "duration": 0.109495,
     "end_time": "2020-01-27T02:55:13.822505",
     "exception": false,
     "start_time": "2020-01-27T02:55:13.713010",
     "status": "completed"
    },
    "tags": []
   },
   "outputs": [],
   "source": [
    "# keep one motif for each group and each motif class\n",
    "use_results = motif_results.set_index([group_name, 'MotifID']).loc[[\n",
    "    tuple(row.tolist())\n",
    "    for _, row in use_motif_for_clase_group.reset_index().iloc[:, 1:].iterrows()\n",
    "]].reset_index()\n",
    "use_results = use_results[use_results[tf_class_level].fillna('') != ''].copy()\n",
    "\n",
    "assert (use_results.groupby([tf_class_level, group_name]).apply(lambda i: i.shape[0]) != 1).sum() == 0"
   ]
  },
  {
   "cell_type": "code",
   "execution_count": 13,
   "metadata": {
    "ExecuteTime": {
     "end_time": "2020-01-27T05:04:38.420783Z",
     "start_time": "2020-01-27T05:04:38.414775Z"
    },
    "papermill": {
     "duration": 0.020972,
     "end_time": "2020-01-27T02:55:13.855281",
     "exception": false,
     "start_time": "2020-01-27T02:55:13.834309",
     "status": "completed"
    },
    "tags": []
   },
   "outputs": [
    {
     "name": "stderr",
     "output_type": "stream",
     "text": [
      "/home/hanliu/miniconda3/envs/clustering/lib/python3.7/site-packages/ipykernel_launcher.py:1: FutureWarning: to_msgpack is deprecated and will be removed in a future version.\n",
      "It is recommended to use pyarrow for on-the-wire transmission of pandas objects.\n",
      "  \"\"\"Entry point for launching an IPython kernel.\n"
     ]
    }
   ],
   "source": [
    "use_results.to_msgpack(f'{motif_enrichment_dir}/MotifEnrichment.agg.one_motif_per_class.msg')"
   ]
  },
  {
   "cell_type": "code",
   "execution_count": 14,
   "metadata": {
    "ExecuteTime": {
     "end_time": "2020-01-27T05:04:38.500640Z",
     "start_time": "2020-01-27T05:04:38.496498Z"
    },
    "papermill": {
     "duration": 0.018116,
     "end_time": "2020-01-27T02:55:13.884634",
     "exception": false,
     "start_time": "2020-01-27T02:55:13.866518",
     "status": "completed"
    },
    "tags": []
   },
   "outputs": [],
   "source": [
    "# only keep motif class that has sig hits\n",
    "sig_motif_class = filtered_results[tf_class_level].unique()\n",
    "use_results = use_results[use_results[tf_class_level].isin(sig_motif_class)].copy()"
   ]
  },
  {
   "cell_type": "code",
   "execution_count": 15,
   "metadata": {
    "ExecuteTime": {
     "end_time": "2020-01-27T05:04:38.582209Z",
     "start_time": "2020-01-27T05:04:38.578542Z"
    },
    "papermill": {
     "duration": 0.018615,
     "end_time": "2020-01-27T02:55:13.914867",
     "exception": false,
     "start_time": "2020-01-27T02:55:13.896252",
     "status": "completed"
    },
    "tags": []
   },
   "outputs": [],
   "source": [
    "motif_class_order = sorted([i for i in filtered_results[tf_class_level].dropna().unique() if i != ''])\n",
    "cluster_order = sorted(use_results[group_name].unique(), key=lambda i: int(i))"
   ]
  },
  {
   "cell_type": "code",
   "execution_count": null,
   "metadata": {
    "papermill": {
     "duration": 0.011515,
     "end_time": "2020-01-27T02:55:13.937811",
     "exception": false,
     "start_time": "2020-01-27T02:55:13.926296",
     "status": "completed"
    },
    "tags": []
   },
   "outputs": [],
   "source": []
  },
  {
   "cell_type": "code",
   "execution_count": 16,
   "metadata": {
    "ExecuteTime": {
     "end_time": "2020-01-27T05:04:38.766443Z",
     "start_time": "2020-01-27T05:04:38.748568Z"
    },
    "papermill": {
     "duration": 0.038482,
     "end_time": "2020-01-27T02:55:13.988781",
     "exception": false,
     "start_time": "2020-01-27T02:55:13.950299",
     "status": "completed"
    },
    "tags": []
   },
   "outputs": [],
   "source": [
    "use_results = use_results[use_results[tf_class_level].isin(motif_class_order)]\n",
    "use_results['x'] = use_results[tf_class_level].apply(lambda i: motif_class_order.index(i))\n",
    "use_results['y'] = use_results[group_name].apply(lambda i: cluster_order.index(i))\n",
    "pass_filter_pairs = filtered_results.set_index(['MotifID', group_name]).index\n",
    "use_results['sig'] = use_results.apply(lambda i: (i['MotifID'], i[group_name]) in pass_filter_pairs, axis=1)\n",
    "# sync filter to region tfs\n",
    "pass_filter_pairs = filtered_results[(filtered_results['-lgp'] > lgp_cutoff) & \n",
    "                                     (filtered_results['oddsratio'] > oddsratio_cutoff)].set_index(['MotifID', group_name]).index\n",
    "use_results['sig'] = use_results.apply(lambda i: (i['MotifID'], i[group_name]) in pass_filter_pairs, axis=1)\n"
   ]
  },
  {
   "cell_type": "code",
   "execution_count": 17,
   "metadata": {
    "ExecuteTime": {
     "end_time": "2020-01-27T05:04:39.075131Z",
     "start_time": "2020-01-27T05:04:38.827446Z"
    },
    "papermill": {
     "duration": 0.271384,
     "end_time": "2020-01-27T02:55:14.271324",
     "exception": false,
     "start_time": "2020-01-27T02:55:13.999940",
     "status": "completed"
    },
    "tags": []
   },
   "outputs": [
    {
     "data": {
      "image/png": "[encoded data removed]",
      "text/plain": [
       "<Figure size 360x540 with 1 Axes>"
      ]
     },
     "metadata": {
      "needs_background": "light"
     },
     "output_type": "display_data"
    }
   ],
   "source": [
    "n_col = len(motif_class_order)\n",
    "n_row = len(cluster_order)\n",
    "\n",
    "fig, ax = plt.subplots(figsize=(n_col * 0.2, n_row * 0.2), dpi=300)\n",
    "sns.scatterplot(ax=ax, data=use_results, x='x', y='y', \n",
    "                hue='oddsratio', hue_norm=(1, 2.5), palette='coolwarm', marker='s',\n",
    "                size='-lgp', size_norm=(0, 10), sizes=(0, 65), linewidth=0, clip_on=False)\n",
    "\n",
    "for _, row in use_results[use_results['sig']].iterrows():\n",
    "    ax.text(row['x'], row['y']-0.1, '*', ha='center', va='center', fontsize=labelsize, c='white')\n",
    "\n",
    "ax.set(xticks=range(n_col), xticklabels=[i[:20] for i in motif_class_order],\n",
    "       yticks=range(n_row), yticklabels=cluster_order, ylim=(-0.5, n_row - .5), \n",
    "       xlabel='TF Classes', ylabel='Groups')\n",
    "\n",
    "plt.setp(ax.get_xticklabels(), rotation=45, ha=\"right\",\n",
    "         rotation_mode=\"anchor\")\n",
    "sns.despine(ax=ax)\n",
    "ax.legend_.set_visible(False)"
   ]
  },
  {
   "cell_type": "code",
   "execution_count": 18,
   "metadata": {
    "ExecuteTime": {
     "end_time": "2020-01-27T05:04:39.715399Z",
     "start_time": "2020-01-27T05:04:39.598573Z"
    },
    "papermill": {
     "duration": 0.13349,
     "end_time": "2020-01-27T02:55:14.417740",
     "exception": false,
     "start_time": "2020-01-27T02:55:14.284250",
     "status": "completed"
    },
    "tags": []
   },
   "outputs": [],
   "source": [
    "fig.savefig(f'{motif_enrichment_dir}/MotifEnrichment.dotmap.pdf', bbox_inches='tight')"
   ]
  },
  {
   "cell_type": "markdown",
   "metadata": {},
   "source": [
    "## Check if the TF has motif enrichment in matched group"
   ]
  },
  {
   "cell_type": "code",
   "execution_count": 20,
   "metadata": {
    "ExecuteTime": {
     "end_time": "2020-01-27T05:04:44.399077Z",
     "start_time": "2020-01-27T05:04:44.351176Z"
    },
    "papermill": {
     "duration": 0.012064,
     "end_time": "2020-01-27T02:55:14.441721",
     "exception": false,
     "start_time": "2020-01-27T02:55:14.429657",
     "status": "completed"
    },
    "tags": []
   },
   "outputs": [
    {
     "name": "stdout",
     "output_type": "stream",
     "text": [
      "554    Pou3f1\n",
      "Name: gene_names, dtype: object\n"
     ]
    }
   ],
   "source": [
    "gene_clusters = anndata.read_h5ad('GeneClustering.h5ad').obs['leiden']\n",
    "records = []\n",
    "for gene_cluster, sub_df in filtered_results.groupby('GeneCluster'):\n",
    "    this_genes = gene_clusters[gene_clusters == gene_cluster]\n",
    "    # print(this_genes)\n",
    "    has_matched_records = sub_df['gene_ids'].apply(lambda i: any([(g in this_genes) for g in i.split(',')]))\n",
    "    if has_matched_records.sum():\n",
    "        print(sub_df[has_matched_records]['gene_names'])"
   ]
  },
  {
   "cell_type": "code",
   "execution_count": 21,
   "metadata": {
    "ExecuteTime": {
     "end_time": "2020-01-27T05:04:54.466125Z",
     "start_time": "2020-01-27T05:04:54.450526Z"
    },
    "papermill": {
     "duration": 0.012442,
     "end_time": "2020-01-27T02:55:14.467277",
     "exception": false,
     "start_time": "2020-01-27T02:55:14.454835",
     "status": "completed"
    },
    "tags": []
   },
   "outputs": [
    {
     "data": {
      "text/html": [
       "<div>\n",
       "<style scoped>\n",
       "    .dataframe tbody tr th:only-of-type {\n",
       "        vertical-align: middle;\n",
       "    }\n",
       "\n",
       "    .dataframe tbody tr th {\n",
       "        vertical-align: top;\n",
       "    }\n",
       "\n",
       "    .dataframe thead th {\n",
       "        text-align: right;\n",
       "    }\n",
       "</style>\n",
       "<table border=\"1\" class=\"dataframe\">\n",
       "  <thead>\n",
       "    <tr style=\"text-align: right;\">\n",
       "      <th></th>\n",
       "      <th>MotifID</th>\n",
       "      <th>oddsratio</th>\n",
       "      <th>p_value</th>\n",
       "      <th>adj_p</th>\n",
       "      <th>-lgp</th>\n",
       "      <th>tp</th>\n",
       "      <th>tn</th>\n",
       "      <th>fp</th>\n",
       "      <th>fn</th>\n",
       "      <th>tp_rate</th>\n",
       "      <th>...</th>\n",
       "      <th>DMRType</th>\n",
       "      <th>motif_name</th>\n",
       "      <th>motif_genes</th>\n",
       "      <th>gene_ids</th>\n",
       "      <th>gene_names</th>\n",
       "      <th>motif_group</th>\n",
       "      <th>SuperClass</th>\n",
       "      <th>Class</th>\n",
       "      <th>Family</th>\n",
       "      <th>SubFamily</th>\n",
       "    </tr>\n",
       "  </thead>\n",
       "  <tbody>\n",
       "    <tr>\n",
       "      <th>853</th>\n",
       "      <td>MA1124.1</td>\n",
       "      <td>1.879115</td>\n",
       "      <td>1.849210e-05</td>\n",
       "      <td>1.955268e-04</td>\n",
       "      <td>3.708794</td>\n",
       "      <td>56.0</td>\n",
       "      <td>11865.0</td>\n",
       "      <td>866.0</td>\n",
       "      <td>344787.0</td>\n",
       "      <td>0.004698</td>\n",
       "      <td>...</td>\n",
       "      <td>Hypo</td>\n",
       "      <td>ZNF24</td>\n",
       "      <td>ZNF24</td>\n",
       "      <td>ENSMUSG00000051469.14</td>\n",
       "      <td>Zfp24</td>\n",
       "      <td>MotifGroup176</td>\n",
       "      <td>Zinc-coordinating DNA-binding domains</td>\n",
       "      <td>C2H2 zinc finger factors</td>\n",
       "      <td>More than 3 adjacent zinc fingers</td>\n",
       "      <td>ZNF24-like</td>\n",
       "    </tr>\n",
       "    <tr>\n",
       "      <th>1794</th>\n",
       "      <td>MA1124.1</td>\n",
       "      <td>2.619451</td>\n",
       "      <td>7.633724e-09</td>\n",
       "      <td>2.386369e-07</td>\n",
       "      <td>6.622262</td>\n",
       "      <td>49.0</td>\n",
       "      <td>7486.0</td>\n",
       "      <td>862.0</td>\n",
       "      <td>344962.0</td>\n",
       "      <td>0.006503</td>\n",
       "      <td>...</td>\n",
       "      <td>Hypo</td>\n",
       "      <td>ZNF24</td>\n",
       "      <td>ZNF24</td>\n",
       "      <td>ENSMUSG00000051469.14</td>\n",
       "      <td>Zfp24</td>\n",
       "      <td>MotifGroup176</td>\n",
       "      <td>Zinc-coordinating DNA-binding domains</td>\n",
       "      <td>C2H2 zinc finger factors</td>\n",
       "      <td>More than 3 adjacent zinc fingers</td>\n",
       "      <td>ZNF24-like</td>\n",
       "    </tr>\n",
       "  </tbody>\n",
       "</table>\n",
       "<p>2 rows × 22 columns</p>\n",
       "</div>"
      ],
      "text/plain": [
       "       MotifID  oddsratio       p_value         adj_p      -lgp    tp  \\\n",
       "853   MA1124.1   1.879115  1.849210e-05  1.955268e-04  3.708794  56.0   \n",
       "1794  MA1124.1   2.619451  7.633724e-09  2.386369e-07  6.622262  49.0   \n",
       "\n",
       "           tn     fp        fn   tp_rate  ...  DMRType motif_name motif_genes  \\\n",
       "853   11865.0  866.0  344787.0  0.004698  ...     Hypo      ZNF24       ZNF24   \n",
       "1794   7486.0  862.0  344962.0  0.006503  ...     Hypo      ZNF24       ZNF24   \n",
       "\n",
       "                   gene_ids gene_names    motif_group  \\\n",
       "853   ENSMUSG00000051469.14      Zfp24  MotifGroup176   \n",
       "1794  ENSMUSG00000051469.14      Zfp24  MotifGroup176   \n",
       "\n",
       "                                 SuperClass                     Class  \\\n",
       "853   Zinc-coordinating DNA-binding domains  C2H2 zinc finger factors   \n",
       "1794  Zinc-coordinating DNA-binding domains  C2H2 zinc finger factors   \n",
       "\n",
       "                                 Family   SubFamily  \n",
       "853   More than 3 adjacent zinc fingers  ZNF24-like  \n",
       "1794  More than 3 adjacent zinc fingers  ZNF24-like  \n",
       "\n",
       "[2 rows x 22 columns]"
      ]
     },
     "execution_count": 21,
     "metadata": {},
     "output_type": "execute_result"
    }
   ],
   "source": [
    "filtered_results[filtered_results['SubFamily']=='ZNF24-like']"
   ]
  },
  {
   "cell_type": "code",
   "execution_count": null,
   "metadata": {
    "papermill": {
     "duration": 0.01218,
     "end_time": "2020-01-27T02:55:14.491760",
     "exception": false,
     "start_time": "2020-01-27T02:55:14.479580",
     "status": "completed"
    },
    "tags": []
   },
   "outputs": [],
   "source": []
  },
  {
   "cell_type": "code",
   "execution_count": null,
   "metadata": {
    "papermill": {
     "duration": 0.011832,
     "end_time": "2020-01-27T02:55:14.515507",
     "exception": false,
     "start_time": "2020-01-27T02:55:14.503675",
     "status": "completed"
    },
    "tags": []
   },
   "outputs": [],
   "source": []
  },
  {
   "cell_type": "code",
   "execution_count": null,
   "metadata": {
    "papermill": {
     "duration": 0.012061,
     "end_time": "2020-01-27T02:55:14.539488",
     "exception": false,
     "start_time": "2020-01-27T02:55:14.527427",
     "status": "completed"
    },
    "tags": []
   },
   "outputs": [],
   "source": []
  },
  {
   "cell_type": "code",
   "execution_count": null,
   "metadata": {
    "papermill": {
     "duration": 0.011845,
     "end_time": "2020-01-27T02:55:14.563666",
     "exception": false,
     "start_time": "2020-01-27T02:55:14.551821",
     "status": "completed"
    },
    "tags": []
   },
   "outputs": [],
   "source": []
  }
 ],
 "metadata": {
  "hide_input": false,
  "kernelspec": {
   "display_name": "Python 3",
   "language": "python",
   "name": "python3"
  },
  "language_info": {
   "codemirror_mode": {
    "name": "ipython",
    "version": 3
   },
   "file_extension": ".py",
   "mimetype": "text/x-python",
   "name": "python",
   "nbconvert_exporter": "python",
   "pygments_lexer": "ipython3",
   "version": "3.7.3"
  },
  "papermill": {
   "duration": 4.482714,
   "end_time": "2020-01-27T02:55:14.982228",
   "environment_variables": {},
   "exception": null,
   "input_path": "8.aggregate_motif_enrichment.ipynb",
   "output_path": "/home/hanliu/project/mouse_rostral_brain/study/ClustersEnsemble/HPFSubtypeEnsemble/8.aggregate_motif_enrichment.ipynb",
   "parameters": {
    "lgp_cutoff": 3,
    "motif_enrichment_dir": "/home/hanliu/project/mouse_rostral_brain/study/ClustersEnsemble/HPFSubtypeEnsemble/MotifEnrichment",
    "oddsratio_cutoff": 1.8,
    "tf_class_level": "SubFamily"
   },
   "start_time": "2020-01-27T02:55:10.499514",
   "version": "1.0.1"
  },
  "toc": {
   "base_numbering": 1,
   "nav_menu": {},
   "number_sections": true,
   "sideBar": true,
   "skip_h1_title": true,
   "title_cell": "Table of Contents",
   "title_sidebar": "Contents",
   "toc_cell": false,
   "toc_position": {},
   "toc_section_display": true,
   "toc_window_display": true
  }
 },
 "nbformat": 4,
 "nbformat_minor": 2
}
