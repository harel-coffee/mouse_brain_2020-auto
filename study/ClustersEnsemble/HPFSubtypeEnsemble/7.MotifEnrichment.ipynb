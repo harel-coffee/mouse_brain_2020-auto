{
 "cells": [
  {
   "cell_type": "code",
   "execution_count": 1,
   "metadata": {
    "ExecuteTime": {
     "end_time": "2020-01-26T05:40:50.764293Z",
     "start_time": "2020-01-26T05:40:50.761558Z"
    },
    "papermill": {
     "duration": 0.682693,
     "end_time": "2020-01-27T02:34:35.600543",
     "exception": false,
     "start_time": "2020-01-27T02:34:34.917850",
     "status": "completed"
    },
    "tags": []
   },
   "outputs": [],
   "source": [
    "from concurrent.futures import ProcessPoolExecutor, as_completed\n",
    "import json\n",
    "import anndata\n",
    "import matplotlib.pyplot as plt\n",
    "import numpy as np\n",
    "import pandas as pd\n",
    "import pybedtools\n",
    "import scipy.stats as stats\n",
    "import seaborn as sns\n",
    "import pathlib\n",
    "from statsmodels.stats.multitest import multipletests"
   ]
  },
  {
   "cell_type": "code",
   "execution_count": 2,
   "metadata": {
    "ExecuteTime": {
     "end_time": "2020-01-26T05:40:51.777703Z",
     "start_time": "2020-01-26T05:40:51.775748Z"
    },
    "papermill": {
     "duration": 0.017098,
     "end_time": "2020-01-27T02:34:35.630185",
     "exception": false,
     "start_time": "2020-01-27T02:34:35.613087",
     "status": "completed"
    },
    "tags": [
     "parameters"
    ]
   },
   "outputs": [],
   "source": [
    "or_cutoff = 1.6\n",
    "neg_lgp_cutoff = 2\n",
    "mask_quantile_to_max = 0.8\n",
    "\n",
    "gene_cluster = '0'"
   ]
  },
  {
   "cell_type": "code",
   "execution_count": 3,
   "metadata": {
    "papermill": {
     "duration": 0.016279,
     "end_time": "2020-01-27T02:34:35.657807",
     "exception": false,
     "start_time": "2020-01-27T02:34:35.641528",
     "status": "completed"
    },
    "tags": [
     "injected-parameters"
    ]
   },
   "outputs": [],
   "source": [
    "# Parameters\n",
    "gene_cluster = \"8\"\n",
    "or_cutoff = 1.6\n",
    "neg_lgp_cutoff = 3\n",
    "mask_quantile_to_max = 0.8\n"
   ]
  },
  {
   "cell_type": "code",
   "execution_count": 4,
   "metadata": {
    "ExecuteTime": {
     "end_time": "2020-01-26T05:40:51.945854Z",
     "start_time": "2020-01-26T05:40:51.943663Z"
    },
    "papermill": {
     "duration": 0.016226,
     "end_time": "2020-01-27T02:34:35.685341",
     "exception": false,
     "start_time": "2020-01-27T02:34:35.669115",
     "status": "completed"
    },
    "tags": []
   },
   "outputs": [],
   "source": [
    "output_dir = 'MotifEnrichment'\n",
    "output_dir = pathlib.Path(output_dir)\n",
    "output_dir.mkdir(exist_ok=True)"
   ]
  },
  {
   "cell_type": "markdown",
   "metadata": {
    "papermill": {
     "duration": 0.011428,
     "end_time": "2020-01-27T02:34:35.708102",
     "exception": false,
     "start_time": "2020-01-27T02:34:35.696674",
     "status": "completed"
    },
    "tags": []
   },
   "source": [
    "## DMR hits"
   ]
  },
  {
   "cell_type": "code",
   "execution_count": 5,
   "metadata": {
    "ExecuteTime": {
     "end_time": "2020-01-26T05:38:51.861457Z",
     "start_time": "2020-01-26T05:38:51.809913Z"
    },
    "papermill": {
     "duration": 0.027765,
     "end_time": "2020-01-27T02:34:35.748266",
     "exception": false,
     "start_time": "2020-01-27T02:34:35.720501",
     "status": "completed"
    },
    "tags": []
   },
   "outputs": [],
   "source": [
    "with open('GeneCluster.relatedDMR.index.json') as f:\n",
    "    use_dmrs = json.load(f)[gene_cluster]"
   ]
  },
  {
   "cell_type": "code",
   "execution_count": 6,
   "metadata": {
    "ExecuteTime": {
     "end_time": "2020-01-26T05:38:52.294893Z",
     "start_time": "2020-01-26T05:38:51.862853Z"
    },
    "papermill": {
     "duration": 0.053533,
     "end_time": "2020-01-27T02:34:35.813175",
     "exception": false,
     "start_time": "2020-01-27T02:34:35.759642",
     "status": "completed"
    },
    "tags": []
   },
   "outputs": [],
   "source": [
    "gene_clusters = anndata.read_h5ad('GeneClustering.h5ad').obs['leiden']\n",
    "use_genes = gene_clusters[gene_clusters == gene_cluster].index"
   ]
  },
  {
   "cell_type": "code",
   "execution_count": 7,
   "metadata": {
    "ExecuteTime": {
     "end_time": "2020-01-26T05:38:52.299378Z",
     "start_time": "2020-01-26T05:38:52.296267Z"
    },
    "papermill": {
     "duration": 0.018288,
     "end_time": "2020-01-27T02:34:35.844075",
     "exception": false,
     "start_time": "2020-01-27T02:34:35.825787",
     "status": "completed"
    },
    "tags": []
   },
   "outputs": [
    {
     "name": "stdout",
     "output_type": "stream",
     "text": [
      "44 genes in gene cluster 8\n",
      "7953 related DMRs\n"
     ]
    }
   ],
   "source": [
    "print(use_genes.size, 'genes in gene cluster', gene_cluster)\n",
    "print(len(use_dmrs), 'related DMRs')"
   ]
  },
  {
   "cell_type": "code",
   "execution_count": 8,
   "metadata": {
    "ExecuteTime": {
     "end_time": "2020-01-26T05:38:58.457228Z",
     "start_time": "2020-01-26T05:38:52.301294Z"
    },
    "papermill": {
     "duration": 6.262758,
     "end_time": "2020-01-27T02:34:42.118261",
     "exception": false,
     "start_time": "2020-01-27T02:34:35.855503",
     "status": "completed"
    },
    "tags": []
   },
   "outputs": [
    {
     "data": {
      "text/plain": [
       "(7953, 4)"
      ]
     },
     "execution_count": 8,
     "metadata": {},
     "output_type": "execute_result"
    }
   ],
   "source": [
    "with pd.HDFStore('/home/hanliu/project/mouse_rostral_brain/DMR/SubType/Total/DMRInfo.h5') as hdf:\n",
    "    dmr_bed_df = hdf['bed'].loc[use_dmrs].copy()\n",
    "dmr_bed_df.shape"
   ]
  },
  {
   "cell_type": "code",
   "execution_count": 9,
   "metadata": {
    "ExecuteTime": {
     "end_time": "2020-01-26T05:39:19.835898Z",
     "start_time": "2020-01-26T05:38:58.458824Z"
    },
    "papermill": {
     "duration": 25.262726,
     "end_time": "2020-01-27T02:35:07.393728",
     "exception": false,
     "start_time": "2020-01-27T02:34:42.131002",
     "status": "completed"
    },
    "tags": []
   },
   "outputs": [],
   "source": [
    "dmr_annot = anndata.read_h5ad(\n",
    "    '/home/hanliu/project/mouse_rostral_brain/DMR/SubType/Total/MotifScan.h5ad'\n",
    ")\n",
    "# mask small motif scores\n",
    "motif_cutoff = pd.Series(dmr_annot.X.max(axis=0).todense().A1 * mask_quantile_to_max, index=dmr_annot.var_names)"
   ]
  },
  {
   "cell_type": "code",
   "execution_count": 10,
   "metadata": {
    "ExecuteTime": {
     "end_time": "2020-01-26T05:39:20.145052Z",
     "start_time": "2020-01-26T05:39:19.838566Z"
    },
    "papermill": {
     "duration": 0.160799,
     "end_time": "2020-01-27T02:35:07.567634",
     "exception": false,
     "start_time": "2020-01-27T02:35:07.406835",
     "status": "completed"
    },
    "tags": []
   },
   "outputs": [
    {
     "data": {
      "text/plain": [
       "AnnData object with n_obs × n_vars = 7953 × 719 \n",
       "    obs: 'chrom', 'start', 'end'"
      ]
     },
     "execution_count": 10,
     "metadata": {},
     "output_type": "execute_result"
    }
   ],
   "source": [
    "dmr_annot = dmr_annot[use_dmrs, :].copy()\n",
    "dmr_annot"
   ]
  },
  {
   "cell_type": "markdown",
   "metadata": {
    "papermill": {
     "duration": 0.012724,
     "end_time": "2020-01-27T02:35:07.592987",
     "exception": false,
     "start_time": "2020-01-27T02:35:07.580263",
     "status": "completed"
    },
    "tags": []
   },
   "source": [
    "## Background Hits"
   ]
  },
  {
   "cell_type": "code",
   "execution_count": 11,
   "metadata": {
    "ExecuteTime": {
     "end_time": "2020-01-26T05:39:21.260309Z",
     "start_time": "2020-01-26T05:39:20.146266Z"
    },
    "papermill": {
     "duration": 1.161879,
     "end_time": "2020-01-27T02:35:08.767524",
     "exception": false,
     "start_time": "2020-01-27T02:35:07.605645",
     "status": "completed"
    },
    "tags": []
   },
   "outputs": [],
   "source": [
    "background_motif_hits = anndata.read_h5ad(\n",
    "    '/home/hanliu/project/mouse_rostral_brain/DMR/BackgroundDMR/MotifScan.h5ad'\n",
    ")"
   ]
  },
  {
   "cell_type": "code",
   "execution_count": 12,
   "metadata": {
    "ExecuteTime": {
     "end_time": "2020-01-26T05:39:22.476462Z",
     "start_time": "2020-01-26T05:39:21.261657Z"
    },
    "papermill": {
     "duration": 1.349824,
     "end_time": "2020-01-27T02:35:10.130400",
     "exception": false,
     "start_time": "2020-01-27T02:35:08.780576",
     "status": "completed"
    },
    "tags": []
   },
   "outputs": [],
   "source": [
    "dmr_bed = pybedtools.BedTool().from_dataframe(dmr_bed_df)\n",
    "bg_bed = pybedtools.BedTool().from_dataframe(\n",
    "    background_motif_hits.obs.reset_index().iloc[:, [1, 2, 3, 0]])"
   ]
  },
  {
   "cell_type": "code",
   "execution_count": 13,
   "metadata": {
    "ExecuteTime": {
     "end_time": "2020-01-26T05:39:23.984509Z",
     "start_time": "2020-01-26T05:39:22.477832Z"
    },
    "papermill": {
     "duration": 1.607766,
     "end_time": "2020-01-27T02:35:11.751468",
     "exception": false,
     "start_time": "2020-01-27T02:35:10.143702",
     "status": "completed"
    },
    "tags": []
   },
   "outputs": [
    {
     "data": {
      "text/plain": [
       "AnnData object with n_obs × n_vars = 345786 × 719 \n",
       "    obs: 'chrom', 'start', 'end'"
      ]
     },
     "execution_count": 13,
     "metadata": {},
     "output_type": "execute_result"
    }
   ],
   "source": [
    "# exclude background that overlap with DMR\n",
    "bg_no_overlap = bg_bed.intersect(dmr_bed, v=True)\n",
    "use_bg = bg_no_overlap.to_dataframe().iloc[:, -1].values\n",
    "background_motif_hits = background_motif_hits[use_bg, :]\n",
    "\n",
    "# make sure col in same order\n",
    "background_motif_hits = background_motif_hits[:, dmr_annot.var_names].copy()\n",
    "background_motif_hits"
   ]
  },
  {
   "cell_type": "markdown",
   "metadata": {
    "papermill": {
     "duration": 0.012145,
     "end_time": "2020-01-27T02:35:11.776681",
     "exception": false,
     "start_time": "2020-01-27T02:35:11.764536",
     "status": "completed"
    },
    "tags": []
   },
   "source": [
    "## Redo motif score filter"
   ]
  },
  {
   "cell_type": "code",
   "execution_count": 14,
   "metadata": {
    "ExecuteTime": {
     "end_time": "2020-01-26T05:39:23.996307Z",
     "start_time": "2020-01-26T05:39:23.986174Z"
    },
    "papermill": {
     "duration": 0.115271,
     "end_time": "2020-01-27T02:35:11.904335",
     "exception": false,
     "start_time": "2020-01-27T02:35:11.789064",
     "status": "completed"
    },
    "tags": []
   },
   "outputs": [],
   "source": [
    "# only keep value larger than the cutoff for each motif\n",
    "dmr_annot.X = dmr_annot.X.multiply(\n",
    "    (dmr_annot.X >\n",
    "     motif_cutoff[dmr_annot.var_names].values[None, :]).astype(int)).tocsr()"
   ]
  },
  {
   "cell_type": "code",
   "execution_count": 15,
   "metadata": {
    "ExecuteTime": {
     "end_time": "2020-01-26T05:39:29.519631Z",
     "start_time": "2020-01-26T05:39:23.998021Z"
    },
    "papermill": {
     "duration": 4.40086,
     "end_time": "2020-01-27T02:35:16.318379",
     "exception": false,
     "start_time": "2020-01-27T02:35:11.917519",
     "status": "completed"
    },
    "tags": []
   },
   "outputs": [],
   "source": [
    "# only keep value larger than the cutoff for each motif\n",
    "background_motif_hits.X = background_motif_hits.X.multiply(\n",
    "    (background_motif_hits.X >\n",
    "     motif_cutoff[background_motif_hits.var_names].values[None, :]).astype(int)).tocsr()"
   ]
  },
  {
   "cell_type": "markdown",
   "metadata": {
    "papermill": {
     "duration": 0.012359,
     "end_time": "2020-01-27T02:35:16.344008",
     "exception": false,
     "start_time": "2020-01-27T02:35:16.331649",
     "status": "completed"
    },
    "tags": []
   },
   "source": [
    "## Motif hits contingency table"
   ]
  },
  {
   "cell_type": "code",
   "execution_count": 16,
   "metadata": {
    "ExecuteTime": {
     "end_time": "2020-01-26T05:39:29.838813Z",
     "start_time": "2020-01-26T05:39:29.521507Z"
    },
    "papermill": {
     "duration": 0.292169,
     "end_time": "2020-01-27T02:35:16.648394",
     "exception": false,
     "start_time": "2020-01-27T02:35:16.356225",
     "status": "completed"
    },
    "tags": []
   },
   "outputs": [],
   "source": [
    "motif_ids = dmr_annot.var_names\n",
    "\n",
    "# calculate motif occurence, not considering hits here\n",
    "pos = (dmr_annot[:, motif_ids].X > 0).sum(axis=0)\n",
    "pos_total = dmr_annot.shape[0]\n",
    "\n",
    "neg = (background_motif_hits.X > 0).sum(axis=0)\n",
    "neg_total = background_motif_hits.shape[0]"
   ]
  },
  {
   "cell_type": "code",
   "execution_count": 17,
   "metadata": {
    "ExecuteTime": {
     "end_time": "2020-01-26T05:39:29.844971Z",
     "start_time": "2020-01-26T05:39:29.840374Z"
    },
    "papermill": {
     "duration": 0.019421,
     "end_time": "2020-01-27T02:35:16.681080",
     "exception": false,
     "start_time": "2020-01-27T02:35:16.661659",
     "status": "completed"
    },
    "scrolled": true,
    "tags": []
   },
   "outputs": [],
   "source": [
    "tables = {}\n",
    "for motif, _pos, _neg in zip(motif_ids, pos.A1, neg.A1):\n",
    "    table = [[_pos, pos_total - _pos], [_neg, neg_total - _neg]]\n",
    "    tables[motif] = table"
   ]
  },
  {
   "cell_type": "code",
   "execution_count": 18,
   "metadata": {
    "ExecuteTime": {
     "end_time": "2020-01-26T05:39:31.438243Z",
     "start_time": "2020-01-26T05:39:29.846363Z"
    },
    "papermill": {
     "duration": 1.083755,
     "end_time": "2020-01-27T02:35:17.776972",
     "exception": false,
     "start_time": "2020-01-27T02:35:16.693217",
     "status": "completed"
    },
    "tags": []
   },
   "outputs": [],
   "source": [
    "results = {}\n",
    "with ProcessPoolExecutor(40) as executor:\n",
    "    fs = {}\n",
    "    for motif, t in tables.items():\n",
    "        f = executor.submit(stats.fisher_exact, t, alternative='greater')\n",
    "        fs[f] = motif\n",
    "\n",
    "    for f in as_completed(fs):\n",
    "        motif = fs[f]\n",
    "        odds, p = f.result()\n",
    "        results[motif] = {'oddsratio': odds, 'p_value': p}\n",
    "motif_enrich_df = pd.DataFrame(results).T\n",
    "\n",
    "_, p, _, _ = multipletests(motif_enrich_df['p_value'], method='fdr_bh')\n",
    "motif_enrich_df['adj_p'] = p\n",
    "\n",
    "motif_enrich_df['-lgp'] = -np.log10(motif_enrich_df['adj_p']).replace(\n",
    "    -np.inf, -300)\n",
    "\n",
    "records = {}\n",
    "for motif, t in tables.items():\n",
    "    tp, tn = t[0]\n",
    "    fp, fn = t[1]\n",
    "    tp_rate = tp / pos_total\n",
    "    fp_rate = fp / neg_total\n",
    "    records[motif] = dict(tp=tp,\n",
    "                          tn=tn,\n",
    "                          fp=fp,\n",
    "                          fn=fn,\n",
    "                          tp_rate=tp_rate,\n",
    "                          fp_rate=fp_rate)\n",
    "counts = pd.DataFrame(records).T\n",
    "motif_enrich_df = pd.concat([motif_enrich_df, counts], axis=1, sort=True)"
   ]
  },
  {
   "cell_type": "code",
   "execution_count": 19,
   "metadata": {
    "ExecuteTime": {
     "end_time": "2020-01-26T05:39:31.442900Z",
     "start_time": "2020-01-26T05:39:31.439825Z"
    },
    "papermill": {
     "duration": 0.018699,
     "end_time": "2020-01-27T02:35:17.808850",
     "exception": false,
     "start_time": "2020-01-27T02:35:17.790151",
     "status": "completed"
    },
    "tags": []
   },
   "outputs": [],
   "source": [
    "motif_enrich_df['GeneCluster'] = gene_cluster\n",
    "motif_enrich_df['DMRType'] = 'Hypo'"
   ]
  },
  {
   "cell_type": "code",
   "execution_count": 20,
   "metadata": {
    "ExecuteTime": {
     "end_time": "2020-01-26T05:39:31.447983Z",
     "start_time": "2020-01-26T05:39:31.444254Z"
    },
    "papermill": {
     "duration": 0.018345,
     "end_time": "2020-01-27T02:35:17.839063",
     "exception": false,
     "start_time": "2020-01-27T02:35:17.820718",
     "status": "completed"
    },
    "tags": []
   },
   "outputs": [],
   "source": [
    "motif_enrich_df = motif_enrich_df[motif_enrich_df['oddsratio'] > 1].copy()"
   ]
  },
  {
   "cell_type": "markdown",
   "metadata": {
    "papermill": {
     "duration": 0.011938,
     "end_time": "2020-01-27T02:35:17.862978",
     "exception": false,
     "start_time": "2020-01-27T02:35:17.851040",
     "status": "completed"
    },
    "tags": []
   },
   "source": [
    "## Add gene info"
   ]
  },
  {
   "cell_type": "code",
   "execution_count": 21,
   "metadata": {
    "ExecuteTime": {
     "end_time": "2020-01-26T05:39:31.462006Z",
     "start_time": "2020-01-26T05:39:31.449161Z"
    },
    "papermill": {
     "duration": 0.027561,
     "end_time": "2020-01-27T02:35:17.902539",
     "exception": false,
     "start_time": "2020-01-27T02:35:17.874978",
     "status": "completed"
    },
    "tags": []
   },
   "outputs": [
    {
     "data": {
      "text/html": [
       "<div>\n",
       "<style scoped>\n",
       "    .dataframe tbody tr th:only-of-type {\n",
       "        vertical-align: middle;\n",
       "    }\n",
       "\n",
       "    .dataframe tbody tr th {\n",
       "        vertical-align: top;\n",
       "    }\n",
       "\n",
       "    .dataframe thead th {\n",
       "        text-align: right;\n",
       "    }\n",
       "</style>\n",
       "<table border=\"1\" class=\"dataframe\">\n",
       "  <thead>\n",
       "    <tr style=\"text-align: right;\">\n",
       "      <th></th>\n",
       "      <th>motif_name</th>\n",
       "      <th>motif_genes</th>\n",
       "      <th>gene_ids</th>\n",
       "      <th>gene_names</th>\n",
       "      <th>motif_group</th>\n",
       "    </tr>\n",
       "    <tr>\n",
       "      <th>motif_uid</th>\n",
       "      <th></th>\n",
       "      <th></th>\n",
       "      <th></th>\n",
       "      <th></th>\n",
       "      <th></th>\n",
       "    </tr>\n",
       "  </thead>\n",
       "  <tbody>\n",
       "    <tr>\n",
       "      <th>MA0006.1</th>\n",
       "      <td>Ahr::Arnt</td>\n",
       "      <td>Ahr,Arnt</td>\n",
       "      <td>ENSMUSG00000019256.17,ENSMUSG00000015522.18</td>\n",
       "      <td>Ahr,Arnt</td>\n",
       "      <td>MotifGroup178</td>\n",
       "    </tr>\n",
       "    <tr>\n",
       "      <th>MA0854.1</th>\n",
       "      <td>Alx1</td>\n",
       "      <td>Alx1</td>\n",
       "      <td>ENSMUSG00000036602.14</td>\n",
       "      <td>Alx1</td>\n",
       "      <td>MotifGroup3</td>\n",
       "    </tr>\n",
       "    <tr>\n",
       "      <th>MA0634.1</th>\n",
       "      <td>ALX3</td>\n",
       "      <td>ALX3</td>\n",
       "      <td>ENSMUSG00000014603.3</td>\n",
       "      <td>Alx3</td>\n",
       "      <td>MotifGroup3</td>\n",
       "    </tr>\n",
       "    <tr>\n",
       "      <th>MA0853.1</th>\n",
       "      <td>Alx4</td>\n",
       "      <td>Alx4</td>\n",
       "      <td>ENSMUSG00000040310.12</td>\n",
       "      <td>Alx4</td>\n",
       "      <td>MotifGroup3</td>\n",
       "    </tr>\n",
       "    <tr>\n",
       "      <th>MA0007.3</th>\n",
       "      <td>Ar</td>\n",
       "      <td>Ar</td>\n",
       "      <td>ENSMUSG00000046532.8</td>\n",
       "      <td>Ar</td>\n",
       "      <td>MotifGroup32</td>\n",
       "    </tr>\n",
       "  </tbody>\n",
       "</table>\n",
       "</div>"
      ],
      "text/plain": [
       "          motif_name motif_genes                                     gene_ids  \\\n",
       "motif_uid                                                                       \n",
       "MA0006.1   Ahr::Arnt    Ahr,Arnt  ENSMUSG00000019256.17,ENSMUSG00000015522.18   \n",
       "MA0854.1        Alx1        Alx1                        ENSMUSG00000036602.14   \n",
       "MA0634.1        ALX3        ALX3                         ENSMUSG00000014603.3   \n",
       "MA0853.1        Alx4        Alx4                        ENSMUSG00000040310.12   \n",
       "MA0007.3          Ar          Ar                         ENSMUSG00000046532.8   \n",
       "\n",
       "          gene_names    motif_group  \n",
       "motif_uid                            \n",
       "MA0006.1    Ahr,Arnt  MotifGroup178  \n",
       "MA0854.1        Alx1    MotifGroup3  \n",
       "MA0634.1        Alx3    MotifGroup3  \n",
       "MA0853.1        Alx4    MotifGroup3  \n",
       "MA0007.3          Ar   MotifGroup32  "
      ]
     },
     "execution_count": 21,
     "metadata": {},
     "output_type": "execute_result"
    }
   ],
   "source": [
    "motif_gene_anno = pd.read_csv(\n",
    "    '/home/hanliu/project/mouse_rostral_brain/study/MotifClustering/JASPAR2020_CORE_vertebrates_non-redundant.mouse_genes.with_motif_group.199.csv', \n",
    "    index_col=0\n",
    ")\n",
    "motif_gene_anno.head()"
   ]
  },
  {
   "cell_type": "code",
   "execution_count": 22,
   "metadata": {
    "ExecuteTime": {
     "end_time": "2020-01-26T05:39:31.466132Z",
     "start_time": "2020-01-26T05:39:31.463146Z"
    },
    "papermill": {
     "duration": 0.018347,
     "end_time": "2020-01-27T02:35:17.933972",
     "exception": false,
     "start_time": "2020-01-27T02:35:17.915625",
     "status": "completed"
    },
    "tags": []
   },
   "outputs": [],
   "source": [
    "motif_enrich_df = pd.concat([motif_enrich_df, motif_gene_anno.reindex(motif_enrich_df.index)], axis=1)"
   ]
  },
  {
   "cell_type": "code",
   "execution_count": 23,
   "metadata": {
    "ExecuteTime": {
     "end_time": "2020-01-26T05:41:01.352610Z",
     "start_time": "2020-01-26T05:41:01.349314Z"
    },
    "papermill": {
     "duration": 0.019152,
     "end_time": "2020-01-27T02:35:17.965483",
     "exception": false,
     "start_time": "2020-01-27T02:35:17.946331",
     "status": "completed"
    },
    "tags": []
   },
   "outputs": [
    {
     "name": "stderr",
     "output_type": "stream",
     "text": [
      "/home/hanliu/miniconda3/envs/clustering/lib/python3.7/site-packages/ipykernel_launcher.py:1: FutureWarning: to_msgpack is deprecated and will be removed in a future version.\n",
      "It is recommended to use pyarrow for on-the-wire transmission of pandas objects.\n",
      "  \"\"\"Entry point for launching an IPython kernel.\n"
     ]
    }
   ],
   "source": [
    "motif_enrich_df.to_msgpack(output_dir / f'{gene_cluster}.Hypo.motif_enrichment.msg')"
   ]
  },
  {
   "cell_type": "code",
   "execution_count": 24,
   "metadata": {
    "ExecuteTime": {
     "end_time": "2020-01-26T05:39:31.478039Z",
     "start_time": "2020-01-26T05:39:31.473299Z"
    },
    "papermill": {
     "duration": 0.020652,
     "end_time": "2020-01-27T02:35:17.998314",
     "exception": false,
     "start_time": "2020-01-27T02:35:17.977662",
     "status": "completed"
    },
    "tags": []
   },
   "outputs": [
    {
     "data": {
      "text/plain": [
       "10"
      ]
     },
     "execution_count": 24,
     "metadata": {},
     "output_type": "execute_result"
    }
   ],
   "source": [
    "# final filter\n",
    "filtered_motif_df = motif_enrich_df[(motif_enrich_df['oddsratio'] > or_cutoff)\n",
    "                                    &\n",
    "                                    (motif_enrich_df['-lgp'] > neg_lgp_cutoff)]\n",
    "filtered_motif_df.shape[0]"
   ]
  },
  {
   "cell_type": "code",
   "execution_count": 25,
   "metadata": {
    "ExecuteTime": {
     "end_time": "2020-01-26T05:39:31.492820Z",
     "start_time": "2020-01-26T05:39:31.479121Z"
    },
    "papermill": {
     "duration": 0.029953,
     "end_time": "2020-01-27T02:35:18.040613",
     "exception": false,
     "start_time": "2020-01-27T02:35:18.010660",
     "status": "completed"
    },
    "tags": []
   },
   "outputs": [
    {
     "data": {
      "text/html": [
       "<div>\n",
       "<style scoped>\n",
       "    .dataframe tbody tr th:only-of-type {\n",
       "        vertical-align: middle;\n",
       "    }\n",
       "\n",
       "    .dataframe tbody tr th {\n",
       "        vertical-align: top;\n",
       "    }\n",
       "\n",
       "    .dataframe thead th {\n",
       "        text-align: right;\n",
       "    }\n",
       "</style>\n",
       "<table border=\"1\" class=\"dataframe\">\n",
       "  <thead>\n",
       "    <tr style=\"text-align: right;\">\n",
       "      <th></th>\n",
       "      <th>oddsratio</th>\n",
       "      <th>p_value</th>\n",
       "      <th>adj_p</th>\n",
       "      <th>-lgp</th>\n",
       "      <th>tp</th>\n",
       "      <th>tn</th>\n",
       "      <th>fp</th>\n",
       "      <th>fn</th>\n",
       "      <th>tp_rate</th>\n",
       "      <th>fp_rate</th>\n",
       "      <th>GeneCluster</th>\n",
       "      <th>DMRType</th>\n",
       "      <th>motif_name</th>\n",
       "      <th>motif_genes</th>\n",
       "      <th>gene_ids</th>\n",
       "      <th>gene_names</th>\n",
       "      <th>motif_group</th>\n",
       "    </tr>\n",
       "  </thead>\n",
       "  <tbody>\n",
       "    <tr>\n",
       "      <th>MA0623.2</th>\n",
       "      <td>1.770442</td>\n",
       "      <td>6.294511e-11</td>\n",
       "      <td>3.771461e-09</td>\n",
       "      <td>8.423490</td>\n",
       "      <td>160.0</td>\n",
       "      <td>7793.0</td>\n",
       "      <td>3964.0</td>\n",
       "      <td>341822.0</td>\n",
       "      <td>0.020118</td>\n",
       "      <td>0.011464</td>\n",
       "      <td>8</td>\n",
       "      <td>Hypo</td>\n",
       "      <td>NEUROG1</td>\n",
       "      <td>NEUROG1</td>\n",
       "      <td>ENSMUSG00000048904.5</td>\n",
       "      <td>Neurog1</td>\n",
       "      <td>MotifGroup5</td>\n",
       "    </tr>\n",
       "    <tr>\n",
       "      <th>MA0668.1</th>\n",
       "      <td>1.786405</td>\n",
       "      <td>1.938195e-15</td>\n",
       "      <td>2.787124e-13</td>\n",
       "      <td>12.554844</td>\n",
       "      <td>233.0</td>\n",
       "      <td>7720.0</td>\n",
       "      <td>5745.0</td>\n",
       "      <td>340041.0</td>\n",
       "      <td>0.029297</td>\n",
       "      <td>0.016614</td>\n",
       "      <td>8</td>\n",
       "      <td>Hypo</td>\n",
       "      <td>NEUROD2</td>\n",
       "      <td>NEUROD2</td>\n",
       "      <td>ENSMUSG00000038255.6</td>\n",
       "      <td>Neurod2</td>\n",
       "      <td>MotifGroup5</td>\n",
       "    </tr>\n",
       "    <tr>\n",
       "      <th>MA0669.1</th>\n",
       "      <td>1.705954</td>\n",
       "      <td>1.862617e-07</td>\n",
       "      <td>8.928146e-06</td>\n",
       "      <td>5.049239</td>\n",
       "      <td>113.0</td>\n",
       "      <td>7840.0</td>\n",
       "      <td>2897.0</td>\n",
       "      <td>342889.0</td>\n",
       "      <td>0.014208</td>\n",
       "      <td>0.008378</td>\n",
       "      <td>8</td>\n",
       "      <td>Hypo</td>\n",
       "      <td>NEUROG2</td>\n",
       "      <td>NEUROG2</td>\n",
       "      <td>ENSMUSG00000027967.8</td>\n",
       "      <td>Neurog2</td>\n",
       "      <td>MotifGroup5</td>\n",
       "    </tr>\n",
       "    <tr>\n",
       "      <th>MA0678.1</th>\n",
       "      <td>1.789233</td>\n",
       "      <td>1.337725e-07</td>\n",
       "      <td>6.870175e-06</td>\n",
       "      <td>5.163032</td>\n",
       "      <td>99.0</td>\n",
       "      <td>7854.0</td>\n",
       "      <td>2419.0</td>\n",
       "      <td>343367.0</td>\n",
       "      <td>0.012448</td>\n",
       "      <td>0.006996</td>\n",
       "      <td>8</td>\n",
       "      <td>Hypo</td>\n",
       "      <td>OLIG2</td>\n",
       "      <td>OLIG2</td>\n",
       "      <td>ENSMUSG00000039830.9</td>\n",
       "      <td>Olig2</td>\n",
       "      <td>MotifGroup5</td>\n",
       "    </tr>\n",
       "    <tr>\n",
       "      <th>MA0818.1</th>\n",
       "      <td>1.806176</td>\n",
       "      <td>1.047009e-11</td>\n",
       "      <td>6.843634e-10</td>\n",
       "      <td>9.164713</td>\n",
       "      <td>163.0</td>\n",
       "      <td>7790.0</td>\n",
       "      <td>3960.0</td>\n",
       "      <td>341826.0</td>\n",
       "      <td>0.020495</td>\n",
       "      <td>0.011452</td>\n",
       "      <td>8</td>\n",
       "      <td>Hypo</td>\n",
       "      <td>BHLHE22</td>\n",
       "      <td>BHLHE22</td>\n",
       "      <td>ENSMUSG00000025128.7</td>\n",
       "      <td>Bhlhe22</td>\n",
       "      <td>MotifGroup5</td>\n",
       "    </tr>\n",
       "    <tr>\n",
       "      <th>MA0826.1</th>\n",
       "      <td>1.709228</td>\n",
       "      <td>1.163413e-06</td>\n",
       "      <td>4.647190e-05</td>\n",
       "      <td>4.332810</td>\n",
       "      <td>97.0</td>\n",
       "      <td>7856.0</td>\n",
       "      <td>2480.0</td>\n",
       "      <td>343306.0</td>\n",
       "      <td>0.012197</td>\n",
       "      <td>0.007172</td>\n",
       "      <td>8</td>\n",
       "      <td>Hypo</td>\n",
       "      <td>OLIG1</td>\n",
       "      <td>OLIG1</td>\n",
       "      <td>ENSMUSG00000046160.6</td>\n",
       "      <td>Olig1</td>\n",
       "      <td>MotifGroup5</td>\n",
       "    </tr>\n",
       "    <tr>\n",
       "      <th>MA0827.1</th>\n",
       "      <td>1.946115</td>\n",
       "      <td>5.322447e-15</td>\n",
       "      <td>6.378065e-13</td>\n",
       "      <td>12.195311</td>\n",
       "      <td>175.0</td>\n",
       "      <td>7778.0</td>\n",
       "      <td>3952.0</td>\n",
       "      <td>341834.0</td>\n",
       "      <td>0.022004</td>\n",
       "      <td>0.011429</td>\n",
       "      <td>8</td>\n",
       "      <td>Hypo</td>\n",
       "      <td>OLIG3</td>\n",
       "      <td>OLIG3</td>\n",
       "      <td>ENSMUSG00000045591.6</td>\n",
       "      <td>Olig3</td>\n",
       "      <td>MotifGroup5</td>\n",
       "    </tr>\n",
       "    <tr>\n",
       "      <th>MA1109.1</th>\n",
       "      <td>2.042273</td>\n",
       "      <td>1.383616e-45</td>\n",
       "      <td>3.316067e-43</td>\n",
       "      <td>42.479377</td>\n",
       "      <td>528.0</td>\n",
       "      <td>7425.0</td>\n",
       "      <td>11635.0</td>\n",
       "      <td>334151.0</td>\n",
       "      <td>0.066390</td>\n",
       "      <td>0.033648</td>\n",
       "      <td>8</td>\n",
       "      <td>Hypo</td>\n",
       "      <td>NEUROD1</td>\n",
       "      <td>NEUROD1</td>\n",
       "      <td>ENSMUSG00000034701.9</td>\n",
       "      <td>Neurod1</td>\n",
       "      <td>MotifGroup5</td>\n",
       "    </tr>\n",
       "    <tr>\n",
       "      <th>MA1568.1</th>\n",
       "      <td>2.040932</td>\n",
       "      <td>2.019096e-05</td>\n",
       "      <td>6.912999e-04</td>\n",
       "      <td>3.160333</td>\n",
       "      <td>44.0</td>\n",
       "      <td>7909.0</td>\n",
       "      <td>940.0</td>\n",
       "      <td>344846.0</td>\n",
       "      <td>0.005533</td>\n",
       "      <td>0.002718</td>\n",
       "      <td>8</td>\n",
       "      <td>Hypo</td>\n",
       "      <td>TCF21(var.2)</td>\n",
       "      <td>TCF21</td>\n",
       "      <td>ENSMUSG00000045680.8</td>\n",
       "      <td>Tcf21</td>\n",
       "      <td>MotifGroup5</td>\n",
       "    </tr>\n",
       "    <tr>\n",
       "      <th>MA1642.1</th>\n",
       "      <td>2.020490</td>\n",
       "      <td>1.073178e-70</td>\n",
       "      <td>7.716151e-68</td>\n",
       "      <td>67.112599</td>\n",
       "      <td>883.0</td>\n",
       "      <td>7070.0</td>\n",
       "      <td>20130.0</td>\n",
       "      <td>325656.0</td>\n",
       "      <td>0.111027</td>\n",
       "      <td>0.058215</td>\n",
       "      <td>8</td>\n",
       "      <td>Hypo</td>\n",
       "      <td>NEUROG2(var.2)</td>\n",
       "      <td>NEUROG2</td>\n",
       "      <td>ENSMUSG00000027967.8</td>\n",
       "      <td>Neurog2</td>\n",
       "      <td>MotifGroup5</td>\n",
       "    </tr>\n",
       "  </tbody>\n",
       "</table>\n",
       "</div>"
      ],
      "text/plain": [
       "          oddsratio       p_value         adj_p       -lgp     tp      tn  \\\n",
       "MA0623.2   1.770442  6.294511e-11  3.771461e-09   8.423490  160.0  7793.0   \n",
       "MA0668.1   1.786405  1.938195e-15  2.787124e-13  12.554844  233.0  7720.0   \n",
       "MA0669.1   1.705954  1.862617e-07  8.928146e-06   5.049239  113.0  7840.0   \n",
       "MA0678.1   1.789233  1.337725e-07  6.870175e-06   5.163032   99.0  7854.0   \n",
       "MA0818.1   1.806176  1.047009e-11  6.843634e-10   9.164713  163.0  7790.0   \n",
       "MA0826.1   1.709228  1.163413e-06  4.647190e-05   4.332810   97.0  7856.0   \n",
       "MA0827.1   1.946115  5.322447e-15  6.378065e-13  12.195311  175.0  7778.0   \n",
       "MA1109.1   2.042273  1.383616e-45  3.316067e-43  42.479377  528.0  7425.0   \n",
       "MA1568.1   2.040932  2.019096e-05  6.912999e-04   3.160333   44.0  7909.0   \n",
       "MA1642.1   2.020490  1.073178e-70  7.716151e-68  67.112599  883.0  7070.0   \n",
       "\n",
       "               fp        fn   tp_rate   fp_rate GeneCluster DMRType  \\\n",
       "MA0623.2   3964.0  341822.0  0.020118  0.011464           8    Hypo   \n",
       "MA0668.1   5745.0  340041.0  0.029297  0.016614           8    Hypo   \n",
       "MA0669.1   2897.0  342889.0  0.014208  0.008378           8    Hypo   \n",
       "MA0678.1   2419.0  343367.0  0.012448  0.006996           8    Hypo   \n",
       "MA0818.1   3960.0  341826.0  0.020495  0.011452           8    Hypo   \n",
       "MA0826.1   2480.0  343306.0  0.012197  0.007172           8    Hypo   \n",
       "MA0827.1   3952.0  341834.0  0.022004  0.011429           8    Hypo   \n",
       "MA1109.1  11635.0  334151.0  0.066390  0.033648           8    Hypo   \n",
       "MA1568.1    940.0  344846.0  0.005533  0.002718           8    Hypo   \n",
       "MA1642.1  20130.0  325656.0  0.111027  0.058215           8    Hypo   \n",
       "\n",
       "              motif_name motif_genes              gene_ids gene_names  \\\n",
       "MA0623.2         NEUROG1     NEUROG1  ENSMUSG00000048904.5    Neurog1   \n",
       "MA0668.1         NEUROD2     NEUROD2  ENSMUSG00000038255.6    Neurod2   \n",
       "MA0669.1         NEUROG2     NEUROG2  ENSMUSG00000027967.8    Neurog2   \n",
       "MA0678.1           OLIG2       OLIG2  ENSMUSG00000039830.9      Olig2   \n",
       "MA0818.1         BHLHE22     BHLHE22  ENSMUSG00000025128.7    Bhlhe22   \n",
       "MA0826.1           OLIG1       OLIG1  ENSMUSG00000046160.6      Olig1   \n",
       "MA0827.1           OLIG3       OLIG3  ENSMUSG00000045591.6      Olig3   \n",
       "MA1109.1         NEUROD1     NEUROD1  ENSMUSG00000034701.9    Neurod1   \n",
       "MA1568.1    TCF21(var.2)       TCF21  ENSMUSG00000045680.8      Tcf21   \n",
       "MA1642.1  NEUROG2(var.2)     NEUROG2  ENSMUSG00000027967.8    Neurog2   \n",
       "\n",
       "          motif_group  \n",
       "MA0623.2  MotifGroup5  \n",
       "MA0668.1  MotifGroup5  \n",
       "MA0669.1  MotifGroup5  \n",
       "MA0678.1  MotifGroup5  \n",
       "MA0818.1  MotifGroup5  \n",
       "MA0826.1  MotifGroup5  \n",
       "MA0827.1  MotifGroup5  \n",
       "MA1109.1  MotifGroup5  \n",
       "MA1568.1  MotifGroup5  \n",
       "MA1642.1  MotifGroup5  "
      ]
     },
     "execution_count": 25,
     "metadata": {},
     "output_type": "execute_result"
    }
   ],
   "source": [
    "filtered_motif_df"
   ]
  },
  {
   "cell_type": "code",
   "execution_count": null,
   "metadata": {
    "papermill": {
     "duration": 0.013293,
     "end_time": "2020-01-27T02:35:18.067799",
     "exception": false,
     "start_time": "2020-01-27T02:35:18.054506",
     "status": "completed"
    },
    "tags": []
   },
   "outputs": [],
   "source": []
  }
 ],
 "metadata": {
  "hide_input": false,
  "kernelspec": {
   "display_name": "Python 3",
   "language": "python",
   "name": "python3"
  },
  "language_info": {
   "codemirror_mode": {
    "name": "ipython",
    "version": 3
   },
   "file_extension": ".py",
   "mimetype": "text/x-python",
   "name": "python",
   "nbconvert_exporter": "python",
   "pygments_lexer": "ipython3",
   "version": "3.7.3"
  },
  "papermill": {
   "duration": 44.559233,
   "end_time": "2020-01-27T02:35:18.587753",
   "environment_variables": {},
   "exception": null,
   "input_path": "7.MotifEnrichment.ipynb",
   "output_path": "/home/hanliu/project/mouse_rostral_brain/study/ClustersEnsemble/HPFSubtypeEnsemble/7.MotifEnrichment.ipynb",
   "parameters": {
    "gene_cluster": "8",
    "mask_quantile_to_max": 0.8,
    "neg_lgp_cutoff": 3,
    "or_cutoff": 1.6
   },
   "start_time": "2020-01-27T02:34:34.028520",
   "version": "1.0.1"
  },
  "toc": {
   "base_numbering": 1,
   "nav_menu": {},
   "number_sections": true,
   "sideBar": true,
   "skip_h1_title": true,
   "title_cell": "Table of Contents",
   "title_sidebar": "Contents",
   "toc_cell": false,
   "toc_position": {},
   "toc_section_display": true,
   "toc_window_display": true
  }
 },
 "nbformat": 4,
 "nbformat_minor": 2
}