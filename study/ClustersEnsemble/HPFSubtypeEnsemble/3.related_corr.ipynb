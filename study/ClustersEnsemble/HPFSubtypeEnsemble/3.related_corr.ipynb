{
 "cells": [
  {
   "cell_type": "code",
   "execution_count": 1,
   "metadata": {
    "ExecuteTime": {
     "end_time": "2020-01-26T04:08:31.534305Z",
     "start_time": "2020-01-26T04:08:31.395548Z"
    },
    "papermill": {
     "duration": 0.157943,
     "end_time": "2020-01-27T02:22:21.552832",
     "exception": false,
     "start_time": "2020-01-27T02:22:21.394889",
     "status": "completed"
    },
    "tags": []
   },
   "outputs": [],
   "source": [
    "import pandas as pd"
   ]
  },
  {
   "cell_type": "markdown",
   "metadata": {
    "papermill": {
     "duration": 0.006567,
     "end_time": "2020-01-27T02:22:21.566849",
     "exception": false,
     "start_time": "2020-01-27T02:22:21.560282",
     "status": "completed"
    },
    "tags": []
   },
   "source": [
    "## Parameter"
   ]
  },
  {
   "cell_type": "code",
   "execution_count": 2,
   "metadata": {
    "ExecuteTime": {
     "end_time": "2020-01-26T04:08:32.514230Z",
     "start_time": "2020-01-26T04:08:32.512179Z"
    },
    "papermill": {
     "duration": 0.011167,
     "end_time": "2020-01-27T02:22:21.584382",
     "exception": false,
     "start_time": "2020-01-27T02:22:21.573215",
     "status": "completed"
    },
    "tags": [
     "parameters"
    ]
   },
   "outputs": [],
   "source": [
    "corr_cutoff = 0.35\n",
    "distance_cutoff = 500000"
   ]
  },
  {
   "cell_type": "code",
   "execution_count": 3,
   "metadata": {
    "papermill": {
     "duration": 0.010863,
     "end_time": "2020-01-27T02:22:21.601399",
     "exception": false,
     "start_time": "2020-01-27T02:22:21.590536",
     "status": "completed"
    },
    "tags": [
     "injected-parameters"
    ]
   },
   "outputs": [],
   "source": [
    "# Parameters\n",
    "corr_cutoff = 0.3\n",
    "distance_cutoff = 500000\n"
   ]
  },
  {
   "cell_type": "code",
   "execution_count": 4,
   "metadata": {
    "ExecuteTime": {
     "end_time": "2020-01-26T04:08:36.932132Z",
     "start_time": "2020-01-26T04:08:32.800190Z"
    },
    "papermill": {
     "duration": 3.897689,
     "end_time": "2020-01-27T02:22:25.505257",
     "exception": false,
     "start_time": "2020-01-27T02:22:21.607568",
     "status": "completed"
    },
    "tags": []
   },
   "outputs": [
    {
     "name": "stderr",
     "output_type": "stream",
     "text": [
      "/home/hanliu/miniconda3/envs/clustering/lib/python3.7/site-packages/IPython/core/interactiveshell.py:3326: FutureWarning: The read_msgpack is deprecated and will be removed in a future version.\n",
      "It is recommended to use pyarrow for on-the-wire transmission of pandas objects.\n",
      "  exec(code_obj, self.user_global_ns, self.user_ns)\n"
     ]
    }
   ],
   "source": [
    "total_corr = pd.read_msgpack('/home/hanliu/project/mouse_rostral_brain/study/DMRGeneCorr/TotalGeneDMRCorrLoop.0.3.msg')"
   ]
  },
  {
   "cell_type": "code",
   "execution_count": 5,
   "metadata": {
    "ExecuteTime": {
     "end_time": "2020-01-26T04:08:38.106066Z",
     "start_time": "2020-01-26T04:08:36.933687Z"
    },
    "papermill": {
     "duration": 1.161901,
     "end_time": "2020-01-27T02:22:26.673956",
     "exception": false,
     "start_time": "2020-01-27T02:22:25.512055",
     "status": "completed"
    },
    "tags": []
   },
   "outputs": [],
   "source": [
    "use_gene = pd.read_csv('related_dmgs.txt', index_col=0, header=None).index\n",
    "use_dmr = pd.read_csv('related_dmrs.txt', index_col=0, header=None).index"
   ]
  },
  {
   "cell_type": "code",
   "execution_count": 6,
   "metadata": {
    "ExecuteTime": {
     "end_time": "2020-01-26T04:08:40.557536Z",
     "start_time": "2020-01-26T04:08:38.107693Z"
    },
    "papermill": {
     "duration": 2.210647,
     "end_time": "2020-01-27T02:22:28.891259",
     "exception": false,
     "start_time": "2020-01-27T02:22:26.680612",
     "status": "completed"
    },
    "tags": []
   },
   "outputs": [],
   "source": [
    "use_corr = total_corr[total_corr['DMR'].isin(use_dmr) & \n",
    "           total_corr['Gene'].isin(use_gene) & \n",
    "           (total_corr['DMR_to_gene_dist'].abs() < distance_cutoff) & \n",
    "           (total_corr['Corr'] > corr_cutoff)].reset_index(drop=True)"
   ]
  },
  {
   "cell_type": "code",
   "execution_count": 7,
   "metadata": {
    "ExecuteTime": {
     "end_time": "2020-01-26T04:08:41.187788Z",
     "start_time": "2020-01-26T04:08:40.558956Z"
    },
    "papermill": {
     "duration": 0.121011,
     "end_time": "2020-01-27T02:22:29.018918",
     "exception": false,
     "start_time": "2020-01-27T02:22:28.897907",
     "status": "completed"
    },
    "tags": []
   },
   "outputs": [
    {
     "name": "stderr",
     "output_type": "stream",
     "text": [
      "/home/hanliu/miniconda3/envs/clustering/lib/python3.7/site-packages/ipykernel_launcher.py:1: FutureWarning: to_msgpack is deprecated and will be removed in a future version.\n",
      "It is recommended to use pyarrow for on-the-wire transmission of pandas objects.\n",
      "  \"\"\"Entry point for launching an IPython kernel.\n"
     ]
    }
   ],
   "source": [
    "use_corr.to_msgpack('RelatedCorr.msg')"
   ]
  },
  {
   "cell_type": "code",
   "execution_count": 8,
   "metadata": {
    "ExecuteTime": {
     "end_time": "2020-01-26T04:08:41.193088Z",
     "start_time": "2020-01-26T04:08:41.189142Z"
    },
    "papermill": {
     "duration": 0.017055,
     "end_time": "2020-01-27T02:22:29.042931",
     "exception": false,
     "start_time": "2020-01-27T02:22:29.025876",
     "status": "completed"
    },
    "tags": []
   },
   "outputs": [
    {
     "data": {
      "text/plain": [
       "(123226, 5)"
      ]
     },
     "execution_count": 8,
     "metadata": {},
     "output_type": "execute_result"
    }
   ],
   "source": [
    "use_corr.shape"
   ]
  },
  {
   "cell_type": "code",
   "execution_count": 9,
   "metadata": {
    "ExecuteTime": {
     "end_time": "2020-01-26T04:08:41.202701Z",
     "start_time": "2020-01-26T04:08:41.194230Z"
    },
    "papermill": {
     "duration": 0.019866,
     "end_time": "2020-01-27T02:22:29.069145",
     "exception": false,
     "start_time": "2020-01-27T02:22:29.049279",
     "status": "completed"
    },
    "tags": []
   },
   "outputs": [
    {
     "data": {
      "text/html": [
       "<div>\n",
       "<style scoped>\n",
       "    .dataframe tbody tr th:only-of-type {\n",
       "        vertical-align: middle;\n",
       "    }\n",
       "\n",
       "    .dataframe tbody tr th {\n",
       "        vertical-align: top;\n",
       "    }\n",
       "\n",
       "    .dataframe thead th {\n",
       "        text-align: right;\n",
       "    }\n",
       "</style>\n",
       "<table border=\"1\" class=\"dataframe\">\n",
       "  <thead>\n",
       "    <tr style=\"text-align: right;\">\n",
       "      <th></th>\n",
       "      <th>DMR</th>\n",
       "      <th>Gene</th>\n",
       "      <th>Corr</th>\n",
       "      <th>chrom</th>\n",
       "      <th>DMR_to_gene_dist</th>\n",
       "    </tr>\n",
       "  </thead>\n",
       "  <tbody>\n",
       "    <tr>\n",
       "      <th>0</th>\n",
       "      <td>Subchr1_9357</td>\n",
       "      <td>ENSMUSG00000067879.3</td>\n",
       "      <td>0.321723</td>\n",
       "      <td>chr1</td>\n",
       "      <td>-475017.5</td>\n",
       "    </tr>\n",
       "    <tr>\n",
       "      <th>1</th>\n",
       "      <td>Subchr1_9359</td>\n",
       "      <td>ENSMUSG00000067879.3</td>\n",
       "      <td>0.488895</td>\n",
       "      <td>chr1</td>\n",
       "      <td>-473551.5</td>\n",
       "    </tr>\n",
       "    <tr>\n",
       "      <th>2</th>\n",
       "      <td>Subchr1_9360</td>\n",
       "      <td>ENSMUSG00000067879.3</td>\n",
       "      <td>0.521646</td>\n",
       "      <td>chr1</td>\n",
       "      <td>-473381.5</td>\n",
       "    </tr>\n",
       "    <tr>\n",
       "      <th>3</th>\n",
       "      <td>Subchr1_9363</td>\n",
       "      <td>ENSMUSG00000067879.3</td>\n",
       "      <td>0.402748</td>\n",
       "      <td>chr1</td>\n",
       "      <td>-470607.0</td>\n",
       "    </tr>\n",
       "    <tr>\n",
       "      <th>4</th>\n",
       "      <td>Subchr1_9378</td>\n",
       "      <td>ENSMUSG00000067879.3</td>\n",
       "      <td>0.346382</td>\n",
       "      <td>chr1</td>\n",
       "      <td>-459379.0</td>\n",
       "    </tr>\n",
       "  </tbody>\n",
       "</table>\n",
       "</div>"
      ],
      "text/plain": [
       "            DMR                  Gene      Corr chrom  DMR_to_gene_dist\n",
       "0  Subchr1_9357  ENSMUSG00000067879.3  0.321723  chr1         -475017.5\n",
       "1  Subchr1_9359  ENSMUSG00000067879.3  0.488895  chr1         -473551.5\n",
       "2  Subchr1_9360  ENSMUSG00000067879.3  0.521646  chr1         -473381.5\n",
       "3  Subchr1_9363  ENSMUSG00000067879.3  0.402748  chr1         -470607.0\n",
       "4  Subchr1_9378  ENSMUSG00000067879.3  0.346382  chr1         -459379.0"
      ]
     },
     "execution_count": 9,
     "metadata": {},
     "output_type": "execute_result"
    }
   ],
   "source": [
    "use_corr.head()"
   ]
  },
  {
   "cell_type": "code",
   "execution_count": null,
   "metadata": {
    "papermill": {
     "duration": 0.006587,
     "end_time": "2020-01-27T02:22:29.082401",
     "exception": false,
     "start_time": "2020-01-27T02:22:29.075814",
     "status": "completed"
    },
    "tags": []
   },
   "outputs": [],
   "source": []
  },
  {
   "cell_type": "code",
   "execution_count": null,
   "metadata": {
    "papermill": {
     "duration": 0.006679,
     "end_time": "2020-01-27T02:22:29.095844",
     "exception": false,
     "start_time": "2020-01-27T02:22:29.089165",
     "status": "completed"
    },
    "tags": []
   },
   "outputs": [],
   "source": []
  },
  {
   "cell_type": "code",
   "execution_count": null,
   "metadata": {
    "papermill": {
     "duration": 0.006742,
     "end_time": "2020-01-27T02:22:29.109209",
     "exception": false,
     "start_time": "2020-01-27T02:22:29.102467",
     "status": "completed"
    },
    "tags": []
   },
   "outputs": [],
   "source": []
  },
  {
   "cell_type": "code",
   "execution_count": null,
   "metadata": {
    "papermill": {
     "duration": 0.006813,
     "end_time": "2020-01-27T02:22:29.122823",
     "exception": false,
     "start_time": "2020-01-27T02:22:29.116010",
     "status": "completed"
    },
    "tags": []
   },
   "outputs": [],
   "source": []
  },
  {
   "cell_type": "code",
   "execution_count": null,
   "metadata": {
    "papermill": {
     "duration": 0.007516,
     "end_time": "2020-01-27T02:22:29.138020",
     "exception": false,
     "start_time": "2020-01-27T02:22:29.130504",
     "status": "completed"
    },
    "tags": []
   },
   "outputs": [],
   "source": []
  }
 ],
 "metadata": {
  "hide_input": false,
  "kernelspec": {
   "display_name": "Python 3",
   "language": "python",
   "name": "python3"
  },
  "language_info": {
   "codemirror_mode": {
    "name": "ipython",
    "version": 3
   },
   "file_extension": ".py",
   "mimetype": "text/x-python",
   "name": "python",
   "nbconvert_exporter": "python",
   "pygments_lexer": "ipython3",
   "version": "3.7.3"
  },
  "papermill": {
   "duration": 9.474182,
   "end_time": "2020-01-27T02:22:29.951783",
   "environment_variables": {},
   "exception": null,
   "input_path": "3.related_corr.ipynb",
   "output_path": "/home/hanliu/project/mouse_rostral_brain/study/ClustersEnsemble/HPFSubtypeEnsemble/3.related_corr.ipynb",
   "parameters": {
    "corr_cutoff": 0.3,
    "distance_cutoff": 500000
   },
   "start_time": "2020-01-27T02:22:20.477601",
   "version": "1.0.1"
  },
  "toc": {
   "base_numbering": 1,
   "nav_menu": {},
   "number_sections": true,
   "sideBar": true,
   "skip_h1_title": true,
   "title_cell": "Table of Contents",
   "title_sidebar": "Contents",
   "toc_cell": false,
   "toc_position": {},
   "toc_section_display": true,
   "toc_window_display": true
  }
 },
 "nbformat": 4,
 "nbformat_minor": 2
}