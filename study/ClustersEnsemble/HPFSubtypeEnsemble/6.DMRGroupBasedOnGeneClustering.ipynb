{
 "cells": [
  {
   "cell_type": "code",
   "execution_count": 1,
   "metadata": {
    "ExecuteTime": {
     "end_time": "2020-01-26T05:29:16.749415Z",
     "start_time": "2020-01-26T05:29:16.541873Z"
    },
    "papermill": {
     "duration": 0.203118,
     "end_time": "2020-01-27T02:23:28.559401",
     "exception": false,
     "start_time": "2020-01-27T02:23:28.356283",
     "status": "completed"
    },
    "tags": []
   },
   "outputs": [],
   "source": [
    "import pandas as pd\n",
    "import numpy as np\n",
    "import anndata\n",
    "import json\n",
    "from collections import defaultdict"
   ]
  },
  {
   "cell_type": "code",
   "execution_count": 2,
   "metadata": {
    "ExecuteTime": {
     "end_time": "2020-01-26T05:29:17.839829Z",
     "start_time": "2020-01-26T05:29:17.370462Z"
    },
    "papermill": {
     "duration": 0.045782,
     "end_time": "2020-01-27T02:23:28.611716",
     "exception": false,
     "start_time": "2020-01-27T02:23:28.565934",
     "status": "completed"
    },
    "tags": []
   },
   "outputs": [],
   "source": [
    "gene_clusters = anndata.read_h5ad('GeneClustering.h5ad')\n",
    "gene_clusters = gene_clusters.obs['leiden']"
   ]
  },
  {
   "cell_type": "code",
   "execution_count": 3,
   "metadata": {
    "ExecuteTime": {
     "end_time": "2020-01-26T05:29:18.392533Z",
     "start_time": "2020-01-26T05:29:18.115665Z"
    },
    "papermill": {
     "duration": 0.06233,
     "end_time": "2020-01-27T02:23:28.679258",
     "exception": false,
     "start_time": "2020-01-27T02:23:28.616928",
     "status": "completed"
    },
    "tags": []
   },
   "outputs": [
    {
     "name": "stderr",
     "output_type": "stream",
     "text": [
      "/home/hanliu/miniconda3/envs/clustering/lib/python3.7/site-packages/IPython/core/interactiveshell.py:3326: FutureWarning: The read_msgpack is deprecated and will be removed in a future version.\n",
      "It is recommended to use pyarrow for on-the-wire transmission of pandas objects.\n",
      "  exec(code_obj, self.user_global_ns, self.user_ns)\n"
     ]
    }
   ],
   "source": [
    "total_corr = pd.read_msgpack('RelatedCorr.msg')"
   ]
  },
  {
   "cell_type": "code",
   "execution_count": 4,
   "metadata": {
    "ExecuteTime": {
     "end_time": "2020-01-26T05:29:22.345089Z",
     "start_time": "2020-01-26T05:29:18.394069Z"
    },
    "papermill": {
     "duration": 2.128001,
     "end_time": "2020-01-27T02:23:30.813989",
     "exception": false,
     "start_time": "2020-01-27T02:23:28.685988",
     "status": "completed"
    },
    "tags": []
   },
   "outputs": [
    {
     "name": "stderr",
     "output_type": "stream",
     "text": [
      "/home/hanliu/miniconda3/envs/clustering/lib/python3.7/site-packages/ipykernel_launcher.py:8: FutureWarning: \n",
      "Passing list-likes to .loc or [] with any missing label will raise\n",
      "KeyError in the future, you can use .reindex() as an alternative.\n",
      "\n",
      "See the documentation here:\n",
      "https://pandas.pydata.org/pandas-docs/stable/user_guide/indexing.html#deprecate-loc-reindex-listlike\n",
      "  \n"
     ]
    }
   ],
   "source": [
    "dmr_records = []\n",
    "with pd.HDFStore('FinalDMGDMR.h5') as f:\n",
    "    for k in f.keys():\n",
    "        if k.endswith('Corr'):\n",
    "            corr_index = f[k]\n",
    "        else:\n",
    "            continue\n",
    "        this_corr = total_corr.loc[corr_index].copy()\n",
    "        this_corr['gene_cluster'] = this_corr['Gene'].map(gene_clusters)\n",
    "        dmr_records.append(this_corr[['DMR', 'gene_cluster']])\n",
    "dmr_records = pd.concat(dmr_records).reset_index(drop=True).drop_duplicates()"
   ]
  },
  {
   "cell_type": "code",
   "execution_count": 5,
   "metadata": {
    "ExecuteTime": {
     "end_time": "2020-01-26T05:29:22.440148Z",
     "start_time": "2020-01-26T05:29:22.346844Z"
    },
    "papermill": {
     "duration": 0.025972,
     "end_time": "2020-01-27T02:23:30.846958",
     "exception": false,
     "start_time": "2020-01-27T02:23:30.820986",
     "status": "completed"
    },
    "tags": []
   },
   "outputs": [],
   "source": [
    "cluster_dmr_index = dmr_records.groupby('gene_cluster').apply(lambda i: i['DMR'].tolist()).to_dict()"
   ]
  },
  {
   "cell_type": "code",
   "execution_count": 6,
   "metadata": {
    "ExecuteTime": {
     "end_time": "2020-01-26T05:31:36.263520Z",
     "start_time": "2020-01-26T05:31:36.085232Z"
    },
    "papermill": {
     "duration": 0.046742,
     "end_time": "2020-01-27T02:23:30.899684",
     "exception": false,
     "start_time": "2020-01-27T02:23:30.852942",
     "status": "completed"
    },
    "tags": []
   },
   "outputs": [],
   "source": [
    "with open('GeneCluster.relatedDMR.index.json', 'w') as f:\n",
    "    json.dump(cluster_dmr_index, f)"
   ]
  },
  {
   "cell_type": "code",
   "execution_count": 7,
   "metadata": {
    "papermill": {
     "duration": 0.012887,
     "end_time": "2020-01-27T02:23:30.918398",
     "exception": false,
     "start_time": "2020-01-27T02:23:30.905511",
     "status": "completed"
    },
    "tags": []
   },
   "outputs": [
    {
     "name": "stdout",
     "output_type": "stream",
     "text": [
      "Cluster 0\t9133\n",
      "Cluster 1\t5870\n",
      "Cluster 2\t18999\n",
      "Cluster 3\t11921\n",
      "Cluster 4\t5227\n",
      "Cluster 5\t5790\n",
      "Cluster 6\t11745\n",
      "Cluster 7\t7535\n",
      "Cluster 8\t7953\n"
     ]
    }
   ],
   "source": [
    "for cluster, dmrs in cluster_dmr_index.items():\n",
    "    print(f'Cluster {cluster}', len(dmrs), sep='\\t')"
   ]
  },
  {
   "cell_type": "code",
   "execution_count": null,
   "metadata": {
    "papermill": {
     "duration": 0.006318,
     "end_time": "2020-01-27T02:23:30.931643",
     "exception": false,
     "start_time": "2020-01-27T02:23:30.925325",
     "status": "completed"
    },
    "tags": []
   },
   "outputs": [],
   "source": []
  },
  {
   "cell_type": "code",
   "execution_count": null,
   "metadata": {
    "papermill": {
     "duration": 0.005932,
     "end_time": "2020-01-27T02:23:30.943778",
     "exception": false,
     "start_time": "2020-01-27T02:23:30.937846",
     "status": "completed"
    },
    "tags": []
   },
   "outputs": [],
   "source": []
  },
  {
   "cell_type": "code",
   "execution_count": null,
   "metadata": {
    "papermill": {
     "duration": 0.005783,
     "end_time": "2020-01-27T02:23:30.955551",
     "exception": false,
     "start_time": "2020-01-27T02:23:30.949768",
     "status": "completed"
    },
    "tags": []
   },
   "outputs": [],
   "source": []
  },
  {
   "cell_type": "code",
   "execution_count": null,
   "metadata": {
    "papermill": {
     "duration": 0.005917,
     "end_time": "2020-01-27T02:23:30.967380",
     "exception": false,
     "start_time": "2020-01-27T02:23:30.961463",
     "status": "completed"
    },
    "tags": []
   },
   "outputs": [],
   "source": []
  },
  {
   "cell_type": "code",
   "execution_count": null,
   "metadata": {
    "papermill": {
     "duration": 0.005775,
     "end_time": "2020-01-27T02:23:30.979216",
     "exception": false,
     "start_time": "2020-01-27T02:23:30.973441",
     "status": "completed"
    },
    "tags": []
   },
   "outputs": [],
   "source": []
  },
  {
   "cell_type": "code",
   "execution_count": null,
   "metadata": {
    "papermill": {
     "duration": 0.005874,
     "end_time": "2020-01-27T02:23:30.990990",
     "exception": false,
     "start_time": "2020-01-27T02:23:30.985116",
     "status": "completed"
    },
    "tags": []
   },
   "outputs": [],
   "source": []
  }
 ],
 "metadata": {
  "hide_input": false,
  "kernelspec": {
   "display_name": "Python 3",
   "language": "python",
   "name": "python3"
  },
  "language_info": {
   "codemirror_mode": {
    "name": "ipython",
    "version": 3
   },
   "file_extension": ".py",
   "mimetype": "text/x-python",
   "name": "python",
   "nbconvert_exporter": "python",
   "pygments_lexer": "ipython3",
   "version": "3.7.3"
  },
  "papermill": {
   "duration": 3.826643,
   "end_time": "2020-01-27T02:23:31.302521",
   "environment_variables": {},
   "exception": null,
   "input_path": "6.DMRGroupBasedOnGeneClustering.ipynb",
   "output_path": "/home/hanliu/project/mouse_rostral_brain/study/ClustersEnsemble/HPFSubtypeEnsemble/6.DMRGroupBasedOnGeneClustering.ipynb",
   "parameters": {},
   "start_time": "2020-01-27T02:23:27.475878",
   "version": "1.0.1"
  },
  "toc": {
   "base_numbering": 1,
   "nav_menu": {},
   "number_sections": true,
   "sideBar": true,
   "skip_h1_title": true,
   "title_cell": "Table of Contents",
   "title_sidebar": "Contents",
   "toc_cell": false,
   "toc_position": {},
   "toc_section_display": true,
   "toc_window_display": true
  }
 },
 "nbformat": 4,
 "nbformat_minor": 2
}
