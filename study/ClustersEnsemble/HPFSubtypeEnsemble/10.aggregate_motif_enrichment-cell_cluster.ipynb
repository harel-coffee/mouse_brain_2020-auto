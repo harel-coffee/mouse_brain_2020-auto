{
 "cells": [
  {
   "cell_type": "code",
   "execution_count": 1,
   "metadata": {
    "ExecuteTime": {
     "end_time": "2020-01-26T06:47:08.874120Z",
     "start_time": "2020-01-26T06:47:08.513300Z"
    },
    "papermill": {
     "duration": 0.387639,
     "end_time": "2020-01-27T03:11:43.830552",
     "exception": false,
     "start_time": "2020-01-27T03:11:43.442913",
     "status": "completed"
    },
    "tags": []
   },
   "outputs": [],
   "source": [
    "import pandas as pd\n",
    "import pathlib\n",
    "import seaborn as sns\n",
    "import matplotlib.pyplot as plt\n",
    "import joblib"
   ]
  },
  {
   "cell_type": "code",
   "execution_count": 2,
   "metadata": {
    "ExecuteTime": {
     "end_time": "2020-01-26T06:47:10.883953Z",
     "start_time": "2020-01-26T06:47:10.867361Z"
    },
    "papermill": {
     "duration": 0.02775,
     "end_time": "2020-01-27T03:11:43.869326",
     "exception": false,
     "start_time": "2020-01-27T03:11:43.841576",
     "status": "completed"
    },
    "tags": []
   },
   "outputs": [],
   "source": [
    "from matplotlib import rc\n",
    "\n",
    "labelsize = 6\n",
    "linewidth = 0.6\n",
    "rc('lines', linewidth=linewidth)\n",
    "rc('axes', labelsize=labelsize, linewidth=linewidth)\n",
    "rc('xtick', labelsize=labelsize)\n",
    "rc('ytick', labelsize=labelsize)\n",
    "rc('xtick.major', width=linewidth)\n",
    "rc('ytick.major', width=linewidth)\n",
    "rc('xtick.minor', width=linewidth-0.2)\n",
    "rc('ytick.minor', width=linewidth-0.2)\n",
    "rc('patch', linewidth=linewidth)\n",
    "\n",
    "major_type_palette = pd.read_csv('/home/hanliu/project/mouse_rostral_brain/metadata/palette/major_type.palette.csv',\n",
    "                                header=None, index_col=0, squeeze=True).to_dict()\n",
    "sub_type_palette = pd.read_csv('/home/hanliu/project/mouse_rostral_brain/metadata/palette/sub_type.palette.csv',\n",
    "                                header=None, index_col=0, squeeze=True).to_dict()\n",
    "major_region_palette = pd.read_csv('/home/hanliu/project/mouse_rostral_brain/metadata/palette/major_region.palette.csv',\n",
    "                                header=None, index_col=0, squeeze=True).to_dict()\n",
    "sub_region_palette = pd.read_csv('/home/hanliu/project/mouse_rostral_brain/metadata/palette/sub_region.palette.csv',\n",
    "                                header=None, index_col=0, squeeze=True).to_dict()\n"
   ]
  },
  {
   "cell_type": "code",
   "execution_count": 3,
   "metadata": {
    "ExecuteTime": {
     "end_time": "2020-01-26T06:47:12.432937Z",
     "start_time": "2020-01-26T06:47:12.430487Z"
    },
    "papermill": {
     "duration": 0.014638,
     "end_time": "2020-01-27T03:11:43.893826",
     "exception": false,
     "start_time": "2020-01-27T03:11:43.879188",
     "status": "completed"
    },
    "tags": [
     "parameters"
    ]
   },
   "outputs": [],
   "source": [
    "oddsratio_cutoff = 1.8\n",
    "lgp_cutoff = 10\n",
    "motif_enrichment_dir = '/home/hanliu/project/mouse_rostral_brain/study/ClustersEnsemble/HPFSubtypeEnsemble/MotifEnrichment/'\n",
    "tf_class_level = 'SubFamily'"
   ]
  },
  {
   "cell_type": "code",
   "execution_count": 4,
   "metadata": {
    "ExecuteTime": {
     "end_time": "2020-01-26T06:55:17.888349Z",
     "start_time": "2020-01-26T06:55:17.886219Z"
    },
    "papermill": {
     "duration": 0.014152,
     "end_time": "2020-01-27T03:11:43.917725",
     "exception": false,
     "start_time": "2020-01-27T03:11:43.903573",
     "status": "completed"
    },
    "tags": []
   },
   "outputs": [],
   "source": [
    "group_name = 'SubType'"
   ]
  },
  {
   "cell_type": "code",
   "execution_count": 5,
   "metadata": {
    "papermill": {
     "duration": 0.014414,
     "end_time": "2020-01-27T03:11:43.941900",
     "exception": false,
     "start_time": "2020-01-27T03:11:43.927486",
     "status": "completed"
    },
    "tags": [
     "injected-parameters"
    ]
   },
   "outputs": [],
   "source": [
    "# Parameters\n",
    "oddsratio_cutoff = 1.8\n",
    "lgp_cutoff = 3\n",
    "motif_enrichment_dir = \"/home/hanliu/project/mouse_rostral_brain/study/ClustersEnsemble/HPFSubtypeEnsemble/MotifEnrichment\"\n",
    "tf_class_level = \"SubFamily\"\n"
   ]
  },
  {
   "cell_type": "markdown",
   "metadata": {
    "papermill": {
     "duration": 0.010091,
     "end_time": "2020-01-27T03:11:43.962484",
     "exception": false,
     "start_time": "2020-01-27T03:11:43.952393",
     "status": "completed"
    },
    "tags": []
   },
   "source": [
    "## Gene and motif metadata"
   ]
  },
  {
   "cell_type": "code",
   "execution_count": 6,
   "metadata": {
    "ExecuteTime": {
     "end_time": "2020-01-26T06:47:16.061619Z",
     "start_time": "2020-01-26T06:47:15.851378Z"
    },
    "papermill": {
     "duration": 0.219781,
     "end_time": "2020-01-27T03:11:44.192114",
     "exception": false,
     "start_time": "2020-01-27T03:11:43.972333",
     "status": "completed"
    },
    "tags": []
   },
   "outputs": [
    {
     "data": {
      "text/html": [
       "<div>\n",
       "<style scoped>\n",
       "    .dataframe tbody tr th:only-of-type {\n",
       "        vertical-align: middle;\n",
       "    }\n",
       "\n",
       "    .dataframe tbody tr th {\n",
       "        vertical-align: top;\n",
       "    }\n",
       "\n",
       "    .dataframe thead th {\n",
       "        text-align: right;\n",
       "    }\n",
       "</style>\n",
       "<table border=\"1\" class=\"dataframe\">\n",
       "  <thead>\n",
       "    <tr style=\"text-align: right;\">\n",
       "      <th></th>\n",
       "      <th>uid</th>\n",
       "      <th>GeneRawName</th>\n",
       "      <th>SuperClass</th>\n",
       "      <th>Class</th>\n",
       "      <th>Family</th>\n",
       "      <th>SubFamily</th>\n",
       "      <th>EnsemblID</th>\n",
       "    </tr>\n",
       "  </thead>\n",
       "  <tbody>\n",
       "    <tr>\n",
       "      <th>0</th>\n",
       "      <td>1.1.1.1.1</td>\n",
       "      <td>c-Jun</td>\n",
       "      <td>Basic domains</td>\n",
       "      <td>Basic leucine zipper factors (bZIP)</td>\n",
       "      <td>Jun-related</td>\n",
       "      <td>Jun</td>\n",
       "      <td>ENSMUSG00000052684</td>\n",
       "    </tr>\n",
       "    <tr>\n",
       "      <th>1</th>\n",
       "      <td>1.1.1.1.2</td>\n",
       "      <td>JunB</td>\n",
       "      <td>Basic domains</td>\n",
       "      <td>Basic leucine zipper factors (bZIP)</td>\n",
       "      <td>Jun-related</td>\n",
       "      <td>Jun</td>\n",
       "      <td>ENSMUSG00000052837,ENSMUSG00000052926</td>\n",
       "    </tr>\n",
       "    <tr>\n",
       "      <th>2</th>\n",
       "      <td>1.1.1.1.3</td>\n",
       "      <td>JunD</td>\n",
       "      <td>Basic domains</td>\n",
       "      <td>Basic leucine zipper factors (bZIP)</td>\n",
       "      <td>Jun-related</td>\n",
       "      <td>Jun</td>\n",
       "      <td>ENSMUSG00000071076</td>\n",
       "    </tr>\n",
       "    <tr>\n",
       "      <th>3</th>\n",
       "      <td>1.1.1.2.1</td>\n",
       "      <td>NFE2</td>\n",
       "      <td>Basic domains</td>\n",
       "      <td>Basic leucine zipper factors (bZIP)</td>\n",
       "      <td>Jun-related</td>\n",
       "      <td>NFE2</td>\n",
       "      <td>ENSMUSG00000058794</td>\n",
       "    </tr>\n",
       "    <tr>\n",
       "      <th>4</th>\n",
       "      <td>1.1.1.2.2</td>\n",
       "      <td>NFE2L1</td>\n",
       "      <td>Basic domains</td>\n",
       "      <td>Basic leucine zipper factors (bZIP)</td>\n",
       "      <td>Jun-related</td>\n",
       "      <td>NFE2</td>\n",
       "      <td>ENSMUSG00000038615</td>\n",
       "    </tr>\n",
       "  </tbody>\n",
       "</table>\n",
       "</div>"
      ],
      "text/plain": [
       "         uid GeneRawName     SuperClass                                Class  \\\n",
       "0  1.1.1.1.1       c-Jun  Basic domains  Basic leucine zipper factors (bZIP)   \n",
       "1  1.1.1.1.2        JunB  Basic domains  Basic leucine zipper factors (bZIP)   \n",
       "2  1.1.1.1.3        JunD  Basic domains  Basic leucine zipper factors (bZIP)   \n",
       "3  1.1.1.2.1        NFE2  Basic domains  Basic leucine zipper factors (bZIP)   \n",
       "4  1.1.1.2.2      NFE2L1  Basic domains  Basic leucine zipper factors (bZIP)   \n",
       "\n",
       "        Family SubFamily                              EnsemblID  \n",
       "0  Jun-related       Jun                     ENSMUSG00000052684  \n",
       "1  Jun-related       Jun  ENSMUSG00000052837,ENSMUSG00000052926  \n",
       "2  Jun-related       Jun                     ENSMUSG00000071076  \n",
       "3  Jun-related      NFE2                     ENSMUSG00000058794  \n",
       "4  Jun-related      NFE2                     ENSMUSG00000038615  "
      ]
     },
     "execution_count": 6,
     "metadata": {},
     "output_type": "execute_result"
    }
   ],
   "source": [
    "motif_meta_with_cluster = pd.read_csv(\n",
    "    '/home/hanliu/project/mouse_rostral_brain/study/MotifClustering/JASPAR2020_CORE_vertebrates_non-redundant.mouse_genes.with_motif_group.199.csv',\n",
    "    index_col='motif_uid'\n",
    ")\n",
    "gene_meta = pd.read_csv('/home/hanliu/ref/mouse/gencode/vm22/gencode.vM22.annotation.gene.flat.tsv.gz',\n",
    "                        sep='\\t', index_col='gene_id')\n",
    "tf_class = pd.read_csv('/home/hanliu/ref/TFGene/TFClass/TFClass.with_mouse_gene_id.csv')\n",
    "tf_class.head()"
   ]
  },
  {
   "cell_type": "code",
   "execution_count": 7,
   "metadata": {
    "ExecuteTime": {
     "end_time": "2020-01-26T06:47:16.251928Z",
     "start_time": "2020-01-26T06:47:16.241408Z"
    },
    "papermill": {
     "duration": 0.024642,
     "end_time": "2020-01-27T03:11:44.227673",
     "exception": false,
     "start_time": "2020-01-27T03:11:44.203031",
     "status": "completed"
    },
    "tags": []
   },
   "outputs": [
    {
     "data": {
      "text/html": [
       "<div>\n",
       "<style scoped>\n",
       "    .dataframe tbody tr th:only-of-type {\n",
       "        vertical-align: middle;\n",
       "    }\n",
       "\n",
       "    .dataframe tbody tr th {\n",
       "        vertical-align: top;\n",
       "    }\n",
       "\n",
       "    .dataframe thead th {\n",
       "        text-align: right;\n",
       "    }\n",
       "</style>\n",
       "<table border=\"1\" class=\"dataframe\">\n",
       "  <thead>\n",
       "    <tr style=\"text-align: right;\">\n",
       "      <th></th>\n",
       "      <th>uid</th>\n",
       "      <th>GeneRawName</th>\n",
       "      <th>SuperClass</th>\n",
       "      <th>Class</th>\n",
       "      <th>Family</th>\n",
       "      <th>SubFamily</th>\n",
       "      <th>EnsemblID</th>\n",
       "    </tr>\n",
       "  </thead>\n",
       "  <tbody>\n",
       "    <tr>\n",
       "      <th>1396</th>\n",
       "      <td>6.5.3.0.1</td>\n",
       "      <td>TBX1</td>\n",
       "      <td>Immunoglobulin fold</td>\n",
       "      <td>T-Box factors</td>\n",
       "      <td>TBX1-related</td>\n",
       "      <td>NaN</td>\n",
       "      <td>ENSMUSG00000009097</td>\n",
       "    </tr>\n",
       "    <tr>\n",
       "      <th>1397</th>\n",
       "      <td>6.5.3.0.2</td>\n",
       "      <td>TBX10</td>\n",
       "      <td>Immunoglobulin fold</td>\n",
       "      <td>T-Box factors</td>\n",
       "      <td>TBX1-related</td>\n",
       "      <td>NaN</td>\n",
       "      <td>ENSMUSG00000037477</td>\n",
       "    </tr>\n",
       "    <tr>\n",
       "      <th>1398</th>\n",
       "      <td>6.5.3.0.3</td>\n",
       "      <td>TBX15</td>\n",
       "      <td>Immunoglobulin fold</td>\n",
       "      <td>T-Box factors</td>\n",
       "      <td>TBX1-related</td>\n",
       "      <td>NaN</td>\n",
       "      <td>ENSMUSG00000027868</td>\n",
       "    </tr>\n",
       "    <tr>\n",
       "      <th>1399</th>\n",
       "      <td>6.5.3.0.4</td>\n",
       "      <td>TBX18</td>\n",
       "      <td>Immunoglobulin fold</td>\n",
       "      <td>T-Box factors</td>\n",
       "      <td>TBX1-related</td>\n",
       "      <td>NaN</td>\n",
       "      <td>ENSMUSG00000032419</td>\n",
       "    </tr>\n",
       "    <tr>\n",
       "      <th>1400</th>\n",
       "      <td>6.5.3.0.5</td>\n",
       "      <td>TBX20</td>\n",
       "      <td>Immunoglobulin fold</td>\n",
       "      <td>T-Box factors</td>\n",
       "      <td>TBX1-related</td>\n",
       "      <td>NaN</td>\n",
       "      <td>ENSMUSG00000031965</td>\n",
       "    </tr>\n",
       "    <tr>\n",
       "      <th>1401</th>\n",
       "      <td>6.5.3.0.6</td>\n",
       "      <td>TBX22</td>\n",
       "      <td>Immunoglobulin fold</td>\n",
       "      <td>T-Box factors</td>\n",
       "      <td>TBX1-related</td>\n",
       "      <td>NaN</td>\n",
       "      <td>ENSMUSG00000031241</td>\n",
       "    </tr>\n",
       "    <tr>\n",
       "      <th>1402</th>\n",
       "      <td>6.5.4.0.1</td>\n",
       "      <td>TBX2</td>\n",
       "      <td>Immunoglobulin fold</td>\n",
       "      <td>T-Box factors</td>\n",
       "      <td>TBX2-related</td>\n",
       "      <td>NaN</td>\n",
       "      <td>ENSMUSG00000000093</td>\n",
       "    </tr>\n",
       "    <tr>\n",
       "      <th>1403</th>\n",
       "      <td>6.5.4.0.2</td>\n",
       "      <td>TBX3</td>\n",
       "      <td>Immunoglobulin fold</td>\n",
       "      <td>T-Box factors</td>\n",
       "      <td>TBX2-related</td>\n",
       "      <td>NaN</td>\n",
       "      <td>ENSMUSG00000018604</td>\n",
       "    </tr>\n",
       "    <tr>\n",
       "      <th>1404</th>\n",
       "      <td>6.5.4.0.3</td>\n",
       "      <td>TBX4</td>\n",
       "      <td>Immunoglobulin fold</td>\n",
       "      <td>T-Box factors</td>\n",
       "      <td>TBX2-related</td>\n",
       "      <td>NaN</td>\n",
       "      <td>ENSMUSG00000000094</td>\n",
       "    </tr>\n",
       "    <tr>\n",
       "      <th>1405</th>\n",
       "      <td>6.5.4.0.4</td>\n",
       "      <td>TBX5</td>\n",
       "      <td>Immunoglobulin fold</td>\n",
       "      <td>T-Box factors</td>\n",
       "      <td>TBX2-related</td>\n",
       "      <td>NaN</td>\n",
       "      <td>ENSMUSG00000018263</td>\n",
       "    </tr>\n",
       "    <tr>\n",
       "      <th>1406</th>\n",
       "      <td>6.5.5.0.1</td>\n",
       "      <td>TBX6</td>\n",
       "      <td>Immunoglobulin fold</td>\n",
       "      <td>T-Box factors</td>\n",
       "      <td>TBX6-related</td>\n",
       "      <td>NaN</td>\n",
       "      <td>ENSMUSG00000030699</td>\n",
       "    </tr>\n",
       "    <tr>\n",
       "      <th>1407</th>\n",
       "      <td>6.5.5.0.2</td>\n",
       "      <td>MGA (MAD5)</td>\n",
       "      <td>Immunoglobulin fold</td>\n",
       "      <td>T-Box factors</td>\n",
       "      <td>TBX6-related</td>\n",
       "      <td>NaN</td>\n",
       "      <td>ENSMUSG00000033943,ENSMUSG00000068587</td>\n",
       "    </tr>\n",
       "    <tr>\n",
       "      <th>1429</th>\n",
       "      <td>8.1.1.0.1</td>\n",
       "      <td>TBP</td>\n",
       "      <td>beta-Sheet binding to DNA</td>\n",
       "      <td>TATA-binding proteins</td>\n",
       "      <td>TBP-related</td>\n",
       "      <td>NaN</td>\n",
       "      <td>ENSMUSG00000014767</td>\n",
       "    </tr>\n",
       "    <tr>\n",
       "      <th>1430</th>\n",
       "      <td>8.1.1.0.2</td>\n",
       "      <td>TBPL1</td>\n",
       "      <td>beta-Sheet binding to DNA</td>\n",
       "      <td>TATA-binding proteins</td>\n",
       "      <td>TBP-related</td>\n",
       "      <td>NaN</td>\n",
       "      <td>ENSMUSG00000071359</td>\n",
       "    </tr>\n",
       "    <tr>\n",
       "      <th>1431</th>\n",
       "      <td>8.1.1.0.3</td>\n",
       "      <td>TBPL2</td>\n",
       "      <td>beta-Sheet binding to DNA</td>\n",
       "      <td>TATA-binding proteins</td>\n",
       "      <td>TBP-related</td>\n",
       "      <td>NaN</td>\n",
       "      <td>ENSMUSG00000061809</td>\n",
       "    </tr>\n",
       "  </tbody>\n",
       "</table>\n",
       "</div>"
      ],
      "text/plain": [
       "            uid GeneRawName                 SuperClass                  Class  \\\n",
       "1396  6.5.3.0.1        TBX1        Immunoglobulin fold          T-Box factors   \n",
       "1397  6.5.3.0.2       TBX10        Immunoglobulin fold          T-Box factors   \n",
       "1398  6.5.3.0.3       TBX15        Immunoglobulin fold          T-Box factors   \n",
       "1399  6.5.3.0.4       TBX18        Immunoglobulin fold          T-Box factors   \n",
       "1400  6.5.3.0.5       TBX20        Immunoglobulin fold          T-Box factors   \n",
       "1401  6.5.3.0.6       TBX22        Immunoglobulin fold          T-Box factors   \n",
       "1402  6.5.4.0.1        TBX2        Immunoglobulin fold          T-Box factors   \n",
       "1403  6.5.4.0.2        TBX3        Immunoglobulin fold          T-Box factors   \n",
       "1404  6.5.4.0.3        TBX4        Immunoglobulin fold          T-Box factors   \n",
       "1405  6.5.4.0.4        TBX5        Immunoglobulin fold          T-Box factors   \n",
       "1406  6.5.5.0.1        TBX6        Immunoglobulin fold          T-Box factors   \n",
       "1407  6.5.5.0.2  MGA (MAD5)        Immunoglobulin fold          T-Box factors   \n",
       "1429  8.1.1.0.1         TBP  beta-Sheet binding to DNA  TATA-binding proteins   \n",
       "1430  8.1.1.0.2       TBPL1  beta-Sheet binding to DNA  TATA-binding proteins   \n",
       "1431  8.1.1.0.3       TBPL2  beta-Sheet binding to DNA  TATA-binding proteins   \n",
       "\n",
       "            Family SubFamily                              EnsemblID  \n",
       "1396  TBX1-related       NaN                     ENSMUSG00000009097  \n",
       "1397  TBX1-related       NaN                     ENSMUSG00000037477  \n",
       "1398  TBX1-related       NaN                     ENSMUSG00000027868  \n",
       "1399  TBX1-related       NaN                     ENSMUSG00000032419  \n",
       "1400  TBX1-related       NaN                     ENSMUSG00000031965  \n",
       "1401  TBX1-related       NaN                     ENSMUSG00000031241  \n",
       "1402  TBX2-related       NaN                     ENSMUSG00000000093  \n",
       "1403  TBX2-related       NaN                     ENSMUSG00000018604  \n",
       "1404  TBX2-related       NaN                     ENSMUSG00000000094  \n",
       "1405  TBX2-related       NaN                     ENSMUSG00000018263  \n",
       "1406  TBX6-related       NaN                     ENSMUSG00000030699  \n",
       "1407  TBX6-related       NaN  ENSMUSG00000033943,ENSMUSG00000068587  \n",
       "1429   TBP-related       NaN                     ENSMUSG00000014767  \n",
       "1430   TBP-related       NaN                     ENSMUSG00000071359  \n",
       "1431   TBP-related       NaN                     ENSMUSG00000061809  "
      ]
     },
     "execution_count": 7,
     "metadata": {},
     "output_type": "execute_result"
    }
   ],
   "source": [
    "tf_class[tf_class['Family'].apply(lambda i: 'TB' in i)]"
   ]
  },
  {
   "cell_type": "code",
   "execution_count": 8,
   "metadata": {
    "ExecuteTime": {
     "end_time": "2020-01-26T06:47:20.039101Z",
     "start_time": "2020-01-26T06:47:19.560304Z"
    },
    "papermill": {
     "duration": 0.495319,
     "end_time": "2020-01-27T03:11:44.733531",
     "exception": false,
     "start_time": "2020-01-27T03:11:44.238212",
     "status": "completed"
    },
    "tags": []
   },
   "outputs": [],
   "source": [
    "levels = ['SuperClass', 'Class', 'Family', 'SubFamily']\n",
    "for level in levels:\n",
    "    gene_to_tf_class = {}\n",
    "    for _, row in tf_class.iterrows():\n",
    "        if isinstance(row['EnsemblID'], float):\n",
    "            continue\n",
    "        for g in row['EnsemblID'].split(','):\n",
    "            gene_to_tf_class[g] = row[level]\n",
    "    motif_meta_with_cluster[level] = motif_meta_with_cluster['gene_ids'].map(\n",
    "        lambda i: gene_to_tf_class[i.split('.')[0]] if i.split('.')[0] in gene_to_tf_class else '')\n"
   ]
  },
  {
   "cell_type": "markdown",
   "metadata": {
    "papermill": {
     "duration": 0.010669,
     "end_time": "2020-01-27T03:11:44.755346",
     "exception": false,
     "start_time": "2020-01-27T03:11:44.744677",
     "status": "completed"
    },
    "tags": []
   },
   "source": [
    "## Motif Results"
   ]
  },
  {
   "cell_type": "code",
   "execution_count": 9,
   "metadata": {
    "ExecuteTime": {
     "end_time": "2020-01-26T06:47:21.130051Z",
     "start_time": "2020-01-26T06:47:21.093024Z"
    },
    "papermill": {
     "duration": 0.040374,
     "end_time": "2020-01-27T03:11:44.806610",
     "exception": false,
     "start_time": "2020-01-27T03:11:44.766236",
     "status": "completed"
    },
    "tags": []
   },
   "outputs": [
    {
     "name": "stderr",
     "output_type": "stream",
     "text": [
      "/home/hanliu/miniconda3/envs/clustering/lib/python3.7/site-packages/ipykernel_launcher.py:2: FutureWarning: The read_msgpack is deprecated and will be removed in a future version.\n",
      "It is recommended to use pyarrow for on-the-wire transmission of pandas objects.\n",
      "  \n"
     ]
    }
   ],
   "source": [
    "motif_results = list(pathlib.Path(motif_enrichment_dir).glob('**/Cell*.motif_enrichment.msg'))\n",
    "motif_results = pd.concat([pd.read_msgpack(path) for path in motif_results])\n",
    "motif_results.index.name = 'MotifID'\n",
    "motif_results.reset_index(inplace=True)\n",
    "motif_results = pd.concat([motif_results, \n",
    "           motif_meta_with_cluster.loc[motif_results['MotifID']].reset_index(drop=True)], axis=1)\n",
    "\n",
    "filtered_results = motif_results[(motif_results['oddsratio'] > oddsratio_cutoff) & \n",
    "                              (motif_results['-lgp'] > lgp_cutoff)].copy()\n"
   ]
  },
  {
   "cell_type": "code",
   "execution_count": 10,
   "metadata": {
    "ExecuteTime": {
     "end_time": "2020-01-26T06:54:50.085547Z",
     "start_time": "2020-01-26T06:54:50.081936Z"
    },
    "papermill": {
     "duration": 0.017174,
     "end_time": "2020-01-27T03:11:44.834454",
     "exception": false,
     "start_time": "2020-01-27T03:11:44.817280",
     "status": "completed"
    },
    "tags": []
   },
   "outputs": [
    {
     "data": {
      "text/plain": [
       "Index(['MotifID', 'oddsratio', 'p_value', 'adj_p', '-lgp', 'tp', 'tn', 'fp',\n",
       "       'fn', 'tp_rate', 'fp_rate', 'SubType', 'DMRType', 'motif_name',\n",
       "       'motif_genes', 'gene_ids', 'gene_names', 'motif_group', 'motif_name',\n",
       "       'motif_genes', 'gene_ids', 'gene_names', 'motif_group', 'SuperClass',\n",
       "       'Class', 'Family', 'SubFamily'],\n",
       "      dtype='object')"
      ]
     },
     "execution_count": 10,
     "metadata": {},
     "output_type": "execute_result"
    }
   ],
   "source": [
    "motif_results.columns"
   ]
  },
  {
   "cell_type": "code",
   "execution_count": 11,
   "metadata": {
    "papermill": {
     "duration": 1.71546,
     "end_time": "2020-01-27T03:11:46.561492",
     "exception": false,
     "start_time": "2020-01-27T03:11:44.846032",
     "status": "completed"
    },
    "tags": []
   },
   "outputs": [],
   "source": [
    "# for each motif class in each group, select most significant ones\n",
    "use_motif_for_clase_group = motif_results.groupby([tf_class_level, group_name]).apply(\n",
    "    lambda i: i.sort_values('-lgp', ascending=False)['MotifID'].iloc[0])"
   ]
  },
  {
   "cell_type": "code",
   "execution_count": 12,
   "metadata": {
    "ExecuteTime": {
     "end_time": "2020-01-26T06:55:26.435958Z",
     "start_time": "2020-01-26T06:55:26.087594Z"
    },
    "papermill": {
     "duration": 0.174283,
     "end_time": "2020-01-27T03:11:46.746680",
     "exception": false,
     "start_time": "2020-01-27T03:11:46.572397",
     "status": "completed"
    },
    "tags": []
   },
   "outputs": [],
   "source": [
    "# keep one motif for each group and each motif class\n",
    "use_results = motif_results.set_index([group_name, 'MotifID']).loc[[\n",
    "    tuple(row.tolist())\n",
    "    for _, row in use_motif_for_clase_group.reset_index().iloc[:, 1:].iterrows()\n",
    "]].reset_index()\n",
    "use_results = use_results[use_results[tf_class_level].fillna('') != ''].copy()\n",
    "\n",
    "assert (use_results.groupby([tf_class_level, group_name]).apply(lambda i: i.shape[0]) != 1).sum() == 0"
   ]
  },
  {
   "cell_type": "code",
   "execution_count": 13,
   "metadata": {
    "ExecuteTime": {
     "end_time": "2020-01-26T06:55:27.980504Z",
     "start_time": "2020-01-26T06:55:27.968440Z"
    },
    "papermill": {
     "duration": 0.024224,
     "end_time": "2020-01-27T03:11:46.782452",
     "exception": false,
     "start_time": "2020-01-27T03:11:46.758228",
     "status": "completed"
    },
    "tags": []
   },
   "outputs": [
    {
     "name": "stderr",
     "output_type": "stream",
     "text": [
      "/home/hanliu/miniconda3/envs/clustering/lib/python3.7/site-packages/ipykernel_launcher.py:1: FutureWarning: to_msgpack is deprecated and will be removed in a future version.\n",
      "It is recommended to use pyarrow for on-the-wire transmission of pandas objects.\n",
      "  \"\"\"Entry point for launching an IPython kernel.\n"
     ]
    }
   ],
   "source": [
    "use_results.to_msgpack(f'{motif_enrichment_dir}/MotifEnrichment.agg.one_motif_per_class.msg')"
   ]
  },
  {
   "cell_type": "code",
   "execution_count": 14,
   "metadata": {
    "ExecuteTime": {
     "end_time": "2020-01-26T06:55:29.294306Z",
     "start_time": "2020-01-26T06:55:29.288893Z"
    },
    "papermill": {
     "duration": 0.018039,
     "end_time": "2020-01-27T03:11:46.811664",
     "exception": false,
     "start_time": "2020-01-27T03:11:46.793625",
     "status": "completed"
    },
    "tags": []
   },
   "outputs": [],
   "source": [
    "# only keep motif class that has sig hits\n",
    "sig_motif_class = filtered_results[tf_class_level].unique()\n",
    "use_results = use_results[use_results[tf_class_level].isin(sig_motif_class)].copy()"
   ]
  },
  {
   "cell_type": "code",
   "execution_count": 15,
   "metadata": {
    "ExecuteTime": {
     "end_time": "2020-01-26T06:57:04.803269Z",
     "start_time": "2020-01-26T06:57:04.798412Z"
    },
    "papermill": {
     "duration": 0.01844,
     "end_time": "2020-01-27T03:11:46.841120",
     "exception": false,
     "start_time": "2020-01-27T03:11:46.822680",
     "status": "completed"
    },
    "tags": []
   },
   "outputs": [],
   "source": [
    "motif_class_order = sorted([i for i in filtered_results[tf_class_level].dropna().unique() if i != ''])\n",
    "cluster_order = sorted(use_results[group_name].unique())"
   ]
  },
  {
   "cell_type": "code",
   "execution_count": null,
   "metadata": {
    "papermill": {
     "duration": 0.011044,
     "end_time": "2020-01-27T03:11:46.863215",
     "exception": false,
     "start_time": "2020-01-27T03:11:46.852171",
     "status": "completed"
    },
    "tags": []
   },
   "outputs": [],
   "source": []
  },
  {
   "cell_type": "code",
   "execution_count": 16,
   "metadata": {
    "ExecuteTime": {
     "end_time": "2020-01-26T06:57:05.755825Z",
     "start_time": "2020-01-26T06:57:05.696276Z"
    },
    "papermill": {
     "duration": 0.049721,
     "end_time": "2020-01-27T03:11:46.924838",
     "exception": false,
     "start_time": "2020-01-27T03:11:46.875117",
     "status": "completed"
    },
    "tags": []
   },
   "outputs": [],
   "source": [
    "use_results = use_results[use_results[tf_class_level].isin(motif_class_order)]\n",
    "use_results['x'] = use_results[tf_class_level].apply(lambda i: motif_class_order.index(i))\n",
    "use_results['y'] = use_results[group_name].apply(lambda i: cluster_order.index(i))\n",
    "pass_filter_pairs = filtered_results.set_index(['MotifID', group_name]).index\n",
    "use_results['sig'] = use_results.apply(lambda i: (i['MotifID'], i[group_name]) in pass_filter_pairs, axis=1)\n",
    "# sync filter to region tfs\n",
    "pass_filter_pairs = filtered_results[(filtered_results['-lgp'] > lgp_cutoff) & \n",
    "                                     (filtered_results['oddsratio'] > oddsratio_cutoff)].set_index(['MotifID', group_name]).index\n",
    "use_results['sig'] = use_results.apply(lambda i: (i['MotifID'], i[group_name]) in pass_filter_pairs, axis=1)\n"
   ]
  },
  {
   "cell_type": "code",
   "execution_count": 17,
   "metadata": {
    "ExecuteTime": {
     "end_time": "2020-01-26T06:57:06.455094Z",
     "start_time": "2020-01-26T06:57:05.923980Z"
    },
    "papermill": {
     "duration": 0.444186,
     "end_time": "2020-01-27T03:11:47.380164",
     "exception": false,
     "start_time": "2020-01-27T03:11:46.935978",
     "status": "completed"
    },
    "tags": []
   },
   "outputs": [
    {
     "data": {
      "image/png": "[encoded data removed]",
      "text/plain": [
       "<Figure size 600x1020 with 1 Axes>"
      ]
     },
     "metadata": {
      "needs_background": "light"
     },
     "output_type": "display_data"
    }
   ],
   "source": [
    "n_col = len(motif_class_order)\n",
    "n_row = len(cluster_order)\n",
    "\n",
    "fig, ax = plt.subplots(figsize=(n_col * 0.2, n_row * 0.2), dpi=300)\n",
    "sns.scatterplot(ax=ax, data=use_results, x='x', y='y', \n",
    "                hue='oddsratio', hue_norm=(1, 2.5), palette='coolwarm', marker='s',\n",
    "                size='-lgp', size_norm=(0, 10), sizes=(0, 65), linewidth=0, clip_on=False)\n",
    "\n",
    "for _, row in use_results[use_results['sig']].iterrows():\n",
    "    ax.text(row['x'], row['y']-0.1, '*', ha='center', va='center', fontsize=labelsize, c='white')\n",
    "\n",
    "ax.set(xticks=range(n_col), xticklabels=[i[:20] for i in motif_class_order],\n",
    "       yticks=range(n_row), yticklabels=cluster_order, ylim=(-0.5, n_row - .5), \n",
    "       xlabel='TF Classes', ylabel='Groups')\n",
    "\n",
    "\n",
    "plt.setp(ax.get_xticklabels(), rotation=45, ha=\"right\",\n",
    "         rotation_mode=\"anchor\")\n",
    "sns.despine(ax=ax)\n",
    "ax.legend_.set_visible(False)"
   ]
  },
  {
   "cell_type": "code",
   "execution_count": 18,
   "metadata": {
    "ExecuteTime": {
     "end_time": "2020-01-26T06:57:37.680991Z",
     "start_time": "2020-01-26T06:57:37.333695Z"
    },
    "papermill": {
     "duration": 0.234578,
     "end_time": "2020-01-27T03:11:47.628311",
     "exception": false,
     "start_time": "2020-01-27T03:11:47.393733",
     "status": "completed"
    },
    "tags": []
   },
   "outputs": [],
   "source": [
    "fig.savefig(f'{motif_enrichment_dir}/MotifEnrichment.dotmap.pdf', bbox_inches='tight')"
   ]
  },
  {
   "cell_type": "code",
   "execution_count": null,
   "metadata": {
    "papermill": {
     "duration": 0.012703,
     "end_time": "2020-01-27T03:11:47.653910",
     "exception": false,
     "start_time": "2020-01-27T03:11:47.641207",
     "status": "completed"
    },
    "tags": []
   },
   "outputs": [],
   "source": []
  },
  {
   "cell_type": "code",
   "execution_count": null,
   "metadata": {
    "papermill": {
     "duration": 0.013225,
     "end_time": "2020-01-27T03:11:47.680791",
     "exception": false,
     "start_time": "2020-01-27T03:11:47.667566",
     "status": "completed"
    },
    "tags": []
   },
   "outputs": [],
   "source": []
  },
  {
   "cell_type": "code",
   "execution_count": null,
   "metadata": {
    "papermill": {
     "duration": 0.012717,
     "end_time": "2020-01-27T03:11:47.706606",
     "exception": false,
     "start_time": "2020-01-27T03:11:47.693889",
     "status": "completed"
    },
    "tags": []
   },
   "outputs": [],
   "source": []
  },
  {
   "cell_type": "code",
   "execution_count": null,
   "metadata": {
    "papermill": {
     "duration": 0.012879,
     "end_time": "2020-01-27T03:11:47.732282",
     "exception": false,
     "start_time": "2020-01-27T03:11:47.719403",
     "status": "completed"
    },
    "tags": []
   },
   "outputs": [],
   "source": []
  },
  {
   "cell_type": "code",
   "execution_count": null,
   "metadata": {
    "papermill": {
     "duration": 0.012846,
     "end_time": "2020-01-27T03:11:47.757915",
     "exception": false,
     "start_time": "2020-01-27T03:11:47.745069",
     "status": "completed"
    },
    "tags": []
   },
   "outputs": [],
   "source": []
  },
  {
   "cell_type": "code",
   "execution_count": null,
   "metadata": {
    "papermill": {
     "duration": 0.013175,
     "end_time": "2020-01-27T03:11:47.784645",
     "exception": false,
     "start_time": "2020-01-27T03:11:47.771470",
     "status": "completed"
    },
    "tags": []
   },
   "outputs": [],
   "source": []
  }
 ],
 "metadata": {
  "hide_input": false,
  "kernelspec": {
   "display_name": "Python 3",
   "language": "python",
   "name": "python3"
  },
  "language_info": {
   "codemirror_mode": {
    "name": "ipython",
    "version": 3
   },
   "file_extension": ".py",
   "mimetype": "text/x-python",
   "name": "python",
   "nbconvert_exporter": "python",
   "pygments_lexer": "ipython3",
   "version": "3.7.3"
  },
  "papermill": {
   "duration": 7.048008,
   "end_time": "2020-01-27T03:11:49.587134",
   "environment_variables": {},
   "exception": null,
   "input_path": "10.aggregate_motif_enrichment-cell_cluster.ipynb",
   "output_path": "/home/hanliu/project/mouse_rostral_brain/study/ClustersEnsemble/HPFSubtypeEnsemble/10.aggregate_motif_enrichment-cell_cluster.ipynb",
   "parameters": {
    "lgp_cutoff": 3,
    "motif_enrichment_dir": "/home/hanliu/project/mouse_rostral_brain/study/ClustersEnsemble/HPFSubtypeEnsemble/MotifEnrichment",
    "oddsratio_cutoff": 1.8,
    "tf_class_level": "SubFamily"
   },
   "start_time": "2020-01-27T03:11:42.539126",
   "version": "1.0.1"
  },
  "toc": {
   "base_numbering": 1,
   "nav_menu": {},
   "number_sections": true,
   "sideBar": true,
   "skip_h1_title": true,
   "title_cell": "Table of Contents",
   "title_sidebar": "Contents",
   "toc_cell": false,
   "toc_position": {},
   "toc_section_display": true,
   "toc_window_display": true
  }
 },
 "nbformat": 4,
 "nbformat_minor": 2
}
