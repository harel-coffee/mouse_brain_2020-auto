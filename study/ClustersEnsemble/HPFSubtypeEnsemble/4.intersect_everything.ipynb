{
 "cells": [
  {
   "cell_type": "code",
   "execution_count": 1,
   "metadata": {
    "ExecuteTime": {
     "end_time": "2020-01-27T01:18:58.788165Z",
     "start_time": "2020-01-27T01:18:58.592692Z"
    },
    "papermill": {
     "duration": 0.214266,
     "end_time": "2020-01-27T02:22:31.120729",
     "exception": false,
     "start_time": "2020-01-27T02:22:30.906463",
     "status": "completed"
    },
    "tags": []
   },
   "outputs": [],
   "source": [
    "import pandas as pd\n",
    "import anndata\n",
    "import numpy\n",
    "import warnings\n",
    "import matplotlib.pyplot as plt\n",
    "warnings.filterwarnings('ignore')"
   ]
  },
  {
   "cell_type": "markdown",
   "metadata": {
    "papermill": {
     "duration": 0.008423,
     "end_time": "2020-01-27T02:22:31.138329",
     "exception": false,
     "start_time": "2020-01-27T02:22:31.129906",
     "status": "completed"
    },
    "tags": []
   },
   "source": [
    "## Parameter"
   ]
  },
  {
   "cell_type": "code",
   "execution_count": 2,
   "metadata": {
    "ExecuteTime": {
     "end_time": "2020-01-27T01:18:58.824757Z",
     "start_time": "2020-01-27T01:18:58.822777Z"
    },
    "papermill": {
     "duration": 0.013151,
     "end_time": "2020-01-27T02:22:31.159713",
     "exception": false,
     "start_time": "2020-01-27T02:22:31.146562",
     "status": "completed"
    },
    "tags": [
     "parameters"
    ]
   },
   "outputs": [],
   "source": [
    "delta_dmr_rate_cutoff = 0.3"
   ]
  },
  {
   "cell_type": "code",
   "execution_count": 3,
   "metadata": {
    "papermill": {
     "duration": 0.01265,
     "end_time": "2020-01-27T02:22:31.180706",
     "exception": false,
     "start_time": "2020-01-27T02:22:31.168056",
     "status": "completed"
    },
    "tags": [
     "injected-parameters"
    ]
   },
   "outputs": [],
   "source": [
    "# Parameters\n",
    "delta_dmr_rate_cutoff = 0.3\n"
   ]
  },
  {
   "cell_type": "markdown",
   "metadata": {
    "papermill": {
     "duration": 0.008036,
     "end_time": "2020-01-27T02:22:31.196788",
     "exception": false,
     "start_time": "2020-01-27T02:22:31.188752",
     "status": "completed"
    },
    "tags": []
   },
   "source": [
    "## Load Data"
   ]
  },
  {
   "cell_type": "code",
   "execution_count": 4,
   "metadata": {
    "papermill": {
     "duration": 5.24228,
     "end_time": "2020-01-27T02:22:36.447115",
     "exception": false,
     "start_time": "2020-01-27T02:22:31.204835",
     "status": "completed"
    },
    "tags": []
   },
   "outputs": [
    {
     "data": {
      "text/html": [
       "<div>\n",
       "<style scoped>\n",
       "    .dataframe tbody tr th:only-of-type {\n",
       "        vertical-align: middle;\n",
       "    }\n",
       "\n",
       "    .dataframe tbody tr th {\n",
       "        vertical-align: top;\n",
       "    }\n",
       "\n",
       "    .dataframe thead th {\n",
       "        text-align: right;\n",
       "    }\n",
       "</style>\n",
       "<table border=\"1\" class=\"dataframe\">\n",
       "  <thead>\n",
       "    <tr style=\"text-align: right;\">\n",
       "      <th>index</th>\n",
       "      <th>CA1_Ak5</th>\n",
       "      <th>CA1_Chrm3</th>\n",
       "      <th>CA1_Kif26a</th>\n",
       "      <th>CA1_Lingo2</th>\n",
       "      <th>CA1_Ptprg</th>\n",
       "      <th>CA3_Cadm2</th>\n",
       "      <th>CA3_Efnb2</th>\n",
       "      <th>CA3-St18_Epha5</th>\n",
       "      <th>CA3-St18_Nuak1</th>\n",
       "      <th>CA3-St18_Tead1</th>\n",
       "      <th>DG-po_Bcl11a</th>\n",
       "      <th>DG-po_Calb2</th>\n",
       "      <th>DG-po_Kctd8</th>\n",
       "      <th>Gfra1_Gfra1</th>\n",
       "      <th>IG-CA2_Chrm3</th>\n",
       "      <th>IG-CA2_Peak1</th>\n",
       "      <th>IG-CA2_Xpr1</th>\n",
       "    </tr>\n",
       "    <tr>\n",
       "      <th>index</th>\n",
       "      <th></th>\n",
       "      <th></th>\n",
       "      <th></th>\n",
       "      <th></th>\n",
       "      <th></th>\n",
       "      <th></th>\n",
       "      <th></th>\n",
       "      <th></th>\n",
       "      <th></th>\n",
       "      <th></th>\n",
       "      <th></th>\n",
       "      <th></th>\n",
       "      <th></th>\n",
       "      <th></th>\n",
       "      <th></th>\n",
       "      <th></th>\n",
       "      <th></th>\n",
       "    </tr>\n",
       "  </thead>\n",
       "  <tbody>\n",
       "    <tr>\n",
       "      <th>Subchr1_3</th>\n",
       "      <td>False</td>\n",
       "      <td>False</td>\n",
       "      <td>False</td>\n",
       "      <td>False</td>\n",
       "      <td>False</td>\n",
       "      <td>False</td>\n",
       "      <td>False</td>\n",
       "      <td>False</td>\n",
       "      <td>False</td>\n",
       "      <td>False</td>\n",
       "      <td>False</td>\n",
       "      <td>False</td>\n",
       "      <td>False</td>\n",
       "      <td>False</td>\n",
       "      <td>True</td>\n",
       "      <td>True</td>\n",
       "      <td>False</td>\n",
       "    </tr>\n",
       "    <tr>\n",
       "      <th>Subchr1_8</th>\n",
       "      <td>False</td>\n",
       "      <td>False</td>\n",
       "      <td>False</td>\n",
       "      <td>False</td>\n",
       "      <td>False</td>\n",
       "      <td>False</td>\n",
       "      <td>False</td>\n",
       "      <td>False</td>\n",
       "      <td>False</td>\n",
       "      <td>False</td>\n",
       "      <td>False</td>\n",
       "      <td>False</td>\n",
       "      <td>False</td>\n",
       "      <td>False</td>\n",
       "      <td>True</td>\n",
       "      <td>True</td>\n",
       "      <td>False</td>\n",
       "    </tr>\n",
       "    <tr>\n",
       "      <th>Subchr1_14</th>\n",
       "      <td>False</td>\n",
       "      <td>True</td>\n",
       "      <td>False</td>\n",
       "      <td>False</td>\n",
       "      <td>False</td>\n",
       "      <td>False</td>\n",
       "      <td>False</td>\n",
       "      <td>False</td>\n",
       "      <td>False</td>\n",
       "      <td>False</td>\n",
       "      <td>False</td>\n",
       "      <td>False</td>\n",
       "      <td>True</td>\n",
       "      <td>False</td>\n",
       "      <td>False</td>\n",
       "      <td>False</td>\n",
       "      <td>False</td>\n",
       "    </tr>\n",
       "    <tr>\n",
       "      <th>Subchr1_23</th>\n",
       "      <td>False</td>\n",
       "      <td>False</td>\n",
       "      <td>False</td>\n",
       "      <td>False</td>\n",
       "      <td>False</td>\n",
       "      <td>False</td>\n",
       "      <td>True</td>\n",
       "      <td>False</td>\n",
       "      <td>False</td>\n",
       "      <td>False</td>\n",
       "      <td>False</td>\n",
       "      <td>False</td>\n",
       "      <td>False</td>\n",
       "      <td>False</td>\n",
       "      <td>False</td>\n",
       "      <td>False</td>\n",
       "      <td>False</td>\n",
       "    </tr>\n",
       "    <tr>\n",
       "      <th>Subchr1_37</th>\n",
       "      <td>False</td>\n",
       "      <td>False</td>\n",
       "      <td>False</td>\n",
       "      <td>False</td>\n",
       "      <td>False</td>\n",
       "      <td>True</td>\n",
       "      <td>True</td>\n",
       "      <td>True</td>\n",
       "      <td>False</td>\n",
       "      <td>True</td>\n",
       "      <td>False</td>\n",
       "      <td>True</td>\n",
       "      <td>True</td>\n",
       "      <td>False</td>\n",
       "      <td>False</td>\n",
       "      <td>False</td>\n",
       "      <td>False</td>\n",
       "    </tr>\n",
       "  </tbody>\n",
       "</table>\n",
       "</div>"
      ],
      "text/plain": [
       "index       CA1_Ak5  CA1_Chrm3  CA1_Kif26a  CA1_Lingo2  CA1_Ptprg  CA3_Cadm2  \\\n",
       "index                                                                          \n",
       "Subchr1_3     False      False       False       False      False      False   \n",
       "Subchr1_8     False      False       False       False      False      False   \n",
       "Subchr1_14    False       True       False       False      False      False   \n",
       "Subchr1_23    False      False       False       False      False      False   \n",
       "Subchr1_37    False      False       False       False      False       True   \n",
       "\n",
       "index       CA3_Efnb2  CA3-St18_Epha5  CA3-St18_Nuak1  CA3-St18_Tead1  \\\n",
       "index                                                                   \n",
       "Subchr1_3       False           False           False           False   \n",
       "Subchr1_8       False           False           False           False   \n",
       "Subchr1_14      False           False           False           False   \n",
       "Subchr1_23       True           False           False           False   \n",
       "Subchr1_37       True            True           False            True   \n",
       "\n",
       "index       DG-po_Bcl11a  DG-po_Calb2  DG-po_Kctd8  Gfra1_Gfra1  IG-CA2_Chrm3  \\\n",
       "index                                                                           \n",
       "Subchr1_3          False        False        False        False          True   \n",
       "Subchr1_8          False        False        False        False          True   \n",
       "Subchr1_14         False        False         True        False         False   \n",
       "Subchr1_23         False        False        False        False         False   \n",
       "Subchr1_37         False         True         True        False         False   \n",
       "\n",
       "index       IG-CA2_Peak1  IG-CA2_Xpr1  \n",
       "index                                  \n",
       "Subchr1_3           True        False  \n",
       "Subchr1_8           True        False  \n",
       "Subchr1_14         False        False  \n",
       "Subchr1_23         False        False  \n",
       "Subchr1_37         False        False  "
      ]
     },
     "execution_count": 4,
     "metadata": {},
     "output_type": "execute_result"
    }
   ],
   "source": [
    "dmr_hits = anndata.read_h5ad('RelatedClusterAndDMR.hypo_hits.h5ad')\n",
    "dmr_hits = pd.DataFrame(dmr_hits.X.astype(bool).todense(), index=dmr_hits.obs_names, columns=dmr_hits.var_names)\n",
    "dmr_hits.head()"
   ]
  },
  {
   "cell_type": "code",
   "execution_count": 5,
   "metadata": {
    "papermill": {
     "duration": 1.124871,
     "end_time": "2020-01-27T02:22:37.581786",
     "exception": false,
     "start_time": "2020-01-27T02:22:36.456915",
     "status": "completed"
    },
    "tags": []
   },
   "outputs": [
    {
     "data": {
      "text/html": [
       "<div>\n",
       "<style scoped>\n",
       "    .dataframe tbody tr th:only-of-type {\n",
       "        vertical-align: middle;\n",
       "    }\n",
       "\n",
       "    .dataframe tbody tr th {\n",
       "        vertical-align: top;\n",
       "    }\n",
       "\n",
       "    .dataframe thead th {\n",
       "        text-align: right;\n",
       "    }\n",
       "</style>\n",
       "<table border=\"1\" class=\"dataframe\">\n",
       "  <thead>\n",
       "    <tr style=\"text-align: right;\">\n",
       "      <th></th>\n",
       "      <th>CA1_Ak5</th>\n",
       "      <th>CA1_Chrm3</th>\n",
       "      <th>CA1_Kif26a</th>\n",
       "      <th>CA1_Lingo2</th>\n",
       "      <th>CA1_Ptprg</th>\n",
       "      <th>CA3_Cadm2</th>\n",
       "      <th>CA3_Efnb2</th>\n",
       "      <th>CA3-St18_Epha5</th>\n",
       "      <th>CA3-St18_Nuak1</th>\n",
       "      <th>CA3-St18_Tead1</th>\n",
       "      <th>DG-po_Bcl11a</th>\n",
       "      <th>DG-po_Calb2</th>\n",
       "      <th>DG-po_Kctd8</th>\n",
       "      <th>Gfra1_Gfra1</th>\n",
       "      <th>IG-CA2_Chrm3</th>\n",
       "      <th>IG-CA2_Peak1</th>\n",
       "      <th>IG-CA2_Xpr1</th>\n",
       "    </tr>\n",
       "    <tr>\n",
       "      <th>index</th>\n",
       "      <th></th>\n",
       "      <th></th>\n",
       "      <th></th>\n",
       "      <th></th>\n",
       "      <th></th>\n",
       "      <th></th>\n",
       "      <th></th>\n",
       "      <th></th>\n",
       "      <th></th>\n",
       "      <th></th>\n",
       "      <th></th>\n",
       "      <th></th>\n",
       "      <th></th>\n",
       "      <th></th>\n",
       "      <th></th>\n",
       "      <th></th>\n",
       "      <th></th>\n",
       "    </tr>\n",
       "  </thead>\n",
       "  <tbody>\n",
       "    <tr>\n",
       "      <th>Subchr1_3</th>\n",
       "      <td>0.893162</td>\n",
       "      <td>0.879725</td>\n",
       "      <td>0.849057</td>\n",
       "      <td>1.000000</td>\n",
       "      <td>0.897163</td>\n",
       "      <td>0.861111</td>\n",
       "      <td>0.919540</td>\n",
       "      <td>0.821429</td>\n",
       "      <td>0.960000</td>\n",
       "      <td>0.868217</td>\n",
       "      <td>1.0</td>\n",
       "      <td>0.600000</td>\n",
       "      <td>0.636364</td>\n",
       "      <td>0.924528</td>\n",
       "      <td>0.456989</td>\n",
       "      <td>0.592593</td>\n",
       "      <td>0.75000</td>\n",
       "    </tr>\n",
       "    <tr>\n",
       "      <th>Subchr1_8</th>\n",
       "      <td>0.905405</td>\n",
       "      <td>0.590909</td>\n",
       "      <td>0.974359</td>\n",
       "      <td>0.777778</td>\n",
       "      <td>0.890052</td>\n",
       "      <td>0.872247</td>\n",
       "      <td>0.904762</td>\n",
       "      <td>0.857143</td>\n",
       "      <td>0.959184</td>\n",
       "      <td>0.956522</td>\n",
       "      <td>0.8</td>\n",
       "      <td>0.923077</td>\n",
       "      <td>1.000000</td>\n",
       "      <td>0.857143</td>\n",
       "      <td>0.342857</td>\n",
       "      <td>0.355263</td>\n",
       "      <td>0.65625</td>\n",
       "    </tr>\n",
       "    <tr>\n",
       "      <th>Subchr1_14</th>\n",
       "      <td>0.828571</td>\n",
       "      <td>0.419355</td>\n",
       "      <td>0.700000</td>\n",
       "      <td>1.000000</td>\n",
       "      <td>0.767442</td>\n",
       "      <td>0.482759</td>\n",
       "      <td>0.812500</td>\n",
       "      <td>0.888889</td>\n",
       "      <td>1.000000</td>\n",
       "      <td>0.739130</td>\n",
       "      <td>1.0</td>\n",
       "      <td>0.750000</td>\n",
       "      <td>0.000000</td>\n",
       "      <td>0.916667</td>\n",
       "      <td>0.700000</td>\n",
       "      <td>0.666667</td>\n",
       "      <td>0.70000</td>\n",
       "    </tr>\n",
       "    <tr>\n",
       "      <th>Subchr1_23</th>\n",
       "      <td>0.956522</td>\n",
       "      <td>0.859375</td>\n",
       "      <td>0.800000</td>\n",
       "      <td>0.400000</td>\n",
       "      <td>0.860465</td>\n",
       "      <td>0.851852</td>\n",
       "      <td>0.444444</td>\n",
       "      <td>0.666667</td>\n",
       "      <td>0.545455</td>\n",
       "      <td>0.928571</td>\n",
       "      <td>0.5</td>\n",
       "      <td>1.000000</td>\n",
       "      <td>1.000000</td>\n",
       "      <td>0.888889</td>\n",
       "      <td>0.725000</td>\n",
       "      <td>0.884615</td>\n",
       "      <td>0.70000</td>\n",
       "    </tr>\n",
       "    <tr>\n",
       "      <th>Subchr1_37</th>\n",
       "      <td>0.716216</td>\n",
       "      <td>0.584270</td>\n",
       "      <td>0.846154</td>\n",
       "      <td>0.875000</td>\n",
       "      <td>0.694444</td>\n",
       "      <td>0.248000</td>\n",
       "      <td>0.285714</td>\n",
       "      <td>0.277778</td>\n",
       "      <td>0.562500</td>\n",
       "      <td>0.102564</td>\n",
       "      <td>0.5</td>\n",
       "      <td>0.200000</td>\n",
       "      <td>0.166667</td>\n",
       "      <td>0.736842</td>\n",
       "      <td>0.794118</td>\n",
       "      <td>0.774194</td>\n",
       "      <td>0.70000</td>\n",
       "    </tr>\n",
       "  </tbody>\n",
       "</table>\n",
       "</div>"
      ],
      "text/plain": [
       "             CA1_Ak5  CA1_Chrm3  CA1_Kif26a  CA1_Lingo2  CA1_Ptprg  CA3_Cadm2  \\\n",
       "index                                                                           \n",
       "Subchr1_3   0.893162   0.879725    0.849057    1.000000   0.897163   0.861111   \n",
       "Subchr1_8   0.905405   0.590909    0.974359    0.777778   0.890052   0.872247   \n",
       "Subchr1_14  0.828571   0.419355    0.700000    1.000000   0.767442   0.482759   \n",
       "Subchr1_23  0.956522   0.859375    0.800000    0.400000   0.860465   0.851852   \n",
       "Subchr1_37  0.716216   0.584270    0.846154    0.875000   0.694444   0.248000   \n",
       "\n",
       "            CA3_Efnb2  CA3-St18_Epha5  CA3-St18_Nuak1  CA3-St18_Tead1  \\\n",
       "index                                                                   \n",
       "Subchr1_3    0.919540        0.821429        0.960000        0.868217   \n",
       "Subchr1_8    0.904762        0.857143        0.959184        0.956522   \n",
       "Subchr1_14   0.812500        0.888889        1.000000        0.739130   \n",
       "Subchr1_23   0.444444        0.666667        0.545455        0.928571   \n",
       "Subchr1_37   0.285714        0.277778        0.562500        0.102564   \n",
       "\n",
       "            DG-po_Bcl11a  DG-po_Calb2  DG-po_Kctd8  Gfra1_Gfra1  IG-CA2_Chrm3  \\\n",
       "index                                                                           \n",
       "Subchr1_3            1.0     0.600000     0.636364     0.924528      0.456989   \n",
       "Subchr1_8            0.8     0.923077     1.000000     0.857143      0.342857   \n",
       "Subchr1_14           1.0     0.750000     0.000000     0.916667      0.700000   \n",
       "Subchr1_23           0.5     1.000000     1.000000     0.888889      0.725000   \n",
       "Subchr1_37           0.5     0.200000     0.166667     0.736842      0.794118   \n",
       "\n",
       "            IG-CA2_Peak1  IG-CA2_Xpr1  \n",
       "index                                  \n",
       "Subchr1_3       0.592593      0.75000  \n",
       "Subchr1_8       0.355263      0.65625  \n",
       "Subchr1_14      0.666667      0.70000  \n",
       "Subchr1_23      0.884615      0.70000  \n",
       "Subchr1_37      0.774194      0.70000  "
      ]
     },
     "execution_count": 5,
     "metadata": {},
     "output_type": "execute_result"
    }
   ],
   "source": [
    "dmr_rate = pd.read_msgpack('RelatedClusterAndDMR.mcg_rate.msg')\n",
    "dmr_rate.head()"
   ]
  },
  {
   "cell_type": "code",
   "execution_count": 6,
   "metadata": {
    "papermill": {
     "duration": 0.034347,
     "end_time": "2020-01-27T02:22:37.625828",
     "exception": false,
     "start_time": "2020-01-27T02:22:37.591481",
     "status": "completed"
    },
    "tags": []
   },
   "outputs": [
    {
     "name": "stdout",
     "output_type": "stream",
     "text": [
      "(7876, 9)\n"
     ]
    },
    {
     "data": {
      "text/html": [
       "<div>\n",
       "<style scoped>\n",
       "    .dataframe tbody tr th:only-of-type {\n",
       "        vertical-align: middle;\n",
       "    }\n",
       "\n",
       "    .dataframe tbody tr th {\n",
       "        vertical-align: top;\n",
       "    }\n",
       "\n",
       "    .dataframe thead th {\n",
       "        text-align: right;\n",
       "    }\n",
       "</style>\n",
       "<table border=\"1\" class=\"dataframe\">\n",
       "  <thead>\n",
       "    <tr style=\"text-align: right;\">\n",
       "      <th></th>\n",
       "      <th>pvals_adj</th>\n",
       "      <th>gene_id</th>\n",
       "      <th>cluster_from</th>\n",
       "      <th>cluster_to</th>\n",
       "      <th>gene_name</th>\n",
       "      <th>-lgp</th>\n",
       "      <th>AUROC</th>\n",
       "      <th>rate_from</th>\n",
       "      <th>rate_to</th>\n",
       "    </tr>\n",
       "  </thead>\n",
       "  <tbody>\n",
       "    <tr>\n",
       "      <th>0</th>\n",
       "      <td>0.0</td>\n",
       "      <td>ENSMUSG00000098760.1</td>\n",
       "      <td>CA1_Chrm3</td>\n",
       "      <td>CA3_Cadm2</td>\n",
       "      <td>Gm2164</td>\n",
       "      <td>1000.0</td>\n",
       "      <td>0.999988</td>\n",
       "      <td>0.008284</td>\n",
       "      <td>0.041257</td>\n",
       "    </tr>\n",
       "    <tr>\n",
       "      <th>1</th>\n",
       "      <td>0.0</td>\n",
       "      <td>ENSMUSG00000009681.10</td>\n",
       "      <td>CA1_Chrm3</td>\n",
       "      <td>CA3_Cadm2</td>\n",
       "      <td>Bcr</td>\n",
       "      <td>1000.0</td>\n",
       "      <td>0.999958</td>\n",
       "      <td>0.008852</td>\n",
       "      <td>0.043598</td>\n",
       "    </tr>\n",
       "    <tr>\n",
       "      <th>3</th>\n",
       "      <td>0.0</td>\n",
       "      <td>ENSMUSG00000048251.15</td>\n",
       "      <td>CA1_Chrm3</td>\n",
       "      <td>CA3_Cadm2</td>\n",
       "      <td>Bcl11b</td>\n",
       "      <td>1000.0</td>\n",
       "      <td>0.999449</td>\n",
       "      <td>0.005740</td>\n",
       "      <td>0.040069</td>\n",
       "    </tr>\n",
       "    <tr>\n",
       "      <th>4</th>\n",
       "      <td>0.0</td>\n",
       "      <td>ENSMUSG00000104283.1</td>\n",
       "      <td>CA1_Chrm3</td>\n",
       "      <td>CA3_Cadm2</td>\n",
       "      <td>Gm37459</td>\n",
       "      <td>1000.0</td>\n",
       "      <td>0.999421</td>\n",
       "      <td>0.006409</td>\n",
       "      <td>0.068974</td>\n",
       "    </tr>\n",
       "    <tr>\n",
       "      <th>5</th>\n",
       "      <td>0.0</td>\n",
       "      <td>ENSMUSG00000027674.16</td>\n",
       "      <td>CA1_Chrm3</td>\n",
       "      <td>CA3_Cadm2</td>\n",
       "      <td>Pex5l</td>\n",
       "      <td>1000.0</td>\n",
       "      <td>0.998962</td>\n",
       "      <td>0.006091</td>\n",
       "      <td>0.048110</td>\n",
       "    </tr>\n",
       "  </tbody>\n",
       "</table>\n",
       "</div>"
      ],
      "text/plain": [
       "   pvals_adj                gene_id cluster_from cluster_to gene_name    -lgp  \\\n",
       "0        0.0   ENSMUSG00000098760.1    CA1_Chrm3  CA3_Cadm2    Gm2164  1000.0   \n",
       "1        0.0  ENSMUSG00000009681.10    CA1_Chrm3  CA3_Cadm2       Bcr  1000.0   \n",
       "3        0.0  ENSMUSG00000048251.15    CA1_Chrm3  CA3_Cadm2    Bcl11b  1000.0   \n",
       "4        0.0   ENSMUSG00000104283.1    CA1_Chrm3  CA3_Cadm2   Gm37459  1000.0   \n",
       "5        0.0  ENSMUSG00000027674.16    CA1_Chrm3  CA3_Cadm2     Pex5l  1000.0   \n",
       "\n",
       "      AUROC  rate_from   rate_to  \n",
       "0  0.999988   0.008284  0.041257  \n",
       "1  0.999958   0.008852  0.043598  \n",
       "3  0.999449   0.005740  0.040069  \n",
       "4  0.999421   0.006409  0.068974  \n",
       "5  0.998962   0.006091  0.048110  "
      ]
     },
     "execution_count": 6,
     "metadata": {},
     "output_type": "execute_result"
    }
   ],
   "source": [
    "dmg = pd.read_msgpack('RelatedDMG.msg')\n",
    "dmg['cluster_from'] = dmg['cluster_from'].str.replace(' ', '_')\n",
    "dmg['cluster_to'] = dmg['cluster_to'].str.replace(' ', '_')\n",
    "print(dmg.shape)\n",
    "dmg.head()"
   ]
  },
  {
   "cell_type": "code",
   "execution_count": 7,
   "metadata": {
    "ExecuteTime": {
     "end_time": "2020-01-26T04:08:59.103997Z",
     "start_time": "2020-01-26T04:08:58.858608Z"
    },
    "papermill": {
     "duration": 0.065474,
     "end_time": "2020-01-27T02:22:37.700668",
     "exception": false,
     "start_time": "2020-01-27T02:22:37.635194",
     "status": "completed"
    },
    "tags": []
   },
   "outputs": [
    {
     "data": {
      "text/html": [
       "<div>\n",
       "<style scoped>\n",
       "    .dataframe tbody tr th:only-of-type {\n",
       "        vertical-align: middle;\n",
       "    }\n",
       "\n",
       "    .dataframe tbody tr th {\n",
       "        vertical-align: top;\n",
       "    }\n",
       "\n",
       "    .dataframe thead th {\n",
       "        text-align: right;\n",
       "    }\n",
       "</style>\n",
       "<table border=\"1\" class=\"dataframe\">\n",
       "  <thead>\n",
       "    <tr style=\"text-align: right;\">\n",
       "      <th></th>\n",
       "      <th>DMR</th>\n",
       "      <th>Gene</th>\n",
       "      <th>Corr</th>\n",
       "      <th>chrom</th>\n",
       "      <th>DMR_to_gene_dist</th>\n",
       "    </tr>\n",
       "  </thead>\n",
       "  <tbody>\n",
       "    <tr>\n",
       "      <th>0</th>\n",
       "      <td>Subchr1_9357</td>\n",
       "      <td>ENSMUSG00000067879.3</td>\n",
       "      <td>0.321723</td>\n",
       "      <td>chr1</td>\n",
       "      <td>-475017.5</td>\n",
       "    </tr>\n",
       "    <tr>\n",
       "      <th>1</th>\n",
       "      <td>Subchr1_9359</td>\n",
       "      <td>ENSMUSG00000067879.3</td>\n",
       "      <td>0.488895</td>\n",
       "      <td>chr1</td>\n",
       "      <td>-473551.5</td>\n",
       "    </tr>\n",
       "    <tr>\n",
       "      <th>2</th>\n",
       "      <td>Subchr1_9360</td>\n",
       "      <td>ENSMUSG00000067879.3</td>\n",
       "      <td>0.521646</td>\n",
       "      <td>chr1</td>\n",
       "      <td>-473381.5</td>\n",
       "    </tr>\n",
       "    <tr>\n",
       "      <th>3</th>\n",
       "      <td>Subchr1_9363</td>\n",
       "      <td>ENSMUSG00000067879.3</td>\n",
       "      <td>0.402748</td>\n",
       "      <td>chr1</td>\n",
       "      <td>-470607.0</td>\n",
       "    </tr>\n",
       "    <tr>\n",
       "      <th>4</th>\n",
       "      <td>Subchr1_9378</td>\n",
       "      <td>ENSMUSG00000067879.3</td>\n",
       "      <td>0.346382</td>\n",
       "      <td>chr1</td>\n",
       "      <td>-459379.0</td>\n",
       "    </tr>\n",
       "  </tbody>\n",
       "</table>\n",
       "</div>"
      ],
      "text/plain": [
       "            DMR                  Gene      Corr chrom  DMR_to_gene_dist\n",
       "0  Subchr1_9357  ENSMUSG00000067879.3  0.321723  chr1         -475017.5\n",
       "1  Subchr1_9359  ENSMUSG00000067879.3  0.488895  chr1         -473551.5\n",
       "2  Subchr1_9360  ENSMUSG00000067879.3  0.521646  chr1         -473381.5\n",
       "3  Subchr1_9363  ENSMUSG00000067879.3  0.402748  chr1         -470607.0\n",
       "4  Subchr1_9378  ENSMUSG00000067879.3  0.346382  chr1         -459379.0"
      ]
     },
     "execution_count": 7,
     "metadata": {},
     "output_type": "execute_result"
    }
   ],
   "source": [
    "corr = pd.read_msgpack('RelatedCorr.msg')\n",
    "corr.head()"
   ]
  },
  {
   "cell_type": "code",
   "execution_count": 8,
   "metadata": {
    "ExecuteTime": {
     "end_time": "2020-01-26T04:09:00.778681Z",
     "start_time": "2020-01-26T04:08:59.105307Z"
    },
    "papermill": {
     "duration": 1.065917,
     "end_time": "2020-01-27T02:22:38.777050",
     "exception": false,
     "start_time": "2020-01-27T02:22:37.711133",
     "status": "completed"
    },
    "tags": []
   },
   "outputs": [],
   "source": [
    "# subset the dmr and dmg based on corr\n",
    "dmr_hits = dmr_hits.loc[corr['DMR'].unique()].copy()\n",
    "dmr_rate = dmr_rate.loc[corr['DMR'].unique()].copy()\n",
    "dmg = dmg[dmg['gene_id'].isin(corr['Gene'].unique())].copy()"
   ]
  },
  {
   "cell_type": "code",
   "execution_count": 9,
   "metadata": {
    "ExecuteTime": {
     "end_time": "2020-01-26T04:09:00.801640Z",
     "start_time": "2020-01-26T04:09:00.780111Z"
    },
    "papermill": {
     "duration": 0.022406,
     "end_time": "2020-01-27T02:22:38.810323",
     "exception": false,
     "start_time": "2020-01-27T02:22:38.787917",
     "status": "completed"
    },
    "tags": []
   },
   "outputs": [
    {
     "data": {
      "text/plain": [
       "(257, 2)"
      ]
     },
     "execution_count": 9,
     "metadata": {},
     "output_type": "execute_result"
    }
   ],
   "source": [
    "dmg[['cluster_from', 'cluster_to']].drop_duplicates().shape"
   ]
  },
  {
   "cell_type": "markdown",
   "metadata": {
    "papermill": {
     "duration": 0.01012,
     "end_time": "2020-01-27T02:22:38.830137",
     "exception": false,
     "start_time": "2020-01-27T02:22:38.820017",
     "status": "completed"
    },
    "tags": []
   },
   "source": [
    "## prepare DMR pairwise"
   ]
  },
  {
   "cell_type": "code",
   "execution_count": 10,
   "metadata": {
    "ExecuteTime": {
     "end_time": "2020-01-26T04:09:05.655118Z",
     "start_time": "2020-01-26T04:09:00.802988Z"
    },
    "papermill": {
     "duration": 1.319915,
     "end_time": "2020-01-27T02:22:40.160368",
     "exception": false,
     "start_time": "2020-01-27T02:22:38.840453",
     "status": "completed"
    },
    "scrolled": true,
    "tags": []
   },
   "outputs": [],
   "source": [
    "pairwise_dmr_index = {}\n",
    "n = 0\n",
    "for _, (cluster_from, cluster_to) in dmg[['cluster_from', 'cluster_to']].drop_duplicates().iterrows():\n",
    "    n += 1\n",
    "    if n % 1000 == 0:\n",
    "        print(n)\n",
    "    # cluster_from is hypo, cluster_to is hyper\n",
    "    rate_delta = (dmr_rate[cluster_to] - dmr_rate[cluster_from]) > delta_dmr_rate_cutoff\n",
    "    # cluster_to is not hypo, cluster_from is hypo, and rate_delta > delta_dmr_rate_cutoff\n",
    "    total_judge = (~dmr_hits[cluster_to]) & dmr_hits[cluster_from] & rate_delta\n",
    "    \n",
    "    # remaining dmr is sig hypo in cluster_from and hyper in cluster_to\n",
    "    pairwise_dmr_index[(cluster_from, cluster_to)] = total_judge[total_judge].index"
   ]
  },
  {
   "cell_type": "markdown",
   "metadata": {
    "papermill": {
     "duration": 0.010145,
     "end_time": "2020-01-27T02:22:40.181555",
     "exception": false,
     "start_time": "2020-01-27T02:22:40.171410",
     "status": "completed"
    },
    "tags": []
   },
   "source": [
    "## final DMG DMR for pairwise cluster"
   ]
  },
  {
   "cell_type": "code",
   "execution_count": 11,
   "metadata": {
    "ExecuteTime": {
     "end_time": "2020-01-26T04:09:05.666842Z",
     "start_time": "2020-01-26T04:09:05.657240Z"
    },
    "papermill": {
     "duration": 0.018362,
     "end_time": "2020-01-27T02:22:40.210180",
     "exception": false,
     "start_time": "2020-01-27T02:22:40.191818",
     "status": "completed"
    },
    "tags": []
   },
   "outputs": [],
   "source": [
    "related_genes = pd.read_csv('related_dmgs.txt', header=None, index_col=0).index\n",
    "related_genes.name = 'gene_id'\n",
    "# create a table to store all related genes\n",
    "gene_dmr_counts = pd.DataFrame([], index=related_genes)"
   ]
  },
  {
   "cell_type": "code",
   "execution_count": 12,
   "metadata": {
    "ExecuteTime": {
     "end_time": "2020-01-26T04:09:32.904495Z",
     "start_time": "2020-01-26T04:09:05.668327Z"
    },
    "papermill": {
     "duration": 7.657519,
     "end_time": "2020-01-27T02:22:47.877497",
     "exception": false,
     "start_time": "2020-01-27T02:22:40.219978",
     "status": "completed"
    },
    "scrolled": false,
    "tags": []
   },
   "outputs": [],
   "source": [
    "with pd.HDFStore('FinalDMGDMR.h5') as f:\n",
    "    n = 0\n",
    "    for (cluster_from, cluster_to), cluster_pair_df in dmg.groupby(\n",
    "        ['cluster_from', 'cluster_to']):\n",
    "        n += 1\n",
    "        if n % 500 == 0:\n",
    "            print(n)\n",
    "        # first get related dmr and dmg separately\n",
    "        cluster_pair_related_dmr = pairwise_dmr_index[(cluster_from, cluster_to)]\n",
    "        cluster_pair_related_gene = cluster_pair_df['gene_id'].unique()\n",
    "        \n",
    "        # use them to filter corr\n",
    "        cluster_pair_related_corr = corr[\n",
    "            corr['DMR'].isin(cluster_pair_related_dmr)\n",
    "            & corr['Gene'].isin(cluster_pair_related_gene)]\n",
    "        \n",
    "        # then use remained dmr and dmg as final list\n",
    "        # the remaining DMR DMG is:\n",
    "        # - sig hypo in one clsuter compare to another\n",
    "        # - have sig correlateion\n",
    "        cluster_pair_related_dmr = pd.Series(cluster_pair_related_corr['DMR'].unique())\n",
    "        cluster_pair_related_gene = pd.Series(cluster_pair_related_corr['Gene'].unique())\n",
    "        # print(cluster_from, cluster_to, cluster_pair_related_dmr.size, cluster_pair_related_gene.size)\n",
    "        f[f'{cluster_from}/{cluster_to}/DMR'] = cluster_pair_related_dmr\n",
    "        f[f'{cluster_from}/{cluster_to}/Gene'] = cluster_pair_related_gene\n",
    "        f[f'{cluster_from}/{cluster_to}/Corr'] = pd.Series(cluster_pair_related_corr.index)\n",
    "        \n",
    "        gene_counts = cluster_pair_related_corr['Gene'].value_counts()\n",
    "        gene_dmr_counts[(cluster_from, cluster_to)] = gene_counts.reindex(\n",
    "            related_genes).fillna(0).astype(int)"
   ]
  },
  {
   "cell_type": "markdown",
   "metadata": {
    "papermill": {
     "duration": 0.010313,
     "end_time": "2020-01-27T02:22:47.898511",
     "exception": false,
     "start_time": "2020-01-27T02:22:47.888198",
     "status": "completed"
    },
    "tags": []
   },
   "source": [
    "## Save DMG DMR counts table"
   ]
  },
  {
   "cell_type": "code",
   "execution_count": 13,
   "metadata": {
    "ExecuteTime": {
     "end_time": "2020-01-26T04:09:33.041950Z",
     "start_time": "2020-01-26T04:09:32.906763Z"
    },
    "papermill": {
     "duration": 0.083602,
     "end_time": "2020-01-27T02:22:47.992148",
     "exception": false,
     "start_time": "2020-01-27T02:22:47.908546",
     "status": "completed"
    },
    "tags": []
   },
   "outputs": [
    {
     "data": {
      "text/plain": [
       "(621, 257)"
      ]
     },
     "execution_count": 13,
     "metadata": {},
     "output_type": "execute_result"
    }
   ],
   "source": [
    "gene_pos = (gene_dmr_counts > 0).sum(axis=1)\n",
    "gene_dmr_counts = gene_dmr_counts[gene_pos > 0].copy()\n",
    "gene_dmr_counts.to_msgpack('DMRCounts_for_DMG_in_cluster_pairs.msg')\n",
    "gene_dmr_counts.shape"
   ]
  },
  {
   "cell_type": "code",
   "execution_count": 14,
   "metadata": {
    "ExecuteTime": {
     "end_time": "2020-01-26T04:09:44.777573Z",
     "start_time": "2020-01-26T04:09:44.380826Z"
    },
    "papermill": {
     "duration": 0.349308,
     "end_time": "2020-01-27T02:22:48.352212",
     "exception": false,
     "start_time": "2020-01-27T02:22:48.002904",
     "status": "completed"
    },
    "tags": []
   },
   "outputs": [
    {
     "data": {
      "text/plain": [
       "<matplotlib.image.AxesImage at 0x7f930ee68dd8>"
      ]
     },
     "execution_count": 14,
     "metadata": {},
     "output_type": "execute_result"
    },
    {
     "data": {
      "image/png": "[encoded data removed]",
      "text/plain": [
       "<Figure size 900x1500 with 1 Axes>"
      ]
     },
     "metadata": {
      "needs_background": "light"
     },
     "output_type": "display_data"
    }
   ],
   "source": [
    "plt.figure(figsize=(3, 5), dpi=300)\n",
    "plt.imshow(gene_dmr_counts.values, vmin=3, vmax=30, aspect='auto')"
   ]
  },
  {
   "cell_type": "code",
   "execution_count": null,
   "metadata": {
    "papermill": {
     "duration": 0.011644,
     "end_time": "2020-01-27T02:22:48.376139",
     "exception": false,
     "start_time": "2020-01-27T02:22:48.364495",
     "status": "completed"
    },
    "tags": []
   },
   "outputs": [],
   "source": []
  },
  {
   "cell_type": "code",
   "execution_count": null,
   "metadata": {
    "papermill": {
     "duration": 0.011399,
     "end_time": "2020-01-27T02:22:48.399095",
     "exception": false,
     "start_time": "2020-01-27T02:22:48.387696",
     "status": "completed"
    },
    "tags": []
   },
   "outputs": [],
   "source": []
  },
  {
   "cell_type": "code",
   "execution_count": null,
   "metadata": {
    "papermill": {
     "duration": 0.011317,
     "end_time": "2020-01-27T02:22:48.422478",
     "exception": false,
     "start_time": "2020-01-27T02:22:48.411161",
     "status": "completed"
    },
    "tags": []
   },
   "outputs": [],
   "source": []
  },
  {
   "cell_type": "code",
   "execution_count": null,
   "metadata": {
    "papermill": {
     "duration": 0.011416,
     "end_time": "2020-01-27T02:22:48.445275",
     "exception": false,
     "start_time": "2020-01-27T02:22:48.433859",
     "status": "completed"
    },
    "tags": []
   },
   "outputs": [],
   "source": []
  }
 ],
 "metadata": {
  "hide_input": false,
  "kernelspec": {
   "display_name": "Python 3",
   "language": "python",
   "name": "python3"
  },
  "language_info": {
   "codemirror_mode": {
    "name": "ipython",
    "version": 3
   },
   "file_extension": ".py",
   "mimetype": "text/x-python",
   "name": "python",
   "nbconvert_exporter": "python",
   "pygments_lexer": "ipython3",
   "version": "3.7.3"
  },
  "papermill": {
   "duration": 18.964263,
   "end_time": "2020-01-27T02:22:48.963491",
   "environment_variables": {},
   "exception": null,
   "input_path": "4.intersect_everything.ipynb",
   "output_path": "/home/hanliu/project/mouse_rostral_brain/study/ClustersEnsemble/HPFSubtypeEnsemble/4.intersect_everything.ipynb",
   "parameters": {
    "delta_dmr_rate_cutoff": 0.3
   },
   "start_time": "2020-01-27T02:22:29.999228",
   "version": "1.0.1"
  },
  "toc": {
   "base_numbering": 1,
   "nav_menu": {},
   "number_sections": true,
   "sideBar": true,
   "skip_h1_title": true,
   "title_cell": "Table of Contents",
   "title_sidebar": "Contents",
   "toc_cell": false,
   "toc_position": {},
   "toc_section_display": true,
   "toc_window_display": true
  }
 },
 "nbformat": 4,
 "nbformat_minor": 2
}
