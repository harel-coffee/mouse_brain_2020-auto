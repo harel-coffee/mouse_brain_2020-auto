{
 "cells": [
  {
   "cell_type": "code",
   "execution_count": 1,
   "metadata": {
    "ExecuteTime": {
     "end_time": "2020-01-27T01:58:56.923149Z",
     "start_time": "2020-01-27T01:58:56.362770Z"
    },
    "papermill": {
     "duration": 0.562082,
     "end_time": "2020-01-27T02:20:46.853973",
     "exception": false,
     "start_time": "2020-01-27T02:20:46.291891",
     "status": "completed"
    },
    "tags": []
   },
   "outputs": [
    {
     "name": "stderr",
     "output_type": "stream",
     "text": [
      "/home/hanliu/miniconda3/envs/clustering/lib/python3.7/site-packages/xarray/core/merge.py:18: FutureWarning: The Panel class is removed from pandas. Accessing it from the top-level namespace will also be removed in the next version\n",
      "  PANDAS_TYPES = (pd.Series, pd.DataFrame, pd.Panel)\n",
      "/home/hanliu/miniconda3/envs/clustering/lib/python3.7/site-packages/xarray/core/dataarray.py:1829: FutureWarning: The Panel class is removed from pandas. Accessing it from the top-level namespace will also be removed in the next version\n",
      "  'DataArray', pd.Series, pd.DataFrame, pd.Panel]:\n"
     ]
    }
   ],
   "source": [
    "import pandas as pd\n",
    "import xarray as xr\n",
    "import numpy as np\n",
    "import pathlib\n",
    "import seaborn as sns\n",
    "import matplotlib.pyplot as plt"
   ]
  },
  {
   "cell_type": "markdown",
   "metadata": {
    "papermill": {
     "duration": 0.008266,
     "end_time": "2020-01-27T02:20:46.871435",
     "exception": false,
     "start_time": "2020-01-27T02:20:46.863169",
     "status": "completed"
    },
    "tags": []
   },
   "source": [
    "## Parameters"
   ]
  },
  {
   "cell_type": "code",
   "execution_count": 2,
   "metadata": {
    "ExecuteTime": {
     "end_time": "2020-01-27T01:58:56.928212Z",
     "start_time": "2020-01-27T01:58:56.924879Z"
    },
    "papermill": {
     "duration": 0.013796,
     "end_time": "2020-01-27T02:20:46.892660",
     "exception": false,
     "start_time": "2020-01-27T02:20:46.878864",
     "status": "completed"
    },
    "tags": [
     "parameters"
    ]
   },
   "outputs": [],
   "source": [
    "use_clusters = [\n",
    "    'CA1_Ak5', 'CA1_Chrm3', 'CA1_Kif26a', 'CA1_Ptprg',\n",
    "    'CA3_Cadm2', 'CA3_Efnb2', 'CA3-St18_Epha5', 'CA3-St18_Nuak1',\n",
    "    'CA3-St18_Tead1', 'DG_dg-all', 'DG-po_Bcl11a', 'DG-po_Calb2',\n",
    "    'DG-po_Kctd8', 'Gfra1_Gfra1', 'IG-CA2_Chrm3', 'IG-CA2_Peak1', 'IG-CA2_Xpr1'\n",
    "]\n",
    "# 'CA1_Lingo2' not include, because it co-cluster with RHP, probably an incomplete cluster\n",
    "\n",
    "auroc_cutoff = 0.9\n",
    "fc_cutoff = 2\n",
    "delta_cutoff = 0.01\n",
    "rate_to_min = 0.01\n",
    "rate_from_max = 0.01\n",
    "n_repeat_pairs = 5"
   ]
  },
  {
   "cell_type": "code",
   "execution_count": 3,
   "metadata": {
    "papermill": {
     "duration": 0.01291,
     "end_time": "2020-01-27T02:20:46.912892",
     "exception": false,
     "start_time": "2020-01-27T02:20:46.899982",
     "status": "completed"
    },
    "tags": [
     "injected-parameters"
    ]
   },
   "outputs": [],
   "source": [
    "# Parameters\n",
    "auroc_cutoff = 0.9\n",
    "fc_cutoff = 2\n",
    "delta_cutoff = 0.01\n",
    "rate_to_min = 0.01\n",
    "rate_from_max = 0.01\n",
    "n_repeat_pairs = 5\n",
    "use_clusters = [\"CA1 Ak5\", \"CA1 Chrm3\", \"CA1 Kif26a\", \"CA1 Lingo2\", \"CA1 Ptprg\", \"CA3 Cadm2\", \"CA3 Efnb2\", \"CA3-St18 Epha5\", \"CA3-St18 Nuak1\", \"CA3-St18 Tead1\", \"DG-po Bcl11a\", \"DG-po Calb2\", \"DG-po Kctd8\", \"Gfra1 Gfra1\", \"IG-CA2 Chrm3\", \"IG-CA2 Peak1\", \"IG-CA2 Xpr1\"]\n"
   ]
  },
  {
   "cell_type": "code",
   "execution_count": 4,
   "metadata": {
    "ExecuteTime": {
     "end_time": "2020-01-27T01:58:56.932062Z",
     "start_time": "2020-01-27T01:58:56.929860Z"
    },
    "papermill": {
     "duration": 0.012403,
     "end_time": "2020-01-27T02:20:46.932661",
     "exception": false,
     "start_time": "2020-01-27T02:20:46.920258",
     "status": "completed"
    },
    "tags": []
   },
   "outputs": [],
   "source": [
    "use_clusters = [i.replace('_', ' ') for i in use_clusters]\n",
    "use_clusters = set(use_clusters)"
   ]
  },
  {
   "cell_type": "code",
   "execution_count": 5,
   "metadata": {
    "ExecuteTime": {
     "end_time": "2020-01-27T01:58:57.167870Z",
     "start_time": "2020-01-27T01:58:56.933390Z"
    },
    "papermill": {
     "duration": 0.256616,
     "end_time": "2020-01-27T02:20:47.196619",
     "exception": false,
     "start_time": "2020-01-27T02:20:46.940003",
     "status": "completed"
    },
    "tags": []
   },
   "outputs": [
    {
     "name": "stderr",
     "output_type": "stream",
     "text": [
      "/home/hanliu/miniconda3/envs/clustering/lib/python3.7/site-packages/xarray/core/dataarray.py:1849: FutureWarning: The Panel class is removed from pandas. Accessing it from the top-level namespace will also be removed in the next version\n",
      "  3: pd.Panel}\n"
     ]
    },
    {
     "data": {
      "text/html": [
       "<div>\n",
       "<style scoped>\n",
       "    .dataframe tbody tr th:only-of-type {\n",
       "        vertical-align: middle;\n",
       "    }\n",
       "\n",
       "    .dataframe tbody tr th {\n",
       "        vertical-align: top;\n",
       "    }\n",
       "\n",
       "    .dataframe thead th {\n",
       "        text-align: right;\n",
       "    }\n",
       "</style>\n",
       "<table border=\"1\" class=\"dataframe\">\n",
       "  <thead>\n",
       "    <tr style=\"text-align: right;\">\n",
       "      <th>geneslop2k</th>\n",
       "      <th>ENSMUSG00000102693.1</th>\n",
       "      <th>ENSMUSG00000064842.1</th>\n",
       "      <th>ENSMUSG00000051951.5</th>\n",
       "      <th>ENSMUSG00000102851.1</th>\n",
       "      <th>ENSMUSG00000103377.1</th>\n",
       "      <th>ENSMUSG00000104017.1</th>\n",
       "      <th>ENSMUSG00000103025.1</th>\n",
       "      <th>ENSMUSG00000089699.1</th>\n",
       "      <th>ENSMUSG00000103201.1</th>\n",
       "      <th>ENSMUSG00000103147.1</th>\n",
       "      <th>...</th>\n",
       "      <th>ENSMUSG00000064363.1</th>\n",
       "      <th>ENSMUSG00000064364.1</th>\n",
       "      <th>ENSMUSG00000064365.1</th>\n",
       "      <th>ENSMUSG00000064366.1</th>\n",
       "      <th>ENSMUSG00000064367.1</th>\n",
       "      <th>ENSMUSG00000064368.1</th>\n",
       "      <th>ENSMUSG00000064369.1</th>\n",
       "      <th>ENSMUSG00000064370.1</th>\n",
       "      <th>ENSMUSG00000064371.1</th>\n",
       "      <th>ENSMUSG00000064372.1</th>\n",
       "    </tr>\n",
       "    <tr>\n",
       "      <th>SubType</th>\n",
       "      <th></th>\n",
       "      <th></th>\n",
       "      <th></th>\n",
       "      <th></th>\n",
       "      <th></th>\n",
       "      <th></th>\n",
       "      <th></th>\n",
       "      <th></th>\n",
       "      <th></th>\n",
       "      <th></th>\n",
       "      <th></th>\n",
       "      <th></th>\n",
       "      <th></th>\n",
       "      <th></th>\n",
       "      <th></th>\n",
       "      <th></th>\n",
       "      <th></th>\n",
       "      <th></th>\n",
       "      <th></th>\n",
       "      <th></th>\n",
       "      <th></th>\n",
       "    </tr>\n",
       "  </thead>\n",
       "  <tbody>\n",
       "    <tr>\n",
       "      <th>MGE-Sst Rxra</th>\n",
       "      <td>0.036028</td>\n",
       "      <td>0.043546</td>\n",
       "      <td>0.011518</td>\n",
       "      <td>0.012793</td>\n",
       "      <td>0.008664</td>\n",
       "      <td>0.013207</td>\n",
       "      <td>0.013343</td>\n",
       "      <td>0.012206</td>\n",
       "      <td>0.012409</td>\n",
       "      <td>0.012589</td>\n",
       "      <td>...</td>\n",
       "      <td>0.032261</td>\n",
       "      <td>0.032288</td>\n",
       "      <td>0.032410</td>\n",
       "      <td>0.032552</td>\n",
       "      <td>0.034254</td>\n",
       "      <td>0.033398</td>\n",
       "      <td>0.033502</td>\n",
       "      <td>0.033819</td>\n",
       "      <td>0.035191</td>\n",
       "      <td>0.035211</td>\n",
       "    </tr>\n",
       "    <tr>\n",
       "      <th>CA3 Cadm2</th>\n",
       "      <td>0.033156</td>\n",
       "      <td>0.029851</td>\n",
       "      <td>0.009630</td>\n",
       "      <td>0.008696</td>\n",
       "      <td>0.009502</td>\n",
       "      <td>0.010312</td>\n",
       "      <td>0.009555</td>\n",
       "      <td>0.009374</td>\n",
       "      <td>0.009898</td>\n",
       "      <td>0.008947</td>\n",
       "      <td>...</td>\n",
       "      <td>0.025086</td>\n",
       "      <td>0.025137</td>\n",
       "      <td>0.025251</td>\n",
       "      <td>0.025495</td>\n",
       "      <td>0.024930</td>\n",
       "      <td>0.024434</td>\n",
       "      <td>0.024452</td>\n",
       "      <td>0.024956</td>\n",
       "      <td>0.024893</td>\n",
       "      <td>0.024863</td>\n",
       "    </tr>\n",
       "    <tr>\n",
       "      <th>CA1 Chrm3</th>\n",
       "      <td>0.023127</td>\n",
       "      <td>0.024722</td>\n",
       "      <td>0.008233</td>\n",
       "      <td>0.008266</td>\n",
       "      <td>0.009479</td>\n",
       "      <td>0.012860</td>\n",
       "      <td>0.007963</td>\n",
       "      <td>0.008021</td>\n",
       "      <td>0.009220</td>\n",
       "      <td>0.007640</td>\n",
       "      <td>...</td>\n",
       "      <td>0.033007</td>\n",
       "      <td>0.032922</td>\n",
       "      <td>0.032910</td>\n",
       "      <td>0.033188</td>\n",
       "      <td>0.031894</td>\n",
       "      <td>0.030501</td>\n",
       "      <td>0.029690</td>\n",
       "      <td>0.029887</td>\n",
       "      <td>0.029790</td>\n",
       "      <td>0.029634</td>\n",
       "    </tr>\n",
       "    <tr>\n",
       "      <th>CA3-St18 Tead1</th>\n",
       "      <td>0.027134</td>\n",
       "      <td>0.027768</td>\n",
       "      <td>0.017092</td>\n",
       "      <td>0.013822</td>\n",
       "      <td>0.024804</td>\n",
       "      <td>0.040937</td>\n",
       "      <td>0.015322</td>\n",
       "      <td>0.014494</td>\n",
       "      <td>0.019728</td>\n",
       "      <td>0.011044</td>\n",
       "      <td>...</td>\n",
       "      <td>0.034665</td>\n",
       "      <td>0.034462</td>\n",
       "      <td>0.034645</td>\n",
       "      <td>0.034727</td>\n",
       "      <td>0.033429</td>\n",
       "      <td>0.031014</td>\n",
       "      <td>0.029844</td>\n",
       "      <td>0.029497</td>\n",
       "      <td>0.029236</td>\n",
       "      <td>0.029461</td>\n",
       "    </tr>\n",
       "    <tr>\n",
       "      <th>Unc5c Unc5c</th>\n",
       "      <td>0.024149</td>\n",
       "      <td>0.030352</td>\n",
       "      <td>0.011801</td>\n",
       "      <td>0.010621</td>\n",
       "      <td>0.010696</td>\n",
       "      <td>0.014942</td>\n",
       "      <td>0.021727</td>\n",
       "      <td>0.013943</td>\n",
       "      <td>0.014074</td>\n",
       "      <td>0.009287</td>\n",
       "      <td>...</td>\n",
       "      <td>0.032325</td>\n",
       "      <td>0.032111</td>\n",
       "      <td>0.031888</td>\n",
       "      <td>0.031687</td>\n",
       "      <td>0.029979</td>\n",
       "      <td>0.029032</td>\n",
       "      <td>0.028236</td>\n",
       "      <td>0.028392</td>\n",
       "      <td>0.025932</td>\n",
       "      <td>0.026097</td>\n",
       "    </tr>\n",
       "  </tbody>\n",
       "</table>\n",
       "<p>5 rows × 55487 columns</p>\n",
       "</div>"
      ],
      "text/plain": [
       "geneslop2k      ENSMUSG00000102693.1  ENSMUSG00000064842.1  \\\n",
       "SubType                                                      \n",
       "MGE-Sst Rxra                0.036028              0.043546   \n",
       "CA3 Cadm2                   0.033156              0.029851   \n",
       "CA1 Chrm3                   0.023127              0.024722   \n",
       "CA3-St18 Tead1              0.027134              0.027768   \n",
       "Unc5c Unc5c                 0.024149              0.030352   \n",
       "\n",
       "geneslop2k      ENSMUSG00000051951.5  ENSMUSG00000102851.1  \\\n",
       "SubType                                                      \n",
       "MGE-Sst Rxra                0.011518              0.012793   \n",
       "CA3 Cadm2                   0.009630              0.008696   \n",
       "CA1 Chrm3                   0.008233              0.008266   \n",
       "CA3-St18 Tead1              0.017092              0.013822   \n",
       "Unc5c Unc5c                 0.011801              0.010621   \n",
       "\n",
       "geneslop2k      ENSMUSG00000103377.1  ENSMUSG00000104017.1  \\\n",
       "SubType                                                      \n",
       "MGE-Sst Rxra                0.008664              0.013207   \n",
       "CA3 Cadm2                   0.009502              0.010312   \n",
       "CA1 Chrm3                   0.009479              0.012860   \n",
       "CA3-St18 Tead1              0.024804              0.040937   \n",
       "Unc5c Unc5c                 0.010696              0.014942   \n",
       "\n",
       "geneslop2k      ENSMUSG00000103025.1  ENSMUSG00000089699.1  \\\n",
       "SubType                                                      \n",
       "MGE-Sst Rxra                0.013343              0.012206   \n",
       "CA3 Cadm2                   0.009555              0.009374   \n",
       "CA1 Chrm3                   0.007963              0.008021   \n",
       "CA3-St18 Tead1              0.015322              0.014494   \n",
       "Unc5c Unc5c                 0.021727              0.013943   \n",
       "\n",
       "geneslop2k      ENSMUSG00000103201.1  ENSMUSG00000103147.1  ...  \\\n",
       "SubType                                                     ...   \n",
       "MGE-Sst Rxra                0.012409              0.012589  ...   \n",
       "CA3 Cadm2                   0.009898              0.008947  ...   \n",
       "CA1 Chrm3                   0.009220              0.007640  ...   \n",
       "CA3-St18 Tead1              0.019728              0.011044  ...   \n",
       "Unc5c Unc5c                 0.014074              0.009287  ...   \n",
       "\n",
       "geneslop2k      ENSMUSG00000064363.1  ENSMUSG00000064364.1  \\\n",
       "SubType                                                      \n",
       "MGE-Sst Rxra                0.032261              0.032288   \n",
       "CA3 Cadm2                   0.025086              0.025137   \n",
       "CA1 Chrm3                   0.033007              0.032922   \n",
       "CA3-St18 Tead1              0.034665              0.034462   \n",
       "Unc5c Unc5c                 0.032325              0.032111   \n",
       "\n",
       "geneslop2k      ENSMUSG00000064365.1  ENSMUSG00000064366.1  \\\n",
       "SubType                                                      \n",
       "MGE-Sst Rxra                0.032410              0.032552   \n",
       "CA3 Cadm2                   0.025251              0.025495   \n",
       "CA1 Chrm3                   0.032910              0.033188   \n",
       "CA3-St18 Tead1              0.034645              0.034727   \n",
       "Unc5c Unc5c                 0.031888              0.031687   \n",
       "\n",
       "geneslop2k      ENSMUSG00000064367.1  ENSMUSG00000064368.1  \\\n",
       "SubType                                                      \n",
       "MGE-Sst Rxra                0.034254              0.033398   \n",
       "CA3 Cadm2                   0.024930              0.024434   \n",
       "CA1 Chrm3                   0.031894              0.030501   \n",
       "CA3-St18 Tead1              0.033429              0.031014   \n",
       "Unc5c Unc5c                 0.029979              0.029032   \n",
       "\n",
       "geneslop2k      ENSMUSG00000064369.1  ENSMUSG00000064370.1  \\\n",
       "SubType                                                      \n",
       "MGE-Sst Rxra                0.033502              0.033819   \n",
       "CA3 Cadm2                   0.024452              0.024956   \n",
       "CA1 Chrm3                   0.029690              0.029887   \n",
       "CA3-St18 Tead1              0.029844              0.029497   \n",
       "Unc5c Unc5c                 0.028236              0.028392   \n",
       "\n",
       "geneslop2k      ENSMUSG00000064371.1  ENSMUSG00000064372.1  \n",
       "SubType                                                     \n",
       "MGE-Sst Rxra                0.035191              0.035211  \n",
       "CA3 Cadm2                   0.024893              0.024863  \n",
       "CA1 Chrm3                   0.029790              0.029634  \n",
       "CA3-St18 Tead1              0.029236              0.029461  \n",
       "Unc5c Unc5c                 0.025932              0.026097  \n",
       "\n",
       "[5 rows x 55487 columns]"
      ]
     },
     "execution_count": 5,
     "metadata": {},
     "output_type": "execute_result"
    }
   ],
   "source": [
    "subtype_rate = xr.open_dataset(\n",
    "    '/home/hanliu/project/mouse_rostral_brain/study/mCClustermCLevel/SubType.geneslop2k.mcds'\n",
    ")['gene_cluster_da_rate'].sel(mc_type='CHN').to_pandas()\n",
    "subtype_rate.index = subtype_rate.index.map(lambda i: i.replace('_', ' '))\n",
    "subtype_rate.head()"
   ]
  },
  {
   "cell_type": "markdown",
   "metadata": {
    "papermill": {
     "duration": 0.00819,
     "end_time": "2020-01-27T02:20:47.213704",
     "exception": false,
     "start_time": "2020-01-27T02:20:47.205514",
     "status": "completed"
    },
    "tags": []
   },
   "source": [
    "## Total DMG results"
   ]
  },
  {
   "cell_type": "code",
   "execution_count": 6,
   "metadata": {
    "ExecuteTime": {
     "end_time": "2020-01-27T01:59:09.608714Z",
     "start_time": "2020-01-27T01:58:57.169149Z"
    },
    "papermill": {
     "duration": 12.134512,
     "end_time": "2020-01-27T02:20:59.356367",
     "exception": false,
     "start_time": "2020-01-27T02:20:47.221855",
     "status": "completed"
    },
    "tags": []
   },
   "outputs": [
    {
     "name": "stderr",
     "output_type": "stream",
     "text": [
      "/home/hanliu/miniconda3/envs/clustering/lib/python3.7/site-packages/IPython/core/interactiveshell.py:3326: FutureWarning: The read_msgpack is deprecated and will be removed in a future version.\n",
      "It is recommended to use pyarrow for on-the-wire transmission of pandas objects.\n",
      "  exec(code_obj, self.user_global_ns, self.user_ns)\n"
     ]
    }
   ],
   "source": [
    "total_dmg = pd.read_msgpack(\n",
    "    '/home/hanliu/project/mouse_rostral_brain/study/ClusterMethylMarker/SubTypePairwiseDEG/TotalPairwiseMarker.msg'\n",
    ")"
   ]
  },
  {
   "cell_type": "code",
   "execution_count": 7,
   "metadata": {
    "ExecuteTime": {
     "end_time": "2020-01-27T01:59:15.306574Z",
     "start_time": "2020-01-27T01:59:09.610667Z"
    },
    "papermill": {
     "duration": 5.704817,
     "end_time": "2020-01-27T02:21:05.070122",
     "exception": false,
     "start_time": "2020-01-27T02:20:59.365305",
     "status": "completed"
    },
    "tags": []
   },
   "outputs": [
    {
     "name": "stderr",
     "output_type": "stream",
     "text": [
      "/home/hanliu/miniconda3/envs/clustering/lib/python3.7/site-packages/ipykernel_launcher.py:4: SettingWithCopyWarning: \n",
      "A value is trying to be set on a copy of a slice from a DataFrame.\n",
      "Try using .loc[row_indexer,col_indexer] = value instead\n",
      "\n",
      "See the caveats in the documentation: http://pandas.pydata.org/pandas-docs/stable/user_guide/indexing.html#returning-a-view-versus-a-copy\n",
      "  after removing the cwd from sys.path.\n"
     ]
    },
    {
     "name": "stderr",
     "output_type": "stream",
     "text": [
      "/home/hanliu/miniconda3/envs/clustering/lib/python3.7/site-packages/ipykernel_launcher.py:5: SettingWithCopyWarning: \n",
      "A value is trying to be set on a copy of a slice from a DataFrame.\n",
      "Try using .loc[row_indexer,col_indexer] = value instead\n",
      "\n",
      "See the caveats in the documentation: http://pandas.pydata.org/pandas-docs/stable/user_guide/indexing.html#returning-a-view-versus-a-copy\n",
      "  \"\"\"\n"
     ]
    }
   ],
   "source": [
    "use_dmg = total_dmg[total_dmg['cluster_from'].isin(use_clusters) & \n",
    "                    total_dmg['cluster_to'].isin(use_clusters) & \n",
    "                    (total_dmg['AUROC'] > auroc_cutoff)]\n",
    "use_dmg['rate_from'] = use_dmg.apply(lambda i: subtype_rate.at[i['cluster_from'], i['gene_id']], axis=1)\n",
    "use_dmg['rate_to'] = use_dmg.apply(lambda i: subtype_rate.at[i['cluster_to'], i['gene_id']], axis=1)\n",
    "\n",
    "gene_counts = use_dmg['gene_name'].value_counts()"
   ]
  },
  {
   "cell_type": "code",
   "execution_count": 8,
   "metadata": {
    "ExecuteTime": {
     "end_time": "2020-01-27T01:59:15.327833Z",
     "start_time": "2020-01-27T01:59:15.310337Z"
    },
    "papermill": {
     "duration": 0.029893,
     "end_time": "2020-01-27T02:21:05.109286",
     "exception": false,
     "start_time": "2020-01-27T02:21:05.079393",
     "status": "completed"
    },
    "tags": []
   },
   "outputs": [],
   "source": [
    "fc = use_dmg['rate_to'] / use_dmg['rate_from']\n",
    "delta = use_dmg['rate_to'] - use_dmg['rate_from']\n",
    "use_dmg = use_dmg[(fc > fc_cutoff) & \n",
    "                  (delta > delta_cutoff) &\n",
    "                  (use_dmg['rate_to'] > rate_to_min) & \n",
    "                  (use_dmg['rate_from'] < rate_from_max)]"
   ]
  },
  {
   "cell_type": "code",
   "execution_count": 9,
   "metadata": {
    "ExecuteTime": {
     "end_time": "2020-01-27T01:59:15.339041Z",
     "start_time": "2020-01-27T01:59:15.329560Z"
    },
    "papermill": {
     "duration": 0.019958,
     "end_time": "2020-01-27T02:21:05.137726",
     "exception": false,
     "start_time": "2020-01-27T02:21:05.117768",
     "status": "completed"
    },
    "tags": []
   },
   "outputs": [],
   "source": [
    "repeat_counts = use_dmg['gene_id'].value_counts()\n",
    "use_genes = repeat_counts[repeat_counts > n_repeat_pairs].index\n",
    "use_dmg = use_dmg[use_dmg['gene_id'].isin(use_genes)]"
   ]
  },
  {
   "cell_type": "code",
   "execution_count": 10,
   "metadata": {
    "ExecuteTime": {
     "end_time": "2020-01-27T01:59:15.547195Z",
     "start_time": "2020-01-27T01:59:15.345259Z"
    },
    "papermill": {
     "duration": 0.193403,
     "end_time": "2020-01-27T02:21:05.339645",
     "exception": false,
     "start_time": "2020-01-27T02:21:05.146242",
     "status": "completed"
    },
    "tags": []
   },
   "outputs": [
    {
     "data": {
      "text/plain": [
       "<matplotlib.axes._subplots.AxesSubplot at 0x7f9828c77cf8>"
      ]
     },
     "execution_count": 10,
     "metadata": {},
     "output_type": "execute_result"
    },
    {
     "data": {
      "image/png": "[encoded data removed]",
      "text/plain": [
       "<Figure size 432x288 with 1 Axes>"
      ]
     },
     "metadata": {
      "needs_background": "light"
     },
     "output_type": "display_data"
    }
   ],
   "source": [
    "sns.distplot(repeat_counts)"
   ]
  },
  {
   "cell_type": "code",
   "execution_count": 11,
   "metadata": {
    "ExecuteTime": {
     "end_time": "2020-01-27T01:59:21.220510Z",
     "start_time": "2020-01-27T01:59:21.206405Z"
    },
    "papermill": {
     "duration": 0.023419,
     "end_time": "2020-01-27T02:21:05.373139",
     "exception": false,
     "start_time": "2020-01-27T02:21:05.349720",
     "status": "completed"
    },
    "tags": []
   },
   "outputs": [
    {
     "name": "stderr",
     "output_type": "stream",
     "text": [
      "/home/hanliu/miniconda3/envs/clustering/lib/python3.7/site-packages/ipykernel_launcher.py:1: FutureWarning: to_msgpack is deprecated and will be removed in a future version.\n",
      "It is recommended to use pyarrow for on-the-wire transmission of pandas objects.\n",
      "  \"\"\"Entry point for launching an IPython kernel.\n"
     ]
    }
   ],
   "source": [
    "use_dmg.to_msgpack('RelatedDMG.msg')"
   ]
  },
  {
   "cell_type": "code",
   "execution_count": 12,
   "metadata": {
    "ExecuteTime": {
     "end_time": "2020-01-27T01:59:21.869193Z",
     "start_time": "2020-01-27T01:59:21.865124Z"
    },
    "papermill": {
     "duration": 0.016091,
     "end_time": "2020-01-27T02:21:05.398543",
     "exception": false,
     "start_time": "2020-01-27T02:21:05.382452",
     "status": "completed"
    },
    "tags": []
   },
   "outputs": [],
   "source": [
    "with open('related_dmgs.txt', 'w') as f:\n",
    "    for g in use_dmg['gene_id'].unique():\n",
    "        f.write(g + '\\n')"
   ]
  },
  {
   "cell_type": "code",
   "execution_count": null,
   "metadata": {
    "ExecuteTime": {
     "end_time": "2020-01-27T01:56:31.495215Z",
     "start_time": "2020-01-27T01:56:31.489318Z"
    },
    "papermill": {
     "duration": 0.009569,
     "end_time": "2020-01-27T02:21:05.417463",
     "exception": false,
     "start_time": "2020-01-27T02:21:05.407894",
     "status": "completed"
    },
    "tags": []
   },
   "outputs": [],
   "source": []
  },
  {
   "cell_type": "code",
   "execution_count": null,
   "metadata": {
    "papermill": {
     "duration": 0.009722,
     "end_time": "2020-01-27T02:21:05.436589",
     "exception": false,
     "start_time": "2020-01-27T02:21:05.426867",
     "status": "completed"
    },
    "tags": []
   },
   "outputs": [],
   "source": []
  },
  {
   "cell_type": "code",
   "execution_count": null,
   "metadata": {
    "papermill": {
     "duration": 0.009224,
     "end_time": "2020-01-27T02:21:05.455494",
     "exception": false,
     "start_time": "2020-01-27T02:21:05.446270",
     "status": "completed"
    },
    "tags": []
   },
   "outputs": [],
   "source": []
  },
  {
   "cell_type": "code",
   "execution_count": null,
   "metadata": {
    "papermill": {
     "duration": 0.009591,
     "end_time": "2020-01-27T02:21:05.475231",
     "exception": false,
     "start_time": "2020-01-27T02:21:05.465640",
     "status": "completed"
    },
    "tags": []
   },
   "outputs": [],
   "source": []
  },
  {
   "cell_type": "code",
   "execution_count": null,
   "metadata": {
    "papermill": {
     "duration": 0.009289,
     "end_time": "2020-01-27T02:21:05.494177",
     "exception": false,
     "start_time": "2020-01-27T02:21:05.484888",
     "status": "completed"
    },
    "tags": []
   },
   "outputs": [],
   "source": []
  }
 ],
 "metadata": {
  "hide_input": false,
  "kernelspec": {
   "display_name": "Python 3",
   "language": "python",
   "name": "python3"
  },
  "language_info": {
   "codemirror_mode": {
    "name": "ipython",
    "version": 3
   },
   "file_extension": ".py",
   "mimetype": "text/x-python",
   "name": "python",
   "nbconvert_exporter": "python",
   "pygments_lexer": "ipython3",
   "version": "3.7.3"
  },
  "papermill": {
   "duration": 22.294373,
   "end_time": "2020-01-27T02:21:07.717154",
   "environment_variables": {},
   "exception": null,
   "input_path": "1.related_dmgs.ipynb",
   "output_path": "/home/hanliu/project/mouse_rostral_brain/study/ClustersEnsemble/HPFSubtypeEnsemble/1.related_dmgs.ipynb",
   "parameters": {
    "auroc_cutoff": 0.9,
    "delta_cutoff": 0.01,
    "fc_cutoff": 2,
    "n_repeat_pairs": 5,
    "rate_from_max": 0.01,
    "rate_to_min": 0.01,
    "use_clusters": [
     "CA1 Ak5",
     "CA1 Chrm3",
     "CA1 Kif26a",
     "CA1 Lingo2",
     "CA1 Ptprg",
     "CA3 Cadm2",
     "CA3 Efnb2",
     "CA3-St18 Epha5",
     "CA3-St18 Nuak1",
     "CA3-St18 Tead1",
     "DG-po Bcl11a",
     "DG-po Calb2",
     "DG-po Kctd8",
     "Gfra1 Gfra1",
     "IG-CA2 Chrm3",
     "IG-CA2 Peak1",
     "IG-CA2 Xpr1"
    ]
   },
   "start_time": "2020-01-27T02:20:45.422781",
   "version": "1.0.1"
  },
  "toc": {
   "base_numbering": 1,
   "nav_menu": {},
   "number_sections": true,
   "sideBar": true,
   "skip_h1_title": true,
   "title_cell": "Table of Contents",
   "title_sidebar": "Contents",
   "toc_cell": false,
   "toc_position": {},
   "toc_section_display": true,
   "toc_window_display": true
  }
 },
 "nbformat": 4,
 "nbformat_minor": 2
}