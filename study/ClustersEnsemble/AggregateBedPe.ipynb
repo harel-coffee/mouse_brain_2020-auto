{
 "cells": [
  {
   "cell_type": "code",
   "execution_count": 1,
   "metadata": {
    "ExecuteTime": {
     "end_time": "2020-01-24T00:00:37.311941Z",
     "start_time": "2020-01-24T00:00:36.729130Z"
    }
   },
   "outputs": [],
   "source": [
    "import pandas as pd\n",
    "import numpy as np\n",
    "import itertools\n",
    "import seaborn as sns\n",
    "import matplotlib.pyplot as plt\n",
    "import pathlib\n",
    "import anndata"
   ]
  },
  {
   "cell_type": "code",
   "execution_count": 2,
   "metadata": {
    "ExecuteTime": {
     "end_time": "2020-01-24T00:00:38.279925Z",
     "start_time": "2020-01-24T00:00:38.276416Z"
    }
   },
   "outputs": [],
   "source": [
    "corr_cutoff = 0.5\n",
    "occur_cotoff = 0\n",
    "output_dir = '/home/hanliu/project/mouse_rostral_brain/study/ClustersEnsemble/CA1CA3DGEnsemble/'"
   ]
  },
  {
   "cell_type": "code",
   "execution_count": 3,
   "metadata": {
    "ExecuteTime": {
     "end_time": "2020-01-24T00:00:39.816908Z",
     "start_time": "2020-01-24T00:00:38.749589Z"
    }
   },
   "outputs": [],
   "source": [
    "output_dir = pathlib.Path(output_dir)\n",
    "\n",
    "corr_total = []\n",
    "with pd.HDFStore(output_dir / 'FinalDMGDMR.h5') as hdf:\n",
    "    for k, v in hdf.items():\n",
    "        if k.endswith('Corr'):\n",
    "            v = hdf[k]\n",
    "            _, cluster_from, cluster_to, _ = k.split('/')\n",
    "            v['cluster_from'] = cluster_from\n",
    "            v['cluster_to'] = cluster_to\n",
    "            corr_total.append(v)\n",
    "\n",
    "corr_total = pd.concat(corr_total)\n",
    "corr_total = corr_total[corr_total['Corr'] > corr_cutoff]\n",
    "\n",
    "relate_to_cluster = corr_total.pivot_table(\n",
    "    index=['DMR', 'Gene'], columns='cluster_from',\n",
    "    values='Corr').applymap(lambda i: True if i > 0 else False)\n",
    "\n",
    "corr_total = corr_total.set_index(['DMR', 'Gene'])\n",
    "occur_count = corr_total.index.value_counts()\n",
    "corr_total['occur_count'] = occur_count\n",
    "corr_total = corr_total[corr_total['occur_count'] > occur_cotoff]\n",
    "corr_total = corr_total[~corr_total.index.duplicated()]\n",
    "corr_total = pd.concat([corr_total, relate_to_cluster], axis=1, sort=True)\n",
    "corr_total.reset_index(inplace=True)"
   ]
  },
  {
   "cell_type": "code",
   "execution_count": 4,
   "metadata": {
    "ExecuteTime": {
     "end_time": "2020-01-24T00:00:42.421116Z",
     "start_time": "2020-01-24T00:00:40.914522Z"
    }
   },
   "outputs": [],
   "source": [
    "gene_meta = pd.read_csv('/home/hanliu/ref/mouse/gencode/vm22/gencode.vM22.annotation.gene.flat.tsv.gz',\n",
    "                        sep='\\t', index_col='gene_id')\n",
    "gene_meta['length'] = gene_meta['end'] - gene_meta['start']\n",
    "gene_name_to_id = {v: k for k, v in gene_meta['gene_name'].items()}\n",
    "gene_meta['tss'] = gene_meta.apply(lambda i: i['start'] if i['strand'] == '+' else i['end'], axis=1)"
   ]
  },
  {
   "cell_type": "code",
   "execution_count": 5,
   "metadata": {
    "ExecuteTime": {
     "end_time": "2020-01-24T00:00:46.067614Z",
     "start_time": "2020-01-24T00:00:42.423114Z"
    }
   },
   "outputs": [
    {
     "name": "stderr",
     "output_type": "stream",
     "text": [
      "/home/hanliu/miniconda3/envs/clustering/lib/python3.7/site-packages/IPython/core/interactiveshell.py:3326: FutureWarning: The read_msgpack is deprecated and will be removed in a future version.\n",
      "It is recommended to use pyarrow for on-the-wire transmission of pandas objects.\n",
      "  exec(code_obj, self.user_global_ns, self.user_ns)\n"
     ]
    }
   ],
   "source": [
    "# gene info\n",
    "marker_gene_info = pd.read_msgpack(output_dir / 'RelatedDMG.msg')\n",
    "marker_dict = marker_gene_info.groupby('cluster_from').apply(lambda i: i['gene_id'].values).to_dict()\n",
    "\n",
    "# dmr info\n",
    "dmr_info = anndata.read_h5ad(output_dir / 'RelatedClusterAndDMR.hypo_hits.h5ad')\n",
    "dmr_info = dmr_info[corr_total['DMR'].unique(), :].copy()\n",
    "dmr_bed = dmr_info.obs"
   ]
  },
  {
   "cell_type": "code",
   "execution_count": 6,
   "metadata": {
    "ExecuteTime": {
     "end_time": "2020-01-24T00:00:59.274873Z",
     "start_time": "2020-01-24T00:00:46.069909Z"
    }
   },
   "outputs": [],
   "source": [
    "dmr_annot = anndata.read_h5ad('/home/hanliu/project/mouse_rostral_brain/DMR/SubType/Total/DMRAnnotation.h5ad')\n",
    "dmr_annot = dmr_annot[corr_total['DMR'].unique(), :].copy()\n",
    "dmr_annot = pd.DataFrame(dmr_annot.X.todense(), \n",
    "                         index=dmr_annot.obs_names, \n",
    "                         columns=dmr_annot.var_names).astype(bool)\n",
    "dmr_hits_df = pd.DataFrame(dmr_info.X.todense().astype(bool),\n",
    "                           index=dmr_info.obs_names,\n",
    "                           columns=[i + '-Hypo' for i in dmr_info.var_names])"
   ]
  },
  {
   "cell_type": "code",
   "execution_count": 7,
   "metadata": {
    "ExecuteTime": {
     "end_time": "2020-01-24T00:00:59.360343Z",
     "start_time": "2020-01-24T00:00:59.278354Z"
    }
   },
   "outputs": [],
   "source": [
    "use_dmr_bed = dmr_bed.reindex(\n",
    "    corr_total['DMR'].values).reset_index(drop=True).iloc[:, :3]\n",
    "use_dmr_bed.columns = ['dmr_chr', 'dmr_start', 'dmr_end']\n",
    "\n",
    "use_dmr_annot = dmr_annot.reindex(\n",
    "    corr_total['DMR'].values).reset_index(drop=True)\n",
    "\n",
    "use_hits_df = dmr_hits_df.reindex(\n",
    "    corr_total['DMR'].values).reset_index(drop=True)\n",
    "\n",
    "use_gene_bed = gene_meta.reindex(corr_total['Gene'].values).reset_index(\n",
    "    drop=True).loc[:, ['chrom', 'tss', 'tss', 'strand']]\n",
    "use_gene_bed.columns = ['tss_chr', 'tss_start', 'tss_end', 'gene_strand']"
   ]
  },
  {
   "cell_type": "code",
   "execution_count": 8,
   "metadata": {
    "ExecuteTime": {
     "end_time": "2020-01-24T00:00:59.389776Z",
     "start_time": "2020-01-24T00:00:59.362606Z"
    }
   },
   "outputs": [],
   "source": [
    "bed_pe = pd.concat([use_dmr_bed, use_gene_bed, corr_total, use_dmr_annot], axis=1)\n",
    "bed_pe['DMR_to_gene_dist'] = ((bed_pe['dmr_start'] + bed_pe['dmr_end']) / 2 - bed_pe['tss_start']\n",
    " ) * bed_pe['gene_strand'].map(lambda i: 1 if i == '+' else -1)"
   ]
  },
  {
   "cell_type": "code",
   "execution_count": 9,
   "metadata": {
    "ExecuteTime": {
     "end_time": "2020-01-24T00:00:59.459947Z",
     "start_time": "2020-01-24T00:00:59.391727Z"
    }
   },
   "outputs": [
    {
     "name": "stderr",
     "output_type": "stream",
     "text": [
      "/home/hanliu/miniconda3/envs/clustering/lib/python3.7/site-packages/ipykernel_launcher.py:1: FutureWarning: to_msgpack is deprecated and will be removed in a future version.\n",
      "It is recommended to use pyarrow for on-the-wire transmission of pandas objects.\n",
      "  \"\"\"Entry point for launching an IPython kernel.\n"
     ]
    }
   ],
   "source": [
    "bed_pe.to_msgpack(output_dir / 'TotalEnsembl.bedpe.msg')"
   ]
  },
  {
   "cell_type": "code",
   "execution_count": null,
   "metadata": {
    "scrolled": false
   },
   "outputs": [],
   "source": []
  },
  {
   "cell_type": "code",
   "execution_count": null,
   "metadata": {
    "scrolled": true
   },
   "outputs": [],
   "source": []
  },
  {
   "cell_type": "code",
   "execution_count": null,
   "metadata": {},
   "outputs": [],
   "source": []
  },
  {
   "cell_type": "code",
   "execution_count": null,
   "metadata": {},
   "outputs": [],
   "source": []
  },
  {
   "cell_type": "code",
   "execution_count": null,
   "metadata": {},
   "outputs": [],
   "source": []
  },
  {
   "cell_type": "code",
   "execution_count": null,
   "metadata": {},
   "outputs": [],
   "source": []
  },
  {
   "cell_type": "code",
   "execution_count": null,
   "metadata": {},
   "outputs": [],
   "source": []
  },
  {
   "cell_type": "code",
   "execution_count": null,
   "metadata": {},
   "outputs": [],
   "source": []
  }
 ],
 "metadata": {
  "hide_input": false,
  "kernelspec": {
   "display_name": "Python 3",
   "language": "python",
   "name": "python3"
  },
  "language_info": {
   "codemirror_mode": {
    "name": "ipython",
    "version": 3
   },
   "file_extension": ".py",
   "mimetype": "text/x-python",
   "name": "python",
   "nbconvert_exporter": "python",
   "pygments_lexer": "ipython3",
   "version": "3.7.3"
  },
  "toc": {
   "base_numbering": 1,
   "nav_menu": {},
   "number_sections": true,
   "sideBar": true,
   "skip_h1_title": true,
   "title_cell": "Table of Contents",
   "title_sidebar": "Contents",
   "toc_cell": false,
   "toc_position": {},
   "toc_section_display": true,
   "toc_window_display": true
  }
 },
 "nbformat": 4,
 "nbformat_minor": 2
}
