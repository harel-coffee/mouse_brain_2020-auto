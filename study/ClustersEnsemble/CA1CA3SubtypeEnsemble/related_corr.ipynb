{
 "cells": [
  {
   "cell_type": "code",
   "execution_count": 1,
   "metadata": {
    "ExecuteTime": {
     "end_time": "2020-01-05T20:09:07.379201Z",
     "start_time": "2020-01-05T20:09:07.240972Z"
    },
    "papermill": {
     "duration": 0.147508,
     "end_time": "2020-01-21T06:15:06.017490",
     "exception": false,
     "start_time": "2020-01-21T06:15:05.869982",
     "status": "completed"
    },
    "tags": []
   },
   "outputs": [],
   "source": [
    "import pandas as pd"
   ]
  },
  {
   "cell_type": "markdown",
   "metadata": {
    "papermill": {
     "duration": 0.006269,
     "end_time": "2020-01-21T06:15:06.030800",
     "exception": false,
     "start_time": "2020-01-21T06:15:06.024531",
     "status": "completed"
    },
    "tags": []
   },
   "source": [
    "## Parameter"
   ]
  },
  {
   "cell_type": "code",
   "execution_count": 2,
   "metadata": {
    "ExecuteTime": {
     "end_time": "2020-01-05T20:09:12.290352Z",
     "start_time": "2020-01-05T20:09:12.288080Z"
    },
    "papermill": {
     "duration": 0.01066,
     "end_time": "2020-01-21T06:15:06.047606",
     "exception": false,
     "start_time": "2020-01-21T06:15:06.036946",
     "status": "completed"
    },
    "tags": [
     "parameters"
    ]
   },
   "outputs": [],
   "source": [
    "corr_cutoff = 0.35\n",
    "distance_cutoff = 500000"
   ]
  },
  {
   "cell_type": "code",
   "execution_count": 3,
   "metadata": {
    "papermill": {
     "duration": 0.010466,
     "end_time": "2020-01-21T06:15:06.063752",
     "exception": false,
     "start_time": "2020-01-21T06:15:06.053286",
     "status": "completed"
    },
    "tags": [
     "injected-parameters"
    ]
   },
   "outputs": [],
   "source": [
    "# Parameters\n",
    "corr_cutoff = 0.35\n",
    "distance_cutoff = 500000\n"
   ]
  },
  {
   "cell_type": "code",
   "execution_count": 4,
   "metadata": {
    "ExecuteTime": {
     "end_time": "2020-01-05T20:09:21.013767Z",
     "start_time": "2020-01-05T20:09:17.140512Z"
    },
    "papermill": {
     "duration": 4.019694,
     "end_time": "2020-01-21T06:15:10.089239",
     "exception": false,
     "start_time": "2020-01-21T06:15:06.069545",
     "status": "completed"
    },
    "tags": []
   },
   "outputs": [
    {
     "name": "stderr",
     "output_type": "stream",
     "text": [
      "/home/hanliu/miniconda3/envs/clustering/lib/python3.7/site-packages/IPython/core/interactiveshell.py:3326: FutureWarning: The read_msgpack is deprecated and will be removed in a future version.\n",
      "It is recommended to use pyarrow for on-the-wire transmission of pandas objects.\n",
      "  exec(code_obj, self.user_global_ns, self.user_ns)\n"
     ]
    }
   ],
   "source": [
    "total_corr = pd.read_msgpack('/home/hanliu/project/mouse_rostral_brain/study/DMRGeneCorr/TotalGeneDMRCorrLoop.0.3.msg')"
   ]
  },
  {
   "cell_type": "code",
   "execution_count": 5,
   "metadata": {
    "ExecuteTime": {
     "end_time": "2020-01-05T20:09:24.079890Z",
     "start_time": "2020-01-05T20:09:23.319247Z"
    },
    "papermill": {
     "duration": 0.812326,
     "end_time": "2020-01-21T06:15:10.908524",
     "exception": false,
     "start_time": "2020-01-21T06:15:10.096198",
     "status": "completed"
    },
    "tags": []
   },
   "outputs": [],
   "source": [
    "use_gene = pd.read_csv('related_dmgs.txt', index_col=0, header=None).index\n",
    "use_dmr = pd.read_csv('related_dmrs.txt', index_col=0, header=None).index"
   ]
  },
  {
   "cell_type": "code",
   "execution_count": 6,
   "metadata": {
    "ExecuteTime": {
     "end_time": "2020-01-05T20:09:34.145489Z",
     "start_time": "2020-01-05T20:09:32.748561Z"
    },
    "papermill": {
     "duration": 1.73889,
     "end_time": "2020-01-21T06:15:12.654090",
     "exception": false,
     "start_time": "2020-01-21T06:15:10.915200",
     "status": "completed"
    },
    "tags": []
   },
   "outputs": [],
   "source": [
    "use_corr = total_corr[total_corr['DMR'].isin(use_dmr) & \n",
    "           total_corr['Gene'].isin(use_gene) & \n",
    "           (total_corr['DMR_to_gene_dist'].abs() < distance_cutoff)]"
   ]
  },
  {
   "cell_type": "code",
   "execution_count": 7,
   "metadata": {
    "ExecuteTime": {
     "end_time": "2020-01-05T20:09:35.398244Z",
     "start_time": "2020-01-05T20:09:34.764037Z"
    },
    "papermill": {
     "duration": 0.30927,
     "end_time": "2020-01-21T06:15:12.970045",
     "exception": false,
     "start_time": "2020-01-21T06:15:12.660775",
     "status": "completed"
    },
    "tags": []
   },
   "outputs": [
    {
     "name": "stderr",
     "output_type": "stream",
     "text": [
      "/home/hanliu/miniconda3/envs/clustering/lib/python3.7/site-packages/ipykernel_launcher.py:1: FutureWarning: to_msgpack is deprecated and will be removed in a future version.\n",
      "It is recommended to use pyarrow for on-the-wire transmission of pandas objects.\n",
      "  \"\"\"Entry point for launching an IPython kernel.\n"
     ]
    }
   ],
   "source": [
    "use_corr.to_msgpack('RelatedCorr.msg')"
   ]
  },
  {
   "cell_type": "code",
   "execution_count": 8,
   "metadata": {
    "ExecuteTime": {
     "end_time": "2020-01-05T20:09:39.533965Z",
     "start_time": "2020-01-05T20:09:39.529403Z"
    },
    "papermill": {
     "duration": 0.014087,
     "end_time": "2020-01-21T06:15:12.991306",
     "exception": false,
     "start_time": "2020-01-21T06:15:12.977219",
     "status": "completed"
    },
    "tags": []
   },
   "outputs": [
    {
     "data": {
      "text/plain": [
       "(311062, 5)"
      ]
     },
     "execution_count": 8,
     "metadata": {},
     "output_type": "execute_result"
    }
   ],
   "source": [
    "use_corr.shape"
   ]
  },
  {
   "cell_type": "code",
   "execution_count": 9,
   "metadata": {
    "ExecuteTime": {
     "end_time": "2020-01-05T20:09:42.879910Z",
     "start_time": "2020-01-05T20:09:42.870404Z"
    },
    "papermill": {
     "duration": 0.018716,
     "end_time": "2020-01-21T06:15:13.016405",
     "exception": false,
     "start_time": "2020-01-21T06:15:12.997689",
     "status": "completed"
    },
    "tags": []
   },
   "outputs": [
    {
     "data": {
      "text/html": [
       "<div>\n",
       "<style scoped>\n",
       "    .dataframe tbody tr th:only-of-type {\n",
       "        vertical-align: middle;\n",
       "    }\n",
       "\n",
       "    .dataframe tbody tr th {\n",
       "        vertical-align: top;\n",
       "    }\n",
       "\n",
       "    .dataframe thead th {\n",
       "        text-align: right;\n",
       "    }\n",
       "</style>\n",
       "<table border=\"1\" class=\"dataframe\">\n",
       "  <thead>\n",
       "    <tr style=\"text-align: right;\">\n",
       "      <th></th>\n",
       "      <th>DMR</th>\n",
       "      <th>Gene</th>\n",
       "      <th>Corr</th>\n",
       "      <th>chrom</th>\n",
       "      <th>DMR_to_gene_dist</th>\n",
       "    </tr>\n",
       "  </thead>\n",
       "  <tbody>\n",
       "    <tr>\n",
       "      <th>1</th>\n",
       "      <td>Subchr1_79</td>\n",
       "      <td>ENSMUSG00000089699.1</td>\n",
       "      <td>0.314964</td>\n",
       "      <td>chr1</td>\n",
       "      <td>-405545.0</td>\n",
       "    </tr>\n",
       "    <tr>\n",
       "      <th>10</th>\n",
       "      <td>Subchr1_96</td>\n",
       "      <td>ENSMUSG00000089699.1</td>\n",
       "      <td>0.498140</td>\n",
       "      <td>chr1</td>\n",
       "      <td>-394994.0</td>\n",
       "    </tr>\n",
       "    <tr>\n",
       "      <th>36</th>\n",
       "      <td>Subchr1_135</td>\n",
       "      <td>ENSMUSG00000089699.1</td>\n",
       "      <td>0.335649</td>\n",
       "      <td>chr1</td>\n",
       "      <td>-370929.0</td>\n",
       "    </tr>\n",
       "    <tr>\n",
       "      <th>73</th>\n",
       "      <td>Subchr1_176</td>\n",
       "      <td>ENSMUSG00000089699.1</td>\n",
       "      <td>0.508618</td>\n",
       "      <td>chr1</td>\n",
       "      <td>-347283.0</td>\n",
       "    </tr>\n",
       "    <tr>\n",
       "      <th>83</th>\n",
       "      <td>Subchr1_177</td>\n",
       "      <td>ENSMUSG00000089699.1</td>\n",
       "      <td>0.577361</td>\n",
       "      <td>chr1</td>\n",
       "      <td>-347191.0</td>\n",
       "    </tr>\n",
       "  </tbody>\n",
       "</table>\n",
       "</div>"
      ],
      "text/plain": [
       "            DMR                  Gene      Corr chrom  DMR_to_gene_dist\n",
       "1    Subchr1_79  ENSMUSG00000089699.1  0.314964  chr1         -405545.0\n",
       "10   Subchr1_96  ENSMUSG00000089699.1  0.498140  chr1         -394994.0\n",
       "36  Subchr1_135  ENSMUSG00000089699.1  0.335649  chr1         -370929.0\n",
       "73  Subchr1_176  ENSMUSG00000089699.1  0.508618  chr1         -347283.0\n",
       "83  Subchr1_177  ENSMUSG00000089699.1  0.577361  chr1         -347191.0"
      ]
     },
     "execution_count": 9,
     "metadata": {},
     "output_type": "execute_result"
    }
   ],
   "source": [
    "use_corr.head()"
   ]
  },
  {
   "cell_type": "code",
   "execution_count": null,
   "metadata": {
    "papermill": {
     "duration": 0.006903,
     "end_time": "2020-01-21T06:15:13.030229",
     "exception": false,
     "start_time": "2020-01-21T06:15:13.023326",
     "status": "completed"
    },
    "tags": []
   },
   "outputs": [],
   "source": []
  },
  {
   "cell_type": "code",
   "execution_count": null,
   "metadata": {
    "papermill": {
     "duration": 0.006472,
     "end_time": "2020-01-21T06:15:13.043400",
     "exception": false,
     "start_time": "2020-01-21T06:15:13.036928",
     "status": "completed"
    },
    "tags": []
   },
   "outputs": [],
   "source": []
  },
  {
   "cell_type": "code",
   "execution_count": null,
   "metadata": {
    "papermill": {
     "duration": 0.006702,
     "end_time": "2020-01-21T06:15:13.056934",
     "exception": false,
     "start_time": "2020-01-21T06:15:13.050232",
     "status": "completed"
    },
    "tags": []
   },
   "outputs": [],
   "source": []
  },
  {
   "cell_type": "code",
   "execution_count": null,
   "metadata": {
    "papermill": {
     "duration": 0.006738,
     "end_time": "2020-01-21T06:15:13.070468",
     "exception": false,
     "start_time": "2020-01-21T06:15:13.063730",
     "status": "completed"
    },
    "tags": []
   },
   "outputs": [],
   "source": []
  },
  {
   "cell_type": "code",
   "execution_count": null,
   "metadata": {
    "papermill": {
     "duration": 0.007162,
     "end_time": "2020-01-21T06:15:13.085028",
     "exception": false,
     "start_time": "2020-01-21T06:15:13.077866",
     "status": "completed"
    },
    "tags": []
   },
   "outputs": [],
   "source": []
  }
 ],
 "metadata": {
  "celltoolbar": "Tags",
  "hide_input": false,
  "kernelspec": {
   "display_name": "Python 3",
   "language": "python",
   "name": "python3"
  },
  "language_info": {
   "codemirror_mode": {
    "name": "ipython",
    "version": 3
   },
   "file_extension": ".py",
   "mimetype": "text/x-python",
   "name": "python",
   "nbconvert_exporter": "python",
   "pygments_lexer": "ipython3",
   "version": "3.7.3"
  },
  "papermill": {
   "duration": 9.043004,
   "end_time": "2020-01-21T06:15:14.000292",
   "environment_variables": {},
   "exception": null,
   "input_path": "related_corr.ipynb",
   "output_path": "/home/hanliu/project/mouse_rostral_brain/study/CA1CA3SubtypeEnsemble/related_corr.ipynb",
   "parameters": {
    "corr_cutoff": 0.35,
    "distance_cutoff": 500000
   },
   "start_time": "2020-01-21T06:15:04.957288",
   "version": "1.0.1"
  },
  "toc": {
   "base_numbering": 1,
   "nav_menu": {},
   "number_sections": true,
   "sideBar": true,
   "skip_h1_title": true,
   "title_cell": "Table of Contents",
   "title_sidebar": "Contents",
   "toc_cell": false,
   "toc_position": {},
   "toc_section_display": true,
   "toc_window_display": true
  }
 },
 "nbformat": 4,
 "nbformat_minor": 2
}