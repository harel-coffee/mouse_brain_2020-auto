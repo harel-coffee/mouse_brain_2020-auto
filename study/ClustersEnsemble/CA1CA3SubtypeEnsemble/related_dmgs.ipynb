{
 "cells": [
  {
   "cell_type": "code",
   "execution_count": 1,
   "metadata": {
    "ExecuteTime": {
     "end_time": "2020-01-05T03:07:45.193821Z",
     "start_time": "2020-01-05T03:07:44.826539Z"
    },
    "papermill": {
     "duration": 0.463326,
     "end_time": "2020-01-23T03:59:30.637664",
     "exception": false,
     "start_time": "2020-01-23T03:59:30.174338",
     "status": "completed"
    },
    "tags": []
   },
   "outputs": [],
   "source": [
    "import pandas as pd\n",
    "import numpy as np\n",
    "import pathlib\n",
    "import seaborn as sns\n",
    "import matplotlib.pyplot as plt"
   ]
  },
  {
   "cell_type": "markdown",
   "metadata": {
    "papermill": {
     "duration": 0.005723,
     "end_time": "2020-01-23T03:59:30.650319",
     "exception": false,
     "start_time": "2020-01-23T03:59:30.644596",
     "status": "completed"
    },
    "tags": []
   },
   "source": [
    "## Parameters"
   ]
  },
  {
   "cell_type": "code",
   "execution_count": 2,
   "metadata": {
    "ExecuteTime": {
     "end_time": "2020-01-05T03:07:46.030231Z",
     "start_time": "2020-01-05T03:07:46.027746Z"
    },
    "papermill": {
     "duration": 0.012216,
     "end_time": "2020-01-23T03:59:30.667884",
     "exception": false,
     "start_time": "2020-01-23T03:59:30.655668",
     "status": "completed"
    },
    "tags": [
     "parameters"
    ]
   },
   "outputs": [],
   "source": [
    "use_clusters = [\n",
    "    'CA1_Ak5', 'CA1_Chrm3', 'CA1_Kif26a', 'CA1_Ptprg',\n",
    "    'CA3_Cadm2', 'CA3_Efnb2', 'CA3-St18_Epha5', 'CA3-St18_Nuak1',\n",
    "    'CA3-St18_Tead1', 'DG_dg-all', 'DG-po_Bcl11a', 'DG-po_Calb2',\n",
    "    'DG-po_Kctd8', 'Gfra1_Gfra1', 'IG-CA2_Chrm3', 'IG-CA2_Peak1', 'IG-CA2_Xpr1'\n",
    "]\n",
    "# 'CA1_Lingo2' not include, because it co-cluster with RHP, probably an incomplete cluster\n",
    "\n",
    "auroc_cutoff = 0.85"
   ]
  },
  {
   "cell_type": "code",
   "execution_count": 3,
   "metadata": {
    "papermill": {
     "duration": 0.011178,
     "end_time": "2020-01-23T03:59:30.684231",
     "exception": false,
     "start_time": "2020-01-23T03:59:30.673053",
     "status": "completed"
    },
    "tags": [
     "injected-parameters"
    ]
   },
   "outputs": [],
   "source": [
    "# Parameters\n",
    "auroc_cutoff = 0.85\n",
    "use_clusters = [\"CA1 Ak5\", \"CA1 Chrm3\", \"CA1 Kif26a\", \"CA1 Lingo2\", \"CA1 Ptprg\", \"CA3 Cadm2\", \"CA3 Efnb2\"]\n"
   ]
  },
  {
   "cell_type": "code",
   "execution_count": 4,
   "metadata": {
    "ExecuteTime": {
     "end_time": "2020-01-05T03:07:47.308153Z",
     "start_time": "2020-01-05T03:07:47.306084Z"
    },
    "papermill": {
     "duration": 0.011394,
     "end_time": "2020-01-23T03:59:30.700687",
     "exception": false,
     "start_time": "2020-01-23T03:59:30.689293",
     "status": "completed"
    },
    "tags": []
   },
   "outputs": [],
   "source": [
    "use_clusters = [i.replace('_', ' ') for i in use_clusters]\n",
    "use_clusters = set(use_clusters)"
   ]
  },
  {
   "cell_type": "markdown",
   "metadata": {
    "papermill": {
     "duration": 0.004983,
     "end_time": "2020-01-23T03:59:30.710694",
     "exception": false,
     "start_time": "2020-01-23T03:59:30.705711",
     "status": "completed"
    },
    "tags": []
   },
   "source": [
    "## Total DMG results"
   ]
  },
  {
   "cell_type": "code",
   "execution_count": 5,
   "metadata": {
    "ExecuteTime": {
     "end_time": "2020-01-05T03:08:00.085604Z",
     "start_time": "2020-01-05T03:07:48.656069Z"
    },
    "papermill": {
     "duration": 17.262166,
     "end_time": "2020-01-23T03:59:47.977991",
     "exception": false,
     "start_time": "2020-01-23T03:59:30.715825",
     "status": "completed"
    },
    "tags": []
   },
   "outputs": [
    {
     "name": "stderr",
     "output_type": "stream",
     "text": [
      "/home/hanliu/miniconda3/envs/clustering/lib/python3.7/site-packages/IPython/core/interactiveshell.py:3326: FutureWarning: The read_msgpack is deprecated and will be removed in a future version.\n",
      "It is recommended to use pyarrow for on-the-wire transmission of pandas objects.\n",
      "  exec(code_obj, self.user_global_ns, self.user_ns)\n"
     ]
    }
   ],
   "source": [
    "total_dmg = pd.read_msgpack(\n",
    "    '/home/hanliu/project/mouse_rostral_brain/study/ClusterMethylMarker/SubTypePairwiseDEG/TotalPairwiseMarker.msg'\n",
    ")"
   ]
  },
  {
   "cell_type": "code",
   "execution_count": 6,
   "metadata": {
    "ExecuteTime": {
     "end_time": "2020-01-05T03:08:03.320591Z",
     "start_time": "2020-01-05T03:08:01.461480Z"
    },
    "papermill": {
     "duration": 1.98758,
     "end_time": "2020-01-23T03:59:49.973414",
     "exception": false,
     "start_time": "2020-01-23T03:59:47.985834",
     "status": "completed"
    },
    "tags": []
   },
   "outputs": [],
   "source": [
    "use_dmg = total_dmg[total_dmg['cluster_from'].isin(use_clusters) & \n",
    "                    total_dmg['cluster_to'].isin(use_clusters) & \n",
    "                    (total_dmg['AUROC'] > auroc_cutoff)]\n",
    "gene_counts = use_dmg['gene_name'].value_counts()"
   ]
  },
  {
   "cell_type": "code",
   "execution_count": 7,
   "metadata": {
    "ExecuteTime": {
     "end_time": "2020-01-05T03:08:36.388858Z",
     "start_time": "2020-01-05T03:08:36.250378Z"
    },
    "papermill": {
     "duration": 0.02939,
     "end_time": "2020-01-23T03:59:50.010357",
     "exception": false,
     "start_time": "2020-01-23T03:59:49.980967",
     "status": "completed"
    },
    "tags": []
   },
   "outputs": [
    {
     "name": "stderr",
     "output_type": "stream",
     "text": [
      "/home/hanliu/miniconda3/envs/clustering/lib/python3.7/site-packages/ipykernel_launcher.py:1: FutureWarning: to_msgpack is deprecated and will be removed in a future version.\n",
      "It is recommended to use pyarrow for on-the-wire transmission of pandas objects.\n",
      "  \"\"\"Entry point for launching an IPython kernel.\n"
     ]
    }
   ],
   "source": [
    "use_dmg.to_msgpack('RelatedDMG.msg')"
   ]
  },
  {
   "cell_type": "code",
   "execution_count": 8,
   "metadata": {
    "ExecuteTime": {
     "end_time": "2020-01-05T03:29:38.265844Z",
     "start_time": "2020-01-05T03:29:38.247966Z"
    },
    "papermill": {
     "duration": 0.016197,
     "end_time": "2020-01-23T03:59:50.033263",
     "exception": false,
     "start_time": "2020-01-23T03:59:50.017066",
     "status": "completed"
    },
    "tags": []
   },
   "outputs": [],
   "source": [
    "with open('related_dmgs.txt', 'w') as f:\n",
    "    for g in use_dmg['gene_id'].unique():\n",
    "        f.write(g + '\\n')"
   ]
  },
  {
   "cell_type": "code",
   "execution_count": null,
   "metadata": {
    "papermill": {
     "duration": 0.006475,
     "end_time": "2020-01-23T03:59:50.047139",
     "exception": false,
     "start_time": "2020-01-23T03:59:50.040664",
     "status": "completed"
    },
    "tags": []
   },
   "outputs": [],
   "source": []
  },
  {
   "cell_type": "code",
   "execution_count": null,
   "metadata": {
    "papermill": {
     "duration": 0.006594,
     "end_time": "2020-01-23T03:59:50.059919",
     "exception": false,
     "start_time": "2020-01-23T03:59:50.053325",
     "status": "completed"
    },
    "tags": []
   },
   "outputs": [],
   "source": []
  }
 ],
 "metadata": {
  "hide_input": false,
  "kernelspec": {
   "display_name": "Python 3",
   "language": "python",
   "name": "python3"
  },
  "language_info": {
   "codemirror_mode": {
    "name": "ipython",
    "version": 3
   },
   "file_extension": ".py",
   "mimetype": "text/x-python",
   "name": "python",
   "nbconvert_exporter": "python",
   "pygments_lexer": "ipython3",
   "version": "3.7.3"
  },
  "papermill": {
   "duration": 23.479522,
   "end_time": "2020-01-23T03:59:52.477392",
   "environment_variables": {},
   "exception": null,
   "input_path": "related_dmgs.ipynb",
   "output_path": "/home/hanliu/project/mouse_rostral_brain/study/ClustersEnsemble//CA1CA3SubtypeEnsemble/related_dmgs.ipynb",
   "parameters": {
    "auroc_cutoff": 0.85,
    "use_clusters": [
     "CA1 Ak5",
     "CA1 Chrm3",
     "CA1 Kif26a",
     "CA1 Lingo2",
     "CA1 Ptprg",
     "CA3 Cadm2",
     "CA3 Efnb2"
    ]
   },
   "start_time": "2020-01-23T03:59:28.997870",
   "version": "1.0.1"
  },
  "toc": {
   "base_numbering": 1,
   "nav_menu": {},
   "number_sections": true,
   "sideBar": true,
   "skip_h1_title": true,
   "title_cell": "Table of Contents",
   "title_sidebar": "Contents",
   "toc_cell": false,
   "toc_position": {},
   "toc_section_display": true,
   "toc_window_display": true
  }
 },
 "nbformat": 4,
 "nbformat_minor": 2
}