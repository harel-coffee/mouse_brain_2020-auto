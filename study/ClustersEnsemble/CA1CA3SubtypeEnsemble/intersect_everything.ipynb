{
 "cells": [
  {
   "cell_type": "code",
   "execution_count": 1,
   "metadata": {
    "ExecuteTime": {
     "end_time": "2020-01-05T20:10:41.756573Z",
     "start_time": "2020-01-05T20:10:41.552873Z"
    },
    "papermill": {
     "duration": 0.205042,
     "end_time": "2020-01-21T06:15:15.134293",
     "exception": false,
     "start_time": "2020-01-21T06:15:14.929251",
     "status": "completed"
    },
    "tags": []
   },
   "outputs": [],
   "source": [
    "import pandas as pd\n",
    "import anndata\n",
    "import numpy"
   ]
  },
  {
   "cell_type": "markdown",
   "metadata": {
    "papermill": {
     "duration": 0.006494,
     "end_time": "2020-01-21T06:15:15.148398",
     "exception": false,
     "start_time": "2020-01-21T06:15:15.141904",
     "status": "completed"
    },
    "tags": []
   },
   "source": [
    "## Parameter"
   ]
  },
  {
   "cell_type": "code",
   "execution_count": 2,
   "metadata": {
    "ExecuteTime": {
     "end_time": "2020-01-05T20:10:41.760082Z",
     "start_time": "2020-01-05T20:10:41.758118Z"
    },
    "papermill": {
     "duration": 0.011346,
     "end_time": "2020-01-21T06:15:15.166042",
     "exception": false,
     "start_time": "2020-01-21T06:15:15.154696",
     "status": "completed"
    },
    "tags": [
     "parameters"
    ]
   },
   "outputs": [],
   "source": [
    "delta_dmr_rate_cutoff = 0.3"
   ]
  },
  {
   "cell_type": "code",
   "execution_count": 3,
   "metadata": {
    "papermill": {
     "duration": 0.010734,
     "end_time": "2020-01-21T06:15:15.182948",
     "exception": false,
     "start_time": "2020-01-21T06:15:15.172214",
     "status": "completed"
    },
    "tags": [
     "injected-parameters"
    ]
   },
   "outputs": [],
   "source": [
    "# Parameters\n",
    "delta_dmr_rate_cutoff = 0.3\n"
   ]
  },
  {
   "cell_type": "markdown",
   "metadata": {
    "papermill": {
     "duration": 0.006307,
     "end_time": "2020-01-21T06:15:15.195304",
     "exception": false,
     "start_time": "2020-01-21T06:15:15.188997",
     "status": "completed"
    },
    "tags": []
   },
   "source": [
    "## Load Data"
   ]
  },
  {
   "cell_type": "code",
   "execution_count": 4,
   "metadata": {
    "ExecuteTime": {
     "end_time": "2020-01-05T20:10:43.908909Z",
     "start_time": "2020-01-05T20:10:41.761309Z"
    },
    "papermill": {
     "duration": 3.23455,
     "end_time": "2020-01-21T06:15:18.436020",
     "exception": false,
     "start_time": "2020-01-21T06:15:15.201470",
     "status": "completed"
    },
    "tags": []
   },
   "outputs": [
    {
     "data": {
      "text/html": [
       "<div>\n",
       "<style scoped>\n",
       "    .dataframe tbody tr th:only-of-type {\n",
       "        vertical-align: middle;\n",
       "    }\n",
       "\n",
       "    .dataframe tbody tr th {\n",
       "        vertical-align: top;\n",
       "    }\n",
       "\n",
       "    .dataframe thead th {\n",
       "        text-align: right;\n",
       "    }\n",
       "</style>\n",
       "<table border=\"1\" class=\"dataframe\">\n",
       "  <thead>\n",
       "    <tr style=\"text-align: right;\">\n",
       "      <th>index</th>\n",
       "      <th>CA1_Ak5</th>\n",
       "      <th>CA1_Chrm3</th>\n",
       "      <th>CA1_Kif26a</th>\n",
       "      <th>CA1_Lingo2</th>\n",
       "      <th>CA1_Ptprg</th>\n",
       "      <th>CA3_Cadm2</th>\n",
       "      <th>CA3_Efnb2</th>\n",
       "    </tr>\n",
       "    <tr>\n",
       "      <th>index</th>\n",
       "      <th></th>\n",
       "      <th></th>\n",
       "      <th></th>\n",
       "      <th></th>\n",
       "      <th></th>\n",
       "      <th></th>\n",
       "      <th></th>\n",
       "    </tr>\n",
       "  </thead>\n",
       "  <tbody>\n",
       "    <tr>\n",
       "      <th>Subchr1_14</th>\n",
       "      <td>False</td>\n",
       "      <td>True</td>\n",
       "      <td>False</td>\n",
       "      <td>False</td>\n",
       "      <td>False</td>\n",
       "      <td>False</td>\n",
       "      <td>False</td>\n",
       "    </tr>\n",
       "    <tr>\n",
       "      <th>Subchr1_23</th>\n",
       "      <td>False</td>\n",
       "      <td>False</td>\n",
       "      <td>False</td>\n",
       "      <td>False</td>\n",
       "      <td>False</td>\n",
       "      <td>False</td>\n",
       "      <td>True</td>\n",
       "    </tr>\n",
       "    <tr>\n",
       "      <th>Subchr1_37</th>\n",
       "      <td>False</td>\n",
       "      <td>False</td>\n",
       "      <td>False</td>\n",
       "      <td>False</td>\n",
       "      <td>False</td>\n",
       "      <td>True</td>\n",
       "      <td>True</td>\n",
       "    </tr>\n",
       "    <tr>\n",
       "      <th>Subchr1_38</th>\n",
       "      <td>False</td>\n",
       "      <td>True</td>\n",
       "      <td>False</td>\n",
       "      <td>False</td>\n",
       "      <td>False</td>\n",
       "      <td>True</td>\n",
       "      <td>True</td>\n",
       "    </tr>\n",
       "    <tr>\n",
       "      <th>Subchr1_65</th>\n",
       "      <td>False</td>\n",
       "      <td>False</td>\n",
       "      <td>False</td>\n",
       "      <td>True</td>\n",
       "      <td>False</td>\n",
       "      <td>False</td>\n",
       "      <td>False</td>\n",
       "    </tr>\n",
       "  </tbody>\n",
       "</table>\n",
       "</div>"
      ],
      "text/plain": [
       "index       CA1_Ak5  CA1_Chrm3  CA1_Kif26a  CA1_Lingo2  CA1_Ptprg  CA3_Cadm2  \\\n",
       "index                                                                          \n",
       "Subchr1_14    False       True       False       False      False      False   \n",
       "Subchr1_23    False      False       False       False      False      False   \n",
       "Subchr1_37    False      False       False       False      False       True   \n",
       "Subchr1_38    False       True       False       False      False       True   \n",
       "Subchr1_65    False      False       False        True      False      False   \n",
       "\n",
       "index       CA3_Efnb2  \n",
       "index                  \n",
       "Subchr1_14      False  \n",
       "Subchr1_23       True  \n",
       "Subchr1_37       True  \n",
       "Subchr1_38       True  \n",
       "Subchr1_65      False  "
      ]
     },
     "execution_count": 4,
     "metadata": {},
     "output_type": "execute_result"
    }
   ],
   "source": [
    "dmr_hits = anndata.read_h5ad('RelatedClusterAndDMR.hypo_hits.h5ad')\n",
    "dmr_hits = pd.DataFrame(dmr_hits.X.astype(bool).todense(), index=dmr_hits.obs_names, columns=dmr_hits.var_names)\n",
    "dmr_hits.head()"
   ]
  },
  {
   "cell_type": "code",
   "execution_count": 5,
   "metadata": {
    "ExecuteTime": {
     "end_time": "2020-01-05T20:10:44.618387Z",
     "start_time": "2020-01-05T20:10:43.910311Z"
    },
    "papermill": {
     "duration": 0.381975,
     "end_time": "2020-01-21T06:15:18.825668",
     "exception": false,
     "start_time": "2020-01-21T06:15:18.443693",
     "status": "completed"
    },
    "tags": []
   },
   "outputs": [
    {
     "name": "stderr",
     "output_type": "stream",
     "text": [
      "/home/hanliu/miniconda3/envs/clustering/lib/python3.7/site-packages/IPython/core/interactiveshell.py:3326: FutureWarning: The read_msgpack is deprecated and will be removed in a future version.\n",
      "It is recommended to use pyarrow for on-the-wire transmission of pandas objects.\n",
      "  exec(code_obj, self.user_global_ns, self.user_ns)\n"
     ]
    },
    {
     "data": {
      "text/html": [
       "<div>\n",
       "<style scoped>\n",
       "    .dataframe tbody tr th:only-of-type {\n",
       "        vertical-align: middle;\n",
       "    }\n",
       "\n",
       "    .dataframe tbody tr th {\n",
       "        vertical-align: top;\n",
       "    }\n",
       "\n",
       "    .dataframe thead th {\n",
       "        text-align: right;\n",
       "    }\n",
       "</style>\n",
       "<table border=\"1\" class=\"dataframe\">\n",
       "  <thead>\n",
       "    <tr style=\"text-align: right;\">\n",
       "      <th></th>\n",
       "      <th>CA1_Ak5</th>\n",
       "      <th>CA1_Chrm3</th>\n",
       "      <th>CA1_Kif26a</th>\n",
       "      <th>CA1_Lingo2</th>\n",
       "      <th>CA1_Ptprg</th>\n",
       "      <th>CA3_Cadm2</th>\n",
       "      <th>CA3_Efnb2</th>\n",
       "    </tr>\n",
       "    <tr>\n",
       "      <th>index</th>\n",
       "      <th></th>\n",
       "      <th></th>\n",
       "      <th></th>\n",
       "      <th></th>\n",
       "      <th></th>\n",
       "      <th></th>\n",
       "      <th></th>\n",
       "    </tr>\n",
       "  </thead>\n",
       "  <tbody>\n",
       "    <tr>\n",
       "      <th>Subchr1_14</th>\n",
       "      <td>0.828571</td>\n",
       "      <td>0.419355</td>\n",
       "      <td>0.700000</td>\n",
       "      <td>1.000000</td>\n",
       "      <td>0.767442</td>\n",
       "      <td>0.482759</td>\n",
       "      <td>0.812500</td>\n",
       "    </tr>\n",
       "    <tr>\n",
       "      <th>Subchr1_23</th>\n",
       "      <td>0.956522</td>\n",
       "      <td>0.859375</td>\n",
       "      <td>0.800000</td>\n",
       "      <td>0.400000</td>\n",
       "      <td>0.860465</td>\n",
       "      <td>0.851852</td>\n",
       "      <td>0.444444</td>\n",
       "    </tr>\n",
       "    <tr>\n",
       "      <th>Subchr1_37</th>\n",
       "      <td>0.716216</td>\n",
       "      <td>0.584270</td>\n",
       "      <td>0.846154</td>\n",
       "      <td>0.875000</td>\n",
       "      <td>0.694444</td>\n",
       "      <td>0.248000</td>\n",
       "      <td>0.285714</td>\n",
       "    </tr>\n",
       "    <tr>\n",
       "      <th>Subchr1_38</th>\n",
       "      <td>0.800000</td>\n",
       "      <td>0.290909</td>\n",
       "      <td>0.875000</td>\n",
       "      <td>0.857143</td>\n",
       "      <td>0.803279</td>\n",
       "      <td>0.462687</td>\n",
       "      <td>0.454545</td>\n",
       "    </tr>\n",
       "    <tr>\n",
       "      <th>Subchr1_65</th>\n",
       "      <td>1.000000</td>\n",
       "      <td>1.000000</td>\n",
       "      <td>1.000000</td>\n",
       "      <td>0.500000</td>\n",
       "      <td>1.000000</td>\n",
       "      <td>0.978723</td>\n",
       "      <td>1.000000</td>\n",
       "    </tr>\n",
       "  </tbody>\n",
       "</table>\n",
       "</div>"
      ],
      "text/plain": [
       "             CA1_Ak5  CA1_Chrm3  CA1_Kif26a  CA1_Lingo2  CA1_Ptprg  CA3_Cadm2  \\\n",
       "index                                                                           \n",
       "Subchr1_14  0.828571   0.419355    0.700000    1.000000   0.767442   0.482759   \n",
       "Subchr1_23  0.956522   0.859375    0.800000    0.400000   0.860465   0.851852   \n",
       "Subchr1_37  0.716216   0.584270    0.846154    0.875000   0.694444   0.248000   \n",
       "Subchr1_38  0.800000   0.290909    0.875000    0.857143   0.803279   0.462687   \n",
       "Subchr1_65  1.000000   1.000000    1.000000    0.500000   1.000000   0.978723   \n",
       "\n",
       "            CA3_Efnb2  \n",
       "index                  \n",
       "Subchr1_14   0.812500  \n",
       "Subchr1_23   0.444444  \n",
       "Subchr1_37   0.285714  \n",
       "Subchr1_38   0.454545  \n",
       "Subchr1_65   1.000000  "
      ]
     },
     "execution_count": 5,
     "metadata": {},
     "output_type": "execute_result"
    }
   ],
   "source": [
    "dmr_rate = pd.read_msgpack('RelatedClusterAndDMR.mcg_rate.msg')\n",
    "dmr_rate.head()"
   ]
  },
  {
   "cell_type": "code",
   "execution_count": 6,
   "metadata": {
    "ExecuteTime": {
     "end_time": "2020-01-05T20:10:44.807826Z",
     "start_time": "2020-01-05T20:10:44.619691Z"
    },
    "papermill": {
     "duration": 0.036417,
     "end_time": "2020-01-21T06:15:18.870058",
     "exception": false,
     "start_time": "2020-01-21T06:15:18.833641",
     "status": "completed"
    },
    "tags": []
   },
   "outputs": [
    {
     "data": {
      "text/html": [
       "<div>\n",
       "<style scoped>\n",
       "    .dataframe tbody tr th:only-of-type {\n",
       "        vertical-align: middle;\n",
       "    }\n",
       "\n",
       "    .dataframe tbody tr th {\n",
       "        vertical-align: top;\n",
       "    }\n",
       "\n",
       "    .dataframe thead th {\n",
       "        text-align: right;\n",
       "    }\n",
       "</style>\n",
       "<table border=\"1\" class=\"dataframe\">\n",
       "  <thead>\n",
       "    <tr style=\"text-align: right;\">\n",
       "      <th></th>\n",
       "      <th>pvals_adj</th>\n",
       "      <th>gene_id</th>\n",
       "      <th>cluster_from</th>\n",
       "      <th>cluster_to</th>\n",
       "      <th>gene_name</th>\n",
       "      <th>-lgp</th>\n",
       "      <th>AUROC</th>\n",
       "    </tr>\n",
       "  </thead>\n",
       "  <tbody>\n",
       "    <tr>\n",
       "      <th>0</th>\n",
       "      <td>0.0</td>\n",
       "      <td>ENSMUSG00000098760.1</td>\n",
       "      <td>CA1_Chrm3</td>\n",
       "      <td>CA3_Cadm2</td>\n",
       "      <td>Gm2164</td>\n",
       "      <td>1000.0</td>\n",
       "      <td>0.999988</td>\n",
       "    </tr>\n",
       "    <tr>\n",
       "      <th>1</th>\n",
       "      <td>0.0</td>\n",
       "      <td>ENSMUSG00000009681.10</td>\n",
       "      <td>CA1_Chrm3</td>\n",
       "      <td>CA3_Cadm2</td>\n",
       "      <td>Bcr</td>\n",
       "      <td>1000.0</td>\n",
       "      <td>0.999958</td>\n",
       "    </tr>\n",
       "    <tr>\n",
       "      <th>2</th>\n",
       "      <td>0.0</td>\n",
       "      <td>ENSMUSG00000052105.17</td>\n",
       "      <td>CA1_Chrm3</td>\n",
       "      <td>CA3_Cadm2</td>\n",
       "      <td>Mtcl1</td>\n",
       "      <td>1000.0</td>\n",
       "      <td>0.999687</td>\n",
       "    </tr>\n",
       "    <tr>\n",
       "      <th>3</th>\n",
       "      <td>0.0</td>\n",
       "      <td>ENSMUSG00000048251.15</td>\n",
       "      <td>CA1_Chrm3</td>\n",
       "      <td>CA3_Cadm2</td>\n",
       "      <td>Bcl11b</td>\n",
       "      <td>1000.0</td>\n",
       "      <td>0.999449</td>\n",
       "    </tr>\n",
       "    <tr>\n",
       "      <th>4</th>\n",
       "      <td>0.0</td>\n",
       "      <td>ENSMUSG00000104283.1</td>\n",
       "      <td>CA1_Chrm3</td>\n",
       "      <td>CA3_Cadm2</td>\n",
       "      <td>Gm37459</td>\n",
       "      <td>1000.0</td>\n",
       "      <td>0.999421</td>\n",
       "    </tr>\n",
       "  </tbody>\n",
       "</table>\n",
       "</div>"
      ],
      "text/plain": [
       "   pvals_adj                gene_id cluster_from cluster_to gene_name    -lgp  \\\n",
       "0        0.0   ENSMUSG00000098760.1    CA1_Chrm3  CA3_Cadm2    Gm2164  1000.0   \n",
       "1        0.0  ENSMUSG00000009681.10    CA1_Chrm3  CA3_Cadm2       Bcr  1000.0   \n",
       "2        0.0  ENSMUSG00000052105.17    CA1_Chrm3  CA3_Cadm2     Mtcl1  1000.0   \n",
       "3        0.0  ENSMUSG00000048251.15    CA1_Chrm3  CA3_Cadm2    Bcl11b  1000.0   \n",
       "4        0.0   ENSMUSG00000104283.1    CA1_Chrm3  CA3_Cadm2   Gm37459  1000.0   \n",
       "\n",
       "      AUROC  \n",
       "0  0.999988  \n",
       "1  0.999958  \n",
       "2  0.999687  \n",
       "3  0.999449  \n",
       "4  0.999421  "
      ]
     },
     "execution_count": 6,
     "metadata": {},
     "output_type": "execute_result"
    }
   ],
   "source": [
    "dmg = pd.read_msgpack('RelatedDMG.msg')\n",
    "dmg['cluster_from'] = dmg['cluster_from'].str.replace(' ', '_')\n",
    "dmg['cluster_to'] = dmg['cluster_to'].str.replace(' ', '_')\n",
    "dmg.head()"
   ]
  },
  {
   "cell_type": "code",
   "execution_count": 7,
   "metadata": {
    "ExecuteTime": {
     "end_time": "2020-01-05T20:10:45.095478Z",
     "start_time": "2020-01-05T20:10:44.809586Z"
    },
    "papermill": {
     "duration": 0.134815,
     "end_time": "2020-01-21T06:15:19.011924",
     "exception": false,
     "start_time": "2020-01-21T06:15:18.877109",
     "status": "completed"
    },
    "tags": []
   },
   "outputs": [
    {
     "data": {
      "text/html": [
       "<div>\n",
       "<style scoped>\n",
       "    .dataframe tbody tr th:only-of-type {\n",
       "        vertical-align: middle;\n",
       "    }\n",
       "\n",
       "    .dataframe tbody tr th {\n",
       "        vertical-align: top;\n",
       "    }\n",
       "\n",
       "    .dataframe thead th {\n",
       "        text-align: right;\n",
       "    }\n",
       "</style>\n",
       "<table border=\"1\" class=\"dataframe\">\n",
       "  <thead>\n",
       "    <tr style=\"text-align: right;\">\n",
       "      <th></th>\n",
       "      <th>DMR</th>\n",
       "      <th>Gene</th>\n",
       "      <th>Corr</th>\n",
       "      <th>chrom</th>\n",
       "      <th>DMR_to_gene_dist</th>\n",
       "    </tr>\n",
       "  </thead>\n",
       "  <tbody>\n",
       "    <tr>\n",
       "      <th>1</th>\n",
       "      <td>Subchr1_79</td>\n",
       "      <td>ENSMUSG00000089699.1</td>\n",
       "      <td>0.314964</td>\n",
       "      <td>chr1</td>\n",
       "      <td>-405545.0</td>\n",
       "    </tr>\n",
       "    <tr>\n",
       "      <th>10</th>\n",
       "      <td>Subchr1_96</td>\n",
       "      <td>ENSMUSG00000089699.1</td>\n",
       "      <td>0.498140</td>\n",
       "      <td>chr1</td>\n",
       "      <td>-394994.0</td>\n",
       "    </tr>\n",
       "    <tr>\n",
       "      <th>36</th>\n",
       "      <td>Subchr1_135</td>\n",
       "      <td>ENSMUSG00000089699.1</td>\n",
       "      <td>0.335649</td>\n",
       "      <td>chr1</td>\n",
       "      <td>-370929.0</td>\n",
       "    </tr>\n",
       "    <tr>\n",
       "      <th>73</th>\n",
       "      <td>Subchr1_176</td>\n",
       "      <td>ENSMUSG00000089699.1</td>\n",
       "      <td>0.508618</td>\n",
       "      <td>chr1</td>\n",
       "      <td>-347283.0</td>\n",
       "    </tr>\n",
       "    <tr>\n",
       "      <th>83</th>\n",
       "      <td>Subchr1_177</td>\n",
       "      <td>ENSMUSG00000089699.1</td>\n",
       "      <td>0.577361</td>\n",
       "      <td>chr1</td>\n",
       "      <td>-347191.0</td>\n",
       "    </tr>\n",
       "  </tbody>\n",
       "</table>\n",
       "</div>"
      ],
      "text/plain": [
       "            DMR                  Gene      Corr chrom  DMR_to_gene_dist\n",
       "1    Subchr1_79  ENSMUSG00000089699.1  0.314964  chr1         -405545.0\n",
       "10   Subchr1_96  ENSMUSG00000089699.1  0.498140  chr1         -394994.0\n",
       "36  Subchr1_135  ENSMUSG00000089699.1  0.335649  chr1         -370929.0\n",
       "73  Subchr1_176  ENSMUSG00000089699.1  0.508618  chr1         -347283.0\n",
       "83  Subchr1_177  ENSMUSG00000089699.1  0.577361  chr1         -347191.0"
      ]
     },
     "execution_count": 7,
     "metadata": {},
     "output_type": "execute_result"
    }
   ],
   "source": [
    "corr = pd.read_msgpack('RelatedCorr.msg')\n",
    "corr.head()"
   ]
  },
  {
   "cell_type": "markdown",
   "metadata": {
    "papermill": {
     "duration": 0.007672,
     "end_time": "2020-01-21T06:15:19.028121",
     "exception": false,
     "start_time": "2020-01-21T06:15:19.020449",
     "status": "completed"
    },
    "tags": []
   },
   "source": [
    "## prepare DMR pairwise"
   ]
  },
  {
   "cell_type": "code",
   "execution_count": 8,
   "metadata": {
    "ExecuteTime": {
     "end_time": "2020-01-05T20:11:01.081138Z",
     "start_time": "2020-01-05T20:10:45.096786Z"
    },
    "papermill": {
     "duration": 2.47066,
     "end_time": "2020-01-21T06:15:21.506269",
     "exception": false,
     "start_time": "2020-01-21T06:15:19.035609",
     "status": "completed"
    },
    "tags": []
   },
   "outputs": [],
   "source": [
    "pairwise_dmr_index = {}\n",
    "for _, (cluster_from, cluster_to) in dmg[['cluster_from', 'cluster_to']].drop_duplicates().iterrows():\n",
    "    # cluster_from is hypo, cluster_to is hyper\n",
    "    rate_delta = (dmr_rate[cluster_to] - dmr_rate[cluster_from]) > delta_dmr_rate_cutoff\n",
    "    # cluster_to is not hypo, cluster_from is hypo, and rate_delta > delta_dmr_rate_cutoff\n",
    "    total_judge = (~dmr_hits[cluster_to]) & dmr_hits[cluster_from] & rate_delta\n",
    "\n",
    "    # remaining dmr is sig hypo in cluster_from and hyper in cluster_to\n",
    "    pairwise_dmr_index[(cluster_from, cluster_to)] = total_judge[total_judge].index"
   ]
  },
  {
   "cell_type": "markdown",
   "metadata": {
    "papermill": {
     "duration": 0.008181,
     "end_time": "2020-01-21T06:15:21.523378",
     "exception": false,
     "start_time": "2020-01-21T06:15:21.515197",
     "status": "completed"
    },
    "tags": []
   },
   "source": [
    "## final DMG DMR for pairwise cluster"
   ]
  },
  {
   "cell_type": "code",
   "execution_count": 9,
   "metadata": {
    "ExecuteTime": {
     "end_time": "2020-01-05T20:11:41.272195Z",
     "start_time": "2020-01-05T20:11:01.083717Z"
    },
    "papermill": {
     "duration": 4.528649,
     "end_time": "2020-01-21T06:15:26.059933",
     "exception": false,
     "start_time": "2020-01-21T06:15:21.531284",
     "status": "completed"
    },
    "scrolled": true,
    "tags": []
   },
   "outputs": [
    {
     "name": "stdout",
     "output_type": "stream",
     "text": [
      "CA1_Ak5 CA1_Chrm3 496 66\n",
      "CA1_Ak5 CA1_Kif26a 1311 100\n",
      "CA1_Ak5 CA1_Lingo2 2126 158\n",
      "CA1_Ak5 CA1_Ptprg 71 9\n",
      "CA1_Ak5 CA3_Cadm2 2678 246\n",
      "CA1_Ak5 CA3_Efnb2 1911 155\n",
      "CA1_Chrm3 CA1_Ak5 8712 122\n",
      "CA1_Chrm3 CA1_Kif26a 13071 275\n",
      "CA1_Chrm3 CA1_Lingo2 14297 359\n",
      "CA1_Chrm3 CA1_Ptprg 2685 60\n",
      "CA1_Chrm3 CA3_Cadm2 18516 470\n",
      "CA1_Chrm3 CA3_Efnb2 34351 670\n",
      "CA1_Kif26a CA1_Ak5 5813 186\n",
      "CA1_Kif26a CA1_Chrm3 4153 280\n",
      "CA1_Kif26a CA1_Lingo2 7991 420\n",
      "CA1_Kif26a CA1_Ptprg 2512 156\n",
      "CA1_Kif26a CA3_Cadm2 16519 687\n",
      "CA1_Kif26a CA3_Efnb2 19552 709\n",
      "CA1_Lingo2 CA1_Ak5 6613 249\n",
      "CA1_Lingo2 CA1_Chrm3 4754 317\n",
      "CA1_Lingo2 CA1_Kif26a 6139 343\n",
      "CA1_Lingo2 CA1_Ptprg 2998 168\n",
      "CA1_Lingo2 CA3_Cadm2 8313 523\n",
      "CA1_Lingo2 CA3_Efnb2 12697 635\n",
      "CA1_Ptprg CA1_Ak5 1155 31\n",
      "CA1_Ptprg CA1_Chrm3 748 60\n",
      "CA1_Ptprg CA1_Kif26a 3690 111\n",
      "CA1_Ptprg CA1_Lingo2 5206 199\n",
      "CA1_Ptprg CA3_Cadm2 9999 388\n",
      "CA1_Ptprg CA3_Efnb2 16240 461\n",
      "CA3_Cadm2 CA1_Ak5 16816 278\n",
      "CA3_Cadm2 CA1_Chrm3 10307 329\n",
      "CA3_Cadm2 CA1_Kif26a 27485 501\n",
      "CA3_Cadm2 CA1_Lingo2 16058 409\n",
      "CA3_Cadm2 CA1_Ptprg 12279 262\n",
      "CA3_Cadm2 CA3_Efnb2 13296 321\n",
      "CA3_Efnb2 CA1_Ak5 1900 50\n",
      "CA3_Efnb2 CA1_Chrm3 5600 303\n",
      "CA3_Efnb2 CA1_Kif26a 10935 395\n",
      "CA3_Efnb2 CA1_Lingo2 6402 304\n",
      "CA3_Efnb2 CA1_Ptprg 3545 156\n",
      "CA3_Efnb2 CA3_Cadm2 1503 147\n"
     ]
    }
   ],
   "source": [
    "with pd.HDFStore('FinalDMGDMR.h5') as f:\n",
    "    for (cluster_from, cluster_to), cluster_pair_df in dmg.groupby(\n",
    "        ['cluster_from', 'cluster_to']):\n",
    "        # first get related dmr and dmg separately\n",
    "        cluster_pair_related_dmr = pairwise_dmr_index[(cluster_from, cluster_to)]\n",
    "        cluster_pair_related_gene = cluster_pair_df['gene_id'].unique()\n",
    "        \n",
    "        # use them to filter corr\n",
    "        cluster_pair_related_corr = corr[\n",
    "            corr['DMR'].isin(cluster_pair_related_dmr)\n",
    "            & corr['Gene'].isin(cluster_pair_related_gene)]\n",
    "        \n",
    "        # then use remained dmr and dmg as final list\n",
    "        # the remaining DMR DMG is:\n",
    "        # - sig hypo in one clsuter compare to another\n",
    "        # - have sig correlateion\n",
    "        cluster_pair_related_dmr = pd.Series(cluster_pair_related_corr['DMR'].unique())\n",
    "        cluster_pair_related_gene = pd.Series(cluster_pair_related_corr['Gene'].unique())\n",
    "        \n",
    "        print(cluster_from, cluster_to, cluster_pair_related_dmr.size, cluster_pair_related_gene.size)\n",
    "        this_dict = {}\n",
    "        f[f'{cluster_from}/{cluster_to}/DMR'] = cluster_pair_related_dmr\n",
    "        f[f'{cluster_from}/{cluster_to}/Gene'] = cluster_pair_related_gene\n",
    "        f[f'{cluster_from}/{cluster_to}/Corr'] = cluster_pair_related_corr"
   ]
  },
  {
   "cell_type": "code",
   "execution_count": null,
   "metadata": {
    "papermill": {
     "duration": 0.011003,
     "end_time": "2020-01-21T06:15:26.082497",
     "exception": false,
     "start_time": "2020-01-21T06:15:26.071494",
     "status": "completed"
    },
    "tags": []
   },
   "outputs": [],
   "source": []
  },
  {
   "cell_type": "code",
   "execution_count": null,
   "metadata": {
    "papermill": {
     "duration": 0.010472,
     "end_time": "2020-01-21T06:15:26.104039",
     "exception": false,
     "start_time": "2020-01-21T06:15:26.093567",
     "status": "completed"
    },
    "tags": []
   },
   "outputs": [],
   "source": []
  },
  {
   "cell_type": "code",
   "execution_count": null,
   "metadata": {
    "papermill": {
     "duration": 0.010578,
     "end_time": "2020-01-21T06:15:26.125620",
     "exception": false,
     "start_time": "2020-01-21T06:15:26.115042",
     "status": "completed"
    },
    "tags": []
   },
   "outputs": [],
   "source": []
  }
 ],
 "metadata": {
  "celltoolbar": "Tags",
  "hide_input": false,
  "kernelspec": {
   "display_name": "Python 3",
   "language": "python",
   "name": "python3"
  },
  "language_info": {
   "codemirror_mode": {
    "name": "ipython",
    "version": 3
   },
   "file_extension": ".py",
   "mimetype": "text/x-python",
   "name": "python",
   "nbconvert_exporter": "python",
   "pygments_lexer": "ipython3",
   "version": "3.7.3"
  },
  "papermill": {
   "duration": 12.600356,
   "end_time": "2020-01-21T06:15:26.643535",
   "environment_variables": {},
   "exception": null,
   "input_path": "intersect_everything.ipynb",
   "output_path": "/home/hanliu/project/mouse_rostral_brain/study/CA1CA3SubtypeEnsemble/intersect_everything.ipynb",
   "parameters": {
    "delta_dmr_rate_cutoff": 0.3
   },
   "start_time": "2020-01-21T06:15:14.043179",
   "version": "1.0.1"
  },
  "toc": {
   "base_numbering": 1,
   "nav_menu": {},
   "number_sections": true,
   "sideBar": true,
   "skip_h1_title": true,
   "title_cell": "Table of Contents",
   "title_sidebar": "Contents",
   "toc_cell": false,
   "toc_position": {},
   "toc_section_display": true,
   "toc_window_display": true
  }
 },
 "nbformat": 4,
 "nbformat_minor": 2
}
