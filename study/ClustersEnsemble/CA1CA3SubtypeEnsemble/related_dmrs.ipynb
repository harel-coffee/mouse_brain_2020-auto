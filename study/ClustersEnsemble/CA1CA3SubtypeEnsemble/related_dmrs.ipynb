{
 "cells": [
  {
   "cell_type": "code",
   "execution_count": 1,
   "metadata": {
    "ExecuteTime": {
     "end_time": "2020-01-21T05:13:18.782825Z",
     "start_time": "2020-01-21T05:13:18.590275Z"
    },
    "papermill": {
     "duration": 0.202554,
     "end_time": "2020-01-21T06:14:36.309408",
     "exception": false,
     "start_time": "2020-01-21T06:14:36.106854",
     "status": "completed"
    },
    "tags": []
   },
   "outputs": [],
   "source": [
    "import pandas as pd\n",
    "import anndata"
   ]
  },
  {
   "cell_type": "markdown",
   "metadata": {
    "papermill": {
     "duration": 0.007394,
     "end_time": "2020-01-21T06:14:36.324966",
     "exception": false,
     "start_time": "2020-01-21T06:14:36.317572",
     "status": "completed"
    },
    "tags": []
   },
   "source": [
    "## Parameters"
   ]
  },
  {
   "cell_type": "code",
   "execution_count": 2,
   "metadata": {
    "ExecuteTime": {
     "end_time": "2020-01-21T05:13:47.838200Z",
     "start_time": "2020-01-21T05:13:47.835095Z"
    },
    "papermill": {
     "duration": 0.012155,
     "end_time": "2020-01-21T06:14:36.344248",
     "exception": false,
     "start_time": "2020-01-21T06:14:36.332093",
     "status": "completed"
    },
    "tags": [
     "parameters"
    ]
   },
   "outputs": [],
   "source": [
    "use_clusters = [\n",
    "    'CA1_Ak5', 'CA1_Chrm3', 'CA1_Kif26a', 'CA1_Ptprg',\n",
    "    'CA3_Cadm2', 'CA3_Efnb2', 'CA3-St18_Epha5', 'CA3-St18_Nuak1',\n",
    "    'CA3-St18_Tead1', 'DG_dg-all', 'DG-po_Bcl11a', 'DG-po_Calb2',\n",
    "    'DG-po_Kctd8', 'Gfra1_Gfra1', 'IG-CA2_Chrm3', 'IG-CA2_Peak1', 'IG-CA2_Xpr1'\n",
    "]\n",
    "hypo_dmr_hits_path = '/home/hanliu/project/mouse_rostral_brain/DMR/SubType/Total/TotalHits.HypoDMR.h5ad'\n",
    "# 'CA1_Lingo2' not include, because it co-cluster with RHP, probably an incomplete cluster"
   ]
  },
  {
   "cell_type": "code",
   "execution_count": 3,
   "metadata": {
    "papermill": {
     "duration": 0.011644,
     "end_time": "2020-01-21T06:14:36.362664",
     "exception": false,
     "start_time": "2020-01-21T06:14:36.351020",
     "status": "completed"
    },
    "tags": [
     "injected-parameters"
    ]
   },
   "outputs": [],
   "source": [
    "# Parameters\n",
    "use_clusters = [\"CA1_Ak5\", \"CA1_Chrm3\", \"CA1_Kif26a\", \"CA1_Lingo2\", \"CA1_Ptprg\", \"CA3_Cadm2\", \"CA3_Efnb2\"]\n",
    "hypo_dmr_hits_path = \"/home/hanliu/project/mouse_rostral_brain/DMR/SubType/Total/TotalHits.HypoDMR.h5ad\"\n"
   ]
  },
  {
   "cell_type": "markdown",
   "metadata": {
    "papermill": {
     "duration": 0.006736,
     "end_time": "2020-01-21T06:14:36.376526",
     "exception": false,
     "start_time": "2020-01-21T06:14:36.369790",
     "status": "completed"
    },
    "tags": []
   },
   "source": [
    "## Hypo Hits"
   ]
  },
  {
   "cell_type": "code",
   "execution_count": 4,
   "metadata": {
    "ExecuteTime": {
     "end_time": "2020-01-21T05:14:16.528010Z",
     "start_time": "2020-01-21T05:14:01.909346Z"
    },
    "papermill": {
     "duration": 15.038535,
     "end_time": "2020-01-21T06:14:51.422352",
     "exception": false,
     "start_time": "2020-01-21T06:14:36.383817",
     "status": "completed"
    },
    "tags": []
   },
   "outputs": [],
   "source": [
    "hypo_hits_adata = anndata.read_h5ad(hypo_dmr_hits_path)\n",
    "related_dmr = (hypo_hits_adata[:, use_clusters].X.sum(axis=1) > 0).A1\n",
    "use_dmr = hypo_hits_adata.obs_names[related_dmr]"
   ]
  },
  {
   "cell_type": "code",
   "execution_count": 5,
   "metadata": {
    "ExecuteTime": {
     "end_time": "2020-01-21T05:14:26.220292Z",
     "start_time": "2020-01-21T05:14:21.235038Z"
    },
    "papermill": {
     "duration": 2.916142,
     "end_time": "2020-01-21T06:14:54.346434",
     "exception": false,
     "start_time": "2020-01-21T06:14:51.430292",
     "status": "completed"
    },
    "tags": []
   },
   "outputs": [],
   "source": [
    "use_hits = hypo_hits_adata[use_dmr][:, use_clusters]\n",
    "use_hits.write_h5ad('RelatedClusterAndDMR.hypo_hits.h5ad')"
   ]
  },
  {
   "cell_type": "code",
   "execution_count": 6,
   "metadata": {
    "ExecuteTime": {
     "end_time": "2020-01-21T05:14:26.227756Z",
     "start_time": "2020-01-21T05:14:26.222146Z"
    },
    "papermill": {
     "duration": 0.016504,
     "end_time": "2020-01-21T06:14:54.370995",
     "exception": false,
     "start_time": "2020-01-21T06:14:54.354491",
     "status": "completed"
    },
    "tags": []
   },
   "outputs": [
    {
     "data": {
      "text/plain": [
       "AnnData object with n_obs × n_vars = 1182438 × 7 \n",
       "    obs: '#chr', 'start', 'end', 'number_of_dms'"
      ]
     },
     "execution_count": 6,
     "metadata": {},
     "output_type": "execute_result"
    }
   ],
   "source": [
    "use_hits"
   ]
  },
  {
   "cell_type": "markdown",
   "metadata": {
    "papermill": {
     "duration": 0.006927,
     "end_time": "2020-01-21T06:14:54.385061",
     "exception": false,
     "start_time": "2020-01-21T06:14:54.378134",
     "status": "completed"
    },
    "tags": []
   },
   "source": [
    "## DMR Rate"
   ]
  },
  {
   "cell_type": "code",
   "execution_count": 7,
   "metadata": {
    "ExecuteTime": {
     "end_time": "2020-01-21T05:29:45.250955Z",
     "start_time": "2020-01-21T05:29:36.243602Z"
    },
    "papermill": {
     "duration": 8.319084,
     "end_time": "2020-01-21T06:15:02.711149",
     "exception": false,
     "start_time": "2020-01-21T06:14:54.392065",
     "status": "completed"
    },
    "tags": []
   },
   "outputs": [],
   "source": [
    "with pd.HDFStore('/home/hanliu/project/mouse_rostral_brain/DMR/SubType/Total/DMRInfo.h5') as hdf:\n",
    "    dmr_rate = hdf['Rate']\n",
    "dmr_rate.index = hypo_hits_adata.obs_names\n",
    "use_rate = dmr_rate.loc[use_dmr, use_clusters]"
   ]
  },
  {
   "cell_type": "code",
   "execution_count": 8,
   "metadata": {
    "ExecuteTime": {
     "end_time": "2020-01-21T05:29:52.597445Z",
     "start_time": "2020-01-21T05:29:51.137446Z"
    },
    "papermill": {
     "duration": 0.58863,
     "end_time": "2020-01-21T06:15:03.308210",
     "exception": false,
     "start_time": "2020-01-21T06:15:02.719580",
     "status": "completed"
    },
    "tags": []
   },
   "outputs": [
    {
     "name": "stderr",
     "output_type": "stream",
     "text": [
      "/home/hanliu/miniconda3/envs/clustering/lib/python3.7/site-packages/ipykernel_launcher.py:1: FutureWarning: to_msgpack is deprecated and will be removed in a future version.\n",
      "It is recommended to use pyarrow for on-the-wire transmission of pandas objects.\n",
      "  \"\"\"Entry point for launching an IPython kernel.\n"
     ]
    }
   ],
   "source": [
    "use_rate.to_msgpack('RelatedClusterAndDMR.mcg_rate.msg')"
   ]
  },
  {
   "cell_type": "code",
   "execution_count": 9,
   "metadata": {
    "ExecuteTime": {
     "end_time": "2020-01-21T05:29:53.114003Z",
     "start_time": "2020-01-21T05:29:52.599246Z"
    },
    "papermill": {
     "duration": 0.378378,
     "end_time": "2020-01-21T06:15:03.695149",
     "exception": false,
     "start_time": "2020-01-21T06:15:03.316771",
     "status": "completed"
    },
    "tags": []
   },
   "outputs": [],
   "source": [
    "with open('related_dmrs.txt', 'w') as f:\n",
    "    for dmr in use_dmr:\n",
    "        f.write(dmr + '\\n')"
   ]
  },
  {
   "cell_type": "code",
   "execution_count": null,
   "metadata": {
    "papermill": {
     "duration": 0.007466,
     "end_time": "2020-01-21T06:15:03.710690",
     "exception": false,
     "start_time": "2020-01-21T06:15:03.703224",
     "status": "completed"
    },
    "tags": []
   },
   "outputs": [],
   "source": []
  },
  {
   "cell_type": "code",
   "execution_count": null,
   "metadata": {
    "papermill": {
     "duration": 0.007376,
     "end_time": "2020-01-21T06:15:03.725541",
     "exception": false,
     "start_time": "2020-01-21T06:15:03.718165",
     "status": "completed"
    },
    "tags": []
   },
   "outputs": [],
   "source": []
  },
  {
   "cell_type": "code",
   "execution_count": null,
   "metadata": {
    "papermill": {
     "duration": 0.007113,
     "end_time": "2020-01-21T06:15:03.740046",
     "exception": false,
     "start_time": "2020-01-21T06:15:03.732933",
     "status": "completed"
    },
    "tags": []
   },
   "outputs": [],
   "source": []
  },
  {
   "cell_type": "code",
   "execution_count": null,
   "metadata": {
    "papermill": {
     "duration": 0.007429,
     "end_time": "2020-01-21T06:15:03.754915",
     "exception": false,
     "start_time": "2020-01-21T06:15:03.747486",
     "status": "completed"
    },
    "tags": []
   },
   "outputs": [],
   "source": []
  },
  {
   "cell_type": "code",
   "execution_count": null,
   "metadata": {
    "papermill": {
     "duration": 0.007588,
     "end_time": "2020-01-21T06:15:03.770122",
     "exception": false,
     "start_time": "2020-01-21T06:15:03.762534",
     "status": "completed"
    },
    "tags": []
   },
   "outputs": [],
   "source": []
  },
  {
   "cell_type": "code",
   "execution_count": null,
   "metadata": {
    "papermill": {
     "duration": 0.007149,
     "end_time": "2020-01-21T06:15:03.784541",
     "exception": false,
     "start_time": "2020-01-21T06:15:03.777392",
     "status": "completed"
    },
    "tags": []
   },
   "outputs": [],
   "source": []
  },
  {
   "cell_type": "code",
   "execution_count": null,
   "metadata": {
    "papermill": {
     "duration": 0.007094,
     "end_time": "2020-01-21T06:15:03.798858",
     "exception": false,
     "start_time": "2020-01-21T06:15:03.791764",
     "status": "completed"
    },
    "tags": []
   },
   "outputs": [],
   "source": []
  }
 ],
 "metadata": {
  "hide_input": false,
  "kernelspec": {
   "display_name": "Python 3",
   "language": "python",
   "name": "python3"
  },
  "language_info": {
   "codemirror_mode": {
    "name": "ipython",
    "version": 3
   },
   "file_extension": ".py",
   "mimetype": "text/x-python",
   "name": "python",
   "nbconvert_exporter": "python",
   "pygments_lexer": "ipython3",
   "version": "3.7.3"
  },
  "papermill": {
   "duration": 29.697191,
   "end_time": "2020-01-21T06:15:04.913387",
   "environment_variables": {},
   "exception": null,
   "input_path": "related_dmrs.ipynb",
   "output_path": "/home/hanliu/project/mouse_rostral_brain/study/CA1CA3SubtypeEnsemble/related_dmrs.ipynb",
   "parameters": {
    "hypo_dmr_hits_path": "/home/hanliu/project/mouse_rostral_brain/DMR/SubType/Total/TotalHits.HypoDMR.h5ad",
    "use_clusters": [
     "CA1_Ak5",
     "CA1_Chrm3",
     "CA1_Kif26a",
     "CA1_Lingo2",
     "CA1_Ptprg",
     "CA3_Cadm2",
     "CA3_Efnb2"
    ]
   },
   "start_time": "2020-01-21T06:14:35.216196",
   "version": "1.0.1"
  },
  "toc": {
   "base_numbering": 1,
   "nav_menu": {},
   "number_sections": true,
   "sideBar": true,
   "skip_h1_title": true,
   "title_cell": "Table of Contents",
   "title_sidebar": "Contents",
   "toc_cell": false,
   "toc_position": {},
   "toc_section_display": true,
   "toc_window_display": true
  }
 },
 "nbformat": 4,
 "nbformat_minor": 2
}