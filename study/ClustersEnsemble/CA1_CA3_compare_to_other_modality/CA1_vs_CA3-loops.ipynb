{
 "cells": [
  {
   "cell_type": "code",
   "execution_count": 1,
   "metadata": {
    "ExecuteTime": {
     "end_time": "2020-01-05T23:18:41.901592Z",
     "start_time": "2020-01-05T23:18:41.296751Z"
    }
   },
   "outputs": [],
   "source": [
    "import pandas as pd\n",
    "import numpy as np\n",
    "import pybedtools\n",
    "import matplotlib.pyplot as plt\n",
    "import seaborn as sns"
   ]
  },
  {
   "cell_type": "code",
   "execution_count": 2,
   "metadata": {
    "ExecuteTime": {
     "end_time": "2020-01-05T23:18:42.914789Z",
     "start_time": "2020-01-05T23:18:42.911968Z"
    }
   },
   "outputs": [],
   "source": [
    "use_clusters = [\n",
    "    'CA1_Ak5', 'CA1_Chrm3', 'CA1_Kif26a', 'CA1_Ptprg',\n",
    "    'CA3_Cadm2', 'CA3_Efnb2', 'CA3-St18_Epha5', 'CA3-St18_Nuak1',\n",
    "    'CA3-St18_Tead1', 'DG_dg-all', 'DG-po_Bcl11a', 'DG-po_Calb2',\n",
    "    'DG-po_Kctd8', 'Gfra1_Gfra1', 'IG-CA2_Chrm3', 'IG-CA2_Peak1', 'IG-CA2_Xpr1'\n",
    "]"
   ]
  },
  {
   "cell_type": "markdown",
   "metadata": {},
   "source": [
    "## Final Results"
   ]
  },
  {
   "cell_type": "code",
   "execution_count": 3,
   "metadata": {
    "ExecuteTime": {
     "end_time": "2020-01-05T23:26:09.752208Z",
     "start_time": "2020-01-05T23:26:09.608921Z"
    }
   },
   "outputs": [],
   "source": [
    "cluster_from = 'CA1_Chrm3'\n",
    "cluster_to = 'CA3_Cadm2'\n",
    "\n",
    "with pd.HDFStore('FinalDMGDMR.h5') as f:\n",
    "    dmr = f[f'{cluster_from}/{cluster_to}/DMR']\n",
    "    dmg = f[f'{cluster_from}/{cluster_to}/Gene']\n",
    "    corr = f[f'{cluster_from}/{cluster_to}/Corr']"
   ]
  },
  {
   "cell_type": "markdown",
   "metadata": {},
   "source": [
    "## DMR Bed"
   ]
  },
  {
   "cell_type": "code",
   "execution_count": 4,
   "metadata": {
    "ExecuteTime": {
     "end_time": "2020-01-05T23:26:19.869295Z",
     "start_time": "2020-01-05T23:26:12.263996Z"
    }
   },
   "outputs": [],
   "source": [
    "with pd.HDFStore('/home/hanliu/project/mouse_rostral_brain/DMR/SubType/FilteredDMR.h5') as hdf:\n",
    "    dmr_bed_df = hdf['Bed']\n",
    "dmr_bed_df.index = 'Sub' + dmr_bed_df['#chr'] + '_' + dmr_bed_df.index.astype(str)\n",
    "dmr_bed_df = dmr_bed_df.loc[dmr].copy()\n",
    "dmr_bed = pybedtools.BedTool.from_dataframe(dmr_bed_df)"
   ]
  },
  {
   "cell_type": "code",
   "execution_count": 5,
   "metadata": {
    "ExecuteTime": {
     "end_time": "2020-01-05T23:26:19.878754Z",
     "start_time": "2020-01-05T23:26:19.872061Z"
    }
   },
   "outputs": [
    {
     "data": {
      "text/plain": [
       "(13038, 4)"
      ]
     },
     "execution_count": 5,
     "metadata": {},
     "output_type": "execute_result"
    }
   ],
   "source": [
    "dmr_bed_df.shape"
   ]
  },
  {
   "cell_type": "markdown",
   "metadata": {},
   "source": [
    "## Genemeta"
   ]
  },
  {
   "cell_type": "code",
   "execution_count": 7,
   "metadata": {
    "ExecuteTime": {
     "end_time": "2020-01-05T23:26:30.548103Z",
     "start_time": "2020-01-05T23:26:30.305794Z"
    }
   },
   "outputs": [],
   "source": [
    "gene_meta = pd.read_csv(\n",
    "    '/home/hanliu/ref/mouse/gencode/vm22/gencode.vM22.annotation.gene.flat.tsv.gz',\n",
    "    index_col='gene_id',\n",
    "    sep='\\t')\n",
    "gene_meta.index.name = 'gene'\n",
    "gene_name_to_id = {v: k for k, v in gene_meta['gene_name'].iteritems()}\n",
    "gene_idbase_to_id = {i.split('.')[0]: i for i in gene_meta.index}\n",
    "\n",
    "dmg_names = pd.Index(dmg.map(gene_meta['gene_name']))"
   ]
  },
  {
   "cell_type": "markdown",
   "metadata": {},
   "source": [
    "## snm3C loops"
   ]
  },
  {
   "cell_type": "code",
   "execution_count": 24,
   "metadata": {
    "ExecuteTime": {
     "end_time": "2020-01-05T23:31:12.450996Z",
     "start_time": "2020-01-05T23:31:12.433573Z"
    }
   },
   "outputs": [],
   "source": [
    "ca1_loop = pd.read_csv(\n",
    "    '/home/hanliu/project/mouse_rostral_brain/snm3C/loop/HICCUPS_CA1/10k/merged_loops.bedpe',\n",
    "    sep='\\t'\n",
    ")\n",
    "ca1_loop = ca1_loop.iloc[1:].copy()\n",
    "ca1_loop['#chr1'] = 'chr' + ca1_loop['#chr1']\n",
    "ca1_loop['chr2'] = 'chr' + ca1_loop['chr2']"
   ]
  },
  {
   "cell_type": "code",
   "execution_count": 51,
   "metadata": {
    "ExecuteTime": {
     "end_time": "2020-01-05T23:36:24.923022Z",
     "start_time": "2020-01-05T23:36:24.913806Z"
    },
    "scrolled": false
   },
   "outputs": [],
   "source": [
    "ca3_loop = pd.read_csv(\n",
    "    '/home/hanliu/project/mouse_rostral_brain/snm3C/loop/HICCUPS_CA3/10k/merged_loops.bedpe',\n",
    "    sep='\\t'\n",
    ")\n",
    "ca3_loop = ca3_loop.iloc[1:].copy()\n",
    "ca3_loop['#chr1'] = 'chr' + ca3_loop['#chr1']\n",
    "ca3_loop['chr2'] = 'chr' + ca3_loop['chr2']"
   ]
  },
  {
   "cell_type": "code",
   "execution_count": 50,
   "metadata": {
    "ExecuteTime": {
     "end_time": "2020-01-05T23:35:53.302317Z",
     "start_time": "2020-01-05T23:35:53.298020Z"
    }
   },
   "outputs": [],
   "source": [
    "def get_loop_anchor_bed_df(loop_df):\n",
    "    left = loop_df[['#chr1', 'x1', 'x2']]\n",
    "    left.columns = ['chr', 'start', 'end']\n",
    "    right = loop_df[['chr2', 'y1', 'y2']]\n",
    "    right.columns = ['chr', 'start', 'end']\n",
    "    loop_anchor = pd.concat([left, right])\n",
    "    loop_anchor = loop_anchor[~loop_anchor.duplicated()]\n",
    "    loop_anchor['start'] = loop_anchor['start'].astype(int)\n",
    "    loop_anchor['end'] = loop_anchor['end'].astype(int)\n",
    "    return loop_anchor"
   ]
  },
  {
   "cell_type": "code",
   "execution_count": 53,
   "metadata": {
    "ExecuteTime": {
     "end_time": "2020-01-05T23:36:47.969532Z",
     "start_time": "2020-01-05T23:36:47.956354Z"
    }
   },
   "outputs": [],
   "source": [
    "ca1_loop_anchor = get_loop_anchor_bed_df(ca1_loop)\n",
    "ca3_loop_anchor = get_loop_anchor_bed_df(ca3_loop)\n",
    "\n",
    "ca1_loop_anchor_bed = pybedtools.BedTool.from_dataframe(ca1_loop_anchor)\n",
    "ca3_loop_anchor_bed = pybedtools.BedTool.from_dataframe(ca3_loop_anchor)"
   ]
  },
  {
   "cell_type": "code",
   "execution_count": 64,
   "metadata": {
    "ExecuteTime": {
     "end_time": "2020-01-05T23:38:46.877839Z",
     "start_time": "2020-01-05T23:38:46.798083Z"
    }
   },
   "outputs": [
    {
     "data": {
      "text/plain": [
       "1856"
      ]
     },
     "execution_count": 64,
     "metadata": {},
     "output_type": "execute_result"
    }
   ],
   "source": [
    "dmr_bed.slop(b=10000, g='/home/hanliu/ref/mouse/genome/mm10.main.chrom.sizes').intersect(ca1_loop_anchor_bed, wa=True, u=True).count()"
   ]
  },
  {
   "cell_type": "code",
   "execution_count": 65,
   "metadata": {
    "ExecuteTime": {
     "end_time": "2020-01-05T23:38:48.475606Z",
     "start_time": "2020-01-05T23:38:48.399908Z"
    }
   },
   "outputs": [
    {
     "data": {
      "text/plain": [
       "13038"
      ]
     },
     "execution_count": 65,
     "metadata": {},
     "output_type": "execute_result"
    }
   ],
   "source": [
    "dmr_bed.count()"
   ]
  },
  {
   "cell_type": "code",
   "execution_count": 66,
   "metadata": {
    "ExecuteTime": {
     "end_time": "2020-01-05T23:38:48.557397Z",
     "start_time": "2020-01-05T23:38:48.554393Z"
    }
   },
   "outputs": [
    {
     "data": {
      "text/plain": [
       "7579"
      ]
     },
     "execution_count": 66,
     "metadata": {},
     "output_type": "execute_result"
    }
   ],
   "source": [
    "ca1_loop_anchor.shape[0]"
   ]
  },
  {
   "cell_type": "code",
   "execution_count": 72,
   "metadata": {
    "ExecuteTime": {
     "end_time": "2020-01-05T23:43:29.316352Z",
     "start_time": "2020-01-05T23:43:29.305641Z"
    }
   },
   "outputs": [
    {
     "data": {
      "text/html": [
       "<div>\n",
       "<style scoped>\n",
       "    .dataframe tbody tr th:only-of-type {\n",
       "        vertical-align: middle;\n",
       "    }\n",
       "\n",
       "    .dataframe tbody tr th {\n",
       "        vertical-align: top;\n",
       "    }\n",
       "\n",
       "    .dataframe thead th {\n",
       "        text-align: right;\n",
       "    }\n",
       "</style>\n",
       "<table border=\"1\" class=\"dataframe\">\n",
       "  <thead>\n",
       "    <tr style=\"text-align: right;\">\n",
       "      <th></th>\n",
       "      <th>chr</th>\n",
       "      <th>start</th>\n",
       "      <th>end</th>\n",
       "    </tr>\n",
       "  </thead>\n",
       "  <tbody>\n",
       "    <tr>\n",
       "      <th>2464</th>\n",
       "      <td>chr3</td>\n",
       "      <td>31050000</td>\n",
       "      <td>31060000</td>\n",
       "    </tr>\n",
       "    <tr>\n",
       "      <th>2464</th>\n",
       "      <td>chr3</td>\n",
       "      <td>31130000</td>\n",
       "      <td>31140000</td>\n",
       "    </tr>\n",
       "    <tr>\n",
       "      <th>2496</th>\n",
       "      <td>chr3</td>\n",
       "      <td>31140000</td>\n",
       "      <td>31150000</td>\n",
       "    </tr>\n",
       "    <tr>\n",
       "      <th>2496</th>\n",
       "      <td>chr3</td>\n",
       "      <td>31590000</td>\n",
       "      <td>31600000</td>\n",
       "    </tr>\n",
       "    <tr>\n",
       "      <th>2677</th>\n",
       "      <td>chr3</td>\n",
       "      <td>31610000</td>\n",
       "      <td>31620000</td>\n",
       "    </tr>\n",
       "    <tr>\n",
       "      <th>2671</th>\n",
       "      <td>chr3</td>\n",
       "      <td>31680000</td>\n",
       "      <td>31690000</td>\n",
       "    </tr>\n",
       "    <tr>\n",
       "      <th>2569</th>\n",
       "      <td>chr3</td>\n",
       "      <td>31790000</td>\n",
       "      <td>31800000</td>\n",
       "    </tr>\n",
       "    <tr>\n",
       "      <th>2569</th>\n",
       "      <td>chr3</td>\n",
       "      <td>32310000</td>\n",
       "      <td>32320000</td>\n",
       "    </tr>\n",
       "    <tr>\n",
       "      <th>2590</th>\n",
       "      <td>chr3</td>\n",
       "      <td>32330000</td>\n",
       "      <td>32340000</td>\n",
       "    </tr>\n",
       "    <tr>\n",
       "      <th>2590</th>\n",
       "      <td>chr3</td>\n",
       "      <td>32500000</td>\n",
       "      <td>32510000</td>\n",
       "    </tr>\n",
       "    <tr>\n",
       "      <th>2521</th>\n",
       "      <td>chr3</td>\n",
       "      <td>32610000</td>\n",
       "      <td>32620000</td>\n",
       "    </tr>\n",
       "    <tr>\n",
       "      <th>2521</th>\n",
       "      <td>chr3</td>\n",
       "      <td>32690000</td>\n",
       "      <td>32700000</td>\n",
       "    </tr>\n",
       "    <tr>\n",
       "      <th>2528</th>\n",
       "      <td>chr3</td>\n",
       "      <td>33300000</td>\n",
       "      <td>33310000</td>\n",
       "    </tr>\n",
       "    <tr>\n",
       "      <th>2599</th>\n",
       "      <td>chr3</td>\n",
       "      <td>33400000</td>\n",
       "      <td>33410000</td>\n",
       "    </tr>\n",
       "    <tr>\n",
       "      <th>2599</th>\n",
       "      <td>chr3</td>\n",
       "      <td>33740000</td>\n",
       "      <td>33750000</td>\n",
       "    </tr>\n",
       "    <tr>\n",
       "      <th>2537</th>\n",
       "      <td>chr3</td>\n",
       "      <td>33850000</td>\n",
       "      <td>33860000</td>\n",
       "    </tr>\n",
       "    <tr>\n",
       "      <th>2537</th>\n",
       "      <td>chr3</td>\n",
       "      <td>33920000</td>\n",
       "      <td>33930000</td>\n",
       "    </tr>\n",
       "  </tbody>\n",
       "</table>\n",
       "</div>"
      ],
      "text/plain": [
       "       chr     start       end\n",
       "2464  chr3  31050000  31060000\n",
       "2464  chr3  31130000  31140000\n",
       "2496  chr3  31140000  31150000\n",
       "2496  chr3  31590000  31600000\n",
       "2677  chr3  31610000  31620000\n",
       "2671  chr3  31680000  31690000\n",
       "2569  chr3  31790000  31800000\n",
       "2569  chr3  32310000  32320000\n",
       "2590  chr3  32330000  32340000\n",
       "2590  chr3  32500000  32510000\n",
       "2521  chr3  32610000  32620000\n",
       "2521  chr3  32690000  32700000\n",
       "2528  chr3  33300000  33310000\n",
       "2599  chr3  33400000  33410000\n",
       "2599  chr3  33740000  33750000\n",
       "2537  chr3  33850000  33860000\n",
       "2537  chr3  33920000  33930000"
      ]
     },
     "execution_count": 72,
     "metadata": {},
     "output_type": "execute_result"
    }
   ],
   "source": [
    "ca1_loop_anchor[(ca1_loop_anchor['chr'] == 'chr3') & \n",
    "                (ca1_loop_anchor['start'] > 31000000) & \n",
    "                (ca1_loop_anchor['end'] < 34000000)].sort_values('start')"
   ]
  },
  {
   "cell_type": "code",
   "execution_count": 79,
   "metadata": {
    "ExecuteTime": {
     "end_time": "2020-01-05T23:45:15.101562Z",
     "start_time": "2020-01-05T23:45:15.086736Z"
    }
   },
   "outputs": [
    {
     "data": {
      "text/html": [
       "<div>\n",
       "<style scoped>\n",
       "    .dataframe tbody tr th:only-of-type {\n",
       "        vertical-align: middle;\n",
       "    }\n",
       "\n",
       "    .dataframe tbody tr th {\n",
       "        vertical-align: top;\n",
       "    }\n",
       "\n",
       "    .dataframe thead th {\n",
       "        text-align: right;\n",
       "    }\n",
       "</style>\n",
       "<table border=\"1\" class=\"dataframe\">\n",
       "  <thead>\n",
       "    <tr style=\"text-align: right;\">\n",
       "      <th></th>\n",
       "      <th>#chr</th>\n",
       "      <th>start</th>\n",
       "      <th>end</th>\n",
       "      <th>number_of_dms</th>\n",
       "    </tr>\n",
       "  </thead>\n",
       "  <tbody>\n",
       "    <tr>\n",
       "      <th>Subchr3_47607</th>\n",
       "      <td>chr3</td>\n",
       "      <td>32334694</td>\n",
       "      <td>32334710</td>\n",
       "      <td>2</td>\n",
       "    </tr>\n",
       "    <tr>\n",
       "      <th>Subchr3_47608</th>\n",
       "      <td>chr3</td>\n",
       "      <td>32334774</td>\n",
       "      <td>32334789</td>\n",
       "      <td>3</td>\n",
       "    </tr>\n",
       "    <tr>\n",
       "      <th>Subchr3_47612</th>\n",
       "      <td>chr3</td>\n",
       "      <td>32335173</td>\n",
       "      <td>32335247</td>\n",
       "      <td>4</td>\n",
       "    </tr>\n",
       "    <tr>\n",
       "      <th>Subchr3_47616</th>\n",
       "      <td>chr3</td>\n",
       "      <td>32336672</td>\n",
       "      <td>32336727</td>\n",
       "      <td>2</td>\n",
       "    </tr>\n",
       "    <tr>\n",
       "      <th>Subchr3_47617</th>\n",
       "      <td>chr3</td>\n",
       "      <td>32336745</td>\n",
       "      <td>32336757</td>\n",
       "      <td>2</td>\n",
       "    </tr>\n",
       "    <tr>\n",
       "      <th>Subchr3_47618</th>\n",
       "      <td>chr3</td>\n",
       "      <td>32336894</td>\n",
       "      <td>32336947</td>\n",
       "      <td>3</td>\n",
       "    </tr>\n",
       "    <tr>\n",
       "      <th>Subchr3_47645</th>\n",
       "      <td>chr3</td>\n",
       "      <td>32346295</td>\n",
       "      <td>32346383</td>\n",
       "      <td>4</td>\n",
       "    </tr>\n",
       "    <tr>\n",
       "      <th>Subchr3_48017</th>\n",
       "      <td>chr3</td>\n",
       "      <td>32516726</td>\n",
       "      <td>32516775</td>\n",
       "      <td>2</td>\n",
       "    </tr>\n",
       "    <tr>\n",
       "      <th>Subchr3_48407</th>\n",
       "      <td>chr3</td>\n",
       "      <td>32692315</td>\n",
       "      <td>32692337</td>\n",
       "      <td>2</td>\n",
       "    </tr>\n",
       "    <tr>\n",
       "      <th>Subchr3_48471</th>\n",
       "      <td>chr3</td>\n",
       "      <td>32727694</td>\n",
       "      <td>32727698</td>\n",
       "      <td>2</td>\n",
       "    </tr>\n",
       "    <tr>\n",
       "      <th>Subchr3_48472</th>\n",
       "      <td>chr3</td>\n",
       "      <td>32727765</td>\n",
       "      <td>32727808</td>\n",
       "      <td>3</td>\n",
       "    </tr>\n",
       "    <tr>\n",
       "      <th>Subchr3_48514</th>\n",
       "      <td>chr3</td>\n",
       "      <td>32748870</td>\n",
       "      <td>32749090</td>\n",
       "      <td>3</td>\n",
       "    </tr>\n",
       "    <tr>\n",
       "      <th>Subchr3_48632</th>\n",
       "      <td>chr3</td>\n",
       "      <td>32816481</td>\n",
       "      <td>32816503</td>\n",
       "      <td>2</td>\n",
       "    </tr>\n",
       "    <tr>\n",
       "      <th>Subchr3_48862</th>\n",
       "      <td>chr3</td>\n",
       "      <td>32927906</td>\n",
       "      <td>32928062</td>\n",
       "      <td>3</td>\n",
       "    </tr>\n",
       "    <tr>\n",
       "      <th>Subchr3_48865</th>\n",
       "      <td>chr3</td>\n",
       "      <td>32930703</td>\n",
       "      <td>32930765</td>\n",
       "      <td>2</td>\n",
       "    </tr>\n",
       "    <tr>\n",
       "      <th>Subchr3_48883</th>\n",
       "      <td>chr3</td>\n",
       "      <td>32939631</td>\n",
       "      <td>32939705</td>\n",
       "      <td>2</td>\n",
       "    </tr>\n",
       "    <tr>\n",
       "      <th>Subchr3_48894</th>\n",
       "      <td>chr3</td>\n",
       "      <td>32943343</td>\n",
       "      <td>32943628</td>\n",
       "      <td>4</td>\n",
       "    </tr>\n",
       "    <tr>\n",
       "      <th>Subchr3_48896</th>\n",
       "      <td>chr3</td>\n",
       "      <td>32943788</td>\n",
       "      <td>32943814</td>\n",
       "      <td>3</td>\n",
       "    </tr>\n",
       "    <tr>\n",
       "      <th>Subchr3_48898</th>\n",
       "      <td>chr3</td>\n",
       "      <td>32944080</td>\n",
       "      <td>32944278</td>\n",
       "      <td>2</td>\n",
       "    </tr>\n",
       "    <tr>\n",
       "      <th>Subchr3_48899</th>\n",
       "      <td>chr3</td>\n",
       "      <td>32944676</td>\n",
       "      <td>32944854</td>\n",
       "      <td>3</td>\n",
       "    </tr>\n",
       "    <tr>\n",
       "      <th>Subchr3_48900</th>\n",
       "      <td>chr3</td>\n",
       "      <td>32944967</td>\n",
       "      <td>32945241</td>\n",
       "      <td>7</td>\n",
       "    </tr>\n",
       "    <tr>\n",
       "      <th>Subchr3_48903</th>\n",
       "      <td>chr3</td>\n",
       "      <td>32946358</td>\n",
       "      <td>32946830</td>\n",
       "      <td>6</td>\n",
       "    </tr>\n",
       "    <tr>\n",
       "      <th>Subchr3_48904</th>\n",
       "      <td>chr3</td>\n",
       "      <td>32947127</td>\n",
       "      <td>32947448</td>\n",
       "      <td>3</td>\n",
       "    </tr>\n",
       "    <tr>\n",
       "      <th>Subchr3_48908</th>\n",
       "      <td>chr3</td>\n",
       "      <td>32949379</td>\n",
       "      <td>32949614</td>\n",
       "      <td>4</td>\n",
       "    </tr>\n",
       "    <tr>\n",
       "      <th>Subchr3_48909</th>\n",
       "      <td>chr3</td>\n",
       "      <td>32949633</td>\n",
       "      <td>32949659</td>\n",
       "      <td>2</td>\n",
       "    </tr>\n",
       "    <tr>\n",
       "      <th>Subchr3_48910</th>\n",
       "      <td>chr3</td>\n",
       "      <td>32949784</td>\n",
       "      <td>32950047</td>\n",
       "      <td>3</td>\n",
       "    </tr>\n",
       "    <tr>\n",
       "      <th>Subchr3_48927</th>\n",
       "      <td>chr3</td>\n",
       "      <td>32955291</td>\n",
       "      <td>32955656</td>\n",
       "      <td>5</td>\n",
       "    </tr>\n",
       "    <tr>\n",
       "      <th>Subchr3_48928</th>\n",
       "      <td>chr3</td>\n",
       "      <td>32955713</td>\n",
       "      <td>32955772</td>\n",
       "      <td>3</td>\n",
       "    </tr>\n",
       "    <tr>\n",
       "      <th>Subchr3_48935</th>\n",
       "      <td>chr3</td>\n",
       "      <td>32959346</td>\n",
       "      <td>32959418</td>\n",
       "      <td>3</td>\n",
       "    </tr>\n",
       "    <tr>\n",
       "      <th>Subchr3_48938</th>\n",
       "      <td>chr3</td>\n",
       "      <td>32961766</td>\n",
       "      <td>32961824</td>\n",
       "      <td>3</td>\n",
       "    </tr>\n",
       "    <tr>\n",
       "      <th>...</th>\n",
       "      <td>...</td>\n",
       "      <td>...</td>\n",
       "      <td>...</td>\n",
       "      <td>...</td>\n",
       "    </tr>\n",
       "    <tr>\n",
       "      <th>Subchr3_49451</th>\n",
       "      <td>chr3</td>\n",
       "      <td>33150655</td>\n",
       "      <td>33151063</td>\n",
       "      <td>4</td>\n",
       "    </tr>\n",
       "    <tr>\n",
       "      <th>Subchr3_49506</th>\n",
       "      <td>chr3</td>\n",
       "      <td>33182805</td>\n",
       "      <td>33182866</td>\n",
       "      <td>2</td>\n",
       "    </tr>\n",
       "    <tr>\n",
       "      <th>Subchr3_49630</th>\n",
       "      <td>chr3</td>\n",
       "      <td>33264137</td>\n",
       "      <td>33264284</td>\n",
       "      <td>3</td>\n",
       "    </tr>\n",
       "    <tr>\n",
       "      <th>Subchr3_49657</th>\n",
       "      <td>chr3</td>\n",
       "      <td>33282451</td>\n",
       "      <td>33282613</td>\n",
       "      <td>5</td>\n",
       "    </tr>\n",
       "    <tr>\n",
       "      <th>Subchr3_49672</th>\n",
       "      <td>chr3</td>\n",
       "      <td>33294091</td>\n",
       "      <td>33294249</td>\n",
       "      <td>3</td>\n",
       "    </tr>\n",
       "    <tr>\n",
       "      <th>Subchr3_49673</th>\n",
       "      <td>chr3</td>\n",
       "      <td>33294495</td>\n",
       "      <td>33294814</td>\n",
       "      <td>3</td>\n",
       "    </tr>\n",
       "    <tr>\n",
       "      <th>Subchr3_49690</th>\n",
       "      <td>chr3</td>\n",
       "      <td>33306597</td>\n",
       "      <td>33306642</td>\n",
       "      <td>2</td>\n",
       "    </tr>\n",
       "    <tr>\n",
       "      <th>Subchr3_49691</th>\n",
       "      <td>chr3</td>\n",
       "      <td>33306952</td>\n",
       "      <td>33307040</td>\n",
       "      <td>3</td>\n",
       "    </tr>\n",
       "    <tr>\n",
       "      <th>Subchr3_49699</th>\n",
       "      <td>chr3</td>\n",
       "      <td>33309078</td>\n",
       "      <td>33309185</td>\n",
       "      <td>3</td>\n",
       "    </tr>\n",
       "    <tr>\n",
       "      <th>Subchr3_49701</th>\n",
       "      <td>chr3</td>\n",
       "      <td>33309710</td>\n",
       "      <td>33309787</td>\n",
       "      <td>4</td>\n",
       "    </tr>\n",
       "    <tr>\n",
       "      <th>Subchr3_49794</th>\n",
       "      <td>chr3</td>\n",
       "      <td>33362735</td>\n",
       "      <td>33362770</td>\n",
       "      <td>2</td>\n",
       "    </tr>\n",
       "    <tr>\n",
       "      <th>Subchr3_49799</th>\n",
       "      <td>chr3</td>\n",
       "      <td>33363322</td>\n",
       "      <td>33363336</td>\n",
       "      <td>2</td>\n",
       "    </tr>\n",
       "    <tr>\n",
       "      <th>Subchr3_49811</th>\n",
       "      <td>chr3</td>\n",
       "      <td>33369683</td>\n",
       "      <td>33369723</td>\n",
       "      <td>2</td>\n",
       "    </tr>\n",
       "    <tr>\n",
       "      <th>Subchr3_49812</th>\n",
       "      <td>chr3</td>\n",
       "      <td>33369987</td>\n",
       "      <td>33370081</td>\n",
       "      <td>3</td>\n",
       "    </tr>\n",
       "    <tr>\n",
       "      <th>Subchr3_49884</th>\n",
       "      <td>chr3</td>\n",
       "      <td>33398175</td>\n",
       "      <td>33398220</td>\n",
       "      <td>2</td>\n",
       "    </tr>\n",
       "    <tr>\n",
       "      <th>Subchr3_49890</th>\n",
       "      <td>chr3</td>\n",
       "      <td>33399758</td>\n",
       "      <td>33399935</td>\n",
       "      <td>2</td>\n",
       "    </tr>\n",
       "    <tr>\n",
       "      <th>Subchr3_49891</th>\n",
       "      <td>chr3</td>\n",
       "      <td>33400116</td>\n",
       "      <td>33400283</td>\n",
       "      <td>3</td>\n",
       "    </tr>\n",
       "    <tr>\n",
       "      <th>Subchr3_49892</th>\n",
       "      <td>chr3</td>\n",
       "      <td>33400962</td>\n",
       "      <td>33401007</td>\n",
       "      <td>3</td>\n",
       "    </tr>\n",
       "    <tr>\n",
       "      <th>Subchr3_49894</th>\n",
       "      <td>chr3</td>\n",
       "      <td>33401106</td>\n",
       "      <td>33401258</td>\n",
       "      <td>2</td>\n",
       "    </tr>\n",
       "    <tr>\n",
       "      <th>Subchr3_49896</th>\n",
       "      <td>chr3</td>\n",
       "      <td>33401660</td>\n",
       "      <td>33401851</td>\n",
       "      <td>6</td>\n",
       "    </tr>\n",
       "    <tr>\n",
       "      <th>Subchr3_49906</th>\n",
       "      <td>chr3</td>\n",
       "      <td>33406542</td>\n",
       "      <td>33406695</td>\n",
       "      <td>4</td>\n",
       "    </tr>\n",
       "    <tr>\n",
       "      <th>Subchr3_49926</th>\n",
       "      <td>chr3</td>\n",
       "      <td>33417327</td>\n",
       "      <td>33417379</td>\n",
       "      <td>2</td>\n",
       "    </tr>\n",
       "    <tr>\n",
       "      <th>Subchr3_50012</th>\n",
       "      <td>chr3</td>\n",
       "      <td>33471883</td>\n",
       "      <td>33471988</td>\n",
       "      <td>3</td>\n",
       "    </tr>\n",
       "    <tr>\n",
       "      <th>Subchr3_50064</th>\n",
       "      <td>chr3</td>\n",
       "      <td>33502517</td>\n",
       "      <td>33502614</td>\n",
       "      <td>3</td>\n",
       "    </tr>\n",
       "    <tr>\n",
       "      <th>Subchr3_50065</th>\n",
       "      <td>chr3</td>\n",
       "      <td>33502935</td>\n",
       "      <td>33503123</td>\n",
       "      <td>2</td>\n",
       "    </tr>\n",
       "    <tr>\n",
       "      <th>Subchr3_50070</th>\n",
       "      <td>chr3</td>\n",
       "      <td>33504409</td>\n",
       "      <td>33504551</td>\n",
       "      <td>3</td>\n",
       "    </tr>\n",
       "    <tr>\n",
       "      <th>Subchr3_50075</th>\n",
       "      <td>chr3</td>\n",
       "      <td>33507488</td>\n",
       "      <td>33507507</td>\n",
       "      <td>2</td>\n",
       "    </tr>\n",
       "    <tr>\n",
       "      <th>Subchr3_50127</th>\n",
       "      <td>chr3</td>\n",
       "      <td>33539093</td>\n",
       "      <td>33539276</td>\n",
       "      <td>3</td>\n",
       "    </tr>\n",
       "    <tr>\n",
       "      <th>Subchr3_50128</th>\n",
       "      <td>chr3</td>\n",
       "      <td>33539378</td>\n",
       "      <td>33539494</td>\n",
       "      <td>4</td>\n",
       "    </tr>\n",
       "    <tr>\n",
       "      <th>Subchr3_50133</th>\n",
       "      <td>chr3</td>\n",
       "      <td>33540559</td>\n",
       "      <td>33540571</td>\n",
       "      <td>2</td>\n",
       "    </tr>\n",
       "  </tbody>\n",
       "</table>\n",
       "<p>285 rows × 4 columns</p>\n",
       "</div>"
      ],
      "text/plain": [
       "               #chr     start       end  number_of_dms\n",
       "Subchr3_47607  chr3  32334694  32334710              2\n",
       "Subchr3_47608  chr3  32334774  32334789              3\n",
       "Subchr3_47612  chr3  32335173  32335247              4\n",
       "Subchr3_47616  chr3  32336672  32336727              2\n",
       "Subchr3_47617  chr3  32336745  32336757              2\n",
       "...             ...       ...       ...            ...\n",
       "Subchr3_50070  chr3  33504409  33504551              3\n",
       "Subchr3_50075  chr3  33507488  33507507              2\n",
       "Subchr3_50127  chr3  33539093  33539276              3\n",
       "Subchr3_50128  chr3  33539378  33539494              4\n",
       "Subchr3_50133  chr3  33540559  33540571              2\n",
       "\n",
       "[285 rows x 4 columns]"
      ]
     },
     "execution_count": 79,
     "metadata": {},
     "output_type": "execute_result"
    }
   ],
   "source": [
    "dmr_bed_df[(dmr_bed_df['#chr'] == 'chr3') & \n",
    "                (dmr_bed_df['start'] > 31000000) & \n",
    "                (dmr_bed_df['end'] < 34000000)].sort_values('start')"
   ]
  },
  {
   "cell_type": "code",
   "execution_count": null,
   "metadata": {},
   "outputs": [],
   "source": []
  }
 ],
 "metadata": {
  "hide_input": false,
  "kernelspec": {
   "display_name": "Python 3",
   "language": "python",
   "name": "python3"
  },
  "language_info": {
   "codemirror_mode": {
    "name": "ipython",
    "version": 3
   },
   "file_extension": ".py",
   "mimetype": "text/x-python",
   "name": "python",
   "nbconvert_exporter": "python",
   "pygments_lexer": "ipython3",
   "version": "3.7.3"
  },
  "toc": {
   "base_numbering": 1,
   "nav_menu": {},
   "number_sections": true,
   "sideBar": true,
   "skip_h1_title": true,
   "title_cell": "Table of Contents",
   "title_sidebar": "Contents",
   "toc_cell": false,
   "toc_position": {},
   "toc_section_display": true,
   "toc_window_display": true
  }
 },
 "nbformat": 4,
 "nbformat_minor": 2
}
