{
 "cells": [
  {
   "cell_type": "code",
   "execution_count": 1,
   "metadata": {
    "ExecuteTime": {
     "end_time": "2020-01-05T21:50:32.699027Z",
     "start_time": "2020-01-05T21:50:32.090802Z"
    }
   },
   "outputs": [],
   "source": [
    "import pandas as pd\n",
    "import numpy as np\n",
    "import pybedtools\n",
    "import matplotlib.pyplot as plt\n",
    "import seaborn as sns"
   ]
  },
  {
   "cell_type": "code",
   "execution_count": 2,
   "metadata": {
    "ExecuteTime": {
     "end_time": "2020-01-05T21:50:33.115217Z",
     "start_time": "2020-01-05T21:50:33.112573Z"
    }
   },
   "outputs": [],
   "source": [
    "use_clusters = [\n",
    "    'CA1_Ak5', 'CA1_Chrm3', 'CA1_Kif26a', 'CA1_Ptprg',\n",
    "    'CA3_Cadm2', 'CA3_Efnb2', 'CA3-St18_Epha5', 'CA3-St18_Nuak1',\n",
    "    'CA3-St18_Tead1', 'DG_dg-all', 'DG-po_Bcl11a', 'DG-po_Calb2',\n",
    "    'DG-po_Kctd8', 'Gfra1_Gfra1', 'IG-CA2_Chrm3', 'IG-CA2_Peak1', 'IG-CA2_Xpr1'\n",
    "]"
   ]
  },
  {
   "cell_type": "markdown",
   "metadata": {},
   "source": [
    "## Final Results"
   ]
  },
  {
   "cell_type": "code",
   "execution_count": 3,
   "metadata": {
    "ExecuteTime": {
     "end_time": "2020-01-05T21:50:33.852063Z",
     "start_time": "2020-01-05T21:50:33.720975Z"
    }
   },
   "outputs": [],
   "source": [
    "cluster_from = 'CA1_Chrm3'\n",
    "cluster_to = 'CA3_Cadm2'\n",
    "\n",
    "with pd.HDFStore('FinalDMGDMR.h5') as f:\n",
    "    dmr = f[f'{cluster_from}/{cluster_to}/DMR']\n",
    "    dmg = f[f'{cluster_from}/{cluster_to}/Gene']\n",
    "    corr = f[f'{cluster_from}/{cluster_to}/Corr']"
   ]
  },
  {
   "cell_type": "markdown",
   "metadata": {},
   "source": [
    "## DMR Bed"
   ]
  },
  {
   "cell_type": "code",
   "execution_count": 4,
   "metadata": {
    "ExecuteTime": {
     "end_time": "2020-01-05T21:50:41.538445Z",
     "start_time": "2020-01-05T21:50:34.292048Z"
    }
   },
   "outputs": [],
   "source": [
    "with pd.HDFStore('/home/hanliu/project/mouse_rostral_brain/DMR/SubType/FilteredDMR.h5') as hdf:\n",
    "    dmr_bed_df = hdf['Bed']\n",
    "dmr_bed_df.index = 'Sub' + dmr_bed_df['#chr'] + '_' + dmr_bed_df.index.astype(str)\n",
    "dmr_bed_df = dmr_bed_df.loc[dmr].copy()\n",
    "dmr_bed = pybedtools.BedTool.from_dataframe(dmr_bed_df)"
   ]
  },
  {
   "cell_type": "code",
   "execution_count": 5,
   "metadata": {
    "ExecuteTime": {
     "end_time": "2020-01-05T21:50:41.545551Z",
     "start_time": "2020-01-05T21:50:41.540398Z"
    }
   },
   "outputs": [
    {
     "data": {
      "text/plain": [
       "(13038, 4)"
      ]
     },
     "execution_count": 5,
     "metadata": {},
     "output_type": "execute_result"
    }
   ],
   "source": [
    "dmr_bed_df.shape"
   ]
  },
  {
   "cell_type": "markdown",
   "metadata": {},
   "source": [
    "## Genemeta"
   ]
  },
  {
   "cell_type": "code",
   "execution_count": 118,
   "metadata": {
    "ExecuteTime": {
     "end_time": "2020-01-05T23:26:37.317416Z",
     "start_time": "2020-01-05T23:26:37.064477Z"
    }
   },
   "outputs": [],
   "source": [
    "gene_meta = pd.read_csv(\n",
    "    '/home/hanliu/ref/mouse/gencode/vm22/gencode.vM22.annotation.gene.flat.tsv.gz',\n",
    "    index_col='gene_id',\n",
    "    sep='\\t')\n",
    "gene_meta.index.name = 'gene'\n",
    "gene_name_to_id = {v: k for k, v in gene_meta['gene_name'].iteritems()}\n",
    "gene_idbase_to_id = {i.split('.')[0]: i for i in gene_meta.index}\n",
    "\n",
    "dmg_names = pd.Index(dmg.map(gene_meta['gene_name']))"
   ]
  },
  {
   "cell_type": "markdown",
   "metadata": {},
   "source": [
    "## ATAC"
   ]
  },
  {
   "cell_type": "code",
   "execution_count": 60,
   "metadata": {
    "ExecuteTime": {
     "end_time": "2020-01-05T22:02:04.361868Z",
     "start_time": "2020-01-05T22:02:03.690025Z"
    }
   },
   "outputs": [
    {
     "data": {
      "text/plain": [
       "133993"
      ]
     },
     "execution_count": 60,
     "metadata": {},
     "output_type": "execute_result"
    }
   ],
   "source": [
    "peak_bed = pybedtools.BedTool(\n",
    "    f'/home/hanliu/project/mouse_rostral_brain/study/mCClusterATACPeak/SubType/{cluster_from}.sorted.peak.bed'\n",
    ")\n",
    "peak_bed.count()"
   ]
  },
  {
   "cell_type": "code",
   "execution_count": 109,
   "metadata": {
    "ExecuteTime": {
     "end_time": "2020-01-05T23:03:29.303691Z",
     "start_time": "2020-01-05T23:03:28.940675Z"
    }
   },
   "outputs": [
    {
     "data": {
      "text/plain": [
       "(0.7780334407117656, 13038)"
      ]
     },
     "execution_count": 109,
     "metadata": {},
     "output_type": "execute_result"
    }
   ],
   "source": [
    "dmr_open = dmr_bed.intersect(peak_bed, wa=True, v=True)\n",
    "dmr_open.saveas('OpenDMR.bed')\n",
    "\n",
    "dmr_open.count() / dmr_bed.count(), dmr_bed.count()"
   ]
  },
  {
   "cell_type": "markdown",
   "metadata": {},
   "source": [
    "## RNA"
   ]
  },
  {
   "cell_type": "code",
   "execution_count": 11,
   "metadata": {
    "ExecuteTime": {
     "end_time": "2020-01-05T21:51:07.450900Z",
     "start_time": "2020-01-05T21:51:07.277668Z"
    }
   },
   "outputs": [
    {
     "name": "stderr",
     "output_type": "stream",
     "text": [
      "/home/hanliu/miniconda3/envs/clustering/lib/python3.7/site-packages/IPython/core/interactiveshell.py:3326: FutureWarning: The read_msgpack is deprecated and will be removed in a future version.\n",
      "It is recommended to use pyarrow for on-the-wire transmission of pandas objects.\n",
      "  exec(code_obj, self.user_global_ns, self.user_ns)\n"
     ]
    }
   ],
   "source": [
    "rna_cpm = pd.read_msgpack(\n",
    "    '/home/hanliu/project/mouse_rostral_brain/study/mCClusterRNACPM/SubType.CPM.msg'\n",
    ")\n",
    "rna_portion = pd.read_msgpack(\n",
    "    '/home/hanliu/project/mouse_rostral_brain/study/mCClusterRNACPM/SubType.exp_portion.msg'\n",
    ")"
   ]
  },
  {
   "cell_type": "code",
   "execution_count": 108,
   "metadata": {
    "ExecuteTime": {
     "end_time": "2020-01-05T23:02:45.673764Z",
     "start_time": "2020-01-05T23:02:45.556144Z"
    }
   },
   "outputs": [
    {
     "data": {
      "image/png": "[encoded data removed]",
      "text/plain": [
       "<Figure size 432x288 with 1 Axes>"
      ]
     },
     "metadata": {
      "needs_background": "light"
     },
     "output_type": "display_data"
    }
   ],
   "source": [
    "gene_has_rna = rna_cpm.index & dmg_names\n",
    "try:\n",
    "    use_data = rna_cpm.loc[gene_has_rna, [cluster_from.replace('_', ' '), cluster_to.replace('_', ' ')]]\n",
    "    plot_data = np.log1p(use_data).unstack().reset_index()\n",
    "    plot_data.columns = ['Cluster', 'Gene', 'log1p CPM']\n",
    "    sns.violinplot(data=plot_data, x='Cluster', y='log1p CPM')\n",
    "except KeyError:\n",
    "    pass"
   ]
  },
  {
   "cell_type": "code",
   "execution_count": null,
   "metadata": {},
   "outputs": [],
   "source": []
  },
  {
   "cell_type": "code",
   "execution_count": null,
   "metadata": {},
   "outputs": [],
   "source": []
  },
  {
   "cell_type": "code",
   "execution_count": null,
   "metadata": {},
   "outputs": [],
   "source": []
  },
  {
   "cell_type": "code",
   "execution_count": null,
   "metadata": {
    "scrolled": false
   },
   "outputs": [],
   "source": []
  },
  {
   "cell_type": "code",
   "execution_count": null,
   "metadata": {},
   "outputs": [],
   "source": []
  },
  {
   "cell_type": "code",
   "execution_count": null,
   "metadata": {},
   "outputs": [],
   "source": []
  },
  {
   "cell_type": "code",
   "execution_count": null,
   "metadata": {},
   "outputs": [],
   "source": []
  }
 ],
 "metadata": {
  "hide_input": false,
  "kernelspec": {
   "display_name": "Python 3",
   "language": "python",
   "name": "python3"
  },
  "language_info": {
   "codemirror_mode": {
    "name": "ipython",
    "version": 3
   },
   "file_extension": ".py",
   "mimetype": "text/x-python",
   "name": "python",
   "nbconvert_exporter": "python",
   "pygments_lexer": "ipython3",
   "version": "3.7.3"
  },
  "toc": {
   "base_numbering": 1,
   "nav_menu": {},
   "number_sections": true,
   "sideBar": true,
   "skip_h1_title": true,
   "title_cell": "Table of Contents",
   "title_sidebar": "Contents",
   "toc_cell": false,
   "toc_position": {},
   "toc_section_display": true,
   "toc_window_display": true
  }
 },
 "nbformat": 4,
 "nbformat_minor": 2
}
