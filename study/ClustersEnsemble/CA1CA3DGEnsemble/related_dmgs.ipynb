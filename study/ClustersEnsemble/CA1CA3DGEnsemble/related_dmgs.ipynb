{
 "cells": [
  {
   "cell_type": "code",
   "execution_count": 1,
   "metadata": {
    "ExecuteTime": {
     "end_time": "2020-01-05T03:07:45.193821Z",
     "start_time": "2020-01-05T03:07:44.826539Z"
    },
    "papermill": {
     "duration": 0.445116,
     "end_time": "2020-01-23T21:19:15.550812",
     "exception": false,
     "start_time": "2020-01-23T21:19:15.105696",
     "status": "completed"
    },
    "tags": []
   },
   "outputs": [],
   "source": [
    "import pandas as pd\n",
    "import numpy as np\n",
    "import pathlib\n",
    "import seaborn as sns\n",
    "import matplotlib.pyplot as plt"
   ]
  },
  {
   "cell_type": "markdown",
   "metadata": {
    "papermill": {
     "duration": 0.006325,
     "end_time": "2020-01-23T21:19:15.566423",
     "exception": false,
     "start_time": "2020-01-23T21:19:15.560098",
     "status": "completed"
    },
    "tags": []
   },
   "source": [
    "## Parameters"
   ]
  },
  {
   "cell_type": "code",
   "execution_count": 2,
   "metadata": {
    "ExecuteTime": {
     "end_time": "2020-01-05T03:07:46.030231Z",
     "start_time": "2020-01-05T03:07:46.027746Z"
    },
    "papermill": {
     "duration": 0.014303,
     "end_time": "2020-01-23T21:19:15.587308",
     "exception": false,
     "start_time": "2020-01-23T21:19:15.573005",
     "status": "completed"
    },
    "tags": [
     "parameters"
    ]
   },
   "outputs": [],
   "source": [
    "use_clusters = [\n",
    "    'CA1_Ak5', 'CA1_Chrm3', 'CA1_Kif26a', 'CA1_Ptprg',\n",
    "    'CA3_Cadm2', 'CA3_Efnb2', 'CA3-St18_Epha5', 'CA3-St18_Nuak1',\n",
    "    'CA3-St18_Tead1', 'DG_dg-all', 'DG-po_Bcl11a', 'DG-po_Calb2',\n",
    "    'DG-po_Kctd8', 'Gfra1_Gfra1', 'IG-CA2_Chrm3', 'IG-CA2_Peak1', 'IG-CA2_Xpr1'\n",
    "]\n",
    "# 'CA1_Lingo2' not include, because it co-cluster with RHP, probably an incomplete cluster\n",
    "\n",
    "auroc_cutoff = 0.85"
   ]
  },
  {
   "cell_type": "code",
   "execution_count": 3,
   "metadata": {
    "papermill": {
     "duration": 0.012785,
     "end_time": "2020-01-23T21:19:15.605717",
     "exception": false,
     "start_time": "2020-01-23T21:19:15.592932",
     "status": "completed"
    },
    "tags": [
     "injected-parameters"
    ]
   },
   "outputs": [],
   "source": [
    "# Parameters\n",
    "auroc_cutoff = 0.85\n",
    "use_clusters = [\"CA1 Chrm3\", \"CA3 Cadm2\", \"DG dg-all\"]\n"
   ]
  },
  {
   "cell_type": "code",
   "execution_count": 4,
   "metadata": {
    "ExecuteTime": {
     "end_time": "2020-01-05T03:07:47.308153Z",
     "start_time": "2020-01-05T03:07:47.306084Z"
    },
    "papermill": {
     "duration": 0.012364,
     "end_time": "2020-01-23T21:19:15.623955",
     "exception": false,
     "start_time": "2020-01-23T21:19:15.611591",
     "status": "completed"
    },
    "tags": []
   },
   "outputs": [],
   "source": [
    "use_clusters = [i.replace('_', ' ') for i in use_clusters]\n",
    "use_clusters = set(use_clusters)"
   ]
  },
  {
   "cell_type": "markdown",
   "metadata": {
    "papermill": {
     "duration": 0.005509,
     "end_time": "2020-01-23T21:19:15.636632",
     "exception": false,
     "start_time": "2020-01-23T21:19:15.631123",
     "status": "completed"
    },
    "tags": []
   },
   "source": [
    "## Total DMG results"
   ]
  },
  {
   "cell_type": "code",
   "execution_count": 5,
   "metadata": {
    "ExecuteTime": {
     "end_time": "2020-01-05T03:08:00.085604Z",
     "start_time": "2020-01-05T03:07:48.656069Z"
    },
    "papermill": {
     "duration": 15.372426,
     "end_time": "2020-01-23T21:19:31.015603",
     "exception": false,
     "start_time": "2020-01-23T21:19:15.643177",
     "status": "completed"
    },
    "tags": []
   },
   "outputs": [
    {
     "name": "stderr",
     "output_type": "stream",
     "text": [
      "/home/hanliu/miniconda3/envs/clustering/lib/python3.7/site-packages/IPython/core/interactiveshell.py:3326: FutureWarning: The read_msgpack is deprecated and will be removed in a future version.\n",
      "It is recommended to use pyarrow for on-the-wire transmission of pandas objects.\n",
      "  exec(code_obj, self.user_global_ns, self.user_ns)\n"
     ]
    }
   ],
   "source": [
    "total_dmg = pd.read_msgpack(\n",
    "    '/home/hanliu/project/mouse_rostral_brain/study/ClusterMethylMarker/SubTypePairwiseDEG/TotalPairwiseMarker.msg'\n",
    ")"
   ]
  },
  {
   "cell_type": "code",
   "execution_count": 6,
   "metadata": {
    "ExecuteTime": {
     "end_time": "2020-01-05T03:08:03.320591Z",
     "start_time": "2020-01-05T03:08:01.461480Z"
    },
    "papermill": {
     "duration": 2.552403,
     "end_time": "2020-01-23T21:19:33.576172",
     "exception": false,
     "start_time": "2020-01-23T21:19:31.023769",
     "status": "completed"
    },
    "tags": []
   },
   "outputs": [],
   "source": [
    "use_dmg = total_dmg[total_dmg['cluster_from'].isin(use_clusters) & \n",
    "                    total_dmg['cluster_to'].isin(use_clusters) & \n",
    "                    (total_dmg['AUROC'] > auroc_cutoff)]\n",
    "gene_counts = use_dmg['gene_name'].value_counts()"
   ]
  },
  {
   "cell_type": "code",
   "execution_count": 7,
   "metadata": {
    "ExecuteTime": {
     "end_time": "2020-01-05T03:08:36.388858Z",
     "start_time": "2020-01-05T03:08:36.250378Z"
    },
    "papermill": {
     "duration": 0.016715,
     "end_time": "2020-01-23T21:19:33.600623",
     "exception": false,
     "start_time": "2020-01-23T21:19:33.583908",
     "status": "completed"
    },
    "tags": []
   },
   "outputs": [
    {
     "name": "stderr",
     "output_type": "stream",
     "text": [
      "/home/hanliu/miniconda3/envs/clustering/lib/python3.7/site-packages/ipykernel_launcher.py:1: FutureWarning: to_msgpack is deprecated and will be removed in a future version.\n",
      "It is recommended to use pyarrow for on-the-wire transmission of pandas objects.\n",
      "  \"\"\"Entry point for launching an IPython kernel.\n"
     ]
    }
   ],
   "source": [
    "use_dmg.to_msgpack('RelatedDMG.msg')"
   ]
  },
  {
   "cell_type": "code",
   "execution_count": 8,
   "metadata": {
    "ExecuteTime": {
     "end_time": "2020-01-05T03:29:38.265844Z",
     "start_time": "2020-01-05T03:29:38.247966Z"
    },
    "papermill": {
     "duration": 0.013636,
     "end_time": "2020-01-23T21:19:33.621135",
     "exception": false,
     "start_time": "2020-01-23T21:19:33.607499",
     "status": "completed"
    },
    "tags": []
   },
   "outputs": [],
   "source": [
    "with open('related_dmgs.txt', 'w') as f:\n",
    "    for g in use_dmg['gene_id'].unique():\n",
    "        f.write(g + '\\n')"
   ]
  },
  {
   "cell_type": "code",
   "execution_count": null,
   "metadata": {
    "papermill": {
     "duration": 0.006905,
     "end_time": "2020-01-23T21:19:33.633614",
     "exception": false,
     "start_time": "2020-01-23T21:19:33.626709",
     "status": "completed"
    },
    "tags": []
   },
   "outputs": [],
   "source": []
  },
  {
   "cell_type": "code",
   "execution_count": null,
   "metadata": {
    "papermill": {
     "duration": 0.006406,
     "end_time": "2020-01-23T21:19:33.645531",
     "exception": false,
     "start_time": "2020-01-23T21:19:33.639125",
     "status": "completed"
    },
    "tags": []
   },
   "outputs": [],
   "source": []
  }
 ],
 "metadata": {
  "hide_input": false,
  "kernelspec": {
   "display_name": "Python 3",
   "language": "python",
   "name": "python3"
  },
  "language_info": {
   "codemirror_mode": {
    "name": "ipython",
    "version": 3
   },
   "file_extension": ".py",
   "mimetype": "text/x-python",
   "name": "python",
   "nbconvert_exporter": "python",
   "pygments_lexer": "ipython3",
   "version": "3.7.3"
  },
  "papermill": {
   "duration": 21.658771,
   "end_time": "2020-01-23T21:19:35.761583",
   "environment_variables": {},
   "exception": null,
   "input_path": "related_dmgs.ipynb",
   "output_path": "/home/hanliu/project/mouse_rostral_brain/study/ClustersEnsemble/CA1CA3DGEnsemble/related_dmgs.ipynb",
   "parameters": {
    "auroc_cutoff": 0.85,
    "use_clusters": [
     "CA1 Chrm3",
     "CA3 Cadm2",
     "DG dg-all"
    ]
   },
   "start_time": "2020-01-23T21:19:14.102812",
   "version": "1.0.1"
  },
  "toc": {
   "base_numbering": 1,
   "nav_menu": {},
   "number_sections": true,
   "sideBar": true,
   "skip_h1_title": true,
   "title_cell": "Table of Contents",
   "title_sidebar": "Contents",
   "toc_cell": false,
   "toc_position": {},
   "toc_section_display": true,
   "toc_window_display": true
  }
 },
 "nbformat": 4,
 "nbformat_minor": 2
}