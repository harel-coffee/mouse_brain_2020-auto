{
 "cells": [
  {
   "cell_type": "code",
   "execution_count": 1,
   "metadata": {
    "ExecuteTime": {
     "end_time": "2020-01-05T20:10:41.756573Z",
     "start_time": "2020-01-05T20:10:41.552873Z"
    },
    "papermill": {
     "duration": 0.284007,
     "end_time": "2020-01-23T21:20:23.234710",
     "exception": false,
     "start_time": "2020-01-23T21:20:22.950703",
     "status": "completed"
    },
    "tags": []
   },
   "outputs": [],
   "source": [
    "import pandas as pd\n",
    "import anndata\n",
    "import numpy"
   ]
  },
  {
   "cell_type": "markdown",
   "metadata": {
    "papermill": {
     "duration": 0.007256,
     "end_time": "2020-01-23T21:20:23.250210",
     "exception": false,
     "start_time": "2020-01-23T21:20:23.242954",
     "status": "completed"
    },
    "tags": []
   },
   "source": [
    "## Parameter"
   ]
  },
  {
   "cell_type": "code",
   "execution_count": 2,
   "metadata": {
    "ExecuteTime": {
     "end_time": "2020-01-05T20:10:41.760082Z",
     "start_time": "2020-01-05T20:10:41.758118Z"
    },
    "papermill": {
     "duration": 0.014477,
     "end_time": "2020-01-23T21:20:23.271339",
     "exception": false,
     "start_time": "2020-01-23T21:20:23.256862",
     "status": "completed"
    },
    "tags": [
     "parameters"
    ]
   },
   "outputs": [],
   "source": [
    "delta_dmr_rate_cutoff = 0.3"
   ]
  },
  {
   "cell_type": "code",
   "execution_count": 3,
   "metadata": {
    "papermill": {
     "duration": 0.013071,
     "end_time": "2020-01-23T21:20:23.291555",
     "exception": false,
     "start_time": "2020-01-23T21:20:23.278484",
     "status": "completed"
    },
    "tags": [
     "injected-parameters"
    ]
   },
   "outputs": [],
   "source": [
    "# Parameters\n",
    "delta_dmr_rate_cutoff = 0.3\n"
   ]
  },
  {
   "cell_type": "markdown",
   "metadata": {
    "papermill": {
     "duration": 0.007548,
     "end_time": "2020-01-23T21:20:23.305811",
     "exception": false,
     "start_time": "2020-01-23T21:20:23.298263",
     "status": "completed"
    },
    "tags": []
   },
   "source": [
    "## Load Data"
   ]
  },
  {
   "cell_type": "code",
   "execution_count": 4,
   "metadata": {
    "ExecuteTime": {
     "end_time": "2020-01-05T20:10:43.908909Z",
     "start_time": "2020-01-05T20:10:41.761309Z"
    },
    "papermill": {
     "duration": 3.391955,
     "end_time": "2020-01-23T21:20:26.704365",
     "exception": false,
     "start_time": "2020-01-23T21:20:23.312410",
     "status": "completed"
    },
    "tags": []
   },
   "outputs": [
    {
     "data": {
      "text/html": [
       "<div>\n",
       "<style scoped>\n",
       "    .dataframe tbody tr th:only-of-type {\n",
       "        vertical-align: middle;\n",
       "    }\n",
       "\n",
       "    .dataframe tbody tr th {\n",
       "        vertical-align: top;\n",
       "    }\n",
       "\n",
       "    .dataframe thead th {\n",
       "        text-align: right;\n",
       "    }\n",
       "</style>\n",
       "<table border=\"1\" class=\"dataframe\">\n",
       "  <thead>\n",
       "    <tr style=\"text-align: right;\">\n",
       "      <th>index</th>\n",
       "      <th>CA1_Chrm3</th>\n",
       "      <th>CA3_Cadm2</th>\n",
       "      <th>DG_dg-all</th>\n",
       "    </tr>\n",
       "    <tr>\n",
       "      <th>index</th>\n",
       "      <th></th>\n",
       "      <th></th>\n",
       "      <th></th>\n",
       "    </tr>\n",
       "  </thead>\n",
       "  <tbody>\n",
       "    <tr>\n",
       "      <th>Subchr1_14</th>\n",
       "      <td>True</td>\n",
       "      <td>False</td>\n",
       "      <td>False</td>\n",
       "    </tr>\n",
       "    <tr>\n",
       "      <th>Subchr1_37</th>\n",
       "      <td>False</td>\n",
       "      <td>True</td>\n",
       "      <td>False</td>\n",
       "    </tr>\n",
       "    <tr>\n",
       "      <th>Subchr1_38</th>\n",
       "      <td>True</td>\n",
       "      <td>True</td>\n",
       "      <td>False</td>\n",
       "    </tr>\n",
       "    <tr>\n",
       "      <th>Subchr1_61</th>\n",
       "      <td>False</td>\n",
       "      <td>False</td>\n",
       "      <td>True</td>\n",
       "    </tr>\n",
       "    <tr>\n",
       "      <th>Subchr1_79</th>\n",
       "      <td>True</td>\n",
       "      <td>False</td>\n",
       "      <td>True</td>\n",
       "    </tr>\n",
       "  </tbody>\n",
       "</table>\n",
       "</div>"
      ],
      "text/plain": [
       "index       CA1_Chrm3  CA3_Cadm2  DG_dg-all\n",
       "index                                      \n",
       "Subchr1_14       True      False      False\n",
       "Subchr1_37      False       True      False\n",
       "Subchr1_38       True       True      False\n",
       "Subchr1_61      False      False       True\n",
       "Subchr1_79       True      False       True"
      ]
     },
     "execution_count": 4,
     "metadata": {},
     "output_type": "execute_result"
    }
   ],
   "source": [
    "dmr_hits = anndata.read_h5ad('RelatedClusterAndDMR.hypo_hits.h5ad')\n",
    "dmr_hits = pd.DataFrame(dmr_hits.X.astype(bool).todense(), index=dmr_hits.obs_names, columns=dmr_hits.var_names)\n",
    "dmr_hits.head()"
   ]
  },
  {
   "cell_type": "code",
   "execution_count": 5,
   "metadata": {
    "ExecuteTime": {
     "end_time": "2020-01-05T20:10:44.618387Z",
     "start_time": "2020-01-05T20:10:43.910311Z"
    },
    "papermill": {
     "duration": 0.211821,
     "end_time": "2020-01-23T21:20:26.924594",
     "exception": false,
     "start_time": "2020-01-23T21:20:26.712773",
     "status": "completed"
    },
    "tags": []
   },
   "outputs": [
    {
     "name": "stderr",
     "output_type": "stream",
     "text": [
      "/home/hanliu/miniconda3/envs/clustering/lib/python3.7/site-packages/IPython/core/interactiveshell.py:3326: FutureWarning: The read_msgpack is deprecated and will be removed in a future version.\n",
      "It is recommended to use pyarrow for on-the-wire transmission of pandas objects.\n",
      "  exec(code_obj, self.user_global_ns, self.user_ns)\n"
     ]
    },
    {
     "data": {
      "text/html": [
       "<div>\n",
       "<style scoped>\n",
       "    .dataframe tbody tr th:only-of-type {\n",
       "        vertical-align: middle;\n",
       "    }\n",
       "\n",
       "    .dataframe tbody tr th {\n",
       "        vertical-align: top;\n",
       "    }\n",
       "\n",
       "    .dataframe thead th {\n",
       "        text-align: right;\n",
       "    }\n",
       "</style>\n",
       "<table border=\"1\" class=\"dataframe\">\n",
       "  <thead>\n",
       "    <tr style=\"text-align: right;\">\n",
       "      <th></th>\n",
       "      <th>CA1_Chrm3</th>\n",
       "      <th>CA3_Cadm2</th>\n",
       "      <th>DG_dg-all</th>\n",
       "    </tr>\n",
       "    <tr>\n",
       "      <th>index</th>\n",
       "      <th></th>\n",
       "      <th></th>\n",
       "      <th></th>\n",
       "    </tr>\n",
       "  </thead>\n",
       "  <tbody>\n",
       "    <tr>\n",
       "      <th>Subchr1_14</th>\n",
       "      <td>0.419355</td>\n",
       "      <td>0.482759</td>\n",
       "      <td>0.672131</td>\n",
       "    </tr>\n",
       "    <tr>\n",
       "      <th>Subchr1_37</th>\n",
       "      <td>0.584270</td>\n",
       "      <td>0.248000</td>\n",
       "      <td>0.669725</td>\n",
       "    </tr>\n",
       "    <tr>\n",
       "      <th>Subchr1_38</th>\n",
       "      <td>0.290909</td>\n",
       "      <td>0.462687</td>\n",
       "      <td>0.907407</td>\n",
       "    </tr>\n",
       "    <tr>\n",
       "      <th>Subchr1_61</th>\n",
       "      <td>0.574713</td>\n",
       "      <td>0.659341</td>\n",
       "      <td>0.418182</td>\n",
       "    </tr>\n",
       "    <tr>\n",
       "      <th>Subchr1_79</th>\n",
       "      <td>0.357143</td>\n",
       "      <td>0.510638</td>\n",
       "      <td>0.067797</td>\n",
       "    </tr>\n",
       "  </tbody>\n",
       "</table>\n",
       "</div>"
      ],
      "text/plain": [
       "            CA1_Chrm3  CA3_Cadm2  DG_dg-all\n",
       "index                                      \n",
       "Subchr1_14   0.419355   0.482759   0.672131\n",
       "Subchr1_37   0.584270   0.248000   0.669725\n",
       "Subchr1_38   0.290909   0.462687   0.907407\n",
       "Subchr1_61   0.574713   0.659341   0.418182\n",
       "Subchr1_79   0.357143   0.510638   0.067797"
      ]
     },
     "execution_count": 5,
     "metadata": {},
     "output_type": "execute_result"
    }
   ],
   "source": [
    "dmr_rate = pd.read_msgpack('RelatedClusterAndDMR.mcg_rate.msg')\n",
    "dmr_rate.head()"
   ]
  },
  {
   "cell_type": "code",
   "execution_count": 6,
   "metadata": {
    "ExecuteTime": {
     "end_time": "2020-01-05T20:10:44.807826Z",
     "start_time": "2020-01-05T20:10:44.619691Z"
    },
    "papermill": {
     "duration": 0.02884,
     "end_time": "2020-01-23T21:20:26.962191",
     "exception": false,
     "start_time": "2020-01-23T21:20:26.933351",
     "status": "completed"
    },
    "tags": []
   },
   "outputs": [
    {
     "data": {
      "text/html": [
       "<div>\n",
       "<style scoped>\n",
       "    .dataframe tbody tr th:only-of-type {\n",
       "        vertical-align: middle;\n",
       "    }\n",
       "\n",
       "    .dataframe tbody tr th {\n",
       "        vertical-align: top;\n",
       "    }\n",
       "\n",
       "    .dataframe thead th {\n",
       "        text-align: right;\n",
       "    }\n",
       "</style>\n",
       "<table border=\"1\" class=\"dataframe\">\n",
       "  <thead>\n",
       "    <tr style=\"text-align: right;\">\n",
       "      <th></th>\n",
       "      <th>pvals_adj</th>\n",
       "      <th>gene_id</th>\n",
       "      <th>cluster_from</th>\n",
       "      <th>cluster_to</th>\n",
       "      <th>gene_name</th>\n",
       "      <th>-lgp</th>\n",
       "      <th>AUROC</th>\n",
       "    </tr>\n",
       "  </thead>\n",
       "  <tbody>\n",
       "    <tr>\n",
       "      <th>0</th>\n",
       "      <td>0.0</td>\n",
       "      <td>ENSMUSG00000098760.1</td>\n",
       "      <td>CA1_Chrm3</td>\n",
       "      <td>DG_dg-all</td>\n",
       "      <td>Gm2164</td>\n",
       "      <td>1000.0</td>\n",
       "      <td>0.999939</td>\n",
       "    </tr>\n",
       "    <tr>\n",
       "      <th>1</th>\n",
       "      <td>0.0</td>\n",
       "      <td>ENSMUSG00000054728.16</td>\n",
       "      <td>CA1_Chrm3</td>\n",
       "      <td>DG_dg-all</td>\n",
       "      <td>Phactr1</td>\n",
       "      <td>1000.0</td>\n",
       "      <td>0.999897</td>\n",
       "    </tr>\n",
       "    <tr>\n",
       "      <th>2</th>\n",
       "      <td>0.0</td>\n",
       "      <td>ENSMUSG00000034275.18</td>\n",
       "      <td>CA1_Chrm3</td>\n",
       "      <td>DG_dg-all</td>\n",
       "      <td>Igsf9b</td>\n",
       "      <td>1000.0</td>\n",
       "      <td>0.999874</td>\n",
       "    </tr>\n",
       "    <tr>\n",
       "      <th>3</th>\n",
       "      <td>0.0</td>\n",
       "      <td>ENSMUSG00000027674.16</td>\n",
       "      <td>CA1_Chrm3</td>\n",
       "      <td>DG_dg-all</td>\n",
       "      <td>Pex5l</td>\n",
       "      <td>1000.0</td>\n",
       "      <td>0.999839</td>\n",
       "    </tr>\n",
       "    <tr>\n",
       "      <th>4</th>\n",
       "      <td>0.0</td>\n",
       "      <td>ENSMUSG00000057716.6</td>\n",
       "      <td>CA1_Chrm3</td>\n",
       "      <td>DG_dg-all</td>\n",
       "      <td>Tmem178b</td>\n",
       "      <td>1000.0</td>\n",
       "      <td>0.999798</td>\n",
       "    </tr>\n",
       "  </tbody>\n",
       "</table>\n",
       "</div>"
      ],
      "text/plain": [
       "   pvals_adj                gene_id cluster_from cluster_to gene_name    -lgp  \\\n",
       "0        0.0   ENSMUSG00000098760.1    CA1_Chrm3  DG_dg-all    Gm2164  1000.0   \n",
       "1        0.0  ENSMUSG00000054728.16    CA1_Chrm3  DG_dg-all   Phactr1  1000.0   \n",
       "2        0.0  ENSMUSG00000034275.18    CA1_Chrm3  DG_dg-all    Igsf9b  1000.0   \n",
       "3        0.0  ENSMUSG00000027674.16    CA1_Chrm3  DG_dg-all     Pex5l  1000.0   \n",
       "4        0.0   ENSMUSG00000057716.6    CA1_Chrm3  DG_dg-all  Tmem178b  1000.0   \n",
       "\n",
       "      AUROC  \n",
       "0  0.999939  \n",
       "1  0.999897  \n",
       "2  0.999874  \n",
       "3  0.999839  \n",
       "4  0.999798  "
      ]
     },
     "execution_count": 6,
     "metadata": {},
     "output_type": "execute_result"
    }
   ],
   "source": [
    "dmg = pd.read_msgpack('RelatedDMG.msg')\n",
    "dmg['cluster_from'] = dmg['cluster_from'].str.replace(' ', '_')\n",
    "dmg['cluster_to'] = dmg['cluster_to'].str.replace(' ', '_')\n",
    "dmg.head()"
   ]
  },
  {
   "cell_type": "code",
   "execution_count": 7,
   "metadata": {
    "ExecuteTime": {
     "end_time": "2020-01-05T20:10:45.095478Z",
     "start_time": "2020-01-05T20:10:44.809586Z"
    },
    "papermill": {
     "duration": 0.100392,
     "end_time": "2020-01-23T21:20:27.070414",
     "exception": false,
     "start_time": "2020-01-23T21:20:26.970022",
     "status": "completed"
    },
    "tags": []
   },
   "outputs": [
    {
     "data": {
      "text/html": [
       "<div>\n",
       "<style scoped>\n",
       "    .dataframe tbody tr th:only-of-type {\n",
       "        vertical-align: middle;\n",
       "    }\n",
       "\n",
       "    .dataframe tbody tr th {\n",
       "        vertical-align: top;\n",
       "    }\n",
       "\n",
       "    .dataframe thead th {\n",
       "        text-align: right;\n",
       "    }\n",
       "</style>\n",
       "<table border=\"1\" class=\"dataframe\">\n",
       "  <thead>\n",
       "    <tr style=\"text-align: right;\">\n",
       "      <th></th>\n",
       "      <th>DMR</th>\n",
       "      <th>Gene</th>\n",
       "      <th>Corr</th>\n",
       "      <th>chrom</th>\n",
       "      <th>DMR_to_gene_dist</th>\n",
       "    </tr>\n",
       "  </thead>\n",
       "  <tbody>\n",
       "    <tr>\n",
       "      <th>154</th>\n",
       "      <td>Subchr1_284</td>\n",
       "      <td>ENSMUSG00000051951.5</td>\n",
       "      <td>0.316056</td>\n",
       "      <td>chr1</td>\n",
       "      <td>-480154.0</td>\n",
       "    </tr>\n",
       "    <tr>\n",
       "      <th>168</th>\n",
       "      <td>Subchr1_298</td>\n",
       "      <td>ENSMUSG00000051951.5</td>\n",
       "      <td>0.452112</td>\n",
       "      <td>chr1</td>\n",
       "      <td>-472864.0</td>\n",
       "    </tr>\n",
       "    <tr>\n",
       "      <th>204</th>\n",
       "      <td>Subchr1_308</td>\n",
       "      <td>ENSMUSG00000051951.5</td>\n",
       "      <td>0.396429</td>\n",
       "      <td>chr1</td>\n",
       "      <td>-467551.0</td>\n",
       "    </tr>\n",
       "    <tr>\n",
       "      <th>212</th>\n",
       "      <td>Subchr1_309</td>\n",
       "      <td>ENSMUSG00000051951.5</td>\n",
       "      <td>0.372922</td>\n",
       "      <td>chr1</td>\n",
       "      <td>-466636.0</td>\n",
       "    </tr>\n",
       "    <tr>\n",
       "      <th>273</th>\n",
       "      <td>Subchr1_328</td>\n",
       "      <td>ENSMUSG00000051951.5</td>\n",
       "      <td>0.536126</td>\n",
       "      <td>chr1</td>\n",
       "      <td>-454392.5</td>\n",
       "    </tr>\n",
       "  </tbody>\n",
       "</table>\n",
       "</div>"
      ],
      "text/plain": [
       "             DMR                  Gene      Corr chrom  DMR_to_gene_dist\n",
       "154  Subchr1_284  ENSMUSG00000051951.5  0.316056  chr1         -480154.0\n",
       "168  Subchr1_298  ENSMUSG00000051951.5  0.452112  chr1         -472864.0\n",
       "204  Subchr1_308  ENSMUSG00000051951.5  0.396429  chr1         -467551.0\n",
       "212  Subchr1_309  ENSMUSG00000051951.5  0.372922  chr1         -466636.0\n",
       "273  Subchr1_328  ENSMUSG00000051951.5  0.536126  chr1         -454392.5"
      ]
     },
     "execution_count": 7,
     "metadata": {},
     "output_type": "execute_result"
    }
   ],
   "source": [
    "corr = pd.read_msgpack('RelatedCorr.msg')\n",
    "corr.head()"
   ]
  },
  {
   "cell_type": "markdown",
   "metadata": {
    "papermill": {
     "duration": 0.008211,
     "end_time": "2020-01-23T21:20:27.087628",
     "exception": false,
     "start_time": "2020-01-23T21:20:27.079417",
     "status": "completed"
    },
    "tags": []
   },
   "source": [
    "## prepare DMR pairwise"
   ]
  },
  {
   "cell_type": "code",
   "execution_count": 8,
   "metadata": {
    "ExecuteTime": {
     "end_time": "2020-01-05T20:11:01.081138Z",
     "start_time": "2020-01-05T20:10:45.096786Z"
    },
    "papermill": {
     "duration": 0.387464,
     "end_time": "2020-01-23T21:20:27.483413",
     "exception": false,
     "start_time": "2020-01-23T21:20:27.095949",
     "status": "completed"
    },
    "tags": []
   },
   "outputs": [],
   "source": [
    "pairwise_dmr_index = {}\n",
    "for _, (cluster_from, cluster_to) in dmg[['cluster_from', 'cluster_to']].drop_duplicates().iterrows():\n",
    "    # cluster_from is hypo, cluster_to is hyper\n",
    "    rate_delta = (dmr_rate[cluster_to] - dmr_rate[cluster_from]) > delta_dmr_rate_cutoff\n",
    "    # cluster_to is not hypo, cluster_from is hypo, and rate_delta > delta_dmr_rate_cutoff\n",
    "    total_judge = (~dmr_hits[cluster_to]) & dmr_hits[cluster_from] & rate_delta\n",
    "\n",
    "    # remaining dmr is sig hypo in cluster_from and hyper in cluster_to\n",
    "    pairwise_dmr_index[(cluster_from, cluster_to)] = total_judge[total_judge].index"
   ]
  },
  {
   "cell_type": "markdown",
   "metadata": {
    "papermill": {
     "duration": 0.008328,
     "end_time": "2020-01-23T21:20:27.501151",
     "exception": false,
     "start_time": "2020-01-23T21:20:27.492823",
     "status": "completed"
    },
    "tags": []
   },
   "source": [
    "## final DMG DMR for pairwise cluster"
   ]
  },
  {
   "cell_type": "code",
   "execution_count": 9,
   "metadata": {
    "ExecuteTime": {
     "end_time": "2020-01-05T20:11:41.272195Z",
     "start_time": "2020-01-05T20:11:01.083717Z"
    },
    "papermill": {
     "duration": 1.126562,
     "end_time": "2020-01-23T21:20:28.636075",
     "exception": false,
     "start_time": "2020-01-23T21:20:27.509513",
     "status": "completed"
    },
    "scrolled": true,
    "tags": []
   },
   "outputs": [
    {
     "name": "stdout",
     "output_type": "stream",
     "text": [
      "CA1_Chrm3 CA3_Cadm2 18516 470\n",
      "CA1_Chrm3 DG_dg-all 29715 435\n"
     ]
    },
    {
     "name": "stderr",
     "output_type": "stream",
     "text": [
      "/home/hanliu/miniconda3/envs/clustering/lib/python3.7/site-packages/tables/path.py:157: NaturalNameWarning: object name is not a valid Python identifier: 'DG_dg-all'; it does not match the pattern ``^[a-zA-Z_][a-zA-Z0-9_]*$``; you will not be able to use natural naming to access this object; using ``getattr()`` will still work, though\n",
      "  check_attribute_name(name)\n"
     ]
    },
    {
     "name": "stdout",
     "output_type": "stream",
     "text": [
      "CA3_Cadm2 CA1_Chrm3 10307 329\n",
      "CA3_Cadm2 DG_dg-all 20839 451\n",
      "DG_dg-all CA1_Chrm3 12631 549\n",
      "DG_dg-all CA3_Cadm2 12817 691\n"
     ]
    }
   ],
   "source": [
    "with pd.HDFStore('FinalDMGDMR.h5') as f:\n",
    "    for (cluster_from, cluster_to), cluster_pair_df in dmg.groupby(\n",
    "        ['cluster_from', 'cluster_to']):\n",
    "        # first get related dmr and dmg separately\n",
    "        cluster_pair_related_dmr = pairwise_dmr_index[(cluster_from, cluster_to)]\n",
    "        cluster_pair_related_gene = cluster_pair_df['gene_id'].unique()\n",
    "        \n",
    "        # use them to filter corr\n",
    "        cluster_pair_related_corr = corr[\n",
    "            corr['DMR'].isin(cluster_pair_related_dmr)\n",
    "            & corr['Gene'].isin(cluster_pair_related_gene)]\n",
    "        \n",
    "        # then use remained dmr and dmg as final list\n",
    "        # the remaining DMR DMG is:\n",
    "        # - sig hypo in one clsuter compare to another\n",
    "        # - have sig correlateion\n",
    "        cluster_pair_related_dmr = pd.Series(cluster_pair_related_corr['DMR'].unique())\n",
    "        cluster_pair_related_gene = pd.Series(cluster_pair_related_corr['Gene'].unique())\n",
    "        \n",
    "        print(cluster_from, cluster_to, cluster_pair_related_dmr.size, cluster_pair_related_gene.size)\n",
    "        this_dict = {}\n",
    "        f[f'{cluster_from}/{cluster_to}/DMR'] = cluster_pair_related_dmr\n",
    "        f[f'{cluster_from}/{cluster_to}/Gene'] = cluster_pair_related_gene\n",
    "        f[f'{cluster_from}/{cluster_to}/Corr'] = cluster_pair_related_corr"
   ]
  },
  {
   "cell_type": "code",
   "execution_count": null,
   "metadata": {
    "papermill": {
     "duration": 0.010612,
     "end_time": "2020-01-23T21:20:28.657679",
     "exception": false,
     "start_time": "2020-01-23T21:20:28.647067",
     "status": "completed"
    },
    "tags": []
   },
   "outputs": [],
   "source": []
  },
  {
   "cell_type": "code",
   "execution_count": null,
   "metadata": {
    "papermill": {
     "duration": 0.009872,
     "end_time": "2020-01-23T21:20:28.677233",
     "exception": false,
     "start_time": "2020-01-23T21:20:28.667361",
     "status": "completed"
    },
    "tags": []
   },
   "outputs": [],
   "source": []
  },
  {
   "cell_type": "code",
   "execution_count": null,
   "metadata": {
    "papermill": {
     "duration": 0.009946,
     "end_time": "2020-01-23T21:20:28.697553",
     "exception": false,
     "start_time": "2020-01-23T21:20:28.687607",
     "status": "completed"
    },
    "tags": []
   },
   "outputs": [],
   "source": []
  }
 ],
 "metadata": {
  "celltoolbar": "Tags",
  "hide_input": false,
  "kernelspec": {
   "display_name": "Python 3",
   "language": "python",
   "name": "python3"
  },
  "language_info": {
   "codemirror_mode": {
    "name": "ipython",
    "version": 3
   },
   "file_extension": ".py",
   "mimetype": "text/x-python",
   "name": "python",
   "nbconvert_exporter": "python",
   "pygments_lexer": "ipython3",
   "version": "3.7.3"
  },
  "papermill": {
   "duration": 7.353519,
   "end_time": "2020-01-23T21:20:29.213989",
   "environment_variables": {},
   "exception": null,
   "input_path": "intersect_everything.ipynb",
   "output_path": "/home/hanliu/project/mouse_rostral_brain/study/ClustersEnsemble/CA1CA3DGEnsemble/intersect_everything.ipynb",
   "parameters": {
    "delta_dmr_rate_cutoff": 0.3
   },
   "start_time": "2020-01-23T21:20:21.860470",
   "version": "1.0.1"
  },
  "toc": {
   "base_numbering": 1,
   "nav_menu": {},
   "number_sections": true,
   "sideBar": true,
   "skip_h1_title": true,
   "title_cell": "Table of Contents",
   "title_sidebar": "Contents",
   "toc_cell": false,
   "toc_position": {},
   "toc_section_display": true,
   "toc_window_display": true
  }
 },
 "nbformat": 4,
 "nbformat_minor": 2
}
