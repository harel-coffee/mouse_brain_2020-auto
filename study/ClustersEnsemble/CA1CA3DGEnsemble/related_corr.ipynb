{
 "cells": [
  {
   "cell_type": "code",
   "execution_count": 1,
   "metadata": {
    "ExecuteTime": {
     "end_time": "2020-01-05T20:09:07.379201Z",
     "start_time": "2020-01-05T20:09:07.240972Z"
    },
    "papermill": {
     "duration": 0.179882,
     "end_time": "2020-01-23T21:20:12.920897",
     "exception": false,
     "start_time": "2020-01-23T21:20:12.741015",
     "status": "completed"
    },
    "tags": []
   },
   "outputs": [],
   "source": [
    "import pandas as pd"
   ]
  },
  {
   "cell_type": "markdown",
   "metadata": {
    "papermill": {
     "duration": 0.008043,
     "end_time": "2020-01-23T21:20:12.937609",
     "exception": false,
     "start_time": "2020-01-23T21:20:12.929566",
     "status": "completed"
    },
    "tags": []
   },
   "source": [
    "## Parameter"
   ]
  },
  {
   "cell_type": "code",
   "execution_count": 2,
   "metadata": {
    "ExecuteTime": {
     "end_time": "2020-01-05T20:09:12.290352Z",
     "start_time": "2020-01-05T20:09:12.288080Z"
    },
    "papermill": {
     "duration": 0.01332,
     "end_time": "2020-01-23T21:20:12.957509",
     "exception": false,
     "start_time": "2020-01-23T21:20:12.944189",
     "status": "completed"
    },
    "tags": [
     "parameters"
    ]
   },
   "outputs": [],
   "source": [
    "corr_cutoff = 0.35\n",
    "distance_cutoff = 500000"
   ]
  },
  {
   "cell_type": "code",
   "execution_count": 3,
   "metadata": {
    "papermill": {
     "duration": 0.016334,
     "end_time": "2020-01-23T21:20:12.980713",
     "exception": false,
     "start_time": "2020-01-23T21:20:12.964379",
     "status": "completed"
    },
    "tags": [
     "injected-parameters"
    ]
   },
   "outputs": [],
   "source": [
    "# Parameters\n",
    "corr_cutoff = 0.35\n",
    "distance_cutoff = 500000\n"
   ]
  },
  {
   "cell_type": "code",
   "execution_count": 4,
   "metadata": {
    "ExecuteTime": {
     "end_time": "2020-01-05T20:09:21.013767Z",
     "start_time": "2020-01-05T20:09:17.140512Z"
    },
    "papermill": {
     "duration": 4.589794,
     "end_time": "2020-01-23T21:20:17.577148",
     "exception": false,
     "start_time": "2020-01-23T21:20:12.987354",
     "status": "completed"
    },
    "tags": []
   },
   "outputs": [
    {
     "name": "stderr",
     "output_type": "stream",
     "text": [
      "/home/hanliu/miniconda3/envs/clustering/lib/python3.7/site-packages/IPython/core/interactiveshell.py:3326: FutureWarning: The read_msgpack is deprecated and will be removed in a future version.\n",
      "It is recommended to use pyarrow for on-the-wire transmission of pandas objects.\n",
      "  exec(code_obj, self.user_global_ns, self.user_ns)\n"
     ]
    }
   ],
   "source": [
    "total_corr = pd.read_msgpack('/home/hanliu/project/mouse_rostral_brain/study/DMRGeneCorr/TotalGeneDMRCorrLoop.0.3.msg')"
   ]
  },
  {
   "cell_type": "code",
   "execution_count": 5,
   "metadata": {
    "ExecuteTime": {
     "end_time": "2020-01-05T20:09:24.079890Z",
     "start_time": "2020-01-05T20:09:23.319247Z"
    },
    "papermill": {
     "duration": 0.929489,
     "end_time": "2020-01-23T21:20:18.514676",
     "exception": false,
     "start_time": "2020-01-23T21:20:17.585187",
     "status": "completed"
    },
    "tags": []
   },
   "outputs": [],
   "source": [
    "use_gene = pd.read_csv('related_dmgs.txt', index_col=0, header=None).index\n",
    "use_dmr = pd.read_csv('related_dmrs.txt', index_col=0, header=None).index"
   ]
  },
  {
   "cell_type": "code",
   "execution_count": 6,
   "metadata": {
    "ExecuteTime": {
     "end_time": "2020-01-05T20:09:34.145489Z",
     "start_time": "2020-01-05T20:09:32.748561Z"
    },
    "papermill": {
     "duration": 1.911771,
     "end_time": "2020-01-23T21:20:20.434816",
     "exception": false,
     "start_time": "2020-01-23T21:20:18.523045",
     "status": "completed"
    },
    "tags": []
   },
   "outputs": [],
   "source": [
    "use_corr = total_corr[total_corr['DMR'].isin(use_dmr) & \n",
    "           total_corr['Gene'].isin(use_gene) & \n",
    "           (total_corr['DMR_to_gene_dist'].abs() < distance_cutoff)]"
   ]
  },
  {
   "cell_type": "code",
   "execution_count": 7,
   "metadata": {
    "ExecuteTime": {
     "end_time": "2020-01-05T20:09:35.398244Z",
     "start_time": "2020-01-05T20:09:34.764037Z"
    },
    "papermill": {
     "duration": 0.214136,
     "end_time": "2020-01-23T21:20:20.657189",
     "exception": false,
     "start_time": "2020-01-23T21:20:20.443053",
     "status": "completed"
    },
    "tags": []
   },
   "outputs": [
    {
     "name": "stderr",
     "output_type": "stream",
     "text": [
      "/home/hanliu/miniconda3/envs/clustering/lib/python3.7/site-packages/ipykernel_launcher.py:1: FutureWarning: to_msgpack is deprecated and will be removed in a future version.\n",
      "It is recommended to use pyarrow for on-the-wire transmission of pandas objects.\n",
      "  \"\"\"Entry point for launching an IPython kernel.\n"
     ]
    }
   ],
   "source": [
    "use_corr.to_msgpack('RelatedCorr.msg')"
   ]
  },
  {
   "cell_type": "code",
   "execution_count": 8,
   "metadata": {
    "ExecuteTime": {
     "end_time": "2020-01-05T20:09:39.533965Z",
     "start_time": "2020-01-05T20:09:39.529403Z"
    },
    "papermill": {
     "duration": 0.016943,
     "end_time": "2020-01-23T21:20:20.682426",
     "exception": false,
     "start_time": "2020-01-23T21:20:20.665483",
     "status": "completed"
    },
    "tags": []
   },
   "outputs": [
    {
     "data": {
      "text/plain": [
       "(196513, 5)"
      ]
     },
     "execution_count": 8,
     "metadata": {},
     "output_type": "execute_result"
    }
   ],
   "source": [
    "use_corr.shape"
   ]
  },
  {
   "cell_type": "code",
   "execution_count": 9,
   "metadata": {
    "ExecuteTime": {
     "end_time": "2020-01-05T20:09:42.879910Z",
     "start_time": "2020-01-05T20:09:42.870404Z"
    },
    "papermill": {
     "duration": 0.02306,
     "end_time": "2020-01-23T21:20:20.712613",
     "exception": false,
     "start_time": "2020-01-23T21:20:20.689553",
     "status": "completed"
    },
    "tags": []
   },
   "outputs": [
    {
     "data": {
      "text/html": [
       "<div>\n",
       "<style scoped>\n",
       "    .dataframe tbody tr th:only-of-type {\n",
       "        vertical-align: middle;\n",
       "    }\n",
       "\n",
       "    .dataframe tbody tr th {\n",
       "        vertical-align: top;\n",
       "    }\n",
       "\n",
       "    .dataframe thead th {\n",
       "        text-align: right;\n",
       "    }\n",
       "</style>\n",
       "<table border=\"1\" class=\"dataframe\">\n",
       "  <thead>\n",
       "    <tr style=\"text-align: right;\">\n",
       "      <th></th>\n",
       "      <th>DMR</th>\n",
       "      <th>Gene</th>\n",
       "      <th>Corr</th>\n",
       "      <th>chrom</th>\n",
       "      <th>DMR_to_gene_dist</th>\n",
       "    </tr>\n",
       "  </thead>\n",
       "  <tbody>\n",
       "    <tr>\n",
       "      <th>154</th>\n",
       "      <td>Subchr1_284</td>\n",
       "      <td>ENSMUSG00000051951.5</td>\n",
       "      <td>0.316056</td>\n",
       "      <td>chr1</td>\n",
       "      <td>-480154.0</td>\n",
       "    </tr>\n",
       "    <tr>\n",
       "      <th>168</th>\n",
       "      <td>Subchr1_298</td>\n",
       "      <td>ENSMUSG00000051951.5</td>\n",
       "      <td>0.452112</td>\n",
       "      <td>chr1</td>\n",
       "      <td>-472864.0</td>\n",
       "    </tr>\n",
       "    <tr>\n",
       "      <th>204</th>\n",
       "      <td>Subchr1_308</td>\n",
       "      <td>ENSMUSG00000051951.5</td>\n",
       "      <td>0.396429</td>\n",
       "      <td>chr1</td>\n",
       "      <td>-467551.0</td>\n",
       "    </tr>\n",
       "    <tr>\n",
       "      <th>212</th>\n",
       "      <td>Subchr1_309</td>\n",
       "      <td>ENSMUSG00000051951.5</td>\n",
       "      <td>0.372922</td>\n",
       "      <td>chr1</td>\n",
       "      <td>-466636.0</td>\n",
       "    </tr>\n",
       "    <tr>\n",
       "      <th>273</th>\n",
       "      <td>Subchr1_328</td>\n",
       "      <td>ENSMUSG00000051951.5</td>\n",
       "      <td>0.536126</td>\n",
       "      <td>chr1</td>\n",
       "      <td>-454392.5</td>\n",
       "    </tr>\n",
       "  </tbody>\n",
       "</table>\n",
       "</div>"
      ],
      "text/plain": [
       "             DMR                  Gene      Corr chrom  DMR_to_gene_dist\n",
       "154  Subchr1_284  ENSMUSG00000051951.5  0.316056  chr1         -480154.0\n",
       "168  Subchr1_298  ENSMUSG00000051951.5  0.452112  chr1         -472864.0\n",
       "204  Subchr1_308  ENSMUSG00000051951.5  0.396429  chr1         -467551.0\n",
       "212  Subchr1_309  ENSMUSG00000051951.5  0.372922  chr1         -466636.0\n",
       "273  Subchr1_328  ENSMUSG00000051951.5  0.536126  chr1         -454392.5"
      ]
     },
     "execution_count": 9,
     "metadata": {},
     "output_type": "execute_result"
    }
   ],
   "source": [
    "use_corr.head()"
   ]
  },
  {
   "cell_type": "code",
   "execution_count": null,
   "metadata": {
    "papermill": {
     "duration": 0.007336,
     "end_time": "2020-01-23T21:20:20.728138",
     "exception": false,
     "start_time": "2020-01-23T21:20:20.720802",
     "status": "completed"
    },
    "tags": []
   },
   "outputs": [],
   "source": []
  },
  {
   "cell_type": "code",
   "execution_count": null,
   "metadata": {
    "papermill": {
     "duration": 0.008179,
     "end_time": "2020-01-23T21:20:20.744738",
     "exception": false,
     "start_time": "2020-01-23T21:20:20.736559",
     "status": "completed"
    },
    "tags": []
   },
   "outputs": [],
   "source": []
  },
  {
   "cell_type": "code",
   "execution_count": null,
   "metadata": {
    "papermill": {
     "duration": 0.007781,
     "end_time": "2020-01-23T21:20:20.760075",
     "exception": false,
     "start_time": "2020-01-23T21:20:20.752294",
     "status": "completed"
    },
    "tags": []
   },
   "outputs": [],
   "source": []
  },
  {
   "cell_type": "code",
   "execution_count": null,
   "metadata": {
    "papermill": {
     "duration": 0.008046,
     "end_time": "2020-01-23T21:20:20.776748",
     "exception": false,
     "start_time": "2020-01-23T21:20:20.768702",
     "status": "completed"
    },
    "tags": []
   },
   "outputs": [],
   "source": []
  },
  {
   "cell_type": "code",
   "execution_count": null,
   "metadata": {
    "papermill": {
     "duration": 0.007374,
     "end_time": "2020-01-23T21:20:20.792318",
     "exception": false,
     "start_time": "2020-01-23T21:20:20.784944",
     "status": "completed"
    },
    "tags": []
   },
   "outputs": [],
   "source": []
  }
 ],
 "metadata": {
  "celltoolbar": "Tags",
  "hide_input": false,
  "kernelspec": {
   "display_name": "Python 3",
   "language": "python",
   "name": "python3"
  },
  "language_info": {
   "codemirror_mode": {
    "name": "ipython",
    "version": 3
   },
   "file_extension": ".py",
   "mimetype": "text/x-python",
   "name": "python",
   "nbconvert_exporter": "python",
   "pygments_lexer": "ipython3",
   "version": "3.7.3"
  },
  "papermill": {
   "duration": 10.123228,
   "end_time": "2020-01-23T21:20:21.808255",
   "environment_variables": {},
   "exception": null,
   "input_path": "related_corr.ipynb",
   "output_path": "/home/hanliu/project/mouse_rostral_brain/study/ClustersEnsemble/CA1CA3DGEnsemble/related_corr.ipynb",
   "parameters": {
    "corr_cutoff": 0.35,
    "distance_cutoff": 500000
   },
   "start_time": "2020-01-23T21:20:11.685027",
   "version": "1.0.1"
  },
  "toc": {
   "base_numbering": 1,
   "nav_menu": {},
   "number_sections": true,
   "sideBar": true,
   "skip_h1_title": true,
   "title_cell": "Table of Contents",
   "title_sidebar": "Contents",
   "toc_cell": false,
   "toc_position": {},
   "toc_section_display": true,
   "toc_window_display": true
  }
 },
 "nbformat": 4,
 "nbformat_minor": 2
}
