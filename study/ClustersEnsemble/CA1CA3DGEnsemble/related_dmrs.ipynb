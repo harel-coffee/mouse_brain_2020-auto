{
 "cells": [
  {
   "cell_type": "code",
   "execution_count": 1,
   "metadata": {
    "ExecuteTime": {
     "end_time": "2020-01-21T05:13:18.782825Z",
     "start_time": "2020-01-21T05:13:18.590275Z"
    },
    "papermill": {
     "duration": 0.352292,
     "end_time": "2020-01-23T21:19:37.158456",
     "exception": false,
     "start_time": "2020-01-23T21:19:36.806164",
     "status": "completed"
    },
    "tags": []
   },
   "outputs": [],
   "source": [
    "import pandas as pd\n",
    "import anndata"
   ]
  },
  {
   "cell_type": "markdown",
   "metadata": {
    "papermill": {
     "duration": 0.007871,
     "end_time": "2020-01-23T21:19:37.175618",
     "exception": false,
     "start_time": "2020-01-23T21:19:37.167747",
     "status": "completed"
    },
    "tags": []
   },
   "source": [
    "## Parameters"
   ]
  },
  {
   "cell_type": "code",
   "execution_count": 2,
   "metadata": {
    "ExecuteTime": {
     "end_time": "2020-01-21T05:13:47.838200Z",
     "start_time": "2020-01-21T05:13:47.835095Z"
    },
    "papermill": {
     "duration": 0.014087,
     "end_time": "2020-01-23T21:19:37.197887",
     "exception": false,
     "start_time": "2020-01-23T21:19:37.183800",
     "status": "completed"
    },
    "tags": [
     "parameters"
    ]
   },
   "outputs": [],
   "source": [
    "use_clusters = [\n",
    "    'CA1_Ak5', 'CA1_Chrm3', 'CA1_Kif26a', 'CA1_Ptprg',\n",
    "    'CA3_Cadm2', 'CA3_Efnb2', 'CA3-St18_Epha5', 'CA3-St18_Nuak1',\n",
    "    'CA3-St18_Tead1', 'DG_dg-all', 'DG-po_Bcl11a', 'DG-po_Calb2',\n",
    "    'DG-po_Kctd8', 'Gfra1_Gfra1', 'IG-CA2_Chrm3', 'IG-CA2_Peak1', 'IG-CA2_Xpr1'\n",
    "]\n",
    "hypo_dmr_hits_path = '/home/hanliu/project/mouse_rostral_brain/DMR/SubType/Total/TotalHits.HypoDMR.h5ad'\n",
    "# 'CA1_Lingo2' not include, because it co-cluster with RHP, probably an incomplete cluster"
   ]
  },
  {
   "cell_type": "code",
   "execution_count": 3,
   "metadata": {
    "papermill": {
     "duration": 0.012521,
     "end_time": "2020-01-23T21:19:37.218383",
     "exception": false,
     "start_time": "2020-01-23T21:19:37.205862",
     "status": "completed"
    },
    "tags": [
     "injected-parameters"
    ]
   },
   "outputs": [],
   "source": [
    "# Parameters\n",
    "use_clusters = [\"CA1_Chrm3\", \"CA3_Cadm2\", \"DG_dg-all\"]\n",
    "hypo_dmr_hits_path = \"/home/hanliu/project/mouse_rostral_brain/DMR/SubType/Total/TotalHits.HypoDMR.h5ad\"\n"
   ]
  },
  {
   "cell_type": "markdown",
   "metadata": {
    "papermill": {
     "duration": 0.007806,
     "end_time": "2020-01-23T21:19:37.234877",
     "exception": false,
     "start_time": "2020-01-23T21:19:37.227071",
     "status": "completed"
    },
    "tags": []
   },
   "source": [
    "## Hypo Hits"
   ]
  },
  {
   "cell_type": "code",
   "execution_count": 4,
   "metadata": {
    "ExecuteTime": {
     "end_time": "2020-01-21T05:14:16.528010Z",
     "start_time": "2020-01-21T05:14:01.909346Z"
    },
    "papermill": {
     "duration": 17.099984,
     "end_time": "2020-01-23T21:19:54.342303",
     "exception": false,
     "start_time": "2020-01-23T21:19:37.242319",
     "status": "completed"
    },
    "tags": []
   },
   "outputs": [],
   "source": [
    "hypo_hits_adata = anndata.read_h5ad(hypo_dmr_hits_path)\n",
    "related_dmr = (hypo_hits_adata[:, use_clusters].X.sum(axis=1) > 0).A1\n",
    "use_dmr = hypo_hits_adata.obs_names[related_dmr]"
   ]
  },
  {
   "cell_type": "code",
   "execution_count": 5,
   "metadata": {
    "ExecuteTime": {
     "end_time": "2020-01-21T05:14:26.220292Z",
     "start_time": "2020-01-21T05:14:21.235038Z"
    },
    "papermill": {
     "duration": 3.063554,
     "end_time": "2020-01-23T21:19:57.419836",
     "exception": false,
     "start_time": "2020-01-23T21:19:54.356282",
     "status": "completed"
    },
    "tags": []
   },
   "outputs": [],
   "source": [
    "use_hits = hypo_hits_adata[use_dmr][:, use_clusters]\n",
    "use_hits.write_h5ad('RelatedClusterAndDMR.hypo_hits.h5ad')"
   ]
  },
  {
   "cell_type": "code",
   "execution_count": 6,
   "metadata": {
    "ExecuteTime": {
     "end_time": "2020-01-21T05:14:26.227756Z",
     "start_time": "2020-01-21T05:14:26.222146Z"
    },
    "papermill": {
     "duration": 0.020815,
     "end_time": "2020-01-23T21:19:57.450661",
     "exception": false,
     "start_time": "2020-01-23T21:19:57.429846",
     "status": "completed"
    },
    "tags": []
   },
   "outputs": [
    {
     "data": {
      "text/plain": [
       "AnnData object with n_obs × n_vars = 1090930 × 3 \n",
       "    obs: '#chr', 'start', 'end', 'number_of_dms'"
      ]
     },
     "execution_count": 6,
     "metadata": {},
     "output_type": "execute_result"
    }
   ],
   "source": [
    "use_hits"
   ]
  },
  {
   "cell_type": "markdown",
   "metadata": {
    "papermill": {
     "duration": 0.008175,
     "end_time": "2020-01-23T21:19:57.467059",
     "exception": false,
     "start_time": "2020-01-23T21:19:57.458884",
     "status": "completed"
    },
    "tags": []
   },
   "source": [
    "## DMR Rate"
   ]
  },
  {
   "cell_type": "code",
   "execution_count": 7,
   "metadata": {
    "ExecuteTime": {
     "end_time": "2020-01-21T05:29:45.250955Z",
     "start_time": "2020-01-21T05:29:36.243602Z"
    },
    "papermill": {
     "duration": 11.711429,
     "end_time": "2020-01-23T21:20:09.187006",
     "exception": false,
     "start_time": "2020-01-23T21:19:57.475577",
     "status": "completed"
    },
    "tags": []
   },
   "outputs": [],
   "source": [
    "with pd.HDFStore('/home/hanliu/project/mouse_rostral_brain/DMR/SubType/Total/DMRInfo.h5') as hdf:\n",
    "    dmr_rate = hdf['Rate']\n",
    "dmr_rate.index = hypo_hits_adata.obs_names\n",
    "use_rate = dmr_rate.loc[use_dmr, use_clusters]"
   ]
  },
  {
   "cell_type": "code",
   "execution_count": 8,
   "metadata": {
    "ExecuteTime": {
     "end_time": "2020-01-21T05:29:52.597445Z",
     "start_time": "2020-01-21T05:29:51.137446Z"
    },
    "papermill": {
     "duration": 0.437943,
     "end_time": "2020-01-23T21:20:09.634881",
     "exception": false,
     "start_time": "2020-01-23T21:20:09.196938",
     "status": "completed"
    },
    "tags": []
   },
   "outputs": [
    {
     "name": "stderr",
     "output_type": "stream",
     "text": [
      "/home/hanliu/miniconda3/envs/clustering/lib/python3.7/site-packages/ipykernel_launcher.py:1: FutureWarning: to_msgpack is deprecated and will be removed in a future version.\n",
      "It is recommended to use pyarrow for on-the-wire transmission of pandas objects.\n",
      "  \"\"\"Entry point for launching an IPython kernel.\n"
     ]
    }
   ],
   "source": [
    "use_rate.to_msgpack('RelatedClusterAndDMR.mcg_rate.msg')"
   ]
  },
  {
   "cell_type": "code",
   "execution_count": 9,
   "metadata": {
    "ExecuteTime": {
     "end_time": "2020-01-21T05:29:53.114003Z",
     "start_time": "2020-01-21T05:29:52.599246Z"
    },
    "papermill": {
     "duration": 0.422265,
     "end_time": "2020-01-23T21:20:10.067452",
     "exception": false,
     "start_time": "2020-01-23T21:20:09.645187",
     "status": "completed"
    },
    "tags": []
   },
   "outputs": [],
   "source": [
    "with open('related_dmrs.txt', 'w') as f:\n",
    "    for dmr in use_dmr:\n",
    "        f.write(dmr + '\\n')"
   ]
  },
  {
   "cell_type": "code",
   "execution_count": null,
   "metadata": {
    "papermill": {
     "duration": 0.008927,
     "end_time": "2020-01-23T21:20:10.087117",
     "exception": false,
     "start_time": "2020-01-23T21:20:10.078190",
     "status": "completed"
    },
    "tags": []
   },
   "outputs": [],
   "source": []
  },
  {
   "cell_type": "code",
   "execution_count": null,
   "metadata": {
    "papermill": {
     "duration": 0.008487,
     "end_time": "2020-01-23T21:20:10.105277",
     "exception": false,
     "start_time": "2020-01-23T21:20:10.096790",
     "status": "completed"
    },
    "tags": []
   },
   "outputs": [],
   "source": []
  },
  {
   "cell_type": "code",
   "execution_count": null,
   "metadata": {
    "papermill": {
     "duration": 0.008182,
     "end_time": "2020-01-23T21:20:10.121815",
     "exception": false,
     "start_time": "2020-01-23T21:20:10.113633",
     "status": "completed"
    },
    "tags": []
   },
   "outputs": [],
   "source": []
  },
  {
   "cell_type": "code",
   "execution_count": null,
   "metadata": {
    "papermill": {
     "duration": 0.009198,
     "end_time": "2020-01-23T21:20:10.139728",
     "exception": false,
     "start_time": "2020-01-23T21:20:10.130530",
     "status": "completed"
    },
    "tags": []
   },
   "outputs": [],
   "source": []
  },
  {
   "cell_type": "code",
   "execution_count": null,
   "metadata": {
    "papermill": {
     "duration": 0.008724,
     "end_time": "2020-01-23T21:20:10.157818",
     "exception": false,
     "start_time": "2020-01-23T21:20:10.149094",
     "status": "completed"
    },
    "tags": []
   },
   "outputs": [],
   "source": []
  },
  {
   "cell_type": "code",
   "execution_count": null,
   "metadata": {
    "papermill": {
     "duration": 0.008466,
     "end_time": "2020-01-23T21:20:10.174763",
     "exception": false,
     "start_time": "2020-01-23T21:20:10.166297",
     "status": "completed"
    },
    "tags": []
   },
   "outputs": [],
   "source": []
  },
  {
   "cell_type": "code",
   "execution_count": null,
   "metadata": {
    "papermill": {
     "duration": 0.009026,
     "end_time": "2020-01-23T21:20:10.194466",
     "exception": false,
     "start_time": "2020-01-23T21:20:10.185440",
     "status": "completed"
    },
    "tags": []
   },
   "outputs": [],
   "source": []
  }
 ],
 "metadata": {
  "hide_input": false,
  "kernelspec": {
   "display_name": "Python 3",
   "language": "python",
   "name": "python3"
  },
  "language_info": {
   "codemirror_mode": {
    "name": "ipython",
    "version": 3
   },
   "file_extension": ".py",
   "mimetype": "text/x-python",
   "name": "python",
   "nbconvert_exporter": "python",
   "pygments_lexer": "ipython3",
   "version": "3.7.3"
  },
  "papermill": {
   "duration": 35.793341,
   "end_time": "2020-01-23T21:20:11.612330",
   "environment_variables": {},
   "exception": null,
   "input_path": "related_dmrs.ipynb",
   "output_path": "/home/hanliu/project/mouse_rostral_brain/study/ClustersEnsemble/CA1CA3DGEnsemble/related_dmrs.ipynb",
   "parameters": {
    "hypo_dmr_hits_path": "/home/hanliu/project/mouse_rostral_brain/DMR/SubType/Total/TotalHits.HypoDMR.h5ad",
    "use_clusters": [
     "CA1_Chrm3",
     "CA3_Cadm2",
     "DG_dg-all"
    ]
   },
   "start_time": "2020-01-23T21:19:35.818989",
   "version": "1.0.1"
  },
  "toc": {
   "base_numbering": 1,
   "nav_menu": {},
   "number_sections": true,
   "sideBar": true,
   "skip_h1_title": true,
   "title_cell": "Table of Contents",
   "title_sidebar": "Contents",
   "toc_cell": false,
   "toc_position": {},
   "toc_section_display": true,
   "toc_window_display": true
  }
 },
 "nbformat": 4,
 "nbformat_minor": 2
}
