{
 "cells": [
  {
   "cell_type": "code",
   "execution_count": 1,
   "metadata": {
    "ExecuteTime": {
     "end_time": "2020-01-21T05:31:52.904004Z",
     "start_time": "2020-01-21T05:31:51.634105Z"
    },
    "papermill": {
     "duration": 1.135627,
     "end_time": "2020-01-23T21:20:31.522725",
     "exception": false,
     "start_time": "2020-01-23T21:20:30.387098",
     "status": "completed"
    },
    "tags": []
   },
   "outputs": [],
   "source": [
    "from concurrent.futures import ProcessPoolExecutor, as_completed\n",
    "\n",
    "import anndata\n",
    "import matplotlib.pyplot as plt\n",
    "import numpy as np\n",
    "import pandas as pd\n",
    "import pybedtools\n",
    "import scipy.stats as stats\n",
    "import seaborn as sns\n",
    "from statsmodels.stats.multitest import multipletests"
   ]
  },
  {
   "cell_type": "code",
   "execution_count": 2,
   "metadata": {
    "ExecuteTime": {
     "end_time": "2020-01-21T05:31:52.909258Z",
     "start_time": "2020-01-21T05:31:52.906105Z"
    },
    "papermill": {
     "duration": 0.02238,
     "end_time": "2020-01-23T21:20:31.559897",
     "exception": false,
     "start_time": "2020-01-23T21:20:31.537517",
     "status": "completed"
    },
    "tags": [
     "parameters"
    ]
   },
   "outputs": [],
   "source": [
    "cluster = 'CA1_Chrm3'\n",
    "use_clusters = [\n",
    "    'CA1_Ak5', 'CA1_Chrm3', 'CA1_Kif26a', 'CA1_Ptprg',\n",
    "    'CA3_Cadm2', 'CA3_Efnb2', 'CA3-St18_Epha5', 'CA3-St18_Nuak1',\n",
    "    'CA3-St18_Tead1', 'DG_dg-all', 'DG-po_Bcl11a', 'DG-po_Calb2',\n",
    "    'DG-po_Kctd8', 'Gfra1_Gfra1', 'IG-CA2_Chrm3', 'IG-CA2_Peak1', 'IG-CA2_Xpr1'\n",
    "]\n",
    "\n",
    "or_cutoff = 1.6\n",
    "neg_lgp_cutoff = 10\n",
    "mask_quantile_to_max = 0.8"
   ]
  },
  {
   "cell_type": "code",
   "execution_count": 3,
   "metadata": {
    "papermill": {
     "duration": 0.019677,
     "end_time": "2020-01-23T21:20:31.594104",
     "exception": false,
     "start_time": "2020-01-23T21:20:31.574427",
     "status": "completed"
    },
    "tags": [
     "injected-parameters"
    ]
   },
   "outputs": [],
   "source": [
    "# Parameters\n",
    "cluster = \"CA1_Chrm3\"\n",
    "use_clusters = [\"CA1_Chrm3\", \"CA3_Cadm2\", \"DG_dg-all\"]\n",
    "or_cutoff = 1.3\n",
    "neg_lgp_cutoff = 10\n"
   ]
  },
  {
   "cell_type": "markdown",
   "metadata": {
    "papermill": {
     "duration": 0.013441,
     "end_time": "2020-01-23T21:20:31.621288",
     "exception": false,
     "start_time": "2020-01-23T21:20:31.607847",
     "status": "completed"
    },
    "tags": []
   },
   "source": [
    "## DMR hits"
   ]
  },
  {
   "cell_type": "code",
   "execution_count": 4,
   "metadata": {
    "ExecuteTime": {
     "end_time": "2020-01-07T03:39:41.738411Z",
     "start_time": "2020-01-07T03:39:41.220149Z"
    },
    "papermill": {
     "duration": 0.227405,
     "end_time": "2020-01-23T21:20:31.862218",
     "exception": false,
     "start_time": "2020-01-23T21:20:31.634813",
     "status": "completed"
    },
    "tags": []
   },
   "outputs": [],
   "source": [
    "corr_records = []\n",
    "with pd.HDFStore('../FinalDMGDMR.h5') as hdf:    \n",
    "    for _cluster in use_clusters:\n",
    "        if _cluster == cluster:\n",
    "            continue\n",
    "        corr = hdf[f'/{cluster}/{_cluster}/Corr']\n",
    "        corr['cluster_from'] = cluster\n",
    "        corr['cluster_to'] = _cluster\n",
    "        corr_records.append(corr)\n",
    "corr_records = pd.concat(corr_records)"
   ]
  },
  {
   "cell_type": "code",
   "execution_count": 5,
   "metadata": {
    "ExecuteTime": {
     "end_time": "2020-01-07T03:43:32.395434Z",
     "start_time": "2020-01-07T03:43:32.336039Z"
    },
    "papermill": {
     "duration": 0.038579,
     "end_time": "2020-01-23T21:20:31.915826",
     "exception": false,
     "start_time": "2020-01-23T21:20:31.877247",
     "status": "completed"
    },
    "tags": []
   },
   "outputs": [
    {
     "name": "stdout",
     "output_type": "stream",
     "text": [
      "771\n"
     ]
    },
    {
     "data": {
      "text/plain": [
       "41266"
      ]
     },
     "execution_count": 5,
     "metadata": {},
     "output_type": "execute_result"
    }
   ],
   "source": [
    "use_genes = pd.Index(corr_records['Gene'].unique())\n",
    "print(use_genes.size)\n",
    "\n",
    "use_dmrs = pd.Index(corr_records['DMR'].unique())\n",
    "use_dmrs.size"
   ]
  },
  {
   "cell_type": "code",
   "execution_count": 6,
   "metadata": {
    "ExecuteTime": {
     "end_time": "2020-01-07T03:39:50.868256Z",
     "start_time": "2020-01-07T03:39:43.611964Z"
    },
    "papermill": {
     "duration": 7.803036,
     "end_time": "2020-01-23T21:20:39.732632",
     "exception": false,
     "start_time": "2020-01-23T21:20:31.929596",
     "status": "completed"
    },
    "tags": []
   },
   "outputs": [],
   "source": [
    "with pd.HDFStore('/home/hanliu/project/mouse_rostral_brain/DMR/SubType/Total/DMRInfo.h5') as hdf:\n",
    "    dmr_bed_df = hdf['bed']\n",
    "dmr_bed_df = dmr_bed_df.loc[use_dmrs].copy()"
   ]
  },
  {
   "cell_type": "code",
   "execution_count": 7,
   "metadata": {
    "ExecuteTime": {
     "end_time": "2020-01-07T03:40:04.587044Z",
     "start_time": "2020-01-07T03:39:50.871174Z"
    },
    "papermill": {
     "duration": 27.92478,
     "end_time": "2020-01-23T21:21:07.672527",
     "exception": false,
     "start_time": "2020-01-23T21:20:39.747747",
     "status": "completed"
    },
    "tags": []
   },
   "outputs": [],
   "source": [
    "dmr_annot = anndata.read_h5ad(\n",
    "    '/home/hanliu/project/mouse_rostral_brain/DMR/SubType/Total/MotifScan.h5ad'\n",
    ")\n",
    "# mask small motif scores\n",
    "motif_cutoff = pd.Series(dmr_annot.X.max(axis=0).todense().A1 * mask_quantile_to_max, index=dmr_annot.var_names)"
   ]
  },
  {
   "cell_type": "code",
   "execution_count": 8,
   "metadata": {
    "ExecuteTime": {
     "end_time": "2020-01-21T06:17:32.138914Z",
     "start_time": "2020-01-21T06:17:32.075431Z"
    },
    "papermill": {
     "duration": 0.290692,
     "end_time": "2020-01-23T21:21:07.977578",
     "exception": false,
     "start_time": "2020-01-23T21:21:07.686886",
     "status": "completed"
    },
    "tags": []
   },
   "outputs": [
    {
     "data": {
      "text/plain": [
       "AnnData object with n_obs × n_vars = 41266 × 719 \n",
       "    obs: 'chrom', 'start', 'end'"
      ]
     },
     "execution_count": 8,
     "metadata": {},
     "output_type": "execute_result"
    }
   ],
   "source": [
    "dmr_annot = dmr_annot[use_dmrs, :].copy()\n",
    "dmr_annot"
   ]
  },
  {
   "cell_type": "markdown",
   "metadata": {
    "papermill": {
     "duration": 0.013949,
     "end_time": "2020-01-23T21:21:08.007092",
     "exception": false,
     "start_time": "2020-01-23T21:21:07.993143",
     "status": "completed"
    },
    "tags": []
   },
   "source": [
    "## Background Hits"
   ]
  },
  {
   "cell_type": "code",
   "execution_count": 9,
   "metadata": {
    "ExecuteTime": {
     "end_time": "2020-01-07T03:41:56.896319Z",
     "start_time": "2020-01-07T03:41:55.786302Z"
    },
    "papermill": {
     "duration": 1.564139,
     "end_time": "2020-01-23T21:21:09.584610",
     "exception": false,
     "start_time": "2020-01-23T21:21:08.020471",
     "status": "completed"
    },
    "tags": []
   },
   "outputs": [],
   "source": [
    "background_motif_hits = anndata.read_h5ad(\n",
    "    '/home/hanliu/project/mouse_rostral_brain/DMR/BackgroundDMR/MotifScan.h5ad'\n",
    ")"
   ]
  },
  {
   "cell_type": "code",
   "execution_count": 10,
   "metadata": {
    "ExecuteTime": {
     "end_time": "2020-01-07T03:42:04.882147Z",
     "start_time": "2020-01-07T03:42:03.511076Z"
    },
    "papermill": {
     "duration": 1.764882,
     "end_time": "2020-01-23T21:21:11.364944",
     "exception": false,
     "start_time": "2020-01-23T21:21:09.600062",
     "status": "completed"
    },
    "tags": []
   },
   "outputs": [],
   "source": [
    "dmr_bed = pybedtools.BedTool().from_dataframe(dmr_bed_df)\n",
    "bg_bed = pybedtools.BedTool().from_dataframe(\n",
    "    background_motif_hits.obs.reset_index().iloc[:, [1, 2, 3, 0]])"
   ]
  },
  {
   "cell_type": "code",
   "execution_count": 11,
   "metadata": {
    "ExecuteTime": {
     "end_time": "2020-01-07T03:42:07.558277Z",
     "start_time": "2020-01-07T03:42:05.953294Z"
    },
    "papermill": {
     "duration": 1.858872,
     "end_time": "2020-01-23T21:21:13.239151",
     "exception": false,
     "start_time": "2020-01-23T21:21:11.380279",
     "status": "completed"
    },
    "tags": []
   },
   "outputs": [
    {
     "data": {
      "text/plain": [
       "AnnData object with n_obs × n_vars = 340687 × 719 \n",
       "    obs: 'chrom', 'start', 'end'"
      ]
     },
     "execution_count": 11,
     "metadata": {},
     "output_type": "execute_result"
    }
   ],
   "source": [
    "# exclude background that overlap with DMR\n",
    "bg_no_overlap = bg_bed.intersect(dmr_bed, v=True)\n",
    "use_bg = bg_no_overlap.to_dataframe().iloc[:, -1].values\n",
    "background_motif_hits = background_motif_hits[use_bg, :]\n",
    "\n",
    "# make sure col in same order\n",
    "background_motif_hits = background_motif_hits[:, dmr_annot.var_names].copy()\n",
    "background_motif_hits"
   ]
  },
  {
   "cell_type": "markdown",
   "metadata": {
    "papermill": {
     "duration": 0.014077,
     "end_time": "2020-01-23T21:21:13.268421",
     "exception": false,
     "start_time": "2020-01-23T21:21:13.254344",
     "status": "completed"
    },
    "tags": []
   },
   "source": [
    "## Redo motif score filter"
   ]
  },
  {
   "cell_type": "code",
   "execution_count": 12,
   "metadata": {
    "papermill": {
     "duration": 0.521631,
     "end_time": "2020-01-23T21:21:13.803734",
     "exception": false,
     "start_time": "2020-01-23T21:21:13.282103",
     "status": "completed"
    },
    "tags": []
   },
   "outputs": [],
   "source": [
    "# only keep value larger than the cutoff for each motif\n",
    "dmr_annot.X = dmr_annot.X.multiply(\n",
    "    (dmr_annot.X >\n",
    "     motif_cutoff[dmr_annot.var_names].values[None, :]).astype(int)).tocsr()"
   ]
  },
  {
   "cell_type": "code",
   "execution_count": 13,
   "metadata": {
    "papermill": {
     "duration": 4.91382,
     "end_time": "2020-01-23T21:21:18.733271",
     "exception": false,
     "start_time": "2020-01-23T21:21:13.819451",
     "status": "completed"
    },
    "tags": []
   },
   "outputs": [],
   "source": [
    "# only keep value larger than the cutoff for each motif\n",
    "background_motif_hits.X = background_motif_hits.X.multiply(\n",
    "    (background_motif_hits.X >\n",
    "     motif_cutoff[background_motif_hits.var_names].values[None, :]).astype(int)).tocsr()"
   ]
  },
  {
   "cell_type": "markdown",
   "metadata": {
    "papermill": {
     "duration": 0.01497,
     "end_time": "2020-01-23T21:21:18.763627",
     "exception": false,
     "start_time": "2020-01-23T21:21:18.748657",
     "status": "completed"
    },
    "tags": []
   },
   "source": [
    "## Motif hits contingency table"
   ]
  },
  {
   "cell_type": "code",
   "execution_count": 14,
   "metadata": {
    "ExecuteTime": {
     "end_time": "2020-01-07T03:42:13.001619Z",
     "start_time": "2020-01-07T03:42:11.867949Z"
    },
    "papermill": {
     "duration": 0.380184,
     "end_time": "2020-01-23T21:21:19.158864",
     "exception": false,
     "start_time": "2020-01-23T21:21:18.778680",
     "status": "completed"
    },
    "tags": []
   },
   "outputs": [],
   "source": [
    "motif_ids = dmr_annot.var_names\n",
    "\n",
    "# calculate motif occurence, not considering hits here\n",
    "pos = (dmr_annot[:, motif_ids].X > 0).sum(axis=0)\n",
    "pos_total = dmr_annot.shape[0]\n",
    "\n",
    "neg = (background_motif_hits.X > 0).sum(axis=0)\n",
    "neg_total = background_motif_hits.shape[0]"
   ]
  },
  {
   "cell_type": "code",
   "execution_count": 15,
   "metadata": {
    "ExecuteTime": {
     "end_time": "2020-01-07T03:42:13.625533Z",
     "start_time": "2020-01-07T03:42:13.621406Z"
    },
    "papermill": {
     "duration": 0.039801,
     "end_time": "2020-01-23T21:21:19.215274",
     "exception": false,
     "start_time": "2020-01-23T21:21:19.175473",
     "status": "completed"
    },
    "scrolled": true,
    "tags": []
   },
   "outputs": [],
   "source": [
    "tables = {}\n",
    "for motif, _pos, _neg in zip(motif_ids, pos.A1, neg.A1):\n",
    "    table = [[_pos, pos_total - _pos], [_neg, neg_total - _neg]]\n",
    "    tables[motif] = table"
   ]
  },
  {
   "cell_type": "code",
   "execution_count": 16,
   "metadata": {
    "ExecuteTime": {
     "end_time": "2020-01-07T03:42:16.551681Z",
     "start_time": "2020-01-07T03:42:14.935940Z"
    },
    "papermill": {
     "duration": 1.939938,
     "end_time": "2020-01-23T21:21:21.169457",
     "exception": false,
     "start_time": "2020-01-23T21:21:19.229519",
     "status": "completed"
    },
    "tags": []
   },
   "outputs": [],
   "source": [
    "results = {}\n",
    "with ProcessPoolExecutor(40) as executor:\n",
    "    fs = {}\n",
    "    for motif, t in tables.items():\n",
    "        f = executor.submit(stats.fisher_exact, t, alternative='greater')\n",
    "        fs[f] = motif\n",
    "\n",
    "    for f in as_completed(fs):\n",
    "        motif = fs[f]\n",
    "        odds, p = f.result()\n",
    "        results[motif] = {'oddsratio': odds, 'p_value': p}\n",
    "motif_enrich_df = pd.DataFrame(results).T\n",
    "\n",
    "_, p, _, _ = multipletests(motif_enrich_df['p_value'], method='fdr_bh')\n",
    "motif_enrich_df['adj_p'] = p\n",
    "\n",
    "motif_enrich_df['-lgp'] = -np.log10(motif_enrich_df['adj_p']).replace(\n",
    "    -np.inf, -300)\n",
    "\n",
    "records = {}\n",
    "for motif, t in tables.items():\n",
    "    tp, tn = t[0]\n",
    "    fp, fn = t[1]\n",
    "    tp_rate = tp / pos_total\n",
    "    fp_rate = fp / neg_total\n",
    "    records[motif] = dict(tp=tp,\n",
    "                          tn=tn,\n",
    "                          fp=fp,\n",
    "                          fn=fn,\n",
    "                          tp_rate=tp_rate,\n",
    "                          fp_rate=fp_rate)\n",
    "counts = pd.DataFrame(records).T\n",
    "motif_enrich_df = pd.concat([motif_enrich_df, counts], axis=1, sort=True)"
   ]
  },
  {
   "cell_type": "code",
   "execution_count": 17,
   "metadata": {
    "ExecuteTime": {
     "end_time": "2020-01-07T03:42:17.179282Z",
     "start_time": "2020-01-07T03:42:17.176155Z"
    },
    "papermill": {
     "duration": 0.021523,
     "end_time": "2020-01-23T21:21:21.207504",
     "exception": false,
     "start_time": "2020-01-23T21:21:21.185981",
     "status": "completed"
    },
    "tags": []
   },
   "outputs": [],
   "source": [
    "motif_enrich_df['SubType'] = cluster\n",
    "motif_enrich_df['DMRType'] = 'Hypo'"
   ]
  },
  {
   "cell_type": "code",
   "execution_count": 18,
   "metadata": {
    "ExecuteTime": {
     "end_time": "2020-01-07T03:42:17.361472Z",
     "start_time": "2020-01-07T03:42:17.357409Z"
    },
    "papermill": {
     "duration": 0.022377,
     "end_time": "2020-01-23T21:21:21.243972",
     "exception": false,
     "start_time": "2020-01-23T21:21:21.221595",
     "status": "completed"
    },
    "tags": []
   },
   "outputs": [],
   "source": [
    "motif_enrich_df = motif_enrich_df[motif_enrich_df['oddsratio'] > 1].copy()"
   ]
  },
  {
   "cell_type": "markdown",
   "metadata": {
    "papermill": {
     "duration": 0.013406,
     "end_time": "2020-01-23T21:21:21.271148",
     "exception": false,
     "start_time": "2020-01-23T21:21:21.257742",
     "status": "completed"
    },
    "tags": []
   },
   "source": [
    "## Add gene info"
   ]
  },
  {
   "cell_type": "code",
   "execution_count": 19,
   "metadata": {
    "papermill": {
     "duration": 0.03433,
     "end_time": "2020-01-23T21:21:21.321308",
     "exception": false,
     "start_time": "2020-01-23T21:21:21.286978",
     "status": "completed"
    },
    "tags": []
   },
   "outputs": [
    {
     "data": {
      "text/html": [
       "<div>\n",
       "<style scoped>\n",
       "    .dataframe tbody tr th:only-of-type {\n",
       "        vertical-align: middle;\n",
       "    }\n",
       "\n",
       "    .dataframe tbody tr th {\n",
       "        vertical-align: top;\n",
       "    }\n",
       "\n",
       "    .dataframe thead th {\n",
       "        text-align: right;\n",
       "    }\n",
       "</style>\n",
       "<table border=\"1\" class=\"dataframe\">\n",
       "  <thead>\n",
       "    <tr style=\"text-align: right;\">\n",
       "      <th></th>\n",
       "      <th>motif_name</th>\n",
       "      <th>motif_genes</th>\n",
       "      <th>gene_ids</th>\n",
       "      <th>gene_names</th>\n",
       "      <th>motif_group</th>\n",
       "    </tr>\n",
       "    <tr>\n",
       "      <th>motif_uid</th>\n",
       "      <th></th>\n",
       "      <th></th>\n",
       "      <th></th>\n",
       "      <th></th>\n",
       "      <th></th>\n",
       "    </tr>\n",
       "  </thead>\n",
       "  <tbody>\n",
       "    <tr>\n",
       "      <th>MA0006.1</th>\n",
       "      <td>Ahr::Arnt</td>\n",
       "      <td>Ahr,Arnt</td>\n",
       "      <td>ENSMUSG00000019256.17,ENSMUSG00000015522.18</td>\n",
       "      <td>Ahr,Arnt</td>\n",
       "      <td>MotifGroup178</td>\n",
       "    </tr>\n",
       "    <tr>\n",
       "      <th>MA0854.1</th>\n",
       "      <td>Alx1</td>\n",
       "      <td>Alx1</td>\n",
       "      <td>ENSMUSG00000036602.14</td>\n",
       "      <td>Alx1</td>\n",
       "      <td>MotifGroup3</td>\n",
       "    </tr>\n",
       "    <tr>\n",
       "      <th>MA0634.1</th>\n",
       "      <td>ALX3</td>\n",
       "      <td>ALX3</td>\n",
       "      <td>ENSMUSG00000014603.3</td>\n",
       "      <td>Alx3</td>\n",
       "      <td>MotifGroup3</td>\n",
       "    </tr>\n",
       "    <tr>\n",
       "      <th>MA0853.1</th>\n",
       "      <td>Alx4</td>\n",
       "      <td>Alx4</td>\n",
       "      <td>ENSMUSG00000040310.12</td>\n",
       "      <td>Alx4</td>\n",
       "      <td>MotifGroup3</td>\n",
       "    </tr>\n",
       "    <tr>\n",
       "      <th>MA0007.3</th>\n",
       "      <td>Ar</td>\n",
       "      <td>Ar</td>\n",
       "      <td>ENSMUSG00000046532.8</td>\n",
       "      <td>Ar</td>\n",
       "      <td>MotifGroup32</td>\n",
       "    </tr>\n",
       "  </tbody>\n",
       "</table>\n",
       "</div>"
      ],
      "text/plain": [
       "          motif_name motif_genes                                     gene_ids  \\\n",
       "motif_uid                                                                       \n",
       "MA0006.1   Ahr::Arnt    Ahr,Arnt  ENSMUSG00000019256.17,ENSMUSG00000015522.18   \n",
       "MA0854.1        Alx1        Alx1                        ENSMUSG00000036602.14   \n",
       "MA0634.1        ALX3        ALX3                         ENSMUSG00000014603.3   \n",
       "MA0853.1        Alx4        Alx4                        ENSMUSG00000040310.12   \n",
       "MA0007.3          Ar          Ar                         ENSMUSG00000046532.8   \n",
       "\n",
       "          gene_names    motif_group  \n",
       "motif_uid                            \n",
       "MA0006.1    Ahr,Arnt  MotifGroup178  \n",
       "MA0854.1        Alx1    MotifGroup3  \n",
       "MA0634.1        Alx3    MotifGroup3  \n",
       "MA0853.1        Alx4    MotifGroup3  \n",
       "MA0007.3          Ar   MotifGroup32  "
      ]
     },
     "execution_count": 19,
     "metadata": {},
     "output_type": "execute_result"
    }
   ],
   "source": [
    "motif_gene_anno = pd.read_csv(\n",
    "    '/home/hanliu/project/mouse_rostral_brain/study/MotifClustering/JASPAR2020_CORE_vertebrates_non-redundant.mouse_genes.with_motif_group.199.csv', \n",
    "    index_col=0\n",
    ")\n",
    "motif_gene_anno.head()"
   ]
  },
  {
   "cell_type": "code",
   "execution_count": 20,
   "metadata": {
    "ExecuteTime": {
     "end_time": "2020-01-07T03:42:20.055527Z",
     "start_time": "2020-01-07T03:42:20.052398Z"
    },
    "papermill": {
     "duration": 0.022944,
     "end_time": "2020-01-23T21:21:21.358280",
     "exception": false,
     "start_time": "2020-01-23T21:21:21.335336",
     "status": "completed"
    },
    "tags": []
   },
   "outputs": [],
   "source": [
    "motif_enrich_df = pd.concat([motif_enrich_df, motif_gene_anno.reindex(motif_enrich_df.index)], axis=1)"
   ]
  },
  {
   "cell_type": "code",
   "execution_count": 21,
   "metadata": {
    "ExecuteTime": {
     "end_time": "2020-01-07T03:42:20.292931Z",
     "start_time": "2020-01-07T03:42:20.288557Z"
    },
    "papermill": {
     "duration": 0.023679,
     "end_time": "2020-01-23T21:21:21.396384",
     "exception": false,
     "start_time": "2020-01-23T21:21:21.372705",
     "status": "completed"
    },
    "tags": []
   },
   "outputs": [
    {
     "name": "stderr",
     "output_type": "stream",
     "text": [
      "/home/hanliu/miniconda3/envs/clustering/lib/python3.7/site-packages/ipykernel_launcher.py:1: FutureWarning: to_msgpack is deprecated and will be removed in a future version.\n",
      "It is recommended to use pyarrow for on-the-wire transmission of pandas objects.\n",
      "  \"\"\"Entry point for launching an IPython kernel.\n"
     ]
    }
   ],
   "source": [
    "motif_enrich_df.to_msgpack(f'{cluster}.Hypo.motif_enrichment.msg')"
   ]
  },
  {
   "cell_type": "code",
   "execution_count": 22,
   "metadata": {
    "ExecuteTime": {
     "end_time": "2020-01-07T03:42:20.923333Z",
     "start_time": "2020-01-07T03:42:20.918125Z"
    },
    "papermill": {
     "duration": 0.025596,
     "end_time": "2020-01-23T21:21:21.439380",
     "exception": false,
     "start_time": "2020-01-23T21:21:21.413784",
     "status": "completed"
    },
    "tags": []
   },
   "outputs": [
    {
     "data": {
      "text/plain": [
       "27"
      ]
     },
     "execution_count": 22,
     "metadata": {},
     "output_type": "execute_result"
    }
   ],
   "source": [
    "# final filter\n",
    "filtered_motif_df = motif_enrich_df[(motif_enrich_df['oddsratio'] > or_cutoff)\n",
    "                                    &\n",
    "                                    (motif_enrich_df['-lgp'] > neg_lgp_cutoff)]\n",
    "filtered_motif_df.shape[0]"
   ]
  },
  {
   "cell_type": "code",
   "execution_count": 23,
   "metadata": {
    "ExecuteTime": {
     "end_time": "2020-01-07T03:42:22.363654Z",
     "start_time": "2020-01-07T03:42:22.326248Z"
    },
    "papermill": {
     "duration": 0.031033,
     "end_time": "2020-01-23T21:21:21.487662",
     "exception": false,
     "start_time": "2020-01-23T21:21:21.456629",
     "status": "completed"
    },
    "tags": []
   },
   "outputs": [
    {
     "data": {
      "text/plain": [
       "771"
      ]
     },
     "execution_count": 23,
     "metadata": {},
     "output_type": "execute_result"
    }
   ],
   "source": [
    "corr_records['Gene'].unique().size"
   ]
  },
  {
   "cell_type": "code",
   "execution_count": 24,
   "metadata": {
    "ExecuteTime": {
     "end_time": "2020-01-07T03:43:46.863968Z",
     "start_time": "2020-01-07T03:43:46.850047Z"
    },
    "papermill": {
     "duration": 0.035563,
     "end_time": "2020-01-23T21:21:21.539218",
     "exception": false,
     "start_time": "2020-01-23T21:21:21.503655",
     "status": "completed"
    },
    "tags": []
   },
   "outputs": [
    {
     "data": {
      "text/html": [
       "<div>\n",
       "<style scoped>\n",
       "    .dataframe tbody tr th:only-of-type {\n",
       "        vertical-align: middle;\n",
       "    }\n",
       "\n",
       "    .dataframe tbody tr th {\n",
       "        vertical-align: top;\n",
       "    }\n",
       "\n",
       "    .dataframe thead th {\n",
       "        text-align: right;\n",
       "    }\n",
       "</style>\n",
       "<table border=\"1\" class=\"dataframe\">\n",
       "  <thead>\n",
       "    <tr style=\"text-align: right;\">\n",
       "      <th></th>\n",
       "      <th>oddsratio</th>\n",
       "      <th>p_value</th>\n",
       "      <th>adj_p</th>\n",
       "      <th>-lgp</th>\n",
       "      <th>tp</th>\n",
       "      <th>tn</th>\n",
       "      <th>fp</th>\n",
       "      <th>fn</th>\n",
       "      <th>tp_rate</th>\n",
       "      <th>fp_rate</th>\n",
       "      <th>SubType</th>\n",
       "      <th>DMRType</th>\n",
       "      <th>motif_name</th>\n",
       "      <th>motif_genes</th>\n",
       "      <th>gene_ids</th>\n",
       "      <th>gene_names</th>\n",
       "      <th>motif_group</th>\n",
       "    </tr>\n",
       "  </thead>\n",
       "  <tbody>\n",
       "    <tr>\n",
       "      <th>MA0786.1</th>\n",
       "      <td>2.040377</td>\n",
       "      <td>3.183514e-85</td>\n",
       "      <td>1.907456e-83</td>\n",
       "      <td>82.719546</td>\n",
       "      <td>1105.0</td>\n",
       "      <td>40161.0</td>\n",
       "      <td>4533.0</td>\n",
       "      <td>336154.0</td>\n",
       "      <td>0.026777</td>\n",
       "      <td>0.013305</td>\n",
       "      <td>CA1_Chrm3</td>\n",
       "      <td>Hypo</td>\n",
       "      <td>POU3F1</td>\n",
       "      <td>POU3F1</td>\n",
       "      <td>ENSMUSG00000090125.3</td>\n",
       "      <td>Pou3f1</td>\n",
       "      <td>MotifGroup13</td>\n",
       "    </tr>\n",
       "  </tbody>\n",
       "</table>\n",
       "</div>"
      ],
      "text/plain": [
       "          oddsratio       p_value         adj_p       -lgp      tp       tn  \\\n",
       "MA0786.1   2.040377  3.183514e-85  1.907456e-83  82.719546  1105.0  40161.0   \n",
       "\n",
       "              fp        fn   tp_rate   fp_rate    SubType DMRType motif_name  \\\n",
       "MA0786.1  4533.0  336154.0  0.026777  0.013305  CA1_Chrm3    Hypo     POU3F1   \n",
       "\n",
       "         motif_genes              gene_ids gene_names   motif_group  \n",
       "MA0786.1      POU3F1  ENSMUSG00000090125.3     Pou3f1  MotifGroup13  "
      ]
     },
     "execution_count": 24,
     "metadata": {},
     "output_type": "execute_result"
    }
   ],
   "source": [
    "filtered_motif_df[filtered_motif_df['gene_ids'].apply(lambda gs: any([(g in use_genes) for g in gs.split(',')]))]"
   ]
  },
  {
   "cell_type": "code",
   "execution_count": 25,
   "metadata": {
    "papermill": {
     "duration": 0.029053,
     "end_time": "2020-01-23T21:21:21.585466",
     "exception": false,
     "start_time": "2020-01-23T21:21:21.556413",
     "status": "completed"
    },
    "tags": []
   },
   "outputs": [],
   "source": [
    "pybedtools.cleanup()"
   ]
  },
  {
   "cell_type": "code",
   "execution_count": null,
   "metadata": {
    "papermill": {
     "duration": 0.015448,
     "end_time": "2020-01-23T21:21:21.617442",
     "exception": false,
     "start_time": "2020-01-23T21:21:21.601994",
     "status": "completed"
    },
    "tags": []
   },
   "outputs": [],
   "source": []
  },
  {
   "cell_type": "code",
   "execution_count": null,
   "metadata": {
    "papermill": {
     "duration": 0.015553,
     "end_time": "2020-01-23T21:21:21.648186",
     "exception": false,
     "start_time": "2020-01-23T21:21:21.632633",
     "status": "completed"
    },
    "tags": []
   },
   "outputs": [],
   "source": []
  }
 ],
 "metadata": {
  "hide_input": false,
  "kernelspec": {
   "display_name": "Python 3",
   "language": "python",
   "name": "python3"
  },
  "language_info": {
   "codemirror_mode": {
    "name": "ipython",
    "version": 3
   },
   "file_extension": ".py",
   "mimetype": "text/x-python",
   "name": "python",
   "nbconvert_exporter": "python",
   "pygments_lexer": "ipython3",
   "version": "3.7.3"
  },
  "papermill": {
   "duration": 52.976776,
   "end_time": "2020-01-23T21:21:22.272040",
   "environment_variables": {},
   "exception": null,
   "input_path": "MotifEnrichment.ipynb",
   "output_path": "/home/hanliu/project/mouse_rostral_brain/study/ClustersEnsemble/CA1CA3DGEnsemble/MotifEnrichment/MotifEnrichment.CA1_Chrm3.ipynb",
   "parameters": {
    "cluster": "CA1_Chrm3",
    "neg_lgp_cutoff": 10,
    "or_cutoff": 1.3,
    "use_clusters": [
     "CA1_Chrm3",
     "CA3_Cadm2",
     "DG_dg-all"
    ]
   },
   "start_time": "2020-01-23T21:20:29.295264",
   "version": "1.0.1"
  },
  "toc": {
   "base_numbering": 1,
   "nav_menu": {},
   "number_sections": true,
   "sideBar": true,
   "skip_h1_title": true,
   "title_cell": "Table of Contents",
   "title_sidebar": "Contents",
   "toc_cell": false,
   "toc_position": {},
   "toc_section_display": true,
   "toc_window_display": true
  }
 },
 "nbformat": 4,
 "nbformat_minor": 2
}