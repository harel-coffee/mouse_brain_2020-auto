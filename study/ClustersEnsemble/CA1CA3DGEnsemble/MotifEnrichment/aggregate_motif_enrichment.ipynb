{
 "cells": [
  {
   "cell_type": "code",
   "execution_count": 1,
   "metadata": {
    "ExecuteTime": {
     "end_time": "2020-01-23T03:50:03.047014Z",
     "start_time": "2020-01-23T03:50:02.654494Z"
    },
    "papermill": {
     "duration": 0.484079,
     "end_time": "2020-01-23T21:23:08.032403",
     "exception": false,
     "start_time": "2020-01-23T21:23:07.548324",
     "status": "completed"
    },
    "tags": []
   },
   "outputs": [],
   "source": [
    "import pandas as pd\n",
    "import pathlib\n",
    "import seaborn as sns\n",
    "import matplotlib.pyplot as plt\n",
    "import joblib"
   ]
  },
  {
   "cell_type": "code",
   "execution_count": 2,
   "metadata": {
    "ExecuteTime": {
     "end_time": "2020-01-23T03:50:03.063897Z",
     "start_time": "2020-01-23T03:50:03.048742Z"
    },
    "papermill": {
     "duration": 0.035629,
     "end_time": "2020-01-23T21:23:08.080292",
     "exception": false,
     "start_time": "2020-01-23T21:23:08.044663",
     "status": "completed"
    },
    "tags": []
   },
   "outputs": [],
   "source": [
    "from matplotlib import rc\n",
    "\n",
    "labelsize = 6\n",
    "linewidth = 0.6\n",
    "rc('lines', linewidth=linewidth)\n",
    "rc('axes', labelsize=labelsize, linewidth=linewidth)\n",
    "rc('xtick', labelsize=labelsize)\n",
    "rc('ytick', labelsize=labelsize)\n",
    "rc('xtick.major', width=linewidth)\n",
    "rc('ytick.major', width=linewidth)\n",
    "rc('xtick.minor', width=linewidth-0.2)\n",
    "rc('ytick.minor', width=linewidth-0.2)\n",
    "rc('patch', linewidth=linewidth)\n",
    "\n",
    "major_type_palette = pd.read_csv('/home/hanliu/project/mouse_rostral_brain/metadata/palette/major_type.palette.csv',\n",
    "                                header=None, index_col=0, squeeze=True).to_dict()\n",
    "sub_type_palette = pd.read_csv('/home/hanliu/project/mouse_rostral_brain/metadata/palette/sub_type.palette.csv',\n",
    "                                header=None, index_col=0, squeeze=True).to_dict()\n",
    "major_region_palette = pd.read_csv('/home/hanliu/project/mouse_rostral_brain/metadata/palette/major_region.palette.csv',\n",
    "                                header=None, index_col=0, squeeze=True).to_dict()\n",
    "sub_region_palette = pd.read_csv('/home/hanliu/project/mouse_rostral_brain/metadata/palette/sub_region.palette.csv',\n",
    "                                header=None, index_col=0, squeeze=True).to_dict()\n"
   ]
  },
  {
   "cell_type": "code",
   "execution_count": 3,
   "metadata": {
    "ExecuteTime": {
     "end_time": "2020-01-23T03:50:03.069906Z",
     "start_time": "2020-01-23T03:50:03.067859Z"
    },
    "papermill": {
     "duration": 0.017202,
     "end_time": "2020-01-23T21:23:08.108468",
     "exception": false,
     "start_time": "2020-01-23T21:23:08.091266",
     "status": "completed"
    },
    "tags": [
     "parameters"
    ]
   },
   "outputs": [],
   "source": [
    "oddsratio_cutoff = 1.8\n",
    "lgp_cutoff = 10\n",
    "motif_enrichment_dir = '/home/hanliu/project/mouse_rostral_brain/study/ClustersEnsemble/HPFSubtypeEnsemble/MotifEnrichment/'\n",
    "tf_class_level = 'SubFamily'"
   ]
  },
  {
   "cell_type": "code",
   "execution_count": 4,
   "metadata": {
    "papermill": {
     "duration": 0.017343,
     "end_time": "2020-01-23T21:23:08.136154",
     "exception": false,
     "start_time": "2020-01-23T21:23:08.118811",
     "status": "completed"
    },
    "tags": [
     "injected-parameters"
    ]
   },
   "outputs": [],
   "source": [
    "# Parameters\n",
    "oddsratio_cutoff = 1.8\n",
    "lgp_cutoff = 10\n",
    "motif_enrichment_dir = \"/home/hanliu/project/mouse_rostral_brain/study/ClustersEnsemble/CA1CA3DGEnsemble/MotifEnrichment\"\n",
    "tf_class_level = \"SubFamily\"\n"
   ]
  },
  {
   "cell_type": "markdown",
   "metadata": {
    "papermill": {
     "duration": 0.010672,
     "end_time": "2020-01-23T21:23:08.158515",
     "exception": false,
     "start_time": "2020-01-23T21:23:08.147843",
     "status": "completed"
    },
    "tags": []
   },
   "source": [
    "## Gene and motif metadata"
   ]
  },
  {
   "cell_type": "code",
   "execution_count": 5,
   "metadata": {
    "ExecuteTime": {
     "end_time": "2020-01-23T03:50:03.746551Z",
     "start_time": "2020-01-23T03:50:03.514839Z"
    },
    "papermill": {
     "duration": 0.298061,
     "end_time": "2020-01-23T21:23:08.468359",
     "exception": false,
     "start_time": "2020-01-23T21:23:08.170298",
     "status": "completed"
    },
    "tags": []
   },
   "outputs": [
    {
     "data": {
      "text/html": [
       "<div>\n",
       "<style scoped>\n",
       "    .dataframe tbody tr th:only-of-type {\n",
       "        vertical-align: middle;\n",
       "    }\n",
       "\n",
       "    .dataframe tbody tr th {\n",
       "        vertical-align: top;\n",
       "    }\n",
       "\n",
       "    .dataframe thead th {\n",
       "        text-align: right;\n",
       "    }\n",
       "</style>\n",
       "<table border=\"1\" class=\"dataframe\">\n",
       "  <thead>\n",
       "    <tr style=\"text-align: right;\">\n",
       "      <th></th>\n",
       "      <th>uid</th>\n",
       "      <th>GeneRawName</th>\n",
       "      <th>SuperClass</th>\n",
       "      <th>Class</th>\n",
       "      <th>Family</th>\n",
       "      <th>SubFamily</th>\n",
       "      <th>EnsemblID</th>\n",
       "    </tr>\n",
       "  </thead>\n",
       "  <tbody>\n",
       "    <tr>\n",
       "      <th>0</th>\n",
       "      <td>1.1.1.1.1</td>\n",
       "      <td>c-Jun</td>\n",
       "      <td>Basic domains</td>\n",
       "      <td>Basic leucine zipper factors (bZIP)</td>\n",
       "      <td>Jun-related</td>\n",
       "      <td>Jun</td>\n",
       "      <td>ENSMUSG00000052684</td>\n",
       "    </tr>\n",
       "    <tr>\n",
       "      <th>1</th>\n",
       "      <td>1.1.1.1.2</td>\n",
       "      <td>JunB</td>\n",
       "      <td>Basic domains</td>\n",
       "      <td>Basic leucine zipper factors (bZIP)</td>\n",
       "      <td>Jun-related</td>\n",
       "      <td>Jun</td>\n",
       "      <td>ENSMUSG00000052837,ENSMUSG00000052926</td>\n",
       "    </tr>\n",
       "    <tr>\n",
       "      <th>2</th>\n",
       "      <td>1.1.1.1.3</td>\n",
       "      <td>JunD</td>\n",
       "      <td>Basic domains</td>\n",
       "      <td>Basic leucine zipper factors (bZIP)</td>\n",
       "      <td>Jun-related</td>\n",
       "      <td>Jun</td>\n",
       "      <td>ENSMUSG00000071076</td>\n",
       "    </tr>\n",
       "    <tr>\n",
       "      <th>3</th>\n",
       "      <td>1.1.1.2.1</td>\n",
       "      <td>NFE2</td>\n",
       "      <td>Basic domains</td>\n",
       "      <td>Basic leucine zipper factors (bZIP)</td>\n",
       "      <td>Jun-related</td>\n",
       "      <td>NFE2</td>\n",
       "      <td>ENSMUSG00000058794</td>\n",
       "    </tr>\n",
       "    <tr>\n",
       "      <th>4</th>\n",
       "      <td>1.1.1.2.2</td>\n",
       "      <td>NFE2L1</td>\n",
       "      <td>Basic domains</td>\n",
       "      <td>Basic leucine zipper factors (bZIP)</td>\n",
       "      <td>Jun-related</td>\n",
       "      <td>NFE2</td>\n",
       "      <td>ENSMUSG00000038615</td>\n",
       "    </tr>\n",
       "  </tbody>\n",
       "</table>\n",
       "</div>"
      ],
      "text/plain": [
       "         uid GeneRawName     SuperClass                                Class  \\\n",
       "0  1.1.1.1.1       c-Jun  Basic domains  Basic leucine zipper factors (bZIP)   \n",
       "1  1.1.1.1.2        JunB  Basic domains  Basic leucine zipper factors (bZIP)   \n",
       "2  1.1.1.1.3        JunD  Basic domains  Basic leucine zipper factors (bZIP)   \n",
       "3  1.1.1.2.1        NFE2  Basic domains  Basic leucine zipper factors (bZIP)   \n",
       "4  1.1.1.2.2      NFE2L1  Basic domains  Basic leucine zipper factors (bZIP)   \n",
       "\n",
       "        Family SubFamily                              EnsemblID  \n",
       "0  Jun-related       Jun                     ENSMUSG00000052684  \n",
       "1  Jun-related       Jun  ENSMUSG00000052837,ENSMUSG00000052926  \n",
       "2  Jun-related       Jun                     ENSMUSG00000071076  \n",
       "3  Jun-related      NFE2                     ENSMUSG00000058794  \n",
       "4  Jun-related      NFE2                     ENSMUSG00000038615  "
      ]
     },
     "execution_count": 5,
     "metadata": {},
     "output_type": "execute_result"
    }
   ],
   "source": [
    "motif_meta_with_cluster = pd.read_csv(\n",
    "    '/home/hanliu/project/mouse_rostral_brain/study/MotifClustering/JASPAR2020_CORE_vertebrates_non-redundant.mouse_genes.with_motif_group.199.csv',\n",
    "    index_col='motif_uid'\n",
    ")\n",
    "gene_meta = pd.read_csv('/home/hanliu/ref/mouse/gencode/vm22/gencode.vM22.annotation.gene.flat.tsv.gz',\n",
    "                        sep='\\t', index_col='gene_id')\n",
    "tf_class = pd.read_csv('/home/hanliu/ref/TFGene/TFClass/TFClass.with_mouse_gene_id.csv')\n",
    "tf_class.head()"
   ]
  },
  {
   "cell_type": "code",
   "execution_count": 6,
   "metadata": {
    "ExecuteTime": {
     "end_time": "2020-01-23T03:50:04.584771Z",
     "start_time": "2020-01-23T03:50:04.056864Z"
    },
    "papermill": {
     "duration": 0.583441,
     "end_time": "2020-01-23T21:23:09.063607",
     "exception": false,
     "start_time": "2020-01-23T21:23:08.480166",
     "status": "completed"
    },
    "tags": []
   },
   "outputs": [],
   "source": [
    "levels = ['SuperClass', 'Class', 'Family', 'SubFamily']\n",
    "for level in levels:\n",
    "    gene_to_tf_class = {}\n",
    "    for _, row in tf_class.iterrows():\n",
    "        if isinstance(row['EnsemblID'], float):\n",
    "            continue\n",
    "        for g in row['EnsemblID'].split(','):\n",
    "            gene_to_tf_class[g] = row[level]\n",
    "    motif_meta_with_cluster[level] = motif_meta_with_cluster['gene_ids'].map(\n",
    "        lambda i: gene_to_tf_class[i.split('.')[0]] if i.split('.')[0] in gene_to_tf_class else '')\n"
   ]
  },
  {
   "cell_type": "markdown",
   "metadata": {
    "papermill": {
     "duration": 0.010963,
     "end_time": "2020-01-23T21:23:09.087219",
     "exception": false,
     "start_time": "2020-01-23T21:23:09.076256",
     "status": "completed"
    },
    "tags": []
   },
   "source": [
    "## Motif Results"
   ]
  },
  {
   "cell_type": "code",
   "execution_count": 7,
   "metadata": {
    "ExecuteTime": {
     "end_time": "2020-01-23T03:50:06.542923Z",
     "start_time": "2020-01-23T03:50:06.510171Z"
    },
    "papermill": {
     "duration": 0.036888,
     "end_time": "2020-01-23T21:23:09.136351",
     "exception": false,
     "start_time": "2020-01-23T21:23:09.099463",
     "status": "completed"
    },
    "tags": []
   },
   "outputs": [
    {
     "name": "stderr",
     "output_type": "stream",
     "text": [
      "/home/hanliu/miniconda3/envs/clustering/lib/python3.7/site-packages/ipykernel_launcher.py:2: FutureWarning: The read_msgpack is deprecated and will be removed in a future version.\n",
      "It is recommended to use pyarrow for on-the-wire transmission of pandas objects.\n",
      "  \n"
     ]
    }
   ],
   "source": [
    "motif_results = list(pathlib.Path(motif_enrichment_dir).glob('**/*.motif_enrichment.msg'))\n",
    "motif_results = pd.concat([pd.read_msgpack(path) for path in motif_results])\n",
    "motif_results.index.name = 'MotifID'\n",
    "motif_results.reset_index(inplace=True)\n",
    "motif_results = pd.concat([motif_results, \n",
    "           motif_meta_with_cluster.loc[motif_results['MotifID']].reset_index(drop=True)], axis=1)\n",
    "\n",
    "filtered_results = motif_results[(motif_results['oddsratio'] > oddsratio_cutoff) & \n",
    "                              (motif_results['-lgp'] > lgp_cutoff)].copy()\n"
   ]
  },
  {
   "cell_type": "code",
   "execution_count": 8,
   "metadata": {
    "ExecuteTime": {
     "end_time": "2020-01-23T03:50:09.785949Z",
     "start_time": "2020-01-23T03:50:07.878699Z"
    },
    "papermill": {
     "duration": 0.345018,
     "end_time": "2020-01-23T21:23:09.492386",
     "exception": false,
     "start_time": "2020-01-23T21:23:09.147368",
     "status": "completed"
    },
    "tags": []
   },
   "outputs": [],
   "source": [
    "# for each motif class in each group, select most significant ones\n",
    "use_motif_for_clase_group = motif_results.groupby([tf_class_level, 'SubType']).apply(\n",
    "    lambda i: i.sort_values('-lgp', ascending=False)['MotifID'].iloc[0])"
   ]
  },
  {
   "cell_type": "code",
   "execution_count": 9,
   "metadata": {
    "ExecuteTime": {
     "end_time": "2020-01-23T03:50:09.971889Z",
     "start_time": "2020-01-23T03:50:09.787651Z"
    },
    "papermill": {
     "duration": 0.065736,
     "end_time": "2020-01-23T21:23:09.570865",
     "exception": false,
     "start_time": "2020-01-23T21:23:09.505129",
     "status": "completed"
    },
    "tags": []
   },
   "outputs": [],
   "source": [
    "# keep one motif for each group and each motif class\n",
    "use_results = motif_results.set_index(['SubType', 'MotifID']).loc[[\n",
    "    tuple(row.tolist())\n",
    "    for _, row in use_motif_for_clase_group.reset_index().iloc[:, 1:].iterrows()\n",
    "]].reset_index()\n",
    "use_results = use_results[use_results[tf_class_level].fillna('') != ''].copy()\n",
    "\n",
    "assert (use_results.groupby([tf_class_level, 'SubType']).apply(lambda i: i.shape[0]) != 1).sum() == 0"
   ]
  },
  {
   "cell_type": "code",
   "execution_count": 10,
   "metadata": {
    "ExecuteTime": {
     "end_time": "2020-01-23T03:50:56.780145Z",
     "start_time": "2020-01-23T03:50:56.767622Z"
    },
    "papermill": {
     "duration": 0.022367,
     "end_time": "2020-01-23T21:23:09.604206",
     "exception": false,
     "start_time": "2020-01-23T21:23:09.581839",
     "status": "completed"
    },
    "tags": []
   },
   "outputs": [
    {
     "name": "stderr",
     "output_type": "stream",
     "text": [
      "/home/hanliu/miniconda3/envs/clustering/lib/python3.7/site-packages/ipykernel_launcher.py:1: FutureWarning: to_msgpack is deprecated and will be removed in a future version.\n",
      "It is recommended to use pyarrow for on-the-wire transmission of pandas objects.\n",
      "  \"\"\"Entry point for launching an IPython kernel.\n"
     ]
    }
   ],
   "source": [
    "use_results.to_msgpack(f'{motif_enrichment_dir}/MotifEnrichment.agg.one_motif_per_class.msg')"
   ]
  },
  {
   "cell_type": "code",
   "execution_count": 11,
   "metadata": {
    "ExecuteTime": {
     "end_time": "2020-01-23T03:50:57.262347Z",
     "start_time": "2020-01-23T03:50:57.256561Z"
    },
    "papermill": {
     "duration": 0.022567,
     "end_time": "2020-01-23T21:23:09.639162",
     "exception": false,
     "start_time": "2020-01-23T21:23:09.616595",
     "status": "completed"
    },
    "tags": []
   },
   "outputs": [],
   "source": [
    "# only keep motif class that has sig hits\n",
    "sig_motif_class = filtered_results[tf_class_level].unique()\n",
    "use_results = use_results[use_results[tf_class_level].isin(sig_motif_class)].copy()"
   ]
  },
  {
   "cell_type": "code",
   "execution_count": 12,
   "metadata": {
    "ExecuteTime": {
     "end_time": "2020-01-23T03:50:57.808383Z",
     "start_time": "2020-01-23T03:50:57.802190Z"
    },
    "papermill": {
     "duration": 0.020838,
     "end_time": "2020-01-23T21:23:09.671144",
     "exception": false,
     "start_time": "2020-01-23T21:23:09.650306",
     "status": "completed"
    },
    "tags": []
   },
   "outputs": [],
   "source": [
    "motif_class_order = sorted([i for i in filtered_results[tf_class_level].dropna().unique() if i != ''])\n",
    "cluster_order = sorted(use_results['SubType'].unique())"
   ]
  },
  {
   "cell_type": "code",
   "execution_count": null,
   "metadata": {
    "papermill": {
     "duration": 0.011743,
     "end_time": "2020-01-23T21:23:09.694352",
     "exception": false,
     "start_time": "2020-01-23T21:23:09.682609",
     "status": "completed"
    },
    "tags": []
   },
   "outputs": [],
   "source": []
  },
  {
   "cell_type": "code",
   "execution_count": 13,
   "metadata": {
    "ExecuteTime": {
     "end_time": "2020-01-23T03:50:58.920102Z",
     "start_time": "2020-01-23T03:50:58.851587Z"
    },
    "papermill": {
     "duration": 0.045496,
     "end_time": "2020-01-23T21:23:09.750987",
     "exception": false,
     "start_time": "2020-01-23T21:23:09.705491",
     "status": "completed"
    },
    "tags": []
   },
   "outputs": [],
   "source": [
    "use_results = use_results[use_results[tf_class_level].isin(motif_class_order)]\n",
    "use_results['x'] = use_results[tf_class_level].apply(lambda i: motif_class_order.index(i))\n",
    "use_results['y'] = use_results['SubType'].apply(lambda i: cluster_order.index(i))\n",
    "pass_filter_pairs = filtered_results.set_index(['MotifID', 'SubType']).index\n",
    "use_results['sig'] = use_results.apply(lambda i: (i['MotifID'], i['SubType']) in pass_filter_pairs, axis=1)\n",
    "# sync filter to region tfs\n",
    "pass_filter_pairs = filtered_results[(filtered_results['-lgp'] > lgp_cutoff) & \n",
    "                                     (filtered_results['oddsratio'] > oddsratio_cutoff)].set_index(['MotifID', 'SubType']).index\n",
    "use_results['sig'] = use_results.apply(lambda i: (i['MotifID'], i['SubType']) in pass_filter_pairs, axis=1)\n"
   ]
  },
  {
   "cell_type": "code",
   "execution_count": 14,
   "metadata": {
    "ExecuteTime": {
     "end_time": "2020-01-23T03:51:00.171175Z",
     "start_time": "2020-01-23T03:50:59.318643Z"
    },
    "papermill": {
     "duration": 0.338459,
     "end_time": "2020-01-23T21:23:10.102295",
     "exception": false,
     "start_time": "2020-01-23T21:23:09.763836",
     "status": "completed"
    },
    "tags": []
   },
   "outputs": [
    {
     "data": {
      "image/png": "[encoded data removed]",
      "text/plain": [
       "<Figure size 660x180 with 1 Axes>"
      ]
     },
     "metadata": {
      "needs_background": "light"
     },
     "output_type": "display_data"
    }
   ],
   "source": [
    "n_col = len(motif_class_order)\n",
    "n_row = len(cluster_order)\n",
    "\n",
    "fig, ax = plt.subplots(figsize=(n_col * 0.2, n_row * 0.2), dpi=300)\n",
    "sns.scatterplot(ax=ax, data=use_results, x='x', y='y', \n",
    "                hue='oddsratio', hue_norm=(1, 2.5), palette='coolwarm', marker='s',\n",
    "                size='-lgp', size_norm=(1, 100), sizes=(0.1, 65), linewidth=0, clip_on=False)\n",
    "\n",
    "for _, row in use_results[use_results['sig']].iterrows():\n",
    "    ax.text(row['x'], row['y']-0.1, '*', ha='center', va='center', fontsize=labelsize, c='white')\n",
    "\n",
    "ax.set(xticks=range(n_col), xticklabels=[i[:20] for i in motif_class_order],\n",
    "       yticks=range(n_row), yticklabels=cluster_order, ylim=(-0.5, n_row - .5), \n",
    "       xlabel='TF Classes', ylabel='Groups')\n",
    "\n",
    "\n",
    "plt.setp(ax.get_xticklabels(), rotation=45, ha=\"right\",\n",
    "         rotation_mode=\"anchor\")\n",
    "sns.despine(ax=ax)\n",
    "ax.legend_.set_visible(False)"
   ]
  },
  {
   "cell_type": "code",
   "execution_count": 15,
   "metadata": {
    "ExecuteTime": {
     "end_time": "2020-01-23T03:51:37.752488Z",
     "start_time": "2020-01-23T03:51:37.245705Z"
    },
    "papermill": {
     "duration": 0.1636,
     "end_time": "2020-01-23T21:23:10.279154",
     "exception": false,
     "start_time": "2020-01-23T21:23:10.115554",
     "status": "completed"
    },
    "tags": []
   },
   "outputs": [],
   "source": [
    "fig.savefig(f'{motif_enrichment_dir}/MotifEnrichment.dotmap.pdf', bbox_inches='tight')"
   ]
  },
  {
   "cell_type": "code",
   "execution_count": null,
   "metadata": {
    "papermill": {
     "duration": 0.012295,
     "end_time": "2020-01-23T21:23:10.304447",
     "exception": false,
     "start_time": "2020-01-23T21:23:10.292152",
     "status": "completed"
    },
    "tags": []
   },
   "outputs": [],
   "source": []
  },
  {
   "cell_type": "code",
   "execution_count": null,
   "metadata": {
    "papermill": {
     "duration": 0.0117,
     "end_time": "2020-01-23T21:23:10.328353",
     "exception": false,
     "start_time": "2020-01-23T21:23:10.316653",
     "status": "completed"
    },
    "tags": []
   },
   "outputs": [],
   "source": []
  },
  {
   "cell_type": "code",
   "execution_count": null,
   "metadata": {
    "papermill": {
     "duration": 0.011654,
     "end_time": "2020-01-23T21:23:10.351808",
     "exception": false,
     "start_time": "2020-01-23T21:23:10.340154",
     "status": "completed"
    },
    "tags": []
   },
   "outputs": [],
   "source": []
  },
  {
   "cell_type": "code",
   "execution_count": null,
   "metadata": {
    "papermill": {
     "duration": 0.011629,
     "end_time": "2020-01-23T21:23:10.375245",
     "exception": false,
     "start_time": "2020-01-23T21:23:10.363616",
     "status": "completed"
    },
    "tags": []
   },
   "outputs": [],
   "source": []
  },
  {
   "cell_type": "code",
   "execution_count": null,
   "metadata": {
    "papermill": {
     "duration": 0.011664,
     "end_time": "2020-01-23T21:23:10.398710",
     "exception": false,
     "start_time": "2020-01-23T21:23:10.387046",
     "status": "completed"
    },
    "tags": []
   },
   "outputs": [],
   "source": []
  },
  {
   "cell_type": "code",
   "execution_count": null,
   "metadata": {
    "papermill": {
     "duration": 0.012318,
     "end_time": "2020-01-23T21:23:10.423910",
     "exception": false,
     "start_time": "2020-01-23T21:23:10.411592",
     "status": "completed"
    },
    "tags": []
   },
   "outputs": [],
   "source": []
  }
 ],
 "metadata": {
  "hide_input": false,
  "kernelspec": {
   "display_name": "Python 3",
   "language": "python",
   "name": "python3"
  },
  "language_info": {
   "codemirror_mode": {
    "name": "ipython",
    "version": 3
   },
   "file_extension": ".py",
   "mimetype": "text/x-python",
   "name": "python",
   "nbconvert_exporter": "python",
   "pygments_lexer": "ipython3",
   "version": "3.7.3"
  },
  "papermill": {
   "duration": 4.436828,
   "end_time": "2020-01-23T21:23:10.943636",
   "environment_variables": {},
   "exception": null,
   "input_path": "aggregate_motif_enrichment.ipynb",
   "output_path": "/home/hanliu/project/mouse_rostral_brain/study/ClustersEnsemble/CA1CA3DGEnsemble/MotifEnrichment/aggregate_motif_enrichment.ipynb",
   "parameters": {
    "lgp_cutoff": 10,
    "motif_enrichment_dir": "/home/hanliu/project/mouse_rostral_brain/study/ClustersEnsemble/CA1CA3DGEnsemble/MotifEnrichment",
    "oddsratio_cutoff": 1.8,
    "tf_class_level": "SubFamily"
   },
   "start_time": "2020-01-23T21:23:06.506808",
   "version": "1.0.1"
  },
  "toc": {
   "base_numbering": 1,
   "nav_menu": {},
   "number_sections": true,
   "sideBar": true,
   "skip_h1_title": true,
   "title_cell": "Table of Contents",
   "title_sidebar": "Contents",
   "toc_cell": false,
   "toc_position": {},
   "toc_section_display": true,
   "toc_window_display": true
  }
 },
 "nbformat": 4,
 "nbformat_minor": 2
}