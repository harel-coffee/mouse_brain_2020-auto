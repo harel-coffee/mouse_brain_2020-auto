{
 "cells": [
  {
   "cell_type": "code",
   "execution_count": 1,
   "metadata": {
    "ExecuteTime": {
     "end_time": "2020-01-26T21:48:10.942527Z",
     "start_time": "2020-01-26T21:48:10.272611Z"
    },
    "papermill": {
     "duration": 0.709142,
     "end_time": "2020-01-27T20:07:31.954930",
     "exception": false,
     "start_time": "2020-01-27T20:07:31.245788",
     "status": "completed"
    },
    "tags": []
   },
   "outputs": [],
   "source": [
    "from concurrent.futures import ProcessPoolExecutor, as_completed\n",
    "\n",
    "import anndata\n",
    "import matplotlib.pyplot as plt\n",
    "import numpy as np\n",
    "import pandas as pd\n",
    "import pybedtools\n",
    "import scipy.stats as stats\n",
    "import seaborn as sns\n",
    "from statsmodels.stats.multitest import multipletests"
   ]
  },
  {
   "cell_type": "code",
   "execution_count": 2,
   "metadata": {
    "ExecuteTime": {
     "end_time": "2020-01-26T21:48:11.358828Z",
     "start_time": "2020-01-26T21:48:11.355320Z"
    },
    "papermill": {
     "duration": 0.018963,
     "end_time": "2020-01-27T20:07:31.988134",
     "exception": false,
     "start_time": "2020-01-27T20:07:31.969171",
     "status": "completed"
    },
    "tags": [
     "parameters"
    ]
   },
   "outputs": [],
   "source": [
    "cluster = 'CA1_Chrm3'\n",
    "use_clusters = [\n",
    "    'CA1_Ak5', 'CA1_Chrm3', 'CA1_Kif26a', 'CA1_Ptprg',\n",
    "    'CA3_Cadm2', 'CA3_Efnb2', 'CA3-St18_Epha5', 'CA3-St18_Nuak1',\n",
    "    'CA3-St18_Tead1', 'DG_dg-all', 'DG-po_Bcl11a', 'DG-po_Calb2',\n",
    "    'DG-po_Kctd8', 'Gfra1_Gfra1', 'IG-CA2_Chrm3', 'IG-CA2_Peak1', 'IG-CA2_Xpr1'\n",
    "]\n",
    "\n",
    "or_cutoff = 1.6\n",
    "neg_lgp_cutoff = 10\n",
    "mask_quantile_to_max = 0.8"
   ]
  },
  {
   "cell_type": "code",
   "execution_count": 3,
   "metadata": {
    "papermill": {
     "duration": 0.018221,
     "end_time": "2020-01-27T20:07:32.018710",
     "exception": false,
     "start_time": "2020-01-27T20:07:32.000489",
     "status": "completed"
    },
    "tags": [
     "injected-parameters"
    ]
   },
   "outputs": [],
   "source": [
    "# Parameters\n",
    "use_clusters = [\"CGE-Lamp5_Dock5\", \"CGE-Lamp5_Grid1\", \"CGE-Lamp5_Grk5\", \"CGE-Lamp5_Nrxn3\", \"CGE-Lamp5_Sorcs1\", \"CGE-Vip_Ccser1\", \"CGE-Vip_Clstn2\", \"CGE-Vip_Fstl4\", \"CGE-Vip_Galnt17\", \"CGE-Vip_Grm8\", \"CGE-Vip_Ntng1\", \"CGE-Vip_Ptprm\", \"CGE-Vip_Robo1\", \"MGE-Pvalb_Cacna1i\", \"MGE-Pvalb_Cnih3\", \"MGE-Pvalb_Entpd3\", \"MGE-Pvalb_Gfra2\", \"MGE-Pvalb_Ptprk\", \"MGE-Pvalb_Sema5a\", \"MGE-Pvalb_Thsd7a\", \"MGE-Sst_Bmper\", \"MGE-Sst_Chodl\", \"MGE-Sst_Dock4\", \"MGE-Sst_Etv1\", \"MGE-Sst_Frmd6\", \"MGE-Sst_Kcnip4\", \"MGE-Sst_Ptpre\", \"MGE-Sst_Rerg\", \"MGE-Sst_Rxra\", \"MGE-Sst_Ubtd1\", \"MGE-Sst_Unc5b\", \"Unc5c_Unc5c\"]\n",
    "cluster = \"Unc5c_Unc5c\"\n",
    "or_cutoff = 1.6\n",
    "neg_lgp_cutoff = 10\n",
    "mask_quantile_to_max = 0.6\n"
   ]
  },
  {
   "cell_type": "markdown",
   "metadata": {
    "papermill": {
     "duration": 0.012475,
     "end_time": "2020-01-27T20:07:32.043566",
     "exception": false,
     "start_time": "2020-01-27T20:07:32.031091",
     "status": "completed"
    },
    "tags": []
   },
   "source": [
    "## DMR hits"
   ]
  },
  {
   "cell_type": "code",
   "execution_count": 4,
   "metadata": {
    "ExecuteTime": {
     "end_time": "2020-01-26T21:51:39.912875Z",
     "start_time": "2020-01-26T21:51:39.778803Z"
    },
    "papermill": {
     "duration": 0.262174,
     "end_time": "2020-01-27T20:07:32.318148",
     "exception": false,
     "start_time": "2020-01-27T20:07:32.055974",
     "status": "completed"
    },
    "tags": []
   },
   "outputs": [
    {
     "name": "stderr",
     "output_type": "stream",
     "text": [
      "/home/hanliu/miniconda3/envs/clustering/lib/python3.7/site-packages/IPython/core/interactiveshell.py:3326: FutureWarning: The read_msgpack is deprecated and will be removed in a future version.\n",
      "It is recommended to use pyarrow for on-the-wire transmission of pandas objects.\n",
      "  exec(code_obj, self.user_global_ns, self.user_ns)\n"
     ]
    }
   ],
   "source": [
    "corr_records = []\n",
    "with pd.HDFStore('FinalDMGDMR.h5') as hdf:    \n",
    "    for _cluster in use_clusters:\n",
    "        if _cluster == cluster:\n",
    "            continue\n",
    "        try:\n",
    "            corr = hdf[f'/{cluster}/{_cluster}/Corr']\n",
    "        except KeyError:\n",
    "            continue\n",
    "        corr_records.append(corr)\n",
    "corr_records = pd.concat(corr_records)\n",
    "total_corr = pd.read_msgpack('RelatedCorr.msg')\n",
    "corr_records = total_corr.loc[corr_records.unique()].copy()\n",
    "del total_corr"
   ]
  },
  {
   "cell_type": "code",
   "execution_count": null,
   "metadata": {
    "papermill": {
     "duration": 0.012639,
     "end_time": "2020-01-27T20:07:32.344226",
     "exception": false,
     "start_time": "2020-01-27T20:07:32.331587",
     "status": "completed"
    },
    "tags": []
   },
   "outputs": [],
   "source": []
  },
  {
   "cell_type": "code",
   "execution_count": null,
   "metadata": {
    "papermill": {
     "duration": 0.012451,
     "end_time": "2020-01-27T20:07:32.369485",
     "exception": false,
     "start_time": "2020-01-27T20:07:32.357034",
     "status": "completed"
    },
    "tags": []
   },
   "outputs": [],
   "source": []
  },
  {
   "cell_type": "code",
   "execution_count": 5,
   "metadata": {
    "ExecuteTime": {
     "end_time": "2020-01-26T21:51:41.985319Z",
     "start_time": "2020-01-26T21:51:41.970068Z"
    },
    "papermill": {
     "duration": 0.025417,
     "end_time": "2020-01-27T20:07:32.407494",
     "exception": false,
     "start_time": "2020-01-27T20:07:32.382077",
     "status": "completed"
    },
    "tags": []
   },
   "outputs": [
    {
     "name": "stdout",
     "output_type": "stream",
     "text": [
      "154\n"
     ]
    },
    {
     "data": {
      "text/plain": [
       "15385"
      ]
     },
     "execution_count": 5,
     "metadata": {},
     "output_type": "execute_result"
    }
   ],
   "source": [
    "use_genes = pd.Index(corr_records['Gene'].unique())\n",
    "print(use_genes.size)\n",
    "\n",
    "use_dmrs = pd.Index(corr_records['DMR'].unique())\n",
    "use_dmrs.size"
   ]
  },
  {
   "cell_type": "code",
   "execution_count": 6,
   "metadata": {
    "ExecuteTime": {
     "end_time": "2020-01-26T21:51:49.014893Z",
     "start_time": "2020-01-26T21:51:42.870575Z"
    },
    "papermill": {
     "duration": 6.037186,
     "end_time": "2020-01-27T20:07:38.457762",
     "exception": false,
     "start_time": "2020-01-27T20:07:32.420576",
     "status": "completed"
    },
    "tags": []
   },
   "outputs": [],
   "source": [
    "with pd.HDFStore('/home/hanliu/project/mouse_rostral_brain/DMR/SubType/Total/DMRInfo.h5') as hdf:\n",
    "    dmr_bed_df = hdf['bed']\n",
    "dmr_bed_df = dmr_bed_df.loc[use_dmrs].copy()"
   ]
  },
  {
   "cell_type": "code",
   "execution_count": 7,
   "metadata": {
    "ExecuteTime": {
     "end_time": "2020-01-26T21:52:11.154609Z",
     "start_time": "2020-01-26T21:51:49.016653Z"
    },
    "papermill": {
     "duration": 25.772927,
     "end_time": "2020-01-27T20:08:04.244442",
     "exception": false,
     "start_time": "2020-01-27T20:07:38.471515",
     "status": "completed"
    },
    "tags": []
   },
   "outputs": [],
   "source": [
    "dmr_annot = anndata.read_h5ad(\n",
    "    '/home/hanliu/project/mouse_rostral_brain/DMR/SubType/Total/MotifScan.h5ad'\n",
    ")\n",
    "# mask small motif scores\n",
    "motif_cutoff = pd.Series(dmr_annot.X.max(axis=0).todense().A1 * mask_quantile_to_max, index=dmr_annot.var_names)"
   ]
  },
  {
   "cell_type": "code",
   "execution_count": 8,
   "metadata": {
    "ExecuteTime": {
     "end_time": "2020-01-26T21:52:11.286637Z",
     "start_time": "2020-01-26T21:52:11.157082Z"
    },
    "papermill": {
     "duration": 0.164158,
     "end_time": "2020-01-27T20:08:04.423854",
     "exception": false,
     "start_time": "2020-01-27T20:08:04.259696",
     "status": "completed"
    },
    "tags": []
   },
   "outputs": [
    {
     "data": {
      "text/plain": [
       "AnnData object with n_obs × n_vars = 15385 × 719 \n",
       "    obs: 'chrom', 'start', 'end'"
      ]
     },
     "execution_count": 8,
     "metadata": {},
     "output_type": "execute_result"
    }
   ],
   "source": [
    "dmr_annot = dmr_annot[use_dmrs, :].copy()\n",
    "dmr_annot"
   ]
  },
  {
   "cell_type": "markdown",
   "metadata": {
    "papermill": {
     "duration": 0.014038,
     "end_time": "2020-01-27T20:08:04.452404",
     "exception": false,
     "start_time": "2020-01-27T20:08:04.438366",
     "status": "completed"
    },
    "tags": []
   },
   "source": [
    "## Background Hits"
   ]
  },
  {
   "cell_type": "code",
   "execution_count": 9,
   "metadata": {
    "ExecuteTime": {
     "end_time": "2020-01-26T21:52:12.419333Z",
     "start_time": "2020-01-26T21:52:11.288279Z"
    },
    "papermill": {
     "duration": 1.222211,
     "end_time": "2020-01-27T20:08:05.688448",
     "exception": false,
     "start_time": "2020-01-27T20:08:04.466237",
     "status": "completed"
    },
    "tags": []
   },
   "outputs": [],
   "source": [
    "background_motif_hits = anndata.read_h5ad(\n",
    "    '/home/hanliu/project/mouse_rostral_brain/DMR/BackgroundDMR/MotifScan.h5ad'\n",
    ")"
   ]
  },
  {
   "cell_type": "code",
   "execution_count": 10,
   "metadata": {
    "ExecuteTime": {
     "end_time": "2020-01-26T21:52:13.706231Z",
     "start_time": "2020-01-26T21:52:12.420807Z"
    },
    "papermill": {
     "duration": 1.348773,
     "end_time": "2020-01-27T20:08:07.053738",
     "exception": false,
     "start_time": "2020-01-27T20:08:05.704965",
     "status": "completed"
    },
    "tags": []
   },
   "outputs": [],
   "source": [
    "dmr_bed = pybedtools.BedTool().from_dataframe(dmr_bed_df)\n",
    "bg_bed = pybedtools.BedTool().from_dataframe(\n",
    "    background_motif_hits.obs.reset_index().iloc[:, [1, 2, 3, 0]])"
   ]
  },
  {
   "cell_type": "code",
   "execution_count": 11,
   "metadata": {
    "ExecuteTime": {
     "end_time": "2020-01-26T21:52:15.252372Z",
     "start_time": "2020-01-26T21:52:13.707867Z"
    },
    "papermill": {
     "duration": 1.744616,
     "end_time": "2020-01-27T20:08:08.812987",
     "exception": false,
     "start_time": "2020-01-27T20:08:07.068371",
     "status": "completed"
    },
    "tags": []
   },
   "outputs": [
    {
     "data": {
      "text/plain": [
       "AnnData object with n_obs × n_vars = 344769 × 719 \n",
       "    obs: 'chrom', 'start', 'end'"
      ]
     },
     "execution_count": 11,
     "metadata": {},
     "output_type": "execute_result"
    }
   ],
   "source": [
    "# exclude background that overlap with DMR\n",
    "bg_no_overlap = bg_bed.intersect(dmr_bed, v=True)\n",
    "use_bg = bg_no_overlap.to_dataframe().iloc[:, -1].values\n",
    "background_motif_hits = background_motif_hits[use_bg, :]\n",
    "\n",
    "# make sure col in same order\n",
    "background_motif_hits = background_motif_hits[:, dmr_annot.var_names].copy()\n",
    "background_motif_hits"
   ]
  },
  {
   "cell_type": "markdown",
   "metadata": {
    "papermill": {
     "duration": 0.013869,
     "end_time": "2020-01-27T20:08:08.842095",
     "exception": false,
     "start_time": "2020-01-27T20:08:08.828226",
     "status": "completed"
    },
    "tags": []
   },
   "source": [
    "## Redo motif score filter"
   ]
  },
  {
   "cell_type": "code",
   "execution_count": 12,
   "metadata": {
    "ExecuteTime": {
     "end_time": "2020-01-26T21:52:15.569238Z",
     "start_time": "2020-01-26T21:52:15.253998Z"
    },
    "papermill": {
     "duration": 0.174156,
     "end_time": "2020-01-27T20:08:09.030221",
     "exception": false,
     "start_time": "2020-01-27T20:08:08.856065",
     "status": "completed"
    },
    "tags": []
   },
   "outputs": [],
   "source": [
    "# only keep value larger than the cutoff for each motif\n",
    "dmr_annot.X = dmr_annot.X.multiply(\n",
    "    (dmr_annot.X >\n",
    "     motif_cutoff[dmr_annot.var_names].values[None, :]).astype(int)).tocsr()"
   ]
  },
  {
   "cell_type": "code",
   "execution_count": 13,
   "metadata": {
    "ExecuteTime": {
     "end_time": "2020-01-26T21:52:19.853888Z",
     "start_time": "2020-01-26T21:52:15.571788Z"
    },
    "papermill": {
     "duration": 4.529241,
     "end_time": "2020-01-27T20:08:13.574143",
     "exception": false,
     "start_time": "2020-01-27T20:08:09.044902",
     "status": "completed"
    },
    "tags": []
   },
   "outputs": [],
   "source": [
    "# only keep value larger than the cutoff for each motif\n",
    "background_motif_hits.X = background_motif_hits.X.multiply(\n",
    "    (background_motif_hits.X >\n",
    "     motif_cutoff[background_motif_hits.var_names].values[None, :]).astype(int)).tocsr()"
   ]
  },
  {
   "cell_type": "markdown",
   "metadata": {
    "papermill": {
     "duration": 0.014072,
     "end_time": "2020-01-27T20:08:13.603268",
     "exception": false,
     "start_time": "2020-01-27T20:08:13.589196",
     "status": "completed"
    },
    "tags": []
   },
   "source": [
    "## Motif hits contingency table"
   ]
  },
  {
   "cell_type": "code",
   "execution_count": 14,
   "metadata": {
    "ExecuteTime": {
     "end_time": "2020-01-26T21:52:20.185664Z",
     "start_time": "2020-01-26T21:52:19.855765Z"
    },
    "papermill": {
     "duration": 0.351574,
     "end_time": "2020-01-27T20:08:13.968977",
     "exception": false,
     "start_time": "2020-01-27T20:08:13.617403",
     "status": "completed"
    },
    "tags": []
   },
   "outputs": [],
   "source": [
    "motif_ids = dmr_annot.var_names\n",
    "\n",
    "# calculate motif occurence, not considering hits here\n",
    "pos = (dmr_annot[:, motif_ids].X > 0).sum(axis=0)\n",
    "pos_total = dmr_annot.shape[0]\n",
    "\n",
    "neg = (background_motif_hits.X > 0).sum(axis=0)\n",
    "neg_total = background_motif_hits.shape[0]"
   ]
  },
  {
   "cell_type": "code",
   "execution_count": 15,
   "metadata": {
    "ExecuteTime": {
     "end_time": "2020-01-26T21:52:20.238356Z",
     "start_time": "2020-01-26T21:52:20.187222Z"
    },
    "papermill": {
     "duration": 0.022238,
     "end_time": "2020-01-27T20:08:14.006309",
     "exception": false,
     "start_time": "2020-01-27T20:08:13.984071",
     "status": "completed"
    },
    "scrolled": true,
    "tags": []
   },
   "outputs": [],
   "source": [
    "tables = {}\n",
    "for motif, _pos, _neg in zip(motif_ids, pos.A1, neg.A1):\n",
    "    table = [[_pos, pos_total - _pos], [_neg, neg_total - _neg]]\n",
    "    tables[motif] = table"
   ]
  },
  {
   "cell_type": "code",
   "execution_count": 16,
   "metadata": {
    "ExecuteTime": {
     "end_time": "2020-01-26T21:52:21.600914Z",
     "start_time": "2020-01-26T21:52:20.239911Z"
    },
    "papermill": {
     "duration": 1.310276,
     "end_time": "2020-01-27T20:08:15.330814",
     "exception": false,
     "start_time": "2020-01-27T20:08:14.020538",
     "status": "completed"
    },
    "tags": []
   },
   "outputs": [],
   "source": [
    "results = {}\n",
    "with ProcessPoolExecutor(40) as executor:\n",
    "    fs = {}\n",
    "    for motif, t in tables.items():\n",
    "        f = executor.submit(stats.fisher_exact, t, alternative='greater')\n",
    "        fs[f] = motif\n",
    "\n",
    "    for f in as_completed(fs):\n",
    "        motif = fs[f]\n",
    "        odds, p = f.result()\n",
    "        results[motif] = {'oddsratio': odds, 'p_value': p}\n",
    "motif_enrich_df = pd.DataFrame(results).T\n",
    "\n",
    "_, p, _, _ = multipletests(motif_enrich_df['p_value'], method='fdr_bh')\n",
    "motif_enrich_df['adj_p'] = p\n",
    "\n",
    "motif_enrich_df['-lgp'] = -np.log10(motif_enrich_df['adj_p']).replace(\n",
    "    -np.inf, -300)\n",
    "\n",
    "records = {}\n",
    "for motif, t in tables.items():\n",
    "    tp, tn = t[0]\n",
    "    fp, fn = t[1]\n",
    "    tp_rate = tp / pos_total\n",
    "    fp_rate = fp / neg_total\n",
    "    records[motif] = dict(tp=tp,\n",
    "                          tn=tn,\n",
    "                          fp=fp,\n",
    "                          fn=fn,\n",
    "                          tp_rate=tp_rate,\n",
    "                          fp_rate=fp_rate)\n",
    "counts = pd.DataFrame(records).T\n",
    "motif_enrich_df = pd.concat([motif_enrich_df, counts], axis=1, sort=True)"
   ]
  },
  {
   "cell_type": "code",
   "execution_count": 17,
   "metadata": {
    "ExecuteTime": {
     "end_time": "2020-01-26T21:52:21.606602Z",
     "start_time": "2020-01-26T21:52:21.602694Z"
    },
    "papermill": {
     "duration": 0.01979,
     "end_time": "2020-01-27T20:08:15.365238",
     "exception": false,
     "start_time": "2020-01-27T20:08:15.345448",
     "status": "completed"
    },
    "tags": []
   },
   "outputs": [],
   "source": [
    "motif_enrich_df['SubType'] = cluster\n",
    "motif_enrich_df['DMRType'] = 'Hypo'"
   ]
  },
  {
   "cell_type": "code",
   "execution_count": 18,
   "metadata": {
    "ExecuteTime": {
     "end_time": "2020-01-26T21:52:21.612122Z",
     "start_time": "2020-01-26T21:52:21.608092Z"
    },
    "papermill": {
     "duration": 0.019619,
     "end_time": "2020-01-27T20:08:15.398339",
     "exception": false,
     "start_time": "2020-01-27T20:08:15.378720",
     "status": "completed"
    },
    "tags": []
   },
   "outputs": [],
   "source": [
    "motif_enrich_df = motif_enrich_df[motif_enrich_df['oddsratio'] > 1].copy()"
   ]
  },
  {
   "cell_type": "markdown",
   "metadata": {
    "papermill": {
     "duration": 0.013216,
     "end_time": "2020-01-27T20:08:15.424874",
     "exception": false,
     "start_time": "2020-01-27T20:08:15.411658",
     "status": "completed"
    },
    "tags": []
   },
   "source": [
    "## Add gene info"
   ]
  },
  {
   "cell_type": "code",
   "execution_count": 19,
   "metadata": {
    "ExecuteTime": {
     "end_time": "2020-01-26T21:52:21.626067Z",
     "start_time": "2020-01-26T21:52:21.613285Z"
    },
    "papermill": {
     "duration": 0.029308,
     "end_time": "2020-01-27T20:08:15.467418",
     "exception": false,
     "start_time": "2020-01-27T20:08:15.438110",
     "status": "completed"
    },
    "tags": []
   },
   "outputs": [
    {
     "data": {
      "text/html": [
       "<div>\n",
       "<style scoped>\n",
       "    .dataframe tbody tr th:only-of-type {\n",
       "        vertical-align: middle;\n",
       "    }\n",
       "\n",
       "    .dataframe tbody tr th {\n",
       "        vertical-align: top;\n",
       "    }\n",
       "\n",
       "    .dataframe thead th {\n",
       "        text-align: right;\n",
       "    }\n",
       "</style>\n",
       "<table border=\"1\" class=\"dataframe\">\n",
       "  <thead>\n",
       "    <tr style=\"text-align: right;\">\n",
       "      <th></th>\n",
       "      <th>motif_name</th>\n",
       "      <th>motif_genes</th>\n",
       "      <th>gene_ids</th>\n",
       "      <th>gene_names</th>\n",
       "      <th>motif_group</th>\n",
       "    </tr>\n",
       "    <tr>\n",
       "      <th>motif_uid</th>\n",
       "      <th></th>\n",
       "      <th></th>\n",
       "      <th></th>\n",
       "      <th></th>\n",
       "      <th></th>\n",
       "    </tr>\n",
       "  </thead>\n",
       "  <tbody>\n",
       "    <tr>\n",
       "      <th>MA0006.1</th>\n",
       "      <td>Ahr::Arnt</td>\n",
       "      <td>Ahr,Arnt</td>\n",
       "      <td>ENSMUSG00000019256.17,ENSMUSG00000015522.18</td>\n",
       "      <td>Ahr,Arnt</td>\n",
       "      <td>MotifGroup178</td>\n",
       "    </tr>\n",
       "    <tr>\n",
       "      <th>MA0854.1</th>\n",
       "      <td>Alx1</td>\n",
       "      <td>Alx1</td>\n",
       "      <td>ENSMUSG00000036602.14</td>\n",
       "      <td>Alx1</td>\n",
       "      <td>MotifGroup3</td>\n",
       "    </tr>\n",
       "    <tr>\n",
       "      <th>MA0634.1</th>\n",
       "      <td>ALX3</td>\n",
       "      <td>ALX3</td>\n",
       "      <td>ENSMUSG00000014603.3</td>\n",
       "      <td>Alx3</td>\n",
       "      <td>MotifGroup3</td>\n",
       "    </tr>\n",
       "    <tr>\n",
       "      <th>MA0853.1</th>\n",
       "      <td>Alx4</td>\n",
       "      <td>Alx4</td>\n",
       "      <td>ENSMUSG00000040310.12</td>\n",
       "      <td>Alx4</td>\n",
       "      <td>MotifGroup3</td>\n",
       "    </tr>\n",
       "    <tr>\n",
       "      <th>MA0007.3</th>\n",
       "      <td>Ar</td>\n",
       "      <td>Ar</td>\n",
       "      <td>ENSMUSG00000046532.8</td>\n",
       "      <td>Ar</td>\n",
       "      <td>MotifGroup32</td>\n",
       "    </tr>\n",
       "  </tbody>\n",
       "</table>\n",
       "</div>"
      ],
      "text/plain": [
       "          motif_name motif_genes                                     gene_ids  \\\n",
       "motif_uid                                                                       \n",
       "MA0006.1   Ahr::Arnt    Ahr,Arnt  ENSMUSG00000019256.17,ENSMUSG00000015522.18   \n",
       "MA0854.1        Alx1        Alx1                        ENSMUSG00000036602.14   \n",
       "MA0634.1        ALX3        ALX3                         ENSMUSG00000014603.3   \n",
       "MA0853.1        Alx4        Alx4                        ENSMUSG00000040310.12   \n",
       "MA0007.3          Ar          Ar                         ENSMUSG00000046532.8   \n",
       "\n",
       "          gene_names    motif_group  \n",
       "motif_uid                            \n",
       "MA0006.1    Ahr,Arnt  MotifGroup178  \n",
       "MA0854.1        Alx1    MotifGroup3  \n",
       "MA0634.1        Alx3    MotifGroup3  \n",
       "MA0853.1        Alx4    MotifGroup3  \n",
       "MA0007.3          Ar   MotifGroup32  "
      ]
     },
     "execution_count": 19,
     "metadata": {},
     "output_type": "execute_result"
    }
   ],
   "source": [
    "motif_gene_anno = pd.read_csv(\n",
    "    '/home/hanliu/project/mouse_rostral_brain/study/MotifClustering/JASPAR2020_CORE_vertebrates_non-redundant.mouse_genes.with_motif_group.199.csv', \n",
    "    index_col=0\n",
    ")\n",
    "motif_gene_anno.head()"
   ]
  },
  {
   "cell_type": "code",
   "execution_count": 20,
   "metadata": {
    "ExecuteTime": {
     "end_time": "2020-01-26T21:52:21.630288Z",
     "start_time": "2020-01-26T21:52:21.627163Z"
    },
    "papermill": {
     "duration": 0.019592,
     "end_time": "2020-01-27T20:08:15.501743",
     "exception": false,
     "start_time": "2020-01-27T20:08:15.482151",
     "status": "completed"
    },
    "tags": []
   },
   "outputs": [],
   "source": [
    "motif_enrich_df = pd.concat([motif_enrich_df, motif_gene_anno.reindex(motif_enrich_df.index)], axis=1)"
   ]
  },
  {
   "cell_type": "code",
   "execution_count": null,
   "metadata": {
    "papermill": {
     "duration": 0.013682,
     "end_time": "2020-01-27T20:08:15.529184",
     "exception": false,
     "start_time": "2020-01-27T20:08:15.515502",
     "status": "completed"
    },
    "tags": []
   },
   "outputs": [],
   "source": []
  },
  {
   "cell_type": "code",
   "execution_count": 21,
   "metadata": {
    "ExecuteTime": {
     "end_time": "2020-01-26T21:52:21.635129Z",
     "start_time": "2020-01-26T21:52:21.631464Z"
    },
    "papermill": {
     "duration": 0.020099,
     "end_time": "2020-01-27T20:08:15.562894",
     "exception": false,
     "start_time": "2020-01-27T20:08:15.542795",
     "status": "completed"
    },
    "tags": []
   },
   "outputs": [
    {
     "name": "stderr",
     "output_type": "stream",
     "text": [
      "/home/hanliu/miniconda3/envs/clustering/lib/python3.7/site-packages/ipykernel_launcher.py:1: FutureWarning: to_msgpack is deprecated and will be removed in a future version.\n",
      "It is recommended to use pyarrow for on-the-wire transmission of pandas objects.\n",
      "  \"\"\"Entry point for launching an IPython kernel.\n"
     ]
    }
   ],
   "source": [
    "motif_enrich_df.to_msgpack(f'MotifEnrichment/Cell.{cluster}.Hypo.motif_enrichment.msg')"
   ]
  },
  {
   "cell_type": "code",
   "execution_count": 22,
   "metadata": {
    "ExecuteTime": {
     "end_time": "2020-01-26T21:52:21.641304Z",
     "start_time": "2020-01-26T21:52:21.636364Z"
    },
    "papermill": {
     "duration": 0.02157,
     "end_time": "2020-01-27T20:08:15.598205",
     "exception": false,
     "start_time": "2020-01-27T20:08:15.576635",
     "status": "completed"
    },
    "tags": []
   },
   "outputs": [
    {
     "data": {
      "text/plain": [
       "0"
      ]
     },
     "execution_count": 22,
     "metadata": {},
     "output_type": "execute_result"
    }
   ],
   "source": [
    "# final filter\n",
    "filtered_motif_df = motif_enrich_df[(motif_enrich_df['oddsratio'] > or_cutoff)\n",
    "                                    &\n",
    "                                    (motif_enrich_df['-lgp'] > neg_lgp_cutoff)]\n",
    "filtered_motif_df.shape[0]"
   ]
  },
  {
   "cell_type": "code",
   "execution_count": 23,
   "metadata": {
    "ExecuteTime": {
     "end_time": "2020-01-26T21:52:21.656550Z",
     "start_time": "2020-01-26T21:52:21.642417Z"
    },
    "papermill": {
     "duration": 0.023535,
     "end_time": "2020-01-27T20:08:15.636563",
     "exception": false,
     "start_time": "2020-01-27T20:08:15.613028",
     "status": "completed"
    },
    "tags": []
   },
   "outputs": [
    {
     "data": {
      "text/plain": [
       "154"
      ]
     },
     "execution_count": 23,
     "metadata": {},
     "output_type": "execute_result"
    }
   ],
   "source": [
    "corr_records['Gene'].unique().size"
   ]
  },
  {
   "cell_type": "code",
   "execution_count": 24,
   "metadata": {
    "ExecuteTime": {
     "end_time": "2020-01-26T21:52:21.672129Z",
     "start_time": "2020-01-26T21:52:21.657698Z"
    },
    "papermill": {
     "duration": 0.022546,
     "end_time": "2020-01-27T20:08:15.673297",
     "exception": false,
     "start_time": "2020-01-27T20:08:15.650751",
     "status": "completed"
    },
    "tags": []
   },
   "outputs": [
    {
     "data": {
      "text/html": [
       "<div>\n",
       "<style scoped>\n",
       "    .dataframe tbody tr th:only-of-type {\n",
       "        vertical-align: middle;\n",
       "    }\n",
       "\n",
       "    .dataframe tbody tr th {\n",
       "        vertical-align: top;\n",
       "    }\n",
       "\n",
       "    .dataframe thead th {\n",
       "        text-align: right;\n",
       "    }\n",
       "</style>\n",
       "<table border=\"1\" class=\"dataframe\">\n",
       "  <thead>\n",
       "    <tr style=\"text-align: right;\">\n",
       "      <th></th>\n",
       "    </tr>\n",
       "  </thead>\n",
       "  <tbody>\n",
       "  </tbody>\n",
       "</table>\n",
       "</div>"
      ],
      "text/plain": [
       "Empty DataFrame\n",
       "Columns: []\n",
       "Index: []"
      ]
     },
     "execution_count": 24,
     "metadata": {},
     "output_type": "execute_result"
    }
   ],
   "source": [
    "filtered_motif_df[filtered_motif_df['gene_ids'].apply(lambda gs: any([(g in use_genes) for g in gs.split(',')]))]"
   ]
  },
  {
   "cell_type": "code",
   "execution_count": 25,
   "metadata": {
    "ExecuteTime": {
     "end_time": "2020-01-26T21:52:21.681351Z",
     "start_time": "2020-01-26T21:52:21.673243Z"
    },
    "papermill": {
     "duration": 0.024604,
     "end_time": "2020-01-27T20:08:15.712348",
     "exception": false,
     "start_time": "2020-01-27T20:08:15.687744",
     "status": "completed"
    },
    "tags": []
   },
   "outputs": [],
   "source": [
    "pybedtools.cleanup()"
   ]
  },
  {
   "cell_type": "code",
   "execution_count": null,
   "metadata": {
    "papermill": {
     "duration": 0.014749,
     "end_time": "2020-01-27T20:08:15.742296",
     "exception": false,
     "start_time": "2020-01-27T20:08:15.727547",
     "status": "completed"
    },
    "tags": []
   },
   "outputs": [],
   "source": []
  },
  {
   "cell_type": "code",
   "execution_count": null,
   "metadata": {
    "papermill": {
     "duration": 0.014372,
     "end_time": "2020-01-27T20:08:15.771976",
     "exception": false,
     "start_time": "2020-01-27T20:08:15.757604",
     "status": "completed"
    },
    "tags": []
   },
   "outputs": [],
   "source": []
  }
 ],
 "metadata": {
  "hide_input": false,
  "kernelspec": {
   "display_name": "Python 3",
   "language": "python",
   "name": "python3"
  },
  "language_info": {
   "codemirror_mode": {
    "name": "ipython",
    "version": 3
   },
   "file_extension": ".py",
   "mimetype": "text/x-python",
   "name": "python",
   "nbconvert_exporter": "python",
   "pygments_lexer": "ipython3",
   "version": "3.7.3"
  },
  "papermill": {
   "duration": 45.935055,
   "end_time": "2020-01-27T20:08:16.292867",
   "environment_variables": {},
   "exception": null,
   "input_path": "9.MotifEnrichment_CellCluster.ipynb",
   "output_path": "/home/hanliu/project/mouse_rostral_brain/study/ClustersEnsemble/InhMGECGESubtypeEnsemble/9.MotifEnrichment_CellCluster.ipynb",
   "parameters": {
    "cluster": "Unc5c_Unc5c",
    "mask_quantile_to_max": 0.6,
    "neg_lgp_cutoff": 10,
    "or_cutoff": 1.6,
    "use_clusters": [
     "CGE-Lamp5_Dock5",
     "CGE-Lamp5_Grid1",
     "CGE-Lamp5_Grk5",
     "CGE-Lamp5_Nrxn3",
     "CGE-Lamp5_Sorcs1",
     "CGE-Vip_Ccser1",
     "CGE-Vip_Clstn2",
     "CGE-Vip_Fstl4",
     "CGE-Vip_Galnt17",
     "CGE-Vip_Grm8",
     "CGE-Vip_Ntng1",
     "CGE-Vip_Ptprm",
     "CGE-Vip_Robo1",
     "MGE-Pvalb_Cacna1i",
     "MGE-Pvalb_Cnih3",
     "MGE-Pvalb_Entpd3",
     "MGE-Pvalb_Gfra2",
     "MGE-Pvalb_Ptprk",
     "MGE-Pvalb_Sema5a",
     "MGE-Pvalb_Thsd7a",
     "MGE-Sst_Bmper",
     "MGE-Sst_Chodl",
     "MGE-Sst_Dock4",
     "MGE-Sst_Etv1",
     "MGE-Sst_Frmd6",
     "MGE-Sst_Kcnip4",
     "MGE-Sst_Ptpre",
     "MGE-Sst_Rerg",
     "MGE-Sst_Rxra",
     "MGE-Sst_Ubtd1",
     "MGE-Sst_Unc5b",
     "Unc5c_Unc5c"
    ]
   },
   "start_time": "2020-01-27T20:07:30.357812",
   "version": "1.0.1"
  },
  "toc": {
   "base_numbering": 1,
   "nav_menu": {},
   "number_sections": true,
   "sideBar": true,
   "skip_h1_title": true,
   "title_cell": "Table of Contents",
   "title_sidebar": "Contents",
   "toc_cell": false,
   "toc_position": {},
   "toc_section_display": true,
   "toc_window_display": true
  }
 },
 "nbformat": 4,
 "nbformat_minor": 2
}