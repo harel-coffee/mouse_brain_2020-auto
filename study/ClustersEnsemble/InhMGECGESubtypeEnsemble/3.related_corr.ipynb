{
 "cells": [
  {
   "cell_type": "code",
   "execution_count": 1,
   "metadata": {
    "ExecuteTime": {
     "end_time": "2020-01-26T04:08:31.534305Z",
     "start_time": "2020-01-26T04:08:31.395548Z"
    },
    "papermill": {
     "duration": 0.158427,
     "end_time": "2020-01-27T04:12:38.228694",
     "exception": false,
     "start_time": "2020-01-27T04:12:38.070267",
     "status": "completed"
    },
    "tags": []
   },
   "outputs": [],
   "source": [
    "import pandas as pd"
   ]
  },
  {
   "cell_type": "markdown",
   "metadata": {
    "papermill": {
     "duration": 0.005986,
     "end_time": "2020-01-27T04:12:38.241516",
     "exception": false,
     "start_time": "2020-01-27T04:12:38.235530",
     "status": "completed"
    },
    "tags": []
   },
   "source": [
    "## Parameter"
   ]
  },
  {
   "cell_type": "code",
   "execution_count": 2,
   "metadata": {
    "ExecuteTime": {
     "end_time": "2020-01-26T04:08:32.514230Z",
     "start_time": "2020-01-26T04:08:32.512179Z"
    },
    "papermill": {
     "duration": 0.010789,
     "end_time": "2020-01-27T04:12:38.258177",
     "exception": false,
     "start_time": "2020-01-27T04:12:38.247388",
     "status": "completed"
    },
    "tags": [
     "parameters"
    ]
   },
   "outputs": [],
   "source": [
    "corr_cutoff = 0.35\n",
    "distance_cutoff = 500000"
   ]
  },
  {
   "cell_type": "code",
   "execution_count": 3,
   "metadata": {
    "papermill": {
     "duration": 0.010046,
     "end_time": "2020-01-27T04:12:38.273793",
     "exception": false,
     "start_time": "2020-01-27T04:12:38.263747",
     "status": "completed"
    },
    "tags": [
     "injected-parameters"
    ]
   },
   "outputs": [],
   "source": [
    "# Parameters\n",
    "corr_cutoff = 0.3\n",
    "distance_cutoff = 500000\n"
   ]
  },
  {
   "cell_type": "code",
   "execution_count": 4,
   "metadata": {
    "ExecuteTime": {
     "end_time": "2020-01-26T04:08:36.932132Z",
     "start_time": "2020-01-26T04:08:32.800190Z"
    },
    "papermill": {
     "duration": 3.93564,
     "end_time": "2020-01-27T04:12:42.215040",
     "exception": false,
     "start_time": "2020-01-27T04:12:38.279400",
     "status": "completed"
    },
    "tags": []
   },
   "outputs": [
    {
     "name": "stderr",
     "output_type": "stream",
     "text": [
      "/home/hanliu/miniconda3/envs/clustering/lib/python3.7/site-packages/IPython/core/interactiveshell.py:3326: FutureWarning: The read_msgpack is deprecated and will be removed in a future version.\n",
      "It is recommended to use pyarrow for on-the-wire transmission of pandas objects.\n",
      "  exec(code_obj, self.user_global_ns, self.user_ns)\n"
     ]
    }
   ],
   "source": [
    "total_corr = pd.read_msgpack('/home/hanliu/project/mouse_rostral_brain/study/DMRGeneCorr/TotalGeneDMRCorrLoop.0.3.msg')"
   ]
  },
  {
   "cell_type": "code",
   "execution_count": 5,
   "metadata": {
    "ExecuteTime": {
     "end_time": "2020-01-26T04:08:38.106066Z",
     "start_time": "2020-01-26T04:08:36.933687Z"
    },
    "papermill": {
     "duration": 0.959582,
     "end_time": "2020-01-27T04:12:43.181541",
     "exception": false,
     "start_time": "2020-01-27T04:12:42.221959",
     "status": "completed"
    },
    "tags": []
   },
   "outputs": [],
   "source": [
    "use_gene = pd.read_csv('related_dmgs.txt', index_col=0, header=None).index\n",
    "use_dmr = pd.read_csv('related_dmrs.txt', index_col=0, header=None).index"
   ]
  },
  {
   "cell_type": "code",
   "execution_count": 6,
   "metadata": {
    "ExecuteTime": {
     "end_time": "2020-01-26T04:08:40.557536Z",
     "start_time": "2020-01-26T04:08:38.107693Z"
    },
    "papermill": {
     "duration": 2.18301,
     "end_time": "2020-01-27T04:12:45.371321",
     "exception": false,
     "start_time": "2020-01-27T04:12:43.188311",
     "status": "completed"
    },
    "tags": []
   },
   "outputs": [],
   "source": [
    "use_corr = total_corr[total_corr['DMR'].isin(use_dmr) & \n",
    "           total_corr['Gene'].isin(use_gene) & \n",
    "           (total_corr['DMR_to_gene_dist'].abs() < distance_cutoff) & \n",
    "           (total_corr['Corr'] > corr_cutoff)].reset_index(drop=True)"
   ]
  },
  {
   "cell_type": "code",
   "execution_count": 7,
   "metadata": {
    "ExecuteTime": {
     "end_time": "2020-01-26T04:08:41.187788Z",
     "start_time": "2020-01-26T04:08:40.558956Z"
    },
    "papermill": {
     "duration": 0.146801,
     "end_time": "2020-01-27T04:12:45.524768",
     "exception": false,
     "start_time": "2020-01-27T04:12:45.377967",
     "status": "completed"
    },
    "tags": []
   },
   "outputs": [
    {
     "name": "stderr",
     "output_type": "stream",
     "text": [
      "/home/hanliu/miniconda3/envs/clustering/lib/python3.7/site-packages/ipykernel_launcher.py:1: FutureWarning: to_msgpack is deprecated and will be removed in a future version.\n",
      "It is recommended to use pyarrow for on-the-wire transmission of pandas objects.\n",
      "  \"\"\"Entry point for launching an IPython kernel.\n"
     ]
    }
   ],
   "source": [
    "use_corr.to_msgpack('RelatedCorr.msg')"
   ]
  },
  {
   "cell_type": "code",
   "execution_count": 8,
   "metadata": {
    "ExecuteTime": {
     "end_time": "2020-01-26T04:08:41.193088Z",
     "start_time": "2020-01-26T04:08:41.189142Z"
    },
    "papermill": {
     "duration": 0.013958,
     "end_time": "2020-01-27T04:12:45.545518",
     "exception": false,
     "start_time": "2020-01-27T04:12:45.531560",
     "status": "completed"
    },
    "tags": []
   },
   "outputs": [
    {
     "data": {
      "text/plain": [
       "(171087, 5)"
      ]
     },
     "execution_count": 8,
     "metadata": {},
     "output_type": "execute_result"
    }
   ],
   "source": [
    "use_corr.shape"
   ]
  },
  {
   "cell_type": "code",
   "execution_count": 9,
   "metadata": {
    "ExecuteTime": {
     "end_time": "2020-01-26T04:08:41.202701Z",
     "start_time": "2020-01-26T04:08:41.194230Z"
    },
    "papermill": {
     "duration": 0.017863,
     "end_time": "2020-01-27T04:12:45.569610",
     "exception": false,
     "start_time": "2020-01-27T04:12:45.551747",
     "status": "completed"
    },
    "tags": []
   },
   "outputs": [
    {
     "data": {
      "text/html": [
       "<div>\n",
       "<style scoped>\n",
       "    .dataframe tbody tr th:only-of-type {\n",
       "        vertical-align: middle;\n",
       "    }\n",
       "\n",
       "    .dataframe tbody tr th {\n",
       "        vertical-align: top;\n",
       "    }\n",
       "\n",
       "    .dataframe thead th {\n",
       "        text-align: right;\n",
       "    }\n",
       "</style>\n",
       "<table border=\"1\" class=\"dataframe\">\n",
       "  <thead>\n",
       "    <tr style=\"text-align: right;\">\n",
       "      <th></th>\n",
       "      <th>DMR</th>\n",
       "      <th>Gene</th>\n",
       "      <th>Corr</th>\n",
       "      <th>chrom</th>\n",
       "      <th>DMR_to_gene_dist</th>\n",
       "    </tr>\n",
       "  </thead>\n",
       "  <tbody>\n",
       "    <tr>\n",
       "      <th>0</th>\n",
       "      <td>Subchr1_12464</td>\n",
       "      <td>ENSMUSG00000103825.1</td>\n",
       "      <td>0.588061</td>\n",
       "      <td>chr1</td>\n",
       "      <td>-390198.0</td>\n",
       "    </tr>\n",
       "    <tr>\n",
       "      <th>1</th>\n",
       "      <td>Subchr1_12465</td>\n",
       "      <td>ENSMUSG00000103825.1</td>\n",
       "      <td>0.345632</td>\n",
       "      <td>chr1</td>\n",
       "      <td>-390021.0</td>\n",
       "    </tr>\n",
       "    <tr>\n",
       "      <th>2</th>\n",
       "      <td>Subchr1_12467</td>\n",
       "      <td>ENSMUSG00000103825.1</td>\n",
       "      <td>0.435943</td>\n",
       "      <td>chr1</td>\n",
       "      <td>-389899.0</td>\n",
       "    </tr>\n",
       "    <tr>\n",
       "      <th>3</th>\n",
       "      <td>Subchr1_12497</td>\n",
       "      <td>ENSMUSG00000103825.1</td>\n",
       "      <td>0.334275</td>\n",
       "      <td>chr1</td>\n",
       "      <td>-372621.0</td>\n",
       "    </tr>\n",
       "    <tr>\n",
       "      <th>4</th>\n",
       "      <td>Subchr1_12565</td>\n",
       "      <td>ENSMUSG00000057715.13</td>\n",
       "      <td>0.316544</td>\n",
       "      <td>chr1</td>\n",
       "      <td>-490320.0</td>\n",
       "    </tr>\n",
       "  </tbody>\n",
       "</table>\n",
       "</div>"
      ],
      "text/plain": [
       "             DMR                   Gene      Corr chrom  DMR_to_gene_dist\n",
       "0  Subchr1_12464   ENSMUSG00000103825.1  0.588061  chr1         -390198.0\n",
       "1  Subchr1_12465   ENSMUSG00000103825.1  0.345632  chr1         -390021.0\n",
       "2  Subchr1_12467   ENSMUSG00000103825.1  0.435943  chr1         -389899.0\n",
       "3  Subchr1_12497   ENSMUSG00000103825.1  0.334275  chr1         -372621.0\n",
       "4  Subchr1_12565  ENSMUSG00000057715.13  0.316544  chr1         -490320.0"
      ]
     },
     "execution_count": 9,
     "metadata": {},
     "output_type": "execute_result"
    }
   ],
   "source": [
    "use_corr.head()"
   ]
  },
  {
   "cell_type": "code",
   "execution_count": null,
   "metadata": {
    "papermill": {
     "duration": 0.006596,
     "end_time": "2020-01-27T04:12:45.582760",
     "exception": false,
     "start_time": "2020-01-27T04:12:45.576164",
     "status": "completed"
    },
    "tags": []
   },
   "outputs": [],
   "source": []
  },
  {
   "cell_type": "code",
   "execution_count": null,
   "metadata": {
    "papermill": {
     "duration": 0.006429,
     "end_time": "2020-01-27T04:12:45.595910",
     "exception": false,
     "start_time": "2020-01-27T04:12:45.589481",
     "status": "completed"
    },
    "tags": []
   },
   "outputs": [],
   "source": []
  },
  {
   "cell_type": "code",
   "execution_count": null,
   "metadata": {
    "papermill": {
     "duration": 0.006441,
     "end_time": "2020-01-27T04:12:45.608902",
     "exception": false,
     "start_time": "2020-01-27T04:12:45.602461",
     "status": "completed"
    },
    "tags": []
   },
   "outputs": [],
   "source": []
  },
  {
   "cell_type": "code",
   "execution_count": null,
   "metadata": {
    "papermill": {
     "duration": 0.006444,
     "end_time": "2020-01-27T04:12:45.621907",
     "exception": false,
     "start_time": "2020-01-27T04:12:45.615463",
     "status": "completed"
    },
    "tags": []
   },
   "outputs": [],
   "source": []
  },
  {
   "cell_type": "code",
   "execution_count": null,
   "metadata": {
    "papermill": {
     "duration": 0.006518,
     "end_time": "2020-01-27T04:12:45.634971",
     "exception": false,
     "start_time": "2020-01-27T04:12:45.628453",
     "status": "completed"
    },
    "tags": []
   },
   "outputs": [],
   "source": []
  }
 ],
 "metadata": {
  "hide_input": false,
  "kernelspec": {
   "display_name": "Python 3",
   "language": "python",
   "name": "python3"
  },
  "language_info": {
   "codemirror_mode": {
    "name": "ipython",
    "version": 3
   },
   "file_extension": ".py",
   "mimetype": "text/x-python",
   "name": "python",
   "nbconvert_exporter": "python",
   "pygments_lexer": "ipython3",
   "version": "3.7.3"
  },
  "papermill": {
   "duration": 9.395818,
   "end_time": "2020-01-27T04:12:46.548921",
   "environment_variables": {},
   "exception": null,
   "input_path": "3.related_corr.ipynb",
   "output_path": "/home/hanliu/project/mouse_rostral_brain/study/ClustersEnsemble/InhMGECGESubtypeEnsemble/3.related_corr.ipynb",
   "parameters": {
    "corr_cutoff": 0.3,
    "distance_cutoff": 500000
   },
   "start_time": "2020-01-27T04:12:37.153103",
   "version": "1.0.1"
  },
  "toc": {
   "base_numbering": 1,
   "nav_menu": {},
   "number_sections": true,
   "sideBar": true,
   "skip_h1_title": true,
   "title_cell": "Table of Contents",
   "title_sidebar": "Contents",
   "toc_cell": false,
   "toc_position": {},
   "toc_section_display": true,
   "toc_window_display": true
  }
 },
 "nbformat": 4,
 "nbformat_minor": 2
}