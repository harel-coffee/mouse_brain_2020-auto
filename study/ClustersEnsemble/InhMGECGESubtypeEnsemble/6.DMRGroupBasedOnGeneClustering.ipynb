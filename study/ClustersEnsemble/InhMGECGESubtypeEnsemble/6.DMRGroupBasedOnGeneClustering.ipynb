{
 "cells": [
  {
   "cell_type": "code",
   "execution_count": 1,
   "metadata": {
    "ExecuteTime": {
     "end_time": "2020-01-26T05:29:16.749415Z",
     "start_time": "2020-01-26T05:29:16.541873Z"
    },
    "papermill": {
     "duration": 0.200333,
     "end_time": "2020-01-27T04:17:08.420594",
     "exception": false,
     "start_time": "2020-01-27T04:17:08.220261",
     "status": "completed"
    },
    "tags": []
   },
   "outputs": [],
   "source": [
    "import pandas as pd\n",
    "import numpy as np\n",
    "import anndata\n",
    "import json\n",
    "from collections import defaultdict"
   ]
  },
  {
   "cell_type": "code",
   "execution_count": 2,
   "metadata": {
    "ExecuteTime": {
     "end_time": "2020-01-26T05:29:17.839829Z",
     "start_time": "2020-01-26T05:29:17.370462Z"
    },
    "papermill": {
     "duration": 0.047548,
     "end_time": "2020-01-27T04:17:08.474672",
     "exception": false,
     "start_time": "2020-01-27T04:17:08.427124",
     "status": "completed"
    },
    "tags": []
   },
   "outputs": [],
   "source": [
    "gene_clusters = anndata.read_h5ad('GeneClustering.h5ad')\n",
    "gene_clusters = gene_clusters.obs['leiden']"
   ]
  },
  {
   "cell_type": "code",
   "execution_count": 3,
   "metadata": {
    "ExecuteTime": {
     "end_time": "2020-01-26T05:29:18.392533Z",
     "start_time": "2020-01-26T05:29:18.115665Z"
    },
    "papermill": {
     "duration": 0.083504,
     "end_time": "2020-01-27T04:17:08.563340",
     "exception": false,
     "start_time": "2020-01-27T04:17:08.479836",
     "status": "completed"
    },
    "tags": []
   },
   "outputs": [
    {
     "name": "stderr",
     "output_type": "stream",
     "text": [
      "/home/hanliu/miniconda3/envs/clustering/lib/python3.7/site-packages/IPython/core/interactiveshell.py:3326: FutureWarning: The read_msgpack is deprecated and will be removed in a future version.\n",
      "It is recommended to use pyarrow for on-the-wire transmission of pandas objects.\n",
      "  exec(code_obj, self.user_global_ns, self.user_ns)\n"
     ]
    }
   ],
   "source": [
    "total_corr = pd.read_msgpack('RelatedCorr.msg')"
   ]
  },
  {
   "cell_type": "code",
   "execution_count": 4,
   "metadata": {
    "ExecuteTime": {
     "end_time": "2020-01-26T05:29:22.345089Z",
     "start_time": "2020-01-26T05:29:18.394069Z"
    },
    "papermill": {
     "duration": 7.047858,
     "end_time": "2020-01-27T04:17:15.617206",
     "exception": false,
     "start_time": "2020-01-27T04:17:08.569348",
     "status": "completed"
    },
    "tags": []
   },
   "outputs": [],
   "source": [
    "dmr_records = []\n",
    "with pd.HDFStore('FinalDMGDMR.h5') as f:\n",
    "    for k in f.keys():\n",
    "        if k.endswith('Corr'):\n",
    "            corr_index = f[k]\n",
    "        else:\n",
    "            continue\n",
    "        this_corr = total_corr.loc[corr_index].copy()\n",
    "        this_corr['gene_cluster'] = this_corr['Gene'].map(gene_clusters)\n",
    "        dmr_records.append(this_corr[['DMR', 'gene_cluster']])\n",
    "dmr_records = pd.concat(dmr_records).reset_index(drop=True).drop_duplicates()"
   ]
  },
  {
   "cell_type": "code",
   "execution_count": 5,
   "metadata": {
    "ExecuteTime": {
     "end_time": "2020-01-26T05:29:22.440148Z",
     "start_time": "2020-01-26T05:29:22.346844Z"
    },
    "papermill": {
     "duration": 0.030487,
     "end_time": "2020-01-27T04:17:15.653701",
     "exception": false,
     "start_time": "2020-01-27T04:17:15.623214",
     "status": "completed"
    },
    "tags": []
   },
   "outputs": [],
   "source": [
    "cluster_dmr_index = dmr_records.groupby('gene_cluster').apply(lambda i: i['DMR'].tolist()).to_dict()"
   ]
  },
  {
   "cell_type": "code",
   "execution_count": 6,
   "metadata": {
    "ExecuteTime": {
     "end_time": "2020-01-26T05:31:36.263520Z",
     "start_time": "2020-01-26T05:31:36.085232Z"
    },
    "papermill": {
     "duration": 0.058251,
     "end_time": "2020-01-27T04:17:15.717471",
     "exception": false,
     "start_time": "2020-01-27T04:17:15.659220",
     "status": "completed"
    },
    "tags": []
   },
   "outputs": [],
   "source": [
    "with open('GeneCluster.relatedDMR.index.json', 'w') as f:\n",
    "    json.dump(cluster_dmr_index, f)"
   ]
  },
  {
   "cell_type": "code",
   "execution_count": 7,
   "metadata": {
    "papermill": {
     "duration": 0.013215,
     "end_time": "2020-01-27T04:17:15.736588",
     "exception": false,
     "start_time": "2020-01-27T04:17:15.723373",
     "status": "completed"
    },
    "tags": []
   },
   "outputs": [
    {
     "name": "stdout",
     "output_type": "stream",
     "text": [
      "Cluster 0\t3336\n",
      "Cluster 1\t3977\n",
      "Cluster 2\t18450\n",
      "Cluster 3\t7109\n",
      "Cluster 4\t10744\n",
      "Cluster 5\t2022\n",
      "Cluster 6\t1040\n",
      "Cluster 7\t15217\n",
      "Cluster 8\t12109\n",
      "Cluster 9\t5367\n",
      "Cluster 10\t19494\n",
      "Cluster 11\t2473\n",
      "Cluster 12\t4372\n",
      "Cluster 13\t4059\n"
     ]
    }
   ],
   "source": [
    "for cluster, dmrs in cluster_dmr_index.items():\n",
    "    print(f'Cluster {cluster}', len(dmrs), sep='\\t')"
   ]
  },
  {
   "cell_type": "code",
   "execution_count": null,
   "metadata": {
    "papermill": {
     "duration": 0.005303,
     "end_time": "2020-01-27T04:17:15.747325",
     "exception": false,
     "start_time": "2020-01-27T04:17:15.742022",
     "status": "completed"
    },
    "tags": []
   },
   "outputs": [],
   "source": []
  },
  {
   "cell_type": "code",
   "execution_count": null,
   "metadata": {
    "papermill": {
     "duration": 0.005298,
     "end_time": "2020-01-27T04:17:15.758022",
     "exception": false,
     "start_time": "2020-01-27T04:17:15.752724",
     "status": "completed"
    },
    "tags": []
   },
   "outputs": [],
   "source": []
  },
  {
   "cell_type": "code",
   "execution_count": null,
   "metadata": {
    "papermill": {
     "duration": 0.005294,
     "end_time": "2020-01-27T04:17:15.768734",
     "exception": false,
     "start_time": "2020-01-27T04:17:15.763440",
     "status": "completed"
    },
    "tags": []
   },
   "outputs": [],
   "source": []
  },
  {
   "cell_type": "code",
   "execution_count": null,
   "metadata": {
    "papermill": {
     "duration": 0.005366,
     "end_time": "2020-01-27T04:17:15.779504",
     "exception": false,
     "start_time": "2020-01-27T04:17:15.774138",
     "status": "completed"
    },
    "tags": []
   },
   "outputs": [],
   "source": []
  },
  {
   "cell_type": "code",
   "execution_count": null,
   "metadata": {
    "papermill": {
     "duration": 0.005301,
     "end_time": "2020-01-27T04:17:15.790335",
     "exception": false,
     "start_time": "2020-01-27T04:17:15.785034",
     "status": "completed"
    },
    "tags": []
   },
   "outputs": [],
   "source": []
  },
  {
   "cell_type": "code",
   "execution_count": null,
   "metadata": {
    "papermill": {
     "duration": 0.005408,
     "end_time": "2020-01-27T04:17:15.801136",
     "exception": false,
     "start_time": "2020-01-27T04:17:15.795728",
     "status": "completed"
    },
    "tags": []
   },
   "outputs": [],
   "source": []
  }
 ],
 "metadata": {
  "hide_input": false,
  "kernelspec": {
   "display_name": "Python 3",
   "language": "python",
   "name": "python3"
  },
  "language_info": {
   "codemirror_mode": {
    "name": "ipython",
    "version": 3
   },
   "file_extension": ".py",
   "mimetype": "text/x-python",
   "name": "python",
   "nbconvert_exporter": "python",
   "pygments_lexer": "ipython3",
   "version": "3.7.3"
  },
  "papermill": {
   "duration": 8.872449,
   "end_time": "2020-01-27T04:17:16.212301",
   "environment_variables": {},
   "exception": null,
   "input_path": "6.DMRGroupBasedOnGeneClustering.ipynb",
   "output_path": "/home/hanliu/project/mouse_rostral_brain/study/ClustersEnsemble/InhMGECGESubtypeEnsemble/6.DMRGroupBasedOnGeneClustering.ipynb",
   "parameters": {},
   "start_time": "2020-01-27T04:17:07.339852",
   "version": "1.0.1"
  },
  "toc": {
   "base_numbering": 1,
   "nav_menu": {},
   "number_sections": true,
   "sideBar": true,
   "skip_h1_title": true,
   "title_cell": "Table of Contents",
   "title_sidebar": "Contents",
   "toc_cell": false,
   "toc_position": {},
   "toc_section_display": true,
   "toc_window_display": true
  }
 },
 "nbformat": 4,
 "nbformat_minor": 2
}
