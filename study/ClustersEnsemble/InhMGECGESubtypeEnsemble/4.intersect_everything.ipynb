{
 "cells": [
  {
   "cell_type": "code",
   "execution_count": 1,
   "metadata": {
    "ExecuteTime": {
     "end_time": "2020-01-27T01:18:58.788165Z",
     "start_time": "2020-01-27T01:18:58.592692Z"
    },
    "papermill": {
     "duration": 0.209924,
     "end_time": "2020-01-27T04:12:47.683665",
     "exception": false,
     "start_time": "2020-01-27T04:12:47.473741",
     "status": "completed"
    },
    "tags": []
   },
   "outputs": [],
   "source": [
    "import pandas as pd\n",
    "import anndata\n",
    "import numpy\n",
    "import warnings\n",
    "import matplotlib.pyplot as plt\n",
    "warnings.filterwarnings('ignore')"
   ]
  },
  {
   "cell_type": "markdown",
   "metadata": {
    "papermill": {
     "duration": 0.008937,
     "end_time": "2020-01-27T04:12:47.702663",
     "exception": false,
     "start_time": "2020-01-27T04:12:47.693726",
     "status": "completed"
    },
    "tags": []
   },
   "source": [
    "## Parameter"
   ]
  },
  {
   "cell_type": "code",
   "execution_count": 2,
   "metadata": {
    "ExecuteTime": {
     "end_time": "2020-01-27T01:18:58.824757Z",
     "start_time": "2020-01-27T01:18:58.822777Z"
    },
    "papermill": {
     "duration": 0.013581,
     "end_time": "2020-01-27T04:12:47.725161",
     "exception": false,
     "start_time": "2020-01-27T04:12:47.711580",
     "status": "completed"
    },
    "tags": [
     "parameters"
    ]
   },
   "outputs": [],
   "source": [
    "delta_dmr_rate_cutoff = 0.3"
   ]
  },
  {
   "cell_type": "code",
   "execution_count": 3,
   "metadata": {
    "papermill": {
     "duration": 0.013093,
     "end_time": "2020-01-27T04:12:47.746851",
     "exception": false,
     "start_time": "2020-01-27T04:12:47.733758",
     "status": "completed"
    },
    "tags": [
     "injected-parameters"
    ]
   },
   "outputs": [],
   "source": [
    "# Parameters\n",
    "delta_dmr_rate_cutoff = 0.3\n"
   ]
  },
  {
   "cell_type": "markdown",
   "metadata": {
    "papermill": {
     "duration": 0.008547,
     "end_time": "2020-01-27T04:12:47.764175",
     "exception": false,
     "start_time": "2020-01-27T04:12:47.755628",
     "status": "completed"
    },
    "tags": []
   },
   "source": [
    "## Load Data"
   ]
  },
  {
   "cell_type": "code",
   "execution_count": 4,
   "metadata": {
    "papermill": {
     "duration": 4.020417,
     "end_time": "2020-01-27T04:12:51.793247",
     "exception": false,
     "start_time": "2020-01-27T04:12:47.772830",
     "status": "completed"
    },
    "tags": []
   },
   "outputs": [
    {
     "data": {
      "text/html": [
       "<div>\n",
       "<style scoped>\n",
       "    .dataframe tbody tr th:only-of-type {\n",
       "        vertical-align: middle;\n",
       "    }\n",
       "\n",
       "    .dataframe tbody tr th {\n",
       "        vertical-align: top;\n",
       "    }\n",
       "\n",
       "    .dataframe thead th {\n",
       "        text-align: right;\n",
       "    }\n",
       "</style>\n",
       "<table border=\"1\" class=\"dataframe\">\n",
       "  <thead>\n",
       "    <tr style=\"text-align: right;\">\n",
       "      <th>index</th>\n",
       "      <th>CGE-Lamp5_Dock5</th>\n",
       "      <th>CGE-Lamp5_Grid1</th>\n",
       "      <th>CGE-Lamp5_Grk5</th>\n",
       "      <th>CGE-Lamp5_Nrxn3</th>\n",
       "      <th>CGE-Lamp5_Sorcs1</th>\n",
       "      <th>CGE-Vip_Ccser1</th>\n",
       "      <th>CGE-Vip_Clstn2</th>\n",
       "      <th>CGE-Vip_Fstl4</th>\n",
       "      <th>CGE-Vip_Galnt17</th>\n",
       "      <th>CGE-Vip_Grm8</th>\n",
       "      <th>...</th>\n",
       "      <th>MGE-Sst_Dock4</th>\n",
       "      <th>MGE-Sst_Etv1</th>\n",
       "      <th>MGE-Sst_Frmd6</th>\n",
       "      <th>MGE-Sst_Kcnip4</th>\n",
       "      <th>MGE-Sst_Ptpre</th>\n",
       "      <th>MGE-Sst_Rerg</th>\n",
       "      <th>MGE-Sst_Rxra</th>\n",
       "      <th>MGE-Sst_Ubtd1</th>\n",
       "      <th>MGE-Sst_Unc5b</th>\n",
       "      <th>Unc5c_Unc5c</th>\n",
       "    </tr>\n",
       "    <tr>\n",
       "      <th>index</th>\n",
       "      <th></th>\n",
       "      <th></th>\n",
       "      <th></th>\n",
       "      <th></th>\n",
       "      <th></th>\n",
       "      <th></th>\n",
       "      <th></th>\n",
       "      <th></th>\n",
       "      <th></th>\n",
       "      <th></th>\n",
       "      <th></th>\n",
       "      <th></th>\n",
       "      <th></th>\n",
       "      <th></th>\n",
       "      <th></th>\n",
       "      <th></th>\n",
       "      <th></th>\n",
       "      <th></th>\n",
       "      <th></th>\n",
       "      <th></th>\n",
       "      <th></th>\n",
       "    </tr>\n",
       "  </thead>\n",
       "  <tbody>\n",
       "    <tr>\n",
       "      <th>Subchr1_15</th>\n",
       "      <td>False</td>\n",
       "      <td>False</td>\n",
       "      <td>False</td>\n",
       "      <td>False</td>\n",
       "      <td>False</td>\n",
       "      <td>False</td>\n",
       "      <td>False</td>\n",
       "      <td>False</td>\n",
       "      <td>False</td>\n",
       "      <td>False</td>\n",
       "      <td>...</td>\n",
       "      <td>False</td>\n",
       "      <td>False</td>\n",
       "      <td>True</td>\n",
       "      <td>False</td>\n",
       "      <td>True</td>\n",
       "      <td>True</td>\n",
       "      <td>False</td>\n",
       "      <td>False</td>\n",
       "      <td>False</td>\n",
       "      <td>False</td>\n",
       "    </tr>\n",
       "    <tr>\n",
       "      <th>Subchr1_16</th>\n",
       "      <td>False</td>\n",
       "      <td>False</td>\n",
       "      <td>False</td>\n",
       "      <td>False</td>\n",
       "      <td>False</td>\n",
       "      <td>False</td>\n",
       "      <td>False</td>\n",
       "      <td>False</td>\n",
       "      <td>False</td>\n",
       "      <td>False</td>\n",
       "      <td>...</td>\n",
       "      <td>False</td>\n",
       "      <td>False</td>\n",
       "      <td>False</td>\n",
       "      <td>False</td>\n",
       "      <td>False</td>\n",
       "      <td>False</td>\n",
       "      <td>False</td>\n",
       "      <td>False</td>\n",
       "      <td>False</td>\n",
       "      <td>False</td>\n",
       "    </tr>\n",
       "    <tr>\n",
       "      <th>Subchr1_28</th>\n",
       "      <td>False</td>\n",
       "      <td>False</td>\n",
       "      <td>False</td>\n",
       "      <td>False</td>\n",
       "      <td>False</td>\n",
       "      <td>False</td>\n",
       "      <td>False</td>\n",
       "      <td>True</td>\n",
       "      <td>False</td>\n",
       "      <td>False</td>\n",
       "      <td>...</td>\n",
       "      <td>False</td>\n",
       "      <td>True</td>\n",
       "      <td>False</td>\n",
       "      <td>False</td>\n",
       "      <td>False</td>\n",
       "      <td>False</td>\n",
       "      <td>True</td>\n",
       "      <td>False</td>\n",
       "      <td>False</td>\n",
       "      <td>False</td>\n",
       "    </tr>\n",
       "    <tr>\n",
       "      <th>Subchr1_45</th>\n",
       "      <td>True</td>\n",
       "      <td>False</td>\n",
       "      <td>True</td>\n",
       "      <td>False</td>\n",
       "      <td>False</td>\n",
       "      <td>False</td>\n",
       "      <td>False</td>\n",
       "      <td>False</td>\n",
       "      <td>False</td>\n",
       "      <td>False</td>\n",
       "      <td>...</td>\n",
       "      <td>False</td>\n",
       "      <td>False</td>\n",
       "      <td>False</td>\n",
       "      <td>False</td>\n",
       "      <td>False</td>\n",
       "      <td>False</td>\n",
       "      <td>False</td>\n",
       "      <td>False</td>\n",
       "      <td>False</td>\n",
       "      <td>True</td>\n",
       "    </tr>\n",
       "    <tr>\n",
       "      <th>Subchr1_56</th>\n",
       "      <td>True</td>\n",
       "      <td>True</td>\n",
       "      <td>False</td>\n",
       "      <td>False</td>\n",
       "      <td>False</td>\n",
       "      <td>False</td>\n",
       "      <td>False</td>\n",
       "      <td>False</td>\n",
       "      <td>False</td>\n",
       "      <td>False</td>\n",
       "      <td>...</td>\n",
       "      <td>False</td>\n",
       "      <td>False</td>\n",
       "      <td>False</td>\n",
       "      <td>False</td>\n",
       "      <td>False</td>\n",
       "      <td>False</td>\n",
       "      <td>False</td>\n",
       "      <td>False</td>\n",
       "      <td>False</td>\n",
       "      <td>False</td>\n",
       "    </tr>\n",
       "  </tbody>\n",
       "</table>\n",
       "<p>5 rows × 32 columns</p>\n",
       "</div>"
      ],
      "text/plain": [
       "index       CGE-Lamp5_Dock5  CGE-Lamp5_Grid1  CGE-Lamp5_Grk5  CGE-Lamp5_Nrxn3  \\\n",
       "index                                                                           \n",
       "Subchr1_15            False            False           False            False   \n",
       "Subchr1_16            False            False           False            False   \n",
       "Subchr1_28            False            False           False            False   \n",
       "Subchr1_45             True            False            True            False   \n",
       "Subchr1_56             True             True           False            False   \n",
       "\n",
       "index       CGE-Lamp5_Sorcs1  CGE-Vip_Ccser1  CGE-Vip_Clstn2  CGE-Vip_Fstl4  \\\n",
       "index                                                                         \n",
       "Subchr1_15             False           False           False          False   \n",
       "Subchr1_16             False           False           False          False   \n",
       "Subchr1_28             False           False           False           True   \n",
       "Subchr1_45             False           False           False          False   \n",
       "Subchr1_56             False           False           False          False   \n",
       "\n",
       "index       CGE-Vip_Galnt17  CGE-Vip_Grm8  ...  MGE-Sst_Dock4  MGE-Sst_Etv1  \\\n",
       "index                                      ...                                \n",
       "Subchr1_15            False         False  ...          False         False   \n",
       "Subchr1_16            False         False  ...          False         False   \n",
       "Subchr1_28            False         False  ...          False          True   \n",
       "Subchr1_45            False         False  ...          False         False   \n",
       "Subchr1_56            False         False  ...          False         False   \n",
       "\n",
       "index       MGE-Sst_Frmd6  MGE-Sst_Kcnip4  MGE-Sst_Ptpre  MGE-Sst_Rerg  \\\n",
       "index                                                                    \n",
       "Subchr1_15           True           False           True          True   \n",
       "Subchr1_16          False           False          False         False   \n",
       "Subchr1_28          False           False          False         False   \n",
       "Subchr1_45          False           False          False         False   \n",
       "Subchr1_56          False           False          False         False   \n",
       "\n",
       "index       MGE-Sst_Rxra  MGE-Sst_Ubtd1  MGE-Sst_Unc5b  Unc5c_Unc5c  \n",
       "index                                                                \n",
       "Subchr1_15         False          False          False        False  \n",
       "Subchr1_16         False          False          False        False  \n",
       "Subchr1_28          True          False          False        False  \n",
       "Subchr1_45         False          False          False         True  \n",
       "Subchr1_56         False          False          False        False  \n",
       "\n",
       "[5 rows x 32 columns]"
      ]
     },
     "execution_count": 4,
     "metadata": {},
     "output_type": "execute_result"
    }
   ],
   "source": [
    "dmr_hits = anndata.read_h5ad('RelatedClusterAndDMR.hypo_hits.h5ad')\n",
    "dmr_hits = pd.DataFrame(dmr_hits.X.astype(bool).todense(), index=dmr_hits.obs_names, columns=dmr_hits.var_names)\n",
    "dmr_hits.head()"
   ]
  },
  {
   "cell_type": "code",
   "execution_count": 5,
   "metadata": {
    "papermill": {
     "duration": 1.386356,
     "end_time": "2020-01-27T04:12:53.189085",
     "exception": false,
     "start_time": "2020-01-27T04:12:51.802729",
     "status": "completed"
    },
    "tags": []
   },
   "outputs": [
    {
     "data": {
      "text/html": [
       "<div>\n",
       "<style scoped>\n",
       "    .dataframe tbody tr th:only-of-type {\n",
       "        vertical-align: middle;\n",
       "    }\n",
       "\n",
       "    .dataframe tbody tr th {\n",
       "        vertical-align: top;\n",
       "    }\n",
       "\n",
       "    .dataframe thead th {\n",
       "        text-align: right;\n",
       "    }\n",
       "</style>\n",
       "<table border=\"1\" class=\"dataframe\">\n",
       "  <thead>\n",
       "    <tr style=\"text-align: right;\">\n",
       "      <th></th>\n",
       "      <th>CGE-Lamp5_Dock5</th>\n",
       "      <th>CGE-Lamp5_Grid1</th>\n",
       "      <th>CGE-Lamp5_Grk5</th>\n",
       "      <th>CGE-Lamp5_Nrxn3</th>\n",
       "      <th>CGE-Lamp5_Sorcs1</th>\n",
       "      <th>CGE-Vip_Ccser1</th>\n",
       "      <th>CGE-Vip_Clstn2</th>\n",
       "      <th>CGE-Vip_Fstl4</th>\n",
       "      <th>CGE-Vip_Galnt17</th>\n",
       "      <th>CGE-Vip_Grm8</th>\n",
       "      <th>...</th>\n",
       "      <th>MGE-Sst_Dock4</th>\n",
       "      <th>MGE-Sst_Etv1</th>\n",
       "      <th>MGE-Sst_Frmd6</th>\n",
       "      <th>MGE-Sst_Kcnip4</th>\n",
       "      <th>MGE-Sst_Ptpre</th>\n",
       "      <th>MGE-Sst_Rerg</th>\n",
       "      <th>MGE-Sst_Rxra</th>\n",
       "      <th>MGE-Sst_Ubtd1</th>\n",
       "      <th>MGE-Sst_Unc5b</th>\n",
       "      <th>Unc5c_Unc5c</th>\n",
       "    </tr>\n",
       "    <tr>\n",
       "      <th>index</th>\n",
       "      <th></th>\n",
       "      <th></th>\n",
       "      <th></th>\n",
       "      <th></th>\n",
       "      <th></th>\n",
       "      <th></th>\n",
       "      <th></th>\n",
       "      <th></th>\n",
       "      <th></th>\n",
       "      <th></th>\n",
       "      <th></th>\n",
       "      <th></th>\n",
       "      <th></th>\n",
       "      <th></th>\n",
       "      <th></th>\n",
       "      <th></th>\n",
       "      <th></th>\n",
       "      <th></th>\n",
       "      <th></th>\n",
       "      <th></th>\n",
       "      <th></th>\n",
       "    </tr>\n",
       "  </thead>\n",
       "  <tbody>\n",
       "    <tr>\n",
       "      <th>Subchr1_15</th>\n",
       "      <td>0.854167</td>\n",
       "      <td>0.934783</td>\n",
       "      <td>0.881720</td>\n",
       "      <td>1.000000</td>\n",
       "      <td>1.000000</td>\n",
       "      <td>0.948718</td>\n",
       "      <td>0.952381</td>\n",
       "      <td>0.955556</td>\n",
       "      <td>0.954545</td>\n",
       "      <td>0.888889</td>\n",
       "      <td>...</td>\n",
       "      <td>0.882353</td>\n",
       "      <td>0.500000</td>\n",
       "      <td>0.177778</td>\n",
       "      <td>1.000000</td>\n",
       "      <td>0.562500</td>\n",
       "      <td>0.408163</td>\n",
       "      <td>0.846154</td>\n",
       "      <td>0.930556</td>\n",
       "      <td>0.777778</td>\n",
       "      <td>0.862069</td>\n",
       "    </tr>\n",
       "    <tr>\n",
       "      <th>Subchr1_16</th>\n",
       "      <td>1.000000</td>\n",
       "      <td>1.000000</td>\n",
       "      <td>1.000000</td>\n",
       "      <td>NaN</td>\n",
       "      <td>1.000000</td>\n",
       "      <td>0.833333</td>\n",
       "      <td>1.000000</td>\n",
       "      <td>NaN</td>\n",
       "      <td>1.000000</td>\n",
       "      <td>NaN</td>\n",
       "      <td>...</td>\n",
       "      <td>1.000000</td>\n",
       "      <td>1.000000</td>\n",
       "      <td>1.000000</td>\n",
       "      <td>1.000000</td>\n",
       "      <td>NaN</td>\n",
       "      <td>1.000000</td>\n",
       "      <td>NaN</td>\n",
       "      <td>1.000000</td>\n",
       "      <td>NaN</td>\n",
       "      <td>NaN</td>\n",
       "    </tr>\n",
       "    <tr>\n",
       "      <th>Subchr1_28</th>\n",
       "      <td>0.700000</td>\n",
       "      <td>0.916667</td>\n",
       "      <td>0.906977</td>\n",
       "      <td>0.857143</td>\n",
       "      <td>0.833333</td>\n",
       "      <td>1.000000</td>\n",
       "      <td>1.000000</td>\n",
       "      <td>0.533333</td>\n",
       "      <td>1.000000</td>\n",
       "      <td>1.000000</td>\n",
       "      <td>...</td>\n",
       "      <td>0.935484</td>\n",
       "      <td>0.000000</td>\n",
       "      <td>0.731707</td>\n",
       "      <td>0.777778</td>\n",
       "      <td>0.666667</td>\n",
       "      <td>0.916667</td>\n",
       "      <td>0.416667</td>\n",
       "      <td>0.625000</td>\n",
       "      <td>1.000000</td>\n",
       "      <td>0.937500</td>\n",
       "    </tr>\n",
       "    <tr>\n",
       "      <th>Subchr1_45</th>\n",
       "      <td>0.480000</td>\n",
       "      <td>0.600000</td>\n",
       "      <td>0.358025</td>\n",
       "      <td>0.900000</td>\n",
       "      <td>1.000000</td>\n",
       "      <td>0.620690</td>\n",
       "      <td>0.952381</td>\n",
       "      <td>0.833333</td>\n",
       "      <td>0.926829</td>\n",
       "      <td>0.944444</td>\n",
       "      <td>...</td>\n",
       "      <td>0.866667</td>\n",
       "      <td>0.888889</td>\n",
       "      <td>0.813084</td>\n",
       "      <td>1.000000</td>\n",
       "      <td>0.866667</td>\n",
       "      <td>0.940000</td>\n",
       "      <td>0.945946</td>\n",
       "      <td>0.915254</td>\n",
       "      <td>1.000000</td>\n",
       "      <td>0.500000</td>\n",
       "    </tr>\n",
       "    <tr>\n",
       "      <th>Subchr1_56</th>\n",
       "      <td>0.424242</td>\n",
       "      <td>0.414634</td>\n",
       "      <td>0.550000</td>\n",
       "      <td>0.750000</td>\n",
       "      <td>0.789474</td>\n",
       "      <td>0.724138</td>\n",
       "      <td>0.588235</td>\n",
       "      <td>0.619048</td>\n",
       "      <td>0.491525</td>\n",
       "      <td>0.769231</td>\n",
       "      <td>...</td>\n",
       "      <td>0.803922</td>\n",
       "      <td>0.500000</td>\n",
       "      <td>0.783019</td>\n",
       "      <td>0.804878</td>\n",
       "      <td>0.718750</td>\n",
       "      <td>0.673469</td>\n",
       "      <td>0.833333</td>\n",
       "      <td>0.758065</td>\n",
       "      <td>0.636364</td>\n",
       "      <td>0.621622</td>\n",
       "    </tr>\n",
       "  </tbody>\n",
       "</table>\n",
       "<p>5 rows × 32 columns</p>\n",
       "</div>"
      ],
      "text/plain": [
       "            CGE-Lamp5_Dock5  CGE-Lamp5_Grid1  CGE-Lamp5_Grk5  CGE-Lamp5_Nrxn3  \\\n",
       "index                                                                           \n",
       "Subchr1_15         0.854167         0.934783        0.881720         1.000000   \n",
       "Subchr1_16         1.000000         1.000000        1.000000              NaN   \n",
       "Subchr1_28         0.700000         0.916667        0.906977         0.857143   \n",
       "Subchr1_45         0.480000         0.600000        0.358025         0.900000   \n",
       "Subchr1_56         0.424242         0.414634        0.550000         0.750000   \n",
       "\n",
       "            CGE-Lamp5_Sorcs1  CGE-Vip_Ccser1  CGE-Vip_Clstn2  CGE-Vip_Fstl4  \\\n",
       "index                                                                         \n",
       "Subchr1_15          1.000000        0.948718        0.952381       0.955556   \n",
       "Subchr1_16          1.000000        0.833333        1.000000            NaN   \n",
       "Subchr1_28          0.833333        1.000000        1.000000       0.533333   \n",
       "Subchr1_45          1.000000        0.620690        0.952381       0.833333   \n",
       "Subchr1_56          0.789474        0.724138        0.588235       0.619048   \n",
       "\n",
       "            CGE-Vip_Galnt17  CGE-Vip_Grm8  ...  MGE-Sst_Dock4  MGE-Sst_Etv1  \\\n",
       "index                                      ...                                \n",
       "Subchr1_15         0.954545      0.888889  ...       0.882353      0.500000   \n",
       "Subchr1_16         1.000000           NaN  ...       1.000000      1.000000   \n",
       "Subchr1_28         1.000000      1.000000  ...       0.935484      0.000000   \n",
       "Subchr1_45         0.926829      0.944444  ...       0.866667      0.888889   \n",
       "Subchr1_56         0.491525      0.769231  ...       0.803922      0.500000   \n",
       "\n",
       "            MGE-Sst_Frmd6  MGE-Sst_Kcnip4  MGE-Sst_Ptpre  MGE-Sst_Rerg  \\\n",
       "index                                                                    \n",
       "Subchr1_15       0.177778        1.000000       0.562500      0.408163   \n",
       "Subchr1_16       1.000000        1.000000            NaN      1.000000   \n",
       "Subchr1_28       0.731707        0.777778       0.666667      0.916667   \n",
       "Subchr1_45       0.813084        1.000000       0.866667      0.940000   \n",
       "Subchr1_56       0.783019        0.804878       0.718750      0.673469   \n",
       "\n",
       "            MGE-Sst_Rxra  MGE-Sst_Ubtd1  MGE-Sst_Unc5b  Unc5c_Unc5c  \n",
       "index                                                                \n",
       "Subchr1_15      0.846154       0.930556       0.777778     0.862069  \n",
       "Subchr1_16           NaN       1.000000            NaN          NaN  \n",
       "Subchr1_28      0.416667       0.625000       1.000000     0.937500  \n",
       "Subchr1_45      0.945946       0.915254       1.000000     0.500000  \n",
       "Subchr1_56      0.833333       0.758065       0.636364     0.621622  \n",
       "\n",
       "[5 rows x 32 columns]"
      ]
     },
     "execution_count": 5,
     "metadata": {},
     "output_type": "execute_result"
    }
   ],
   "source": [
    "dmr_rate = pd.read_msgpack('RelatedClusterAndDMR.mcg_rate.msg')\n",
    "dmr_rate.head()"
   ]
  },
  {
   "cell_type": "code",
   "execution_count": 6,
   "metadata": {
    "papermill": {
     "duration": 0.056031,
     "end_time": "2020-01-27T04:12:53.255392",
     "exception": false,
     "start_time": "2020-01-27T04:12:53.199361",
     "status": "completed"
    },
    "tags": []
   },
   "outputs": [
    {
     "name": "stdout",
     "output_type": "stream",
     "text": [
      "(24443, 9)\n"
     ]
    },
    {
     "data": {
      "text/html": [
       "<div>\n",
       "<style scoped>\n",
       "    .dataframe tbody tr th:only-of-type {\n",
       "        vertical-align: middle;\n",
       "    }\n",
       "\n",
       "    .dataframe tbody tr th {\n",
       "        vertical-align: top;\n",
       "    }\n",
       "\n",
       "    .dataframe thead th {\n",
       "        text-align: right;\n",
       "    }\n",
       "</style>\n",
       "<table border=\"1\" class=\"dataframe\">\n",
       "  <thead>\n",
       "    <tr style=\"text-align: right;\">\n",
       "      <th></th>\n",
       "      <th>pvals_adj</th>\n",
       "      <th>gene_id</th>\n",
       "      <th>cluster_from</th>\n",
       "      <th>cluster_to</th>\n",
       "      <th>gene_name</th>\n",
       "      <th>-lgp</th>\n",
       "      <th>AUROC</th>\n",
       "      <th>rate_from</th>\n",
       "      <th>rate_to</th>\n",
       "    </tr>\n",
       "  </thead>\n",
       "  <tbody>\n",
       "    <tr>\n",
       "      <th>2</th>\n",
       "      <td>4.509785e-230</td>\n",
       "      <td>ENSMUSG00000052551.16</td>\n",
       "      <td>CGE-Lamp5_Grk5</td>\n",
       "      <td>MGE-Sst_Frmd6</td>\n",
       "      <td>Adarb2</td>\n",
       "      <td>229.345844</td>\n",
       "      <td>0.998243</td>\n",
       "      <td>0.007802</td>\n",
       "      <td>0.053561</td>\n",
       "    </tr>\n",
       "    <tr>\n",
       "      <th>4</th>\n",
       "      <td>7.651747e-230</td>\n",
       "      <td>ENSMUSG00000041734.15</td>\n",
       "      <td>CGE-Lamp5_Grk5</td>\n",
       "      <td>MGE-Sst_Frmd6</td>\n",
       "      <td>Kirrel</td>\n",
       "      <td>229.116239</td>\n",
       "      <td>0.997824</td>\n",
       "      <td>0.009026</td>\n",
       "      <td>0.057556</td>\n",
       "    </tr>\n",
       "    <tr>\n",
       "      <th>8</th>\n",
       "      <td>8.979358e-229</td>\n",
       "      <td>ENSMUSG00000001911.16</td>\n",
       "      <td>CGE-Lamp5_Grk5</td>\n",
       "      <td>MGE-Sst_Frmd6</td>\n",
       "      <td>Nfix</td>\n",
       "      <td>228.046755</td>\n",
       "      <td>0.996423</td>\n",
       "      <td>0.005679</td>\n",
       "      <td>0.058473</td>\n",
       "    </tr>\n",
       "    <tr>\n",
       "      <th>15</th>\n",
       "      <td>2.022621e-227</td>\n",
       "      <td>ENSMUSG00000020122.16</td>\n",
       "      <td>CGE-Lamp5_Grk5</td>\n",
       "      <td>MGE-Sst_Frmd6</td>\n",
       "      <td>Egfr</td>\n",
       "      <td>226.694085</td>\n",
       "      <td>0.994779</td>\n",
       "      <td>0.007694</td>\n",
       "      <td>0.052226</td>\n",
       "    </tr>\n",
       "    <tr>\n",
       "      <th>16</th>\n",
       "      <td>5.285707e-227</td>\n",
       "      <td>ENSMUSG00000036766.12</td>\n",
       "      <td>CGE-Lamp5_Grk5</td>\n",
       "      <td>MGE-Sst_Frmd6</td>\n",
       "      <td>Dner</td>\n",
       "      <td>226.276897</td>\n",
       "      <td>0.994252</td>\n",
       "      <td>0.007116</td>\n",
       "      <td>0.027749</td>\n",
       "    </tr>\n",
       "  </tbody>\n",
       "</table>\n",
       "</div>"
      ],
      "text/plain": [
       "        pvals_adj                gene_id    cluster_from     cluster_to  \\\n",
       "2   4.509785e-230  ENSMUSG00000052551.16  CGE-Lamp5_Grk5  MGE-Sst_Frmd6   \n",
       "4   7.651747e-230  ENSMUSG00000041734.15  CGE-Lamp5_Grk5  MGE-Sst_Frmd6   \n",
       "8   8.979358e-229  ENSMUSG00000001911.16  CGE-Lamp5_Grk5  MGE-Sst_Frmd6   \n",
       "15  2.022621e-227  ENSMUSG00000020122.16  CGE-Lamp5_Grk5  MGE-Sst_Frmd6   \n",
       "16  5.285707e-227  ENSMUSG00000036766.12  CGE-Lamp5_Grk5  MGE-Sst_Frmd6   \n",
       "\n",
       "   gene_name        -lgp     AUROC  rate_from   rate_to  \n",
       "2     Adarb2  229.345844  0.998243   0.007802  0.053561  \n",
       "4     Kirrel  229.116239  0.997824   0.009026  0.057556  \n",
       "8       Nfix  228.046755  0.996423   0.005679  0.058473  \n",
       "15      Egfr  226.694085  0.994779   0.007694  0.052226  \n",
       "16      Dner  226.276897  0.994252   0.007116  0.027749  "
      ]
     },
     "execution_count": 6,
     "metadata": {},
     "output_type": "execute_result"
    }
   ],
   "source": [
    "dmg = pd.read_msgpack('RelatedDMG.msg')\n",
    "dmg['cluster_from'] = dmg['cluster_from'].str.replace(' ', '_')\n",
    "dmg['cluster_to'] = dmg['cluster_to'].str.replace(' ', '_')\n",
    "print(dmg.shape)\n",
    "dmg.head()"
   ]
  },
  {
   "cell_type": "code",
   "execution_count": 7,
   "metadata": {
    "ExecuteTime": {
     "end_time": "2020-01-26T04:08:59.103997Z",
     "start_time": "2020-01-26T04:08:58.858608Z"
    },
    "papermill": {
     "duration": 0.082905,
     "end_time": "2020-01-27T04:12:53.347721",
     "exception": false,
     "start_time": "2020-01-27T04:12:53.264816",
     "status": "completed"
    },
    "tags": []
   },
   "outputs": [
    {
     "data": {
      "text/html": [
       "<div>\n",
       "<style scoped>\n",
       "    .dataframe tbody tr th:only-of-type {\n",
       "        vertical-align: middle;\n",
       "    }\n",
       "\n",
       "    .dataframe tbody tr th {\n",
       "        vertical-align: top;\n",
       "    }\n",
       "\n",
       "    .dataframe thead th {\n",
       "        text-align: right;\n",
       "    }\n",
       "</style>\n",
       "<table border=\"1\" class=\"dataframe\">\n",
       "  <thead>\n",
       "    <tr style=\"text-align: right;\">\n",
       "      <th></th>\n",
       "      <th>DMR</th>\n",
       "      <th>Gene</th>\n",
       "      <th>Corr</th>\n",
       "      <th>chrom</th>\n",
       "      <th>DMR_to_gene_dist</th>\n",
       "    </tr>\n",
       "  </thead>\n",
       "  <tbody>\n",
       "    <tr>\n",
       "      <th>0</th>\n",
       "      <td>Subchr1_12464</td>\n",
       "      <td>ENSMUSG00000103825.1</td>\n",
       "      <td>0.588061</td>\n",
       "      <td>chr1</td>\n",
       "      <td>-390198.0</td>\n",
       "    </tr>\n",
       "    <tr>\n",
       "      <th>1</th>\n",
       "      <td>Subchr1_12465</td>\n",
       "      <td>ENSMUSG00000103825.1</td>\n",
       "      <td>0.345632</td>\n",
       "      <td>chr1</td>\n",
       "      <td>-390021.0</td>\n",
       "    </tr>\n",
       "    <tr>\n",
       "      <th>2</th>\n",
       "      <td>Subchr1_12467</td>\n",
       "      <td>ENSMUSG00000103825.1</td>\n",
       "      <td>0.435943</td>\n",
       "      <td>chr1</td>\n",
       "      <td>-389899.0</td>\n",
       "    </tr>\n",
       "    <tr>\n",
       "      <th>3</th>\n",
       "      <td>Subchr1_12497</td>\n",
       "      <td>ENSMUSG00000103825.1</td>\n",
       "      <td>0.334275</td>\n",
       "      <td>chr1</td>\n",
       "      <td>-372621.0</td>\n",
       "    </tr>\n",
       "    <tr>\n",
       "      <th>4</th>\n",
       "      <td>Subchr1_12565</td>\n",
       "      <td>ENSMUSG00000057715.13</td>\n",
       "      <td>0.316544</td>\n",
       "      <td>chr1</td>\n",
       "      <td>-490320.0</td>\n",
       "    </tr>\n",
       "  </tbody>\n",
       "</table>\n",
       "</div>"
      ],
      "text/plain": [
       "             DMR                   Gene      Corr chrom  DMR_to_gene_dist\n",
       "0  Subchr1_12464   ENSMUSG00000103825.1  0.588061  chr1         -390198.0\n",
       "1  Subchr1_12465   ENSMUSG00000103825.1  0.345632  chr1         -390021.0\n",
       "2  Subchr1_12467   ENSMUSG00000103825.1  0.435943  chr1         -389899.0\n",
       "3  Subchr1_12497   ENSMUSG00000103825.1  0.334275  chr1         -372621.0\n",
       "4  Subchr1_12565  ENSMUSG00000057715.13  0.316544  chr1         -490320.0"
      ]
     },
     "execution_count": 7,
     "metadata": {},
     "output_type": "execute_result"
    }
   ],
   "source": [
    "corr = pd.read_msgpack('RelatedCorr.msg')\n",
    "corr.head()"
   ]
  },
  {
   "cell_type": "code",
   "execution_count": 8,
   "metadata": {
    "ExecuteTime": {
     "end_time": "2020-01-26T04:09:00.778681Z",
     "start_time": "2020-01-26T04:08:59.105307Z"
    },
    "papermill": {
     "duration": 0.673512,
     "end_time": "2020-01-27T04:12:54.032206",
     "exception": false,
     "start_time": "2020-01-27T04:12:53.358694",
     "status": "completed"
    },
    "tags": []
   },
   "outputs": [],
   "source": [
    "# subset the dmr and dmg based on corr\n",
    "dmr_hits = dmr_hits.loc[corr['DMR'].unique()].copy()\n",
    "dmr_rate = dmr_rate.loc[corr['DMR'].unique()].copy()\n",
    "dmg = dmg[dmg['gene_id'].isin(corr['Gene'].unique())].copy()"
   ]
  },
  {
   "cell_type": "code",
   "execution_count": 9,
   "metadata": {
    "ExecuteTime": {
     "end_time": "2020-01-26T04:09:00.801640Z",
     "start_time": "2020-01-26T04:09:00.780111Z"
    },
    "papermill": {
     "duration": 0.022441,
     "end_time": "2020-01-27T04:12:54.064920",
     "exception": false,
     "start_time": "2020-01-27T04:12:54.042479",
     "status": "completed"
    },
    "tags": []
   },
   "outputs": [
    {
     "data": {
      "text/plain": [
       "(950, 2)"
      ]
     },
     "execution_count": 9,
     "metadata": {},
     "output_type": "execute_result"
    }
   ],
   "source": [
    "dmg[['cluster_from', 'cluster_to']].drop_duplicates().shape"
   ]
  },
  {
   "cell_type": "markdown",
   "metadata": {
    "papermill": {
     "duration": 0.009867,
     "end_time": "2020-01-27T04:12:54.084530",
     "exception": false,
     "start_time": "2020-01-27T04:12:54.074663",
     "status": "completed"
    },
    "tags": []
   },
   "source": [
    "## prepare DMR pairwise"
   ]
  },
  {
   "cell_type": "code",
   "execution_count": 10,
   "metadata": {
    "ExecuteTime": {
     "end_time": "2020-01-26T04:09:05.655118Z",
     "start_time": "2020-01-26T04:09:00.802988Z"
    },
    "papermill": {
     "duration": 5.5178,
     "end_time": "2020-01-27T04:12:59.612361",
     "exception": false,
     "start_time": "2020-01-27T04:12:54.094561",
     "status": "completed"
    },
    "scrolled": true,
    "tags": []
   },
   "outputs": [],
   "source": [
    "pairwise_dmr_index = {}\n",
    "n = 0\n",
    "for _, (cluster_from, cluster_to) in dmg[['cluster_from', 'cluster_to']].drop_duplicates().iterrows():\n",
    "    n += 1\n",
    "    if n % 1000 == 0:\n",
    "        print(n)\n",
    "    # cluster_from is hypo, cluster_to is hyper\n",
    "    rate_delta = (dmr_rate[cluster_to] - dmr_rate[cluster_from]) > delta_dmr_rate_cutoff\n",
    "    # cluster_to is not hypo, cluster_from is hypo, and rate_delta > delta_dmr_rate_cutoff\n",
    "    total_judge = (~dmr_hits[cluster_to]) & dmr_hits[cluster_from] & rate_delta\n",
    "    \n",
    "    # remaining dmr is sig hypo in cluster_from and hyper in cluster_to\n",
    "    pairwise_dmr_index[(cluster_from, cluster_to)] = total_judge[total_judge].index"
   ]
  },
  {
   "cell_type": "markdown",
   "metadata": {
    "papermill": {
     "duration": 0.010339,
     "end_time": "2020-01-27T04:12:59.633913",
     "exception": false,
     "start_time": "2020-01-27T04:12:59.623574",
     "status": "completed"
    },
    "tags": []
   },
   "source": [
    "## final DMG DMR for pairwise cluster"
   ]
  },
  {
   "cell_type": "code",
   "execution_count": 11,
   "metadata": {
    "ExecuteTime": {
     "end_time": "2020-01-26T04:09:05.666842Z",
     "start_time": "2020-01-26T04:09:05.657240Z"
    },
    "papermill": {
     "duration": 0.02134,
     "end_time": "2020-01-27T04:12:59.665607",
     "exception": false,
     "start_time": "2020-01-27T04:12:59.644267",
     "status": "completed"
    },
    "tags": []
   },
   "outputs": [],
   "source": [
    "related_genes = pd.read_csv('related_dmgs.txt', header=None, index_col=0).index\n",
    "related_genes.name = 'gene_id'\n",
    "# create a table to store all related genes\n",
    "gene_dmr_counts = pd.DataFrame([], index=related_genes)"
   ]
  },
  {
   "cell_type": "code",
   "execution_count": 12,
   "metadata": {
    "ExecuteTime": {
     "end_time": "2020-01-26T04:09:32.904495Z",
     "start_time": "2020-01-26T04:09:05.668327Z"
    },
    "papermill": {
     "duration": 29.787273,
     "end_time": "2020-01-27T04:13:29.462688",
     "exception": false,
     "start_time": "2020-01-27T04:12:59.675415",
     "status": "completed"
    },
    "scrolled": false,
    "tags": []
   },
   "outputs": [
    {
     "name": "stdout",
     "output_type": "stream",
     "text": [
      "500\n"
     ]
    }
   ],
   "source": [
    "with pd.HDFStore('FinalDMGDMR.h5') as f:\n",
    "    n = 0\n",
    "    for (cluster_from, cluster_to), cluster_pair_df in dmg.groupby(\n",
    "        ['cluster_from', 'cluster_to']):\n",
    "        n += 1\n",
    "        if n % 500 == 0:\n",
    "            print(n)\n",
    "        # first get related dmr and dmg separately\n",
    "        cluster_pair_related_dmr = pairwise_dmr_index[(cluster_from, cluster_to)]\n",
    "        cluster_pair_related_gene = cluster_pair_df['gene_id'].unique()\n",
    "        \n",
    "        # use them to filter corr\n",
    "        cluster_pair_related_corr = corr[\n",
    "            corr['DMR'].isin(cluster_pair_related_dmr)\n",
    "            & corr['Gene'].isin(cluster_pair_related_gene)]\n",
    "        \n",
    "        # then use remained dmr and dmg as final list\n",
    "        # the remaining DMR DMG is:\n",
    "        # - sig hypo in one clsuter compare to another\n",
    "        # - have sig correlateion\n",
    "        cluster_pair_related_dmr = pd.Series(cluster_pair_related_corr['DMR'].unique())\n",
    "        cluster_pair_related_gene = pd.Series(cluster_pair_related_corr['Gene'].unique())\n",
    "        # print(cluster_from, cluster_to, cluster_pair_related_dmr.size, cluster_pair_related_gene.size)\n",
    "        f[f'{cluster_from}/{cluster_to}/DMR'] = cluster_pair_related_dmr\n",
    "        f[f'{cluster_from}/{cluster_to}/Gene'] = cluster_pair_related_gene\n",
    "        f[f'{cluster_from}/{cluster_to}/Corr'] = pd.Series(cluster_pair_related_corr.index)\n",
    "        \n",
    "        gene_counts = cluster_pair_related_corr['Gene'].value_counts()\n",
    "        gene_dmr_counts[(cluster_from, cluster_to)] = gene_counts.reindex(\n",
    "            related_genes).fillna(0).astype(int)"
   ]
  },
  {
   "cell_type": "markdown",
   "metadata": {
    "papermill": {
     "duration": 0.01109,
     "end_time": "2020-01-27T04:13:29.484883",
     "exception": false,
     "start_time": "2020-01-27T04:13:29.473793",
     "status": "completed"
    },
    "tags": []
   },
   "source": [
    "## Save DMG DMR counts table"
   ]
  },
  {
   "cell_type": "code",
   "execution_count": 13,
   "metadata": {
    "ExecuteTime": {
     "end_time": "2020-01-26T04:09:33.041950Z",
     "start_time": "2020-01-26T04:09:32.906763Z"
    },
    "papermill": {
     "duration": 0.28961,
     "end_time": "2020-01-27T04:13:29.784822",
     "exception": false,
     "start_time": "2020-01-27T04:13:29.495212",
     "status": "completed"
    },
    "tags": []
   },
   "outputs": [
    {
     "data": {
      "text/plain": [
       "(697, 950)"
      ]
     },
     "execution_count": 13,
     "metadata": {},
     "output_type": "execute_result"
    }
   ],
   "source": [
    "gene_pos = (gene_dmr_counts > 0).sum(axis=1)\n",
    "gene_dmr_counts = gene_dmr_counts[gene_pos > 0].copy()\n",
    "gene_dmr_counts.to_msgpack('DMRCounts_for_DMG_in_cluster_pairs.msg')\n",
    "gene_dmr_counts.shape"
   ]
  },
  {
   "cell_type": "code",
   "execution_count": 14,
   "metadata": {
    "ExecuteTime": {
     "end_time": "2020-01-26T04:09:44.777573Z",
     "start_time": "2020-01-26T04:09:44.380826Z"
    },
    "papermill": {
     "duration": 0.360729,
     "end_time": "2020-01-27T04:13:30.157080",
     "exception": false,
     "start_time": "2020-01-27T04:13:29.796351",
     "status": "completed"
    },
    "tags": []
   },
   "outputs": [
    {
     "data": {
      "text/plain": [
       "<matplotlib.image.AxesImage at 0x7f846e37d978>"
      ]
     },
     "execution_count": 14,
     "metadata": {},
     "output_type": "execute_result"
    },
    {
     "data": {
      "image/png": "[encoded data removed]",
      "text/plain": [
       "<Figure size 900x1500 with 1 Axes>"
      ]
     },
     "metadata": {
      "needs_background": "light"
     },
     "output_type": "display_data"
    }
   ],
   "source": [
    "plt.figure(figsize=(3, 5), dpi=300)\n",
    "plt.imshow(gene_dmr_counts.values, vmin=3, vmax=30, aspect='auto')"
   ]
  },
  {
   "cell_type": "code",
   "execution_count": null,
   "metadata": {
    "papermill": {
     "duration": 0.012295,
     "end_time": "2020-01-27T04:13:30.182034",
     "exception": false,
     "start_time": "2020-01-27T04:13:30.169739",
     "status": "completed"
    },
    "tags": []
   },
   "outputs": [],
   "source": []
  },
  {
   "cell_type": "code",
   "execution_count": null,
   "metadata": {
    "papermill": {
     "duration": 0.011627,
     "end_time": "2020-01-27T04:13:30.205923",
     "exception": false,
     "start_time": "2020-01-27T04:13:30.194296",
     "status": "completed"
    },
    "tags": []
   },
   "outputs": [],
   "source": []
  },
  {
   "cell_type": "code",
   "execution_count": null,
   "metadata": {
    "papermill": {
     "duration": 0.012027,
     "end_time": "2020-01-27T04:13:30.229879",
     "exception": false,
     "start_time": "2020-01-27T04:13:30.217852",
     "status": "completed"
    },
    "tags": []
   },
   "outputs": [],
   "source": []
  },
  {
   "cell_type": "code",
   "execution_count": null,
   "metadata": {
    "papermill": {
     "duration": 0.011666,
     "end_time": "2020-01-27T04:13:30.253263",
     "exception": false,
     "start_time": "2020-01-27T04:13:30.241597",
     "status": "completed"
    },
    "tags": []
   },
   "outputs": [],
   "source": []
  }
 ],
 "metadata": {
  "hide_input": false,
  "kernelspec": {
   "display_name": "Python 3",
   "language": "python",
   "name": "python3"
  },
  "language_info": {
   "codemirror_mode": {
    "name": "ipython",
    "version": 3
   },
   "file_extension": ".py",
   "mimetype": "text/x-python",
   "name": "python",
   "nbconvert_exporter": "python",
   "pygments_lexer": "ipython3",
   "version": "3.7.3"
  },
  "papermill": {
   "duration": 44.27657,
   "end_time": "2020-01-27T04:13:30.872759",
   "environment_variables": {},
   "exception": null,
   "input_path": "4.intersect_everything.ipynb",
   "output_path": "/home/hanliu/project/mouse_rostral_brain/study/ClustersEnsemble/InhMGECGESubtypeEnsemble/4.intersect_everything.ipynb",
   "parameters": {
    "delta_dmr_rate_cutoff": 0.3
   },
   "start_time": "2020-01-27T04:12:46.596189",
   "version": "1.0.1"
  },
  "toc": {
   "base_numbering": 1,
   "nav_menu": {},
   "number_sections": true,
   "sideBar": true,
   "skip_h1_title": true,
   "title_cell": "Table of Contents",
   "title_sidebar": "Contents",
   "toc_cell": false,
   "toc_position": {},
   "toc_section_display": true,
   "toc_window_display": true
  }
 },
 "nbformat": 4,
 "nbformat_minor": 2
}