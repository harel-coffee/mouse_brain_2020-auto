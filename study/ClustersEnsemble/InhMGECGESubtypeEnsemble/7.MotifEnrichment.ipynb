{
 "cells": [
  {
   "cell_type": "code",
   "execution_count": 1,
   "metadata": {
    "ExecuteTime": {
     "end_time": "2020-01-26T05:40:50.764293Z",
     "start_time": "2020-01-26T05:40:50.761558Z"
    },
    "papermill": {
     "duration": 0.675379,
     "end_time": "2020-01-27T04:26:29.833190",
     "exception": false,
     "start_time": "2020-01-27T04:26:29.157811",
     "status": "completed"
    },
    "tags": []
   },
   "outputs": [],
   "source": [
    "from concurrent.futures import ProcessPoolExecutor, as_completed\n",
    "import json\n",
    "import anndata\n",
    "import matplotlib.pyplot as plt\n",
    "import numpy as np\n",
    "import pandas as pd\n",
    "import pybedtools\n",
    "import scipy.stats as stats\n",
    "import seaborn as sns\n",
    "import pathlib\n",
    "from statsmodels.stats.multitest import multipletests"
   ]
  },
  {
   "cell_type": "code",
   "execution_count": 2,
   "metadata": {
    "ExecuteTime": {
     "end_time": "2020-01-26T05:40:51.777703Z",
     "start_time": "2020-01-26T05:40:51.775748Z"
    },
    "papermill": {
     "duration": 0.017385,
     "end_time": "2020-01-27T04:26:29.863002",
     "exception": false,
     "start_time": "2020-01-27T04:26:29.845617",
     "status": "completed"
    },
    "tags": [
     "parameters"
    ]
   },
   "outputs": [],
   "source": [
    "or_cutoff = 1.6\n",
    "neg_lgp_cutoff = 2\n",
    "mask_quantile_to_max = 0.8\n",
    "\n",
    "gene_cluster = '0'"
   ]
  },
  {
   "cell_type": "code",
   "execution_count": 3,
   "metadata": {
    "papermill": {
     "duration": 0.016669,
     "end_time": "2020-01-27T04:26:29.890553",
     "exception": false,
     "start_time": "2020-01-27T04:26:29.873884",
     "status": "completed"
    },
    "tags": [
     "injected-parameters"
    ]
   },
   "outputs": [],
   "source": [
    "# Parameters\n",
    "gene_cluster = \"13\"\n",
    "or_cutoff = 1.6\n",
    "neg_lgp_cutoff = 3\n",
    "mask_quantile_to_max = 0.8\n"
   ]
  },
  {
   "cell_type": "code",
   "execution_count": 4,
   "metadata": {
    "ExecuteTime": {
     "end_time": "2020-01-26T05:40:51.945854Z",
     "start_time": "2020-01-26T05:40:51.943663Z"
    },
    "papermill": {
     "duration": 0.016281,
     "end_time": "2020-01-27T04:26:29.918082",
     "exception": false,
     "start_time": "2020-01-27T04:26:29.901801",
     "status": "completed"
    },
    "tags": []
   },
   "outputs": [],
   "source": [
    "output_dir = 'MotifEnrichment'\n",
    "output_dir = pathlib.Path(output_dir)\n",
    "output_dir.mkdir(exist_ok=True)"
   ]
  },
  {
   "cell_type": "markdown",
   "metadata": {
    "papermill": {
     "duration": 0.011211,
     "end_time": "2020-01-27T04:26:29.940813",
     "exception": false,
     "start_time": "2020-01-27T04:26:29.929602",
     "status": "completed"
    },
    "tags": []
   },
   "source": [
    "## DMR hits"
   ]
  },
  {
   "cell_type": "code",
   "execution_count": 5,
   "metadata": {
    "ExecuteTime": {
     "end_time": "2020-01-26T05:38:51.861457Z",
     "start_time": "2020-01-26T05:38:51.809913Z"
    },
    "papermill": {
     "duration": 0.030628,
     "end_time": "2020-01-27T04:26:29.983593",
     "exception": false,
     "start_time": "2020-01-27T04:26:29.952965",
     "status": "completed"
    },
    "tags": []
   },
   "outputs": [],
   "source": [
    "with open('GeneCluster.relatedDMR.index.json') as f:\n",
    "    use_dmrs = json.load(f)[gene_cluster]"
   ]
  },
  {
   "cell_type": "code",
   "execution_count": 6,
   "metadata": {
    "ExecuteTime": {
     "end_time": "2020-01-26T05:38:52.294893Z",
     "start_time": "2020-01-26T05:38:51.862853Z"
    },
    "papermill": {
     "duration": 0.05401,
     "end_time": "2020-01-27T04:26:30.048921",
     "exception": false,
     "start_time": "2020-01-27T04:26:29.994911",
     "status": "completed"
    },
    "tags": []
   },
   "outputs": [],
   "source": [
    "gene_clusters = anndata.read_h5ad('GeneClustering.h5ad').obs['leiden']\n",
    "use_genes = gene_clusters[gene_clusters == gene_cluster].index"
   ]
  },
  {
   "cell_type": "code",
   "execution_count": 7,
   "metadata": {
    "ExecuteTime": {
     "end_time": "2020-01-26T05:38:52.299378Z",
     "start_time": "2020-01-26T05:38:52.296267Z"
    },
    "papermill": {
     "duration": 0.018405,
     "end_time": "2020-01-27T04:26:30.079460",
     "exception": false,
     "start_time": "2020-01-27T04:26:30.061055",
     "status": "completed"
    },
    "tags": []
   },
   "outputs": [
    {
     "name": "stdout",
     "output_type": "stream",
     "text": [
      "24 genes in gene cluster 13\n",
      "4059 related DMRs\n"
     ]
    }
   ],
   "source": [
    "print(use_genes.size, 'genes in gene cluster', gene_cluster)\n",
    "print(len(use_dmrs), 'related DMRs')"
   ]
  },
  {
   "cell_type": "code",
   "execution_count": 8,
   "metadata": {
    "ExecuteTime": {
     "end_time": "2020-01-26T05:38:58.457228Z",
     "start_time": "2020-01-26T05:38:52.301294Z"
    },
    "papermill": {
     "duration": 6.579753,
     "end_time": "2020-01-27T04:26:36.672434",
     "exception": false,
     "start_time": "2020-01-27T04:26:30.092681",
     "status": "completed"
    },
    "tags": []
   },
   "outputs": [
    {
     "data": {
      "text/plain": [
       "(4059, 4)"
      ]
     },
     "execution_count": 8,
     "metadata": {},
     "output_type": "execute_result"
    }
   ],
   "source": [
    "with pd.HDFStore('/home/hanliu/project/mouse_rostral_brain/DMR/SubType/Total/DMRInfo.h5') as hdf:\n",
    "    dmr_bed_df = hdf['bed'].loc[use_dmrs].copy()\n",
    "dmr_bed_df.shape"
   ]
  },
  {
   "cell_type": "code",
   "execution_count": 9,
   "metadata": {
    "ExecuteTime": {
     "end_time": "2020-01-26T05:39:19.835898Z",
     "start_time": "2020-01-26T05:38:58.458824Z"
    },
    "papermill": {
     "duration": 22.455098,
     "end_time": "2020-01-27T04:26:59.140739",
     "exception": false,
     "start_time": "2020-01-27T04:26:36.685641",
     "status": "completed"
    },
    "tags": []
   },
   "outputs": [],
   "source": [
    "dmr_annot = anndata.read_h5ad(\n",
    "    '/home/hanliu/project/mouse_rostral_brain/DMR/SubType/Total/MotifScan.h5ad'\n",
    ")\n",
    "# mask small motif scores\n",
    "motif_cutoff = pd.Series(dmr_annot.X.max(axis=0).todense().A1 * mask_quantile_to_max, index=dmr_annot.var_names)"
   ]
  },
  {
   "cell_type": "code",
   "execution_count": 10,
   "metadata": {
    "ExecuteTime": {
     "end_time": "2020-01-26T05:39:20.145052Z",
     "start_time": "2020-01-26T05:39:19.838566Z"
    },
    "papermill": {
     "duration": 0.171321,
     "end_time": "2020-01-27T04:26:59.324815",
     "exception": false,
     "start_time": "2020-01-27T04:26:59.153494",
     "status": "completed"
    },
    "tags": []
   },
   "outputs": [
    {
     "data": {
      "text/plain": [
       "AnnData object with n_obs × n_vars = 4059 × 719 \n",
       "    obs: 'chrom', 'start', 'end'"
      ]
     },
     "execution_count": 10,
     "metadata": {},
     "output_type": "execute_result"
    }
   ],
   "source": [
    "dmr_annot = dmr_annot[use_dmrs, :].copy()\n",
    "dmr_annot"
   ]
  },
  {
   "cell_type": "markdown",
   "metadata": {
    "papermill": {
     "duration": 0.011964,
     "end_time": "2020-01-27T04:26:59.349673",
     "exception": false,
     "start_time": "2020-01-27T04:26:59.337709",
     "status": "completed"
    },
    "tags": []
   },
   "source": [
    "## Background Hits"
   ]
  },
  {
   "cell_type": "code",
   "execution_count": 11,
   "metadata": {
    "ExecuteTime": {
     "end_time": "2020-01-26T05:39:21.260309Z",
     "start_time": "2020-01-26T05:39:20.146266Z"
    },
    "papermill": {
     "duration": 1.188592,
     "end_time": "2020-01-27T04:27:00.550090",
     "exception": false,
     "start_time": "2020-01-27T04:26:59.361498",
     "status": "completed"
    },
    "tags": []
   },
   "outputs": [],
   "source": [
    "background_motif_hits = anndata.read_h5ad(\n",
    "    '/home/hanliu/project/mouse_rostral_brain/DMR/BackgroundDMR/MotifScan.h5ad'\n",
    ")"
   ]
  },
  {
   "cell_type": "code",
   "execution_count": 12,
   "metadata": {
    "ExecuteTime": {
     "end_time": "2020-01-26T05:39:22.476462Z",
     "start_time": "2020-01-26T05:39:21.261657Z"
    },
    "papermill": {
     "duration": 1.34864,
     "end_time": "2020-01-27T04:27:01.911548",
     "exception": false,
     "start_time": "2020-01-27T04:27:00.562908",
     "status": "completed"
    },
    "tags": []
   },
   "outputs": [],
   "source": [
    "dmr_bed = pybedtools.BedTool().from_dataframe(dmr_bed_df)\n",
    "bg_bed = pybedtools.BedTool().from_dataframe(\n",
    "    background_motif_hits.obs.reset_index().iloc[:, [1, 2, 3, 0]])"
   ]
  },
  {
   "cell_type": "code",
   "execution_count": 13,
   "metadata": {
    "ExecuteTime": {
     "end_time": "2020-01-26T05:39:23.984509Z",
     "start_time": "2020-01-26T05:39:22.477832Z"
    },
    "papermill": {
     "duration": 1.665343,
     "end_time": "2020-01-27T04:27:03.589619",
     "exception": false,
     "start_time": "2020-01-27T04:27:01.924276",
     "status": "completed"
    },
    "tags": []
   },
   "outputs": [
    {
     "data": {
      "text/plain": [
       "AnnData object with n_obs × n_vars = 346210 × 719 \n",
       "    obs: 'chrom', 'start', 'end'"
      ]
     },
     "execution_count": 13,
     "metadata": {},
     "output_type": "execute_result"
    }
   ],
   "source": [
    "# exclude background that overlap with DMR\n",
    "bg_no_overlap = bg_bed.intersect(dmr_bed, v=True)\n",
    "use_bg = bg_no_overlap.to_dataframe().iloc[:, -1].values\n",
    "background_motif_hits = background_motif_hits[use_bg, :]\n",
    "\n",
    "# make sure col in same order\n",
    "background_motif_hits = background_motif_hits[:, dmr_annot.var_names].copy()\n",
    "background_motif_hits"
   ]
  },
  {
   "cell_type": "markdown",
   "metadata": {
    "papermill": {
     "duration": 0.012757,
     "end_time": "2020-01-27T04:27:03.615952",
     "exception": false,
     "start_time": "2020-01-27T04:27:03.603195",
     "status": "completed"
    },
    "tags": []
   },
   "source": [
    "## Redo motif score filter"
   ]
  },
  {
   "cell_type": "code",
   "execution_count": 14,
   "metadata": {
    "ExecuteTime": {
     "end_time": "2020-01-26T05:39:23.996307Z",
     "start_time": "2020-01-26T05:39:23.986174Z"
    },
    "papermill": {
     "duration": 0.05672,
     "end_time": "2020-01-27T04:27:03.685308",
     "exception": false,
     "start_time": "2020-01-27T04:27:03.628588",
     "status": "completed"
    },
    "tags": []
   },
   "outputs": [],
   "source": [
    "# only keep value larger than the cutoff for each motif\n",
    "dmr_annot.X = dmr_annot.X.multiply(\n",
    "    (dmr_annot.X >\n",
    "     motif_cutoff[dmr_annot.var_names].values[None, :]).astype(int)).tocsr()"
   ]
  },
  {
   "cell_type": "code",
   "execution_count": 15,
   "metadata": {
    "ExecuteTime": {
     "end_time": "2020-01-26T05:39:29.519631Z",
     "start_time": "2020-01-26T05:39:23.998021Z"
    },
    "papermill": {
     "duration": 4.5895,
     "end_time": "2020-01-27T04:27:08.287143",
     "exception": false,
     "start_time": "2020-01-27T04:27:03.697643",
     "status": "completed"
    },
    "tags": []
   },
   "outputs": [],
   "source": [
    "# only keep value larger than the cutoff for each motif\n",
    "background_motif_hits.X = background_motif_hits.X.multiply(\n",
    "    (background_motif_hits.X >\n",
    "     motif_cutoff[background_motif_hits.var_names].values[None, :]).astype(int)).tocsr()"
   ]
  },
  {
   "cell_type": "markdown",
   "metadata": {
    "papermill": {
     "duration": 0.012288,
     "end_time": "2020-01-27T04:27:08.311846",
     "exception": false,
     "start_time": "2020-01-27T04:27:08.299558",
     "status": "completed"
    },
    "tags": []
   },
   "source": [
    "## Motif hits contingency table"
   ]
  },
  {
   "cell_type": "code",
   "execution_count": 16,
   "metadata": {
    "ExecuteTime": {
     "end_time": "2020-01-26T05:39:29.838813Z",
     "start_time": "2020-01-26T05:39:29.521507Z"
    },
    "papermill": {
     "duration": 0.332413,
     "end_time": "2020-01-27T04:27:08.656281",
     "exception": false,
     "start_time": "2020-01-27T04:27:08.323868",
     "status": "completed"
    },
    "tags": []
   },
   "outputs": [],
   "source": [
    "motif_ids = dmr_annot.var_names\n",
    "\n",
    "# calculate motif occurence, not considering hits here\n",
    "pos = (dmr_annot[:, motif_ids].X > 0).sum(axis=0)\n",
    "pos_total = dmr_annot.shape[0]\n",
    "\n",
    "neg = (background_motif_hits.X > 0).sum(axis=0)\n",
    "neg_total = background_motif_hits.shape[0]"
   ]
  },
  {
   "cell_type": "code",
   "execution_count": 17,
   "metadata": {
    "ExecuteTime": {
     "end_time": "2020-01-26T05:39:29.844971Z",
     "start_time": "2020-01-26T05:39:29.840374Z"
    },
    "papermill": {
     "duration": 0.019619,
     "end_time": "2020-01-27T04:27:08.688228",
     "exception": false,
     "start_time": "2020-01-27T04:27:08.668609",
     "status": "completed"
    },
    "scrolled": true,
    "tags": []
   },
   "outputs": [],
   "source": [
    "tables = {}\n",
    "for motif, _pos, _neg in zip(motif_ids, pos.A1, neg.A1):\n",
    "    table = [[_pos, pos_total - _pos], [_neg, neg_total - _neg]]\n",
    "    tables[motif] = table"
   ]
  },
  {
   "cell_type": "code",
   "execution_count": 18,
   "metadata": {
    "ExecuteTime": {
     "end_time": "2020-01-26T05:39:31.438243Z",
     "start_time": "2020-01-26T05:39:29.846363Z"
    },
    "papermill": {
     "duration": 1.174909,
     "end_time": "2020-01-27T04:27:09.874817",
     "exception": false,
     "start_time": "2020-01-27T04:27:08.699908",
     "status": "completed"
    },
    "tags": []
   },
   "outputs": [],
   "source": [
    "results = {}\n",
    "with ProcessPoolExecutor(40) as executor:\n",
    "    fs = {}\n",
    "    for motif, t in tables.items():\n",
    "        f = executor.submit(stats.fisher_exact, t, alternative='greater')\n",
    "        fs[f] = motif\n",
    "\n",
    "    for f in as_completed(fs):\n",
    "        motif = fs[f]\n",
    "        odds, p = f.result()\n",
    "        results[motif] = {'oddsratio': odds, 'p_value': p}\n",
    "motif_enrich_df = pd.DataFrame(results).T\n",
    "\n",
    "_, p, _, _ = multipletests(motif_enrich_df['p_value'], method='fdr_bh')\n",
    "motif_enrich_df['adj_p'] = p\n",
    "\n",
    "motif_enrich_df['-lgp'] = -np.log10(motif_enrich_df['adj_p']).replace(\n",
    "    -np.inf, -300)\n",
    "\n",
    "records = {}\n",
    "for motif, t in tables.items():\n",
    "    tp, tn = t[0]\n",
    "    fp, fn = t[1]\n",
    "    tp_rate = tp / pos_total\n",
    "    fp_rate = fp / neg_total\n",
    "    records[motif] = dict(tp=tp,\n",
    "                          tn=tn,\n",
    "                          fp=fp,\n",
    "                          fn=fn,\n",
    "                          tp_rate=tp_rate,\n",
    "                          fp_rate=fp_rate)\n",
    "counts = pd.DataFrame(records).T\n",
    "motif_enrich_df = pd.concat([motif_enrich_df, counts], axis=1, sort=True)"
   ]
  },
  {
   "cell_type": "code",
   "execution_count": 19,
   "metadata": {
    "ExecuteTime": {
     "end_time": "2020-01-26T05:39:31.442900Z",
     "start_time": "2020-01-26T05:39:31.439825Z"
    },
    "papermill": {
     "duration": 0.018598,
     "end_time": "2020-01-27T04:27:09.906466",
     "exception": false,
     "start_time": "2020-01-27T04:27:09.887868",
     "status": "completed"
    },
    "tags": []
   },
   "outputs": [],
   "source": [
    "motif_enrich_df['GeneCluster'] = gene_cluster\n",
    "motif_enrich_df['DMRType'] = 'Hypo'"
   ]
  },
  {
   "cell_type": "code",
   "execution_count": 20,
   "metadata": {
    "ExecuteTime": {
     "end_time": "2020-01-26T05:39:31.447983Z",
     "start_time": "2020-01-26T05:39:31.444254Z"
    },
    "papermill": {
     "duration": 0.018271,
     "end_time": "2020-01-27T04:27:09.936523",
     "exception": false,
     "start_time": "2020-01-27T04:27:09.918252",
     "status": "completed"
    },
    "tags": []
   },
   "outputs": [],
   "source": [
    "motif_enrich_df = motif_enrich_df[motif_enrich_df['oddsratio'] > 1].copy()"
   ]
  },
  {
   "cell_type": "markdown",
   "metadata": {
    "papermill": {
     "duration": 0.01164,
     "end_time": "2020-01-27T04:27:09.959722",
     "exception": false,
     "start_time": "2020-01-27T04:27:09.948082",
     "status": "completed"
    },
    "tags": []
   },
   "source": [
    "## Add gene info"
   ]
  },
  {
   "cell_type": "code",
   "execution_count": 21,
   "metadata": {
    "ExecuteTime": {
     "end_time": "2020-01-26T05:39:31.462006Z",
     "start_time": "2020-01-26T05:39:31.449161Z"
    },
    "papermill": {
     "duration": 0.027857,
     "end_time": "2020-01-27T04:27:09.999321",
     "exception": false,
     "start_time": "2020-01-27T04:27:09.971464",
     "status": "completed"
    },
    "tags": []
   },
   "outputs": [
    {
     "data": {
      "text/html": [
       "<div>\n",
       "<style scoped>\n",
       "    .dataframe tbody tr th:only-of-type {\n",
       "        vertical-align: middle;\n",
       "    }\n",
       "\n",
       "    .dataframe tbody tr th {\n",
       "        vertical-align: top;\n",
       "    }\n",
       "\n",
       "    .dataframe thead th {\n",
       "        text-align: right;\n",
       "    }\n",
       "</style>\n",
       "<table border=\"1\" class=\"dataframe\">\n",
       "  <thead>\n",
       "    <tr style=\"text-align: right;\">\n",
       "      <th></th>\n",
       "      <th>motif_name</th>\n",
       "      <th>motif_genes</th>\n",
       "      <th>gene_ids</th>\n",
       "      <th>gene_names</th>\n",
       "      <th>motif_group</th>\n",
       "    </tr>\n",
       "    <tr>\n",
       "      <th>motif_uid</th>\n",
       "      <th></th>\n",
       "      <th></th>\n",
       "      <th></th>\n",
       "      <th></th>\n",
       "      <th></th>\n",
       "    </tr>\n",
       "  </thead>\n",
       "  <tbody>\n",
       "    <tr>\n",
       "      <th>MA0006.1</th>\n",
       "      <td>Ahr::Arnt</td>\n",
       "      <td>Ahr,Arnt</td>\n",
       "      <td>ENSMUSG00000019256.17,ENSMUSG00000015522.18</td>\n",
       "      <td>Ahr,Arnt</td>\n",
       "      <td>MotifGroup178</td>\n",
       "    </tr>\n",
       "    <tr>\n",
       "      <th>MA0854.1</th>\n",
       "      <td>Alx1</td>\n",
       "      <td>Alx1</td>\n",
       "      <td>ENSMUSG00000036602.14</td>\n",
       "      <td>Alx1</td>\n",
       "      <td>MotifGroup3</td>\n",
       "    </tr>\n",
       "    <tr>\n",
       "      <th>MA0634.1</th>\n",
       "      <td>ALX3</td>\n",
       "      <td>ALX3</td>\n",
       "      <td>ENSMUSG00000014603.3</td>\n",
       "      <td>Alx3</td>\n",
       "      <td>MotifGroup3</td>\n",
       "    </tr>\n",
       "    <tr>\n",
       "      <th>MA0853.1</th>\n",
       "      <td>Alx4</td>\n",
       "      <td>Alx4</td>\n",
       "      <td>ENSMUSG00000040310.12</td>\n",
       "      <td>Alx4</td>\n",
       "      <td>MotifGroup3</td>\n",
       "    </tr>\n",
       "    <tr>\n",
       "      <th>MA0007.3</th>\n",
       "      <td>Ar</td>\n",
       "      <td>Ar</td>\n",
       "      <td>ENSMUSG00000046532.8</td>\n",
       "      <td>Ar</td>\n",
       "      <td>MotifGroup32</td>\n",
       "    </tr>\n",
       "  </tbody>\n",
       "</table>\n",
       "</div>"
      ],
      "text/plain": [
       "          motif_name motif_genes                                     gene_ids  \\\n",
       "motif_uid                                                                       \n",
       "MA0006.1   Ahr::Arnt    Ahr,Arnt  ENSMUSG00000019256.17,ENSMUSG00000015522.18   \n",
       "MA0854.1        Alx1        Alx1                        ENSMUSG00000036602.14   \n",
       "MA0634.1        ALX3        ALX3                         ENSMUSG00000014603.3   \n",
       "MA0853.1        Alx4        Alx4                        ENSMUSG00000040310.12   \n",
       "MA0007.3          Ar          Ar                         ENSMUSG00000046532.8   \n",
       "\n",
       "          gene_names    motif_group  \n",
       "motif_uid                            \n",
       "MA0006.1    Ahr,Arnt  MotifGroup178  \n",
       "MA0854.1        Alx1    MotifGroup3  \n",
       "MA0634.1        Alx3    MotifGroup3  \n",
       "MA0853.1        Alx4    MotifGroup3  \n",
       "MA0007.3          Ar   MotifGroup32  "
      ]
     },
     "execution_count": 21,
     "metadata": {},
     "output_type": "execute_result"
    }
   ],
   "source": [
    "motif_gene_anno = pd.read_csv(\n",
    "    '/home/hanliu/project/mouse_rostral_brain/study/MotifClustering/JASPAR2020_CORE_vertebrates_non-redundant.mouse_genes.with_motif_group.199.csv', \n",
    "    index_col=0\n",
    ")\n",
    "motif_gene_anno.head()"
   ]
  },
  {
   "cell_type": "code",
   "execution_count": 22,
   "metadata": {
    "ExecuteTime": {
     "end_time": "2020-01-26T05:39:31.466132Z",
     "start_time": "2020-01-26T05:39:31.463146Z"
    },
    "papermill": {
     "duration": 0.018361,
     "end_time": "2020-01-27T04:27:10.030881",
     "exception": false,
     "start_time": "2020-01-27T04:27:10.012520",
     "status": "completed"
    },
    "tags": []
   },
   "outputs": [],
   "source": [
    "motif_enrich_df = pd.concat([motif_enrich_df, motif_gene_anno.reindex(motif_enrich_df.index)], axis=1)"
   ]
  },
  {
   "cell_type": "code",
   "execution_count": 23,
   "metadata": {
    "ExecuteTime": {
     "end_time": "2020-01-26T05:41:01.352610Z",
     "start_time": "2020-01-26T05:41:01.349314Z"
    },
    "papermill": {
     "duration": 0.018855,
     "end_time": "2020-01-27T04:27:10.061629",
     "exception": false,
     "start_time": "2020-01-27T04:27:10.042774",
     "status": "completed"
    },
    "tags": []
   },
   "outputs": [
    {
     "name": "stderr",
     "output_type": "stream",
     "text": [
      "/home/hanliu/miniconda3/envs/clustering/lib/python3.7/site-packages/ipykernel_launcher.py:1: FutureWarning: to_msgpack is deprecated and will be removed in a future version.\n",
      "It is recommended to use pyarrow for on-the-wire transmission of pandas objects.\n",
      "  \"\"\"Entry point for launching an IPython kernel.\n"
     ]
    }
   ],
   "source": [
    "motif_enrich_df.to_msgpack(output_dir / f'{gene_cluster}.Hypo.motif_enrichment.msg')"
   ]
  },
  {
   "cell_type": "code",
   "execution_count": 24,
   "metadata": {
    "ExecuteTime": {
     "end_time": "2020-01-26T05:39:31.478039Z",
     "start_time": "2020-01-26T05:39:31.473299Z"
    },
    "papermill": {
     "duration": 0.020563,
     "end_time": "2020-01-27T04:27:10.094791",
     "exception": false,
     "start_time": "2020-01-27T04:27:10.074228",
     "status": "completed"
    },
    "tags": []
   },
   "outputs": [
    {
     "data": {
      "text/plain": [
       "16"
      ]
     },
     "execution_count": 24,
     "metadata": {},
     "output_type": "execute_result"
    }
   ],
   "source": [
    "# final filter\n",
    "filtered_motif_df = motif_enrich_df[(motif_enrich_df['oddsratio'] > or_cutoff)\n",
    "                                    &\n",
    "                                    (motif_enrich_df['-lgp'] > neg_lgp_cutoff)]\n",
    "filtered_motif_df.shape[0]"
   ]
  },
  {
   "cell_type": "code",
   "execution_count": 25,
   "metadata": {
    "ExecuteTime": {
     "end_time": "2020-01-26T05:39:31.492820Z",
     "start_time": "2020-01-26T05:39:31.479121Z"
    },
    "papermill": {
     "duration": 0.032707,
     "end_time": "2020-01-27T04:27:10.140274",
     "exception": false,
     "start_time": "2020-01-27T04:27:10.107567",
     "status": "completed"
    },
    "tags": []
   },
   "outputs": [
    {
     "data": {
      "text/html": [
       "<div>\n",
       "<style scoped>\n",
       "    .dataframe tbody tr th:only-of-type {\n",
       "        vertical-align: middle;\n",
       "    }\n",
       "\n",
       "    .dataframe tbody tr th {\n",
       "        vertical-align: top;\n",
       "    }\n",
       "\n",
       "    .dataframe thead th {\n",
       "        text-align: right;\n",
       "    }\n",
       "</style>\n",
       "<table border=\"1\" class=\"dataframe\">\n",
       "  <thead>\n",
       "    <tr style=\"text-align: right;\">\n",
       "      <th></th>\n",
       "      <th>oddsratio</th>\n",
       "      <th>p_value</th>\n",
       "      <th>adj_p</th>\n",
       "      <th>-lgp</th>\n",
       "      <th>tp</th>\n",
       "      <th>tn</th>\n",
       "      <th>fp</th>\n",
       "      <th>fn</th>\n",
       "      <th>tp_rate</th>\n",
       "      <th>fp_rate</th>\n",
       "      <th>GeneCluster</th>\n",
       "      <th>DMRType</th>\n",
       "      <th>motif_name</th>\n",
       "      <th>motif_genes</th>\n",
       "      <th>gene_ids</th>\n",
       "      <th>gene_names</th>\n",
       "      <th>motif_group</th>\n",
       "    </tr>\n",
       "  </thead>\n",
       "  <tbody>\n",
       "    <tr>\n",
       "      <th>MA0027.2</th>\n",
       "      <td>1.659129</td>\n",
       "      <td>4.777631e-14</td>\n",
       "      <td>4.907309e-12</td>\n",
       "      <td>11.309157</td>\n",
       "      <td>273.0</td>\n",
       "      <td>3786.0</td>\n",
       "      <td>14420.0</td>\n",
       "      <td>331790.0</td>\n",
       "      <td>0.067258</td>\n",
       "      <td>0.041651</td>\n",
       "      <td>13</td>\n",
       "      <td>Hypo</td>\n",
       "      <td>EN1</td>\n",
       "      <td>EN1</td>\n",
       "      <td>ENSMUSG00000058665.8</td>\n",
       "      <td>En1</td>\n",
       "      <td>MotifGroup3</td>\n",
       "    </tr>\n",
       "    <tr>\n",
       "      <th>MA0068.2</th>\n",
       "      <td>1.612506</td>\n",
       "      <td>1.092885e-08</td>\n",
       "      <td>2.806372e-07</td>\n",
       "      <td>6.551855</td>\n",
       "      <td>169.0</td>\n",
       "      <td>3890.0</td>\n",
       "      <td>9083.0</td>\n",
       "      <td>337127.0</td>\n",
       "      <td>0.041636</td>\n",
       "      <td>0.026236</td>\n",
       "      <td>13</td>\n",
       "      <td>Hypo</td>\n",
       "      <td>PAX4</td>\n",
       "      <td>PAX4</td>\n",
       "      <td>ENSMUSG00000029706.15</td>\n",
       "      <td>Pax4</td>\n",
       "      <td>MotifGroup3</td>\n",
       "    </tr>\n",
       "    <tr>\n",
       "      <th>MA0075.3</th>\n",
       "      <td>1.713127</td>\n",
       "      <td>9.435278e-18</td>\n",
       "      <td>2.261322e-15</td>\n",
       "      <td>14.645638</td>\n",
       "      <td>320.0</td>\n",
       "      <td>3739.0</td>\n",
       "      <td>16473.0</td>\n",
       "      <td>329737.0</td>\n",
       "      <td>0.078837</td>\n",
       "      <td>0.047581</td>\n",
       "      <td>13</td>\n",
       "      <td>Hypo</td>\n",
       "      <td>PRRX2</td>\n",
       "      <td>PRRX2</td>\n",
       "      <td>ENSMUSG00000039476.13</td>\n",
       "      <td>Prrx2</td>\n",
       "      <td>MotifGroup3</td>\n",
       "    </tr>\n",
       "    <tr>\n",
       "      <th>MA0612.2</th>\n",
       "      <td>1.662624</td>\n",
       "      <td>2.883095e-08</td>\n",
       "      <td>5.602555e-07</td>\n",
       "      <td>6.251614</td>\n",
       "      <td>141.0</td>\n",
       "      <td>3918.0</td>\n",
       "      <td>7335.0</td>\n",
       "      <td>338875.0</td>\n",
       "      <td>0.034738</td>\n",
       "      <td>0.021187</td>\n",
       "      <td>13</td>\n",
       "      <td>Hypo</td>\n",
       "      <td>EMX1</td>\n",
       "      <td>EMX1</td>\n",
       "      <td>ENSMUSG00000033726.8</td>\n",
       "      <td>Emx1</td>\n",
       "      <td>MotifGroup3</td>\n",
       "    </tr>\n",
       "    <tr>\n",
       "      <th>MA0618.1</th>\n",
       "      <td>1.603612</td>\n",
       "      <td>2.542954e-15</td>\n",
       "      <td>4.570961e-13</td>\n",
       "      <td>12.339993</td>\n",
       "      <td>348.0</td>\n",
       "      <td>3711.0</td>\n",
       "      <td>19127.0</td>\n",
       "      <td>327083.0</td>\n",
       "      <td>0.085735</td>\n",
       "      <td>0.055247</td>\n",
       "      <td>13</td>\n",
       "      <td>Hypo</td>\n",
       "      <td>LBX1</td>\n",
       "      <td>LBX1</td>\n",
       "      <td>ENSMUSG00000025216.9</td>\n",
       "      <td>Lbx1</td>\n",
       "      <td>MotifGroup3</td>\n",
       "    </tr>\n",
       "    <tr>\n",
       "      <th>MA0722.1</th>\n",
       "      <td>1.624322</td>\n",
       "      <td>4.756515e-14</td>\n",
       "      <td>4.907309e-12</td>\n",
       "      <td>11.309157</td>\n",
       "      <td>297.0</td>\n",
       "      <td>3762.0</td>\n",
       "      <td>16047.0</td>\n",
       "      <td>330163.0</td>\n",
       "      <td>0.073171</td>\n",
       "      <td>0.046350</td>\n",
       "      <td>13</td>\n",
       "      <td>Hypo</td>\n",
       "      <td>VAX1</td>\n",
       "      <td>VAX1</td>\n",
       "      <td>ENSMUSG00000006270.7</td>\n",
       "      <td>Vax1</td>\n",
       "      <td>MotifGroup3</td>\n",
       "    </tr>\n",
       "    <tr>\n",
       "      <th>MA0725.1</th>\n",
       "      <td>1.713127</td>\n",
       "      <td>9.435278e-18</td>\n",
       "      <td>2.261322e-15</td>\n",
       "      <td>14.645638</td>\n",
       "      <td>320.0</td>\n",
       "      <td>3739.0</td>\n",
       "      <td>16473.0</td>\n",
       "      <td>329737.0</td>\n",
       "      <td>0.078837</td>\n",
       "      <td>0.047581</td>\n",
       "      <td>13</td>\n",
       "      <td>Hypo</td>\n",
       "      <td>VSX1</td>\n",
       "      <td>VSX1</td>\n",
       "      <td>ENSMUSG00000033080.9</td>\n",
       "      <td>Vsx1</td>\n",
       "      <td>MotifGroup3</td>\n",
       "    </tr>\n",
       "    <tr>\n",
       "      <th>MA0726.1</th>\n",
       "      <td>1.713127</td>\n",
       "      <td>9.435278e-18</td>\n",
       "      <td>2.261322e-15</td>\n",
       "      <td>14.645638</td>\n",
       "      <td>320.0</td>\n",
       "      <td>3739.0</td>\n",
       "      <td>16473.0</td>\n",
       "      <td>329737.0</td>\n",
       "      <td>0.078837</td>\n",
       "      <td>0.047581</td>\n",
       "      <td>13</td>\n",
       "      <td>Hypo</td>\n",
       "      <td>VSX2</td>\n",
       "      <td>VSX2</td>\n",
       "      <td>ENSMUSG00000021239.12</td>\n",
       "      <td>Vsx2</td>\n",
       "      <td>MotifGroup3</td>\n",
       "    </tr>\n",
       "    <tr>\n",
       "      <th>MA0886.1</th>\n",
       "      <td>1.712155</td>\n",
       "      <td>2.512396e-13</td>\n",
       "      <td>2.007126e-11</td>\n",
       "      <td>10.697425</td>\n",
       "      <td>228.0</td>\n",
       "      <td>3831.0</td>\n",
       "      <td>11630.0</td>\n",
       "      <td>334580.0</td>\n",
       "      <td>0.056171</td>\n",
       "      <td>0.033592</td>\n",
       "      <td>13</td>\n",
       "      <td>Hypo</td>\n",
       "      <td>EMX2</td>\n",
       "      <td>EMX2</td>\n",
       "      <td>ENSMUSG00000043969.4</td>\n",
       "      <td>Emx2</td>\n",
       "      <td>MotifGroup3</td>\n",
       "    </tr>\n",
       "    <tr>\n",
       "      <th>MA0889.1</th>\n",
       "      <td>1.680219</td>\n",
       "      <td>5.994613e-14</td>\n",
       "      <td>5.387659e-12</td>\n",
       "      <td>11.268600</td>\n",
       "      <td>258.0</td>\n",
       "      <td>3801.0</td>\n",
       "      <td>13443.0</td>\n",
       "      <td>332767.0</td>\n",
       "      <td>0.063562</td>\n",
       "      <td>0.038829</td>\n",
       "      <td>13</td>\n",
       "      <td>Hypo</td>\n",
       "      <td>GBX1</td>\n",
       "      <td>GBX1</td>\n",
       "      <td>ENSMUSG00000067724.5</td>\n",
       "      <td>Gbx1</td>\n",
       "      <td>MotifGroup3</td>\n",
       "    </tr>\n",
       "    <tr>\n",
       "      <th>MA0900.2</th>\n",
       "      <td>1.662624</td>\n",
       "      <td>2.883095e-08</td>\n",
       "      <td>5.602555e-07</td>\n",
       "      <td>6.251614</td>\n",
       "      <td>141.0</td>\n",
       "      <td>3918.0</td>\n",
       "      <td>7335.0</td>\n",
       "      <td>338875.0</td>\n",
       "      <td>0.034738</td>\n",
       "      <td>0.021187</td>\n",
       "      <td>13</td>\n",
       "      <td>Hypo</td>\n",
       "      <td>HOXA2</td>\n",
       "      <td>HOXA2</td>\n",
       "      <td>ENSMUSG00000014704.10</td>\n",
       "      <td>Hoxa2</td>\n",
       "      <td>MotifGroup3</td>\n",
       "    </tr>\n",
       "    <tr>\n",
       "      <th>MA0902.2</th>\n",
       "      <td>1.622897</td>\n",
       "      <td>3.849082e-10</td>\n",
       "      <td>1.153121e-08</td>\n",
       "      <td>7.938125</td>\n",
       "      <td>200.0</td>\n",
       "      <td>3859.0</td>\n",
       "      <td>10714.0</td>\n",
       "      <td>335496.0</td>\n",
       "      <td>0.049273</td>\n",
       "      <td>0.030947</td>\n",
       "      <td>13</td>\n",
       "      <td>Hypo</td>\n",
       "      <td>HOXB2</td>\n",
       "      <td>HOXB2</td>\n",
       "      <td>ENSMUSG00000075588.6</td>\n",
       "      <td>Hoxb2</td>\n",
       "      <td>MotifGroup3</td>\n",
       "    </tr>\n",
       "    <tr>\n",
       "      <th>MA0904.2</th>\n",
       "      <td>1.662624</td>\n",
       "      <td>2.883095e-08</td>\n",
       "      <td>5.602555e-07</td>\n",
       "      <td>6.251614</td>\n",
       "      <td>141.0</td>\n",
       "      <td>3918.0</td>\n",
       "      <td>7335.0</td>\n",
       "      <td>338875.0</td>\n",
       "      <td>0.034738</td>\n",
       "      <td>0.021187</td>\n",
       "      <td>13</td>\n",
       "      <td>Hypo</td>\n",
       "      <td>HOXB5</td>\n",
       "      <td>HOXB5</td>\n",
       "      <td>ENSMUSG00000038700.4</td>\n",
       "      <td>Hoxb5</td>\n",
       "      <td>MotifGroup3</td>\n",
       "    </tr>\n",
       "    <tr>\n",
       "      <th>MA1481.1</th>\n",
       "      <td>1.696867</td>\n",
       "      <td>2.108675e-12</td>\n",
       "      <td>1.342688e-10</td>\n",
       "      <td>9.872025</td>\n",
       "      <td>216.0</td>\n",
       "      <td>3843.0</td>\n",
       "      <td>11100.0</td>\n",
       "      <td>335110.0</td>\n",
       "      <td>0.053215</td>\n",
       "      <td>0.032061</td>\n",
       "      <td>13</td>\n",
       "      <td>Hypo</td>\n",
       "      <td>DRGX</td>\n",
       "      <td>DRGX</td>\n",
       "      <td>ENSMUSG00000041730.14</td>\n",
       "      <td>Prrxl1</td>\n",
       "      <td>MotifGroup3</td>\n",
       "    </tr>\n",
       "    <tr>\n",
       "      <th>MA1495.1</th>\n",
       "      <td>1.662624</td>\n",
       "      <td>2.883095e-08</td>\n",
       "      <td>5.602555e-07</td>\n",
       "      <td>6.251614</td>\n",
       "      <td>141.0</td>\n",
       "      <td>3918.0</td>\n",
       "      <td>7335.0</td>\n",
       "      <td>338875.0</td>\n",
       "      <td>0.034738</td>\n",
       "      <td>0.021187</td>\n",
       "      <td>13</td>\n",
       "      <td>Hypo</td>\n",
       "      <td>HOXA1</td>\n",
       "      <td>HOXA1</td>\n",
       "      <td>ENSMUSG00000029844.9</td>\n",
       "      <td>Hoxa1</td>\n",
       "      <td>MotifGroup3</td>\n",
       "    </tr>\n",
       "    <tr>\n",
       "      <th>MA1577.1</th>\n",
       "      <td>1.624282</td>\n",
       "      <td>4.585822e-11</td>\n",
       "      <td>1.650544e-09</td>\n",
       "      <td>8.782373</td>\n",
       "      <td>222.0</td>\n",
       "      <td>3837.0</td>\n",
       "      <td>11908.0</td>\n",
       "      <td>334302.0</td>\n",
       "      <td>0.054693</td>\n",
       "      <td>0.034395</td>\n",
       "      <td>13</td>\n",
       "      <td>Hypo</td>\n",
       "      <td>TLX2</td>\n",
       "      <td>TLX2</td>\n",
       "      <td>ENSMUSG00000068327.5</td>\n",
       "      <td>Tlx2</td>\n",
       "      <td>MotifGroup3</td>\n",
       "    </tr>\n",
       "  </tbody>\n",
       "</table>\n",
       "</div>"
      ],
      "text/plain": [
       "          oddsratio       p_value         adj_p       -lgp     tp      tn  \\\n",
       "MA0027.2   1.659129  4.777631e-14  4.907309e-12  11.309157  273.0  3786.0   \n",
       "MA0068.2   1.612506  1.092885e-08  2.806372e-07   6.551855  169.0  3890.0   \n",
       "MA0075.3   1.713127  9.435278e-18  2.261322e-15  14.645638  320.0  3739.0   \n",
       "MA0612.2   1.662624  2.883095e-08  5.602555e-07   6.251614  141.0  3918.0   \n",
       "MA0618.1   1.603612  2.542954e-15  4.570961e-13  12.339993  348.0  3711.0   \n",
       "MA0722.1   1.624322  4.756515e-14  4.907309e-12  11.309157  297.0  3762.0   \n",
       "MA0725.1   1.713127  9.435278e-18  2.261322e-15  14.645638  320.0  3739.0   \n",
       "MA0726.1   1.713127  9.435278e-18  2.261322e-15  14.645638  320.0  3739.0   \n",
       "MA0886.1   1.712155  2.512396e-13  2.007126e-11  10.697425  228.0  3831.0   \n",
       "MA0889.1   1.680219  5.994613e-14  5.387659e-12  11.268600  258.0  3801.0   \n",
       "MA0900.2   1.662624  2.883095e-08  5.602555e-07   6.251614  141.0  3918.0   \n",
       "MA0902.2   1.622897  3.849082e-10  1.153121e-08   7.938125  200.0  3859.0   \n",
       "MA0904.2   1.662624  2.883095e-08  5.602555e-07   6.251614  141.0  3918.0   \n",
       "MA1481.1   1.696867  2.108675e-12  1.342688e-10   9.872025  216.0  3843.0   \n",
       "MA1495.1   1.662624  2.883095e-08  5.602555e-07   6.251614  141.0  3918.0   \n",
       "MA1577.1   1.624282  4.585822e-11  1.650544e-09   8.782373  222.0  3837.0   \n",
       "\n",
       "               fp        fn   tp_rate   fp_rate GeneCluster DMRType  \\\n",
       "MA0027.2  14420.0  331790.0  0.067258  0.041651          13    Hypo   \n",
       "MA0068.2   9083.0  337127.0  0.041636  0.026236          13    Hypo   \n",
       "MA0075.3  16473.0  329737.0  0.078837  0.047581          13    Hypo   \n",
       "MA0612.2   7335.0  338875.0  0.034738  0.021187          13    Hypo   \n",
       "MA0618.1  19127.0  327083.0  0.085735  0.055247          13    Hypo   \n",
       "MA0722.1  16047.0  330163.0  0.073171  0.046350          13    Hypo   \n",
       "MA0725.1  16473.0  329737.0  0.078837  0.047581          13    Hypo   \n",
       "MA0726.1  16473.0  329737.0  0.078837  0.047581          13    Hypo   \n",
       "MA0886.1  11630.0  334580.0  0.056171  0.033592          13    Hypo   \n",
       "MA0889.1  13443.0  332767.0  0.063562  0.038829          13    Hypo   \n",
       "MA0900.2   7335.0  338875.0  0.034738  0.021187          13    Hypo   \n",
       "MA0902.2  10714.0  335496.0  0.049273  0.030947          13    Hypo   \n",
       "MA0904.2   7335.0  338875.0  0.034738  0.021187          13    Hypo   \n",
       "MA1481.1  11100.0  335110.0  0.053215  0.032061          13    Hypo   \n",
       "MA1495.1   7335.0  338875.0  0.034738  0.021187          13    Hypo   \n",
       "MA1577.1  11908.0  334302.0  0.054693  0.034395          13    Hypo   \n",
       "\n",
       "         motif_name motif_genes               gene_ids gene_names  motif_group  \n",
       "MA0027.2        EN1         EN1   ENSMUSG00000058665.8        En1  MotifGroup3  \n",
       "MA0068.2       PAX4        PAX4  ENSMUSG00000029706.15       Pax4  MotifGroup3  \n",
       "MA0075.3      PRRX2       PRRX2  ENSMUSG00000039476.13      Prrx2  MotifGroup3  \n",
       "MA0612.2       EMX1        EMX1   ENSMUSG00000033726.8       Emx1  MotifGroup3  \n",
       "MA0618.1       LBX1        LBX1   ENSMUSG00000025216.9       Lbx1  MotifGroup3  \n",
       "MA0722.1       VAX1        VAX1   ENSMUSG00000006270.7       Vax1  MotifGroup3  \n",
       "MA0725.1       VSX1        VSX1   ENSMUSG00000033080.9       Vsx1  MotifGroup3  \n",
       "MA0726.1       VSX2        VSX2  ENSMUSG00000021239.12       Vsx2  MotifGroup3  \n",
       "MA0886.1       EMX2        EMX2   ENSMUSG00000043969.4       Emx2  MotifGroup3  \n",
       "MA0889.1       GBX1        GBX1   ENSMUSG00000067724.5       Gbx1  MotifGroup3  \n",
       "MA0900.2      HOXA2       HOXA2  ENSMUSG00000014704.10      Hoxa2  MotifGroup3  \n",
       "MA0902.2      HOXB2       HOXB2   ENSMUSG00000075588.6      Hoxb2  MotifGroup3  \n",
       "MA0904.2      HOXB5       HOXB5   ENSMUSG00000038700.4      Hoxb5  MotifGroup3  \n",
       "MA1481.1       DRGX        DRGX  ENSMUSG00000041730.14     Prrxl1  MotifGroup3  \n",
       "MA1495.1      HOXA1       HOXA1   ENSMUSG00000029844.9      Hoxa1  MotifGroup3  \n",
       "MA1577.1       TLX2        TLX2   ENSMUSG00000068327.5       Tlx2  MotifGroup3  "
      ]
     },
     "execution_count": 25,
     "metadata": {},
     "output_type": "execute_result"
    }
   ],
   "source": [
    "filtered_motif_df"
   ]
  },
  {
   "cell_type": "code",
   "execution_count": null,
   "metadata": {
    "papermill": {
     "duration": 0.013511,
     "end_time": "2020-01-27T04:27:10.167749",
     "exception": false,
     "start_time": "2020-01-27T04:27:10.154238",
     "status": "completed"
    },
    "tags": []
   },
   "outputs": [],
   "source": []
  }
 ],
 "metadata": {
  "hide_input": false,
  "kernelspec": {
   "display_name": "Python 3",
   "language": "python",
   "name": "python3"
  },
  "language_info": {
   "codemirror_mode": {
    "name": "ipython",
    "version": 3
   },
   "file_extension": ".py",
   "mimetype": "text/x-python",
   "name": "python",
   "nbconvert_exporter": "python",
   "pygments_lexer": "ipython3",
   "version": "3.7.3"
  },
  "papermill": {
   "duration": 42.515165,
   "end_time": "2020-01-27T04:27:10.788462",
   "environment_variables": {},
   "exception": null,
   "input_path": "7.MotifEnrichment.ipynb",
   "output_path": "/home/hanliu/project/mouse_rostral_brain/study/ClustersEnsemble/InhMGECGESubtypeEnsemble/7.MotifEnrichment.ipynb",
   "parameters": {
    "gene_cluster": "13",
    "mask_quantile_to_max": 0.8,
    "neg_lgp_cutoff": 3,
    "or_cutoff": 1.6
   },
   "start_time": "2020-01-27T04:26:28.273297",
   "version": "1.0.1"
  },
  "toc": {
   "base_numbering": 1,
   "nav_menu": {},
   "number_sections": true,
   "sideBar": true,
   "skip_h1_title": true,
   "title_cell": "Table of Contents",
   "title_sidebar": "Contents",
   "toc_cell": false,
   "toc_position": {},
   "toc_section_display": true,
   "toc_window_display": true
  }
 },
 "nbformat": 4,
 "nbformat_minor": 2
}