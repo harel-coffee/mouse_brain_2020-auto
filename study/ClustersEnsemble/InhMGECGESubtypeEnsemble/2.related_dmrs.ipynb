{
 "cells": [
  {
   "cell_type": "code",
   "execution_count": 1,
   "metadata": {
    "ExecuteTime": {
     "end_time": "2020-01-26T04:07:52.163773Z",
     "start_time": "2020-01-26T04:07:51.973426Z"
    },
    "papermill": {
     "duration": 0.202021,
     "end_time": "2020-01-27T04:12:03.438812",
     "exception": false,
     "start_time": "2020-01-27T04:12:03.236791",
     "status": "completed"
    },
    "tags": []
   },
   "outputs": [],
   "source": [
    "import pandas as pd\n",
    "import anndata"
   ]
  },
  {
   "cell_type": "markdown",
   "metadata": {
    "papermill": {
     "duration": 0.007195,
     "end_time": "2020-01-27T04:12:03.454603",
     "exception": false,
     "start_time": "2020-01-27T04:12:03.447408",
     "status": "completed"
    },
    "tags": []
   },
   "source": [
    "## Parameters"
   ]
  },
  {
   "cell_type": "code",
   "execution_count": 2,
   "metadata": {
    "ExecuteTime": {
     "end_time": "2020-01-26T04:07:52.585971Z",
     "start_time": "2020-01-26T04:07:52.583303Z"
    },
    "papermill": {
     "duration": 0.013006,
     "end_time": "2020-01-27T04:12:03.474906",
     "exception": false,
     "start_time": "2020-01-27T04:12:03.461900",
     "status": "completed"
    },
    "tags": [
     "parameters"
    ]
   },
   "outputs": [],
   "source": [
    "use_clusters = [\n",
    "    'CA1_Ak5', 'CA1_Chrm3', 'CA1_Kif26a', 'CA1_Ptprg',\n",
    "    'CA3_Cadm2', 'CA3_Efnb2', 'CA3-St18_Epha5', 'CA3-St18_Nuak1',\n",
    "    'CA3-St18_Tead1', 'DG_dg-all', 'DG-po_Bcl11a', 'DG-po_Calb2',\n",
    "    'DG-po_Kctd8', 'Gfra1_Gfra1', 'IG-CA2_Chrm3', 'IG-CA2_Peak1', 'IG-CA2_Xpr1'\n",
    "]\n",
    "hypo_dmr_hits_path = '/home/hanliu/project/mouse_rostral_brain/DMR/SubType/Total/TotalHits.HypoDMR.h5ad'\n",
    "# 'CA1_Lingo2' not include, because it co-cluster with RHP, probably an incomplete cluster"
   ]
  },
  {
   "cell_type": "code",
   "execution_count": 3,
   "metadata": {
    "papermill": {
     "duration": 0.012746,
     "end_time": "2020-01-27T04:12:03.494649",
     "exception": false,
     "start_time": "2020-01-27T04:12:03.481903",
     "status": "completed"
    },
    "tags": [
     "injected-parameters"
    ]
   },
   "outputs": [],
   "source": [
    "# Parameters\n",
    "use_clusters = [\"CGE-Lamp5_Dock5\", \"CGE-Lamp5_Grid1\", \"CGE-Lamp5_Grk5\", \"CGE-Lamp5_Nrxn3\", \"CGE-Lamp5_Sorcs1\", \"CGE-Vip_Ccser1\", \"CGE-Vip_Clstn2\", \"CGE-Vip_Fstl4\", \"CGE-Vip_Galnt17\", \"CGE-Vip_Grm8\", \"CGE-Vip_Ntng1\", \"CGE-Vip_Ptprm\", \"CGE-Vip_Robo1\", \"MGE-Pvalb_Cacna1i\", \"MGE-Pvalb_Cnih3\", \"MGE-Pvalb_Entpd3\", \"MGE-Pvalb_Gfra2\", \"MGE-Pvalb_Ptprk\", \"MGE-Pvalb_Sema5a\", \"MGE-Pvalb_Thsd7a\", \"MGE-Sst_Bmper\", \"MGE-Sst_Chodl\", \"MGE-Sst_Dock4\", \"MGE-Sst_Etv1\", \"MGE-Sst_Frmd6\", \"MGE-Sst_Kcnip4\", \"MGE-Sst_Ptpre\", \"MGE-Sst_Rerg\", \"MGE-Sst_Rxra\", \"MGE-Sst_Ubtd1\", \"MGE-Sst_Unc5b\", \"Unc5c_Unc5c\"]\n",
    "hypo_dmr_hits_path = \"/home/hanliu/project/mouse_rostral_brain/DMR/SubType/Total/TotalHits.HypoDMR.h5ad\"\n"
   ]
  },
  {
   "cell_type": "markdown",
   "metadata": {
    "papermill": {
     "duration": 0.006983,
     "end_time": "2020-01-27T04:12:03.508674",
     "exception": false,
     "start_time": "2020-01-27T04:12:03.501691",
     "status": "completed"
    },
    "tags": []
   },
   "source": [
    "## Hypo Hits"
   ]
  },
  {
   "cell_type": "code",
   "execution_count": 4,
   "metadata": {
    "ExecuteTime": {
     "end_time": "2020-01-26T04:08:08.205018Z",
     "start_time": "2020-01-26T04:07:53.264052Z"
    },
    "papermill": {
     "duration": 15.010803,
     "end_time": "2020-01-27T04:12:18.526518",
     "exception": false,
     "start_time": "2020-01-27T04:12:03.515715",
     "status": "completed"
    },
    "tags": []
   },
   "outputs": [],
   "source": [
    "hypo_hits_adata = anndata.read_h5ad(hypo_dmr_hits_path)\n",
    "related_dmr = (hypo_hits_adata[:, use_clusters].X.sum(axis=1) > 0).A1\n",
    "use_dmr = hypo_hits_adata.obs_names[related_dmr]"
   ]
  },
  {
   "cell_type": "code",
   "execution_count": 5,
   "metadata": {
    "ExecuteTime": {
     "end_time": "2020-01-26T04:08:13.831484Z",
     "start_time": "2020-01-26T04:08:08.207941Z"
    },
    "papermill": {
     "duration": 3.422513,
     "end_time": "2020-01-27T04:12:21.957071",
     "exception": false,
     "start_time": "2020-01-27T04:12:18.534558",
     "status": "completed"
    },
    "tags": []
   },
   "outputs": [],
   "source": [
    "use_hits = hypo_hits_adata[use_dmr][:, use_clusters]\n",
    "use_hits.write_h5ad('RelatedClusterAndDMR.hypo_hits.h5ad')"
   ]
  },
  {
   "cell_type": "code",
   "execution_count": 6,
   "metadata": {
    "ExecuteTime": {
     "end_time": "2020-01-26T04:08:13.840039Z",
     "start_time": "2020-01-26T04:08:13.834027Z"
    },
    "papermill": {
     "duration": 0.015259,
     "end_time": "2020-01-27T04:12:21.980775",
     "exception": false,
     "start_time": "2020-01-27T04:12:21.965516",
     "status": "completed"
    },
    "tags": []
   },
   "outputs": [
    {
     "data": {
      "text/plain": [
       "AnnData object with n_obs × n_vars = 1401455 × 32 \n",
       "    obs: '#chr', 'start', 'end', 'number_of_dms'"
      ]
     },
     "execution_count": 6,
     "metadata": {},
     "output_type": "execute_result"
    }
   ],
   "source": [
    "use_hits"
   ]
  },
  {
   "cell_type": "markdown",
   "metadata": {
    "papermill": {
     "duration": 0.007361,
     "end_time": "2020-01-27T04:12:21.995623",
     "exception": false,
     "start_time": "2020-01-27T04:12:21.988262",
     "status": "completed"
    },
    "tags": []
   },
   "source": [
    "## DMR Rate"
   ]
  },
  {
   "cell_type": "code",
   "execution_count": 7,
   "metadata": {
    "ExecuteTime": {
     "end_time": "2020-01-26T04:08:23.431707Z",
     "start_time": "2020-01-26T04:08:13.841505Z"
    },
    "papermill": {
     "duration": 10.472635,
     "end_time": "2020-01-27T04:12:32.475596",
     "exception": false,
     "start_time": "2020-01-27T04:12:22.002961",
     "status": "completed"
    },
    "tags": []
   },
   "outputs": [],
   "source": [
    "with pd.HDFStore('/home/hanliu/project/mouse_rostral_brain/DMR/SubType/Total/DMRInfo.h5') as hdf:\n",
    "    dmr_rate = hdf['Rate']\n",
    "dmr_rate.index = hypo_hits_adata.obs_names\n",
    "use_rate = dmr_rate.loc[use_dmr, use_clusters]"
   ]
  },
  {
   "cell_type": "code",
   "execution_count": 8,
   "metadata": {
    "ExecuteTime": {
     "end_time": "2020-01-26T04:08:24.896237Z",
     "start_time": "2020-01-26T04:08:23.433706Z"
    },
    "papermill": {
     "duration": 2.634601,
     "end_time": "2020-01-27T04:12:35.118557",
     "exception": false,
     "start_time": "2020-01-27T04:12:32.483956",
     "status": "completed"
    },
    "tags": []
   },
   "outputs": [
    {
     "name": "stderr",
     "output_type": "stream",
     "text": [
      "/home/hanliu/miniconda3/envs/clustering/lib/python3.7/site-packages/ipykernel_launcher.py:1: FutureWarning: to_msgpack is deprecated and will be removed in a future version.\n",
      "It is recommended to use pyarrow for on-the-wire transmission of pandas objects.\n",
      "  \"\"\"Entry point for launching an IPython kernel.\n"
     ]
    }
   ],
   "source": [
    "use_rate.to_msgpack('RelatedClusterAndDMR.mcg_rate.msg')"
   ]
  },
  {
   "cell_type": "code",
   "execution_count": 9,
   "metadata": {
    "ExecuteTime": {
     "end_time": "2020-01-26T04:08:25.416561Z",
     "start_time": "2020-01-26T04:08:24.897540Z"
    },
    "papermill": {
     "duration": 0.456727,
     "end_time": "2020-01-27T04:12:35.584081",
     "exception": false,
     "start_time": "2020-01-27T04:12:35.127354",
     "status": "completed"
    },
    "tags": []
   },
   "outputs": [],
   "source": [
    "with open('related_dmrs.txt', 'w') as f:\n",
    "    for dmr in use_dmr:\n",
    "        f.write(dmr + '\\n')"
   ]
  },
  {
   "cell_type": "code",
   "execution_count": null,
   "metadata": {
    "papermill": {
     "duration": 0.007745,
     "end_time": "2020-01-27T04:12:35.600252",
     "exception": false,
     "start_time": "2020-01-27T04:12:35.592507",
     "status": "completed"
    },
    "tags": []
   },
   "outputs": [],
   "source": []
  },
  {
   "cell_type": "code",
   "execution_count": null,
   "metadata": {
    "papermill": {
     "duration": 0.007761,
     "end_time": "2020-01-27T04:12:35.615822",
     "exception": false,
     "start_time": "2020-01-27T04:12:35.608061",
     "status": "completed"
    },
    "tags": []
   },
   "outputs": [],
   "source": []
  },
  {
   "cell_type": "code",
   "execution_count": null,
   "metadata": {
    "papermill": {
     "duration": 0.007424,
     "end_time": "2020-01-27T04:12:35.630822",
     "exception": false,
     "start_time": "2020-01-27T04:12:35.623398",
     "status": "completed"
    },
    "tags": []
   },
   "outputs": [],
   "source": []
  },
  {
   "cell_type": "code",
   "execution_count": null,
   "metadata": {
    "papermill": {
     "duration": 0.007519,
     "end_time": "2020-01-27T04:12:35.645966",
     "exception": false,
     "start_time": "2020-01-27T04:12:35.638447",
     "status": "completed"
    },
    "tags": []
   },
   "outputs": [],
   "source": []
  },
  {
   "cell_type": "code",
   "execution_count": null,
   "metadata": {
    "papermill": {
     "duration": 0.007444,
     "end_time": "2020-01-27T04:12:35.660910",
     "exception": false,
     "start_time": "2020-01-27T04:12:35.653466",
     "status": "completed"
    },
    "tags": []
   },
   "outputs": [],
   "source": []
  },
  {
   "cell_type": "code",
   "execution_count": null,
   "metadata": {
    "papermill": {
     "duration": 0.007387,
     "end_time": "2020-01-27T04:12:35.675778",
     "exception": false,
     "start_time": "2020-01-27T04:12:35.668391",
     "status": "completed"
    },
    "tags": []
   },
   "outputs": [],
   "source": []
  },
  {
   "cell_type": "code",
   "execution_count": null,
   "metadata": {
    "papermill": {
     "duration": 0.00746,
     "end_time": "2020-01-27T04:12:35.690878",
     "exception": false,
     "start_time": "2020-01-27T04:12:35.683418",
     "status": "completed"
    },
    "tags": []
   },
   "outputs": [],
   "source": []
  }
 ],
 "metadata": {
  "hide_input": false,
  "kernelspec": {
   "display_name": "Python 3",
   "language": "python",
   "name": "python3"
  },
  "language_info": {
   "codemirror_mode": {
    "name": "ipython",
    "version": 3
   },
   "file_extension": ".py",
   "mimetype": "text/x-python",
   "name": "python",
   "nbconvert_exporter": "python",
   "pygments_lexer": "ipython3",
   "version": "3.7.3"
  },
  "papermill": {
   "duration": 34.739699,
   "end_time": "2020-01-27T04:12:37.109205",
   "environment_variables": {},
   "exception": null,
   "input_path": "2.related_dmrs.ipynb",
   "output_path": "/home/hanliu/project/mouse_rostral_brain/study/ClustersEnsemble/InhMGECGESubtypeEnsemble/2.related_dmrs.ipynb",
   "parameters": {
    "hypo_dmr_hits_path": "/home/hanliu/project/mouse_rostral_brain/DMR/SubType/Total/TotalHits.HypoDMR.h5ad",
    "use_clusters": [
     "CGE-Lamp5_Dock5",
     "CGE-Lamp5_Grid1",
     "CGE-Lamp5_Grk5",
     "CGE-Lamp5_Nrxn3",
     "CGE-Lamp5_Sorcs1",
     "CGE-Vip_Ccser1",
     "CGE-Vip_Clstn2",
     "CGE-Vip_Fstl4",
     "CGE-Vip_Galnt17",
     "CGE-Vip_Grm8",
     "CGE-Vip_Ntng1",
     "CGE-Vip_Ptprm",
     "CGE-Vip_Robo1",
     "MGE-Pvalb_Cacna1i",
     "MGE-Pvalb_Cnih3",
     "MGE-Pvalb_Entpd3",
     "MGE-Pvalb_Gfra2",
     "MGE-Pvalb_Ptprk",
     "MGE-Pvalb_Sema5a",
     "MGE-Pvalb_Thsd7a",
     "MGE-Sst_Bmper",
     "MGE-Sst_Chodl",
     "MGE-Sst_Dock4",
     "MGE-Sst_Etv1",
     "MGE-Sst_Frmd6",
     "MGE-Sst_Kcnip4",
     "MGE-Sst_Ptpre",
     "MGE-Sst_Rerg",
     "MGE-Sst_Rxra",
     "MGE-Sst_Ubtd1",
     "MGE-Sst_Unc5b",
     "Unc5c_Unc5c"
    ]
   },
   "start_time": "2020-01-27T04:12:02.369506",
   "version": "1.0.1"
  },
  "toc": {
   "base_numbering": 1,
   "nav_menu": {},
   "number_sections": true,
   "sideBar": true,
   "skip_h1_title": true,
   "title_cell": "Table of Contents",
   "title_sidebar": "Contents",
   "toc_cell": false,
   "toc_position": {},
   "toc_section_display": true,
   "toc_window_display": true
  }
 },
 "nbformat": 4,
 "nbformat_minor": 2
}