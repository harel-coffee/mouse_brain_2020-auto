{
 "cells": [
  {
   "cell_type": "code",
   "execution_count": 1,
   "metadata": {
    "ExecuteTime": {
     "end_time": "2020-01-24T06:14:25.212596Z",
     "start_time": "2020-01-24T06:14:24.744262Z"
    }
   },
   "outputs": [],
   "source": [
    "import pandas as pd\n",
    "import pathlib\n",
    "from papermill import execute_notebook"
   ]
  },
  {
   "cell_type": "code",
   "execution_count": 2,
   "metadata": {
    "ExecuteTime": {
     "end_time": "2020-01-24T06:14:25.762052Z",
     "start_time": "2020-01-24T06:14:25.758798Z"
    }
   },
   "outputs": [],
   "source": [
    "cell_class = ['Inh']\n",
    "output_dir = '/home/hanliu/project/mouse_rostral_brain/study/ClustersEnsemble/InhSubtypeEnsemble'\n",
    "pathlib.Path(output_dir).mkdir(exist_ok=True)"
   ]
  },
  {
   "cell_type": "markdown",
   "metadata": {},
   "source": [
    "## Cell Meta"
   ]
  },
  {
   "cell_type": "code",
   "execution_count": 3,
   "metadata": {
    "ExecuteTime": {
     "end_time": "2020-01-24T06:14:27.598926Z",
     "start_time": "2020-01-24T06:14:27.234780Z"
    }
   },
   "outputs": [
    {
     "name": "stderr",
     "output_type": "stream",
     "text": [
      "/home/hanliu/miniconda3/envs/clustering/lib/python3.7/site-packages/IPython/core/interactiveshell.py:3326: FutureWarning: The read_msgpack is deprecated and will be removed in a future version.\n",
      "It is recommended to use pyarrow for on-the-wire transmission of pandas objects.\n",
      "  exec(code_obj, self.user_global_ns, self.user_ns)\n"
     ]
    },
    {
     "data": {
      "text/plain": [
       "array(['MGE-Sst', 'CA3', 'CA1', 'CA3-St18', 'Unc5c', 'Gfra1', 'ODC', 'PC',\n",
       "       'ANP', 'IT-L5', 'NP-L6', 'CGE-Lamp5', 'CT-L6', 'IG-CA2', 'DG-po',\n",
       "       'DG', 'CGE-Vip', 'OPC', 'ASC', 'MGC', 'PAL-Inh', 'PT-L5',\n",
       "       'MGE-Pvalb', 'VLMC', 'EC', 'VLMC-Pia', 'OLF', 'MSN-D2', 'L6b',\n",
       "       'IT-L6', 'IT-L23', 'IT-L4', 'OLF-Exc', 'CLA', 'Foxp2', 'MSN-D1',\n",
       "       'LSX-Inh', 'D1L-Fstl4', 'EP', 'D1L-PAL', 'Chd7'], dtype=object)"
      ]
     },
     "execution_count": 3,
     "metadata": {},
     "output_type": "execute_result"
    }
   ],
   "source": [
    "cell_tidy_data = pd.read_msgpack(\n",
    "    '/home/hanliu/project/mouse_rostral_brain/study/ClusteringSummary/Summary/TotalClusteringResults.msg'\n",
    ")\n",
    "cell_tidy_data['MajorType'].unique()"
   ]
  },
  {
   "cell_type": "markdown",
   "metadata": {},
   "source": [
    "## Select significant subtype of CP ACB"
   ]
  },
  {
   "cell_type": "code",
   "execution_count": 4,
   "metadata": {
    "ExecuteTime": {
     "end_time": "2020-01-24T06:14:34.266178Z",
     "start_time": "2020-01-24T06:14:34.235260Z"
    },
    "scrolled": true
   },
   "outputs": [
    {
     "data": {
      "text/plain": [
       "['CGE-Lamp5 Dock5',\n",
       " 'CGE-Lamp5 Grid1',\n",
       " 'CGE-Lamp5 Grk5',\n",
       " 'CGE-Lamp5 Nrxn3',\n",
       " 'CGE-Lamp5 Sorcs1',\n",
       " 'CGE-Vip Ccser1',\n",
       " 'CGE-Vip Clstn2',\n",
       " 'CGE-Vip Fstl4',\n",
       " 'CGE-Vip Galnt17',\n",
       " 'CGE-Vip Grm8',\n",
       " 'CGE-Vip Ntng1',\n",
       " 'CGE-Vip Ptprm',\n",
       " 'CGE-Vip Robo1',\n",
       " 'Chd7 Kcnc2',\n",
       " 'Chd7 Megf11',\n",
       " 'Chd7 Trpc7',\n",
       " 'D1L-Fstl4 Cadm1',\n",
       " 'D1L-Fstl4 Crim1',\n",
       " 'D1L-Fstl4 Grm3',\n",
       " 'D1L-Fstl4 Sipa1l2',\n",
       " 'D1L-Fstl4 Trps1',\n",
       " 'D1L-PAL Flrt2',\n",
       " 'D1L-PAL Plcxd3',\n",
       " 'Foxp2 Dchs2',\n",
       " 'Foxp2 Homer2',\n",
       " 'Foxp2 Inpp4b',\n",
       " 'Foxp2 Trpc7',\n",
       " 'LSX-Inh Cacna1i',\n",
       " 'LSX-Inh Dock10',\n",
       " 'LSX-Inh Enox1',\n",
       " 'LSX-Inh Foxp2',\n",
       " 'LSX-Inh Lats2',\n",
       " 'LSX-Inh Nxph1',\n",
       " 'LSX-Inh Zeb2',\n",
       " 'MGE-Pvalb Cacna1i',\n",
       " 'MGE-Pvalb Cnih3',\n",
       " 'MGE-Pvalb Entpd3',\n",
       " 'MGE-Pvalb Gfra2',\n",
       " 'MGE-Pvalb Ptprk',\n",
       " 'MGE-Pvalb Sema5a',\n",
       " 'MGE-Pvalb Thsd7a',\n",
       " 'MGE-Sst Bmper',\n",
       " 'MGE-Sst Chodl',\n",
       " 'MGE-Sst Dock4',\n",
       " 'MGE-Sst Etv1',\n",
       " 'MGE-Sst Frmd6',\n",
       " 'MGE-Sst Kcnip4',\n",
       " 'MGE-Sst Ptpre',\n",
       " 'MGE-Sst Rerg',\n",
       " 'MGE-Sst Rxra',\n",
       " 'MGE-Sst Ubtd1',\n",
       " 'MGE-Sst Unc5b',\n",
       " 'MSN-D1 Hrh1',\n",
       " 'MSN-D1 Khdrbs3',\n",
       " 'MSN-D1 Ntn1',\n",
       " 'MSN-D1 Plxnc1',\n",
       " 'MSN-D2 Casz1',\n",
       " 'MSN-D2 Col14a1',\n",
       " 'MSN-D2 Nrp2',\n",
       " 'MSN-D2 Slc24a2',\n",
       " 'OLF Gabbr2',\n",
       " 'OLF Kcnd3',\n",
       " 'OLF Mapk10',\n",
       " 'OLF Pag1',\n",
       " 'OLF Trpc4',\n",
       " 'OLF Xkr6',\n",
       " 'PAL-Inh Chat',\n",
       " 'PAL-Inh Deptor',\n",
       " 'PAL-Inh Igdcc3',\n",
       " 'PAL-Inh Meis1',\n",
       " 'PAL-Inh Meis2',\n",
       " 'PAL-Inh Onecut2',\n",
       " 'PAL-Inh Ptprd',\n",
       " 'PAL-Inh Rarb',\n",
       " 'PAL-Inh Tcf7l2',\n",
       " 'PAL-Inh Tmem178',\n",
       " 'Unc5c Unc5c']"
      ]
     },
     "execution_count": 4,
     "metadata": {},
     "output_type": "execute_result"
    }
   ],
   "source": [
    "use_clusters = sorted(cell_tidy_data[cell_tidy_data['CellClass'].isin(\n",
    "    cell_class)]['SubType'].unique())\n",
    "use_clusters = [i for i in use_clusters if 'Outlier' not in i]\n",
    "use_clusters"
   ]
  },
  {
   "cell_type": "markdown",
   "metadata": {},
   "source": [
    "## Step1 Select DMG"
   ]
  },
  {
   "cell_type": "code",
   "execution_count": 5,
   "metadata": {
    "ExecuteTime": {
     "end_time": "2020-01-24T06:14:56.297221Z",
     "start_time": "2020-01-24T06:14:34.565500Z"
    }
   },
   "outputs": [
    {
     "data": {
      "application/vnd.jupyter.widget-view+json": {
       "model_id": "b1807bf30bf34838916f969428527253",
       "version_major": 2,
       "version_minor": 0
      },
      "text/plain": [
       "HBox(children=(IntProgress(value=0, max=12), HTML(value='')))"
      ]
     },
     "metadata": {},
     "output_type": "display_data"
    },
    {
     "name": "stdout",
     "output_type": "stream",
     "text": [
      "\n"
     ]
    }
   ],
   "source": [
    "parameters = dict(auroc_cutoff=0.85, use_clusters=use_clusters)\n",
    "\n",
    "input_path = 'related_dmgs.ipynb'\n",
    "output_path = f'{output_dir}/related_dmgs.ipynb'\n",
    "\n",
    "execute_notebook(str(input_path),\n",
    "                 str(output_path),\n",
    "                 parameters=parameters,\n",
    "                 engine_name=None,\n",
    "                 prepare_only=False,\n",
    "                 kernel_name=None,\n",
    "                 progress_bar=True,\n",
    "                 log_output=False,\n",
    "                 start_timeout=60,\n",
    "                 report_mode=False,\n",
    "                 cwd=output_dir)\n",
    "pass"
   ]
  },
  {
   "cell_type": "markdown",
   "metadata": {},
   "source": [
    "## Step2 Select DMR"
   ]
  },
  {
   "cell_type": "code",
   "execution_count": 6,
   "metadata": {
    "ExecuteTime": {
     "end_time": "2020-01-24T06:15:44.254349Z",
     "start_time": "2020-01-24T06:14:56.298904Z"
    }
   },
   "outputs": [
    {
     "data": {
      "application/vnd.jupyter.widget-view+json": {
       "model_id": "2f87d7cf67c04efbbb8b48242c74ef20",
       "version_major": 2,
       "version_minor": 0
      },
      "text/plain": [
       "HBox(children=(IntProgress(value=0, max=19), HTML(value='')))"
      ]
     },
     "metadata": {},
     "output_type": "display_data"
    },
    {
     "name": "stdout",
     "output_type": "stream",
     "text": [
      "\n"
     ]
    }
   ],
   "source": [
    "parameters = dict(\n",
    "    use_clusters=[i.replace(' ', '_') for i in use_clusters],\n",
    "    hypo_dmr_hits_path=\n",
    "    '/home/hanliu/project/mouse_rostral_brain/DMR/SubType/Total/TotalHits.HypoDMR.h5ad'\n",
    ")\n",
    "\n",
    "input_path = 'related_dmrs.ipynb'\n",
    "output_path = f'{output_dir}/related_dmrs.ipynb'\n",
    "\n",
    "execute_notebook(str(input_path),\n",
    "                 str(output_path),\n",
    "                 parameters=parameters,\n",
    "                 engine_name=None,\n",
    "                 prepare_only=False,\n",
    "                 kernel_name=None,\n",
    "                 progress_bar=True,\n",
    "                 log_output=False,\n",
    "                 start_timeout=60,\n",
    "                 report_mode=False,\n",
    "                 cwd=output_dir)\n",
    "pass"
   ]
  },
  {
   "cell_type": "markdown",
   "metadata": {},
   "source": [
    "## Step3 Select corr"
   ]
  },
  {
   "cell_type": "code",
   "execution_count": 7,
   "metadata": {
    "ExecuteTime": {
     "end_time": "2020-01-24T06:15:54.873666Z",
     "start_time": "2020-01-24T06:15:44.256337Z"
    }
   },
   "outputs": [
    {
     "data": {
      "application/vnd.jupyter.widget-view+json": {
       "model_id": "6b0f29b56d7d406da1035d9cb288b817",
       "version_major": 2,
       "version_minor": 0
      },
      "text/plain": [
       "HBox(children=(IntProgress(value=0, max=15), HTML(value='')))"
      ]
     },
     "metadata": {},
     "output_type": "display_data"
    },
    {
     "name": "stdout",
     "output_type": "stream",
     "text": [
      "\n"
     ]
    }
   ],
   "source": [
    "parameters = dict(corr_cutoff=0.5, distance_cutoff=500000)\n",
    "\n",
    "input_path = 'related_corr.ipynb'\n",
    "output_path = f'{output_dir}/related_corr.ipynb'\n",
    "\n",
    "execute_notebook(str(input_path),\n",
    "                 str(output_path),\n",
    "                 parameters=parameters,\n",
    "                 engine_name=None,\n",
    "                 prepare_only=False,\n",
    "                 kernel_name=None,\n",
    "                 progress_bar=True,\n",
    "                 log_output=False,\n",
    "                 start_timeout=60,\n",
    "                 report_mode=False,\n",
    "                 cwd=output_dir)\n",
    "pass"
   ]
  },
  {
   "cell_type": "markdown",
   "metadata": {},
   "source": [
    "## Step4 intersect everything"
   ]
  },
  {
   "cell_type": "code",
   "execution_count": 8,
   "metadata": {
    "ExecuteTime": {
     "end_time": "2020-01-24T06:22:46.021146Z",
     "start_time": "2020-01-24T06:15:54.875358Z"
    }
   },
   "outputs": [
    {
     "data": {
      "application/vnd.jupyter.widget-view+json": {
       "model_id": "f72c89a2b7ee405886bfae1af56d516e",
       "version_major": 2,
       "version_minor": 0
      },
      "text/plain": [
       "HBox(children=(IntProgress(value=0, max=18), HTML(value='')))"
      ]
     },
     "metadata": {},
     "output_type": "display_data"
    },
    {
     "name": "stdout",
     "output_type": "stream",
     "text": [
      "\n"
     ]
    }
   ],
   "source": [
    "parameters = dict(delta_dmr_rate_cutoff = 0.3)\n",
    "\n",
    "input_path = 'intersect_everything.ipynb'\n",
    "output_path = f'{output_dir}/intersect_everything.ipynb'\n",
    "\n",
    "execute_notebook(str(input_path),\n",
    "                 str(output_path),\n",
    "                 parameters=parameters,\n",
    "                 engine_name=None,\n",
    "                 prepare_only=False,\n",
    "                 kernel_name=None,\n",
    "                 progress_bar=True,\n",
    "                 log_output=False,\n",
    "                 start_timeout=60,\n",
    "                 report_mode=False,\n",
    "                 cwd=output_dir)\n",
    "pass"
   ]
  },
  {
   "cell_type": "markdown",
   "metadata": {},
   "source": [
    "## Motif enrichment"
   ]
  },
  {
   "cell_type": "code",
   "execution_count": null,
   "metadata": {
    "ExecuteTime": {
     "end_time": "2020-01-24T03:02:51.026117Z",
     "start_time": "2020-01-24T03:02:32.836Z"
    }
   },
   "outputs": [],
   "source": [
    "motif_enrichment_dir = pathlib.Path(output_dir) / 'MotifEnrichment'\n",
    "motif_enrichment_dir.mkdir(exist_ok=True)"
   ]
  },
  {
   "cell_type": "code",
   "execution_count": null,
   "metadata": {
    "ExecuteTime": {
     "start_time": "2020-01-21T06:35:29.114Z"
    },
    "scrolled": true
   },
   "outputs": [
    {
     "name": "stdout",
     "output_type": "stream",
     "text": [
      "CA1_Ak5\n"
     ]
    },
    {
     "data": {
      "application/vnd.jupyter.widget-view+json": {
       "model_id": "0e4930a4f34b44199f121f344bb657f6",
       "version_major": 2,
       "version_minor": 0
      },
      "text/plain": [
       "HBox(children=(IntProgress(value=0, max=32), HTML(value='')))"
      ]
     },
     "metadata": {},
     "output_type": "display_data"
    },
    {
     "name": "stdout",
     "output_type": "stream",
     "text": [
      "\n",
      "CA1_Chrm3\n"
     ]
    },
    {
     "data": {
      "application/vnd.jupyter.widget-view+json": {
       "model_id": "371229a8e89b4be39df88f9efafb6b73",
       "version_major": 2,
       "version_minor": 0
      },
      "text/plain": [
       "HBox(children=(IntProgress(value=0, max=32), HTML(value='')))"
      ]
     },
     "metadata": {},
     "output_type": "display_data"
    },
    {
     "name": "stdout",
     "output_type": "stream",
     "text": [
      "\n",
      "CA1_Kif26a\n"
     ]
    },
    {
     "data": {
      "application/vnd.jupyter.widget-view+json": {
       "model_id": "250359dd678e4d109bced9af67b37dd5",
       "version_major": 2,
       "version_minor": 0
      },
      "text/plain": [
       "HBox(children=(IntProgress(value=0, max=32), HTML(value='')))"
      ]
     },
     "metadata": {},
     "output_type": "display_data"
    },
    {
     "name": "stdout",
     "output_type": "stream",
     "text": [
      "\n",
      "CA1_Lingo2\n"
     ]
    },
    {
     "data": {
      "application/vnd.jupyter.widget-view+json": {
       "model_id": "064c41006d6240458a5e95870b8356d0",
       "version_major": 2,
       "version_minor": 0
      },
      "text/plain": [
       "HBox(children=(IntProgress(value=0, max=32), HTML(value='')))"
      ]
     },
     "metadata": {},
     "output_type": "display_data"
    },
    {
     "name": "stdout",
     "output_type": "stream",
     "text": [
      "\n",
      "CA1_Ptprg\n"
     ]
    },
    {
     "data": {
      "application/vnd.jupyter.widget-view+json": {
       "model_id": "b5398ae97a7743ba9562954049fcd3a0",
       "version_major": 2,
       "version_minor": 0
      },
      "text/plain": [
       "HBox(children=(IntProgress(value=0, max=32), HTML(value='')))"
      ]
     },
     "metadata": {},
     "output_type": "display_data"
    },
    {
     "name": "stdout",
     "output_type": "stream",
     "text": [
      "\n",
      "CA3_Cadm2\n"
     ]
    },
    {
     "data": {
      "application/vnd.jupyter.widget-view+json": {
       "model_id": "dcf5f1f4490945bcae32150ad18e7a61",
       "version_major": 2,
       "version_minor": 0
      },
      "text/plain": [
       "HBox(children=(IntProgress(value=0, max=32), HTML(value='')))"
      ]
     },
     "metadata": {},
     "output_type": "display_data"
    },
    {
     "name": "stdout",
     "output_type": "stream",
     "text": [
      "\n",
      "CA3_Efnb2\n"
     ]
    },
    {
     "data": {
      "application/vnd.jupyter.widget-view+json": {
       "model_id": "7800c1b4c9d54476a74056e2d1feea81",
       "version_major": 2,
       "version_minor": 0
      },
      "text/plain": [
       "HBox(children=(IntProgress(value=0, max=32), HTML(value='')))"
      ]
     },
     "metadata": {},
     "output_type": "display_data"
    },
    {
     "name": "stdout",
     "output_type": "stream",
     "text": [
      "\n",
      "CA3-St18_Epha5\n"
     ]
    },
    {
     "data": {
      "application/vnd.jupyter.widget-view+json": {
       "model_id": "cbe95795246f4dc7a257613fbd0fdd25",
       "version_major": 2,
       "version_minor": 0
      },
      "text/plain": [
       "HBox(children=(IntProgress(value=0, max=32), HTML(value='')))"
      ]
     },
     "metadata": {},
     "output_type": "display_data"
    },
    {
     "name": "stdout",
     "output_type": "stream",
     "text": [
      "\n",
      "CA3-St18_Nuak1\n"
     ]
    },
    {
     "data": {
      "application/vnd.jupyter.widget-view+json": {
       "model_id": "2c39f398cb0b42fc804dbeff280f3e55",
       "version_major": 2,
       "version_minor": 0
      },
      "text/plain": [
       "HBox(children=(IntProgress(value=0, max=32), HTML(value='')))"
      ]
     },
     "metadata": {},
     "output_type": "display_data"
    }
   ],
   "source": [
    "_use_clusters = [i.replace(' ', '_') for i in use_clusters]\n",
    "for cluster in _use_clusters:\n",
    "    print(cluster)\n",
    "    parameters = dict(cluster=cluster,\n",
    "                      use_clusters=_use_clusters,\n",
    "                      or_cutoff=1.6,\n",
    "                      neg_lgp_cutoff=10,\n",
    "                      mask_quantile_to_max = 0.8)\n",
    "\n",
    "    input_path = 'MotifEnrichment.ipynb'\n",
    "    output_path = f'{motif_enrichment_dir}/MotifEnrichment.{cluster}.ipynb'\n",
    "\n",
    "    execute_notebook(str(input_path),\n",
    "                     str(output_path),\n",
    "                     parameters=parameters,\n",
    "                     engine_name=None,\n",
    "                     prepare_only=False,\n",
    "                     kernel_name=None,\n",
    "                     progress_bar=True,\n",
    "                     log_output=False,\n",
    "                     start_timeout=60,\n",
    "                     report_mode=False,\n",
    "                     cwd=str(motif_enrichment_dir))\n",
    "    "
   ]
  },
  {
   "cell_type": "markdown",
   "metadata": {},
   "source": [
    "### Aggregate motif enrichment"
   ]
  },
  {
   "cell_type": "code",
   "execution_count": null,
   "metadata": {},
   "outputs": [],
   "source": [
    "parameters = dict(\n",
    "    oddsratio_cutoff=1.8,\n",
    "    lgp_cutoff=10,\n",
    "    motif_enrichment_dir=str(motif_enrichment_dir),\n",
    "    tf_class_level='SubFamily',\n",
    ")\n",
    "\n",
    "input_path = 'aggregate_motif_enrichment.ipynb'\n",
    "output_path = f'{motif_enrichment_dir}/aggregate_motif_enrichment.ipynb'\n",
    "\n",
    "execute_notebook(str(input_path),\n",
    "                 str(output_path),\n",
    "                 parameters=parameters,\n",
    "                 engine_name=None,\n",
    "                 prepare_only=False,\n",
    "                 kernel_name=None,\n",
    "                 progress_bar=True,\n",
    "                 log_output=False,\n",
    "                 start_timeout=60,\n",
    "                 report_mode=False,\n",
    "                 cwd=str(motif_enrichment_dir))\n",
    "pass"
   ]
  },
  {
   "cell_type": "code",
   "execution_count": null,
   "metadata": {},
   "outputs": [],
   "source": []
  },
  {
   "cell_type": "code",
   "execution_count": null,
   "metadata": {},
   "outputs": [],
   "source": []
  },
  {
   "cell_type": "code",
   "execution_count": null,
   "metadata": {},
   "outputs": [],
   "source": []
  },
  {
   "cell_type": "code",
   "execution_count": null,
   "metadata": {},
   "outputs": [],
   "source": []
  },
  {
   "cell_type": "code",
   "execution_count": null,
   "metadata": {},
   "outputs": [],
   "source": []
  },
  {
   "cell_type": "code",
   "execution_count": null,
   "metadata": {},
   "outputs": [],
   "source": []
  },
  {
   "cell_type": "code",
   "execution_count": null,
   "metadata": {},
   "outputs": [],
   "source": []
  },
  {
   "cell_type": "code",
   "execution_count": null,
   "metadata": {},
   "outputs": [],
   "source": []
  },
  {
   "cell_type": "code",
   "execution_count": null,
   "metadata": {},
   "outputs": [],
   "source": []
  },
  {
   "cell_type": "code",
   "execution_count": null,
   "metadata": {},
   "outputs": [],
   "source": []
  },
  {
   "cell_type": "code",
   "execution_count": null,
   "metadata": {},
   "outputs": [],
   "source": []
  },
  {
   "cell_type": "code",
   "execution_count": null,
   "metadata": {},
   "outputs": [],
   "source": []
  },
  {
   "cell_type": "code",
   "execution_count": null,
   "metadata": {},
   "outputs": [],
   "source": []
  },
  {
   "cell_type": "code",
   "execution_count": null,
   "metadata": {},
   "outputs": [],
   "source": []
  },
  {
   "cell_type": "code",
   "execution_count": null,
   "metadata": {},
   "outputs": [],
   "source": []
  },
  {
   "cell_type": "code",
   "execution_count": null,
   "metadata": {},
   "outputs": [],
   "source": []
  },
  {
   "cell_type": "code",
   "execution_count": null,
   "metadata": {},
   "outputs": [],
   "source": []
  },
  {
   "cell_type": "code",
   "execution_count": null,
   "metadata": {},
   "outputs": [],
   "source": []
  },
  {
   "cell_type": "code",
   "execution_count": null,
   "metadata": {},
   "outputs": [],
   "source": []
  },
  {
   "cell_type": "code",
   "execution_count": null,
   "metadata": {},
   "outputs": [],
   "source": []
  },
  {
   "cell_type": "code",
   "execution_count": null,
   "metadata": {},
   "outputs": [],
   "source": []
  },
  {
   "cell_type": "code",
   "execution_count": null,
   "metadata": {},
   "outputs": [],
   "source": []
  }
 ],
 "metadata": {
  "hide_input": false,
  "kernelspec": {
   "display_name": "Python 3",
   "language": "python",
   "name": "python3"
  },
  "language_info": {
   "codemirror_mode": {
    "name": "ipython",
    "version": 3
   },
   "file_extension": ".py",
   "mimetype": "text/x-python",
   "name": "python",
   "nbconvert_exporter": "python",
   "pygments_lexer": "ipython3",
   "version": "3.7.3"
  },
  "toc": {
   "base_numbering": 1,
   "nav_menu": {},
   "number_sections": true,
   "sideBar": true,
   "skip_h1_title": true,
   "title_cell": "Table of Contents",
   "title_sidebar": "Contents",
   "toc_cell": false,
   "toc_position": {},
   "toc_section_display": true,
   "toc_window_display": true
  }
 },
 "nbformat": 4,
 "nbformat_minor": 2
}
