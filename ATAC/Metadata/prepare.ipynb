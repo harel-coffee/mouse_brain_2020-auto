{
 "cells": [
  {
   "cell_type": "code",
   "execution_count": 1,
   "metadata": {
    "ExecuteTime": {
     "end_time": "2019-11-30T03:56:05.986779Z",
     "start_time": "2019-11-30T03:56:05.773371Z"
    }
   },
   "outputs": [],
   "source": [
    "import pandas as pd\n",
    "import pathlib\n",
    "import numpy as np\n",
    "from cemba_data.atac.dump_fragment_bed import read_snap_gene"
   ]
  },
  {
   "cell_type": "code",
   "execution_count": 2,
   "metadata": {
    "ExecuteTime": {
     "end_time": "2019-11-30T03:56:06.193529Z",
     "start_time": "2019-11-30T03:56:05.998764Z"
    }
   },
   "outputs": [],
   "source": [
    "gene_meta = pd.read_csv('/home/hanliu/ref/mouse/gencode/vm16/gencode.vM16.annotation.gene.flat.tsv.gz',\n",
    "                        sep='\\t', index_col='gene_name')\n",
    "# this is no good......\n",
    "gene_meta = gene_meta[~gene_meta.index.duplicated()].copy()\n"
   ]
  },
  {
   "cell_type": "code",
   "execution_count": 3,
   "metadata": {
    "ExecuteTime": {
     "end_time": "2019-11-30T03:56:06.306727Z",
     "start_time": "2019-11-30T03:56:06.303124Z"
    }
   },
   "outputs": [],
   "source": [
    "snap_dir = pathlib.Path('/home/hanliu/rdx4/CEMBA_ATAC/snap/')\n",
    "snap_dict = {i.name.split('.')[0]: i for i in snap_dir.glob('*snap')}"
   ]
  },
  {
   "cell_type": "code",
   "execution_count": 4,
   "metadata": {
    "ExecuteTime": {
     "end_time": "2019-11-30T03:59:02.832600Z",
     "start_time": "2019-11-30T03:56:06.308103Z"
    },
    "deletable": false,
    "editable": false,
    "run_control": {
     "frozen": true
    }
   },
   "outputs": [
    {
     "name": "stderr",
     "output_type": "stream",
     "text": [
      "/home/hanliu/miniconda3/envs/clustering/lib/python3.7/site-packages/ipykernel_launcher.py:18: FutureWarning: to_msgpack is deprecated and will be removed in a future version.\n",
      "It is recommended to use pyarrow for on-the-wire transmission of pandas objects.\n"
     ]
    }
   ],
   "source": [
    "cell_tidy_data = pd.read_csv('./rs1atac.cellLabel.meta.txt.gz', sep='\\t')\n",
    "brain_region = pd.read_csv('/home/hanliu/project/mouse_rostral_brain/metadata/BrainRegion.txt', \n",
    "                           sep='\\t', index_col='DissectionRegion')\n",
    "cell_tidy_data.index = cell_tidy_data['sample'] + '-' + cell_tidy_data['barcode']\n",
    "\n",
    "cell_tidy_data['CellClass'] = cell_tidy_data['L1'].copy()\n",
    "cell_tidy_data['MajorType'] = cell_tidy_data['L2'].copy()\n",
    "cell_tidy_data['SubType'] = cell_tidy_data['cluster'].copy()\n",
    "\n",
    "cell_tidy_data['umap_0'] = cell_tidy_data['umap-1']\n",
    "cell_tidy_data['umap_1'] = cell_tidy_data['umap-2']\n",
    "cell_tidy_data['Region'] = cell_tidy_data['sample'].apply(lambda i: i.split('_')[1])\n",
    "brain_region_table = cell_tidy_data['Region'].apply(lambda i: brain_region.loc[i])\n",
    "brain_region_table.index = cell_tidy_data.index\n",
    "cell_tidy_data = pd.concat([cell_tidy_data, brain_region_table], axis=1)\n",
    "\n",
    "cell_tidy_data.to_csv('ATAC.cell_tidy_data.csv.gz')\n",
    "cell_tidy_data.to_msgpack('ATAC.cell_tidy_data.msg')"
   ]
  },
  {
   "cell_type": "code",
   "execution_count": 5,
   "metadata": {
    "ExecuteTime": {
     "end_time": "2019-11-30T04:00:13.590445Z",
     "start_time": "2019-11-30T04:00:10.965464Z"
    }
   },
   "outputs": [
    {
     "name": "stderr",
     "output_type": "stream",
     "text": [
      "/home/hanliu/miniconda3/envs/clustering/lib/python3.7/site-packages/IPython/core/interactiveshell.py:3326: FutureWarning: The read_msgpack is deprecated and will be removed in a future version.\n",
      "It is recommended to use pyarrow for on-the-wire transmission of pandas objects.\n",
      "  exec(code_obj, self.user_global_ns, self.user_ns)\n"
     ]
    }
   ],
   "source": [
    "cell_tidy_data = pd.read_msgpack('ATAC.cell_tidy_data.msg')"
   ]
  },
  {
   "cell_type": "code",
   "execution_count": 6,
   "metadata": {
    "ExecuteTime": {
     "end_time": "2019-11-30T04:00:17.395362Z",
     "start_time": "2019-11-30T04:00:17.356036Z"
    }
   },
   "outputs": [],
   "source": [
    "for sample in cell_tidy_data['sample'].unique():\n",
    "    if sample not in snap_dict:\n",
    "        print(sample)"
   ]
  },
  {
   "cell_type": "markdown",
   "metadata": {},
   "source": [
    "## Make adata"
   ]
  },
  {
   "cell_type": "code",
   "execution_count": 6,
   "metadata": {
    "scrolled": true
   },
   "outputs": [
    {
     "name": "stdout",
     "output_type": "stream",
     "text": [
      "CEMBA171206_3C 9207\n"
     ]
    },
    {
     "name": "stderr",
     "output_type": "stream",
     "text": [
      "/home/hanliu/miniconda3/envs/clustering/lib/python3.7/site-packages/h5py/_hl/dataset.py:313: H5pyDeprecationWarning: dataset.value has been deprecated. Use dataset[()] instead.\n",
      "  \"Use dataset[()] instead.\", H5pyDeprecationWarning)\n",
      "... storing 'sample' as categorical\n",
      "... storing 'cluster' as categorical\n",
      "... storing 'L1' as categorical\n",
      "... storing 'L2' as categorical\n",
      "... storing 'L3' as categorical\n",
      "... storing 'CellClass' as categorical\n",
      "... storing 'MajorType' as categorical\n",
      "... storing 'SubType' as categorical\n",
      "... storing 'chrom' as categorical\n",
      "... storing 'source' as categorical\n",
      "... storing 'feature' as categorical\n",
      "... storing 'score' as categorical\n",
      "... storing 'strand' as categorical\n",
      "... storing 'phase' as categorical\n",
      "... storing 'gene_type' as categorical\n",
      "... storing 'havana_gene' as categorical\n",
      "... storing 'tag' as categorical\n"
     ]
    },
    {
     "name": "stdout",
     "output_type": "stream",
     "text": [
      "CEMBA171207_3C 8961\n"
     ]
    },
    {
     "name": "stderr",
     "output_type": "stream",
     "text": [
      "... storing 'sample' as categorical\n",
      "... storing 'cluster' as categorical\n",
      "... storing 'L1' as categorical\n",
      "... storing 'L2' as categorical\n",
      "... storing 'L3' as categorical\n",
      "... storing 'CellClass' as categorical\n",
      "... storing 'MajorType' as categorical\n",
      "... storing 'SubType' as categorical\n",
      "... storing 'chrom' as categorical\n",
      "... storing 'source' as categorical\n",
      "... storing 'feature' as categorical\n",
      "... storing 'score' as categorical\n",
      "... storing 'strand' as categorical\n",
      "... storing 'phase' as categorical\n",
      "... storing 'gene_type' as categorical\n",
      "... storing 'havana_gene' as categorical\n",
      "... storing 'tag' as categorical\n"
     ]
    },
    {
     "name": "stdout",
     "output_type": "stream",
     "text": [
      "CEMBA171213_4B 9048\n"
     ]
    },
    {
     "name": "stderr",
     "output_type": "stream",
     "text": [
      "... storing 'sample' as categorical\n",
      "... storing 'cluster' as categorical\n",
      "... storing 'L1' as categorical\n",
      "... storing 'L2' as categorical\n",
      "... storing 'L3' as categorical\n",
      "... storing 'CellClass' as categorical\n",
      "... storing 'MajorType' as categorical\n",
      "... storing 'SubType' as categorical\n",
      "... storing 'chrom' as categorical\n",
      "... storing 'source' as categorical\n",
      "... storing 'feature' as categorical\n",
      "... storing 'score' as categorical\n",
      "... storing 'strand' as categorical\n",
      "... storing 'phase' as categorical\n",
      "... storing 'gene_type' as categorical\n",
      "... storing 'havana_gene' as categorical\n",
      "... storing 'tag' as categorical\n"
     ]
    },
    {
     "name": "stdout",
     "output_type": "stream",
     "text": [
      "CEMBA171214_4D 8223\n"
     ]
    },
    {
     "name": "stderr",
     "output_type": "stream",
     "text": [
      "... storing 'sample' as categorical\n",
      "... storing 'cluster' as categorical\n",
      "... storing 'L1' as categorical\n",
      "... storing 'L2' as categorical\n",
      "... storing 'L3' as categorical\n",
      "... storing 'CellClass' as categorical\n",
      "... storing 'MajorType' as categorical\n",
      "... storing 'SubType' as categorical\n",
      "... storing 'chrom' as categorical\n",
      "... storing 'source' as categorical\n",
      "... storing 'feature' as categorical\n",
      "... storing 'score' as categorical\n",
      "... storing 'strand' as categorical\n",
      "... storing 'phase' as categorical\n",
      "... storing 'gene_type' as categorical\n",
      "... storing 'havana_gene' as categorical\n",
      "... storing 'tag' as categorical\n"
     ]
    },
    {
     "name": "stdout",
     "output_type": "stream",
     "text": [
      "CEMBA171219_4D 8261\n"
     ]
    },
    {
     "name": "stderr",
     "output_type": "stream",
     "text": [
      "... storing 'sample' as categorical\n",
      "... storing 'cluster' as categorical\n",
      "... storing 'L1' as categorical\n",
      "... storing 'L2' as categorical\n",
      "... storing 'L3' as categorical\n",
      "... storing 'CellClass' as categorical\n",
      "... storing 'MajorType' as categorical\n",
      "... storing 'SubType' as categorical\n",
      "... storing 'chrom' as categorical\n",
      "... storing 'source' as categorical\n",
      "... storing 'feature' as categorical\n",
      "... storing 'score' as categorical\n",
      "... storing 'strand' as categorical\n",
      "... storing 'phase' as categorical\n",
      "... storing 'gene_type' as categorical\n",
      "... storing 'havana_gene' as categorical\n",
      "... storing 'tag' as categorical\n"
     ]
    },
    {
     "name": "stdout",
     "output_type": "stream",
     "text": [
      "CEMBA180104_4B 7221\n"
     ]
    },
    {
     "name": "stderr",
     "output_type": "stream",
     "text": [
      "... storing 'sample' as categorical\n",
      "... storing 'cluster' as categorical\n",
      "... storing 'L1' as categorical\n",
      "... storing 'L2' as categorical\n",
      "... storing 'L3' as categorical\n",
      "... storing 'CellClass' as categorical\n",
      "... storing 'MajorType' as categorical\n",
      "... storing 'SubType' as categorical\n",
      "... storing 'chrom' as categorical\n",
      "... storing 'source' as categorical\n",
      "... storing 'feature' as categorical\n",
      "... storing 'score' as categorical\n",
      "... storing 'strand' as categorical\n",
      "... storing 'phase' as categorical\n",
      "... storing 'gene_type' as categorical\n",
      "... storing 'havana_gene' as categorical\n",
      "... storing 'tag' as categorical\n"
     ]
    },
    {
     "name": "stdout",
     "output_type": "stream",
     "text": [
      "CEMBA180105_3F 7546\n"
     ]
    },
    {
     "name": "stderr",
     "output_type": "stream",
     "text": [
      "... storing 'sample' as categorical\n",
      "... storing 'cluster' as categorical\n",
      "... storing 'L1' as categorical\n",
      "... storing 'L2' as categorical\n",
      "... storing 'L3' as categorical\n",
      "... storing 'CellClass' as categorical\n",
      "... storing 'MajorType' as categorical\n",
      "... storing 'SubType' as categorical\n",
      "... storing 'chrom' as categorical\n",
      "... storing 'source' as categorical\n",
      "... storing 'feature' as categorical\n",
      "... storing 'score' as categorical\n",
      "... storing 'strand' as categorical\n",
      "... storing 'phase' as categorical\n",
      "... storing 'gene_type' as categorical\n",
      "... storing 'havana_gene' as categorical\n",
      "... storing 'tag' as categorical\n"
     ]
    },
    {
     "name": "stdout",
     "output_type": "stream",
     "text": [
      "CEMBA180109_3F 7068\n"
     ]
    },
    {
     "name": "stderr",
     "output_type": "stream",
     "text": [
      "... storing 'sample' as categorical\n",
      "... storing 'cluster' as categorical\n",
      "... storing 'L1' as categorical\n",
      "... storing 'L2' as categorical\n",
      "... storing 'L3' as categorical\n",
      "... storing 'CellClass' as categorical\n",
      "... storing 'MajorType' as categorical\n",
      "... storing 'SubType' as categorical\n",
      "... storing 'chrom' as categorical\n",
      "... storing 'source' as categorical\n",
      "... storing 'feature' as categorical\n",
      "... storing 'score' as categorical\n",
      "... storing 'strand' as categorical\n",
      "... storing 'phase' as categorical\n",
      "... storing 'gene_type' as categorical\n",
      "... storing 'havana_gene' as categorical\n",
      "... storing 'tag' as categorical\n"
     ]
    },
    {
     "name": "stdout",
     "output_type": "stream",
     "text": [
      "CEMBA180110_4E 7537\n"
     ]
    },
    {
     "name": "stderr",
     "output_type": "stream",
     "text": [
      "... storing 'sample' as categorical\n",
      "... storing 'cluster' as categorical\n",
      "... storing 'L1' as categorical\n",
      "... storing 'L2' as categorical\n",
      "... storing 'L3' as categorical\n",
      "... storing 'CellClass' as categorical\n",
      "... storing 'MajorType' as categorical\n",
      "... storing 'SubType' as categorical\n",
      "... storing 'chrom' as categorical\n",
      "... storing 'source' as categorical\n",
      "... storing 'feature' as categorical\n",
      "... storing 'score' as categorical\n",
      "... storing 'strand' as categorical\n",
      "... storing 'phase' as categorical\n",
      "... storing 'gene_type' as categorical\n",
      "... storing 'havana_gene' as categorical\n",
      "... storing 'tag' as categorical\n"
     ]
    },
    {
     "name": "stdout",
     "output_type": "stream",
     "text": [
      "CEMBA180111_4E 6791\n"
     ]
    },
    {
     "name": "stderr",
     "output_type": "stream",
     "text": [
      "... storing 'sample' as categorical\n",
      "... storing 'cluster' as categorical\n",
      "... storing 'L1' as categorical\n",
      "... storing 'L2' as categorical\n",
      "... storing 'L3' as categorical\n",
      "... storing 'CellClass' as categorical\n",
      "... storing 'MajorType' as categorical\n",
      "... storing 'SubType' as categorical\n",
      "... storing 'chrom' as categorical\n",
      "... storing 'source' as categorical\n",
      "... storing 'feature' as categorical\n",
      "... storing 'score' as categorical\n",
      "... storing 'strand' as categorical\n",
      "... storing 'phase' as categorical\n",
      "... storing 'gene_type' as categorical\n",
      "... storing 'havana_gene' as categorical\n",
      "... storing 'tag' as categorical\n"
     ]
    },
    {
     "name": "stdout",
     "output_type": "stream",
     "text": [
      "CEMBA180119_1B 5780\n"
     ]
    },
    {
     "name": "stderr",
     "output_type": "stream",
     "text": [
      "... storing 'sample' as categorical\n",
      "... storing 'cluster' as categorical\n",
      "... storing 'L1' as categorical\n",
      "... storing 'L2' as categorical\n",
      "... storing 'L3' as categorical\n",
      "... storing 'CellClass' as categorical\n",
      "... storing 'MajorType' as categorical\n",
      "... storing 'SubType' as categorical\n",
      "... storing 'chrom' as categorical\n",
      "... storing 'source' as categorical\n",
      "... storing 'feature' as categorical\n",
      "... storing 'score' as categorical\n",
      "... storing 'strand' as categorical\n",
      "... storing 'phase' as categorical\n",
      "... storing 'gene_type' as categorical\n",
      "... storing 'havana_gene' as categorical\n",
      "... storing 'tag' as categorical\n"
     ]
    },
    {
     "name": "stdout",
     "output_type": "stream",
     "text": [
      "CEMBA180123_2A 8037\n"
     ]
    },
    {
     "name": "stderr",
     "output_type": "stream",
     "text": [
      "... storing 'sample' as categorical\n",
      "... storing 'cluster' as categorical\n",
      "... storing 'L1' as categorical\n",
      "... storing 'L2' as categorical\n",
      "... storing 'L3' as categorical\n",
      "... storing 'CellClass' as categorical\n",
      "... storing 'MajorType' as categorical\n",
      "... storing 'SubType' as categorical\n",
      "... storing 'chrom' as categorical\n",
      "... storing 'source' as categorical\n",
      "... storing 'feature' as categorical\n",
      "... storing 'score' as categorical\n",
      "... storing 'strand' as categorical\n",
      "... storing 'phase' as categorical\n",
      "... storing 'gene_type' as categorical\n",
      "... storing 'havana_gene' as categorical\n",
      "... storing 'tag' as categorical\n"
     ]
    },
    {
     "name": "stdout",
     "output_type": "stream",
     "text": [
      "CEMBA180129_3A 8591\n"
     ]
    },
    {
     "name": "stderr",
     "output_type": "stream",
     "text": [
      "... storing 'sample' as categorical\n",
      "... storing 'cluster' as categorical\n",
      "... storing 'L1' as categorical\n",
      "... storing 'L2' as categorical\n",
      "... storing 'L3' as categorical\n",
      "... storing 'CellClass' as categorical\n",
      "... storing 'MajorType' as categorical\n",
      "... storing 'SubType' as categorical\n",
      "... storing 'chrom' as categorical\n",
      "... storing 'source' as categorical\n",
      "... storing 'feature' as categorical\n",
      "... storing 'score' as categorical\n",
      "... storing 'strand' as categorical\n",
      "... storing 'phase' as categorical\n",
      "... storing 'gene_type' as categorical\n",
      "... storing 'havana_gene' as categorical\n",
      "... storing 'tag' as categorical\n"
     ]
    },
    {
     "name": "stdout",
     "output_type": "stream",
     "text": [
      "CEMBA180130_3A 8755\n"
     ]
    },
    {
     "name": "stderr",
     "output_type": "stream",
     "text": [
      "... storing 'sample' as categorical\n",
      "... storing 'cluster' as categorical\n",
      "... storing 'L1' as categorical\n",
      "... storing 'L2' as categorical\n",
      "... storing 'L3' as categorical\n",
      "... storing 'CellClass' as categorical\n",
      "... storing 'MajorType' as categorical\n",
      "... storing 'SubType' as categorical\n",
      "... storing 'chrom' as categorical\n",
      "... storing 'source' as categorical\n",
      "... storing 'feature' as categorical\n",
      "... storing 'score' as categorical\n",
      "... storing 'strand' as categorical\n",
      "... storing 'phase' as categorical\n",
      "... storing 'gene_type' as categorical\n",
      "... storing 'havana_gene' as categorical\n",
      "... storing 'tag' as categorical\n"
     ]
    },
    {
     "name": "stdout",
     "output_type": "stream",
     "text": [
      "CEMBA180205_4A 6681\n"
     ]
    },
    {
     "name": "stderr",
     "output_type": "stream",
     "text": [
      "... storing 'sample' as categorical\n",
      "... storing 'cluster' as categorical\n",
      "... storing 'L1' as categorical\n",
      "... storing 'L2' as categorical\n",
      "... storing 'L3' as categorical\n",
      "... storing 'CellClass' as categorical\n",
      "... storing 'MajorType' as categorical\n",
      "... storing 'SubType' as categorical\n",
      "... storing 'chrom' as categorical\n",
      "... storing 'source' as categorical\n",
      "... storing 'feature' as categorical\n",
      "... storing 'score' as categorical\n",
      "... storing 'strand' as categorical\n",
      "... storing 'phase' as categorical\n",
      "... storing 'gene_type' as categorical\n",
      "... storing 'havana_gene' as categorical\n",
      "... storing 'tag' as categorical\n"
     ]
    },
    {
     "name": "stdout",
     "output_type": "stream",
     "text": [
      "CEMBA180206_4A 9781\n"
     ]
    },
    {
     "name": "stderr",
     "output_type": "stream",
     "text": [
      "... storing 'sample' as categorical\n",
      "... storing 'cluster' as categorical\n",
      "... storing 'L1' as categorical\n",
      "... storing 'L2' as categorical\n",
      "... storing 'L3' as categorical\n",
      "... storing 'CellClass' as categorical\n",
      "... storing 'MajorType' as categorical\n",
      "... storing 'SubType' as categorical\n",
      "... storing 'chrom' as categorical\n",
      "... storing 'source' as categorical\n",
      "... storing 'feature' as categorical\n",
      "... storing 'score' as categorical\n",
      "... storing 'strand' as categorical\n",
      "... storing 'phase' as categorical\n",
      "... storing 'gene_type' as categorical\n",
      "... storing 'havana_gene' as categorical\n",
      "... storing 'tag' as categorical\n"
     ]
    },
    {
     "name": "stdout",
     "output_type": "stream",
     "text": [
      "CEMBA180208_1C 7269\n"
     ]
    },
    {
     "name": "stderr",
     "output_type": "stream",
     "text": [
      "... storing 'sample' as categorical\n",
      "... storing 'cluster' as categorical\n",
      "... storing 'L1' as categorical\n",
      "... storing 'L2' as categorical\n",
      "... storing 'L3' as categorical\n",
      "... storing 'CellClass' as categorical\n",
      "... storing 'MajorType' as categorical\n",
      "... storing 'SubType' as categorical\n",
      "... storing 'chrom' as categorical\n",
      "... storing 'source' as categorical\n",
      "... storing 'feature' as categorical\n",
      "... storing 'score' as categorical\n",
      "... storing 'strand' as categorical\n",
      "... storing 'phase' as categorical\n",
      "... storing 'gene_type' as categorical\n",
      "... storing 'havana_gene' as categorical\n",
      "... storing 'tag' as categorical\n"
     ]
    },
    {
     "name": "stdout",
     "output_type": "stream",
     "text": [
      "CEMBA180212_1C 7748\n"
     ]
    },
    {
     "name": "stderr",
     "output_type": "stream",
     "text": [
      "... storing 'sample' as categorical\n",
      "... storing 'cluster' as categorical\n",
      "... storing 'L1' as categorical\n",
      "... storing 'L2' as categorical\n",
      "... storing 'L3' as categorical\n",
      "... storing 'CellClass' as categorical\n",
      "... storing 'MajorType' as categorical\n",
      "... storing 'SubType' as categorical\n",
      "... storing 'chrom' as categorical\n",
      "... storing 'source' as categorical\n",
      "... storing 'feature' as categorical\n",
      "... storing 'score' as categorical\n",
      "... storing 'strand' as categorical\n",
      "... storing 'phase' as categorical\n",
      "... storing 'gene_type' as categorical\n",
      "... storing 'havana_gene' as categorical\n",
      "... storing 'tag' as categorical\n"
     ]
    },
    {
     "name": "stdout",
     "output_type": "stream",
     "text": [
      "CEMBA180213_1B 7455\n"
     ]
    },
    {
     "name": "stderr",
     "output_type": "stream",
     "text": [
      "... storing 'sample' as categorical\n",
      "... storing 'cluster' as categorical\n",
      "... storing 'L1' as categorical\n",
      "... storing 'L2' as categorical\n",
      "... storing 'L3' as categorical\n",
      "... storing 'CellClass' as categorical\n",
      "... storing 'MajorType' as categorical\n",
      "... storing 'SubType' as categorical\n",
      "... storing 'chrom' as categorical\n",
      "... storing 'source' as categorical\n",
      "... storing 'feature' as categorical\n",
      "... storing 'score' as categorical\n",
      "... storing 'strand' as categorical\n",
      "... storing 'phase' as categorical\n",
      "... storing 'gene_type' as categorical\n",
      "... storing 'havana_gene' as categorical\n",
      "... storing 'tag' as categorical\n"
     ]
    },
    {
     "name": "stdout",
     "output_type": "stream",
     "text": [
      "CEMBA180222_2E 9180\n"
     ]
    },
    {
     "name": "stderr",
     "output_type": "stream",
     "text": [
      "... storing 'sample' as categorical\n",
      "... storing 'cluster' as categorical\n",
      "... storing 'L1' as categorical\n",
      "... storing 'L2' as categorical\n",
      "... storing 'L3' as categorical\n",
      "... storing 'CellClass' as categorical\n",
      "... storing 'MajorType' as categorical\n",
      "... storing 'SubType' as categorical\n",
      "... storing 'chrom' as categorical\n",
      "... storing 'source' as categorical\n",
      "... storing 'feature' as categorical\n",
      "... storing 'score' as categorical\n",
      "... storing 'strand' as categorical\n",
      "... storing 'phase' as categorical\n",
      "... storing 'gene_type' as categorical\n",
      "... storing 'havana_gene' as categorical\n",
      "... storing 'tag' as categorical\n"
     ]
    },
    {
     "name": "stdout",
     "output_type": "stream",
     "text": [
      "CEMBA180226_1A 10648\n"
     ]
    },
    {
     "name": "stderr",
     "output_type": "stream",
     "text": [
      "... storing 'sample' as categorical\n",
      "... storing 'cluster' as categorical\n",
      "... storing 'L1' as categorical\n",
      "... storing 'L2' as categorical\n",
      "... storing 'L3' as categorical\n",
      "... storing 'CellClass' as categorical\n",
      "... storing 'MajorType' as categorical\n",
      "... storing 'SubType' as categorical\n",
      "... storing 'chrom' as categorical\n",
      "... storing 'source' as categorical\n",
      "... storing 'feature' as categorical\n",
      "... storing 'score' as categorical\n",
      "... storing 'strand' as categorical\n",
      "... storing 'phase' as categorical\n",
      "... storing 'gene_type' as categorical\n",
      "... storing 'havana_gene' as categorical\n",
      "... storing 'tag' as categorical\n"
     ]
    },
    {
     "name": "stdout",
     "output_type": "stream",
     "text": [
      "CEMBA180227_1A 9672\n"
     ]
    },
    {
     "name": "stderr",
     "output_type": "stream",
     "text": [
      "... storing 'sample' as categorical\n",
      "... storing 'cluster' as categorical\n",
      "... storing 'L1' as categorical\n",
      "... storing 'L2' as categorical\n",
      "... storing 'L3' as categorical\n",
      "... storing 'CellClass' as categorical\n",
      "... storing 'MajorType' as categorical\n",
      "... storing 'SubType' as categorical\n",
      "... storing 'chrom' as categorical\n",
      "... storing 'source' as categorical\n",
      "... storing 'feature' as categorical\n",
      "... storing 'score' as categorical\n",
      "... storing 'strand' as categorical\n",
      "... storing 'phase' as categorical\n",
      "... storing 'gene_type' as categorical\n",
      "... storing 'havana_gene' as categorical\n",
      "... storing 'tag' as categorical\n"
     ]
    },
    {
     "name": "stdout",
     "output_type": "stream",
     "text": [
      "CEMBA180305_2B 9617\n"
     ]
    },
    {
     "name": "stderr",
     "output_type": "stream",
     "text": [
      "... storing 'sample' as categorical\n",
      "... storing 'cluster' as categorical\n",
      "... storing 'L1' as categorical\n",
      "... storing 'L2' as categorical\n",
      "... storing 'L3' as categorical\n",
      "... storing 'CellClass' as categorical\n",
      "... storing 'MajorType' as categorical\n",
      "... storing 'SubType' as categorical\n",
      "... storing 'chrom' as categorical\n",
      "... storing 'source' as categorical\n",
      "... storing 'feature' as categorical\n",
      "... storing 'score' as categorical\n",
      "... storing 'strand' as categorical\n",
      "... storing 'phase' as categorical\n",
      "... storing 'gene_type' as categorical\n",
      "... storing 'havana_gene' as categorical\n",
      "... storing 'tag' as categorical\n"
     ]
    },
    {
     "name": "stdout",
     "output_type": "stream",
     "text": [
      "CEMBA180306_2B 10429\n"
     ]
    },
    {
     "name": "stderr",
     "output_type": "stream",
     "text": [
      "... storing 'sample' as categorical\n",
      "... storing 'cluster' as categorical\n",
      "... storing 'L1' as categorical\n",
      "... storing 'L2' as categorical\n",
      "... storing 'L3' as categorical\n",
      "... storing 'CellClass' as categorical\n",
      "... storing 'MajorType' as categorical\n",
      "... storing 'SubType' as categorical\n",
      "... storing 'chrom' as categorical\n",
      "... storing 'source' as categorical\n",
      "... storing 'feature' as categorical\n",
      "... storing 'score' as categorical\n",
      "... storing 'strand' as categorical\n",
      "... storing 'phase' as categorical\n",
      "... storing 'gene_type' as categorical\n",
      "... storing 'havana_gene' as categorical\n",
      "... storing 'tag' as categorical\n"
     ]
    },
    {
     "name": "stdout",
     "output_type": "stream",
     "text": [
      "CEMBA180308_3B 10409\n"
     ]
    },
    {
     "name": "stderr",
     "output_type": "stream",
     "text": [
      "... storing 'sample' as categorical\n",
      "... storing 'cluster' as categorical\n",
      "... storing 'L1' as categorical\n",
      "... storing 'L2' as categorical\n",
      "... storing 'L3' as categorical\n",
      "... storing 'CellClass' as categorical\n",
      "... storing 'MajorType' as categorical\n",
      "... storing 'SubType' as categorical\n",
      "... storing 'chrom' as categorical\n",
      "... storing 'source' as categorical\n",
      "... storing 'feature' as categorical\n",
      "... storing 'score' as categorical\n",
      "... storing 'strand' as categorical\n",
      "... storing 'phase' as categorical\n",
      "... storing 'gene_type' as categorical\n",
      "... storing 'havana_gene' as categorical\n",
      "... storing 'tag' as categorical\n"
     ]
    },
    {
     "name": "stdout",
     "output_type": "stream",
     "text": [
      "CEMBA180312_3B 10304\n"
     ]
    },
    {
     "name": "stderr",
     "output_type": "stream",
     "text": [
      "... storing 'sample' as categorical\n",
      "... storing 'cluster' as categorical\n",
      "... storing 'L1' as categorical\n",
      "... storing 'L2' as categorical\n",
      "... storing 'L3' as categorical\n",
      "... storing 'CellClass' as categorical\n",
      "... storing 'MajorType' as categorical\n",
      "... storing 'SubType' as categorical\n",
      "... storing 'chrom' as categorical\n",
      "... storing 'source' as categorical\n",
      "... storing 'feature' as categorical\n",
      "... storing 'score' as categorical\n",
      "... storing 'strand' as categorical\n",
      "... storing 'phase' as categorical\n",
      "... storing 'gene_type' as categorical\n",
      "... storing 'havana_gene' as categorical\n",
      "... storing 'tag' as categorical\n"
     ]
    },
    {
     "name": "stdout",
     "output_type": "stream",
     "text": [
      "CEMBA180313_2D 9166\n"
     ]
    },
    {
     "name": "stderr",
     "output_type": "stream",
     "text": [
      "... storing 'sample' as categorical\n",
      "... storing 'cluster' as categorical\n",
      "... storing 'L1' as categorical\n",
      "... storing 'L2' as categorical\n",
      "... storing 'L3' as categorical\n",
      "... storing 'CellClass' as categorical\n",
      "... storing 'MajorType' as categorical\n",
      "... storing 'SubType' as categorical\n",
      "... storing 'chrom' as categorical\n",
      "... storing 'source' as categorical\n",
      "... storing 'feature' as categorical\n",
      "... storing 'score' as categorical\n",
      "... storing 'strand' as categorical\n",
      "... storing 'phase' as categorical\n",
      "... storing 'gene_type' as categorical\n",
      "... storing 'havana_gene' as categorical\n",
      "... storing 'tag' as categorical\n"
     ]
    },
    {
     "name": "stdout",
     "output_type": "stream",
     "text": [
      "CEMBA180319_2D 8490\n"
     ]
    },
    {
     "name": "stderr",
     "output_type": "stream",
     "text": [
      "... storing 'sample' as categorical\n",
      "... storing 'cluster' as categorical\n",
      "... storing 'L1' as categorical\n",
      "... storing 'L2' as categorical\n",
      "... storing 'L3' as categorical\n",
      "... storing 'CellClass' as categorical\n",
      "... storing 'MajorType' as categorical\n",
      "... storing 'SubType' as categorical\n",
      "... storing 'chrom' as categorical\n",
      "... storing 'source' as categorical\n",
      "... storing 'feature' as categorical\n",
      "... storing 'score' as categorical\n",
      "... storing 'strand' as categorical\n",
      "... storing 'phase' as categorical\n",
      "... storing 'gene_type' as categorical\n",
      "... storing 'havana_gene' as categorical\n",
      "... storing 'tag' as categorical\n"
     ]
    },
    {
     "name": "stdout",
     "output_type": "stream",
     "text": [
      "CEMBA180320_3E 9360\n"
     ]
    },
    {
     "name": "stderr",
     "output_type": "stream",
     "text": [
      "... storing 'sample' as categorical\n",
      "... storing 'cluster' as categorical\n",
      "... storing 'L1' as categorical\n",
      "... storing 'L2' as categorical\n",
      "... storing 'L3' as categorical\n",
      "... storing 'CellClass' as categorical\n",
      "... storing 'MajorType' as categorical\n",
      "... storing 'SubType' as categorical\n",
      "... storing 'chrom' as categorical\n",
      "... storing 'source' as categorical\n",
      "... storing 'feature' as categorical\n",
      "... storing 'score' as categorical\n",
      "... storing 'strand' as categorical\n",
      "... storing 'phase' as categorical\n",
      "... storing 'gene_type' as categorical\n",
      "... storing 'havana_gene' as categorical\n",
      "... storing 'tag' as categorical\n"
     ]
    },
    {
     "name": "stdout",
     "output_type": "stream",
     "text": [
      "CEMBA180326_3E 9753\n"
     ]
    },
    {
     "name": "stderr",
     "output_type": "stream",
     "text": [
      "... storing 'sample' as categorical\n",
      "... storing 'cluster' as categorical\n",
      "... storing 'L1' as categorical\n",
      "... storing 'L2' as categorical\n",
      "... storing 'L3' as categorical\n",
      "... storing 'CellClass' as categorical\n",
      "... storing 'MajorType' as categorical\n",
      "... storing 'SubType' as categorical\n",
      "... storing 'chrom' as categorical\n",
      "... storing 'source' as categorical\n",
      "... storing 'feature' as categorical\n",
      "... storing 'score' as categorical\n",
      "... storing 'strand' as categorical\n",
      "... storing 'phase' as categorical\n",
      "... storing 'gene_type' as categorical\n",
      "... storing 'havana_gene' as categorical\n",
      "... storing 'tag' as categorical\n"
     ]
    },
    {
     "name": "stdout",
     "output_type": "stream",
     "text": [
      "CEMBA180329_4F 10298\n"
     ]
    },
    {
     "name": "stderr",
     "output_type": "stream",
     "text": [
      "... storing 'sample' as categorical\n",
      "... storing 'cluster' as categorical\n",
      "... storing 'L1' as categorical\n",
      "... storing 'L2' as categorical\n",
      "... storing 'L3' as categorical\n",
      "... storing 'CellClass' as categorical\n",
      "... storing 'MajorType' as categorical\n",
      "... storing 'SubType' as categorical\n",
      "... storing 'chrom' as categorical\n",
      "... storing 'source' as categorical\n",
      "... storing 'feature' as categorical\n",
      "... storing 'score' as categorical\n",
      "... storing 'strand' as categorical\n",
      "... storing 'phase' as categorical\n",
      "... storing 'gene_type' as categorical\n",
      "... storing 'havana_gene' as categorical\n",
      "... storing 'tag' as categorical\n"
     ]
    },
    {
     "name": "stdout",
     "output_type": "stream",
     "text": [
      "CEMBA180402_4F 10673\n"
     ]
    },
    {
     "name": "stderr",
     "output_type": "stream",
     "text": [
      "... storing 'sample' as categorical\n",
      "... storing 'cluster' as categorical\n",
      "... storing 'L1' as categorical\n",
      "... storing 'L2' as categorical\n",
      "... storing 'L3' as categorical\n",
      "... storing 'CellClass' as categorical\n",
      "... storing 'MajorType' as categorical\n",
      "... storing 'SubType' as categorical\n",
      "... storing 'chrom' as categorical\n",
      "... storing 'source' as categorical\n",
      "... storing 'feature' as categorical\n",
      "... storing 'score' as categorical\n",
      "... storing 'strand' as categorical\n",
      "... storing 'phase' as categorical\n",
      "... storing 'gene_type' as categorical\n",
      "... storing 'havana_gene' as categorical\n",
      "... storing 'tag' as categorical\n"
     ]
    },
    {
     "name": "stdout",
     "output_type": "stream",
     "text": [
      "CEMBA180409_2C 9928\n"
     ]
    },
    {
     "name": "stderr",
     "output_type": "stream",
     "text": [
      "... storing 'sample' as categorical\n",
      "... storing 'cluster' as categorical\n",
      "... storing 'L1' as categorical\n",
      "... storing 'L2' as categorical\n",
      "... storing 'L3' as categorical\n",
      "... storing 'CellClass' as categorical\n",
      "... storing 'MajorType' as categorical\n",
      "... storing 'SubType' as categorical\n",
      "... storing 'chrom' as categorical\n",
      "... storing 'source' as categorical\n",
      "... storing 'feature' as categorical\n",
      "... storing 'score' as categorical\n",
      "... storing 'strand' as categorical\n",
      "... storing 'phase' as categorical\n",
      "... storing 'gene_type' as categorical\n",
      "... storing 'havana_gene' as categorical\n",
      "... storing 'tag' as categorical\n"
     ]
    },
    {
     "name": "stdout",
     "output_type": "stream",
     "text": [
      "CEMBA180410_2C 11692\n"
     ]
    },
    {
     "name": "stderr",
     "output_type": "stream",
     "text": [
      "... storing 'sample' as categorical\n",
      "... storing 'cluster' as categorical\n",
      "... storing 'L1' as categorical\n",
      "... storing 'L2' as categorical\n",
      "... storing 'L3' as categorical\n",
      "... storing 'CellClass' as categorical\n",
      "... storing 'MajorType' as categorical\n",
      "... storing 'SubType' as categorical\n",
      "... storing 'chrom' as categorical\n",
      "... storing 'source' as categorical\n",
      "... storing 'feature' as categorical\n",
      "... storing 'score' as categorical\n",
      "... storing 'strand' as categorical\n",
      "... storing 'phase' as categorical\n",
      "... storing 'gene_type' as categorical\n",
      "... storing 'havana_gene' as categorical\n",
      "... storing 'tag' as categorical\n"
     ]
    },
    {
     "name": "stdout",
     "output_type": "stream",
     "text": [
      "CEMBA180412_3D 11807\n"
     ]
    },
    {
     "name": "stderr",
     "output_type": "stream",
     "text": [
      "... storing 'sample' as categorical\n",
      "... storing 'cluster' as categorical\n",
      "... storing 'L1' as categorical\n",
      "... storing 'L2' as categorical\n",
      "... storing 'L3' as categorical\n",
      "... storing 'CellClass' as categorical\n",
      "... storing 'MajorType' as categorical\n",
      "... storing 'SubType' as categorical\n",
      "... storing 'chrom' as categorical\n",
      "... storing 'source' as categorical\n",
      "... storing 'feature' as categorical\n",
      "... storing 'score' as categorical\n",
      "... storing 'strand' as categorical\n",
      "... storing 'phase' as categorical\n",
      "... storing 'gene_type' as categorical\n",
      "... storing 'havana_gene' as categorical\n",
      "... storing 'tag' as categorical\n"
     ]
    },
    {
     "name": "stdout",
     "output_type": "stream",
     "text": [
      "CEMBA180416_3D 12063\n"
     ]
    },
    {
     "name": "stderr",
     "output_type": "stream",
     "text": [
      "... storing 'sample' as categorical\n",
      "... storing 'cluster' as categorical\n",
      "... storing 'L1' as categorical\n",
      "... storing 'L2' as categorical\n",
      "... storing 'L3' as categorical\n",
      "... storing 'CellClass' as categorical\n",
      "... storing 'MajorType' as categorical\n",
      "... storing 'SubType' as categorical\n",
      "... storing 'chrom' as categorical\n",
      "... storing 'source' as categorical\n",
      "... storing 'feature' as categorical\n",
      "... storing 'score' as categorical\n",
      "... storing 'strand' as categorical\n",
      "... storing 'phase' as categorical\n",
      "... storing 'gene_type' as categorical\n",
      "... storing 'havana_gene' as categorical\n",
      "... storing 'tag' as categorical\n"
     ]
    },
    {
     "name": "stdout",
     "output_type": "stream",
     "text": [
      "CEMBA180417_4C 10118\n"
     ]
    },
    {
     "name": "stderr",
     "output_type": "stream",
     "text": [
      "... storing 'sample' as categorical\n",
      "... storing 'cluster' as categorical\n",
      "... storing 'L1' as categorical\n",
      "... storing 'L2' as categorical\n",
      "... storing 'L3' as categorical\n",
      "... storing 'CellClass' as categorical\n",
      "... storing 'MajorType' as categorical\n",
      "... storing 'SubType' as categorical\n",
      "... storing 'chrom' as categorical\n",
      "... storing 'source' as categorical\n",
      "... storing 'feature' as categorical\n",
      "... storing 'score' as categorical\n",
      "... storing 'strand' as categorical\n",
      "... storing 'phase' as categorical\n",
      "... storing 'gene_type' as categorical\n",
      "... storing 'havana_gene' as categorical\n",
      "... storing 'tag' as categorical\n"
     ]
    },
    {
     "name": "stdout",
     "output_type": "stream",
     "text": [
      "CEMBA180419_4C 11260\n"
     ]
    },
    {
     "name": "stderr",
     "output_type": "stream",
     "text": [
      "... storing 'sample' as categorical\n",
      "... storing 'cluster' as categorical\n",
      "... storing 'L1' as categorical\n",
      "... storing 'L2' as categorical\n",
      "... storing 'L3' as categorical\n",
      "... storing 'CellClass' as categorical\n",
      "... storing 'MajorType' as categorical\n",
      "... storing 'SubType' as categorical\n",
      "... storing 'chrom' as categorical\n",
      "... storing 'source' as categorical\n",
      "... storing 'feature' as categorical\n",
      "... storing 'score' as categorical\n",
      "... storing 'strand' as categorical\n",
      "... storing 'phase' as categorical\n",
      "... storing 'gene_type' as categorical\n",
      "... storing 'havana_gene' as categorical\n",
      "... storing 'tag' as categorical\n"
     ]
    },
    {
     "name": "stdout",
     "output_type": "stream",
     "text": [
      "CEMBA180426_8B 10623\n"
     ]
    },
    {
     "name": "stderr",
     "output_type": "stream",
     "text": [
      "... storing 'sample' as categorical\n",
      "... storing 'cluster' as categorical\n",
      "... storing 'L1' as categorical\n",
      "... storing 'L2' as categorical\n",
      "... storing 'L3' as categorical\n",
      "... storing 'CellClass' as categorical\n",
      "... storing 'MajorType' as categorical\n",
      "... storing 'SubType' as categorical\n",
      "... storing 'chrom' as categorical\n",
      "... storing 'source' as categorical\n",
      "... storing 'feature' as categorical\n",
      "... storing 'score' as categorical\n",
      "... storing 'strand' as categorical\n",
      "... storing 'phase' as categorical\n",
      "... storing 'gene_type' as categorical\n",
      "... storing 'havana_gene' as categorical\n",
      "... storing 'tag' as categorical\n"
     ]
    },
    {
     "name": "stdout",
     "output_type": "stream",
     "text": [
      "CEMBA180430_8B 10178\n"
     ]
    },
    {
     "name": "stderr",
     "output_type": "stream",
     "text": [
      "... storing 'sample' as categorical\n",
      "... storing 'cluster' as categorical\n",
      "... storing 'L1' as categorical\n",
      "... storing 'L2' as categorical\n",
      "... storing 'L3' as categorical\n",
      "... storing 'CellClass' as categorical\n",
      "... storing 'MajorType' as categorical\n",
      "... storing 'SubType' as categorical\n",
      "... storing 'chrom' as categorical\n",
      "... storing 'source' as categorical\n",
      "... storing 'feature' as categorical\n",
      "... storing 'score' as categorical\n",
      "... storing 'strand' as categorical\n",
      "... storing 'phase' as categorical\n",
      "... storing 'gene_type' as categorical\n",
      "... storing 'havana_gene' as categorical\n",
      "... storing 'tag' as categorical\n"
     ]
    },
    {
     "name": "stdout",
     "output_type": "stream",
     "text": [
      "CEMBA180514_5B 10682\n"
     ]
    },
    {
     "name": "stderr",
     "output_type": "stream",
     "text": [
      "... storing 'sample' as categorical\n",
      "... storing 'cluster' as categorical\n",
      "... storing 'L1' as categorical\n",
      "... storing 'L2' as categorical\n",
      "... storing 'L3' as categorical\n",
      "... storing 'CellClass' as categorical\n",
      "... storing 'MajorType' as categorical\n",
      "... storing 'SubType' as categorical\n",
      "... storing 'chrom' as categorical\n",
      "... storing 'source' as categorical\n",
      "... storing 'feature' as categorical\n",
      "... storing 'score' as categorical\n",
      "... storing 'strand' as categorical\n",
      "... storing 'phase' as categorical\n",
      "... storing 'gene_type' as categorical\n",
      "... storing 'havana_gene' as categorical\n",
      "... storing 'tag' as categorical\n"
     ]
    },
    {
     "name": "stdout",
     "output_type": "stream",
     "text": [
      "CEMBA180529_5B 9864\n"
     ]
    },
    {
     "name": "stderr",
     "output_type": "stream",
     "text": [
      "... storing 'sample' as categorical\n",
      "... storing 'cluster' as categorical\n",
      "... storing 'L1' as categorical\n",
      "... storing 'L2' as categorical\n",
      "... storing 'L3' as categorical\n",
      "... storing 'CellClass' as categorical\n",
      "... storing 'MajorType' as categorical\n",
      "... storing 'SubType' as categorical\n",
      "... storing 'chrom' as categorical\n",
      "... storing 'source' as categorical\n",
      "... storing 'feature' as categorical\n",
      "... storing 'score' as categorical\n",
      "... storing 'strand' as categorical\n",
      "... storing 'phase' as categorical\n",
      "... storing 'gene_type' as categorical\n",
      "... storing 'havana_gene' as categorical\n",
      "... storing 'tag' as categorical\n"
     ]
    },
    {
     "name": "stdout",
     "output_type": "stream",
     "text": [
      "CEMBA180612_5D 11242\n"
     ]
    },
    {
     "name": "stderr",
     "output_type": "stream",
     "text": [
      "... storing 'sample' as categorical\n",
      "... storing 'cluster' as categorical\n",
      "... storing 'L1' as categorical\n",
      "... storing 'L2' as categorical\n",
      "... storing 'L3' as categorical\n",
      "... storing 'CellClass' as categorical\n",
      "... storing 'MajorType' as categorical\n",
      "... storing 'SubType' as categorical\n",
      "... storing 'chrom' as categorical\n",
      "... storing 'source' as categorical\n",
      "... storing 'feature' as categorical\n",
      "... storing 'score' as categorical\n",
      "... storing 'strand' as categorical\n",
      "... storing 'phase' as categorical\n",
      "... storing 'gene_type' as categorical\n",
      "... storing 'havana_gene' as categorical\n",
      "... storing 'tag' as categorical\n"
     ]
    },
    {
     "name": "stdout",
     "output_type": "stream",
     "text": [
      "CEMBA180618_5D 11032\n"
     ]
    },
    {
     "name": "stderr",
     "output_type": "stream",
     "text": [
      "... storing 'sample' as categorical\n",
      "... storing 'cluster' as categorical\n",
      "... storing 'L1' as categorical\n",
      "... storing 'L2' as categorical\n",
      "... storing 'L3' as categorical\n",
      "... storing 'CellClass' as categorical\n",
      "... storing 'MajorType' as categorical\n",
      "... storing 'SubType' as categorical\n",
      "... storing 'chrom' as categorical\n",
      "... storing 'source' as categorical\n",
      "... storing 'feature' as categorical\n",
      "... storing 'score' as categorical\n",
      "... storing 'strand' as categorical\n",
      "... storing 'phase' as categorical\n",
      "... storing 'gene_type' as categorical\n",
      "... storing 'havana_gene' as categorical\n",
      "... storing 'tag' as categorical\n"
     ]
    },
    {
     "name": "stdout",
     "output_type": "stream",
     "text": [
      "CEMBA180619_4G 11685\n"
     ]
    },
    {
     "name": "stderr",
     "output_type": "stream",
     "text": [
      "... storing 'sample' as categorical\n",
      "... storing 'cluster' as categorical\n",
      "... storing 'L1' as categorical\n",
      "... storing 'L2' as categorical\n",
      "... storing 'L3' as categorical\n",
      "... storing 'CellClass' as categorical\n",
      "... storing 'MajorType' as categorical\n",
      "... storing 'SubType' as categorical\n",
      "... storing 'chrom' as categorical\n",
      "... storing 'source' as categorical\n",
      "... storing 'feature' as categorical\n",
      "... storing 'score' as categorical\n",
      "... storing 'strand' as categorical\n",
      "... storing 'phase' as categorical\n",
      "... storing 'gene_type' as categorical\n",
      "... storing 'havana_gene' as categorical\n",
      "... storing 'tag' as categorical\n"
     ]
    },
    {
     "name": "stdout",
     "output_type": "stream",
     "text": [
      "CEMBA180723_4G 11385\n"
     ]
    },
    {
     "name": "stderr",
     "output_type": "stream",
     "text": [
      "... storing 'sample' as categorical\n",
      "... storing 'cluster' as categorical\n",
      "... storing 'L1' as categorical\n",
      "... storing 'L2' as categorical\n",
      "... storing 'L3' as categorical\n",
      "... storing 'CellClass' as categorical\n",
      "... storing 'MajorType' as categorical\n",
      "... storing 'SubType' as categorical\n",
      "... storing 'chrom' as categorical\n",
      "... storing 'source' as categorical\n",
      "... storing 'feature' as categorical\n",
      "... storing 'score' as categorical\n",
      "... storing 'strand' as categorical\n",
      "... storing 'phase' as categorical\n",
      "... storing 'gene_type' as categorical\n",
      "... storing 'havana_gene' as categorical\n",
      "... storing 'tag' as categorical\n"
     ]
    },
    {
     "name": "stdout",
     "output_type": "stream",
     "text": [
      "CEMBA180724_4H 9182\n"
     ]
    },
    {
     "name": "stderr",
     "output_type": "stream",
     "text": [
      "... storing 'sample' as categorical\n",
      "... storing 'cluster' as categorical\n",
      "... storing 'L1' as categorical\n",
      "... storing 'L2' as categorical\n",
      "... storing 'L3' as categorical\n",
      "... storing 'CellClass' as categorical\n",
      "... storing 'MajorType' as categorical\n",
      "... storing 'SubType' as categorical\n",
      "... storing 'chrom' as categorical\n",
      "... storing 'source' as categorical\n",
      "... storing 'feature' as categorical\n",
      "... storing 'score' as categorical\n",
      "... storing 'strand' as categorical\n",
      "... storing 'phase' as categorical\n",
      "... storing 'gene_type' as categorical\n",
      "... storing 'havana_gene' as categorical\n",
      "... storing 'tag' as categorical\n"
     ]
    },
    {
     "name": "stdout",
     "output_type": "stream",
     "text": [
      "CEMBA180730_4H 10030\n"
     ]
    },
    {
     "name": "stderr",
     "output_type": "stream",
     "text": [
      "... storing 'sample' as categorical\n",
      "... storing 'cluster' as categorical\n",
      "... storing 'L1' as categorical\n",
      "... storing 'L2' as categorical\n",
      "... storing 'L3' as categorical\n",
      "... storing 'CellClass' as categorical\n",
      "... storing 'MajorType' as categorical\n",
      "... storing 'SubType' as categorical\n",
      "... storing 'chrom' as categorical\n",
      "... storing 'source' as categorical\n",
      "... storing 'feature' as categorical\n",
      "... storing 'score' as categorical\n",
      "... storing 'strand' as categorical\n",
      "... storing 'phase' as categorical\n",
      "... storing 'gene_type' as categorical\n",
      "... storing 'havana_gene' as categorical\n",
      "... storing 'tag' as categorical\n"
     ]
    },
    {
     "name": "stdout",
     "output_type": "stream",
     "text": [
      "CEMBA180731_5A 6661\n"
     ]
    },
    {
     "name": "stderr",
     "output_type": "stream",
     "text": [
      "... storing 'sample' as categorical\n",
      "... storing 'cluster' as categorical\n",
      "... storing 'L1' as categorical\n",
      "... storing 'L2' as categorical\n",
      "... storing 'L3' as categorical\n",
      "... storing 'CellClass' as categorical\n",
      "... storing 'MajorType' as categorical\n",
      "... storing 'SubType' as categorical\n",
      "... storing 'chrom' as categorical\n",
      "... storing 'source' as categorical\n",
      "... storing 'feature' as categorical\n",
      "... storing 'score' as categorical\n",
      "... storing 'strand' as categorical\n",
      "... storing 'phase' as categorical\n",
      "... storing 'gene_type' as categorical\n",
      "... storing 'havana_gene' as categorical\n",
      "... storing 'tag' as categorical\n"
     ]
    },
    {
     "name": "stdout",
     "output_type": "stream",
     "text": [
      "CEMBA180807_5A 8756\n"
     ]
    },
    {
     "name": "stderr",
     "output_type": "stream",
     "text": [
      "... storing 'sample' as categorical\n",
      "... storing 'cluster' as categorical\n",
      "... storing 'L1' as categorical\n",
      "... storing 'L2' as categorical\n",
      "... storing 'L3' as categorical\n",
      "... storing 'CellClass' as categorical\n",
      "... storing 'MajorType' as categorical\n",
      "... storing 'SubType' as categorical\n",
      "... storing 'chrom' as categorical\n",
      "... storing 'source' as categorical\n",
      "... storing 'feature' as categorical\n",
      "... storing 'score' as categorical\n",
      "... storing 'strand' as categorical\n",
      "... storing 'phase' as categorical\n",
      "... storing 'gene_type' as categorical\n",
      "... storing 'havana_gene' as categorical\n",
      "... storing 'tag' as categorical\n"
     ]
    },
    {
     "name": "stdout",
     "output_type": "stream",
     "text": [
      "CEMBA180813_5E 8765\n"
     ]
    },
    {
     "name": "stderr",
     "output_type": "stream",
     "text": [
      "... storing 'sample' as categorical\n",
      "... storing 'cluster' as categorical\n",
      "... storing 'L1' as categorical\n",
      "... storing 'L2' as categorical\n",
      "... storing 'L3' as categorical\n",
      "... storing 'CellClass' as categorical\n",
      "... storing 'MajorType' as categorical\n",
      "... storing 'SubType' as categorical\n",
      "... storing 'chrom' as categorical\n",
      "... storing 'source' as categorical\n",
      "... storing 'feature' as categorical\n",
      "... storing 'score' as categorical\n",
      "... storing 'strand' as categorical\n",
      "... storing 'phase' as categorical\n",
      "... storing 'gene_type' as categorical\n",
      "... storing 'havana_gene' as categorical\n",
      "... storing 'tag' as categorical\n"
     ]
    },
    {
     "name": "stdout",
     "output_type": "stream",
     "text": [
      "CEMBA180820_5E 9599\n"
     ]
    },
    {
     "name": "stderr",
     "output_type": "stream",
     "text": [
      "... storing 'sample' as categorical\n",
      "... storing 'cluster' as categorical\n",
      "... storing 'L1' as categorical\n",
      "... storing 'L2' as categorical\n",
      "... storing 'L3' as categorical\n",
      "... storing 'CellClass' as categorical\n",
      "... storing 'MajorType' as categorical\n",
      "... storing 'SubType' as categorical\n",
      "... storing 'chrom' as categorical\n",
      "... storing 'source' as categorical\n",
      "... storing 'feature' as categorical\n",
      "... storing 'score' as categorical\n",
      "... storing 'strand' as categorical\n",
      "... storing 'phase' as categorical\n",
      "... storing 'gene_type' as categorical\n",
      "... storing 'havana_gene' as categorical\n",
      "... storing 'tag' as categorical\n"
     ]
    },
    {
     "name": "stdout",
     "output_type": "stream",
     "text": [
      "CEMBA180904_5J 10819\n"
     ]
    },
    {
     "name": "stderr",
     "output_type": "stream",
     "text": [
      "... storing 'sample' as categorical\n",
      "... storing 'cluster' as categorical\n",
      "... storing 'L1' as categorical\n",
      "... storing 'L2' as categorical\n",
      "... storing 'L3' as categorical\n",
      "... storing 'CellClass' as categorical\n",
      "... storing 'MajorType' as categorical\n",
      "... storing 'SubType' as categorical\n",
      "... storing 'chrom' as categorical\n",
      "... storing 'source' as categorical\n",
      "... storing 'feature' as categorical\n",
      "... storing 'score' as categorical\n",
      "... storing 'strand' as categorical\n",
      "... storing 'phase' as categorical\n",
      "... storing 'gene_type' as categorical\n",
      "... storing 'havana_gene' as categorical\n",
      "... storing 'tag' as categorical\n"
     ]
    },
    {
     "name": "stdout",
     "output_type": "stream",
     "text": [
      "CEMBA180910_5J 6549\n"
     ]
    },
    {
     "name": "stderr",
     "output_type": "stream",
     "text": [
      "... storing 'sample' as categorical\n",
      "... storing 'cluster' as categorical\n",
      "... storing 'L1' as categorical\n",
      "... storing 'L2' as categorical\n",
      "... storing 'L3' as categorical\n",
      "... storing 'CellClass' as categorical\n",
      "... storing 'MajorType' as categorical\n",
      "... storing 'SubType' as categorical\n",
      "... storing 'chrom' as categorical\n",
      "... storing 'source' as categorical\n",
      "... storing 'feature' as categorical\n",
      "... storing 'score' as categorical\n",
      "... storing 'strand' as categorical\n",
      "... storing 'phase' as categorical\n",
      "... storing 'gene_type' as categorical\n",
      "... storing 'havana_gene' as categorical\n",
      "... storing 'tag' as categorical\n"
     ]
    },
    {
     "name": "stdout",
     "output_type": "stream",
     "text": [
      "CEMBA181001_5C 11587\n"
     ]
    },
    {
     "name": "stderr",
     "output_type": "stream",
     "text": [
      "... storing 'sample' as categorical\n",
      "... storing 'cluster' as categorical\n",
      "... storing 'L1' as categorical\n",
      "... storing 'L2' as categorical\n",
      "... storing 'L3' as categorical\n",
      "... storing 'CellClass' as categorical\n",
      "... storing 'MajorType' as categorical\n",
      "... storing 'SubType' as categorical\n",
      "... storing 'chrom' as categorical\n",
      "... storing 'source' as categorical\n",
      "... storing 'feature' as categorical\n",
      "... storing 'score' as categorical\n",
      "... storing 'strand' as categorical\n",
      "... storing 'phase' as categorical\n",
      "... storing 'gene_type' as categorical\n",
      "... storing 'havana_gene' as categorical\n",
      "... storing 'tag' as categorical\n"
     ]
    },
    {
     "name": "stdout",
     "output_type": "stream",
     "text": [
      "CEMBA181002_5C 12822\n"
     ]
    },
    {
     "name": "stderr",
     "output_type": "stream",
     "text": [
      "... storing 'sample' as categorical\n",
      "... storing 'cluster' as categorical\n",
      "... storing 'L1' as categorical\n",
      "... storing 'L2' as categorical\n",
      "... storing 'L3' as categorical\n",
      "... storing 'CellClass' as categorical\n",
      "... storing 'MajorType' as categorical\n",
      "... storing 'SubType' as categorical\n",
      "... storing 'chrom' as categorical\n",
      "... storing 'source' as categorical\n",
      "... storing 'feature' as categorical\n",
      "... storing 'score' as categorical\n",
      "... storing 'strand' as categorical\n",
      "... storing 'phase' as categorical\n",
      "... storing 'gene_type' as categorical\n",
      "... storing 'havana_gene' as categorical\n",
      "... storing 'tag' as categorical\n"
     ]
    },
    {
     "name": "stdout",
     "output_type": "stream",
     "text": [
      "CEMBA181008_5G 12435\n"
     ]
    },
    {
     "name": "stderr",
     "output_type": "stream",
     "text": [
      "... storing 'sample' as categorical\n",
      "... storing 'cluster' as categorical\n",
      "... storing 'L1' as categorical\n",
      "... storing 'L2' as categorical\n",
      "... storing 'L3' as categorical\n",
      "... storing 'CellClass' as categorical\n",
      "... storing 'MajorType' as categorical\n",
      "... storing 'SubType' as categorical\n",
      "... storing 'chrom' as categorical\n",
      "... storing 'source' as categorical\n",
      "... storing 'feature' as categorical\n",
      "... storing 'score' as categorical\n",
      "... storing 'strand' as categorical\n",
      "... storing 'phase' as categorical\n",
      "... storing 'gene_type' as categorical\n",
      "... storing 'havana_gene' as categorical\n",
      "... storing 'tag' as categorical\n"
     ]
    },
    {
     "name": "stdout",
     "output_type": "stream",
     "text": [
      "CEMBA181009_5G 12632\n"
     ]
    },
    {
     "name": "stderr",
     "output_type": "stream",
     "text": [
      "... storing 'sample' as categorical\n",
      "... storing 'cluster' as categorical\n",
      "... storing 'L1' as categorical\n",
      "... storing 'L2' as categorical\n",
      "... storing 'L3' as categorical\n",
      "... storing 'CellClass' as categorical\n",
      "... storing 'MajorType' as categorical\n",
      "... storing 'SubType' as categorical\n",
      "... storing 'chrom' as categorical\n",
      "... storing 'source' as categorical\n",
      "... storing 'feature' as categorical\n",
      "... storing 'score' as categorical\n",
      "... storing 'strand' as categorical\n",
      "... storing 'phase' as categorical\n",
      "... storing 'gene_type' as categorical\n",
      "... storing 'havana_gene' as categorical\n",
      "... storing 'tag' as categorical\n"
     ]
    },
    {
     "name": "stdout",
     "output_type": "stream",
     "text": [
      "CEMBA181015_5H 12406\n"
     ]
    },
    {
     "name": "stderr",
     "output_type": "stream",
     "text": [
      "... storing 'sample' as categorical\n",
      "... storing 'cluster' as categorical\n",
      "... storing 'L1' as categorical\n",
      "... storing 'L2' as categorical\n",
      "... storing 'L3' as categorical\n",
      "... storing 'CellClass' as categorical\n",
      "... storing 'MajorType' as categorical\n",
      "... storing 'SubType' as categorical\n",
      "... storing 'chrom' as categorical\n",
      "... storing 'source' as categorical\n",
      "... storing 'feature' as categorical\n",
      "... storing 'score' as categorical\n",
      "... storing 'strand' as categorical\n",
      "... storing 'phase' as categorical\n",
      "... storing 'gene_type' as categorical\n",
      "... storing 'havana_gene' as categorical\n",
      "... storing 'tag' as categorical\n"
     ]
    },
    {
     "name": "stdout",
     "output_type": "stream",
     "text": [
      "CEMBA181016_5H 8455\n"
     ]
    },
    {
     "name": "stderr",
     "output_type": "stream",
     "text": [
      "... storing 'sample' as categorical\n",
      "... storing 'cluster' as categorical\n",
      "... storing 'L1' as categorical\n",
      "... storing 'L2' as categorical\n",
      "... storing 'L3' as categorical\n",
      "... storing 'CellClass' as categorical\n",
      "... storing 'MajorType' as categorical\n",
      "... storing 'SubType' as categorical\n",
      "... storing 'chrom' as categorical\n",
      "... storing 'source' as categorical\n",
      "... storing 'feature' as categorical\n",
      "... storing 'score' as categorical\n",
      "... storing 'strand' as categorical\n",
      "... storing 'phase' as categorical\n",
      "... storing 'gene_type' as categorical\n",
      "... storing 'havana_gene' as categorical\n",
      "... storing 'tag' as categorical\n"
     ]
    },
    {
     "name": "stdout",
     "output_type": "stream",
     "text": [
      "CEMBA181022_6B 12768\n"
     ]
    },
    {
     "name": "stderr",
     "output_type": "stream",
     "text": [
      "... storing 'sample' as categorical\n",
      "... storing 'cluster' as categorical\n",
      "... storing 'L1' as categorical\n",
      "... storing 'L2' as categorical\n",
      "... storing 'L3' as categorical\n",
      "... storing 'CellClass' as categorical\n",
      "... storing 'MajorType' as categorical\n",
      "... storing 'SubType' as categorical\n",
      "... storing 'chrom' as categorical\n",
      "... storing 'source' as categorical\n",
      "... storing 'feature' as categorical\n",
      "... storing 'score' as categorical\n",
      "... storing 'strand' as categorical\n",
      "... storing 'phase' as categorical\n",
      "... storing 'gene_type' as categorical\n",
      "... storing 'havana_gene' as categorical\n",
      "... storing 'tag' as categorical\n"
     ]
    },
    {
     "name": "stdout",
     "output_type": "stream",
     "text": [
      "CEMBA181023_6B 12336\n"
     ]
    },
    {
     "name": "stderr",
     "output_type": "stream",
     "text": [
      "... storing 'sample' as categorical\n",
      "... storing 'cluster' as categorical\n",
      "... storing 'L1' as categorical\n",
      "... storing 'L2' as categorical\n",
      "... storing 'L3' as categorical\n",
      "... storing 'CellClass' as categorical\n",
      "... storing 'MajorType' as categorical\n",
      "... storing 'SubType' as categorical\n",
      "... storing 'chrom' as categorical\n",
      "... storing 'source' as categorical\n",
      "... storing 'feature' as categorical\n",
      "... storing 'score' as categorical\n",
      "... storing 'strand' as categorical\n",
      "... storing 'phase' as categorical\n",
      "... storing 'gene_type' as categorical\n",
      "... storing 'havana_gene' as categorical\n",
      "... storing 'tag' as categorical\n"
     ]
    },
    {
     "name": "stdout",
     "output_type": "stream",
     "text": [
      "CEMBA181218_5F 11727\n"
     ]
    },
    {
     "name": "stderr",
     "output_type": "stream",
     "text": [
      "... storing 'sample' as categorical\n",
      "... storing 'cluster' as categorical\n",
      "... storing 'L1' as categorical\n",
      "... storing 'L2' as categorical\n",
      "... storing 'L3' as categorical\n",
      "... storing 'CellClass' as categorical\n",
      "... storing 'MajorType' as categorical\n",
      "... storing 'SubType' as categorical\n",
      "... storing 'chrom' as categorical\n",
      "... storing 'source' as categorical\n",
      "... storing 'feature' as categorical\n",
      "... storing 'score' as categorical\n",
      "... storing 'strand' as categorical\n",
      "... storing 'phase' as categorical\n",
      "... storing 'gene_type' as categorical\n",
      "... storing 'havana_gene' as categorical\n",
      "... storing 'tag' as categorical\n"
     ]
    },
    {
     "name": "stdout",
     "output_type": "stream",
     "text": [
      "CEMBA181220_5F 11986\n"
     ]
    },
    {
     "name": "stderr",
     "output_type": "stream",
     "text": [
      "... storing 'sample' as categorical\n",
      "... storing 'cluster' as categorical\n",
      "... storing 'L1' as categorical\n",
      "... storing 'L2' as categorical\n",
      "... storing 'L3' as categorical\n",
      "... storing 'CellClass' as categorical\n",
      "... storing 'MajorType' as categorical\n",
      "... storing 'SubType' as categorical\n",
      "... storing 'chrom' as categorical\n",
      "... storing 'source' as categorical\n",
      "... storing 'feature' as categorical\n",
      "... storing 'score' as categorical\n",
      "... storing 'strand' as categorical\n",
      "... storing 'phase' as categorical\n",
      "... storing 'gene_type' as categorical\n",
      "... storing 'havana_gene' as categorical\n",
      "... storing 'tag' as categorical\n"
     ]
    },
    {
     "name": "stdout",
     "output_type": "stream",
     "text": [
      "CEMBA190108_6A 11749\n"
     ]
    },
    {
     "name": "stderr",
     "output_type": "stream",
     "text": [
      "... storing 'sample' as categorical\n",
      "... storing 'cluster' as categorical\n",
      "... storing 'L1' as categorical\n",
      "... storing 'L2' as categorical\n",
      "... storing 'L3' as categorical\n",
      "... storing 'CellClass' as categorical\n",
      "... storing 'MajorType' as categorical\n",
      "... storing 'SubType' as categorical\n",
      "... storing 'chrom' as categorical\n",
      "... storing 'source' as categorical\n",
      "... storing 'feature' as categorical\n",
      "... storing 'score' as categorical\n",
      "... storing 'strand' as categorical\n",
      "... storing 'phase' as categorical\n",
      "... storing 'gene_type' as categorical\n",
      "... storing 'havana_gene' as categorical\n",
      "... storing 'tag' as categorical\n"
     ]
    },
    {
     "name": "stdout",
     "output_type": "stream",
     "text": [
      "CEMBA190110_7B 11488\n"
     ]
    },
    {
     "name": "stderr",
     "output_type": "stream",
     "text": [
      "... storing 'sample' as categorical\n",
      "... storing 'cluster' as categorical\n",
      "... storing 'L1' as categorical\n",
      "... storing 'L2' as categorical\n",
      "... storing 'L3' as categorical\n",
      "... storing 'CellClass' as categorical\n",
      "... storing 'MajorType' as categorical\n",
      "... storing 'SubType' as categorical\n",
      "... storing 'chrom' as categorical\n",
      "... storing 'source' as categorical\n",
      "... storing 'feature' as categorical\n",
      "... storing 'score' as categorical\n",
      "... storing 'strand' as categorical\n",
      "... storing 'phase' as categorical\n",
      "... storing 'gene_type' as categorical\n",
      "... storing 'havana_gene' as categorical\n",
      "... storing 'tag' as categorical\n"
     ]
    },
    {
     "name": "stdout",
     "output_type": "stream",
     "text": [
      "CEMBA190115_7B 11967\n"
     ]
    },
    {
     "name": "stderr",
     "output_type": "stream",
     "text": [
      "... storing 'sample' as categorical\n",
      "... storing 'cluster' as categorical\n",
      "... storing 'L1' as categorical\n",
      "... storing 'L2' as categorical\n",
      "... storing 'L3' as categorical\n",
      "... storing 'CellClass' as categorical\n",
      "... storing 'MajorType' as categorical\n",
      "... storing 'SubType' as categorical\n",
      "... storing 'chrom' as categorical\n",
      "... storing 'source' as categorical\n",
      "... storing 'feature' as categorical\n",
      "... storing 'score' as categorical\n",
      "... storing 'strand' as categorical\n",
      "... storing 'phase' as categorical\n",
      "... storing 'gene_type' as categorical\n",
      "... storing 'havana_gene' as categorical\n",
      "... storing 'tag' as categorical\n"
     ]
    },
    {
     "name": "stdout",
     "output_type": "stream",
     "text": [
      "CEMBA190117_6A 12158\n"
     ]
    },
    {
     "name": "stderr",
     "output_type": "stream",
     "text": [
      "... storing 'sample' as categorical\n",
      "... storing 'cluster' as categorical\n",
      "... storing 'L1' as categorical\n",
      "... storing 'L2' as categorical\n",
      "... storing 'L3' as categorical\n",
      "... storing 'CellClass' as categorical\n",
      "... storing 'MajorType' as categorical\n",
      "... storing 'SubType' as categorical\n",
      "... storing 'chrom' as categorical\n",
      "... storing 'source' as categorical\n",
      "... storing 'feature' as categorical\n",
      "... storing 'score' as categorical\n",
      "... storing 'strand' as categorical\n",
      "... storing 'phase' as categorical\n",
      "... storing 'gene_type' as categorical\n",
      "... storing 'havana_gene' as categorical\n",
      "... storing 'tag' as categorical\n"
     ]
    },
    {
     "name": "stdout",
     "output_type": "stream",
     "text": [
      "CEMBA190122_6C 12022\n"
     ]
    },
    {
     "name": "stderr",
     "output_type": "stream",
     "text": [
      "... storing 'sample' as categorical\n",
      "... storing 'cluster' as categorical\n",
      "... storing 'L1' as categorical\n",
      "... storing 'L2' as categorical\n",
      "... storing 'L3' as categorical\n",
      "... storing 'CellClass' as categorical\n",
      "... storing 'MajorType' as categorical\n",
      "... storing 'SubType' as categorical\n",
      "... storing 'chrom' as categorical\n",
      "... storing 'source' as categorical\n",
      "... storing 'feature' as categorical\n",
      "... storing 'score' as categorical\n",
      "... storing 'strand' as categorical\n",
      "... storing 'phase' as categorical\n",
      "... storing 'gene_type' as categorical\n",
      "... storing 'havana_gene' as categorical\n",
      "... storing 'tag' as categorical\n"
     ]
    },
    {
     "name": "stdout",
     "output_type": "stream",
     "text": [
      "CEMBA190124_6C 11966\n"
     ]
    },
    {
     "name": "stderr",
     "output_type": "stream",
     "text": [
      "... storing 'sample' as categorical\n",
      "... storing 'cluster' as categorical\n",
      "... storing 'L1' as categorical\n",
      "... storing 'L2' as categorical\n",
      "... storing 'L3' as categorical\n",
      "... storing 'CellClass' as categorical\n",
      "... storing 'MajorType' as categorical\n",
      "... storing 'SubType' as categorical\n",
      "... storing 'chrom' as categorical\n",
      "... storing 'source' as categorical\n",
      "... storing 'feature' as categorical\n",
      "... storing 'score' as categorical\n",
      "... storing 'strand' as categorical\n",
      "... storing 'phase' as categorical\n",
      "... storing 'gene_type' as categorical\n",
      "... storing 'havana_gene' as categorical\n",
      "... storing 'tag' as categorical\n"
     ]
    },
    {
     "name": "stdout",
     "output_type": "stream",
     "text": [
      "CEMBA190131_6D 11860\n"
     ]
    },
    {
     "name": "stderr",
     "output_type": "stream",
     "text": [
      "... storing 'sample' as categorical\n",
      "... storing 'cluster' as categorical\n",
      "... storing 'L1' as categorical\n",
      "... storing 'L2' as categorical\n",
      "... storing 'L3' as categorical\n",
      "... storing 'CellClass' as categorical\n",
      "... storing 'MajorType' as categorical\n",
      "... storing 'SubType' as categorical\n",
      "... storing 'chrom' as categorical\n",
      "... storing 'source' as categorical\n",
      "... storing 'feature' as categorical\n",
      "... storing 'score' as categorical\n",
      "... storing 'strand' as categorical\n",
      "... storing 'phase' as categorical\n",
      "... storing 'gene_type' as categorical\n",
      "... storing 'havana_gene' as categorical\n",
      "... storing 'tag' as categorical\n"
     ]
    },
    {
     "name": "stdout",
     "output_type": "stream",
     "text": [
      "CEMBA190205_6D 11889\n"
     ]
    },
    {
     "name": "stderr",
     "output_type": "stream",
     "text": [
      "... storing 'sample' as categorical\n",
      "... storing 'cluster' as categorical\n",
      "... storing 'L1' as categorical\n",
      "... storing 'L2' as categorical\n",
      "... storing 'L3' as categorical\n",
      "... storing 'CellClass' as categorical\n",
      "... storing 'MajorType' as categorical\n",
      "... storing 'SubType' as categorical\n",
      "... storing 'chrom' as categorical\n",
      "... storing 'source' as categorical\n",
      "... storing 'feature' as categorical\n",
      "... storing 'score' as categorical\n",
      "... storing 'strand' as categorical\n",
      "... storing 'phase' as categorical\n",
      "... storing 'gene_type' as categorical\n",
      "... storing 'havana_gene' as categorical\n",
      "... storing 'tag' as categorical\n"
     ]
    },
    {
     "name": "stdout",
     "output_type": "stream",
     "text": [
      "CEMBA190207_2A 11913\n"
     ]
    },
    {
     "name": "stderr",
     "output_type": "stream",
     "text": [
      "... storing 'sample' as categorical\n",
      "... storing 'cluster' as categorical\n",
      "... storing 'L1' as categorical\n",
      "... storing 'L2' as categorical\n",
      "... storing 'L3' as categorical\n",
      "... storing 'CellClass' as categorical\n",
      "... storing 'MajorType' as categorical\n",
      "... storing 'SubType' as categorical\n",
      "... storing 'chrom' as categorical\n",
      "... storing 'source' as categorical\n",
      "... storing 'feature' as categorical\n",
      "... storing 'score' as categorical\n",
      "... storing 'strand' as categorical\n",
      "... storing 'phase' as categorical\n",
      "... storing 'gene_type' as categorical\n",
      "... storing 'havana_gene' as categorical\n",
      "... storing 'tag' as categorical\n"
     ]
    },
    {
     "name": "stdout",
     "output_type": "stream",
     "text": [
      "CEMBA190207_2E 10027\n"
     ]
    },
    {
     "name": "stderr",
     "output_type": "stream",
     "text": [
      "... storing 'sample' as categorical\n",
      "... storing 'cluster' as categorical\n",
      "... storing 'L1' as categorical\n",
      "... storing 'L2' as categorical\n",
      "... storing 'L3' as categorical\n",
      "... storing 'CellClass' as categorical\n",
      "... storing 'MajorType' as categorical\n",
      "... storing 'SubType' as categorical\n",
      "... storing 'chrom' as categorical\n",
      "... storing 'source' as categorical\n",
      "... storing 'feature' as categorical\n",
      "... storing 'score' as categorical\n",
      "... storing 'strand' as categorical\n",
      "... storing 'phase' as categorical\n",
      "... storing 'gene_type' as categorical\n",
      "... storing 'havana_gene' as categorical\n",
      "... storing 'tag' as categorical\n"
     ]
    },
    {
     "name": "stdout",
     "output_type": "stream",
     "text": [
      "CEMBA190212_9H 10581\n"
     ]
    },
    {
     "name": "stderr",
     "output_type": "stream",
     "text": [
      "... storing 'sample' as categorical\n",
      "... storing 'cluster' as categorical\n",
      "... storing 'L1' as categorical\n",
      "... storing 'L2' as categorical\n",
      "... storing 'L3' as categorical\n",
      "... storing 'CellClass' as categorical\n",
      "... storing 'MajorType' as categorical\n",
      "... storing 'SubType' as categorical\n",
      "... storing 'chrom' as categorical\n",
      "... storing 'source' as categorical\n",
      "... storing 'feature' as categorical\n",
      "... storing 'score' as categorical\n",
      "... storing 'strand' as categorical\n",
      "... storing 'phase' as categorical\n",
      "... storing 'gene_type' as categorical\n",
      "... storing 'havana_gene' as categorical\n",
      "... storing 'tag' as categorical\n"
     ]
    },
    {
     "name": "stdout",
     "output_type": "stream",
     "text": [
      "CEMBA190212_9J 12098\n"
     ]
    },
    {
     "name": "stderr",
     "output_type": "stream",
     "text": [
      "... storing 'sample' as categorical\n",
      "... storing 'cluster' as categorical\n",
      "... storing 'L1' as categorical\n",
      "... storing 'L2' as categorical\n",
      "... storing 'L3' as categorical\n",
      "... storing 'CellClass' as categorical\n",
      "... storing 'MajorType' as categorical\n",
      "... storing 'SubType' as categorical\n",
      "... storing 'chrom' as categorical\n",
      "... storing 'source' as categorical\n",
      "... storing 'feature' as categorical\n",
      "... storing 'score' as categorical\n",
      "... storing 'strand' as categorical\n",
      "... storing 'phase' as categorical\n",
      "... storing 'gene_type' as categorical\n",
      "... storing 'havana_gene' as categorical\n",
      "... storing 'tag' as categorical\n"
     ]
    },
    {
     "name": "stdout",
     "output_type": "stream",
     "text": [
      "CEMBA190214_11E 10575\n"
     ]
    },
    {
     "name": "stderr",
     "output_type": "stream",
     "text": [
      "... storing 'sample' as categorical\n",
      "... storing 'cluster' as categorical\n",
      "... storing 'L1' as categorical\n",
      "... storing 'L2' as categorical\n",
      "... storing 'L3' as categorical\n",
      "... storing 'CellClass' as categorical\n",
      "... storing 'MajorType' as categorical\n",
      "... storing 'SubType' as categorical\n",
      "... storing 'chrom' as categorical\n",
      "... storing 'source' as categorical\n",
      "... storing 'feature' as categorical\n",
      "... storing 'score' as categorical\n",
      "... storing 'strand' as categorical\n",
      "... storing 'phase' as categorical\n",
      "... storing 'gene_type' as categorical\n",
      "... storing 'havana_gene' as categorical\n",
      "... storing 'tag' as categorical\n"
     ]
    },
    {
     "name": "stdout",
     "output_type": "stream",
     "text": [
      "CEMBA190214_11F 12019\n"
     ]
    },
    {
     "name": "stderr",
     "output_type": "stream",
     "text": [
      "... storing 'sample' as categorical\n",
      "... storing 'cluster' as categorical\n",
      "... storing 'L1' as categorical\n",
      "... storing 'L2' as categorical\n",
      "... storing 'L3' as categorical\n",
      "... storing 'CellClass' as categorical\n",
      "... storing 'MajorType' as categorical\n",
      "... storing 'SubType' as categorical\n",
      "... storing 'chrom' as categorical\n",
      "... storing 'source' as categorical\n",
      "... storing 'feature' as categorical\n",
      "... storing 'score' as categorical\n",
      "... storing 'strand' as categorical\n",
      "... storing 'phase' as categorical\n",
      "... storing 'gene_type' as categorical\n",
      "... storing 'havana_gene' as categorical\n",
      "... storing 'tag' as categorical\n"
     ]
    },
    {
     "name": "stdout",
     "output_type": "stream",
     "text": [
      "CEMBA190219_9H 10574\n"
     ]
    },
    {
     "name": "stderr",
     "output_type": "stream",
     "text": [
      "... storing 'sample' as categorical\n",
      "... storing 'cluster' as categorical\n",
      "... storing 'L1' as categorical\n",
      "... storing 'L2' as categorical\n",
      "... storing 'L3' as categorical\n",
      "... storing 'CellClass' as categorical\n",
      "... storing 'MajorType' as categorical\n",
      "... storing 'SubType' as categorical\n",
      "... storing 'chrom' as categorical\n",
      "... storing 'source' as categorical\n",
      "... storing 'feature' as categorical\n",
      "... storing 'score' as categorical\n",
      "... storing 'strand' as categorical\n",
      "... storing 'phase' as categorical\n",
      "... storing 'gene_type' as categorical\n",
      "... storing 'havana_gene' as categorical\n",
      "... storing 'tag' as categorical\n"
     ]
    },
    {
     "name": "stdout",
     "output_type": "stream",
     "text": [
      "CEMBA190219_9J 11718\n"
     ]
    },
    {
     "name": "stderr",
     "output_type": "stream",
     "text": [
      "... storing 'sample' as categorical\n",
      "... storing 'cluster' as categorical\n",
      "... storing 'L1' as categorical\n",
      "... storing 'L2' as categorical\n",
      "... storing 'L3' as categorical\n",
      "... storing 'CellClass' as categorical\n",
      "... storing 'MajorType' as categorical\n",
      "... storing 'SubType' as categorical\n",
      "... storing 'chrom' as categorical\n",
      "... storing 'source' as categorical\n",
      "... storing 'feature' as categorical\n",
      "... storing 'score' as categorical\n",
      "... storing 'strand' as categorical\n",
      "... storing 'phase' as categorical\n",
      "... storing 'gene_type' as categorical\n",
      "... storing 'havana_gene' as categorical\n",
      "... storing 'tag' as categorical\n"
     ]
    },
    {
     "name": "stdout",
     "output_type": "stream",
     "text": [
      "CEMBA190305_11E 10483\n"
     ]
    },
    {
     "name": "stderr",
     "output_type": "stream",
     "text": [
      "... storing 'sample' as categorical\n",
      "... storing 'cluster' as categorical\n",
      "... storing 'L1' as categorical\n",
      "... storing 'L2' as categorical\n",
      "... storing 'L3' as categorical\n",
      "... storing 'CellClass' as categorical\n",
      "... storing 'MajorType' as categorical\n",
      "... storing 'SubType' as categorical\n",
      "... storing 'chrom' as categorical\n",
      "... storing 'source' as categorical\n",
      "... storing 'feature' as categorical\n",
      "... storing 'score' as categorical\n",
      "... storing 'strand' as categorical\n",
      "... storing 'phase' as categorical\n",
      "... storing 'gene_type' as categorical\n",
      "... storing 'havana_gene' as categorical\n",
      "... storing 'tag' as categorical\n"
     ]
    },
    {
     "name": "stdout",
     "output_type": "stream",
     "text": [
      "CEMBA190305_11F 11120\n"
     ]
    },
    {
     "name": "stderr",
     "output_type": "stream",
     "text": [
      "... storing 'sample' as categorical\n",
      "... storing 'cluster' as categorical\n",
      "... storing 'L1' as categorical\n",
      "... storing 'L2' as categorical\n",
      "... storing 'L3' as categorical\n",
      "... storing 'CellClass' as categorical\n",
      "... storing 'MajorType' as categorical\n",
      "... storing 'SubType' as categorical\n",
      "... storing 'chrom' as categorical\n",
      "... storing 'source' as categorical\n",
      "... storing 'feature' as categorical\n",
      "... storing 'score' as categorical\n",
      "... storing 'strand' as categorical\n",
      "... storing 'phase' as categorical\n",
      "... storing 'gene_type' as categorical\n",
      "... storing 'havana_gene' as categorical\n",
      "... storing 'tag' as categorical\n"
     ]
    },
    {
     "name": "stdout",
     "output_type": "stream",
     "text": [
      "CEMBA190625_10E 11278\n"
     ]
    },
    {
     "name": "stderr",
     "output_type": "stream",
     "text": [
      "... storing 'sample' as categorical\n",
      "... storing 'cluster' as categorical\n",
      "... storing 'L1' as categorical\n",
      "... storing 'L2' as categorical\n",
      "... storing 'L3' as categorical\n",
      "... storing 'CellClass' as categorical\n",
      "... storing 'MajorType' as categorical\n",
      "... storing 'SubType' as categorical\n",
      "... storing 'chrom' as categorical\n",
      "... storing 'source' as categorical\n",
      "... storing 'feature' as categorical\n",
      "... storing 'score' as categorical\n",
      "... storing 'strand' as categorical\n",
      "... storing 'phase' as categorical\n",
      "... storing 'gene_type' as categorical\n",
      "... storing 'havana_gene' as categorical\n",
      "... storing 'tag' as categorical\n"
     ]
    },
    {
     "name": "stdout",
     "output_type": "stream",
     "text": [
      "CEMBA190625_10F 12196\n"
     ]
    },
    {
     "name": "stderr",
     "output_type": "stream",
     "text": [
      "... storing 'sample' as categorical\n",
      "... storing 'cluster' as categorical\n",
      "... storing 'L1' as categorical\n",
      "... storing 'L2' as categorical\n",
      "... storing 'L3' as categorical\n",
      "... storing 'CellClass' as categorical\n",
      "... storing 'MajorType' as categorical\n",
      "... storing 'SubType' as categorical\n",
      "... storing 'chrom' as categorical\n",
      "... storing 'source' as categorical\n",
      "... storing 'feature' as categorical\n",
      "... storing 'score' as categorical\n",
      "... storing 'strand' as categorical\n",
      "... storing 'phase' as categorical\n",
      "... storing 'gene_type' as categorical\n",
      "... storing 'havana_gene' as categorical\n",
      "... storing 'tag' as categorical\n"
     ]
    },
    {
     "name": "stdout",
     "output_type": "stream",
     "text": [
      "CEMBA190627_10E 11315\n"
     ]
    },
    {
     "name": "stderr",
     "output_type": "stream",
     "text": [
      "... storing 'sample' as categorical\n",
      "... storing 'cluster' as categorical\n",
      "... storing 'L1' as categorical\n",
      "... storing 'L2' as categorical\n",
      "... storing 'L3' as categorical\n",
      "... storing 'CellClass' as categorical\n",
      "... storing 'MajorType' as categorical\n",
      "... storing 'SubType' as categorical\n",
      "... storing 'chrom' as categorical\n",
      "... storing 'source' as categorical\n",
      "... storing 'feature' as categorical\n",
      "... storing 'score' as categorical\n",
      "... storing 'strand' as categorical\n",
      "... storing 'phase' as categorical\n",
      "... storing 'gene_type' as categorical\n",
      "... storing 'havana_gene' as categorical\n",
      "... storing 'tag' as categorical\n"
     ]
    },
    {
     "name": "stdout",
     "output_type": "stream",
     "text": [
      "CEMBA190627_10F 11539\n"
     ]
    },
    {
     "name": "stderr",
     "output_type": "stream",
     "text": [
      "... storing 'sample' as categorical\n",
      "... storing 'cluster' as categorical\n",
      "... storing 'L1' as categorical\n",
      "... storing 'L2' as categorical\n",
      "... storing 'L3' as categorical\n",
      "... storing 'CellClass' as categorical\n",
      "... storing 'MajorType' as categorical\n",
      "... storing 'SubType' as categorical\n",
      "... storing 'chrom' as categorical\n",
      "... storing 'source' as categorical\n",
      "... storing 'feature' as categorical\n",
      "... storing 'score' as categorical\n",
      "... storing 'strand' as categorical\n",
      "... storing 'phase' as categorical\n",
      "... storing 'gene_type' as categorical\n",
      "... storing 'havana_gene' as categorical\n",
      "... storing 'tag' as categorical\n"
     ]
    },
    {
     "name": "stdout",
     "output_type": "stream",
     "text": [
      "CEMBA190711_8E 9105\n"
     ]
    },
    {
     "name": "stderr",
     "output_type": "stream",
     "text": [
      "... storing 'sample' as categorical\n",
      "... storing 'cluster' as categorical\n",
      "... storing 'L1' as categorical\n",
      "... storing 'L2' as categorical\n",
      "... storing 'L3' as categorical\n",
      "... storing 'CellClass' as categorical\n",
      "... storing 'MajorType' as categorical\n",
      "... storing 'SubType' as categorical\n",
      "... storing 'chrom' as categorical\n",
      "... storing 'source' as categorical\n",
      "... storing 'feature' as categorical\n",
      "... storing 'score' as categorical\n",
      "... storing 'strand' as categorical\n",
      "... storing 'phase' as categorical\n",
      "... storing 'gene_type' as categorical\n",
      "... storing 'havana_gene' as categorical\n",
      "... storing 'tag' as categorical\n"
     ]
    },
    {
     "name": "stdout",
     "output_type": "stream",
     "text": [
      "CEMBA190711_8J 10456\n"
     ]
    },
    {
     "name": "stderr",
     "output_type": "stream",
     "text": [
      "... storing 'sample' as categorical\n",
      "... storing 'cluster' as categorical\n",
      "... storing 'L1' as categorical\n",
      "... storing 'L2' as categorical\n",
      "... storing 'L3' as categorical\n",
      "... storing 'CellClass' as categorical\n",
      "... storing 'MajorType' as categorical\n",
      "... storing 'SubType' as categorical\n",
      "... storing 'chrom' as categorical\n",
      "... storing 'source' as categorical\n",
      "... storing 'feature' as categorical\n",
      "... storing 'score' as categorical\n",
      "... storing 'strand' as categorical\n",
      "... storing 'phase' as categorical\n",
      "... storing 'gene_type' as categorical\n",
      "... storing 'havana_gene' as categorical\n",
      "... storing 'tag' as categorical\n"
     ]
    },
    {
     "name": "stdout",
     "output_type": "stream",
     "text": [
      "CEMBA190716_8E 11058\n"
     ]
    },
    {
     "name": "stderr",
     "output_type": "stream",
     "text": [
      "... storing 'sample' as categorical\n",
      "... storing 'cluster' as categorical\n",
      "... storing 'L1' as categorical\n",
      "... storing 'L2' as categorical\n",
      "... storing 'L3' as categorical\n",
      "... storing 'CellClass' as categorical\n",
      "... storing 'MajorType' as categorical\n",
      "... storing 'SubType' as categorical\n",
      "... storing 'chrom' as categorical\n",
      "... storing 'source' as categorical\n",
      "... storing 'feature' as categorical\n",
      "... storing 'score' as categorical\n",
      "... storing 'strand' as categorical\n",
      "... storing 'phase' as categorical\n",
      "... storing 'gene_type' as categorical\n",
      "... storing 'havana_gene' as categorical\n",
      "... storing 'tag' as categorical\n"
     ]
    },
    {
     "name": "stdout",
     "output_type": "stream",
     "text": [
      "CEMBA190716_8J 11936\n"
     ]
    },
    {
     "name": "stderr",
     "output_type": "stream",
     "text": [
      "... storing 'sample' as categorical\n",
      "... storing 'cluster' as categorical\n",
      "... storing 'L1' as categorical\n",
      "... storing 'L2' as categorical\n",
      "... storing 'L3' as categorical\n",
      "... storing 'CellClass' as categorical\n",
      "... storing 'MajorType' as categorical\n",
      "... storing 'SubType' as categorical\n",
      "... storing 'chrom' as categorical\n",
      "... storing 'source' as categorical\n",
      "... storing 'feature' as categorical\n",
      "... storing 'score' as categorical\n",
      "... storing 'strand' as categorical\n",
      "... storing 'phase' as categorical\n",
      "... storing 'gene_type' as categorical\n",
      "... storing 'havana_gene' as categorical\n",
      "... storing 'tag' as categorical\n"
     ]
    }
   ],
   "source": [
    "for sample, sub_df in cell_tidy_data.groupby('sample'):\n",
    "    print(sample, sub_df.shape[0])\n",
    "    if sample not in snap_dict:\n",
    "        continue\n",
    "    output_path = f'../Dataset_GM/{sample}.pass_qc.with_cluster.h5ad'\n",
    "    \n",
    "    if pathlib.Path(output_path).exists():\n",
    "        continue\n",
    "    \n",
    "    snap_path = snap_dict[sample]\n",
    "    adata = read_snap_gene(snap_path)\n",
    "    adata.obs_names = sample + '-' + adata.obs['barcode']\n",
    "    adata = adata[sub_df.index, :].copy()\n",
    "    adata.obs.update(sub_df)\n",
    "    adata.obs = pd.concat([\n",
    "        adata.obs,\n",
    "        sub_df[[i for i in sub_df.columns if i not in adata.obs.columns]]\n",
    "    ],\n",
    "                          axis=1)\n",
    "    \n",
    "    adata.var = gene_meta.reindex(adata.var_names)\n",
    "    adata.var['gene_name'] = adata.var_names\n",
    "    adata.var_names = adata.var['gene_id']\n",
    "    adata.write_h5ad(output_path)"
   ]
  },
  {
   "cell_type": "code",
   "execution_count": null,
   "metadata": {},
   "outputs": [],
   "source": []
  },
  {
   "cell_type": "code",
   "execution_count": null,
   "metadata": {},
   "outputs": [],
   "source": []
  }
 ],
 "metadata": {
  "hide_input": false,
  "kernelspec": {
   "display_name": "Python 3",
   "language": "python",
   "name": "python3"
  },
  "language_info": {
   "codemirror_mode": {
    "name": "ipython",
    "version": 3
   },
   "file_extension": ".py",
   "mimetype": "text/x-python",
   "name": "python",
   "nbconvert_exporter": "python",
   "pygments_lexer": "ipython3",
   "version": "3.7.3"
  },
  "toc": {
   "base_numbering": 1,
   "nav_menu": {},
   "number_sections": true,
   "sideBar": true,
   "skip_h1_title": true,
   "title_cell": "Table of Contents",
   "title_sidebar": "Contents",
   "toc_cell": false,
   "toc_position": {},
   "toc_section_display": true,
   "toc_window_display": true
  }
 },
 "nbformat": 4,
 "nbformat_minor": 2
}
