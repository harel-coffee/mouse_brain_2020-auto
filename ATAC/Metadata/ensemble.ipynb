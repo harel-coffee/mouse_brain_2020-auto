{
 "cells": [
  {
   "cell_type": "code",
   "execution_count": 1,
   "metadata": {
    "ExecuteTime": {
     "end_time": "2019-11-30T04:40:36.586543Z",
     "start_time": "2019-11-30T04:40:36.392238Z"
    }
   },
   "outputs": [],
   "source": [
    "import anndata\n",
    "import pathlib\n",
    "import pandas as pd\n",
    "from scipy.sparse import vstack, csr_matrix"
   ]
  },
  {
   "cell_type": "code",
   "execution_count": 2,
   "metadata": {
    "ExecuteTime": {
     "end_time": "2019-11-30T04:40:39.128200Z",
     "start_time": "2019-11-30T04:40:36.588121Z"
    }
   },
   "outputs": [
    {
     "name": "stderr",
     "output_type": "stream",
     "text": [
      "/home/hanliu/miniconda3/envs/clustering/lib/python3.7/site-packages/IPython/core/interactiveshell.py:3326: FutureWarning: The read_msgpack is deprecated and will be removed in a future version.\n",
      "It is recommended to use pyarrow for on-the-wire transmission of pandas objects.\n",
      "  exec(code_obj, self.user_global_ns, self.user_ns)\n"
     ]
    }
   ],
   "source": [
    "cell_tidy_data = pd.read_msgpack('ATAC.cell_tidy_data.msg')"
   ]
  },
  {
   "cell_type": "code",
   "execution_count": 3,
   "metadata": {
    "ExecuteTime": {
     "end_time": "2019-11-30T04:40:39.134498Z",
     "start_time": "2019-11-30T04:40:39.129944Z"
    }
   },
   "outputs": [
    {
     "name": "stdout",
     "output_type": "stream",
     "text": [
      "90\n"
     ]
    }
   ],
   "source": [
    "adata_list = list(pathlib.Path('../Dataset_GM/').glob('*h5ad'))\n",
    "print(len(adata_list))"
   ]
  },
  {
   "cell_type": "code",
   "execution_count": 4,
   "metadata": {
    "ExecuteTime": {
     "end_time": "2019-11-30T04:40:39.138645Z",
     "start_time": "2019-11-30T04:40:39.135733Z"
    }
   },
   "outputs": [],
   "source": [
    "study_design = {\n",
    "    'IT': ['IT'],\n",
    "    'NonN': ['Vc', 'Opc', 'Ogc', 'Mgc', 'Asc'],\n",
    "    'Inh': ['Mge', 'Cge', 'Unk', 'Sept', 'Olf', 'Msn', 'Mxd1', 'Hip', 'CRc'],\n",
    "    'Cortex-OLF-Exc': ['CT', 'NP', 'PT', 'CLA', 'PIR'],\n",
    "    'HPF-Exc': ['HIP', 'GC']\n",
    "}"
   ]
  },
  {
   "cell_type": "code",
   "execution_count": 5,
   "metadata": {
    "ExecuteTime": {
     "end_time": "2019-11-30T04:40:39.141613Z",
     "start_time": "2019-11-30T04:40:39.139764Z"
    }
   },
   "outputs": [],
   "source": [
    "study = 'HPF-Exc'"
   ]
  },
  {
   "cell_type": "code",
   "execution_count": 6,
   "metadata": {
    "ExecuteTime": {
     "end_time": "2019-11-30T04:42:24.431379Z",
     "start_time": "2019-11-30T04:40:39.142757Z"
    },
    "scrolled": true
   },
   "outputs": [
    {
     "name": "stdout",
     "output_type": "stream",
     "text": [
      "0 ../Dataset_GM/CEMBA180312_3B.pass_qc.with_cluster.h5ad\n",
      "1 ../Dataset_GM/CEMBA180319_2D.pass_qc.with_cluster.h5ad\n",
      "2 ../Dataset_GM/CEMBA180326_3E.pass_qc.with_cluster.h5ad\n",
      "3 ../Dataset_GM/CEMBA180402_4F.pass_qc.with_cluster.h5ad\n",
      "4 ../Dataset_GM/CEMBA180409_2C.pass_qc.with_cluster.h5ad\n",
      "5 ../Dataset_GM/CEMBA180412_3D.pass_qc.with_cluster.h5ad\n",
      "6 ../Dataset_GM/CEMBA180417_4C.pass_qc.with_cluster.h5ad\n",
      "7 ../Dataset_GM/CEMBA180426_8B.pass_qc.with_cluster.h5ad\n",
      "8 ../Dataset_GM/CEMBA180430_8B.pass_qc.with_cluster.h5ad\n",
      "9 ../Dataset_GM/CEMBA180529_5B.pass_qc.with_cluster.h5ad\n",
      "10 ../Dataset_GM/CEMBA180618_5D.pass_qc.with_cluster.h5ad\n",
      "11 ../Dataset_GM/CEMBA180723_4G.pass_qc.with_cluster.h5ad\n",
      "12 ../Dataset_GM/CEMBA180724_4H.pass_qc.with_cluster.h5ad\n",
      "13 ../Dataset_GM/CEMBA180731_5A.pass_qc.with_cluster.h5ad\n",
      "14 ../Dataset_GM/CEMBA180813_5E.pass_qc.with_cluster.h5ad\n",
      "15 ../Dataset_GM/CEMBA180904_5J.pass_qc.with_cluster.h5ad\n",
      "16 ../Dataset_GM/CEMBA180910_5J.pass_qc.with_cluster.h5ad\n",
      "17 ../Dataset_GM/CEMBA181002_5C.pass_qc.with_cluster.h5ad\n",
      "18 ../Dataset_GM/CEMBA181009_5G.pass_qc.with_cluster.h5ad\n",
      "19 ../Dataset_GM/CEMBA181016_5H.pass_qc.with_cluster.h5ad\n",
      "20 ../Dataset_GM/CEMBA181022_6B.pass_qc.with_cluster.h5ad\n",
      "21 ../Dataset_GM/CEMBA171206_3C.pass_qc.with_cluster.h5ad\n",
      "22 ../Dataset_GM/CEMBA171207_3C.pass_qc.with_cluster.h5ad\n",
      "23 ../Dataset_GM/CEMBA171213_4B.pass_qc.with_cluster.h5ad\n",
      "24 ../Dataset_GM/CEMBA171214_4D.pass_qc.with_cluster.h5ad\n",
      "25 ../Dataset_GM/CEMBA171219_4D.pass_qc.with_cluster.h5ad\n",
      "26 ../Dataset_GM/CEMBA180104_4B.pass_qc.with_cluster.h5ad\n",
      "27 ../Dataset_GM/CEMBA180105_3F.pass_qc.with_cluster.h5ad\n",
      "28 ../Dataset_GM/CEMBA180109_3F.pass_qc.with_cluster.h5ad\n",
      "29 ../Dataset_GM/CEMBA180110_4E.pass_qc.with_cluster.h5ad\n",
      "30 ../Dataset_GM/CEMBA180111_4E.pass_qc.with_cluster.h5ad\n",
      "31 ../Dataset_GM/CEMBA180119_1B.pass_qc.with_cluster.h5ad\n",
      "32 ../Dataset_GM/CEMBA180123_2A.pass_qc.with_cluster.h5ad\n",
      "33 ../Dataset_GM/CEMBA180129_3A.pass_qc.with_cluster.h5ad\n",
      "34 ../Dataset_GM/CEMBA180130_3A.pass_qc.with_cluster.h5ad\n",
      "35 ../Dataset_GM/CEMBA180205_4A.pass_qc.with_cluster.h5ad\n",
      "36 ../Dataset_GM/CEMBA180206_4A.pass_qc.with_cluster.h5ad\n",
      "37 ../Dataset_GM/CEMBA180208_1C.pass_qc.with_cluster.h5ad\n",
      "38 ../Dataset_GM/CEMBA180212_1C.pass_qc.with_cluster.h5ad\n",
      "39 ../Dataset_GM/CEMBA180213_1B.pass_qc.with_cluster.h5ad\n",
      "40 ../Dataset_GM/CEMBA180222_2E.pass_qc.with_cluster.h5ad\n",
      "41 ../Dataset_GM/CEMBA180226_1A.pass_qc.with_cluster.h5ad\n",
      "42 ../Dataset_GM/CEMBA180227_1A.pass_qc.with_cluster.h5ad\n",
      "43 ../Dataset_GM/CEMBA180305_2B.pass_qc.with_cluster.h5ad\n",
      "44 ../Dataset_GM/CEMBA180306_2B.pass_qc.with_cluster.h5ad\n",
      "45 ../Dataset_GM/CEMBA180308_3B.pass_qc.with_cluster.h5ad\n",
      "46 ../Dataset_GM/CEMBA180313_2D.pass_qc.with_cluster.h5ad\n",
      "47 ../Dataset_GM/CEMBA180320_3E.pass_qc.with_cluster.h5ad\n",
      "48 ../Dataset_GM/CEMBA180329_4F.pass_qc.with_cluster.h5ad\n",
      "49 ../Dataset_GM/CEMBA180410_2C.pass_qc.with_cluster.h5ad\n",
      "50 ../Dataset_GM/CEMBA180416_3D.pass_qc.with_cluster.h5ad\n",
      "51 ../Dataset_GM/CEMBA180419_4C.pass_qc.with_cluster.h5ad\n",
      "52 ../Dataset_GM/CEMBA180514_5B.pass_qc.with_cluster.h5ad\n",
      "53 ../Dataset_GM/CEMBA180612_5D.pass_qc.with_cluster.h5ad\n",
      "54 ../Dataset_GM/CEMBA180619_4G.pass_qc.with_cluster.h5ad\n",
      "55 ../Dataset_GM/CEMBA180730_4H.pass_qc.with_cluster.h5ad\n",
      "56 ../Dataset_GM/CEMBA180807_5A.pass_qc.with_cluster.h5ad\n",
      "57 ../Dataset_GM/CEMBA180820_5E.pass_qc.with_cluster.h5ad\n",
      "58 ../Dataset_GM/CEMBA181001_5C.pass_qc.with_cluster.h5ad\n",
      "59 ../Dataset_GM/CEMBA181008_5G.pass_qc.with_cluster.h5ad\n",
      "60 ../Dataset_GM/CEMBA181015_5H.pass_qc.with_cluster.h5ad\n",
      "61 ../Dataset_GM/CEMBA181023_6B.pass_qc.with_cluster.h5ad\n",
      "62 ../Dataset_GM/CEMBA181218_5F.pass_qc.with_cluster.h5ad\n",
      "63 ../Dataset_GM/CEMBA181220_5F.pass_qc.with_cluster.h5ad\n",
      "64 ../Dataset_GM/CEMBA190108_6A.pass_qc.with_cluster.h5ad\n",
      "65 ../Dataset_GM/CEMBA190110_7B.pass_qc.with_cluster.h5ad\n",
      "66 ../Dataset_GM/CEMBA190115_7B.pass_qc.with_cluster.h5ad\n",
      "67 ../Dataset_GM/CEMBA190117_6A.pass_qc.with_cluster.h5ad\n",
      "68 ../Dataset_GM/CEMBA190122_6C.pass_qc.with_cluster.h5ad\n",
      "69 ../Dataset_GM/CEMBA190124_6C.pass_qc.with_cluster.h5ad\n",
      "70 ../Dataset_GM/CEMBA190131_6D.pass_qc.with_cluster.h5ad\n",
      "71 ../Dataset_GM/CEMBA190205_6D.pass_qc.with_cluster.h5ad\n",
      "72 ../Dataset_GM/CEMBA190207_2A.pass_qc.with_cluster.h5ad\n",
      "73 ../Dataset_GM/CEMBA190207_2E.pass_qc.with_cluster.h5ad\n",
      "74 ../Dataset_GM/CEMBA190212_9H.pass_qc.with_cluster.h5ad\n",
      "75 ../Dataset_GM/CEMBA190212_9J.pass_qc.with_cluster.h5ad\n",
      "76 ../Dataset_GM/CEMBA190214_11E.pass_qc.with_cluster.h5ad\n",
      "77 ../Dataset_GM/CEMBA190214_11F.pass_qc.with_cluster.h5ad\n",
      "78 ../Dataset_GM/CEMBA190219_9H.pass_qc.with_cluster.h5ad\n",
      "79 ../Dataset_GM/CEMBA190219_9J.pass_qc.with_cluster.h5ad\n",
      "80 ../Dataset_GM/CEMBA190305_11E.pass_qc.with_cluster.h5ad\n",
      "81 ../Dataset_GM/CEMBA190305_11F.pass_qc.with_cluster.h5ad\n",
      "82 ../Dataset_GM/CEMBA190625_10E.pass_qc.with_cluster.h5ad\n",
      "83 ../Dataset_GM/CEMBA190625_10F.pass_qc.with_cluster.h5ad\n",
      "84 ../Dataset_GM/CEMBA190627_10E.pass_qc.with_cluster.h5ad\n",
      "85 ../Dataset_GM/CEMBA190627_10F.pass_qc.with_cluster.h5ad\n",
      "86 ../Dataset_GM/CEMBA190711_8E.pass_qc.with_cluster.h5ad\n",
      "87 ../Dataset_GM/CEMBA190711_8J.pass_qc.with_cluster.h5ad\n",
      "88 ../Dataset_GM/CEMBA190716_8E.pass_qc.with_cluster.h5ad\n",
      "89 ../Dataset_GM/CEMBA190716_8J.pass_qc.with_cluster.h5ad\n"
     ]
    },
    {
     "name": "stderr",
     "output_type": "stream",
     "text": [
      "... storing 'sample' as categorical\n",
      "... storing 'barcode' as categorical\n",
      "... storing 'cluster' as categorical\n",
      "... storing 'L1' as categorical\n",
      "... storing 'L2' as categorical\n",
      "... storing 'L3' as categorical\n",
      "... storing 'CellClass' as categorical\n",
      "... storing 'MajorType' as categorical\n",
      "... storing 'SubType' as categorical\n",
      "... storing 'Region' as categorical\n",
      "... storing 'RegionName' as categorical\n",
      "... storing 'MajorRegion' as categorical\n",
      "... storing 'SubRegion' as categorical\n",
      "... storing 'DetailRegion' as categorical\n",
      "... storing 'PotentialOverlap (MMB)' as categorical\n",
      "... storing 'MajorRegionColor' as categorical\n",
      "... storing 'SubRegionColor' as categorical\n",
      "... storing 'DissectionRegionColor' as categorical\n"
     ]
    }
   ],
   "source": [
    "data_list = []\n",
    "cell_list = []\n",
    "\n",
    "clusters = study_design[study]\n",
    "\n",
    "for i, path in enumerate(adata_list):\n",
    "    adata = anndata.read_h5ad(path)\n",
    "    adata = adata[adata.obs['MajorType'].isin(clusters), :]\n",
    "    if adata.shape[0] == 1:\n",
    "        continue\n",
    "    data_list.append(adata.X.tocsr())\n",
    "    cell_list += adata.obs_names.tolist()\n",
    "    print(i, path)\n",
    "    \n",
    "total_data = vstack(data_list)\n",
    "total_adata = anndata.AnnData(X=total_data,\n",
    "                              obs=cell_tidy_data.loc[cell_list],\n",
    "                              var=adata.var)\n",
    "total_adata.write_h5ad(f'../AdataForIntegration/{study}.gene.pass_qc.with_cluster.h5ad')"
   ]
  },
  {
   "cell_type": "code",
   "execution_count": null,
   "metadata": {},
   "outputs": [],
   "source": []
  },
  {
   "cell_type": "code",
   "execution_count": null,
   "metadata": {},
   "outputs": [],
   "source": []
  },
  {
   "cell_type": "code",
   "execution_count": null,
   "metadata": {},
   "outputs": [],
   "source": []
  },
  {
   "cell_type": "code",
   "execution_count": null,
   "metadata": {},
   "outputs": [],
   "source": []
  },
  {
   "cell_type": "code",
   "execution_count": null,
   "metadata": {},
   "outputs": [],
   "source": []
  }
 ],
 "metadata": {
  "hide_input": false,
  "kernelspec": {
   "display_name": "Python 3",
   "language": "python",
   "name": "python3"
  },
  "language_info": {
   "codemirror_mode": {
    "name": "ipython",
    "version": 3
   },
   "file_extension": ".py",
   "mimetype": "text/x-python",
   "name": "python",
   "nbconvert_exporter": "python",
   "pygments_lexer": "ipython3",
   "version": "3.7.3"
  },
  "toc": {
   "base_numbering": 1,
   "nav_menu": {},
   "number_sections": true,
   "sideBar": true,
   "skip_h1_title": true,
   "title_cell": "Table of Contents",
   "title_sidebar": "Contents",
   "toc_cell": false,
   "toc_position": {},
   "toc_section_display": true,
   "toc_window_display": true
  }
 },
 "nbformat": 4,
 "nbformat_minor": 2
}
