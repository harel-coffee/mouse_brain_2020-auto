{
 "cells": [
  {
   "cell_type": "code",
   "execution_count": 1,
   "metadata": {
    "ExecuteTime": {
     "end_time": "2019-12-02T00:50:39.779759Z",
     "start_time": "2019-12-02T00:50:39.043824Z"
    }
   },
   "outputs": [],
   "source": [
    "import pandas as pd\n",
    "import numpy as np\n",
    "from annoy import AnnoyIndex\n",
    "import seaborn as sns\n",
    "import matplotlib.pyplot as plt\n",
    "from sklearn.cluster import MiniBatchKMeans"
   ]
  },
  {
   "cell_type": "code",
   "execution_count": 2,
   "metadata": {
    "ExecuteTime": {
     "end_time": "2019-12-02T00:50:40.628307Z",
     "start_time": "2019-12-02T00:50:40.625083Z"
    }
   },
   "outputs": [],
   "source": [
    "n_pc = 26\n",
    "n_tree = 500\n",
    "metric = 'euclidean'"
   ]
  },
  {
   "cell_type": "code",
   "execution_count": 3,
   "metadata": {
    "ExecuteTime": {
     "end_time": "2019-12-02T00:50:47.081979Z",
     "start_time": "2019-12-02T00:50:40.945589Z"
    }
   },
   "outputs": [
    {
     "name": "stderr",
     "output_type": "stream",
     "text": [
      "/home/hanliu/miniconda3/envs/clustering/lib/python3.7/site-packages/IPython/core/interactiveshell.py:3326: FutureWarning: The read_msgpack is deprecated and will be removed in a future version.\n",
      "It is recommended to use pyarrow for on-the-wire transmission of pandas objects.\n",
      "  exec(code_obj, self.user_global_ns, self.user_ns)\n"
     ]
    }
   ],
   "source": [
    "pca_df = pd.read_msgpack('/home/hanliu/project/mouse_rostral_brain/ATAC/Metadata/ATAC.pc50.msg')\n",
    "cell_meta = pd.read_msgpack('/home/hanliu/project/mouse_rostral_brain/ATAC/Metadata/ATAC.cell_tidy_data.msg')\n",
    "pca_df = pca_df.iloc[:, :n_pc].copy()"
   ]
  },
  {
   "cell_type": "markdown",
   "metadata": {},
   "source": [
    "## Build ANN"
   ]
  },
  {
   "cell_type": "code",
   "execution_count": 4,
   "metadata": {
    "deletable": false,
    "editable": false,
    "run_control": {
     "frozen": true
    },
    "scrolled": true
   },
   "outputs": [
    {
     "name": "stdout",
     "output_type": "stream",
     "text": [
      "GABA.CRc.CRc 814\n",
      "GABA.Cge.Cge3 2937\n",
      "GABA.Cge.Cge5 958\n",
      "GABA.Cge.Cge6 599\n",
      "GABA.Cge.CgeHip 1224\n",
      "GABA.Cge.Lamp5 6135\n",
      "GABA.Cge.Vip 5739\n",
      "GABA.Hip.Hip 5006\n",
      "GABA.Mge.Mge1 11476\n",
      "GABA.Mge.Mge10 823\n",
      "GABA.Mge.Mge11 806\n",
      "GABA.Mge.Mge12 799\n",
      "GABA.Mge.Mge2 6204\n",
      "GABA.Mge.Mge3 2362\n",
      "GABA.Mge.Mge4 2137\n",
      "GABA.Mge.Mge5 1883\n",
      "GABA.Mge.Mge6 1586\n",
      "GABA.Mge.Mge7 1494\n",
      "GABA.Mge.Mge8 1349\n",
      "GABA.Mge.Mge9 953\n",
      "GABA.Msn.D1 22710\n",
      "GABA.Msn.D2 29201\n",
      "GABA.Msn.Foxp2 11169\n",
      "GABA.Msn.MSNOLF 2600\n",
      "GABA.Mxd1.Mxd1 5708\n",
      "GABA.Olf.OBDOP 624\n",
      "GABA.Olf.OBGC 11789\n",
      "GABA.Olf.OBGLO 1450\n",
      "GABA.Olf.OBIGC 1345\n",
      "GABA.Olf.OBNBL 4215\n",
      "GABA.Sept.LSX 14881\n",
      "GABA.Sept.MA 11437\n",
      "GABA.Sept.MS 7344\n",
      "GABA.Sept.Sept1 793\n",
      "GABA.Unk.Unk 559\n",
      "Glutamate.CLA.CLA 4259\n",
      "Glutamate.CT.CT1 41381\n",
      "Glutamate.CT.CT2 1366\n",
      "Glutamate.CT.L6b 3764\n",
      "Glutamate.GC.GC 62462\n",
      "Glutamate.HIP.CA1 18101\n",
      "Glutamate.HIP.CA1p 1184\n",
      "Glutamate.HIP.CA2 1426\n",
      "Glutamate.HIP.CA3 9006\n",
      "Glutamate.HIP.CA4 1578\n",
      "Glutamate.HIP.CRc 467\n",
      "Glutamate.HIP.Mossy 955\n",
      "Glutamate.HIP.NBL 2021\n",
      "Glutamate.HIP.unk1 656\n",
      "Glutamate.HIP.unk2 354\n",
      "Glutamate.IT.L23 70236\n",
      "Glutamate.IT.L4 41460\n",
      "Glutamate.IT.L5 36460\n",
      "Glutamate.IT.L6 26598\n",
      "Glutamate.NP.NP1 7906\n",
      "Glutamate.NP.NP2 639\n",
      "Glutamate.NP.NPHIP 758\n",
      "Glutamate.PIR.OLFdeep 7409\n",
      "Glutamate.PIR.Pir1 14320\n",
      "Glutamate.PIR.Pir2 11931\n",
      "Glutamate.PIR.Pir3 10542\n",
      "Glutamate.PIR.Pir4 6339\n",
      "Glutamate.PT.Pt 11761\n",
      "Glutamate.PT.Ptlsx 519\n",
      "NonN.Asc.AscNt 5887\n",
      "NonN.Asc.AscT 90925\n",
      "NonN.Asc.Myoc 9234\n",
      "NonN.Asc.NIPC 615\n",
      "NonN.Asc.RGDG 1717\n",
      "NonN.Asc.RGSZ 4280\n",
      "NonN.Mgc.Mgc 44226\n",
      "NonN.Ogc.Cop 2998\n",
      "NonN.Ogc.Mfol 13035\n",
      "NonN.Ogc.Mol 100313\n",
      "NonN.Ogc.Nfol 1399\n",
      "NonN.Opc.Opc 35175\n",
      "NonN.Vc.Per 4318\n",
      "NonN.Vc.Vec1 8711\n",
      "NonN.Vc.Vec2 3351\n",
      "NonN.Vc.Vec3 3081\n",
      "NonN.Vc.Vec4 2041\n",
      "NonN.Vc.Vec5 1683\n",
      "NonN.Vc.Vlmc 4721\n",
      "NonN.Vc.Vpia 1446\n"
     ]
    }
   ],
   "source": [
    "for cluster, sub_df in pca_df.groupby(cell_meta['SubType']):\n",
    "    sub_df = sub_df.reset_index(drop=True)\n",
    "    print(cluster, sub_df.shape[0])\n",
    "    t = AnnoyIndex(n_pc, metric)\n",
    "    _ = sub_df.apply(lambda i: t.add_item(i.name, i.values), axis=1)\n",
    "    t.build(n_tree)\n",
    "    t.save(f'{cluster}.ann')"
   ]
  },
  {
   "cell_type": "code",
   "execution_count": 25,
   "metadata": {
    "deletable": false,
    "editable": false,
    "run_control": {
     "frozen": true
    }
   },
   "outputs": [],
   "source": [
    "total_dict = {}\n",
    "for cluster, sub_df in pca_df.groupby(cell_meta['SubType']):\n",
    "    cell_id_map = {cell_id: i for i, cell_id in enumerate(sub_df.index)}\n",
    "    total_dict[cluster] = cell_id_map\n",
    "\n",
    "import json\n",
    "with open('cell_id_to_int.json', 'w') as f:\n",
    "    json.dump(total_dict, f)"
   ]
  },
  {
   "cell_type": "markdown",
   "metadata": {},
   "source": [
    "## Choose anchor"
   ]
  },
  {
   "cell_type": "code",
   "execution_count": 4,
   "metadata": {
    "ExecuteTime": {
     "end_time": "2019-12-02T00:50:47.970206Z",
     "start_time": "2019-12-02T00:50:47.084327Z"
    }
   },
   "outputs": [],
   "source": [
    "import json\n",
    "with open('cell_id_to_int.json') as f:\n",
    "    cell_id_dict = json.load(f)"
   ]
  },
  {
   "cell_type": "code",
   "execution_count": 5,
   "metadata": {
    "ExecuteTime": {
     "end_time": "2019-12-02T00:50:47.982512Z",
     "start_time": "2019-12-02T00:50:47.973122Z"
    }
   },
   "outputs": [],
   "source": [
    "def kmeans(cluster, n_merge):\n",
    "    cell_id_map = pd.Series(cell_id_dict[cluster])\n",
    "    this_pca_df = pca_df.loc[cell_id_map.index]\n",
    "    n_cluster = this_pca_df.shape[0] // n_merge\n",
    "\n",
    "    mbk = MiniBatchKMeans(n_clusters=n_cluster,\n",
    "    init='k-means++',\n",
    "    max_iter=100,\n",
    "    batch_size=100,\n",
    "    verbose=0,\n",
    "    compute_labels=True,\n",
    "    random_state=0,\n",
    "    tol=0.0,\n",
    "    max_no_improvement=10,\n",
    "    init_size=3*n_cluster,\n",
    "    n_init=5,\n",
    "    reassignment_ratio=0.1)\n",
    "    mbk.fit(this_pca_df.values)\n",
    "\n",
    "    kmeans = pd.Series(mbk.labels_, index=this_pca_df.index)\n",
    "    cluster_counts = kmeans.value_counts()\n",
    "    cluster_counts = cluster_counts[cluster_counts > (n_merge * 0.5)]\n",
    "    use_cluster = cluster_counts.index\n",
    "    kmeans = kmeans.apply(lambda i: f'{cluster}+{i}' if i in use_cluster else -1)\n",
    "    return kmeans"
   ]
  },
  {
   "cell_type": "code",
   "execution_count": 6,
   "metadata": {
    "ExecuteTime": {
     "end_time": "2019-12-02T01:05:48.366014Z",
     "start_time": "2019-12-02T00:50:49.563090Z"
    },
    "scrolled": false
   },
   "outputs": [
    {
     "name": "stdout",
     "output_type": "stream",
     "text": [
      "Glutamate.IT.L23\n",
      "NonN.Asc.AscT\n",
      "Glutamate.CT.CT1\n",
      "Glutamate.IT.L5\n",
      "NonN.Vc.Per\n",
      "Glutamate.IT.L4\n",
      "GABA.Mge.Mge1\n",
      "Glutamate.NP.NP1\n",
      "NonN.Mgc.Mgc\n",
      "NonN.Ogc.Mol\n",
      "Glutamate.PT.Pt\n",
      "GABA.Mge.Mge2\n",
      "Glutamate.IT.L6\n",
      "Glutamate.CT.CT2\n",
      "GABA.Cge.Lamp5\n",
      "NonN.Opc.Opc\n",
      "NonN.Ogc.Mfol\n",
      "GABA.Mge.Mge9\n",
      "NonN.Vc.Vec4\n",
      "GABA.Cge.Vip\n",
      "GABA.Mge.Mge3\n",
      "NonN.Asc.Myoc\n",
      "NonN.Vc.Vec3\n",
      "NonN.Vc.Vec2\n",
      "GABA.Mge.Mge8\n",
      "NonN.Vc.Vec1\n",
      "Glutamate.CLA.CLA\n",
      "GABA.Cge.Cge3\n",
      "NonN.Ogc.Nfol\n",
      "GABA.Mge.Mge4\n",
      "GABA.Unk.Unk\n",
      "NonN.Ogc.Cop\n",
      "GABA.Mge.Mge5\n",
      "GABA.Mge.Mge11\n",
      "Glutamate.CT.L6b\n",
      "NonN.Vc.Vec5\n",
      "GABA.Sept.MS\n",
      "GABA.Mge.Mge6\n",
      "GABA.Olf.OBGC\n",
      "NonN.Vc.Vlmc\n",
      "Glutamate.NP.NP2\n",
      "NonN.Vc.Vpia\n",
      "GABA.Cge.Cge6\n",
      "GABA.Cge.Cge5\n",
      "GABA.Cge.CgeHip\n",
      "GABA.Msn.Foxp2\n",
      "GABA.Olf.OBGLO\n",
      "GABA.Mge.Mge12\n",
      "GABA.Mge.Mge7\n",
      "GABA.Olf.OBNBL\n",
      "GABA.Mxd1.Mxd1\n",
      "GABA.Olf.OBDOP\n",
      "GABA.Msn.D1\n",
      "GABA.Msn.D2\n",
      "GABA.Sept.MA\n",
      "GABA.Sept.Sept1\n",
      "NonN.Asc.AscNt\n",
      "Glutamate.PIR.Pir4\n",
      "NonN.Asc.NIPC\n",
      "Glutamate.PIR.Pir1\n",
      "NonN.Asc.RGSZ\n",
      "GABA.Msn.MSNOLF\n",
      "GABA.Sept.LSX\n",
      "GABA.Mge.Mge10\n",
      "Glutamate.PIR.Pir2\n",
      "Glutamate.PIR.OLFdeep\n",
      "Glutamate.PIR.Pir3\n",
      "Glutamate.HIP.CA2\n",
      "GABA.Olf.OBIGC\n",
      "Glutamate.PT.Ptlsx\n",
      "GABA.Hip.Hip\n",
      "GABA.CRc.CRc\n",
      "Glutamate.NP.NPHIP\n",
      "Glutamate.GC.GC\n",
      "Glutamate.HIP.Mossy\n",
      "Glutamate.HIP.CA1\n",
      "Glutamate.HIP.unk2\n",
      "Glutamate.HIP.CA1p\n",
      "Glutamate.HIP.CA3\n",
      "Glutamate.HIP.unk1\n",
      "NonN.Asc.RGDG\n",
      "Glutamate.HIP.CA4\n",
      "Glutamate.HIP.NBL\n",
      "Glutamate.HIP.CRc\n"
     ]
    }
   ],
   "source": [
    "n_merge = 20\n",
    "\n",
    "records = []\n",
    "for cluster in cell_meta['SubType'].unique():\n",
    "    kmeans_record = kmeans(cluster, n_merge)\n",
    "    records.append(kmeans_record)\n",
    "    print(cluster)"
   ]
  },
  {
   "cell_type": "code",
   "execution_count": 7,
   "metadata": {
    "ExecuteTime": {
     "end_time": "2019-12-02T01:05:48.532689Z",
     "start_time": "2019-12-02T01:05:48.368734Z"
    }
   },
   "outputs": [],
   "source": [
    "final_kmean = pd.concat(records).replace(-1, np.nan)"
   ]
  },
  {
   "cell_type": "code",
   "execution_count": 8,
   "metadata": {
    "ExecuteTime": {
     "end_time": "2019-12-02T01:05:49.575141Z",
     "start_time": "2019-12-02T01:05:48.535124Z"
    }
   },
   "outputs": [],
   "source": [
    "cell_meta['PseudoCell'] = final_kmean"
   ]
  },
  {
   "cell_type": "code",
   "execution_count": 9,
   "metadata": {
    "ExecuteTime": {
     "end_time": "2019-12-02T01:05:58.065755Z",
     "start_time": "2019-12-02T01:05:49.577318Z"
    },
    "scrolled": true
   },
   "outputs": [
    {
     "name": "stderr",
     "output_type": "stream",
     "text": [
      "/home/hanliu/miniconda3/envs/clustering/lib/python3.7/site-packages/ipykernel_launcher.py:1: FutureWarning: to_msgpack is deprecated and will be removed in a future version.\n",
      "It is recommended to use pyarrow for on-the-wire transmission of pandas objects.\n",
      "  \"\"\"Entry point for launching an IPython kernel.\n"
     ]
    }
   ],
   "source": [
    "cell_meta.to_msgpack('CellMeta.with_pseudo_cell.msg')"
   ]
  },
  {
   "cell_type": "code",
   "execution_count": null,
   "metadata": {},
   "outputs": [],
   "source": []
  },
  {
   "cell_type": "code",
   "execution_count": null,
   "metadata": {},
   "outputs": [],
   "source": []
  },
  {
   "cell_type": "code",
   "execution_count": null,
   "metadata": {},
   "outputs": [],
   "source": []
  },
  {
   "cell_type": "code",
   "execution_count": null,
   "metadata": {},
   "outputs": [],
   "source": []
  },
  {
   "cell_type": "code",
   "execution_count": null,
   "metadata": {},
   "outputs": [],
   "source": []
  },
  {
   "cell_type": "code",
   "execution_count": null,
   "metadata": {},
   "outputs": [],
   "source": []
  }
 ],
 "metadata": {
  "hide_input": false,
  "kernelspec": {
   "display_name": "Python 3",
   "language": "python",
   "name": "python3"
  },
  "language_info": {
   "codemirror_mode": {
    "name": "ipython",
    "version": 3
   },
   "file_extension": ".py",
   "mimetype": "text/x-python",
   "name": "python",
   "nbconvert_exporter": "python",
   "pygments_lexer": "ipython3",
   "version": "3.7.3"
  },
  "toc": {
   "base_numbering": 1,
   "nav_menu": {},
   "number_sections": true,
   "sideBar": true,
   "skip_h1_title": true,
   "title_cell": "Table of Contents",
   "title_sidebar": "Contents",
   "toc_cell": false,
   "toc_position": {},
   "toc_section_display": true,
   "toc_window_display": true
  }
 },
 "nbformat": 4,
 "nbformat_minor": 2
}
