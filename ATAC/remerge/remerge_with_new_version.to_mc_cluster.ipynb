{
 "cells": [
  {
   "cell_type": "code",
   "execution_count": 1,
   "metadata": {
    "ExecuteTime": {
     "end_time": "2020-02-13T22:56:11.734546Z",
     "start_time": "2020-02-13T22:56:11.521079Z"
    }
   },
   "outputs": [],
   "source": [
    "from cemba_data.atac.bigwig import frag_to_bw_batch\n",
    "from cemba_data.atac.dump_fragment_bed import dump_frags\n",
    "import pandas as pd\n",
    "import pathlib\n",
    "from concurrent.futures import ProcessPoolExecutor, as_completed\n",
    "import subprocess"
   ]
  },
  {
   "cell_type": "markdown",
   "metadata": {},
   "source": [
    "## Make Cell Table - ATAC SubType"
   ]
  },
  {
   "cell_type": "code",
   "execution_count": 2,
   "metadata": {
    "ExecuteTime": {
     "end_time": "2020-02-13T22:56:15.789265Z",
     "start_time": "2020-02-13T22:56:11.736458Z"
    }
   },
   "outputs": [
    {
     "name": "stderr",
     "output_type": "stream",
     "text": [
      "/home/hanliu/miniconda3/envs/clustering/lib/python3.7/site-packages/IPython/core/interactiveshell.py:3326: FutureWarning: The read_msgpack is deprecated and will be removed in a future version.\n",
      "It is recommended to use pyarrow for on-the-wire transmission of pandas objects.\n",
      "  exec(code_obj, self.user_global_ns, self.user_ns)\n"
     ]
    }
   ],
   "source": [
    "atac_cell_tidy_data = pd.read_msgpack('../Metadata/ATAC.cell_tidy_data.v2.msg')\n",
    "atac_cell_tidy_data[['sample', 'barcode', 'SubType']].to_csv('CellTable.subtype.csv', index=None)"
   ]
  },
  {
   "cell_type": "markdown",
   "metadata": {
    "ExecuteTime": {
     "end_time": "2020-02-13T06:42:15.141907Z",
     "start_time": "2020-02-13T06:42:14.108653Z"
    }
   },
   "source": [
    "## Dump fragments - ATAC SubType"
   ]
  },
  {
   "cell_type": "code",
   "execution_count": 3,
   "metadata": {
    "ExecuteTime": {
     "end_time": "2020-02-13T22:56:15.861367Z",
     "start_time": "2020-02-13T22:56:15.791565Z"
    }
   },
   "outputs": [],
   "source": [
    "sample_snap_dir = pathlib.Path('/gale/raidix/rdx-4/CEMBA_ATAC/snap/')\n",
    "snap_dict = {i.name.split('.')[0]: str(i) for i in sample_snap_dir.glob('*.snap')}\n",
    "pd.Series(snap_dict).reset_index().to_csv('SnapPath.csv', index=None, header=None)"
   ]
  },
  {
   "cell_type": "code",
   "execution_count": null,
   "metadata": {
    "ExecuteTime": {
     "start_time": "2020-02-13T06:47:31.651Z"
    },
    "deletable": false,
    "editable": false,
    "run_control": {
     "frozen": true
    }
   },
   "outputs": [],
   "source": [
    "cpu = 40\n",
    "cell_group_path = 'CellTable.subtype.csv'\n",
    "output_dir_path = str(pathlib.Path().absolute())\n",
    "sample_snap_path = 'SnapPath.csv'\n",
    "\n",
    "# extract cluster fragments\n",
    "frag_bed_path_list = dump_frags(cell_group_path,\n",
    "                                output_dir_path,\n",
    "                                sample_snap_path,\n",
    "                                cpu=cpu)"
   ]
  },
  {
   "cell_type": "markdown",
   "metadata": {},
   "source": [
    "## Merge fragments to mC SubTypes"
   ]
  },
  {
   "cell_type": "code",
   "execution_count": 4,
   "metadata": {
    "ExecuteTime": {
     "end_time": "2020-02-13T22:56:15.865433Z",
     "start_time": "2020-02-13T22:56:15.862828Z"
    }
   },
   "outputs": [],
   "source": [
    "import json\n",
    "with open(\n",
    "        '/home/hanliu/project/mouse_rostral_brain/metadata/label_transfer_to_atac_new_version/mC-ATAC.SubType.json'\n",
    ") as f:\n",
    "    sub_type_to_atac = json.load(f)"
   ]
  },
  {
   "cell_type": "code",
   "execution_count": 5,
   "metadata": {
    "ExecuteTime": {
     "end_time": "2020-02-13T22:56:15.871207Z",
     "start_time": "2020-02-13T22:56:15.866798Z"
    }
   },
   "outputs": [],
   "source": [
    "input_dir = pathlib.Path('SubType/').absolute()\n",
    "output_dir = pathlib.Path('mCSubType/').absolute()\n",
    "atac_input_dict = {'.'.join(p.name.split('.')[:-2]): str(p) for p in input_dir.glob('*bed.gz')}"
   ]
  },
  {
   "cell_type": "code",
   "execution_count": null,
   "metadata": {
    "ExecuteTime": {
     "start_time": "2020-02-13T19:48:35.638Z"
    },
    "deletable": false,
    "editable": false,
    "run_control": {
     "frozen": true
    }
   },
   "outputs": [],
   "source": [
    "with ProcessPoolExecutor(10) as pool:    \n",
    "    fs = []\n",
    "    for mc_subtype, atac_subtype_list in sub_type_to_atac.items():\n",
    "        cmd_l = ['zcat']\n",
    "        for atac_cluster in atac_subtype_list:\n",
    "            cmd_l.append(atac_input_dict[atac_cluster])\n",
    "        cmd = ' '.join(cmd_l)\n",
    "        cmd += f\" | bgzip -c > {output_dir}/{mc_subtype.replace(' ', '_')}.bed.gz\"\n",
    "        f=pool.submit(subprocess.run, cmd, shell=True, check=True)\n",
    "    \n",
    "    for f in as_completed(fs):\n",
    "        r = f.result()"
   ]
  },
  {
   "cell_type": "markdown",
   "metadata": {},
   "source": [
    "## Bed to bigwig"
   ]
  },
  {
   "cell_type": "code",
   "execution_count": 6,
   "metadata": {
    "ExecuteTime": {
     "end_time": "2020-02-13T22:56:15.878107Z",
     "start_time": "2020-02-13T22:56:15.872537Z"
    }
   },
   "outputs": [],
   "source": [
    "frag_bed_path_list = [\n",
    "    i for i in list(output_dir.glob('*bed.gz'))\n",
    "    if not (output_dir / (i.name[:-6] + 'bw')).exists()\n",
    "]\n",
    "chrom_size_path = '/home/hanliu/ref/mouse/genome/fasta/raw/mm10.chrom.sizes'"
   ]
  },
  {
   "cell_type": "code",
   "execution_count": null,
   "metadata": {
    "ExecuteTime": {
     "start_time": "2020-02-13T22:56:07.725Z"
    },
    "deletable": false,
    "editable": false,
    "run_control": {
     "frozen": true
    },
    "scrolled": true
   },
   "outputs": [
    {
     "name": "stdout",
     "output_type": "stream",
     "text": [
      "Sort fragment\n",
      "Sort fragment\n",
      "Sort fragment\n",
      "Sort fragment\n",
      "Sort fragment\n",
      "Sort fragment\n",
      "Sort fragment\n",
      "Sort fragment\n",
      "Sort fragment\n",
      "Sort fragment\n",
      "Sort fragment\n",
      "Sort fragment\n",
      "Sort fragment\n",
      "Sort fragment\n",
      "Sort fragment\n",
      "Sort fragment\n",
      "Sort fragment\n",
      "Sort fragment\n",
      "Sort fragment\n",
      "Sort fragment\n",
      "Calculate COV\n",
      "Generate bigwig\n",
      "Sort fragment\n"
     ]
    }
   ],
   "source": [
    "frag_to_bw_batch(frag_bed_path_list, chrom_size_path, remove_temp=True, cpu=20)"
   ]
  },
  {
   "cell_type": "code",
   "execution_count": null,
   "metadata": {},
   "outputs": [],
   "source": []
  },
  {
   "cell_type": "code",
   "execution_count": null,
   "metadata": {},
   "outputs": [],
   "source": []
  }
 ],
 "metadata": {
  "hide_input": false,
  "kernelspec": {
   "display_name": "Python 3",
   "language": "python",
   "name": "python3"
  },
  "language_info": {
   "codemirror_mode": {
    "name": "ipython",
    "version": 3
   },
   "file_extension": ".py",
   "mimetype": "text/x-python",
   "name": "python",
   "nbconvert_exporter": "python",
   "pygments_lexer": "ipython3",
   "version": "3.7.3"
  },
  "toc": {
   "base_numbering": 1,
   "nav_menu": {},
   "number_sections": true,
   "sideBar": true,
   "skip_h1_title": true,
   "title_cell": "Table of Contents",
   "title_sidebar": "Contents",
   "toc_cell": false,
   "toc_position": {},
   "toc_section_display": true,
   "toc_window_display": true
  }
 },
 "nbformat": 4,
 "nbformat_minor": 2
}
